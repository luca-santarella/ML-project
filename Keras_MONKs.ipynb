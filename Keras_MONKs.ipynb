{
 "cells": [
  {
   "cell_type": "code",
   "metadata": {
    "colab": {
     "base_uri": "https://localhost:8080/"
    },
    "id": "psGOiyOk9daM",
    "outputId": "fe870f38-eaf8-4b9b-99c8-7a2583eec1ce",
    "cell_id": "fb52ba30-bd48-4e9c-a675-9d2b509e1014",
    "deepnote_cell_type": "code"
   },
   "source": "!pip install -q -U keras-tuner",
   "outputs": [
    {
     "output_type": "stream",
     "name": "stdout",
     "text": "\u001b[?25l\r\u001b[K     |███▍                            | 10 kB 22.0 MB/s eta 0:00:01\r\u001b[K     |██████▊                         | 20 kB 28.3 MB/s eta 0:00:01\r\u001b[K     |██████████                      | 30 kB 14.8 MB/s eta 0:00:01\r\u001b[K     |█████████████▍                  | 40 kB 10.5 MB/s eta 0:00:01\r\u001b[K     |████████████████▊               | 51 kB 9.0 MB/s eta 0:00:01\r\u001b[K     |████████████████████            | 61 kB 8.7 MB/s eta 0:00:01\r\u001b[K     |███████████████████████▍        | 71 kB 8.6 MB/s eta 0:00:01\r\u001b[K     |██████████████████████████▊     | 81 kB 9.5 MB/s eta 0:00:01\r\u001b[K     |██████████████████████████████  | 92 kB 8.2 MB/s eta 0:00:01\r\u001b[K     |████████████████████████████████| 98 kB 4.1 MB/s \n\u001b[?25h"
    }
   ],
   "execution_count": null
  },
  {
   "cell_type": "code",
   "metadata": {
    "tags": [],
    "deepnote_to_be_reexecuted": false,
    "source_hash": "74d72b7c",
    "execution_start": 1642971244798,
    "execution_millis": 3913,
    "deepnote_output_heights": [
     611
    ],
    "output_cleared": true,
    "id": "W1gYM0Ph6ja4",
    "cell_id": "00001-677b3a66-326c-4ac5-84a3-157ddb024308",
    "deepnote_cell_type": "code"
   },
   "source": "import pandas as pd\nimport numpy as np\nimport matplotlib.pyplot as plt\nimport keras_tuner as kt\nimport tensorflow as tf\n\nfrom tensorflow.keras.models import Sequential\nfrom tensorflow.keras import layers, activations\nfrom tensorflow.keras import initializers\nfrom tensorflow.keras import regularizers\nfrom tensorflow.keras import backend as K\nfrom tensorflow.keras import optimizers\nfrom tensorflow.keras import utils\n\nfrom sklearn.preprocessing import OneHotEncoder\n",
   "outputs": [],
   "execution_count": null
  },
  {
   "cell_type": "markdown",
   "source": "# Load data",
   "metadata": {
    "tags": [],
    "is_collapsed": false,
    "id": "Gzz8IOoR6ja7",
    "cell_id": "00002-da5ff639-7d22-4e85-a3e9-8d514a6fa01a",
    "deepnote_cell_type": "text-cell-h1"
   }
  },
  {
   "cell_type": "code",
   "metadata": {
    "tags": [],
    "deepnote_to_be_reexecuted": false,
    "source_hash": "14ca8feb",
    "execution_start": 1642971269896,
    "execution_millis": 231,
    "output_cleared": false,
    "id": "wvas9d_56ja7",
    "outputId": "6c219f2d-1bd6-4771-a916-45420233c265",
    "cell_id": "00003-c37681a7-c6d3-4530-8bf5-58fc9ba9edc1",
    "deepnote_cell_type": "code"
   },
   "source": "colnames = ['class', 'a1', 'a2', 'a3', 'a4', 'a5', 'a6', 'id']\ndf_monk1_train = pd.read_csv(\"./data/MONK/monks-1.train\", sep = \" \", skipinitialspace=True, names = colnames)\ndf_monk1_train.drop('id', axis = 1, inplace = True)\ndf_monk1_test = pd.read_csv(\"./data/MONK/monks-1.test\", sep = \" \", skipinitialspace=True, names = colnames)\ndf_monk1_test.drop('id', axis = 1, inplace = True)\ndf_monk1_train.head()",
   "outputs": [
    {
     "output_type": "execute_result",
     "execution_count": 6,
     "data": {
      "application/vnd.deepnote.dataframe.v3+json": {
       "column_count": 7,
       "row_count": 5,
       "columns": [
        {
         "name": "class",
         "dtype": "int64",
         "stats": {
          "unique_count": 1,
          "nan_count": 0,
          "min": "1",
          "max": "1",
          "histogram": [
           {
            "bin_start": 0.5,
            "bin_end": 0.6,
            "count": 0
           },
           {
            "bin_start": 0.6,
            "bin_end": 0.7,
            "count": 0
           },
           {
            "bin_start": 0.7,
            "bin_end": 0.8,
            "count": 0
           },
           {
            "bin_start": 0.8,
            "bin_end": 0.9,
            "count": 0
           },
           {
            "bin_start": 0.9,
            "bin_end": 1,
            "count": 0
           },
           {
            "bin_start": 1,
            "bin_end": 1.1,
            "count": 5
           },
           {
            "bin_start": 1.1,
            "bin_end": 1.2000000000000002,
            "count": 0
           },
           {
            "bin_start": 1.2000000000000002,
            "bin_end": 1.3,
            "count": 0
           },
           {
            "bin_start": 1.3,
            "bin_end": 1.4,
            "count": 0
           },
           {
            "bin_start": 1.4,
            "bin_end": 1.5,
            "count": 0
           }
          ]
         }
        },
        {
         "name": "a1",
         "dtype": "int64",
         "stats": {
          "unique_count": 1,
          "nan_count": 0,
          "min": "1",
          "max": "1",
          "histogram": [
           {
            "bin_start": 0.5,
            "bin_end": 0.6,
            "count": 0
           },
           {
            "bin_start": 0.6,
            "bin_end": 0.7,
            "count": 0
           },
           {
            "bin_start": 0.7,
            "bin_end": 0.8,
            "count": 0
           },
           {
            "bin_start": 0.8,
            "bin_end": 0.9,
            "count": 0
           },
           {
            "bin_start": 0.9,
            "bin_end": 1,
            "count": 0
           },
           {
            "bin_start": 1,
            "bin_end": 1.1,
            "count": 5
           },
           {
            "bin_start": 1.1,
            "bin_end": 1.2000000000000002,
            "count": 0
           },
           {
            "bin_start": 1.2000000000000002,
            "bin_end": 1.3,
            "count": 0
           },
           {
            "bin_start": 1.3,
            "bin_end": 1.4,
            "count": 0
           },
           {
            "bin_start": 1.4,
            "bin_end": 1.5,
            "count": 0
           }
          ]
         }
        },
        {
         "name": "a2",
         "dtype": "int64",
         "stats": {
          "unique_count": 1,
          "nan_count": 0,
          "min": "1",
          "max": "1",
          "histogram": [
           {
            "bin_start": 0.5,
            "bin_end": 0.6,
            "count": 0
           },
           {
            "bin_start": 0.6,
            "bin_end": 0.7,
            "count": 0
           },
           {
            "bin_start": 0.7,
            "bin_end": 0.8,
            "count": 0
           },
           {
            "bin_start": 0.8,
            "bin_end": 0.9,
            "count": 0
           },
           {
            "bin_start": 0.9,
            "bin_end": 1,
            "count": 0
           },
           {
            "bin_start": 1,
            "bin_end": 1.1,
            "count": 5
           },
           {
            "bin_start": 1.1,
            "bin_end": 1.2000000000000002,
            "count": 0
           },
           {
            "bin_start": 1.2000000000000002,
            "bin_end": 1.3,
            "count": 0
           },
           {
            "bin_start": 1.3,
            "bin_end": 1.4,
            "count": 0
           },
           {
            "bin_start": 1.4,
            "bin_end": 1.5,
            "count": 0
           }
          ]
         }
        },
        {
         "name": "a3",
         "dtype": "int64",
         "stats": {
          "unique_count": 2,
          "nan_count": 0,
          "min": "1",
          "max": "2",
          "histogram": [
           {
            "bin_start": 1,
            "bin_end": 1.1,
            "count": 4
           },
           {
            "bin_start": 1.1,
            "bin_end": 1.2,
            "count": 0
           },
           {
            "bin_start": 1.2,
            "bin_end": 1.3,
            "count": 0
           },
           {
            "bin_start": 1.3,
            "bin_end": 1.4,
            "count": 0
           },
           {
            "bin_start": 1.4,
            "bin_end": 1.5,
            "count": 0
           },
           {
            "bin_start": 1.5,
            "bin_end": 1.6,
            "count": 0
           },
           {
            "bin_start": 1.6,
            "bin_end": 1.7000000000000002,
            "count": 0
           },
           {
            "bin_start": 1.7000000000000002,
            "bin_end": 1.8,
            "count": 0
           },
           {
            "bin_start": 1.8,
            "bin_end": 1.9,
            "count": 0
           },
           {
            "bin_start": 1.9,
            "bin_end": 2,
            "count": 1
           }
          ]
         }
        },
        {
         "name": "a4",
         "dtype": "int64",
         "stats": {
          "unique_count": 2,
          "nan_count": 0,
          "min": "1",
          "max": "3",
          "histogram": [
           {
            "bin_start": 1,
            "bin_end": 1.2,
            "count": 3
           },
           {
            "bin_start": 1.2,
            "bin_end": 1.4,
            "count": 0
           },
           {
            "bin_start": 1.4,
            "bin_end": 1.6,
            "count": 0
           },
           {
            "bin_start": 1.6,
            "bin_end": 1.8,
            "count": 0
           },
           {
            "bin_start": 1.8,
            "bin_end": 2,
            "count": 0
           },
           {
            "bin_start": 2,
            "bin_end": 2.2,
            "count": 0
           },
           {
            "bin_start": 2.2,
            "bin_end": 2.4000000000000004,
            "count": 0
           },
           {
            "bin_start": 2.4000000000000004,
            "bin_end": 2.6,
            "count": 0
           },
           {
            "bin_start": 2.6,
            "bin_end": 2.8,
            "count": 0
           },
           {
            "bin_start": 2.8,
            "bin_end": 3,
            "count": 2
           }
          ]
         }
        },
        {
         "name": "a5",
         "dtype": "int64",
         "stats": {
          "unique_count": 2,
          "nan_count": 0,
          "min": "2",
          "max": "3",
          "histogram": [
           {
            "bin_start": 2,
            "bin_end": 2.1,
            "count": 2
           },
           {
            "bin_start": 2.1,
            "bin_end": 2.2,
            "count": 0
           },
           {
            "bin_start": 2.2,
            "bin_end": 2.3,
            "count": 0
           },
           {
            "bin_start": 2.3,
            "bin_end": 2.4,
            "count": 0
           },
           {
            "bin_start": 2.4,
            "bin_end": 2.5,
            "count": 0
           },
           {
            "bin_start": 2.5,
            "bin_end": 2.6,
            "count": 0
           },
           {
            "bin_start": 2.6,
            "bin_end": 2.7,
            "count": 0
           },
           {
            "bin_start": 2.7,
            "bin_end": 2.8,
            "count": 0
           },
           {
            "bin_start": 2.8,
            "bin_end": 2.9,
            "count": 0
           },
           {
            "bin_start": 2.9,
            "bin_end": 3,
            "count": 3
           }
          ]
         }
        },
        {
         "name": "a6",
         "dtype": "int64",
         "stats": {
          "unique_count": 2,
          "nan_count": 0,
          "min": "1",
          "max": "2",
          "histogram": [
           {
            "bin_start": 1,
            "bin_end": 1.1,
            "count": 3
           },
           {
            "bin_start": 1.1,
            "bin_end": 1.2,
            "count": 0
           },
           {
            "bin_start": 1.2,
            "bin_end": 1.3,
            "count": 0
           },
           {
            "bin_start": 1.3,
            "bin_end": 1.4,
            "count": 0
           },
           {
            "bin_start": 1.4,
            "bin_end": 1.5,
            "count": 0
           },
           {
            "bin_start": 1.5,
            "bin_end": 1.6,
            "count": 0
           },
           {
            "bin_start": 1.6,
            "bin_end": 1.7000000000000002,
            "count": 0
           },
           {
            "bin_start": 1.7000000000000002,
            "bin_end": 1.8,
            "count": 0
           },
           {
            "bin_start": 1.8,
            "bin_end": 1.9,
            "count": 0
           },
           {
            "bin_start": 1.9,
            "bin_end": 2,
            "count": 2
           }
          ]
         }
        },
        {
         "name": "_deepnote_index_column",
         "dtype": "int64"
        }
       ],
       "rows": [
        {
         "class": 1,
         "a1": 1,
         "a2": 1,
         "a3": 1,
         "a4": 1,
         "a5": 3,
         "a6": 1,
         "_deepnote_index_column": 0
        },
        {
         "class": 1,
         "a1": 1,
         "a2": 1,
         "a3": 1,
         "a4": 1,
         "a5": 3,
         "a6": 2,
         "_deepnote_index_column": 1
        },
        {
         "class": 1,
         "a1": 1,
         "a2": 1,
         "a3": 1,
         "a4": 3,
         "a5": 2,
         "a6": 1,
         "_deepnote_index_column": 2
        },
        {
         "class": 1,
         "a1": 1,
         "a2": 1,
         "a3": 1,
         "a4": 3,
         "a5": 3,
         "a6": 2,
         "_deepnote_index_column": 3
        },
        {
         "class": 1,
         "a1": 1,
         "a2": 1,
         "a3": 2,
         "a4": 1,
         "a5": 2,
         "a6": 1,
         "_deepnote_index_column": 4
        }
       ]
      },
      "text/plain": "   class  a1  a2  a3  a4  a5  a6\n0      1   1   1   1   1   3   1\n1      1   1   1   1   1   3   2\n2      1   1   1   1   3   2   1\n3      1   1   1   1   3   3   2\n4      1   1   1   2   1   2   1",
      "text/html": "<div>\n<style scoped>\n    .dataframe tbody tr th:only-of-type {\n        vertical-align: middle;\n    }\n\n    .dataframe tbody tr th {\n        vertical-align: top;\n    }\n\n    .dataframe thead th {\n        text-align: right;\n    }\n</style>\n<table border=\"1\" class=\"dataframe\">\n  <thead>\n    <tr style=\"text-align: right;\">\n      <th></th>\n      <th>class</th>\n      <th>a1</th>\n      <th>a2</th>\n      <th>a3</th>\n      <th>a4</th>\n      <th>a5</th>\n      <th>a6</th>\n    </tr>\n  </thead>\n  <tbody>\n    <tr>\n      <th>0</th>\n      <td>1</td>\n      <td>1</td>\n      <td>1</td>\n      <td>1</td>\n      <td>1</td>\n      <td>3</td>\n      <td>1</td>\n    </tr>\n    <tr>\n      <th>1</th>\n      <td>1</td>\n      <td>1</td>\n      <td>1</td>\n      <td>1</td>\n      <td>1</td>\n      <td>3</td>\n      <td>2</td>\n    </tr>\n    <tr>\n      <th>2</th>\n      <td>1</td>\n      <td>1</td>\n      <td>1</td>\n      <td>1</td>\n      <td>3</td>\n      <td>2</td>\n      <td>1</td>\n    </tr>\n    <tr>\n      <th>3</th>\n      <td>1</td>\n      <td>1</td>\n      <td>1</td>\n      <td>1</td>\n      <td>3</td>\n      <td>3</td>\n      <td>2</td>\n    </tr>\n    <tr>\n      <th>4</th>\n      <td>1</td>\n      <td>1</td>\n      <td>1</td>\n      <td>2</td>\n      <td>1</td>\n      <td>2</td>\n      <td>1</td>\n    </tr>\n  </tbody>\n</table>\n</div>"
     },
     "metadata": {}
    }
   ],
   "execution_count": null
  },
  {
   "cell_type": "code",
   "metadata": {
    "tags": [],
    "deepnote_to_be_reexecuted": false,
    "source_hash": "a98aacc6",
    "execution_start": 1642971272129,
    "execution_millis": 4,
    "output_cleared": false,
    "id": "DHSIcj0I6ja9",
    "cell_id": "00004-9afafc7a-f57a-4fd0-aba6-0580921e1ace",
    "deepnote_cell_type": "code"
   },
   "source": "#get attributes and target values\nX_all = df_monk1_train.iloc[:, 1:7].values\ny_all = df_monk1_train.iloc[:, 0].values\nX_test = df_monk1_test.iloc[:, 1:7].values\ny_test = df_monk1_test.iloc[:, 0].values",
   "outputs": [],
   "execution_count": null
  },
  {
   "cell_type": "markdown",
   "source": "# One hot encoding ",
   "metadata": {
    "tags": [],
    "is_collapsed": false,
    "id": "icMYYmZs6ja9",
    "cell_id": "00005-6b4a8094-a18a-454c-9dc3-400d77168e13",
    "deepnote_cell_type": "text-cell-h1"
   }
  },
  {
   "cell_type": "code",
   "metadata": {
    "tags": [],
    "deepnote_to_be_reexecuted": false,
    "source_hash": "57d719ec",
    "execution_start": 1642971274652,
    "execution_millis": 1,
    "deepnote_output_heights": [
     null,
     30.399993896484375
    ],
    "output_cleared": true,
    "id": "eL1nOJpb6ja-",
    "cell_id": "00006-9e40df6e-cfb3-4b7e-bc9a-f001b30abec8",
    "deepnote_cell_type": "code"
   },
   "source": "def one_hot_encoder(X_all, X_test):\n    enc_all = OneHotEncoder()\n    enc_all.fit(X_all)\n    X_all = enc_all.transform(X_all).toarray()\n    \n    enc_test = OneHotEncoder()\n    enc_test.fit(X_test)\n    X_test = enc_test.transform(X_test).toarray()\n    return X_all, X_test",
   "outputs": [],
   "execution_count": null
  },
  {
   "cell_type": "markdown",
   "source": "# Shuffle data",
   "metadata": {
    "tags": [],
    "is_collapsed": false,
    "id": "z_S5BWru6ja-",
    "cell_id": "00007-cce393dd-0c9b-466e-9557-1d003c579aef",
    "deepnote_cell_type": "text-cell-h1"
   }
  },
  {
   "cell_type": "code",
   "metadata": {
    "tags": [],
    "deepnote_to_be_reexecuted": false,
    "source_hash": "a89e6810",
    "execution_start": 1642971276692,
    "execution_millis": 5,
    "output_cleared": false,
    "id": "wvsiOa736ja_",
    "outputId": "72aef304-14c1-4b61-b0ef-12fd7d43211a",
    "cell_id": "00008-667f0935-73d2-44c2-8992-730678a58f69",
    "deepnote_cell_type": "code"
   },
   "source": "from sklearn.utils import shuffle\nX_all, y_all = shuffle(X_all, y_all)\nX_all, X_test = one_hot_encoder(X_all, X_test)\nval_size =int(0.2 * len(X_all))\nX_val = X_all[:val_size]\ny_val = y_all[:val_size]\nX_train = X_all[val_size:]\ny_train = y_all[val_size:]\nprint(X_val.shape)\nprint(X_train.shape)\nprint(X_test.shape)\nprint(X_train[0])",
   "outputs": [
    {
     "name": "stdout",
     "text": "(24, 17)\n(100, 17)\n(432, 17)\n[0. 0. 1. 0. 1. 0. 0. 1. 0. 0. 1. 0. 0. 0. 1. 1. 0.]\n",
     "output_type": "stream"
    }
   ],
   "execution_count": null
  },
  {
   "cell_type": "markdown",
   "source": "# Define the model",
   "metadata": {
    "tags": [],
    "is_collapsed": false,
    "id": "Qppy5PAZ6jbA",
    "cell_id": "00009-b05976d2-5f83-43e2-b8e6-83c2f4484e49",
    "deepnote_cell_type": "text-cell-h1"
   }
  },
  {
   "cell_type": "code",
   "metadata": {
    "tags": [],
    "deepnote_to_be_reexecuted": false,
    "source_hash": "8c84ce11",
    "execution_start": 1642971282776,
    "execution_millis": 67,
    "deepnote_output_heights": [
     21.1875
    ],
    "output_cleared": false,
    "id": "PJajOiPa6jbA",
    "outputId": "22067345-4891-4f12-f687-4e04ed2efb67",
    "cell_id": "00010-8bb57bdf-65e4-4d72-acd5-da7fd55041fd",
    "deepnote_cell_type": "code"
   },
   "source": "#define a model architecture and set the ranges for the values of the hyperparameters\ndef build_model(hp):\n    model = Sequential()\n    model.add(layers.Dense(hp.Int('units', min_value=3, max_value=15, step=3), activation='relu'))\n    model.add(layers.Dense(1, activation=\"sigmoid\"))\n    hp_learning_rate = hp.Float('learning_rate', min_value=0.01, max_value=1, step=0.02)\n    hp_momentum = hp.Choice('momentum', values=[0.8, 0.85, 0.9, 0.95])\n    model.compile(optimizer=optimizers.SGD(learning_rate=hp_learning_rate, momentum=hp_momentum), loss='mse', metrics=['accuracy'])\n    return model\n\n\nbuild_model(kt.HyperParameters())\n",
   "outputs": [
    {
     "output_type": "execute_result",
     "execution_count": 10,
     "data": {
      "text/plain": "<tensorflow.python.keras.engine.sequential.Sequential at 0x7f81485a2710>"
     },
     "metadata": {}
    }
   ],
   "execution_count": null
  },
  {
   "cell_type": "code",
   "metadata": {
    "tags": [],
    "deepnote_to_be_reexecuted": false,
    "source_hash": "17a10b9b",
    "execution_start": 1642971286769,
    "execution_millis": 574,
    "output_cleared": false,
    "id": "WigOpF9e6jbB",
    "outputId": "aedb5339-ab3a-4940-da20-2913ff0614ae",
    "cell_id": "00011-a73bf87e-a349-42fa-9469-276636709c9f",
    "deepnote_cell_type": "code"
   },
   "source": "tuner = kt.RandomSearch(\n    hypermodel = build_model,\n    objective='val_loss',\n    max_trials=100,\n    overwrite=True,\n)\ntuner.search_space_summary()\n",
   "outputs": [
    {
     "name": "stdout",
     "text": "Search space summary\nDefault search space size: 3\nunits (Int)\n{'default': None, 'conditions': [], 'min_value': 3, 'max_value': 15, 'step': 3, 'sampling': None}\nlearning_rate (Float)\n{'default': 0.01, 'conditions': [], 'min_value': 0.01, 'max_value': 1.0, 'step': 0.02, 'sampling': None}\nmomentum (Choice)\n{'default': 0.8, 'conditions': [], 'values': [0.8, 0.85, 0.9, 0.95], 'ordered': True}\n",
     "output_type": "stream"
    }
   ],
   "execution_count": null
  },
  {
   "cell_type": "code",
   "metadata": {
    "tags": [],
    "deepnote_to_be_reexecuted": false,
    "source_hash": "f7b4736a",
    "execution_start": 1642935478780,
    "execution_millis": 3603577,
    "output_cleared": false,
    "id": "wNBPs9pP6jbB",
    "cell_id": "00012-12a4fca9-559d-49c3-b1f1-8a6791c76c74",
    "deepnote_cell_type": "code"
   },
   "source": "tuner.search(X_train, y_train, epochs=150, verbose=0, batch_size=32, validation_data=(X_val, y_val) )\nhyperparameters = tuner.get_best_hyperparameters()[0]\n\nmodel = build_model(hyperparameters)\nmodel.build(input_shape=(None, 17))\nprint(model.summary())\nprint(hyperparameters.get('learning_rate'))\nprint(hyperparameters.get('momentum'))\n",
   "outputs": [],
   "execution_count": null
  },
  {
   "cell_type": "code",
   "metadata": {
    "tags": [],
    "deepnote_to_be_reexecuted": false,
    "source_hash": "5f798566",
    "execution_start": 1642939082353,
    "execution_millis": 54906,
    "deepnote_output_heights": [
     null,
     280,
     280,
     null,
     280,
     280
    ],
    "output_cleared": false,
    "id": "6dW1mu046jbC",
    "cell_id": "00013-a00df5a7-18f6-43fa-9912-fc545972a6a5",
    "deepnote_cell_type": "code"
   },
   "source": "train_loss = []\ntest_loss =[]\ntrain_acc = []\ntest_acc = []\n\nfor i in range(150):\n    history = model.fit( X_all, y_all, batch_size=32, verbose=0)\n    train_loss.append(history.history['loss'])\n    train_acc.append(history.history['accuracy'])\n    score = model.evaluate(X_test, y_test)\n    test_loss.append(score[0])\n    test_acc.append(score[1])\n",
   "outputs": [],
   "execution_count": null
  },
  {
   "cell_type": "code",
   "metadata": {
    "tags": [],
    "deepnote_to_be_reexecuted": false,
    "source_hash": "d3f21740",
    "execution_start": 1642939137266,
    "execution_millis": 2089,
    "deepnote_output_heights": [
     null,
     521,
     521
    ],
    "output_cleared": false,
    "id": "ioOBjYXw6jbC",
    "cell_id": "00014-47eb7878-d848-4559-90f3-eec6d6365c3e",
    "deepnote_cell_type": "code"
   },
   "source": "print(\"loss and accuracy on training\")\nprint(train_loss[149])\nprint(train_acc[149])\nprint(\"loss and accuracy on tes\")\nprint(test_loss[149])\nprint(test_acc[149])\n\nplt.figure(figsize=(10,8))\nplt.plot(train_loss, '-', label='train')\nplt.plot(test_loss, '-.', label='test')\nplt.legend(fontsize=20)\nplt.xticks(fontsize=20)\nplt.yticks(fontsize=20)\nplt.ylabel('Loss (MSE)', fontsize=20) \nplt.xlabel('Epoch', fontsize=20);\nplt.title('Loss on MONK1', fontsize=20)\nplt.show()\n\nplt.figure(figsize=(10,8))\nplt.plot(train_acc, '-', label='train')\nplt.plot(test_acc, '-.', label='test')\nplt.legend(fontsize=20)\nplt.xticks(fontsize=20)\nplt.yticks(fontsize=20)\nplt.ylabel('Loss (MSE)', fontsize=20) \nplt.xlabel('Epoch', fontsize=20);\nplt.title('Accuracy on MONK1', fontsize=20)\nplt.show()",
   "outputs": [],
   "execution_count": null
  },
  {
   "cell_type": "markdown",
   "source": "# Monk2",
   "metadata": {
    "tags": [],
    "is_collapsed": false,
    "id": "BYBERJLH6jbD",
    "cell_id": "00015-3465959a-6be3-4b9b-a31b-476f21eb69df",
    "deepnote_cell_type": "text-cell-h1"
   }
  },
  {
   "cell_type": "code",
   "metadata": {
    "tags": [],
    "deepnote_to_be_reexecuted": false,
    "source_hash": "505667e8",
    "execution_start": 1642971298381,
    "execution_millis": 41,
    "deepnote_output_heights": [
     177
    ],
    "output_cleared": false,
    "id": "GiqMf2gF6jbD",
    "outputId": "df56fd00-70b3-4f05-dc64-06e1662f277e",
    "cell_id": "00016-157a9c57-0d3b-4199-ba7f-d499c4991ba5",
    "deepnote_cell_type": "code"
   },
   "source": "#load datasets\ncolnames = ['class', 'a1', 'a2', 'a3', 'a4', 'a5', 'a6', 'id']\ndf_monk2_train = pd.read_csv(\"./data/MONK/monks-2.train\", sep = \" \", skipinitialspace=True, names = colnames)\ndf_monk2_train.drop('id', axis = 1, inplace = True)\ndf_monk2_test = pd.read_csv(\"./data/MONK/monks-2.test\", sep = \" \", skipinitialspace=True, names = colnames)\ndf_monk2_test.drop('id', axis = 1, inplace = True)\ndf_monk2_train.head()\n",
   "outputs": [
    {
     "output_type": "execute_result",
     "execution_count": 12,
     "data": {
      "application/vnd.deepnote.dataframe.v3+json": {
       "column_count": 7,
       "row_count": 5,
       "columns": [
        {
         "name": "class",
         "dtype": "int64",
         "stats": {
          "unique_count": 1,
          "nan_count": 0,
          "min": "0",
          "max": "0",
          "histogram": [
           {
            "bin_start": -0.5,
            "bin_end": -0.4,
            "count": 0
           },
           {
            "bin_start": -0.4,
            "bin_end": -0.3,
            "count": 0
           },
           {
            "bin_start": -0.3,
            "bin_end": -0.19999999999999996,
            "count": 0
           },
           {
            "bin_start": -0.19999999999999996,
            "bin_end": -0.09999999999999998,
            "count": 0
           },
           {
            "bin_start": -0.09999999999999998,
            "bin_end": 0,
            "count": 0
           },
           {
            "bin_start": 0,
            "bin_end": 0.10000000000000009,
            "count": 5
           },
           {
            "bin_start": 0.10000000000000009,
            "bin_end": 0.20000000000000007,
            "count": 0
           },
           {
            "bin_start": 0.20000000000000007,
            "bin_end": 0.30000000000000004,
            "count": 0
           },
           {
            "bin_start": 0.30000000000000004,
            "bin_end": 0.4,
            "count": 0
           },
           {
            "bin_start": 0.4,
            "bin_end": 0.5,
            "count": 0
           }
          ]
         }
        },
        {
         "name": "a1",
         "dtype": "int64",
         "stats": {
          "unique_count": 1,
          "nan_count": 0,
          "min": "1",
          "max": "1",
          "histogram": [
           {
            "bin_start": 0.5,
            "bin_end": 0.6,
            "count": 0
           },
           {
            "bin_start": 0.6,
            "bin_end": 0.7,
            "count": 0
           },
           {
            "bin_start": 0.7,
            "bin_end": 0.8,
            "count": 0
           },
           {
            "bin_start": 0.8,
            "bin_end": 0.9,
            "count": 0
           },
           {
            "bin_start": 0.9,
            "bin_end": 1,
            "count": 0
           },
           {
            "bin_start": 1,
            "bin_end": 1.1,
            "count": 5
           },
           {
            "bin_start": 1.1,
            "bin_end": 1.2000000000000002,
            "count": 0
           },
           {
            "bin_start": 1.2000000000000002,
            "bin_end": 1.3,
            "count": 0
           },
           {
            "bin_start": 1.3,
            "bin_end": 1.4,
            "count": 0
           },
           {
            "bin_start": 1.4,
            "bin_end": 1.5,
            "count": 0
           }
          ]
         }
        },
        {
         "name": "a2",
         "dtype": "int64",
         "stats": {
          "unique_count": 1,
          "nan_count": 0,
          "min": "1",
          "max": "1",
          "histogram": [
           {
            "bin_start": 0.5,
            "bin_end": 0.6,
            "count": 0
           },
           {
            "bin_start": 0.6,
            "bin_end": 0.7,
            "count": 0
           },
           {
            "bin_start": 0.7,
            "bin_end": 0.8,
            "count": 0
           },
           {
            "bin_start": 0.8,
            "bin_end": 0.9,
            "count": 0
           },
           {
            "bin_start": 0.9,
            "bin_end": 1,
            "count": 0
           },
           {
            "bin_start": 1,
            "bin_end": 1.1,
            "count": 5
           },
           {
            "bin_start": 1.1,
            "bin_end": 1.2000000000000002,
            "count": 0
           },
           {
            "bin_start": 1.2000000000000002,
            "bin_end": 1.3,
            "count": 0
           },
           {
            "bin_start": 1.3,
            "bin_end": 1.4,
            "count": 0
           },
           {
            "bin_start": 1.4,
            "bin_end": 1.5,
            "count": 0
           }
          ]
         }
        },
        {
         "name": "a3",
         "dtype": "int64",
         "stats": {
          "unique_count": 1,
          "nan_count": 0,
          "min": "1",
          "max": "1",
          "histogram": [
           {
            "bin_start": 0.5,
            "bin_end": 0.6,
            "count": 0
           },
           {
            "bin_start": 0.6,
            "bin_end": 0.7,
            "count": 0
           },
           {
            "bin_start": 0.7,
            "bin_end": 0.8,
            "count": 0
           },
           {
            "bin_start": 0.8,
            "bin_end": 0.9,
            "count": 0
           },
           {
            "bin_start": 0.9,
            "bin_end": 1,
            "count": 0
           },
           {
            "bin_start": 1,
            "bin_end": 1.1,
            "count": 5
           },
           {
            "bin_start": 1.1,
            "bin_end": 1.2000000000000002,
            "count": 0
           },
           {
            "bin_start": 1.2000000000000002,
            "bin_end": 1.3,
            "count": 0
           },
           {
            "bin_start": 1.3,
            "bin_end": 1.4,
            "count": 0
           },
           {
            "bin_start": 1.4,
            "bin_end": 1.5,
            "count": 0
           }
          ]
         }
        },
        {
         "name": "a4",
         "dtype": "int64",
         "stats": {
          "unique_count": 2,
          "nan_count": 0,
          "min": "1",
          "max": "2",
          "histogram": [
           {
            "bin_start": 1,
            "bin_end": 1.1,
            "count": 2
           },
           {
            "bin_start": 1.1,
            "bin_end": 1.2,
            "count": 0
           },
           {
            "bin_start": 1.2,
            "bin_end": 1.3,
            "count": 0
           },
           {
            "bin_start": 1.3,
            "bin_end": 1.4,
            "count": 0
           },
           {
            "bin_start": 1.4,
            "bin_end": 1.5,
            "count": 0
           },
           {
            "bin_start": 1.5,
            "bin_end": 1.6,
            "count": 0
           },
           {
            "bin_start": 1.6,
            "bin_end": 1.7000000000000002,
            "count": 0
           },
           {
            "bin_start": 1.7000000000000002,
            "bin_end": 1.8,
            "count": 0
           },
           {
            "bin_start": 1.8,
            "bin_end": 1.9,
            "count": 0
           },
           {
            "bin_start": 1.9,
            "bin_end": 2,
            "count": 3
           }
          ]
         }
        },
        {
         "name": "a5",
         "dtype": "int64",
         "stats": {
          "unique_count": 3,
          "nan_count": 0,
          "min": "1",
          "max": "4",
          "histogram": [
           {
            "bin_start": 1,
            "bin_end": 1.3,
            "count": 2
           },
           {
            "bin_start": 1.3,
            "bin_end": 1.6,
            "count": 0
           },
           {
            "bin_start": 1.6,
            "bin_end": 1.9,
            "count": 0
           },
           {
            "bin_start": 1.9,
            "bin_end": 2.2,
            "count": 2
           },
           {
            "bin_start": 2.2,
            "bin_end": 2.5,
            "count": 0
           },
           {
            "bin_start": 2.5,
            "bin_end": 2.8,
            "count": 0
           },
           {
            "bin_start": 2.8,
            "bin_end": 3.1,
            "count": 0
           },
           {
            "bin_start": 3.1,
            "bin_end": 3.4,
            "count": 0
           },
           {
            "bin_start": 3.4,
            "bin_end": 3.6999999999999997,
            "count": 0
           },
           {
            "bin_start": 3.6999999999999997,
            "bin_end": 4,
            "count": 1
           }
          ]
         }
        },
        {
         "name": "a6",
         "dtype": "int64",
         "stats": {
          "unique_count": 2,
          "nan_count": 0,
          "min": "1",
          "max": "2",
          "histogram": [
           {
            "bin_start": 1,
            "bin_end": 1.1,
            "count": 3
           },
           {
            "bin_start": 1.1,
            "bin_end": 1.2,
            "count": 0
           },
           {
            "bin_start": 1.2,
            "bin_end": 1.3,
            "count": 0
           },
           {
            "bin_start": 1.3,
            "bin_end": 1.4,
            "count": 0
           },
           {
            "bin_start": 1.4,
            "bin_end": 1.5,
            "count": 0
           },
           {
            "bin_start": 1.5,
            "bin_end": 1.6,
            "count": 0
           },
           {
            "bin_start": 1.6,
            "bin_end": 1.7000000000000002,
            "count": 0
           },
           {
            "bin_start": 1.7000000000000002,
            "bin_end": 1.8,
            "count": 0
           },
           {
            "bin_start": 1.8,
            "bin_end": 1.9,
            "count": 0
           },
           {
            "bin_start": 1.9,
            "bin_end": 2,
            "count": 2
           }
          ]
         }
        },
        {
         "name": "_deepnote_index_column",
         "dtype": "int64"
        }
       ],
       "rows": [
        {
         "class": 0,
         "a1": 1,
         "a2": 1,
         "a3": 1,
         "a4": 1,
         "a5": 2,
         "a6": 2,
         "_deepnote_index_column": 0
        },
        {
         "class": 0,
         "a1": 1,
         "a2": 1,
         "a3": 1,
         "a4": 1,
         "a5": 4,
         "a6": 1,
         "_deepnote_index_column": 1
        },
        {
         "class": 0,
         "a1": 1,
         "a2": 1,
         "a3": 1,
         "a4": 2,
         "a5": 1,
         "a6": 1,
         "_deepnote_index_column": 2
        },
        {
         "class": 0,
         "a1": 1,
         "a2": 1,
         "a3": 1,
         "a4": 2,
         "a5": 1,
         "a6": 2,
         "_deepnote_index_column": 3
        },
        {
         "class": 0,
         "a1": 1,
         "a2": 1,
         "a3": 1,
         "a4": 2,
         "a5": 2,
         "a6": 1,
         "_deepnote_index_column": 4
        }
       ]
      },
      "text/plain": "   class  a1  a2  a3  a4  a5  a6\n0      0   1   1   1   1   2   2\n1      0   1   1   1   1   4   1\n2      0   1   1   1   2   1   1\n3      0   1   1   1   2   1   2\n4      0   1   1   1   2   2   1",
      "text/html": "<div>\n<style scoped>\n    .dataframe tbody tr th:only-of-type {\n        vertical-align: middle;\n    }\n\n    .dataframe tbody tr th {\n        vertical-align: top;\n    }\n\n    .dataframe thead th {\n        text-align: right;\n    }\n</style>\n<table border=\"1\" class=\"dataframe\">\n  <thead>\n    <tr style=\"text-align: right;\">\n      <th></th>\n      <th>class</th>\n      <th>a1</th>\n      <th>a2</th>\n      <th>a3</th>\n      <th>a4</th>\n      <th>a5</th>\n      <th>a6</th>\n    </tr>\n  </thead>\n  <tbody>\n    <tr>\n      <th>0</th>\n      <td>0</td>\n      <td>1</td>\n      <td>1</td>\n      <td>1</td>\n      <td>1</td>\n      <td>2</td>\n      <td>2</td>\n    </tr>\n    <tr>\n      <th>1</th>\n      <td>0</td>\n      <td>1</td>\n      <td>1</td>\n      <td>1</td>\n      <td>1</td>\n      <td>4</td>\n      <td>1</td>\n    </tr>\n    <tr>\n      <th>2</th>\n      <td>0</td>\n      <td>1</td>\n      <td>1</td>\n      <td>1</td>\n      <td>2</td>\n      <td>1</td>\n      <td>1</td>\n    </tr>\n    <tr>\n      <th>3</th>\n      <td>0</td>\n      <td>1</td>\n      <td>1</td>\n      <td>1</td>\n      <td>2</td>\n      <td>1</td>\n      <td>2</td>\n    </tr>\n    <tr>\n      <th>4</th>\n      <td>0</td>\n      <td>1</td>\n      <td>1</td>\n      <td>1</td>\n      <td>2</td>\n      <td>2</td>\n      <td>1</td>\n    </tr>\n  </tbody>\n</table>\n</div>"
     },
     "metadata": {}
    }
   ],
   "execution_count": null
  },
  {
   "cell_type": "code",
   "metadata": {
    "tags": [],
    "deepnote_to_be_reexecuted": false,
    "source_hash": "6d8cf70f",
    "execution_start": 1642971300884,
    "execution_millis": 4,
    "output_cleared": true,
    "id": "AEFV2KVR6jbE",
    "cell_id": "00017-27ae9e4f-e68b-4504-b1cf-3c850aaebe82",
    "deepnote_cell_type": "code"
   },
   "source": "#get attribute and target values\nX_all = df_monk2_train.iloc[:, 1:7].values\ny_all = df_monk2_train.iloc[:, 0].values\nX_test = df_monk2_test.iloc[:, 1:7].values\ny_test = df_monk2_test.iloc[:, 0].values",
   "outputs": [],
   "execution_count": null
  },
  {
   "cell_type": "markdown",
   "source": "# Shuffle data and one hot encoding",
   "metadata": {
    "tags": [],
    "is_collapsed": false,
    "id": "7jZHxMWG6jbE",
    "cell_id": "00018-631d2001-c529-4e5a-a738-e9356ac915ac",
    "deepnote_cell_type": "text-cell-h1"
   }
  },
  {
   "cell_type": "code",
   "metadata": {
    "tags": [],
    "deepnote_to_be_reexecuted": false,
    "source_hash": "a89e6810",
    "execution_start": 1642971302767,
    "execution_millis": 7,
    "output_cleared": false,
    "id": "z4NGKzGH6jbE",
    "outputId": "4c67f1ed-a49d-42af-a101-0800a7be45cb",
    "cell_id": "00019-3e694661-07de-41cf-a07a-913a4301acef",
    "deepnote_cell_type": "code"
   },
   "source": "from sklearn.utils import shuffle\nX_all, y_all = shuffle(X_all, y_all)\nX_all, X_test = one_hot_encoder(X_all, X_test)\nval_size =int(0.2 * len(X_all))\nX_val = X_all[:val_size]\ny_val = y_all[:val_size]\nX_train = X_all[val_size:]\ny_train = y_all[val_size:]\nprint(X_val.shape)\nprint(X_train.shape)\nprint(X_test.shape)\nprint(X_train[0])",
   "outputs": [
    {
     "name": "stdout",
     "text": "(33, 17)\n(136, 17)\n(432, 17)\n[1. 0. 0. 1. 0. 0. 0. 1. 1. 0. 0. 1. 0. 0. 0. 1. 0.]\n",
     "output_type": "stream"
    }
   ],
   "execution_count": null
  },
  {
   "cell_type": "code",
   "metadata": {
    "tags": [],
    "deepnote_to_be_reexecuted": false,
    "source_hash": "9bd62ff9",
    "execution_start": 1642971305344,
    "execution_millis": 19,
    "output_cleared": false,
    "id": "vttBI_t16jbF",
    "outputId": "b85c03db-59a6-4ba0-e62b-96a80f47aeb1",
    "cell_id": "00020-4d06855f-21f0-4b1c-a572-f69cf3d5fc0e",
    "deepnote_cell_type": "code"
   },
   "source": "tuner = kt.RandomSearch(\n    hypermodel = build_model,\n    objective='val_accuracy',\n    max_trials=100,\n    overwrite=True,\n)\ntuner.search_space_summary()",
   "outputs": [
    {
     "name": "stdout",
     "text": "Search space summary\nDefault search space size: 3\nunits (Int)\n{'default': None, 'conditions': [], 'min_value': 3, 'max_value': 15, 'step': 3, 'sampling': None}\nlearning_rate (Float)\n{'default': 0.01, 'conditions': [], 'min_value': 0.01, 'max_value': 1.0, 'step': 0.02, 'sampling': None}\nmomentum (Choice)\n{'default': 0.8, 'conditions': [], 'values': [0.8, 0.85, 0.9, 0.95], 'ordered': True}\n",
     "output_type": "stream"
    }
   ],
   "execution_count": null
  },
  {
   "cell_type": "markdown",
   "source": "# Search for best hyperparameters",
   "metadata": {
    "tags": [],
    "is_collapsed": false,
    "id": "uRTapU4H6jbF",
    "cell_id": "00021-bb0e4718-f0c5-4e1e-9812-0fc983600e57",
    "deepnote_cell_type": "text-cell-h1"
   }
  },
  {
   "cell_type": "code",
   "metadata": {
    "tags": [],
    "deepnote_to_be_reexecuted": false,
    "source_hash": "fc2929fd",
    "execution_start": 1642971308308,
    "execution_millis": 467772,
    "output_cleared": false,
    "id": "EgIf9zQO6jbF",
    "cell_id": "00022-830cbd6e-cb73-4290-944e-39e332257210",
    "deepnote_cell_type": "code"
   },
   "source": "\ntuner.search(X_train, y_train, epochs=150, verbose=0, batch_size=32, validation_data=(X_val, y_val) )\nhyperparameters = tuner.get_best_hyperparameters()[0]\nmodel = build_model(hyperparameters)\nmodel.build(input_shape=(None, 17))\nprint(model.summary())\nprint(hyperparameters.get('learning_rate'))\nprint(hyperparameters.get('momentum'))",
   "outputs": [],
   "execution_count": null
  },
  {
   "cell_type": "markdown",
   "source": "# Retrain model and evaluate",
   "metadata": {
    "tags": [],
    "is_collapsed": false,
    "id": "zuh7dMhP6jbF",
    "cell_id": "00023-7c61d429-403a-4844-8952-f948fd1811ef",
    "deepnote_cell_type": "text-cell-h1"
   }
  },
  {
   "cell_type": "code",
   "metadata": {
    "tags": [],
    "deepnote_to_be_reexecuted": false,
    "source_hash": "7d5acd1",
    "execution_start": 1642971787531,
    "execution_millis": 11967,
    "deepnote_output_heights": [
     null,
     280,
     280
    ],
    "output_cleared": false,
    "id": "cB8krp_46jbG",
    "cell_id": "00024-c1ff6aba-63cd-4532-b19e-22c98221fc8a",
    "deepnote_cell_type": "code"
   },
   "source": "train_loss = []\ntest_loss =[]\ntrain_acc = []\ntest_acc = []\n\nfor i in range(150):\n    history = model.fit( X_all, y_all, batch_size=32, verbose=0)\n    train_loss.append(history.history['loss'])\n    train_acc.append(history.history['accuracy'])\n    score = model.evaluate(X_test, y_test)\n    test_loss.append(score[0])\n    test_acc.append(score[1])",
   "outputs": [],
   "execution_count": null
  },
  {
   "cell_type": "code",
   "metadata": {
    "tags": [],
    "deepnote_to_be_reexecuted": false,
    "source_hash": "84321c1e",
    "execution_start": 1642971810481,
    "execution_millis": 560,
    "deepnote_output_heights": [
     null,
     521,
     521
    ],
    "output_cleared": false,
    "id": "e4qAbpKH6jbG",
    "cell_id": "00025-c76b7e10-2b33-4fcc-86f3-0d659e6de62a",
    "deepnote_cell_type": "code"
   },
   "source": "print(\"loss and accuracy on training\")\nprint(train_loss[149])\nprint(train_acc[149])\nprint(\"loss and accuracy on tes\")\nprint(test_loss[149])\nprint(test_acc[149])\n\nplt.figure(figsize=(10,8))\nplt.plot(train_loss, '-', label='train')\nplt.plot(test_loss, '-.', label='test')\nplt.legend(fontsize=20)\nplt.xticks(fontsize=20)\nplt.yticks(fontsize=20)\nplt.ylabel('Loss (MSE)', fontsize=20) \nplt.xlabel('Epoch', fontsize=20);\nplt.title('Loss on MONK2', fontsize=20)\nplt.show()\n\nplt.figure(figsize=(10,8))\nplt.plot(train_acc, '-', label='train')\nplt.plot(test_acc, '-.', label='test')\nplt.legend(fontsize=20)\nplt.xticks(fontsize=20)\nplt.yticks(fontsize=20)\nplt.ylabel('Loss (MSE)', fontsize=20) \nplt.xlabel('Epoch', fontsize=20);\nplt.title('Accuracy on MONK2', fontsize=20)\nplt.show()",
   "outputs": [],
   "execution_count": null
  },
  {
   "cell_type": "markdown",
   "source": "# Monk 3",
   "metadata": {
    "tags": [],
    "is_collapsed": false,
    "id": "v78gMrGU6jbG",
    "cell_id": "00026-bb3cacd3-3d45-4bab-aef1-3c8ee87a055a",
    "deepnote_cell_type": "text-cell-h1"
   }
  },
  {
   "cell_type": "code",
   "metadata": {
    "tags": [],
    "deepnote_to_be_reexecuted": false,
    "source_hash": "f24b190e",
    "execution_start": 1642942036953,
    "execution_millis": 215,
    "output_cleared": false,
    "id": "lu-lsSpn6jbG",
    "outputId": "06b954f6-5690-491e-dc47-2e91ad358208",
    "cell_id": "00027-8d7ad0f0-25ee-4a3f-91ca-c55d37ca6d8a",
    "deepnote_cell_type": "code"
   },
   "source": "#load datasets\ncolnames = ['class', 'a1', 'a2', 'a3', 'a4', 'a5', 'a6', 'id']\ndf_monk3_train = pd.read_csv(\"./data/MONK/monks-3.train\", sep = \" \", skipinitialspace=True, names = colnames)\ndf_monk3_train.drop('id', axis = 1, inplace = True)\ndf_monk3_test = pd.read_csv(\"./data/MONK/monks-3.test\", sep = \" \", skipinitialspace=True, names = colnames)\ndf_monk3_test.drop('id', axis = 1, inplace = True)\ndf_monk3_train.head()",
   "outputs": [
    {
     "output_type": "execute_result",
     "execution_count": 18,
     "data": {
      "application/vnd.deepnote.dataframe.v3+json": {
       "column_count": 7,
       "row_count": 5,
       "columns": [
        {
         "name": "class",
         "dtype": "int64",
         "stats": {
          "unique_count": 2,
          "nan_count": 0,
          "min": "0",
          "max": "1",
          "histogram": [
           {
            "bin_start": 0,
            "bin_end": 0.1,
            "count": 2
           },
           {
            "bin_start": 0.1,
            "bin_end": 0.2,
            "count": 0
           },
           {
            "bin_start": 0.2,
            "bin_end": 0.30000000000000004,
            "count": 0
           },
           {
            "bin_start": 0.30000000000000004,
            "bin_end": 0.4,
            "count": 0
           },
           {
            "bin_start": 0.4,
            "bin_end": 0.5,
            "count": 0
           },
           {
            "bin_start": 0.5,
            "bin_end": 0.6000000000000001,
            "count": 0
           },
           {
            "bin_start": 0.6000000000000001,
            "bin_end": 0.7000000000000001,
            "count": 0
           },
           {
            "bin_start": 0.7000000000000001,
            "bin_end": 0.8,
            "count": 0
           },
           {
            "bin_start": 0.8,
            "bin_end": 0.9,
            "count": 0
           },
           {
            "bin_start": 0.9,
            "bin_end": 1,
            "count": 3
           }
          ]
         }
        },
        {
         "name": "a1",
         "dtype": "int64",
         "stats": {
          "unique_count": 1,
          "nan_count": 0,
          "min": "1",
          "max": "1",
          "histogram": [
           {
            "bin_start": 0.5,
            "bin_end": 0.6,
            "count": 0
           },
           {
            "bin_start": 0.6,
            "bin_end": 0.7,
            "count": 0
           },
           {
            "bin_start": 0.7,
            "bin_end": 0.8,
            "count": 0
           },
           {
            "bin_start": 0.8,
            "bin_end": 0.9,
            "count": 0
           },
           {
            "bin_start": 0.9,
            "bin_end": 1,
            "count": 0
           },
           {
            "bin_start": 1,
            "bin_end": 1.1,
            "count": 5
           },
           {
            "bin_start": 1.1,
            "bin_end": 1.2000000000000002,
            "count": 0
           },
           {
            "bin_start": 1.2000000000000002,
            "bin_end": 1.3,
            "count": 0
           },
           {
            "bin_start": 1.3,
            "bin_end": 1.4,
            "count": 0
           },
           {
            "bin_start": 1.4,
            "bin_end": 1.5,
            "count": 0
           }
          ]
         }
        },
        {
         "name": "a2",
         "dtype": "int64",
         "stats": {
          "unique_count": 1,
          "nan_count": 0,
          "min": "1",
          "max": "1",
          "histogram": [
           {
            "bin_start": 0.5,
            "bin_end": 0.6,
            "count": 0
           },
           {
            "bin_start": 0.6,
            "bin_end": 0.7,
            "count": 0
           },
           {
            "bin_start": 0.7,
            "bin_end": 0.8,
            "count": 0
           },
           {
            "bin_start": 0.8,
            "bin_end": 0.9,
            "count": 0
           },
           {
            "bin_start": 0.9,
            "bin_end": 1,
            "count": 0
           },
           {
            "bin_start": 1,
            "bin_end": 1.1,
            "count": 5
           },
           {
            "bin_start": 1.1,
            "bin_end": 1.2000000000000002,
            "count": 0
           },
           {
            "bin_start": 1.2000000000000002,
            "bin_end": 1.3,
            "count": 0
           },
           {
            "bin_start": 1.3,
            "bin_end": 1.4,
            "count": 0
           },
           {
            "bin_start": 1.4,
            "bin_end": 1.5,
            "count": 0
           }
          ]
         }
        },
        {
         "name": "a3",
         "dtype": "int64",
         "stats": {
          "unique_count": 1,
          "nan_count": 0,
          "min": "1",
          "max": "1",
          "histogram": [
           {
            "bin_start": 0.5,
            "bin_end": 0.6,
            "count": 0
           },
           {
            "bin_start": 0.6,
            "bin_end": 0.7,
            "count": 0
           },
           {
            "bin_start": 0.7,
            "bin_end": 0.8,
            "count": 0
           },
           {
            "bin_start": 0.8,
            "bin_end": 0.9,
            "count": 0
           },
           {
            "bin_start": 0.9,
            "bin_end": 1,
            "count": 0
           },
           {
            "bin_start": 1,
            "bin_end": 1.1,
            "count": 5
           },
           {
            "bin_start": 1.1,
            "bin_end": 1.2000000000000002,
            "count": 0
           },
           {
            "bin_start": 1.2000000000000002,
            "bin_end": 1.3,
            "count": 0
           },
           {
            "bin_start": 1.3,
            "bin_end": 1.4,
            "count": 0
           },
           {
            "bin_start": 1.4,
            "bin_end": 1.5,
            "count": 0
           }
          ]
         }
        },
        {
         "name": "a4",
         "dtype": "int64",
         "stats": {
          "unique_count": 1,
          "nan_count": 0,
          "min": "1",
          "max": "1",
          "histogram": [
           {
            "bin_start": 0.5,
            "bin_end": 0.6,
            "count": 0
           },
           {
            "bin_start": 0.6,
            "bin_end": 0.7,
            "count": 0
           },
           {
            "bin_start": 0.7,
            "bin_end": 0.8,
            "count": 0
           },
           {
            "bin_start": 0.8,
            "bin_end": 0.9,
            "count": 0
           },
           {
            "bin_start": 0.9,
            "bin_end": 1,
            "count": 0
           },
           {
            "bin_start": 1,
            "bin_end": 1.1,
            "count": 5
           },
           {
            "bin_start": 1.1,
            "bin_end": 1.2000000000000002,
            "count": 0
           },
           {
            "bin_start": 1.2000000000000002,
            "bin_end": 1.3,
            "count": 0
           },
           {
            "bin_start": 1.3,
            "bin_end": 1.4,
            "count": 0
           },
           {
            "bin_start": 1.4,
            "bin_end": 1.5,
            "count": 0
           }
          ]
         }
        },
        {
         "name": "a5",
         "dtype": "int64",
         "stats": {
          "unique_count": 4,
          "nan_count": 0,
          "min": "1",
          "max": "4",
          "histogram": [
           {
            "bin_start": 1,
            "bin_end": 1.3,
            "count": 1
           },
           {
            "bin_start": 1.3,
            "bin_end": 1.6,
            "count": 0
           },
           {
            "bin_start": 1.6,
            "bin_end": 1.9,
            "count": 0
           },
           {
            "bin_start": 1.9,
            "bin_end": 2.2,
            "count": 2
           },
           {
            "bin_start": 2.2,
            "bin_end": 2.5,
            "count": 0
           },
           {
            "bin_start": 2.5,
            "bin_end": 2.8,
            "count": 0
           },
           {
            "bin_start": 2.8,
            "bin_end": 3.1,
            "count": 1
           },
           {
            "bin_start": 3.1,
            "bin_end": 3.4,
            "count": 0
           },
           {
            "bin_start": 3.4,
            "bin_end": 3.6999999999999997,
            "count": 0
           },
           {
            "bin_start": 3.6999999999999997,
            "bin_end": 4,
            "count": 1
           }
          ]
         }
        },
        {
         "name": "a6",
         "dtype": "int64",
         "stats": {
          "unique_count": 2,
          "nan_count": 0,
          "min": "1",
          "max": "2",
          "histogram": [
           {
            "bin_start": 1,
            "bin_end": 1.1,
            "count": 3
           },
           {
            "bin_start": 1.1,
            "bin_end": 1.2,
            "count": 0
           },
           {
            "bin_start": 1.2,
            "bin_end": 1.3,
            "count": 0
           },
           {
            "bin_start": 1.3,
            "bin_end": 1.4,
            "count": 0
           },
           {
            "bin_start": 1.4,
            "bin_end": 1.5,
            "count": 0
           },
           {
            "bin_start": 1.5,
            "bin_end": 1.6,
            "count": 0
           },
           {
            "bin_start": 1.6,
            "bin_end": 1.7000000000000002,
            "count": 0
           },
           {
            "bin_start": 1.7000000000000002,
            "bin_end": 1.8,
            "count": 0
           },
           {
            "bin_start": 1.8,
            "bin_end": 1.9,
            "count": 0
           },
           {
            "bin_start": 1.9,
            "bin_end": 2,
            "count": 2
           }
          ]
         }
        },
        {
         "name": "_deepnote_index_column",
         "dtype": "int64"
        }
       ],
       "rows": [
        {
         "class": 1,
         "a1": 1,
         "a2": 1,
         "a3": 1,
         "a4": 1,
         "a5": 1,
         "a6": 2,
         "_deepnote_index_column": 0
        },
        {
         "class": 1,
         "a1": 1,
         "a2": 1,
         "a3": 1,
         "a4": 1,
         "a5": 2,
         "a6": 1,
         "_deepnote_index_column": 1
        },
        {
         "class": 1,
         "a1": 1,
         "a2": 1,
         "a3": 1,
         "a4": 1,
         "a5": 2,
         "a6": 2,
         "_deepnote_index_column": 2
        },
        {
         "class": 0,
         "a1": 1,
         "a2": 1,
         "a3": 1,
         "a4": 1,
         "a5": 3,
         "a6": 1,
         "_deepnote_index_column": 3
        },
        {
         "class": 0,
         "a1": 1,
         "a2": 1,
         "a3": 1,
         "a4": 1,
         "a5": 4,
         "a6": 1,
         "_deepnote_index_column": 4
        }
       ]
      },
      "text/plain": "   class  a1  a2  a3  a4  a5  a6\n0      1   1   1   1   1   1   2\n1      1   1   1   1   1   2   1\n2      1   1   1   1   1   2   2\n3      0   1   1   1   1   3   1\n4      0   1   1   1   1   4   1",
      "text/html": "<div>\n<style scoped>\n    .dataframe tbody tr th:only-of-type {\n        vertical-align: middle;\n    }\n\n    .dataframe tbody tr th {\n        vertical-align: top;\n    }\n\n    .dataframe thead th {\n        text-align: right;\n    }\n</style>\n<table border=\"1\" class=\"dataframe\">\n  <thead>\n    <tr style=\"text-align: right;\">\n      <th></th>\n      <th>class</th>\n      <th>a1</th>\n      <th>a2</th>\n      <th>a3</th>\n      <th>a4</th>\n      <th>a5</th>\n      <th>a6</th>\n    </tr>\n  </thead>\n  <tbody>\n    <tr>\n      <th>0</th>\n      <td>1</td>\n      <td>1</td>\n      <td>1</td>\n      <td>1</td>\n      <td>1</td>\n      <td>1</td>\n      <td>2</td>\n    </tr>\n    <tr>\n      <th>1</th>\n      <td>1</td>\n      <td>1</td>\n      <td>1</td>\n      <td>1</td>\n      <td>1</td>\n      <td>2</td>\n      <td>1</td>\n    </tr>\n    <tr>\n      <th>2</th>\n      <td>1</td>\n      <td>1</td>\n      <td>1</td>\n      <td>1</td>\n      <td>1</td>\n      <td>2</td>\n      <td>2</td>\n    </tr>\n    <tr>\n      <th>3</th>\n      <td>0</td>\n      <td>1</td>\n      <td>1</td>\n      <td>1</td>\n      <td>1</td>\n      <td>3</td>\n      <td>1</td>\n    </tr>\n    <tr>\n      <th>4</th>\n      <td>0</td>\n      <td>1</td>\n      <td>1</td>\n      <td>1</td>\n      <td>1</td>\n      <td>4</td>\n      <td>1</td>\n    </tr>\n  </tbody>\n</table>\n</div>"
     },
     "metadata": {}
    }
   ],
   "execution_count": null
  },
  {
   "cell_type": "code",
   "metadata": {
    "tags": [],
    "deepnote_to_be_reexecuted": false,
    "source_hash": "bac1fb6",
    "execution_start": 1642942037164,
    "execution_millis": 6,
    "output_cleared": true,
    "id": "dbI-_ZlP6jbH",
    "cell_id": "00028-11e06a15-3b2f-49eb-967e-3cd4030615a4",
    "deepnote_cell_type": "code"
   },
   "source": "#get attribute and target values\nX_all = df_monk3_train.iloc[:, 1:7].values\ny_all = df_monk3_train.iloc[:, 0].values\nX_test = df_monk3_test.iloc[:, 1:7].values\ny_test = df_monk3_test.iloc[:, 0].values",
   "outputs": [],
   "execution_count": null
  },
  {
   "cell_type": "code",
   "metadata": {
    "tags": [],
    "deepnote_to_be_reexecuted": false,
    "source_hash": "a89e6810",
    "execution_start": 1642942037175,
    "execution_millis": 91,
    "output_cleared": false,
    "id": "b1YsV95k6jbH",
    "outputId": "bf958e03-b40b-434a-c042-87435135ad4f",
    "cell_id": "00029-409ee557-36a3-4b82-bacc-579a208bdc2c",
    "deepnote_cell_type": "code"
   },
   "source": "from sklearn.utils import shuffle\nX_all, y_all = shuffle(X_all, y_all)\nX_all, X_test = one_hot_encoder(X_all, X_test)\nval_size =int(0.2 * len(X_all))\nX_val = X_all[:val_size]\ny_val = y_all[:val_size]\nX_train = X_all[val_size:]\ny_train = y_all[val_size:]\nprint(X_val.shape)\nprint(X_train.shape)\nprint(X_test.shape)\nprint(X_train[0])",
   "outputs": [
    {
     "name": "stdout",
     "text": "(24, 17)\n(98, 17)\n(432, 17)\n[0. 0. 1. 0. 1. 0. 0. 1. 0. 0. 1. 1. 0. 0. 0. 1. 0.]\n",
     "output_type": "stream"
    }
   ],
   "execution_count": null
  },
  {
   "cell_type": "code",
   "metadata": {
    "tags": [],
    "deepnote_to_be_reexecuted": false,
    "source_hash": "9bd62ff9",
    "execution_start": 1642942037259,
    "execution_millis": 2003,
    "output_cleared": false,
    "id": "t2ULONVb6jbH",
    "outputId": "82173662-d3c8-47a4-e29e-3ba765fc44ff",
    "cell_id": "00030-8cd801a5-8240-4069-9d4f-b118a1207d02",
    "deepnote_cell_type": "code"
   },
   "source": "tuner = kt.RandomSearch(\n    hypermodel = build_model,\n    objective='val_accuracy',\n    max_trials=100,\n    overwrite=True,\n)\ntuner.search_space_summary()",
   "outputs": [
    {
     "name": "stdout",
     "text": "Search space summary\nDefault search space size: 3\nunits (Int)\n{'default': None, 'conditions': [], 'min_value': 3, 'max_value': 15, 'step': 3, 'sampling': None}\nlearning_rate (Float)\n{'default': 0.01, 'conditions': [], 'min_value': 0.01, 'max_value': 1.0, 'step': 0.02, 'sampling': None}\nmomentum (Choice)\n{'default': 0.8, 'conditions': [], 'values': [0.8, 0.85, 0.9, 0.95], 'ordered': True}\n",
     "output_type": "stream"
    }
   ],
   "execution_count": null
  },
  {
   "cell_type": "code",
   "metadata": {
    "tags": [],
    "deepnote_to_be_reexecuted": false,
    "source_hash": "75169eb9",
    "execution_start": 1642942039259,
    "execution_millis": 3353461,
    "output_cleared": false,
    "id": "eCsqu06k6jbH",
    "cell_id": "00031-e126576b-4977-4691-96b2-41b36dc78f0d",
    "deepnote_cell_type": "code"
   },
   "source": "tuner.search(X_train, y_train, epochs=150, verbose=0, batch_size=32, validation_data=(X_val, y_val) )\nhyperparameters = tuner.get_best_hyperparameters()[0]\nmodel = build_model(hyperparameters)\nmodel.build(input_shape=(None, 17))\nprint(model.summary())\nprint(hyperparameters.get('learning_rate'))\nprint(hyperparameters.get('momentum'))",
   "outputs": [],
   "execution_count": null
  },
  {
   "cell_type": "code",
   "metadata": {
    "tags": [],
    "deepnote_to_be_reexecuted": false,
    "source_hash": "7d5acd1",
    "execution_start": 1642945392551,
    "execution_millis": 73689,
    "deepnote_output_heights": [
     null,
     null,
     280,
     280
    ],
    "output_cleared": false,
    "id": "m1H3FiGf6jbI",
    "cell_id": "00032-d7ecb2a7-f082-4938-90b6-d7b15148fbd0",
    "deepnote_cell_type": "code"
   },
   "source": "train_loss = []\ntest_loss =[]\ntrain_acc = []\ntest_acc = []\n\nfor i in range(150):\n    history = model.fit( X_all, y_all, batch_size=32, verbose=0)\n    train_loss.append(history.history['loss'])\n    train_acc.append(history.history['accuracy'])\n    score = model.evaluate(X_test, y_test)\n    test_loss.append(score[0])\n    test_acc.append(score[1])",
   "outputs": [],
   "execution_count": null
  },
  {
   "cell_type": "code",
   "metadata": {
    "tags": [],
    "deepnote_to_be_reexecuted": false,
    "source_hash": "1e83ce91",
    "execution_start": 1642945466250,
    "execution_millis": 2326,
    "deepnote_output_heights": [
     null,
     521,
     521
    ],
    "output_cleared": false,
    "id": "9qHrolC16jbI",
    "cell_id": "00033-8330547d-0740-4dd8-be3c-24123b3a6168",
    "deepnote_cell_type": "code"
   },
   "source": "print(\"loss and accuracy on training\")\nprint(train_loss[149])\nprint(train_acc[149])\nprint(\"loss and accuracy on tes\")\nprint(test_loss[149])\nprint(test_acc[149])\n\nplt.figure(figsize=(10,8))\nplt.plot(train_loss, '-', label='train')\nplt.plot(test_loss, '-.', label='test')\nplt.legend(fontsize=20)\nplt.xticks(fontsize=20)\nplt.yticks(fontsize=20)\nplt.ylabel('Loss (MSE)', fontsize=20) \nplt.xlabel('Epoch', fontsize=20);\nplt.title('Loss on MONK3', fontsize=20)\nplt.show()\n\nplt.figure(figsize=(10,8))\nplt.plot(train_acc, '-', label='train')\nplt.plot(test_acc, '-.', label='test')\nplt.legend(fontsize=20)\nplt.xticks(fontsize=20)\nplt.yticks(fontsize=20)\nplt.ylabel('Loss (MSE)', fontsize=20) \nplt.xlabel('Epoch', fontsize=20);\nplt.title('Accuracy on MONK3', fontsize=20)\nplt.show()",
   "outputs": [],
   "execution_count": null
  },
  {
   "cell_type": "markdown",
   "source": "# MONK3 with regularization\n",
   "metadata": {
    "id": "DRzqEpWU7oPd",
    "cell_id": "00034-ceb7ac25-6cc6-4938-9da6-06c3b22b125e",
    "deepnote_cell_type": "markdown"
   }
  },
  {
   "cell_type": "code",
   "metadata": {
    "colab": {
     "base_uri": "https://localhost:8080/",
     "height": 206
    },
    "id": "b6KZpPhI7nZK",
    "outputId": "9d09a6a8-6405-45ac-cc98-d50a16e87851",
    "cell_id": "00035-7ab5b93e-34e3-4020-88e2-5e8bcc43ff4a",
    "deepnote_output_heights": [
     1
    ],
    "deepnote_cell_type": "code"
   },
   "source": "#load datasets\ncolnames = ['class', 'a1', 'a2', 'a3', 'a4', 'a5', 'a6', 'id']\ndf_monk3_train = pd.read_csv(\"monks-3.train\", sep = \" \", skipinitialspace=True, names = colnames)\ndf_monk3_train.drop('id', axis = 1, inplace = True)\ndf_monk3_test = pd.read_csv(\"monks-3.test\", sep = \" \", skipinitialspace=True, names = colnames)\ndf_monk3_test.drop('id', axis = 1, inplace = True)\ndf_monk3_train.head()",
   "outputs": [
    {
     "output_type": "execute_result",
     "data": {
      "text/html": "\n  <div id=\"df-09c63d66-5e21-40e2-9cbf-590e53aef754\">\n    <div class=\"colab-df-container\">\n      <div>\n<style scoped>\n    .dataframe tbody tr th:only-of-type {\n        vertical-align: middle;\n    }\n\n    .dataframe tbody tr th {\n        vertical-align: top;\n    }\n\n    .dataframe thead th {\n        text-align: right;\n    }\n</style>\n<table border=\"1\" class=\"dataframe\">\n  <thead>\n    <tr style=\"text-align: right;\">\n      <th></th>\n      <th>class</th>\n      <th>a1</th>\n      <th>a2</th>\n      <th>a3</th>\n      <th>a4</th>\n      <th>a5</th>\n      <th>a6</th>\n    </tr>\n  </thead>\n  <tbody>\n    <tr>\n      <th>0</th>\n      <td>1</td>\n      <td>1</td>\n      <td>1</td>\n      <td>1</td>\n      <td>1</td>\n      <td>1</td>\n      <td>2</td>\n    </tr>\n    <tr>\n      <th>1</th>\n      <td>1</td>\n      <td>1</td>\n      <td>1</td>\n      <td>1</td>\n      <td>1</td>\n      <td>2</td>\n      <td>1</td>\n    </tr>\n    <tr>\n      <th>2</th>\n      <td>1</td>\n      <td>1</td>\n      <td>1</td>\n      <td>1</td>\n      <td>1</td>\n      <td>2</td>\n      <td>2</td>\n    </tr>\n    <tr>\n      <th>3</th>\n      <td>0</td>\n      <td>1</td>\n      <td>1</td>\n      <td>1</td>\n      <td>1</td>\n      <td>3</td>\n      <td>1</td>\n    </tr>\n    <tr>\n      <th>4</th>\n      <td>0</td>\n      <td>1</td>\n      <td>1</td>\n      <td>1</td>\n      <td>1</td>\n      <td>4</td>\n      <td>1</td>\n    </tr>\n  </tbody>\n</table>\n</div>\n      <button class=\"colab-df-convert\" onclick=\"convertToInteractive('df-09c63d66-5e21-40e2-9cbf-590e53aef754')\"\n              title=\"Convert this dataframe to an interactive table.\"\n              style=\"display:none;\">\n        \n  <svg xmlns=\"http://www.w3.org/2000/svg\" height=\"24px\"viewBox=\"0 0 24 24\"\n       width=\"24px\">\n    <path d=\"M0 0h24v24H0V0z\" fill=\"none\"/>\n    <path d=\"M18.56 5.44l.94 2.06.94-2.06 2.06-.94-2.06-.94-.94-2.06-.94 2.06-2.06.94zm-11 1L8.5 8.5l.94-2.06 2.06-.94-2.06-.94L8.5 2.5l-.94 2.06-2.06.94zm10 10l.94 2.06.94-2.06 2.06-.94-2.06-.94-.94-2.06-.94 2.06-2.06.94z\"/><path d=\"M17.41 7.96l-1.37-1.37c-.4-.4-.92-.59-1.43-.59-.52 0-1.04.2-1.43.59L10.3 9.45l-7.72 7.72c-.78.78-.78 2.05 0 2.83L4 21.41c.39.39.9.59 1.41.59.51 0 1.02-.2 1.41-.59l7.78-7.78 2.81-2.81c.8-.78.8-2.07 0-2.86zM5.41 20L4 18.59l7.72-7.72 1.47 1.35L5.41 20z\"/>\n  </svg>\n      </button>\n      \n  <style>\n    .colab-df-container {\n      display:flex;\n      flex-wrap:wrap;\n      gap: 12px;\n    }\n\n    .colab-df-convert {\n      background-color: #E8F0FE;\n      border: none;\n      border-radius: 50%;\n      cursor: pointer;\n      display: none;\n      fill: #1967D2;\n      height: 32px;\n      padding: 0 0 0 0;\n      width: 32px;\n    }\n\n    .colab-df-convert:hover {\n      background-color: #E2EBFA;\n      box-shadow: 0px 1px 2px rgba(60, 64, 67, 0.3), 0px 1px 3px 1px rgba(60, 64, 67, 0.15);\n      fill: #174EA6;\n    }\n\n    [theme=dark] .colab-df-convert {\n      background-color: #3B4455;\n      fill: #D2E3FC;\n    }\n\n    [theme=dark] .colab-df-convert:hover {\n      background-color: #434B5C;\n      box-shadow: 0px 1px 3px 1px rgba(0, 0, 0, 0.15);\n      filter: drop-shadow(0px 1px 2px rgba(0, 0, 0, 0.3));\n      fill: #FFFFFF;\n    }\n  </style>\n\n      <script>\n        const buttonEl =\n          document.querySelector('#df-09c63d66-5e21-40e2-9cbf-590e53aef754 button.colab-df-convert');\n        buttonEl.style.display =\n          google.colab.kernel.accessAllowed ? 'block' : 'none';\n\n        async function convertToInteractive(key) {\n          const element = document.querySelector('#df-09c63d66-5e21-40e2-9cbf-590e53aef754');\n          const dataTable =\n            await google.colab.kernel.invokeFunction('convertToInteractive',\n                                                     [key], {});\n          if (!dataTable) return;\n\n          const docLinkHtml = 'Like what you see? Visit the ' +\n            '<a target=\"_blank\" href=https://colab.research.google.com/notebooks/data_table.ipynb>data table notebook</a>'\n            + ' to learn more about interactive tables.';\n          element.innerHTML = '';\n          dataTable['output_type'] = 'display_data';\n          await google.colab.output.renderOutput(dataTable, element);\n          const docLink = document.createElement('div');\n          docLink.innerHTML = docLinkHtml;\n          element.appendChild(docLink);\n        }\n      </script>\n    </div>\n  </div>\n  ",
      "text/plain": "   class  a1  a2  a3  a4  a5  a6\n0      1   1   1   1   1   1   2\n1      1   1   1   1   1   2   1\n2      1   1   1   1   1   2   2\n3      0   1   1   1   1   3   1\n4      0   1   1   1   1   4   1"
     },
     "metadata": {},
     "execution_count": 5
    }
   ],
   "execution_count": null
  },
  {
   "cell_type": "code",
   "metadata": {
    "id": "ocwh_IOy79d_",
    "cell_id": "00036-c9325c89-dbda-4697-a80f-1535edcb2d66",
    "deepnote_cell_type": "code"
   },
   "source": "#get attribute and target values\nX_all = df_monk3_train.iloc[:, 1:7].values\ny_all = df_monk3_train.iloc[:, 0].values\nX_test = df_monk3_test.iloc[:, 1:7].values\ny_test = df_monk3_test.iloc[:, 0].values",
   "outputs": [],
   "execution_count": null
  },
  {
   "cell_type": "code",
   "metadata": {
    "colab": {
     "base_uri": "https://localhost:8080/"
    },
    "id": "Jn-_yxRJ8KQQ",
    "outputId": "b663b009-09f1-464a-8165-893a1e726cb1",
    "cell_id": "00037-5f43c778-e440-4906-8104-4aee5367a7d7",
    "deepnote_cell_type": "code"
   },
   "source": "from sklearn.utils import shuffle\nX_all, y_all = shuffle(X_all, y_all)\nX_all, X_test = one_hot_encoder(X_all, X_test)\nval_size =int(0.2 * len(X_all))\nX_val = X_all[:val_size]\ny_val = y_all[:val_size]\nX_train = X_all[val_size:]\ny_train = y_all[val_size:]\nprint(X_val.shape)\nprint(X_train.shape)\nprint(X_test.shape)\nprint(X_train[0])",
   "outputs": [
    {
     "output_type": "stream",
     "name": "stdout",
     "text": "(24, 17)\n(98, 17)\n(432, 17)\n[1. 0. 0. 0. 1. 0. 1. 0. 1. 0. 0. 0. 0. 1. 0. 1. 0.]\n"
    }
   ],
   "execution_count": null
  },
  {
   "cell_type": "code",
   "metadata": {
    "colab": {
     "base_uri": "https://localhost:8080/"
    },
    "id": "X0SXs6CH8v2F",
    "outputId": "b33ffd66-9113-4bf1-e7a4-5940cb2fe0fc",
    "cell_id": "00038-c9daff42-26ee-4d20-991f-e95003af56dc",
    "deepnote_output_heights": [
     1
    ],
    "deepnote_cell_type": "code"
   },
   "source": "def build_model(hp):\n    model = Sequential()\n    model.add(layers.Dense(hp.Int('units', min_value=3, max_value=15, step=3), activation='relu', kernel_regularizer=regularizers.l2(hp.Float('regularizer', 0.0001, 0.1, step=0.0005))))\n    model.add(layers.Dense(1, activation=\"sigmoid\"))\n    hp_learning_rate = hp.Float('learning_rate', min_value=0.01, max_value=1, step=0.02)\n    hp_momentum = hp.Choice('momentum', values=[0.8, 0.85, 0.9, 0.95])\n    model.compile(optimizer=optimizers.SGD(learning_rate=hp_learning_rate, momentum=hp_momentum), loss='mse', metrics=['accuracy'])\n    return model\n\n\nbuild_model(kt.HyperParameters())",
   "outputs": [
    {
     "output_type": "execute_result",
     "data": {
      "text/plain": "<keras.engine.sequential.Sequential at 0x7f2d075a8050>"
     },
     "metadata": {},
     "execution_count": 12
    }
   ],
   "execution_count": null
  },
  {
   "cell_type": "code",
   "metadata": {
    "colab": {
     "base_uri": "https://localhost:8080/"
    },
    "id": "R7xesOXk8Tch",
    "outputId": "e7da6f05-06c5-4b39-ed41-c6a8654be959",
    "cell_id": "00039-11b15a58-c1e6-459b-b4fd-4cb77e14e11d",
    "deepnote_cell_type": "code"
   },
   "source": "tuner = kt.RandomSearch(\n    hypermodel = build_model,\n    objective='val_accuracy',\n    max_trials=10,\n    overwrite=True,\n)\ntuner.search_space_summary()",
   "outputs": [
    {
     "output_type": "stream",
     "name": "stdout",
     "text": "Search space summary\nDefault search space size: 4\nunits (Int)\n{'default': None, 'conditions': [], 'min_value': 3, 'max_value': 15, 'step': 3, 'sampling': None}\nregularizer (Float)\n{'default': 0.0001, 'conditions': [], 'min_value': 0.0001, 'max_value': 0.1, 'step': 0.0005, 'sampling': None}\nlearning_rate (Float)\n{'default': 0.01, 'conditions': [], 'min_value': 0.01, 'max_value': 1.0, 'step': 0.02, 'sampling': None}\nmomentum (Choice)\n{'default': 0.8, 'conditions': [], 'values': [0.8, 0.85, 0.9, 0.95], 'ordered': True}\n"
    }
   ],
   "execution_count": null
  },
  {
   "cell_type": "code",
   "metadata": {
    "id": "MN1is8fz8UNy",
    "cell_id": "00040-f6e8210b-e126-43ec-8758-74ed02139934",
    "deepnote_cell_type": "code"
   },
   "source": "tuner.search(X_train, y_train, epochs=150, verbose=0, batch_size=32, validation_data=(X_val, y_val) )\nhyperparameters = tuner.get_best_hyperparameters()[0]\nmodel = build_model(hyperparameters)\nmodel.build(input_shape=(None, 17))\nprint(model.summary())\nprint(hyperparameters.get('learning_rate'))\nprint(hyperparameters.get('momentum'))\nprint(hyperparameters.get('regularizer'))",
   "outputs": [],
   "execution_count": null
  },
  {
   "cell_type": "code",
   "metadata": {
    "id": "FP8CXzlZ8g4H",
    "cell_id": "00041-12265602-cb37-4b9c-b932-f83a41ab8554",
    "deepnote_cell_type": "code"
   },
   "source": "train_loss = []\ntest_loss =[]\ntrain_acc = []\ntest_acc = []\n\nfor i in range(150):\n    history = model.fit( X_all, y_all, batch_size=32, verbose=0)\n    train_loss.append(history.history['loss'])\n    train_acc.append(history.history['accuracy'])\n    score = model.evaluate(X_test, y_test)\n    test_loss.append(score[0])\n    test_acc.append(score[1])",
   "outputs": [],
   "execution_count": null
  },
  {
   "cell_type": "code",
   "metadata": {
    "id": "C2_z2GK_8lT0",
    "cell_id": "00042-25dc0753-1ead-412e-8a35-aefa6d9f54ba",
    "deepnote_cell_type": "code"
   },
   "source": "print(\"loss and accuracy on training\")\nprint(train_loss[149])\nprint(train_acc[149])\nprint(\"loss and accuracy on tes\")\nprint(test_loss[149])\nprint(test_acc[149])\n\nplt.figure(figsize=(10,8))\nplt.plot(train_loss, '-', label='train')\nplt.plot(test_loss, '-.', label='test')\nplt.legend(fontsize=20)\nplt.xticks(fontsize=20)\nplt.yticks(fontsize=20)\nplt.ylabel('Loss (MSE)', fontsize=20) \nplt.xlabel('Epoch', fontsize=20);\nplt.title('Loss on MONK3 with regularization', fontsize=20)\nplt.show()\n\nplt.figure(figsize=(10,8))\nplt.plot(train_acc, '-', label='train')\nplt.plot(test_acc, '-.', label='test')\nplt.legend(fontsize=20)\nplt.xticks(fontsize=20)\nplt.yticks(fontsize=20)\nplt.ylabel('Loss (MSE)', fontsize=20) \nplt.xlabel('Epoch', fontsize=20);\nplt.title('Accuracy on MONK3 with regularization', fontsize=20)\nplt.show()",
   "outputs": [],
   "execution_count": null
  },
  {
   "cell_type": "markdown",
   "source": "<a style='text-decoration:none;line-height:16px;display:flex;color:#5B5B62;padding:10px;justify-content:end;' href='https://deepnote.com?utm_source=created-in-deepnote-cell&projectId=d9d840c9-75b3-4185-bb01-105f5cca8d83' target=\"_blank\">\n<img alt='Created in deepnote.com' style='display:inline;max-height:16px;margin:0px;margin-right:7.5px;' src='data:image/svg+xml;base64,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' > </img>\nCreated in <span style='font-weight:600;margin-left:4px;'>Deepnote</span></a>",
   "metadata": {
    "tags": [],
    "created_in_deepnote_cell": true,
    "deepnote_cell_type": "markdown"
   }
  }
 ],
 "nbformat": 4,
 "nbformat_minor": 0,
 "metadata": {
  "orig_nbformat": 2,
  "deepnote": {
   "is_reactive": false
  },
  "deepnote_notebook_id": "4d6655c7-5d56-48c3-b782-c0e4b531a817",
  "deepnote_execution_queue": [],
  "colab": {
   "name": "Keras_MONKs.ipynb",
   "provenance": [],
   "collapsed_sections": []
  },
  "language_info": {
   "name": "python"
  },
  "kernelspec": {
   "name": "python3",
   "display_name": "Python 3"
  }
 }
}