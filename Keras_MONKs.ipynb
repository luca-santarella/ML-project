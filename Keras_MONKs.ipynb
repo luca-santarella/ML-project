{
 "cells": [
  {
   "cell_type": "code",
   "metadata": {
    "tags": [],
    "deepnote_to_be_reexecuted": false,
    "source_hash": "74d72b7c",
    "execution_start": 1642858978142,
    "execution_millis": 10698,
    "deepnote_output_heights": [
     611
    ],
    "cell_id": "0c7e8a27-d9c8-4dc7-805b-381601adfd7a",
    "deepnote_cell_type": "code"
   },
   "source": "import pandas as pd\nimport numpy as np\nimport matplotlib.pyplot as plt\nimport keras_tuner as kt\nimport tensorflow as tf\n\nfrom tensorflow.keras.models import Sequential\nfrom tensorflow.keras import layers, activations\nfrom tensorflow.keras import initializers\nfrom tensorflow.keras import regularizers\nfrom tensorflow.keras import backend as K\nfrom tensorflow.keras import optimizers\nfrom tensorflow.keras import utils\n\nfrom sklearn.preprocessing import OneHotEncoder\n",
   "outputs": [],
   "execution_count": 2
  },
  {
   "cell_type": "markdown",
   "source": "# Load data",
   "metadata": {
    "cell_id": "dbe1ad67-3464-45fa-9bcf-3510fbdb14d0",
    "tags": [],
    "is_collapsed": false,
    "deepnote_cell_type": "text-cell-h1"
   }
  },
  {
   "cell_type": "code",
   "metadata": {
    "tags": [],
    "deepnote_to_be_reexecuted": false,
    "source_hash": "14ca8feb",
    "execution_start": 1642776248937,
    "execution_millis": 368,
    "cell_id": "00001-c73bff9d-116e-43fb-b008-57e4bf58f656",
    "deepnote_cell_type": "code"
   },
   "source": "colnames = ['class', 'a1', 'a2', 'a3', 'a4', 'a5', 'a6', 'id']\ndf_monk1_train = pd.read_csv(\"./data/MONK/monks-1.train\", sep = \" \", skipinitialspace=True, names = colnames)\ndf_monk1_train.drop('id', axis = 1, inplace = True)\ndf_monk1_test = pd.read_csv(\"./data/MONK/monks-1.test\", sep = \" \", skipinitialspace=True, names = colnames)\ndf_monk1_test.drop('id', axis = 1, inplace = True)\ndf_monk1_train.head()",
   "outputs": [
    {
     "output_type": "execute_result",
     "execution_count": 43,
     "data": {
      "application/vnd.deepnote.dataframe.v3+json": {
       "column_count": 7,
       "row_count": 5,
       "columns": [
        {
         "name": "class",
         "dtype": "int64",
         "stats": {
          "unique_count": 1,
          "nan_count": 0,
          "min": "1",
          "max": "1",
          "histogram": [
           {
            "bin_start": 0.5,
            "bin_end": 0.6,
            "count": 0
           },
           {
            "bin_start": 0.6,
            "bin_end": 0.7,
            "count": 0
           },
           {
            "bin_start": 0.7,
            "bin_end": 0.8,
            "count": 0
           },
           {
            "bin_start": 0.8,
            "bin_end": 0.9,
            "count": 0
           },
           {
            "bin_start": 0.9,
            "bin_end": 1,
            "count": 0
           },
           {
            "bin_start": 1,
            "bin_end": 1.1,
            "count": 5
           },
           {
            "bin_start": 1.1,
            "bin_end": 1.2000000000000002,
            "count": 0
           },
           {
            "bin_start": 1.2000000000000002,
            "bin_end": 1.3,
            "count": 0
           },
           {
            "bin_start": 1.3,
            "bin_end": 1.4,
            "count": 0
           },
           {
            "bin_start": 1.4,
            "bin_end": 1.5,
            "count": 0
           }
          ]
         }
        },
        {
         "name": "a1",
         "dtype": "int64",
         "stats": {
          "unique_count": 1,
          "nan_count": 0,
          "min": "1",
          "max": "1",
          "histogram": [
           {
            "bin_start": 0.5,
            "bin_end": 0.6,
            "count": 0
           },
           {
            "bin_start": 0.6,
            "bin_end": 0.7,
            "count": 0
           },
           {
            "bin_start": 0.7,
            "bin_end": 0.8,
            "count": 0
           },
           {
            "bin_start": 0.8,
            "bin_end": 0.9,
            "count": 0
           },
           {
            "bin_start": 0.9,
            "bin_end": 1,
            "count": 0
           },
           {
            "bin_start": 1,
            "bin_end": 1.1,
            "count": 5
           },
           {
            "bin_start": 1.1,
            "bin_end": 1.2000000000000002,
            "count": 0
           },
           {
            "bin_start": 1.2000000000000002,
            "bin_end": 1.3,
            "count": 0
           },
           {
            "bin_start": 1.3,
            "bin_end": 1.4,
            "count": 0
           },
           {
            "bin_start": 1.4,
            "bin_end": 1.5,
            "count": 0
           }
          ]
         }
        },
        {
         "name": "a2",
         "dtype": "int64",
         "stats": {
          "unique_count": 1,
          "nan_count": 0,
          "min": "1",
          "max": "1",
          "histogram": [
           {
            "bin_start": 0.5,
            "bin_end": 0.6,
            "count": 0
           },
           {
            "bin_start": 0.6,
            "bin_end": 0.7,
            "count": 0
           },
           {
            "bin_start": 0.7,
            "bin_end": 0.8,
            "count": 0
           },
           {
            "bin_start": 0.8,
            "bin_end": 0.9,
            "count": 0
           },
           {
            "bin_start": 0.9,
            "bin_end": 1,
            "count": 0
           },
           {
            "bin_start": 1,
            "bin_end": 1.1,
            "count": 5
           },
           {
            "bin_start": 1.1,
            "bin_end": 1.2000000000000002,
            "count": 0
           },
           {
            "bin_start": 1.2000000000000002,
            "bin_end": 1.3,
            "count": 0
           },
           {
            "bin_start": 1.3,
            "bin_end": 1.4,
            "count": 0
           },
           {
            "bin_start": 1.4,
            "bin_end": 1.5,
            "count": 0
           }
          ]
         }
        },
        {
         "name": "a3",
         "dtype": "int64",
         "stats": {
          "unique_count": 2,
          "nan_count": 0,
          "min": "1",
          "max": "2",
          "histogram": [
           {
            "bin_start": 1,
            "bin_end": 1.1,
            "count": 4
           },
           {
            "bin_start": 1.1,
            "bin_end": 1.2,
            "count": 0
           },
           {
            "bin_start": 1.2,
            "bin_end": 1.3,
            "count": 0
           },
           {
            "bin_start": 1.3,
            "bin_end": 1.4,
            "count": 0
           },
           {
            "bin_start": 1.4,
            "bin_end": 1.5,
            "count": 0
           },
           {
            "bin_start": 1.5,
            "bin_end": 1.6,
            "count": 0
           },
           {
            "bin_start": 1.6,
            "bin_end": 1.7000000000000002,
            "count": 0
           },
           {
            "bin_start": 1.7000000000000002,
            "bin_end": 1.8,
            "count": 0
           },
           {
            "bin_start": 1.8,
            "bin_end": 1.9,
            "count": 0
           },
           {
            "bin_start": 1.9,
            "bin_end": 2,
            "count": 1
           }
          ]
         }
        },
        {
         "name": "a4",
         "dtype": "int64",
         "stats": {
          "unique_count": 2,
          "nan_count": 0,
          "min": "1",
          "max": "3",
          "histogram": [
           {
            "bin_start": 1,
            "bin_end": 1.2,
            "count": 3
           },
           {
            "bin_start": 1.2,
            "bin_end": 1.4,
            "count": 0
           },
           {
            "bin_start": 1.4,
            "bin_end": 1.6,
            "count": 0
           },
           {
            "bin_start": 1.6,
            "bin_end": 1.8,
            "count": 0
           },
           {
            "bin_start": 1.8,
            "bin_end": 2,
            "count": 0
           },
           {
            "bin_start": 2,
            "bin_end": 2.2,
            "count": 0
           },
           {
            "bin_start": 2.2,
            "bin_end": 2.4000000000000004,
            "count": 0
           },
           {
            "bin_start": 2.4000000000000004,
            "bin_end": 2.6,
            "count": 0
           },
           {
            "bin_start": 2.6,
            "bin_end": 2.8,
            "count": 0
           },
           {
            "bin_start": 2.8,
            "bin_end": 3,
            "count": 2
           }
          ]
         }
        },
        {
         "name": "a5",
         "dtype": "int64",
         "stats": {
          "unique_count": 2,
          "nan_count": 0,
          "min": "2",
          "max": "3",
          "histogram": [
           {
            "bin_start": 2,
            "bin_end": 2.1,
            "count": 2
           },
           {
            "bin_start": 2.1,
            "bin_end": 2.2,
            "count": 0
           },
           {
            "bin_start": 2.2,
            "bin_end": 2.3,
            "count": 0
           },
           {
            "bin_start": 2.3,
            "bin_end": 2.4,
            "count": 0
           },
           {
            "bin_start": 2.4,
            "bin_end": 2.5,
            "count": 0
           },
           {
            "bin_start": 2.5,
            "bin_end": 2.6,
            "count": 0
           },
           {
            "bin_start": 2.6,
            "bin_end": 2.7,
            "count": 0
           },
           {
            "bin_start": 2.7,
            "bin_end": 2.8,
            "count": 0
           },
           {
            "bin_start": 2.8,
            "bin_end": 2.9,
            "count": 0
           },
           {
            "bin_start": 2.9,
            "bin_end": 3,
            "count": 3
           }
          ]
         }
        },
        {
         "name": "a6",
         "dtype": "int64",
         "stats": {
          "unique_count": 2,
          "nan_count": 0,
          "min": "1",
          "max": "2",
          "histogram": [
           {
            "bin_start": 1,
            "bin_end": 1.1,
            "count": 3
           },
           {
            "bin_start": 1.1,
            "bin_end": 1.2,
            "count": 0
           },
           {
            "bin_start": 1.2,
            "bin_end": 1.3,
            "count": 0
           },
           {
            "bin_start": 1.3,
            "bin_end": 1.4,
            "count": 0
           },
           {
            "bin_start": 1.4,
            "bin_end": 1.5,
            "count": 0
           },
           {
            "bin_start": 1.5,
            "bin_end": 1.6,
            "count": 0
           },
           {
            "bin_start": 1.6,
            "bin_end": 1.7000000000000002,
            "count": 0
           },
           {
            "bin_start": 1.7000000000000002,
            "bin_end": 1.8,
            "count": 0
           },
           {
            "bin_start": 1.8,
            "bin_end": 1.9,
            "count": 0
           },
           {
            "bin_start": 1.9,
            "bin_end": 2,
            "count": 2
           }
          ]
         }
        },
        {
         "name": "_deepnote_index_column",
         "dtype": "int64"
        }
       ],
       "rows": [
        {
         "class": 1,
         "a1": 1,
         "a2": 1,
         "a3": 1,
         "a4": 1,
         "a5": 3,
         "a6": 1,
         "_deepnote_index_column": 0
        },
        {
         "class": 1,
         "a1": 1,
         "a2": 1,
         "a3": 1,
         "a4": 1,
         "a5": 3,
         "a6": 2,
         "_deepnote_index_column": 1
        },
        {
         "class": 1,
         "a1": 1,
         "a2": 1,
         "a3": 1,
         "a4": 3,
         "a5": 2,
         "a6": 1,
         "_deepnote_index_column": 2
        },
        {
         "class": 1,
         "a1": 1,
         "a2": 1,
         "a3": 1,
         "a4": 3,
         "a5": 3,
         "a6": 2,
         "_deepnote_index_column": 3
        },
        {
         "class": 1,
         "a1": 1,
         "a2": 1,
         "a3": 2,
         "a4": 1,
         "a5": 2,
         "a6": 1,
         "_deepnote_index_column": 4
        }
       ]
      },
      "text/plain": "   class  a1  a2  a3  a4  a5  a6\n0      1   1   1   1   1   3   1\n1      1   1   1   1   1   3   2\n2      1   1   1   1   3   2   1\n3      1   1   1   1   3   3   2\n4      1   1   1   2   1   2   1",
      "text/html": "<div>\n<style scoped>\n    .dataframe tbody tr th:only-of-type {\n        vertical-align: middle;\n    }\n\n    .dataframe tbody tr th {\n        vertical-align: top;\n    }\n\n    .dataframe thead th {\n        text-align: right;\n    }\n</style>\n<table border=\"1\" class=\"dataframe\">\n  <thead>\n    <tr style=\"text-align: right;\">\n      <th></th>\n      <th>class</th>\n      <th>a1</th>\n      <th>a2</th>\n      <th>a3</th>\n      <th>a4</th>\n      <th>a5</th>\n      <th>a6</th>\n    </tr>\n  </thead>\n  <tbody>\n    <tr>\n      <th>0</th>\n      <td>1</td>\n      <td>1</td>\n      <td>1</td>\n      <td>1</td>\n      <td>1</td>\n      <td>3</td>\n      <td>1</td>\n    </tr>\n    <tr>\n      <th>1</th>\n      <td>1</td>\n      <td>1</td>\n      <td>1</td>\n      <td>1</td>\n      <td>1</td>\n      <td>3</td>\n      <td>2</td>\n    </tr>\n    <tr>\n      <th>2</th>\n      <td>1</td>\n      <td>1</td>\n      <td>1</td>\n      <td>1</td>\n      <td>3</td>\n      <td>2</td>\n      <td>1</td>\n    </tr>\n    <tr>\n      <th>3</th>\n      <td>1</td>\n      <td>1</td>\n      <td>1</td>\n      <td>1</td>\n      <td>3</td>\n      <td>3</td>\n      <td>2</td>\n    </tr>\n    <tr>\n      <th>4</th>\n      <td>1</td>\n      <td>1</td>\n      <td>1</td>\n      <td>2</td>\n      <td>1</td>\n      <td>2</td>\n      <td>1</td>\n    </tr>\n  </tbody>\n</table>\n</div>"
     },
     "metadata": {}
    }
   ],
   "execution_count": null
  },
  {
   "cell_type": "code",
   "metadata": {
    "tags": [],
    "deepnote_to_be_reexecuted": false,
    "source_hash": "a98aacc6",
    "execution_start": 1642776249299,
    "execution_millis": 15,
    "cell_id": "00002-f020971f-ac94-444e-8bd4-c2f25f6fdfe6",
    "deepnote_cell_type": "code"
   },
   "source": "#get attributes and target values\nX_all = df_monk1_train.iloc[:, 1:7].values\ny_all = df_monk1_train.iloc[:, 0].values\nX_test = df_monk1_test.iloc[:, 1:7].values\ny_test = df_monk1_test.iloc[:, 0].values",
   "outputs": [],
   "execution_count": null
  },
  {
   "cell_type": "markdown",
   "source": "# One hot encoding ",
   "metadata": {
    "tags": [],
    "is_collapsed": false,
    "cell_id": "00003-7fe90d03-98bc-4339-a900-90c28761ccfc",
    "deepnote_cell_type": "text-cell-h1"
   }
  },
  {
   "cell_type": "code",
   "metadata": {
    "tags": [],
    "deepnote_to_be_reexecuted": false,
    "source_hash": "57d719ec",
    "execution_start": 1642859030879,
    "execution_millis": 2,
    "deepnote_output_heights": [
     null,
     30.399993896484375
    ],
    "cell_id": "00004-db6f6718-41ae-41f8-acb8-cb5b277af2db",
    "deepnote_cell_type": "code"
   },
   "source": "def one_hot_encoder(X_all, X_test):\n    enc_all = OneHotEncoder()\n    enc_all.fit(X_all)\n    X_all = enc_all.transform(X_all).toarray()\n    \n    enc_test = OneHotEncoder()\n    enc_test.fit(X_test)\n    X_test = enc_test.transform(X_test).toarray()\n    return X_all, X_test",
   "outputs": [],
   "execution_count": 6
  },
  {
   "cell_type": "markdown",
   "source": "# Shuffle data",
   "metadata": {
    "tags": [],
    "is_collapsed": false,
    "cell_id": "00005-de42134a-2ce8-47ba-ace2-5b19da3c16f2",
    "deepnote_cell_type": "text-cell-h1"
   }
  },
  {
   "cell_type": "code",
   "metadata": {
    "tags": [],
    "deepnote_to_be_reexecuted": false,
    "source_hash": "a89e6810",
    "execution_start": 1642859033562,
    "execution_millis": 25,
    "cell_id": "00006-2305a9fa-731c-41cd-abc5-c2182334a0bb",
    "deepnote_cell_type": "code"
   },
   "source": "from sklearn.utils import shuffle\nX_all, y_all = shuffle(X_all, y_all)\nX_all, X_test = one_hot_encoder(X_all, X_test)\nval_size =int(0.2 * len(X_all))\nX_val = X_all[:val_size]\ny_val = y_all[:val_size]\nX_train = X_all[val_size:]\ny_train = y_all[val_size:]\nprint(X_val.shape)\nprint(X_train.shape)\nprint(X_test.shape)\nprint(X_train[0])",
   "outputs": [
    {
     "name": "stdout",
     "text": "(24, 17)\n(98, 17)\n(432, 17)\n[1. 0. 0. 1. 0. 0. 0. 1. 0. 0. 1. 1. 0. 0. 0. 0. 1.]\n",
     "output_type": "stream"
    }
   ],
   "execution_count": 7
  },
  {
   "cell_type": "markdown",
   "source": "# Define the model",
   "metadata": {
    "tags": [],
    "is_collapsed": false,
    "cell_id": "00007-071e8fee-2d0e-4b78-8359-ab06c7ec408e",
    "deepnote_cell_type": "text-cell-h1"
   }
  },
  {
   "cell_type": "code",
   "metadata": {
    "tags": [],
    "deepnote_to_be_reexecuted": false,
    "source_hash": "8c84ce11",
    "execution_start": 1642859038093,
    "execution_millis": 288,
    "deepnote_output_heights": [
     21
    ],
    "cell_id": "00008-564956ec-9b3c-4809-8d7f-b3cc59c5c06a",
    "deepnote_cell_type": "code"
   },
   "source": "#define a model architecture and set the ranges for the values of the hyperparameters\ndef build_model(hp):\n    model = Sequential()\n    model.add(layers.Dense(hp.Int('units', min_value=3, max_value=15, step=3), activation='relu'))\n    model.add(layers.Dense(1, activation=\"sigmoid\"))\n    hp_learning_rate = hp.Float('learning_rate', min_value=0.01, max_value=1, step=0.02)\n    hp_momentum = hp.Choice('momentum', values=[0.8, 0.85, 0.9, 0.95])\n    model.compile(optimizer=optimizers.SGD(learning_rate=hp_learning_rate, momentum=hp_momentum), loss='mse', metrics=['accuracy'])\n    return model\n\n\nbuild_model(kt.HyperParameters())\n",
   "outputs": [
    {
     "output_type": "execute_result",
     "execution_count": 8,
     "data": {
      "text/plain": "<tensorflow.python.keras.engine.sequential.Sequential at 0x7fee48a85750>"
     },
     "metadata": {}
    }
   ],
   "execution_count": 8
  },
  {
   "cell_type": "code",
   "metadata": {
    "tags": [],
    "deepnote_to_be_reexecuted": false,
    "source_hash": "17a10b9b",
    "execution_start": 1642859042333,
    "execution_millis": 1017,
    "cell_id": "00009-08bde302-3b19-434f-9596-3c8d80c80228",
    "deepnote_cell_type": "code"
   },
   "source": "tuner = kt.RandomSearch(\n    hypermodel = build_model,\n    #MyHyperModel(),\n    objective='val_loss',\n    max_trials=100,\n    overwrite=True,\n)\ntuner.search_space_summary()\n",
   "outputs": [
    {
     "name": "stdout",
     "text": "Search space summary\nDefault search space size: 3\nunits (Int)\n{'default': None, 'conditions': [], 'min_value': 3, 'max_value': 15, 'step': 3, 'sampling': None}\nlearning_rate (Float)\n{'default': 0.01, 'conditions': [], 'min_value': 0.01, 'max_value': 1.0, 'step': 0.02, 'sampling': None}\nmomentum (Choice)\n{'default': 0.8, 'conditions': [], 'values': [0.8, 0.85, 0.9, 0.95], 'ordered': True}\n",
     "output_type": "stream"
    }
   ],
   "execution_count": 9
  },
  {
   "cell_type": "code",
   "metadata": {
    "tags": [],
    "deepnote_to_be_reexecuted": false,
    "source_hash": "f7b4736a",
    "execution_start": 1642776249557,
    "execution_millis": 722001,
    "cell_id": "00010-80dcfe7e-1c7c-4a8a-8766-e09e642cd9f5",
    "deepnote_cell_type": "code"
   },
   "source": "#stop_early = tf.keras.callbacks.EarlyStopping(monitor='val_loss', patience=5)\ntuner.search(X_train, y_train, epochs=150, verbose=0, batch_size=32, validation_data=(X_val, y_val) )\n#tuner.search(X_train, y_train, epochs=150, batch_size=10, callbacks=[stop_early], verbose=0,  validation_data=(X_val, y_val) )\n#hypermodel = MyHyperModel()\nhyperparameters = tuner.get_best_hyperparameters()[0]\n#model = tuner.hypermodel.build(hyperparameters)\n#model = hypermodel.build(hyperparameters)\n\nmodel = build_model(hyperparameters)\nmodel.build(input_shape=(None, 17))\nprint(model.summary())\nprint(hyperparameters.get('learning_rate'))\nprint(hyperparameters.get('momentum'))\n",
   "outputs": [
    {
     "name": "stdout",
     "text": "INFO:tensorflow:Oracle triggered exit\nModel: \"sequential_1\"\n_________________________________________________________________\nLayer (type)                 Output Shape              Param #   \n=================================================================\ndense_2 (Dense)              (None, 12)                216       \n_________________________________________________________________\ndense_3 (Dense)              (None, 1)                 13        \n=================================================================\nTotal params: 229\nTrainable params: 229\nNon-trainable params: 0\n_________________________________________________________________\nNone\n0.41000000000000003\n0.95\n",
     "output_type": "stream"
    }
   ],
   "execution_count": null
  },
  {
   "cell_type": "code",
   "metadata": {
    "tags": [],
    "deepnote_to_be_reexecuted": false,
    "source_hash": "ee79ce09",
    "execution_start": 1642776971558,
    "execution_millis": 12219,
    "deepnote_output_heights": [
     null,
     280,
     280
    ],
    "cell_id": "00011-eb108c9b-6b02-44a2-84f9-2b9487db9f75",
    "deepnote_cell_type": "code"
   },
   "source": "train_loss = []\ntest_loss =[]\ntrain_acc = []\ntest_acc = []\n\nfor i in range(150):\n    history = model.fit( X_all, y_all, batch_size=32, verbose=0)\n    train_loss.append(history.history['loss'])\n    train_acc.append(history.history['accuracy'])\n    score = model.evaluate(X_test, y_test)\n    test_loss.append(score[0])\n    test_acc.append(score[1])\n\nprint(\"loss and accuracy on training\")\nprint(train_loss[149])\nprint(train_acc[149])\nprint(\"loss and accuracy on tes\")\nprint(test_loss[149])\nprint(test_acc[149])\n\nplt.plot(train_loss, '-', label='train')\nplt.plot(test_loss, '-.', label='test')\nplt.legend()\nplt.title('loss')\nplt.xlabel('epochs')\nplt.ylabel('loss')\nplt.show()\nplt.plot(train_acc, '-', label='train')\nplt.plot(test_acc, '-.', label='test')\nplt.legend()\nplt.title('accuracy')\nplt.xlabel('epochs')\nplt.ylabel('accuracy')\nplt.show()\n",
   "outputs": [
    {
     "name": "stdout",
     "text": "14/14 [==============================] - 0s 743us/step - loss: 0.2360 - accuracy: 0.5833\n14/14 [==============================] - 0s 722us/step - loss: 0.2322 - accuracy: 0.5833\n14/14 [==============================] - 0s 748us/step - loss: 0.1976 - accuracy: 0.6713\n14/14 [==============================] - 0s 665us/step - loss: 0.1787 - accuracy: 0.7292\n14/14 [==============================] - 0s 699us/step - loss: 0.1766 - accuracy: 0.7269\n14/14 [==============================] - 0s 659us/step - loss: 0.1459 - accuracy: 0.7523\n14/14 [==============================] - 0s 714us/step - loss: 0.1312 - accuracy: 0.7847\n14/14 [==============================] - 0s 775us/step - loss: 0.1272 - accuracy: 0.8287\n14/14 [==============================] - 0s 747us/step - loss: 0.1059 - accuracy: 0.8403\n14/14 [==============================] - 0s 742us/step - loss: 0.0913 - accuracy: 0.8519\n14/14 [==============================] - 0s 655us/step - loss: 0.0906 - accuracy: 0.8542\n14/14 [==============================] - 0s 839us/step - loss: 0.0764 - accuracy: 0.8912\n14/14 [==============================] - 0s 672us/step - loss: 0.0523 - accuracy: 0.9329\n14/14 [==============================] - 0s 629us/step - loss: 0.0389 - accuracy: 0.9537\n14/14 [==============================] - 0s 776us/step - loss: 0.0332 - accuracy: 0.9583\n14/14 [==============================] - 0s 761us/step - loss: 0.0334 - accuracy: 0.9514\n14/14 [==============================] - 0s 650us/step - loss: 0.0308 - accuracy: 0.9583\n14/14 [==============================] - 0s 757us/step - loss: 0.0231 - accuracy: 0.9699\n14/14 [==============================] - 0s 847us/step - loss: 0.0174 - accuracy: 0.9769\n14/14 [==============================] - 0s 680us/step - loss: 0.0141 - accuracy: 0.9861\n14/14 [==============================] - 0s 750us/step - loss: 0.0123 - accuracy: 0.9884\n14/14 [==============================] - 0s 662us/step - loss: 0.0114 - accuracy: 0.9884\n14/14 [==============================] - 0s 685us/step - loss: 0.0110 - accuracy: 0.9907\n14/14 [==============================] - 0s 639us/step - loss: 0.0109 - accuracy: 0.9907\n14/14 [==============================] - 0s 673us/step - loss: 0.0111 - accuracy: 0.9884\n14/14 [==============================] - 0s 663us/step - loss: 0.0113 - accuracy: 0.9884\n14/14 [==============================] - 0s 667us/step - loss: 0.0114 - accuracy: 0.9884\n14/14 [==============================] - 0s 946us/step - loss: 0.0115 - accuracy: 0.9884\n14/14 [==============================] - 0s 790us/step - loss: 0.0115 - accuracy: 0.9884\n14/14 [==============================] - 0s 693us/step - loss: 0.0115 - accuracy: 0.9884\n14/14 [==============================] - 0s 653us/step - loss: 0.0114 - accuracy: 0.9884\n14/14 [==============================] - 0s 680us/step - loss: 0.0112 - accuracy: 0.9884\n14/14 [==============================] - 0s 669us/step - loss: 0.0111 - accuracy: 0.9884\n14/14 [==============================] - 0s 683us/step - loss: 0.0109 - accuracy: 0.9884\n14/14 [==============================] - 0s 656us/step - loss: 0.0108 - accuracy: 0.9884\n14/14 [==============================] - 0s 658us/step - loss: 0.0106 - accuracy: 0.9884\n14/14 [==============================] - 0s 767us/step - loss: 0.0104 - accuracy: 0.9907\n14/14 [==============================] - 0s 671us/step - loss: 0.0103 - accuracy: 0.9907\n14/14 [==============================] - 0s 652us/step - loss: 0.0102 - accuracy: 0.9907\n14/14 [==============================] - 0s 667us/step - loss: 0.0100 - accuracy: 0.9907\n14/14 [==============================] - 0s 746us/step - loss: 0.0099 - accuracy: 0.9907\n14/14 [==============================] - 0s 689us/step - loss: 0.0098 - accuracy: 0.9907\n14/14 [==============================] - 0s 727us/step - loss: 0.0097 - accuracy: 0.9907\n14/14 [==============================] - 0s 650us/step - loss: 0.0096 - accuracy: 0.9907\n14/14 [==============================] - 0s 719us/step - loss: 0.0095 - accuracy: 0.9907\n14/14 [==============================] - 0s 798us/step - loss: 0.0094 - accuracy: 0.9907\n14/14 [==============================] - 0s 690us/step - loss: 0.0094 - accuracy: 0.9907\n14/14 [==============================] - 0s 654us/step - loss: 0.0093 - accuracy: 0.9907\n14/14 [==============================] - 0s 799us/step - loss: 0.0092 - accuracy: 0.9907\n14/14 [==============================] - 0s 871us/step - loss: 0.0092 - accuracy: 0.9907\n14/14 [==============================] - 0s 659us/step - loss: 0.0091 - accuracy: 0.9907\n14/14 [==============================] - 0s 666us/step - loss: 0.0091 - accuracy: 0.9907\n14/14 [==============================] - 0s 659us/step - loss: 0.0091 - accuracy: 0.9907\n14/14 [==============================] - 0s 698us/step - loss: 0.0090 - accuracy: 0.9907\n14/14 [==============================] - 0s 672us/step - loss: 0.0090 - accuracy: 0.9907\n14/14 [==============================] - 0s 679us/step - loss: 0.0090 - accuracy: 0.9907\n14/14 [==============================] - 0s 1ms/step - loss: 0.0090 - accuracy: 0.9907\n14/14 [==============================] - 0s 694us/step - loss: 0.0089 - accuracy: 0.9907\n14/14 [==============================] - 0s 670us/step - loss: 0.0089 - accuracy: 0.9907\n14/14 [==============================] - 0s 667us/step - loss: 0.0089 - accuracy: 0.9907\n14/14 [==============================] - 0s 648us/step - loss: 0.0089 - accuracy: 0.9907\n14/14 [==============================] - 0s 696us/step - loss: 0.0089 - accuracy: 0.9907\n14/14 [==============================] - 0s 678us/step - loss: 0.0088 - accuracy: 0.9907\n14/14 [==============================] - 0s 651us/step - loss: 0.0088 - accuracy: 0.9907\n14/14 [==============================] - 0s 679us/step - loss: 0.0088 - accuracy: 0.9907\n14/14 [==============================] - 0s 685us/step - loss: 0.0088 - accuracy: 0.9907\n14/14 [==============================] - 0s 645us/step - loss: 0.0088 - accuracy: 0.9907\n14/14 [==============================] - 0s 636us/step - loss: 0.0088 - accuracy: 0.9907\n14/14 [==============================] - 0s 707us/step - loss: 0.0088 - accuracy: 0.9907\n14/14 [==============================] - 0s 724us/step - loss: 0.0088 - accuracy: 0.9907\n14/14 [==============================] - 0s 771us/step - loss: 0.0087 - accuracy: 0.9907\n14/14 [==============================] - 0s 670us/step - loss: 0.0087 - accuracy: 0.9907\n14/14 [==============================] - 0s 663us/step - loss: 0.0087 - accuracy: 0.9907\n14/14 [==============================] - 0s 658us/step - loss: 0.0087 - accuracy: 0.9907\n14/14 [==============================] - 0s 696us/step - loss: 0.0087 - accuracy: 0.9907\n14/14 [==============================] - 0s 664us/step - loss: 0.0087 - accuracy: 0.9907\n14/14 [==============================] - 0s 686us/step - loss: 0.0087 - accuracy: 0.9907\n14/14 [==============================] - 0s 657us/step - loss: 0.0086 - accuracy: 0.9907\n14/14 [==============================] - 0s 838us/step - loss: 0.0086 - accuracy: 0.9907\n14/14 [==============================] - 0s 668us/step - loss: 0.0086 - accuracy: 0.9907\n14/14 [==============================] - 0s 751us/step - loss: 0.0086 - accuracy: 0.9907\n14/14 [==============================] - 0s 680us/step - loss: 0.0086 - accuracy: 0.9907\n14/14 [==============================] - 0s 686us/step - loss: 0.0086 - accuracy: 0.9907\n14/14 [==============================] - 0s 766us/step - loss: 0.0086 - accuracy: 0.9907\n14/14 [==============================] - 0s 759us/step - loss: 0.0086 - accuracy: 0.9907\n14/14 [==============================] - 0s 769us/step - loss: 0.0086 - accuracy: 0.9907\n14/14 [==============================] - 0s 687us/step - loss: 0.0086 - accuracy: 0.9907\n14/14 [==============================] - 0s 775us/step - loss: 0.0086 - accuracy: 0.9907\n14/14 [==============================] - 0s 653us/step - loss: 0.0086 - accuracy: 0.9907\n14/14 [==============================] - 0s 650us/step - loss: 0.0086 - accuracy: 0.9907\n14/14 [==============================] - 0s 685us/step - loss: 0.0086 - accuracy: 0.9907\n14/14 [==============================] - 0s 750us/step - loss: 0.0086 - accuracy: 0.9907\n14/14 [==============================] - 0s 680us/step - loss: 0.0086 - accuracy: 0.9907\n14/14 [==============================] - 0s 689us/step - loss: 0.0086 - accuracy: 0.9907\n14/14 [==============================] - 0s 646us/step - loss: 0.0086 - accuracy: 0.9907\n14/14 [==============================] - 0s 696us/step - loss: 0.0086 - accuracy: 0.9907\n14/14 [==============================] - 0s 650us/step - loss: 0.0086 - accuracy: 0.9907\n14/14 [==============================] - 0s 685us/step - loss: 0.0086 - accuracy: 0.9907\n14/14 [==============================] - 0s 656us/step - loss: 0.0086 - accuracy: 0.9907\n14/14 [==============================] - 0s 687us/step - loss: 0.0086 - accuracy: 0.9907\n14/14 [==============================] - 0s 691us/step - loss: 0.0086 - accuracy: 0.9907\n14/14 [==============================] - 0s 698us/step - loss: 0.0086 - accuracy: 0.9907\n14/14 [==============================] - 0s 709us/step - loss: 0.0086 - accuracy: 0.9907\n14/14 [==============================] - 0s 688us/step - loss: 0.0086 - accuracy: 0.9907\n14/14 [==============================] - 0s 668us/step - loss: 0.0085 - accuracy: 0.9907\n14/14 [==============================] - 0s 642us/step - loss: 0.0085 - accuracy: 0.9907\n14/14 [==============================] - 0s 663us/step - loss: 0.0085 - accuracy: 0.9907\n14/14 [==============================] - 0s 656us/step - loss: 0.0085 - accuracy: 0.9907\n14/14 [==============================] - 0s 673us/step - loss: 0.0085 - accuracy: 0.9907\n14/14 [==============================] - 0s 673us/step - loss: 0.0085 - accuracy: 0.9907\n14/14 [==============================] - 0s 708us/step - loss: 0.0085 - accuracy: 0.9907\n14/14 [==============================] - 0s 953us/step - loss: 0.0085 - accuracy: 0.9907\n14/14 [==============================] - 0s 673us/step - loss: 0.0085 - accuracy: 0.9907\n14/14 [==============================] - 0s 667us/step - loss: 0.0085 - accuracy: 0.9907\n14/14 [==============================] - 0s 684us/step - loss: 0.0085 - accuracy: 0.9907\n14/14 [==============================] - 0s 651us/step - loss: 0.0085 - accuracy: 0.9907\n14/14 [==============================] - 0s 641us/step - loss: 0.0085 - accuracy: 0.9907\n14/14 [==============================] - 0s 679us/step - loss: 0.0085 - accuracy: 0.9907\n14/14 [==============================] - 0s 689us/step - loss: 0.0085 - accuracy: 0.9907\n14/14 [==============================] - 0s 674us/step - loss: 0.0085 - accuracy: 0.9907\n14/14 [==============================] - 0s 698us/step - loss: 0.0085 - accuracy: 0.9907\n14/14 [==============================] - 0s 728us/step - loss: 0.0085 - accuracy: 0.9907\n14/14 [==============================] - 0s 701us/step - loss: 0.0085 - accuracy: 0.9907\n14/14 [==============================] - 0s 687us/step - loss: 0.0085 - accuracy: 0.9907\n14/14 [==============================] - 0s 698us/step - loss: 0.0085 - accuracy: 0.9907\n14/14 [==============================] - 0s 663us/step - loss: 0.0085 - accuracy: 0.9907\n14/14 [==============================] - 0s 699us/step - loss: 0.0084 - accuracy: 0.9907\n14/14 [==============================] - 0s 654us/step - loss: 0.0084 - accuracy: 0.9907\n14/14 [==============================] - 0s 670us/step - loss: 0.0084 - accuracy: 0.9907\n14/14 [==============================] - 0s 655us/step - loss: 0.0084 - accuracy: 0.9907\n14/14 [==============================] - 0s 665us/step - loss: 0.0084 - accuracy: 0.9907\n14/14 [==============================] - 0s 1ms/step - loss: 0.0084 - accuracy: 0.9907\n14/14 [==============================] - 0s 734us/step - loss: 0.0084 - accuracy: 0.9907\n14/14 [==============================] - 0s 676us/step - loss: 0.0084 - accuracy: 0.9907\n14/14 [==============================] - 0s 679us/step - loss: 0.0084 - accuracy: 0.9907\n14/14 [==============================] - 0s 658us/step - loss: 0.0084 - accuracy: 0.9907\n14/14 [==============================] - 0s 687us/step - loss: 0.0084 - accuracy: 0.9907\n14/14 [==============================] - 0s 699us/step - loss: 0.0084 - accuracy: 0.9907\n14/14 [==============================] - 0s 625us/step - loss: 0.0084 - accuracy: 0.9907\n14/14 [==============================] - 0s 758us/step - loss: 0.0084 - accuracy: 0.9907\n14/14 [==============================] - 0s 794us/step - loss: 0.0084 - accuracy: 0.9907\n14/14 [==============================] - 0s 673us/step - loss: 0.0084 - accuracy: 0.9907\n14/14 [==============================] - 0s 698us/step - loss: 0.0084 - accuracy: 0.9907\n14/14 [==============================] - 0s 681us/step - loss: 0.0084 - accuracy: 0.9907\n14/14 [==============================] - 0s 715us/step - loss: 0.0084 - accuracy: 0.9907\n14/14 [==============================] - 0s 1ms/step - loss: 0.0084 - accuracy: 0.9907\n14/14 [==============================] - 0s 751us/step - loss: 0.0084 - accuracy: 0.9907\n14/14 [==============================] - 0s 654us/step - loss: 0.0084 - accuracy: 0.9907\n14/14 [==============================] - 0s 694us/step - loss: 0.0083 - accuracy: 0.9907\n14/14 [==============================] - 0s 655us/step - loss: 0.0083 - accuracy: 0.9907\nloss and accuracy on training\n[2.0555917217279784e-05]\n[1.0]\nloss and accuracy on tes\n0.008340761065483093\n0.9907407164573669\n",
     "output_type": "stream"
    },
    {
     "data": {
      "text/plain": "<Figure size 432x288 with 1 Axes>",
      "image/png": "[encoded data removed]"
     },
     "metadata": {
      "needs_background": "light",
      "image/png": {
       "width": 392,
       "height": 278
      }
     },
     "output_type": "display_data"
    },
    {
     "data": {
      "text/plain": "<Figure size 432x288 with 1 Axes>",
      "image/png": "[encoded data removed]"
     },
     "metadata": {
      "needs_background": "light",
      "image/png": {
       "width": 386,
       "height": 278
      }
     },
     "output_type": "display_data"
    }
   ],
   "execution_count": null
  },
  {
   "cell_type": "markdown",
   "source": "# Monk2",
   "metadata": {
    "tags": [],
    "is_collapsed": false,
    "cell_id": "00012-d203cc7c-87e6-494d-b290-87558847a7e9",
    "deepnote_cell_type": "text-cell-h1"
   }
  },
  {
   "cell_type": "code",
   "metadata": {
    "tags": [],
    "deepnote_to_be_reexecuted": false,
    "source_hash": "505667e8",
    "execution_start": 1642776983778,
    "execution_millis": 35,
    "cell_id": "00013-df2356ad-b08c-4643-b76d-3b67139182bc",
    "deepnote_cell_type": "code"
   },
   "source": "#load datasets\ncolnames = ['class', 'a1', 'a2', 'a3', 'a4', 'a5', 'a6', 'id']\ndf_monk2_train = pd.read_csv(\"./data/MONK/monks-2.train\", sep = \" \", skipinitialspace=True, names = colnames)\ndf_monk2_train.drop('id', axis = 1, inplace = True)\ndf_monk2_test = pd.read_csv(\"./data/MONK/monks-2.test\", sep = \" \", skipinitialspace=True, names = colnames)\ndf_monk2_test.drop('id', axis = 1, inplace = True)\ndf_monk2_train.head()\n",
   "outputs": [
    {
     "output_type": "execute_result",
     "execution_count": 51,
     "data": {
      "application/vnd.deepnote.dataframe.v3+json": {
       "column_count": 7,
       "row_count": 5,
       "columns": [
        {
         "name": "class",
         "dtype": "int64",
         "stats": {
          "unique_count": 1,
          "nan_count": 0,
          "min": "0",
          "max": "0",
          "histogram": [
           {
            "bin_start": -0.5,
            "bin_end": -0.4,
            "count": 0
           },
           {
            "bin_start": -0.4,
            "bin_end": -0.3,
            "count": 0
           },
           {
            "bin_start": -0.3,
            "bin_end": -0.19999999999999996,
            "count": 0
           },
           {
            "bin_start": -0.19999999999999996,
            "bin_end": -0.09999999999999998,
            "count": 0
           },
           {
            "bin_start": -0.09999999999999998,
            "bin_end": 0,
            "count": 0
           },
           {
            "bin_start": 0,
            "bin_end": 0.10000000000000009,
            "count": 5
           },
           {
            "bin_start": 0.10000000000000009,
            "bin_end": 0.20000000000000007,
            "count": 0
           },
           {
            "bin_start": 0.20000000000000007,
            "bin_end": 0.30000000000000004,
            "count": 0
           },
           {
            "bin_start": 0.30000000000000004,
            "bin_end": 0.4,
            "count": 0
           },
           {
            "bin_start": 0.4,
            "bin_end": 0.5,
            "count": 0
           }
          ]
         }
        },
        {
         "name": "a1",
         "dtype": "int64",
         "stats": {
          "unique_count": 1,
          "nan_count": 0,
          "min": "1",
          "max": "1",
          "histogram": [
           {
            "bin_start": 0.5,
            "bin_end": 0.6,
            "count": 0
           },
           {
            "bin_start": 0.6,
            "bin_end": 0.7,
            "count": 0
           },
           {
            "bin_start": 0.7,
            "bin_end": 0.8,
            "count": 0
           },
           {
            "bin_start": 0.8,
            "bin_end": 0.9,
            "count": 0
           },
           {
            "bin_start": 0.9,
            "bin_end": 1,
            "count": 0
           },
           {
            "bin_start": 1,
            "bin_end": 1.1,
            "count": 5
           },
           {
            "bin_start": 1.1,
            "bin_end": 1.2000000000000002,
            "count": 0
           },
           {
            "bin_start": 1.2000000000000002,
            "bin_end": 1.3,
            "count": 0
           },
           {
            "bin_start": 1.3,
            "bin_end": 1.4,
            "count": 0
           },
           {
            "bin_start": 1.4,
            "bin_end": 1.5,
            "count": 0
           }
          ]
         }
        },
        {
         "name": "a2",
         "dtype": "int64",
         "stats": {
          "unique_count": 1,
          "nan_count": 0,
          "min": "1",
          "max": "1",
          "histogram": [
           {
            "bin_start": 0.5,
            "bin_end": 0.6,
            "count": 0
           },
           {
            "bin_start": 0.6,
            "bin_end": 0.7,
            "count": 0
           },
           {
            "bin_start": 0.7,
            "bin_end": 0.8,
            "count": 0
           },
           {
            "bin_start": 0.8,
            "bin_end": 0.9,
            "count": 0
           },
           {
            "bin_start": 0.9,
            "bin_end": 1,
            "count": 0
           },
           {
            "bin_start": 1,
            "bin_end": 1.1,
            "count": 5
           },
           {
            "bin_start": 1.1,
            "bin_end": 1.2000000000000002,
            "count": 0
           },
           {
            "bin_start": 1.2000000000000002,
            "bin_end": 1.3,
            "count": 0
           },
           {
            "bin_start": 1.3,
            "bin_end": 1.4,
            "count": 0
           },
           {
            "bin_start": 1.4,
            "bin_end": 1.5,
            "count": 0
           }
          ]
         }
        },
        {
         "name": "a3",
         "dtype": "int64",
         "stats": {
          "unique_count": 1,
          "nan_count": 0,
          "min": "1",
          "max": "1",
          "histogram": [
           {
            "bin_start": 0.5,
            "bin_end": 0.6,
            "count": 0
           },
           {
            "bin_start": 0.6,
            "bin_end": 0.7,
            "count": 0
           },
           {
            "bin_start": 0.7,
            "bin_end": 0.8,
            "count": 0
           },
           {
            "bin_start": 0.8,
            "bin_end": 0.9,
            "count": 0
           },
           {
            "bin_start": 0.9,
            "bin_end": 1,
            "count": 0
           },
           {
            "bin_start": 1,
            "bin_end": 1.1,
            "count": 5
           },
           {
            "bin_start": 1.1,
            "bin_end": 1.2000000000000002,
            "count": 0
           },
           {
            "bin_start": 1.2000000000000002,
            "bin_end": 1.3,
            "count": 0
           },
           {
            "bin_start": 1.3,
            "bin_end": 1.4,
            "count": 0
           },
           {
            "bin_start": 1.4,
            "bin_end": 1.5,
            "count": 0
           }
          ]
         }
        },
        {
         "name": "a4",
         "dtype": "int64",
         "stats": {
          "unique_count": 2,
          "nan_count": 0,
          "min": "1",
          "max": "2",
          "histogram": [
           {
            "bin_start": 1,
            "bin_end": 1.1,
            "count": 2
           },
           {
            "bin_start": 1.1,
            "bin_end": 1.2,
            "count": 0
           },
           {
            "bin_start": 1.2,
            "bin_end": 1.3,
            "count": 0
           },
           {
            "bin_start": 1.3,
            "bin_end": 1.4,
            "count": 0
           },
           {
            "bin_start": 1.4,
            "bin_end": 1.5,
            "count": 0
           },
           {
            "bin_start": 1.5,
            "bin_end": 1.6,
            "count": 0
           },
           {
            "bin_start": 1.6,
            "bin_end": 1.7000000000000002,
            "count": 0
           },
           {
            "bin_start": 1.7000000000000002,
            "bin_end": 1.8,
            "count": 0
           },
           {
            "bin_start": 1.8,
            "bin_end": 1.9,
            "count": 0
           },
           {
            "bin_start": 1.9,
            "bin_end": 2,
            "count": 3
           }
          ]
         }
        },
        {
         "name": "a5",
         "dtype": "int64",
         "stats": {
          "unique_count": 3,
          "nan_count": 0,
          "min": "1",
          "max": "4",
          "histogram": [
           {
            "bin_start": 1,
            "bin_end": 1.3,
            "count": 2
           },
           {
            "bin_start": 1.3,
            "bin_end": 1.6,
            "count": 0
           },
           {
            "bin_start": 1.6,
            "bin_end": 1.9,
            "count": 0
           },
           {
            "bin_start": 1.9,
            "bin_end": 2.2,
            "count": 2
           },
           {
            "bin_start": 2.2,
            "bin_end": 2.5,
            "count": 0
           },
           {
            "bin_start": 2.5,
            "bin_end": 2.8,
            "count": 0
           },
           {
            "bin_start": 2.8,
            "bin_end": 3.1,
            "count": 0
           },
           {
            "bin_start": 3.1,
            "bin_end": 3.4,
            "count": 0
           },
           {
            "bin_start": 3.4,
            "bin_end": 3.6999999999999997,
            "count": 0
           },
           {
            "bin_start": 3.6999999999999997,
            "bin_end": 4,
            "count": 1
           }
          ]
         }
        },
        {
         "name": "a6",
         "dtype": "int64",
         "stats": {
          "unique_count": 2,
          "nan_count": 0,
          "min": "1",
          "max": "2",
          "histogram": [
           {
            "bin_start": 1,
            "bin_end": 1.1,
            "count": 3
           },
           {
            "bin_start": 1.1,
            "bin_end": 1.2,
            "count": 0
           },
           {
            "bin_start": 1.2,
            "bin_end": 1.3,
            "count": 0
           },
           {
            "bin_start": 1.3,
            "bin_end": 1.4,
            "count": 0
           },
           {
            "bin_start": 1.4,
            "bin_end": 1.5,
            "count": 0
           },
           {
            "bin_start": 1.5,
            "bin_end": 1.6,
            "count": 0
           },
           {
            "bin_start": 1.6,
            "bin_end": 1.7000000000000002,
            "count": 0
           },
           {
            "bin_start": 1.7000000000000002,
            "bin_end": 1.8,
            "count": 0
           },
           {
            "bin_start": 1.8,
            "bin_end": 1.9,
            "count": 0
           },
           {
            "bin_start": 1.9,
            "bin_end": 2,
            "count": 2
           }
          ]
         }
        },
        {
         "name": "_deepnote_index_column",
         "dtype": "int64"
        }
       ],
       "rows": [
        {
         "class": 0,
         "a1": 1,
         "a2": 1,
         "a3": 1,
         "a4": 1,
         "a5": 2,
         "a6": 2,
         "_deepnote_index_column": 0
        },
        {
         "class": 0,
         "a1": 1,
         "a2": 1,
         "a3": 1,
         "a4": 1,
         "a5": 4,
         "a6": 1,
         "_deepnote_index_column": 1
        },
        {
         "class": 0,
         "a1": 1,
         "a2": 1,
         "a3": 1,
         "a4": 2,
         "a5": 1,
         "a6": 1,
         "_deepnote_index_column": 2
        },
        {
         "class": 0,
         "a1": 1,
         "a2": 1,
         "a3": 1,
         "a4": 2,
         "a5": 1,
         "a6": 2,
         "_deepnote_index_column": 3
        },
        {
         "class": 0,
         "a1": 1,
         "a2": 1,
         "a3": 1,
         "a4": 2,
         "a5": 2,
         "a6": 1,
         "_deepnote_index_column": 4
        }
       ]
      },
      "text/plain": "   class  a1  a2  a3  a4  a5  a6\n0      0   1   1   1   1   2   2\n1      0   1   1   1   1   4   1\n2      0   1   1   1   2   1   1\n3      0   1   1   1   2   1   2\n4      0   1   1   1   2   2   1",
      "text/html": "<div>\n<style scoped>\n    .dataframe tbody tr th:only-of-type {\n        vertical-align: middle;\n    }\n\n    .dataframe tbody tr th {\n        vertical-align: top;\n    }\n\n    .dataframe thead th {\n        text-align: right;\n    }\n</style>\n<table border=\"1\" class=\"dataframe\">\n  <thead>\n    <tr style=\"text-align: right;\">\n      <th></th>\n      <th>class</th>\n      <th>a1</th>\n      <th>a2</th>\n      <th>a3</th>\n      <th>a4</th>\n      <th>a5</th>\n      <th>a6</th>\n    </tr>\n  </thead>\n  <tbody>\n    <tr>\n      <th>0</th>\n      <td>0</td>\n      <td>1</td>\n      <td>1</td>\n      <td>1</td>\n      <td>1</td>\n      <td>2</td>\n      <td>2</td>\n    </tr>\n    <tr>\n      <th>1</th>\n      <td>0</td>\n      <td>1</td>\n      <td>1</td>\n      <td>1</td>\n      <td>1</td>\n      <td>4</td>\n      <td>1</td>\n    </tr>\n    <tr>\n      <th>2</th>\n      <td>0</td>\n      <td>1</td>\n      <td>1</td>\n      <td>1</td>\n      <td>2</td>\n      <td>1</td>\n      <td>1</td>\n    </tr>\n    <tr>\n      <th>3</th>\n      <td>0</td>\n      <td>1</td>\n      <td>1</td>\n      <td>1</td>\n      <td>2</td>\n      <td>1</td>\n      <td>2</td>\n    </tr>\n    <tr>\n      <th>4</th>\n      <td>0</td>\n      <td>1</td>\n      <td>1</td>\n      <td>1</td>\n      <td>2</td>\n      <td>2</td>\n      <td>1</td>\n    </tr>\n  </tbody>\n</table>\n</div>"
     },
     "metadata": {}
    }
   ],
   "execution_count": null
  },
  {
   "cell_type": "code",
   "metadata": {
    "tags": [],
    "deepnote_to_be_reexecuted": false,
    "source_hash": "6d8cf70f",
    "execution_start": 1642776983817,
    "execution_millis": 1,
    "cell_id": "00014-a5a45950-7f63-4fd7-9d00-66609dfa89f1",
    "deepnote_cell_type": "code"
   },
   "source": "#get attribute and target values\nX_all = df_monk2_train.iloc[:, 1:7].values\ny_all = df_monk2_train.iloc[:, 0].values\nX_test = df_monk2_test.iloc[:, 1:7].values\ny_test = df_monk2_test.iloc[:, 0].values",
   "outputs": [],
   "execution_count": null
  },
  {
   "cell_type": "markdown",
   "source": "# Shuffle data and one hot encoding",
   "metadata": {
    "tags": [],
    "is_collapsed": false,
    "cell_id": "00015-085d93c1-f8b1-492d-be20-fb3f5bec2ef1",
    "deepnote_cell_type": "text-cell-h1"
   }
  },
  {
   "cell_type": "code",
   "metadata": {
    "tags": [],
    "deepnote_to_be_reexecuted": false,
    "source_hash": "a89e6810",
    "execution_start": 1642776983821,
    "execution_millis": 7,
    "cell_id": "00016-3d13e039-0c6e-4cad-8288-c00bb0129aec",
    "deepnote_cell_type": "code"
   },
   "source": "from sklearn.utils import shuffle\nX_all, y_all = shuffle(X_all, y_all)\nX_all, X_test = one_hot_encoder(X_all, X_test)\nval_size =int(0.2 * len(X_all))\nX_val = X_all[:val_size]\ny_val = y_all[:val_size]\nX_train = X_all[val_size:]\ny_train = y_all[val_size:]\nprint(X_val.shape)\nprint(X_train.shape)\nprint(X_test.shape)\nprint(X_train[0])",
   "outputs": [
    {
     "name": "stdout",
     "text": "(33, 17)\n(136, 17)\n(432, 17)\n[0. 0. 1. 1. 0. 0. 1. 0. 1. 0. 0. 0. 0. 0. 1. 1. 0.]\n",
     "output_type": "stream"
    }
   ],
   "execution_count": null
  },
  {
   "cell_type": "code",
   "metadata": {
    "tags": [],
    "deepnote_to_be_reexecuted": false,
    "source_hash": "9bd62ff9",
    "execution_start": 1642776983875,
    "execution_millis": 496,
    "cell_id": "00017-1135c7b8-f457-4ce4-a470-74e274bd2c17",
    "deepnote_cell_type": "code"
   },
   "source": "tuner = kt.RandomSearch(\n    hypermodel = build_model,\n    #MyHyperModel(),\n    objective='val_accuracy',\n    max_trials=100,\n    overwrite=True,\n)\ntuner.search_space_summary()",
   "outputs": [
    {
     "name": "stdout",
     "text": "Search space summary\nDefault search space size: 3\nunits (Int)\n{'default': None, 'conditions': [], 'min_value': 3, 'max_value': 15, 'step': 3, 'sampling': None}\nlearning_rate (Float)\n{'default': 0.01, 'conditions': [], 'min_value': 0.01, 'max_value': 1.0, 'step': 0.01, 'sampling': None}\nmomentum (Choice)\n{'default': 0.8, 'conditions': [], 'values': [0.8, 0.85, 0.9, 0.95], 'ordered': True}\n",
     "output_type": "stream"
    }
   ],
   "execution_count": null
  },
  {
   "cell_type": "markdown",
   "source": "# Search for best hyperparameters",
   "metadata": {
    "tags": [],
    "is_collapsed": false,
    "cell_id": "00018-f68789f9-e527-497e-945b-5454db596470",
    "deepnote_cell_type": "text-cell-h1"
   }
  },
  {
   "cell_type": "code",
   "metadata": {
    "tags": [],
    "deepnote_to_be_reexecuted": false,
    "source_hash": "fc2929fd",
    "execution_start": 1642776984255,
    "execution_millis": 517824,
    "cell_id": "00019-a812709a-998b-470e-82ac-cfeb21a7831b",
    "deepnote_cell_type": "code"
   },
   "source": "\ntuner.search(X_train, y_train, epochs=150, verbose=0, batch_size=32, validation_data=(X_val, y_val) )\nhyperparameters = tuner.get_best_hyperparameters()[0]\nmodel = build_model(hyperparameters)\nmodel.build(input_shape=(None, 17))\nprint(model.summary())\nprint(hyperparameters.get('learning_rate'))\nprint(hyperparameters.get('momentum'))",
   "outputs": [
    {
     "name": "stdout",
     "text": "INFO:tensorflow:Oracle triggered exit\nModel: \"sequential_1\"\n_________________________________________________________________\nLayer (type)                 Output Shape              Param #   \n=================================================================\ndense_2 (Dense)              (None, 9)                 162       \n_________________________________________________________________\ndense_3 (Dense)              (None, 1)                 10        \n=================================================================\nTotal params: 172\nTrainable params: 172\nNon-trainable params: 0\n_________________________________________________________________\nNone\n0.92\n0.9\n",
     "output_type": "stream"
    }
   ],
   "execution_count": null
  },
  {
   "cell_type": "markdown",
   "source": "# Retrain model and evaluate",
   "metadata": {
    "tags": [],
    "is_collapsed": false,
    "cell_id": "00020-d2d1cb0d-7519-4387-8cf9-cc4d4766a796",
    "deepnote_cell_type": "text-cell-h1"
   }
  },
  {
   "cell_type": "code",
   "metadata": {
    "tags": [],
    "deepnote_to_be_reexecuted": false,
    "source_hash": "a398d873",
    "execution_start": 1642777502079,
    "execution_millis": 12483,
    "deepnote_output_heights": [
     null,
     280,
     280
    ],
    "cell_id": "00021-c786fafe-eb2a-4374-9881-8a6816ebe29d",
    "deepnote_cell_type": "code"
   },
   "source": "train_loss = []\ntest_loss =[]\ntrain_acc = []\ntest_acc = []\n\nfor i in range(150):\n    history = model.fit( X_all, y_all, batch_size=32, verbose=0)\n    train_loss.append(history.history['loss'])\n    train_acc.append(history.history['accuracy'])\n    score = model.evaluate(X_test, y_test)\n    test_loss.append(score[0])\n    test_acc.append(score[1])\n\nprint(\"loss and accuracy on training\")\nprint(train_loss[149])\nprint(train_acc[149])\nprint(\"loss and accuracy on tes\")\nprint(test_loss[149])\nprint(test_acc[149])\n\n\nplt.plot(train_loss, '-', label='train')\nplt.plot(test_loss, '-.', label='test')\nplt.legend()\nplt.title('loss')\nplt.xlabel('epochs')\nplt.ylabel('loss')\nplt.show()\nplt.plot(train_acc, '-', label='train')\nplt.plot(test_acc, '-.', label='test')\nplt.legend()\nplt.title('accuracy')\nplt.xlabel('epochs')\nplt.ylabel('accuracy')\nplt.show()",
   "outputs": [
    {
     "name": "stdout",
     "text": "14/14 [==============================] - 0s 732us/step - loss: 0.2230 - accuracy: 0.6644\n14/14 [==============================] - 0s 654us/step - loss: 0.2225 - accuracy: 0.6273\n14/14 [==============================] - 0s 667us/step - loss: 0.2082 - accuracy: 0.6690\n14/14 [==============================] - 0s 678us/step - loss: 0.1885 - accuracy: 0.6667\n14/14 [==============================] - 0s 684us/step - loss: 0.1489 - accuracy: 0.7407\n14/14 [==============================] - 0s 674us/step - loss: 0.0813 - accuracy: 0.9051\n14/14 [==============================] - 0s 685us/step - loss: 0.0481 - accuracy: 0.9560\n14/14 [==============================] - 0s 700us/step - loss: 0.0385 - accuracy: 0.9491\n14/14 [==============================] - 0s 682us/step - loss: 0.0111 - accuracy: 1.0000\n14/14 [==============================] - 0s 788us/step - loss: 0.0100 - accuracy: 0.9954\n14/14 [==============================] - 0s 640us/step - loss: 0.0031 - accuracy: 1.0000\n14/14 [==============================] - 0s 672us/step - loss: 0.0015 - accuracy: 1.0000\n14/14 [==============================] - 0s 677us/step - loss: 7.9754e-04 - accuracy: 1.0000\n14/14 [==============================] - 0s 645us/step - loss: 8.5154e-04 - accuracy: 1.0000\n14/14 [==============================] - 0s 686us/step - loss: 6.3378e-04 - accuracy: 1.0000\n14/14 [==============================] - 0s 665us/step - loss: 4.9266e-04 - accuracy: 1.0000\n14/14 [==============================] - 0s 678us/step - loss: 4.2810e-04 - accuracy: 1.0000\n14/14 [==============================] - 0s 659us/step - loss: 3.9194e-04 - accuracy: 1.0000\n14/14 [==============================] - 0s 748us/step - loss: 3.6605e-04 - accuracy: 1.0000\n14/14 [==============================] - 0s 741us/step - loss: 3.4409e-04 - accuracy: 1.0000\n14/14 [==============================] - 0s 1ms/step - loss: 3.2487e-04 - accuracy: 1.0000\n14/14 [==============================] - 0s 753us/step - loss: 3.0879e-04 - accuracy: 1.0000\n14/14 [==============================] - 0s 690us/step - loss: 2.9396e-04 - accuracy: 1.0000\n14/14 [==============================] - 0s 1ms/step - loss: 2.8145e-04 - accuracy: 1.0000\n14/14 [==============================] - 0s 682us/step - loss: 2.6986e-04 - accuracy: 1.0000\n14/14 [==============================] - 0s 675us/step - loss: 2.5962e-04 - accuracy: 1.0000\n14/14 [==============================] - 0s 686us/step - loss: 2.5025e-04 - accuracy: 1.0000\n14/14 [==============================] - 0s 736us/step - loss: 2.4148e-04 - accuracy: 1.0000\n14/14 [==============================] - 0s 792us/step - loss: 2.3297e-04 - accuracy: 1.0000\n14/14 [==============================] - 0s 716us/step - loss: 2.2520e-04 - accuracy: 1.0000\n14/14 [==============================] - 0s 811us/step - loss: 2.1822e-04 - accuracy: 1.0000\n14/14 [==============================] - 0s 679us/step - loss: 2.1162e-04 - accuracy: 1.0000\n14/14 [==============================] - 0s 885us/step - loss: 2.0535e-04 - accuracy: 1.0000\n14/14 [==============================] - 0s 799us/step - loss: 1.9958e-04 - accuracy: 1.0000\n14/14 [==============================] - 0s 693us/step - loss: 1.9413e-04 - accuracy: 1.0000\n14/14 [==============================] - 0s 789us/step - loss: 1.8905e-04 - accuracy: 1.0000\n14/14 [==============================] - 0s 686us/step - loss: 1.8434e-04 - accuracy: 1.0000\n14/14 [==============================] - 0s 773us/step - loss: 1.8003e-04 - accuracy: 1.0000\n14/14 [==============================] - 0s 690us/step - loss: 1.7599e-04 - accuracy: 1.0000\n14/14 [==============================] - 0s 631us/step - loss: 1.7218e-04 - accuracy: 1.0000\n14/14 [==============================] - 0s 681us/step - loss: 1.6864e-04 - accuracy: 1.0000\n14/14 [==============================] - 0s 666us/step - loss: 1.6529e-04 - accuracy: 1.0000\n14/14 [==============================] - 0s 701us/step - loss: 1.6218e-04 - accuracy: 1.0000\n14/14 [==============================] - 0s 685us/step - loss: 1.5899e-04 - accuracy: 1.0000\n14/14 [==============================] - 0s 688us/step - loss: 1.5598e-04 - accuracy: 1.0000\n14/14 [==============================] - 0s 744us/step - loss: 1.5298e-04 - accuracy: 1.0000\n14/14 [==============================] - 0s 696us/step - loss: 1.5019e-04 - accuracy: 1.0000\n14/14 [==============================] - 0s 666us/step - loss: 1.4776e-04 - accuracy: 1.0000\n14/14 [==============================] - 0s 833us/step - loss: 1.4523e-04 - accuracy: 1.0000\n14/14 [==============================] - 0s 690us/step - loss: 1.4284e-04 - accuracy: 1.0000\n14/14 [==============================] - 0s 669us/step - loss: 1.4045e-04 - accuracy: 1.0000\n14/14 [==============================] - 0s 674us/step - loss: 1.3805e-04 - accuracy: 1.0000\n14/14 [==============================] - 0s 737us/step - loss: 1.3558e-04 - accuracy: 1.0000\n14/14 [==============================] - 0s 771us/step - loss: 1.3339e-04 - accuracy: 1.0000\n14/14 [==============================] - 0s 740us/step - loss: 1.3122e-04 - accuracy: 1.0000\n14/14 [==============================] - 0s 684us/step - loss: 1.2922e-04 - accuracy: 1.0000\n14/14 [==============================] - 0s 695us/step - loss: 1.2741e-04 - accuracy: 1.0000\n14/14 [==============================] - 0s 667us/step - loss: 1.2550e-04 - accuracy: 1.0000\n14/14 [==============================] - 0s 689us/step - loss: 1.2322e-04 - accuracy: 1.0000\n14/14 [==============================] - 0s 691us/step - loss: 1.2125e-04 - accuracy: 1.0000\n14/14 [==============================] - 0s 664us/step - loss: 1.1952e-04 - accuracy: 1.0000\n14/14 [==============================] - 0s 668us/step - loss: 1.1757e-04 - accuracy: 1.0000\n14/14 [==============================] - 0s 674us/step - loss: 1.1585e-04 - accuracy: 1.0000\n14/14 [==============================] - 0s 691us/step - loss: 1.1422e-04 - accuracy: 1.0000\n14/14 [==============================] - 0s 720us/step - loss: 1.1269e-04 - accuracy: 1.0000\n14/14 [==============================] - 0s 695us/step - loss: 1.1118e-04 - accuracy: 1.0000\n14/14 [==============================] - 0s 692us/step - loss: 1.0977e-04 - accuracy: 1.0000\n14/14 [==============================] - 0s 672us/step - loss: 1.0835e-04 - accuracy: 1.0000\n14/14 [==============================] - 0s 743us/step - loss: 1.0701e-04 - accuracy: 1.0000\n14/14 [==============================] - 0s 1ms/step - loss: 1.0559e-04 - accuracy: 1.0000\n14/14 [==============================] - 0s 696us/step - loss: 1.0410e-04 - accuracy: 1.0000\n14/14 [==============================] - 0s 701us/step - loss: 1.0289e-04 - accuracy: 1.0000\n14/14 [==============================] - 0s 734us/step - loss: 1.0173e-04 - accuracy: 1.0000\n14/14 [==============================] - 0s 1ms/step - loss: 1.0045e-04 - accuracy: 1.0000\n14/14 [==============================] - 0s 679us/step - loss: 9.9353e-05 - accuracy: 1.0000\n14/14 [==============================] - 0s 696us/step - loss: 9.8290e-05 - accuracy: 1.0000\n14/14 [==============================] - 0s 674us/step - loss: 9.7153e-05 - accuracy: 1.0000\n14/14 [==============================] - 0s 715us/step - loss: 9.6075e-05 - accuracy: 1.0000\n14/14 [==============================] - 0s 686us/step - loss: 9.4999e-05 - accuracy: 1.0000\n14/14 [==============================] - 0s 702us/step - loss: 9.3932e-05 - accuracy: 1.0000\n14/14 [==============================] - 0s 686us/step - loss: 9.2957e-05 - accuracy: 1.0000\n14/14 [==============================] - 0s 689us/step - loss: 9.2070e-05 - accuracy: 1.0000\n14/14 [==============================] - 0s 677us/step - loss: 9.1132e-05 - accuracy: 1.0000\n14/14 [==============================] - 0s 871us/step - loss: 9.0241e-05 - accuracy: 1.0000\n14/14 [==============================] - 0s 1ms/step - loss: 8.9354e-05 - accuracy: 1.0000\n14/14 [==============================] - 0s 699us/step - loss: 8.8513e-05 - accuracy: 1.0000\n14/14 [==============================] - 0s 841us/step - loss: 8.7748e-05 - accuracy: 1.0000\n14/14 [==============================] - 0s 651us/step - loss: 8.6910e-05 - accuracy: 1.0000\n14/14 [==============================] - 0s 804us/step - loss: 8.6182e-05 - accuracy: 1.0000\n14/14 [==============================] - 0s 683us/step - loss: 8.5362e-05 - accuracy: 1.0000\n14/14 [==============================] - 0s 838us/step - loss: 8.4530e-05 - accuracy: 1.0000\n14/14 [==============================] - 0s 859us/step - loss: 8.3730e-05 - accuracy: 1.0000\n14/14 [==============================] - 0s 837us/step - loss: 8.2981e-05 - accuracy: 1.0000\n14/14 [==============================] - 0s 751us/step - loss: 8.2206e-05 - accuracy: 1.0000\n14/14 [==============================] - 0s 698us/step - loss: 8.1539e-05 - accuracy: 1.0000\n14/14 [==============================] - 0s 683us/step - loss: 8.0884e-05 - accuracy: 1.0000\n14/14 [==============================] - 0s 723us/step - loss: 8.0248e-05 - accuracy: 1.0000\n14/14 [==============================] - 0s 732us/step - loss: 7.9596e-05 - accuracy: 1.0000\n14/14 [==============================] - 0s 651us/step - loss: 7.8947e-05 - accuracy: 1.0000\n14/14 [==============================] - 0s 638us/step - loss: 7.8302e-05 - accuracy: 1.0000\n14/14 [==============================] - 0s 646us/step - loss: 7.7681e-05 - accuracy: 1.0000\n14/14 [==============================] - 0s 703us/step - loss: 7.6978e-05 - accuracy: 1.0000\n14/14 [==============================] - 0s 685us/step - loss: 7.6314e-05 - accuracy: 1.0000\n14/14 [==============================] - 0s 649us/step - loss: 7.5771e-05 - accuracy: 1.0000\n14/14 [==============================] - 0s 635us/step - loss: 7.5104e-05 - accuracy: 1.0000\n14/14 [==============================] - 0s 652us/step - loss: 7.4483e-05 - accuracy: 1.0000\n14/14 [==============================] - 0s 1ms/step - loss: 7.3813e-05 - accuracy: 1.0000\n14/14 [==============================] - 0s 666us/step - loss: 7.3111e-05 - accuracy: 1.0000\n14/14 [==============================] - 0s 669us/step - loss: 7.2536e-05 - accuracy: 1.0000\n14/14 [==============================] - 0s 652us/step - loss: 7.1951e-05 - accuracy: 1.0000\n14/14 [==============================] - 0s 638us/step - loss: 7.1387e-05 - accuracy: 1.0000\n14/14 [==============================] - 0s 724us/step - loss: 7.0819e-05 - accuracy: 1.0000\n14/14 [==============================] - 0s 701us/step - loss: 7.0317e-05 - accuracy: 1.0000\n14/14 [==============================] - 0s 671us/step - loss: 6.9751e-05 - accuracy: 1.0000\n14/14 [==============================] - 0s 660us/step - loss: 6.9214e-05 - accuracy: 1.0000\n14/14 [==============================] - 0s 632us/step - loss: 6.8714e-05 - accuracy: 1.0000\n14/14 [==============================] - 0s 651us/step - loss: 6.8197e-05 - accuracy: 1.0000\n14/14 [==============================] - 0s 652us/step - loss: 6.7698e-05 - accuracy: 1.0000\n14/14 [==============================] - 0s 653us/step - loss: 6.7194e-05 - accuracy: 1.0000\n14/14 [==============================] - 0s 672us/step - loss: 6.6593e-05 - accuracy: 1.0000\n14/14 [==============================] - 0s 650us/step - loss: 6.6090e-05 - accuracy: 1.0000\n14/14 [==============================] - 0s 630us/step - loss: 6.5625e-05 - accuracy: 1.0000\n14/14 [==============================] - 0s 667us/step - loss: 6.5105e-05 - accuracy: 1.0000\n14/14 [==============================] - 0s 657us/step - loss: 6.4636e-05 - accuracy: 1.0000\n14/14 [==============================] - 0s 658us/step - loss: 6.4221e-05 - accuracy: 1.0000\n14/14 [==============================] - 0s 666us/step - loss: 6.3816e-05 - accuracy: 1.0000\n14/14 [==============================] - 0s 640us/step - loss: 6.3378e-05 - accuracy: 1.0000\n14/14 [==============================] - 0s 696us/step - loss: 6.2976e-05 - accuracy: 1.0000\n14/14 [==============================] - 0s 736us/step - loss: 6.2507e-05 - accuracy: 1.0000\n14/14 [==============================] - 0s 651us/step - loss: 6.2141e-05 - accuracy: 1.0000\n14/14 [==============================] - 0s 657us/step - loss: 6.1762e-05 - accuracy: 1.0000\n14/14 [==============================] - 0s 682us/step - loss: 6.1379e-05 - accuracy: 1.0000\n14/14 [==============================] - 0s 671us/step - loss: 6.1001e-05 - accuracy: 1.0000\n14/14 [==============================] - 0s 661us/step - loss: 6.0550e-05 - accuracy: 1.0000\n14/14 [==============================] - 0s 634us/step - loss: 6.0148e-05 - accuracy: 1.0000\n14/14 [==============================] - 0s 671us/step - loss: 5.9804e-05 - accuracy: 1.0000\n14/14 [==============================] - 0s 675us/step - loss: 5.9450e-05 - accuracy: 1.0000\n14/14 [==============================] - 0s 644us/step - loss: 5.9098e-05 - accuracy: 1.0000\n14/14 [==============================] - 0s 686us/step - loss: 5.8667e-05 - accuracy: 1.0000\n14/14 [==============================] - 0s 685us/step - loss: 5.8340e-05 - accuracy: 1.0000\n14/14 [==============================] - 0s 718us/step - loss: 5.7965e-05 - accuracy: 1.0000\n14/14 [==============================] - 0s 695us/step - loss: 5.7723e-05 - accuracy: 1.0000\n14/14 [==============================] - 0s 649us/step - loss: 5.7464e-05 - accuracy: 1.0000\n14/14 [==============================] - 0s 720us/step - loss: 5.7137e-05 - accuracy: 1.0000\n14/14 [==============================] - 0s 604us/step - loss: 5.6771e-05 - accuracy: 1.0000\n14/14 [==============================] - 0s 2ms/step - loss: 5.6421e-05 - accuracy: 1.0000\n14/14 [==============================] - 0s 749us/step - loss: 5.6104e-05 - accuracy: 1.0000\n14/14 [==============================] - 0s 990us/step - loss: 5.5772e-05 - accuracy: 1.0000\n14/14 [==============================] - 0s 670us/step - loss: 5.5432e-05 - accuracy: 1.0000\n14/14 [==============================] - 0s 694us/step - loss: 5.5007e-05 - accuracy: 1.0000\nloss and accuracy on training\n[3.5045959521085024e-05]\n[1.0]\nloss and accuracy on tes\n5.500679253600538e-05\n1.0\n",
     "output_type": "stream"
    },
    {
     "data": {
      "text/plain": "<Figure size 432x288 with 1 Axes>",
      "image/png": "[encoded data removed]"
     },
     "metadata": {
      "needs_background": "light",
      "image/png": {
       "width": 392,
       "height": 278
      }
     },
     "output_type": "display_data"
    },
    {
     "data": {
      "text/plain": "<Figure size 432x288 with 1 Axes>",
      "image/png": "[encoded data removed]"
     },
     "metadata": {
      "needs_background": "light",
      "image/png": {
       "width": 392,
       "height": 278
      }
     },
     "output_type": "display_data"
    }
   ],
   "execution_count": null
  },
  {
   "cell_type": "markdown",
   "source": "# Monk 3",
   "metadata": {
    "tags": [],
    "is_collapsed": false,
    "cell_id": "00022-7025ec42-011c-47d4-b3c9-3d8fe21e83ed",
    "deepnote_cell_type": "text-cell-h1"
   }
  },
  {
   "cell_type": "code",
   "metadata": {
    "tags": [],
    "deepnote_to_be_reexecuted": false,
    "source_hash": "f24b190e",
    "execution_start": 1642859052346,
    "execution_millis": 123,
    "cell_id": "00023-74c69a78-98ff-421d-bb5f-2b2ff45595d7",
    "deepnote_cell_type": "code"
   },
   "source": "#load datasets\ncolnames = ['class', 'a1', 'a2', 'a3', 'a4', 'a5', 'a6', 'id']\ndf_monk3_train = pd.read_csv(\"./data/MONK/monks-3.train\", sep = \" \", skipinitialspace=True, names = colnames)\ndf_monk3_train.drop('id', axis = 1, inplace = True)\ndf_monk3_test = pd.read_csv(\"./data/MONK/monks-3.test\", sep = \" \", skipinitialspace=True, names = colnames)\ndf_monk3_test.drop('id', axis = 1, inplace = True)\ndf_monk3_train.head()",
   "outputs": [
    {
     "output_type": "execute_result",
     "execution_count": 10,
     "data": {
      "application/vnd.deepnote.dataframe.v3+json": {
       "column_count": 7,
       "row_count": 5,
       "columns": [
        {
         "name": "class",
         "dtype": "int64",
         "stats": {
          "unique_count": 2,
          "nan_count": 0,
          "min": "0",
          "max": "1",
          "histogram": [
           {
            "bin_start": 0,
            "bin_end": 0.1,
            "count": 2
           },
           {
            "bin_start": 0.1,
            "bin_end": 0.2,
            "count": 0
           },
           {
            "bin_start": 0.2,
            "bin_end": 0.30000000000000004,
            "count": 0
           },
           {
            "bin_start": 0.30000000000000004,
            "bin_end": 0.4,
            "count": 0
           },
           {
            "bin_start": 0.4,
            "bin_end": 0.5,
            "count": 0
           },
           {
            "bin_start": 0.5,
            "bin_end": 0.6000000000000001,
            "count": 0
           },
           {
            "bin_start": 0.6000000000000001,
            "bin_end": 0.7000000000000001,
            "count": 0
           },
           {
            "bin_start": 0.7000000000000001,
            "bin_end": 0.8,
            "count": 0
           },
           {
            "bin_start": 0.8,
            "bin_end": 0.9,
            "count": 0
           },
           {
            "bin_start": 0.9,
            "bin_end": 1,
            "count": 3
           }
          ]
         }
        },
        {
         "name": "a1",
         "dtype": "int64",
         "stats": {
          "unique_count": 1,
          "nan_count": 0,
          "min": "1",
          "max": "1",
          "histogram": [
           {
            "bin_start": 0.5,
            "bin_end": 0.6,
            "count": 0
           },
           {
            "bin_start": 0.6,
            "bin_end": 0.7,
            "count": 0
           },
           {
            "bin_start": 0.7,
            "bin_end": 0.8,
            "count": 0
           },
           {
            "bin_start": 0.8,
            "bin_end": 0.9,
            "count": 0
           },
           {
            "bin_start": 0.9,
            "bin_end": 1,
            "count": 0
           },
           {
            "bin_start": 1,
            "bin_end": 1.1,
            "count": 5
           },
           {
            "bin_start": 1.1,
            "bin_end": 1.2000000000000002,
            "count": 0
           },
           {
            "bin_start": 1.2000000000000002,
            "bin_end": 1.3,
            "count": 0
           },
           {
            "bin_start": 1.3,
            "bin_end": 1.4,
            "count": 0
           },
           {
            "bin_start": 1.4,
            "bin_end": 1.5,
            "count": 0
           }
          ]
         }
        },
        {
         "name": "a2",
         "dtype": "int64",
         "stats": {
          "unique_count": 1,
          "nan_count": 0,
          "min": "1",
          "max": "1",
          "histogram": [
           {
            "bin_start": 0.5,
            "bin_end": 0.6,
            "count": 0
           },
           {
            "bin_start": 0.6,
            "bin_end": 0.7,
            "count": 0
           },
           {
            "bin_start": 0.7,
            "bin_end": 0.8,
            "count": 0
           },
           {
            "bin_start": 0.8,
            "bin_end": 0.9,
            "count": 0
           },
           {
            "bin_start": 0.9,
            "bin_end": 1,
            "count": 0
           },
           {
            "bin_start": 1,
            "bin_end": 1.1,
            "count": 5
           },
           {
            "bin_start": 1.1,
            "bin_end": 1.2000000000000002,
            "count": 0
           },
           {
            "bin_start": 1.2000000000000002,
            "bin_end": 1.3,
            "count": 0
           },
           {
            "bin_start": 1.3,
            "bin_end": 1.4,
            "count": 0
           },
           {
            "bin_start": 1.4,
            "bin_end": 1.5,
            "count": 0
           }
          ]
         }
        },
        {
         "name": "a3",
         "dtype": "int64",
         "stats": {
          "unique_count": 1,
          "nan_count": 0,
          "min": "1",
          "max": "1",
          "histogram": [
           {
            "bin_start": 0.5,
            "bin_end": 0.6,
            "count": 0
           },
           {
            "bin_start": 0.6,
            "bin_end": 0.7,
            "count": 0
           },
           {
            "bin_start": 0.7,
            "bin_end": 0.8,
            "count": 0
           },
           {
            "bin_start": 0.8,
            "bin_end": 0.9,
            "count": 0
           },
           {
            "bin_start": 0.9,
            "bin_end": 1,
            "count": 0
           },
           {
            "bin_start": 1,
            "bin_end": 1.1,
            "count": 5
           },
           {
            "bin_start": 1.1,
            "bin_end": 1.2000000000000002,
            "count": 0
           },
           {
            "bin_start": 1.2000000000000002,
            "bin_end": 1.3,
            "count": 0
           },
           {
            "bin_start": 1.3,
            "bin_end": 1.4,
            "count": 0
           },
           {
            "bin_start": 1.4,
            "bin_end": 1.5,
            "count": 0
           }
          ]
         }
        },
        {
         "name": "a4",
         "dtype": "int64",
         "stats": {
          "unique_count": 1,
          "nan_count": 0,
          "min": "1",
          "max": "1",
          "histogram": [
           {
            "bin_start": 0.5,
            "bin_end": 0.6,
            "count": 0
           },
           {
            "bin_start": 0.6,
            "bin_end": 0.7,
            "count": 0
           },
           {
            "bin_start": 0.7,
            "bin_end": 0.8,
            "count": 0
           },
           {
            "bin_start": 0.8,
            "bin_end": 0.9,
            "count": 0
           },
           {
            "bin_start": 0.9,
            "bin_end": 1,
            "count": 0
           },
           {
            "bin_start": 1,
            "bin_end": 1.1,
            "count": 5
           },
           {
            "bin_start": 1.1,
            "bin_end": 1.2000000000000002,
            "count": 0
           },
           {
            "bin_start": 1.2000000000000002,
            "bin_end": 1.3,
            "count": 0
           },
           {
            "bin_start": 1.3,
            "bin_end": 1.4,
            "count": 0
           },
           {
            "bin_start": 1.4,
            "bin_end": 1.5,
            "count": 0
           }
          ]
         }
        },
        {
         "name": "a5",
         "dtype": "int64",
         "stats": {
          "unique_count": 4,
          "nan_count": 0,
          "min": "1",
          "max": "4",
          "histogram": [
           {
            "bin_start": 1,
            "bin_end": 1.3,
            "count": 1
           },
           {
            "bin_start": 1.3,
            "bin_end": 1.6,
            "count": 0
           },
           {
            "bin_start": 1.6,
            "bin_end": 1.9,
            "count": 0
           },
           {
            "bin_start": 1.9,
            "bin_end": 2.2,
            "count": 2
           },
           {
            "bin_start": 2.2,
            "bin_end": 2.5,
            "count": 0
           },
           {
            "bin_start": 2.5,
            "bin_end": 2.8,
            "count": 0
           },
           {
            "bin_start": 2.8,
            "bin_end": 3.1,
            "count": 1
           },
           {
            "bin_start": 3.1,
            "bin_end": 3.4,
            "count": 0
           },
           {
            "bin_start": 3.4,
            "bin_end": 3.6999999999999997,
            "count": 0
           },
           {
            "bin_start": 3.6999999999999997,
            "bin_end": 4,
            "count": 1
           }
          ]
         }
        },
        {
         "name": "a6",
         "dtype": "int64",
         "stats": {
          "unique_count": 2,
          "nan_count": 0,
          "min": "1",
          "max": "2",
          "histogram": [
           {
            "bin_start": 1,
            "bin_end": 1.1,
            "count": 3
           },
           {
            "bin_start": 1.1,
            "bin_end": 1.2,
            "count": 0
           },
           {
            "bin_start": 1.2,
            "bin_end": 1.3,
            "count": 0
           },
           {
            "bin_start": 1.3,
            "bin_end": 1.4,
            "count": 0
           },
           {
            "bin_start": 1.4,
            "bin_end": 1.5,
            "count": 0
           },
           {
            "bin_start": 1.5,
            "bin_end": 1.6,
            "count": 0
           },
           {
            "bin_start": 1.6,
            "bin_end": 1.7000000000000002,
            "count": 0
           },
           {
            "bin_start": 1.7000000000000002,
            "bin_end": 1.8,
            "count": 0
           },
           {
            "bin_start": 1.8,
            "bin_end": 1.9,
            "count": 0
           },
           {
            "bin_start": 1.9,
            "bin_end": 2,
            "count": 2
           }
          ]
         }
        },
        {
         "name": "_deepnote_index_column",
         "dtype": "int64"
        }
       ],
       "rows": [
        {
         "class": 1,
         "a1": 1,
         "a2": 1,
         "a3": 1,
         "a4": 1,
         "a5": 1,
         "a6": 2,
         "_deepnote_index_column": 0
        },
        {
         "class": 1,
         "a1": 1,
         "a2": 1,
         "a3": 1,
         "a4": 1,
         "a5": 2,
         "a6": 1,
         "_deepnote_index_column": 1
        },
        {
         "class": 1,
         "a1": 1,
         "a2": 1,
         "a3": 1,
         "a4": 1,
         "a5": 2,
         "a6": 2,
         "_deepnote_index_column": 2
        },
        {
         "class": 0,
         "a1": 1,
         "a2": 1,
         "a3": 1,
         "a4": 1,
         "a5": 3,
         "a6": 1,
         "_deepnote_index_column": 3
        },
        {
         "class": 0,
         "a1": 1,
         "a2": 1,
         "a3": 1,
         "a4": 1,
         "a5": 4,
         "a6": 1,
         "_deepnote_index_column": 4
        }
       ]
      },
      "text/plain": "   class  a1  a2  a3  a4  a5  a6\n0      1   1   1   1   1   1   2\n1      1   1   1   1   1   2   1\n2      1   1   1   1   1   2   2\n3      0   1   1   1   1   3   1\n4      0   1   1   1   1   4   1",
      "text/html": "<div>\n<style scoped>\n    .dataframe tbody tr th:only-of-type {\n        vertical-align: middle;\n    }\n\n    .dataframe tbody tr th {\n        vertical-align: top;\n    }\n\n    .dataframe thead th {\n        text-align: right;\n    }\n</style>\n<table border=\"1\" class=\"dataframe\">\n  <thead>\n    <tr style=\"text-align: right;\">\n      <th></th>\n      <th>class</th>\n      <th>a1</th>\n      <th>a2</th>\n      <th>a3</th>\n      <th>a4</th>\n      <th>a5</th>\n      <th>a6</th>\n    </tr>\n  </thead>\n  <tbody>\n    <tr>\n      <th>0</th>\n      <td>1</td>\n      <td>1</td>\n      <td>1</td>\n      <td>1</td>\n      <td>1</td>\n      <td>1</td>\n      <td>2</td>\n    </tr>\n    <tr>\n      <th>1</th>\n      <td>1</td>\n      <td>1</td>\n      <td>1</td>\n      <td>1</td>\n      <td>1</td>\n      <td>2</td>\n      <td>1</td>\n    </tr>\n    <tr>\n      <th>2</th>\n      <td>1</td>\n      <td>1</td>\n      <td>1</td>\n      <td>1</td>\n      <td>1</td>\n      <td>2</td>\n      <td>2</td>\n    </tr>\n    <tr>\n      <th>3</th>\n      <td>0</td>\n      <td>1</td>\n      <td>1</td>\n      <td>1</td>\n      <td>1</td>\n      <td>3</td>\n      <td>1</td>\n    </tr>\n    <tr>\n      <th>4</th>\n      <td>0</td>\n      <td>1</td>\n      <td>1</td>\n      <td>1</td>\n      <td>1</td>\n      <td>4</td>\n      <td>1</td>\n    </tr>\n  </tbody>\n</table>\n</div>"
     },
     "metadata": {}
    }
   ],
   "execution_count": 10
  },
  {
   "cell_type": "code",
   "metadata": {
    "tags": [],
    "deepnote_to_be_reexecuted": false,
    "source_hash": "bac1fb6",
    "execution_start": 1642859052469,
    "execution_millis": 7,
    "cell_id": "00024-3d27305d-6962-41ec-a5ff-a9661f5334b4",
    "deepnote_cell_type": "code"
   },
   "source": "#get attribute and target values\nX_all = df_monk3_train.iloc[:, 1:7].values\ny_all = df_monk3_train.iloc[:, 0].values\nX_test = df_monk3_test.iloc[:, 1:7].values\ny_test = df_monk3_test.iloc[:, 0].values",
   "outputs": [],
   "execution_count": 11
  },
  {
   "cell_type": "code",
   "metadata": {
    "tags": [],
    "deepnote_to_be_reexecuted": false,
    "source_hash": "a89e6810",
    "execution_start": 1642859052485,
    "execution_millis": 66,
    "cell_id": "00025-827c213d-ba73-45c0-becd-7a4169efedc0",
    "deepnote_cell_type": "code"
   },
   "source": "from sklearn.utils import shuffle\nX_all, y_all = shuffle(X_all, y_all)\nX_all, X_test = one_hot_encoder(X_all, X_test)\nval_size =int(0.2 * len(X_all))\nX_val = X_all[:val_size]\ny_val = y_all[:val_size]\nX_train = X_all[val_size:]\ny_train = y_all[val_size:]\nprint(X_val.shape)\nprint(X_train.shape)\nprint(X_test.shape)\nprint(X_train[0])",
   "outputs": [
    {
     "name": "stdout",
     "text": "(24, 17)\n(98, 17)\n(432, 17)\n[0. 0. 1. 0. 1. 0. 0. 1. 0. 1. 0. 1. 0. 0. 0. 0. 1.]\n",
     "output_type": "stream"
    }
   ],
   "execution_count": 12
  },
  {
   "cell_type": "code",
   "metadata": {
    "tags": [],
    "deepnote_to_be_reexecuted": false,
    "source_hash": "9bd62ff9",
    "execution_start": 1642859052552,
    "execution_millis": 30,
    "cell_id": "00026-6b3a9ad0-8839-4ca4-9d09-46e031eda630",
    "deepnote_cell_type": "code"
   },
   "source": "tuner = kt.RandomSearch(\n    hypermodel = build_model,\n    #MyHyperModel(),\n    objective='val_accuracy',\n    max_trials=100,\n    overwrite=True,\n)\ntuner.search_space_summary()",
   "outputs": [
    {
     "name": "stdout",
     "text": "Search space summary\nDefault search space size: 3\nunits (Int)\n{'default': None, 'conditions': [], 'min_value': 3, 'max_value': 15, 'step': 3, 'sampling': None}\nlearning_rate (Float)\n{'default': 0.01, 'conditions': [], 'min_value': 0.01, 'max_value': 1.0, 'step': 0.02, 'sampling': None}\nmomentum (Choice)\n{'default': 0.8, 'conditions': [], 'values': [0.8, 0.85, 0.9, 0.95], 'ordered': True}\n",
     "output_type": "stream"
    }
   ],
   "execution_count": 13
  },
  {
   "cell_type": "code",
   "metadata": {
    "tags": [],
    "deepnote_to_be_reexecuted": false,
    "source_hash": "75169eb9",
    "execution_start": 1642859052583,
    "execution_millis": 2081778,
    "cell_id": "00027-957332a0-9cca-483c-a067-c61523226481",
    "deepnote_cell_type": "code"
   },
   "source": "tuner.search(X_train, y_train, epochs=150, verbose=0, batch_size=32, validation_data=(X_val, y_val) )\nhyperparameters = tuner.get_best_hyperparameters()[0]\nmodel = build_model(hyperparameters)\nmodel.build(input_shape=(None, 17))\nprint(model.summary())\nprint(hyperparameters.get('learning_rate'))\nprint(hyperparameters.get('momentum'))",
   "outputs": [
    {
     "name": "stdout",
     "text": "WARNING:tensorflow:Callback method `on_train_batch_end` is slow compared to the batch time (batch time: 0.0013s vs `on_train_batch_end` time: 0.0070s). Check your callbacks.\nINFO:tensorflow:Oracle triggered exit\nModel: \"sequential_1\"\n_________________________________________________________________\nLayer (type)                 Output Shape              Param #   \n=================================================================\ndense_2 (Dense)              (None, 3)                 54        \n_________________________________________________________________\ndense_3 (Dense)              (None, 1)                 4         \n=================================================================\nTotal params: 58\nTrainable params: 58\nNon-trainable params: 0\n_________________________________________________________________\nNone\n0.8299999999999998\n0.95\n",
     "output_type": "stream"
    }
   ],
   "execution_count": 14
  },
  {
   "cell_type": "code",
   "metadata": {
    "tags": [],
    "deepnote_to_be_reexecuted": false,
    "source_hash": "87ab56e7",
    "execution_start": 1642861134362,
    "execution_millis": 49914,
    "deepnote_output_heights": [
     null,
     null,
     280,
     280
    ],
    "cell_id": "00028-124da7de-7db7-4ce0-bbb8-03900f63b23b",
    "deepnote_cell_type": "code"
   },
   "source": "train_loss = []\ntest_loss =[]\ntrain_acc = []\ntest_acc = []\n\nfor i in range(150):\n    history = model.fit( X_all, y_all, batch_size=32, verbose=0)\n    train_loss.append(history.history['loss'])\n    train_acc.append(history.history['accuracy'])\n    score = model.evaluate(X_test, y_test)\n    test_loss.append(score[0])\n    test_acc.append(score[1])\n\nprint(\"loss and accuracy on training\")\nprint(train_loss[149])\nprint(train_acc[149])\nprint(\"loss and accuracy on tes\")\nprint(test_loss[149])\nprint(test_acc[149])\n\nplt.plot(train_loss, '-', label='train')\nplt.plot(test_loss, '-.', label='test')\nplt.legend()\nplt.title('loss')\nplt.xlabel('epochs')\nplt.ylabel('loss')\nplt.show()\nplt.plot(train_acc, '-', label='train')\nplt.plot(test_acc, '-.', label='test')\nplt.legend()\nplt.title('accuracy')\nplt.xlabel('epochs')\nplt.ylabel('accuracy')\nplt.show()",
   "outputs": [
    {
     "name": "stdout",
     "text": "14/14 [==============================] - 0s 1ms/step - loss: 0.1980 - accuracy: 0.7431\n14/14 [==============================] - 0s 1ms/step - loss: 0.1188 - accuracy: 0.9190\n14/14 [==============================] - 0s 1ms/step - loss: 0.0499 - accuracy: 0.9722\n14/14 [==============================] - 0s 5ms/step - loss: 0.0348 - accuracy: 0.9722\n14/14 [==============================] - 0s 2ms/step - loss: 0.0514 - accuracy: 0.9306\n14/14 [==============================] - 0s 1ms/step - loss: 0.0356 - accuracy: 0.9630\n14/14 [==============================] - 0s 5ms/step - loss: 0.0421 - accuracy: 0.9514\n14/14 [==============================] - 0s 1ms/step - loss: 0.0513 - accuracy: 0.9468\n14/14 [==============================] - 0s 1ms/step - loss: 0.0406 - accuracy: 0.9560\n14/14 [==============================] - 0s 1ms/step - loss: 0.0472 - accuracy: 0.9537\n14/14 [==============================] - 0s 2ms/step - loss: 0.0477 - accuracy: 0.9468\n14/14 [==============================] - 0s 2ms/step - loss: 0.0425 - accuracy: 0.9514\n14/14 [==============================] - 0s 2ms/step - loss: 0.0476 - accuracy: 0.9421\n14/14 [==============================] - 0s 2ms/step - loss: 0.0507 - accuracy: 0.9421\n14/14 [==============================] - 0s 2ms/step - loss: 0.0533 - accuracy: 0.9375\n14/14 [==============================] - 0s 2ms/step - loss: 0.0563 - accuracy: 0.9329\n14/14 [==============================] - 0s 2ms/step - loss: 0.0642 - accuracy: 0.9259\n14/14 [==============================] - 0s 2ms/step - loss: 0.0456 - accuracy: 0.9514\n14/14 [==============================] - 0s 2ms/step - loss: 0.0595 - accuracy: 0.9352\n14/14 [==============================] - 0s 2ms/step - loss: 0.0813 - accuracy: 0.9074\n14/14 [==============================] - 0s 1ms/step - loss: 0.0694 - accuracy: 0.9190\n14/14 [==============================] - 0s 1ms/step - loss: 0.0602 - accuracy: 0.9306\n14/14 [==============================] - 0s 1ms/step - loss: 0.0733 - accuracy: 0.9144\n14/14 [==============================] - 0s 2ms/step - loss: 0.0768 - accuracy: 0.9144\n14/14 [==============================] - 0s 4ms/step - loss: 0.0687 - accuracy: 0.9213\n14/14 [==============================] - 0s 1ms/step - loss: 0.0741 - accuracy: 0.9167\n14/14 [==============================] - 0s 1ms/step - loss: 0.0767 - accuracy: 0.9167\n14/14 [==============================] - 0s 1ms/step - loss: 0.0783 - accuracy: 0.9167\n14/14 [==============================] - 0s 2ms/step - loss: 0.0725 - accuracy: 0.9167\n14/14 [==============================] - 0s 1ms/step - loss: 0.0733 - accuracy: 0.9167\n14/14 [==============================] - 0s 5ms/step - loss: 0.0838 - accuracy: 0.9144\n14/14 [==============================] - 0s 6ms/step - loss: 0.0819 - accuracy: 0.9120\n14/14 [==============================] - 0s 6ms/step - loss: 0.0755 - accuracy: 0.9144\n14/14 [==============================] - 0s 6ms/step - loss: 0.0727 - accuracy: 0.9167\n14/14 [==============================] - 0s 2ms/step - loss: 0.0764 - accuracy: 0.9120\n14/14 [==============================] - 0s 3ms/step - loss: 0.0790 - accuracy: 0.9120\n14/14 [==============================] - 0s 1ms/step - loss: 0.0786 - accuracy: 0.9120\n14/14 [==============================] - 0s 1ms/step - loss: 0.0750 - accuracy: 0.9144\n14/14 [==============================] - 0s 1ms/step - loss: 0.0745 - accuracy: 0.9167\n14/14 [==============================] - 0s 1ms/step - loss: 0.0787 - accuracy: 0.9120\n14/14 [==============================] - 0s 5ms/step - loss: 0.0814 - accuracy: 0.9120\n14/14 [==============================] - 0s 1ms/step - loss: 0.0825 - accuracy: 0.9120\n14/14 [==============================] - 0s 2ms/step - loss: 0.0827 - accuracy: 0.9120\n",
     "output_type": "stream"
    },
    {
     "name": "stdout",
     "text": "14/14 [==============================] - 0s 3ms/step - loss: 0.0825 - accuracy: 0.9120\n14/14 [==============================] - 0s 2ms/step - loss: 0.0821 - accuracy: 0.9120\n14/14 [==============================] - 0s 1ms/step - loss: 0.0818 - accuracy: 0.9120\n14/14 [==============================] - 0s 2ms/step - loss: 0.0818 - accuracy: 0.9120\n14/14 [==============================] - 0s 2ms/step - loss: 0.0821 - accuracy: 0.9120\n14/14 [==============================] - 0s 2ms/step - loss: 0.0824 - accuracy: 0.9120\n14/14 [==============================] - 0s 2ms/step - loss: 0.0827 - accuracy: 0.9120\n14/14 [==============================] - 0s 2ms/step - loss: 0.0829 - accuracy: 0.9120\n14/14 [==============================] - 0s 1ms/step - loss: 0.0830 - accuracy: 0.9144\n14/14 [==============================] - 0s 2ms/step - loss: 0.0831 - accuracy: 0.9144\n14/14 [==============================] - 0s 3ms/step - loss: 0.0830 - accuracy: 0.9144\n14/14 [==============================] - 0s 5ms/step - loss: 0.0829 - accuracy: 0.9120\n14/14 [==============================] - 0s 2ms/step - loss: 0.0828 - accuracy: 0.9120\n14/14 [==============================] - 0s 1ms/step - loss: 0.0827 - accuracy: 0.9120\n14/14 [==============================] - 0s 7ms/step - loss: 0.0826 - accuracy: 0.9120\n14/14 [==============================] - 0s 1ms/step - loss: 0.0825 - accuracy: 0.9120\n14/14 [==============================] - 0s 5ms/step - loss: 0.0825 - accuracy: 0.9120\n14/14 [==============================] - 0s 5ms/step - loss: 0.0826 - accuracy: 0.9120\n14/14 [==============================] - 0s 2ms/step - loss: 0.0827 - accuracy: 0.9120\n14/14 [==============================] - 0s 6ms/step - loss: 0.0828 - accuracy: 0.9120\n14/14 [==============================] - 0s 2ms/step - loss: 0.0829 - accuracy: 0.9120\n14/14 [==============================] - 0s 1ms/step - loss: 0.0829 - accuracy: 0.9120\n14/14 [==============================] - 0s 6ms/step - loss: 0.0829 - accuracy: 0.9120\n14/14 [==============================] - 0s 6ms/step - loss: 0.0828 - accuracy: 0.9120\n14/14 [==============================] - 0s 1ms/step - loss: 0.0828 - accuracy: 0.9120\n14/14 [==============================] - 0s 6ms/step - loss: 0.0827 - accuracy: 0.9120\n14/14 [==============================] - 0s 2ms/step - loss: 0.0827 - accuracy: 0.9120\n14/14 [==============================] - 0s 2ms/step - loss: 0.0827 - accuracy: 0.9120\n14/14 [==============================] - 0s 2ms/step - loss: 0.0827 - accuracy: 0.9120\n14/14 [==============================] - 0s 2ms/step - loss: 0.0827 - accuracy: 0.9120\n14/14 [==============================] - 0s 6ms/step - loss: 0.0827 - accuracy: 0.9120\n14/14 [==============================] - 0s 6ms/step - loss: 0.0827 - accuracy: 0.9120\n14/14 [==============================] - 0s 1ms/step - loss: 0.0827 - accuracy: 0.9120\n14/14 [==============================] - 0s 1ms/step - loss: 0.0827 - accuracy: 0.9120\n14/14 [==============================] - 0s 6ms/step - loss: 0.0827 - accuracy: 0.9120\n14/14 [==============================] - 0s 1ms/step - loss: 0.0827 - accuracy: 0.9120\n14/14 [==============================] - 0s 6ms/step - loss: 0.0827 - accuracy: 0.9120\n14/14 [==============================] - 0s 6ms/step - loss: 0.0827 - accuracy: 0.9120\n14/14 [==============================] - 0s 1ms/step - loss: 0.0827 - accuracy: 0.9120\n14/14 [==============================] - 0s 1ms/step - loss: 0.0827 - accuracy: 0.9120\n14/14 [==============================] - 0s 6ms/step - loss: 0.0827 - accuracy: 0.9120\n14/14 [==============================] - 0s 1ms/step - loss: 0.0827 - accuracy: 0.9120\n14/14 [==============================] - 0s 5ms/step - loss: 0.0827 - accuracy: 0.9120\n14/14 [==============================] - 0s 6ms/step - loss: 0.0826 - accuracy: 0.9120\n14/14 [==============================] - 0s 6ms/step - loss: 0.0826 - accuracy: 0.9120\n14/14 [==============================] - 0s 5ms/step - loss: 0.0826 - accuracy: 0.9120\n14/14 [==============================] - 0s 1ms/step - loss: 0.0826 - accuracy: 0.9120\n14/14 [==============================] - 0s 2ms/step - loss: 0.0826 - accuracy: 0.9120\n14/14 [==============================] - 0s 5ms/step - loss: 0.0827 - accuracy: 0.9120\n14/14 [==============================] - 0s 1ms/step - loss: 0.0827 - accuracy: 0.9120\n14/14 [==============================] - 0s 1ms/step - loss: 0.0827 - accuracy: 0.9120\n14/14 [==============================] - 0s 1ms/step - loss: 0.0827 - accuracy: 0.9120\n14/14 [==============================] - 0s 6ms/step - loss: 0.0827 - accuracy: 0.9120\n14/14 [==============================] - 0s 3ms/step - loss: 0.0827 - accuracy: 0.9120\n14/14 [==============================] - 0s 1ms/step - loss: 0.0827 - accuracy: 0.9120\n14/14 [==============================] - 0s 6ms/step - loss: 0.0827 - accuracy: 0.9120\n14/14 [==============================] - 0s 1ms/step - loss: 0.0827 - accuracy: 0.9120\n14/14 [==============================] - 0s 6ms/step - loss: 0.0826 - accuracy: 0.9120\n14/14 [==============================] - 0s 6ms/step - loss: 0.0826 - accuracy: 0.9120\n14/14 [==============================] - 0s 2ms/step - loss: 0.0826 - accuracy: 0.9120\n14/14 [==============================] - 0s 2ms/step - loss: 0.0826 - accuracy: 0.9120\n14/14 [==============================] - 0s 1ms/step - loss: 0.0826 - accuracy: 0.9120\n14/14 [==============================] - 0s 2ms/step - loss: 0.0826 - accuracy: 0.9120\n14/14 [==============================] - 0s 5ms/step - loss: 0.0826 - accuracy: 0.9120\n14/14 [==============================] - 0s 1ms/step - loss: 0.0826 - accuracy: 0.9120\n14/14 [==============================] - 0s 1ms/step - loss: 0.0826 - accuracy: 0.9120\n14/14 [==============================] - 0s 1ms/step - loss: 0.0826 - accuracy: 0.9120\n14/14 [==============================] - 0s 1ms/step - loss: 0.0826 - accuracy: 0.9120\n14/14 [==============================] - 0s 6ms/step - loss: 0.0826 - accuracy: 0.9120\n14/14 [==============================] - 0s 1ms/step - loss: 0.0826 - accuracy: 0.9120\n14/14 [==============================] - 0s 6ms/step - loss: 0.0826 - accuracy: 0.9120\n14/14 [==============================] - 0s 1ms/step - loss: 0.0826 - accuracy: 0.9120\n14/14 [==============================] - 0s 6ms/step - loss: 0.0826 - accuracy: 0.9120\n14/14 [==============================] - 0s 3ms/step - loss: 0.0825 - accuracy: 0.9120\n14/14 [==============================] - 0s 4ms/step - loss: 0.0825 - accuracy: 0.9120\n14/14 [==============================] - 0s 6ms/step - loss: 0.0825 - accuracy: 0.9120\n14/14 [==============================] - 0s 3ms/step - loss: 0.0825 - accuracy: 0.9144\n14/14 [==============================] - 0s 6ms/step - loss: 0.0825 - accuracy: 0.9144\n14/14 [==============================] - 0s 5ms/step - loss: 0.0825 - accuracy: 0.9144\n14/14 [==============================] - 0s 6ms/step - loss: 0.0825 - accuracy: 0.9144\n14/14 [==============================] - 0s 6ms/step - loss: 0.0825 - accuracy: 0.9144\n14/14 [==============================] - 0s 3ms/step - loss: 0.0825 - accuracy: 0.9144\n14/14 [==============================] - 0s 1ms/step - loss: 0.0825 - accuracy: 0.9144\n14/14 [==============================] - 0s 5ms/step - loss: 0.0825 - accuracy: 0.9144\n14/14 [==============================] - 0s 2ms/step - loss: 0.0825 - accuracy: 0.9144\n14/14 [==============================] - 0s 5ms/step - loss: 0.0825 - accuracy: 0.9144\n14/14 [==============================] - 0s 2ms/step - loss: 0.0825 - accuracy: 0.9144\n14/14 [==============================] - 0s 2ms/step - loss: 0.0825 - accuracy: 0.9144\n14/14 [==============================] - 0s 2ms/step - loss: 0.0825 - accuracy: 0.9144\n14/14 [==============================] - 0s 2ms/step - loss: 0.0825 - accuracy: 0.9144\n14/14 [==============================] - 0s 6ms/step - loss: 0.0825 - accuracy: 0.9144\n14/14 [==============================] - 0s 6ms/step - loss: 0.0825 - accuracy: 0.9144\n14/14 [==============================] - 0s 1ms/step - loss: 0.0825 - accuracy: 0.9144\n14/14 [==============================] - 0s 1ms/step - loss: 0.0825 - accuracy: 0.9144\n14/14 [==============================] - 0s 6ms/step - loss: 0.0825 - accuracy: 0.9144\n14/14 [==============================] - 0s 6ms/step - loss: 0.0825 - accuracy: 0.9144\n14/14 [==============================] - 0s 5ms/step - loss: 0.0825 - accuracy: 0.9144\n14/14 [==============================] - 0s 2ms/step - loss: 0.0825 - accuracy: 0.9144\n14/14 [==============================] - 0s 6ms/step - loss: 0.0825 - accuracy: 0.9144\n14/14 [==============================] - 0s 6ms/step - loss: 0.0825 - accuracy: 0.9144\n14/14 [==============================] - 0s 2ms/step - loss: 0.0825 - accuracy: 0.9144\n14/14 [==============================] - 0s 1ms/step - loss: 0.0825 - accuracy: 0.9144\n14/14 [==============================] - 0s 1ms/step - loss: 0.0825 - accuracy: 0.9144\n14/14 [==============================] - 0s 2ms/step - loss: 0.0825 - accuracy: 0.9144\n14/14 [==============================] - 0s 2ms/step - loss: 0.0825 - accuracy: 0.9144\n14/14 [==============================] - 0s 1ms/step - loss: 0.0824 - accuracy: 0.9144\n14/14 [==============================] - 0s 5ms/step - loss: 0.0825 - accuracy: 0.9144\nloss and accuracy on training\n[0.024617541581392288]\n[0.9754098653793335]\nloss and accuracy on tes\n0.08245360106229782\n0.9143518805503845\n",
     "output_type": "stream"
    },
    {
     "data": {
      "text/plain": "<Figure size 432x288 with 1 Axes>",
      "image/png": "[encoded data removed]"
     },
     "metadata": {
      "needs_background": "light",
      "image/png": {
       "width": 392,
       "height": 278
      }
     },
     "output_type": "display_data"
    },
    {
     "data": {
      "text/plain": "<Figure size 432x288 with 1 Axes>",
      "image/png": "[encoded data removed]"
     },
     "metadata": {
      "needs_background": "light",
      "image/png": {
       "width": 392,
       "height": 278
      }
     },
     "output_type": "display_data"
    }
   ],
   "execution_count": 15
  },
  {
   "cell_type": "markdown",
   "source": "<a style='text-decoration:none;line-height:16px;display:flex;color:#5B5B62;padding:10px;justify-content:end;' href='https://deepnote.com?utm_source=created-in-deepnote-cell&projectId=d9d840c9-75b3-4185-bb01-105f5cca8d83' target=\"_blank\">\n<img alt='Created in deepnote.com' style='display:inline;max-height:16px;margin:0px;margin-right:7.5px;' src='data:image/svg+xml;base64,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' > </img>\nCreated in <span style='font-weight:600;margin-left:4px;'>Deepnote</span></a>",
   "metadata": {
    "tags": [],
    "created_in_deepnote_cell": true,
    "deepnote_cell_type": "markdown"
   }
  }
 ],
 "nbformat": 4,
 "nbformat_minor": 2,
 "metadata": {
  "orig_nbformat": 2,
  "deepnote": {
   "is_reactive": false
  },
  "deepnote_notebook_id": "d0f14768-7f23-4ab4-b55c-bd8d460e86b7",
  "deepnote_execution_queue": []
 }
}