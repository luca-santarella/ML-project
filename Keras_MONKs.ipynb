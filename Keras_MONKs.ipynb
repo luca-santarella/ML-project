{
 "cells": [
  {
   "cell_type": "code",
   "metadata": {
    "tags": [],
    "deepnote_to_be_reexecuted": false,
    "source_hash": "74d72b7c",
    "execution_start": 1642935442684,
    "execution_millis": 32154,
    "deepnote_output_heights": [
     611
    ],
    "cell_id": "0c7e8a27-d9c8-4dc7-805b-381601adfd7a",
    "output_cleared": true,
    "deepnote_cell_type": "code"
   },
   "source": "import pandas as pd\nimport numpy as np\nimport matplotlib.pyplot as plt\nimport keras_tuner as kt\nimport tensorflow as tf\n\nfrom tensorflow.keras.models import Sequential\nfrom tensorflow.keras import layers, activations\nfrom tensorflow.keras import initializers\nfrom tensorflow.keras import regularizers\nfrom tensorflow.keras import backend as K\nfrom tensorflow.keras import optimizers\nfrom tensorflow.keras import utils\n\nfrom sklearn.preprocessing import OneHotEncoder\n",
   "execution_count": 1,
   "outputs": []
  },
  {
   "cell_type": "markdown",
   "source": "# Load data",
   "metadata": {
    "cell_id": "dbe1ad67-3464-45fa-9bcf-3510fbdb14d0",
    "tags": [],
    "is_collapsed": false,
    "deepnote_cell_type": "text-cell-h1"
   }
  },
  {
   "cell_type": "code",
   "metadata": {
    "tags": [],
    "deepnote_to_be_reexecuted": false,
    "source_hash": "14ca8feb",
    "execution_start": 1642935474844,
    "execution_millis": 506,
    "cell_id": "00001-c73bff9d-116e-43fb-b008-57e4bf58f656",
    "output_cleared": false,
    "deepnote_cell_type": "code"
   },
   "source": "colnames = ['class', 'a1', 'a2', 'a3', 'a4', 'a5', 'a6', 'id']\ndf_monk1_train = pd.read_csv(\"./data/MONK/monks-1.train\", sep = \" \", skipinitialspace=True, names = colnames)\ndf_monk1_train.drop('id', axis = 1, inplace = True)\ndf_monk1_test = pd.read_csv(\"./data/MONK/monks-1.test\", sep = \" \", skipinitialspace=True, names = colnames)\ndf_monk1_test.drop('id', axis = 1, inplace = True)\ndf_monk1_train.head()",
   "execution_count": 2,
   "outputs": [
    {
     "output_type": "execute_result",
     "execution_count": 2,
     "data": {
      "application/vnd.deepnote.dataframe.v3+json": {
       "column_count": 7,
       "row_count": 5,
       "columns": [
        {
         "name": "class",
         "dtype": "int64",
         "stats": {
          "unique_count": 1,
          "nan_count": 0,
          "min": "1",
          "max": "1",
          "histogram": [
           {
            "bin_start": 0.5,
            "bin_end": 0.6,
            "count": 0
           },
           {
            "bin_start": 0.6,
            "bin_end": 0.7,
            "count": 0
           },
           {
            "bin_start": 0.7,
            "bin_end": 0.8,
            "count": 0
           },
           {
            "bin_start": 0.8,
            "bin_end": 0.9,
            "count": 0
           },
           {
            "bin_start": 0.9,
            "bin_end": 1,
            "count": 0
           },
           {
            "bin_start": 1,
            "bin_end": 1.1,
            "count": 5
           },
           {
            "bin_start": 1.1,
            "bin_end": 1.2000000000000002,
            "count": 0
           },
           {
            "bin_start": 1.2000000000000002,
            "bin_end": 1.3,
            "count": 0
           },
           {
            "bin_start": 1.3,
            "bin_end": 1.4,
            "count": 0
           },
           {
            "bin_start": 1.4,
            "bin_end": 1.5,
            "count": 0
           }
          ]
         }
        },
        {
         "name": "a1",
         "dtype": "int64",
         "stats": {
          "unique_count": 1,
          "nan_count": 0,
          "min": "1",
          "max": "1",
          "histogram": [
           {
            "bin_start": 0.5,
            "bin_end": 0.6,
            "count": 0
           },
           {
            "bin_start": 0.6,
            "bin_end": 0.7,
            "count": 0
           },
           {
            "bin_start": 0.7,
            "bin_end": 0.8,
            "count": 0
           },
           {
            "bin_start": 0.8,
            "bin_end": 0.9,
            "count": 0
           },
           {
            "bin_start": 0.9,
            "bin_end": 1,
            "count": 0
           },
           {
            "bin_start": 1,
            "bin_end": 1.1,
            "count": 5
           },
           {
            "bin_start": 1.1,
            "bin_end": 1.2000000000000002,
            "count": 0
           },
           {
            "bin_start": 1.2000000000000002,
            "bin_end": 1.3,
            "count": 0
           },
           {
            "bin_start": 1.3,
            "bin_end": 1.4,
            "count": 0
           },
           {
            "bin_start": 1.4,
            "bin_end": 1.5,
            "count": 0
           }
          ]
         }
        },
        {
         "name": "a2",
         "dtype": "int64",
         "stats": {
          "unique_count": 1,
          "nan_count": 0,
          "min": "1",
          "max": "1",
          "histogram": [
           {
            "bin_start": 0.5,
            "bin_end": 0.6,
            "count": 0
           },
           {
            "bin_start": 0.6,
            "bin_end": 0.7,
            "count": 0
           },
           {
            "bin_start": 0.7,
            "bin_end": 0.8,
            "count": 0
           },
           {
            "bin_start": 0.8,
            "bin_end": 0.9,
            "count": 0
           },
           {
            "bin_start": 0.9,
            "bin_end": 1,
            "count": 0
           },
           {
            "bin_start": 1,
            "bin_end": 1.1,
            "count": 5
           },
           {
            "bin_start": 1.1,
            "bin_end": 1.2000000000000002,
            "count": 0
           },
           {
            "bin_start": 1.2000000000000002,
            "bin_end": 1.3,
            "count": 0
           },
           {
            "bin_start": 1.3,
            "bin_end": 1.4,
            "count": 0
           },
           {
            "bin_start": 1.4,
            "bin_end": 1.5,
            "count": 0
           }
          ]
         }
        },
        {
         "name": "a3",
         "dtype": "int64",
         "stats": {
          "unique_count": 2,
          "nan_count": 0,
          "min": "1",
          "max": "2",
          "histogram": [
           {
            "bin_start": 1,
            "bin_end": 1.1,
            "count": 4
           },
           {
            "bin_start": 1.1,
            "bin_end": 1.2,
            "count": 0
           },
           {
            "bin_start": 1.2,
            "bin_end": 1.3,
            "count": 0
           },
           {
            "bin_start": 1.3,
            "bin_end": 1.4,
            "count": 0
           },
           {
            "bin_start": 1.4,
            "bin_end": 1.5,
            "count": 0
           },
           {
            "bin_start": 1.5,
            "bin_end": 1.6,
            "count": 0
           },
           {
            "bin_start": 1.6,
            "bin_end": 1.7000000000000002,
            "count": 0
           },
           {
            "bin_start": 1.7000000000000002,
            "bin_end": 1.8,
            "count": 0
           },
           {
            "bin_start": 1.8,
            "bin_end": 1.9,
            "count": 0
           },
           {
            "bin_start": 1.9,
            "bin_end": 2,
            "count": 1
           }
          ]
         }
        },
        {
         "name": "a4",
         "dtype": "int64",
         "stats": {
          "unique_count": 2,
          "nan_count": 0,
          "min": "1",
          "max": "3",
          "histogram": [
           {
            "bin_start": 1,
            "bin_end": 1.2,
            "count": 3
           },
           {
            "bin_start": 1.2,
            "bin_end": 1.4,
            "count": 0
           },
           {
            "bin_start": 1.4,
            "bin_end": 1.6,
            "count": 0
           },
           {
            "bin_start": 1.6,
            "bin_end": 1.8,
            "count": 0
           },
           {
            "bin_start": 1.8,
            "bin_end": 2,
            "count": 0
           },
           {
            "bin_start": 2,
            "bin_end": 2.2,
            "count": 0
           },
           {
            "bin_start": 2.2,
            "bin_end": 2.4000000000000004,
            "count": 0
           },
           {
            "bin_start": 2.4000000000000004,
            "bin_end": 2.6,
            "count": 0
           },
           {
            "bin_start": 2.6,
            "bin_end": 2.8,
            "count": 0
           },
           {
            "bin_start": 2.8,
            "bin_end": 3,
            "count": 2
           }
          ]
         }
        },
        {
         "name": "a5",
         "dtype": "int64",
         "stats": {
          "unique_count": 2,
          "nan_count": 0,
          "min": "2",
          "max": "3",
          "histogram": [
           {
            "bin_start": 2,
            "bin_end": 2.1,
            "count": 2
           },
           {
            "bin_start": 2.1,
            "bin_end": 2.2,
            "count": 0
           },
           {
            "bin_start": 2.2,
            "bin_end": 2.3,
            "count": 0
           },
           {
            "bin_start": 2.3,
            "bin_end": 2.4,
            "count": 0
           },
           {
            "bin_start": 2.4,
            "bin_end": 2.5,
            "count": 0
           },
           {
            "bin_start": 2.5,
            "bin_end": 2.6,
            "count": 0
           },
           {
            "bin_start": 2.6,
            "bin_end": 2.7,
            "count": 0
           },
           {
            "bin_start": 2.7,
            "bin_end": 2.8,
            "count": 0
           },
           {
            "bin_start": 2.8,
            "bin_end": 2.9,
            "count": 0
           },
           {
            "bin_start": 2.9,
            "bin_end": 3,
            "count": 3
           }
          ]
         }
        },
        {
         "name": "a6",
         "dtype": "int64",
         "stats": {
          "unique_count": 2,
          "nan_count": 0,
          "min": "1",
          "max": "2",
          "histogram": [
           {
            "bin_start": 1,
            "bin_end": 1.1,
            "count": 3
           },
           {
            "bin_start": 1.1,
            "bin_end": 1.2,
            "count": 0
           },
           {
            "bin_start": 1.2,
            "bin_end": 1.3,
            "count": 0
           },
           {
            "bin_start": 1.3,
            "bin_end": 1.4,
            "count": 0
           },
           {
            "bin_start": 1.4,
            "bin_end": 1.5,
            "count": 0
           },
           {
            "bin_start": 1.5,
            "bin_end": 1.6,
            "count": 0
           },
           {
            "bin_start": 1.6,
            "bin_end": 1.7000000000000002,
            "count": 0
           },
           {
            "bin_start": 1.7000000000000002,
            "bin_end": 1.8,
            "count": 0
           },
           {
            "bin_start": 1.8,
            "bin_end": 1.9,
            "count": 0
           },
           {
            "bin_start": 1.9,
            "bin_end": 2,
            "count": 2
           }
          ]
         }
        },
        {
         "name": "_deepnote_index_column",
         "dtype": "int64"
        }
       ],
       "rows": [
        {
         "class": 1,
         "a1": 1,
         "a2": 1,
         "a3": 1,
         "a4": 1,
         "a5": 3,
         "a6": 1,
         "_deepnote_index_column": 0
        },
        {
         "class": 1,
         "a1": 1,
         "a2": 1,
         "a3": 1,
         "a4": 1,
         "a5": 3,
         "a6": 2,
         "_deepnote_index_column": 1
        },
        {
         "class": 1,
         "a1": 1,
         "a2": 1,
         "a3": 1,
         "a4": 3,
         "a5": 2,
         "a6": 1,
         "_deepnote_index_column": 2
        },
        {
         "class": 1,
         "a1": 1,
         "a2": 1,
         "a3": 1,
         "a4": 3,
         "a5": 3,
         "a6": 2,
         "_deepnote_index_column": 3
        },
        {
         "class": 1,
         "a1": 1,
         "a2": 1,
         "a3": 2,
         "a4": 1,
         "a5": 2,
         "a6": 1,
         "_deepnote_index_column": 4
        }
       ]
      },
      "text/plain": "   class  a1  a2  a3  a4  a5  a6\n0      1   1   1   1   1   3   1\n1      1   1   1   1   1   3   2\n2      1   1   1   1   3   2   1\n3      1   1   1   1   3   3   2\n4      1   1   1   2   1   2   1",
      "text/html": "<div>\n<style scoped>\n    .dataframe tbody tr th:only-of-type {\n        vertical-align: middle;\n    }\n\n    .dataframe tbody tr th {\n        vertical-align: top;\n    }\n\n    .dataframe thead th {\n        text-align: right;\n    }\n</style>\n<table border=\"1\" class=\"dataframe\">\n  <thead>\n    <tr style=\"text-align: right;\">\n      <th></th>\n      <th>class</th>\n      <th>a1</th>\n      <th>a2</th>\n      <th>a3</th>\n      <th>a4</th>\n      <th>a5</th>\n      <th>a6</th>\n    </tr>\n  </thead>\n  <tbody>\n    <tr>\n      <th>0</th>\n      <td>1</td>\n      <td>1</td>\n      <td>1</td>\n      <td>1</td>\n      <td>1</td>\n      <td>3</td>\n      <td>1</td>\n    </tr>\n    <tr>\n      <th>1</th>\n      <td>1</td>\n      <td>1</td>\n      <td>1</td>\n      <td>1</td>\n      <td>1</td>\n      <td>3</td>\n      <td>2</td>\n    </tr>\n    <tr>\n      <th>2</th>\n      <td>1</td>\n      <td>1</td>\n      <td>1</td>\n      <td>1</td>\n      <td>3</td>\n      <td>2</td>\n      <td>1</td>\n    </tr>\n    <tr>\n      <th>3</th>\n      <td>1</td>\n      <td>1</td>\n      <td>1</td>\n      <td>1</td>\n      <td>3</td>\n      <td>3</td>\n      <td>2</td>\n    </tr>\n    <tr>\n      <th>4</th>\n      <td>1</td>\n      <td>1</td>\n      <td>1</td>\n      <td>2</td>\n      <td>1</td>\n      <td>2</td>\n      <td>1</td>\n    </tr>\n  </tbody>\n</table>\n</div>"
     },
     "metadata": {}
    }
   ]
  },
  {
   "cell_type": "code",
   "metadata": {
    "tags": [],
    "deepnote_to_be_reexecuted": false,
    "source_hash": "a98aacc6",
    "execution_start": 1642935475393,
    "execution_millis": 0,
    "cell_id": "00002-f020971f-ac94-444e-8bd4-c2f25f6fdfe6",
    "output_cleared": true,
    "deepnote_cell_type": "code"
   },
   "source": "#get attributes and target values\nX_all = df_monk1_train.iloc[:, 1:7].values\ny_all = df_monk1_train.iloc[:, 0].values\nX_test = df_monk1_test.iloc[:, 1:7].values\ny_test = df_monk1_test.iloc[:, 0].values",
   "execution_count": 3,
   "outputs": []
  },
  {
   "cell_type": "markdown",
   "source": "# One hot encoding ",
   "metadata": {
    "tags": [],
    "is_collapsed": false,
    "cell_id": "00003-7fe90d03-98bc-4339-a900-90c28761ccfc",
    "deepnote_cell_type": "text-cell-h1"
   }
  },
  {
   "cell_type": "code",
   "metadata": {
    "tags": [],
    "deepnote_to_be_reexecuted": false,
    "source_hash": "57d719ec",
    "execution_start": 1642935475394,
    "execution_millis": 0,
    "deepnote_output_heights": [
     null,
     30.399993896484375
    ],
    "cell_id": "00004-db6f6718-41ae-41f8-acb8-cb5b277af2db",
    "output_cleared": true,
    "deepnote_cell_type": "code"
   },
   "source": "def one_hot_encoder(X_all, X_test):\n    enc_all = OneHotEncoder()\n    enc_all.fit(X_all)\n    X_all = enc_all.transform(X_all).toarray()\n    \n    enc_test = OneHotEncoder()\n    enc_test.fit(X_test)\n    X_test = enc_test.transform(X_test).toarray()\n    return X_all, X_test",
   "execution_count": 4,
   "outputs": []
  },
  {
   "cell_type": "markdown",
   "source": "# Shuffle data",
   "metadata": {
    "tags": [],
    "is_collapsed": false,
    "cell_id": "00005-de42134a-2ce8-47ba-ace2-5b19da3c16f2",
    "deepnote_cell_type": "text-cell-h1"
   }
  },
  {
   "cell_type": "code",
   "metadata": {
    "tags": [],
    "deepnote_to_be_reexecuted": false,
    "source_hash": "a89e6810",
    "execution_start": 1642935475395,
    "execution_millis": 46,
    "cell_id": "00006-2305a9fa-731c-41cd-abc5-c2182334a0bb",
    "output_cleared": false,
    "deepnote_cell_type": "code"
   },
   "source": "from sklearn.utils import shuffle\nX_all, y_all = shuffle(X_all, y_all)\nX_all, X_test = one_hot_encoder(X_all, X_test)\nval_size =int(0.2 * len(X_all))\nX_val = X_all[:val_size]\ny_val = y_all[:val_size]\nX_train = X_all[val_size:]\ny_train = y_all[val_size:]\nprint(X_val.shape)\nprint(X_train.shape)\nprint(X_test.shape)\nprint(X_train[0])",
   "execution_count": 5,
   "outputs": [
    {
     "name": "stdout",
     "text": "(24, 17)\n(100, 17)\n(432, 17)\n[0. 1. 0. 0. 0. 1. 0. 1. 0. 1. 0. 0. 1. 0. 0. 1. 0.]\n",
     "output_type": "stream"
    }
   ]
  },
  {
   "cell_type": "markdown",
   "source": "# Define the model",
   "metadata": {
    "tags": [],
    "is_collapsed": false,
    "cell_id": "00007-071e8fee-2d0e-4b78-8359-ab06c7ec408e",
    "deepnote_cell_type": "text-cell-h1"
   }
  },
  {
   "cell_type": "code",
   "metadata": {
    "tags": [],
    "deepnote_to_be_reexecuted": false,
    "source_hash": "8c84ce11",
    "execution_start": 1642935475444,
    "execution_millis": 236,
    "deepnote_output_heights": [
     1
    ],
    "cell_id": "00008-564956ec-9b3c-4809-8d7f-b3cc59c5c06a",
    "output_cleared": false,
    "deepnote_cell_type": "code"
   },
   "source": "#define a model architecture and set the ranges for the values of the hyperparameters\ndef build_model(hp):\n    model = Sequential()\n    model.add(layers.Dense(hp.Int('units', min_value=3, max_value=15, step=3), activation='relu'))\n    model.add(layers.Dense(1, activation=\"sigmoid\"))\n    hp_learning_rate = hp.Float('learning_rate', min_value=0.01, max_value=1, step=0.02)\n    hp_momentum = hp.Choice('momentum', values=[0.8, 0.85, 0.9, 0.95])\n    model.compile(optimizer=optimizers.SGD(learning_rate=hp_learning_rate, momentum=hp_momentum), loss='mse', metrics=['accuracy'])\n    return model\n\n\nbuild_model(kt.HyperParameters())\n",
   "execution_count": 6,
   "outputs": [
    {
     "output_type": "execute_result",
     "execution_count": 6,
     "data": {
      "text/plain": "<tensorflow.python.keras.engine.sequential.Sequential at 0x7fde9ff12650>"
     },
     "metadata": {}
    }
   ]
  },
  {
   "cell_type": "code",
   "metadata": {
    "tags": [],
    "deepnote_to_be_reexecuted": false,
    "source_hash": "17a10b9b",
    "execution_start": 1642935475742,
    "execution_millis": 2942,
    "cell_id": "00009-08bde302-3b19-434f-9596-3c8d80c80228",
    "output_cleared": false,
    "deepnote_cell_type": "code"
   },
   "source": "tuner = kt.RandomSearch(\n    hypermodel = build_model,\n    #MyHyperModel(),\n    objective='val_loss',\n    max_trials=100,\n    overwrite=True,\n)\ntuner.search_space_summary()\n",
   "execution_count": 7,
   "outputs": [
    {
     "name": "stdout",
     "text": "Search space summary\nDefault search space size: 3\nunits (Int)\n{'default': None, 'conditions': [], 'min_value': 3, 'max_value': 15, 'step': 3, 'sampling': None}\nlearning_rate (Float)\n{'default': 0.01, 'conditions': [], 'min_value': 0.01, 'max_value': 1.0, 'step': 0.02, 'sampling': None}\nmomentum (Choice)\n{'default': 0.8, 'conditions': [], 'values': [0.8, 0.85, 0.9, 0.95], 'ordered': True}\n",
     "output_type": "stream"
    }
   ]
  },
  {
   "cell_type": "code",
   "metadata": {
    "tags": [],
    "deepnote_to_be_reexecuted": false,
    "source_hash": "f7b4736a",
    "execution_start": 1642935478780,
    "execution_millis": 3603577,
    "cell_id": "00010-80dcfe7e-1c7c-4a8a-8766-e09e642cd9f5",
    "output_cleared": false,
    "deepnote_cell_type": "code"
   },
   "source": "#stop_early = tf.keras.callbacks.EarlyStopping(monitor='val_loss', patience=5)\ntuner.search(X_train, y_train, epochs=150, verbose=0, batch_size=32, validation_data=(X_val, y_val) )\n#tuner.search(X_train, y_train, epochs=150, batch_size=10, callbacks=[stop_early], verbose=0,  validation_data=(X_val, y_val) )\n#hypermodel = MyHyperModel()\nhyperparameters = tuner.get_best_hyperparameters()[0]\n#model = tuner.hypermodel.build(hyperparameters)\n#model = hypermodel.build(hyperparameters)\n\nmodel = build_model(hyperparameters)\nmodel.build(input_shape=(None, 17))\nprint(model.summary())\nprint(hyperparameters.get('learning_rate'))\nprint(hyperparameters.get('momentum'))\n",
   "execution_count": 8,
   "outputs": [
    {
     "name": "stdout",
     "text": "INFO:tensorflow:Oracle triggered exit\nModel: \"sequential_1\"\n_________________________________________________________________\nLayer (type)                 Output Shape              Param #   \n=================================================================\ndense_2 (Dense)              (None, 9)                 162       \n_________________________________________________________________\ndense_3 (Dense)              (None, 1)                 10        \n=================================================================\nTotal params: 172\nTrainable params: 172\nNon-trainable params: 0\n_________________________________________________________________\nNone\n0.7699999999999999\n0.9\n",
     "output_type": "stream"
    }
   ]
  },
  {
   "cell_type": "code",
   "metadata": {
    "tags": [],
    "deepnote_to_be_reexecuted": false,
    "source_hash": "5f798566",
    "execution_start": 1642939082353,
    "execution_millis": 54906,
    "deepnote_output_heights": [
     null,
     280,
     280,
     null,
     280,
     280
    ],
    "cell_id": "00011-eb108c9b-6b02-44a2-84f9-2b9487db9f75",
    "output_cleared": false,
    "deepnote_cell_type": "code"
   },
   "source": "train_loss = []\ntest_loss =[]\ntrain_acc = []\ntest_acc = []\n\nfor i in range(150):\n    history = model.fit( X_all, y_all, batch_size=32, verbose=0)\n    train_loss.append(history.history['loss'])\n    train_acc.append(history.history['accuracy'])\n    score = model.evaluate(X_test, y_test)\n    test_loss.append(score[0])\n    test_acc.append(score[1])\n",
   "execution_count": 9,
   "outputs": [
    {
     "name": "stdout",
     "text": "14/14 [==============================] - 0s 6ms/step - loss: 0.2308 - accuracy: 0.5926\n14/14 [==============================] - 0s 1ms/step - loss: 0.2131 - accuracy: 0.6435\n14/14 [==============================] - 0s 6ms/step - loss: 0.1852 - accuracy: 0.7315\n14/14 [==============================] - 0s 6ms/step - loss: 0.1742 - accuracy: 0.7477\n14/14 [==============================] - 0s 1ms/step - loss: 0.1621 - accuracy: 0.7801\n14/14 [==============================] - 0s 1ms/step - loss: 0.1465 - accuracy: 0.8403\n14/14 [==============================] - 0s 7ms/step - loss: 0.1305 - accuracy: 0.8750\n14/14 [==============================] - 0s 1ms/step - loss: 0.1229 - accuracy: 0.8704\n14/14 [==============================] - 0s 6ms/step - loss: 0.1276 - accuracy: 0.8495\n14/14 [==============================] - 0s 2ms/step - loss: 0.1096 - accuracy: 0.8866\n14/14 [==============================] - 0s 1ms/step - loss: 0.1205 - accuracy: 0.8588\n14/14 [==============================] - 0s 1ms/step - loss: 0.1068 - accuracy: 0.8843\n14/14 [==============================] - 0s 1ms/step - loss: 0.1093 - accuracy: 0.8634\n14/14 [==============================] - 0s 7ms/step - loss: 0.1140 - accuracy: 0.8542\n14/14 [==============================] - 0s 2ms/step - loss: 0.1102 - accuracy: 0.8611\n14/14 [==============================] - 0s 7ms/step - loss: 0.1068 - accuracy: 0.8611\n14/14 [==============================] - 0s 6ms/step - loss: 0.1014 - accuracy: 0.8634\n14/14 [==============================] - 0s 6ms/step - loss: 0.0989 - accuracy: 0.8704\n14/14 [==============================] - 0s 1ms/step - loss: 0.0939 - accuracy: 0.8819\n14/14 [==============================] - 0s 985us/step - loss: 0.0910 - accuracy: 0.8819\n14/14 [==============================] - 0s 2ms/step - loss: 0.0749 - accuracy: 0.9005\n14/14 [==============================] - 0s 1ms/step - loss: 0.0563 - accuracy: 0.9306\n14/14 [==============================] - 0s 1ms/step - loss: 0.0432 - accuracy: 0.9421\n14/14 [==============================] - 0s 6ms/step - loss: 0.0292 - accuracy: 0.9630\n14/14 [==============================] - 0s 1ms/step - loss: 0.0200 - accuracy: 0.9745\n14/14 [==============================] - 0s 1ms/step - loss: 0.0148 - accuracy: 0.9838\n14/14 [==============================] - 0s 1ms/step - loss: 0.0118 - accuracy: 0.9884\n14/14 [==============================] - 0s 7ms/step - loss: 0.0087 - accuracy: 0.9907\n14/14 [==============================] - 0s 1ms/step - loss: 0.0067 - accuracy: 0.9977\n14/14 [==============================] - 0s 1ms/step - loss: 0.0056 - accuracy: 0.9977\n14/14 [==============================] - 0s 6ms/step - loss: 0.0049 - accuracy: 0.9977\n14/14 [==============================] - 0s 6ms/step - loss: 0.0045 - accuracy: 0.9977\n14/14 [==============================] - 0s 7ms/step - loss: 0.0041 - accuracy: 0.9977\n14/14 [==============================] - 0s 7ms/step - loss: 0.0039 - accuracy: 0.9977\n14/14 [==============================] - 0s 1ms/step - loss: 0.0038 - accuracy: 0.9977\n14/14 [==============================] - 0s 6ms/step - loss: 0.0037 - accuracy: 0.9977\n14/14 [==============================] - 0s 1ms/step - loss: 0.0036 - accuracy: 0.9977\n14/14 [==============================] - 0s 6ms/step - loss: 0.0035 - accuracy: 0.9977\n14/14 [==============================] - 0s 6ms/step - loss: 0.0035 - accuracy: 0.9977\n14/14 [==============================] - 0s 1ms/step - loss: 0.0034 - accuracy: 0.9977\n14/14 [==============================] - 0s 1ms/step - loss: 0.0034 - accuracy: 0.9977\n14/14 [==============================] - 0s 2ms/step - loss: 0.0033 - accuracy: 0.9977\n14/14 [==============================] - 0s 6ms/step - loss: 0.0033 - accuracy: 0.9977\n14/14 [==============================] - 0s 1ms/step - loss: 0.0032 - accuracy: 0.9977\n14/14 [==============================] - 0s 1ms/step - loss: 0.0032 - accuracy: 0.9977\n14/14 [==============================] - 0s 1ms/step - loss: 0.0031 - accuracy: 0.9977\n14/14 [==============================] - 0s 1ms/step - loss: 0.0031 - accuracy: 0.9977\n14/14 [==============================] - 0s 6ms/step - loss: 0.0030 - accuracy: 0.9977\n14/14 [==============================] - 0s 6ms/step - loss: 0.0030 - accuracy: 0.9977\n14/14 [==============================] - 0s 1ms/step - loss: 0.0030 - accuracy: 0.9977\n14/14 [==============================] - 0s 841us/step - loss: 0.0029 - accuracy: 0.9977\n14/14 [==============================] - 0s 6ms/step - loss: 0.0029 - accuracy: 0.9977\n14/14 [==============================] - 0s 1ms/step - loss: 0.0028 - accuracy: 0.9977\n14/14 [==============================] - 0s 6ms/step - loss: 0.0028 - accuracy: 0.9977\n14/14 [==============================] - 0s 1ms/step - loss: 0.0027 - accuracy: 0.9977\n14/14 [==============================] - 0s 6ms/step - loss: 0.0027 - accuracy: 0.9977\n14/14 [==============================] - 0s 7ms/step - loss: 0.0027 - accuracy: 0.9977\n14/14 [==============================] - 0s 1ms/step - loss: 0.0026 - accuracy: 0.9977\n14/14 [==============================] - 0s 6ms/step - loss: 0.0026 - accuracy: 0.9977\n14/14 [==============================] - 0s 1ms/step - loss: 0.0026 - accuracy: 0.9977\n14/14 [==============================] - 0s 7ms/step - loss: 0.0025 - accuracy: 0.9977\n14/14 [==============================] - 0s 7ms/step - loss: 0.0025 - accuracy: 0.9977\n14/14 [==============================] - 0s 7ms/step - loss: 0.0025 - accuracy: 0.9977\n14/14 [==============================] - 0s 1ms/step - loss: 0.0024 - accuracy: 0.9977\n14/14 [==============================] - 0s 6ms/step - loss: 0.0024 - accuracy: 0.9977\n14/14 [==============================] - 0s 6ms/step - loss: 0.0024 - accuracy: 0.9977\n14/14 [==============================] - 0s 7ms/step - loss: 0.0024 - accuracy: 0.9977\n14/14 [==============================] - 0s 2ms/step - loss: 0.0024 - accuracy: 0.9977\n14/14 [==============================] - 0s 6ms/step - loss: 0.0023 - accuracy: 0.9977\n14/14 [==============================] - 0s 1ms/step - loss: 0.0023 - accuracy: 0.9977\n14/14 [==============================] - 0s 2ms/step - loss: 0.0023 - accuracy: 0.9977\n14/14 [==============================] - 0s 6ms/step - loss: 0.0022 - accuracy: 0.9977\n14/14 [==============================] - 0s 1ms/step - loss: 0.0022 - accuracy: 0.9977\n14/14 [==============================] - 0s 6ms/step - loss: 0.0022 - accuracy: 0.9977\n14/14 [==============================] - 0s 1ms/step - loss: 0.0022 - accuracy: 0.9977\n14/14 [==============================] - 0s 6ms/step - loss: 0.0022 - accuracy: 0.9977\n14/14 [==============================] - 0s 2ms/step - loss: 0.0021 - accuracy: 0.9977\n14/14 [==============================] - 0s 1ms/step - loss: 0.0021 - accuracy: 0.9977\n14/14 [==============================] - 0s 6ms/step - loss: 0.0021 - accuracy: 0.9977\n14/14 [==============================] - 0s 7ms/step - loss: 0.0021 - accuracy: 0.9977\n14/14 [==============================] - 0s 1ms/step - loss: 0.0021 - accuracy: 0.9977\n14/14 [==============================] - 0s 2ms/step - loss: 0.0020 - accuracy: 0.9977\n14/14 [==============================] - 0s 6ms/step - loss: 0.0020 - accuracy: 0.9977\n14/14 [==============================] - 0s 1ms/step - loss: 0.0020 - accuracy: 0.9977\n14/14 [==============================] - 0s 1ms/step - loss: 0.0020 - accuracy: 0.9977\n14/14 [==============================] - 0s 6ms/step - loss: 0.0020 - accuracy: 0.9977\n14/14 [==============================] - 0s 883us/step - loss: 0.0019 - accuracy: 0.9977\n14/14 [==============================] - 0s 7ms/step - loss: 0.0019 - accuracy: 0.9977\n14/14 [==============================] - 0s 1ms/step - loss: 0.0019 - accuracy: 1.0000\n14/14 [==============================] - 0s 1ms/step - loss: 0.0019 - accuracy: 1.0000\n14/14 [==============================] - 0s 2ms/step - loss: 0.0019 - accuracy: 1.0000\n14/14 [==============================] - 0s 7ms/step - loss: 0.0019 - accuracy: 1.0000\n14/14 [==============================] - 0s 1ms/step - loss: 0.0018 - accuracy: 1.0000\n14/14 [==============================] - 0s 2ms/step - loss: 0.0018 - accuracy: 1.0000\n14/14 [==============================] - 0s 6ms/step - loss: 0.0018 - accuracy: 1.0000\n14/14 [==============================] - 0s 1ms/step - loss: 0.0018 - accuracy: 1.0000\n14/14 [==============================] - 0s 2ms/step - loss: 0.0018 - accuracy: 1.0000\n14/14 [==============================] - 0s 7ms/step - loss: 0.0018 - accuracy: 1.0000\n14/14 [==============================] - 0s 1ms/step - loss: 0.0017 - accuracy: 1.0000\n14/14 [==============================] - 0s 1ms/step - loss: 0.0017 - accuracy: 1.0000\n14/14 [==============================] - 0s 7ms/step - loss: 0.0017 - accuracy: 1.0000\n14/14 [==============================] - 0s 6ms/step - loss: 0.0017 - accuracy: 1.0000\n14/14 [==============================] - 0s 1ms/step - loss: 0.0017 - accuracy: 1.0000\n14/14 [==============================] - 0s 6ms/step - loss: 0.0017 - accuracy: 1.0000\n14/14 [==============================] - 0s 7ms/step - loss: 0.0016 - accuracy: 1.0000\n14/14 [==============================] - 0s 1ms/step - loss: 0.0016 - accuracy: 1.0000\n14/14 [==============================] - 0s 1ms/step - loss: 0.0016 - accuracy: 1.0000\n14/14 [==============================] - 0s 1ms/step - loss: 0.0016 - accuracy: 1.0000\n14/14 [==============================] - 0s 6ms/step - loss: 0.0016 - accuracy: 1.0000\n14/14 [==============================] - 0s 6ms/step - loss: 0.0016 - accuracy: 1.0000\n14/14 [==============================] - 0s 1ms/step - loss: 0.0016 - accuracy: 1.0000\n14/14 [==============================] - 0s 1ms/step - loss: 0.0016 - accuracy: 1.0000\n14/14 [==============================] - 0s 2ms/step - loss: 0.0015 - accuracy: 1.0000\n14/14 [==============================] - 0s 2ms/step - loss: 0.0015 - accuracy: 1.0000\n14/14 [==============================] - 0s 2ms/step - loss: 0.0015 - accuracy: 1.0000\n14/14 [==============================] - 0s 2ms/step - loss: 0.0015 - accuracy: 1.0000\n14/14 [==============================] - 0s 9ms/step - loss: 0.0015 - accuracy: 1.0000\n14/14 [==============================] - 0s 7ms/step - loss: 0.0015 - accuracy: 1.0000\n14/14 [==============================] - 0s 1ms/step - loss: 0.0015 - accuracy: 1.0000\n14/14 [==============================] - 0s 2ms/step - loss: 0.0015 - accuracy: 1.0000\n14/14 [==============================] - 0s 2ms/step - loss: 0.0015 - accuracy: 1.0000\n14/14 [==============================] - 0s 992us/step - loss: 0.0014 - accuracy: 1.0000\n14/14 [==============================] - 0s 7ms/step - loss: 0.0014 - accuracy: 1.0000\n14/14 [==============================] - 0s 6ms/step - loss: 0.0014 - accuracy: 1.0000\n14/14 [==============================] - 0s 1ms/step - loss: 0.0014 - accuracy: 1.0000\n14/14 [==============================] - 0s 1ms/step - loss: 0.0014 - accuracy: 1.0000\n14/14 [==============================] - 0s 7ms/step - loss: 0.0014 - accuracy: 1.0000\n14/14 [==============================] - 0s 1ms/step - loss: 0.0014 - accuracy: 1.0000\n14/14 [==============================] - 0s 2ms/step - loss: 0.0014 - accuracy: 1.0000\n14/14 [==============================] - 0s 1ms/step - loss: 0.0014 - accuracy: 1.0000\n14/14 [==============================] - 0s 1ms/step - loss: 0.0014 - accuracy: 1.0000\n14/14 [==============================] - 0s 1ms/step - loss: 0.0013 - accuracy: 1.0000\n14/14 [==============================] - 0s 1ms/step - loss: 0.0013 - accuracy: 1.0000\n14/14 [==============================] - 0s 6ms/step - loss: 0.0013 - accuracy: 1.0000\n14/14 [==============================] - 0s 2ms/step - loss: 0.0013 - accuracy: 1.0000\n14/14 [==============================] - 0s 967us/step - loss: 0.0013 - accuracy: 1.0000\n14/14 [==============================] - 0s 7ms/step - loss: 0.0013 - accuracy: 1.0000\n14/14 [==============================] - 0s 1ms/step - loss: 0.0013 - accuracy: 1.0000\n14/14 [==============================] - 0s 1ms/step - loss: 0.0013 - accuracy: 1.0000\n14/14 [==============================] - 0s 2ms/step - loss: 0.0013 - accuracy: 1.0000\n14/14 [==============================] - 0s 1ms/step - loss: 0.0013 - accuracy: 1.0000\n14/14 [==============================] - 0s 6ms/step - loss: 0.0012 - accuracy: 1.0000\n14/14 [==============================] - 0s 6ms/step - loss: 0.0012 - accuracy: 1.0000\n14/14 [==============================] - 0s 1ms/step - loss: 0.0012 - accuracy: 1.0000\n14/14 [==============================] - 0s 6ms/step - loss: 0.0012 - accuracy: 1.0000\n14/14 [==============================] - 0s 6ms/step - loss: 0.0012 - accuracy: 1.0000\n14/14 [==============================] - 0s 8ms/step - loss: 0.0012 - accuracy: 1.0000\n14/14 [==============================] - 0s 5ms/step - loss: 0.0012 - accuracy: 1.0000\n14/14 [==============================] - 0s 6ms/step - loss: 0.0012 - accuracy: 1.0000\n14/14 [==============================] - 0s 6ms/step - loss: 0.0012 - accuracy: 1.0000\n",
     "output_type": "stream"
    }
   ]
  },
  {
   "cell_type": "code",
   "metadata": {
    "cell_id": "a49a0ae4-c881-4efe-85df-35f3078e2903",
    "tags": [],
    "deepnote_to_be_reexecuted": false,
    "source_hash": "d3f21740",
    "execution_start": 1642939137266,
    "execution_millis": 2089,
    "deepnote_output_heights": [
     null,
     521,
     521
    ],
    "output_cleared": false,
    "deepnote_cell_type": "code"
   },
   "source": "print(\"loss and accuracy on training\")\nprint(train_loss[149])\nprint(train_acc[149])\nprint(\"loss and accuracy on tes\")\nprint(test_loss[149])\nprint(test_acc[149])\n\nplt.figure(figsize=(10,8))\nplt.plot(train_loss, '-', label='train')\nplt.plot(test_loss, '-.', label='test')\nplt.legend(fontsize=20)\nplt.xticks(fontsize=20)\nplt.yticks(fontsize=20)\nplt.ylabel('Loss (MSE)', fontsize=20) \nplt.xlabel('Epoch', fontsize=20);\nplt.title('Loss on MONK1', fontsize=20)\nplt.show()\n\nplt.figure(figsize=(10,8))\nplt.plot(train_acc, '-', label='train')\nplt.plot(test_acc, '-.', label='test')\nplt.legend(fontsize=20)\nplt.xticks(fontsize=20)\nplt.yticks(fontsize=20)\nplt.ylabel('Loss (MSE)', fontsize=20) \nplt.xlabel('Epoch', fontsize=20);\nplt.title('Accuracy on MONK1', fontsize=20)\nplt.show()",
   "execution_count": 10,
   "outputs": [
    {
     "name": "stdout",
     "text": "loss and accuracy on training\n[3.943542833440006e-05]\n[1.0]\nloss and accuracy on tes\n0.0011839354410767555\n1.0\n",
     "output_type": "stream"
    },
    {
     "data": {
      "text/plain": "<Figure size 720x576 with 1 Axes>",
      "image/png": "[encoded data removed]"
     },
     "metadata": {
      "needs_background": "light",
      "image/png": {
       "width": 647,
       "height": 519
      }
     },
     "output_type": "display_data"
    },
    {
     "data": {
      "text/plain": "<Figure size 720x576 with 1 Axes>",
      "image/png": "[encoded data removed]"
     },
     "metadata": {
      "needs_background": "light",
      "image/png": {
       "width": 634,
       "height": 519
      }
     },
     "output_type": "display_data"
    }
   ]
  },
  {
   "cell_type": "markdown",
   "source": "# Monk2",
   "metadata": {
    "tags": [],
    "is_collapsed": false,
    "cell_id": "00012-d203cc7c-87e6-494d-b290-87558847a7e9",
    "deepnote_cell_type": "text-cell-h1"
   }
  },
  {
   "cell_type": "code",
   "metadata": {
    "tags": [],
    "deepnote_to_be_reexecuted": false,
    "source_hash": "505667e8",
    "execution_start": 1642939139357,
    "execution_millis": 199,
    "cell_id": "00013-df2356ad-b08c-4643-b76d-3b67139182bc",
    "deepnote_output_heights": [
     177
    ],
    "output_cleared": false,
    "deepnote_cell_type": "code"
   },
   "source": "#load datasets\ncolnames = ['class', 'a1', 'a2', 'a3', 'a4', 'a5', 'a6', 'id']\ndf_monk2_train = pd.read_csv(\"./data/MONK/monks-2.train\", sep = \" \", skipinitialspace=True, names = colnames)\ndf_monk2_train.drop('id', axis = 1, inplace = True)\ndf_monk2_test = pd.read_csv(\"./data/MONK/monks-2.test\", sep = \" \", skipinitialspace=True, names = colnames)\ndf_monk2_test.drop('id', axis = 1, inplace = True)\ndf_monk2_train.head()\n",
   "execution_count": 11,
   "outputs": [
    {
     "output_type": "execute_result",
     "execution_count": 11,
     "data": {
      "application/vnd.deepnote.dataframe.v3+json": {
       "column_count": 7,
       "row_count": 5,
       "columns": [
        {
         "name": "class",
         "dtype": "int64",
         "stats": {
          "unique_count": 1,
          "nan_count": 0,
          "min": "0",
          "max": "0",
          "histogram": [
           {
            "bin_start": -0.5,
            "bin_end": -0.4,
            "count": 0
           },
           {
            "bin_start": -0.4,
            "bin_end": -0.3,
            "count": 0
           },
           {
            "bin_start": -0.3,
            "bin_end": -0.19999999999999996,
            "count": 0
           },
           {
            "bin_start": -0.19999999999999996,
            "bin_end": -0.09999999999999998,
            "count": 0
           },
           {
            "bin_start": -0.09999999999999998,
            "bin_end": 0,
            "count": 0
           },
           {
            "bin_start": 0,
            "bin_end": 0.10000000000000009,
            "count": 5
           },
           {
            "bin_start": 0.10000000000000009,
            "bin_end": 0.20000000000000007,
            "count": 0
           },
           {
            "bin_start": 0.20000000000000007,
            "bin_end": 0.30000000000000004,
            "count": 0
           },
           {
            "bin_start": 0.30000000000000004,
            "bin_end": 0.4,
            "count": 0
           },
           {
            "bin_start": 0.4,
            "bin_end": 0.5,
            "count": 0
           }
          ]
         }
        },
        {
         "name": "a1",
         "dtype": "int64",
         "stats": {
          "unique_count": 1,
          "nan_count": 0,
          "min": "1",
          "max": "1",
          "histogram": [
           {
            "bin_start": 0.5,
            "bin_end": 0.6,
            "count": 0
           },
           {
            "bin_start": 0.6,
            "bin_end": 0.7,
            "count": 0
           },
           {
            "bin_start": 0.7,
            "bin_end": 0.8,
            "count": 0
           },
           {
            "bin_start": 0.8,
            "bin_end": 0.9,
            "count": 0
           },
           {
            "bin_start": 0.9,
            "bin_end": 1,
            "count": 0
           },
           {
            "bin_start": 1,
            "bin_end": 1.1,
            "count": 5
           },
           {
            "bin_start": 1.1,
            "bin_end": 1.2000000000000002,
            "count": 0
           },
           {
            "bin_start": 1.2000000000000002,
            "bin_end": 1.3,
            "count": 0
           },
           {
            "bin_start": 1.3,
            "bin_end": 1.4,
            "count": 0
           },
           {
            "bin_start": 1.4,
            "bin_end": 1.5,
            "count": 0
           }
          ]
         }
        },
        {
         "name": "a2",
         "dtype": "int64",
         "stats": {
          "unique_count": 1,
          "nan_count": 0,
          "min": "1",
          "max": "1",
          "histogram": [
           {
            "bin_start": 0.5,
            "bin_end": 0.6,
            "count": 0
           },
           {
            "bin_start": 0.6,
            "bin_end": 0.7,
            "count": 0
           },
           {
            "bin_start": 0.7,
            "bin_end": 0.8,
            "count": 0
           },
           {
            "bin_start": 0.8,
            "bin_end": 0.9,
            "count": 0
           },
           {
            "bin_start": 0.9,
            "bin_end": 1,
            "count": 0
           },
           {
            "bin_start": 1,
            "bin_end": 1.1,
            "count": 5
           },
           {
            "bin_start": 1.1,
            "bin_end": 1.2000000000000002,
            "count": 0
           },
           {
            "bin_start": 1.2000000000000002,
            "bin_end": 1.3,
            "count": 0
           },
           {
            "bin_start": 1.3,
            "bin_end": 1.4,
            "count": 0
           },
           {
            "bin_start": 1.4,
            "bin_end": 1.5,
            "count": 0
           }
          ]
         }
        },
        {
         "name": "a3",
         "dtype": "int64",
         "stats": {
          "unique_count": 1,
          "nan_count": 0,
          "min": "1",
          "max": "1",
          "histogram": [
           {
            "bin_start": 0.5,
            "bin_end": 0.6,
            "count": 0
           },
           {
            "bin_start": 0.6,
            "bin_end": 0.7,
            "count": 0
           },
           {
            "bin_start": 0.7,
            "bin_end": 0.8,
            "count": 0
           },
           {
            "bin_start": 0.8,
            "bin_end": 0.9,
            "count": 0
           },
           {
            "bin_start": 0.9,
            "bin_end": 1,
            "count": 0
           },
           {
            "bin_start": 1,
            "bin_end": 1.1,
            "count": 5
           },
           {
            "bin_start": 1.1,
            "bin_end": 1.2000000000000002,
            "count": 0
           },
           {
            "bin_start": 1.2000000000000002,
            "bin_end": 1.3,
            "count": 0
           },
           {
            "bin_start": 1.3,
            "bin_end": 1.4,
            "count": 0
           },
           {
            "bin_start": 1.4,
            "bin_end": 1.5,
            "count": 0
           }
          ]
         }
        },
        {
         "name": "a4",
         "dtype": "int64",
         "stats": {
          "unique_count": 2,
          "nan_count": 0,
          "min": "1",
          "max": "2",
          "histogram": [
           {
            "bin_start": 1,
            "bin_end": 1.1,
            "count": 2
           },
           {
            "bin_start": 1.1,
            "bin_end": 1.2,
            "count": 0
           },
           {
            "bin_start": 1.2,
            "bin_end": 1.3,
            "count": 0
           },
           {
            "bin_start": 1.3,
            "bin_end": 1.4,
            "count": 0
           },
           {
            "bin_start": 1.4,
            "bin_end": 1.5,
            "count": 0
           },
           {
            "bin_start": 1.5,
            "bin_end": 1.6,
            "count": 0
           },
           {
            "bin_start": 1.6,
            "bin_end": 1.7000000000000002,
            "count": 0
           },
           {
            "bin_start": 1.7000000000000002,
            "bin_end": 1.8,
            "count": 0
           },
           {
            "bin_start": 1.8,
            "bin_end": 1.9,
            "count": 0
           },
           {
            "bin_start": 1.9,
            "bin_end": 2,
            "count": 3
           }
          ]
         }
        },
        {
         "name": "a5",
         "dtype": "int64",
         "stats": {
          "unique_count": 3,
          "nan_count": 0,
          "min": "1",
          "max": "4",
          "histogram": [
           {
            "bin_start": 1,
            "bin_end": 1.3,
            "count": 2
           },
           {
            "bin_start": 1.3,
            "bin_end": 1.6,
            "count": 0
           },
           {
            "bin_start": 1.6,
            "bin_end": 1.9,
            "count": 0
           },
           {
            "bin_start": 1.9,
            "bin_end": 2.2,
            "count": 2
           },
           {
            "bin_start": 2.2,
            "bin_end": 2.5,
            "count": 0
           },
           {
            "bin_start": 2.5,
            "bin_end": 2.8,
            "count": 0
           },
           {
            "bin_start": 2.8,
            "bin_end": 3.1,
            "count": 0
           },
           {
            "bin_start": 3.1,
            "bin_end": 3.4,
            "count": 0
           },
           {
            "bin_start": 3.4,
            "bin_end": 3.6999999999999997,
            "count": 0
           },
           {
            "bin_start": 3.6999999999999997,
            "bin_end": 4,
            "count": 1
           }
          ]
         }
        },
        {
         "name": "a6",
         "dtype": "int64",
         "stats": {
          "unique_count": 2,
          "nan_count": 0,
          "min": "1",
          "max": "2",
          "histogram": [
           {
            "bin_start": 1,
            "bin_end": 1.1,
            "count": 3
           },
           {
            "bin_start": 1.1,
            "bin_end": 1.2,
            "count": 0
           },
           {
            "bin_start": 1.2,
            "bin_end": 1.3,
            "count": 0
           },
           {
            "bin_start": 1.3,
            "bin_end": 1.4,
            "count": 0
           },
           {
            "bin_start": 1.4,
            "bin_end": 1.5,
            "count": 0
           },
           {
            "bin_start": 1.5,
            "bin_end": 1.6,
            "count": 0
           },
           {
            "bin_start": 1.6,
            "bin_end": 1.7000000000000002,
            "count": 0
           },
           {
            "bin_start": 1.7000000000000002,
            "bin_end": 1.8,
            "count": 0
           },
           {
            "bin_start": 1.8,
            "bin_end": 1.9,
            "count": 0
           },
           {
            "bin_start": 1.9,
            "bin_end": 2,
            "count": 2
           }
          ]
         }
        },
        {
         "name": "_deepnote_index_column",
         "dtype": "int64"
        }
       ],
       "rows": [
        {
         "class": 0,
         "a1": 1,
         "a2": 1,
         "a3": 1,
         "a4": 1,
         "a5": 2,
         "a6": 2,
         "_deepnote_index_column": 0
        },
        {
         "class": 0,
         "a1": 1,
         "a2": 1,
         "a3": 1,
         "a4": 1,
         "a5": 4,
         "a6": 1,
         "_deepnote_index_column": 1
        },
        {
         "class": 0,
         "a1": 1,
         "a2": 1,
         "a3": 1,
         "a4": 2,
         "a5": 1,
         "a6": 1,
         "_deepnote_index_column": 2
        },
        {
         "class": 0,
         "a1": 1,
         "a2": 1,
         "a3": 1,
         "a4": 2,
         "a5": 1,
         "a6": 2,
         "_deepnote_index_column": 3
        },
        {
         "class": 0,
         "a1": 1,
         "a2": 1,
         "a3": 1,
         "a4": 2,
         "a5": 2,
         "a6": 1,
         "_deepnote_index_column": 4
        }
       ]
      },
      "text/plain": "   class  a1  a2  a3  a4  a5  a6\n0      0   1   1   1   1   2   2\n1      0   1   1   1   1   4   1\n2      0   1   1   1   2   1   1\n3      0   1   1   1   2   1   2\n4      0   1   1   1   2   2   1",
      "text/html": "<div>\n<style scoped>\n    .dataframe tbody tr th:only-of-type {\n        vertical-align: middle;\n    }\n\n    .dataframe tbody tr th {\n        vertical-align: top;\n    }\n\n    .dataframe thead th {\n        text-align: right;\n    }\n</style>\n<table border=\"1\" class=\"dataframe\">\n  <thead>\n    <tr style=\"text-align: right;\">\n      <th></th>\n      <th>class</th>\n      <th>a1</th>\n      <th>a2</th>\n      <th>a3</th>\n      <th>a4</th>\n      <th>a5</th>\n      <th>a6</th>\n    </tr>\n  </thead>\n  <tbody>\n    <tr>\n      <th>0</th>\n      <td>0</td>\n      <td>1</td>\n      <td>1</td>\n      <td>1</td>\n      <td>1</td>\n      <td>2</td>\n      <td>2</td>\n    </tr>\n    <tr>\n      <th>1</th>\n      <td>0</td>\n      <td>1</td>\n      <td>1</td>\n      <td>1</td>\n      <td>1</td>\n      <td>4</td>\n      <td>1</td>\n    </tr>\n    <tr>\n      <th>2</th>\n      <td>0</td>\n      <td>1</td>\n      <td>1</td>\n      <td>1</td>\n      <td>2</td>\n      <td>1</td>\n      <td>1</td>\n    </tr>\n    <tr>\n      <th>3</th>\n      <td>0</td>\n      <td>1</td>\n      <td>1</td>\n      <td>1</td>\n      <td>2</td>\n      <td>1</td>\n      <td>2</td>\n    </tr>\n    <tr>\n      <th>4</th>\n      <td>0</td>\n      <td>1</td>\n      <td>1</td>\n      <td>1</td>\n      <td>2</td>\n      <td>2</td>\n      <td>1</td>\n    </tr>\n  </tbody>\n</table>\n</div>"
     },
     "metadata": {}
    }
   ]
  },
  {
   "cell_type": "code",
   "metadata": {
    "tags": [],
    "deepnote_to_be_reexecuted": false,
    "source_hash": "6d8cf70f",
    "execution_start": 1642939139552,
    "execution_millis": 10,
    "cell_id": "00014-a5a45950-7f63-4fd7-9d00-66609dfa89f1",
    "output_cleared": true,
    "deepnote_cell_type": "code"
   },
   "source": "#get attribute and target values\nX_all = df_monk2_train.iloc[:, 1:7].values\ny_all = df_monk2_train.iloc[:, 0].values\nX_test = df_monk2_test.iloc[:, 1:7].values\ny_test = df_monk2_test.iloc[:, 0].values",
   "execution_count": 12,
   "outputs": []
  },
  {
   "cell_type": "markdown",
   "source": "# Shuffle data and one hot encoding",
   "metadata": {
    "tags": [],
    "is_collapsed": false,
    "cell_id": "00015-085d93c1-f8b1-492d-be20-fb3f5bec2ef1",
    "deepnote_cell_type": "text-cell-h1"
   }
  },
  {
   "cell_type": "code",
   "metadata": {
    "tags": [],
    "deepnote_to_be_reexecuted": false,
    "source_hash": "a89e6810",
    "execution_start": 1642939139566,
    "execution_millis": 100,
    "cell_id": "00016-3d13e039-0c6e-4cad-8288-c00bb0129aec",
    "output_cleared": false,
    "deepnote_cell_type": "code"
   },
   "source": "from sklearn.utils import shuffle\nX_all, y_all = shuffle(X_all, y_all)\nX_all, X_test = one_hot_encoder(X_all, X_test)\nval_size =int(0.2 * len(X_all))\nX_val = X_all[:val_size]\ny_val = y_all[:val_size]\nX_train = X_all[val_size:]\ny_train = y_all[val_size:]\nprint(X_val.shape)\nprint(X_train.shape)\nprint(X_test.shape)\nprint(X_train[0])",
   "execution_count": 13,
   "outputs": [
    {
     "name": "stdout",
     "text": "(33, 17)\n(136, 17)\n(432, 17)\n[0. 1. 0. 0. 0. 1. 1. 0. 1. 0. 0. 0. 0. 1. 0. 0. 1.]\n",
     "output_type": "stream"
    }
   ]
  },
  {
   "cell_type": "code",
   "metadata": {
    "tags": [],
    "deepnote_to_be_reexecuted": false,
    "source_hash": "9bd62ff9",
    "execution_start": 1642939139657,
    "execution_millis": 1894,
    "cell_id": "00017-1135c7b8-f457-4ce4-a470-74e274bd2c17",
    "output_cleared": false,
    "deepnote_cell_type": "code"
   },
   "source": "tuner = kt.RandomSearch(\n    hypermodel = build_model,\n    #MyHyperModel(),\n    objective='val_accuracy',\n    max_trials=100,\n    overwrite=True,\n)\ntuner.search_space_summary()",
   "execution_count": 14,
   "outputs": [
    {
     "name": "stdout",
     "text": "Search space summary\nDefault search space size: 3\nunits (Int)\n{'default': None, 'conditions': [], 'min_value': 3, 'max_value': 15, 'step': 3, 'sampling': None}\nlearning_rate (Float)\n{'default': 0.01, 'conditions': [], 'min_value': 0.01, 'max_value': 1.0, 'step': 0.02, 'sampling': None}\nmomentum (Choice)\n{'default': 0.8, 'conditions': [], 'values': [0.8, 0.85, 0.9, 0.95], 'ordered': True}\n",
     "output_type": "stream"
    }
   ]
  },
  {
   "cell_type": "markdown",
   "source": "# Search for best hyperparameters",
   "metadata": {
    "tags": [],
    "is_collapsed": false,
    "cell_id": "00018-f68789f9-e527-497e-945b-5454db596470",
    "deepnote_cell_type": "text-cell-h1"
   }
  },
  {
   "cell_type": "code",
   "metadata": {
    "tags": [],
    "deepnote_to_be_reexecuted": false,
    "source_hash": "fc2929fd",
    "execution_start": 1642939141556,
    "execution_millis": 2381364,
    "cell_id": "00019-a812709a-998b-470e-82ac-cfeb21a7831b",
    "output_cleared": true,
    "deepnote_cell_type": "code"
   },
   "source": "\ntuner.search(X_train, y_train, epochs=150, verbose=0, batch_size=32, validation_data=(X_val, y_val) )\nhyperparameters = tuner.get_best_hyperparameters()[0]\nmodel = build_model(hyperparameters)\nmodel.build(input_shape=(None, 17))\nprint(model.summary())\nprint(hyperparameters.get('learning_rate'))\nprint(hyperparameters.get('momentum'))",
   "execution_count": null,
   "outputs": []
  },
  {
   "cell_type": "markdown",
   "source": "# Retrain model and evaluate",
   "metadata": {
    "tags": [],
    "is_collapsed": false,
    "cell_id": "00020-d2d1cb0d-7519-4387-8cf9-cc4d4766a796",
    "deepnote_cell_type": "text-cell-h1"
   }
  },
  {
   "cell_type": "code",
   "metadata": {
    "tags": [],
    "deepnote_to_be_reexecuted": true,
    "source_hash": "7d5acd1",
    "execution_start": 1642903242853,
    "execution_millis": 67799,
    "deepnote_output_heights": [
     null,
     280,
     280
    ],
    "cell_id": "00021-c786fafe-eb2a-4374-9881-8a6816ebe29d",
    "output_cleared": true,
    "deepnote_cell_type": "code"
   },
   "source": "train_loss = []\ntest_loss =[]\ntrain_acc = []\ntest_acc = []\n\nfor i in range(150):\n    history = model.fit( X_all, y_all, batch_size=32, verbose=0)\n    train_loss.append(history.history['loss'])\n    train_acc.append(history.history['accuracy'])\n    score = model.evaluate(X_test, y_test)\n    test_loss.append(score[0])\n    test_acc.append(score[1])",
   "execution_count": null,
   "outputs": []
  },
  {
   "cell_type": "code",
   "metadata": {
    "cell_id": "0353f069-7ffa-49b2-97ef-bdc9b00b6cf4",
    "tags": [],
    "deepnote_to_be_reexecuted": true,
    "source_hash": "84321c1e",
    "execution_start": 1642903310643,
    "execution_millis": 2402,
    "deepnote_output_heights": [
     null,
     521,
     521
    ],
    "output_cleared": true,
    "deepnote_cell_type": "code"
   },
   "source": "print(\"loss and accuracy on training\")\nprint(train_loss[149])\nprint(train_acc[149])\nprint(\"loss and accuracy on tes\")\nprint(test_loss[149])\nprint(test_acc[149])\n\nplt.figure(figsize=(10,8))\nplt.plot(train_loss, '-', label='train')\nplt.plot(test_loss, '-.', label='test')\nplt.legend(fontsize=20)\nplt.xticks(fontsize=20)\nplt.yticks(fontsize=20)\nplt.ylabel('Loss (MSE)', fontsize=20) \nplt.xlabel('Epoch', fontsize=20);\nplt.title('Loss on MONK2', fontsize=20)\nplt.show()\n\nplt.figure(figsize=(10,8))\nplt.plot(train_acc, '-', label='train')\nplt.plot(test_acc, '-.', label='test')\nplt.legend(fontsize=20)\nplt.xticks(fontsize=20)\nplt.yticks(fontsize=20)\nplt.ylabel('Loss (MSE)', fontsize=20) \nplt.xlabel('Epoch', fontsize=20);\nplt.title('Accuracy on MONK2', fontsize=20)\nplt.show()",
   "execution_count": null,
   "outputs": []
  },
  {
   "cell_type": "markdown",
   "source": "# Monk 3",
   "metadata": {
    "tags": [],
    "is_collapsed": false,
    "cell_id": "00022-7025ec42-011c-47d4-b3c9-3d8fe21e83ed",
    "deepnote_cell_type": "text-cell-h1"
   }
  },
  {
   "cell_type": "code",
   "metadata": {
    "tags": [],
    "deepnote_to_be_reexecuted": true,
    "source_hash": "f24b190e",
    "execution_start": 1642903312846,
    "execution_millis": 230,
    "cell_id": "00023-74c69a78-98ff-421d-bb5f-2b2ff45595d7",
    "output_cleared": true,
    "deepnote_cell_type": "code"
   },
   "source": "#load datasets\ncolnames = ['class', 'a1', 'a2', 'a3', 'a4', 'a5', 'a6', 'id']\ndf_monk3_train = pd.read_csv(\"./data/MONK/monks-3.train\", sep = \" \", skipinitialspace=True, names = colnames)\ndf_monk3_train.drop('id', axis = 1, inplace = True)\ndf_monk3_test = pd.read_csv(\"./data/MONK/monks-3.test\", sep = \" \", skipinitialspace=True, names = colnames)\ndf_monk3_test.drop('id', axis = 1, inplace = True)\ndf_monk3_train.head()",
   "execution_count": null,
   "outputs": []
  },
  {
   "cell_type": "code",
   "metadata": {
    "tags": [],
    "deepnote_to_be_reexecuted": true,
    "source_hash": "bac1fb6",
    "execution_start": 1642903313151,
    "execution_millis": 10,
    "cell_id": "00024-3d27305d-6962-41ec-a5ff-a9661f5334b4",
    "output_cleared": true,
    "deepnote_cell_type": "code"
   },
   "source": "#get attribute and target values\nX_all = df_monk3_train.iloc[:, 1:7].values\ny_all = df_monk3_train.iloc[:, 0].values\nX_test = df_monk3_test.iloc[:, 1:7].values\ny_test = df_monk3_test.iloc[:, 0].values",
   "execution_count": null,
   "outputs": []
  },
  {
   "cell_type": "code",
   "metadata": {
    "tags": [],
    "deepnote_to_be_reexecuted": true,
    "source_hash": "a89e6810",
    "execution_start": 1642903313167,
    "execution_millis": 94,
    "cell_id": "00025-827c213d-ba73-45c0-becd-7a4169efedc0",
    "output_cleared": true,
    "deepnote_cell_type": "code"
   },
   "source": "from sklearn.utils import shuffle\nX_all, y_all = shuffle(X_all, y_all)\nX_all, X_test = one_hot_encoder(X_all, X_test)\nval_size =int(0.2 * len(X_all))\nX_val = X_all[:val_size]\ny_val = y_all[:val_size]\nX_train = X_all[val_size:]\ny_train = y_all[val_size:]\nprint(X_val.shape)\nprint(X_train.shape)\nprint(X_test.shape)\nprint(X_train[0])",
   "execution_count": null,
   "outputs": []
  },
  {
   "cell_type": "code",
   "metadata": {
    "tags": [],
    "deepnote_to_be_reexecuted": true,
    "source_hash": "9bd62ff9",
    "execution_start": 1642903313259,
    "execution_millis": 1003,
    "cell_id": "00026-6b3a9ad0-8839-4ca4-9d09-46e031eda630",
    "output_cleared": true,
    "deepnote_cell_type": "code"
   },
   "source": "tuner = kt.RandomSearch(\n    hypermodel = build_model,\n    #MyHyperModel(),\n    objective='val_accuracy',\n    max_trials=100,\n    overwrite=True,\n)\ntuner.search_space_summary()",
   "execution_count": null,
   "outputs": []
  },
  {
   "cell_type": "code",
   "metadata": {
    "tags": [],
    "deepnote_to_be_reexecuted": true,
    "source_hash": "75169eb9",
    "execution_start": 1642903314266,
    "execution_millis": 2789814,
    "cell_id": "00027-957332a0-9cca-483c-a067-c61523226481",
    "output_cleared": true,
    "deepnote_cell_type": "code"
   },
   "source": "tuner.search(X_train, y_train, epochs=150, verbose=0, batch_size=32, validation_data=(X_val, y_val) )\nhyperparameters = tuner.get_best_hyperparameters()[0]\nmodel = build_model(hyperparameters)\nmodel.build(input_shape=(None, 17))\nprint(model.summary())\nprint(hyperparameters.get('learning_rate'))\nprint(hyperparameters.get('momentum'))",
   "execution_count": null,
   "outputs": []
  },
  {
   "cell_type": "code",
   "metadata": {
    "tags": [],
    "deepnote_to_be_reexecuted": true,
    "source_hash": "7d5acd1",
    "execution_start": 1642906104150,
    "execution_millis": 119225,
    "deepnote_output_heights": [
     null,
     null,
     280,
     280
    ],
    "cell_id": "00028-124da7de-7db7-4ce0-bbb8-03900f63b23b",
    "output_cleared": true,
    "deepnote_cell_type": "code"
   },
   "source": "train_loss = []\ntest_loss =[]\ntrain_acc = []\ntest_acc = []\n\nfor i in range(150):\n    history = model.fit( X_all, y_all, batch_size=32, verbose=0)\n    train_loss.append(history.history['loss'])\n    train_acc.append(history.history['accuracy'])\n    score = model.evaluate(X_test, y_test)\n    test_loss.append(score[0])\n    test_acc.append(score[1])",
   "execution_count": null,
   "outputs": []
  },
  {
   "cell_type": "code",
   "metadata": {
    "cell_id": "aedc3437-b4b6-40a6-9931-e355ea52b83d",
    "tags": [],
    "deepnote_to_be_reexecuted": true,
    "source_hash": "1e83ce91",
    "execution_start": 1642906223384,
    "execution_millis": 3277,
    "deepnote_output_heights": [
     null,
     521,
     521
    ],
    "output_cleared": true,
    "deepnote_cell_type": "code"
   },
   "source": "print(\"loss and accuracy on training\")\nprint(train_loss[149])\nprint(train_acc[149])\nprint(\"loss and accuracy on tes\")\nprint(test_loss[149])\nprint(test_acc[149])\n\nplt.figure(figsize=(10,8))\nplt.plot(train_loss, '-', label='train')\nplt.plot(test_loss, '-.', label='test')\nplt.legend(fontsize=20)\nplt.xticks(fontsize=20)\nplt.yticks(fontsize=20)\nplt.ylabel('Loss (MSE)', fontsize=20) \nplt.xlabel('Epoch', fontsize=20);\nplt.title('Loss on MONK3', fontsize=20)\nplt.show()\n\nplt.figure(figsize=(10,8))\nplt.plot(train_acc, '-', label='train')\nplt.plot(test_acc, '-.', label='test')\nplt.legend(fontsize=20)\nplt.xticks(fontsize=20)\nplt.yticks(fontsize=20)\nplt.ylabel('Loss (MSE)', fontsize=20) \nplt.xlabel('Epoch', fontsize=20);\nplt.title('Accuracy on MONK3', fontsize=20)\nplt.show()",
   "execution_count": null,
   "outputs": []
  },
  {
   "cell_type": "markdown",
   "source": "<a style='text-decoration:none;line-height:16px;display:flex;color:#5B5B62;padding:10px;justify-content:end;' href='https://deepnote.com?utm_source=created-in-deepnote-cell&projectId=d9d840c9-75b3-4185-bb01-105f5cca8d83' target=\"_blank\">\n<img alt='Created in deepnote.com' style='display:inline;max-height:16px;margin:0px;margin-right:7.5px;' src='data:image/svg+xml;base64,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' > </img>\nCreated in <span style='font-weight:600;margin-left:4px;'>Deepnote</span></a>",
   "metadata": {
    "tags": [],
    "created_in_deepnote_cell": true,
    "deepnote_cell_type": "markdown"
   }
  }
 ],
 "nbformat": 4,
 "nbformat_minor": 2,
 "metadata": {
  "orig_nbformat": 2,
  "deepnote": {
   "is_reactive": false
  },
  "deepnote_notebook_id": "d0f14768-7f23-4ab4-b55c-bd8d460e86b7",
  "deepnote_execution_queue": [
   {
    "cellId": "00019-a812709a-998b-470e-82ac-cfeb21a7831b",
    "sessionId": "002f95c1-a08a-4ff3-8605-b0fd26de3b36",
    "msgId": "1eec7c1b-9353-4b38-b738-16c6d1247914"
   },
   {
    "cellId": "00021-c786fafe-eb2a-4374-9881-8a6816ebe29d",
    "sessionId": "002f95c1-a08a-4ff3-8605-b0fd26de3b36",
    "msgId": "b6b2fa21-5dff-4bc6-a617-754273ea261b"
   },
   {
    "cellId": "0353f069-7ffa-49b2-97ef-bdc9b00b6cf4",
    "sessionId": "002f95c1-a08a-4ff3-8605-b0fd26de3b36",
    "msgId": "522df058-17b2-4979-a20c-1335da03e4c5"
   },
   {
    "cellId": "00023-74c69a78-98ff-421d-bb5f-2b2ff45595d7",
    "sessionId": "002f95c1-a08a-4ff3-8605-b0fd26de3b36",
    "msgId": "7ca2d4c0-1f73-492a-b175-1890727e7fe6"
   },
   {
    "cellId": "00024-3d27305d-6962-41ec-a5ff-a9661f5334b4",
    "sessionId": "002f95c1-a08a-4ff3-8605-b0fd26de3b36",
    "msgId": "16adb3b2-452c-4c3a-9d10-f5ffe1bb580d"
   },
   {
    "cellId": "00025-827c213d-ba73-45c0-becd-7a4169efedc0",
    "sessionId": "002f95c1-a08a-4ff3-8605-b0fd26de3b36",
    "msgId": "e71643fc-8284-4eaf-a5bb-564379142208"
   },
   {
    "cellId": "00026-6b3a9ad0-8839-4ca4-9d09-46e031eda630",
    "sessionId": "002f95c1-a08a-4ff3-8605-b0fd26de3b36",
    "msgId": "1082f536-e6b1-4e8e-9070-d91df38776d7"
   },
   {
    "cellId": "00027-957332a0-9cca-483c-a067-c61523226481",
    "sessionId": "002f95c1-a08a-4ff3-8605-b0fd26de3b36",
    "msgId": "e6887315-e83a-42df-85ab-f6f7f80a81b0"
   },
   {
    "cellId": "00028-124da7de-7db7-4ce0-bbb8-03900f63b23b",
    "sessionId": "002f95c1-a08a-4ff3-8605-b0fd26de3b36",
    "msgId": "146090f9-2a99-42b7-a00b-4970e6967751"
   },
   {
    "cellId": "aedc3437-b4b6-40a6-9931-e355ea52b83d",
    "sessionId": "002f95c1-a08a-4ff3-8605-b0fd26de3b36",
    "msgId": "9bedd730-466b-4f9f-ad5c-9ea03c5b8fbb"
   }
  ]
 }
}