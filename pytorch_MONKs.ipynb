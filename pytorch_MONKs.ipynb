{
 "cells": [
  {
   "cell_type": "code",
   "metadata": {
    "cell_id": "00000-feb3ee80-e873-4ef4-a1b5-a0d721e44191",
    "deepnote_output_heights": [
     328.296875
    ],
    "deepnote_to_be_reexecuted": false,
    "execution_millis": 19592,
    "execution_start": 1642937101982,
    "source_hash": "8bd12ed9",
    "tags": [],
    "deepnote_cell_type": "code"
   },
   "source": "import itertools\nimport torch\nimport torch.nn as nn\nimport numpy as np\nimport math\nimport matplotlib.pyplot as plt\nimport pandas as pd\nfrom sklearn.preprocessing import OneHotEncoder\nfrom torch.utils.data import Dataset, DataLoader, TensorDataset\nfrom sklearn.metrics import confusion_matrix, classification_report\nfrom sklearn.metrics import log_loss\nfrom sklearn.metrics import mean_squared_error\nfrom sklearn.metrics import accuracy_score\nfrom sklearn.preprocessing import StandardScaler\nfrom sklearn.model_selection import train_test_split\nfrom scipy.stats import uniform\nfrom scipy.stats import randint\n\nfrom skorch import NeuralNetBinaryClassifier\n\nimport seaborn as sns\nimport warnings\nwarnings.filterwarnings(\"ignore\")\n%matplotlib inline\n\ndtype = torch.float\ndevice = torch.device(\"cpu\")",
   "execution_count": 1,
   "outputs": []
  },
  {
   "cell_type": "markdown",
   "source": "## Defining resources\nWe define some relevant functions and costant variables to use in this notebook.",
   "metadata": {
    "cell_id": "00001-1b8716b6-6d34-4e7d-98ba-d564d8d00602",
    "tags": [],
    "deepnote_cell_type": "markdown"
   }
  },
  {
   "cell_type": "code",
   "metadata": {
    "cell_id": "00018-4e2e2dbf-916d-4caa-b76a-c0dbb0e95951",
    "deepnote_to_be_reexecuted": false,
    "execution_millis": 73,
    "execution_start": 1642937121577,
    "source_hash": "c73025ff",
    "tags": [],
    "deepnote_cell_type": "code"
   },
   "source": "#define a function that split target column from dataset.\ndef split_train_test(df_monk_train, df_monk_test):\n    target_train = df_monk_train[['class']]\n    df_monk_train.drop(labels='class', axis=1, inplace=True)\n    target_test = df_monk_test[['class']]\n    df_monk_test.drop(labels='class', axis=1, inplace=True)\n    X_train = df_monk_train.values #returns a ndarray\n    y_train = target_train.values.ravel() #flattens the array into a 1-dimensional array\n    X_test = df_monk_test.values\n    y_test = target_test.values.ravel()\n\n    return X_train, y_train, X_test, y_test",
   "execution_count": 2,
   "outputs": []
  },
  {
   "cell_type": "code",
   "metadata": {
    "cell_id": "00005-eb7d67bc-a9d8-4644-954d-42cd07456368",
    "deepnote_to_be_reexecuted": false,
    "execution_millis": 9,
    "execution_start": 1642937121654,
    "source_hash": "a5b7cb83",
    "tags": [],
    "deepnote_cell_type": "code"
   },
   "source": "#define mee loss function \ndef mee(true_target, predicted_target):  # assuming target is 2-dim matrix with x and y as columns\n    l = true_target.shape[0]\n    res = 0\n\n    for p in range(l):  # for p-th pattern in l (number of samples)\n        x_diff = np.square(true_target[p, 0] - predicted_target[p, 0])  # difference between the x value of the true and predicted target\n        y_diff = np.square(\n            true_target[p, 1] - predicted_target[p, 1])  # difference between the y values of true and predicted target\n        sum_term = x_diff + y_diff\n        res = res + np.sqrt(sum_term)\n    res = res / l\n\n    return res",
   "execution_count": 3,
   "outputs": []
  },
  {
   "cell_type": "code",
   "metadata": {
    "cell_id": "00002-2a5bec1d-9fea-490a-8952-e78202ec55c8",
    "deepnote_output_heights": [
     78.765625
    ],
    "deepnote_to_be_reexecuted": false,
    "execution_millis": 78,
    "execution_start": 1642937121667,
    "source_hash": "969aa252",
    "tags": [],
    "deepnote_cell_type": "code"
   },
   "source": "#define a neural network\nclass BinaryClassification(nn.Module):\n    def __init__(self, n_input = 6, hidden_units = 100):\n        super(BinaryClassification, self).__init__()\n        \n        self.layers = nn.Sequential(\n            nn.Linear(n_input, hidden_units),\n            nn.ReLU(),\n            nn.Linear(hidden_units, 1)\n        )\n        \n    def forward(self, inputs, **kwargs):\n        x = self.layers(inputs)\n\n        return x",
   "execution_count": 4,
   "outputs": []
  },
  {
   "cell_type": "code",
   "metadata": {
    "cell_id": "66d3fdc6-988d-4647-ba42-ba120d1e1cd4",
    "deepnote_to_be_reexecuted": false,
    "execution_millis": 0,
    "execution_start": 1642937121789,
    "source_hash": "b0a6d054",
    "tags": [],
    "deepnote_cell_type": "code"
   },
   "source": "def plot_learning_curves(train_scores, test_scores, epochs, y_label):\n    plt.figure(figsize=(10,8))\n    plt.plot(range(0,epochs), train_scores, label = \"Training error\", linestyle='dashed')\n    plt.plot(range(0,epochs), test_scores, label = \"Test error\")\n    plt.legend(fontsize=15)\n    plt.xticks(fontsize=20)\n    plt.yticks(fontsize=20)\n    plt.ylabel(y_label, fontsize=20) \n    plt.xlabel('Epoch', fontsize=20);",
   "execution_count": 5,
   "outputs": []
  },
  {
   "cell_type": "markdown",
   "source": "## Loading MONK-1 dataset\nNow we load the first MONK dataset.",
   "metadata": {
    "cell_id": "00000-3c151ff9-9d1e-45e5-aaa2-5ad7d942f1af",
    "tags": [],
    "deepnote_cell_type": "markdown"
   }
  },
  {
   "cell_type": "code",
   "metadata": {
    "cell_id": "00001-fd0a2f32-f2f3-4a89-94dc-9175c5f69468",
    "deepnote_to_be_reexecuted": false,
    "execution_millis": 54,
    "execution_start": 1642937121789,
    "source_hash": "1a5b69e",
    "tags": [],
    "deepnote_cell_type": "code"
   },
   "source": "#read train dataset\ndf_monk1_train = pd.read_csv('./data/MONK/monks-1.train', sep=\" \", skipinitialspace=True, names=['class','a1','a2','a3','a4','a5','a6','id'])\ndf_monk1_train.drop(labels='id', axis=1, inplace=True)\n\n#read test dataset\ndf_monk1_test = pd.read_csv('./data/MONK/monks-1.test', sep=\" \", skipinitialspace=True,  names=['class','a1','a2','a3','a4','a5','a6','id'])\ndf_monk1_test.drop(labels='id', axis=1, inplace=True)",
   "execution_count": 6,
   "outputs": []
  },
  {
   "cell_type": "code",
   "metadata": {
    "cell_id": "00000-2f3640fb-95bb-4c37-b4f3-7b54a312e8e5",
    "deepnote_table_loading": false,
    "deepnote_table_state": {
     "filters": [],
     "pageIndex": 0,
     "pageSize": 10,
     "sortBy": []
    },
    "deepnote_to_be_reexecuted": false,
    "execution_millis": 328,
    "execution_start": 1642937121848,
    "source_hash": "e3bac8c0",
    "tags": [],
    "deepnote_cell_type": "code"
   },
   "source": "df_monk1_test #first column is the target (can be either 0 or 1)",
   "execution_count": 7,
   "outputs": [
    {
     "output_type": "execute_result",
     "execution_count": 7,
     "data": {
      "application/vnd.deepnote.dataframe.v3+json": {
       "column_count": 7,
       "row_count": 432,
       "columns": [
        {
         "name": "class",
         "dtype": "int64",
         "stats": {
          "unique_count": 2,
          "nan_count": 0,
          "min": "0",
          "max": "1",
          "histogram": [
           {
            "bin_start": 0,
            "bin_end": 0.1,
            "count": 216
           },
           {
            "bin_start": 0.1,
            "bin_end": 0.2,
            "count": 0
           },
           {
            "bin_start": 0.2,
            "bin_end": 0.30000000000000004,
            "count": 0
           },
           {
            "bin_start": 0.30000000000000004,
            "bin_end": 0.4,
            "count": 0
           },
           {
            "bin_start": 0.4,
            "bin_end": 0.5,
            "count": 0
           },
           {
            "bin_start": 0.5,
            "bin_end": 0.6000000000000001,
            "count": 0
           },
           {
            "bin_start": 0.6000000000000001,
            "bin_end": 0.7000000000000001,
            "count": 0
           },
           {
            "bin_start": 0.7000000000000001,
            "bin_end": 0.8,
            "count": 0
           },
           {
            "bin_start": 0.8,
            "bin_end": 0.9,
            "count": 0
           },
           {
            "bin_start": 0.9,
            "bin_end": 1,
            "count": 216
           }
          ]
         }
        },
        {
         "name": "a1",
         "dtype": "int64",
         "stats": {
          "unique_count": 3,
          "nan_count": 0,
          "min": "1",
          "max": "3",
          "histogram": [
           {
            "bin_start": 1,
            "bin_end": 1.2,
            "count": 144
           },
           {
            "bin_start": 1.2,
            "bin_end": 1.4,
            "count": 0
           },
           {
            "bin_start": 1.4,
            "bin_end": 1.6,
            "count": 0
           },
           {
            "bin_start": 1.6,
            "bin_end": 1.8,
            "count": 0
           },
           {
            "bin_start": 1.8,
            "bin_end": 2,
            "count": 0
           },
           {
            "bin_start": 2,
            "bin_end": 2.2,
            "count": 144
           },
           {
            "bin_start": 2.2,
            "bin_end": 2.4000000000000004,
            "count": 0
           },
           {
            "bin_start": 2.4000000000000004,
            "bin_end": 2.6,
            "count": 0
           },
           {
            "bin_start": 2.6,
            "bin_end": 2.8,
            "count": 0
           },
           {
            "bin_start": 2.8,
            "bin_end": 3,
            "count": 144
           }
          ]
         }
        },
        {
         "name": "a2",
         "dtype": "int64",
         "stats": {
          "unique_count": 3,
          "nan_count": 0,
          "min": "1",
          "max": "3",
          "histogram": [
           {
            "bin_start": 1,
            "bin_end": 1.2,
            "count": 144
           },
           {
            "bin_start": 1.2,
            "bin_end": 1.4,
            "count": 0
           },
           {
            "bin_start": 1.4,
            "bin_end": 1.6,
            "count": 0
           },
           {
            "bin_start": 1.6,
            "bin_end": 1.8,
            "count": 0
           },
           {
            "bin_start": 1.8,
            "bin_end": 2,
            "count": 0
           },
           {
            "bin_start": 2,
            "bin_end": 2.2,
            "count": 144
           },
           {
            "bin_start": 2.2,
            "bin_end": 2.4000000000000004,
            "count": 0
           },
           {
            "bin_start": 2.4000000000000004,
            "bin_end": 2.6,
            "count": 0
           },
           {
            "bin_start": 2.6,
            "bin_end": 2.8,
            "count": 0
           },
           {
            "bin_start": 2.8,
            "bin_end": 3,
            "count": 144
           }
          ]
         }
        },
        {
         "name": "a3",
         "dtype": "int64",
         "stats": {
          "unique_count": 2,
          "nan_count": 0,
          "min": "1",
          "max": "2",
          "histogram": [
           {
            "bin_start": 1,
            "bin_end": 1.1,
            "count": 216
           },
           {
            "bin_start": 1.1,
            "bin_end": 1.2,
            "count": 0
           },
           {
            "bin_start": 1.2,
            "bin_end": 1.3,
            "count": 0
           },
           {
            "bin_start": 1.3,
            "bin_end": 1.4,
            "count": 0
           },
           {
            "bin_start": 1.4,
            "bin_end": 1.5,
            "count": 0
           },
           {
            "bin_start": 1.5,
            "bin_end": 1.6,
            "count": 0
           },
           {
            "bin_start": 1.6,
            "bin_end": 1.7000000000000002,
            "count": 0
           },
           {
            "bin_start": 1.7000000000000002,
            "bin_end": 1.8,
            "count": 0
           },
           {
            "bin_start": 1.8,
            "bin_end": 1.9,
            "count": 0
           },
           {
            "bin_start": 1.9,
            "bin_end": 2,
            "count": 216
           }
          ]
         }
        },
        {
         "name": "a4",
         "dtype": "int64",
         "stats": {
          "unique_count": 3,
          "nan_count": 0,
          "min": "1",
          "max": "3",
          "histogram": [
           {
            "bin_start": 1,
            "bin_end": 1.2,
            "count": 144
           },
           {
            "bin_start": 1.2,
            "bin_end": 1.4,
            "count": 0
           },
           {
            "bin_start": 1.4,
            "bin_end": 1.6,
            "count": 0
           },
           {
            "bin_start": 1.6,
            "bin_end": 1.8,
            "count": 0
           },
           {
            "bin_start": 1.8,
            "bin_end": 2,
            "count": 0
           },
           {
            "bin_start": 2,
            "bin_end": 2.2,
            "count": 144
           },
           {
            "bin_start": 2.2,
            "bin_end": 2.4000000000000004,
            "count": 0
           },
           {
            "bin_start": 2.4000000000000004,
            "bin_end": 2.6,
            "count": 0
           },
           {
            "bin_start": 2.6,
            "bin_end": 2.8,
            "count": 0
           },
           {
            "bin_start": 2.8,
            "bin_end": 3,
            "count": 144
           }
          ]
         }
        },
        {
         "name": "a5",
         "dtype": "int64",
         "stats": {
          "unique_count": 4,
          "nan_count": 0,
          "min": "1",
          "max": "4",
          "histogram": [
           {
            "bin_start": 1,
            "bin_end": 1.3,
            "count": 108
           },
           {
            "bin_start": 1.3,
            "bin_end": 1.6,
            "count": 0
           },
           {
            "bin_start": 1.6,
            "bin_end": 1.9,
            "count": 0
           },
           {
            "bin_start": 1.9,
            "bin_end": 2.2,
            "count": 108
           },
           {
            "bin_start": 2.2,
            "bin_end": 2.5,
            "count": 0
           },
           {
            "bin_start": 2.5,
            "bin_end": 2.8,
            "count": 0
           },
           {
            "bin_start": 2.8,
            "bin_end": 3.1,
            "count": 108
           },
           {
            "bin_start": 3.1,
            "bin_end": 3.4,
            "count": 0
           },
           {
            "bin_start": 3.4,
            "bin_end": 3.6999999999999997,
            "count": 0
           },
           {
            "bin_start": 3.6999999999999997,
            "bin_end": 4,
            "count": 108
           }
          ]
         }
        },
        {
         "name": "a6",
         "dtype": "int64",
         "stats": {
          "unique_count": 2,
          "nan_count": 0,
          "min": "1",
          "max": "2",
          "histogram": [
           {
            "bin_start": 1,
            "bin_end": 1.1,
            "count": 216
           },
           {
            "bin_start": 1.1,
            "bin_end": 1.2,
            "count": 0
           },
           {
            "bin_start": 1.2,
            "bin_end": 1.3,
            "count": 0
           },
           {
            "bin_start": 1.3,
            "bin_end": 1.4,
            "count": 0
           },
           {
            "bin_start": 1.4,
            "bin_end": 1.5,
            "count": 0
           },
           {
            "bin_start": 1.5,
            "bin_end": 1.6,
            "count": 0
           },
           {
            "bin_start": 1.6,
            "bin_end": 1.7000000000000002,
            "count": 0
           },
           {
            "bin_start": 1.7000000000000002,
            "bin_end": 1.8,
            "count": 0
           },
           {
            "bin_start": 1.8,
            "bin_end": 1.9,
            "count": 0
           },
           {
            "bin_start": 1.9,
            "bin_end": 2,
            "count": 216
           }
          ]
         }
        },
        {
         "name": "_deepnote_index_column",
         "dtype": "int64"
        }
       ],
       "rows": [
        {
         "class": 1,
         "a1": 1,
         "a2": 1,
         "a3": 1,
         "a4": 1,
         "a5": 1,
         "a6": 1,
         "_deepnote_index_column": 0
        },
        {
         "class": 1,
         "a1": 1,
         "a2": 1,
         "a3": 1,
         "a4": 1,
         "a5": 1,
         "a6": 2,
         "_deepnote_index_column": 1
        },
        {
         "class": 1,
         "a1": 1,
         "a2": 1,
         "a3": 1,
         "a4": 1,
         "a5": 2,
         "a6": 1,
         "_deepnote_index_column": 2
        },
        {
         "class": 1,
         "a1": 1,
         "a2": 1,
         "a3": 1,
         "a4": 1,
         "a5": 2,
         "a6": 2,
         "_deepnote_index_column": 3
        },
        {
         "class": 1,
         "a1": 1,
         "a2": 1,
         "a3": 1,
         "a4": 1,
         "a5": 3,
         "a6": 1,
         "_deepnote_index_column": 4
        },
        {
         "class": 1,
         "a1": 1,
         "a2": 1,
         "a3": 1,
         "a4": 1,
         "a5": 3,
         "a6": 2,
         "_deepnote_index_column": 5
        },
        {
         "class": 1,
         "a1": 1,
         "a2": 1,
         "a3": 1,
         "a4": 1,
         "a5": 4,
         "a6": 1,
         "_deepnote_index_column": 6
        },
        {
         "class": 1,
         "a1": 1,
         "a2": 1,
         "a3": 1,
         "a4": 1,
         "a5": 4,
         "a6": 2,
         "_deepnote_index_column": 7
        },
        {
         "class": 1,
         "a1": 1,
         "a2": 1,
         "a3": 1,
         "a4": 2,
         "a5": 1,
         "a6": 1,
         "_deepnote_index_column": 8
        },
        {
         "class": 1,
         "a1": 1,
         "a2": 1,
         "a3": 1,
         "a4": 2,
         "a5": 1,
         "a6": 2,
         "_deepnote_index_column": 9
        }
       ]
      },
      "text/plain": "     class  a1  a2  a3  a4  a5  a6\n0        1   1   1   1   1   1   1\n1        1   1   1   1   1   1   2\n2        1   1   1   1   1   2   1\n3        1   1   1   1   1   2   2\n4        1   1   1   1   1   3   1\n..     ...  ..  ..  ..  ..  ..  ..\n427      1   3   3   2   3   2   2\n428      1   3   3   2   3   3   1\n429      1   3   3   2   3   3   2\n430      1   3   3   2   3   4   1\n431      1   3   3   2   3   4   2\n\n[432 rows x 7 columns]",
      "text/html": "<div>\n<style scoped>\n    .dataframe tbody tr th:only-of-type {\n        vertical-align: middle;\n    }\n\n    .dataframe tbody tr th {\n        vertical-align: top;\n    }\n\n    .dataframe thead th {\n        text-align: right;\n    }\n</style>\n<table border=\"1\" class=\"dataframe\">\n  <thead>\n    <tr style=\"text-align: right;\">\n      <th></th>\n      <th>class</th>\n      <th>a1</th>\n      <th>a2</th>\n      <th>a3</th>\n      <th>a4</th>\n      <th>a5</th>\n      <th>a6</th>\n    </tr>\n  </thead>\n  <tbody>\n    <tr>\n      <th>0</th>\n      <td>1</td>\n      <td>1</td>\n      <td>1</td>\n      <td>1</td>\n      <td>1</td>\n      <td>1</td>\n      <td>1</td>\n    </tr>\n    <tr>\n      <th>1</th>\n      <td>1</td>\n      <td>1</td>\n      <td>1</td>\n      <td>1</td>\n      <td>1</td>\n      <td>1</td>\n      <td>2</td>\n    </tr>\n    <tr>\n      <th>2</th>\n      <td>1</td>\n      <td>1</td>\n      <td>1</td>\n      <td>1</td>\n      <td>1</td>\n      <td>2</td>\n      <td>1</td>\n    </tr>\n    <tr>\n      <th>3</th>\n      <td>1</td>\n      <td>1</td>\n      <td>1</td>\n      <td>1</td>\n      <td>1</td>\n      <td>2</td>\n      <td>2</td>\n    </tr>\n    <tr>\n      <th>4</th>\n      <td>1</td>\n      <td>1</td>\n      <td>1</td>\n      <td>1</td>\n      <td>1</td>\n      <td>3</td>\n      <td>1</td>\n    </tr>\n    <tr>\n      <th>...</th>\n      <td>...</td>\n      <td>...</td>\n      <td>...</td>\n      <td>...</td>\n      <td>...</td>\n      <td>...</td>\n      <td>...</td>\n    </tr>\n    <tr>\n      <th>427</th>\n      <td>1</td>\n      <td>3</td>\n      <td>3</td>\n      <td>2</td>\n      <td>3</td>\n      <td>2</td>\n      <td>2</td>\n    </tr>\n    <tr>\n      <th>428</th>\n      <td>1</td>\n      <td>3</td>\n      <td>3</td>\n      <td>2</td>\n      <td>3</td>\n      <td>3</td>\n      <td>1</td>\n    </tr>\n    <tr>\n      <th>429</th>\n      <td>1</td>\n      <td>3</td>\n      <td>3</td>\n      <td>2</td>\n      <td>3</td>\n      <td>3</td>\n      <td>2</td>\n    </tr>\n    <tr>\n      <th>430</th>\n      <td>1</td>\n      <td>3</td>\n      <td>3</td>\n      <td>2</td>\n      <td>3</td>\n      <td>4</td>\n      <td>1</td>\n    </tr>\n    <tr>\n      <th>431</th>\n      <td>1</td>\n      <td>3</td>\n      <td>3</td>\n      <td>2</td>\n      <td>3</td>\n      <td>4</td>\n      <td>2</td>\n    </tr>\n  </tbody>\n</table>\n<p>432 rows × 7 columns</p>\n</div>"
     },
     "metadata": {}
    }
   ]
  },
  {
   "cell_type": "code",
   "metadata": {
    "cell_id": "00004-3aae5316-d4b7-4113-9b05-0440a3a3f494",
    "deepnote_table_loading": false,
    "deepnote_table_state": {
     "filters": [],
     "pageIndex": 0,
     "pageSize": 10,
     "sortBy": []
    },
    "deepnote_to_be_reexecuted": false,
    "execution_millis": 322,
    "execution_start": 1642937122241,
    "source_hash": "a26e411c",
    "tags": [],
    "deepnote_cell_type": "code"
   },
   "source": "df_monk1_train",
   "execution_count": 8,
   "outputs": [
    {
     "output_type": "execute_result",
     "execution_count": 8,
     "data": {
      "application/vnd.deepnote.dataframe.v3+json": {
       "column_count": 7,
       "row_count": 124,
       "columns": [
        {
         "name": "class",
         "dtype": "int64",
         "stats": {
          "unique_count": 2,
          "nan_count": 0,
          "min": "0",
          "max": "1",
          "histogram": [
           {
            "bin_start": 0,
            "bin_end": 0.1,
            "count": 62
           },
           {
            "bin_start": 0.1,
            "bin_end": 0.2,
            "count": 0
           },
           {
            "bin_start": 0.2,
            "bin_end": 0.30000000000000004,
            "count": 0
           },
           {
            "bin_start": 0.30000000000000004,
            "bin_end": 0.4,
            "count": 0
           },
           {
            "bin_start": 0.4,
            "bin_end": 0.5,
            "count": 0
           },
           {
            "bin_start": 0.5,
            "bin_end": 0.6000000000000001,
            "count": 0
           },
           {
            "bin_start": 0.6000000000000001,
            "bin_end": 0.7000000000000001,
            "count": 0
           },
           {
            "bin_start": 0.7000000000000001,
            "bin_end": 0.8,
            "count": 0
           },
           {
            "bin_start": 0.8,
            "bin_end": 0.9,
            "count": 0
           },
           {
            "bin_start": 0.9,
            "bin_end": 1,
            "count": 62
           }
          ]
         }
        },
        {
         "name": "a1",
         "dtype": "int64",
         "stats": {
          "unique_count": 3,
          "nan_count": 0,
          "min": "1",
          "max": "3",
          "histogram": [
           {
            "bin_start": 1,
            "bin_end": 1.2,
            "count": 45
           },
           {
            "bin_start": 1.2,
            "bin_end": 1.4,
            "count": 0
           },
           {
            "bin_start": 1.4,
            "bin_end": 1.6,
            "count": 0
           },
           {
            "bin_start": 1.6,
            "bin_end": 1.8,
            "count": 0
           },
           {
            "bin_start": 1.8,
            "bin_end": 2,
            "count": 0
           },
           {
            "bin_start": 2,
            "bin_end": 2.2,
            "count": 42
           },
           {
            "bin_start": 2.2,
            "bin_end": 2.4000000000000004,
            "count": 0
           },
           {
            "bin_start": 2.4000000000000004,
            "bin_end": 2.6,
            "count": 0
           },
           {
            "bin_start": 2.6,
            "bin_end": 2.8,
            "count": 0
           },
           {
            "bin_start": 2.8,
            "bin_end": 3,
            "count": 37
           }
          ]
         }
        },
        {
         "name": "a2",
         "dtype": "int64",
         "stats": {
          "unique_count": 3,
          "nan_count": 0,
          "min": "1",
          "max": "3",
          "histogram": [
           {
            "bin_start": 1,
            "bin_end": 1.2,
            "count": 35
           },
           {
            "bin_start": 1.2,
            "bin_end": 1.4,
            "count": 0
           },
           {
            "bin_start": 1.4,
            "bin_end": 1.6,
            "count": 0
           },
           {
            "bin_start": 1.6,
            "bin_end": 1.8,
            "count": 0
           },
           {
            "bin_start": 1.8,
            "bin_end": 2,
            "count": 0
           },
           {
            "bin_start": 2,
            "bin_end": 2.2,
            "count": 42
           },
           {
            "bin_start": 2.2,
            "bin_end": 2.4000000000000004,
            "count": 0
           },
           {
            "bin_start": 2.4000000000000004,
            "bin_end": 2.6,
            "count": 0
           },
           {
            "bin_start": 2.6,
            "bin_end": 2.8,
            "count": 0
           },
           {
            "bin_start": 2.8,
            "bin_end": 3,
            "count": 47
           }
          ]
         }
        },
        {
         "name": "a3",
         "dtype": "int64",
         "stats": {
          "unique_count": 2,
          "nan_count": 0,
          "min": "1",
          "max": "2",
          "histogram": [
           {
            "bin_start": 1,
            "bin_end": 1.1,
            "count": 65
           },
           {
            "bin_start": 1.1,
            "bin_end": 1.2,
            "count": 0
           },
           {
            "bin_start": 1.2,
            "bin_end": 1.3,
            "count": 0
           },
           {
            "bin_start": 1.3,
            "bin_end": 1.4,
            "count": 0
           },
           {
            "bin_start": 1.4,
            "bin_end": 1.5,
            "count": 0
           },
           {
            "bin_start": 1.5,
            "bin_end": 1.6,
            "count": 0
           },
           {
            "bin_start": 1.6,
            "bin_end": 1.7000000000000002,
            "count": 0
           },
           {
            "bin_start": 1.7000000000000002,
            "bin_end": 1.8,
            "count": 0
           },
           {
            "bin_start": 1.8,
            "bin_end": 1.9,
            "count": 0
           },
           {
            "bin_start": 1.9,
            "bin_end": 2,
            "count": 59
           }
          ]
         }
        },
        {
         "name": "a4",
         "dtype": "int64",
         "stats": {
          "unique_count": 3,
          "nan_count": 0,
          "min": "1",
          "max": "3",
          "histogram": [
           {
            "bin_start": 1,
            "bin_end": 1.2,
            "count": 42
           },
           {
            "bin_start": 1.2,
            "bin_end": 1.4,
            "count": 0
           },
           {
            "bin_start": 1.4,
            "bin_end": 1.6,
            "count": 0
           },
           {
            "bin_start": 1.6,
            "bin_end": 1.8,
            "count": 0
           },
           {
            "bin_start": 1.8,
            "bin_end": 2,
            "count": 0
           },
           {
            "bin_start": 2,
            "bin_end": 2.2,
            "count": 39
           },
           {
            "bin_start": 2.2,
            "bin_end": 2.4000000000000004,
            "count": 0
           },
           {
            "bin_start": 2.4000000000000004,
            "bin_end": 2.6,
            "count": 0
           },
           {
            "bin_start": 2.6,
            "bin_end": 2.8,
            "count": 0
           },
           {
            "bin_start": 2.8,
            "bin_end": 3,
            "count": 43
           }
          ]
         }
        },
        {
         "name": "a5",
         "dtype": "int64",
         "stats": {
          "unique_count": 4,
          "nan_count": 0,
          "min": "1",
          "max": "4",
          "histogram": [
           {
            "bin_start": 1,
            "bin_end": 1.3,
            "count": 29
           },
           {
            "bin_start": 1.3,
            "bin_end": 1.6,
            "count": 0
           },
           {
            "bin_start": 1.6,
            "bin_end": 1.9,
            "count": 0
           },
           {
            "bin_start": 1.9,
            "bin_end": 2.2,
            "count": 31
           },
           {
            "bin_start": 2.2,
            "bin_end": 2.5,
            "count": 0
           },
           {
            "bin_start": 2.5,
            "bin_end": 2.8,
            "count": 0
           },
           {
            "bin_start": 2.8,
            "bin_end": 3.1,
            "count": 30
           },
           {
            "bin_start": 3.1,
            "bin_end": 3.4,
            "count": 0
           },
           {
            "bin_start": 3.4,
            "bin_end": 3.6999999999999997,
            "count": 0
           },
           {
            "bin_start": 3.6999999999999997,
            "bin_end": 4,
            "count": 34
           }
          ]
         }
        },
        {
         "name": "a6",
         "dtype": "int64",
         "stats": {
          "unique_count": 2,
          "nan_count": 0,
          "min": "1",
          "max": "2",
          "histogram": [
           {
            "bin_start": 1,
            "bin_end": 1.1,
            "count": 56
           },
           {
            "bin_start": 1.1,
            "bin_end": 1.2,
            "count": 0
           },
           {
            "bin_start": 1.2,
            "bin_end": 1.3,
            "count": 0
           },
           {
            "bin_start": 1.3,
            "bin_end": 1.4,
            "count": 0
           },
           {
            "bin_start": 1.4,
            "bin_end": 1.5,
            "count": 0
           },
           {
            "bin_start": 1.5,
            "bin_end": 1.6,
            "count": 0
           },
           {
            "bin_start": 1.6,
            "bin_end": 1.7000000000000002,
            "count": 0
           },
           {
            "bin_start": 1.7000000000000002,
            "bin_end": 1.8,
            "count": 0
           },
           {
            "bin_start": 1.8,
            "bin_end": 1.9,
            "count": 0
           },
           {
            "bin_start": 1.9,
            "bin_end": 2,
            "count": 68
           }
          ]
         }
        },
        {
         "name": "_deepnote_index_column",
         "dtype": "int64"
        }
       ],
       "rows": [
        {
         "class": 1,
         "a1": 1,
         "a2": 1,
         "a3": 1,
         "a4": 1,
         "a5": 3,
         "a6": 1,
         "_deepnote_index_column": 0
        },
        {
         "class": 1,
         "a1": 1,
         "a2": 1,
         "a3": 1,
         "a4": 1,
         "a5": 3,
         "a6": 2,
         "_deepnote_index_column": 1
        },
        {
         "class": 1,
         "a1": 1,
         "a2": 1,
         "a3": 1,
         "a4": 3,
         "a5": 2,
         "a6": 1,
         "_deepnote_index_column": 2
        },
        {
         "class": 1,
         "a1": 1,
         "a2": 1,
         "a3": 1,
         "a4": 3,
         "a5": 3,
         "a6": 2,
         "_deepnote_index_column": 3
        },
        {
         "class": 1,
         "a1": 1,
         "a2": 1,
         "a3": 2,
         "a4": 1,
         "a5": 2,
         "a6": 1,
         "_deepnote_index_column": 4
        },
        {
         "class": 1,
         "a1": 1,
         "a2": 1,
         "a3": 2,
         "a4": 1,
         "a5": 2,
         "a6": 2,
         "_deepnote_index_column": 5
        },
        {
         "class": 1,
         "a1": 1,
         "a2": 1,
         "a3": 2,
         "a4": 2,
         "a5": 3,
         "a6": 1,
         "_deepnote_index_column": 6
        },
        {
         "class": 1,
         "a1": 1,
         "a2": 1,
         "a3": 2,
         "a4": 2,
         "a5": 4,
         "a6": 1,
         "_deepnote_index_column": 7
        },
        {
         "class": 1,
         "a1": 1,
         "a2": 1,
         "a3": 2,
         "a4": 3,
         "a5": 1,
         "a6": 2,
         "_deepnote_index_column": 8
        },
        {
         "class": 1,
         "a1": 1,
         "a2": 2,
         "a3": 1,
         "a4": 1,
         "a5": 1,
         "a6": 2,
         "_deepnote_index_column": 9
        }
       ]
      },
      "text/plain": "     class  a1  a2  a3  a4  a5  a6\n0        1   1   1   1   1   3   1\n1        1   1   1   1   1   3   2\n2        1   1   1   1   3   2   1\n3        1   1   1   1   3   3   2\n4        1   1   1   2   1   2   1\n..     ...  ..  ..  ..  ..  ..  ..\n119      1   3   3   2   1   4   2\n120      1   3   3   2   3   1   2\n121      1   3   3   2   3   2   2\n122      1   3   3   2   3   3   2\n123      1   3   3   2   3   4   2\n\n[124 rows x 7 columns]",
      "text/html": "<div>\n<style scoped>\n    .dataframe tbody tr th:only-of-type {\n        vertical-align: middle;\n    }\n\n    .dataframe tbody tr th {\n        vertical-align: top;\n    }\n\n    .dataframe thead th {\n        text-align: right;\n    }\n</style>\n<table border=\"1\" class=\"dataframe\">\n  <thead>\n    <tr style=\"text-align: right;\">\n      <th></th>\n      <th>class</th>\n      <th>a1</th>\n      <th>a2</th>\n      <th>a3</th>\n      <th>a4</th>\n      <th>a5</th>\n      <th>a6</th>\n    </tr>\n  </thead>\n  <tbody>\n    <tr>\n      <th>0</th>\n      <td>1</td>\n      <td>1</td>\n      <td>1</td>\n      <td>1</td>\n      <td>1</td>\n      <td>3</td>\n      <td>1</td>\n    </tr>\n    <tr>\n      <th>1</th>\n      <td>1</td>\n      <td>1</td>\n      <td>1</td>\n      <td>1</td>\n      <td>1</td>\n      <td>3</td>\n      <td>2</td>\n    </tr>\n    <tr>\n      <th>2</th>\n      <td>1</td>\n      <td>1</td>\n      <td>1</td>\n      <td>1</td>\n      <td>3</td>\n      <td>2</td>\n      <td>1</td>\n    </tr>\n    <tr>\n      <th>3</th>\n      <td>1</td>\n      <td>1</td>\n      <td>1</td>\n      <td>1</td>\n      <td>3</td>\n      <td>3</td>\n      <td>2</td>\n    </tr>\n    <tr>\n      <th>4</th>\n      <td>1</td>\n      <td>1</td>\n      <td>1</td>\n      <td>2</td>\n      <td>1</td>\n      <td>2</td>\n      <td>1</td>\n    </tr>\n    <tr>\n      <th>...</th>\n      <td>...</td>\n      <td>...</td>\n      <td>...</td>\n      <td>...</td>\n      <td>...</td>\n      <td>...</td>\n      <td>...</td>\n    </tr>\n    <tr>\n      <th>119</th>\n      <td>1</td>\n      <td>3</td>\n      <td>3</td>\n      <td>2</td>\n      <td>1</td>\n      <td>4</td>\n      <td>2</td>\n    </tr>\n    <tr>\n      <th>120</th>\n      <td>1</td>\n      <td>3</td>\n      <td>3</td>\n      <td>2</td>\n      <td>3</td>\n      <td>1</td>\n      <td>2</td>\n    </tr>\n    <tr>\n      <th>121</th>\n      <td>1</td>\n      <td>3</td>\n      <td>3</td>\n      <td>2</td>\n      <td>3</td>\n      <td>2</td>\n      <td>2</td>\n    </tr>\n    <tr>\n      <th>122</th>\n      <td>1</td>\n      <td>3</td>\n      <td>3</td>\n      <td>2</td>\n      <td>3</td>\n      <td>3</td>\n      <td>2</td>\n    </tr>\n    <tr>\n      <th>123</th>\n      <td>1</td>\n      <td>3</td>\n      <td>3</td>\n      <td>2</td>\n      <td>3</td>\n      <td>4</td>\n      <td>2</td>\n    </tr>\n  </tbody>\n</table>\n<p>124 rows × 7 columns</p>\n</div>"
     },
     "metadata": {}
    }
   ]
  },
  {
   "cell_type": "code",
   "metadata": {
    "cell_id": "00005-9871c03f-5475-45e7-b0bd-16fcb8946ab3",
    "deepnote_output_heights": [
     21.1875,
     451
    ],
    "deepnote_to_be_reexecuted": false,
    "execution_millis": 978,
    "execution_start": 1642937122565,
    "source_hash": "b22c86e5",
    "tags": [],
    "deepnote_cell_type": "code"
   },
   "source": "#plot class distribution in train data\nfig_size = plt.rcParams[\"figure.figsize\"]\nfig_size[0] = 10\nfig_size[1] = 8\nplt.rcParams[\"figure.figsize\"] = fig_size\n\ndf_monk1_train['class'].value_counts().plot(kind='pie', autopct='%1.0f%%', colors=['skyblue', 'orange'], explode=(0.05, 0.05))",
   "execution_count": 9,
   "outputs": [
    {
     "output_type": "execute_result",
     "execution_count": 9,
     "data": {
      "text/plain": "<AxesSubplot:ylabel='class'>"
     },
     "metadata": {}
    },
    {
     "data": {
      "text/plain": "<Figure size 720x576 with 1 Axes>",
      "image/png": "[encoded data removed]"
     },
     "metadata": {
      "image/png": {
       "width": 463,
       "height": 449
      }
     },
     "output_type": "display_data"
    }
   ]
  },
  {
   "cell_type": "code",
   "metadata": {
    "cell_id": "00006-cf57ec2c-783c-4fb6-b41c-1d6bb899e12d",
    "deepnote_output_heights": [
     21.1875,
     451
    ],
    "deepnote_to_be_reexecuted": false,
    "execution_millis": 753,
    "execution_start": 1642937123588,
    "source_hash": "3b111b4e",
    "tags": [],
    "deepnote_cell_type": "code"
   },
   "source": "#plot class distribution in test data\ndf_monk1_test['class'].value_counts().plot(kind='pie', autopct='%1.0f%%', colors=['skyblue', 'orange'], explode=(0.05, 0.05))",
   "execution_count": 10,
   "outputs": [
    {
     "output_type": "execute_result",
     "execution_count": 10,
     "data": {
      "text/plain": "<AxesSubplot:ylabel='class'>"
     },
     "metadata": {}
    },
    {
     "data": {
      "text/plain": "<Figure size 720x576 with 1 Axes>",
      "image/png": "[encoded data removed]"
     },
     "metadata": {
      "image/png": {
       "width": 463,
       "height": 449
      }
     },
     "output_type": "display_data"
    }
   ]
  },
  {
   "cell_type": "code",
   "metadata": {
    "cell_id": "00019-faeb7a82-95c7-4cce-a50a-2c1ac67414d9",
    "deepnote_to_be_reexecuted": false,
    "execution_millis": 16,
    "execution_start": 1642937124345,
    "source_hash": "ea61b89e",
    "tags": [],
    "deepnote_cell_type": "code"
   },
   "source": "X_train_M1, y_train_M1, X_test_M1, y_test_M1 = split_train_test(df_monk1_train, df_monk1_test)",
   "execution_count": 11,
   "outputs": []
  },
  {
   "cell_type": "markdown",
   "source": "### Using skorch and sklearn\nIn this part, use skorch and sklearn to define a good model with MONKs",
   "metadata": {
    "cell_id": "00024-68cc221e-c5bc-4ff8-9425-4af59faecd96",
    "tags": [],
    "deepnote_cell_type": "markdown"
   }
  },
  {
   "cell_type": "code",
   "metadata": {
    "cell_id": "deb96f5e-2324-4c39-be87-0f69684df396",
    "deepnote_to_be_reexecuted": false,
    "execution_millis": 118,
    "execution_start": 1642937124367,
    "source_hash": "2a152bdb",
    "tags": [],
    "deepnote_cell_type": "code"
   },
   "source": "#trains the model with one iteration (epoch) and computes in output a list of train and test scores using MEE\ndef fit_and_score_monk(epochs, eval_model, X_train, y_train, X_test, y_test):\n    train_scores = []\n    test_scores = []\n    train_loss = []\n    test_loss = []\n    train_loss_mse = []\n    test_loss_mse = []\n\n    for i in range(epochs):\n        eval_model = eval_model.partial_fit(X_train,y_train, classes = np.unique(y_train))\n        y_train_predicted = eval_model.predict(X_train)\n        y_test_predicted = eval_model.predict(X_test)\n        #results on train set\n        train_loss.append(log_loss(y_train, y_train_predicted))\n        train_loss_mse.append(mean_squared_error(y_train, y_train_predicted))\n        train_scores.append(accuracy_score(y_train, y_train_predicted))\n        #result on test set\n        test_loss.append(log_loss(y_test, y_test_predicted))\n        test_loss_mse.append(mean_squared_error(y_test, y_test_predicted))\n        test_scores.append(accuracy_score(y_test, y_test_predicted))\n    return train_scores, test_scores, train_loss, test_loss, train_loss_mse, test_loss_mse",
   "execution_count": 12,
   "outputs": []
  },
  {
   "cell_type": "markdown",
   "source": "### One hot encoding in MONK-1\nIn the MONK dataset we have the categories encoded using label encoding (e.g. 0,1,2,..), we need to use one hot encoding in order to have better results (e.g. 001, 010, ..). ",
   "metadata": {
    "cell_id": "00023-86bd7eca-2ace-4dd4-9ebc-80fab39edd07",
    "tags": [],
    "deepnote_cell_type": "markdown"
   }
  },
  {
   "cell_type": "code",
   "metadata": {
    "cell_id": "00023-77fc8d80-79ba-4be6-a235-c8d13efe1f06",
    "deepnote_to_be_reexecuted": false,
    "execution_millis": 29,
    "execution_start": 1642937124485,
    "source_hash": "7d1623e9",
    "tags": [],
    "deepnote_cell_type": "code"
   },
   "source": "enc_train = OneHotEncoder()\nenc_train.fit(X_train_M1)\nX_train_M1 = enc_train.transform(X_train_M1).toarray()\nprint(X_train_M1.shape)\n\nenc_test = OneHotEncoder()\nenc_test.fit(X_test_M1)\nX_test_M1 = enc_test.transform(X_test_M1).toarray()\nprint(X_test_M1.shape)",
   "execution_count": 13,
   "outputs": [
    {
     "name": "stdout",
     "text": "(124, 17)\n(432, 17)\n",
     "output_type": "stream"
    }
   ]
  },
  {
   "cell_type": "code",
   "metadata": {
    "cell_id": "3f253ca1-19ce-4813-a633-453eaf54305d",
    "deepnote_to_be_reexecuted": false,
    "execution_millis": 0,
    "execution_start": 1642937124487,
    "source_hash": "32cd63e7",
    "tags": [],
    "deepnote_cell_type": "code"
   },
   "source": "#cast train set and test set to Float\nX_trainFit_enc = X_train_M1.astype(np.single)\ny_trainFit_enc = y_train_M1.astype(np.single)\n\nX_testFit_enc = X_test_M1.astype(np.single)\ny_testFit_enc = y_test_M1.astype(np.single)",
   "execution_count": 14,
   "outputs": []
  },
  {
   "cell_type": "code",
   "metadata": {
    "scrolled": true,
    "cell_id": "00018-5f79a229-b2cd-45f0-928b-47f2ddb3ee19",
    "deepnote_to_be_reexecuted": false,
    "source_hash": "4ad87dcc",
    "execution_start": 1642939632196,
    "execution_millis": 77485,
    "deepnote_cell_type": "code"
   },
   "source": "%%time\n\nnet_enc = NeuralNetBinaryClassifier(\n    BinaryClassification,\n    module__n_input=X_trainFit_enc.shape[1],\n    module__hidden_units=4,\n    max_epochs=1,\n    batch_size=4,\n    lr = 0.057,\n    optimizer=torch.optim.SGD,\n    #optimizer__weight_decay=0.001,\n    #optimizer__momentum=0.85,\n    #optimizer__nesterov=True,\n    # Shuffle training data on each epoch\n    #iterator_train__shuffle=True,\n    train_split=None\n)\n\ntrain_scores_M1, test_scores_M1, train_loss_M1, test_loss_M1, train_loss_M1_mse, test_loss_M1_mse = fit_and_score_monk(150, net_enc, X_trainFit_enc, y_trainFit_enc, X_testFit_enc, y_testFit_enc)",
   "execution_count": 15,
   "outputs": [
    {
     "name": "stdout",
     "text": "  epoch    train_loss     dur\n-------  ------------  ------\n      1        \u001b[36m0.6987\u001b[0m  0.0951\n      2        \u001b[36m0.6883\u001b[0m  0.0895\n      3        \u001b[36m0.6760\u001b[0m  0.1240\n      4        \u001b[36m0.6591\u001b[0m  0.1185\n      5        \u001b[36m0.6368\u001b[0m  0.0990\n      6        \u001b[36m0.6066\u001b[0m  0.0896\n      7        \u001b[36m0.5749\u001b[0m  0.0965\n      8        \u001b[36m0.5429\u001b[0m  0.1048\n      9        \u001b[36m0.5133\u001b[0m  0.1000\n",
     "output_type": "stream"
    }
   ]
  },
  {
   "cell_type": "code",
   "metadata": {
    "cell_id": "d7ebf53c-2d39-49b3-b5a3-1174b0b5e99c",
    "deepnote_output_heights": [
     500
    ],
    "deepnote_to_be_reexecuted": false,
    "execution_millis": 2281,
    "execution_start": 1642937202074,
    "source_hash": "e68e9270",
    "tags": [],
    "deepnote_cell_type": "code"
   },
   "source": "plot_learning_curves(train_loss_M1, test_loss_M1, 150, 'Loss (BCE)')",
   "execution_count": 16,
   "outputs": [
    {
     "data": {
      "text/plain": "<Figure size 720x576 with 1 Axes>",
      "image/png": "[encoded data removed]"
     },
     "metadata": {
      "needs_background": "light",
      "image/png": {
       "width": 647,
       "height": 498
      }
     },
     "output_type": "display_data"
    }
   ]
  },
  {
   "cell_type": "code",
   "metadata": {
    "cell_id": "00020-ca8400dd-a486-47a2-b73f-c6f1728ed52f",
    "deepnote_output_heights": [
     500
    ],
    "deepnote_to_be_reexecuted": false,
    "source_hash": "2526c879",
    "execution_start": 1642937204354,
    "execution_millis": 2026,
    "deepnote_cell_type": "code"
   },
   "source": "plot_learning_curves(train_loss_M1_mse, test_loss_M1_mse, 150, 'Loss (MSE)')",
   "execution_count": 17,
   "outputs": [
    {
     "data": {
      "text/plain": "<Figure size 720x576 with 1 Axes>",
      "image/png": "[encoded data removed]"
     },
     "metadata": {
      "needs_background": "light",
      "image/png": {
       "width": 634,
       "height": 498
      }
     },
     "output_type": "display_data"
    }
   ]
  },
  {
   "cell_type": "code",
   "metadata": {
    "cell_id": "47fe64a6-dac6-4fea-8662-2996ae4cf41e",
    "deepnote_output_heights": [
     500
    ],
    "deepnote_to_be_reexecuted": false,
    "execution_millis": 1773,
    "execution_start": 1642937206300,
    "source_hash": "bf1a899f",
    "tags": [],
    "deepnote_cell_type": "code"
   },
   "source": "plot_learning_curves(train_scores_M1, test_scores_M1, 150, 'Accuracy')",
   "execution_count": 18,
   "outputs": [
    {
     "data": {
      "text/plain": "<Figure size 720x576 with 1 Axes>",
      "image/png": "[encoded data removed]"
     },
     "metadata": {
      "needs_background": "light",
      "image/png": {
       "width": 634,
       "height": 498
      }
     },
     "output_type": "display_data"
    }
   ]
  },
  {
   "cell_type": "code",
   "metadata": {
    "cell_id": "00022-a5887f33-6435-4cbf-a26a-9673cab2a348",
    "deepnote_to_be_reexecuted": false,
    "source_hash": "eafb874a",
    "execution_start": 1642937407788,
    "execution_millis": 568,
    "deepnote_cell_type": "code"
   },
   "source": "y_predicted_train_M1 = net_enc.predict(X_trainFit_enc)\ny_predicted_test_M1 = net_enc.predict(X_testFit_enc)\nprint(f\"Accuracy on MONK1: {net_enc.score(X_testFit_enc, y_testFit_enc)}\")\nprint(f\"MEE on MONK1: {(np.linalg.norm(y_predicted_test_M1-y_testFit_enc))}\") # MEE distance (a.k.a. norm 2)\nprint(f\"MSE on MONK1 (TRAIN): {(mean_squared_error(y_trainFit_enc, y_predicted_train_M1))}\")\nprint(f\"MSE on MONK1 (TEST): {(mean_squared_error(y_testFit_enc, y_predicted_test_M1))}\")",
   "execution_count": 21,
   "outputs": [
    {
     "name": "stdout",
     "text": "Accuracy on MONK1: 1.0\nMEE on MONK1: 0.0\nMSE on MONK1 (TRAIN): 0.0\nMSE on MONK1 (TEST): 0.0\n",
     "output_type": "stream"
    }
   ]
  },
  {
   "cell_type": "code",
   "metadata": {
    "cell_id": "07e0ad1a-ff00-4532-87a2-3f378a4aa014",
    "deepnote_output_heights": [
     136
    ],
    "deepnote_to_be_reexecuted": false,
    "execution_millis": 130,
    "execution_start": 1642937460888,
    "source_hash": "b9f1ee70",
    "tags": [],
    "deepnote_cell_type": "code"
   },
   "source": "#control the accuracy between true and predict values on test data\nprint(classification_report(y_testFit_enc, y_predicted_test_M1))",
   "execution_count": 23,
   "outputs": [
    {
     "name": "stdout",
     "text": "              precision    recall  f1-score   support\n\n         0.0       1.00      1.00      1.00       216\n         1.0       1.00      1.00      1.00       216\n\n    accuracy                           1.00       432\n   macro avg       1.00      1.00      1.00       432\nweighted avg       1.00      1.00      1.00       432\n\n",
     "output_type": "stream"
    }
   ]
  },
  {
   "cell_type": "markdown",
   "source": "### Loading MONK-2 dataset",
   "metadata": {
    "cell_id": "00033-cbb4dbdd-918f-46fe-b1b5-6e76a6a653b8",
    "tags": [],
    "deepnote_cell_type": "markdown"
   }
  },
  {
   "cell_type": "code",
   "metadata": {
    "cell_id": "00034-e0ea567d-b6e5-4b5f-be28-3b11386d3631",
    "deepnote_to_be_reexecuted": false,
    "execution_millis": 83,
    "execution_start": 1642937472356,
    "source_hash": "656b45fe",
    "tags": [],
    "deepnote_cell_type": "code"
   },
   "source": "df_monk2_train = pd.read_csv('./data/MONK/monks-2.train', sep=\" \", skipinitialspace=True, names=['class','a1','a2','a3','a4','a5','a6','id'])\ndf_monk2_train.drop(labels='id', axis=1, inplace=True)\n\ndf_monk2_test = pd.read_csv('./data/MONK/monks-2.test', sep=\" \", skipinitialspace=True,  names=['class','a1','a2','a3','a4','a5','a6','id'])\ndf_monk2_test.drop(labels='id', axis=1, inplace=True)",
   "execution_count": 24,
   "outputs": []
  },
  {
   "cell_type": "code",
   "metadata": {
    "cell_id": "00035-1051cf92-6a65-49dd-af16-99bffe59bd4f",
    "deepnote_to_be_reexecuted": false,
    "execution_millis": 211,
    "execution_start": 1642937474954,
    "source_hash": "55cc4d97",
    "tags": [],
    "deepnote_cell_type": "code"
   },
   "source": "df_monk2_test.head() #first column is the target (can be either 0 or 1)",
   "execution_count": 25,
   "outputs": [
    {
     "output_type": "execute_result",
     "execution_count": 25,
     "data": {
      "application/vnd.deepnote.dataframe.v3+json": {
       "column_count": 7,
       "row_count": 5,
       "columns": [
        {
         "name": "class",
         "dtype": "int64",
         "stats": {
          "unique_count": 1,
          "nan_count": 0,
          "min": "0",
          "max": "0",
          "histogram": [
           {
            "bin_start": -0.5,
            "bin_end": -0.4,
            "count": 0
           },
           {
            "bin_start": -0.4,
            "bin_end": -0.3,
            "count": 0
           },
           {
            "bin_start": -0.3,
            "bin_end": -0.19999999999999996,
            "count": 0
           },
           {
            "bin_start": -0.19999999999999996,
            "bin_end": -0.09999999999999998,
            "count": 0
           },
           {
            "bin_start": -0.09999999999999998,
            "bin_end": 0,
            "count": 0
           },
           {
            "bin_start": 0,
            "bin_end": 0.10000000000000009,
            "count": 5
           },
           {
            "bin_start": 0.10000000000000009,
            "bin_end": 0.20000000000000007,
            "count": 0
           },
           {
            "bin_start": 0.20000000000000007,
            "bin_end": 0.30000000000000004,
            "count": 0
           },
           {
            "bin_start": 0.30000000000000004,
            "bin_end": 0.4,
            "count": 0
           },
           {
            "bin_start": 0.4,
            "bin_end": 0.5,
            "count": 0
           }
          ]
         }
        },
        {
         "name": "a1",
         "dtype": "int64",
         "stats": {
          "unique_count": 1,
          "nan_count": 0,
          "min": "1",
          "max": "1",
          "histogram": [
           {
            "bin_start": 0.5,
            "bin_end": 0.6,
            "count": 0
           },
           {
            "bin_start": 0.6,
            "bin_end": 0.7,
            "count": 0
           },
           {
            "bin_start": 0.7,
            "bin_end": 0.8,
            "count": 0
           },
           {
            "bin_start": 0.8,
            "bin_end": 0.9,
            "count": 0
           },
           {
            "bin_start": 0.9,
            "bin_end": 1,
            "count": 0
           },
           {
            "bin_start": 1,
            "bin_end": 1.1,
            "count": 5
           },
           {
            "bin_start": 1.1,
            "bin_end": 1.2000000000000002,
            "count": 0
           },
           {
            "bin_start": 1.2000000000000002,
            "bin_end": 1.3,
            "count": 0
           },
           {
            "bin_start": 1.3,
            "bin_end": 1.4,
            "count": 0
           },
           {
            "bin_start": 1.4,
            "bin_end": 1.5,
            "count": 0
           }
          ]
         }
        },
        {
         "name": "a2",
         "dtype": "int64",
         "stats": {
          "unique_count": 1,
          "nan_count": 0,
          "min": "1",
          "max": "1",
          "histogram": [
           {
            "bin_start": 0.5,
            "bin_end": 0.6,
            "count": 0
           },
           {
            "bin_start": 0.6,
            "bin_end": 0.7,
            "count": 0
           },
           {
            "bin_start": 0.7,
            "bin_end": 0.8,
            "count": 0
           },
           {
            "bin_start": 0.8,
            "bin_end": 0.9,
            "count": 0
           },
           {
            "bin_start": 0.9,
            "bin_end": 1,
            "count": 0
           },
           {
            "bin_start": 1,
            "bin_end": 1.1,
            "count": 5
           },
           {
            "bin_start": 1.1,
            "bin_end": 1.2000000000000002,
            "count": 0
           },
           {
            "bin_start": 1.2000000000000002,
            "bin_end": 1.3,
            "count": 0
           },
           {
            "bin_start": 1.3,
            "bin_end": 1.4,
            "count": 0
           },
           {
            "bin_start": 1.4,
            "bin_end": 1.5,
            "count": 0
           }
          ]
         }
        },
        {
         "name": "a3",
         "dtype": "int64",
         "stats": {
          "unique_count": 1,
          "nan_count": 0,
          "min": "1",
          "max": "1",
          "histogram": [
           {
            "bin_start": 0.5,
            "bin_end": 0.6,
            "count": 0
           },
           {
            "bin_start": 0.6,
            "bin_end": 0.7,
            "count": 0
           },
           {
            "bin_start": 0.7,
            "bin_end": 0.8,
            "count": 0
           },
           {
            "bin_start": 0.8,
            "bin_end": 0.9,
            "count": 0
           },
           {
            "bin_start": 0.9,
            "bin_end": 1,
            "count": 0
           },
           {
            "bin_start": 1,
            "bin_end": 1.1,
            "count": 5
           },
           {
            "bin_start": 1.1,
            "bin_end": 1.2000000000000002,
            "count": 0
           },
           {
            "bin_start": 1.2000000000000002,
            "bin_end": 1.3,
            "count": 0
           },
           {
            "bin_start": 1.3,
            "bin_end": 1.4,
            "count": 0
           },
           {
            "bin_start": 1.4,
            "bin_end": 1.5,
            "count": 0
           }
          ]
         }
        },
        {
         "name": "a4",
         "dtype": "int64",
         "stats": {
          "unique_count": 1,
          "nan_count": 0,
          "min": "1",
          "max": "1",
          "histogram": [
           {
            "bin_start": 0.5,
            "bin_end": 0.6,
            "count": 0
           },
           {
            "bin_start": 0.6,
            "bin_end": 0.7,
            "count": 0
           },
           {
            "bin_start": 0.7,
            "bin_end": 0.8,
            "count": 0
           },
           {
            "bin_start": 0.8,
            "bin_end": 0.9,
            "count": 0
           },
           {
            "bin_start": 0.9,
            "bin_end": 1,
            "count": 0
           },
           {
            "bin_start": 1,
            "bin_end": 1.1,
            "count": 5
           },
           {
            "bin_start": 1.1,
            "bin_end": 1.2000000000000002,
            "count": 0
           },
           {
            "bin_start": 1.2000000000000002,
            "bin_end": 1.3,
            "count": 0
           },
           {
            "bin_start": 1.3,
            "bin_end": 1.4,
            "count": 0
           },
           {
            "bin_start": 1.4,
            "bin_end": 1.5,
            "count": 0
           }
          ]
         }
        },
        {
         "name": "a5",
         "dtype": "int64",
         "stats": {
          "unique_count": 3,
          "nan_count": 0,
          "min": "1",
          "max": "3",
          "histogram": [
           {
            "bin_start": 1,
            "bin_end": 1.2,
            "count": 2
           },
           {
            "bin_start": 1.2,
            "bin_end": 1.4,
            "count": 0
           },
           {
            "bin_start": 1.4,
            "bin_end": 1.6,
            "count": 0
           },
           {
            "bin_start": 1.6,
            "bin_end": 1.8,
            "count": 0
           },
           {
            "bin_start": 1.8,
            "bin_end": 2,
            "count": 0
           },
           {
            "bin_start": 2,
            "bin_end": 2.2,
            "count": 2
           },
           {
            "bin_start": 2.2,
            "bin_end": 2.4000000000000004,
            "count": 0
           },
           {
            "bin_start": 2.4000000000000004,
            "bin_end": 2.6,
            "count": 0
           },
           {
            "bin_start": 2.6,
            "bin_end": 2.8,
            "count": 0
           },
           {
            "bin_start": 2.8,
            "bin_end": 3,
            "count": 1
           }
          ]
         }
        },
        {
         "name": "a6",
         "dtype": "int64",
         "stats": {
          "unique_count": 2,
          "nan_count": 0,
          "min": "1",
          "max": "2",
          "histogram": [
           {
            "bin_start": 1,
            "bin_end": 1.1,
            "count": 3
           },
           {
            "bin_start": 1.1,
            "bin_end": 1.2,
            "count": 0
           },
           {
            "bin_start": 1.2,
            "bin_end": 1.3,
            "count": 0
           },
           {
            "bin_start": 1.3,
            "bin_end": 1.4,
            "count": 0
           },
           {
            "bin_start": 1.4,
            "bin_end": 1.5,
            "count": 0
           },
           {
            "bin_start": 1.5,
            "bin_end": 1.6,
            "count": 0
           },
           {
            "bin_start": 1.6,
            "bin_end": 1.7000000000000002,
            "count": 0
           },
           {
            "bin_start": 1.7000000000000002,
            "bin_end": 1.8,
            "count": 0
           },
           {
            "bin_start": 1.8,
            "bin_end": 1.9,
            "count": 0
           },
           {
            "bin_start": 1.9,
            "bin_end": 2,
            "count": 2
           }
          ]
         }
        },
        {
         "name": "_deepnote_index_column",
         "dtype": "int64"
        }
       ],
       "rows": [
        {
         "class": 0,
         "a1": 1,
         "a2": 1,
         "a3": 1,
         "a4": 1,
         "a5": 1,
         "a6": 1,
         "_deepnote_index_column": 0
        },
        {
         "class": 0,
         "a1": 1,
         "a2": 1,
         "a3": 1,
         "a4": 1,
         "a5": 1,
         "a6": 2,
         "_deepnote_index_column": 1
        },
        {
         "class": 0,
         "a1": 1,
         "a2": 1,
         "a3": 1,
         "a4": 1,
         "a5": 2,
         "a6": 1,
         "_deepnote_index_column": 2
        },
        {
         "class": 0,
         "a1": 1,
         "a2": 1,
         "a3": 1,
         "a4": 1,
         "a5": 2,
         "a6": 2,
         "_deepnote_index_column": 3
        },
        {
         "class": 0,
         "a1": 1,
         "a2": 1,
         "a3": 1,
         "a4": 1,
         "a5": 3,
         "a6": 1,
         "_deepnote_index_column": 4
        }
       ]
      },
      "text/plain": "   class  a1  a2  a3  a4  a5  a6\n0      0   1   1   1   1   1   1\n1      0   1   1   1   1   1   2\n2      0   1   1   1   1   2   1\n3      0   1   1   1   1   2   2\n4      0   1   1   1   1   3   1",
      "text/html": "<div>\n<style scoped>\n    .dataframe tbody tr th:only-of-type {\n        vertical-align: middle;\n    }\n\n    .dataframe tbody tr th {\n        vertical-align: top;\n    }\n\n    .dataframe thead th {\n        text-align: right;\n    }\n</style>\n<table border=\"1\" class=\"dataframe\">\n  <thead>\n    <tr style=\"text-align: right;\">\n      <th></th>\n      <th>class</th>\n      <th>a1</th>\n      <th>a2</th>\n      <th>a3</th>\n      <th>a4</th>\n      <th>a5</th>\n      <th>a6</th>\n    </tr>\n  </thead>\n  <tbody>\n    <tr>\n      <th>0</th>\n      <td>0</td>\n      <td>1</td>\n      <td>1</td>\n      <td>1</td>\n      <td>1</td>\n      <td>1</td>\n      <td>1</td>\n    </tr>\n    <tr>\n      <th>1</th>\n      <td>0</td>\n      <td>1</td>\n      <td>1</td>\n      <td>1</td>\n      <td>1</td>\n      <td>1</td>\n      <td>2</td>\n    </tr>\n    <tr>\n      <th>2</th>\n      <td>0</td>\n      <td>1</td>\n      <td>1</td>\n      <td>1</td>\n      <td>1</td>\n      <td>2</td>\n      <td>1</td>\n    </tr>\n    <tr>\n      <th>3</th>\n      <td>0</td>\n      <td>1</td>\n      <td>1</td>\n      <td>1</td>\n      <td>1</td>\n      <td>2</td>\n      <td>2</td>\n    </tr>\n    <tr>\n      <th>4</th>\n      <td>0</td>\n      <td>1</td>\n      <td>1</td>\n      <td>1</td>\n      <td>1</td>\n      <td>3</td>\n      <td>1</td>\n    </tr>\n  </tbody>\n</table>\n</div>"
     },
     "metadata": {}
    }
   ]
  },
  {
   "cell_type": "code",
   "metadata": {
    "cell_id": "00036-13ff0462-e24a-47b9-959f-348a1b518096",
    "deepnote_to_be_reexecuted": false,
    "execution_millis": 214,
    "execution_start": 1642937478549,
    "source_hash": "34bb22a0",
    "tags": [],
    "deepnote_cell_type": "code"
   },
   "source": "df_monk2_train",
   "execution_count": 26,
   "outputs": [
    {
     "output_type": "execute_result",
     "execution_count": 26,
     "data": {
      "application/vnd.deepnote.dataframe.v3+json": {
       "column_count": 7,
       "row_count": 169,
       "columns": [
        {
         "name": "class",
         "dtype": "int64",
         "stats": {
          "unique_count": 2,
          "nan_count": 0,
          "min": "0",
          "max": "1",
          "histogram": [
           {
            "bin_start": 0,
            "bin_end": 0.1,
            "count": 105
           },
           {
            "bin_start": 0.1,
            "bin_end": 0.2,
            "count": 0
           },
           {
            "bin_start": 0.2,
            "bin_end": 0.30000000000000004,
            "count": 0
           },
           {
            "bin_start": 0.30000000000000004,
            "bin_end": 0.4,
            "count": 0
           },
           {
            "bin_start": 0.4,
            "bin_end": 0.5,
            "count": 0
           },
           {
            "bin_start": 0.5,
            "bin_end": 0.6000000000000001,
            "count": 0
           },
           {
            "bin_start": 0.6000000000000001,
            "bin_end": 0.7000000000000001,
            "count": 0
           },
           {
            "bin_start": 0.7000000000000001,
            "bin_end": 0.8,
            "count": 0
           },
           {
            "bin_start": 0.8,
            "bin_end": 0.9,
            "count": 0
           },
           {
            "bin_start": 0.9,
            "bin_end": 1,
            "count": 64
           }
          ]
         }
        },
        {
         "name": "a1",
         "dtype": "int64",
         "stats": {
          "unique_count": 3,
          "nan_count": 0,
          "min": "1",
          "max": "3",
          "histogram": [
           {
            "bin_start": 1,
            "bin_end": 1.2,
            "count": 57
           },
           {
            "bin_start": 1.2,
            "bin_end": 1.4,
            "count": 0
           },
           {
            "bin_start": 1.4,
            "bin_end": 1.6,
            "count": 0
           },
           {
            "bin_start": 1.6,
            "bin_end": 1.8,
            "count": 0
           },
           {
            "bin_start": 1.8,
            "bin_end": 2,
            "count": 0
           },
           {
            "bin_start": 2,
            "bin_end": 2.2,
            "count": 57
           },
           {
            "bin_start": 2.2,
            "bin_end": 2.4000000000000004,
            "count": 0
           },
           {
            "bin_start": 2.4000000000000004,
            "bin_end": 2.6,
            "count": 0
           },
           {
            "bin_start": 2.6,
            "bin_end": 2.8,
            "count": 0
           },
           {
            "bin_start": 2.8,
            "bin_end": 3,
            "count": 55
           }
          ]
         }
        },
        {
         "name": "a2",
         "dtype": "int64",
         "stats": {
          "unique_count": 3,
          "nan_count": 0,
          "min": "1",
          "max": "3",
          "histogram": [
           {
            "bin_start": 1,
            "bin_end": 1.2,
            "count": 55
           },
           {
            "bin_start": 1.2,
            "bin_end": 1.4,
            "count": 0
           },
           {
            "bin_start": 1.4,
            "bin_end": 1.6,
            "count": 0
           },
           {
            "bin_start": 1.6,
            "bin_end": 1.8,
            "count": 0
           },
           {
            "bin_start": 1.8,
            "bin_end": 2,
            "count": 0
           },
           {
            "bin_start": 2,
            "bin_end": 2.2,
            "count": 63
           },
           {
            "bin_start": 2.2,
            "bin_end": 2.4000000000000004,
            "count": 0
           },
           {
            "bin_start": 2.4000000000000004,
            "bin_end": 2.6,
            "count": 0
           },
           {
            "bin_start": 2.6,
            "bin_end": 2.8,
            "count": 0
           },
           {
            "bin_start": 2.8,
            "bin_end": 3,
            "count": 51
           }
          ]
         }
        },
        {
         "name": "a3",
         "dtype": "int64",
         "stats": {
          "unique_count": 2,
          "nan_count": 0,
          "min": "1",
          "max": "2",
          "histogram": [
           {
            "bin_start": 1,
            "bin_end": 1.1,
            "count": 83
           },
           {
            "bin_start": 1.1,
            "bin_end": 1.2,
            "count": 0
           },
           {
            "bin_start": 1.2,
            "bin_end": 1.3,
            "count": 0
           },
           {
            "bin_start": 1.3,
            "bin_end": 1.4,
            "count": 0
           },
           {
            "bin_start": 1.4,
            "bin_end": 1.5,
            "count": 0
           },
           {
            "bin_start": 1.5,
            "bin_end": 1.6,
            "count": 0
           },
           {
            "bin_start": 1.6,
            "bin_end": 1.7000000000000002,
            "count": 0
           },
           {
            "bin_start": 1.7000000000000002,
            "bin_end": 1.8,
            "count": 0
           },
           {
            "bin_start": 1.8,
            "bin_end": 1.9,
            "count": 0
           },
           {
            "bin_start": 1.9,
            "bin_end": 2,
            "count": 86
           }
          ]
         }
        },
        {
         "name": "a4",
         "dtype": "int64",
         "stats": {
          "unique_count": 3,
          "nan_count": 0,
          "min": "1",
          "max": "3",
          "histogram": [
           {
            "bin_start": 1,
            "bin_end": 1.2,
            "count": 54
           },
           {
            "bin_start": 1.2,
            "bin_end": 1.4,
            "count": 0
           },
           {
            "bin_start": 1.4,
            "bin_end": 1.6,
            "count": 0
           },
           {
            "bin_start": 1.6,
            "bin_end": 1.8,
            "count": 0
           },
           {
            "bin_start": 1.8,
            "bin_end": 2,
            "count": 0
           },
           {
            "bin_start": 2,
            "bin_end": 2.2,
            "count": 54
           },
           {
            "bin_start": 2.2,
            "bin_end": 2.4000000000000004,
            "count": 0
           },
           {
            "bin_start": 2.4000000000000004,
            "bin_end": 2.6,
            "count": 0
           },
           {
            "bin_start": 2.6,
            "bin_end": 2.8,
            "count": 0
           },
           {
            "bin_start": 2.8,
            "bin_end": 3,
            "count": 61
           }
          ]
         }
        },
        {
         "name": "a5",
         "dtype": "int64",
         "stats": {
          "unique_count": 4,
          "nan_count": 0,
          "min": "1",
          "max": "4",
          "histogram": [
           {
            "bin_start": 1,
            "bin_end": 1.3,
            "count": 43
           },
           {
            "bin_start": 1.3,
            "bin_end": 1.6,
            "count": 0
           },
           {
            "bin_start": 1.6,
            "bin_end": 1.9,
            "count": 0
           },
           {
            "bin_start": 1.9,
            "bin_end": 2.2,
            "count": 40
           },
           {
            "bin_start": 2.2,
            "bin_end": 2.5,
            "count": 0
           },
           {
            "bin_start": 2.5,
            "bin_end": 2.8,
            "count": 0
           },
           {
            "bin_start": 2.8,
            "bin_end": 3.1,
            "count": 49
           },
           {
            "bin_start": 3.1,
            "bin_end": 3.4,
            "count": 0
           },
           {
            "bin_start": 3.4,
            "bin_end": 3.6999999999999997,
            "count": 0
           },
           {
            "bin_start": 3.6999999999999997,
            "bin_end": 4,
            "count": 37
           }
          ]
         }
        },
        {
         "name": "a6",
         "dtype": "int64",
         "stats": {
          "unique_count": 2,
          "nan_count": 0,
          "min": "1",
          "max": "2",
          "histogram": [
           {
            "bin_start": 1,
            "bin_end": 1.1,
            "count": 84
           },
           {
            "bin_start": 1.1,
            "bin_end": 1.2,
            "count": 0
           },
           {
            "bin_start": 1.2,
            "bin_end": 1.3,
            "count": 0
           },
           {
            "bin_start": 1.3,
            "bin_end": 1.4,
            "count": 0
           },
           {
            "bin_start": 1.4,
            "bin_end": 1.5,
            "count": 0
           },
           {
            "bin_start": 1.5,
            "bin_end": 1.6,
            "count": 0
           },
           {
            "bin_start": 1.6,
            "bin_end": 1.7000000000000002,
            "count": 0
           },
           {
            "bin_start": 1.7000000000000002,
            "bin_end": 1.8,
            "count": 0
           },
           {
            "bin_start": 1.8,
            "bin_end": 1.9,
            "count": 0
           },
           {
            "bin_start": 1.9,
            "bin_end": 2,
            "count": 85
           }
          ]
         }
        },
        {
         "name": "_deepnote_index_column",
         "dtype": "int64"
        }
       ],
       "rows": [
        {
         "class": 0,
         "a1": 1,
         "a2": 1,
         "a3": 1,
         "a4": 1,
         "a5": 2,
         "a6": 2,
         "_deepnote_index_column": 0
        },
        {
         "class": 0,
         "a1": 1,
         "a2": 1,
         "a3": 1,
         "a4": 1,
         "a5": 4,
         "a6": 1,
         "_deepnote_index_column": 1
        },
        {
         "class": 0,
         "a1": 1,
         "a2": 1,
         "a3": 1,
         "a4": 2,
         "a5": 1,
         "a6": 1,
         "_deepnote_index_column": 2
        },
        {
         "class": 0,
         "a1": 1,
         "a2": 1,
         "a3": 1,
         "a4": 2,
         "a5": 1,
         "a6": 2,
         "_deepnote_index_column": 3
        },
        {
         "class": 0,
         "a1": 1,
         "a2": 1,
         "a3": 1,
         "a4": 2,
         "a5": 2,
         "a6": 1,
         "_deepnote_index_column": 4
        },
        {
         "class": 0,
         "a1": 1,
         "a2": 1,
         "a3": 1,
         "a4": 2,
         "a5": 3,
         "a6": 1,
         "_deepnote_index_column": 5
        },
        {
         "class": 0,
         "a1": 1,
         "a2": 1,
         "a3": 1,
         "a4": 2,
         "a5": 4,
         "a6": 1,
         "_deepnote_index_column": 6
        },
        {
         "class": 0,
         "a1": 1,
         "a2": 1,
         "a3": 1,
         "a4": 3,
         "a5": 2,
         "a6": 1,
         "_deepnote_index_column": 7
        },
        {
         "class": 0,
         "a1": 1,
         "a2": 1,
         "a3": 1,
         "a4": 3,
         "a5": 4,
         "a6": 1,
         "_deepnote_index_column": 8
        },
        {
         "class": 0,
         "a1": 1,
         "a2": 1,
         "a3": 2,
         "a4": 1,
         "a5": 1,
         "a6": 1,
         "_deepnote_index_column": 9
        }
       ]
      },
      "text/plain": "     class  a1  a2  a3  a4  a5  a6\n0        0   1   1   1   1   2   2\n1        0   1   1   1   1   4   1\n2        0   1   1   1   2   1   1\n3        0   1   1   1   2   1   2\n4        0   1   1   1   2   2   1\n..     ...  ..  ..  ..  ..  ..  ..\n164      0   3   3   2   2   3   1\n165      0   3   3   2   2   3   2\n166      1   3   3   2   3   1   1\n167      0   3   3   2   3   2   1\n168      0   3   3   2   3   4   2\n\n[169 rows x 7 columns]",
      "text/html": "<div>\n<style scoped>\n    .dataframe tbody tr th:only-of-type {\n        vertical-align: middle;\n    }\n\n    .dataframe tbody tr th {\n        vertical-align: top;\n    }\n\n    .dataframe thead th {\n        text-align: right;\n    }\n</style>\n<table border=\"1\" class=\"dataframe\">\n  <thead>\n    <tr style=\"text-align: right;\">\n      <th></th>\n      <th>class</th>\n      <th>a1</th>\n      <th>a2</th>\n      <th>a3</th>\n      <th>a4</th>\n      <th>a5</th>\n      <th>a6</th>\n    </tr>\n  </thead>\n  <tbody>\n    <tr>\n      <th>0</th>\n      <td>0</td>\n      <td>1</td>\n      <td>1</td>\n      <td>1</td>\n      <td>1</td>\n      <td>2</td>\n      <td>2</td>\n    </tr>\n    <tr>\n      <th>1</th>\n      <td>0</td>\n      <td>1</td>\n      <td>1</td>\n      <td>1</td>\n      <td>1</td>\n      <td>4</td>\n      <td>1</td>\n    </tr>\n    <tr>\n      <th>2</th>\n      <td>0</td>\n      <td>1</td>\n      <td>1</td>\n      <td>1</td>\n      <td>2</td>\n      <td>1</td>\n      <td>1</td>\n    </tr>\n    <tr>\n      <th>3</th>\n      <td>0</td>\n      <td>1</td>\n      <td>1</td>\n      <td>1</td>\n      <td>2</td>\n      <td>1</td>\n      <td>2</td>\n    </tr>\n    <tr>\n      <th>4</th>\n      <td>0</td>\n      <td>1</td>\n      <td>1</td>\n      <td>1</td>\n      <td>2</td>\n      <td>2</td>\n      <td>1</td>\n    </tr>\n    <tr>\n      <th>...</th>\n      <td>...</td>\n      <td>...</td>\n      <td>...</td>\n      <td>...</td>\n      <td>...</td>\n      <td>...</td>\n      <td>...</td>\n    </tr>\n    <tr>\n      <th>164</th>\n      <td>0</td>\n      <td>3</td>\n      <td>3</td>\n      <td>2</td>\n      <td>2</td>\n      <td>3</td>\n      <td>1</td>\n    </tr>\n    <tr>\n      <th>165</th>\n      <td>0</td>\n      <td>3</td>\n      <td>3</td>\n      <td>2</td>\n      <td>2</td>\n      <td>3</td>\n      <td>2</td>\n    </tr>\n    <tr>\n      <th>166</th>\n      <td>1</td>\n      <td>3</td>\n      <td>3</td>\n      <td>2</td>\n      <td>3</td>\n      <td>1</td>\n      <td>1</td>\n    </tr>\n    <tr>\n      <th>167</th>\n      <td>0</td>\n      <td>3</td>\n      <td>3</td>\n      <td>2</td>\n      <td>3</td>\n      <td>2</td>\n      <td>1</td>\n    </tr>\n    <tr>\n      <th>168</th>\n      <td>0</td>\n      <td>3</td>\n      <td>3</td>\n      <td>2</td>\n      <td>3</td>\n      <td>4</td>\n      <td>2</td>\n    </tr>\n  </tbody>\n</table>\n<p>169 rows × 7 columns</p>\n</div>"
     },
     "metadata": {}
    }
   ]
  },
  {
   "cell_type": "code",
   "metadata": {
    "cell_id": "00037-e06fef60-36f5-4b4f-9c6c-69104e332421",
    "deepnote_output_heights": [
     21.1875,
     451
    ],
    "deepnote_to_be_reexecuted": false,
    "execution_millis": 807,
    "execution_start": 1642937482358,
    "source_hash": "14fbab8f",
    "tags": [],
    "deepnote_cell_type": "code"
   },
   "source": "fig_size = plt.rcParams[\"figure.figsize\"]\nfig_size[0] = 10\nfig_size[1] = 8\nplt.rcParams[\"figure.figsize\"] = fig_size\n\ndf_monk2_train['class'].value_counts().plot(kind='pie', autopct='%1.0f%%', colors=['blue', 'yellow'], explode=(0.05, 0.05))",
   "execution_count": 27,
   "outputs": [
    {
     "output_type": "execute_result",
     "execution_count": 27,
     "data": {
      "text/plain": "<AxesSubplot:ylabel='class'>"
     },
     "metadata": {}
    },
    {
     "data": {
      "text/plain": "<Figure size 720x576 with 1 Axes>",
      "image/png": "[encoded data removed]"
     },
     "metadata": {
      "image/png": {
       "width": 463,
       "height": 449
      }
     },
     "output_type": "display_data"
    }
   ]
  },
  {
   "cell_type": "code",
   "metadata": {
    "cell_id": "00038-b6c65065-78df-467f-9169-1c9224a1fecd",
    "deepnote_output_heights": [
     21.1875,
     451
    ],
    "deepnote_to_be_reexecuted": false,
    "execution_millis": 701,
    "execution_start": 1642937487248,
    "source_hash": "dcfcea8c",
    "tags": [],
    "deepnote_cell_type": "code"
   },
   "source": "df_monk2_test['class'].value_counts().plot(kind='pie', autopct='%1.0f%%', colors=['blue', 'yellow'], explode=(0.05, 0.05))",
   "execution_count": 28,
   "outputs": [
    {
     "output_type": "execute_result",
     "execution_count": 28,
     "data": {
      "text/plain": "<AxesSubplot:ylabel='class'>"
     },
     "metadata": {}
    },
    {
     "data": {
      "text/plain": "<Figure size 720x576 with 1 Axes>",
      "image/png": "[encoded data removed]"
     },
     "metadata": {
      "image/png": {
       "width": 463,
       "height": 449
      }
     },
     "output_type": "display_data"
    }
   ]
  },
  {
   "cell_type": "code",
   "metadata": {
    "cell_id": "00039-a9297afc-ce5c-46b3-9344-42efee64e538",
    "deepnote_to_be_reexecuted": false,
    "execution_millis": 17,
    "execution_start": 1642937491153,
    "source_hash": "91aea900",
    "tags": [],
    "deepnote_cell_type": "code"
   },
   "source": "X_train_M2, y_train_M2, X_test_M2, y_test_M2 = split_train_test(df_monk2_train, df_monk2_test)",
   "execution_count": 29,
   "outputs": []
  },
  {
   "cell_type": "code",
   "metadata": {
    "cell_id": "bcb95c96-8fdc-45fb-ab7a-3a0d79ade7d2",
    "deepnote_to_be_reexecuted": false,
    "execution_millis": 16,
    "execution_start": 1642937494199,
    "source_hash": "3488fcdf",
    "tags": [],
    "deepnote_cell_type": "code"
   },
   "source": "enc_train = OneHotEncoder()\nenc_train.fit(X_train_M2)\nX_train_M2 = enc_train.transform(X_train_M2).toarray()\nprint(X_train_M2.shape)\n\nenc_test = OneHotEncoder()\nenc_test.fit(X_test_M2)\nX_test_M2 = enc_test.transform(X_test_M2).toarray()\nprint(X_test_M2.shape)\n",
   "execution_count": 30,
   "outputs": [
    {
     "name": "stdout",
     "text": "(169, 17)\n(432, 17)\n",
     "output_type": "stream"
    }
   ]
  },
  {
   "cell_type": "code",
   "metadata": {
    "cell_id": "00040-8ba9586a-e12a-496b-be4c-b20b0d5c7ebf",
    "deepnote_to_be_reexecuted": false,
    "execution_millis": 6,
    "execution_start": 1642937496251,
    "source_hash": "394ce636",
    "tags": [],
    "deepnote_cell_type": "code"
   },
   "source": "#cast train set and test set to Float\nX_trainFit2 = X_train_M2.astype(np.single)\ny_trainFit2 = y_train_M2.astype(np.single)\n\nX_testFit2 = X_test_M2.astype(np.single)\ny_testFit2 = y_test_M2.astype(np.single)",
   "execution_count": 31,
   "outputs": []
  },
  {
   "cell_type": "code",
   "metadata": {
    "cell_id": "00041-a6b42bfc-e3c8-4b2e-9cc2-5d5fdd053b10",
    "deepnote_output_heights": [
     270.796875,
     270.796875
    ],
    "deepnote_to_be_reexecuted": false,
    "execution_millis": 25416,
    "execution_start": 1642937519463,
    "scrolled": true,
    "source_hash": "aa6dad88",
    "tags": [],
    "deepnote_cell_type": "code"
   },
   "source": "%%time #Wall time: 5.98 s\n\nnet_enc2 = NeuralNetBinaryClassifier(\n    BinaryClassification,\n    module__n_input=X_trainFit2.shape[1],\n    module__hidden_units=4,\n    max_epochs=1,\n    batch_size = 8,\n    lr = 0.1,\n    optimizer=torch.optim.SGD,\n    #optimizer__weight_decay=0.001,\n    #optimizer__momentum=0.95,\n    # Shuffle training data on each epoch\n    #iterator_train__shuffle=True,\n    train_split=None\n)\n\ntrain_scores_M2, test_scores_M2, train_loss_M2, test_loss_M2, train_loss_M2_mse, test_loss_M2_mse = fit_and_score_monk(100, net_enc2, X_trainFit2, y_trainFit2, X_testFit2, y_testFit2)",
   "execution_count": 33,
   "outputs": [
    {
     "name": "stdout",
     "text": "  epoch    train_loss     dur\n-------  ------------  ------\n      1        \u001b[36m0.6741\u001b[0m  0.1005\n      2        \u001b[36m0.6648\u001b[0m  0.1042\n      3        \u001b[36m0.6621\u001b[0m  0.1009\n      4        \u001b[36m0.6600\u001b[0m  0.0964\n      5        \u001b[36m0.6580\u001b[0m  0.0265\n      6        \u001b[36m0.6561\u001b[0m  0.0802\n      7        \u001b[36m0.6540\u001b[0m  0.1036\n      8        \u001b[36m0.6520\u001b[0m  0.1071\n      9        \u001b[36m0.6502\u001b[0m  0.0230\n     10        \u001b[36m0.6480\u001b[0m  0.0927\n     11        \u001b[36m0.6462\u001b[0m  0.0966\n     12        \u001b[36m0.6442\u001b[0m  0.1727\n     13        \u001b[36m0.6423\u001b[0m  0.1125\n     14        \u001b[36m0.6391\u001b[0m  0.1672\n     15        \u001b[36m0.6375\u001b[0m  0.0950\n     16        \u001b[36m0.6346\u001b[0m  0.0881\n     17        \u001b[36m0.6319\u001b[0m  0.0979\n     18        \u001b[36m0.6265\u001b[0m  0.0203\n     19        \u001b[36m0.6204\u001b[0m  0.0885\n     20        \u001b[36m0.6127\u001b[0m  0.1171\n     21        \u001b[36m0.6050\u001b[0m  0.0996\n     22        \u001b[36m0.5976\u001b[0m  0.0885\n     23        \u001b[36m0.5851\u001b[0m  0.0361\n     24        \u001b[36m0.5670\u001b[0m  0.1228\n     25        \u001b[36m0.5485\u001b[0m  0.1033\n     26        \u001b[36m0.5297\u001b[0m  0.0903\n     27        \u001b[36m0.5107\u001b[0m  0.0996\n     28        \u001b[36m0.4897\u001b[0m  0.0833\n     29        \u001b[36m0.4694\u001b[0m  0.0745\n     30        \u001b[36m0.4495\u001b[0m  0.0871\n     31        \u001b[36m0.4283\u001b[0m  0.0231\n     32        \u001b[36m0.4082\u001b[0m  0.0253\n     33        \u001b[36m0.3893\u001b[0m  0.0996\n     34        \u001b[36m0.3665\u001b[0m  0.0845\n     35        \u001b[36m0.3415\u001b[0m  0.1004\n     36        \u001b[36m0.3196\u001b[0m  0.0761\n     37        \u001b[36m0.2985\u001b[0m  0.0242\n     38        \u001b[36m0.2768\u001b[0m  0.0361\n     39        \u001b[36m0.2535\u001b[0m  0.0895\n     40        \u001b[36m0.2342\u001b[0m  0.0219\n     41        \u001b[36m0.2134\u001b[0m  0.0275\n     42        \u001b[36m0.1954\u001b[0m  0.0878\n     43        \u001b[36m0.1787\u001b[0m  0.0964\n     44        \u001b[36m0.1633\u001b[0m  0.0309\n     45        \u001b[36m0.1489\u001b[0m  0.0920\n     46        \u001b[36m0.1373\u001b[0m  0.1075\n     47        \u001b[36m0.1270\u001b[0m  0.1268\n     48        \u001b[36m0.1166\u001b[0m  0.0312\n     49        \u001b[36m0.1091\u001b[0m  0.0295\n     50        \u001b[36m0.1004\u001b[0m  0.1866\n     51        \u001b[36m0.0933\u001b[0m  0.1132\n     52        \u001b[36m0.0867\u001b[0m  0.1778\n     53        \u001b[36m0.0816\u001b[0m  0.1011\n     54        \u001b[36m0.0764\u001b[0m  0.0999\n     55        \u001b[36m0.0711\u001b[0m  0.0903\n     56        \u001b[36m0.0661\u001b[0m  0.0308\n     57        \u001b[36m0.0605\u001b[0m  0.0234\n     58        \u001b[36m0.0566\u001b[0m  0.0310\n     59        \u001b[36m0.0533\u001b[0m  0.0229\n     60        \u001b[36m0.0498\u001b[0m  0.0825\n     61        \u001b[36m0.0467\u001b[0m  0.0826\n     62        \u001b[36m0.0444\u001b[0m  0.0866\n     63        \u001b[36m0.0415\u001b[0m  0.0828\n     64        \u001b[36m0.0392\u001b[0m  0.0876\n     65        \u001b[36m0.0375\u001b[0m  0.0818\n     66        \u001b[36m0.0354\u001b[0m  0.0299\n     67        \u001b[36m0.0334\u001b[0m  0.0283\n     68        \u001b[36m0.0320\u001b[0m  0.0766\n     69        \u001b[36m0.0304\u001b[0m  0.0826\n     70        \u001b[36m0.0291\u001b[0m  0.0365\n     71        \u001b[36m0.0275\u001b[0m  0.0236\n     72        \u001b[36m0.0266\u001b[0m  0.1157\n     73        \u001b[36m0.0254\u001b[0m  0.1049\n     74        \u001b[36m0.0244\u001b[0m  0.1049\n     75        \u001b[36m0.0233\u001b[0m  0.0785\n     76        \u001b[36m0.0224\u001b[0m  0.0246\n     77        \u001b[36m0.0217\u001b[0m  0.0242\n     78        \u001b[36m0.0208\u001b[0m  0.0843\n     79        \u001b[36m0.0201\u001b[0m  0.0897\n     80        \u001b[36m0.0194\u001b[0m  0.0878\n     81        \u001b[36m0.0187\u001b[0m  0.0822\n     82        \u001b[36m0.0182\u001b[0m  0.0910\n     83        \u001b[36m0.0175\u001b[0m  0.1108\n     84        \u001b[36m0.0170\u001b[0m  0.0991\n     85        \u001b[36m0.0165\u001b[0m  0.0939\n     86        \u001b[36m0.0160\u001b[0m  0.0264\n     87        \u001b[36m0.0155\u001b[0m  0.0871\n     88        \u001b[36m0.0150\u001b[0m  0.0878\n     89        \u001b[36m0.0147\u001b[0m  0.1022\n     90        \u001b[36m0.0142\u001b[0m  0.1680\n     91        \u001b[36m0.0139\u001b[0m  0.0837\n     92        \u001b[36m0.0135\u001b[0m  0.0850\n     93        \u001b[36m0.0131\u001b[0m  0.0796\n     94        \u001b[36m0.0128\u001b[0m  0.0241\n     95        \u001b[36m0.0124\u001b[0m  0.0239\n     96        \u001b[36m0.0121\u001b[0m  0.0297\n     97        \u001b[36m0.0119\u001b[0m  0.0239\n     98        \u001b[36m0.0116\u001b[0m  0.0902\n     99        \u001b[36m0.0113\u001b[0m  0.0839\n    100        \u001b[36m0.0111\u001b[0m  0.0847\nCPU times: user 6.99 s, sys: 61.2 ms, total: 7.05 s\nWall time: 25.4 s\n",
     "output_type": "stream"
    }
   ]
  },
  {
   "cell_type": "code",
   "metadata": {
    "cell_id": "00042-aad59af1-4966-4ffa-b88b-e099bc75f767",
    "deepnote_output_heights": [
     500
    ],
    "deepnote_to_be_reexecuted": false,
    "execution_millis": 917,
    "execution_start": 1642937549648,
    "source_hash": "5f84388e",
    "tags": [],
    "deepnote_cell_type": "code"
   },
   "source": "plot_learning_curves(train_loss_M2, test_loss_M2, 100, 'Loss (BCE)')",
   "execution_count": 34,
   "outputs": [
    {
     "data": {
      "text/plain": "<Figure size 720x576 with 1 Axes>",
      "image/png": "[encoded data removed]"
     },
     "metadata": {
      "needs_background": "light",
      "image/png": {
       "width": 628,
       "height": 498
      }
     },
     "output_type": "display_data"
    }
   ]
  },
  {
   "cell_type": "code",
   "metadata": {
    "cell_id": "00035-eb373dc1-4406-402e-a023-d6b181755df5",
    "deepnote_output_heights": [
     500
    ],
    "deepnote_to_be_reexecuted": false,
    "source_hash": "c1194631",
    "execution_start": 1642937558352,
    "execution_millis": 1213,
    "deepnote_cell_type": "code"
   },
   "source": "plot_learning_curves(train_loss_M2_mse, test_loss_M2_mse, 100, 'Loss (MSE)')",
   "execution_count": 35,
   "outputs": [
    {
     "data": {
      "text/plain": "<Figure size 720x576 with 1 Axes>",
      "image/png": "[encoded data removed]"
     },
     "metadata": {
      "needs_background": "light",
      "image/png": {
       "width": 647,
       "height": 498
      }
     },
     "output_type": "display_data"
    }
   ]
  },
  {
   "cell_type": "code",
   "metadata": {
    "cell_id": "00045-ef30cda7-4e7a-44e4-9c7b-037df9c84963",
    "deepnote_output_heights": [
     500
    ],
    "deepnote_to_be_reexecuted": false,
    "execution_millis": 1515,
    "execution_start": 1642937567150,
    "scrolled": true,
    "source_hash": "9e337a65",
    "tags": [],
    "deepnote_cell_type": "code"
   },
   "source": "plot_learning_curves(train_scores_M2, test_scores_M2, 100, 'Accuracy')",
   "execution_count": 36,
   "outputs": [
    {
     "data": {
      "text/plain": "<Figure size 720x576 with 1 Axes>",
      "image/png": "[encoded data removed]"
     },
     "metadata": {
      "needs_background": "light",
      "image/png": {
       "width": 647,
       "height": 498
      }
     },
     "output_type": "display_data"
    }
   ]
  },
  {
   "cell_type": "code",
   "metadata": {
    "cell_id": "00037-33b8e8e2-8ea5-41c9-971a-6f62ce3e26c1",
    "deepnote_to_be_reexecuted": false,
    "source_hash": "a7b473a5",
    "execution_start": 1642937578848,
    "execution_millis": 205,
    "deepnote_cell_type": "code"
   },
   "source": "y_predicted_train_M2 = net_enc2.predict(X_trainFit2)\ny_predicted_test_M2 = net_enc2.predict(X_testFit2)\nprint(f\"Accuracy on MONK2: {net_enc2.score(X_testFit2, y_testFit2)}\")\nprint(f\"MEE on MONK2: {(np.linalg.norm(y_predicted_test_M2-y_testFit2))}\") # MEE distance (a.k.a. norm 2)\nprint(f\"MSE on MONK2 (TRAIN): {(mean_squared_error(y_trainFit2, y_predicted_train_M2))}\")\nprint(f\"MSE on MONK2 (TEST): {(mean_squared_error(y_testFit2, y_predicted_test_M2))}\")",
   "execution_count": 37,
   "outputs": [
    {
     "name": "stdout",
     "text": "Accuracy on MONK2: 1.0\nMEE on MONK2: 0.0\nMSE on MONK2 (TRAIN): 0.0\nMSE on MONK2 (TEST): 0.0\n",
     "output_type": "stream"
    }
   ]
  },
  {
   "cell_type": "code",
   "metadata": {
    "scrolled": true,
    "cell_id": "00038-38c5bd1b-c58a-495a-a0df-35f705d5561f",
    "deepnote_to_be_reexecuted": false,
    "source_hash": "efc7f35",
    "execution_start": 1642937612185,
    "execution_millis": 33,
    "deepnote_cell_type": "code"
   },
   "source": "#control the accuracy between true and predict values on test data\nprint(classification_report(y_testFit2, y_predicted_test_M2))",
   "execution_count": 38,
   "outputs": [
    {
     "name": "stdout",
     "text": "              precision    recall  f1-score   support\n\n         0.0       1.00      1.00      1.00       290\n         1.0       1.00      1.00      1.00       142\n\n    accuracy                           1.00       432\n   macro avg       1.00      1.00      1.00       432\nweighted avg       1.00      1.00      1.00       432\n\n",
     "output_type": "stream"
    }
   ]
  },
  {
   "cell_type": "markdown",
   "source": "## Loading MONK-3 dataset",
   "metadata": {
    "cell_id": "00044-64c876f1-77b0-40c7-a308-cfce87e5636a",
    "tags": [],
    "deepnote_cell_type": "markdown"
   }
  },
  {
   "cell_type": "code",
   "metadata": {
    "cell_id": "00044-2ee9b7c9-0e51-4fc9-8997-a4ff5ef1c5ce",
    "deepnote_to_be_reexecuted": false,
    "execution_millis": 46,
    "execution_start": 1642937666000,
    "source_hash": "c72e9b65",
    "tags": [],
    "deepnote_cell_type": "code"
   },
   "source": "#read train dataset\ndf_monk3_train = pd.read_csv('./data/MONK/monks-3.train', sep=\" \", skipinitialspace=True, names=['class','a1','a2','a3','a4','a5','a6','id'])\ndf_monk3_train.drop(labels='id', axis=1, inplace=True)\n\n#read test dataset\ndf_monk3_test = pd.read_csv('./data/MONK/monks-3.test', sep=\" \", skipinitialspace=True,  names=['class','a1','a2','a3','a4','a5','a6','id'])\ndf_monk3_test.drop(labels='id', axis=1, inplace=True)",
   "execution_count": 39,
   "outputs": []
  },
  {
   "cell_type": "code",
   "metadata": {
    "cell_id": "00046-ba8d6b5d-5e22-4e88-9150-c683245f3a59",
    "deepnote_to_be_reexecuted": false,
    "execution_millis": 297,
    "execution_start": 1642937669352,
    "source_hash": "f697c2a7",
    "tags": [],
    "deepnote_cell_type": "code"
   },
   "source": "df_monk3_train.head()",
   "execution_count": 40,
   "outputs": [
    {
     "output_type": "execute_result",
     "execution_count": 40,
     "data": {
      "application/vnd.deepnote.dataframe.v3+json": {
       "column_count": 7,
       "row_count": 5,
       "columns": [
        {
         "name": "class",
         "dtype": "int64",
         "stats": {
          "unique_count": 2,
          "nan_count": 0,
          "min": "0",
          "max": "1",
          "histogram": [
           {
            "bin_start": 0,
            "bin_end": 0.1,
            "count": 2
           },
           {
            "bin_start": 0.1,
            "bin_end": 0.2,
            "count": 0
           },
           {
            "bin_start": 0.2,
            "bin_end": 0.30000000000000004,
            "count": 0
           },
           {
            "bin_start": 0.30000000000000004,
            "bin_end": 0.4,
            "count": 0
           },
           {
            "bin_start": 0.4,
            "bin_end": 0.5,
            "count": 0
           },
           {
            "bin_start": 0.5,
            "bin_end": 0.6000000000000001,
            "count": 0
           },
           {
            "bin_start": 0.6000000000000001,
            "bin_end": 0.7000000000000001,
            "count": 0
           },
           {
            "bin_start": 0.7000000000000001,
            "bin_end": 0.8,
            "count": 0
           },
           {
            "bin_start": 0.8,
            "bin_end": 0.9,
            "count": 0
           },
           {
            "bin_start": 0.9,
            "bin_end": 1,
            "count": 3
           }
          ]
         }
        },
        {
         "name": "a1",
         "dtype": "int64",
         "stats": {
          "unique_count": 1,
          "nan_count": 0,
          "min": "1",
          "max": "1",
          "histogram": [
           {
            "bin_start": 0.5,
            "bin_end": 0.6,
            "count": 0
           },
           {
            "bin_start": 0.6,
            "bin_end": 0.7,
            "count": 0
           },
           {
            "bin_start": 0.7,
            "bin_end": 0.8,
            "count": 0
           },
           {
            "bin_start": 0.8,
            "bin_end": 0.9,
            "count": 0
           },
           {
            "bin_start": 0.9,
            "bin_end": 1,
            "count": 0
           },
           {
            "bin_start": 1,
            "bin_end": 1.1,
            "count": 5
           },
           {
            "bin_start": 1.1,
            "bin_end": 1.2000000000000002,
            "count": 0
           },
           {
            "bin_start": 1.2000000000000002,
            "bin_end": 1.3,
            "count": 0
           },
           {
            "bin_start": 1.3,
            "bin_end": 1.4,
            "count": 0
           },
           {
            "bin_start": 1.4,
            "bin_end": 1.5,
            "count": 0
           }
          ]
         }
        },
        {
         "name": "a2",
         "dtype": "int64",
         "stats": {
          "unique_count": 1,
          "nan_count": 0,
          "min": "1",
          "max": "1",
          "histogram": [
           {
            "bin_start": 0.5,
            "bin_end": 0.6,
            "count": 0
           },
           {
            "bin_start": 0.6,
            "bin_end": 0.7,
            "count": 0
           },
           {
            "bin_start": 0.7,
            "bin_end": 0.8,
            "count": 0
           },
           {
            "bin_start": 0.8,
            "bin_end": 0.9,
            "count": 0
           },
           {
            "bin_start": 0.9,
            "bin_end": 1,
            "count": 0
           },
           {
            "bin_start": 1,
            "bin_end": 1.1,
            "count": 5
           },
           {
            "bin_start": 1.1,
            "bin_end": 1.2000000000000002,
            "count": 0
           },
           {
            "bin_start": 1.2000000000000002,
            "bin_end": 1.3,
            "count": 0
           },
           {
            "bin_start": 1.3,
            "bin_end": 1.4,
            "count": 0
           },
           {
            "bin_start": 1.4,
            "bin_end": 1.5,
            "count": 0
           }
          ]
         }
        },
        {
         "name": "a3",
         "dtype": "int64",
         "stats": {
          "unique_count": 1,
          "nan_count": 0,
          "min": "1",
          "max": "1",
          "histogram": [
           {
            "bin_start": 0.5,
            "bin_end": 0.6,
            "count": 0
           },
           {
            "bin_start": 0.6,
            "bin_end": 0.7,
            "count": 0
           },
           {
            "bin_start": 0.7,
            "bin_end": 0.8,
            "count": 0
           },
           {
            "bin_start": 0.8,
            "bin_end": 0.9,
            "count": 0
           },
           {
            "bin_start": 0.9,
            "bin_end": 1,
            "count": 0
           },
           {
            "bin_start": 1,
            "bin_end": 1.1,
            "count": 5
           },
           {
            "bin_start": 1.1,
            "bin_end": 1.2000000000000002,
            "count": 0
           },
           {
            "bin_start": 1.2000000000000002,
            "bin_end": 1.3,
            "count": 0
           },
           {
            "bin_start": 1.3,
            "bin_end": 1.4,
            "count": 0
           },
           {
            "bin_start": 1.4,
            "bin_end": 1.5,
            "count": 0
           }
          ]
         }
        },
        {
         "name": "a4",
         "dtype": "int64",
         "stats": {
          "unique_count": 1,
          "nan_count": 0,
          "min": "1",
          "max": "1",
          "histogram": [
           {
            "bin_start": 0.5,
            "bin_end": 0.6,
            "count": 0
           },
           {
            "bin_start": 0.6,
            "bin_end": 0.7,
            "count": 0
           },
           {
            "bin_start": 0.7,
            "bin_end": 0.8,
            "count": 0
           },
           {
            "bin_start": 0.8,
            "bin_end": 0.9,
            "count": 0
           },
           {
            "bin_start": 0.9,
            "bin_end": 1,
            "count": 0
           },
           {
            "bin_start": 1,
            "bin_end": 1.1,
            "count": 5
           },
           {
            "bin_start": 1.1,
            "bin_end": 1.2000000000000002,
            "count": 0
           },
           {
            "bin_start": 1.2000000000000002,
            "bin_end": 1.3,
            "count": 0
           },
           {
            "bin_start": 1.3,
            "bin_end": 1.4,
            "count": 0
           },
           {
            "bin_start": 1.4,
            "bin_end": 1.5,
            "count": 0
           }
          ]
         }
        },
        {
         "name": "a5",
         "dtype": "int64",
         "stats": {
          "unique_count": 4,
          "nan_count": 0,
          "min": "1",
          "max": "4",
          "histogram": [
           {
            "bin_start": 1,
            "bin_end": 1.3,
            "count": 1
           },
           {
            "bin_start": 1.3,
            "bin_end": 1.6,
            "count": 0
           },
           {
            "bin_start": 1.6,
            "bin_end": 1.9,
            "count": 0
           },
           {
            "bin_start": 1.9,
            "bin_end": 2.2,
            "count": 2
           },
           {
            "bin_start": 2.2,
            "bin_end": 2.5,
            "count": 0
           },
           {
            "bin_start": 2.5,
            "bin_end": 2.8,
            "count": 0
           },
           {
            "bin_start": 2.8,
            "bin_end": 3.1,
            "count": 1
           },
           {
            "bin_start": 3.1,
            "bin_end": 3.4,
            "count": 0
           },
           {
            "bin_start": 3.4,
            "bin_end": 3.6999999999999997,
            "count": 0
           },
           {
            "bin_start": 3.6999999999999997,
            "bin_end": 4,
            "count": 1
           }
          ]
         }
        },
        {
         "name": "a6",
         "dtype": "int64",
         "stats": {
          "unique_count": 2,
          "nan_count": 0,
          "min": "1",
          "max": "2",
          "histogram": [
           {
            "bin_start": 1,
            "bin_end": 1.1,
            "count": 3
           },
           {
            "bin_start": 1.1,
            "bin_end": 1.2,
            "count": 0
           },
           {
            "bin_start": 1.2,
            "bin_end": 1.3,
            "count": 0
           },
           {
            "bin_start": 1.3,
            "bin_end": 1.4,
            "count": 0
           },
           {
            "bin_start": 1.4,
            "bin_end": 1.5,
            "count": 0
           },
           {
            "bin_start": 1.5,
            "bin_end": 1.6,
            "count": 0
           },
           {
            "bin_start": 1.6,
            "bin_end": 1.7000000000000002,
            "count": 0
           },
           {
            "bin_start": 1.7000000000000002,
            "bin_end": 1.8,
            "count": 0
           },
           {
            "bin_start": 1.8,
            "bin_end": 1.9,
            "count": 0
           },
           {
            "bin_start": 1.9,
            "bin_end": 2,
            "count": 2
           }
          ]
         }
        },
        {
         "name": "_deepnote_index_column",
         "dtype": "int64"
        }
       ],
       "rows": [
        {
         "class": 1,
         "a1": 1,
         "a2": 1,
         "a3": 1,
         "a4": 1,
         "a5": 1,
         "a6": 2,
         "_deepnote_index_column": 0
        },
        {
         "class": 1,
         "a1": 1,
         "a2": 1,
         "a3": 1,
         "a4": 1,
         "a5": 2,
         "a6": 1,
         "_deepnote_index_column": 1
        },
        {
         "class": 1,
         "a1": 1,
         "a2": 1,
         "a3": 1,
         "a4": 1,
         "a5": 2,
         "a6": 2,
         "_deepnote_index_column": 2
        },
        {
         "class": 0,
         "a1": 1,
         "a2": 1,
         "a3": 1,
         "a4": 1,
         "a5": 3,
         "a6": 1,
         "_deepnote_index_column": 3
        },
        {
         "class": 0,
         "a1": 1,
         "a2": 1,
         "a3": 1,
         "a4": 1,
         "a5": 4,
         "a6": 1,
         "_deepnote_index_column": 4
        }
       ]
      },
      "text/plain": "   class  a1  a2  a3  a4  a5  a6\n0      1   1   1   1   1   1   2\n1      1   1   1   1   1   2   1\n2      1   1   1   1   1   2   2\n3      0   1   1   1   1   3   1\n4      0   1   1   1   1   4   1",
      "text/html": "<div>\n<style scoped>\n    .dataframe tbody tr th:only-of-type {\n        vertical-align: middle;\n    }\n\n    .dataframe tbody tr th {\n        vertical-align: top;\n    }\n\n    .dataframe thead th {\n        text-align: right;\n    }\n</style>\n<table border=\"1\" class=\"dataframe\">\n  <thead>\n    <tr style=\"text-align: right;\">\n      <th></th>\n      <th>class</th>\n      <th>a1</th>\n      <th>a2</th>\n      <th>a3</th>\n      <th>a4</th>\n      <th>a5</th>\n      <th>a6</th>\n    </tr>\n  </thead>\n  <tbody>\n    <tr>\n      <th>0</th>\n      <td>1</td>\n      <td>1</td>\n      <td>1</td>\n      <td>1</td>\n      <td>1</td>\n      <td>1</td>\n      <td>2</td>\n    </tr>\n    <tr>\n      <th>1</th>\n      <td>1</td>\n      <td>1</td>\n      <td>1</td>\n      <td>1</td>\n      <td>1</td>\n      <td>2</td>\n      <td>1</td>\n    </tr>\n    <tr>\n      <th>2</th>\n      <td>1</td>\n      <td>1</td>\n      <td>1</td>\n      <td>1</td>\n      <td>1</td>\n      <td>2</td>\n      <td>2</td>\n    </tr>\n    <tr>\n      <th>3</th>\n      <td>0</td>\n      <td>1</td>\n      <td>1</td>\n      <td>1</td>\n      <td>1</td>\n      <td>3</td>\n      <td>1</td>\n    </tr>\n    <tr>\n      <th>4</th>\n      <td>0</td>\n      <td>1</td>\n      <td>1</td>\n      <td>1</td>\n      <td>1</td>\n      <td>4</td>\n      <td>1</td>\n    </tr>\n  </tbody>\n</table>\n</div>"
     },
     "metadata": {}
    }
   ]
  },
  {
   "cell_type": "code",
   "metadata": {
    "cell_id": "00047-434a1e4e-40a2-48f4-ac39-c4726e00c473",
    "deepnote_to_be_reexecuted": false,
    "execution_millis": 236,
    "execution_start": 1642937673854,
    "source_hash": "ee54eef9",
    "tags": [],
    "deepnote_cell_type": "code"
   },
   "source": "df_monk3_test.head()",
   "execution_count": 41,
   "outputs": [
    {
     "output_type": "execute_result",
     "execution_count": 41,
     "data": {
      "application/vnd.deepnote.dataframe.v3+json": {
       "column_count": 7,
       "row_count": 5,
       "columns": [
        {
         "name": "class",
         "dtype": "int64",
         "stats": {
          "unique_count": 1,
          "nan_count": 0,
          "min": "1",
          "max": "1",
          "histogram": [
           {
            "bin_start": 0.5,
            "bin_end": 0.6,
            "count": 0
           },
           {
            "bin_start": 0.6,
            "bin_end": 0.7,
            "count": 0
           },
           {
            "bin_start": 0.7,
            "bin_end": 0.8,
            "count": 0
           },
           {
            "bin_start": 0.8,
            "bin_end": 0.9,
            "count": 0
           },
           {
            "bin_start": 0.9,
            "bin_end": 1,
            "count": 0
           },
           {
            "bin_start": 1,
            "bin_end": 1.1,
            "count": 5
           },
           {
            "bin_start": 1.1,
            "bin_end": 1.2000000000000002,
            "count": 0
           },
           {
            "bin_start": 1.2000000000000002,
            "bin_end": 1.3,
            "count": 0
           },
           {
            "bin_start": 1.3,
            "bin_end": 1.4,
            "count": 0
           },
           {
            "bin_start": 1.4,
            "bin_end": 1.5,
            "count": 0
           }
          ]
         }
        },
        {
         "name": "a1",
         "dtype": "int64",
         "stats": {
          "unique_count": 1,
          "nan_count": 0,
          "min": "1",
          "max": "1",
          "histogram": [
           {
            "bin_start": 0.5,
            "bin_end": 0.6,
            "count": 0
           },
           {
            "bin_start": 0.6,
            "bin_end": 0.7,
            "count": 0
           },
           {
            "bin_start": 0.7,
            "bin_end": 0.8,
            "count": 0
           },
           {
            "bin_start": 0.8,
            "bin_end": 0.9,
            "count": 0
           },
           {
            "bin_start": 0.9,
            "bin_end": 1,
            "count": 0
           },
           {
            "bin_start": 1,
            "bin_end": 1.1,
            "count": 5
           },
           {
            "bin_start": 1.1,
            "bin_end": 1.2000000000000002,
            "count": 0
           },
           {
            "bin_start": 1.2000000000000002,
            "bin_end": 1.3,
            "count": 0
           },
           {
            "bin_start": 1.3,
            "bin_end": 1.4,
            "count": 0
           },
           {
            "bin_start": 1.4,
            "bin_end": 1.5,
            "count": 0
           }
          ]
         }
        },
        {
         "name": "a2",
         "dtype": "int64",
         "stats": {
          "unique_count": 1,
          "nan_count": 0,
          "min": "1",
          "max": "1",
          "histogram": [
           {
            "bin_start": 0.5,
            "bin_end": 0.6,
            "count": 0
           },
           {
            "bin_start": 0.6,
            "bin_end": 0.7,
            "count": 0
           },
           {
            "bin_start": 0.7,
            "bin_end": 0.8,
            "count": 0
           },
           {
            "bin_start": 0.8,
            "bin_end": 0.9,
            "count": 0
           },
           {
            "bin_start": 0.9,
            "bin_end": 1,
            "count": 0
           },
           {
            "bin_start": 1,
            "bin_end": 1.1,
            "count": 5
           },
           {
            "bin_start": 1.1,
            "bin_end": 1.2000000000000002,
            "count": 0
           },
           {
            "bin_start": 1.2000000000000002,
            "bin_end": 1.3,
            "count": 0
           },
           {
            "bin_start": 1.3,
            "bin_end": 1.4,
            "count": 0
           },
           {
            "bin_start": 1.4,
            "bin_end": 1.5,
            "count": 0
           }
          ]
         }
        },
        {
         "name": "a3",
         "dtype": "int64",
         "stats": {
          "unique_count": 1,
          "nan_count": 0,
          "min": "1",
          "max": "1",
          "histogram": [
           {
            "bin_start": 0.5,
            "bin_end": 0.6,
            "count": 0
           },
           {
            "bin_start": 0.6,
            "bin_end": 0.7,
            "count": 0
           },
           {
            "bin_start": 0.7,
            "bin_end": 0.8,
            "count": 0
           },
           {
            "bin_start": 0.8,
            "bin_end": 0.9,
            "count": 0
           },
           {
            "bin_start": 0.9,
            "bin_end": 1,
            "count": 0
           },
           {
            "bin_start": 1,
            "bin_end": 1.1,
            "count": 5
           },
           {
            "bin_start": 1.1,
            "bin_end": 1.2000000000000002,
            "count": 0
           },
           {
            "bin_start": 1.2000000000000002,
            "bin_end": 1.3,
            "count": 0
           },
           {
            "bin_start": 1.3,
            "bin_end": 1.4,
            "count": 0
           },
           {
            "bin_start": 1.4,
            "bin_end": 1.5,
            "count": 0
           }
          ]
         }
        },
        {
         "name": "a4",
         "dtype": "int64",
         "stats": {
          "unique_count": 1,
          "nan_count": 0,
          "min": "1",
          "max": "1",
          "histogram": [
           {
            "bin_start": 0.5,
            "bin_end": 0.6,
            "count": 0
           },
           {
            "bin_start": 0.6,
            "bin_end": 0.7,
            "count": 0
           },
           {
            "bin_start": 0.7,
            "bin_end": 0.8,
            "count": 0
           },
           {
            "bin_start": 0.8,
            "bin_end": 0.9,
            "count": 0
           },
           {
            "bin_start": 0.9,
            "bin_end": 1,
            "count": 0
           },
           {
            "bin_start": 1,
            "bin_end": 1.1,
            "count": 5
           },
           {
            "bin_start": 1.1,
            "bin_end": 1.2000000000000002,
            "count": 0
           },
           {
            "bin_start": 1.2000000000000002,
            "bin_end": 1.3,
            "count": 0
           },
           {
            "bin_start": 1.3,
            "bin_end": 1.4,
            "count": 0
           },
           {
            "bin_start": 1.4,
            "bin_end": 1.5,
            "count": 0
           }
          ]
         }
        },
        {
         "name": "a5",
         "dtype": "int64",
         "stats": {
          "unique_count": 3,
          "nan_count": 0,
          "min": "1",
          "max": "3",
          "histogram": [
           {
            "bin_start": 1,
            "bin_end": 1.2,
            "count": 2
           },
           {
            "bin_start": 1.2,
            "bin_end": 1.4,
            "count": 0
           },
           {
            "bin_start": 1.4,
            "bin_end": 1.6,
            "count": 0
           },
           {
            "bin_start": 1.6,
            "bin_end": 1.8,
            "count": 0
           },
           {
            "bin_start": 1.8,
            "bin_end": 2,
            "count": 0
           },
           {
            "bin_start": 2,
            "bin_end": 2.2,
            "count": 2
           },
           {
            "bin_start": 2.2,
            "bin_end": 2.4000000000000004,
            "count": 0
           },
           {
            "bin_start": 2.4000000000000004,
            "bin_end": 2.6,
            "count": 0
           },
           {
            "bin_start": 2.6,
            "bin_end": 2.8,
            "count": 0
           },
           {
            "bin_start": 2.8,
            "bin_end": 3,
            "count": 1
           }
          ]
         }
        },
        {
         "name": "a6",
         "dtype": "int64",
         "stats": {
          "unique_count": 2,
          "nan_count": 0,
          "min": "1",
          "max": "2",
          "histogram": [
           {
            "bin_start": 1,
            "bin_end": 1.1,
            "count": 3
           },
           {
            "bin_start": 1.1,
            "bin_end": 1.2,
            "count": 0
           },
           {
            "bin_start": 1.2,
            "bin_end": 1.3,
            "count": 0
           },
           {
            "bin_start": 1.3,
            "bin_end": 1.4,
            "count": 0
           },
           {
            "bin_start": 1.4,
            "bin_end": 1.5,
            "count": 0
           },
           {
            "bin_start": 1.5,
            "bin_end": 1.6,
            "count": 0
           },
           {
            "bin_start": 1.6,
            "bin_end": 1.7000000000000002,
            "count": 0
           },
           {
            "bin_start": 1.7000000000000002,
            "bin_end": 1.8,
            "count": 0
           },
           {
            "bin_start": 1.8,
            "bin_end": 1.9,
            "count": 0
           },
           {
            "bin_start": 1.9,
            "bin_end": 2,
            "count": 2
           }
          ]
         }
        },
        {
         "name": "_deepnote_index_column",
         "dtype": "int64"
        }
       ],
       "rows": [
        {
         "class": 1,
         "a1": 1,
         "a2": 1,
         "a3": 1,
         "a4": 1,
         "a5": 1,
         "a6": 1,
         "_deepnote_index_column": 0
        },
        {
         "class": 1,
         "a1": 1,
         "a2": 1,
         "a3": 1,
         "a4": 1,
         "a5": 1,
         "a6": 2,
         "_deepnote_index_column": 1
        },
        {
         "class": 1,
         "a1": 1,
         "a2": 1,
         "a3": 1,
         "a4": 1,
         "a5": 2,
         "a6": 1,
         "_deepnote_index_column": 2
        },
        {
         "class": 1,
         "a1": 1,
         "a2": 1,
         "a3": 1,
         "a4": 1,
         "a5": 2,
         "a6": 2,
         "_deepnote_index_column": 3
        },
        {
         "class": 1,
         "a1": 1,
         "a2": 1,
         "a3": 1,
         "a4": 1,
         "a5": 3,
         "a6": 1,
         "_deepnote_index_column": 4
        }
       ]
      },
      "text/plain": "   class  a1  a2  a3  a4  a5  a6\n0      1   1   1   1   1   1   1\n1      1   1   1   1   1   1   2\n2      1   1   1   1   1   2   1\n3      1   1   1   1   1   2   2\n4      1   1   1   1   1   3   1",
      "text/html": "<div>\n<style scoped>\n    .dataframe tbody tr th:only-of-type {\n        vertical-align: middle;\n    }\n\n    .dataframe tbody tr th {\n        vertical-align: top;\n    }\n\n    .dataframe thead th {\n        text-align: right;\n    }\n</style>\n<table border=\"1\" class=\"dataframe\">\n  <thead>\n    <tr style=\"text-align: right;\">\n      <th></th>\n      <th>class</th>\n      <th>a1</th>\n      <th>a2</th>\n      <th>a3</th>\n      <th>a4</th>\n      <th>a5</th>\n      <th>a6</th>\n    </tr>\n  </thead>\n  <tbody>\n    <tr>\n      <th>0</th>\n      <td>1</td>\n      <td>1</td>\n      <td>1</td>\n      <td>1</td>\n      <td>1</td>\n      <td>1</td>\n      <td>1</td>\n    </tr>\n    <tr>\n      <th>1</th>\n      <td>1</td>\n      <td>1</td>\n      <td>1</td>\n      <td>1</td>\n      <td>1</td>\n      <td>1</td>\n      <td>2</td>\n    </tr>\n    <tr>\n      <th>2</th>\n      <td>1</td>\n      <td>1</td>\n      <td>1</td>\n      <td>1</td>\n      <td>1</td>\n      <td>2</td>\n      <td>1</td>\n    </tr>\n    <tr>\n      <th>3</th>\n      <td>1</td>\n      <td>1</td>\n      <td>1</td>\n      <td>1</td>\n      <td>1</td>\n      <td>2</td>\n      <td>2</td>\n    </tr>\n    <tr>\n      <th>4</th>\n      <td>1</td>\n      <td>1</td>\n      <td>1</td>\n      <td>1</td>\n      <td>1</td>\n      <td>3</td>\n      <td>1</td>\n    </tr>\n  </tbody>\n</table>\n</div>"
     },
     "metadata": {}
    }
   ]
  },
  {
   "cell_type": "code",
   "metadata": {
    "cell_id": "00048-976b8ce9-9d2a-4e15-af94-6f3d7e5cf5bc",
    "deepnote_output_heights": [
     21,
     451
    ],
    "deepnote_to_be_reexecuted": false,
    "execution_millis": 795,
    "execution_start": 1642937677743,
    "source_hash": "232e4eb4",
    "tags": [],
    "deepnote_cell_type": "code"
   },
   "source": "#plot class distribution in train data\nfig_size = plt.rcParams[\"figure.figsize\"]\nfig_size[0] = 10\nfig_size[1] = 8\nplt.rcParams[\"figure.figsize\"] = fig_size\n\ndf_monk3_train['class'].value_counts().plot(kind='pie', autopct='%1.0f%%', colors=['skyblue', 'orange'], explode=(0.05, 0.05))",
   "execution_count": 42,
   "outputs": [
    {
     "output_type": "execute_result",
     "execution_count": 42,
     "data": {
      "text/plain": "<AxesSubplot:ylabel='class'>"
     },
     "metadata": {}
    },
    {
     "data": {
      "text/plain": "<Figure size 720x576 with 1 Axes>",
      "image/png": "[encoded data removed]"
     },
     "metadata": {
      "image/png": {
       "width": 463,
       "height": 449
      }
     },
     "output_type": "display_data"
    }
   ]
  },
  {
   "cell_type": "code",
   "metadata": {
    "cell_id": "00049-cea85522-a529-4290-a1a1-da9de63c1afe",
    "deepnote_output_heights": [
     21,
     451
    ],
    "deepnote_to_be_reexecuted": false,
    "execution_millis": 756,
    "execution_start": 1642937683266,
    "source_hash": "aab28e19",
    "tags": [],
    "deepnote_cell_type": "code"
   },
   "source": "#plot class distribution in test data\ndf_monk3_test['class'].value_counts().plot(kind='pie', autopct='%1.0f%%', colors=['skyblue', 'orange'], explode=(0.05, 0.05))",
   "execution_count": 43,
   "outputs": [
    {
     "output_type": "execute_result",
     "execution_count": 43,
     "data": {
      "text/plain": "<AxesSubplot:ylabel='class'>"
     },
     "metadata": {}
    },
    {
     "data": {
      "text/plain": "<Figure size 720x576 with 1 Axes>",
      "image/png": "[encoded data removed]"
     },
     "metadata": {
      "image/png": {
       "width": 463,
       "height": 449
      }
     },
     "output_type": "display_data"
    }
   ]
  },
  {
   "cell_type": "code",
   "metadata": {
    "cell_id": "00050-41bab7bb-c931-4bf5-9a6c-730c30b4cca9",
    "deepnote_to_be_reexecuted": false,
    "execution_millis": 7,
    "execution_start": 1642937687771,
    "source_hash": "a1418039",
    "tags": [],
    "deepnote_cell_type": "code"
   },
   "source": "X_train_M3, y_train_M3, X_test_M3, y_test_M3 = split_train_test(df_monk3_train, df_monk3_test)",
   "execution_count": 44,
   "outputs": []
  },
  {
   "cell_type": "code",
   "metadata": {
    "cell_id": "00051-ae6be9ff-5437-4878-a290-0527a2dd1fdd",
    "deepnote_to_be_reexecuted": false,
    "execution_millis": 10,
    "execution_start": 1642937691550,
    "source_hash": "7b938f1f",
    "tags": [],
    "deepnote_cell_type": "code"
   },
   "source": "enc_train = OneHotEncoder()\nenc_train.fit(X_train_M3)\nX_train_M3 = enc_train.transform(X_train_M3).toarray()\nprint(X_train_M3.shape)\n\nenc_test = OneHotEncoder()\nenc_test.fit(X_test_M3)\nX_test_M3 = enc_test.transform(X_test_M3).toarray()\nprint(X_test_M3.shape)",
   "execution_count": 45,
   "outputs": [
    {
     "name": "stdout",
     "text": "(122, 17)\n(432, 17)\n",
     "output_type": "stream"
    }
   ]
  },
  {
   "cell_type": "code",
   "metadata": {
    "cell_id": "00052-93748273-d5e5-4112-947e-40de9e0b30ff",
    "deepnote_to_be_reexecuted": false,
    "execution_millis": 6,
    "execution_start": 1642937694950,
    "source_hash": "d98b4c86",
    "tags": [],
    "deepnote_cell_type": "code"
   },
   "source": "#cast train set and test set to Float\nX_trainFit3 = X_train_M3.astype(np.single)\ny_trainFit3 = y_train_M3.astype(np.single)\n\nX_testFit3 = X_test_M3.astype(np.single)\ny_testFit3 = y_test_M3.astype(np.single)",
   "execution_count": 46,
   "outputs": []
  },
  {
   "cell_type": "code",
   "source": "%%time \n\nnet_enc3_noreg = NeuralNetBinaryClassifier(\n    BinaryClassification,\n    module__n_input=X_trainFit3.shape[1],\n    module__hidden_units=4,\n    max_epochs=1,\n    batch_size = 8,\n    lr = 0.008,\n    optimizer=torch.optim.SGD,\n    #optimizer__weight_decay=0.0001,\n    #optimizer__momentum=0.95,\n    #optimizer__nesterov=True,\n    # Shuffle training data on each epoch\n    #iterator_train__shuffle=True,\n    train_split=None\n)\n\ntrain_scores_M3_noreg, test_scores_M3_noreg, train_loss_M3_noreg, test_loss_M3_noreg, train_loss_M3_mse_noreg, test_loss_M3_mse_noreg = fit_and_score_monk(300, net_enc3_noreg, X_trainFit3, y_trainFit3, X_testFit3, y_testFit3)",
   "metadata": {
    "cell_id": "a668d849-1e23-4e10-ae78-9aeae2d20a41",
    "tags": [],
    "deepnote_to_be_reexecuted": false,
    "source_hash": "5c596dd0",
    "execution_start": 1642937890988,
    "execution_millis": 65882,
    "deepnote_cell_type": "code"
   },
   "outputs": [
    {
     "name": "stdout",
     "text": "  epoch    train_loss     dur\n-------  ------------  ------\n      1        \u001b[36m0.6876\u001b[0m  0.0282\n      2        \u001b[36m0.6864\u001b[0m  0.0686\n      3        \u001b[36m0.6851\u001b[0m  0.0775\n      4        \u001b[36m0.6838\u001b[0m  0.0182\n      5        \u001b[36m0.6823\u001b[0m  0.0176\n      6        \u001b[36m0.6807\u001b[0m  0.1054\n      7        \u001b[36m0.6791\u001b[0m  0.1024\n      8        \u001b[36m0.6774\u001b[0m  0.0769\n      9        \u001b[36m0.6757\u001b[0m  0.0649\n     10        \u001b[36m0.6738\u001b[0m  0.0182\n     11        \u001b[36m0.6720\u001b[0m  0.0955\n     12        \u001b[36m0.6702\u001b[0m  0.0760\n     13        \u001b[36m0.6683\u001b[0m  0.0245\n     14        \u001b[36m0.6665\u001b[0m  0.0758\n     15        \u001b[36m0.6647\u001b[0m  0.0770\n     16        \u001b[36m0.6629\u001b[0m  0.0164\n     17        \u001b[36m0.6611\u001b[0m  0.0754\n     18        \u001b[36m0.6592\u001b[0m  0.0164\n     19        \u001b[36m0.6572\u001b[0m  0.0150\n     20        \u001b[36m0.6552\u001b[0m  0.0166\n     21        \u001b[36m0.6531\u001b[0m  0.0805\n     22        \u001b[36m0.6509\u001b[0m  0.1048\n     23        \u001b[36m0.6487\u001b[0m  0.0875\n     24        \u001b[36m0.6465\u001b[0m  0.0863\n     25        \u001b[36m0.6441\u001b[0m  0.0872\n     26        \u001b[36m0.6418\u001b[0m  0.0193\n     27        \u001b[36m0.6394\u001b[0m  0.0163\n     28        \u001b[36m0.6369\u001b[0m  0.0783\n     29        \u001b[36m0.6344\u001b[0m  0.0166\n     30        \u001b[36m0.6319\u001b[0m  0.0758\n     31        \u001b[36m0.6294\u001b[0m  0.0175\n     32        \u001b[36m0.6268\u001b[0m  0.0710\n     33        \u001b[36m0.6241\u001b[0m  0.0869\n     34        \u001b[36m0.6215\u001b[0m  0.0160\n     35        \u001b[36m0.6188\u001b[0m  0.0163\n     36        \u001b[36m0.6161\u001b[0m  0.0158\n     37        \u001b[36m0.6134\u001b[0m  0.0175\n     38        \u001b[36m0.6106\u001b[0m  0.0866\n     39        \u001b[36m0.6078\u001b[0m  0.0954\n     40        \u001b[36m0.6050\u001b[0m  0.0789\n     41        \u001b[36m0.6021\u001b[0m  0.0195\n     42        \u001b[36m0.5992\u001b[0m  0.0176\n     43        \u001b[36m0.5963\u001b[0m  0.0251\n     44        \u001b[36m0.5933\u001b[0m  0.0887\n     45        \u001b[36m0.5902\u001b[0m  0.0852\n     46        \u001b[36m0.5871\u001b[0m  0.0176\n     47        \u001b[36m0.5840\u001b[0m  0.1638\n     48        \u001b[36m0.5808\u001b[0m  0.0825\n     49        \u001b[36m0.5776\u001b[0m  0.0927\n     50        \u001b[36m0.5744\u001b[0m  0.0296\n     51        \u001b[36m0.5710\u001b[0m  0.0178\n     52        \u001b[36m0.5675\u001b[0m  0.0963\n     53        \u001b[36m0.5641\u001b[0m  0.0948\n     54        \u001b[36m0.5606\u001b[0m  0.0345\n     55        \u001b[36m0.5570\u001b[0m  0.0957\n     56        \u001b[36m0.5534\u001b[0m  0.1056\n     57        \u001b[36m0.5498\u001b[0m  0.0858\n     58        \u001b[36m0.5461\u001b[0m  0.0771\n     59        \u001b[36m0.5424\u001b[0m  0.0298\n     60        \u001b[36m0.5387\u001b[0m  0.0982\n     61        \u001b[36m0.5350\u001b[0m  0.0359\n     62        \u001b[36m0.5312\u001b[0m  0.0246\n     63        \u001b[36m0.5275\u001b[0m  0.0258\n     64        \u001b[36m0.5237\u001b[0m  0.0183\n     65        \u001b[36m0.5199\u001b[0m  0.0809\n     66        \u001b[36m0.5161\u001b[0m  0.0764\n     67        \u001b[36m0.5123\u001b[0m  0.0379\n     68        \u001b[36m0.5085\u001b[0m  0.0953\n     69        \u001b[36m0.5047\u001b[0m  0.0723\n     70        \u001b[36m0.5008\u001b[0m  0.0806\n     71        \u001b[36m0.4970\u001b[0m  0.0197\n     72        \u001b[36m0.4932\u001b[0m  0.0786\n     73        \u001b[36m0.4894\u001b[0m  0.0165\n     74        \u001b[36m0.4856\u001b[0m  0.0246\n     75        \u001b[36m0.4817\u001b[0m  0.0305\n     76        \u001b[36m0.4779\u001b[0m  0.0193\n     77        \u001b[36m0.4741\u001b[0m  0.0176\n     78        \u001b[36m0.4704\u001b[0m  0.0737\n     79        \u001b[36m0.4666\u001b[0m  0.0724\n     80        \u001b[36m0.4629\u001b[0m  0.0809\n     81        \u001b[36m0.4592\u001b[0m  0.0799\n     82        \u001b[36m0.4556\u001b[0m  0.0845\n     83        \u001b[36m0.4520\u001b[0m  0.0703\n     84        \u001b[36m0.4484\u001b[0m  0.0789\n     85        \u001b[36m0.4448\u001b[0m  0.0834\n     86        \u001b[36m0.4412\u001b[0m  0.0810\n     87        \u001b[36m0.4376\u001b[0m  0.0756\n     88        \u001b[36m0.4341\u001b[0m  0.0852\n     89        \u001b[36m0.4305\u001b[0m  0.0784\n     90        \u001b[36m0.4271\u001b[0m  0.0829\n     91        \u001b[36m0.4236\u001b[0m  0.0738\n     92        \u001b[36m0.4202\u001b[0m  0.0821\n     93        \u001b[36m0.4168\u001b[0m  0.0855\n     94        \u001b[36m0.4135\u001b[0m  0.0248\n     95        \u001b[36m0.4102\u001b[0m  0.0167\n     96        \u001b[36m0.4070\u001b[0m  0.0168\n     97        \u001b[36m0.4038\u001b[0m  0.0172\n     98        \u001b[36m0.4006\u001b[0m  0.0677\n     99        \u001b[36m0.3975\u001b[0m  0.0235\n    100        \u001b[36m0.3944\u001b[0m  0.0885\n    101        \u001b[36m0.3915\u001b[0m  0.0718\n    102        \u001b[36m0.3885\u001b[0m  0.0163\n    103        \u001b[36m0.3856\u001b[0m  0.0364\n    104        \u001b[36m0.3828\u001b[0m  0.0203\n    105        \u001b[36m0.3800\u001b[0m  0.0877\n    106        \u001b[36m0.3772\u001b[0m  0.0974\n    107        \u001b[36m0.3745\u001b[0m  0.0349\n    108        \u001b[36m0.3718\u001b[0m  0.0810\n    109        \u001b[36m0.3692\u001b[0m  0.0799\n    110        \u001b[36m0.3666\u001b[0m  0.0168\n    111        \u001b[36m0.3640\u001b[0m  0.1087\n    112        \u001b[36m0.3615\u001b[0m  0.0907\n    113        \u001b[36m0.3590\u001b[0m  0.0190\n    114        \u001b[36m0.3565\u001b[0m  0.0172\n    115        \u001b[36m0.3542\u001b[0m  0.0790\n    116        \u001b[36m0.3518\u001b[0m  0.0766\n    117        \u001b[36m0.3496\u001b[0m  0.0815\n    118        \u001b[36m0.3473\u001b[0m  0.0309\n    119        \u001b[36m0.3451\u001b[0m  0.0190\n    120        \u001b[36m0.3429\u001b[0m  0.0853\n    121        \u001b[36m0.3407\u001b[0m  0.0689\n    122        \u001b[36m0.3386\u001b[0m  0.0217\n    123        \u001b[36m0.3365\u001b[0m  0.0891\n    124        \u001b[36m0.3344\u001b[0m  0.0922\n    125        \u001b[36m0.3324\u001b[0m  0.0742\n    126        \u001b[36m0.3304\u001b[0m  0.0820\n    127        \u001b[36m0.3284\u001b[0m  0.0791\n    128        \u001b[36m0.3265\u001b[0m  0.0271\n    129        \u001b[36m0.3246\u001b[0m  0.0666\n    130        \u001b[36m0.3227\u001b[0m  0.0776\n    131        \u001b[36m0.3209\u001b[0m  0.0176\n    132        \u001b[36m0.3191\u001b[0m  0.0736\n    133        \u001b[36m0.3173\u001b[0m  0.0182\n    134        \u001b[36m0.3156\u001b[0m  0.0175\n    135        \u001b[36m0.3138\u001b[0m  0.0772\n    136        \u001b[36m0.3122\u001b[0m  0.0893\n    137        \u001b[36m0.3105\u001b[0m  0.0854\n    138        \u001b[36m0.3089\u001b[0m  0.0683\n    139        \u001b[36m0.3074\u001b[0m  0.0248\n    140        \u001b[36m0.3058\u001b[0m  0.0882\n    141        \u001b[36m0.3043\u001b[0m  0.0928\n    142        \u001b[36m0.3028\u001b[0m  0.0854\n    143        \u001b[36m0.3014\u001b[0m  0.0260\n    144        \u001b[36m0.2999\u001b[0m  0.0843\n    145        \u001b[36m0.2985\u001b[0m  0.0176\n    146        \u001b[36m0.2971\u001b[0m  0.0773\n    147        \u001b[36m0.2957\u001b[0m  0.0161\n    148        \u001b[36m0.2944\u001b[0m  0.0837\n    149        \u001b[36m0.2931\u001b[0m  0.0669\n    150        \u001b[36m0.2918\u001b[0m  0.0226\n    151        \u001b[36m0.2906\u001b[0m  0.1015\n    152        \u001b[36m0.2893\u001b[0m  0.0723\n    153        \u001b[36m0.2881\u001b[0m  0.0177\n    154        \u001b[36m0.2869\u001b[0m  0.0210\n    155        \u001b[36m0.2857\u001b[0m  0.0737\n    156        \u001b[36m0.2846\u001b[0m  0.0776\n    157        \u001b[36m0.2834\u001b[0m  0.0849\n    158        \u001b[36m0.2823\u001b[0m  0.0806\n    159        \u001b[36m0.2812\u001b[0m  0.0181\n    160        \u001b[36m0.2800\u001b[0m  0.0194\n    161        \u001b[36m0.2790\u001b[0m  0.0767\n    162        \u001b[36m0.2779\u001b[0m  0.0197\n    163        \u001b[36m0.2768\u001b[0m  0.0728\n    164        \u001b[36m0.2758\u001b[0m  0.0178\n    165        \u001b[36m0.2747\u001b[0m  0.0724\n    166        \u001b[36m0.2737\u001b[0m  0.0168\n    167        \u001b[36m0.2727\u001b[0m  0.0849\n    168        \u001b[36m0.2717\u001b[0m  0.0773\n    169        \u001b[36m0.2707\u001b[0m  0.1099\n    170        \u001b[36m0.2697\u001b[0m  0.0313\n    171        \u001b[36m0.2688\u001b[0m  0.0814\n    172        \u001b[36m0.2678\u001b[0m  0.0827\n    173        \u001b[36m0.2669\u001b[0m  0.0210\n    174        \u001b[36m0.2660\u001b[0m  0.0173\n    175        \u001b[36m0.2651\u001b[0m  0.0755\n    176        \u001b[36m0.2641\u001b[0m  0.0767\n    177        \u001b[36m0.2633\u001b[0m  0.0193\n    178        \u001b[36m0.2624\u001b[0m  0.0770\n    179        \u001b[36m0.2615\u001b[0m  0.0880\n    180        \u001b[36m0.2607\u001b[0m  0.0728\n    181        \u001b[36m0.2598\u001b[0m  0.0193\n    182        \u001b[36m0.2590\u001b[0m  0.0909\n    183        \u001b[36m0.2581\u001b[0m  0.0762\n    184        \u001b[36m0.2573\u001b[0m  0.0172\n    185        \u001b[36m0.2565\u001b[0m  0.0877\n    186        \u001b[36m0.2557\u001b[0m  0.0253\n    187        \u001b[36m0.2550\u001b[0m  0.0289\n    188        \u001b[36m0.2542\u001b[0m  0.0164\n    189        \u001b[36m0.2534\u001b[0m  0.0167\n    190        \u001b[36m0.2527\u001b[0m  0.0471\n    191        \u001b[36m0.2520\u001b[0m  0.0257\n    192        \u001b[36m0.2512\u001b[0m  0.0824\n    193        \u001b[36m0.2505\u001b[0m  0.0793\n    194        \u001b[36m0.2498\u001b[0m  0.0927\n    195        \u001b[36m0.2491\u001b[0m  0.1091\n    196        \u001b[36m0.2484\u001b[0m  0.1034\n    197        \u001b[36m0.2477\u001b[0m  0.0254\n    198        \u001b[36m0.2470\u001b[0m  0.0964\n    199        \u001b[36m0.2463\u001b[0m  0.0889\n    200        \u001b[36m0.2457\u001b[0m  0.0885\n    201        \u001b[36m0.2450\u001b[0m  0.0812\n    202        \u001b[36m0.2444\u001b[0m  0.0173\n    203        \u001b[36m0.2438\u001b[0m  0.0836\n    204        \u001b[36m0.2431\u001b[0m  0.0180\n    205        \u001b[36m0.2425\u001b[0m  0.0171\n    206        \u001b[36m0.2419\u001b[0m  0.0174\n    207        \u001b[36m0.2413\u001b[0m  0.0966\n    208        \u001b[36m0.2407\u001b[0m  0.0998\n    209        \u001b[36m0.2401\u001b[0m  0.0932\n    210        \u001b[36m0.2395\u001b[0m  0.0991\n    211        \u001b[36m0.2389\u001b[0m  0.1012\n    212        \u001b[36m0.2383\u001b[0m  0.0798\n    213        \u001b[36m0.2377\u001b[0m  0.0928\n    214        \u001b[36m0.2372\u001b[0m  0.0194\n    215        \u001b[36m0.2366\u001b[0m  0.0258\n    216        \u001b[36m0.2361\u001b[0m  0.0211\n    217        \u001b[36m0.2355\u001b[0m  0.0177\n    218        \u001b[36m0.2350\u001b[0m  0.0947\n    219        \u001b[36m0.2344\u001b[0m  0.0992\n    220        \u001b[36m0.2339\u001b[0m  0.0896\n    221        \u001b[36m0.2334\u001b[0m  0.0885\n    222        \u001b[36m0.2328\u001b[0m  0.0826\n    223        \u001b[36m0.2323\u001b[0m  0.1000\n    224        \u001b[36m0.2318\u001b[0m  0.0901\n    225        \u001b[36m0.2313\u001b[0m  0.0299\n    226        \u001b[36m0.2308\u001b[0m  0.0909\n    227        \u001b[36m0.2303\u001b[0m  0.1115\n    228        \u001b[36m0.2298\u001b[0m  0.1128\n    229        \u001b[36m0.2293\u001b[0m  0.0332\n    230        \u001b[36m0.2288\u001b[0m  0.0185\n    231        \u001b[36m0.2283\u001b[0m  0.0974\n    232        \u001b[36m0.2279\u001b[0m  0.0174\n    233        \u001b[36m0.2274\u001b[0m  0.0171\n    234        \u001b[36m0.2269\u001b[0m  0.0758\n    235        \u001b[36m0.2265\u001b[0m  0.0179\n    236        \u001b[36m0.2260\u001b[0m  0.0683\n    237        \u001b[36m0.2256\u001b[0m  0.0169\n    238        \u001b[36m0.2251\u001b[0m  0.0763\n    239        \u001b[36m0.2247\u001b[0m  0.0924\n    240        \u001b[36m0.2243\u001b[0m  0.0174\n    241        \u001b[36m0.2238\u001b[0m  0.0969\n    242        \u001b[36m0.2234\u001b[0m  0.0938\n    243        \u001b[36m0.2230\u001b[0m  0.0904\n    244        \u001b[36m0.2225\u001b[0m  0.0851\n    245        \u001b[36m0.2221\u001b[0m  0.0819\n    246        \u001b[36m0.2217\u001b[0m  0.0167\n    247        \u001b[36m0.2213\u001b[0m  0.0743\n    248        \u001b[36m0.2209\u001b[0m  0.0770\n    249        \u001b[36m0.2205\u001b[0m  0.0855\n    250        \u001b[36m0.2201\u001b[0m  0.0770\n    251        \u001b[36m0.2197\u001b[0m  0.0277\n    252        \u001b[36m0.2193\u001b[0m  0.0184\n    253        \u001b[36m0.2189\u001b[0m  0.0165\n    254        \u001b[36m0.2185\u001b[0m  0.1005\n    255        \u001b[36m0.2181\u001b[0m  0.0994\n    256        \u001b[36m0.2178\u001b[0m  0.0865\n    257        \u001b[36m0.2174\u001b[0m  0.0936\n    258        \u001b[36m0.2170\u001b[0m  0.0936\n    259        \u001b[36m0.2166\u001b[0m  0.0343\n    260        \u001b[36m0.2163\u001b[0m  0.1014\n    261        \u001b[36m0.2159\u001b[0m  0.0356\n    262        \u001b[36m0.2155\u001b[0m  0.0960\n    263        \u001b[36m0.2152\u001b[0m  0.1023\n    264        \u001b[36m0.2148\u001b[0m  0.1021\n    265        \u001b[36m0.2145\u001b[0m  0.0720\n    266        \u001b[36m0.2141\u001b[0m  0.0850\n    267        \u001b[36m0.2138\u001b[0m  0.0286\n    268        \u001b[36m0.2134\u001b[0m  0.0243\n    269        \u001b[36m0.2131\u001b[0m  0.0173\n    270        \u001b[36m0.2128\u001b[0m  0.0201\n    271        \u001b[36m0.2124\u001b[0m  0.1031\n    272        \u001b[36m0.2121\u001b[0m  0.0897\n    273        \u001b[36m0.2118\u001b[0m  0.0178\n    274        \u001b[36m0.2114\u001b[0m  0.0253\n    275        \u001b[36m0.2111\u001b[0m  0.0173\n    276        \u001b[36m0.2108\u001b[0m  0.0882\n    277        \u001b[36m0.2105\u001b[0m  0.0751\n    278        \u001b[36m0.2102\u001b[0m  0.0170\n    279        \u001b[36m0.2098\u001b[0m  0.0167\n    280        \u001b[36m0.2095\u001b[0m  0.0802\n    281        \u001b[36m0.2092\u001b[0m  0.0173\n    282        \u001b[36m0.2089\u001b[0m  0.0173\n    283        \u001b[36m0.2086\u001b[0m  0.0777\n    284        \u001b[36m0.2083\u001b[0m  0.0182\n    285        \u001b[36m0.2080\u001b[0m  0.0803\n    286        \u001b[36m0.2077\u001b[0m  0.0780\n    287        \u001b[36m0.2075\u001b[0m  0.0179\n    288        \u001b[36m0.2072\u001b[0m  0.0254\n    289        \u001b[36m0.2069\u001b[0m  0.0167\n    290        \u001b[36m0.2066\u001b[0m  0.0729\n    291        \u001b[36m0.2063\u001b[0m  0.0800\n    292        \u001b[36m0.2060\u001b[0m  0.0731\n    293        \u001b[36m0.2058\u001b[0m  0.0173\n    294        \u001b[36m0.2055\u001b[0m  0.0800\n    295        \u001b[36m0.2052\u001b[0m  0.0179\n    296        \u001b[36m0.2049\u001b[0m  0.0178\n    297        \u001b[36m0.2047\u001b[0m  0.0777\n    298        \u001b[36m0.2044\u001b[0m  0.0177\n    299        \u001b[36m0.2041\u001b[0m  0.0183\n    300        \u001b[36m0.2039\u001b[0m  0.0804\nCPU times: user 18.2 s, sys: 131 ms, total: 18.3 s\nWall time: 1min 5s\n",
     "output_type": "stream"
    }
   ],
   "execution_count": 51
  },
  {
   "cell_type": "code",
   "source": "plot_learning_curves(train_loss_M3_mse_noreg, test_loss_M3_mse_noreg, 300, 'Loss (MSE)')",
   "metadata": {
    "cell_id": "076edf42-d60b-4ab7-8370-f57cb67af29c",
    "tags": [],
    "deepnote_to_be_reexecuted": false,
    "source_hash": "ed0bec19",
    "execution_start": 1642938420496,
    "execution_millis": 1171,
    "deepnote_output_heights": [
     500
    ],
    "deepnote_cell_type": "code"
   },
   "outputs": [
    {
     "data": {
      "text/plain": "<Figure size 720x576 with 1 Axes>",
      "image/png": "[encoded data removed]"
     },
     "metadata": {
      "needs_background": "light",
      "image/png": {
       "width": 634,
       "height": 498
      }
     },
     "output_type": "display_data"
    }
   ],
   "execution_count": 52
  },
  {
   "cell_type": "code",
   "source": "plot_learning_curves(train_scores_M3_noreg, test_scores_M3_noreg, 300, 'Accuracy')",
   "metadata": {
    "cell_id": "a473afc5-8045-4c2e-bda2-3aa964b92bd8",
    "tags": [],
    "deepnote_to_be_reexecuted": false,
    "source_hash": "58240e7d",
    "execution_start": 1642938430842,
    "execution_millis": 1332,
    "deepnote_output_heights": [
     500
    ],
    "deepnote_cell_type": "code"
   },
   "outputs": [
    {
     "data": {
      "text/plain": "<Figure size 720x576 with 1 Axes>",
      "image/png": "[encoded data removed]"
     },
     "metadata": {
      "needs_background": "light",
      "image/png": {
       "width": 634,
       "height": 498
      }
     },
     "output_type": "display_data"
    }
   ],
   "execution_count": 53
  },
  {
   "cell_type": "code",
   "source": "y_predicted_train_M3_noreg = net_enc3_noreg.predict(X_trainFit3)\ny_predicted_test_M3_noreg = net_enc3_noreg.predict(X_testFit3)\nprint(f\"Accuracy on MONK3: {net_enc3_noreg.score(X_testFit3, y_testFit3)}\")\nprint(f\"MEE on MONK3: {(np.linalg.norm(y_predicted_test_M3_noreg-y_testFit3))}\") # MEE distance (a.k.a. norm 2)\nprint(f\"MSE on MONK3 (TRAIN): {(mean_squared_error(y_trainFit3, y_predicted_train_M3_noreg))}\")\nprint(f\"MSE on MONK3 (TEST): {(mean_squared_error(y_testFit3, y_predicted_test_M3_noreg))}\")",
   "metadata": {
    "cell_id": "ec70c042-25d6-4be3-8af5-1644ab5b3a61",
    "tags": [],
    "deepnote_to_be_reexecuted": false,
    "source_hash": "36c4579e",
    "execution_start": 1642938437449,
    "execution_millis": 229,
    "deepnote_cell_type": "code"
   },
   "outputs": [
    {
     "name": "stdout",
     "text": "Accuracy on MONK3: 0.9699074074074074\nMEE on MONK3: 3.605551242828369\nMSE on MONK3 (TRAIN): 0.06557376682758331\nMSE on MONK3 (TEST): 0.030092593282461166\n",
     "output_type": "stream"
    }
   ],
   "execution_count": 54
  },
  {
   "cell_type": "code",
   "source": "#control the accuracy between true and predict values on test data\nprint(classification_report(y_testFit3, y_predicted_test_M3_noreg))",
   "metadata": {
    "cell_id": "30d5395b-5b42-473f-92d0-4dd2862477c1",
    "tags": [],
    "deepnote_to_be_reexecuted": false,
    "source_hash": "b22565c2",
    "execution_start": 1642938481175,
    "execution_millis": 69,
    "deepnote_cell_type": "code"
   },
   "outputs": [
    {
     "name": "stdout",
     "text": "              precision    recall  f1-score   support\n\n         0.0       0.94      1.00      0.97       204\n         1.0       1.00      0.94      0.97       228\n\n    accuracy                           0.97       432\n   macro avg       0.97      0.97      0.97       432\nweighted avg       0.97      0.97      0.97       432\n\n",
     "output_type": "stream"
    }
   ],
   "execution_count": 56
  },
  {
   "cell_type": "code",
   "metadata": {
    "cell_id": "00053-40e89f31-6d30-41ea-b14b-44b50bb2a7f5",
    "deepnote_output_heights": [
     null,
     270.71875
    ],
    "deepnote_to_be_reexecuted": false,
    "execution_millis": 11328,
    "execution_start": 1642938487849,
    "scrolled": true,
    "source_hash": "31354430",
    "tags": [],
    "deepnote_cell_type": "code"
   },
   "source": "%%time #Wall time: 3.19 s\n\nnet_enc3 = NeuralNetBinaryClassifier(\n    BinaryClassification,\n    module__n_input=X_trainFit3.shape[1],\n    module__hidden_units=4,\n    max_epochs=1,\n    batch_size = 8,\n    lr = 0.008,\n    optimizer=torch.optim.SGD,\n    optimizer__weight_decay=0.0001,\n    optimizer__momentum=0.95,\n    optimizer__nesterov=True,\n    # Shuffle training data on each epoch\n    #iterator_train__shuffle=True,\n    train_split=None\n)\n\ntrain_scores_M3, test_scores_M3, train_loss_M3, test_loss_M3, train_loss_M3_mse, test_loss_M3_mse = fit_and_score_monk(45, net_enc3, X_trainFit3, y_trainFit3, X_testFit3, y_testFit3)",
   "execution_count": 57,
   "outputs": [
    {
     "name": "stdout",
     "text": "  epoch    train_loss     dur\n-------  ------------  ------\n      1        \u001b[36m0.7196\u001b[0m  0.1007\n      2        \u001b[36m0.6911\u001b[0m  0.0870\n      3        \u001b[36m0.6595\u001b[0m  0.0193\n      4        \u001b[36m0.6213\u001b[0m  0.0193\n      5        \u001b[36m0.5719\u001b[0m  0.0927\n      6        \u001b[36m0.5117\u001b[0m  0.0348\n      7        \u001b[36m0.4455\u001b[0m  0.0916\n      8        \u001b[36m0.3822\u001b[0m  0.0750\n      9        \u001b[36m0.3301\u001b[0m  0.0195\n     10        \u001b[36m0.2916\u001b[0m  0.0233\n     11        \u001b[36m0.2655\u001b[0m  0.0734\n     12        \u001b[36m0.2467\u001b[0m  0.0794\n     13        \u001b[36m0.2328\u001b[0m  0.0891\n     14        \u001b[36m0.2221\u001b[0m  0.0790\n     15        \u001b[36m0.2136\u001b[0m  0.0191\n     16        \u001b[36m0.2067\u001b[0m  0.1016\n     17        \u001b[36m0.2010\u001b[0m  0.0974\n     18        \u001b[36m0.1962\u001b[0m  0.1017\n     19        \u001b[36m0.1921\u001b[0m  0.0965\n     20        \u001b[36m0.1885\u001b[0m  0.1021\n     21        \u001b[36m0.1854\u001b[0m  0.1032\n     22        \u001b[36m0.1825\u001b[0m  0.0921\n     23        \u001b[36m0.1801\u001b[0m  0.0242\n     24        \u001b[36m0.1777\u001b[0m  0.0235\n     25        \u001b[36m0.1755\u001b[0m  0.0256\n     26        \u001b[36m0.1735\u001b[0m  0.0300\n     27        \u001b[36m0.1716\u001b[0m  0.0987\n     28        \u001b[36m0.1699\u001b[0m  0.0184\n     29        \u001b[36m0.1684\u001b[0m  0.0197\n     30        \u001b[36m0.1669\u001b[0m  0.1737\n     31        \u001b[36m0.1655\u001b[0m  0.0898\n     32        \u001b[36m0.1641\u001b[0m  0.0828\n     33        \u001b[36m0.1628\u001b[0m  0.0952\n     34        \u001b[36m0.1616\u001b[0m  0.0247\n     35        \u001b[36m0.1603\u001b[0m  0.0809\n     36        \u001b[36m0.1591\u001b[0m  0.0881\n     37        \u001b[36m0.1580\u001b[0m  0.1105\n     38        \u001b[36m0.1568\u001b[0m  0.0818\n     39        \u001b[36m0.1557\u001b[0m  0.0884\n     40        \u001b[36m0.1546\u001b[0m  0.0235\n     41        \u001b[36m0.1535\u001b[0m  0.1080\n     42        \u001b[36m0.1524\u001b[0m  0.0969\n     43        \u001b[36m0.1513\u001b[0m  0.0928\n     44        \u001b[36m0.1502\u001b[0m  0.0858\n     45        \u001b[36m0.1492\u001b[0m  0.0304\nCPU times: user 2.83 s, sys: 26.2 ms, total: 2.86 s\nWall time: 11.3 s\n",
     "output_type": "stream"
    }
   ]
  },
  {
   "cell_type": "code",
   "metadata": {
    "cell_id": "00054-8c17f9c3-ce5f-420c-b451-33f28c8528ca",
    "deepnote_output_heights": [
     500
    ],
    "deepnote_to_be_reexecuted": false,
    "execution_millis": 932,
    "execution_start": 1642939387841,
    "source_hash": "a54ddf6",
    "tags": [],
    "deepnote_cell_type": "code"
   },
   "source": "plot_learning_curves(train_loss_M3, test_loss_M3, 45, 'Loss (BCE)')",
   "execution_count": 58,
   "outputs": [
    {
     "data": {
      "text/plain": "<Figure size 720x576 with 1 Axes>",
      "image/png": "[encoded data removed]"
     },
     "metadata": {
      "needs_background": "light",
      "image/png": {
       "width": 647,
       "height": 498
      }
     },
     "output_type": "display_data"
    }
   ]
  },
  {
   "cell_type": "code",
   "metadata": {
    "cell_id": "00050-39bd54ba-b78e-4470-a5c2-832e751ee882",
    "deepnote_output_heights": [
     500
    ],
    "deepnote_to_be_reexecuted": false,
    "source_hash": "d5a1c8a7",
    "execution_start": 1642939393266,
    "execution_millis": 1710,
    "deepnote_cell_type": "code"
   },
   "source": "plot_learning_curves(train_loss_M3_mse, test_loss_M3_mse, 45, 'Loss (MSE)')",
   "execution_count": 59,
   "outputs": [
    {
     "data": {
      "text/plain": "<Figure size 720x576 with 1 Axes>",
      "image/png": "[encoded data removed]"
     },
     "metadata": {
      "needs_background": "light",
      "image/png": {
       "width": 634,
       "height": 498
      }
     },
     "output_type": "display_data"
    }
   ]
  },
  {
   "cell_type": "code",
   "metadata": {
    "cell_id": "00055-63698190-da41-4778-b07a-94baa60ad162",
    "deepnote_output_heights": [
     500
    ],
    "deepnote_to_be_reexecuted": false,
    "execution_millis": 1807,
    "execution_start": 1642939399150,
    "source_hash": "5d66f1af",
    "tags": [],
    "deepnote_cell_type": "code"
   },
   "source": "plot_learning_curves(train_scores_M3, test_scores_M3, 45, 'Accuracy')",
   "execution_count": 60,
   "outputs": [
    {
     "data": {
      "text/plain": "<Figure size 720x576 with 1 Axes>",
      "image/png": "[encoded data removed]"
     },
     "metadata": {
      "needs_background": "light",
      "image/png": {
       "width": 634,
       "height": 498
      }
     },
     "output_type": "display_data"
    }
   ]
  },
  {
   "cell_type": "code",
   "metadata": {
    "cell_id": "00052-d91b1d9d-2593-4067-bae0-4e36ca1bf43b",
    "deepnote_to_be_reexecuted": false,
    "source_hash": "da81d9f9",
    "execution_start": 1642939410448,
    "execution_millis": 306,
    "deepnote_cell_type": "code"
   },
   "source": "y_predicted_train_M3 = net_enc3.predict(X_trainFit3)\ny_predicted_test_M3 = net_enc3.predict(X_testFit3)\nprint(f\"Accuracy on MONK3: {net_enc3.score(X_testFit3, y_testFit3)}\")\nprint(f\"MEE on MONK3: {(np.linalg.norm(y_predicted_test_M3-y_testFit3))}\") # MEE distance (a.k.a. norm 2)\nprint(f\"MSE on MONK3 (TRAIN): {(mean_squared_error(y_trainFit3, y_predicted_train_M3))}\")\nprint(f\"MSE on MONK3 (TEST): {(mean_squared_error(y_testFit3, y_predicted_test_M3))}\")",
   "execution_count": 61,
   "outputs": [
    {
     "name": "stdout",
     "text": "Accuracy on MONK3: 0.9513888888888888\nMEE on MONK3: 4.582575798034668\nMSE on MONK3 (TRAIN): 0.04918032884597778\nMSE on MONK3 (TEST): 0.0486111119389534\n",
     "output_type": "stream"
    }
   ]
  },
  {
   "cell_type": "code",
   "metadata": {
    "cell_id": "00053-b8100bb8-5e5c-4902-8a20-38836edb09fe",
    "deepnote_to_be_reexecuted": false,
    "source_hash": "e6a2c24b",
    "execution_start": 1642939424439,
    "execution_millis": 16,
    "deepnote_cell_type": "code"
   },
   "source": "#control the accuracy between true and predict values on test data\nprint(classification_report(y_testFit3, y_predicted_test_M3))",
   "execution_count": 62,
   "outputs": [
    {
     "name": "stdout",
     "text": "              precision    recall  f1-score   support\n\n         0.0       0.91      1.00      0.95       204\n         1.0       1.00      0.91      0.95       228\n\n    accuracy                           0.95       432\n   macro avg       0.95      0.95      0.95       432\nweighted avg       0.96      0.95      0.95       432\n\n",
     "output_type": "stream"
    }
   ]
  },
  {
   "cell_type": "markdown",
   "source": "<a style='text-decoration:none;line-height:16px;display:flex;color:#5B5B62;padding:10px;justify-content:end;' href='https://deepnote.com?utm_source=created-in-deepnote-cell&projectId=d9d840c9-75b3-4185-bb01-105f5cca8d83' target=\"_blank\">\n<img alt='Created in deepnote.com' style='display:inline;max-height:16px;margin:0px;margin-right:7.5px;' src='data:image/svg+xml;base64,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' > </img>\nCreated in <span style='font-weight:600;margin-left:4px;'>Deepnote</span></a>",
   "metadata": {
    "tags": [],
    "created_in_deepnote_cell": true,
    "deepnote_cell_type": "markdown"
   }
  }
 ],
 "nbformat": 4,
 "nbformat_minor": 2,
 "metadata": {
  "deepnote": {
   "is_reactive": false
  },
  "deepnote_execution_queue": [
   {
    "cellId": "00018-5f79a229-b2cd-45f0-928b-47f2ddb3ee19",
    "sessionId": "65c56b9d-587d-42c5-98e7-d7c602480d08",
    "msgId": "0f53229d-d727-44d4-9e6d-541c78f4abd6"
   }
  ],
  "deepnote_notebook_id": "29e5ab88-e848-42f4-9b93-01e2cb324e6f",
  "kernelspec": {
   "display_name": "Python 3",
   "language": "python",
   "name": "python3"
  },
  "language_info": {
   "codemirror_mode": {
    "name": "ipython",
    "version": 3
   },
   "file_extension": ".py",
   "mimetype": "text/x-python",
   "name": "python",
   "nbconvert_exporter": "python",
   "pygments_lexer": "ipython3",
   "version": "3.8.8"
  }
 }
}