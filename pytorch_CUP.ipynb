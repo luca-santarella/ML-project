{
 "cells": [
  {
   "cell_type": "markdown",
   "source": "## PyTorch MLP model",
   "metadata": {
    "cell_id": "481660c9-aa3e-43cd-b6d9-9c8530e3971e",
    "tags": [],
    "deepnote_cell_type": "markdown"
   }
  },
  {
   "cell_type": "markdown",
   "source": "### Importing libraries",
   "metadata": {
    "cell_id": "f112892d-46c1-49f1-aefc-677f76ec0a8d",
    "tags": [],
    "deepnote_cell_type": "markdown"
   }
  },
  {
   "cell_type": "code",
   "metadata": {
    "cell_id": "03113463-b757-457e-8da3-ee58794b33ee",
    "deepnote_output_heights": [
     193.9375
    ],
    "deepnote_to_be_reexecuted": false,
    "execution_millis": 4611,
    "execution_start": 1642867094765,
    "source_hash": "59d1bdbb",
    "output_cleared": true,
    "deepnote_cell_type": "code"
   },
   "source": "import numpy as np\nimport pandas as pd\nimport matplotlib.pyplot as plt\nimport torch\nimport torch.nn as nn\nimport torch.optim as optim\nimport ast\nfrom dataclasses import dataclass\nfrom sklearn.model_selection import train_test_split\nfrom skorch import NeuralNetRegressor\nfrom skorch.callbacks import EarlyStopping\nfrom scipy.stats import uniform\nfrom scipy.stats import randint\nfrom sklearn.model_selection import GridSearchCV\nfrom sklearn.model_selection import RandomizedSearchCV\nfrom sklearn.metrics import make_scorer\nfrom sklearn.metrics import mean_squared_error",
   "execution_count": 1,
   "outputs": []
  },
  {
   "cell_type": "markdown",
   "source": "### Loading training set and blind test set",
   "metadata": {
    "cell_id": "fc66c1ca-4617-4dea-9b8e-1a0c4c4dd60a",
    "tags": [],
    "deepnote_cell_type": "markdown"
   }
  },
  {
   "cell_type": "code",
   "metadata": {
    "cell_id": "00001-0d0173a2-0574-4d5b-b9c7-3549eee93b9a",
    "deepnote_to_be_reexecuted": false,
    "execution_millis": 31,
    "execution_start": 1642867099439,
    "source_hash": "47b90439",
    "output_cleared": true,
    "deepnote_cell_type": "code"
   },
   "source": "df_visual = pd.read_csv('./data/ML-CUP21-TR.csv', usecols=[11,12], names=['idx','f1','f2','f3','f4','f5','f6','f7','f8','f9','f10', 'x','y'])\ndf_task_tr = pd.read_csv('./data/ML-CUP21-TR.csv', names=['idx','f1','f2','f3','f4','f5','f6','f7','f8','f9','f10', 'x','y'])\ndf_task_tr = df_task_tr[7:] # remove first 7 rows of comments\ndf_visual = df_visual[7:]\n\ndf_blind_ts = pd.read_csv('./data/ML-CUP21-TS.csv', names=['idx','f1','f2','f3','f4','f5','f6','f7','f8','f9','f10'])\ndf_blind_ts = df_blind_ts[7:]\ndf_blind_ts.drop(labels=\"idx\", axis=1, inplace=True)\nblind_ts = df_blind_ts.values",
   "execution_count": 2,
   "outputs": []
  },
  {
   "cell_type": "markdown",
   "source": "### Evaluation metric and tools",
   "metadata": {
    "cell_id": "497b7842-e96b-45c4-8138-fe4682e13837",
    "tags": [],
    "deepnote_cell_type": "markdown"
   }
  },
  {
   "cell_type": "markdown",
   "source": "We define the <b>MEE (Mean Euclidean Error)</b> function which is used to evaluate the mean euclidean distance between two points with x and y coordinates.\nThe function takes in input the true target and the predicted target and yields a floating point number which represents the performance. ",
   "metadata": {
    "cell_id": "6b9bdbc6-8535-4f9d-baf4-04b6ec988111",
    "tags": [],
    "deepnote_cell_type": "markdown"
   }
  },
  {
   "cell_type": "code",
   "metadata": {
    "cell_id": "00002-8e3ce472-ff69-4ea7-97e3-d913b512af40",
    "deepnote_to_be_reexecuted": false,
    "execution_millis": 2,
    "execution_start": 1642867099479,
    "source_hash": "3afbb4cb",
    "output_cleared": true,
    "deepnote_cell_type": "code"
   },
   "source": "def mee(true_target, predicted_target): #assuming target is 2-dim matrix with x and y as columns\n    l = true_target.shape[0]\n    res = 0\n    \n    for p in range(l): #for p-th pattern in l (number of samples)\n        x_diff = np.square(true_target[p,0] - predicted_target[p,0]) #difference between the x value of the true and predicted target\n        y_diff = np.square(true_target[p,1] - predicted_target[p,1]) #difference between the y values of true and predicted target\n        sum_term = x_diff + y_diff\n        res = res + np.sqrt(sum_term)\n    res = res / l\n    \n    #return np.average([np.sqrt(np.square(true_target[p,0] - predicted_target[p,0]) + np.square(true_target[p,1] - predicted_target[p,1])) for p in range(l)]) #compact form\n    return res",
   "execution_count": 3,
   "outputs": []
  },
  {
   "cell_type": "code",
   "metadata": {
    "cell_id": "3d5f5d6f-6e80-48d8-af38-ae9a7f8298a8",
    "tags": [],
    "deepnote_to_be_reexecuted": false,
    "source_hash": "a91b8e4",
    "execution_start": 1642867099547,
    "execution_millis": 2,
    "output_cleared": true,
    "deepnote_cell_type": "code"
   },
   "source": "def plot_learning_curves(train_scores, test_scores, epochs, y_label, ax, i):\n    ax.set_title(f\"Model {i+1}\")\n    ax.set_ylabel(y_label)\n    ax.set_xlabel('Epoch');\n    ax.plot(range(0,epochs), train_scores, label = \"Training error\", linestyle='dashed')\n    ax.plot(range(0,epochs), test_scores, label = \"Test error\")\n    ax.legend()\n\n    return ax",
   "execution_count": 4,
   "outputs": []
  },
  {
   "cell_type": "code",
   "metadata": {
    "cell_id": "8a9a0a1a-b223-4e42-955e-51dc6c1498ca",
    "tags": [],
    "deepnote_to_be_reexecuted": false,
    "source_hash": "f4599560",
    "execution_start": 1642867099558,
    "execution_millis": 43,
    "output_cleared": true,
    "deepnote_cell_type": "code"
   },
   "source": "def plot_coordinates(y_predicted, true_y = None):\n    y_predicted = pd.DataFrame(data=y_predicted, columns=[\"x\", \"y\"])\n    if not None:\n        true_y = pd.DataFrame(data=true_y, columns=[\"x\", \"y\"])\n        plt.scatter(true_y['x'], true_y['y'], c='r', marker='*')\n    plt.xlabel(\"x\")\n    plt.ylabel(\"y\")\n    plt.scatter(y_predicted['x'], y_predicted['y'], c='#1f77b4')",
   "execution_count": 5,
   "outputs": []
  },
  {
   "cell_type": "code",
   "metadata": {
    "cell_id": "8ed9c9e9-e487-40b5-a777-e0851e7002fd",
    "tags": [],
    "deepnote_to_be_reexecuted": false,
    "source_hash": "dfbb28ea",
    "execution_start": 1642867099602,
    "execution_millis": 0,
    "output_cleared": true,
    "deepnote_cell_type": "code"
   },
   "source": "#trains the model with one iteration (epoch) and computes in output a list of train and test scores using MEE\ndef fit_and_score(epochs, eval_model, X_train, y_train, X_test, y_test):\n    train_scores = []\n    test_scores = []\n    train_loss = []\n    test_loss = []\n    eval_model.initialize()\n    for i in range(epochs):\n        eval_model = eval_model.fit_loop(X_train,y_train,1) #single epoch of the model\n        y_train_predicted = eval_model.predict(X_train)\n        y_test_predicted = eval_model.predict(X_test)\n        #results on train set\n        train_scores.append(mean_squared_error(y_train, y_train_predicted))\n        test_scores.append(mean_squared_error(y_test, y_test_predicted))\n        #result on test set\n        train_loss.append(mee(y_train, y_train_predicted))\n        test_loss.append(mee(y_test, y_test_predicted))\n    return train_scores, test_scores, train_loss, test_loss\n",
   "execution_count": 6,
   "outputs": []
  },
  {
   "cell_type": "markdown",
   "source": "## Regression task\n### Preparing the training set",
   "metadata": {
    "cell_id": "24820147-b49a-465d-ba32-7e440e14fede",
    "tags": [],
    "deepnote_cell_type": "markdown"
   }
  },
  {
   "cell_type": "code",
   "metadata": {
    "cell_id": "00004-8e65de00-6683-4b7d-9194-4c8ae030aee6",
    "deepnote_to_be_reexecuted": false,
    "execution_millis": 42,
    "execution_start": 1642867099603,
    "source_hash": "192dcf",
    "output_cleared": true,
    "deepnote_cell_type": "code"
   },
   "source": "df_task_tr.drop(labels=\"idx\", axis=1, inplace=True)",
   "execution_count": 7,
   "outputs": []
  },
  {
   "cell_type": "code",
   "metadata": {
    "cell_id": "00005-63853f2c-11dc-4004-9bcb-4e58ba87336d",
    "deepnote_to_be_reexecuted": false,
    "execution_millis": 7,
    "execution_start": 1642867099653,
    "source_hash": "adef5ee0",
    "output_cleared": true,
    "deepnote_cell_type": "code"
   },
   "source": "y = df_task_tr[['x','y']].values\nX = df_task_tr.drop(labels=['x','y'], axis=1).values",
   "execution_count": 8,
   "outputs": []
  },
  {
   "cell_type": "code",
   "metadata": {
    "cell_id": "00006-9e7e1d91-18d5-4fca-9cb1-70fc39ee71c5",
    "deepnote_to_be_reexecuted": false,
    "execution_millis": 5,
    "execution_start": 1642867099705,
    "source_hash": "473a37ed",
    "output_cleared": false,
    "deepnote_cell_type": "code"
   },
   "source": "print(X.shape)\nprint(y.shape)",
   "execution_count": 9,
   "outputs": [
    {
     "name": "stdout",
     "text": "(1477, 10)\n(1477, 2)\n",
     "output_type": "stream"
    }
   ]
  },
  {
   "cell_type": "code",
   "metadata": {
    "cell_id": "00007-15a9d6de-0760-442e-896a-cd43db4adcfb",
    "deepnote_to_be_reexecuted": false,
    "execution_millis": 1,
    "execution_start": 1642867099706,
    "source_hash": "596ccc7b",
    "output_cleared": true,
    "deepnote_cell_type": "code"
   },
   "source": "RS_NUMBER = 69",
   "execution_count": 10,
   "outputs": []
  },
  {
   "cell_type": "markdown",
   "source": "### Splitting the dataset\nWe split the data set obtaining an internal test set (10% of the total dataset), we will use this internal test at the end to test internally the generalization error.",
   "metadata": {
    "cell_id": "8c07f6fa-778e-4ef8-93eb-7f5f8a724454",
    "tags": [],
    "deepnote_cell_type": "markdown"
   }
  },
  {
   "cell_type": "code",
   "metadata": {
    "cell_id": "00008-a49d71c2-f651-41f2-acdc-91530bf94733",
    "deepnote_to_be_reexecuted": false,
    "execution_millis": 52,
    "execution_start": 1642867099707,
    "source_hash": "5df0a49",
    "output_cleared": false,
    "deepnote_cell_type": "code"
   },
   "source": "X, X_test, y, y_test = train_test_split(X, y, test_size=0.1, random_state=RS_NUMBER)\n\nprint(f\"X train shape: {X.shape}\")\nprint(f\"X validation shape: {X_test.shape}\")\nprint(f\"y train shape: {y.shape}\")\nprint(f\"y validation shape: {y_test.shape}\")",
   "execution_count": 11,
   "outputs": [
    {
     "name": "stdout",
     "text": "X train shape: (1329, 10)\nX validation shape: (148, 10)\ny train shape: (1329, 2)\ny validation shape: (148, 2)\n",
     "output_type": "stream"
    }
   ]
  },
  {
   "cell_type": "markdown",
   "source": "### Define the module for the neural network\nWe define a Module for PyTorch, which takes as input the number of units, activation function (sigmoid, relu or tanh) and the number of hidden layers (can be either one or two). The model architecture is the simplest one of a MLP, one or two linear layers and the activation function.  ",
   "metadata": {
    "cell_id": "e8ffe47f-13c3-438c-a625-a1f900c09da9",
    "tags": [],
    "deepnote_cell_type": "markdown"
   }
  },
  {
   "cell_type": "code",
   "metadata": {
    "cell_id": "00009-9b91a60c-1771-44b7-85d3-4179fd2a3044",
    "deepnote_to_be_reexecuted": false,
    "execution_millis": 7,
    "execution_start": 1642867099761,
    "source_hash": "f35c2b20",
    "output_cleared": true,
    "deepnote_cell_type": "code"
   },
   "source": "class MyModule(nn.Module):\n    def __init__(self, num_units, activation_fun, hidden_layers):\n        super(MyModule, self).__init__()\n        \n        if(activation_fun == \"sigmoid\"):\n            activation_fun = nn.Sigmoid()\n        elif activation_fun == \"relu\":\n            activation_fun = nn.ReLU()\n        elif activation_fun == \"tanh\":\n            activation_fun = nn.Tanh()\n            \n        if hidden_layers == 2:\n            self.linear_stack = nn.Sequential(\n                nn.Linear(10, num_units),\n                activation_fun,\n                nn.Linear(num_units, num_units),\n                activation_fun,\n                nn.Linear(num_units, 2),\n            )\n        elif hidden_layers == 1:\n            self.linear_stack = nn.Sequential(\n                nn.Linear(10, num_units),\n                activation_fun,\n                nn.Linear(num_units, 2),\n            )     \n    def forward(self, x):\n        X = self.linear_stack(x)\n        return X\n    \n    def predict(self, x):\n        X = self.linear_stack(x)\n        return X",
   "execution_count": 12,
   "outputs": []
  },
  {
   "cell_type": "markdown",
   "source": "We define the device where the computation is going to happen (in our case the CPU) and we print a model example with a single hidden layer with 100 hidden units and the sigmoid activation function.  ",
   "metadata": {
    "cell_id": "fed8b698-64f4-4cba-86a1-148e8dad61b9",
    "tags": [],
    "deepnote_cell_type": "markdown"
   }
  },
  {
   "cell_type": "code",
   "metadata": {
    "cell_id": "00010-e23cd2eb-f4f5-4c0c-b985-96731b3e5f4b",
    "deepnote_to_be_reexecuted": false,
    "execution_millis": 48,
    "execution_start": 1642867099816,
    "source_hash": "c16924d5",
    "output_cleared": false,
    "deepnote_cell_type": "code"
   },
   "source": "device = torch.device(\"cuda:0\" if torch.cuda.is_available() else \"cpu\")\n\nexample = MyModule(num_units=100, activation_fun = \"sigmoid\", hidden_layers = 1).to(device)\nprint(example)",
   "execution_count": 13,
   "outputs": [
    {
     "name": "stdout",
     "text": "MyModule(\n  (linear_stack): Sequential(\n    (0): Linear(in_features=10, out_features=100, bias=True)\n    (1): Sigmoid()\n    (2): Linear(in_features=100, out_features=2, bias=True)\n  )\n)\n",
     "output_type": "stream"
    }
   ]
  },
  {
   "cell_type": "markdown",
   "source": "Pytorch is used with skorch which is a wrapper for the framework, the goal of skorch is to make it possible to use PyTorch with sklearn. This will allow us to use the randomized search of sklearn, the NeuralNetRegressor takes the module defined before as input and a callback for the early stopping criteria.",
   "metadata": {
    "cell_id": "768ce6ef-5e96-4e6a-b2a9-c0441ca3f4b3",
    "tags": [],
    "deepnote_cell_type": "markdown"
   }
  },
  {
   "cell_type": "code",
   "metadata": {
    "cell_id": "6c048a6a-5e04-4b81-9e55-9fab9d68d60e",
    "deepnote_to_be_reexecuted": false,
    "execution_millis": 1,
    "execution_start": 1642867099862,
    "source_hash": "8dccc88b",
    "tags": [],
    "output_cleared": true,
    "deepnote_cell_type": "code"
   },
   "source": "PATIENCE=20\nTHRESHOLD=0.005",
   "execution_count": 14,
   "outputs": []
  },
  {
   "cell_type": "code",
   "metadata": {
    "cell_id": "00011-ee26a323-33fd-498d-a315-3a23538a0cf1",
    "deepnote_to_be_reexecuted": false,
    "execution_millis": 0,
    "execution_start": 1642867099863,
    "source_hash": "38ded2f6",
    "output_cleared": true,
    "deepnote_cell_type": "code"
   },
   "source": "model = NeuralNetRegressor(\n    module = MyModule,\n    callbacks=[('early_stoppping', EarlyStopping(monitor='valid_loss', patience=PATIENCE, threshold=THRESHOLD))],\n)",
   "execution_count": 15,
   "outputs": []
  },
  {
   "cell_type": "code",
   "metadata": {
    "cell_id": "00012-2fe8f0fe-1ea1-4887-9b7f-061aea6b93a6",
    "deepnote_to_be_reexecuted": false,
    "execution_millis": 1,
    "execution_start": 1642867099905,
    "source_hash": "1b127074",
    "output_cleared": true,
    "deepnote_cell_type": "code"
   },
   "source": "# define the number of iterations\nn_iter_search = 1000\n# define number of k-folds\nk = 10",
   "execution_count": 16,
   "outputs": []
  },
  {
   "cell_type": "code",
   "metadata": {
    "cell_id": "00013-9807bc36-9a23-4057-a810-b1a8d5997908",
    "deepnote_to_be_reexecuted": false,
    "execution_millis": 1,
    "execution_start": 1642867099906,
    "source_hash": "b0b719f7",
    "output_cleared": true,
    "deepnote_cell_type": "code"
   },
   "source": "X = X.astype(np.float32)\ny = y.astype(np.float32)\nX_test = X_test.astype(np.float32)\ny_test = y_test.astype(np.float32)\nblind_ts = blind_ts.astype(np.float32)\n",
   "execution_count": 17,
   "outputs": []
  },
  {
   "cell_type": "markdown",
   "source": "### Randomized Search",
   "metadata": {
    "cell_id": "7148d14e-f05f-45d9-b2a8-8479b2415809",
    "tags": [],
    "deepnote_cell_type": "markdown"
   }
  },
  {
   "cell_type": "code",
   "metadata": {
    "cell_id": "00014-f29742e9-defa-4ead-9f7b-1875566e484a",
    "deepnote_output_heights": [
     null,
     308.921875
    ],
    "deepnote_to_be_reexecuted": false,
    "execution_millis": 55,
    "execution_start": 1642867099907,
    "source_hash": "86a8728f",
    "output_cleared": false,
    "deepnote_cell_type": "code"
   },
   "source": "%%script false --no-raise-error Wall time: 53min 8s (Michele)\n\n# to find the best set of parameter setting, we can run a randomized search\n\n# define the parameters' values\nparams = {\n    'lr': uniform(0.005, 0.5),\n    'max_epochs': [1000], #upper bound of max number of epochs\n    'optimizer': [torch.optim.SGD],\n    'optimizer__momentum': [0.9, 0.95], ##optimizer__ indicates that it is a parameter of the optimizer\n    'optimizer__weight_decay': uniform(0.0001, 0.1),\n    'optimizer__nesterov': [False, True],\n    'module__num_units': randint(5, 128), #module__ indicates that it is a parameter of the module\n    'module__hidden_layers': [1,2],\n    'module__activation_fun': [\"sigmoid\", \"tanh\", \"relu\"],\n    'batch_size': randint(X.shape[0] / 2, X.shape[0]),\n}\n\n# define the grid search\nrand_gs = RandomizedSearchCV(\n    model,\n    param_distributions=params,\n    n_iter=n_iter_search,\n    n_jobs=-1,\n    scoring=make_scorer(mee), #scoring is based on the highest value so we use the inverse of the MEE loss function\n    cv=k,\n    random_state=RS_NUMBER,\n    verbose=10\n)\n# run the grid search\nrand_gs.fit(X, y)\n",
   "execution_count": 18,
   "outputs": []
  },
  {
   "cell_type": "code",
   "metadata": {
    "cell_id": "00015-c3740584-1ba9-4476-8b79-bfb9a96d2f51",
    "deepnote_to_be_reexecuted": false,
    "execution_millis": 45,
    "execution_start": 1642867100008,
    "source_hash": "f2b24f7f",
    "output_cleared": true,
    "deepnote_cell_type": "code"
   },
   "source": "%%script false --no-raise-error\n\ndf_results = pd.DataFrame(data=rand_gs.cv_results_) #trasform into a pandas dataframe\ndf_results.sort_values(by=\"rank_test_score\", axis=0, ascending=False, inplace=True) #sort rank values in decreasing order \ndf_results.dropna(inplace=True) #delete nan values \ndf_results = df_results[:50] #keep only top 50 models\npd.DataFrame.to_csv(df_results, \"pytorch_results/rand1_search.csv\")",
   "execution_count": 19,
   "outputs": []
  },
  {
   "cell_type": "code",
   "metadata": {
    "cell_id": "00016-e7d90d2d-c917-49b9-927c-34cffe186b5a",
    "deepnote_output_heights": [
     208.1875
    ],
    "deepnote_to_be_reexecuted": false,
    "execution_millis": 508,
    "execution_start": 1642867100054,
    "source_hash": "7a530ae9",
    "output_cleared": false,
    "deepnote_cell_type": "code"
   },
   "source": "df_results = pd.read_csv(\"pytorch_results/rand1_search.csv\")\ndf_results.head()",
   "execution_count": 20,
   "outputs": [
    {
     "output_type": "execute_result",
     "execution_count": 20,
     "data": {
      "application/vnd.deepnote.dataframe.v3+json": {
       "column_count": 29,
       "row_count": 5,
       "columns": [
        {
         "name": "Unnamed: 0",
         "dtype": "int64",
         "stats": {
          "unique_count": 5,
          "nan_count": 0,
          "min": "167",
          "max": "947",
          "histogram": [
           {
            "bin_start": 167,
            "bin_end": 245,
            "count": 2
           },
           {
            "bin_start": 245,
            "bin_end": 323,
            "count": 0
           },
           {
            "bin_start": 323,
            "bin_end": 401,
            "count": 1
           },
           {
            "bin_start": 401,
            "bin_end": 479,
            "count": 0
           },
           {
            "bin_start": 479,
            "bin_end": 557,
            "count": 0
           },
           {
            "bin_start": 557,
            "bin_end": 635,
            "count": 0
           },
           {
            "bin_start": 635,
            "bin_end": 713,
            "count": 1
           },
           {
            "bin_start": 713,
            "bin_end": 791,
            "count": 0
           },
           {
            "bin_start": 791,
            "bin_end": 869,
            "count": 0
           },
           {
            "bin_start": 869,
            "bin_end": 947,
            "count": 1
           }
          ]
         }
        },
        {
         "name": "mean_fit_time",
         "dtype": "float64",
         "stats": {
          "unique_count": 5,
          "nan_count": 0,
          "min": "3.5027613639831543",
          "max": "13.97317645549774",
          "histogram": [
           {
            "bin_start": 3.5027613639831543,
            "bin_end": 4.549802873134613,
            "count": 1
           },
           {
            "bin_start": 4.549802873134613,
            "bin_end": 5.596844382286071,
            "count": 0
           },
           {
            "bin_start": 5.596844382286071,
            "bin_end": 6.643885891437529,
            "count": 0
           },
           {
            "bin_start": 6.643885891437529,
            "bin_end": 7.690927400588988,
            "count": 1
           },
           {
            "bin_start": 7.690927400588988,
            "bin_end": 8.737968909740447,
            "count": 0
           },
           {
            "bin_start": 8.737968909740447,
            "bin_end": 9.785010418891904,
            "count": 0
           },
           {
            "bin_start": 9.785010418891904,
            "bin_end": 10.832051928043363,
            "count": 1
           },
           {
            "bin_start": 10.832051928043363,
            "bin_end": 11.879093437194822,
            "count": 0
           },
           {
            "bin_start": 11.879093437194822,
            "bin_end": 12.92613494634628,
            "count": 0
           },
           {
            "bin_start": 12.92613494634628,
            "bin_end": 13.97317645549774,
            "count": 2
           }
          ]
         }
        },
        {
         "name": "std_fit_time",
         "dtype": "float64",
         "stats": {
          "unique_count": 5,
          "nan_count": 0,
          "min": "0.3663500487140263",
          "max": "3.760475446032582",
          "histogram": [
           {
            "bin_start": 0.3663500487140263,
            "bin_end": 0.7057625884458819,
            "count": 1
           },
           {
            "bin_start": 0.7057625884458819,
            "bin_end": 1.0451751281777375,
            "count": 2
           },
           {
            "bin_start": 1.0451751281777375,
            "bin_end": 1.3845876679095932,
            "count": 0
           },
           {
            "bin_start": 1.3845876679095932,
            "bin_end": 1.7240002076414487,
            "count": 0
           },
           {
            "bin_start": 1.7240002076414487,
            "bin_end": 2.063412747373304,
            "count": 1
           },
           {
            "bin_start": 2.063412747373304,
            "bin_end": 2.40282528710516,
            "count": 0
           },
           {
            "bin_start": 2.40282528710516,
            "bin_end": 2.7422378268370156,
            "count": 0
           },
           {
            "bin_start": 2.7422378268370156,
            "bin_end": 3.081650366568871,
            "count": 0
           },
           {
            "bin_start": 3.081650366568871,
            "bin_end": 3.4210629063007265,
            "count": 0
           },
           {
            "bin_start": 3.4210629063007265,
            "bin_end": 3.760475446032582,
            "count": 1
           }
          ]
         }
        },
        {
         "name": "mean_score_time",
         "dtype": "float64",
         "stats": {
          "unique_count": 5,
          "nan_count": 0,
          "min": "0.0026718139648437",
          "max": "0.0110314130783081",
          "histogram": [
           {
            "bin_start": 0.0026718139648437,
            "bin_end": 0.00350777387619014,
            "count": 2
           },
           {
            "bin_start": 0.00350777387619014,
            "bin_end": 0.00434373378753658,
            "count": 0
           },
           {
            "bin_start": 0.00434373378753658,
            "bin_end": 0.00517969369888302,
            "count": 0
           },
           {
            "bin_start": 0.00517969369888302,
            "bin_end": 0.00601565361022946,
            "count": 0
           },
           {
            "bin_start": 0.00601565361022946,
            "bin_end": 0.0068516135215759,
            "count": 0
           },
           {
            "bin_start": 0.0068516135215759,
            "bin_end": 0.00768757343292234,
            "count": 0
           },
           {
            "bin_start": 0.00768757343292234,
            "bin_end": 0.00852353334426878,
            "count": 0
           },
           {
            "bin_start": 0.00852353334426878,
            "bin_end": 0.00935949325561522,
            "count": 0
           },
           {
            "bin_start": 0.00935949325561522,
            "bin_end": 0.01019545316696166,
            "count": 0
           },
           {
            "bin_start": 0.01019545316696166,
            "bin_end": 0.0110314130783081,
            "count": 3
           }
          ]
         }
        },
        {
         "name": "std_score_time",
         "dtype": "float64",
         "stats": {
          "unique_count": 5,
          "nan_count": 0,
          "min": "9.838539902362336e-05",
          "max": "0.0178933579187193",
          "histogram": [
           {
            "bin_start": 0.00009838539902362336,
            "bin_end": 0.001877882650993191,
            "count": 2
           },
           {
            "bin_start": 0.001877882650993191,
            "bin_end": 0.003657379902962759,
            "count": 0
           },
           {
            "bin_start": 0.003657379902962759,
            "bin_end": 0.005436877154932326,
            "count": 0
           },
           {
            "bin_start": 0.005436877154932326,
            "bin_end": 0.007216374406901894,
            "count": 0
           },
           {
            "bin_start": 0.007216374406901894,
            "bin_end": 0.008995871658871462,
            "count": 0
           },
           {
            "bin_start": 0.008995871658871462,
            "bin_end": 0.010775368910841028,
            "count": 0
           },
           {
            "bin_start": 0.010775368910841028,
            "bin_end": 0.012554866162810596,
            "count": 0
           },
           {
            "bin_start": 0.012554866162810596,
            "bin_end": 0.014334363414780164,
            "count": 0
           },
           {
            "bin_start": 0.014334363414780164,
            "bin_end": 0.016113860666749732,
            "count": 0
           },
           {
            "bin_start": 0.016113860666749732,
            "bin_end": 0.0178933579187193,
            "count": 3
           }
          ]
         }
        },
        {
         "name": "param_batch_size",
         "dtype": "int64",
         "stats": {
          "unique_count": 5,
          "nan_count": 0,
          "min": "769",
          "max": "1295",
          "histogram": [
           {
            "bin_start": 769,
            "bin_end": 821.6,
            "count": 2
           },
           {
            "bin_start": 821.6,
            "bin_end": 874.2,
            "count": 0
           },
           {
            "bin_start": 874.2,
            "bin_end": 926.8,
            "count": 0
           },
           {
            "bin_start": 926.8,
            "bin_end": 979.4,
            "count": 1
           },
           {
            "bin_start": 979.4,
            "bin_end": 1032,
            "count": 0
           },
           {
            "bin_start": 1032,
            "bin_end": 1084.6,
            "count": 0
           },
           {
            "bin_start": 1084.6,
            "bin_end": 1137.2,
            "count": 1
           },
           {
            "bin_start": 1137.2,
            "bin_end": 1189.8,
            "count": 0
           },
           {
            "bin_start": 1189.8,
            "bin_end": 1242.4,
            "count": 0
           },
           {
            "bin_start": 1242.4,
            "bin_end": 1295,
            "count": 1
           }
          ]
         }
        },
        {
         "name": "param_lr",
         "dtype": "float64",
         "stats": {
          "unique_count": 5,
          "nan_count": 0,
          "min": "0.0063141740195277",
          "max": "0.4212342239067483",
          "histogram": [
           {
            "bin_start": 0.0063141740195277,
            "bin_end": 0.04780617900824976,
            "count": 4
           },
           {
            "bin_start": 0.04780617900824976,
            "bin_end": 0.08929818399697183,
            "count": 0
           },
           {
            "bin_start": 0.08929818399697183,
            "bin_end": 0.1307901889856939,
            "count": 0
           },
           {
            "bin_start": 0.1307901889856939,
            "bin_end": 0.17228219397441594,
            "count": 0
           },
           {
            "bin_start": 0.17228219397441594,
            "bin_end": 0.213774198963138,
            "count": 0
           },
           {
            "bin_start": 0.213774198963138,
            "bin_end": 0.25526620395186006,
            "count": 0
           },
           {
            "bin_start": 0.25526620395186006,
            "bin_end": 0.29675820894058214,
            "count": 0
           },
           {
            "bin_start": 0.29675820894058214,
            "bin_end": 0.3382502139293042,
            "count": 0
           },
           {
            "bin_start": 0.3382502139293042,
            "bin_end": 0.3797422189180263,
            "count": 0
           },
           {
            "bin_start": 0.3797422189180263,
            "bin_end": 0.4212342239067483,
            "count": 1
           }
          ]
         }
        },
        {
         "name": "param_max_epochs",
         "dtype": "int64",
         "stats": {
          "unique_count": 1,
          "nan_count": 0,
          "min": "1000",
          "max": "1000",
          "histogram": [
           {
            "bin_start": 999.5,
            "bin_end": 999.6,
            "count": 0
           },
           {
            "bin_start": 999.6,
            "bin_end": 999.7,
            "count": 0
           },
           {
            "bin_start": 999.7,
            "bin_end": 999.8,
            "count": 0
           },
           {
            "bin_start": 999.8,
            "bin_end": 999.9,
            "count": 0
           },
           {
            "bin_start": 999.9,
            "bin_end": 1000,
            "count": 0
           },
           {
            "bin_start": 1000,
            "bin_end": 1000.1,
            "count": 5
           },
           {
            "bin_start": 1000.1,
            "bin_end": 1000.2,
            "count": 0
           },
           {
            "bin_start": 1000.2,
            "bin_end": 1000.3,
            "count": 0
           },
           {
            "bin_start": 1000.3,
            "bin_end": 1000.4,
            "count": 0
           },
           {
            "bin_start": 1000.4,
            "bin_end": 1000.5,
            "count": 0
           }
          ]
         }
        },
        {
         "name": "param_module__activation_fun",
         "dtype": "object",
         "stats": {
          "unique_count": 2,
          "nan_count": 0,
          "categories": [
           {
            "name": "tanh",
            "count": 3
           },
           {
            "name": "sigmoid",
            "count": 2
           }
          ]
         }
        },
        {
         "name": "param_module__hidden_layers",
         "dtype": "int64",
         "stats": {
          "unique_count": 2,
          "nan_count": 0,
          "min": "1",
          "max": "2",
          "histogram": [
           {
            "bin_start": 1,
            "bin_end": 1.1,
            "count": 3
           },
           {
            "bin_start": 1.1,
            "bin_end": 1.2,
            "count": 0
           },
           {
            "bin_start": 1.2,
            "bin_end": 1.3,
            "count": 0
           },
           {
            "bin_start": 1.3,
            "bin_end": 1.4,
            "count": 0
           },
           {
            "bin_start": 1.4,
            "bin_end": 1.5,
            "count": 0
           },
           {
            "bin_start": 1.5,
            "bin_end": 1.6,
            "count": 0
           },
           {
            "bin_start": 1.6,
            "bin_end": 1.7000000000000002,
            "count": 0
           },
           {
            "bin_start": 1.7000000000000002,
            "bin_end": 1.8,
            "count": 0
           },
           {
            "bin_start": 1.8,
            "bin_end": 1.9,
            "count": 0
           },
           {
            "bin_start": 1.9,
            "bin_end": 2,
            "count": 2
           }
          ]
         }
        },
        {
         "name": "param_module__num_units",
         "dtype": "int64",
         "stats": {
          "unique_count": 5,
          "nan_count": 0,
          "min": "11",
          "max": "125",
          "histogram": [
           {
            "bin_start": 11,
            "bin_end": 22.4,
            "count": 2
           },
           {
            "bin_start": 22.4,
            "bin_end": 33.8,
            "count": 1
           },
           {
            "bin_start": 33.8,
            "bin_end": 45.2,
            "count": 0
           },
           {
            "bin_start": 45.2,
            "bin_end": 56.6,
            "count": 1
           },
           {
            "bin_start": 56.6,
            "bin_end": 68,
            "count": 0
           },
           {
            "bin_start": 68,
            "bin_end": 79.4,
            "count": 0
           },
           {
            "bin_start": 79.4,
            "bin_end": 90.8,
            "count": 0
           },
           {
            "bin_start": 90.8,
            "bin_end": 102.2,
            "count": 0
           },
           {
            "bin_start": 102.2,
            "bin_end": 113.60000000000001,
            "count": 0
           },
           {
            "bin_start": 113.60000000000001,
            "bin_end": 125,
            "count": 1
           }
          ]
         }
        },
        {
         "name": "param_optimizer",
         "dtype": "object",
         "stats": {
          "unique_count": 1,
          "nan_count": 0,
          "categories": [
           {
            "name": "<class 'torch.optim.sgd.SGD'>",
            "count": 5
           }
          ]
         }
        },
        {
         "name": "param_optimizer__momentum",
         "dtype": "float64",
         "stats": {
          "unique_count": 2,
          "nan_count": 0,
          "min": "0.9",
          "max": "0.95",
          "histogram": [
           {
            "bin_start": 0.9,
            "bin_end": 0.905,
            "count": 3
           },
           {
            "bin_start": 0.905,
            "bin_end": 0.91,
            "count": 0
           },
           {
            "bin_start": 0.91,
            "bin_end": 0.915,
            "count": 0
           },
           {
            "bin_start": 0.915,
            "bin_end": 0.92,
            "count": 0
           },
           {
            "bin_start": 0.92,
            "bin_end": 0.925,
            "count": 0
           },
           {
            "bin_start": 0.925,
            "bin_end": 0.9299999999999999,
            "count": 0
           },
           {
            "bin_start": 0.9299999999999999,
            "bin_end": 0.9349999999999999,
            "count": 0
           },
           {
            "bin_start": 0.9349999999999999,
            "bin_end": 0.94,
            "count": 0
           },
           {
            "bin_start": 0.94,
            "bin_end": 0.945,
            "count": 0
           },
           {
            "bin_start": 0.945,
            "bin_end": 0.95,
            "count": 2
           }
          ]
         }
        },
        {
         "name": "param_optimizer__nesterov",
         "dtype": "bool",
         "stats": {
          "unique_count": 2,
          "nan_count": 0,
          "categories": [
           {
            "name": "True",
            "count": 3
           },
           {
            "name": "False",
            "count": 2
           }
          ]
         }
        },
        {
         "name": "param_optimizer__weight_decay",
         "dtype": "float64",
         "stats": {
          "unique_count": 5,
          "nan_count": 0,
          "min": "0.0051520003243811",
          "max": "0.0232537840429461",
          "histogram": [
           {
            "bin_start": 0.0051520003243811,
            "bin_end": 0.0069621786962376,
            "count": 4
           },
           {
            "bin_start": 0.0069621786962376,
            "bin_end": 0.0087723570680941,
            "count": 0
           },
           {
            "bin_start": 0.0087723570680941,
            "bin_end": 0.0105825354399506,
            "count": 0
           },
           {
            "bin_start": 0.0105825354399506,
            "bin_end": 0.0123927138118071,
            "count": 0
           },
           {
            "bin_start": 0.0123927138118071,
            "bin_end": 0.0142028921836636,
            "count": 0
           },
           {
            "bin_start": 0.0142028921836636,
            "bin_end": 0.0160130705555201,
            "count": 0
           },
           {
            "bin_start": 0.0160130705555201,
            "bin_end": 0.017823248927376602,
            "count": 0
           },
           {
            "bin_start": 0.017823248927376602,
            "bin_end": 0.019633427299233102,
            "count": 0
           },
           {
            "bin_start": 0.019633427299233102,
            "bin_end": 0.0214436056710896,
            "count": 0
           },
           {
            "bin_start": 0.0214436056710896,
            "bin_end": 0.0232537840429461,
            "count": 1
           }
          ]
         }
        },
        {
         "name": "params",
         "dtype": "object",
         "stats": {
          "unique_count": 5,
          "nan_count": 0,
          "categories": [
           {
            "name": "{'batch_size': 1085, 'lr': 0.010735108419990699, 'max_epochs': 1000, 'module__activation_fun': 'tanh', 'module__hidden_layers': 2, 'module__num_units': 24, 'optimizer': <class 'torch.optim.sgd.SGD'>, 'optimizer__momentum': 0.9, 'optimizer__nesterov': True, 'optimizer__weight_decay': 0.023253784042946125}",
            "count": 1
           },
           {
            "name": "{'batch_size': 769, 'lr': 0.020812462135460005, 'max_epochs': 1000, 'module__activation_fun': 'tanh', 'module__hidden_layers': 1, 'module__num_units': 20, 'optimizer': <class 'torch.optim.sgd.SGD'>, 'optimizer__momentum': 0.95, 'optimizer__nesterov': True, 'optimizer__weight_decay': 0.005466734101478566}",
            "count": 1
           },
           {
            "name": "3 others",
            "count": 3
           }
          ]
         }
        },
        {
         "name": "split0_test_score",
         "dtype": "float64",
         "stats": {
          "unique_count": 5,
          "nan_count": 0,
          "min": "1.1143465396436982",
          "max": "1.1993724357588846",
          "histogram": [
           {
            "bin_start": 1.1143465396436982,
            "bin_end": 1.122849129255217,
            "count": 1
           },
           {
            "bin_start": 1.122849129255217,
            "bin_end": 1.1313517188667355,
            "count": 1
           },
           {
            "bin_start": 1.1313517188667355,
            "bin_end": 1.1398543084782542,
            "count": 0
           },
           {
            "bin_start": 1.1398543084782542,
            "bin_end": 1.1483568980897727,
            "count": 0
           },
           {
            "bin_start": 1.1483568980897727,
            "bin_end": 1.1568594877012914,
            "count": 1
           },
           {
            "bin_start": 1.1568594877012914,
            "bin_end": 1.1653620773128102,
            "count": 1
           },
           {
            "bin_start": 1.1653620773128102,
            "bin_end": 1.1738646669243287,
            "count": 0
           },
           {
            "bin_start": 1.1738646669243287,
            "bin_end": 1.1823672565358474,
            "count": 0
           },
           {
            "bin_start": 1.1823672565358474,
            "bin_end": 1.190869846147366,
            "count": 0
           },
           {
            "bin_start": 1.190869846147366,
            "bin_end": 1.1993724357588846,
            "count": 1
           }
          ]
         }
        },
        {
         "name": "split1_test_score",
         "dtype": "float64",
         "stats": {
          "unique_count": 5,
          "nan_count": 0,
          "min": "1.0537480116450697",
          "max": "1.1379654206951757",
          "histogram": [
           {
            "bin_start": 1.0537480116450697,
            "bin_end": 1.0621697525500804,
            "count": 2
           },
           {
            "bin_start": 1.0621697525500804,
            "bin_end": 1.0705914934550909,
            "count": 0
           },
           {
            "bin_start": 1.0705914934550909,
            "bin_end": 1.0790132343601015,
            "count": 0
           },
           {
            "bin_start": 1.0790132343601015,
            "bin_end": 1.087434975265112,
            "count": 1
           },
           {
            "bin_start": 1.087434975265112,
            "bin_end": 1.0958567161701227,
            "count": 0
           },
           {
            "bin_start": 1.0958567161701227,
            "bin_end": 1.1042784570751334,
            "count": 1
           },
           {
            "bin_start": 1.1042784570751334,
            "bin_end": 1.1127001979801439,
            "count": 0
           },
           {
            "bin_start": 1.1127001979801439,
            "bin_end": 1.1211219388851545,
            "count": 0
           },
           {
            "bin_start": 1.1211219388851545,
            "bin_end": 1.129543679790165,
            "count": 0
           },
           {
            "bin_start": 1.129543679790165,
            "bin_end": 1.1379654206951757,
            "count": 1
           }
          ]
         }
        },
        {
         "name": "split2_test_score",
         "dtype": "float64",
         "stats": {
          "unique_count": 5,
          "nan_count": 0,
          "min": "1.1828838706408675",
          "max": "1.2835504987690234",
          "histogram": [
           {
            "bin_start": 1.1828838706408675,
            "bin_end": 1.1929505334536832,
            "count": 1
           },
           {
            "bin_start": 1.1929505334536832,
            "bin_end": 1.2030171962664986,
            "count": 1
           },
           {
            "bin_start": 1.2030171962664986,
            "bin_end": 1.2130838590793143,
            "count": 0
           },
           {
            "bin_start": 1.2130838590793143,
            "bin_end": 1.22315052189213,
            "count": 0
           },
           {
            "bin_start": 1.22315052189213,
            "bin_end": 1.2332171847049453,
            "count": 0
           },
           {
            "bin_start": 1.2332171847049453,
            "bin_end": 1.243283847517761,
            "count": 1
           },
           {
            "bin_start": 1.243283847517761,
            "bin_end": 1.2533505103305767,
            "count": 1
           },
           {
            "bin_start": 1.2533505103305767,
            "bin_end": 1.2634171731433923,
            "count": 0
           },
           {
            "bin_start": 1.2634171731433923,
            "bin_end": 1.2734838359562077,
            "count": 0
           },
           {
            "bin_start": 1.2734838359562077,
            "bin_end": 1.2835504987690234,
            "count": 1
           }
          ]
         }
        },
        {
         "name": "split3_test_score",
         "dtype": "float64",
         "stats": {
          "unique_count": 5,
          "nan_count": 0,
          "min": "1.2161096806700964",
          "max": "1.3672419129905844",
          "histogram": [
           {
            "bin_start": 1.2161096806700964,
            "bin_end": 1.2312229039021452,
            "count": 1
           },
           {
            "bin_start": 1.2312229039021452,
            "bin_end": 1.246336127134194,
            "count": 1
           },
           {
            "bin_start": 1.246336127134194,
            "bin_end": 1.2614493503662427,
            "count": 0
           },
           {
            "bin_start": 1.2614493503662427,
            "bin_end": 1.2765625735982915,
            "count": 0
           },
           {
            "bin_start": 1.2765625735982915,
            "bin_end": 1.2916757968303405,
            "count": 0
           },
           {
            "bin_start": 1.2916757968303405,
            "bin_end": 1.3067890200623893,
            "count": 0
           },
           {
            "bin_start": 1.3067890200623893,
            "bin_end": 1.321902243294438,
            "count": 1
           },
           {
            "bin_start": 1.321902243294438,
            "bin_end": 1.3370154665264868,
            "count": 1
           },
           {
            "bin_start": 1.3370154665264868,
            "bin_end": 1.3521286897585356,
            "count": 0
           },
           {
            "bin_start": 1.3521286897585356,
            "bin_end": 1.3672419129905844,
            "count": 1
           }
          ]
         }
        },
        {
         "name": "split4_test_score",
         "dtype": "float64",
         "stats": {
          "unique_count": 5,
          "nan_count": 0,
          "min": "1.2635074390056438",
          "max": "1.3012146968814664",
          "histogram": [
           {
            "bin_start": 1.2635074390056438,
            "bin_end": 1.267278164793226,
            "count": 1
           },
           {
            "bin_start": 1.267278164793226,
            "bin_end": 1.2710488905808084,
            "count": 1
           },
           {
            "bin_start": 1.2710488905808084,
            "bin_end": 1.2748196163683905,
            "count": 0
           },
           {
            "bin_start": 1.2748196163683905,
            "bin_end": 1.2785903421559728,
            "count": 0
           },
           {
            "bin_start": 1.2785903421559728,
            "bin_end": 1.282361067943555,
            "count": 0
           },
           {
            "bin_start": 1.282361067943555,
            "bin_end": 1.2861317937311374,
            "count": 0
           },
           {
            "bin_start": 1.2861317937311374,
            "bin_end": 1.2899025195187197,
            "count": 0
           },
           {
            "bin_start": 1.2899025195187197,
            "bin_end": 1.2936732453063018,
            "count": 0
           },
           {
            "bin_start": 1.2936732453063018,
            "bin_end": 1.297443971093884,
            "count": 1
           },
           {
            "bin_start": 1.297443971093884,
            "bin_end": 1.3012146968814664,
            "count": 2
           }
          ]
         }
        },
        {
         "name": "split5_test_score",
         "dtype": "float64",
         "stats": {
          "unique_count": 5,
          "nan_count": 0,
          "min": "1.3036591638915969",
          "max": "1.3119369601284652",
          "histogram": [
           {
            "bin_start": 1.3036591638915969,
            "bin_end": 1.3044869435152837,
            "count": 2
           },
           {
            "bin_start": 1.3044869435152837,
            "bin_end": 1.3053147231389706,
            "count": 0
           },
           {
            "bin_start": 1.3053147231389706,
            "bin_end": 1.3061425027626574,
            "count": 1
           },
           {
            "bin_start": 1.3061425027626574,
            "bin_end": 1.3069702823863443,
            "count": 0
           },
           {
            "bin_start": 1.3069702823863443,
            "bin_end": 1.307798062010031,
            "count": 0
           },
           {
            "bin_start": 1.307798062010031,
            "bin_end": 1.3086258416337178,
            "count": 1
           },
           {
            "bin_start": 1.3086258416337178,
            "bin_end": 1.3094536212574046,
            "count": 0
           },
           {
            "bin_start": 1.3094536212574046,
            "bin_end": 1.3102814008810915,
            "count": 0
           },
           {
            "bin_start": 1.3102814008810915,
            "bin_end": 1.3111091805047783,
            "count": 0
           },
           {
            "bin_start": 1.3111091805047783,
            "bin_end": 1.3119369601284652,
            "count": 1
           }
          ]
         }
        },
        {
         "name": "split6_test_score",
         "dtype": "float64",
         "stats": {
          "unique_count": 5,
          "nan_count": 0,
          "min": "1.1811553409981324",
          "max": "1.2623682837737231",
          "histogram": [
           {
            "bin_start": 1.1811553409981324,
            "bin_end": 1.1892766352756914,
            "count": 1
           },
           {
            "bin_start": 1.1892766352756914,
            "bin_end": 1.1973979295532504,
            "count": 0
           },
           {
            "bin_start": 1.1973979295532504,
            "bin_end": 1.2055192238308097,
            "count": 0
           },
           {
            "bin_start": 1.2055192238308097,
            "bin_end": 1.2136405181083687,
            "count": 0
           },
           {
            "bin_start": 1.2136405181083687,
            "bin_end": 1.2217618123859277,
            "count": 1
           },
           {
            "bin_start": 1.2217618123859277,
            "bin_end": 1.2298831066634868,
            "count": 1
           },
           {
            "bin_start": 1.2298831066634868,
            "bin_end": 1.2380044009410458,
            "count": 1
           },
           {
            "bin_start": 1.2380044009410458,
            "bin_end": 1.246125695218605,
            "count": 0
           },
           {
            "bin_start": 1.246125695218605,
            "bin_end": 1.254246989496164,
            "count": 0
           },
           {
            "bin_start": 1.254246989496164,
            "bin_end": 1.2623682837737231,
            "count": 1
           }
          ]
         }
        },
        {
         "name": "split7_test_score",
         "dtype": "float64",
         "stats": {
          "unique_count": 5,
          "nan_count": 0,
          "min": "1.1300748711017738",
          "max": "1.207000503806691",
          "histogram": [
           {
            "bin_start": 1.1300748711017738,
            "bin_end": 1.1377674343722655,
            "count": 1
           },
           {
            "bin_start": 1.1377674343722655,
            "bin_end": 1.1454599976427573,
            "count": 2
           },
           {
            "bin_start": 1.1454599976427573,
            "bin_end": 1.1531525609132491,
            "count": 0
           },
           {
            "bin_start": 1.1531525609132491,
            "bin_end": 1.1608451241837408,
            "count": 1
           },
           {
            "bin_start": 1.1608451241837408,
            "bin_end": 1.1685376874542324,
            "count": 0
           },
           {
            "bin_start": 1.1685376874542324,
            "bin_end": 1.1762302507247242,
            "count": 0
           },
           {
            "bin_start": 1.1762302507247242,
            "bin_end": 1.183922813995216,
            "count": 0
           },
           {
            "bin_start": 1.183922813995216,
            "bin_end": 1.1916153772657077,
            "count": 0
           },
           {
            "bin_start": 1.1916153772657077,
            "bin_end": 1.1993079405361993,
            "count": 0
           },
           {
            "bin_start": 1.1993079405361993,
            "bin_end": 1.207000503806691,
            "count": 1
           }
          ]
         }
        },
        {
         "name": "split8_test_score",
         "dtype": "float64",
         "stats": {
          "unique_count": 5,
          "nan_count": 0,
          "min": "1.2736705373272412",
          "max": "1.3164790824503827",
          "histogram": [
           {
            "bin_start": 1.2736705373272412,
            "bin_end": 1.2779513918395553,
            "count": 1
           },
           {
            "bin_start": 1.2779513918395553,
            "bin_end": 1.2822322463518696,
            "count": 1
           },
           {
            "bin_start": 1.2822322463518696,
            "bin_end": 1.2865131008641837,
            "count": 1
           },
           {
            "bin_start": 1.2865131008641837,
            "bin_end": 1.2907939553764978,
            "count": 0
           },
           {
            "bin_start": 1.2907939553764978,
            "bin_end": 1.295074809888812,
            "count": 0
           },
           {
            "bin_start": 1.295074809888812,
            "bin_end": 1.2993556644011262,
            "count": 0
           },
           {
            "bin_start": 1.2993556644011262,
            "bin_end": 1.3036365189134402,
            "count": 0
           },
           {
            "bin_start": 1.3036365189134402,
            "bin_end": 1.3079173734257543,
            "count": 0
           },
           {
            "bin_start": 1.3079173734257543,
            "bin_end": 1.3121982279380686,
            "count": 0
           },
           {
            "bin_start": 1.3121982279380686,
            "bin_end": 1.3164790824503827,
            "count": 2
           }
          ]
         }
        },
        {
         "name": "split9_test_score",
         "dtype": "float64",
         "stats": {
          "unique_count": 5,
          "nan_count": 0,
          "min": "1.0949767521497875",
          "max": "1.1795680982088952",
          "histogram": [
           {
            "bin_start": 1.0949767521497875,
            "bin_end": 1.1034358867556984,
            "count": 1
           },
           {
            "bin_start": 1.1034358867556984,
            "bin_end": 1.111895021361609,
            "count": 0
           },
           {
            "bin_start": 1.111895021361609,
            "bin_end": 1.1203541559675199,
            "count": 1
           },
           {
            "bin_start": 1.1203541559675199,
            "bin_end": 1.1288132905734305,
            "count": 0
           },
           {
            "bin_start": 1.1288132905734305,
            "bin_end": 1.1372724251793414,
            "count": 1
           },
           {
            "bin_start": 1.1372724251793414,
            "bin_end": 1.1457315597852522,
            "count": 1
           },
           {
            "bin_start": 1.1457315597852522,
            "bin_end": 1.1541906943911628,
            "count": 0
           },
           {
            "bin_start": 1.1541906943911628,
            "bin_end": 1.1626498289970737,
            "count": 0
           },
           {
            "bin_start": 1.1626498289970737,
            "bin_end": 1.1711089636029843,
            "count": 0
           },
           {
            "bin_start": 1.1711089636029843,
            "bin_end": 1.1795680982088952,
            "count": 1
           }
          ]
         }
        },
        {
         "name": "mean_test_score",
         "dtype": "float64",
         "stats": {
          "unique_count": 5,
          "nan_count": 0,
          "min": "1.192400572582779",
          "max": "1.2385856120707277",
          "histogram": [
           {
            "bin_start": 1.192400572582779,
            "bin_end": 1.197019076531574,
            "count": 1
           },
           {
            "bin_start": 1.197019076531574,
            "bin_end": 1.2016375804803687,
            "count": 0
           },
           {
            "bin_start": 1.2016375804803687,
            "bin_end": 1.2062560844291637,
            "count": 1
           },
           {
            "bin_start": 1.2062560844291637,
            "bin_end": 1.2108745883779586,
            "count": 0
           },
           {
            "bin_start": 1.2108745883779586,
            "bin_end": 1.2154930923267533,
            "count": 1
           },
           {
            "bin_start": 1.2154930923267533,
            "bin_end": 1.2201115962755482,
            "count": 0
           },
           {
            "bin_start": 1.2201115962755482,
            "bin_end": 1.2247301002243431,
            "count": 0
           },
           {
            "bin_start": 1.2247301002243431,
            "bin_end": 1.229348604173138,
            "count": 1
           },
           {
            "bin_start": 1.229348604173138,
            "bin_end": 1.2339671081219328,
            "count": 0
           },
           {
            "bin_start": 1.2339671081219328,
            "bin_end": 1.2385856120707277,
            "count": 1
           }
          ]
         }
        },
        {
         "name": "std_test_score",
         "dtype": "float64",
         "stats": {
          "unique_count": 5,
          "nan_count": 0,
          "min": "0.0677176665391331",
          "max": "0.0832120760146217",
          "histogram": [
           {
            "bin_start": 0.0677176665391331,
            "bin_end": 0.06926710748668195,
            "count": 1
           },
           {
            "bin_start": 0.06926710748668195,
            "bin_end": 0.07081654843423081,
            "count": 0
           },
           {
            "bin_start": 0.07081654843423081,
            "bin_end": 0.07236598938177968,
            "count": 0
           },
           {
            "bin_start": 0.07236598938177968,
            "bin_end": 0.07391543032932854,
            "count": 0
           },
           {
            "bin_start": 0.07391543032932854,
            "bin_end": 0.0754648712768774,
            "count": 0
           },
           {
            "bin_start": 0.0754648712768774,
            "bin_end": 0.07701431222442626,
            "count": 0
           },
           {
            "bin_start": 0.07701431222442626,
            "bin_end": 0.07856375317197511,
            "count": 0
           },
           {
            "bin_start": 0.07856375317197511,
            "bin_end": 0.08011319411952399,
            "count": 0
           },
           {
            "bin_start": 0.08011319411952399,
            "bin_end": 0.08166263506707284,
            "count": 1
           },
           {
            "bin_start": 0.08166263506707284,
            "bin_end": 0.0832120760146217,
            "count": 3
           }
          ]
         }
        },
        {
         "name": "rank_test_score",
         "dtype": "int64",
         "stats": {
          "unique_count": 5,
          "nan_count": 0,
          "min": "363",
          "max": "367",
          "histogram": [
           {
            "bin_start": 363,
            "bin_end": 363.4,
            "count": 1
           },
           {
            "bin_start": 363.4,
            "bin_end": 363.8,
            "count": 0
           },
           {
            "bin_start": 363.8,
            "bin_end": 364.2,
            "count": 1
           },
           {
            "bin_start": 364.2,
            "bin_end": 364.6,
            "count": 0
           },
           {
            "bin_start": 364.6,
            "bin_end": 365,
            "count": 0
           },
           {
            "bin_start": 365,
            "bin_end": 365.4,
            "count": 1
           },
           {
            "bin_start": 365.4,
            "bin_end": 365.8,
            "count": 0
           },
           {
            "bin_start": 365.8,
            "bin_end": 366.2,
            "count": 1
           },
           {
            "bin_start": 366.2,
            "bin_end": 366.6,
            "count": 0
           },
           {
            "bin_start": 366.6,
            "bin_end": 367,
            "count": 1
           }
          ]
         }
        },
        {
         "name": "_deepnote_index_column",
         "dtype": "int64"
        }
       ],
       "rows": [
        {
         "Unnamed: 0": 351,
         "mean_fit_time": 12.949302768707277,
         "std_fit_time": 1.9165896000892133,
         "mean_score_time": 0.0109483957290649,
         "std_score_time": 0.0171689456667847,
         "param_batch_size": 1085,
         "param_lr": 0.0107351084199906,
         "param_max_epochs": 1000,
         "param_module__activation_fun": "tanh",
         "param_module__hidden_layers": 2,
         "param_module__num_units": 24,
         "param_optimizer": "<class 'torch.optim.sgd.SGD'>",
         "param_optimizer__momentum": 0.9,
         "param_optimizer__nesterov": true,
         "param_optimizer__weight_decay": 0.0232537840429461,
         "params": "{'batch_size': 1085, 'lr': 0.010735108419990699, 'max_epochs': 1000, 'module__activation_fun': 'tan…",
         "split0_test_score": 1.1302328949332012,
         "split1_test_score": 1.0537480116450697,
         "split2_test_score": 1.1962363299794665,
         "split3_test_score": 1.2429139053070903,
         "split4_test_score": 1.2942703127636943,
         "split5_test_score": 1.3058457328636843,
         "split6_test_score": 1.1811553409981324,
         "split7_test_score": 1.1418550729863626,
         "split8_test_score": 1.2827713722012992,
         "split9_test_score": 1.0949767521497875,
         "mean_test_score": 1.192400572582779,
         "std_test_score": 0.0832120760146217,
         "rank_test_score": 367,
         "_deepnote_index_column": 0
        },
        {
         "Unnamed: 0": 193,
         "mean_fit_time": 13.97317645549774,
         "std_fit_time": 3.760475446032582,
         "mean_score_time": 0.0110314130783081,
         "std_score_time": 0.0178933579187193,
         "param_batch_size": 769,
         "param_lr": 0.02081246213546,
         "param_max_epochs": 1000,
         "param_module__activation_fun": "tanh",
         "param_module__hidden_layers": 1,
         "param_module__num_units": 20,
         "param_optimizer": "<class 'torch.optim.sgd.SGD'>",
         "param_optimizer__momentum": 0.95,
         "param_optimizer__nesterov": true,
         "param_optimizer__weight_decay": 0.0054667341014785,
         "params": "{'batch_size': 769, 'lr': 0.020812462135460005, 'max_epochs': 1000, 'module__activation_fun': 'tanh…",
         "split0_test_score": 1.1143465396436982,
         "split1_test_score": 1.0831752157300936,
         "split2_test_score": 1.1828838706408675,
         "split3_test_score": 1.3290771091342868,
         "split4_test_score": 1.2701476128505809,
         "split5_test_score": 1.3119369601284652,
         "split6_test_score": 1.213711132512505,
         "split7_test_score": 1.1300748711017738,
         "split8_test_score": 1.2736705373272412,
         "split9_test_score": 1.1425140301950951,
         "mean_test_score": 1.2051537879264609,
         "std_test_score": 0.0830258191225193,
         "rank_test_score": 366,
         "_deepnote_index_column": 1
        },
        {
         "Unnamed: 0": 947,
         "mean_fit_time": 3.5027613639831543,
         "std_fit_time": 0.3663500487140263,
         "mean_score_time": 0.0026799440383911,
         "std_score_time": 0.00009838539902362336,
         "param_batch_size": 950,
         "param_lr": 0.0387925551601557,
         "param_max_epochs": 1000,
         "param_module__activation_fun": "sigmoid",
         "param_module__hidden_layers": 2,
         "param_module__num_units": 46,
         "param_optimizer": "<class 'torch.optim.sgd.SGD'>",
         "param_optimizer__momentum": 0.95,
         "param_optimizer__nesterov": false,
         "param_optimizer__weight_decay": 0.0065649279551182,
         "params": "{'batch_size': 950, 'lr': 0.03879255516015572, 'max_epochs': 1000, 'module__activation_fun': 'sigmo…",
         "split0_test_score": 1.1555728165614874,
         "split1_test_score": 1.055378324751343,
         "split2_test_score": 1.2432558357267451,
         "split3_test_score": 1.2161096806700964,
         "split4_test_score": 1.2635074390056438,
         "split5_test_score": 1.304444547042363,
         "split6_test_score": 1.232805100374652,
         "split7_test_score": 1.207000503806691,
         "split8_test_score": 1.278836363632428,
         "split9_test_score": 1.1795680982088952,
         "mean_test_score": 1.2136478709780345,
         "std_test_score": 0.0677176665391331,
         "rank_test_score": 365,
         "_deepnote_index_column": 2
        },
        {
         "Unnamed: 0": 641,
         "mean_fit_time": 10.775348091125489,
         "std_fit_time": 0.8334189515059619,
         "mean_score_time": 0.0026718139648437,
         "std_score_time": 0.000117927247265,
         "param_batch_size": 1295,
         "param_lr": 0.0063141740195277,
         "param_max_epochs": 1000,
         "param_module__activation_fun": "tanh",
         "param_module__hidden_layers": 1,
         "param_module__num_units": 125,
         "param_optimizer": "<class 'torch.optim.sgd.SGD'>",
         "param_optimizer__momentum": 0.9,
         "param_optimizer__nesterov": true,
         "param_optimizer__weight_decay": 0.0051520003243811,
         "params": "{'batch_size': 1295, 'lr': 0.006314174019527714, 'max_epochs': 1000, 'module__activation_fun': 'tan…",
         "split0_test_score": 1.1993724357588846,
         "split1_test_score": 1.1011722825915742,
         "split2_test_score": 1.2835504987690234,
         "split3_test_score": 1.3105308425829822,
         "split4_test_score": 1.3012146968814664,
         "split5_test_score": 1.3078690442375671,
         "split6_test_score": 1.2217628055049063,
         "split7_test_score": 1.1391716355359869,
         "split8_test_score": 1.3147295560491712,
         "split9_test_score": 1.1132435886415115,
         "mean_test_score": 1.2292617386553073,
         "std_test_score": 0.0819426459297999,
         "rank_test_score": 364,
         "_deepnote_index_column": 3
        },
        {
         "Unnamed: 0": 167,
         "mean_fit_time": 6.867610430717468,
         "std_fit_time": 0.7617460905460024,
         "mean_score_time": 0.0103827953338623,
         "std_score_time": 0.0175591704115218,
         "param_batch_size": 821,
         "param_lr": 0.4212342239067483,
         "param_max_epochs": 1000,
         "param_module__activation_fun": "sigmoid",
         "param_module__hidden_layers": 1,
         "param_module__num_units": 11,
         "param_optimizer": "<class 'torch.optim.sgd.SGD'>",
         "param_optimizer__momentum": 0.9,
         "param_optimizer__nesterov": false,
         "param_optimizer__weight_decay": 0.0054644335457639,
         "params": "{'batch_size': 821, 'lr': 0.42123422390674836, 'max_epochs': 1000, 'module__activation_fun': 'sigmo…",
         "split0_test_score": 1.1638628590599935,
         "split1_test_score": 1.1379654206951757,
         "split2_test_score": 1.2454801930632806,
         "split3_test_score": 1.3672419129905844,
         "split4_test_score": 1.3012139668366067,
         "split5_test_score": 1.3036591638915969,
         "split6_test_score": 1.2623682837737231,
         "split7_test_score": 1.1586111205861085,
         "split8_test_score": 1.3164790824503827,
         "split9_test_score": 1.1289741173598238,
         "mean_test_score": 1.2385856120707277,
         "std_test_score": 0.0809372454267899,
         "rank_test_score": 363,
         "_deepnote_index_column": 4
        }
       ]
      },
      "text/plain": "   Unnamed: 0  mean_fit_time  std_fit_time  mean_score_time  std_score_time  \\\n0         351      12.949303      1.916590         0.010948        0.017169   \n1         193      13.973176      3.760475         0.011031        0.017893   \n2         947       3.502761      0.366350         0.002680        0.000098   \n3         641      10.775348      0.833419         0.002672        0.000118   \n4         167       6.867610      0.761746         0.010383        0.017559   \n\n   param_batch_size  param_lr  param_max_epochs param_module__activation_fun  \\\n0              1085  0.010735              1000                         tanh   \n1               769  0.020812              1000                         tanh   \n2               950  0.038793              1000                      sigmoid   \n3              1295  0.006314              1000                         tanh   \n4               821  0.421234              1000                      sigmoid   \n\n   param_module__hidden_layers  ...  split3_test_score split4_test_score  \\\n0                            2  ...           1.242914          1.294270   \n1                            1  ...           1.329077          1.270148   \n2                            2  ...           1.216110          1.263507   \n3                            1  ...           1.310531          1.301215   \n4                            1  ...           1.367242          1.301214   \n\n   split5_test_score  split6_test_score  split7_test_score split8_test_score  \\\n0           1.305846           1.181155           1.141855          1.282771   \n1           1.311937           1.213711           1.130075          1.273671   \n2           1.304445           1.232805           1.207001          1.278836   \n3           1.307869           1.221763           1.139172          1.314730   \n4           1.303659           1.262368           1.158611          1.316479   \n\n   split9_test_score  mean_test_score  std_test_score  rank_test_score  \n0           1.094977         1.192401        0.083212              367  \n1           1.142514         1.205154        0.083026              366  \n2           1.179568         1.213648        0.067718              365  \n3           1.113244         1.229262        0.081943              364  \n4           1.128974         1.238586        0.080937              363  \n\n[5 rows x 29 columns]",
      "text/html": "<div>\n<style scoped>\n    .dataframe tbody tr th:only-of-type {\n        vertical-align: middle;\n    }\n\n    .dataframe tbody tr th {\n        vertical-align: top;\n    }\n\n    .dataframe thead th {\n        text-align: right;\n    }\n</style>\n<table border=\"1\" class=\"dataframe\">\n  <thead>\n    <tr style=\"text-align: right;\">\n      <th></th>\n      <th>Unnamed: 0</th>\n      <th>mean_fit_time</th>\n      <th>std_fit_time</th>\n      <th>mean_score_time</th>\n      <th>std_score_time</th>\n      <th>param_batch_size</th>\n      <th>param_lr</th>\n      <th>param_max_epochs</th>\n      <th>param_module__activation_fun</th>\n      <th>param_module__hidden_layers</th>\n      <th>...</th>\n      <th>split3_test_score</th>\n      <th>split4_test_score</th>\n      <th>split5_test_score</th>\n      <th>split6_test_score</th>\n      <th>split7_test_score</th>\n      <th>split8_test_score</th>\n      <th>split9_test_score</th>\n      <th>mean_test_score</th>\n      <th>std_test_score</th>\n      <th>rank_test_score</th>\n    </tr>\n  </thead>\n  <tbody>\n    <tr>\n      <th>0</th>\n      <td>351</td>\n      <td>12.949303</td>\n      <td>1.916590</td>\n      <td>0.010948</td>\n      <td>0.017169</td>\n      <td>1085</td>\n      <td>0.010735</td>\n      <td>1000</td>\n      <td>tanh</td>\n      <td>2</td>\n      <td>...</td>\n      <td>1.242914</td>\n      <td>1.294270</td>\n      <td>1.305846</td>\n      <td>1.181155</td>\n      <td>1.141855</td>\n      <td>1.282771</td>\n      <td>1.094977</td>\n      <td>1.192401</td>\n      <td>0.083212</td>\n      <td>367</td>\n    </tr>\n    <tr>\n      <th>1</th>\n      <td>193</td>\n      <td>13.973176</td>\n      <td>3.760475</td>\n      <td>0.011031</td>\n      <td>0.017893</td>\n      <td>769</td>\n      <td>0.020812</td>\n      <td>1000</td>\n      <td>tanh</td>\n      <td>1</td>\n      <td>...</td>\n      <td>1.329077</td>\n      <td>1.270148</td>\n      <td>1.311937</td>\n      <td>1.213711</td>\n      <td>1.130075</td>\n      <td>1.273671</td>\n      <td>1.142514</td>\n      <td>1.205154</td>\n      <td>0.083026</td>\n      <td>366</td>\n    </tr>\n    <tr>\n      <th>2</th>\n      <td>947</td>\n      <td>3.502761</td>\n      <td>0.366350</td>\n      <td>0.002680</td>\n      <td>0.000098</td>\n      <td>950</td>\n      <td>0.038793</td>\n      <td>1000</td>\n      <td>sigmoid</td>\n      <td>2</td>\n      <td>...</td>\n      <td>1.216110</td>\n      <td>1.263507</td>\n      <td>1.304445</td>\n      <td>1.232805</td>\n      <td>1.207001</td>\n      <td>1.278836</td>\n      <td>1.179568</td>\n      <td>1.213648</td>\n      <td>0.067718</td>\n      <td>365</td>\n    </tr>\n    <tr>\n      <th>3</th>\n      <td>641</td>\n      <td>10.775348</td>\n      <td>0.833419</td>\n      <td>0.002672</td>\n      <td>0.000118</td>\n      <td>1295</td>\n      <td>0.006314</td>\n      <td>1000</td>\n      <td>tanh</td>\n      <td>1</td>\n      <td>...</td>\n      <td>1.310531</td>\n      <td>1.301215</td>\n      <td>1.307869</td>\n      <td>1.221763</td>\n      <td>1.139172</td>\n      <td>1.314730</td>\n      <td>1.113244</td>\n      <td>1.229262</td>\n      <td>0.081943</td>\n      <td>364</td>\n    </tr>\n    <tr>\n      <th>4</th>\n      <td>167</td>\n      <td>6.867610</td>\n      <td>0.761746</td>\n      <td>0.010383</td>\n      <td>0.017559</td>\n      <td>821</td>\n      <td>0.421234</td>\n      <td>1000</td>\n      <td>sigmoid</td>\n      <td>1</td>\n      <td>...</td>\n      <td>1.367242</td>\n      <td>1.301214</td>\n      <td>1.303659</td>\n      <td>1.262368</td>\n      <td>1.158611</td>\n      <td>1.316479</td>\n      <td>1.128974</td>\n      <td>1.238586</td>\n      <td>0.080937</td>\n      <td>363</td>\n    </tr>\n  </tbody>\n</table>\n<p>5 rows × 29 columns</p>\n</div>"
     },
     "metadata": {}
    }
   ]
  },
  {
   "cell_type": "code",
   "metadata": {
    "cell_id": "00017-f984ff7d-b27c-4f70-9063-55b9ea3a50cb",
    "deepnote_to_be_reexecuted": false,
    "execution_millis": 39513,
    "execution_start": 1642867100564,
    "source_hash": "9dd11431",
    "output_cleared": false,
    "deepnote_cell_type": "code"
   },
   "source": "#get the best params for the grid search (cannot use rand_gs.best_estimator directly since it will yield the worst estimator based on MEE)\nbest_params = df_results['params'][0]\nprint(f\"Mean error on the {k}-folds (MEE) on best model: {df_results['mean_test_score'][0]}\\n\")\nprint(f\"Best params: {best_params}\")",
   "execution_count": 21,
   "outputs": [
    {
     "name": "stdout",
     "text": "Mean error on the 10-folds (MEE) on best model: 1.192400572582779\n\nBest params: {'batch_size': 1085, 'lr': 0.010735108419990699, 'max_epochs': 1000, 'module__activation_fun': 'tanh', 'module__hidden_layers': 2, 'module__num_units': 24, 'optimizer': <class 'torch.optim.sgd.SGD'>, 'optimizer__momentum': 0.9, 'optimizer__nesterov': True, 'optimizer__weight_decay': 0.023253784042946125}\n",
     "output_type": "stream"
    }
   ]
  },
  {
   "cell_type": "code",
   "metadata": {
    "cell_id": "00029-db8353f7-b3dc-487b-9f7c-a54f65ec1d6b",
    "deepnote_to_be_reexecuted": false,
    "source_hash": "6a36063c",
    "execution_start": 1642867100613,
    "execution_millis": 1,
    "output_cleared": true,
    "deepnote_cell_type": "code"
   },
   "source": "@dataclass\nclass GridSearchRanges:\n    '''Class of keeping track of the min and max values for the hyperparameters tuning'''\n    \n    hidden_layers = []\n    min_lr = 0\n    max_lr = 0\n    min_num_units = 0\n    max_num_units = 0\n    min_weight_decay = 0\n    max_weight_decay = 0\n    min_bs = 0\n    max_bs = 0\n    \n    def set_ranges(self):\n\n        self.hidden_layers = np.unique(df_results['param_module__hidden_layers'])\n        self.hidden_layers = self.hidden_layers.ravel() #convert to array\n        print(f\"hidden layers: {self.hidden_layers}\")\n\n        self.min_lr = np.min(df_results['param_lr'])\n        self.max_lr = np.max(df_results['param_lr'])\n        print(f\"learning rate: [{self.min_lr}, {self.max_lr}]\")\n        \n        self.min_num_units = np.min(df_results['param_module__num_units'])\n        self.max_num_units = np.max(df_results['param_module__num_units'])\n        print(f\"num units: [{self.min_num_units}, {self.max_num_units}]\")\n\n        self.min_weight_decay = np.min(df_results['param_optimizer__weight_decay'])\n        self.max_weight_decay = np.max(df_results['param_optimizer__weight_decay'])\n        print(f\"weight decay: [{self.min_weight_decay}, {self.max_weight_decay}]\")\n\n        self.min_bs = np.min(df_results['param_batch_size'])\n        self.max_bs = np.max(df_results['param_batch_size'])\n        print(f\"batch size: [{self.min_bs}, {self.max_bs}]\")\n    \n    ",
   "execution_count": 22,
   "outputs": []
  },
  {
   "cell_type": "code",
   "metadata": {
    "cell_id": "00030-902d7b17-b610-4d29-875e-d61dc1762acc",
    "deepnote_to_be_reexecuted": false,
    "source_hash": "9ccb58bf",
    "execution_start": 1642867100657,
    "execution_millis": 2,
    "output_cleared": false,
    "deepnote_cell_type": "code"
   },
   "source": "gs = GridSearchRanges()\ngs.set_ranges()",
   "execution_count": 23,
   "outputs": [
    {
     "name": "stdout",
     "text": "hidden layers: [1 2]\nlearning rate: [0.0051252612925107, 0.4212342239067483]\nnum units: [6, 125]\nweight decay: [0.0013677428208289, 0.0933416914946407]\nbatch size: [677, 1295]\n",
     "output_type": "stream"
    }
   ]
  },
  {
   "cell_type": "markdown",
   "source": "### Second Randomized Search using min e max values",
   "metadata": {
    "cell_id": "00031-0c36ae95-8613-41e2-a7ef-023a8a4a84a2",
    "deepnote_cell_type": "markdown"
   }
  },
  {
   "cell_type": "code",
   "metadata": {
    "cell_id": "00032-11f757c0-1158-41aa-bc04-0588bcec3bf2",
    "deepnote_to_be_reexecuted": false,
    "source_hash": "96eea81e",
    "execution_start": 1642867100669,
    "execution_millis": 75,
    "deepnote_output_heights": [
     null,
     308.921875
    ],
    "output_cleared": false,
    "deepnote_cell_type": "code"
   },
   "source": "%%script false --no-raise-error  Wall time: 48min 31s (Michele)\n\n# to find the best set of parameter setting, we can run a randomized search\n\n# define the parameters' values\nparams = {\n    'lr': uniform(gs.min_lr, gs.max_lr),\n    'max_epochs': [1000], #upper bound of max number of epochs\n    'optimizer': [torch.optim.SGD],\n    'optimizer__momentum': [0.9, 0.95], ##optimizer__ indicates that it is a parameter of the optimizer\n    'optimizer__weight_decay': uniform(gs.min_weight_decay, gs.max_weight_decay),\n    'optimizer__nesterov': [False, True],\n    'module__num_units': randint(gs.min_num_units, gs.max_num_units), #module__ indicates that it is a parameter of the module\n    'module__hidden_layers': [1,2],\n    'module__activation_fun': [\"sigmoid\", \"tanh\", \"relu\"],\n    'batch_size': randint(gs.min_bs, gs.max_bs),\n}\n\n# define the grid search\nrand_gs = RandomizedSearchCV(\n    model,\n    param_distributions=params,\n    n_iter=n_iter_search,\n    n_jobs=-1,\n    scoring=make_scorer(mee), #scoring is based on the highest value so we use the inverse of the MEE loss function\n    cv=k,\n    random_state=RS_NUMBER,\n    verbose=10\n)\n# run the grid search\nrand_gs.fit(X, y)\n",
   "execution_count": 24,
   "outputs": []
  },
  {
   "cell_type": "code",
   "metadata": {
    "cell_id": "00033-7e9b5a5d-376c-4152-8475-fd9cdeb0c14d",
    "deepnote_to_be_reexecuted": false,
    "source_hash": "3463c6b0",
    "execution_start": 1642867100755,
    "execution_millis": 14,
    "output_cleared": true,
    "deepnote_cell_type": "code"
   },
   "source": "%%script false --no-raise-error\n\ndf_results = pd.DataFrame(data=rand_gs.cv_results_) #trasform into a pandas dataframe\ndf_results.sort_values(by=\"rank_test_score\", axis=0, ascending=False, inplace=True) #sort rank values in decreasing order \ndf_results.dropna(inplace=True) #delete nan values \ndf_results = df_results[:50] #keep only top 50 models\npd.DataFrame.to_csv(df_results, \"pytorch_results/rand2_search.csv\")",
   "execution_count": 25,
   "outputs": []
  },
  {
   "cell_type": "code",
   "metadata": {
    "cell_id": "00034-9ef3530c-044a-4bec-a17a-a807b89c0368",
    "deepnote_to_be_reexecuted": false,
    "source_hash": "9c45505b",
    "execution_start": 1642867100777,
    "execution_millis": 633,
    "deepnote_output_heights": [
     208.1875
    ],
    "output_cleared": false,
    "deepnote_cell_type": "code"
   },
   "source": "df_results = pd.read_csv(\"pytorch_results/rand2_search.csv\")\ndf_results.head()",
   "execution_count": 26,
   "outputs": [
    {
     "output_type": "execute_result",
     "execution_count": 26,
     "data": {
      "application/vnd.deepnote.dataframe.v3+json": {
       "column_count": 29,
       "row_count": 5,
       "columns": [
        {
         "name": "Unnamed: 0",
         "dtype": "int64",
         "stats": {
          "unique_count": 5,
          "nan_count": 0,
          "min": "191",
          "max": "759",
          "histogram": [
           {
            "bin_start": 191,
            "bin_end": 247.8,
            "count": 3
           },
           {
            "bin_start": 247.8,
            "bin_end": 304.6,
            "count": 0
           },
           {
            "bin_start": 304.6,
            "bin_end": 361.4,
            "count": 0
           },
           {
            "bin_start": 361.4,
            "bin_end": 418.2,
            "count": 0
           },
           {
            "bin_start": 418.2,
            "bin_end": 475,
            "count": 0
           },
           {
            "bin_start": 475,
            "bin_end": 531.8,
            "count": 1
           },
           {
            "bin_start": 531.8,
            "bin_end": 588.5999999999999,
            "count": 0
           },
           {
            "bin_start": 588.5999999999999,
            "bin_end": 645.4,
            "count": 0
           },
           {
            "bin_start": 645.4,
            "bin_end": 702.2,
            "count": 0
           },
           {
            "bin_start": 702.2,
            "bin_end": 759,
            "count": 1
           }
          ]
         }
        },
        {
         "name": "mean_fit_time",
         "dtype": "float64",
         "stats": {
          "unique_count": 5,
          "nan_count": 0,
          "min": "2.892951273918152",
          "max": "3.809690523147583",
          "histogram": [
           {
            "bin_start": 2.892951273918152,
            "bin_end": 2.9846251988410955,
            "count": 1
           },
           {
            "bin_start": 2.9846251988410955,
            "bin_end": 3.0762991237640382,
            "count": 1
           },
           {
            "bin_start": 3.0762991237640382,
            "bin_end": 3.1679730486869815,
            "count": 1
           },
           {
            "bin_start": 3.1679730486869815,
            "bin_end": 3.2596469736099243,
            "count": 0
           },
           {
            "bin_start": 3.2596469736099243,
            "bin_end": 3.3513208985328675,
            "count": 0
           },
           {
            "bin_start": 3.3513208985328675,
            "bin_end": 3.4429948234558108,
            "count": 0
           },
           {
            "bin_start": 3.4429948234558108,
            "bin_end": 3.5346687483787536,
            "count": 1
           },
           {
            "bin_start": 3.5346687483787536,
            "bin_end": 3.626342673301697,
            "count": 0
           },
           {
            "bin_start": 3.626342673301697,
            "bin_end": 3.7180165982246396,
            "count": 0
           },
           {
            "bin_start": 3.7180165982246396,
            "bin_end": 3.809690523147583,
            "count": 1
           }
          ]
         }
        },
        {
         "name": "std_fit_time",
         "dtype": "float64",
         "stats": {
          "unique_count": 5,
          "nan_count": 0,
          "min": "0.5493007326774081",
          "max": "0.9751209380005784",
          "histogram": [
           {
            "bin_start": 0.5493007326774081,
            "bin_end": 0.5918827532097252,
            "count": 1
           },
           {
            "bin_start": 0.5918827532097252,
            "bin_end": 0.6344647737420421,
            "count": 0
           },
           {
            "bin_start": 0.6344647737420421,
            "bin_end": 0.6770467942743592,
            "count": 0
           },
           {
            "bin_start": 0.6770467942743592,
            "bin_end": 0.7196288148066763,
            "count": 0
           },
           {
            "bin_start": 0.7196288148066763,
            "bin_end": 0.7622108353389933,
            "count": 1
           },
           {
            "bin_start": 0.7622108353389933,
            "bin_end": 0.8047928558713103,
            "count": 2
           },
           {
            "bin_start": 0.8047928558713103,
            "bin_end": 0.8473748764036273,
            "count": 0
           },
           {
            "bin_start": 0.8473748764036273,
            "bin_end": 0.8899568969359444,
            "count": 0
           },
           {
            "bin_start": 0.8899568969359444,
            "bin_end": 0.9325389174682615,
            "count": 0
           },
           {
            "bin_start": 0.9325389174682615,
            "bin_end": 0.9751209380005784,
            "count": 1
           }
          ]
         }
        },
        {
         "name": "mean_score_time",
         "dtype": "float64",
         "stats": {
          "unique_count": 5,
          "nan_count": 0,
          "min": "0.0026381492614746",
          "max": "0.0050556659698486",
          "histogram": [
           {
            "bin_start": 0.0026381492614746,
            "bin_end": 0.002879900932312,
            "count": 4
           },
           {
            "bin_start": 0.002879900932312,
            "bin_end": 0.0031216526031494,
            "count": 0
           },
           {
            "bin_start": 0.0031216526031494,
            "bin_end": 0.0033634042739868,
            "count": 0
           },
           {
            "bin_start": 0.0033634042739868,
            "bin_end": 0.0036051559448242,
            "count": 0
           },
           {
            "bin_start": 0.0036051559448242,
            "bin_end": 0.0038469076156616,
            "count": 0
           },
           {
            "bin_start": 0.0038469076156616,
            "bin_end": 0.004088659286499,
            "count": 0
           },
           {
            "bin_start": 0.004088659286499,
            "bin_end": 0.0043304109573364,
            "count": 0
           },
           {
            "bin_start": 0.0043304109573364,
            "bin_end": 0.0045721626281738,
            "count": 0
           },
           {
            "bin_start": 0.0045721626281738,
            "bin_end": 0.0048139142990112,
            "count": 0
           },
           {
            "bin_start": 0.0048139142990112,
            "bin_end": 0.0050556659698486,
            "count": 1
           }
          ]
         }
        },
        {
         "name": "std_score_time",
         "dtype": "float64",
         "stats": {
          "unique_count": 5,
          "nan_count": 0,
          "min": "4.599690089745414e-05",
          "max": "0.0071396263694586",
          "histogram": [
           {
            "bin_start": 0.00004599690089745414,
            "bin_end": 0.0007553598477535687,
            "count": 4
           },
           {
            "bin_start": 0.0007553598477535687,
            "bin_end": 0.001464722794609683,
            "count": 0
           },
           {
            "bin_start": 0.001464722794609683,
            "bin_end": 0.0021740857414657977,
            "count": 0
           },
           {
            "bin_start": 0.0021740857414657977,
            "bin_end": 0.0028834486883219123,
            "count": 0
           },
           {
            "bin_start": 0.0028834486883219123,
            "bin_end": 0.003592811635178027,
            "count": 0
           },
           {
            "bin_start": 0.003592811635178027,
            "bin_end": 0.004302174582034141,
            "count": 0
           },
           {
            "bin_start": 0.004302174582034141,
            "bin_end": 0.005011537528890256,
            "count": 0
           },
           {
            "bin_start": 0.005011537528890256,
            "bin_end": 0.00572090047574637,
            "count": 0
           },
           {
            "bin_start": 0.00572090047574637,
            "bin_end": 0.0064302634226024846,
            "count": 0
           },
           {
            "bin_start": 0.0064302634226024846,
            "bin_end": 0.0071396263694586,
            "count": 1
           }
          ]
         }
        },
        {
         "name": "param_batch_size",
         "dtype": "int64",
         "stats": {
          "unique_count": 5,
          "nan_count": 0,
          "min": "688",
          "max": "1282",
          "histogram": [
           {
            "bin_start": 688,
            "bin_end": 747.4,
            "count": 1
           },
           {
            "bin_start": 747.4,
            "bin_end": 806.8,
            "count": 1
           },
           {
            "bin_start": 806.8,
            "bin_end": 866.2,
            "count": 0
           },
           {
            "bin_start": 866.2,
            "bin_end": 925.6,
            "count": 1
           },
           {
            "bin_start": 925.6,
            "bin_end": 985,
            "count": 1
           },
           {
            "bin_start": 985,
            "bin_end": 1044.4,
            "count": 0
           },
           {
            "bin_start": 1044.4,
            "bin_end": 1103.8,
            "count": 0
           },
           {
            "bin_start": 1103.8,
            "bin_end": 1163.2,
            "count": 0
           },
           {
            "bin_start": 1163.2,
            "bin_end": 1222.6,
            "count": 0
           },
           {
            "bin_start": 1222.6,
            "bin_end": 1282,
            "count": 1
           }
          ]
         }
        },
        {
         "name": "param_lr",
         "dtype": "float64",
         "stats": {
          "unique_count": 5,
          "nan_count": 0,
          "min": "0.0052307899791833",
          "max": "0.062169694728212",
          "histogram": [
           {
            "bin_start": 0.0052307899791833,
            "bin_end": 0.01092468045408617,
            "count": 1
           },
           {
            "bin_start": 0.01092468045408617,
            "bin_end": 0.016618570928989038,
            "count": 0
           },
           {
            "bin_start": 0.016618570928989038,
            "bin_end": 0.022312461403891908,
            "count": 2
           },
           {
            "bin_start": 0.022312461403891908,
            "bin_end": 0.02800635187879478,
            "count": 1
           },
           {
            "bin_start": 0.02800635187879478,
            "bin_end": 0.033700242353697646,
            "count": 0
           },
           {
            "bin_start": 0.033700242353697646,
            "bin_end": 0.03939413282860052,
            "count": 0
           },
           {
            "bin_start": 0.03939413282860052,
            "bin_end": 0.045088023303503394,
            "count": 0
           },
           {
            "bin_start": 0.045088023303503394,
            "bin_end": 0.050781913778406254,
            "count": 0
           },
           {
            "bin_start": 0.050781913778406254,
            "bin_end": 0.05647580425330913,
            "count": 0
           },
           {
            "bin_start": 0.05647580425330913,
            "bin_end": 0.062169694728212,
            "count": 1
           }
          ]
         }
        },
        {
         "name": "param_max_epochs",
         "dtype": "int64",
         "stats": {
          "unique_count": 1,
          "nan_count": 0,
          "min": "1000",
          "max": "1000",
          "histogram": [
           {
            "bin_start": 999.5,
            "bin_end": 999.6,
            "count": 0
           },
           {
            "bin_start": 999.6,
            "bin_end": 999.7,
            "count": 0
           },
           {
            "bin_start": 999.7,
            "bin_end": 999.8,
            "count": 0
           },
           {
            "bin_start": 999.8,
            "bin_end": 999.9,
            "count": 0
           },
           {
            "bin_start": 999.9,
            "bin_end": 1000,
            "count": 0
           },
           {
            "bin_start": 1000,
            "bin_end": 1000.1,
            "count": 5
           },
           {
            "bin_start": 1000.1,
            "bin_end": 1000.2,
            "count": 0
           },
           {
            "bin_start": 1000.2,
            "bin_end": 1000.3,
            "count": 0
           },
           {
            "bin_start": 1000.3,
            "bin_end": 1000.4,
            "count": 0
           },
           {
            "bin_start": 1000.4,
            "bin_end": 1000.5,
            "count": 0
           }
          ]
         }
        },
        {
         "name": "param_module__activation_fun",
         "dtype": "object",
         "stats": {
          "unique_count": 2,
          "nan_count": 0,
          "categories": [
           {
            "name": "tanh",
            "count": 4
           },
           {
            "name": "sigmoid",
            "count": 1
           }
          ]
         }
        },
        {
         "name": "param_module__hidden_layers",
         "dtype": "int64",
         "stats": {
          "unique_count": 2,
          "nan_count": 0,
          "min": "1",
          "max": "2",
          "histogram": [
           {
            "bin_start": 1,
            "bin_end": 1.1,
            "count": 3
           },
           {
            "bin_start": 1.1,
            "bin_end": 1.2,
            "count": 0
           },
           {
            "bin_start": 1.2,
            "bin_end": 1.3,
            "count": 0
           },
           {
            "bin_start": 1.3,
            "bin_end": 1.4,
            "count": 0
           },
           {
            "bin_start": 1.4,
            "bin_end": 1.5,
            "count": 0
           },
           {
            "bin_start": 1.5,
            "bin_end": 1.6,
            "count": 0
           },
           {
            "bin_start": 1.6,
            "bin_end": 1.7000000000000002,
            "count": 0
           },
           {
            "bin_start": 1.7000000000000002,
            "bin_end": 1.8,
            "count": 0
           },
           {
            "bin_start": 1.8,
            "bin_end": 1.9,
            "count": 0
           },
           {
            "bin_start": 1.9,
            "bin_end": 2,
            "count": 2
           }
          ]
         }
        },
        {
         "name": "param_module__num_units",
         "dtype": "int64",
         "stats": {
          "unique_count": 5,
          "nan_count": 0,
          "min": "20",
          "max": "95",
          "histogram": [
           {
            "bin_start": 20,
            "bin_end": 27.5,
            "count": 2
           },
           {
            "bin_start": 27.5,
            "bin_end": 35,
            "count": 0
           },
           {
            "bin_start": 35,
            "bin_end": 42.5,
            "count": 1
           },
           {
            "bin_start": 42.5,
            "bin_end": 50,
            "count": 1
           },
           {
            "bin_start": 50,
            "bin_end": 57.5,
            "count": 0
           },
           {
            "bin_start": 57.5,
            "bin_end": 65,
            "count": 0
           },
           {
            "bin_start": 65,
            "bin_end": 72.5,
            "count": 0
           },
           {
            "bin_start": 72.5,
            "bin_end": 80,
            "count": 0
           },
           {
            "bin_start": 80,
            "bin_end": 87.5,
            "count": 0
           },
           {
            "bin_start": 87.5,
            "bin_end": 95,
            "count": 1
           }
          ]
         }
        },
        {
         "name": "param_optimizer",
         "dtype": "object",
         "stats": {
          "unique_count": 1,
          "nan_count": 0,
          "categories": [
           {
            "name": "<class 'torch.optim.sgd.SGD'>",
            "count": 5
           }
          ]
         }
        },
        {
         "name": "param_optimizer__momentum",
         "dtype": "float64",
         "stats": {
          "unique_count": 2,
          "nan_count": 0,
          "min": "0.9",
          "max": "0.95",
          "histogram": [
           {
            "bin_start": 0.9,
            "bin_end": 0.905,
            "count": 2
           },
           {
            "bin_start": 0.905,
            "bin_end": 0.91,
            "count": 0
           },
           {
            "bin_start": 0.91,
            "bin_end": 0.915,
            "count": 0
           },
           {
            "bin_start": 0.915,
            "bin_end": 0.92,
            "count": 0
           },
           {
            "bin_start": 0.92,
            "bin_end": 0.925,
            "count": 0
           },
           {
            "bin_start": 0.925,
            "bin_end": 0.9299999999999999,
            "count": 0
           },
           {
            "bin_start": 0.9299999999999999,
            "bin_end": 0.9349999999999999,
            "count": 0
           },
           {
            "bin_start": 0.9349999999999999,
            "bin_end": 0.94,
            "count": 0
           },
           {
            "bin_start": 0.94,
            "bin_end": 0.945,
            "count": 0
           },
           {
            "bin_start": 0.945,
            "bin_end": 0.95,
            "count": 3
           }
          ]
         }
        },
        {
         "name": "param_optimizer__nesterov",
         "dtype": "bool",
         "stats": {
          "unique_count": 2,
          "nan_count": 0,
          "categories": [
           {
            "name": "True",
            "count": 3
           },
           {
            "name": "False",
            "count": 2
           }
          ]
         }
        },
        {
         "name": "param_optimizer__weight_decay",
         "dtype": "float64",
         "stats": {
          "unique_count": 5,
          "nan_count": 0,
          "min": "0.0043895084264314",
          "max": "0.0250787789469682",
          "histogram": [
           {
            "bin_start": 0.0043895084264314,
            "bin_end": 0.00645843547848508,
            "count": 2
           },
           {
            "bin_start": 0.00645843547848508,
            "bin_end": 0.008527362530538759,
            "count": 1
           },
           {
            "bin_start": 0.008527362530538759,
            "bin_end": 0.01059628958259244,
            "count": 0
           },
           {
            "bin_start": 0.01059628958259244,
            "bin_end": 0.01266521663464612,
            "count": 1
           },
           {
            "bin_start": 0.01266521663464612,
            "bin_end": 0.0147341436866998,
            "count": 0
           },
           {
            "bin_start": 0.0147341436866998,
            "bin_end": 0.01680307073875348,
            "count": 0
           },
           {
            "bin_start": 0.01680307073875348,
            "bin_end": 0.01887199779080716,
            "count": 0
           },
           {
            "bin_start": 0.01887199779080716,
            "bin_end": 0.02094092484286084,
            "count": 0
           },
           {
            "bin_start": 0.02094092484286084,
            "bin_end": 0.02300985189491452,
            "count": 0
           },
           {
            "bin_start": 0.02300985189491452,
            "bin_end": 0.0250787789469682,
            "count": 1
           }
          ]
         }
        },
        {
         "name": "params",
         "dtype": "object",
         "stats": {
          "unique_count": 5,
          "nan_count": 0,
          "categories": [
           {
            "name": "{'batch_size': 688, 'lr': 0.02733588591746839, 'max_epochs': 1000, 'module__activation_fun': 'tanh', 'module__hidden_layers': 1, 'module__num_units': 40, 'optimizer': <class 'torch.optim.sgd.SGD'>, 'optimizer__momentum': 0.9, 'optimizer__nesterov': False, 'optimizer__weight_decay': 0.011578196678145861}",
            "count": 1
           },
           {
            "name": "{'batch_size': 782, 'lr': 0.018446761723881377, 'max_epochs': 1000, 'module__activation_fun': 'tanh', 'module__hidden_layers': 1, 'module__num_units': 21, 'optimizer': <class 'torch.optim.sgd.SGD'>, 'optimizer__momentum': 0.95, 'optimizer__nesterov': True, 'optimizer__weight_decay': 0.0063771432091687}",
            "count": 1
           },
           {
            "name": "3 others",
            "count": 3
           }
          ]
         }
        },
        {
         "name": "split0_test_score",
         "dtype": "float64",
         "stats": {
          "unique_count": 5,
          "nan_count": 0,
          "min": "1.1012885507224195",
          "max": "1.2811322911341387",
          "histogram": [
           {
            "bin_start": 1.1012885507224195,
            "bin_end": 1.1192729247635915,
            "count": 3
           },
           {
            "bin_start": 1.1192729247635915,
            "bin_end": 1.1372572988047633,
            "count": 0
           },
           {
            "bin_start": 1.1372572988047633,
            "bin_end": 1.1552416728459352,
            "count": 0
           },
           {
            "bin_start": 1.1552416728459352,
            "bin_end": 1.1732260468871072,
            "count": 0
           },
           {
            "bin_start": 1.1732260468871072,
            "bin_end": 1.1912104209282792,
            "count": 1
           },
           {
            "bin_start": 1.1912104209282792,
            "bin_end": 1.209194794969451,
            "count": 0
           },
           {
            "bin_start": 1.209194794969451,
            "bin_end": 1.2271791690106229,
            "count": 0
           },
           {
            "bin_start": 1.2271791690106229,
            "bin_end": 1.2451635430517949,
            "count": 0
           },
           {
            "bin_start": 1.2451635430517949,
            "bin_end": 1.263147917092967,
            "count": 0
           },
           {
            "bin_start": 1.263147917092967,
            "bin_end": 1.2811322911341387,
            "count": 1
           }
          ]
         }
        },
        {
         "name": "split1_test_score",
         "dtype": "float64",
         "stats": {
          "unique_count": 5,
          "nan_count": 0,
          "min": "1.0726703386893846",
          "max": "1.104297475147068",
          "histogram": [
           {
            "bin_start": 1.0726703386893846,
            "bin_end": 1.075833052335153,
            "count": 2
           },
           {
            "bin_start": 1.075833052335153,
            "bin_end": 1.0789957659809213,
            "count": 0
           },
           {
            "bin_start": 1.0789957659809213,
            "bin_end": 1.0821584796266897,
            "count": 0
           },
           {
            "bin_start": 1.0821584796266897,
            "bin_end": 1.085321193272458,
            "count": 0
           },
           {
            "bin_start": 1.085321193272458,
            "bin_end": 1.0884839069182264,
            "count": 0
           },
           {
            "bin_start": 1.0884839069182264,
            "bin_end": 1.0916466205639945,
            "count": 0
           },
           {
            "bin_start": 1.0916466205639945,
            "bin_end": 1.094809334209763,
            "count": 1
           },
           {
            "bin_start": 1.094809334209763,
            "bin_end": 1.0979720478555313,
            "count": 1
           },
           {
            "bin_start": 1.0979720478555313,
            "bin_end": 1.1011347615012996,
            "count": 0
           },
           {
            "bin_start": 1.1011347615012996,
            "bin_end": 1.104297475147068,
            "count": 1
           }
          ]
         }
        },
        {
         "name": "split2_test_score",
         "dtype": "float64",
         "stats": {
          "unique_count": 5,
          "nan_count": 0,
          "min": "1.1736061027959774",
          "max": "1.2659088980994726",
          "histogram": [
           {
            "bin_start": 1.1736061027959774,
            "bin_end": 1.182836382326327,
            "count": 1
           },
           {
            "bin_start": 1.182836382326327,
            "bin_end": 1.1920666618566764,
            "count": 0
           },
           {
            "bin_start": 1.1920666618566764,
            "bin_end": 1.201296941387026,
            "count": 1
           },
           {
            "bin_start": 1.201296941387026,
            "bin_end": 1.2105272209173754,
            "count": 1
           },
           {
            "bin_start": 1.2105272209173754,
            "bin_end": 1.219757500447725,
            "count": 0
           },
           {
            "bin_start": 1.219757500447725,
            "bin_end": 1.2289877799780746,
            "count": 0
           },
           {
            "bin_start": 1.2289877799780746,
            "bin_end": 1.238218059508424,
            "count": 0
           },
           {
            "bin_start": 1.238218059508424,
            "bin_end": 1.2474483390387736,
            "count": 1
           },
           {
            "bin_start": 1.2474483390387736,
            "bin_end": 1.256678618569123,
            "count": 0
           },
           {
            "bin_start": 1.256678618569123,
            "bin_end": 1.2659088980994726,
            "count": 1
           }
          ]
         }
        },
        {
         "name": "split3_test_score",
         "dtype": "float64",
         "stats": {
          "unique_count": 5,
          "nan_count": 0,
          "min": "1.2265233936390485",
          "max": "1.3307770829423702",
          "histogram": [
           {
            "bin_start": 1.2265233936390485,
            "bin_end": 1.2369487625693807,
            "count": 1
           },
           {
            "bin_start": 1.2369487625693807,
            "bin_end": 1.2473741314997129,
            "count": 1
           },
           {
            "bin_start": 1.2473741314997129,
            "bin_end": 1.257799500430045,
            "count": 0
           },
           {
            "bin_start": 1.257799500430045,
            "bin_end": 1.2682248693603773,
            "count": 1
           },
           {
            "bin_start": 1.2682248693603773,
            "bin_end": 1.2786502382907092,
            "count": 0
           },
           {
            "bin_start": 1.2786502382907092,
            "bin_end": 1.2890756072210414,
            "count": 0
           },
           {
            "bin_start": 1.2890756072210414,
            "bin_end": 1.2995009761513736,
            "count": 0
           },
           {
            "bin_start": 1.2995009761513736,
            "bin_end": 1.3099263450817058,
            "count": 1
           },
           {
            "bin_start": 1.3099263450817058,
            "bin_end": 1.320351714012038,
            "count": 0
           },
           {
            "bin_start": 1.320351714012038,
            "bin_end": 1.3307770829423702,
            "count": 1
           }
          ]
         }
        },
        {
         "name": "split4_test_score",
         "dtype": "float64",
         "stats": {
          "unique_count": 5,
          "nan_count": 0,
          "min": "1.1973818993770091",
          "max": "1.350710349031409",
          "histogram": [
           {
            "bin_start": 1.1973818993770091,
            "bin_end": 1.212714744342449,
            "count": 1
           },
           {
            "bin_start": 1.212714744342449,
            "bin_end": 1.228047589307889,
            "count": 0
           },
           {
            "bin_start": 1.228047589307889,
            "bin_end": 1.243380434273329,
            "count": 0
           },
           {
            "bin_start": 1.243380434273329,
            "bin_end": 1.258713279238769,
            "count": 1
           },
           {
            "bin_start": 1.258713279238769,
            "bin_end": 1.274046124204209,
            "count": 1
           },
           {
            "bin_start": 1.274046124204209,
            "bin_end": 1.2893789691696491,
            "count": 0
           },
           {
            "bin_start": 1.2893789691696491,
            "bin_end": 1.304711814135089,
            "count": 1
           },
           {
            "bin_start": 1.304711814135089,
            "bin_end": 1.320044659100529,
            "count": 0
           },
           {
            "bin_start": 1.320044659100529,
            "bin_end": 1.335377504065969,
            "count": 0
           },
           {
            "bin_start": 1.335377504065969,
            "bin_end": 1.350710349031409,
            "count": 1
           }
          ]
         }
        },
        {
         "name": "split5_test_score",
         "dtype": "float64",
         "stats": {
          "unique_count": 5,
          "nan_count": 0,
          "min": "1.2838321856986312",
          "max": "1.583283663496263",
          "histogram": [
           {
            "bin_start": 1.2838321856986312,
            "bin_end": 1.3137773334783944,
            "count": 3
           },
           {
            "bin_start": 1.3137773334783944,
            "bin_end": 1.3437224812581576,
            "count": 0
           },
           {
            "bin_start": 1.3437224812581576,
            "bin_end": 1.3736676290379208,
            "count": 1
           },
           {
            "bin_start": 1.3736676290379208,
            "bin_end": 1.403612776817684,
            "count": 0
           },
           {
            "bin_start": 1.403612776817684,
            "bin_end": 1.433557924597447,
            "count": 0
           },
           {
            "bin_start": 1.433557924597447,
            "bin_end": 1.4635030723772102,
            "count": 0
           },
           {
            "bin_start": 1.4635030723772102,
            "bin_end": 1.4934482201569734,
            "count": 0
           },
           {
            "bin_start": 1.4934482201569734,
            "bin_end": 1.5233933679367366,
            "count": 0
           },
           {
            "bin_start": 1.5233933679367366,
            "bin_end": 1.5533385157164998,
            "count": 0
           },
           {
            "bin_start": 1.5533385157164998,
            "bin_end": 1.583283663496263,
            "count": 1
           }
          ]
         }
        },
        {
         "name": "split6_test_score",
         "dtype": "float64",
         "stats": {
          "unique_count": 5,
          "nan_count": 0,
          "min": "1.1745882400388556",
          "max": "1.2984179023065066",
          "histogram": [
           {
            "bin_start": 1.1745882400388556,
            "bin_end": 1.1869712062656208,
            "count": 3
           },
           {
            "bin_start": 1.1869712062656208,
            "bin_end": 1.1993541724923857,
            "count": 0
           },
           {
            "bin_start": 1.1993541724923857,
            "bin_end": 1.211737138719151,
            "count": 0
           },
           {
            "bin_start": 1.211737138719151,
            "bin_end": 1.224120104945916,
            "count": 0
           },
           {
            "bin_start": 1.224120104945916,
            "bin_end": 1.236503071172681,
            "count": 0
           },
           {
            "bin_start": 1.236503071172681,
            "bin_end": 1.2488860373994461,
            "count": 0
           },
           {
            "bin_start": 1.2488860373994461,
            "bin_end": 1.2612690036262113,
            "count": 1
           },
           {
            "bin_start": 1.2612690036262113,
            "bin_end": 1.2736519698529765,
            "count": 0
           },
           {
            "bin_start": 1.2736519698529765,
            "bin_end": 1.2860349360797414,
            "count": 0
           },
           {
            "bin_start": 1.2860349360797414,
            "bin_end": 1.2984179023065066,
            "count": 1
           }
          ]
         }
        },
        {
         "name": "split7_test_score",
         "dtype": "float64",
         "stats": {
          "unique_count": 5,
          "nan_count": 0,
          "min": "1.0766902404620236",
          "max": "1.238718943488329",
          "histogram": [
           {
            "bin_start": 1.0766902404620236,
            "bin_end": 1.092893110764654,
            "count": 1
           },
           {
            "bin_start": 1.092893110764654,
            "bin_end": 1.1090959810672847,
            "count": 0
           },
           {
            "bin_start": 1.1090959810672847,
            "bin_end": 1.1252988513699151,
            "count": 0
           },
           {
            "bin_start": 1.1252988513699151,
            "bin_end": 1.1415017216725458,
            "count": 0
           },
           {
            "bin_start": 1.1415017216725458,
            "bin_end": 1.1577045919751763,
            "count": 1
           },
           {
            "bin_start": 1.1577045919751763,
            "bin_end": 1.1739074622778067,
            "count": 2
           },
           {
            "bin_start": 1.1739074622778067,
            "bin_end": 1.1901103325804374,
            "count": 0
           },
           {
            "bin_start": 1.1901103325804374,
            "bin_end": 1.2063132028830679,
            "count": 0
           },
           {
            "bin_start": 1.2063132028830679,
            "bin_end": 1.2225160731856985,
            "count": 0
           },
           {
            "bin_start": 1.2225160731856985,
            "bin_end": 1.238718943488329,
            "count": 1
           }
          ]
         }
        },
        {
         "name": "split8_test_score",
         "dtype": "float64",
         "stats": {
          "unique_count": 5,
          "nan_count": 0,
          "min": "1.273508708559929",
          "max": "1.3836971534262026",
          "histogram": [
           {
            "bin_start": 1.273508708559929,
            "bin_end": 1.2845275530465563,
            "count": 2
           },
           {
            "bin_start": 1.2845275530465563,
            "bin_end": 1.2955463975331838,
            "count": 0
           },
           {
            "bin_start": 1.2955463975331838,
            "bin_end": 1.306565242019811,
            "count": 0
           },
           {
            "bin_start": 1.306565242019811,
            "bin_end": 1.3175840865064385,
            "count": 0
           },
           {
            "bin_start": 1.3175840865064385,
            "bin_end": 1.3286029309930658,
            "count": 2
           },
           {
            "bin_start": 1.3286029309930658,
            "bin_end": 1.339621775479693,
            "count": 0
           },
           {
            "bin_start": 1.339621775479693,
            "bin_end": 1.3506406199663206,
            "count": 0
           },
           {
            "bin_start": 1.3506406199663206,
            "bin_end": 1.3616594644529478,
            "count": 0
           },
           {
            "bin_start": 1.3616594644529478,
            "bin_end": 1.3726783089395753,
            "count": 0
           },
           {
            "bin_start": 1.3726783089395753,
            "bin_end": 1.3836971534262026,
            "count": 1
           }
          ]
         }
        },
        {
         "name": "split9_test_score",
         "dtype": "float64",
         "stats": {
          "unique_count": 5,
          "nan_count": 0,
          "min": "1.0148103599662357",
          "max": "1.1438993414243062",
          "histogram": [
           {
            "bin_start": 1.0148103599662357,
            "bin_end": 1.0277192581120427,
            "count": 1
           },
           {
            "bin_start": 1.0277192581120427,
            "bin_end": 1.0406281562578499,
            "count": 0
           },
           {
            "bin_start": 1.0406281562578499,
            "bin_end": 1.0535370544036569,
            "count": 0
           },
           {
            "bin_start": 1.0535370544036569,
            "bin_end": 1.0664459525494638,
            "count": 0
           },
           {
            "bin_start": 1.0664459525494638,
            "bin_end": 1.079354850695271,
            "count": 1
           },
           {
            "bin_start": 1.079354850695271,
            "bin_end": 1.092263748841078,
            "count": 2
           },
           {
            "bin_start": 1.092263748841078,
            "bin_end": 1.105172646986885,
            "count": 0
           },
           {
            "bin_start": 1.105172646986885,
            "bin_end": 1.118081545132692,
            "count": 0
           },
           {
            "bin_start": 1.118081545132692,
            "bin_end": 1.1309904432784992,
            "count": 0
           },
           {
            "bin_start": 1.1309904432784992,
            "bin_end": 1.1438993414243062,
            "count": 1
           }
          ]
         }
        },
        {
         "name": "mean_test_score",
         "dtype": "float64",
         "stats": {
          "unique_count": 5,
          "nan_count": 0,
          "min": "1.1988475123372404",
          "max": "1.2532999565702645",
          "histogram": [
           {
            "bin_start": 1.1988475123372404,
            "bin_end": 1.2042927567605428,
            "count": 2
           },
           {
            "bin_start": 1.2042927567605428,
            "bin_end": 1.2097380011838452,
            "count": 2
           },
           {
            "bin_start": 1.2097380011838452,
            "bin_end": 1.2151832456071476,
            "count": 0
           },
           {
            "bin_start": 1.2151832456071476,
            "bin_end": 1.22062849003045,
            "count": 0
           },
           {
            "bin_start": 1.22062849003045,
            "bin_end": 1.2260737344537525,
            "count": 0
           },
           {
            "bin_start": 1.2260737344537525,
            "bin_end": 1.2315189788770549,
            "count": 0
           },
           {
            "bin_start": 1.2315189788770549,
            "bin_end": 1.2369642233003573,
            "count": 0
           },
           {
            "bin_start": 1.2369642233003573,
            "bin_end": 1.2424094677236597,
            "count": 0
           },
           {
            "bin_start": 1.2424094677236597,
            "bin_end": 1.247854712146962,
            "count": 0
           },
           {
            "bin_start": 1.247854712146962,
            "bin_end": 1.2532999565702645,
            "count": 1
           }
          ]
         }
        },
        {
         "name": "std_test_score",
         "dtype": "float64",
         "stats": {
          "unique_count": 5,
          "nan_count": 0,
          "min": "0.0818649612461589",
          "max": "0.1503214998378003",
          "histogram": [
           {
            "bin_start": 0.0818649612461589,
            "bin_end": 0.08871061510532303,
            "count": 3
           },
           {
            "bin_start": 0.08871061510532303,
            "bin_end": 0.09555626896448718,
            "count": 0
           },
           {
            "bin_start": 0.09555626896448718,
            "bin_end": 0.10240192282365132,
            "count": 1
           },
           {
            "bin_start": 0.10240192282365132,
            "bin_end": 0.10924757668281546,
            "count": 0
           },
           {
            "bin_start": 0.10924757668281546,
            "bin_end": 0.11609323054197959,
            "count": 0
           },
           {
            "bin_start": 0.11609323054197959,
            "bin_end": 0.12293888440114374,
            "count": 0
           },
           {
            "bin_start": 0.12293888440114374,
            "bin_end": 0.1297845382603079,
            "count": 0
           },
           {
            "bin_start": 0.1297845382603079,
            "bin_end": 0.13663019211947203,
            "count": 0
           },
           {
            "bin_start": 0.13663019211947203,
            "bin_end": 0.14347584597863616,
            "count": 0
           },
           {
            "bin_start": 0.14347584597863616,
            "bin_end": 0.1503214998378003,
            "count": 1
           }
          ]
         }
        },
        {
         "name": "rank_test_score",
         "dtype": "int64",
         "stats": {
          "unique_count": 5,
          "nan_count": 0,
          "min": "384",
          "max": "388",
          "histogram": [
           {
            "bin_start": 384,
            "bin_end": 384.4,
            "count": 1
           },
           {
            "bin_start": 384.4,
            "bin_end": 384.8,
            "count": 0
           },
           {
            "bin_start": 384.8,
            "bin_end": 385.2,
            "count": 1
           },
           {
            "bin_start": 385.2,
            "bin_end": 385.6,
            "count": 0
           },
           {
            "bin_start": 385.6,
            "bin_end": 386,
            "count": 0
           },
           {
            "bin_start": 386,
            "bin_end": 386.4,
            "count": 1
           },
           {
            "bin_start": 386.4,
            "bin_end": 386.8,
            "count": 0
           },
           {
            "bin_start": 386.8,
            "bin_end": 387.2,
            "count": 1
           },
           {
            "bin_start": 387.2,
            "bin_end": 387.6,
            "count": 0
           },
           {
            "bin_start": 387.6,
            "bin_end": 388,
            "count": 1
           }
          ]
         }
        },
        {
         "name": "_deepnote_index_column",
         "dtype": "int64"
        }
       ],
       "rows": [
        {
         "Unnamed: 0": 759,
         "mean_fit_time": 2.892951273918152,
         "std_fit_time": 0.5493007326774081,
         "mean_score_time": 0.0050556659698486,
         "std_score_time": 0.0071396263694586,
         "param_batch_size": 688,
         "param_lr": 0.0273358859174683,
         "param_max_epochs": 1000,
         "param_module__activation_fun": "tanh",
         "param_module__hidden_layers": 1,
         "param_module__num_units": 40,
         "param_optimizer": "<class 'torch.optim.sgd.SGD'>",
         "param_optimizer__momentum": 0.9,
         "param_optimizer__nesterov": false,
         "param_optimizer__weight_decay": 0.0115781966781458,
         "params": "{'batch_size': 688, 'lr': 0.02733588591746839, 'max_epochs': 1000, 'module__activation_fun': 'tanh'…",
         "split0_test_score": 1.1130448585950343,
         "split1_test_score": 1.0936826390907504,
         "split2_test_score": 1.2406576265181817,
         "split3_test_score": 1.2644380414508338,
         "split4_test_score": 1.2484427184370674,
         "split5_test_score": 1.2838321856986312,
         "split6_test_score": 1.180072372036993,
         "split7_test_score": 1.1577930945090782,
         "split8_test_score": 1.327328057763608,
         "split9_test_score": 1.079183529272224,
         "mean_test_score": 1.1988475123372404,
         "std_test_score": 0.0818649612461589,
         "rank_test_score": 388,
         "_deepnote_index_column": 0
        },
        {
         "Unnamed: 0": 191,
         "mean_fit_time": 3.809690523147583,
         "std_fit_time": 0.7953844041093158,
         "mean_score_time": 0.0026381492614746,
         "std_score_time": 0.0001747340732213,
         "param_batch_size": 782,
         "param_lr": 0.0184467617238813,
         "param_max_epochs": 1000,
         "param_module__activation_fun": "tanh",
         "param_module__hidden_layers": 1,
         "param_module__num_units": 21,
         "param_optimizer": "<class 'torch.optim.sgd.SGD'>",
         "param_optimizer__momentum": 0.95,
         "param_optimizer__nesterov": true,
         "param_optimizer__weight_decay": 0.0063771432091687,
         "params": "{'batch_size': 782, 'lr': 0.018446761723881377, 'max_epochs': 1000, 'module__activation_fun': 'tanh…",
         "split0_test_score": 1.1012885507224195,
         "split1_test_score": 1.096361535720359,
         "split2_test_score": 1.2042881669406604,
         "split3_test_score": 1.3307770829423702,
         "split4_test_score": 1.3025499787041568,
         "split5_test_score": 1.2872557999160057,
         "split6_test_score": 1.1745882400388556,
         "split7_test_score": 1.1683600188085908,
         "split8_test_score": 1.273508708559929,
         "split9_test_score": 1.0848639215709586,
         "mean_test_score": 1.2023842003924303,
         "std_test_score": 0.0871698552687361,
         "rank_test_score": 387,
         "_deepnote_index_column": 1
        },
        {
         "Unnamed: 0": 515,
         "mean_fit_time": 3.1383655071258545,
         "std_fit_time": 0.9751209380005784,
         "mean_score_time": 0.0026386976242065,
         "std_score_time": 0.00004599690089745414,
         "param_batch_size": 1282,
         "param_lr": 0.0222733368124694,
         "param_max_epochs": 1000,
         "param_module__activation_fun": "tanh",
         "param_module__hidden_layers": 1,
         "param_module__num_units": 95,
         "param_optimizer": "<class 'torch.optim.sgd.SGD'>",
         "param_optimizer__momentum": 0.9,
         "param_optimizer__nesterov": true,
         "param_optimizer__weight_decay": 0.0069816498467196,
         "params": "{'batch_size': 1282, 'lr': 0.022273336812469454, 'max_epochs': 1000, 'module__activation_fun': 'tan…",
         "split0_test_score": 1.2811322911341387,
         "split1_test_score": 1.0743957133053388,
         "split2_test_score": 1.1736061027959774,
         "split3_test_score": 1.2265233936390485,
         "split4_test_score": 1.1973818993770091,
         "split5_test_score": 1.583283663496263,
         "split6_test_score": 1.1767919447301023,
         "split7_test_score": 1.0766902404620236,
         "split8_test_score": 1.27693675059293,
         "split9_test_score": 1.0148103599662357,
         "mean_test_score": 1.2081552359499068,
         "std_test_score": 0.1503214998378003,
         "rank_test_score": 386,
         "_deepnote_index_column": 2
        },
        {
         "Unnamed: 0": 202,
         "mean_fit_time": 3.0618200302124023,
         "std_fit_time": 0.7453326244139946,
         "mean_score_time": 0.0026725769042968,
         "std_score_time": 0.00009489402093883048,
         "param_batch_size": 928,
         "param_lr": 0.062169694728212,
         "param_max_epochs": 1000,
         "param_module__activation_fun": "sigmoid",
         "param_module__hidden_layers": 2,
         "param_module__num_units": 43,
         "param_optimizer": "<class 'torch.optim.sgd.SGD'>",
         "param_optimizer__momentum": 0.95,
         "param_optimizer__nesterov": false,
         "param_optimizer__weight_decay": 0.0043895084264314,
         "params": "{'batch_size': 928, 'lr': 0.06216969472821204, 'max_epochs': 1000, 'module__activation_fun': 'sigmo…",
         "split0_test_score": 1.101726200277532,
         "split1_test_score": 1.0726703386893846,
         "split2_test_score": 1.1935482419523082,
         "split3_test_score": 1.2452609202915566,
         "split4_test_score": 1.2639413468427676,
         "split5_test_score": 1.309820829477525,
         "split6_test_score": 1.2984179023065066,
         "split7_test_score": 1.1421614353145872,
         "split8_test_score": 1.323802393910132,
         "split9_test_score": 1.1438993414243062,
         "mean_test_score": 1.2095248950486606,
         "std_test_score": 0.0864339819197397,
         "rank_test_score": 385,
         "_deepnote_index_column": 3
        },
        {
         "Unnamed: 0": 215,
         "mean_fit_time": 3.475119209289551,
         "std_fit_time": 0.7747002527659713,
         "mean_score_time": 0.0026479959487915,
         "std_score_time": 0.00005658153114883636,
         "param_batch_size": 914,
         "param_lr": 0.0052307899791833,
         "param_max_epochs": 1000,
         "param_module__activation_fun": "tanh",
         "param_module__hidden_layers": 2,
         "param_module__num_units": 20,
         "param_optimizer": "<class 'torch.optim.sgd.SGD'>",
         "param_optimizer__momentum": 0.95,
         "param_optimizer__nesterov": true,
         "param_optimizer__weight_decay": 0.0250787789469682,
         "params": "{'batch_size': 914, 'lr': 0.005230789979183369, 'max_epochs': 1000, 'module__activation_fun': 'tanh…",
         "split0_test_score": 1.184976541570255,
         "split1_test_score": 1.104297475147068,
         "split2_test_score": 1.2659088980994726,
         "split3_test_score": 1.3091747066692303,
         "split4_test_score": 1.350710349031409,
         "split5_test_score": 1.3551678636244364,
         "split6_test_score": 1.2593620917514752,
         "split7_test_score": 1.238718943488329,
         "split8_test_score": 1.3836971534262026,
         "split9_test_score": 1.0809855428947643,
         "mean_test_score": 1.2532999565702645,
         "std_test_score": 0.0984691313018158,
         "rank_test_score": 384,
         "_deepnote_index_column": 4
        }
       ]
      },
      "text/plain": "   Unnamed: 0  mean_fit_time  std_fit_time  mean_score_time  std_score_time  \\\n0         759       2.892951      0.549301         0.005056        0.007140   \n1         191       3.809691      0.795384         0.002638        0.000175   \n2         515       3.138366      0.975121         0.002639        0.000046   \n3         202       3.061820      0.745333         0.002673        0.000095   \n4         215       3.475119      0.774700         0.002648        0.000057   \n\n   param_batch_size  param_lr  param_max_epochs param_module__activation_fun  \\\n0               688  0.027336              1000                         tanh   \n1               782  0.018447              1000                         tanh   \n2              1282  0.022273              1000                         tanh   \n3               928  0.062170              1000                      sigmoid   \n4               914  0.005231              1000                         tanh   \n\n   param_module__hidden_layers  ...  split3_test_score split4_test_score  \\\n0                            1  ...           1.264438          1.248443   \n1                            1  ...           1.330777          1.302550   \n2                            1  ...           1.226523          1.197382   \n3                            2  ...           1.245261          1.263941   \n4                            2  ...           1.309175          1.350710   \n\n   split5_test_score  split6_test_score  split7_test_score split8_test_score  \\\n0           1.283832           1.180072           1.157793          1.327328   \n1           1.287256           1.174588           1.168360          1.273509   \n2           1.583284           1.176792           1.076690          1.276937   \n3           1.309821           1.298418           1.142161          1.323802   \n4           1.355168           1.259362           1.238719          1.383697   \n\n   split9_test_score  mean_test_score  std_test_score  rank_test_score  \n0           1.079184         1.198848        0.081865              388  \n1           1.084864         1.202384        0.087170              387  \n2           1.014810         1.208155        0.150321              386  \n3           1.143899         1.209525        0.086434              385  \n4           1.080986         1.253300        0.098469              384  \n\n[5 rows x 29 columns]",
      "text/html": "<div>\n<style scoped>\n    .dataframe tbody tr th:only-of-type {\n        vertical-align: middle;\n    }\n\n    .dataframe tbody tr th {\n        vertical-align: top;\n    }\n\n    .dataframe thead th {\n        text-align: right;\n    }\n</style>\n<table border=\"1\" class=\"dataframe\">\n  <thead>\n    <tr style=\"text-align: right;\">\n      <th></th>\n      <th>Unnamed: 0</th>\n      <th>mean_fit_time</th>\n      <th>std_fit_time</th>\n      <th>mean_score_time</th>\n      <th>std_score_time</th>\n      <th>param_batch_size</th>\n      <th>param_lr</th>\n      <th>param_max_epochs</th>\n      <th>param_module__activation_fun</th>\n      <th>param_module__hidden_layers</th>\n      <th>...</th>\n      <th>split3_test_score</th>\n      <th>split4_test_score</th>\n      <th>split5_test_score</th>\n      <th>split6_test_score</th>\n      <th>split7_test_score</th>\n      <th>split8_test_score</th>\n      <th>split9_test_score</th>\n      <th>mean_test_score</th>\n      <th>std_test_score</th>\n      <th>rank_test_score</th>\n    </tr>\n  </thead>\n  <tbody>\n    <tr>\n      <th>0</th>\n      <td>759</td>\n      <td>2.892951</td>\n      <td>0.549301</td>\n      <td>0.005056</td>\n      <td>0.007140</td>\n      <td>688</td>\n      <td>0.027336</td>\n      <td>1000</td>\n      <td>tanh</td>\n      <td>1</td>\n      <td>...</td>\n      <td>1.264438</td>\n      <td>1.248443</td>\n      <td>1.283832</td>\n      <td>1.180072</td>\n      <td>1.157793</td>\n      <td>1.327328</td>\n      <td>1.079184</td>\n      <td>1.198848</td>\n      <td>0.081865</td>\n      <td>388</td>\n    </tr>\n    <tr>\n      <th>1</th>\n      <td>191</td>\n      <td>3.809691</td>\n      <td>0.795384</td>\n      <td>0.002638</td>\n      <td>0.000175</td>\n      <td>782</td>\n      <td>0.018447</td>\n      <td>1000</td>\n      <td>tanh</td>\n      <td>1</td>\n      <td>...</td>\n      <td>1.330777</td>\n      <td>1.302550</td>\n      <td>1.287256</td>\n      <td>1.174588</td>\n      <td>1.168360</td>\n      <td>1.273509</td>\n      <td>1.084864</td>\n      <td>1.202384</td>\n      <td>0.087170</td>\n      <td>387</td>\n    </tr>\n    <tr>\n      <th>2</th>\n      <td>515</td>\n      <td>3.138366</td>\n      <td>0.975121</td>\n      <td>0.002639</td>\n      <td>0.000046</td>\n      <td>1282</td>\n      <td>0.022273</td>\n      <td>1000</td>\n      <td>tanh</td>\n      <td>1</td>\n      <td>...</td>\n      <td>1.226523</td>\n      <td>1.197382</td>\n      <td>1.583284</td>\n      <td>1.176792</td>\n      <td>1.076690</td>\n      <td>1.276937</td>\n      <td>1.014810</td>\n      <td>1.208155</td>\n      <td>0.150321</td>\n      <td>386</td>\n    </tr>\n    <tr>\n      <th>3</th>\n      <td>202</td>\n      <td>3.061820</td>\n      <td>0.745333</td>\n      <td>0.002673</td>\n      <td>0.000095</td>\n      <td>928</td>\n      <td>0.062170</td>\n      <td>1000</td>\n      <td>sigmoid</td>\n      <td>2</td>\n      <td>...</td>\n      <td>1.245261</td>\n      <td>1.263941</td>\n      <td>1.309821</td>\n      <td>1.298418</td>\n      <td>1.142161</td>\n      <td>1.323802</td>\n      <td>1.143899</td>\n      <td>1.209525</td>\n      <td>0.086434</td>\n      <td>385</td>\n    </tr>\n    <tr>\n      <th>4</th>\n      <td>215</td>\n      <td>3.475119</td>\n      <td>0.774700</td>\n      <td>0.002648</td>\n      <td>0.000057</td>\n      <td>914</td>\n      <td>0.005231</td>\n      <td>1000</td>\n      <td>tanh</td>\n      <td>2</td>\n      <td>...</td>\n      <td>1.309175</td>\n      <td>1.350710</td>\n      <td>1.355168</td>\n      <td>1.259362</td>\n      <td>1.238719</td>\n      <td>1.383697</td>\n      <td>1.080986</td>\n      <td>1.253300</td>\n      <td>0.098469</td>\n      <td>384</td>\n    </tr>\n  </tbody>\n</table>\n<p>5 rows × 29 columns</p>\n</div>"
     },
     "metadata": {}
    }
   ]
  },
  {
   "cell_type": "code",
   "source": "\n# define the parameters' values\nparams = {\n    'lr': [0.024, 0.025, 0.0273, 0.028, 0.029, 0.03],\n    'max_epochs': [1000], #upper bound of max number of epochs\n    'optimizer': [torch.optim.SGD],\n    'optimizer__momentum': [0.9, 0.95], ##optimizer__ indicates that it is a parameter of the optimizer\n    'optimizer__weight_decay': [0.009, 0.01, 0.0115, 0.012, 0.013],\n    'optimizer__nesterov': [False, True],\n    'module__num_units': [36, 38, 40, 42, 44], #module__ indicates that it is a parameter of the module\n    'module__hidden_layers': [1],\n    'module__activation_fun': [\"tanh\"],\n    'batch_size': [660, 688, 700, 720],\n}\n\n# define the grid search\ngs = GridSearchCV(\n    model,\n    param_grid=params,\n    n_jobs=-1,\n    scoring=make_scorer(mee), #scoring is based on the highest value so we use the inverse of the MEE loss function\n    cv=k,\n    verbose=10\n)\n# run the grid search\ngs.fit(X, y)\n",
   "metadata": {
    "cell_id": "2c1b2cbb-2e12-4f41-a770-396d4588c705",
    "tags": [],
    "deepnote_to_be_reexecuted": false,
    "source_hash": "d40528df",
    "execution_start": 1642867101345,
    "execution_millis": 743,
    "deepnote_cell_type": "code"
   },
   "outputs": [
    {
     "name": "stdout",
     "text": "Fitting 10 folds for each of 2400 candidates, totalling 24000 fits\n",
     "output_type": "stream"
    }
   ],
   "execution_count": null
  },
  {
   "cell_type": "code",
   "source": "%%script false --no-raise-error\n\ndf_results = pd.DataFrame(data=gs.cv_results_) #trasform into a pandas dataframe\ndf_results.sort_values(by=\"rank_test_score\", axis=0, ascending=False, inplace=True) #sort rank values in decreasing order \ndf_results.dropna(inplace=True) #delete nan values \ndf_results = df_results[:50] #keep only top 50 models\npd.DataFrame.to_csv(df_results, \"pytorch_results/grid_search.csv\")",
   "metadata": {
    "cell_id": "6092d8eb-d5ce-4a24-91ba-ffccc33179bb",
    "tags": [],
    "deepnote_to_be_reexecuted": true,
    "source_hash": "af86f9ad",
    "deepnote_cell_type": "code"
   },
   "outputs": [],
   "execution_count": null
  },
  {
   "cell_type": "code",
   "metadata": {
    "cell_id": "00035-35634286-bbca-405f-826c-e98eac51d714",
    "deepnote_to_be_reexecuted": true,
    "source_hash": "9dd11431",
    "execution_start": 1642822587788,
    "execution_millis": 0,
    "output_cleared": false,
    "deepnote_cell_type": "code"
   },
   "source": "#get the best params for the grid search (cannot use rand_gs.best_estimator directly since it will yield the worst estimator based on MEE)\nbest_params = df_results['params'][0]\nprint(f\"Mean error on the {k}-folds (MEE) on best model: {df_results['mean_test_score'][0]}\\n\")\nprint(f\"Best params: {best_params}\")",
   "execution_count": null,
   "outputs": [
    {
     "name": "stdout",
     "text": "Mean error on the 10-folds (MEE) on best model: 1.1988475123372404\n\nBest params: {'batch_size': 688, 'lr': 0.02733588591746839, 'max_epochs': 1000, 'module__activation_fun': 'tanh', 'module__hidden_layers': 1, 'module__num_units': 40, 'optimizer': <class 'torch.optim.sgd.SGD'>, 'optimizer__momentum': 0.9, 'optimizer__nesterov': False, 'optimizer__weight_decay': 0.011578196678145861}\n",
     "output_type": "stream"
    }
   ]
  },
  {
   "cell_type": "code",
   "metadata": {
    "cell_id": "00036-0ea2098c-908a-471d-96ea-16015bf6d6d9",
    "deepnote_to_be_reexecuted": true,
    "source_hash": "2dfebc36",
    "execution_start": 1642822587789,
    "execution_millis": 7,
    "output_cleared": false,
    "deepnote_cell_type": "code"
   },
   "source": "best_models = list() #list of the top ten models of the final randomized search\neval_best_models = list()\n\nfor i in range(10):\n    ### GET HYPERPARAMETERS AND FIX DICTIONARY\n    best_params_i = df_results['params'][i]\n    first_part = str(best_params_i.split(\"'optimizer': <class 'torch.optim.sgd.SGD'>, \", 1)[0]) #manually remove the optimizer parameter\n    second_part = str(best_params_i.split(\"'optimizer': <class 'torch.optim.sgd.SGD'>, \", 1)[1])\n    best_params_i = first_part+second_part\n    best_params_i = ast.literal_eval(best_params_i)\n\n    print(best_params_i)\n    ### SET HYPERPARAMETERS ###\n    HIDDEN_LAYERS = best_params_i['module__hidden_layers']\n    NUM_UNITS = best_params_i['module__num_units']\n    ACTIVATION_FUN = best_params_i['module__activation_fun']\n    OPTIMIZER = 'SGD'\n    LR = best_params_i['lr']\n    WEIGHT_DECAY = best_params_i['optimizer__weight_decay']\n    BATCH = best_params_i['batch_size']\n    MAX_EPOCHS = best_params_i['max_epochs']\n    NESTEROV = best_params_i['optimizer__nesterov']\n    MOMENTUM = best_params_i['optimizer__momentum']\n\n    ### DEFINE MODULES AND MODELS ###\n    module_i = MyModule(NUM_UNITS, ACTIVATION_FUN, HIDDEN_LAYERS)\n    eval_module_i = MyModule(NUM_UNITS, ACTIVATION_FUN, HIDDEN_LAYERS)\n\n    model_i = NeuralNetRegressor(\n        module = module_i,\n        criterion=nn.MSELoss,\n        max_epochs=MAX_EPOCHS,\n        lr=LR,\n        batch_size=BATCH,\n        optimizer=torch.optim.SGD,\n        optimizer__momentum=MOMENTUM,\n        callbacks=[('early_stoppping', EarlyStopping(monitor='valid_loss', patience=PATIENCE, threshold=THRESHOLD))],\n    )\n\n    eval_model_i = NeuralNetRegressor(\n        module = eval_module_i,\n        criterion=nn.MSELoss,\n        max_epochs=MAX_EPOCHS,\n        lr=LR,\n        batch_size=BATCH,\n        optimizer=torch.optim.SGD,\n        optimizer__momentum=MOMENTUM,\n    )\n\n    best_models.append(model_i)\n    eval_best_models.append(eval_model_i)",
   "execution_count": null,
   "outputs": [
    {
     "name": "stdout",
     "text": "{'batch_size': 688, 'lr': 0.02733588591746839, 'max_epochs': 1000, 'module__activation_fun': 'tanh', 'module__hidden_layers': 1, 'module__num_units': 40, 'optimizer__momentum': 0.9, 'optimizer__nesterov': False, 'optimizer__weight_decay': 0.011578196678145861}\n{'batch_size': 782, 'lr': 0.018446761723881377, 'max_epochs': 1000, 'module__activation_fun': 'tanh', 'module__hidden_layers': 1, 'module__num_units': 21, 'optimizer__momentum': 0.95, 'optimizer__nesterov': True, 'optimizer__weight_decay': 0.0063771432091687}\n{'batch_size': 1282, 'lr': 0.022273336812469454, 'max_epochs': 1000, 'module__activation_fun': 'tanh', 'module__hidden_layers': 1, 'module__num_units': 95, 'optimizer__momentum': 0.9, 'optimizer__nesterov': True, 'optimizer__weight_decay': 0.0069816498467196765}\n{'batch_size': 928, 'lr': 0.06216969472821204, 'max_epochs': 1000, 'module__activation_fun': 'sigmoid', 'module__hidden_layers': 2, 'module__num_units': 43, 'optimizer__momentum': 0.95, 'optimizer__nesterov': False, 'optimizer__weight_decay': 0.004389508426431477}\n{'batch_size': 914, 'lr': 0.005230789979183369, 'max_epochs': 1000, 'module__activation_fun': 'tanh', 'module__hidden_layers': 2, 'module__num_units': 20, 'optimizer__momentum': 0.95, 'optimizer__nesterov': True, 'optimizer__weight_decay': 0.02507877894696825}\n{'batch_size': 927, 'lr': 0.07689593136597385, 'max_epochs': 1000, 'module__activation_fun': 'sigmoid', 'module__hidden_layers': 1, 'module__num_units': 114, 'optimizer__momentum': 0.95, 'optimizer__nesterov': False, 'optimizer__weight_decay': 0.0055668524278665015}\n{'batch_size': 724, 'lr': 0.09874496112431758, 'max_epochs': 1000, 'module__activation_fun': 'tanh', 'module__hidden_layers': 1, 'module__num_units': 32, 'optimizer__momentum': 0.9, 'optimizer__nesterov': False, 'optimizer__weight_decay': 0.01634972537252005}\n{'batch_size': 902, 'lr': 0.018438654335181607, 'max_epochs': 1000, 'module__activation_fun': 'tanh', 'module__hidden_layers': 1, 'module__num_units': 119, 'optimizer__momentum': 0.95, 'optimizer__nesterov': True, 'optimizer__weight_decay': 0.01200340894630477}\n{'batch_size': 713, 'lr': 0.013557974998877342, 'max_epochs': 1000, 'module__activation_fun': 'tanh', 'module__hidden_layers': 2, 'module__num_units': 62, 'optimizer__momentum': 0.95, 'optimizer__nesterov': False, 'optimizer__weight_decay': 0.04816441648449132}\n{'batch_size': 1109, 'lr': 0.10823695560575695, 'max_epochs': 1000, 'module__activation_fun': 'tanh', 'module__hidden_layers': 1, 'module__num_units': 24, 'optimizer__momentum': 0.9, 'optimizer__nesterov': False, 'optimizer__weight_decay': 0.01742642218942223}\n",
     "output_type": "stream"
    }
   ]
  },
  {
   "cell_type": "code",
   "metadata": {
    "cell_id": "00063-4e9e8339-09fe-43e2-b61e-7212549c3846",
    "deepnote_to_be_reexecuted": true,
    "source_hash": "88d9139b",
    "execution_start": 1642822587838,
    "execution_millis": 34844,
    "output_cleared": false,
    "deepnote_cell_type": "code"
   },
   "source": "#Wall time: 1min 6s (Michele)\nepochs_best_models = list()\n\n#fit every model\nfor model in best_models:\n    model.fit(X,y)\n    EPOCHS = len(model.history)\n    epochs_best_models.append(EPOCHS)\n",
   "execution_count": null,
   "outputs": [
    {
     "name": "stdout",
     "text": "    104        \u001b[36m1.4223\u001b[0m        1.1846  0.0191\n    105        \u001b[36m1.4128\u001b[0m        1.1756  0.0195\n    106        \u001b[36m1.3988\u001b[0m        \u001b[32m1.1616\u001b[0m  0.0323\n    107        \u001b[36m1.3829\u001b[0m        \u001b[32m1.1481\u001b[0m  0.0164\n    108        \u001b[36m1.3681\u001b[0m        \u001b[32m1.1369\u001b[0m  0.0164\n    109        \u001b[36m1.3548\u001b[0m        \u001b[32m1.1260\u001b[0m  0.0169\n    110        \u001b[36m1.3425\u001b[0m        \u001b[32m1.1142\u001b[0m  0.0330\n    111        \u001b[36m1.3310\u001b[0m        \u001b[32m1.1023\u001b[0m  0.0176\n    112        \u001b[36m1.3205\u001b[0m        \u001b[32m1.0930\u001b[0m  0.0190\n    113        \u001b[36m1.3112\u001b[0m        \u001b[32m1.0912\u001b[0m  0.0189\n    114        \u001b[36m1.3056\u001b[0m        1.0941  0.0190\n    115        \u001b[36m1.3031\u001b[0m        1.0947  0.0281\n    116        \u001b[36m1.2993\u001b[0m        1.0929  0.0163\n    117        \u001b[36m1.2951\u001b[0m        \u001b[32m1.0906\u001b[0m  0.0163\n    118        \u001b[36m1.2915\u001b[0m        \u001b[32m1.0888\u001b[0m  0.0169\n    119        \u001b[36m1.2880\u001b[0m        \u001b[32m1.0876\u001b[0m  0.0315\n    120        \u001b[36m1.2852\u001b[0m        \u001b[32m1.0841\u001b[0m  0.0162\n    121        \u001b[36m1.2825\u001b[0m        \u001b[32m1.0777\u001b[0m  0.0166\n    122        \u001b[36m1.2787\u001b[0m        \u001b[32m1.0710\u001b[0m  0.0159\n    123        \u001b[36m1.2748\u001b[0m        \u001b[32m1.0667\u001b[0m  0.0162\n    124        \u001b[36m1.2721\u001b[0m        \u001b[32m1.0649\u001b[0m  0.0324\n    125        \u001b[36m1.2704\u001b[0m        \u001b[32m1.0630\u001b[0m  0.0160\n    126        \u001b[36m1.2682\u001b[0m        \u001b[32m1.0604\u001b[0m  0.0165\n    127        \u001b[36m1.2652\u001b[0m        \u001b[32m1.0581\u001b[0m  0.0160\n    128        \u001b[36m1.2623\u001b[0m        \u001b[32m1.0575\u001b[0m  0.0166\n    129        \u001b[36m1.2597\u001b[0m        1.0588  0.0327\n    130        \u001b[36m1.2582\u001b[0m        1.0599  0.0166\n    131        \u001b[36m1.2570\u001b[0m        1.0595  0.0162\n    132        \u001b[36m1.2551\u001b[0m        1.0580  0.0154\n    133        \u001b[36m1.2528\u001b[0m        \u001b[32m1.0564\u001b[0m  0.0171\n    134        \u001b[36m1.2504\u001b[0m        \u001b[32m1.0553\u001b[0m  0.0288\n    135        \u001b[36m1.2481\u001b[0m        \u001b[32m1.0539\u001b[0m  0.0167\n    136        \u001b[36m1.2458\u001b[0m        \u001b[32m1.0512\u001b[0m  0.0161\n    137        \u001b[36m1.2429\u001b[0m        \u001b[32m1.0479\u001b[0m  0.0161\n    138        \u001b[36m1.2396\u001b[0m        \u001b[32m1.0453\u001b[0m  0.0365\n    139        \u001b[36m1.2366\u001b[0m        \u001b[32m1.0436\u001b[0m  0.0166\n    140        \u001b[36m1.2341\u001b[0m        \u001b[32m1.0425\u001b[0m  0.0161\n    141        \u001b[36m1.2319\u001b[0m        \u001b[32m1.0412\u001b[0m  0.0169\n    142        \u001b[36m1.2296\u001b[0m        \u001b[32m1.0396\u001b[0m  0.0160\n    143        \u001b[36m1.2272\u001b[0m        \u001b[32m1.0383\u001b[0m  0.0272\n    144        \u001b[36m1.2251\u001b[0m        \u001b[32m1.0376\u001b[0m  0.0156\n    145        \u001b[36m1.2233\u001b[0m        \u001b[32m1.0371\u001b[0m  0.0163\n    146        \u001b[36m1.2217\u001b[0m        \u001b[32m1.0363\u001b[0m  0.0155\n    147        \u001b[36m1.2198\u001b[0m        \u001b[32m1.0351\u001b[0m  0.0161\n    148        \u001b[36m1.2178\u001b[0m        \u001b[32m1.0342\u001b[0m  0.0322\n    149        \u001b[36m1.2159\u001b[0m        \u001b[32m1.0336\u001b[0m  0.0166\n    150        \u001b[36m1.2142\u001b[0m        \u001b[32m1.0333\u001b[0m  0.0175\n    151        \u001b[36m1.2127\u001b[0m        \u001b[32m1.0327\u001b[0m  0.0157\n    152        \u001b[36m1.2111\u001b[0m        \u001b[32m1.0317\u001b[0m  0.0158\n    153        \u001b[36m1.2093\u001b[0m        \u001b[32m1.0306\u001b[0m  0.0351\n    154        \u001b[36m1.2074\u001b[0m        \u001b[32m1.0297\u001b[0m  0.0165\n    155        \u001b[36m1.2058\u001b[0m        \u001b[32m1.0288\u001b[0m  0.0165\n    156        \u001b[36m1.2042\u001b[0m        \u001b[32m1.0276\u001b[0m  0.0155\n    157        \u001b[36m1.2026\u001b[0m        \u001b[32m1.0262\u001b[0m  0.0313\n    158        \u001b[36m1.2010\u001b[0m        \u001b[32m1.0248\u001b[0m  0.0170\n    159        \u001b[36m1.1993\u001b[0m        \u001b[32m1.0236\u001b[0m  0.0177\n    160        \u001b[36m1.1977\u001b[0m        \u001b[32m1.0227\u001b[0m  0.0205\n    161        \u001b[36m1.1963\u001b[0m        \u001b[32m1.0218\u001b[0m  0.0182\n    162        \u001b[36m1.1949\u001b[0m        \u001b[32m1.0210\u001b[0m  0.0325\n    163        \u001b[36m1.1935\u001b[0m        \u001b[32m1.0203\u001b[0m  0.0181\n    164        \u001b[36m1.1921\u001b[0m        \u001b[32m1.0199\u001b[0m  0.0182\n    165        \u001b[36m1.1907\u001b[0m        \u001b[32m1.0196\u001b[0m  0.0158\n    166        \u001b[36m1.1895\u001b[0m        \u001b[32m1.0192\u001b[0m  0.0312\n    167        \u001b[36m1.1882\u001b[0m        \u001b[32m1.0187\u001b[0m  0.0862\n    168        \u001b[36m1.1868\u001b[0m        \u001b[32m1.0179\u001b[0m  0.0166\n    169        \u001b[36m1.1853\u001b[0m        \u001b[32m1.0171\u001b[0m  0.0160\n    170        \u001b[36m1.1838\u001b[0m        \u001b[32m1.0161\u001b[0m  0.0160\n    171        \u001b[36m1.1823\u001b[0m        \u001b[32m1.0149\u001b[0m  0.0158\n    172        \u001b[36m1.1807\u001b[0m        \u001b[32m1.0135\u001b[0m  0.0159\n    173        \u001b[36m1.1790\u001b[0m        \u001b[32m1.0120\u001b[0m  0.0286\n    174        \u001b[36m1.1772\u001b[0m        \u001b[32m1.0105\u001b[0m  0.0160\n    175        \u001b[36m1.1755\u001b[0m        \u001b[32m1.0091\u001b[0m  0.0157\n    176        \u001b[36m1.1737\u001b[0m        \u001b[32m1.0077\u001b[0m  0.0155\n    177        \u001b[36m1.1720\u001b[0m        \u001b[32m1.0063\u001b[0m  0.0152\n    178        \u001b[36m1.1702\u001b[0m        \u001b[32m1.0050\u001b[0m  0.0356\n    179        \u001b[36m1.1684\u001b[0m        \u001b[32m1.0037\u001b[0m  0.0172\n    180        \u001b[36m1.1666\u001b[0m        \u001b[32m1.0024\u001b[0m  0.0153\n    181        \u001b[36m1.1649\u001b[0m        \u001b[32m1.0012\u001b[0m  0.0157\n    182        \u001b[36m1.1631\u001b[0m        \u001b[32m0.9998\u001b[0m  0.0159\n    183        \u001b[36m1.1614\u001b[0m        \u001b[32m0.9983\u001b[0m  0.0157\n    184        \u001b[36m1.1597\u001b[0m        \u001b[32m0.9968\u001b[0m  0.0160\n    185        \u001b[36m1.1579\u001b[0m        \u001b[32m0.9952\u001b[0m  0.0159\n    186        \u001b[36m1.1562\u001b[0m        \u001b[32m0.9936\u001b[0m  0.0169\n    187        \u001b[36m1.1545\u001b[0m        \u001b[32m0.9919\u001b[0m  0.0161\n    188        \u001b[36m1.1529\u001b[0m        \u001b[32m0.9902\u001b[0m  0.0165\n    189        \u001b[36m1.1512\u001b[0m        \u001b[32m0.9885\u001b[0m  0.0160\n    190        \u001b[36m1.1496\u001b[0m        \u001b[32m0.9868\u001b[0m  0.0164\n    191        \u001b[36m1.1481\u001b[0m        \u001b[32m0.9852\u001b[0m  0.0160\n    192        \u001b[36m1.1466\u001b[0m        \u001b[32m0.9836\u001b[0m  0.0298\n    193        \u001b[36m1.1451\u001b[0m        \u001b[32m0.9820\u001b[0m  0.0160\n    194        \u001b[36m1.1437\u001b[0m        \u001b[32m0.9805\u001b[0m  0.0152\n    195        \u001b[36m1.1423\u001b[0m        \u001b[32m0.9791\u001b[0m  0.0155\n    196        \u001b[36m1.1409\u001b[0m        \u001b[32m0.9777\u001b[0m  0.0230\n    197        \u001b[36m1.1396\u001b[0m        \u001b[32m0.9763\u001b[0m  0.0356\n    198        \u001b[36m1.1383\u001b[0m        \u001b[32m0.9750\u001b[0m  0.0204\n    199        \u001b[36m1.1371\u001b[0m        \u001b[32m0.9737\u001b[0m  0.0154\n    200        \u001b[36m1.1358\u001b[0m        \u001b[32m0.9725\u001b[0m  0.0160\n    201        \u001b[36m1.1346\u001b[0m        \u001b[32m0.9713\u001b[0m  0.0294\n    202        \u001b[36m1.1335\u001b[0m        \u001b[32m0.9702\u001b[0m  0.0167\n    203        \u001b[36m1.1323\u001b[0m        \u001b[32m0.9690\u001b[0m  0.0154\n    204        \u001b[36m1.1312\u001b[0m        \u001b[32m0.9680\u001b[0m  0.0167\n    205        \u001b[36m1.1302\u001b[0m        \u001b[32m0.9669\u001b[0m  0.0227\n    206        \u001b[36m1.1291\u001b[0m        \u001b[32m0.9660\u001b[0m  0.0287\n    207        \u001b[36m1.1281\u001b[0m        \u001b[32m0.9651\u001b[0m  0.0166\n    208        \u001b[36m1.1271\u001b[0m        \u001b[32m0.9641\u001b[0m  0.0167\n    209        \u001b[36m1.1261\u001b[0m        \u001b[32m0.9633\u001b[0m  0.0160\n    210        \u001b[36m1.1252\u001b[0m        \u001b[32m0.9624\u001b[0m  0.0160\n    211        \u001b[36m1.1243\u001b[0m        \u001b[32m0.9616\u001b[0m  0.0319\n    212        \u001b[36m1.1234\u001b[0m        \u001b[32m0.9609\u001b[0m  0.0161\n    213        \u001b[36m1.1225\u001b[0m        \u001b[32m0.9601\u001b[0m  0.0157\n    214        \u001b[36m1.1216\u001b[0m        \u001b[32m0.9594\u001b[0m  0.0151\n    215        \u001b[36m1.1208\u001b[0m        \u001b[32m0.9586\u001b[0m  0.0159\n    216        \u001b[36m1.1199\u001b[0m        \u001b[32m0.9579\u001b[0m  0.0309\n    217        \u001b[36m1.1191\u001b[0m        \u001b[32m0.9573\u001b[0m  0.0164\n    218        \u001b[36m1.1183\u001b[0m        \u001b[32m0.9566\u001b[0m  0.0155\n    219        \u001b[36m1.1175\u001b[0m        \u001b[32m0.9559\u001b[0m  0.0154\n    220        \u001b[36m1.1167\u001b[0m        \u001b[32m0.9553\u001b[0m  0.0357\n    221        \u001b[36m1.1160\u001b[0m        \u001b[32m0.9546\u001b[0m  0.0157\n    222        \u001b[36m1.1152\u001b[0m        \u001b[32m0.9540\u001b[0m  0.0152\n    223        \u001b[36m1.1145\u001b[0m        \u001b[32m0.9533\u001b[0m  0.0161\n    224        \u001b[36m1.1138\u001b[0m        \u001b[32m0.9527\u001b[0m  0.0162\n    225        \u001b[36m1.1130\u001b[0m        \u001b[32m0.9521\u001b[0m  0.0283\n    226        \u001b[36m1.1123\u001b[0m        \u001b[32m0.9515\u001b[0m  0.0160\n    227        \u001b[36m1.1116\u001b[0m        \u001b[32m0.9509\u001b[0m  0.0155\n    228        \u001b[36m1.1109\u001b[0m        \u001b[32m0.9503\u001b[0m  0.0165\n    229        \u001b[36m1.1102\u001b[0m        \u001b[32m0.9497\u001b[0m  0.0157\n    230        \u001b[36m1.1096\u001b[0m        \u001b[32m0.9492\u001b[0m  0.0323\n    231        \u001b[36m1.1089\u001b[0m        \u001b[32m0.9486\u001b[0m  0.0194\n    232        \u001b[36m1.1082\u001b[0m        \u001b[32m0.9481\u001b[0m  0.0180\n    233        \u001b[36m1.1076\u001b[0m        \u001b[32m0.9476\u001b[0m  0.0178\n    234        \u001b[36m1.1069\u001b[0m        \u001b[32m0.9471\u001b[0m  0.0185\n    235        \u001b[36m1.1063\u001b[0m        \u001b[32m0.9466\u001b[0m  0.0172\n    236        \u001b[36m1.1057\u001b[0m        \u001b[32m0.9461\u001b[0m  0.0158\n    237        \u001b[36m1.1050\u001b[0m        \u001b[32m0.9456\u001b[0m  0.0185\n    238        \u001b[36m1.1044\u001b[0m        \u001b[32m0.9452\u001b[0m  0.0157\n    239        \u001b[36m1.1038\u001b[0m        \u001b[32m0.9448\u001b[0m  0.0259\n    240        \u001b[36m1.1032\u001b[0m        \u001b[32m0.9443\u001b[0m  0.0164\n    241        \u001b[36m1.1025\u001b[0m        \u001b[32m0.9439\u001b[0m  0.0158\n    242        \u001b[36m1.1019\u001b[0m        \u001b[32m0.9435\u001b[0m  0.0161\n    243        \u001b[36m1.1013\u001b[0m        \u001b[32m0.9432\u001b[0m  0.0159\n    244        \u001b[36m1.1007\u001b[0m        \u001b[32m0.9428\u001b[0m  0.0319\n    245        \u001b[36m1.1002\u001b[0m        \u001b[32m0.9425\u001b[0m  0.0184\n    246        \u001b[36m1.0996\u001b[0m        \u001b[32m0.9422\u001b[0m  0.0168\n    247        \u001b[36m1.0990\u001b[0m        \u001b[32m0.9418\u001b[0m  0.0157\n    248        \u001b[36m1.0984\u001b[0m        \u001b[32m0.9415\u001b[0m  0.0152\n    249        \u001b[36m1.0979\u001b[0m        \u001b[32m0.9412\u001b[0m  0.0303\n    250        \u001b[36m1.0973\u001b[0m        \u001b[32m0.9410\u001b[0m  0.0218\n    251        \u001b[36m1.0967\u001b[0m        \u001b[32m0.9407\u001b[0m  0.0157\n    252        \u001b[36m1.0962\u001b[0m        \u001b[32m0.9404\u001b[0m  0.0160\n    253        \u001b[36m1.0957\u001b[0m        \u001b[32m0.9402\u001b[0m  0.0329\n    254        \u001b[36m1.0951\u001b[0m        \u001b[32m0.9399\u001b[0m  0.0168\n    255        \u001b[36m1.0946\u001b[0m        \u001b[32m0.9397\u001b[0m  0.0165\n    256        \u001b[36m1.0941\u001b[0m        \u001b[32m0.9395\u001b[0m  0.0151\n    257        \u001b[36m1.0935\u001b[0m        \u001b[32m0.9392\u001b[0m  0.0156\n    258        \u001b[36m1.0930\u001b[0m        \u001b[32m0.9390\u001b[0m  0.0290\n    259        \u001b[36m1.0925\u001b[0m        \u001b[32m0.9388\u001b[0m  0.0178\n    260        \u001b[36m1.0920\u001b[0m        \u001b[32m0.9386\u001b[0m  0.0170\n    261        \u001b[36m1.0915\u001b[0m        \u001b[32m0.9384\u001b[0m  0.0181\n    262        \u001b[36m1.0910\u001b[0m        \u001b[32m0.9382\u001b[0m  0.0180\n    263        \u001b[36m1.0905\u001b[0m        \u001b[32m0.9380\u001b[0m  0.0292\n    264        \u001b[36m1.0900\u001b[0m        \u001b[32m0.9378\u001b[0m  0.0176\n    265        \u001b[36m1.0895\u001b[0m        \u001b[32m0.9376\u001b[0m  0.0175\nStopping since valid_loss has not improved in the last 20 epochs.\n  epoch    train_loss    valid_loss     dur\n-------  ------------  ------------  ------\n      1      \u001b[36m228.3959\u001b[0m      \u001b[32m226.2581\u001b[0m  0.0151\n      2      \u001b[36m208.8108\u001b[0m      \u001b[32m174.3110\u001b[0m  0.0166\n      3      \u001b[36m157.5443\u001b[0m       \u001b[32m86.1978\u001b[0m  0.0158\n      4       \u001b[36m74.3295\u001b[0m       \u001b[32m26.4262\u001b[0m  0.0155\n      5       \u001b[36m25.8447\u001b[0m       39.5665  0.0156\n      6       43.3131       69.2803  0.0155\n      7       74.4818       56.9668  0.0155\n      8       57.5767       33.0667  0.0157\n      9       31.8689       \u001b[32m13.8285\u001b[0m  0.0156\n     10       \u001b[36m14.7694\u001b[0m       \u001b[32m10.2215\u001b[0m  0.0157\n     11       \u001b[36m10.4906\u001b[0m       14.0073  0.0157\n     12       13.0200       21.6077  0.0149\n     13       19.3371       25.4299  0.0152\n     14       22.3654       21.9421  0.0150\n     15       19.0866       12.9581  0.0149\n     16       11.6532        \u001b[32m9.2561\u001b[0m  0.0149\n     17        \u001b[36m9.8424\u001b[0m       11.3201  0.0213\n     18       12.2236       12.4293  0.0156\n     19       13.1478       10.6863  0.0155\n     20       11.3660        \u001b[32m8.4720\u001b[0m  0.0156\n     21        \u001b[36m9.3204\u001b[0m        \u001b[32m8.3697\u001b[0m  0.0150\n     22        \u001b[36m8.9918\u001b[0m        \u001b[32m7.6516\u001b[0m  0.0180\n     23        \u001b[36m8.0223\u001b[0m        \u001b[32m6.0706\u001b[0m  0.0158\n     24        \u001b[36m6.4712\u001b[0m        \u001b[32m5.4147\u001b[0m  0.0152\n     25        \u001b[36m5.8041\u001b[0m        \u001b[32m5.0438\u001b[0m  0.0156\n     26        \u001b[36m5.3334\u001b[0m        \u001b[32m4.6898\u001b[0m  0.0153\n     27        \u001b[36m4.9202\u001b[0m        \u001b[32m4.5306\u001b[0m  0.0150\n     28        \u001b[36m4.7047\u001b[0m        \u001b[32m4.3578\u001b[0m  0.0171\n     29        \u001b[36m4.4667\u001b[0m        \u001b[32m4.1577\u001b[0m  0.0171\n     30        \u001b[36m4.2335\u001b[0m        \u001b[32m3.9485\u001b[0m  0.0150\n     31        \u001b[36m4.0247\u001b[0m        \u001b[32m3.6405\u001b[0m  0.0207\n     32        \u001b[36m3.7206\u001b[0m        \u001b[32m3.2390\u001b[0m  0.0176\n     33        \u001b[36m3.3460\u001b[0m        \u001b[32m2.9438\u001b[0m  0.0168\n     34        \u001b[36m3.0994\u001b[0m        \u001b[32m2.8053\u001b[0m  0.0150\n     35        \u001b[36m2.9746\u001b[0m        \u001b[32m2.7260\u001b[0m  0.0148\n     36        \u001b[36m2.8944\u001b[0m        \u001b[32m2.7141\u001b[0m  0.0154\n     37        2.8968        2.7359  0.0160\n     38        2.9328        \u001b[32m2.6921\u001b[0m  0.0156\n     39        2.9003        \u001b[32m2.5906\u001b[0m  0.0155\n     40        \u001b[36m2.8195\u001b[0m        \u001b[32m2.5059\u001b[0m  0.0158\n     41        \u001b[36m2.7611\u001b[0m        \u001b[32m2.4353\u001b[0m  0.0167\n     42        \u001b[36m2.7032\u001b[0m        \u001b[32m2.3682\u001b[0m  0.0172\n     43        \u001b[36m2.6365\u001b[0m        \u001b[32m2.3451\u001b[0m  0.0192\n     44        \u001b[36m2.6139\u001b[0m        \u001b[32m2.3231\u001b[0m  0.0202\n     45        \u001b[36m2.5961\u001b[0m        \u001b[32m2.2294\u001b[0m  0.0150\n     46        \u001b[36m2.5165\u001b[0m        \u001b[32m2.1070\u001b[0m  0.0151\n     47        \u001b[36m2.4179\u001b[0m        \u001b[32m2.0061\u001b[0m  0.0162\n     48        \u001b[36m2.3322\u001b[0m        \u001b[32m1.9306\u001b[0m  0.0157\n     49        \u001b[36m2.2536\u001b[0m        \u001b[32m1.8969\u001b[0m  0.0161\nIOPub message rate exceeded.\nThe notebook server will temporarily stop sending output\nto the client in order to avoid crashing it.\nTo change this limit, set the config variable\n`--NotebookApp.iopub_msg_rate_limit`.\n\nCurrent values:\nNotebookApp.iopub_msg_rate_limit=50.0 (msgs/sec)\nNotebookApp.rate_limit_window=3.0 (secs)\n\n     88        \u001b[36m1.5283\u001b[0m        1.3307  0.0153\n     89        \u001b[36m1.5229\u001b[0m        1.3328  0.0149\n     90        \u001b[36m1.5183\u001b[0m        1.3302  0.0150\n     91        \u001b[36m1.5119\u001b[0m        \u001b[32m1.3220\u001b[0m  0.0156\n     92        \u001b[36m1.5032\u001b[0m        \u001b[32m1.3124\u001b[0m  0.0156\n     93        \u001b[36m1.4940\u001b[0m        \u001b[32m1.3059\u001b[0m  0.0152\n     94        \u001b[36m1.4861\u001b[0m        \u001b[32m1.3038\u001b[0m  0.0153\n     95        \u001b[36m1.4799\u001b[0m        \u001b[32m1.3037\u001b[0m  0.0154\n     96        \u001b[36m1.4749\u001b[0m        \u001b[32m1.3012\u001b[0m  0.0167\n     97        \u001b[36m1.4692\u001b[0m        \u001b[32m1.2939\u001b[0m  0.0213\n     98        \u001b[36m1.4617\u001b[0m        \u001b[32m1.2836\u001b[0m  0.0161\n     99        \u001b[36m1.4530\u001b[0m        \u001b[32m1.2741\u001b[0m  0.0158\n    100        \u001b[36m1.4448\u001b[0m        \u001b[32m1.2679\u001b[0m  0.0149\n    101        \u001b[36m1.4379\u001b[0m        \u001b[32m1.2644\u001b[0m  0.0150\n    102        \u001b[36m1.4323\u001b[0m        \u001b[32m1.2607\u001b[0m  0.0153\n    103        \u001b[36m1.4269\u001b[0m        \u001b[32m1.2541\u001b[0m  0.0179\n    104        \u001b[36m1.4203\u001b[0m        \u001b[32m1.2446\u001b[0m  0.0155\n    105        \u001b[36m1.4125\u001b[0m        \u001b[32m1.2349\u001b[0m  0.0156\n    106        \u001b[36m1.4046\u001b[0m        \u001b[32m1.2274\u001b[0m  0.0159\n    107        \u001b[36m1.3976\u001b[0m        \u001b[32m1.2225\u001b[0m  0.0159\n    108        \u001b[36m1.3917\u001b[0m        \u001b[32m1.2185\u001b[0m  0.0155\n    109        \u001b[36m1.3862\u001b[0m        \u001b[32m1.2132\u001b[0m  0.0151\n    110        \u001b[36m1.3804\u001b[0m        \u001b[32m1.2057\u001b[0m  0.0154\n    111        \u001b[36m1.3736\u001b[0m        \u001b[32m1.1974\u001b[0m  0.0165\n    112        \u001b[36m1.3665\u001b[0m        \u001b[32m1.1901\u001b[0m  0.0151\n    113        \u001b[36m1.3598\u001b[0m        \u001b[32m1.1848\u001b[0m  0.0150\n    114        \u001b[36m1.3538\u001b[0m        \u001b[32m1.1806\u001b[0m  0.0163\n    115        \u001b[36m1.3484\u001b[0m        \u001b[32m1.1759\u001b[0m  0.0181\n    116        \u001b[36m1.3429\u001b[0m        \u001b[32m1.1696\u001b[0m  0.0164\n    117        \u001b[36m1.3367\u001b[0m        \u001b[32m1.1621\u001b[0m  0.0164\n    118        \u001b[36m1.3302\u001b[0m        \u001b[32m1.1550\u001b[0m  0.0163\n    119        \u001b[36m1.3237\u001b[0m        \u001b[32m1.1491\u001b[0m  0.0157\n    120        \u001b[36m1.3177\u001b[0m        \u001b[32m1.1442\u001b[0m  0.0167\n    121        \u001b[36m1.3122\u001b[0m        \u001b[32m1.1394\u001b[0m  0.0156\n    122        \u001b[36m1.3068\u001b[0m        \u001b[32m1.1337\u001b[0m  0.0150\n    123        \u001b[36m1.3010\u001b[0m        \u001b[32m1.1270\u001b[0m  0.0154\n    124        \u001b[36m1.2948\u001b[0m        \u001b[32m1.1203\u001b[0m  0.0154\n    125        \u001b[36m1.2885\u001b[0m        \u001b[32m1.1145\u001b[0m  0.0152\n    126        \u001b[36m1.2827\u001b[0m        \u001b[32m1.1097\u001b[0m  0.0168\n    127        \u001b[36m1.2772\u001b[0m        \u001b[32m1.1055\u001b[0m  0.0160\n    128        \u001b[36m1.2719\u001b[0m        \u001b[32m1.1009\u001b[0m  0.0150\n    129        \u001b[36m1.2666\u001b[0m        \u001b[32m1.0956\u001b[0m  0.0156\n    130        \u001b[36m1.2609\u001b[0m        \u001b[32m1.0901\u001b[0m  0.0149\n    131        \u001b[36m1.2551\u001b[0m        \u001b[32m1.0851\u001b[0m  0.0168\n    132        \u001b[36m1.2494\u001b[0m        \u001b[32m1.0808\u001b[0m  0.0155\n    133        \u001b[36m1.2440\u001b[0m        \u001b[32m1.0770\u001b[0m  0.0151\n    134        \u001b[36m1.2388\u001b[0m        \u001b[32m1.0733\u001b[0m  0.0151\n    135        \u001b[36m1.2336\u001b[0m        \u001b[32m1.0691\u001b[0m  0.0159\n    136        \u001b[36m1.2282\u001b[0m        \u001b[32m1.0646\u001b[0m  0.0159\n    137        \u001b[36m1.2227\u001b[0m        \u001b[32m1.0602\u001b[0m  0.0162\n    138        \u001b[36m1.2173\u001b[0m        \u001b[32m1.0564\u001b[0m  0.0187\n    139        \u001b[36m1.2121\u001b[0m        \u001b[32m1.0530\u001b[0m  0.0166\n    140        \u001b[36m1.2071\u001b[0m        \u001b[32m1.0498\u001b[0m  0.0159\n    141        \u001b[36m1.2022\u001b[0m        \u001b[32m1.0464\u001b[0m  0.0171\n    142        \u001b[36m1.1973\u001b[0m        \u001b[32m1.0427\u001b[0m  0.0159\n    143        \u001b[36m1.1923\u001b[0m        \u001b[32m1.0390\u001b[0m  0.0169\n    144        \u001b[36m1.1874\u001b[0m        \u001b[32m1.0356\u001b[0m  0.0266\n    145        \u001b[36m1.1826\u001b[0m        \u001b[32m1.0326\u001b[0m  0.0164\n    146        \u001b[36m1.1780\u001b[0m        \u001b[32m1.0298\u001b[0m  0.0168\n    147        \u001b[36m1.1736\u001b[0m        \u001b[32m1.0270\u001b[0m  0.0150\n    148        \u001b[36m1.1691\u001b[0m        \u001b[32m1.0240\u001b[0m  0.0150\n    149        \u001b[36m1.1647\u001b[0m        \u001b[32m1.0209\u001b[0m  0.0148\n    150        \u001b[36m1.1602\u001b[0m        \u001b[32m1.0179\u001b[0m  0.0149\n    151        \u001b[36m1.1559\u001b[0m        \u001b[32m1.0152\u001b[0m  0.0156\n    152        \u001b[36m1.1517\u001b[0m        \u001b[32m1.0128\u001b[0m  0.0154\n    153        \u001b[36m1.1476\u001b[0m        \u001b[32m1.0106\u001b[0m  0.0157\n    154        \u001b[36m1.1437\u001b[0m        \u001b[32m1.0082\u001b[0m  0.0160\n    155        \u001b[36m1.1398\u001b[0m        \u001b[32m1.0059\u001b[0m  0.0196\n    156        \u001b[36m1.1359\u001b[0m        \u001b[32m1.0035\u001b[0m  0.0161\n    157        \u001b[36m1.1321\u001b[0m        \u001b[32m1.0013\u001b[0m  0.0162\n    158        \u001b[36m1.1284\u001b[0m        \u001b[32m0.9994\u001b[0m  0.0163\n    159        \u001b[36m1.1248\u001b[0m        \u001b[32m0.9976\u001b[0m  0.0165\n    160        \u001b[36m1.1214\u001b[0m        \u001b[32m0.9958\u001b[0m  0.0162\n    161        \u001b[36m1.1180\u001b[0m        \u001b[32m0.9940\u001b[0m  0.0162\n    162        \u001b[36m1.1146\u001b[0m        \u001b[32m0.9920\u001b[0m  0.0159\n    163        \u001b[36m1.1113\u001b[0m        \u001b[32m0.9902\u001b[0m  0.0162\n    164        \u001b[36m1.1080\u001b[0m        \u001b[32m0.9885\u001b[0m  0.0161\n    165        \u001b[36m1.1049\u001b[0m        \u001b[32m0.9870\u001b[0m  0.0837\n    166        \u001b[36m1.1018\u001b[0m        \u001b[32m0.9855\u001b[0m  0.0167\n    167        \u001b[36m1.0988\u001b[0m        \u001b[32m0.9840\u001b[0m  0.0159\n    168        \u001b[36m1.0959\u001b[0m        \u001b[32m0.9825\u001b[0m  0.0151\n    169        \u001b[36m1.0930\u001b[0m        \u001b[32m0.9809\u001b[0m  0.0149\n    170        \u001b[36m1.0901\u001b[0m        \u001b[32m0.9795\u001b[0m  0.0156\n    171        \u001b[36m1.0873\u001b[0m        \u001b[32m0.9783\u001b[0m  0.0155\n    172        \u001b[36m1.0847\u001b[0m        \u001b[32m0.9772\u001b[0m  0.0148\n    173        \u001b[36m1.0821\u001b[0m        \u001b[32m0.9761\u001b[0m  0.0168\n    174        \u001b[36m1.0795\u001b[0m        \u001b[32m0.9750\u001b[0m  0.0161\n    175        \u001b[36m1.0770\u001b[0m        \u001b[32m0.9739\u001b[0m  0.0160\n    176        \u001b[36m1.0746\u001b[0m        \u001b[32m0.9729\u001b[0m  0.0160\n    177        \u001b[36m1.0722\u001b[0m        \u001b[32m0.9719\u001b[0m  0.0163\n    178        \u001b[36m1.0699\u001b[0m        \u001b[32m0.9711\u001b[0m  0.0159\n    179        \u001b[36m1.0676\u001b[0m        \u001b[32m0.9702\u001b[0m  0.0171\n    180        \u001b[36m1.0654\u001b[0m        \u001b[32m0.9694\u001b[0m  0.0148\n    181        \u001b[36m1.0633\u001b[0m        \u001b[32m0.9685\u001b[0m  0.0153\n    182        \u001b[36m1.0611\u001b[0m        \u001b[32m0.9677\u001b[0m  0.0152\n    183        \u001b[36m1.0591\u001b[0m        \u001b[32m0.9669\u001b[0m  0.0155\n    184        \u001b[36m1.0570\u001b[0m        \u001b[32m0.9661\u001b[0m  0.0160\n    185        \u001b[36m1.0551\u001b[0m        \u001b[32m0.9654\u001b[0m  0.0168\n    186        \u001b[36m1.0532\u001b[0m        \u001b[32m0.9647\u001b[0m  0.0150\n    187        \u001b[36m1.0513\u001b[0m        \u001b[32m0.9639\u001b[0m  0.0149\n    188        \u001b[36m1.0494\u001b[0m        \u001b[32m0.9631\u001b[0m  0.0151\n    189        \u001b[36m1.0476\u001b[0m        \u001b[32m0.9624\u001b[0m  0.0151\n    190        \u001b[36m1.0458\u001b[0m        \u001b[32m0.9617\u001b[0m  0.0149\n    191        \u001b[36m1.0441\u001b[0m        \u001b[32m0.9610\u001b[0m  0.0167\n    192        \u001b[36m1.0424\u001b[0m        \u001b[32m0.9603\u001b[0m  0.0147\n    193        \u001b[36m1.0407\u001b[0m        \u001b[32m0.9596\u001b[0m  0.0147\n    194        \u001b[36m1.0390\u001b[0m        \u001b[32m0.9589\u001b[0m  0.0149\n    195        \u001b[36m1.0374\u001b[0m        \u001b[32m0.9583\u001b[0m  0.0156\n    196        \u001b[36m1.0358\u001b[0m        \u001b[32m0.9576\u001b[0m  0.0152\n    197        \u001b[36m1.0342\u001b[0m        \u001b[32m0.9569\u001b[0m  0.0194\n    198        \u001b[36m1.0326\u001b[0m        \u001b[32m0.9563\u001b[0m  0.0184\n    199        \u001b[36m1.0310\u001b[0m        \u001b[32m0.9557\u001b[0m  0.0156\n    200        \u001b[36m1.0295\u001b[0m        \u001b[32m0.9550\u001b[0m  0.0155\n    201        \u001b[36m1.0279\u001b[0m        \u001b[32m0.9544\u001b[0m  0.0150\n    202        \u001b[36m1.0264\u001b[0m        \u001b[32m0.9537\u001b[0m  0.0151\n    203        \u001b[36m1.0248\u001b[0m        \u001b[32m0.9531\u001b[0m  0.0163\n    204        \u001b[36m1.0233\u001b[0m        \u001b[32m0.9525\u001b[0m  0.0147\n    205        \u001b[36m1.0218\u001b[0m        \u001b[32m0.9519\u001b[0m  0.0148\n    206        \u001b[36m1.0203\u001b[0m        \u001b[32m0.9514\u001b[0m  0.0163\n    207        \u001b[36m1.0188\u001b[0m        \u001b[32m0.9508\u001b[0m  0.0162\n    208        \u001b[36m1.0173\u001b[0m        \u001b[32m0.9502\u001b[0m  0.0162\n    209        \u001b[36m1.0158\u001b[0m        \u001b[32m0.9496\u001b[0m  0.0173\n    210        \u001b[36m1.0144\u001b[0m        \u001b[32m0.9490\u001b[0m  0.0177\n    211        \u001b[36m1.0129\u001b[0m        \u001b[32m0.9485\u001b[0m  0.0169\n    212        \u001b[36m1.0114\u001b[0m        \u001b[32m0.9480\u001b[0m  0.0167\n    213        \u001b[36m1.0100\u001b[0m        \u001b[32m0.9474\u001b[0m  0.0161\n    214        \u001b[36m1.0085\u001b[0m        \u001b[32m0.9469\u001b[0m  0.0151\n    215        \u001b[36m1.0071\u001b[0m        \u001b[32m0.9464\u001b[0m  0.0150\n    216        \u001b[36m1.0056\u001b[0m        \u001b[32m0.9459\u001b[0m  0.0157\n    217        \u001b[36m1.0042\u001b[0m        \u001b[32m0.9454\u001b[0m  0.0167\n    218        \u001b[36m1.0028\u001b[0m        \u001b[32m0.9449\u001b[0m  0.0168\n    219        \u001b[36m1.0014\u001b[0m        \u001b[32m0.9444\u001b[0m  0.0155\n    220        \u001b[36m1.0000\u001b[0m        \u001b[32m0.9439\u001b[0m  0.0158\n    221        \u001b[36m0.9986\u001b[0m        \u001b[32m0.9435\u001b[0m  0.0152\n    222        \u001b[36m0.9972\u001b[0m        \u001b[32m0.9430\u001b[0m  0.0147\n    223        \u001b[36m0.9959\u001b[0m        \u001b[32m0.9425\u001b[0m  0.0152\n    224        \u001b[36m0.9945\u001b[0m        \u001b[32m0.9421\u001b[0m  0.0156\n    225        \u001b[36m0.9932\u001b[0m        \u001b[32m0.9416\u001b[0m  0.0158\n    226        \u001b[36m0.9919\u001b[0m        \u001b[32m0.9412\u001b[0m  0.0154\n    227        \u001b[36m0.9905\u001b[0m        \u001b[32m0.9407\u001b[0m  0.0153\n    228        \u001b[36m0.9892\u001b[0m        \u001b[32m0.9403\u001b[0m  0.0161\n    229        \u001b[36m0.9879\u001b[0m        \u001b[32m0.9399\u001b[0m  0.0158\n    230        \u001b[36m0.9867\u001b[0m        \u001b[32m0.9394\u001b[0m  0.0156\n    231        \u001b[36m0.9854\u001b[0m        \u001b[32m0.9390\u001b[0m  0.0152\n    232        \u001b[36m0.9841\u001b[0m        \u001b[32m0.9386\u001b[0m  0.0153\n    233        \u001b[36m0.9829\u001b[0m        \u001b[32m0.9381\u001b[0m  0.0161\n    234        \u001b[36m0.9817\u001b[0m        \u001b[32m0.9377\u001b[0m  0.0150\n    235        \u001b[36m0.9804\u001b[0m        \u001b[32m0.9373\u001b[0m  0.0151\n    236        \u001b[36m0.9792\u001b[0m        \u001b[32m0.9369\u001b[0m  0.0149\nIOPub message rate exceeded.\nThe notebook server will temporarily stop sending output\nto the client in order to avoid crashing it.\nTo change this limit, set the config variable\n`--NotebookApp.iopub_msg_rate_limit`.\n\nCurrent values:\nNotebookApp.iopub_msg_rate_limit=50.0 (msgs/sec)\nNotebookApp.rate_limit_window=3.0 (secs)\n\n    285        \u001b[36m0.9319\u001b[0m        \u001b[32m0.9213\u001b[0m  0.0169\n    286        \u001b[36m0.9311\u001b[0m        \u001b[32m0.9211\u001b[0m  0.0168\n    287        \u001b[36m0.9303\u001b[0m        \u001b[32m0.9209\u001b[0m  0.0150\n    288        \u001b[36m0.9296\u001b[0m        \u001b[32m0.9207\u001b[0m  0.0152\n    289        \u001b[36m0.9288\u001b[0m        \u001b[32m0.9206\u001b[0m  0.0163\n    290        \u001b[36m0.9281\u001b[0m        \u001b[32m0.9204\u001b[0m  0.0171\n    291        \u001b[36m0.9274\u001b[0m        \u001b[32m0.9202\u001b[0m  0.0158\n    292        \u001b[36m0.9266\u001b[0m        \u001b[32m0.9201\u001b[0m  0.0156\nStopping since valid_loss has not improved in the last 20 epochs.\n  epoch    train_loss    valid_loss     dur\n-------  ------------  ------------  ------\n      1      \u001b[36m252.7936\u001b[0m       \u001b[32m25.1424\u001b[0m  0.0158\n      2       \u001b[36m41.1673\u001b[0m       92.5195  0.0149\n      3       97.2538       76.3671  0.0158\n      4       69.5565       61.5977  0.0198\n      5       51.0955       38.3922  0.0161\n      6       \u001b[36m36.5586\u001b[0m       \u001b[32m12.9457\u001b[0m  0.0168\n      7       \u001b[36m16.0269\u001b[0m       35.7945  0.0153\n      8       31.0683        \u001b[32m9.3334\u001b[0m  0.0157\n      9        \u001b[36m9.6093\u001b[0m       18.3070  0.0275\n     10       17.6342       11.6536  0.0152\n     11       12.0188       12.1956  0.0150\n     12       11.5738        9.8131  0.0862\n     13        \u001b[36m9.5919\u001b[0m        \u001b[32m7.2653\u001b[0m  0.0161\n     14        \u001b[36m8.3945\u001b[0m        \u001b[32m7.0759\u001b[0m  0.0150\n     15        \u001b[36m7.2189\u001b[0m        \u001b[32m5.4604\u001b[0m  0.0173\n     16        \u001b[36m5.8713\u001b[0m       10.4104  0.0184\n     17        9.8666        6.1483  0.0252\n     18        \u001b[36m5.6872\u001b[0m        \u001b[32m4.4351\u001b[0m  0.0186\n     19        \u001b[36m5.2305\u001b[0m        5.8531  0.0250\n     20        6.3790        \u001b[32m3.0511\u001b[0m  0.0324\n     21        \u001b[36m3.3718\u001b[0m        5.2595  0.0162\n     22        5.2386        5.0908  0.0175\n     23        5.0209        3.5113  0.0178\n     24        3.7815        4.0231  0.0156\n     25        4.1584        \u001b[32m2.4109\u001b[0m  0.0320\n     26        \u001b[36m2.8075\u001b[0m        3.3721  0.0216\n     27        3.5520        3.3996  0.0187\n     28        3.3391        \u001b[32m2.2076\u001b[0m  0.0176\n     29        \u001b[36m2.4770\u001b[0m        3.3236  0.0255\n     30        3.4271        2.4719  0.0201\n     31        2.6077        \u001b[32m2.0573\u001b[0m  0.0187\n     32        \u001b[36m2.3212\u001b[0m        2.7551  0.0162\n     33        2.8118        \u001b[32m1.9368\u001b[0m  0.0155\n     34        \u001b[36m2.1372\u001b[0m        \u001b[32m1.8584\u001b[0m  0.0337\n     35        2.1627        2.1152  0.0155\n     36        2.2769        1.8649  0.0159\n     37        \u001b[36m2.0219\u001b[0m        2.0506  0.0191\n     38        2.1551        \u001b[32m1.7470\u001b[0m  0.0268\n     39        \u001b[36m1.8650\u001b[0m        \u001b[32m1.4362\u001b[0m  0.0152\n     40        \u001b[36m1.7083\u001b[0m        1.6059  0.0152\n     41        1.8731        \u001b[32m1.4293\u001b[0m  0.0148\n     42        \u001b[36m1.6163\u001b[0m        1.5665  0.0148\n     43        1.6911        1.8664  0.0346\n     44        1.9261        1.5541  0.0191\n     45        1.6538        \u001b[32m1.3545\u001b[0m  0.0162\n     46        \u001b[36m1.5443\u001b[0m        \u001b[32m1.3447\u001b[0m  0.0151\n     47        1.5806        \u001b[32m1.2335\u001b[0m  0.0152\n     48        \u001b[36m1.4608\u001b[0m        1.3360  0.0251\n     49        1.4877        1.3986  0.0219\n     50        1.5061        1.3248  0.0151\n     51        \u001b[36m1.4515\u001b[0m        1.3217  0.0156\n     52        1.4537        \u001b[32m1.2219\u001b[0m  0.0155\n     53        \u001b[36m1.3700\u001b[0m        \u001b[32m1.1784\u001b[0m  0.0309\n     54        \u001b[36m1.3414\u001b[0m        1.2662  0.0158\n     55        1.4007        1.2138  0.0183\n     56        \u001b[36m1.3406\u001b[0m        \u001b[32m1.1690\u001b[0m  0.0188\n     57        \u001b[36m1.3078\u001b[0m        1.2250  0.0163\n     58        1.3487        1.2065  0.0361\n     59        1.3191        1.1785  0.0160\n     60        \u001b[36m1.2935\u001b[0m        1.1743  0.0161\n     61        1.2956        \u001b[32m1.1256\u001b[0m  0.0158\n     62        \u001b[36m1.2674\u001b[0m        \u001b[32m1.0947\u001b[0m  0.0295\n     63        \u001b[36m1.2463\u001b[0m        1.1119  0.0164\n     64        \u001b[36m1.2420\u001b[0m        1.1546  0.0158\n     65        1.2523        1.1879  0.0155\n     66        1.2649        1.1588  0.0162\n     67        \u001b[36m1.2413\u001b[0m        1.1056  0.0338\n     68        \u001b[36m1.2150\u001b[0m        \u001b[32m1.0814\u001b[0m  0.0181\n     69        \u001b[36m1.2093\u001b[0m        \u001b[32m1.0789\u001b[0m  0.0153\n     70        \u001b[36m1.1983\u001b[0m        1.1069  0.0153\n     71        1.2013        1.1406  0.0197\n     72        1.2170        1.1258  0.0246\n     73        1.2058        1.0806  0.0160\n     74        \u001b[36m1.1803\u001b[0m        \u001b[32m1.0510\u001b[0m  0.0155\n     75        \u001b[36m1.1671\u001b[0m        \u001b[32m1.0480\u001b[0m  0.0150\n     76        \u001b[36m1.1611\u001b[0m        1.0648  0.0154\n     77        \u001b[36m1.1600\u001b[0m        1.0824  0.0321\n     78        1.1624        1.0825  0.0164\n     79        \u001b[36m1.1595\u001b[0m        1.0663  0.0178\n     80        \u001b[36m1.1489\u001b[0m        1.0481  0.0163\n     81        \u001b[36m1.1373\u001b[0m        \u001b[32m1.0419\u001b[0m  0.0152\n     82        \u001b[36m1.1319\u001b[0m        1.0462  0.0354\n     83        \u001b[36m1.1311\u001b[0m        1.0482  0.0161\n     84        \u001b[36m1.1282\u001b[0m        1.0452  0.0158\n     85        \u001b[36m1.1241\u001b[0m        1.0421  0.0159\n     86        \u001b[36m1.1215\u001b[0m        \u001b[32m1.0378\u001b[0m  0.0161\n     87        \u001b[36m1.1177\u001b[0m        \u001b[32m1.0336\u001b[0m  0.0298\n     88        \u001b[36m1.1136\u001b[0m        \u001b[32m1.0323\u001b[0m  0.0168\n     89        \u001b[36m1.1114\u001b[0m        \u001b[32m1.0297\u001b[0m  0.0162\n     90        \u001b[36m1.1077\u001b[0m        \u001b[32m1.0272\u001b[0m  0.0158\n     91        \u001b[36m1.1036\u001b[0m        1.0307  0.0314\n     92        \u001b[36m1.1034\u001b[0m        1.0351  0.0153\n     93        1.1038        1.0342  0.0176\n     94        \u001b[36m1.1016\u001b[0m        1.0284  0.0166\n     95        \u001b[36m1.0979\u001b[0m        \u001b[32m1.0200\u001b[0m  0.0151\n     96        \u001b[36m1.0927\u001b[0m        \u001b[32m1.0147\u001b[0m  0.0277\n     97        \u001b[36m1.0885\u001b[0m        1.0172  0.0158\n     98        \u001b[36m1.0879\u001b[0m        1.0227  0.0152\n     99        1.0888        1.0241  0.0149\n    100        1.0880        1.0190  0.0170\n    101        \u001b[36m1.0845\u001b[0m        \u001b[32m1.0113\u001b[0m  0.0308\n    102        \u001b[36m1.0795\u001b[0m        \u001b[32m1.0078\u001b[0m  0.0153\n    103        \u001b[36m1.0763\u001b[0m        1.0111  0.0151\n    104        \u001b[36m1.0755\u001b[0m        1.0172  0.0183\n    105        1.0762        1.0203  0.0150\n    106        1.0761        1.0172  0.0272\n    107        \u001b[36m1.0732\u001b[0m        1.0111  0.0221\n    108        \u001b[36m1.0692\u001b[0m        1.0082  0.0167\n    109        \u001b[36m1.0667\u001b[0m        1.0096  0.0162\n    110        \u001b[36m1.0657\u001b[0m        1.0131  0.0163\n    111        \u001b[36m1.0656\u001b[0m        1.0151  0.0289\n    112        \u001b[36m1.0650\u001b[0m        1.0130  0.0163\n    113        \u001b[36m1.0628\u001b[0m        1.0090  0.0155\n    114        \u001b[36m1.0599\u001b[0m        \u001b[32m1.0066\u001b[0m  0.0148\n    115        \u001b[36m1.0577\u001b[0m        1.0068  0.0150\n    116        \u001b[36m1.0563\u001b[0m        1.0084  0.0311\n    117        \u001b[36m1.0555\u001b[0m        1.0092  0.0156\n    118        \u001b[36m1.0544\u001b[0m        1.0080  0.0157\n    119        \u001b[36m1.0527\u001b[0m        \u001b[32m1.0060\u001b[0m  0.0154\n    120        \u001b[36m1.0507\u001b[0m        \u001b[32m1.0044\u001b[0m  0.0161\n    121        \u001b[36m1.0489\u001b[0m        \u001b[32m1.0037\u001b[0m  0.0315\nStopping since valid_loss has not improved in the last 20 epochs.\n  epoch    train_loss    valid_loss     dur\n-------  ------------  ------------  ------\n      1      \u001b[36m205.6883\u001b[0m       \u001b[32m20.3216\u001b[0m  0.0146\n      2       \u001b[36m75.0898\u001b[0m       \u001b[32m14.9375\u001b[0m  0.0148\n      3       \u001b[36m16.3053\u001b[0m       \u001b[32m13.7835\u001b[0m  0.0145\n      4       \u001b[36m11.6188\u001b[0m       14.7817  0.0148\n      5       13.6902       \u001b[32m10.7688\u001b[0m  0.0191\n      6       \u001b[36m10.5914\u001b[0m        \u001b[32m6.7011\u001b[0m  0.0148\n      7        \u001b[36m8.0660\u001b[0m        \u001b[32m6.0368\u001b[0m  0.0147\n      8        \u001b[36m6.9302\u001b[0m        6.8032  0.0831\n      9        \u001b[36m6.3875\u001b[0m        6.5702  0.0149\n     10        6.4269        \u001b[32m4.5272\u001b[0m  0.0147\n     11        \u001b[36m4.5613\u001b[0m        \u001b[32m4.2905\u001b[0m  0.0148\n     12        \u001b[36m4.4172\u001b[0m        \u001b[32m3.8499\u001b[0m  0.0151\n     13        \u001b[36m3.8948\u001b[0m        \u001b[32m3.6948\u001b[0m  0.0168\n     14        \u001b[36m3.5480\u001b[0m        4.1795  0.0165\n     15        3.6470        \u001b[32m3.3080\u001b[0m  0.0185\n     16        \u001b[36m3.0571\u001b[0m        \u001b[32m3.1794\u001b[0m  0.0160\n     17        \u001b[36m2.9611\u001b[0m        \u001b[32m3.1635\u001b[0m  0.0155\n     18        \u001b[36m2.8093\u001b[0m        \u001b[32m3.0024\u001b[0m  0.0156\n     19        \u001b[36m2.6628\u001b[0m        \u001b[32m2.7672\u001b[0m  0.0156\n     20        \u001b[36m2.5066\u001b[0m        2.8177  0.0152\n     21        2.5138        \u001b[32m2.5256\u001b[0m  0.0169\n     22        \u001b[36m2.2633\u001b[0m        \u001b[32m2.5051\u001b[0m  0.0168\n     23        \u001b[36m2.1477\u001b[0m        \u001b[32m2.4362\u001b[0m  0.0165\n     24        \u001b[36m2.0723\u001b[0m        \u001b[32m2.2768\u001b[0m  0.0178\n     25        \u001b[36m2.0085\u001b[0m        \u001b[32m2.1951\u001b[0m  0.0156\n     26        \u001b[36m1.9744\u001b[0m        \u001b[32m2.1896\u001b[0m  0.0161\n     27        \u001b[36m1.9039\u001b[0m        2.2084  0.0160\n     28        \u001b[36m1.8838\u001b[0m        \u001b[32m2.1149\u001b[0m  0.0150\n     29        \u001b[36m1.8427\u001b[0m        \u001b[32m2.0172\u001b[0m  0.0150\n     30        \u001b[36m1.8179\u001b[0m        \u001b[32m2.0076\u001b[0m  0.0156\n     31        \u001b[36m1.8149\u001b[0m        2.0220  0.0150\n     32        \u001b[36m1.7945\u001b[0m        2.0295  0.0167\n     33        \u001b[36m1.7746\u001b[0m        \u001b[32m2.0016\u001b[0m  0.0174\n     34        \u001b[36m1.7658\u001b[0m        \u001b[32m1.9315\u001b[0m  0.0154\n     35        \u001b[36m1.7503\u001b[0m        \u001b[32m1.9127\u001b[0m  0.0157\n     36        \u001b[36m1.7373\u001b[0m        \u001b[32m1.9092\u001b[0m  0.0207\n     37        \u001b[36m1.7267\u001b[0m        1.9132  0.0156\n     38        \u001b[36m1.7211\u001b[0m        \u001b[32m1.8861\u001b[0m  0.0151\n     39        \u001b[36m1.7080\u001b[0m        \u001b[32m1.8677\u001b[0m  0.0167\n     40        \u001b[36m1.7042\u001b[0m        \u001b[32m1.8472\u001b[0m  0.0165\n     41        \u001b[36m1.6953\u001b[0m        \u001b[32m1.8436\u001b[0m  0.0156\n     42        \u001b[36m1.6888\u001b[0m        \u001b[32m1.8389\u001b[0m  0.0163\n     43        \u001b[36m1.6824\u001b[0m        \u001b[32m1.8367\u001b[0m  0.0150\n     44        \u001b[36m1.6780\u001b[0m        \u001b[32m1.8321\u001b[0m  0.0155\nIOPub message rate exceeded.\nThe notebook server will temporarily stop sending output\nto the client in order to avoid crashing it.\nTo change this limit, set the config variable\n`--NotebookApp.iopub_msg_rate_limit`.\n\nCurrent values:\nNotebookApp.iopub_msg_rate_limit=50.0 (msgs/sec)\nNotebookApp.rate_limit_window=3.0 (secs)\n\n     83        \u001b[36m1.5327\u001b[0m        \u001b[32m1.6998\u001b[0m  0.0167\n     84        \u001b[36m1.5301\u001b[0m        \u001b[32m1.6957\u001b[0m  0.0151\n     85        \u001b[36m1.5274\u001b[0m        \u001b[32m1.6917\u001b[0m  0.0178\n     86        \u001b[36m1.5249\u001b[0m        \u001b[32m1.6877\u001b[0m  0.0170\n     87        \u001b[36m1.5223\u001b[0m        \u001b[32m1.6841\u001b[0m  0.0166\n     88        \u001b[36m1.5199\u001b[0m        \u001b[32m1.6807\u001b[0m  0.0149\n     89        \u001b[36m1.5174\u001b[0m        \u001b[32m1.6773\u001b[0m  0.0160\n     90        \u001b[36m1.5150\u001b[0m        \u001b[32m1.6742\u001b[0m  0.0161\n     91        \u001b[36m1.5126\u001b[0m        \u001b[32m1.6713\u001b[0m  0.0154\n     92        \u001b[36m1.5101\u001b[0m        \u001b[32m1.6686\u001b[0m  0.0155\n     93        \u001b[36m1.5077\u001b[0m        \u001b[32m1.6661\u001b[0m  0.0176\n     94        \u001b[36m1.5052\u001b[0m        \u001b[32m1.6639\u001b[0m  0.0182\n     95        \u001b[36m1.5027\u001b[0m        \u001b[32m1.6620\u001b[0m  0.0155\n     96        \u001b[36m1.5002\u001b[0m        \u001b[32m1.6602\u001b[0m  0.0178\n     97        \u001b[36m1.4978\u001b[0m        \u001b[32m1.6585\u001b[0m  0.0159\n     98        \u001b[36m1.4953\u001b[0m        \u001b[32m1.6570\u001b[0m  0.0148\n     99        \u001b[36m1.4929\u001b[0m        \u001b[32m1.6556\u001b[0m  0.0157\n    100        \u001b[36m1.4905\u001b[0m        \u001b[32m1.6542\u001b[0m  0.0147\n    101        \u001b[36m1.4881\u001b[0m        \u001b[32m1.6528\u001b[0m  0.0174\n    102        \u001b[36m1.4858\u001b[0m        \u001b[32m1.6514\u001b[0m  0.0150\n    103        \u001b[36m1.4836\u001b[0m        \u001b[32m1.6499\u001b[0m  0.0169\n    104        \u001b[36m1.4814\u001b[0m        \u001b[32m1.6484\u001b[0m  0.0147\n    105        \u001b[36m1.4792\u001b[0m        \u001b[32m1.6469\u001b[0m  0.0156\n    106        \u001b[36m1.4771\u001b[0m        \u001b[32m1.6453\u001b[0m  0.0154\n    107        \u001b[36m1.4750\u001b[0m        \u001b[32m1.6436\u001b[0m  0.0147\n    108        \u001b[36m1.4729\u001b[0m        \u001b[32m1.6417\u001b[0m  0.0156\n    109        \u001b[36m1.4708\u001b[0m        \u001b[32m1.6397\u001b[0m  0.0145\n    110        \u001b[36m1.4686\u001b[0m        \u001b[32m1.6375\u001b[0m  0.0145\n    111        \u001b[36m1.4665\u001b[0m        \u001b[32m1.6351\u001b[0m  0.0170\n    112        \u001b[36m1.4643\u001b[0m        \u001b[32m1.6324\u001b[0m  0.0147\n    113        \u001b[36m1.4621\u001b[0m        \u001b[32m1.6294\u001b[0m  0.0151\n    114        \u001b[36m1.4598\u001b[0m        \u001b[32m1.6260\u001b[0m  0.0160\n    115        \u001b[36m1.4575\u001b[0m        \u001b[32m1.6222\u001b[0m  0.0153\n    116        \u001b[36m1.4550\u001b[0m        \u001b[32m1.6178\u001b[0m  0.0152\n    117        \u001b[36m1.4525\u001b[0m        \u001b[32m1.6130\u001b[0m  0.0154\n    118        \u001b[36m1.4498\u001b[0m        \u001b[32m1.6075\u001b[0m  0.0148\n    119        \u001b[36m1.4471\u001b[0m        \u001b[32m1.6013\u001b[0m  0.0146\n    120        \u001b[36m1.4442\u001b[0m        \u001b[32m1.5945\u001b[0m  0.0146\n    121        \u001b[36m1.4412\u001b[0m        \u001b[32m1.5872\u001b[0m  0.0150\n    122        \u001b[36m1.4381\u001b[0m        \u001b[32m1.5796\u001b[0m  0.0154\n    123        \u001b[36m1.4350\u001b[0m        \u001b[32m1.5718\u001b[0m  0.0145\n    124        \u001b[36m1.4318\u001b[0m        \u001b[32m1.5642\u001b[0m  0.0150\n    125        \u001b[36m1.4287\u001b[0m        \u001b[32m1.5568\u001b[0m  0.0145\n    126        \u001b[36m1.4256\u001b[0m        \u001b[32m1.5496\u001b[0m  0.0858\n    127        \u001b[36m1.4224\u001b[0m        \u001b[32m1.5427\u001b[0m  0.0146\n    128        \u001b[36m1.4192\u001b[0m        \u001b[32m1.5359\u001b[0m  0.0158\n    129        \u001b[36m1.4159\u001b[0m        \u001b[32m1.5292\u001b[0m  0.0161\n    130        \u001b[36m1.4126\u001b[0m        \u001b[32m1.5227\u001b[0m  0.0165\n    131        \u001b[36m1.4093\u001b[0m        \u001b[32m1.5163\u001b[0m  0.0163\n    132        \u001b[36m1.4063\u001b[0m        \u001b[32m1.5103\u001b[0m  0.0168\n    133        \u001b[36m1.4035\u001b[0m        \u001b[32m1.5046\u001b[0m  0.0158\n    134        \u001b[36m1.4010\u001b[0m        \u001b[32m1.4994\u001b[0m  0.0157\n    135        \u001b[36m1.3986\u001b[0m        \u001b[32m1.4948\u001b[0m  0.0158\n    136        \u001b[36m1.3965\u001b[0m        \u001b[32m1.4909\u001b[0m  0.0163\n    137        \u001b[36m1.3944\u001b[0m        \u001b[32m1.4875\u001b[0m  0.0178\n    138        \u001b[36m1.3923\u001b[0m        \u001b[32m1.4846\u001b[0m  0.0171\n    139        \u001b[36m1.3903\u001b[0m        \u001b[32m1.4822\u001b[0m  0.0166\n    140        \u001b[36m1.3883\u001b[0m        \u001b[32m1.4801\u001b[0m  0.0165\n    141        \u001b[36m1.3864\u001b[0m        \u001b[32m1.4783\u001b[0m  0.0166\n    142        \u001b[36m1.3844\u001b[0m        \u001b[32m1.4767\u001b[0m  0.0155\n    143        \u001b[36m1.3824\u001b[0m        \u001b[32m1.4753\u001b[0m  0.0156\n    144        \u001b[36m1.3803\u001b[0m        \u001b[32m1.4740\u001b[0m  0.0198\n    145        \u001b[36m1.3781\u001b[0m        \u001b[32m1.4728\u001b[0m  0.0237\n    146        \u001b[36m1.3758\u001b[0m        \u001b[32m1.4717\u001b[0m  0.0167\n    147        \u001b[36m1.3733\u001b[0m        \u001b[32m1.4707\u001b[0m  0.0173\n    148        \u001b[36m1.3707\u001b[0m        \u001b[32m1.4700\u001b[0m  0.0180\n    149        \u001b[36m1.3679\u001b[0m        \u001b[32m1.4697\u001b[0m  0.0164\n    150        \u001b[36m1.3649\u001b[0m        1.4698  0.0159\n    151        \u001b[36m1.3618\u001b[0m        1.4707  0.0155\n    152        \u001b[36m1.3589\u001b[0m        1.4724  0.0147\n    153        \u001b[36m1.3561\u001b[0m        1.4748  0.0150\n    154        \u001b[36m1.3536\u001b[0m        1.4777  0.0154\n    155        \u001b[36m1.3514\u001b[0m        1.4808  0.0148\n    156        \u001b[36m1.3495\u001b[0m        1.4837  0.0154\n    157        \u001b[36m1.3479\u001b[0m        1.4863  0.0159\n    158        \u001b[36m1.3464\u001b[0m        1.4884  0.0153\n    159        \u001b[36m1.3450\u001b[0m        1.4899  0.0183\n    160        \u001b[36m1.3437\u001b[0m        1.4909  0.0191\n    161        \u001b[36m1.3424\u001b[0m        1.4914  0.0175\nStopping since valid_loss has not improved in the last 20 epochs.\n  epoch    train_loss    valid_loss     dur\n-------  ------------  ------------  ------\n      1      \u001b[36m229.4495\u001b[0m      \u001b[32m123.7451\u001b[0m  0.0180\n      2      \u001b[36m108.3800\u001b[0m       \u001b[32m30.8364\u001b[0m  0.0160\n      3       \u001b[36m43.5730\u001b[0m       75.1856  0.0162\n      4       72.0937       75.8210  0.0149\n      5       70.2897       34.8353  0.0181\n      6       \u001b[36m38.4169\u001b[0m       31.9015  0.0271\n      7       \u001b[36m33.8810\u001b[0m        \u001b[32m7.1743\u001b[0m  0.0169\n      8        \u001b[36m9.6413\u001b[0m       28.4917  0.0161\n      9       26.7402       16.6006  0.0151\n     10       15.2007       12.4031  0.0179\n     11       15.2064        9.3536  0.0290\n     12       10.7768        7.8176  0.0168\n     13        \u001b[36m8.9517\u001b[0m       18.4724  0.0163\n     14       15.7915        8.8257  0.0160\n     15        \u001b[36m8.6379\u001b[0m        \u001b[32m6.1797\u001b[0m  0.0158\n     16        \u001b[36m7.8180\u001b[0m        8.6405  0.0276\n     17        9.6825        7.0756  0.0162\n     18        \u001b[36m6.5533\u001b[0m        6.9432  0.0164\n     19        7.1226        7.0039  0.0156\n     20        7.1726        \u001b[32m4.3956\u001b[0m  0.0156\n     21        \u001b[36m4.4882\u001b[0m        5.0098  0.0327\n     22        5.6590        6.7227  0.0159\n     23        6.5900        \u001b[32m3.0953\u001b[0m  0.0160\n     24        \u001b[36m4.0444\u001b[0m        3.3780  0.0155\n     25        4.0506        4.6051  0.0157\n     26        4.5853        4.2886  0.0284\n     27        4.2443        3.6330  0.0176\n     28        4.0852        \u001b[32m2.2282\u001b[0m  0.0160\n     29        \u001b[36m2.6820\u001b[0m        2.4263  0.0160\n     30        2.8238        4.1587  0.0150\n     31        4.1700        2.5224  0.0326\n     32        3.0123        \u001b[32m1.3884\u001b[0m  0.0158\n     33        \u001b[36m1.8544\u001b[0m        2.4433  0.0151\n     34        2.7567        2.6544  0.0150\n     35        2.6951        2.3836  0.0151\n     36        2.5813        1.8916  0.0262\n     37        2.1915        1.5540  0.0196\n     38        1.9096        2.0687  0.0176\n     39        2.2947        1.7400  0.0173\n     40        2.2058        1.4266  0.0173\n     41        \u001b[36m1.7286\u001b[0m        \u001b[32m1.2983\u001b[0m  0.0282\n     42        \u001b[36m1.6175\u001b[0m        1.7641  0.0149\n     43        1.9038        1.8205  0.0153\n     44        2.0012        1.3483  0.0150\n     45        1.6309        \u001b[32m1.2290\u001b[0m  0.0152\n     46        \u001b[36m1.5453\u001b[0m        1.2783  0.0344\n     47        1.5516        1.2796  0.0155\n     48        1.5916        1.4957  0.0154\n     49        1.7044        \u001b[32m1.1022\u001b[0m  0.0148\n     50        \u001b[36m1.4065\u001b[0m        \u001b[32m1.0646\u001b[0m  0.0151\n     51        \u001b[36m1.3435\u001b[0m        1.3689  0.0273\n     52        1.5939        1.1913  0.0152\n     53        1.4167        1.2079  0.0173\n     54        1.4250        1.1368  0.0159\n     55        1.3904        \u001b[32m1.0357\u001b[0m  0.0150\n     56        \u001b[36m1.3110\u001b[0m        1.1845  0.0308\n     57        1.4088        \u001b[32m1.0113\u001b[0m  0.0154\n     58        \u001b[36m1.3072\u001b[0m        \u001b[32m1.0054\u001b[0m  0.0168\n     59        \u001b[36m1.2485\u001b[0m        1.0852  0.0194\n     60        1.3044        1.0908  0.0350\n     61        1.2957        1.1206  0.0186\n     62        1.3159        \u001b[32m0.9911\u001b[0m  0.0166\nIOPub message rate exceeded.\nThe notebook server will temporarily stop sending output\nto the client in order to avoid crashing it.\nTo change this limit, set the config variable\n`--NotebookApp.iopub_msg_rate_limit`.\n\nCurrent values:\nNotebookApp.iopub_msg_rate_limit=50.0 (msgs/sec)\nNotebookApp.rate_limit_window=3.0 (secs)\n\n\n  epoch    train_loss    valid_loss     dur\n-------  ------------  ------------  ------\n      1      \u001b[36m221.9372\u001b[0m      \u001b[32m181.8896\u001b[0m  0.0180\n      2      \u001b[36m145.0731\u001b[0m       \u001b[32m14.6279\u001b[0m  0.0161\n      3       \u001b[36m30.8552\u001b[0m      105.5181  0.0360\n      4       93.9595       17.9041  0.0159\n      5       \u001b[36m21.4236\u001b[0m       23.5510  0.0160\n      6       \u001b[36m19.2333\u001b[0m        \u001b[32m9.2405\u001b[0m  0.0197\n      7       \u001b[36m11.1039\u001b[0m       14.4506  0.0310\n      8       14.2249       11.9661  0.0169\n      9       11.4483       11.7275  0.0164\n     10       \u001b[36m11.0731\u001b[0m        \u001b[32m6.8907\u001b[0m  0.0167\n     11        \u001b[36m6.1997\u001b[0m        \u001b[32m5.9154\u001b[0m  0.0403\n     12        7.1004        \u001b[32m5.8778\u001b[0m  0.0163\n     13        \u001b[36m5.7629\u001b[0m        \u001b[32m5.7424\u001b[0m  0.0157\n     14        \u001b[36m5.7384\u001b[0m        \u001b[32m4.0998\u001b[0m  0.0166\n     15        \u001b[36m3.9225\u001b[0m        \u001b[32m3.2221\u001b[0m  0.0163\n     16        \u001b[36m3.4774\u001b[0m        \u001b[32m2.4688\u001b[0m  0.0373\n     17        \u001b[36m2.8527\u001b[0m        2.9080  0.0160\n     18        3.2369        3.0451  0.0169\n     19        2.9389        2.6015  0.0164\n     20        3.0372        \u001b[32m2.4314\u001b[0m  0.0404\n     21        \u001b[36m2.6792\u001b[0m        \u001b[32m2.4257\u001b[0m  0.0169\n     22        \u001b[36m2.5099\u001b[0m        \u001b[32m2.2219\u001b[0m  0.0178\n     23        \u001b[36m2.4280\u001b[0m        \u001b[32m1.8060\u001b[0m  0.0166\n     24        \u001b[36m2.1142\u001b[0m        2.4425  0.0158\n     25        2.5424        \u001b[32m1.7427\u001b[0m  0.0365\n     26        \u001b[36m1.9796\u001b[0m        1.9123  0.0166\n     27        2.2279        1.7680  0.0161\n     28        \u001b[36m1.9759\u001b[0m        \u001b[32m1.6380\u001b[0m  0.0165\n     29        \u001b[36m1.8883\u001b[0m        1.7221  0.0392\n     30        1.8974        \u001b[32m1.5234\u001b[0m  0.0201\n     31        \u001b[36m1.7467\u001b[0m        1.5347  0.0164\n     32        1.7541        1.5636  0.0164\n     33        \u001b[36m1.6939\u001b[0m        \u001b[32m1.3637\u001b[0m  0.0363\n     34        \u001b[36m1.5956\u001b[0m        1.4552  0.0167\n     35        1.6493        1.4728  0.0166\n     36        \u001b[36m1.5649\u001b[0m        1.4331  0.0191\n     37        \u001b[36m1.5355\u001b[0m        \u001b[32m1.3524\u001b[0m  0.0163\n     38        \u001b[36m1.5275\u001b[0m        \u001b[32m1.2580\u001b[0m  0.0198\n     39        \u001b[36m1.4391\u001b[0m        1.3497  0.0178\n     40        1.4708        1.3873  0.0166\n     41        1.4514        \u001b[32m1.2176\u001b[0m  0.0165\n     42        \u001b[36m1.3898\u001b[0m        1.2447  0.0367\n     43        \u001b[36m1.3860\u001b[0m        1.2253  0.0160\n     44        \u001b[36m1.3238\u001b[0m        1.2805  0.0166\n     45        1.3585        \u001b[32m1.2149\u001b[0m  0.0180\n     46        \u001b[36m1.3155\u001b[0m        \u001b[32m1.1513\u001b[0m  0.0359\n     47        \u001b[36m1.2790\u001b[0m        1.2018  0.0157\n     48        1.2854        \u001b[32m1.1294\u001b[0m  0.0168\n     49        \u001b[36m1.2340\u001b[0m        1.1527  0.0166\n     50        1.2525        1.1456  0.0362\n     51        1.2361        \u001b[32m1.1214\u001b[0m  0.0165\n     52        \u001b[36m1.2257\u001b[0m        \u001b[32m1.0844\u001b[0m  0.0170\n     53        \u001b[36m1.2071\u001b[0m        \u001b[32m1.0755\u001b[0m  0.0164\n     54        \u001b[36m1.1820\u001b[0m        1.1027  0.0161\n     55        1.1908        1.0816  0.0406\n     56        1.1825        \u001b[32m1.0411\u001b[0m  0.0174\n     57        \u001b[36m1.1586\u001b[0m        1.0476  0.0195\n     58        \u001b[36m1.1545\u001b[0m        1.0551  0.0157\n     59        \u001b[36m1.1450\u001b[0m        \u001b[32m1.0313\u001b[0m  0.0370\n     60        \u001b[36m1.1312\u001b[0m        1.0369  0.0172\n     61        \u001b[36m1.1256\u001b[0m        \u001b[32m1.0252\u001b[0m  0.0170\n     62        \u001b[36m1.1116\u001b[0m        \u001b[32m1.0067\u001b[0m  0.0163\n     63        \u001b[36m1.1050\u001b[0m        \u001b[32m0.9995\u001b[0m  0.0408\n     64        \u001b[36m1.0890\u001b[0m        1.0062  0.0889\n     65        1.0893        \u001b[32m0.9985\u001b[0m  0.0202\n     66        \u001b[36m1.0848\u001b[0m        \u001b[32m0.9815\u001b[0m  0.0199\n     67        \u001b[36m1.0696\u001b[0m        0.9929  0.0215\n     68        \u001b[36m1.0689\u001b[0m        0.9836  0.0365\n     69        \u001b[36m1.0583\u001b[0m        \u001b[32m0.9725\u001b[0m  0.0202\n     70        \u001b[36m1.0515\u001b[0m        0.9794  0.0197\n     71        \u001b[36m1.0499\u001b[0m        \u001b[32m0.9675\u001b[0m  0.0194\n     72        \u001b[36m1.0419\u001b[0m        \u001b[32m0.9541\u001b[0m  0.0354\n     73        \u001b[36m1.0345\u001b[0m        \u001b[32m0.9510\u001b[0m  0.0194\n     74        \u001b[36m1.0286\u001b[0m        \u001b[32m0.9435\u001b[0m  0.0178\n     75        \u001b[36m1.0247\u001b[0m        \u001b[32m0.9390\u001b[0m  0.0207\n     76        \u001b[36m1.0203\u001b[0m        0.9423  0.0370\n     77        \u001b[36m1.0160\u001b[0m        \u001b[32m0.9350\u001b[0m  0.0160\n     78        \u001b[36m1.0110\u001b[0m        \u001b[32m0.9289\u001b[0m  0.0168\n     79        \u001b[36m1.0053\u001b[0m        0.9348  0.0163\n     80        \u001b[36m1.0030\u001b[0m        0.9321  0.0171\n     81        \u001b[36m1.0009\u001b[0m        \u001b[32m0.9245\u001b[0m  0.0371\n     82        \u001b[36m0.9954\u001b[0m        0.9257  0.0169\n     83        \u001b[36m0.9928\u001b[0m        \u001b[32m0.9188\u001b[0m  0.0170\n     84        \u001b[36m0.9876\u001b[0m        \u001b[32m0.9158\u001b[0m  0.0164\n     85        \u001b[36m0.9835\u001b[0m        0.9195  0.0390\n     86        \u001b[36m0.9827\u001b[0m        \u001b[32m0.9107\u001b[0m  0.0168\n     87        \u001b[36m0.9773\u001b[0m        \u001b[32m0.9095\u001b[0m  0.0172\n     88        \u001b[36m0.9730\u001b[0m        0.9097  0.0172\n     89        \u001b[36m0.9700\u001b[0m        \u001b[32m0.9042\u001b[0m  0.0330\n     90        \u001b[36m0.9666\u001b[0m        0.9072  0.0168\n     91        \u001b[36m0.9641\u001b[0m        0.9048  0.0162\n     92        \u001b[36m0.9608\u001b[0m        \u001b[32m0.9009\u001b[0m  0.0168\n     93        \u001b[36m0.9565\u001b[0m        0.9056  0.0166\n     94        \u001b[36m0.9539\u001b[0m        0.9038  0.0365\n     95        \u001b[36m0.9514\u001b[0m        0.9027  0.0167\n     96        \u001b[36m0.9481\u001b[0m        0.9053  0.0170\n     97        \u001b[36m0.9457\u001b[0m        0.9019  0.0173\n     98        \u001b[36m0.9417\u001b[0m        0.9038  0.0413\n     99        \u001b[36m0.9389\u001b[0m        0.9045  0.0167\n    100        \u001b[36m0.9370\u001b[0m        0.9027  0.0164\n    101        \u001b[36m0.9338\u001b[0m        0.9060  0.0158\n    102        \u001b[36m0.9315\u001b[0m        0.9047  0.0364\n    103        \u001b[36m0.9286\u001b[0m        0.9058  0.0170\n    104        \u001b[36m0.9257\u001b[0m        0.9083  0.0183\n    105        \u001b[36m0.9240\u001b[0m        0.9055  0.0174\n    106        \u001b[36m0.9212\u001b[0m        0.9074  0.0197\n    107        \u001b[36m0.9187\u001b[0m        0.9070  0.0190\n    108        \u001b[36m0.9163\u001b[0m        0.9050  0.0198\nStopping since valid_loss has not improved in the last 20 epochs.\n  epoch    train_loss    valid_loss     dur\n-------  ------------  ------------  ------\n      1      \u001b[36m235.8435\u001b[0m      \u001b[32m161.6953\u001b[0m  0.0163\n      2      \u001b[36m151.1552\u001b[0m       \u001b[32m16.5355\u001b[0m  0.0281\n      3       \u001b[36m15.5683\u001b[0m      137.5430  0.0161\n      4      141.0050       20.1809  0.0161\n      5       20.6164       42.0243  0.0161\n      6       39.4481       19.3919  0.0143\n      7       17.9878       17.7874  0.0142\n      8       18.1764       \u001b[32m11.0198\u001b[0m  0.0227\n      9       \u001b[36m10.6060\u001b[0m       19.7911  0.0249\n     10       20.3417       11.6358  0.0173\n     11       12.2546       12.7434  0.0255\n     12       13.3794       11.4161  0.0173\n     13       11.8266       15.0592  0.0152\n     14       13.5222       \u001b[32m10.1458\u001b[0m  0.0154\n     15        \u001b[36m9.4847\u001b[0m        \u001b[32m9.2223\u001b[0m  0.0164\n     16        9.6912       10.9531  0.0161\n     17       11.1064        \u001b[32m8.0456\u001b[0m  0.0160\n     18        \u001b[36m8.0773\u001b[0m        \u001b[32m7.7649\u001b[0m  0.0162\n     19        \u001b[36m7.6699\u001b[0m        \u001b[32m6.0995\u001b[0m  0.0161\n     20        \u001b[36m6.3694\u001b[0m        8.0660  0.0229\n     21        8.2814        \u001b[32m4.4449\u001b[0m  0.0187\n     22        \u001b[36m4.4151\u001b[0m        6.3171  0.0191\n     23        6.6358        4.5979  0.0160\n     24        4.7741        6.5397  0.0178\n     25        6.3555        \u001b[32m3.3819\u001b[0m  0.0157\n     26        \u001b[36m3.4008\u001b[0m        5.7746  0.0173\n     27        5.6705        3.9316  0.0158\n     28        3.9017        4.6107  0.0153\n     29        4.6448        \u001b[32m3.1666\u001b[0m  0.0153\n     30        \u001b[36m3.1973\u001b[0m        4.1704  0.0156\n     31        4.3821        \u001b[32m3.0977\u001b[0m  0.0142\n     32        3.3445        3.1907  0.0142\n     33        3.3570        \u001b[32m2.9933\u001b[0m  0.0151\n     34        \u001b[36m3.1390\u001b[0m        3.1973  0.0150\n     35        3.2533        \u001b[32m2.6753\u001b[0m  0.0159\n     36        \u001b[36m2.9023\u001b[0m        \u001b[32m2.2830\u001b[0m  0.0141\n     37        \u001b[36m2.6037\u001b[0m        2.6899  0.0158\n     38        2.9359        \u001b[32m2.1504\u001b[0m  0.0157\n     39        \u001b[36m2.4467\u001b[0m        2.2392  0.0158\n     40        2.5084        \u001b[32m1.9003\u001b[0m  0.0156\n     41        \u001b[36m2.1339\u001b[0m        2.3047  0.0148\n     42        2.4439        \u001b[32m1.7868\u001b[0m  0.0142\n     43        \u001b[36m1.8891\u001b[0m        1.9713  0.0143\n     44        2.1790        1.8038  0.0145\n     45        1.9637        2.0856  0.0142\n     46        2.1282        \u001b[32m1.7042\u001b[0m  0.0143\n     47        \u001b[36m1.8356\u001b[0m        1.8792  0.0154\n     48        2.0561        \u001b[32m1.6794\u001b[0m  0.0150\n     49        1.8847        1.7219  0.0157\n     50        1.8619        1.6926  0.0153\n     51        \u001b[36m1.7684\u001b[0m        1.6795  0.0156\n     52        1.8096        \u001b[32m1.5885\u001b[0m  0.0155\n     53        \u001b[36m1.7109\u001b[0m        1.6065  0.0154\n     54        \u001b[36m1.6713\u001b[0m        1.6214  0.0153\n     55        1.6964        \u001b[32m1.5404\u001b[0m  0.0147\n     56        \u001b[36m1.6491\u001b[0m        \u001b[32m1.5018\u001b[0m  0.0182\n     57        \u001b[36m1.6282\u001b[0m        1.5276  0.0152\n     58        \u001b[36m1.6137\u001b[0m        1.5826  0.0158\n     59        1.6412        \u001b[32m1.4635\u001b[0m  0.0159\n     60        \u001b[36m1.5591\u001b[0m        1.4767  0.0893\n     61        1.5844        1.4643  0.0161\n     62        \u001b[36m1.5492\u001b[0m        1.5076  0.0150\n     63        1.5559        \u001b[32m1.4448\u001b[0m  0.0143\n     64        \u001b[36m1.5022\u001b[0m        1.4620  0.0145\n     65        1.5391        \u001b[32m1.4341\u001b[0m  0.0146\n     66        \u001b[36m1.4915\u001b[0m        1.4651  0.0146\n     67        1.5067        \u001b[32m1.4210\u001b[0m  0.0146\n     68        \u001b[36m1.4788\u001b[0m        1.4248  0.0148\n     69        1.4932        \u001b[32m1.4003\u001b[0m  0.0151\n     70        \u001b[36m1.4531\u001b[0m        1.4473  0.0153\n     71        1.4676        1.4171  0.0150\n     72        \u001b[36m1.4452\u001b[0m        \u001b[32m1.3963\u001b[0m  0.0154\n     73        1.4469        \u001b[32m1.3793\u001b[0m  0.0154\n     74        \u001b[36m1.4289\u001b[0m        1.3969  0.0151\n     75        1.4375        1.3798  0.0160\n     76        \u001b[36m1.4214\u001b[0m        \u001b[32m1.3725\u001b[0m  0.0151\n     77        \u001b[36m1.4196\u001b[0m        1.3751  0.0151\n     78        \u001b[36m1.4134\u001b[0m        1.3878  0.0162\n     79        \u001b[36m1.4098\u001b[0m        1.3729  0.0225\n     80        \u001b[36m1.4007\u001b[0m        \u001b[32m1.3578\u001b[0m  0.0152\n     81        \u001b[36m1.3997\u001b[0m        \u001b[32m1.3526\u001b[0m  0.0146\n     82        \u001b[36m1.3954\u001b[0m        1.3542  0.0160\n     83        \u001b[36m1.3889\u001b[0m        \u001b[32m1.3522\u001b[0m  0.0148\n     84        \u001b[36m1.3873\u001b[0m        \u001b[32m1.3370\u001b[0m  0.0169\n     85        \u001b[36m1.3830\u001b[0m        \u001b[32m1.3314\u001b[0m  0.0145\n     86        \u001b[36m1.3787\u001b[0m        1.3326  0.0143\n     87        \u001b[36m1.3732\u001b[0m        1.3316  0.0154\n     88        \u001b[36m1.3721\u001b[0m        \u001b[32m1.3199\u001b[0m  0.0157\n     89        \u001b[36m1.3658\u001b[0m        \u001b[32m1.3185\u001b[0m  0.0154\n     90        \u001b[36m1.3635\u001b[0m        1.3217  0.0162\n     91        \u001b[36m1.3596\u001b[0m        \u001b[32m1.3184\u001b[0m  0.0162\n     92        \u001b[36m1.3570\u001b[0m        \u001b[32m1.3060\u001b[0m  0.0164\n     93        \u001b[36m1.3523\u001b[0m        \u001b[32m1.3035\u001b[0m  0.0162\n     94        \u001b[36m1.3507\u001b[0m        1.3041  0.0160\n     95        \u001b[36m1.3458\u001b[0m        1.3038  0.0146\n     96        \u001b[36m1.3429\u001b[0m        \u001b[32m1.2954\u001b[0m  0.0154\n     97        \u001b[36m1.3391\u001b[0m        \u001b[32m1.2901\u001b[0m  0.0160\n     98        \u001b[36m1.3363\u001b[0m        \u001b[32m1.2870\u001b[0m  0.0160\n     99        \u001b[36m1.3317\u001b[0m        \u001b[32m1.2824\u001b[0m  0.0152\n    100        \u001b[36m1.3291\u001b[0m        \u001b[32m1.2729\u001b[0m  0.0153\n    101        \u001b[36m1.3250\u001b[0m        \u001b[32m1.2681\u001b[0m  0.0145\n    102        \u001b[36m1.3217\u001b[0m        \u001b[32m1.2678\u001b[0m  0.0144\nIOPub message rate exceeded.\nThe notebook server will temporarily stop sending output\nto the client in order to avoid crashing it.\nTo change this limit, set the config variable\n`--NotebookApp.iopub_msg_rate_limit`.\n\nCurrent values:\nNotebookApp.iopub_msg_rate_limit=50.0 (msgs/sec)\nNotebookApp.rate_limit_window=3.0 (secs)\n\n    147        \u001b[36m1.1833\u001b[0m        \u001b[32m1.1197\u001b[0m  0.0144\n    148        \u001b[36m1.1814\u001b[0m        \u001b[32m1.1180\u001b[0m  0.0148\n    149        \u001b[36m1.1794\u001b[0m        \u001b[32m1.1163\u001b[0m  0.0152\n    150        \u001b[36m1.1775\u001b[0m        \u001b[32m1.1148\u001b[0m  0.0147\n    151        \u001b[36m1.1755\u001b[0m        \u001b[32m1.1134\u001b[0m  0.0148\n    152        \u001b[36m1.1736\u001b[0m        \u001b[32m1.1119\u001b[0m  0.0146\n    153        \u001b[36m1.1717\u001b[0m        \u001b[32m1.1105\u001b[0m  0.0143\n    154        \u001b[36m1.1698\u001b[0m        \u001b[32m1.1093\u001b[0m  0.0142\n    155        \u001b[36m1.1680\u001b[0m        \u001b[32m1.1081\u001b[0m  0.0154\n    156        \u001b[36m1.1662\u001b[0m        \u001b[32m1.1069\u001b[0m  0.0153\n    157        \u001b[36m1.1646\u001b[0m        \u001b[32m1.1056\u001b[0m  0.0153\n    158        \u001b[36m1.1629\u001b[0m        \u001b[32m1.1044\u001b[0m  0.0150\n    159        \u001b[36m1.1613\u001b[0m        \u001b[32m1.1033\u001b[0m  0.0147\n    160        \u001b[36m1.1598\u001b[0m        \u001b[32m1.1022\u001b[0m  0.0145\n    161        \u001b[36m1.1582\u001b[0m        \u001b[32m1.1011\u001b[0m  0.0169\n    162        \u001b[36m1.1568\u001b[0m        \u001b[32m1.1001\u001b[0m  0.0161\n    163        \u001b[36m1.1553\u001b[0m        \u001b[32m1.0991\u001b[0m  0.0164\n    164        \u001b[36m1.1540\u001b[0m        \u001b[32m1.0981\u001b[0m  0.0161\n    165        \u001b[36m1.1526\u001b[0m        \u001b[32m1.0971\u001b[0m  0.0164\n    166        \u001b[36m1.1513\u001b[0m        \u001b[32m1.0963\u001b[0m  0.0156\n    167        \u001b[36m1.1500\u001b[0m        \u001b[32m1.0956\u001b[0m  0.0165\n    168        \u001b[36m1.1487\u001b[0m        \u001b[32m1.0949\u001b[0m  0.0150\n    169        \u001b[36m1.1474\u001b[0m        \u001b[32m1.0943\u001b[0m  0.0155\n    170        \u001b[36m1.1462\u001b[0m        \u001b[32m1.0937\u001b[0m  0.0197\n    171        \u001b[36m1.1450\u001b[0m        \u001b[32m1.0932\u001b[0m  0.0148\n    172        \u001b[36m1.1438\u001b[0m        \u001b[32m1.0927\u001b[0m  0.0151\n    173        \u001b[36m1.1426\u001b[0m        \u001b[32m1.0922\u001b[0m  0.0153\n    174        \u001b[36m1.1414\u001b[0m        \u001b[32m1.0918\u001b[0m  0.0156\n    175        \u001b[36m1.1403\u001b[0m        \u001b[32m1.0915\u001b[0m  0.0152\n    176        \u001b[36m1.1391\u001b[0m        \u001b[32m1.0912\u001b[0m  0.0150\n    177        \u001b[36m1.1380\u001b[0m        \u001b[32m1.0908\u001b[0m  0.0150\n    178        \u001b[36m1.1369\u001b[0m        \u001b[32m1.0905\u001b[0m  0.0143\n    179        \u001b[36m1.1358\u001b[0m        \u001b[32m1.0903\u001b[0m  0.0151\n    180        \u001b[36m1.1348\u001b[0m        \u001b[32m1.0901\u001b[0m  0.0144\n    181        \u001b[36m1.1337\u001b[0m        \u001b[32m1.0899\u001b[0m  0.0222\n    182        \u001b[36m1.1327\u001b[0m        \u001b[32m1.0897\u001b[0m  0.0154\n    183        \u001b[36m1.1316\u001b[0m        \u001b[32m1.0895\u001b[0m  0.0147\n    184        \u001b[36m1.1306\u001b[0m        \u001b[32m1.0894\u001b[0m  0.0146\n    185        \u001b[36m1.1295\u001b[0m        \u001b[32m1.0892\u001b[0m  0.0146\n    186        \u001b[36m1.1284\u001b[0m        \u001b[32m1.0890\u001b[0m  0.0148\n    187        \u001b[36m1.1274\u001b[0m        \u001b[32m1.0889\u001b[0m  0.0140\n    188        \u001b[36m1.1263\u001b[0m        \u001b[32m1.0888\u001b[0m  0.0143\n    189        \u001b[36m1.1253\u001b[0m        \u001b[32m1.0887\u001b[0m  0.0140\n    190        \u001b[36m1.1242\u001b[0m        \u001b[32m1.0886\u001b[0m  0.0147\n    191        \u001b[36m1.1231\u001b[0m        \u001b[32m1.0885\u001b[0m  0.0151\n    192        \u001b[36m1.1220\u001b[0m        \u001b[32m1.0885\u001b[0m  0.0153\nStopping since valid_loss has not improved in the last 20 epochs.\n",
     "output_type": "stream"
    }
   ]
  },
  {
   "cell_type": "code",
   "metadata": {
    "cell_id": "673f4af6-3dfb-4602-8324-bdfc5da142e5",
    "tags": [],
    "deepnote_to_be_reexecuted": true,
    "source_hash": "77a89b52",
    "execution_start": 1642822622726,
    "execution_millis": 200,
    "output_cleared": true,
    "deepnote_cell_type": "code"
   },
   "source": "y_predictions_train = list()\ny_predictions_internal_test = list()\ny_predictions_blind_test = list()\n\n#predictions on every model is averaged\nfor model in best_models:\n    #prediction on TRAINING SET\n    y_pred = model.predict(X)\n    y_predictions_train.append(y_pred)\n    \n    #prediction on INTERNAL TEST SET\n    y_pred = model.predict(X_test)\n    y_predictions_internal_test.append(y_pred)\n\n    #prediction on BLIND TEST SET\n    y_pred = model.predict(blind_ts)\n    y_predictions_blind_test.append(y_pred)",
   "execution_count": null,
   "outputs": []
  },
  {
   "cell_type": "code",
   "metadata": {
    "cell_id": "6ec07286-f91e-49c0-aec8-58deb00c31c5",
    "tags": [],
    "deepnote_to_be_reexecuted": true,
    "source_hash": "e7c5193c",
    "execution_start": 1642822622931,
    "execution_millis": 85177,
    "deepnote_output_heights": [
     null,
     462
    ],
    "output_cleared": false,
    "deepnote_cell_type": "code"
   },
   "source": "#Wall time: 2min 21s (Michele)\nloss_train_best_models = list()\nloss_test_best_models = list()\n\nfor i in range(len(eval_best_models)):\n    epochs = epochs_best_models[i]\n    eval_model = eval_best_models[i]\n    score_train, score_test, loss_train, loss_test = fit_and_score(epochs, eval_model, X, y, X_test, y_test)\n    loss_train_best_models.append(loss_train)\n    loss_test_best_models.append(loss_test)",
   "execution_count": null,
   "outputs": [
    {
     "name": "stdout",
     "text": "    260        \u001b[36m0.9237\u001b[0m        0.9102  0.0154\n    261        \u001b[36m0.9228\u001b[0m        0.9101  0.0230\n    262        \u001b[36m0.9219\u001b[0m        0.9100  0.0151\n    263        \u001b[36m0.9210\u001b[0m        0.9099  0.0154\n    264        \u001b[36m0.9201\u001b[0m        0.9098  0.0153\n    265        \u001b[36m0.9192\u001b[0m        0.9097  0.0151\n    266        \u001b[36m0.9183\u001b[0m        0.9096  0.0150\n  epoch    train_loss    valid_loss     dur\n-------  ------------  ------------  ------\n      1      \u001b[36m235.7298\u001b[0m      \u001b[32m238.8928\u001b[0m  0.0147\n      2      \u001b[36m221.9222\u001b[0m      \u001b[32m205.3248\u001b[0m  0.0161\n      3      \u001b[36m188.4602\u001b[0m      \u001b[32m141.3710\u001b[0m  0.0160\n      4      \u001b[36m126.2437\u001b[0m       \u001b[32m57.4045\u001b[0m  0.0160\n      5       \u001b[36m48.7690\u001b[0m       \u001b[32m24.3566\u001b[0m  0.0159\n      6       \u001b[36m25.8006\u001b[0m       35.7005  0.0163\n      7       38.7884       43.5099  0.0151\n      8       45.8926       44.7588  0.0158\n      9       44.8250       32.6891  0.0151\n     10       33.3746       \u001b[32m21.4643\u001b[0m  0.0147\n     11       \u001b[36m21.7621\u001b[0m       \u001b[32m13.4075\u001b[0m  0.0160\n     12       \u001b[36m13.3557\u001b[0m       \u001b[32m12.1251\u001b[0m  0.0201\n     13       \u001b[36m11.8287\u001b[0m       16.4426  0.0161\n     14       15.4487       20.3454  0.0151\n     15       18.4410       19.0120  0.0148\n     16       16.9577       13.4337  0.0150\n     17       12.5276       \u001b[32m10.0871\u001b[0m  0.0148\n     18        \u001b[36m9.9322\u001b[0m        \u001b[32m8.7029\u001b[0m  0.0146\n     19        \u001b[36m8.9937\u001b[0m        \u001b[32m8.2869\u001b[0m  0.0167\n     20        \u001b[36m8.6037\u001b[0m        \u001b[32m7.9397\u001b[0m  0.0163\n     21        \u001b[36m8.1151\u001b[0m        8.3071  0.0153\n     22        8.3620        8.1806  0.0151\n     23        8.1523        \u001b[32m7.2854\u001b[0m  0.0153\n     24        \u001b[36m7.2420\u001b[0m        \u001b[32m5.9538\u001b[0m  0.0166\n     25        \u001b[36m5.9706\u001b[0m        \u001b[32m4.7281\u001b[0m  0.0149\n     26        \u001b[36m4.8519\u001b[0m        \u001b[32m3.9675\u001b[0m  0.0159\n     27        \u001b[36m4.1952\u001b[0m        \u001b[32m3.5911\u001b[0m  0.0149\n     28        \u001b[36m3.8513\u001b[0m        \u001b[32m3.3622\u001b[0m  0.0150\n     29        \u001b[36m3.5835\u001b[0m        \u001b[32m3.2336\u001b[0m  0.0171\n     30        \u001b[36m3.4059\u001b[0m        3.2571  0.0154\n     31        \u001b[36m3.3926\u001b[0m        3.3294  0.0151\n     32        3.4365        3.2471  0.0151\n     33        \u001b[36m3.3468\u001b[0m        \u001b[32m2.9639\u001b[0m  0.0151\n     34        \u001b[36m3.1142\u001b[0m        \u001b[32m2.6536\u001b[0m  0.0154\n     35        \u001b[36m2.9083\u001b[0m        \u001b[32m2.4858\u001b[0m  0.0198\n     36        \u001b[36m2.8374\u001b[0m        \u001b[32m2.4249\u001b[0m  0.0151\n     37        2.8494        \u001b[32m2.3494\u001b[0m  0.0148\n     38        \u001b[36m2.7984\u001b[0m        \u001b[32m2.1866\u001b[0m  0.0148\n     39        \u001b[36m2.6054\u001b[0m        \u001b[32m1.9954\u001b[0m  0.0150\n     40        \u001b[36m2.3550\u001b[0m        \u001b[32m1.9100\u001b[0m  0.0173\n     41        \u001b[36m2.2052\u001b[0m        1.9634  0.0162\n     42        2.2056        2.0221  0.0159\n     43        2.2326        1.9583  0.0160\n     44        \u001b[36m2.1712\u001b[0m        \u001b[32m1.8127\u001b[0m  0.0159\n     45        \u001b[36m2.0741\u001b[0m        \u001b[32m1.7098\u001b[0m  0.0159\n     46        \u001b[36m2.0515\u001b[0m        \u001b[32m1.6102\u001b[0m  0.0151\n     47        \u001b[36m1.9755\u001b[0m        \u001b[32m1.5159\u001b[0m  0.0151\n     48        \u001b[36m1.8153\u001b[0m        1.6180  0.0153\n     49        1.8533        1.7261  0.0147\n     50        1.9231        1.6226  0.0149\n     51        1.8462        1.5470  0.0149\n     52        1.8546        \u001b[32m1.5049\u001b[0m  0.0147\n     53        \u001b[36m1.8078\u001b[0m        \u001b[32m1.4727\u001b[0m  0.0154\n     54        \u001b[36m1.7034\u001b[0m        1.5230  0.0153\n     55        1.7123        \u001b[32m1.4560\u001b[0m  0.0149\n     56        \u001b[36m1.6493\u001b[0m        \u001b[32m1.3548\u001b[0m  0.0186\n     57        \u001b[36m1.6028\u001b[0m        \u001b[32m1.3335\u001b[0m  0.0152\n     58        1.6109        \u001b[32m1.3203\u001b[0m  0.0173\n     59        \u001b[36m1.5567\u001b[0m        1.3659  0.0161\n     60        \u001b[36m1.5552\u001b[0m        1.3932  0.0160\n     61        1.5653        1.3328  0.0160\n     62        \u001b[36m1.5302\u001b[0m        \u001b[32m1.2911\u001b[0m  0.0163\n     63        1.5346        \u001b[32m1.2845\u001b[0m  0.0170\n     64        1.5313        1.2981  0.0164\n     65        \u001b[36m1.5081\u001b[0m        1.3292  0.0188\n     66        1.5097        1.3044  0.0160\n     67        \u001b[36m1.4830\u001b[0m        \u001b[32m1.2359\u001b[0m  0.0147\n     68        \u001b[36m1.4387\u001b[0m        \u001b[32m1.1969\u001b[0m  0.0147\n     69        \u001b[36m1.4203\u001b[0m        \u001b[32m1.1921\u001b[0m  0.0160\n     70        \u001b[36m1.4011\u001b[0m        1.2157  0.0149\n     71        \u001b[36m1.3908\u001b[0m        1.2454  0.0150\n     72        1.3972        1.2307  0.0153\n     73        \u001b[36m1.3825\u001b[0m        \u001b[32m1.1825\u001b[0m  0.0155\n     74        \u001b[36m1.3567\u001b[0m        \u001b[32m1.1466\u001b[0m  0.0148\n     75        \u001b[36m1.3429\u001b[0m        \u001b[32m1.1354\u001b[0m  0.0149\n     76        \u001b[36m1.3314\u001b[0m        1.1494  0.0150\n     77        \u001b[36m1.3310\u001b[0m        1.1652  0.0152\n     78        1.3376        1.1497  0.0154\n     79        \u001b[36m1.3271\u001b[0m        \u001b[32m1.1179\u001b[0m  0.0152\n     80        \u001b[36m1.3103\u001b[0m        \u001b[32m1.1010\u001b[0m  0.0164\n     81        \u001b[36m1.3001\u001b[0m        1.1056  0.0233\n     82        \u001b[36m1.2926\u001b[0m        1.1254  0.0149\n     83        1.2929        1.1378  0.0149\n     84        1.2941        1.1253  0.0161\n     85        \u001b[36m1.2848\u001b[0m        1.1014  0.0153\n     86        \u001b[36m1.2733\u001b[0m        \u001b[32m1.0870\u001b[0m  0.0149\n     87        \u001b[36m1.2671\u001b[0m        1.0881  0.0150\n     88        \u001b[36m1.2643\u001b[0m        1.1001  0.0152\n     89        1.2662        1.1086  0.0150\n     90        1.2681        1.1019  0.0152\n     91        \u001b[36m1.2636\u001b[0m        1.0876  0.0166\n     92        \u001b[36m1.2569\u001b[0m        \u001b[32m1.0793\u001b[0m  0.0153\n     93        \u001b[36m1.2528\u001b[0m        1.0815  0.0149\n     94        \u001b[36m1.2504\u001b[0m        1.0900  0.0163\n     95        \u001b[36m1.2502\u001b[0m        1.0942  0.0153\n     96        \u001b[36m1.2494\u001b[0m        1.0863  0.0155\n     97        \u001b[36m1.2442\u001b[0m        \u001b[32m1.0721\u001b[0m  0.0153\n     98        \u001b[36m1.2371\u001b[0m        \u001b[32m1.0624\u001b[0m  0.0155\n     99        \u001b[36m1.2317\u001b[0m        \u001b[32m1.0619\u001b[0m  0.0186\n    100        \u001b[36m1.2281\u001b[0m        1.0675  0.0176\n    101        \u001b[36m1.2268\u001b[0m        1.0712  0.0165\n    102        \u001b[36m1.2257\u001b[0m        1.0670  0.0201\n    103        \u001b[36m1.2222\u001b[0m        \u001b[32m1.0580\u001b[0m  0.0158\n    104        \u001b[36m1.2174\u001b[0m        \u001b[32m1.0516\u001b[0m  0.0154\n    105        \u001b[36m1.2135\u001b[0m        \u001b[32m1.0510\u001b[0m  0.0153\n    106        \u001b[36m1.2111\u001b[0m        1.0543  0.0153\n    107        \u001b[36m1.2103\u001b[0m        1.0556  0.0154\n    108        \u001b[36m1.2094\u001b[0m        1.0515  0.0153\n    109        \u001b[36m1.2066\u001b[0m        \u001b[32m1.0446\u001b[0m  0.0150\n    110        \u001b[36m1.2029\u001b[0m        \u001b[32m1.0403\u001b[0m  0.0155\n    111        \u001b[36m1.1998\u001b[0m        1.0409  0.0158\n    112        \u001b[36m1.1981\u001b[0m        1.0445  0.0150\n    113        \u001b[36m1.1974\u001b[0m        1.0464  0.0152\n    114        \u001b[36m1.1965\u001b[0m        1.0437  0.0149\n    115        \u001b[36m1.1943\u001b[0m        \u001b[32m1.0383\u001b[0m  0.0150\n    116        \u001b[36m1.1912\u001b[0m        \u001b[32m1.0341\u001b[0m  0.0149\n    117        \u001b[36m1.1885\u001b[0m        \u001b[32m1.0334\u001b[0m  0.0152\n    118        \u001b[36m1.1868\u001b[0m        1.0351  0.0148\n    119        \u001b[36m1.1860\u001b[0m        1.0361  0.0146\n    120        \u001b[36m1.1851\u001b[0m        1.0344  0.0146\n    121        \u001b[36m1.1833\u001b[0m        \u001b[32m1.0309\u001b[0m  0.0153\n    122        \u001b[36m1.1810\u001b[0m        \u001b[32m1.0281\u001b[0m  0.0152\n    123        \u001b[36m1.1789\u001b[0m        \u001b[32m1.0275\u001b[0m  0.0157\n    124        \u001b[36m1.1776\u001b[0m        1.0284  0.0158\n    125        \u001b[36m1.1767\u001b[0m        1.0285  0.0164\n    126        \u001b[36m1.1757\u001b[0m        \u001b[32m1.0265\u001b[0m  0.0164\n    127        \u001b[36m1.1742\u001b[0m        \u001b[32m1.0231\u001b[0m  0.0159\n    128        \u001b[36m1.1722\u001b[0m        \u001b[32m1.0202\u001b[0m  0.0159\n    129        \u001b[36m1.1703\u001b[0m        \u001b[32m1.0193\u001b[0m  0.0162\n    130        \u001b[36m1.1690\u001b[0m        1.0200  0.0148\n    131        \u001b[36m1.1680\u001b[0m        1.0205  0.0151\n    132        \u001b[36m1.1672\u001b[0m        1.0195  0.0151\n    133        \u001b[36m1.1659\u001b[0m        \u001b[32m1.0173\u001b[0m  0.0149\n    134        \u001b[36m1.1643\u001b[0m        \u001b[32m1.0153\u001b[0m  0.0147\n    135        \u001b[36m1.1627\u001b[0m        \u001b[32m1.0144\u001b[0m  0.0149\n    136        \u001b[36m1.1615\u001b[0m        1.0144  0.0151\n    137        \u001b[36m1.1606\u001b[0m        1.0144  0.0151\n    138        \u001b[36m1.1598\u001b[0m        \u001b[32m1.0134\u001b[0m  0.0163\n    139        \u001b[36m1.1587\u001b[0m        \u001b[32m1.0116\u001b[0m  0.0163\n    140        \u001b[36m1.1573\u001b[0m        \u001b[32m1.0099\u001b[0m  0.0154\n    141        \u001b[36m1.1559\u001b[0m        \u001b[32m1.0091\u001b[0m  0.0150\n    142        \u001b[36m1.1548\u001b[0m        \u001b[32m1.0090\u001b[0m  0.0174\n    143        \u001b[36m1.1539\u001b[0m        \u001b[32m1.0088\u001b[0m  0.0165\n    144        \u001b[36m1.1530\u001b[0m        \u001b[32m1.0078\u001b[0m  0.0165\n    145        \u001b[36m1.1518\u001b[0m        \u001b[32m1.0061\u001b[0m  0.0180\n    146        \u001b[36m1.1505\u001b[0m        \u001b[32m1.0044\u001b[0m  0.0150\n    147        \u001b[36m1.1491\u001b[0m        \u001b[32m1.0034\u001b[0m  0.0147\n    148        \u001b[36m1.1479\u001b[0m        \u001b[32m1.0030\u001b[0m  0.0145\n    149        \u001b[36m1.1468\u001b[0m        \u001b[32m1.0027\u001b[0m  0.0195\n    150        \u001b[36m1.1458\u001b[0m        \u001b[32m1.0019\u001b[0m  0.0148\n    151        \u001b[36m1.1447\u001b[0m        \u001b[32m1.0005\u001b[0m  0.0152\n    152        \u001b[36m1.1435\u001b[0m        \u001b[32m0.9991\u001b[0m  0.0152\n    153        \u001b[36m1.1422\u001b[0m        \u001b[32m0.9981\u001b[0m  0.0146\n    154        \u001b[36m1.1411\u001b[0m        \u001b[32m0.9975\u001b[0m  0.0149\n    155        \u001b[36m1.1400\u001b[0m        \u001b[32m0.9970\u001b[0m  0.0149\n    156        \u001b[36m1.1391\u001b[0m        \u001b[32m0.9961\u001b[0m  0.0148\n    157        \u001b[36m1.1380\u001b[0m        \u001b[32m0.9949\u001b[0m  0.0152\n    158        \u001b[36m1.1368\u001b[0m        \u001b[32m0.9937\u001b[0m  0.0150\n    159        \u001b[36m1.1356\u001b[0m        \u001b[32m0.9928\u001b[0m  0.0150\n    160        \u001b[36m1.1345\u001b[0m        \u001b[32m0.9924\u001b[0m  0.0149\n    161        \u001b[36m1.1335\u001b[0m        \u001b[32m0.9919\u001b[0m  0.0149\n    162        \u001b[36m1.1325\u001b[0m        \u001b[32m0.9912\u001b[0m  0.0148\n    163        \u001b[36m1.1314\u001b[0m        \u001b[32m0.9902\u001b[0m  0.0148\n    164        \u001b[36m1.1302\u001b[0m        \u001b[32m0.9891\u001b[0m  0.0151\n    165        \u001b[36m1.1291\u001b[0m        \u001b[32m0.9883\u001b[0m  0.0152\n    166        \u001b[36m1.1279\u001b[0m        \u001b[32m0.9877\u001b[0m  0.0150\n    167        \u001b[36m1.1269\u001b[0m        \u001b[32m0.9872\u001b[0m  0.0172\n    168        \u001b[36m1.1259\u001b[0m        \u001b[32m0.9865\u001b[0m  0.0170\n    169        \u001b[36m1.1249\u001b[0m        \u001b[32m0.9856\u001b[0m  0.0213\n    170        \u001b[36m1.1237\u001b[0m        \u001b[32m0.9847\u001b[0m  0.0168\n    171        \u001b[36m1.1226\u001b[0m        \u001b[32m0.9840\u001b[0m  0.0153\n    172        \u001b[36m1.1216\u001b[0m        \u001b[32m0.9834\u001b[0m  0.0151\n    173        \u001b[36m1.1206\u001b[0m        \u001b[32m0.9828\u001b[0m  0.0153\n    174        \u001b[36m1.1196\u001b[0m        \u001b[32m0.9821\u001b[0m  0.0178\n    175        \u001b[36m1.1185\u001b[0m        \u001b[32m0.9813\u001b[0m  0.0156\n    176        \u001b[36m1.1174\u001b[0m        \u001b[32m0.9805\u001b[0m  0.0153\n    177        \u001b[36m1.1164\u001b[0m        \u001b[32m0.9798\u001b[0m  0.0159\n    178        \u001b[36m1.1154\u001b[0m        \u001b[32m0.9792\u001b[0m  0.0149\n    179        \u001b[36m1.1144\u001b[0m        \u001b[32m0.9787\u001b[0m  0.0161\n    180        \u001b[36m1.1134\u001b[0m        \u001b[32m0.9781\u001b[0m  0.0183\n    181        \u001b[36m1.1124\u001b[0m        \u001b[32m0.9774\u001b[0m  0.0149\n    182        \u001b[36m1.1114\u001b[0m        \u001b[32m0.9767\u001b[0m  0.0167\n    183        \u001b[36m1.1104\u001b[0m        \u001b[32m0.9761\u001b[0m  0.0167\n    184        \u001b[36m1.1095\u001b[0m        \u001b[32m0.9756\u001b[0m  0.0161\n    185        \u001b[36m1.1085\u001b[0m        \u001b[32m0.9751\u001b[0m  0.0158\n    186        \u001b[36m1.1076\u001b[0m        \u001b[32m0.9745\u001b[0m  0.0162\n    187        \u001b[36m1.1067\u001b[0m        \u001b[32m0.9739\u001b[0m  0.0163\n    188        \u001b[36m1.1058\u001b[0m        \u001b[32m0.9733\u001b[0m  0.0160\n    189        \u001b[36m1.1049\u001b[0m        \u001b[32m0.9729\u001b[0m  0.0208\n    190        \u001b[36m1.1040\u001b[0m        \u001b[32m0.9724\u001b[0m  0.0148\n    191        \u001b[36m1.1031\u001b[0m        \u001b[32m0.9720\u001b[0m  0.0163\n    192        \u001b[36m1.1023\u001b[0m        \u001b[32m0.9715\u001b[0m  0.0152\n    193        \u001b[36m1.1014\u001b[0m        \u001b[32m0.9710\u001b[0m  0.0150\n    194        \u001b[36m1.1005\u001b[0m        \u001b[32m0.9705\u001b[0m  0.0152\n    195        \u001b[36m1.0997\u001b[0m        \u001b[32m0.9701\u001b[0m  0.0156\n    196        \u001b[36m1.0989\u001b[0m        \u001b[32m0.9697\u001b[0m  0.0157\n    197        \u001b[36m1.0980\u001b[0m        \u001b[32m0.9693\u001b[0m  0.0149\n    198        \u001b[36m1.0972\u001b[0m        \u001b[32m0.9689\u001b[0m  0.0149\n    199        \u001b[36m1.0964\u001b[0m        \u001b[32m0.9685\u001b[0m  0.0146\n    200        \u001b[36m1.0956\u001b[0m        \u001b[32m0.9681\u001b[0m  0.0149\n    201        \u001b[36m1.0948\u001b[0m        \u001b[32m0.9678\u001b[0m  0.0150\n    202        \u001b[36m1.0940\u001b[0m        \u001b[32m0.9675\u001b[0m  0.0156\n    203        \u001b[36m1.0933\u001b[0m        \u001b[32m0.9671\u001b[0m  0.0149\n    204        \u001b[36m1.0925\u001b[0m        \u001b[32m0.9667\u001b[0m  0.0147\n    205        \u001b[36m1.0917\u001b[0m        \u001b[32m0.9664\u001b[0m  0.0155\n    206        \u001b[36m1.0910\u001b[0m        \u001b[32m0.9660\u001b[0m  0.0151\n    207        \u001b[36m1.0902\u001b[0m        \u001b[32m0.9658\u001b[0m  0.0152\n    208        \u001b[36m1.0895\u001b[0m        \u001b[32m0.9655\u001b[0m  0.0152\n    209        \u001b[36m1.0888\u001b[0m        \u001b[32m0.9652\u001b[0m  0.0162\n    210        \u001b[36m1.0880\u001b[0m        \u001b[32m0.9648\u001b[0m  0.0153\n    211        \u001b[36m1.0873\u001b[0m        \u001b[32m0.9645\u001b[0m  0.0153\n    212        \u001b[36m1.0866\u001b[0m        \u001b[32m0.9642\u001b[0m  0.0163\n    213        \u001b[36m1.0859\u001b[0m        \u001b[32m0.9639\u001b[0m  0.0207\n    214        \u001b[36m1.0852\u001b[0m        \u001b[32m0.9637\u001b[0m  0.0148\n    215        \u001b[36m1.0845\u001b[0m        \u001b[32m0.9634\u001b[0m  0.0161\n    216        \u001b[36m1.0838\u001b[0m        \u001b[32m0.9631\u001b[0m  0.0162\n    217        \u001b[36m1.0831\u001b[0m        \u001b[32m0.9628\u001b[0m  0.0161\n    218        \u001b[36m1.0824\u001b[0m        \u001b[32m0.9625\u001b[0m  0.0159\n    219        \u001b[36m1.0817\u001b[0m        \u001b[32m0.9622\u001b[0m  0.0149\n    220        \u001b[36m1.0810\u001b[0m        \u001b[32m0.9619\u001b[0m  0.0147\n    221        \u001b[36m1.0803\u001b[0m        \u001b[32m0.9616\u001b[0m  0.0150\n    222        \u001b[36m1.0797\u001b[0m        \u001b[32m0.9614\u001b[0m  0.0146\n    223        \u001b[36m1.0790\u001b[0m        \u001b[32m0.9611\u001b[0m  0.0150\n    224        \u001b[36m1.0783\u001b[0m        \u001b[32m0.9608\u001b[0m  0.0154\n    225        \u001b[36m1.0777\u001b[0m        \u001b[32m0.9605\u001b[0m  0.0163\n    226        \u001b[36m1.0770\u001b[0m        \u001b[32m0.9602\u001b[0m  0.0150\n    227        \u001b[36m1.0764\u001b[0m        \u001b[32m0.9599\u001b[0m  0.0160\n    228        \u001b[36m1.0757\u001b[0m        \u001b[32m0.9596\u001b[0m  0.0148\n    229        \u001b[36m1.0750\u001b[0m        \u001b[32m0.9594\u001b[0m  0.0151\n    230        \u001b[36m1.0744\u001b[0m        \u001b[32m0.9591\u001b[0m  0.0154\n    231        \u001b[36m1.0737\u001b[0m        \u001b[32m0.9588\u001b[0m  0.0159\n    232        \u001b[36m1.0731\u001b[0m        \u001b[32m0.9585\u001b[0m  0.0152\n    233        \u001b[36m1.0725\u001b[0m        \u001b[32m0.9582\u001b[0m  0.0171\n    234        \u001b[36m1.0718\u001b[0m        \u001b[32m0.9579\u001b[0m  0.0148\n    235        \u001b[36m1.0712\u001b[0m        \u001b[32m0.9576\u001b[0m  0.0149\n    236        \u001b[36m1.0705\u001b[0m        \u001b[32m0.9573\u001b[0m  0.0157\n    237        \u001b[36m1.0699\u001b[0m        \u001b[32m0.9570\u001b[0m  0.0160\n    238        \u001b[36m1.0693\u001b[0m        \u001b[32m0.9567\u001b[0m  0.0152\n    239        \u001b[36m1.0686\u001b[0m        \u001b[32m0.9564\u001b[0m  0.0149\n    240        \u001b[36m1.0680\u001b[0m        \u001b[32m0.9561\u001b[0m  0.0147\n    241        \u001b[36m1.0674\u001b[0m        \u001b[32m0.9558\u001b[0m  0.0149\n    242        \u001b[36m1.0667\u001b[0m        \u001b[32m0.9555\u001b[0m  0.0146\n    243        \u001b[36m1.0661\u001b[0m        \u001b[32m0.9552\u001b[0m  0.0152\n    244        \u001b[36m1.0655\u001b[0m        \u001b[32m0.9549\u001b[0m  0.0162\n    245        \u001b[36m1.0649\u001b[0m        \u001b[32m0.9546\u001b[0m  0.0160\n    246        \u001b[36m1.0642\u001b[0m        \u001b[32m0.9543\u001b[0m  0.0149\n    247        \u001b[36m1.0636\u001b[0m        \u001b[32m0.9540\u001b[0m  0.0166\n    248        \u001b[36m1.0630\u001b[0m        \u001b[32m0.9538\u001b[0m  0.0163\n    249        \u001b[36m1.0624\u001b[0m        \u001b[32m0.9535\u001b[0m  0.0149\n    250        \u001b[36m1.0618\u001b[0m        \u001b[32m0.9532\u001b[0m  0.0152\n    251        \u001b[36m1.0611\u001b[0m        \u001b[32m0.9529\u001b[0m  0.0150\n    252        \u001b[36m1.0605\u001b[0m        \u001b[32m0.9526\u001b[0m  0.0150\n    253        \u001b[36m1.0599\u001b[0m        \u001b[32m0.9523\u001b[0m  0.0150\n    254        \u001b[36m1.0593\u001b[0m        \u001b[32m0.9520\u001b[0m  0.0219\n    255        \u001b[36m1.0587\u001b[0m        \u001b[32m0.9517\u001b[0m  0.0153\n    256        \u001b[36m1.0581\u001b[0m        \u001b[32m0.9514\u001b[0m  0.0148\n    257        \u001b[36m1.0575\u001b[0m        \u001b[32m0.9511\u001b[0m  0.0148\n    258        \u001b[36m1.0569\u001b[0m        \u001b[32m0.9508\u001b[0m  0.0150\n    259        \u001b[36m1.0563\u001b[0m        \u001b[32m0.9506\u001b[0m  0.0153\n    260        \u001b[36m1.0557\u001b[0m        \u001b[32m0.9503\u001b[0m  0.0152\n    261        \u001b[36m1.0551\u001b[0m        \u001b[32m0.9500\u001b[0m  0.0149\n    262        \u001b[36m1.0545\u001b[0m        \u001b[32m0.9497\u001b[0m  0.0148\n    263        \u001b[36m1.0539\u001b[0m        \u001b[32m0.9495\u001b[0m  0.0147\n    264        \u001b[36m1.0533\u001b[0m        \u001b[32m0.9492\u001b[0m  0.0170\n    265        \u001b[36m1.0527\u001b[0m        \u001b[32m0.9489\u001b[0m  0.0150\n    266        \u001b[36m1.0521\u001b[0m        \u001b[32m0.9487\u001b[0m  0.0145\n    267        \u001b[36m1.0515\u001b[0m        \u001b[32m0.9484\u001b[0m  0.0153\n    268        \u001b[36m1.0509\u001b[0m        \u001b[32m0.9482\u001b[0m  0.0155\n    269        \u001b[36m1.0503\u001b[0m        \u001b[32m0.9479\u001b[0m  0.0180\n    270        \u001b[36m1.0497\u001b[0m        \u001b[32m0.9477\u001b[0m  0.0149\n    271        \u001b[36m1.0491\u001b[0m        \u001b[32m0.9474\u001b[0m  0.0148\n    272        \u001b[36m1.0486\u001b[0m        \u001b[32m0.9472\u001b[0m  0.0149\n    273        \u001b[36m1.0480\u001b[0m        \u001b[32m0.9470\u001b[0m  0.0150\n    274        \u001b[36m1.0474\u001b[0m        \u001b[32m0.9467\u001b[0m  0.0147\n    275        \u001b[36m1.0468\u001b[0m        \u001b[32m0.9465\u001b[0m  0.0153\n    276        \u001b[36m1.0462\u001b[0m        \u001b[32m0.9463\u001b[0m  0.0148\n    277        \u001b[36m1.0456\u001b[0m        \u001b[32m0.9461\u001b[0m  0.0157\n    278        \u001b[36m1.0451\u001b[0m        \u001b[32m0.9459\u001b[0m  0.0152\n    279        \u001b[36m1.0445\u001b[0m        \u001b[32m0.9457\u001b[0m  0.0147\n    280        \u001b[36m1.0439\u001b[0m        \u001b[32m0.9455\u001b[0m  0.0150\n    281        \u001b[36m1.0433\u001b[0m        \u001b[32m0.9453\u001b[0m  0.0163\n    282        \u001b[36m1.0427\u001b[0m        \u001b[32m0.9451\u001b[0m  0.0157\n    283        \u001b[36m1.0422\u001b[0m        \u001b[32m0.9449\u001b[0m  0.0151\n    284        \u001b[36m1.0416\u001b[0m        \u001b[32m0.9447\u001b[0m  0.0153\n    285        \u001b[36m1.0410\u001b[0m        \u001b[32m0.9445\u001b[0m  0.0152\n    286        \u001b[36m1.0404\u001b[0m        \u001b[32m0.9443\u001b[0m  0.0167\n    287        \u001b[36m1.0399\u001b[0m        \u001b[32m0.9441\u001b[0m  0.0165\n    288        \u001b[36m1.0393\u001b[0m        \u001b[32m0.9440\u001b[0m  0.0166\n    289        \u001b[36m1.0387\u001b[0m        \u001b[32m0.9438\u001b[0m  0.0152\n    290        \u001b[36m1.0382\u001b[0m        \u001b[32m0.9436\u001b[0m  0.0148\n    291        \u001b[36m1.0376\u001b[0m        \u001b[32m0.9435\u001b[0m  0.0152\n    292        \u001b[36m1.0370\u001b[0m        \u001b[32m0.9433\u001b[0m  0.0149\n    293        \u001b[36m1.0365\u001b[0m        \u001b[32m0.9432\u001b[0m  0.0150\n  epoch    train_loss    valid_loss     dur\n-------  ------------  ------------  ------\n      1      \u001b[36m257.9383\u001b[0m       \u001b[32m39.2227\u001b[0m  0.0154\n      2       \u001b[36m51.1167\u001b[0m      118.1995  0.0154\n      3      114.2724      107.8346  0.0186\n      4       91.7618       71.5138  0.0151\n      5       60.9480       \u001b[32m22.8199\u001b[0m  0.0152\n      6       \u001b[36m25.3391\u001b[0m       32.1624  0.0912\n      7       29.3391       28.5093  0.0155\n      8       28.2371       23.8951  0.0158\n      9       \u001b[36m19.8257\u001b[0m       \u001b[32m13.0714\u001b[0m  0.0152\n     10       \u001b[36m14.5919\u001b[0m       24.5427  0.0151\n     11       23.8188        \u001b[32m9.3195\u001b[0m  0.0157\n     12        \u001b[36m9.9667\u001b[0m       14.5467  0.0149\n     13       13.4595        9.3818  0.0166\n     14       10.1714        \u001b[32m8.9131\u001b[0m  0.0168\n     15        \u001b[36m9.9442\u001b[0m        \u001b[32m7.2616\u001b[0m  0.0166\n     16        \u001b[36m7.4535\u001b[0m        9.5880  0.0151\n     17        9.6557       10.1262  0.0152\n     18        9.2624        \u001b[32m4.4255\u001b[0m  0.0153\n     19        \u001b[36m4.8311\u001b[0m        6.6571  0.0151\n     20        7.8814        6.1226  0.0149\n     21        6.5813        \u001b[32m2.8302\u001b[0m  0.0151\n     22        \u001b[36m3.2276\u001b[0m        6.0348  0.0151\n     23        6.2278        4.9971  0.0152\n     24        5.0803        \u001b[32m2.6339\u001b[0m  0.0150\n     25        \u001b[36m3.0206\u001b[0m        3.7460  0.0151\n     26        4.1531        2.8950  0.0167\n     27        3.3810        3.1840  0.0166\n     28        3.4649        3.2981  0.0183\n     29        3.4753        \u001b[32m2.4718\u001b[0m  0.0150\n     30        \u001b[36m2.8402\u001b[0m        3.3055  0.0159\n     31        3.4004        \u001b[32m2.3585\u001b[0m  0.0170\n     32        \u001b[36m2.4929\u001b[0m        \u001b[32m1.9530\u001b[0m  0.0168\n     33        \u001b[36m2.2847\u001b[0m        2.9300  0.0151\n     34        2.9975        \u001b[32m1.9297\u001b[0m  0.0156\n     35        \u001b[36m2.0980\u001b[0m        \u001b[32m1.7261\u001b[0m  0.0152\n     36        \u001b[36m1.9883\u001b[0m        2.1388  0.0155\n     37        2.2622        1.7918  0.0148\n     38        1.9972        1.9614  0.0151\n     39        2.1661        1.8180  0.0149\n     40        2.0114        \u001b[32m1.5638\u001b[0m  0.0191\n     41        \u001b[36m1.8658\u001b[0m        1.6659  0.0151\n     42        1.9087        \u001b[32m1.4456\u001b[0m  0.0152\n     43        \u001b[36m1.6109\u001b[0m        1.6271  0.0154\n     44        1.7557        1.7920  0.0150\n     45        1.8609        \u001b[32m1.3921\u001b[0m  0.0185\n     46        \u001b[36m1.5134\u001b[0m        \u001b[32m1.3402\u001b[0m  0.0204\n     47        1.5407        1.3697  0.0189\n     48        1.5760        \u001b[32m1.2764\u001b[0m  0.0171\n     49        \u001b[36m1.4295\u001b[0m        1.4148  0.0152\n     50        1.4828        1.4215  0.0149\n     51        1.4788        1.3617  0.0149\n     52        1.4485        1.3263  0.0150\n     53        \u001b[36m1.4225\u001b[0m        \u001b[32m1.2038\u001b[0m  0.0150\n     54        \u001b[36m1.3262\u001b[0m        1.2638  0.0149\n     55        1.3709        1.2981  0.0148\n     56        1.3717        \u001b[32m1.1889\u001b[0m  0.0154\n     57        \u001b[36m1.2805\u001b[0m        1.2253  0.0153\n     58        1.3195        1.2525  0.0152\n     59        1.3290        1.2082  0.0168\n     60        1.2849        1.2059  0.0153\n     61        1.2883        \u001b[32m1.1568\u001b[0m  0.0157\n     62        \u001b[36m1.2662\u001b[0m        \u001b[32m1.1105\u001b[0m  0.0154\n     63        \u001b[36m1.2460\u001b[0m        1.1126  0.0154\n     64        \u001b[36m1.2355\u001b[0m        1.1375  0.0154\n     65        \u001b[36m1.2320\u001b[0m        1.1903  0.0151\n     66        1.2639        1.1737  0.0149\n     67        1.2499        \u001b[32m1.1037\u001b[0m  0.0149\n     68        \u001b[36m1.2070\u001b[0m        \u001b[32m1.0763\u001b[0m  0.0164\n     69        \u001b[36m1.2017\u001b[0m        \u001b[32m1.0678\u001b[0m  0.0171\n     70        \u001b[36m1.1916\u001b[0m        1.0813  0.0150\n     71        \u001b[36m1.1845\u001b[0m        1.1131  0.0165\n     72        1.1969        1.1125  0.0174\n     73        1.1947        1.0870  0.0194\n     74        \u001b[36m1.1792\u001b[0m        \u001b[32m1.0585\u001b[0m  0.0150\n     75        \u001b[36m1.1627\u001b[0m        \u001b[32m1.0461\u001b[0m  0.0147\n     76        \u001b[36m1.1551\u001b[0m        1.0546  0.0150\n     77        1.1566        1.0567  0.0153\n     78        \u001b[36m1.1510\u001b[0m        1.0561  0.0152\n     79        \u001b[36m1.1476\u001b[0m        1.0618  0.0168\n     80        1.1506        1.0588  0.0152\n     81        \u001b[36m1.1460\u001b[0m        1.0506  0.0151\n     82        \u001b[36m1.1390\u001b[0m        \u001b[32m1.0429\u001b[0m  0.0152\n     83        \u001b[36m1.1346\u001b[0m        \u001b[32m1.0323\u001b[0m  0.0153\n     84        \u001b[36m1.1281\u001b[0m        \u001b[32m1.0259\u001b[0m  0.0151\n     85        \u001b[36m1.1220\u001b[0m        1.0309  0.0153\n     86        \u001b[36m1.1213\u001b[0m        1.0416  0.0156\n     87        1.1246        1.0436  0.0152\n     88        1.1237        1.0322  0.0152\n     89        \u001b[36m1.1164\u001b[0m        \u001b[32m1.0179\u001b[0m  0.0157\n     90        \u001b[36m1.1089\u001b[0m        \u001b[32m1.0102\u001b[0m  0.0185\n     91        \u001b[36m1.1044\u001b[0m        1.0126  0.0172\n     92        \u001b[36m1.1029\u001b[0m        1.0214  0.0190\n     93        1.1046        1.0271  0.0154\n     94        1.1058        1.0232  0.0153\n     95        \u001b[36m1.1026\u001b[0m        1.0128  0.0213\n     96        \u001b[36m1.0963\u001b[0m        \u001b[32m1.0050\u001b[0m  0.0193\n     97        \u001b[36m1.0917\u001b[0m        \u001b[32m1.0038\u001b[0m  0.0154\n     98        \u001b[36m1.0898\u001b[0m        1.0059  0.0157\n     99        \u001b[36m1.0884\u001b[0m        1.0085  0.0226\n    100        \u001b[36m1.0877\u001b[0m        1.0089  0.0152\n    101        \u001b[36m1.0865\u001b[0m        1.0059  0.0167\n    102        \u001b[36m1.0837\u001b[0m        \u001b[32m1.0020\u001b[0m  0.0209\n    103        \u001b[36m1.0807\u001b[0m        \u001b[32m0.9988\u001b[0m  0.0166\n    104        \u001b[36m1.0779\u001b[0m        \u001b[32m0.9968\u001b[0m  0.0168\n    105        \u001b[36m1.0755\u001b[0m        \u001b[32m0.9965\u001b[0m  0.0154\n    106        \u001b[36m1.0736\u001b[0m        0.9973  0.0155\n    107        \u001b[36m1.0724\u001b[0m        0.9990  0.0153\n    108        \u001b[36m1.0719\u001b[0m        0.9992  0.0193\n    109        \u001b[36m1.0706\u001b[0m        \u001b[32m0.9965\u001b[0m  0.0260\n    110        \u001b[36m1.0678\u001b[0m        \u001b[32m0.9930\u001b[0m  0.0154\n    111        \u001b[36m1.0648\u001b[0m        \u001b[32m0.9904\u001b[0m  0.0177\n    112        \u001b[36m1.0622\u001b[0m        \u001b[32m0.9901\u001b[0m  0.0164\n    113        \u001b[36m1.0605\u001b[0m        0.9922  0.0162\n    114        \u001b[36m1.0599\u001b[0m        0.9938  0.0178\n    115        \u001b[36m1.0591\u001b[0m        0.9929  0.0158\n    116        \u001b[36m1.0572\u001b[0m        \u001b[32m0.9901\u001b[0m  0.0159\n    117        \u001b[36m1.0545\u001b[0m        \u001b[32m0.9871\u001b[0m  0.0159\n    118        \u001b[36m1.0518\u001b[0m        \u001b[32m0.9859\u001b[0m  0.0153\n    119        \u001b[36m1.0500\u001b[0m        0.9868  0.0152\n    120        \u001b[36m1.0488\u001b[0m        0.9882  0.0171\n    121        \u001b[36m1.0477\u001b[0m        0.9887  0.0170\n    122        \u001b[36m1.0464\u001b[0m        0.9874  0.0170\n  epoch    train_loss    valid_loss     dur\n-------  ------------  ------------  ------\n      1      \u001b[36m207.4693\u001b[0m       \u001b[32m16.8554\u001b[0m  0.0197\n      2       \u001b[36m54.4797\u001b[0m       17.5084  0.0164\n      3       \u001b[36m34.2172\u001b[0m       22.5062  0.0164\n      4       \u001b[36m20.7487\u001b[0m       22.8263  0.0150\n      5       20.8122       22.7759  0.0150\n      6       \u001b[36m17.1465\u001b[0m       \u001b[32m16.5434\u001b[0m  0.0152\n      7       \u001b[36m14.4820\u001b[0m        \u001b[32m8.3543\u001b[0m  0.0166\n      8        \u001b[36m9.1281\u001b[0m        \u001b[32m7.0205\u001b[0m  0.0154\n      9        \u001b[36m8.2774\u001b[0m        \u001b[32m3.9626\u001b[0m  0.0166\n     10        \u001b[36m6.3297\u001b[0m        \u001b[32m3.3961\u001b[0m  0.0166\n     11        \u001b[36m4.7869\u001b[0m        4.0206  0.0165\n     12        4.8481        4.2656  0.0191\n     13        \u001b[36m4.1957\u001b[0m        4.8122  0.0165\n     14        4.4835        4.3964  0.0156\n     15        \u001b[36m3.9216\u001b[0m        4.5575  0.0152\n     16        \u001b[36m3.9163\u001b[0m        3.5764  0.0151\n     17        \u001b[36m3.2603\u001b[0m        \u001b[32m3.2311\u001b[0m  0.0150\n     18        \u001b[36m3.1191\u001b[0m        \u001b[32m2.5847\u001b[0m  0.0151\n     19        \u001b[36m2.7521\u001b[0m        \u001b[32m2.1600\u001b[0m  0.0157\n     20        \u001b[36m2.4498\u001b[0m        \u001b[32m1.8855\u001b[0m  0.0156\n     21        \u001b[36m2.2271\u001b[0m        1.8917  0.0160\n     22        \u001b[36m2.0999\u001b[0m        \u001b[32m1.7274\u001b[0m  0.0153\n     23        \u001b[36m1.9999\u001b[0m        \u001b[32m1.7061\u001b[0m  0.0178\n     24        \u001b[36m1.8715\u001b[0m        \u001b[32m1.6094\u001b[0m  0.0169\n     25        1.8885        1.6264  0.0163\n     26        \u001b[36m1.8337\u001b[0m        \u001b[32m1.5391\u001b[0m  0.0159\n     27        \u001b[36m1.7566\u001b[0m        1.5433  0.0171\n     28        \u001b[36m1.7213\u001b[0m        1.5456  0.0163\n     29        \u001b[36m1.6847\u001b[0m        \u001b[32m1.4704\u001b[0m  0.0163\n     30        \u001b[36m1.6381\u001b[0m        \u001b[32m1.4148\u001b[0m  0.0162\n     31        \u001b[36m1.5910\u001b[0m        \u001b[32m1.3685\u001b[0m  0.0171\n     32        \u001b[36m1.5552\u001b[0m        \u001b[32m1.3669\u001b[0m  0.0153\n     33        \u001b[36m1.5250\u001b[0m        \u001b[32m1.2876\u001b[0m  0.0150\n     34        \u001b[36m1.4866\u001b[0m        1.3085  0.0186\n     35        \u001b[36m1.4727\u001b[0m        \u001b[32m1.2788\u001b[0m  0.0147\n     36        \u001b[36m1.4500\u001b[0m        1.3029  0.0149\n     37        \u001b[36m1.4482\u001b[0m        \u001b[32m1.2608\u001b[0m  0.0160\n     38        \u001b[36m1.4254\u001b[0m        1.2684  0.0145\n     39        \u001b[36m1.4147\u001b[0m        \u001b[32m1.2508\u001b[0m  0.0146\n     40        \u001b[36m1.3996\u001b[0m        \u001b[32m1.2412\u001b[0m  0.0162\n     41        \u001b[36m1.3887\u001b[0m        \u001b[32m1.2208\u001b[0m  0.0150\n     42        \u001b[36m1.3726\u001b[0m        \u001b[32m1.2115\u001b[0m  0.0145\n     43        \u001b[36m1.3604\u001b[0m        1.2130  0.0156\n     44        \u001b[36m1.3500\u001b[0m        \u001b[32m1.1974\u001b[0m  0.0152\n     45        \u001b[36m1.3373\u001b[0m        1.1987  0.0148\n     46        \u001b[36m1.3279\u001b[0m        \u001b[32m1.1829\u001b[0m  0.0159\n     47        \u001b[36m1.3160\u001b[0m        1.1870  0.0157\n     48        \u001b[36m1.3109\u001b[0m        \u001b[32m1.1661\u001b[0m  0.0146\n     49        \u001b[36m1.2979\u001b[0m        1.1685  0.0161\n     50        \u001b[36m1.2928\u001b[0m        \u001b[32m1.1562\u001b[0m  0.0171\n     51        \u001b[36m1.2806\u001b[0m        1.1582  0.0150\n     52        \u001b[36m1.2763\u001b[0m        \u001b[32m1.1478\u001b[0m  0.0156\n     53        \u001b[36m1.2648\u001b[0m        \u001b[32m1.1465\u001b[0m  0.0146\n     54        \u001b[36m1.2592\u001b[0m        \u001b[32m1.1428\u001b[0m  0.0146\n     55        \u001b[36m1.2502\u001b[0m        \u001b[32m1.1392\u001b[0m  0.0164\n     56        \u001b[36m1.2441\u001b[0m        \u001b[32m1.1376\u001b[0m  0.0159\n     57        \u001b[36m1.2366\u001b[0m        \u001b[32m1.1340\u001b[0m  0.0159\n     58        \u001b[36m1.2297\u001b[0m        1.1359  0.0146\n     59        \u001b[36m1.2242\u001b[0m        \u001b[32m1.1311\u001b[0m  0.0147\n     60        \u001b[36m1.2171\u001b[0m        1.1323  0.0150\n     61        \u001b[36m1.2125\u001b[0m        \u001b[32m1.1282\u001b[0m  0.0151\n     62        \u001b[36m1.2057\u001b[0m        1.1292  0.0150\n     63        \u001b[36m1.2021\u001b[0m        \u001b[32m1.1250\u001b[0m  0.0147\n     64        \u001b[36m1.1961\u001b[0m        \u001b[32m1.1250\u001b[0m  0.0146\n     65        \u001b[36m1.1926\u001b[0m        \u001b[32m1.1229\u001b[0m  0.0159\n     66        \u001b[36m1.1877\u001b[0m        \u001b[32m1.1225\u001b[0m  0.0161\n     67        \u001b[36m1.1844\u001b[0m        \u001b[32m1.1210\u001b[0m  0.0159\n     68        \u001b[36m1.1803\u001b[0m        \u001b[32m1.1200\u001b[0m  0.0194\n     69        \u001b[36m1.1769\u001b[0m        \u001b[32m1.1195\u001b[0m  0.0159\n     70        \u001b[36m1.1736\u001b[0m        \u001b[32m1.1177\u001b[0m  0.0161\n     71        \u001b[36m1.1702\u001b[0m        \u001b[32m1.1171\u001b[0m  0.0169\n     72        \u001b[36m1.1675\u001b[0m        \u001b[32m1.1153\u001b[0m  0.0159\n     73        \u001b[36m1.1642\u001b[0m        \u001b[32m1.1148\u001b[0m  0.0157\n     74        \u001b[36m1.1617\u001b[0m        \u001b[32m1.1126\u001b[0m  0.0157\n     75        \u001b[36m1.1586\u001b[0m        \u001b[32m1.1116\u001b[0m  0.0176\n     76        \u001b[36m1.1562\u001b[0m        \u001b[32m1.1094\u001b[0m  0.0161\n     77        \u001b[36m1.1532\u001b[0m        \u001b[32m1.1080\u001b[0m  0.0153\n     78        \u001b[36m1.1508\u001b[0m        \u001b[32m1.1058\u001b[0m  0.0145\n     79        \u001b[36m1.1479\u001b[0m        \u001b[32m1.1041\u001b[0m  0.0148\n     80        \u001b[36m1.1454\u001b[0m        \u001b[32m1.1021\u001b[0m  0.0151\n     81        \u001b[36m1.1427\u001b[0m        \u001b[32m1.1002\u001b[0m  0.0159\n     82        \u001b[36m1.1400\u001b[0m        \u001b[32m1.0983\u001b[0m  0.0152\n     83        \u001b[36m1.1374\u001b[0m        \u001b[32m1.0963\u001b[0m  0.0147\n     84        \u001b[36m1.1347\u001b[0m        \u001b[32m1.0945\u001b[0m  0.0145\n     85        \u001b[36m1.1322\u001b[0m        \u001b[32m1.0925\u001b[0m  0.0144\n     86        \u001b[36m1.1295\u001b[0m        \u001b[32m1.0909\u001b[0m  0.0154\n     87        \u001b[36m1.1270\u001b[0m        \u001b[32m1.0891\u001b[0m  0.0151\n     88        \u001b[36m1.1244\u001b[0m        \u001b[32m1.0878\u001b[0m  0.0170\n     89        \u001b[36m1.1221\u001b[0m        \u001b[32m1.0862\u001b[0m  0.0147\n     90        \u001b[36m1.1197\u001b[0m        \u001b[32m1.0851\u001b[0m  0.0147\n     91        \u001b[36m1.1175\u001b[0m        \u001b[32m1.0839\u001b[0m  0.0148\n     92        \u001b[36m1.1153\u001b[0m        \u001b[32m1.0829\u001b[0m  0.0146\n     93        \u001b[36m1.1133\u001b[0m        \u001b[32m1.0819\u001b[0m  0.0150\n     94        \u001b[36m1.1113\u001b[0m        \u001b[32m1.0810\u001b[0m  0.0159\n     95        \u001b[36m1.1094\u001b[0m        \u001b[32m1.0801\u001b[0m  0.0159\n     96        \u001b[36m1.1077\u001b[0m        \u001b[32m1.0792\u001b[0m  0.0160\n     97        \u001b[36m1.1059\u001b[0m        \u001b[32m1.0784\u001b[0m  0.0157\n     98        \u001b[36m1.1043\u001b[0m        \u001b[32m1.0776\u001b[0m  0.0145\n     99        \u001b[36m1.1027\u001b[0m        \u001b[32m1.0768\u001b[0m  0.0149\n    100        \u001b[36m1.1012\u001b[0m        \u001b[32m1.0758\u001b[0m  0.0152\n    101        \u001b[36m1.0997\u001b[0m        \u001b[32m1.0750\u001b[0m  0.0145\n    102        \u001b[36m1.0983\u001b[0m        \u001b[32m1.0741\u001b[0m  0.0182\n    103        \u001b[36m1.0970\u001b[0m        \u001b[32m1.0732\u001b[0m  0.0162\n    104        \u001b[36m1.0957\u001b[0m        \u001b[32m1.0723\u001b[0m  0.0144\n    105        \u001b[36m1.0944\u001b[0m        \u001b[32m1.0714\u001b[0m  0.0154\n    106        \u001b[36m1.0932\u001b[0m        \u001b[32m1.0706\u001b[0m  0.0149\n    107        \u001b[36m1.0921\u001b[0m        \u001b[32m1.0697\u001b[0m  0.0193\n    108        \u001b[36m1.0909\u001b[0m        \u001b[32m1.0688\u001b[0m  0.0151\n    109        \u001b[36m1.0898\u001b[0m        \u001b[32m1.0679\u001b[0m  0.0159\n    110        \u001b[36m1.0888\u001b[0m        \u001b[32m1.0670\u001b[0m  0.0163\n    111        \u001b[36m1.0878\u001b[0m        \u001b[32m1.0662\u001b[0m  0.0153\n    112        \u001b[36m1.0868\u001b[0m        \u001b[32m1.0654\u001b[0m  0.0149\n    113        \u001b[36m1.0858\u001b[0m        \u001b[32m1.0646\u001b[0m  0.0172\n    114        \u001b[36m1.0849\u001b[0m        \u001b[32m1.0638\u001b[0m  0.0149\n    115        \u001b[36m1.0840\u001b[0m        \u001b[32m1.0630\u001b[0m  0.0175\n    116        \u001b[36m1.0831\u001b[0m        \u001b[32m1.0623\u001b[0m  0.0163\n    117        \u001b[36m1.0822\u001b[0m        \u001b[32m1.0617\u001b[0m  0.0145\n    118        \u001b[36m1.0814\u001b[0m        \u001b[32m1.0610\u001b[0m  0.0148\n    119        \u001b[36m1.0805\u001b[0m        \u001b[32m1.0604\u001b[0m  0.0162\n    120        \u001b[36m1.0797\u001b[0m        \u001b[32m1.0598\u001b[0m  0.0161\n    121        \u001b[36m1.0789\u001b[0m        \u001b[32m1.0592\u001b[0m  0.0151\n    122        \u001b[36m1.0781\u001b[0m        \u001b[32m1.0587\u001b[0m  0.0189\n    123        \u001b[36m1.0773\u001b[0m        \u001b[32m1.0582\u001b[0m  0.0144\n    124        \u001b[36m1.0766\u001b[0m        \u001b[32m1.0577\u001b[0m  0.0142\n    125        \u001b[36m1.0758\u001b[0m        \u001b[32m1.0572\u001b[0m  0.0144\n    126        \u001b[36m1.0751\u001b[0m        \u001b[32m1.0568\u001b[0m  0.0144\n    127        \u001b[36m1.0744\u001b[0m        \u001b[32m1.0564\u001b[0m  0.0145\n    128        \u001b[36m1.0737\u001b[0m        \u001b[32m1.0560\u001b[0m  0.0144\n    129        \u001b[36m1.0730\u001b[0m        \u001b[32m1.0556\u001b[0m  0.0147\n    130        \u001b[36m1.0723\u001b[0m        \u001b[32m1.0552\u001b[0m  0.0147\n    131        \u001b[36m1.0716\u001b[0m        \u001b[32m1.0549\u001b[0m  0.0163\n    132        \u001b[36m1.0710\u001b[0m        \u001b[32m1.0546\u001b[0m  0.0150\n    133        \u001b[36m1.0703\u001b[0m        \u001b[32m1.0542\u001b[0m  0.0146\n    134        \u001b[36m1.0697\u001b[0m        \u001b[32m1.0540\u001b[0m  0.0163\n    135        \u001b[36m1.0690\u001b[0m        \u001b[32m1.0537\u001b[0m  0.0158\n    136        \u001b[36m1.0684\u001b[0m        \u001b[32m1.0534\u001b[0m  0.0159\n    137        \u001b[36m1.0678\u001b[0m        \u001b[32m1.0532\u001b[0m  0.0157\n    138        \u001b[36m1.0672\u001b[0m        \u001b[32m1.0529\u001b[0m  0.0158\n    139        \u001b[36m1.0665\u001b[0m        \u001b[32m1.0527\u001b[0m  0.0145\n    140        \u001b[36m1.0659\u001b[0m        \u001b[32m1.0525\u001b[0m  0.0144\n    141        \u001b[36m1.0654\u001b[0m        \u001b[32m1.0523\u001b[0m  0.0880\n    142        \u001b[36m1.0648\u001b[0m        \u001b[32m1.0521\u001b[0m  0.0146\n    143        \u001b[36m1.0642\u001b[0m        \u001b[32m1.0519\u001b[0m  0.0146\n    144        \u001b[36m1.0636\u001b[0m        \u001b[32m1.0517\u001b[0m  0.0142\n    145        \u001b[36m1.0631\u001b[0m        \u001b[32m1.0515\u001b[0m  0.0146\n    146        \u001b[36m1.0625\u001b[0m        \u001b[32m1.0514\u001b[0m  0.0145\n    147        \u001b[36m1.0619\u001b[0m        \u001b[32m1.0512\u001b[0m  0.0143\n    148        \u001b[36m1.0614\u001b[0m        \u001b[32m1.0511\u001b[0m  0.0156\n    149        \u001b[36m1.0609\u001b[0m        \u001b[32m1.0510\u001b[0m  0.0146\n    150        \u001b[36m1.0603\u001b[0m        \u001b[32m1.0508\u001b[0m  0.0148\n    151        \u001b[36m1.0598\u001b[0m        \u001b[32m1.0507\u001b[0m  0.0159\n    152        \u001b[36m1.0593\u001b[0m        \u001b[32m1.0506\u001b[0m  0.0158\n    153        \u001b[36m1.0587\u001b[0m        \u001b[32m1.0505\u001b[0m  0.0158\n    154        \u001b[36m1.0582\u001b[0m        \u001b[32m1.0504\u001b[0m  0.0156\n    155        \u001b[36m1.0577\u001b[0m        \u001b[32m1.0503\u001b[0m  0.0159\n    156        \u001b[36m1.0572\u001b[0m        \u001b[32m1.0502\u001b[0m  0.0162\n    157        \u001b[36m1.0567\u001b[0m        \u001b[32m1.0501\u001b[0m  0.0157\n    158        \u001b[36m1.0562\u001b[0m        \u001b[32m1.0500\u001b[0m  0.0152\n    159        \u001b[36m1.0557\u001b[0m        \u001b[32m1.0499\u001b[0m  0.0155\n    160        \u001b[36m1.0553\u001b[0m        \u001b[32m1.0498\u001b[0m  0.0144\n    161        \u001b[36m1.0548\u001b[0m        \u001b[32m1.0497\u001b[0m  0.0163\n    162        \u001b[36m1.0543\u001b[0m        \u001b[32m1.0497\u001b[0m  0.0158\n  epoch    train_loss    valid_loss     dur\n-------  ------------  ------------  ------\n      1      \u001b[36m229.9012\u001b[0m      \u001b[32m130.4150\u001b[0m  0.0165\n      2      \u001b[36m114.9274\u001b[0m       \u001b[32m24.5254\u001b[0m  0.0167\n      3       \u001b[36m37.1401\u001b[0m       78.8432  0.0165\n      4       68.5807       78.4105  0.0168\n      5       71.0583       \u001b[32m18.3379\u001b[0m  0.0163\n      6       \u001b[36m23.2448\u001b[0m       39.3039  0.0151\n      7       38.8135        \u001b[32m6.7753\u001b[0m  0.0149\n      8        \u001b[36m7.5552\u001b[0m       19.2356  0.0151\n      9       19.1066       17.7488  0.0153\n     10       16.5098        \u001b[32m5.9485\u001b[0m  0.0153\n     11        7.9439       12.7882  0.0152\n     12       13.6911        7.0755  0.0150\n     13        8.0897        7.6812  0.0150\n     14        \u001b[36m7.5056\u001b[0m       11.5896  0.0150\n     15       11.4874        7.2572  0.0157\n     16        \u001b[36m6.7582\u001b[0m        \u001b[32m5.3974\u001b[0m  0.0157\n     17        \u001b[36m5.5134\u001b[0m        7.2064  0.0156\n     18        7.7774        5.4575  0.0159\n     19        \u001b[36m5.3344\u001b[0m        \u001b[32m2.7836\u001b[0m  0.0164\n     20        \u001b[36m3.1466\u001b[0m        5.5885  0.0216\n     21        5.7953        6.0104  0.0162\n     22        5.8991        4.2072  0.0168\n     23        3.9643        4.4147  0.0354\n     24        4.4952        3.3599  0.0166\n     25        3.7594        \u001b[32m2.3464\u001b[0m  0.0163\n     26        \u001b[36m2.5909\u001b[0m        3.0562  0.0231\n     27        3.2918        3.7329  0.0149\n     28        3.8752        2.7171  0.0155\n     29        2.7052        \u001b[32m2.0133\u001b[0m  0.0172\n     30        \u001b[36m2.2547\u001b[0m        2.7934  0.0151\n     31        3.0034        2.2209  0.0149\n     32        2.3794        2.0419  0.0152\n     33        \u001b[36m2.1824\u001b[0m        2.1247  0.0154\n     34        2.4062        2.0776  0.0152\n     35        2.2763        \u001b[32m1.5736\u001b[0m  0.0151\n     36        \u001b[36m1.8953\u001b[0m        1.6494  0.0149\n     37        2.0380        1.9351  0.0151\n     38        2.1867        \u001b[32m1.3455\u001b[0m  0.0150\n     39        \u001b[36m1.6581\u001b[0m        1.6216  0.0151\n     40        1.7797        1.6944  0.0150\n     41        1.8194        1.6224  0.0151\n     42        1.6924        1.3713  0.0155\n     43        \u001b[36m1.6116\u001b[0m        1.4405  0.0155\n     44        1.6771        1.4057  0.0226\n     45        \u001b[36m1.6073\u001b[0m        \u001b[32m1.2765\u001b[0m  0.0171\n     46        \u001b[36m1.4419\u001b[0m        1.5060  0.0165\n     47        1.6036        1.3826  0.0149\n     48        1.5479        \u001b[32m1.2557\u001b[0m  0.0147\n     49        \u001b[36m1.4198\u001b[0m        \u001b[32m1.1023\u001b[0m  0.0149\n     50        \u001b[36m1.3409\u001b[0m        1.1622  0.0149\n     51        1.3751        1.1900  0.0150\n     52        1.3626        1.2348  0.0155\n     53        1.3634        1.3472  0.0154\n     54        1.4434        1.1997  0.0153\n     55        \u001b[36m1.3346\u001b[0m        1.1355  0.0187\n     56        \u001b[36m1.2946\u001b[0m        \u001b[32m1.0328\u001b[0m  0.0151\n     57        \u001b[36m1.2562\u001b[0m        1.0742  0.0151\n     58        1.2718        1.0709  0.0152\n     59        \u001b[36m1.2457\u001b[0m        1.1079  0.0156\n     60        1.2633        1.1577  0.0153\n     61        1.2879        1.0770  0.0155\n     62        \u001b[36m1.2385\u001b[0m        1.0799  0.0174\n     63        1.2511        \u001b[32m1.0232\u001b[0m  0.0158\n     64        \u001b[36m1.2227\u001b[0m        1.0495  0.0155\n     65        1.2228        1.0252  0.0159\n     66        \u001b[36m1.1926\u001b[0m        1.0555  0.0176\n     67        1.2063        1.0571  0.0165\n     68        1.2083        \u001b[32m1.0085\u001b[0m  0.0168\n     69        \u001b[36m1.1814\u001b[0m        1.0206  0.0168\n     70        1.1863        \u001b[32m0.9793\u001b[0m  0.0209\n     71        \u001b[36m1.1599\u001b[0m        1.0177  0.0172\n     72        1.1687        1.0085  0.0155\n     73        \u001b[36m1.1584\u001b[0m        1.0383  0.0161\n     74        1.1728        1.0197  0.0154\n     75        1.1629        0.9956  0.0154\n     76        \u001b[36m1.1489\u001b[0m        0.9945  0.0875\n     77        \u001b[36m1.1480\u001b[0m        \u001b[32m0.9752\u001b[0m  0.0153\n     78        \u001b[36m1.1334\u001b[0m        1.0040  0.0165\n     79        1.1410        0.9911  0.0151\n     80        \u001b[36m1.1317\u001b[0m        1.0070  0.0161\n     81        1.1367        0.9826  0.0157\n     82        \u001b[36m1.1229\u001b[0m        0.9771  0.0166\n     83        \u001b[36m1.1192\u001b[0m        0.9777  0.0154\n     84        \u001b[36m1.1182\u001b[0m        0.9754  0.0158\n     85        \u001b[36m1.1128\u001b[0m        0.9943  0.0166\n     86        1.1179        0.9831  0.0165\n     87        \u001b[36m1.1098\u001b[0m        0.9910  0.0199\n     88        1.1120        \u001b[32m0.9694\u001b[0m  0.0151\n     89        \u001b[36m1.1007\u001b[0m        0.9706  0.0154\n     90        \u001b[36m1.0994\u001b[0m        \u001b[32m0.9671\u001b[0m  0.0188\n     91        \u001b[36m1.0943\u001b[0m        0.9709  0.0163\n     92        \u001b[36m1.0928\u001b[0m        0.9821  0.0186\n     93        1.0950        0.9760  0.0176\n     94        \u001b[36m1.0911\u001b[0m        0.9812  0.0238\n     95        1.0921        \u001b[32m0.9658\u001b[0m  0.0167\n     96        \u001b[36m1.0834\u001b[0m        0.9697  0.0247\n     97        \u001b[36m1.0823\u001b[0m        \u001b[32m0.9646\u001b[0m  0.0166\n     98        \u001b[36m1.0763\u001b[0m        0.9699  0.0150\n     99        \u001b[36m1.0758\u001b[0m        0.9726  0.0159\n    100        \u001b[36m1.0745\u001b[0m        0.9679  0.0197\n    101        \u001b[36m1.0711\u001b[0m        0.9704  0.0158\n  epoch    train_loss    valid_loss     dur\n-------  ------------  ------------  ------\n      1      \u001b[36m230.6317\u001b[0m      \u001b[32m202.3256\u001b[0m  0.0157\n      2      \u001b[36m170.1739\u001b[0m       \u001b[32m42.6231\u001b[0m  0.0158\n      3       \u001b[36m39.6871\u001b[0m       83.0694  0.0162\n      4      146.4627       60.0290  0.0167\n      5       82.8064       83.6389  0.0160\n      6       64.6824       \u001b[32m25.1401\u001b[0m  0.0156\n      7       \u001b[36m20.5813\u001b[0m       \u001b[32m15.5802\u001b[0m  0.0226\n      8       \u001b[36m17.9665\u001b[0m        \u001b[32m9.4748\u001b[0m  0.0158\n      9       \u001b[36m10.0426\u001b[0m       18.1628  0.0156\n     10       14.4895        \u001b[32m5.8776\u001b[0m  0.0190\n     11        \u001b[36m7.8564\u001b[0m        8.4629  0.0220\n     12        8.5004        \u001b[32m5.3405\u001b[0m  0.0201\n     13        \u001b[36m5.9167\u001b[0m        \u001b[32m4.8048\u001b[0m  0.0168\n     14        \u001b[36m5.2796\u001b[0m        5.2168  0.0155\n     15        \u001b[36m4.4698\u001b[0m        \u001b[32m2.8913\u001b[0m  0.0199\n     16        \u001b[36m3.4022\u001b[0m        3.6587  0.0181\n     17        3.5649        3.9122  0.0237\n     18        3.6188        3.3014  0.0276\n     19        \u001b[36m3.0457\u001b[0m        \u001b[32m2.7970\u001b[0m  0.0170\n     20        \u001b[36m2.8867\u001b[0m        3.0593  0.0160\n     21        2.9326        \u001b[32m2.4880\u001b[0m  0.0262\n     22        \u001b[36m2.6200\u001b[0m        2.5718  0.0190\n     23        2.9209        \u001b[32m2.4129\u001b[0m  0.0184\n     24        2.8004        2.5481  0.0190\n     25        2.8574        \u001b[32m1.8484\u001b[0m  0.0193\n     26        \u001b[36m2.4680\u001b[0m        1.9278  0.0210\n     27        2.4922        \u001b[32m1.6941\u001b[0m  0.0295\n     28        \u001b[36m2.0821\u001b[0m        2.2087  0.0162\n     29        2.2633        \u001b[32m1.6477\u001b[0m  0.0243\n     30        \u001b[36m1.8349\u001b[0m        \u001b[32m1.5990\u001b[0m  0.0164\n     31        1.8857        \u001b[32m1.5298\u001b[0m  0.0247\n     32        \u001b[36m1.6498\u001b[0m        1.7537  0.0156\n     33        1.7753        1.5299  0.0238\n     34        \u001b[36m1.6182\u001b[0m        1.5420  0.0160\n     35        1.7548        \u001b[32m1.4169\u001b[0m  0.0245\n     36        \u001b[36m1.5722\u001b[0m        1.5726  0.0203\n     37        1.6105        1.5375  0.0166\n     38        \u001b[36m1.5436\u001b[0m        \u001b[32m1.4147\u001b[0m  0.0157\n     39        \u001b[36m1.5277\u001b[0m        \u001b[32m1.3207\u001b[0m  0.0165\n     40        \u001b[36m1.4246\u001b[0m        1.4372  0.0164\n     41        1.5006        1.3335  0.0163\n     42        1.4555        \u001b[32m1.2481\u001b[0m  0.0162\n     43        1.4248        1.2546  0.0156\n     44        \u001b[36m1.3936\u001b[0m        \u001b[32m1.2282\u001b[0m  0.0156\n     45        \u001b[36m1.3480\u001b[0m        1.2975  0.0162\n     46        1.3600        \u001b[32m1.2236\u001b[0m  0.0157\n     47        \u001b[36m1.3355\u001b[0m        \u001b[32m1.1868\u001b[0m  0.0160\n     48        \u001b[36m1.3070\u001b[0m        1.2115  0.0159\n     49        \u001b[36m1.2948\u001b[0m        1.1981  0.0160\n     50        1.2970        \u001b[32m1.1374\u001b[0m  0.0156\n     51        \u001b[36m1.2651\u001b[0m        \u001b[32m1.1319\u001b[0m  0.0158\n     52        1.2678        \u001b[32m1.1073\u001b[0m  0.0158\n     53        \u001b[36m1.2363\u001b[0m        1.1481  0.0158\n     54        1.2438        1.1206  0.0186\n     55        \u001b[36m1.2260\u001b[0m        \u001b[32m1.0853\u001b[0m  0.0158\n     56        \u001b[36m1.2064\u001b[0m        1.0890  0.0172\n     57        \u001b[36m1.2008\u001b[0m        1.0939  0.0160\n     58        \u001b[36m1.2001\u001b[0m        1.0867  0.0156\n     59        \u001b[36m1.1862\u001b[0m        \u001b[32m1.0623\u001b[0m  0.0176\n     60        \u001b[36m1.1798\u001b[0m        \u001b[32m1.0538\u001b[0m  0.0156\n     61        \u001b[36m1.1631\u001b[0m        1.0735  0.0158\n     62        \u001b[36m1.1626\u001b[0m        1.0601  0.0155\n     63        \u001b[36m1.1597\u001b[0m        \u001b[32m1.0331\u001b[0m  0.0170\n     64        \u001b[36m1.1493\u001b[0m        1.0335  0.0159\n     65        \u001b[36m1.1420\u001b[0m        \u001b[32m1.0288\u001b[0m  0.0188\n     66        \u001b[36m1.1359\u001b[0m        1.0354  0.0187\n     67        1.1374        \u001b[32m1.0237\u001b[0m  0.0157\n     68        \u001b[36m1.1283\u001b[0m        \u001b[32m1.0195\u001b[0m  0.0161\n     69        \u001b[36m1.1204\u001b[0m        \u001b[32m1.0160\u001b[0m  0.0159\n     70        \u001b[36m1.1174\u001b[0m        1.0175  0.0155\n     71        \u001b[36m1.1149\u001b[0m        \u001b[32m1.0069\u001b[0m  0.0168\n     72        \u001b[36m1.1074\u001b[0m        \u001b[32m0.9943\u001b[0m  0.0157\n     73        \u001b[36m1.1030\u001b[0m        0.9952  0.0155\n     74        \u001b[36m1.0970\u001b[0m        1.0047  0.0882\n     75        1.0982        \u001b[32m0.9861\u001b[0m  0.0160\n     76        \u001b[36m1.0912\u001b[0m        \u001b[32m0.9756\u001b[0m  0.0157\n     77        \u001b[36m1.0869\u001b[0m        0.9771  0.0159\n     78        \u001b[36m1.0829\u001b[0m        0.9769  0.0188\n     79        \u001b[36m1.0817\u001b[0m        \u001b[32m0.9689\u001b[0m  0.0162\n     80        \u001b[36m1.0779\u001b[0m        \u001b[32m0.9653\u001b[0m  0.0159\n     81        \u001b[36m1.0737\u001b[0m        \u001b[32m0.9632\u001b[0m  0.0162\n     82        \u001b[36m1.0692\u001b[0m        \u001b[32m0.9624\u001b[0m  0.0159\n     83        \u001b[36m1.0690\u001b[0m        \u001b[32m0.9612\u001b[0m  0.0159\n     84        \u001b[36m1.0650\u001b[0m        0.9613  0.0209\n     85        \u001b[36m1.0612\u001b[0m        \u001b[32m0.9588\u001b[0m  0.0159\n     86        \u001b[36m1.0583\u001b[0m        0.9617  0.0166\n     87        \u001b[36m1.0572\u001b[0m        0.9615  0.0216\n     88        \u001b[36m1.0544\u001b[0m        \u001b[32m0.9542\u001b[0m  0.0177\n     89        \u001b[36m1.0506\u001b[0m        \u001b[32m0.9530\u001b[0m  0.0273\n     90        \u001b[36m1.0476\u001b[0m        0.9574  0.0162\n     91        \u001b[36m1.0460\u001b[0m        0.9553  0.0236\n     92        \u001b[36m1.0432\u001b[0m        \u001b[32m0.9521\u001b[0m  0.0163\n     93        \u001b[36m1.0403\u001b[0m        0.9542  0.0232\n     94        \u001b[36m1.0376\u001b[0m        0.9557  0.0180\n     95        \u001b[36m1.0364\u001b[0m        0.9529  0.0264\n     96        \u001b[36m1.0346\u001b[0m        \u001b[32m0.9506\u001b[0m  0.0185\n     97        \u001b[36m1.0316\u001b[0m        \u001b[32m0.9494\u001b[0m  0.0166\n     98        \u001b[36m1.0290\u001b[0m        \u001b[32m0.9490\u001b[0m  0.0163\n     99        \u001b[36m1.0278\u001b[0m        0.9500  0.0165\n    100        \u001b[36m1.0258\u001b[0m        0.9498  0.0174\n    101        \u001b[36m1.0232\u001b[0m        \u001b[32m0.9471\u001b[0m  0.0158\n    102        \u001b[36m1.0212\u001b[0m        \u001b[32m0.9471\u001b[0m  0.0171\n    103        \u001b[36m1.0198\u001b[0m        0.9473  0.0163\n    104        \u001b[36m1.0178\u001b[0m        \u001b[32m0.9451\u001b[0m  0.0166\n    105        \u001b[36m1.0156\u001b[0m        \u001b[32m0.9447\u001b[0m  0.0161\n    106        \u001b[36m1.0138\u001b[0m        0.9457  0.0158\n    107        \u001b[36m1.0124\u001b[0m        \u001b[32m0.9435\u001b[0m  0.0156\n    108        \u001b[36m1.0105\u001b[0m        \u001b[32m0.9413\u001b[0m  0.0157\n    109        \u001b[36m1.0085\u001b[0m        \u001b[32m0.9413\u001b[0m  0.0157\n  epoch    train_loss    valid_loss     dur\n-------  ------------  ------------  ------\n      1      \u001b[36m230.0871\u001b[0m      \u001b[32m161.2554\u001b[0m  0.0886\n      2      \u001b[36m150.6166\u001b[0m       \u001b[32m18.2551\u001b[0m  0.0150\n      3       \u001b[36m18.4260\u001b[0m      126.1444  0.0147\n      4      132.2319       49.0831  0.0149\n      5       49.1549       18.3744  0.0173\n      6       \u001b[36m16.9436\u001b[0m       26.4448  0.0140\n      7       25.4376       \u001b[32m14.6145\u001b[0m  0.0168\n      8       \u001b[36m14.0094\u001b[0m       \u001b[32m10.0032\u001b[0m  0.0160\n      9        \u001b[36m9.8527\u001b[0m       16.5150  0.0142\n     10       16.9648       16.5247  0.0155\n     11       16.9246        \u001b[32m6.8549\u001b[0m  0.0154\n     12        \u001b[36m7.4820\u001b[0m        8.0199  0.0156\n     13        8.4827       12.6222  0.0136\n     14       12.9271       11.2843  0.0188\n     15       11.5186        \u001b[32m5.9705\u001b[0m  0.0151\n     16        \u001b[36m6.2663\u001b[0m        6.4968  0.0160\n     17        7.2713        9.0000  0.0149\n     18       10.1427        8.2506  0.0148\n     19        9.0928        \u001b[32m5.3520\u001b[0m  0.0164\n     20        \u001b[36m5.9851\u001b[0m        5.5865  0.0145\n     21        6.0016        7.9265  0.0140\n     22        8.0168        7.2027  0.0141\n     23        7.2464        \u001b[32m4.9054\u001b[0m  0.0141\n     24        \u001b[36m5.2019\u001b[0m        \u001b[32m3.7845\u001b[0m  0.0207\n     25        \u001b[36m4.5118\u001b[0m        4.8605  0.0147\n     26        5.7192        4.8016  0.0200\n     27        5.3012        3.9072  0.0155\n     28        \u001b[36m4.0845\u001b[0m        \u001b[32m3.1379\u001b[0m  0.0147\n     29        \u001b[36m3.2525\u001b[0m        4.0819  0.0152\n     30        4.0981        4.2007  0.0148\n     31        4.0643        3.5553  0.0151\n     32        3.3931        \u001b[32m2.7356\u001b[0m  0.0147\n     33        \u001b[36m2.7128\u001b[0m        3.0403  0.0143\n     34        3.1753        3.2611  0.0154\n     35        3.3450        3.1106  0.0152\n     36        3.0743        \u001b[32m2.5293\u001b[0m  0.0160\n     37        \u001b[36m2.5360\u001b[0m        \u001b[32m2.5164\u001b[0m  0.0172\n     38        2.6122        2.6954  0.0144\n     39        2.7701        2.6314  0.0144\n     40        2.6219        \u001b[32m2.3238\u001b[0m  0.0152\n     41        \u001b[36m2.2752\u001b[0m        \u001b[32m2.2501\u001b[0m  0.0150\n     42        \u001b[36m2.2456\u001b[0m        2.4513  0.0153\n     43        2.4418        2.4958  0.0155\n     44        2.3852        2.3296  0.0141\n     45        \u001b[36m2.1695\u001b[0m        \u001b[32m2.1805\u001b[0m  0.0143\n     46        \u001b[36m2.0407\u001b[0m        2.3224  0.0146\n     47        2.1652        2.3736  0.0197\n     48        2.1502        2.2923  0.0143\n     49        \u001b[36m2.0387\u001b[0m        \u001b[32m2.1039\u001b[0m  0.0140\n     50        \u001b[36m1.9094\u001b[0m        \u001b[32m2.0822\u001b[0m  0.0139\n     51        1.9628        2.0893  0.0142\n     52        1.9641        2.0861  0.0144\n     53        1.9200        \u001b[32m1.9967\u001b[0m  0.0141\n     54        \u001b[36m1.8268\u001b[0m        2.0104  0.0144\n     55        1.8450        2.0576  0.0142\n     56        1.8673        2.0611  0.0138\n     57        1.8481        \u001b[32m1.9619\u001b[0m  0.0135\n     58        \u001b[36m1.7782\u001b[0m        \u001b[32m1.8706\u001b[0m  0.0163\n     59        \u001b[36m1.7533\u001b[0m        \u001b[32m1.8552\u001b[0m  0.0141\n     60        1.7687        1.8688  0.0142\n     61        1.7619        \u001b[32m1.8475\u001b[0m  0.0143\n     62        \u001b[36m1.7248\u001b[0m        \u001b[32m1.8088\u001b[0m  0.0139\n     63        \u001b[36m1.6905\u001b[0m        1.8281  0.0138\n     64        1.7002        1.8572  0.0140\n     65        1.7026        1.8557  0.0142\n     66        1.6920        \u001b[32m1.8055\u001b[0m  0.0143\n     67        \u001b[36m1.6669\u001b[0m        \u001b[32m1.7821\u001b[0m  0.0144\n     68        1.6703        1.7874  0.0139\n     69        1.6707        1.8010  0.0146\n     70        \u001b[36m1.6631\u001b[0m        1.7889  0.0155\n     71        \u001b[36m1.6411\u001b[0m        1.7899  0.0139\n     72        \u001b[36m1.6359\u001b[0m        1.8083  0.0142\n     73        1.6377        1.8217  0.0144\n     74        1.6361        1.8038  0.0178\n     75        \u001b[36m1.6240\u001b[0m        \u001b[32m1.7747\u001b[0m  0.0149\n     76        \u001b[36m1.6160\u001b[0m        \u001b[32m1.7635\u001b[0m  0.0152\n     77        1.6167        1.7665  0.0149\n     78        \u001b[36m1.6160\u001b[0m        1.7644  0.0148\n     79        \u001b[36m1.6101\u001b[0m        \u001b[32m1.7536\u001b[0m  0.0147\n     80        \u001b[36m1.6017\u001b[0m        \u001b[32m1.7529\u001b[0m  0.0150\n     81        \u001b[36m1.6002\u001b[0m        1.7584  0.0143\n     82        \u001b[36m1.5983\u001b[0m        1.7576  0.0143\n     83        \u001b[36m1.5947\u001b[0m        \u001b[32m1.7423\u001b[0m  0.0144\n     84        \u001b[36m1.5873\u001b[0m        \u001b[32m1.7310\u001b[0m  0.0144\n     85        \u001b[36m1.5846\u001b[0m        1.7316  0.0139\n     86        \u001b[36m1.5830\u001b[0m        1.7385  0.0143\n     87        \u001b[36m1.5812\u001b[0m        1.7394  0.0143\n     88        \u001b[36m1.5764\u001b[0m        1.7405  0.0140\n     89        \u001b[36m1.5734\u001b[0m        1.7462  0.0140\n     90        \u001b[36m1.5720\u001b[0m        1.7512  0.0163\n     91        \u001b[36m1.5706\u001b[0m        1.7459  0.0142\n     92        \u001b[36m1.5673\u001b[0m        1.7331  0.0144\n     93        \u001b[36m1.5638\u001b[0m        \u001b[32m1.7238\u001b[0m  0.0140\n     94        \u001b[36m1.5617\u001b[0m        \u001b[32m1.7207\u001b[0m  0.0143\n     95        \u001b[36m1.5598\u001b[0m        \u001b[32m1.7184\u001b[0m  0.0146\n     96        \u001b[36m1.5573\u001b[0m        \u001b[32m1.7139\u001b[0m  0.0140\n     97        \u001b[36m1.5540\u001b[0m        \u001b[32m1.7125\u001b[0m  0.0145\n     98        \u001b[36m1.5519\u001b[0m        1.7141  0.0141\n     99        \u001b[36m1.5499\u001b[0m        1.7140  0.0138\n    100        \u001b[36m1.5478\u001b[0m        \u001b[32m1.7081\u001b[0m  0.0149\n    101        \u001b[36m1.5447\u001b[0m        \u001b[32m1.7012\u001b[0m  0.0148\n    102        \u001b[36m1.5421\u001b[0m        \u001b[32m1.6979\u001b[0m  0.0148\n    103        \u001b[36m1.5397\u001b[0m        \u001b[32m1.6973\u001b[0m  0.0162\n    104        \u001b[36m1.5373\u001b[0m        \u001b[32m1.6954\u001b[0m  0.0149\n    105        \u001b[36m1.5342\u001b[0m        \u001b[32m1.6928\u001b[0m  0.0150\n    106        \u001b[36m1.5310\u001b[0m        \u001b[32m1.6916\u001b[0m  0.0148\n    107        \u001b[36m1.5278\u001b[0m        \u001b[32m1.6904\u001b[0m  0.0148\n    108        \u001b[36m1.5246\u001b[0m        \u001b[32m1.6854\u001b[0m  0.0148\n    109        \u001b[36m1.5210\u001b[0m        \u001b[32m1.6768\u001b[0m  0.0140\n    110        \u001b[36m1.5171\u001b[0m        \u001b[32m1.6685\u001b[0m  0.0143\n    111        \u001b[36m1.5134\u001b[0m        \u001b[32m1.6624\u001b[0m  0.0185\n    112        \u001b[36m1.5099\u001b[0m        \u001b[32m1.6567\u001b[0m  0.0143\n    113        \u001b[36m1.5066\u001b[0m        \u001b[32m1.6507\u001b[0m  0.0140\n    114        \u001b[36m1.5035\u001b[0m        \u001b[32m1.6458\u001b[0m  0.0142\n    115        \u001b[36m1.5009\u001b[0m        \u001b[32m1.6428\u001b[0m  0.0173\n    116        \u001b[36m1.4987\u001b[0m        \u001b[32m1.6400\u001b[0m  0.0164\n    117        \u001b[36m1.4967\u001b[0m        \u001b[32m1.6359\u001b[0m  0.0142\n    118        \u001b[36m1.4946\u001b[0m        \u001b[32m1.6320\u001b[0m  0.0138\n    119        \u001b[36m1.4925\u001b[0m        \u001b[32m1.6302\u001b[0m  0.0158\n    120        \u001b[36m1.4904\u001b[0m        1.6303  0.0137\n    121        \u001b[36m1.4883\u001b[0m        1.6309  0.0140\n    122        \u001b[36m1.4861\u001b[0m        1.6319  0.0138\n    123        \u001b[36m1.4838\u001b[0m        1.6337  0.0138\n    124        \u001b[36m1.4817\u001b[0m        1.6356  0.0140\n    125        \u001b[36m1.4797\u001b[0m        1.6363  0.0148\n    126        \u001b[36m1.4777\u001b[0m        1.6354  0.0139\n    127        \u001b[36m1.4757\u001b[0m        1.6343  0.0136\n    128        \u001b[36m1.4738\u001b[0m        1.6337  0.0144\n    129        \u001b[36m1.4720\u001b[0m        1.6334  0.0146\n    130        \u001b[36m1.4702\u001b[0m        1.6327  0.0142\n    131        \u001b[36m1.4684\u001b[0m        1.6323  0.0144\n    132        \u001b[36m1.4667\u001b[0m        1.6321  0.0163\n    133        \u001b[36m1.4651\u001b[0m        1.6316  0.0152\n    134        \u001b[36m1.4635\u001b[0m        1.6304  0.0223\n    135        \u001b[36m1.4620\u001b[0m        \u001b[32m1.6287\u001b[0m  0.0151\n    136        \u001b[36m1.4605\u001b[0m        \u001b[32m1.6274\u001b[0m  0.0151\n    137        \u001b[36m1.4590\u001b[0m        \u001b[32m1.6266\u001b[0m  0.0159\n    138        \u001b[36m1.4575\u001b[0m        \u001b[32m1.6261\u001b[0m  0.0138\n    139        \u001b[36m1.4561\u001b[0m        \u001b[32m1.6256\u001b[0m  0.0140\n    140        \u001b[36m1.4546\u001b[0m        \u001b[32m1.6256\u001b[0m  0.0140\n    141        \u001b[36m1.4532\u001b[0m        1.6257  0.0150\n    142        \u001b[36m1.4518\u001b[0m        1.6256  0.0149\n    143        \u001b[36m1.4504\u001b[0m        \u001b[32m1.6252\u001b[0m  0.0148\n    144        \u001b[36m1.4491\u001b[0m        \u001b[32m1.6248\u001b[0m  0.0150\n    145        \u001b[36m1.4477\u001b[0m        \u001b[32m1.6248\u001b[0m  0.0156\n    146        \u001b[36m1.4464\u001b[0m        1.6249  0.0150\n    147        \u001b[36m1.4451\u001b[0m        1.6251  0.0142\n    148        \u001b[36m1.4439\u001b[0m        1.6253  0.0141\n    149        \u001b[36m1.4426\u001b[0m        1.6255  0.0136\n    150        \u001b[36m1.4414\u001b[0m        1.6256  0.0134\n    151        \u001b[36m1.4401\u001b[0m        1.6254  0.0135\n    152        \u001b[36m1.4389\u001b[0m        1.6248  0.0151\n    153        \u001b[36m1.4377\u001b[0m        \u001b[32m1.6244\u001b[0m  0.0163\n    154        \u001b[36m1.4366\u001b[0m        \u001b[32m1.6242\u001b[0m  0.0142\n    155        \u001b[36m1.4354\u001b[0m        \u001b[32m1.6241\u001b[0m  0.0136\n    156        \u001b[36m1.4343\u001b[0m        \u001b[32m1.6240\u001b[0m  0.0140\n    157        \u001b[36m1.4331\u001b[0m        1.6242  0.0139\n    158        \u001b[36m1.4320\u001b[0m        1.6244  0.0136\n    159        \u001b[36m1.4309\u001b[0m        1.6246  0.0137\n    160        \u001b[36m1.4298\u001b[0m        1.6246  0.0137\n    161        \u001b[36m1.4287\u001b[0m        1.6246  0.0147\n    162        \u001b[36m1.4276\u001b[0m        1.6248  0.0138\n    163        \u001b[36m1.4265\u001b[0m        1.6251  0.0138\n    164        \u001b[36m1.4254\u001b[0m        1.6254  0.0142\n    165        \u001b[36m1.4244\u001b[0m        1.6258  0.0144\n    166        \u001b[36m1.4233\u001b[0m        1.6263  0.0137\n    167        \u001b[36m1.4223\u001b[0m        1.6267  0.0144\n    168        \u001b[36m1.4212\u001b[0m        1.6269  0.0152\n    169        \u001b[36m1.4202\u001b[0m        1.6271  0.0148\n    170        \u001b[36m1.4192\u001b[0m        1.6272  0.0146\n    171        \u001b[36m1.4182\u001b[0m        1.6275  0.0148\n    172        \u001b[36m1.4171\u001b[0m        1.6277  0.0150\n    173        \u001b[36m1.4161\u001b[0m        1.6280  0.0139\n    174        \u001b[36m1.4151\u001b[0m        1.6283  0.0138\n    175        \u001b[36m1.4141\u001b[0m        1.6287  0.0141\n    176        \u001b[36m1.4132\u001b[0m        1.6290  0.0136\n    177        \u001b[36m1.4122\u001b[0m        1.6293  0.0168\n    178        \u001b[36m1.4112\u001b[0m        1.6296  0.0140\n    179        \u001b[36m1.4102\u001b[0m        1.6300  0.0141\n    180        \u001b[36m1.4093\u001b[0m        1.6304  0.0139\n    181        \u001b[36m1.4083\u001b[0m        1.6308  0.0141\n    182        \u001b[36m1.4074\u001b[0m        1.6312  0.0141\n    183        \u001b[36m1.4064\u001b[0m        1.6316  0.0140\n    184        \u001b[36m1.4055\u001b[0m        1.6320  0.0141\n    185        \u001b[36m1.4045\u001b[0m        1.6324  0.0145\n    186        \u001b[36m1.4036\u001b[0m        1.6326  0.0141\n    187        \u001b[36m1.4027\u001b[0m        1.6329  0.0142\n    188        \u001b[36m1.4017\u001b[0m        1.6332  0.0139\n    189        \u001b[36m1.4008\u001b[0m        1.6335  0.0137\n    190        \u001b[36m1.3999\u001b[0m        1.6338  0.0142\n    191        \u001b[36m1.3990\u001b[0m        1.6341  0.0153\n    192        \u001b[36m1.3981\u001b[0m        1.6345  0.0140\n    193        \u001b[36m1.3972\u001b[0m        1.6349  0.0141\n",
     "output_type": "stream"
    }
   ]
  },
  {
   "cell_type": "markdown",
   "source": "## Learning Curves",
   "metadata": {
    "cell_id": "1dd24bc0-b2c7-409c-ae56-4311020f10a2",
    "tags": [],
    "deepnote_cell_type": "markdown"
   }
  },
  {
   "cell_type": "code",
   "metadata": {
    "cell_id": "dc368c71-a58a-4243-bda8-cba605d67e65",
    "deepnote_to_be_reexecuted": true,
    "execution_millis": 1881,
    "execution_start": 1642822708158,
    "source_hash": "d09f595f",
    "tags": [],
    "deepnote_output_heights": [
     611
    ],
    "output_cleared": false,
    "deepnote_cell_type": "code"
   },
   "source": "fig, axes = plt.subplots(4, 3, figsize=(14,16))\naxes = axes.flatten()\nfig.tight_layout()\n\nfor i in range(len(eval_best_models)):\n    epochs = epochs_best_models[i]\n    loss_train = loss_train_best_models[i]\n    loss_test = loss_test_best_models[i]\n    plot_learning_curves(loss_train, loss_test, epochs, \"Loss (MEE)\", axes[i], i)\n\nfig.subplots_adjust(hspace=0.3)\nfig.subplots_adjust(wspace=0.3)\nfig.delaxes(axes[10])\nfig.delaxes(axes[11])",
   "execution_count": null,
   "outputs": [
    {
     "data": {
      "text/plain": "<Figure size 1008x1152 with 10 Axes>",
      "image/png": "[encoded data removed]"
     },
     "metadata": {
      "needs_background": "light",
      "image/png": {
       "width": 1013,
       "height": 1170
      }
     },
     "output_type": "display_data"
    }
   ]
  },
  {
   "cell_type": "code",
   "metadata": {
    "cell_id": "c7183c49-035c-499a-830e-9787ce94dd3e",
    "deepnote_to_be_reexecuted": true,
    "execution_millis": 1,
    "execution_start": 1642822710023,
    "source_hash": "912ba5cb",
    "tags": [],
    "output_cleared": true,
    "deepnote_cell_type": "code"
   },
   "source": "### Predicted points on internal test set",
   "execution_count": null,
   "outputs": []
  },
  {
   "cell_type": "code",
   "metadata": {
    "cell_id": "00065-c5d0618d-7792-45ae-8b82-6ba1cdddf161",
    "deepnote_to_be_reexecuted": true,
    "source_hash": "29cae774",
    "execution_start": 1642822710029,
    "execution_millis": 14,
    "output_cleared": false,
    "deepnote_cell_type": "code"
   },
   "source": "y_pred_voting_ens_train_test = np.average(y_predictions_train, axis=0)\ny_pred_voting_ens_internal_test = np.average(y_predictions_internal_test, axis=0)\ny_pred_voting_ens_blind_test = np.average(y_predictions_blind_test, axis=0)\n\nprint(f\"MEE: {mee(y_test, y_pred_voting_ens_internal_test)}\")",
   "execution_count": null,
   "outputs": [
    {
     "name": "stdout",
     "text": "MEE: 1.1128858331389524\n",
     "output_type": "stream"
    }
   ]
  },
  {
   "cell_type": "code",
   "metadata": {
    "cell_id": "327a4c6c-9f32-4799-af78-026a65ad6b7b",
    "deepnote_to_be_reexecuted": true,
    "execution_millis": 1502,
    "execution_start": 1642822710036,
    "source_hash": "fc3a8552",
    "tags": [],
    "deepnote_output_heights": [
     264
    ],
    "output_cleared": false,
    "deepnote_cell_type": "code"
   },
   "source": "plot_coordinates(y_predicted_test, y_test)",
   "execution_count": null,
   "outputs": [
    {
     "output_type": "error",
     "ename": "NameError",
     "evalue": "name 'y_predicted_test' is not defined",
     "traceback": [
      "\u001b[0;31m---------------------------------------------------------------------------\u001b[0m",
      "\u001b[0;31mNameError\u001b[0m                                 Traceback (most recent call last)",
      "\u001b[0;32m<ipython-input-35-19e396def973>\u001b[0m in \u001b[0;36m<module>\u001b[0;34m\u001b[0m\n\u001b[0;32m----> 1\u001b[0;31m \u001b[0mplot_coordinates\u001b[0m\u001b[0;34m(\u001b[0m\u001b[0my_predicted_test\u001b[0m\u001b[0;34m,\u001b[0m \u001b[0my_test\u001b[0m\u001b[0;34m)\u001b[0m\u001b[0;34m\u001b[0m\u001b[0;34m\u001b[0m\u001b[0m\n\u001b[0m",
      "\u001b[0;31mNameError\u001b[0m: name 'y_predicted_test' is not defined"
     ]
    }
   ]
  },
  {
   "cell_type": "code",
   "metadata": {
    "cell_id": "b365b2b4-b0ac-4719-8ccc-8aaa6c57c90c",
    "deepnote_to_be_reexecuted": true,
    "execution_millis": 407,
    "execution_start": 1642776401820,
    "source_hash": "868eea97",
    "tags": [],
    "deepnote_output_heights": [
     264
    ],
    "output_cleared": true,
    "deepnote_cell_type": "code"
   },
   "source": "plot_coordinates(y_predicted, y)",
   "execution_count": null,
   "outputs": []
  },
  {
   "cell_type": "markdown",
   "source": "### Predicted points on blind test set",
   "metadata": {
    "cell_id": "00059-5568c441-47cb-4a01-a33a-509097aafefe",
    "deepnote_cell_type": "markdown"
   }
  },
  {
   "cell_type": "code",
   "metadata": {
    "cell_id": "00060-4b7b8c5b-a23c-478c-b832-b2298102630c",
    "deepnote_to_be_reexecuted": true,
    "source_hash": "bb7c06f",
    "execution_start": 1642776407258,
    "execution_millis": 277,
    "deepnote_output_heights": [
     264
    ],
    "output_cleared": true,
    "deepnote_cell_type": "code"
   },
   "source": "plot_coordinates(y_predicted_blind)",
   "execution_count": null,
   "outputs": []
  },
  {
   "cell_type": "markdown",
   "source": "## Ensemble ",
   "metadata": {
    "cell_id": "00061-f9c12825-4760-4fa8-9503-344e8dc69ac7",
    "deepnote_cell_type": "markdown"
   }
  },
  {
   "cell_type": "markdown",
   "source": "Then we try the voting method using the 10 best models from the randomized search. ",
   "metadata": {
    "cell_id": "00062-bea0ce65-8d41-4647-af65-b4a9fd2eb765",
    "deepnote_cell_type": "markdown"
   }
  },
  {
   "cell_type": "code",
   "metadata": {
    "cell_id": "00064-8934738e-da2d-40b8-b677-92de7961a24d",
    "deepnote_to_be_reexecuted": true,
    "source_hash": "b623e53d",
    "execution_start": 1642776593969,
    "execution_millis": 152,
    "output_cleared": true,
    "deepnote_cell_type": "code"
   },
   "source": "",
   "execution_count": null,
   "outputs": []
  },
  {
   "cell_type": "code",
   "metadata": {
    "cell_id": "00066-80b92a7e-5188-4109-93a9-70003cfa8bd0",
    "deepnote_to_be_reexecuted": true,
    "source_hash": "95a565ab",
    "deepnote_output_heights": [
     264
    ],
    "execution_start": 1642776594178,
    "execution_millis": 277,
    "output_cleared": true,
    "deepnote_cell_type": "code"
   },
   "source": "y_predicted = pd.DataFrame(data=y_pred_voting_ens_internal_test, columns=[\"x\", \"y\"])\ntrue_y = pd.DataFrame(data=y_test, columns=[\"x\", \"y\"])\nplt.scatter(true_y['x'], true_y['y'], c='r', marker='*')\nplt.xlabel(\"x\")\nplt.ylabel(\"y\")\nplt.scatter(y_predicted['x'], y_predicted['y'], c='#1f77b4');",
   "execution_count": null,
   "outputs": []
  },
  {
   "cell_type": "code",
   "metadata": {
    "cell_id": "00067-5be1d384-64d6-4b7d-97cf-6bae4fc00ce5",
    "deepnote_to_be_reexecuted": true,
    "source_hash": "95a565ab",
    "deepnote_output_heights": [
     264
    ],
    "execution_start": 1642776594456,
    "execution_millis": 317,
    "output_cleared": true,
    "deepnote_cell_type": "code"
   },
   "source": "y_predicted = pd.DataFrame(data=y_pred_voting_ens_internal_test, columns=[\"x\", \"y\"])\ntrue_y = pd.DataFrame(data=y_test, columns=[\"x\", \"y\"])\nplt.scatter(true_y['x'], true_y['y'], c='r', marker='*')\nplt.xlabel(\"x\")\nplt.ylabel(\"y\")\nplt.scatter(y_predicted['x'], y_predicted['y'], c='#1f77b4');",
   "execution_count": null,
   "outputs": []
  },
  {
   "cell_type": "code",
   "metadata": {
    "cell_id": "00068-9d10c589-93de-4ab9-a464-4dbed4aa3a3c",
    "deepnote_to_be_reexecuted": true,
    "source_hash": "15d71ae0",
    "deepnote_output_heights": [
     264
    ],
    "execution_start": 1642776594749,
    "execution_millis": 265,
    "output_cleared": true,
    "deepnote_cell_type": "code"
   },
   "source": "y_predicted = pd.DataFrame(data=y_pred_voting_ens_blind_test, columns=[\"x\", \"y\"])\nplt.xlabel(\"x\")\nplt.ylabel(\"y\")\nplt.scatter(y_predicted['x'], y_predicted['y'], c='#1f77b4');",
   "execution_count": null,
   "outputs": []
  },
  {
   "cell_type": "markdown",
   "source": "<a style='text-decoration:none;line-height:16px;display:flex;color:#5B5B62;padding:10px;justify-content:end;' href='https://deepnote.com?utm_source=created-in-deepnote-cell&projectId=d9d840c9-75b3-4185-bb01-105f5cca8d83' target=\"_blank\">\n<img alt='Created in deepnote.com' style='display:inline;max-height:16px;margin:0px;margin-right:7.5px;' src='data:image/svg+xml;base64,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' > </img>\nCreated in <span style='font-weight:600;margin-left:4px;'>Deepnote</span></a>",
   "metadata": {
    "tags": [],
    "created_in_deepnote_cell": true,
    "deepnote_cell_type": "markdown"
   }
  }
 ],
 "nbformat": 4,
 "nbformat_minor": 2,
 "metadata": {
  "deepnote": {
   "is_reactive": false
  },
  "deepnote_execution_queue": [
   {
    "cellId": "2c1b2cbb-2e12-4f41-a770-396d4588c705",
    "sessionId": "ddd7c236-624a-42cb-a638-2504e1080cc0",
    "msgId": "b87b27dc-cd11-4fd8-9b81-a0666b063306"
   },
   {
    "cellId": "6092d8eb-d5ce-4a24-91ba-ffccc33179bb",
    "sessionId": "ddd7c236-624a-42cb-a638-2504e1080cc0",
    "msgId": "d17404b4-9511-4bf0-adf4-334080de31de"
   },
   {
    "cellId": "00035-35634286-bbca-405f-826c-e98eac51d714",
    "sessionId": "ddd7c236-624a-42cb-a638-2504e1080cc0",
    "msgId": "79d684b5-51f0-4425-9c9a-1d8d18b03e3d"
   },
   {
    "cellId": "00036-0ea2098c-908a-471d-96ea-16015bf6d6d9",
    "sessionId": "ddd7c236-624a-42cb-a638-2504e1080cc0",
    "msgId": "3fd4ca67-72cc-4c8e-a7e9-9686dc044f26"
   },
   {
    "cellId": "00063-4e9e8339-09fe-43e2-b61e-7212549c3846",
    "sessionId": "ddd7c236-624a-42cb-a638-2504e1080cc0",
    "msgId": "0c799702-3cf9-4cc5-b4b3-484c8a75d935"
   },
   {
    "cellId": "673f4af6-3dfb-4602-8324-bdfc5da142e5",
    "sessionId": "ddd7c236-624a-42cb-a638-2504e1080cc0",
    "msgId": "518313b8-350e-4071-96e3-51ff17f06c93"
   },
   {
    "cellId": "6ec07286-f91e-49c0-aec8-58deb00c31c5",
    "sessionId": "ddd7c236-624a-42cb-a638-2504e1080cc0",
    "msgId": "dcd436d4-407a-4047-ab70-b49a7521af20"
   },
   {
    "cellId": "dc368c71-a58a-4243-bda8-cba605d67e65",
    "sessionId": "ddd7c236-624a-42cb-a638-2504e1080cc0",
    "msgId": "db90753a-9663-44ec-b0b8-6e3609dd4170"
   },
   {
    "cellId": "c7183c49-035c-499a-830e-9787ce94dd3e",
    "sessionId": "ddd7c236-624a-42cb-a638-2504e1080cc0",
    "msgId": "9b27e77c-55d6-4e6d-a215-9e4312d2efbf"
   },
   {
    "cellId": "00065-c5d0618d-7792-45ae-8b82-6ba1cdddf161",
    "sessionId": "ddd7c236-624a-42cb-a638-2504e1080cc0",
    "msgId": "97adda35-ffb5-4341-808b-e35cfbc280c3"
   },
   {
    "cellId": "327a4c6c-9f32-4799-af78-026a65ad6b7b",
    "sessionId": "ddd7c236-624a-42cb-a638-2504e1080cc0",
    "msgId": "4549d025-1b01-4e16-9cdf-a92dc333f91d"
   },
   {
    "cellId": "b365b2b4-b0ac-4719-8ccc-8aaa6c57c90c",
    "sessionId": "ddd7c236-624a-42cb-a638-2504e1080cc0",
    "msgId": "85620299-474b-43f3-96e2-af19c8f64e3a"
   },
   {
    "cellId": "00060-4b7b8c5b-a23c-478c-b832-b2298102630c",
    "sessionId": "ddd7c236-624a-42cb-a638-2504e1080cc0",
    "msgId": "fec763a8-f537-458f-bf6c-8c4bbf68189a"
   },
   {
    "cellId": "00064-8934738e-da2d-40b8-b677-92de7961a24d",
    "sessionId": "ddd7c236-624a-42cb-a638-2504e1080cc0",
    "msgId": "8419073e-84af-41b6-b2db-83f03a973132"
   },
   {
    "cellId": "00066-80b92a7e-5188-4109-93a9-70003cfa8bd0",
    "sessionId": "ddd7c236-624a-42cb-a638-2504e1080cc0",
    "msgId": "985a8f3d-15dc-4958-a583-2593a10c7c75"
   },
   {
    "cellId": "00067-5be1d384-64d6-4b7d-97cf-6bae4fc00ce5",
    "sessionId": "ddd7c236-624a-42cb-a638-2504e1080cc0",
    "msgId": "8c679a15-ad46-4772-ab52-dd3ad06de054"
   },
   {
    "cellId": "00068-9d10c589-93de-4ab9-a464-4dbed4aa3a3c",
    "sessionId": "ddd7c236-624a-42cb-a638-2504e1080cc0",
    "msgId": "efb1dbfd-2577-4069-84cf-14f1c743a565"
   }
  ],
  "deepnote_notebook_id": "10b26e99-167c-44c5-82d9-a804fbe3ae77",
  "kernelspec": {
   "display_name": "Python 3",
   "language": "python",
   "name": "python3"
  },
  "language_info": {
   "codemirror_mode": {
    "name": "ipython",
    "version": 3
   },
   "file_extension": ".py",
   "mimetype": "text/x-python",
   "name": "python",
   "nbconvert_exporter": "python",
   "pygments_lexer": "ipython3",
   "version": "3.9.7"
  }
 }
}