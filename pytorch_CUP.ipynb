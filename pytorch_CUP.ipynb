{
 "cells": [
  {
   "cell_type": "markdown",
   "source": "## PyTorch MLP model",
   "metadata": {
    "cell_id": "481660c9-aa3e-43cd-b6d9-9c8530e3971e",
    "tags": [],
    "deepnote_cell_type": "markdown"
   }
  },
  {
   "cell_type": "markdown",
   "source": "### Importing libraries",
   "metadata": {
    "cell_id": "f112892d-46c1-49f1-aefc-677f76ec0a8d",
    "tags": [],
    "deepnote_cell_type": "markdown"
   }
  },
  {
   "cell_type": "code",
   "metadata": {
    "cell_id": "03113463-b757-457e-8da3-ee58794b33ee",
    "deepnote_output_heights": [
     193.9375
    ],
    "deepnote_to_be_reexecuted": false,
    "execution_millis": 4085,
    "execution_start": 1642932594909,
    "output_cleared": true,
    "source_hash": "59d1bdbb",
    "deepnote_cell_type": "code"
   },
   "source": "import numpy as np\nimport pandas as pd\nimport matplotlib.pyplot as plt\nimport torch\nimport torch.nn as nn\nimport torch.optim as optim\nimport ast\nfrom dataclasses import dataclass\nfrom sklearn.model_selection import train_test_split\nfrom skorch import NeuralNetRegressor\nfrom skorch.callbacks import EarlyStopping\nfrom scipy.stats import uniform\nfrom scipy.stats import randint\nfrom sklearn.model_selection import GridSearchCV\nfrom sklearn.model_selection import RandomizedSearchCV\nfrom sklearn.metrics import make_scorer\nfrom sklearn.metrics import mean_squared_error",
   "execution_count": 1,
   "outputs": []
  },
  {
   "cell_type": "markdown",
   "source": "### Loading training set and blind test set",
   "metadata": {
    "cell_id": "fc66c1ca-4617-4dea-9b8e-1a0c4c4dd60a",
    "tags": [],
    "deepnote_cell_type": "markdown"
   }
  },
  {
   "cell_type": "code",
   "metadata": {
    "cell_id": "00001-0d0173a2-0574-4d5b-b9c7-3549eee93b9a",
    "deepnote_to_be_reexecuted": false,
    "execution_millis": 26,
    "execution_start": 1642932599003,
    "output_cleared": true,
    "source_hash": "47b90439",
    "deepnote_cell_type": "code"
   },
   "source": "df_visual = pd.read_csv('./data/ML-CUP21-TR.csv', usecols=[11,12], names=['idx','f1','f2','f3','f4','f5','f6','f7','f8','f9','f10', 'x','y'])\ndf_task_tr = pd.read_csv('./data/ML-CUP21-TR.csv', names=['idx','f1','f2','f3','f4','f5','f6','f7','f8','f9','f10', 'x','y'])\ndf_task_tr = df_task_tr[7:] # remove first 7 rows of comments\ndf_visual = df_visual[7:]\n\ndf_blind_ts = pd.read_csv('./data/ML-CUP21-TS.csv', names=['idx','f1','f2','f3','f4','f5','f6','f7','f8','f9','f10'])\ndf_blind_ts = df_blind_ts[7:]\ndf_blind_ts.drop(labels=\"idx\", axis=1, inplace=True)\nblind_ts = df_blind_ts.values",
   "execution_count": 2,
   "outputs": []
  },
  {
   "cell_type": "markdown",
   "source": "### Evaluation metric and tools",
   "metadata": {
    "cell_id": "497b7842-e96b-45c4-8138-fe4682e13837",
    "tags": [],
    "deepnote_cell_type": "markdown"
   }
  },
  {
   "cell_type": "markdown",
   "source": "We define the <b>MEE (Mean Euclidean Error)</b> function which is used to evaluate the mean euclidean distance between two points with x and y coordinates.\nThe function takes in input the true target and the predicted target and yields a floating point number which represents the performance. ",
   "metadata": {
    "cell_id": "6b9bdbc6-8535-4f9d-baf4-04b6ec988111",
    "tags": [],
    "deepnote_cell_type": "markdown"
   }
  },
  {
   "cell_type": "code",
   "metadata": {
    "cell_id": "00002-8e3ce472-ff69-4ea7-97e3-d913b512af40",
    "deepnote_to_be_reexecuted": false,
    "execution_millis": 19,
    "execution_start": 1642932599032,
    "output_cleared": true,
    "source_hash": "3afbb4cb",
    "deepnote_cell_type": "code"
   },
   "source": "def mee(true_target, predicted_target): #assuming target is 2-dim matrix with x and y as columns\n    l = true_target.shape[0]\n    res = 0\n    \n    for p in range(l): #for p-th pattern in l (number of samples)\n        x_diff = np.square(true_target[p,0] - predicted_target[p,0]) #difference between the x value of the true and predicted target\n        y_diff = np.square(true_target[p,1] - predicted_target[p,1]) #difference between the y values of true and predicted target\n        sum_term = x_diff + y_diff\n        res = res + np.sqrt(sum_term)\n    res = res / l\n    \n    #return np.average([np.sqrt(np.square(true_target[p,0] - predicted_target[p,0]) + np.square(true_target[p,1] - predicted_target[p,1])) for p in range(l)]) #compact form\n    return res",
   "execution_count": 3,
   "outputs": []
  },
  {
   "cell_type": "code",
   "metadata": {
    "cell_id": "3d5f5d6f-6e80-48d8-af38-ae9a7f8298a8",
    "deepnote_to_be_reexecuted": false,
    "execution_millis": 1,
    "execution_start": 1642932599051,
    "output_cleared": true,
    "source_hash": "a91b8e4",
    "tags": [],
    "deepnote_cell_type": "code"
   },
   "source": "def plot_learning_curves(train_scores, test_scores, epochs, y_label, ax, i):\n    ax.set_title(f\"Model {i+1}\")\n    ax.set_ylabel(y_label)\n    ax.set_xlabel('Epoch');\n    ax.plot(range(0,epochs), train_scores, label = \"Training error\", linestyle='dashed')\n    ax.plot(range(0,epochs), test_scores, label = \"Test error\")\n    ax.legend()\n\n    return ax",
   "execution_count": 4,
   "outputs": []
  },
  {
   "cell_type": "code",
   "metadata": {
    "cell_id": "8a9a0a1a-b223-4e42-955e-51dc6c1498ca",
    "deepnote_to_be_reexecuted": false,
    "execution_millis": 0,
    "execution_start": 1642932599052,
    "output_cleared": true,
    "source_hash": "f4599560",
    "tags": [],
    "deepnote_cell_type": "code"
   },
   "source": "def plot_coordinates(y_predicted, true_y = None):\n    y_predicted = pd.DataFrame(data=y_predicted, columns=[\"x\", \"y\"])\n    if not None:\n        true_y = pd.DataFrame(data=true_y, columns=[\"x\", \"y\"])\n        plt.scatter(true_y['x'], true_y['y'], c='r', marker='*')\n    plt.xlabel(\"x\")\n    plt.ylabel(\"y\")\n    plt.scatter(y_predicted['x'], y_predicted['y'], c='#1f77b4')",
   "execution_count": 5,
   "outputs": []
  },
  {
   "cell_type": "code",
   "metadata": {
    "cell_id": "8ed9c9e9-e487-40b5-a777-e0851e7002fd",
    "deepnote_to_be_reexecuted": false,
    "execution_millis": 0,
    "execution_start": 1642932599053,
    "output_cleared": true,
    "source_hash": "dfbb28ea",
    "tags": [],
    "deepnote_cell_type": "code"
   },
   "source": "#trains the model with one iteration (epoch) and computes in output a list of train and test scores using MEE\ndef fit_and_score(epochs, eval_model, X_train, y_train, X_test, y_test):\n    train_scores = []\n    test_scores = []\n    train_loss = []\n    test_loss = []\n    eval_model.initialize()\n    for i in range(epochs):\n        eval_model = eval_model.fit_loop(X_train,y_train,1) #single epoch of the model\n        y_train_predicted = eval_model.predict(X_train)\n        y_test_predicted = eval_model.predict(X_test)\n        #results on train set\n        train_scores.append(mean_squared_error(y_train, y_train_predicted))\n        test_scores.append(mean_squared_error(y_test, y_test_predicted))\n        #result on test set\n        train_loss.append(mee(y_train, y_train_predicted))\n        test_loss.append(mee(y_test, y_test_predicted))\n    return train_scores, test_scores, train_loss, test_loss\n",
   "execution_count": 6,
   "outputs": []
  },
  {
   "cell_type": "markdown",
   "source": "## Regression task\n### Preparing the training set",
   "metadata": {
    "cell_id": "24820147-b49a-465d-ba32-7e440e14fede",
    "tags": [],
    "deepnote_cell_type": "markdown"
   }
  },
  {
   "cell_type": "code",
   "metadata": {
    "cell_id": "00004-8e65de00-6683-4b7d-9194-4c8ae030aee6",
    "deepnote_to_be_reexecuted": false,
    "execution_millis": 1,
    "execution_start": 1642932599077,
    "output_cleared": true,
    "source_hash": "192dcf",
    "deepnote_cell_type": "code"
   },
   "source": "df_task_tr.drop(labels=\"idx\", axis=1, inplace=True)",
   "execution_count": 7,
   "outputs": []
  },
  {
   "cell_type": "code",
   "metadata": {
    "cell_id": "00005-63853f2c-11dc-4004-9bcb-4e58ba87336d",
    "deepnote_to_be_reexecuted": false,
    "execution_millis": 0,
    "execution_start": 1642932599078,
    "output_cleared": true,
    "source_hash": "adef5ee0",
    "deepnote_cell_type": "code"
   },
   "source": "y = df_task_tr[['x','y']].values\nX = df_task_tr.drop(labels=['x','y'], axis=1).values",
   "execution_count": 8,
   "outputs": []
  },
  {
   "cell_type": "code",
   "metadata": {
    "cell_id": "00006-9e7e1d91-18d5-4fca-9cb1-70fc39ee71c5",
    "deepnote_to_be_reexecuted": false,
    "execution_millis": 3,
    "execution_start": 1642932599079,
    "output_cleared": false,
    "source_hash": "473a37ed",
    "deepnote_cell_type": "code"
   },
   "source": "print(X.shape)\nprint(y.shape)",
   "execution_count": 9,
   "outputs": [
    {
     "name": "stdout",
     "text": "(1477, 10)\n(1477, 2)\n",
     "output_type": "stream"
    }
   ]
  },
  {
   "cell_type": "code",
   "metadata": {
    "cell_id": "00007-15a9d6de-0760-442e-896a-cd43db4adcfb",
    "deepnote_to_be_reexecuted": false,
    "execution_millis": 2,
    "execution_start": 1642932599079,
    "output_cleared": true,
    "source_hash": "596ccc7b",
    "deepnote_cell_type": "code"
   },
   "source": "RS_NUMBER = 69",
   "execution_count": 10,
   "outputs": []
  },
  {
   "cell_type": "markdown",
   "source": "### Splitting the dataset\nWe split the data set obtaining an internal test set (10% of the total dataset), we will use this internal test at the end to test internally the generalization error.",
   "metadata": {
    "cell_id": "8c07f6fa-778e-4ef8-93eb-7f5f8a724454",
    "tags": [],
    "deepnote_cell_type": "markdown"
   }
  },
  {
   "cell_type": "code",
   "metadata": {
    "cell_id": "00008-a49d71c2-f651-41f2-acdc-91530bf94733",
    "deepnote_to_be_reexecuted": false,
    "execution_millis": 3,
    "execution_start": 1642932599084,
    "output_cleared": false,
    "source_hash": "5df0a49",
    "deepnote_cell_type": "code"
   },
   "source": "X, X_test, y, y_test = train_test_split(X, y, test_size=0.1, random_state=RS_NUMBER)\n\nprint(f\"X train shape: {X.shape}\")\nprint(f\"X validation shape: {X_test.shape}\")\nprint(f\"y train shape: {y.shape}\")\nprint(f\"y validation shape: {y_test.shape}\")",
   "execution_count": 11,
   "outputs": [
    {
     "name": "stdout",
     "text": "X train shape: (1329, 10)\nX validation shape: (148, 10)\ny train shape: (1329, 2)\ny validation shape: (148, 2)\n",
     "output_type": "stream"
    }
   ]
  },
  {
   "cell_type": "markdown",
   "source": "### Define the module for the neural network\nWe define a Module for PyTorch, which takes as input the number of units, activation function (sigmoid, relu or tanh) and the number of hidden layers (can be either one or two). The model architecture is the simplest one of a MLP, one or two linear layers and the activation function.  ",
   "metadata": {
    "cell_id": "e8ffe47f-13c3-438c-a625-a1f900c09da9",
    "tags": [],
    "deepnote_cell_type": "markdown"
   }
  },
  {
   "cell_type": "code",
   "metadata": {
    "cell_id": "00009-9b91a60c-1771-44b7-85d3-4179fd2a3044",
    "deepnote_to_be_reexecuted": false,
    "execution_millis": 0,
    "execution_start": 1642932599128,
    "output_cleared": true,
    "source_hash": "f35c2b20",
    "deepnote_cell_type": "code"
   },
   "source": "class MyModule(nn.Module):\n    def __init__(self, num_units, activation_fun, hidden_layers):\n        super(MyModule, self).__init__()\n        \n        if(activation_fun == \"sigmoid\"):\n            activation_fun = nn.Sigmoid()\n        elif activation_fun == \"relu\":\n            activation_fun = nn.ReLU()\n        elif activation_fun == \"tanh\":\n            activation_fun = nn.Tanh()\n            \n        if hidden_layers == 2:\n            self.linear_stack = nn.Sequential(\n                nn.Linear(10, num_units),\n                activation_fun,\n                nn.Linear(num_units, num_units),\n                activation_fun,\n                nn.Linear(num_units, 2),\n            )\n        elif hidden_layers == 1:\n            self.linear_stack = nn.Sequential(\n                nn.Linear(10, num_units),\n                activation_fun,\n                nn.Linear(num_units, 2),\n            )     \n    def forward(self, x):\n        X = self.linear_stack(x)\n        return X\n    \n    def predict(self, x):\n        X = self.linear_stack(x)\n        return X",
   "execution_count": 12,
   "outputs": []
  },
  {
   "cell_type": "markdown",
   "source": "We define the device where the computation is going to happen (in our case the CPU) and we print a model example with a single hidden layer with 100 hidden units and the sigmoid activation function.  ",
   "metadata": {
    "cell_id": "fed8b698-64f4-4cba-86a1-148e8dad61b9",
    "tags": [],
    "deepnote_cell_type": "markdown"
   }
  },
  {
   "cell_type": "code",
   "metadata": {
    "cell_id": "00010-e23cd2eb-f4f5-4c0c-b985-96731b3e5f4b",
    "deepnote_to_be_reexecuted": false,
    "execution_millis": 3,
    "execution_start": 1642932599128,
    "output_cleared": false,
    "source_hash": "c16924d5",
    "deepnote_cell_type": "code"
   },
   "source": "device = torch.device(\"cuda:0\" if torch.cuda.is_available() else \"cpu\")\n\nexample = MyModule(num_units=100, activation_fun = \"sigmoid\", hidden_layers = 1).to(device)\nprint(example)",
   "execution_count": 13,
   "outputs": [
    {
     "name": "stdout",
     "text": "MyModule(\n  (linear_stack): Sequential(\n    (0): Linear(in_features=10, out_features=100, bias=True)\n    (1): Sigmoid()\n    (2): Linear(in_features=100, out_features=2, bias=True)\n  )\n)\n",
     "output_type": "stream"
    }
   ]
  },
  {
   "cell_type": "markdown",
   "source": "Pytorch is used with skorch which is a wrapper for the framework, the goal of skorch is to make it possible to use PyTorch with sklearn. This will allow us to use the randomized search of sklearn, the NeuralNetRegressor takes the module defined before as input and a callback for the early stopping criteria.",
   "metadata": {
    "cell_id": "768ce6ef-5e96-4e6a-b2a9-c0441ca3f4b3",
    "tags": [],
    "deepnote_cell_type": "markdown"
   }
  },
  {
   "cell_type": "code",
   "metadata": {
    "cell_id": "6c048a6a-5e04-4b81-9e55-9fab9d68d60e",
    "deepnote_to_be_reexecuted": false,
    "execution_millis": 1,
    "execution_start": 1642932599129,
    "output_cleared": true,
    "source_hash": "8dccc88b",
    "tags": [],
    "deepnote_cell_type": "code"
   },
   "source": "PATIENCE=20\nTHRESHOLD=0.005",
   "execution_count": 14,
   "outputs": []
  },
  {
   "cell_type": "code",
   "metadata": {
    "cell_id": "00011-ee26a323-33fd-498d-a315-3a23538a0cf1",
    "deepnote_to_be_reexecuted": false,
    "execution_millis": 3,
    "execution_start": 1642932599130,
    "output_cleared": true,
    "source_hash": "38ded2f6",
    "deepnote_cell_type": "code"
   },
   "source": "model = NeuralNetRegressor(\n    module = MyModule,\n    callbacks=[('early_stoppping', EarlyStopping(monitor='valid_loss', patience=PATIENCE, threshold=THRESHOLD))],\n)",
   "execution_count": 15,
   "outputs": []
  },
  {
   "cell_type": "code",
   "metadata": {
    "cell_id": "00012-2fe8f0fe-1ea1-4887-9b7f-061aea6b93a6",
    "deepnote_to_be_reexecuted": false,
    "execution_millis": 0,
    "execution_start": 1642932599180,
    "output_cleared": true,
    "source_hash": "1b127074",
    "deepnote_cell_type": "code"
   },
   "source": "# define the number of iterations\nn_iter_search = 1000\n# define number of k-folds\nk = 10",
   "execution_count": 16,
   "outputs": []
  },
  {
   "cell_type": "code",
   "metadata": {
    "cell_id": "00013-9807bc36-9a23-4057-a810-b1a8d5997908",
    "deepnote_to_be_reexecuted": false,
    "execution_millis": 0,
    "execution_start": 1642932599181,
    "output_cleared": true,
    "source_hash": "b0b719f7",
    "deepnote_cell_type": "code"
   },
   "source": "X = X.astype(np.float32)\ny = y.astype(np.float32)\nX_test = X_test.astype(np.float32)\ny_test = y_test.astype(np.float32)\nblind_ts = blind_ts.astype(np.float32)\n",
   "execution_count": 17,
   "outputs": []
  },
  {
   "cell_type": "markdown",
   "source": "### Randomized Search",
   "metadata": {
    "cell_id": "7148d14e-f05f-45d9-b2a8-8479b2415809",
    "tags": [],
    "deepnote_cell_type": "markdown"
   }
  },
  {
   "cell_type": "code",
   "metadata": {
    "cell_id": "00014-f29742e9-defa-4ead-9f7b-1875566e484a",
    "deepnote_output_heights": [
     null,
     309.109375
    ],
    "deepnote_to_be_reexecuted": false,
    "execution_millis": 41,
    "execution_start": 1642932599182,
    "output_cleared": false,
    "source_hash": "32951237",
    "deepnote_cell_type": "code"
   },
   "source": "%%time\n\n%%script false --no-raise-error \n\n# to find the best set of parameter setting, we can run a randomized search\n\n# define the parameters' values\nparams = {\n    'lr': uniform(0.005, 0.5),\n    'max_epochs': [1000], #upper bound of max number of epochs\n    'optimizer': [torch.optim.SGD],\n    'optimizer__momentum': [0.9, 0.95], ##optimizer__ indicates that it is a parameter of the optimizer\n    'optimizer__weight_decay': uniform(0.0001, 0.1),\n    'optimizer__nesterov': [False, True],\n    'module__num_units': randint(5, 128), #module__ indicates that it is a parameter of the module\n    'module__hidden_layers': [1,2],\n    'module__activation_fun': [\"sigmoid\", \"tanh\", \"relu\"],\n    'batch_size': randint(X.shape[0] / 2, X.shape[0]),\n}\n\n# define the grid search\nrand_gs = RandomizedSearchCV(\n    model,\n    param_distributions=params,\n    n_iter=n_iter_search,\n    n_jobs=-1,\n    scoring=make_scorer(mee), #scoring is based on the highest value so we use the inverse of the MEE loss function\n    cv=k,\n    random_state=RS_NUMBER,\n    verbose=10\n)\n# run the grid search\nrand_gs.fit(X, y)\n",
   "execution_count": 18,
   "outputs": [
    {
     "name": "stdout",
     "text": "CPU times: user 4.77 ms, sys: 3.2 ms, total: 7.97 ms\nWall time: 32.4 ms\n",
     "output_type": "stream"
    }
   ]
  },
  {
   "cell_type": "code",
   "metadata": {
    "cell_id": "00015-c3740584-1ba9-4476-8b79-bfb9a96d2f51",
    "deepnote_to_be_reexecuted": false,
    "execution_millis": 0,
    "execution_start": 1642932599222,
    "output_cleared": true,
    "source_hash": "f2b24f7f",
    "deepnote_cell_type": "code"
   },
   "source": "%%script false --no-raise-error\n\ndf_results = pd.DataFrame(data=rand_gs.cv_results_) #trasform into a pandas dataframe\ndf_results.sort_values(by=\"rank_test_score\", axis=0, ascending=False, inplace=True) #sort rank values in decreasing order \ndf_results.dropna(inplace=True) #delete nan values \ndf_results = df_results[:50] #keep only top 50 models\npd.DataFrame.to_csv(df_results, \"pytorch_results/rand1_search.csv\")",
   "execution_count": 19,
   "outputs": []
  },
  {
   "cell_type": "code",
   "metadata": {
    "cell_id": "00016-e7d90d2d-c917-49b9-927c-34cffe186b5a",
    "deepnote_output_heights": [
     208.1875
    ],
    "deepnote_to_be_reexecuted": false,
    "execution_millis": 134,
    "execution_start": 1642932599222,
    "output_cleared": false,
    "source_hash": "7a530ae9",
    "deepnote_cell_type": "code"
   },
   "source": "df_results = pd.read_csv(\"pytorch_results/rand1_search.csv\")\ndf_results.head()",
   "execution_count": 20,
   "outputs": [
    {
     "output_type": "execute_result",
     "execution_count": 20,
     "data": {
      "application/vnd.deepnote.dataframe.v3+json": {
       "column_count": 29,
       "row_count": 5,
       "columns": [
        {
         "name": "Unnamed: 0",
         "dtype": "int64",
         "stats": {
          "unique_count": 5,
          "nan_count": 0,
          "min": "151",
          "max": "947",
          "histogram": [
           {
            "bin_start": 151,
            "bin_end": 230.6,
            "count": 2
           },
           {
            "bin_start": 230.6,
            "bin_end": 310.2,
            "count": 0
           },
           {
            "bin_start": 310.2,
            "bin_end": 389.79999999999995,
            "count": 2
           },
           {
            "bin_start": 389.79999999999995,
            "bin_end": 469.4,
            "count": 0
           },
           {
            "bin_start": 469.4,
            "bin_end": 549,
            "count": 0
           },
           {
            "bin_start": 549,
            "bin_end": 628.5999999999999,
            "count": 0
           },
           {
            "bin_start": 628.5999999999999,
            "bin_end": 708.1999999999999,
            "count": 0
           },
           {
            "bin_start": 708.1999999999999,
            "bin_end": 787.8,
            "count": 0
           },
           {
            "bin_start": 787.8,
            "bin_end": 867.4,
            "count": 0
           },
           {
            "bin_start": 867.4,
            "bin_end": 947,
            "count": 1
           }
          ]
         }
        },
        {
         "name": "mean_fit_time",
         "dtype": "float64",
         "stats": {
          "unique_count": 5,
          "nan_count": 0,
          "min": "5.247426080703735",
          "max": "11.14916582107544",
          "histogram": [
           {
            "bin_start": 5.247426080703735,
            "bin_end": 5.837600054740905,
            "count": 1
           },
           {
            "bin_start": 5.837600054740905,
            "bin_end": 6.427774028778076,
            "count": 0
           },
           {
            "bin_start": 6.427774028778076,
            "bin_end": 7.017948002815247,
            "count": 0
           },
           {
            "bin_start": 7.017948002815247,
            "bin_end": 7.608121976852417,
            "count": 1
           },
           {
            "bin_start": 7.608121976852417,
            "bin_end": 8.198295950889587,
            "count": 1
           },
           {
            "bin_start": 8.198295950889587,
            "bin_end": 8.788469924926758,
            "count": 0
           },
           {
            "bin_start": 8.788469924926758,
            "bin_end": 9.37864389896393,
            "count": 0
           },
           {
            "bin_start": 9.37864389896393,
            "bin_end": 9.9688178730011,
            "count": 0
           },
           {
            "bin_start": 9.9688178730011,
            "bin_end": 10.558991847038271,
            "count": 1
           },
           {
            "bin_start": 10.558991847038271,
            "bin_end": 11.14916582107544,
            "count": 1
           }
          ]
         }
        },
        {
         "name": "std_fit_time",
         "dtype": "float64",
         "stats": {
          "unique_count": 5,
          "nan_count": 0,
          "min": "0.9839476211947096",
          "max": "5.130889202894639",
          "histogram": [
           {
            "bin_start": 0.9839476211947096,
            "bin_end": 1.3986417793647026,
            "count": 1
           },
           {
            "bin_start": 1.3986417793647026,
            "bin_end": 1.8133359375346954,
            "count": 1
           },
           {
            "bin_start": 1.8133359375346954,
            "bin_end": 2.228030095704688,
            "count": 1
           },
           {
            "bin_start": 2.228030095704688,
            "bin_end": 2.642724253874681,
            "count": 0
           },
           {
            "bin_start": 2.642724253874681,
            "bin_end": 3.057418412044674,
            "count": 0
           },
           {
            "bin_start": 3.057418412044674,
            "bin_end": 3.4721125702146667,
            "count": 1
           },
           {
            "bin_start": 3.4721125702146667,
            "bin_end": 3.8868067283846597,
            "count": 0
           },
           {
            "bin_start": 3.8868067283846597,
            "bin_end": 4.301500886554653,
            "count": 0
           },
           {
            "bin_start": 4.301500886554653,
            "bin_end": 4.716195044724646,
            "count": 0
           },
           {
            "bin_start": 4.716195044724646,
            "bin_end": 5.130889202894639,
            "count": 1
           }
          ]
         }
        },
        {
         "name": "mean_score_time",
         "dtype": "float64",
         "stats": {
          "unique_count": 5,
          "nan_count": 0,
          "min": "0.0033043622970581",
          "max": "0.0089133262634277",
          "histogram": [
           {
            "bin_start": 0.0033043622970581,
            "bin_end": 0.0038652586936950596,
            "count": 3
           },
           {
            "bin_start": 0.0038652586936950596,
            "bin_end": 0.00442615509033202,
            "count": 0
           },
           {
            "bin_start": 0.00442615509033202,
            "bin_end": 0.00498705148696898,
            "count": 0
           },
           {
            "bin_start": 0.00498705148696898,
            "bin_end": 0.005547947883605939,
            "count": 0
           },
           {
            "bin_start": 0.005547947883605939,
            "bin_end": 0.0061088442802429005,
            "count": 0
           },
           {
            "bin_start": 0.0061088442802429005,
            "bin_end": 0.00666974067687986,
            "count": 0
           },
           {
            "bin_start": 0.00666974067687986,
            "bin_end": 0.007230637073516819,
            "count": 0
           },
           {
            "bin_start": 0.007230637073516819,
            "bin_end": 0.00779153347015378,
            "count": 0
           },
           {
            "bin_start": 0.00779153347015378,
            "bin_end": 0.00835242986679074,
            "count": 1
           },
           {
            "bin_start": 0.00835242986679074,
            "bin_end": 0.0089133262634277,
            "count": 1
           }
          ]
         }
        },
        {
         "name": "std_score_time",
         "dtype": "float64",
         "stats": {
          "unique_count": 5,
          "nan_count": 0,
          "min": "0.0009024770975009",
          "max": "0.0160023529026664",
          "histogram": [
           {
            "bin_start": 0.0009024770975009,
            "bin_end": 0.00241246467801745,
            "count": 3
           },
           {
            "bin_start": 0.00241246467801745,
            "bin_end": 0.0039224522585340005,
            "count": 0
           },
           {
            "bin_start": 0.0039224522585340005,
            "bin_end": 0.00543243983905055,
            "count": 0
           },
           {
            "bin_start": 0.00543243983905055,
            "bin_end": 0.006942427419567101,
            "count": 0
           },
           {
            "bin_start": 0.006942427419567101,
            "bin_end": 0.008452415000083651,
            "count": 0
           },
           {
            "bin_start": 0.008452415000083651,
            "bin_end": 0.0099624025806002,
            "count": 0
           },
           {
            "bin_start": 0.0099624025806002,
            "bin_end": 0.01147239016111675,
            "count": 0
           },
           {
            "bin_start": 0.01147239016111675,
            "bin_end": 0.012982377741633301,
            "count": 0
           },
           {
            "bin_start": 0.012982377741633301,
            "bin_end": 0.014492365322149852,
            "count": 1
           },
           {
            "bin_start": 0.014492365322149852,
            "bin_end": 0.0160023529026664,
            "count": 1
           }
          ]
         }
        },
        {
         "name": "param_batch_size",
         "dtype": "int64",
         "stats": {
          "unique_count": 5,
          "nan_count": 0,
          "min": "769",
          "max": "1085",
          "histogram": [
           {
            "bin_start": 769,
            "bin_end": 800.6,
            "count": 1
           },
           {
            "bin_start": 800.6,
            "bin_end": 832.2,
            "count": 1
           },
           {
            "bin_start": 832.2,
            "bin_end": 863.8,
            "count": 0
           },
           {
            "bin_start": 863.8,
            "bin_end": 895.4,
            "count": 1
           },
           {
            "bin_start": 895.4,
            "bin_end": 927,
            "count": 0
           },
           {
            "bin_start": 927,
            "bin_end": 958.6,
            "count": 1
           },
           {
            "bin_start": 958.6,
            "bin_end": 990.2,
            "count": 0
           },
           {
            "bin_start": 990.2,
            "bin_end": 1021.8,
            "count": 0
           },
           {
            "bin_start": 1021.8,
            "bin_end": 1053.4,
            "count": 0
           },
           {
            "bin_start": 1053.4,
            "bin_end": 1085,
            "count": 1
           }
          ]
         }
        },
        {
         "name": "param_lr",
         "dtype": "float64",
         "stats": {
          "unique_count": 5,
          "nan_count": 0,
          "min": "0.0107351084199906",
          "max": "0.0541078750888084",
          "histogram": [
           {
            "bin_start": 0.0107351084199906,
            "bin_end": 0.01507238508687238,
            "count": 1
           },
           {
            "bin_start": 0.01507238508687238,
            "bin_end": 0.019409661753754158,
            "count": 0
           },
           {
            "bin_start": 0.019409661753754158,
            "bin_end": 0.023746938420635938,
            "count": 1
           },
           {
            "bin_start": 0.023746938420635938,
            "bin_end": 0.028084215087517718,
            "count": 0
           },
           {
            "bin_start": 0.028084215087517718,
            "bin_end": 0.0324214917543995,
            "count": 0
           },
           {
            "bin_start": 0.0324214917543995,
            "bin_end": 0.03675876842128128,
            "count": 0
           },
           {
            "bin_start": 0.03675876842128128,
            "bin_end": 0.04109604508816306,
            "count": 1
           },
           {
            "bin_start": 0.04109604508816306,
            "bin_end": 0.04543332175504484,
            "count": 1
           },
           {
            "bin_start": 0.04543332175504484,
            "bin_end": 0.04977059842192662,
            "count": 0
           },
           {
            "bin_start": 0.04977059842192662,
            "bin_end": 0.0541078750888084,
            "count": 1
           }
          ]
         }
        },
        {
         "name": "param_max_epochs",
         "dtype": "int64",
         "stats": {
          "unique_count": 1,
          "nan_count": 0,
          "min": "1000",
          "max": "1000",
          "histogram": [
           {
            "bin_start": 999.5,
            "bin_end": 999.6,
            "count": 0
           },
           {
            "bin_start": 999.6,
            "bin_end": 999.7,
            "count": 0
           },
           {
            "bin_start": 999.7,
            "bin_end": 999.8,
            "count": 0
           },
           {
            "bin_start": 999.8,
            "bin_end": 999.9,
            "count": 0
           },
           {
            "bin_start": 999.9,
            "bin_end": 1000,
            "count": 0
           },
           {
            "bin_start": 1000,
            "bin_end": 1000.1,
            "count": 5
           },
           {
            "bin_start": 1000.1,
            "bin_end": 1000.2,
            "count": 0
           },
           {
            "bin_start": 1000.2,
            "bin_end": 1000.3,
            "count": 0
           },
           {
            "bin_start": 1000.3,
            "bin_end": 1000.4,
            "count": 0
           },
           {
            "bin_start": 1000.4,
            "bin_end": 1000.5,
            "count": 0
           }
          ]
         }
        },
        {
         "name": "param_module__activation_fun",
         "dtype": "object",
         "stats": {
          "unique_count": 2,
          "nan_count": 0,
          "categories": [
           {
            "name": "sigmoid",
            "count": 3
           },
           {
            "name": "tanh",
            "count": 2
           }
          ]
         }
        },
        {
         "name": "param_module__hidden_layers",
         "dtype": "int64",
         "stats": {
          "unique_count": 2,
          "nan_count": 0,
          "min": "1",
          "max": "2",
          "histogram": [
           {
            "bin_start": 1,
            "bin_end": 1.1,
            "count": 2
           },
           {
            "bin_start": 1.1,
            "bin_end": 1.2,
            "count": 0
           },
           {
            "bin_start": 1.2,
            "bin_end": 1.3,
            "count": 0
           },
           {
            "bin_start": 1.3,
            "bin_end": 1.4,
            "count": 0
           },
           {
            "bin_start": 1.4,
            "bin_end": 1.5,
            "count": 0
           },
           {
            "bin_start": 1.5,
            "bin_end": 1.6,
            "count": 0
           },
           {
            "bin_start": 1.6,
            "bin_end": 1.7000000000000002,
            "count": 0
           },
           {
            "bin_start": 1.7000000000000002,
            "bin_end": 1.8,
            "count": 0
           },
           {
            "bin_start": 1.8,
            "bin_end": 1.9,
            "count": 0
           },
           {
            "bin_start": 1.9,
            "bin_end": 2,
            "count": 3
           }
          ]
         }
        },
        {
         "name": "param_module__num_units",
         "dtype": "int64",
         "stats": {
          "unique_count": 5,
          "nan_count": 0,
          "min": "16",
          "max": "86",
          "histogram": [
           {
            "bin_start": 16,
            "bin_end": 23,
            "count": 2
           },
           {
            "bin_start": 23,
            "bin_end": 30,
            "count": 1
           },
           {
            "bin_start": 30,
            "bin_end": 37,
            "count": 0
           },
           {
            "bin_start": 37,
            "bin_end": 44,
            "count": 0
           },
           {
            "bin_start": 44,
            "bin_end": 51,
            "count": 1
           },
           {
            "bin_start": 51,
            "bin_end": 58,
            "count": 0
           },
           {
            "bin_start": 58,
            "bin_end": 65,
            "count": 0
           },
           {
            "bin_start": 65,
            "bin_end": 72,
            "count": 0
           },
           {
            "bin_start": 72,
            "bin_end": 79,
            "count": 0
           },
           {
            "bin_start": 79,
            "bin_end": 86,
            "count": 1
           }
          ]
         }
        },
        {
         "name": "param_optimizer",
         "dtype": "object",
         "stats": {
          "unique_count": 1,
          "nan_count": 0,
          "categories": [
           {
            "name": "<class 'torch.optim.sgd.SGD'>",
            "count": 5
           }
          ]
         }
        },
        {
         "name": "param_optimizer__momentum",
         "dtype": "float64",
         "stats": {
          "unique_count": 2,
          "nan_count": 0,
          "min": "0.9",
          "max": "0.95",
          "histogram": [
           {
            "bin_start": 0.9,
            "bin_end": 0.905,
            "count": 2
           },
           {
            "bin_start": 0.905,
            "bin_end": 0.91,
            "count": 0
           },
           {
            "bin_start": 0.91,
            "bin_end": 0.915,
            "count": 0
           },
           {
            "bin_start": 0.915,
            "bin_end": 0.92,
            "count": 0
           },
           {
            "bin_start": 0.92,
            "bin_end": 0.925,
            "count": 0
           },
           {
            "bin_start": 0.925,
            "bin_end": 0.9299999999999999,
            "count": 0
           },
           {
            "bin_start": 0.9299999999999999,
            "bin_end": 0.9349999999999999,
            "count": 0
           },
           {
            "bin_start": 0.9349999999999999,
            "bin_end": 0.94,
            "count": 0
           },
           {
            "bin_start": 0.94,
            "bin_end": 0.945,
            "count": 0
           },
           {
            "bin_start": 0.945,
            "bin_end": 0.95,
            "count": 3
           }
          ]
         }
        },
        {
         "name": "param_optimizer__nesterov",
         "dtype": "bool",
         "stats": {
          "unique_count": 2,
          "nan_count": 0,
          "categories": [
           {
            "name": "True",
            "count": 3
           },
           {
            "name": "False",
            "count": 2
           }
          ]
         }
        },
        {
         "name": "param_optimizer__weight_decay",
         "dtype": "float64",
         "stats": {
          "unique_count": 5,
          "nan_count": 0,
          "min": "0.0013677428208289",
          "max": "0.0232537840429461",
          "histogram": [
           {
            "bin_start": 0.0013677428208289,
            "bin_end": 0.00355634694304062,
            "count": 2
           },
           {
            "bin_start": 0.00355634694304062,
            "bin_end": 0.00574495106525234,
            "count": 1
           },
           {
            "bin_start": 0.00574495106525234,
            "bin_end": 0.00793355518746406,
            "count": 1
           },
           {
            "bin_start": 0.00793355518746406,
            "bin_end": 0.01012215930967578,
            "count": 0
           },
           {
            "bin_start": 0.01012215930967578,
            "bin_end": 0.0123107634318875,
            "count": 0
           },
           {
            "bin_start": 0.0123107634318875,
            "bin_end": 0.01449936755409922,
            "count": 0
           },
           {
            "bin_start": 0.01449936755409922,
            "bin_end": 0.01668797167631094,
            "count": 0
           },
           {
            "bin_start": 0.01668797167631094,
            "bin_end": 0.01887657579852266,
            "count": 0
           },
           {
            "bin_start": 0.01887657579852266,
            "bin_end": 0.02106517992073438,
            "count": 0
           },
           {
            "bin_start": 0.02106517992073438,
            "bin_end": 0.0232537840429461,
            "count": 1
           }
          ]
         }
        },
        {
         "name": "params",
         "dtype": "object",
         "stats": {
          "unique_count": 5,
          "nan_count": 0,
          "categories": [
           {
            "name": "{'batch_size': 1085, 'lr': 0.010735108419990699, 'max_epochs': 1000, 'module__activation_fun': 'tanh', 'module__hidden_layers': 2, 'module__num_units': 24, 'optimizer': <class 'torch.optim.sgd.SGD'>, 'optimizer__momentum': 0.9, 'optimizer__nesterov': True, 'optimizer__weight_decay': 0.023253784042946125}",
            "count": 1
           },
           {
            "name": "{'batch_size': 769, 'lr': 0.020812462135460005, 'max_epochs': 1000, 'module__activation_fun': 'tanh', 'module__hidden_layers': 1, 'module__num_units': 20, 'optimizer': <class 'torch.optim.sgd.SGD'>, 'optimizer__momentum': 0.95, 'optimizer__nesterov': True, 'optimizer__weight_decay': 0.005466734101478566}",
            "count": 1
           },
           {
            "name": "3 others",
            "count": 3
           }
          ]
         }
        },
        {
         "name": "split0_test_score",
         "dtype": "float64",
         "stats": {
          "unique_count": 5,
          "nan_count": 0,
          "min": "1.0757147167298131",
          "max": "1.1856621197403825",
          "histogram": [
           {
            "bin_start": 1.0757147167298131,
            "bin_end": 1.08670945703087,
            "count": 1
           },
           {
            "bin_start": 1.08670945703087,
            "bin_end": 1.097704197331927,
            "count": 0
           },
           {
            "bin_start": 1.097704197331927,
            "bin_end": 1.1086989376329839,
            "count": 0
           },
           {
            "bin_start": 1.1086989376329839,
            "bin_end": 1.119693677934041,
            "count": 0
           },
           {
            "bin_start": 1.119693677934041,
            "bin_end": 1.1306884182350978,
            "count": 1
           },
           {
            "bin_start": 1.1306884182350978,
            "bin_end": 1.1416831585361547,
            "count": 0
           },
           {
            "bin_start": 1.1416831585361547,
            "bin_end": 1.1526778988372117,
            "count": 1
           },
           {
            "bin_start": 1.1526778988372117,
            "bin_end": 1.1636726391382686,
            "count": 1
           },
           {
            "bin_start": 1.1636726391382686,
            "bin_end": 1.1746673794393256,
            "count": 0
           },
           {
            "bin_start": 1.1746673794393256,
            "bin_end": 1.1856621197403825,
            "count": 1
           }
          ]
         }
        },
        {
         "name": "split1_test_score",
         "dtype": "float64",
         "stats": {
          "unique_count": 5,
          "nan_count": 0,
          "min": "1.023527391142863",
          "max": "1.1299849337148935",
          "histogram": [
           {
            "bin_start": 1.023527391142863,
            "bin_end": 1.0341731454000662,
            "count": 1
           },
           {
            "bin_start": 1.0341731454000662,
            "bin_end": 1.0448188996572692,
            "count": 1
           },
           {
            "bin_start": 1.0448188996572692,
            "bin_end": 1.055464653914472,
            "count": 0
           },
           {
            "bin_start": 1.055464653914472,
            "bin_end": 1.0661104081716752,
            "count": 1
           },
           {
            "bin_start": 1.0661104081716752,
            "bin_end": 1.0767561624288784,
            "count": 0
           },
           {
            "bin_start": 1.0767561624288784,
            "bin_end": 1.0874019166860813,
            "count": 0
           },
           {
            "bin_start": 1.0874019166860813,
            "bin_end": 1.0980476709432843,
            "count": 0
           },
           {
            "bin_start": 1.0980476709432843,
            "bin_end": 1.1086934252004874,
            "count": 0
           },
           {
            "bin_start": 1.1086934252004874,
            "bin_end": 1.1193391794576906,
            "count": 1
           },
           {
            "bin_start": 1.1193391794576906,
            "bin_end": 1.1299849337148935,
            "count": 1
           }
          ]
         }
        },
        {
         "name": "split2_test_score",
         "dtype": "float64",
         "stats": {
          "unique_count": 5,
          "nan_count": 0,
          "min": "1.2065055271176468",
          "max": "1.249100280309418",
          "histogram": [
           {
            "bin_start": 1.2065055271176468,
            "bin_end": 1.210765002436824,
            "count": 1
           },
           {
            "bin_start": 1.210765002436824,
            "bin_end": 1.215024477756001,
            "count": 1
           },
           {
            "bin_start": 1.215024477756001,
            "bin_end": 1.2192839530751782,
            "count": 0
           },
           {
            "bin_start": 1.2192839530751782,
            "bin_end": 1.2235434283943554,
            "count": 0
           },
           {
            "bin_start": 1.2235434283943554,
            "bin_end": 1.2278029037135325,
            "count": 0
           },
           {
            "bin_start": 1.2278029037135325,
            "bin_end": 1.2320623790327094,
            "count": 0
           },
           {
            "bin_start": 1.2320623790327094,
            "bin_end": 1.2363218543518866,
            "count": 2
           },
           {
            "bin_start": 1.2363218543518866,
            "bin_end": 1.2405813296710637,
            "count": 0
           },
           {
            "bin_start": 1.2405813296710637,
            "bin_end": 1.2448408049902409,
            "count": 0
           },
           {
            "bin_start": 1.2448408049902409,
            "bin_end": 1.249100280309418,
            "count": 1
           }
          ]
         }
        },
        {
         "name": "split3_test_score",
         "dtype": "float64",
         "stats": {
          "unique_count": 5,
          "nan_count": 0,
          "min": "1.210037392333038",
          "max": "1.292052864300129",
          "histogram": [
           {
            "bin_start": 1.210037392333038,
            "bin_end": 1.2182389395297473,
            "count": 1
           },
           {
            "bin_start": 1.2182389395297473,
            "bin_end": 1.2264404867264562,
            "count": 0
           },
           {
            "bin_start": 1.2264404867264562,
            "bin_end": 1.2346420339231654,
            "count": 1
           },
           {
            "bin_start": 1.2346420339231654,
            "bin_end": 1.2428435811198744,
            "count": 0
           },
           {
            "bin_start": 1.2428435811198744,
            "bin_end": 1.2510451283165835,
            "count": 0
           },
           {
            "bin_start": 1.2510451283165835,
            "bin_end": 1.2592466755132927,
            "count": 0
           },
           {
            "bin_start": 1.2592466755132927,
            "bin_end": 1.2674482227100017,
            "count": 0
           },
           {
            "bin_start": 1.2674482227100017,
            "bin_end": 1.2756497699067109,
            "count": 0
           },
           {
            "bin_start": 1.2756497699067109,
            "bin_end": 1.2838513171034198,
            "count": 2
           },
           {
            "bin_start": 1.2838513171034198,
            "bin_end": 1.292052864300129,
            "count": 1
           }
          ]
         }
        },
        {
         "name": "split4_test_score",
         "dtype": "float64",
         "stats": {
          "unique_count": 5,
          "nan_count": 0,
          "min": "1.2461490572843337",
          "max": "1.2914559494676",
          "histogram": [
           {
            "bin_start": 1.2461490572843337,
            "bin_end": 1.2506797465026602,
            "count": 1
           },
           {
            "bin_start": 1.2506797465026602,
            "bin_end": 1.255210435720987,
            "count": 0
           },
           {
            "bin_start": 1.255210435720987,
            "bin_end": 1.2597411249393136,
            "count": 0
           },
           {
            "bin_start": 1.2597411249393136,
            "bin_end": 1.2642718141576401,
            "count": 2
           },
           {
            "bin_start": 1.2642718141576401,
            "bin_end": 1.2688025033759667,
            "count": 0
           },
           {
            "bin_start": 1.2688025033759667,
            "bin_end": 1.2733331925942935,
            "count": 0
           },
           {
            "bin_start": 1.2733331925942935,
            "bin_end": 1.27786388181262,
            "count": 0
           },
           {
            "bin_start": 1.27786388181262,
            "bin_end": 1.2823945710309466,
            "count": 0
           },
           {
            "bin_start": 1.2823945710309466,
            "bin_end": 1.2869252602492733,
            "count": 1
           },
           {
            "bin_start": 1.2869252602492733,
            "bin_end": 1.2914559494676,
            "count": 1
           }
          ]
         }
        },
        {
         "name": "split5_test_score",
         "dtype": "float64",
         "stats": {
          "unique_count": 5,
          "nan_count": 0,
          "min": "1.2766235330653255",
          "max": "1.3189655511983132",
          "histogram": [
           {
            "bin_start": 1.2766235330653255,
            "bin_end": 1.2808577348786243,
            "count": 1
           },
           {
            "bin_start": 1.2808577348786243,
            "bin_end": 1.2850919366919231,
            "count": 0
           },
           {
            "bin_start": 1.2850919366919231,
            "bin_end": 1.2893261385052217,
            "count": 0
           },
           {
            "bin_start": 1.2893261385052217,
            "bin_end": 1.2935603403185205,
            "count": 0
           },
           {
            "bin_start": 1.2935603403185205,
            "bin_end": 1.2977945421318193,
            "count": 0
           },
           {
            "bin_start": 1.2977945421318193,
            "bin_end": 1.3020287439451181,
            "count": 1
           },
           {
            "bin_start": 1.3020287439451181,
            "bin_end": 1.306262945758417,
            "count": 0
           },
           {
            "bin_start": 1.306262945758417,
            "bin_end": 1.3104971475717155,
            "count": 1
           },
           {
            "bin_start": 1.3104971475717155,
            "bin_end": 1.3147313493850143,
            "count": 1
           },
           {
            "bin_start": 1.3147313493850143,
            "bin_end": 1.3189655511983132,
            "count": 1
           }
          ]
         }
        },
        {
         "name": "split6_test_score",
         "dtype": "float64",
         "stats": {
          "unique_count": 5,
          "nan_count": 0,
          "min": "1.166664291901472",
          "max": "1.2664447754509467",
          "histogram": [
           {
            "bin_start": 1.166664291901472,
            "bin_end": 1.1766423402564195,
            "count": 1
           },
           {
            "bin_start": 1.1766423402564195,
            "bin_end": 1.1866203886113669,
            "count": 0
           },
           {
            "bin_start": 1.1866203886113669,
            "bin_end": 1.1965984369663145,
            "count": 0
           },
           {
            "bin_start": 1.1965984369663145,
            "bin_end": 1.206576485321262,
            "count": 0
           },
           {
            "bin_start": 1.206576485321262,
            "bin_end": 1.2165545336762094,
            "count": 1
           },
           {
            "bin_start": 1.2165545336762094,
            "bin_end": 1.2265325820311568,
            "count": 2
           },
           {
            "bin_start": 1.2265325820311568,
            "bin_end": 1.2365106303861042,
            "count": 0
           },
           {
            "bin_start": 1.2365106303861042,
            "bin_end": 1.2464886787410518,
            "count": 0
           },
           {
            "bin_start": 1.2464886787410518,
            "bin_end": 1.2564667270959993,
            "count": 0
           },
           {
            "bin_start": 1.2564667270959993,
            "bin_end": 1.2664447754509467,
            "count": 1
           }
          ]
         }
        },
        {
         "name": "split7_test_score",
         "dtype": "float64",
         "stats": {
          "unique_count": 5,
          "nan_count": 0,
          "min": "1.0884872838798771",
          "max": "1.2035938508080362",
          "histogram": [
           {
            "bin_start": 1.0884872838798771,
            "bin_end": 1.099997940572693,
            "count": 1
           },
           {
            "bin_start": 1.099997940572693,
            "bin_end": 1.111508597265509,
            "count": 0
           },
           {
            "bin_start": 1.111508597265509,
            "bin_end": 1.1230192539583248,
            "count": 0
           },
           {
            "bin_start": 1.1230192539583248,
            "bin_end": 1.1345299106511408,
            "count": 1
           },
           {
            "bin_start": 1.1345299106511408,
            "bin_end": 1.1460405673439567,
            "count": 0
           },
           {
            "bin_start": 1.1460405673439567,
            "bin_end": 1.1575512240367725,
            "count": 0
           },
           {
            "bin_start": 1.1575512240367725,
            "bin_end": 1.1690618807295885,
            "count": 0
           },
           {
            "bin_start": 1.1690618807295885,
            "bin_end": 1.1805725374224043,
            "count": 0
           },
           {
            "bin_start": 1.1805725374224043,
            "bin_end": 1.1920831941152203,
            "count": 1
           },
           {
            "bin_start": 1.1920831941152203,
            "bin_end": 1.2035938508080362,
            "count": 2
           }
          ]
         }
        },
        {
         "name": "split8_test_score",
         "dtype": "float64",
         "stats": {
          "unique_count": 5,
          "nan_count": 0,
          "min": "1.2796168764282887",
          "max": "1.345336578534286",
          "histogram": [
           {
            "bin_start": 1.2796168764282887,
            "bin_end": 1.2861888466388884,
            "count": 2
           },
           {
            "bin_start": 1.2861888466388884,
            "bin_end": 1.2927608168494882,
            "count": 0
           },
           {
            "bin_start": 1.2927608168494882,
            "bin_end": 1.299332787060088,
            "count": 1
           },
           {
            "bin_start": 1.299332787060088,
            "bin_end": 1.3059047572706877,
            "count": 0
           },
           {
            "bin_start": 1.3059047572706877,
            "bin_end": 1.3124767274812874,
            "count": 0
           },
           {
            "bin_start": 1.3124767274812874,
            "bin_end": 1.319048697691887,
            "count": 1
           },
           {
            "bin_start": 1.319048697691887,
            "bin_end": 1.3256206679024867,
            "count": 0
           },
           {
            "bin_start": 1.3256206679024867,
            "bin_end": 1.3321926381130864,
            "count": 0
           },
           {
            "bin_start": 1.3321926381130864,
            "bin_end": 1.3387646083236862,
            "count": 0
           },
           {
            "bin_start": 1.3387646083236862,
            "bin_end": 1.345336578534286,
            "count": 1
           }
          ]
         }
        },
        {
         "name": "split9_test_score",
         "dtype": "float64",
         "stats": {
          "unique_count": 5,
          "nan_count": 0,
          "min": "1.0733331645076924",
          "max": "1.1683973402180003",
          "histogram": [
           {
            "bin_start": 1.0733331645076924,
            "bin_end": 1.0828395820787233,
            "count": 1
           },
           {
            "bin_start": 1.0828395820787233,
            "bin_end": 1.092345999649754,
            "count": 0
           },
           {
            "bin_start": 1.092345999649754,
            "bin_end": 1.1018524172207849,
            "count": 0
           },
           {
            "bin_start": 1.1018524172207849,
            "bin_end": 1.1113588347918155,
            "count": 3
           },
           {
            "bin_start": 1.1113588347918155,
            "bin_end": 1.1208652523628464,
            "count": 0
           },
           {
            "bin_start": 1.1208652523628464,
            "bin_end": 1.1303716699338773,
            "count": 0
           },
           {
            "bin_start": 1.1303716699338773,
            "bin_end": 1.139878087504908,
            "count": 0
           },
           {
            "bin_start": 1.139878087504908,
            "bin_end": 1.1493845050759388,
            "count": 0
           },
           {
            "bin_start": 1.1493845050759388,
            "bin_end": 1.1588909226469695,
            "count": 0
           },
           {
            "bin_start": 1.1588909226469695,
            "bin_end": 1.1683973402180003,
            "count": 1
           }
          ]
         }
        },
        {
         "name": "mean_test_score",
         "dtype": "float64",
         "stats": {
          "unique_count": 5,
          "nan_count": 0,
          "min": "1.1988997536400103",
          "max": "1.2210293912208463",
          "histogram": [
           {
            "bin_start": 1.1988997536400103,
            "bin_end": 1.201112717398094,
            "count": 3
           },
           {
            "bin_start": 1.201112717398094,
            "bin_end": 1.2033256811561774,
            "count": 0
           },
           {
            "bin_start": 1.2033256811561774,
            "bin_end": 1.205538644914261,
            "count": 0
           },
           {
            "bin_start": 1.205538644914261,
            "bin_end": 1.2077516086723448,
            "count": 0
           },
           {
            "bin_start": 1.2077516086723448,
            "bin_end": 1.2099645724304282,
            "count": 0
           },
           {
            "bin_start": 1.2099645724304282,
            "bin_end": 1.2121775361885119,
            "count": 1
           },
           {
            "bin_start": 1.2121775361885119,
            "bin_end": 1.2143904999465955,
            "count": 0
           },
           {
            "bin_start": 1.2143904999465955,
            "bin_end": 1.2166034637046792,
            "count": 0
           },
           {
            "bin_start": 1.2166034637046792,
            "bin_end": 1.2188164274627626,
            "count": 0
           },
           {
            "bin_start": 1.2188164274627626,
            "bin_end": 1.2210293912208463,
            "count": 1
           }
          ]
         }
        },
        {
         "name": "std_test_score",
         "dtype": "float64",
         "stats": {
          "unique_count": 5,
          "nan_count": 0,
          "min": "0.0739531101598934",
          "max": "0.0908271900676421",
          "histogram": [
           {
            "bin_start": 0.0739531101598934,
            "bin_end": 0.07564051815066827,
            "count": 2
           },
           {
            "bin_start": 0.07564051815066827,
            "bin_end": 0.07732792614144314,
            "count": 0
           },
           {
            "bin_start": 0.07732792614144314,
            "bin_end": 0.07901533413221802,
            "count": 0
           },
           {
            "bin_start": 0.07901533413221802,
            "bin_end": 0.08070274212299289,
            "count": 0
           },
           {
            "bin_start": 0.08070274212299289,
            "bin_end": 0.08239015011376775,
            "count": 1
           },
           {
            "bin_start": 0.08239015011376775,
            "bin_end": 0.08407755810454262,
            "count": 0
           },
           {
            "bin_start": 0.08407755810454262,
            "bin_end": 0.08576496609531749,
            "count": 0
           },
           {
            "bin_start": 0.08576496609531749,
            "bin_end": 0.08745237408609237,
            "count": 0
           },
           {
            "bin_start": 0.08745237408609237,
            "bin_end": 0.08913978207686724,
            "count": 0
           },
           {
            "bin_start": 0.08913978207686724,
            "bin_end": 0.0908271900676421,
            "count": 2
           }
          ]
         }
        },
        {
         "name": "rank_test_score",
         "dtype": "int64",
         "stats": {
          "unique_count": 5,
          "nan_count": 0,
          "min": "360",
          "max": "364",
          "histogram": [
           {
            "bin_start": 360,
            "bin_end": 360.4,
            "count": 1
           },
           {
            "bin_start": 360.4,
            "bin_end": 360.8,
            "count": 0
           },
           {
            "bin_start": 360.8,
            "bin_end": 361.2,
            "count": 1
           },
           {
            "bin_start": 361.2,
            "bin_end": 361.6,
            "count": 0
           },
           {
            "bin_start": 361.6,
            "bin_end": 362,
            "count": 0
           },
           {
            "bin_start": 362,
            "bin_end": 362.4,
            "count": 1
           },
           {
            "bin_start": 362.4,
            "bin_end": 362.8,
            "count": 0
           },
           {
            "bin_start": 362.8,
            "bin_end": 363.2,
            "count": 1
           },
           {
            "bin_start": 363.2,
            "bin_end": 363.6,
            "count": 0
           },
           {
            "bin_start": 363.6,
            "bin_end": 364,
            "count": 1
           }
          ]
         }
        },
        {
         "name": "_deepnote_index_column",
         "dtype": "int64"
        }
       ],
       "rows": [
        {
         "Unnamed: 0": 351,
         "mean_fit_time": 7.446227073669434,
         "std_fit_time": 2.060713214120553,
         "mean_score_time": 0.0033043622970581,
         "std_score_time": 0.0009226367953307,
         "param_batch_size": 1085,
         "param_lr": 0.0107351084199906,
         "param_max_epochs": 1000,
         "param_module__activation_fun": "tanh",
         "param_module__hidden_layers": 2,
         "param_module__num_units": 24,
         "param_optimizer": "<class 'torch.optim.sgd.SGD'>",
         "param_optimizer__momentum": 0.9,
         "param_optimizer__nesterov": true,
         "param_optimizer__weight_decay": 0.0232537840429461,
         "params": "{'batch_size': 1085, 'lr': 0.010735108419990699, 'max_epochs': 1000, 'module__activation_fun': 'tan…",
         "split0_test_score": 1.1502197325733818,
         "split1_test_score": 1.023527391142863,
         "split2_test_score": 1.2134118922250836,
         "split3_test_score": 1.2756907940471085,
         "split4_test_score": 1.26270764676812,
         "split5_test_score": 1.314162513591293,
         "split6_test_score": 1.2206365122718918,
         "split7_test_score": 1.1306862717676431,
         "split8_test_score": 1.294009351136541,
         "split9_test_score": 1.1039454308761791,
         "mean_test_score": 1.1988997536400103,
         "std_test_score": 0.0893181682646329,
         "rank_test_score": 364,
         "_deepnote_index_column": 0
        },
        {
         "Unnamed: 0": 193,
         "mean_fit_time": 10.116813659667969,
         "std_fit_time": 3.360544128549797,
         "mean_score_time": 0.0034737348556518,
         "std_score_time": 0.0009367615276111,
         "param_batch_size": 769,
         "param_lr": 0.02081246213546,
         "param_max_epochs": 1000,
         "param_module__activation_fun": "tanh",
         "param_module__hidden_layers": 1,
         "param_module__num_units": 20,
         "param_optimizer": "<class 'torch.optim.sgd.SGD'>",
         "param_optimizer__momentum": 0.95,
         "param_optimizer__nesterov": true,
         "param_optimizer__weight_decay": 0.0054667341014785,
         "params": "{'batch_size': 769, 'lr': 0.020812462135460005, 'max_epochs': 1000, 'module__activation_fun': 'tanh…",
         "split0_test_score": 1.0757147167298131,
         "split1_test_score": 1.0659857184479111,
         "split2_test_score": 1.2361159331368323,
         "split3_test_score": 1.292052864300129,
         "split4_test_score": 1.2461490572843337,
         "split5_test_score": 1.2766235330653255,
         "split6_test_score": 1.166664291901472,
         "split7_test_score": 1.200361544924571,
         "split8_test_score": 1.345336578534286,
         "split9_test_score": 1.1046826569645694,
         "mean_test_score": 1.2009686895289249,
         "std_test_score": 0.0908271900676421,
         "rank_test_score": 363,
         "_deepnote_index_column": 1
        },
        {
         "Unnamed: 0": 151,
         "mean_fit_time": 11.14916582107544,
         "std_fit_time": 5.130889202894639,
         "mean_score_time": 0.0035589933395385,
         "std_score_time": 0.0009024770975009,
         "param_batch_size": 828,
         "param_lr": 0.0413304898181082,
         "param_max_epochs": 1000,
         "param_module__activation_fun": "sigmoid",
         "param_module__hidden_layers": 2,
         "param_module__num_units": 86,
         "param_optimizer": "<class 'torch.optim.sgd.SGD'>",
         "param_optimizer__momentum": 0.95,
         "param_optimizer__nesterov": false,
         "param_optimizer__weight_decay": 0.0034672080529476,
         "params": "{'batch_size': 828, 'lr': 0.04133048981810827, 'max_epochs': 1000, 'module__activation_fun': 'sigmo…",
         "split0_test_score": 1.1856621197403825,
         "split1_test_score": 1.1130394454121142,
         "split2_test_score": 1.2065055271176468,
         "split3_test_score": 1.210037392333038,
         "split4_test_score": 1.2914559494676,
         "split5_test_score": 1.3089597038644598,
         "split6_test_score": 1.216286160948133,
         "split7_test_score": 1.0884872838798771,
         "split8_test_score": 1.2796168764282887,
         "split9_test_score": 1.111037570090654,
         "mean_test_score": 1.2011088029282193,
         "std_test_score": 0.0742215488621064,
         "rank_test_score": 362,
         "_deepnote_index_column": 2
        },
        {
         "Unnamed: 0": 947,
         "mean_fit_time": 8.08306963443756,
         "std_fit_time": 0.9839476211947096,
         "mean_score_time": 0.0089133262634277,
         "std_score_time": 0.0133852915986205,
         "param_batch_size": 950,
         "param_lr": 0.0387925551601557,
         "param_max_epochs": 1000,
         "param_module__activation_fun": "sigmoid",
         "param_module__hidden_layers": 2,
         "param_module__num_units": 46,
         "param_optimizer": "<class 'torch.optim.sgd.SGD'>",
         "param_optimizer__momentum": 0.95,
         "param_optimizer__nesterov": false,
         "param_optimizer__weight_decay": 0.0065649279551182,
         "params": "{'batch_size': 950, 'lr': 0.03879255516015572, 'max_epochs': 1000, 'module__activation_fun': 'sigmo…",
         "split0_test_score": 1.1546948065042943,
         "split1_test_score": 1.0404348630542146,
         "split2_test_score": 1.234074558922671,
         "split3_test_score": 1.2328231527813172,
         "split4_test_score": 1.2611948228056045,
         "split5_test_score": 1.3189655511983132,
         "split6_test_score": 1.2169992572494917,
         "split7_test_score": 1.2035938508080362,
         "split8_test_score": 1.28407564613604,
         "split9_test_score": 1.1683973402180003,
         "mean_test_score": 1.2115253849677985,
         "std_test_score": 0.0739531101598934,
         "rank_test_score": 361,
         "_deepnote_index_column": 3
        },
        {
         "Unnamed: 0": 378,
         "mean_fit_time": 5.247426080703735,
         "std_fit_time": 1.7317884419453582,
         "mean_score_time": 0.0083165884017944,
         "std_score_time": 0.0160023529026664,
         "param_batch_size": 894,
         "param_lr": 0.0541078750888084,
         "param_max_epochs": 1000,
         "param_module__activation_fun": "sigmoid",
         "param_module__hidden_layers": 1,
         "param_module__num_units": 16,
         "param_optimizer": "<class 'torch.optim.sgd.SGD'>",
         "param_optimizer__momentum": 0.9,
         "param_optimizer__nesterov": true,
         "param_optimizer__weight_decay": 0.0013677428208289,
         "params": "{'batch_size': 894, 'lr': 0.05410787508880848, 'max_epochs': 1000, 'module__activation_fun': 'sigmo…",
         "split0_test_score": 1.1218969037378193,
         "split1_test_score": 1.1299849337148935,
         "split2_test_score": 1.249100280309418,
         "split3_test_score": 1.2823251988878823,
         "split4_test_score": 1.2866232118996463,
         "split5_test_score": 1.3015154175796455,
         "split6_test_score": 1.2664447754509467,
         "split7_test_score": 1.1858310424967815,
         "split8_test_score": 1.3132389836237397,
         "split9_test_score": 1.0733331645076924,
         "mean_test_score": 1.2210293912208463,
         "std_test_score": 0.0818903590865581,
         "rank_test_score": 360,
         "_deepnote_index_column": 4
        }
       ]
      },
      "text/plain": "   Unnamed: 0  mean_fit_time  std_fit_time  mean_score_time  std_score_time  \\\n0         351       7.446227      2.060713         0.003304        0.000923   \n1         193      10.116814      3.360544         0.003474        0.000937   \n2         151      11.149166      5.130889         0.003559        0.000902   \n3         947       8.083070      0.983948         0.008913        0.013385   \n4         378       5.247426      1.731788         0.008317        0.016002   \n\n   param_batch_size  param_lr  param_max_epochs param_module__activation_fun  \\\n0              1085  0.010735              1000                         tanh   \n1               769  0.020812              1000                         tanh   \n2               828  0.041330              1000                      sigmoid   \n3               950  0.038793              1000                      sigmoid   \n4               894  0.054108              1000                      sigmoid   \n\n   param_module__hidden_layers  ...  split3_test_score split4_test_score  \\\n0                            2  ...           1.275691          1.262708   \n1                            1  ...           1.292053          1.246149   \n2                            2  ...           1.210037          1.291456   \n3                            2  ...           1.232823          1.261195   \n4                            1  ...           1.282325          1.286623   \n\n   split5_test_score  split6_test_score  split7_test_score split8_test_score  \\\n0           1.314163           1.220637           1.130686          1.294009   \n1           1.276624           1.166664           1.200362          1.345337   \n2           1.308960           1.216286           1.088487          1.279617   \n3           1.318966           1.216999           1.203594          1.284076   \n4           1.301515           1.266445           1.185831          1.313239   \n\n   split9_test_score  mean_test_score  std_test_score  rank_test_score  \n0           1.103945         1.198900        0.089318              364  \n1           1.104683         1.200969        0.090827              363  \n2           1.111038         1.201109        0.074222              362  \n3           1.168397         1.211525        0.073953              361  \n4           1.073333         1.221029        0.081890              360  \n\n[5 rows x 29 columns]",
      "text/html": "<div>\n<style scoped>\n    .dataframe tbody tr th:only-of-type {\n        vertical-align: middle;\n    }\n\n    .dataframe tbody tr th {\n        vertical-align: top;\n    }\n\n    .dataframe thead th {\n        text-align: right;\n    }\n</style>\n<table border=\"1\" class=\"dataframe\">\n  <thead>\n    <tr style=\"text-align: right;\">\n      <th></th>\n      <th>Unnamed: 0</th>\n      <th>mean_fit_time</th>\n      <th>std_fit_time</th>\n      <th>mean_score_time</th>\n      <th>std_score_time</th>\n      <th>param_batch_size</th>\n      <th>param_lr</th>\n      <th>param_max_epochs</th>\n      <th>param_module__activation_fun</th>\n      <th>param_module__hidden_layers</th>\n      <th>...</th>\n      <th>split3_test_score</th>\n      <th>split4_test_score</th>\n      <th>split5_test_score</th>\n      <th>split6_test_score</th>\n      <th>split7_test_score</th>\n      <th>split8_test_score</th>\n      <th>split9_test_score</th>\n      <th>mean_test_score</th>\n      <th>std_test_score</th>\n      <th>rank_test_score</th>\n    </tr>\n  </thead>\n  <tbody>\n    <tr>\n      <th>0</th>\n      <td>351</td>\n      <td>7.446227</td>\n      <td>2.060713</td>\n      <td>0.003304</td>\n      <td>0.000923</td>\n      <td>1085</td>\n      <td>0.010735</td>\n      <td>1000</td>\n      <td>tanh</td>\n      <td>2</td>\n      <td>...</td>\n      <td>1.275691</td>\n      <td>1.262708</td>\n      <td>1.314163</td>\n      <td>1.220637</td>\n      <td>1.130686</td>\n      <td>1.294009</td>\n      <td>1.103945</td>\n      <td>1.198900</td>\n      <td>0.089318</td>\n      <td>364</td>\n    </tr>\n    <tr>\n      <th>1</th>\n      <td>193</td>\n      <td>10.116814</td>\n      <td>3.360544</td>\n      <td>0.003474</td>\n      <td>0.000937</td>\n      <td>769</td>\n      <td>0.020812</td>\n      <td>1000</td>\n      <td>tanh</td>\n      <td>1</td>\n      <td>...</td>\n      <td>1.292053</td>\n      <td>1.246149</td>\n      <td>1.276624</td>\n      <td>1.166664</td>\n      <td>1.200362</td>\n      <td>1.345337</td>\n      <td>1.104683</td>\n      <td>1.200969</td>\n      <td>0.090827</td>\n      <td>363</td>\n    </tr>\n    <tr>\n      <th>2</th>\n      <td>151</td>\n      <td>11.149166</td>\n      <td>5.130889</td>\n      <td>0.003559</td>\n      <td>0.000902</td>\n      <td>828</td>\n      <td>0.041330</td>\n      <td>1000</td>\n      <td>sigmoid</td>\n      <td>2</td>\n      <td>...</td>\n      <td>1.210037</td>\n      <td>1.291456</td>\n      <td>1.308960</td>\n      <td>1.216286</td>\n      <td>1.088487</td>\n      <td>1.279617</td>\n      <td>1.111038</td>\n      <td>1.201109</td>\n      <td>0.074222</td>\n      <td>362</td>\n    </tr>\n    <tr>\n      <th>3</th>\n      <td>947</td>\n      <td>8.083070</td>\n      <td>0.983948</td>\n      <td>0.008913</td>\n      <td>0.013385</td>\n      <td>950</td>\n      <td>0.038793</td>\n      <td>1000</td>\n      <td>sigmoid</td>\n      <td>2</td>\n      <td>...</td>\n      <td>1.232823</td>\n      <td>1.261195</td>\n      <td>1.318966</td>\n      <td>1.216999</td>\n      <td>1.203594</td>\n      <td>1.284076</td>\n      <td>1.168397</td>\n      <td>1.211525</td>\n      <td>0.073953</td>\n      <td>361</td>\n    </tr>\n    <tr>\n      <th>4</th>\n      <td>378</td>\n      <td>5.247426</td>\n      <td>1.731788</td>\n      <td>0.008317</td>\n      <td>0.016002</td>\n      <td>894</td>\n      <td>0.054108</td>\n      <td>1000</td>\n      <td>sigmoid</td>\n      <td>1</td>\n      <td>...</td>\n      <td>1.282325</td>\n      <td>1.286623</td>\n      <td>1.301515</td>\n      <td>1.266445</td>\n      <td>1.185831</td>\n      <td>1.313239</td>\n      <td>1.073333</td>\n      <td>1.221029</td>\n      <td>0.081890</td>\n      <td>360</td>\n    </tr>\n  </tbody>\n</table>\n<p>5 rows × 29 columns</p>\n</div>"
     },
     "metadata": {}
    }
   ]
  },
  {
   "cell_type": "code",
   "metadata": {
    "cell_id": "00017-f984ff7d-b27c-4f70-9063-55b9ea3a50cb",
    "deepnote_to_be_reexecuted": false,
    "execution_millis": 18174109,
    "execution_start": 1642932599369,
    "output_cleared": false,
    "source_hash": "9dd11431",
    "deepnote_cell_type": "code"
   },
   "source": "#get the best params for the grid search (cannot use rand_gs.best_estimator directly since it will yield the worst estimator based on MEE)\nbest_params = df_results['params'][0]\nprint(f\"Mean error on the {k}-folds (MEE) on best model: {df_results['mean_test_score'][0]}\\n\")\nprint(f\"Best params: {best_params}\")",
   "execution_count": 21,
   "outputs": [
    {
     "name": "stdout",
     "text": "Mean error on the 10-folds (MEE) on best model: 1.1988997536400103\n\nBest params: {'batch_size': 1085, 'lr': 0.010735108419990699, 'max_epochs': 1000, 'module__activation_fun': 'tanh', 'module__hidden_layers': 2, 'module__num_units': 24, 'optimizer': <class 'torch.optim.sgd.SGD'>, 'optimizer__momentum': 0.9, 'optimizer__nesterov': True, 'optimizer__weight_decay': 0.023253784042946125}\n",
     "output_type": "stream"
    }
   ]
  },
  {
   "cell_type": "code",
   "metadata": {
    "cell_id": "00029-db8353f7-b3dc-487b-9f7c-a54f65ec1d6b",
    "deepnote_to_be_reexecuted": false,
    "execution_millis": 3,
    "execution_start": 1642932599369,
    "output_cleared": true,
    "source_hash": "6a36063c",
    "deepnote_cell_type": "code"
   },
   "source": "@dataclass\nclass GridSearchRanges:\n    '''Class of keeping track of the min and max values for the hyperparameters tuning'''\n    \n    hidden_layers = []\n    min_lr = 0\n    max_lr = 0\n    min_num_units = 0\n    max_num_units = 0\n    min_weight_decay = 0\n    max_weight_decay = 0\n    min_bs = 0\n    max_bs = 0\n    \n    def set_ranges(self):\n\n        self.hidden_layers = np.unique(df_results['param_module__hidden_layers'])\n        self.hidden_layers = self.hidden_layers.ravel() #convert to array\n        print(f\"hidden layers: {self.hidden_layers}\")\n\n        self.min_lr = np.min(df_results['param_lr'])\n        self.max_lr = np.max(df_results['param_lr'])\n        print(f\"learning rate: [{self.min_lr}, {self.max_lr}]\")\n        \n        self.min_num_units = np.min(df_results['param_module__num_units'])\n        self.max_num_units = np.max(df_results['param_module__num_units'])\n        print(f\"num units: [{self.min_num_units}, {self.max_num_units}]\")\n\n        self.min_weight_decay = np.min(df_results['param_optimizer__weight_decay'])\n        self.max_weight_decay = np.max(df_results['param_optimizer__weight_decay'])\n        print(f\"weight decay: [{self.min_weight_decay}, {self.max_weight_decay}]\")\n\n        self.min_bs = np.min(df_results['param_batch_size'])\n        self.max_bs = np.max(df_results['param_batch_size'])\n        print(f\"batch size: [{self.min_bs}, {self.max_bs}]\")\n    \n    ",
   "execution_count": 22,
   "outputs": []
  },
  {
   "cell_type": "code",
   "metadata": {
    "cell_id": "00030-902d7b17-b610-4d29-875e-d61dc1762acc",
    "deepnote_to_be_reexecuted": false,
    "execution_millis": 3,
    "execution_start": 1642932599370,
    "output_cleared": false,
    "source_hash": "9ccb58bf",
    "deepnote_cell_type": "code"
   },
   "source": "gs = GridSearchRanges()\ngs.set_ranges()",
   "execution_count": 23,
   "outputs": [
    {
     "name": "stdout",
     "text": "hidden layers: [1 2]\nlearning rate: [0.0051252612925107, 0.4212342239067483]\nnum units: [6, 125]\nweight decay: [0.0013677428208289, 0.0933416914946407]\nbatch size: [677, 1302]\n",
     "output_type": "stream"
    }
   ]
  },
  {
   "cell_type": "markdown",
   "source": "### Second Randomized Search using min e max values",
   "metadata": {
    "cell_id": "00031-0c36ae95-8613-41e2-a7ef-023a8a4a84a2",
    "deepnote_cell_type": "markdown"
   }
  },
  {
   "cell_type": "code",
   "metadata": {
    "cell_id": "00032-11f757c0-1158-41aa-bc04-0588bcec3bf2",
    "deepnote_output_heights": [
     null,
     309.109375
    ],
    "deepnote_to_be_reexecuted": false,
    "execution_millis": 21,
    "execution_start": 1642932599374,
    "output_cleared": false,
    "source_hash": "19436eb9",
    "deepnote_cell_type": "code"
   },
   "source": "%%time\n\n%%script false --no-raise-error  Wall time: 48min 31s (Michele)\n\n# to find the best set of parameter setting, we can run a randomized search\n\n# define the parameters' values\nparams = {\n    'lr': uniform(gs.min_lr, gs.max_lr),\n    'max_epochs': [1000], #upper bound of max number of epochs\n    'optimizer': [torch.optim.SGD],\n    'optimizer__momentum': [0.9, 0.95], ##optimizer__ indicates that it is a parameter of the optimizer\n    'optimizer__weight_decay': uniform(gs.min_weight_decay, gs.max_weight_decay),\n    'optimizer__nesterov': [False, True],\n    'module__num_units': randint(gs.min_num_units, gs.max_num_units), #module__ indicates that it is a parameter of the module\n    'module__hidden_layers': [1,2],\n    'module__activation_fun': [\"sigmoid\", \"tanh\", \"relu\"],\n    'batch_size': randint(gs.min_bs, gs.max_bs),\n}\n\n# define the grid search\nrand_gs = RandomizedSearchCV(\n    model,\n    param_distributions=params,\n    n_iter=n_iter_search,\n    n_jobs=-1,\n    scoring=make_scorer(mee), #scoring is based on the highest value so we use the inverse of the MEE loss function\n    cv=k,\n    random_state=RS_NUMBER,\n    verbose=10\n)\n# run the grid search\nrand_gs.fit(X, y)\n",
   "execution_count": 24,
   "outputs": [
    {
     "name": "stdout",
     "text": "CPU times: user 96 µs, sys: 7.9 ms, total: 8 ms\nWall time: 11 ms\n",
     "output_type": "stream"
    }
   ]
  },
  {
   "cell_type": "code",
   "metadata": {
    "cell_id": "00033-7e9b5a5d-376c-4152-8475-fd9cdeb0c14d",
    "deepnote_to_be_reexecuted": false,
    "execution_millis": 0,
    "execution_start": 1642932599441,
    "output_cleared": true,
    "source_hash": "3463c6b0",
    "deepnote_cell_type": "code"
   },
   "source": "%%script false --no-raise-error\n\ndf_results = pd.DataFrame(data=rand_gs.cv_results_) #trasform into a pandas dataframe\ndf_results.sort_values(by=\"rank_test_score\", axis=0, ascending=False, inplace=True) #sort rank values in decreasing order \ndf_results.dropna(inplace=True) #delete nan values \ndf_results = df_results[:50] #keep only top 50 models\npd.DataFrame.to_csv(df_results, \"pytorch_results/rand2_search.csv\")",
   "execution_count": 25,
   "outputs": []
  },
  {
   "cell_type": "code",
   "metadata": {
    "cell_id": "00034-9ef3530c-044a-4bec-a17a-a807b89c0368",
    "deepnote_output_heights": [
     208.1875
    ],
    "deepnote_to_be_reexecuted": false,
    "execution_millis": 331,
    "execution_start": 1642932599441,
    "output_cleared": false,
    "source_hash": "9c45505b",
    "deepnote_cell_type": "code"
   },
   "source": "df_results = pd.read_csv(\"pytorch_results/rand2_search.csv\")\ndf_results.head()",
   "execution_count": 26,
   "outputs": [
    {
     "output_type": "execute_result",
     "execution_count": 26,
     "data": {
      "application/vnd.deepnote.dataframe.v3+json": {
       "column_count": 29,
       "row_count": 5,
       "columns": [
        {
         "name": "Unnamed: 0",
         "dtype": "int64",
         "stats": {
          "unique_count": 5,
          "nan_count": 0,
          "min": "192",
          "max": "762",
          "histogram": [
           {
            "bin_start": 192,
            "bin_end": 249,
            "count": 3
           },
           {
            "bin_start": 249,
            "bin_end": 306,
            "count": 0
           },
           {
            "bin_start": 306,
            "bin_end": 363,
            "count": 1
           },
           {
            "bin_start": 363,
            "bin_end": 420,
            "count": 0
           },
           {
            "bin_start": 420,
            "bin_end": 477,
            "count": 0
           },
           {
            "bin_start": 477,
            "bin_end": 534,
            "count": 0
           },
           {
            "bin_start": 534,
            "bin_end": 591,
            "count": 0
           },
           {
            "bin_start": 591,
            "bin_end": 648,
            "count": 0
           },
           {
            "bin_start": 648,
            "bin_end": 705,
            "count": 0
           },
           {
            "bin_start": 705,
            "bin_end": 762,
            "count": 1
           }
          ]
         }
        },
        {
         "name": "mean_fit_time",
         "dtype": "float64",
         "stats": {
          "unique_count": 5,
          "nan_count": 0,
          "min": "6.234873342514038",
          "max": "9.02563545703888",
          "histogram": [
           {
            "bin_start": 6.234873342514038,
            "bin_end": 6.513949553966523,
            "count": 1
           },
           {
            "bin_start": 6.513949553966523,
            "bin_end": 6.7930257654190065,
            "count": 1
           },
           {
            "bin_start": 6.7930257654190065,
            "bin_end": 7.07210197687149,
            "count": 0
           },
           {
            "bin_start": 7.07210197687149,
            "bin_end": 7.351178188323975,
            "count": 0
           },
           {
            "bin_start": 7.351178188323975,
            "bin_end": 7.63025439977646,
            "count": 0
           },
           {
            "bin_start": 7.63025439977646,
            "bin_end": 7.909330611228944,
            "count": 1
           },
           {
            "bin_start": 7.909330611228944,
            "bin_end": 8.188406822681427,
            "count": 0
           },
           {
            "bin_start": 8.188406822681427,
            "bin_end": 8.467483034133913,
            "count": 1
           },
           {
            "bin_start": 8.467483034133913,
            "bin_end": 8.746559245586397,
            "count": 0
           },
           {
            "bin_start": 8.746559245586397,
            "bin_end": 9.02563545703888,
            "count": 1
           }
          ]
         }
        },
        {
         "name": "std_fit_time",
         "dtype": "float64",
         "stats": {
          "unique_count": 5,
          "nan_count": 0,
          "min": "1.702047996113662",
          "max": "3.225464655604604",
          "histogram": [
           {
            "bin_start": 1.702047996113662,
            "bin_end": 1.8543896620627562,
            "count": 1
           },
           {
            "bin_start": 1.8543896620627562,
            "bin_end": 2.0067313280118504,
            "count": 0
           },
           {
            "bin_start": 2.0067313280118504,
            "bin_end": 2.1590729939609448,
            "count": 1
           },
           {
            "bin_start": 2.1590729939609448,
            "bin_end": 2.3114146599100387,
            "count": 1
           },
           {
            "bin_start": 2.3114146599100387,
            "bin_end": 2.463756325859133,
            "count": 0
           },
           {
            "bin_start": 2.463756325859133,
            "bin_end": 2.6160979918082274,
            "count": 0
           },
           {
            "bin_start": 2.6160979918082274,
            "bin_end": 2.7684396577573214,
            "count": 1
           },
           {
            "bin_start": 2.7684396577573214,
            "bin_end": 2.9207813237064157,
            "count": 0
           },
           {
            "bin_start": 2.9207813237064157,
            "bin_end": 3.07312298965551,
            "count": 0
           },
           {
            "bin_start": 3.07312298965551,
            "bin_end": 3.225464655604604,
            "count": 1
           }
          ]
         }
        },
        {
         "name": "mean_score_time",
         "dtype": "float64",
         "stats": {
          "unique_count": 5,
          "nan_count": 0,
          "min": "0.0037173509597778",
          "max": "0.020276665687561",
          "histogram": [
           {
            "bin_start": 0.0037173509597778,
            "bin_end": 0.00537328243255612,
            "count": 3
           },
           {
            "bin_start": 0.00537328243255612,
            "bin_end": 0.0070292139053344405,
            "count": 0
           },
           {
            "bin_start": 0.0070292139053344405,
            "bin_end": 0.00868514537811276,
            "count": 0
           },
           {
            "bin_start": 0.00868514537811276,
            "bin_end": 0.010341076850891081,
            "count": 1
           },
           {
            "bin_start": 0.010341076850891081,
            "bin_end": 0.0119970083236694,
            "count": 0
           },
           {
            "bin_start": 0.0119970083236694,
            "bin_end": 0.01365293979644772,
            "count": 0
           },
           {
            "bin_start": 0.01365293979644772,
            "bin_end": 0.01530887126922604,
            "count": 0
           },
           {
            "bin_start": 0.01530887126922604,
            "bin_end": 0.016964802742004362,
            "count": 0
           },
           {
            "bin_start": 0.016964802742004362,
            "bin_end": 0.018620734214782678,
            "count": 0
           },
           {
            "bin_start": 0.018620734214782678,
            "bin_end": 0.020276665687561,
            "count": 1
           }
          ]
         }
        },
        {
         "name": "std_score_time",
         "dtype": "float64",
         "stats": {
          "unique_count": 5,
          "nan_count": 0,
          "min": "0.0002305117589404",
          "max": "0.0223089328655727",
          "histogram": [
           {
            "bin_start": 0.0002305117589404,
            "bin_end": 0.0024383538696036303,
            "count": 3
           },
           {
            "bin_start": 0.0024383538696036303,
            "bin_end": 0.00464619598026686,
            "count": 0
           },
           {
            "bin_start": 0.00464619598026686,
            "bin_end": 0.0068540380909300905,
            "count": 0
           },
           {
            "bin_start": 0.0068540380909300905,
            "bin_end": 0.00906188020159332,
            "count": 0
           },
           {
            "bin_start": 0.00906188020159332,
            "bin_end": 0.01126972231225655,
            "count": 0
           },
           {
            "bin_start": 0.01126972231225655,
            "bin_end": 0.01347756442291978,
            "count": 0
           },
           {
            "bin_start": 0.01347756442291978,
            "bin_end": 0.01568540653358301,
            "count": 1
           },
           {
            "bin_start": 0.01568540653358301,
            "bin_end": 0.01789324864424624,
            "count": 0
           },
           {
            "bin_start": 0.01789324864424624,
            "bin_end": 0.02010109075490947,
            "count": 0
           },
           {
            "bin_start": 0.02010109075490947,
            "bin_end": 0.0223089328655727,
            "count": 1
           }
          ]
         }
        },
        {
         "name": "param_batch_size",
         "dtype": "int64",
         "stats": {
          "unique_count": 5,
          "nan_count": 0,
          "min": "688",
          "max": "1267",
          "histogram": [
           {
            "bin_start": 688,
            "bin_end": 745.9,
            "count": 1
           },
           {
            "bin_start": 745.9,
            "bin_end": 803.8,
            "count": 1
           },
           {
            "bin_start": 803.8,
            "bin_end": 861.7,
            "count": 0
           },
           {
            "bin_start": 861.7,
            "bin_end": 919.6,
            "count": 1
           },
           {
            "bin_start": 919.6,
            "bin_end": 977.5,
            "count": 1
           },
           {
            "bin_start": 977.5,
            "bin_end": 1035.4,
            "count": 0
           },
           {
            "bin_start": 1035.4,
            "bin_end": 1093.3,
            "count": 0
           },
           {
            "bin_start": 1093.3,
            "bin_end": 1151.2,
            "count": 0
           },
           {
            "bin_start": 1151.2,
            "bin_end": 1209.1,
            "count": 0
           },
           {
            "bin_start": 1209.1,
            "bin_end": 1267,
            "count": 1
           }
          ]
         }
        },
        {
         "name": "param_lr",
         "dtype": "float64",
         "stats": {
          "unique_count": 5,
          "nan_count": 0,
          "min": "0.0052307899791833",
          "max": "0.062169694728212",
          "histogram": [
           {
            "bin_start": 0.0052307899791833,
            "bin_end": 0.01092468045408617,
            "count": 1
           },
           {
            "bin_start": 0.01092468045408617,
            "bin_end": 0.016618570928989038,
            "count": 1
           },
           {
            "bin_start": 0.016618570928989038,
            "bin_end": 0.022312461403891908,
            "count": 1
           },
           {
            "bin_start": 0.022312461403891908,
            "bin_end": 0.02800635187879478,
            "count": 1
           },
           {
            "bin_start": 0.02800635187879478,
            "bin_end": 0.033700242353697646,
            "count": 0
           },
           {
            "bin_start": 0.033700242353697646,
            "bin_end": 0.03939413282860052,
            "count": 0
           },
           {
            "bin_start": 0.03939413282860052,
            "bin_end": 0.045088023303503394,
            "count": 0
           },
           {
            "bin_start": 0.045088023303503394,
            "bin_end": 0.050781913778406254,
            "count": 0
           },
           {
            "bin_start": 0.050781913778406254,
            "bin_end": 0.05647580425330913,
            "count": 0
           },
           {
            "bin_start": 0.05647580425330913,
            "bin_end": 0.062169694728212,
            "count": 1
           }
          ]
         }
        },
        {
         "name": "param_max_epochs",
         "dtype": "int64",
         "stats": {
          "unique_count": 1,
          "nan_count": 0,
          "min": "1000",
          "max": "1000",
          "histogram": [
           {
            "bin_start": 999.5,
            "bin_end": 999.6,
            "count": 0
           },
           {
            "bin_start": 999.6,
            "bin_end": 999.7,
            "count": 0
           },
           {
            "bin_start": 999.7,
            "bin_end": 999.8,
            "count": 0
           },
           {
            "bin_start": 999.8,
            "bin_end": 999.9,
            "count": 0
           },
           {
            "bin_start": 999.9,
            "bin_end": 1000,
            "count": 0
           },
           {
            "bin_start": 1000,
            "bin_end": 1000.1,
            "count": 5
           },
           {
            "bin_start": 1000.1,
            "bin_end": 1000.2,
            "count": 0
           },
           {
            "bin_start": 1000.2,
            "bin_end": 1000.3,
            "count": 0
           },
           {
            "bin_start": 1000.3,
            "bin_end": 1000.4,
            "count": 0
           },
           {
            "bin_start": 1000.4,
            "bin_end": 1000.5,
            "count": 0
           }
          ]
         }
        },
        {
         "name": "param_module__activation_fun",
         "dtype": "object",
         "stats": {
          "unique_count": 2,
          "nan_count": 0,
          "categories": [
           {
            "name": "tanh",
            "count": 4
           },
           {
            "name": "sigmoid",
            "count": 1
           }
          ]
         }
        },
        {
         "name": "param_module__hidden_layers",
         "dtype": "int64",
         "stats": {
          "unique_count": 2,
          "nan_count": 0,
          "min": "1",
          "max": "2",
          "histogram": [
           {
            "bin_start": 1,
            "bin_end": 1.1,
            "count": 3
           },
           {
            "bin_start": 1.1,
            "bin_end": 1.2,
            "count": 0
           },
           {
            "bin_start": 1.2,
            "bin_end": 1.3,
            "count": 0
           },
           {
            "bin_start": 1.3,
            "bin_end": 1.4,
            "count": 0
           },
           {
            "bin_start": 1.4,
            "bin_end": 1.5,
            "count": 0
           },
           {
            "bin_start": 1.5,
            "bin_end": 1.6,
            "count": 0
           },
           {
            "bin_start": 1.6,
            "bin_end": 1.7000000000000002,
            "count": 0
           },
           {
            "bin_start": 1.7000000000000002,
            "bin_end": 1.8,
            "count": 0
           },
           {
            "bin_start": 1.8,
            "bin_end": 1.9,
            "count": 0
           },
           {
            "bin_start": 1.9,
            "bin_end": 2,
            "count": 2
           }
          ]
         }
        },
        {
         "name": "param_module__num_units",
         "dtype": "int64",
         "stats": {
          "unique_count": 5,
          "nan_count": 0,
          "min": "20",
          "max": "94",
          "histogram": [
           {
            "bin_start": 20,
            "bin_end": 27.4,
            "count": 2
           },
           {
            "bin_start": 27.4,
            "bin_end": 34.8,
            "count": 0
           },
           {
            "bin_start": 34.8,
            "bin_end": 42.2,
            "count": 1
           },
           {
            "bin_start": 42.2,
            "bin_end": 49.6,
            "count": 1
           },
           {
            "bin_start": 49.6,
            "bin_end": 57,
            "count": 0
           },
           {
            "bin_start": 57,
            "bin_end": 64.4,
            "count": 0
           },
           {
            "bin_start": 64.4,
            "bin_end": 71.80000000000001,
            "count": 0
           },
           {
            "bin_start": 71.80000000000001,
            "bin_end": 79.2,
            "count": 0
           },
           {
            "bin_start": 79.2,
            "bin_end": 86.60000000000001,
            "count": 0
           },
           {
            "bin_start": 86.60000000000001,
            "bin_end": 94,
            "count": 1
           }
          ]
         }
        },
        {
         "name": "param_optimizer",
         "dtype": "object",
         "stats": {
          "unique_count": 1,
          "nan_count": 0,
          "categories": [
           {
            "name": "<class 'torch.optim.sgd.SGD'>",
            "count": 5
           }
          ]
         }
        },
        {
         "name": "param_optimizer__momentum",
         "dtype": "float64",
         "stats": {
          "unique_count": 2,
          "nan_count": 0,
          "min": "0.9",
          "max": "0.95",
          "histogram": [
           {
            "bin_start": 0.9,
            "bin_end": 0.905,
            "count": 1
           },
           {
            "bin_start": 0.905,
            "bin_end": 0.91,
            "count": 0
           },
           {
            "bin_start": 0.91,
            "bin_end": 0.915,
            "count": 0
           },
           {
            "bin_start": 0.915,
            "bin_end": 0.92,
            "count": 0
           },
           {
            "bin_start": 0.92,
            "bin_end": 0.925,
            "count": 0
           },
           {
            "bin_start": 0.925,
            "bin_end": 0.9299999999999999,
            "count": 0
           },
           {
            "bin_start": 0.9299999999999999,
            "bin_end": 0.9349999999999999,
            "count": 0
           },
           {
            "bin_start": 0.9349999999999999,
            "bin_end": 0.94,
            "count": 0
           },
           {
            "bin_start": 0.94,
            "bin_end": 0.945,
            "count": 0
           },
           {
            "bin_start": 0.945,
            "bin_end": 0.95,
            "count": 4
           }
          ]
         }
        },
        {
         "name": "param_optimizer__nesterov",
         "dtype": "bool",
         "stats": {
          "unique_count": 2,
          "nan_count": 0,
          "categories": [
           {
            "name": "False",
            "count": 3
           },
           {
            "name": "True",
            "count": 2
           }
          ]
         }
        },
        {
         "name": "param_optimizer__weight_decay",
         "dtype": "float64",
         "stats": {
          "unique_count": 5,
          "nan_count": 0,
          "min": "0.0043895084264314",
          "max": "0.0250787789469682",
          "histogram": [
           {
            "bin_start": 0.0043895084264314,
            "bin_end": 0.00645843547848508,
            "count": 2
           },
           {
            "bin_start": 0.00645843547848508,
            "bin_end": 0.008527362530538759,
            "count": 0
           },
           {
            "bin_start": 0.008527362530538759,
            "bin_end": 0.01059628958259244,
            "count": 0
           },
           {
            "bin_start": 0.01059628958259244,
            "bin_end": 0.01266521663464612,
            "count": 2
           },
           {
            "bin_start": 0.01266521663464612,
            "bin_end": 0.0147341436866998,
            "count": 0
           },
           {
            "bin_start": 0.0147341436866998,
            "bin_end": 0.01680307073875348,
            "count": 0
           },
           {
            "bin_start": 0.01680307073875348,
            "bin_end": 0.01887199779080716,
            "count": 0
           },
           {
            "bin_start": 0.01887199779080716,
            "bin_end": 0.02094092484286084,
            "count": 0
           },
           {
            "bin_start": 0.02094092484286084,
            "bin_end": 0.02300985189491452,
            "count": 0
           },
           {
            "bin_start": 0.02300985189491452,
            "bin_end": 0.0250787789469682,
            "count": 1
           }
          ]
         }
        },
        {
         "name": "params",
         "dtype": "object",
         "stats": {
          "unique_count": 5,
          "nan_count": 0,
          "categories": [
           {
            "name": "{'batch_size': 688, 'lr': 0.02733588591746839, 'max_epochs': 1000, 'module__activation_fun': 'tanh', 'module__hidden_layers': 1, 'module__num_units': 40, 'optimizer': <class 'torch.optim.sgd.SGD'>, 'optimizer__momentum': 0.9, 'optimizer__nesterov': False, 'optimizer__weight_decay': 0.011578196678145861}",
            "count": 1
           },
           {
            "name": "{'batch_size': 1267, 'lr': 0.016512311925958336, 'max_epochs': 1000, 'module__activation_fun': 'tanh', 'module__hidden_layers': 1, 'module__num_units': 94, 'optimizer': <class 'torch.optim.sgd.SGD'>, 'optimizer__momentum': 0.95, 'optimizer__nesterov': False, 'optimizer__weight_decay': 0.01174491551646989}",
            "count": 1
           },
           {
            "name": "3 others",
            "count": 3
           }
          ]
         }
        },
        {
         "name": "split0_test_score",
         "dtype": "float64",
         "stats": {
          "unique_count": 5,
          "nan_count": 0,
          "min": "1.0671144244086026",
          "max": "1.2234865010232854",
          "histogram": [
           {
            "bin_start": 1.0671144244086026,
            "bin_end": 1.082751632070071,
            "count": 1
           },
           {
            "bin_start": 1.082751632070071,
            "bin_end": 1.0983888397315391,
            "count": 0
           },
           {
            "bin_start": 1.0983888397315391,
            "bin_end": 1.1140260473930075,
            "count": 1
           },
           {
            "bin_start": 1.1140260473930075,
            "bin_end": 1.1296632550544756,
            "count": 0
           },
           {
            "bin_start": 1.1296632550544756,
            "bin_end": 1.145300462715944,
            "count": 0
           },
           {
            "bin_start": 1.145300462715944,
            "bin_end": 1.1609376703774124,
            "count": 0
           },
           {
            "bin_start": 1.1609376703774124,
            "bin_end": 1.1765748780388805,
            "count": 1
           },
           {
            "bin_start": 1.1765748780388805,
            "bin_end": 1.1922120857003489,
            "count": 0
           },
           {
            "bin_start": 1.1922120857003489,
            "bin_end": 1.207849293361817,
            "count": 0
           },
           {
            "bin_start": 1.207849293361817,
            "bin_end": 1.2234865010232854,
            "count": 2
           }
          ]
         }
        },
        {
         "name": "split1_test_score",
         "dtype": "float64",
         "stats": {
          "unique_count": 5,
          "nan_count": 0,
          "min": "1.0716383793300257",
          "max": "1.174571672496491",
          "histogram": [
           {
            "bin_start": 1.0716383793300257,
            "bin_end": 1.0819317086466722,
            "count": 1
           },
           {
            "bin_start": 1.0819317086466722,
            "bin_end": 1.0922250379633187,
            "count": 2
           },
           {
            "bin_start": 1.0922250379633187,
            "bin_end": 1.1025183672799652,
            "count": 0
           },
           {
            "bin_start": 1.1025183672799652,
            "bin_end": 1.1128116965966117,
            "count": 0
           },
           {
            "bin_start": 1.1128116965966117,
            "bin_end": 1.1231050259132584,
            "count": 0
           },
           {
            "bin_start": 1.1231050259132584,
            "bin_end": 1.133398355229905,
            "count": 0
           },
           {
            "bin_start": 1.133398355229905,
            "bin_end": 1.1436916845465515,
            "count": 1
           },
           {
            "bin_start": 1.1436916845465515,
            "bin_end": 1.153985013863198,
            "count": 0
           },
           {
            "bin_start": 1.153985013863198,
            "bin_end": 1.1642783431798445,
            "count": 0
           },
           {
            "bin_start": 1.1642783431798445,
            "bin_end": 1.174571672496491,
            "count": 1
           }
          ]
         }
        },
        {
         "name": "split2_test_score",
         "dtype": "float64",
         "stats": {
          "unique_count": 5,
          "nan_count": 0,
          "min": "1.19844416265649",
          "max": "1.2990313328634528",
          "histogram": [
           {
            "bin_start": 1.19844416265649,
            "bin_end": 1.2085028796771862,
            "count": 1
           },
           {
            "bin_start": 1.2085028796771862,
            "bin_end": 1.2185615966978824,
            "count": 1
           },
           {
            "bin_start": 1.2185615966978824,
            "bin_end": 1.2286203137185787,
            "count": 0
           },
           {
            "bin_start": 1.2286203137185787,
            "bin_end": 1.238679030739275,
            "count": 1
           },
           {
            "bin_start": 1.238679030739275,
            "bin_end": 1.2487377477599715,
            "count": 0
           },
           {
            "bin_start": 1.2487377477599715,
            "bin_end": 1.2587964647806678,
            "count": 0
           },
           {
            "bin_start": 1.2587964647806678,
            "bin_end": 1.268855181801364,
            "count": 1
           },
           {
            "bin_start": 1.268855181801364,
            "bin_end": 1.2789138988220603,
            "count": 0
           },
           {
            "bin_start": 1.2789138988220603,
            "bin_end": 1.2889726158427566,
            "count": 0
           },
           {
            "bin_start": 1.2889726158427566,
            "bin_end": 1.2990313328634528,
            "count": 1
           }
          ]
         }
        },
        {
         "name": "split3_test_score",
         "dtype": "float64",
         "stats": {
          "unique_count": 5,
          "nan_count": 0,
          "min": "1.2513946536788367",
          "max": "1.3138637895646847",
          "histogram": [
           {
            "bin_start": 1.2513946536788367,
            "bin_end": 1.2576415672674215,
            "count": 1
           },
           {
            "bin_start": 1.2576415672674215,
            "bin_end": 1.2638884808560062,
            "count": 0
           },
           {
            "bin_start": 1.2638884808560062,
            "bin_end": 1.2701353944445912,
            "count": 1
           },
           {
            "bin_start": 1.2701353944445912,
            "bin_end": 1.276382308033176,
            "count": 0
           },
           {
            "bin_start": 1.276382308033176,
            "bin_end": 1.2826292216217607,
            "count": 0
           },
           {
            "bin_start": 1.2826292216217607,
            "bin_end": 1.2888761352103455,
            "count": 1
           },
           {
            "bin_start": 1.2888761352103455,
            "bin_end": 1.2951230487989303,
            "count": 0
           },
           {
            "bin_start": 1.2951230487989303,
            "bin_end": 1.3013699623875152,
            "count": 0
           },
           {
            "bin_start": 1.3013699623875152,
            "bin_end": 1.3076168759761,
            "count": 0
           },
           {
            "bin_start": 1.3076168759761,
            "bin_end": 1.3138637895646847,
            "count": 2
           }
          ]
         }
        },
        {
         "name": "split4_test_score",
         "dtype": "float64",
         "stats": {
          "unique_count": 5,
          "nan_count": 0,
          "min": "1.238852463172455",
          "max": "1.308712903606264",
          "histogram": [
           {
            "bin_start": 1.238852463172455,
            "bin_end": 1.2458385072158358,
            "count": 3
           },
           {
            "bin_start": 1.2458385072158358,
            "bin_end": 1.2528245512592167,
            "count": 0
           },
           {
            "bin_start": 1.2528245512592167,
            "bin_end": 1.2598105953025975,
            "count": 1
           },
           {
            "bin_start": 1.2598105953025975,
            "bin_end": 1.2667966393459784,
            "count": 0
           },
           {
            "bin_start": 1.2667966393459784,
            "bin_end": 1.2737826833893595,
            "count": 0
           },
           {
            "bin_start": 1.2737826833893595,
            "bin_end": 1.2807687274327404,
            "count": 0
           },
           {
            "bin_start": 1.2807687274327404,
            "bin_end": 1.2877547714761213,
            "count": 0
           },
           {
            "bin_start": 1.2877547714761213,
            "bin_end": 1.2947408155195022,
            "count": 0
           },
           {
            "bin_start": 1.2947408155195022,
            "bin_end": 1.301726859562883,
            "count": 0
           },
           {
            "bin_start": 1.301726859562883,
            "bin_end": 1.308712903606264,
            "count": 1
           }
          ]
         }
        },
        {
         "name": "split5_test_score",
         "dtype": "float64",
         "stats": {
          "unique_count": 5,
          "nan_count": 0,
          "min": "1.2746803590789773",
          "max": "1.4479108301544548",
          "histogram": [
           {
            "bin_start": 1.2746803590789773,
            "bin_end": 1.292003406186525,
            "count": 2
           },
           {
            "bin_start": 1.292003406186525,
            "bin_end": 1.3093264532940727,
            "count": 0
           },
           {
            "bin_start": 1.3093264532940727,
            "bin_end": 1.3266495004016206,
            "count": 0
           },
           {
            "bin_start": 1.3266495004016206,
            "bin_end": 1.3439725475091682,
            "count": 0
           },
           {
            "bin_start": 1.3439725475091682,
            "bin_end": 1.361295594616716,
            "count": 2
           },
           {
            "bin_start": 1.361295594616716,
            "bin_end": 1.3786186417242638,
            "count": 0
           },
           {
            "bin_start": 1.3786186417242638,
            "bin_end": 1.3959416888318115,
            "count": 0
           },
           {
            "bin_start": 1.3959416888318115,
            "bin_end": 1.4132647359393593,
            "count": 0
           },
           {
            "bin_start": 1.4132647359393593,
            "bin_end": 1.430587783046907,
            "count": 0
           },
           {
            "bin_start": 1.430587783046907,
            "bin_end": 1.4479108301544548,
            "count": 1
           }
          ]
         }
        },
        {
         "name": "split6_test_score",
         "dtype": "float64",
         "stats": {
          "unique_count": 5,
          "nan_count": 0,
          "min": "1.1952269484562086",
          "max": "1.311752643464203",
          "histogram": [
           {
            "bin_start": 1.1952269484562086,
            "bin_end": 1.206879517957008,
            "count": 1
           },
           {
            "bin_start": 1.206879517957008,
            "bin_end": 1.2185320874578074,
            "count": 1
           },
           {
            "bin_start": 1.2185320874578074,
            "bin_end": 1.230184656958607,
            "count": 0
           },
           {
            "bin_start": 1.230184656958607,
            "bin_end": 1.2418372264594064,
            "count": 1
           },
           {
            "bin_start": 1.2418372264594064,
            "bin_end": 1.2534897959602058,
            "count": 0
           },
           {
            "bin_start": 1.2534897959602058,
            "bin_end": 1.2651423654610052,
            "count": 1
           },
           {
            "bin_start": 1.2651423654610052,
            "bin_end": 1.2767949349618046,
            "count": 0
           },
           {
            "bin_start": 1.2767949349618046,
            "bin_end": 1.2884475044626043,
            "count": 0
           },
           {
            "bin_start": 1.2884475044626043,
            "bin_end": 1.3001000739634037,
            "count": 0
           },
           {
            "bin_start": 1.3001000739634037,
            "bin_end": 1.311752643464203,
            "count": 1
           }
          ]
         }
        },
        {
         "name": "split7_test_score",
         "dtype": "float64",
         "stats": {
          "unique_count": 5,
          "nan_count": 0,
          "min": "1.0872315132528318",
          "max": "1.2250845898362928",
          "histogram": [
           {
            "bin_start": 1.0872315132528318,
            "bin_end": 1.101016820911178,
            "count": 1
           },
           {
            "bin_start": 1.101016820911178,
            "bin_end": 1.114802128569524,
            "count": 0
           },
           {
            "bin_start": 1.114802128569524,
            "bin_end": 1.12858743622787,
            "count": 0
           },
           {
            "bin_start": 1.12858743622787,
            "bin_end": 1.1423727438862161,
            "count": 1
           },
           {
            "bin_start": 1.1423727438862161,
            "bin_end": 1.1561580515445624,
            "count": 2
           },
           {
            "bin_start": 1.1561580515445624,
            "bin_end": 1.1699433592029085,
            "count": 0
           },
           {
            "bin_start": 1.1699433592029085,
            "bin_end": 1.1837286668612546,
            "count": 0
           },
           {
            "bin_start": 1.1837286668612546,
            "bin_end": 1.1975139745196006,
            "count": 0
           },
           {
            "bin_start": 1.1975139745196006,
            "bin_end": 1.2112992821779467,
            "count": 0
           },
           {
            "bin_start": 1.2112992821779467,
            "bin_end": 1.2250845898362928,
            "count": 1
           }
          ]
         }
        },
        {
         "name": "split8_test_score",
         "dtype": "float64",
         "stats": {
          "unique_count": 5,
          "nan_count": 0,
          "min": "1.2731943226846538",
          "max": "1.3566996921274",
          "histogram": [
           {
            "bin_start": 1.2731943226846538,
            "bin_end": 1.2815448596289285,
            "count": 2
           },
           {
            "bin_start": 1.2815448596289285,
            "bin_end": 1.289895396573203,
            "count": 0
           },
           {
            "bin_start": 1.289895396573203,
            "bin_end": 1.2982459335174776,
            "count": 0
           },
           {
            "bin_start": 1.2982459335174776,
            "bin_end": 1.3065964704617523,
            "count": 0
           },
           {
            "bin_start": 1.3065964704617523,
            "bin_end": 1.314947007406027,
            "count": 0
           },
           {
            "bin_start": 1.314947007406027,
            "bin_end": 1.3232975443503014,
            "count": 1
           },
           {
            "bin_start": 1.3232975443503014,
            "bin_end": 1.3316480812945761,
            "count": 1
           },
           {
            "bin_start": 1.3316480812945761,
            "bin_end": 1.3399986182388508,
            "count": 0
           },
           {
            "bin_start": 1.3399986182388508,
            "bin_end": 1.3483491551831253,
            "count": 0
           },
           {
            "bin_start": 1.3483491551831253,
            "bin_end": 1.3566996921274,
            "count": 1
           }
          ]
         }
        },
        {
         "name": "split9_test_score",
         "dtype": "float64",
         "stats": {
          "unique_count": 5,
          "nan_count": 0,
          "min": "1.1088242206270948",
          "max": "1.1364412361925298",
          "histogram": [
           {
            "bin_start": 1.1088242206270948,
            "bin_end": 1.1115859221836384,
            "count": 1
           },
           {
            "bin_start": 1.1115859221836384,
            "bin_end": 1.114347623740182,
            "count": 0
           },
           {
            "bin_start": 1.114347623740182,
            "bin_end": 1.1171093252967252,
            "count": 1
           },
           {
            "bin_start": 1.1171093252967252,
            "bin_end": 1.1198710268532688,
            "count": 0
           },
           {
            "bin_start": 1.1198710268532688,
            "bin_end": 1.1226327284098123,
            "count": 0
           },
           {
            "bin_start": 1.1226327284098123,
            "bin_end": 1.1253944299663559,
            "count": 0
           },
           {
            "bin_start": 1.1253944299663559,
            "bin_end": 1.1281561315228994,
            "count": 0
           },
           {
            "bin_start": 1.1281561315228994,
            "bin_end": 1.1309178330794427,
            "count": 0
           },
           {
            "bin_start": 1.1309178330794427,
            "bin_end": 1.1336795346359863,
            "count": 1
           },
           {
            "bin_start": 1.1336795346359863,
            "bin_end": 1.1364412361925298,
            "count": 2
           }
          ]
         }
        },
        {
         "name": "mean_test_score",
         "dtype": "float64",
         "stats": {
          "unique_count": 5,
          "nan_count": 0,
          "min": "1.1986875794485878",
          "max": "1.2521314901081426",
          "histogram": [
           {
            "bin_start": 1.1986875794485878,
            "bin_end": 1.2040319705145432,
            "count": 1
           },
           {
            "bin_start": 1.2040319705145432,
            "bin_end": 1.2093763615804989,
            "count": 0
           },
           {
            "bin_start": 1.2093763615804989,
            "bin_end": 1.2147207526464543,
            "count": 0
           },
           {
            "bin_start": 1.2147207526464543,
            "bin_end": 1.2200651437124097,
            "count": 2
           },
           {
            "bin_start": 1.2200651437124097,
            "bin_end": 1.2254095347783651,
            "count": 0
           },
           {
            "bin_start": 1.2254095347783651,
            "bin_end": 1.2307539258443208,
            "count": 1
           },
           {
            "bin_start": 1.2307539258443208,
            "bin_end": 1.2360983169102762,
            "count": 0
           },
           {
            "bin_start": 1.2360983169102762,
            "bin_end": 1.2414427079762316,
            "count": 0
           },
           {
            "bin_start": 1.2414427079762316,
            "bin_end": 1.2467870990421872,
            "count": 0
           },
           {
            "bin_start": 1.2467870990421872,
            "bin_end": 1.2521314901081426,
            "count": 1
           }
          ]
         }
        },
        {
         "name": "std_test_score",
         "dtype": "float64",
         "stats": {
          "unique_count": 5,
          "nan_count": 0,
          "min": "0.0623385357363814",
          "max": "0.1039531608179508",
          "histogram": [
           {
            "bin_start": 0.0623385357363814,
            "bin_end": 0.06649999824453834,
            "count": 1
           },
           {
            "bin_start": 0.06649999824453834,
            "bin_end": 0.07066146075269528,
            "count": 0
           },
           {
            "bin_start": 0.07066146075269528,
            "bin_end": 0.07482292326085221,
            "count": 0
           },
           {
            "bin_start": 0.07482292326085221,
            "bin_end": 0.07898438576900915,
            "count": 1
           },
           {
            "bin_start": 0.07898438576900915,
            "bin_end": 0.08314584827716609,
            "count": 1
           },
           {
            "bin_start": 0.08314584827716609,
            "bin_end": 0.08730731078532304,
            "count": 0
           },
           {
            "bin_start": 0.08730731078532304,
            "bin_end": 0.09146877329347998,
            "count": 0
           },
           {
            "bin_start": 0.09146877329347998,
            "bin_end": 0.09563023580163692,
            "count": 1
           },
           {
            "bin_start": 0.09563023580163692,
            "bin_end": 0.09979169830979386,
            "count": 0
           },
           {
            "bin_start": 0.09979169830979386,
            "bin_end": 0.1039531608179508,
            "count": 1
           }
          ]
         }
        },
        {
         "name": "rank_test_score",
         "dtype": "int64",
         "stats": {
          "unique_count": 5,
          "nan_count": 0,
          "min": "376",
          "max": "380",
          "histogram": [
           {
            "bin_start": 376,
            "bin_end": 376.4,
            "count": 1
           },
           {
            "bin_start": 376.4,
            "bin_end": 376.8,
            "count": 0
           },
           {
            "bin_start": 376.8,
            "bin_end": 377.2,
            "count": 1
           },
           {
            "bin_start": 377.2,
            "bin_end": 377.6,
            "count": 0
           },
           {
            "bin_start": 377.6,
            "bin_end": 378,
            "count": 0
           },
           {
            "bin_start": 378,
            "bin_end": 378.4,
            "count": 1
           },
           {
            "bin_start": 378.4,
            "bin_end": 378.8,
            "count": 0
           },
           {
            "bin_start": 378.8,
            "bin_end": 379.2,
            "count": 1
           },
           {
            "bin_start": 379.2,
            "bin_end": 379.6,
            "count": 0
           },
           {
            "bin_start": 379.6,
            "bin_end": 380,
            "count": 1
           }
          ]
         }
        },
        {
         "name": "_deepnote_index_column",
         "dtype": "int64"
        }
       ],
       "rows": [
        {
         "Unnamed: 0": 762,
         "mean_fit_time": 6.234873342514038,
         "std_fit_time": 2.1342846518472904,
         "mean_score_time": 0.0037173509597778,
         "std_score_time": 0.0008024383958817,
         "param_batch_size": 688,
         "param_lr": 0.0273358859174683,
         "param_max_epochs": 1000,
         "param_module__activation_fun": "tanh",
         "param_module__hidden_layers": 1,
         "param_module__num_units": 40,
         "param_optimizer": "<class 'torch.optim.sgd.SGD'>",
         "param_optimizer__momentum": 0.9,
         "param_optimizer__nesterov": false,
         "param_optimizer__weight_decay": 0.0115781966781458,
         "params": "{'batch_size': 688, 'lr': 0.02733588591746839, 'max_epochs': 1000, 'module__activation_fun': 'tanh'…",
         "split0_test_score": 1.1136766487830565,
         "split1_test_score": 1.0888667088702209,
         "split2_test_score": 1.2355355942495785,
         "split3_test_score": 1.2513946536788367,
         "split4_test_score": 1.238852463172455,
         "split5_test_score": 1.2746803590789773,
         "split6_test_score": 1.2071440956814397,
         "split7_test_score": 1.1404314983384054,
         "split8_test_score": 1.3274695520058162,
         "split9_test_score": 1.1088242206270948,
         "mean_test_score": 1.1986875794485878,
         "std_test_score": 0.0767703833674976,
         "rank_test_score": 380,
         "_deepnote_index_column": 0
        },
        {
         "Unnamed: 0": 318,
         "mean_fit_time": 9.02563545703888,
         "std_fit_time": 2.638702156338632,
         "mean_score_time": 0.0099381446838378,
         "std_score_time": 0.0143272521018365,
         "param_batch_size": 1267,
         "param_lr": 0.0165123119259583,
         "param_max_epochs": 1000,
         "param_module__activation_fun": "tanh",
         "param_module__hidden_layers": 1,
         "param_module__num_units": 94,
         "param_optimizer": "<class 'torch.optim.sgd.SGD'>",
         "param_optimizer__momentum": 0.95,
         "param_optimizer__nesterov": false,
         "param_optimizer__weight_decay": 0.0117449155164698,
         "params": "{'batch_size': 1267, 'lr': 0.016512311925958336, 'max_epochs': 1000, 'module__activation_fun': 'tan…",
         "split0_test_score": 1.2234865010232854,
         "split1_test_score": 1.0716383793300257,
         "split2_test_score": 1.2104630897143729,
         "split3_test_score": 1.2868933850493198,
         "split4_test_score": 1.240208777774097,
         "split5_test_score": 1.4479108301544548,
         "split6_test_score": 1.1952269484562086,
         "split7_test_score": 1.0872315132528318,
         "split8_test_score": 1.280742143161763,
         "split9_test_score": 1.1349336287627618,
         "mean_test_score": 1.217873519667912,
         "std_test_score": 0.1039531608179508,
         "rank_test_score": 379,
         "_deepnote_index_column": 1
        },
        {
         "Unnamed: 0": 192,
         "mean_fit_time": 7.756207990646362,
         "std_fit_time": 3.225464655604604,
         "mean_score_time": 0.0042343854904174,
         "std_score_time": 0.0002305117589404,
         "param_batch_size": 782,
         "param_lr": 0.0184467617238813,
         "param_max_epochs": 1000,
         "param_module__activation_fun": "tanh",
         "param_module__hidden_layers": 1,
         "param_module__num_units": 21,
         "param_optimizer": "<class 'torch.optim.sgd.SGD'>",
         "param_optimizer__momentum": 0.95,
         "param_optimizer__nesterov": true,
         "param_optimizer__weight_decay": 0.0063771432091687,
         "params": "{'batch_size': 782, 'lr': 0.018446761723881377, 'max_epochs': 1000, 'module__activation_fun': 'tanh…",
         "split0_test_score": 1.0671144244086026,
         "split1_test_score": 1.0913376965651052,
         "split2_test_score": 1.2656757380617292,
         "split3_test_score": 1.3133491905112016,
         "split4_test_score": 1.258213866558066,
         "split5_test_score": 1.285109741417201,
         "split6_test_score": 1.311752643464203,
         "split7_test_score": 1.1496765421129258,
         "split8_test_score": 1.3228836959241923,
         "split9_test_score": 1.1164592007513752,
         "mean_test_score": 1.2181572739774602,
         "std_test_score": 0.0954272717342307,
         "rank_test_score": 378,
         "_deepnote_index_column": 2
        },
        {
         "Unnamed: 0": 203,
         "mean_fit_time": 6.783390951156616,
         "std_fit_time": 1.702047996113662,
         "mean_score_time": 0.020276665687561,
         "std_score_time": 0.0223089328655727,
         "param_batch_size": 928,
         "param_lr": 0.062169694728212,
         "param_max_epochs": 1000,
         "param_module__activation_fun": "sigmoid",
         "param_module__hidden_layers": 2,
         "param_module__num_units": 43,
         "param_optimizer": "<class 'torch.optim.sgd.SGD'>",
         "param_optimizer__momentum": 0.95,
         "param_optimizer__nesterov": false,
         "param_optimizer__weight_decay": 0.0043895084264314,
         "params": "{'batch_size': 928, 'lr': 0.06216969472821204, 'max_epochs': 1000, 'module__activation_fun': 'sigmo…",
         "split0_test_score": 1.22161111291638,
         "split1_test_score": 1.174571672496491,
         "split2_test_score": 1.19844416265649,
         "split3_test_score": 1.2679812679613442,
         "split4_test_score": 1.243497248739004,
         "split5_test_score": 1.3504441005730987,
         "split6_test_score": 1.261128455232409,
         "split7_test_score": 1.1499856274322908,
         "split8_test_score": 1.2731943226846538,
         "split9_test_score": 1.1329297624020414,
         "mean_test_score": 1.2273787733094204,
         "std_test_score": 0.0623385357363814,
         "rank_test_score": 377,
         "_deepnote_index_column": 3
        },
        {
         "Unnamed: 0": 216,
         "mean_fit_time": 8.229547548294068,
         "std_fit_time": 2.310584202607576,
         "mean_score_time": 0.0045253038406372,
         "std_score_time": 0.0002948791068014,
         "param_batch_size": 914,
         "param_lr": 0.0052307899791833,
         "param_max_epochs": 1000,
         "param_module__activation_fun": "tanh",
         "param_module__hidden_layers": 2,
         "param_module__num_units": 20,
         "param_optimizer": "<class 'torch.optim.sgd.SGD'>",
         "param_optimizer__momentum": 0.95,
         "param_optimizer__nesterov": true,
         "param_optimizer__weight_decay": 0.0250787789469682,
         "params": "{'batch_size': 914, 'lr': 0.005230789979183369, 'max_epochs': 1000, 'module__activation_fun': 'tanh…",
         "split0_test_score": 1.1617525379852691,
         "split1_test_score": 1.1347720101755812,
         "split2_test_score": 1.2990313328634528,
         "split3_test_score": 1.3138637895646847,
         "split4_test_score": 1.308712903606264,
         "split5_test_score": 1.3445890850590585,
         "split6_test_score": 1.2403677236708932,
         "split7_test_score": 1.2250845898362928,
         "split8_test_score": 1.3566996921274,
         "split9_test_score": 1.1364412361925298,
         "mean_test_score": 1.2521314901081426,
         "std_test_score": 0.0805547034758323,
         "rank_test_score": 376,
         "_deepnote_index_column": 4
        }
       ]
      },
      "text/plain": "   Unnamed: 0  mean_fit_time  std_fit_time  mean_score_time  std_score_time  \\\n0         762       6.234873      2.134285         0.003717        0.000802   \n1         318       9.025635      2.638702         0.009938        0.014327   \n2         192       7.756208      3.225465         0.004234        0.000231   \n3         203       6.783391      1.702048         0.020277        0.022309   \n4         216       8.229548      2.310584         0.004525        0.000295   \n\n   param_batch_size  param_lr  param_max_epochs param_module__activation_fun  \\\n0               688  0.027336              1000                         tanh   \n1              1267  0.016512              1000                         tanh   \n2               782  0.018447              1000                         tanh   \n3               928  0.062170              1000                      sigmoid   \n4               914  0.005231              1000                         tanh   \n\n   param_module__hidden_layers  ...  split3_test_score split4_test_score  \\\n0                            1  ...           1.251395          1.238852   \n1                            1  ...           1.286893          1.240209   \n2                            1  ...           1.313349          1.258214   \n3                            2  ...           1.267981          1.243497   \n4                            2  ...           1.313864          1.308713   \n\n   split5_test_score  split6_test_score  split7_test_score split8_test_score  \\\n0           1.274680           1.207144           1.140431          1.327470   \n1           1.447911           1.195227           1.087232          1.280742   \n2           1.285110           1.311753           1.149677          1.322884   \n3           1.350444           1.261128           1.149986          1.273194   \n4           1.344589           1.240368           1.225085          1.356700   \n\n   split9_test_score  mean_test_score  std_test_score  rank_test_score  \n0           1.108824         1.198688        0.076770              380  \n1           1.134934         1.217874        0.103953              379  \n2           1.116459         1.218157        0.095427              378  \n3           1.132930         1.227379        0.062339              377  \n4           1.136441         1.252131        0.080555              376  \n\n[5 rows x 29 columns]",
      "text/html": "<div>\n<style scoped>\n    .dataframe tbody tr th:only-of-type {\n        vertical-align: middle;\n    }\n\n    .dataframe tbody tr th {\n        vertical-align: top;\n    }\n\n    .dataframe thead th {\n        text-align: right;\n    }\n</style>\n<table border=\"1\" class=\"dataframe\">\n  <thead>\n    <tr style=\"text-align: right;\">\n      <th></th>\n      <th>Unnamed: 0</th>\n      <th>mean_fit_time</th>\n      <th>std_fit_time</th>\n      <th>mean_score_time</th>\n      <th>std_score_time</th>\n      <th>param_batch_size</th>\n      <th>param_lr</th>\n      <th>param_max_epochs</th>\n      <th>param_module__activation_fun</th>\n      <th>param_module__hidden_layers</th>\n      <th>...</th>\n      <th>split3_test_score</th>\n      <th>split4_test_score</th>\n      <th>split5_test_score</th>\n      <th>split6_test_score</th>\n      <th>split7_test_score</th>\n      <th>split8_test_score</th>\n      <th>split9_test_score</th>\n      <th>mean_test_score</th>\n      <th>std_test_score</th>\n      <th>rank_test_score</th>\n    </tr>\n  </thead>\n  <tbody>\n    <tr>\n      <th>0</th>\n      <td>762</td>\n      <td>6.234873</td>\n      <td>2.134285</td>\n      <td>0.003717</td>\n      <td>0.000802</td>\n      <td>688</td>\n      <td>0.027336</td>\n      <td>1000</td>\n      <td>tanh</td>\n      <td>1</td>\n      <td>...</td>\n      <td>1.251395</td>\n      <td>1.238852</td>\n      <td>1.274680</td>\n      <td>1.207144</td>\n      <td>1.140431</td>\n      <td>1.327470</td>\n      <td>1.108824</td>\n      <td>1.198688</td>\n      <td>0.076770</td>\n      <td>380</td>\n    </tr>\n    <tr>\n      <th>1</th>\n      <td>318</td>\n      <td>9.025635</td>\n      <td>2.638702</td>\n      <td>0.009938</td>\n      <td>0.014327</td>\n      <td>1267</td>\n      <td>0.016512</td>\n      <td>1000</td>\n      <td>tanh</td>\n      <td>1</td>\n      <td>...</td>\n      <td>1.286893</td>\n      <td>1.240209</td>\n      <td>1.447911</td>\n      <td>1.195227</td>\n      <td>1.087232</td>\n      <td>1.280742</td>\n      <td>1.134934</td>\n      <td>1.217874</td>\n      <td>0.103953</td>\n      <td>379</td>\n    </tr>\n    <tr>\n      <th>2</th>\n      <td>192</td>\n      <td>7.756208</td>\n      <td>3.225465</td>\n      <td>0.004234</td>\n      <td>0.000231</td>\n      <td>782</td>\n      <td>0.018447</td>\n      <td>1000</td>\n      <td>tanh</td>\n      <td>1</td>\n      <td>...</td>\n      <td>1.313349</td>\n      <td>1.258214</td>\n      <td>1.285110</td>\n      <td>1.311753</td>\n      <td>1.149677</td>\n      <td>1.322884</td>\n      <td>1.116459</td>\n      <td>1.218157</td>\n      <td>0.095427</td>\n      <td>378</td>\n    </tr>\n    <tr>\n      <th>3</th>\n      <td>203</td>\n      <td>6.783391</td>\n      <td>1.702048</td>\n      <td>0.020277</td>\n      <td>0.022309</td>\n      <td>928</td>\n      <td>0.062170</td>\n      <td>1000</td>\n      <td>sigmoid</td>\n      <td>2</td>\n      <td>...</td>\n      <td>1.267981</td>\n      <td>1.243497</td>\n      <td>1.350444</td>\n      <td>1.261128</td>\n      <td>1.149986</td>\n      <td>1.273194</td>\n      <td>1.132930</td>\n      <td>1.227379</td>\n      <td>0.062339</td>\n      <td>377</td>\n    </tr>\n    <tr>\n      <th>4</th>\n      <td>216</td>\n      <td>8.229548</td>\n      <td>2.310584</td>\n      <td>0.004525</td>\n      <td>0.000295</td>\n      <td>914</td>\n      <td>0.005231</td>\n      <td>1000</td>\n      <td>tanh</td>\n      <td>2</td>\n      <td>...</td>\n      <td>1.313864</td>\n      <td>1.308713</td>\n      <td>1.344589</td>\n      <td>1.240368</td>\n      <td>1.225085</td>\n      <td>1.356700</td>\n      <td>1.136441</td>\n      <td>1.252131</td>\n      <td>0.080555</td>\n      <td>376</td>\n    </tr>\n  </tbody>\n</table>\n<p>5 rows × 29 columns</p>\n</div>"
     },
     "metadata": {}
    }
   ]
  },
  {
   "cell_type": "code",
   "metadata": {
    "cell_id": "2c1b2cbb-2e12-4f41-a770-396d4588c705",
    "deepnote_to_be_reexecuted": false,
    "execution_millis": 2224319,
    "execution_start": 1642934868744,
    "source_hash": "a17bc943",
    "tags": [],
    "deepnote_cell_type": "code"
   },
   "source": "%%time\n\n#%%script false --no-raise-error\n# define the parameters' values\nparams = {\n    'lr': [0.025, 0.0273, 0.028, 0.029],\n    'max_epochs': [1000], #upper bound of max number of epochs\n    'optimizer': [torch.optim.SGD],\n    'optimizer__momentum': [0.9], ##optimizer__ indicates that it is a parameter of the optimizer\n    'optimizer__weight_decay': [0.01, 0.0115, 0.012],\n    'optimizer__nesterov': [False, True],\n    'module__num_units': [38, 40, 42], #module__ indicates that it is a parameter of the module\n    'module__hidden_layers': [1],\n    'module__activation_fun': [\"tanh\"],\n    'batch_size': [660, 688, 700, 720],\n}\n\n# define the grid search\ngs = GridSearchCV(\n    model,\n    param_grid=params,\n    n_jobs=-1,\n    scoring=make_scorer(mee),\n    cv=k,\n    verbose=10\n)\n# run the grid search\ngs.fit(X, y)\n",
   "execution_count": 27,
   "outputs": [
    {
     "name": "stdout",
     "text": "Fitting 10 folds for each of 288 candidates, totalling 2880 fits\n",
     "output_type": "stream"
    }
   ]
  },
  {
   "cell_type": "code",
   "metadata": {
    "cell_id": "6092d8eb-d5ce-4a24-91ba-ffccc33179bb",
    "deepnote_to_be_reexecuted": true,
    "source_hash": "af86f9ad",
    "tags": [],
    "execution_start": 1642934823793,
    "execution_millis": 96,
    "deepnote_cell_type": "code"
   },
   "source": "%%script false --no-raise-error\n\ndf_results = pd.DataFrame(data=gs.cv_results_) #trasform into a pandas dataframe\ndf_results.sort_values(by=\"rank_test_score\", axis=0, ascending=False, inplace=True) #sort rank values in decreasing order \ndf_results.dropna(inplace=True) #delete nan values \ndf_results = df_results[:50] #keep only top 50 models\npd.DataFrame.to_csv(df_results, \"pytorch_results/grid_search.csv\")",
   "execution_count": 28,
   "outputs": [
    {
     "output_type": "error",
     "ename": "AttributeError",
     "evalue": "'GridSearchCV' object has no attribute 'cv_results_'",
     "traceback": [
      "\u001b[0;31m---------------------------------------------------------------------------\u001b[0m",
      "\u001b[0;31mAttributeError\u001b[0m                            Traceback (most recent call last)",
      "\u001b[0;32m<ipython-input-28-7b17d9970b3c>\u001b[0m in \u001b[0;36m<module>\u001b[0;34m\u001b[0m\n\u001b[1;32m      1\u001b[0m \u001b[0;31m#%%script false --no-raise-error\u001b[0m\u001b[0;34m\u001b[0m\u001b[0;34m\u001b[0m\u001b[0;34m\u001b[0m\u001b[0m\n\u001b[1;32m      2\u001b[0m \u001b[0;34m\u001b[0m\u001b[0m\n\u001b[0;32m----> 3\u001b[0;31m \u001b[0mdf_results\u001b[0m \u001b[0;34m=\u001b[0m \u001b[0mpd\u001b[0m\u001b[0;34m.\u001b[0m\u001b[0mDataFrame\u001b[0m\u001b[0;34m(\u001b[0m\u001b[0mdata\u001b[0m\u001b[0;34m=\u001b[0m\u001b[0mgs\u001b[0m\u001b[0;34m.\u001b[0m\u001b[0mcv_results_\u001b[0m\u001b[0;34m)\u001b[0m \u001b[0;31m#trasform into a pandas dataframe\u001b[0m\u001b[0;34m\u001b[0m\u001b[0;34m\u001b[0m\u001b[0m\n\u001b[0m\u001b[1;32m      4\u001b[0m \u001b[0mdf_results\u001b[0m\u001b[0;34m.\u001b[0m\u001b[0msort_values\u001b[0m\u001b[0;34m(\u001b[0m\u001b[0mby\u001b[0m\u001b[0;34m=\u001b[0m\u001b[0;34m\"rank_test_score\"\u001b[0m\u001b[0;34m,\u001b[0m \u001b[0maxis\u001b[0m\u001b[0;34m=\u001b[0m\u001b[0;36m0\u001b[0m\u001b[0;34m,\u001b[0m \u001b[0mascending\u001b[0m\u001b[0;34m=\u001b[0m\u001b[0;32mFalse\u001b[0m\u001b[0;34m,\u001b[0m \u001b[0minplace\u001b[0m\u001b[0;34m=\u001b[0m\u001b[0;32mTrue\u001b[0m\u001b[0;34m)\u001b[0m \u001b[0;31m#sort rank values in decreasing order\u001b[0m\u001b[0;34m\u001b[0m\u001b[0;34m\u001b[0m\u001b[0m\n\u001b[1;32m      5\u001b[0m \u001b[0mdf_results\u001b[0m\u001b[0;34m.\u001b[0m\u001b[0mdropna\u001b[0m\u001b[0;34m(\u001b[0m\u001b[0minplace\u001b[0m\u001b[0;34m=\u001b[0m\u001b[0;32mTrue\u001b[0m\u001b[0;34m)\u001b[0m \u001b[0;31m#delete nan values\u001b[0m\u001b[0;34m\u001b[0m\u001b[0;34m\u001b[0m\u001b[0m\n",
      "\u001b[0;31mAttributeError\u001b[0m: 'GridSearchCV' object has no attribute 'cv_results_'"
     ]
    }
   ]
  },
  {
   "cell_type": "code",
   "metadata": {
    "cell_id": "00040-c5403733-bb1d-4070-800c-087e439ac8c8",
    "deepnote_to_be_reexecuted": true,
    "source_hash": "e59f9b24",
    "execution_start": 1642897679259,
    "execution_millis": 1209,
    "deepnote_cell_type": "code"
   },
   "source": "df_results = pd.read_csv(\"pytorch_results/grid_search.csv\")\ndf_results.head()",
   "execution_count": null,
   "outputs": [
    {
     "output_type": "execute_result",
     "execution_count": 29,
     "data": {
      "application/vnd.deepnote.dataframe.v3+json": {
       "column_count": 29,
       "row_count": 5,
       "columns": [
        {
         "name": "Unnamed: 0",
         "dtype": "int64",
         "stats": {
          "unique_count": 5,
          "nan_count": 0,
          "min": "21",
          "max": "70",
          "histogram": [
           {
            "bin_start": 21,
            "bin_end": 25.9,
            "count": 1
           },
           {
            "bin_start": 25.9,
            "bin_end": 30.8,
            "count": 0
           },
           {
            "bin_start": 30.8,
            "bin_end": 35.7,
            "count": 1
           },
           {
            "bin_start": 35.7,
            "bin_end": 40.6,
            "count": 0
           },
           {
            "bin_start": 40.6,
            "bin_end": 45.5,
            "count": 0
           },
           {
            "bin_start": 45.5,
            "bin_end": 50.400000000000006,
            "count": 0
           },
           {
            "bin_start": 50.400000000000006,
            "bin_end": 55.300000000000004,
            "count": 1
           },
           {
            "bin_start": 55.300000000000004,
            "bin_end": 60.2,
            "count": 0
           },
           {
            "bin_start": 60.2,
            "bin_end": 65.1,
            "count": 0
           },
           {
            "bin_start": 65.1,
            "bin_end": 70,
            "count": 2
           }
          ]
         }
        },
        {
         "name": "mean_fit_time",
         "dtype": "float64",
         "stats": {
          "unique_count": 5,
          "nan_count": 0,
          "min": "5.702570557594299",
          "max": "6.068443727493286",
          "histogram": [
           {
            "bin_start": 5.702570557594299,
            "bin_end": 5.739157874584198,
            "count": 1
           },
           {
            "bin_start": 5.739157874584198,
            "bin_end": 5.775745191574097,
            "count": 0
           },
           {
            "bin_start": 5.775745191574097,
            "bin_end": 5.812332508563996,
            "count": 0
           },
           {
            "bin_start": 5.812332508563996,
            "bin_end": 5.848919825553894,
            "count": 1
           },
           {
            "bin_start": 5.848919825553894,
            "bin_end": 5.885507142543792,
            "count": 0
           },
           {
            "bin_start": 5.885507142543792,
            "bin_end": 5.9220944595336915,
            "count": 0
           },
           {
            "bin_start": 5.9220944595336915,
            "bin_end": 5.958681776523591,
            "count": 0
           },
           {
            "bin_start": 5.958681776523591,
            "bin_end": 5.995269093513489,
            "count": 1
           },
           {
            "bin_start": 5.995269093513489,
            "bin_end": 6.031856410503387,
            "count": 0
           },
           {
            "bin_start": 6.031856410503387,
            "bin_end": 6.068443727493286,
            "count": 2
           }
          ]
         }
        },
        {
         "name": "std_fit_time",
         "dtype": "float64",
         "stats": {
          "unique_count": 5,
          "nan_count": 0,
          "min": "0.7337408273933639",
          "max": "1.2996623650940489",
          "histogram": [
           {
            "bin_start": 0.7337408273933639,
            "bin_end": 0.7903329811634324,
            "count": 1
           },
           {
            "bin_start": 0.7903329811634324,
            "bin_end": 0.8469251349335009,
            "count": 0
           },
           {
            "bin_start": 0.8469251349335009,
            "bin_end": 0.9035172887035694,
            "count": 0
           },
           {
            "bin_start": 0.9035172887035694,
            "bin_end": 0.9601094424736378,
            "count": 0
           },
           {
            "bin_start": 0.9601094424736378,
            "bin_end": 1.0167015962437063,
            "count": 0
           },
           {
            "bin_start": 1.0167015962437063,
            "bin_end": 1.073293750013775,
            "count": 2
           },
           {
            "bin_start": 1.073293750013775,
            "bin_end": 1.1298859037838433,
            "count": 0
           },
           {
            "bin_start": 1.1298859037838433,
            "bin_end": 1.186478057553912,
            "count": 0
           },
           {
            "bin_start": 1.186478057553912,
            "bin_end": 1.2430702113239804,
            "count": 1
           },
           {
            "bin_start": 1.2430702113239804,
            "bin_end": 1.2996623650940489,
            "count": 1
           }
          ]
         }
        },
        {
         "name": "mean_score_time",
         "dtype": "float64",
         "stats": {
          "unique_count": 5,
          "nan_count": 0,
          "min": "0.0063120365142822",
          "max": "0.0094091176986694",
          "histogram": [
           {
            "bin_start": 0.0063120365142822,
            "bin_end": 0.0066217446327209205,
            "count": 1
           },
           {
            "bin_start": 0.0066217446327209205,
            "bin_end": 0.00693145275115964,
            "count": 1
           },
           {
            "bin_start": 0.00693145275115964,
            "bin_end": 0.00724116086959836,
            "count": 0
           },
           {
            "bin_start": 0.00724116086959836,
            "bin_end": 0.00755086898803708,
            "count": 0
           },
           {
            "bin_start": 0.00755086898803708,
            "bin_end": 0.007860577106475801,
            "count": 0
           },
           {
            "bin_start": 0.007860577106475801,
            "bin_end": 0.00817028522491452,
            "count": 0
           },
           {
            "bin_start": 0.00817028522491452,
            "bin_end": 0.00847999334335324,
            "count": 0
           },
           {
            "bin_start": 0.00847999334335324,
            "bin_end": 0.00878970146179196,
            "count": 0
           },
           {
            "bin_start": 0.00878970146179196,
            "bin_end": 0.00909940958023068,
            "count": 1
           },
           {
            "bin_start": 0.00909940958023068,
            "bin_end": 0.0094091176986694,
            "count": 2
           }
          ]
         }
        },
        {
         "name": "std_score_time",
         "dtype": "float64",
         "stats": {
          "unique_count": 5,
          "nan_count": 0,
          "min": "0.0037386037130558",
          "max": "0.0086729939860133",
          "histogram": [
           {
            "bin_start": 0.0037386037130558,
            "bin_end": 0.004232042740351549,
            "count": 2
           },
           {
            "bin_start": 0.004232042740351549,
            "bin_end": 0.0047254817676473,
            "count": 1
           },
           {
            "bin_start": 0.0047254817676473,
            "bin_end": 0.005218920794943049,
            "count": 1
           },
           {
            "bin_start": 0.005218920794943049,
            "bin_end": 0.0057123598222388,
            "count": 0
           },
           {
            "bin_start": 0.0057123598222388,
            "bin_end": 0.006205798849534549,
            "count": 0
           },
           {
            "bin_start": 0.006205798849534549,
            "bin_end": 0.0066992378768303,
            "count": 0
           },
           {
            "bin_start": 0.0066992378768303,
            "bin_end": 0.007192676904126049,
            "count": 0
           },
           {
            "bin_start": 0.007192676904126049,
            "bin_end": 0.007686115931421799,
            "count": 0
           },
           {
            "bin_start": 0.007686115931421799,
            "bin_end": 0.008179554958717548,
            "count": 0
           },
           {
            "bin_start": 0.008179554958717548,
            "bin_end": 0.0086729939860133,
            "count": 1
           }
          ]
         }
        },
        {
         "name": "param_batch_size",
         "dtype": "int64",
         "stats": {
          "unique_count": 1,
          "nan_count": 0,
          "min": "660",
          "max": "660",
          "histogram": [
           {
            "bin_start": 659.5,
            "bin_end": 659.6,
            "count": 0
           },
           {
            "bin_start": 659.6,
            "bin_end": 659.7,
            "count": 0
           },
           {
            "bin_start": 659.7,
            "bin_end": 659.8,
            "count": 0
           },
           {
            "bin_start": 659.8,
            "bin_end": 659.9,
            "count": 0
           },
           {
            "bin_start": 659.9,
            "bin_end": 660,
            "count": 0
           },
           {
            "bin_start": 660,
            "bin_end": 660.1,
            "count": 5
           },
           {
            "bin_start": 660.1,
            "bin_end": 660.2,
            "count": 0
           },
           {
            "bin_start": 660.2,
            "bin_end": 660.3,
            "count": 0
           },
           {
            "bin_start": 660.3,
            "bin_end": 660.4,
            "count": 0
           },
           {
            "bin_start": 660.4,
            "bin_end": 660.5,
            "count": 0
           }
          ]
         }
        },
        {
         "name": "param_lr",
         "dtype": "float64",
         "stats": {
          "unique_count": 3,
          "nan_count": 0,
          "min": "0.0273",
          "max": "0.029",
          "histogram": [
           {
            "bin_start": 0.0273,
            "bin_end": 0.02747,
            "count": 2
           },
           {
            "bin_start": 0.02747,
            "bin_end": 0.02764,
            "count": 0
           },
           {
            "bin_start": 0.02764,
            "bin_end": 0.02781,
            "count": 0
           },
           {
            "bin_start": 0.02781,
            "bin_end": 0.02798,
            "count": 0
           },
           {
            "bin_start": 0.02798,
            "bin_end": 0.02815,
            "count": 1
           },
           {
            "bin_start": 0.02815,
            "bin_end": 0.02832,
            "count": 0
           },
           {
            "bin_start": 0.02832,
            "bin_end": 0.02849,
            "count": 0
           },
           {
            "bin_start": 0.02849,
            "bin_end": 0.02866,
            "count": 0
           },
           {
            "bin_start": 0.02866,
            "bin_end": 0.02883,
            "count": 0
           },
           {
            "bin_start": 0.02883,
            "bin_end": 0.029,
            "count": 2
           }
          ]
         }
        },
        {
         "name": "param_max_epochs",
         "dtype": "int64",
         "stats": {
          "unique_count": 1,
          "nan_count": 0,
          "min": "1000",
          "max": "1000",
          "histogram": [
           {
            "bin_start": 999.5,
            "bin_end": 999.6,
            "count": 0
           },
           {
            "bin_start": 999.6,
            "bin_end": 999.7,
            "count": 0
           },
           {
            "bin_start": 999.7,
            "bin_end": 999.8,
            "count": 0
           },
           {
            "bin_start": 999.8,
            "bin_end": 999.9,
            "count": 0
           },
           {
            "bin_start": 999.9,
            "bin_end": 1000,
            "count": 0
           },
           {
            "bin_start": 1000,
            "bin_end": 1000.1,
            "count": 5
           },
           {
            "bin_start": 1000.1,
            "bin_end": 1000.2,
            "count": 0
           },
           {
            "bin_start": 1000.2,
            "bin_end": 1000.3,
            "count": 0
           },
           {
            "bin_start": 1000.3,
            "bin_end": 1000.4,
            "count": 0
           },
           {
            "bin_start": 1000.4,
            "bin_end": 1000.5,
            "count": 0
           }
          ]
         }
        },
        {
         "name": "param_module__activation_fun",
         "dtype": "object",
         "stats": {
          "unique_count": 1,
          "nan_count": 0,
          "categories": [
           {
            "name": "tanh",
            "count": 5
           }
          ]
         }
        },
        {
         "name": "param_module__hidden_layers",
         "dtype": "int64",
         "stats": {
          "unique_count": 1,
          "nan_count": 0,
          "min": "1",
          "max": "1",
          "histogram": [
           {
            "bin_start": 0.5,
            "bin_end": 0.6,
            "count": 0
           },
           {
            "bin_start": 0.6,
            "bin_end": 0.7,
            "count": 0
           },
           {
            "bin_start": 0.7,
            "bin_end": 0.8,
            "count": 0
           },
           {
            "bin_start": 0.8,
            "bin_end": 0.9,
            "count": 0
           },
           {
            "bin_start": 0.9,
            "bin_end": 1,
            "count": 0
           },
           {
            "bin_start": 1,
            "bin_end": 1.1,
            "count": 5
           },
           {
            "bin_start": 1.1,
            "bin_end": 1.2000000000000002,
            "count": 0
           },
           {
            "bin_start": 1.2000000000000002,
            "bin_end": 1.3,
            "count": 0
           },
           {
            "bin_start": 1.3,
            "bin_end": 1.4,
            "count": 0
           },
           {
            "bin_start": 1.4,
            "bin_end": 1.5,
            "count": 0
           }
          ]
         }
        },
        {
         "name": "param_module__num_units",
         "dtype": "int64",
         "stats": {
          "unique_count": 2,
          "nan_count": 0,
          "min": "38",
          "max": "42",
          "histogram": [
           {
            "bin_start": 38,
            "bin_end": 38.4,
            "count": 1
           },
           {
            "bin_start": 38.4,
            "bin_end": 38.8,
            "count": 0
           },
           {
            "bin_start": 38.8,
            "bin_end": 39.2,
            "count": 0
           },
           {
            "bin_start": 39.2,
            "bin_end": 39.6,
            "count": 0
           },
           {
            "bin_start": 39.6,
            "bin_end": 40,
            "count": 0
           },
           {
            "bin_start": 40,
            "bin_end": 40.4,
            "count": 0
           },
           {
            "bin_start": 40.4,
            "bin_end": 40.8,
            "count": 0
           },
           {
            "bin_start": 40.8,
            "bin_end": 41.2,
            "count": 0
           },
           {
            "bin_start": 41.2,
            "bin_end": 41.6,
            "count": 0
           },
           {
            "bin_start": 41.6,
            "bin_end": 42,
            "count": 4
           }
          ]
         }
        },
        {
         "name": "param_optimizer",
         "dtype": "object",
         "stats": {
          "unique_count": 1,
          "nan_count": 0,
          "categories": [
           {
            "name": "<class 'torch.optim.sgd.SGD'>",
            "count": 5
           }
          ]
         }
        },
        {
         "name": "param_optimizer__momentum",
         "dtype": "float64",
         "stats": {
          "unique_count": 1,
          "nan_count": 0,
          "min": "0.9",
          "max": "0.9",
          "histogram": [
           {
            "bin_start": 0.4,
            "bin_end": 0.5,
            "count": 0
           },
           {
            "bin_start": 0.5,
            "bin_end": 0.6,
            "count": 0
           },
           {
            "bin_start": 0.6,
            "bin_end": 0.7,
            "count": 0
           },
           {
            "bin_start": 0.7,
            "bin_end": 0.8,
            "count": 0
           },
           {
            "bin_start": 0.8,
            "bin_end": 0.8999999999999999,
            "count": 0
           },
           {
            "bin_start": 0.8999999999999999,
            "bin_end": 1,
            "count": 5
           },
           {
            "bin_start": 1,
            "bin_end": 1.1,
            "count": 0
           },
           {
            "bin_start": 1.1,
            "bin_end": 1.2,
            "count": 0
           },
           {
            "bin_start": 1.2,
            "bin_end": 1.2999999999999998,
            "count": 0
           },
           {
            "bin_start": 1.2999999999999998,
            "bin_end": 1.4,
            "count": 0
           }
          ]
         }
        },
        {
         "name": "param_optimizer__nesterov",
         "dtype": "bool",
         "stats": {
          "unique_count": 1,
          "nan_count": 0,
          "categories": [
           {
            "name": "True",
            "count": 5
           }
          ]
         }
        },
        {
         "name": "param_optimizer__weight_decay",
         "dtype": "float64",
         "stats": {
          "unique_count": 2,
          "nan_count": 0,
          "min": "0.01",
          "max": "0.0115",
          "histogram": [
           {
            "bin_start": 0.01,
            "bin_end": 0.01015,
            "count": 4
           },
           {
            "bin_start": 0.01015,
            "bin_end": 0.0103,
            "count": 0
           },
           {
            "bin_start": 0.0103,
            "bin_end": 0.010450000000000001,
            "count": 0
           },
           {
            "bin_start": 0.010450000000000001,
            "bin_end": 0.0106,
            "count": 0
           },
           {
            "bin_start": 0.0106,
            "bin_end": 0.01075,
            "count": 0
           },
           {
            "bin_start": 0.01075,
            "bin_end": 0.0109,
            "count": 0
           },
           {
            "bin_start": 0.0109,
            "bin_end": 0.01105,
            "count": 0
           },
           {
            "bin_start": 0.01105,
            "bin_end": 0.0112,
            "count": 0
           },
           {
            "bin_start": 0.0112,
            "bin_end": 0.011349999999999999,
            "count": 0
           },
           {
            "bin_start": 0.011349999999999999,
            "bin_end": 0.0115,
            "count": 1
           }
          ]
         }
        },
        {
         "name": "params",
         "dtype": "object",
         "stats": {
          "unique_count": 5,
          "nan_count": 0,
          "categories": [
           {
            "name": "{'batch_size': 660, 'lr': 0.029, 'max_epochs': 1000, 'module__activation_fun': 'tanh', 'module__hidden_layers': 1, 'module__num_units': 42, 'optimizer': <class 'torch.optim.sgd.SGD'>, 'optimizer__momentum': 0.9, 'optimizer__nesterov': True, 'optimizer__weight_decay': 0.01}",
            "count": 1
           },
           {
            "name": "{'batch_size': 660, 'lr': 0.028, 'max_epochs': 1000, 'module__activation_fun': 'tanh', 'module__hidden_layers': 1, 'module__num_units': 42, 'optimizer': <class 'torch.optim.sgd.SGD'>, 'optimizer__momentum': 0.9, 'optimizer__nesterov': True, 'optimizer__weight_decay': 0.01}",
            "count": 1
           },
           {
            "name": "3 others",
            "count": 3
           }
          ]
         }
        },
        {
         "name": "split0_test_score",
         "dtype": "float64",
         "stats": {
          "unique_count": 5,
          "nan_count": 0,
          "min": "1.0669936935760471",
          "max": "1.1031009401369811",
          "histogram": [
           {
            "bin_start": 1.0669936935760471,
            "bin_end": 1.0706044182321406,
            "count": 3
           },
           {
            "bin_start": 1.0706044182321406,
            "bin_end": 1.0742151428882338,
            "count": 0
           },
           {
            "bin_start": 1.0742151428882338,
            "bin_end": 1.0778258675443273,
            "count": 0
           },
           {
            "bin_start": 1.0778258675443273,
            "bin_end": 1.0814365922004208,
            "count": 0
           },
           {
            "bin_start": 1.0814365922004208,
            "bin_end": 1.0850473168565142,
            "count": 0
           },
           {
            "bin_start": 1.0850473168565142,
            "bin_end": 1.0886580415126075,
            "count": 0
           },
           {
            "bin_start": 1.0886580415126075,
            "bin_end": 1.092268766168701,
            "count": 0
           },
           {
            "bin_start": 1.092268766168701,
            "bin_end": 1.0958794908247944,
            "count": 1
           },
           {
            "bin_start": 1.0958794908247944,
            "bin_end": 1.0994902154808877,
            "count": 0
           },
           {
            "bin_start": 1.0994902154808877,
            "bin_end": 1.1031009401369811,
            "count": 1
           }
          ]
         }
        },
        {
         "name": "split1_test_score",
         "dtype": "float64",
         "stats": {
          "unique_count": 5,
          "nan_count": 0,
          "min": "1.0581740192452769",
          "max": "1.085599775152995",
          "histogram": [
           {
            "bin_start": 1.0581740192452769,
            "bin_end": 1.0609165948360486,
            "count": 1
           },
           {
            "bin_start": 1.0609165948360486,
            "bin_end": 1.0636591704268206,
            "count": 0
           },
           {
            "bin_start": 1.0636591704268206,
            "bin_end": 1.0664017460175923,
            "count": 0
           },
           {
            "bin_start": 1.0664017460175923,
            "bin_end": 1.0691443216083643,
            "count": 0
           },
           {
            "bin_start": 1.0691443216083643,
            "bin_end": 1.071886897199136,
            "count": 0
           },
           {
            "bin_start": 1.071886897199136,
            "bin_end": 1.0746294727899077,
            "count": 0
           },
           {
            "bin_start": 1.0746294727899077,
            "bin_end": 1.0773720483806797,
            "count": 2
           },
           {
            "bin_start": 1.0773720483806797,
            "bin_end": 1.0801146239714514,
            "count": 0
           },
           {
            "bin_start": 1.0801146239714514,
            "bin_end": 1.0828571995622234,
            "count": 1
           },
           {
            "bin_start": 1.0828571995622234,
            "bin_end": 1.085599775152995,
            "count": 1
           }
          ]
         }
        },
        {
         "name": "split2_test_score",
         "dtype": "float64",
         "stats": {
          "unique_count": 5,
          "nan_count": 0,
          "min": "1.2053598044230078",
          "max": "1.219562470016623",
          "histogram": [
           {
            "bin_start": 1.2053598044230078,
            "bin_end": 1.2067800709823693,
            "count": 1
           },
           {
            "bin_start": 1.2067800709823693,
            "bin_end": 1.208200337541731,
            "count": 2
           },
           {
            "bin_start": 1.208200337541731,
            "bin_end": 1.2096206041010924,
            "count": 0
           },
           {
            "bin_start": 1.2096206041010924,
            "bin_end": 1.2110408706604538,
            "count": 0
           },
           {
            "bin_start": 1.2110408706604538,
            "bin_end": 1.2124611372198153,
            "count": 1
           },
           {
            "bin_start": 1.2124611372198153,
            "bin_end": 1.213881403779177,
            "count": 0
           },
           {
            "bin_start": 1.213881403779177,
            "bin_end": 1.2153016703385384,
            "count": 0
           },
           {
            "bin_start": 1.2153016703385384,
            "bin_end": 1.2167219368978999,
            "count": 0
           },
           {
            "bin_start": 1.2167219368978999,
            "bin_end": 1.2181422034572615,
            "count": 0
           },
           {
            "bin_start": 1.2181422034572615,
            "bin_end": 1.219562470016623,
            "count": 1
           }
          ]
         }
        },
        {
         "name": "split3_test_score",
         "dtype": "float64",
         "stats": {
          "unique_count": 5,
          "nan_count": 0,
          "min": "1.2265541467787628",
          "max": "1.28039491291445",
          "histogram": [
           {
            "bin_start": 1.2265541467787628,
            "bin_end": 1.2319382233923315,
            "count": 1
           },
           {
            "bin_start": 1.2319382233923315,
            "bin_end": 1.2373223000059004,
            "count": 1
           },
           {
            "bin_start": 1.2373223000059004,
            "bin_end": 1.242706376619469,
            "count": 1
           },
           {
            "bin_start": 1.242706376619469,
            "bin_end": 1.2480904532330377,
            "count": 0
           },
           {
            "bin_start": 1.2480904532330377,
            "bin_end": 1.2534745298466063,
            "count": 0
           },
           {
            "bin_start": 1.2534745298466063,
            "bin_end": 1.2588586064601752,
            "count": 1
           },
           {
            "bin_start": 1.2588586064601752,
            "bin_end": 1.2642426830737439,
            "count": 0
           },
           {
            "bin_start": 1.2642426830737439,
            "bin_end": 1.2696267596873125,
            "count": 0
           },
           {
            "bin_start": 1.2696267596873125,
            "bin_end": 1.2750108363008814,
            "count": 0
           },
           {
            "bin_start": 1.2750108363008814,
            "bin_end": 1.28039491291445,
            "count": 1
           }
          ]
         }
        },
        {
         "name": "split4_test_score",
         "dtype": "float64",
         "stats": {
          "unique_count": 5,
          "nan_count": 0,
          "min": "1.1765572177456285",
          "max": "1.2005264347881304",
          "histogram": [
           {
            "bin_start": 1.1765572177456285,
            "bin_end": 1.1789541394498786,
            "count": 1
           },
           {
            "bin_start": 1.1789541394498786,
            "bin_end": 1.181351061154129,
            "count": 0
           },
           {
            "bin_start": 1.181351061154129,
            "bin_end": 1.183747982858379,
            "count": 0
           },
           {
            "bin_start": 1.183747982858379,
            "bin_end": 1.1861449045626293,
            "count": 0
           },
           {
            "bin_start": 1.1861449045626293,
            "bin_end": 1.1885418262668794,
            "count": 2
           },
           {
            "bin_start": 1.1885418262668794,
            "bin_end": 1.1909387479711295,
            "count": 0
           },
           {
            "bin_start": 1.1909387479711295,
            "bin_end": 1.1933356696753799,
            "count": 0
           },
           {
            "bin_start": 1.1933356696753799,
            "bin_end": 1.19573259137963,
            "count": 1
           },
           {
            "bin_start": 1.19573259137963,
            "bin_end": 1.1981295130838803,
            "count": 0
           },
           {
            "bin_start": 1.1981295130838803,
            "bin_end": 1.2005264347881304,
            "count": 1
           }
          ]
         }
        },
        {
         "name": "split5_test_score",
         "dtype": "float64",
         "stats": {
          "unique_count": 5,
          "nan_count": 0,
          "min": "1.2542979613338645",
          "max": "1.268342262217985",
          "histogram": [
           {
            "bin_start": 1.2542979613338645,
            "bin_end": 1.2557023914222765,
            "count": 1
           },
           {
            "bin_start": 1.2557023914222765,
            "bin_end": 1.2571068215106886,
            "count": 0
           },
           {
            "bin_start": 1.2571068215106886,
            "bin_end": 1.2585112515991006,
            "count": 0
           },
           {
            "bin_start": 1.2585112515991006,
            "bin_end": 1.2599156816875128,
            "count": 0
           },
           {
            "bin_start": 1.2599156816875128,
            "bin_end": 1.2613201117759247,
            "count": 0
           },
           {
            "bin_start": 1.2613201117759247,
            "bin_end": 1.2627245418643367,
            "count": 0
           },
           {
            "bin_start": 1.2627245418643367,
            "bin_end": 1.2641289719527489,
            "count": 1
           },
           {
            "bin_start": 1.2641289719527489,
            "bin_end": 1.2655334020411608,
            "count": 2
           },
           {
            "bin_start": 1.2655334020411608,
            "bin_end": 1.266937832129573,
            "count": 0
           },
           {
            "bin_start": 1.266937832129573,
            "bin_end": 1.268342262217985,
            "count": 1
           }
          ]
         }
        },
        {
         "name": "split6_test_score",
         "dtype": "float64",
         "stats": {
          "unique_count": 5,
          "nan_count": 0,
          "min": "1.1150847601431204",
          "max": "1.154746833880593",
          "histogram": [
           {
            "bin_start": 1.1150847601431204,
            "bin_end": 1.1190509675168676,
            "count": 1
           },
           {
            "bin_start": 1.1190509675168676,
            "bin_end": 1.123017174890615,
            "count": 0
           },
           {
            "bin_start": 1.123017174890615,
            "bin_end": 1.1269833822643622,
            "count": 0
           },
           {
            "bin_start": 1.1269833822643622,
            "bin_end": 1.1309495896381094,
            "count": 0
           },
           {
            "bin_start": 1.1309495896381094,
            "bin_end": 1.1349157970118569,
            "count": 1
           },
           {
            "bin_start": 1.1349157970118569,
            "bin_end": 1.138882004385604,
            "count": 0
           },
           {
            "bin_start": 1.138882004385604,
            "bin_end": 1.1428482117593513,
            "count": 2
           },
           {
            "bin_start": 1.1428482117593513,
            "bin_end": 1.1468144191330985,
            "count": 0
           },
           {
            "bin_start": 1.1468144191330985,
            "bin_end": 1.1507806265068459,
            "count": 0
           },
           {
            "bin_start": 1.1507806265068459,
            "bin_end": 1.154746833880593,
            "count": 1
           }
          ]
         }
        },
        {
         "name": "split7_test_score",
         "dtype": "float64",
         "stats": {
          "unique_count": 5,
          "nan_count": 0,
          "min": "1.0974975053108948",
          "max": "1.126393385791689",
          "histogram": [
           {
            "bin_start": 1.0974975053108948,
            "bin_end": 1.1003870933589743,
            "count": 1
           },
           {
            "bin_start": 1.1003870933589743,
            "bin_end": 1.1032766814070536,
            "count": 0
           },
           {
            "bin_start": 1.1032766814070536,
            "bin_end": 1.106166269455133,
            "count": 1
           },
           {
            "bin_start": 1.106166269455133,
            "bin_end": 1.1090558575032126,
            "count": 0
           },
           {
            "bin_start": 1.1090558575032126,
            "bin_end": 1.1119454455512918,
            "count": 1
           },
           {
            "bin_start": 1.1119454455512918,
            "bin_end": 1.1148350335993713,
            "count": 0
           },
           {
            "bin_start": 1.1148350335993713,
            "bin_end": 1.1177246216474508,
            "count": 0
           },
           {
            "bin_start": 1.1177246216474508,
            "bin_end": 1.1206142096955303,
            "count": 0
           },
           {
            "bin_start": 1.1206142096955303,
            "bin_end": 1.1235037977436095,
            "count": 0
           },
           {
            "bin_start": 1.1235037977436095,
            "bin_end": 1.126393385791689,
            "count": 2
           }
          ]
         }
        },
        {
         "name": "split8_test_score",
         "dtype": "float64",
         "stats": {
          "unique_count": 5,
          "nan_count": 0,
          "min": "1.236376174130386",
          "max": "1.2880919375561906",
          "histogram": [
           {
            "bin_start": 1.236376174130386,
            "bin_end": 1.2415477504729664,
            "count": 1
           },
           {
            "bin_start": 1.2415477504729664,
            "bin_end": 1.246719326815547,
            "count": 0
           },
           {
            "bin_start": 1.246719326815547,
            "bin_end": 1.2518909031581273,
            "count": 0
           },
           {
            "bin_start": 1.2518909031581273,
            "bin_end": 1.257062479500708,
            "count": 1
           },
           {
            "bin_start": 1.257062479500708,
            "bin_end": 1.2622340558432883,
            "count": 0
           },
           {
            "bin_start": 1.2622340558432883,
            "bin_end": 1.2674056321858687,
            "count": 1
           },
           {
            "bin_start": 1.2674056321858687,
            "bin_end": 1.2725772085284492,
            "count": 0
           },
           {
            "bin_start": 1.2725772085284492,
            "bin_end": 1.2777487848710296,
            "count": 1
           },
           {
            "bin_start": 1.2777487848710296,
            "bin_end": 1.2829203612136102,
            "count": 0
           },
           {
            "bin_start": 1.2829203612136102,
            "bin_end": 1.2880919375561906,
            "count": 1
           }
          ]
         }
        },
        {
         "name": "split9_test_score",
         "dtype": "float64",
         "stats": {
          "unique_count": 5,
          "nan_count": 0,
          "min": "1.0513415697002502",
          "max": "1.0923882536872318",
          "histogram": [
           {
            "bin_start": 1.0513415697002502,
            "bin_end": 1.0554462380989484,
            "count": 1
           },
           {
            "bin_start": 1.0554462380989484,
            "bin_end": 1.0595509064976465,
            "count": 1
           },
           {
            "bin_start": 1.0595509064976465,
            "bin_end": 1.0636555748963445,
            "count": 0
           },
           {
            "bin_start": 1.0636555748963445,
            "bin_end": 1.0677602432950428,
            "count": 1
           },
           {
            "bin_start": 1.0677602432950428,
            "bin_end": 1.071864911693741,
            "count": 0
           },
           {
            "bin_start": 1.071864911693741,
            "bin_end": 1.0759695800924391,
            "count": 1
           },
           {
            "bin_start": 1.0759695800924391,
            "bin_end": 1.0800742484911372,
            "count": 0
           },
           {
            "bin_start": 1.0800742484911372,
            "bin_end": 1.0841789168898355,
            "count": 0
           },
           {
            "bin_start": 1.0841789168898355,
            "bin_end": 1.0882835852885338,
            "count": 0
           },
           {
            "bin_start": 1.0882835852885338,
            "bin_end": 1.0923882536872318,
            "count": 1
           }
          ]
         }
        },
        {
         "name": "mean_test_score",
         "dtype": "float64",
         "stats": {
          "unique_count": 5,
          "nan_count": 0,
          "min": "1.1588858639320203",
          "max": "1.168112807620086",
          "histogram": [
           {
            "bin_start": 1.1588858639320203,
            "bin_end": 1.1598085583008269,
            "count": 1
           },
           {
            "bin_start": 1.1598085583008269,
            "bin_end": 1.1607312526696334,
            "count": 0
           },
           {
            "bin_start": 1.1607312526696334,
            "bin_end": 1.16165394703844,
            "count": 0
           },
           {
            "bin_start": 1.16165394703844,
            "bin_end": 1.1625766414072465,
            "count": 0
           },
           {
            "bin_start": 1.1625766414072465,
            "bin_end": 1.163499335776053,
            "count": 1
           },
           {
            "bin_start": 1.163499335776053,
            "bin_end": 1.1644220301448598,
            "count": 0
           },
           {
            "bin_start": 1.1644220301448598,
            "bin_end": 1.1653447245136663,
            "count": 1
           },
           {
            "bin_start": 1.1653447245136663,
            "bin_end": 1.1662674188824729,
            "count": 0
           },
           {
            "bin_start": 1.1662674188824729,
            "bin_end": 1.1671901132512794,
            "count": 0
           },
           {
            "bin_start": 1.1671901132512794,
            "bin_end": 1.168112807620086,
            "count": 2
           }
          ]
         }
        },
        {
         "name": "std_test_score",
         "dtype": "float64",
         "stats": {
          "unique_count": 5,
          "nan_count": 0,
          "min": "0.068099937905338",
          "max": "0.0842021978644794",
          "histogram": [
           {
            "bin_start": 0.068099937905338,
            "bin_end": 0.06971016390125213,
            "count": 1
           },
           {
            "bin_start": 0.06971016390125213,
            "bin_end": 0.07132038989716628,
            "count": 0
           },
           {
            "bin_start": 0.07132038989716628,
            "bin_end": 0.07293061589308042,
            "count": 0
           },
           {
            "bin_start": 0.07293061589308042,
            "bin_end": 0.07454084188899456,
            "count": 1
           },
           {
            "bin_start": 0.07454084188899456,
            "bin_end": 0.07615106788490869,
            "count": 0
           },
           {
            "bin_start": 0.07615106788490869,
            "bin_end": 0.07776129388082284,
            "count": 1
           },
           {
            "bin_start": 0.07776129388082284,
            "bin_end": 0.07937151987673698,
            "count": 1
           },
           {
            "bin_start": 0.07937151987673698,
            "bin_end": 0.08098174587265111,
            "count": 0
           },
           {
            "bin_start": 0.08098174587265111,
            "bin_end": 0.08259197186856526,
            "count": 0
           },
           {
            "bin_start": 0.08259197186856526,
            "bin_end": 0.0842021978644794,
            "count": 1
           }
          ]
         }
        },
        {
         "name": "rank_test_score",
         "dtype": "int64",
         "stats": {
          "unique_count": 5,
          "nan_count": 0,
          "min": "284",
          "max": "288",
          "histogram": [
           {
            "bin_start": 284,
            "bin_end": 284.4,
            "count": 1
           },
           {
            "bin_start": 284.4,
            "bin_end": 284.8,
            "count": 0
           },
           {
            "bin_start": 284.8,
            "bin_end": 285.2,
            "count": 1
           },
           {
            "bin_start": 285.2,
            "bin_end": 285.6,
            "count": 0
           },
           {
            "bin_start": 285.6,
            "bin_end": 286,
            "count": 0
           },
           {
            "bin_start": 286,
            "bin_end": 286.4,
            "count": 1
           },
           {
            "bin_start": 286.4,
            "bin_end": 286.8,
            "count": 0
           },
           {
            "bin_start": 286.8,
            "bin_end": 287.2,
            "count": 1
           },
           {
            "bin_start": 287.2,
            "bin_end": 287.6,
            "count": 0
           },
           {
            "bin_start": 287.6,
            "bin_end": 288,
            "count": 1
           }
          ]
         }
        },
        {
         "name": "_deepnote_index_column",
         "dtype": "int64"
        }
       ],
       "rows": [
        {
         "Unnamed: 0": 69,
         "mean_fit_time": 5.982850623130799,
         "std_fit_time": 1.046947304672262,
         "mean_score_time": 0.009160828590393,
         "std_score_time": 0.0046578443060011,
         "param_batch_size": 660,
         "param_lr": 0.029,
         "param_max_epochs": 1000,
         "param_module__activation_fun": "tanh",
         "param_module__hidden_layers": 1,
         "param_module__num_units": 42,
         "param_optimizer": "<class 'torch.optim.sgd.SGD'>",
         "param_optimizer__momentum": 0.9,
         "param_optimizer__nesterov": true,
         "param_optimizer__weight_decay": 0.01,
         "params": "{'batch_size': 660, 'lr': 0.029, 'max_epochs': 1000, 'module__activation_fun': 'tanh', 'module__hid…",
         "split0_test_score": 1.0669936935760471,
         "split1_test_score": 1.0764245276052251,
         "split2_test_score": 1.207186123734354,
         "split3_test_score": 1.2368697705293508,
         "split4_test_score": 1.1881374419295698,
         "split5_test_score": 1.2542979613338645,
         "split6_test_score": 1.1320901258211389,
         "split7_test_score": 1.0974975053108948,
         "split8_test_score": 1.2726364527317815,
         "split9_test_score": 1.0567250367479797,
         "mean_test_score": 1.1588858639320203,
         "std_test_score": 0.0784092750323419,
         "rank_test_score": 288,
         "_deepnote_index_column": 0
        },
        {
         "Unnamed: 0": 51,
         "mean_fit_time": 6.065012884140015,
         "std_fit_time": 1.2996623650940489,
         "mean_score_time": 0.0066588878631591,
         "std_score_time": 0.003748888170342,
         "param_batch_size": 660,
         "param_lr": 0.028,
         "param_max_epochs": 1000,
         "param_module__activation_fun": "tanh",
         "param_module__hidden_layers": 1,
         "param_module__num_units": 42,
         "param_optimizer": "<class 'torch.optim.sgd.SGD'>",
         "param_optimizer__momentum": 0.9,
         "param_optimizer__nesterov": true,
         "param_optimizer__weight_decay": 0.01,
         "params": "{'batch_size': 660, 'lr': 0.028, 'max_epochs': 1000, 'module__activation_fun': 'tanh', 'module__hid…",
         "split0_test_score": 1.0683231996582414,
         "split1_test_score": 1.080930666507859,
         "split2_test_score": 1.2075109840895897,
         "split3_test_score": 1.2401896005958544,
         "split4_test_score": 1.1935739177174138,
         "split5_test_score": 1.2631463137336243,
         "split6_test_score": 1.1405385916954591,
         "split7_test_score": 1.1105467941527976,
         "split8_test_score": 1.256756548930828,
         "split9_test_score": 1.0734156568845112,
         "mean_test_score": 1.163493227396618,
         "std_test_score": 0.0739402790767456,
         "rank_test_score": 287,
         "_deepnote_index_column": 1
        },
        {
         "Unnamed: 0": 70,
         "mean_fit_time": 5.702570557594299,
         "std_fit_time": 1.201309411951139,
         "mean_score_time": 0.0094091176986694,
         "std_score_time": 0.0086729939860133,
         "param_batch_size": 660,
         "param_lr": 0.029,
         "param_max_epochs": 1000,
         "param_module__activation_fun": "tanh",
         "param_module__hidden_layers": 1,
         "param_module__num_units": 42,
         "param_optimizer": "<class 'torch.optim.sgd.SGD'>",
         "param_optimizer__momentum": 0.9,
         "param_optimizer__nesterov": true,
         "param_optimizer__weight_decay": 0.0115,
         "params": "{'batch_size': 660, 'lr': 0.029, 'max_epochs': 1000, 'module__activation_fun': 'tanh', 'module__hid…",
         "split0_test_score": 1.1031009401369811,
         "split1_test_score": 1.085599775152995,
         "split2_test_score": 1.2053598044230078,
         "split3_test_score": 1.2265541467787628,
         "split4_test_score": 1.1873840414323753,
         "split5_test_score": 1.264649143680594,
         "split6_test_score": 1.1150847601431204,
         "split7_test_score": 1.1257931538962556,
         "split8_test_score": 1.2880919375561906,
         "split9_test_score": 1.0513415697002502,
         "mean_test_score": 1.1652959272900534,
         "std_test_score": 0.0762118162457962,
         "rank_test_score": 286,
         "_deepnote_index_column": 2
        },
        {
         "Unnamed: 0": 21,
         "mean_fit_time": 6.068443727493286,
         "std_fit_time": 1.0466212115439169,
         "mean_score_time": 0.0063120365142822,
         "std_score_time": 0.0037386037130558,
         "param_batch_size": 660,
         "param_lr": 0.0273,
         "param_max_epochs": 1000,
         "param_module__activation_fun": "tanh",
         "param_module__hidden_layers": 1,
         "param_module__num_units": 38,
         "param_optimizer": "<class 'torch.optim.sgd.SGD'>",
         "param_optimizer__momentum": 0.9,
         "param_optimizer__nesterov": true,
         "param_optimizer__weight_decay": 0.01,
         "params": "{'batch_size': 660, 'lr': 0.0273, 'max_epochs': 1000, 'module__activation_fun': 'tanh', 'module__hi…",
         "split0_test_score": 1.0698230984739792,
         "split1_test_score": 1.0581740192452769,
         "split2_test_score": 1.2117460554927812,
         "split3_test_score": 1.28039491291445,
         "split4_test_score": 1.2005264347881304,
         "split5_test_score": 1.268342262217985,
         "split6_test_score": 1.154746833880593,
         "split7_test_score": 1.104999588228258,
         "split8_test_score": 1.2634247412582986,
         "split9_test_score": 1.0666277062034968,
         "mean_test_score": 1.1678805652703248,
         "std_test_score": 0.0842021978644794,
         "rank_test_score": 285,
         "_deepnote_index_column": 3
        },
        {
         "Unnamed: 0": 33,
         "mean_fit_time": 5.816689300537109,
         "std_fit_time": 0.7337408273933639,
         "mean_score_time": 0.0088208675384521,
         "std_score_time": 0.00498730421663,
         "param_batch_size": 660,
         "param_lr": 0.0273,
         "param_max_epochs": 1000,
         "param_module__activation_fun": "tanh",
         "param_module__hidden_layers": 1,
         "param_module__num_units": 42,
         "param_optimizer": "<class 'torch.optim.sgd.SGD'>",
         "param_optimizer__momentum": 0.9,
         "param_optimizer__nesterov": true,
         "param_optimizer__weight_decay": 0.01,
         "params": "{'batch_size': 660, 'lr': 0.0273, 'max_epochs': 1000, 'module__activation_fun': 'tanh', 'module__hi…",
         "split0_test_score": 1.0936458026220028,
         "split1_test_score": 1.0770943625865126,
         "split2_test_score": 1.219562470016623,
         "split3_test_score": 1.2540999721539647,
         "split4_test_score": 1.1765572177456285,
         "split5_test_score": 1.2654888422081343,
         "split6_test_score": 1.139521595258686,
         "split7_test_score": 1.126393385791689,
         "split8_test_score": 1.236376174130386,
         "split9_test_score": 1.0923882536872318,
         "mean_test_score": 1.168112807620086,
         "std_test_score": 0.068099937905338,
         "rank_test_score": 284,
         "_deepnote_index_column": 4
        }
       ]
      },
      "text/plain": "   Unnamed: 0  mean_fit_time  std_fit_time  mean_score_time  std_score_time  \\\n0          69       5.982851      1.046947         0.009161        0.004658   \n1          51       6.065013      1.299662         0.006659        0.003749   \n2          70       5.702571      1.201309         0.009409        0.008673   \n3          21       6.068444      1.046621         0.006312        0.003739   \n4          33       5.816689      0.733741         0.008821        0.004987   \n\n   param_batch_size  param_lr  param_max_epochs param_module__activation_fun  \\\n0               660    0.0290              1000                         tanh   \n1               660    0.0280              1000                         tanh   \n2               660    0.0290              1000                         tanh   \n3               660    0.0273              1000                         tanh   \n4               660    0.0273              1000                         tanh   \n\n   param_module__hidden_layers  ...  split3_test_score split4_test_score  \\\n0                            1  ...           1.236870          1.188137   \n1                            1  ...           1.240190          1.193574   \n2                            1  ...           1.226554          1.187384   \n3                            1  ...           1.280395          1.200526   \n4                            1  ...           1.254100          1.176557   \n\n   split5_test_score  split6_test_score  split7_test_score split8_test_score  \\\n0           1.254298           1.132090           1.097498          1.272636   \n1           1.263146           1.140539           1.110547          1.256757   \n2           1.264649           1.115085           1.125793          1.288092   \n3           1.268342           1.154747           1.105000          1.263425   \n4           1.265489           1.139522           1.126393          1.236376   \n\n   split9_test_score  mean_test_score  std_test_score  rank_test_score  \n0           1.056725         1.158886        0.078409              288  \n1           1.073416         1.163493        0.073940              287  \n2           1.051342         1.165296        0.076212              286  \n3           1.066628         1.167881        0.084202              285  \n4           1.092388         1.168113        0.068100              284  \n\n[5 rows x 29 columns]",
      "text/html": "<div>\n<style scoped>\n    .dataframe tbody tr th:only-of-type {\n        vertical-align: middle;\n    }\n\n    .dataframe tbody tr th {\n        vertical-align: top;\n    }\n\n    .dataframe thead th {\n        text-align: right;\n    }\n</style>\n<table border=\"1\" class=\"dataframe\">\n  <thead>\n    <tr style=\"text-align: right;\">\n      <th></th>\n      <th>Unnamed: 0</th>\n      <th>mean_fit_time</th>\n      <th>std_fit_time</th>\n      <th>mean_score_time</th>\n      <th>std_score_time</th>\n      <th>param_batch_size</th>\n      <th>param_lr</th>\n      <th>param_max_epochs</th>\n      <th>param_module__activation_fun</th>\n      <th>param_module__hidden_layers</th>\n      <th>...</th>\n      <th>split3_test_score</th>\n      <th>split4_test_score</th>\n      <th>split5_test_score</th>\n      <th>split6_test_score</th>\n      <th>split7_test_score</th>\n      <th>split8_test_score</th>\n      <th>split9_test_score</th>\n      <th>mean_test_score</th>\n      <th>std_test_score</th>\n      <th>rank_test_score</th>\n    </tr>\n  </thead>\n  <tbody>\n    <tr>\n      <th>0</th>\n      <td>69</td>\n      <td>5.982851</td>\n      <td>1.046947</td>\n      <td>0.009161</td>\n      <td>0.004658</td>\n      <td>660</td>\n      <td>0.0290</td>\n      <td>1000</td>\n      <td>tanh</td>\n      <td>1</td>\n      <td>...</td>\n      <td>1.236870</td>\n      <td>1.188137</td>\n      <td>1.254298</td>\n      <td>1.132090</td>\n      <td>1.097498</td>\n      <td>1.272636</td>\n      <td>1.056725</td>\n      <td>1.158886</td>\n      <td>0.078409</td>\n      <td>288</td>\n    </tr>\n    <tr>\n      <th>1</th>\n      <td>51</td>\n      <td>6.065013</td>\n      <td>1.299662</td>\n      <td>0.006659</td>\n      <td>0.003749</td>\n      <td>660</td>\n      <td>0.0280</td>\n      <td>1000</td>\n      <td>tanh</td>\n      <td>1</td>\n      <td>...</td>\n      <td>1.240190</td>\n      <td>1.193574</td>\n      <td>1.263146</td>\n      <td>1.140539</td>\n      <td>1.110547</td>\n      <td>1.256757</td>\n      <td>1.073416</td>\n      <td>1.163493</td>\n      <td>0.073940</td>\n      <td>287</td>\n    </tr>\n    <tr>\n      <th>2</th>\n      <td>70</td>\n      <td>5.702571</td>\n      <td>1.201309</td>\n      <td>0.009409</td>\n      <td>0.008673</td>\n      <td>660</td>\n      <td>0.0290</td>\n      <td>1000</td>\n      <td>tanh</td>\n      <td>1</td>\n      <td>...</td>\n      <td>1.226554</td>\n      <td>1.187384</td>\n      <td>1.264649</td>\n      <td>1.115085</td>\n      <td>1.125793</td>\n      <td>1.288092</td>\n      <td>1.051342</td>\n      <td>1.165296</td>\n      <td>0.076212</td>\n      <td>286</td>\n    </tr>\n    <tr>\n      <th>3</th>\n      <td>21</td>\n      <td>6.068444</td>\n      <td>1.046621</td>\n      <td>0.006312</td>\n      <td>0.003739</td>\n      <td>660</td>\n      <td>0.0273</td>\n      <td>1000</td>\n      <td>tanh</td>\n      <td>1</td>\n      <td>...</td>\n      <td>1.280395</td>\n      <td>1.200526</td>\n      <td>1.268342</td>\n      <td>1.154747</td>\n      <td>1.105000</td>\n      <td>1.263425</td>\n      <td>1.066628</td>\n      <td>1.167881</td>\n      <td>0.084202</td>\n      <td>285</td>\n    </tr>\n    <tr>\n      <th>4</th>\n      <td>33</td>\n      <td>5.816689</td>\n      <td>0.733741</td>\n      <td>0.008821</td>\n      <td>0.004987</td>\n      <td>660</td>\n      <td>0.0273</td>\n      <td>1000</td>\n      <td>tanh</td>\n      <td>1</td>\n      <td>...</td>\n      <td>1.254100</td>\n      <td>1.176557</td>\n      <td>1.265489</td>\n      <td>1.139522</td>\n      <td>1.126393</td>\n      <td>1.236376</td>\n      <td>1.092388</td>\n      <td>1.168113</td>\n      <td>0.068100</td>\n      <td>284</td>\n    </tr>\n  </tbody>\n</table>\n<p>5 rows × 29 columns</p>\n</div>"
     },
     "metadata": {}
    }
   ]
  },
  {
   "cell_type": "code",
   "metadata": {
    "cell_id": "00036-0ea2098c-908a-471d-96ea-16015bf6d6d9",
    "deepnote_to_be_reexecuted": true,
    "execution_millis": 190,
    "execution_start": 1642897680479,
    "output_cleared": false,
    "source_hash": "2dfebc36",
    "deepnote_cell_type": "code"
   },
   "source": "best_models = list() #list of the top ten models of the final randomized search\neval_best_models = list()\n\nfor i in range(10):\n    ### GET HYPERPARAMETERS AND FIX DICTIONARY\n    best_params_i = df_results['params'][i]\n    first_part = str(best_params_i.split(\"'optimizer': <class 'torch.optim.sgd.SGD'>, \", 1)[0]) #manually remove the optimizer parameter\n    second_part = str(best_params_i.split(\"'optimizer': <class 'torch.optim.sgd.SGD'>, \", 1)[1])\n    best_params_i = first_part+second_part\n    best_params_i = ast.literal_eval(best_params_i)\n\n    print(best_params_i)\n    ### SET HYPERPARAMETERS ###\n    HIDDEN_LAYERS = best_params_i['module__hidden_layers']\n    NUM_UNITS = best_params_i['module__num_units']\n    ACTIVATION_FUN = best_params_i['module__activation_fun']\n    OPTIMIZER = 'SGD'\n    LR = best_params_i['lr']\n    WEIGHT_DECAY = best_params_i['optimizer__weight_decay']\n    BATCH = best_params_i['batch_size']\n    MAX_EPOCHS = best_params_i['max_epochs']\n    NESTEROV = best_params_i['optimizer__nesterov']\n    MOMENTUM = best_params_i['optimizer__momentum']\n\n    ### DEFINE MODULES AND MODELS ###\n    module_i = MyModule(NUM_UNITS, ACTIVATION_FUN, HIDDEN_LAYERS)\n    eval_module_i = MyModule(NUM_UNITS, ACTIVATION_FUN, HIDDEN_LAYERS)\n\n    model_i = NeuralNetRegressor(\n        module = module_i,\n        criterion=nn.MSELoss,\n        max_epochs=MAX_EPOCHS,\n        lr=LR,\n        batch_size=BATCH,\n        optimizer=torch.optim.SGD,\n        optimizer__momentum=MOMENTUM,\n        callbacks=[('early_stoppping', EarlyStopping(monitor='valid_loss', patience=PATIENCE, threshold=THRESHOLD))],\n    )\n\n    eval_model_i = NeuralNetRegressor(\n        module = eval_module_i,\n        criterion=nn.MSELoss,\n        max_epochs=MAX_EPOCHS,\n        lr=LR,\n        batch_size=BATCH,\n        optimizer=torch.optim.SGD,\n        optimizer__momentum=MOMENTUM,\n    )\n\n    best_models.append(model_i)\n    eval_best_models.append(eval_model_i)",
   "execution_count": null,
   "outputs": [
    {
     "name": "stdout",
     "text": "{'batch_size': 660, 'lr': 0.029, 'max_epochs': 1000, 'module__activation_fun': 'tanh', 'module__hidden_layers': 1, 'module__num_units': 42, 'optimizer__momentum': 0.9, 'optimizer__nesterov': True, 'optimizer__weight_decay': 0.01}\n{'batch_size': 660, 'lr': 0.028, 'max_epochs': 1000, 'module__activation_fun': 'tanh', 'module__hidden_layers': 1, 'module__num_units': 42, 'optimizer__momentum': 0.9, 'optimizer__nesterov': True, 'optimizer__weight_decay': 0.01}\n{'batch_size': 660, 'lr': 0.029, 'max_epochs': 1000, 'module__activation_fun': 'tanh', 'module__hidden_layers': 1, 'module__num_units': 42, 'optimizer__momentum': 0.9, 'optimizer__nesterov': True, 'optimizer__weight_decay': 0.0115}\n{'batch_size': 660, 'lr': 0.0273, 'max_epochs': 1000, 'module__activation_fun': 'tanh', 'module__hidden_layers': 1, 'module__num_units': 38, 'optimizer__momentum': 0.9, 'optimizer__nesterov': True, 'optimizer__weight_decay': 0.01}\n{'batch_size': 660, 'lr': 0.0273, 'max_epochs': 1000, 'module__activation_fun': 'tanh', 'module__hidden_layers': 1, 'module__num_units': 42, 'optimizer__momentum': 0.9, 'optimizer__nesterov': True, 'optimizer__weight_decay': 0.01}\n{'batch_size': 660, 'lr': 0.0273, 'max_epochs': 1000, 'module__activation_fun': 'tanh', 'module__hidden_layers': 1, 'module__num_units': 40, 'optimizer__momentum': 0.9, 'optimizer__nesterov': True, 'optimizer__weight_decay': 0.0115}\n{'batch_size': 688, 'lr': 0.028, 'max_epochs': 1000, 'module__activation_fun': 'tanh', 'module__hidden_layers': 1, 'module__num_units': 42, 'optimizer__momentum': 0.9, 'optimizer__nesterov': True, 'optimizer__weight_decay': 0.01}\n{'batch_size': 720, 'lr': 0.029, 'max_epochs': 1000, 'module__activation_fun': 'tanh', 'module__hidden_layers': 1, 'module__num_units': 42, 'optimizer__momentum': 0.9, 'optimizer__nesterov': True, 'optimizer__weight_decay': 0.01}\n{'batch_size': 688, 'lr': 0.029, 'max_epochs': 1000, 'module__activation_fun': 'tanh', 'module__hidden_layers': 1, 'module__num_units': 40, 'optimizer__momentum': 0.9, 'optimizer__nesterov': True, 'optimizer__weight_decay': 0.01}\n{'batch_size': 660, 'lr': 0.0273, 'max_epochs': 1000, 'module__activation_fun': 'tanh', 'module__hidden_layers': 1, 'module__num_units': 42, 'optimizer__momentum': 0.9, 'optimizer__nesterov': True, 'optimizer__weight_decay': 0.0115}\n",
     "output_type": "stream"
    }
   ]
  },
  {
   "cell_type": "code",
   "metadata": {
    "cell_id": "00063-4e9e8339-09fe-43e2-b61e-7212549c3846",
    "deepnote_to_be_reexecuted": true,
    "execution_millis": 273010,
    "execution_start": 1642897680657,
    "output_cleared": false,
    "source_hash": "88d9139b",
    "deepnote_cell_type": "code"
   },
   "source": "#Wall time: 1min 6s (Michele)\nepochs_best_models = list()\n\n#fit every model\nfor model in best_models:\n    model.fit(X,y)\n    EPOCHS = len(model.history)\n    epochs_best_models.append(EPOCHS)\n",
   "execution_count": null,
   "outputs": [
    {
     "name": "stdout",
     "text": "    129        \u001b[36m0.9900\u001b[0m        \u001b[32m0.9428\u001b[0m  0.0305\n    130        \u001b[36m0.9886\u001b[0m        \u001b[32m0.9423\u001b[0m  0.0340\n    131        \u001b[36m0.9873\u001b[0m        \u001b[32m0.9417\u001b[0m  0.2004\n    132        \u001b[36m0.9860\u001b[0m        \u001b[32m0.9412\u001b[0m  0.1050\n    133        \u001b[36m0.9847\u001b[0m        \u001b[32m0.9407\u001b[0m  0.2887\n    134        \u001b[36m0.9834\u001b[0m        \u001b[32m0.9402\u001b[0m  0.2031\n    135        \u001b[36m0.9821\u001b[0m        \u001b[32m0.9397\u001b[0m  0.1960\n    136        \u001b[36m0.9808\u001b[0m        \u001b[32m0.9393\u001b[0m  0.2747\n    137        \u001b[36m0.9796\u001b[0m        \u001b[32m0.9388\u001b[0m  0.2058\n    138        \u001b[36m0.9784\u001b[0m        \u001b[32m0.9383\u001b[0m  0.2063\n    139        \u001b[36m0.9772\u001b[0m        \u001b[32m0.9379\u001b[0m  0.2020\n    140        \u001b[36m0.9759\u001b[0m        \u001b[32m0.9375\u001b[0m  0.1095\n    141        \u001b[36m0.9747\u001b[0m        \u001b[32m0.9370\u001b[0m  0.1908\n    142        \u001b[36m0.9736\u001b[0m        \u001b[32m0.9366\u001b[0m  0.2066\n    143        \u001b[36m0.9724\u001b[0m        \u001b[32m0.9362\u001b[0m  0.2002\n    144        \u001b[36m0.9712\u001b[0m        \u001b[32m0.9358\u001b[0m  0.2052\n    145        \u001b[36m0.9701\u001b[0m        \u001b[32m0.9354\u001b[0m  0.1003\n    146        \u001b[36m0.9689\u001b[0m        \u001b[32m0.9350\u001b[0m  0.1202\n    147        \u001b[36m0.9678\u001b[0m        \u001b[32m0.9346\u001b[0m  0.0918\n    148        \u001b[36m0.9666\u001b[0m        \u001b[32m0.9342\u001b[0m  0.1958\n    149        \u001b[36m0.9655\u001b[0m        \u001b[32m0.9338\u001b[0m  0.2847\n    150        \u001b[36m0.9644\u001b[0m        \u001b[32m0.9335\u001b[0m  0.1280\n    151        \u001b[36m0.9633\u001b[0m        \u001b[32m0.9331\u001b[0m  0.2010\n    152        \u001b[36m0.9622\u001b[0m        \u001b[32m0.9327\u001b[0m  0.2049\n    153        \u001b[36m0.9611\u001b[0m        \u001b[32m0.9324\u001b[0m  0.2015\n    154        \u001b[36m0.9600\u001b[0m        \u001b[32m0.9320\u001b[0m  0.2783\n    155        \u001b[36m0.9589\u001b[0m        \u001b[32m0.9317\u001b[0m  0.1225\n    156        \u001b[36m0.9578\u001b[0m        \u001b[32m0.9313\u001b[0m  0.1994\n    157        \u001b[36m0.9568\u001b[0m        \u001b[32m0.9310\u001b[0m  0.1970\n    158        \u001b[36m0.9557\u001b[0m        \u001b[32m0.9306\u001b[0m  0.2798\n    159        \u001b[36m0.9546\u001b[0m        \u001b[32m0.9303\u001b[0m  0.0988\n    160        \u001b[36m0.9536\u001b[0m        \u001b[32m0.9299\u001b[0m  0.1209\n    161        \u001b[36m0.9525\u001b[0m        \u001b[32m0.9296\u001b[0m  0.1202\n    162        \u001b[36m0.9515\u001b[0m        \u001b[32m0.9293\u001b[0m  0.0864\n    163        \u001b[36m0.9504\u001b[0m        \u001b[32m0.9289\u001b[0m  0.1849\n    164        \u001b[36m0.9494\u001b[0m        \u001b[32m0.9286\u001b[0m  0.1169\n    165        \u001b[36m0.9484\u001b[0m        \u001b[32m0.9283\u001b[0m  0.0326\n    166        \u001b[36m0.9473\u001b[0m        \u001b[32m0.9280\u001b[0m  0.1078\n    167        \u001b[36m0.9463\u001b[0m        \u001b[32m0.9277\u001b[0m  0.1153\n    168        \u001b[36m0.9453\u001b[0m        \u001b[32m0.9274\u001b[0m  0.1059\n    169        \u001b[36m0.9443\u001b[0m        \u001b[32m0.9271\u001b[0m  0.1072\n    170        \u001b[36m0.9433\u001b[0m        \u001b[32m0.9268\u001b[0m  0.0781\n    171        \u001b[36m0.9423\u001b[0m        \u001b[32m0.9265\u001b[0m  0.0924\n    172        \u001b[36m0.9413\u001b[0m        \u001b[32m0.9262\u001b[0m  0.0878\n    173        \u001b[36m0.9403\u001b[0m        \u001b[32m0.9259\u001b[0m  0.0255\n    174        \u001b[36m0.9393\u001b[0m        \u001b[32m0.9257\u001b[0m  0.1011\n    175        \u001b[36m0.9383\u001b[0m        \u001b[32m0.9254\u001b[0m  0.1285\n    176        \u001b[36m0.9374\u001b[0m        \u001b[32m0.9252\u001b[0m  0.2101\n    177        \u001b[36m0.9364\u001b[0m        \u001b[32m0.9249\u001b[0m  0.2868\n    178        \u001b[36m0.9355\u001b[0m        \u001b[32m0.9247\u001b[0m  0.1247\n    179        \u001b[36m0.9345\u001b[0m        \u001b[32m0.9245\u001b[0m  0.2662\n    180        \u001b[36m0.9336\u001b[0m        \u001b[32m0.9243\u001b[0m  0.1206\n    181        \u001b[36m0.9327\u001b[0m        \u001b[32m0.9241\u001b[0m  0.2045\n    182        \u001b[36m0.9317\u001b[0m        \u001b[32m0.9239\u001b[0m  0.1937\n    183        \u001b[36m0.9308\u001b[0m        \u001b[32m0.9237\u001b[0m  0.2125\n    184        \u001b[36m0.9299\u001b[0m        \u001b[32m0.9236\u001b[0m  0.2738\n    185        \u001b[36m0.9290\u001b[0m        \u001b[32m0.9234\u001b[0m  0.1951\n    186        \u001b[36m0.9282\u001b[0m        \u001b[32m0.9233\u001b[0m  0.2055\n    187        \u001b[36m0.9273\u001b[0m        \u001b[32m0.9232\u001b[0m  0.2064\n    188        \u001b[36m0.9264\u001b[0m        \u001b[32m0.9230\u001b[0m  0.1321\n    189        \u001b[36m0.9256\u001b[0m        \u001b[32m0.9229\u001b[0m  0.1241\n    190        \u001b[36m0.9247\u001b[0m        \u001b[32m0.9229\u001b[0m  0.1965\n    191        \u001b[36m0.9239\u001b[0m        \u001b[32m0.9228\u001b[0m  0.1344\n    192        \u001b[36m0.9231\u001b[0m        \u001b[32m0.9227\u001b[0m  0.2197\n    193        \u001b[36m0.9223\u001b[0m        \u001b[32m0.9226\u001b[0m  0.1279\n    194        \u001b[36m0.9215\u001b[0m        \u001b[32m0.9226\u001b[0m  0.1234\n    195        \u001b[36m0.9207\u001b[0m        \u001b[32m0.9226\u001b[0m  0.1715\n    196        \u001b[36m0.9199\u001b[0m        \u001b[32m0.9225\u001b[0m  0.1047\n    197        \u001b[36m0.9191\u001b[0m        \u001b[32m0.9225\u001b[0m  0.2068\n    198        \u001b[36m0.9183\u001b[0m        \u001b[32m0.9225\u001b[0m  0.1952\n    199        \u001b[36m0.9176\u001b[0m        \u001b[32m0.9225\u001b[0m  0.0879\n    200        \u001b[36m0.9168\u001b[0m        0.9225  0.1193\n    201        \u001b[36m0.9161\u001b[0m        0.9225  0.1154\nStopping since valid_loss has not improved in the last 20 epochs.\n  epoch    train_loss    valid_loss     dur\n-------  ------------  ------------  ------\n      1      \u001b[36m223.0294\u001b[0m      \u001b[32m160.1757\u001b[0m  0.1046\n      2      \u001b[36m118.4559\u001b[0m       \u001b[32m13.5972\u001b[0m  0.1867\n      3       \u001b[36m28.1230\u001b[0m       66.1879  0.1715\n      4       49.4118       14.9764  0.1041\n      5       \u001b[36m15.4904\u001b[0m       15.4558  0.1082\n      6       \u001b[36m11.8633\u001b[0m        \u001b[32m5.9755\u001b[0m  0.1273\n      7        \u001b[36m6.9088\u001b[0m        7.8384  0.1181\n      8        7.4875        \u001b[32m3.3096\u001b[0m  0.1171\n      9        \u001b[36m3.4957\u001b[0m        3.6003  0.1182\n     10        4.2336        3.8952  0.0813\n     11        3.6322        \u001b[32m2.2810\u001b[0m  0.1114\n     12        \u001b[36m2.2976\u001b[0m        \u001b[32m2.2765\u001b[0m  0.1189\n     13        2.7760        2.6409  0.1858\n     14        2.7939        \u001b[32m1.6801\u001b[0m  0.1123\n     15        \u001b[36m1.9826\u001b[0m        1.7810  0.1896\n     16        2.0127        1.7544  0.1313\n     17        \u001b[36m1.9418\u001b[0m        \u001b[32m1.3583\u001b[0m  0.1212\n     18        \u001b[36m1.6218\u001b[0m        1.4923  0.1121\n     19        1.7679        1.4045  0.1964\n     20        1.6372        \u001b[32m1.1665\u001b[0m  0.1130\n     21        \u001b[36m1.4548\u001b[0m        1.2300  0.1117\n     22        1.5093        1.2834  0.1285\n     23        1.5013        \u001b[32m1.1140\u001b[0m  0.1037\n     24        \u001b[36m1.3867\u001b[0m        \u001b[32m1.0921\u001b[0m  0.1301\n     25        \u001b[36m1.3770\u001b[0m        1.1133  0.1798\n     26        \u001b[36m1.3566\u001b[0m        \u001b[32m1.0731\u001b[0m  0.1083\n     27        \u001b[36m1.3122\u001b[0m        \u001b[32m1.0651\u001b[0m  0.1159\n     28        1.3203        \u001b[32m1.0488\u001b[0m  0.0940\n     29        \u001b[36m1.2928\u001b[0m        \u001b[32m1.0165\u001b[0m  0.0919\n     30        \u001b[36m1.2602\u001b[0m        \u001b[32m1.0038\u001b[0m  0.1950\n     31        \u001b[36m1.2565\u001b[0m        \u001b[32m0.9949\u001b[0m  0.1024\n     32        \u001b[36m1.2458\u001b[0m        \u001b[32m0.9849\u001b[0m  0.0221\n     33        \u001b[36m1.2268\u001b[0m        0.9865  0.1206\n     34        \u001b[36m1.2220\u001b[0m        \u001b[32m0.9728\u001b[0m  0.1883\n     35        \u001b[36m1.2107\u001b[0m        \u001b[32m0.9661\u001b[0m  0.0896\n     36        \u001b[36m1.1978\u001b[0m        0.9767  0.0995\n     37        \u001b[36m1.1967\u001b[0m        0.9716  0.0384\n     38        \u001b[36m1.1895\u001b[0m        \u001b[32m0.9584\u001b[0m  0.1108\n     39        \u001b[36m1.1789\u001b[0m        \u001b[32m0.9574\u001b[0m  0.2879\n     40        \u001b[36m1.1739\u001b[0m        \u001b[32m0.9562\u001b[0m  0.1164\n     41        \u001b[36m1.1697\u001b[0m        \u001b[32m0.9474\u001b[0m  0.2121\n     42        \u001b[36m1.1632\u001b[0m        \u001b[32m0.9453\u001b[0m  0.2010\n     43        \u001b[36m1.1580\u001b[0m        0.9480  0.2010\n     44        \u001b[36m1.1536\u001b[0m        0.9459  0.3059\n     45        \u001b[36m1.1490\u001b[0m        \u001b[32m0.9434\u001b[0m  0.2856\n     46        \u001b[36m1.1453\u001b[0m        0.9442  0.2984\n     47        \u001b[36m1.1415\u001b[0m        \u001b[32m0.9433\u001b[0m  0.1772\n     48        \u001b[36m1.1376\u001b[0m        \u001b[32m0.9394\u001b[0m  0.0272\n     49        \u001b[36m1.1337\u001b[0m        \u001b[32m0.9372\u001b[0m  0.0331\n     50        \u001b[36m1.1300\u001b[0m        \u001b[32m0.9371\u001b[0m  0.1196\n     51        \u001b[36m1.1269\u001b[0m        \u001b[32m0.9358\u001b[0m  0.0913\n     52        \u001b[36m1.1240\u001b[0m        \u001b[32m0.9336\u001b[0m  0.0955\n     53        \u001b[36m1.1207\u001b[0m        \u001b[32m0.9333\u001b[0m  0.0863\n     54        \u001b[36m1.1175\u001b[0m        0.9335  0.0898\n     55        \u001b[36m1.1147\u001b[0m        \u001b[32m0.9324\u001b[0m  0.2036\n     56        \u001b[36m1.1119\u001b[0m        \u001b[32m0.9318\u001b[0m  0.0298\n     57        \u001b[36m1.1091\u001b[0m        \u001b[32m0.9318\u001b[0m  0.1430\n     58        \u001b[36m1.1066\u001b[0m        \u001b[32m0.9308\u001b[0m  0.2095\n     59        \u001b[36m1.1040\u001b[0m        \u001b[32m0.9294\u001b[0m  0.1890\n     60        \u001b[36m1.1013\u001b[0m        \u001b[32m0.9289\u001b[0m  0.4240\n     61        \u001b[36m1.0988\u001b[0m        \u001b[32m0.9288\u001b[0m  0.0338\n     62        \u001b[36m1.0965\u001b[0m        \u001b[32m0.9282\u001b[0m  0.2022\n     63        \u001b[36m1.0942\u001b[0m        \u001b[32m0.9279\u001b[0m  0.2929\n     64        \u001b[36m1.0919\u001b[0m        0.9279  0.1974\n     65        \u001b[36m1.0897\u001b[0m        \u001b[32m0.9276\u001b[0m  0.1937\n     66        \u001b[36m1.0875\u001b[0m        \u001b[32m0.9270\u001b[0m  0.2011\n     67        \u001b[36m1.0854\u001b[0m        \u001b[32m0.9268\u001b[0m  0.2708\n     68        \u001b[36m1.0833\u001b[0m        \u001b[32m0.9265\u001b[0m  0.2790\n     69        \u001b[36m1.0813\u001b[0m        \u001b[32m0.9261\u001b[0m  0.2033\n     70        \u001b[36m1.0793\u001b[0m        \u001b[32m0.9257\u001b[0m  0.2090\n     71        \u001b[36m1.0773\u001b[0m        \u001b[32m0.9255\u001b[0m  0.2010\n     72        \u001b[36m1.0754\u001b[0m        \u001b[32m0.9252\u001b[0m  0.2004\n     73        \u001b[36m1.0735\u001b[0m        \u001b[32m0.9250\u001b[0m  0.2064\n     74        \u001b[36m1.0716\u001b[0m        \u001b[32m0.9249\u001b[0m  0.1342\n     75        \u001b[36m1.0698\u001b[0m        \u001b[32m0.9248\u001b[0m  0.2238\n     76        \u001b[36m1.0680\u001b[0m        \u001b[32m0.9246\u001b[0m  0.3101\n     77        \u001b[36m1.0663\u001b[0m        \u001b[32m0.9243\u001b[0m  0.2991\n     78        \u001b[36m1.0645\u001b[0m        \u001b[32m0.9242\u001b[0m  0.1954\n     79        \u001b[36m1.0629\u001b[0m        \u001b[32m0.9240\u001b[0m  0.1809\n     80        \u001b[36m1.0612\u001b[0m        \u001b[32m0.9238\u001b[0m  0.1211\n     81        \u001b[36m1.0596\u001b[0m        \u001b[32m0.9237\u001b[0m  0.1160\n     82        \u001b[36m1.0579\u001b[0m        \u001b[32m0.9236\u001b[0m  0.0309\n     83        \u001b[36m1.0564\u001b[0m        \u001b[32m0.9234\u001b[0m  0.1262\n     84        \u001b[36m1.0548\u001b[0m        \u001b[32m0.9233\u001b[0m  0.1064\n     85        \u001b[36m1.0533\u001b[0m        \u001b[32m0.9232\u001b[0m  0.0258\n     86        \u001b[36m1.0518\u001b[0m        \u001b[32m0.9231\u001b[0m  0.2077\n     87        \u001b[36m1.0503\u001b[0m        \u001b[32m0.9230\u001b[0m  0.0361\n     88        \u001b[36m1.0488\u001b[0m        \u001b[32m0.9228\u001b[0m  0.1104\n     89        \u001b[36m1.0474\u001b[0m        \u001b[32m0.9227\u001b[0m  0.2829\n     90        \u001b[36m1.0459\u001b[0m        \u001b[32m0.9226\u001b[0m  0.0930\n     91        \u001b[36m1.0445\u001b[0m        \u001b[32m0.9225\u001b[0m  0.1002\n     92        \u001b[36m1.0432\u001b[0m        \u001b[32m0.9224\u001b[0m  0.1766\n     93        \u001b[36m1.0418\u001b[0m        \u001b[32m0.9223\u001b[0m  0.0977\n     94        \u001b[36m1.0405\u001b[0m        \u001b[32m0.9222\u001b[0m  0.1930\n     95        \u001b[36m1.0392\u001b[0m        \u001b[32m0.9220\u001b[0m  0.1873\n     96        \u001b[36m1.0379\u001b[0m        \u001b[32m0.9219\u001b[0m  0.0918\n     97        \u001b[36m1.0366\u001b[0m        \u001b[32m0.9218\u001b[0m  0.0896\nStopping since valid_loss has not improved in the last 20 epochs.\n  epoch    train_loss    valid_loss     dur\n-------  ------------  ------------  ------\n      1      \u001b[36m224.6951\u001b[0m      \u001b[32m160.6479\u001b[0m  0.0315\n      2      \u001b[36m120.7601\u001b[0m       \u001b[32m13.3810\u001b[0m  0.2012\n      3       \u001b[36m33.8834\u001b[0m       58.6137  0.1237\n      4       45.6022       21.1746  0.1932\n      5       \u001b[36m20.9349\u001b[0m       13.4178  0.2153\n      6       \u001b[36m11.5853\u001b[0m        \u001b[32m5.8236\u001b[0m  0.2084\n      7        \u001b[36m6.7084\u001b[0m        8.5479  0.2025\n      8        8.2443        \u001b[32m3.6619\u001b[0m  0.2002\n      9        \u001b[36m4.1266\u001b[0m        3.7110  0.2676\n     10        \u001b[36m3.8889\u001b[0m        3.7482  0.1955\n     11        \u001b[36m3.5625\u001b[0m        \u001b[32m2.6512\u001b[0m  0.2075\n     12        \u001b[36m2.5949\u001b[0m        \u001b[32m2.1270\u001b[0m  0.1852\n     13        2.6344        2.4290  0.1330\n     14        2.7661        2.2607  0.2082\n     15        \u001b[36m2.3891\u001b[0m        \u001b[32m1.7815\u001b[0m  0.1898\n     16        \u001b[36m2.0659\u001b[0m        1.9766  0.1949\n     17        2.1355        1.8479  0.2039\n     18        \u001b[36m1.9255\u001b[0m        \u001b[32m1.6199\u001b[0m  0.0957\n     19        \u001b[36m1.7495\u001b[0m        \u001b[32m1.5192\u001b[0m  0.1123\n     20        1.8091        \u001b[32m1.4679\u001b[0m  0.0946\n     21        \u001b[36m1.6881\u001b[0m        1.4819  0.1115\n     22        \u001b[36m1.6323\u001b[0m        \u001b[32m1.4666\u001b[0m  0.1667\n     23        1.6571        1.4679  0.1033\n     24        1.6405        \u001b[32m1.3824\u001b[0m  0.0277\n     25        \u001b[36m1.5610\u001b[0m        \u001b[32m1.3379\u001b[0m  0.0278\n     26        \u001b[36m1.5493\u001b[0m        \u001b[32m1.2802\u001b[0m  0.0990\n     27        \u001b[36m1.5276\u001b[0m        \u001b[32m1.2526\u001b[0m  0.0895\n     28        \u001b[36m1.4761\u001b[0m        1.2919  0.0902\n     29        1.4823        1.2544  0.0947\n     30        \u001b[36m1.4646\u001b[0m        \u001b[32m1.2027\u001b[0m  0.0926\n     31        \u001b[36m1.4362\u001b[0m        \u001b[32m1.1914\u001b[0m  0.0953\n     32        \u001b[36m1.4287\u001b[0m        \u001b[32m1.1893\u001b[0m  0.0904\n     33        \u001b[36m1.4268\u001b[0m        \u001b[32m1.1614\u001b[0m  0.0974\n     34        \u001b[36m1.4102\u001b[0m        1.1635  0.0949\n     35        \u001b[36m1.3968\u001b[0m        1.1816  0.0953\n     36        \u001b[36m1.3936\u001b[0m        \u001b[32m1.1575\u001b[0m  0.0816\n     37        \u001b[36m1.3791\u001b[0m        \u001b[32m1.1382\u001b[0m  0.1167\n     38        \u001b[36m1.3687\u001b[0m        1.1389  0.1202\n     39        \u001b[36m1.3626\u001b[0m        \u001b[32m1.1316\u001b[0m  0.0948\n     40        \u001b[36m1.3527\u001b[0m        \u001b[32m1.1179\u001b[0m  0.1107\n     41        \u001b[36m1.3438\u001b[0m        1.1182  0.1088\n     42        \u001b[36m1.3385\u001b[0m        \u001b[32m1.1178\u001b[0m  0.0981\n     43        \u001b[36m1.3330\u001b[0m        \u001b[32m1.1032\u001b[0m  0.1185\n     44        \u001b[36m1.3250\u001b[0m        \u001b[32m1.0932\u001b[0m  0.1105\n     45        \u001b[36m1.3183\u001b[0m        \u001b[32m1.0929\u001b[0m  0.1305\n     46        \u001b[36m1.3121\u001b[0m        \u001b[32m1.0902\u001b[0m  0.1145\n     47        \u001b[36m1.3055\u001b[0m        \u001b[32m1.0840\u001b[0m  0.1957\n     48        \u001b[36m1.2995\u001b[0m        \u001b[32m1.0808\u001b[0m  0.1890\n     49        \u001b[36m1.2939\u001b[0m        \u001b[32m1.0764\u001b[0m  0.1812\n     50        \u001b[36m1.2881\u001b[0m        \u001b[32m1.0682\u001b[0m  0.1887\n     51        \u001b[36m1.2823\u001b[0m        \u001b[32m1.0625\u001b[0m  0.1932\n     52        \u001b[36m1.2771\u001b[0m        \u001b[32m1.0608\u001b[0m  0.1167\n     53        \u001b[36m1.2719\u001b[0m        \u001b[32m1.0580\u001b[0m  0.0314\n     54        \u001b[36m1.2667\u001b[0m        \u001b[32m1.0532\u001b[0m  0.0348\n     55        \u001b[36m1.2616\u001b[0m        \u001b[32m1.0495\u001b[0m  0.1162\n     56        \u001b[36m1.2566\u001b[0m        \u001b[32m1.0464\u001b[0m  0.1047\n     57        \u001b[36m1.2515\u001b[0m        \u001b[32m1.0424\u001b[0m  0.0906\n     58        \u001b[36m1.2465\u001b[0m        \u001b[32m1.0392\u001b[0m  0.1729\n     59        \u001b[36m1.2417\u001b[0m        \u001b[32m1.0375\u001b[0m  0.1122\n     60        \u001b[36m1.2370\u001b[0m        \u001b[32m1.0351\u001b[0m  0.1206\n     61        \u001b[36m1.2324\u001b[0m        \u001b[32m1.0315\u001b[0m  0.2007\n     62        \u001b[36m1.2278\u001b[0m        \u001b[32m1.0284\u001b[0m  0.1323\n     63        \u001b[36m1.2233\u001b[0m        \u001b[32m1.0260\u001b[0m  0.1937\n     64        \u001b[36m1.2188\u001b[0m        \u001b[32m1.0235\u001b[0m  0.2042\n     65        \u001b[36m1.2144\u001b[0m        \u001b[32m1.0212\u001b[0m  0.2063\n     66        \u001b[36m1.2102\u001b[0m        \u001b[32m1.0194\u001b[0m  0.1232\n     67        \u001b[36m1.2059\u001b[0m        \u001b[32m1.0174\u001b[0m  0.1017\n     68        \u001b[36m1.2017\u001b[0m        \u001b[32m1.0148\u001b[0m  0.0292\n     69        \u001b[36m1.1976\u001b[0m        \u001b[32m1.0126\u001b[0m  0.0875\n     70        \u001b[36m1.1936\u001b[0m        \u001b[32m1.0110\u001b[0m  0.1044\n     71        \u001b[36m1.1896\u001b[0m        \u001b[32m1.0092\u001b[0m  0.2704\n     72        \u001b[36m1.1857\u001b[0m        \u001b[32m1.0073\u001b[0m  0.1285\n     73        \u001b[36m1.1819\u001b[0m        \u001b[32m1.0057\u001b[0m  0.2173\n     74        \u001b[36m1.1781\u001b[0m        \u001b[32m1.0039\u001b[0m  0.1985\n     75        \u001b[36m1.1744\u001b[0m        \u001b[32m1.0020\u001b[0m  0.2074\n     76        \u001b[36m1.1708\u001b[0m        \u001b[32m1.0003\u001b[0m  0.2044\n     77        \u001b[36m1.1672\u001b[0m        \u001b[32m0.9989\u001b[0m  0.2048\n     78        \u001b[36m1.1637\u001b[0m        \u001b[32m0.9973\u001b[0m  0.1902\n     79        \u001b[36m1.1602\u001b[0m        \u001b[32m0.9955\u001b[0m  0.1420\n     80        \u001b[36m1.1568\u001b[0m        \u001b[32m0.9939\u001b[0m  0.0264\n     81        \u001b[36m1.1535\u001b[0m        \u001b[32m0.9923\u001b[0m  0.0832\n     82        \u001b[36m1.1501\u001b[0m        \u001b[32m0.9905\u001b[0m  0.1059\n     83        \u001b[36m1.1468\u001b[0m        \u001b[32m0.9889\u001b[0m  0.0864\n     84        \u001b[36m1.1436\u001b[0m        \u001b[32m0.9873\u001b[0m  0.0911\n     85        \u001b[36m1.1404\u001b[0m        \u001b[32m0.9856\u001b[0m  0.2043\n     86        \u001b[36m1.1372\u001b[0m        \u001b[32m0.9837\u001b[0m  0.1956\n     87        \u001b[36m1.1339\u001b[0m        \u001b[32m0.9820\u001b[0m  0.2058\n     88        \u001b[36m1.1308\u001b[0m        \u001b[32m0.9802\u001b[0m  0.0954\n     89        \u001b[36m1.1276\u001b[0m        \u001b[32m0.9783\u001b[0m  0.1960\n     90        \u001b[36m1.1244\u001b[0m        \u001b[32m0.9765\u001b[0m  0.1801\n     91        \u001b[36m1.1212\u001b[0m        \u001b[32m0.9746\u001b[0m  0.1221\n     92        \u001b[36m1.1180\u001b[0m        \u001b[32m0.9727\u001b[0m  0.1261\n     93        \u001b[36m1.1147\u001b[0m        \u001b[32m0.9706\u001b[0m  0.0865\n     94        \u001b[36m1.1115\u001b[0m        \u001b[32m0.9686\u001b[0m  0.0907\n     95        \u001b[36m1.1082\u001b[0m        \u001b[32m0.9666\u001b[0m  0.0951\n     96        \u001b[36m1.1050\u001b[0m        \u001b[32m0.9645\u001b[0m  0.0955\n     97        \u001b[36m1.1017\u001b[0m        \u001b[32m0.9624\u001b[0m  0.0953\n     98        \u001b[36m1.0984\u001b[0m        \u001b[32m0.9603\u001b[0m  0.0271\n     99        \u001b[36m1.0951\u001b[0m        \u001b[32m0.9581\u001b[0m  0.0333\n    100        \u001b[36m1.0918\u001b[0m        \u001b[32m0.9560\u001b[0m  0.1063\n    101        \u001b[36m1.0886\u001b[0m        \u001b[32m0.9539\u001b[0m  0.0929\n    102        \u001b[36m1.0853\u001b[0m        \u001b[32m0.9518\u001b[0m  0.0997\n    103        \u001b[36m1.0821\u001b[0m        \u001b[32m0.9497\u001b[0m  0.0954\n    104        \u001b[36m1.0790\u001b[0m        \u001b[32m0.9477\u001b[0m  0.0964\n    105        \u001b[36m1.0759\u001b[0m        \u001b[32m0.9458\u001b[0m  0.0956\n    106        \u001b[36m1.0729\u001b[0m        \u001b[32m0.9439\u001b[0m  0.0954\n    107        \u001b[36m1.0700\u001b[0m        \u001b[32m0.9421\u001b[0m  0.0964\n    108        \u001b[36m1.0672\u001b[0m        \u001b[32m0.9403\u001b[0m  0.0958\n    109        \u001b[36m1.0644\u001b[0m        \u001b[32m0.9387\u001b[0m  0.0882\n    110        \u001b[36m1.0617\u001b[0m        \u001b[32m0.9371\u001b[0m  0.0862\n    111        \u001b[36m1.0591\u001b[0m        \u001b[32m0.9357\u001b[0m  0.0935\n    112        \u001b[36m1.0566\u001b[0m        \u001b[32m0.9343\u001b[0m  0.0262\n    113        \u001b[36m1.0542\u001b[0m        \u001b[32m0.9330\u001b[0m  0.1333\n    114        \u001b[36m1.0518\u001b[0m        \u001b[32m0.9318\u001b[0m  0.1346\n    115        \u001b[36m1.0495\u001b[0m        \u001b[32m0.9307\u001b[0m  0.1341\n    116        \u001b[36m1.0473\u001b[0m        \u001b[32m0.9297\u001b[0m  0.1241\n    117        \u001b[36m1.0451\u001b[0m        \u001b[32m0.9287\u001b[0m  0.1329\n    118        \u001b[36m1.0431\u001b[0m        \u001b[32m0.9278\u001b[0m  0.1993\n    119        \u001b[36m1.0410\u001b[0m        \u001b[32m0.9270\u001b[0m  0.1293\n    120        \u001b[36m1.0391\u001b[0m        \u001b[32m0.9263\u001b[0m  0.1289\n    121        \u001b[36m1.0372\u001b[0m        \u001b[32m0.9256\u001b[0m  0.2132\n    122        \u001b[36m1.0353\u001b[0m        \u001b[32m0.9249\u001b[0m  0.0977\n    123        \u001b[36m1.0335\u001b[0m        \u001b[32m0.9243\u001b[0m  0.1797\n    124        \u001b[36m1.0317\u001b[0m        \u001b[32m0.9238\u001b[0m  0.1870\n    125        \u001b[36m1.0300\u001b[0m        \u001b[32m0.9233\u001b[0m  0.1306\n    126        \u001b[36m1.0284\u001b[0m        \u001b[32m0.9229\u001b[0m  0.1209\n    127        \u001b[36m1.0268\u001b[0m        \u001b[32m0.9224\u001b[0m  0.0993\n    128        \u001b[36m1.0252\u001b[0m        \u001b[32m0.9221\u001b[0m  0.1025\n    129        \u001b[36m1.0236\u001b[0m        \u001b[32m0.9217\u001b[0m  0.0896\n    130        \u001b[36m1.0222\u001b[0m        \u001b[32m0.9214\u001b[0m  0.0246\n    131        \u001b[36m1.0207\u001b[0m        \u001b[32m0.9211\u001b[0m  0.1269\n    132        \u001b[36m1.0193\u001b[0m        \u001b[32m0.9209\u001b[0m  0.2118\n    133        \u001b[36m1.0179\u001b[0m        \u001b[32m0.9207\u001b[0m  0.0986\n    134        \u001b[36m1.0165\u001b[0m        \u001b[32m0.9205\u001b[0m  0.0960\n    135        \u001b[36m1.0152\u001b[0m        \u001b[32m0.9203\u001b[0m  0.1052\n    136        \u001b[36m1.0139\u001b[0m        \u001b[32m0.9201\u001b[0m  0.3002\n    137        \u001b[36m1.0127\u001b[0m        \u001b[32m0.9200\u001b[0m  0.2301\n    138        \u001b[36m1.0114\u001b[0m        \u001b[32m0.9199\u001b[0m  0.2046\n    139        \u001b[36m1.0102\u001b[0m        \u001b[32m0.9198\u001b[0m  0.2070\n    140        \u001b[36m1.0090\u001b[0m        \u001b[32m0.9197\u001b[0m  0.1019\n    141        \u001b[36m1.0079\u001b[0m        \u001b[32m0.9196\u001b[0m  0.0266\n    142        \u001b[36m1.0067\u001b[0m        \u001b[32m0.9196\u001b[0m  0.0311\n    143        \u001b[36m1.0056\u001b[0m        \u001b[32m0.9195\u001b[0m  0.1178\n    144        \u001b[36m1.0045\u001b[0m        \u001b[32m0.9195\u001b[0m  0.1856\n    145        \u001b[36m1.0034\u001b[0m        \u001b[32m0.9194\u001b[0m  0.2915\n    146        \u001b[36m1.0024\u001b[0m        \u001b[32m0.9194\u001b[0m  0.2989\n    147        \u001b[36m1.0013\u001b[0m        \u001b[32m0.9194\u001b[0m  0.2051\nStopping since valid_loss has not improved in the last 20 epochs.\n  epoch    train_loss    valid_loss     dur\n-------  ------------  ------------  ------\n      1      \u001b[36m224.0588\u001b[0m      \u001b[32m162.2160\u001b[0m  0.1314\n      2      \u001b[36m124.5116\u001b[0m       \u001b[32m11.6962\u001b[0m  0.2049\n      3       \u001b[36m23.4945\u001b[0m       62.8022  0.1107\n      4       46.7069       16.2718  0.1057\n      5       \u001b[36m17.4181\u001b[0m       16.7326  0.1067\n      6       \u001b[36m14.0165\u001b[0m        \u001b[32m5.9039\u001b[0m  0.0265\n      7        \u001b[36m5.8864\u001b[0m        6.4728  0.1209\n      8        7.3345        \u001b[32m5.9000\u001b[0m  0.1810\n      9        6.0112        \u001b[32m3.6837\u001b[0m  0.1112\n     10        \u001b[36m3.6497\u001b[0m        \u001b[32m3.6663\u001b[0m  0.1137\n     11        3.9976        3.7560  0.1857\n     12        4.1672        \u001b[32m3.1021\u001b[0m  0.1208\n     13        \u001b[36m3.4454\u001b[0m        \u001b[32m2.1233\u001b[0m  0.1998\n     14        \u001b[36m2.3766\u001b[0m        \u001b[32m2.0873\u001b[0m  0.1123\n     15        \u001b[36m2.2772\u001b[0m        2.1463  0.1237\n     16        2.3657        \u001b[32m1.9295\u001b[0m  0.1675\n     17        \u001b[36m2.1000\u001b[0m        \u001b[32m1.8113\u001b[0m  0.2943\n     18        \u001b[36m1.8849\u001b[0m        \u001b[32m1.4971\u001b[0m  0.2809\n     19        \u001b[36m1.7133\u001b[0m        1.5037  0.1793\n     20        1.7419        1.6434  0.1141\n     21        1.8041        \u001b[32m1.4970\u001b[0m  0.1083\n     22        \u001b[36m1.6876\u001b[0m        \u001b[32m1.4155\u001b[0m  0.1998\n     23        \u001b[36m1.5913\u001b[0m        \u001b[32m1.4060\u001b[0m  0.1104\n     24        \u001b[36m1.5450\u001b[0m        1.4197  0.1224\n     25        1.5476        \u001b[32m1.3853\u001b[0m  0.1970\n     26        1.5504        \u001b[32m1.3311\u001b[0m  0.1802\n     27        \u001b[36m1.4955\u001b[0m        \u001b[32m1.3014\u001b[0m  0.0976\n     28        \u001b[36m1.4590\u001b[0m        \u001b[32m1.2399\u001b[0m  0.1932\n     29        \u001b[36m1.4361\u001b[0m        \u001b[32m1.2285\u001b[0m  0.1768\n     30        \u001b[36m1.4258\u001b[0m        1.2417  0.1248\n     31        \u001b[36m1.4197\u001b[0m        \u001b[32m1.2098\u001b[0m  0.2000\n     32        \u001b[36m1.3979\u001b[0m        \u001b[32m1.1859\u001b[0m  0.1930\n     33        \u001b[36m1.3792\u001b[0m        1.1874  0.1054\n     34        \u001b[36m1.3648\u001b[0m        \u001b[32m1.1851\u001b[0m  0.1166\n     35        \u001b[36m1.3583\u001b[0m        \u001b[32m1.1705\u001b[0m  0.1966\n     36        \u001b[36m1.3519\u001b[0m        \u001b[32m1.1654\u001b[0m  0.1783\n     37        \u001b[36m1.3393\u001b[0m        \u001b[32m1.1601\u001b[0m  0.2012\n     38        \u001b[36m1.3301\u001b[0m        \u001b[32m1.1388\u001b[0m  0.1139\n     39        \u001b[36m1.3210\u001b[0m        \u001b[32m1.1310\u001b[0m  0.1805\n     40        \u001b[36m1.3134\u001b[0m        1.1328  0.1274\n     41        \u001b[36m1.3077\u001b[0m        \u001b[32m1.1232\u001b[0m  0.1284\n     42        \u001b[36m1.2997\u001b[0m        \u001b[32m1.1155\u001b[0m  0.1286\n     43        \u001b[36m1.2913\u001b[0m        \u001b[32m1.1150\u001b[0m  0.1699\n     44        \u001b[36m1.2839\u001b[0m        \u001b[32m1.1096\u001b[0m  0.0291\n     45        \u001b[36m1.2776\u001b[0m        \u001b[32m1.1009\u001b[0m  0.0244\n     46        \u001b[36m1.2712\u001b[0m        \u001b[32m1.0981\u001b[0m  0.1810\n     47        \u001b[36m1.2644\u001b[0m        \u001b[32m1.0948\u001b[0m  0.2026\n     48        \u001b[36m1.2580\u001b[0m        \u001b[32m1.0871\u001b[0m  0.2053\n     49        \u001b[36m1.2515\u001b[0m        \u001b[32m1.0832\u001b[0m  0.1159\n     50        \u001b[36m1.2456\u001b[0m        \u001b[32m1.0812\u001b[0m  0.2042\n     51        \u001b[36m1.2403\u001b[0m        \u001b[32m1.0756\u001b[0m  0.1392\n     52        \u001b[36m1.2344\u001b[0m        \u001b[32m1.0707\u001b[0m  0.2141\n     53        \u001b[36m1.2285\u001b[0m        \u001b[32m1.0680\u001b[0m  0.1000\n     54        \u001b[36m1.2227\u001b[0m        \u001b[32m1.0632\u001b[0m  0.1133\n     55        \u001b[36m1.2169\u001b[0m        \u001b[32m1.0573\u001b[0m  0.0939\n     56        \u001b[36m1.2111\u001b[0m        \u001b[32m1.0529\u001b[0m  0.2045\n     57        \u001b[36m1.2056\u001b[0m        \u001b[32m1.0484\u001b[0m  0.1678\n     58        \u001b[36m1.2001\u001b[0m        \u001b[32m1.0429\u001b[0m  0.1300\n     59        \u001b[36m1.1946\u001b[0m        \u001b[32m1.0388\u001b[0m  0.0937\n     60        \u001b[36m1.1893\u001b[0m        \u001b[32m1.0354\u001b[0m  0.0984\n     61        \u001b[36m1.1840\u001b[0m        \u001b[32m1.0309\u001b[0m  0.0873\n     62        \u001b[36m1.1786\u001b[0m        \u001b[32m1.0266\u001b[0m  0.0917\n     63        \u001b[36m1.1733\u001b[0m        \u001b[32m1.0229\u001b[0m  0.0283\n     64        \u001b[36m1.1680\u001b[0m        \u001b[32m1.0187\u001b[0m  0.0962\n     65        \u001b[36m1.1627\u001b[0m        \u001b[32m1.0144\u001b[0m  0.1008\n     66        \u001b[36m1.1574\u001b[0m        \u001b[32m1.0105\u001b[0m  0.0265\n     67        \u001b[36m1.1521\u001b[0m        \u001b[32m1.0066\u001b[0m  0.1186\n     68        \u001b[36m1.1468\u001b[0m        \u001b[32m1.0023\u001b[0m  0.2754\n     69        \u001b[36m1.1416\u001b[0m        \u001b[32m0.9982\u001b[0m  0.1202\n     70        \u001b[36m1.1365\u001b[0m        \u001b[32m0.9945\u001b[0m  0.0306\n     71        \u001b[36m1.1314\u001b[0m        \u001b[32m0.9906\u001b[0m  0.2691\n     72        \u001b[36m1.1263\u001b[0m        \u001b[32m0.9866\u001b[0m  0.1329\n     73        \u001b[36m1.1212\u001b[0m        \u001b[32m0.9828\u001b[0m  0.1980\n     74        \u001b[36m1.1163\u001b[0m        \u001b[32m0.9787\u001b[0m  0.1333\n     75        \u001b[36m1.1114\u001b[0m        \u001b[32m0.9745\u001b[0m  0.2107\n     76        \u001b[36m1.1067\u001b[0m        \u001b[32m0.9704\u001b[0m  0.1151\n     77        \u001b[36m1.1021\u001b[0m        \u001b[32m0.9665\u001b[0m  0.0273\n     78        \u001b[36m1.0977\u001b[0m        \u001b[32m0.9625\u001b[0m  0.1957\n     79        \u001b[36m1.0934\u001b[0m        \u001b[32m0.9587\u001b[0m  0.0993\n     80        \u001b[36m1.0892\u001b[0m        \u001b[32m0.9551\u001b[0m  0.0251\n     81        \u001b[36m1.0853\u001b[0m        \u001b[32m0.9516\u001b[0m  0.0880\n     82        \u001b[36m1.0815\u001b[0m        \u001b[32m0.9482\u001b[0m  0.0855\n     83        \u001b[36m1.0778\u001b[0m        \u001b[32m0.9450\u001b[0m  0.0948\n     84        \u001b[36m1.0743\u001b[0m        \u001b[32m0.9419\u001b[0m  0.0933\n     85        \u001b[36m1.0709\u001b[0m        \u001b[32m0.9389\u001b[0m  0.1046\n     86        \u001b[36m1.0676\u001b[0m        \u001b[32m0.9361\u001b[0m  0.0974\n     87        \u001b[36m1.0644\u001b[0m        \u001b[32m0.9334\u001b[0m  0.0941\n     88        \u001b[36m1.0613\u001b[0m        \u001b[32m0.9308\u001b[0m  0.0925\n     89        \u001b[36m1.0584\u001b[0m        \u001b[32m0.9284\u001b[0m  0.0910\n     90        \u001b[36m1.0555\u001b[0m        \u001b[32m0.9261\u001b[0m  0.0857\n     91        \u001b[36m1.0527\u001b[0m        \u001b[32m0.9240\u001b[0m  0.0925\n     92        \u001b[36m1.0501\u001b[0m        \u001b[32m0.9219\u001b[0m  0.0232\n     93        \u001b[36m1.0475\u001b[0m        \u001b[32m0.9199\u001b[0m  0.0267\n     94        \u001b[36m1.0449\u001b[0m        \u001b[32m0.9181\u001b[0m  0.0895\n     95        \u001b[36m1.0425\u001b[0m        \u001b[32m0.9163\u001b[0m  0.0908\n     96        \u001b[36m1.0402\u001b[0m        \u001b[32m0.9147\u001b[0m  0.0843\n     97        \u001b[36m1.0379\u001b[0m        \u001b[32m0.9132\u001b[0m  0.0215\n     98        \u001b[36m1.0357\u001b[0m        \u001b[32m0.9117\u001b[0m  0.0273\n     99        \u001b[36m1.0335\u001b[0m        \u001b[32m0.9104\u001b[0m  0.0939\n    100        \u001b[36m1.0315\u001b[0m        \u001b[32m0.9091\u001b[0m  0.0790\n    101        \u001b[36m1.0295\u001b[0m        \u001b[32m0.9080\u001b[0m  0.2098\n    102        \u001b[36m1.0275\u001b[0m        \u001b[32m0.9068\u001b[0m  0.2099\n    103        \u001b[36m1.0257\u001b[0m        \u001b[32m0.9058\u001b[0m  0.2028\n    104        \u001b[36m1.0238\u001b[0m        \u001b[32m0.9049\u001b[0m  0.1067\n    105        \u001b[36m1.0221\u001b[0m        \u001b[32m0.9039\u001b[0m  0.1842\n    106        \u001b[36m1.0204\u001b[0m        \u001b[32m0.9031\u001b[0m  0.2836\n    107        \u001b[36m1.0187\u001b[0m        \u001b[32m0.9023\u001b[0m  0.1948\n    108        \u001b[36m1.0171\u001b[0m        \u001b[32m0.9016\u001b[0m  0.2054\n    109        \u001b[36m1.0155\u001b[0m        \u001b[32m0.9009\u001b[0m  0.2075\n    110        \u001b[36m1.0140\u001b[0m        \u001b[32m0.9002\u001b[0m  0.2033\n    111        \u001b[36m1.0125\u001b[0m        \u001b[32m0.8996\u001b[0m  0.0931\n    112        \u001b[36m1.0111\u001b[0m        \u001b[32m0.8990\u001b[0m  0.0961\n    113        \u001b[36m1.0096\u001b[0m        \u001b[32m0.8984\u001b[0m  0.1001\n    114        \u001b[36m1.0083\u001b[0m        \u001b[32m0.8979\u001b[0m  0.0878\n    115        \u001b[36m1.0069\u001b[0m        \u001b[32m0.8974\u001b[0m  0.0961\n    116        \u001b[36m1.0056\u001b[0m        \u001b[32m0.8970\u001b[0m  0.0987\n    117        \u001b[36m1.0043\u001b[0m        \u001b[32m0.8965\u001b[0m  0.0852\n    118        \u001b[36m1.0030\u001b[0m        \u001b[32m0.8961\u001b[0m  0.0872\n    119        \u001b[36m1.0018\u001b[0m        \u001b[32m0.8957\u001b[0m  0.0963\n    120        \u001b[36m1.0006\u001b[0m        \u001b[32m0.8953\u001b[0m  0.0961\n    121        \u001b[36m0.9994\u001b[0m        \u001b[32m0.8949\u001b[0m  0.0932\n    122        \u001b[36m0.9982\u001b[0m        \u001b[32m0.8945\u001b[0m  0.0898\n    123        \u001b[36m0.9971\u001b[0m        \u001b[32m0.8942\u001b[0m  0.0958\n    124        \u001b[36m0.9959\u001b[0m        \u001b[32m0.8939\u001b[0m  0.0963\n    125        \u001b[36m0.9948\u001b[0m        \u001b[32m0.8935\u001b[0m  0.0963\n    126        \u001b[36m0.9937\u001b[0m        \u001b[32m0.8932\u001b[0m  0.0881\n    127        \u001b[36m0.9926\u001b[0m        \u001b[32m0.8929\u001b[0m  0.0959\n    128        \u001b[36m0.9915\u001b[0m        \u001b[32m0.8927\u001b[0m  0.0952\n    129        \u001b[36m0.9905\u001b[0m        \u001b[32m0.8924\u001b[0m  0.0847\n    130        \u001b[36m0.9894\u001b[0m        \u001b[32m0.8921\u001b[0m  0.0241\n    131        \u001b[36m0.9884\u001b[0m        \u001b[32m0.8919\u001b[0m  0.0260\n    132        \u001b[36m0.9873\u001b[0m        \u001b[32m0.8916\u001b[0m  0.1140\n    133        \u001b[36m0.9863\u001b[0m        \u001b[32m0.8914\u001b[0m  0.1072\n    134        \u001b[36m0.9853\u001b[0m        \u001b[32m0.8912\u001b[0m  0.0936\n    135        \u001b[36m0.9843\u001b[0m        \u001b[32m0.8910\u001b[0m  0.0873\n    136        \u001b[36m0.9833\u001b[0m        \u001b[32m0.8908\u001b[0m  0.0882\n    137        \u001b[36m0.9823\u001b[0m        \u001b[32m0.8906\u001b[0m  0.0841\n    138        \u001b[36m0.9814\u001b[0m        \u001b[32m0.8904\u001b[0m  0.0266\n    139        \u001b[36m0.9804\u001b[0m        \u001b[32m0.8903\u001b[0m  0.0290\n    140        \u001b[36m0.9794\u001b[0m        \u001b[32m0.8901\u001b[0m  0.2176\n    141        \u001b[36m0.9785\u001b[0m        \u001b[32m0.8900\u001b[0m  0.1783\n    142        \u001b[36m0.9775\u001b[0m        \u001b[32m0.8898\u001b[0m  0.0887\n    143        \u001b[36m0.9766\u001b[0m        \u001b[32m0.8897\u001b[0m  0.2009\n    144        \u001b[36m0.9757\u001b[0m        \u001b[32m0.8896\u001b[0m  0.1897\n    145        \u001b[36m0.9747\u001b[0m        \u001b[32m0.8895\u001b[0m  0.1908\n    146        \u001b[36m0.9738\u001b[0m        \u001b[32m0.8894\u001b[0m  0.2088\n    147        \u001b[36m0.9729\u001b[0m        \u001b[32m0.8893\u001b[0m  0.2327\n    148        \u001b[36m0.9720\u001b[0m        \u001b[32m0.8892\u001b[0m  0.2983\n    149        \u001b[36m0.9710\u001b[0m        \u001b[32m0.8892\u001b[0m  0.1060\n    150        \u001b[36m0.9701\u001b[0m        \u001b[32m0.8891\u001b[0m  0.1026\n    151        \u001b[36m0.9692\u001b[0m        \u001b[32m0.8891\u001b[0m  0.1104\n    152        \u001b[36m0.9683\u001b[0m        \u001b[32m0.8891\u001b[0m  0.0898\n    153        \u001b[36m0.9674\u001b[0m        \u001b[32m0.8891\u001b[0m  0.0991\n    154        \u001b[36m0.9665\u001b[0m        \u001b[32m0.8890\u001b[0m  0.1072\n    155        \u001b[36m0.9657\u001b[0m        0.8890  0.3078\n    156        \u001b[36m0.9648\u001b[0m        0.8891  0.1775\n    157        \u001b[36m0.9639\u001b[0m        0.8891  0.1944\n    158        \u001b[36m0.9630\u001b[0m        0.8891  0.0914\n    159        \u001b[36m0.9621\u001b[0m        0.8892  0.0313\n    160        \u001b[36m0.9613\u001b[0m        0.8892  0.0379\n    161        \u001b[36m0.9604\u001b[0m        0.8893  0.0345\n    162        \u001b[36m0.9595\u001b[0m        0.8893  0.2132\nStopping since valid_loss has not improved in the last 20 epochs.\n  epoch    train_loss    valid_loss     dur\n-------  ------------  ------------  ------\n      1      \u001b[36m231.3463\u001b[0m      \u001b[32m168.4407\u001b[0m  0.2046\n      2      \u001b[36m132.8701\u001b[0m       \u001b[32m17.8636\u001b[0m  0.1131\n      3       \u001b[36m29.0005\u001b[0m       54.6295  0.1338\n      4       43.4026       27.5979  0.2152\n      5       \u001b[36m24.1509\u001b[0m       18.0070  0.1925\n      6       \u001b[36m15.2199\u001b[0m        \u001b[32m6.3316\u001b[0m  0.2031\n      7        \u001b[36m6.8105\u001b[0m        7.6105  0.2980\n      8        7.7375        \u001b[32m5.6970\u001b[0m  0.2199\n      9        \u001b[36m6.4858\u001b[0m        \u001b[32m4.2832\u001b[0m  0.2124\n     10        \u001b[36m4.4538\u001b[0m        5.2578  0.1889\n     11        4.7601        \u001b[32m2.6770\u001b[0m  0.4795\n     12        \u001b[36m3.4321\u001b[0m        3.3128  0.2210\n     13        3.7520        2.9237  0.2060\n     14        \u001b[36m3.3772\u001b[0m        \u001b[32m2.2058\u001b[0m  0.2048\n     15        \u001b[36m2.3734\u001b[0m        \u001b[32m2.1956\u001b[0m  0.1992\n     16        2.4844        \u001b[32m2.1757\u001b[0m  0.1385\n     17        \u001b[36m2.3202\u001b[0m        2.3978  0.2062\n     18        2.3387        \u001b[32m1.8173\u001b[0m  0.0824\n     19        \u001b[36m2.0957\u001b[0m        \u001b[32m1.6035\u001b[0m  0.0283\n     20        \u001b[36m1.8367\u001b[0m        1.6047  0.0256\n     21        \u001b[36m1.7502\u001b[0m        \u001b[32m1.4843\u001b[0m  0.1185\n     22        \u001b[36m1.6934\u001b[0m        \u001b[32m1.4786\u001b[0m  0.0994\n     23        1.7227        \u001b[32m1.3502\u001b[0m  0.2818\n     24        \u001b[36m1.5920\u001b[0m        \u001b[32m1.3048\u001b[0m  0.1217\n     25        \u001b[36m1.5220\u001b[0m        \u001b[32m1.2137\u001b[0m  0.2000\n     26        \u001b[36m1.4907\u001b[0m        \u001b[32m1.2092\u001b[0m  0.2071\n     27        \u001b[36m1.4482\u001b[0m        1.2978  0.0906\n     28        1.4572        \u001b[32m1.2020\u001b[0m  0.0974\n     29        \u001b[36m1.4055\u001b[0m        \u001b[32m1.1275\u001b[0m  0.0913\n     30        \u001b[36m1.3558\u001b[0m        1.1296  0.0968\n     31        \u001b[36m1.3503\u001b[0m        \u001b[32m1.1184\u001b[0m  0.0887\n     32        \u001b[36m1.3376\u001b[0m        \u001b[32m1.0972\u001b[0m  0.1000\n     33        \u001b[36m1.3216\u001b[0m        1.1082  0.1811\n     34        \u001b[36m1.3087\u001b[0m        1.1087  0.1034\n     35        \u001b[36m1.2962\u001b[0m        \u001b[32m1.0750\u001b[0m  0.0852\n     36        \u001b[36m1.2845\u001b[0m        \u001b[32m1.0638\u001b[0m  0.1203\n     37        \u001b[36m1.2750\u001b[0m        1.0722  0.1117\n     38        \u001b[36m1.2659\u001b[0m        1.0666  0.0951\n     39        \u001b[36m1.2572\u001b[0m        \u001b[32m1.0578\u001b[0m  0.1907\n     40        \u001b[36m1.2481\u001b[0m        1.0601  0.1114\n     41        \u001b[36m1.2409\u001b[0m        \u001b[32m1.0547\u001b[0m  0.1931\n     42        \u001b[36m1.2351\u001b[0m        \u001b[32m1.0395\u001b[0m  0.1889\n     43        \u001b[36m1.2253\u001b[0m        1.0405  0.1851\n     44        \u001b[36m1.2175\u001b[0m        1.0489  0.1846\n     45        \u001b[36m1.2139\u001b[0m        1.0447  0.1923\n     46        \u001b[36m1.2088\u001b[0m        \u001b[32m1.0374\u001b[0m  0.2048\n     47        \u001b[36m1.2019\u001b[0m        \u001b[32m1.0350\u001b[0m  0.1264\n     48        \u001b[36m1.1962\u001b[0m        \u001b[32m1.0307\u001b[0m  0.2004\n     49        \u001b[36m1.1910\u001b[0m        \u001b[32m1.0253\u001b[0m  0.1923\n     50        \u001b[36m1.1852\u001b[0m        1.0268  0.2019\n     51        \u001b[36m1.1808\u001b[0m        1.0269  0.1327\n     52        \u001b[36m1.1770\u001b[0m        \u001b[32m1.0203\u001b[0m  0.2247\n     53        \u001b[36m1.1716\u001b[0m        \u001b[32m1.0166\u001b[0m  0.2034\n     54        \u001b[36m1.1666\u001b[0m        1.0168  0.1288\n     55        \u001b[36m1.1627\u001b[0m        \u001b[32m1.0152\u001b[0m  0.2061\n     56        \u001b[36m1.1586\u001b[0m        \u001b[32m1.0130\u001b[0m  0.2035\n     57        \u001b[36m1.1543\u001b[0m        \u001b[32m1.0123\u001b[0m  0.2093\n     58        \u001b[36m1.1505\u001b[0m        \u001b[32m1.0102\u001b[0m  0.1846\n     59        \u001b[36m1.1468\u001b[0m        \u001b[32m1.0066\u001b[0m  0.1853\n     60        \u001b[36m1.1427\u001b[0m        \u001b[32m1.0056\u001b[0m  0.2202\n     61        \u001b[36m1.1390\u001b[0m        1.0057  0.1053\n     62        \u001b[36m1.1358\u001b[0m        \u001b[32m1.0039\u001b[0m  0.3768\n     63        \u001b[36m1.1324\u001b[0m        \u001b[32m1.0018\u001b[0m  0.3171\n     64        \u001b[36m1.1289\u001b[0m        \u001b[32m1.0006\u001b[0m  0.1110\n     65        \u001b[36m1.1258\u001b[0m        \u001b[32m0.9989\u001b[0m  0.1223\n     66        \u001b[36m1.1226\u001b[0m        \u001b[32m0.9972\u001b[0m  0.2039\n     67        \u001b[36m1.1194\u001b[0m        \u001b[32m0.9966\u001b[0m  0.1241\n     68        \u001b[36m1.1165\u001b[0m        \u001b[32m0.9958\u001b[0m  0.2192\n     69        \u001b[36m1.1137\u001b[0m        \u001b[32m0.9940\u001b[0m  0.2123\n     70        \u001b[36m1.1107\u001b[0m        \u001b[32m0.9926\u001b[0m  0.1184\n     71        \u001b[36m1.1079\u001b[0m        \u001b[32m0.9919\u001b[0m  0.1117\n     72        \u001b[36m1.1052\u001b[0m        \u001b[32m0.9908\u001b[0m  0.2861\n     73        \u001b[36m1.1026\u001b[0m        \u001b[32m0.9896\u001b[0m  0.2141\n     74        \u001b[36m1.1000\u001b[0m        \u001b[32m0.9888\u001b[0m  0.0415\n     75        \u001b[36m1.0976\u001b[0m        \u001b[32m0.9876\u001b[0m  0.0938\n     76        \u001b[36m1.0951\u001b[0m        \u001b[32m0.9862\u001b[0m  0.1088\n     77        \u001b[36m1.0927\u001b[0m        \u001b[32m0.9854\u001b[0m  0.0239\n     78        \u001b[36m1.0904\u001b[0m        \u001b[32m0.9846\u001b[0m  0.0859\n     79        \u001b[36m1.0881\u001b[0m        \u001b[32m0.9836\u001b[0m  0.0877\n     80        \u001b[36m1.0859\u001b[0m        \u001b[32m0.9826\u001b[0m  0.0322\n     81        \u001b[36m1.0837\u001b[0m        \u001b[32m0.9818\u001b[0m  0.0230\n     82        \u001b[36m1.0816\u001b[0m        \u001b[32m0.9808\u001b[0m  0.0876\n     83        \u001b[36m1.0796\u001b[0m        \u001b[32m0.9799\u001b[0m  0.0855\n     84        \u001b[36m1.0775\u001b[0m        \u001b[32m0.9792\u001b[0m  0.0232\n     85        \u001b[36m1.0756\u001b[0m        \u001b[32m0.9783\u001b[0m  0.0239\n     86        \u001b[36m1.0737\u001b[0m        \u001b[32m0.9773\u001b[0m  0.0845\n     87        \u001b[36m1.0717\u001b[0m        \u001b[32m0.9765\u001b[0m  0.0898\n     88        \u001b[36m1.0699\u001b[0m        \u001b[32m0.9757\u001b[0m  0.0873\n     89        \u001b[36m1.0681\u001b[0m        \u001b[32m0.9749\u001b[0m  0.0233\n     90        \u001b[36m1.0663\u001b[0m        \u001b[32m0.9741\u001b[0m  0.2109\n     91        \u001b[36m1.0646\u001b[0m        \u001b[32m0.9733\u001b[0m  0.1972\n     92        \u001b[36m1.0629\u001b[0m        \u001b[32m0.9725\u001b[0m  0.1861\n     93        \u001b[36m1.0612\u001b[0m        \u001b[32m0.9716\u001b[0m  0.1214\n     94        \u001b[36m1.0595\u001b[0m        \u001b[32m0.9708\u001b[0m  0.1355\n     95        \u001b[36m1.0579\u001b[0m        \u001b[32m0.9701\u001b[0m  0.1168\n     96        \u001b[36m1.0563\u001b[0m        \u001b[32m0.9693\u001b[0m  0.2015\n     97        \u001b[36m1.0548\u001b[0m        \u001b[32m0.9685\u001b[0m  0.2195\n     98        \u001b[36m1.0533\u001b[0m        \u001b[32m0.9677\u001b[0m  0.1921\n     99        \u001b[36m1.0518\u001b[0m        \u001b[32m0.9670\u001b[0m  0.0936\n    100        \u001b[36m1.0503\u001b[0m        \u001b[32m0.9662\u001b[0m  0.1026\n    101        \u001b[36m1.0488\u001b[0m        \u001b[32m0.9655\u001b[0m  0.0947\n    102        \u001b[36m1.0474\u001b[0m        \u001b[32m0.9647\u001b[0m  0.1029\n    103        \u001b[36m1.0460\u001b[0m        \u001b[32m0.9639\u001b[0m  0.0473\n    104        \u001b[36m1.0446\u001b[0m        \u001b[32m0.9632\u001b[0m  0.0417\n    105        \u001b[36m1.0432\u001b[0m        \u001b[32m0.9624\u001b[0m  0.0945\n    106        \u001b[36m1.0419\u001b[0m        \u001b[32m0.9617\u001b[0m  0.0329\n    107        \u001b[36m1.0405\u001b[0m        \u001b[32m0.9610\u001b[0m  0.0368\n    108        \u001b[36m1.0392\u001b[0m        \u001b[32m0.9602\u001b[0m  0.1288\n    109        \u001b[36m1.0379\u001b[0m        \u001b[32m0.9595\u001b[0m  0.1213\n    110        \u001b[36m1.0367\u001b[0m        \u001b[32m0.9588\u001b[0m  0.1136\n    111        \u001b[36m1.0354\u001b[0m        \u001b[32m0.9581\u001b[0m  0.1109\n    112        \u001b[36m1.0342\u001b[0m        \u001b[32m0.9574\u001b[0m  0.0898\n    113        \u001b[36m1.0329\u001b[0m        \u001b[32m0.9566\u001b[0m  0.5000\n    114        \u001b[36m1.0317\u001b[0m        \u001b[32m0.9559\u001b[0m  0.1683\n    115        \u001b[36m1.0305\u001b[0m        \u001b[32m0.9552\u001b[0m  0.1130\n    116        \u001b[36m1.0293\u001b[0m        \u001b[32m0.9545\u001b[0m  0.0846\n    117        \u001b[36m1.0282\u001b[0m        \u001b[32m0.9539\u001b[0m  0.1203\n    118        \u001b[36m1.0270\u001b[0m        \u001b[32m0.9532\u001b[0m  0.1120\n    119        \u001b[36m1.0259\u001b[0m        \u001b[32m0.9525\u001b[0m  0.1028\n    120        \u001b[36m1.0247\u001b[0m        \u001b[32m0.9518\u001b[0m  0.1075\n    121        \u001b[36m1.0236\u001b[0m        \u001b[32m0.9512\u001b[0m  0.2024\n    122        \u001b[36m1.0225\u001b[0m        \u001b[32m0.9505\u001b[0m  0.2075\n    123        \u001b[36m1.0214\u001b[0m        \u001b[32m0.9499\u001b[0m  0.1939\n    124        \u001b[36m1.0203\u001b[0m        \u001b[32m0.9492\u001b[0m  0.0958\n    125        \u001b[36m1.0192\u001b[0m        \u001b[32m0.9486\u001b[0m  0.0948\n    126        \u001b[36m1.0182\u001b[0m        \u001b[32m0.9480\u001b[0m  0.0956\n    127        \u001b[36m1.0171\u001b[0m        \u001b[32m0.9473\u001b[0m  0.0911\n    128        \u001b[36m1.0161\u001b[0m        \u001b[32m0.9467\u001b[0m  0.2041\n    129        \u001b[36m1.0150\u001b[0m        \u001b[32m0.9461\u001b[0m  0.1174\n    130        \u001b[36m1.0140\u001b[0m        \u001b[32m0.9455\u001b[0m  0.1945\n    131        \u001b[36m1.0130\u001b[0m        \u001b[32m0.9449\u001b[0m  0.1223\n    132        \u001b[36m1.0120\u001b[0m        \u001b[32m0.9443\u001b[0m  0.1880\n    133        \u001b[36m1.0110\u001b[0m        \u001b[32m0.9437\u001b[0m  0.1860\n    134        \u001b[36m1.0100\u001b[0m        \u001b[32m0.9431\u001b[0m  0.0894\n    135        \u001b[36m1.0090\u001b[0m        \u001b[32m0.9426\u001b[0m  0.1933\n    136        \u001b[36m1.0081\u001b[0m        \u001b[32m0.9420\u001b[0m  0.1085\n    137        \u001b[36m1.0071\u001b[0m        \u001b[32m0.9414\u001b[0m  0.2060\n    138        \u001b[36m1.0062\u001b[0m        \u001b[32m0.9409\u001b[0m  0.1926\n    139        \u001b[36m1.0052\u001b[0m        \u001b[32m0.9403\u001b[0m  0.1979\n    140        \u001b[36m1.0043\u001b[0m        \u001b[32m0.9398\u001b[0m  0.0744\n    141        \u001b[36m1.0034\u001b[0m        \u001b[32m0.9393\u001b[0m  0.0299\n    142        \u001b[36m1.0025\u001b[0m        \u001b[32m0.9387\u001b[0m  0.2195\n    143        \u001b[36m1.0015\u001b[0m        \u001b[32m0.9382\u001b[0m  0.1941\n    144        \u001b[36m1.0006\u001b[0m        \u001b[32m0.9377\u001b[0m  0.2318\n    145        \u001b[36m0.9997\u001b[0m        \u001b[32m0.9372\u001b[0m  0.2305\n    146        \u001b[36m0.9989\u001b[0m        \u001b[32m0.9367\u001b[0m  0.1875\n    147        \u001b[36m0.9980\u001b[0m        \u001b[32m0.9362\u001b[0m  0.2093\n    148        \u001b[36m0.9971\u001b[0m        \u001b[32m0.9357\u001b[0m  0.1876\n    149        \u001b[36m0.9962\u001b[0m        \u001b[32m0.9352\u001b[0m  0.2012\n    150        \u001b[36m0.9954\u001b[0m        \u001b[32m0.9348\u001b[0m  0.2251\n    151        \u001b[36m0.9945\u001b[0m        \u001b[32m0.9343\u001b[0m  0.2066\n    152        \u001b[36m0.9937\u001b[0m        \u001b[32m0.9338\u001b[0m  0.1242\n    153        \u001b[36m0.9928\u001b[0m        \u001b[32m0.9334\u001b[0m  0.0324\n    154        \u001b[36m0.9920\u001b[0m        \u001b[32m0.9329\u001b[0m  0.2157\n    155        \u001b[36m0.9912\u001b[0m        \u001b[32m0.9325\u001b[0m  0.2028\n    156        \u001b[36m0.9904\u001b[0m        \u001b[32m0.9320\u001b[0m  0.1315\n    157        \u001b[36m0.9896\u001b[0m        \u001b[32m0.9316\u001b[0m  0.1320\n    158        \u001b[36m0.9887\u001b[0m        \u001b[32m0.9312\u001b[0m  0.1334\n    159        \u001b[36m0.9879\u001b[0m        \u001b[32m0.9307\u001b[0m  0.1326\n    160        \u001b[36m0.9871\u001b[0m        \u001b[32m0.9303\u001b[0m  0.1940\n    161        \u001b[36m0.9864\u001b[0m        \u001b[32m0.9299\u001b[0m  0.1740\n    162        \u001b[36m0.9856\u001b[0m        \u001b[32m0.9295\u001b[0m  0.1194\n    163        \u001b[36m0.9848\u001b[0m        \u001b[32m0.9291\u001b[0m  0.1195\n    164        \u001b[36m0.9840\u001b[0m        \u001b[32m0.9287\u001b[0m  0.1356\n    165        \u001b[36m0.9833\u001b[0m        \u001b[32m0.9283\u001b[0m  0.1335\n    166        \u001b[36m0.9825\u001b[0m        \u001b[32m0.9279\u001b[0m  0.1189\n    167        \u001b[36m0.9817\u001b[0m        \u001b[32m0.9275\u001b[0m  0.1728\n    168        \u001b[36m0.9810\u001b[0m        \u001b[32m0.9272\u001b[0m  0.1931\n    169        \u001b[36m0.9802\u001b[0m        \u001b[32m0.9268\u001b[0m  0.1174\n    170        \u001b[36m0.9795\u001b[0m        \u001b[32m0.9264\u001b[0m  0.1181\n    171        \u001b[36m0.9787\u001b[0m        \u001b[32m0.9261\u001b[0m  0.0220\n    172        \u001b[36m0.9780\u001b[0m        \u001b[32m0.9257\u001b[0m  0.0335\n    173        \u001b[36m0.9773\u001b[0m        \u001b[32m0.9253\u001b[0m  0.0227\n    174        \u001b[36m0.9766\u001b[0m        \u001b[32m0.9250\u001b[0m  0.0837\n    175        \u001b[36m0.9758\u001b[0m        \u001b[32m0.9247\u001b[0m  0.0898\n    176        \u001b[36m0.9751\u001b[0m        \u001b[32m0.9243\u001b[0m  0.0304\n    177        \u001b[36m0.9744\u001b[0m        \u001b[32m0.9240\u001b[0m  0.1163\n    178        \u001b[36m0.9737\u001b[0m        \u001b[32m0.9236\u001b[0m  0.2037\n    179        \u001b[36m0.9730\u001b[0m        \u001b[32m0.9233\u001b[0m  0.1267\n    180        \u001b[36m0.9723\u001b[0m        \u001b[32m0.9230\u001b[0m  0.1135\n    181        \u001b[36m0.9716\u001b[0m        \u001b[32m0.9227\u001b[0m  0.0992\n    182        \u001b[36m0.9709\u001b[0m        \u001b[32m0.9223\u001b[0m  0.0962\n    183        \u001b[36m0.9703\u001b[0m        \u001b[32m0.9220\u001b[0m  0.0330\n    184        \u001b[36m0.9696\u001b[0m        \u001b[32m0.9217\u001b[0m  0.3039\n    185        \u001b[36m0.9689\u001b[0m        \u001b[32m0.9214\u001b[0m  0.1093\n    186        \u001b[36m0.9682\u001b[0m        \u001b[32m0.9211\u001b[0m  0.1854\n    187        \u001b[36m0.9676\u001b[0m        \u001b[32m0.9208\u001b[0m  0.2077\n    188        \u001b[36m0.9669\u001b[0m        \u001b[32m0.9205\u001b[0m  0.1877\n    189        \u001b[36m0.9662\u001b[0m        \u001b[32m0.9202\u001b[0m  0.1954\n    190        \u001b[36m0.9656\u001b[0m        \u001b[32m0.9199\u001b[0m  0.2106\n    191        \u001b[36m0.9649\u001b[0m        \u001b[32m0.9197\u001b[0m  0.1832\n    192        \u001b[36m0.9643\u001b[0m        \u001b[32m0.9194\u001b[0m  0.2713\n    193        \u001b[36m0.9636\u001b[0m        \u001b[32m0.9191\u001b[0m  0.1950\n    194        \u001b[36m0.9630\u001b[0m        \u001b[32m0.9188\u001b[0m  0.2127\n    195        \u001b[36m0.9623\u001b[0m        \u001b[32m0.9186\u001b[0m  0.2049\n    196        \u001b[36m0.9617\u001b[0m        \u001b[32m0.9183\u001b[0m  0.0923\n    197        \u001b[36m0.9611\u001b[0m        \u001b[32m0.9180\u001b[0m  0.0976\n    198        \u001b[36m0.9604\u001b[0m        \u001b[32m0.9178\u001b[0m  0.1022\n    199        \u001b[36m0.9598\u001b[0m        \u001b[32m0.9175\u001b[0m  0.0962\n    200        \u001b[36m0.9592\u001b[0m        \u001b[32m0.9173\u001b[0m  0.0927\n    201        \u001b[36m0.9585\u001b[0m        \u001b[32m0.9170\u001b[0m  0.0974\n    202        \u001b[36m0.9579\u001b[0m        \u001b[32m0.9168\u001b[0m  0.1045\n    203        \u001b[36m0.9573\u001b[0m        \u001b[32m0.9166\u001b[0m  0.1183\n    204        \u001b[36m0.9567\u001b[0m        \u001b[32m0.9163\u001b[0m  0.1718\n    205        \u001b[36m0.9561\u001b[0m        \u001b[32m0.9161\u001b[0m  0.1025\n    206        \u001b[36m0.9555\u001b[0m        \u001b[32m0.9159\u001b[0m  0.0896\n    207        \u001b[36m0.9549\u001b[0m        \u001b[32m0.9157\u001b[0m  0.0888\n    208        \u001b[36m0.9543\u001b[0m        \u001b[32m0.9154\u001b[0m  0.0253\n    209        \u001b[36m0.9537\u001b[0m        \u001b[32m0.9152\u001b[0m  0.0231\n    210        \u001b[36m0.9531\u001b[0m        \u001b[32m0.9150\u001b[0m  0.1898\n    211        \u001b[36m0.9525\u001b[0m        \u001b[32m0.9148\u001b[0m  0.0876\n    212        \u001b[36m0.9519\u001b[0m        \u001b[32m0.9146\u001b[0m  0.1173\n    213        \u001b[36m0.9513\u001b[0m        \u001b[32m0.9144\u001b[0m  0.2183\n    214        \u001b[36m0.9507\u001b[0m        \u001b[32m0.9142\u001b[0m  0.1286\n    215        \u001b[36m0.9501\u001b[0m        \u001b[32m0.9140\u001b[0m  0.1087\n    216        \u001b[36m0.9495\u001b[0m        \u001b[32m0.9138\u001b[0m  0.3058\n    217        \u001b[36m0.9489\u001b[0m        \u001b[32m0.9137\u001b[0m  0.2959\n    218        \u001b[36m0.9484\u001b[0m        \u001b[32m0.9135\u001b[0m  0.3032\n    219        \u001b[36m0.9478\u001b[0m        \u001b[32m0.9133\u001b[0m  0.3037\n    220        \u001b[36m0.9472\u001b[0m        \u001b[32m0.9131\u001b[0m  0.2901\n    221        \u001b[36m0.9466\u001b[0m        \u001b[32m0.9130\u001b[0m  0.2993\n    222        \u001b[36m0.9461\u001b[0m        \u001b[32m0.9128\u001b[0m  0.2873\n    223        \u001b[36m0.9455\u001b[0m        \u001b[32m0.9127\u001b[0m  0.2712\n    224        \u001b[36m0.9449\u001b[0m        \u001b[32m0.9125\u001b[0m  0.2963\n    225        \u001b[36m0.9444\u001b[0m        \u001b[32m0.9123\u001b[0m  0.2885\n    226        \u001b[36m0.9438\u001b[0m        \u001b[32m0.9122\u001b[0m  0.3740\n    227        \u001b[36m0.9432\u001b[0m        \u001b[32m0.9121\u001b[0m  0.2310\n    228        \u001b[36m0.9427\u001b[0m        \u001b[32m0.9119\u001b[0m  0.2334\nStopping since valid_loss has not improved in the last 20 epochs.\n  epoch    train_loss    valid_loss     dur\n-------  ------------  ------------  ------\n      1      \u001b[36m221.3528\u001b[0m      \u001b[32m152.8974\u001b[0m  0.0897\n      2      \u001b[36m114.6945\u001b[0m       \u001b[32m14.4048\u001b[0m  0.0914\n      3       \u001b[36m32.2361\u001b[0m       49.9582  0.0956\n      4       41.4823       23.3701  0.1052\n      5       \u001b[36m21.7320\u001b[0m       16.6838  0.1114\n      6       \u001b[36m13.9175\u001b[0m        \u001b[32m7.5918\u001b[0m  0.1076\n      7        \u001b[36m8.4379\u001b[0m        8.1900  0.0311\n      8        \u001b[36m8.3062\u001b[0m        \u001b[32m4.7782\u001b[0m  0.0287\n      9        \u001b[36m5.4722\u001b[0m        \u001b[32m3.7881\u001b[0m  0.0273\n     10        \u001b[36m4.1232\u001b[0m        \u001b[32m3.3545\u001b[0m  0.0917\n     11        \u001b[36m3.5459\u001b[0m        \u001b[32m2.4617\u001b[0m  0.0967\n     12        \u001b[36m3.0051\u001b[0m        \u001b[32m2.3399\u001b[0m  0.0821\n     13        \u001b[36m2.6645\u001b[0m        \u001b[32m2.2114\u001b[0m  0.0989\n     14        \u001b[36m2.4293\u001b[0m        \u001b[32m1.8510\u001b[0m  0.0891\n     15        \u001b[36m2.1086\u001b[0m        1.9171  0.0892\n     16        2.1176        1.9725  0.1015\n     17        2.1252        \u001b[32m1.8464\u001b[0m  0.0950\n     18        \u001b[36m1.9455\u001b[0m        \u001b[32m1.5054\u001b[0m  0.0945\n     19        \u001b[36m1.7432\u001b[0m        \u001b[32m1.4512\u001b[0m  0.0963\n     20        \u001b[36m1.7174\u001b[0m        1.5173  0.0886\n     21        1.7257        \u001b[32m1.3259\u001b[0m  0.0970\n     22        \u001b[36m1.5800\u001b[0m        \u001b[32m1.2973\u001b[0m  0.0961\n     23        \u001b[36m1.5123\u001b[0m        1.4069  0.0959\n     24        1.5641        1.3527  0.0925\n     25        1.5262        \u001b[32m1.2745\u001b[0m  0.0914\n     26        \u001b[36m1.4612\u001b[0m        \u001b[32m1.2570\u001b[0m  0.0958\n     27        \u001b[36m1.4322\u001b[0m        \u001b[32m1.2173\u001b[0m  0.0964\n     28        \u001b[36m1.4111\u001b[0m        \u001b[32m1.1904\u001b[0m  0.0962\n     29        \u001b[36m1.3912\u001b[0m        1.2060  0.0873\n     30        \u001b[36m1.3747\u001b[0m        1.2090  0.0892\n     31        \u001b[36m1.3603\u001b[0m        \u001b[32m1.1898\u001b[0m  0.0918\n     32        \u001b[36m1.3474\u001b[0m        1.1990  0.1031\n     33        \u001b[36m1.3406\u001b[0m        1.2016  0.0926\n     34        \u001b[36m1.3308\u001b[0m        \u001b[32m1.1734\u001b[0m  0.1000\n     35        \u001b[36m1.3132\u001b[0m        \u001b[32m1.1648\u001b[0m  0.0970\n     36        \u001b[36m1.3039\u001b[0m        1.1657  0.0867\n     37        \u001b[36m1.2982\u001b[0m        \u001b[32m1.1500\u001b[0m  0.0888\n     38        \u001b[36m1.2859\u001b[0m        \u001b[32m1.1382\u001b[0m  0.0228\n     39        \u001b[36m1.2734\u001b[0m        1.1384  0.0377\n     40        \u001b[36m1.2646\u001b[0m        \u001b[32m1.1353\u001b[0m  0.0261\n     41        \u001b[36m1.2574\u001b[0m        \u001b[32m1.1269\u001b[0m  0.0325\n     42        \u001b[36m1.2492\u001b[0m        \u001b[32m1.1230\u001b[0m  0.1223\n     43        \u001b[36m1.2416\u001b[0m        \u001b[32m1.1174\u001b[0m  0.1344\n     44        \u001b[36m1.2355\u001b[0m        \u001b[32m1.1066\u001b[0m  0.2059\n     45        \u001b[36m1.2283\u001b[0m        \u001b[32m1.1006\u001b[0m  0.0252\n     46        \u001b[36m1.2209\u001b[0m        \u001b[32m1.0984\u001b[0m  0.2112\n     47        \u001b[36m1.2146\u001b[0m        \u001b[32m1.0933\u001b[0m  0.2079\n     48        \u001b[36m1.2082\u001b[0m        \u001b[32m1.0890\u001b[0m  0.1995\n     49        \u001b[36m1.2021\u001b[0m        \u001b[32m1.0869\u001b[0m  0.2113\n     50        \u001b[36m1.1968\u001b[0m        \u001b[32m1.0822\u001b[0m  0.2052\n     51        \u001b[36m1.1913\u001b[0m        \u001b[32m1.0768\u001b[0m  0.1219\n     52        \u001b[36m1.1859\u001b[0m        \u001b[32m1.0746\u001b[0m  0.2066\n     53        \u001b[36m1.1812\u001b[0m        \u001b[32m1.0730\u001b[0m  0.1106\n     54        \u001b[36m1.1768\u001b[0m        \u001b[32m1.0697\u001b[0m  0.0322\n     55        \u001b[36m1.1721\u001b[0m        \u001b[32m1.0676\u001b[0m  0.1265\n     56        \u001b[36m1.1676\u001b[0m        \u001b[32m1.0661\u001b[0m  0.0392\n     57        \u001b[36m1.1635\u001b[0m        \u001b[32m1.0629\u001b[0m  0.2331\n     58        \u001b[36m1.1592\u001b[0m        \u001b[32m1.0600\u001b[0m  0.2192\n     59        \u001b[36m1.1550\u001b[0m        \u001b[32m1.0584\u001b[0m  0.2783\n     60        \u001b[36m1.1513\u001b[0m        \u001b[32m1.0560\u001b[0m  0.0892\n     61        \u001b[36m1.1476\u001b[0m        \u001b[32m1.0533\u001b[0m  0.1890\n     62        \u001b[36m1.1439\u001b[0m        \u001b[32m1.0516\u001b[0m  0.1091\n     63        \u001b[36m1.1404\u001b[0m        \u001b[32m1.0498\u001b[0m  0.1117\n     64        \u001b[36m1.1370\u001b[0m        \u001b[32m1.0474\u001b[0m  0.1304\n     65        \u001b[36m1.1336\u001b[0m        \u001b[32m1.0457\u001b[0m  0.0284\n     66        \u001b[36m1.1304\u001b[0m        \u001b[32m1.0441\u001b[0m  0.1003\n     67        \u001b[36m1.1273\u001b[0m        \u001b[32m1.0417\u001b[0m  0.1111\n     68        \u001b[36m1.1242\u001b[0m        \u001b[32m1.0396\u001b[0m  0.1788\n     69        \u001b[36m1.1213\u001b[0m        \u001b[32m1.0379\u001b[0m  0.2035\n     70        \u001b[36m1.1184\u001b[0m        \u001b[32m1.0359\u001b[0m  0.1969\n     71        \u001b[36m1.1155\u001b[0m        \u001b[32m1.0340\u001b[0m  0.0918\n     72        \u001b[36m1.1128\u001b[0m        \u001b[32m1.0325\u001b[0m  0.0910\n     73        \u001b[36m1.1101\u001b[0m        \u001b[32m1.0309\u001b[0m  0.0259\n     74        \u001b[36m1.1075\u001b[0m        \u001b[32m1.0290\u001b[0m  0.2091\n     75        \u001b[36m1.1049\u001b[0m        \u001b[32m1.0274\u001b[0m  0.2076\n     76        \u001b[36m1.1025\u001b[0m        \u001b[32m1.0258\u001b[0m  0.2214\n     77        \u001b[36m1.1000\u001b[0m        \u001b[32m1.0241\u001b[0m  0.2103\n     78        \u001b[36m1.0977\u001b[0m        \u001b[32m1.0226\u001b[0m  0.0890\n     79        \u001b[36m1.0954\u001b[0m        \u001b[32m1.0212\u001b[0m  0.2116\n     80        \u001b[36m1.0931\u001b[0m        \u001b[32m1.0197\u001b[0m  0.2042\n     81        \u001b[36m1.0909\u001b[0m        \u001b[32m1.0183\u001b[0m  0.2107\n     82        \u001b[36m1.0888\u001b[0m        \u001b[32m1.0170\u001b[0m  0.2020\n     83        \u001b[36m1.0867\u001b[0m        \u001b[32m1.0157\u001b[0m  0.0261\n     84        \u001b[36m1.0846\u001b[0m        \u001b[32m1.0143\u001b[0m  0.0839\n     85        \u001b[36m1.0826\u001b[0m        \u001b[32m1.0132\u001b[0m  0.0867\n     86        \u001b[36m1.0806\u001b[0m        \u001b[32m1.0120\u001b[0m  0.1100\n     87        \u001b[36m1.0787\u001b[0m        \u001b[32m1.0108\u001b[0m  0.0835\n     88        \u001b[36m1.0768\u001b[0m        \u001b[32m1.0097\u001b[0m  0.0927\n     89        \u001b[36m1.0750\u001b[0m        \u001b[32m1.0086\u001b[0m  0.0847\n     90        \u001b[36m1.0732\u001b[0m        \u001b[32m1.0076\u001b[0m  0.0246\n     91        \u001b[36m1.0714\u001b[0m        \u001b[32m1.0066\u001b[0m  0.1359\n     92        \u001b[36m1.0697\u001b[0m        \u001b[32m1.0056\u001b[0m  0.1963\n     93        \u001b[36m1.0680\u001b[0m        \u001b[32m1.0047\u001b[0m  0.2104\n     94        \u001b[36m1.0664\u001b[0m        \u001b[32m1.0037\u001b[0m  0.0913\n     95        \u001b[36m1.0648\u001b[0m        \u001b[32m1.0029\u001b[0m  0.2136\n     96        \u001b[36m1.0632\u001b[0m        \u001b[32m1.0021\u001b[0m  0.1350\n     97        \u001b[36m1.0616\u001b[0m        \u001b[32m1.0013\u001b[0m  0.2007\n     98        \u001b[36m1.0601\u001b[0m        \u001b[32m1.0005\u001b[0m  0.1210\n     99        \u001b[36m1.0586\u001b[0m        \u001b[32m0.9998\u001b[0m  0.1101\n    100        \u001b[36m1.0571\u001b[0m        \u001b[32m0.9991\u001b[0m  0.2011\n    101        \u001b[36m1.0556\u001b[0m        \u001b[32m0.9984\u001b[0m  0.2056\n    102        \u001b[36m1.0542\u001b[0m        \u001b[32m0.9978\u001b[0m  0.1976\n    103        \u001b[36m1.0528\u001b[0m        \u001b[32m0.9971\u001b[0m  0.2047\n    104        \u001b[36m1.0515\u001b[0m        \u001b[32m0.9966\u001b[0m  0.1953\n    105        \u001b[36m1.0501\u001b[0m        \u001b[32m0.9960\u001b[0m  0.2057\n    106        \u001b[36m1.0488\u001b[0m        \u001b[32m0.9955\u001b[0m  0.2009\n    107        \u001b[36m1.0475\u001b[0m        \u001b[32m0.9949\u001b[0m  0.1960\n    108        \u001b[36m1.0462\u001b[0m        \u001b[32m0.9945\u001b[0m  0.2149\n    109        \u001b[36m1.0449\u001b[0m        \u001b[32m0.9940\u001b[0m  0.1286\n    110        \u001b[36m1.0437\u001b[0m        \u001b[32m0.9936\u001b[0m  0.1278\n    111        \u001b[36m1.0425\u001b[0m        \u001b[32m0.9931\u001b[0m  0.1261\n    112        \u001b[36m1.0413\u001b[0m        \u001b[32m0.9927\u001b[0m  0.2017\n    113        \u001b[36m1.0401\u001b[0m        \u001b[32m0.9924\u001b[0m  0.1956\n    114        \u001b[36m1.0389\u001b[0m        \u001b[32m0.9920\u001b[0m  0.1187\n    115        \u001b[36m1.0378\u001b[0m        \u001b[32m0.9917\u001b[0m  0.1942\n    116        \u001b[36m1.0367\u001b[0m        \u001b[32m0.9913\u001b[0m  0.2129\n    117        \u001b[36m1.0356\u001b[0m        \u001b[32m0.9910\u001b[0m  0.1991\n    118        \u001b[36m1.0345\u001b[0m        \u001b[32m0.9907\u001b[0m  0.1288\n    119        \u001b[36m1.0334\u001b[0m        \u001b[32m0.9904\u001b[0m  0.1780\n    120        \u001b[36m1.0323\u001b[0m        \u001b[32m0.9902\u001b[0m  0.1927\n    121        \u001b[36m1.0313\u001b[0m        \u001b[32m0.9899\u001b[0m  0.1892\n    122        \u001b[36m1.0302\u001b[0m        \u001b[32m0.9897\u001b[0m  0.1881\n    123        \u001b[36m1.0292\u001b[0m        \u001b[32m0.9895\u001b[0m  0.1002\n    124        \u001b[36m1.0282\u001b[0m        \u001b[32m0.9892\u001b[0m  0.1187\n    125        \u001b[36m1.0273\u001b[0m        \u001b[32m0.9890\u001b[0m  0.1057\n    126        \u001b[36m1.0263\u001b[0m        \u001b[32m0.9888\u001b[0m  0.0242\n    127        \u001b[36m1.0253\u001b[0m        \u001b[32m0.9887\u001b[0m  0.1302\n    128        \u001b[36m1.0244\u001b[0m        \u001b[32m0.9885\u001b[0m  0.2832\n    129        \u001b[36m1.0235\u001b[0m        \u001b[32m0.9883\u001b[0m  0.2779\n    130        \u001b[36m1.0225\u001b[0m        \u001b[32m0.9882\u001b[0m  0.2144\n    131        \u001b[36m1.0216\u001b[0m        \u001b[32m0.9880\u001b[0m  0.1970\nStopping since valid_loss has not improved in the last 20 epochs.\n  epoch    train_loss    valid_loss     dur\n-------  ------------  ------------  ------\n      1      \u001b[36m222.4336\u001b[0m      \u001b[32m150.9250\u001b[0m  0.1929\n      2      \u001b[36m109.7161\u001b[0m       \u001b[32m17.3865\u001b[0m  0.2012\n      3       \u001b[36m44.2420\u001b[0m       53.4461  0.1803\n      4       \u001b[36m36.7158\u001b[0m       22.2759  0.1824\n      5       \u001b[36m23.5586\u001b[0m       \u001b[32m14.0944\u001b[0m  0.0903\n      6       \u001b[36m10.6911\u001b[0m        \u001b[32m9.4196\u001b[0m  0.1023\n      7       10.7657       14.3449  0.1972\n      8       13.7768        \u001b[32m4.8296\u001b[0m  0.2108\n      9        \u001b[36m4.3857\u001b[0m        6.1047  0.1774\n     10        7.5479        8.1944  0.1241\n     11        7.3491        \u001b[32m4.1662\u001b[0m  0.1073\n     12        \u001b[36m3.7004\u001b[0m        \u001b[32m3.5000\u001b[0m  0.2127\n     13        4.3645        4.9712  0.2069\n     14        4.7971        \u001b[32m2.1758\u001b[0m  0.1923\n     15        \u001b[36m2.4017\u001b[0m        2.9276  0.1940\n     16        3.1148        3.1854  0.2034\n     17        3.2120        \u001b[32m1.8462\u001b[0m  0.1988\n     18        \u001b[36m1.9397\u001b[0m        1.8756  0.1991\n     19        2.2551        2.2042  0.2176\n     20        2.3723        \u001b[32m1.5804\u001b[0m  0.2956\n     21        \u001b[36m1.7828\u001b[0m        \u001b[32m1.5116\u001b[0m  0.3736\n     22        \u001b[36m1.7602\u001b[0m        1.9447  0.2905\n     23        1.9685        \u001b[32m1.5087\u001b[0m  0.2807\n     24        \u001b[36m1.6336\u001b[0m        \u001b[32m1.2882\u001b[0m  0.1822\n     25        \u001b[36m1.5682\u001b[0m        1.3863  0.1964\n     26        1.6531        1.2909  0.2845\n     27        \u001b[36m1.4930\u001b[0m        \u001b[32m1.2167\u001b[0m  0.1147\n     28        \u001b[36m1.4530\u001b[0m        1.2852  0.1862\n     29        1.4987        1.2414  0.2108\n     30        \u001b[36m1.4296\u001b[0m        \u001b[32m1.1506\u001b[0m  0.2033\n     31        \u001b[36m1.3870\u001b[0m        \u001b[32m1.1464\u001b[0m  0.5033\n     32        1.4049        \u001b[32m1.1187\u001b[0m  0.1937\n     33        \u001b[36m1.3642\u001b[0m        \u001b[32m1.1125\u001b[0m  0.2135\n     34        \u001b[36m1.3310\u001b[0m        1.1421  0.2054\n     35        1.3446        1.1168  0.2027\n     36        \u001b[36m1.3227\u001b[0m        \u001b[32m1.0844\u001b[0m  0.2813\n     37        \u001b[36m1.2999\u001b[0m        1.0847  0.1933\n     38        1.3003        \u001b[32m1.0746\u001b[0m  0.1891\n     39        \u001b[36m1.2868\u001b[0m        \u001b[32m1.0633\u001b[0m  0.2037\n     40        \u001b[36m1.2715\u001b[0m        1.0814  0.2056\n     41        \u001b[36m1.2707\u001b[0m        1.0840  0.1908\n     42        \u001b[36m1.2647\u001b[0m        \u001b[32m1.0572\u001b[0m  0.2071\n     43        \u001b[36m1.2507\u001b[0m        \u001b[32m1.0447\u001b[0m  0.1150\n     44        \u001b[36m1.2461\u001b[0m        1.0451  0.1264\n     45        \u001b[36m1.2391\u001b[0m        \u001b[32m1.0426\u001b[0m  0.1342\n     46        \u001b[36m1.2298\u001b[0m        \u001b[32m1.0403\u001b[0m  0.1243\n     47        \u001b[36m1.2254\u001b[0m        1.0414  0.1904\n     48        \u001b[36m1.2204\u001b[0m        \u001b[32m1.0370\u001b[0m  0.1995\n     49        \u001b[36m1.2130\u001b[0m        \u001b[32m1.0276\u001b[0m  0.1257\n     50        \u001b[36m1.2067\u001b[0m        \u001b[32m1.0213\u001b[0m  0.2744\n     51        \u001b[36m1.2012\u001b[0m        1.0215  0.1210\n     52        \u001b[36m1.1948\u001b[0m        1.0238  0.1357\n     53        \u001b[36m1.1901\u001b[0m        \u001b[32m1.0210\u001b[0m  0.1258\n     54        \u001b[36m1.1854\u001b[0m        \u001b[32m1.0164\u001b[0m  0.2050\n     55        \u001b[36m1.1799\u001b[0m        \u001b[32m1.0139\u001b[0m  0.2136\n     56        \u001b[36m1.1747\u001b[0m        \u001b[32m1.0110\u001b[0m  0.2019\n     57        \u001b[36m1.1698\u001b[0m        \u001b[32m1.0076\u001b[0m  0.1934\n     58        \u001b[36m1.1650\u001b[0m        \u001b[32m1.0071\u001b[0m  0.1929\n     59        \u001b[36m1.1605\u001b[0m        \u001b[32m1.0069\u001b[0m  0.0290\n     60        \u001b[36m1.1563\u001b[0m        \u001b[32m1.0034\u001b[0m  0.1124\n     61        \u001b[36m1.1518\u001b[0m        \u001b[32m0.9995\u001b[0m  0.1134\n     62        \u001b[36m1.1474\u001b[0m        \u001b[32m0.9979\u001b[0m  0.0907\n     63        \u001b[36m1.1431\u001b[0m        \u001b[32m0.9969\u001b[0m  0.0955\n     64        \u001b[36m1.1390\u001b[0m        \u001b[32m0.9951\u001b[0m  0.0275\n     65        \u001b[36m1.1352\u001b[0m        \u001b[32m0.9934\u001b[0m  0.0339\n     66        \u001b[36m1.1314\u001b[0m        \u001b[32m0.9920\u001b[0m  0.1151\n     67        \u001b[36m1.1276\u001b[0m        \u001b[32m0.9897\u001b[0m  0.2069\n     68        \u001b[36m1.1238\u001b[0m        \u001b[32m0.9873\u001b[0m  0.1878\n     69        \u001b[36m1.1202\u001b[0m        \u001b[32m0.9861\u001b[0m  0.1873\n     70        \u001b[36m1.1167\u001b[0m        \u001b[32m0.9852\u001b[0m  0.1153\n     71        \u001b[36m1.1133\u001b[0m        \u001b[32m0.9836\u001b[0m  0.1078\n     72        \u001b[36m1.1100\u001b[0m        \u001b[32m0.9816\u001b[0m  0.1183\n     73        \u001b[36m1.1067\u001b[0m        \u001b[32m0.9800\u001b[0m  0.1797\n     74        \u001b[36m1.1035\u001b[0m        \u001b[32m0.9785\u001b[0m  0.1228\n     75        \u001b[36m1.1004\u001b[0m        \u001b[32m0.9770\u001b[0m  0.2052\n     76        \u001b[36m1.0974\u001b[0m        \u001b[32m0.9757\u001b[0m  0.1187\n     77        \u001b[36m1.0944\u001b[0m        \u001b[32m0.9745\u001b[0m  0.3004\n     78        \u001b[36m1.0915\u001b[0m        \u001b[32m0.9731\u001b[0m  0.2220\n     79        \u001b[36m1.0887\u001b[0m        \u001b[32m0.9715\u001b[0m  0.2108\n     80        \u001b[36m1.0858\u001b[0m        \u001b[32m0.9702\u001b[0m  0.2080\n     81        \u001b[36m1.0831\u001b[0m        \u001b[32m0.9691\u001b[0m  0.1122\n     82        \u001b[36m1.0804\u001b[0m        \u001b[32m0.9679\u001b[0m  0.1777\n     83        \u001b[36m1.0778\u001b[0m        \u001b[32m0.9666\u001b[0m  0.0954\n     84        \u001b[36m1.0753\u001b[0m        \u001b[32m0.9654\u001b[0m  0.0982\n     85        \u001b[36m1.0727\u001b[0m        \u001b[32m0.9643\u001b[0m  0.1011\n     86        \u001b[36m1.0703\u001b[0m        \u001b[32m0.9631\u001b[0m  0.0865\n     87        \u001b[36m1.0678\u001b[0m        \u001b[32m0.9620\u001b[0m  0.0915\n     88        \u001b[36m1.0655\u001b[0m        \u001b[32m0.9610\u001b[0m  0.0233\n     89        \u001b[36m1.0631\u001b[0m        \u001b[32m0.9600\u001b[0m  0.0968\n     90        \u001b[36m1.0608\u001b[0m        \u001b[32m0.9589\u001b[0m  0.0261\n     91        \u001b[36m1.0586\u001b[0m        \u001b[32m0.9579\u001b[0m  0.0891\n     92        \u001b[36m1.0564\u001b[0m        \u001b[32m0.9569\u001b[0m  0.0830\n     93        \u001b[36m1.0542\u001b[0m        \u001b[32m0.9560\u001b[0m  0.0991\n     94        \u001b[36m1.0520\u001b[0m        \u001b[32m0.9551\u001b[0m  0.1093\n     95        \u001b[36m1.0499\u001b[0m        \u001b[32m0.9542\u001b[0m  0.1256\n     96        \u001b[36m1.0479\u001b[0m        \u001b[32m0.9533\u001b[0m  0.1924\n     97        \u001b[36m1.0458\u001b[0m        \u001b[32m0.9525\u001b[0m  0.1278\n     98        \u001b[36m1.0438\u001b[0m        \u001b[32m0.9517\u001b[0m  0.1898\n     99        \u001b[36m1.0418\u001b[0m        \u001b[32m0.9509\u001b[0m  0.1918\n    100        \u001b[36m1.0399\u001b[0m        \u001b[32m0.9502\u001b[0m  0.1896\n    101        \u001b[36m1.0380\u001b[0m        \u001b[32m0.9494\u001b[0m  0.2058\n    102        \u001b[36m1.0361\u001b[0m        \u001b[32m0.9487\u001b[0m  0.1995\n    103        \u001b[36m1.0342\u001b[0m        \u001b[32m0.9480\u001b[0m  0.1951\n    104        \u001b[36m1.0324\u001b[0m        \u001b[32m0.9473\u001b[0m  0.1945\n    105        \u001b[36m1.0306\u001b[0m        \u001b[32m0.9467\u001b[0m  0.0901\n    106        \u001b[36m1.0288\u001b[0m        \u001b[32m0.9461\u001b[0m  0.1028\n    107        \u001b[36m1.0270\u001b[0m        \u001b[32m0.9455\u001b[0m  0.0991\n    108        \u001b[36m1.0253\u001b[0m        \u001b[32m0.9449\u001b[0m  0.0891\n    109        \u001b[36m1.0236\u001b[0m        \u001b[32m0.9443\u001b[0m  0.1039\n    110        \u001b[36m1.0219\u001b[0m        \u001b[32m0.9438\u001b[0m  0.0315\n    111        \u001b[36m1.0203\u001b[0m        \u001b[32m0.9432\u001b[0m  0.1248\n    112        \u001b[36m1.0186\u001b[0m        \u001b[32m0.9427\u001b[0m  0.0946\n    113        \u001b[36m1.0170\u001b[0m        \u001b[32m0.9422\u001b[0m  0.0955\n    114        \u001b[36m1.0154\u001b[0m        \u001b[32m0.9418\u001b[0m  0.0957\n    115        \u001b[36m1.0138\u001b[0m        \u001b[32m0.9413\u001b[0m  0.0826\n    116        \u001b[36m1.0123\u001b[0m        \u001b[32m0.9409\u001b[0m  0.0955\n    117        \u001b[36m1.0108\u001b[0m        \u001b[32m0.9404\u001b[0m  0.0994\n    118        \u001b[36m1.0093\u001b[0m        \u001b[32m0.9400\u001b[0m  0.0992\n    119        \u001b[36m1.0078\u001b[0m        \u001b[32m0.9396\u001b[0m  0.0961\n    120        \u001b[36m1.0063\u001b[0m        \u001b[32m0.9393\u001b[0m  0.0852\n    121        \u001b[36m1.0048\u001b[0m        \u001b[32m0.9389\u001b[0m  0.0955\n    122        \u001b[36m1.0034\u001b[0m        \u001b[32m0.9386\u001b[0m  0.0882\n    123        \u001b[36m1.0020\u001b[0m        \u001b[32m0.9382\u001b[0m  0.0288\n    124        \u001b[36m1.0006\u001b[0m        \u001b[32m0.9379\u001b[0m  0.1256\n    125        \u001b[36m0.9992\u001b[0m        \u001b[32m0.9376\u001b[0m  0.2072\n    126        \u001b[36m0.9978\u001b[0m        \u001b[32m0.9373\u001b[0m  0.1331\n    127        \u001b[36m0.9964\u001b[0m        \u001b[32m0.9370\u001b[0m  0.2075\n    128        \u001b[36m0.9951\u001b[0m        \u001b[32m0.9368\u001b[0m  0.1868\n    129        \u001b[36m0.9938\u001b[0m        \u001b[32m0.9365\u001b[0m  0.1891\n    130        \u001b[36m0.9925\u001b[0m        \u001b[32m0.9363\u001b[0m  0.2030\n    131        \u001b[36m0.9912\u001b[0m        \u001b[32m0.9360\u001b[0m  0.0942\n    132        \u001b[36m0.9899\u001b[0m        \u001b[32m0.9358\u001b[0m  0.2163\n    133        \u001b[36m0.9886\u001b[0m        \u001b[32m0.9356\u001b[0m  0.0292\n    134        \u001b[36m0.9873\u001b[0m        \u001b[32m0.9354\u001b[0m  0.0837\n    135        \u001b[36m0.9861\u001b[0m        \u001b[32m0.9352\u001b[0m  0.0934\n    136        \u001b[36m0.9848\u001b[0m        \u001b[32m0.9350\u001b[0m  0.0956\n    137        \u001b[36m0.9836\u001b[0m        \u001b[32m0.9348\u001b[0m  0.1901\n    138        \u001b[36m0.9824\u001b[0m        \u001b[32m0.9347\u001b[0m  0.2024\n    139        \u001b[36m0.9812\u001b[0m        \u001b[32m0.9345\u001b[0m  0.0279\n    140        \u001b[36m0.9800\u001b[0m        \u001b[32m0.9344\u001b[0m  0.0261\n    141        \u001b[36m0.9788\u001b[0m        \u001b[32m0.9342\u001b[0m  0.1001\n    142        \u001b[36m0.9776\u001b[0m        \u001b[32m0.9341\u001b[0m  0.0257\nStopping since valid_loss has not improved in the last 20 epochs.\n",
     "output_type": "stream"
    }
   ]
  },
  {
   "cell_type": "code",
   "metadata": {
    "cell_id": "673f4af6-3dfb-4602-8324-bdfc5da142e5",
    "deepnote_to_be_reexecuted": true,
    "execution_millis": 2773,
    "execution_start": 1642897953669,
    "output_cleared": true,
    "source_hash": "77a89b52",
    "tags": [],
    "deepnote_cell_type": "code"
   },
   "source": "y_predictions_train = list()\ny_predictions_internal_test = list()\ny_predictions_blind_test = list()\n\n#predictions on every model is averaged\nfor model in best_models:\n    #prediction on TRAINING SET\n    y_pred = model.predict(X)\n    y_predictions_train.append(y_pred)\n    \n    #prediction on INTERNAL TEST SET\n    y_pred = model.predict(X_test)\n    y_predictions_internal_test.append(y_pred)\n\n    #prediction on BLIND TEST SET\n    y_pred = model.predict(blind_ts)\n    y_predictions_blind_test.append(y_pred)",
   "execution_count": null,
   "outputs": []
  },
  {
   "cell_type": "code",
   "metadata": {
    "cell_id": "6ec07286-f91e-49c0-aec8-58deb00c31c5",
    "deepnote_output_heights": [
     null,
     462
    ],
    "deepnote_to_be_reexecuted": true,
    "execution_millis": 658611,
    "execution_start": 1642897956451,
    "output_cleared": false,
    "source_hash": "e7c5193c",
    "tags": [],
    "deepnote_cell_type": "code"
   },
   "source": "#Wall time: 2min 21s (Michele)\nloss_train_best_models = list()\nloss_test_best_models = list()\n\nfor i in range(len(eval_best_models)):\n    epochs = epochs_best_models[i]\n    eval_model = eval_best_models[i]\n    score_train, score_test, loss_train, loss_test = fit_and_score(epochs, eval_model, X, y, X_test, y_test)\n    loss_train_best_models.append(loss_train)\n    loss_test_best_models.append(loss_test)",
   "execution_count": null,
   "outputs": [
    {
     "name": "stdout",
     "text": "    129        \u001b[36m1.0327\u001b[0m        \u001b[32m0.9441\u001b[0m  0.0331\n    130        \u001b[36m1.0316\u001b[0m        \u001b[32m0.9435\u001b[0m  0.0897\n    131        \u001b[36m1.0304\u001b[0m        \u001b[32m0.9428\u001b[0m  0.0828\n    132        \u001b[36m1.0293\u001b[0m        \u001b[32m0.9422\u001b[0m  0.0923\n    133        \u001b[36m1.0282\u001b[0m        \u001b[32m0.9416\u001b[0m  0.0954\n    134        \u001b[36m1.0271\u001b[0m        \u001b[32m0.9411\u001b[0m  0.0242\n    135        \u001b[36m1.0260\u001b[0m        \u001b[32m0.9405\u001b[0m  0.0252\n    136        \u001b[36m1.0250\u001b[0m        \u001b[32m0.9399\u001b[0m  0.0941\n    137        \u001b[36m1.0239\u001b[0m        \u001b[32m0.9394\u001b[0m  0.0873\n    138        \u001b[36m1.0229\u001b[0m        \u001b[32m0.9388\u001b[0m  0.0862\n    139        \u001b[36m1.0219\u001b[0m        \u001b[32m0.9383\u001b[0m  0.0252\n    140        \u001b[36m1.0208\u001b[0m        \u001b[32m0.9378\u001b[0m  0.0264\n    141        \u001b[36m1.0198\u001b[0m        \u001b[32m0.9373\u001b[0m  0.0946\n    142        \u001b[36m1.0189\u001b[0m        \u001b[32m0.9368\u001b[0m  0.1295\n    143        \u001b[36m1.0179\u001b[0m        \u001b[32m0.9363\u001b[0m  0.1874\n    144        \u001b[36m1.0169\u001b[0m        \u001b[32m0.9358\u001b[0m  0.1917\n    145        \u001b[36m1.0159\u001b[0m        \u001b[32m0.9353\u001b[0m  0.1054\n    146        \u001b[36m1.0150\u001b[0m        \u001b[32m0.9349\u001b[0m  0.1223\n    147        \u001b[36m1.0141\u001b[0m        \u001b[32m0.9344\u001b[0m  0.0309\n    148        \u001b[36m1.0131\u001b[0m        \u001b[32m0.9339\u001b[0m  0.1244\n    149        \u001b[36m1.0122\u001b[0m        \u001b[32m0.9335\u001b[0m  0.1995\n    150        \u001b[36m1.0113\u001b[0m        \u001b[32m0.9330\u001b[0m  0.2056\n    151        \u001b[36m1.0104\u001b[0m        \u001b[32m0.9326\u001b[0m  0.2774\n    152        \u001b[36m1.0095\u001b[0m        \u001b[32m0.9322\u001b[0m  0.0252\n    153        \u001b[36m1.0086\u001b[0m        \u001b[32m0.9317\u001b[0m  0.0898\n    154        \u001b[36m1.0077\u001b[0m        \u001b[32m0.9313\u001b[0m  0.2016\n    155        \u001b[36m1.0069\u001b[0m        \u001b[32m0.9309\u001b[0m  0.0225\n    156        \u001b[36m1.0060\u001b[0m        \u001b[32m0.9305\u001b[0m  0.0256\n    157        \u001b[36m1.0052\u001b[0m        \u001b[32m0.9301\u001b[0m  0.0905\n    158        \u001b[36m1.0043\u001b[0m        \u001b[32m0.9297\u001b[0m  0.1986\n    159        \u001b[36m1.0035\u001b[0m        \u001b[32m0.9293\u001b[0m  0.1189\n    160        \u001b[36m1.0027\u001b[0m        \u001b[32m0.9289\u001b[0m  0.1999\n    161        \u001b[36m1.0018\u001b[0m        \u001b[32m0.9285\u001b[0m  0.2081\n    162        \u001b[36m1.0010\u001b[0m        \u001b[32m0.9282\u001b[0m  0.2098\n    163        \u001b[36m1.0002\u001b[0m        \u001b[32m0.9278\u001b[0m  0.2033\n    164        \u001b[36m0.9994\u001b[0m        \u001b[32m0.9274\u001b[0m  0.2040\n    165        \u001b[36m0.9986\u001b[0m        \u001b[32m0.9270\u001b[0m  0.1943\n    166        \u001b[36m0.9978\u001b[0m        \u001b[32m0.9267\u001b[0m  0.2083\n    167        \u001b[36m0.9970\u001b[0m        \u001b[32m0.9263\u001b[0m  0.1196\n    168        \u001b[36m0.9962\u001b[0m        \u001b[32m0.9260\u001b[0m  0.1861\n    169        \u001b[36m0.9954\u001b[0m        \u001b[32m0.9256\u001b[0m  0.2088\n    170        \u001b[36m0.9947\u001b[0m        \u001b[32m0.9253\u001b[0m  0.2003\n    171        \u001b[36m0.9939\u001b[0m        \u001b[32m0.9249\u001b[0m  0.1989\n    172        \u001b[36m0.9931\u001b[0m        \u001b[32m0.9246\u001b[0m  0.0929\n    173        \u001b[36m0.9924\u001b[0m        \u001b[32m0.9243\u001b[0m  0.1987\n    174        \u001b[36m0.9916\u001b[0m        \u001b[32m0.9239\u001b[0m  0.0892\n    175        \u001b[36m0.9909\u001b[0m        \u001b[32m0.9236\u001b[0m  0.0247\n    176        \u001b[36m0.9901\u001b[0m        \u001b[32m0.9233\u001b[0m  0.1965\n    177        \u001b[36m0.9894\u001b[0m        \u001b[32m0.9229\u001b[0m  0.3057\n    178        \u001b[36m0.9887\u001b[0m        \u001b[32m0.9226\u001b[0m  0.2895\n    179        \u001b[36m0.9879\u001b[0m        \u001b[32m0.9223\u001b[0m  0.3737\n    180        \u001b[36m0.9872\u001b[0m        \u001b[32m0.9220\u001b[0m  0.2041\n    181        \u001b[36m0.9865\u001b[0m        \u001b[32m0.9217\u001b[0m  0.1042\n    182        \u001b[36m0.9858\u001b[0m        \u001b[32m0.9214\u001b[0m  0.1107\n    183        \u001b[36m0.9850\u001b[0m        \u001b[32m0.9211\u001b[0m  0.0893\n    184        \u001b[36m0.9843\u001b[0m        \u001b[32m0.9208\u001b[0m  0.0856\n    185        \u001b[36m0.9836\u001b[0m        \u001b[32m0.9205\u001b[0m  0.0320\n    186        \u001b[36m0.9829\u001b[0m        \u001b[32m0.9202\u001b[0m  0.0927\n    187        \u001b[36m0.9822\u001b[0m        \u001b[32m0.9199\u001b[0m  0.0926\n    188        \u001b[36m0.9815\u001b[0m        \u001b[32m0.9196\u001b[0m  0.0316\n    189        \u001b[36m0.9808\u001b[0m        \u001b[32m0.9194\u001b[0m  0.1965\n    190        \u001b[36m0.9801\u001b[0m        \u001b[32m0.9191\u001b[0m  0.2023\n    191        \u001b[36m0.9794\u001b[0m        \u001b[32m0.9188\u001b[0m  0.2074\n    192        \u001b[36m0.9787\u001b[0m        \u001b[32m0.9185\u001b[0m  0.1310\n    193        \u001b[36m0.9781\u001b[0m        \u001b[32m0.9183\u001b[0m  0.0906\n    194        \u001b[36m0.9774\u001b[0m        \u001b[32m0.9180\u001b[0m  0.1005\n    195        \u001b[36m0.9767\u001b[0m        \u001b[32m0.9177\u001b[0m  0.1076\n    196        \u001b[36m0.9760\u001b[0m        \u001b[32m0.9175\u001b[0m  0.1917\n    197        \u001b[36m0.9754\u001b[0m        \u001b[32m0.9172\u001b[0m  0.1952\n    198        \u001b[36m0.9747\u001b[0m        \u001b[32m0.9170\u001b[0m  0.1283\n    199        \u001b[36m0.9740\u001b[0m        \u001b[32m0.9167\u001b[0m  0.1859\n    200        \u001b[36m0.9734\u001b[0m        \u001b[32m0.9165\u001b[0m  0.1918\n    201        \u001b[36m0.9727\u001b[0m        \u001b[32m0.9162\u001b[0m  0.2009\n    202        \u001b[36m0.9720\u001b[0m        \u001b[32m0.9160\u001b[0m  0.0954\n  epoch    train_loss    valid_loss     dur\n-------  ------------  ------------  ------\n      1      \u001b[36m219.8126\u001b[0m      \u001b[32m145.8906\u001b[0m  0.2038\n      2      \u001b[36m106.7258\u001b[0m       \u001b[32m16.6855\u001b[0m  0.1707\n      3       \u001b[36m38.1446\u001b[0m       46.3193  0.0237\n      4       38.5665       39.5854  0.2085\n      5       \u001b[36m31.8465\u001b[0m       \u001b[32m14.8423\u001b[0m  0.1145\n      6       \u001b[36m12.5136\u001b[0m        \u001b[32m7.9147\u001b[0m  0.0257\n      7        \u001b[36m9.6647\u001b[0m        8.7946  0.0953\n      8        \u001b[36m8.5844\u001b[0m        \u001b[32m4.1322\u001b[0m  0.1622\n      9        \u001b[36m4.8544\u001b[0m        6.6593  0.1959\n     10        6.2359        4.1495  0.1274\n     11        \u001b[36m3.8531\u001b[0m        \u001b[32m3.4763\u001b[0m  0.1991\n     12        \u001b[36m3.6581\u001b[0m        \u001b[32m3.1058\u001b[0m  0.1294\n     13        3.7564        \u001b[32m2.1978\u001b[0m  0.1209\n     14        \u001b[36m2.4863\u001b[0m        2.3240  0.0940\n     15        2.5885        2.7767  0.2016\n     16        2.6789        \u001b[32m1.9994\u001b[0m  0.0948\n     17        \u001b[36m2.1473\u001b[0m        \u001b[32m1.4996\u001b[0m  0.0982\n     18        \u001b[36m1.8481\u001b[0m        1.8497  0.1852\n     19        2.0512        \u001b[32m1.4057\u001b[0m  0.1688\n     20        \u001b[36m1.7082\u001b[0m        1.4138  0.0322\n     21        \u001b[36m1.6986\u001b[0m        1.5441  0.0832\n     22        1.7362        1.4472  0.0834\n     23        \u001b[36m1.6158\u001b[0m        \u001b[32m1.2474\u001b[0m  0.5978\n     24        \u001b[36m1.5590\u001b[0m        1.2826  0.2986\n     25        \u001b[36m1.5512\u001b[0m        1.2537  0.1951\n     26        \u001b[36m1.4758\u001b[0m        \u001b[32m1.1786\u001b[0m  0.1199\n     27        \u001b[36m1.4197\u001b[0m        1.2056  0.0951\n     28        1.4533        1.1932  0.1032\n     29        \u001b[36m1.4116\u001b[0m        \u001b[32m1.1672\u001b[0m  0.1209\n     30        \u001b[36m1.3887\u001b[0m        \u001b[32m1.1128\u001b[0m  0.1770\n     31        \u001b[36m1.3752\u001b[0m        \u001b[32m1.1040\u001b[0m  0.1075\n     32        \u001b[36m1.3511\u001b[0m        1.1150  0.1013\n     33        \u001b[36m1.3342\u001b[0m        1.1244  0.1798\n     34        \u001b[36m1.3333\u001b[0m        \u001b[32m1.0922\u001b[0m  0.1163\n     35        \u001b[36m1.3163\u001b[0m        \u001b[32m1.0674\u001b[0m  0.1888\n     36        \u001b[36m1.2947\u001b[0m        \u001b[32m1.0649\u001b[0m  0.1807\n     37        \u001b[36m1.2919\u001b[0m        \u001b[32m1.0443\u001b[0m  0.1888\n     38        \u001b[36m1.2803\u001b[0m        \u001b[32m1.0378\u001b[0m  0.1082\n     39        \u001b[36m1.2676\u001b[0m        1.0530  0.2111\n     40        \u001b[36m1.2618\u001b[0m        1.0559  0.2688\n     41        \u001b[36m1.2567\u001b[0m        \u001b[32m1.0359\u001b[0m  0.0848\n     42        \u001b[36m1.2459\u001b[0m        \u001b[32m1.0277\u001b[0m  0.0255\n     43        \u001b[36m1.2374\u001b[0m        \u001b[32m1.0276\u001b[0m  0.0248\n     44        \u001b[36m1.2310\u001b[0m        \u001b[32m1.0209\u001b[0m  0.0924\n     45        \u001b[36m1.2235\u001b[0m        \u001b[32m1.0173\u001b[0m  0.0886\n     46        \u001b[36m1.2176\u001b[0m        1.0193  0.1829\n     47        \u001b[36m1.2120\u001b[0m        \u001b[32m1.0150\u001b[0m  0.1880\n     48        \u001b[36m1.2060\u001b[0m        \u001b[32m1.0034\u001b[0m  0.1698\n     49        \u001b[36m1.1993\u001b[0m        \u001b[32m0.9985\u001b[0m  0.1329\n     50        \u001b[36m1.1931\u001b[0m        0.9994  0.1258\n     51        \u001b[36m1.1877\u001b[0m        \u001b[32m0.9978\u001b[0m  0.1966\n     52        \u001b[36m1.1828\u001b[0m        \u001b[32m0.9933\u001b[0m  0.2678\n     53        \u001b[36m1.1774\u001b[0m        \u001b[32m0.9902\u001b[0m  0.1880\n     54        \u001b[36m1.1717\u001b[0m        \u001b[32m0.9864\u001b[0m  0.2010\n     55        \u001b[36m1.1666\u001b[0m        \u001b[32m0.9808\u001b[0m  0.1814\n     56        \u001b[36m1.1612\u001b[0m        \u001b[32m0.9778\u001b[0m  0.1944\n     57        \u001b[36m1.1559\u001b[0m        0.9780  0.0904\n     58        \u001b[36m1.1512\u001b[0m        \u001b[32m0.9766\u001b[0m  0.1970\n     59        \u001b[36m1.1468\u001b[0m        \u001b[32m0.9726\u001b[0m  0.1249\n     60        \u001b[36m1.1419\u001b[0m        \u001b[32m0.9694\u001b[0m  0.2044\n     61        \u001b[36m1.1370\u001b[0m        \u001b[32m0.9671\u001b[0m  0.0974\n     62        \u001b[36m1.1326\u001b[0m        \u001b[32m0.9643\u001b[0m  0.0846\n     63        \u001b[36m1.1282\u001b[0m        \u001b[32m0.9622\u001b[0m  0.0836\n     64        \u001b[36m1.1238\u001b[0m        \u001b[32m0.9613\u001b[0m  0.0266\n     65        \u001b[36m1.1197\u001b[0m        \u001b[32m0.9597\u001b[0m  0.0961\n     66        \u001b[36m1.1158\u001b[0m        \u001b[32m0.9571\u001b[0m  0.0999\n     67        \u001b[36m1.1117\u001b[0m        \u001b[32m0.9551\u001b[0m  0.1955\n     68        \u001b[36m1.1077\u001b[0m        \u001b[32m0.9541\u001b[0m  0.1890\n     69        \u001b[36m1.1040\u001b[0m        \u001b[32m0.9529\u001b[0m  0.1857\n     70        \u001b[36m1.1004\u001b[0m        \u001b[32m0.9516\u001b[0m  0.1275\n     71        \u001b[36m1.0968\u001b[0m        \u001b[32m0.9506\u001b[0m  0.1068\n     72        \u001b[36m1.0933\u001b[0m        \u001b[32m0.9495\u001b[0m  0.1992\n     73        \u001b[36m1.0900\u001b[0m        \u001b[32m0.9480\u001b[0m  0.1319\n     74        \u001b[36m1.0866\u001b[0m        \u001b[32m0.9469\u001b[0m  0.1158\n     75        \u001b[36m1.0834\u001b[0m        \u001b[32m0.9463\u001b[0m  0.1042\n     76        \u001b[36m1.0803\u001b[0m        \u001b[32m0.9456\u001b[0m  0.1169\n     77        \u001b[36m1.0774\u001b[0m        \u001b[32m0.9447\u001b[0m  0.2884\n     78        \u001b[36m1.0745\u001b[0m        \u001b[32m0.9439\u001b[0m  0.2854\n     79        \u001b[36m1.0716\u001b[0m        \u001b[32m0.9431\u001b[0m  0.1967\n     80        \u001b[36m1.0689\u001b[0m        \u001b[32m0.9423\u001b[0m  0.2837\n     81        \u001b[36m1.0662\u001b[0m        \u001b[32m0.9417\u001b[0m  0.0857\n     82        \u001b[36m1.0636\u001b[0m        \u001b[32m0.9413\u001b[0m  0.0878\n     83        \u001b[36m1.0610\u001b[0m        \u001b[32m0.9408\u001b[0m  0.1103\n     84        \u001b[36m1.0586\u001b[0m        \u001b[32m0.9401\u001b[0m  0.1873\n     85        \u001b[36m1.0562\u001b[0m        \u001b[32m0.9396\u001b[0m  0.0269\n     86        \u001b[36m1.0538\u001b[0m        \u001b[32m0.9391\u001b[0m  0.0258\n     87        \u001b[36m1.0515\u001b[0m        \u001b[32m0.9387\u001b[0m  0.0262\n     88        \u001b[36m1.0493\u001b[0m        \u001b[32m0.9383\u001b[0m  0.1986\n     89        \u001b[36m1.0472\u001b[0m        \u001b[32m0.9379\u001b[0m  0.2643\n     90        \u001b[36m1.0450\u001b[0m        \u001b[32m0.9375\u001b[0m  0.1859\n     91        \u001b[36m1.0430\u001b[0m        \u001b[32m0.9371\u001b[0m  0.0848\n     92        \u001b[36m1.0410\u001b[0m        \u001b[32m0.9367\u001b[0m  0.1253\n     93        \u001b[36m1.0390\u001b[0m        \u001b[32m0.9364\u001b[0m  0.1150\n     94        \u001b[36m1.0371\u001b[0m        \u001b[32m0.9360\u001b[0m  0.0813\n     95        \u001b[36m1.0352\u001b[0m        \u001b[32m0.9357\u001b[0m  0.2000\n     96        \u001b[36m1.0334\u001b[0m        \u001b[32m0.9353\u001b[0m  0.1243\n     97        \u001b[36m1.0316\u001b[0m        \u001b[32m0.9350\u001b[0m  0.2890\n     98        \u001b[36m1.0298\u001b[0m        \u001b[32m0.9346\u001b[0m  0.2067\n  epoch    train_loss    valid_loss     dur\n-------  ------------  ------------  ------\n      1      \u001b[36m227.4462\u001b[0m      \u001b[32m165.1631\u001b[0m  0.1303\n      2      \u001b[36m125.7364\u001b[0m       \u001b[32m13.5071\u001b[0m  0.0957\n      3       \u001b[36m27.5080\u001b[0m       69.1416  0.2682\n      4       52.8063       22.8682  0.1184\n      5       \u001b[36m22.2811\u001b[0m       15.9122  0.2236\n      6       \u001b[36m14.4063\u001b[0m        \u001b[32m5.4240\u001b[0m  0.1972\n      7        \u001b[36m5.6802\u001b[0m        7.5995  0.1233\n      8        7.9551        \u001b[32m5.1109\u001b[0m  0.1255\n      9        \u001b[36m4.6997\u001b[0m        \u001b[32m3.8494\u001b[0m  0.0389\n     10        \u001b[36m3.9810\u001b[0m        \u001b[32m3.7335\u001b[0m  0.1216\n     11        \u001b[36m3.8241\u001b[0m        \u001b[32m2.8865\u001b[0m  0.0870\n     12        \u001b[36m3.0021\u001b[0m        \u001b[32m2.1713\u001b[0m  0.0844\n     13        \u001b[36m2.8199\u001b[0m        2.4720  0.1854\n     14        \u001b[36m2.7644\u001b[0m        \u001b[32m2.0250\u001b[0m  0.1681\n     15        \u001b[36m2.2192\u001b[0m        \u001b[32m1.8797\u001b[0m  0.2024\n     16        \u001b[36m2.1660\u001b[0m        2.3152  0.0843\n     17        2.4453        1.9481  0.0916\n     18        \u001b[36m2.0643\u001b[0m        \u001b[32m1.6638\u001b[0m  0.0912\n     19        \u001b[36m1.8393\u001b[0m        \u001b[32m1.5421\u001b[0m  0.0255\n     20        \u001b[36m1.8191\u001b[0m        \u001b[32m1.4771\u001b[0m  0.1017\n     21        \u001b[36m1.7489\u001b[0m        1.4798  0.0266\n     22        \u001b[36m1.7446\u001b[0m        1.5067  0.0792\n     23        1.7560        \u001b[32m1.4164\u001b[0m  0.0831\n     24        \u001b[36m1.6813\u001b[0m        \u001b[32m1.3010\u001b[0m  0.0884\n     25        \u001b[36m1.5859\u001b[0m        1.3328  0.0285\n     26        \u001b[36m1.5853\u001b[0m        1.3080  0.0985\n     27        \u001b[36m1.5637\u001b[0m        \u001b[32m1.2731\u001b[0m  0.1737\n     28        \u001b[36m1.5358\u001b[0m        1.2735  0.1232\n     29        \u001b[36m1.5268\u001b[0m        \u001b[32m1.2449\u001b[0m  0.1114\n     30        \u001b[36m1.4921\u001b[0m        \u001b[32m1.1956\u001b[0m  0.1094\n     31        \u001b[36m1.4609\u001b[0m        \u001b[32m1.1787\u001b[0m  0.1913\n     32        \u001b[36m1.4447\u001b[0m        1.1824  0.0886\n     33        \u001b[36m1.4292\u001b[0m        \u001b[32m1.1662\u001b[0m  0.0921\n     34        \u001b[36m1.4119\u001b[0m        \u001b[32m1.1469\u001b[0m  0.2961\n     35        \u001b[36m1.3964\u001b[0m        \u001b[32m1.1322\u001b[0m  0.3795\n     36        \u001b[36m1.3777\u001b[0m        \u001b[32m1.1181\u001b[0m  0.3696\n     37        \u001b[36m1.3608\u001b[0m        \u001b[32m1.1014\u001b[0m  0.1713\n     38        \u001b[36m1.3486\u001b[0m        \u001b[32m1.0856\u001b[0m  0.0802\n     39        \u001b[36m1.3331\u001b[0m        \u001b[32m1.0781\u001b[0m  0.2055\n     40        \u001b[36m1.3184\u001b[0m        \u001b[32m1.0703\u001b[0m  0.1658\n     41        \u001b[36m1.3069\u001b[0m        \u001b[32m1.0552\u001b[0m  0.0895\n     42        \u001b[36m1.2936\u001b[0m        \u001b[32m1.0444\u001b[0m  0.0224\n     43        \u001b[36m1.2809\u001b[0m        \u001b[32m1.0394\u001b[0m  0.1914\n     44        \u001b[36m1.2702\u001b[0m        \u001b[32m1.0299\u001b[0m  0.0956\n     45        \u001b[36m1.2588\u001b[0m        \u001b[32m1.0194\u001b[0m  0.1156\n     46        \u001b[36m1.2471\u001b[0m        \u001b[32m1.0149\u001b[0m  0.1800\n     47        \u001b[36m1.2375\u001b[0m        \u001b[32m1.0094\u001b[0m  0.1698\n     48        \u001b[36m1.2283\u001b[0m        \u001b[32m0.9994\u001b[0m  0.1740\n     49        \u001b[36m1.2185\u001b[0m        \u001b[32m0.9922\u001b[0m  0.1249\n     50        \u001b[36m1.2092\u001b[0m        \u001b[32m0.9888\u001b[0m  0.1832\n     51        \u001b[36m1.2005\u001b[0m        \u001b[32m0.9843\u001b[0m  0.1985\n     52        \u001b[36m1.1924\u001b[0m        \u001b[32m0.9793\u001b[0m  0.1798\n     53        \u001b[36m1.1849\u001b[0m        \u001b[32m0.9761\u001b[0m  0.1804\n     54        \u001b[36m1.1777\u001b[0m        \u001b[32m0.9728\u001b[0m  0.1909\n     55        \u001b[36m1.1709\u001b[0m        \u001b[32m0.9678\u001b[0m  0.1895\n     56        \u001b[36m1.1641\u001b[0m        \u001b[32m0.9640\u001b[0m  0.1027\n     57        \u001b[36m1.1575\u001b[0m        \u001b[32m0.9622\u001b[0m  0.0948\n     58        \u001b[36m1.1515\u001b[0m        \u001b[32m0.9599\u001b[0m  0.0940\n     59        \u001b[36m1.1460\u001b[0m        \u001b[32m0.9567\u001b[0m  0.0981\n     60        \u001b[36m1.1406\u001b[0m        \u001b[32m0.9541\u001b[0m  0.2825\n     61        \u001b[36m1.1352\u001b[0m        \u001b[32m0.9520\u001b[0m  0.2023\n     62        \u001b[36m1.1302\u001b[0m        \u001b[32m0.9496\u001b[0m  0.1963\n     63        \u001b[36m1.1253\u001b[0m        \u001b[32m0.9476\u001b[0m  0.7347\n     64        \u001b[36m1.1207\u001b[0m        \u001b[32m0.9466\u001b[0m  0.1184\n     65        \u001b[36m1.1164\u001b[0m        \u001b[32m0.9452\u001b[0m  0.1160\n     66        \u001b[36m1.1122\u001b[0m        \u001b[32m0.9433\u001b[0m  0.1796\n     67        \u001b[36m1.1081\u001b[0m        \u001b[32m0.9418\u001b[0m  0.1055\n     68        \u001b[36m1.1041\u001b[0m        \u001b[32m0.9407\u001b[0m  0.0922\n     69        \u001b[36m1.1003\u001b[0m        \u001b[32m0.9396\u001b[0m  0.3038\n     70        \u001b[36m1.0967\u001b[0m        \u001b[32m0.9385\u001b[0m  0.2005\n     71        \u001b[36m1.0932\u001b[0m        \u001b[32m0.9376\u001b[0m  0.0843\n     72        \u001b[36m1.0898\u001b[0m        \u001b[32m0.9366\u001b[0m  0.0283\n     73        \u001b[36m1.0865\u001b[0m        \u001b[32m0.9355\u001b[0m  0.0283\n     74        \u001b[36m1.0833\u001b[0m        \u001b[32m0.9347\u001b[0m  0.1619\n     75        \u001b[36m1.0802\u001b[0m        \u001b[32m0.9343\u001b[0m  0.0867\n     76        \u001b[36m1.0773\u001b[0m        \u001b[32m0.9337\u001b[0m  0.1741\n     77        \u001b[36m1.0745\u001b[0m        \u001b[32m0.9332\u001b[0m  0.1131\n     78        \u001b[36m1.0717\u001b[0m        \u001b[32m0.9327\u001b[0m  0.0273\n     79        \u001b[36m1.0690\u001b[0m        \u001b[32m0.9322\u001b[0m  0.1225\n     80        \u001b[36m1.0664\u001b[0m        \u001b[32m0.9317\u001b[0m  0.0904\n     81        \u001b[36m1.0638\u001b[0m        \u001b[32m0.9313\u001b[0m  0.1991\n     82        \u001b[36m1.0614\u001b[0m        \u001b[32m0.9310\u001b[0m  0.0926\n     83        \u001b[36m1.0590\u001b[0m        \u001b[32m0.9306\u001b[0m  0.2986\n     84        \u001b[36m1.0567\u001b[0m        \u001b[32m0.9302\u001b[0m  0.1933\n     85        \u001b[36m1.0544\u001b[0m        \u001b[32m0.9299\u001b[0m  0.1979\n     86        \u001b[36m1.0522\u001b[0m        \u001b[32m0.9297\u001b[0m  0.0901\n     87        \u001b[36m1.0501\u001b[0m        \u001b[32m0.9295\u001b[0m  0.0953\n     88        \u001b[36m1.0480\u001b[0m        \u001b[32m0.9294\u001b[0m  0.1971\n     89        \u001b[36m1.0459\u001b[0m        \u001b[32m0.9293\u001b[0m  0.1774\n     90        \u001b[36m1.0439\u001b[0m        \u001b[32m0.9291\u001b[0m  0.3106\n     91        \u001b[36m1.0420\u001b[0m        \u001b[32m0.9290\u001b[0m  0.3882\n     92        \u001b[36m1.0401\u001b[0m        \u001b[32m0.9289\u001b[0m  0.1906\n     93        \u001b[36m1.0382\u001b[0m        \u001b[32m0.9289\u001b[0m  0.0936\n     94        \u001b[36m1.0364\u001b[0m        \u001b[32m0.9289\u001b[0m  0.0893\n     95        \u001b[36m1.0346\u001b[0m        \u001b[32m0.9289\u001b[0m  0.1166\n     96        \u001b[36m1.0328\u001b[0m        0.9289  0.1038\n     97        \u001b[36m1.0311\u001b[0m        0.9289  0.1239\n     98        \u001b[36m1.0294\u001b[0m        0.9290  0.1840\n     99        \u001b[36m1.0277\u001b[0m        0.9291  0.1664\n    100        \u001b[36m1.0261\u001b[0m        0.9292  0.0264\n    101        \u001b[36m1.0245\u001b[0m        0.9293  0.0964\n    102        \u001b[36m1.0229\u001b[0m        0.9294  0.0248\n    103        \u001b[36m1.0213\u001b[0m        0.9296  0.0871\n    104        \u001b[36m1.0198\u001b[0m        0.9297  0.1809\n    105        \u001b[36m1.0183\u001b[0m        0.9299  0.1199\n    106        \u001b[36m1.0168\u001b[0m        0.9301  0.0897\n    107        \u001b[36m1.0153\u001b[0m        0.9303  0.1945\n    108        \u001b[36m1.0139\u001b[0m        0.9305  0.1175\n    109        \u001b[36m1.0125\u001b[0m        0.9307  0.2067\n    110        \u001b[36m1.0111\u001b[0m        0.9309  0.1173\n    111        \u001b[36m1.0097\u001b[0m        0.9311  0.1841\n    112        \u001b[36m1.0083\u001b[0m        0.9314  0.1288\n    113        \u001b[36m1.0069\u001b[0m        0.9316  0.2075\n    114        \u001b[36m1.0056\u001b[0m        0.9318  0.2020\n    115        \u001b[36m1.0043\u001b[0m        0.9321  0.0924\n    116        \u001b[36m1.0030\u001b[0m        0.9323  0.0883\n    117        \u001b[36m1.0017\u001b[0m        0.9325  0.0271\n    118        \u001b[36m1.0004\u001b[0m        0.9328  0.1877\n    119        \u001b[36m0.9992\u001b[0m        0.9330  0.1989\n    120        \u001b[36m0.9979\u001b[0m        0.9332  0.1299\n    121        \u001b[36m0.9967\u001b[0m        0.9335  0.1947\n    122        \u001b[36m0.9955\u001b[0m        0.9337  0.0258\n    123        \u001b[36m0.9943\u001b[0m        0.9339  0.0263\n    124        \u001b[36m0.9931\u001b[0m        0.9342  0.2140\n    125        \u001b[36m0.9920\u001b[0m        0.9344  0.1193\n    126        \u001b[36m0.9908\u001b[0m        0.9346  0.0964\n    127        \u001b[36m0.9897\u001b[0m        0.9348  0.0928\n    128        \u001b[36m0.9885\u001b[0m        0.9350  0.0904\n    129        \u001b[36m0.9874\u001b[0m        0.9352  0.2695\n    130        \u001b[36m0.9863\u001b[0m        0.9354  0.1938\n    131        \u001b[36m0.9852\u001b[0m        0.9356  0.1877\n    132        \u001b[36m0.9841\u001b[0m        0.9358  0.1858\n    133        \u001b[36m0.9830\u001b[0m        0.9360  0.0915\n    134        \u001b[36m0.9820\u001b[0m        0.9361  0.1054\n    135        \u001b[36m0.9809\u001b[0m        0.9363  0.1053\n    136        \u001b[36m0.9799\u001b[0m        0.9365  0.1201\n    137        \u001b[36m0.9788\u001b[0m        0.9366  0.0917\n    138        \u001b[36m0.9778\u001b[0m        0.9368  0.0945\n    139        \u001b[36m0.9768\u001b[0m        0.9369  0.0928\n    140        \u001b[36m0.9758\u001b[0m        0.9370  0.0942\n    141        \u001b[36m0.9748\u001b[0m        0.9372  0.0864\n    142        \u001b[36m0.9738\u001b[0m        0.9373  0.0257\n    143        \u001b[36m0.9729\u001b[0m        0.9374  0.0864\n    144        \u001b[36m0.9719\u001b[0m        0.9375  0.0282\n    145        \u001b[36m0.9709\u001b[0m        0.9376  0.0896\n    146        \u001b[36m0.9700\u001b[0m        0.9377  0.0247\n    147        \u001b[36m0.9691\u001b[0m        0.9378  0.0231\n    148        \u001b[36m0.9681\u001b[0m        0.9379  0.0232\n  epoch    train_loss    valid_loss     dur\n-------  ------------  ------------  ------\n      1      \u001b[36m216.4889\u001b[0m      \u001b[32m136.4979\u001b[0m  0.1948\n      2      \u001b[36m100.4883\u001b[0m       \u001b[32m27.9857\u001b[0m  0.1945\n      3       \u001b[36m45.5471\u001b[0m       35.0361  0.1914\n      4       \u001b[36m31.2686\u001b[0m       29.9774  0.1244\n      5       \u001b[36m25.1622\u001b[0m       \u001b[32m13.0610\u001b[0m  0.2002\n      6       \u001b[36m10.8126\u001b[0m        \u001b[32m5.5431\u001b[0m  0.1848\n      7        \u001b[36m7.2080\u001b[0m        9.4288  0.1053\n      8        9.0028        \u001b[32m5.1842\u001b[0m  0.0928\n      9        \u001b[36m5.6799\u001b[0m        \u001b[32m3.3788\u001b[0m  0.0273\n     10        \u001b[36m3.9639\u001b[0m        4.4489  0.1889\n     11        4.5611        3.5848  0.1953\n     12        \u001b[36m3.6779\u001b[0m        \u001b[32m2.5631\u001b[0m  0.2052\n     13        \u001b[36m3.0434\u001b[0m        2.6490  0.1913\n     14        \u001b[36m2.9970\u001b[0m        \u001b[32m2.3818\u001b[0m  0.2284\n     15        \u001b[36m2.5835\u001b[0m        \u001b[32m1.8499\u001b[0m  0.1945\n     16        \u001b[36m2.1439\u001b[0m        1.9590  0.0887\n     17        2.2236        2.0177  0.1142\n     18        2.1527        \u001b[32m1.7124\u001b[0m  0.1972\n     19        \u001b[36m1.9201\u001b[0m        \u001b[32m1.6183\u001b[0m  0.2028\n     20        1.9397        1.6791  0.2003\n     21        \u001b[36m1.8963\u001b[0m        \u001b[32m1.5321\u001b[0m  0.1820\n     22        \u001b[36m1.7404\u001b[0m        \u001b[32m1.3722\u001b[0m  0.1209\n     23        \u001b[36m1.6599\u001b[0m        1.4354  0.1095\n     24        1.6849        1.4212  0.2892\n     25        \u001b[36m1.6453\u001b[0m        \u001b[32m1.3275\u001b[0m  0.1299\n     26        \u001b[36m1.5957\u001b[0m        \u001b[32m1.3012\u001b[0m  0.1177\n     27        \u001b[36m1.5882\u001b[0m        \u001b[32m1.2895\u001b[0m  0.1084\n     28        \u001b[36m1.5342\u001b[0m        \u001b[32m1.2759\u001b[0m  0.1970\n     29        \u001b[36m1.5045\u001b[0m        \u001b[32m1.2559\u001b[0m  0.2169\n     30        \u001b[36m1.4918\u001b[0m        1.2702  0.3001\n     31        \u001b[36m1.4721\u001b[0m        1.2640  0.1260\n     32        \u001b[36m1.4578\u001b[0m        \u001b[32m1.2346\u001b[0m  0.1068\n     33        \u001b[36m1.4497\u001b[0m        \u001b[32m1.2319\u001b[0m  0.1084\n     34        \u001b[36m1.4421\u001b[0m        1.2324  0.1024\n     35        \u001b[36m1.4249\u001b[0m        \u001b[32m1.2272\u001b[0m  0.1274\n     36        \u001b[36m1.4169\u001b[0m        \u001b[32m1.2085\u001b[0m  0.1106\n     37        \u001b[36m1.4067\u001b[0m        \u001b[32m1.1986\u001b[0m  0.1189\n     38        \u001b[36m1.3934\u001b[0m        \u001b[32m1.1925\u001b[0m  0.1023\n     39        \u001b[36m1.3894\u001b[0m        \u001b[32m1.1746\u001b[0m  0.2286\n     40        \u001b[36m1.3815\u001b[0m        \u001b[32m1.1695\u001b[0m  0.2642\n     41        \u001b[36m1.3712\u001b[0m        1.1747  0.1987\n     42        \u001b[36m1.3642\u001b[0m        1.1729  0.1941\n     43        \u001b[36m1.3587\u001b[0m        \u001b[32m1.1653\u001b[0m  0.2867\n     44        \u001b[36m1.3506\u001b[0m        \u001b[32m1.1633\u001b[0m  0.0894\n     45        \u001b[36m1.3431\u001b[0m        \u001b[32m1.1611\u001b[0m  0.0865\n     46        \u001b[36m1.3387\u001b[0m        \u001b[32m1.1524\u001b[0m  0.0834\n     47        \u001b[36m1.3316\u001b[0m        \u001b[32m1.1499\u001b[0m  0.2692\n     48        \u001b[36m1.3243\u001b[0m        1.1514  0.1064\n     49        \u001b[36m1.3195\u001b[0m        \u001b[32m1.1467\u001b[0m  0.0237\n     50        \u001b[36m1.3138\u001b[0m        \u001b[32m1.1413\u001b[0m  0.0922\n     51        \u001b[36m1.3072\u001b[0m        \u001b[32m1.1396\u001b[0m  0.0827\n     52        \u001b[36m1.3020\u001b[0m        \u001b[32m1.1366\u001b[0m  0.1746\n     53        \u001b[36m1.2973\u001b[0m        \u001b[32m1.1317\u001b[0m  0.0908\n     54        \u001b[36m1.2914\u001b[0m        \u001b[32m1.1300\u001b[0m  0.0806\n     55        \u001b[36m1.2860\u001b[0m        \u001b[32m1.1293\u001b[0m  0.0859\n     56        \u001b[36m1.2816\u001b[0m        \u001b[32m1.1255\u001b[0m  0.0932\n     57        \u001b[36m1.2764\u001b[0m        \u001b[32m1.1223\u001b[0m  0.0975\n     58        \u001b[36m1.2711\u001b[0m        \u001b[32m1.1210\u001b[0m  0.2226\n     59        \u001b[36m1.2666\u001b[0m        \u001b[32m1.1186\u001b[0m  0.3010\n     60        \u001b[36m1.2620\u001b[0m        \u001b[32m1.1157\u001b[0m  0.1299\n     61        \u001b[36m1.2571\u001b[0m        \u001b[32m1.1142\u001b[0m  0.1922\n     62        \u001b[36m1.2527\u001b[0m        \u001b[32m1.1124\u001b[0m  0.1244\n     63        \u001b[36m1.2485\u001b[0m        \u001b[32m1.1091\u001b[0m  0.1982\n     64        \u001b[36m1.2440\u001b[0m        \u001b[32m1.1063\u001b[0m  0.1936\n     65        \u001b[36m1.2397\u001b[0m        \u001b[32m1.1043\u001b[0m  0.1944\n     66        \u001b[36m1.2357\u001b[0m        \u001b[32m1.1016\u001b[0m  0.1842\n     67        \u001b[36m1.2317\u001b[0m        \u001b[32m1.0991\u001b[0m  0.1141\n     68        \u001b[36m1.2276\u001b[0m        \u001b[32m1.0973\u001b[0m  0.1838\n     69        \u001b[36m1.2238\u001b[0m        \u001b[32m1.0951\u001b[0m  0.1984\n     70        \u001b[36m1.2200\u001b[0m        \u001b[32m1.0923\u001b[0m  0.0913\n     71        \u001b[36m1.2162\u001b[0m        \u001b[32m1.0900\u001b[0m  0.1223\n     72        \u001b[36m1.2125\u001b[0m        \u001b[32m1.0879\u001b[0m  0.1268\n     73        \u001b[36m1.2090\u001b[0m        \u001b[32m1.0854\u001b[0m  0.1914\n     74        \u001b[36m1.2054\u001b[0m        \u001b[32m1.0830\u001b[0m  0.0923\n     75        \u001b[36m1.2019\u001b[0m        \u001b[32m1.0809\u001b[0m  0.0942\n     76        \u001b[36m1.1986\u001b[0m        \u001b[32m1.0785\u001b[0m  0.0327\n     77        \u001b[36m1.1952\u001b[0m        \u001b[32m1.0760\u001b[0m  0.1916\n     78        \u001b[36m1.1919\u001b[0m        \u001b[32m1.0736\u001b[0m  0.1855\n     79        \u001b[36m1.1886\u001b[0m        \u001b[32m1.0713\u001b[0m  0.0926\n     80        \u001b[36m1.1855\u001b[0m        \u001b[32m1.0688\u001b[0m  0.0856\n     81        \u001b[36m1.1823\u001b[0m        \u001b[32m1.0664\u001b[0m  0.1108\n     82        \u001b[36m1.1792\u001b[0m        \u001b[32m1.0640\u001b[0m  0.0939\n     83        \u001b[36m1.1762\u001b[0m        \u001b[32m1.0615\u001b[0m  0.1265\n     84        \u001b[36m1.1731\u001b[0m        \u001b[32m1.0589\u001b[0m  0.1720\n     85        \u001b[36m1.1701\u001b[0m        \u001b[32m1.0565\u001b[0m  0.6076\n     86        \u001b[36m1.1672\u001b[0m        \u001b[32m1.0541\u001b[0m  0.0304\n     87        \u001b[36m1.1643\u001b[0m        \u001b[32m1.0515\u001b[0m  0.3823\n     88        \u001b[36m1.1613\u001b[0m        \u001b[32m1.0491\u001b[0m  0.2881\n     89        \u001b[36m1.1585\u001b[0m        \u001b[32m1.0466\u001b[0m  0.1930\n     90        \u001b[36m1.1556\u001b[0m        \u001b[32m1.0441\u001b[0m  0.1124\n     91        \u001b[36m1.1527\u001b[0m        \u001b[32m1.0416\u001b[0m  0.2310\n     92        \u001b[36m1.1499\u001b[0m        \u001b[32m1.0392\u001b[0m  0.1897\n     93        \u001b[36m1.1470\u001b[0m        \u001b[32m1.0367\u001b[0m  0.0901\n     94        \u001b[36m1.1442\u001b[0m        \u001b[32m1.0343\u001b[0m  0.1688\n     95        \u001b[36m1.1414\u001b[0m        \u001b[32m1.0319\u001b[0m  0.1828\n     96        \u001b[36m1.1385\u001b[0m        \u001b[32m1.0295\u001b[0m  0.1948\n     97        \u001b[36m1.1357\u001b[0m        \u001b[32m1.0271\u001b[0m  0.2693\n     98        \u001b[36m1.1329\u001b[0m        \u001b[32m1.0247\u001b[0m  0.1879\n     99        \u001b[36m1.1300\u001b[0m        \u001b[32m1.0224\u001b[0m  0.1959\n    100        \u001b[36m1.1272\u001b[0m        \u001b[32m1.0201\u001b[0m  0.1293\n    101        \u001b[36m1.1243\u001b[0m        \u001b[32m1.0178\u001b[0m  0.1192\n    102        \u001b[36m1.1214\u001b[0m        \u001b[32m1.0155\u001b[0m  0.1871\n    103        \u001b[36m1.1185\u001b[0m        \u001b[32m1.0132\u001b[0m  0.1905\n    104        \u001b[36m1.1156\u001b[0m        \u001b[32m1.0110\u001b[0m  0.1182\n    105        \u001b[36m1.1127\u001b[0m        \u001b[32m1.0087\u001b[0m  0.2646\n    106        \u001b[36m1.1097\u001b[0m        \u001b[32m1.0064\u001b[0m  0.1170\n    107        \u001b[36m1.1067\u001b[0m        \u001b[32m1.0041\u001b[0m  0.0939\n    108        \u001b[36m1.1038\u001b[0m        \u001b[32m1.0018\u001b[0m  0.2087\n    109        \u001b[36m1.1007\u001b[0m        \u001b[32m0.9995\u001b[0m  0.2797\n    110        \u001b[36m1.0977\u001b[0m        \u001b[32m0.9972\u001b[0m  0.1993\n    111        \u001b[36m1.0947\u001b[0m        \u001b[32m0.9948\u001b[0m  0.1880\n    112        \u001b[36m1.0916\u001b[0m        \u001b[32m0.9925\u001b[0m  0.1919\n    113        \u001b[36m1.0885\u001b[0m        \u001b[32m0.9901\u001b[0m  0.2133\n    114        \u001b[36m1.0854\u001b[0m        \u001b[32m0.9877\u001b[0m  0.2223\n    115        \u001b[36m1.0823\u001b[0m        \u001b[32m0.9853\u001b[0m  0.0925\n    116        \u001b[36m1.0792\u001b[0m        \u001b[32m0.9830\u001b[0m  0.0283\n    117        \u001b[36m1.0761\u001b[0m        \u001b[32m0.9806\u001b[0m  0.1061\n    118        \u001b[36m1.0730\u001b[0m        \u001b[32m0.9783\u001b[0m  0.0936\n    119        \u001b[36m1.0699\u001b[0m        \u001b[32m0.9761\u001b[0m  0.1066\n    120        \u001b[36m1.0668\u001b[0m        \u001b[32m0.9738\u001b[0m  0.2158\n    121        \u001b[36m1.0637\u001b[0m        \u001b[32m0.9717\u001b[0m  0.2739\n    122        \u001b[36m1.0606\u001b[0m        \u001b[32m0.9696\u001b[0m  0.2068\n    123        \u001b[36m1.0576\u001b[0m        \u001b[32m0.9677\u001b[0m  0.2682\n    124        \u001b[36m1.0546\u001b[0m        \u001b[32m0.9658\u001b[0m  0.1272\n    125        \u001b[36m1.0517\u001b[0m        \u001b[32m0.9640\u001b[0m  0.1988\n    126        \u001b[36m1.0488\u001b[0m        \u001b[32m0.9623\u001b[0m  0.1995\n    127        \u001b[36m1.0459\u001b[0m        \u001b[32m0.9607\u001b[0m  0.2923\n    128        \u001b[36m1.0432\u001b[0m        \u001b[32m0.9592\u001b[0m  0.3001\n    129        \u001b[36m1.0405\u001b[0m        \u001b[32m0.9578\u001b[0m  0.2614\n    130        \u001b[36m1.0378\u001b[0m        \u001b[32m0.9564\u001b[0m  0.1875\n    131        \u001b[36m1.0353\u001b[0m        \u001b[32m0.9552\u001b[0m  0.1849\n    132        \u001b[36m1.0328\u001b[0m        \u001b[32m0.9541\u001b[0m  0.1004\n    133        \u001b[36m1.0304\u001b[0m        \u001b[32m0.9530\u001b[0m  0.0925\n    134        \u001b[36m1.0281\u001b[0m        \u001b[32m0.9520\u001b[0m  0.1350\n    135        \u001b[36m1.0259\u001b[0m        \u001b[32m0.9510\u001b[0m  0.2745\n    136        \u001b[36m1.0237\u001b[0m        \u001b[32m0.9501\u001b[0m  0.1959\n    137        \u001b[36m1.0217\u001b[0m        \u001b[32m0.9493\u001b[0m  0.0818\n    138        \u001b[36m1.0197\u001b[0m        \u001b[32m0.9485\u001b[0m  0.0905\n    139        \u001b[36m1.0178\u001b[0m        \u001b[32m0.9478\u001b[0m  0.1230\n    140        \u001b[36m1.0159\u001b[0m        \u001b[32m0.9471\u001b[0m  0.0920\n    141        \u001b[36m1.0142\u001b[0m        \u001b[32m0.9464\u001b[0m  0.1380\n    142        \u001b[36m1.0125\u001b[0m        \u001b[32m0.9458\u001b[0m  0.1953\n    143        \u001b[36m1.0108\u001b[0m        \u001b[32m0.9453\u001b[0m  0.1890\n    144        \u001b[36m1.0092\u001b[0m        \u001b[32m0.9447\u001b[0m  0.1186\n    145        \u001b[36m1.0077\u001b[0m        \u001b[32m0.9442\u001b[0m  0.1915\n    146        \u001b[36m1.0062\u001b[0m        \u001b[32m0.9438\u001b[0m  0.0815\n    147        \u001b[36m1.0048\u001b[0m        \u001b[32m0.9433\u001b[0m  0.1571\n    148        \u001b[36m1.0034\u001b[0m        \u001b[32m0.9429\u001b[0m  0.0865\n    149        \u001b[36m1.0020\u001b[0m        \u001b[32m0.9426\u001b[0m  0.0861\n    150        \u001b[36m1.0007\u001b[0m        \u001b[32m0.9422\u001b[0m  0.3723\n    151        \u001b[36m0.9994\u001b[0m        \u001b[32m0.9419\u001b[0m  0.0827\n    152        \u001b[36m0.9981\u001b[0m        \u001b[32m0.9416\u001b[0m  0.0943\n    153        \u001b[36m0.9969\u001b[0m        \u001b[32m0.9414\u001b[0m  0.0920\n    154        \u001b[36m0.9957\u001b[0m        \u001b[32m0.9411\u001b[0m  0.0929\n    155        \u001b[36m0.9946\u001b[0m        \u001b[32m0.9409\u001b[0m  0.0326\n    156        \u001b[36m0.9934\u001b[0m        \u001b[32m0.9407\u001b[0m  0.0335\n    157        \u001b[36m0.9923\u001b[0m        \u001b[32m0.9406\u001b[0m  0.2081\n    158        \u001b[36m0.9913\u001b[0m        \u001b[32m0.9404\u001b[0m  0.0996\n    159        \u001b[36m0.9902\u001b[0m        \u001b[32m0.9403\u001b[0m  0.0892\n    160        \u001b[36m0.9892\u001b[0m        \u001b[32m0.9402\u001b[0m  0.0960\n    161        \u001b[36m0.9882\u001b[0m        \u001b[32m0.9401\u001b[0m  0.0862\n    162        \u001b[36m0.9873\u001b[0m        \u001b[32m0.9400\u001b[0m  0.0301\n    163        \u001b[36m0.9863\u001b[0m        \u001b[32m0.9399\u001b[0m  0.1010\n  epoch    train_loss    valid_loss     dur\n-------  ------------  ------------  ------\n      1      \u001b[36m225.2896\u001b[0m      \u001b[32m147.2269\u001b[0m  0.0924\n      2      \u001b[36m112.5099\u001b[0m       \u001b[32m21.8840\u001b[0m  0.0270\n      3       \u001b[36m39.3211\u001b[0m       47.9469  0.0989\n      4       \u001b[36m39.0458\u001b[0m       28.3920  0.0209\n      5       \u001b[36m25.6020\u001b[0m       \u001b[32m16.5354\u001b[0m  0.2047\n      6       \u001b[36m13.3461\u001b[0m        \u001b[32m6.4363\u001b[0m  0.0855\n      7        \u001b[36m8.0093\u001b[0m       12.3394  0.0964\n      8       12.5720        7.3565  0.0330\n      9        \u001b[36m7.2291\u001b[0m        \u001b[32m3.9230\u001b[0m  0.1949\n     10        \u001b[36m4.5371\u001b[0m        6.7907  0.1932\n     11        6.2078        5.3804  0.2648\n     12        5.3189        \u001b[32m2.5034\u001b[0m  0.1947\n     13        \u001b[36m3.0250\u001b[0m        3.7682  0.1989\n     14        4.0850        3.6640  0.2003\n     15        4.0493        \u001b[32m2.2885\u001b[0m  0.1056\n     16        \u001b[36m2.5253\u001b[0m        2.4604  0.1099\n     17        \u001b[36m2.5165\u001b[0m        2.4853  0.0942\n     18        2.7096        \u001b[32m2.2309\u001b[0m  0.0911\n     19        \u001b[36m2.2449\u001b[0m        \u001b[32m2.0051\u001b[0m  0.2716\n     20        \u001b[36m2.0144\u001b[0m        \u001b[32m1.6571\u001b[0m  0.1647\n     21        2.0205        1.6732  0.1105\n     22        \u001b[36m1.9038\u001b[0m        \u001b[32m1.5425\u001b[0m  0.0950\n     23        \u001b[36m1.7308\u001b[0m        \u001b[32m1.3971\u001b[0m  0.3012\n     24        \u001b[36m1.6893\u001b[0m        1.5249  0.3101\n     25        1.7046        1.4695  0.3080\n     26        \u001b[36m1.6045\u001b[0m        \u001b[32m1.2910\u001b[0m  0.3868\n     27        \u001b[36m1.5237\u001b[0m        1.3342  0.3015\n     28        1.5499        1.3596  0.1864\n     29        \u001b[36m1.5191\u001b[0m        \u001b[32m1.2459\u001b[0m  0.3855\n     30        \u001b[36m1.4439\u001b[0m        1.2472  0.3646\n     31        1.4513        1.2896  0.1909\n     32        1.4566        \u001b[32m1.2166\u001b[0m  0.1230\n     33        \u001b[36m1.4106\u001b[0m        \u001b[32m1.1684\u001b[0m  0.2061\n     34        \u001b[36m1.3893\u001b[0m        1.1916  0.1187\n     35        \u001b[36m1.3835\u001b[0m        1.1752  0.2103\n     36        \u001b[36m1.3622\u001b[0m        \u001b[32m1.1365\u001b[0m  0.2062\n     37        \u001b[36m1.3435\u001b[0m        1.1482  0.1943\n     38        \u001b[36m1.3398\u001b[0m        1.1429  0.2024\n     39        \u001b[36m1.3329\u001b[0m        \u001b[32m1.0943\u001b[0m  0.0957\n     40        \u001b[36m1.3133\u001b[0m        \u001b[32m1.0899\u001b[0m  0.1059\n     41        \u001b[36m1.3031\u001b[0m        1.1012  0.1716\n     42        \u001b[36m1.3005\u001b[0m        \u001b[32m1.0794\u001b[0m  0.0276\n     43        \u001b[36m1.2877\u001b[0m        \u001b[32m1.0793\u001b[0m  0.1979\n     44        \u001b[36m1.2796\u001b[0m        1.0881  0.1207\n     45        \u001b[36m1.2778\u001b[0m        \u001b[32m1.0666\u001b[0m  0.1803\n     46        \u001b[36m1.2679\u001b[0m        \u001b[32m1.0541\u001b[0m  0.2683\n     47        \u001b[36m1.2592\u001b[0m        1.0590  0.3773\n     48        \u001b[36m1.2560\u001b[0m        \u001b[32m1.0517\u001b[0m  0.3687\n     49        \u001b[36m1.2494\u001b[0m        \u001b[32m1.0458\u001b[0m  0.2680\n     50        \u001b[36m1.2422\u001b[0m        1.0501  0.2074\n     51        \u001b[36m1.2383\u001b[0m        \u001b[32m1.0442\u001b[0m  0.1919\n     52        \u001b[36m1.2327\u001b[0m        \u001b[32m1.0331\u001b[0m  0.2660\n     53        \u001b[36m1.2258\u001b[0m        \u001b[32m1.0311\u001b[0m  0.2688\n     54        \u001b[36m1.2209\u001b[0m        \u001b[32m1.0289\u001b[0m  0.2004\n     55        \u001b[36m1.2161\u001b[0m        \u001b[32m1.0233\u001b[0m  0.2079\n     56        \u001b[36m1.2103\u001b[0m        \u001b[32m1.0231\u001b[0m  0.1978\n     57        \u001b[36m1.2059\u001b[0m        \u001b[32m1.0225\u001b[0m  0.0840\n     58        \u001b[36m1.2018\u001b[0m        \u001b[32m1.0164\u001b[0m  0.0929\n     59        \u001b[36m1.1966\u001b[0m        \u001b[32m1.0123\u001b[0m  0.0896\n     60        \u001b[36m1.1918\u001b[0m        \u001b[32m1.0109\u001b[0m  0.1915\n     61        \u001b[36m1.1875\u001b[0m        \u001b[32m1.0075\u001b[0m  0.1942\n     62        \u001b[36m1.1828\u001b[0m        \u001b[32m1.0051\u001b[0m  0.1133\n     63        \u001b[36m1.1785\u001b[0m        \u001b[32m1.0046\u001b[0m  0.1949\n     64        \u001b[36m1.1746\u001b[0m        \u001b[32m1.0018\u001b[0m  0.2696\n     65        \u001b[36m1.1704\u001b[0m        \u001b[32m0.9979\u001b[0m  0.0378\n     66        \u001b[36m1.1662\u001b[0m        \u001b[32m0.9959\u001b[0m  0.2119\n     67        \u001b[36m1.1623\u001b[0m        \u001b[32m0.9938\u001b[0m  0.1259\n     68        \u001b[36m1.1584\u001b[0m        \u001b[32m0.9911\u001b[0m  0.0317\n     69        \u001b[36m1.1546\u001b[0m        \u001b[32m0.9897\u001b[0m  0.1748\n     70        \u001b[36m1.1510\u001b[0m        \u001b[32m0.9882\u001b[0m  0.0976\n     71        \u001b[36m1.1475\u001b[0m        \u001b[32m0.9854\u001b[0m  0.1843\n     72        \u001b[36m1.1439\u001b[0m        \u001b[32m0.9829\u001b[0m  0.1142\n     73        \u001b[36m1.1403\u001b[0m        \u001b[32m0.9811\u001b[0m  0.2873\n     74        \u001b[36m1.1369\u001b[0m        \u001b[32m0.9789\u001b[0m  0.1809\n     75        \u001b[36m1.1335\u001b[0m        \u001b[32m0.9769\u001b[0m  0.0922\n     76        \u001b[36m1.1302\u001b[0m        \u001b[32m0.9755\u001b[0m  0.1053\n     77        \u001b[36m1.1270\u001b[0m        \u001b[32m0.9736\u001b[0m  0.3805\n     78        \u001b[36m1.1239\u001b[0m        \u001b[32m0.9714\u001b[0m  0.1792\n     79        \u001b[36m1.1207\u001b[0m        \u001b[32m0.9696\u001b[0m  0.1191\n     80        \u001b[36m1.1176\u001b[0m        \u001b[32m0.9678\u001b[0m  0.1150\n     81        \u001b[36m1.1146\u001b[0m        \u001b[32m0.9658\u001b[0m  0.1102\n     82        \u001b[36m1.1116\u001b[0m        \u001b[32m0.9642\u001b[0m  0.1825\n     83        \u001b[36m1.1087\u001b[0m        \u001b[32m0.9626\u001b[0m  0.1908\n     84        \u001b[36m1.1058\u001b[0m        \u001b[32m0.9607\u001b[0m  0.0901\n     85        \u001b[36m1.1029\u001b[0m        \u001b[32m0.9590\u001b[0m  0.0932\n     86        \u001b[36m1.1001\u001b[0m        \u001b[32m0.9574\u001b[0m  0.2110\n     87        \u001b[36m1.0973\u001b[0m        \u001b[32m0.9557\u001b[0m  0.0839\n     88        \u001b[36m1.0946\u001b[0m        \u001b[32m0.9541\u001b[0m  0.0971\n     89        \u001b[36m1.0919\u001b[0m        \u001b[32m0.9527\u001b[0m  0.2103\n     90        \u001b[36m1.0892\u001b[0m        \u001b[32m0.9512\u001b[0m  0.2029\n     91        \u001b[36m1.0866\u001b[0m        \u001b[32m0.9496\u001b[0m  0.2109\n     92        \u001b[36m1.0840\u001b[0m        \u001b[32m0.9482\u001b[0m  0.0881\n     93        \u001b[36m1.0814\u001b[0m        \u001b[32m0.9468\u001b[0m  0.0959\n     94        \u001b[36m1.0789\u001b[0m        \u001b[32m0.9454\u001b[0m  0.1093\n     95        \u001b[36m1.0764\u001b[0m        \u001b[32m0.9442\u001b[0m  0.1116\n     96        \u001b[36m1.0739\u001b[0m        \u001b[32m0.9431\u001b[0m  0.1035\n     97        \u001b[36m1.0716\u001b[0m        \u001b[32m0.9419\u001b[0m  0.0912\n     98        \u001b[36m1.0692\u001b[0m        \u001b[32m0.9407\u001b[0m  0.0877\n     99        \u001b[36m1.0669\u001b[0m        \u001b[32m0.9397\u001b[0m  0.0885\n    100        \u001b[36m1.0646\u001b[0m        \u001b[32m0.9387\u001b[0m  0.0279\n    101        \u001b[36m1.0624\u001b[0m        \u001b[32m0.9377\u001b[0m  0.1217\n    102        \u001b[36m1.0602\u001b[0m        \u001b[32m0.9368\u001b[0m  0.0946\n    103        \u001b[36m1.0580\u001b[0m        \u001b[32m0.9360\u001b[0m  0.2029\n    104        \u001b[36m1.0560\u001b[0m        \u001b[32m0.9351\u001b[0m  0.1135\n    105        \u001b[36m1.0539\u001b[0m        \u001b[32m0.9343\u001b[0m  0.1032\n    106        \u001b[36m1.0519\u001b[0m        \u001b[32m0.9335\u001b[0m  0.1902\n    107        \u001b[36m1.0500\u001b[0m        \u001b[32m0.9328\u001b[0m  0.1926\n    108        \u001b[36m1.0481\u001b[0m        \u001b[32m0.9321\u001b[0m  0.1155\n    109        \u001b[36m1.0462\u001b[0m        \u001b[32m0.9314\u001b[0m  0.1759\n    110        \u001b[36m1.0444\u001b[0m        \u001b[32m0.9307\u001b[0m  0.1044\n    111        \u001b[36m1.0427\u001b[0m        \u001b[32m0.9301\u001b[0m  0.1067\n    112        \u001b[36m1.0409\u001b[0m        \u001b[32m0.9295\u001b[0m  0.0239\n    113        \u001b[36m1.0392\u001b[0m        \u001b[32m0.9288\u001b[0m  0.1009\n    114        \u001b[36m1.0376\u001b[0m        \u001b[32m0.9282\u001b[0m  0.0955\n    115        \u001b[36m1.0360\u001b[0m        \u001b[32m0.9276\u001b[0m  0.2099\n    116        \u001b[36m1.0344\u001b[0m        \u001b[32m0.9271\u001b[0m  0.1329\n    117        \u001b[36m1.0328\u001b[0m        \u001b[32m0.9265\u001b[0m  0.1801\n    118        \u001b[36m1.0313\u001b[0m        \u001b[32m0.9259\u001b[0m  0.1963\n    119        \u001b[36m1.0298\u001b[0m        \u001b[32m0.9254\u001b[0m  0.2780\n    120        \u001b[36m1.0283\u001b[0m        \u001b[32m0.9249\u001b[0m  0.1732\n    121        \u001b[36m1.0269\u001b[0m        \u001b[32m0.9244\u001b[0m  0.1977\n    122        \u001b[36m1.0255\u001b[0m        \u001b[32m0.9239\u001b[0m  0.1335\n    123        \u001b[36m1.0241\u001b[0m        \u001b[32m0.9234\u001b[0m  0.1800\n    124        \u001b[36m1.0227\u001b[0m        \u001b[32m0.9229\u001b[0m  0.1919\n    125        \u001b[36m1.0214\u001b[0m        \u001b[32m0.9224\u001b[0m  0.1791\n    126        \u001b[36m1.0201\u001b[0m        \u001b[32m0.9219\u001b[0m  0.2033\n    127        \u001b[36m1.0188\u001b[0m        \u001b[32m0.9215\u001b[0m  0.1075\n    128        \u001b[36m1.0175\u001b[0m        \u001b[32m0.9211\u001b[0m  0.0915\n    129        \u001b[36m1.0162\u001b[0m        \u001b[32m0.9207\u001b[0m  0.0909\n    130        \u001b[36m1.0149\u001b[0m        \u001b[32m0.9203\u001b[0m  0.0907\n    131        \u001b[36m1.0137\u001b[0m        \u001b[32m0.9199\u001b[0m  0.0306\n    132        \u001b[36m1.0125\u001b[0m        \u001b[32m0.9195\u001b[0m  0.0818\n    133        \u001b[36m1.0113\u001b[0m        \u001b[32m0.9191\u001b[0m  0.1155\n    134        \u001b[36m1.0101\u001b[0m        \u001b[32m0.9188\u001b[0m  0.2610\n    135        \u001b[36m1.0089\u001b[0m        \u001b[32m0.9184\u001b[0m  0.2076\n    136        \u001b[36m1.0078\u001b[0m        \u001b[32m0.9181\u001b[0m  0.1889\n    137        \u001b[36m1.0066\u001b[0m        \u001b[32m0.9178\u001b[0m  0.2144\n    138        \u001b[36m1.0055\u001b[0m        \u001b[32m0.9175\u001b[0m  0.2171\n    139        \u001b[36m1.0044\u001b[0m        \u001b[32m0.9172\u001b[0m  0.1943\n    140        \u001b[36m1.0033\u001b[0m        \u001b[32m0.9169\u001b[0m  0.1846\n    141        \u001b[36m1.0022\u001b[0m        \u001b[32m0.9167\u001b[0m  0.2045\n    142        \u001b[36m1.0011\u001b[0m        \u001b[32m0.9164\u001b[0m  0.0342\n    143        \u001b[36m1.0001\u001b[0m        \u001b[32m0.9162\u001b[0m  0.0861\n    144        \u001b[36m0.9990\u001b[0m        \u001b[32m0.9160\u001b[0m  0.1927\n    145        \u001b[36m0.9980\u001b[0m        \u001b[32m0.9157\u001b[0m  0.2047\n    146        \u001b[36m0.9969\u001b[0m        \u001b[32m0.9155\u001b[0m  0.2015\n    147        \u001b[36m0.9959\u001b[0m        \u001b[32m0.9153\u001b[0m  0.2640\n    148        \u001b[36m0.9949\u001b[0m        \u001b[32m0.9152\u001b[0m  0.0925\n    149        \u001b[36m0.9939\u001b[0m        \u001b[32m0.9150\u001b[0m  0.0968\n    150        \u001b[36m0.9929\u001b[0m        \u001b[32m0.9148\u001b[0m  0.0994\n    151        \u001b[36m0.9919\u001b[0m        \u001b[32m0.9147\u001b[0m  0.0964\n    152        \u001b[36m0.9909\u001b[0m        \u001b[32m0.9145\u001b[0m  0.0990\n    153        \u001b[36m0.9899\u001b[0m        \u001b[32m0.9144\u001b[0m  0.1013\n    154        \u001b[36m0.9889\u001b[0m        \u001b[32m0.9143\u001b[0m  0.0904\n    155        \u001b[36m0.9880\u001b[0m        \u001b[32m0.9142\u001b[0m  0.0270\n    156        \u001b[36m0.9870\u001b[0m        \u001b[32m0.9141\u001b[0m  0.0998\n    157        \u001b[36m0.9861\u001b[0m        \u001b[32m0.9140\u001b[0m  0.0975\n    158        \u001b[36m0.9851\u001b[0m        \u001b[32m0.9139\u001b[0m  0.2680\n    159        \u001b[36m0.9842\u001b[0m        \u001b[32m0.9138\u001b[0m  0.1294\n    160        \u001b[36m0.9833\u001b[0m        \u001b[32m0.9138\u001b[0m  0.2125\n    161        \u001b[36m0.9824\u001b[0m        \u001b[32m0.9137\u001b[0m  0.2015\n    162        \u001b[36m0.9814\u001b[0m        \u001b[32m0.9136\u001b[0m  0.1008\n    163        \u001b[36m0.9805\u001b[0m        \u001b[32m0.9136\u001b[0m  0.0359\n    164        \u001b[36m0.9796\u001b[0m        \u001b[32m0.9136\u001b[0m  0.0941\n    165        \u001b[36m0.9787\u001b[0m        \u001b[32m0.9135\u001b[0m  0.0908\n    166        \u001b[36m0.9779\u001b[0m        \u001b[32m0.9135\u001b[0m  0.1008\n    167        \u001b[36m0.9770\u001b[0m        \u001b[32m0.9135\u001b[0m  0.1072\n    168        \u001b[36m0.9761\u001b[0m        \u001b[32m0.9135\u001b[0m  0.0976\n    169        \u001b[36m0.9752\u001b[0m        0.9135  0.0970\n    170        \u001b[36m0.9744\u001b[0m        0.9135  0.0979\n    171        \u001b[36m0.9735\u001b[0m        0.9136  0.0968\n    172        \u001b[36m0.9727\u001b[0m        0.9136  0.2027\n    173        \u001b[36m0.9718\u001b[0m        0.9136  0.1050\n    174        \u001b[36m0.9710\u001b[0m        0.9137  0.2654\n    175        \u001b[36m0.9701\u001b[0m        0.9137  0.2002\n    176        \u001b[36m0.9693\u001b[0m        0.9138  0.1242\n    177        \u001b[36m0.9685\u001b[0m        0.9138  0.0933\n    178        \u001b[36m0.9676\u001b[0m        0.9139  0.0877\n    179        \u001b[36m0.9668\u001b[0m        0.9139  0.0982\n    180        \u001b[36m0.9660\u001b[0m        0.9140  0.0993\n    181        \u001b[36m0.9652\u001b[0m        0.9141  0.2054\n    182        \u001b[36m0.9644\u001b[0m        0.9142  0.2010\n    183        \u001b[36m0.9636\u001b[0m        0.9143  0.1985\n    184        \u001b[36m0.9628\u001b[0m        0.9144  0.2799\n    185        \u001b[36m0.9620\u001b[0m        0.9145  0.2059\n    186        \u001b[36m0.9613\u001b[0m        0.9146  0.0974\n    187        \u001b[36m0.9605\u001b[0m        0.9147  0.1938\n    188        \u001b[36m0.9597\u001b[0m        0.9148  0.0990\n    189        \u001b[36m0.9590\u001b[0m        0.9149  0.1891\n    190        \u001b[36m0.9582\u001b[0m        0.9151  0.1939\n    191        \u001b[36m0.9574\u001b[0m        0.9152  0.1324\n    192        \u001b[36m0.9567\u001b[0m        0.9153  0.1135\n    193        \u001b[36m0.9560\u001b[0m        0.9154  0.0870\n    194        \u001b[36m0.9552\u001b[0m        0.9156  0.0932\n    195        \u001b[36m0.9545\u001b[0m        0.9157  0.0357\n    196        \u001b[36m0.9538\u001b[0m        0.9159  0.0833\n    197        \u001b[36m0.9530\u001b[0m        0.9160  0.1132\n    198        \u001b[36m0.9523\u001b[0m        0.9161  0.1872\n    199        \u001b[36m0.9516\u001b[0m        0.9163  0.2802\n    200        \u001b[36m0.9509\u001b[0m        0.9164  0.0331\n    201        \u001b[36m0.9502\u001b[0m        0.9166  0.1039\n    202        \u001b[36m0.9495\u001b[0m        0.9167  0.2064\n    203        \u001b[36m0.9488\u001b[0m        0.9169  0.2030\n    204        \u001b[36m0.9481\u001b[0m        0.9171  0.1955\n    205        \u001b[36m0.9474\u001b[0m        0.9172  0.1133\n    206        \u001b[36m0.9468\u001b[0m        0.9174  0.1004\n    207        \u001b[36m0.9461\u001b[0m        0.9175  0.2763\n    208        \u001b[36m0.9454\u001b[0m        0.9177  0.4916\n    209        \u001b[36m0.9448\u001b[0m        0.9178  0.1329\n    210        \u001b[36m0.9441\u001b[0m        0.9180  0.1247\n    211        \u001b[36m0.9435\u001b[0m        0.9182  0.2971\n    212        \u001b[36m0.9428\u001b[0m        0.9183  0.2983\n    213        \u001b[36m0.9422\u001b[0m        0.9185  0.2258\n    214        \u001b[36m0.9415\u001b[0m        0.9186  0.2980\n    215        \u001b[36m0.9409\u001b[0m        0.9188  0.2951\n    216        \u001b[36m0.9403\u001b[0m        0.9190  0.0912\n    217        \u001b[36m0.9397\u001b[0m        0.9191  0.1957\n    218        \u001b[36m0.9390\u001b[0m        0.9193  0.2082\n    219        \u001b[36m0.9384\u001b[0m        0.9194  0.0899\n    220        \u001b[36m0.9378\u001b[0m        0.9196  0.1909\n    221        \u001b[36m0.9372\u001b[0m        0.9198  0.2117\n    222        \u001b[36m0.9366\u001b[0m        0.9199  0.0922\n    223        \u001b[36m0.9360\u001b[0m        0.9201  0.1996\n    224        \u001b[36m0.9355\u001b[0m        0.9202  0.1910\n    225        \u001b[36m0.9349\u001b[0m        0.9204  0.2938\n    226        \u001b[36m0.9343\u001b[0m        0.9205  0.1787\n    227        \u001b[36m0.9337\u001b[0m        0.9207  0.1253\n    228        \u001b[36m0.9332\u001b[0m        0.9209  0.0292\n    229        \u001b[36m0.9326\u001b[0m        0.9210  0.1232\n  epoch    train_loss    valid_loss     dur\n-------  ------------  ------------  ------\n      1      \u001b[36m221.9048\u001b[0m      \u001b[32m132.5639\u001b[0m  0.0988\n      2       \u001b[36m93.3977\u001b[0m       \u001b[32m42.6928\u001b[0m  0.0940\n      3       \u001b[36m55.6821\u001b[0m       \u001b[32m20.2740\u001b[0m  0.0972\n      4       \u001b[36m24.5269\u001b[0m       30.8039  0.0946\n      5       \u001b[36m24.5174\u001b[0m        \u001b[32m7.6296\u001b[0m  0.1931\n      6        \u001b[36m7.8660\u001b[0m       10.2464  0.1763\n      7       12.0277        9.1179  0.1048\n      8        8.8233        \u001b[32m4.5666\u001b[0m  0.2142\n      9        \u001b[36m4.8455\u001b[0m        4.7398  0.0996\n     10        4.9550        \u001b[32m4.3068\u001b[0m  0.1049\n     11        \u001b[36m4.3237\u001b[0m        \u001b[32m2.6900\u001b[0m  0.0969\n     12        \u001b[36m3.2681\u001b[0m        3.2220  0.1098\n     13        3.7280        2.7067  0.1280\n     14        \u001b[36m2.9630\u001b[0m        \u001b[32m2.0687\u001b[0m  0.1946\n     15        \u001b[36m2.3021\u001b[0m        2.5107  0.2071\n     16        2.6585        2.4648  0.2048\n     17        2.5351        \u001b[32m1.9710\u001b[0m  0.1947\n     18        \u001b[36m2.0391\u001b[0m        \u001b[32m1.6816\u001b[0m  0.0950\n     19        \u001b[36m1.9542\u001b[0m        1.6833  0.0364\n     20        2.0154        \u001b[32m1.6245\u001b[0m  0.1037\n     21        \u001b[36m1.8884\u001b[0m        \u001b[32m1.5213\u001b[0m  0.2014\n     22        \u001b[36m1.8051\u001b[0m        1.5473  0.2275\n     23        1.8239        \u001b[32m1.5089\u001b[0m  0.1846\n     24        \u001b[36m1.7208\u001b[0m        \u001b[32m1.4494\u001b[0m  0.1304\n     25        \u001b[36m1.6268\u001b[0m        1.4499  0.2840\n     26        1.6431        \u001b[32m1.4417\u001b[0m  0.1973\n     27        \u001b[36m1.6239\u001b[0m        \u001b[32m1.3954\u001b[0m  0.1923\n     28        \u001b[36m1.5612\u001b[0m        \u001b[32m1.3475\u001b[0m  0.2939\n     29        \u001b[36m1.5380\u001b[0m        \u001b[32m1.3169\u001b[0m  0.2670\n     30        \u001b[36m1.5214\u001b[0m        \u001b[32m1.2878\u001b[0m  0.0916\n     31        \u001b[36m1.4819\u001b[0m        \u001b[32m1.2603\u001b[0m  0.1073\n     32        \u001b[36m1.4619\u001b[0m        \u001b[32m1.2369\u001b[0m  0.0318\n     33        \u001b[36m1.4520\u001b[0m        \u001b[32m1.2257\u001b[0m  0.1814\n     34        \u001b[36m1.4258\u001b[0m        \u001b[32m1.2152\u001b[0m  0.1870\n     35        \u001b[36m1.4020\u001b[0m        \u001b[32m1.1997\u001b[0m  0.1003\n     36        \u001b[36m1.3901\u001b[0m        \u001b[32m1.1956\u001b[0m  0.0959\n     37        \u001b[36m1.3785\u001b[0m        \u001b[32m1.1941\u001b[0m  0.2234\n     38        \u001b[36m1.3648\u001b[0m        \u001b[32m1.1804\u001b[0m  0.0930\n     39        \u001b[36m1.3548\u001b[0m        \u001b[32m1.1665\u001b[0m  0.0839\n     40        \u001b[36m1.3443\u001b[0m        \u001b[32m1.1629\u001b[0m  0.0869\n     41        \u001b[36m1.3320\u001b[0m        \u001b[32m1.1569\u001b[0m  0.0251\n     42        \u001b[36m1.3231\u001b[0m        \u001b[32m1.1458\u001b[0m  0.1029\n     43        \u001b[36m1.3150\u001b[0m        \u001b[32m1.1421\u001b[0m  0.1769\n     44        \u001b[36m1.3061\u001b[0m        \u001b[32m1.1383\u001b[0m  0.1870\n     45        \u001b[36m1.2982\u001b[0m        \u001b[32m1.1285\u001b[0m  0.1306\n     46        \u001b[36m1.2901\u001b[0m        \u001b[32m1.1241\u001b[0m  0.1166\n     47        \u001b[36m1.2820\u001b[0m        1.1245  0.1944\n     48        \u001b[36m1.2752\u001b[0m        \u001b[32m1.1208\u001b[0m  0.1991\n     49        \u001b[36m1.2689\u001b[0m        \u001b[32m1.1158\u001b[0m  0.0329\n     50        \u001b[36m1.2624\u001b[0m        \u001b[32m1.1129\u001b[0m  0.0862\n     51        \u001b[36m1.2562\u001b[0m        \u001b[32m1.1075\u001b[0m  0.0858\n     52        \u001b[36m1.2505\u001b[0m        \u001b[32m1.1000\u001b[0m  0.1055\n     53        \u001b[36m1.2446\u001b[0m        \u001b[32m1.0961\u001b[0m  0.1111\n     54        \u001b[36m1.2391\u001b[0m        \u001b[32m1.0937\u001b[0m  0.1170\n     55        \u001b[36m1.2341\u001b[0m        \u001b[32m1.0894\u001b[0m  0.1111\n     56        \u001b[36m1.2290\u001b[0m        \u001b[32m1.0862\u001b[0m  0.2028\n     57        \u001b[36m1.2239\u001b[0m        \u001b[32m1.0842\u001b[0m  0.1784\n     58        \u001b[36m1.2193\u001b[0m        \u001b[32m1.0804\u001b[0m  0.0933\n     59        \u001b[36m1.2146\u001b[0m        \u001b[32m1.0766\u001b[0m  0.1872\n     60        \u001b[36m1.2099\u001b[0m        \u001b[32m1.0744\u001b[0m  0.2038\n     61        \u001b[36m1.2055\u001b[0m        \u001b[32m1.0721\u001b[0m  0.1226\n     62        \u001b[36m1.2014\u001b[0m        \u001b[32m1.0688\u001b[0m  0.1045\n     63        \u001b[36m1.1971\u001b[0m        \u001b[32m1.0663\u001b[0m  0.0840\n     64        \u001b[36m1.1931\u001b[0m        \u001b[32m1.0638\u001b[0m  0.2992\n     65        \u001b[36m1.1892\u001b[0m        \u001b[32m1.0606\u001b[0m  0.3196\n     66        \u001b[36m1.1852\u001b[0m        \u001b[32m1.0579\u001b[0m  0.0933\n     67        \u001b[36m1.1814\u001b[0m        \u001b[32m1.0560\u001b[0m  0.0946\n     68        \u001b[36m1.1777\u001b[0m        \u001b[32m1.0539\u001b[0m  0.0948\n     69        \u001b[36m1.1741\u001b[0m        \u001b[32m1.0516\u001b[0m  0.0970\n     70        \u001b[36m1.1705\u001b[0m        \u001b[32m1.0497\u001b[0m  0.0914\n     71        \u001b[36m1.1671\u001b[0m        \u001b[32m1.0476\u001b[0m  0.0998\n     72        \u001b[36m1.1636\u001b[0m        \u001b[32m1.0452\u001b[0m  0.1086\n     73        \u001b[36m1.1602\u001b[0m        \u001b[32m1.0431\u001b[0m  0.1766\n     74        \u001b[36m1.1569\u001b[0m        \u001b[32m1.0412\u001b[0m  0.1789\n     75        \u001b[36m1.1537\u001b[0m        \u001b[32m1.0391\u001b[0m  0.2032\n     76        \u001b[36m1.1505\u001b[0m        \u001b[32m1.0370\u001b[0m  0.2060\n     77        \u001b[36m1.1474\u001b[0m        \u001b[32m1.0352\u001b[0m  0.1011\n     78        \u001b[36m1.1444\u001b[0m        \u001b[32m1.0332\u001b[0m  0.0875\n     79        \u001b[36m1.1414\u001b[0m        \u001b[32m1.0312\u001b[0m  0.0887\n     80        \u001b[36m1.1384\u001b[0m        \u001b[32m1.0295\u001b[0m  0.0249\n     81        \u001b[36m1.1355\u001b[0m        \u001b[32m1.0279\u001b[0m  0.2005\n     82        \u001b[36m1.1327\u001b[0m        \u001b[32m1.0262\u001b[0m  0.1768\n     83        \u001b[36m1.1299\u001b[0m        \u001b[32m1.0245\u001b[0m  0.0284\n     84        \u001b[36m1.1272\u001b[0m        \u001b[32m1.0230\u001b[0m  0.0296\n     85        \u001b[36m1.1245\u001b[0m        \u001b[32m1.0214\u001b[0m  0.0301\n     86        \u001b[36m1.1218\u001b[0m        \u001b[32m1.0199\u001b[0m  0.2012\n     87        \u001b[36m1.1192\u001b[0m        \u001b[32m1.0185\u001b[0m  0.0957\n     88        \u001b[36m1.1166\u001b[0m        \u001b[32m1.0171\u001b[0m  0.2713\n     89        \u001b[36m1.1141\u001b[0m        \u001b[32m1.0157\u001b[0m  0.2049\n     90        \u001b[36m1.1116\u001b[0m        \u001b[32m1.0144\u001b[0m  0.1940\n     91        \u001b[36m1.1092\u001b[0m        \u001b[32m1.0131\u001b[0m  0.1886\n     92        \u001b[36m1.1067\u001b[0m        \u001b[32m1.0118\u001b[0m  0.2053\n     93        \u001b[36m1.1043\u001b[0m        \u001b[32m1.0106\u001b[0m  0.2035\n     94        \u001b[36m1.1020\u001b[0m        \u001b[32m1.0095\u001b[0m  0.0798\n     95        \u001b[36m1.0996\u001b[0m        \u001b[32m1.0083\u001b[0m  0.0877\n     96        \u001b[36m1.0973\u001b[0m        \u001b[32m1.0072\u001b[0m  0.0322\n     97        \u001b[36m1.0951\u001b[0m        \u001b[32m1.0061\u001b[0m  0.0264\n     98        \u001b[36m1.0928\u001b[0m        \u001b[32m1.0051\u001b[0m  0.1122\n     99        \u001b[36m1.0906\u001b[0m        \u001b[32m1.0041\u001b[0m  0.1824\n    100        \u001b[36m1.0884\u001b[0m        \u001b[32m1.0031\u001b[0m  0.3100\n    101        \u001b[36m1.0862\u001b[0m        \u001b[32m1.0021\u001b[0m  0.3192\n    102        \u001b[36m1.0841\u001b[0m        \u001b[32m1.0012\u001b[0m  0.1071\n    103        \u001b[36m1.0820\u001b[0m        \u001b[32m1.0003\u001b[0m  0.1149\n    104        \u001b[36m1.0799\u001b[0m        \u001b[32m0.9994\u001b[0m  0.1666\n    105        \u001b[36m1.0779\u001b[0m        \u001b[32m0.9986\u001b[0m  0.1983\n    106        \u001b[36m1.0758\u001b[0m        \u001b[32m0.9978\u001b[0m  0.1269\n    107        \u001b[36m1.0738\u001b[0m        \u001b[32m0.9970\u001b[0m  0.1936\n    108        \u001b[36m1.0719\u001b[0m        \u001b[32m0.9962\u001b[0m  0.1315\n    109        \u001b[36m1.0699\u001b[0m        \u001b[32m0.9955\u001b[0m  0.0983\n    110        \u001b[36m1.0680\u001b[0m        \u001b[32m0.9948\u001b[0m  0.1065\n    111        \u001b[36m1.0662\u001b[0m        \u001b[32m0.9941\u001b[0m  0.1895\n    112        \u001b[36m1.0643\u001b[0m        \u001b[32m0.9935\u001b[0m  0.1712\n    113        \u001b[36m1.0625\u001b[0m        \u001b[32m0.9928\u001b[0m  0.2245\n    114        \u001b[36m1.0608\u001b[0m        \u001b[32m0.9922\u001b[0m  0.2005\n    115        \u001b[36m1.0590\u001b[0m        \u001b[32m0.9916\u001b[0m  0.1965\n    116        \u001b[36m1.0573\u001b[0m        \u001b[32m0.9911\u001b[0m  0.1022\n    117        \u001b[36m1.0556\u001b[0m        \u001b[32m0.9905\u001b[0m  0.0271\n    118        \u001b[36m1.0540\u001b[0m        \u001b[32m0.9900\u001b[0m  0.1297\n    119        \u001b[36m1.0524\u001b[0m        \u001b[32m0.9895\u001b[0m  0.1291\n    120        \u001b[36m1.0508\u001b[0m        \u001b[32m0.9890\u001b[0m  0.1977\n    121        \u001b[36m1.0493\u001b[0m        \u001b[32m0.9885\u001b[0m  0.1895\n    122        \u001b[36m1.0478\u001b[0m        \u001b[32m0.9881\u001b[0m  0.1246\n    123        \u001b[36m1.0463\u001b[0m        \u001b[32m0.9876\u001b[0m  0.1961\n    124        \u001b[36m1.0449\u001b[0m        \u001b[32m0.9872\u001b[0m  0.1975\n    125        \u001b[36m1.0434\u001b[0m        \u001b[32m0.9868\u001b[0m  0.2077\n    126        \u001b[36m1.0420\u001b[0m        \u001b[32m0.9864\u001b[0m  0.1945\n    127        \u001b[36m1.0407\u001b[0m        \u001b[32m0.9860\u001b[0m  0.1258\n    128        \u001b[36m1.0393\u001b[0m        \u001b[32m0.9856\u001b[0m  0.2011\n    129        \u001b[36m1.0380\u001b[0m        \u001b[32m0.9853\u001b[0m  0.1089\n    130        \u001b[36m1.0367\u001b[0m        \u001b[32m0.9849\u001b[0m  0.1260\n    131        \u001b[36m1.0354\u001b[0m        \u001b[32m0.9846\u001b[0m  0.1959\n    132        \u001b[36m1.0342\u001b[0m        \u001b[32m0.9842\u001b[0m  0.1915\n  epoch    train_loss    valid_loss     dur\n-------  ------------  ------------  ------\n      1      \u001b[36m227.4320\u001b[0m      \u001b[32m168.6084\u001b[0m  0.2146\n      2      \u001b[36m129.4128\u001b[0m       \u001b[32m16.9554\u001b[0m  0.0923\n      3       \u001b[36m30.8565\u001b[0m       67.9298  0.1872\n      4       49.4362       18.0134  0.3002\n      5       \u001b[36m19.6529\u001b[0m       \u001b[32m14.1520\u001b[0m  0.2218\n      6       \u001b[36m11.4908\u001b[0m        \u001b[32m5.2219\u001b[0m  0.2974\n      7        \u001b[36m6.5817\u001b[0m        9.7948  0.1948\n      8        9.6425        \u001b[32m4.5840\u001b[0m  0.1929\n      9        \u001b[36m4.2735\u001b[0m        \u001b[32m3.5401\u001b[0m  0.0241\n     10        4.4896        4.7187  0.1937\n     11        4.9772        \u001b[32m3.2455\u001b[0m  0.1128\n     12        \u001b[36m3.2727\u001b[0m        \u001b[32m2.3963\u001b[0m  0.1249\n     13        \u001b[36m3.1051\u001b[0m        3.1698  0.1047\n     14        3.4179        \u001b[32m2.2223\u001b[0m  0.0904\n     15        \u001b[36m2.3787\u001b[0m        \u001b[32m1.7124\u001b[0m  0.1051\n     16        \u001b[36m2.0281\u001b[0m        2.2662  0.1059\n     17        2.5049        1.9749  0.1018\n     18        2.0938        \u001b[32m1.5742\u001b[0m  0.2411\n     19        \u001b[36m1.8406\u001b[0m        1.5833  0.1909\n     20        1.9783        \u001b[32m1.5718\u001b[0m  0.0946\n     21        1.8923        \u001b[32m1.3497\u001b[0m  0.1132\n     22        \u001b[36m1.6632\u001b[0m        1.4187  0.1807\n     23        1.7145        1.3571  0.1730\n     24        1.6726        \u001b[32m1.2009\u001b[0m  0.1751\n     25        \u001b[36m1.5274\u001b[0m        1.2335  0.1067\n     26        1.5579        1.2554  0.1242\n     27        1.5560        \u001b[32m1.1607\u001b[0m  0.1077\n     28        \u001b[36m1.4708\u001b[0m        \u001b[32m1.1279\u001b[0m  0.1108\n     29        \u001b[36m1.4430\u001b[0m        1.1677  0.1907\n     30        1.4623        \u001b[32m1.1073\u001b[0m  0.1085\n     31        \u001b[36m1.4169\u001b[0m        \u001b[32m1.0688\u001b[0m  0.1263\n     32        \u001b[36m1.3838\u001b[0m        1.0855  0.1271\n     33        \u001b[36m1.3794\u001b[0m        1.0749  0.1308\n     34        \u001b[36m1.3547\u001b[0m        \u001b[32m1.0510\u001b[0m  0.1226\n     35        \u001b[36m1.3340\u001b[0m        1.0586  0.0835\n     36        \u001b[36m1.3280\u001b[0m        1.0570  0.1936\n     37        \u001b[36m1.3143\u001b[0m        \u001b[32m1.0286\u001b[0m  0.2020\n     38        \u001b[36m1.2941\u001b[0m        \u001b[32m1.0164\u001b[0m  0.2052\n     39        \u001b[36m1.2848\u001b[0m        1.0177  0.2794\n     40        \u001b[36m1.2735\u001b[0m        \u001b[32m1.0155\u001b[0m  0.0891\n     41        \u001b[36m1.2607\u001b[0m        \u001b[32m1.0100\u001b[0m  0.1099\n     42        \u001b[36m1.2524\u001b[0m        \u001b[32m1.0092\u001b[0m  0.1004\n     43        \u001b[36m1.2438\u001b[0m        \u001b[32m1.0061\u001b[0m  0.0965\n     44        \u001b[36m1.2339\u001b[0m        \u001b[32m0.9975\u001b[0m  0.0997\n     45        \u001b[36m1.2255\u001b[0m        \u001b[32m0.9904\u001b[0m  0.0242\n     46        \u001b[36m1.2177\u001b[0m        \u001b[32m0.9901\u001b[0m  0.0223\n     47        \u001b[36m1.2097\u001b[0m        0.9914  0.2760\n     48        \u001b[36m1.2037\u001b[0m        \u001b[32m0.9871\u001b[0m  0.0894\n     49        \u001b[36m1.1976\u001b[0m        \u001b[32m0.9823\u001b[0m  0.1873\n     50        \u001b[36m1.1912\u001b[0m        \u001b[32m0.9800\u001b[0m  0.1993\n     51        \u001b[36m1.1857\u001b[0m        \u001b[32m0.9767\u001b[0m  0.1921\n     52        \u001b[36m1.1802\u001b[0m        \u001b[32m0.9733\u001b[0m  0.1235\n     53        \u001b[36m1.1746\u001b[0m        0.9735  0.0947\n     54        \u001b[36m1.1697\u001b[0m        0.9735  0.0886\n     55        \u001b[36m1.1653\u001b[0m        \u001b[32m0.9695\u001b[0m  0.0829\n     56        \u001b[36m1.1605\u001b[0m        \u001b[32m0.9653\u001b[0m  0.0860\n     57        \u001b[36m1.1560\u001b[0m        \u001b[32m0.9633\u001b[0m  0.0264\n     58        \u001b[36m1.1519\u001b[0m        \u001b[32m0.9614\u001b[0m  0.0880\n     59        \u001b[36m1.1478\u001b[0m        \u001b[32m0.9593\u001b[0m  0.1111\n     60        \u001b[36m1.1439\u001b[0m        \u001b[32m0.9581\u001b[0m  0.2165\n     61        \u001b[36m1.1403\u001b[0m        \u001b[32m0.9565\u001b[0m  0.1852\n     62        \u001b[36m1.1368\u001b[0m        \u001b[32m0.9535\u001b[0m  0.1979\n     63        \u001b[36m1.1333\u001b[0m        \u001b[32m0.9510\u001b[0m  0.2803\n     64        \u001b[36m1.1299\u001b[0m        \u001b[32m0.9498\u001b[0m  0.3019\n     65        \u001b[36m1.1267\u001b[0m        \u001b[32m0.9487\u001b[0m  0.1299\n     66        \u001b[36m1.1237\u001b[0m        \u001b[32m0.9470\u001b[0m  0.1966\n     67        \u001b[36m1.1207\u001b[0m        \u001b[32m0.9454\u001b[0m  0.2825\n     68        \u001b[36m1.1179\u001b[0m        \u001b[32m0.9437\u001b[0m  0.2063\n     69        \u001b[36m1.1151\u001b[0m        \u001b[32m0.9418\u001b[0m  0.1263\n     70        \u001b[36m1.1123\u001b[0m        \u001b[32m0.9403\u001b[0m  0.1796\n     71        \u001b[36m1.1097\u001b[0m        \u001b[32m0.9393\u001b[0m  0.1195\n     72        \u001b[36m1.1072\u001b[0m        \u001b[32m0.9383\u001b[0m  0.0983\n     73        \u001b[36m1.1048\u001b[0m        \u001b[32m0.9368\u001b[0m  0.0983\n     74        \u001b[36m1.1024\u001b[0m        \u001b[32m0.9354\u001b[0m  0.0982\n     75        \u001b[36m1.1001\u001b[0m        \u001b[32m0.9341\u001b[0m  0.0996\n     76        \u001b[36m1.0978\u001b[0m        \u001b[32m0.9329\u001b[0m  0.0303\n     77        \u001b[36m1.0957\u001b[0m        \u001b[32m0.9318\u001b[0m  0.0920\n     78        \u001b[36m1.0935\u001b[0m        \u001b[32m0.9309\u001b[0m  0.1950\n     79        \u001b[36m1.0915\u001b[0m        \u001b[32m0.9299\u001b[0m  0.1049\n     80        \u001b[36m1.0895\u001b[0m        \u001b[32m0.9288\u001b[0m  0.0931\n     81        \u001b[36m1.0875\u001b[0m        \u001b[32m0.9277\u001b[0m  0.0226\n     82        \u001b[36m1.0856\u001b[0m        \u001b[32m0.9269\u001b[0m  0.0256\n     83        \u001b[36m1.0837\u001b[0m        \u001b[32m0.9260\u001b[0m  0.0895\n     84        \u001b[36m1.0819\u001b[0m        \u001b[32m0.9252\u001b[0m  0.0899\n     85        \u001b[36m1.0801\u001b[0m        \u001b[32m0.9243\u001b[0m  0.3989\n     86        \u001b[36m1.0784\u001b[0m        \u001b[32m0.9235\u001b[0m  0.0968\n     87        \u001b[36m1.0767\u001b[0m        \u001b[32m0.9227\u001b[0m  0.0876\n     88        \u001b[36m1.0750\u001b[0m        \u001b[32m0.9219\u001b[0m  0.0269\n     89        \u001b[36m1.0734\u001b[0m        \u001b[32m0.9212\u001b[0m  0.0297\n     90        \u001b[36m1.0718\u001b[0m        \u001b[32m0.9205\u001b[0m  0.1341\n     91        \u001b[36m1.0703\u001b[0m        \u001b[32m0.9198\u001b[0m  0.1923\n     92        \u001b[36m1.0687\u001b[0m        \u001b[32m0.9192\u001b[0m  0.2617\n     93        \u001b[36m1.0672\u001b[0m        \u001b[32m0.9185\u001b[0m  0.1879\n     94        \u001b[36m1.0658\u001b[0m        \u001b[32m0.9179\u001b[0m  0.0307\n     95        \u001b[36m1.0643\u001b[0m        \u001b[32m0.9173\u001b[0m  0.1875\n     96        \u001b[36m1.0629\u001b[0m        \u001b[32m0.9168\u001b[0m  0.1962\n     97        \u001b[36m1.0615\u001b[0m        \u001b[32m0.9162\u001b[0m  0.2011\n     98        \u001b[36m1.0602\u001b[0m        \u001b[32m0.9157\u001b[0m  0.2810\n     99        \u001b[36m1.0588\u001b[0m        \u001b[32m0.9152\u001b[0m  0.2013\n    100        \u001b[36m1.0575\u001b[0m        \u001b[32m0.9147\u001b[0m  0.2064\n    101        \u001b[36m1.0562\u001b[0m        \u001b[32m0.9142\u001b[0m  0.0932\n    102        \u001b[36m1.0549\u001b[0m        \u001b[32m0.9137\u001b[0m  0.1027\n    103        \u001b[36m1.0537\u001b[0m        \u001b[32m0.9133\u001b[0m  0.0900\n    104        \u001b[36m1.0524\u001b[0m        \u001b[32m0.9128\u001b[0m  0.0281\n    105        \u001b[36m1.0512\u001b[0m        \u001b[32m0.9124\u001b[0m  0.1930\n    106        \u001b[36m1.0500\u001b[0m        \u001b[32m0.9120\u001b[0m  0.1178\n    107        \u001b[36m1.0489\u001b[0m        \u001b[32m0.9116\u001b[0m  0.1991\n    108        \u001b[36m1.0477\u001b[0m        \u001b[32m0.9112\u001b[0m  0.0987\n    109        \u001b[36m1.0466\u001b[0m        \u001b[32m0.9108\u001b[0m  0.1853\n    110        \u001b[36m1.0454\u001b[0m        \u001b[32m0.9104\u001b[0m  0.1198\n    111        \u001b[36m1.0443\u001b[0m        \u001b[32m0.9100\u001b[0m  0.2193\n    112        \u001b[36m1.0432\u001b[0m        \u001b[32m0.9097\u001b[0m  0.2071\n    113        \u001b[36m1.0422\u001b[0m        \u001b[32m0.9093\u001b[0m  0.2015\n    114        \u001b[36m1.0411\u001b[0m        \u001b[32m0.9090\u001b[0m  0.1220\n    115        \u001b[36m1.0400\u001b[0m        \u001b[32m0.9086\u001b[0m  0.2641\n    116        \u001b[36m1.0390\u001b[0m        \u001b[32m0.9083\u001b[0m  0.2107\n    117        \u001b[36m1.0380\u001b[0m        \u001b[32m0.9080\u001b[0m  0.1921\n    118        \u001b[36m1.0370\u001b[0m        \u001b[32m0.9077\u001b[0m  0.2123\n    119        \u001b[36m1.0360\u001b[0m        \u001b[32m0.9074\u001b[0m  0.1089\n    120        \u001b[36m1.0350\u001b[0m        \u001b[32m0.9071\u001b[0m  0.2787\n    121        \u001b[36m1.0340\u001b[0m        \u001b[32m0.9068\u001b[0m  0.0898\n    122        \u001b[36m1.0330\u001b[0m        \u001b[32m0.9065\u001b[0m  0.1014\n    123        \u001b[36m1.0321\u001b[0m        \u001b[32m0.9062\u001b[0m  0.0331\n    124        \u001b[36m1.0311\u001b[0m        \u001b[32m0.9059\u001b[0m  0.0263\n    125        \u001b[36m1.0302\u001b[0m        \u001b[32m0.9057\u001b[0m  0.1140\n    126        \u001b[36m1.0293\u001b[0m        \u001b[32m0.9054\u001b[0m  0.0849\n    127        \u001b[36m1.0284\u001b[0m        \u001b[32m0.9051\u001b[0m  0.0832\n    128        \u001b[36m1.0275\u001b[0m        \u001b[32m0.9049\u001b[0m  0.0262\n    129        \u001b[36m1.0266\u001b[0m        \u001b[32m0.9046\u001b[0m  0.1095\n    130        \u001b[36m1.0257\u001b[0m        \u001b[32m0.9044\u001b[0m  0.1210\n    131        \u001b[36m1.0248\u001b[0m        \u001b[32m0.9041\u001b[0m  0.2708\n    132        \u001b[36m1.0239\u001b[0m        \u001b[32m0.9039\u001b[0m  0.1928\n    133        \u001b[36m1.0231\u001b[0m        \u001b[32m0.9037\u001b[0m  0.2001\n    134        \u001b[36m1.0222\u001b[0m        \u001b[32m0.9034\u001b[0m  0.1988\n    135        \u001b[36m1.0213\u001b[0m        \u001b[32m0.9032\u001b[0m  0.2076\n    136        \u001b[36m1.0205\u001b[0m        \u001b[32m0.9030\u001b[0m  0.0927\n    137        \u001b[36m1.0197\u001b[0m        \u001b[32m0.9028\u001b[0m  0.0852\n    138        \u001b[36m1.0188\u001b[0m        \u001b[32m0.9025\u001b[0m  0.0983\n    139        \u001b[36m1.0180\u001b[0m        \u001b[32m0.9023\u001b[0m  0.1271\n    140        \u001b[36m1.0172\u001b[0m        \u001b[32m0.9021\u001b[0m  0.1053\n    141        \u001b[36m1.0164\u001b[0m        \u001b[32m0.9019\u001b[0m  0.1922\n    142        \u001b[36m1.0156\u001b[0m        \u001b[32m0.9017\u001b[0m  0.1765\n    143        \u001b[36m1.0148\u001b[0m        \u001b[32m0.9015\u001b[0m  0.1158\n",
     "output_type": "stream"
    }
   ]
  },
  {
   "cell_type": "markdown",
   "source": "## Learning Curves",
   "metadata": {
    "cell_id": "1dd24bc0-b2c7-409c-ae56-4311020f10a2",
    "tags": [],
    "deepnote_cell_type": "markdown"
   }
  },
  {
   "cell_type": "code",
   "metadata": {
    "cell_id": "dc368c71-a58a-4243-bda8-cba605d67e65",
    "deepnote_output_heights": [
     611
    ],
    "deepnote_to_be_reexecuted": true,
    "execution_millis": 10290,
    "execution_start": 1642898615061,
    "output_cleared": false,
    "source_hash": "d09f595f",
    "tags": [],
    "deepnote_cell_type": "code"
   },
   "source": "fig, axes = plt.subplots(4, 3, figsize=(14,16))\naxes = axes.flatten()\nfig.tight_layout()\n\nfor i in range(len(eval_best_models)):\n    epochs = epochs_best_models[i]\n    loss_train = loss_train_best_models[i]\n    loss_test = loss_test_best_models[i]\n    plot_learning_curves(loss_train, loss_test, epochs, \"Loss (MEE)\", axes[i], i)\n\nfig.subplots_adjust(hspace=0.3)\nfig.subplots_adjust(wspace=0.3)\nfig.delaxes(axes[10])\nfig.delaxes(axes[11])",
   "execution_count": null,
   "outputs": [
    {
     "data": {
      "text/plain": "<Figure size 1008x1152 with 10 Axes>",
      "image/png": "[encoded data removed]"
     },
     "metadata": {
      "needs_background": "light",
      "image/png": {
       "width": 1006,
       "height": 1170
      }
     },
     "output_type": "display_data"
    }
   ]
  },
  {
   "cell_type": "code",
   "metadata": {
    "cell_id": "c7183c49-035c-499a-830e-9787ce94dd3e",
    "deepnote_to_be_reexecuted": true,
    "execution_millis": 1,
    "execution_start": 1642898625349,
    "output_cleared": true,
    "source_hash": "912ba5cb",
    "tags": [],
    "deepnote_cell_type": "code"
   },
   "source": "### Predicted points on internal test set",
   "execution_count": null,
   "outputs": []
  },
  {
   "cell_type": "code",
   "metadata": {
    "cell_id": "00065-c5d0618d-7792-45ae-8b82-6ba1cdddf161",
    "deepnote_to_be_reexecuted": true,
    "execution_millis": 23,
    "execution_start": 1642898625362,
    "output_cleared": false,
    "source_hash": "29cae774",
    "deepnote_cell_type": "code"
   },
   "source": "y_pred_voting_ens_train_test = np.average(y_predictions_train, axis=0)\ny_pred_voting_ens_internal_test = np.average(y_predictions_internal_test, axis=0)\ny_pred_voting_ens_blind_test = np.average(y_predictions_blind_test, axis=0)\n\nprint(f\"MEE: {mee(y_test, y_pred_voting_ens_internal_test)}\")",
   "execution_count": null,
   "outputs": [
    {
     "name": "stdout",
     "text": "MEE: 1.1163543410901282\n",
     "output_type": "stream"
    }
   ]
  },
  {
   "cell_type": "code",
   "metadata": {
    "cell_id": "327a4c6c-9f32-4799-af78-026a65ad6b7b",
    "deepnote_output_heights": [
     264
    ],
    "deepnote_to_be_reexecuted": true,
    "execution_millis": 2613,
    "execution_start": 1642898625448,
    "output_cleared": false,
    "source_hash": "fc3a8552",
    "tags": [],
    "deepnote_cell_type": "code"
   },
   "source": "plot_coordinates(y_predicted_test, y_test)",
   "execution_count": null,
   "outputs": [
    {
     "output_type": "error",
     "ename": "NameError",
     "evalue": "name 'y_predicted_test' is not defined",
     "traceback": [
      "\u001b[0;31m---------------------------------------------------------------------------\u001b[0m",
      "\u001b[0;31mNameError\u001b[0m                                 Traceback (most recent call last)",
      "\u001b[0;32m<ipython-input-37-19e396def973>\u001b[0m in \u001b[0;36m<module>\u001b[0;34m\u001b[0m\n\u001b[0;32m----> 1\u001b[0;31m \u001b[0mplot_coordinates\u001b[0m\u001b[0;34m(\u001b[0m\u001b[0my_predicted_test\u001b[0m\u001b[0;34m,\u001b[0m \u001b[0my_test\u001b[0m\u001b[0;34m)\u001b[0m\u001b[0;34m\u001b[0m\u001b[0;34m\u001b[0m\u001b[0m\n\u001b[0m",
      "\u001b[0;31mNameError\u001b[0m: name 'y_predicted_test' is not defined"
     ]
    }
   ]
  },
  {
   "cell_type": "code",
   "metadata": {
    "cell_id": "b365b2b4-b0ac-4719-8ccc-8aaa6c57c90c",
    "deepnote_output_heights": [
     264
    ],
    "deepnote_to_be_reexecuted": true,
    "execution_millis": 407,
    "execution_start": 1642776401820,
    "output_cleared": true,
    "source_hash": "868eea97",
    "tags": [],
    "deepnote_cell_type": "code"
   },
   "source": "plot_coordinates(y_predicted, y)",
   "execution_count": null,
   "outputs": []
  },
  {
   "cell_type": "markdown",
   "source": "### Predicted points on blind test set",
   "metadata": {
    "cell_id": "00059-5568c441-47cb-4a01-a33a-509097aafefe",
    "deepnote_cell_type": "markdown"
   }
  },
  {
   "cell_type": "code",
   "metadata": {
    "cell_id": "00060-4b7b8c5b-a23c-478c-b832-b2298102630c",
    "deepnote_output_heights": [
     264
    ],
    "deepnote_to_be_reexecuted": true,
    "execution_millis": 277,
    "execution_start": 1642776407258,
    "output_cleared": true,
    "source_hash": "bb7c06f",
    "deepnote_cell_type": "code"
   },
   "source": "plot_coordinates(y_predicted_blind)",
   "execution_count": null,
   "outputs": []
  },
  {
   "cell_type": "markdown",
   "source": "## Ensemble ",
   "metadata": {
    "cell_id": "00061-f9c12825-4760-4fa8-9503-344e8dc69ac7",
    "deepnote_cell_type": "markdown"
   }
  },
  {
   "cell_type": "markdown",
   "source": "Then we try the voting method using the 10 best models from the randomized search. ",
   "metadata": {
    "cell_id": "00062-bea0ce65-8d41-4647-af65-b4a9fd2eb765",
    "deepnote_cell_type": "markdown"
   }
  },
  {
   "cell_type": "code",
   "metadata": {
    "cell_id": "00064-8934738e-da2d-40b8-b677-92de7961a24d",
    "deepnote_to_be_reexecuted": true,
    "execution_millis": 152,
    "execution_start": 1642776593969,
    "output_cleared": true,
    "source_hash": "b623e53d",
    "deepnote_cell_type": "code"
   },
   "source": "",
   "execution_count": null,
   "outputs": []
  },
  {
   "cell_type": "code",
   "metadata": {
    "cell_id": "00066-80b92a7e-5188-4109-93a9-70003cfa8bd0",
    "deepnote_output_heights": [
     264
    ],
    "deepnote_to_be_reexecuted": true,
    "execution_millis": 277,
    "execution_start": 1642776594178,
    "output_cleared": true,
    "source_hash": "95a565ab",
    "deepnote_cell_type": "code"
   },
   "source": "y_predicted = pd.DataFrame(data=y_pred_voting_ens_internal_test, columns=[\"x\", \"y\"])\ntrue_y = pd.DataFrame(data=y_test, columns=[\"x\", \"y\"])\nplt.scatter(true_y['x'], true_y['y'], c='r', marker='*')\nplt.xlabel(\"x\")\nplt.ylabel(\"y\")\nplt.scatter(y_predicted['x'], y_predicted['y'], c='#1f77b4');",
   "execution_count": null,
   "outputs": []
  },
  {
   "cell_type": "code",
   "metadata": {
    "cell_id": "00067-5be1d384-64d6-4b7d-97cf-6bae4fc00ce5",
    "deepnote_output_heights": [
     264
    ],
    "deepnote_to_be_reexecuted": true,
    "execution_millis": 317,
    "execution_start": 1642776594456,
    "output_cleared": true,
    "source_hash": "95a565ab",
    "deepnote_cell_type": "code"
   },
   "source": "y_predicted = pd.DataFrame(data=y_pred_voting_ens_internal_test, columns=[\"x\", \"y\"])\ntrue_y = pd.DataFrame(data=y_test, columns=[\"x\", \"y\"])\nplt.scatter(true_y['x'], true_y['y'], c='r', marker='*')\nplt.xlabel(\"x\")\nplt.ylabel(\"y\")\nplt.scatter(y_predicted['x'], y_predicted['y'], c='#1f77b4');",
   "execution_count": null,
   "outputs": []
  },
  {
   "cell_type": "code",
   "metadata": {
    "cell_id": "00068-9d10c589-93de-4ab9-a464-4dbed4aa3a3c",
    "deepnote_output_heights": [
     264
    ],
    "deepnote_to_be_reexecuted": true,
    "execution_millis": 265,
    "execution_start": 1642776594749,
    "output_cleared": true,
    "source_hash": "15d71ae0",
    "deepnote_cell_type": "code"
   },
   "source": "y_predicted = pd.DataFrame(data=y_pred_voting_ens_blind_test, columns=[\"x\", \"y\"])\nplt.xlabel(\"x\")\nplt.ylabel(\"y\")\nplt.scatter(y_predicted['x'], y_predicted['y'], c='#1f77b4');",
   "execution_count": null,
   "outputs": []
  },
  {
   "cell_type": "markdown",
   "source": "<a style='text-decoration:none;line-height:16px;display:flex;color:#5B5B62;padding:10px;justify-content:end;' href='https://deepnote.com?utm_source=created-in-deepnote-cell&projectId=d9d840c9-75b3-4185-bb01-105f5cca8d83' target=\"_blank\">\n<img alt='Created in deepnote.com' style='display:inline;max-height:16px;margin:0px;margin-right:7.5px;' src='data:image/svg+xml;base64,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' > </img>\nCreated in <span style='font-weight:600;margin-left:4px;'>Deepnote</span></a>",
   "metadata": {
    "tags": [],
    "created_in_deepnote_cell": true,
    "deepnote_cell_type": "markdown"
   }
  }
 ],
 "nbformat": 4,
 "nbformat_minor": 2,
 "metadata": {
  "deepnote": {
   "is_reactive": false
  },
  "deepnote_execution_queue": [
   {
    "cellId": "2c1b2cbb-2e12-4f41-a770-396d4588c705",
    "sessionId": "002f95c1-a08a-4ff3-8605-b0fd26de3b36",
    "msgId": "4538980a-8891-499c-b32b-bd363a181368"
   },
   {
    "cellId": "6092d8eb-d5ce-4a24-91ba-ffccc33179bb",
    "sessionId": "002f95c1-a08a-4ff3-8605-b0fd26de3b36",
    "msgId": "7680fd52-a3fd-4304-a0a2-f32bfd9e546d"
   }
  ],
  "deepnote_notebook_id": "10b26e99-167c-44c5-82d9-a804fbe3ae77",
  "kernelspec": {
   "display_name": "Python 3",
   "language": "python",
   "name": "python3"
  },
  "language_info": {
   "codemirror_mode": {
    "name": "ipython",
    "version": 3
   },
   "file_extension": ".py",
   "mimetype": "text/x-python",
   "name": "python",
   "nbconvert_exporter": "python",
   "pygments_lexer": "ipython3",
   "version": "3.9.7"
  }
 }
}