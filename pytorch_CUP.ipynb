{
 "cells": [
  {
   "cell_type": "markdown",
   "source": "## PyTorch MLP model",
   "metadata": {
    "cell_id": "481660c9-aa3e-43cd-b6d9-9c8530e3971e",
    "tags": [],
    "deepnote_cell_type": "markdown"
   }
  },
  {
   "cell_type": "markdown",
   "source": "### Importing libraries",
   "metadata": {
    "cell_id": "f112892d-46c1-49f1-aefc-677f76ec0a8d",
    "tags": [],
    "deepnote_cell_type": "markdown"
   }
  },
  {
   "cell_type": "code",
   "metadata": {
    "cell_id": "03113463-b757-457e-8da3-ee58794b33ee",
    "deepnote_to_be_reexecuted": false,
    "source_hash": "a397a94d",
    "execution_start": 1642461035414,
    "execution_millis": 2627,
    "deepnote_output_heights": [
     193.9375
    ],
    "deepnote_cell_type": "code"
   },
   "source": "import numpy as np\nimport pandas as pd\nimport matplotlib.pyplot as plt\nimport torch\nimport torch.nn as nn\nimport torch.optim as optim\nfrom torch.utils.data import Dataset, DataLoader\nfrom sklearn.preprocessing import MinMaxScaler    \nfrom sklearn.model_selection import train_test_split\nfrom skorch import NeuralNetRegressor\nfrom skorch.callbacks import EarlyStopping\nfrom scipy.stats import uniform\nfrom scipy.stats import randint\nfrom sklearn.model_selection import RandomizedSearchCV\nfrom sklearn.metrics import make_scorer\nfrom sklearn.metrics import mean_squared_error",
   "execution_count": 1,
   "outputs": []
  },
  {
   "cell_type": "markdown",
   "source": "### Loading training set and blind test set",
   "metadata": {
    "cell_id": "fc66c1ca-4617-4dea-9b8e-1a0c4c4dd60a",
    "tags": [],
    "deepnote_cell_type": "markdown"
   }
  },
  {
   "cell_type": "code",
   "metadata": {
    "cell_id": "00001-0d0173a2-0574-4d5b-b9c7-3549eee93b9a",
    "deepnote_to_be_reexecuted": false,
    "source_hash": "47b90439",
    "execution_start": 1642461038048,
    "execution_millis": 417,
    "deepnote_cell_type": "code"
   },
   "source": "df_visual = pd.read_csv('./data/ML-CUP21-TR.csv', usecols=[11,12], names=['idx','f1','f2','f3','f4','f5','f6','f7','f8','f9','f10', 'x','y'])\ndf_task_tr = pd.read_csv('./data/ML-CUP21-TR.csv', names=['idx','f1','f2','f3','f4','f5','f6','f7','f8','f9','f10', 'x','y'])\ndf_task_tr = df_task_tr[7:] # remove first 7 rows of comments\ndf_visual = df_visual[7:]\n\ndf_blind_ts = pd.read_csv('./data/ML-CUP21-TS.csv', names=['idx','f1','f2','f3','f4','f5','f6','f7','f8','f9','f10'])\ndf_blind_ts = df_blind_ts[7:]\ndf_blind_ts.drop(labels=\"idx\", axis=1, inplace=True)\nblind_ts = df_blind_ts.values",
   "execution_count": 2,
   "outputs": []
  },
  {
   "cell_type": "markdown",
   "source": "### Evaluation metrics",
   "metadata": {
    "cell_id": "497b7842-e96b-45c4-8138-fe4682e13837",
    "tags": [],
    "deepnote_cell_type": "markdown"
   }
  },
  {
   "cell_type": "markdown",
   "source": "We define the <b>MEE (Mean Euclidean Error)</b> function which is used to evaluate the mean euclidean distance between two points with x and y coordinates.\nThe function takes in input the true target and the predicted target and yields a floating point number which represents the performance. ",
   "metadata": {
    "cell_id": "6b9bdbc6-8535-4f9d-baf4-04b6ec988111",
    "tags": [],
    "deepnote_cell_type": "markdown"
   }
  },
  {
   "cell_type": "code",
   "metadata": {
    "cell_id": "00002-8e3ce472-ff69-4ea7-97e3-d913b512af40",
    "deepnote_to_be_reexecuted": false,
    "source_hash": "3afbb4cb",
    "execution_start": 1642461038472,
    "execution_millis": 2,
    "deepnote_cell_type": "code"
   },
   "source": "def mee(true_target, predicted_target): #assuming target is 2-dim matrix with x and y as columns\n    l = true_target.shape[0]\n    res = 0\n    \n    for p in range(l): #for p-th pattern in l (number of samples)\n        x_diff = np.square(true_target[p,0] - predicted_target[p,0]) #difference between the x value of the true and predicted target\n        y_diff = np.square(true_target[p,1] - predicted_target[p,1]) #difference between the y values of true and predicted target\n        sum_term = x_diff + y_diff\n        res = res + np.sqrt(sum_term)\n    res = res / l\n    \n    #return np.average([np.sqrt(np.square(true_target[p,0] - predicted_target[p,0]) + np.square(true_target[p,1] - predicted_target[p,1])) for p in range(l)]) #compact form\n    return res",
   "execution_count": 3,
   "outputs": []
  },
  {
   "cell_type": "code",
   "metadata": {
    "cell_id": "00003-cca68452-1a9f-43f2-a95e-57018eb9a303",
    "deepnote_to_be_reexecuted": false,
    "source_hash": "236d7250",
    "execution_start": 1642461038478,
    "execution_millis": 2,
    "deepnote_cell_type": "code"
   },
   "source": "def inv_mee(true_target, predicted_target):\n    return 1/mee(true_target, predicted_target)",
   "execution_count": 4,
   "outputs": []
  },
  {
   "cell_type": "markdown",
   "source": "## Regression task\n### Preparing the training set",
   "metadata": {
    "cell_id": "24820147-b49a-465d-ba32-7e440e14fede",
    "tags": [],
    "deepnote_cell_type": "markdown"
   }
  },
  {
   "cell_type": "code",
   "metadata": {
    "cell_id": "00004-8e65de00-6683-4b7d-9194-4c8ae030aee6",
    "deepnote_to_be_reexecuted": false,
    "source_hash": "192dcf",
    "execution_start": 1642461038487,
    "execution_millis": 1,
    "deepnote_cell_type": "code"
   },
   "source": "df_task_tr.drop(labels=\"idx\", axis=1, inplace=True)",
   "execution_count": 5,
   "outputs": []
  },
  {
   "cell_type": "code",
   "metadata": {
    "cell_id": "00005-63853f2c-11dc-4004-9bcb-4e58ba87336d",
    "deepnote_to_be_reexecuted": false,
    "source_hash": "adef5ee0",
    "execution_start": 1642461038496,
    "execution_millis": 2,
    "deepnote_cell_type": "code"
   },
   "source": "y = df_task_tr[['x','y']].values\nX = df_task_tr.drop(labels=['x','y'], axis=1).values",
   "execution_count": 6,
   "outputs": []
  },
  {
   "cell_type": "code",
   "metadata": {
    "cell_id": "00006-9e7e1d91-18d5-4fca-9cb1-70fc39ee71c5",
    "deepnote_to_be_reexecuted": false,
    "source_hash": "473a37ed",
    "execution_start": 1642461038521,
    "execution_millis": 7,
    "deepnote_cell_type": "code"
   },
   "source": "print(X.shape)\nprint(y.shape)",
   "execution_count": 7,
   "outputs": [
    {
     "name": "stdout",
     "text": "(1477, 10)\n(1477, 2)\n",
     "output_type": "stream"
    }
   ]
  },
  {
   "cell_type": "code",
   "metadata": {
    "cell_id": "00007-15a9d6de-0760-442e-896a-cd43db4adcfb",
    "deepnote_to_be_reexecuted": false,
    "source_hash": "596ccc7b",
    "execution_start": 1642461038522,
    "execution_millis": 0,
    "deepnote_cell_type": "code"
   },
   "source": "RS_NUMBER = 69",
   "execution_count": 8,
   "outputs": []
  },
  {
   "cell_type": "markdown",
   "source": "### Splitting the dataset\nWe split the data set obtaining an internal test set (10% of the total dataset), we will use this internal test at the end to test internally the generalization error. The development set is composed of the other 90% of the total dataset, which is internally divided into 80% for training and 20% for validation. ",
   "metadata": {
    "cell_id": "8c07f6fa-778e-4ef8-93eb-7f5f8a724454",
    "tags": [],
    "deepnote_cell_type": "markdown"
   }
  },
  {
   "cell_type": "code",
   "metadata": {
    "cell_id": "00008-a49d71c2-f651-41f2-acdc-91530bf94733",
    "deepnote_to_be_reexecuted": false,
    "source_hash": "56f9139b",
    "execution_start": 1642461038522,
    "execution_millis": 8,
    "deepnote_cell_type": "code"
   },
   "source": "X, X_test, y, y_test = train_test_split(X, y, test_size=0.1, random_state=RS_NUMBER)\n\nX_train, X_val, y_train, y_val = train_test_split(X, y, test_size=0.2, random_state=RS_NUMBER)\nprint(f\"X train shape: {X.shape}\")\nprint(f\"X validation shape: {X_test.shape}\")\nprint(f\"y train shape: {y.shape}\")\nprint(f\"y validation shape: {y_test.shape}\")",
   "execution_count": 9,
   "outputs": [
    {
     "name": "stdout",
     "text": "X train shape: (1329, 10)\nX validation shape: (148, 10)\ny train shape: (1329, 2)\ny validation shape: (148, 2)\n",
     "output_type": "stream"
    }
   ]
  },
  {
   "cell_type": "markdown",
   "source": "### Define the module for the neural network\nWe define a Module for PyTorch, which takes as input the number of units, activation function (sigmoid, relu or tanh) and the number of hidden layers (can be either one or two). The model architecture is the simplest one of a MLP, one or two linear layers and the activation function.  ",
   "metadata": {
    "cell_id": "e8ffe47f-13c3-438c-a625-a1f900c09da9",
    "tags": [],
    "deepnote_cell_type": "markdown"
   }
  },
  {
   "cell_type": "code",
   "metadata": {
    "cell_id": "00009-9b91a60c-1771-44b7-85d3-4179fd2a3044",
    "deepnote_to_be_reexecuted": false,
    "source_hash": "f35c2b20",
    "execution_start": 1642461038530,
    "execution_millis": 1,
    "deepnote_cell_type": "code"
   },
   "source": "class MyModule(nn.Module):\n    def __init__(self, num_units, activation_fun, hidden_layers):\n        super(MyModule, self).__init__()\n        \n        if(activation_fun == \"sigmoid\"):\n            activation_fun = nn.Sigmoid()\n        elif activation_fun == \"relu\":\n            activation_fun = nn.ReLU()\n        elif activation_fun == \"tanh\":\n            activation_fun = nn.Tanh()\n            \n        if hidden_layers == 2:\n            self.linear_stack = nn.Sequential(\n                nn.Linear(10, num_units),\n                activation_fun,\n                nn.Linear(num_units, num_units),\n                activation_fun,\n                nn.Linear(num_units, 2),\n            )\n        elif hidden_layers == 1:\n            self.linear_stack = nn.Sequential(\n                nn.Linear(10, num_units),\n                activation_fun,\n                nn.Linear(num_units, 2),\n            )     \n    def forward(self, x):\n        X = self.linear_stack(x)\n        return X\n    \n    def predict(self, x):\n        X = self.linear_stack(x)\n        return X",
   "execution_count": 10,
   "outputs": []
  },
  {
   "cell_type": "markdown",
   "source": "We define the device where the computation is going to happen (in our case the CPU) and we print a model example with a single hidden layer with 100 hidden units and the sigmoid activation function.  ",
   "metadata": {
    "cell_id": "fed8b698-64f4-4cba-86a1-148e8dad61b9",
    "tags": [],
    "deepnote_cell_type": "markdown"
   }
  },
  {
   "cell_type": "code",
   "metadata": {
    "cell_id": "00010-e23cd2eb-f4f5-4c0c-b985-96731b3e5f4b",
    "deepnote_to_be_reexecuted": false,
    "source_hash": "fecea97f",
    "execution_start": 1642461038533,
    "execution_millis": 33,
    "deepnote_cell_type": "code"
   },
   "source": "device = torch.device(\"cuda:0\" if torch.cuda.is_available() else \"cpu\")\n\nmodel = MyModule(num_units=100, activation_fun = \"sigmoid\", hidden_layers = 1).to(device)\nprint(model)",
   "execution_count": 11,
   "outputs": [
    {
     "name": "stdout",
     "text": "MyModule(\n  (linear_stack): Sequential(\n    (0): Linear(in_features=10, out_features=100, bias=True)\n    (1): Sigmoid()\n    (2): Linear(in_features=100, out_features=2, bias=True)\n  )\n)\n",
     "output_type": "stream"
    }
   ]
  },
  {
   "cell_type": "markdown",
   "source": "Pytorch is used with skorch which is a wrapper for the framework, the goal of skorch is to make it possible to use PyTorch with sklearn. This will allow us to use the randomized search of sklearn, the NeuralNetRegressor takes the module defined before as input.",
   "metadata": {
    "cell_id": "768ce6ef-5e96-4e6a-b2a9-c0441ca3f4b3",
    "tags": [],
    "deepnote_cell_type": "markdown"
   }
  },
  {
   "cell_type": "code",
   "source": "PATIENCE=15\nTHRESHOLD=0.001",
   "metadata": {
    "cell_id": "6c048a6a-5e04-4b81-9e55-9fab9d68d60e",
    "tags": [],
    "deepnote_to_be_reexecuted": false,
    "source_hash": "95a48f91",
    "execution_start": 1642461191452,
    "execution_millis": 1,
    "deepnote_cell_type": "code"
   },
   "outputs": [],
   "execution_count": 50
  },
  {
   "cell_type": "code",
   "metadata": {
    "cell_id": "00011-ee26a323-33fd-498d-a315-3a23538a0cf1",
    "deepnote_to_be_reexecuted": false,
    "source_hash": "38ded2f6",
    "execution_start": 1642461192661,
    "execution_millis": 1,
    "deepnote_cell_type": "code"
   },
   "source": "model = NeuralNetRegressor(\n    module = MyModule,\n    callbacks=[('early_stoppping', EarlyStopping(monitor='valid_loss', patience=PATIENCE, threshold=THRESHOLD))],\n)",
   "execution_count": 51,
   "outputs": []
  },
  {
   "cell_type": "code",
   "metadata": {
    "cell_id": "00012-2fe8f0fe-1ea1-4887-9b7f-061aea6b93a6",
    "deepnote_to_be_reexecuted": false,
    "source_hash": "dd87b3b4",
    "execution_start": 1642461195794,
    "execution_millis": 2,
    "deepnote_cell_type": "code"
   },
   "source": "# define the number of iterations\nn_iter_search = 100\n# define number of k-folds\nk = 10",
   "execution_count": 52,
   "outputs": []
  },
  {
   "cell_type": "code",
   "metadata": {
    "cell_id": "00013-9807bc36-9a23-4057-a810-b1a8d5997908",
    "deepnote_to_be_reexecuted": false,
    "source_hash": "8741b297",
    "execution_start": 1642461198694,
    "execution_millis": 3,
    "deepnote_cell_type": "code"
   },
   "source": "X = X.astype(np.float32)\ny = y.astype(np.float32)\nX_test = X_test.astype(np.float32)\ny_test = y_test.astype(np.float32)",
   "execution_count": 53,
   "outputs": []
  },
  {
   "cell_type": "markdown",
   "source": "### Randomized Search",
   "metadata": {
    "cell_id": "7148d14e-f05f-45d9-b2a8-8479b2415809",
    "tags": [],
    "deepnote_cell_type": "markdown"
   }
  },
  {
   "cell_type": "code",
   "metadata": {
    "cell_id": "00014-f29742e9-defa-4ead-9f7b-1875566e484a",
    "deepnote_to_be_reexecuted": false,
    "source_hash": "2e08ef10",
    "execution_start": 1642461201942,
    "execution_millis": 18,
    "deepnote_output_heights": [
     null,
     405.078125
    ],
    "deepnote_cell_type": "code"
   },
   "source": "#%%script false --no-raise-error\n\n# to find the best set of parameter setting, we can run a randomized search\n\n# define the parameters' values\nparams = {\n    'lr': uniform(0.0001, 0.1),\n    'max_epochs': [1000], #upper bound of max number of epochs\n    'optimizer': [torch.optim.SGD],\n    'optimizer__momentum': [0.8, 0.9, 0.95, 0.85], ##optimizer__ indicates that it is a parameter of the module\n    'optimizer__weight_decay': [0.0001, 0.001, 0.01, 0.1, 1],\n    'optimizer__nesterov': [False, True],\n    'module__num_units': randint(5, 128), #module__ indicates that it is a parameter of the module\n    'module__hidden_layers': [1,2],\n    'module__activation_fun': [\"sigmoid\", \"tanh\", \"relu\"],\n    'batch_size': randint(1, X.shape[0]),\n}\n\n# define the grid search\nrand_gs = RandomizedSearchCV(\n    model,\n    param_distributions=params,\n    n_iter=n_iter_search,\n    n_jobs=-1,\n    scoring=make_scorer(inv_mee), #scoring is based on the highest value so we use the inverse of the MEE loss function\n    cv=k,\n    random_state=RS_NUMBER,\n    verbose=0\n)\n# run the grid search\nrand_gs.fit(X, y)\n",
   "execution_count": 54,
   "outputs": []
  },
  {
   "cell_type": "code",
   "metadata": {
    "cell_id": "00015-c3740584-1ba9-4476-8b79-bfb9a96d2f51",
    "deepnote_to_be_reexecuted": false,
    "source_hash": "b977134",
    "execution_start": 1642461203783,
    "execution_millis": 11,
    "deepnote_cell_type": "code"
   },
   "source": "#%%script false --no-raise-error\n\ndf_results = pd.DataFrame(data=rand_gs.cv_results_) #trasform into a pandas dataframe\ndf_results.sort_values(by=\"rank_test_score\", axis=0, ascending=True, inplace=True) #sort rank values in decreasing order \ndf_results.dropna(inplace=True) #delete nan values \ndf_results = df_results[:50] #keep only top 50 models\npd.DataFrame.to_csv(df_results, \"pytorch_results/pytorch_search.csv\")",
   "execution_count": 55,
   "outputs": []
  },
  {
   "cell_type": "code",
   "metadata": {
    "cell_id": "00016-e7d90d2d-c917-49b9-927c-34cffe186b5a",
    "deepnote_output_heights": [
     208.1875
    ],
    "deepnote_to_be_reexecuted": false,
    "source_hash": "4c8f1693",
    "execution_start": 1642461205272,
    "execution_millis": 435,
    "deepnote_cell_type": "code"
   },
   "source": "df_results = pd.read_csv(\"pytorch_results/pytorch_search.csv\")\ndf_results.head()",
   "execution_count": 56,
   "outputs": [
    {
     "output_type": "execute_result",
     "execution_count": 56,
     "data": {
      "application/vnd.deepnote.dataframe.v3+json": {
       "column_count": 29,
       "row_count": 5,
       "columns": [
        {
         "name": "Unnamed: 0",
         "dtype": "int64",
         "stats": {
          "unique_count": 5,
          "nan_count": 0,
          "min": "22",
          "max": "68",
          "histogram": [
           {
            "bin_start": 22,
            "bin_end": 26.6,
            "count": 1
           },
           {
            "bin_start": 26.6,
            "bin_end": 31.2,
            "count": 1
           },
           {
            "bin_start": 31.2,
            "bin_end": 35.8,
            "count": 0
           },
           {
            "bin_start": 35.8,
            "bin_end": 40.4,
            "count": 1
           },
           {
            "bin_start": 40.4,
            "bin_end": 45,
            "count": 0
           },
           {
            "bin_start": 45,
            "bin_end": 49.599999999999994,
            "count": 1
           },
           {
            "bin_start": 49.599999999999994,
            "bin_end": 54.199999999999996,
            "count": 0
           },
           {
            "bin_start": 54.199999999999996,
            "bin_end": 58.8,
            "count": 0
           },
           {
            "bin_start": 58.8,
            "bin_end": 63.4,
            "count": 0
           },
           {
            "bin_start": 63.4,
            "bin_end": 68,
            "count": 1
           }
          ]
         }
        },
        {
         "name": "mean_fit_time",
         "dtype": "float64",
         "stats": {
          "unique_count": 5,
          "nan_count": 0,
          "min": "11.086837267875673",
          "max": "28.24394679069519",
          "histogram": [
           {
            "bin_start": 11.086837267875673,
            "bin_end": 12.802548220157625,
            "count": 1
           },
           {
            "bin_start": 12.802548220157625,
            "bin_end": 14.518259172439576,
            "count": 0
           },
           {
            "bin_start": 14.518259172439576,
            "bin_end": 16.23397012472153,
            "count": 0
           },
           {
            "bin_start": 16.23397012472153,
            "bin_end": 17.94968107700348,
            "count": 1
           },
           {
            "bin_start": 17.94968107700348,
            "bin_end": 19.66539202928543,
            "count": 1
           },
           {
            "bin_start": 19.66539202928543,
            "bin_end": 21.381102981567384,
            "count": 0
           },
           {
            "bin_start": 21.381102981567384,
            "bin_end": 23.096813933849333,
            "count": 0
           },
           {
            "bin_start": 23.096813933849333,
            "bin_end": 24.812524886131285,
            "count": 0
           },
           {
            "bin_start": 24.812524886131285,
            "bin_end": 26.528235838413238,
            "count": 0
           },
           {
            "bin_start": 26.528235838413238,
            "bin_end": 28.24394679069519,
            "count": 2
           }
          ]
         }
        },
        {
         "name": "std_fit_time",
         "dtype": "float64",
         "stats": {
          "unique_count": 5,
          "nan_count": 0,
          "min": "5.360469252555715",
          "max": "10.289903322894707",
          "histogram": [
           {
            "bin_start": 5.360469252555715,
            "bin_end": 5.8534126595896145,
            "count": 1
           },
           {
            "bin_start": 5.8534126595896145,
            "bin_end": 6.346356066623514,
            "count": 0
           },
           {
            "bin_start": 6.346356066623514,
            "bin_end": 6.839299473657412,
            "count": 0
           },
           {
            "bin_start": 6.839299473657412,
            "bin_end": 7.332242880691312,
            "count": 1
           },
           {
            "bin_start": 7.332242880691312,
            "bin_end": 7.825186287725211,
            "count": 0
           },
           {
            "bin_start": 7.825186287725211,
            "bin_end": 8.318129694759111,
            "count": 0
           },
           {
            "bin_start": 8.318129694759111,
            "bin_end": 8.81107310179301,
            "count": 0
           },
           {
            "bin_start": 8.81107310179301,
            "bin_end": 9.304016508826908,
            "count": 1
           },
           {
            "bin_start": 9.304016508826908,
            "bin_end": 9.796959915860807,
            "count": 0
           },
           {
            "bin_start": 9.796959915860807,
            "bin_end": 10.289903322894707,
            "count": 2
           }
          ]
         }
        },
        {
         "name": "mean_score_time",
         "dtype": "float64",
         "stats": {
          "unique_count": 5,
          "nan_count": 0,
          "min": "0.0034332513809204",
          "max": "0.0094089031219482",
          "histogram": [
           {
            "bin_start": 0.0034332513809204,
            "bin_end": 0.00403081655502318,
            "count": 2
           },
           {
            "bin_start": 0.00403081655502318,
            "bin_end": 0.00462838172912596,
            "count": 0
           },
           {
            "bin_start": 0.00462838172912596,
            "bin_end": 0.0052259469032287405,
            "count": 0
           },
           {
            "bin_start": 0.0052259469032287405,
            "bin_end": 0.00582351207733152,
            "count": 0
           },
           {
            "bin_start": 0.00582351207733152,
            "bin_end": 0.0064210772514342995,
            "count": 0
           },
           {
            "bin_start": 0.0064210772514342995,
            "bin_end": 0.00701864242553708,
            "count": 0
           },
           {
            "bin_start": 0.00701864242553708,
            "bin_end": 0.00761620759963986,
            "count": 0
           },
           {
            "bin_start": 0.00761620759963986,
            "bin_end": 0.00821377277374264,
            "count": 1
           },
           {
            "bin_start": 0.00821377277374264,
            "bin_end": 0.008811337947845421,
            "count": 0
           },
           {
            "bin_start": 0.008811337947845421,
            "bin_end": 0.0094089031219482,
            "count": 2
           }
          ]
         }
        },
        {
         "name": "std_score_time",
         "dtype": "float64",
         "stats": {
          "unique_count": 5,
          "nan_count": 0,
          "min": "0.0007971553801012",
          "max": "0.0157381813044985",
          "histogram": [
           {
            "bin_start": 0.0007971553801012,
            "bin_end": 0.0022912579725409303,
            "count": 2
           },
           {
            "bin_start": 0.0022912579725409303,
            "bin_end": 0.00378536056498066,
            "count": 0
           },
           {
            "bin_start": 0.00378536056498066,
            "bin_end": 0.005279463157420391,
            "count": 0
           },
           {
            "bin_start": 0.005279463157420391,
            "bin_end": 0.006773565749860121,
            "count": 0
           },
           {
            "bin_start": 0.006773565749860121,
            "bin_end": 0.00826766834229985,
            "count": 0
           },
           {
            "bin_start": 0.00826766834229985,
            "bin_end": 0.00976177093473958,
            "count": 0
           },
           {
            "bin_start": 0.00976177093473958,
            "bin_end": 0.01125587352717931,
            "count": 0
           },
           {
            "bin_start": 0.01125587352717931,
            "bin_end": 0.01274997611961904,
            "count": 0
           },
           {
            "bin_start": 0.01274997611961904,
            "bin_end": 0.01424407871205877,
            "count": 1
           },
           {
            "bin_start": 0.01424407871205877,
            "bin_end": 0.0157381813044985,
            "count": 2
           }
          ]
         }
        },
        {
         "name": "param_batch_size",
         "dtype": "int64",
         "stats": {
          "unique_count": 5,
          "nan_count": 0,
          "min": "412",
          "max": "1227",
          "histogram": [
           {
            "bin_start": 412,
            "bin_end": 493.5,
            "count": 1
           },
           {
            "bin_start": 493.5,
            "bin_end": 575,
            "count": 0
           },
           {
            "bin_start": 575,
            "bin_end": 656.5,
            "count": 0
           },
           {
            "bin_start": 656.5,
            "bin_end": 738,
            "count": 1
           },
           {
            "bin_start": 738,
            "bin_end": 819.5,
            "count": 1
           },
           {
            "bin_start": 819.5,
            "bin_end": 901,
            "count": 0
           },
           {
            "bin_start": 901,
            "bin_end": 982.5,
            "count": 0
           },
           {
            "bin_start": 982.5,
            "bin_end": 1064,
            "count": 0
           },
           {
            "bin_start": 1064,
            "bin_end": 1145.5,
            "count": 1
           },
           {
            "bin_start": 1145.5,
            "bin_end": 1227,
            "count": 1
           }
          ]
         }
        },
        {
         "name": "param_lr",
         "dtype": "float64",
         "stats": {
          "unique_count": 5,
          "nan_count": 0,
          "min": "0.006878206723193",
          "max": "0.0778176216915907",
          "histogram": [
           {
            "bin_start": 0.006878206723193,
            "bin_end": 0.01397214822003277,
            "count": 1
           },
           {
            "bin_start": 0.01397214822003277,
            "bin_end": 0.02106608971687254,
            "count": 0
           },
           {
            "bin_start": 0.02106608971687254,
            "bin_end": 0.02816003121371231,
            "count": 1
           },
           {
            "bin_start": 0.02816003121371231,
            "bin_end": 0.035253972710552084,
            "count": 0
           },
           {
            "bin_start": 0.035253972710552084,
            "bin_end": 0.042347914207391854,
            "count": 0
           },
           {
            "bin_start": 0.042347914207391854,
            "bin_end": 0.049441855704231624,
            "count": 0
           },
           {
            "bin_start": 0.049441855704231624,
            "bin_end": 0.056535797201071394,
            "count": 1
           },
           {
            "bin_start": 0.056535797201071394,
            "bin_end": 0.06362973869791116,
            "count": 0
           },
           {
            "bin_start": 0.06362973869791116,
            "bin_end": 0.07072368019475093,
            "count": 0
           },
           {
            "bin_start": 0.07072368019475093,
            "bin_end": 0.0778176216915907,
            "count": 2
           }
          ]
         }
        },
        {
         "name": "param_max_epochs",
         "dtype": "int64",
         "stats": {
          "unique_count": 1,
          "nan_count": 0,
          "min": "1000",
          "max": "1000",
          "histogram": [
           {
            "bin_start": 999.5,
            "bin_end": 999.6,
            "count": 0
           },
           {
            "bin_start": 999.6,
            "bin_end": 999.7,
            "count": 0
           },
           {
            "bin_start": 999.7,
            "bin_end": 999.8,
            "count": 0
           },
           {
            "bin_start": 999.8,
            "bin_end": 999.9,
            "count": 0
           },
           {
            "bin_start": 999.9,
            "bin_end": 1000,
            "count": 0
           },
           {
            "bin_start": 1000,
            "bin_end": 1000.1,
            "count": 5
           },
           {
            "bin_start": 1000.1,
            "bin_end": 1000.2,
            "count": 0
           },
           {
            "bin_start": 1000.2,
            "bin_end": 1000.3,
            "count": 0
           },
           {
            "bin_start": 1000.3,
            "bin_end": 1000.4,
            "count": 0
           },
           {
            "bin_start": 1000.4,
            "bin_end": 1000.5,
            "count": 0
           }
          ]
         }
        },
        {
         "name": "param_module__activation_fun",
         "dtype": "object",
         "stats": {
          "unique_count": 2,
          "nan_count": 0,
          "categories": [
           {
            "name": "sigmoid",
            "count": 3
           },
           {
            "name": "tanh",
            "count": 2
           }
          ]
         }
        },
        {
         "name": "param_module__hidden_layers",
         "dtype": "int64",
         "stats": {
          "unique_count": 2,
          "nan_count": 0,
          "min": "1",
          "max": "2",
          "histogram": [
           {
            "bin_start": 1,
            "bin_end": 1.1,
            "count": 3
           },
           {
            "bin_start": 1.1,
            "bin_end": 1.2,
            "count": 0
           },
           {
            "bin_start": 1.2,
            "bin_end": 1.3,
            "count": 0
           },
           {
            "bin_start": 1.3,
            "bin_end": 1.4,
            "count": 0
           },
           {
            "bin_start": 1.4,
            "bin_end": 1.5,
            "count": 0
           },
           {
            "bin_start": 1.5,
            "bin_end": 1.6,
            "count": 0
           },
           {
            "bin_start": 1.6,
            "bin_end": 1.7000000000000002,
            "count": 0
           },
           {
            "bin_start": 1.7000000000000002,
            "bin_end": 1.8,
            "count": 0
           },
           {
            "bin_start": 1.8,
            "bin_end": 1.9,
            "count": 0
           },
           {
            "bin_start": 1.9,
            "bin_end": 2,
            "count": 2
           }
          ]
         }
        },
        {
         "name": "param_module__num_units",
         "dtype": "int64",
         "stats": {
          "unique_count": 5,
          "nan_count": 0,
          "min": "28",
          "max": "112",
          "histogram": [
           {
            "bin_start": 28,
            "bin_end": 36.4,
            "count": 1
           },
           {
            "bin_start": 36.4,
            "bin_end": 44.8,
            "count": 0
           },
           {
            "bin_start": 44.8,
            "bin_end": 53.2,
            "count": 0
           },
           {
            "bin_start": 53.2,
            "bin_end": 61.6,
            "count": 0
           },
           {
            "bin_start": 61.6,
            "bin_end": 70,
            "count": 1
           },
           {
            "bin_start": 70,
            "bin_end": 78.4,
            "count": 0
           },
           {
            "bin_start": 78.4,
            "bin_end": 86.80000000000001,
            "count": 1
           },
           {
            "bin_start": 86.80000000000001,
            "bin_end": 95.2,
            "count": 0
           },
           {
            "bin_start": 95.2,
            "bin_end": 103.60000000000001,
            "count": 1
           },
           {
            "bin_start": 103.60000000000001,
            "bin_end": 112,
            "count": 1
           }
          ]
         }
        },
        {
         "name": "param_optimizer",
         "dtype": "object",
         "stats": {
          "unique_count": 1,
          "nan_count": 0,
          "categories": [
           {
            "name": "<class 'torch.optim.sgd.SGD'>",
            "count": 5
           }
          ]
         }
        },
        {
         "name": "param_optimizer__momentum",
         "dtype": "float64",
         "stats": {
          "unique_count": 2,
          "nan_count": 0,
          "min": "0.8",
          "max": "0.9",
          "histogram": [
           {
            "bin_start": 0.8,
            "bin_end": 0.81,
            "count": 1
           },
           {
            "bin_start": 0.81,
            "bin_end": 0.8200000000000001,
            "count": 0
           },
           {
            "bin_start": 0.8200000000000001,
            "bin_end": 0.8300000000000001,
            "count": 0
           },
           {
            "bin_start": 0.8300000000000001,
            "bin_end": 0.8400000000000001,
            "count": 0
           },
           {
            "bin_start": 0.8400000000000001,
            "bin_end": 0.8500000000000001,
            "count": 0
           },
           {
            "bin_start": 0.8500000000000001,
            "bin_end": 0.86,
            "count": 0
           },
           {
            "bin_start": 0.86,
            "bin_end": 0.87,
            "count": 0
           },
           {
            "bin_start": 0.87,
            "bin_end": 0.88,
            "count": 0
           },
           {
            "bin_start": 0.88,
            "bin_end": 0.89,
            "count": 0
           },
           {
            "bin_start": 0.89,
            "bin_end": 0.9,
            "count": 4
           }
          ]
         }
        },
        {
         "name": "param_optimizer__nesterov",
         "dtype": "bool",
         "stats": {
          "unique_count": 2,
          "nan_count": 0,
          "categories": [
           {
            "name": "True",
            "count": 3
           },
           {
            "name": "False",
            "count": 2
           }
          ]
         }
        },
        {
         "name": "param_optimizer__weight_decay",
         "dtype": "float64",
         "stats": {
          "unique_count": 2,
          "nan_count": 0,
          "min": "0.0001",
          "max": "0.001",
          "histogram": [
           {
            "bin_start": 0.0001,
            "bin_end": 0.00019,
            "count": 2
           },
           {
            "bin_start": 0.00019,
            "bin_end": 0.00028,
            "count": 0
           },
           {
            "bin_start": 0.00028,
            "bin_end": 0.00036999999999999994,
            "count": 0
           },
           {
            "bin_start": 0.00036999999999999994,
            "bin_end": 0.00045999999999999996,
            "count": 0
           },
           {
            "bin_start": 0.00045999999999999996,
            "bin_end": 0.00055,
            "count": 0
           },
           {
            "bin_start": 0.00055,
            "bin_end": 0.0006399999999999999,
            "count": 0
           },
           {
            "bin_start": 0.0006399999999999999,
            "bin_end": 0.00073,
            "count": 0
           },
           {
            "bin_start": 0.00073,
            "bin_end": 0.00082,
            "count": 0
           },
           {
            "bin_start": 0.00082,
            "bin_end": 0.00091,
            "count": 0
           },
           {
            "bin_start": 0.00091,
            "bin_end": 0.001,
            "count": 3
           }
          ]
         }
        },
        {
         "name": "params",
         "dtype": "object",
         "stats": {
          "unique_count": 5,
          "nan_count": 0,
          "categories": [
           {
            "name": "{'batch_size': 1227, 'lr': 0.006878206723193037, 'max_epochs': 1000, 'module__activation_fun': 'tanh', 'module__hidden_layers': 2, 'module__num_units': 102, 'optimizer': <class 'torch.optim.sgd.SGD'>, 'optimizer__momentum': 0.9, 'optimizer__nesterov': True, 'optimizer__weight_decay': 0.001}",
            "count": 1
           },
           {
            "name": "{'batch_size': 662, 'lr': 0.07495902597035271, 'max_epochs': 1000, 'module__activation_fun': 'sigmoid', 'module__hidden_layers': 1, 'module__num_units': 112, 'optimizer': <class 'torch.optim.sgd.SGD'>, 'optimizer__momentum': 0.9, 'optimizer__nesterov': False, 'optimizer__weight_decay': 0.0001}",
            "count": 1
           },
           {
            "name": "3 others",
            "count": 3
           }
          ]
         }
        },
        {
         "name": "split0_test_score",
         "dtype": "float64",
         "stats": {
          "unique_count": 5,
          "nan_count": 0,
          "min": "0.9427692475777278",
          "max": "0.96869040488361",
          "histogram": [
           {
            "bin_start": 0.9427692475777278,
            "bin_end": 0.9453613633083161,
            "count": 2
           },
           {
            "bin_start": 0.9453613633083161,
            "bin_end": 0.9479534790389043,
            "count": 0
           },
           {
            "bin_start": 0.9479534790389043,
            "bin_end": 0.9505455947694925,
            "count": 0
           },
           {
            "bin_start": 0.9505455947694925,
            "bin_end": 0.9531377105000807,
            "count": 0
           },
           {
            "bin_start": 0.9531377105000807,
            "bin_end": 0.9557298262306689,
            "count": 2
           },
           {
            "bin_start": 0.9557298262306689,
            "bin_end": 0.9583219419612572,
            "count": 0
           },
           {
            "bin_start": 0.9583219419612572,
            "bin_end": 0.9609140576918453,
            "count": 0
           },
           {
            "bin_start": 0.9609140576918453,
            "bin_end": 0.9635061734224336,
            "count": 0
           },
           {
            "bin_start": 0.9635061734224336,
            "bin_end": 0.9660982891530218,
            "count": 0
           },
           {
            "bin_start": 0.9660982891530218,
            "bin_end": 0.96869040488361,
            "count": 1
           }
          ]
         }
        },
        {
         "name": "split1_test_score",
         "dtype": "float64",
         "stats": {
          "unique_count": 5,
          "nan_count": 0,
          "min": "0.9273803752766216",
          "max": "0.982846653145216",
          "histogram": [
           {
            "bin_start": 0.9273803752766216,
            "bin_end": 0.9329270030634811,
            "count": 1
           },
           {
            "bin_start": 0.9329270030634811,
            "bin_end": 0.9384736308503405,
            "count": 0
           },
           {
            "bin_start": 0.9384736308503405,
            "bin_end": 0.9440202586372,
            "count": 1
           },
           {
            "bin_start": 0.9440202586372,
            "bin_end": 0.9495668864240594,
            "count": 0
           },
           {
            "bin_start": 0.9495668864240594,
            "bin_end": 0.9551135142109188,
            "count": 2
           },
           {
            "bin_start": 0.9551135142109188,
            "bin_end": 0.9606601419977783,
            "count": 0
           },
           {
            "bin_start": 0.9606601419977783,
            "bin_end": 0.9662067697846377,
            "count": 0
           },
           {
            "bin_start": 0.9662067697846377,
            "bin_end": 0.9717533975714971,
            "count": 0
           },
           {
            "bin_start": 0.9717533975714971,
            "bin_end": 0.9773000253583566,
            "count": 0
           },
           {
            "bin_start": 0.9773000253583566,
            "bin_end": 0.982846653145216,
            "count": 1
           }
          ]
         }
        },
        {
         "name": "split2_test_score",
         "dtype": "float64",
         "stats": {
          "unique_count": 5,
          "nan_count": 0,
          "min": "0.8443971383068155",
          "max": "0.8892146252275352",
          "histogram": [
           {
            "bin_start": 0.8443971383068155,
            "bin_end": 0.8488788869988875,
            "count": 2
           },
           {
            "bin_start": 0.8488788869988875,
            "bin_end": 0.8533606356909594,
            "count": 0
           },
           {
            "bin_start": 0.8533606356909594,
            "bin_end": 0.8578423843830314,
            "count": 0
           },
           {
            "bin_start": 0.8578423843830314,
            "bin_end": 0.8623241330751034,
            "count": 0
           },
           {
            "bin_start": 0.8623241330751034,
            "bin_end": 0.8668058817671753,
            "count": 0
           },
           {
            "bin_start": 0.8668058817671753,
            "bin_end": 0.8712876304592474,
            "count": 0
           },
           {
            "bin_start": 0.8712876304592474,
            "bin_end": 0.8757693791513194,
            "count": 1
           },
           {
            "bin_start": 0.8757693791513194,
            "bin_end": 0.8802511278433913,
            "count": 1
           },
           {
            "bin_start": 0.8802511278433913,
            "bin_end": 0.8847328765354633,
            "count": 0
           },
           {
            "bin_start": 0.8847328765354633,
            "bin_end": 0.8892146252275352,
            "count": 1
           }
          ]
         }
        },
        {
         "name": "split3_test_score",
         "dtype": "float64",
         "stats": {
          "unique_count": 5,
          "nan_count": 0,
          "min": "0.812757850834649",
          "max": "0.8575452777732738",
          "histogram": [
           {
            "bin_start": 0.812757850834649,
            "bin_end": 0.8172365935285115,
            "count": 2
           },
           {
            "bin_start": 0.8172365935285115,
            "bin_end": 0.821715336222374,
            "count": 0
           },
           {
            "bin_start": 0.821715336222374,
            "bin_end": 0.8261940789162364,
            "count": 1
           },
           {
            "bin_start": 0.8261940789162364,
            "bin_end": 0.8306728216100989,
            "count": 0
           },
           {
            "bin_start": 0.8306728216100989,
            "bin_end": 0.8351515643039614,
            "count": 0
           },
           {
            "bin_start": 0.8351515643039614,
            "bin_end": 0.8396303069978239,
            "count": 0
           },
           {
            "bin_start": 0.8396303069978239,
            "bin_end": 0.8441090496916864,
            "count": 1
           },
           {
            "bin_start": 0.8441090496916864,
            "bin_end": 0.8485877923855488,
            "count": 0
           },
           {
            "bin_start": 0.8485877923855488,
            "bin_end": 0.8530665350794113,
            "count": 0
           },
           {
            "bin_start": 0.8530665350794113,
            "bin_end": 0.8575452777732738,
            "count": 1
           }
          ]
         }
        },
        {
         "name": "split4_test_score",
         "dtype": "float64",
         "stats": {
          "unique_count": 5,
          "nan_count": 0,
          "min": "0.8184315113865989",
          "max": "0.8542559958002449",
          "histogram": [
           {
            "bin_start": 0.8184315113865989,
            "bin_end": 0.8220139598279634,
            "count": 1
           },
           {
            "bin_start": 0.8220139598279634,
            "bin_end": 0.8255964082693281,
            "count": 0
           },
           {
            "bin_start": 0.8255964082693281,
            "bin_end": 0.8291788567106927,
            "count": 1
           },
           {
            "bin_start": 0.8291788567106927,
            "bin_end": 0.8327613051520573,
            "count": 2
           },
           {
            "bin_start": 0.8327613051520573,
            "bin_end": 0.836343753593422,
            "count": 0
           },
           {
            "bin_start": 0.836343753593422,
            "bin_end": 0.8399262020347865,
            "count": 0
           },
           {
            "bin_start": 0.8399262020347865,
            "bin_end": 0.8435086504761511,
            "count": 0
           },
           {
            "bin_start": 0.8435086504761511,
            "bin_end": 0.8470910989175157,
            "count": 0
           },
           {
            "bin_start": 0.8470910989175157,
            "bin_end": 0.8506735473588803,
            "count": 0
           },
           {
            "bin_start": 0.8506735473588803,
            "bin_end": 0.8542559958002449,
            "count": 1
           }
          ]
         }
        },
        {
         "name": "split5_test_score",
         "dtype": "float64",
         "stats": {
          "unique_count": 5,
          "nan_count": 0,
          "min": "0.810310451917904",
          "max": "0.8483532928549273",
          "histogram": [
           {
            "bin_start": 0.810310451917904,
            "bin_end": 0.8141147360116063,
            "count": 1
           },
           {
            "bin_start": 0.8141147360116063,
            "bin_end": 0.8179190201053086,
            "count": 0
           },
           {
            "bin_start": 0.8179190201053086,
            "bin_end": 0.821723304199011,
            "count": 0
           },
           {
            "bin_start": 0.821723304199011,
            "bin_end": 0.8255275882927133,
            "count": 2
           },
           {
            "bin_start": 0.8255275882927133,
            "bin_end": 0.8293318723864156,
            "count": 0
           },
           {
            "bin_start": 0.8293318723864156,
            "bin_end": 0.833136156480118,
            "count": 1
           },
           {
            "bin_start": 0.833136156480118,
            "bin_end": 0.8369404405738203,
            "count": 0
           },
           {
            "bin_start": 0.8369404405738203,
            "bin_end": 0.8407447246675227,
            "count": 0
           },
           {
            "bin_start": 0.8407447246675227,
            "bin_end": 0.844549008761225,
            "count": 0
           },
           {
            "bin_start": 0.844549008761225,
            "bin_end": 0.8483532928549273,
            "count": 1
           }
          ]
         }
        },
        {
         "name": "split6_test_score",
         "dtype": "float64",
         "stats": {
          "unique_count": 5,
          "nan_count": 0,
          "min": "0.8841895351437958",
          "max": "0.9092623938918518",
          "histogram": [
           {
            "bin_start": 0.8841895351437958,
            "bin_end": 0.8866968210186015,
            "count": 2
           },
           {
            "bin_start": 0.8866968210186015,
            "bin_end": 0.889204106893407,
            "count": 0
           },
           {
            "bin_start": 0.889204106893407,
            "bin_end": 0.8917113927682127,
            "count": 0
           },
           {
            "bin_start": 0.8917113927682127,
            "bin_end": 0.8942186786430182,
            "count": 0
           },
           {
            "bin_start": 0.8942186786430182,
            "bin_end": 0.8967259645178238,
            "count": 1
           },
           {
            "bin_start": 0.8967259645178238,
            "bin_end": 0.8992332503926295,
            "count": 0
           },
           {
            "bin_start": 0.8992332503926295,
            "bin_end": 0.901740536267435,
            "count": 1
           },
           {
            "bin_start": 0.901740536267435,
            "bin_end": 0.9042478221422406,
            "count": 0
           },
           {
            "bin_start": 0.9042478221422406,
            "bin_end": 0.9067551080170462,
            "count": 0
           },
           {
            "bin_start": 0.9067551080170462,
            "bin_end": 0.9092623938918518,
            "count": 1
           }
          ]
         }
        },
        {
         "name": "split7_test_score",
         "dtype": "float64",
         "stats": {
          "unique_count": 5,
          "nan_count": 0,
          "min": "0.9193087648917287",
          "max": "0.965212258084705",
          "histogram": [
           {
            "bin_start": 0.9193087648917287,
            "bin_end": 0.9238991142110263,
            "count": 2
           },
           {
            "bin_start": 0.9238991142110263,
            "bin_end": 0.928489463530324,
            "count": 0
           },
           {
            "bin_start": 0.928489463530324,
            "bin_end": 0.9330798128496216,
            "count": 0
           },
           {
            "bin_start": 0.9330798128496216,
            "bin_end": 0.9376701621689193,
            "count": 0
           },
           {
            "bin_start": 0.9376701621689193,
            "bin_end": 0.9422605114882169,
            "count": 0
           },
           {
            "bin_start": 0.9422605114882169,
            "bin_end": 0.9468508608075145,
            "count": 1
           },
           {
            "bin_start": 0.9468508608075145,
            "bin_end": 0.9514412101268122,
            "count": 1
           },
           {
            "bin_start": 0.9514412101268122,
            "bin_end": 0.9560315594461097,
            "count": 0
           },
           {
            "bin_start": 0.9560315594461097,
            "bin_end": 0.9606219087654074,
            "count": 0
           },
           {
            "bin_start": 0.9606219087654074,
            "bin_end": 0.965212258084705,
            "count": 1
           }
          ]
         }
        },
        {
         "name": "split8_test_score",
         "dtype": "float64",
         "stats": {
          "unique_count": 5,
          "nan_count": 0,
          "min": "0.8012639691894714",
          "max": "0.8218963444521128",
          "histogram": [
           {
            "bin_start": 0.8012639691894714,
            "bin_end": 0.8033272067157355,
            "count": 1
           },
           {
            "bin_start": 0.8033272067157355,
            "bin_end": 0.8053904442419997,
            "count": 1
           },
           {
            "bin_start": 0.8053904442419997,
            "bin_end": 0.8074536817682638,
            "count": 0
           },
           {
            "bin_start": 0.8074536817682638,
            "bin_end": 0.809516919294528,
            "count": 0
           },
           {
            "bin_start": 0.809516919294528,
            "bin_end": 0.8115801568207921,
            "count": 0
           },
           {
            "bin_start": 0.8115801568207921,
            "bin_end": 0.8136433943470562,
            "count": 0
           },
           {
            "bin_start": 0.8136433943470562,
            "bin_end": 0.8157066318733204,
            "count": 1
           },
           {
            "bin_start": 0.8157066318733204,
            "bin_end": 0.8177698693995845,
            "count": 0
           },
           {
            "bin_start": 0.8177698693995845,
            "bin_end": 0.8198331069258487,
            "count": 1
           },
           {
            "bin_start": 0.8198331069258487,
            "bin_end": 0.8218963444521128,
            "count": 1
           }
          ]
         }
        },
        {
         "name": "split9_test_score",
         "dtype": "float64",
         "stats": {
          "unique_count": 5,
          "nan_count": 0,
          "min": "0.959958577764349",
          "max": "1.019919931177239",
          "histogram": [
           {
            "bin_start": 0.959958577764349,
            "bin_end": 0.965954713105638,
            "count": 1
           },
           {
            "bin_start": 0.965954713105638,
            "bin_end": 0.971950848446927,
            "count": 0
           },
           {
            "bin_start": 0.971950848446927,
            "bin_end": 0.977946983788216,
            "count": 1
           },
           {
            "bin_start": 0.977946983788216,
            "bin_end": 0.9839431191295049,
            "count": 0
           },
           {
            "bin_start": 0.9839431191295049,
            "bin_end": 0.9899392544707939,
            "count": 0
           },
           {
            "bin_start": 0.9899392544707939,
            "bin_end": 0.995935389812083,
            "count": 0
           },
           {
            "bin_start": 0.995935389812083,
            "bin_end": 1.001931525153372,
            "count": 1
           },
           {
            "bin_start": 1.001931525153372,
            "bin_end": 1.007927660494661,
            "count": 0
           },
           {
            "bin_start": 1.007927660494661,
            "bin_end": 1.01392379583595,
            "count": 1
           },
           {
            "bin_start": 1.01392379583595,
            "bin_end": 1.019919931177239,
            "count": 1
           }
          ]
         }
        },
        {
         "name": "mean_test_score",
         "dtype": "float64",
         "stats": {
          "unique_count": 5,
          "nan_count": 0,
          "min": "0.8812600208862372",
          "max": "0.9043367258342964",
          "histogram": [
           {
            "bin_start": 0.8812600208862372,
            "bin_end": 0.8835676913810432,
            "count": 1
           },
           {
            "bin_start": 0.8835676913810432,
            "bin_end": 0.885875361875849,
            "count": 1
           },
           {
            "bin_start": 0.885875361875849,
            "bin_end": 0.888183032370655,
            "count": 1
           },
           {
            "bin_start": 0.888183032370655,
            "bin_end": 0.8904907028654608,
            "count": 0
           },
           {
            "bin_start": 0.8904907028654608,
            "bin_end": 0.8927983733602668,
            "count": 1
           },
           {
            "bin_start": 0.8927983733602668,
            "bin_end": 0.8951060438550728,
            "count": 0
           },
           {
            "bin_start": 0.8951060438550728,
            "bin_end": 0.8974137143498786,
            "count": 0
           },
           {
            "bin_start": 0.8974137143498786,
            "bin_end": 0.8997213848446846,
            "count": 0
           },
           {
            "bin_start": 0.8997213848446846,
            "bin_end": 0.9020290553394904,
            "count": 0
           },
           {
            "bin_start": 0.9020290553394904,
            "bin_end": 0.9043367258342964,
            "count": 1
           }
          ]
         }
        },
        {
         "name": "std_test_score",
         "dtype": "float64",
         "stats": {
          "unique_count": 5,
          "nan_count": 0,
          "min": "0.0556498868441825",
          "max": "0.0679996402240348",
          "histogram": [
           {
            "bin_start": 0.0556498868441825,
            "bin_end": 0.05688486218216773,
            "count": 1
           },
           {
            "bin_start": 0.05688486218216773,
            "bin_end": 0.058119837520152956,
            "count": 1
           },
           {
            "bin_start": 0.058119837520152956,
            "bin_end": 0.05935481285813819,
            "count": 0
           },
           {
            "bin_start": 0.05935481285813819,
            "bin_end": 0.06058978819612342,
            "count": 0
           },
           {
            "bin_start": 0.06058978819612342,
            "bin_end": 0.06182476353410865,
            "count": 0
           },
           {
            "bin_start": 0.06182476353410865,
            "bin_end": 0.06305973887209389,
            "count": 0
           },
           {
            "bin_start": 0.06305973887209389,
            "bin_end": 0.06429471421007911,
            "count": 0
           },
           {
            "bin_start": 0.06429471421007911,
            "bin_end": 0.06552968954806435,
            "count": 1
           },
           {
            "bin_start": 0.06552968954806435,
            "bin_end": 0.06676466488604957,
            "count": 0
           },
           {
            "bin_start": 0.06676466488604957,
            "bin_end": 0.0679996402240348,
            "count": 2
           }
          ]
         }
        },
        {
         "name": "rank_test_score",
         "dtype": "int64",
         "stats": {
          "unique_count": 5,
          "nan_count": 0,
          "min": "1",
          "max": "5",
          "histogram": [
           {
            "bin_start": 1,
            "bin_end": 1.4,
            "count": 1
           },
           {
            "bin_start": 1.4,
            "bin_end": 1.8,
            "count": 0
           },
           {
            "bin_start": 1.8,
            "bin_end": 2.2,
            "count": 1
           },
           {
            "bin_start": 2.2,
            "bin_end": 2.6,
            "count": 0
           },
           {
            "bin_start": 2.6,
            "bin_end": 3,
            "count": 0
           },
           {
            "bin_start": 3,
            "bin_end": 3.4000000000000004,
            "count": 1
           },
           {
            "bin_start": 3.4000000000000004,
            "bin_end": 3.8000000000000003,
            "count": 0
           },
           {
            "bin_start": 3.8000000000000003,
            "bin_end": 4.2,
            "count": 1
           },
           {
            "bin_start": 4.2,
            "bin_end": 4.6,
            "count": 0
           },
           {
            "bin_start": 4.6,
            "bin_end": 5,
            "count": 1
           }
          ]
         }
        },
        {
         "name": "_deepnote_index_column",
         "dtype": "int64"
        }
       ],
       "rows": [
        {
         "Unnamed: 0": 22,
         "mean_fit_time": 27.719214510917663,
         "std_fit_time": 9.223067748996291,
         "mean_score_time": 0.0094089031219482,
         "std_score_time": 0.0154852995258686,
         "param_batch_size": 1227,
         "param_lr": 0.006878206723193,
         "param_max_epochs": 1000,
         "param_module__activation_fun": "tanh",
         "param_module__hidden_layers": 2,
         "param_module__num_units": 102,
         "param_optimizer": "<class 'torch.optim.sgd.SGD'>",
         "param_optimizer__momentum": 0.9,
         "param_optimizer__nesterov": true,
         "param_optimizer__weight_decay": 0.001,
         "params": "{'batch_size': 1227, 'lr': 0.006878206723193037, 'max_epochs': 1000, 'module__activation_fun': 'tan…",
         "split0_test_score": 0.9551018329086988,
         "split1_test_score": 0.982846653145216,
         "split2_test_score": 0.8793555560069721,
         "split3_test_score": 0.8575452777732738,
         "split4_test_score": 0.8289465767960248,
         "split5_test_score": 0.8483532928549273,
         "split6_test_score": 0.8841895351437958,
         "split7_test_score": 0.965212258084705,
         "split8_test_score": 0.8218963444521128,
         "split9_test_score": 1.019919931177239,
         "mean_test_score": 0.9043367258342964,
         "std_test_score": 0.0668130646952206,
         "rank_test_score": 1,
         "_deepnote_index_column": 0
        },
        {
         "Unnamed: 0": 28,
         "mean_fit_time": 18.19585566520691,
         "std_fit_time": 7.174137054248885,
         "mean_score_time": 0.0088945150375366,
         "std_score_time": 0.0157381813044985,
         "param_batch_size": 662,
         "param_lr": 0.0749590259703527,
         "param_max_epochs": 1000,
         "param_module__activation_fun": "sigmoid",
         "param_module__hidden_layers": 1,
         "param_module__num_units": 112,
         "param_optimizer": "<class 'torch.optim.sgd.SGD'>",
         "param_optimizer__momentum": 0.9,
         "param_optimizer__nesterov": false,
         "param_optimizer__weight_decay": 0.0001,
         "params": "{'batch_size': 662, 'lr': 0.07495902597035271, 'max_epochs': 1000, 'module__activation_fun': 'sigmo…",
         "split0_test_score": 0.96869040488361,
         "split1_test_score": 0.9540033062719682,
         "split2_test_score": 0.8892146252275352,
         "split3_test_score": 0.812757850834649,
         "split4_test_score": 0.8321143891464293,
         "split5_test_score": 0.8312944106210736,
         "split6_test_score": 0.8992378994017477,
         "split7_test_score": 0.9193087648917287,
         "split8_test_score": 0.8048993611124023,
         "split9_test_score": 1.012715652841458,
         "mean_test_score": 0.8924236665232602,
         "std_test_score": 0.0679996402240348,
         "rank_test_score": 2,
         "_deepnote_index_column": 1
        },
        {
         "Unnamed: 0": 46,
         "mean_fit_time": 28.24394679069519,
         "std_fit_time": 10.114720559137982,
         "mean_score_time": 0.0034332513809204,
         "std_score_time": 0.0008443545992083,
         "param_batch_size": 750,
         "param_lr": 0.0529564187502906,
         "param_max_epochs": 1000,
         "param_module__activation_fun": "sigmoid",
         "param_module__hidden_layers": 2,
         "param_module__num_units": 28,
         "param_optimizer": "<class 'torch.optim.sgd.SGD'>",
         "param_optimizer__momentum": 0.8,
         "param_optimizer__nesterov": true,
         "param_optimizer__weight_decay": 0.001,
         "params": "{'batch_size': 750, 'lr': 0.052956418750290626, 'max_epochs': 1000, 'module__activation_fun': 'sigm…",
         "split0_test_score": 0.9427692475777278,
         "split1_test_score": 0.9406113612965172,
         "split2_test_score": 0.8443971383068155,
         "split3_test_score": 0.8427842968621302,
         "split4_test_score": 0.8542559958002449,
         "split5_test_score": 0.8230470619629544,
         "split6_test_score": 0.9092623938918518,
         "split7_test_score": 0.946887668209795,
         "split8_test_score": 0.8012639691894714,
         "split9_test_score": 0.9722502069000964,
         "mean_test_score": 0.8877529339997604,
         "std_test_score": 0.0579752619687534,
         "rank_test_score": 3,
         "_deepnote_index_column": 2
        },
        {
         "Unnamed: 0": 37,
         "mean_fit_time": 11.086837267875673,
         "std_fit_time": 5.360469252555715,
         "mean_score_time": 0.0079120874404907,
         "std_score_time": 0.0128713941985656,
         "param_batch_size": 412,
         "param_lr": 0.0778176216915907,
         "param_max_epochs": 1000,
         "param_module__activation_fun": "sigmoid",
         "param_module__hidden_layers": 1,
         "param_module__num_units": 68,
         "param_optimizer": "<class 'torch.optim.sgd.SGD'>",
         "param_optimizer__momentum": 0.9,
         "param_optimizer__nesterov": false,
         "param_optimizer__weight_decay": 0.001,
         "params": "{'batch_size': 412, 'lr': 0.07781762169159073, 'max_epochs': 1000, 'module__activation_fun': 'sigmo…",
         "split0_test_score": 0.9556856625386976,
         "split1_test_score": 0.9273803752766216,
         "split2_test_score": 0.8729284981687314,
         "split3_test_score": 0.8128697984165836,
         "split4_test_score": 0.8184315113865989,
         "split5_test_score": 0.810310451917904,
         "split6_test_score": 0.8852942707707553,
         "split7_test_score": 0.943923391211887,
         "split8_test_score": 0.8185626153962953,
         "split9_test_score": 0.9962360494353012,
         "mean_test_score": 0.8841622624519377,
         "std_test_score": 0.0651178607259048,
         "rank_test_score": 4,
         "_deepnote_index_column": 3
        },
        {
         "Unnamed: 0": 68,
         "mean_fit_time": 16.97669768333435,
         "std_fit_time": 10.289903322894707,
         "mean_score_time": 0.0038511514663696,
         "std_score_time": 0.0007971553801012,
         "param_batch_size": 1118,
         "param_lr": 0.021207825289877,
         "param_max_epochs": 1000,
         "param_module__activation_fun": "tanh",
         "param_module__hidden_layers": 1,
         "param_module__num_units": 85,
         "param_optimizer": "<class 'torch.optim.sgd.SGD'>",
         "param_optimizer__momentum": 0.9,
         "param_optimizer__nesterov": true,
         "param_optimizer__weight_decay": 0.0001,
         "params": "{'batch_size': 1118, 'lr': 0.021207825289877025, 'max_epochs': 1000, 'module__activation_fun': 'tan…",
         "split0_test_score": 0.943496122236826,
         "split1_test_score": 0.9512739510168768,
         "split2_test_score": 0.845713595765972,
         "split3_test_score": 0.8254115871173766,
         "split4_test_score": 0.8322983588792177,
         "split5_test_score": 0.8248686799940129,
         "split6_test_score": 0.8952596470173514,
         "split7_test_score": 0.9193465786440514,
         "split8_test_score": 0.8149731104263387,
         "split9_test_score": 0.959958577764349,
         "mean_test_score": 0.8812600208862372,
         "std_test_score": 0.0556498868441825,
         "rank_test_score": 5,
         "_deepnote_index_column": 4
        }
       ]
      },
      "text/plain": "   Unnamed: 0  mean_fit_time  std_fit_time  mean_score_time  std_score_time  \\\n0          22      27.719215      9.223068         0.009409        0.015485   \n1          28      18.195856      7.174137         0.008895        0.015738   \n2          46      28.243947     10.114721         0.003433        0.000844   \n3          37      11.086837      5.360469         0.007912        0.012871   \n4          68      16.976698     10.289903         0.003851        0.000797   \n\n   param_batch_size  param_lr  param_max_epochs param_module__activation_fun  \\\n0              1227  0.006878              1000                         tanh   \n1               662  0.074959              1000                      sigmoid   \n2               750  0.052956              1000                      sigmoid   \n3               412  0.077818              1000                      sigmoid   \n4              1118  0.021208              1000                         tanh   \n\n   param_module__hidden_layers  ...  split3_test_score split4_test_score  \\\n0                            2  ...           0.857545          0.828947   \n1                            1  ...           0.812758          0.832114   \n2                            2  ...           0.842784          0.854256   \n3                            1  ...           0.812870          0.818432   \n4                            1  ...           0.825412          0.832298   \n\n   split5_test_score  split6_test_score  split7_test_score split8_test_score  \\\n0           0.848353           0.884190           0.965212          0.821896   \n1           0.831294           0.899238           0.919309          0.804899   \n2           0.823047           0.909262           0.946888          0.801264   \n3           0.810310           0.885294           0.943923          0.818563   \n4           0.824869           0.895260           0.919347          0.814973   \n\n   split9_test_score  mean_test_score  std_test_score  rank_test_score  \n0           1.019920         0.904337        0.066813                1  \n1           1.012716         0.892424        0.068000                2  \n2           0.972250         0.887753        0.057975                3  \n3           0.996236         0.884162        0.065118                4  \n4           0.959959         0.881260        0.055650                5  \n\n[5 rows x 29 columns]",
      "text/html": "<div>\n<style scoped>\n    .dataframe tbody tr th:only-of-type {\n        vertical-align: middle;\n    }\n\n    .dataframe tbody tr th {\n        vertical-align: top;\n    }\n\n    .dataframe thead th {\n        text-align: right;\n    }\n</style>\n<table border=\"1\" class=\"dataframe\">\n  <thead>\n    <tr style=\"text-align: right;\">\n      <th></th>\n      <th>Unnamed: 0</th>\n      <th>mean_fit_time</th>\n      <th>std_fit_time</th>\n      <th>mean_score_time</th>\n      <th>std_score_time</th>\n      <th>param_batch_size</th>\n      <th>param_lr</th>\n      <th>param_max_epochs</th>\n      <th>param_module__activation_fun</th>\n      <th>param_module__hidden_layers</th>\n      <th>...</th>\n      <th>split3_test_score</th>\n      <th>split4_test_score</th>\n      <th>split5_test_score</th>\n      <th>split6_test_score</th>\n      <th>split7_test_score</th>\n      <th>split8_test_score</th>\n      <th>split9_test_score</th>\n      <th>mean_test_score</th>\n      <th>std_test_score</th>\n      <th>rank_test_score</th>\n    </tr>\n  </thead>\n  <tbody>\n    <tr>\n      <th>0</th>\n      <td>22</td>\n      <td>27.719215</td>\n      <td>9.223068</td>\n      <td>0.009409</td>\n      <td>0.015485</td>\n      <td>1227</td>\n      <td>0.006878</td>\n      <td>1000</td>\n      <td>tanh</td>\n      <td>2</td>\n      <td>...</td>\n      <td>0.857545</td>\n      <td>0.828947</td>\n      <td>0.848353</td>\n      <td>0.884190</td>\n      <td>0.965212</td>\n      <td>0.821896</td>\n      <td>1.019920</td>\n      <td>0.904337</td>\n      <td>0.066813</td>\n      <td>1</td>\n    </tr>\n    <tr>\n      <th>1</th>\n      <td>28</td>\n      <td>18.195856</td>\n      <td>7.174137</td>\n      <td>0.008895</td>\n      <td>0.015738</td>\n      <td>662</td>\n      <td>0.074959</td>\n      <td>1000</td>\n      <td>sigmoid</td>\n      <td>1</td>\n      <td>...</td>\n      <td>0.812758</td>\n      <td>0.832114</td>\n      <td>0.831294</td>\n      <td>0.899238</td>\n      <td>0.919309</td>\n      <td>0.804899</td>\n      <td>1.012716</td>\n      <td>0.892424</td>\n      <td>0.068000</td>\n      <td>2</td>\n    </tr>\n    <tr>\n      <th>2</th>\n      <td>46</td>\n      <td>28.243947</td>\n      <td>10.114721</td>\n      <td>0.003433</td>\n      <td>0.000844</td>\n      <td>750</td>\n      <td>0.052956</td>\n      <td>1000</td>\n      <td>sigmoid</td>\n      <td>2</td>\n      <td>...</td>\n      <td>0.842784</td>\n      <td>0.854256</td>\n      <td>0.823047</td>\n      <td>0.909262</td>\n      <td>0.946888</td>\n      <td>0.801264</td>\n      <td>0.972250</td>\n      <td>0.887753</td>\n      <td>0.057975</td>\n      <td>3</td>\n    </tr>\n    <tr>\n      <th>3</th>\n      <td>37</td>\n      <td>11.086837</td>\n      <td>5.360469</td>\n      <td>0.007912</td>\n      <td>0.012871</td>\n      <td>412</td>\n      <td>0.077818</td>\n      <td>1000</td>\n      <td>sigmoid</td>\n      <td>1</td>\n      <td>...</td>\n      <td>0.812870</td>\n      <td>0.818432</td>\n      <td>0.810310</td>\n      <td>0.885294</td>\n      <td>0.943923</td>\n      <td>0.818563</td>\n      <td>0.996236</td>\n      <td>0.884162</td>\n      <td>0.065118</td>\n      <td>4</td>\n    </tr>\n    <tr>\n      <th>4</th>\n      <td>68</td>\n      <td>16.976698</td>\n      <td>10.289903</td>\n      <td>0.003851</td>\n      <td>0.000797</td>\n      <td>1118</td>\n      <td>0.021208</td>\n      <td>1000</td>\n      <td>tanh</td>\n      <td>1</td>\n      <td>...</td>\n      <td>0.825412</td>\n      <td>0.832298</td>\n      <td>0.824869</td>\n      <td>0.895260</td>\n      <td>0.919347</td>\n      <td>0.814973</td>\n      <td>0.959959</td>\n      <td>0.881260</td>\n      <td>0.055650</td>\n      <td>5</td>\n    </tr>\n  </tbody>\n</table>\n<p>5 rows × 29 columns</p>\n</div>"
     },
     "metadata": {}
    }
   ]
  },
  {
   "cell_type": "code",
   "metadata": {
    "cell_id": "00017-f984ff7d-b27c-4f70-9063-55b9ea3a50cb",
    "deepnote_to_be_reexecuted": false,
    "source_hash": "317cce80",
    "execution_start": 1642461207956,
    "execution_millis": 132,
    "deepnote_cell_type": "code"
   },
   "source": "#get the best params for the grid search (cannot use rand_gs.best_estimator directly since it will yield the worst estimator based on MEE)\nbest_params = df_results['params'][0]\nprint(f\"Mean error on the {k}-folds (invMEE) on best model: {df_results['mean_test_score'][0]}\\n\")\nprint(f\"Best params: {best_params}\")",
   "execution_count": 57,
   "outputs": [
    {
     "name": "stdout",
     "text": "Mean error on the 10-folds (invMEE) on best model: 0.9043367258342964\n\nBest params: {'batch_size': 1227, 'lr': 0.006878206723193037, 'max_epochs': 1000, 'module__activation_fun': 'tanh', 'module__hidden_layers': 2, 'module__num_units': 102, 'optimizer': <class 'torch.optim.sgd.SGD'>, 'optimizer__momentum': 0.9, 'optimizer__nesterov': True, 'optimizer__weight_decay': 0.001}\n",
     "output_type": "stream"
    }
   ]
  },
  {
   "cell_type": "markdown",
   "source": "### Retrain and evaluation of the best model",
   "metadata": {
    "cell_id": "ef3557f9-3e8c-4054-9303-5157be7c373e",
    "tags": [],
    "deepnote_cell_type": "markdown"
   }
  },
  {
   "cell_type": "code",
   "metadata": {
    "cell_id": "00018-60e7b0eb-43f9-42ba-bf50-66a1b0a8d060",
    "deepnote_to_be_reexecuted": false,
    "source_hash": "75aa7bdb",
    "execution_start": 1642461210859,
    "execution_millis": 1,
    "deepnote_cell_type": "code"
   },
   "source": "#TODO transform best_param_ into a dict (ast.literal_eval does not work)\nHIDDEN_LAYERS=1\nNUM_UNITS=116\nACTIVATION_FUN='sigmoid'\n\nOPTIMIZER='SGD'\nLR=0.037707577664514616\nWEIGHT_DECAY = 0.0001\n\nBATCH=61\nEPOCHS=155\nNESTEROV=False\n\nMOMENTUM=0.95\n",
   "execution_count": 58,
   "outputs": []
  },
  {
   "cell_type": "code",
   "metadata": {
    "cell_id": "55728a6e-ba19-4d50-bad1-dcec19159dde",
    "tags": [],
    "deepnote_to_be_reexecuted": false,
    "source_hash": "fe0bd595",
    "execution_start": 1642461213148,
    "execution_millis": 5,
    "deepnote_cell_type": "code"
   },
   "source": "def plot_learning_curves(train_scores, test_scores, epochs, y_label):\n    plt.figure(figsize=(10,8))\n    plt.plot(range(0,epochs), train_scores, label = \"Training error\", linestyle='dashed')\n    plt.plot(range(0,epochs), test_scores, label = \"Test error\")\n    plt.legend()\n    plt.ylabel(y_label)\n    plt.xlabel('Epoch');",
   "execution_count": 59,
   "outputs": []
  },
  {
   "cell_type": "code",
   "metadata": {
    "cell_id": "74854ec5-383f-40b2-8dfd-e2f2a751cd57",
    "tags": [],
    "deepnote_to_be_reexecuted": false,
    "source_hash": "23c51516",
    "execution_start": 1642461216333,
    "execution_millis": 6,
    "deepnote_cell_type": "code"
   },
   "source": "#redefine the model with the best params\nmodule = MyModule(NUM_UNITS, ACTIVATION_FUN, HIDDEN_LAYERS)\neval_module = MyModule(NUM_UNITS, ACTIVATION_FUN, HIDDEN_LAYERS)\n#model.to(device)\nprint(module)\n\n#criterion = nn.MSELoss()\n#optimizer = optim.SGD(model.parameters(), lr=LR, momentum=MOMENTUM, weight_decay=WEIGHT_DECAY, nesterov=NESTEROV)",
   "execution_count": 60,
   "outputs": [
    {
     "name": "stdout",
     "text": "MyModule(\n  (linear_stack): Sequential(\n    (0): Linear(in_features=10, out_features=116, bias=True)\n    (1): Sigmoid()\n    (2): Linear(in_features=116, out_features=2, bias=True)\n  )\n)\n",
     "output_type": "stream"
    }
   ]
  },
  {
   "cell_type": "code",
   "metadata": {
    "cell_id": "3b3a34e7-1258-4379-a075-b64bb377045b",
    "tags": [],
    "deepnote_to_be_reexecuted": false,
    "source_hash": "472e4ca1",
    "execution_start": 1642461218444,
    "execution_millis": 3,
    "deepnote_cell_type": "code"
   },
   "source": "#trains the model with one iteration (epoch) and computes in output a list of train and test scores using MEE\ndef fit_and_score(epochs, eval_model, X_train, y_train, X_test, y_test):\n    train_scores = []\n    test_scores = []\n    train_loss = []\n    test_loss = []\n    eval_model.initialize()\n    for i in range(epochs):\n        eval_model = eval_model.fit_loop(X_train,y_train,1) #single epoch of the model\n        y_train_predicted = eval_model.predict(X_train)\n        y_test_predicted = eval_model.predict(X_test)\n        #results on train set\n        train_scores.append(mee(y_train, y_train_predicted))\n        test_scores.append(mean_squared_error(y_test, y_test_predicted))\n        #result on test set\n        train_loss.append(mee(y_train, y_train_predicted))\n        test_loss.append(mean_squared_error(y_test, y_test_predicted))\n    return train_scores, test_scores, train_loss, test_loss\n",
   "execution_count": 61,
   "outputs": []
  },
  {
   "cell_type": "code",
   "metadata": {
    "cell_id": "8404d5b0-407f-4ad1-86cf-bfcadcc2381d",
    "tags": [],
    "deepnote_to_be_reexecuted": false,
    "source_hash": "d02c07f5",
    "execution_start": 1642461228350,
    "execution_millis": 1,
    "deepnote_cell_type": "code"
   },
   "source": "model = NeuralNetRegressor(\n    module = module,\n    criterion=nn.MSELoss,\n    max_epochs=EPOCHS,\n    lr=LR,\n    batch_size=BATCH,\n    optimizer=torch.optim.SGD,\n    optimizer__momentum=MOMENTUM,\n    callbacks=[('early_stoppping', EarlyStopping(monitor='valid_loss', patience=PATIENCE, threshold=THRESHOLD))],\n)\n\neval_model = NeuralNetRegressor(\n    module = eval_module,\n    criterion=nn.MSELoss,\n    max_epochs=BATCH,\n    lr=LR,\n    batch_size=BATCH,\n    optimizer=torch.optim.SGD,\n    optimizer__momentum=MOMENTUM,\n)",
   "execution_count": 62,
   "outputs": []
  },
  {
   "cell_type": "code",
   "metadata": {
    "cell_id": "ab6bd9a7-8c09-4a44-974b-86225a15b780",
    "tags": [],
    "deepnote_to_be_reexecuted": false,
    "source_hash": "1ceadd7",
    "execution_start": 1642461230059,
    "execution_millis": 2334,
    "deepnote_output_heights": [
     611,
     611
    ],
    "output_cleared": false,
    "deepnote_cell_type": "code"
   },
   "source": "model.fit(X, y)\ny_predicted = model.predict(X)",
   "execution_count": 63,
   "outputs": [
    {
     "name": "stdout",
     "text": "  epoch    train_loss    valid_loss     dur\n-------  ------------  ------------  ------\n      1       \u001b[36m82.9940\u001b[0m       \u001b[32m29.1065\u001b[0m  0.0313\n      2       \u001b[36m17.7395\u001b[0m        \u001b[32m6.9048\u001b[0m  0.0300\n      3        \u001b[36m4.0597\u001b[0m        \u001b[32m2.5785\u001b[0m  0.0297\n      4        \u001b[36m2.2923\u001b[0m        \u001b[32m1.5893\u001b[0m  0.0298\n      5        \u001b[36m1.6873\u001b[0m        \u001b[32m1.2984\u001b[0m  0.0333\n      6        \u001b[36m1.4219\u001b[0m        \u001b[32m1.0763\u001b[0m  0.0302\n      7        \u001b[36m1.2432\u001b[0m        \u001b[32m0.9918\u001b[0m  0.0292\n      8        \u001b[36m1.1890\u001b[0m        \u001b[32m0.9794\u001b[0m  0.0302\n      9        \u001b[36m1.1532\u001b[0m        0.9917  0.0292\n     10        \u001b[36m1.1352\u001b[0m        0.9901  0.0298\n     11        \u001b[36m1.1146\u001b[0m        \u001b[32m0.9788\u001b[0m  0.0302\n     12        \u001b[36m1.0956\u001b[0m        \u001b[32m0.9741\u001b[0m  0.0304\n     13        \u001b[36m1.0843\u001b[0m        \u001b[32m0.9721\u001b[0m  0.0290\n     14        \u001b[36m1.0752\u001b[0m        \u001b[32m0.9713\u001b[0m  0.0296\n     15        \u001b[36m1.0706\u001b[0m        \u001b[32m0.9710\u001b[0m  0.0344\n     16        \u001b[36m1.0665\u001b[0m        0.9718  0.0292\n     17        \u001b[36m1.0639\u001b[0m        0.9733  0.0288\n     18        \u001b[36m1.0615\u001b[0m        0.9758  0.0288\n     19        \u001b[36m1.0595\u001b[0m        0.9790  0.0288\n     20        \u001b[36m1.0573\u001b[0m        0.9831  0.0289\n     21        \u001b[36m1.0554\u001b[0m        0.9875  0.0291\n     22        \u001b[36m1.0536\u001b[0m        0.9923  0.0294\n     23        \u001b[36m1.0522\u001b[0m        0.9971  0.0290\n     24        \u001b[36m1.0509\u001b[0m        1.0017  0.0295\n     25        \u001b[36m1.0498\u001b[0m        1.0055  0.0291\n     26        \u001b[36m1.0488\u001b[0m        1.0082  0.0291\n     27        \u001b[36m1.0478\u001b[0m        1.0096  0.0290\n     28        \u001b[36m1.0467\u001b[0m        1.0092  0.0292\n     29        \u001b[36m1.0454\u001b[0m        1.0069  0.0304\n     30        \u001b[36m1.0438\u001b[0m        1.0024  0.0292\n     31        \u001b[36m1.0419\u001b[0m        0.9956  0.0292\n     32        \u001b[36m1.0396\u001b[0m        0.9865  0.0378\n     33        \u001b[36m1.0369\u001b[0m        0.9753  0.0399\n     34        \u001b[36m1.0339\u001b[0m        \u001b[32m0.9622\u001b[0m  0.0337\n     35        \u001b[36m1.0305\u001b[0m        \u001b[32m0.9477\u001b[0m  0.0299\n     36        \u001b[36m1.0269\u001b[0m        \u001b[32m0.9322\u001b[0m  0.0313\n     37        \u001b[36m1.0230\u001b[0m        \u001b[32m0.9164\u001b[0m  0.0358\n     38        \u001b[36m1.0190\u001b[0m        \u001b[32m0.9010\u001b[0m  0.0395\n     39        \u001b[36m1.0148\u001b[0m        \u001b[32m0.8865\u001b[0m  0.0391\n     40        \u001b[36m1.0107\u001b[0m        \u001b[32m0.8735\u001b[0m  0.0298\n     41        \u001b[36m1.0066\u001b[0m        \u001b[32m0.8625\u001b[0m  0.0294\n     42        \u001b[36m1.0026\u001b[0m        \u001b[32m0.8538\u001b[0m  0.0293\n     43        \u001b[36m0.9987\u001b[0m        \u001b[32m0.8474\u001b[0m  0.0455\n     44        \u001b[36m0.9949\u001b[0m        \u001b[32m0.8432\u001b[0m  0.0310\n     45        \u001b[36m0.9912\u001b[0m        \u001b[32m0.8411\u001b[0m  0.0306\n     46        \u001b[36m0.9875\u001b[0m        \u001b[32m0.8407\u001b[0m  0.0302\n     47        \u001b[36m0.9839\u001b[0m        0.8416  0.0297\n     48        \u001b[36m0.9802\u001b[0m        0.8434  0.0301\n     49        \u001b[36m0.9765\u001b[0m        0.8457  0.0298\n     50        \u001b[36m0.9726\u001b[0m        0.8480  0.0299\n     51        \u001b[36m0.9686\u001b[0m        0.8502  0.0301\n     52        \u001b[36m0.9646\u001b[0m        0.8520  0.0299\n     53        \u001b[36m0.9604\u001b[0m        0.8531  0.0300\n     54        \u001b[36m0.9561\u001b[0m        0.8537  0.0345\n     55        \u001b[36m0.9519\u001b[0m        0.8536  0.0312\n     56        \u001b[36m0.9476\u001b[0m        0.8530  0.0308\n     57        \u001b[36m0.9433\u001b[0m        0.8520  0.0306\n     58        \u001b[36m0.9392\u001b[0m        0.8507  0.0300\n     59        \u001b[36m0.9352\u001b[0m        0.8493  0.0357\n     60        \u001b[36m0.9314\u001b[0m        0.8478  0.0306\n     61        \u001b[36m0.9279\u001b[0m        0.8465  0.0305\n     62        \u001b[36m0.9245\u001b[0m        0.8452  0.0397\n     63        \u001b[36m0.9213\u001b[0m        0.8442  0.0327\n     64        \u001b[36m0.9184\u001b[0m        0.8433  0.0334\n     65        \u001b[36m0.9156\u001b[0m        0.8426  0.0300\n     66        \u001b[36m0.9130\u001b[0m        0.8420  0.0328\n     67        \u001b[36m0.9105\u001b[0m        0.8415  0.0313\n     68        \u001b[36m0.9081\u001b[0m        0.8412  0.0304\n     69        \u001b[36m0.9058\u001b[0m        0.8409  0.0291\nStopping since valid_loss has not improved in the last 25 epochs.\n",
     "output_type": "stream"
    }
   ]
  },
  {
   "cell_type": "code",
   "metadata": {
    "cell_id": "5561f041-ba01-4799-bdc5-cfa90e679146",
    "tags": [],
    "deepnote_to_be_reexecuted": false,
    "source_hash": "a40d1dee",
    "execution_start": 1642461245290,
    "execution_millis": 4,
    "deepnote_cell_type": "code"
   },
   "source": "print(f\"MEE: {mee(y, y_predicted)}\")",
   "execution_count": 64,
   "outputs": [
    {
     "name": "stdout",
     "text": "MEE: 1.0119809907047461\n",
     "output_type": "stream"
    }
   ]
  },
  {
   "cell_type": "code",
   "metadata": {
    "cell_id": "39200a26-cf10-4593-ac0d-00647cdc8818",
    "tags": [],
    "deepnote_to_be_reexecuted": false,
    "source_hash": "c9d9c10c",
    "execution_start": 1642461246518,
    "execution_millis": 272,
    "deepnote_cell_type": "code"
   },
   "source": "y_predicted_test = model.predict(X_test)\nprint(f\"MEE: {mee(y_test, y_predicted_test)}\")",
   "execution_count": 65,
   "outputs": [
    {
     "name": "stdout",
     "text": "MEE: 1.0796307414971493\n",
     "output_type": "stream"
    }
   ]
  },
  {
   "cell_type": "code",
   "metadata": {
    "cell_id": "dc788e0a-be18-4bc4-8307-b481833ca465",
    "tags": [],
    "deepnote_to_be_reexecuted": false,
    "source_hash": "def6710b",
    "execution_start": 1642461248820,
    "execution_millis": 4,
    "deepnote_output_heights": [
     611
    ],
    "deepnote_cell_type": "code"
   },
   "source": "#history = model.history\n#train_loss = history[:, 'train_loss']\n#test_loss = history[:, 'valid_loss']",
   "execution_count": 66,
   "outputs": []
  },
  {
   "cell_type": "code",
   "metadata": {
    "cell_id": "fa5297a5-3c1e-49d3-8432-815afda1ab9b",
    "tags": [],
    "deepnote_to_be_reexecuted": false,
    "source_hash": "23f0f833",
    "execution_start": 1642461251165,
    "execution_millis": 5366,
    "deepnote_output_heights": [
     520.25,
     611
    ],
    "deepnote_cell_type": "code"
   },
   "source": "train_scores, test_scores, train_loss, test_loss = fit_and_score(69, eval_model, X, y, X_test, y_test)",
   "execution_count": 67,
   "outputs": [
    {
     "name": "stdout",
     "text": "  epoch    train_loss    valid_loss     dur\n-------  ------------  ------------  ------\n      1       \u001b[36m84.6922\u001b[0m       \u001b[32m20.2642\u001b[0m  0.0345\n      2       \u001b[36m20.3280\u001b[0m        \u001b[32m4.1096\u001b[0m  0.0295\n      3        \u001b[36m6.1549\u001b[0m        4.3067  0.0295\n      4        \u001b[36m3.8345\u001b[0m        \u001b[32m1.5533\u001b[0m  0.0304\n      5        \u001b[36m2.2011\u001b[0m        \u001b[32m1.3784\u001b[0m  0.0333\n      6        \u001b[36m1.6429\u001b[0m        1.4460  0.0301\n      7        \u001b[36m1.4219\u001b[0m        \u001b[32m1.2050\u001b[0m  0.0298\n      8        \u001b[36m1.2449\u001b[0m        \u001b[32m1.0853\u001b[0m  0.0331\n      9        \u001b[36m1.2144\u001b[0m        \u001b[32m1.0432\u001b[0m  0.0341\n     10        \u001b[36m1.1671\u001b[0m        \u001b[32m1.0150\u001b[0m  0.0295\n     11        \u001b[36m1.1532\u001b[0m        \u001b[32m1.0017\u001b[0m  0.0299\n     12        \u001b[36m1.1513\u001b[0m        \u001b[32m0.9790\u001b[0m  0.0300\n     13        \u001b[36m1.1446\u001b[0m        \u001b[32m0.9511\u001b[0m  0.0308\n     14        \u001b[36m1.1388\u001b[0m        \u001b[32m0.9283\u001b[0m  0.0336\n     15        \u001b[36m1.1257\u001b[0m        \u001b[32m0.9140\u001b[0m  0.0297\n     16        \u001b[36m1.1060\u001b[0m        \u001b[32m0.9102\u001b[0m  0.0307\n     17        \u001b[36m1.0818\u001b[0m        \u001b[32m0.9077\u001b[0m  0.0378\n     18        \u001b[36m1.0577\u001b[0m        \u001b[32m0.9022\u001b[0m  0.0378\n     19        \u001b[36m1.0375\u001b[0m        \u001b[32m0.8970\u001b[0m  0.0295\n     20        \u001b[36m1.0223\u001b[0m        \u001b[32m0.8942\u001b[0m  0.0296\n     21        \u001b[36m1.0120\u001b[0m        \u001b[32m0.8937\u001b[0m  0.0297\n     22        \u001b[36m1.0057\u001b[0m        0.8938  0.0294\n     23        \u001b[36m1.0019\u001b[0m        0.8937  0.0298\n     24        \u001b[36m0.9993\u001b[0m        \u001b[32m0.8931\u001b[0m  0.0300\n     25        \u001b[36m0.9968\u001b[0m        \u001b[32m0.8922\u001b[0m  0.0298\n     26        \u001b[36m0.9939\u001b[0m        \u001b[32m0.8912\u001b[0m  0.0305\n     27        \u001b[36m0.9905\u001b[0m        \u001b[32m0.8905\u001b[0m  0.0301\n     28        \u001b[36m0.9867\u001b[0m        \u001b[32m0.8899\u001b[0m  0.0317\n     29        \u001b[36m0.9828\u001b[0m        \u001b[32m0.8896\u001b[0m  0.0369\n     30        \u001b[36m0.9788\u001b[0m        \u001b[32m0.8895\u001b[0m  0.0412\n     31        \u001b[36m0.9750\u001b[0m        0.8896  0.0410\n     32        \u001b[36m0.9713\u001b[0m        0.8898  0.0312\n     33        \u001b[36m0.9679\u001b[0m        0.8901  0.0318\n     34        \u001b[36m0.9646\u001b[0m        0.8904  0.0299\n     35        \u001b[36m0.9615\u001b[0m        0.8908  0.0312\n     36        \u001b[36m0.9584\u001b[0m        0.8911  0.0310\n     37        \u001b[36m0.9554\u001b[0m        0.8915  0.0309\n     38        \u001b[36m0.9524\u001b[0m        0.8920  0.0313\n     39        \u001b[36m0.9495\u001b[0m        0.8925  0.0311\n     40        \u001b[36m0.9466\u001b[0m        0.8930  0.0304\n     41        \u001b[36m0.9437\u001b[0m        0.8935  0.0304\n     42        \u001b[36m0.9409\u001b[0m        0.8940  0.0301\n     43        \u001b[36m0.9382\u001b[0m        0.8946  0.0296\n     44        \u001b[36m0.9354\u001b[0m        0.8952  0.0299\n     45        \u001b[36m0.9327\u001b[0m        0.8958  0.0303\n     46        \u001b[36m0.9300\u001b[0m        0.8964  0.0308\n     47        \u001b[36m0.9274\u001b[0m        0.8970  0.0308\n     48        \u001b[36m0.9248\u001b[0m        0.8976  0.0296\n     49        \u001b[36m0.9222\u001b[0m        0.8982  0.0296\n     50        \u001b[36m0.9196\u001b[0m        0.8988  0.0297\n     51        \u001b[36m0.9170\u001b[0m        0.8994  0.0322\n     52        \u001b[36m0.9143\u001b[0m        0.9000  0.0313\n     53        \u001b[36m0.9117\u001b[0m        0.9006  0.0297\n     54        \u001b[36m0.9091\u001b[0m        0.9012  0.0295\n     55        \u001b[36m0.9064\u001b[0m        0.9019  0.0299\n     56        \u001b[36m0.9038\u001b[0m        0.9026  0.0321\n     57        \u001b[36m0.9011\u001b[0m        0.9033  0.0423\n     58        \u001b[36m0.8984\u001b[0m        0.9041  0.0335\n     59        \u001b[36m0.8958\u001b[0m        0.9050  0.0310\n     60        \u001b[36m0.8931\u001b[0m        0.9060  0.0290\n     61        \u001b[36m0.8905\u001b[0m        0.9071  0.0291\n     62        \u001b[36m0.8878\u001b[0m        0.9083  0.0292\n     63        \u001b[36m0.8852\u001b[0m        0.9096  0.0292\n     64        \u001b[36m0.8825\u001b[0m        0.9111  0.0354\n     65        \u001b[36m0.8798\u001b[0m        0.9127  0.0303\n     66        \u001b[36m0.8770\u001b[0m        0.9145  0.0290\n     67        \u001b[36m0.8742\u001b[0m        0.9166  0.0293\n     68        \u001b[36m0.8712\u001b[0m        0.9188  0.0297\n     69        \u001b[36m0.8683\u001b[0m        0.9212  0.0298\n",
     "output_type": "stream"
    }
   ]
  },
  {
   "cell_type": "markdown",
   "source": "## Loss Curves",
   "metadata": {
    "cell_id": "64fca634-7fd9-4712-8da0-848d882b4293",
    "tags": [],
    "deepnote_cell_type": "markdown"
   }
  },
  {
   "cell_type": "code",
   "metadata": {
    "cell_id": "185a035d-85be-4bec-9dcf-21a99a0c98bf",
    "tags": [],
    "deepnote_to_be_reexecuted": false,
    "source_hash": "fcf8febb",
    "execution_start": 1642461259569,
    "execution_millis": 295,
    "deepnote_output_heights": [
     482,
     472
    ],
    "deepnote_cell_type": "code"
   },
   "source": "plot_learning_curves(train_scores, test_scores, 69, \"Loss (MSE)\")",
   "execution_count": 68,
   "outputs": [
    {
     "data": {
      "text/plain": "<Figure size 720x576 with 1 Axes>",
      "image/png": "[encoded data removed]"
     },
     "metadata": {
      "needs_background": "light",
      "image/png": {
       "width": 615,
       "height": 480
      }
     },
     "output_type": "display_data"
    }
   ]
  },
  {
   "cell_type": "markdown",
   "source": "## Learning Curves",
   "metadata": {
    "cell_id": "1dd24bc0-b2c7-409c-ae56-4311020f10a2",
    "tags": [],
    "deepnote_cell_type": "markdown"
   }
  },
  {
   "cell_type": "code",
   "metadata": {
    "cell_id": "dc368c71-a58a-4243-bda8-cba605d67e65",
    "tags": [],
    "deepnote_to_be_reexecuted": false,
    "source_hash": "570659",
    "execution_start": 1642461266593,
    "execution_millis": 379,
    "deepnote_output_heights": [
     482,
     472
    ],
    "deepnote_cell_type": "code"
   },
   "source": "plot_learning_curves(train_scores, test_scores, 69, \"Error (MEE)\")",
   "execution_count": 69,
   "outputs": [
    {
     "data": {
      "text/plain": "<Figure size 720x576 with 1 Axes>",
      "image/png": "[encoded data removed]"
     },
     "metadata": {
      "needs_background": "light",
      "image/png": {
       "width": 615,
       "height": 480
      }
     },
     "output_type": "display_data"
    }
   ]
  },
  {
   "cell_type": "code",
   "metadata": {
    "cell_id": "7607ddb8-8fae-4653-b75c-ea25c1e6bbdc",
    "tags": [],
    "deepnote_to_be_reexecuted": false,
    "source_hash": "b623e53d",
    "execution_start": 1642461045543,
    "execution_millis": 1,
    "deepnote_cell_type": "code"
   },
   "source": "",
   "execution_count": 30,
   "outputs": []
  },
  {
   "cell_type": "code",
   "metadata": {
    "cell_id": "c7183c49-035c-499a-830e-9787ce94dd3e",
    "tags": [],
    "deepnote_to_be_reexecuted": false,
    "source_hash": "b623e53d",
    "execution_start": 1642461045544,
    "execution_millis": 80659824,
    "deepnote_cell_type": "code"
   },
   "source": "",
   "execution_count": 30,
   "outputs": []
  },
  {
   "cell_type": "code",
   "metadata": {
    "cell_id": "327a4c6c-9f32-4799-af78-026a65ad6b7b",
    "tags": [],
    "deepnote_to_be_reexecuted": false,
    "source_hash": "b623e53d",
    "execution_start": 1642461045545,
    "execution_millis": 80659823,
    "deepnote_cell_type": "code"
   },
   "source": "",
   "execution_count": 30,
   "outputs": []
  },
  {
   "cell_type": "code",
   "metadata": {
    "cell_id": "b365b2b4-b0ac-4719-8ccc-8aaa6c57c90c",
    "tags": [],
    "deepnote_to_be_reexecuted": false,
    "source_hash": "b623e53d",
    "execution_start": 1642461045547,
    "execution_millis": 80659821,
    "deepnote_cell_type": "code"
   },
   "source": "",
   "execution_count": 30,
   "outputs": []
  },
  {
   "cell_type": "code",
   "metadata": {
    "cell_id": "00024-5481d9c4-dd5f-47fb-81df-ebeaefe5e38b",
    "deepnote_to_be_reexecuted": false,
    "source_hash": "e82bc267",
    "execution_start": 1642461045554,
    "execution_millis": 80659780,
    "deepnote_cell_type": "code"
   },
   "source": "class CupDataset(Dataset):\n    \n    def __init__(self, X_data, y_data):\n        self.X_data = X_data\n        self.y_data = y_data\n        \n    def __getitem__(self, index):\n        return self.X_data[index], self.y_data[index]\n        \n    def __len__ (self):\n        return len(self.X_data)\n    \ntrain_dataset = CupDataset(torch.from_numpy(X_train).float(), torch.from_numpy(y_train).float())\nval_dataset = CupDataset(torch.from_numpy(X_val).float(), torch.from_numpy(y_val).float())\ntest_dataset = CupDataset(torch.from_numpy(X_test).float(), torch.from_numpy(y_test).float())",
   "execution_count": 31,
   "outputs": []
  },
  {
   "cell_type": "code",
   "metadata": {
    "cell_id": "00025-5c48b0e2-a6b8-48b3-ab20-4af7f77fef0c",
    "deepnote_to_be_reexecuted": false,
    "source_hash": "1cc207a6",
    "execution_start": 1642461045555,
    "execution_millis": 80659761,
    "deepnote_cell_type": "code"
   },
   "source": "train_loader = DataLoader(dataset=train_dataset, batch_size=BATCH, shuffle=True)\nval_loader = DataLoader(dataset=val_dataset, batch_size=1)\ntest_loader = DataLoader(dataset=test_dataset, batch_size=1)",
   "execution_count": 32,
   "outputs": []
  },
  {
   "cell_type": "code",
   "metadata": {
    "cell_id": "00028-19d46bdf-0306-4b07-8e42-1304ae01997d",
    "deepnote_to_be_reexecuted": false,
    "source_hash": "23829d44",
    "execution_start": 1642461045557,
    "execution_millis": 4,
    "deepnote_cell_type": "code"
   },
   "source": "#redefine the model with the best params\nmodel = MyModule(NUM_UNITS, ACTIVATION_FUN, HIDDEN_LAYERS)\nmodel.to(device)\nprint(model)\n\ncriterion = nn.MSELoss()\noptimizer = optim.SGD(model.parameters(), lr=LR, momentum=MOMENTUM, weight_decay=WEIGHT_DECAY, nesterov=NESTEROV)",
   "execution_count": 33,
   "outputs": [
    {
     "name": "stdout",
     "text": "MyModule(\n  (linear_stack): Sequential(\n    (0): Linear(in_features=10, out_features=116, bias=True)\n    (1): Sigmoid()\n    (2): Linear(in_features=116, out_features=2, bias=True)\n  )\n)\n",
     "output_type": "stream"
    }
   ]
  },
  {
   "cell_type": "code",
   "metadata": {
    "cell_id": "00029-c8feaac3-36d6-4a41-bf16-3592874124a6",
    "deepnote_to_be_reexecuted": false,
    "source_hash": "d673334b",
    "execution_start": 1642461045562,
    "execution_millis": 5,
    "deepnote_cell_type": "code"
   },
   "source": "loss_stats = {\n    'train': [],\n    \"val\": []\n}",
   "execution_count": 34,
   "outputs": []
  },
  {
   "cell_type": "code",
   "metadata": {
    "cell_id": "00030-08431223-2e0f-44a1-af6b-b0da9325c1de",
    "deepnote_to_be_reexecuted": false,
    "source_hash": "44dfdda9",
    "execution_start": 1642461045575,
    "execution_millis": 2,
    "deepnote_cell_type": "code"
   },
   "source": "#function to define the train phase\ndef TrainPhase_Cup(epochs, model, aggregated_losses, aggregated_accuracy, data_train, loss, optimizer):\n    model.train()\n    i = epochs\n\n    epoch_loss = 0\n    epoch_acc = 0\n    \n    for X_batch, y_batch in data_train:\n        X_batch, y_batch = X_batch.to(device), y_batch.to(device)\n        optimizer.zero_grad()\n       \n        y_pred = model(X_batch)\n        #y_pred1 = model(X_batch)\n        \n        single_loss = loss(y_pred, y_batch)\n        #single_loss1 = loss1(y_pred1, y_batch1)\n        #single_loss2 = loss2(y_pred2, y_batch2)\n        #single_loss = torch.add(single_loss1, single_loss2)\n\n        #acc = binary_acc(y_pred, y_batch)\n             \n        single_loss.backward()\n        optimizer.step()\n        \n        epoch_loss += single_loss.item()\n        #epoch_acc += acc.item()\n        \n    aggregated_losses.append(epoch_loss/len(data_train))\n    #aggregated_accuracy.append((epoch_acc/len(data_train))/100)\n    print(f'TRAIN - Epoch {i+0:03}: | Loss: {epoch_loss/len(data_train):.5f}')\n\n    #aggregated_losses.append(single_loss.item())\n    #aggregated_accuracy.append(acc/100)\n    #print(f'TRAIN - Epoch {i+0:03}: | Loss: {single_loss.item():.5f} | Acc: {acc:.3f}')\n    \n    return model, aggregated_losses",
   "execution_count": 35,
   "outputs": []
  },
  {
   "cell_type": "code",
   "metadata": {
    "cell_id": "00031-00aae3d7-f126-4bdc-b4b8-b8ca5a515da9",
    "deepnote_to_be_reexecuted": false,
    "source_hash": "f6fcde69",
    "execution_start": 1642461045630,
    "execution_millis": 0,
    "deepnote_cell_type": "code"
   },
   "source": "#function to define the evaluate phase\ndef Evaluate_Cup(epochs, model, aggregated_losses, aggregated_accuracy, data_test, loss_f):\n    \n    i = epochs\n    y_pred_list = []\n    model.eval()\n        \n    epoch_loss = 0\n    epoch_acc = 0\n\n    with torch.no_grad():\n        for X_batch, y_batch in data_test:\n            X_batch, y_batch = X_batch.to(device), y_batch.to(device)\n\n            y_test_pred = model(X_batch)\n            #y_pred1, y_pred2 = model(X_batch)\n\n            loss = loss_f(y_test_pred, y_batch)\n            #loss1 = loss_f1(y_pred1, y_batch1)\n            #loss2 = loss_f2(y_pred2, y_batch2)\n            #loss = torch.add(loss1, loss2)\n            \n            #acc = binary_acc(y_test_pred, y_batch)\n\n            epoch_loss += loss.item()\n            #epoch_loss += loss.item()*X_batch.size(0)\n            #epoch_acc += acc.item()\n\n            y_pred_tag = torch.round(y_test_pred)\n            y_pred_list.append(y_pred_tag.cpu().numpy())\n    \n\n    #y_pred_list = [a.squeeze().tolist() for a in y_pred_list]\n\n    aggregated_losses.append(epoch_loss/len(data_test))\n    #aggregated_accuracy.append((epoch_acc/len(data_test))/100)\n    #print(f'TEST - Epoch {i+0:03}: | Loss: {epoch_loss/len(data_test):.5f} | Acc: {epoch_acc/len(data_test):.3f}')\n    print(f'VALIDATION - Epoch {i+0:03}: | Loss: {epoch_loss/len(data_test):.5f}')\n    \n    return aggregated_losses\n    ",
   "execution_count": 36,
   "outputs": []
  },
  {
   "cell_type": "code",
   "metadata": {
    "cell_id": "00032-89fcde0b-d80d-4b7a-aba1-7171c504f9ca",
    "deepnote_to_be_reexecuted": false,
    "source_hash": "a1f8240b",
    "execution_start": 1642461045631,
    "execution_millis": 0,
    "deepnote_cell_type": "code"
   },
   "source": "#function to define the evaluate phase\ndef Result_Cup(model, X_batch):\n    \n    y_pred_list = []\n    model.eval()\n\n    with torch.no_grad():\n        #for X_batch, _ in data_test:\n        X_batch = X_batch.to(device)\n\n        y_test_pred = model(X_batch)\n        y_pred_tag = torch.round(y_test_pred)\n        y_pred_list.append(y_pred_tag.cpu().numpy()) \n\n    #y_pred_list = [a.squeeze().tolist() for a in y_pred_list]    \n    return y_pred_list\n    ",
   "execution_count": 37,
   "outputs": []
  },
  {
   "cell_type": "code",
   "metadata": {
    "cell_id": "00033-c3ea3100-5c88-412d-90ef-8270bfd27531",
    "deepnote_to_be_reexecuted": false,
    "source_hash": "fc7c11b7",
    "execution_start": 1642461045632,
    "execution_millis": 11506,
    "deepnote_cell_type": "code"
   },
   "source": "#prepare empty lists to store accuracy and loss results\nlosses_train = []\naccuracies_train = []\nlosses_test = []\naccuracies_test = []\n\n#train and evaluate for each epoch\nfor epoch in range(1,EPOCHS+1): \n  model, losses_train = TrainPhase_Cup(epoch, model, losses_train, accuracies_train, train_loader, criterion, optimizer)\n  #y_pred_test, losses_test, accuracies_test = Evaluate(epoch, model, losses_test, accuracies_test, test_loader, loss_function)\n  losses_test = Evaluate_Cup(epoch, model, losses_test, accuracies_test, val_loader, mee)\n  \n  print(\"##############################\")",
   "execution_count": 38,
   "outputs": [
    {
     "name": "stdout",
     "text": "TRAIN - Epoch 001: | Loss: 75.39355\nVALIDATION - Epoch 001: | Loss: 3.99515\n##############################\nTRAIN - Epoch 002: | Loss: 14.23014\nVALIDATION - Epoch 002: | Loss: 3.93297\n##############################\nTRAIN - Epoch 003: | Loss: 7.04968\nVALIDATION - Epoch 003: | Loss: 2.90387\n##############################\nTRAIN - Epoch 004: | Loss: 3.09391\nVALIDATION - Epoch 004: | Loss: 2.08815\n##############################\nTRAIN - Epoch 005: | Loss: 2.19823\nVALIDATION - Epoch 005: | Loss: 1.54854\n##############################\nTRAIN - Epoch 006: | Loss: 1.66930\nVALIDATION - Epoch 006: | Loss: 1.37279\n##############################\nTRAIN - Epoch 007: | Loss: 1.34824\nVALIDATION - Epoch 007: | Loss: 1.27762\n##############################\nTRAIN - Epoch 008: | Loss: 1.38243\nVALIDATION - Epoch 008: | Loss: 1.33110\n##############################\nTRAIN - Epoch 009: | Loss: 1.24222\nVALIDATION - Epoch 009: | Loss: 1.21770\n##############################\nTRAIN - Epoch 010: | Loss: 1.12690\nVALIDATION - Epoch 010: | Loss: 1.19788\n##############################\nTRAIN - Epoch 011: | Loss: 1.15363\nVALIDATION - Epoch 011: | Loss: 1.18643\n##############################\nTRAIN - Epoch 012: | Loss: 1.16349\nVALIDATION - Epoch 012: | Loss: 1.18422\n##############################\nTRAIN - Epoch 013: | Loss: 1.11233\nVALIDATION - Epoch 013: | Loss: 1.24438\n##############################\nTRAIN - Epoch 014: | Loss: 1.19306\nVALIDATION - Epoch 014: | Loss: 1.18825\n##############################\nTRAIN - Epoch 015: | Loss: 1.06279\nVALIDATION - Epoch 015: | Loss: 1.13774\n##############################\nTRAIN - Epoch 016: | Loss: 1.06190\nVALIDATION - Epoch 016: | Loss: 1.14981\n##############################\nTRAIN - Epoch 017: | Loss: 1.05149\nVALIDATION - Epoch 017: | Loss: 1.14768\n##############################\nTRAIN - Epoch 018: | Loss: 1.07130\nVALIDATION - Epoch 018: | Loss: 1.18822\n##############################\nTRAIN - Epoch 019: | Loss: 1.05265\nVALIDATION - Epoch 019: | Loss: 1.13483\n##############################\nTRAIN - Epoch 020: | Loss: 1.04833\nVALIDATION - Epoch 020: | Loss: 1.18652\n##############################\nTRAIN - Epoch 021: | Loss: 1.03500\nVALIDATION - Epoch 021: | Loss: 1.13714\n##############################\nTRAIN - Epoch 022: | Loss: 1.02576\nVALIDATION - Epoch 022: | Loss: 1.19864\n##############################\nTRAIN - Epoch 023: | Loss: 0.98071\nVALIDATION - Epoch 023: | Loss: 1.12597\n##############################\nTRAIN - Epoch 024: | Loss: 0.98891\nVALIDATION - Epoch 024: | Loss: 1.11235\n##############################\nTRAIN - Epoch 025: | Loss: 0.97178\nVALIDATION - Epoch 025: | Loss: 1.10949\n##############################\nTRAIN - Epoch 026: | Loss: 0.98015\nVALIDATION - Epoch 026: | Loss: 1.11109\n##############################\nTRAIN - Epoch 027: | Loss: 0.95529\nVALIDATION - Epoch 027: | Loss: 1.10246\n##############################\nTRAIN - Epoch 028: | Loss: 0.94599\nVALIDATION - Epoch 028: | Loss: 1.10771\n##############################\nTRAIN - Epoch 029: | Loss: 0.94376\nVALIDATION - Epoch 029: | Loss: 1.10848\n##############################\nTRAIN - Epoch 030: | Loss: 1.01834\nVALIDATION - Epoch 030: | Loss: 1.09925\n##############################\nTRAIN - Epoch 031: | Loss: 0.94648\nVALIDATION - Epoch 031: | Loss: 1.15449\n##############################\nTRAIN - Epoch 032: | Loss: 1.03927\nVALIDATION - Epoch 032: | Loss: 1.18745\n##############################\nTRAIN - Epoch 033: | Loss: 1.00451\nVALIDATION - Epoch 033: | Loss: 1.08611\n##############################\nTRAIN - Epoch 034: | Loss: 0.95422\nVALIDATION - Epoch 034: | Loss: 1.09389\n##############################\nTRAIN - Epoch 035: | Loss: 0.95306\nVALIDATION - Epoch 035: | Loss: 1.13737\n##############################\nTRAIN - Epoch 036: | Loss: 0.92588\nVALIDATION - Epoch 036: | Loss: 1.12300\n##############################\nTRAIN - Epoch 037: | Loss: 0.98221\nVALIDATION - Epoch 037: | Loss: 1.10766\n##############################\nTRAIN - Epoch 038: | Loss: 0.95782\nVALIDATION - Epoch 038: | Loss: 1.10174\n##############################\nTRAIN - Epoch 039: | Loss: 0.94426\nVALIDATION - Epoch 039: | Loss: 1.08872\n##############################\nTRAIN - Epoch 040: | Loss: 0.91309\nVALIDATION - Epoch 040: | Loss: 1.08882\n##############################\nTRAIN - Epoch 041: | Loss: 0.91813\nVALIDATION - Epoch 041: | Loss: 1.08599\n##############################\nTRAIN - Epoch 042: | Loss: 0.91580\nVALIDATION - Epoch 042: | Loss: 1.10676\n##############################\nTRAIN - Epoch 043: | Loss: 0.93546\nVALIDATION - Epoch 043: | Loss: 1.08606\n##############################\nTRAIN - Epoch 044: | Loss: 0.91089\nVALIDATION - Epoch 044: | Loss: 1.12615\n##############################\nTRAIN - Epoch 045: | Loss: 0.94723\nVALIDATION - Epoch 045: | Loss: 1.09980\n##############################\nTRAIN - Epoch 046: | Loss: 0.88625\nVALIDATION - Epoch 046: | Loss: 1.11918\n##############################\nTRAIN - Epoch 047: | Loss: 0.90481\nVALIDATION - Epoch 047: | Loss: 1.13222\n##############################\nTRAIN - Epoch 048: | Loss: 0.88993\nVALIDATION - Epoch 048: | Loss: 1.09493\n##############################\nTRAIN - Epoch 049: | Loss: 0.89126\nVALIDATION - Epoch 049: | Loss: 1.08852\n##############################\nTRAIN - Epoch 050: | Loss: 0.88672\nVALIDATION - Epoch 050: | Loss: 1.09926\n##############################\nTRAIN - Epoch 051: | Loss: 0.90802\nVALIDATION - Epoch 051: | Loss: 1.10932\n##############################\nTRAIN - Epoch 052: | Loss: 0.89409\nVALIDATION - Epoch 052: | Loss: 1.10458\n##############################\nTRAIN - Epoch 053: | Loss: 0.89378\nVALIDATION - Epoch 053: | Loss: 1.11760\n##############################\nTRAIN - Epoch 054: | Loss: 0.95772\nVALIDATION - Epoch 054: | Loss: 1.18232\n##############################\nTRAIN - Epoch 055: | Loss: 0.91124\nVALIDATION - Epoch 055: | Loss: 1.12008\n##############################\nTRAIN - Epoch 056: | Loss: 0.92266\nVALIDATION - Epoch 056: | Loss: 1.14451\n##############################\nTRAIN - Epoch 057: | Loss: 0.90868\nVALIDATION - Epoch 057: | Loss: 1.14813\n##############################\nTRAIN - Epoch 058: | Loss: 0.89829\nVALIDATION - Epoch 058: | Loss: 1.13499\n##############################\nTRAIN - Epoch 059: | Loss: 0.91723\nVALIDATION - Epoch 059: | Loss: 1.10921\n##############################\nTRAIN - Epoch 060: | Loss: 0.85898\nVALIDATION - Epoch 060: | Loss: 1.11987\n##############################\nTRAIN - Epoch 061: | Loss: 0.85456\nVALIDATION - Epoch 061: | Loss: 1.10061\n##############################\nTRAIN - Epoch 062: | Loss: 0.87427\nVALIDATION - Epoch 062: | Loss: 1.13710\n##############################\nTRAIN - Epoch 063: | Loss: 0.94691\nVALIDATION - Epoch 063: | Loss: 1.20253\n##############################\nTRAIN - Epoch 064: | Loss: 0.97450\nVALIDATION - Epoch 064: | Loss: 1.13804\n##############################\nTRAIN - Epoch 065: | Loss: 0.91337\nVALIDATION - Epoch 065: | Loss: 1.15673\n##############################\nTRAIN - Epoch 066: | Loss: 0.88372\nVALIDATION - Epoch 066: | Loss: 1.09705\n##############################\nTRAIN - Epoch 067: | Loss: 0.94469\nVALIDATION - Epoch 067: | Loss: 1.10386\n##############################\nTRAIN - Epoch 068: | Loss: 0.87823\nVALIDATION - Epoch 068: | Loss: 1.18861\n##############################\nTRAIN - Epoch 069: | Loss: 0.88003\nVALIDATION - Epoch 069: | Loss: 1.10395\n##############################\nTRAIN - Epoch 070: | Loss: 0.85401\nVALIDATION - Epoch 070: | Loss: 1.08300\n##############################\nTRAIN - Epoch 071: | Loss: 0.83589\nVALIDATION - Epoch 071: | Loss: 1.10689\n##############################\nTRAIN - Epoch 072: | Loss: 0.86363\nVALIDATION - Epoch 072: | Loss: 1.10551\n##############################\nTRAIN - Epoch 073: | Loss: 0.86785\nVALIDATION - Epoch 073: | Loss: 1.08542\n##############################\nTRAIN - Epoch 074: | Loss: 0.96587\nVALIDATION - Epoch 074: | Loss: 1.20796\n##############################\nTRAIN - Epoch 075: | Loss: 0.90563\nVALIDATION - Epoch 075: | Loss: 1.11224\n##############################\nTRAIN - Epoch 076: | Loss: 0.89348\nVALIDATION - Epoch 076: | Loss: 1.11283\n##############################\nTRAIN - Epoch 077: | Loss: 0.84528\nVALIDATION - Epoch 077: | Loss: 1.12593\n##############################\nTRAIN - Epoch 078: | Loss: 0.84193\nVALIDATION - Epoch 078: | Loss: 1.11075\n##############################\nTRAIN - Epoch 079: | Loss: 0.85437\nVALIDATION - Epoch 079: | Loss: 1.08235\n##############################\nTRAIN - Epoch 080: | Loss: 0.82731\nVALIDATION - Epoch 080: | Loss: 1.13038\n##############################\nTRAIN - Epoch 081: | Loss: 0.85787\nVALIDATION - Epoch 081: | Loss: 1.13635\n##############################\nTRAIN - Epoch 082: | Loss: 0.88787\nVALIDATION - Epoch 082: | Loss: 1.12175\n##############################\nTRAIN - Epoch 083: | Loss: 0.86097\nVALIDATION - Epoch 083: | Loss: 1.12055\n##############################\nTRAIN - Epoch 084: | Loss: 0.86074\nVALIDATION - Epoch 084: | Loss: 1.21618\n##############################\nTRAIN - Epoch 085: | Loss: 0.84734\nVALIDATION - Epoch 085: | Loss: 1.07079\n##############################\nTRAIN - Epoch 086: | Loss: 0.81407\nVALIDATION - Epoch 086: | Loss: 1.10679\n##############################\nTRAIN - Epoch 087: | Loss: 0.85326\nVALIDATION - Epoch 087: | Loss: 1.07588\n##############################\nTRAIN - Epoch 088: | Loss: 0.77567\nVALIDATION - Epoch 088: | Loss: 1.08342\n##############################\nTRAIN - Epoch 089: | Loss: 0.81440\nVALIDATION - Epoch 089: | Loss: 1.14271\n##############################\nTRAIN - Epoch 090: | Loss: 0.88231\nVALIDATION - Epoch 090: | Loss: 1.13911\n##############################\nTRAIN - Epoch 091: | Loss: 0.82371\nVALIDATION - Epoch 091: | Loss: 1.09979\n##############################\nTRAIN - Epoch 092: | Loss: 0.86039\nVALIDATION - Epoch 092: | Loss: 1.08695\n##############################\nTRAIN - Epoch 093: | Loss: 0.84443\nVALIDATION - Epoch 093: | Loss: 1.15130\n##############################\nTRAIN - Epoch 094: | Loss: 0.87000\nVALIDATION - Epoch 094: | Loss: 1.11459\n##############################\nTRAIN - Epoch 095: | Loss: 0.82861\nVALIDATION - Epoch 095: | Loss: 1.11499\n##############################\nTRAIN - Epoch 096: | Loss: 0.84246\nVALIDATION - Epoch 096: | Loss: 1.10544\n##############################\nTRAIN - Epoch 097: | Loss: 0.78180\nVALIDATION - Epoch 097: | Loss: 1.14678\n##############################\nTRAIN - Epoch 098: | Loss: 0.83515\nVALIDATION - Epoch 098: | Loss: 1.11152\n##############################\nTRAIN - Epoch 099: | Loss: 0.80397\nVALIDATION - Epoch 099: | Loss: 1.10101\n##############################\nTRAIN - Epoch 100: | Loss: 0.78237\nVALIDATION - Epoch 100: | Loss: 1.11310\n##############################\nTRAIN - Epoch 101: | Loss: 0.80448\nVALIDATION - Epoch 101: | Loss: 1.10422\n##############################\nTRAIN - Epoch 102: | Loss: 0.83486\nVALIDATION - Epoch 102: | Loss: 1.08871\n##############################\nTRAIN - Epoch 103: | Loss: 0.83363\nVALIDATION - Epoch 103: | Loss: 1.22567\n##############################\nTRAIN - Epoch 104: | Loss: 0.89920\nVALIDATION - Epoch 104: | Loss: 1.14874\n##############################\nTRAIN - Epoch 105: | Loss: 0.82551\nVALIDATION - Epoch 105: | Loss: 1.10226\n##############################\nTRAIN - Epoch 106: | Loss: 0.78945\nVALIDATION - Epoch 106: | Loss: 1.08733\n##############################\nTRAIN - Epoch 107: | Loss: 0.77371\nVALIDATION - Epoch 107: | Loss: 1.10209\n##############################\nTRAIN - Epoch 108: | Loss: 0.78167\nVALIDATION - Epoch 108: | Loss: 1.09112\n##############################\nTRAIN - Epoch 109: | Loss: 0.78011\nVALIDATION - Epoch 109: | Loss: 1.13762\n##############################\nTRAIN - Epoch 110: | Loss: 0.80829\nVALIDATION - Epoch 110: | Loss: 1.08963\n##############################\nTRAIN - Epoch 111: | Loss: 0.84580\nVALIDATION - Epoch 111: | Loss: 1.10488\n##############################\nTRAIN - Epoch 112: | Loss: 0.79930\nVALIDATION - Epoch 112: | Loss: 1.09904\n##############################\nTRAIN - Epoch 113: | Loss: 0.79007\nVALIDATION - Epoch 113: | Loss: 1.16999\n##############################\nTRAIN - Epoch 114: | Loss: 0.81556\nVALIDATION - Epoch 114: | Loss: 1.09311\n##############################\nTRAIN - Epoch 115: | Loss: 0.75651\nVALIDATION - Epoch 115: | Loss: 1.09313\n##############################\nTRAIN - Epoch 116: | Loss: 0.76458\nVALIDATION - Epoch 116: | Loss: 1.09229\n##############################\nTRAIN - Epoch 117: | Loss: 0.76450\nVALIDATION - Epoch 117: | Loss: 1.10546\n##############################\nTRAIN - Epoch 118: | Loss: 0.83695\nVALIDATION - Epoch 118: | Loss: 1.16319\n##############################\nTRAIN - Epoch 119: | Loss: 0.81550\nVALIDATION - Epoch 119: | Loss: 1.09197\n##############################\nTRAIN - Epoch 120: | Loss: 0.76417\nVALIDATION - Epoch 120: | Loss: 1.13279\n##############################\nTRAIN - Epoch 121: | Loss: 0.82362\nVALIDATION - Epoch 121: | Loss: 1.10887\n##############################\nTRAIN - Epoch 122: | Loss: 0.80386\nVALIDATION - Epoch 122: | Loss: 1.15607\n##############################\nTRAIN - Epoch 123: | Loss: 0.77927\nVALIDATION - Epoch 123: | Loss: 1.17574\n##############################\nTRAIN - Epoch 124: | Loss: 0.84833\nVALIDATION - Epoch 124: | Loss: 1.15882\n##############################\nTRAIN - Epoch 125: | Loss: 0.76847\nVALIDATION - Epoch 125: | Loss: 1.09317\n##############################\nTRAIN - Epoch 126: | Loss: 0.80216\nVALIDATION - Epoch 126: | Loss: 1.09087\n##############################\nTRAIN - Epoch 127: | Loss: 0.80098\nVALIDATION - Epoch 127: | Loss: 1.14186\n##############################\nTRAIN - Epoch 128: | Loss: 0.78831\nVALIDATION - Epoch 128: | Loss: 1.11412\n##############################\nTRAIN - Epoch 129: | Loss: 0.76504\nVALIDATION - Epoch 129: | Loss: 1.13359\n##############################\nTRAIN - Epoch 130: | Loss: 0.75887\nVALIDATION - Epoch 130: | Loss: 1.12691\n##############################\nTRAIN - Epoch 131: | Loss: 0.75757\nVALIDATION - Epoch 131: | Loss: 1.11750\n##############################\nTRAIN - Epoch 132: | Loss: 0.75014\nVALIDATION - Epoch 132: | Loss: 1.09560\n##############################\nTRAIN - Epoch 133: | Loss: 0.74552\nVALIDATION - Epoch 133: | Loss: 1.11188\n##############################\nTRAIN - Epoch 134: | Loss: 0.73438\nVALIDATION - Epoch 134: | Loss: 1.12358\n##############################\nTRAIN - Epoch 135: | Loss: 0.80648\nVALIDATION - Epoch 135: | Loss: 1.32298\n##############################\nTRAIN - Epoch 136: | Loss: 0.82282\nVALIDATION - Epoch 136: | Loss: 1.09505\n##############################\nTRAIN - Epoch 137: | Loss: 0.75075\nVALIDATION - Epoch 137: | Loss: 1.16264\n##############################\nTRAIN - Epoch 138: | Loss: 0.83558\nVALIDATION - Epoch 138: | Loss: 1.12637\n##############################\nTRAIN - Epoch 139: | Loss: 0.78775\nVALIDATION - Epoch 139: | Loss: 1.11579\n##############################\nTRAIN - Epoch 140: | Loss: 0.75373\nVALIDATION - Epoch 140: | Loss: 1.10311\n##############################\nTRAIN - Epoch 141: | Loss: 0.74496\nVALIDATION - Epoch 141: | Loss: 1.11847\n##############################\nTRAIN - Epoch 142: | Loss: 0.76274\nVALIDATION - Epoch 142: | Loss: 1.15288\n##############################\nTRAIN - Epoch 143: | Loss: 0.77366\nVALIDATION - Epoch 143: | Loss: 1.13291\n##############################\nTRAIN - Epoch 144: | Loss: 0.77445\nVALIDATION - Epoch 144: | Loss: 1.11276\n##############################\nTRAIN - Epoch 145: | Loss: 0.75458\nVALIDATION - Epoch 145: | Loss: 1.11062\n##############################\nTRAIN - Epoch 146: | Loss: 0.78768\nVALIDATION - Epoch 146: | Loss: 1.12333\n##############################\nTRAIN - Epoch 147: | Loss: 0.74375\nVALIDATION - Epoch 147: | Loss: 1.12205\n##############################\nTRAIN - Epoch 148: | Loss: 0.75351\nVALIDATION - Epoch 148: | Loss: 1.13791\n##############################\nTRAIN - Epoch 149: | Loss: 0.76325\nVALIDATION - Epoch 149: | Loss: 1.09947\n##############################\nTRAIN - Epoch 150: | Loss: 0.79654\nVALIDATION - Epoch 150: | Loss: 1.09552\n##############################\nTRAIN - Epoch 151: | Loss: 0.75133\nVALIDATION - Epoch 151: | Loss: 1.12861\n##############################\nTRAIN - Epoch 152: | Loss: 0.72138\nVALIDATION - Epoch 152: | Loss: 1.09791\n##############################\nTRAIN - Epoch 153: | Loss: 0.73551\nVALIDATION - Epoch 153: | Loss: 1.09671\n##############################\nTRAIN - Epoch 154: | Loss: 0.74025\nVALIDATION - Epoch 154: | Loss: 1.13375\n##############################\nTRAIN - Epoch 155: | Loss: 0.73396\nVALIDATION - Epoch 155: | Loss: 1.14077\n##############################\n",
     "output_type": "stream"
    }
   ]
  },
  {
   "cell_type": "code",
   "metadata": {
    "cell_id": "00034-0e0bffb4-cee1-4ae8-af4e-8067246393ef",
    "deepnote_output_heights": [
     606
    ],
    "deepnote_to_be_reexecuted": false,
    "source_hash": "9593c91",
    "execution_start": 1642461057150,
    "execution_millis": 456,
    "deepnote_cell_type": "code"
   },
   "source": "#create a loss plot\nplt.figure(figsize=(15,10))\nplt.plot(losses_train,'-')\n\nplt.plot(losses_test,'-.')\nplt.xlabel('Epochs')\nplt.ylabel('Loss')\nplt.legend(['Train','Test'])\nplt.title('Train vs Test Losses')\n \nplt.show()",
   "execution_count": 39,
   "outputs": [
    {
     "data": {
      "text/plain": "<Figure size 1080x720 with 1 Axes>",
      "image/png": "[encoded data removed]"
     },
     "metadata": {
      "needs_background": "light",
      "image/png": {
       "width": 886,
       "height": 604
      }
     },
     "output_type": "display_data"
    }
   ]
  },
  {
   "cell_type": "markdown",
   "source": "<a style='text-decoration:none;line-height:16px;display:flex;color:#5B5B62;padding:10px;justify-content:end;' href='https://deepnote.com?utm_source=created-in-deepnote-cell&projectId=d9d840c9-75b3-4185-bb01-105f5cca8d83' target=\"_blank\">\n<img alt='Created in deepnote.com' style='display:inline;max-height:16px;margin:0px;margin-right:7.5px;' src='data:image/svg+xml;base64,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' > </img>\nCreated in <span style='font-weight:600;margin-left:4px;'>Deepnote</span></a>",
   "metadata": {
    "tags": [],
    "created_in_deepnote_cell": true,
    "deepnote_cell_type": "markdown"
   }
  }
 ],
 "nbformat": 4,
 "nbformat_minor": 2,
 "metadata": {
  "deepnote": {
   "is_reactive": false
  },
  "deepnote_execution_queue": [],
  "deepnote_notebook_id": "10b26e99-167c-44c5-82d9-a804fbe3ae77",
  "kernelspec": {
   "display_name": "Python 3",
   "language": "python",
   "name": "python3"
  },
  "language_info": {
   "codemirror_mode": {
    "name": "ipython",
    "version": 3
   },
   "file_extension": ".py",
   "mimetype": "text/x-python",
   "name": "python",
   "nbconvert_exporter": "python",
   "pygments_lexer": "ipython3",
   "version": "3.9.7"
  }
 }
}