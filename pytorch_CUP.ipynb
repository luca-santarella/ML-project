{
 "cells": [
  {
   "cell_type": "markdown",
   "source": "## PyTorch MLP model",
   "metadata": {
    "cell_id": "481660c9-aa3e-43cd-b6d9-9c8530e3971e",
    "tags": [],
    "deepnote_cell_type": "markdown"
   }
  },
  {
   "cell_type": "markdown",
   "source": "### Importing libraries",
   "metadata": {
    "cell_id": "f112892d-46c1-49f1-aefc-677f76ec0a8d",
    "tags": [],
    "deepnote_cell_type": "markdown"
   }
  },
  {
   "cell_type": "code",
   "metadata": {
    "cell_id": "03113463-b757-457e-8da3-ee58794b33ee",
    "deepnote_output_heights": [
     193.9375
    ],
    "deepnote_to_be_reexecuted": false,
    "execution_millis": 2468,
    "execution_start": 1642785105899,
    "source_hash": "afb3ed1e",
    "deepnote_cell_type": "code"
   },
   "source": "import numpy as np\nimport pandas as pd\nimport matplotlib.pyplot as plt\nimport torch\nimport torch.nn as nn\nimport torch.optim as optim\nimport ast\nfrom dataclasses import dataclass\nfrom sklearn.model_selection import train_test_split\nfrom skorch import NeuralNetRegressor\nfrom skorch.callbacks import EarlyStopping\nfrom scipy.stats import uniform\nfrom scipy.stats import randint\nfrom sklearn.model_selection import RandomizedSearchCV\nfrom sklearn.metrics import make_scorer\nfrom sklearn.metrics import mean_squared_error",
   "outputs": [],
   "execution_count": 1
  },
  {
   "cell_type": "markdown",
   "source": "### Loading training set and blind test set",
   "metadata": {
    "cell_id": "fc66c1ca-4617-4dea-9b8e-1a0c4c4dd60a",
    "tags": [],
    "deepnote_cell_type": "markdown"
   }
  },
  {
   "cell_type": "code",
   "metadata": {
    "cell_id": "00001-0d0173a2-0574-4d5b-b9c7-3549eee93b9a",
    "deepnote_to_be_reexecuted": false,
    "execution_millis": 23,
    "execution_start": 1642785108368,
    "source_hash": "47b90439",
    "deepnote_cell_type": "code"
   },
   "source": "df_visual = pd.read_csv('./data/ML-CUP21-TR.csv', usecols=[11,12], names=['idx','f1','f2','f3','f4','f5','f6','f7','f8','f9','f10', 'x','y'])\ndf_task_tr = pd.read_csv('./data/ML-CUP21-TR.csv', names=['idx','f1','f2','f3','f4','f5','f6','f7','f8','f9','f10', 'x','y'])\ndf_task_tr = df_task_tr[7:] # remove first 7 rows of comments\ndf_visual = df_visual[7:]\n\ndf_blind_ts = pd.read_csv('./data/ML-CUP21-TS.csv', names=['idx','f1','f2','f3','f4','f5','f6','f7','f8','f9','f10'])\ndf_blind_ts = df_blind_ts[7:]\ndf_blind_ts.drop(labels=\"idx\", axis=1, inplace=True)\nblind_ts = df_blind_ts.values",
   "outputs": [],
   "execution_count": 2
  },
  {
   "cell_type": "markdown",
   "source": "### Evaluation metric and tools",
   "metadata": {
    "cell_id": "497b7842-e96b-45c4-8138-fe4682e13837",
    "tags": [],
    "deepnote_cell_type": "markdown"
   }
  },
  {
   "cell_type": "markdown",
   "source": "We define the <b>MEE (Mean Euclidean Error)</b> function which is used to evaluate the mean euclidean distance between two points with x and y coordinates.\nThe function takes in input the true target and the predicted target and yields a floating point number which represents the performance. ",
   "metadata": {
    "cell_id": "6b9bdbc6-8535-4f9d-baf4-04b6ec988111",
    "tags": [],
    "deepnote_cell_type": "markdown"
   }
  },
  {
   "cell_type": "code",
   "metadata": {
    "cell_id": "00002-8e3ce472-ff69-4ea7-97e3-d913b512af40",
    "deepnote_to_be_reexecuted": false,
    "execution_millis": 4,
    "execution_start": 1642785108391,
    "source_hash": "3afbb4cb",
    "deepnote_cell_type": "code"
   },
   "source": "def mee(true_target, predicted_target): #assuming target is 2-dim matrix with x and y as columns\n    l = true_target.shape[0]\n    res = 0\n    \n    for p in range(l): #for p-th pattern in l (number of samples)\n        x_diff = np.square(true_target[p,0] - predicted_target[p,0]) #difference between the x value of the true and predicted target\n        y_diff = np.square(true_target[p,1] - predicted_target[p,1]) #difference between the y values of true and predicted target\n        sum_term = x_diff + y_diff\n        res = res + np.sqrt(sum_term)\n    res = res / l\n    \n    #return np.average([np.sqrt(np.square(true_target[p,0] - predicted_target[p,0]) + np.square(true_target[p,1] - predicted_target[p,1])) for p in range(l)]) #compact form\n    return res",
   "outputs": [],
   "execution_count": 3
  },
  {
   "cell_type": "code",
   "source": "def plot_learning_curves(train_scores, test_scores, epochs, y_label, ax, i):\n    ax.set_title(f\"Model {i+1}\")\n    ax.set_ylabel(y_label)\n    ax.set_xlabel('Epoch');\n    ax.plot(range(0,epochs), train_scores, label = \"Training error\", linestyle='dashed')\n    ax.plot(range(0,epochs), test_scores, label = \"Test error\")\n    ax.legend()\n\n    return ax",
   "metadata": {
    "cell_id": "3d5f5d6f-6e80-48d8-af38-ae9a7f8298a8",
    "tags": [],
    "deepnote_to_be_reexecuted": false,
    "source_hash": "a91b8e4",
    "execution_start": 1642785108397,
    "execution_millis": 1,
    "deepnote_cell_type": "code"
   },
   "outputs": [],
   "execution_count": 4
  },
  {
   "cell_type": "code",
   "source": "def plot_coordinates(y_predicted, true_y = None):\n    y_predicted = pd.DataFrame(data=y_predicted, columns=[\"x\", \"y\"])\n    if not None:\n        true_y = pd.DataFrame(data=true_y, columns=[\"x\", \"y\"])\n        plt.scatter(true_y['x'], true_y['y'], c='r', marker='*')\n    plt.xlabel(\"x\")\n    plt.ylabel(\"y\")\n    plt.scatter(y_predicted['x'], y_predicted['y'], c='#1f77b4')",
   "metadata": {
    "cell_id": "8a9a0a1a-b223-4e42-955e-51dc6c1498ca",
    "tags": [],
    "deepnote_to_be_reexecuted": false,
    "source_hash": "f4599560",
    "execution_start": 1642785108401,
    "execution_millis": 2,
    "deepnote_cell_type": "code"
   },
   "outputs": [],
   "execution_count": 5
  },
  {
   "cell_type": "code",
   "source": "#trains the model with one iteration (epoch) and computes in output a list of train and test scores using MEE\ndef fit_and_score(epochs, eval_model, X_train, y_train, X_test, y_test):\n    train_scores = []\n    test_scores = []\n    train_loss = []\n    test_loss = []\n    eval_model.initialize()\n    for i in range(epochs):\n        eval_model = eval_model.fit_loop(X_train,y_train,1) #single epoch of the model\n        y_train_predicted = eval_model.predict(X_train)\n        y_test_predicted = eval_model.predict(X_test)\n        #results on train set\n        train_scores.append(mean_squared_error(y_train, y_train_predicted))\n        test_scores.append(mean_squared_error(y_test, y_test_predicted))\n        #result on test set\n        train_loss.append(mee(y_train, y_train_predicted))\n        test_loss.append(mee(y_test, y_test_predicted))\n    return train_scores, test_scores, train_loss, test_loss\n",
   "metadata": {
    "cell_id": "8ed9c9e9-e487-40b5-a777-e0851e7002fd",
    "tags": [],
    "deepnote_to_be_reexecuted": false,
    "source_hash": "dfbb28ea",
    "execution_start": 1642785108428,
    "execution_millis": 0,
    "deepnote_cell_type": "code"
   },
   "outputs": [],
   "execution_count": 6
  },
  {
   "cell_type": "markdown",
   "source": "## Regression task\n### Preparing the training set",
   "metadata": {
    "cell_id": "24820147-b49a-465d-ba32-7e440e14fede",
    "tags": [],
    "deepnote_cell_type": "markdown"
   }
  },
  {
   "cell_type": "code",
   "metadata": {
    "cell_id": "00004-8e65de00-6683-4b7d-9194-4c8ae030aee6",
    "deepnote_to_be_reexecuted": false,
    "execution_millis": 0,
    "execution_start": 1642785108429,
    "source_hash": "192dcf",
    "deepnote_cell_type": "code"
   },
   "source": "df_task_tr.drop(labels=\"idx\", axis=1, inplace=True)",
   "outputs": [],
   "execution_count": 7
  },
  {
   "cell_type": "code",
   "metadata": {
    "cell_id": "00005-63853f2c-11dc-4004-9bcb-4e58ba87336d",
    "deepnote_to_be_reexecuted": false,
    "execution_millis": 0,
    "execution_start": 1642785108429,
    "source_hash": "adef5ee0",
    "deepnote_cell_type": "code"
   },
   "source": "y = df_task_tr[['x','y']].values\nX = df_task_tr.drop(labels=['x','y'], axis=1).values",
   "outputs": [],
   "execution_count": 8
  },
  {
   "cell_type": "code",
   "metadata": {
    "cell_id": "00006-9e7e1d91-18d5-4fca-9cb1-70fc39ee71c5",
    "deepnote_to_be_reexecuted": false,
    "execution_millis": 22,
    "execution_start": 1642785108442,
    "source_hash": "473a37ed",
    "deepnote_cell_type": "code"
   },
   "source": "print(X.shape)\nprint(y.shape)",
   "outputs": [
    {
     "name": "stdout",
     "text": "(1477, 10)\n(1477, 2)\n",
     "output_type": "stream"
    }
   ],
   "execution_count": 9
  },
  {
   "cell_type": "code",
   "metadata": {
    "cell_id": "00007-15a9d6de-0760-442e-896a-cd43db4adcfb",
    "deepnote_to_be_reexecuted": false,
    "execution_millis": 1,
    "execution_start": 1642785108447,
    "source_hash": "596ccc7b",
    "deepnote_cell_type": "code"
   },
   "source": "RS_NUMBER = 69",
   "outputs": [],
   "execution_count": 10
  },
  {
   "cell_type": "markdown",
   "source": "### Splitting the dataset\nWe split the data set obtaining an internal test set (10% of the total dataset), we will use this internal test at the end to test internally the generalization error.",
   "metadata": {
    "cell_id": "8c07f6fa-778e-4ef8-93eb-7f5f8a724454",
    "tags": [],
    "deepnote_cell_type": "markdown"
   }
  },
  {
   "cell_type": "code",
   "metadata": {
    "cell_id": "00008-a49d71c2-f651-41f2-acdc-91530bf94733",
    "deepnote_to_be_reexecuted": false,
    "execution_millis": 16,
    "execution_start": 1642785108448,
    "source_hash": "5df0a49",
    "deepnote_cell_type": "code"
   },
   "source": "X, X_test, y, y_test = train_test_split(X, y, test_size=0.1, random_state=RS_NUMBER)\n\nprint(f\"X train shape: {X.shape}\")\nprint(f\"X validation shape: {X_test.shape}\")\nprint(f\"y train shape: {y.shape}\")\nprint(f\"y validation shape: {y_test.shape}\")",
   "outputs": [
    {
     "name": "stdout",
     "text": "X train shape: (1329, 10)\nX validation shape: (148, 10)\ny train shape: (1329, 2)\ny validation shape: (148, 2)\n",
     "output_type": "stream"
    }
   ],
   "execution_count": 11
  },
  {
   "cell_type": "markdown",
   "source": "### Define the module for the neural network\nWe define a Module for PyTorch, which takes as input the number of units, activation function (sigmoid, relu or tanh) and the number of hidden layers (can be either one or two). The model architecture is the simplest one of a MLP, one or two linear layers and the activation function.  ",
   "metadata": {
    "cell_id": "e8ffe47f-13c3-438c-a625-a1f900c09da9",
    "tags": [],
    "deepnote_cell_type": "markdown"
   }
  },
  {
   "cell_type": "code",
   "metadata": {
    "cell_id": "00009-9b91a60c-1771-44b7-85d3-4179fd2a3044",
    "deepnote_to_be_reexecuted": false,
    "execution_millis": 0,
    "execution_start": 1642785108465,
    "source_hash": "f35c2b20",
    "deepnote_cell_type": "code"
   },
   "source": "class MyModule(nn.Module):\n    def __init__(self, num_units, activation_fun, hidden_layers):\n        super(MyModule, self).__init__()\n        \n        if(activation_fun == \"sigmoid\"):\n            activation_fun = nn.Sigmoid()\n        elif activation_fun == \"relu\":\n            activation_fun = nn.ReLU()\n        elif activation_fun == \"tanh\":\n            activation_fun = nn.Tanh()\n            \n        if hidden_layers == 2:\n            self.linear_stack = nn.Sequential(\n                nn.Linear(10, num_units),\n                activation_fun,\n                nn.Linear(num_units, num_units),\n                activation_fun,\n                nn.Linear(num_units, 2),\n            )\n        elif hidden_layers == 1:\n            self.linear_stack = nn.Sequential(\n                nn.Linear(10, num_units),\n                activation_fun,\n                nn.Linear(num_units, 2),\n            )     \n    def forward(self, x):\n        X = self.linear_stack(x)\n        return X\n    \n    def predict(self, x):\n        X = self.linear_stack(x)\n        return X",
   "outputs": [],
   "execution_count": 12
  },
  {
   "cell_type": "markdown",
   "source": "We define the device where the computation is going to happen (in our case the CPU) and we print a model example with a single hidden layer with 100 hidden units and the sigmoid activation function.  ",
   "metadata": {
    "cell_id": "fed8b698-64f4-4cba-86a1-148e8dad61b9",
    "tags": [],
    "deepnote_cell_type": "markdown"
   }
  },
  {
   "cell_type": "code",
   "metadata": {
    "cell_id": "00010-e23cd2eb-f4f5-4c0c-b985-96731b3e5f4b",
    "deepnote_to_be_reexecuted": false,
    "execution_millis": 7,
    "execution_start": 1642785108466,
    "source_hash": "c16924d5",
    "deepnote_cell_type": "code"
   },
   "source": "device = torch.device(\"cuda:0\" if torch.cuda.is_available() else \"cpu\")\n\nexample = MyModule(num_units=100, activation_fun = \"sigmoid\", hidden_layers = 1).to(device)\nprint(example)",
   "outputs": [
    {
     "name": "stdout",
     "text": "MyModule(\n  (linear_stack): Sequential(\n    (0): Linear(in_features=10, out_features=100, bias=True)\n    (1): Sigmoid()\n    (2): Linear(in_features=100, out_features=2, bias=True)\n  )\n)\n",
     "output_type": "stream"
    }
   ],
   "execution_count": 13
  },
  {
   "cell_type": "markdown",
   "source": "Pytorch is used with skorch which is a wrapper for the framework, the goal of skorch is to make it possible to use PyTorch with sklearn. This will allow us to use the randomized search of sklearn, the NeuralNetRegressor takes the module defined before as input and a callback for the early stopping criteria.",
   "metadata": {
    "cell_id": "768ce6ef-5e96-4e6a-b2a9-c0441ca3f4b3",
    "tags": [],
    "deepnote_cell_type": "markdown"
   }
  },
  {
   "cell_type": "code",
   "metadata": {
    "cell_id": "6c048a6a-5e04-4b81-9e55-9fab9d68d60e",
    "deepnote_to_be_reexecuted": false,
    "execution_millis": 0,
    "execution_start": 1642785108467,
    "source_hash": "8dccc88b",
    "tags": [],
    "deepnote_cell_type": "code"
   },
   "source": "PATIENCE=20\nTHRESHOLD=0.005",
   "outputs": [],
   "execution_count": 14
  },
  {
   "cell_type": "code",
   "metadata": {
    "cell_id": "00011-ee26a323-33fd-498d-a315-3a23538a0cf1",
    "deepnote_to_be_reexecuted": false,
    "execution_millis": 0,
    "execution_start": 1642785108468,
    "source_hash": "38ded2f6",
    "deepnote_cell_type": "code"
   },
   "source": "model = NeuralNetRegressor(\n    module = MyModule,\n    callbacks=[('early_stoppping', EarlyStopping(monitor='valid_loss', patience=PATIENCE, threshold=THRESHOLD))],\n)",
   "outputs": [],
   "execution_count": 15
  },
  {
   "cell_type": "code",
   "metadata": {
    "cell_id": "00012-2fe8f0fe-1ea1-4887-9b7f-061aea6b93a6",
    "deepnote_to_be_reexecuted": false,
    "execution_millis": 13,
    "execution_start": 1642785108470,
    "source_hash": "1b127074",
    "deepnote_cell_type": "code"
   },
   "source": "# define the number of iterations\nn_iter_search = 1000\n# define number of k-folds\nk = 10",
   "outputs": [],
   "execution_count": 16
  },
  {
   "cell_type": "code",
   "metadata": {
    "cell_id": "00013-9807bc36-9a23-4057-a810-b1a8d5997908",
    "deepnote_to_be_reexecuted": false,
    "execution_millis": 1,
    "execution_start": 1642785108494,
    "source_hash": "b0b719f7",
    "deepnote_cell_type": "code"
   },
   "source": "X = X.astype(np.float32)\ny = y.astype(np.float32)\nX_test = X_test.astype(np.float32)\ny_test = y_test.astype(np.float32)\nblind_ts = blind_ts.astype(np.float32)\n",
   "outputs": [],
   "execution_count": 17
  },
  {
   "cell_type": "markdown",
   "source": "### Randomized Search",
   "metadata": {
    "cell_id": "7148d14e-f05f-45d9-b2a8-8479b2415809",
    "tags": [],
    "deepnote_cell_type": "markdown"
   }
  },
  {
   "cell_type": "code",
   "metadata": {
    "cell_id": "00014-f29742e9-defa-4ead-9f7b-1875566e484a",
    "deepnote_output_heights": [
     null,
     405.078125
    ],
    "deepnote_to_be_reexecuted": false,
    "execution_millis": 1,
    "execution_start": 1642785108544,
    "source_hash": "dea3419c",
    "deepnote_cell_type": "code"
   },
   "source": "%%script false --no-raise-error\n\n# to find the best set of parameter setting, we can run a randomized search\n\n# define the parameters' values\nparams = {\n    'lr': uniform(0.0001, 0.1),\n    'max_epochs': [1000], #upper bound of max number of epochs\n    'optimizer': [torch.optim.SGD],\n    'optimizer__momentum': [0.9, 0.95], ##optimizer__ indicates that it is a parameter of the optimizer\n    'optimizer__weight_decay': uniform(0.0001, 0.1),\n    'optimizer__nesterov': [False, True],\n    'module__num_units': randint(5, 128), #module__ indicates that it is a parameter of the module\n    'module__hidden_layers': [1,2],\n    'module__activation_fun': [\"sigmoid\", \"tanh\", \"relu\"],\n    'batch_size': randint(1, X.shape[0]),\n}\n\n# define the grid search\nrand_gs = RandomizedSearchCV(\n    model,\n    param_distributions=params,\n    n_iter=n_iter_search,\n    n_jobs=-1,\n    scoring=make_scorer(mee), #scoring is based on the highest value so we use the inverse of the MEE loss function\n    cv=k,\n    random_state=RS_NUMBER,\n    verbose=10\n)\n# run the grid search\nrand_gs.fit(X, y)\n",
   "outputs": [],
   "execution_count": 18
  },
  {
   "cell_type": "code",
   "metadata": {
    "cell_id": "00015-c3740584-1ba9-4476-8b79-bfb9a96d2f51",
    "deepnote_to_be_reexecuted": false,
    "execution_millis": 39,
    "execution_start": 1642785108546,
    "source_hash": "f2b24f7f",
    "deepnote_cell_type": "code"
   },
   "source": "%%script false --no-raise-error\n\ndf_results = pd.DataFrame(data=rand_gs.cv_results_) #trasform into a pandas dataframe\ndf_results.sort_values(by=\"rank_test_score\", axis=0, ascending=False, inplace=True) #sort rank values in decreasing order \ndf_results.dropna(inplace=True) #delete nan values \ndf_results = df_results[:50] #keep only top 50 models\npd.DataFrame.to_csv(df_results, \"pytorch_results/rand1_search.csv\")",
   "outputs": [],
   "execution_count": 19
  },
  {
   "cell_type": "code",
   "metadata": {
    "cell_id": "00016-e7d90d2d-c917-49b9-927c-34cffe186b5a",
    "deepnote_output_heights": [
     208.1875
    ],
    "deepnote_to_be_reexecuted": false,
    "execution_millis": 180,
    "execution_start": 1642785108586,
    "source_hash": "7a530ae9",
    "deepnote_cell_type": "code"
   },
   "source": "df_results = pd.read_csv(\"pytorch_results/rand1_search.csv\")\ndf_results.head()",
   "outputs": [
    {
     "output_type": "execute_result",
     "execution_count": 20,
     "data": {
      "application/vnd.deepnote.dataframe.v3+json": {
       "column_count": 29,
       "row_count": 5,
       "columns": [
        {
         "name": "Unnamed: 0",
         "dtype": "int64",
         "stats": {
          "unique_count": 5,
          "nan_count": 0,
          "min": "173",
          "max": "987",
          "histogram": [
           {
            "bin_start": 173,
            "bin_end": 254.4,
            "count": 1
           },
           {
            "bin_start": 254.4,
            "bin_end": 335.8,
            "count": 0
           },
           {
            "bin_start": 335.8,
            "bin_end": 417.20000000000005,
            "count": 1
           },
           {
            "bin_start": 417.20000000000005,
            "bin_end": 498.6,
            "count": 0
           },
           {
            "bin_start": 498.6,
            "bin_end": 580,
            "count": 0
           },
           {
            "bin_start": 580,
            "bin_end": 661.4000000000001,
            "count": 1
           },
           {
            "bin_start": 661.4000000000001,
            "bin_end": 742.8000000000001,
            "count": 0
           },
           {
            "bin_start": 742.8000000000001,
            "bin_end": 824.2,
            "count": 1
           },
           {
            "bin_start": 824.2,
            "bin_end": 905.6,
            "count": 0
           },
           {
            "bin_start": 905.6,
            "bin_end": 987,
            "count": 1
           }
          ]
         }
        },
        {
         "name": "mean_fit_time",
         "dtype": "float64",
         "stats": {
          "unique_count": 5,
          "nan_count": 0,
          "min": "3.5479244232177733",
          "max": "25.31385474205017",
          "histogram": [
           {
            "bin_start": 3.5479244232177733,
            "bin_end": 5.724517455101013,
            "count": 2
           },
           {
            "bin_start": 5.724517455101013,
            "bin_end": 7.901110486984253,
            "count": 1
           },
           {
            "bin_start": 7.901110486984253,
            "bin_end": 10.077703518867494,
            "count": 1
           },
           {
            "bin_start": 10.077703518867494,
            "bin_end": 12.254296550750734,
            "count": 0
           },
           {
            "bin_start": 12.254296550750734,
            "bin_end": 14.430889582633974,
            "count": 0
           },
           {
            "bin_start": 14.430889582633974,
            "bin_end": 16.607482614517213,
            "count": 0
           },
           {
            "bin_start": 16.607482614517213,
            "bin_end": 18.784075646400453,
            "count": 0
           },
           {
            "bin_start": 18.784075646400453,
            "bin_end": 20.960668678283692,
            "count": 0
           },
           {
            "bin_start": 20.960668678283692,
            "bin_end": 23.137261710166932,
            "count": 0
           },
           {
            "bin_start": 23.137261710166932,
            "bin_end": 25.31385474205017,
            "count": 1
           }
          ]
         }
        },
        {
         "name": "std_fit_time",
         "dtype": "float64",
         "stats": {
          "unique_count": 5,
          "nan_count": 0,
          "min": "1.1648195851491658",
          "max": "9.17789099871128",
          "histogram": [
           {
            "bin_start": 1.1648195851491658,
            "bin_end": 1.9661267265053772,
            "count": 1
           },
           {
            "bin_start": 1.9661267265053772,
            "bin_end": 2.7674338678615884,
            "count": 2
           },
           {
            "bin_start": 2.7674338678615884,
            "bin_end": 3.5687410092178,
            "count": 0
           },
           {
            "bin_start": 3.5687410092178,
            "bin_end": 4.370048150574012,
            "count": 1
           },
           {
            "bin_start": 4.370048150574012,
            "bin_end": 5.171355291930223,
            "count": 0
           },
           {
            "bin_start": 5.171355291930223,
            "bin_end": 5.972662433286434,
            "count": 0
           },
           {
            "bin_start": 5.972662433286434,
            "bin_end": 6.773969574642646,
            "count": 0
           },
           {
            "bin_start": 6.773969574642646,
            "bin_end": 7.575276715998857,
            "count": 0
           },
           {
            "bin_start": 7.575276715998857,
            "bin_end": 8.376583857355069,
            "count": 0
           },
           {
            "bin_start": 8.376583857355069,
            "bin_end": 9.17789099871128,
            "count": 1
           }
          ]
         }
        },
        {
         "name": "mean_score_time",
         "dtype": "float64",
         "stats": {
          "unique_count": 5,
          "nan_count": 0,
          "min": "0.0049219131469726",
          "max": "0.0075045347213745",
          "histogram": [
           {
            "bin_start": 0.0049219131469726,
            "bin_end": 0.00518017530441279,
            "count": 1
           },
           {
            "bin_start": 0.00518017530441279,
            "bin_end": 0.00543843746185298,
            "count": 2
           },
           {
            "bin_start": 0.00543843746185298,
            "bin_end": 0.00569669961929317,
            "count": 0
           },
           {
            "bin_start": 0.00569669961929317,
            "bin_end": 0.00595496177673336,
            "count": 0
           },
           {
            "bin_start": 0.00595496177673336,
            "bin_end": 0.00621322393417355,
            "count": 0
           },
           {
            "bin_start": 0.00621322393417355,
            "bin_end": 0.00647148609161374,
            "count": 1
           },
           {
            "bin_start": 0.00647148609161374,
            "bin_end": 0.00672974824905393,
            "count": 0
           },
           {
            "bin_start": 0.00672974824905393,
            "bin_end": 0.006988010406494121,
            "count": 0
           },
           {
            "bin_start": 0.006988010406494121,
            "bin_end": 0.0072462725639343105,
            "count": 0
           },
           {
            "bin_start": 0.0072462725639343105,
            "bin_end": 0.0075045347213745,
            "count": 1
           }
          ]
         }
        },
        {
         "name": "std_score_time",
         "dtype": "float64",
         "stats": {
          "unique_count": 5,
          "nan_count": 0,
          "min": "0.0013506836223773",
          "max": "0.0051889544352259",
          "histogram": [
           {
            "bin_start": 0.0013506836223773,
            "bin_end": 0.00173451070366216,
            "count": 2
           },
           {
            "bin_start": 0.00173451070366216,
            "bin_end": 0.0021183377849470202,
            "count": 0
           },
           {
            "bin_start": 0.0021183377849470202,
            "bin_end": 0.00250216486623188,
            "count": 0
           },
           {
            "bin_start": 0.00250216486623188,
            "bin_end": 0.00288599194751674,
            "count": 1
           },
           {
            "bin_start": 0.00288599194751674,
            "bin_end": 0.0032698190288016,
            "count": 1
           },
           {
            "bin_start": 0.0032698190288016,
            "bin_end": 0.00365364611008646,
            "count": 0
           },
           {
            "bin_start": 0.00365364611008646,
            "bin_end": 0.00403747319137132,
            "count": 0
           },
           {
            "bin_start": 0.00403747319137132,
            "bin_end": 0.00442130027265618,
            "count": 0
           },
           {
            "bin_start": 0.00442130027265618,
            "bin_end": 0.004805127353941041,
            "count": 0
           },
           {
            "bin_start": 0.004805127353941041,
            "bin_end": 0.0051889544352259,
            "count": 1
           }
          ]
         }
        },
        {
         "name": "param_batch_size",
         "dtype": "int64",
         "stats": {
          "unique_count": 5,
          "nan_count": 0,
          "min": "138",
          "max": "1102",
          "histogram": [
           {
            "bin_start": 138,
            "bin_end": 234.4,
            "count": 1
           },
           {
            "bin_start": 234.4,
            "bin_end": 330.8,
            "count": 2
           },
           {
            "bin_start": 330.8,
            "bin_end": 427.20000000000005,
            "count": 0
           },
           {
            "bin_start": 427.20000000000005,
            "bin_end": 523.6,
            "count": 0
           },
           {
            "bin_start": 523.6,
            "bin_end": 620,
            "count": 0
           },
           {
            "bin_start": 620,
            "bin_end": 716.4000000000001,
            "count": 1
           },
           {
            "bin_start": 716.4000000000001,
            "bin_end": 812.8000000000001,
            "count": 0
           },
           {
            "bin_start": 812.8000000000001,
            "bin_end": 909.2,
            "count": 0
           },
           {
            "bin_start": 909.2,
            "bin_end": 1005.6,
            "count": 0
           },
           {
            "bin_start": 1005.6,
            "bin_end": 1102,
            "count": 1
           }
          ]
         }
        },
        {
         "name": "param_lr",
         "dtype": "float64",
         "stats": {
          "unique_count": 5,
          "nan_count": 0,
          "min": "0.0027792460686433",
          "max": "0.0734784137054805",
          "histogram": [
           {
            "bin_start": 0.0027792460686433,
            "bin_end": 0.00984916283232702,
            "count": 2
           },
           {
            "bin_start": 0.00984916283232702,
            "bin_end": 0.01691907959601074,
            "count": 1
           },
           {
            "bin_start": 0.01691907959601074,
            "bin_end": 0.02398899635969446,
            "count": 1
           },
           {
            "bin_start": 0.02398899635969446,
            "bin_end": 0.03105891312337818,
            "count": 0
           },
           {
            "bin_start": 0.03105891312337818,
            "bin_end": 0.0381288298870619,
            "count": 0
           },
           {
            "bin_start": 0.0381288298870619,
            "bin_end": 0.04519874665074562,
            "count": 0
           },
           {
            "bin_start": 0.04519874665074562,
            "bin_end": 0.05226866341442934,
            "count": 0
           },
           {
            "bin_start": 0.05226866341442934,
            "bin_end": 0.05933858017811306,
            "count": 0
           },
           {
            "bin_start": 0.05933858017811306,
            "bin_end": 0.06640849694179678,
            "count": 0
           },
           {
            "bin_start": 0.06640849694179678,
            "bin_end": 0.0734784137054805,
            "count": 1
           }
          ]
         }
        },
        {
         "name": "param_max_epochs",
         "dtype": "int64",
         "stats": {
          "unique_count": 1,
          "nan_count": 0,
          "min": "1000",
          "max": "1000",
          "histogram": [
           {
            "bin_start": 999.5,
            "bin_end": 999.6,
            "count": 0
           },
           {
            "bin_start": 999.6,
            "bin_end": 999.7,
            "count": 0
           },
           {
            "bin_start": 999.7,
            "bin_end": 999.8,
            "count": 0
           },
           {
            "bin_start": 999.8,
            "bin_end": 999.9,
            "count": 0
           },
           {
            "bin_start": 999.9,
            "bin_end": 1000,
            "count": 0
           },
           {
            "bin_start": 1000,
            "bin_end": 1000.1,
            "count": 5
           },
           {
            "bin_start": 1000.1,
            "bin_end": 1000.2,
            "count": 0
           },
           {
            "bin_start": 1000.2,
            "bin_end": 1000.3,
            "count": 0
           },
           {
            "bin_start": 1000.3,
            "bin_end": 1000.4,
            "count": 0
           },
           {
            "bin_start": 1000.4,
            "bin_end": 1000.5,
            "count": 0
           }
          ]
         }
        },
        {
         "name": "param_module__activation_fun",
         "dtype": "object",
         "stats": {
          "unique_count": 2,
          "nan_count": 0,
          "categories": [
           {
            "name": "tanh",
            "count": 4
           },
           {
            "name": "sigmoid",
            "count": 1
           }
          ]
         }
        },
        {
         "name": "param_module__hidden_layers",
         "dtype": "int64",
         "stats": {
          "unique_count": 2,
          "nan_count": 0,
          "min": "1",
          "max": "2",
          "histogram": [
           {
            "bin_start": 1,
            "bin_end": 1.1,
            "count": 1
           },
           {
            "bin_start": 1.1,
            "bin_end": 1.2,
            "count": 0
           },
           {
            "bin_start": 1.2,
            "bin_end": 1.3,
            "count": 0
           },
           {
            "bin_start": 1.3,
            "bin_end": 1.4,
            "count": 0
           },
           {
            "bin_start": 1.4,
            "bin_end": 1.5,
            "count": 0
           },
           {
            "bin_start": 1.5,
            "bin_end": 1.6,
            "count": 0
           },
           {
            "bin_start": 1.6,
            "bin_end": 1.7000000000000002,
            "count": 0
           },
           {
            "bin_start": 1.7000000000000002,
            "bin_end": 1.8,
            "count": 0
           },
           {
            "bin_start": 1.8,
            "bin_end": 1.9,
            "count": 0
           },
           {
            "bin_start": 1.9,
            "bin_end": 2,
            "count": 4
           }
          ]
         }
        },
        {
         "name": "param_module__num_units",
         "dtype": "int64",
         "stats": {
          "unique_count": 4,
          "nan_count": 0,
          "min": "63",
          "max": "109",
          "histogram": [
           {
            "bin_start": 63,
            "bin_end": 67.6,
            "count": 1
           },
           {
            "bin_start": 67.6,
            "bin_end": 72.2,
            "count": 0
           },
           {
            "bin_start": 72.2,
            "bin_end": 76.8,
            "count": 0
           },
           {
            "bin_start": 76.8,
            "bin_end": 81.4,
            "count": 1
           },
           {
            "bin_start": 81.4,
            "bin_end": 86,
            "count": 0
           },
           {
            "bin_start": 86,
            "bin_end": 90.6,
            "count": 2
           },
           {
            "bin_start": 90.6,
            "bin_end": 95.19999999999999,
            "count": 0
           },
           {
            "bin_start": 95.19999999999999,
            "bin_end": 99.8,
            "count": 0
           },
           {
            "bin_start": 99.8,
            "bin_end": 104.4,
            "count": 0
           },
           {
            "bin_start": 104.4,
            "bin_end": 109,
            "count": 1
           }
          ]
         }
        },
        {
         "name": "param_optimizer",
         "dtype": "object",
         "stats": {
          "unique_count": 1,
          "nan_count": 0,
          "categories": [
           {
            "name": "<class 'torch.optim.sgd.SGD'>",
            "count": 5
           }
          ]
         }
        },
        {
         "name": "param_optimizer__momentum",
         "dtype": "float64",
         "stats": {
          "unique_count": 2,
          "nan_count": 0,
          "min": "0.9",
          "max": "0.95",
          "histogram": [
           {
            "bin_start": 0.9,
            "bin_end": 0.905,
            "count": 2
           },
           {
            "bin_start": 0.905,
            "bin_end": 0.91,
            "count": 0
           },
           {
            "bin_start": 0.91,
            "bin_end": 0.915,
            "count": 0
           },
           {
            "bin_start": 0.915,
            "bin_end": 0.92,
            "count": 0
           },
           {
            "bin_start": 0.92,
            "bin_end": 0.925,
            "count": 0
           },
           {
            "bin_start": 0.925,
            "bin_end": 0.9299999999999999,
            "count": 0
           },
           {
            "bin_start": 0.9299999999999999,
            "bin_end": 0.9349999999999999,
            "count": 0
           },
           {
            "bin_start": 0.9349999999999999,
            "bin_end": 0.94,
            "count": 0
           },
           {
            "bin_start": 0.94,
            "bin_end": 0.945,
            "count": 0
           },
           {
            "bin_start": 0.945,
            "bin_end": 0.95,
            "count": 3
           }
          ]
         }
        },
        {
         "name": "param_optimizer__nesterov",
         "dtype": "bool",
         "stats": {
          "unique_count": 2,
          "nan_count": 0,
          "categories": [
           {
            "name": "False",
            "count": 4
           },
           {
            "name": "True",
            "count": 1
           }
          ]
         }
        },
        {
         "name": "param_optimizer__weight_decay",
         "dtype": "float64",
         "stats": {
          "unique_count": 5,
          "nan_count": 0,
          "min": "0.0001164007835073",
          "max": "0.0107256819555159",
          "histogram": [
           {
            "bin_start": 0.0001164007835073,
            "bin_end": 0.00117732890070816,
            "count": 1
           },
           {
            "bin_start": 0.00117732890070816,
            "bin_end": 0.0022382570179090198,
            "count": 1
           },
           {
            "bin_start": 0.0022382570179090198,
            "bin_end": 0.0032991851351098795,
            "count": 0
           },
           {
            "bin_start": 0.0032991851351098795,
            "bin_end": 0.00436011325231074,
            "count": 1
           },
           {
            "bin_start": 0.00436011325231074,
            "bin_end": 0.0054210413695116,
            "count": 1
           },
           {
            "bin_start": 0.0054210413695116,
            "bin_end": 0.006481969486712459,
            "count": 0
           },
           {
            "bin_start": 0.006481969486712459,
            "bin_end": 0.007542897603913319,
            "count": 0
           },
           {
            "bin_start": 0.007542897603913319,
            "bin_end": 0.00860382572111418,
            "count": 0
           },
           {
            "bin_start": 0.00860382572111418,
            "bin_end": 0.009664753838315039,
            "count": 0
           },
           {
            "bin_start": 0.009664753838315039,
            "bin_end": 0.0107256819555159,
            "count": 1
           }
          ]
         }
        },
        {
         "name": "params",
         "dtype": "object",
         "stats": {
          "unique_count": 5,
          "nan_count": 0,
          "categories": [
           {
            "name": "{'batch_size': 283, 'lr': 0.020098760986186816, 'max_epochs': 1000, 'module__activation_fun': 'tanh', 'module__hidden_layers': 2, 'module__num_units': 81, 'optimizer': <class 'torch.optim.sgd.SGD'>, 'optimizer__momentum': 0.9, 'optimizer__nesterov': False, 'optimizer__weight_decay': 0.0034537270776939686}",
            "count": 1
           },
           {
            "name": "{'batch_size': 682, 'lr': 0.011028071106371152, 'max_epochs': 1000, 'module__activation_fun': 'tanh', 'module__hidden_layers': 2, 'module__num_units': 109, 'optimizer': <class 'torch.optim.sgd.SGD'>, 'optimizer__momentum': 0.95, 'optimizer__nesterov': False, 'optimizer__weight_decay': 0.004932258399184642}",
            "count": 1
           },
           {
            "name": "3 others",
            "count": 3
           }
          ]
         }
        },
        {
         "name": "split0_test_score",
         "dtype": "float64",
         "stats": {
          "unique_count": 5,
          "nan_count": 0,
          "min": "1.0255696204932112",
          "max": "1.125636341736505",
          "histogram": [
           {
            "bin_start": 1.0255696204932112,
            "bin_end": 1.0355762926175407,
            "count": 1
           },
           {
            "bin_start": 1.0355762926175407,
            "bin_end": 1.04558296474187,
            "count": 1
           },
           {
            "bin_start": 1.04558296474187,
            "bin_end": 1.0555896368661992,
            "count": 0
           },
           {
            "bin_start": 1.0555896368661992,
            "bin_end": 1.0655963089905287,
            "count": 0
           },
           {
            "bin_start": 1.0655963089905287,
            "bin_end": 1.0756029811148582,
            "count": 2
           },
           {
            "bin_start": 1.0756029811148582,
            "bin_end": 1.0856096532391875,
            "count": 0
           },
           {
            "bin_start": 1.0856096532391875,
            "bin_end": 1.0956163253635167,
            "count": 0
           },
           {
            "bin_start": 1.0956163253635167,
            "bin_end": 1.1056229974878462,
            "count": 0
           },
           {
            "bin_start": 1.1056229974878462,
            "bin_end": 1.1156296696121757,
            "count": 0
           },
           {
            "bin_start": 1.1156296696121757,
            "bin_end": 1.125636341736505,
            "count": 1
           }
          ]
         }
        },
        {
         "name": "split1_test_score",
         "dtype": "float64",
         "stats": {
          "unique_count": 5,
          "nan_count": 0,
          "min": "0.9846925379890472",
          "max": "1.0717496662715773",
          "histogram": [
           {
            "bin_start": 0.9846925379890472,
            "bin_end": 0.9933982508173003,
            "count": 1
           },
           {
            "bin_start": 0.9933982508173003,
            "bin_end": 1.0021039636455533,
            "count": 0
           },
           {
            "bin_start": 1.0021039636455533,
            "bin_end": 1.0108096764738062,
            "count": 0
           },
           {
            "bin_start": 1.0108096764738062,
            "bin_end": 1.0195153893020592,
            "count": 0
           },
           {
            "bin_start": 1.0195153893020592,
            "bin_end": 1.0282211021303123,
            "count": 0
           },
           {
            "bin_start": 1.0282211021303123,
            "bin_end": 1.0369268149585653,
            "count": 0
           },
           {
            "bin_start": 1.0369268149585653,
            "bin_end": 1.0456325277868184,
            "count": 2
           },
           {
            "bin_start": 1.0456325277868184,
            "bin_end": 1.0543382406150712,
            "count": 0
           },
           {
            "bin_start": 1.0543382406150712,
            "bin_end": 1.0630439534433243,
            "count": 0
           },
           {
            "bin_start": 1.0630439534433243,
            "bin_end": 1.0717496662715773,
            "count": 2
           }
          ]
         }
        },
        {
         "name": "split2_test_score",
         "dtype": "float64",
         "stats": {
          "unique_count": 5,
          "nan_count": 0,
          "min": "1.1146574916416092",
          "max": "1.179601493592661",
          "histogram": [
           {
            "bin_start": 1.1146574916416092,
            "bin_end": 1.1211518918367145,
            "count": 1
           },
           {
            "bin_start": 1.1211518918367145,
            "bin_end": 1.1276462920318195,
            "count": 0
           },
           {
            "bin_start": 1.1276462920318195,
            "bin_end": 1.1341406922269248,
            "count": 1
           },
           {
            "bin_start": 1.1341406922269248,
            "bin_end": 1.1406350924220299,
            "count": 0
           },
           {
            "bin_start": 1.1406350924220299,
            "bin_end": 1.1471294926171351,
            "count": 1
           },
           {
            "bin_start": 1.1471294926171351,
            "bin_end": 1.1536238928122404,
            "count": 0
           },
           {
            "bin_start": 1.1536238928122404,
            "bin_end": 1.1601182930073455,
            "count": 0
           },
           {
            "bin_start": 1.1601182930073455,
            "bin_end": 1.1666126932024508,
            "count": 1
           },
           {
            "bin_start": 1.1666126932024508,
            "bin_end": 1.1731070933975558,
            "count": 0
           },
           {
            "bin_start": 1.1731070933975558,
            "bin_end": 1.179601493592661,
            "count": 1
           }
          ]
         }
        },
        {
         "name": "split3_test_score",
         "dtype": "float64",
         "stats": {
          "unique_count": 5,
          "nan_count": 0,
          "min": "1.1771458231640937",
          "max": "1.2397345568340523",
          "histogram": [
           {
            "bin_start": 1.1771458231640937,
            "bin_end": 1.1834046965310896,
            "count": 1
           },
           {
            "bin_start": 1.1834046965310896,
            "bin_end": 1.1896635698980853,
            "count": 0
           },
           {
            "bin_start": 1.1896635698980853,
            "bin_end": 1.1959224432650812,
            "count": 0
           },
           {
            "bin_start": 1.1959224432650812,
            "bin_end": 1.2021813166320772,
            "count": 2
           },
           {
            "bin_start": 1.2021813166320772,
            "bin_end": 1.2084401899990729,
            "count": 0
           },
           {
            "bin_start": 1.2084401899990729,
            "bin_end": 1.2146990633660688,
            "count": 0
           },
           {
            "bin_start": 1.2146990633660688,
            "bin_end": 1.2209579367330647,
            "count": 1
           },
           {
            "bin_start": 1.2209579367330647,
            "bin_end": 1.2272168101000607,
            "count": 0
           },
           {
            "bin_start": 1.2272168101000607,
            "bin_end": 1.2334756834670564,
            "count": 0
           },
           {
            "bin_start": 1.2334756834670564,
            "bin_end": 1.2397345568340523,
            "count": 1
           }
          ]
         }
        },
        {
         "name": "split4_test_score",
         "dtype": "float64",
         "stats": {
          "unique_count": 5,
          "nan_count": 0,
          "min": "1.1967915428760356",
          "max": "1.2385293455948507",
          "histogram": [
           {
            "bin_start": 1.1967915428760356,
            "bin_end": 1.2009653231479172,
            "count": 1
           },
           {
            "bin_start": 1.2009653231479172,
            "bin_end": 1.2051391034197987,
            "count": 0
           },
           {
            "bin_start": 1.2051391034197987,
            "bin_end": 1.2093128836916802,
            "count": 0
           },
           {
            "bin_start": 1.2093128836916802,
            "bin_end": 1.2134866639635618,
            "count": 0
           },
           {
            "bin_start": 1.2134866639635618,
            "bin_end": 1.217660444235443,
            "count": 2
           },
           {
            "bin_start": 1.217660444235443,
            "bin_end": 1.2218342245073246,
            "count": 0
           },
           {
            "bin_start": 1.2218342245073246,
            "bin_end": 1.2260080047792061,
            "count": 0
           },
           {
            "bin_start": 1.2260080047792061,
            "bin_end": 1.2301817850510877,
            "count": 0
           },
           {
            "bin_start": 1.2301817850510877,
            "bin_end": 1.2343555653229692,
            "count": 1
           },
           {
            "bin_start": 1.2343555653229692,
            "bin_end": 1.2385293455948507,
            "count": 1
           }
          ]
         }
        },
        {
         "name": "split5_test_score",
         "dtype": "float64",
         "stats": {
          "unique_count": 5,
          "nan_count": 0,
          "min": "1.1268266496577657",
          "max": "1.245563778550105",
          "histogram": [
           {
            "bin_start": 1.1268266496577657,
            "bin_end": 1.1387003625469996,
            "count": 1
           },
           {
            "bin_start": 1.1387003625469996,
            "bin_end": 1.1505740754362335,
            "count": 0
           },
           {
            "bin_start": 1.1505740754362335,
            "bin_end": 1.1624477883254676,
            "count": 0
           },
           {
            "bin_start": 1.1624477883254676,
            "bin_end": 1.1743215012147015,
            "count": 1
           },
           {
            "bin_start": 1.1743215012147015,
            "bin_end": 1.1861952141039354,
            "count": 0
           },
           {
            "bin_start": 1.1861952141039354,
            "bin_end": 1.1980689269931692,
            "count": 0
           },
           {
            "bin_start": 1.1980689269931692,
            "bin_end": 1.2099426398824031,
            "count": 0
           },
           {
            "bin_start": 1.2099426398824031,
            "bin_end": 1.2218163527716372,
            "count": 0
           },
           {
            "bin_start": 1.2218163527716372,
            "bin_end": 1.2336900656608711,
            "count": 2
           },
           {
            "bin_start": 1.2336900656608711,
            "bin_end": 1.245563778550105,
            "count": 1
           }
          ]
         }
        },
        {
         "name": "split6_test_score",
         "dtype": "float64",
         "stats": {
          "unique_count": 5,
          "nan_count": 0,
          "min": "1.1208016572142006",
          "max": "1.1661589143979818",
          "histogram": [
           {
            "bin_start": 1.1208016572142006,
            "bin_end": 1.1253373829325786,
            "count": 2
           },
           {
            "bin_start": 1.1253373829325786,
            "bin_end": 1.1298731086509568,
            "count": 1
           },
           {
            "bin_start": 1.1298731086509568,
            "bin_end": 1.134408834369335,
            "count": 1
           },
           {
            "bin_start": 1.134408834369335,
            "bin_end": 1.138944560087713,
            "count": 0
           },
           {
            "bin_start": 1.138944560087713,
            "bin_end": 1.143480285806091,
            "count": 0
           },
           {
            "bin_start": 1.143480285806091,
            "bin_end": 1.1480160115244693,
            "count": 0
           },
           {
            "bin_start": 1.1480160115244693,
            "bin_end": 1.1525517372428475,
            "count": 0
           },
           {
            "bin_start": 1.1525517372428475,
            "bin_end": 1.1570874629612256,
            "count": 0
           },
           {
            "bin_start": 1.1570874629612256,
            "bin_end": 1.1616231886796036,
            "count": 0
           },
           {
            "bin_start": 1.1616231886796036,
            "bin_end": 1.1661589143979818,
            "count": 1
           }
          ]
         }
        },
        {
         "name": "split7_test_score",
         "dtype": "float64",
         "stats": {
          "unique_count": 5,
          "nan_count": 0,
          "min": "1.051275024764744",
          "max": "1.0773597869713951",
          "histogram": [
           {
            "bin_start": 1.051275024764744,
            "bin_end": 1.053883500985409,
            "count": 1
           },
           {
            "bin_start": 1.053883500985409,
            "bin_end": 1.0564919772060741,
            "count": 0
           },
           {
            "bin_start": 1.0564919772060741,
            "bin_end": 1.0591004534267394,
            "count": 1
           },
           {
            "bin_start": 1.0591004534267394,
            "bin_end": 1.0617089296474045,
            "count": 0
           },
           {
            "bin_start": 1.0617089296474045,
            "bin_end": 1.0643174058680696,
            "count": 0
           },
           {
            "bin_start": 1.0643174058680696,
            "bin_end": 1.0669258820887346,
            "count": 0
           },
           {
            "bin_start": 1.0669258820887346,
            "bin_end": 1.0695343583093997,
            "count": 2
           },
           {
            "bin_start": 1.0695343583093997,
            "bin_end": 1.072142834530065,
            "count": 0
           },
           {
            "bin_start": 1.072142834530065,
            "bin_end": 1.07475131075073,
            "count": 0
           },
           {
            "bin_start": 1.07475131075073,
            "bin_end": 1.0773597869713951,
            "count": 1
           }
          ]
         }
        },
        {
         "name": "split8_test_score",
         "dtype": "float64",
         "stats": {
          "unique_count": 5,
          "nan_count": 0,
          "min": "1.2339000751761566",
          "max": "1.2628589510581547",
          "histogram": [
           {
            "bin_start": 1.2339000751761566,
            "bin_end": 1.2367959627643565,
            "count": 1
           },
           {
            "bin_start": 1.2367959627643565,
            "bin_end": 1.2396918503525562,
            "count": 0
           },
           {
            "bin_start": 1.2396918503525562,
            "bin_end": 1.242587737940756,
            "count": 1
           },
           {
            "bin_start": 1.242587737940756,
            "bin_end": 1.2454836255289559,
            "count": 0
           },
           {
            "bin_start": 1.2454836255289559,
            "bin_end": 1.2483795131171558,
            "count": 0
           },
           {
            "bin_start": 1.2483795131171558,
            "bin_end": 1.2512754007053555,
            "count": 1
           },
           {
            "bin_start": 1.2512754007053555,
            "bin_end": 1.2541712882935552,
            "count": 0
           },
           {
            "bin_start": 1.2541712882935552,
            "bin_end": 1.257067175881755,
            "count": 1
           },
           {
            "bin_start": 1.257067175881755,
            "bin_end": 1.259963063469955,
            "count": 0
           },
           {
            "bin_start": 1.259963063469955,
            "bin_end": 1.2628589510581547,
            "count": 1
           }
          ]
         }
        },
        {
         "name": "split9_test_score",
         "dtype": "float64",
         "stats": {
          "unique_count": 5,
          "nan_count": 0,
          "min": "0.9619966055915664",
          "max": "1.040874663331179",
          "histogram": [
           {
            "bin_start": 0.9619966055915664,
            "bin_end": 0.9698844113655276,
            "count": 1
           },
           {
            "bin_start": 0.9698844113655276,
            "bin_end": 0.9777722171394889,
            "count": 0
           },
           {
            "bin_start": 0.9777722171394889,
            "bin_end": 0.9856600229134502,
            "count": 0
           },
           {
            "bin_start": 0.9856600229134502,
            "bin_end": 0.9935478286874114,
            "count": 0
           },
           {
            "bin_start": 0.9935478286874114,
            "bin_end": 1.0014356344613726,
            "count": 0
           },
           {
            "bin_start": 1.0014356344613726,
            "bin_end": 1.009323440235334,
            "count": 2
           },
           {
            "bin_start": 1.009323440235334,
            "bin_end": 1.0172112460092952,
            "count": 0
           },
           {
            "bin_start": 1.0172112460092952,
            "bin_end": 1.0250990517832563,
            "count": 0
           },
           {
            "bin_start": 1.0250990517832563,
            "bin_end": 1.0329868575572176,
            "count": 1
           },
           {
            "bin_start": 1.0329868575572176,
            "bin_end": 1.040874663331179,
            "count": 1
           }
          ]
         }
        },
        {
         "name": "mean_test_score",
         "dtype": "float64",
         "stats": {
          "unique_count": 5,
          "nan_count": 0,
          "min": "1.1209130120854107",
          "max": "1.142155605758744",
          "histogram": [
           {
            "bin_start": 1.1209130120854107,
            "bin_end": 1.1230372714527441,
            "count": 1
           },
           {
            "bin_start": 1.1230372714527441,
            "bin_end": 1.1251615308200773,
            "count": 0
           },
           {
            "bin_start": 1.1251615308200773,
            "bin_end": 1.1272857901874107,
            "count": 0
           },
           {
            "bin_start": 1.1272857901874107,
            "bin_end": 1.129410049554744,
            "count": 1
           },
           {
            "bin_start": 1.129410049554744,
            "bin_end": 1.1315343089220775,
            "count": 0
           },
           {
            "bin_start": 1.1315343089220775,
            "bin_end": 1.1336585682894107,
            "count": 0
           },
           {
            "bin_start": 1.1336585682894107,
            "bin_end": 1.135782827656744,
            "count": 0
           },
           {
            "bin_start": 1.135782827656744,
            "bin_end": 1.1379070870240775,
            "count": 1
           },
           {
            "bin_start": 1.1379070870240775,
            "bin_end": 1.1400313463914107,
            "count": 1
           },
           {
            "bin_start": 1.1400313463914107,
            "bin_end": 1.142155605758744,
            "count": 1
           }
          ]
         }
        },
        {
         "name": "std_test_score",
         "dtype": "float64",
         "stats": {
          "unique_count": 5,
          "nan_count": 0,
          "min": "0.0764532090896743",
          "max": "0.0894244426556321",
          "histogram": [
           {
            "bin_start": 0.0764532090896743,
            "bin_end": 0.07775033244627008,
            "count": 1
           },
           {
            "bin_start": 0.07775033244627008,
            "bin_end": 0.07904745580286586,
            "count": 0
           },
           {
            "bin_start": 0.07904745580286586,
            "bin_end": 0.08034457915946164,
            "count": 1
           },
           {
            "bin_start": 0.08034457915946164,
            "bin_end": 0.08164170251605742,
            "count": 0
           },
           {
            "bin_start": 0.08164170251605742,
            "bin_end": 0.0829388258726532,
            "count": 0
           },
           {
            "bin_start": 0.0829388258726532,
            "bin_end": 0.08423594922924899,
            "count": 0
           },
           {
            "bin_start": 0.08423594922924899,
            "bin_end": 0.08553307258584476,
            "count": 1
           },
           {
            "bin_start": 0.08553307258584476,
            "bin_end": 0.08683019594244054,
            "count": 1
           },
           {
            "bin_start": 0.08683019594244054,
            "bin_end": 0.08812731929903632,
            "count": 0
           },
           {
            "bin_start": 0.08812731929903632,
            "bin_end": 0.0894244426556321,
            "count": 1
           }
          ]
         }
        },
        {
         "name": "rank_test_score",
         "dtype": "int64",
         "stats": {
          "unique_count": 5,
          "nan_count": 0,
          "min": "619",
          "max": "623",
          "histogram": [
           {
            "bin_start": 619,
            "bin_end": 619.4,
            "count": 1
           },
           {
            "bin_start": 619.4,
            "bin_end": 619.8,
            "count": 0
           },
           {
            "bin_start": 619.8,
            "bin_end": 620.2,
            "count": 1
           },
           {
            "bin_start": 620.2,
            "bin_end": 620.6,
            "count": 0
           },
           {
            "bin_start": 620.6,
            "bin_end": 621,
            "count": 0
           },
           {
            "bin_start": 621,
            "bin_end": 621.4,
            "count": 1
           },
           {
            "bin_start": 621.4,
            "bin_end": 621.8,
            "count": 0
           },
           {
            "bin_start": 621.8,
            "bin_end": 622.2,
            "count": 1
           },
           {
            "bin_start": 622.2,
            "bin_end": 622.6,
            "count": 0
           },
           {
            "bin_start": 622.6,
            "bin_end": 623,
            "count": 1
           }
          ]
         }
        },
        {
         "name": "_deepnote_index_column",
         "dtype": "int64"
        }
       ],
       "rows": [
        {
         "Unnamed: 0": 350,
         "mean_fit_time": 3.9406949043273927,
         "std_fit_time": 1.971696913678438,
         "mean_score_time": 0.0049219131469726,
         "std_score_time": 0.0013506836223773,
         "param_batch_size": 283,
         "param_lr": 0.0200987609861868,
         "param_max_epochs": 1000,
         "param_module__activation_fun": "tanh",
         "param_module__hidden_layers": 2,
         "param_module__num_units": 81,
         "param_optimizer": "<class 'torch.optim.sgd.SGD'>",
         "param_optimizer__momentum": 0.9,
         "param_optimizer__nesterov": false,
         "param_optimizer__weight_decay": 0.0034537270776939,
         "params": "{'batch_size': 283, 'lr': 0.020098760986186816, 'max_epochs': 1000, 'module__activation_fun': 'tanh…",
         "split0_test_score": 1.044643429423073,
         "split1_test_score": 0.9846925379890472,
         "split2_test_score": 1.1146574916416092,
         "split3_test_score": 1.1966032329806708,
         "split4_test_score": 1.2146533328227531,
         "split5_test_score": 1.1268266496577657,
         "split6_test_score": 1.1661589143979818,
         "split7_test_score": 1.0674755560948437,
         "split8_test_score": 1.2628589510581547,
         "split9_test_score": 1.030560024788208,
         "mean_test_score": 1.1209130120854107,
         "std_test_score": 0.0849579260588458,
         "rank_test_score": 623,
         "_deepnote_index_column": 0
        },
        {
         "Unnamed: 0": 582,
         "mean_fit_time": 7.513998579978943,
         "std_fit_time": 2.758514149002551,
         "mean_score_time": 0.0063631772994995,
         "std_score_time": 0.0031141628865078,
         "param_batch_size": 682,
         "param_lr": 0.0110280711063711,
         "param_max_epochs": 1000,
         "param_module__activation_fun": "tanh",
         "param_module__hidden_layers": 2,
         "param_module__num_units": 109,
         "param_optimizer": "<class 'torch.optim.sgd.SGD'>",
         "param_optimizer__momentum": 0.95,
         "param_optimizer__nesterov": false,
         "param_optimizer__weight_decay": 0.0049322583991846,
         "params": "{'batch_size': 682, 'lr': 0.011028071106371152, 'max_epochs': 1000, 'module__activation_fun': 'tanh…",
         "split0_test_score": 1.0255696204932112,
         "split1_test_score": 1.0632254890257256,
         "split2_test_score": 1.13366756549007,
         "split3_test_score": 1.2004296394219076,
         "split4_test_score": 1.2385293455948507,
         "split5_test_score": 1.1702285559245742,
         "split6_test_score": 1.1324204722405375,
         "split7_test_score": 1.0773597869713951,
         "split8_test_score": 1.2402237413128965,
         "split9_test_score": 1.0088730328575228,
         "mean_test_score": 1.1290527249332691,
         "std_test_score": 0.0795764870572477,
         "rank_test_score": 622,
         "_deepnote_index_column": 1
        },
        {
         "Unnamed: 0": 987,
         "mean_fit_time": 3.5479244232177733,
         "std_fit_time": 1.1648195851491658,
         "mean_score_time": 0.0051815509796142,
         "std_score_time": 0.0016182219190167,
         "param_batch_size": 138,
         "param_lr": 0.0055964998539756,
         "param_max_epochs": 1000,
         "param_module__activation_fun": "tanh",
         "param_module__hidden_layers": 2,
         "param_module__num_units": 88,
         "param_optimizer": "<class 'torch.optim.sgd.SGD'>",
         "param_optimizer__momentum": 0.95,
         "param_optimizer__nesterov": true,
         "param_optimizer__weight_decay": 0.0107256819555159,
         "params": "{'batch_size': 138, 'lr': 0.005596499853975679, 'max_epochs': 1000, 'module__activation_fun': 'tanh…",
         "split0_test_score": 1.06826816896971,
         "split1_test_score": 1.0449924779341633,
         "split2_test_score": 1.1618546498729323,
         "split3_test_score": 1.1771458231640937,
         "split4_test_score": 1.2310118592323218,
         "split5_test_score": 1.245563778550105,
         "split6_test_score": 1.1208016572142006,
         "split7_test_score": 1.0569931712785834,
         "split8_test_score": 1.255631143955472,
         "split9_test_score": 1.0018067882029396,
         "mean_test_score": 1.1364069518374522,
         "std_test_score": 0.0866335546210108,
         "rank_test_score": 621,
         "_deepnote_index_column": 2
        },
        {
         "Unnamed: 0": 173,
         "mean_fit_time": 25.31385474205017,
         "std_fit_time": 9.17789099871128,
         "mean_score_time": 0.0052955627441406,
         "std_score_time": 0.0025061738640865,
         "param_batch_size": 1102,
         "param_lr": 0.0027792460686433,
         "param_max_epochs": 1000,
         "param_module__activation_fun": "tanh",
         "param_module__hidden_layers": 2,
         "param_module__num_units": 63,
         "param_optimizer": "<class 'torch.optim.sgd.SGD'>",
         "param_optimizer__momentum": 0.95,
         "param_optimizer__nesterov": false,
         "param_optimizer__weight_decay": 0.0001164007835073,
         "params": "{'batch_size': 1102, 'lr': 0.0027792460686433818, 'max_epochs': 1000, 'module__activation_fun': 'ta…",
         "split0_test_score": 1.125636341736505,
         "split1_test_score": 1.0405752211809158,
         "split2_test_score": 1.1456547927923668,
         "split3_test_score": 1.2397345568340523,
         "split4_test_score": 1.216509916672581,
         "split5_test_score": 1.2305781564542226,
         "split6_test_score": 1.1269975762282098,
         "split7_test_score": 1.0680427468360816,
         "split8_test_score": 1.2339000751761566,
         "split9_test_score": 0.9619966055915664,
         "mean_test_score": 1.138962598950266,
         "std_test_score": 0.0894244426556321,
         "rank_test_score": 620,
         "_deepnote_index_column": 3
        },
        {
         "Unnamed: 0": 751,
         "mean_fit_time": 8.505076718330383,
         "std_fit_time": 4.147213016168667,
         "mean_score_time": 0.0075045347213745,
         "std_score_time": 0.0051889544352259,
         "param_batch_size": 268,
         "param_lr": 0.0734784137054805,
         "param_max_epochs": 1000,
         "param_module__activation_fun": "sigmoid",
         "param_module__hidden_layers": 1,
         "param_module__num_units": 88,
         "param_optimizer": "<class 'torch.optim.sgd.SGD'>",
         "param_optimizer__momentum": 0.9,
         "param_optimizer__nesterov": false,
         "param_optimizer__weight_decay": 0.0017472791358163,
         "params": "{'batch_size': 268, 'lr': 0.07347841370548054, 'max_epochs': 1000, 'module__activation_fun': 'sigmo…",
         "split0_test_score": 1.065704320718471,
         "split1_test_score": 1.0717496662715773,
         "split2_test_score": 1.179601493592661,
         "split3_test_score": 1.2188132050678246,
         "split4_test_score": 1.1967915428760356,
         "split5_test_score": 1.224511442944071,
         "split6_test_score": 1.1220057047063248,
         "split7_test_score": 1.051275024764744,
         "split8_test_score": 1.2502289933145494,
         "split9_test_score": 1.040874663331179,
         "mean_test_score": 1.142155605758744,
         "std_test_score": 0.0764532090896743,
         "rank_test_score": 619,
         "_deepnote_index_column": 4
        }
       ]
      },
      "text/plain": "   Unnamed: 0  mean_fit_time  std_fit_time  mean_score_time  std_score_time  \\\n0         350       3.940695      1.971697         0.004922        0.001351   \n1         582       7.513999      2.758514         0.006363        0.003114   \n2         987       3.547924      1.164820         0.005182        0.001618   \n3         173      25.313855      9.177891         0.005296        0.002506   \n4         751       8.505077      4.147213         0.007505        0.005189   \n\n   param_batch_size  param_lr  param_max_epochs param_module__activation_fun  \\\n0               283  0.020099              1000                         tanh   \n1               682  0.011028              1000                         tanh   \n2               138  0.005596              1000                         tanh   \n3              1102  0.002779              1000                         tanh   \n4               268  0.073478              1000                      sigmoid   \n\n   param_module__hidden_layers  ...  split3_test_score split4_test_score  \\\n0                            2  ...           1.196603          1.214653   \n1                            2  ...           1.200430          1.238529   \n2                            2  ...           1.177146          1.231012   \n3                            2  ...           1.239735          1.216510   \n4                            1  ...           1.218813          1.196792   \n\n   split5_test_score  split6_test_score  split7_test_score split8_test_score  \\\n0           1.126827           1.166159           1.067476          1.262859   \n1           1.170229           1.132420           1.077360          1.240224   \n2           1.245564           1.120802           1.056993          1.255631   \n3           1.230578           1.126998           1.068043          1.233900   \n4           1.224511           1.122006           1.051275          1.250229   \n\n   split9_test_score  mean_test_score  std_test_score  rank_test_score  \n0           1.030560         1.120913        0.084958              623  \n1           1.008873         1.129053        0.079576              622  \n2           1.001807         1.136407        0.086634              621  \n3           0.961997         1.138963        0.089424              620  \n4           1.040875         1.142156        0.076453              619  \n\n[5 rows x 29 columns]",
      "text/html": "<div>\n<style scoped>\n    .dataframe tbody tr th:only-of-type {\n        vertical-align: middle;\n    }\n\n    .dataframe tbody tr th {\n        vertical-align: top;\n    }\n\n    .dataframe thead th {\n        text-align: right;\n    }\n</style>\n<table border=\"1\" class=\"dataframe\">\n  <thead>\n    <tr style=\"text-align: right;\">\n      <th></th>\n      <th>Unnamed: 0</th>\n      <th>mean_fit_time</th>\n      <th>std_fit_time</th>\n      <th>mean_score_time</th>\n      <th>std_score_time</th>\n      <th>param_batch_size</th>\n      <th>param_lr</th>\n      <th>param_max_epochs</th>\n      <th>param_module__activation_fun</th>\n      <th>param_module__hidden_layers</th>\n      <th>...</th>\n      <th>split3_test_score</th>\n      <th>split4_test_score</th>\n      <th>split5_test_score</th>\n      <th>split6_test_score</th>\n      <th>split7_test_score</th>\n      <th>split8_test_score</th>\n      <th>split9_test_score</th>\n      <th>mean_test_score</th>\n      <th>std_test_score</th>\n      <th>rank_test_score</th>\n    </tr>\n  </thead>\n  <tbody>\n    <tr>\n      <th>0</th>\n      <td>350</td>\n      <td>3.940695</td>\n      <td>1.971697</td>\n      <td>0.004922</td>\n      <td>0.001351</td>\n      <td>283</td>\n      <td>0.020099</td>\n      <td>1000</td>\n      <td>tanh</td>\n      <td>2</td>\n      <td>...</td>\n      <td>1.196603</td>\n      <td>1.214653</td>\n      <td>1.126827</td>\n      <td>1.166159</td>\n      <td>1.067476</td>\n      <td>1.262859</td>\n      <td>1.030560</td>\n      <td>1.120913</td>\n      <td>0.084958</td>\n      <td>623</td>\n    </tr>\n    <tr>\n      <th>1</th>\n      <td>582</td>\n      <td>7.513999</td>\n      <td>2.758514</td>\n      <td>0.006363</td>\n      <td>0.003114</td>\n      <td>682</td>\n      <td>0.011028</td>\n      <td>1000</td>\n      <td>tanh</td>\n      <td>2</td>\n      <td>...</td>\n      <td>1.200430</td>\n      <td>1.238529</td>\n      <td>1.170229</td>\n      <td>1.132420</td>\n      <td>1.077360</td>\n      <td>1.240224</td>\n      <td>1.008873</td>\n      <td>1.129053</td>\n      <td>0.079576</td>\n      <td>622</td>\n    </tr>\n    <tr>\n      <th>2</th>\n      <td>987</td>\n      <td>3.547924</td>\n      <td>1.164820</td>\n      <td>0.005182</td>\n      <td>0.001618</td>\n      <td>138</td>\n      <td>0.005596</td>\n      <td>1000</td>\n      <td>tanh</td>\n      <td>2</td>\n      <td>...</td>\n      <td>1.177146</td>\n      <td>1.231012</td>\n      <td>1.245564</td>\n      <td>1.120802</td>\n      <td>1.056993</td>\n      <td>1.255631</td>\n      <td>1.001807</td>\n      <td>1.136407</td>\n      <td>0.086634</td>\n      <td>621</td>\n    </tr>\n    <tr>\n      <th>3</th>\n      <td>173</td>\n      <td>25.313855</td>\n      <td>9.177891</td>\n      <td>0.005296</td>\n      <td>0.002506</td>\n      <td>1102</td>\n      <td>0.002779</td>\n      <td>1000</td>\n      <td>tanh</td>\n      <td>2</td>\n      <td>...</td>\n      <td>1.239735</td>\n      <td>1.216510</td>\n      <td>1.230578</td>\n      <td>1.126998</td>\n      <td>1.068043</td>\n      <td>1.233900</td>\n      <td>0.961997</td>\n      <td>1.138963</td>\n      <td>0.089424</td>\n      <td>620</td>\n    </tr>\n    <tr>\n      <th>4</th>\n      <td>751</td>\n      <td>8.505077</td>\n      <td>4.147213</td>\n      <td>0.007505</td>\n      <td>0.005189</td>\n      <td>268</td>\n      <td>0.073478</td>\n      <td>1000</td>\n      <td>sigmoid</td>\n      <td>1</td>\n      <td>...</td>\n      <td>1.218813</td>\n      <td>1.196792</td>\n      <td>1.224511</td>\n      <td>1.122006</td>\n      <td>1.051275</td>\n      <td>1.250229</td>\n      <td>1.040875</td>\n      <td>1.142156</td>\n      <td>0.076453</td>\n      <td>619</td>\n    </tr>\n  </tbody>\n</table>\n<p>5 rows × 29 columns</p>\n</div>"
     },
     "metadata": {}
    }
   ],
   "execution_count": 20
  },
  {
   "cell_type": "code",
   "metadata": {
    "cell_id": "00017-f984ff7d-b27c-4f70-9063-55b9ea3a50cb",
    "deepnote_to_be_reexecuted": false,
    "execution_millis": 787733,
    "execution_start": 1642785108754,
    "source_hash": "9dd11431",
    "deepnote_cell_type": "code"
   },
   "source": "#get the best params for the grid search (cannot use rand_gs.best_estimator directly since it will yield the worst estimator based on MEE)\nbest_params = df_results['params'][0]\nprint(f\"Mean error on the {k}-folds (MEE) on best model: {df_results['mean_test_score'][0]}\\n\")\nprint(f\"Best params: {best_params}\")",
   "outputs": [
    {
     "name": "stdout",
     "text": "Mean error on the 10-folds (MEE) on best model: 1.1209130120854107\n\nBest params: {'batch_size': 283, 'lr': 0.020098760986186816, 'max_epochs': 1000, 'module__activation_fun': 'tanh', 'module__hidden_layers': 2, 'module__num_units': 81, 'optimizer': <class 'torch.optim.sgd.SGD'>, 'optimizer__momentum': 0.9, 'optimizer__nesterov': False, 'optimizer__weight_decay': 0.0034537270776939686}\n",
     "output_type": "stream"
    }
   ],
   "execution_count": 21
  },
  {
   "cell_type": "code",
   "metadata": {
    "cell_id": "00029-db8353f7-b3dc-487b-9f7c-a54f65ec1d6b",
    "deepnote_to_be_reexecuted": false,
    "source_hash": "6a36063c",
    "execution_start": 1642785108755,
    "execution_millis": 13,
    "deepnote_cell_type": "code"
   },
   "source": "@dataclass\nclass GridSearchRanges:\n    '''Class of keeping track of the min and max values for the hyperparameters tuning'''\n    \n    hidden_layers = []\n    min_lr = 0\n    max_lr = 0\n    min_num_units = 0\n    max_num_units = 0\n    min_weight_decay = 0\n    max_weight_decay = 0\n    min_bs = 0\n    max_bs = 0\n    \n    def set_ranges(self):\n\n        self.hidden_layers = np.unique(df_results['param_module__hidden_layers'])\n        self.hidden_layers = self.hidden_layers.ravel() #convert to array\n        print(f\"hidden layers: {self.hidden_layers}\")\n\n        self.min_lr = np.min(df_results['param_lr'])\n        self.max_lr = np.max(df_results['param_lr'])\n        print(f\"learning rate: [{self.min_lr}, {self.max_lr}]\")\n        \n        self.min_num_units = np.min(df_results['param_module__num_units'])\n        self.max_num_units = np.max(df_results['param_module__num_units'])\n        print(f\"num units: [{self.min_num_units}, {self.max_num_units}]\")\n\n        self.min_weight_decay = np.min(df_results['param_optimizer__weight_decay'])\n        self.max_weight_decay = np.max(df_results['param_optimizer__weight_decay'])\n        print(f\"weight decay: [{self.min_weight_decay}, {self.max_weight_decay}]\")\n\n        self.min_bs = np.min(df_results['param_batch_size'])\n        self.max_bs = np.max(df_results['param_batch_size'])\n        print(f\"batch size: [{self.min_bs}, {self.max_bs}]\")\n    \n    ",
   "outputs": [],
   "execution_count": 22
  },
  {
   "cell_type": "code",
   "metadata": {
    "cell_id": "00030-902d7b17-b610-4d29-875e-d61dc1762acc",
    "deepnote_to_be_reexecuted": false,
    "source_hash": "9ccb58bf",
    "execution_start": 1642785108755,
    "execution_millis": 13,
    "deepnote_cell_type": "code"
   },
   "source": "gs = GridSearchRanges()\ngs.set_ranges()",
   "outputs": [
    {
     "name": "stdout",
     "text": "hidden layers: [1 2]\nlearning rate: [0.0008988870725362, 0.0883889696278408]\nnum units: [10, 125]\nweight decay: [0.0001164007835073, 0.0477990997654625]\nbatch size: [85, 1306]\n",
     "output_type": "stream"
    }
   ],
   "execution_count": 23
  },
  {
   "cell_type": "markdown",
   "source": "### Second Randomized Search using min e max values",
   "metadata": {
    "cell_id": "00031-0c36ae95-8613-41e2-a7ef-023a8a4a84a2",
    "deepnote_cell_type": "markdown"
   }
  },
  {
   "cell_type": "code",
   "metadata": {
    "cell_id": "00032-11f757c0-1158-41aa-bc04-0588bcec3bf2",
    "deepnote_to_be_reexecuted": false,
    "source_hash": "87b9b226",
    "execution_start": 1642785108756,
    "execution_millis": 0,
    "deepnote_cell_type": "code"
   },
   "source": "%%script false --no-raise-error\n\n# to find the best set of parameter setting, we can run a randomized search\n\n# define the parameters' values\nparams = {\n    'lr': uniform(gs.min_lr, gs.max_lr),\n    'max_epochs': [1000], #upper bound of max number of epochs\n    'optimizer': [torch.optim.SGD],\n    'optimizer__momentum': [0.9, 0.95], ##optimizer__ indicates that it is a parameter of the optimizer\n    'optimizer__weight_decay': uniform(gs.min_weight_decay, gs.max_weight_decay),\n    'optimizer__nesterov': [False, True],\n    'module__num_units': randint(gs.min_num_units, gs.max_num_units), #module__ indicates that it is a parameter of the module\n    'module__hidden_layers': [1,2],\n    'module__activation_fun': [\"sigmoid\", \"tanh\", \"relu\"],\n    'batch_size': randint(gs.min_bs, gs.max_bs),\n}\n\n# define the grid search\nrand_gs = RandomizedSearchCV(\n    model,\n    param_distributions=params,\n    n_iter=n_iter_search,\n    n_jobs=-1,\n    scoring=make_scorer(mee), #scoring is based on the highest value so we use the inverse of the MEE loss function\n    cv=k,\n    random_state=RS_NUMBER,\n    verbose=10\n)\n# run the grid search\nrand_gs.fit(X, y)\n",
   "outputs": [],
   "execution_count": 24
  },
  {
   "cell_type": "code",
   "metadata": {
    "cell_id": "00033-7e9b5a5d-376c-4152-8475-fd9cdeb0c14d",
    "deepnote_to_be_reexecuted": false,
    "source_hash": "3463c6b0",
    "execution_start": 1642785108757,
    "execution_millis": 0,
    "deepnote_cell_type": "code"
   },
   "source": "%%script false --no-raise-error\n\ndf_results = pd.DataFrame(data=rand_gs.cv_results_) #trasform into a pandas dataframe\ndf_results.sort_values(by=\"rank_test_score\", axis=0, ascending=False, inplace=True) #sort rank values in decreasing order \ndf_results.dropna(inplace=True) #delete nan values \ndf_results = df_results[:50] #keep only top 50 models\npd.DataFrame.to_csv(df_results, \"pytorch_results/rand2_search.csv\")",
   "outputs": [],
   "execution_count": 25
  },
  {
   "cell_type": "code",
   "metadata": {
    "cell_id": "00034-9ef3530c-044a-4bec-a17a-a807b89c0368",
    "deepnote_to_be_reexecuted": false,
    "source_hash": "9c45505b",
    "execution_start": 1642785108758,
    "execution_millis": 117,
    "deepnote_cell_type": "code"
   },
   "source": "df_results = pd.read_csv(\"pytorch_results/rand2_search.csv\")\ndf_results.head()",
   "outputs": [
    {
     "output_type": "execute_result",
     "execution_count": 26,
     "data": {
      "application/vnd.deepnote.dataframe.v3+json": {
       "column_count": 29,
       "row_count": 5,
       "columns": [
        {
         "name": "Unnamed: 0",
         "dtype": "int64",
         "stats": {
          "unique_count": 5,
          "nan_count": 0,
          "min": "61",
          "max": "811",
          "histogram": [
           {
            "bin_start": 61,
            "bin_end": 136,
            "count": 1
           },
           {
            "bin_start": 136,
            "bin_end": 211,
            "count": 1
           },
           {
            "bin_start": 211,
            "bin_end": 286,
            "count": 0
           },
           {
            "bin_start": 286,
            "bin_end": 361,
            "count": 0
           },
           {
            "bin_start": 361,
            "bin_end": 436,
            "count": 0
           },
           {
            "bin_start": 436,
            "bin_end": 511,
            "count": 0
           },
           {
            "bin_start": 511,
            "bin_end": 586,
            "count": 1
           },
           {
            "bin_start": 586,
            "bin_end": 661,
            "count": 0
           },
           {
            "bin_start": 661,
            "bin_end": 736,
            "count": 0
           },
           {
            "bin_start": 736,
            "bin_end": 811,
            "count": 2
           }
          ]
         }
        },
        {
         "name": "mean_fit_time",
         "dtype": "float64",
         "stats": {
          "unique_count": 5,
          "nan_count": 0,
          "min": "7.907077813148499",
          "max": "16.247680068016052",
          "histogram": [
           {
            "bin_start": 7.907077813148499,
            "bin_end": 8.741138038635254,
            "count": 1
           },
           {
            "bin_start": 8.741138038635254,
            "bin_end": 9.57519826412201,
            "count": 2
           },
           {
            "bin_start": 9.57519826412201,
            "bin_end": 10.409258489608764,
            "count": 0
           },
           {
            "bin_start": 10.409258489608764,
            "bin_end": 11.24331871509552,
            "count": 0
           },
           {
            "bin_start": 11.24331871509552,
            "bin_end": 12.077378940582275,
            "count": 1
           },
           {
            "bin_start": 12.077378940582275,
            "bin_end": 12.91143916606903,
            "count": 0
           },
           {
            "bin_start": 12.91143916606903,
            "bin_end": 13.745499391555786,
            "count": 0
           },
           {
            "bin_start": 13.745499391555786,
            "bin_end": 14.579559617042541,
            "count": 0
           },
           {
            "bin_start": 14.579559617042541,
            "bin_end": 15.413619842529297,
            "count": 0
           },
           {
            "bin_start": 15.413619842529297,
            "bin_end": 16.247680068016052,
            "count": 1
           }
          ]
         }
        },
        {
         "name": "std_fit_time",
         "dtype": "float64",
         "stats": {
          "unique_count": 5,
          "nan_count": 0,
          "min": "3.242384750970152",
          "max": "8.818188789865987",
          "histogram": [
           {
            "bin_start": 3.242384750970152,
            "bin_end": 3.799965154859736,
            "count": 2
           },
           {
            "bin_start": 3.799965154859736,
            "bin_end": 4.357545558749319,
            "count": 0
           },
           {
            "bin_start": 4.357545558749319,
            "bin_end": 4.915125962638903,
            "count": 0
           },
           {
            "bin_start": 4.915125962638903,
            "bin_end": 5.472706366528486,
            "count": 0
           },
           {
            "bin_start": 5.472706366528486,
            "bin_end": 6.03028677041807,
            "count": 0
           },
           {
            "bin_start": 6.03028677041807,
            "bin_end": 6.587867174307654,
            "count": 0
           },
           {
            "bin_start": 6.587867174307654,
            "bin_end": 7.145447578197237,
            "count": 0
           },
           {
            "bin_start": 7.145447578197237,
            "bin_end": 7.70302798208682,
            "count": 1
           },
           {
            "bin_start": 7.70302798208682,
            "bin_end": 8.260608385976404,
            "count": 0
           },
           {
            "bin_start": 8.260608385976404,
            "bin_end": 8.818188789865987,
            "count": 2
           }
          ]
         }
        },
        {
         "name": "mean_score_time",
         "dtype": "float64",
         "stats": {
          "unique_count": 5,
          "nan_count": 0,
          "min": "0.0035315752029418",
          "max": "0.0063200235366821",
          "histogram": [
           {
            "bin_start": 0.0035315752029418,
            "bin_end": 0.00381042003631583,
            "count": 1
           },
           {
            "bin_start": 0.00381042003631583,
            "bin_end": 0.00408926486968986,
            "count": 0
           },
           {
            "bin_start": 0.00408926486968986,
            "bin_end": 0.00436810970306389,
            "count": 1
           },
           {
            "bin_start": 0.00436810970306389,
            "bin_end": 0.00464695453643792,
            "count": 0
           },
           {
            "bin_start": 0.00464695453643792,
            "bin_end": 0.00492579936981195,
            "count": 0
           },
           {
            "bin_start": 0.00492579936981195,
            "bin_end": 0.00520464420318598,
            "count": 2
           },
           {
            "bin_start": 0.00520464420318598,
            "bin_end": 0.00548348903656001,
            "count": 0
           },
           {
            "bin_start": 0.00548348903656001,
            "bin_end": 0.005762333869934039,
            "count": 0
           },
           {
            "bin_start": 0.005762333869934039,
            "bin_end": 0.006041178703308069,
            "count": 0
           },
           {
            "bin_start": 0.006041178703308069,
            "bin_end": 0.0063200235366821,
            "count": 1
           }
          ]
         }
        },
        {
         "name": "std_score_time",
         "dtype": "float64",
         "stats": {
          "unique_count": 5,
          "nan_count": 0,
          "min": "0.0014978370842317",
          "max": "0.0046829207921407",
          "histogram": [
           {
            "bin_start": 0.0014978370842317,
            "bin_end": 0.0018163454550226001,
            "count": 1
           },
           {
            "bin_start": 0.0018163454550226001,
            "bin_end": 0.0021348538258135,
            "count": 0
           },
           {
            "bin_start": 0.0021348538258135,
            "bin_end": 0.0024533621966044,
            "count": 1
           },
           {
            "bin_start": 0.0024533621966044,
            "bin_end": 0.0027718705673953,
            "count": 1
           },
           {
            "bin_start": 0.0027718705673953,
            "bin_end": 0.0030903789381862,
            "count": 0
           },
           {
            "bin_start": 0.0030903789381862,
            "bin_end": 0.0034088873089771,
            "count": 1
           },
           {
            "bin_start": 0.0034088873089771,
            "bin_end": 0.0037273956797680002,
            "count": 0
           },
           {
            "bin_start": 0.0037273956797680002,
            "bin_end": 0.0040459040505589,
            "count": 0
           },
           {
            "bin_start": 0.0040459040505589,
            "bin_end": 0.0043644124213498,
            "count": 0
           },
           {
            "bin_start": 0.0043644124213498,
            "bin_end": 0.0046829207921407,
            "count": 1
           }
          ]
         }
        },
        {
         "name": "param_batch_size",
         "dtype": "int64",
         "stats": {
          "unique_count": 5,
          "nan_count": 0,
          "min": "193",
          "max": "969",
          "histogram": [
           {
            "bin_start": 193,
            "bin_end": 270.6,
            "count": 1
           },
           {
            "bin_start": 270.6,
            "bin_end": 348.2,
            "count": 0
           },
           {
            "bin_start": 348.2,
            "bin_end": 425.79999999999995,
            "count": 1
           },
           {
            "bin_start": 425.79999999999995,
            "bin_end": 503.4,
            "count": 0
           },
           {
            "bin_start": 503.4,
            "bin_end": 581,
            "count": 1
           },
           {
            "bin_start": 581,
            "bin_end": 658.5999999999999,
            "count": 0
           },
           {
            "bin_start": 658.5999999999999,
            "bin_end": 736.1999999999999,
            "count": 0
           },
           {
            "bin_start": 736.1999999999999,
            "bin_end": 813.8,
            "count": 1
           },
           {
            "bin_start": 813.8,
            "bin_end": 891.4,
            "count": 0
           },
           {
            "bin_start": 891.4,
            "bin_end": 969,
            "count": 1
           }
          ]
         }
        },
        {
         "name": "param_lr",
         "dtype": "float64",
         "stats": {
          "unique_count": 5,
          "nan_count": 0,
          "min": "0.0082063401568712",
          "max": "0.0657573108760647",
          "histogram": [
           {
            "bin_start": 0.0082063401568712,
            "bin_end": 0.01396143722879055,
            "count": 3
           },
           {
            "bin_start": 0.01396143722879055,
            "bin_end": 0.019716534300709902,
            "count": 0
           },
           {
            "bin_start": 0.019716534300709902,
            "bin_end": 0.025471631372629252,
            "count": 0
           },
           {
            "bin_start": 0.025471631372629252,
            "bin_end": 0.0312267284445486,
            "count": 0
           },
           {
            "bin_start": 0.0312267284445486,
            "bin_end": 0.03698182551646795,
            "count": 0
           },
           {
            "bin_start": 0.03698182551646795,
            "bin_end": 0.04273692258838731,
            "count": 0
           },
           {
            "bin_start": 0.04273692258838731,
            "bin_end": 0.048492019660306654,
            "count": 1
           },
           {
            "bin_start": 0.048492019660306654,
            "bin_end": 0.054247116732226,
            "count": 0
           },
           {
            "bin_start": 0.054247116732226,
            "bin_end": 0.06000221380414536,
            "count": 0
           },
           {
            "bin_start": 0.06000221380414536,
            "bin_end": 0.0657573108760647,
            "count": 1
           }
          ]
         }
        },
        {
         "name": "param_max_epochs",
         "dtype": "int64",
         "stats": {
          "unique_count": 1,
          "nan_count": 0,
          "min": "1000",
          "max": "1000",
          "histogram": [
           {
            "bin_start": 999.5,
            "bin_end": 999.6,
            "count": 0
           },
           {
            "bin_start": 999.6,
            "bin_end": 999.7,
            "count": 0
           },
           {
            "bin_start": 999.7,
            "bin_end": 999.8,
            "count": 0
           },
           {
            "bin_start": 999.8,
            "bin_end": 999.9,
            "count": 0
           },
           {
            "bin_start": 999.9,
            "bin_end": 1000,
            "count": 0
           },
           {
            "bin_start": 1000,
            "bin_end": 1000.1,
            "count": 5
           },
           {
            "bin_start": 1000.1,
            "bin_end": 1000.2,
            "count": 0
           },
           {
            "bin_start": 1000.2,
            "bin_end": 1000.3,
            "count": 0
           },
           {
            "bin_start": 1000.3,
            "bin_end": 1000.4,
            "count": 0
           },
           {
            "bin_start": 1000.4,
            "bin_end": 1000.5,
            "count": 0
           }
          ]
         }
        },
        {
         "name": "param_module__activation_fun",
         "dtype": "object",
         "stats": {
          "unique_count": 2,
          "nan_count": 0,
          "categories": [
           {
            "name": "tanh",
            "count": 3
           },
           {
            "name": "sigmoid",
            "count": 2
           }
          ]
         }
        },
        {
         "name": "param_module__hidden_layers",
         "dtype": "int64",
         "stats": {
          "unique_count": 2,
          "nan_count": 0,
          "min": "1",
          "max": "2",
          "histogram": [
           {
            "bin_start": 1,
            "bin_end": 1.1,
            "count": 2
           },
           {
            "bin_start": 1.1,
            "bin_end": 1.2,
            "count": 0
           },
           {
            "bin_start": 1.2,
            "bin_end": 1.3,
            "count": 0
           },
           {
            "bin_start": 1.3,
            "bin_end": 1.4,
            "count": 0
           },
           {
            "bin_start": 1.4,
            "bin_end": 1.5,
            "count": 0
           },
           {
            "bin_start": 1.5,
            "bin_end": 1.6,
            "count": 0
           },
           {
            "bin_start": 1.6,
            "bin_end": 1.7000000000000002,
            "count": 0
           },
           {
            "bin_start": 1.7000000000000002,
            "bin_end": 1.8,
            "count": 0
           },
           {
            "bin_start": 1.8,
            "bin_end": 1.9,
            "count": 0
           },
           {
            "bin_start": 1.9,
            "bin_end": 2,
            "count": 3
           }
          ]
         }
        },
        {
         "name": "param_module__num_units",
         "dtype": "int64",
         "stats": {
          "unique_count": 5,
          "nan_count": 0,
          "min": "45",
          "max": "119",
          "histogram": [
           {
            "bin_start": 45,
            "bin_end": 52.4,
            "count": 1
           },
           {
            "bin_start": 52.4,
            "bin_end": 59.8,
            "count": 0
           },
           {
            "bin_start": 59.8,
            "bin_end": 67.2,
            "count": 0
           },
           {
            "bin_start": 67.2,
            "bin_end": 74.6,
            "count": 0
           },
           {
            "bin_start": 74.6,
            "bin_end": 82,
            "count": 0
           },
           {
            "bin_start": 82,
            "bin_end": 89.4,
            "count": 0
           },
           {
            "bin_start": 89.4,
            "bin_end": 96.80000000000001,
            "count": 1
           },
           {
            "bin_start": 96.80000000000001,
            "bin_end": 104.2,
            "count": 1
           },
           {
            "bin_start": 104.2,
            "bin_end": 111.60000000000001,
            "count": 0
           },
           {
            "bin_start": 111.60000000000001,
            "bin_end": 119,
            "count": 2
           }
          ]
         }
        },
        {
         "name": "param_optimizer",
         "dtype": "object",
         "stats": {
          "unique_count": 1,
          "nan_count": 0,
          "categories": [
           {
            "name": "<class 'torch.optim.sgd.SGD'>",
            "count": 5
           }
          ]
         }
        },
        {
         "name": "param_optimizer__momentum",
         "dtype": "float64",
         "stats": {
          "unique_count": 2,
          "nan_count": 0,
          "min": "0.9",
          "max": "0.95",
          "histogram": [
           {
            "bin_start": 0.9,
            "bin_end": 0.905,
            "count": 3
           },
           {
            "bin_start": 0.905,
            "bin_end": 0.91,
            "count": 0
           },
           {
            "bin_start": 0.91,
            "bin_end": 0.915,
            "count": 0
           },
           {
            "bin_start": 0.915,
            "bin_end": 0.92,
            "count": 0
           },
           {
            "bin_start": 0.92,
            "bin_end": 0.925,
            "count": 0
           },
           {
            "bin_start": 0.925,
            "bin_end": 0.9299999999999999,
            "count": 0
           },
           {
            "bin_start": 0.9299999999999999,
            "bin_end": 0.9349999999999999,
            "count": 0
           },
           {
            "bin_start": 0.9349999999999999,
            "bin_end": 0.94,
            "count": 0
           },
           {
            "bin_start": 0.94,
            "bin_end": 0.945,
            "count": 0
           },
           {
            "bin_start": 0.945,
            "bin_end": 0.95,
            "count": 2
           }
          ]
         }
        },
        {
         "name": "param_optimizer__nesterov",
         "dtype": "bool",
         "stats": {
          "unique_count": 2,
          "nan_count": 0,
          "categories": [
           {
            "name": "False",
            "count": 4
           },
           {
            "name": "True",
            "count": 1
           }
          ]
         }
        },
        {
         "name": "param_optimizer__weight_decay",
         "dtype": "float64",
         "stats": {
          "unique_count": 5,
          "nan_count": 0,
          "min": "0.0003180105852319",
          "max": "0.0068403345652914",
          "histogram": [
           {
            "bin_start": 0.0003180105852319,
            "bin_end": 0.00097024298323785,
            "count": 2
           },
           {
            "bin_start": 0.00097024298323785,
            "bin_end": 0.0016224753812438,
            "count": 0
           },
           {
            "bin_start": 0.0016224753812438,
            "bin_end": 0.0022747077792497497,
            "count": 0
           },
           {
            "bin_start": 0.0022747077792497497,
            "bin_end": 0.0029269401772557,
            "count": 1
           },
           {
            "bin_start": 0.0029269401772557,
            "bin_end": 0.00357917257526165,
            "count": 0
           },
           {
            "bin_start": 0.00357917257526165,
            "bin_end": 0.0042314049732676,
            "count": 0
           },
           {
            "bin_start": 0.0042314049732676,
            "bin_end": 0.00488363737127355,
            "count": 0
           },
           {
            "bin_start": 0.00488363737127355,
            "bin_end": 0.0055358697692795,
            "count": 1
           },
           {
            "bin_start": 0.0055358697692795,
            "bin_end": 0.00618810216728545,
            "count": 0
           },
           {
            "bin_start": 0.00618810216728545,
            "bin_end": 0.0068403345652914,
            "count": 1
           }
          ]
         }
        },
        {
         "name": "params",
         "dtype": "object",
         "stats": {
          "unique_count": 5,
          "nan_count": 0,
          "categories": [
           {
            "name": "{'batch_size': 969, 'lr': 0.01183645465779384, 'max_epochs': 1000, 'module__activation_fun': 'tanh', 'module__hidden_layers': 2, 'module__num_units': 98, 'optimizer': <class 'torch.optim.sgd.SGD'>, 'optimizer__momentum': 0.9, 'optimizer__nesterov': False, 'optimizer__weight_decay': 0.005431615520537502}",
            "count": 1
           },
           {
            "name": "{'batch_size': 193, 'lr': 0.008206340156871269, 'max_epochs': 1000, 'module__activation_fun': 'tanh', 'module__hidden_layers': 2, 'module__num_units': 119, 'optimizer': <class 'torch.optim.sgd.SGD'>, 'optimizer__momentum': 0.95, 'optimizer__nesterov': True, 'optimizer__weight_decay': 0.00684033456529144}",
            "count": 1
           },
           {
            "name": "3 others",
            "count": 3
           }
          ]
         }
        },
        {
         "name": "split0_test_score",
         "dtype": "float64",
         "stats": {
          "unique_count": 5,
          "nan_count": 0,
          "min": "1.0440005076755037",
          "max": "1.0744037247521985",
          "histogram": [
           {
            "bin_start": 1.0440005076755037,
            "bin_end": 1.0470408293831732,
            "count": 1
           },
           {
            "bin_start": 1.0470408293831732,
            "bin_end": 1.0500811510908425,
            "count": 1
           },
           {
            "bin_start": 1.0500811510908425,
            "bin_end": 1.053121472798512,
            "count": 0
           },
           {
            "bin_start": 1.053121472798512,
            "bin_end": 1.0561617945061816,
            "count": 0
           },
           {
            "bin_start": 1.0561617945061816,
            "bin_end": 1.059202116213851,
            "count": 0
           },
           {
            "bin_start": 1.059202116213851,
            "bin_end": 1.0622424379215205,
            "count": 2
           },
           {
            "bin_start": 1.0622424379215205,
            "bin_end": 1.06528275962919,
            "count": 0
           },
           {
            "bin_start": 1.06528275962919,
            "bin_end": 1.0683230813368596,
            "count": 0
           },
           {
            "bin_start": 1.0683230813368596,
            "bin_end": 1.071363403044529,
            "count": 0
           },
           {
            "bin_start": 1.071363403044529,
            "bin_end": 1.0744037247521985,
            "count": 1
           }
          ]
         }
        },
        {
         "name": "split1_test_score",
         "dtype": "float64",
         "stats": {
          "unique_count": 5,
          "nan_count": 0,
          "min": "1.0023382486761512",
          "max": "1.0585571619773049",
          "histogram": [
           {
            "bin_start": 1.0023382486761512,
            "bin_end": 1.0079601400062665,
            "count": 1
           },
           {
            "bin_start": 1.0079601400062665,
            "bin_end": 1.013582031336382,
            "count": 0
           },
           {
            "bin_start": 1.013582031336382,
            "bin_end": 1.0192039226664973,
            "count": 1
           },
           {
            "bin_start": 1.0192039226664973,
            "bin_end": 1.0248258139966127,
            "count": 0
           },
           {
            "bin_start": 1.0248258139966127,
            "bin_end": 1.030447705326728,
            "count": 0
           },
           {
            "bin_start": 1.030447705326728,
            "bin_end": 1.0360695966568434,
            "count": 1
           },
           {
            "bin_start": 1.0360695966568434,
            "bin_end": 1.0416914879869588,
            "count": 1
           },
           {
            "bin_start": 1.0416914879869588,
            "bin_end": 1.0473133793170741,
            "count": 0
           },
           {
            "bin_start": 1.0473133793170741,
            "bin_end": 1.0529352706471895,
            "count": 0
           },
           {
            "bin_start": 1.0529352706471895,
            "bin_end": 1.0585571619773049,
            "count": 1
           }
          ]
         }
        },
        {
         "name": "split2_test_score",
         "dtype": "float64",
         "stats": {
          "unique_count": 5,
          "nan_count": 0,
          "min": "1.1302228316776737",
          "max": "1.1745520811668015",
          "histogram": [
           {
            "bin_start": 1.1302228316776737,
            "bin_end": 1.1346557566265865,
            "count": 2
           },
           {
            "bin_start": 1.1346557566265865,
            "bin_end": 1.1390886815754993,
            "count": 0
           },
           {
            "bin_start": 1.1390886815754993,
            "bin_end": 1.143521606524412,
            "count": 0
           },
           {
            "bin_start": 1.143521606524412,
            "bin_end": 1.1479545314733248,
            "count": 0
           },
           {
            "bin_start": 1.1479545314733248,
            "bin_end": 1.1523874564222376,
            "count": 2
           },
           {
            "bin_start": 1.1523874564222376,
            "bin_end": 1.1568203813711504,
            "count": 0
           },
           {
            "bin_start": 1.1568203813711504,
            "bin_end": 1.1612533063200632,
            "count": 0
           },
           {
            "bin_start": 1.1612533063200632,
            "bin_end": 1.165686231268976,
            "count": 0
           },
           {
            "bin_start": 1.165686231268976,
            "bin_end": 1.1701191562178888,
            "count": 0
           },
           {
            "bin_start": 1.1701191562178888,
            "bin_end": 1.1745520811668015,
            "count": 1
           }
          ]
         }
        },
        {
         "name": "split3_test_score",
         "dtype": "float64",
         "stats": {
          "unique_count": 5,
          "nan_count": 0,
          "min": "1.181679835613061",
          "max": "1.2617025413459404",
          "histogram": [
           {
            "bin_start": 1.181679835613061,
            "bin_end": 1.189682106186349,
            "count": 2
           },
           {
            "bin_start": 1.189682106186349,
            "bin_end": 1.1976843767596368,
            "count": 0
           },
           {
            "bin_start": 1.1976843767596368,
            "bin_end": 1.2056866473329246,
            "count": 1
           },
           {
            "bin_start": 1.2056866473329246,
            "bin_end": 1.2136889179062127,
            "count": 1
           },
           {
            "bin_start": 1.2136889179062127,
            "bin_end": 1.2216911884795008,
            "count": 0
           },
           {
            "bin_start": 1.2216911884795008,
            "bin_end": 1.2296934590527886,
            "count": 0
           },
           {
            "bin_start": 1.2296934590527886,
            "bin_end": 1.2376957296260764,
            "count": 0
           },
           {
            "bin_start": 1.2376957296260764,
            "bin_end": 1.2456980001993645,
            "count": 0
           },
           {
            "bin_start": 1.2456980001993645,
            "bin_end": 1.2537002707726526,
            "count": 0
           },
           {
            "bin_start": 1.2537002707726526,
            "bin_end": 1.2617025413459404,
            "count": 1
           }
          ]
         }
        },
        {
         "name": "split4_test_score",
         "dtype": "float64",
         "stats": {
          "unique_count": 5,
          "nan_count": 0,
          "min": "1.1720904599651134",
          "max": "1.2111530448485135",
          "histogram": [
           {
            "bin_start": 1.1720904599651134,
            "bin_end": 1.1759967184534534,
            "count": 1
           },
           {
            "bin_start": 1.1759967184534534,
            "bin_end": 1.1799029769417935,
            "count": 0
           },
           {
            "bin_start": 1.1799029769417935,
            "bin_end": 1.1838092354301335,
            "count": 0
           },
           {
            "bin_start": 1.1838092354301335,
            "bin_end": 1.1877154939184735,
            "count": 0
           },
           {
            "bin_start": 1.1877154939184735,
            "bin_end": 1.1916217524068133,
            "count": 0
           },
           {
            "bin_start": 1.1916217524068133,
            "bin_end": 1.1955280108951534,
            "count": 1
           },
           {
            "bin_start": 1.1955280108951534,
            "bin_end": 1.1994342693834934,
            "count": 0
           },
           {
            "bin_start": 1.1994342693834934,
            "bin_end": 1.2033405278718334,
            "count": 0
           },
           {
            "bin_start": 1.2033405278718334,
            "bin_end": 1.2072467863601735,
            "count": 1
           },
           {
            "bin_start": 1.2072467863601735,
            "bin_end": 1.2111530448485135,
            "count": 2
           }
          ]
         }
        },
        {
         "name": "split5_test_score",
         "dtype": "float64",
         "stats": {
          "unique_count": 5,
          "nan_count": 0,
          "min": "1.1686522658158065",
          "max": "1.2195959107712246",
          "histogram": [
           {
            "bin_start": 1.1686522658158065,
            "bin_end": 1.1737466303113484,
            "count": 1
           },
           {
            "bin_start": 1.1737466303113484,
            "bin_end": 1.17884099480689,
            "count": 0
           },
           {
            "bin_start": 1.17884099480689,
            "bin_end": 1.183935359302432,
            "count": 0
           },
           {
            "bin_start": 1.183935359302432,
            "bin_end": 1.1890297237979737,
            "count": 0
           },
           {
            "bin_start": 1.1890297237979737,
            "bin_end": 1.1941240882935156,
            "count": 0
           },
           {
            "bin_start": 1.1941240882935156,
            "bin_end": 1.1992184527890575,
            "count": 2
           },
           {
            "bin_start": 1.1992184527890575,
            "bin_end": 1.2043128172845992,
            "count": 0
           },
           {
            "bin_start": 1.2043128172845992,
            "bin_end": 1.209407181780141,
            "count": 0
           },
           {
            "bin_start": 1.209407181780141,
            "bin_end": 1.2145015462756827,
            "count": 0
           },
           {
            "bin_start": 1.2145015462756827,
            "bin_end": 1.2195959107712246,
            "count": 2
           }
          ]
         }
        },
        {
         "name": "split6_test_score",
         "dtype": "float64",
         "stats": {
          "unique_count": 5,
          "nan_count": 0,
          "min": "1.0966161705721589",
          "max": "1.1642560657477916",
          "histogram": [
           {
            "bin_start": 1.0966161705721589,
            "bin_end": 1.1033801600897222,
            "count": 1
           },
           {
            "bin_start": 1.1033801600897222,
            "bin_end": 1.1101441496072855,
            "count": 0
           },
           {
            "bin_start": 1.1101441496072855,
            "bin_end": 1.1169081391248488,
            "count": 1
           },
           {
            "bin_start": 1.1169081391248488,
            "bin_end": 1.123672128642412,
            "count": 1
           },
           {
            "bin_start": 1.123672128642412,
            "bin_end": 1.1304361181599751,
            "count": 0
           },
           {
            "bin_start": 1.1304361181599751,
            "bin_end": 1.1372001076775384,
            "count": 1
           },
           {
            "bin_start": 1.1372001076775384,
            "bin_end": 1.1439640971951017,
            "count": 0
           },
           {
            "bin_start": 1.1439640971951017,
            "bin_end": 1.150728086712665,
            "count": 0
           },
           {
            "bin_start": 1.150728086712665,
            "bin_end": 1.1574920762302283,
            "count": 0
           },
           {
            "bin_start": 1.1574920762302283,
            "bin_end": 1.1642560657477916,
            "count": 1
           }
          ]
         }
        },
        {
         "name": "split7_test_score",
         "dtype": "float64",
         "stats": {
          "unique_count": 5,
          "nan_count": 0,
          "min": "1.0280396596045422",
          "max": "1.0840058871930032",
          "histogram": [
           {
            "bin_start": 1.0280396596045422,
            "bin_end": 1.0336362823633882,
            "count": 1
           },
           {
            "bin_start": 1.0336362823633882,
            "bin_end": 1.0392329051222344,
            "count": 0
           },
           {
            "bin_start": 1.0392329051222344,
            "bin_end": 1.0448295278810806,
            "count": 0
           },
           {
            "bin_start": 1.0448295278810806,
            "bin_end": 1.0504261506399266,
            "count": 0
           },
           {
            "bin_start": 1.0504261506399266,
            "bin_end": 1.0560227733987726,
            "count": 2
           },
           {
            "bin_start": 1.0560227733987726,
            "bin_end": 1.0616193961576188,
            "count": 1
           },
           {
            "bin_start": 1.0616193961576188,
            "bin_end": 1.067216018916465,
            "count": 0
           },
           {
            "bin_start": 1.067216018916465,
            "bin_end": 1.072812641675311,
            "count": 0
           },
           {
            "bin_start": 1.072812641675311,
            "bin_end": 1.078409264434157,
            "count": 0
           },
           {
            "bin_start": 1.078409264434157,
            "bin_end": 1.0840058871930032,
            "count": 1
           }
          ]
         }
        },
        {
         "name": "split8_test_score",
         "dtype": "float64",
         "stats": {
          "unique_count": 5,
          "nan_count": 0,
          "min": "1.1605019024888377",
          "max": "1.236585924135787",
          "histogram": [
           {
            "bin_start": 1.1605019024888377,
            "bin_end": 1.1681103046535326,
            "count": 1
           },
           {
            "bin_start": 1.1681103046535326,
            "bin_end": 1.1757187068182275,
            "count": 0
           },
           {
            "bin_start": 1.1757187068182275,
            "bin_end": 1.1833271089829225,
            "count": 1
           },
           {
            "bin_start": 1.1833271089829225,
            "bin_end": 1.1909355111476174,
            "count": 0
           },
           {
            "bin_start": 1.1909355111476174,
            "bin_end": 1.1985439133123124,
            "count": 0
           },
           {
            "bin_start": 1.1985439133123124,
            "bin_end": 1.2061523154770073,
            "count": 0
           },
           {
            "bin_start": 1.2061523154770073,
            "bin_end": 1.2137607176417022,
            "count": 0
           },
           {
            "bin_start": 1.2137607176417022,
            "bin_end": 1.2213691198063972,
            "count": 0
           },
           {
            "bin_start": 1.2213691198063972,
            "bin_end": 1.2289775219710921,
            "count": 0
           },
           {
            "bin_start": 1.2289775219710921,
            "bin_end": 1.236585924135787,
            "count": 3
           }
          ]
         }
        },
        {
         "name": "split9_test_score",
         "dtype": "float64",
         "stats": {
          "unique_count": 5,
          "nan_count": 0,
          "min": "0.9691511824670614",
          "max": "1.106575495986776",
          "histogram": [
           {
            "bin_start": 0.9691511824670614,
            "bin_end": 0.982893613819033,
            "count": 1
           },
           {
            "bin_start": 0.982893613819033,
            "bin_end": 0.9966360451710043,
            "count": 0
           },
           {
            "bin_start": 0.9966360451710043,
            "bin_end": 1.0103784765229757,
            "count": 1
           },
           {
            "bin_start": 1.0103784765229757,
            "bin_end": 1.0241209078749471,
            "count": 0
           },
           {
            "bin_start": 1.0241209078749471,
            "bin_end": 1.0378633392269188,
            "count": 2
           },
           {
            "bin_start": 1.0378633392269188,
            "bin_end": 1.0516057705788902,
            "count": 0
           },
           {
            "bin_start": 1.0516057705788902,
            "bin_end": 1.0653482019308615,
            "count": 0
           },
           {
            "bin_start": 1.0653482019308615,
            "bin_end": 1.0790906332828332,
            "count": 0
           },
           {
            "bin_start": 1.0790906332828332,
            "bin_end": 1.0928330646348046,
            "count": 0
           },
           {
            "bin_start": 1.0928330646348046,
            "bin_end": 1.106575495986776,
            "count": 1
           }
          ]
         }
        },
        {
         "name": "mean_test_score",
         "dtype": "float64",
         "stats": {
          "unique_count": 5,
          "nan_count": 0,
          "min": "1.1112004747280908",
          "max": "1.1339337910602314",
          "histogram": [
           {
            "bin_start": 1.1112004747280908,
            "bin_end": 1.1134738063613048,
            "count": 1
           },
           {
            "bin_start": 1.1134738063613048,
            "bin_end": 1.115747137994519,
            "count": 0
           },
           {
            "bin_start": 1.115747137994519,
            "bin_end": 1.118020469627733,
            "count": 0
           },
           {
            "bin_start": 1.118020469627733,
            "bin_end": 1.1202938012609471,
            "count": 0
           },
           {
            "bin_start": 1.1202938012609471,
            "bin_end": 1.122567132894161,
            "count": 1
           },
           {
            "bin_start": 1.122567132894161,
            "bin_end": 1.124840464527375,
            "count": 0
           },
           {
            "bin_start": 1.124840464527375,
            "bin_end": 1.1271137961605893,
            "count": 0
           },
           {
            "bin_start": 1.1271137961605893,
            "bin_end": 1.1293871277938032,
            "count": 0
           },
           {
            "bin_start": 1.1293871277938032,
            "bin_end": 1.1316604594270174,
            "count": 1
           },
           {
            "bin_start": 1.1316604594270174,
            "bin_end": 1.1339337910602314,
            "count": 2
           }
          ]
         }
        },
        {
         "name": "std_test_score",
         "dtype": "float64",
         "stats": {
          "unique_count": 5,
          "nan_count": 0,
          "min": "0.0594923116873",
          "max": "0.086132041587414",
          "histogram": [
           {
            "bin_start": 0.0594923116873,
            "bin_end": 0.0621562846773114,
            "count": 1
           },
           {
            "bin_start": 0.0621562846773114,
            "bin_end": 0.0648202576673228,
            "count": 0
           },
           {
            "bin_start": 0.0648202576673228,
            "bin_end": 0.0674842306573342,
            "count": 0
           },
           {
            "bin_start": 0.0674842306573342,
            "bin_end": 0.0701482036473456,
            "count": 0
           },
           {
            "bin_start": 0.0701482036473456,
            "bin_end": 0.072812176637357,
            "count": 1
           },
           {
            "bin_start": 0.072812176637357,
            "bin_end": 0.0754761496273684,
            "count": 0
           },
           {
            "bin_start": 0.0754761496273684,
            "bin_end": 0.07814012261737979,
            "count": 0
           },
           {
            "bin_start": 0.07814012261737979,
            "bin_end": 0.0808040956073912,
            "count": 0
           },
           {
            "bin_start": 0.0808040956073912,
            "bin_end": 0.0834680685974026,
            "count": 2
           },
           {
            "bin_start": 0.0834680685974026,
            "bin_end": 0.086132041587414,
            "count": 1
           }
          ]
         }
        },
        {
         "name": "rank_test_score",
         "dtype": "int64",
         "stats": {
          "unique_count": 5,
          "nan_count": 0,
          "min": "648",
          "max": "652",
          "histogram": [
           {
            "bin_start": 648,
            "bin_end": 648.4,
            "count": 1
           },
           {
            "bin_start": 648.4,
            "bin_end": 648.8,
            "count": 0
           },
           {
            "bin_start": 648.8,
            "bin_end": 649.2,
            "count": 1
           },
           {
            "bin_start": 649.2,
            "bin_end": 649.6,
            "count": 0
           },
           {
            "bin_start": 649.6,
            "bin_end": 650,
            "count": 0
           },
           {
            "bin_start": 650,
            "bin_end": 650.4,
            "count": 1
           },
           {
            "bin_start": 650.4,
            "bin_end": 650.8,
            "count": 0
           },
           {
            "bin_start": 650.8,
            "bin_end": 651.2,
            "count": 1
           },
           {
            "bin_start": 651.2,
            "bin_end": 651.6,
            "count": 0
           },
           {
            "bin_start": 651.6,
            "bin_end": 652,
            "count": 1
           }
          ]
         }
        },
        {
         "name": "_deepnote_index_column",
         "dtype": "int64"
        }
       ],
       "rows": [
        {
         "Unnamed: 0": 811,
         "mean_fit_time": 16.247680068016052,
         "std_fit_time": 8.818188789865987,
         "mean_score_time": 0.0049775123596191,
         "std_score_time": 0.0023594288805481,
         "param_batch_size": 969,
         "param_lr": 0.0118364546577938,
         "param_max_epochs": 1000,
         "param_module__activation_fun": "tanh",
         "param_module__hidden_layers": 2,
         "param_module__num_units": 98,
         "param_optimizer": "<class 'torch.optim.sgd.SGD'>",
         "param_optimizer__momentum": 0.9,
         "param_optimizer__nesterov": false,
         "param_optimizer__weight_decay": 0.0054316155205375,
         "params": "{'batch_size': 969, 'lr': 0.01183645465779384, 'max_epochs': 1000, 'module__activation_fun': 'tanh'…",
         "split0_test_score": 1.0487656182140337,
         "split1_test_score": 1.0023382486761512,
         "split2_test_score": 1.1302228316776737,
         "split3_test_score": 1.1871570619873535,
         "split4_test_score": 1.2111530448485135,
         "split5_test_score": 1.1686522658158065,
         "split6_test_score": 1.1642560657477916,
         "split7_test_score": 1.0521771214846385,
         "split8_test_score": 1.1781313063618832,
         "split9_test_score": 0.9691511824670614,
         "mean_test_score": 1.1112004747280908,
         "std_test_score": 0.081319101676895,
         "rank_test_score": 652,
         "_deepnote_index_column": 0
        },
        {
         "Unnamed: 0": 177,
         "mean_fit_time": 9.395187425613404,
         "std_fit_time": 7.242655933737518,
         "mean_score_time": 0.0050826072692871,
         "std_score_time": 0.0031796150041439,
         "param_batch_size": 193,
         "param_lr": 0.0082063401568712,
         "param_max_epochs": 1000,
         "param_module__activation_fun": "tanh",
         "param_module__hidden_layers": 2,
         "param_module__num_units": 119,
         "param_optimizer": "<class 'torch.optim.sgd.SGD'>",
         "param_optimizer__momentum": 0.95,
         "param_optimizer__nesterov": true,
         "param_optimizer__weight_decay": 0.0068403345652914,
         "params": "{'batch_size': 193, 'lr': 0.008206340156871269, 'max_epochs': 1000, 'module__activation_fun': 'tanh…",
         "split0_test_score": 1.0744037247521985,
         "split1_test_score": 1.0585571619773049,
         "split2_test_score": 1.1317168504167767,
         "split3_test_score": 1.181679835613061,
         "split4_test_score": 1.2059483613846893,
         "split5_test_score": 1.1950870864093304,
         "split6_test_score": 1.0966161705721589,
         "split7_test_score": 1.0840058871930032,
         "split8_test_score": 1.1605019024888377,
         "split9_test_score": 1.0245716072844735,
         "mean_test_score": 1.1213088588091833,
         "std_test_score": 0.0594923116873,
         "rank_test_score": 651,
         "_deepnote_index_column": 1
        },
        {
         "Unnamed: 0": 737,
         "mean_fit_time": 11.662489295005798,
         "std_fit_time": 8.543174693827188,
         "mean_score_time": 0.0042353153228759,
         "std_score_time": 0.0024602231637673,
         "param_batch_size": 352,
         "param_lr": 0.0657573108760647,
         "param_max_epochs": 1000,
         "param_module__activation_fun": "sigmoid",
         "param_module__hidden_layers": 1,
         "param_module__num_units": 93,
         "param_optimizer": "<class 'torch.optim.sgd.SGD'>",
         "param_optimizer__momentum": 0.9,
         "param_optimizer__nesterov": false,
         "param_optimizer__weight_decay": 0.0009037853810518,
         "params": "{'batch_size': 352, 'lr': 0.06575731087606476, 'max_epochs': 1000, 'module__activation_fun': 'sigmo…",
         "split0_test_score": 1.0440005076755037,
         "split1_test_score": 1.0390427501073904,
         "split2_test_score": 1.1745520811668015,
         "split3_test_score": 1.2101684195318616,
         "split4_test_score": 1.192322534950156,
         "split5_test_score": 1.2195959107712246,
         "split6_test_score": 1.120841967096006,
         "split7_test_score": 1.0613882976927256,
         "split8_test_score": 1.236585924135787,
         "split9_test_score": 1.0091754488336544,
         "mean_test_score": 1.1307673841961108,
         "std_test_score": 0.0816928398745711,
         "rank_test_score": 650,
         "_deepnote_index_column": 2
        },
        {
         "Unnamed: 0": 571,
         "mean_fit_time": 7.907077813148499,
         "std_fit_time": 3.242384750970152,
         "mean_score_time": 0.0063200235366821,
         "std_score_time": 0.0046829207921407,
         "param_batch_size": 766,
         "param_lr": 0.0105580965236554,
         "param_max_epochs": 1000,
         "param_module__activation_fun": "tanh",
         "param_module__hidden_layers": 2,
         "param_module__num_units": 114,
         "param_optimizer": "<class 'torch.optim.sgd.SGD'>",
         "param_optimizer__momentum": 0.95,
         "param_optimizer__nesterov": false,
         "param_optimizer__weight_decay": 0.0024261767966585,
         "params": "{'batch_size': 766, 'lr': 0.010558096523655443, 'max_epochs': 1000, 'module__activation_fun': 'tanh…",
         "split0_test_score": 1.0608744572820072,
         "split1_test_score": 1.0188080101813142,
         "split2_test_score": 1.1486376866110062,
         "split3_test_score": 1.2042112554899675,
         "split4_test_score": 1.1720904599651134,
         "split5_test_score": 1.2169881513188208,
         "split6_test_score": 1.112507714896946,
         "split7_test_score": 1.0525850949430824,
         "split8_test_score": 1.2308570827196414,
         "split9_test_score": 1.106575495986776,
         "mean_test_score": 1.1324135409394676,
         "std_test_score": 0.0702117316670507,
         "rank_test_score": 649,
         "_deepnote_index_column": 3
        },
        {
         "Unnamed: 0": 61,
         "mean_fit_time": 8.987892413139344,
         "std_fit_time": 3.761606024064951,
         "mean_score_time": 0.0035315752029418,
         "std_score_time": 0.0014978370842317,
         "param_batch_size": 552,
         "param_lr": 0.0476376034088743,
         "param_max_epochs": 1000,
         "param_module__activation_fun": "sigmoid",
         "param_module__hidden_layers": 1,
         "param_module__num_units": 45,
         "param_optimizer": "<class 'torch.optim.sgd.SGD'>",
         "param_optimizer__momentum": 0.9,
         "param_optimizer__nesterov": false,
         "param_optimizer__weight_decay": 0.0003180105852319,
         "params": "{'batch_size': 552, 'lr': 0.04763760340887432, 'max_epochs': 1000, 'module__activation_fun': 'sigmo…",
         "split0_test_score": 1.0620513586817604,
         "split1_test_score": 1.03360237571922,
         "split2_test_score": 1.1486864843146694,
         "split3_test_score": 1.2617025413459404,
         "split4_test_score": 1.2088194260639804,
         "split5_test_score": 1.195609134867003,
         "split6_test_score": 1.1370713413041784,
         "split7_test_score": 1.0280396596045422,
         "split8_test_score": 1.2362035856883329,
         "split9_test_score": 1.027552003012688,
         "mean_test_score": 1.1339337910602314,
         "std_test_score": 0.086132041587414,
         "rank_test_score": 648,
         "_deepnote_index_column": 4
        }
       ]
      },
      "text/plain": "   Unnamed: 0  mean_fit_time  std_fit_time  mean_score_time  std_score_time  \\\n0         811      16.247680      8.818189         0.004978        0.002359   \n1         177       9.395187      7.242656         0.005083        0.003180   \n2         737      11.662489      8.543175         0.004235        0.002460   \n3         571       7.907078      3.242385         0.006320        0.004683   \n4          61       8.987892      3.761606         0.003532        0.001498   \n\n   param_batch_size  param_lr  param_max_epochs param_module__activation_fun  \\\n0               969  0.011836              1000                         tanh   \n1               193  0.008206              1000                         tanh   \n2               352  0.065757              1000                      sigmoid   \n3               766  0.010558              1000                         tanh   \n4               552  0.047638              1000                      sigmoid   \n\n   param_module__hidden_layers  ...  split3_test_score split4_test_score  \\\n0                            2  ...           1.187157          1.211153   \n1                            2  ...           1.181680          1.205948   \n2                            1  ...           1.210168          1.192323   \n3                            2  ...           1.204211          1.172090   \n4                            1  ...           1.261703          1.208819   \n\n   split5_test_score  split6_test_score  split7_test_score split8_test_score  \\\n0           1.168652           1.164256           1.052177          1.178131   \n1           1.195087           1.096616           1.084006          1.160502   \n2           1.219596           1.120842           1.061388          1.236586   \n3           1.216988           1.112508           1.052585          1.230857   \n4           1.195609           1.137071           1.028040          1.236204   \n\n   split9_test_score  mean_test_score  std_test_score  rank_test_score  \n0           0.969151         1.111200        0.081319              652  \n1           1.024572         1.121309        0.059492              651  \n2           1.009175         1.130767        0.081693              650  \n3           1.106575         1.132414        0.070212              649  \n4           1.027552         1.133934        0.086132              648  \n\n[5 rows x 29 columns]",
      "text/html": "<div>\n<style scoped>\n    .dataframe tbody tr th:only-of-type {\n        vertical-align: middle;\n    }\n\n    .dataframe tbody tr th {\n        vertical-align: top;\n    }\n\n    .dataframe thead th {\n        text-align: right;\n    }\n</style>\n<table border=\"1\" class=\"dataframe\">\n  <thead>\n    <tr style=\"text-align: right;\">\n      <th></th>\n      <th>Unnamed: 0</th>\n      <th>mean_fit_time</th>\n      <th>std_fit_time</th>\n      <th>mean_score_time</th>\n      <th>std_score_time</th>\n      <th>param_batch_size</th>\n      <th>param_lr</th>\n      <th>param_max_epochs</th>\n      <th>param_module__activation_fun</th>\n      <th>param_module__hidden_layers</th>\n      <th>...</th>\n      <th>split3_test_score</th>\n      <th>split4_test_score</th>\n      <th>split5_test_score</th>\n      <th>split6_test_score</th>\n      <th>split7_test_score</th>\n      <th>split8_test_score</th>\n      <th>split9_test_score</th>\n      <th>mean_test_score</th>\n      <th>std_test_score</th>\n      <th>rank_test_score</th>\n    </tr>\n  </thead>\n  <tbody>\n    <tr>\n      <th>0</th>\n      <td>811</td>\n      <td>16.247680</td>\n      <td>8.818189</td>\n      <td>0.004978</td>\n      <td>0.002359</td>\n      <td>969</td>\n      <td>0.011836</td>\n      <td>1000</td>\n      <td>tanh</td>\n      <td>2</td>\n      <td>...</td>\n      <td>1.187157</td>\n      <td>1.211153</td>\n      <td>1.168652</td>\n      <td>1.164256</td>\n      <td>1.052177</td>\n      <td>1.178131</td>\n      <td>0.969151</td>\n      <td>1.111200</td>\n      <td>0.081319</td>\n      <td>652</td>\n    </tr>\n    <tr>\n      <th>1</th>\n      <td>177</td>\n      <td>9.395187</td>\n      <td>7.242656</td>\n      <td>0.005083</td>\n      <td>0.003180</td>\n      <td>193</td>\n      <td>0.008206</td>\n      <td>1000</td>\n      <td>tanh</td>\n      <td>2</td>\n      <td>...</td>\n      <td>1.181680</td>\n      <td>1.205948</td>\n      <td>1.195087</td>\n      <td>1.096616</td>\n      <td>1.084006</td>\n      <td>1.160502</td>\n      <td>1.024572</td>\n      <td>1.121309</td>\n      <td>0.059492</td>\n      <td>651</td>\n    </tr>\n    <tr>\n      <th>2</th>\n      <td>737</td>\n      <td>11.662489</td>\n      <td>8.543175</td>\n      <td>0.004235</td>\n      <td>0.002460</td>\n      <td>352</td>\n      <td>0.065757</td>\n      <td>1000</td>\n      <td>sigmoid</td>\n      <td>1</td>\n      <td>...</td>\n      <td>1.210168</td>\n      <td>1.192323</td>\n      <td>1.219596</td>\n      <td>1.120842</td>\n      <td>1.061388</td>\n      <td>1.236586</td>\n      <td>1.009175</td>\n      <td>1.130767</td>\n      <td>0.081693</td>\n      <td>650</td>\n    </tr>\n    <tr>\n      <th>3</th>\n      <td>571</td>\n      <td>7.907078</td>\n      <td>3.242385</td>\n      <td>0.006320</td>\n      <td>0.004683</td>\n      <td>766</td>\n      <td>0.010558</td>\n      <td>1000</td>\n      <td>tanh</td>\n      <td>2</td>\n      <td>...</td>\n      <td>1.204211</td>\n      <td>1.172090</td>\n      <td>1.216988</td>\n      <td>1.112508</td>\n      <td>1.052585</td>\n      <td>1.230857</td>\n      <td>1.106575</td>\n      <td>1.132414</td>\n      <td>0.070212</td>\n      <td>649</td>\n    </tr>\n    <tr>\n      <th>4</th>\n      <td>61</td>\n      <td>8.987892</td>\n      <td>3.761606</td>\n      <td>0.003532</td>\n      <td>0.001498</td>\n      <td>552</td>\n      <td>0.047638</td>\n      <td>1000</td>\n      <td>sigmoid</td>\n      <td>1</td>\n      <td>...</td>\n      <td>1.261703</td>\n      <td>1.208819</td>\n      <td>1.195609</td>\n      <td>1.137071</td>\n      <td>1.028040</td>\n      <td>1.236204</td>\n      <td>1.027552</td>\n      <td>1.133934</td>\n      <td>0.086132</td>\n      <td>648</td>\n    </tr>\n  </tbody>\n</table>\n<p>5 rows × 29 columns</p>\n</div>"
     },
     "metadata": {}
    }
   ],
   "execution_count": 26
  },
  {
   "cell_type": "code",
   "metadata": {
    "cell_id": "00035-35634286-bbca-405f-826c-e98eac51d714",
    "deepnote_to_be_reexecuted": false,
    "source_hash": "9dd11431",
    "execution_start": 1642785108852,
    "execution_millis": 0,
    "deepnote_cell_type": "code"
   },
   "source": "#get the best params for the grid search (cannot use rand_gs.best_estimator directly since it will yield the worst estimator based on MEE)\nbest_params = df_results['params'][0]\nprint(f\"Mean error on the {k}-folds (MEE) on best model: {df_results['mean_test_score'][0]}\\n\")\nprint(f\"Best params: {best_params}\")",
   "outputs": [
    {
     "name": "stdout",
     "text": "Mean error on the 10-folds (MEE) on best model: 1.1112004747280908\n\nBest params: {'batch_size': 969, 'lr': 0.01183645465779384, 'max_epochs': 1000, 'module__activation_fun': 'tanh', 'module__hidden_layers': 2, 'module__num_units': 98, 'optimizer': <class 'torch.optim.sgd.SGD'>, 'optimizer__momentum': 0.9, 'optimizer__nesterov': False, 'optimizer__weight_decay': 0.005431615520537502}\n",
     "output_type": "stream"
    }
   ],
   "execution_count": 27
  },
  {
   "cell_type": "code",
   "metadata": {
    "cell_id": "00036-0ea2098c-908a-471d-96ea-16015bf6d6d9",
    "deepnote_to_be_reexecuted": false,
    "source_hash": "2dfebc36",
    "execution_start": 1642785108853,
    "execution_millis": 39,
    "deepnote_cell_type": "code"
   },
   "source": "best_models = list() #list of the top ten models of the final randomized search\neval_best_models = list()\n\nfor i in range(10):\n    ### GET HYPERPARAMETERS AND FIX DICTIONARY\n    best_params_i = df_results['params'][i]\n    first_part = str(best_params_i.split(\"'optimizer': <class 'torch.optim.sgd.SGD'>, \", 1)[0]) #manually remove the optimizer parameter\n    second_part = str(best_params_i.split(\"'optimizer': <class 'torch.optim.sgd.SGD'>, \", 1)[1])\n    best_params_i = first_part+second_part\n    best_params_i = ast.literal_eval(best_params_i)\n\n    print(best_params_i)\n    ### SET HYPERPARAMETERS ###\n    HIDDEN_LAYERS = best_params_i['module__hidden_layers']\n    NUM_UNITS = best_params_i['module__num_units']\n    ACTIVATION_FUN = best_params_i['module__activation_fun']\n    OPTIMIZER = 'SGD'\n    LR = best_params_i['lr']\n    WEIGHT_DECAY = best_params_i['optimizer__weight_decay']\n    BATCH = best_params_i['batch_size']\n    MAX_EPOCHS = best_params_i['max_epochs']\n    NESTEROV = best_params_i['optimizer__nesterov']\n    MOMENTUM = best_params_i['optimizer__momentum']\n\n    ### DEFINE MODULES AND MODELS ###\n    module_i = MyModule(NUM_UNITS, ACTIVATION_FUN, HIDDEN_LAYERS)\n    eval_module_i = MyModule(NUM_UNITS, ACTIVATION_FUN, HIDDEN_LAYERS)\n\n    model_i = NeuralNetRegressor(\n        module = module_i,\n        criterion=nn.MSELoss,\n        max_epochs=MAX_EPOCHS,\n        lr=LR,\n        batch_size=BATCH,\n        optimizer=torch.optim.SGD,\n        optimizer__momentum=MOMENTUM,\n        callbacks=[('early_stoppping', EarlyStopping(monitor='valid_loss', patience=PATIENCE, threshold=THRESHOLD))],\n    )\n\n    eval_model_i = NeuralNetRegressor(\n        module = eval_module_i,\n        criterion=nn.MSELoss,\n        max_epochs=MAX_EPOCHS,\n        lr=LR,\n        batch_size=BATCH,\n        optimizer=torch.optim.SGD,\n        optimizer__momentum=MOMENTUM,\n    )\n\n    best_models.append(model_i)\n    eval_best_models.append(eval_model_i)",
   "outputs": [
    {
     "name": "stdout",
     "text": "{'batch_size': 969, 'lr': 0.01183645465779384, 'max_epochs': 1000, 'module__activation_fun': 'tanh', 'module__hidden_layers': 2, 'module__num_units': 98, 'optimizer__momentum': 0.9, 'optimizer__nesterov': False, 'optimizer__weight_decay': 0.005431615520537502}\n{'batch_size': 193, 'lr': 0.008206340156871269, 'max_epochs': 1000, 'module__activation_fun': 'tanh', 'module__hidden_layers': 2, 'module__num_units': 119, 'optimizer__momentum': 0.95, 'optimizer__nesterov': True, 'optimizer__weight_decay': 0.00684033456529144}\n{'batch_size': 352, 'lr': 0.06575731087606476, 'max_epochs': 1000, 'module__activation_fun': 'sigmoid', 'module__hidden_layers': 1, 'module__num_units': 93, 'optimizer__momentum': 0.9, 'optimizer__nesterov': False, 'optimizer__weight_decay': 0.0009037853810518102}\n{'batch_size': 766, 'lr': 0.010558096523655443, 'max_epochs': 1000, 'module__activation_fun': 'tanh', 'module__hidden_layers': 2, 'module__num_units': 114, 'optimizer__momentum': 0.95, 'optimizer__nesterov': False, 'optimizer__weight_decay': 0.0024261767966585073}\n{'batch_size': 552, 'lr': 0.04763760340887432, 'max_epochs': 1000, 'module__activation_fun': 'sigmoid', 'module__hidden_layers': 1, 'module__num_units': 45, 'optimizer__momentum': 0.9, 'optimizer__nesterov': False, 'optimizer__weight_decay': 0.00031801058523192236}\n{'batch_size': 1071, 'lr': 0.007125237413000068, 'max_epochs': 1000, 'module__activation_fun': 'tanh', 'module__hidden_layers': 2, 'module__num_units': 33, 'optimizer__momentum': 0.95, 'optimizer__nesterov': False, 'optimizer__weight_decay': 0.009248115139069321}\n{'batch_size': 1027, 'lr': 0.02655800387885925, 'max_epochs': 1000, 'module__activation_fun': 'sigmoid', 'module__hidden_layers': 2, 'module__num_units': 109, 'optimizer__momentum': 0.95, 'optimizer__nesterov': True, 'optimizer__weight_decay': 0.0011138033945878466}\n{'batch_size': 722, 'lr': 0.022921129665183868, 'max_epochs': 1000, 'module__activation_fun': 'sigmoid', 'module__hidden_layers': 2, 'module__num_units': 80, 'optimizer__momentum': 0.9, 'optimizer__nesterov': False, 'optimizer__weight_decay': 0.0008994348796758027}\n{'batch_size': 648, 'lr': 0.02868303979163888, 'max_epochs': 1000, 'module__activation_fun': 'sigmoid', 'module__hidden_layers': 1, 'module__num_units': 92, 'optimizer__momentum': 0.9, 'optimizer__nesterov': False, 'optimizer__weight_decay': 0.0007026304235366386}\n{'batch_size': 629, 'lr': 0.00486796274223585, 'max_epochs': 1000, 'module__activation_fun': 'tanh', 'module__hidden_layers': 2, 'module__num_units': 54, 'optimizer__momentum': 0.9, 'optimizer__nesterov': False, 'optimizer__weight_decay': 0.01060309614842583}\n",
     "output_type": "stream"
    }
   ],
   "execution_count": 28
  },
  {
   "cell_type": "code",
   "metadata": {
    "cell_id": "00063-4e9e8339-09fe-43e2-b61e-7212549c3846",
    "deepnote_to_be_reexecuted": false,
    "source_hash": "7169ef77",
    "execution_start": 1642785108892,
    "execution_millis": 51838,
    "output_cleared": false,
    "deepnote_cell_type": "code"
   },
   "source": "epochs_best_models = list()\n\n#fit every model\nfor model in best_models:\n    model.fit(X,y)\n    EPOCHS = len(model.history)\n    epochs_best_models.append(EPOCHS)\n",
   "outputs": [
    {
     "name": "stdout",
     "text": "     36        \u001b[36m2.1330\u001b[0m        1.9456  0.0283\n     37        \u001b[36m2.1081\u001b[0m        \u001b[32m1.5390\u001b[0m  0.0168\nIOPub message rate exceeded.\nThe notebook server will temporarily stop sending output\nto the client in order to avoid crashing it.\nTo change this limit, set the config variable\n`--NotebookApp.iopub_msg_rate_limit`.\n\nCurrent values:\nNotebookApp.iopub_msg_rate_limit=50.0 (msgs/sec)\nNotebookApp.rate_limit_window=3.0 (secs)\n\n     72        \u001b[36m1.3664\u001b[0m        1.2009  0.0159\n     73        1.3675        \u001b[32m1.1783\u001b[0m  0.0312\n     74        \u001b[36m1.3513\u001b[0m        \u001b[32m1.1557\u001b[0m  0.0159\n     75        \u001b[36m1.3401\u001b[0m        \u001b[32m1.1462\u001b[0m  0.0158\n     76        \u001b[36m1.3334\u001b[0m        \u001b[32m1.1453\u001b[0m  0.0160\n     77        \u001b[36m1.3281\u001b[0m        \u001b[32m1.1382\u001b[0m  0.0188\n     78        \u001b[36m1.3219\u001b[0m        \u001b[32m1.1150\u001b[0m  0.0333\n     79        \u001b[36m1.3100\u001b[0m        \u001b[32m1.0990\u001b[0m  0.0164\n     80        \u001b[36m1.3046\u001b[0m        \u001b[32m1.0932\u001b[0m  0.0167\n     81        \u001b[36m1.2993\u001b[0m        1.0970  0.0211\n     82        \u001b[36m1.2980\u001b[0m        \u001b[32m1.0913\u001b[0m  0.0272\n     83        \u001b[36m1.2922\u001b[0m        \u001b[32m1.0785\u001b[0m  0.0171\n     84        \u001b[36m1.2842\u001b[0m        \u001b[32m1.0755\u001b[0m  0.0166\n     85        \u001b[36m1.2818\u001b[0m        1.0799  0.0159\n     86        \u001b[36m1.2804\u001b[0m        1.0853  0.0160\n     87        1.2804        1.0795  0.0263\n     88        \u001b[36m1.2762\u001b[0m        \u001b[32m1.0706\u001b[0m  0.0163\n     89        \u001b[36m1.2716\u001b[0m        \u001b[32m1.0662\u001b[0m  0.0161\n     90        \u001b[36m1.2677\u001b[0m        1.0663  0.0159\n     91        \u001b[36m1.2652\u001b[0m        \u001b[32m1.0637\u001b[0m  0.0170\n     92        \u001b[36m1.2628\u001b[0m        \u001b[32m1.0536\u001b[0m  0.0354\n     93        \u001b[36m1.2573\u001b[0m        \u001b[32m1.0461\u001b[0m  0.0177\n     94        \u001b[36m1.2534\u001b[0m        \u001b[32m1.0440\u001b[0m  0.0161\n     95        \u001b[36m1.2502\u001b[0m        1.0445  0.0189\n     96        \u001b[36m1.2484\u001b[0m        \u001b[32m1.0411\u001b[0m  0.0348\n     97        \u001b[36m1.2459\u001b[0m        \u001b[32m1.0347\u001b[0m  0.0175\n     98        \u001b[36m1.2425\u001b[0m        \u001b[32m1.0310\u001b[0m  0.0830\n     99        \u001b[36m1.2394\u001b[0m        \u001b[32m1.0306\u001b[0m  0.0176\n    100        \u001b[36m1.2366\u001b[0m        \u001b[32m1.0303\u001b[0m  0.0171\n    101        \u001b[36m1.2346\u001b[0m        \u001b[32m1.0257\u001b[0m  0.0169\n    102        \u001b[36m1.2319\u001b[0m        \u001b[32m1.0209\u001b[0m  0.0163\n    103        \u001b[36m1.2299\u001b[0m        \u001b[32m1.0189\u001b[0m  0.0236\n    104        \u001b[36m1.2284\u001b[0m        1.0193  0.0224\n    105        \u001b[36m1.2271\u001b[0m        \u001b[32m1.0183\u001b[0m  0.0156\n    106        \u001b[36m1.2257\u001b[0m        \u001b[32m1.0150\u001b[0m  0.0158\n    107        \u001b[36m1.2241\u001b[0m        \u001b[32m1.0127\u001b[0m  0.0157\n    108        \u001b[36m1.2228\u001b[0m        \u001b[32m1.0124\u001b[0m  0.0314\n    109        \u001b[36m1.2216\u001b[0m        1.0127  0.0158\n    110        \u001b[36m1.2206\u001b[0m        \u001b[32m1.0106\u001b[0m  0.0172\n    111        \u001b[36m1.2189\u001b[0m        \u001b[32m1.0075\u001b[0m  0.0157\n    112        \u001b[36m1.2170\u001b[0m        \u001b[32m1.0056\u001b[0m  0.0173\n    113        \u001b[36m1.2153\u001b[0m        \u001b[32m1.0048\u001b[0m  0.0158\n    114        \u001b[36m1.2139\u001b[0m        \u001b[32m1.0029\u001b[0m  0.0161\n    115        \u001b[36m1.2125\u001b[0m        \u001b[32m0.9992\u001b[0m  0.0178\n    116        \u001b[36m1.2108\u001b[0m        \u001b[32m0.9959\u001b[0m  0.0156\n    117        \u001b[36m1.2091\u001b[0m        \u001b[32m0.9944\u001b[0m  0.0167\n    118        \u001b[36m1.2073\u001b[0m        \u001b[32m0.9935\u001b[0m  0.0167\n    119        \u001b[36m1.2056\u001b[0m        \u001b[32m0.9914\u001b[0m  0.0164\n    120        \u001b[36m1.2039\u001b[0m        \u001b[32m0.9886\u001b[0m  0.0164\n    121        \u001b[36m1.2023\u001b[0m        \u001b[32m0.9871\u001b[0m  0.0166\n    122        \u001b[36m1.2010\u001b[0m        \u001b[32m0.9868\u001b[0m  0.0301\n    123        \u001b[36m1.1996\u001b[0m        \u001b[32m0.9862\u001b[0m  0.0221\n    124        \u001b[36m1.1983\u001b[0m        \u001b[32m0.9844\u001b[0m  0.0185\n    125        \u001b[36m1.1968\u001b[0m        \u001b[32m0.9825\u001b[0m  0.0229\n    126        \u001b[36m1.1955\u001b[0m        \u001b[32m0.9813\u001b[0m  0.0168\n    127        \u001b[36m1.1943\u001b[0m        \u001b[32m0.9805\u001b[0m  0.0268\n    128        \u001b[36m1.1931\u001b[0m        \u001b[32m0.9789\u001b[0m  0.0163\n    129        \u001b[36m1.1917\u001b[0m        \u001b[32m0.9769\u001b[0m  0.0165\n    130        \u001b[36m1.1901\u001b[0m        \u001b[32m0.9754\u001b[0m  0.0162\n    131        \u001b[36m1.1887\u001b[0m        \u001b[32m0.9745\u001b[0m  0.0163\n    132        \u001b[36m1.1873\u001b[0m        \u001b[32m0.9735\u001b[0m  0.0166\n    133        \u001b[36m1.1861\u001b[0m        \u001b[32m0.9719\u001b[0m  0.0164\n    134        \u001b[36m1.1848\u001b[0m        \u001b[32m0.9701\u001b[0m  0.0165\n    135        \u001b[36m1.1835\u001b[0m        \u001b[32m0.9688\u001b[0m  0.0163\n    136        \u001b[36m1.1820\u001b[0m        \u001b[32m0.9677\u001b[0m  0.0289\n    137        \u001b[36m1.1806\u001b[0m        \u001b[32m0.9661\u001b[0m  0.0166\n    138        \u001b[36m1.1792\u001b[0m        \u001b[32m0.9640\u001b[0m  0.0163\n    139        \u001b[36m1.1778\u001b[0m        \u001b[32m0.9622\u001b[0m  0.0164\n    140        \u001b[36m1.1763\u001b[0m        \u001b[32m0.9611\u001b[0m  0.0162\n    141        \u001b[36m1.1749\u001b[0m        \u001b[32m0.9600\u001b[0m  0.0314\n    142        \u001b[36m1.1735\u001b[0m        \u001b[32m0.9587\u001b[0m  0.0173\n    143        \u001b[36m1.1721\u001b[0m        \u001b[32m0.9573\u001b[0m  0.0167\n    144        \u001b[36m1.1708\u001b[0m        \u001b[32m0.9562\u001b[0m  0.0173\n    145        \u001b[36m1.1695\u001b[0m        \u001b[32m0.9554\u001b[0m  0.0194\n    146        \u001b[36m1.1683\u001b[0m        \u001b[32m0.9543\u001b[0m  0.0291\n    147        \u001b[36m1.1670\u001b[0m        \u001b[32m0.9529\u001b[0m  0.0174\n    148        \u001b[36m1.1655\u001b[0m        \u001b[32m0.9515\u001b[0m  0.0162\n    149        \u001b[36m1.1641\u001b[0m        \u001b[32m0.9504\u001b[0m  0.0168\n    150        \u001b[36m1.1628\u001b[0m        \u001b[32m0.9494\u001b[0m  0.0167\n    151        \u001b[36m1.1615\u001b[0m        \u001b[32m0.9481\u001b[0m  0.0165\n    152        \u001b[36m1.1601\u001b[0m        \u001b[32m0.9468\u001b[0m  0.0304\n    153        \u001b[36m1.1587\u001b[0m        \u001b[32m0.9457\u001b[0m  0.0172\n    154        \u001b[36m1.1574\u001b[0m        \u001b[32m0.9447\u001b[0m  0.0173\n    155        \u001b[36m1.1560\u001b[0m        \u001b[32m0.9436\u001b[0m  0.0241\n    156        \u001b[36m1.1547\u001b[0m        \u001b[32m0.9423\u001b[0m  0.0177\n    157        \u001b[36m1.1534\u001b[0m        \u001b[32m0.9409\u001b[0m  0.0166\n    158        \u001b[36m1.1520\u001b[0m        \u001b[32m0.9397\u001b[0m  0.0156\n    159        \u001b[36m1.1506\u001b[0m        \u001b[32m0.9386\u001b[0m  0.0162\n    160        \u001b[36m1.1492\u001b[0m        \u001b[32m0.9373\u001b[0m  0.0273\n    161        \u001b[36m1.1478\u001b[0m        \u001b[32m0.9360\u001b[0m  0.0156\n    162        \u001b[36m1.1464\u001b[0m        \u001b[32m0.9349\u001b[0m  0.0158\n    163        \u001b[36m1.1451\u001b[0m        \u001b[32m0.9339\u001b[0m  0.0158\n    164        \u001b[36m1.1438\u001b[0m        \u001b[32m0.9329\u001b[0m  0.0158\n    165        \u001b[36m1.1424\u001b[0m        \u001b[32m0.9317\u001b[0m  0.0156\n    166        \u001b[36m1.1411\u001b[0m        \u001b[32m0.9306\u001b[0m  0.0159\n    167        \u001b[36m1.1397\u001b[0m        \u001b[32m0.9294\u001b[0m  0.0158\n    168        \u001b[36m1.1384\u001b[0m        \u001b[32m0.9284\u001b[0m  0.0156\n    169        \u001b[36m1.1371\u001b[0m        \u001b[32m0.9273\u001b[0m  0.0159\n    170        \u001b[36m1.1358\u001b[0m        \u001b[32m0.9261\u001b[0m  0.0275\n    171        \u001b[36m1.1344\u001b[0m        \u001b[32m0.9250\u001b[0m  0.0178\n    172        \u001b[36m1.1331\u001b[0m        \u001b[32m0.9239\u001b[0m  0.0186\n    173        \u001b[36m1.1318\u001b[0m        \u001b[32m0.9229\u001b[0m  0.0184\n    174        \u001b[36m1.1306\u001b[0m        \u001b[32m0.9218\u001b[0m  0.0272\n    175        \u001b[36m1.1293\u001b[0m        \u001b[32m0.9206\u001b[0m  0.0163\n    176        \u001b[36m1.1280\u001b[0m        \u001b[32m0.9195\u001b[0m  0.0160\n    177        \u001b[36m1.1267\u001b[0m        \u001b[32m0.9184\u001b[0m  0.0159\n    178        \u001b[36m1.1254\u001b[0m        \u001b[32m0.9172\u001b[0m  0.0157\n    179        \u001b[36m1.1242\u001b[0m        \u001b[32m0.9161\u001b[0m  0.0314\n    180        \u001b[36m1.1229\u001b[0m        \u001b[32m0.9149\u001b[0m  0.0160\n    181        \u001b[36m1.1217\u001b[0m        \u001b[32m0.9139\u001b[0m  0.0169\n    182        \u001b[36m1.1205\u001b[0m        \u001b[32m0.9128\u001b[0m  0.0162\n    183        \u001b[36m1.1193\u001b[0m        \u001b[32m0.9118\u001b[0m  0.0161\n    184        \u001b[36m1.1181\u001b[0m        \u001b[32m0.9107\u001b[0m  0.0310\n    185        \u001b[36m1.1169\u001b[0m        \u001b[32m0.9096\u001b[0m  0.0168\n    186        \u001b[36m1.1157\u001b[0m        \u001b[32m0.9085\u001b[0m  0.0164\n    187        \u001b[36m1.1146\u001b[0m        \u001b[32m0.9075\u001b[0m  0.0163\n    188        \u001b[36m1.1134\u001b[0m        \u001b[32m0.9064\u001b[0m  0.0180\n    189        \u001b[36m1.1123\u001b[0m        \u001b[32m0.9054\u001b[0m  0.0159\n    190        \u001b[36m1.1111\u001b[0m        \u001b[32m0.9043\u001b[0m  0.0165\n    191        \u001b[36m1.1100\u001b[0m        \u001b[32m0.9033\u001b[0m  0.0158\n    192        \u001b[36m1.1089\u001b[0m        \u001b[32m0.9023\u001b[0m  0.0161\n    193        \u001b[36m1.1078\u001b[0m        \u001b[32m0.9013\u001b[0m  0.0169\n    194        \u001b[36m1.1067\u001b[0m        \u001b[32m0.9003\u001b[0m  0.0164\n    195        \u001b[36m1.1057\u001b[0m        \u001b[32m0.8993\u001b[0m  0.0172\n    196        \u001b[36m1.1046\u001b[0m        \u001b[32m0.8983\u001b[0m  0.0165\n    197        \u001b[36m1.1036\u001b[0m        \u001b[32m0.8973\u001b[0m  0.0169\n    198        \u001b[36m1.1025\u001b[0m        \u001b[32m0.8963\u001b[0m  0.0158\n    199        \u001b[36m1.1015\u001b[0m        \u001b[32m0.8953\u001b[0m  0.0246\n    200        \u001b[36m1.1005\u001b[0m        \u001b[32m0.8944\u001b[0m  0.0165\n    201        \u001b[36m1.0995\u001b[0m        \u001b[32m0.8934\u001b[0m  0.0164\n    202        \u001b[36m1.0985\u001b[0m        \u001b[32m0.8924\u001b[0m  0.0181\n    203        \u001b[36m1.0975\u001b[0m        \u001b[32m0.8915\u001b[0m  0.0296\n    204        \u001b[36m1.0966\u001b[0m        \u001b[32m0.8906\u001b[0m  0.0171\n    205        \u001b[36m1.0956\u001b[0m        \u001b[32m0.8897\u001b[0m  0.0167\n    206        \u001b[36m1.0947\u001b[0m        \u001b[32m0.8888\u001b[0m  0.0166\n    207        \u001b[36m1.0937\u001b[0m        \u001b[32m0.8879\u001b[0m  0.0163\n    208        \u001b[36m1.0928\u001b[0m        \u001b[32m0.8870\u001b[0m  0.0278\n    209        \u001b[36m1.0919\u001b[0m        \u001b[32m0.8862\u001b[0m  0.0160\n    210        \u001b[36m1.0910\u001b[0m        \u001b[32m0.8853\u001b[0m  0.0170\n    211        \u001b[36m1.0901\u001b[0m        \u001b[32m0.8845\u001b[0m  0.0166\n    212        \u001b[36m1.0892\u001b[0m        \u001b[32m0.8837\u001b[0m  0.0164\n    213        \u001b[36m1.0883\u001b[0m        \u001b[32m0.8828\u001b[0m  0.0315\n    214        \u001b[36m1.0875\u001b[0m        \u001b[32m0.8820\u001b[0m  0.0161\n    215        \u001b[36m1.0866\u001b[0m        \u001b[32m0.8812\u001b[0m  0.0157\n    216        \u001b[36m1.0857\u001b[0m        \u001b[32m0.8805\u001b[0m  0.0159\n    217        \u001b[36m1.0849\u001b[0m        \u001b[32m0.8797\u001b[0m  0.0162\n    218        \u001b[36m1.0840\u001b[0m        \u001b[32m0.8789\u001b[0m  0.0373\n    219        \u001b[36m1.0832\u001b[0m        \u001b[32m0.8782\u001b[0m  0.0203\n    220        \u001b[36m1.0824\u001b[0m        \u001b[32m0.8774\u001b[0m  0.0189\n    221        \u001b[36m1.0816\u001b[0m        \u001b[32m0.8767\u001b[0m  0.0191\n    222        \u001b[36m1.0807\u001b[0m        \u001b[32m0.8760\u001b[0m  0.0260\n    223        \u001b[36m1.0799\u001b[0m        \u001b[32m0.8753\u001b[0m  0.0192\n    224        \u001b[36m1.0791\u001b[0m        \u001b[32m0.8746\u001b[0m  0.0192\n    225        \u001b[36m1.0783\u001b[0m        \u001b[32m0.8739\u001b[0m  0.0189\n    226        \u001b[36m1.0775\u001b[0m        \u001b[32m0.8732\u001b[0m  0.0377\n    227        \u001b[36m1.0767\u001b[0m        \u001b[32m0.8726\u001b[0m  0.0164\n    228        \u001b[36m1.0759\u001b[0m        \u001b[32m0.8719\u001b[0m  0.0159\n    229        \u001b[36m1.0751\u001b[0m        \u001b[32m0.8713\u001b[0m  0.0164\n    230        \u001b[36m1.0743\u001b[0m        \u001b[32m0.8707\u001b[0m  0.0166\n    231        \u001b[36m1.0735\u001b[0m        \u001b[32m0.8701\u001b[0m  0.0280\n    232        \u001b[36m1.0727\u001b[0m        \u001b[32m0.8695\u001b[0m  0.0164\n    233        \u001b[36m1.0720\u001b[0m        \u001b[32m0.8689\u001b[0m  0.0161\n    234        \u001b[36m1.0712\u001b[0m        \u001b[32m0.8683\u001b[0m  0.0163\n    235        \u001b[36m1.0704\u001b[0m        \u001b[32m0.8677\u001b[0m  0.0170\n    236        \u001b[36m1.0696\u001b[0m        \u001b[32m0.8671\u001b[0m  0.0365\n    237        \u001b[36m1.0689\u001b[0m        \u001b[32m0.8666\u001b[0m  0.0163\n    238        \u001b[36m1.0681\u001b[0m        \u001b[32m0.8660\u001b[0m  0.0160\n    239        \u001b[36m1.0673\u001b[0m        \u001b[32m0.8655\u001b[0m  0.0161\n    240        \u001b[36m1.0665\u001b[0m        \u001b[32m0.8650\u001b[0m  0.0193\n    241        \u001b[36m1.0658\u001b[0m        \u001b[32m0.8644\u001b[0m  0.0224\n    242        \u001b[36m1.0650\u001b[0m        \u001b[32m0.8639\u001b[0m  0.0194\n    243        \u001b[36m1.0642\u001b[0m        \u001b[32m0.8634\u001b[0m  0.0191\n    244        \u001b[36m1.0635\u001b[0m        \u001b[32m0.8629\u001b[0m  0.0199\n    245        \u001b[36m1.0627\u001b[0m        \u001b[32m0.8624\u001b[0m  0.0321\n    246        \u001b[36m1.0620\u001b[0m        \u001b[32m0.8619\u001b[0m  0.0214\n    247        \u001b[36m1.0612\u001b[0m        \u001b[32m0.8614\u001b[0m  0.0182\n    248        \u001b[36m1.0604\u001b[0m        \u001b[32m0.8610\u001b[0m  0.0175\n    249        \u001b[36m1.0597\u001b[0m        \u001b[32m0.8605\u001b[0m  0.0294\n    250        \u001b[36m1.0589\u001b[0m        \u001b[32m0.8600\u001b[0m  0.0173\n    251        \u001b[36m1.0582\u001b[0m        \u001b[32m0.8596\u001b[0m  0.0163\n    252        \u001b[36m1.0574\u001b[0m        \u001b[32m0.8591\u001b[0m  0.0161\n    253        \u001b[36m1.0566\u001b[0m        \u001b[32m0.8587\u001b[0m  0.0159\n    254        \u001b[36m1.0559\u001b[0m        \u001b[32m0.8583\u001b[0m  0.0173\n    255        \u001b[36m1.0551\u001b[0m        \u001b[32m0.8578\u001b[0m  0.0163\n    256        \u001b[36m1.0544\u001b[0m        \u001b[32m0.8574\u001b[0m  0.0166\n    257        \u001b[36m1.0536\u001b[0m        \u001b[32m0.8570\u001b[0m  0.0165\n    258        \u001b[36m1.0529\u001b[0m        \u001b[32m0.8566\u001b[0m  0.0290\n    259        \u001b[36m1.0521\u001b[0m        \u001b[32m0.8562\u001b[0m  0.0158\n    260        \u001b[36m1.0513\u001b[0m        \u001b[32m0.8557\u001b[0m  0.0157\n    261        \u001b[36m1.0506\u001b[0m        \u001b[32m0.8553\u001b[0m  0.0165\n    262        \u001b[36m1.0498\u001b[0m        \u001b[32m0.8549\u001b[0m  0.0158\n    263        \u001b[36m1.0491\u001b[0m        \u001b[32m0.8546\u001b[0m  0.0310\n    264        \u001b[36m1.0483\u001b[0m        \u001b[32m0.8542\u001b[0m  0.0182\n    265        \u001b[36m1.0475\u001b[0m        \u001b[32m0.8538\u001b[0m  0.0183\n    266        \u001b[36m1.0468\u001b[0m        \u001b[32m0.8534\u001b[0m  0.0208\n    267        \u001b[36m1.0460\u001b[0m        \u001b[32m0.8530\u001b[0m  0.0371\n    268        \u001b[36m1.0453\u001b[0m        \u001b[32m0.8527\u001b[0m  0.0161\n    269        \u001b[36m1.0445\u001b[0m        \u001b[32m0.8523\u001b[0m  0.0161\n    270        \u001b[36m1.0437\u001b[0m        \u001b[32m0.8519\u001b[0m  0.0164\n    271        \u001b[36m1.0430\u001b[0m        \u001b[32m0.8516\u001b[0m  0.0165\n    272        \u001b[36m1.0422\u001b[0m        \u001b[32m0.8512\u001b[0m  0.0324\n    273        \u001b[36m1.0415\u001b[0m        \u001b[32m0.8509\u001b[0m  0.0181\n    274        \u001b[36m1.0407\u001b[0m        \u001b[32m0.8505\u001b[0m  0.0177\n    275        \u001b[36m1.0399\u001b[0m        \u001b[32m0.8502\u001b[0m  0.0165\n    276        \u001b[36m1.0392\u001b[0m        \u001b[32m0.8498\u001b[0m  0.0165\n    277        \u001b[36m1.0384\u001b[0m        \u001b[32m0.8495\u001b[0m  0.0183\n    278        \u001b[36m1.0377\u001b[0m        \u001b[32m0.8491\u001b[0m  0.0190\n    279        \u001b[36m1.0369\u001b[0m        \u001b[32m0.8488\u001b[0m  0.0187\n    280        \u001b[36m1.0361\u001b[0m        \u001b[32m0.8485\u001b[0m  0.0181\n    281        \u001b[36m1.0354\u001b[0m        \u001b[32m0.8481\u001b[0m  0.0326\n    282        \u001b[36m1.0346\u001b[0m        \u001b[32m0.8478\u001b[0m  0.0162\n    283        \u001b[36m1.0338\u001b[0m        \u001b[32m0.8475\u001b[0m  0.0159\n    284        \u001b[36m1.0331\u001b[0m        \u001b[32m0.8472\u001b[0m  0.0167\n    285        \u001b[36m1.0323\u001b[0m        \u001b[32m0.8469\u001b[0m  0.0159\n    286        \u001b[36m1.0315\u001b[0m        \u001b[32m0.8465\u001b[0m  0.0309\n    287        \u001b[36m1.0308\u001b[0m        \u001b[32m0.8462\u001b[0m  0.0168\n    288        \u001b[36m1.0300\u001b[0m        \u001b[32m0.8459\u001b[0m  0.0166\n    289        \u001b[36m1.0292\u001b[0m        \u001b[32m0.8456\u001b[0m  0.0159\n    290        \u001b[36m1.0285\u001b[0m        \u001b[32m0.8453\u001b[0m  0.0336\n    291        \u001b[36m1.0277\u001b[0m        \u001b[32m0.8450\u001b[0m  0.0165\n    292        \u001b[36m1.0269\u001b[0m        \u001b[32m0.8447\u001b[0m  0.0159\n    293        \u001b[36m1.0262\u001b[0m        \u001b[32m0.8444\u001b[0m  0.0159\n    294        \u001b[36m1.0254\u001b[0m        \u001b[32m0.8441\u001b[0m  0.0161\n    295        \u001b[36m1.0246\u001b[0m        \u001b[32m0.8438\u001b[0m  0.0276\n    296        \u001b[36m1.0239\u001b[0m        \u001b[32m0.8435\u001b[0m  0.0162\n    297        \u001b[36m1.0231\u001b[0m        \u001b[32m0.8432\u001b[0m  0.0161\n    298        \u001b[36m1.0224\u001b[0m        \u001b[32m0.8430\u001b[0m  0.0173\n    299        \u001b[36m1.0216\u001b[0m        \u001b[32m0.8427\u001b[0m  0.0163\n    300        \u001b[36m1.0208\u001b[0m        \u001b[32m0.8424\u001b[0m  0.0360\n    301        \u001b[36m1.0201\u001b[0m        \u001b[32m0.8421\u001b[0m  0.0165\n    302        \u001b[36m1.0193\u001b[0m        \u001b[32m0.8418\u001b[0m  0.0165\n    303        \u001b[36m1.0185\u001b[0m        \u001b[32m0.8415\u001b[0m  0.0172\n    304        \u001b[36m1.0178\u001b[0m        \u001b[32m0.8413\u001b[0m  0.0165\n    305        \u001b[36m1.0170\u001b[0m        \u001b[32m0.8410\u001b[0m  0.0162\n    306        \u001b[36m1.0162\u001b[0m        \u001b[32m0.8407\u001b[0m  0.0165\n    307        \u001b[36m1.0155\u001b[0m        \u001b[32m0.8404\u001b[0m  0.0163\n    308        \u001b[36m1.0147\u001b[0m        \u001b[32m0.8402\u001b[0m  0.0167\n    309        \u001b[36m1.0139\u001b[0m        \u001b[32m0.8399\u001b[0m  0.0194\n    310        \u001b[36m1.0132\u001b[0m        \u001b[32m0.8396\u001b[0m  0.0181\n    311        \u001b[36m1.0124\u001b[0m        \u001b[32m0.8393\u001b[0m  0.0178\n    312        \u001b[36m1.0116\u001b[0m        \u001b[32m0.8391\u001b[0m  0.0193\n    313        \u001b[36m1.0109\u001b[0m        \u001b[32m0.8388\u001b[0m  0.0213\n    314        \u001b[36m1.0101\u001b[0m        \u001b[32m0.8385\u001b[0m  0.0322\n    315        \u001b[36m1.0093\u001b[0m        \u001b[32m0.8383\u001b[0m  0.0173\n    316        \u001b[36m1.0086\u001b[0m        \u001b[32m0.8380\u001b[0m  0.0158\n    317        \u001b[36m1.0078\u001b[0m        \u001b[32m0.8377\u001b[0m  0.0158\n    318        \u001b[36m1.0071\u001b[0m        \u001b[32m0.8375\u001b[0m  0.0324\n    319        \u001b[36m1.0063\u001b[0m        \u001b[32m0.8372\u001b[0m  0.0158\n    320        \u001b[36m1.0055\u001b[0m        \u001b[32m0.8369\u001b[0m  0.0157\n    321        \u001b[36m1.0048\u001b[0m        \u001b[32m0.8367\u001b[0m  0.0157\n    322        \u001b[36m1.0040\u001b[0m        \u001b[32m0.8364\u001b[0m  0.0155\n    323        \u001b[36m1.0032\u001b[0m        \u001b[32m0.8361\u001b[0m  0.0319\n    324        \u001b[36m1.0025\u001b[0m        \u001b[32m0.8359\u001b[0m  0.0168\n    325        \u001b[36m1.0017\u001b[0m        \u001b[32m0.8356\u001b[0m  0.0164\n    326        \u001b[36m1.0010\u001b[0m        \u001b[32m0.8353\u001b[0m  0.0163\n    327        \u001b[36m1.0002\u001b[0m        \u001b[32m0.8351\u001b[0m  0.0163\n    328        \u001b[36m0.9994\u001b[0m        \u001b[32m0.8348\u001b[0m  0.0288\n    329        \u001b[36m0.9987\u001b[0m        \u001b[32m0.8346\u001b[0m  0.0160\n    330        \u001b[36m0.9979\u001b[0m        \u001b[32m0.8343\u001b[0m  0.0159\n    331        \u001b[36m0.9972\u001b[0m        \u001b[32m0.8340\u001b[0m  0.0166\n    332        \u001b[36m0.9964\u001b[0m        \u001b[32m0.8338\u001b[0m  0.0164\n    333        \u001b[36m0.9956\u001b[0m        \u001b[32m0.8335\u001b[0m  0.0271\n    334        \u001b[36m0.9949\u001b[0m        \u001b[32m0.8332\u001b[0m  0.0160\n    335        \u001b[36m0.9941\u001b[0m        \u001b[32m0.8330\u001b[0m  0.0169\n    336        \u001b[36m0.9934\u001b[0m        \u001b[32m0.8327\u001b[0m  0.0165\n    337        \u001b[36m0.9926\u001b[0m        \u001b[32m0.8325\u001b[0m  0.0159\n    338        \u001b[36m0.9919\u001b[0m        \u001b[32m0.8322\u001b[0m  0.0343\n    339        \u001b[36m0.9911\u001b[0m        \u001b[32m0.8319\u001b[0m  0.0186\n    340        \u001b[36m0.9904\u001b[0m        \u001b[32m0.8317\u001b[0m  0.0191\n    341        \u001b[36m0.9896\u001b[0m        \u001b[32m0.8314\u001b[0m  0.0186\n    342        \u001b[36m0.9889\u001b[0m        \u001b[32m0.8312\u001b[0m  0.0353\n    343        \u001b[36m0.9881\u001b[0m        \u001b[32m0.8309\u001b[0m  0.0189\n    344        \u001b[36m0.9874\u001b[0m        \u001b[32m0.8306\u001b[0m  0.0187\n    345        \u001b[36m0.9866\u001b[0m        \u001b[32m0.8304\u001b[0m  0.0188\n    346        \u001b[36m0.9859\u001b[0m        \u001b[32m0.8301\u001b[0m  0.0343\n    347        \u001b[36m0.9851\u001b[0m        \u001b[32m0.8299\u001b[0m  0.0197\n    348        \u001b[36m0.9844\u001b[0m        \u001b[32m0.8296\u001b[0m  0.0173\n    349        \u001b[36m0.9836\u001b[0m        \u001b[32m0.8293\u001b[0m  0.0163\n    350        \u001b[36m0.9829\u001b[0m        \u001b[32m0.8291\u001b[0m  0.0166\n    351        \u001b[36m0.9821\u001b[0m        \u001b[32m0.8288\u001b[0m  0.0287\n    352        \u001b[36m0.9814\u001b[0m        \u001b[32m0.8286\u001b[0m  0.0170\n    353        \u001b[36m0.9807\u001b[0m        \u001b[32m0.8283\u001b[0m  0.0170\n    354        \u001b[36m0.9799\u001b[0m        \u001b[32m0.8281\u001b[0m  0.0158\n    355        \u001b[36m0.9792\u001b[0m        \u001b[32m0.8278\u001b[0m  0.0311\n    356        \u001b[36m0.9784\u001b[0m        \u001b[32m0.8275\u001b[0m  0.0212\n    357        \u001b[36m0.9777\u001b[0m        \u001b[32m0.8273\u001b[0m  0.0182\n    358        \u001b[36m0.9770\u001b[0m        \u001b[32m0.8270\u001b[0m  0.0984\n    359        \u001b[36m0.9762\u001b[0m        \u001b[32m0.8268\u001b[0m  0.0160\n    360        \u001b[36m0.9755\u001b[0m        \u001b[32m0.8265\u001b[0m  0.0163\n    361        \u001b[36m0.9748\u001b[0m        \u001b[32m0.8263\u001b[0m  0.0157\n    362        \u001b[36m0.9740\u001b[0m        \u001b[32m0.8260\u001b[0m  0.0164\n    363        \u001b[36m0.9733\u001b[0m        \u001b[32m0.8258\u001b[0m  0.0163\n    364        \u001b[36m0.9726\u001b[0m        \u001b[32m0.8255\u001b[0m  0.0165\n    365        \u001b[36m0.9719\u001b[0m        \u001b[32m0.8253\u001b[0m  0.0158\n    366        \u001b[36m0.9711\u001b[0m        \u001b[32m0.8250\u001b[0m  0.0166\n    367        \u001b[36m0.9704\u001b[0m        \u001b[32m0.8248\u001b[0m  0.0278\n    368        \u001b[36m0.9697\u001b[0m        \u001b[32m0.8245\u001b[0m  0.0160\n    369        \u001b[36m0.9690\u001b[0m        \u001b[32m0.8243\u001b[0m  0.0157\n    370        \u001b[36m0.9682\u001b[0m        \u001b[32m0.8240\u001b[0m  0.0157\n    371        \u001b[36m0.9675\u001b[0m        \u001b[32m0.8238\u001b[0m  0.0180\n    372        \u001b[36m0.9668\u001b[0m        \u001b[32m0.8235\u001b[0m  0.0166\n    373        \u001b[36m0.9661\u001b[0m        \u001b[32m0.8233\u001b[0m  0.0164\n    374        \u001b[36m0.9654\u001b[0m        \u001b[32m0.8230\u001b[0m  0.0200\n    375        \u001b[36m0.9647\u001b[0m        \u001b[32m0.8228\u001b[0m  0.0174\n    376        \u001b[36m0.9640\u001b[0m        \u001b[32m0.8225\u001b[0m  0.0321\n    377        \u001b[36m0.9633\u001b[0m        \u001b[32m0.8223\u001b[0m  0.0158\n    378        \u001b[36m0.9626\u001b[0m        \u001b[32m0.8220\u001b[0m  0.0159\n    379        \u001b[36m0.9618\u001b[0m        \u001b[32m0.8218\u001b[0m  0.0158\n    380        \u001b[36m0.9611\u001b[0m        \u001b[32m0.8216\u001b[0m  0.0162\n    381        \u001b[36m0.9604\u001b[0m        \u001b[32m0.8213\u001b[0m  0.0320\n    382        \u001b[36m0.9597\u001b[0m        \u001b[32m0.8211\u001b[0m  0.0159\n    383        \u001b[36m0.9590\u001b[0m        \u001b[32m0.8209\u001b[0m  0.0187\n    384        \u001b[36m0.9584\u001b[0m        \u001b[32m0.8206\u001b[0m  0.0156\n    385        \u001b[36m0.9577\u001b[0m        \u001b[32m0.8204\u001b[0m  0.0159\n    386        \u001b[36m0.9570\u001b[0m        \u001b[32m0.8201\u001b[0m  0.0341\n    387        \u001b[36m0.9563\u001b[0m        \u001b[32m0.8199\u001b[0m  0.0278\n    388        \u001b[36m0.9556\u001b[0m        \u001b[32m0.8197\u001b[0m  0.0177\n    389        \u001b[36m0.9549\u001b[0m        \u001b[32m0.8195\u001b[0m  0.0165\n    390        \u001b[36m0.9542\u001b[0m        \u001b[32m0.8192\u001b[0m  0.0230\n    391        \u001b[36m0.9535\u001b[0m        \u001b[32m0.8190\u001b[0m  0.0165\n    392        \u001b[36m0.9529\u001b[0m        \u001b[32m0.8188\u001b[0m  0.0162\n    393        \u001b[36m0.9522\u001b[0m        \u001b[32m0.8186\u001b[0m  0.0250\n    394        \u001b[36m0.9515\u001b[0m        \u001b[32m0.8183\u001b[0m  0.0289\n    395        \u001b[36m0.9508\u001b[0m        \u001b[32m0.8181\u001b[0m  0.0174\n    396        \u001b[36m0.9502\u001b[0m        \u001b[32m0.8179\u001b[0m  0.0163\n    397        \u001b[36m0.9495\u001b[0m        \u001b[32m0.8177\u001b[0m  0.0170\n    398        \u001b[36m0.9488\u001b[0m        \u001b[32m0.8175\u001b[0m  0.0162\n    399        \u001b[36m0.9482\u001b[0m        \u001b[32m0.8172\u001b[0m  0.0286\n    400        \u001b[36m0.9475\u001b[0m        \u001b[32m0.8170\u001b[0m  0.0183\n    401        \u001b[36m0.9468\u001b[0m        \u001b[32m0.8168\u001b[0m  0.0192\n    402        \u001b[36m0.9462\u001b[0m        \u001b[32m0.8166\u001b[0m  0.0251\n    403        \u001b[36m0.9455\u001b[0m        \u001b[32m0.8164\u001b[0m  0.0166\n    404        \u001b[36m0.9449\u001b[0m        \u001b[32m0.8162\u001b[0m  0.0159\n    405        \u001b[36m0.9442\u001b[0m        \u001b[32m0.8160\u001b[0m  0.0160\n    406        \u001b[36m0.9436\u001b[0m        \u001b[32m0.8158\u001b[0m  0.0183\n    407        \u001b[36m0.9429\u001b[0m        \u001b[32m0.8156\u001b[0m  0.0169\n    408        \u001b[36m0.9423\u001b[0m        \u001b[32m0.8154\u001b[0m  0.0276\n    409        \u001b[36m0.9416\u001b[0m        \u001b[32m0.8152\u001b[0m  0.0165\n    410        \u001b[36m0.9410\u001b[0m        \u001b[32m0.8150\u001b[0m  0.0160\n    411        \u001b[36m0.9404\u001b[0m        \u001b[32m0.8148\u001b[0m  0.0164\n    412        \u001b[36m0.9397\u001b[0m        \u001b[32m0.8146\u001b[0m  0.0158\n    413        \u001b[36m0.9391\u001b[0m        \u001b[32m0.8144\u001b[0m  0.0311\n    414        \u001b[36m0.9385\u001b[0m        \u001b[32m0.8142\u001b[0m  0.0159\n    415        \u001b[36m0.9378\u001b[0m        \u001b[32m0.8140\u001b[0m  0.0164\n    416        \u001b[36m0.9372\u001b[0m        \u001b[32m0.8139\u001b[0m  0.0167\nStopping since valid_loss has not improved in the last 20 epochs.\n  epoch    train_loss    valid_loss     dur\n-------  ------------  ------------  ------\n      1      \u001b[36m189.2430\u001b[0m       \u001b[32m51.3553\u001b[0m  0.0315\n      2       \u001b[36m78.7700\u001b[0m       \u001b[32m36.3163\u001b[0m  0.0160\n      3       \u001b[36m47.7942\u001b[0m       70.6649  0.0199\n      4       50.9937       \u001b[32m16.8337\u001b[0m  0.0164\n      5       \u001b[36m25.0214\u001b[0m       28.6191  0.0399\n      6       25.4682        \u001b[32m9.9433\u001b[0m  0.0190\n      7       \u001b[36m12.0090\u001b[0m       21.1017  0.0185\n      8       18.9914       10.5156  0.0155\n      9       \u001b[36m10.7195\u001b[0m       14.5362  0.0153\n     10       14.7752       11.4822  0.0158\n     11       10.7220       10.1542  0.0157\n     12       \u001b[36m10.6740\u001b[0m       12.1253  0.0173\n     13       11.2086        \u001b[32m8.2642\u001b[0m  0.0178\n     14        \u001b[36m8.4936\u001b[0m        8.7853  0.0428\n     15        9.3383        \u001b[32m8.1585\u001b[0m  0.0207\n     16        \u001b[36m8.2147\u001b[0m        \u001b[32m7.4072\u001b[0m  0.0190\n     17        \u001b[36m7.4773\u001b[0m        8.4755  0.0189\n     18        7.9776        \u001b[32m7.3071\u001b[0m  0.0355\n     19        \u001b[36m6.9470\u001b[0m        \u001b[32m6.5828\u001b[0m  0.0190\n     20        \u001b[36m6.6780\u001b[0m        \u001b[32m6.3841\u001b[0m  0.0190\n     21        \u001b[36m6.3467\u001b[0m        \u001b[32m5.4235\u001b[0m  0.0426\n     22        \u001b[36m5.4003\u001b[0m        \u001b[32m5.0948\u001b[0m  0.0158\n     23        \u001b[36m4.9971\u001b[0m        \u001b[32m4.2437\u001b[0m  0.0155\n     24        \u001b[36m4.2617\u001b[0m        \u001b[32m3.6750\u001b[0m  0.0157\n     25        \u001b[36m4.0396\u001b[0m        \u001b[32m3.2979\u001b[0m  0.0155\n     26        \u001b[36m3.5176\u001b[0m        \u001b[32m2.8660\u001b[0m  0.0345\n     27        \u001b[36m3.0289\u001b[0m        \u001b[32m2.8337\u001b[0m  0.0197\n     28        \u001b[36m2.8794\u001b[0m        \u001b[32m2.4206\u001b[0m  0.0194\n     29        \u001b[36m2.5378\u001b[0m        \u001b[32m2.1719\u001b[0m  0.0228\n     30        \u001b[36m2.3457\u001b[0m        \u001b[32m1.8619\u001b[0m  0.0370\n     31        \u001b[36m2.0390\u001b[0m        \u001b[32m1.8128\u001b[0m  0.0202\n     32        \u001b[36m1.9650\u001b[0m        \u001b[32m1.6899\u001b[0m  0.0190\n     33        \u001b[36m1.8329\u001b[0m        \u001b[32m1.5069\u001b[0m  0.0190\n     34        \u001b[36m1.7213\u001b[0m        \u001b[32m1.4235\u001b[0m  0.0393\n     35        \u001b[36m1.6369\u001b[0m        \u001b[32m1.4009\u001b[0m  0.0166\n     36        \u001b[36m1.6021\u001b[0m        \u001b[32m1.3801\u001b[0m  0.0153\n     37        \u001b[36m1.5654\u001b[0m        \u001b[32m1.2961\u001b[0m  0.0155\n     38        \u001b[36m1.5163\u001b[0m        \u001b[32m1.2672\u001b[0m  0.0408\n     39        \u001b[36m1.5051\u001b[0m        \u001b[32m1.2464\u001b[0m  0.0211\n     40        \u001b[36m1.4735\u001b[0m        \u001b[32m1.2445\u001b[0m  0.0158\n     41        \u001b[36m1.4569\u001b[0m        \u001b[32m1.2036\u001b[0m  0.0155\n     42        \u001b[36m1.4280\u001b[0m        \u001b[32m1.1814\u001b[0m  0.0162\n     43        \u001b[36m1.4182\u001b[0m        \u001b[32m1.1670\u001b[0m  0.0164\n     44        \u001b[36m1.3982\u001b[0m        \u001b[32m1.1637\u001b[0m  0.0165\n     45        \u001b[36m1.3866\u001b[0m        \u001b[32m1.1492\u001b[0m  0.0178\n     46        \u001b[36m1.3738\u001b[0m        \u001b[32m1.1219\u001b[0m  0.0190\n     47        \u001b[36m1.3591\u001b[0m        \u001b[32m1.1095\u001b[0m  0.0389\n     48        \u001b[36m1.3454\u001b[0m        \u001b[32m1.1080\u001b[0m  0.0202\n     49        \u001b[36m1.3338\u001b[0m        \u001b[32m1.1031\u001b[0m  0.0194\n     50        \u001b[36m1.3254\u001b[0m        \u001b[32m1.0836\u001b[0m  0.0203\n     51        \u001b[36m1.3134\u001b[0m        \u001b[32m1.0697\u001b[0m  0.0359\n     52        \u001b[36m1.3038\u001b[0m        \u001b[32m1.0661\u001b[0m  0.0180\n     53        \u001b[36m1.2953\u001b[0m        \u001b[32m1.0641\u001b[0m  0.0189\n     54        \u001b[36m1.2884\u001b[0m        \u001b[32m1.0515\u001b[0m  0.0385\n     55        \u001b[36m1.2792\u001b[0m        \u001b[32m1.0385\u001b[0m  0.0164\n     56        \u001b[36m1.2709\u001b[0m        \u001b[32m1.0336\u001b[0m  0.0198\n     57        \u001b[36m1.2639\u001b[0m        \u001b[32m1.0325\u001b[0m  0.0175\n     58        \u001b[36m1.2584\u001b[0m        \u001b[32m1.0257\u001b[0m  0.0156\n     59        \u001b[36m1.2524\u001b[0m        \u001b[32m1.0147\u001b[0m  0.0403\n     60        \u001b[36m1.2458\u001b[0m        \u001b[32m1.0079\u001b[0m  0.0288\n     61        \u001b[36m1.2399\u001b[0m        \u001b[32m1.0060\u001b[0m  0.0230\n     62        \u001b[36m1.2350\u001b[0m        \u001b[32m1.0032\u001b[0m  0.0373\n     63        \u001b[36m1.2306\u001b[0m        \u001b[32m0.9963\u001b[0m  0.0186\n     64        \u001b[36m1.2257\u001b[0m        \u001b[32m0.9900\u001b[0m  0.0178\n     65        \u001b[36m1.2209\u001b[0m        \u001b[32m0.9872\u001b[0m  0.0200\n     66        \u001b[36m1.2167\u001b[0m        \u001b[32m0.9854\u001b[0m  0.0399\n     67        \u001b[36m1.2132\u001b[0m        \u001b[32m0.9813\u001b[0m  0.0206\n     68        \u001b[36m1.2095\u001b[0m        \u001b[32m0.9765\u001b[0m  0.0204\n     69        \u001b[36m1.2057\u001b[0m        \u001b[32m0.9736\u001b[0m  0.0219\n     70        \u001b[36m1.2021\u001b[0m        \u001b[32m0.9719\u001b[0m  0.0198\n     71        \u001b[36m1.1990\u001b[0m        \u001b[32m0.9692\u001b[0m  0.0154\n     72        \u001b[36m1.1960\u001b[0m        \u001b[32m0.9656\u001b[0m  0.0157\n     73        \u001b[36m1.1930\u001b[0m        \u001b[32m0.9628\u001b[0m  0.0155\n     74        \u001b[36m1.1900\u001b[0m        \u001b[32m0.9610\u001b[0m  0.0348\n     75        \u001b[36m1.1874\u001b[0m        \u001b[32m0.9590\u001b[0m  0.0157\n     76        \u001b[36m1.1848\u001b[0m        \u001b[32m0.9563\u001b[0m  0.0166\n     77        \u001b[36m1.1823\u001b[0m        \u001b[32m0.9540\u001b[0m  0.0161\n     78        \u001b[36m1.1799\u001b[0m        \u001b[32m0.9522\u001b[0m  0.0175\n     79        \u001b[36m1.1776\u001b[0m        \u001b[32m0.9505\u001b[0m  0.0155\n     80        \u001b[36m1.1754\u001b[0m        \u001b[32m0.9484\u001b[0m  0.0165\n     81        \u001b[36m1.1733\u001b[0m        \u001b[32m0.9463\u001b[0m  0.0163\n     82        \u001b[36m1.1713\u001b[0m        \u001b[32m0.9448\u001b[0m  0.0160\n     83        \u001b[36m1.1693\u001b[0m        \u001b[32m0.9433\u001b[0m  0.0398\n     84        \u001b[36m1.1674\u001b[0m        \u001b[32m0.9416\u001b[0m  0.0174\n     85        \u001b[36m1.1656\u001b[0m        \u001b[32m0.9399\u001b[0m  0.0163\n     86        \u001b[36m1.1638\u001b[0m        \u001b[32m0.9385\u001b[0m  0.0162\n     87        \u001b[36m1.1621\u001b[0m        \u001b[32m0.9373\u001b[0m  0.0394\n     88        \u001b[36m1.1605\u001b[0m        \u001b[32m0.9359\u001b[0m  0.0165\n     89        \u001b[36m1.1589\u001b[0m        \u001b[32m0.9344\u001b[0m  0.0191\n     90        \u001b[36m1.1574\u001b[0m        \u001b[32m0.9333\u001b[0m  0.0163\n     91        \u001b[36m1.1559\u001b[0m        \u001b[32m0.9322\u001b[0m  0.0155\n     92        \u001b[36m1.1545\u001b[0m        \u001b[32m0.9311\u001b[0m  0.0335\n     93        \u001b[36m1.1531\u001b[0m        \u001b[32m0.9299\u001b[0m  0.0156\n     94        \u001b[36m1.1517\u001b[0m        \u001b[32m0.9288\u001b[0m  0.0167\n     95        \u001b[36m1.1504\u001b[0m        \u001b[32m0.9279\u001b[0m  0.0164\n     96        \u001b[36m1.1491\u001b[0m        \u001b[32m0.9270\u001b[0m  0.0350\n     97        \u001b[36m1.1479\u001b[0m        \u001b[32m0.9260\u001b[0m  0.0156\n     98        \u001b[36m1.1467\u001b[0m        \u001b[32m0.9251\u001b[0m  0.0156\n     99        \u001b[36m1.1455\u001b[0m        \u001b[32m0.9243\u001b[0m  0.0242\n    100        \u001b[36m1.1444\u001b[0m        \u001b[32m0.9235\u001b[0m  0.0417\n    101        \u001b[36m1.1433\u001b[0m        \u001b[32m0.9227\u001b[0m  0.0164\n    102        \u001b[36m1.1422\u001b[0m        \u001b[32m0.9219\u001b[0m  0.0160\n    103        \u001b[36m1.1411\u001b[0m        \u001b[32m0.9212\u001b[0m  0.0158\n    104        \u001b[36m1.1401\u001b[0m        \u001b[32m0.9205\u001b[0m  0.0162\n    105        \u001b[36m1.1391\u001b[0m        \u001b[32m0.9198\u001b[0m  0.0185\n    106        \u001b[36m1.1381\u001b[0m        \u001b[32m0.9191\u001b[0m  0.0201\n    107        \u001b[36m1.1371\u001b[0m        \u001b[32m0.9184\u001b[0m  0.0174\n    108        \u001b[36m1.1361\u001b[0m        \u001b[32m0.9178\u001b[0m  0.0165\n    109        \u001b[36m1.1352\u001b[0m        \u001b[32m0.9172\u001b[0m  0.0334\n    110        \u001b[36m1.1343\u001b[0m        \u001b[32m0.9167\u001b[0m  0.0178\n    111        \u001b[36m1.1334\u001b[0m        \u001b[32m0.9161\u001b[0m  0.0189\n    112        \u001b[36m1.1325\u001b[0m        \u001b[32m0.9156\u001b[0m  0.0206\n    113        \u001b[36m1.1317\u001b[0m        \u001b[32m0.9150\u001b[0m  0.0393\n    114        \u001b[36m1.1308\u001b[0m        \u001b[32m0.9145\u001b[0m  0.0155\n    115        \u001b[36m1.1300\u001b[0m        \u001b[32m0.9140\u001b[0m  0.0154\n    116        \u001b[36m1.1292\u001b[0m        \u001b[32m0.9136\u001b[0m  0.0161\n    117        \u001b[36m1.1284\u001b[0m        \u001b[32m0.9131\u001b[0m  0.0359\n    118        \u001b[36m1.1276\u001b[0m        \u001b[32m0.9127\u001b[0m  0.0166\n    119        \u001b[36m1.1268\u001b[0m        \u001b[32m0.9122\u001b[0m  0.0169\n    120        \u001b[36m1.1261\u001b[0m        \u001b[32m0.9118\u001b[0m  0.0164\n    121        \u001b[36m1.1253\u001b[0m        \u001b[32m0.9114\u001b[0m  0.0175\n    122        \u001b[36m1.1246\u001b[0m        \u001b[32m0.9110\u001b[0m  0.0360\n    123        \u001b[36m1.1238\u001b[0m        \u001b[32m0.9106\u001b[0m  0.0164\n    124        \u001b[36m1.1231\u001b[0m        \u001b[32m0.9102\u001b[0m  0.0161\n    125        \u001b[36m1.1224\u001b[0m        \u001b[32m0.9099\u001b[0m  0.0156\n    126        \u001b[36m1.1217\u001b[0m        \u001b[32m0.9095\u001b[0m  0.0351\n    127        \u001b[36m1.1210\u001b[0m        \u001b[32m0.9092\u001b[0m  0.0159\n    128        \u001b[36m1.1203\u001b[0m        \u001b[32m0.9088\u001b[0m  0.0156\n    129        \u001b[36m1.1196\u001b[0m        \u001b[32m0.9085\u001b[0m  0.0158\n    130        \u001b[36m1.1190\u001b[0m        \u001b[32m0.9082\u001b[0m  0.0163\n    131        \u001b[36m1.1183\u001b[0m        \u001b[32m0.9078\u001b[0m  0.0371\n    132        \u001b[36m1.1176\u001b[0m        \u001b[32m0.9075\u001b[0m  0.0163\n    133        \u001b[36m1.1170\u001b[0m        \u001b[32m0.9072\u001b[0m  0.0160\n    134        \u001b[36m1.1163\u001b[0m        \u001b[32m0.9069\u001b[0m  0.0157\n    135        \u001b[36m1.1157\u001b[0m        \u001b[32m0.9066\u001b[0m  0.0154\n    136        \u001b[36m1.1151\u001b[0m        \u001b[32m0.9064\u001b[0m  0.0252\n    137        \u001b[36m1.1144\u001b[0m        \u001b[32m0.9061\u001b[0m  0.0165\n    138        \u001b[36m1.1138\u001b[0m        \u001b[32m0.9058\u001b[0m  0.0169\n    139        \u001b[36m1.1132\u001b[0m        \u001b[32m0.9055\u001b[0m  0.0162\n    140        \u001b[36m1.1126\u001b[0m        \u001b[32m0.9053\u001b[0m  0.0317\n    141        \u001b[36m1.1120\u001b[0m        \u001b[32m0.9050\u001b[0m  0.0163\n    142        \u001b[36m1.1114\u001b[0m        \u001b[32m0.9048\u001b[0m  0.0164\n    143        \u001b[36m1.1108\u001b[0m        \u001b[32m0.9045\u001b[0m  0.0156\n    144        \u001b[36m1.1102\u001b[0m        \u001b[32m0.9043\u001b[0m  0.0378\n    145        \u001b[36m1.1096\u001b[0m        \u001b[32m0.9040\u001b[0m  0.0158\n    146        \u001b[36m1.1090\u001b[0m        \u001b[32m0.9038\u001b[0m  0.0158\n    147        \u001b[36m1.1084\u001b[0m        \u001b[32m0.9036\u001b[0m  0.0177\n    148        \u001b[36m1.1078\u001b[0m        \u001b[32m0.9033\u001b[0m  0.0160\n    149        \u001b[36m1.1073\u001b[0m        \u001b[32m0.9031\u001b[0m  0.0351\n    150        \u001b[36m1.1067\u001b[0m        \u001b[32m0.9029\u001b[0m  0.0156\n    151        \u001b[36m1.1061\u001b[0m        \u001b[32m0.9027\u001b[0m  0.0158\n    152        \u001b[36m1.1056\u001b[0m        \u001b[32m0.9024\u001b[0m  0.0164\n    153        \u001b[36m1.1050\u001b[0m        \u001b[32m0.9022\u001b[0m  0.0395\n    154        \u001b[36m1.1044\u001b[0m        \u001b[32m0.9020\u001b[0m  0.0889\n    155        \u001b[36m1.1039\u001b[0m        \u001b[32m0.9018\u001b[0m  0.0193\n    156        \u001b[36m1.1033\u001b[0m        \u001b[32m0.9016\u001b[0m  0.0194\n    157        \u001b[36m1.1028\u001b[0m        \u001b[32m0.9014\u001b[0m  0.0162\n    158        \u001b[36m1.1022\u001b[0m        \u001b[32m0.9012\u001b[0m  0.0154\n    159        \u001b[36m1.1017\u001b[0m        \u001b[32m0.9010\u001b[0m  0.0346\n    160        \u001b[36m1.1012\u001b[0m        \u001b[32m0.9008\u001b[0m  0.0155\n    161        \u001b[36m1.1006\u001b[0m        \u001b[32m0.9006\u001b[0m  0.0157\n    162        \u001b[36m1.1001\u001b[0m        \u001b[32m0.9004\u001b[0m  0.0161\n    163        \u001b[36m1.0995\u001b[0m        \u001b[32m0.9002\u001b[0m  0.0160\n    164        \u001b[36m1.0990\u001b[0m        \u001b[32m0.9000\u001b[0m  0.0163\n    165        \u001b[36m1.0985\u001b[0m        \u001b[32m0.8998\u001b[0m  0.0160\nStopping since valid_loss has not improved in the last 20 epochs.\n  epoch    train_loss    valid_loss     dur\n-------  ------------  ------------  ------\n      1      \u001b[36m165.5664\u001b[0m       \u001b[32m73.4436\u001b[0m  0.0165\n      2      \u001b[36m115.2330\u001b[0m       \u001b[32m68.4678\u001b[0m  0.0378\n      3       \u001b[36m44.7074\u001b[0m       \u001b[32m66.7120\u001b[0m  0.0162\n      4       77.1981       \u001b[32m60.4101\u001b[0m  0.0148\n      5       48.0601       \u001b[32m50.1234\u001b[0m  0.0147\n      6       50.6944       \u001b[32m25.2220\u001b[0m  0.0166\n      7       \u001b[36m16.3784\u001b[0m       \u001b[32m16.2289\u001b[0m  0.0378\n      8       20.1347       28.9593  0.0151\n      9       24.3773        \u001b[32m8.9680\u001b[0m  0.0191\n     10        \u001b[36m7.6474\u001b[0m        \u001b[32m7.2600\u001b[0m  0.0186\n     11        9.3755       11.1699  0.0384\n     12       10.0485        7.3064  0.0153\n     13        8.1021       10.2266  0.0153\n     14        9.5427        \u001b[32m5.6795\u001b[0m  0.0154\n     15        \u001b[36m4.6819\u001b[0m        \u001b[32m2.2810\u001b[0m  0.0390\n     16        \u001b[36m3.2797\u001b[0m        4.4191  0.0155\n     17        5.2286        3.2994  0.0155\n     18        3.6743        2.2973  0.0153\n     19        \u001b[36m2.8536\u001b[0m        3.1847  0.0152\n     20        3.3617        2.6110  0.0352\n     21        \u001b[36m2.7590\u001b[0m        \u001b[32m2.1306\u001b[0m  0.0147\n     22        \u001b[36m2.5504\u001b[0m        2.4602  0.0184\n     23        2.6708        \u001b[32m1.8170\u001b[0m  0.0155\n     24        \u001b[36m1.9919\u001b[0m        \u001b[32m1.4282\u001b[0m  0.0153\n     25        \u001b[36m1.7668\u001b[0m        1.8780  0.0157\n     26        2.0864        1.8780  0.0152\n     27        1.9980        1.5501  0.0147\n     28        1.7934        1.5130  0.0146\n     29        1.7912        1.4660  0.0390\n     30        \u001b[36m1.7001\u001b[0m        \u001b[32m1.3722\u001b[0m  0.0152\n     31        \u001b[36m1.6187\u001b[0m        1.4283  0.0147\n     32        1.6618        1.4024  0.0157\n     33        \u001b[36m1.6170\u001b[0m        \u001b[32m1.2711\u001b[0m  0.0167\n     34        \u001b[36m1.5301\u001b[0m        \u001b[32m1.2429\u001b[0m  0.0385\n     35        1.5391        1.2539  0.0148\n     36        1.5406        \u001b[32m1.2255\u001b[0m  0.0161\n     37        \u001b[36m1.4959\u001b[0m        1.2282  0.0147\n     38        \u001b[36m1.4798\u001b[0m        1.2373  0.0146\n     39        \u001b[36m1.4712\u001b[0m        \u001b[32m1.2104\u001b[0m  0.0346\n     40        \u001b[36m1.4478\u001b[0m        \u001b[32m1.1935\u001b[0m  0.0146\n     41        \u001b[36m1.4397\u001b[0m        \u001b[32m1.1898\u001b[0m  0.0162\n     42        \u001b[36m1.4331\u001b[0m        \u001b[32m1.1736\u001b[0m  0.0148\n     43        \u001b[36m1.4133\u001b[0m        \u001b[32m1.1665\u001b[0m  0.0392\n     44        \u001b[36m1.4037\u001b[0m        1.1694  0.0151\n     45        \u001b[36m1.4024\u001b[0m        \u001b[32m1.1577\u001b[0m  0.0151\n     46        \u001b[36m1.3925\u001b[0m        \u001b[32m1.1396\u001b[0m  0.0149\n     47        \u001b[36m1.3810\u001b[0m        \u001b[32m1.1299\u001b[0m  0.0154\n     48        \u001b[36m1.3733\u001b[0m        \u001b[32m1.1243\u001b[0m  0.0399\n     49        \u001b[36m1.3652\u001b[0m        \u001b[32m1.1212\u001b[0m  0.0176\n     50        \u001b[36m1.3593\u001b[0m        \u001b[32m1.1193\u001b[0m  0.0183\n     51        \u001b[36m1.3559\u001b[0m        \u001b[32m1.1122\u001b[0m  0.0194\n     52        \u001b[36m1.3500\u001b[0m        \u001b[32m1.1015\u001b[0m  0.0385\n     53        \u001b[36m1.3427\u001b[0m        \u001b[32m1.0940\u001b[0m  0.0163\n     54        \u001b[36m1.3368\u001b[0m        \u001b[32m1.0905\u001b[0m  0.0148\n     55        \u001b[36m1.3312\u001b[0m        \u001b[32m1.0895\u001b[0m  0.0149\n     56        \u001b[36m1.3259\u001b[0m        \u001b[32m1.0895\u001b[0m  0.0383\n     57        \u001b[36m1.3219\u001b[0m        \u001b[32m1.0873\u001b[0m  0.0151\n     58        \u001b[36m1.3179\u001b[0m        \u001b[32m1.0819\u001b[0m  0.0159\n     59        \u001b[36m1.3132\u001b[0m        \u001b[32m1.0758\u001b[0m  0.0152\n     60        \u001b[36m1.3085\u001b[0m        \u001b[32m1.0707\u001b[0m  0.0158\n     61        \u001b[36m1.3040\u001b[0m        \u001b[32m1.0668\u001b[0m  0.0378\n     62        \u001b[36m1.2997\u001b[0m        \u001b[32m1.0642\u001b[0m  0.0183\n     63        \u001b[36m1.2960\u001b[0m        \u001b[32m1.0616\u001b[0m  0.0154\n     64        \u001b[36m1.2925\u001b[0m        \u001b[32m1.0583\u001b[0m  0.0150\n     65        \u001b[36m1.2888\u001b[0m        \u001b[32m1.0548\u001b[0m  0.0385\n     66        \u001b[36m1.2850\u001b[0m        \u001b[32m1.0516\u001b[0m  0.0167\n     67        \u001b[36m1.2813\u001b[0m        \u001b[32m1.0490\u001b[0m  0.0150\n     68        \u001b[36m1.2778\u001b[0m        \u001b[32m1.0466\u001b[0m  0.0159\n     69        \u001b[36m1.2746\u001b[0m        \u001b[32m1.0441\u001b[0m  0.0159\n     70        \u001b[36m1.2715\u001b[0m        \u001b[32m1.0412\u001b[0m  0.0378\n     71        \u001b[36m1.2684\u001b[0m        \u001b[32m1.0382\u001b[0m  0.0182\n     72        \u001b[36m1.2652\u001b[0m        \u001b[32m1.0356\u001b[0m  0.0173\n     73        \u001b[36m1.2621\u001b[0m        \u001b[32m1.0335\u001b[0m  0.0148\n     74        \u001b[36m1.2591\u001b[0m        \u001b[32m1.0317\u001b[0m  0.0359\n     75        \u001b[36m1.2562\u001b[0m        \u001b[32m1.0299\u001b[0m  0.0156\n     76        \u001b[36m1.2535\u001b[0m        \u001b[32m1.0277\u001b[0m  0.0161\n     77        \u001b[36m1.2508\u001b[0m        \u001b[32m1.0251\u001b[0m  0.0156\n     78        \u001b[36m1.2481\u001b[0m        \u001b[32m1.0226\u001b[0m  0.0193\n     79        \u001b[36m1.2454\u001b[0m        \u001b[32m1.0204\u001b[0m  0.0342\n     80        \u001b[36m1.2428\u001b[0m        \u001b[32m1.0185\u001b[0m  0.0156\n     81        \u001b[36m1.2403\u001b[0m        \u001b[32m1.0168\u001b[0m  0.0171\n     82        \u001b[36m1.2379\u001b[0m        \u001b[32m1.0151\u001b[0m  0.0154\n     83        \u001b[36m1.2355\u001b[0m        \u001b[32m1.0133\u001b[0m  0.0379\n     84        \u001b[36m1.2331\u001b[0m        \u001b[32m1.0114\u001b[0m  0.0157\n     85        \u001b[36m1.2308\u001b[0m        \u001b[32m1.0096\u001b[0m  0.0154\n     86        \u001b[36m1.2285\u001b[0m        \u001b[32m1.0079\u001b[0m  0.0154\n     87        \u001b[36m1.2262\u001b[0m        \u001b[32m1.0063\u001b[0m  0.0156\n     88        \u001b[36m1.2241\u001b[0m        \u001b[32m1.0047\u001b[0m  0.0383\n     89        \u001b[36m1.2219\u001b[0m        \u001b[32m1.0031\u001b[0m  0.0155\n     90        \u001b[36m1.2198\u001b[0m        \u001b[32m1.0015\u001b[0m  0.0157\n     91        \u001b[36m1.2177\u001b[0m        \u001b[32m1.0000\u001b[0m  0.0150\n     92        \u001b[36m1.2157\u001b[0m        \u001b[32m0.9985\u001b[0m  0.0148\n     93        \u001b[36m1.2137\u001b[0m        \u001b[32m0.9971\u001b[0m  0.0423\n     94        \u001b[36m1.2117\u001b[0m        \u001b[32m0.9957\u001b[0m  0.0182\n     95        \u001b[36m1.2098\u001b[0m        \u001b[32m0.9943\u001b[0m  0.0183\n     96        \u001b[36m1.2079\u001b[0m        \u001b[32m0.9929\u001b[0m  0.0182\n     97        \u001b[36m1.2061\u001b[0m        \u001b[32m0.9915\u001b[0m  0.0149\n     98        \u001b[36m1.2042\u001b[0m        \u001b[32m0.9902\u001b[0m  0.0163\n     99        \u001b[36m1.2024\u001b[0m        \u001b[32m0.9890\u001b[0m  0.0151\n    100        \u001b[36m1.2006\u001b[0m        \u001b[32m0.9878\u001b[0m  0.0152\n    101        \u001b[36m1.1989\u001b[0m        \u001b[32m0.9866\u001b[0m  0.0341\n    102        \u001b[36m1.1972\u001b[0m        \u001b[32m0.9854\u001b[0m  0.0148\n    103        \u001b[36m1.1955\u001b[0m        \u001b[32m0.9842\u001b[0m  0.0146\n    104        \u001b[36m1.1938\u001b[0m        \u001b[32m0.9830\u001b[0m  0.0152\n    105        \u001b[36m1.1921\u001b[0m        \u001b[32m0.9818\u001b[0m  0.0155\n    106        \u001b[36m1.1905\u001b[0m        \u001b[32m0.9807\u001b[0m  0.0386\n    107        \u001b[36m1.1889\u001b[0m        \u001b[32m0.9797\u001b[0m  0.0153\n    108        \u001b[36m1.1874\u001b[0m        \u001b[32m0.9786\u001b[0m  0.0151\n    109        \u001b[36m1.1858\u001b[0m        \u001b[32m0.9775\u001b[0m  0.0150\n    110        \u001b[36m1.1843\u001b[0m        \u001b[32m0.9765\u001b[0m  0.0155\n    111        \u001b[36m1.1828\u001b[0m        \u001b[32m0.9755\u001b[0m  0.0342\n    112        \u001b[36m1.1813\u001b[0m        \u001b[32m0.9745\u001b[0m  0.0179\n    113        \u001b[36m1.1798\u001b[0m        \u001b[32m0.9735\u001b[0m  0.0179\n    114        \u001b[36m1.1784\u001b[0m        \u001b[32m0.9725\u001b[0m  0.0157\n    115        \u001b[36m1.1769\u001b[0m        \u001b[32m0.9716\u001b[0m  0.0406\n    116        \u001b[36m1.1755\u001b[0m        \u001b[32m0.9706\u001b[0m  0.0145\n    117        \u001b[36m1.1741\u001b[0m        \u001b[32m0.9697\u001b[0m  0.0152\n    118        \u001b[36m1.1727\u001b[0m        \u001b[32m0.9688\u001b[0m  0.0156\n    119        \u001b[36m1.1714\u001b[0m        \u001b[32m0.9680\u001b[0m  0.0157\n    120        \u001b[36m1.1700\u001b[0m        \u001b[32m0.9671\u001b[0m  0.0344\n    121        \u001b[36m1.1687\u001b[0m        \u001b[32m0.9662\u001b[0m  0.0168\n    122        \u001b[36m1.1674\u001b[0m        \u001b[32m0.9654\u001b[0m  0.0160\n    123        \u001b[36m1.1661\u001b[0m        \u001b[32m0.9645\u001b[0m  0.0178\n    124        \u001b[36m1.1648\u001b[0m        \u001b[32m0.9637\u001b[0m  0.0400\n    125        \u001b[36m1.1635\u001b[0m        \u001b[32m0.9629\u001b[0m  0.0159\n    126        \u001b[36m1.1623\u001b[0m        \u001b[32m0.9621\u001b[0m  0.0152\n    127        \u001b[36m1.1611\u001b[0m        \u001b[32m0.9614\u001b[0m  0.0151\n    128        \u001b[36m1.1598\u001b[0m        \u001b[32m0.9606\u001b[0m  0.0159\n    129        \u001b[36m1.1586\u001b[0m        \u001b[32m0.9598\u001b[0m  0.0348\n    130        \u001b[36m1.1574\u001b[0m        \u001b[32m0.9591\u001b[0m  0.0149\n    131        \u001b[36m1.1562\u001b[0m        \u001b[32m0.9583\u001b[0m  0.0189\n    132        \u001b[36m1.1551\u001b[0m        \u001b[32m0.9576\u001b[0m  0.0182\n    133        \u001b[36m1.1539\u001b[0m        \u001b[32m0.9569\u001b[0m  0.0375\n    134        \u001b[36m1.1527\u001b[0m        \u001b[32m0.9562\u001b[0m  0.0158\n    135        \u001b[36m1.1516\u001b[0m        \u001b[32m0.9555\u001b[0m  0.0184\n    136        \u001b[36m1.1505\u001b[0m        \u001b[32m0.9548\u001b[0m  0.0183\n    137        \u001b[36m1.1494\u001b[0m        \u001b[32m0.9542\u001b[0m  0.0152\n    138        \u001b[36m1.1483\u001b[0m        \u001b[32m0.9535\u001b[0m  0.0143\n    139        \u001b[36m1.1472\u001b[0m        \u001b[32m0.9528\u001b[0m  0.0153\n    140        \u001b[36m1.1461\u001b[0m        \u001b[32m0.9522\u001b[0m  0.0157\n    141        \u001b[36m1.1450\u001b[0m        \u001b[32m0.9515\u001b[0m  0.0154\n    142        \u001b[36m1.1439\u001b[0m        \u001b[32m0.9509\u001b[0m  0.0348\n    143        \u001b[36m1.1429\u001b[0m        \u001b[32m0.9503\u001b[0m  0.0155\n    144        \u001b[36m1.1418\u001b[0m        \u001b[32m0.9497\u001b[0m  0.0151\n    145        \u001b[36m1.1408\u001b[0m        \u001b[32m0.9491\u001b[0m  0.0151\n    146        \u001b[36m1.1398\u001b[0m        \u001b[32m0.9485\u001b[0m  0.0150\n    147        \u001b[36m1.1388\u001b[0m        \u001b[32m0.9479\u001b[0m  0.0353\n    148        \u001b[36m1.1378\u001b[0m        \u001b[32m0.9473\u001b[0m  0.0154\n    149        \u001b[36m1.1368\u001b[0m        \u001b[32m0.9467\u001b[0m  0.0153\n    150        \u001b[36m1.1358\u001b[0m        \u001b[32m0.9462\u001b[0m  0.0151\n    151        \u001b[36m1.1348\u001b[0m        \u001b[32m0.9456\u001b[0m  0.0154\n    152        \u001b[36m1.1338\u001b[0m        \u001b[32m0.9451\u001b[0m  0.0407\n    153        \u001b[36m1.1329\u001b[0m        \u001b[32m0.9445\u001b[0m  0.0153\n    154        \u001b[36m1.1319\u001b[0m        \u001b[32m0.9440\u001b[0m  0.0153\n    155        \u001b[36m1.1310\u001b[0m        \u001b[32m0.9434\u001b[0m  0.0154\n    156        \u001b[36m1.1300\u001b[0m        \u001b[32m0.9429\u001b[0m  0.0150\n    157        \u001b[36m1.1291\u001b[0m        \u001b[32m0.9424\u001b[0m  0.0303\n    158        \u001b[36m1.1282\u001b[0m        \u001b[32m0.9419\u001b[0m  0.0360\n    159        \u001b[36m1.1272\u001b[0m        \u001b[32m0.9414\u001b[0m  0.0184\n    160        \u001b[36m1.1263\u001b[0m        \u001b[32m0.9409\u001b[0m  0.0329\n    161        \u001b[36m1.1254\u001b[0m        \u001b[32m0.9404\u001b[0m  0.0188\n    162        \u001b[36m1.1245\u001b[0m        \u001b[32m0.9399\u001b[0m  0.0149\n    163        \u001b[36m1.1236\u001b[0m        \u001b[32m0.9394\u001b[0m  0.0150\n    164        \u001b[36m1.1228\u001b[0m        \u001b[32m0.9389\u001b[0m  0.0154\n    165        \u001b[36m1.1219\u001b[0m        \u001b[32m0.9385\u001b[0m  0.0363\n    166        \u001b[36m1.1210\u001b[0m        \u001b[32m0.9380\u001b[0m  0.0178\n    167        \u001b[36m1.1201\u001b[0m        \u001b[32m0.9375\u001b[0m  0.0155\n    168        \u001b[36m1.1193\u001b[0m        \u001b[32m0.9371\u001b[0m  0.0191\n    169        \u001b[36m1.1184\u001b[0m        \u001b[32m0.9366\u001b[0m  0.0338\n    170        \u001b[36m1.1176\u001b[0m        \u001b[32m0.9362\u001b[0m  0.0188\n    171        \u001b[36m1.1168\u001b[0m        \u001b[32m0.9358\u001b[0m  0.0177\n    172        \u001b[36m1.1159\u001b[0m        \u001b[32m0.9353\u001b[0m  0.0158\n    173        \u001b[36m1.1151\u001b[0m        \u001b[32m0.9349\u001b[0m  0.0159\n    174        \u001b[36m1.1143\u001b[0m        \u001b[32m0.9345\u001b[0m  0.0164\n    175        \u001b[36m1.1135\u001b[0m        \u001b[32m0.9341\u001b[0m  0.0150\n    176        \u001b[36m1.1127\u001b[0m        \u001b[32m0.9336\u001b[0m  0.0156\n    177        \u001b[36m1.1119\u001b[0m        \u001b[32m0.9332\u001b[0m  0.0149\n    178        \u001b[36m1.1111\u001b[0m        \u001b[32m0.9328\u001b[0m  0.0334\n    179        \u001b[36m1.1103\u001b[0m        \u001b[32m0.9324\u001b[0m  0.0159\n    180        \u001b[36m1.1095\u001b[0m        \u001b[32m0.9320\u001b[0m  0.0165\n    181        \u001b[36m1.1087\u001b[0m        \u001b[32m0.9316\u001b[0m  0.0151\n    182        \u001b[36m1.1079\u001b[0m        \u001b[32m0.9312\u001b[0m  0.0155\n    183        \u001b[36m1.1071\u001b[0m        \u001b[32m0.9309\u001b[0m  0.0363\n    184        \u001b[36m1.1064\u001b[0m        \u001b[32m0.9305\u001b[0m  0.0182\n    185        \u001b[36m1.1056\u001b[0m        \u001b[32m0.9301\u001b[0m  0.0158\n    186        \u001b[36m1.1049\u001b[0m        \u001b[32m0.9297\u001b[0m  0.0158\n    187        \u001b[36m1.1041\u001b[0m        \u001b[32m0.9294\u001b[0m  0.0402\n    188        \u001b[36m1.1034\u001b[0m        \u001b[32m0.9290\u001b[0m  0.0181\n    189        \u001b[36m1.1026\u001b[0m        \u001b[32m0.9286\u001b[0m  0.0156\n    190        \u001b[36m1.1019\u001b[0m        \u001b[32m0.9283\u001b[0m  0.0154\n    191        \u001b[36m1.1011\u001b[0m        \u001b[32m0.9279\u001b[0m  0.0149\n    192        \u001b[36m1.1004\u001b[0m        \u001b[32m0.9276\u001b[0m  0.0369\n    193        \u001b[36m1.0997\u001b[0m        \u001b[32m0.9273\u001b[0m  0.0143\n    194        \u001b[36m1.0990\u001b[0m        \u001b[32m0.9269\u001b[0m  0.0144\n    195        \u001b[36m1.0983\u001b[0m        \u001b[32m0.9266\u001b[0m  0.0147\n    196        \u001b[36m1.0976\u001b[0m        \u001b[32m0.9262\u001b[0m  0.0364\n    197        \u001b[36m1.0968\u001b[0m        \u001b[32m0.9259\u001b[0m  0.0151\n    198        \u001b[36m1.0961\u001b[0m        \u001b[32m0.9256\u001b[0m  0.0152\n    199        \u001b[36m1.0954\u001b[0m        \u001b[32m0.9253\u001b[0m  0.0148\n    200        \u001b[36m1.0947\u001b[0m        \u001b[32m0.9249\u001b[0m  0.0156\n    201        \u001b[36m1.0941\u001b[0m        \u001b[32m0.9246\u001b[0m  0.0376\n    202        \u001b[36m1.0934\u001b[0m        \u001b[32m0.9243\u001b[0m  0.0172\n    203        \u001b[36m1.0927\u001b[0m        \u001b[32m0.9240\u001b[0m  0.0200\n    204        \u001b[36m1.0920\u001b[0m        \u001b[32m0.9237\u001b[0m  0.0190\n    205        \u001b[36m1.0913\u001b[0m        \u001b[32m0.9234\u001b[0m  0.0382\n    206        \u001b[36m1.0907\u001b[0m        \u001b[32m0.9231\u001b[0m  0.0150\n    207        \u001b[36m1.0900\u001b[0m        \u001b[32m0.9228\u001b[0m  0.0153\n    208        \u001b[36m1.0893\u001b[0m        \u001b[32m0.9225\u001b[0m  0.0149\n    209        \u001b[36m1.0887\u001b[0m        \u001b[32m0.9222\u001b[0m  0.0146\n    210        \u001b[36m1.0880\u001b[0m        \u001b[32m0.9220\u001b[0m  0.0400\n    211        \u001b[36m1.0874\u001b[0m        \u001b[32m0.9217\u001b[0m  0.0195\n    212        \u001b[36m1.0867\u001b[0m        \u001b[32m0.9214\u001b[0m  0.0152\n    213        \u001b[36m1.0861\u001b[0m        \u001b[32m0.9211\u001b[0m  0.0223\n    214        \u001b[36m1.0854\u001b[0m        \u001b[32m0.9209\u001b[0m  0.0383\n    215        \u001b[36m1.0848\u001b[0m        \u001b[32m0.9206\u001b[0m  0.0159\n    216        \u001b[36m1.0842\u001b[0m        \u001b[32m0.9203\u001b[0m  0.0145\n    217        \u001b[36m1.0835\u001b[0m        \u001b[32m0.9201\u001b[0m  0.0143\n    218        \u001b[36m1.0829\u001b[0m        \u001b[32m0.9198\u001b[0m  0.0157\n    219        \u001b[36m1.0823\u001b[0m        \u001b[32m0.9196\u001b[0m  0.0156\n    220        \u001b[36m1.0817\u001b[0m        \u001b[32m0.9193\u001b[0m  0.0153\n    221        \u001b[36m1.0810\u001b[0m        \u001b[32m0.9190\u001b[0m  0.0163\n    222        \u001b[36m1.0804\u001b[0m        \u001b[32m0.9188\u001b[0m  0.0151\n    223        \u001b[36m1.0798\u001b[0m        \u001b[32m0.9186\u001b[0m  0.0346\n    224        \u001b[36m1.0792\u001b[0m        \u001b[32m0.9183\u001b[0m  0.0154\n    225        \u001b[36m1.0786\u001b[0m        \u001b[32m0.9181\u001b[0m  0.0159\n    226        \u001b[36m1.0780\u001b[0m        \u001b[32m0.9179\u001b[0m  0.0152\n    227        \u001b[36m1.0774\u001b[0m        \u001b[32m0.9176\u001b[0m  0.0161\n    228        \u001b[36m1.0768\u001b[0m        \u001b[32m0.9174\u001b[0m  0.0397\n    229        \u001b[36m1.0762\u001b[0m        \u001b[32m0.9172\u001b[0m  0.0159\n    230        \u001b[36m1.0756\u001b[0m        \u001b[32m0.9169\u001b[0m  0.0155\n    231        \u001b[36m1.0750\u001b[0m        \u001b[32m0.9167\u001b[0m  0.0151\n    232        \u001b[36m1.0745\u001b[0m        \u001b[32m0.9165\u001b[0m  0.0154\n    233        \u001b[36m1.0739\u001b[0m        \u001b[32m0.9163\u001b[0m  0.0327\n    234        \u001b[36m1.0733\u001b[0m        \u001b[32m0.9161\u001b[0m  0.0153\n    235        \u001b[36m1.0727\u001b[0m        \u001b[32m0.9159\u001b[0m  0.0151\n    236        \u001b[36m1.0721\u001b[0m        \u001b[32m0.9157\u001b[0m  0.0151\n    237        \u001b[36m1.0716\u001b[0m        \u001b[32m0.9155\u001b[0m  0.0389\n    238        \u001b[36m1.0710\u001b[0m        \u001b[32m0.9153\u001b[0m  0.0153\n    239        \u001b[36m1.0704\u001b[0m        \u001b[32m0.9151\u001b[0m  0.0155\n    240        \u001b[36m1.0699\u001b[0m        \u001b[32m0.9149\u001b[0m  0.0154\n    241        \u001b[36m1.0693\u001b[0m        \u001b[32m0.9147\u001b[0m  0.0158\n    242        \u001b[36m1.0688\u001b[0m        \u001b[32m0.9145\u001b[0m  0.0315\nStopping since valid_loss has not improved in the last 20 epochs.\n  epoch    train_loss    valid_loss     dur\n-------  ------------  ------------  ------\n      1      \u001b[36m232.4394\u001b[0m      \u001b[32m233.4681\u001b[0m  0.0237\n      2      \u001b[36m212.0896\u001b[0m      \u001b[32m194.3172\u001b[0m  0.0149\n      3      \u001b[36m169.2204\u001b[0m      \u001b[32m118.1483\u001b[0m  0.0151\n      4       \u001b[36m91.3772\u001b[0m       \u001b[32m26.5334\u001b[0m  0.0200\n      5       \u001b[36m20.0249\u001b[0m       30.0702  0.0165\n      6       35.4158       49.2029  0.0181\n      7       48.6178       28.2930  0.0317\n      8       25.2782       \u001b[32m10.4100\u001b[0m  0.0184\n      9       \u001b[36m10.3451\u001b[0m       13.2114  0.0158\n     10       13.5146       20.4804  0.0148\n     11       17.6989       16.2468  0.0161\n     12       12.6405        \u001b[32m7.7308\u001b[0m  0.0350\n     13        \u001b[36m6.6296\u001b[0m        \u001b[32m5.3959\u001b[0m  0.0160\n     14        \u001b[36m6.0597\u001b[0m        5.9717  0.0156\n     15        6.6797        \u001b[32m5.1149\u001b[0m  0.0166\n     16        6.1013        \u001b[32m4.9010\u001b[0m  0.0160\n     17        \u001b[36m5.3665\u001b[0m        \u001b[32m3.3214\u001b[0m  0.0323\n     18        \u001b[36m3.7255\u001b[0m        \u001b[32m2.5685\u001b[0m  0.0168\n     19        \u001b[36m2.8681\u001b[0m        \u001b[32m2.2498\u001b[0m  0.0155\n     20        \u001b[36m2.5280\u001b[0m        2.2924  0.0166\n     21        \u001b[36m2.5037\u001b[0m        2.2516  0.0353\n     22        \u001b[36m2.3645\u001b[0m        \u001b[32m1.9753\u001b[0m  0.0152\n     23        \u001b[36m2.0620\u001b[0m        \u001b[32m1.6946\u001b[0m  0.0147\n     24        \u001b[36m1.8318\u001b[0m        \u001b[32m1.5554\u001b[0m  0.0157\n     25        \u001b[36m1.7583\u001b[0m        \u001b[32m1.4973\u001b[0m  0.0152\n     26        \u001b[36m1.7483\u001b[0m        \u001b[32m1.4325\u001b[0m  0.0416\n     27        \u001b[36m1.7119\u001b[0m        \u001b[32m1.3587\u001b[0m  0.0182\n     28        \u001b[36m1.6483\u001b[0m        \u001b[32m1.3357\u001b[0m  0.0166\n     29        \u001b[36m1.6113\u001b[0m        1.3768  0.0161\n     30        1.6157        1.4102  0.0351\n     31        1.6119        1.3790  0.0171\n     32        \u001b[36m1.5719\u001b[0m        \u001b[32m1.3158\u001b[0m  0.0197\n     33        \u001b[36m1.5294\u001b[0m        \u001b[32m1.2749\u001b[0m  0.0148\n     34        \u001b[36m1.5119\u001b[0m        \u001b[32m1.2570\u001b[0m  0.0410\n     35        \u001b[36m1.5014\u001b[0m        \u001b[32m1.2407\u001b[0m  0.0184\n     36        \u001b[36m1.4794\u001b[0m        \u001b[32m1.2280\u001b[0m  0.0152\n     37        \u001b[36m1.4576\u001b[0m        \u001b[32m1.2278\u001b[0m  0.0152\n     38        \u001b[36m1.4492\u001b[0m        1.2296  0.0150\n     39        \u001b[36m1.4465\u001b[0m        \u001b[32m1.2180\u001b[0m  0.0347\n     40        \u001b[36m1.4378\u001b[0m        \u001b[32m1.1961\u001b[0m  0.0149\n     41        \u001b[36m1.4247\u001b[0m        \u001b[32m1.1781\u001b[0m  0.0146\n     42        \u001b[36m1.4146\u001b[0m        \u001b[32m1.1694\u001b[0m  0.0150\n     43        \u001b[36m1.4077\u001b[0m        \u001b[32m1.1646\u001b[0m  0.0148\n     44        \u001b[36m1.3998\u001b[0m        \u001b[32m1.1590\u001b[0m  0.0149\n     45        \u001b[36m1.3903\u001b[0m        \u001b[32m1.1530\u001b[0m  0.0149\n     46        \u001b[36m1.3822\u001b[0m        \u001b[32m1.1476\u001b[0m  0.0146\n     47        \u001b[36m1.3766\u001b[0m        \u001b[32m1.1418\u001b[0m  0.0154\n     48        \u001b[36m1.3714\u001b[0m        \u001b[32m1.1348\u001b[0m  0.0392\n     49        \u001b[36m1.3650\u001b[0m        \u001b[32m1.1282\u001b[0m  0.0158\n     50        \u001b[36m1.3583\u001b[0m        \u001b[32m1.1233\u001b[0m  0.0158\n     51        \u001b[36m1.3524\u001b[0m        \u001b[32m1.1194\u001b[0m  0.0150\n     52        \u001b[36m1.3469\u001b[0m        \u001b[32m1.1148\u001b[0m  0.0155\n     53        \u001b[36m1.3411\u001b[0m        \u001b[32m1.1092\u001b[0m  0.0445\n     54        \u001b[36m1.3354\u001b[0m        \u001b[32m1.1038\u001b[0m  0.0197\n     55        \u001b[36m1.3303\u001b[0m        \u001b[32m1.0989\u001b[0m  0.0162\n     56        \u001b[36m1.3256\u001b[0m        \u001b[32m1.0942\u001b[0m  0.0213\n     57        \u001b[36m1.3207\u001b[0m        \u001b[32m1.0895\u001b[0m  0.0159\n     58        \u001b[36m1.3156\u001b[0m        \u001b[32m1.0849\u001b[0m  0.0157\n     59        \u001b[36m1.3107\u001b[0m        \u001b[32m1.0802\u001b[0m  0.0155\n     60        \u001b[36m1.3059\u001b[0m        \u001b[32m1.0756\u001b[0m  0.0225\n     61        \u001b[36m1.3013\u001b[0m        \u001b[32m1.0712\u001b[0m  0.0358\n     62        \u001b[36m1.2968\u001b[0m        \u001b[32m1.0672\u001b[0m  0.0174\n     63        \u001b[36m1.2924\u001b[0m        \u001b[32m1.0634\u001b[0m  0.0149\n     64        \u001b[36m1.2882\u001b[0m        \u001b[32m1.0597\u001b[0m  0.0148\n     65        \u001b[36m1.2841\u001b[0m        \u001b[32m1.0558\u001b[0m  0.0147\n     66        \u001b[36m1.2799\u001b[0m        \u001b[32m1.0515\u001b[0m  0.0152\n     67        \u001b[36m1.2757\u001b[0m        \u001b[32m1.0473\u001b[0m  0.0152\n     68        \u001b[36m1.2717\u001b[0m        \u001b[32m1.0432\u001b[0m  0.0150\n     69        \u001b[36m1.2677\u001b[0m        \u001b[32m1.0395\u001b[0m  0.0149\n     70        \u001b[36m1.2639\u001b[0m        \u001b[32m1.0361\u001b[0m  0.0390\n     71        \u001b[36m1.2601\u001b[0m        \u001b[32m1.0328\u001b[0m  0.0153\n     72        \u001b[36m1.2565\u001b[0m        \u001b[32m1.0293\u001b[0m  0.0147\n     73        \u001b[36m1.2528\u001b[0m        \u001b[32m1.0256\u001b[0m  0.0163\n     74        \u001b[36m1.2493\u001b[0m        \u001b[32m1.0219\u001b[0m  0.0159\n     75        \u001b[36m1.2457\u001b[0m        \u001b[32m1.0182\u001b[0m  0.0382\n     76        \u001b[36m1.2422\u001b[0m        \u001b[32m1.0148\u001b[0m  0.0161\n     77        \u001b[36m1.2388\u001b[0m        \u001b[32m1.0116\u001b[0m  0.0147\n     78        \u001b[36m1.2354\u001b[0m        \u001b[32m1.0086\u001b[0m  0.0163\n     79        \u001b[36m1.2322\u001b[0m        \u001b[32m1.0056\u001b[0m  0.0375\n     80        \u001b[36m1.2290\u001b[0m        \u001b[32m1.0025\u001b[0m  0.0160\n     81        \u001b[36m1.2258\u001b[0m        \u001b[32m0.9994\u001b[0m  0.0156\n     82        \u001b[36m1.2227\u001b[0m        \u001b[32m0.9963\u001b[0m  0.0155\n     83        \u001b[36m1.2197\u001b[0m        \u001b[32m0.9934\u001b[0m  0.0156\n     84        \u001b[36m1.2166\u001b[0m        \u001b[32m0.9906\u001b[0m  0.0351\n     85        \u001b[36m1.2137\u001b[0m        \u001b[32m0.9879\u001b[0m  0.0183\n     86        \u001b[36m1.2108\u001b[0m        \u001b[32m0.9853\u001b[0m  0.0184\n     87        \u001b[36m1.2080\u001b[0m        \u001b[32m0.9827\u001b[0m  0.0149\n     88        \u001b[36m1.2052\u001b[0m        \u001b[32m0.9801\u001b[0m  0.0382\n     89        \u001b[36m1.2024\u001b[0m        \u001b[32m0.9776\u001b[0m  0.0160\n     90        \u001b[36m1.1998\u001b[0m        \u001b[32m0.9751\u001b[0m  0.0150\n     91        \u001b[36m1.1971\u001b[0m        \u001b[32m0.9727\u001b[0m  0.0153\n     92        \u001b[36m1.1945\u001b[0m        \u001b[32m0.9704\u001b[0m  0.0147\n     93        \u001b[36m1.1920\u001b[0m        \u001b[32m0.9682\u001b[0m  0.0388\n     94        \u001b[36m1.1895\u001b[0m        \u001b[32m0.9660\u001b[0m  0.0147\n     95        \u001b[36m1.1870\u001b[0m        \u001b[32m0.9638\u001b[0m  0.0163\n     96        \u001b[36m1.1846\u001b[0m        \u001b[32m0.9617\u001b[0m  0.0173\n     97        \u001b[36m1.1822\u001b[0m        \u001b[32m0.9597\u001b[0m  0.0150\n     98        \u001b[36m1.1799\u001b[0m        \u001b[32m0.9577\u001b[0m  0.0148\n     99        \u001b[36m1.1776\u001b[0m        \u001b[32m0.9558\u001b[0m  0.1090\n    100        \u001b[36m1.1754\u001b[0m        \u001b[32m0.9539\u001b[0m  0.0223\n    101        \u001b[36m1.1732\u001b[0m        \u001b[32m0.9520\u001b[0m  0.0183\n    102        \u001b[36m1.1710\u001b[0m        \u001b[32m0.9503\u001b[0m  0.0345\n    103        \u001b[36m1.1689\u001b[0m        \u001b[32m0.9485\u001b[0m  0.0181\n    104        \u001b[36m1.1668\u001b[0m        \u001b[32m0.9468\u001b[0m  0.0191\n    105        \u001b[36m1.1647\u001b[0m        \u001b[32m0.9452\u001b[0m  0.0182\n    106        \u001b[36m1.1627\u001b[0m        \u001b[32m0.9436\u001b[0m  0.0401\n    107        \u001b[36m1.1607\u001b[0m        \u001b[32m0.9420\u001b[0m  0.0162\n    108        \u001b[36m1.1588\u001b[0m        \u001b[32m0.9405\u001b[0m  0.0165\n    109        \u001b[36m1.1569\u001b[0m        \u001b[32m0.9390\u001b[0m  0.0159\n    110        \u001b[36m1.1550\u001b[0m        \u001b[32m0.9375\u001b[0m  0.0169\n    111        \u001b[36m1.1531\u001b[0m        \u001b[32m0.9361\u001b[0m  0.0152\n    112        \u001b[36m1.1513\u001b[0m        \u001b[32m0.9348\u001b[0m  0.0162\n    113        \u001b[36m1.1495\u001b[0m        \u001b[32m0.9334\u001b[0m  0.0157\n    114        \u001b[36m1.1477\u001b[0m        \u001b[32m0.9321\u001b[0m  0.0155\n    115        \u001b[36m1.1460\u001b[0m        \u001b[32m0.9309\u001b[0m  0.0365\n    116        \u001b[36m1.1443\u001b[0m        \u001b[32m0.9296\u001b[0m  0.0152\n    117        \u001b[36m1.1426\u001b[0m        \u001b[32m0.9284\u001b[0m  0.0150\n    118        \u001b[36m1.1410\u001b[0m        \u001b[32m0.9273\u001b[0m  0.0147\n    119        \u001b[36m1.1394\u001b[0m        \u001b[32m0.9261\u001b[0m  0.0147\n    120        \u001b[36m1.1378\u001b[0m        \u001b[32m0.9250\u001b[0m  0.0381\n    121        \u001b[36m1.1362\u001b[0m        \u001b[32m0.9239\u001b[0m  0.0151\n    122        \u001b[36m1.1346\u001b[0m        \u001b[32m0.9229\u001b[0m  0.0163\n    123        \u001b[36m1.1331\u001b[0m        \u001b[32m0.9219\u001b[0m  0.0148\n    124        \u001b[36m1.1316\u001b[0m        \u001b[32m0.9209\u001b[0m  0.0394\n    125        \u001b[36m1.1301\u001b[0m        \u001b[32m0.9199\u001b[0m  0.0156\n    126        \u001b[36m1.1287\u001b[0m        \u001b[32m0.9189\u001b[0m  0.0155\n    127        \u001b[36m1.1272\u001b[0m        \u001b[32m0.9180\u001b[0m  0.0147\n    128        \u001b[36m1.1258\u001b[0m        \u001b[32m0.9171\u001b[0m  0.0185\n    129        \u001b[36m1.1244\u001b[0m        \u001b[32m0.9162\u001b[0m  0.0431\n    130        \u001b[36m1.1230\u001b[0m        \u001b[32m0.9154\u001b[0m  0.0155\n    131        \u001b[36m1.1217\u001b[0m        \u001b[32m0.9145\u001b[0m  0.0159\n    132        \u001b[36m1.1203\u001b[0m        \u001b[32m0.9137\u001b[0m  0.0158\n    133        \u001b[36m1.1190\u001b[0m        \u001b[32m0.9129\u001b[0m  0.0157\n    134        \u001b[36m1.1177\u001b[0m        \u001b[32m0.9121\u001b[0m  0.0155\n    135        \u001b[36m1.1164\u001b[0m        \u001b[32m0.9114\u001b[0m  0.0156\n    136        \u001b[36m1.1152\u001b[0m        \u001b[32m0.9106\u001b[0m  0.0156\n    137        \u001b[36m1.1139\u001b[0m        \u001b[32m0.9099\u001b[0m  0.0155\n    138        \u001b[36m1.1127\u001b[0m        \u001b[32m0.9092\u001b[0m  0.0430\n    139        \u001b[36m1.1115\u001b[0m        \u001b[32m0.9085\u001b[0m  0.0160\n    140        \u001b[36m1.1103\u001b[0m        \u001b[32m0.9078\u001b[0m  0.0155\n    141        \u001b[36m1.1091\u001b[0m        \u001b[32m0.9071\u001b[0m  0.0158\n    142        \u001b[36m1.1079\u001b[0m        \u001b[32m0.9065\u001b[0m  0.0158\n    143        \u001b[36m1.1068\u001b[0m        \u001b[32m0.9058\u001b[0m  0.0150\n    144        \u001b[36m1.1056\u001b[0m        \u001b[32m0.9052\u001b[0m  0.0165\n    145        \u001b[36m1.1045\u001b[0m        \u001b[32m0.9046\u001b[0m  0.0167\n    146        \u001b[36m1.1034\u001b[0m        \u001b[32m0.9040\u001b[0m  0.0200\n    147        \u001b[36m1.1023\u001b[0m        \u001b[32m0.9034\u001b[0m  0.0351\n    148        \u001b[36m1.1012\u001b[0m        \u001b[32m0.9029\u001b[0m  0.0154\n    149        \u001b[36m1.1001\u001b[0m        \u001b[32m0.9023\u001b[0m  0.0175\n    150        \u001b[36m1.0990\u001b[0m        \u001b[32m0.9018\u001b[0m  0.0147\n    151        \u001b[36m1.0980\u001b[0m        \u001b[32m0.9012\u001b[0m  0.0147\n    152        \u001b[36m1.0969\u001b[0m        \u001b[32m0.9007\u001b[0m  0.0148\n    153        \u001b[36m1.0959\u001b[0m        \u001b[32m0.9002\u001b[0m  0.0146\n    154        \u001b[36m1.0949\u001b[0m        \u001b[32m0.8997\u001b[0m  0.0152\n    155        \u001b[36m1.0939\u001b[0m        \u001b[32m0.8992\u001b[0m  0.0145\n    156        \u001b[36m1.0929\u001b[0m        \u001b[32m0.8987\u001b[0m  0.0392\n    157        \u001b[36m1.0919\u001b[0m        \u001b[32m0.8982\u001b[0m  0.0172\n    158        \u001b[36m1.0909\u001b[0m        \u001b[32m0.8978\u001b[0m  0.0147\n    159        \u001b[36m1.0899\u001b[0m        \u001b[32m0.8973\u001b[0m  0.0161\n    160        \u001b[36m1.0890\u001b[0m        \u001b[32m0.8969\u001b[0m  0.0156\n    161        \u001b[36m1.0880\u001b[0m        \u001b[32m0.8964\u001b[0m  0.0390\n    162        \u001b[36m1.0871\u001b[0m        \u001b[32m0.8960\u001b[0m  0.0154\n    163        \u001b[36m1.0862\u001b[0m        \u001b[32m0.8956\u001b[0m  0.0153\n    164        \u001b[36m1.0852\u001b[0m        \u001b[32m0.8952\u001b[0m  0.0155\n    165        \u001b[36m1.0843\u001b[0m        \u001b[32m0.8948\u001b[0m  0.0387\n    166        \u001b[36m1.0834\u001b[0m        \u001b[32m0.8944\u001b[0m  0.0155\n    167        \u001b[36m1.0825\u001b[0m        \u001b[32m0.8940\u001b[0m  0.0155\n    168        \u001b[36m1.0817\u001b[0m        \u001b[32m0.8936\u001b[0m  0.0158\n    169        \u001b[36m1.0808\u001b[0m        \u001b[32m0.8932\u001b[0m  0.0148\n    170        \u001b[36m1.0799\u001b[0m        \u001b[32m0.8929\u001b[0m  0.0399\n    171        \u001b[36m1.0791\u001b[0m        \u001b[32m0.8925\u001b[0m  0.0150\n    172        \u001b[36m1.0782\u001b[0m        \u001b[32m0.8921\u001b[0m  0.0147\n    173        \u001b[36m1.0774\u001b[0m        \u001b[32m0.8918\u001b[0m  0.0167\n    174        \u001b[36m1.0765\u001b[0m        \u001b[32m0.8914\u001b[0m  0.0151\n    175        \u001b[36m1.0757\u001b[0m        \u001b[32m0.8911\u001b[0m  0.0164\n    176        \u001b[36m1.0749\u001b[0m        \u001b[32m0.8908\u001b[0m  0.0160\n    177        \u001b[36m1.0741\u001b[0m        \u001b[32m0.8904\u001b[0m  0.0148\n    178        \u001b[36m1.0733\u001b[0m        \u001b[32m0.8901\u001b[0m  0.0149\n    179        \u001b[36m1.0725\u001b[0m        \u001b[32m0.8898\u001b[0m  0.0389\n    180        \u001b[36m1.0717\u001b[0m        \u001b[32m0.8895\u001b[0m  0.0160\n    181        \u001b[36m1.0709\u001b[0m        \u001b[32m0.8892\u001b[0m  0.0162\n    182        \u001b[36m1.0701\u001b[0m        \u001b[32m0.8889\u001b[0m  0.0196\n    183        \u001b[36m1.0694\u001b[0m        \u001b[32m0.8886\u001b[0m  0.0191\n    184        \u001b[36m1.0686\u001b[0m        \u001b[32m0.8883\u001b[0m  0.0324\n    185        \u001b[36m1.0678\u001b[0m        \u001b[32m0.8880\u001b[0m  0.0184\n    186        \u001b[36m1.0671\u001b[0m        \u001b[32m0.8878\u001b[0m  0.0160\n    187        \u001b[36m1.0663\u001b[0m        \u001b[32m0.8875\u001b[0m  0.0148\n    188        \u001b[36m1.0656\u001b[0m        \u001b[32m0.8872\u001b[0m  0.0308\n    189        \u001b[36m1.0649\u001b[0m        \u001b[32m0.8869\u001b[0m  0.0150\n    190        \u001b[36m1.0641\u001b[0m        \u001b[32m0.8867\u001b[0m  0.0186\n    191        \u001b[36m1.0634\u001b[0m        \u001b[32m0.8864\u001b[0m  0.0183\n    192        \u001b[36m1.0627\u001b[0m        \u001b[32m0.8862\u001b[0m  0.0172\n    193        \u001b[36m1.0620\u001b[0m        \u001b[32m0.8859\u001b[0m  0.0146\n    194        \u001b[36m1.0613\u001b[0m        \u001b[32m0.8857\u001b[0m  0.0148\n    195        \u001b[36m1.0606\u001b[0m        \u001b[32m0.8854\u001b[0m  0.0182\n    196        \u001b[36m1.0599\u001b[0m        \u001b[32m0.8852\u001b[0m  0.0170\n    197        \u001b[36m1.0592\u001b[0m        \u001b[32m0.8849\u001b[0m  0.0354\n    198        \u001b[36m1.0585\u001b[0m        \u001b[32m0.8847\u001b[0m  0.0147\n    199        \u001b[36m1.0579\u001b[0m        \u001b[32m0.8845\u001b[0m  0.0148\n    200        \u001b[36m1.0572\u001b[0m        \u001b[32m0.8843\u001b[0m  0.0170\n    201        \u001b[36m1.0565\u001b[0m        \u001b[32m0.8840\u001b[0m  0.0434\n    202        \u001b[36m1.0558\u001b[0m        \u001b[32m0.8838\u001b[0m  0.0154\n    203        \u001b[36m1.0552\u001b[0m        \u001b[32m0.8836\u001b[0m  0.0155\n    204        \u001b[36m1.0545\u001b[0m        \u001b[32m0.8834\u001b[0m  0.0164\n    205        \u001b[36m1.0539\u001b[0m        \u001b[32m0.8832\u001b[0m  0.0148\n    206        \u001b[36m1.0532\u001b[0m        \u001b[32m0.8830\u001b[0m  0.0385\n    207        \u001b[36m1.0526\u001b[0m        \u001b[32m0.8828\u001b[0m  0.0148\n    208        \u001b[36m1.0520\u001b[0m        \u001b[32m0.8826\u001b[0m  0.0147\n    209        \u001b[36m1.0513\u001b[0m        \u001b[32m0.8824\u001b[0m  0.0147\n    210        \u001b[36m1.0507\u001b[0m        \u001b[32m0.8822\u001b[0m  0.0147\n    211        \u001b[36m1.0501\u001b[0m        \u001b[32m0.8820\u001b[0m  0.0391\n    212        \u001b[36m1.0495\u001b[0m        \u001b[32m0.8818\u001b[0m  0.0147\n    213        \u001b[36m1.0489\u001b[0m        \u001b[32m0.8816\u001b[0m  0.0146\n    214        \u001b[36m1.0482\u001b[0m        \u001b[32m0.8814\u001b[0m  0.0147\n    215        \u001b[36m1.0476\u001b[0m        \u001b[32m0.8812\u001b[0m  0.0381\n    216        \u001b[36m1.0470\u001b[0m        \u001b[32m0.8811\u001b[0m  0.0154\n    217        \u001b[36m1.0464\u001b[0m        \u001b[32m0.8809\u001b[0m  0.0148\n    218        \u001b[36m1.0458\u001b[0m        \u001b[32m0.8807\u001b[0m  0.0161\n    219        \u001b[36m1.0453\u001b[0m        \u001b[32m0.8805\u001b[0m  0.0148\n    220        \u001b[36m1.0447\u001b[0m        \u001b[32m0.8804\u001b[0m  0.0381\n    221        \u001b[36m1.0441\u001b[0m        \u001b[32m0.8802\u001b[0m  0.0148\n    222        \u001b[36m1.0435\u001b[0m        \u001b[32m0.8800\u001b[0m  0.0147\n    223        \u001b[36m1.0429\u001b[0m        \u001b[32m0.8798\u001b[0m  0.0146\n    224        \u001b[36m1.0424\u001b[0m        \u001b[32m0.8797\u001b[0m  0.0146\n    225        \u001b[36m1.0418\u001b[0m        \u001b[32m0.8795\u001b[0m  0.0382\nStopping since valid_loss has not improved in the last 20 epochs.\n",
     "output_type": "stream"
    }
   ],
   "execution_count": 29
  },
  {
   "cell_type": "code",
   "source": "y_predictions_train = list()\ny_predictions_internal_test = list()\ny_predictions_blind_test = list()\n\n#predictions on every model is averaged\nfor model in best_models:\n    #prediction on TRAINING SET\n    y_pred = model.predict(X)\n    y_predictions_train.append(y_pred)\n    \n    #prediction on INTERNAL TEST SET\n    y_pred = model.predict(X_test)\n    y_predictions_internal_test.append(y_pred)\n\n    #prediction on BLIND TEST SET\n    y_pred = model.predict(blind_ts)\n    y_predictions_blind_test.append(y_pred)",
   "metadata": {
    "cell_id": "673f4af6-3dfb-4602-8324-bdfc5da142e5",
    "tags": [],
    "deepnote_to_be_reexecuted": false,
    "source_hash": "77a89b52",
    "execution_start": 1642785160728,
    "execution_millis": 298,
    "deepnote_cell_type": "code"
   },
   "outputs": [],
   "execution_count": 30
  },
  {
   "cell_type": "code",
   "source": "loss_train_best_models = list()\nloss_test_best_models = list()\n\nfor i in range(len(eval_best_models)):\n    epochs = epochs_best_models[i]\n    eval_model = eval_best_models[i]\n    score_train, score_test, loss_train, loss_test = fit_and_score(epochs, eval_model, X, y, X_test, y_test)\n    loss_train_best_models.append(loss_train)\n    loss_test_best_models.append(loss_test)",
   "metadata": {
    "cell_id": "6ec07286-f91e-49c0-aec8-58deb00c31c5",
    "tags": [],
    "deepnote_to_be_reexecuted": false,
    "source_hash": "ad7cd049",
    "execution_start": 1642785161038,
    "execution_millis": 119667,
    "deepnote_output_heights": [
     null,
     611
    ],
    "deepnote_cell_type": "code"
   },
   "outputs": [
    {
     "name": "stdout",
     "text": "     60        \u001b[36m1.4453\u001b[0m        \u001b[32m1.2762\u001b[0m  0.0167\n     61        \u001b[36m1.4149\u001b[0m        \u001b[32m1.2687\u001b[0m  0.0157\n     62        \u001b[36m1.3963\u001b[0m        1.2945  0.0162\n     63        1.3968        1.3321  0.0164\n     64        1.4219        1.3377  0.0162\n     65        1.4235        1.2926  0.0155\n     66        \u001b[36m1.3881\u001b[0m        \u001b[32m1.2515\u001b[0m  0.0189\n     67        \u001b[36m1.3644\u001b[0m        \u001b[32m1.2368\u001b[0m  0.0155\n     68        \u001b[36m1.3499\u001b[0m        1.2408  0.0232\n     69        \u001b[36m1.3406\u001b[0m        1.2426  0.0223\n     70        \u001b[36m1.3388\u001b[0m        \u001b[32m1.2178\u001b[0m  0.0156\n     71        \u001b[36m1.3269\u001b[0m        \u001b[32m1.1871\u001b[0m  0.0159\n     72        \u001b[36m1.3133\u001b[0m        \u001b[32m1.1652\u001b[0m  0.0155\n     73        \u001b[36m1.2986\u001b[0m        \u001b[32m1.1584\u001b[0m  0.0190\n     74        \u001b[36m1.2852\u001b[0m        1.1674  0.0186\n     75        \u001b[36m1.2847\u001b[0m        1.1613  0.0182\n     76        \u001b[36m1.2787\u001b[0m        \u001b[32m1.1447\u001b[0m  0.0178\n     77        \u001b[36m1.2695\u001b[0m        \u001b[32m1.1419\u001b[0m  0.0185\n     78        1.2698        1.1453  0.0234\n     79        \u001b[36m1.2685\u001b[0m        1.1491  0.0202\n     80        \u001b[36m1.2657\u001b[0m        1.1429  0.0177\n     81        \u001b[36m1.2592\u001b[0m        \u001b[32m1.1226\u001b[0m  0.0177\n     82        \u001b[36m1.2478\u001b[0m        \u001b[32m1.1076\u001b[0m  0.0192\n     83        \u001b[36m1.2416\u001b[0m        \u001b[32m1.1062\u001b[0m  0.0175\n     84        \u001b[36m1.2403\u001b[0m        1.1141  0.0156\n     85        1.2426        1.1177  0.0157\n     86        1.2430        1.1082  0.0197\n     87        \u001b[36m1.2360\u001b[0m        \u001b[32m1.0974\u001b[0m  0.0158\n     88        \u001b[36m1.2304\u001b[0m        \u001b[32m1.0955\u001b[0m  0.0191\n     89        \u001b[36m1.2288\u001b[0m        1.1015  0.0176\n     90        1.2298        1.1070  0.0269\n     91        1.2320        1.1022  0.0155\n     92        1.2301        \u001b[32m1.0909\u001b[0m  0.0189\n     93        \u001b[36m1.2253\u001b[0m        \u001b[32m1.0818\u001b[0m  0.0157\n     94        \u001b[36m1.2203\u001b[0m        \u001b[32m1.0790\u001b[0m  0.0273\n     95        \u001b[36m1.2168\u001b[0m        1.0803  0.0156\n     96        \u001b[36m1.2160\u001b[0m        \u001b[32m1.0780\u001b[0m  0.0192\n     97        \u001b[36m1.2147\u001b[0m        \u001b[32m1.0729\u001b[0m  0.0156\n     98        \u001b[36m1.2132\u001b[0m        \u001b[32m1.0705\u001b[0m  0.0163\n     99        \u001b[36m1.2126\u001b[0m        1.0716  0.0157\n    100        \u001b[36m1.2117\u001b[0m        1.0738  0.0159\n    101        \u001b[36m1.2107\u001b[0m        1.0723  0.0176\n    102        \u001b[36m1.2088\u001b[0m        \u001b[32m1.0662\u001b[0m  0.0158\n    103        \u001b[36m1.2057\u001b[0m        \u001b[32m1.0599\u001b[0m  0.0841\n    104        \u001b[36m1.2029\u001b[0m        \u001b[32m1.0565\u001b[0m  0.0158\n    105        \u001b[36m1.2009\u001b[0m        \u001b[32m1.0551\u001b[0m  0.0211\n    106        \u001b[36m1.1998\u001b[0m        \u001b[32m1.0521\u001b[0m  0.0178\n    107        \u001b[36m1.1980\u001b[0m        \u001b[32m1.0467\u001b[0m  0.0265\n    108        \u001b[36m1.1952\u001b[0m        \u001b[32m1.0419\u001b[0m  0.0178\n    109        \u001b[36m1.1926\u001b[0m        \u001b[32m1.0402\u001b[0m  0.0225\n    110        \u001b[36m1.1910\u001b[0m        1.0412  0.0155\n    111        \u001b[36m1.1907\u001b[0m        1.0414  0.0193\n    112        \u001b[36m1.1906\u001b[0m        \u001b[32m1.0391\u001b[0m  0.0156\n    113        \u001b[36m1.1894\u001b[0m        \u001b[32m1.0352\u001b[0m  0.0155\n    114        \u001b[36m1.1870\u001b[0m        \u001b[32m1.0319\u001b[0m  0.0156\n    115        \u001b[36m1.1844\u001b[0m        \u001b[32m1.0298\u001b[0m  0.0157\n    116        \u001b[36m1.1824\u001b[0m        \u001b[32m1.0275\u001b[0m  0.0154\n    117        \u001b[36m1.1809\u001b[0m        \u001b[32m1.0239\u001b[0m  0.0156\n    118        \u001b[36m1.1794\u001b[0m        \u001b[32m1.0199\u001b[0m  0.0155\n    119        \u001b[36m1.1776\u001b[0m        \u001b[32m1.0170\u001b[0m  0.0158\n    120        \u001b[36m1.1758\u001b[0m        \u001b[32m1.0154\u001b[0m  0.0160\n    121        \u001b[36m1.1744\u001b[0m        \u001b[32m1.0140\u001b[0m  0.0179\n    122        \u001b[36m1.1731\u001b[0m        \u001b[32m1.0117\u001b[0m  0.0157\n    123        \u001b[36m1.1717\u001b[0m        \u001b[32m1.0089\u001b[0m  0.0354\n    124        \u001b[36m1.1701\u001b[0m        \u001b[32m1.0064\u001b[0m  0.0676\n    125        \u001b[36m1.1687\u001b[0m        \u001b[32m1.0046\u001b[0m  0.0284\n    126        \u001b[36m1.1675\u001b[0m        \u001b[32m1.0027\u001b[0m  0.0797\n    127        \u001b[36m1.1663\u001b[0m        \u001b[32m1.0000\u001b[0m  0.0168\n    128        \u001b[36m1.1647\u001b[0m        \u001b[32m0.9970\u001b[0m  0.0165\n    129        \u001b[36m1.1628\u001b[0m        \u001b[32m0.9946\u001b[0m  0.0165\n    130        \u001b[36m1.1613\u001b[0m        \u001b[32m0.9931\u001b[0m  0.0168\n    131        \u001b[36m1.1604\u001b[0m        \u001b[32m0.9920\u001b[0m  0.0480\n    132        \u001b[36m1.1597\u001b[0m        \u001b[32m0.9904\u001b[0m  0.0164\n    133        \u001b[36m1.1588\u001b[0m        \u001b[32m0.9884\u001b[0m  0.0164\n    134        \u001b[36m1.1575\u001b[0m        \u001b[32m0.9865\u001b[0m  0.0166\n    135        \u001b[36m1.1560\u001b[0m        \u001b[32m0.9848\u001b[0m  0.0169\n    136        \u001b[36m1.1547\u001b[0m        \u001b[32m0.9832\u001b[0m  0.0630\n    137        \u001b[36m1.1536\u001b[0m        \u001b[32m0.9810\u001b[0m  0.0597\n    138        \u001b[36m1.1524\u001b[0m        \u001b[32m0.9785\u001b[0m  0.0178\n    139        \u001b[36m1.1510\u001b[0m        \u001b[32m0.9762\u001b[0m  0.0162\n    140        \u001b[36m1.1496\u001b[0m        \u001b[32m0.9744\u001b[0m  0.0154\n    141        \u001b[36m1.1483\u001b[0m        \u001b[32m0.9728\u001b[0m  0.0159\n    142        \u001b[36m1.1471\u001b[0m        \u001b[32m0.9711\u001b[0m  0.0157\n    143        \u001b[36m1.1460\u001b[0m        \u001b[32m0.9693\u001b[0m  0.0159\n    144        \u001b[36m1.1448\u001b[0m        \u001b[32m0.9677\u001b[0m  0.0367\n    145        \u001b[36m1.1437\u001b[0m        \u001b[32m0.9663\u001b[0m  0.0178\n    146        \u001b[36m1.1427\u001b[0m        \u001b[32m0.9650\u001b[0m  0.0178\n    147        \u001b[36m1.1417\u001b[0m        \u001b[32m0.9633\u001b[0m  0.0177\n    148        \u001b[36m1.1405\u001b[0m        \u001b[32m0.9615\u001b[0m  0.0155\n    149        \u001b[36m1.1392\u001b[0m        \u001b[32m0.9598\u001b[0m  0.0154\n    150        \u001b[36m1.1380\u001b[0m        \u001b[32m0.9583\u001b[0m  0.0157\n    151        \u001b[36m1.1369\u001b[0m        \u001b[32m0.9569\u001b[0m  0.0200\n    152        \u001b[36m1.1360\u001b[0m        \u001b[32m0.9555\u001b[0m  0.0215\n    153        \u001b[36m1.1350\u001b[0m        \u001b[32m0.9539\u001b[0m  0.0175\n    154        \u001b[36m1.1339\u001b[0m        \u001b[32m0.9525\u001b[0m  0.0180\n    155        \u001b[36m1.1328\u001b[0m        \u001b[32m0.9512\u001b[0m  0.0156\n    156        \u001b[36m1.1318\u001b[0m        \u001b[32m0.9499\u001b[0m  0.0157\n    157        \u001b[36m1.1308\u001b[0m        \u001b[32m0.9485\u001b[0m  0.0195\n    158        \u001b[36m1.1298\u001b[0m        \u001b[32m0.9469\u001b[0m  0.0176\n    159        \u001b[36m1.1288\u001b[0m        \u001b[32m0.9454\u001b[0m  0.0250\n    160        \u001b[36m1.1277\u001b[0m        \u001b[32m0.9441\u001b[0m  0.0155\n    161        \u001b[36m1.1266\u001b[0m        \u001b[32m0.9428\u001b[0m  0.0156\n    162        \u001b[36m1.1256\u001b[0m        \u001b[32m0.9415\u001b[0m  0.0156\n    163        \u001b[36m1.1246\u001b[0m        \u001b[32m0.9402\u001b[0m  0.0155\n    164        \u001b[36m1.1236\u001b[0m        \u001b[32m0.9389\u001b[0m  0.0155\n    165        \u001b[36m1.1227\u001b[0m        \u001b[32m0.9379\u001b[0m  0.0173\n    166        \u001b[36m1.1218\u001b[0m        \u001b[32m0.9367\u001b[0m  0.0155\n    167        \u001b[36m1.1209\u001b[0m        \u001b[32m0.9355\u001b[0m  0.0154\n    168        \u001b[36m1.1199\u001b[0m        \u001b[32m0.9342\u001b[0m  0.0156\n    169        \u001b[36m1.1189\u001b[0m        \u001b[32m0.9330\u001b[0m  0.0153\n    170        \u001b[36m1.1179\u001b[0m        \u001b[32m0.9319\u001b[0m  0.0157\n    171        \u001b[36m1.1170\u001b[0m        \u001b[32m0.9307\u001b[0m  0.0157\n    172        \u001b[36m1.1161\u001b[0m        \u001b[32m0.9294\u001b[0m  0.0249\n    173        \u001b[36m1.1152\u001b[0m        \u001b[32m0.9282\u001b[0m  0.0157\n    174        \u001b[36m1.1142\u001b[0m        \u001b[32m0.9271\u001b[0m  0.0184\n    175        \u001b[36m1.1132\u001b[0m        \u001b[32m0.9261\u001b[0m  0.0178\n    176        \u001b[36m1.1123\u001b[0m        \u001b[32m0.9250\u001b[0m  0.0179\n    177        \u001b[36m1.1115\u001b[0m        \u001b[32m0.9239\u001b[0m  0.0167\n    178        \u001b[36m1.1106\u001b[0m        \u001b[32m0.9228\u001b[0m  0.0158\n    179        \u001b[36m1.1096\u001b[0m        \u001b[32m0.9217\u001b[0m  0.0155\n    180        \u001b[36m1.1087\u001b[0m        \u001b[32m0.9207\u001b[0m  0.0156\n    181        \u001b[36m1.1078\u001b[0m        \u001b[32m0.9196\u001b[0m  0.0158\n    182        \u001b[36m1.1069\u001b[0m        \u001b[32m0.9186\u001b[0m  0.0154\n    183        \u001b[36m1.1060\u001b[0m        \u001b[32m0.9175\u001b[0m  0.0154\n    184        \u001b[36m1.1052\u001b[0m        \u001b[32m0.9166\u001b[0m  0.0158\n    185        \u001b[36m1.1043\u001b[0m        \u001b[32m0.9157\u001b[0m  0.0158\n    186        \u001b[36m1.1035\u001b[0m        \u001b[32m0.9147\u001b[0m  0.0160\n    187        \u001b[36m1.1026\u001b[0m        \u001b[32m0.9137\u001b[0m  0.0160\n    188        \u001b[36m1.1017\u001b[0m        \u001b[32m0.9127\u001b[0m  0.0156\n    189        \u001b[36m1.1009\u001b[0m        \u001b[32m0.9118\u001b[0m  0.0155\n    190        \u001b[36m1.1000\u001b[0m        \u001b[32m0.9109\u001b[0m  0.0158\n    191        \u001b[36m1.0992\u001b[0m        \u001b[32m0.9099\u001b[0m  0.0158\n    192        \u001b[36m1.0984\u001b[0m        \u001b[32m0.9090\u001b[0m  0.0873\n    193        \u001b[36m1.0975\u001b[0m        \u001b[32m0.9081\u001b[0m  0.0171\n    194        \u001b[36m1.0967\u001b[0m        \u001b[32m0.9072\u001b[0m  0.0159\n    195        \u001b[36m1.0959\u001b[0m        \u001b[32m0.9063\u001b[0m  0.0165\n    196        \u001b[36m1.0950\u001b[0m        \u001b[32m0.9054\u001b[0m  0.0156\n    197        \u001b[36m1.0942\u001b[0m        \u001b[32m0.9046\u001b[0m  0.0192\n    198        \u001b[36m1.0934\u001b[0m        \u001b[32m0.9037\u001b[0m  0.0156\n    199        \u001b[36m1.0926\u001b[0m        \u001b[32m0.9029\u001b[0m  0.0231\n    200        \u001b[36m1.0918\u001b[0m        \u001b[32m0.9021\u001b[0m  0.0158\n    201        \u001b[36m1.0910\u001b[0m        \u001b[32m0.9012\u001b[0m  0.0190\n    202        \u001b[36m1.0902\u001b[0m        \u001b[32m0.9004\u001b[0m  0.0155\n    203        \u001b[36m1.0894\u001b[0m        \u001b[32m0.8996\u001b[0m  0.0229\n    204        \u001b[36m1.0886\u001b[0m        \u001b[32m0.8988\u001b[0m  0.0218\n    205        \u001b[36m1.0878\u001b[0m        \u001b[32m0.8980\u001b[0m  0.0233\n    206        \u001b[36m1.0870\u001b[0m        \u001b[32m0.8972\u001b[0m  0.0176\n    207        \u001b[36m1.0862\u001b[0m        \u001b[32m0.8964\u001b[0m  0.0223\n    208        \u001b[36m1.0855\u001b[0m        \u001b[32m0.8957\u001b[0m  0.0234\n    209        \u001b[36m1.0847\u001b[0m        \u001b[32m0.8949\u001b[0m  0.0158\n    210        \u001b[36m1.0839\u001b[0m        \u001b[32m0.8941\u001b[0m  0.0162\n    211        \u001b[36m1.0832\u001b[0m        \u001b[32m0.8934\u001b[0m  0.0188\n    212        \u001b[36m1.0824\u001b[0m        \u001b[32m0.8926\u001b[0m  0.0182\n    213        \u001b[36m1.0816\u001b[0m        \u001b[32m0.8919\u001b[0m  0.0184\n    214        \u001b[36m1.0809\u001b[0m        \u001b[32m0.8912\u001b[0m  0.0158\n    215        \u001b[36m1.0801\u001b[0m        \u001b[32m0.8905\u001b[0m  0.0159\n    216        \u001b[36m1.0794\u001b[0m        \u001b[32m0.8898\u001b[0m  0.0170\n    217        \u001b[36m1.0786\u001b[0m        \u001b[32m0.8891\u001b[0m  0.0160\n    218        \u001b[36m1.0779\u001b[0m        \u001b[32m0.8884\u001b[0m  0.0157\n    219        \u001b[36m1.0771\u001b[0m        \u001b[32m0.8878\u001b[0m  0.0157\n    220        \u001b[36m1.0764\u001b[0m        \u001b[32m0.8871\u001b[0m  0.0156\n    221        \u001b[36m1.0757\u001b[0m        \u001b[32m0.8865\u001b[0m  0.0157\n    222        \u001b[36m1.0749\u001b[0m        \u001b[32m0.8858\u001b[0m  0.0169\n    223        \u001b[36m1.0742\u001b[0m        \u001b[32m0.8852\u001b[0m  0.0190\n    224        \u001b[36m1.0735\u001b[0m        \u001b[32m0.8846\u001b[0m  0.0157\n    225        \u001b[36m1.0728\u001b[0m        \u001b[32m0.8840\u001b[0m  0.0262\n    226        \u001b[36m1.0720\u001b[0m        \u001b[32m0.8834\u001b[0m  0.0156\n    227        \u001b[36m1.0713\u001b[0m        \u001b[32m0.8828\u001b[0m  0.0203\n    228        \u001b[36m1.0706\u001b[0m        \u001b[32m0.8822\u001b[0m  0.0158\n    229        \u001b[36m1.0699\u001b[0m        \u001b[32m0.8817\u001b[0m  0.0156\n    230        \u001b[36m1.0692\u001b[0m        \u001b[32m0.8811\u001b[0m  0.0178\n    231        \u001b[36m1.0685\u001b[0m        \u001b[32m0.8806\u001b[0m  0.0157\n    232        \u001b[36m1.0678\u001b[0m        \u001b[32m0.8801\u001b[0m  0.0190\n    233        \u001b[36m1.0671\u001b[0m        \u001b[32m0.8796\u001b[0m  0.0213\n    234        \u001b[36m1.0664\u001b[0m        \u001b[32m0.8791\u001b[0m  0.0177\n    235        \u001b[36m1.0657\u001b[0m        \u001b[32m0.8786\u001b[0m  0.0282\n    236        \u001b[36m1.0650\u001b[0m        \u001b[32m0.8781\u001b[0m  0.0179\n    237        \u001b[36m1.0643\u001b[0m        \u001b[32m0.8777\u001b[0m  0.0190\n    238        \u001b[36m1.0636\u001b[0m        \u001b[32m0.8772\u001b[0m  0.0158\n    239        \u001b[36m1.0629\u001b[0m        \u001b[32m0.8768\u001b[0m  0.0160\n    240        \u001b[36m1.0622\u001b[0m        \u001b[32m0.8764\u001b[0m  0.0184\n    241        \u001b[36m1.0615\u001b[0m        \u001b[32m0.8760\u001b[0m  0.0160\n    242        \u001b[36m1.0608\u001b[0m        \u001b[32m0.8756\u001b[0m  0.0156\n    243        \u001b[36m1.0602\u001b[0m        \u001b[32m0.8752\u001b[0m  0.0165\n    244        \u001b[36m1.0595\u001b[0m        \u001b[32m0.8748\u001b[0m  0.0158\n    245        \u001b[36m1.0588\u001b[0m        \u001b[32m0.8745\u001b[0m  0.0155\n    246        \u001b[36m1.0581\u001b[0m        \u001b[32m0.8741\u001b[0m  0.0231\n    247        \u001b[36m1.0574\u001b[0m        \u001b[32m0.8738\u001b[0m  0.0156\n    248        \u001b[36m1.0567\u001b[0m        \u001b[32m0.8734\u001b[0m  0.0156\n    249        \u001b[36m1.0560\u001b[0m        \u001b[32m0.8731\u001b[0m  0.0156\n    250        \u001b[36m1.0553\u001b[0m        \u001b[32m0.8728\u001b[0m  0.0284\n    251        \u001b[36m1.0546\u001b[0m        \u001b[32m0.8725\u001b[0m  0.0170\n    252        \u001b[36m1.0538\u001b[0m        \u001b[32m0.8722\u001b[0m  0.0192\n    253        \u001b[36m1.0531\u001b[0m        \u001b[32m0.8719\u001b[0m  0.0160\n    254        \u001b[36m1.0524\u001b[0m        \u001b[32m0.8716\u001b[0m  0.0202\n    255        \u001b[36m1.0517\u001b[0m        \u001b[32m0.8713\u001b[0m  0.0157\n    256        \u001b[36m1.0510\u001b[0m        \u001b[32m0.8710\u001b[0m  0.0230\n    257        \u001b[36m1.0503\u001b[0m        \u001b[32m0.8708\u001b[0m  0.0157\n    258        \u001b[36m1.0496\u001b[0m        \u001b[32m0.8705\u001b[0m  0.0156\n    259        \u001b[36m1.0489\u001b[0m        \u001b[32m0.8702\u001b[0m  0.0156\n    260        \u001b[36m1.0482\u001b[0m        \u001b[32m0.8700\u001b[0m  0.0155\n    261        \u001b[36m1.0475\u001b[0m        \u001b[32m0.8697\u001b[0m  0.0155\n    262        \u001b[36m1.0468\u001b[0m        \u001b[32m0.8694\u001b[0m  0.0156\n    263        \u001b[36m1.0461\u001b[0m        \u001b[32m0.8692\u001b[0m  0.0156\n    264        \u001b[36m1.0454\u001b[0m        \u001b[32m0.8689\u001b[0m  0.0158\n    265        \u001b[36m1.0447\u001b[0m        \u001b[32m0.8686\u001b[0m  0.0180\n    266        \u001b[36m1.0440\u001b[0m        \u001b[32m0.8684\u001b[0m  0.0155\n    267        \u001b[36m1.0434\u001b[0m        \u001b[32m0.8681\u001b[0m  0.0158\n    268        \u001b[36m1.0427\u001b[0m        \u001b[32m0.8679\u001b[0m  0.0156\n    269        \u001b[36m1.0420\u001b[0m        \u001b[32m0.8676\u001b[0m  0.0158\n    270        \u001b[36m1.0413\u001b[0m        \u001b[32m0.8673\u001b[0m  0.0158\n    271        \u001b[36m1.0407\u001b[0m        \u001b[32m0.8671\u001b[0m  0.0161\n    272        \u001b[36m1.0400\u001b[0m        \u001b[32m0.8668\u001b[0m  0.0204\n    273        \u001b[36m1.0394\u001b[0m        \u001b[32m0.8666\u001b[0m  0.0855\n    274        \u001b[36m1.0388\u001b[0m        \u001b[32m0.8663\u001b[0m  0.0180\n    275        \u001b[36m1.0381\u001b[0m        \u001b[32m0.8661\u001b[0m  0.0161\n    276        \u001b[36m1.0375\u001b[0m        \u001b[32m0.8658\u001b[0m  0.0157\n    277        \u001b[36m1.0369\u001b[0m        \u001b[32m0.8656\u001b[0m  0.0156\n    278        \u001b[36m1.0363\u001b[0m        \u001b[32m0.8653\u001b[0m  0.0156\n    279        \u001b[36m1.0357\u001b[0m        \u001b[32m0.8651\u001b[0m  0.0160\n    280        \u001b[36m1.0351\u001b[0m        \u001b[32m0.8649\u001b[0m  0.0160\n    281        \u001b[36m1.0345\u001b[0m        \u001b[32m0.8646\u001b[0m  0.0161\n    282        \u001b[36m1.0339\u001b[0m        \u001b[32m0.8644\u001b[0m  0.0158\n    283        \u001b[36m1.0334\u001b[0m        \u001b[32m0.8642\u001b[0m  0.0158\n    284        \u001b[36m1.0328\u001b[0m        \u001b[32m0.8639\u001b[0m  0.0159\n    285        \u001b[36m1.0322\u001b[0m        \u001b[32m0.8637\u001b[0m  0.0157\n    286        \u001b[36m1.0317\u001b[0m        \u001b[32m0.8635\u001b[0m  0.0158\n    287        \u001b[36m1.0311\u001b[0m        \u001b[32m0.8633\u001b[0m  0.0157\n    288        \u001b[36m1.0306\u001b[0m        \u001b[32m0.8630\u001b[0m  0.0158\n    289        \u001b[36m1.0301\u001b[0m        \u001b[32m0.8628\u001b[0m  0.0158\n    290        \u001b[36m1.0295\u001b[0m        \u001b[32m0.8626\u001b[0m  0.0245\n    291        \u001b[36m1.0290\u001b[0m        \u001b[32m0.8624\u001b[0m  0.0172\n    292        \u001b[36m1.0285\u001b[0m        \u001b[32m0.8622\u001b[0m  0.0169\n    293        \u001b[36m1.0279\u001b[0m        \u001b[32m0.8620\u001b[0m  0.0157\n    294        \u001b[36m1.0274\u001b[0m        \u001b[32m0.8618\u001b[0m  0.0234\n    295        \u001b[36m1.0269\u001b[0m        \u001b[32m0.8616\u001b[0m  0.0156\n    296        \u001b[36m1.0264\u001b[0m        \u001b[32m0.8614\u001b[0m  0.0230\n    297        \u001b[36m1.0259\u001b[0m        \u001b[32m0.8612\u001b[0m  0.0159\n    298        \u001b[36m1.0254\u001b[0m        \u001b[32m0.8610\u001b[0m  0.0295\n    299        \u001b[36m1.0249\u001b[0m        \u001b[32m0.8609\u001b[0m  0.0158\n    300        \u001b[36m1.0244\u001b[0m        \u001b[32m0.8607\u001b[0m  0.0162\n    301        \u001b[36m1.0239\u001b[0m        \u001b[32m0.8605\u001b[0m  0.0160\n    302        \u001b[36m1.0234\u001b[0m        \u001b[32m0.8603\u001b[0m  0.0156\n    303        \u001b[36m1.0229\u001b[0m        \u001b[32m0.8601\u001b[0m  0.0177\n    304        \u001b[36m1.0225\u001b[0m        \u001b[32m0.8600\u001b[0m  0.0155\n    305        \u001b[36m1.0220\u001b[0m        \u001b[32m0.8598\u001b[0m  0.0156\n    306        \u001b[36m1.0215\u001b[0m        \u001b[32m0.8596\u001b[0m  0.0157\n    307        \u001b[36m1.0210\u001b[0m        \u001b[32m0.8594\u001b[0m  0.0189\n    308        \u001b[36m1.0205\u001b[0m        \u001b[32m0.8593\u001b[0m  0.0180\n    309        \u001b[36m1.0201\u001b[0m        \u001b[32m0.8591\u001b[0m  0.0271\n    310        \u001b[36m1.0196\u001b[0m        \u001b[32m0.8589\u001b[0m  0.0168\n    311        \u001b[36m1.0191\u001b[0m        \u001b[32m0.8588\u001b[0m  0.0179\n    312        \u001b[36m1.0186\u001b[0m        \u001b[32m0.8586\u001b[0m  0.0164\n    313        \u001b[36m1.0181\u001b[0m        \u001b[32m0.8584\u001b[0m  0.0177\n    314        \u001b[36m1.0177\u001b[0m        \u001b[32m0.8583\u001b[0m  0.0156\n    315        \u001b[36m1.0172\u001b[0m        \u001b[32m0.8581\u001b[0m  0.0160\n    316        \u001b[36m1.0167\u001b[0m        \u001b[32m0.8579\u001b[0m  0.0159\n    317        \u001b[36m1.0162\u001b[0m        \u001b[32m0.8578\u001b[0m  0.0159\n    318        \u001b[36m1.0158\u001b[0m        \u001b[32m0.8576\u001b[0m  0.0156\n    319        \u001b[36m1.0153\u001b[0m        \u001b[32m0.8575\u001b[0m  0.0231\n    320        \u001b[36m1.0148\u001b[0m        \u001b[32m0.8573\u001b[0m  0.0156\n    321        \u001b[36m1.0143\u001b[0m        \u001b[32m0.8571\u001b[0m  0.0158\n    322        \u001b[36m1.0139\u001b[0m        \u001b[32m0.8570\u001b[0m  0.0157\n    323        \u001b[36m1.0134\u001b[0m        \u001b[32m0.8568\u001b[0m  0.0157\n    324        \u001b[36m1.0129\u001b[0m        \u001b[32m0.8567\u001b[0m  0.0158\n    325        \u001b[36m1.0124\u001b[0m        \u001b[32m0.8565\u001b[0m  0.0157\n    326        \u001b[36m1.0120\u001b[0m        \u001b[32m0.8564\u001b[0m  0.0159\n    327        \u001b[36m1.0115\u001b[0m        \u001b[32m0.8562\u001b[0m  0.0155\n    328        \u001b[36m1.0110\u001b[0m        \u001b[32m0.8561\u001b[0m  0.0159\n    329        \u001b[36m1.0105\u001b[0m        \u001b[32m0.8559\u001b[0m  0.0158\n    330        \u001b[36m1.0101\u001b[0m        \u001b[32m0.8558\u001b[0m  0.0180\n    331        \u001b[36m1.0096\u001b[0m        \u001b[32m0.8556\u001b[0m  0.0185\n    332        \u001b[36m1.0091\u001b[0m        \u001b[32m0.8555\u001b[0m  0.0227\n    333        \u001b[36m1.0087\u001b[0m        \u001b[32m0.8553\u001b[0m  0.0158\n    334        \u001b[36m1.0082\u001b[0m        \u001b[32m0.8551\u001b[0m  0.0176\n    335        \u001b[36m1.0077\u001b[0m        \u001b[32m0.8550\u001b[0m  0.0180\n    336        \u001b[36m1.0072\u001b[0m        \u001b[32m0.8548\u001b[0m  0.0157\n    337        \u001b[36m1.0068\u001b[0m        \u001b[32m0.8547\u001b[0m  0.0158\n    338        \u001b[36m1.0063\u001b[0m        \u001b[32m0.8545\u001b[0m  0.0166\n    339        \u001b[36m1.0058\u001b[0m        \u001b[32m0.8544\u001b[0m  0.0158\n    340        \u001b[36m1.0053\u001b[0m        \u001b[32m0.8542\u001b[0m  0.0158\n    341        \u001b[36m1.0049\u001b[0m        \u001b[32m0.8541\u001b[0m  0.0156\n    342        \u001b[36m1.0044\u001b[0m        \u001b[32m0.8539\u001b[0m  0.0161\n    343        \u001b[36m1.0039\u001b[0m        \u001b[32m0.8538\u001b[0m  0.0155\n    344        \u001b[36m1.0035\u001b[0m        \u001b[32m0.8536\u001b[0m  0.0189\n    345        \u001b[36m1.0030\u001b[0m        \u001b[32m0.8535\u001b[0m  0.0160\n    346        \u001b[36m1.0025\u001b[0m        \u001b[32m0.8533\u001b[0m  0.0191\n    347        \u001b[36m1.0021\u001b[0m        \u001b[32m0.8532\u001b[0m  0.0156\n    348        \u001b[36m1.0016\u001b[0m        \u001b[32m0.8530\u001b[0m  0.0243\n    349        \u001b[36m1.0011\u001b[0m        \u001b[32m0.8529\u001b[0m  0.0163\n    350        \u001b[36m1.0007\u001b[0m        \u001b[32m0.8527\u001b[0m  0.0178\n    351        \u001b[36m1.0002\u001b[0m        \u001b[32m0.8526\u001b[0m  0.0179\n    352        \u001b[36m0.9997\u001b[0m        \u001b[32m0.8524\u001b[0m  0.0174\n    353        \u001b[36m0.9993\u001b[0m        \u001b[32m0.8523\u001b[0m  0.0158\n    354        \u001b[36m0.9988\u001b[0m        \u001b[32m0.8521\u001b[0m  0.0179\n    355        \u001b[36m0.9983\u001b[0m        \u001b[32m0.8520\u001b[0m  0.0155\n    356        \u001b[36m0.9979\u001b[0m        \u001b[32m0.8518\u001b[0m  0.0254\n    357        \u001b[36m0.9974\u001b[0m        \u001b[32m0.8517\u001b[0m  0.0177\n    358        \u001b[36m0.9969\u001b[0m        \u001b[32m0.8515\u001b[0m  0.0180\n    359        \u001b[36m0.9965\u001b[0m        \u001b[32m0.8514\u001b[0m  0.0164\n    360        \u001b[36m0.9960\u001b[0m        \u001b[32m0.8512\u001b[0m  0.0172\n    361        \u001b[36m0.9955\u001b[0m        \u001b[32m0.8511\u001b[0m  0.0161\n    362        \u001b[36m0.9951\u001b[0m        \u001b[32m0.8509\u001b[0m  0.0180\n    363        \u001b[36m0.9946\u001b[0m        \u001b[32m0.8508\u001b[0m  0.0159\n    364        \u001b[36m0.9941\u001b[0m        \u001b[32m0.8506\u001b[0m  0.0166\n    365        \u001b[36m0.9937\u001b[0m        \u001b[32m0.8505\u001b[0m  0.0183\n    366        \u001b[36m0.9932\u001b[0m        \u001b[32m0.8503\u001b[0m  0.0194\n    367        \u001b[36m0.9927\u001b[0m        \u001b[32m0.8502\u001b[0m  0.0177\n    368        \u001b[36m0.9923\u001b[0m        \u001b[32m0.8500\u001b[0m  0.0186\n    369        \u001b[36m0.9918\u001b[0m        \u001b[32m0.8499\u001b[0m  0.0179\n    370        \u001b[36m0.9913\u001b[0m        \u001b[32m0.8497\u001b[0m  0.0195\n    371        \u001b[36m0.9908\u001b[0m        \u001b[32m0.8496\u001b[0m  0.0164\n    372        \u001b[36m0.9904\u001b[0m        \u001b[32m0.8494\u001b[0m  0.0179\n    373        \u001b[36m0.9899\u001b[0m        \u001b[32m0.8493\u001b[0m  0.0215\n    374        \u001b[36m0.9894\u001b[0m        \u001b[32m0.8492\u001b[0m  0.0177\n    375        \u001b[36m0.9890\u001b[0m        \u001b[32m0.8490\u001b[0m  0.0215\n    376        \u001b[36m0.9885\u001b[0m        \u001b[32m0.8489\u001b[0m  0.0159\n    377        \u001b[36m0.9880\u001b[0m        \u001b[32m0.8487\u001b[0m  0.0159\n    378        \u001b[36m0.9876\u001b[0m        \u001b[32m0.8486\u001b[0m  0.0158\n    379        \u001b[36m0.9871\u001b[0m        \u001b[32m0.8484\u001b[0m  0.0163\n    380        \u001b[36m0.9866\u001b[0m        \u001b[32m0.8483\u001b[0m  0.0158\n    381        \u001b[36m0.9862\u001b[0m        \u001b[32m0.8482\u001b[0m  0.0156\n    382        \u001b[36m0.9857\u001b[0m        \u001b[32m0.8480\u001b[0m  0.0216\n    383        \u001b[36m0.9852\u001b[0m        \u001b[32m0.8479\u001b[0m  0.0157\n    384        \u001b[36m0.9848\u001b[0m        \u001b[32m0.8477\u001b[0m  0.0158\n    385        \u001b[36m0.9843\u001b[0m        \u001b[32m0.8476\u001b[0m  0.0157\n    386        \u001b[36m0.9838\u001b[0m        \u001b[32m0.8475\u001b[0m  0.0179\n    387        \u001b[36m0.9834\u001b[0m        \u001b[32m0.8473\u001b[0m  0.0160\n    388        \u001b[36m0.9829\u001b[0m        \u001b[32m0.8472\u001b[0m  0.0158\n    389        \u001b[36m0.9824\u001b[0m        \u001b[32m0.8470\u001b[0m  0.0172\n    390        \u001b[36m0.9820\u001b[0m        \u001b[32m0.8469\u001b[0m  0.0159\n    391        \u001b[36m0.9815\u001b[0m        \u001b[32m0.8468\u001b[0m  0.0175\n    392        \u001b[36m0.9810\u001b[0m        \u001b[32m0.8466\u001b[0m  0.0157\n    393        \u001b[36m0.9806\u001b[0m        \u001b[32m0.8465\u001b[0m  0.0159\n    394        \u001b[36m0.9801\u001b[0m        \u001b[32m0.8463\u001b[0m  0.0157\n    395        \u001b[36m0.9796\u001b[0m        \u001b[32m0.8462\u001b[0m  0.0156\n    396        \u001b[36m0.9792\u001b[0m        \u001b[32m0.8461\u001b[0m  0.0158\n    397        \u001b[36m0.9787\u001b[0m        \u001b[32m0.8459\u001b[0m  0.0156\n    398        \u001b[36m0.9782\u001b[0m        \u001b[32m0.8458\u001b[0m  0.0158\n    399        \u001b[36m0.9778\u001b[0m        \u001b[32m0.8456\u001b[0m  0.0178\n    400        \u001b[36m0.9773\u001b[0m        \u001b[32m0.8455\u001b[0m  0.0155\n    401        \u001b[36m0.9768\u001b[0m        \u001b[32m0.8454\u001b[0m  0.0229\n    402        \u001b[36m0.9764\u001b[0m        \u001b[32m0.8452\u001b[0m  0.0174\n    403        \u001b[36m0.9759\u001b[0m        \u001b[32m0.8451\u001b[0m  0.0155\n    404        \u001b[36m0.9754\u001b[0m        \u001b[32m0.8450\u001b[0m  0.0157\n    405        \u001b[36m0.9750\u001b[0m        \u001b[32m0.8448\u001b[0m  0.0156\n    406        \u001b[36m0.9745\u001b[0m        \u001b[32m0.8447\u001b[0m  0.0185\n    407        \u001b[36m0.9740\u001b[0m        \u001b[32m0.8446\u001b[0m  0.0203\n    408        \u001b[36m0.9736\u001b[0m        \u001b[32m0.8444\u001b[0m  0.0165\n    409        \u001b[36m0.9731\u001b[0m        \u001b[32m0.8443\u001b[0m  0.0162\n    410        \u001b[36m0.9726\u001b[0m        \u001b[32m0.8441\u001b[0m  0.0160\n    411        \u001b[36m0.9722\u001b[0m        \u001b[32m0.8440\u001b[0m  0.0165\n    412        \u001b[36m0.9717\u001b[0m        \u001b[32m0.8439\u001b[0m  0.0196\n    413        \u001b[36m0.9712\u001b[0m        \u001b[32m0.8437\u001b[0m  0.0163\n    414        \u001b[36m0.9708\u001b[0m        \u001b[32m0.8436\u001b[0m  0.0191\n    415        \u001b[36m0.9703\u001b[0m        \u001b[32m0.8435\u001b[0m  0.0157\n    416        \u001b[36m0.9698\u001b[0m        \u001b[32m0.8433\u001b[0m  0.0166\n    417        \u001b[36m0.9694\u001b[0m        \u001b[32m0.8432\u001b[0m  0.0161\n  epoch    train_loss    valid_loss     dur\n-------  ------------  ------------  ------\n      1      \u001b[36m184.0761\u001b[0m       \u001b[32m48.1446\u001b[0m  0.0268\n      2       \u001b[36m77.3726\u001b[0m       \u001b[32m31.3396\u001b[0m  0.0155\n      3       \u001b[36m44.3629\u001b[0m       77.6949  0.0216\n      4       56.8861       \u001b[32m13.0589\u001b[0m  0.0263\n      5       \u001b[36m24.0828\u001b[0m       30.5557  0.0157\n      6       24.5119       \u001b[32m11.7305\u001b[0m  0.0154\n      7       \u001b[36m14.4332\u001b[0m       24.7411  0.0188\n      8       21.4096        \u001b[32m9.8084\u001b[0m  0.0153\n      9        \u001b[36m9.6342\u001b[0m       13.7800  0.0157\n     10       14.2309       10.9893  0.0155\n     11       10.0096        \u001b[32m7.9736\u001b[0m  0.0180\n     12        \u001b[36m8.4745\u001b[0m       11.6565  0.0153\n     13       10.7273        9.2088  0.0155\n     14        \u001b[36m8.3742\u001b[0m        \u001b[32m7.3372\u001b[0m  0.0170\n     15        \u001b[36m7.6705\u001b[0m        8.2372  0.0156\n     16        8.4053        \u001b[32m6.8421\u001b[0m  0.0153\n     17        \u001b[36m6.7701\u001b[0m        \u001b[32m5.9313\u001b[0m  0.0161\n     18        \u001b[36m5.9183\u001b[0m        6.3824  0.0153\n     19        6.0365        \u001b[32m5.1113\u001b[0m  0.0183\n     20        \u001b[36m4.8761\u001b[0m        \u001b[32m3.8345\u001b[0m  0.0181\n     21        \u001b[36m4.1678\u001b[0m        3.8697  0.0181\n     22        4.1755        \u001b[32m3.0523\u001b[0m  0.0159\n     23        \u001b[36m3.2477\u001b[0m        \u001b[32m2.8631\u001b[0m  0.0153\n     24        \u001b[36m3.0345\u001b[0m        \u001b[32m2.8567\u001b[0m  0.0166\n     25        \u001b[36m2.8775\u001b[0m        \u001b[32m2.1871\u001b[0m  0.0152\n     26        \u001b[36m2.3788\u001b[0m        \u001b[32m2.0545\u001b[0m  0.0158\n     27        \u001b[36m2.3182\u001b[0m        \u001b[32m1.8568\u001b[0m  0.0181\n     28        \u001b[36m2.0540\u001b[0m        \u001b[32m1.7743\u001b[0m  0.0254\n     29        \u001b[36m1.9599\u001b[0m        1.7947  0.0181\n     30        \u001b[36m1.9240\u001b[0m        \u001b[32m1.6041\u001b[0m  0.0334\n     31        \u001b[36m1.7967\u001b[0m        \u001b[32m1.5561\u001b[0m  0.0181\n     32        \u001b[36m1.7897\u001b[0m        \u001b[32m1.4705\u001b[0m  0.0182\n     33        \u001b[36m1.6906\u001b[0m        \u001b[32m1.4700\u001b[0m  0.0182\n     34        \u001b[36m1.6683\u001b[0m        \u001b[32m1.4411\u001b[0m  0.0163\n     35        \u001b[36m1.6185\u001b[0m        \u001b[32m1.3551\u001b[0m  0.0154\n     36        \u001b[36m1.5638\u001b[0m        \u001b[32m1.3139\u001b[0m  0.0154\n     37        \u001b[36m1.5364\u001b[0m        \u001b[32m1.2648\u001b[0m  0.0154\n     38        \u001b[36m1.4835\u001b[0m        1.2732  0.0155\n     39        \u001b[36m1.4764\u001b[0m        \u001b[32m1.2488\u001b[0m  0.0153\n     40        \u001b[36m1.4494\u001b[0m        \u001b[32m1.2079\u001b[0m  0.0156\n     41        \u001b[36m1.4293\u001b[0m        \u001b[32m1.1938\u001b[0m  0.0155\n     42        \u001b[36m1.4168\u001b[0m        \u001b[32m1.1836\u001b[0m  0.0182\n     43        \u001b[36m1.3957\u001b[0m        1.1852  0.0154\n     44        \u001b[36m1.3882\u001b[0m        \u001b[32m1.1629\u001b[0m  0.0181\n     45        \u001b[36m1.3712\u001b[0m        \u001b[32m1.1377\u001b[0m  0.0159\n     46        \u001b[36m1.3592\u001b[0m        \u001b[32m1.1280\u001b[0m  0.0153\n     47        \u001b[36m1.3485\u001b[0m        \u001b[32m1.1255\u001b[0m  0.0153\n     48        \u001b[36m1.3373\u001b[0m        \u001b[32m1.1202\u001b[0m  0.0154\n     49        \u001b[36m1.3287\u001b[0m        \u001b[32m1.0998\u001b[0m  0.0154\n     50        \u001b[36m1.3162\u001b[0m        \u001b[32m1.0825\u001b[0m  0.0238\n     51        \u001b[36m1.3062\u001b[0m        \u001b[32m1.0755\u001b[0m  0.0174\n     52        \u001b[36m1.2968\u001b[0m        \u001b[32m1.0747\u001b[0m  0.0155\n     53        \u001b[36m1.2897\u001b[0m        \u001b[32m1.0685\u001b[0m  0.0154\n     54        \u001b[36m1.2827\u001b[0m        \u001b[32m1.0537\u001b[0m  0.0269\n     55        \u001b[36m1.2742\u001b[0m        \u001b[32m1.0425\u001b[0m  0.0154\n     56        \u001b[36m1.2670\u001b[0m        \u001b[32m1.0387\u001b[0m  0.0227\n     57        \u001b[36m1.2607\u001b[0m        \u001b[32m1.0380\u001b[0m  0.0157\n     58        \u001b[36m1.2560\u001b[0m        \u001b[32m1.0325\u001b[0m  0.0228\n     59        \u001b[36m1.2508\u001b[0m        \u001b[32m1.0227\u001b[0m  0.0152\n     60        \u001b[36m1.2450\u001b[0m        \u001b[32m1.0154\u001b[0m  0.0297\n     61        \u001b[36m1.2397\u001b[0m        \u001b[32m1.0127\u001b[0m  0.0158\n     62        \u001b[36m1.2350\u001b[0m        \u001b[32m1.0113\u001b[0m  0.0269\n     63        \u001b[36m1.2312\u001b[0m        \u001b[32m1.0070\u001b[0m  0.0157\n     64        \u001b[36m1.2272\u001b[0m        \u001b[32m1.0010\u001b[0m  0.0266\n     65        \u001b[36m1.2231\u001b[0m        \u001b[32m0.9968\u001b[0m  0.0154\n     66        \u001b[36m1.2192\u001b[0m        \u001b[32m0.9949\u001b[0m  0.0254\n     67        \u001b[36m1.2157\u001b[0m        \u001b[32m0.9932\u001b[0m  0.0186\n     68        \u001b[36m1.2127\u001b[0m        \u001b[32m0.9899\u001b[0m  0.0170\n     69        \u001b[36m1.2096\u001b[0m        \u001b[32m0.9862\u001b[0m  0.0153\n     70        \u001b[36m1.2066\u001b[0m        \u001b[32m0.9837\u001b[0m  0.0156\n     71        \u001b[36m1.2036\u001b[0m        \u001b[32m0.9822\u001b[0m  0.0156\n     72        \u001b[36m1.2010\u001b[0m        \u001b[32m0.9802\u001b[0m  0.0154\n     73        \u001b[36m1.1984\u001b[0m        \u001b[32m0.9775\u001b[0m  0.0158\n     74        \u001b[36m1.1959\u001b[0m        \u001b[32m0.9750\u001b[0m  0.0154\n     75        \u001b[36m1.1935\u001b[0m        \u001b[32m0.9733\u001b[0m  0.0155\n     76        \u001b[36m1.1912\u001b[0m        \u001b[32m0.9719\u001b[0m  0.0156\n     77        \u001b[36m1.1890\u001b[0m        \u001b[32m0.9700\u001b[0m  0.0154\n     78        \u001b[36m1.1869\u001b[0m        \u001b[32m0.9679\u001b[0m  0.0153\n     79        \u001b[36m1.1848\u001b[0m        \u001b[32m0.9662\u001b[0m  0.0153\n     80        \u001b[36m1.1829\u001b[0m        \u001b[32m0.9650\u001b[0m  0.0156\n     81        \u001b[36m1.1810\u001b[0m        \u001b[32m0.9637\u001b[0m  0.0152\n     82        \u001b[36m1.1792\u001b[0m        \u001b[32m0.9621\u001b[0m  0.0180\n     83        \u001b[36m1.1774\u001b[0m        \u001b[32m0.9605\u001b[0m  0.0153\n     84        \u001b[36m1.1757\u001b[0m        \u001b[32m0.9593\u001b[0m  0.0229\n     85        \u001b[36m1.1740\u001b[0m        \u001b[32m0.9583\u001b[0m  0.0225\n     86        \u001b[36m1.1724\u001b[0m        \u001b[32m0.9571\u001b[0m  0.0159\n     87        \u001b[36m1.1709\u001b[0m        \u001b[32m0.9558\u001b[0m  0.0159\n     88        \u001b[36m1.1693\u001b[0m        \u001b[32m0.9545\u001b[0m  0.0154\n     89        \u001b[36m1.1678\u001b[0m        \u001b[32m0.9536\u001b[0m  0.0227\n     90        \u001b[36m1.1664\u001b[0m        \u001b[32m0.9527\u001b[0m  0.0856\n     91        \u001b[36m1.1650\u001b[0m        \u001b[32m0.9517\u001b[0m  0.0161\n     92        \u001b[36m1.1637\u001b[0m        \u001b[32m0.9506\u001b[0m  0.0162\n     93        \u001b[36m1.1623\u001b[0m        \u001b[32m0.9497\u001b[0m  0.0158\n     94        \u001b[36m1.1610\u001b[0m        \u001b[32m0.9489\u001b[0m  0.0226\n     95        \u001b[36m1.1597\u001b[0m        \u001b[32m0.9481\u001b[0m  0.0151\n     96        \u001b[36m1.1585\u001b[0m        \u001b[32m0.9472\u001b[0m  0.0265\n     97        \u001b[36m1.1573\u001b[0m        \u001b[32m0.9463\u001b[0m  0.0152\n     98        \u001b[36m1.1561\u001b[0m        \u001b[32m0.9455\u001b[0m  0.0153\n     99        \u001b[36m1.1549\u001b[0m        \u001b[32m0.9448\u001b[0m  0.0153\n    100        \u001b[36m1.1537\u001b[0m        \u001b[32m0.9441\u001b[0m  0.0152\n    101        \u001b[36m1.1526\u001b[0m        \u001b[32m0.9434\u001b[0m  0.0153\n    102        \u001b[36m1.1515\u001b[0m        \u001b[32m0.9426\u001b[0m  0.0153\n    103        \u001b[36m1.1504\u001b[0m        \u001b[32m0.9420\u001b[0m  0.0156\n    104        \u001b[36m1.1493\u001b[0m        \u001b[32m0.9414\u001b[0m  0.0155\n    105        \u001b[36m1.1483\u001b[0m        \u001b[32m0.9407\u001b[0m  0.0156\n    106        \u001b[36m1.1472\u001b[0m        \u001b[32m0.9401\u001b[0m  0.0325\n    107        \u001b[36m1.1462\u001b[0m        \u001b[32m0.9395\u001b[0m  0.0156\n    108        \u001b[36m1.1452\u001b[0m        \u001b[32m0.9389\u001b[0m  0.0274\n    109        \u001b[36m1.1442\u001b[0m        \u001b[32m0.9384\u001b[0m  0.0180\n    110        \u001b[36m1.1433\u001b[0m        \u001b[32m0.9378\u001b[0m  0.0290\n    111        \u001b[36m1.1423\u001b[0m        \u001b[32m0.9373\u001b[0m  0.0179\n    112        \u001b[36m1.1414\u001b[0m        \u001b[32m0.9367\u001b[0m  0.0178\n    113        \u001b[36m1.1404\u001b[0m        \u001b[32m0.9362\u001b[0m  0.0150\n    114        \u001b[36m1.1395\u001b[0m        \u001b[32m0.9357\u001b[0m  0.0180\n    115        \u001b[36m1.1386\u001b[0m        \u001b[32m0.9352\u001b[0m  0.0151\n    116        \u001b[36m1.1377\u001b[0m        \u001b[32m0.9348\u001b[0m  0.0150\n    117        \u001b[36m1.1368\u001b[0m        \u001b[32m0.9343\u001b[0m  0.0150\n    118        \u001b[36m1.1359\u001b[0m        \u001b[32m0.9339\u001b[0m  0.0153\n    119        \u001b[36m1.1351\u001b[0m        \u001b[32m0.9334\u001b[0m  0.0149\n    120        \u001b[36m1.1342\u001b[0m        \u001b[32m0.9330\u001b[0m  0.0155\n    121        \u001b[36m1.1334\u001b[0m        \u001b[32m0.9326\u001b[0m  0.0149\n    122        \u001b[36m1.1325\u001b[0m        \u001b[32m0.9321\u001b[0m  0.0151\n    123        \u001b[36m1.1317\u001b[0m        \u001b[32m0.9317\u001b[0m  0.0150\n    124        \u001b[36m1.1309\u001b[0m        \u001b[32m0.9313\u001b[0m  0.0164\n    125        \u001b[36m1.1301\u001b[0m        \u001b[32m0.9309\u001b[0m  0.0179\n    126        \u001b[36m1.1293\u001b[0m        \u001b[32m0.9306\u001b[0m  0.0890\n    127        \u001b[36m1.1285\u001b[0m        \u001b[32m0.9302\u001b[0m  0.0154\n    128        \u001b[36m1.1277\u001b[0m        \u001b[32m0.9298\u001b[0m  0.0218\n    129        \u001b[36m1.1269\u001b[0m        \u001b[32m0.9295\u001b[0m  0.0151\n    130        \u001b[36m1.1262\u001b[0m        \u001b[32m0.9291\u001b[0m  0.0295\n    131        \u001b[36m1.1254\u001b[0m        \u001b[32m0.9288\u001b[0m  0.0153\n    132        \u001b[36m1.1246\u001b[0m        \u001b[32m0.9284\u001b[0m  0.0267\n    133        \u001b[36m1.1239\u001b[0m        \u001b[32m0.9281\u001b[0m  0.0151\n    134        \u001b[36m1.1232\u001b[0m        \u001b[32m0.9277\u001b[0m  0.0229\n    135        \u001b[36m1.1224\u001b[0m        \u001b[32m0.9274\u001b[0m  0.0153\n    136        \u001b[36m1.1217\u001b[0m        \u001b[32m0.9271\u001b[0m  0.0244\n    137        \u001b[36m1.1210\u001b[0m        \u001b[32m0.9268\u001b[0m  0.0151\n    138        \u001b[36m1.1202\u001b[0m        \u001b[32m0.9265\u001b[0m  0.0274\n    139        \u001b[36m1.1195\u001b[0m        \u001b[32m0.9262\u001b[0m  0.0153\n    140        \u001b[36m1.1188\u001b[0m        \u001b[32m0.9259\u001b[0m  0.0261\n    141        \u001b[36m1.1181\u001b[0m        \u001b[32m0.9256\u001b[0m  0.0151\n    142        \u001b[36m1.1174\u001b[0m        \u001b[32m0.9253\u001b[0m  0.0282\n    143        \u001b[36m1.1167\u001b[0m        \u001b[32m0.9250\u001b[0m  0.0152\n    144        \u001b[36m1.1161\u001b[0m        \u001b[32m0.9247\u001b[0m  0.0238\n    145        \u001b[36m1.1154\u001b[0m        \u001b[32m0.9244\u001b[0m  0.0182\n    146        \u001b[36m1.1147\u001b[0m        \u001b[32m0.9241\u001b[0m  0.0267\n    147        \u001b[36m1.1140\u001b[0m        \u001b[32m0.9238\u001b[0m  0.0209\n    148        \u001b[36m1.1134\u001b[0m        \u001b[32m0.9236\u001b[0m  0.0184\n    149        \u001b[36m1.1127\u001b[0m        \u001b[32m0.9233\u001b[0m  0.0180\n    150        \u001b[36m1.1120\u001b[0m        \u001b[32m0.9230\u001b[0m  0.0181\n    151        \u001b[36m1.1114\u001b[0m        \u001b[32m0.9228\u001b[0m  0.0180\n    152        \u001b[36m1.1107\u001b[0m        \u001b[32m0.9225\u001b[0m  0.0160\n    153        \u001b[36m1.1101\u001b[0m        \u001b[32m0.9222\u001b[0m  0.0151\n    154        \u001b[36m1.1095\u001b[0m        \u001b[32m0.9220\u001b[0m  0.0154\n    155        \u001b[36m1.1088\u001b[0m        \u001b[32m0.9217\u001b[0m  0.0211\n    156        \u001b[36m1.1082\u001b[0m        \u001b[32m0.9215\u001b[0m  0.0153\n    157        \u001b[36m1.1076\u001b[0m        \u001b[32m0.9212\u001b[0m  0.0159\n    158        \u001b[36m1.1069\u001b[0m        \u001b[32m0.9210\u001b[0m  0.0156\n    159        \u001b[36m1.1063\u001b[0m        \u001b[32m0.9207\u001b[0m  0.0157\n    160        \u001b[36m1.1057\u001b[0m        \u001b[32m0.9205\u001b[0m  0.0155\n    161        \u001b[36m1.1051\u001b[0m        \u001b[32m0.9202\u001b[0m  0.0156\n    162        \u001b[36m1.1045\u001b[0m        \u001b[32m0.9200\u001b[0m  0.0155\n    163        \u001b[36m1.1039\u001b[0m        \u001b[32m0.9197\u001b[0m  0.0150\n    164        \u001b[36m1.1033\u001b[0m        \u001b[32m0.9195\u001b[0m  0.0211\n    165        \u001b[36m1.1027\u001b[0m        \u001b[32m0.9193\u001b[0m  0.0155\n    166        \u001b[36m1.1021\u001b[0m        \u001b[32m0.9190\u001b[0m  0.0156\n  epoch    train_loss    valid_loss     dur\n-------  ------------  ------------  ------\n      1      \u001b[36m166.3891\u001b[0m       \u001b[32m71.1763\u001b[0m  0.0145\n      2      \u001b[36m111.3407\u001b[0m       71.8114  0.0151\n      3       \u001b[36m46.8931\u001b[0m       \u001b[32m62.3261\u001b[0m  0.0147\n      4       74.3113       \u001b[32m61.0929\u001b[0m  0.0148\n      5       49.0822       \u001b[32m52.2158\u001b[0m  0.0148\n      6       52.5980       \u001b[32m25.9511\u001b[0m  0.0171\n      7       \u001b[36m17.0836\u001b[0m       \u001b[32m17.7175\u001b[0m  0.0146\n      8       20.6878       27.5763  0.0147\n      9       22.6521        \u001b[32m9.4170\u001b[0m  0.0147\n     10        \u001b[36m9.9570\u001b[0m       12.0304  0.0145\n     11       12.3541        \u001b[32m8.0895\u001b[0m  0.0145\n     12        \u001b[36m7.1797\u001b[0m        \u001b[32m7.5663\u001b[0m  0.0149\n     13        8.8329       11.1883  0.0147\n     14        9.9158        \u001b[32m4.4652\u001b[0m  0.0180\n     15        \u001b[36m4.0893\u001b[0m        \u001b[32m3.3361\u001b[0m  0.0179\n     16        4.3025        4.5849  0.0256\n     17        4.8566        \u001b[32m2.8061\u001b[0m  0.0159\n     18        \u001b[36m3.4460\u001b[0m        3.6979  0.0178\n     19        4.0463        3.7650  0.0153\n     20        3.5139        \u001b[32m1.9854\u001b[0m  0.0813\n     21        \u001b[36m2.2493\u001b[0m        2.3168  0.0196\n     22        2.7870        2.6927  0.0153\n     23        2.7825        \u001b[32m1.7849\u001b[0m  0.0144\n     24        \u001b[36m2.0472\u001b[0m        1.8893  0.0144\n     25        2.1787        2.0192  0.0152\n     26        2.1361        \u001b[32m1.5866\u001b[0m  0.0146\n     27        \u001b[36m1.8516\u001b[0m        1.6035  0.0145\n     28        1.9581        1.6307  0.0145\n     29        1.8816        \u001b[32m1.4031\u001b[0m  0.0146\n     30        \u001b[36m1.6482\u001b[0m        1.4671  0.0145\n     31        1.6994        1.5263  0.0258\n     32        1.7110        \u001b[32m1.3637\u001b[0m  0.0145\n     33        \u001b[36m1.5971\u001b[0m        \u001b[32m1.3083\u001b[0m  0.0147\n     34        \u001b[36m1.5916\u001b[0m        \u001b[32m1.3016\u001b[0m  0.0147\n     35        \u001b[36m1.5772\u001b[0m        \u001b[32m1.2386\u001b[0m  0.0145\n     36        \u001b[36m1.5122\u001b[0m        1.2581  0.0145\n     37        \u001b[36m1.5118\u001b[0m        1.2876  0.0147\n     38        \u001b[36m1.5075\u001b[0m        1.2475  0.0157\n     39        \u001b[36m1.4685\u001b[0m        \u001b[32m1.2298\u001b[0m  0.0145\n     40        \u001b[36m1.4602\u001b[0m        \u001b[32m1.2294\u001b[0m  0.0150\n     41        \u001b[36m1.4527\u001b[0m        \u001b[32m1.2036\u001b[0m  0.0146\n     42        \u001b[36m1.4262\u001b[0m        \u001b[32m1.1929\u001b[0m  0.0172\n     43        \u001b[36m1.4189\u001b[0m        \u001b[32m1.1896\u001b[0m  0.0172\n     44        \u001b[36m1.4162\u001b[0m        \u001b[32m1.1661\u001b[0m  0.0158\n     45        \u001b[36m1.4001\u001b[0m        \u001b[32m1.1484\u001b[0m  0.0144\n     46        \u001b[36m1.3886\u001b[0m        \u001b[32m1.1461\u001b[0m  0.0144\n     47        \u001b[36m1.3806\u001b[0m        \u001b[32m1.1460\u001b[0m  0.0146\n     48        \u001b[36m1.3706\u001b[0m        1.1489  0.0151\n     49        \u001b[36m1.3658\u001b[0m        1.1474  0.0148\n     50        \u001b[36m1.3616\u001b[0m        \u001b[32m1.1337\u001b[0m  0.0220\n     51        \u001b[36m1.3527\u001b[0m        \u001b[32m1.1188\u001b[0m  0.0146\n     52        \u001b[36m1.3450\u001b[0m        \u001b[32m1.1103\u001b[0m  0.0179\n     53        \u001b[36m1.3391\u001b[0m        \u001b[32m1.1062\u001b[0m  0.0153\n     54        \u001b[36m1.3326\u001b[0m        \u001b[32m1.1059\u001b[0m  0.0152\n     55        \u001b[36m1.3275\u001b[0m        1.1063  0.0146\n     56        \u001b[36m1.3234\u001b[0m        \u001b[32m1.1030\u001b[0m  0.0150\n     57        \u001b[36m1.3184\u001b[0m        \u001b[32m1.0974\u001b[0m  0.0145\n     58        \u001b[36m1.3131\u001b[0m        \u001b[32m1.0922\u001b[0m  0.0148\n     59        \u001b[36m1.3081\u001b[0m        \u001b[32m1.0876\u001b[0m  0.0197\n     60        \u001b[36m1.3032\u001b[0m        \u001b[32m1.0840\u001b[0m  0.0145\n     61        \u001b[36m1.2991\u001b[0m        \u001b[32m1.0806\u001b[0m  0.0144\n     62        \u001b[36m1.2954\u001b[0m        \u001b[32m1.0765\u001b[0m  0.0145\n     63        \u001b[36m1.2913\u001b[0m        \u001b[32m1.0724\u001b[0m  0.0179\n     64        \u001b[36m1.2871\u001b[0m        \u001b[32m1.0694\u001b[0m  0.0147\n     65        \u001b[36m1.2832\u001b[0m        \u001b[32m1.0674\u001b[0m  0.0175\n     66        \u001b[36m1.2794\u001b[0m        \u001b[32m1.0657\u001b[0m  0.0143\n     67        \u001b[36m1.2760\u001b[0m        \u001b[32m1.0633\u001b[0m  0.0171\n     68        \u001b[36m1.2728\u001b[0m        \u001b[32m1.0600\u001b[0m  0.0231\n     69        \u001b[36m1.2695\u001b[0m        \u001b[32m1.0563\u001b[0m  0.0170\n     70        \u001b[36m1.2661\u001b[0m        \u001b[32m1.0531\u001b[0m  0.0146\n     71        \u001b[36m1.2628\u001b[0m        \u001b[32m1.0508\u001b[0m  0.0217\n     72        \u001b[36m1.2596\u001b[0m        \u001b[32m1.0491\u001b[0m  0.0146\n     73        \u001b[36m1.2567\u001b[0m        \u001b[32m1.0473\u001b[0m  0.0198\n     74        \u001b[36m1.2539\u001b[0m        \u001b[32m1.0451\u001b[0m  0.0194\n     75        \u001b[36m1.2511\u001b[0m        \u001b[32m1.0424\u001b[0m  0.0143\n     76        \u001b[36m1.2482\u001b[0m        \u001b[32m1.0399\u001b[0m  0.0145\n     77        \u001b[36m1.2454\u001b[0m        \u001b[32m1.0377\u001b[0m  0.0144\n     78        \u001b[36m1.2427\u001b[0m        \u001b[32m1.0358\u001b[0m  0.0146\n     79        \u001b[36m1.2401\u001b[0m        \u001b[32m1.0340\u001b[0m  0.0149\n     80        \u001b[36m1.2377\u001b[0m        \u001b[32m1.0321\u001b[0m  0.0194\n     81        \u001b[36m1.2352\u001b[0m        \u001b[32m1.0301\u001b[0m  0.0146\n     82        \u001b[36m1.2327\u001b[0m        \u001b[32m1.0282\u001b[0m  0.0175\n     83        \u001b[36m1.2303\u001b[0m        \u001b[32m1.0263\u001b[0m  0.0148\n     84        \u001b[36m1.2280\u001b[0m        \u001b[32m1.0246\u001b[0m  0.0145\n     85        \u001b[36m1.2257\u001b[0m        \u001b[32m1.0230\u001b[0m  0.0148\n     86        \u001b[36m1.2235\u001b[0m        \u001b[32m1.0213\u001b[0m  0.0169\n     87        \u001b[36m1.2213\u001b[0m        \u001b[32m1.0195\u001b[0m  0.0169\n     88        \u001b[36m1.2191\u001b[0m        \u001b[32m1.0179\u001b[0m  0.0148\n     89        \u001b[36m1.2170\u001b[0m        \u001b[32m1.0163\u001b[0m  0.0144\n     90        \u001b[36m1.2149\u001b[0m        \u001b[32m1.0148\u001b[0m  0.0149\n     91        \u001b[36m1.2128\u001b[0m        \u001b[32m1.0133\u001b[0m  0.0144\n     92        \u001b[36m1.2108\u001b[0m        \u001b[32m1.0118\u001b[0m  0.0146\n     93        \u001b[36m1.2088\u001b[0m        \u001b[32m1.0103\u001b[0m  0.0142\n     94        \u001b[36m1.2069\u001b[0m        \u001b[32m1.0087\u001b[0m  0.0141\n     95        \u001b[36m1.2050\u001b[0m        \u001b[32m1.0073\u001b[0m  0.0141\n     96        \u001b[36m1.2031\u001b[0m        \u001b[32m1.0060\u001b[0m  0.0255\n     97        \u001b[36m1.2012\u001b[0m        \u001b[32m1.0047\u001b[0m  0.0142\n     98        \u001b[36m1.1994\u001b[0m        \u001b[32m1.0034\u001b[0m  0.0267\n     99        \u001b[36m1.1976\u001b[0m        \u001b[32m1.0020\u001b[0m  0.0142\n    100        \u001b[36m1.1958\u001b[0m        \u001b[32m1.0007\u001b[0m  0.0215\n    101        \u001b[36m1.1941\u001b[0m        \u001b[32m0.9994\u001b[0m  0.0147\n    102        \u001b[36m1.1923\u001b[0m        \u001b[32m0.9981\u001b[0m  0.0145\n    103        \u001b[36m1.1907\u001b[0m        \u001b[32m0.9969\u001b[0m  0.0172\n    104        \u001b[36m1.1890\u001b[0m        \u001b[32m0.9957\u001b[0m  0.0149\n    105        \u001b[36m1.1873\u001b[0m        \u001b[32m0.9945\u001b[0m  0.0146\n    106        \u001b[36m1.1857\u001b[0m        \u001b[32m0.9934\u001b[0m  0.0144\n    107        \u001b[36m1.1841\u001b[0m        \u001b[32m0.9922\u001b[0m  0.0145\n    108        \u001b[36m1.1825\u001b[0m        \u001b[32m0.9910\u001b[0m  0.0173\n    109        \u001b[36m1.1809\u001b[0m        \u001b[32m0.9899\u001b[0m  0.0142\n    110        \u001b[36m1.1794\u001b[0m        \u001b[32m0.9888\u001b[0m  0.0142\n    111        \u001b[36m1.1779\u001b[0m        \u001b[32m0.9877\u001b[0m  0.0143\n    112        \u001b[36m1.1764\u001b[0m        \u001b[32m0.9866\u001b[0m  0.0147\n    113        \u001b[36m1.1749\u001b[0m        \u001b[32m0.9856\u001b[0m  0.0144\n    114        \u001b[36m1.1734\u001b[0m        \u001b[32m0.9845\u001b[0m  0.0144\n    115        \u001b[36m1.1719\u001b[0m        \u001b[32m0.9835\u001b[0m  0.0142\n    116        \u001b[36m1.1705\u001b[0m        \u001b[32m0.9825\u001b[0m  0.0187\n    117        \u001b[36m1.1691\u001b[0m        \u001b[32m0.9815\u001b[0m  0.0169\n    118        \u001b[36m1.1677\u001b[0m        \u001b[32m0.9805\u001b[0m  0.0148\n    119        \u001b[36m1.1663\u001b[0m        \u001b[32m0.9795\u001b[0m  0.0147\n    120        \u001b[36m1.1649\u001b[0m        \u001b[32m0.9785\u001b[0m  0.0152\n    121        \u001b[36m1.1636\u001b[0m        \u001b[32m0.9776\u001b[0m  0.0155\n    122        \u001b[36m1.1622\u001b[0m        \u001b[32m0.9767\u001b[0m  0.0152\n    123        \u001b[36m1.1609\u001b[0m        \u001b[32m0.9757\u001b[0m  0.0146\n    124        \u001b[36m1.1596\u001b[0m        \u001b[32m0.9748\u001b[0m  0.0142\n    125        \u001b[36m1.1583\u001b[0m        \u001b[32m0.9739\u001b[0m  0.0176\n    126        \u001b[36m1.1570\u001b[0m        \u001b[32m0.9730\u001b[0m  0.0143\n    127        \u001b[36m1.1558\u001b[0m        \u001b[32m0.9721\u001b[0m  0.0144\n    128        \u001b[36m1.1545\u001b[0m        \u001b[32m0.9713\u001b[0m  0.0146\n    129        \u001b[36m1.1533\u001b[0m        \u001b[32m0.9704\u001b[0m  0.0144\n    130        \u001b[36m1.1520\u001b[0m        \u001b[32m0.9696\u001b[0m  0.0144\n    131        \u001b[36m1.1508\u001b[0m        \u001b[32m0.9687\u001b[0m  0.0145\n    132        \u001b[36m1.1496\u001b[0m        \u001b[32m0.9679\u001b[0m  0.0145\n    133        \u001b[36m1.1484\u001b[0m        \u001b[32m0.9671\u001b[0m  0.0148\n    134        \u001b[36m1.1472\u001b[0m        \u001b[32m0.9663\u001b[0m  0.0147\n    135        \u001b[36m1.1461\u001b[0m        \u001b[32m0.9655\u001b[0m  0.0146\n    136        \u001b[36m1.1449\u001b[0m        \u001b[32m0.9647\u001b[0m  0.0148\n    137        \u001b[36m1.1438\u001b[0m        \u001b[32m0.9639\u001b[0m  0.0164\n    138        \u001b[36m1.1426\u001b[0m        \u001b[32m0.9631\u001b[0m  0.0146\n    139        \u001b[36m1.1415\u001b[0m        \u001b[32m0.9624\u001b[0m  0.0144\n    140        \u001b[36m1.1404\u001b[0m        \u001b[32m0.9616\u001b[0m  0.0146\n    141        \u001b[36m1.1393\u001b[0m        \u001b[32m0.9609\u001b[0m  0.0154\n    142        \u001b[36m1.1382\u001b[0m        \u001b[32m0.9602\u001b[0m  0.0171\n    143        \u001b[36m1.1371\u001b[0m        \u001b[32m0.9595\u001b[0m  0.0149\n    144        \u001b[36m1.1361\u001b[0m        \u001b[32m0.9587\u001b[0m  0.0144\n    145        \u001b[36m1.1350\u001b[0m        \u001b[32m0.9580\u001b[0m  0.0144\n    146        \u001b[36m1.1340\u001b[0m        \u001b[32m0.9573\u001b[0m  0.0146\n    147        \u001b[36m1.1329\u001b[0m        \u001b[32m0.9567\u001b[0m  0.0142\n    148        \u001b[36m1.1319\u001b[0m        \u001b[32m0.9560\u001b[0m  0.0242\n    149        \u001b[36m1.1309\u001b[0m        \u001b[32m0.9553\u001b[0m  0.0144\n    150        \u001b[36m1.1299\u001b[0m        \u001b[32m0.9546\u001b[0m  0.0145\n    151        \u001b[36m1.1289\u001b[0m        \u001b[32m0.9540\u001b[0m  0.0143\n    152        \u001b[36m1.1279\u001b[0m        \u001b[32m0.9533\u001b[0m  0.0143\n    153        \u001b[36m1.1269\u001b[0m        \u001b[32m0.9527\u001b[0m  0.0147\n    154        \u001b[36m1.1260\u001b[0m        \u001b[32m0.9521\u001b[0m  0.0145\n    155        \u001b[36m1.1250\u001b[0m        \u001b[32m0.9515\u001b[0m  0.0145\n    156        \u001b[36m1.1240\u001b[0m        \u001b[32m0.9508\u001b[0m  0.0146\n    157        \u001b[36m1.1231\u001b[0m        \u001b[32m0.9502\u001b[0m  0.0180\n    158        \u001b[36m1.1222\u001b[0m        \u001b[32m0.9496\u001b[0m  0.0869\n    159        \u001b[36m1.1212\u001b[0m        \u001b[32m0.9490\u001b[0m  0.0145\n    160        \u001b[36m1.1203\u001b[0m        \u001b[32m0.9485\u001b[0m  0.0219\n    161        \u001b[36m1.1194\u001b[0m        \u001b[32m0.9479\u001b[0m  0.0161\n    162        \u001b[36m1.1185\u001b[0m        \u001b[32m0.9473\u001b[0m  0.0160\n    163        \u001b[36m1.1176\u001b[0m        \u001b[32m0.9468\u001b[0m  0.0144\n    164        \u001b[36m1.1167\u001b[0m        \u001b[32m0.9462\u001b[0m  0.0150\n    165        \u001b[36m1.1159\u001b[0m        \u001b[32m0.9456\u001b[0m  0.0143\n    166        \u001b[36m1.1150\u001b[0m        \u001b[32m0.9451\u001b[0m  0.0145\n    167        \u001b[36m1.1141\u001b[0m        \u001b[32m0.9446\u001b[0m  0.0144\n    168        \u001b[36m1.1133\u001b[0m        \u001b[32m0.9440\u001b[0m  0.0147\n    169        \u001b[36m1.1124\u001b[0m        \u001b[32m0.9435\u001b[0m  0.0187\n    170        \u001b[36m1.1116\u001b[0m        \u001b[32m0.9430\u001b[0m  0.0271\n    171        \u001b[36m1.1108\u001b[0m        \u001b[32m0.9425\u001b[0m  0.0142\n    172        \u001b[36m1.1100\u001b[0m        \u001b[32m0.9420\u001b[0m  0.0141\n    173        \u001b[36m1.1091\u001b[0m        \u001b[32m0.9415\u001b[0m  0.0143\n    174        \u001b[36m1.1083\u001b[0m        \u001b[32m0.9410\u001b[0m  0.0144\n    175        \u001b[36m1.1075\u001b[0m        \u001b[32m0.9405\u001b[0m  0.0141\n    176        \u001b[36m1.1068\u001b[0m        \u001b[32m0.9400\u001b[0m  0.0145\n    177        \u001b[36m1.1060\u001b[0m        \u001b[32m0.9396\u001b[0m  0.0144\n    178        \u001b[36m1.1052\u001b[0m        \u001b[32m0.9391\u001b[0m  0.0143\n    179        \u001b[36m1.1044\u001b[0m        \u001b[32m0.9386\u001b[0m  0.0173\n    180        \u001b[36m1.1037\u001b[0m        \u001b[32m0.9382\u001b[0m  0.0145\n    181        \u001b[36m1.1029\u001b[0m        \u001b[32m0.9377\u001b[0m  0.0203\n    182        \u001b[36m1.1022\u001b[0m        \u001b[32m0.9373\u001b[0m  0.0146\n    183        \u001b[36m1.1014\u001b[0m        \u001b[32m0.9369\u001b[0m  0.0163\n    184        \u001b[36m1.1007\u001b[0m        \u001b[32m0.9364\u001b[0m  0.0145\n    185        \u001b[36m1.1000\u001b[0m        \u001b[32m0.9360\u001b[0m  0.0143\n    186        \u001b[36m1.0992\u001b[0m        \u001b[32m0.9356\u001b[0m  0.0143\n    187        \u001b[36m1.0985\u001b[0m        \u001b[32m0.9352\u001b[0m  0.0171\n    188        \u001b[36m1.0978\u001b[0m        \u001b[32m0.9348\u001b[0m  0.0143\n    189        \u001b[36m1.0971\u001b[0m        \u001b[32m0.9344\u001b[0m  0.0236\n    190        \u001b[36m1.0964\u001b[0m        \u001b[32m0.9340\u001b[0m  0.0145\n    191        \u001b[36m1.0957\u001b[0m        \u001b[32m0.9336\u001b[0m  0.0176\n    192        \u001b[36m1.0950\u001b[0m        \u001b[32m0.9332\u001b[0m  0.0142\n    193        \u001b[36m1.0944\u001b[0m        \u001b[32m0.9328\u001b[0m  0.0141\n    194        \u001b[36m1.0937\u001b[0m        \u001b[32m0.9324\u001b[0m  0.0142\n    195        \u001b[36m1.0930\u001b[0m        \u001b[32m0.9320\u001b[0m  0.0142\n    196        \u001b[36m1.0924\u001b[0m        \u001b[32m0.9317\u001b[0m  0.0143\n    197        \u001b[36m1.0917\u001b[0m        \u001b[32m0.9313\u001b[0m  0.0151\n    198        \u001b[36m1.0911\u001b[0m        \u001b[32m0.9309\u001b[0m  0.0142\n    199        \u001b[36m1.0904\u001b[0m        \u001b[32m0.9306\u001b[0m  0.0142\n    200        \u001b[36m1.0898\u001b[0m        \u001b[32m0.9302\u001b[0m  0.0182\n    201        \u001b[36m1.0891\u001b[0m        \u001b[32m0.9299\u001b[0m  0.0145\n    202        \u001b[36m1.0885\u001b[0m        \u001b[32m0.9295\u001b[0m  0.0214\n    203        \u001b[36m1.0879\u001b[0m        \u001b[32m0.9292\u001b[0m  0.0146\n    204        \u001b[36m1.0873\u001b[0m        \u001b[32m0.9288\u001b[0m  0.0145\n    205        \u001b[36m1.0867\u001b[0m        \u001b[32m0.9285\u001b[0m  0.0196\n    206        \u001b[36m1.0861\u001b[0m        \u001b[32m0.9282\u001b[0m  0.0149\n    207        \u001b[36m1.0855\u001b[0m        \u001b[32m0.9279\u001b[0m  0.0148\n    208        \u001b[36m1.0849\u001b[0m        \u001b[32m0.9275\u001b[0m  0.0145\n    209        \u001b[36m1.0843\u001b[0m        \u001b[32m0.9272\u001b[0m  0.0144\n    210        \u001b[36m1.0837\u001b[0m        \u001b[32m0.9269\u001b[0m  0.0144\n    211        \u001b[36m1.0831\u001b[0m        \u001b[32m0.9266\u001b[0m  0.0144\n    212        \u001b[36m1.0825\u001b[0m        \u001b[32m0.9263\u001b[0m  0.0147\n    213        \u001b[36m1.0820\u001b[0m        \u001b[32m0.9260\u001b[0m  0.0144\n    214        \u001b[36m1.0814\u001b[0m        \u001b[32m0.9257\u001b[0m  0.0144\n    215        \u001b[36m1.0808\u001b[0m        \u001b[32m0.9254\u001b[0m  0.0176\n    216        \u001b[36m1.0803\u001b[0m        \u001b[32m0.9251\u001b[0m  0.0144\n    217        \u001b[36m1.0797\u001b[0m        \u001b[32m0.9248\u001b[0m  0.0145\n    218        \u001b[36m1.0792\u001b[0m        \u001b[32m0.9245\u001b[0m  0.0187\n    219        \u001b[36m1.0786\u001b[0m        \u001b[32m0.9243\u001b[0m  0.0261\n    220        \u001b[36m1.0781\u001b[0m        \u001b[32m0.9240\u001b[0m  0.0172\n    221        \u001b[36m1.0776\u001b[0m        \u001b[32m0.9237\u001b[0m  0.0285\n    222        \u001b[36m1.0770\u001b[0m        \u001b[32m0.9234\u001b[0m  0.0152\n    223        \u001b[36m1.0765\u001b[0m        \u001b[32m0.9232\u001b[0m  0.0232\n    224        \u001b[36m1.0760\u001b[0m        \u001b[32m0.9229\u001b[0m  0.0153\n    225        \u001b[36m1.0755\u001b[0m        \u001b[32m0.9226\u001b[0m  0.0195\n    226        \u001b[36m1.0750\u001b[0m        \u001b[32m0.9224\u001b[0m  0.0147\n    227        \u001b[36m1.0745\u001b[0m        \u001b[32m0.9221\u001b[0m  0.0143\n    228        \u001b[36m1.0739\u001b[0m        \u001b[32m0.9219\u001b[0m  0.0143\n    229        \u001b[36m1.0734\u001b[0m        \u001b[32m0.9216\u001b[0m  0.0153\n    230        \u001b[36m1.0729\u001b[0m        \u001b[32m0.9214\u001b[0m  0.0143\n    231        \u001b[36m1.0725\u001b[0m        \u001b[32m0.9211\u001b[0m  0.0192\n    232        \u001b[36m1.0720\u001b[0m        \u001b[32m0.9209\u001b[0m  0.0144\n    233        \u001b[36m1.0715\u001b[0m        \u001b[32m0.9206\u001b[0m  0.0180\n    234        \u001b[36m1.0710\u001b[0m        \u001b[32m0.9204\u001b[0m  0.0242\n    235        \u001b[36m1.0705\u001b[0m        \u001b[32m0.9202\u001b[0m  0.0171\n    236        \u001b[36m1.0700\u001b[0m        \u001b[32m0.9199\u001b[0m  0.0150\n    237        \u001b[36m1.0696\u001b[0m        \u001b[32m0.9197\u001b[0m  0.0182\n    238        \u001b[36m1.0691\u001b[0m        \u001b[32m0.9195\u001b[0m  0.0148\n    239        \u001b[36m1.0686\u001b[0m        \u001b[32m0.9192\u001b[0m  0.0207\n    240        \u001b[36m1.0682\u001b[0m        \u001b[32m0.9190\u001b[0m  0.0146\n    241        \u001b[36m1.0677\u001b[0m        \u001b[32m0.9188\u001b[0m  0.0220\n    242        \u001b[36m1.0673\u001b[0m        \u001b[32m0.9186\u001b[0m  0.0145\n    243        \u001b[36m1.0668\u001b[0m        \u001b[32m0.9183\u001b[0m  0.0258\n  epoch    train_loss    valid_loss     dur\n-------  ------------  ------------  ------\n      1      \u001b[36m230.3603\u001b[0m      \u001b[32m229.4283\u001b[0m  0.0146\n      2      \u001b[36m207.2857\u001b[0m      \u001b[32m182.2319\u001b[0m  0.0218\n      3      \u001b[36m155.3706\u001b[0m       \u001b[32m92.6755\u001b[0m  0.0172\n      4       \u001b[36m66.4601\u001b[0m       \u001b[32m16.8027\u001b[0m  0.0260\n      5       \u001b[36m20.1828\u001b[0m       41.1555  0.0157\n      6       46.0455       46.8493  0.0278\n      7       40.7491       19.0370  0.0169\n      8       \u001b[36m17.0050\u001b[0m        \u001b[32m9.1812\u001b[0m  0.0234\n      9        \u001b[36m9.8863\u001b[0m       17.2294  0.0186\n     10       16.4174       21.0241  0.0162\n     11       17.7641       14.6965  0.0159\n     12       11.7160        \u001b[32m7.7878\u001b[0m  0.0151\n     13        \u001b[36m7.0216\u001b[0m        \u001b[32m6.6871\u001b[0m  0.0157\n     14        7.3732        8.0939  0.0188\n     15        8.5631        6.8698  0.0183\n     16        \u001b[36m6.9869\u001b[0m        \u001b[32m5.4146\u001b[0m  0.0162\n     17        \u001b[36m5.8974\u001b[0m        \u001b[32m5.0771\u001b[0m  0.0159\n     18        \u001b[36m4.8163\u001b[0m        \u001b[32m3.5277\u001b[0m  0.0165\n     19        \u001b[36m3.5757\u001b[0m        \u001b[32m3.1295\u001b[0m  0.0293\n     20        \u001b[36m3.2091\u001b[0m        \u001b[32m2.9451\u001b[0m  0.0159\n     21        \u001b[36m3.0219\u001b[0m        \u001b[32m2.7210\u001b[0m  0.0265\n     22        \u001b[36m2.7502\u001b[0m        \u001b[32m2.4259\u001b[0m  0.0183\n     23        \u001b[36m2.4289\u001b[0m        \u001b[32m2.1880\u001b[0m  0.0161\n     24        \u001b[36m2.1971\u001b[0m        \u001b[32m1.9438\u001b[0m  0.0184\n     25        \u001b[36m1.9861\u001b[0m        \u001b[32m1.6715\u001b[0m  0.0183\n     26        \u001b[36m1.7871\u001b[0m        \u001b[32m1.4912\u001b[0m  0.0161\n     27        \u001b[36m1.6782\u001b[0m        \u001b[32m1.4045\u001b[0m  0.0159\n     28        \u001b[36m1.6187\u001b[0m        \u001b[32m1.3434\u001b[0m  0.0159\n     29        \u001b[36m1.5567\u001b[0m        \u001b[32m1.3232\u001b[0m  0.0158\n     30        \u001b[36m1.5287\u001b[0m        1.3424  0.0159\n     31        1.5359        1.3353  0.0159\n     32        \u001b[36m1.5276\u001b[0m        \u001b[32m1.2924\u001b[0m  0.0161\n     33        \u001b[36m1.5029\u001b[0m        \u001b[32m1.2577\u001b[0m  0.0213\n     34        \u001b[36m1.4877\u001b[0m        \u001b[32m1.2401\u001b[0m  0.0243\n     35        \u001b[36m1.4739\u001b[0m        \u001b[32m1.2235\u001b[0m  0.0254\n     36        \u001b[36m1.4487\u001b[0m        \u001b[32m1.2092\u001b[0m  0.0193\n     37        \u001b[36m1.4223\u001b[0m        \u001b[32m1.2012\u001b[0m  0.0160\n     38        \u001b[36m1.4039\u001b[0m        \u001b[32m1.1888\u001b[0m  0.0166\n     39        \u001b[36m1.3874\u001b[0m        \u001b[32m1.1661\u001b[0m  0.0152\n     40        \u001b[36m1.3693\u001b[0m        \u001b[32m1.1425\u001b[0m  0.0165\n     41        \u001b[36m1.3537\u001b[0m        \u001b[32m1.1269\u001b[0m  0.0182\n     42        \u001b[36m1.3421\u001b[0m        \u001b[32m1.1191\u001b[0m  0.0184\n     43        \u001b[36m1.3322\u001b[0m        \u001b[32m1.1157\u001b[0m  0.0188\n     44        \u001b[36m1.3236\u001b[0m        \u001b[32m1.1131\u001b[0m  0.0155\n     45        \u001b[36m1.3162\u001b[0m        \u001b[32m1.1077\u001b[0m  0.0154\n     46        \u001b[36m1.3089\u001b[0m        \u001b[32m1.0983\u001b[0m  0.0155\n     47        \u001b[36m1.3010\u001b[0m        \u001b[32m1.0873\u001b[0m  0.0153\n     48        \u001b[36m1.2928\u001b[0m        \u001b[32m1.0778\u001b[0m  0.0155\n     49        \u001b[36m1.2847\u001b[0m        \u001b[32m1.0713\u001b[0m  0.0152\n     50        \u001b[36m1.2769\u001b[0m        \u001b[32m1.0671\u001b[0m  0.0152\n     51        \u001b[36m1.2698\u001b[0m        \u001b[32m1.0633\u001b[0m  0.0149\n     52        \u001b[36m1.2634\u001b[0m        \u001b[32m1.0583\u001b[0m  0.0166\n     53        \u001b[36m1.2574\u001b[0m        \u001b[32m1.0521\u001b[0m  0.0919\n     54        \u001b[36m1.2517\u001b[0m        \u001b[32m1.0454\u001b[0m  0.0187\n     55        \u001b[36m1.2461\u001b[0m        \u001b[32m1.0394\u001b[0m  0.0185\n     56        \u001b[36m1.2406\u001b[0m        \u001b[32m1.0345\u001b[0m  0.0160\n     57        \u001b[36m1.2352\u001b[0m        \u001b[32m1.0306\u001b[0m  0.0155\n     58        \u001b[36m1.2300\u001b[0m        \u001b[32m1.0267\u001b[0m  0.0183\n     59        \u001b[36m1.2250\u001b[0m        \u001b[32m1.0223\u001b[0m  0.0159\n     60        \u001b[36m1.2201\u001b[0m        \u001b[32m1.0175\u001b[0m  0.0158\n     61        \u001b[36m1.2153\u001b[0m        \u001b[32m1.0128\u001b[0m  0.0160\n     62        \u001b[36m1.2108\u001b[0m        \u001b[32m1.0086\u001b[0m  0.0161\n     63        \u001b[36m1.2063\u001b[0m        \u001b[32m1.0050\u001b[0m  0.0157\n     64        \u001b[36m1.2019\u001b[0m        \u001b[32m1.0018\u001b[0m  0.0161\n     65        \u001b[36m1.1976\u001b[0m        \u001b[32m0.9987\u001b[0m  0.0158\n     66        \u001b[36m1.1935\u001b[0m        \u001b[32m0.9954\u001b[0m  0.0159\n     67        \u001b[36m1.1895\u001b[0m        \u001b[32m0.9920\u001b[0m  0.0158\n     68        \u001b[36m1.1856\u001b[0m        \u001b[32m0.9888\u001b[0m  0.0161\n     69        \u001b[36m1.1818\u001b[0m        \u001b[32m0.9858\u001b[0m  0.0159\n     70        \u001b[36m1.1782\u001b[0m        \u001b[32m0.9832\u001b[0m  0.0185\n     71        \u001b[36m1.1746\u001b[0m        \u001b[32m0.9807\u001b[0m  0.0158\n     72        \u001b[36m1.1711\u001b[0m        \u001b[32m0.9781\u001b[0m  0.0159\n     73        \u001b[36m1.1677\u001b[0m        \u001b[32m0.9755\u001b[0m  0.0273\n     74        \u001b[36m1.1644\u001b[0m        \u001b[32m0.9729\u001b[0m  0.0159\n     75        \u001b[36m1.1611\u001b[0m        \u001b[32m0.9705\u001b[0m  0.0276\n     76        \u001b[36m1.1580\u001b[0m        \u001b[32m0.9682\u001b[0m  0.0166\n     77        \u001b[36m1.1550\u001b[0m        \u001b[32m0.9661\u001b[0m  0.0282\n     78        \u001b[36m1.1520\u001b[0m        \u001b[32m0.9641\u001b[0m  0.0158\n     79        \u001b[36m1.1492\u001b[0m        \u001b[32m0.9621\u001b[0m  0.0160\n     80        \u001b[36m1.1463\u001b[0m        \u001b[32m0.9600\u001b[0m  0.0161\n     81        \u001b[36m1.1436\u001b[0m        \u001b[32m0.9580\u001b[0m  0.0160\n     82        \u001b[36m1.1409\u001b[0m        \u001b[32m0.9561\u001b[0m  0.0160\n     83        \u001b[36m1.1383\u001b[0m        \u001b[32m0.9544\u001b[0m  0.0160\n     84        \u001b[36m1.1358\u001b[0m        \u001b[32m0.9527\u001b[0m  0.0157\n     85        \u001b[36m1.1334\u001b[0m        \u001b[32m0.9510\u001b[0m  0.0177\n     86        \u001b[36m1.1310\u001b[0m        \u001b[32m0.9494\u001b[0m  0.0173\n     87        \u001b[36m1.1287\u001b[0m        \u001b[32m0.9478\u001b[0m  0.0147\n     88        \u001b[36m1.1264\u001b[0m        \u001b[32m0.9463\u001b[0m  0.0157\n     89        \u001b[36m1.1242\u001b[0m        \u001b[32m0.9448\u001b[0m  0.0150\n     90        \u001b[36m1.1220\u001b[0m        \u001b[32m0.9434\u001b[0m  0.0146\n     91        \u001b[36m1.1200\u001b[0m        \u001b[32m0.9421\u001b[0m  0.0148\n     92        \u001b[36m1.1179\u001b[0m        \u001b[32m0.9408\u001b[0m  0.0153\n     93        \u001b[36m1.1159\u001b[0m        \u001b[32m0.9396\u001b[0m  0.0155\n     94        \u001b[36m1.1140\u001b[0m        \u001b[32m0.9383\u001b[0m  0.0147\n     95        \u001b[36m1.1121\u001b[0m        \u001b[32m0.9371\u001b[0m  0.0148\n     96        \u001b[36m1.1103\u001b[0m        \u001b[32m0.9360\u001b[0m  0.0159\n     97        \u001b[36m1.1085\u001b[0m        \u001b[32m0.9349\u001b[0m  0.0154\n     98        \u001b[36m1.1067\u001b[0m        \u001b[32m0.9338\u001b[0m  0.0147\n     99        \u001b[36m1.1050\u001b[0m        \u001b[32m0.9328\u001b[0m  0.0146\n    100        \u001b[36m1.1033\u001b[0m        \u001b[32m0.9318\u001b[0m  0.0149\n    101        \u001b[36m1.1017\u001b[0m        \u001b[32m0.9308\u001b[0m  0.0149\n    102        \u001b[36m1.1001\u001b[0m        \u001b[32m0.9298\u001b[0m  0.0147\n    103        \u001b[36m1.0986\u001b[0m        \u001b[32m0.9289\u001b[0m  0.0152\n    104        \u001b[36m1.0970\u001b[0m        \u001b[32m0.9280\u001b[0m  0.0148\n    105        \u001b[36m1.0956\u001b[0m        \u001b[32m0.9272\u001b[0m  0.0149\n    106        \u001b[36m1.0941\u001b[0m        \u001b[32m0.9263\u001b[0m  0.0152\n    107        \u001b[36m1.0927\u001b[0m        \u001b[32m0.9255\u001b[0m  0.0150\n    108        \u001b[36m1.0913\u001b[0m        \u001b[32m0.9247\u001b[0m  0.0148\n    109        \u001b[36m1.0899\u001b[0m        \u001b[32m0.9239\u001b[0m  0.0153\n    110        \u001b[36m1.0886\u001b[0m        \u001b[32m0.9231\u001b[0m  0.0148\n    111        \u001b[36m1.0873\u001b[0m        \u001b[32m0.9224\u001b[0m  0.0148\n    112        \u001b[36m1.0860\u001b[0m        \u001b[32m0.9217\u001b[0m  0.0146\n    113        \u001b[36m1.0847\u001b[0m        \u001b[32m0.9210\u001b[0m  0.0173\n    114        \u001b[36m1.0835\u001b[0m        \u001b[32m0.9203\u001b[0m  0.0150\n    115        \u001b[36m1.0823\u001b[0m        \u001b[32m0.9196\u001b[0m  0.0171\n    116        \u001b[36m1.0811\u001b[0m        \u001b[32m0.9190\u001b[0m  0.0155\n    117        \u001b[36m1.0799\u001b[0m        \u001b[32m0.9183\u001b[0m  0.0149\n    118        \u001b[36m1.0787\u001b[0m        \u001b[32m0.9177\u001b[0m  0.0155\n    119        \u001b[36m1.0776\u001b[0m        \u001b[32m0.9171\u001b[0m  0.0145\n    120        \u001b[36m1.0765\u001b[0m        \u001b[32m0.9165\u001b[0m  0.0151\n    121        \u001b[36m1.0754\u001b[0m        \u001b[32m0.9159\u001b[0m  0.0146\n    122        \u001b[36m1.0743\u001b[0m        \u001b[32m0.9154\u001b[0m  0.0148\n    123        \u001b[36m1.0733\u001b[0m        \u001b[32m0.9148\u001b[0m  0.0154\n    124        \u001b[36m1.0722\u001b[0m        \u001b[32m0.9143\u001b[0m  0.0149\n    125        \u001b[36m1.0712\u001b[0m        \u001b[32m0.9137\u001b[0m  0.0175\n    126        \u001b[36m1.0702\u001b[0m        \u001b[32m0.9132\u001b[0m  0.0149\n    127        \u001b[36m1.0692\u001b[0m        \u001b[32m0.9127\u001b[0m  0.0148\n    128        \u001b[36m1.0682\u001b[0m        \u001b[32m0.9122\u001b[0m  0.0149\n    129        \u001b[36m1.0672\u001b[0m        \u001b[32m0.9117\u001b[0m  0.0146\n    130        \u001b[36m1.0663\u001b[0m        \u001b[32m0.9113\u001b[0m  0.0173\n    131        \u001b[36m1.0653\u001b[0m        \u001b[32m0.9108\u001b[0m  0.0146\n    132        \u001b[36m1.0644\u001b[0m        \u001b[32m0.9103\u001b[0m  0.0173\n    133        \u001b[36m1.0634\u001b[0m        \u001b[32m0.9099\u001b[0m  0.0171\n    134        \u001b[36m1.0625\u001b[0m        \u001b[32m0.9095\u001b[0m  0.0151\n    135        \u001b[36m1.0616\u001b[0m        \u001b[32m0.9090\u001b[0m  0.0148\n    136        \u001b[36m1.0607\u001b[0m        \u001b[32m0.9086\u001b[0m  0.0158\n    137        \u001b[36m1.0599\u001b[0m        \u001b[32m0.9082\u001b[0m  0.0145\n    138        \u001b[36m1.0590\u001b[0m        \u001b[32m0.9078\u001b[0m  0.0144\n    139        \u001b[36m1.0581\u001b[0m        \u001b[32m0.9074\u001b[0m  0.0148\n    140        \u001b[36m1.0573\u001b[0m        \u001b[32m0.9070\u001b[0m  0.0161\n    141        \u001b[36m1.0564\u001b[0m        \u001b[32m0.9066\u001b[0m  0.0149\n    142        \u001b[36m1.0556\u001b[0m        \u001b[32m0.9062\u001b[0m  0.0145\n    143        \u001b[36m1.0548\u001b[0m        \u001b[32m0.9059\u001b[0m  0.0213\n    144        \u001b[36m1.0540\u001b[0m        \u001b[32m0.9055\u001b[0m  0.0146\n    145        \u001b[36m1.0532\u001b[0m        \u001b[32m0.9051\u001b[0m  0.0299\n    146        \u001b[36m1.0524\u001b[0m        \u001b[32m0.9048\u001b[0m  0.0146\n    147        \u001b[36m1.0516\u001b[0m        \u001b[32m0.9044\u001b[0m  0.0258\n    148        \u001b[36m1.0508\u001b[0m        \u001b[32m0.9041\u001b[0m  0.0194\n    149        \u001b[36m1.0500\u001b[0m        \u001b[32m0.9038\u001b[0m  0.0174\n    150        \u001b[36m1.0492\u001b[0m        \u001b[32m0.9034\u001b[0m  0.0201\n    151        \u001b[36m1.0485\u001b[0m        \u001b[32m0.9031\u001b[0m  0.0149\n    152        \u001b[36m1.0477\u001b[0m        \u001b[32m0.9028\u001b[0m  0.0173\n    153        \u001b[36m1.0469\u001b[0m        \u001b[32m0.9025\u001b[0m  0.0152\n    154        \u001b[36m1.0462\u001b[0m        \u001b[32m0.9022\u001b[0m  0.0146\n    155        \u001b[36m1.0455\u001b[0m        \u001b[32m0.9019\u001b[0m  0.0166\n    156        \u001b[36m1.0447\u001b[0m        \u001b[32m0.9016\u001b[0m  0.0173\n    157        \u001b[36m1.0440\u001b[0m        \u001b[32m0.9013\u001b[0m  0.0156\n    158        \u001b[36m1.0433\u001b[0m        \u001b[32m0.9010\u001b[0m  0.0146\n    159        \u001b[36m1.0426\u001b[0m        \u001b[32m0.9007\u001b[0m  0.0149\n    160        \u001b[36m1.0419\u001b[0m        \u001b[32m0.9004\u001b[0m  0.0149\n    161        \u001b[36m1.0411\u001b[0m        \u001b[32m0.9001\u001b[0m  0.0150\n    162        \u001b[36m1.0404\u001b[0m        \u001b[32m0.8999\u001b[0m  0.0146\n    163        \u001b[36m1.0397\u001b[0m        \u001b[32m0.8996\u001b[0m  0.0175\n    164        \u001b[36m1.0391\u001b[0m        \u001b[32m0.8993\u001b[0m  0.0262\n    165        \u001b[36m1.0384\u001b[0m        \u001b[32m0.8991\u001b[0m  0.0146\n    166        \u001b[36m1.0377\u001b[0m        \u001b[32m0.8988\u001b[0m  0.0146\n    167        \u001b[36m1.0370\u001b[0m        \u001b[32m0.8986\u001b[0m  0.0145\n    168        \u001b[36m1.0363\u001b[0m        \u001b[32m0.8983\u001b[0m  0.0146\n    169        \u001b[36m1.0357\u001b[0m        \u001b[32m0.8981\u001b[0m  0.0145\n    170        \u001b[36m1.0350\u001b[0m        \u001b[32m0.8978\u001b[0m  0.0144\n    171        \u001b[36m1.0343\u001b[0m        \u001b[32m0.8976\u001b[0m  0.0148\n    172        \u001b[36m1.0337\u001b[0m        \u001b[32m0.8973\u001b[0m  0.0232\n    173        \u001b[36m1.0330\u001b[0m        \u001b[32m0.8971\u001b[0m  0.0181\n    174        \u001b[36m1.0324\u001b[0m        \u001b[32m0.8969\u001b[0m  0.0251\n    175        \u001b[36m1.0317\u001b[0m        \u001b[32m0.8966\u001b[0m  0.0151\n    176        \u001b[36m1.0311\u001b[0m        \u001b[32m0.8964\u001b[0m  0.0260\n    177        \u001b[36m1.0305\u001b[0m        \u001b[32m0.8962\u001b[0m  0.0150\n    178        \u001b[36m1.0298\u001b[0m        \u001b[32m0.8960\u001b[0m  0.0221\n    179        \u001b[36m1.0292\u001b[0m        \u001b[32m0.8958\u001b[0m  0.0153\n    180        \u001b[36m1.0286\u001b[0m        \u001b[32m0.8955\u001b[0m  0.0297\n    181        \u001b[36m1.0279\u001b[0m        \u001b[32m0.8953\u001b[0m  0.0148\n    182        \u001b[36m1.0273\u001b[0m        \u001b[32m0.8951\u001b[0m  0.0261\n    183        \u001b[36m1.0267\u001b[0m        \u001b[32m0.8949\u001b[0m  0.0146\n    184        \u001b[36m1.0261\u001b[0m        \u001b[32m0.8947\u001b[0m  0.0304\n    185        \u001b[36m1.0255\u001b[0m        \u001b[32m0.8945\u001b[0m  0.0145\n    186        \u001b[36m1.0249\u001b[0m        \u001b[32m0.8943\u001b[0m  0.0260\n    187        \u001b[36m1.0242\u001b[0m        \u001b[32m0.8941\u001b[0m  0.0146\n    188        \u001b[36m1.0236\u001b[0m        \u001b[32m0.8939\u001b[0m  0.0231\n    189        \u001b[36m1.0230\u001b[0m        \u001b[32m0.8937\u001b[0m  0.0148\n    190        \u001b[36m1.0224\u001b[0m        \u001b[32m0.8935\u001b[0m  0.0299\n    191        \u001b[36m1.0218\u001b[0m        \u001b[32m0.8933\u001b[0m  0.0823\n    192        \u001b[36m1.0212\u001b[0m        \u001b[32m0.8931\u001b[0m  0.0147\n    193        \u001b[36m1.0207\u001b[0m        \u001b[32m0.8930\u001b[0m  0.0179\n    194        \u001b[36m1.0201\u001b[0m        \u001b[32m0.8928\u001b[0m  0.0147\n    195        \u001b[36m1.0195\u001b[0m        \u001b[32m0.8926\u001b[0m  0.0261\n    196        \u001b[36m1.0189\u001b[0m        \u001b[32m0.8924\u001b[0m  0.0150\n    197        \u001b[36m1.0183\u001b[0m        \u001b[32m0.8922\u001b[0m  0.0299\n    198        \u001b[36m1.0177\u001b[0m        \u001b[32m0.8921\u001b[0m  0.0151\n    199        \u001b[36m1.0171\u001b[0m        \u001b[32m0.8919\u001b[0m  0.0254\n    200        \u001b[36m1.0166\u001b[0m        \u001b[32m0.8917\u001b[0m  0.0173\n    201        \u001b[36m1.0160\u001b[0m        \u001b[32m0.8915\u001b[0m  0.0175\n    202        \u001b[36m1.0154\u001b[0m        \u001b[32m0.8914\u001b[0m  0.0148\n    203        \u001b[36m1.0148\u001b[0m        \u001b[32m0.8912\u001b[0m  0.0174\n    204        \u001b[36m1.0143\u001b[0m        \u001b[32m0.8910\u001b[0m  0.0161\n    205        \u001b[36m1.0137\u001b[0m        \u001b[32m0.8909\u001b[0m  0.0152\n    206        \u001b[36m1.0131\u001b[0m        \u001b[32m0.8907\u001b[0m  0.0148\n    207        \u001b[36m1.0126\u001b[0m        \u001b[32m0.8905\u001b[0m  0.0146\n    208        \u001b[36m1.0120\u001b[0m        \u001b[32m0.8904\u001b[0m  0.0147\n    209        \u001b[36m1.0114\u001b[0m        \u001b[32m0.8902\u001b[0m  0.0150\n    210        \u001b[36m1.0109\u001b[0m        \u001b[32m0.8901\u001b[0m  0.0216\n    211        \u001b[36m1.0103\u001b[0m        \u001b[32m0.8899\u001b[0m  0.0149\n    212        \u001b[36m1.0098\u001b[0m        \u001b[32m0.8897\u001b[0m  0.0148\n    213        \u001b[36m1.0092\u001b[0m        \u001b[32m0.8896\u001b[0m  0.0152\n    214        \u001b[36m1.0087\u001b[0m        \u001b[32m0.8894\u001b[0m  0.0149\n    215        \u001b[36m1.0081\u001b[0m        \u001b[32m0.8893\u001b[0m  0.0149\n    216        \u001b[36m1.0076\u001b[0m        \u001b[32m0.8891\u001b[0m  0.0149\n    217        \u001b[36m1.0070\u001b[0m        \u001b[32m0.8890\u001b[0m  0.0157\n    218        \u001b[36m1.0065\u001b[0m        \u001b[32m0.8888\u001b[0m  0.0148\n    219        \u001b[36m1.0059\u001b[0m        \u001b[32m0.8887\u001b[0m  0.0146\n    220        \u001b[36m1.0054\u001b[0m        \u001b[32m0.8885\u001b[0m  0.0148\n    221        \u001b[36m1.0048\u001b[0m        \u001b[32m0.8884\u001b[0m  0.0150\n    222        \u001b[36m1.0043\u001b[0m        \u001b[32m0.8882\u001b[0m  0.0146\n    223        \u001b[36m1.0037\u001b[0m        \u001b[32m0.8881\u001b[0m  0.0173\n    224        \u001b[36m1.0032\u001b[0m        \u001b[32m0.8879\u001b[0m  0.0153\n    225        \u001b[36m1.0026\u001b[0m        \u001b[32m0.8878\u001b[0m  0.0147\n    226        \u001b[36m1.0021\u001b[0m        \u001b[32m0.8877\u001b[0m  0.0146\n",
     "output_type": "stream"
    }
   ],
   "execution_count": 31
  },
  {
   "cell_type": "markdown",
   "source": "## Learning Curves",
   "metadata": {
    "cell_id": "1dd24bc0-b2c7-409c-ae56-4311020f10a2",
    "tags": [],
    "deepnote_cell_type": "markdown"
   }
  },
  {
   "cell_type": "code",
   "metadata": {
    "cell_id": "dc368c71-a58a-4243-bda8-cba605d67e65",
    "deepnote_to_be_reexecuted": false,
    "execution_millis": 1732,
    "execution_start": 1642785280748,
    "source_hash": "b33a293d",
    "tags": [],
    "deepnote_output_heights": [
     611
    ],
    "deepnote_cell_type": "code"
   },
   "source": "fig, axes = plt.subplots(4, 3, figsize=(14,16))\naxes = axes.flatten()\nfig.tight_layout()\n\nfor i in range(len(eval_best_models)):\n    epochs = epochs_best_models[i]\n    loss_train = loss_train_best_models[i]\n    loss_test = loss_test_best_models[i]\n    plot_learning_curves(loss_train, loss_test, epochs, \"Loss (MEE)\", axes[i], i)\n\nfig.subplots_adjust(hspace=0.3)\nfig.delaxes(axes[10])\nfig.delaxes(axes[11])",
   "outputs": [
    {
     "data": {
      "text/plain": "<Figure size 1008x1152 with 10 Axes>",
      "image/png": "[encoded data removed]"
     },
     "metadata": {
      "needs_background": "light",
      "image/png": {
       "width": 1018,
       "height": 1170
      }
     },
     "output_type": "display_data"
    }
   ],
   "execution_count": 32
  },
  {
   "cell_type": "code",
   "metadata": {
    "cell_id": "c7183c49-035c-499a-830e-9787ce94dd3e",
    "deepnote_to_be_reexecuted": false,
    "execution_millis": 19,
    "execution_start": 1642785282469,
    "source_hash": "912ba5cb",
    "tags": [],
    "deepnote_cell_type": "code"
   },
   "source": "### Predicted points on internal test set",
   "outputs": [],
   "execution_count": 33
  },
  {
   "cell_type": "code",
   "metadata": {
    "cell_id": "00065-c5d0618d-7792-45ae-8b82-6ba1cdddf161",
    "deepnote_to_be_reexecuted": false,
    "source_hash": "29cae774",
    "execution_start": 1642785282488,
    "execution_millis": 14,
    "deepnote_cell_type": "code"
   },
   "source": "y_pred_voting_ens_train_test = np.average(y_predictions_train, axis=0)\ny_pred_voting_ens_internal_test = np.average(y_predictions_internal_test, axis=0)\ny_pred_voting_ens_blind_test = np.average(y_predictions_blind_test, axis=0)\n\nprint(f\"MEE: {mee(y_test, y_pred_voting_ens_internal_test)}\")",
   "outputs": [
    {
     "name": "stdout",
     "text": "MEE: 1.0648335010014676\n",
     "output_type": "stream"
    }
   ],
   "execution_count": 34
  },
  {
   "cell_type": "code",
   "metadata": {
    "cell_id": "327a4c6c-9f32-4799-af78-026a65ad6b7b",
    "deepnote_to_be_reexecuted": false,
    "execution_millis": 716,
    "execution_start": 1642785282494,
    "source_hash": "fc3a8552",
    "tags": [],
    "deepnote_output_heights": [
     264
    ],
    "deepnote_cell_type": "code"
   },
   "source": "plot_coordinates(y_predicted_test, y_test)",
   "outputs": [
    {
     "output_type": "error",
     "ename": "NameError",
     "evalue": "name 'y_predicted_test' is not defined",
     "traceback": [
      "\u001b[0;31m---------------------------------------------------------------------------\u001b[0m",
      "\u001b[0;31mNameError\u001b[0m                                 Traceback (most recent call last)",
      "\u001b[0;32m<ipython-input-35-19e396def973>\u001b[0m in \u001b[0;36m<module>\u001b[0;34m\u001b[0m\n\u001b[0;32m----> 1\u001b[0;31m \u001b[0mplot_coordinates\u001b[0m\u001b[0;34m(\u001b[0m\u001b[0my_predicted_test\u001b[0m\u001b[0;34m,\u001b[0m \u001b[0my_test\u001b[0m\u001b[0;34m)\u001b[0m\u001b[0;34m\u001b[0m\u001b[0;34m\u001b[0m\u001b[0m\n\u001b[0m",
      "\u001b[0;31mNameError\u001b[0m: name 'y_predicted_test' is not defined"
     ]
    }
   ],
   "execution_count": 35
  },
  {
   "cell_type": "code",
   "metadata": {
    "cell_id": "b365b2b4-b0ac-4719-8ccc-8aaa6c57c90c",
    "deepnote_to_be_reexecuted": true,
    "execution_millis": 407,
    "execution_start": 1642776401820,
    "source_hash": "868eea97",
    "tags": [],
    "deepnote_output_heights": [
     264
    ],
    "deepnote_cell_type": "code"
   },
   "source": "plot_coordinates(y_predicted, y)",
   "outputs": [
    {
     "data": {
      "text/plain": "<Figure size 432x288 with 1 Axes>",
      "image/png": "[encoded data removed]"
     },
     "metadata": {
      "needs_background": "light",
      "image/png": {
       "width": 391,
       "height": 262
      }
     },
     "output_type": "display_data"
    }
   ],
   "execution_count": null
  },
  {
   "cell_type": "markdown",
   "source": "### Predicted points on blind test set",
   "metadata": {
    "cell_id": "00059-5568c441-47cb-4a01-a33a-509097aafefe",
    "deepnote_cell_type": "markdown"
   }
  },
  {
   "cell_type": "code",
   "metadata": {
    "cell_id": "00060-4b7b8c5b-a23c-478c-b832-b2298102630c",
    "deepnote_to_be_reexecuted": true,
    "source_hash": "bb7c06f",
    "execution_start": 1642776407258,
    "execution_millis": 277,
    "deepnote_output_heights": [
     264
    ],
    "deepnote_cell_type": "code"
   },
   "source": "plot_coordinates(y_predicted_blind)",
   "outputs": [
    {
     "data": {
      "text/plain": "<Figure size 432x288 with 1 Axes>",
      "image/png": "[encoded data removed]"
     },
     "metadata": {
      "needs_background": "light",
      "image/png": {
       "width": 391,
       "height": 262
      }
     },
     "output_type": "display_data"
    }
   ],
   "execution_count": null
  },
  {
   "cell_type": "markdown",
   "source": "## Ensemble ",
   "metadata": {
    "cell_id": "00061-f9c12825-4760-4fa8-9503-344e8dc69ac7",
    "deepnote_cell_type": "markdown"
   }
  },
  {
   "cell_type": "markdown",
   "source": "Then we try the voting method using the 10 best models from the randomized search. ",
   "metadata": {
    "cell_id": "00062-bea0ce65-8d41-4647-af65-b4a9fd2eb765",
    "deepnote_cell_type": "markdown"
   }
  },
  {
   "cell_type": "code",
   "metadata": {
    "cell_id": "00064-8934738e-da2d-40b8-b677-92de7961a24d",
    "deepnote_to_be_reexecuted": true,
    "source_hash": "b623e53d",
    "execution_start": 1642776593969,
    "execution_millis": 152,
    "deepnote_cell_type": "code"
   },
   "source": "",
   "outputs": [],
   "execution_count": null
  },
  {
   "cell_type": "code",
   "metadata": {
    "cell_id": "00066-80b92a7e-5188-4109-93a9-70003cfa8bd0",
    "deepnote_to_be_reexecuted": true,
    "source_hash": "95a565ab",
    "deepnote_output_heights": [
     264
    ],
    "execution_start": 1642776594178,
    "execution_millis": 277,
    "deepnote_cell_type": "code"
   },
   "source": "y_predicted = pd.DataFrame(data=y_pred_voting_ens_internal_test, columns=[\"x\", \"y\"])\ntrue_y = pd.DataFrame(data=y_test, columns=[\"x\", \"y\"])\nplt.scatter(true_y['x'], true_y['y'], c='r', marker='*')\nplt.xlabel(\"x\")\nplt.ylabel(\"y\")\nplt.scatter(y_predicted['x'], y_predicted['y'], c='#1f77b4');",
   "outputs": [
    {
     "data": {
      "text/plain": "<Figure size 432x288 with 1 Axes>",
      "image/png": "[encoded data removed]"
     },
     "metadata": {
      "needs_background": "light",
      "image/png": {
       "width": 391,
       "height": 262
      }
     },
     "output_type": "display_data"
    }
   ],
   "execution_count": null
  },
  {
   "cell_type": "code",
   "metadata": {
    "cell_id": "00067-5be1d384-64d6-4b7d-97cf-6bae4fc00ce5",
    "deepnote_to_be_reexecuted": true,
    "source_hash": "95a565ab",
    "deepnote_output_heights": [
     264
    ],
    "execution_start": 1642776594456,
    "execution_millis": 317,
    "deepnote_cell_type": "code"
   },
   "source": "y_predicted = pd.DataFrame(data=y_pred_voting_ens_internal_test, columns=[\"x\", \"y\"])\ntrue_y = pd.DataFrame(data=y_test, columns=[\"x\", \"y\"])\nplt.scatter(true_y['x'], true_y['y'], c='r', marker='*')\nplt.xlabel(\"x\")\nplt.ylabel(\"y\")\nplt.scatter(y_predicted['x'], y_predicted['y'], c='#1f77b4');",
   "outputs": [
    {
     "data": {
      "text/plain": "<Figure size 432x288 with 1 Axes>",
      "image/png": "[encoded data removed]"
     },
     "metadata": {
      "needs_background": "light",
      "image/png": {
       "width": 391,
       "height": 262
      }
     },
     "output_type": "display_data"
    }
   ],
   "execution_count": null
  },
  {
   "cell_type": "code",
   "metadata": {
    "cell_id": "00068-9d10c589-93de-4ab9-a464-4dbed4aa3a3c",
    "deepnote_to_be_reexecuted": true,
    "source_hash": "15d71ae0",
    "deepnote_output_heights": [
     264
    ],
    "execution_start": 1642776594749,
    "execution_millis": 265,
    "deepnote_cell_type": "code"
   },
   "source": "y_predicted = pd.DataFrame(data=y_pred_voting_ens_blind_test, columns=[\"x\", \"y\"])\nplt.xlabel(\"x\")\nplt.ylabel(\"y\")\nplt.scatter(y_predicted['x'], y_predicted['y'], c='#1f77b4');",
   "outputs": [
    {
     "data": {
      "text/plain": "<Figure size 432x288 with 1 Axes>",
      "image/png": "[encoded data removed]"
     },
     "metadata": {
      "needs_background": "light",
      "image/png": {
       "width": 391,
       "height": 262
      }
     },
     "output_type": "display_data"
    }
   ],
   "execution_count": null
  },
  {
   "cell_type": "markdown",
   "source": "<a style='text-decoration:none;line-height:16px;display:flex;color:#5B5B62;padding:10px;justify-content:end;' href='https://deepnote.com?utm_source=created-in-deepnote-cell&projectId=d9d840c9-75b3-4185-bb01-105f5cca8d83' target=\"_blank\">\n<img alt='Created in deepnote.com' style='display:inline;max-height:16px;margin:0px;margin-right:7.5px;' src='data:image/svg+xml;base64,PD94bWwgdmVyc2lvbj0iMS4wIiBlbmNvZGluZz0iVVRGLTgiPz4KPHN2ZyB3aWR0aD0iODBweCIgaGVpZ2h0PSI4MHB4IiB2aWV3Qm94PSIwIDAgODAgODAiIHZlcnNpb249IjEuMSIgeG1sbnM9Imh0dHA6Ly93d3cudzMub3JnLzIwMDAvc3ZnIiB4bWxuczp4bGluaz0iaHR0cDovL3d3dy53My5vcmcvMTk5OS94bGluayI+CiAgICA8IS0tIEdlbmVyYXRvcjogU2tldGNoIDU0LjEgKDc2NDkwKSAtIGh0dHBzOi8vc2tldGNoYXBwLmNvbSAtLT4KICAgIDx0aXRsZT5Hcm91cCAzPC90aXRsZT4KICAgIDxkZXNjPkNyZWF0ZWQgd2l0aCBTa2V0Y2guPC9kZXNjPgogICAgPGcgaWQ9IkxhbmRpbmciIHN0cm9rZT0ibm9uZSIgc3Ryb2tlLXdpZHRoPSIxIiBmaWxsPSJub25lIiBmaWxsLXJ1bGU9ImV2ZW5vZGQiPgogICAgICAgIDxnIGlkPSJBcnRib2FyZCIgdHJhbnNmb3JtPSJ0cmFuc2xhdGUoLTEyMzUuMDAwMDAwLCAtNzkuMDAwMDAwKSI+CiAgICAgICAgICAgIDxnIGlkPSJHcm91cC0zIiB0cmFuc2Zvcm09InRyYW5zbGF0ZSgxMjM1LjAwMDAwMCwgNzkuMDAwMDAwKSI+CiAgICAgICAgICAgICAgICA8cG9seWdvbiBpZD0iUGF0aC0yMCIgZmlsbD0iIzAyNjVCNCIgcG9pbnRzPSIyLjM3NjIzNzYyIDgwIDM4LjA0NzY2NjcgODAgNTcuODIxNzgyMiA3My44MDU3NTkyIDU3LjgyMTc4MjIgMzIuNzU5MjczOSAzOS4xNDAyMjc4IDMxLjY4MzE2ODMiPjwvcG9seWdvbj4KICAgICAgICAgICAgICAgIDxwYXRoIGQ9Ik0zNS4wMDc3MTgsODAgQzQyLjkwNjIwMDcsNzYuNDU0OTM1OCA0Ny41NjQ5MTY3LDcxLjU0MjI2NzEgNDguOTgzODY2LDY1LjI2MTk5MzkgQzUxLjExMjI4OTksNTUuODQxNTg0MiA0MS42NzcxNzk1LDQ5LjIxMjIyODQgMjUuNjIzOTg0Niw0OS4yMTIyMjg0IEMyNS40ODQ5Mjg5LDQ5LjEyNjg0NDggMjkuODI2MTI5Niw0My4yODM4MjQ4IDM4LjY0NzU4NjksMzEuNjgzMTY4MyBMNzIuODcxMjg3MSwzMi41NTQ0MjUgTDY1LjI4MDk3Myw2Ny42NzYzNDIxIEw1MS4xMTIyODk5LDc3LjM3NjE0NCBMMzUuMDA3NzE4LDgwIFoiIGlkPSJQYXRoLTIyIiBmaWxsPSIjMDAyODY4Ij48L3BhdGg+CiAgICAgICAgICAgICAgICA8cGF0aCBkPSJNMCwzNy43MzA0NDA1IEwyNy4xMTQ1MzcsMC4yNTcxMTE0MzYgQzYyLjM3MTUxMjMsLTEuOTkwNzE3MDEgODAsMTAuNTAwMzkyNyA4MCwzNy43MzA0NDA1IEM4MCw2NC45NjA0ODgyIDY0Ljc3NjUwMzgsNzkuMDUwMzQxNCAzNC4zMjk1MTEzLDgwIEM0Ny4wNTUzNDg5LDc3LjU2NzA4MDggNTMuNDE4MjY3Nyw3MC4zMTM2MTAzIDUzLjQxODI2NzcsNTguMjM5NTg4NSBDNTMuNDE4MjY3Nyw0MC4xMjg1NTU3IDM2LjMwMzk1NDQsMzcuNzMwNDQwNSAyNS4yMjc0MTcsMzcuNzMwNDQwNSBDMTcuODQzMDU4NiwzNy43MzA0NDA1IDkuNDMzOTE5NjYsMzcuNzMwNDQwNSAwLDM3LjczMDQ0MDUgWiIgaWQ9IlBhdGgtMTkiIGZpbGw9IiMzNzkzRUYiPjwvcGF0aD4KICAgICAgICAgICAgPC9nPgogICAgICAgIDwvZz4KICAgIDwvZz4KPC9zdmc+' > </img>\nCreated in <span style='font-weight:600;margin-left:4px;'>Deepnote</span></a>",
   "metadata": {
    "tags": [],
    "created_in_deepnote_cell": true,
    "deepnote_cell_type": "markdown"
   }
  }
 ],
 "nbformat": 4,
 "nbformat_minor": 2,
 "metadata": {
  "deepnote": {
   "is_reactive": false
  },
  "deepnote_execution_queue": [],
  "deepnote_notebook_id": "10b26e99-167c-44c5-82d9-a804fbe3ae77",
  "kernelspec": {
   "display_name": "Python 3",
   "language": "python",
   "name": "python3"
  },
  "language_info": {
   "codemirror_mode": {
    "name": "ipython",
    "version": 3
   },
   "file_extension": ".py",
   "mimetype": "text/x-python",
   "name": "python",
   "nbconvert_exporter": "python",
   "pygments_lexer": "ipython3",
   "version": "3.9.7"
  }
 }
}