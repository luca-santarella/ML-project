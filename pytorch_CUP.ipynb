{
 "cells": [
  {
   "cell_type": "markdown",
   "source": "## PyTorch MLP model",
   "metadata": {
    "cell_id": "481660c9-aa3e-43cd-b6d9-9c8530e3971e",
    "tags": [],
    "deepnote_cell_type": "markdown"
   }
  },
  {
   "cell_type": "markdown",
   "source": "### Importing libraries",
   "metadata": {
    "cell_id": "f112892d-46c1-49f1-aefc-677f76ec0a8d",
    "tags": [],
    "deepnote_cell_type": "markdown"
   }
  },
  {
   "cell_type": "code",
   "metadata": {
    "cell_id": "03113463-b757-457e-8da3-ee58794b33ee",
    "deepnote_output_heights": [
     193.9375
    ],
    "deepnote_to_be_reexecuted": false,
    "execution_millis": 6949,
    "execution_start": 1642976866053,
    "output_cleared": true,
    "source_hash": "59d1bdbb",
    "deepnote_cell_type": "code"
   },
   "source": "import numpy as np\nimport pandas as pd\nimport matplotlib.pyplot as plt\nimport torch\nimport torch.nn as nn\nimport torch.optim as optim\nimport ast\nfrom dataclasses import dataclass\nfrom sklearn.model_selection import train_test_split\nfrom skorch import NeuralNetRegressor\nfrom skorch.callbacks import EarlyStopping\nfrom scipy.stats import uniform\nfrom scipy.stats import randint\nfrom sklearn.model_selection import GridSearchCV\nfrom sklearn.model_selection import RandomizedSearchCV\nfrom sklearn.metrics import make_scorer\nfrom sklearn.metrics import mean_squared_error",
   "outputs": [],
   "execution_count": null
  },
  {
   "cell_type": "markdown",
   "source": "### Loading training set and blind test set",
   "metadata": {
    "cell_id": "fc66c1ca-4617-4dea-9b8e-1a0c4c4dd60a",
    "tags": [],
    "deepnote_cell_type": "markdown"
   }
  },
  {
   "cell_type": "code",
   "metadata": {
    "cell_id": "00001-0d0173a2-0574-4d5b-b9c7-3549eee93b9a",
    "deepnote_to_be_reexecuted": false,
    "execution_millis": 188,
    "execution_start": 1642976873003,
    "output_cleared": true,
    "source_hash": "47b90439",
    "deepnote_cell_type": "code"
   },
   "source": "df_visual = pd.read_csv('./data/ML-CUP21-TR.csv', usecols=[11,12], names=['idx','f1','f2','f3','f4','f5','f6','f7','f8','f9','f10', 'x','y'])\ndf_task_tr = pd.read_csv('./data/ML-CUP21-TR.csv', names=['idx','f1','f2','f3','f4','f5','f6','f7','f8','f9','f10', 'x','y'])\ndf_task_tr = df_task_tr[7:] # remove first 7 rows of comments\ndf_visual = df_visual[7:]\n\ndf_blind_ts = pd.read_csv('./data/ML-CUP21-TS.csv', names=['idx','f1','f2','f3','f4','f5','f6','f7','f8','f9','f10'])\ndf_blind_ts = df_blind_ts[7:]\ndf_blind_ts.drop(labels=\"idx\", axis=1, inplace=True)\nblind_ts = df_blind_ts.values",
   "outputs": [],
   "execution_count": null
  },
  {
   "cell_type": "markdown",
   "source": "### Evaluation metric and tools",
   "metadata": {
    "cell_id": "497b7842-e96b-45c4-8138-fe4682e13837",
    "tags": [],
    "deepnote_cell_type": "markdown"
   }
  },
  {
   "cell_type": "markdown",
   "source": "We define the <b>MEE (Mean Euclidean Error)</b> function which is used to evaluate the mean euclidean distance between two points with x and y coordinates.\nThe function takes in input the true target and the predicted target and yields a floating point number which represents the performance. ",
   "metadata": {
    "cell_id": "6b9bdbc6-8535-4f9d-baf4-04b6ec988111",
    "tags": [],
    "deepnote_cell_type": "markdown"
   }
  },
  {
   "cell_type": "code",
   "metadata": {
    "cell_id": "00002-8e3ce472-ff69-4ea7-97e3-d913b512af40",
    "deepnote_to_be_reexecuted": false,
    "execution_millis": 2,
    "execution_start": 1642976873204,
    "output_cleared": true,
    "source_hash": "3afbb4cb",
    "deepnote_cell_type": "code"
   },
   "source": "def mee(true_target, predicted_target): #assuming target is 2-dim matrix with x and y as columns\n    l = true_target.shape[0]\n    res = 0\n    \n    for p in range(l): #for p-th pattern in l (number of samples)\n        x_diff = np.square(true_target[p,0] - predicted_target[p,0]) #difference between the x value of the true and predicted target\n        y_diff = np.square(true_target[p,1] - predicted_target[p,1]) #difference between the y values of true and predicted target\n        sum_term = x_diff + y_diff\n        res = res + np.sqrt(sum_term)\n    res = res / l\n    \n    #return np.average([np.sqrt(np.square(true_target[p,0] - predicted_target[p,0]) + np.square(true_target[p,1] - predicted_target[p,1])) for p in range(l)]) #compact form\n    return res",
   "outputs": [],
   "execution_count": null
  },
  {
   "cell_type": "code",
   "metadata": {
    "cell_id": "3d5f5d6f-6e80-48d8-af38-ae9a7f8298a8",
    "deepnote_to_be_reexecuted": false,
    "execution_millis": 0,
    "execution_start": 1642976873223,
    "output_cleared": true,
    "source_hash": "a91b8e4",
    "tags": [],
    "deepnote_cell_type": "code"
   },
   "source": "def plot_learning_curves(train_scores, test_scores, epochs, y_label, ax, i):\n    ax.set_title(f\"Model {i+1}\")\n    ax.set_ylabel(y_label)\n    ax.set_xlabel('Epoch');\n    ax.plot(range(0,epochs), train_scores, label = \"Training error\", linestyle='dashed')\n    ax.plot(range(0,epochs), test_scores, label = \"Test error\")\n    ax.legend()\n\n    return ax",
   "outputs": [],
   "execution_count": null
  },
  {
   "cell_type": "code",
   "metadata": {
    "cell_id": "8ed9c9e9-e487-40b5-a777-e0851e7002fd",
    "deepnote_to_be_reexecuted": false,
    "execution_millis": 16,
    "execution_start": 1642976873307,
    "output_cleared": true,
    "source_hash": "dfbb28ea",
    "tags": [],
    "deepnote_cell_type": "code"
   },
   "source": "#trains the model with one iteration (epoch) and computes in output a list of train and test scores using MEE\ndef fit_and_score(epochs, eval_model, X_train, y_train, X_test, y_test):\n    train_scores = []\n    test_scores = []\n    train_loss = []\n    test_loss = []\n    eval_model.initialize()\n    for i in range(epochs):\n        eval_model = eval_model.fit_loop(X_train,y_train,1) #single epoch of the model\n        y_train_predicted = eval_model.predict(X_train)\n        y_test_predicted = eval_model.predict(X_test)\n        #results on train set\n        train_scores.append(mean_squared_error(y_train, y_train_predicted))\n        test_scores.append(mean_squared_error(y_test, y_test_predicted))\n        #result on test set\n        train_loss.append(mee(y_train, y_train_predicted))\n        test_loss.append(mee(y_test, y_test_predicted))\n    return train_scores, test_scores, train_loss, test_loss\n",
   "outputs": [],
   "execution_count": null
  },
  {
   "cell_type": "markdown",
   "source": "## Regression task\n### Preparing the training set",
   "metadata": {
    "cell_id": "24820147-b49a-465d-ba32-7e440e14fede",
    "tags": [],
    "deepnote_cell_type": "markdown"
   }
  },
  {
   "cell_type": "code",
   "metadata": {
    "cell_id": "00004-8e65de00-6683-4b7d-9194-4c8ae030aee6",
    "deepnote_to_be_reexecuted": false,
    "execution_millis": 14,
    "execution_start": 1642976873388,
    "output_cleared": true,
    "source_hash": "192dcf",
    "deepnote_cell_type": "code"
   },
   "source": "df_task_tr.drop(labels=\"idx\", axis=1, inplace=True)",
   "outputs": [],
   "execution_count": null
  },
  {
   "cell_type": "code",
   "metadata": {
    "cell_id": "00005-63853f2c-11dc-4004-9bcb-4e58ba87336d",
    "deepnote_to_be_reexecuted": false,
    "execution_millis": 68,
    "execution_start": 1642976873418,
    "output_cleared": true,
    "source_hash": "adef5ee0",
    "deepnote_cell_type": "code"
   },
   "source": "y = df_task_tr[['x','y']].values\nX = df_task_tr.drop(labels=['x','y'], axis=1).values",
   "outputs": [],
   "execution_count": null
  },
  {
   "cell_type": "code",
   "metadata": {
    "cell_id": "00006-9e7e1d91-18d5-4fca-9cb1-70fc39ee71c5",
    "deepnote_to_be_reexecuted": false,
    "execution_millis": 11,
    "execution_start": 1642976873498,
    "output_cleared": false,
    "source_hash": "473a37ed",
    "deepnote_cell_type": "code"
   },
   "source": "print(X.shape)\nprint(y.shape)",
   "outputs": [
    {
     "name": "stdout",
     "text": "(1477, 10)\n(1477, 2)\n",
     "output_type": "stream"
    }
   ],
   "execution_count": null
  },
  {
   "cell_type": "code",
   "metadata": {
    "cell_id": "00007-15a9d6de-0760-442e-896a-cd43db4adcfb",
    "deepnote_to_be_reexecuted": false,
    "execution_millis": 1,
    "execution_start": 1642976873510,
    "output_cleared": true,
    "source_hash": "596ccc7b",
    "deepnote_cell_type": "code"
   },
   "source": "RS_NUMBER = 69",
   "outputs": [],
   "execution_count": null
  },
  {
   "cell_type": "markdown",
   "source": "### Splitting the dataset\nWe split the data set obtaining an internal test set (10% of the total dataset), we will use this internal test at the end to test internally the generalization error.",
   "metadata": {
    "cell_id": "8c07f6fa-778e-4ef8-93eb-7f5f8a724454",
    "tags": [],
    "deepnote_cell_type": "markdown"
   }
  },
  {
   "cell_type": "code",
   "metadata": {
    "cell_id": "00008-a49d71c2-f651-41f2-acdc-91530bf94733",
    "deepnote_to_be_reexecuted": false,
    "execution_millis": 28,
    "execution_start": 1642976873511,
    "output_cleared": false,
    "source_hash": "5df0a49",
    "deepnote_cell_type": "code"
   },
   "source": "X, X_test, y, y_test = train_test_split(X, y, test_size=0.1, random_state=RS_NUMBER)\n\nprint(f\"X train shape: {X.shape}\")\nprint(f\"X validation shape: {X_test.shape}\")\nprint(f\"y train shape: {y.shape}\")\nprint(f\"y validation shape: {y_test.shape}\")",
   "outputs": [
    {
     "name": "stdout",
     "text": "X train shape: (1329, 10)\nX validation shape: (148, 10)\ny train shape: (1329, 2)\ny validation shape: (148, 2)\n",
     "output_type": "stream"
    }
   ],
   "execution_count": null
  },
  {
   "cell_type": "markdown",
   "source": "### Define the module for the neural network\nWe define a Module for PyTorch, which takes as input the number of units, activation function (sigmoid, relu or tanh) and the number of hidden layers (can be either one or two). The model architecture is the simplest one of a MLP, one or two linear layers and the activation function.  ",
   "metadata": {
    "cell_id": "e8ffe47f-13c3-438c-a625-a1f900c09da9",
    "tags": [],
    "deepnote_cell_type": "markdown"
   }
  },
  {
   "cell_type": "code",
   "metadata": {
    "cell_id": "00009-9b91a60c-1771-44b7-85d3-4179fd2a3044",
    "deepnote_to_be_reexecuted": false,
    "execution_millis": 12,
    "execution_start": 1642976873589,
    "output_cleared": true,
    "source_hash": "f35c2b20",
    "deepnote_cell_type": "code"
   },
   "source": "class MyModule(nn.Module):\n    def __init__(self, num_units, activation_fun, hidden_layers):\n        super(MyModule, self).__init__()\n        \n        if(activation_fun == \"sigmoid\"):\n            activation_fun = nn.Sigmoid()\n        elif activation_fun == \"relu\":\n            activation_fun = nn.ReLU()\n        elif activation_fun == \"tanh\":\n            activation_fun = nn.Tanh()\n            \n        if hidden_layers == 2:\n            self.linear_stack = nn.Sequential(\n                nn.Linear(10, num_units),\n                activation_fun,\n                nn.Linear(num_units, num_units),\n                activation_fun,\n                nn.Linear(num_units, 2),\n            )\n        elif hidden_layers == 1:\n            self.linear_stack = nn.Sequential(\n                nn.Linear(10, num_units),\n                activation_fun,\n                nn.Linear(num_units, 2),\n            )     \n    def forward(self, x):\n        X = self.linear_stack(x)\n        return X\n    \n    def predict(self, x):\n        X = self.linear_stack(x)\n        return X",
   "outputs": [],
   "execution_count": null
  },
  {
   "cell_type": "markdown",
   "source": "We define the device where the computation is going to happen (in our case the CPU) and we print a model example with a single hidden layer with 100 hidden units and the sigmoid activation function.  ",
   "metadata": {
    "cell_id": "fed8b698-64f4-4cba-86a1-148e8dad61b9",
    "tags": [],
    "deepnote_cell_type": "markdown"
   }
  },
  {
   "cell_type": "code",
   "metadata": {
    "cell_id": "00010-e23cd2eb-f4f5-4c0c-b985-96731b3e5f4b",
    "deepnote_to_be_reexecuted": false,
    "execution_millis": 81,
    "execution_start": 1642976873612,
    "output_cleared": false,
    "source_hash": "c16924d5",
    "deepnote_cell_type": "code"
   },
   "source": "device = torch.device(\"cuda:0\" if torch.cuda.is_available() else \"cpu\")\n\nexample = MyModule(num_units=100, activation_fun = \"sigmoid\", hidden_layers = 1).to(device)\nprint(example)",
   "outputs": [
    {
     "name": "stdout",
     "text": "MyModule(\n  (linear_stack): Sequential(\n    (0): Linear(in_features=10, out_features=100, bias=True)\n    (1): Sigmoid()\n    (2): Linear(in_features=100, out_features=2, bias=True)\n  )\n)\n",
     "output_type": "stream"
    }
   ],
   "execution_count": null
  },
  {
   "cell_type": "markdown",
   "source": "Pytorch is used with skorch which is a wrapper for the framework, the goal of skorch is to make it possible to use PyTorch with sklearn. This will allow us to use the randomized search of sklearn, the NeuralNetRegressor takes the module defined before as input and a callback for the early stopping criteria.",
   "metadata": {
    "cell_id": "768ce6ef-5e96-4e6a-b2a9-c0441ca3f4b3",
    "tags": [],
    "deepnote_cell_type": "markdown"
   }
  },
  {
   "cell_type": "code",
   "metadata": {
    "cell_id": "6c048a6a-5e04-4b81-9e55-9fab9d68d60e",
    "deepnote_to_be_reexecuted": false,
    "execution_millis": 4038376,
    "execution_start": 1642976873713,
    "output_cleared": true,
    "source_hash": "8dccc88b",
    "tags": [],
    "deepnote_cell_type": "code"
   },
   "source": "PATIENCE=20\nTHRESHOLD=0.005",
   "outputs": [],
   "execution_count": null
  },
  {
   "cell_type": "code",
   "metadata": {
    "cell_id": "00011-ee26a323-33fd-498d-a315-3a23538a0cf1",
    "deepnote_to_be_reexecuted": false,
    "execution_millis": 1,
    "execution_start": 1642976873713,
    "output_cleared": true,
    "source_hash": "38ded2f6",
    "deepnote_cell_type": "code"
   },
   "source": "model = NeuralNetRegressor(\n    module = MyModule,\n    callbacks=[('early_stoppping', EarlyStopping(monitor='valid_loss', patience=PATIENCE, threshold=THRESHOLD))],\n)",
   "outputs": [],
   "execution_count": null
  },
  {
   "cell_type": "code",
   "metadata": {
    "cell_id": "00012-2fe8f0fe-1ea1-4887-9b7f-061aea6b93a6",
    "deepnote_to_be_reexecuted": false,
    "execution_millis": 1,
    "execution_start": 1642976873727,
    "output_cleared": true,
    "source_hash": "1b127074",
    "deepnote_cell_type": "code"
   },
   "source": "# define the number of iterations\nn_iter_search = 1000\n# define number of k-folds\nk = 10",
   "outputs": [],
   "execution_count": null
  },
  {
   "cell_type": "code",
   "metadata": {
    "cell_id": "00013-9807bc36-9a23-4057-a810-b1a8d5997908",
    "deepnote_to_be_reexecuted": false,
    "execution_millis": 1,
    "execution_start": 1642976873800,
    "output_cleared": true,
    "source_hash": "b0b719f7",
    "deepnote_cell_type": "code"
   },
   "source": "X = X.astype(np.float32)\ny = y.astype(np.float32)\nX_test = X_test.astype(np.float32)\ny_test = y_test.astype(np.float32)\nblind_ts = blind_ts.astype(np.float32)\n",
   "outputs": [],
   "execution_count": null
  },
  {
   "cell_type": "markdown",
   "source": "### Randomized Search",
   "metadata": {
    "cell_id": "7148d14e-f05f-45d9-b2a8-8479b2415809",
    "tags": [],
    "deepnote_cell_type": "markdown"
   }
  },
  {
   "cell_type": "code",
   "metadata": {
    "cell_id": "00014-f29742e9-defa-4ead-9f7b-1875566e484a",
    "deepnote_output_heights": [
     null,
     309.109375
    ],
    "deepnote_to_be_reexecuted": false,
    "execution_millis": 94,
    "execution_start": 1642976873813,
    "output_cleared": false,
    "source_hash": "cfe4ca54",
    "deepnote_cell_type": "code"
   },
   "source": "%%time\n\n%%script false --no-raise-error \n\n# to find the best set of parameter setting, we can run a randomized search\n\n# define the parameters' values\nparams = {\n    'lr': uniform(0.001, 0.5),\n    'max_epochs': [1000], #upper bound of max number of epochs\n    'optimizer': [torch.optim.SGD],\n    'optimizer__momentum': [0.8, 0.85, 0.9], ##optimizer__ indicates that it is a parameter of the optimizer\n    'optimizer__weight_decay': uniform(0.0001, 0.2),\n    'optimizer__nesterov': [False, True],\n    'module__num_units': [10, 25, 50, 75, 100], #module__ indicates that it is a parameter of the module\n    'module__hidden_layers': [1,2],\n    'module__activation_fun': [\"sigmoid\", \"tanh\", \"relu\"],\n    'batch_size': randint(1, X.shape[0]),\n}\n\n# define the grid search\nrand_gs = RandomizedSearchCV(\n    model,\n    param_distributions=params,\n    n_iter=n_iter_search,\n    n_jobs=-1,\n    scoring=make_scorer(mee), \n    cv=k,\n    random_state=RS_NUMBER,\n    verbose=10\n)\n# run the grid search\nrand_gs.fit(X, y)\n",
   "outputs": [
    {
     "name": "stdout",
     "text": "CPU times: user 3.77 ms, sys: 8.18 ms, total: 12 ms\nWall time: 92.4 ms\n",
     "output_type": "stream"
    }
   ],
   "execution_count": null
  },
  {
   "cell_type": "code",
   "metadata": {
    "cell_id": "00015-c3740584-1ba9-4476-8b79-bfb9a96d2f51",
    "deepnote_to_be_reexecuted": false,
    "execution_millis": 21,
    "execution_start": 1642976873922,
    "output_cleared": true,
    "source_hash": "f2b24f7f",
    "deepnote_cell_type": "code"
   },
   "source": "%%script false --no-raise-error\n\ndf_results = pd.DataFrame(data=rand_gs.cv_results_) #trasform into a pandas dataframe\ndf_results.sort_values(by=\"rank_test_score\", axis=0, ascending=False, inplace=True) #sort rank values in decreasing order \ndf_results.dropna(inplace=True) #delete nan values \ndf_results = df_results[:50] #keep only top 50 models\npd.DataFrame.to_csv(df_results, \"pytorch_results/rand1_search.csv\")",
   "outputs": [],
   "execution_count": null
  },
  {
   "cell_type": "code",
   "metadata": {
    "cell_id": "00016-e7d90d2d-c917-49b9-927c-34cffe186b5a",
    "deepnote_output_heights": [
     208.1875
    ],
    "deepnote_to_be_reexecuted": false,
    "execution_millis": 1618,
    "execution_start": 1642976873994,
    "output_cleared": false,
    "source_hash": "a04bf4d7",
    "deepnote_cell_type": "code"
   },
   "source": "df_results = pd.read_csv(\"pytorch_results/rand1_search.csv\")\ndf_results",
   "outputs": [
    {
     "output_type": "execute_result",
     "execution_count": 20,
     "data": {
      "application/vnd.deepnote.dataframe.v3+json": {
       "column_count": 29,
       "row_count": 50,
       "columns": [
        {
         "name": "Unnamed: 0",
         "dtype": "int64",
         "stats": {
          "unique_count": 50,
          "nan_count": 0,
          "min": "2",
          "max": "924",
          "histogram": [
           {
            "bin_start": 2,
            "bin_end": 94.2,
            "count": 5
           },
           {
            "bin_start": 94.2,
            "bin_end": 186.4,
            "count": 5
           },
           {
            "bin_start": 186.4,
            "bin_end": 278.6,
            "count": 4
           },
           {
            "bin_start": 278.6,
            "bin_end": 370.8,
            "count": 8
           },
           {
            "bin_start": 370.8,
            "bin_end": 463,
            "count": 3
           },
           {
            "bin_start": 463,
            "bin_end": 555.2,
            "count": 2
           },
           {
            "bin_start": 555.2,
            "bin_end": 647.4,
            "count": 3
           },
           {
            "bin_start": 647.4,
            "bin_end": 739.6,
            "count": 9
           },
           {
            "bin_start": 739.6,
            "bin_end": 831.8000000000001,
            "count": 5
           },
           {
            "bin_start": 831.8000000000001,
            "bin_end": 924,
            "count": 6
           }
          ]
         }
        },
        {
         "name": "mean_fit_time",
         "dtype": "float64",
         "stats": {
          "unique_count": 50,
          "nan_count": 0,
          "min": "0.6208413124084473",
          "max": "51.951430559158325",
          "histogram": [
           {
            "bin_start": 0.6208413124084473,
            "bin_end": 5.753900237083435,
            "count": 27
           },
           {
            "bin_start": 5.753900237083435,
            "bin_end": 10.886959161758424,
            "count": 11
           },
           {
            "bin_start": 10.886959161758424,
            "bin_end": 16.020018086433414,
            "count": 4
           },
           {
            "bin_start": 16.020018086433414,
            "bin_end": 21.1530770111084,
            "count": 2
           },
           {
            "bin_start": 21.1530770111084,
            "bin_end": 26.28613593578339,
            "count": 3
           },
           {
            "bin_start": 26.28613593578339,
            "bin_end": 31.41919486045838,
            "count": 1
           },
           {
            "bin_start": 31.41919486045838,
            "bin_end": 36.55225378513336,
            "count": 0
           },
           {
            "bin_start": 36.55225378513336,
            "bin_end": 41.68531270980835,
            "count": 0
           },
           {
            "bin_start": 41.68531270980835,
            "bin_end": 46.81837163448334,
            "count": 1
           },
           {
            "bin_start": 46.81837163448334,
            "bin_end": 51.951430559158325,
            "count": 1
           }
          ]
         }
        },
        {
         "name": "std_fit_time",
         "dtype": "float64",
         "stats": {
          "unique_count": 50,
          "nan_count": 0,
          "min": "0.0892667771846391",
          "max": "7.562157115726837",
          "histogram": [
           {
            "bin_start": 0.0892667771846391,
            "bin_end": 0.8365558110388589,
            "count": 18
           },
           {
            "bin_start": 0.8365558110388589,
            "bin_end": 1.5838448448930789,
            "count": 16
           },
           {
            "bin_start": 1.5838448448930789,
            "bin_end": 2.331133878747299,
            "count": 4
           },
           {
            "bin_start": 2.331133878747299,
            "bin_end": 3.0784229126015186,
            "count": 5
           },
           {
            "bin_start": 3.0784229126015186,
            "bin_end": 3.8257119464557383,
            "count": 3
           },
           {
            "bin_start": 3.8257119464557383,
            "bin_end": 4.573000980309958,
            "count": 1
           },
           {
            "bin_start": 4.573000980309958,
            "bin_end": 5.320290014164177,
            "count": 2
           },
           {
            "bin_start": 5.320290014164177,
            "bin_end": 6.0675790480183975,
            "count": 0
           },
           {
            "bin_start": 6.0675790480183975,
            "bin_end": 6.814868081872618,
            "count": 0
           },
           {
            "bin_start": 6.814868081872618,
            "bin_end": 7.562157115726837,
            "count": 1
           }
          ]
         }
        },
        {
         "name": "mean_score_time",
         "dtype": "float64",
         "stats": {
          "unique_count": 50,
          "nan_count": 0,
          "min": "0.0028297662734985",
          "max": "0.0172684669494628",
          "histogram": [
           {
            "bin_start": 0.0028297662734985,
            "bin_end": 0.00427363634109493,
            "count": 8
           },
           {
            "bin_start": 0.00427363634109493,
            "bin_end": 0.00571750640869136,
            "count": 2
           },
           {
            "bin_start": 0.00571750640869136,
            "bin_end": 0.00716137647628779,
            "count": 7
           },
           {
            "bin_start": 0.00716137647628779,
            "bin_end": 0.00860524654388422,
            "count": 9
           },
           {
            "bin_start": 0.00860524654388422,
            "bin_end": 0.010049116611480651,
            "count": 6
           },
           {
            "bin_start": 0.010049116611480651,
            "bin_end": 0.01149298667907708,
            "count": 8
           },
           {
            "bin_start": 0.01149298667907708,
            "bin_end": 0.012936856746673511,
            "count": 7
           },
           {
            "bin_start": 0.012936856746673511,
            "bin_end": 0.01438072681426994,
            "count": 2
           },
           {
            "bin_start": 0.01438072681426994,
            "bin_end": 0.01582459688186637,
            "count": 0
           },
           {
            "bin_start": 0.01582459688186637,
            "bin_end": 0.0172684669494628,
            "count": 1
           }
          ]
         }
        },
        {
         "name": "std_score_time",
         "dtype": "float64",
         "stats": {
          "unique_count": 50,
          "nan_count": 0,
          "min": "0.00019422966618",
          "max": "0.0139090934088696",
          "histogram": [
           {
            "bin_start": 0.00019422966618,
            "bin_end": 0.00156571604044896,
            "count": 8
           },
           {
            "bin_start": 0.00156571604044896,
            "bin_end": 0.0029372024147179196,
            "count": 1
           },
           {
            "bin_start": 0.0029372024147179196,
            "bin_end": 0.00430868878898688,
            "count": 5
           },
           {
            "bin_start": 0.00430868878898688,
            "bin_end": 0.005680175163255839,
            "count": 8
           },
           {
            "bin_start": 0.005680175163255839,
            "bin_end": 0.007051661537524799,
            "count": 10
           },
           {
            "bin_start": 0.007051661537524799,
            "bin_end": 0.008423147911793761,
            "count": 10
           },
           {
            "bin_start": 0.008423147911793761,
            "bin_end": 0.00979463428606272,
            "count": 4
           },
           {
            "bin_start": 0.00979463428606272,
            "bin_end": 0.01116612066033168,
            "count": 1
           },
           {
            "bin_start": 0.01116612066033168,
            "bin_end": 0.01253760703460064,
            "count": 2
           },
           {
            "bin_start": 0.01253760703460064,
            "bin_end": 0.0139090934088696,
            "count": 1
           }
          ]
         }
        },
        {
         "name": "param_batch_size",
         "dtype": "int64",
         "stats": {
          "unique_count": 49,
          "nan_count": 0,
          "min": "108",
          "max": "1297",
          "histogram": [
           {
            "bin_start": 108,
            "bin_end": 226.9,
            "count": 4
           },
           {
            "bin_start": 226.9,
            "bin_end": 345.8,
            "count": 6
           },
           {
            "bin_start": 345.8,
            "bin_end": 464.70000000000005,
            "count": 2
           },
           {
            "bin_start": 464.70000000000005,
            "bin_end": 583.6,
            "count": 9
           },
           {
            "bin_start": 583.6,
            "bin_end": 702.5,
            "count": 6
           },
           {
            "bin_start": 702.5,
            "bin_end": 821.4000000000001,
            "count": 8
           },
           {
            "bin_start": 821.4000000000001,
            "bin_end": 940.3000000000001,
            "count": 5
           },
           {
            "bin_start": 940.3000000000001,
            "bin_end": 1059.2,
            "count": 3
           },
           {
            "bin_start": 1059.2,
            "bin_end": 1178.1000000000001,
            "count": 4
           },
           {
            "bin_start": 1178.1000000000001,
            "bin_end": 1297,
            "count": 3
           }
          ]
         }
        },
        {
         "name": "param_lr",
         "dtype": "float64",
         "stats": {
          "unique_count": 50,
          "nan_count": 0,
          "min": "0.0033031286950983",
          "max": "0.2465512807408912",
          "histogram": [
           {
            "bin_start": 0.0033031286950983,
            "bin_end": 0.02762794389967759,
            "count": 22
           },
           {
            "bin_start": 0.02762794389967759,
            "bin_end": 0.05195275910425688,
            "count": 7
           },
           {
            "bin_start": 0.05195275910425688,
            "bin_end": 0.07627757430883617,
            "count": 7
           },
           {
            "bin_start": 0.07627757430883617,
            "bin_end": 0.10060238951341546,
            "count": 1
           },
           {
            "bin_start": 0.10060238951341546,
            "bin_end": 0.12492720471799476,
            "count": 5
           },
           {
            "bin_start": 0.12492720471799476,
            "bin_end": 0.14925201992257403,
            "count": 2
           },
           {
            "bin_start": 0.14925201992257403,
            "bin_end": 0.17357683512715333,
            "count": 0
           },
           {
            "bin_start": 0.17357683512715333,
            "bin_end": 0.19790165033173263,
            "count": 2
           },
           {
            "bin_start": 0.19790165033173263,
            "bin_end": 0.22222646553631192,
            "count": 0
           },
           {
            "bin_start": 0.22222646553631192,
            "bin_end": 0.2465512807408912,
            "count": 4
           }
          ]
         }
        },
        {
         "name": "param_max_epochs",
         "dtype": "int64",
         "stats": {
          "unique_count": 1,
          "nan_count": 0,
          "min": "1000",
          "max": "1000",
          "histogram": [
           {
            "bin_start": 999.5,
            "bin_end": 999.6,
            "count": 0
           },
           {
            "bin_start": 999.6,
            "bin_end": 999.7,
            "count": 0
           },
           {
            "bin_start": 999.7,
            "bin_end": 999.8,
            "count": 0
           },
           {
            "bin_start": 999.8,
            "bin_end": 999.9,
            "count": 0
           },
           {
            "bin_start": 999.9,
            "bin_end": 1000,
            "count": 0
           },
           {
            "bin_start": 1000,
            "bin_end": 1000.1,
            "count": 50
           },
           {
            "bin_start": 1000.1,
            "bin_end": 1000.2,
            "count": 0
           },
           {
            "bin_start": 1000.2,
            "bin_end": 1000.3,
            "count": 0
           },
           {
            "bin_start": 1000.3,
            "bin_end": 1000.4,
            "count": 0
           },
           {
            "bin_start": 1000.4,
            "bin_end": 1000.5,
            "count": 0
           }
          ]
         }
        },
        {
         "name": "param_module__activation_fun",
         "dtype": "object",
         "stats": {
          "unique_count": 3,
          "nan_count": 0,
          "categories": [
           {
            "name": "sigmoid",
            "count": 23
           },
           {
            "name": "tanh",
            "count": 18
           },
           {
            "name": "relu",
            "count": 9
           }
          ]
         }
        },
        {
         "name": "param_module__hidden_layers",
         "dtype": "int64",
         "stats": {
          "unique_count": 2,
          "nan_count": 0,
          "min": "1",
          "max": "2",
          "histogram": [
           {
            "bin_start": 1,
            "bin_end": 1.1,
            "count": 34
           },
           {
            "bin_start": 1.1,
            "bin_end": 1.2,
            "count": 0
           },
           {
            "bin_start": 1.2,
            "bin_end": 1.3,
            "count": 0
           },
           {
            "bin_start": 1.3,
            "bin_end": 1.4,
            "count": 0
           },
           {
            "bin_start": 1.4,
            "bin_end": 1.5,
            "count": 0
           },
           {
            "bin_start": 1.5,
            "bin_end": 1.6,
            "count": 0
           },
           {
            "bin_start": 1.6,
            "bin_end": 1.7000000000000002,
            "count": 0
           },
           {
            "bin_start": 1.7000000000000002,
            "bin_end": 1.8,
            "count": 0
           },
           {
            "bin_start": 1.8,
            "bin_end": 1.9,
            "count": 0
           },
           {
            "bin_start": 1.9,
            "bin_end": 2,
            "count": 16
           }
          ]
         }
        },
        {
         "name": "param_module__num_units",
         "dtype": "int64",
         "stats": {
          "unique_count": 5,
          "nan_count": 0,
          "min": "10",
          "max": "100",
          "histogram": [
           {
            "bin_start": 10,
            "bin_end": 19,
            "count": 18
           },
           {
            "bin_start": 19,
            "bin_end": 28,
            "count": 11
           },
           {
            "bin_start": 28,
            "bin_end": 37,
            "count": 0
           },
           {
            "bin_start": 37,
            "bin_end": 46,
            "count": 0
           },
           {
            "bin_start": 46,
            "bin_end": 55,
            "count": 7
           },
           {
            "bin_start": 55,
            "bin_end": 64,
            "count": 0
           },
           {
            "bin_start": 64,
            "bin_end": 73,
            "count": 0
           },
           {
            "bin_start": 73,
            "bin_end": 82,
            "count": 10
           },
           {
            "bin_start": 82,
            "bin_end": 91,
            "count": 0
           },
           {
            "bin_start": 91,
            "bin_end": 100,
            "count": 4
           }
          ]
         }
        },
        {
         "name": "param_optimizer",
         "dtype": "object",
         "stats": {
          "unique_count": 1,
          "nan_count": 0,
          "categories": [
           {
            "name": "<class 'torch.optim.sgd.SGD'>",
            "count": 50
           }
          ]
         }
        },
        {
         "name": "param_optimizer__momentum",
         "dtype": "float64",
         "stats": {
          "unique_count": 3,
          "nan_count": 0,
          "min": "0.8",
          "max": "0.9",
          "histogram": [
           {
            "bin_start": 0.8,
            "bin_end": 0.81,
            "count": 21
           },
           {
            "bin_start": 0.81,
            "bin_end": 0.8200000000000001,
            "count": 0
           },
           {
            "bin_start": 0.8200000000000001,
            "bin_end": 0.8300000000000001,
            "count": 0
           },
           {
            "bin_start": 0.8300000000000001,
            "bin_end": 0.8400000000000001,
            "count": 0
           },
           {
            "bin_start": 0.8400000000000001,
            "bin_end": 0.8500000000000001,
            "count": 15
           },
           {
            "bin_start": 0.8500000000000001,
            "bin_end": 0.86,
            "count": 0
           },
           {
            "bin_start": 0.86,
            "bin_end": 0.87,
            "count": 0
           },
           {
            "bin_start": 0.87,
            "bin_end": 0.88,
            "count": 0
           },
           {
            "bin_start": 0.88,
            "bin_end": 0.89,
            "count": 0
           },
           {
            "bin_start": 0.89,
            "bin_end": 0.9,
            "count": 14
           }
          ]
         }
        },
        {
         "name": "param_optimizer__nesterov",
         "dtype": "bool",
         "stats": {
          "unique_count": 2,
          "nan_count": 0,
          "categories": [
           {
            "name": "False",
            "count": 34
           },
           {
            "name": "True",
            "count": 16
           }
          ]
         }
        },
        {
         "name": "param_optimizer__weight_decay",
         "dtype": "float64",
         "stats": {
          "unique_count": 50,
          "nan_count": 0,
          "min": "0.00164830663635",
          "max": "0.1779256315307817",
          "histogram": [
           {
            "bin_start": 0.00164830663635,
            "bin_end": 0.01927603912579317,
            "count": 14
           },
           {
            "bin_start": 0.01927603912579317,
            "bin_end": 0.03690377161523634,
            "count": 16
           },
           {
            "bin_start": 0.03690377161523634,
            "bin_end": 0.05453150410467951,
            "count": 7
           },
           {
            "bin_start": 0.05453150410467951,
            "bin_end": 0.07215923659412268,
            "count": 5
           },
           {
            "bin_start": 0.07215923659412268,
            "bin_end": 0.08978696908356586,
            "count": 2
           },
           {
            "bin_start": 0.08978696908356586,
            "bin_end": 0.10741470157300902,
            "count": 2
           },
           {
            "bin_start": 0.10741470157300902,
            "bin_end": 0.1250424340624522,
            "count": 2
           },
           {
            "bin_start": 0.1250424340624522,
            "bin_end": 0.14267016655189535,
            "count": 1
           },
           {
            "bin_start": 0.14267016655189535,
            "bin_end": 0.1602978990413385,
            "count": 0
           },
           {
            "bin_start": 0.1602978990413385,
            "bin_end": 0.1779256315307817,
            "count": 1
           }
          ]
         }
        },
        {
         "name": "params",
         "dtype": "object",
         "stats": {
          "unique_count": 50,
          "nan_count": 0,
          "categories": [
           {
            "name": "{'batch_size': 733, 'lr': 0.13831117287440775, 'max_epochs': 1000, 'module__activation_fun': 'sigmoid', 'module__hidden_layers': 1, 'module__num_units': 10, 'optimizer': <class 'torch.optim.sgd.SGD'>, 'optimizer__momentum': 0.8, 'optimizer__nesterov': False, 'optimizer__weight_decay': 0.006135549440395483}",
            "count": 1
           },
           {
            "name": "{'batch_size': 502, 'lr': 0.11874706229459747, 'max_epochs': 1000, 'module__activation_fun': 'tanh', 'module__hidden_layers': 1, 'module__num_units': 10, 'optimizer': <class 'torch.optim.sgd.SGD'>, 'optimizer__momentum': 0.9, 'optimizer__nesterov': False, 'optimizer__weight_decay': 0.010681393425772446}",
            "count": 1
           },
           {
            "name": "48 others",
            "count": 48
           }
          ]
         }
        },
        {
         "name": "split0_test_score",
         "dtype": "float64",
         "stats": {
          "unique_count": 50,
          "nan_count": 0,
          "min": "1.123199137193816",
          "max": "1.9594232708607848",
          "histogram": [
           {
            "bin_start": 1.123199137193816,
            "bin_end": 1.2068215505605129,
            "count": 8
           },
           {
            "bin_start": 1.2068215505605129,
            "bin_end": 1.2904439639272096,
            "count": 9
           },
           {
            "bin_start": 1.2904439639272096,
            "bin_end": 1.3740663772939066,
            "count": 18
           },
           {
            "bin_start": 1.3740663772939066,
            "bin_end": 1.4576887906606035,
            "count": 9
           },
           {
            "bin_start": 1.4576887906606035,
            "bin_end": 1.5413112040273003,
            "count": 4
           },
           {
            "bin_start": 1.5413112040273003,
            "bin_end": 1.6249336173939972,
            "count": 1
           },
           {
            "bin_start": 1.6249336173939972,
            "bin_end": 1.7085560307606942,
            "count": 0
           },
           {
            "bin_start": 1.7085560307606942,
            "bin_end": 1.7921784441273911,
            "count": 0
           },
           {
            "bin_start": 1.7921784441273911,
            "bin_end": 1.8758008574940879,
            "count": 0
           },
           {
            "bin_start": 1.8758008574940879,
            "bin_end": 1.9594232708607848,
            "count": 1
           }
          ]
         }
        },
        {
         "name": "split1_test_score",
         "dtype": "float64",
         "stats": {
          "unique_count": 50,
          "nan_count": 0,
          "min": "1.1032331851976258",
          "max": "1.8247293038923935",
          "histogram": [
           {
            "bin_start": 1.1032331851976258,
            "bin_end": 1.1753827970671025,
            "count": 8
           },
           {
            "bin_start": 1.1753827970671025,
            "bin_end": 1.2475324089365794,
            "count": 7
           },
           {
            "bin_start": 1.2475324089365794,
            "bin_end": 1.3196820208060562,
            "count": 9
           },
           {
            "bin_start": 1.3196820208060562,
            "bin_end": 1.391831632675533,
            "count": 13
           },
           {
            "bin_start": 1.391831632675533,
            "bin_end": 1.4639812445450096,
            "count": 7
           },
           {
            "bin_start": 1.4639812445450096,
            "bin_end": 1.5361308564144864,
            "count": 5
           },
           {
            "bin_start": 1.5361308564144864,
            "bin_end": 1.6082804682839633,
            "count": 0
           },
           {
            "bin_start": 1.6082804682839633,
            "bin_end": 1.68043008015344,
            "count": 0
           },
           {
            "bin_start": 1.68043008015344,
            "bin_end": 1.7525796920229166,
            "count": 0
           },
           {
            "bin_start": 1.7525796920229166,
            "bin_end": 1.8247293038923935,
            "count": 1
           }
          ]
         }
        },
        {
         "name": "split2_test_score",
         "dtype": "float64",
         "stats": {
          "unique_count": 50,
          "nan_count": 0,
          "min": "1.2233528697064944",
          "max": "1.6429966813639592",
          "histogram": [
           {
            "bin_start": 1.2233528697064944,
            "bin_end": 1.2653172508722408,
            "count": 4
           },
           {
            "bin_start": 1.2653172508722408,
            "bin_end": 1.3072816320379874,
            "count": 1
           },
           {
            "bin_start": 1.3072816320379874,
            "bin_end": 1.3492460132037338,
            "count": 8
           },
           {
            "bin_start": 1.3492460132037338,
            "bin_end": 1.3912103943694802,
            "count": 7
           },
           {
            "bin_start": 1.3912103943694802,
            "bin_end": 1.4331747755352269,
            "count": 8
           },
           {
            "bin_start": 1.4331747755352269,
            "bin_end": 1.4751391567009733,
            "count": 8
           },
           {
            "bin_start": 1.4751391567009733,
            "bin_end": 1.5171035378667197,
            "count": 3
           },
           {
            "bin_start": 1.5171035378667197,
            "bin_end": 1.5590679190324663,
            "count": 7
           },
           {
            "bin_start": 1.5590679190324663,
            "bin_end": 1.6010323001982127,
            "count": 2
           },
           {
            "bin_start": 1.6010323001982127,
            "bin_end": 1.6429966813639592,
            "count": 2
           }
          ]
         }
        },
        {
         "name": "split3_test_score",
         "dtype": "float64",
         "stats": {
          "unique_count": 50,
          "nan_count": 0,
          "min": "1.2500626295804975",
          "max": "1.794775561394548",
          "histogram": [
           {
            "bin_start": 1.2500626295804975,
            "bin_end": 1.3045339227619026,
            "count": 2
           },
           {
            "bin_start": 1.3045339227619026,
            "bin_end": 1.3590052159433077,
            "count": 2
           },
           {
            "bin_start": 1.3590052159433077,
            "bin_end": 1.4134765091247128,
            "count": 5
           },
           {
            "bin_start": 1.4134765091247128,
            "bin_end": 1.4679478023061177,
            "count": 9
           },
           {
            "bin_start": 1.4679478023061177,
            "bin_end": 1.5224190954875227,
            "count": 10
           },
           {
            "bin_start": 1.5224190954875227,
            "bin_end": 1.5768903886689278,
            "count": 6
           },
           {
            "bin_start": 1.5768903886689278,
            "bin_end": 1.631361681850333,
            "count": 6
           },
           {
            "bin_start": 1.631361681850333,
            "bin_end": 1.685832975031738,
            "count": 1
           },
           {
            "bin_start": 1.685832975031738,
            "bin_end": 1.7403042682131429,
            "count": 5
           },
           {
            "bin_start": 1.7403042682131429,
            "bin_end": 1.794775561394548,
            "count": 4
           }
          ]
         }
        },
        {
         "name": "split4_test_score",
         "dtype": "float64",
         "stats": {
          "unique_count": 50,
          "nan_count": 0,
          "min": "1.20442890336639",
          "max": "1.625595455947227",
          "histogram": [
           {
            "bin_start": 1.20442890336639,
            "bin_end": 1.2465455586244736,
            "count": 2
           },
           {
            "bin_start": 1.2465455586244736,
            "bin_end": 1.2886622138825574,
            "count": 3
           },
           {
            "bin_start": 1.2886622138825574,
            "bin_end": 1.330778869140641,
            "count": 5
           },
           {
            "bin_start": 1.330778869140641,
            "bin_end": 1.3728955243987249,
            "count": 4
           },
           {
            "bin_start": 1.3728955243987249,
            "bin_end": 1.4150121796568085,
            "count": 7
           },
           {
            "bin_start": 1.4150121796568085,
            "bin_end": 1.4571288349148923,
            "count": 10
           },
           {
            "bin_start": 1.4571288349148923,
            "bin_end": 1.499245490172976,
            "count": 7
           },
           {
            "bin_start": 1.499245490172976,
            "bin_end": 1.5413621454310595,
            "count": 6
           },
           {
            "bin_start": 1.5413621454310595,
            "bin_end": 1.5834788006891434,
            "count": 3
           },
           {
            "bin_start": 1.5834788006891434,
            "bin_end": 1.625595455947227,
            "count": 3
           }
          ]
         }
        },
        {
         "name": "split5_test_score",
         "dtype": "float64",
         "stats": {
          "unique_count": 50,
          "nan_count": 0,
          "min": "1.2781509115059573",
          "max": "3.642240152771312",
          "histogram": [
           {
            "bin_start": 1.2781509115059573,
            "bin_end": 1.5145598356324927,
            "count": 25
           },
           {
            "bin_start": 1.5145598356324927,
            "bin_end": 1.7509687597590284,
            "count": 23
           },
           {
            "bin_start": 1.7509687597590284,
            "bin_end": 1.987377683885564,
            "count": 0
           },
           {
            "bin_start": 1.987377683885564,
            "bin_end": 2.2237866080120994,
            "count": 1
           },
           {
            "bin_start": 2.2237866080120994,
            "bin_end": 2.460195532138635,
            "count": 0
           },
           {
            "bin_start": 2.460195532138635,
            "bin_end": 2.6966044562651703,
            "count": 0
           },
           {
            "bin_start": 2.6966044562651703,
            "bin_end": 2.933013380391706,
            "count": 0
           },
           {
            "bin_start": 2.933013380391706,
            "bin_end": 3.1694223045182417,
            "count": 0
           },
           {
            "bin_start": 3.1694223045182417,
            "bin_end": 3.405831228644777,
            "count": 0
           },
           {
            "bin_start": 3.405831228644777,
            "bin_end": 3.642240152771312,
            "count": 1
           }
          ]
         }
        },
        {
         "name": "split6_test_score",
         "dtype": "float64",
         "stats": {
          "unique_count": 50,
          "nan_count": 0,
          "min": "1.2042488498627244",
          "max": "2.8564140370913917",
          "histogram": [
           {
            "bin_start": 1.2042488498627244,
            "bin_end": 1.369465368585591,
            "count": 10
           },
           {
            "bin_start": 1.369465368585591,
            "bin_end": 1.5346818873084578,
            "count": 25
           },
           {
            "bin_start": 1.5346818873084578,
            "bin_end": 1.6998984060313247,
            "count": 14
           },
           {
            "bin_start": 1.6998984060313247,
            "bin_end": 1.8651149247541914,
            "count": 0
           },
           {
            "bin_start": 1.8651149247541914,
            "bin_end": 2.030331443477058,
            "count": 0
           },
           {
            "bin_start": 2.030331443477058,
            "bin_end": 2.195547962199925,
            "count": 0
           },
           {
            "bin_start": 2.195547962199925,
            "bin_end": 2.360764480922792,
            "count": 0
           },
           {
            "bin_start": 2.360764480922792,
            "bin_end": 2.5259809996456584,
            "count": 0
           },
           {
            "bin_start": 2.5259809996456584,
            "bin_end": 2.691197518368525,
            "count": 0
           },
           {
            "bin_start": 2.691197518368525,
            "bin_end": 2.8564140370913917,
            "count": 1
           }
          ]
         }
        },
        {
         "name": "split7_test_score",
         "dtype": "float64",
         "stats": {
          "unique_count": 50,
          "nan_count": 0,
          "min": "1.1366977843182875",
          "max": "1.5294255594113717",
          "histogram": [
           {
            "bin_start": 1.1366977843182875,
            "bin_end": 1.175970561827596,
            "count": 4
           },
           {
            "bin_start": 1.175970561827596,
            "bin_end": 1.2152433393369044,
            "count": 4
           },
           {
            "bin_start": 1.2152433393369044,
            "bin_end": 1.2545161168462127,
            "count": 7
           },
           {
            "bin_start": 1.2545161168462127,
            "bin_end": 1.2937888943555211,
            "count": 5
           },
           {
            "bin_start": 1.2937888943555211,
            "bin_end": 1.3330616718648296,
            "count": 8
           },
           {
            "bin_start": 1.3330616718648296,
            "bin_end": 1.372334449374138,
            "count": 8
           },
           {
            "bin_start": 1.372334449374138,
            "bin_end": 1.4116072268834465,
            "count": 4
           },
           {
            "bin_start": 1.4116072268834465,
            "bin_end": 1.4508800043927548,
            "count": 4
           },
           {
            "bin_start": 1.4508800043927548,
            "bin_end": 1.4901527819020632,
            "count": 2
           },
           {
            "bin_start": 1.4901527819020632,
            "bin_end": 1.5294255594113717,
            "count": 4
           }
          ]
         }
        },
        {
         "name": "split8_test_score",
         "dtype": "float64",
         "stats": {
          "unique_count": 50,
          "nan_count": 0,
          "min": "1.275848726468875",
          "max": "2.766751037840556",
          "histogram": [
           {
            "bin_start": 1.275848726468875,
            "bin_end": 1.424938957606043,
            "count": 14
           },
           {
            "bin_start": 1.424938957606043,
            "bin_end": 1.5740291887432112,
            "count": 20
           },
           {
            "bin_start": 1.5740291887432112,
            "bin_end": 1.7231194198803794,
            "count": 13
           },
           {
            "bin_start": 1.7231194198803794,
            "bin_end": 1.8722096510175474,
            "count": 1
           },
           {
            "bin_start": 1.8722096510175474,
            "bin_end": 2.0212998821547155,
            "count": 0
           },
           {
            "bin_start": 2.0212998821547155,
            "bin_end": 2.1703901132918837,
            "count": 0
           },
           {
            "bin_start": 2.1703901132918837,
            "bin_end": 2.319480344429052,
            "count": 0
           },
           {
            "bin_start": 2.319480344429052,
            "bin_end": 2.46857057556622,
            "count": 0
           },
           {
            "bin_start": 2.46857057556622,
            "bin_end": 2.6176608067033884,
            "count": 0
           },
           {
            "bin_start": 2.6176608067033884,
            "bin_end": 2.766751037840556,
            "count": 2
           }
          ]
         }
        },
        {
         "name": "split9_test_score",
         "dtype": "float64",
         "stats": {
          "unique_count": 50,
          "nan_count": 0,
          "min": "1.0948688031710458",
          "max": "1.6001819237840895",
          "histogram": [
           {
            "bin_start": 1.0948688031710458,
            "bin_end": 1.1454001152323503,
            "count": 6
           },
           {
            "bin_start": 1.1454001152323503,
            "bin_end": 1.1959314272936545,
            "count": 0
           },
           {
            "bin_start": 1.1959314272936545,
            "bin_end": 1.246462739354959,
            "count": 7
           },
           {
            "bin_start": 1.246462739354959,
            "bin_end": 1.2969940514162632,
            "count": 12
           },
           {
            "bin_start": 1.2969940514162632,
            "bin_end": 1.3475253634775677,
            "count": 9
           },
           {
            "bin_start": 1.3475253634775677,
            "bin_end": 1.398056675538872,
            "count": 7
           },
           {
            "bin_start": 1.398056675538872,
            "bin_end": 1.4485879876001764,
            "count": 2
           },
           {
            "bin_start": 1.4485879876001764,
            "bin_end": 1.4991192996614808,
            "count": 4
           },
           {
            "bin_start": 1.4991192996614808,
            "bin_end": 1.549650611722785,
            "count": 2
           },
           {
            "bin_start": 1.549650611722785,
            "bin_end": 1.6001819237840895,
            "count": 1
           }
          ]
         }
        },
        {
         "name": "mean_test_score",
         "dtype": "float64",
         "stats": {
          "unique_count": 50,
          "nan_count": 0,
          "min": "1.1989505562950025",
          "max": "1.5967230821431522",
          "histogram": [
           {
            "bin_start": 1.1989505562950025,
            "bin_end": 1.2387278088798175,
            "count": 2
           },
           {
            "bin_start": 1.2387278088798175,
            "bin_end": 1.2785050614646325,
            "count": 2
           },
           {
            "bin_start": 1.2785050614646325,
            "bin_end": 1.3182823140494473,
            "count": 2
           },
           {
            "bin_start": 1.3182823140494473,
            "bin_end": 1.3580595666342623,
            "count": 5
           },
           {
            "bin_start": 1.3580595666342623,
            "bin_end": 1.3978368192190773,
            "count": 8
           },
           {
            "bin_start": 1.3978368192190773,
            "bin_end": 1.4376140718038923,
            "count": 6
           },
           {
            "bin_start": 1.4376140718038923,
            "bin_end": 1.4773913243887073,
            "count": 9
           },
           {
            "bin_start": 1.4773913243887073,
            "bin_end": 1.5171685769735221,
            "count": 4
           },
           {
            "bin_start": 1.5171685769735221,
            "bin_end": 1.5569458295583372,
            "count": 8
           },
           {
            "bin_start": 1.5569458295583372,
            "bin_end": 1.5967230821431522,
            "count": 4
           }
          ]
         }
        },
        {
         "name": "std_test_score",
         "dtype": "float64",
         "stats": {
          "unique_count": 50,
          "nan_count": 0,
          "min": "0.0599901679370998",
          "max": "0.7372068979874262",
          "histogram": [
           {
            "bin_start": 0.0599901679370998,
            "bin_end": 0.12771184094213245,
            "count": 44
           },
           {
            "bin_start": 0.12771184094213245,
            "bin_end": 0.1954335139471651,
            "count": 1
           },
           {
            "bin_start": 0.1954335139471651,
            "bin_end": 0.26315518695219775,
            "count": 1
           },
           {
            "bin_start": 0.26315518695219775,
            "bin_end": 0.3308768599572304,
            "count": 0
           },
           {
            "bin_start": 0.3308768599572304,
            "bin_end": 0.398598532962263,
            "count": 0
           },
           {
            "bin_start": 0.398598532962263,
            "bin_end": 0.46632020596729573,
            "count": 2
           },
           {
            "bin_start": 0.46632020596729573,
            "bin_end": 0.5340418789723284,
            "count": 1
           },
           {
            "bin_start": 0.5340418789723284,
            "bin_end": 0.601763551977361,
            "count": 0
           },
           {
            "bin_start": 0.601763551977361,
            "bin_end": 0.6694852249823936,
            "count": 0
           },
           {
            "bin_start": 0.6694852249823936,
            "bin_end": 0.7372068979874262,
            "count": 1
           }
          ]
         }
        },
        {
         "name": "rank_test_score",
         "dtype": "int64",
         "stats": {
          "unique_count": 50,
          "nan_count": 0,
          "min": "343",
          "max": "392",
          "histogram": [
           {
            "bin_start": 343,
            "bin_end": 347.9,
            "count": 5
           },
           {
            "bin_start": 347.9,
            "bin_end": 352.8,
            "count": 5
           },
           {
            "bin_start": 352.8,
            "bin_end": 357.7,
            "count": 5
           },
           {
            "bin_start": 357.7,
            "bin_end": 362.6,
            "count": 5
           },
           {
            "bin_start": 362.6,
            "bin_end": 367.5,
            "count": 5
           },
           {
            "bin_start": 367.5,
            "bin_end": 372.4,
            "count": 5
           },
           {
            "bin_start": 372.4,
            "bin_end": 377.3,
            "count": 5
           },
           {
            "bin_start": 377.3,
            "bin_end": 382.2,
            "count": 5
           },
           {
            "bin_start": 382.2,
            "bin_end": 387.1,
            "count": 5
           },
           {
            "bin_start": 387.1,
            "bin_end": 392,
            "count": 5
           }
          ]
         }
        },
        {
         "name": "_deepnote_index_column",
         "dtype": "int64"
        }
       ],
       "rows": [
        {
         "Unnamed: 0": 568,
         "mean_fit_time": 4.049968290328979,
         "std_fit_time": 0.5911076210892072,
         "mean_score_time": 0.0077067613601684,
         "std_score_time": 0.0074937299429164,
         "param_batch_size": 733,
         "param_lr": 0.1383111728744077,
         "param_max_epochs": 1000,
         "param_module__activation_fun": "sigmoid",
         "param_module__hidden_layers": 1,
         "param_module__num_units": 10,
         "param_optimizer": "<class 'torch.optim.sgd.SGD'>",
         "param_optimizer__momentum": 0.8,
         "param_optimizer__nesterov": false,
         "param_optimizer__weight_decay": 0.0061355494403954,
         "params": "{'batch_size': 733, 'lr': 0.13831117287440775, 'max_epochs': 1000, 'module__activation_fun': 'sigmo…",
         "split0_test_score": 1.1281460038477318,
         "split1_test_score": 1.1103187739582998,
         "split2_test_score": 1.2233528697064944,
         "split3_test_score": 1.292125117509885,
         "split4_test_score": 1.20442890336639,
         "split5_test_score": 1.2781509115059573,
         "split6_test_score": 1.2042488498627244,
         "split7_test_score": 1.1396321260223263,
         "split8_test_score": 1.275848726468875,
         "split9_test_score": 1.1332532807013416,
         "mean_test_score": 1.1989505562950025,
         "std_test_score": 0.0649805866996419,
         "rank_test_score": 392,
         "_deepnote_index_column": 0
        },
        {
         "Unnamed: 0": 250,
         "mean_fit_time": 7.340296339988709,
         "std_fit_time": 1.4272186997954053,
         "mean_score_time": 0.0092382431030273,
         "std_score_time": 0.0054856176257741,
         "param_batch_size": 502,
         "param_lr": 0.1187470622945974,
         "param_max_epochs": 1000,
         "param_module__activation_fun": "tanh",
         "param_module__hidden_layers": 1,
         "param_module__num_units": 10,
         "param_optimizer": "<class 'torch.optim.sgd.SGD'>",
         "param_optimizer__momentum": 0.9,
         "param_optimizer__nesterov": false,
         "param_optimizer__weight_decay": 0.0106813934257724,
         "params": "{'batch_size': 502, 'lr': 0.11874706229459747, 'max_epochs': 1000, 'module__activation_fun': 'tanh'…",
         "split0_test_score": 1.1257377802989537,
         "split1_test_score": 1.1046092979105793,
         "split2_test_score": 1.2489844189004455,
         "split3_test_score": 1.3793209883615487,
         "split4_test_score": 1.2361134795289963,
         "split5_test_score": 1.30440053332569,
         "split6_test_score": 1.2101958480320478,
         "split7_test_score": 1.1941020975547625,
         "split8_test_score": 1.328437201678753,
         "split9_test_score": 1.1270681094716897,
         "mean_test_score": 1.225896975506347,
         "std_test_score": 0.08753330271507,
         "rank_test_score": 391,
         "_deepnote_index_column": 1
        },
        {
         "Unnamed: 0": 74,
         "mean_fit_time": 1.6248674392700195,
         "std_fit_time": 0.5230290323054222,
         "mean_score_time": 0.0028297662734985,
         "std_score_time": 0.00019422966618,
         "param_batch_size": 545,
         "param_lr": 0.0234523245740465,
         "param_max_epochs": 1000,
         "param_module__activation_fun": "tanh",
         "param_module__hidden_layers": 2,
         "param_module__num_units": 100,
         "param_optimizer": "<class 'torch.optim.sgd.SGD'>",
         "param_optimizer__momentum": 0.8,
         "param_optimizer__nesterov": false,
         "param_optimizer__weight_decay": 0.0439782128382081,
         "params": "{'batch_size': 545, 'lr': 0.023452324574046557, 'max_epochs': 1000, 'module__activation_fun': 'tanh…",
         "split0_test_score": 1.1553440083350457,
         "split1_test_score": 1.1032331851976258,
         "split2_test_score": 1.2391861963148851,
         "split3_test_score": 1.3735170349254644,
         "split4_test_score": 1.286328770178265,
         "split5_test_score": 1.3147382557784255,
         "split6_test_score": 1.2124260256164952,
         "split7_test_score": 1.2137418384908845,
         "split8_test_score": 1.3928580391115712,
         "split9_test_score": 1.1311437176314718,
         "mean_test_score": 1.2422517071580137,
         "std_test_score": 0.0938327260931595,
         "rank_test_score": 390,
         "_deepnote_index_column": 2
        },
        {
         "Unnamed: 0": 908,
         "mean_fit_time": 22.293275237083435,
         "std_fit_time": 5.249864246265909,
         "mean_score_time": 0.0081944704055786,
         "std_score_time": 0.0062419966671394,
         "param_batch_size": 776,
         "param_lr": 0.0180437815289529,
         "param_max_epochs": 1000,
         "param_module__activation_fun": "sigmoid",
         "param_module__hidden_layers": 2,
         "param_module__num_units": 25,
         "param_optimizer": "<class 'torch.optim.sgd.SGD'>",
         "param_optimizer__momentum": 0.8,
         "param_optimizer__nesterov": true,
         "param_optimizer__weight_decay": 0.00164830663635,
         "params": "{'batch_size': 776, 'lr': 0.018043781528952973, 'max_epochs': 1000, 'module__activation_fun': 'sigm…",
         "split0_test_score": 1.1824484697185962,
         "split1_test_score": 1.1603590086998796,
         "split2_test_score": 1.266182639349,
         "split3_test_score": 1.3394769569088645,
         "split4_test_score": 1.292227544842806,
         "split5_test_score": 1.3288503958654585,
         "split6_test_score": 1.26688850290121,
         "split7_test_score": 1.167576183305871,
         "split8_test_score": 1.3754912097203105,
         "split9_test_score": 1.1072577855860193,
         "mean_test_score": 1.2486758696898017,
         "std_test_score": 0.0848834660231015,
         "rank_test_score": 389,
         "_deepnote_index_column": 3
        },
        {
         "Unnamed: 0": 575,
         "mean_fit_time": 3.9831127405166624,
         "std_fit_time": 0.937261362647434,
         "mean_score_time": 0.0073916435241699,
         "std_score_time": 0.0074483329509193,
         "param_batch_size": 717,
         "param_lr": 0.1394673727463427,
         "param_max_epochs": 1000,
         "param_module__activation_fun": "sigmoid",
         "param_module__hidden_layers": 1,
         "param_module__num_units": 10,
         "param_optimizer": "<class 'torch.optim.sgd.SGD'>",
         "param_optimizer__momentum": 0.8,
         "param_optimizer__nesterov": true,
         "param_optimizer__weight_decay": 0.0094215045119348,
         "params": "{'batch_size': 717, 'lr': 0.13946737274634274, 'max_epochs': 1000, 'module__activation_fun': 'sigmo…",
         "split0_test_score": 1.1977310525743583,
         "split1_test_score": 1.187278577035531,
         "split2_test_score": 1.3362249449679726,
         "split3_test_score": 1.3291430171943248,
         "split4_test_score": 1.286836806992839,
         "split5_test_score": 1.3918990576849843,
         "split6_test_score": 1.303434722237569,
         "split7_test_score": 1.2441253917557853,
         "split8_test_score": 1.4157639169379284,
         "split9_test_score": 1.1353812131917838,
         "mean_test_score": 1.2827818700573077,
         "std_test_score": 0.0863800231282768,
         "rank_test_score": 388,
         "_deepnote_index_column": 4
        },
        {
         "Unnamed: 0": 297,
         "mean_fit_time": 14.308244609832764,
         "std_fit_time": 3.275993148362963,
         "mean_score_time": 0.0088132143020629,
         "std_score_time": 0.0053960495666698,
         "param_batch_size": 591,
         "param_lr": 0.0145162932962071,
         "param_max_epochs": 1000,
         "param_module__activation_fun": "tanh",
         "param_module__hidden_layers": 1,
         "param_module__num_units": 10,
         "param_optimizer": "<class 'torch.optim.sgd.SGD'>",
         "param_optimizer__momentum": 0.85,
         "param_optimizer__nesterov": false,
         "param_optimizer__weight_decay": 0.0223348074680793,
         "params": "{'batch_size': 591, 'lr': 0.014516293296207183, 'max_epochs': 1000, 'module__activation_fun': 'tanh…",
         "split0_test_score": 1.243633460253477,
         "split1_test_score": 1.1898578504674642,
         "split2_test_score": 1.3396656078223448,
         "split3_test_score": 1.4468938721750015,
         "split4_test_score": 1.3094242659810569,
         "split5_test_score": 1.3854341988724874,
         "split6_test_score": 1.3662626923278982,
         "split7_test_score": 1.240204599342848,
         "split8_test_score": 1.3491581355718745,
         "split9_test_score": 1.2190238927124124,
         "mean_test_score": 1.3089558575526865,
         "std_test_score": 0.078730732178099,
         "rank_test_score": 387,
         "_deepnote_index_column": 5
        },
        {
         "Unnamed: 0": 867,
         "mean_fit_time": 7.40034511089325,
         "std_fit_time": 0.721326088619941,
         "mean_score_time": 0.0105370759963989,
         "std_score_time": 0.0075254512224805,
         "param_batch_size": 1146,
         "param_lr": 0.1073075497646348,
         "param_max_epochs": 1000,
         "param_module__activation_fun": "tanh",
         "param_module__hidden_layers": 1,
         "param_module__num_units": 10,
         "param_optimizer": "<class 'torch.optim.sgd.SGD'>",
         "param_optimizer__momentum": 0.85,
         "param_optimizer__nesterov": false,
         "param_optimizer__weight_decay": 0.0229554465855297,
         "params": "{'batch_size': 1146, 'lr': 0.1073075497646348, 'max_epochs': 1000, 'module__activation_fun': 'tanh'…",
         "split0_test_score": 1.1867718326446033,
         "split1_test_score": 1.157797857726875,
         "split2_test_score": 1.4230344388493918,
         "split3_test_score": 1.4094931590265798,
         "split4_test_score": 1.2934051601958454,
         "split5_test_score": 1.4844962846963925,
         "split6_test_score": 1.4396521332568692,
         "split7_test_score": 1.212928928056718,
         "split8_test_score": 1.355539775208423,
         "split9_test_score": 1.2678854309135317,
         "mean_test_score": 1.323100500057523,
         "std_test_score": 0.1095967308757105,
         "rank_test_score": 386,
         "_deepnote_index_column": 6
        },
        {
         "Unnamed: 0": 422,
         "mean_fit_time": 4.090583491325378,
         "std_fit_time": 1.100648186276458,
         "mean_score_time": 0.0119807481765747,
         "std_score_time": 0.0060181676878139,
         "param_batch_size": 262,
         "param_lr": 0.0568762496137332,
         "param_max_epochs": 1000,
         "param_module__activation_fun": "tanh",
         "param_module__hidden_layers": 1,
         "param_module__num_units": 25,
         "param_optimizer": "<class 'torch.optim.sgd.SGD'>",
         "param_optimizer__momentum": 0.8,
         "param_optimizer__nesterov": false,
         "param_optimizer__weight_decay": 0.0285519067187829,
         "params": "{'batch_size': 262, 'lr': 0.05687624961373322, 'max_epochs': 1000, 'module__activation_fun': 'tanh'…",
         "split0_test_score": 1.211149909414519,
         "split1_test_score": 1.175051298916788,
         "split2_test_score": 1.359580242124043,
         "split3_test_score": 1.4253421067295218,
         "split4_test_score": 1.294144487414593,
         "split5_test_score": 1.47674994428355,
         "split6_test_score": 1.361004887050704,
         "split7_test_score": 1.2516894218812984,
         "split8_test_score": 1.4042309147298784,
         "split9_test_score": 1.2725376662882892,
         "mean_test_score": 1.3231480878833186,
         "std_test_score": 0.092928589323348,
         "rank_test_score": 385,
         "_deepnote_index_column": 7
        },
        {
         "Unnamed: 0": 179,
         "mean_fit_time": 3.73516297340393,
         "std_fit_time": 0.6334322422643425,
         "mean_score_time": 0.0081619977951049,
         "std_score_time": 0.0061180924755608,
         "param_batch_size": 108,
         "param_lr": 0.1223925663597917,
         "param_max_epochs": 1000,
         "param_module__activation_fun": "tanh",
         "param_module__hidden_layers": 1,
         "param_module__num_units": 10,
         "param_optimizer": "<class 'torch.optim.sgd.SGD'>",
         "param_optimizer__momentum": 0.9,
         "param_optimizer__nesterov": true,
         "param_optimizer__weight_decay": 0.009078033482609,
         "params": "{'batch_size': 108, 'lr': 0.12239256635979179, 'max_epochs': 1000, 'module__activation_fun': 'tanh'…",
         "split0_test_score": 1.2920562501128454,
         "split1_test_score": 1.1296022201054974,
         "split2_test_score": 1.331104777837382,
         "split3_test_score": 1.361772358025375,
         "split4_test_score": 1.5011524567870718,
         "split5_test_score": 1.4795384413765786,
         "split6_test_score": 1.3270091057327904,
         "split7_test_score": 1.1752875878202511,
         "split8_test_score": 1.3482927474424355,
         "split9_test_score": 1.3437883855605668,
         "mean_test_score": 1.3289604330800793,
         "std_test_score": 0.1089602788390511,
         "rank_test_score": 384,
         "_deepnote_index_column": 8
        },
        {
         "Unnamed: 0": 724,
         "mean_fit_time": 25.605863881111144,
         "std_fit_time": 1.9202876710088093,
         "mean_score_time": 0.0119740486145019,
         "std_score_time": 0.0083791824096528,
         "param_batch_size": 1043,
         "param_lr": 0.0073083952056953,
         "param_max_epochs": 1000,
         "param_module__activation_fun": "relu",
         "param_module__hidden_layers": 1,
         "param_module__num_units": 100,
         "param_optimizer": "<class 'torch.optim.sgd.SGD'>",
         "param_optimizer__momentum": 0.85,
         "param_optimizer__nesterov": false,
         "param_optimizer__weight_decay": 0.0177282206316435,
         "params": "{'batch_size': 1043, 'lr': 0.007308395205695372, 'max_epochs': 1000, 'module__activation_fun': 'rel…",
         "split0_test_score": 1.2513540428607983,
         "split1_test_score": 1.277815119160297,
         "split2_test_score": 1.3090401541133572,
         "split3_test_score": 1.4217155417777545,
         "split4_test_score": 1.3788116682965057,
         "split5_test_score": 1.4613310773121684,
         "split6_test_score": 1.4001494826454866,
         "split7_test_score": 1.2044550438124435,
         "split8_test_score": 1.4196134266772664,
         "split9_test_score": 1.2247098670199963,
         "mean_test_score": 1.334899542367607,
         "std_test_score": 0.0877205472308914,
         "rank_test_score": 383,
         "_deepnote_index_column": 9
        }
       ]
      },
      "text/plain": "    Unnamed: 0  mean_fit_time  std_fit_time  mean_score_time  std_score_time  \\\n0          568       4.049968      0.591108         0.007707        0.007494   \n1          250       7.340296      1.427219         0.009238        0.005486   \n2           74       1.624867      0.523029         0.002830        0.000194   \n3          908      22.293275      5.249864         0.008194        0.006242   \n4          575       3.983113      0.937261         0.007392        0.007448   \n5          297      14.308245      3.275993         0.008813        0.005396   \n6          867       7.400345      0.721326         0.010537        0.007525   \n7          422       4.090583      1.100648         0.011981        0.006018   \n8          179       3.735163      0.633432         0.008162        0.006118   \n9          724      25.605864      1.920288         0.011974        0.008379   \n10         770       5.268662      1.301696         0.012121        0.009730   \n11         924      15.692318      7.562157         0.008184        0.005666   \n12         735       7.617891      0.855299         0.006874        0.003323   \n13         830      26.766311      2.377671         0.011663        0.008030   \n14         152       3.745774      1.547922         0.003478        0.000786   \n15         886      16.616689      2.669558         0.010685        0.008930   \n16         229      10.059516      3.681904         0.010315        0.008188   \n17         518       5.357539      0.638866         0.005689        0.003844   \n18          28       3.005441      0.671426         0.003869        0.001109   \n19         109       2.455651      0.512163         0.003281        0.000847   \n20         288       9.462072      1.293576         0.010867        0.006848   \n21         345       5.783274      0.621399         0.011698        0.009893   \n22         295      10.565968      3.681676         0.011023        0.006260   \n23         656      18.230536      1.695092         0.009973        0.006075   \n24         330       4.759098      2.375985         0.012405        0.013909   \n25         722       4.302892      1.396021         0.009036        0.007686   \n26         164       3.816952      0.410310         0.003331        0.000992   \n27         831      12.871854      4.019388         0.010564        0.008849   \n28         451       5.691445      0.563851         0.006994        0.004488   \n29         688       3.752972      0.410279         0.012966        0.007869   \n30          53       2.823572      0.685842         0.003139        0.000691   \n31         920      51.951431      2.966716         0.007224        0.005657   \n32         542       3.351099      0.445862         0.005749        0.005515   \n33         281      14.740869      2.154548         0.011866        0.008751   \n34         650       3.316423      0.856147         0.009135        0.005227   \n35         775       7.140148      0.996205         0.010119        0.007730   \n36         714       5.903561      1.466624         0.005803        0.003831   \n37         143       6.090624      1.002694         0.005353        0.005377   \n38         203       4.096794      1.316062         0.007301        0.006344   \n39         737       5.563619      3.077834         0.007923        0.005946   \n40         842       2.697883      0.195100         0.014336        0.011173   \n41           2       0.620841      0.089267         0.002921        0.000795   \n42          37       1.543744      0.255610         0.004262        0.001183   \n43         798       5.314085      1.166658         0.006266        0.002760   \n44         604       1.973057      0.393956         0.007080        0.004048   \n45         324       5.067255      1.064447         0.006494        0.004023   \n46         400      44.204896      4.814950         0.009386        0.008060   \n47         325      21.727147      1.147839         0.011152        0.006630   \n48         201       2.319599      0.360707         0.008042        0.006089   \n49         673       6.218212      2.236536         0.017268        0.011803   \n\n    param_batch_size  param_lr  param_max_epochs param_module__activation_fun  \\\n0                733  0.138311              1000                      sigmoid   \n1                502  0.118747              1000                         tanh   \n2                545  0.023452              1000                         tanh   \n3                776  0.018044              1000                      sigmoid   \n4                717  0.139467              1000                      sigmoid   \n5                591  0.014516              1000                         tanh   \n6               1146  0.107308              1000                         tanh   \n7                262  0.056876              1000                         tanh   \n8                108  0.122393              1000                         tanh   \n9               1043  0.007308              1000                         relu   \n10               885  0.062872              1000                         tanh   \n11               717  0.116695              1000                      sigmoid   \n12              1094  0.246551              1000                      sigmoid   \n13              1151  0.016512              1000                      sigmoid   \n14               594  0.005604              1000                         relu   \n15              1244  0.012105              1000                         tanh   \n16              1222  0.096857              1000                      sigmoid   \n17               660  0.023775              1000                         relu   \n18               535  0.011094              1000                         relu   \n19               949  0.043839              1000                      sigmoid   \n20               877  0.020529              1000                      sigmoid   \n21               975  0.228923              1000                      sigmoid   \n22               372  0.039905              1000                      sigmoid   \n23               726  0.007065              1000                         relu   \n24               862  0.052093              1000                         tanh   \n25               501  0.063805              1000                      sigmoid   \n26               739  0.017914              1000                         relu   \n27               704  0.241696              1000                      sigmoid   \n28               596  0.044471              1000                         tanh   \n29               528  0.052446              1000                      sigmoid   \n30               618  0.012016              1000                         relu   \n31               770  0.008128              1000                      sigmoid   \n32               675  0.235563              1000                      sigmoid   \n33               895  0.004914              1000                         relu   \n34               129  0.023077              1000                         tanh   \n35              1297  0.016517              1000                         relu   \n36               298  0.174410              1000                      sigmoid   \n37               567  0.007149              1000                         tanh   \n38               402  0.069448              1000                         tanh   \n39               498  0.014100              1000                         tanh   \n40               249  0.027935              1000                         tanh   \n41               168  0.039188              1000                      sigmoid   \n42              1088  0.057068              1000                      sigmoid   \n43               309  0.197144              1000                      sigmoid   \n44               874  0.050659              1000                         tanh   \n45               479  0.105912              1000                         tanh   \n46               537  0.003303              1000                      sigmoid   \n47               326  0.009109              1000                      sigmoid   \n48               340  0.014762              1000                         tanh   \n49               140  0.040751              1000                      sigmoid   \n\n    param_module__hidden_layers  ...  split3_test_score split4_test_score  \\\n0                             1  ...           1.292125          1.204429   \n1                             1  ...           1.379321          1.236113   \n2                             2  ...           1.373517          1.286329   \n3                             2  ...           1.339477          1.292228   \n4                             1  ...           1.329143          1.286837   \n5                             1  ...           1.446894          1.309424   \n6                             1  ...           1.409493          1.293405   \n7                             1  ...           1.425342          1.294144   \n8                             1  ...           1.361772          1.501152   \n9                             1  ...           1.421716          1.378812   \n10                            2  ...           1.411571          1.365509   \n11                            2  ...           1.433912          1.289789   \n12                            1  ...           1.477495          1.360335   \n13                            1  ...           1.484316          1.397069   \n14                            2  ...           1.482474          1.416218   \n15                            1  ...           1.502119          1.385505   \n16                            2  ...           1.493174          1.353033   \n17                            1  ...           1.466307          1.429535   \n18                            1  ...           1.463942          1.443947   \n19                            1  ...           1.472872          1.439806   \n20                            1  ...           1.516437          1.427579   \n21                            1  ...           1.553031          1.409480   \n22                            1  ...           1.607974          1.403873   \n23                            1  ...           1.500955          1.475010   \n24                            1  ...           1.488133          1.431307   \n25                            1  ...           1.572432          1.429602   \n26                            1  ...           1.529568          1.509437   \n27                            1  ...           1.250063          1.251887   \n28                            2  ...           1.704133          1.383293   \n29                            1  ...           1.597841          1.462751   \n30                            1  ...           1.619635          1.496931   \n31                            1  ...           1.605867          1.435675   \n32                            2  ...           1.530232          1.363383   \n33                            2  ...           1.511025          1.580157   \n34                            2  ...           1.545197          1.625595   \n35                            1  ...           1.596913          1.554032   \n36                            2  ...           1.450773          1.515578   \n37                            2  ...           1.610695          1.444178   \n38                            1  ...           1.694189          1.448994   \n39                            1  ...           1.708723          1.472992   \n40                            1  ...           1.670894          1.496866   \n41                            1  ...           1.692912          1.474423   \n42                            1  ...           1.738363          1.512261   \n43                            1  ...           1.418477          1.464997   \n44                            1  ...           1.539193          1.593926   \n45                            2  ...           1.426240          1.378877   \n46                            2  ...           1.753373          1.526504   \n47                            2  ...           1.780629          1.560104   \n48                            1  ...           1.794776          1.524506   \n49                            2  ...           1.748333          1.590751   \n\n    split5_test_score  split6_test_score  split7_test_score split8_test_score  \\\n0            1.278151           1.204249           1.139632          1.275849   \n1            1.304401           1.210196           1.194102          1.328437   \n2            1.314738           1.212426           1.213742          1.392858   \n3            1.328850           1.266889           1.167576          1.375491   \n4            1.391899           1.303435           1.244125          1.415764   \n5            1.385434           1.366263           1.240205          1.349158   \n6            1.484496           1.439652           1.212929          1.355540   \n7            1.476750           1.361005           1.251689          1.404231   \n8            1.479538           1.327009           1.175288          1.348293   \n9            1.461331           1.400149           1.204455          1.419613   \n10           1.502564           1.349284           1.289950          1.533074   \n11           1.384506           1.395075           1.239467          1.358836   \n12           1.441803           1.423592           1.246859          1.428324   \n13           1.460617           1.433910           1.278831          1.486624   \n14           1.463315           1.421441           1.233335          1.498789   \n15           1.491684           1.423479           1.285234          1.434070   \n16           1.485046           1.429888           1.298309          1.414410   \n17           1.490877           1.460112           1.261787          1.472551   \n18           1.505607           1.521138           1.237264          1.494564   \n19           1.474941           1.494452           1.345361          1.525735   \n20           1.519470           1.474705           1.331441          1.507971   \n21           1.534142           1.504119           1.326997          1.517065   \n22           1.513758           1.485591           1.358284          1.508334   \n23           1.548602           1.537420           1.293954          1.524752   \n24           1.431400           1.443803           1.389586          1.593613   \n25           1.504416           1.521584           1.356418          1.484543   \n26           1.545890           1.527160           1.294331          1.535586   \n27           3.642240           1.216611           1.136698          1.310461   \n28           1.533663           1.442343           1.381034          1.468818   \n29           1.548783           1.530766           1.339762          1.533615   \n30           1.589800           1.498931           1.317059          1.493705   \n31           1.544328           1.543018           1.353755          1.584458   \n32           2.151427           1.483574           1.361636          1.409460   \n33           1.618454           1.646033           1.326878          1.536944   \n34           1.621379           1.474310           1.398647          1.642920   \n35           1.604878           1.634055           1.336478          1.591878   \n36           1.535323           1.517595           1.425552          1.642450   \n37           1.594538           1.541168           1.428272          1.551904   \n38           1.485263           1.383643           1.363298          2.766751   \n39           1.594025           1.550990           1.465836          1.619918   \n40           1.656205           1.586055           1.406687          1.596513   \n41           1.614868           1.608933           1.448969          1.603045   \n42           1.659190           1.658764           1.443159          1.611009   \n43           1.602355           2.856414           1.323509          1.774096   \n44           1.573693           1.557622           1.529426          1.640849   \n45           1.350010           1.528860           1.269604          2.690303   \n46           1.656774           1.670347           1.463719          1.566685   \n47           1.687180           1.670613           1.516436          1.601448   \n48           1.670637           1.645075           1.508961          1.673311   \n49           1.692842           1.672221           1.495621          1.590919   \n\n    split9_test_score  mean_test_score  std_test_score  rank_test_score  \n0            1.133253         1.198951        0.064981              392  \n1            1.127068         1.225897        0.087533              391  \n2            1.131144         1.242252        0.093833              390  \n3            1.107258         1.248676        0.084883              389  \n4            1.135381         1.282782        0.086380              388  \n5            1.219024         1.308956        0.078731              387  \n6            1.267885         1.323101        0.109597              386  \n7            1.272538         1.323148        0.092929              385  \n8            1.343788         1.328960        0.108960              384  \n9            1.224710         1.334900        0.087721              383  \n10           1.217056         1.341564        0.110523              382  \n11           1.211138         1.358611        0.095913              381  \n12           1.316264         1.363990        0.073764              380  \n13           1.234915         1.365693        0.095447              379  \n14           1.268555         1.372004        0.091046              378  \n15           1.293050         1.377234        0.080868              377  \n16           1.308126         1.382877        0.069538              376  \n17           1.262071         1.385379        0.087257              375  \n18           1.259029         1.394794        0.099295              374  \n19           1.338055         1.404371        0.086276              373  \n20           1.350454         1.417174        0.081269              372  \n21           1.343138         1.428149        0.094212              371  \n22           1.345642         1.429868        0.091382              370  \n23           1.300947         1.432884        0.095163              369  \n24           1.360977         1.435837        0.077900              368  \n25           1.365584         1.438810        0.075661              367  \n26           1.293822         1.439224        0.100009              366  \n27           1.094869         1.440157        0.737207              365  \n28           1.336353         1.444814        0.104422              364  \n29           1.334537         1.445658        0.096053              363  \n30           1.289563         1.447007        0.106747              362  \n31           1.379135         1.458272        0.097419              361  \n32           1.285186         1.468516        0.238648              360  \n33           1.274376         1.476739        0.122634              359  \n34           1.259076         1.479280        0.124837              358  \n35           1.367378         1.497210        0.107916              357  \n36           1.270799         1.501752        0.142017              356  \n37           1.449977         1.509962        0.061549              355  \n38           1.225468         1.519621        0.437555              354  \n39           1.395692         1.523130        0.093537              353  \n40           1.440382         1.525978        0.096845              352  \n41           1.444597         1.526502        0.092822              351  \n42           1.450742         1.544908        0.111174              350  \n43           1.224448         1.546912        0.467924              349  \n44           1.600182         1.547359        0.059990              348  \n45           1.390162         1.552164        0.427688              347  \n46           1.497574         1.559401        0.098652              346  \n47           1.514826         1.587333        0.092857              345  \n48           1.502097         1.594893        0.096568              344  \n49           1.498629         1.596723        0.085220              343  \n\n[50 rows x 29 columns]",
      "text/html": "<div>\n<style scoped>\n    .dataframe tbody tr th:only-of-type {\n        vertical-align: middle;\n    }\n\n    .dataframe tbody tr th {\n        vertical-align: top;\n    }\n\n    .dataframe thead th {\n        text-align: right;\n    }\n</style>\n<table border=\"1\" class=\"dataframe\">\n  <thead>\n    <tr style=\"text-align: right;\">\n      <th></th>\n      <th>Unnamed: 0</th>\n      <th>mean_fit_time</th>\n      <th>std_fit_time</th>\n      <th>mean_score_time</th>\n      <th>std_score_time</th>\n      <th>param_batch_size</th>\n      <th>param_lr</th>\n      <th>param_max_epochs</th>\n      <th>param_module__activation_fun</th>\n      <th>param_module__hidden_layers</th>\n      <th>...</th>\n      <th>split3_test_score</th>\n      <th>split4_test_score</th>\n      <th>split5_test_score</th>\n      <th>split6_test_score</th>\n      <th>split7_test_score</th>\n      <th>split8_test_score</th>\n      <th>split9_test_score</th>\n      <th>mean_test_score</th>\n      <th>std_test_score</th>\n      <th>rank_test_score</th>\n    </tr>\n  </thead>\n  <tbody>\n    <tr>\n      <th>0</th>\n      <td>568</td>\n      <td>4.049968</td>\n      <td>0.591108</td>\n      <td>0.007707</td>\n      <td>0.007494</td>\n      <td>733</td>\n      <td>0.138311</td>\n      <td>1000</td>\n      <td>sigmoid</td>\n      <td>1</td>\n      <td>...</td>\n      <td>1.292125</td>\n      <td>1.204429</td>\n      <td>1.278151</td>\n      <td>1.204249</td>\n      <td>1.139632</td>\n      <td>1.275849</td>\n      <td>1.133253</td>\n      <td>1.198951</td>\n      <td>0.064981</td>\n      <td>392</td>\n    </tr>\n    <tr>\n      <th>1</th>\n      <td>250</td>\n      <td>7.340296</td>\n      <td>1.427219</td>\n      <td>0.009238</td>\n      <td>0.005486</td>\n      <td>502</td>\n      <td>0.118747</td>\n      <td>1000</td>\n      <td>tanh</td>\n      <td>1</td>\n      <td>...</td>\n      <td>1.379321</td>\n      <td>1.236113</td>\n      <td>1.304401</td>\n      <td>1.210196</td>\n      <td>1.194102</td>\n      <td>1.328437</td>\n      <td>1.127068</td>\n      <td>1.225897</td>\n      <td>0.087533</td>\n      <td>391</td>\n    </tr>\n    <tr>\n      <th>2</th>\n      <td>74</td>\n      <td>1.624867</td>\n      <td>0.523029</td>\n      <td>0.002830</td>\n      <td>0.000194</td>\n      <td>545</td>\n      <td>0.023452</td>\n      <td>1000</td>\n      <td>tanh</td>\n      <td>2</td>\n      <td>...</td>\n      <td>1.373517</td>\n      <td>1.286329</td>\n      <td>1.314738</td>\n      <td>1.212426</td>\n      <td>1.213742</td>\n      <td>1.392858</td>\n      <td>1.131144</td>\n      <td>1.242252</td>\n      <td>0.093833</td>\n      <td>390</td>\n    </tr>\n    <tr>\n      <th>3</th>\n      <td>908</td>\n      <td>22.293275</td>\n      <td>5.249864</td>\n      <td>0.008194</td>\n      <td>0.006242</td>\n      <td>776</td>\n      <td>0.018044</td>\n      <td>1000</td>\n      <td>sigmoid</td>\n      <td>2</td>\n      <td>...</td>\n      <td>1.339477</td>\n      <td>1.292228</td>\n      <td>1.328850</td>\n      <td>1.266889</td>\n      <td>1.167576</td>\n      <td>1.375491</td>\n      <td>1.107258</td>\n      <td>1.248676</td>\n      <td>0.084883</td>\n      <td>389</td>\n    </tr>\n    <tr>\n      <th>4</th>\n      <td>575</td>\n      <td>3.983113</td>\n      <td>0.937261</td>\n      <td>0.007392</td>\n      <td>0.007448</td>\n      <td>717</td>\n      <td>0.139467</td>\n      <td>1000</td>\n      <td>sigmoid</td>\n      <td>1</td>\n      <td>...</td>\n      <td>1.329143</td>\n      <td>1.286837</td>\n      <td>1.391899</td>\n      <td>1.303435</td>\n      <td>1.244125</td>\n      <td>1.415764</td>\n      <td>1.135381</td>\n      <td>1.282782</td>\n      <td>0.086380</td>\n      <td>388</td>\n    </tr>\n    <tr>\n      <th>5</th>\n      <td>297</td>\n      <td>14.308245</td>\n      <td>3.275993</td>\n      <td>0.008813</td>\n      <td>0.005396</td>\n      <td>591</td>\n      <td>0.014516</td>\n      <td>1000</td>\n      <td>tanh</td>\n      <td>1</td>\n      <td>...</td>\n      <td>1.446894</td>\n      <td>1.309424</td>\n      <td>1.385434</td>\n      <td>1.366263</td>\n      <td>1.240205</td>\n      <td>1.349158</td>\n      <td>1.219024</td>\n      <td>1.308956</td>\n      <td>0.078731</td>\n      <td>387</td>\n    </tr>\n    <tr>\n      <th>6</th>\n      <td>867</td>\n      <td>7.400345</td>\n      <td>0.721326</td>\n      <td>0.010537</td>\n      <td>0.007525</td>\n      <td>1146</td>\n      <td>0.107308</td>\n      <td>1000</td>\n      <td>tanh</td>\n      <td>1</td>\n      <td>...</td>\n      <td>1.409493</td>\n      <td>1.293405</td>\n      <td>1.484496</td>\n      <td>1.439652</td>\n      <td>1.212929</td>\n      <td>1.355540</td>\n      <td>1.267885</td>\n      <td>1.323101</td>\n      <td>0.109597</td>\n      <td>386</td>\n    </tr>\n    <tr>\n      <th>7</th>\n      <td>422</td>\n      <td>4.090583</td>\n      <td>1.100648</td>\n      <td>0.011981</td>\n      <td>0.006018</td>\n      <td>262</td>\n      <td>0.056876</td>\n      <td>1000</td>\n      <td>tanh</td>\n      <td>1</td>\n      <td>...</td>\n      <td>1.425342</td>\n      <td>1.294144</td>\n      <td>1.476750</td>\n      <td>1.361005</td>\n      <td>1.251689</td>\n      <td>1.404231</td>\n      <td>1.272538</td>\n      <td>1.323148</td>\n      <td>0.092929</td>\n      <td>385</td>\n    </tr>\n    <tr>\n      <th>8</th>\n      <td>179</td>\n      <td>3.735163</td>\n      <td>0.633432</td>\n      <td>0.008162</td>\n      <td>0.006118</td>\n      <td>108</td>\n      <td>0.122393</td>\n      <td>1000</td>\n      <td>tanh</td>\n      <td>1</td>\n      <td>...</td>\n      <td>1.361772</td>\n      <td>1.501152</td>\n      <td>1.479538</td>\n      <td>1.327009</td>\n      <td>1.175288</td>\n      <td>1.348293</td>\n      <td>1.343788</td>\n      <td>1.328960</td>\n      <td>0.108960</td>\n      <td>384</td>\n    </tr>\n    <tr>\n      <th>9</th>\n      <td>724</td>\n      <td>25.605864</td>\n      <td>1.920288</td>\n      <td>0.011974</td>\n      <td>0.008379</td>\n      <td>1043</td>\n      <td>0.007308</td>\n      <td>1000</td>\n      <td>relu</td>\n      <td>1</td>\n      <td>...</td>\n      <td>1.421716</td>\n      <td>1.378812</td>\n      <td>1.461331</td>\n      <td>1.400149</td>\n      <td>1.204455</td>\n      <td>1.419613</td>\n      <td>1.224710</td>\n      <td>1.334900</td>\n      <td>0.087721</td>\n      <td>383</td>\n    </tr>\n    <tr>\n      <th>10</th>\n      <td>770</td>\n      <td>5.268662</td>\n      <td>1.301696</td>\n      <td>0.012121</td>\n      <td>0.009730</td>\n      <td>885</td>\n      <td>0.062872</td>\n      <td>1000</td>\n      <td>tanh</td>\n      <td>2</td>\n      <td>...</td>\n      <td>1.411571</td>\n      <td>1.365509</td>\n      <td>1.502564</td>\n      <td>1.349284</td>\n      <td>1.289950</td>\n      <td>1.533074</td>\n      <td>1.217056</td>\n      <td>1.341564</td>\n      <td>0.110523</td>\n      <td>382</td>\n    </tr>\n    <tr>\n      <th>11</th>\n      <td>924</td>\n      <td>15.692318</td>\n      <td>7.562157</td>\n      <td>0.008184</td>\n      <td>0.005666</td>\n      <td>717</td>\n      <td>0.116695</td>\n      <td>1000</td>\n      <td>sigmoid</td>\n      <td>2</td>\n      <td>...</td>\n      <td>1.433912</td>\n      <td>1.289789</td>\n      <td>1.384506</td>\n      <td>1.395075</td>\n      <td>1.239467</td>\n      <td>1.358836</td>\n      <td>1.211138</td>\n      <td>1.358611</td>\n      <td>0.095913</td>\n      <td>381</td>\n    </tr>\n    <tr>\n      <th>12</th>\n      <td>735</td>\n      <td>7.617891</td>\n      <td>0.855299</td>\n      <td>0.006874</td>\n      <td>0.003323</td>\n      <td>1094</td>\n      <td>0.246551</td>\n      <td>1000</td>\n      <td>sigmoid</td>\n      <td>1</td>\n      <td>...</td>\n      <td>1.477495</td>\n      <td>1.360335</td>\n      <td>1.441803</td>\n      <td>1.423592</td>\n      <td>1.246859</td>\n      <td>1.428324</td>\n      <td>1.316264</td>\n      <td>1.363990</td>\n      <td>0.073764</td>\n      <td>380</td>\n    </tr>\n    <tr>\n      <th>13</th>\n      <td>830</td>\n      <td>26.766311</td>\n      <td>2.377671</td>\n      <td>0.011663</td>\n      <td>0.008030</td>\n      <td>1151</td>\n      <td>0.016512</td>\n      <td>1000</td>\n      <td>sigmoid</td>\n      <td>1</td>\n      <td>...</td>\n      <td>1.484316</td>\n      <td>1.397069</td>\n      <td>1.460617</td>\n      <td>1.433910</td>\n      <td>1.278831</td>\n      <td>1.486624</td>\n      <td>1.234915</td>\n      <td>1.365693</td>\n      <td>0.095447</td>\n      <td>379</td>\n    </tr>\n    <tr>\n      <th>14</th>\n      <td>152</td>\n      <td>3.745774</td>\n      <td>1.547922</td>\n      <td>0.003478</td>\n      <td>0.000786</td>\n      <td>594</td>\n      <td>0.005604</td>\n      <td>1000</td>\n      <td>relu</td>\n      <td>2</td>\n      <td>...</td>\n      <td>1.482474</td>\n      <td>1.416218</td>\n      <td>1.463315</td>\n      <td>1.421441</td>\n      <td>1.233335</td>\n      <td>1.498789</td>\n      <td>1.268555</td>\n      <td>1.372004</td>\n      <td>0.091046</td>\n      <td>378</td>\n    </tr>\n    <tr>\n      <th>15</th>\n      <td>886</td>\n      <td>16.616689</td>\n      <td>2.669558</td>\n      <td>0.010685</td>\n      <td>0.008930</td>\n      <td>1244</td>\n      <td>0.012105</td>\n      <td>1000</td>\n      <td>tanh</td>\n      <td>1</td>\n      <td>...</td>\n      <td>1.502119</td>\n      <td>1.385505</td>\n      <td>1.491684</td>\n      <td>1.423479</td>\n      <td>1.285234</td>\n      <td>1.434070</td>\n      <td>1.293050</td>\n      <td>1.377234</td>\n      <td>0.080868</td>\n      <td>377</td>\n    </tr>\n    <tr>\n      <th>16</th>\n      <td>229</td>\n      <td>10.059516</td>\n      <td>3.681904</td>\n      <td>0.010315</td>\n      <td>0.008188</td>\n      <td>1222</td>\n      <td>0.096857</td>\n      <td>1000</td>\n      <td>sigmoid</td>\n      <td>2</td>\n      <td>...</td>\n      <td>1.493174</td>\n      <td>1.353033</td>\n      <td>1.485046</td>\n      <td>1.429888</td>\n      <td>1.298309</td>\n      <td>1.414410</td>\n      <td>1.308126</td>\n      <td>1.382877</td>\n      <td>0.069538</td>\n      <td>376</td>\n    </tr>\n    <tr>\n      <th>17</th>\n      <td>518</td>\n      <td>5.357539</td>\n      <td>0.638866</td>\n      <td>0.005689</td>\n      <td>0.003844</td>\n      <td>660</td>\n      <td>0.023775</td>\n      <td>1000</td>\n      <td>relu</td>\n      <td>1</td>\n      <td>...</td>\n      <td>1.466307</td>\n      <td>1.429535</td>\n      <td>1.490877</td>\n      <td>1.460112</td>\n      <td>1.261787</td>\n      <td>1.472551</td>\n      <td>1.262071</td>\n      <td>1.385379</td>\n      <td>0.087257</td>\n      <td>375</td>\n    </tr>\n    <tr>\n      <th>18</th>\n      <td>28</td>\n      <td>3.005441</td>\n      <td>0.671426</td>\n      <td>0.003869</td>\n      <td>0.001109</td>\n      <td>535</td>\n      <td>0.011094</td>\n      <td>1000</td>\n      <td>relu</td>\n      <td>1</td>\n      <td>...</td>\n      <td>1.463942</td>\n      <td>1.443947</td>\n      <td>1.505607</td>\n      <td>1.521138</td>\n      <td>1.237264</td>\n      <td>1.494564</td>\n      <td>1.259029</td>\n      <td>1.394794</td>\n      <td>0.099295</td>\n      <td>374</td>\n    </tr>\n    <tr>\n      <th>19</th>\n      <td>109</td>\n      <td>2.455651</td>\n      <td>0.512163</td>\n      <td>0.003281</td>\n      <td>0.000847</td>\n      <td>949</td>\n      <td>0.043839</td>\n      <td>1000</td>\n      <td>sigmoid</td>\n      <td>1</td>\n      <td>...</td>\n      <td>1.472872</td>\n      <td>1.439806</td>\n      <td>1.474941</td>\n      <td>1.494452</td>\n      <td>1.345361</td>\n      <td>1.525735</td>\n      <td>1.338055</td>\n      <td>1.404371</td>\n      <td>0.086276</td>\n      <td>373</td>\n    </tr>\n    <tr>\n      <th>20</th>\n      <td>288</td>\n      <td>9.462072</td>\n      <td>1.293576</td>\n      <td>0.010867</td>\n      <td>0.006848</td>\n      <td>877</td>\n      <td>0.020529</td>\n      <td>1000</td>\n      <td>sigmoid</td>\n      <td>1</td>\n      <td>...</td>\n      <td>1.516437</td>\n      <td>1.427579</td>\n      <td>1.519470</td>\n      <td>1.474705</td>\n      <td>1.331441</td>\n      <td>1.507971</td>\n      <td>1.350454</td>\n      <td>1.417174</td>\n      <td>0.081269</td>\n      <td>372</td>\n    </tr>\n    <tr>\n      <th>21</th>\n      <td>345</td>\n      <td>5.783274</td>\n      <td>0.621399</td>\n      <td>0.011698</td>\n      <td>0.009893</td>\n      <td>975</td>\n      <td>0.228923</td>\n      <td>1000</td>\n      <td>sigmoid</td>\n      <td>1</td>\n      <td>...</td>\n      <td>1.553031</td>\n      <td>1.409480</td>\n      <td>1.534142</td>\n      <td>1.504119</td>\n      <td>1.326997</td>\n      <td>1.517065</td>\n      <td>1.343138</td>\n      <td>1.428149</td>\n      <td>0.094212</td>\n      <td>371</td>\n    </tr>\n    <tr>\n      <th>22</th>\n      <td>295</td>\n      <td>10.565968</td>\n      <td>3.681676</td>\n      <td>0.011023</td>\n      <td>0.006260</td>\n      <td>372</td>\n      <td>0.039905</td>\n      <td>1000</td>\n      <td>sigmoid</td>\n      <td>1</td>\n      <td>...</td>\n      <td>1.607974</td>\n      <td>1.403873</td>\n      <td>1.513758</td>\n      <td>1.485591</td>\n      <td>1.358284</td>\n      <td>1.508334</td>\n      <td>1.345642</td>\n      <td>1.429868</td>\n      <td>0.091382</td>\n      <td>370</td>\n    </tr>\n    <tr>\n      <th>23</th>\n      <td>656</td>\n      <td>18.230536</td>\n      <td>1.695092</td>\n      <td>0.009973</td>\n      <td>0.006075</td>\n      <td>726</td>\n      <td>0.007065</td>\n      <td>1000</td>\n      <td>relu</td>\n      <td>1</td>\n      <td>...</td>\n      <td>1.500955</td>\n      <td>1.475010</td>\n      <td>1.548602</td>\n      <td>1.537420</td>\n      <td>1.293954</td>\n      <td>1.524752</td>\n      <td>1.300947</td>\n      <td>1.432884</td>\n      <td>0.095163</td>\n      <td>369</td>\n    </tr>\n    <tr>\n      <th>24</th>\n      <td>330</td>\n      <td>4.759098</td>\n      <td>2.375985</td>\n      <td>0.012405</td>\n      <td>0.013909</td>\n      <td>862</td>\n      <td>0.052093</td>\n      <td>1000</td>\n      <td>tanh</td>\n      <td>1</td>\n      <td>...</td>\n      <td>1.488133</td>\n      <td>1.431307</td>\n      <td>1.431400</td>\n      <td>1.443803</td>\n      <td>1.389586</td>\n      <td>1.593613</td>\n      <td>1.360977</td>\n      <td>1.435837</td>\n      <td>0.077900</td>\n      <td>368</td>\n    </tr>\n    <tr>\n      <th>25</th>\n      <td>722</td>\n      <td>4.302892</td>\n      <td>1.396021</td>\n      <td>0.009036</td>\n      <td>0.007686</td>\n      <td>501</td>\n      <td>0.063805</td>\n      <td>1000</td>\n      <td>sigmoid</td>\n      <td>1</td>\n      <td>...</td>\n      <td>1.572432</td>\n      <td>1.429602</td>\n      <td>1.504416</td>\n      <td>1.521584</td>\n      <td>1.356418</td>\n      <td>1.484543</td>\n      <td>1.365584</td>\n      <td>1.438810</td>\n      <td>0.075661</td>\n      <td>367</td>\n    </tr>\n    <tr>\n      <th>26</th>\n      <td>164</td>\n      <td>3.816952</td>\n      <td>0.410310</td>\n      <td>0.003331</td>\n      <td>0.000992</td>\n      <td>739</td>\n      <td>0.017914</td>\n      <td>1000</td>\n      <td>relu</td>\n      <td>1</td>\n      <td>...</td>\n      <td>1.529568</td>\n      <td>1.509437</td>\n      <td>1.545890</td>\n      <td>1.527160</td>\n      <td>1.294331</td>\n      <td>1.535586</td>\n      <td>1.293822</td>\n      <td>1.439224</td>\n      <td>0.100009</td>\n      <td>366</td>\n    </tr>\n    <tr>\n      <th>27</th>\n      <td>831</td>\n      <td>12.871854</td>\n      <td>4.019388</td>\n      <td>0.010564</td>\n      <td>0.008849</td>\n      <td>704</td>\n      <td>0.241696</td>\n      <td>1000</td>\n      <td>sigmoid</td>\n      <td>1</td>\n      <td>...</td>\n      <td>1.250063</td>\n      <td>1.251887</td>\n      <td>3.642240</td>\n      <td>1.216611</td>\n      <td>1.136698</td>\n      <td>1.310461</td>\n      <td>1.094869</td>\n      <td>1.440157</td>\n      <td>0.737207</td>\n      <td>365</td>\n    </tr>\n    <tr>\n      <th>28</th>\n      <td>451</td>\n      <td>5.691445</td>\n      <td>0.563851</td>\n      <td>0.006994</td>\n      <td>0.004488</td>\n      <td>596</td>\n      <td>0.044471</td>\n      <td>1000</td>\n      <td>tanh</td>\n      <td>2</td>\n      <td>...</td>\n      <td>1.704133</td>\n      <td>1.383293</td>\n      <td>1.533663</td>\n      <td>1.442343</td>\n      <td>1.381034</td>\n      <td>1.468818</td>\n      <td>1.336353</td>\n      <td>1.444814</td>\n      <td>0.104422</td>\n      <td>364</td>\n    </tr>\n    <tr>\n      <th>29</th>\n      <td>688</td>\n      <td>3.752972</td>\n      <td>0.410279</td>\n      <td>0.012966</td>\n      <td>0.007869</td>\n      <td>528</td>\n      <td>0.052446</td>\n      <td>1000</td>\n      <td>sigmoid</td>\n      <td>1</td>\n      <td>...</td>\n      <td>1.597841</td>\n      <td>1.462751</td>\n      <td>1.548783</td>\n      <td>1.530766</td>\n      <td>1.339762</td>\n      <td>1.533615</td>\n      <td>1.334537</td>\n      <td>1.445658</td>\n      <td>0.096053</td>\n      <td>363</td>\n    </tr>\n    <tr>\n      <th>30</th>\n      <td>53</td>\n      <td>2.823572</td>\n      <td>0.685842</td>\n      <td>0.003139</td>\n      <td>0.000691</td>\n      <td>618</td>\n      <td>0.012016</td>\n      <td>1000</td>\n      <td>relu</td>\n      <td>1</td>\n      <td>...</td>\n      <td>1.619635</td>\n      <td>1.496931</td>\n      <td>1.589800</td>\n      <td>1.498931</td>\n      <td>1.317059</td>\n      <td>1.493705</td>\n      <td>1.289563</td>\n      <td>1.447007</td>\n      <td>0.106747</td>\n      <td>362</td>\n    </tr>\n    <tr>\n      <th>31</th>\n      <td>920</td>\n      <td>51.951431</td>\n      <td>2.966716</td>\n      <td>0.007224</td>\n      <td>0.005657</td>\n      <td>770</td>\n      <td>0.008128</td>\n      <td>1000</td>\n      <td>sigmoid</td>\n      <td>1</td>\n      <td>...</td>\n      <td>1.605867</td>\n      <td>1.435675</td>\n      <td>1.544328</td>\n      <td>1.543018</td>\n      <td>1.353755</td>\n      <td>1.584458</td>\n      <td>1.379135</td>\n      <td>1.458272</td>\n      <td>0.097419</td>\n      <td>361</td>\n    </tr>\n    <tr>\n      <th>32</th>\n      <td>542</td>\n      <td>3.351099</td>\n      <td>0.445862</td>\n      <td>0.005749</td>\n      <td>0.005515</td>\n      <td>675</td>\n      <td>0.235563</td>\n      <td>1000</td>\n      <td>sigmoid</td>\n      <td>2</td>\n      <td>...</td>\n      <td>1.530232</td>\n      <td>1.363383</td>\n      <td>2.151427</td>\n      <td>1.483574</td>\n      <td>1.361636</td>\n      <td>1.409460</td>\n      <td>1.285186</td>\n      <td>1.468516</td>\n      <td>0.238648</td>\n      <td>360</td>\n    </tr>\n    <tr>\n      <th>33</th>\n      <td>281</td>\n      <td>14.740869</td>\n      <td>2.154548</td>\n      <td>0.011866</td>\n      <td>0.008751</td>\n      <td>895</td>\n      <td>0.004914</td>\n      <td>1000</td>\n      <td>relu</td>\n      <td>2</td>\n      <td>...</td>\n      <td>1.511025</td>\n      <td>1.580157</td>\n      <td>1.618454</td>\n      <td>1.646033</td>\n      <td>1.326878</td>\n      <td>1.536944</td>\n      <td>1.274376</td>\n      <td>1.476739</td>\n      <td>0.122634</td>\n      <td>359</td>\n    </tr>\n    <tr>\n      <th>34</th>\n      <td>650</td>\n      <td>3.316423</td>\n      <td>0.856147</td>\n      <td>0.009135</td>\n      <td>0.005227</td>\n      <td>129</td>\n      <td>0.023077</td>\n      <td>1000</td>\n      <td>tanh</td>\n      <td>2</td>\n      <td>...</td>\n      <td>1.545197</td>\n      <td>1.625595</td>\n      <td>1.621379</td>\n      <td>1.474310</td>\n      <td>1.398647</td>\n      <td>1.642920</td>\n      <td>1.259076</td>\n      <td>1.479280</td>\n      <td>0.124837</td>\n      <td>358</td>\n    </tr>\n    <tr>\n      <th>35</th>\n      <td>775</td>\n      <td>7.140148</td>\n      <td>0.996205</td>\n      <td>0.010119</td>\n      <td>0.007730</td>\n      <td>1297</td>\n      <td>0.016517</td>\n      <td>1000</td>\n      <td>relu</td>\n      <td>1</td>\n      <td>...</td>\n      <td>1.596913</td>\n      <td>1.554032</td>\n      <td>1.604878</td>\n      <td>1.634055</td>\n      <td>1.336478</td>\n      <td>1.591878</td>\n      <td>1.367378</td>\n      <td>1.497210</td>\n      <td>0.107916</td>\n      <td>357</td>\n    </tr>\n    <tr>\n      <th>36</th>\n      <td>714</td>\n      <td>5.903561</td>\n      <td>1.466624</td>\n      <td>0.005803</td>\n      <td>0.003831</td>\n      <td>298</td>\n      <td>0.174410</td>\n      <td>1000</td>\n      <td>sigmoid</td>\n      <td>2</td>\n      <td>...</td>\n      <td>1.450773</td>\n      <td>1.515578</td>\n      <td>1.535323</td>\n      <td>1.517595</td>\n      <td>1.425552</td>\n      <td>1.642450</td>\n      <td>1.270799</td>\n      <td>1.501752</td>\n      <td>0.142017</td>\n      <td>356</td>\n    </tr>\n    <tr>\n      <th>37</th>\n      <td>143</td>\n      <td>6.090624</td>\n      <td>1.002694</td>\n      <td>0.005353</td>\n      <td>0.005377</td>\n      <td>567</td>\n      <td>0.007149</td>\n      <td>1000</td>\n      <td>tanh</td>\n      <td>2</td>\n      <td>...</td>\n      <td>1.610695</td>\n      <td>1.444178</td>\n      <td>1.594538</td>\n      <td>1.541168</td>\n      <td>1.428272</td>\n      <td>1.551904</td>\n      <td>1.449977</td>\n      <td>1.509962</td>\n      <td>0.061549</td>\n      <td>355</td>\n    </tr>\n    <tr>\n      <th>38</th>\n      <td>203</td>\n      <td>4.096794</td>\n      <td>1.316062</td>\n      <td>0.007301</td>\n      <td>0.006344</td>\n      <td>402</td>\n      <td>0.069448</td>\n      <td>1000</td>\n      <td>tanh</td>\n      <td>1</td>\n      <td>...</td>\n      <td>1.694189</td>\n      <td>1.448994</td>\n      <td>1.485263</td>\n      <td>1.383643</td>\n      <td>1.363298</td>\n      <td>2.766751</td>\n      <td>1.225468</td>\n      <td>1.519621</td>\n      <td>0.437555</td>\n      <td>354</td>\n    </tr>\n    <tr>\n      <th>39</th>\n      <td>737</td>\n      <td>5.563619</td>\n      <td>3.077834</td>\n      <td>0.007923</td>\n      <td>0.005946</td>\n      <td>498</td>\n      <td>0.014100</td>\n      <td>1000</td>\n      <td>tanh</td>\n      <td>1</td>\n      <td>...</td>\n      <td>1.708723</td>\n      <td>1.472992</td>\n      <td>1.594025</td>\n      <td>1.550990</td>\n      <td>1.465836</td>\n      <td>1.619918</td>\n      <td>1.395692</td>\n      <td>1.523130</td>\n      <td>0.093537</td>\n      <td>353</td>\n    </tr>\n    <tr>\n      <th>40</th>\n      <td>842</td>\n      <td>2.697883</td>\n      <td>0.195100</td>\n      <td>0.014336</td>\n      <td>0.011173</td>\n      <td>249</td>\n      <td>0.027935</td>\n      <td>1000</td>\n      <td>tanh</td>\n      <td>1</td>\n      <td>...</td>\n      <td>1.670894</td>\n      <td>1.496866</td>\n      <td>1.656205</td>\n      <td>1.586055</td>\n      <td>1.406687</td>\n      <td>1.596513</td>\n      <td>1.440382</td>\n      <td>1.525978</td>\n      <td>0.096845</td>\n      <td>352</td>\n    </tr>\n    <tr>\n      <th>41</th>\n      <td>2</td>\n      <td>0.620841</td>\n      <td>0.089267</td>\n      <td>0.002921</td>\n      <td>0.000795</td>\n      <td>168</td>\n      <td>0.039188</td>\n      <td>1000</td>\n      <td>sigmoid</td>\n      <td>1</td>\n      <td>...</td>\n      <td>1.692912</td>\n      <td>1.474423</td>\n      <td>1.614868</td>\n      <td>1.608933</td>\n      <td>1.448969</td>\n      <td>1.603045</td>\n      <td>1.444597</td>\n      <td>1.526502</td>\n      <td>0.092822</td>\n      <td>351</td>\n    </tr>\n    <tr>\n      <th>42</th>\n      <td>37</td>\n      <td>1.543744</td>\n      <td>0.255610</td>\n      <td>0.004262</td>\n      <td>0.001183</td>\n      <td>1088</td>\n      <td>0.057068</td>\n      <td>1000</td>\n      <td>sigmoid</td>\n      <td>1</td>\n      <td>...</td>\n      <td>1.738363</td>\n      <td>1.512261</td>\n      <td>1.659190</td>\n      <td>1.658764</td>\n      <td>1.443159</td>\n      <td>1.611009</td>\n      <td>1.450742</td>\n      <td>1.544908</td>\n      <td>0.111174</td>\n      <td>350</td>\n    </tr>\n    <tr>\n      <th>43</th>\n      <td>798</td>\n      <td>5.314085</td>\n      <td>1.166658</td>\n      <td>0.006266</td>\n      <td>0.002760</td>\n      <td>309</td>\n      <td>0.197144</td>\n      <td>1000</td>\n      <td>sigmoid</td>\n      <td>1</td>\n      <td>...</td>\n      <td>1.418477</td>\n      <td>1.464997</td>\n      <td>1.602355</td>\n      <td>2.856414</td>\n      <td>1.323509</td>\n      <td>1.774096</td>\n      <td>1.224448</td>\n      <td>1.546912</td>\n      <td>0.467924</td>\n      <td>349</td>\n    </tr>\n    <tr>\n      <th>44</th>\n      <td>604</td>\n      <td>1.973057</td>\n      <td>0.393956</td>\n      <td>0.007080</td>\n      <td>0.004048</td>\n      <td>874</td>\n      <td>0.050659</td>\n      <td>1000</td>\n      <td>tanh</td>\n      <td>1</td>\n      <td>...</td>\n      <td>1.539193</td>\n      <td>1.593926</td>\n      <td>1.573693</td>\n      <td>1.557622</td>\n      <td>1.529426</td>\n      <td>1.640849</td>\n      <td>1.600182</td>\n      <td>1.547359</td>\n      <td>0.059990</td>\n      <td>348</td>\n    </tr>\n    <tr>\n      <th>45</th>\n      <td>324</td>\n      <td>5.067255</td>\n      <td>1.064447</td>\n      <td>0.006494</td>\n      <td>0.004023</td>\n      <td>479</td>\n      <td>0.105912</td>\n      <td>1000</td>\n      <td>tanh</td>\n      <td>2</td>\n      <td>...</td>\n      <td>1.426240</td>\n      <td>1.378877</td>\n      <td>1.350010</td>\n      <td>1.528860</td>\n      <td>1.269604</td>\n      <td>2.690303</td>\n      <td>1.390162</td>\n      <td>1.552164</td>\n      <td>0.427688</td>\n      <td>347</td>\n    </tr>\n    <tr>\n      <th>46</th>\n      <td>400</td>\n      <td>44.204896</td>\n      <td>4.814950</td>\n      <td>0.009386</td>\n      <td>0.008060</td>\n      <td>537</td>\n      <td>0.003303</td>\n      <td>1000</td>\n      <td>sigmoid</td>\n      <td>2</td>\n      <td>...</td>\n      <td>1.753373</td>\n      <td>1.526504</td>\n      <td>1.656774</td>\n      <td>1.670347</td>\n      <td>1.463719</td>\n      <td>1.566685</td>\n      <td>1.497574</td>\n      <td>1.559401</td>\n      <td>0.098652</td>\n      <td>346</td>\n    </tr>\n    <tr>\n      <th>47</th>\n      <td>325</td>\n      <td>21.727147</td>\n      <td>1.147839</td>\n      <td>0.011152</td>\n      <td>0.006630</td>\n      <td>326</td>\n      <td>0.009109</td>\n      <td>1000</td>\n      <td>sigmoid</td>\n      <td>2</td>\n      <td>...</td>\n      <td>1.780629</td>\n      <td>1.560104</td>\n      <td>1.687180</td>\n      <td>1.670613</td>\n      <td>1.516436</td>\n      <td>1.601448</td>\n      <td>1.514826</td>\n      <td>1.587333</td>\n      <td>0.092857</td>\n      <td>345</td>\n    </tr>\n    <tr>\n      <th>48</th>\n      <td>201</td>\n      <td>2.319599</td>\n      <td>0.360707</td>\n      <td>0.008042</td>\n      <td>0.006089</td>\n      <td>340</td>\n      <td>0.014762</td>\n      <td>1000</td>\n      <td>tanh</td>\n      <td>1</td>\n      <td>...</td>\n      <td>1.794776</td>\n      <td>1.524506</td>\n      <td>1.670637</td>\n      <td>1.645075</td>\n      <td>1.508961</td>\n      <td>1.673311</td>\n      <td>1.502097</td>\n      <td>1.594893</td>\n      <td>0.096568</td>\n      <td>344</td>\n    </tr>\n    <tr>\n      <th>49</th>\n      <td>673</td>\n      <td>6.218212</td>\n      <td>2.236536</td>\n      <td>0.017268</td>\n      <td>0.011803</td>\n      <td>140</td>\n      <td>0.040751</td>\n      <td>1000</td>\n      <td>sigmoid</td>\n      <td>2</td>\n      <td>...</td>\n      <td>1.748333</td>\n      <td>1.590751</td>\n      <td>1.692842</td>\n      <td>1.672221</td>\n      <td>1.495621</td>\n      <td>1.590919</td>\n      <td>1.498629</td>\n      <td>1.596723</td>\n      <td>0.085220</td>\n      <td>343</td>\n    </tr>\n  </tbody>\n</table>\n<p>50 rows × 29 columns</p>\n</div>"
     },
     "metadata": {}
    }
   ],
   "execution_count": null
  },
  {
   "cell_type": "code",
   "metadata": {
    "cell_id": "00017-f984ff7d-b27c-4f70-9063-55b9ea3a50cb",
    "deepnote_to_be_reexecuted": false,
    "execution_millis": 4040044,
    "execution_start": 1642976875613,
    "output_cleared": false,
    "source_hash": "9dd11431",
    "deepnote_cell_type": "code"
   },
   "source": "#get the best params for the grid search (cannot use rand_gs.best_estimator directly since it will yield the worst estimator based on MEE)\nbest_params = df_results['params'][0]\nprint(f\"Mean error on the {k}-folds (MEE) on best model: {df_results['mean_test_score'][0]}\\n\")\nprint(f\"Best params: {best_params}\")",
   "outputs": [
    {
     "name": "stdout",
     "text": "Mean error on the 10-folds (MEE) on best model: 1.1989505562950025\n\nBest params: {'batch_size': 733, 'lr': 0.13831117287440775, 'max_epochs': 1000, 'module__activation_fun': 'sigmoid', 'module__hidden_layers': 1, 'module__num_units': 10, 'optimizer': <class 'torch.optim.sgd.SGD'>, 'optimizer__momentum': 0.8, 'optimizer__nesterov': False, 'optimizer__weight_decay': 0.006135549440395483}\n",
     "output_type": "stream"
    }
   ],
   "execution_count": null
  },
  {
   "cell_type": "code",
   "metadata": {
    "cell_id": "00029-db8353f7-b3dc-487b-9f7c-a54f65ec1d6b",
    "deepnote_to_be_reexecuted": false,
    "execution_millis": 4040026,
    "execution_start": 1642976875626,
    "output_cleared": true,
    "source_hash": "6a36063c",
    "deepnote_cell_type": "code"
   },
   "source": "@dataclass\nclass GridSearchRanges:\n    '''Class of keeping track of the min and max values for the hyperparameters tuning'''\n    \n    hidden_layers = []\n    min_lr = 0\n    max_lr = 0\n    min_num_units = 0\n    max_num_units = 0\n    min_weight_decay = 0\n    max_weight_decay = 0\n    min_bs = 0\n    max_bs = 0\n    \n    def set_ranges(self):\n\n        self.hidden_layers = np.unique(df_results['param_module__hidden_layers'])\n        self.hidden_layers = self.hidden_layers.ravel() #convert to array\n        print(f\"hidden layers: {self.hidden_layers}\")\n\n        self.min_lr = np.min(df_results['param_lr'])\n        self.max_lr = np.max(df_results['param_lr'])\n        print(f\"learning rate: [{self.min_lr}, {self.max_lr}]\")\n        \n        self.min_num_units = np.min(df_results['param_module__num_units'])\n        self.max_num_units = np.max(df_results['param_module__num_units'])\n        print(f\"num units: [{self.min_num_units}, {self.max_num_units}]\")\n\n        self.min_weight_decay = np.min(df_results['param_optimizer__weight_decay'])\n        self.max_weight_decay = np.max(df_results['param_optimizer__weight_decay'])\n        print(f\"weight decay: [{self.min_weight_decay}, {self.max_weight_decay}]\")\n\n        self.min_bs = np.min(df_results['param_batch_size'])\n        self.max_bs = np.max(df_results['param_batch_size'])\n        print(f\"batch size: [{self.min_bs}, {self.max_bs}]\")\n    \n    ",
   "outputs": [],
   "execution_count": null
  },
  {
   "cell_type": "code",
   "metadata": {
    "cell_id": "00030-902d7b17-b610-4d29-875e-d61dc1762acc",
    "deepnote_to_be_reexecuted": false,
    "execution_millis": 2,
    "execution_start": 1642976875627,
    "output_cleared": false,
    "source_hash": "9ccb58bf",
    "deepnote_cell_type": "code"
   },
   "source": "gs = GridSearchRanges()\ngs.set_ranges()",
   "outputs": [
    {
     "name": "stdout",
     "text": "hidden layers: [1 2]\nlearning rate: [0.0033031286950983, 0.2465512807408912]\nnum units: [10, 100]\nweight decay: [0.00164830663635, 0.1779256315307817]\nbatch size: [108, 1297]\n",
     "output_type": "stream"
    }
   ],
   "execution_count": null
  },
  {
   "cell_type": "markdown",
   "source": "### Second Randomized Search using min e max values",
   "metadata": {
    "cell_id": "00031-0c36ae95-8613-41e2-a7ef-023a8a4a84a2",
    "deepnote_cell_type": "markdown"
   }
  },
  {
   "cell_type": "code",
   "metadata": {
    "cell_id": "00032-11f757c0-1158-41aa-bc04-0588bcec3bf2",
    "deepnote_output_heights": [
     null,
     309.109375
    ],
    "deepnote_to_be_reexecuted": false,
    "execution_millis": 2,
    "execution_start": 1642976875714,
    "output_cleared": false,
    "source_hash": "19436eb9",
    "deepnote_cell_type": "code"
   },
   "source": "%%time\n\n%%script false --no-raise-error  Wall time: 48min 31s (Michele)\n\n# to find the best set of parameter setting, we can run a randomized search\n\n# define the parameters' values\nparams = {\n    'lr': uniform(gs.min_lr, gs.max_lr),\n    'max_epochs': [1000], #upper bound of max number of epochs\n    'optimizer': [torch.optim.SGD],\n    'optimizer__momentum': [0.9, 0.95], ##optimizer__ indicates that it is a parameter of the optimizer\n    'optimizer__weight_decay': uniform(gs.min_weight_decay, gs.max_weight_decay),\n    'optimizer__nesterov': [False, True],\n    'module__num_units': randint(gs.min_num_units, gs.max_num_units), #module__ indicates that it is a parameter of the module\n    'module__hidden_layers': [1,2],\n    'module__activation_fun': [\"sigmoid\", \"tanh\", \"relu\"],\n    'batch_size': randint(gs.min_bs, gs.max_bs),\n}\n\n# define the grid search\nrand_gs = RandomizedSearchCV(\n    model,\n    param_distributions=params,\n    n_iter=n_iter_search,\n    n_jobs=-1,\n    scoring=make_scorer(mee), \n    cv=k,\n    random_state=RS_NUMBER,\n    verbose=10\n)\n# run the grid search\nrand_gs.fit(X, y)\n",
   "outputs": [
    {
     "name": "stdout",
     "text": "CPU times: user 9.85 ms, sys: 1.06 ms, total: 10.9 ms\nWall time: 94.4 ms\n",
     "output_type": "stream"
    }
   ],
   "execution_count": null
  },
  {
   "cell_type": "code",
   "metadata": {
    "cell_id": "00033-7e9b5a5d-376c-4152-8475-fd9cdeb0c14d",
    "deepnote_to_be_reexecuted": false,
    "execution_millis": 86,
    "execution_start": 1642976875728,
    "output_cleared": true,
    "source_hash": "3463c6b0",
    "deepnote_cell_type": "code"
   },
   "source": "%%script false --no-raise-error\n\ndf_results = pd.DataFrame(data=rand_gs.cv_results_) #trasform into a pandas dataframe\ndf_results.sort_values(by=\"rank_test_score\", axis=0, ascending=False, inplace=True) #sort rank values in decreasing order \ndf_results.dropna(inplace=True) #delete nan values \ndf_results = df_results[:50] #keep only top 50 models\npd.DataFrame.to_csv(df_results, \"pytorch_results/rand2_search.csv\")",
   "outputs": [],
   "execution_count": null
  },
  {
   "cell_type": "code",
   "metadata": {
    "cell_id": "00034-9ef3530c-044a-4bec-a17a-a807b89c0368",
    "deepnote_output_heights": [
     208.1875
    ],
    "deepnote_to_be_reexecuted": false,
    "execution_millis": 145,
    "execution_start": 1642981572281,
    "output_cleared": false,
    "source_hash": "ad3314b5",
    "deepnote_cell_type": "code"
   },
   "source": "df_results = pd.read_csv(\"pytorch_results/rand2_search.csv\")\ndf_results",
   "outputs": [
    {
     "output_type": "execute_result",
     "execution_count": 33,
     "data": {
      "application/vnd.deepnote.dataframe.v3+json": {
       "column_count": 29,
       "row_count": 50,
       "columns": [
        {
         "name": "Unnamed: 0",
         "dtype": "int64",
         "stats": {
          "unique_count": 50,
          "nan_count": 0,
          "min": "28",
          "max": "985",
          "histogram": [
           {
            "bin_start": 28,
            "bin_end": 123.7,
            "count": 6
           },
           {
            "bin_start": 123.7,
            "bin_end": 219.4,
            "count": 7
           },
           {
            "bin_start": 219.4,
            "bin_end": 315.1,
            "count": 8
           },
           {
            "bin_start": 315.1,
            "bin_end": 410.8,
            "count": 5
           },
           {
            "bin_start": 410.8,
            "bin_end": 506.5,
            "count": 4
           },
           {
            "bin_start": 506.5,
            "bin_end": 602.2,
            "count": 3
           },
           {
            "bin_start": 602.2,
            "bin_end": 697.9,
            "count": 6
           },
           {
            "bin_start": 697.9,
            "bin_end": 793.6,
            "count": 2
           },
           {
            "bin_start": 793.6,
            "bin_end": 889.3000000000001,
            "count": 5
           },
           {
            "bin_start": 889.3000000000001,
            "bin_end": 985,
            "count": 4
           }
          ]
         }
        },
        {
         "name": "mean_fit_time",
         "dtype": "float64",
         "stats": {
          "unique_count": 50,
          "nan_count": 0,
          "min": "1.7214348554611203",
          "max": "27.33430647850037",
          "histogram": [
           {
            "bin_start": 1.7214348554611203,
            "bin_end": 4.282722017765045,
            "count": 16
           },
           {
            "bin_start": 4.282722017765045,
            "bin_end": 6.84400918006897,
            "count": 15
           },
           {
            "bin_start": 6.84400918006897,
            "bin_end": 9.405296342372896,
            "count": 7
           },
           {
            "bin_start": 9.405296342372896,
            "bin_end": 11.966583504676821,
            "count": 8
           },
           {
            "bin_start": 11.966583504676821,
            "bin_end": 14.527870666980746,
            "count": 2
           },
           {
            "bin_start": 14.527870666980746,
            "bin_end": 17.08915782928467,
            "count": 1
           },
           {
            "bin_start": 17.08915782928467,
            "bin_end": 19.650444991588593,
            "count": 0
           },
           {
            "bin_start": 19.650444991588593,
            "bin_end": 22.21173215389252,
            "count": 0
           },
           {
            "bin_start": 22.21173215389252,
            "bin_end": 24.773019316196446,
            "count": 0
           },
           {
            "bin_start": 24.773019316196446,
            "bin_end": 27.33430647850037,
            "count": 1
           }
          ]
         }
        },
        {
         "name": "std_fit_time",
         "dtype": "float64",
         "stats": {
          "unique_count": 50,
          "nan_count": 0,
          "min": "0.1505443495814985",
          "max": "3.874964578393153",
          "histogram": [
           {
            "bin_start": 0.1505443495814985,
            "bin_end": 0.522986372462664,
            "count": 8
           },
           {
            "bin_start": 0.522986372462664,
            "bin_end": 0.8954283953438295,
            "count": 14
           },
           {
            "bin_start": 0.8954283953438295,
            "bin_end": 1.267870418224995,
            "count": 8
           },
           {
            "bin_start": 1.267870418224995,
            "bin_end": 1.6403124411061603,
            "count": 10
           },
           {
            "bin_start": 1.6403124411061603,
            "bin_end": 2.0127544639873256,
            "count": 2
           },
           {
            "bin_start": 2.0127544639873256,
            "bin_end": 2.3851964868684914,
            "count": 0
           },
           {
            "bin_start": 2.3851964868684914,
            "bin_end": 2.7576385097496567,
            "count": 3
           },
           {
            "bin_start": 2.7576385097496567,
            "bin_end": 3.130080532630822,
            "count": 2
           },
           {
            "bin_start": 3.130080532630822,
            "bin_end": 3.5025225555119874,
            "count": 1
           },
           {
            "bin_start": 3.5025225555119874,
            "bin_end": 3.874964578393153,
            "count": 2
           }
          ]
         }
        },
        {
         "name": "mean_score_time",
         "dtype": "float64",
         "stats": {
          "unique_count": 50,
          "nan_count": 0,
          "min": "0.0040467739105224",
          "max": "0.0192302942276",
          "histogram": [
           {
            "bin_start": 0.0040467739105224,
            "bin_end": 0.005565125942230159,
            "count": 3
           },
           {
            "bin_start": 0.005565125942230159,
            "bin_end": 0.007083477973937919,
            "count": 9
           },
           {
            "bin_start": 0.007083477973937919,
            "bin_end": 0.00860183000564568,
            "count": 9
           },
           {
            "bin_start": 0.00860183000564568,
            "bin_end": 0.010120182037353438,
            "count": 7
           },
           {
            "bin_start": 0.010120182037353438,
            "bin_end": 0.0116385340690612,
            "count": 11
           },
           {
            "bin_start": 0.0116385340690612,
            "bin_end": 0.013156886100768959,
            "count": 3
           },
           {
            "bin_start": 0.013156886100768959,
            "bin_end": 0.014675238132476717,
            "count": 5
           },
           {
            "bin_start": 0.014675238132476717,
            "bin_end": 0.01619359016418448,
            "count": 1
           },
           {
            "bin_start": 0.01619359016418448,
            "bin_end": 0.017711942195892238,
            "count": 1
           },
           {
            "bin_start": 0.017711942195892238,
            "bin_end": 0.0192302942276,
            "count": 1
           }
          ]
         }
        },
        {
         "name": "std_score_time",
         "dtype": "float64",
         "stats": {
          "unique_count": 50,
          "nan_count": 0,
          "min": "0.001465833807905",
          "max": "0.012718090004134",
          "histogram": [
           {
            "bin_start": 0.001465833807905,
            "bin_end": 0.0025910594275279,
            "count": 3
           },
           {
            "bin_start": 0.0025910594275279,
            "bin_end": 0.0037162850471508,
            "count": 2
           },
           {
            "bin_start": 0.0037162850471508,
            "bin_end": 0.0048415106667737,
            "count": 6
           },
           {
            "bin_start": 0.0048415106667737,
            "bin_end": 0.005966736286396599,
            "count": 6
           },
           {
            "bin_start": 0.005966736286396599,
            "bin_end": 0.0070919619060195,
            "count": 12
           },
           {
            "bin_start": 0.0070919619060195,
            "bin_end": 0.0082171875256424,
            "count": 10
           },
           {
            "bin_start": 0.0082171875256424,
            "bin_end": 0.009342413145265299,
            "count": 3
           },
           {
            "bin_start": 0.009342413145265299,
            "bin_end": 0.0104676387648882,
            "count": 5
           },
           {
            "bin_start": 0.0104676387648882,
            "bin_end": 0.0115928643845111,
            "count": 0
           },
           {
            "bin_start": 0.0115928643845111,
            "bin_end": 0.012718090004134,
            "count": 3
           }
          ]
         }
        },
        {
         "name": "param_batch_size",
         "dtype": "int64",
         "stats": {
          "unique_count": 50,
          "nan_count": 0,
          "min": "135",
          "max": "1267",
          "histogram": [
           {
            "bin_start": 135,
            "bin_end": 248.2,
            "count": 5
           },
           {
            "bin_start": 248.2,
            "bin_end": 361.4,
            "count": 8
           },
           {
            "bin_start": 361.4,
            "bin_end": 474.6,
            "count": 3
           },
           {
            "bin_start": 474.6,
            "bin_end": 587.8,
            "count": 6
           },
           {
            "bin_start": 587.8,
            "bin_end": 701,
            "count": 3
           },
           {
            "bin_start": 701,
            "bin_end": 814.2,
            "count": 3
           },
           {
            "bin_start": 814.2,
            "bin_end": 927.4,
            "count": 4
           },
           {
            "bin_start": 927.4,
            "bin_end": 1040.6,
            "count": 3
           },
           {
            "bin_start": 1040.6,
            "bin_end": 1153.8000000000002,
            "count": 9
           },
           {
            "bin_start": 1153.8000000000002,
            "bin_end": 1267,
            "count": 6
           }
          ]
         }
        },
        {
         "name": "param_lr",
         "dtype": "float64",
         "stats": {
          "unique_count": 50,
          "nan_count": 0,
          "min": "0.0040161254038586",
          "max": "0.2110608835959579",
          "histogram": [
           {
            "bin_start": 0.0040161254038586,
            "bin_end": 0.02472060122306853,
            "count": 25
           },
           {
            "bin_start": 0.02472060122306853,
            "bin_end": 0.04542507704227846,
            "count": 12
           },
           {
            "bin_start": 0.04542507704227846,
            "bin_end": 0.06612955286148839,
            "count": 5
           },
           {
            "bin_start": 0.06612955286148839,
            "bin_end": 0.08683402868069831,
            "count": 3
           },
           {
            "bin_start": 0.08683402868069831,
            "bin_end": 0.10753850449990823,
            "count": 2
           },
           {
            "bin_start": 0.10753850449990823,
            "bin_end": 0.12824298031911818,
            "count": 2
           },
           {
            "bin_start": 0.12824298031911818,
            "bin_end": 0.1489474561383281,
            "count": 0
           },
           {
            "bin_start": 0.1489474561383281,
            "bin_end": 0.16965193195753803,
            "count": 0
           },
           {
            "bin_start": 0.16965193195753803,
            "bin_end": 0.19035640777674795,
            "count": 0
           },
           {
            "bin_start": 0.19035640777674795,
            "bin_end": 0.2110608835959579,
            "count": 1
           }
          ]
         }
        },
        {
         "name": "param_max_epochs",
         "dtype": "int64",
         "stats": {
          "unique_count": 1,
          "nan_count": 0,
          "min": "1000",
          "max": "1000",
          "histogram": [
           {
            "bin_start": 999.5,
            "bin_end": 999.6,
            "count": 0
           },
           {
            "bin_start": 999.6,
            "bin_end": 999.7,
            "count": 0
           },
           {
            "bin_start": 999.7,
            "bin_end": 999.8,
            "count": 0
           },
           {
            "bin_start": 999.8,
            "bin_end": 999.9,
            "count": 0
           },
           {
            "bin_start": 999.9,
            "bin_end": 1000,
            "count": 0
           },
           {
            "bin_start": 1000,
            "bin_end": 1000.1,
            "count": 50
           },
           {
            "bin_start": 1000.1,
            "bin_end": 1000.2,
            "count": 0
           },
           {
            "bin_start": 1000.2,
            "bin_end": 1000.3,
            "count": 0
           },
           {
            "bin_start": 1000.3,
            "bin_end": 1000.4,
            "count": 0
           },
           {
            "bin_start": 1000.4,
            "bin_end": 1000.5,
            "count": 0
           }
          ]
         }
        },
        {
         "name": "param_module__activation_fun",
         "dtype": "object",
         "stats": {
          "unique_count": 3,
          "nan_count": 0,
          "categories": [
           {
            "name": "sigmoid",
            "count": 22
           },
           {
            "name": "tanh",
            "count": 21
           },
           {
            "name": "relu",
            "count": 7
           }
          ]
         }
        },
        {
         "name": "param_module__hidden_layers",
         "dtype": "int64",
         "stats": {
          "unique_count": 2,
          "nan_count": 0,
          "min": "1",
          "max": "2",
          "histogram": [
           {
            "bin_start": 1,
            "bin_end": 1.1,
            "count": 26
           },
           {
            "bin_start": 1.1,
            "bin_end": 1.2,
            "count": 0
           },
           {
            "bin_start": 1.2,
            "bin_end": 1.3,
            "count": 0
           },
           {
            "bin_start": 1.3,
            "bin_end": 1.4,
            "count": 0
           },
           {
            "bin_start": 1.4,
            "bin_end": 1.5,
            "count": 0
           },
           {
            "bin_start": 1.5,
            "bin_end": 1.6,
            "count": 0
           },
           {
            "bin_start": 1.6,
            "bin_end": 1.7000000000000002,
            "count": 0
           },
           {
            "bin_start": 1.7000000000000002,
            "bin_end": 1.8,
            "count": 0
           },
           {
            "bin_start": 1.8,
            "bin_end": 1.9,
            "count": 0
           },
           {
            "bin_start": 1.9,
            "bin_end": 2,
            "count": 24
           }
          ]
         }
        },
        {
         "name": "param_module__num_units",
         "dtype": "int64",
         "stats": {
          "unique_count": 36,
          "nan_count": 0,
          "min": "15",
          "max": "99",
          "histogram": [
           {
            "bin_start": 15,
            "bin_end": 23.4,
            "count": 8
           },
           {
            "bin_start": 23.4,
            "bin_end": 31.8,
            "count": 7
           },
           {
            "bin_start": 31.8,
            "bin_end": 40.2,
            "count": 12
           },
           {
            "bin_start": 40.2,
            "bin_end": 48.6,
            "count": 3
           },
           {
            "bin_start": 48.6,
            "bin_end": 57,
            "count": 6
           },
           {
            "bin_start": 57,
            "bin_end": 65.4,
            "count": 3
           },
           {
            "bin_start": 65.4,
            "bin_end": 73.80000000000001,
            "count": 2
           },
           {
            "bin_start": 73.80000000000001,
            "bin_end": 82.2,
            "count": 3
           },
           {
            "bin_start": 82.2,
            "bin_end": 90.60000000000001,
            "count": 3
           },
           {
            "bin_start": 90.60000000000001,
            "bin_end": 99,
            "count": 3
           }
          ]
         }
        },
        {
         "name": "param_optimizer",
         "dtype": "object",
         "stats": {
          "unique_count": 1,
          "nan_count": 0,
          "categories": [
           {
            "name": "<class 'torch.optim.sgd.SGD'>",
            "count": 50
           }
          ]
         }
        },
        {
         "name": "param_optimizer__momentum",
         "dtype": "float64",
         "stats": {
          "unique_count": 2,
          "nan_count": 0,
          "min": "0.9",
          "max": "0.95",
          "histogram": [
           {
            "bin_start": 0.9,
            "bin_end": 0.905,
            "count": 34
           },
           {
            "bin_start": 0.905,
            "bin_end": 0.91,
            "count": 0
           },
           {
            "bin_start": 0.91,
            "bin_end": 0.915,
            "count": 0
           },
           {
            "bin_start": 0.915,
            "bin_end": 0.92,
            "count": 0
           },
           {
            "bin_start": 0.92,
            "bin_end": 0.925,
            "count": 0
           },
           {
            "bin_start": 0.925,
            "bin_end": 0.9299999999999999,
            "count": 0
           },
           {
            "bin_start": 0.9299999999999999,
            "bin_end": 0.9349999999999999,
            "count": 0
           },
           {
            "bin_start": 0.9349999999999999,
            "bin_end": 0.94,
            "count": 0
           },
           {
            "bin_start": 0.94,
            "bin_end": 0.945,
            "count": 0
           },
           {
            "bin_start": 0.945,
            "bin_end": 0.95,
            "count": 16
           }
          ]
         }
        },
        {
         "name": "param_optimizer__nesterov",
         "dtype": "bool",
         "stats": {
          "unique_count": 2,
          "nan_count": 0,
          "categories": [
           {
            "name": "False",
            "count": 33
           },
           {
            "name": "True",
            "count": 17
           }
          ]
         }
        },
        {
         "name": "param_optimizer__weight_decay",
         "dtype": "float64",
         "stats": {
          "unique_count": 50,
          "nan_count": 0,
          "min": "0.0034158054342776",
          "max": "0.1573584568806924",
          "histogram": [
           {
            "bin_start": 0.0034158054342776,
            "bin_end": 0.018810070578919078,
            "count": 15
           },
           {
            "bin_start": 0.018810070578919078,
            "bin_end": 0.034204335723560554,
            "count": 9
           },
           {
            "bin_start": 0.034204335723560554,
            "bin_end": 0.04959860086820204,
            "count": 8
           },
           {
            "bin_start": 0.04959860086820204,
            "bin_end": 0.06499286601284351,
            "count": 4
           },
           {
            "bin_start": 0.06499286601284351,
            "bin_end": 0.08038713115748498,
            "count": 3
           },
           {
            "bin_start": 0.08038713115748498,
            "bin_end": 0.09578139630212647,
            "count": 2
           },
           {
            "bin_start": 0.09578139630212647,
            "bin_end": 0.11117566144676794,
            "count": 5
           },
           {
            "bin_start": 0.11117566144676794,
            "bin_end": 0.12656992659140942,
            "count": 1
           },
           {
            "bin_start": 0.12656992659140942,
            "bin_end": 0.1419641917360509,
            "count": 2
           },
           {
            "bin_start": 0.1419641917360509,
            "bin_end": 0.1573584568806924,
            "count": 1
           }
          ]
         }
        },
        {
         "name": "params",
         "dtype": "object",
         "stats": {
          "unique_count": 50,
          "nan_count": 0,
          "categories": [
           {
            "name": "{'batch_size': 1246, 'lr': 0.12681763559641845, 'max_epochs': 1000, 'module__activation_fun': 'sigmoid', 'module__hidden_layers': 1, 'module__num_units': 38, 'optimizer': <class 'torch.optim.sgd.SGD'>, 'optimizer__momentum': 0.9, 'optimizer__nesterov': False, 'optimizer__weight_decay': 0.0034158054342776204}",
            "count": 1
           },
           {
            "name": "{'batch_size': 188, 'lr': 0.014305461280066465, 'max_epochs': 1000, 'module__activation_fun': 'sigmoid', 'module__hidden_layers': 2, 'module__num_units': 19, 'optimizer': <class 'torch.optim.sgd.SGD'>, 'optimizer__momentum': 0.95, 'optimizer__nesterov': True, 'optimizer__weight_decay': 0.005560607766262103}",
            "count": 1
           },
           {
            "name": "48 others",
            "count": 48
           }
          ]
         }
        },
        {
         "name": "split0_test_score",
         "dtype": "float64",
         "stats": {
          "unique_count": 50,
          "nan_count": 0,
          "min": "1.0883267992981394",
          "max": "1.6335386121855642",
          "histogram": [
           {
            "bin_start": 1.0883267992981394,
            "bin_end": 1.1428479805868819,
            "count": 5
           },
           {
            "bin_start": 1.1428479805868819,
            "bin_end": 1.1973691618756244,
            "count": 6
           },
           {
            "bin_start": 1.1973691618756244,
            "bin_end": 1.2518903431643669,
            "count": 6
           },
           {
            "bin_start": 1.2518903431643669,
            "bin_end": 1.3064115244531094,
            "count": 8
           },
           {
            "bin_start": 1.3064115244531094,
            "bin_end": 1.3609327057418517,
            "count": 5
           },
           {
            "bin_start": 1.3609327057418517,
            "bin_end": 1.4154538870305942,
            "count": 9
           },
           {
            "bin_start": 1.4154538870305942,
            "bin_end": 1.4699750683193367,
            "count": 7
           },
           {
            "bin_start": 1.4699750683193367,
            "bin_end": 1.5244962496080792,
            "count": 2
           },
           {
            "bin_start": 1.5244962496080792,
            "bin_end": 1.5790174308968217,
            "count": 1
           },
           {
            "bin_start": 1.5790174308968217,
            "bin_end": 1.6335386121855642,
            "count": 1
           }
          ]
         }
        },
        {
         "name": "split1_test_score",
         "dtype": "float64",
         "stats": {
          "unique_count": 50,
          "nan_count": 0,
          "min": "1.0376051336078715",
          "max": "1.5677162941013063",
          "histogram": [
           {
            "bin_start": 1.0376051336078715,
            "bin_end": 1.090616249657215,
            "count": 4
           },
           {
            "bin_start": 1.090616249657215,
            "bin_end": 1.1436273657065585,
            "count": 5
           },
           {
            "bin_start": 1.1436273657065585,
            "bin_end": 1.196638481755902,
            "count": 6
           },
           {
            "bin_start": 1.196638481755902,
            "bin_end": 1.2496495978052455,
            "count": 8
           },
           {
            "bin_start": 1.2496495978052455,
            "bin_end": 1.302660713854589,
            "count": 2
           },
           {
            "bin_start": 1.302660713854589,
            "bin_end": 1.3556718299039323,
            "count": 4
           },
           {
            "bin_start": 1.3556718299039323,
            "bin_end": 1.408682945953276,
            "count": 11
           },
           {
            "bin_start": 1.408682945953276,
            "bin_end": 1.4616940620026193,
            "count": 9
           },
           {
            "bin_start": 1.4616940620026193,
            "bin_end": 1.514705178051963,
            "count": 0
           },
           {
            "bin_start": 1.514705178051963,
            "bin_end": 1.5677162941013063,
            "count": 1
           }
          ]
         }
        },
        {
         "name": "split2_test_score",
         "dtype": "float64",
         "stats": {
          "unique_count": 50,
          "nan_count": 0,
          "min": "1.157502470748093",
          "max": "1.5778206427742665",
          "histogram": [
           {
            "bin_start": 1.157502470748093,
            "bin_end": 1.1995342879507103,
            "count": 3
           },
           {
            "bin_start": 1.1995342879507103,
            "bin_end": 1.2415661051533278,
            "count": 3
           },
           {
            "bin_start": 1.2415661051533278,
            "bin_end": 1.283597922355945,
            "count": 5
           },
           {
            "bin_start": 1.283597922355945,
            "bin_end": 1.3256297395585623,
            "count": 6
           },
           {
            "bin_start": 1.3256297395585623,
            "bin_end": 1.3676615567611798,
            "count": 5
           },
           {
            "bin_start": 1.3676615567611798,
            "bin_end": 1.4096933739637971,
            "count": 6
           },
           {
            "bin_start": 1.4096933739637971,
            "bin_end": 1.4517251911664144,
            "count": 5
           },
           {
            "bin_start": 1.4517251911664144,
            "bin_end": 1.4937570083690317,
            "count": 7
           },
           {
            "bin_start": 1.4937570083690317,
            "bin_end": 1.5357888255716492,
            "count": 8
           },
           {
            "bin_start": 1.5357888255716492,
            "bin_end": 1.5778206427742665,
            "count": 2
           }
          ]
         }
        },
        {
         "name": "split3_test_score",
         "dtype": "float64",
         "stats": {
          "unique_count": 50,
          "nan_count": 0,
          "min": "1.2450782232742783",
          "max": "2.752069392374584",
          "histogram": [
           {
            "bin_start": 1.2450782232742783,
            "bin_end": 1.395777340184309,
            "count": 15
           },
           {
            "bin_start": 1.395777340184309,
            "bin_end": 1.5464764570943395,
            "count": 11
           },
           {
            "bin_start": 1.5464764570943395,
            "bin_end": 1.69717557400437,
            "count": 19
           },
           {
            "bin_start": 1.69717557400437,
            "bin_end": 1.8478746909144006,
            "count": 4
           },
           {
            "bin_start": 1.8478746909144006,
            "bin_end": 1.9985738078244313,
            "count": 0
           },
           {
            "bin_start": 1.9985738078244313,
            "bin_end": 2.1492729247344617,
            "count": 0
           },
           {
            "bin_start": 2.1492729247344617,
            "bin_end": 2.2999720416444926,
            "count": 0
           },
           {
            "bin_start": 2.2999720416444926,
            "bin_end": 2.450671158554523,
            "count": 0
           },
           {
            "bin_start": 2.450671158554523,
            "bin_end": 2.6013702754645536,
            "count": 0
           },
           {
            "bin_start": 2.6013702754645536,
            "bin_end": 2.752069392374584,
            "count": 1
           }
          ]
         }
        },
        {
         "name": "split4_test_score",
         "dtype": "float64",
         "stats": {
          "unique_count": 50,
          "nan_count": 0,
          "min": "1.210735345973556",
          "max": "1.7319356491159004",
          "histogram": [
           {
            "bin_start": 1.210735345973556,
            "bin_end": 1.2628553762877903,
            "count": 3
           },
           {
            "bin_start": 1.2628553762877903,
            "bin_end": 1.3149754066020247,
            "count": 7
           },
           {
            "bin_start": 1.3149754066020247,
            "bin_end": 1.3670954369162591,
            "count": 11
           },
           {
            "bin_start": 1.3670954369162591,
            "bin_end": 1.4192154672304937,
            "count": 2
           },
           {
            "bin_start": 1.4192154672304937,
            "bin_end": 1.4713354975447281,
            "count": 8
           },
           {
            "bin_start": 1.4713354975447281,
            "bin_end": 1.5234555278589625,
            "count": 11
           },
           {
            "bin_start": 1.5234555278589625,
            "bin_end": 1.575575558173197,
            "count": 6
           },
           {
            "bin_start": 1.575575558173197,
            "bin_end": 1.6276955884874313,
            "count": 1
           },
           {
            "bin_start": 1.6276955884874313,
            "bin_end": 1.679815618801666,
            "count": 0
           },
           {
            "bin_start": 1.679815618801666,
            "bin_end": 1.7319356491159004,
            "count": 1
           }
          ]
         }
        },
        {
         "name": "split5_test_score",
         "dtype": "float64",
         "stats": {
          "unique_count": 50,
          "nan_count": 0,
          "min": "1.2588730702470792",
          "max": "1.6489605845925503",
          "histogram": [
           {
            "bin_start": 1.2588730702470792,
            "bin_end": 1.2978818216816264,
            "count": 7
           },
           {
            "bin_start": 1.2978818216816264,
            "bin_end": 1.3368905731161733,
            "count": 1
           },
           {
            "bin_start": 1.3368905731161733,
            "bin_end": 1.3758993245507205,
            "count": 3
           },
           {
            "bin_start": 1.3758993245507205,
            "bin_end": 1.4149080759852677,
            "count": 7
           },
           {
            "bin_start": 1.4149080759852677,
            "bin_end": 1.4539168274198149,
            "count": 3
           },
           {
            "bin_start": 1.4539168274198149,
            "bin_end": 1.4929255788543618,
            "count": 3
           },
           {
            "bin_start": 1.4929255788543618,
            "bin_end": 1.531934330288909,
            "count": 6
           },
           {
            "bin_start": 1.531934330288909,
            "bin_end": 1.5709430817234562,
            "count": 3
           },
           {
            "bin_start": 1.5709430817234562,
            "bin_end": 1.6099518331580032,
            "count": 9
           },
           {
            "bin_start": 1.6099518331580032,
            "bin_end": 1.6489605845925503,
            "count": 8
           }
          ]
         }
        },
        {
         "name": "split6_test_score",
         "dtype": "float64",
         "stats": {
          "unique_count": 50,
          "nan_count": 0,
          "min": "1.180549298350076",
          "max": "2.014337654736705",
          "histogram": [
           {
            "bin_start": 1.180549298350076,
            "bin_end": 1.263928133988739,
            "count": 5
           },
           {
            "bin_start": 1.263928133988739,
            "bin_end": 1.3473069696274018,
            "count": 10
           },
           {
            "bin_start": 1.3473069696274018,
            "bin_end": 1.430685805266065,
            "count": 10
           },
           {
            "bin_start": 1.430685805266065,
            "bin_end": 1.5140646409047278,
            "count": 5
           },
           {
            "bin_start": 1.5140646409047278,
            "bin_end": 1.5974434765433907,
            "count": 12
           },
           {
            "bin_start": 1.5974434765433907,
            "bin_end": 1.6808223121820536,
            "count": 7
           },
           {
            "bin_start": 1.6808223121820536,
            "bin_end": 1.7642011478207165,
            "count": 0
           },
           {
            "bin_start": 1.7642011478207165,
            "bin_end": 1.8475799834593793,
            "count": 0
           },
           {
            "bin_start": 1.8475799834593793,
            "bin_end": 1.9309588190980422,
            "count": 0
           },
           {
            "bin_start": 1.9309588190980422,
            "bin_end": 2.014337654736705,
            "count": 1
           }
          ]
         }
        },
        {
         "name": "split7_test_score",
         "dtype": "float64",
         "stats": {
          "unique_count": 50,
          "nan_count": 0,
          "min": "1.0950909107363314",
          "max": "1.938693031556624",
          "histogram": [
           {
            "bin_start": 1.0950909107363314,
            "bin_end": 1.1794511228183606,
            "count": 9
           },
           {
            "bin_start": 1.1794511228183606,
            "bin_end": 1.2638113349003899,
            "count": 8
           },
           {
            "bin_start": 1.2638113349003899,
            "bin_end": 1.3481715469824191,
            "count": 11
           },
           {
            "bin_start": 1.3481715469824191,
            "bin_end": 1.4325317590644484,
            "count": 12
           },
           {
            "bin_start": 1.4325317590644484,
            "bin_end": 1.5168919711464777,
            "count": 7
           },
           {
            "bin_start": 1.5168919711464777,
            "bin_end": 1.601252183228507,
            "count": 0
           },
           {
            "bin_start": 1.601252183228507,
            "bin_end": 1.6856123953105362,
            "count": 2
           },
           {
            "bin_start": 1.6856123953105362,
            "bin_end": 1.7699726073925655,
            "count": 0
           },
           {
            "bin_start": 1.7699726073925655,
            "bin_end": 1.8543328194745947,
            "count": 0
           },
           {
            "bin_start": 1.8543328194745947,
            "bin_end": 1.938693031556624,
            "count": 1
           }
          ]
         }
        },
        {
         "name": "split8_test_score",
         "dtype": "float64",
         "stats": {
          "unique_count": 50,
          "nan_count": 0,
          "min": "1.2221576271200538",
          "max": "3.381527645639459",
          "histogram": [
           {
            "bin_start": 1.2221576271200538,
            "bin_end": 1.4380946289719942,
            "count": 21
           },
           {
            "bin_start": 1.4380946289719942,
            "bin_end": 1.654031630823935,
            "count": 25
           },
           {
            "bin_start": 1.654031630823935,
            "bin_end": 1.8699686326758753,
            "count": 3
           },
           {
            "bin_start": 1.8699686326758753,
            "bin_end": 2.085905634527816,
            "count": 0
           },
           {
            "bin_start": 2.085905634527816,
            "bin_end": 2.3018426363797566,
            "count": 0
           },
           {
            "bin_start": 2.3018426363797566,
            "bin_end": 2.517779638231697,
            "count": 0
           },
           {
            "bin_start": 2.517779638231697,
            "bin_end": 2.7337166400836375,
            "count": 0
           },
           {
            "bin_start": 2.7337166400836375,
            "bin_end": 2.949653641935578,
            "count": 0
           },
           {
            "bin_start": 2.949653641935578,
            "bin_end": 3.1655906437875183,
            "count": 0
           },
           {
            "bin_start": 3.1655906437875183,
            "bin_end": 3.381527645639459,
            "count": 1
           }
          ]
         }
        },
        {
         "name": "split9_test_score",
         "dtype": "float64",
         "stats": {
          "unique_count": 50,
          "nan_count": 0,
          "min": "1.0510454714636912",
          "max": "1.78302022611553",
          "histogram": [
           {
            "bin_start": 1.0510454714636912,
            "bin_end": 1.124242946928875,
            "count": 7
           },
           {
            "bin_start": 1.124242946928875,
            "bin_end": 1.197440422394059,
            "count": 7
           },
           {
            "bin_start": 1.197440422394059,
            "bin_end": 1.2706378978592427,
            "count": 10
           },
           {
            "bin_start": 1.2706378978592427,
            "bin_end": 1.3438353733244268,
            "count": 9
           },
           {
            "bin_start": 1.3438353733244268,
            "bin_end": 1.4170328487896104,
            "count": 6
           },
           {
            "bin_start": 1.4170328487896104,
            "bin_end": 1.4902303242547945,
            "count": 8
           },
           {
            "bin_start": 1.4902303242547945,
            "bin_end": 1.5634277997199784,
            "count": 2
           },
           {
            "bin_start": 1.5634277997199784,
            "bin_end": 1.6366252751851622,
            "count": 0
           },
           {
            "bin_start": 1.6366252751851622,
            "bin_end": 1.709822750650346,
            "count": 0
           },
           {
            "bin_start": 1.709822750650346,
            "bin_end": 1.78302022611553,
            "count": 1
           }
          ]
         }
        },
        {
         "name": "mean_test_score",
         "dtype": "float64",
         "stats": {
          "unique_count": 50,
          "nan_count": 0,
          "min": "1.1614604874686558",
          "max": "1.5467140073078904",
          "histogram": [
           {
            "bin_start": 1.1614604874686558,
            "bin_end": 1.1999858394525793,
            "count": 2
           },
           {
            "bin_start": 1.1999858394525793,
            "bin_end": 1.2385111914365028,
            "count": 3
           },
           {
            "bin_start": 1.2385111914365028,
            "bin_end": 1.2770365434204263,
            "count": 5
           },
           {
            "bin_start": 1.2770365434204263,
            "bin_end": 1.3155618954043498,
            "count": 6
           },
           {
            "bin_start": 1.3155618954043498,
            "bin_end": 1.3540872473882732,
            "count": 4
           },
           {
            "bin_start": 1.3540872473882732,
            "bin_end": 1.3926125993721965,
            "count": 2
           },
           {
            "bin_start": 1.3926125993721965,
            "bin_end": 1.43113795135612,
            "count": 5
           },
           {
            "bin_start": 1.43113795135612,
            "bin_end": 1.4696633033400435,
            "count": 4
           },
           {
            "bin_start": 1.4696633033400435,
            "bin_end": 1.508188655323967,
            "count": 6
           },
           {
            "bin_start": 1.508188655323967,
            "bin_end": 1.5467140073078904,
            "count": 13
           }
          ]
         }
        },
        {
         "name": "std_test_score",
         "dtype": "float64",
         "stats": {
          "unique_count": 50,
          "nan_count": 0,
          "min": "0.0606180088565981",
          "max": "0.6168138812898643",
          "histogram": [
           {
            "bin_start": 0.0606180088565981,
            "bin_end": 0.11623759609992472,
            "count": 42
           },
           {
            "bin_start": 0.11623759609992472,
            "bin_end": 0.17185718334325134,
            "count": 4
           },
           {
            "bin_start": 0.17185718334325134,
            "bin_end": 0.22747677058657798,
            "count": 2
           },
           {
            "bin_start": 0.22747677058657798,
            "bin_end": 0.2830963578299046,
            "count": 0
           },
           {
            "bin_start": 0.2830963578299046,
            "bin_end": 0.3387159450732312,
            "count": 0
           },
           {
            "bin_start": 0.3387159450732312,
            "bin_end": 0.3943355323165578,
            "count": 0
           },
           {
            "bin_start": 0.3943355323165578,
            "bin_end": 0.44995511955988443,
            "count": 0
           },
           {
            "bin_start": 0.44995511955988443,
            "bin_end": 0.505574706803211,
            "count": 1
           },
           {
            "bin_start": 0.505574706803211,
            "bin_end": 0.5611942940465376,
            "count": 0
           },
           {
            "bin_start": 0.5611942940465376,
            "bin_end": 0.6168138812898643,
            "count": 1
           }
          ]
         }
        },
        {
         "name": "rank_test_score",
         "dtype": "int64",
         "stats": {
          "unique_count": 50,
          "nan_count": 0,
          "min": "445",
          "max": "494",
          "histogram": [
           {
            "bin_start": 445,
            "bin_end": 449.9,
            "count": 5
           },
           {
            "bin_start": 449.9,
            "bin_end": 454.8,
            "count": 5
           },
           {
            "bin_start": 454.8,
            "bin_end": 459.7,
            "count": 5
           },
           {
            "bin_start": 459.7,
            "bin_end": 464.6,
            "count": 5
           },
           {
            "bin_start": 464.6,
            "bin_end": 469.5,
            "count": 5
           },
           {
            "bin_start": 469.5,
            "bin_end": 474.4,
            "count": 5
           },
           {
            "bin_start": 474.4,
            "bin_end": 479.3,
            "count": 5
           },
           {
            "bin_start": 479.3,
            "bin_end": 484.2,
            "count": 5
           },
           {
            "bin_start": 484.2,
            "bin_end": 489.1,
            "count": 5
           },
           {
            "bin_start": 489.1,
            "bin_end": 494,
            "count": 5
           }
          ]
         }
        },
        {
         "name": "_deepnote_index_column",
         "dtype": "int64"
        }
       ],
       "rows": [
        {
         "Unnamed: 0": 222,
         "mean_fit_time": 10.731740736961363,
         "std_fit_time": 1.2688835882139815,
         "mean_score_time": 0.0108881473541259,
         "std_score_time": 0.0103405749824338,
         "param_batch_size": 1246,
         "param_lr": 0.1268176355964184,
         "param_max_epochs": 1000,
         "param_module__activation_fun": "sigmoid",
         "param_module__hidden_layers": 1,
         "param_module__num_units": 38,
         "param_optimizer": "<class 'torch.optim.sgd.SGD'>",
         "param_optimizer__momentum": 0.9,
         "param_optimizer__nesterov": false,
         "param_optimizer__weight_decay": 0.0034158054342776,
         "params": "{'batch_size': 1246, 'lr': 0.12681763559641845, 'max_epochs': 1000, 'module__activation_fun': 'sigm…",
         "split0_test_score": 1.0883267992981394,
         "split1_test_score": 1.0376051336078715,
         "split2_test_score": 1.189888924948479,
         "split3_test_score": 1.2701566914530624,
         "split4_test_score": 1.210735345973556,
         "split5_test_score": 1.2588730702470792,
         "split6_test_score": 1.180549298350076,
         "split7_test_score": 1.0950909107363314,
         "split8_test_score": 1.232333228608271,
         "split9_test_score": 1.0510454714636912,
         "mean_test_score": 1.1614604874686558,
         "std_test_score": 0.0819833357581414,
         "rank_test_score": 494,
         "_deepnote_index_column": 0
        },
        {
         "Unnamed: 0": 438,
         "mean_fit_time": 7.2822239875793455,
         "std_fit_time": 1.545409074767094,
         "mean_score_time": 0.0126474142074584,
         "std_score_time": 0.006283009127221,
         "param_batch_size": 188,
         "param_lr": 0.0143054612800664,
         "param_max_epochs": 1000,
         "param_module__activation_fun": "sigmoid",
         "param_module__hidden_layers": 2,
         "param_module__num_units": 19,
         "param_optimizer": "<class 'torch.optim.sgd.SGD'>",
         "param_optimizer__momentum": 0.95,
         "param_optimizer__nesterov": true,
         "param_optimizer__weight_decay": 0.0055606077662621,
         "params": "{'batch_size': 188, 'lr': 0.014305461280066465, 'max_epochs': 1000, 'module__activation_fun': 'sigm…",
         "split0_test_score": 1.1222897361179716,
         "split1_test_score": 1.0743673612412654,
         "split2_test_score": 1.190178843313142,
         "split3_test_score": 1.2463505536149768,
         "split4_test_score": 1.2621861617255927,
         "split5_test_score": 1.301986150443554,
         "split6_test_score": 1.2194858172390246,
         "split7_test_score": 1.128366772393535,
         "split8_test_score": 1.3253525185181685,
         "split9_test_score": 1.0750524207215868,
         "mean_test_score": 1.1945616335328817,
         "std_test_score": 0.0865309060997891,
         "rank_test_score": 493,
         "_deepnote_index_column": 1
        },
        {
         "Unnamed: 0": 475,
         "mean_fit_time": 11.103253507614136,
         "std_fit_time": 2.6298906714812627,
         "mean_score_time": 0.0073131084442138,
         "std_score_time": 0.0075874314710024,
         "param_batch_size": 1174,
         "param_lr": 0.0625046883895269,
         "param_max_epochs": 1000,
         "param_module__activation_fun": "tanh",
         "param_module__hidden_layers": 1,
         "param_module__num_units": 63,
         "param_optimizer": "<class 'torch.optim.sgd.SGD'>",
         "param_optimizer__momentum": 0.9,
         "param_optimizer__nesterov": false,
         "param_optimizer__weight_decay": 0.0185397238682318,
         "params": "{'batch_size': 1174, 'lr': 0.06250468838952698, 'max_epochs': 1000, 'module__activation_fun': 'tanh…",
         "split0_test_score": 1.0958454758489042,
         "split1_test_score": 1.0679237589912307,
         "split2_test_score": 1.2376895044979297,
         "split3_test_score": 1.3126478648947597,
         "split4_test_score": 1.2509100672025653,
         "split5_test_score": 1.2842396603883208,
         "split6_test_score": 1.2401043275805343,
         "split7_test_score": 1.117868883339198,
         "split8_test_score": 1.3201560736318727,
         "split9_test_score": 1.078553917676662,
         "mean_test_score": 1.2005939534051977,
         "std_test_score": 0.0946717890557589,
         "rank_test_score": 492,
         "_deepnote_index_column": 2
        },
        {
         "Unnamed: 0": 491,
         "mean_fit_time": 15.336044478416444,
         "std_fit_time": 3.874964578393153,
         "mean_score_time": 0.0099491119384765,
         "std_score_time": 0.0074990698462059,
         "param_batch_size": 913,
         "param_lr": 0.0080181680183627,
         "param_max_epochs": 1000,
         "param_module__activation_fun": "tanh",
         "param_module__hidden_layers": 2,
         "param_module__num_units": 17,
         "param_optimizer": "<class 'torch.optim.sgd.SGD'>",
         "param_optimizer__momentum": 0.9,
         "param_optimizer__nesterov": true,
         "param_optimizer__weight_decay": 0.0088915029230354,
         "params": "{'batch_size': 913, 'lr': 0.008018168018362795, 'max_epochs': 1000, 'module__activation_fun': 'tanh…",
         "split0_test_score": 1.1398162553577047,
         "split1_test_score": 1.1220771622444905,
         "split2_test_score": 1.225600747545635,
         "split3_test_score": 1.3191722824161214,
         "split4_test_score": 1.3334834712200372,
         "split5_test_score": 1.2852921464613505,
         "split6_test_score": 1.2115417361203442,
         "split7_test_score": 1.147342904225776,
         "split8_test_score": 1.3190188477922202,
         "split9_test_score": 1.077295697463507,
         "mean_test_score": 1.2180641250847188,
         "std_test_score": 0.0886051677495039,
         "rank_test_score": 491,
         "_deepnote_index_column": 3
        },
        {
         "Unnamed: 0": 352,
         "mean_fit_time": 11.85535707473755,
         "std_fit_time": 1.4164566933265454,
         "mean_score_time": 0.0108718156814575,
         "std_score_time": 0.006443825519826,
         "param_batch_size": 832,
         "param_lr": 0.2110608835959579,
         "param_max_epochs": 1000,
         "param_module__activation_fun": "sigmoid",
         "param_module__hidden_layers": 1,
         "param_module__num_units": 21,
         "param_optimizer": "<class 'torch.optim.sgd.SGD'>",
         "param_optimizer__momentum": 0.9,
         "param_optimizer__nesterov": true,
         "param_optimizer__weight_decay": 0.003903946056496,
         "params": "{'batch_size': 832, 'lr': 0.21106088359595798, 'max_epochs': 1000, 'module__activation_fun': 'sigmo…",
         "split0_test_score": 1.114816380020483,
         "split1_test_score": 1.135898042428202,
         "split2_test_score": 1.2468278933512538,
         "split3_test_score": 1.306433079554174,
         "split4_test_score": 1.2870116697106146,
         "split5_test_score": 1.2880242607535275,
         "split6_test_score": 1.3467939166646254,
         "split7_test_score": 1.142016526955859,
         "split8_test_score": 1.3050938138276114,
         "split9_test_score": 1.0979810453612695,
         "mean_test_score": 1.227089662862762,
         "std_test_score": 0.0890112795266529,
         "rank_test_score": 490,
         "_deepnote_index_column": 4
        },
        {
         "Unnamed: 0": 182,
         "mean_fit_time": 7.751467156410217,
         "std_fit_time": 1.2382108951297792,
         "mean_score_time": 0.0091063976287841,
         "std_score_time": 0.0061779093212347,
         "param_batch_size": 962,
         "param_lr": 0.0128347165999708,
         "param_max_epochs": 1000,
         "param_module__activation_fun": "tanh",
         "param_module__hidden_layers": 2,
         "param_module__num_units": 91,
         "param_optimizer": "<class 'torch.optim.sgd.SGD'>",
         "param_optimizer__momentum": 0.95,
         "param_optimizer__nesterov": true,
         "param_optimizer__weight_decay": 0.0490539757299149,
         "params": "{'batch_size': 962, 'lr': 0.012834716599970836, 'max_epochs': 1000, 'module__activation_fun': 'tanh…",
         "split0_test_score": 1.241460550744507,
         "split1_test_score": 1.2628050750695674,
         "split2_test_score": 1.2354621774467982,
         "split3_test_score": 1.268314471594373,
         "split4_test_score": 1.2851257598853874,
         "split5_test_score": 1.2723575472215514,
         "split6_test_score": 1.3272535456974703,
         "split7_test_score": 1.1674811618780732,
         "split8_test_score": 1.3307382601096218,
         "split9_test_score": 1.1276612330764306,
         "mean_test_score": 1.2518659782723778,
         "std_test_score": 0.0606180088565981,
         "rank_test_score": 489,
         "_deepnote_index_column": 5
        },
        {
         "Unnamed: 0": 892,
         "mean_fit_time": 4.294824004173279,
         "std_fit_time": 0.5869652877226227,
         "mean_score_time": 0.0090228557586669,
         "std_score_time": 0.005533526713868,
         "param_batch_size": 394,
         "param_lr": 0.0199663242035855,
         "param_max_epochs": 1000,
         "param_module__activation_fun": "sigmoid",
         "param_module__hidden_layers": 2,
         "param_module__num_units": 51,
         "param_optimizer": "<class 'torch.optim.sgd.SGD'>",
         "param_optimizer__momentum": 0.95,
         "param_optimizer__nesterov": false,
         "param_optimizer__weight_decay": 0.0131510705285042,
         "params": "{'batch_size': 394, 'lr': 0.01996632420358551, 'max_epochs': 1000, 'module__activation_fun': 'sigmo…",
         "split0_test_score": 1.1468207689660384,
         "split1_test_score": 1.1284602511590136,
         "split2_test_score": 1.2744385042136772,
         "split3_test_score": 1.3274420104864846,
         "split4_test_score": 1.2934843581870086,
         "split5_test_score": 1.3638055099916635,
         "split6_test_score": 1.2827288820723397,
         "split7_test_score": 1.194921249761841,
         "split8_test_score": 1.3355847053733982,
         "split9_test_score": 1.1763888028534977,
         "mean_test_score": 1.2524075043064962,
         "std_test_score": 0.0797779362178016,
         "rank_test_score": 488,
         "_deepnote_index_column": 6
        },
        {
         "Unnamed: 0": 725,
         "mean_fit_time": 12.771750116348269,
         "std_fit_time": 2.4135709395828435,
         "mean_score_time": 0.0109456777572631,
         "std_score_time": 0.0073231711500292,
         "param_batch_size": 1125,
         "param_lr": 0.0186516852656147,
         "param_max_epochs": 1000,
         "param_module__activation_fun": "tanh",
         "param_module__hidden_layers": 1,
         "param_module__num_units": 44,
         "param_optimizer": "<class 'torch.optim.sgd.SGD'>",
         "param_optimizer__momentum": 0.9,
         "param_optimizer__nesterov": false,
         "param_optimizer__weight_decay": 0.0211112220998364,
         "params": "{'batch_size': 1125, 'lr': 0.01865168526561478, 'max_epochs': 1000, 'module__activation_fun': 'tanh…",
         "split0_test_score": 1.1658947650987403,
         "split1_test_score": 1.1292747282107969,
         "split2_test_score": 1.3008661138496005,
         "split3_test_score": 1.3689883197832824,
         "split4_test_score": 1.2703952535538745,
         "split5_test_score": 1.3568271203876887,
         "split6_test_score": 1.299760106418814,
         "split7_test_score": 1.1744458851285446,
         "split8_test_score": 1.373746180332693,
         "split9_test_score": 1.1631960179374523,
         "mean_test_score": 1.2603394490701487,
         "std_test_score": 0.0895462798949012,
         "rank_test_score": 487,
         "_deepnote_index_column": 7
        },
        {
         "Unnamed: 0": 296,
         "mean_fit_time": 6.547055768966675,
         "std_fit_time": 0.5765377498748547,
         "mean_score_time": 0.0146347522735595,
         "std_score_time": 0.0083855192371564,
         "param_batch_size": 479,
         "param_lr": 0.022487480480225,
         "param_max_epochs": 1000,
         "param_module__activation_fun": "sigmoid",
         "param_module__hidden_layers": 1,
         "param_module__num_units": 92,
         "param_optimizer": "<class 'torch.optim.sgd.SGD'>",
         "param_optimizer__momentum": 0.95,
         "param_optimizer__nesterov": false,
         "param_optimizer__weight_decay": 0.0104932281736236,
         "params": "{'batch_size': 479, 'lr': 0.022487480480225027, 'max_epochs': 1000, 'module__activation_fun': 'sigm…",
         "split0_test_score": 1.171993784592452,
         "split1_test_score": 1.1736152255137389,
         "split2_test_score": 1.2674167817248438,
         "split3_test_score": 1.3643089779337545,
         "split4_test_score": 1.3194746334049712,
         "split5_test_score": 1.3711509735400516,
         "split6_test_score": 1.3432027484969538,
         "split7_test_score": 1.1507684432978469,
         "split8_test_score": 1.3611904951862823,
         "split9_test_score": 1.1167194920055794,
         "mean_test_score": 1.2639841555696474,
         "std_test_score": 0.095655047617924,
         "rank_test_score": 486,
         "_deepnote_index_column": 8
        },
        {
         "Unnamed: 0": 267,
         "mean_fit_time": 7.203713154792785,
         "std_fit_time": 2.0090944745769743,
         "mean_score_time": 0.0079766035079956,
         "std_score_time": 0.0047450519279778,
         "param_batch_size": 420,
         "param_lr": 0.0143945909881931,
         "param_max_epochs": 1000,
         "param_module__activation_fun": "tanh",
         "param_module__hidden_layers": 1,
         "param_module__num_units": 16,
         "param_optimizer": "<class 'torch.optim.sgd.SGD'>",
         "param_optimizer__momentum": 0.9,
         "param_optimizer__nesterov": true,
         "param_optimizer__weight_decay": 0.018666506382541,
         "params": "{'batch_size': 420, 'lr': 0.014394590988193165, 'max_epochs': 1000, 'module__activation_fun': 'tanh…",
         "split0_test_score": 1.162263778185374,
         "split1_test_score": 1.1640055498626447,
         "split2_test_score": 1.288435366704948,
         "split3_test_score": 1.3458121153420972,
         "split4_test_score": 1.3270008957531667,
         "split5_test_score": 1.3879011217364692,
         "split6_test_score": 1.2935430422089154,
         "split7_test_score": 1.190969296752062,
         "split8_test_score": 1.4289171741084945,
         "split9_test_score": 1.1790956152095036,
         "mean_test_score": 1.2767943955863674,
         "std_test_score": 0.0927015627331185,
         "rank_test_score": 485,
         "_deepnote_index_column": 9
        }
       ]
      },
      "text/plain": "    Unnamed: 0  mean_fit_time  std_fit_time  mean_score_time  std_score_time  \\\n0          222      10.731741      1.268884         0.010888        0.010341   \n1          438       7.282224      1.545409         0.012647        0.006283   \n2          475      11.103254      2.629891         0.007313        0.007587   \n3          491      15.336044      3.874965         0.009949        0.007499   \n4          352      11.855357      1.416457         0.010872        0.006444   \n5          182       7.751467      1.238211         0.009106        0.006178   \n6          892       4.294824      0.586965         0.009023        0.005534   \n7          725      12.771750      2.413571         0.010946        0.007323   \n8          296       6.547056      0.576538         0.014635        0.008386   \n9          267       7.203713      2.009094         0.007977        0.004745   \n10         147       6.847184      2.451495         0.008063        0.004641   \n11         775       9.591405      1.003071         0.010228        0.008739   \n12         327       9.646992      1.470488         0.010515        0.006272   \n13         248       6.560542      1.427107         0.013862        0.007718   \n14         156       6.068003      0.641823         0.008875        0.005178   \n15          93       4.169572      0.643852         0.019230        0.012254   \n16         930      11.131181      1.348603         0.008106        0.006635   \n17         663       7.426937      1.200566         0.014512        0.007590   \n18         656       4.989411      0.548553         0.013381        0.009457   \n19         478      27.334306      3.439324         0.013101        0.007387   \n20         347       5.049337      0.588405         0.011068        0.009378   \n21         308       3.896379      0.548334         0.009058        0.007061   \n22         857       3.016182      1.147564         0.004047        0.001466   \n23         393       3.715589      0.820691         0.009804        0.007225   \n24         558       9.609502      2.903431         0.016277        0.012718   \n25         881       5.557904      1.096284         0.006121        0.004627   \n26         617       6.415818      1.574497         0.011961        0.006680   \n27          37       3.503987      0.256675         0.007442        0.004674   \n28         645       6.301758      0.570328         0.010264        0.011779   \n29         355       6.133504      1.239018         0.014852        0.009553   \n30         181       6.343579      1.979481         0.006803        0.002953   \n31         851       1.834826      0.342685         0.005054        0.002408   \n32          60       2.640523      0.576785         0.006978        0.004552   \n33         877       1.721435      0.189752         0.005972        0.003004   \n34         227       7.611158      3.758561         0.007924        0.004920   \n35         511       3.110044      0.339669         0.011108        0.008850   \n36         637      12.675928      1.517616         0.008409        0.006333   \n37          28       7.067974      1.016961         0.005346        0.002331   \n38         985       2.762900      0.576542         0.008759        0.007815   \n39          34       2.615273      0.235892         0.007003        0.007107   \n40         107       3.935067      0.664728         0.011288        0.007507   \n41         213       3.969894      0.876128         0.011139        0.006800   \n42         256       3.655492      0.455593         0.005603        0.004168   \n43         921       4.874624      0.526637         0.007436        0.005973   \n44         191       5.478639      0.150544         0.010136        0.006428   \n45         203       6.491839      1.321826         0.008401        0.007043   \n46         552       3.673993      1.448259         0.006879        0.005328   \n47         673       6.426271      1.124754         0.013246        0.010032   \n48         268       9.750975      2.969396         0.006866        0.005338   \n49         861       2.524487      0.347102         0.006416        0.005228   \n\n    param_batch_size  param_lr  param_max_epochs param_module__activation_fun  \\\n0               1246  0.126818              1000                      sigmoid   \n1                188  0.014305              1000                      sigmoid   \n2               1174  0.062505              1000                         tanh   \n3                913  0.008018              1000                         tanh   \n4                832  0.211061              1000                      sigmoid   \n5                962  0.012835              1000                         tanh   \n6                394  0.019966              1000                      sigmoid   \n7               1125  0.018652              1000                         tanh   \n8                479  0.022487              1000                      sigmoid   \n9                420  0.014395              1000                         tanh   \n10               254  0.036519              1000                         tanh   \n11               683  0.022448              1000                      sigmoid   \n12               529  0.006131              1000                         tanh   \n13               551  0.005273              1000                         relu   \n14              1098  0.030467              1000                      sigmoid   \n15               242  0.032237              1000                         tanh   \n16              1227  0.057864              1000                      sigmoid   \n17              1267  0.027232              1000                         tanh   \n18               493  0.060761              1000                      sigmoid   \n19               329  0.006637              1000                      sigmoid   \n20              1082  0.115692              1000                      sigmoid   \n21              1266  0.024748              1000                         tanh   \n22               274  0.013916              1000                         tanh   \n23               314  0.006706              1000                         tanh   \n24              1094  0.020671              1000                         tanh   \n25               326  0.004016              1000                         relu   \n26               878  0.047922              1000                         tanh   \n27              1195  0.030950              1000                      sigmoid   \n28              1044  0.037790              1000                      sigmoid   \n29               135  0.042311              1000                         tanh   \n30               603  0.016535              1000                         relu   \n31               213  0.007914              1000                         tanh   \n32               933  0.014806              1000                         tanh   \n33               173  0.097465              1000                      sigmoid   \n34               764  0.074272              1000                      sigmoid   \n35               388  0.066961              1000                      sigmoid   \n36               319  0.005087              1000                         relu   \n37               642  0.008280              1000                         relu   \n38               877  0.070418              1000                      sigmoid   \n39               530  0.037089              1000                      sigmoid   \n40               342  0.020701              1000                         relu   \n41               289  0.021373              1000                         relu   \n42               526  0.006355              1000                         tanh   \n43              1081  0.054836              1000                      sigmoid   \n44              1034  0.031884              1000                      sigmoid   \n45              1073  0.007782              1000                         tanh   \n46               789  0.030246              1000                         tanh   \n47               704  0.091118              1000                      sigmoid   \n48              1075  0.033758              1000                      sigmoid   \n49              1152  0.024244              1000                         tanh   \n\n    param_module__hidden_layers  ...  split3_test_score split4_test_score  \\\n0                             1  ...           1.270157          1.210735   \n1                             2  ...           1.246351          1.262186   \n2                             1  ...           1.312648          1.250910   \n3                             2  ...           1.319172          1.333483   \n4                             1  ...           1.306433          1.287012   \n5                             2  ...           1.268314          1.285126   \n6                             2  ...           1.327442          1.293484   \n7                             1  ...           1.368988          1.270395   \n8                             1  ...           1.364309          1.319475   \n9                             1  ...           1.345812          1.327001   \n10                            2  ...           1.245078          1.731936   \n11                            2  ...           1.353723          1.320935   \n12                            2  ...           1.381132          1.320007   \n13                            2  ...           1.332814          1.336571   \n14                            1  ...           1.382197          1.330668   \n15                            1  ...           1.418544          1.305778   \n16                            2  ...           1.434457          1.305910   \n17                            2  ...           1.397273          1.485891   \n18                            1  ...           1.449122          1.345580   \n19                            2  ...           1.450714          1.362540   \n20                            1  ...           1.523664          1.356134   \n21                            1  ...           1.552829          1.371966   \n22                            2  ...           1.494570          1.505253   \n23                            2  ...           1.529256          1.444416   \n24                            2  ...           2.752069          1.285172   \n25                            2  ...           1.497025          1.463743   \n26                            2  ...           1.496054          1.448640   \n27                            1  ...           1.600543          1.444055   \n28                            1  ...           1.610821          1.452358   \n29                            2  ...           1.558181          1.326592   \n30                            1  ...           1.572654          1.532502   \n31                            2  ...           1.583569          1.486774   \n32                            2  ...           1.669288          1.539670   \n33                            1  ...           1.591609          1.501506   \n34                            2  ...           1.633421          1.485457   \n35                            1  ...           1.650853          1.443834   \n36                            1  ...           1.593258          1.552277   \n37                            1  ...           1.613535          1.577094   \n38                            1  ...           1.673266          1.544525   \n39                            2  ...           1.611611          1.514359   \n40                            1  ...           1.601340          1.574714   \n41                            1  ...           1.635559          1.525617   \n42                            1  ...           1.703389          1.485416   \n43                            1  ...           1.706923          1.480144   \n44                            1  ...           1.723589          1.512201   \n45                            1  ...           1.602567          1.449985   \n46                            2  ...           1.651650          1.496687   \n47                            2  ...           1.673738          1.471011   \n48                            2  ...           1.433965          1.368987   \n49                            1  ...           1.757191          1.515160   \n\n    split5_test_score  split6_test_score  split7_test_score split8_test_score  \\\n0            1.258873           1.180549           1.095091          1.232333   \n1            1.301986           1.219486           1.128367          1.325353   \n2            1.284240           1.240104           1.117869          1.320156   \n3            1.285292           1.211542           1.147343          1.319019   \n4            1.288024           1.346794           1.142017          1.305094   \n5            1.272358           1.327254           1.167481          1.330738   \n6            1.363806           1.282729           1.194921          1.335585   \n7            1.356827           1.299760           1.174446          1.373746   \n8            1.371151           1.343203           1.150768          1.361190   \n9            1.387901           1.293543           1.190969          1.428917   \n10           1.277667           1.321399           1.411067          1.222158   \n11           1.391705           1.332226           1.253189          1.329575   \n12           1.384286           1.327867           1.222575          1.373047   \n13           1.410176           1.328160           1.190008          1.344931   \n14           1.394239           1.356944           1.279458          1.410665   \n15           1.400593           1.350467           1.254284          1.431966   \n16           1.399501           1.390360           1.235703          1.376486   \n17           1.463677           1.363603           1.309498          1.360349   \n18           1.447714           1.412060           1.236254          1.434579   \n19           1.426575           1.406302           1.269196          1.412758   \n20           1.467824           1.440216           1.278543          1.455201   \n21           1.468834           1.395784           1.340344          1.495241   \n22           1.514675           1.375329           1.263993          1.490701   \n23           1.501386           1.432638           1.365546          1.534520   \n24           1.291956           1.253931           1.144377          1.355100   \n25           1.505846           1.514902           1.279931          1.473047   \n26           1.497446           1.419607           1.443888          1.489306   \n27           1.550539           1.526054           1.361021          1.541122   \n28           1.539826           1.570207           1.357668          1.522288   \n29           1.541703           1.434540           1.333252          1.753705   \n30           1.582305           1.569884           1.308511          1.550679   \n31           1.592262           1.466652           1.475627          1.621727   \n32           1.577268           1.567220           1.447334          1.641505   \n33           1.615422           1.543063           1.380062          1.578377   \n34           1.597376           1.540350           1.410380          1.511601   \n35           1.607949           1.545462           1.429626          1.571951   \n36           1.603462           1.631200           1.344139          1.576694   \n37           1.604953           1.642763           1.374115          1.589400   \n38           1.636912           1.500448           1.357581          1.582272   \n39           1.626724           1.573195           1.469576          1.538510   \n40           1.618032           1.622419           1.357960          1.556633   \n41           1.525415           1.605894           1.376065          1.558324   \n42           1.598677           1.527442           1.484656          1.657393   \n43           1.618986           1.599079           1.621729          1.613040   \n44           1.639639           1.629418           1.442622          1.608439   \n45           1.603007           2.014338           1.387741          1.581158   \n46           1.499074           1.574800           1.938693          1.573204   \n47           1.619310           1.615789           1.645367          1.514197   \n48           1.440732           1.427246           1.307086          3.381528   \n49           1.648961           1.579476           1.475278          1.669012   \n\n    split9_test_score  mean_test_score  std_test_score  rank_test_score  \n0            1.051045         1.161460        0.081983              494  \n1            1.075052         1.194562        0.086531              493  \n2            1.078554         1.200594        0.094672              492  \n3            1.077296         1.218064        0.088605              491  \n4            1.097981         1.227090        0.089011              490  \n5            1.127661         1.251866        0.060618              489  \n6            1.176389         1.252408        0.079778              488  \n7            1.163196         1.260339        0.089546              487  \n8            1.116719         1.263984        0.095655              486  \n9            1.179096         1.276794        0.092702              485  \n10           1.083523         1.280318        0.178679              484  \n11           1.176001         1.282422        0.074833              483  \n12           1.157156         1.284073        0.082505              482  \n13           1.239837         1.289845        0.067161              481  \n14           1.212455         1.310932        0.075736              480  \n15           1.200736         1.313459        0.082694              479  \n16           1.212050         1.317202        0.079933              478  \n17           1.199199         1.325395        0.105137              477  \n18           1.214388         1.331689        0.094852              476  \n19           1.206980         1.336065        0.085436              475  \n20           1.281492         1.381671        0.082041              474  \n21           1.291574         1.390553        0.090826              473  \n22           1.323052         1.399878        0.088870              472  \n23           1.291721         1.405585        0.094005              471  \n24           1.125270         1.407974        0.459315              470  \n25           1.249167         1.408295        0.093463              469  \n26           1.318900         1.409108        0.076246              468  \n27           1.342785         1.454087        0.090883              467  \n28           1.363084         1.462252        0.087973              466  \n29           1.380058         1.468537        0.155435              465  \n30           1.309261         1.468710        0.105222              464  \n31           1.347847         1.481872        0.089647              463  \n32           1.340591         1.485046        0.122816              462  \n33           1.325151         1.486663        0.096517              461  \n34           1.440584         1.490658        0.077221              460  \n35           1.438421         1.494498        0.089943              459  \n36           1.347289         1.496817        0.103855              458  \n37           1.367671         1.514597        0.100945              457  \n38           1.507911         1.514951        0.109489              456  \n39           1.449253         1.515161        0.070491              455  \n40           1.437917         1.516868        0.087940              454  \n41           1.783020         1.519147        0.131605              453  \n42           1.435138         1.534692        0.091293              452  \n43           1.476742         1.535344        0.103665              451  \n44           1.444802         1.535672        0.103588              450  \n45           1.365102         1.540589        0.180332              449  \n46           1.267139         1.542767        0.165192              448  \n47           1.511631         1.543322        0.084080              447  \n48           1.251821         1.544741        0.616814              446  \n49           1.461281         1.546714        0.109226              445  \n\n[50 rows x 29 columns]",
      "text/html": "<div>\n<style scoped>\n    .dataframe tbody tr th:only-of-type {\n        vertical-align: middle;\n    }\n\n    .dataframe tbody tr th {\n        vertical-align: top;\n    }\n\n    .dataframe thead th {\n        text-align: right;\n    }\n</style>\n<table border=\"1\" class=\"dataframe\">\n  <thead>\n    <tr style=\"text-align: right;\">\n      <th></th>\n      <th>Unnamed: 0</th>\n      <th>mean_fit_time</th>\n      <th>std_fit_time</th>\n      <th>mean_score_time</th>\n      <th>std_score_time</th>\n      <th>param_batch_size</th>\n      <th>param_lr</th>\n      <th>param_max_epochs</th>\n      <th>param_module__activation_fun</th>\n      <th>param_module__hidden_layers</th>\n      <th>...</th>\n      <th>split3_test_score</th>\n      <th>split4_test_score</th>\n      <th>split5_test_score</th>\n      <th>split6_test_score</th>\n      <th>split7_test_score</th>\n      <th>split8_test_score</th>\n      <th>split9_test_score</th>\n      <th>mean_test_score</th>\n      <th>std_test_score</th>\n      <th>rank_test_score</th>\n    </tr>\n  </thead>\n  <tbody>\n    <tr>\n      <th>0</th>\n      <td>222</td>\n      <td>10.731741</td>\n      <td>1.268884</td>\n      <td>0.010888</td>\n      <td>0.010341</td>\n      <td>1246</td>\n      <td>0.126818</td>\n      <td>1000</td>\n      <td>sigmoid</td>\n      <td>1</td>\n      <td>...</td>\n      <td>1.270157</td>\n      <td>1.210735</td>\n      <td>1.258873</td>\n      <td>1.180549</td>\n      <td>1.095091</td>\n      <td>1.232333</td>\n      <td>1.051045</td>\n      <td>1.161460</td>\n      <td>0.081983</td>\n      <td>494</td>\n    </tr>\n    <tr>\n      <th>1</th>\n      <td>438</td>\n      <td>7.282224</td>\n      <td>1.545409</td>\n      <td>0.012647</td>\n      <td>0.006283</td>\n      <td>188</td>\n      <td>0.014305</td>\n      <td>1000</td>\n      <td>sigmoid</td>\n      <td>2</td>\n      <td>...</td>\n      <td>1.246351</td>\n      <td>1.262186</td>\n      <td>1.301986</td>\n      <td>1.219486</td>\n      <td>1.128367</td>\n      <td>1.325353</td>\n      <td>1.075052</td>\n      <td>1.194562</td>\n      <td>0.086531</td>\n      <td>493</td>\n    </tr>\n    <tr>\n      <th>2</th>\n      <td>475</td>\n      <td>11.103254</td>\n      <td>2.629891</td>\n      <td>0.007313</td>\n      <td>0.007587</td>\n      <td>1174</td>\n      <td>0.062505</td>\n      <td>1000</td>\n      <td>tanh</td>\n      <td>1</td>\n      <td>...</td>\n      <td>1.312648</td>\n      <td>1.250910</td>\n      <td>1.284240</td>\n      <td>1.240104</td>\n      <td>1.117869</td>\n      <td>1.320156</td>\n      <td>1.078554</td>\n      <td>1.200594</td>\n      <td>0.094672</td>\n      <td>492</td>\n    </tr>\n    <tr>\n      <th>3</th>\n      <td>491</td>\n      <td>15.336044</td>\n      <td>3.874965</td>\n      <td>0.009949</td>\n      <td>0.007499</td>\n      <td>913</td>\n      <td>0.008018</td>\n      <td>1000</td>\n      <td>tanh</td>\n      <td>2</td>\n      <td>...</td>\n      <td>1.319172</td>\n      <td>1.333483</td>\n      <td>1.285292</td>\n      <td>1.211542</td>\n      <td>1.147343</td>\n      <td>1.319019</td>\n      <td>1.077296</td>\n      <td>1.218064</td>\n      <td>0.088605</td>\n      <td>491</td>\n    </tr>\n    <tr>\n      <th>4</th>\n      <td>352</td>\n      <td>11.855357</td>\n      <td>1.416457</td>\n      <td>0.010872</td>\n      <td>0.006444</td>\n      <td>832</td>\n      <td>0.211061</td>\n      <td>1000</td>\n      <td>sigmoid</td>\n      <td>1</td>\n      <td>...</td>\n      <td>1.306433</td>\n      <td>1.287012</td>\n      <td>1.288024</td>\n      <td>1.346794</td>\n      <td>1.142017</td>\n      <td>1.305094</td>\n      <td>1.097981</td>\n      <td>1.227090</td>\n      <td>0.089011</td>\n      <td>490</td>\n    </tr>\n    <tr>\n      <th>5</th>\n      <td>182</td>\n      <td>7.751467</td>\n      <td>1.238211</td>\n      <td>0.009106</td>\n      <td>0.006178</td>\n      <td>962</td>\n      <td>0.012835</td>\n      <td>1000</td>\n      <td>tanh</td>\n      <td>2</td>\n      <td>...</td>\n      <td>1.268314</td>\n      <td>1.285126</td>\n      <td>1.272358</td>\n      <td>1.327254</td>\n      <td>1.167481</td>\n      <td>1.330738</td>\n      <td>1.127661</td>\n      <td>1.251866</td>\n      <td>0.060618</td>\n      <td>489</td>\n    </tr>\n    <tr>\n      <th>6</th>\n      <td>892</td>\n      <td>4.294824</td>\n      <td>0.586965</td>\n      <td>0.009023</td>\n      <td>0.005534</td>\n      <td>394</td>\n      <td>0.019966</td>\n      <td>1000</td>\n      <td>sigmoid</td>\n      <td>2</td>\n      <td>...</td>\n      <td>1.327442</td>\n      <td>1.293484</td>\n      <td>1.363806</td>\n      <td>1.282729</td>\n      <td>1.194921</td>\n      <td>1.335585</td>\n      <td>1.176389</td>\n      <td>1.252408</td>\n      <td>0.079778</td>\n      <td>488</td>\n    </tr>\n    <tr>\n      <th>7</th>\n      <td>725</td>\n      <td>12.771750</td>\n      <td>2.413571</td>\n      <td>0.010946</td>\n      <td>0.007323</td>\n      <td>1125</td>\n      <td>0.018652</td>\n      <td>1000</td>\n      <td>tanh</td>\n      <td>1</td>\n      <td>...</td>\n      <td>1.368988</td>\n      <td>1.270395</td>\n      <td>1.356827</td>\n      <td>1.299760</td>\n      <td>1.174446</td>\n      <td>1.373746</td>\n      <td>1.163196</td>\n      <td>1.260339</td>\n      <td>0.089546</td>\n      <td>487</td>\n    </tr>\n    <tr>\n      <th>8</th>\n      <td>296</td>\n      <td>6.547056</td>\n      <td>0.576538</td>\n      <td>0.014635</td>\n      <td>0.008386</td>\n      <td>479</td>\n      <td>0.022487</td>\n      <td>1000</td>\n      <td>sigmoid</td>\n      <td>1</td>\n      <td>...</td>\n      <td>1.364309</td>\n      <td>1.319475</td>\n      <td>1.371151</td>\n      <td>1.343203</td>\n      <td>1.150768</td>\n      <td>1.361190</td>\n      <td>1.116719</td>\n      <td>1.263984</td>\n      <td>0.095655</td>\n      <td>486</td>\n    </tr>\n    <tr>\n      <th>9</th>\n      <td>267</td>\n      <td>7.203713</td>\n      <td>2.009094</td>\n      <td>0.007977</td>\n      <td>0.004745</td>\n      <td>420</td>\n      <td>0.014395</td>\n      <td>1000</td>\n      <td>tanh</td>\n      <td>1</td>\n      <td>...</td>\n      <td>1.345812</td>\n      <td>1.327001</td>\n      <td>1.387901</td>\n      <td>1.293543</td>\n      <td>1.190969</td>\n      <td>1.428917</td>\n      <td>1.179096</td>\n      <td>1.276794</td>\n      <td>0.092702</td>\n      <td>485</td>\n    </tr>\n    <tr>\n      <th>10</th>\n      <td>147</td>\n      <td>6.847184</td>\n      <td>2.451495</td>\n      <td>0.008063</td>\n      <td>0.004641</td>\n      <td>254</td>\n      <td>0.036519</td>\n      <td>1000</td>\n      <td>tanh</td>\n      <td>2</td>\n      <td>...</td>\n      <td>1.245078</td>\n      <td>1.731936</td>\n      <td>1.277667</td>\n      <td>1.321399</td>\n      <td>1.411067</td>\n      <td>1.222158</td>\n      <td>1.083523</td>\n      <td>1.280318</td>\n      <td>0.178679</td>\n      <td>484</td>\n    </tr>\n    <tr>\n      <th>11</th>\n      <td>775</td>\n      <td>9.591405</td>\n      <td>1.003071</td>\n      <td>0.010228</td>\n      <td>0.008739</td>\n      <td>683</td>\n      <td>0.022448</td>\n      <td>1000</td>\n      <td>sigmoid</td>\n      <td>2</td>\n      <td>...</td>\n      <td>1.353723</td>\n      <td>1.320935</td>\n      <td>1.391705</td>\n      <td>1.332226</td>\n      <td>1.253189</td>\n      <td>1.329575</td>\n      <td>1.176001</td>\n      <td>1.282422</td>\n      <td>0.074833</td>\n      <td>483</td>\n    </tr>\n    <tr>\n      <th>12</th>\n      <td>327</td>\n      <td>9.646992</td>\n      <td>1.470488</td>\n      <td>0.010515</td>\n      <td>0.006272</td>\n      <td>529</td>\n      <td>0.006131</td>\n      <td>1000</td>\n      <td>tanh</td>\n      <td>2</td>\n      <td>...</td>\n      <td>1.381132</td>\n      <td>1.320007</td>\n      <td>1.384286</td>\n      <td>1.327867</td>\n      <td>1.222575</td>\n      <td>1.373047</td>\n      <td>1.157156</td>\n      <td>1.284073</td>\n      <td>0.082505</td>\n      <td>482</td>\n    </tr>\n    <tr>\n      <th>13</th>\n      <td>248</td>\n      <td>6.560542</td>\n      <td>1.427107</td>\n      <td>0.013862</td>\n      <td>0.007718</td>\n      <td>551</td>\n      <td>0.005273</td>\n      <td>1000</td>\n      <td>relu</td>\n      <td>2</td>\n      <td>...</td>\n      <td>1.332814</td>\n      <td>1.336571</td>\n      <td>1.410176</td>\n      <td>1.328160</td>\n      <td>1.190008</td>\n      <td>1.344931</td>\n      <td>1.239837</td>\n      <td>1.289845</td>\n      <td>0.067161</td>\n      <td>481</td>\n    </tr>\n    <tr>\n      <th>14</th>\n      <td>156</td>\n      <td>6.068003</td>\n      <td>0.641823</td>\n      <td>0.008875</td>\n      <td>0.005178</td>\n      <td>1098</td>\n      <td>0.030467</td>\n      <td>1000</td>\n      <td>sigmoid</td>\n      <td>1</td>\n      <td>...</td>\n      <td>1.382197</td>\n      <td>1.330668</td>\n      <td>1.394239</td>\n      <td>1.356944</td>\n      <td>1.279458</td>\n      <td>1.410665</td>\n      <td>1.212455</td>\n      <td>1.310932</td>\n      <td>0.075736</td>\n      <td>480</td>\n    </tr>\n    <tr>\n      <th>15</th>\n      <td>93</td>\n      <td>4.169572</td>\n      <td>0.643852</td>\n      <td>0.019230</td>\n      <td>0.012254</td>\n      <td>242</td>\n      <td>0.032237</td>\n      <td>1000</td>\n      <td>tanh</td>\n      <td>1</td>\n      <td>...</td>\n      <td>1.418544</td>\n      <td>1.305778</td>\n      <td>1.400593</td>\n      <td>1.350467</td>\n      <td>1.254284</td>\n      <td>1.431966</td>\n      <td>1.200736</td>\n      <td>1.313459</td>\n      <td>0.082694</td>\n      <td>479</td>\n    </tr>\n    <tr>\n      <th>16</th>\n      <td>930</td>\n      <td>11.131181</td>\n      <td>1.348603</td>\n      <td>0.008106</td>\n      <td>0.006635</td>\n      <td>1227</td>\n      <td>0.057864</td>\n      <td>1000</td>\n      <td>sigmoid</td>\n      <td>2</td>\n      <td>...</td>\n      <td>1.434457</td>\n      <td>1.305910</td>\n      <td>1.399501</td>\n      <td>1.390360</td>\n      <td>1.235703</td>\n      <td>1.376486</td>\n      <td>1.212050</td>\n      <td>1.317202</td>\n      <td>0.079933</td>\n      <td>478</td>\n    </tr>\n    <tr>\n      <th>17</th>\n      <td>663</td>\n      <td>7.426937</td>\n      <td>1.200566</td>\n      <td>0.014512</td>\n      <td>0.007590</td>\n      <td>1267</td>\n      <td>0.027232</td>\n      <td>1000</td>\n      <td>tanh</td>\n      <td>2</td>\n      <td>...</td>\n      <td>1.397273</td>\n      <td>1.485891</td>\n      <td>1.463677</td>\n      <td>1.363603</td>\n      <td>1.309498</td>\n      <td>1.360349</td>\n      <td>1.199199</td>\n      <td>1.325395</td>\n      <td>0.105137</td>\n      <td>477</td>\n    </tr>\n    <tr>\n      <th>18</th>\n      <td>656</td>\n      <td>4.989411</td>\n      <td>0.548553</td>\n      <td>0.013381</td>\n      <td>0.009457</td>\n      <td>493</td>\n      <td>0.060761</td>\n      <td>1000</td>\n      <td>sigmoid</td>\n      <td>1</td>\n      <td>...</td>\n      <td>1.449122</td>\n      <td>1.345580</td>\n      <td>1.447714</td>\n      <td>1.412060</td>\n      <td>1.236254</td>\n      <td>1.434579</td>\n      <td>1.214388</td>\n      <td>1.331689</td>\n      <td>0.094852</td>\n      <td>476</td>\n    </tr>\n    <tr>\n      <th>19</th>\n      <td>478</td>\n      <td>27.334306</td>\n      <td>3.439324</td>\n      <td>0.013101</td>\n      <td>0.007387</td>\n      <td>329</td>\n      <td>0.006637</td>\n      <td>1000</td>\n      <td>sigmoid</td>\n      <td>2</td>\n      <td>...</td>\n      <td>1.450714</td>\n      <td>1.362540</td>\n      <td>1.426575</td>\n      <td>1.406302</td>\n      <td>1.269196</td>\n      <td>1.412758</td>\n      <td>1.206980</td>\n      <td>1.336065</td>\n      <td>0.085436</td>\n      <td>475</td>\n    </tr>\n    <tr>\n      <th>20</th>\n      <td>347</td>\n      <td>5.049337</td>\n      <td>0.588405</td>\n      <td>0.011068</td>\n      <td>0.009378</td>\n      <td>1082</td>\n      <td>0.115692</td>\n      <td>1000</td>\n      <td>sigmoid</td>\n      <td>1</td>\n      <td>...</td>\n      <td>1.523664</td>\n      <td>1.356134</td>\n      <td>1.467824</td>\n      <td>1.440216</td>\n      <td>1.278543</td>\n      <td>1.455201</td>\n      <td>1.281492</td>\n      <td>1.381671</td>\n      <td>0.082041</td>\n      <td>474</td>\n    </tr>\n    <tr>\n      <th>21</th>\n      <td>308</td>\n      <td>3.896379</td>\n      <td>0.548334</td>\n      <td>0.009058</td>\n      <td>0.007061</td>\n      <td>1266</td>\n      <td>0.024748</td>\n      <td>1000</td>\n      <td>tanh</td>\n      <td>1</td>\n      <td>...</td>\n      <td>1.552829</td>\n      <td>1.371966</td>\n      <td>1.468834</td>\n      <td>1.395784</td>\n      <td>1.340344</td>\n      <td>1.495241</td>\n      <td>1.291574</td>\n      <td>1.390553</td>\n      <td>0.090826</td>\n      <td>473</td>\n    </tr>\n    <tr>\n      <th>22</th>\n      <td>857</td>\n      <td>3.016182</td>\n      <td>1.147564</td>\n      <td>0.004047</td>\n      <td>0.001466</td>\n      <td>274</td>\n      <td>0.013916</td>\n      <td>1000</td>\n      <td>tanh</td>\n      <td>2</td>\n      <td>...</td>\n      <td>1.494570</td>\n      <td>1.505253</td>\n      <td>1.514675</td>\n      <td>1.375329</td>\n      <td>1.263993</td>\n      <td>1.490701</td>\n      <td>1.323052</td>\n      <td>1.399878</td>\n      <td>0.088870</td>\n      <td>472</td>\n    </tr>\n    <tr>\n      <th>23</th>\n      <td>393</td>\n      <td>3.715589</td>\n      <td>0.820691</td>\n      <td>0.009804</td>\n      <td>0.007225</td>\n      <td>314</td>\n      <td>0.006706</td>\n      <td>1000</td>\n      <td>tanh</td>\n      <td>2</td>\n      <td>...</td>\n      <td>1.529256</td>\n      <td>1.444416</td>\n      <td>1.501386</td>\n      <td>1.432638</td>\n      <td>1.365546</td>\n      <td>1.534520</td>\n      <td>1.291721</td>\n      <td>1.405585</td>\n      <td>0.094005</td>\n      <td>471</td>\n    </tr>\n    <tr>\n      <th>24</th>\n      <td>558</td>\n      <td>9.609502</td>\n      <td>2.903431</td>\n      <td>0.016277</td>\n      <td>0.012718</td>\n      <td>1094</td>\n      <td>0.020671</td>\n      <td>1000</td>\n      <td>tanh</td>\n      <td>2</td>\n      <td>...</td>\n      <td>2.752069</td>\n      <td>1.285172</td>\n      <td>1.291956</td>\n      <td>1.253931</td>\n      <td>1.144377</td>\n      <td>1.355100</td>\n      <td>1.125270</td>\n      <td>1.407974</td>\n      <td>0.459315</td>\n      <td>470</td>\n    </tr>\n    <tr>\n      <th>25</th>\n      <td>881</td>\n      <td>5.557904</td>\n      <td>1.096284</td>\n      <td>0.006121</td>\n      <td>0.004627</td>\n      <td>326</td>\n      <td>0.004016</td>\n      <td>1000</td>\n      <td>relu</td>\n      <td>2</td>\n      <td>...</td>\n      <td>1.497025</td>\n      <td>1.463743</td>\n      <td>1.505846</td>\n      <td>1.514902</td>\n      <td>1.279931</td>\n      <td>1.473047</td>\n      <td>1.249167</td>\n      <td>1.408295</td>\n      <td>0.093463</td>\n      <td>469</td>\n    </tr>\n    <tr>\n      <th>26</th>\n      <td>617</td>\n      <td>6.415818</td>\n      <td>1.574497</td>\n      <td>0.011961</td>\n      <td>0.006680</td>\n      <td>878</td>\n      <td>0.047922</td>\n      <td>1000</td>\n      <td>tanh</td>\n      <td>2</td>\n      <td>...</td>\n      <td>1.496054</td>\n      <td>1.448640</td>\n      <td>1.497446</td>\n      <td>1.419607</td>\n      <td>1.443888</td>\n      <td>1.489306</td>\n      <td>1.318900</td>\n      <td>1.409108</td>\n      <td>0.076246</td>\n      <td>468</td>\n    </tr>\n    <tr>\n      <th>27</th>\n      <td>37</td>\n      <td>3.503987</td>\n      <td>0.256675</td>\n      <td>0.007442</td>\n      <td>0.004674</td>\n      <td>1195</td>\n      <td>0.030950</td>\n      <td>1000</td>\n      <td>sigmoid</td>\n      <td>1</td>\n      <td>...</td>\n      <td>1.600543</td>\n      <td>1.444055</td>\n      <td>1.550539</td>\n      <td>1.526054</td>\n      <td>1.361021</td>\n      <td>1.541122</td>\n      <td>1.342785</td>\n      <td>1.454087</td>\n      <td>0.090883</td>\n      <td>467</td>\n    </tr>\n    <tr>\n      <th>28</th>\n      <td>645</td>\n      <td>6.301758</td>\n      <td>0.570328</td>\n      <td>0.010264</td>\n      <td>0.011779</td>\n      <td>1044</td>\n      <td>0.037790</td>\n      <td>1000</td>\n      <td>sigmoid</td>\n      <td>1</td>\n      <td>...</td>\n      <td>1.610821</td>\n      <td>1.452358</td>\n      <td>1.539826</td>\n      <td>1.570207</td>\n      <td>1.357668</td>\n      <td>1.522288</td>\n      <td>1.363084</td>\n      <td>1.462252</td>\n      <td>0.087973</td>\n      <td>466</td>\n    </tr>\n    <tr>\n      <th>29</th>\n      <td>355</td>\n      <td>6.133504</td>\n      <td>1.239018</td>\n      <td>0.014852</td>\n      <td>0.009553</td>\n      <td>135</td>\n      <td>0.042311</td>\n      <td>1000</td>\n      <td>tanh</td>\n      <td>2</td>\n      <td>...</td>\n      <td>1.558181</td>\n      <td>1.326592</td>\n      <td>1.541703</td>\n      <td>1.434540</td>\n      <td>1.333252</td>\n      <td>1.753705</td>\n      <td>1.380058</td>\n      <td>1.468537</td>\n      <td>0.155435</td>\n      <td>465</td>\n    </tr>\n    <tr>\n      <th>30</th>\n      <td>181</td>\n      <td>6.343579</td>\n      <td>1.979481</td>\n      <td>0.006803</td>\n      <td>0.002953</td>\n      <td>603</td>\n      <td>0.016535</td>\n      <td>1000</td>\n      <td>relu</td>\n      <td>1</td>\n      <td>...</td>\n      <td>1.572654</td>\n      <td>1.532502</td>\n      <td>1.582305</td>\n      <td>1.569884</td>\n      <td>1.308511</td>\n      <td>1.550679</td>\n      <td>1.309261</td>\n      <td>1.468710</td>\n      <td>0.105222</td>\n      <td>464</td>\n    </tr>\n    <tr>\n      <th>31</th>\n      <td>851</td>\n      <td>1.834826</td>\n      <td>0.342685</td>\n      <td>0.005054</td>\n      <td>0.002408</td>\n      <td>213</td>\n      <td>0.007914</td>\n      <td>1000</td>\n      <td>tanh</td>\n      <td>2</td>\n      <td>...</td>\n      <td>1.583569</td>\n      <td>1.486774</td>\n      <td>1.592262</td>\n      <td>1.466652</td>\n      <td>1.475627</td>\n      <td>1.621727</td>\n      <td>1.347847</td>\n      <td>1.481872</td>\n      <td>0.089647</td>\n      <td>463</td>\n    </tr>\n    <tr>\n      <th>32</th>\n      <td>60</td>\n      <td>2.640523</td>\n      <td>0.576785</td>\n      <td>0.006978</td>\n      <td>0.004552</td>\n      <td>933</td>\n      <td>0.014806</td>\n      <td>1000</td>\n      <td>tanh</td>\n      <td>2</td>\n      <td>...</td>\n      <td>1.669288</td>\n      <td>1.539670</td>\n      <td>1.577268</td>\n      <td>1.567220</td>\n      <td>1.447334</td>\n      <td>1.641505</td>\n      <td>1.340591</td>\n      <td>1.485046</td>\n      <td>0.122816</td>\n      <td>462</td>\n    </tr>\n    <tr>\n      <th>33</th>\n      <td>877</td>\n      <td>1.721435</td>\n      <td>0.189752</td>\n      <td>0.005972</td>\n      <td>0.003004</td>\n      <td>173</td>\n      <td>0.097465</td>\n      <td>1000</td>\n      <td>sigmoid</td>\n      <td>1</td>\n      <td>...</td>\n      <td>1.591609</td>\n      <td>1.501506</td>\n      <td>1.615422</td>\n      <td>1.543063</td>\n      <td>1.380062</td>\n      <td>1.578377</td>\n      <td>1.325151</td>\n      <td>1.486663</td>\n      <td>0.096517</td>\n      <td>461</td>\n    </tr>\n    <tr>\n      <th>34</th>\n      <td>227</td>\n      <td>7.611158</td>\n      <td>3.758561</td>\n      <td>0.007924</td>\n      <td>0.004920</td>\n      <td>764</td>\n      <td>0.074272</td>\n      <td>1000</td>\n      <td>sigmoid</td>\n      <td>2</td>\n      <td>...</td>\n      <td>1.633421</td>\n      <td>1.485457</td>\n      <td>1.597376</td>\n      <td>1.540350</td>\n      <td>1.410380</td>\n      <td>1.511601</td>\n      <td>1.440584</td>\n      <td>1.490658</td>\n      <td>0.077221</td>\n      <td>460</td>\n    </tr>\n    <tr>\n      <th>35</th>\n      <td>511</td>\n      <td>3.110044</td>\n      <td>0.339669</td>\n      <td>0.011108</td>\n      <td>0.008850</td>\n      <td>388</td>\n      <td>0.066961</td>\n      <td>1000</td>\n      <td>sigmoid</td>\n      <td>1</td>\n      <td>...</td>\n      <td>1.650853</td>\n      <td>1.443834</td>\n      <td>1.607949</td>\n      <td>1.545462</td>\n      <td>1.429626</td>\n      <td>1.571951</td>\n      <td>1.438421</td>\n      <td>1.494498</td>\n      <td>0.089943</td>\n      <td>459</td>\n    </tr>\n    <tr>\n      <th>36</th>\n      <td>637</td>\n      <td>12.675928</td>\n      <td>1.517616</td>\n      <td>0.008409</td>\n      <td>0.006333</td>\n      <td>319</td>\n      <td>0.005087</td>\n      <td>1000</td>\n      <td>relu</td>\n      <td>1</td>\n      <td>...</td>\n      <td>1.593258</td>\n      <td>1.552277</td>\n      <td>1.603462</td>\n      <td>1.631200</td>\n      <td>1.344139</td>\n      <td>1.576694</td>\n      <td>1.347289</td>\n      <td>1.496817</td>\n      <td>0.103855</td>\n      <td>458</td>\n    </tr>\n    <tr>\n      <th>37</th>\n      <td>28</td>\n      <td>7.067974</td>\n      <td>1.016961</td>\n      <td>0.005346</td>\n      <td>0.002331</td>\n      <td>642</td>\n      <td>0.008280</td>\n      <td>1000</td>\n      <td>relu</td>\n      <td>1</td>\n      <td>...</td>\n      <td>1.613535</td>\n      <td>1.577094</td>\n      <td>1.604953</td>\n      <td>1.642763</td>\n      <td>1.374115</td>\n      <td>1.589400</td>\n      <td>1.367671</td>\n      <td>1.514597</td>\n      <td>0.100945</td>\n      <td>457</td>\n    </tr>\n    <tr>\n      <th>38</th>\n      <td>985</td>\n      <td>2.762900</td>\n      <td>0.576542</td>\n      <td>0.008759</td>\n      <td>0.007815</td>\n      <td>877</td>\n      <td>0.070418</td>\n      <td>1000</td>\n      <td>sigmoid</td>\n      <td>1</td>\n      <td>...</td>\n      <td>1.673266</td>\n      <td>1.544525</td>\n      <td>1.636912</td>\n      <td>1.500448</td>\n      <td>1.357581</td>\n      <td>1.582272</td>\n      <td>1.507911</td>\n      <td>1.514951</td>\n      <td>0.109489</td>\n      <td>456</td>\n    </tr>\n    <tr>\n      <th>39</th>\n      <td>34</td>\n      <td>2.615273</td>\n      <td>0.235892</td>\n      <td>0.007003</td>\n      <td>0.007107</td>\n      <td>530</td>\n      <td>0.037089</td>\n      <td>1000</td>\n      <td>sigmoid</td>\n      <td>2</td>\n      <td>...</td>\n      <td>1.611611</td>\n      <td>1.514359</td>\n      <td>1.626724</td>\n      <td>1.573195</td>\n      <td>1.469576</td>\n      <td>1.538510</td>\n      <td>1.449253</td>\n      <td>1.515161</td>\n      <td>0.070491</td>\n      <td>455</td>\n    </tr>\n    <tr>\n      <th>40</th>\n      <td>107</td>\n      <td>3.935067</td>\n      <td>0.664728</td>\n      <td>0.011288</td>\n      <td>0.007507</td>\n      <td>342</td>\n      <td>0.020701</td>\n      <td>1000</td>\n      <td>relu</td>\n      <td>1</td>\n      <td>...</td>\n      <td>1.601340</td>\n      <td>1.574714</td>\n      <td>1.618032</td>\n      <td>1.622419</td>\n      <td>1.357960</td>\n      <td>1.556633</td>\n      <td>1.437917</td>\n      <td>1.516868</td>\n      <td>0.087940</td>\n      <td>454</td>\n    </tr>\n    <tr>\n      <th>41</th>\n      <td>213</td>\n      <td>3.969894</td>\n      <td>0.876128</td>\n      <td>0.011139</td>\n      <td>0.006800</td>\n      <td>289</td>\n      <td>0.021373</td>\n      <td>1000</td>\n      <td>relu</td>\n      <td>1</td>\n      <td>...</td>\n      <td>1.635559</td>\n      <td>1.525617</td>\n      <td>1.525415</td>\n      <td>1.605894</td>\n      <td>1.376065</td>\n      <td>1.558324</td>\n      <td>1.783020</td>\n      <td>1.519147</td>\n      <td>0.131605</td>\n      <td>453</td>\n    </tr>\n    <tr>\n      <th>42</th>\n      <td>256</td>\n      <td>3.655492</td>\n      <td>0.455593</td>\n      <td>0.005603</td>\n      <td>0.004168</td>\n      <td>526</td>\n      <td>0.006355</td>\n      <td>1000</td>\n      <td>tanh</td>\n      <td>1</td>\n      <td>...</td>\n      <td>1.703389</td>\n      <td>1.485416</td>\n      <td>1.598677</td>\n      <td>1.527442</td>\n      <td>1.484656</td>\n      <td>1.657393</td>\n      <td>1.435138</td>\n      <td>1.534692</td>\n      <td>0.091293</td>\n      <td>452</td>\n    </tr>\n    <tr>\n      <th>43</th>\n      <td>921</td>\n      <td>4.874624</td>\n      <td>0.526637</td>\n      <td>0.007436</td>\n      <td>0.005973</td>\n      <td>1081</td>\n      <td>0.054836</td>\n      <td>1000</td>\n      <td>sigmoid</td>\n      <td>1</td>\n      <td>...</td>\n      <td>1.706923</td>\n      <td>1.480144</td>\n      <td>1.618986</td>\n      <td>1.599079</td>\n      <td>1.621729</td>\n      <td>1.613040</td>\n      <td>1.476742</td>\n      <td>1.535344</td>\n      <td>0.103665</td>\n      <td>451</td>\n    </tr>\n    <tr>\n      <th>44</th>\n      <td>191</td>\n      <td>5.478639</td>\n      <td>0.150544</td>\n      <td>0.010136</td>\n      <td>0.006428</td>\n      <td>1034</td>\n      <td>0.031884</td>\n      <td>1000</td>\n      <td>sigmoid</td>\n      <td>1</td>\n      <td>...</td>\n      <td>1.723589</td>\n      <td>1.512201</td>\n      <td>1.639639</td>\n      <td>1.629418</td>\n      <td>1.442622</td>\n      <td>1.608439</td>\n      <td>1.444802</td>\n      <td>1.535672</td>\n      <td>0.103588</td>\n      <td>450</td>\n    </tr>\n    <tr>\n      <th>45</th>\n      <td>203</td>\n      <td>6.491839</td>\n      <td>1.321826</td>\n      <td>0.008401</td>\n      <td>0.007043</td>\n      <td>1073</td>\n      <td>0.007782</td>\n      <td>1000</td>\n      <td>tanh</td>\n      <td>1</td>\n      <td>...</td>\n      <td>1.602567</td>\n      <td>1.449985</td>\n      <td>1.603007</td>\n      <td>2.014338</td>\n      <td>1.387741</td>\n      <td>1.581158</td>\n      <td>1.365102</td>\n      <td>1.540589</td>\n      <td>0.180332</td>\n      <td>449</td>\n    </tr>\n    <tr>\n      <th>46</th>\n      <td>552</td>\n      <td>3.673993</td>\n      <td>1.448259</td>\n      <td>0.006879</td>\n      <td>0.005328</td>\n      <td>789</td>\n      <td>0.030246</td>\n      <td>1000</td>\n      <td>tanh</td>\n      <td>2</td>\n      <td>...</td>\n      <td>1.651650</td>\n      <td>1.496687</td>\n      <td>1.499074</td>\n      <td>1.574800</td>\n      <td>1.938693</td>\n      <td>1.573204</td>\n      <td>1.267139</td>\n      <td>1.542767</td>\n      <td>0.165192</td>\n      <td>448</td>\n    </tr>\n    <tr>\n      <th>47</th>\n      <td>673</td>\n      <td>6.426271</td>\n      <td>1.124754</td>\n      <td>0.013246</td>\n      <td>0.010032</td>\n      <td>704</td>\n      <td>0.091118</td>\n      <td>1000</td>\n      <td>sigmoid</td>\n      <td>2</td>\n      <td>...</td>\n      <td>1.673738</td>\n      <td>1.471011</td>\n      <td>1.619310</td>\n      <td>1.615789</td>\n      <td>1.645367</td>\n      <td>1.514197</td>\n      <td>1.511631</td>\n      <td>1.543322</td>\n      <td>0.084080</td>\n      <td>447</td>\n    </tr>\n    <tr>\n      <th>48</th>\n      <td>268</td>\n      <td>9.750975</td>\n      <td>2.969396</td>\n      <td>0.006866</td>\n      <td>0.005338</td>\n      <td>1075</td>\n      <td>0.033758</td>\n      <td>1000</td>\n      <td>sigmoid</td>\n      <td>2</td>\n      <td>...</td>\n      <td>1.433965</td>\n      <td>1.368987</td>\n      <td>1.440732</td>\n      <td>1.427246</td>\n      <td>1.307086</td>\n      <td>3.381528</td>\n      <td>1.251821</td>\n      <td>1.544741</td>\n      <td>0.616814</td>\n      <td>446</td>\n    </tr>\n    <tr>\n      <th>49</th>\n      <td>861</td>\n      <td>2.524487</td>\n      <td>0.347102</td>\n      <td>0.006416</td>\n      <td>0.005228</td>\n      <td>1152</td>\n      <td>0.024244</td>\n      <td>1000</td>\n      <td>tanh</td>\n      <td>1</td>\n      <td>...</td>\n      <td>1.757191</td>\n      <td>1.515160</td>\n      <td>1.648961</td>\n      <td>1.579476</td>\n      <td>1.475278</td>\n      <td>1.669012</td>\n      <td>1.461281</td>\n      <td>1.546714</td>\n      <td>0.109226</td>\n      <td>445</td>\n    </tr>\n  </tbody>\n</table>\n<p>50 rows × 29 columns</p>\n</div>"
     },
     "metadata": {}
    }
   ],
   "execution_count": null
  },
  {
   "cell_type": "code",
   "metadata": {
    "cell_id": "00038-abb9c3bf-0f8b-4556-8904-fafdcdf7366f",
    "deepnote_to_be_reexecuted": false,
    "source_hash": "71a1c832",
    "execution_start": 1642976876701,
    "execution_millis": 110,
    "deepnote_cell_type": "code"
   },
   "source": "best_models = list() #list of the top ten models of the final randomized search\neval_best_models = list()\n\nfor i in range(10):\n    ### GET HYPERPARAMETERS AND FIX DICTIONARY\n    best_params_i = df_results['params'][i]\n    first_part = str(best_params_i.split(\"'optimizer': <class 'torch.optim.sgd.SGD'>, \", 1)[0]) #manually remove the optimizer parameter\n    second_part = str(best_params_i.split(\"'optimizer': <class 'torch.optim.sgd.SGD'>, \", 1)[1])\n    best_params_i = first_part+second_part\n    best_params_i = ast.literal_eval(best_params_i)\n\n    print(best_params_i)\n    ### SET HYPERPARAMETERS ###\n    HIDDEN_LAYERS = best_params_i['module__hidden_layers']\n    NUM_UNITS = best_params_i['module__num_units']\n    ACTIVATION_FUN = best_params_i['module__activation_fun']\n    OPTIMIZER = 'SGD'\n    LR = best_params_i['lr']\n    WEIGHT_DECAY = best_params_i['optimizer__weight_decay']\n    BATCH = best_params_i['batch_size']\n    MAX_EPOCHS = best_params_i['max_epochs']\n    NESTEROV = best_params_i['optimizer__nesterov']\n    #MOMENTUM = best_params_i['optimizer__momentum']\n    MOMENTUM = 0.85\n    ### DEFINE MODULES AND MODELS ###\n    module_i = MyModule(NUM_UNITS, ACTIVATION_FUN, HIDDEN_LAYERS)\n    eval_module_i = MyModule(NUM_UNITS, ACTIVATION_FUN, HIDDEN_LAYERS)\n\n    model_i = NeuralNetRegressor(\n        module = module_i,\n        criterion=nn.MSELoss,\n        max_epochs=MAX_EPOCHS,\n        lr=LR,\n        batch_size=BATCH,\n        optimizer=torch.optim.SGD,\n        optimizer__momentum=MOMENTUM,\n        callbacks=[('early_stoppping', EarlyStopping(monitor='valid_loss', patience=PATIENCE, threshold=THRESHOLD))],\n    )\n\n    eval_model_i = NeuralNetRegressor(\n        module = eval_module_i,\n        criterion=nn.MSELoss,\n        max_epochs=MAX_EPOCHS,\n        lr=LR,\n        batch_size=BATCH,\n        optimizer=torch.optim.SGD,\n        optimizer__momentum=MOMENTUM,\n    )\n\n    best_models.append(model_i)\n    eval_best_models.append(eval_model_i)",
   "outputs": [
    {
     "name": "stdout",
     "text": "{'batch_size': 1246, 'lr': 0.12681763559641845, 'max_epochs': 1000, 'module__activation_fun': 'sigmoid', 'module__hidden_layers': 1, 'module__num_units': 38, 'optimizer__momentum': 0.9, 'optimizer__nesterov': False, 'optimizer__weight_decay': 0.0034158054342776204}\n{'batch_size': 188, 'lr': 0.014305461280066465, 'max_epochs': 1000, 'module__activation_fun': 'sigmoid', 'module__hidden_layers': 2, 'module__num_units': 19, 'optimizer__momentum': 0.95, 'optimizer__nesterov': True, 'optimizer__weight_decay': 0.005560607766262103}\n{'batch_size': 1174, 'lr': 0.06250468838952698, 'max_epochs': 1000, 'module__activation_fun': 'tanh', 'module__hidden_layers': 1, 'module__num_units': 63, 'optimizer__momentum': 0.9, 'optimizer__nesterov': False, 'optimizer__weight_decay': 0.018539723868231862}\n{'batch_size': 913, 'lr': 0.008018168018362795, 'max_epochs': 1000, 'module__activation_fun': 'tanh', 'module__hidden_layers': 2, 'module__num_units': 17, 'optimizer__momentum': 0.9, 'optimizer__nesterov': True, 'optimizer__weight_decay': 0.008891502923035479}\n{'batch_size': 832, 'lr': 0.21106088359595798, 'max_epochs': 1000, 'module__activation_fun': 'sigmoid', 'module__hidden_layers': 1, 'module__num_units': 21, 'optimizer__momentum': 0.9, 'optimizer__nesterov': True, 'optimizer__weight_decay': 0.003903946056496063}\n{'batch_size': 962, 'lr': 0.012834716599970836, 'max_epochs': 1000, 'module__activation_fun': 'tanh', 'module__hidden_layers': 2, 'module__num_units': 91, 'optimizer__momentum': 0.95, 'optimizer__nesterov': True, 'optimizer__weight_decay': 0.04905397572991494}\n{'batch_size': 394, 'lr': 0.01996632420358551, 'max_epochs': 1000, 'module__activation_fun': 'sigmoid', 'module__hidden_layers': 2, 'module__num_units': 51, 'optimizer__momentum': 0.95, 'optimizer__nesterov': False, 'optimizer__weight_decay': 0.013151070528504255}\n{'batch_size': 1125, 'lr': 0.01865168526561478, 'max_epochs': 1000, 'module__activation_fun': 'tanh', 'module__hidden_layers': 1, 'module__num_units': 44, 'optimizer__momentum': 0.9, 'optimizer__nesterov': False, 'optimizer__weight_decay': 0.021111222099836475}\n{'batch_size': 479, 'lr': 0.022487480480225027, 'max_epochs': 1000, 'module__activation_fun': 'sigmoid', 'module__hidden_layers': 1, 'module__num_units': 92, 'optimizer__momentum': 0.95, 'optimizer__nesterov': False, 'optimizer__weight_decay': 0.010493228173623605}\n{'batch_size': 420, 'lr': 0.014394590988193165, 'max_epochs': 1000, 'module__activation_fun': 'tanh', 'module__hidden_layers': 1, 'module__num_units': 16, 'optimizer__momentum': 0.9, 'optimizer__nesterov': True, 'optimizer__weight_decay': 0.018666506382541092}\n",
     "output_type": "stream"
    }
   ],
   "execution_count": null
  },
  {
   "cell_type": "code",
   "metadata": {
    "cell_id": "00063-4e9e8339-09fe-43e2-b61e-7212549c3846",
    "deepnote_to_be_reexecuted": false,
    "execution_millis": 131044,
    "execution_start": 1642976876808,
    "output_cleared": false,
    "source_hash": "88d9139b",
    "deepnote_cell_type": "code"
   },
   "source": "epochs_best_models = list()\n\n#fit every model\nfor model in best_models:\n    model.fit(X,y)\n    EPOCHS = len(model.history)\n    epochs_best_models.append(EPOCHS)\n",
   "outputs": [
    {
     "name": "stdout",
     "text": "    102        \u001b[36m1.0710\u001b[0m        \u001b[32m0.9925\u001b[0m  0.0156\n    103        \u001b[36m1.0697\u001b[0m        \u001b[32m0.9922\u001b[0m  0.0203\n    104        \u001b[36m1.0685\u001b[0m        \u001b[32m0.9919\u001b[0m  0.0344\n    105        \u001b[36m1.0674\u001b[0m        \u001b[32m0.9916\u001b[0m  0.0185\n    106        \u001b[36m1.0662\u001b[0m        \u001b[32m0.9913\u001b[0m  0.0183\n    107        \u001b[36m1.0650\u001b[0m        \u001b[32m0.9911\u001b[0m  0.0179\n    108        \u001b[36m1.0639\u001b[0m        \u001b[32m0.9908\u001b[0m  0.0283\n    109        \u001b[36m1.0627\u001b[0m        \u001b[32m0.9905\u001b[0m  0.0186\n    110        \u001b[36m1.0616\u001b[0m        \u001b[32m0.9903\u001b[0m  0.0184\n    111        \u001b[36m1.0605\u001b[0m        \u001b[32m0.9900\u001b[0m  0.0183\n    112        \u001b[36m1.0594\u001b[0m        \u001b[32m0.9898\u001b[0m  0.0167\n    113        \u001b[36m1.0583\u001b[0m        \u001b[32m0.9895\u001b[0m  0.0827\n    114        \u001b[36m1.0573\u001b[0m        \u001b[32m0.9893\u001b[0m  0.0163\n    115        \u001b[36m1.0562\u001b[0m        \u001b[32m0.9891\u001b[0m  0.0185\n    116        \u001b[36m1.0551\u001b[0m        \u001b[32m0.9889\u001b[0m  0.0185\n    117        \u001b[36m1.0541\u001b[0m        \u001b[32m0.9887\u001b[0m  0.0174\n    118        \u001b[36m1.0530\u001b[0m        \u001b[32m0.9884\u001b[0m  0.0204\n    119        \u001b[36m1.0520\u001b[0m        \u001b[32m0.9882\u001b[0m  0.0319\n    120        \u001b[36m1.0510\u001b[0m        \u001b[32m0.9880\u001b[0m  0.0155\n    121        \u001b[36m1.0500\u001b[0m        \u001b[32m0.9878\u001b[0m  0.0163\n    122        \u001b[36m1.0490\u001b[0m        \u001b[32m0.9876\u001b[0m  0.0155\n    123        \u001b[36m1.0480\u001b[0m        \u001b[32m0.9874\u001b[0m  0.0157\n    124        \u001b[36m1.0470\u001b[0m        \u001b[32m0.9872\u001b[0m  0.0308\nStopping since valid_loss has not improved in the last 20 epochs.\n  epoch    train_loss    valid_loss     dur\n-------  ------------  ------------  ------\n      1      \u001b[36m144.4068\u001b[0m       \u001b[32m61.5825\u001b[0m  0.0164\n      2       \u001b[36m66.9323\u001b[0m       \u001b[32m45.1978\u001b[0m  0.0173\n      3       \u001b[36m45.5849\u001b[0m       \u001b[32m15.6950\u001b[0m  0.0379\n      4       \u001b[36m16.3305\u001b[0m       19.4316  0.0202\n      5       \u001b[36m14.1055\u001b[0m        \u001b[32m9.9535\u001b[0m  0.0204\n      6       \u001b[36m11.5172\u001b[0m       10.8237  0.0206\n      7        \u001b[36m9.2675\u001b[0m        \u001b[32m8.6192\u001b[0m  0.0163\n      8        \u001b[36m9.0015\u001b[0m        \u001b[32m7.6376\u001b[0m  0.0159\n      9        \u001b[36m7.6001\u001b[0m        7.9156  0.0170\n     10        7.8123        \u001b[32m7.2559\u001b[0m  0.0159\n     11        \u001b[36m7.0457\u001b[0m        \u001b[32m6.6644\u001b[0m  0.0220\n     12        \u001b[36m6.7073\u001b[0m        \u001b[32m6.1511\u001b[0m  0.0186\n     13        \u001b[36m6.0945\u001b[0m        \u001b[32m5.8981\u001b[0m  0.0188\n     14        \u001b[36m5.7562\u001b[0m        \u001b[32m5.3053\u001b[0m  0.0416\n     15        \u001b[36m5.2706\u001b[0m        \u001b[32m4.7894\u001b[0m  0.0162\n     16        \u001b[36m4.8641\u001b[0m        \u001b[32m4.3465\u001b[0m  0.0162\n     17        \u001b[36m4.4172\u001b[0m        \u001b[32m3.9624\u001b[0m  0.0161\n     18        \u001b[36m4.0129\u001b[0m        \u001b[32m3.4971\u001b[0m  0.0496\n     19        \u001b[36m3.6138\u001b[0m        \u001b[32m3.1303\u001b[0m  0.0182\n     20        \u001b[36m3.2631\u001b[0m        \u001b[32m2.8412\u001b[0m  0.0167\n     21        \u001b[36m2.9687\u001b[0m        \u001b[32m2.5747\u001b[0m  0.0166\n     22        \u001b[36m2.7173\u001b[0m        \u001b[32m2.3302\u001b[0m  0.0401\n     23        \u001b[36m2.4990\u001b[0m        \u001b[32m2.1446\u001b[0m  0.0165\n     24        \u001b[36m2.3158\u001b[0m        \u001b[32m1.9978\u001b[0m  0.0167\n     25        \u001b[36m2.1683\u001b[0m        \u001b[32m1.8632\u001b[0m  0.0164\n     26        \u001b[36m2.0443\u001b[0m        \u001b[32m1.7546\u001b[0m  0.0453\n     27        \u001b[36m1.9434\u001b[0m        \u001b[32m1.6734\u001b[0m  0.0170\n     28        \u001b[36m1.8643\u001b[0m        \u001b[32m1.6043\u001b[0m  0.0171\n     29        \u001b[36m1.7999\u001b[0m        \u001b[32m1.5437\u001b[0m  0.0163\n     30        \u001b[36m1.7455\u001b[0m        \u001b[32m1.4958\u001b[0m  0.0463\n     31        \u001b[36m1.7002\u001b[0m        \u001b[32m1.4553\u001b[0m  0.0161\n     32        \u001b[36m1.6618\u001b[0m        \u001b[32m1.4169\u001b[0m  0.0160\n     33        \u001b[36m1.6273\u001b[0m        \u001b[32m1.3826\u001b[0m  0.0158\n     34        \u001b[36m1.5962\u001b[0m        \u001b[32m1.3527\u001b[0m  0.0435\n     35        \u001b[36m1.5684\u001b[0m        \u001b[32m1.3245\u001b[0m  0.0193\n     36        \u001b[36m1.5429\u001b[0m        \u001b[32m1.2980\u001b[0m  0.0158\n     37        \u001b[36m1.5192\u001b[0m        \u001b[32m1.2741\u001b[0m  0.0157\n     38        \u001b[36m1.4975\u001b[0m        \u001b[32m1.2522\u001b[0m  0.0394\n     39        \u001b[36m1.4775\u001b[0m        \u001b[32m1.2314\u001b[0m  0.0165\n     40        \u001b[36m1.4589\u001b[0m        \u001b[32m1.2123\u001b[0m  0.0159\n     41        \u001b[36m1.4416\u001b[0m        \u001b[32m1.1949\u001b[0m  0.0167\n     42        \u001b[36m1.4255\u001b[0m        \u001b[32m1.1786\u001b[0m  0.0163\n     43        \u001b[36m1.4105\u001b[0m        \u001b[32m1.1634\u001b[0m  0.0163\n     44        \u001b[36m1.3965\u001b[0m        \u001b[32m1.1495\u001b[0m  0.0164\n     45        \u001b[36m1.3834\u001b[0m        \u001b[32m1.1365\u001b[0m  0.0161\n     46        \u001b[36m1.3712\u001b[0m        \u001b[32m1.1245\u001b[0m  0.0183\n     47        \u001b[36m1.3597\u001b[0m        \u001b[32m1.1134\u001b[0m  0.0414\n     48        \u001b[36m1.3490\u001b[0m        \u001b[32m1.1031\u001b[0m  0.0164\n     49        \u001b[36m1.3390\u001b[0m        \u001b[32m1.0936\u001b[0m  0.0166\n     50        \u001b[36m1.3296\u001b[0m        \u001b[32m1.0847\u001b[0m  0.0166\n     51        \u001b[36m1.3207\u001b[0m        \u001b[32m1.0765\u001b[0m  0.0445\n     52        \u001b[36m1.3125\u001b[0m        \u001b[32m1.0689\u001b[0m  0.0194\n     53        \u001b[36m1.3047\u001b[0m        \u001b[32m1.0619\u001b[0m  0.0159\n     54        \u001b[36m1.2973\u001b[0m        \u001b[32m1.0553\u001b[0m  0.0184\n     55        \u001b[36m1.2905\u001b[0m        \u001b[32m1.0492\u001b[0m  0.0197\n     56        \u001b[36m1.2840\u001b[0m        \u001b[32m1.0436\u001b[0m  0.0203\n     57        \u001b[36m1.2778\u001b[0m        \u001b[32m1.0384\u001b[0m  0.0167\n     58        \u001b[36m1.2721\u001b[0m        \u001b[32m1.0335\u001b[0m  0.0468\n     59        \u001b[36m1.2666\u001b[0m        \u001b[32m1.0290\u001b[0m  0.0214\n     60        \u001b[36m1.2615\u001b[0m        \u001b[32m1.0249\u001b[0m  0.0203\n     61        \u001b[36m1.2566\u001b[0m        \u001b[32m1.0210\u001b[0m  0.0483\n     62        \u001b[36m1.2520\u001b[0m        \u001b[32m1.0173\u001b[0m  0.0214\n     63        \u001b[36m1.2476\u001b[0m        \u001b[32m1.0140\u001b[0m  0.0204\n     64        \u001b[36m1.2435\u001b[0m        \u001b[32m1.0108\u001b[0m  0.0205\n     65        \u001b[36m1.2395\u001b[0m        \u001b[32m1.0079\u001b[0m  0.0447\n     66        \u001b[36m1.2358\u001b[0m        \u001b[32m1.0051\u001b[0m  0.0169\n     67        \u001b[36m1.2322\u001b[0m        \u001b[32m1.0025\u001b[0m  0.0165\n     68        \u001b[36m1.2288\u001b[0m        \u001b[32m1.0001\u001b[0m  0.0168\n     69        \u001b[36m1.2256\u001b[0m        \u001b[32m0.9979\u001b[0m  0.0183\n     70        \u001b[36m1.2225\u001b[0m        \u001b[32m0.9957\u001b[0m  0.0165\n     71        \u001b[36m1.2195\u001b[0m        \u001b[32m0.9937\u001b[0m  0.0161\n     72        \u001b[36m1.2166\u001b[0m        \u001b[32m0.9918\u001b[0m  0.0166\n     73        \u001b[36m1.2139\u001b[0m        \u001b[32m0.9900\u001b[0m  0.0395\n     74        \u001b[36m1.2113\u001b[0m        \u001b[32m0.9883\u001b[0m  0.0183\n     75        \u001b[36m1.2087\u001b[0m        \u001b[32m0.9867\u001b[0m  0.0176\n     76        \u001b[36m1.2063\u001b[0m        \u001b[32m0.9851\u001b[0m  0.0167\n     77        \u001b[36m1.2040\u001b[0m        \u001b[32m0.9837\u001b[0m  0.0445\n     78        \u001b[36m1.2017\u001b[0m        \u001b[32m0.9823\u001b[0m  0.0167\n     79        \u001b[36m1.1995\u001b[0m        \u001b[32m0.9810\u001b[0m  0.0160\n     80        \u001b[36m1.1974\u001b[0m        \u001b[32m0.9797\u001b[0m  0.0163\n     81        \u001b[36m1.1953\u001b[0m        \u001b[32m0.9785\u001b[0m  0.0437\n     82        \u001b[36m1.1933\u001b[0m        \u001b[32m0.9773\u001b[0m  0.0161\n     83        \u001b[36m1.1914\u001b[0m        \u001b[32m0.9762\u001b[0m  0.0164\n     84        \u001b[36m1.1895\u001b[0m        \u001b[32m0.9751\u001b[0m  0.0169\n     85        \u001b[36m1.1877\u001b[0m        \u001b[32m0.9741\u001b[0m  0.0414\n     86        \u001b[36m1.1860\u001b[0m        \u001b[32m0.9731\u001b[0m  0.0168\n     87        \u001b[36m1.1842\u001b[0m        \u001b[32m0.9721\u001b[0m  0.0168\n     88        \u001b[36m1.1826\u001b[0m        \u001b[32m0.9712\u001b[0m  0.0168\n     89        \u001b[36m1.1809\u001b[0m        \u001b[32m0.9703\u001b[0m  0.0442\n     90        \u001b[36m1.1793\u001b[0m        \u001b[32m0.9694\u001b[0m  0.0167\n     91        \u001b[36m1.1778\u001b[0m        \u001b[32m0.9686\u001b[0m  0.0166\n     92        \u001b[36m1.1763\u001b[0m        \u001b[32m0.9677\u001b[0m  0.0166\n     93        \u001b[36m1.1748\u001b[0m        \u001b[32m0.9669\u001b[0m  0.0439\n     94        \u001b[36m1.1734\u001b[0m        \u001b[32m0.9662\u001b[0m  0.0168\n     95        \u001b[36m1.1719\u001b[0m        \u001b[32m0.9654\u001b[0m  0.0167\n     96        \u001b[36m1.1706\u001b[0m        \u001b[32m0.9647\u001b[0m  0.0166\n     97        \u001b[36m1.1692\u001b[0m        \u001b[32m0.9640\u001b[0m  0.0483\n     98        \u001b[36m1.1679\u001b[0m        \u001b[32m0.9633\u001b[0m  0.0205\n     99        \u001b[36m1.1666\u001b[0m        \u001b[32m0.9626\u001b[0m  0.0206\n    100        \u001b[36m1.1653\u001b[0m        \u001b[32m0.9619\u001b[0m  0.0445\n    101        \u001b[36m1.1641\u001b[0m        \u001b[32m0.9613\u001b[0m  0.0171\n    102        \u001b[36m1.1629\u001b[0m        \u001b[32m0.9606\u001b[0m  0.0173\n    103        \u001b[36m1.1617\u001b[0m        \u001b[32m0.9600\u001b[0m  0.0176\n    104        \u001b[36m1.1605\u001b[0m        \u001b[32m0.9594\u001b[0m  0.0450\n    105        \u001b[36m1.1594\u001b[0m        \u001b[32m0.9588\u001b[0m  0.0209\n    106        \u001b[36m1.1582\u001b[0m        \u001b[32m0.9582\u001b[0m  0.0205\n    107        \u001b[36m1.1571\u001b[0m        \u001b[32m0.9577\u001b[0m  0.0203\n    108        \u001b[36m1.1560\u001b[0m        \u001b[32m0.9571\u001b[0m  0.0422\n    109        \u001b[36m1.1550\u001b[0m        \u001b[32m0.9565\u001b[0m  0.0167\n    110        \u001b[36m1.1539\u001b[0m        \u001b[32m0.9560\u001b[0m  0.0160\n    111        \u001b[36m1.1529\u001b[0m        \u001b[32m0.9555\u001b[0m  0.0159\n    112        \u001b[36m1.1519\u001b[0m        \u001b[32m0.9549\u001b[0m  0.0433\n    113        \u001b[36m1.1509\u001b[0m        \u001b[32m0.9544\u001b[0m  0.0159\n    114        \u001b[36m1.1499\u001b[0m        \u001b[32m0.9539\u001b[0m  0.0208\n    115        \u001b[36m1.1489\u001b[0m        \u001b[32m0.9534\u001b[0m  0.0202\n    116        \u001b[36m1.1479\u001b[0m        \u001b[32m0.9529\u001b[0m  0.0425\n    117        \u001b[36m1.1470\u001b[0m        \u001b[32m0.9525\u001b[0m  0.0167\n    118        \u001b[36m1.1461\u001b[0m        \u001b[32m0.9520\u001b[0m  0.0172\n    119        \u001b[36m1.1452\u001b[0m        \u001b[32m0.9515\u001b[0m  0.0165\n    120        \u001b[36m1.1443\u001b[0m        \u001b[32m0.9511\u001b[0m  0.0439\n    121        \u001b[36m1.1434\u001b[0m        \u001b[32m0.9506\u001b[0m  0.0165\n    122        \u001b[36m1.1425\u001b[0m        \u001b[32m0.9502\u001b[0m  0.0163\n    123        \u001b[36m1.1417\u001b[0m        \u001b[32m0.9497\u001b[0m  0.0164\n    124        \u001b[36m1.1408\u001b[0m        \u001b[32m0.9493\u001b[0m  0.0414\n    125        \u001b[36m1.1400\u001b[0m        \u001b[32m0.9489\u001b[0m  0.0167\n    126        \u001b[36m1.1392\u001b[0m        \u001b[32m0.9484\u001b[0m  0.0225\n    127        \u001b[36m1.1383\u001b[0m        \u001b[32m0.9480\u001b[0m  0.0166\n    128        \u001b[36m1.1375\u001b[0m        \u001b[32m0.9476\u001b[0m  0.0465\n    129        \u001b[36m1.1367\u001b[0m        \u001b[32m0.9472\u001b[0m  0.0207\n    130        \u001b[36m1.1360\u001b[0m        \u001b[32m0.9468\u001b[0m  0.0202\n    131        \u001b[36m1.1352\u001b[0m        \u001b[32m0.9464\u001b[0m  0.0402\n    132        \u001b[36m1.1344\u001b[0m        \u001b[32m0.9460\u001b[0m  0.0162\n    133        \u001b[36m1.1337\u001b[0m        \u001b[32m0.9456\u001b[0m  0.0167\n    134        \u001b[36m1.1329\u001b[0m        \u001b[32m0.9452\u001b[0m  0.0167\n    135        \u001b[36m1.1322\u001b[0m        \u001b[32m0.9448\u001b[0m  0.0471\n    136        \u001b[36m1.1315\u001b[0m        \u001b[32m0.9445\u001b[0m  0.0168\n    137        \u001b[36m1.1308\u001b[0m        \u001b[32m0.9441\u001b[0m  0.0164\n    138        \u001b[36m1.1301\u001b[0m        \u001b[32m0.9437\u001b[0m  0.0164\n    139        \u001b[36m1.1294\u001b[0m        \u001b[32m0.9434\u001b[0m  0.0438\n    140        \u001b[36m1.1287\u001b[0m        \u001b[32m0.9430\u001b[0m  0.0158\n    141        \u001b[36m1.1280\u001b[0m        \u001b[32m0.9426\u001b[0m  0.0157\n    142        \u001b[36m1.1273\u001b[0m        \u001b[32m0.9423\u001b[0m  0.0183\n    143        \u001b[36m1.1266\u001b[0m        \u001b[32m0.9419\u001b[0m  0.0162\n    144        \u001b[36m1.1260\u001b[0m        \u001b[32m0.9416\u001b[0m  0.0397\n    145        \u001b[36m1.1253\u001b[0m        \u001b[32m0.9412\u001b[0m  0.0159\n    146        \u001b[36m1.1247\u001b[0m        \u001b[32m0.9409\u001b[0m  0.0162\n    147        \u001b[36m1.1240\u001b[0m        \u001b[32m0.9406\u001b[0m  0.0159\n    148        \u001b[36m1.1234\u001b[0m        \u001b[32m0.9402\u001b[0m  0.0475\n    149        \u001b[36m1.1228\u001b[0m        \u001b[32m0.9399\u001b[0m  0.0164\n    150        \u001b[36m1.1221\u001b[0m        \u001b[32m0.9396\u001b[0m  0.0167\n    151        \u001b[36m1.1215\u001b[0m        \u001b[32m0.9392\u001b[0m  0.0163\n    152        \u001b[36m1.1209\u001b[0m        \u001b[32m0.9389\u001b[0m  0.0402\n    153        \u001b[36m1.1203\u001b[0m        \u001b[32m0.9386\u001b[0m  0.0164\n    154        \u001b[36m1.1197\u001b[0m        \u001b[32m0.9383\u001b[0m  0.0184\n    155        \u001b[36m1.1191\u001b[0m        \u001b[32m0.9380\u001b[0m  0.0181\n    156        \u001b[36m1.1186\u001b[0m        \u001b[32m0.9376\u001b[0m  0.0438\n    157        \u001b[36m1.1180\u001b[0m        \u001b[32m0.9373\u001b[0m  0.0165\n    158        \u001b[36m1.1174\u001b[0m        \u001b[32m0.9370\u001b[0m  0.0165\n    159        \u001b[36m1.1168\u001b[0m        \u001b[32m0.9367\u001b[0m  0.0165\n    160        \u001b[36m1.1163\u001b[0m        \u001b[32m0.9364\u001b[0m  0.0439\n    161        \u001b[36m1.1157\u001b[0m        \u001b[32m0.9361\u001b[0m  0.0159\n    162        \u001b[36m1.1152\u001b[0m        \u001b[32m0.9358\u001b[0m  0.0159\n    163        \u001b[36m1.1146\u001b[0m        \u001b[32m0.9355\u001b[0m  0.0159\n    164        \u001b[36m1.1141\u001b[0m        \u001b[32m0.9352\u001b[0m  0.0433\n    165        \u001b[36m1.1135\u001b[0m        \u001b[32m0.9349\u001b[0m  0.0165\n    166        \u001b[36m1.1130\u001b[0m        \u001b[32m0.9346\u001b[0m  0.0159\n    167        \u001b[36m1.1125\u001b[0m        \u001b[32m0.9344\u001b[0m  0.0185\n    168        \u001b[36m1.1119\u001b[0m        \u001b[32m0.9341\u001b[0m  0.0436\n    169        \u001b[36m1.1114\u001b[0m        \u001b[32m0.9338\u001b[0m  0.0167\n    170        \u001b[36m1.1109\u001b[0m        \u001b[32m0.9335\u001b[0m  0.0165\n    171        \u001b[36m1.1104\u001b[0m        \u001b[32m0.9332\u001b[0m  0.0165\n    172        \u001b[36m1.1099\u001b[0m        \u001b[32m0.9330\u001b[0m  0.0428\n    173        \u001b[36m1.1094\u001b[0m        \u001b[32m0.9327\u001b[0m  0.0161\n    174        \u001b[36m1.1089\u001b[0m        \u001b[32m0.9324\u001b[0m  0.0172\n    175        \u001b[36m1.1084\u001b[0m        \u001b[32m0.9321\u001b[0m  0.0162\n    176        \u001b[36m1.1079\u001b[0m        \u001b[32m0.9319\u001b[0m  0.0466\n    177        \u001b[36m1.1074\u001b[0m        \u001b[32m0.9316\u001b[0m  0.0175\n    178        \u001b[36m1.1069\u001b[0m        \u001b[32m0.9313\u001b[0m  0.0161\n    179        \u001b[36m1.1064\u001b[0m        \u001b[32m0.9311\u001b[0m  0.0161\n    180        \u001b[36m1.1060\u001b[0m        \u001b[32m0.9308\u001b[0m  0.0451\n    181        \u001b[36m1.1055\u001b[0m        \u001b[32m0.9305\u001b[0m  0.0160\n    182        \u001b[36m1.1050\u001b[0m        \u001b[32m0.9303\u001b[0m  0.0159\n    183        \u001b[36m1.1046\u001b[0m        \u001b[32m0.9300\u001b[0m  0.0159\n    184        \u001b[36m1.1041\u001b[0m        \u001b[32m0.9298\u001b[0m  0.0161\n    185        \u001b[36m1.1036\u001b[0m        \u001b[32m0.9295\u001b[0m  0.0195\n    186        \u001b[36m1.1032\u001b[0m        \u001b[32m0.9293\u001b[0m  0.0160\n    187        \u001b[36m1.1027\u001b[0m        \u001b[32m0.9290\u001b[0m  0.0161\n    188        \u001b[36m1.1023\u001b[0m        \u001b[32m0.9287\u001b[0m  0.0179\n    189        \u001b[36m1.1018\u001b[0m        \u001b[32m0.9285\u001b[0m  0.0161\n    190        \u001b[36m1.1014\u001b[0m        \u001b[32m0.9283\u001b[0m  0.0161\n    191        \u001b[36m1.1009\u001b[0m        \u001b[32m0.9280\u001b[0m  0.0159\n    192        \u001b[36m1.1005\u001b[0m        \u001b[32m0.9278\u001b[0m  0.0160\n    193        \u001b[36m1.1001\u001b[0m        \u001b[32m0.9275\u001b[0m  0.0396\n    194        \u001b[36m1.0996\u001b[0m        \u001b[32m0.9273\u001b[0m  0.0161\n    195        \u001b[36m1.0992\u001b[0m        \u001b[32m0.9270\u001b[0m  0.0161\n    196        \u001b[36m1.0988\u001b[0m        \u001b[32m0.9268\u001b[0m  0.0173\n    197        \u001b[36m1.0983\u001b[0m        \u001b[32m0.9266\u001b[0m  0.0445\n    198        \u001b[36m1.0979\u001b[0m        \u001b[32m0.9263\u001b[0m  0.0162\n    199        \u001b[36m1.0975\u001b[0m        \u001b[32m0.9261\u001b[0m  0.0162\n    200        \u001b[36m1.0971\u001b[0m        \u001b[32m0.9259\u001b[0m  0.0160\n    201        \u001b[36m1.0967\u001b[0m        \u001b[32m0.9256\u001b[0m  0.0439\n    202        \u001b[36m1.0963\u001b[0m        \u001b[32m0.9254\u001b[0m  0.0166\n    203        \u001b[36m1.0959\u001b[0m        \u001b[32m0.9252\u001b[0m  0.0189\n    204        \u001b[36m1.0954\u001b[0m        \u001b[32m0.9249\u001b[0m  0.0158\n    205        \u001b[36m1.0950\u001b[0m        \u001b[32m0.9247\u001b[0m  0.0433\n    206        \u001b[36m1.0946\u001b[0m        \u001b[32m0.9245\u001b[0m  0.0166\n    207        \u001b[36m1.0942\u001b[0m        \u001b[32m0.9242\u001b[0m  0.0160\n    208        \u001b[36m1.0938\u001b[0m        \u001b[32m0.9240\u001b[0m  0.0161\n    209        \u001b[36m1.0934\u001b[0m        \u001b[32m0.9238\u001b[0m  0.0435\n    210        \u001b[36m1.0930\u001b[0m        \u001b[32m0.9236\u001b[0m  0.0162\n    211        \u001b[36m1.0927\u001b[0m        \u001b[32m0.9234\u001b[0m  0.0165\n    212        \u001b[36m1.0923\u001b[0m        \u001b[32m0.9231\u001b[0m  0.0164\n    213        \u001b[36m1.0919\u001b[0m        \u001b[32m0.9229\u001b[0m  0.0159\n    214        \u001b[36m1.0915\u001b[0m        \u001b[32m0.9227\u001b[0m  0.0158\n    215        \u001b[36m1.0911\u001b[0m        \u001b[32m0.9225\u001b[0m  0.0165\n    216        \u001b[36m1.0907\u001b[0m        \u001b[32m0.9223\u001b[0m  0.0199\n    217        \u001b[36m1.0903\u001b[0m        \u001b[32m0.9220\u001b[0m  0.0443\n    218        \u001b[36m1.0900\u001b[0m        \u001b[32m0.9218\u001b[0m  0.0166\n    219        \u001b[36m1.0896\u001b[0m        \u001b[32m0.9216\u001b[0m  0.0164\n    220        \u001b[36m1.0892\u001b[0m        \u001b[32m0.9214\u001b[0m  0.0163\n    221        \u001b[36m1.0888\u001b[0m        \u001b[32m0.9212\u001b[0m  0.0166\n    222        \u001b[36m1.0885\u001b[0m        \u001b[32m0.9210\u001b[0m  0.0163\n    223        \u001b[36m1.0881\u001b[0m        \u001b[32m0.9208\u001b[0m  0.0159\n    224        \u001b[36m1.0877\u001b[0m        \u001b[32m0.9206\u001b[0m  0.0157\n    225        \u001b[36m1.0874\u001b[0m        \u001b[32m0.9204\u001b[0m  0.0160\n    226        \u001b[36m1.0870\u001b[0m        \u001b[32m0.9202\u001b[0m  0.0443\n    227        \u001b[36m1.0866\u001b[0m        \u001b[32m0.9200\u001b[0m  0.0160\n    228        \u001b[36m1.0863\u001b[0m        \u001b[32m0.9197\u001b[0m  0.0161\n    229        \u001b[36m1.0859\u001b[0m        \u001b[32m0.9195\u001b[0m  0.0162\nStopping since valid_loss has not improved in the last 20 epochs.\n  epoch    train_loss    valid_loss     dur\n-------  ------------  ------------  ------\n      1      \u001b[36m229.3376\u001b[0m      \u001b[32m221.0447\u001b[0m  0.0149\n      2      \u001b[36m206.6441\u001b[0m      \u001b[32m175.4854\u001b[0m  0.0139\n      3      \u001b[36m164.8671\u001b[0m      \u001b[32m109.6256\u001b[0m  0.0139\n      4      \u001b[36m104.6382\u001b[0m       \u001b[32m40.9581\u001b[0m  0.0138\n      5       \u001b[36m40.0327\u001b[0m       \u001b[32m15.6270\u001b[0m  0.0149\n      6       \u001b[36m15.7488\u001b[0m       48.7327  0.0147\n      7       51.1958       44.4327  0.0147\n      8       45.6151       \u001b[32m10.8033\u001b[0m  0.0145\n      9       \u001b[36m11.9406\u001b[0m       15.9995  0.0143\n     10       14.9281       24.2982  0.0142\n     11       22.1432       17.5423  0.0184\n     12       16.2575        \u001b[32m9.1161\u001b[0m  0.0143\n     13        \u001b[36m8.6940\u001b[0m        \u001b[32m5.1997\u001b[0m  0.0145\n     14        \u001b[36m5.3477\u001b[0m        \u001b[32m4.7376\u001b[0m  0.0145\n     15        \u001b[36m5.2261\u001b[0m        4.9727  0.0146\n     16        5.6524        \u001b[32m4.6557\u001b[0m  0.0138\n     17        5.3926        \u001b[32m4.5031\u001b[0m  0.0142\n     18        \u001b[36m5.1425\u001b[0m        4.5945  0.0134\n     19        \u001b[36m5.0260\u001b[0m        4.5059  0.0146\n     20        \u001b[36m4.7589\u001b[0m        \u001b[32m3.9979\u001b[0m  0.0148\n     21        \u001b[36m4.2093\u001b[0m        \u001b[32m3.2937\u001b[0m  0.0135\n     22        \u001b[36m3.5580\u001b[0m        \u001b[32m2.7331\u001b[0m  0.0135\n     23        \u001b[36m3.0437\u001b[0m        \u001b[32m2.3707\u001b[0m  0.0136\n     24        \u001b[36m2.6843\u001b[0m        \u001b[32m2.2116\u001b[0m  0.0135\n     25        \u001b[36m2.5164\u001b[0m        2.2771  0.0151\n     26        2.5920        2.3812  0.0142\n     27        2.7183        2.2852  0.0141\n     28        2.6377        \u001b[32m2.0033\u001b[0m  0.0141\n     29        \u001b[36m2.3596\u001b[0m        \u001b[32m1.7463\u001b[0m  0.0140\n     30        \u001b[36m2.1043\u001b[0m        \u001b[32m1.6388\u001b[0m  0.0138\n     31        \u001b[36m2.0009\u001b[0m        \u001b[32m1.6267\u001b[0m  0.0143\n     32        \u001b[36m1.9871\u001b[0m        \u001b[32m1.6246\u001b[0m  0.0141\n     33        \u001b[36m1.9696\u001b[0m        \u001b[32m1.6153\u001b[0m  0.0143\n     34        \u001b[36m1.9363\u001b[0m        \u001b[32m1.6010\u001b[0m  0.0141\n     35        \u001b[36m1.9026\u001b[0m        \u001b[32m1.5646\u001b[0m  0.0747\n     36        \u001b[36m1.8605\u001b[0m        \u001b[32m1.5015\u001b[0m  0.0136\n     37        \u001b[36m1.8048\u001b[0m        \u001b[32m1.4359\u001b[0m  0.0146\n     38        \u001b[36m1.7527\u001b[0m        \u001b[32m1.3905\u001b[0m  0.0136\n     39        \u001b[36m1.7201\u001b[0m        \u001b[32m1.3640\u001b[0m  0.0178\n     40        \u001b[36m1.7012\u001b[0m        \u001b[32m1.3439\u001b[0m  0.0140\n     41        \u001b[36m1.6817\u001b[0m        \u001b[32m1.3269\u001b[0m  0.0137\n     42        \u001b[36m1.6577\u001b[0m        \u001b[32m1.3177\u001b[0m  0.0136\n     43        \u001b[36m1.6358\u001b[0m        \u001b[32m1.3163\u001b[0m  0.0135\n     44        \u001b[36m1.6199\u001b[0m        \u001b[32m1.3140\u001b[0m  0.0136\n     45        \u001b[36m1.6065\u001b[0m        \u001b[32m1.3021\u001b[0m  0.0142\n     46        \u001b[36m1.5902\u001b[0m        \u001b[32m1.2800\u001b[0m  0.0133\n     47        \u001b[36m1.5710\u001b[0m        \u001b[32m1.2546\u001b[0m  0.0135\n     48        \u001b[36m1.5530\u001b[0m        \u001b[32m1.2330\u001b[0m  0.0135\n     49        \u001b[36m1.5399\u001b[0m        \u001b[32m1.2183\u001b[0m  0.0148\n     50        \u001b[36m1.5310\u001b[0m        \u001b[32m1.2093\u001b[0m  0.0151\n     51        \u001b[36m1.5232\u001b[0m        \u001b[32m1.2044\u001b[0m  0.0146\n     52        \u001b[36m1.5147\u001b[0m        \u001b[32m1.2024\u001b[0m  0.0146\n     53        \u001b[36m1.5061\u001b[0m        \u001b[32m1.2015\u001b[0m  0.0147\n     54        \u001b[36m1.4982\u001b[0m        \u001b[32m1.1991\u001b[0m  0.0147\n     55        \u001b[36m1.4903\u001b[0m        \u001b[32m1.1940\u001b[0m  0.0146\n     56        \u001b[36m1.4820\u001b[0m        \u001b[32m1.1870\u001b[0m  0.0148\n     57        \u001b[36m1.4738\u001b[0m        \u001b[32m1.1798\u001b[0m  0.0147\n     58        \u001b[36m1.4665\u001b[0m        \u001b[32m1.1734\u001b[0m  0.0146\n     59        \u001b[36m1.4596\u001b[0m        \u001b[32m1.1676\u001b[0m  0.0146\n     60        \u001b[36m1.4527\u001b[0m        \u001b[32m1.1628\u001b[0m  0.0146\n     61        \u001b[36m1.4457\u001b[0m        \u001b[32m1.1590\u001b[0m  0.0147\n     62        \u001b[36m1.4395\u001b[0m        \u001b[32m1.1558\u001b[0m  0.0146\n     63        \u001b[36m1.4339\u001b[0m        \u001b[32m1.1519\u001b[0m  0.0146\n     64        \u001b[36m1.4286\u001b[0m        \u001b[32m1.1471\u001b[0m  0.0146\n     65        \u001b[36m1.4230\u001b[0m        \u001b[32m1.1419\u001b[0m  0.0145\n     66        \u001b[36m1.4174\u001b[0m        \u001b[32m1.1373\u001b[0m  0.0142\n     67        \u001b[36m1.4120\u001b[0m        \u001b[32m1.1337\u001b[0m  0.0141\n     68        \u001b[36m1.4071\u001b[0m        \u001b[32m1.1309\u001b[0m  0.0137\n     69        \u001b[36m1.4021\u001b[0m        \u001b[32m1.1286\u001b[0m  0.0136\n     70        \u001b[36m1.3973\u001b[0m        \u001b[32m1.1263\u001b[0m  0.0135\n     71        \u001b[36m1.3926\u001b[0m        \u001b[32m1.1236\u001b[0m  0.0141\n     72        \u001b[36m1.3881\u001b[0m        \u001b[32m1.1201\u001b[0m  0.0162\n     73        \u001b[36m1.3836\u001b[0m        \u001b[32m1.1160\u001b[0m  0.0137\n     74        \u001b[36m1.3792\u001b[0m        \u001b[32m1.1117\u001b[0m  0.0136\n     75        \u001b[36m1.3750\u001b[0m        \u001b[32m1.1077\u001b[0m  0.0139\n     76        \u001b[36m1.3709\u001b[0m        \u001b[32m1.1043\u001b[0m  0.0134\n     77        \u001b[36m1.3669\u001b[0m        \u001b[32m1.1016\u001b[0m  0.0136\n     78        \u001b[36m1.3630\u001b[0m        \u001b[32m1.0995\u001b[0m  0.0134\n     79        \u001b[36m1.3592\u001b[0m        \u001b[32m1.0978\u001b[0m  0.0135\n     80        \u001b[36m1.3554\u001b[0m        \u001b[32m1.0961\u001b[0m  0.0135\n     81        \u001b[36m1.3518\u001b[0m        \u001b[32m1.0941\u001b[0m  0.0137\nIOPub message rate exceeded.\nThe notebook server will temporarily stop sending output\nto the client in order to avoid crashing it.\nTo change this limit, set the config variable\n`--NotebookApp.iopub_msg_rate_limit`.\n\nCurrent values:\nNotebookApp.iopub_msg_rate_limit=50.0 (msgs/sec)\nNotebookApp.rate_limit_window=3.0 (secs)\n\n    128        \u001b[36m1.2287\u001b[0m        \u001b[32m1.0196\u001b[0m  0.0142\n    129        \u001b[36m1.2267\u001b[0m        \u001b[32m1.0184\u001b[0m  0.0135\n    130        \u001b[36m1.2247\u001b[0m        \u001b[32m1.0172\u001b[0m  0.0136\n    131        \u001b[36m1.2228\u001b[0m        \u001b[32m1.0161\u001b[0m  0.0143\n    132        \u001b[36m1.2209\u001b[0m        \u001b[32m1.0149\u001b[0m  0.0135\n    133        \u001b[36m1.2190\u001b[0m        \u001b[32m1.0138\u001b[0m  0.0136\n    134        \u001b[36m1.2171\u001b[0m        \u001b[32m1.0126\u001b[0m  0.0172\n    135        \u001b[36m1.2152\u001b[0m        \u001b[32m1.0115\u001b[0m  0.0149\n    136        \u001b[36m1.2134\u001b[0m        \u001b[32m1.0104\u001b[0m  0.0136\n    137        \u001b[36m1.2115\u001b[0m        \u001b[32m1.0093\u001b[0m  0.0137\n    138        \u001b[36m1.2097\u001b[0m        \u001b[32m1.0082\u001b[0m  0.0139\n    139        \u001b[36m1.2079\u001b[0m        \u001b[32m1.0071\u001b[0m  0.0141\n    140        \u001b[36m1.2061\u001b[0m        \u001b[32m1.0060\u001b[0m  0.0149\n    141        \u001b[36m1.2044\u001b[0m        \u001b[32m1.0050\u001b[0m  0.0134\n    142        \u001b[36m1.2026\u001b[0m        \u001b[32m1.0039\u001b[0m  0.0135\n    143        \u001b[36m1.2009\u001b[0m        \u001b[32m1.0029\u001b[0m  0.0138\n    144        \u001b[36m1.1991\u001b[0m        \u001b[32m1.0018\u001b[0m  0.0134\n    145        \u001b[36m1.1974\u001b[0m        \u001b[32m1.0008\u001b[0m  0.0215\n    146        \u001b[36m1.1957\u001b[0m        \u001b[32m0.9998\u001b[0m  0.0164\n    147        \u001b[36m1.1941\u001b[0m        \u001b[32m0.9988\u001b[0m  0.0145\n    148        \u001b[36m1.1924\u001b[0m        \u001b[32m0.9978\u001b[0m  0.0145\n    149        \u001b[36m1.1907\u001b[0m        \u001b[32m0.9968\u001b[0m  0.0146\n    150        \u001b[36m1.1891\u001b[0m        \u001b[32m0.9958\u001b[0m  0.0140\n    151        \u001b[36m1.1875\u001b[0m        \u001b[32m0.9948\u001b[0m  0.0150\n    152        \u001b[36m1.1859\u001b[0m        \u001b[32m0.9938\u001b[0m  0.0146\n    153        \u001b[36m1.1843\u001b[0m        \u001b[32m0.9929\u001b[0m  0.0145\n    154        \u001b[36m1.1827\u001b[0m        \u001b[32m0.9919\u001b[0m  0.0142\n    155        \u001b[36m1.1811\u001b[0m        \u001b[32m0.9910\u001b[0m  0.0140\n    156        \u001b[36m1.1796\u001b[0m        \u001b[32m0.9901\u001b[0m  0.0142\n    157        \u001b[36m1.1781\u001b[0m        \u001b[32m0.9891\u001b[0m  0.0137\n    158        \u001b[36m1.1765\u001b[0m        \u001b[32m0.9882\u001b[0m  0.0138\n    159        \u001b[36m1.1750\u001b[0m        \u001b[32m0.9873\u001b[0m  0.0137\n    160        \u001b[36m1.1735\u001b[0m        \u001b[32m0.9864\u001b[0m  0.0134\n    161        \u001b[36m1.1720\u001b[0m        \u001b[32m0.9855\u001b[0m  0.0136\n    162        \u001b[36m1.1706\u001b[0m        \u001b[32m0.9846\u001b[0m  0.0136\n    163        \u001b[36m1.1691\u001b[0m        \u001b[32m0.9838\u001b[0m  0.0140\n    164        \u001b[36m1.1677\u001b[0m        \u001b[32m0.9829\u001b[0m  0.0175\n    165        \u001b[36m1.1662\u001b[0m        \u001b[32m0.9820\u001b[0m  0.0151\n    166        \u001b[36m1.1648\u001b[0m        \u001b[32m0.9812\u001b[0m  0.0134\n    167        \u001b[36m1.1634\u001b[0m        \u001b[32m0.9804\u001b[0m  0.0137\n    168        \u001b[36m1.1620\u001b[0m        \u001b[32m0.9795\u001b[0m  0.0134\n    169        \u001b[36m1.1606\u001b[0m        \u001b[32m0.9787\u001b[0m  0.0134\n    170        \u001b[36m1.1593\u001b[0m        \u001b[32m0.9779\u001b[0m  0.0144\n    171        \u001b[36m1.1579\u001b[0m        \u001b[32m0.9771\u001b[0m  0.0140\n    172        \u001b[36m1.1566\u001b[0m        \u001b[32m0.9763\u001b[0m  0.0147\n    173        \u001b[36m1.1552\u001b[0m        \u001b[32m0.9755\u001b[0m  0.0135\n    174        \u001b[36m1.1539\u001b[0m        \u001b[32m0.9747\u001b[0m  0.0142\n    175        \u001b[36m1.1526\u001b[0m        \u001b[32m0.9739\u001b[0m  0.0133\n    176        \u001b[36m1.1513\u001b[0m        \u001b[32m0.9732\u001b[0m  0.0135\n    177        \u001b[36m1.1500\u001b[0m        \u001b[32m0.9724\u001b[0m  0.0143\n    178        \u001b[36m1.1487\u001b[0m        \u001b[32m0.9717\u001b[0m  0.0141\n    179        \u001b[36m1.1475\u001b[0m        \u001b[32m0.9709\u001b[0m  0.0144\n    180        \u001b[36m1.1462\u001b[0m        \u001b[32m0.9702\u001b[0m  0.0141\n    181        \u001b[36m1.1450\u001b[0m        \u001b[32m0.9694\u001b[0m  0.0140\n    182        \u001b[36m1.1437\u001b[0m        \u001b[32m0.9687\u001b[0m  0.0142\n    183        \u001b[36m1.1425\u001b[0m        \u001b[32m0.9680\u001b[0m  0.0142\n    184        \u001b[36m1.1413\u001b[0m        \u001b[32m0.9673\u001b[0m  0.0142\n    185        \u001b[36m1.1401\u001b[0m        \u001b[32m0.9666\u001b[0m  0.0141\n    186        \u001b[36m1.1389\u001b[0m        \u001b[32m0.9659\u001b[0m  0.0142\n    187        \u001b[36m1.1378\u001b[0m        \u001b[32m0.9652\u001b[0m  0.0134\n    188        \u001b[36m1.1366\u001b[0m        \u001b[32m0.9646\u001b[0m  0.0136\n    189        \u001b[36m1.1354\u001b[0m        \u001b[32m0.9639\u001b[0m  0.0134\n    190        \u001b[36m1.1343\u001b[0m        \u001b[32m0.9632\u001b[0m  0.0135\n    191        \u001b[36m1.1332\u001b[0m        \u001b[32m0.9626\u001b[0m  0.0141\n    192        \u001b[36m1.1320\u001b[0m        \u001b[32m0.9619\u001b[0m  0.0890\n    193        \u001b[36m1.1309\u001b[0m        \u001b[32m0.9613\u001b[0m  0.0158\n    194        \u001b[36m1.1298\u001b[0m        \u001b[32m0.9606\u001b[0m  0.0189\n    195        \u001b[36m1.1287\u001b[0m        \u001b[32m0.9600\u001b[0m  0.0146\n    196        \u001b[36m1.1276\u001b[0m        \u001b[32m0.9594\u001b[0m  0.0173\n    197        \u001b[36m1.1266\u001b[0m        \u001b[32m0.9588\u001b[0m  0.0180\n    198        \u001b[36m1.1255\u001b[0m        \u001b[32m0.9582\u001b[0m  0.0157\n    199        \u001b[36m1.1244\u001b[0m        \u001b[32m0.9576\u001b[0m  0.0135\n    200        \u001b[36m1.1234\u001b[0m        \u001b[32m0.9570\u001b[0m  0.0136\n    201        \u001b[36m1.1224\u001b[0m        \u001b[32m0.9564\u001b[0m  0.0138\n    202        \u001b[36m1.1213\u001b[0m        \u001b[32m0.9558\u001b[0m  0.0135\n    203        \u001b[36m1.1203\u001b[0m        \u001b[32m0.9553\u001b[0m  0.0135\n    204        \u001b[36m1.1193\u001b[0m        \u001b[32m0.9547\u001b[0m  0.0161\n    205        \u001b[36m1.1183\u001b[0m        \u001b[32m0.9541\u001b[0m  0.0142\n    206        \u001b[36m1.1173\u001b[0m        \u001b[32m0.9536\u001b[0m  0.0149\n    207        \u001b[36m1.1163\u001b[0m        \u001b[32m0.9530\u001b[0m  0.0135\n    208        \u001b[36m1.1154\u001b[0m        \u001b[32m0.9525\u001b[0m  0.0135\n    209        \u001b[36m1.1144\u001b[0m        \u001b[32m0.9519\u001b[0m  0.0151\n    210        \u001b[36m1.1134\u001b[0m        \u001b[32m0.9514\u001b[0m  0.0143\n    211        \u001b[36m1.1125\u001b[0m        \u001b[32m0.9509\u001b[0m  0.0139\n    212        \u001b[36m1.1115\u001b[0m        \u001b[32m0.9504\u001b[0m  0.0182\n    213        \u001b[36m1.1106\u001b[0m        \u001b[32m0.9499\u001b[0m  0.0137\n    214        \u001b[36m1.1097\u001b[0m        \u001b[32m0.9494\u001b[0m  0.0136\n    215        \u001b[36m1.1088\u001b[0m        \u001b[32m0.9489\u001b[0m  0.0147\n    216        \u001b[36m1.1079\u001b[0m        \u001b[32m0.9484\u001b[0m  0.0176\n    217        \u001b[36m1.1070\u001b[0m        \u001b[32m0.9479\u001b[0m  0.0143\n    218        \u001b[36m1.1061\u001b[0m        \u001b[32m0.9474\u001b[0m  0.0201\n    219        \u001b[36m1.1052\u001b[0m        \u001b[32m0.9469\u001b[0m  0.0148\n    220        \u001b[36m1.1043\u001b[0m        \u001b[32m0.9464\u001b[0m  0.0146\n    221        \u001b[36m1.1035\u001b[0m        \u001b[32m0.9460\u001b[0m  0.0137\n    222        \u001b[36m1.1026\u001b[0m        \u001b[32m0.9455\u001b[0m  0.0154\n    223        \u001b[36m1.1017\u001b[0m        \u001b[32m0.9450\u001b[0m  0.0177\n    224        \u001b[36m1.1009\u001b[0m        \u001b[32m0.9446\u001b[0m  0.0161\n    225        \u001b[36m1.1001\u001b[0m        \u001b[32m0.9441\u001b[0m  0.0134\n    226        \u001b[36m1.0992\u001b[0m        \u001b[32m0.9437\u001b[0m  0.0147\n    227        \u001b[36m1.0984\u001b[0m        \u001b[32m0.9433\u001b[0m  0.0139\n    228        \u001b[36m1.0976\u001b[0m        \u001b[32m0.9428\u001b[0m  0.0137\n    229        \u001b[36m1.0968\u001b[0m        \u001b[32m0.9424\u001b[0m  0.0154\n    230        \u001b[36m1.0960\u001b[0m        \u001b[32m0.9420\u001b[0m  0.0148\n    231        \u001b[36m1.0952\u001b[0m        \u001b[32m0.9416\u001b[0m  0.0135\n    232        \u001b[36m1.0944\u001b[0m        \u001b[32m0.9411\u001b[0m  0.0136\n    233        \u001b[36m1.0936\u001b[0m        \u001b[32m0.9407\u001b[0m  0.0139\n    234        \u001b[36m1.0928\u001b[0m        \u001b[32m0.9403\u001b[0m  0.0146\n    235        \u001b[36m1.0921\u001b[0m        \u001b[32m0.9399\u001b[0m  0.0144\n    236        \u001b[36m1.0913\u001b[0m        \u001b[32m0.9395\u001b[0m  0.0145\n    237        \u001b[36m1.0906\u001b[0m        \u001b[32m0.9392\u001b[0m  0.0138\n    238        \u001b[36m1.0898\u001b[0m        \u001b[32m0.9388\u001b[0m  0.0135\n    239        \u001b[36m1.0891\u001b[0m        \u001b[32m0.9384\u001b[0m  0.0137\n    240        \u001b[36m1.0883\u001b[0m        \u001b[32m0.9380\u001b[0m  0.0139\n    241        \u001b[36m1.0876\u001b[0m        \u001b[32m0.9376\u001b[0m  0.0141\n    242        \u001b[36m1.0869\u001b[0m        \u001b[32m0.9373\u001b[0m  0.0141\n    243        \u001b[36m1.0862\u001b[0m        \u001b[32m0.9369\u001b[0m  0.0147\n    244        \u001b[36m1.0854\u001b[0m        \u001b[32m0.9365\u001b[0m  0.0139\n    245        \u001b[36m1.0847\u001b[0m        \u001b[32m0.9362\u001b[0m  0.0136\n    246        \u001b[36m1.0840\u001b[0m        \u001b[32m0.9358\u001b[0m  0.0145\n    247        \u001b[36m1.0833\u001b[0m        \u001b[32m0.9355\u001b[0m  0.0162\n    248        \u001b[36m1.0827\u001b[0m        \u001b[32m0.9351\u001b[0m  0.0168\n    249        \u001b[36m1.0820\u001b[0m        \u001b[32m0.9348\u001b[0m  0.0149\n    250        \u001b[36m1.0813\u001b[0m        \u001b[32m0.9344\u001b[0m  0.0142\n    251        \u001b[36m1.0806\u001b[0m        \u001b[32m0.9341\u001b[0m  0.0139\n    252        \u001b[36m1.0799\u001b[0m        \u001b[32m0.9338\u001b[0m  0.0160\n    253        \u001b[36m1.0793\u001b[0m        \u001b[32m0.9335\u001b[0m  0.0151\n    254        \u001b[36m1.0786\u001b[0m        \u001b[32m0.9331\u001b[0m  0.0162\n    255        \u001b[36m1.0780\u001b[0m        \u001b[32m0.9328\u001b[0m  0.0152\n    256        \u001b[36m1.0773\u001b[0m        \u001b[32m0.9325\u001b[0m  0.0174\n    257        \u001b[36m1.0767\u001b[0m        \u001b[32m0.9322\u001b[0m  0.0154\n    258        \u001b[36m1.0761\u001b[0m        \u001b[32m0.9319\u001b[0m  0.0140\n    259        \u001b[36m1.0754\u001b[0m        \u001b[32m0.9316\u001b[0m  0.0133\n    260        \u001b[36m1.0748\u001b[0m        \u001b[32m0.9313\u001b[0m  0.0206\n    261        \u001b[36m1.0742\u001b[0m        \u001b[32m0.9310\u001b[0m  0.0153\n    262        \u001b[36m1.0736\u001b[0m        \u001b[32m0.9307\u001b[0m  0.0134\n    263        \u001b[36m1.0729\u001b[0m        \u001b[32m0.9304\u001b[0m  0.0136\n    264        \u001b[36m1.0723\u001b[0m        \u001b[32m0.9301\u001b[0m  0.0163\n    265        \u001b[36m1.0717\u001b[0m        \u001b[32m0.9298\u001b[0m  0.0135\n    266        \u001b[36m1.0711\u001b[0m        \u001b[32m0.9295\u001b[0m  0.0135\n    267        \u001b[36m1.0705\u001b[0m        \u001b[32m0.9292\u001b[0m  0.0148\n    268        \u001b[36m1.0699\u001b[0m        \u001b[32m0.9290\u001b[0m  0.0139\n    269        \u001b[36m1.0694\u001b[0m        \u001b[32m0.9287\u001b[0m  0.0135\nIOPub message rate exceeded.\nThe notebook server will temporarily stop sending output\nto the client in order to avoid crashing it.\nTo change this limit, set the config variable\n`--NotebookApp.iopub_msg_rate_limit`.\n\nCurrent values:\nNotebookApp.iopub_msg_rate_limit=50.0 (msgs/sec)\nNotebookApp.rate_limit_window=3.0 (secs)\n\n     26        \u001b[36m2.0448\u001b[0m        \u001b[32m1.7589\u001b[0m  0.0156\n     27        \u001b[36m2.0256\u001b[0m        \u001b[32m1.7425\u001b[0m  0.0161\n     28        \u001b[36m2.0053\u001b[0m        \u001b[32m1.7216\u001b[0m  0.0161\n     29        \u001b[36m1.9850\u001b[0m        \u001b[32m1.6980\u001b[0m  0.0159\n     30        \u001b[36m1.9649\u001b[0m        \u001b[32m1.6792\u001b[0m  0.0161\n     31        \u001b[36m1.9456\u001b[0m        \u001b[32m1.6627\u001b[0m  0.0432\n     32        \u001b[36m1.9281\u001b[0m        \u001b[32m1.6453\u001b[0m  0.0156\n     33        \u001b[36m1.9112\u001b[0m        \u001b[32m1.6284\u001b[0m  0.0154\n     34        \u001b[36m1.8942\u001b[0m        \u001b[32m1.6114\u001b[0m  0.0170\n     35        \u001b[36m1.8773\u001b[0m        \u001b[32m1.5940\u001b[0m  0.0433\n     36        \u001b[36m1.8610\u001b[0m        \u001b[32m1.5779\u001b[0m  0.0180\n     37        \u001b[36m1.8453\u001b[0m        \u001b[32m1.5629\u001b[0m  0.0190\n     38        \u001b[36m1.8303\u001b[0m        \u001b[32m1.5480\u001b[0m  0.0199\n     39        \u001b[36m1.8157\u001b[0m        \u001b[32m1.5333\u001b[0m  0.0384\n     40        \u001b[36m1.8013\u001b[0m        \u001b[32m1.5190\u001b[0m  0.0186\n     41        \u001b[36m1.7873\u001b[0m        \u001b[32m1.5051\u001b[0m  0.0165\n     42        \u001b[36m1.7738\u001b[0m        \u001b[32m1.4918\u001b[0m  0.0162\n     43        \u001b[36m1.7607\u001b[0m        \u001b[32m1.4790\u001b[0m  0.0401\n     44        \u001b[36m1.7481\u001b[0m        \u001b[32m1.4666\u001b[0m  0.0165\n     45        \u001b[36m1.7358\u001b[0m        \u001b[32m1.4545\u001b[0m  0.0159\n     46        \u001b[36m1.7239\u001b[0m        \u001b[32m1.4429\u001b[0m  0.0162\n     47        \u001b[36m1.7123\u001b[0m        \u001b[32m1.4317\u001b[0m  0.0158\n     48        \u001b[36m1.7012\u001b[0m        \u001b[32m1.4208\u001b[0m  0.0369\n     49        \u001b[36m1.6904\u001b[0m        \u001b[32m1.4104\u001b[0m  0.0159\n     50        \u001b[36m1.6799\u001b[0m        \u001b[32m1.4004\u001b[0m  0.0158\n     51        \u001b[36m1.6697\u001b[0m        \u001b[32m1.3906\u001b[0m  0.0164\n     52        \u001b[36m1.6599\u001b[0m        \u001b[32m1.3813\u001b[0m  0.0552\n     53        \u001b[36m1.6504\u001b[0m        \u001b[32m1.3723\u001b[0m  0.0210\n     54        \u001b[36m1.6412\u001b[0m        \u001b[32m1.3636\u001b[0m  0.0199\n     55        \u001b[36m1.6322\u001b[0m        \u001b[32m1.3552\u001b[0m  0.0338\n     56        \u001b[36m1.6236\u001b[0m        \u001b[32m1.3471\u001b[0m  0.0187\n     57        \u001b[36m1.6152\u001b[0m        \u001b[32m1.3393\u001b[0m  0.0163\n     58        \u001b[36m1.6071\u001b[0m        \u001b[32m1.3318\u001b[0m  0.0166\n     59        \u001b[36m1.5992\u001b[0m        \u001b[32m1.3245\u001b[0m  0.0162\n     60        \u001b[36m1.5916\u001b[0m        \u001b[32m1.3175\u001b[0m  0.0178\n     61        \u001b[36m1.5842\u001b[0m        \u001b[32m1.3108\u001b[0m  0.0194\n     62        \u001b[36m1.5770\u001b[0m        \u001b[32m1.3042\u001b[0m  0.0193\n     63        \u001b[36m1.5701\u001b[0m        \u001b[32m1.2979\u001b[0m  0.0401\n     64        \u001b[36m1.5633\u001b[0m        \u001b[32m1.2918\u001b[0m  0.0158\n     65        \u001b[36m1.5568\u001b[0m        \u001b[32m1.2859\u001b[0m  0.0161\n     66        \u001b[36m1.5504\u001b[0m        \u001b[32m1.2802\u001b[0m  0.0159\n     67        \u001b[36m1.5442\u001b[0m        \u001b[32m1.2747\u001b[0m  0.0159\n     68        \u001b[36m1.5382\u001b[0m        \u001b[32m1.2693\u001b[0m  0.0413\n     69        \u001b[36m1.5323\u001b[0m        \u001b[32m1.2642\u001b[0m  0.0169\n     70        \u001b[36m1.5266\u001b[0m        \u001b[32m1.2591\u001b[0m  0.0162\n     71        \u001b[36m1.5211\u001b[0m        \u001b[32m1.2543\u001b[0m  0.0155\n     72        \u001b[36m1.5157\u001b[0m        \u001b[32m1.2495\u001b[0m  0.0406\n     73        \u001b[36m1.5104\u001b[0m        \u001b[32m1.2449\u001b[0m  0.0166\n     74        \u001b[36m1.5053\u001b[0m        \u001b[32m1.2405\u001b[0m  0.0159\n     75        \u001b[36m1.5003\u001b[0m        \u001b[32m1.2362\u001b[0m  0.0157\n     76        \u001b[36m1.4954\u001b[0m        \u001b[32m1.2319\u001b[0m  0.0433\n     77        \u001b[36m1.4906\u001b[0m        \u001b[32m1.2278\u001b[0m  0.0161\n     78        \u001b[36m1.4860\u001b[0m        \u001b[32m1.2239\u001b[0m  0.0161\n     79        \u001b[36m1.4814\u001b[0m        \u001b[32m1.2200\u001b[0m  0.0157\n     80        \u001b[36m1.4770\u001b[0m        \u001b[32m1.2162\u001b[0m  0.0154\n     81        \u001b[36m1.4726\u001b[0m        \u001b[32m1.2125\u001b[0m  0.0397\n     82        \u001b[36m1.4684\u001b[0m        \u001b[32m1.2089\u001b[0m  0.0188\n     83        \u001b[36m1.4642\u001b[0m        \u001b[32m1.2054\u001b[0m  0.0156\n     84        \u001b[36m1.4602\u001b[0m        \u001b[32m1.2020\u001b[0m  0.0153\n     85        \u001b[36m1.4562\u001b[0m        \u001b[32m1.1986\u001b[0m  0.0434\n     86        \u001b[36m1.4523\u001b[0m        \u001b[32m1.1954\u001b[0m  0.0163\n     87        \u001b[36m1.4485\u001b[0m        \u001b[32m1.1922\u001b[0m  0.0162\n     88        \u001b[36m1.4447\u001b[0m        \u001b[32m1.1890\u001b[0m  0.0156\n     89        \u001b[36m1.4410\u001b[0m        \u001b[32m1.1860\u001b[0m  0.0394\n     90        \u001b[36m1.4374\u001b[0m        \u001b[32m1.1830\u001b[0m  0.0161\n     91        \u001b[36m1.4339\u001b[0m        \u001b[32m1.1801\u001b[0m  0.0161\n     92        \u001b[36m1.4304\u001b[0m        \u001b[32m1.1772\u001b[0m  0.0164\n     93        \u001b[36m1.4270\u001b[0m        \u001b[32m1.1744\u001b[0m  0.0159\n     94        \u001b[36m1.4236\u001b[0m        \u001b[32m1.1716\u001b[0m  0.0388\n     95        \u001b[36m1.4203\u001b[0m        \u001b[32m1.1689\u001b[0m  0.0194\n     96        \u001b[36m1.4170\u001b[0m        \u001b[32m1.1663\u001b[0m  0.0154\n     97        \u001b[36m1.4138\u001b[0m        \u001b[32m1.1637\u001b[0m  0.0201\n     98        \u001b[36m1.4107\u001b[0m        \u001b[32m1.1611\u001b[0m  0.0410\n     99        \u001b[36m1.4075\u001b[0m        \u001b[32m1.1586\u001b[0m  0.0203\n    100        \u001b[36m1.4045\u001b[0m        \u001b[32m1.1561\u001b[0m  0.0193\n    101        \u001b[36m1.4015\u001b[0m        \u001b[32m1.1537\u001b[0m  0.0193\n    102        \u001b[36m1.3985\u001b[0m        \u001b[32m1.1513\u001b[0m  0.0406\n    103        \u001b[36m1.3956\u001b[0m        \u001b[32m1.1490\u001b[0m  0.0225\n    104        \u001b[36m1.3927\u001b[0m        \u001b[32m1.1467\u001b[0m  0.0220\n    105        \u001b[36m1.3898\u001b[0m        \u001b[32m1.1444\u001b[0m  0.0427\n    106        \u001b[36m1.3870\u001b[0m        \u001b[32m1.1422\u001b[0m  0.0212\n    107        \u001b[36m1.3842\u001b[0m        \u001b[32m1.1400\u001b[0m  0.0261\n    108        \u001b[36m1.3815\u001b[0m        \u001b[32m1.1378\u001b[0m  0.0352\n    109        \u001b[36m1.3788\u001b[0m        \u001b[32m1.1357\u001b[0m  0.0211\n    110        \u001b[36m1.3761\u001b[0m        \u001b[32m1.1336\u001b[0m  0.0169\n    111        \u001b[36m1.3734\u001b[0m        \u001b[32m1.1315\u001b[0m  0.0186\n    112        \u001b[36m1.3708\u001b[0m        \u001b[32m1.1294\u001b[0m  0.0422\n    113        \u001b[36m1.3683\u001b[0m        \u001b[32m1.1274\u001b[0m  0.0191\n    114        \u001b[36m1.3657\u001b[0m        \u001b[32m1.1255\u001b[0m  0.0165\n    115        \u001b[36m1.3632\u001b[0m        \u001b[32m1.1235\u001b[0m  0.0153\n    116        \u001b[36m1.3607\u001b[0m        \u001b[32m1.1216\u001b[0m  0.0154\n    117        \u001b[36m1.3582\u001b[0m        \u001b[32m1.1197\u001b[0m  0.0158\n    118        \u001b[36m1.3558\u001b[0m        \u001b[32m1.1178\u001b[0m  0.0156\n    119        \u001b[36m1.3533\u001b[0m        \u001b[32m1.1159\u001b[0m  0.0153\n    120        \u001b[36m1.3509\u001b[0m        \u001b[32m1.1141\u001b[0m  0.0161\n    121        \u001b[36m1.3486\u001b[0m        \u001b[32m1.1123\u001b[0m  0.0392\n    122        \u001b[36m1.3462\u001b[0m        \u001b[32m1.1105\u001b[0m  0.0162\n    123        \u001b[36m1.3439\u001b[0m        \u001b[32m1.1087\u001b[0m  0.0159\n    124        \u001b[36m1.3416\u001b[0m        \u001b[32m1.1070\u001b[0m  0.0158\n    125        \u001b[36m1.3393\u001b[0m        \u001b[32m1.1052\u001b[0m  0.0433\n    126        \u001b[36m1.3370\u001b[0m        \u001b[32m1.1035\u001b[0m  0.0160\n    127        \u001b[36m1.3348\u001b[0m        \u001b[32m1.1018\u001b[0m  0.0160\n    128        \u001b[36m1.3326\u001b[0m        \u001b[32m1.1002\u001b[0m  0.0173\n    129        \u001b[36m1.3304\u001b[0m        \u001b[32m1.0985\u001b[0m  0.0154\n    130        \u001b[36m1.3282\u001b[0m        \u001b[32m1.0969\u001b[0m  0.0162\n    131        \u001b[36m1.3260\u001b[0m        \u001b[32m1.0953\u001b[0m  0.0164\n    132        \u001b[36m1.3239\u001b[0m        \u001b[32m1.0937\u001b[0m  0.0172\n    133        \u001b[36m1.3218\u001b[0m        \u001b[32m1.0921\u001b[0m  0.0159\n    134        \u001b[36m1.3197\u001b[0m        \u001b[32m1.0906\u001b[0m  0.0355\n    135        \u001b[36m1.3176\u001b[0m        \u001b[32m1.0890\u001b[0m  0.0163\n    136        \u001b[36m1.3155\u001b[0m        \u001b[32m1.0875\u001b[0m  0.0160\n    137        \u001b[36m1.3135\u001b[0m        \u001b[32m1.0860\u001b[0m  0.0159\n    138        \u001b[36m1.3114\u001b[0m        \u001b[32m1.0845\u001b[0m  0.0474\n    139        \u001b[36m1.3094\u001b[0m        \u001b[32m1.0830\u001b[0m  0.0194\n    140        \u001b[36m1.3074\u001b[0m        \u001b[32m1.0815\u001b[0m  0.0191\n    141        \u001b[36m1.3054\u001b[0m        \u001b[32m1.0801\u001b[0m  0.0167\n    142        \u001b[36m1.3035\u001b[0m        \u001b[32m1.0786\u001b[0m  0.0388\n    143        \u001b[36m1.3015\u001b[0m        \u001b[32m1.0772\u001b[0m  0.0219\n    144        \u001b[36m1.2996\u001b[0m        \u001b[32m1.0758\u001b[0m  0.0154\n    145        \u001b[36m1.2977\u001b[0m        \u001b[32m1.0744\u001b[0m  0.0154\n    146        \u001b[36m1.2958\u001b[0m        \u001b[32m1.0730\u001b[0m  0.0435\n    147        \u001b[36m1.2939\u001b[0m        \u001b[32m1.0717\u001b[0m  0.0160\n    148        \u001b[36m1.2920\u001b[0m        \u001b[32m1.0703\u001b[0m  0.0157\n    149        \u001b[36m1.2902\u001b[0m        \u001b[32m1.0690\u001b[0m  0.0154\n    150        \u001b[36m1.2883\u001b[0m        \u001b[32m1.0676\u001b[0m  0.0155\n    151        \u001b[36m1.2865\u001b[0m        \u001b[32m1.0663\u001b[0m  0.0171\n    152        \u001b[36m1.2847\u001b[0m        \u001b[32m1.0650\u001b[0m  0.0199\n    153        \u001b[36m1.2829\u001b[0m        \u001b[32m1.0637\u001b[0m  0.0193\n    154        \u001b[36m1.2811\u001b[0m        \u001b[32m1.0625\u001b[0m  0.0410\n    155        \u001b[36m1.2793\u001b[0m        \u001b[32m1.0612\u001b[0m  0.0200\n    156        \u001b[36m1.2776\u001b[0m        \u001b[32m1.0599\u001b[0m  0.0193\n    157        \u001b[36m1.2758\u001b[0m        \u001b[32m1.0587\u001b[0m  0.0170\n    158        \u001b[36m1.2741\u001b[0m        \u001b[32m1.0575\u001b[0m  0.0154\n    159        \u001b[36m1.2724\u001b[0m        \u001b[32m1.0562\u001b[0m  0.0152\n    160        \u001b[36m1.2707\u001b[0m        \u001b[32m1.0550\u001b[0m  0.0162\n    161        \u001b[36m1.2690\u001b[0m        \u001b[32m1.0538\u001b[0m  0.0154\n    162        \u001b[36m1.2673\u001b[0m        \u001b[32m1.0527\u001b[0m  0.0155\n    163        \u001b[36m1.2656\u001b[0m        \u001b[32m1.0515\u001b[0m  0.0390\n    164        \u001b[36m1.2640\u001b[0m        \u001b[32m1.0503\u001b[0m  0.0166\n    165        \u001b[36m1.2624\u001b[0m        \u001b[32m1.0492\u001b[0m  0.0168\n    166        \u001b[36m1.2607\u001b[0m        \u001b[32m1.0480\u001b[0m  0.0163\n    167        \u001b[36m1.2591\u001b[0m        \u001b[32m1.0469\u001b[0m  0.0462\n    168        \u001b[36m1.2575\u001b[0m        \u001b[32m1.0458\u001b[0m  0.0195\n    169        \u001b[36m1.2559\u001b[0m        \u001b[32m1.0447\u001b[0m  0.0192\n    170        \u001b[36m1.2544\u001b[0m        \u001b[32m1.0436\u001b[0m  0.0192\n    171        \u001b[36m1.2528\u001b[0m        \u001b[32m1.0425\u001b[0m  0.0438\n    172        \u001b[36m1.2513\u001b[0m        \u001b[32m1.0414\u001b[0m  0.0155\n    173        \u001b[36m1.2497\u001b[0m        \u001b[32m1.0403\u001b[0m  0.0154\n    174        \u001b[36m1.2482\u001b[0m        \u001b[32m1.0393\u001b[0m  0.0153\n    175        \u001b[36m1.2467\u001b[0m        \u001b[32m1.0382\u001b[0m  0.1001\n    176        \u001b[36m1.2452\u001b[0m        \u001b[32m1.0372\u001b[0m  0.0178\n    177        \u001b[36m1.2437\u001b[0m        \u001b[32m1.0361\u001b[0m  0.0198\n    178        \u001b[36m1.2422\u001b[0m        \u001b[32m1.0351\u001b[0m  0.0186\n    179        \u001b[36m1.2408\u001b[0m        \u001b[32m1.0341\u001b[0m  0.0153\n    180        \u001b[36m1.2393\u001b[0m        \u001b[32m1.0331\u001b[0m  0.0206\n    181        \u001b[36m1.2379\u001b[0m        \u001b[32m1.0321\u001b[0m  0.0390\n    182        \u001b[36m1.2365\u001b[0m        \u001b[32m1.0311\u001b[0m  0.0162\n    183        \u001b[36m1.2350\u001b[0m        \u001b[32m1.0302\u001b[0m  0.0153\n    184        \u001b[36m1.2336\u001b[0m        \u001b[32m1.0292\u001b[0m  0.0156\n    185        \u001b[36m1.2322\u001b[0m        \u001b[32m1.0282\u001b[0m  0.0160\n    186        \u001b[36m1.2309\u001b[0m        \u001b[32m1.0273\u001b[0m  0.0160\n    187        \u001b[36m1.2295\u001b[0m        \u001b[32m1.0264\u001b[0m  0.0162\n    188        \u001b[36m1.2281\u001b[0m        \u001b[32m1.0254\u001b[0m  0.0153\n    189        \u001b[36m1.2268\u001b[0m        \u001b[32m1.0245\u001b[0m  0.0154\n    190        \u001b[36m1.2255\u001b[0m        \u001b[32m1.0236\u001b[0m  0.0387\n    191        \u001b[36m1.2241\u001b[0m        \u001b[32m1.0227\u001b[0m  0.0155\n    192        \u001b[36m1.2228\u001b[0m        \u001b[32m1.0218\u001b[0m  0.0178\n    193        \u001b[36m1.2215\u001b[0m        \u001b[32m1.0209\u001b[0m  0.0158\n    194        \u001b[36m1.2202\u001b[0m        \u001b[32m1.0200\u001b[0m  0.0407\n    195        \u001b[36m1.2189\u001b[0m        \u001b[32m1.0192\u001b[0m  0.0160\n    196        \u001b[36m1.2177\u001b[0m        \u001b[32m1.0183\u001b[0m  0.0157\n    197        \u001b[36m1.2164\u001b[0m        \u001b[32m1.0174\u001b[0m  0.0181\n    198        \u001b[36m1.2151\u001b[0m        \u001b[32m1.0166\u001b[0m  0.0437\n    199        \u001b[36m1.2139\u001b[0m        \u001b[32m1.0158\u001b[0m  0.0157\n    200        \u001b[36m1.2127\u001b[0m        \u001b[32m1.0149\u001b[0m  0.0159\n    201        \u001b[36m1.2114\u001b[0m        \u001b[32m1.0141\u001b[0m  0.0155\n    202        \u001b[36m1.2102\u001b[0m        \u001b[32m1.0133\u001b[0m  0.0163\n    203        \u001b[36m1.2090\u001b[0m        \u001b[32m1.0125\u001b[0m  0.0434\n    204        \u001b[36m1.2078\u001b[0m        \u001b[32m1.0117\u001b[0m  0.0157\n    205        \u001b[36m1.2067\u001b[0m        \u001b[32m1.0109\u001b[0m  0.0156\n    206        \u001b[36m1.2055\u001b[0m        \u001b[32m1.0101\u001b[0m  0.0201\n    207        \u001b[36m1.2043\u001b[0m        \u001b[32m1.0093\u001b[0m  0.0427\n    208        \u001b[36m1.2032\u001b[0m        \u001b[32m1.0086\u001b[0m  0.0169\n    209        \u001b[36m1.2020\u001b[0m        \u001b[32m1.0078\u001b[0m  0.0169\n    210        \u001b[36m1.2009\u001b[0m        \u001b[32m1.0070\u001b[0m  0.0160\n    211        \u001b[36m1.1998\u001b[0m        \u001b[32m1.0063\u001b[0m  0.0434\n    212        \u001b[36m1.1986\u001b[0m        \u001b[32m1.0056\u001b[0m  0.0193\n    213        \u001b[36m1.1975\u001b[0m        \u001b[32m1.0048\u001b[0m  0.0159\n    214        \u001b[36m1.1964\u001b[0m        \u001b[32m1.0041\u001b[0m  0.0154\n    215        \u001b[36m1.1953\u001b[0m        \u001b[32m1.0034\u001b[0m  0.0397\n    216        \u001b[36m1.1943\u001b[0m        \u001b[32m1.0027\u001b[0m  0.0253\n    217        \u001b[36m1.1932\u001b[0m        \u001b[32m1.0020\u001b[0m  0.0194\n    218        \u001b[36m1.1921\u001b[0m        \u001b[32m1.0013\u001b[0m  0.0192\n    219        \u001b[36m1.1911\u001b[0m        \u001b[32m1.0006\u001b[0m  0.0364\n    220        \u001b[36m1.1900\u001b[0m        \u001b[32m0.9999\u001b[0m  0.0191\n    221        \u001b[36m1.1890\u001b[0m        \u001b[32m0.9992\u001b[0m  0.0188\n    222        \u001b[36m1.1880\u001b[0m        \u001b[32m0.9985\u001b[0m  0.0160\n    223        \u001b[36m1.1869\u001b[0m        \u001b[32m0.9979\u001b[0m  0.0393\n    224        \u001b[36m1.1859\u001b[0m        \u001b[32m0.9972\u001b[0m  0.0178\n    225        \u001b[36m1.1849\u001b[0m        \u001b[32m0.9965\u001b[0m  0.0159\n    226        \u001b[36m1.1839\u001b[0m        \u001b[32m0.9959\u001b[0m  0.0160\n    227        \u001b[36m1.1829\u001b[0m        \u001b[32m0.9953\u001b[0m  0.0428\n    228        \u001b[36m1.1819\u001b[0m        \u001b[32m0.9946\u001b[0m  0.0201\n    229        \u001b[36m1.1810\u001b[0m        \u001b[32m0.9940\u001b[0m  0.0179\n    230        \u001b[36m1.1800\u001b[0m        \u001b[32m0.9934\u001b[0m  0.0160\n    231        \u001b[36m1.1790\u001b[0m        \u001b[32m0.9927\u001b[0m  0.0392\n    232        \u001b[36m1.1781\u001b[0m        \u001b[32m0.9921\u001b[0m  0.0161\n    233        \u001b[36m1.1771\u001b[0m        \u001b[32m0.9915\u001b[0m  0.0162\n    234        \u001b[36m1.1762\u001b[0m        \u001b[32m0.9909\u001b[0m  0.0162\n    235        \u001b[36m1.1753\u001b[0m        \u001b[32m0.9903\u001b[0m  0.0395\n    236        \u001b[36m1.1744\u001b[0m        \u001b[32m0.9897\u001b[0m  0.0184\n    237        \u001b[36m1.1734\u001b[0m        \u001b[32m0.9892\u001b[0m  0.0154\n    238        \u001b[36m1.1725\u001b[0m        \u001b[32m0.9886\u001b[0m  0.0168\n    239        \u001b[36m1.1716\u001b[0m        \u001b[32m0.9880\u001b[0m  0.0156\n    240        \u001b[36m1.1707\u001b[0m        \u001b[32m0.9874\u001b[0m  0.0198\n    241        \u001b[36m1.1699\u001b[0m        \u001b[32m0.9869\u001b[0m  0.0195\n    242        \u001b[36m1.1690\u001b[0m        \u001b[32m0.9863\u001b[0m  0.0194\n    243        \u001b[36m1.1681\u001b[0m        \u001b[32m0.9858\u001b[0m  0.0386\n    244        \u001b[36m1.1672\u001b[0m        \u001b[32m0.9852\u001b[0m  0.0191\n    245        \u001b[36m1.1664\u001b[0m        \u001b[32m0.9847\u001b[0m  0.0192\n    246        \u001b[36m1.1655\u001b[0m        \u001b[32m0.9841\u001b[0m  0.0192\n    247        \u001b[36m1.1647\u001b[0m        \u001b[32m0.9836\u001b[0m  0.0446\n    248        \u001b[36m1.1638\u001b[0m        \u001b[32m0.9831\u001b[0m  0.0193\n    249        \u001b[36m1.1630\u001b[0m        \u001b[32m0.9825\u001b[0m  0.0164\n    250        \u001b[36m1.1622\u001b[0m        \u001b[32m0.9820\u001b[0m  0.0154\n    251        \u001b[36m1.1614\u001b[0m        \u001b[32m0.9815\u001b[0m  0.0412\n    252        \u001b[36m1.1605\u001b[0m        \u001b[32m0.9810\u001b[0m  0.0156\n    253        \u001b[36m1.1597\u001b[0m        \u001b[32m0.9805\u001b[0m  0.0226\n    254        \u001b[36m1.1589\u001b[0m        \u001b[32m0.9800\u001b[0m  0.0171\n    255        \u001b[36m1.1581\u001b[0m        \u001b[32m0.9795\u001b[0m  0.0415\n    256        \u001b[36m1.1573\u001b[0m        \u001b[32m0.9790\u001b[0m  0.0173\n    257        \u001b[36m1.1566\u001b[0m        \u001b[32m0.9785\u001b[0m  0.0169\n    258        \u001b[36m1.1558\u001b[0m        \u001b[32m0.9780\u001b[0m  0.0163\n    259        \u001b[36m1.1550\u001b[0m        \u001b[32m0.9776\u001b[0m  0.0391\n    260        \u001b[36m1.1542\u001b[0m        \u001b[32m0.9771\u001b[0m  0.0193\n    261        \u001b[36m1.1535\u001b[0m        \u001b[32m0.9766\u001b[0m  0.0174\n    262        \u001b[36m1.1527\u001b[0m        \u001b[32m0.9761\u001b[0m  0.0160\n    263        \u001b[36m1.1520\u001b[0m        \u001b[32m0.9757\u001b[0m  0.0391\n    264        \u001b[36m1.1512\u001b[0m        \u001b[32m0.9752\u001b[0m  0.0170\n    265        \u001b[36m1.1505\u001b[0m        \u001b[32m0.9748\u001b[0m  0.0181\n    266        \u001b[36m1.1497\u001b[0m        \u001b[32m0.9743\u001b[0m  0.0191\n    267        \u001b[36m1.1490\u001b[0m        \u001b[32m0.9739\u001b[0m  0.0502\n    268        \u001b[36m1.1483\u001b[0m        \u001b[32m0.9734\u001b[0m  0.0183\n    269        \u001b[36m1.1476\u001b[0m        \u001b[32m0.9730\u001b[0m  0.0185\n    270        \u001b[36m1.1468\u001b[0m        \u001b[32m0.9725\u001b[0m  0.0161\n    271        \u001b[36m1.1461\u001b[0m        \u001b[32m0.9721\u001b[0m  0.0352\n    272        \u001b[36m1.1454\u001b[0m        \u001b[32m0.9717\u001b[0m  0.0164\n    273        \u001b[36m1.1447\u001b[0m        \u001b[32m0.9713\u001b[0m  0.0159\n    274        \u001b[36m1.1440\u001b[0m        \u001b[32m0.9708\u001b[0m  0.0163\n    275        \u001b[36m1.1433\u001b[0m        \u001b[32m0.9704\u001b[0m  0.0459\n    276        \u001b[36m1.1427\u001b[0m        \u001b[32m0.9700\u001b[0m  0.0178\n    277        \u001b[36m1.1420\u001b[0m        \u001b[32m0.9696\u001b[0m  0.0185\n    278        \u001b[36m1.1413\u001b[0m        \u001b[32m0.9692\u001b[0m  0.0155\n    279        \u001b[36m1.1406\u001b[0m        \u001b[32m0.9688\u001b[0m  0.0155\n    280        \u001b[36m1.1400\u001b[0m        \u001b[32m0.9684\u001b[0m  0.0392\n    281        \u001b[36m1.1393\u001b[0m        \u001b[32m0.9680\u001b[0m  0.0208\n    282        \u001b[36m1.1386\u001b[0m        \u001b[32m0.9676\u001b[0m  0.0162\n    283        \u001b[36m1.1380\u001b[0m        \u001b[32m0.9672\u001b[0m  0.0485\n    284        \u001b[36m1.1373\u001b[0m        \u001b[32m0.9668\u001b[0m  0.0202\n    285        \u001b[36m1.1367\u001b[0m        \u001b[32m0.9664\u001b[0m  0.0218\n    286        \u001b[36m1.1361\u001b[0m        \u001b[32m0.9661\u001b[0m  0.0165\n    287        \u001b[36m1.1354\u001b[0m        \u001b[32m0.9657\u001b[0m  0.0400\n    288        \u001b[36m1.1348\u001b[0m        \u001b[32m0.9653\u001b[0m  0.0168\n    289        \u001b[36m1.1342\u001b[0m        \u001b[32m0.9649\u001b[0m  0.0161\n    290        \u001b[36m1.1335\u001b[0m        \u001b[32m0.9646\u001b[0m  0.0155\n    291        \u001b[36m1.1329\u001b[0m        \u001b[32m0.9642\u001b[0m  0.0395\n    292        \u001b[36m1.1323\u001b[0m        \u001b[32m0.9639\u001b[0m  0.0197\n    293        \u001b[36m1.1317\u001b[0m        \u001b[32m0.9635\u001b[0m  0.0219\n    294        \u001b[36m1.1311\u001b[0m        \u001b[32m0.9631\u001b[0m  0.0171\n    295        \u001b[36m1.1305\u001b[0m        \u001b[32m0.9628\u001b[0m  0.0361\n    296        \u001b[36m1.1299\u001b[0m        \u001b[32m0.9624\u001b[0m  0.0191\n    297        \u001b[36m1.1293\u001b[0m        \u001b[32m0.9621\u001b[0m  0.0159\n    298        \u001b[36m1.1287\u001b[0m        \u001b[32m0.9617\u001b[0m  0.0186\n    299        \u001b[36m1.1281\u001b[0m        \u001b[32m0.9614\u001b[0m  0.0388\n    300        \u001b[36m1.1275\u001b[0m        \u001b[32m0.9611\u001b[0m  0.0156\n    301        \u001b[36m1.1269\u001b[0m        \u001b[32m0.9607\u001b[0m  0.0187\n    302        \u001b[36m1.1264\u001b[0m        \u001b[32m0.9604\u001b[0m  0.0246\n    303        \u001b[36m1.1258\u001b[0m        \u001b[32m0.9601\u001b[0m  0.0357\n    304        \u001b[36m1.1252\u001b[0m        \u001b[32m0.9597\u001b[0m  0.0164\n    305        \u001b[36m1.1247\u001b[0m        \u001b[32m0.9594\u001b[0m  0.0177\n    306        \u001b[36m1.1241\u001b[0m        \u001b[32m0.9591\u001b[0m  0.0196\n    307        \u001b[36m1.1235\u001b[0m        \u001b[32m0.9588\u001b[0m  0.0442\n    308        \u001b[36m1.1230\u001b[0m        \u001b[32m0.9585\u001b[0m  0.0171\n    309        \u001b[36m1.1224\u001b[0m        \u001b[32m0.9581\u001b[0m  0.0173\n    310        \u001b[36m1.1219\u001b[0m        \u001b[32m0.9578\u001b[0m  0.0177\n    311        \u001b[36m1.1213\u001b[0m        \u001b[32m0.9575\u001b[0m  0.0417\n    312        \u001b[36m1.1208\u001b[0m        \u001b[32m0.9572\u001b[0m  0.0165\n    313        \u001b[36m1.1203\u001b[0m        \u001b[32m0.9569\u001b[0m  0.0177\n    314        \u001b[36m1.1197\u001b[0m        \u001b[32m0.9566\u001b[0m  0.0163\n    315        \u001b[36m1.1192\u001b[0m        \u001b[32m0.9563\u001b[0m  0.0421\n    316        \u001b[36m1.1187\u001b[0m        \u001b[32m0.9560\u001b[0m  0.0195\n    317        \u001b[36m1.1181\u001b[0m        \u001b[32m0.9557\u001b[0m  0.0175\n    318        \u001b[36m1.1176\u001b[0m        \u001b[32m0.9554\u001b[0m  0.0168\n    319        \u001b[36m1.1171\u001b[0m        \u001b[32m0.9551\u001b[0m  0.0374\n    320        \u001b[36m1.1166\u001b[0m        \u001b[32m0.9549\u001b[0m  0.0162\n    321        \u001b[36m1.1161\u001b[0m        \u001b[32m0.9546\u001b[0m  0.0163\n    322        \u001b[36m1.1156\u001b[0m        \u001b[32m0.9543\u001b[0m  0.0167\n    323        \u001b[36m1.1151\u001b[0m        \u001b[32m0.9540\u001b[0m  0.0442\n    324        \u001b[36m1.1146\u001b[0m        \u001b[32m0.9537\u001b[0m  0.0195\n    325        \u001b[36m1.1141\u001b[0m        \u001b[32m0.9535\u001b[0m  0.0165\n    326        \u001b[36m1.1136\u001b[0m        \u001b[32m0.9532\u001b[0m  0.0168\n    327        \u001b[36m1.1131\u001b[0m        \u001b[32m0.9529\u001b[0m  0.0166\n    328        \u001b[36m1.1126\u001b[0m        \u001b[32m0.9526\u001b[0m  0.0165\n    329        \u001b[36m1.1121\u001b[0m        \u001b[32m0.9524\u001b[0m  0.0166\n    330        \u001b[36m1.1116\u001b[0m        \u001b[32m0.9521\u001b[0m  0.0166\n    331        \u001b[36m1.1111\u001b[0m        \u001b[32m0.9518\u001b[0m  0.0166\n    332        \u001b[36m1.1106\u001b[0m        \u001b[32m0.9516\u001b[0m  0.0418\n    333        \u001b[36m1.1102\u001b[0m        \u001b[32m0.9513\u001b[0m  0.0166\n    334        \u001b[36m1.1097\u001b[0m        \u001b[32m0.9511\u001b[0m  0.0162\n    335        \u001b[36m1.1092\u001b[0m        \u001b[32m0.9508\u001b[0m  0.0191\n    336        \u001b[36m1.1087\u001b[0m        \u001b[32m0.9506\u001b[0m  0.0425\n    337        \u001b[36m1.1083\u001b[0m        \u001b[32m0.9503\u001b[0m  0.0161\n    338        \u001b[36m1.1078\u001b[0m        \u001b[32m0.9501\u001b[0m  0.0175\n    339        \u001b[36m1.1073\u001b[0m        \u001b[32m0.9498\u001b[0m  0.0158\n    340        \u001b[36m1.1069\u001b[0m        \u001b[32m0.9496\u001b[0m  0.0397\n    341        \u001b[36m1.1064\u001b[0m        \u001b[32m0.9493\u001b[0m  0.0156\n    342        \u001b[36m1.1060\u001b[0m        \u001b[32m0.9491\u001b[0m  0.0170\n    343        \u001b[36m1.1055\u001b[0m        \u001b[32m0.9489\u001b[0m  0.0162\n    344        \u001b[36m1.1051\u001b[0m        \u001b[32m0.9486\u001b[0m  0.0479\n    345        \u001b[36m1.1046\u001b[0m        \u001b[32m0.9484\u001b[0m  0.0165\n    346        \u001b[36m1.1042\u001b[0m        \u001b[32m0.9482\u001b[0m  0.0178\n    347        \u001b[36m1.1037\u001b[0m        \u001b[32m0.9479\u001b[0m  0.0161\n    348        \u001b[36m1.1033\u001b[0m        \u001b[32m0.9477\u001b[0m  0.0163\n    349        \u001b[36m1.1029\u001b[0m        \u001b[32m0.9475\u001b[0m  0.0161\n    350        \u001b[36m1.1024\u001b[0m        \u001b[32m0.9472\u001b[0m  0.0162\n    351        \u001b[36m1.1020\u001b[0m        \u001b[32m0.9470\u001b[0m  0.0175\n    352        \u001b[36m1.1016\u001b[0m        \u001b[32m0.9468\u001b[0m  0.0195\n    353        \u001b[36m1.1011\u001b[0m        \u001b[32m0.9466\u001b[0m  0.0390\n    354        \u001b[36m1.1007\u001b[0m        \u001b[32m0.9464\u001b[0m  0.0188\nStopping since valid_loss has not improved in the last 20 epochs.\n  epoch    train_loss    valid_loss     dur\n-------  ------------  ------------  ------\n      1      \u001b[36m219.9552\u001b[0m      \u001b[32m182.7662\u001b[0m  0.0149\n      2      \u001b[36m139.6699\u001b[0m       \u001b[32m46.0199\u001b[0m  0.0205\n      3       \u001b[36m26.6101\u001b[0m       \u001b[32m22.0580\u001b[0m  0.0162\n      4       27.1390       27.5011  0.0152\n      5       \u001b[36m21.9747\u001b[0m        \u001b[32m7.3885\u001b[0m  0.0154\n      6        \u001b[36m6.5448\u001b[0m        8.3180  0.0150\n      7        8.3967        8.8587  0.0154\n      8        6.9105        \u001b[32m4.1947\u001b[0m  0.0156\n      9        \u001b[36m3.5264\u001b[0m        \u001b[32m2.9178\u001b[0m  0.0159\n     10        \u001b[36m3.1743\u001b[0m        2.9412  0.0148\n     11        \u001b[36m2.9829\u001b[0m        \u001b[32m2.1329\u001b[0m  0.0150\n     12        \u001b[36m2.2244\u001b[0m        \u001b[32m1.7582\u001b[0m  0.0154\n     13        \u001b[36m1.9773\u001b[0m        1.8841  0.0156\n     14        2.0240        \u001b[32m1.7356\u001b[0m  0.0156\n     15        \u001b[36m1.8764\u001b[0m        \u001b[32m1.5018\u001b[0m  0.0151\n     16        \u001b[36m1.7479\u001b[0m        \u001b[32m1.4149\u001b[0m  0.0155\n     17        \u001b[36m1.6934\u001b[0m        \u001b[32m1.3922\u001b[0m  0.0158\n     18        \u001b[36m1.6527\u001b[0m        \u001b[32m1.3725\u001b[0m  0.0156\n     19        \u001b[36m1.6158\u001b[0m        \u001b[32m1.3570\u001b[0m  0.0149\n     20        \u001b[36m1.5943\u001b[0m        \u001b[32m1.3402\u001b[0m  0.0156\n     21        \u001b[36m1.5741\u001b[0m        \u001b[32m1.3197\u001b[0m  0.0175\n     22        \u001b[36m1.5518\u001b[0m        \u001b[32m1.3040\u001b[0m  0.0159\n     23        \u001b[36m1.5334\u001b[0m        \u001b[32m1.2922\u001b[0m  0.0150\n     24        \u001b[36m1.5179\u001b[0m        \u001b[32m1.2814\u001b[0m  0.0148\n     25        \u001b[36m1.5031\u001b[0m        \u001b[32m1.2700\u001b[0m  0.0148\n     26        \u001b[36m1.4890\u001b[0m        \u001b[32m1.2573\u001b[0m  0.0154\n     27        \u001b[36m1.4756\u001b[0m        \u001b[32m1.2429\u001b[0m  0.0242\n     28        \u001b[36m1.4626\u001b[0m        \u001b[32m1.2289\u001b[0m  0.0177\n     29        \u001b[36m1.4505\u001b[0m        \u001b[32m1.2162\u001b[0m  0.0155\n     30        \u001b[36m1.4391\u001b[0m        \u001b[32m1.2039\u001b[0m  0.0163\n     31        \u001b[36m1.4279\u001b[0m        \u001b[32m1.1914\u001b[0m  0.0153\n     32        \u001b[36m1.4172\u001b[0m        \u001b[32m1.1792\u001b[0m  0.0154\n     33        \u001b[36m1.4070\u001b[0m        \u001b[32m1.1677\u001b[0m  0.0156\n     34        \u001b[36m1.3973\u001b[0m        \u001b[32m1.1569\u001b[0m  0.0156\n     35        \u001b[36m1.3880\u001b[0m        \u001b[32m1.1465\u001b[0m  0.0156\n     36        \u001b[36m1.3792\u001b[0m        \u001b[32m1.1365\u001b[0m  0.0155\n     37        \u001b[36m1.3709\u001b[0m        \u001b[32m1.1270\u001b[0m  0.0154\n     38        \u001b[36m1.3629\u001b[0m        \u001b[32m1.1181\u001b[0m  0.0163\n     39        \u001b[36m1.3553\u001b[0m        \u001b[32m1.1097\u001b[0m  0.0154\n     40        \u001b[36m1.3481\u001b[0m        \u001b[32m1.1018\u001b[0m  0.0159\n     41        \u001b[36m1.3412\u001b[0m        \u001b[32m1.0943\u001b[0m  0.0151\n     42        \u001b[36m1.3346\u001b[0m        \u001b[32m1.0872\u001b[0m  0.0187\n     43        \u001b[36m1.3283\u001b[0m        \u001b[32m1.0806\u001b[0m  0.0167\n     44        \u001b[36m1.3224\u001b[0m        \u001b[32m1.0745\u001b[0m  0.0164\n     45        \u001b[36m1.3167\u001b[0m        \u001b[32m1.0687\u001b[0m  0.0154\n     46        \u001b[36m1.3112\u001b[0m        \u001b[32m1.0632\u001b[0m  0.0177\n     47        \u001b[36m1.3060\u001b[0m        \u001b[32m1.0581\u001b[0m  0.0154\n     48        \u001b[36m1.3010\u001b[0m        \u001b[32m1.0533\u001b[0m  0.0163\n     49        \u001b[36m1.2962\u001b[0m        \u001b[32m1.0488\u001b[0m  0.0154\n     50        \u001b[36m1.2916\u001b[0m        \u001b[32m1.0446\u001b[0m  0.0194\n     51        \u001b[36m1.2872\u001b[0m        \u001b[32m1.0406\u001b[0m  0.0160\n     52        \u001b[36m1.2829\u001b[0m        \u001b[32m1.0369\u001b[0m  0.0158\n     53        \u001b[36m1.2788\u001b[0m        \u001b[32m1.0333\u001b[0m  0.0183\n     54        \u001b[36m1.2749\u001b[0m        \u001b[32m1.0300\u001b[0m  0.0180\n     55        \u001b[36m1.2711\u001b[0m        \u001b[32m1.0268\u001b[0m  0.0189\n     56        \u001b[36m1.2674\u001b[0m        \u001b[32m1.0238\u001b[0m  0.0157\n     57        \u001b[36m1.2639\u001b[0m        \u001b[32m1.0210\u001b[0m  0.0155\n     58        \u001b[36m1.2604\u001b[0m        \u001b[32m1.0183\u001b[0m  0.0155\n     59        \u001b[36m1.2571\u001b[0m        \u001b[32m1.0158\u001b[0m  0.0161\n     60        \u001b[36m1.2539\u001b[0m        \u001b[32m1.0133\u001b[0m  0.0157\n     61        \u001b[36m1.2508\u001b[0m        \u001b[32m1.0110\u001b[0m  0.0156\n     62        \u001b[36m1.2477\u001b[0m        \u001b[32m1.0088\u001b[0m  0.0152\n     63        \u001b[36m1.2448\u001b[0m        \u001b[32m1.0067\u001b[0m  0.0156\n     64        \u001b[36m1.2419\u001b[0m        \u001b[32m1.0047\u001b[0m  0.0156\n     65        \u001b[36m1.2391\u001b[0m        \u001b[32m1.0028\u001b[0m  0.0157\n     66        \u001b[36m1.2364\u001b[0m        \u001b[32m1.0009\u001b[0m  0.0162\n     67        \u001b[36m1.2338\u001b[0m        \u001b[32m0.9991\u001b[0m  0.0154\n     68        \u001b[36m1.2312\u001b[0m        \u001b[32m0.9974\u001b[0m  0.0153\n     69        \u001b[36m1.2286\u001b[0m        \u001b[32m0.9958\u001b[0m  0.0151\n     70        \u001b[36m1.2262\u001b[0m        \u001b[32m0.9942\u001b[0m  0.0151\n     71        \u001b[36m1.2237\u001b[0m        \u001b[32m0.9926\u001b[0m  0.0157\n     72        \u001b[36m1.2214\u001b[0m        \u001b[32m0.9911\u001b[0m  0.0156\n     73        \u001b[36m1.2191\u001b[0m        \u001b[32m0.9897\u001b[0m  0.0156\n     74        \u001b[36m1.2168\u001b[0m        \u001b[32m0.9883\u001b[0m  0.0155\n     75        \u001b[36m1.2146\u001b[0m        \u001b[32m0.9869\u001b[0m  0.0150\n     76        \u001b[36m1.2124\u001b[0m        \u001b[32m0.9856\u001b[0m  0.0150\n     77        \u001b[36m1.2102\u001b[0m        \u001b[32m0.9843\u001b[0m  0.0164\n     78        \u001b[36m1.2081\u001b[0m        \u001b[32m0.9831\u001b[0m  0.0157\n     79        \u001b[36m1.2061\u001b[0m        \u001b[32m0.9819\u001b[0m  0.0151\n     80        \u001b[36m1.2040\u001b[0m        \u001b[32m0.9807\u001b[0m  0.0152\n     81        \u001b[36m1.2020\u001b[0m        \u001b[32m0.9795\u001b[0m  0.0156\n     82        \u001b[36m1.2001\u001b[0m        \u001b[32m0.9784\u001b[0m  0.0159\nIOPub message rate exceeded.\nThe notebook server will temporarily stop sending output\nto the client in order to avoid crashing it.\nTo change this limit, set the config variable\n`--NotebookApp.iopub_msg_rate_limit`.\n\nCurrent values:\nNotebookApp.iopub_msg_rate_limit=50.0 (msgs/sec)\nNotebookApp.rate_limit_window=3.0 (secs)\n\n    129        \u001b[36m1.1362\u001b[0m        \u001b[32m0.9470\u001b[0m  0.0181\n    130        \u001b[36m1.1352\u001b[0m        \u001b[32m0.9466\u001b[0m  0.0160\n    131        \u001b[36m1.1343\u001b[0m        \u001b[32m0.9462\u001b[0m  0.0191\n    132        \u001b[36m1.1334\u001b[0m        \u001b[32m0.9458\u001b[0m  0.0292\n    133        \u001b[36m1.1325\u001b[0m        \u001b[32m0.9454\u001b[0m  0.0163\n    134        \u001b[36m1.1316\u001b[0m        \u001b[32m0.9450\u001b[0m  0.0162\n    135        \u001b[36m1.1307\u001b[0m        \u001b[32m0.9447\u001b[0m  0.0163\n    136        \u001b[36m1.1298\u001b[0m        \u001b[32m0.9443\u001b[0m  0.0207\n    137        \u001b[36m1.1289\u001b[0m        \u001b[32m0.9440\u001b[0m  0.0179\n    138        \u001b[36m1.1281\u001b[0m        \u001b[32m0.9436\u001b[0m  0.0164\n    139        \u001b[36m1.1272\u001b[0m        \u001b[32m0.9433\u001b[0m  0.0156\n    140        \u001b[36m1.1264\u001b[0m        \u001b[32m0.9429\u001b[0m  0.0158\n    141        \u001b[36m1.1256\u001b[0m        \u001b[32m0.9426\u001b[0m  0.0159\n    142        \u001b[36m1.1247\u001b[0m        \u001b[32m0.9423\u001b[0m  0.0161\n    143        \u001b[36m1.1239\u001b[0m        \u001b[32m0.9419\u001b[0m  0.0151\n    144        \u001b[36m1.1231\u001b[0m        \u001b[32m0.9416\u001b[0m  0.0159\n    145        \u001b[36m1.1223\u001b[0m        \u001b[32m0.9413\u001b[0m  0.0159\n    146        \u001b[36m1.1215\u001b[0m        \u001b[32m0.9410\u001b[0m  0.0156\n    147        \u001b[36m1.1208\u001b[0m        \u001b[32m0.9407\u001b[0m  0.0159\n    148        \u001b[36m1.1200\u001b[0m        \u001b[32m0.9403\u001b[0m  0.0183\n    149        \u001b[36m1.1192\u001b[0m        \u001b[32m0.9400\u001b[0m  0.0157\n    150        \u001b[36m1.1185\u001b[0m        \u001b[32m0.9397\u001b[0m  0.0152\n    151        \u001b[36m1.1177\u001b[0m        \u001b[32m0.9394\u001b[0m  0.0150\n    152        \u001b[36m1.1170\u001b[0m        \u001b[32m0.9391\u001b[0m  0.0157\n    153        \u001b[36m1.1163\u001b[0m        \u001b[32m0.9389\u001b[0m  0.0184\n    154        \u001b[36m1.1155\u001b[0m        \u001b[32m0.9386\u001b[0m  0.0162\n    155        \u001b[36m1.1148\u001b[0m        \u001b[32m0.9383\u001b[0m  0.0155\n    156        \u001b[36m1.1141\u001b[0m        \u001b[32m0.9380\u001b[0m  0.0156\n    157        \u001b[36m1.1134\u001b[0m        \u001b[32m0.9377\u001b[0m  0.0150\n    158        \u001b[36m1.1127\u001b[0m        \u001b[32m0.9374\u001b[0m  0.0150\n    159        \u001b[36m1.1120\u001b[0m        \u001b[32m0.9372\u001b[0m  0.0173\n    160        \u001b[36m1.1114\u001b[0m        \u001b[32m0.9369\u001b[0m  0.0155\n    161        \u001b[36m1.1107\u001b[0m        \u001b[32m0.9366\u001b[0m  0.0156\n    162        \u001b[36m1.1100\u001b[0m        \u001b[32m0.9364\u001b[0m  0.0176\n    163        \u001b[36m1.1093\u001b[0m        \u001b[32m0.9361\u001b[0m  0.0152\n    164        \u001b[36m1.1087\u001b[0m        \u001b[32m0.9358\u001b[0m  0.0159\n    165        \u001b[36m1.1080\u001b[0m        \u001b[32m0.9356\u001b[0m  0.0176\n    166        \u001b[36m1.1074\u001b[0m        \u001b[32m0.9353\u001b[0m  0.0153\n    167        \u001b[36m1.1067\u001b[0m        \u001b[32m0.9351\u001b[0m  0.0153\n    168        \u001b[36m1.1061\u001b[0m        \u001b[32m0.9348\u001b[0m  0.0151\n    169        \u001b[36m1.1055\u001b[0m        \u001b[32m0.9346\u001b[0m  0.0155\n    170        \u001b[36m1.1048\u001b[0m        \u001b[32m0.9343\u001b[0m  0.0177\n    171        \u001b[36m1.1042\u001b[0m        \u001b[32m0.9341\u001b[0m  0.0155\n    172        \u001b[36m1.1036\u001b[0m        \u001b[32m0.9338\u001b[0m  0.0155\n    173        \u001b[36m1.1030\u001b[0m        \u001b[32m0.9336\u001b[0m  0.0153\n    174        \u001b[36m1.1024\u001b[0m        \u001b[32m0.9333\u001b[0m  0.0152\n    175        \u001b[36m1.1018\u001b[0m        \u001b[32m0.9331\u001b[0m  0.0176\n    176        \u001b[36m1.1012\u001b[0m        \u001b[32m0.9328\u001b[0m  0.0159\n    177        \u001b[36m1.1006\u001b[0m        \u001b[32m0.9326\u001b[0m  0.0155\n    178        \u001b[36m1.1000\u001b[0m        \u001b[32m0.9324\u001b[0m  0.0155\n    179        \u001b[36m1.0994\u001b[0m        \u001b[32m0.9321\u001b[0m  0.0150\n    180        \u001b[36m1.0988\u001b[0m        \u001b[32m0.9319\u001b[0m  0.0155\n    181        \u001b[36m1.0982\u001b[0m        \u001b[32m0.9316\u001b[0m  0.0156\n    182        \u001b[36m1.0976\u001b[0m        \u001b[32m0.9314\u001b[0m  0.0156\n    183        \u001b[36m1.0971\u001b[0m        \u001b[32m0.9312\u001b[0m  0.0147\n    184        \u001b[36m1.0965\u001b[0m        \u001b[32m0.9309\u001b[0m  0.0155\n    185        \u001b[36m1.0959\u001b[0m        \u001b[32m0.9307\u001b[0m  0.0156\n    186        \u001b[36m1.0954\u001b[0m        \u001b[32m0.9305\u001b[0m  0.0158\n    187        \u001b[36m1.0948\u001b[0m        \u001b[32m0.9302\u001b[0m  0.0155\n    188        \u001b[36m1.0942\u001b[0m        \u001b[32m0.9300\u001b[0m  0.0158\n    189        \u001b[36m1.0937\u001b[0m        \u001b[32m0.9298\u001b[0m  0.0162\n    190        \u001b[36m1.0931\u001b[0m        \u001b[32m0.9295\u001b[0m  0.0195\n    191        \u001b[36m1.0926\u001b[0m        \u001b[32m0.9293\u001b[0m  0.0203\n    192        \u001b[36m1.0920\u001b[0m        \u001b[32m0.9291\u001b[0m  0.0158\n    193        \u001b[36m1.0915\u001b[0m        \u001b[32m0.9289\u001b[0m  0.0154\n    194        \u001b[36m1.0910\u001b[0m        \u001b[32m0.9286\u001b[0m  0.0150\n    195        \u001b[36m1.0904\u001b[0m        \u001b[32m0.9284\u001b[0m  0.0156\n    196        \u001b[36m1.0899\u001b[0m        \u001b[32m0.9282\u001b[0m  0.0153\n    197        \u001b[36m1.0893\u001b[0m        \u001b[32m0.9279\u001b[0m  0.0155\n    198        \u001b[36m1.0888\u001b[0m        \u001b[32m0.9277\u001b[0m  0.0154\n    199        \u001b[36m1.0883\u001b[0m        \u001b[32m0.9275\u001b[0m  0.0154\n    200        \u001b[36m1.0878\u001b[0m        \u001b[32m0.9272\u001b[0m  0.0160\n    201        \u001b[36m1.0872\u001b[0m        \u001b[32m0.9270\u001b[0m  0.0150\nStopping since valid_loss has not improved in the last 20 epochs.\n",
     "output_type": "stream"
    }
   ],
   "execution_count": null
  },
  {
   "cell_type": "code",
   "metadata": {
    "cell_id": "673f4af6-3dfb-4602-8324-bdfc5da142e5",
    "deepnote_to_be_reexecuted": false,
    "execution_millis": 249,
    "execution_start": 1642977007596,
    "output_cleared": true,
    "source_hash": "77a89b52",
    "tags": [],
    "deepnote_cell_type": "code"
   },
   "source": "y_predictions_train = list()\ny_predictions_internal_test = list()\ny_predictions_blind_test = list()\n\n#predictions on every model is averaged\nfor model in best_models:\n    #prediction on TRAINING SET\n    y_pred = model.predict(X)\n    y_predictions_train.append(y_pred)\n    \n    #prediction on INTERNAL TEST SET\n    y_pred = model.predict(X_test)\n    y_predictions_internal_test.append(y_pred)\n\n    #prediction on BLIND TEST SET\n    y_pred = model.predict(blind_ts)\n    y_predictions_blind_test.append(y_pred)",
   "outputs": [],
   "execution_count": null
  },
  {
   "cell_type": "code",
   "metadata": {
    "cell_id": "6ec07286-f91e-49c0-aec8-58deb00c31c5",
    "deepnote_output_heights": [
     null,
     462
    ],
    "deepnote_to_be_reexecuted": false,
    "execution_millis": 121490,
    "execution_start": 1642977007853,
    "output_cleared": false,
    "source_hash": "e7c5193c",
    "tags": [],
    "deepnote_cell_type": "code"
   },
   "source": "loss_train_best_models = list()\nloss_test_best_models = list()\n\nfor i in range(len(eval_best_models)):\n    epochs = epochs_best_models[i]\n    eval_model = eval_best_models[i]\n    score_train, score_test, loss_train, loss_test = fit_and_score(epochs, eval_model, X, y, X_test, y_test)\n    loss_train_best_models.append(loss_train)\n    loss_test_best_models.append(loss_test)",
   "outputs": [
    {
     "name": "stdout",
     "text": "     97        \u001b[36m1.1604\u001b[0m        \u001b[32m0.9535\u001b[0m  0.0159\n     98        \u001b[36m1.1591\u001b[0m        \u001b[32m0.9528\u001b[0m  0.0194\n     99        \u001b[36m1.1579\u001b[0m        \u001b[32m0.9521\u001b[0m  0.0314\n    100        \u001b[36m1.1566\u001b[0m        \u001b[32m0.9514\u001b[0m  0.0156\n    101        \u001b[36m1.1554\u001b[0m        \u001b[32m0.9507\u001b[0m  0.0351\n    102        \u001b[36m1.1542\u001b[0m        \u001b[32m0.9501\u001b[0m  0.0157\n    103        \u001b[36m1.1531\u001b[0m        \u001b[32m0.9495\u001b[0m  0.0355\n    104        \u001b[36m1.1520\u001b[0m        \u001b[32m0.9489\u001b[0m  0.0159\n    105        \u001b[36m1.1508\u001b[0m        \u001b[32m0.9483\u001b[0m  0.0160\n    106        \u001b[36m1.1498\u001b[0m        \u001b[32m0.9477\u001b[0m  0.0806\n    107        \u001b[36m1.1487\u001b[0m        \u001b[32m0.9471\u001b[0m  0.0156\n    108        \u001b[36m1.1476\u001b[0m        \u001b[32m0.9466\u001b[0m  0.0156\n    109        \u001b[36m1.1466\u001b[0m        \u001b[32m0.9461\u001b[0m  0.0157\n    110        \u001b[36m1.1456\u001b[0m        \u001b[32m0.9456\u001b[0m  0.0159\n    111        \u001b[36m1.1446\u001b[0m        \u001b[32m0.9451\u001b[0m  0.0171\n    112        \u001b[36m1.1436\u001b[0m        \u001b[32m0.9446\u001b[0m  0.0157\n    113        \u001b[36m1.1426\u001b[0m        \u001b[32m0.9441\u001b[0m  0.0157\n    114        \u001b[36m1.1417\u001b[0m        \u001b[32m0.9436\u001b[0m  0.0157\n    115        \u001b[36m1.1408\u001b[0m        \u001b[32m0.9432\u001b[0m  0.0354\n    116        \u001b[36m1.1398\u001b[0m        \u001b[32m0.9427\u001b[0m  0.0159\n    117        \u001b[36m1.1389\u001b[0m        \u001b[32m0.9423\u001b[0m  0.0354\n    118        \u001b[36m1.1381\u001b[0m        \u001b[32m0.9419\u001b[0m  0.0158\n    119        \u001b[36m1.1372\u001b[0m        \u001b[32m0.9415\u001b[0m  0.0157\n    120        \u001b[36m1.1363\u001b[0m        \u001b[32m0.9411\u001b[0m  0.0157\n    121        \u001b[36m1.1355\u001b[0m        \u001b[32m0.9407\u001b[0m  0.0158\n    122        \u001b[36m1.1346\u001b[0m        \u001b[32m0.9403\u001b[0m  0.0155\n    123        \u001b[36m1.1338\u001b[0m        \u001b[32m0.9399\u001b[0m  0.0158\n    124        \u001b[36m1.1330\u001b[0m        \u001b[32m0.9396\u001b[0m  0.0383\n    125        \u001b[36m1.1322\u001b[0m        \u001b[32m0.9392\u001b[0m  0.0158\n    126        \u001b[36m1.1314\u001b[0m        \u001b[32m0.9389\u001b[0m  0.0316\n    127        \u001b[36m1.1306\u001b[0m        \u001b[32m0.9385\u001b[0m  0.0160\n    128        \u001b[36m1.1299\u001b[0m        \u001b[32m0.9382\u001b[0m  0.0198\n    129        \u001b[36m1.1291\u001b[0m        \u001b[32m0.9379\u001b[0m  0.0348\n    130        \u001b[36m1.1284\u001b[0m        \u001b[32m0.9375\u001b[0m  0.0162\n    131        \u001b[36m1.1276\u001b[0m        \u001b[32m0.9372\u001b[0m  0.0197\n    132        \u001b[36m1.1269\u001b[0m        \u001b[32m0.9369\u001b[0m  0.0158\n    133        \u001b[36m1.1262\u001b[0m        \u001b[32m0.9366\u001b[0m  0.0157\n    134        \u001b[36m1.1255\u001b[0m        \u001b[32m0.9363\u001b[0m  0.0157\n    135        \u001b[36m1.1248\u001b[0m        \u001b[32m0.9360\u001b[0m  0.0157\n    136        \u001b[36m1.1241\u001b[0m        \u001b[32m0.9357\u001b[0m  0.0159\n    137        \u001b[36m1.1234\u001b[0m        \u001b[32m0.9354\u001b[0m  0.0157\n    138        \u001b[36m1.1227\u001b[0m        \u001b[32m0.9351\u001b[0m  0.0157\n    139        \u001b[36m1.1220\u001b[0m        \u001b[32m0.9349\u001b[0m  0.0157\n    140        \u001b[36m1.1214\u001b[0m        \u001b[32m0.9346\u001b[0m  0.0331\n    141        \u001b[36m1.1207\u001b[0m        \u001b[32m0.9343\u001b[0m  0.0157\n    142        \u001b[36m1.1201\u001b[0m        \u001b[32m0.9341\u001b[0m  0.0308\n    143        \u001b[36m1.1194\u001b[0m        \u001b[32m0.9338\u001b[0m  0.0168\n    144        \u001b[36m1.1188\u001b[0m        \u001b[32m0.9336\u001b[0m  0.0158\n    145        \u001b[36m1.1181\u001b[0m        \u001b[32m0.9333\u001b[0m  0.0157\n    146        \u001b[36m1.1175\u001b[0m        \u001b[32m0.9331\u001b[0m  0.0158\n    147        \u001b[36m1.1169\u001b[0m        \u001b[32m0.9328\u001b[0m  0.0159\n    148        \u001b[36m1.1163\u001b[0m        \u001b[32m0.9326\u001b[0m  0.0157\n    149        \u001b[36m1.1157\u001b[0m        \u001b[32m0.9323\u001b[0m  0.0163\n    150        \u001b[36m1.1151\u001b[0m        \u001b[32m0.9321\u001b[0m  0.0157\n    151        \u001b[36m1.1145\u001b[0m        \u001b[32m0.9319\u001b[0m  0.0352\n    152        \u001b[36m1.1139\u001b[0m        \u001b[32m0.9316\u001b[0m  0.0158\n    153        \u001b[36m1.1133\u001b[0m        \u001b[32m0.9314\u001b[0m  0.0358\n    154        \u001b[36m1.1127\u001b[0m        \u001b[32m0.9312\u001b[0m  0.0157\n    155        \u001b[36m1.1122\u001b[0m        \u001b[32m0.9310\u001b[0m  0.0161\n    156        \u001b[36m1.1116\u001b[0m        \u001b[32m0.9308\u001b[0m  0.0159\n    157        \u001b[36m1.1110\u001b[0m        \u001b[32m0.9305\u001b[0m  0.0163\n    158        \u001b[36m1.1105\u001b[0m        \u001b[32m0.9303\u001b[0m  0.0161\n    159        \u001b[36m1.1099\u001b[0m        \u001b[32m0.9301\u001b[0m  0.0182\n    160        \u001b[36m1.1094\u001b[0m        \u001b[32m0.9299\u001b[0m  0.0315\n    161        \u001b[36m1.1088\u001b[0m        \u001b[32m0.9297\u001b[0m  0.0160\n    162        \u001b[36m1.1083\u001b[0m        \u001b[32m0.9295\u001b[0m  0.0353\n    163        \u001b[36m1.1077\u001b[0m        \u001b[32m0.9293\u001b[0m  0.0194\n    164        \u001b[36m1.1072\u001b[0m        \u001b[32m0.9291\u001b[0m  0.0163\n    165        \u001b[36m1.1067\u001b[0m        \u001b[32m0.9289\u001b[0m  0.0301\n    166        \u001b[36m1.1061\u001b[0m        \u001b[32m0.9287\u001b[0m  0.0156\n    167        \u001b[36m1.1056\u001b[0m        \u001b[32m0.9285\u001b[0m  0.0161\n    168        \u001b[36m1.1051\u001b[0m        \u001b[32m0.9283\u001b[0m  0.0155\n    169        \u001b[36m1.1046\u001b[0m        \u001b[32m0.9281\u001b[0m  0.0156\n    170        \u001b[36m1.1041\u001b[0m        \u001b[32m0.9279\u001b[0m  0.0156\n    171        \u001b[36m1.1036\u001b[0m        \u001b[32m0.9278\u001b[0m  0.0154\n    172        \u001b[36m1.1031\u001b[0m        \u001b[32m0.9276\u001b[0m  0.0357\n    173        \u001b[36m1.1025\u001b[0m        \u001b[32m0.9274\u001b[0m  0.0157\n    174        \u001b[36m1.1021\u001b[0m        \u001b[32m0.9272\u001b[0m  0.0312\n    175        \u001b[36m1.1016\u001b[0m        \u001b[32m0.9270\u001b[0m  0.0161\n    176        \u001b[36m1.1011\u001b[0m        \u001b[32m0.9268\u001b[0m  0.0173\n    177        \u001b[36m1.1006\u001b[0m        \u001b[32m0.9267\u001b[0m  0.0168\n    178        \u001b[36m1.1001\u001b[0m        \u001b[32m0.9265\u001b[0m  0.0194\n    179        \u001b[36m1.0996\u001b[0m        \u001b[32m0.9263\u001b[0m  0.0333\n    180        \u001b[36m1.0991\u001b[0m        \u001b[32m0.9261\u001b[0m  0.0185\n    181        \u001b[36m1.0986\u001b[0m        \u001b[32m0.9260\u001b[0m  0.0157\n    182        \u001b[36m1.0982\u001b[0m        \u001b[32m0.9258\u001b[0m  0.0156\n    183        \u001b[36m1.0977\u001b[0m        \u001b[32m0.9256\u001b[0m  0.0156\n    184        \u001b[36m1.0972\u001b[0m        \u001b[32m0.9254\u001b[0m  0.0154\n    185        \u001b[36m1.0967\u001b[0m        \u001b[32m0.9253\u001b[0m  0.0158\n    186        \u001b[36m1.0963\u001b[0m        \u001b[32m0.9251\u001b[0m  0.0347\n    187        \u001b[36m1.0958\u001b[0m        \u001b[32m0.9249\u001b[0m  0.0162\n    188        \u001b[36m1.0954\u001b[0m        \u001b[32m0.9248\u001b[0m  0.0157\n    189        \u001b[36m1.0949\u001b[0m        \u001b[32m0.9246\u001b[0m  0.0155\n    190        \u001b[36m1.0944\u001b[0m        \u001b[32m0.9244\u001b[0m  0.0160\n    191        \u001b[36m1.0940\u001b[0m        \u001b[32m0.9243\u001b[0m  0.0157\n    192        \u001b[36m1.0935\u001b[0m        \u001b[32m0.9241\u001b[0m  0.0156\n    193        \u001b[36m1.0931\u001b[0m        \u001b[32m0.9240\u001b[0m  0.0158\n    194        \u001b[36m1.0926\u001b[0m        \u001b[32m0.9238\u001b[0m  0.0191\n    195        \u001b[36m1.0922\u001b[0m        \u001b[32m0.9236\u001b[0m  0.0193\n    196        \u001b[36m1.0917\u001b[0m        \u001b[32m0.9235\u001b[0m  0.0193\n    197        \u001b[36m1.0913\u001b[0m        \u001b[32m0.9233\u001b[0m  0.0193\n    198        \u001b[36m1.0909\u001b[0m        \u001b[32m0.9232\u001b[0m  0.0326\n    199        \u001b[36m1.0904\u001b[0m        \u001b[32m0.9230\u001b[0m  0.0162\n    200        \u001b[36m1.0900\u001b[0m        \u001b[32m0.9228\u001b[0m  0.0203\n    201        \u001b[36m1.0895\u001b[0m        \u001b[32m0.9227\u001b[0m  0.0389\n    202        \u001b[36m1.0891\u001b[0m        \u001b[32m0.9225\u001b[0m  0.0159\n    203        \u001b[36m1.0887\u001b[0m        \u001b[32m0.9224\u001b[0m  0.0357\n    204        \u001b[36m1.0883\u001b[0m        \u001b[32m0.9222\u001b[0m  0.0161\n    205        \u001b[36m1.0878\u001b[0m        \u001b[32m0.9221\u001b[0m  0.0167\n    206        \u001b[36m1.0874\u001b[0m        \u001b[32m0.9219\u001b[0m  0.0205\n    207        \u001b[36m1.0870\u001b[0m        \u001b[32m0.9218\u001b[0m  0.0200\n    208        \u001b[36m1.0866\u001b[0m        \u001b[32m0.9216\u001b[0m  0.0314\n    209        \u001b[36m1.0861\u001b[0m        \u001b[32m0.9215\u001b[0m  0.0171\n    210        \u001b[36m1.0857\u001b[0m        \u001b[32m0.9213\u001b[0m  0.0357\n    211        \u001b[36m1.0853\u001b[0m        \u001b[32m0.9212\u001b[0m  0.0161\n    212        \u001b[36m1.0849\u001b[0m        \u001b[32m0.9210\u001b[0m  0.0185\n    213        \u001b[36m1.0845\u001b[0m        \u001b[32m0.9209\u001b[0m  0.0158\n    214        \u001b[36m1.0841\u001b[0m        \u001b[32m0.9207\u001b[0m  0.0160\n    215        \u001b[36m1.0836\u001b[0m        \u001b[32m0.9206\u001b[0m  0.0160\n    216        \u001b[36m1.0832\u001b[0m        \u001b[32m0.9204\u001b[0m  0.0180\n    217        \u001b[36m1.0828\u001b[0m        \u001b[32m0.9203\u001b[0m  0.0352\n    218        \u001b[36m1.0824\u001b[0m        \u001b[32m0.9201\u001b[0m  0.0162\n    219        \u001b[36m1.0820\u001b[0m        \u001b[32m0.9200\u001b[0m  0.0314\n    220        \u001b[36m1.0816\u001b[0m        \u001b[32m0.9198\u001b[0m  0.0161\n    221        \u001b[36m1.0812\u001b[0m        \u001b[32m0.9197\u001b[0m  0.0164\n    222        \u001b[36m1.0808\u001b[0m        \u001b[32m0.9195\u001b[0m  0.0159\n    223        \u001b[36m1.0804\u001b[0m        \u001b[32m0.9194\u001b[0m  0.0202\n    224        \u001b[36m1.0800\u001b[0m        \u001b[32m0.9192\u001b[0m  0.0321\n    225        \u001b[36m1.0796\u001b[0m        \u001b[32m0.9191\u001b[0m  0.0158\n    226        \u001b[36m1.0792\u001b[0m        \u001b[32m0.9189\u001b[0m  0.0390\n    227        \u001b[36m1.0788\u001b[0m        \u001b[32m0.9188\u001b[0m  0.0201\n    228        \u001b[36m1.0784\u001b[0m        \u001b[32m0.9187\u001b[0m  0.0165\n    229        \u001b[36m1.0780\u001b[0m        \u001b[32m0.9185\u001b[0m  0.0376\n    230        \u001b[36m1.0777\u001b[0m        \u001b[32m0.9184\u001b[0m  0.0214\n  epoch    train_loss    valid_loss     dur\n-------  ------------  ------------  ------\n      1      \u001b[36m233.9690\u001b[0m      \u001b[32m223.1903\u001b[0m  0.0156\n      2      \u001b[36m208.6777\u001b[0m      \u001b[32m175.7845\u001b[0m  0.0151\n      3      \u001b[36m165.4210\u001b[0m      \u001b[32m109.6432\u001b[0m  0.0146\n      4      \u001b[36m104.8995\u001b[0m       \u001b[32m41.3392\u001b[0m  0.0161\n      5       \u001b[36m40.5520\u001b[0m       \u001b[32m15.1865\u001b[0m  0.0136\n      6       \u001b[36m14.8009\u001b[0m       46.9446  0.0147\n      7       48.2834       44.2062  0.0137\n      8       44.9280       \u001b[32m11.7126\u001b[0m  0.0140\n      9       \u001b[36m12.8702\u001b[0m       20.3734  0.0141\n     10       19.3305       25.6300  0.0140\n     11       23.5061       17.2988  0.0141\n     12       16.0609        \u001b[32m8.5596\u001b[0m  0.0138\n     13        \u001b[36m8.5266\u001b[0m        \u001b[32m7.1077\u001b[0m  0.0149\n     14        \u001b[36m7.7256\u001b[0m        \u001b[32m6.8782\u001b[0m  0.0143\n     15        7.9247        \u001b[32m5.8535\u001b[0m  0.0142\n     16        \u001b[36m7.0385\u001b[0m        \u001b[32m4.7386\u001b[0m  0.0136\n     17        \u001b[36m5.7284\u001b[0m        \u001b[32m4.6278\u001b[0m  0.0136\n     18        \u001b[36m5.2672\u001b[0m        4.8368  0.0138\n     19        \u001b[36m5.2261\u001b[0m        \u001b[32m4.2603\u001b[0m  0.0146\n     20        \u001b[36m4.5192\u001b[0m        \u001b[32m3.3032\u001b[0m  0.0161\n     21        \u001b[36m3.5156\u001b[0m        \u001b[32m2.6939\u001b[0m  0.0150\n     22        \u001b[36m2.9443\u001b[0m        \u001b[32m2.4132\u001b[0m  0.0150\n     23        \u001b[36m2.7239\u001b[0m        \u001b[32m2.2763\u001b[0m  0.0150\n     24        \u001b[36m2.6054\u001b[0m        2.2820  0.0140\n     25        \u001b[36m2.5927\u001b[0m        2.3410  0.0142\n     26        2.6274        \u001b[32m2.2656\u001b[0m  0.0141\n     27        \u001b[36m2.5436\u001b[0m        \u001b[32m2.0244\u001b[0m  0.0144\n     28        \u001b[36m2.3146\u001b[0m        \u001b[32m1.7826\u001b[0m  0.0150\n     29        \u001b[36m2.0965\u001b[0m        \u001b[32m1.6720\u001b[0m  0.0137\n     30        \u001b[36m2.0064\u001b[0m        \u001b[32m1.6543\u001b[0m  0.0136\n     31        \u001b[36m1.9952\u001b[0m        \u001b[32m1.6335\u001b[0m  0.0137\n     32        \u001b[36m1.9651\u001b[0m        \u001b[32m1.5914\u001b[0m  0.0216\n     33        \u001b[36m1.9038\u001b[0m        \u001b[32m1.5622\u001b[0m  0.0140\n     34        \u001b[36m1.8539\u001b[0m        \u001b[32m1.5438\u001b[0m  0.0139\n     35        \u001b[36m1.8223\u001b[0m        \u001b[32m1.5013\u001b[0m  0.0144\n     36        \u001b[36m1.7800\u001b[0m        \u001b[32m1.4301\u001b[0m  0.0142\n     37        \u001b[36m1.7221\u001b[0m        \u001b[32m1.3651\u001b[0m  0.0154\n     38        \u001b[36m1.6767\u001b[0m        \u001b[32m1.3314\u001b[0m  0.0150\n     39        \u001b[36m1.6595\u001b[0m        \u001b[32m1.3204\u001b[0m  0.0146\n     40        \u001b[36m1.6546\u001b[0m        \u001b[32m1.3155\u001b[0m  0.0138\n     41        \u001b[36m1.6430\u001b[0m        1.3162  0.0147\n     42        \u001b[36m1.6277\u001b[0m        1.3257  0.0141\n     43        \u001b[36m1.6186\u001b[0m        1.3337  0.0156\n     44        \u001b[36m1.6126\u001b[0m        1.3256  0.0141\n     45        \u001b[36m1.5993\u001b[0m        \u001b[32m1.3011\u001b[0m  0.0141\n     46        \u001b[36m1.5783\u001b[0m        \u001b[32m1.2732\u001b[0m  0.0141\n     47        \u001b[36m1.5588\u001b[0m        \u001b[32m1.2517\u001b[0m  0.0138\n     48        \u001b[36m1.5454\u001b[0m        \u001b[32m1.2372\u001b[0m  0.0135\n     49        \u001b[36m1.5347\u001b[0m        \u001b[32m1.2279\u001b[0m  0.0136\n     50        \u001b[36m1.5239\u001b[0m        \u001b[32m1.2238\u001b[0m  0.0135\n     51        \u001b[36m1.5144\u001b[0m        \u001b[32m1.2234\u001b[0m  0.0135\n     52        \u001b[36m1.5076\u001b[0m        \u001b[32m1.2218\u001b[0m  0.0134\n     53        \u001b[36m1.5013\u001b[0m        \u001b[32m1.2152\u001b[0m  0.0134\n     54        \u001b[36m1.4930\u001b[0m        \u001b[32m1.2047\u001b[0m  0.0134\n     55        \u001b[36m1.4836\u001b[0m        \u001b[32m1.1945\u001b[0m  0.0137\n     56        \u001b[36m1.4753\u001b[0m        \u001b[32m1.1869\u001b[0m  0.0146\n     57        \u001b[36m1.4687\u001b[0m        \u001b[32m1.1818\u001b[0m  0.0136\n     58        \u001b[36m1.4623\u001b[0m        \u001b[32m1.1784\u001b[0m  0.0134\n     59        \u001b[36m1.4557\u001b[0m        \u001b[32m1.1762\u001b[0m  0.0134\n     60        \u001b[36m1.4494\u001b[0m        \u001b[32m1.1741\u001b[0m  0.0134\n     61        \u001b[36m1.4438\u001b[0m        \u001b[32m1.1706\u001b[0m  0.0133\n     62        \u001b[36m1.4384\u001b[0m        \u001b[32m1.1650\u001b[0m  0.0136\n     63        \u001b[36m1.4327\u001b[0m        \u001b[32m1.1584\u001b[0m  0.0134\n     64        \u001b[36m1.4269\u001b[0m        \u001b[32m1.1523\u001b[0m  0.0134\n     65        \u001b[36m1.4216\u001b[0m        \u001b[32m1.1474\u001b[0m  0.0133\n     66        \u001b[36m1.4165\u001b[0m        \u001b[32m1.1441\u001b[0m  0.0132\n     67        \u001b[36m1.4115\u001b[0m        \u001b[32m1.1420\u001b[0m  0.0132\n     68        \u001b[36m1.4066\u001b[0m        \u001b[32m1.1407\u001b[0m  0.0137\n     69        \u001b[36m1.4019\u001b[0m        \u001b[32m1.1394\u001b[0m  0.0148\n     70        \u001b[36m1.3975\u001b[0m        \u001b[32m1.1374\u001b[0m  0.0146\n     71        \u001b[36m1.3933\u001b[0m        \u001b[32m1.1342\u001b[0m  0.0137\n     72        \u001b[36m1.3890\u001b[0m        \u001b[32m1.1305\u001b[0m  0.0150\n     73        \u001b[36m1.3848\u001b[0m        \u001b[32m1.1267\u001b[0m  0.0134\n     74        \u001b[36m1.3807\u001b[0m        \u001b[32m1.1234\u001b[0m  0.0136\n     75        \u001b[36m1.3768\u001b[0m        \u001b[32m1.1207\u001b[0m  0.0151\n     76        \u001b[36m1.3729\u001b[0m        \u001b[32m1.1186\u001b[0m  0.0144\n     77        \u001b[36m1.3690\u001b[0m        \u001b[32m1.1168\u001b[0m  0.0159\n     78        \u001b[36m1.3653\u001b[0m        \u001b[32m1.1151\u001b[0m  0.0157\n     79        \u001b[36m1.3617\u001b[0m        \u001b[32m1.1130\u001b[0m  0.0145\n     80        \u001b[36m1.3582\u001b[0m        \u001b[32m1.1107\u001b[0m  0.0151\n     81        \u001b[36m1.3547\u001b[0m        \u001b[32m1.1082\u001b[0m  0.0144\n     82        \u001b[36m1.3512\u001b[0m        \u001b[32m1.1059\u001b[0m  0.0146\n     83        \u001b[36m1.3479\u001b[0m        \u001b[32m1.1037\u001b[0m  0.0135\n     84        \u001b[36m1.3446\u001b[0m        \u001b[32m1.1019\u001b[0m  0.0135\n     85        \u001b[36m1.3413\u001b[0m        \u001b[32m1.1003\u001b[0m  0.0135\n     86        \u001b[36m1.3381\u001b[0m        \u001b[32m1.0988\u001b[0m  0.0146\n     87        \u001b[36m1.3350\u001b[0m        \u001b[32m1.0971\u001b[0m  0.0155\n     88        \u001b[36m1.3319\u001b[0m        \u001b[32m1.0953\u001b[0m  0.0133\n     89        \u001b[36m1.3289\u001b[0m        \u001b[32m1.0933\u001b[0m  0.0133\n     90        \u001b[36m1.3260\u001b[0m        \u001b[32m1.0913\u001b[0m  0.0133\n     91        \u001b[36m1.3230\u001b[0m        \u001b[32m1.0894\u001b[0m  0.0133\n     92        \u001b[36m1.3202\u001b[0m        \u001b[32m1.0876\u001b[0m  0.0146\n     93        \u001b[36m1.3174\u001b[0m        \u001b[32m1.0860\u001b[0m  0.0143\n     94        \u001b[36m1.3146\u001b[0m        \u001b[32m1.0845\u001b[0m  0.0136\n     95        \u001b[36m1.3118\u001b[0m        \u001b[32m1.0830\u001b[0m  0.0139\n     96        \u001b[36m1.3091\u001b[0m        \u001b[32m1.0815\u001b[0m  0.0134\n     97        \u001b[36m1.3065\u001b[0m        \u001b[32m1.0799\u001b[0m  0.0136\n     98        \u001b[36m1.3038\u001b[0m        \u001b[32m1.0783\u001b[0m  0.0135\n     99        \u001b[36m1.3012\u001b[0m        \u001b[32m1.0766\u001b[0m  0.0135\n    100        \u001b[36m1.2987\u001b[0m        \u001b[32m1.0750\u001b[0m  0.0145\n    101        \u001b[36m1.2962\u001b[0m        \u001b[32m1.0735\u001b[0m  0.0155\n    102        \u001b[36m1.2937\u001b[0m        \u001b[32m1.0721\u001b[0m  0.0174\n    103        \u001b[36m1.2912\u001b[0m        \u001b[32m1.0707\u001b[0m  0.0145\n    104        \u001b[36m1.2888\u001b[0m        \u001b[32m1.0694\u001b[0m  0.0146\n    105        \u001b[36m1.2864\u001b[0m        \u001b[32m1.0681\u001b[0m  0.0138\n    106        \u001b[36m1.2840\u001b[0m        \u001b[32m1.0667\u001b[0m  0.0138\n    107        \u001b[36m1.2817\u001b[0m        \u001b[32m1.0653\u001b[0m  0.0136\n    108        \u001b[36m1.2794\u001b[0m        \u001b[32m1.0639\u001b[0m  0.0140\n    109        \u001b[36m1.2771\u001b[0m        \u001b[32m1.0626\u001b[0m  0.0138\n    110        \u001b[36m1.2749\u001b[0m        \u001b[32m1.0613\u001b[0m  0.0136\n    111        \u001b[36m1.2726\u001b[0m        \u001b[32m1.0600\u001b[0m  0.0139\n    112        \u001b[36m1.2704\u001b[0m        \u001b[32m1.0587\u001b[0m  0.0134\n    113        \u001b[36m1.2683\u001b[0m        \u001b[32m1.0575\u001b[0m  0.0136\n    114        \u001b[36m1.2661\u001b[0m        \u001b[32m1.0562\u001b[0m  0.0135\n    115        \u001b[36m1.2640\u001b[0m        \u001b[32m1.0550\u001b[0m  0.0133\n    116        \u001b[36m1.2619\u001b[0m        \u001b[32m1.0537\u001b[0m  0.0150\n    117        \u001b[36m1.2598\u001b[0m        \u001b[32m1.0525\u001b[0m  0.0141\n    118        \u001b[36m1.2577\u001b[0m        \u001b[32m1.0513\u001b[0m  0.0137\n    119        \u001b[36m1.2557\u001b[0m        \u001b[32m1.0501\u001b[0m  0.0136\n    120        \u001b[36m1.2537\u001b[0m        \u001b[32m1.0489\u001b[0m  0.0135\n    121        \u001b[36m1.2517\u001b[0m        \u001b[32m1.0478\u001b[0m  0.0134\n    122        \u001b[36m1.2497\u001b[0m        \u001b[32m1.0467\u001b[0m  0.0136\n    123        \u001b[36m1.2477\u001b[0m        \u001b[32m1.0455\u001b[0m  0.0135\n    124        \u001b[36m1.2458\u001b[0m        \u001b[32m1.0444\u001b[0m  0.0133\n    125        \u001b[36m1.2438\u001b[0m        \u001b[32m1.0433\u001b[0m  0.0135\n    126        \u001b[36m1.2419\u001b[0m        \u001b[32m1.0421\u001b[0m  0.0153\n    127        \u001b[36m1.2400\u001b[0m        \u001b[32m1.0410\u001b[0m  0.0146\n    128        \u001b[36m1.2382\u001b[0m        \u001b[32m1.0399\u001b[0m  0.0144\n    129        \u001b[36m1.2363\u001b[0m        \u001b[32m1.0389\u001b[0m  0.0134\n    130        \u001b[36m1.2345\u001b[0m        \u001b[32m1.0378\u001b[0m  0.0133\n    131        \u001b[36m1.2326\u001b[0m        \u001b[32m1.0368\u001b[0m  0.0138\n    132        \u001b[36m1.2308\u001b[0m        \u001b[32m1.0357\u001b[0m  0.0133\n    133        \u001b[36m1.2290\u001b[0m        \u001b[32m1.0346\u001b[0m  0.0154\n    134        \u001b[36m1.2273\u001b[0m        \u001b[32m1.0336\u001b[0m  0.0134\n    135        \u001b[36m1.2255\u001b[0m        \u001b[32m1.0326\u001b[0m  0.0149\n    136        \u001b[36m1.2237\u001b[0m        \u001b[32m1.0315\u001b[0m  0.0138\n    137        \u001b[36m1.2220\u001b[0m        \u001b[32m1.0305\u001b[0m  0.0133\n    138        \u001b[36m1.2203\u001b[0m        \u001b[32m1.0295\u001b[0m  0.0133\n    139        \u001b[36m1.2186\u001b[0m        \u001b[32m1.0285\u001b[0m  0.0134\n    140        \u001b[36m1.2169\u001b[0m        \u001b[32m1.0275\u001b[0m  0.0144\n    141        \u001b[36m1.2152\u001b[0m        \u001b[32m1.0265\u001b[0m  0.0151\n    142        \u001b[36m1.2135\u001b[0m        \u001b[32m1.0255\u001b[0m  0.0132\n    143        \u001b[36m1.2119\u001b[0m        \u001b[32m1.0246\u001b[0m  0.0157\n    144        \u001b[36m1.2102\u001b[0m        \u001b[32m1.0236\u001b[0m  0.0143\n    145        \u001b[36m1.2086\u001b[0m        \u001b[32m1.0226\u001b[0m  0.0142\n    146        \u001b[36m1.2070\u001b[0m        \u001b[32m1.0217\u001b[0m  0.0138\n    147        \u001b[36m1.2053\u001b[0m        \u001b[32m1.0207\u001b[0m  0.0132\n    148        \u001b[36m1.2037\u001b[0m        \u001b[32m1.0198\u001b[0m  0.0132\n    149        \u001b[36m1.2022\u001b[0m        \u001b[32m1.0188\u001b[0m  0.0136\n    150        \u001b[36m1.2006\u001b[0m        \u001b[32m1.0179\u001b[0m  0.0138\n    151        \u001b[36m1.1990\u001b[0m        \u001b[32m1.0169\u001b[0m  0.0158\n    152        \u001b[36m1.1975\u001b[0m        \u001b[32m1.0160\u001b[0m  0.0144\n    153        \u001b[36m1.1959\u001b[0m        \u001b[32m1.0151\u001b[0m  0.0168\n    154        \u001b[36m1.1944\u001b[0m        \u001b[32m1.0142\u001b[0m  0.0133\n    155        \u001b[36m1.1928\u001b[0m        \u001b[32m1.0133\u001b[0m  0.0207\n    156        \u001b[36m1.1913\u001b[0m        \u001b[32m1.0123\u001b[0m  0.0149\n    157        \u001b[36m1.1898\u001b[0m        \u001b[32m1.0114\u001b[0m  0.0163\n    158        \u001b[36m1.1883\u001b[0m        \u001b[32m1.0105\u001b[0m  0.0144\n    159        \u001b[36m1.1869\u001b[0m        \u001b[32m1.0097\u001b[0m  0.0145\n    160        \u001b[36m1.1854\u001b[0m        \u001b[32m1.0088\u001b[0m  0.0133\n    161        \u001b[36m1.1839\u001b[0m        \u001b[32m1.0079\u001b[0m  0.0133\n    162        \u001b[36m1.1825\u001b[0m        \u001b[32m1.0070\u001b[0m  0.0135\n    163        \u001b[36m1.1810\u001b[0m        \u001b[32m1.0061\u001b[0m  0.0148\n    164        \u001b[36m1.1796\u001b[0m        \u001b[32m1.0052\u001b[0m  0.0154\n    165        \u001b[36m1.1782\u001b[0m        \u001b[32m1.0044\u001b[0m  0.0134\n    166        \u001b[36m1.1767\u001b[0m        \u001b[32m1.0035\u001b[0m  0.0132\n    167        \u001b[36m1.1753\u001b[0m        \u001b[32m1.0027\u001b[0m  0.0132\n    168        \u001b[36m1.1739\u001b[0m        \u001b[32m1.0018\u001b[0m  0.0140\n    169        \u001b[36m1.1725\u001b[0m        \u001b[32m1.0010\u001b[0m  0.0156\n    170        \u001b[36m1.1712\u001b[0m        \u001b[32m1.0001\u001b[0m  0.0148\n    171        \u001b[36m1.1698\u001b[0m        \u001b[32m0.9993\u001b[0m  0.0143\n    172        \u001b[36m1.1684\u001b[0m        \u001b[32m0.9984\u001b[0m  0.0143\n    173        \u001b[36m1.1671\u001b[0m        \u001b[32m0.9976\u001b[0m  0.0143\n    174        \u001b[36m1.1657\u001b[0m        \u001b[32m0.9968\u001b[0m  0.0143\n    175        \u001b[36m1.1644\u001b[0m        \u001b[32m0.9959\u001b[0m  0.0144\n    176        \u001b[36m1.1631\u001b[0m        \u001b[32m0.9951\u001b[0m  0.0142\n    177        \u001b[36m1.1617\u001b[0m        \u001b[32m0.9943\u001b[0m  0.0182\n    178        \u001b[36m1.1604\u001b[0m        \u001b[32m0.9935\u001b[0m  0.0149\n    179        \u001b[36m1.1591\u001b[0m        \u001b[32m0.9927\u001b[0m  0.0149\n    180        \u001b[36m1.1578\u001b[0m        \u001b[32m0.9919\u001b[0m  0.0136\n    181        \u001b[36m1.1565\u001b[0m        \u001b[32m0.9911\u001b[0m  0.0133\n    182        \u001b[36m1.1553\u001b[0m        \u001b[32m0.9903\u001b[0m  0.0147\n    183        \u001b[36m1.1540\u001b[0m        \u001b[32m0.9895\u001b[0m  0.0137\n    184        \u001b[36m1.1527\u001b[0m        \u001b[32m0.9887\u001b[0m  0.0134\n    185        \u001b[36m1.1515\u001b[0m        \u001b[32m0.9879\u001b[0m  0.0140\n    186        \u001b[36m1.1502\u001b[0m        \u001b[32m0.9872\u001b[0m  0.0135\n    187        \u001b[36m1.1490\u001b[0m        \u001b[32m0.9864\u001b[0m  0.0134\n    188        \u001b[36m1.1478\u001b[0m        \u001b[32m0.9856\u001b[0m  0.0136\n    189        \u001b[36m1.1466\u001b[0m        \u001b[32m0.9849\u001b[0m  0.0134\n    190        \u001b[36m1.1453\u001b[0m        \u001b[32m0.9841\u001b[0m  0.0133\n    191        \u001b[36m1.1441\u001b[0m        \u001b[32m0.9834\u001b[0m  0.0154\n    192        \u001b[36m1.1429\u001b[0m        \u001b[32m0.9826\u001b[0m  0.0151\n    193        \u001b[36m1.1418\u001b[0m        \u001b[32m0.9819\u001b[0m  0.0134\n    194        \u001b[36m1.1406\u001b[0m        \u001b[32m0.9811\u001b[0m  0.0143\n    195        \u001b[36m1.1394\u001b[0m        \u001b[32m0.9804\u001b[0m  0.0139\n    196        \u001b[36m1.1383\u001b[0m        \u001b[32m0.9797\u001b[0m  0.0131\n    197        \u001b[36m1.1371\u001b[0m        \u001b[32m0.9789\u001b[0m  0.0133\n    198        \u001b[36m1.1360\u001b[0m        \u001b[32m0.9782\u001b[0m  0.0133\n    199        \u001b[36m1.1348\u001b[0m        \u001b[32m0.9775\u001b[0m  0.0144\n    200        \u001b[36m1.1337\u001b[0m        \u001b[32m0.9768\u001b[0m  0.0145\n    201        \u001b[36m1.1326\u001b[0m        \u001b[32m0.9761\u001b[0m  0.0141\n    202        \u001b[36m1.1315\u001b[0m        \u001b[32m0.9754\u001b[0m  0.0178\n    203        \u001b[36m1.1304\u001b[0m        \u001b[32m0.9747\u001b[0m  0.0142\n    204        \u001b[36m1.1293\u001b[0m        \u001b[32m0.9740\u001b[0m  0.0156\n    205        \u001b[36m1.1282\u001b[0m        \u001b[32m0.9733\u001b[0m  0.0144\n    206        \u001b[36m1.1271\u001b[0m        \u001b[32m0.9726\u001b[0m  0.0149\n    207        \u001b[36m1.1260\u001b[0m        \u001b[32m0.9719\u001b[0m  0.0132\n    208        \u001b[36m1.1250\u001b[0m        \u001b[32m0.9713\u001b[0m  0.0157\n    209        \u001b[36m1.1239\u001b[0m        \u001b[32m0.9706\u001b[0m  0.0135\n    210        \u001b[36m1.1229\u001b[0m        \u001b[32m0.9700\u001b[0m  0.0144\n    211        \u001b[36m1.1218\u001b[0m        \u001b[32m0.9693\u001b[0m  0.0141\n    212        \u001b[36m1.1208\u001b[0m        \u001b[32m0.9687\u001b[0m  0.0133\n    213        \u001b[36m1.1198\u001b[0m        \u001b[32m0.9680\u001b[0m  0.0132\n    214        \u001b[36m1.1187\u001b[0m        \u001b[32m0.9674\u001b[0m  0.0132\n    215        \u001b[36m1.1177\u001b[0m        \u001b[32m0.9667\u001b[0m  0.0132\n    216        \u001b[36m1.1167\u001b[0m        \u001b[32m0.9661\u001b[0m  0.0172\n    217        \u001b[36m1.1157\u001b[0m        \u001b[32m0.9655\u001b[0m  0.0136\n    218        \u001b[36m1.1148\u001b[0m        \u001b[32m0.9649\u001b[0m  0.0142\n    219        \u001b[36m1.1138\u001b[0m        \u001b[32m0.9643\u001b[0m  0.0143\n    220        \u001b[36m1.1128\u001b[0m        \u001b[32m0.9637\u001b[0m  0.0159\n    221        \u001b[36m1.1119\u001b[0m        \u001b[32m0.9631\u001b[0m  0.0216\n    222        \u001b[36m1.1109\u001b[0m        \u001b[32m0.9625\u001b[0m  0.0181\n    223        \u001b[36m1.1100\u001b[0m        \u001b[32m0.9619\u001b[0m  0.0143\n    224        \u001b[36m1.1090\u001b[0m        \u001b[32m0.9613\u001b[0m  0.0156\n    225        \u001b[36m1.1081\u001b[0m        \u001b[32m0.9607\u001b[0m  0.0134\n    226        \u001b[36m1.1072\u001b[0m        \u001b[32m0.9601\u001b[0m  0.0154\n    227        \u001b[36m1.1063\u001b[0m        \u001b[32m0.9596\u001b[0m  0.0147\n    228        \u001b[36m1.1053\u001b[0m        \u001b[32m0.9590\u001b[0m  0.0147\n    229        \u001b[36m1.1044\u001b[0m        \u001b[32m0.9584\u001b[0m  0.0144\n    230        \u001b[36m1.1035\u001b[0m        \u001b[32m0.9579\u001b[0m  0.0177\n    231        \u001b[36m1.1027\u001b[0m        \u001b[32m0.9573\u001b[0m  0.0143\n    232        \u001b[36m1.1018\u001b[0m        \u001b[32m0.9568\u001b[0m  0.0135\n    233        \u001b[36m1.1009\u001b[0m        \u001b[32m0.9563\u001b[0m  0.0159\n    234        \u001b[36m1.1000\u001b[0m        \u001b[32m0.9557\u001b[0m  0.0136\n    235        \u001b[36m1.0992\u001b[0m        \u001b[32m0.9552\u001b[0m  0.0133\n    236        \u001b[36m1.0983\u001b[0m        \u001b[32m0.9547\u001b[0m  0.0134\n    237        \u001b[36m1.0975\u001b[0m        \u001b[32m0.9542\u001b[0m  0.0135\n    238        \u001b[36m1.0967\u001b[0m        \u001b[32m0.9537\u001b[0m  0.0136\n    239        \u001b[36m1.0958\u001b[0m        \u001b[32m0.9532\u001b[0m  0.0138\n    240        \u001b[36m1.0950\u001b[0m        \u001b[32m0.9527\u001b[0m  0.0164\n    241        \u001b[36m1.0942\u001b[0m        \u001b[32m0.9522\u001b[0m  0.0137\n    242        \u001b[36m1.0934\u001b[0m        \u001b[32m0.9517\u001b[0m  0.0136\n    243        \u001b[36m1.0926\u001b[0m        \u001b[32m0.9512\u001b[0m  0.0135\n    244        \u001b[36m1.0918\u001b[0m        \u001b[32m0.9507\u001b[0m  0.0134\n    245        \u001b[36m1.0910\u001b[0m        \u001b[32m0.9503\u001b[0m  0.0144\n    246        \u001b[36m1.0902\u001b[0m        \u001b[32m0.9498\u001b[0m  0.0161\n    247        \u001b[36m1.0894\u001b[0m        \u001b[32m0.9493\u001b[0m  0.0134\n    248        \u001b[36m1.0887\u001b[0m        \u001b[32m0.9489\u001b[0m  0.0146\n    249        \u001b[36m1.0879\u001b[0m        \u001b[32m0.9484\u001b[0m  0.0133\n    250        \u001b[36m1.0872\u001b[0m        \u001b[32m0.9480\u001b[0m  0.0132\n    251        \u001b[36m1.0864\u001b[0m        \u001b[32m0.9476\u001b[0m  0.0143\n    252        \u001b[36m1.0857\u001b[0m        \u001b[32m0.9471\u001b[0m  0.0144\n    253        \u001b[36m1.0849\u001b[0m        \u001b[32m0.9467\u001b[0m  0.0144\n    254        \u001b[36m1.0842\u001b[0m        \u001b[32m0.9463\u001b[0m  0.0149\n    255        \u001b[36m1.0835\u001b[0m        \u001b[32m0.9458\u001b[0m  0.0144\n    256        \u001b[36m1.0827\u001b[0m        \u001b[32m0.9454\u001b[0m  0.0133\n    257        \u001b[36m1.0820\u001b[0m        \u001b[32m0.9450\u001b[0m  0.0140\n    258        \u001b[36m1.0813\u001b[0m        \u001b[32m0.9446\u001b[0m  0.0136\n    259        \u001b[36m1.0806\u001b[0m        \u001b[32m0.9442\u001b[0m  0.0133\n    260        \u001b[36m1.0799\u001b[0m        \u001b[32m0.9438\u001b[0m  0.0133\n    261        \u001b[36m1.0792\u001b[0m        \u001b[32m0.9434\u001b[0m  0.0145\n    262        \u001b[36m1.0785\u001b[0m        \u001b[32m0.9430\u001b[0m  0.0143\n    263        \u001b[36m1.0779\u001b[0m        \u001b[32m0.9427\u001b[0m  0.0144\n    264        \u001b[36m1.0772\u001b[0m        \u001b[32m0.9423\u001b[0m  0.0155\n    265        \u001b[36m1.0765\u001b[0m        \u001b[32m0.9419\u001b[0m  0.0209\n    266        \u001b[36m1.0759\u001b[0m        \u001b[32m0.9416\u001b[0m  0.0149\n    267        \u001b[36m1.0752\u001b[0m        \u001b[32m0.9412\u001b[0m  0.0138\n    268        \u001b[36m1.0746\u001b[0m        \u001b[32m0.9408\u001b[0m  0.0133\n    269        \u001b[36m1.0739\u001b[0m        \u001b[32m0.9405\u001b[0m  0.0143\n    270        \u001b[36m1.0733\u001b[0m        \u001b[32m0.9401\u001b[0m  0.0160\n    271        \u001b[36m1.0726\u001b[0m        \u001b[32m0.9398\u001b[0m  0.0132\n    272        \u001b[36m1.0720\u001b[0m        \u001b[32m0.9394\u001b[0m  0.0134\n    273        \u001b[36m1.0714\u001b[0m        \u001b[32m0.9391\u001b[0m  0.0137\n    274        \u001b[36m1.0707\u001b[0m        \u001b[32m0.9388\u001b[0m  0.0154\n    275        \u001b[36m1.0701\u001b[0m        \u001b[32m0.9384\u001b[0m  0.0134\n    276        \u001b[36m1.0695\u001b[0m        \u001b[32m0.9381\u001b[0m  0.0142\n    277        \u001b[36m1.0689\u001b[0m        \u001b[32m0.9378\u001b[0m  0.0133\n    278        \u001b[36m1.0683\u001b[0m        \u001b[32m0.9375\u001b[0m  0.0135\n    279        \u001b[36m1.0677\u001b[0m        \u001b[32m0.9372\u001b[0m  0.0133\n    280        \u001b[36m1.0671\u001b[0m        \u001b[32m0.9369\u001b[0m  0.0134\n    281        \u001b[36m1.0665\u001b[0m        \u001b[32m0.9366\u001b[0m  0.0165\n    282        \u001b[36m1.0659\u001b[0m        \u001b[32m0.9363\u001b[0m  0.0146\n    283        \u001b[36m1.0654\u001b[0m        \u001b[32m0.9360\u001b[0m  0.0134\n    284        \u001b[36m1.0648\u001b[0m        \u001b[32m0.9357\u001b[0m  0.0145\n    285        \u001b[36m1.0642\u001b[0m        \u001b[32m0.9354\u001b[0m  0.0134\n    286        \u001b[36m1.0636\u001b[0m        \u001b[32m0.9351\u001b[0m  0.0135\n    287        \u001b[36m1.0631\u001b[0m        \u001b[32m0.9348\u001b[0m  0.0134\n    288        \u001b[36m1.0625\u001b[0m        \u001b[32m0.9345\u001b[0m  0.0144\n    289        \u001b[36m1.0620\u001b[0m        \u001b[32m0.9343\u001b[0m  0.0145\n    290        \u001b[36m1.0614\u001b[0m        \u001b[32m0.9340\u001b[0m  0.0143\n    291        \u001b[36m1.0609\u001b[0m        \u001b[32m0.9337\u001b[0m  0.0146\n    292        \u001b[36m1.0603\u001b[0m        \u001b[32m0.9335\u001b[0m  0.0138\n    293        \u001b[36m1.0598\u001b[0m        \u001b[32m0.9332\u001b[0m  0.0146\n    294        \u001b[36m1.0592\u001b[0m        \u001b[32m0.9330\u001b[0m  0.0147\n    295        \u001b[36m1.0587\u001b[0m        \u001b[32m0.9327\u001b[0m  0.0144\n    296        \u001b[36m1.0582\u001b[0m        \u001b[32m0.9324\u001b[0m  0.0135\n    297        \u001b[36m1.0577\u001b[0m        \u001b[32m0.9322\u001b[0m  0.0134\n    298        \u001b[36m1.0571\u001b[0m        \u001b[32m0.9320\u001b[0m  0.0133\n    299        \u001b[36m1.0566\u001b[0m        \u001b[32m0.9317\u001b[0m  0.0135\n    300        \u001b[36m1.0561\u001b[0m        \u001b[32m0.9315\u001b[0m  0.0135\n    301        \u001b[36m1.0556\u001b[0m        \u001b[32m0.9312\u001b[0m  0.0143\n    302        \u001b[36m1.0551\u001b[0m        \u001b[32m0.9310\u001b[0m  0.0133\n  epoch    train_loss    valid_loss     dur\n-------  ------------  ------------  ------\n      1      \u001b[36m140.5038\u001b[0m      \u001b[32m113.6135\u001b[0m  0.0155\n      2      \u001b[36m102.6412\u001b[0m       \u001b[32m15.3070\u001b[0m  0.0153\n      3       \u001b[36m36.6374\u001b[0m       32.4804  0.0155\n      4       \u001b[36m25.5965\u001b[0m       31.4061  0.0160\n      5       \u001b[36m20.3645\u001b[0m        \u001b[32m8.0387\u001b[0m  0.0266\n      6       \u001b[36m10.9502\u001b[0m       10.4676  0.0154\n      7        \u001b[36m7.7263\u001b[0m        \u001b[32m5.6687\u001b[0m  0.0316\n      8        \u001b[36m6.0790\u001b[0m        \u001b[32m3.0176\u001b[0m  0.0155\n      9        \u001b[36m3.8142\u001b[0m        4.9640  0.0289\n     10        4.4072        \u001b[32m2.8771\u001b[0m  0.0151\n     11        \u001b[36m3.3548\u001b[0m        \u001b[32m2.3880\u001b[0m  0.0332\n     12        \u001b[36m2.7212\u001b[0m        2.6914  0.0153\n     13        2.8288        \u001b[32m2.1727\u001b[0m  0.0268\n     14        \u001b[36m2.4900\u001b[0m        2.1933  0.0151\n     15        \u001b[36m2.4804\u001b[0m        \u001b[32m2.1508\u001b[0m  0.0316\n     16        \u001b[36m2.4147\u001b[0m        \u001b[32m2.0443\u001b[0m  0.0183\n     17        \u001b[36m2.2984\u001b[0m        \u001b[32m1.9378\u001b[0m  0.0153\n     18        \u001b[36m2.2624\u001b[0m        \u001b[32m1.9055\u001b[0m  0.0154\n     19        \u001b[36m2.2060\u001b[0m        1.9143  0.0152\n     20        \u001b[36m2.1795\u001b[0m        \u001b[32m1.8695\u001b[0m  0.0152\n     21        \u001b[36m2.1560\u001b[0m        \u001b[32m1.8342\u001b[0m  0.0152\n     22        \u001b[36m2.1177\u001b[0m        \u001b[32m1.8061\u001b[0m  0.0152\n     23        \u001b[36m2.0826\u001b[0m        \u001b[32m1.7689\u001b[0m  0.0266\n     24        \u001b[36m2.0536\u001b[0m        \u001b[32m1.7445\u001b[0m  0.0153\n     25        \u001b[36m2.0298\u001b[0m        \u001b[32m1.7318\u001b[0m  0.0155\n     26        \u001b[36m2.0074\u001b[0m        \u001b[32m1.7117\u001b[0m  0.0158\n     27        \u001b[36m1.9853\u001b[0m        \u001b[32m1.6838\u001b[0m  0.0270\n     28        \u001b[36m1.9617\u001b[0m        \u001b[32m1.6607\u001b[0m  0.0162\n     29        \u001b[36m1.9384\u001b[0m        \u001b[32m1.6421\u001b[0m  0.0151\n     30        \u001b[36m1.9181\u001b[0m        \u001b[32m1.6234\u001b[0m  0.0151\n     31        \u001b[36m1.8996\u001b[0m        \u001b[32m1.6060\u001b[0m  0.0312\n     32        \u001b[36m1.8812\u001b[0m        \u001b[32m1.5888\u001b[0m  0.0154\n     33        \u001b[36m1.8628\u001b[0m        \u001b[32m1.5705\u001b[0m  0.0225\n     34        \u001b[36m1.8452\u001b[0m        \u001b[32m1.5536\u001b[0m  0.0152\n     35        \u001b[36m1.8286\u001b[0m        \u001b[32m1.5390\u001b[0m  0.0165\n     36        \u001b[36m1.8129\u001b[0m        \u001b[32m1.5246\u001b[0m  0.0158\n     37        \u001b[36m1.7978\u001b[0m        \u001b[32m1.5101\u001b[0m  0.0153\n     38        \u001b[36m1.7831\u001b[0m        \u001b[32m1.4962\u001b[0m  0.0153\n     39        \u001b[36m1.7688\u001b[0m        \u001b[32m1.4830\u001b[0m  0.0264\n     40        \u001b[36m1.7552\u001b[0m        \u001b[32m1.4704\u001b[0m  0.0151\n     41        \u001b[36m1.7421\u001b[0m        \u001b[32m1.4583\u001b[0m  0.0154\n     42        \u001b[36m1.7295\u001b[0m        \u001b[32m1.4467\u001b[0m  0.0154\n     43        \u001b[36m1.7173\u001b[0m        \u001b[32m1.4355\u001b[0m  0.0154\n     44        \u001b[36m1.7056\u001b[0m        \u001b[32m1.4247\u001b[0m  0.0153\n     45        \u001b[36m1.6942\u001b[0m        \u001b[32m1.4144\u001b[0m  0.0153\n     46        \u001b[36m1.6833\u001b[0m        \u001b[32m1.4045\u001b[0m  0.0153\n     47        \u001b[36m1.6728\u001b[0m        \u001b[32m1.3950\u001b[0m  0.0181\n     48        \u001b[36m1.6626\u001b[0m        \u001b[32m1.3858\u001b[0m  0.0188\n     49        \u001b[36m1.6527\u001b[0m        \u001b[32m1.3769\u001b[0m  0.0189\n     50        \u001b[36m1.6432\u001b[0m        \u001b[32m1.3684\u001b[0m  0.0295\n     51        \u001b[36m1.6340\u001b[0m        \u001b[32m1.3602\u001b[0m  0.0184\n     52        \u001b[36m1.6251\u001b[0m        \u001b[32m1.3523\u001b[0m  0.0274\n     53        \u001b[36m1.6164\u001b[0m        \u001b[32m1.3447\u001b[0m  0.0153\n     54        \u001b[36m1.6081\u001b[0m        \u001b[32m1.3373\u001b[0m  0.0175\n     55        \u001b[36m1.6000\u001b[0m        \u001b[32m1.3302\u001b[0m  0.0158\n     56        \u001b[36m1.5921\u001b[0m        \u001b[32m1.3234\u001b[0m  0.0165\n     57        \u001b[36m1.5845\u001b[0m        \u001b[32m1.3167\u001b[0m  0.0154\n     58        \u001b[36m1.5770\u001b[0m        \u001b[32m1.3103\u001b[0m  0.0158\n     59        \u001b[36m1.5699\u001b[0m        \u001b[32m1.3041\u001b[0m  0.0246\n     60        \u001b[36m1.5629\u001b[0m        \u001b[32m1.2981\u001b[0m  0.0196\n     61        \u001b[36m1.5561\u001b[0m        \u001b[32m1.2922\u001b[0m  0.0322\n     62        \u001b[36m1.5495\u001b[0m        \u001b[32m1.2866\u001b[0m  0.0183\n     63        \u001b[36m1.5430\u001b[0m        \u001b[32m1.2811\u001b[0m  0.0278\n     64        \u001b[36m1.5368\u001b[0m        \u001b[32m1.2757\u001b[0m  0.0176\n     65        \u001b[36m1.5307\u001b[0m        \u001b[32m1.2706\u001b[0m  0.0203\n     66        \u001b[36m1.5247\u001b[0m        \u001b[32m1.2655\u001b[0m  0.0198\n     67        \u001b[36m1.5189\u001b[0m        \u001b[32m1.2607\u001b[0m  0.0152\n     68        \u001b[36m1.5133\u001b[0m        \u001b[32m1.2559\u001b[0m  0.0155\n     69        \u001b[36m1.5078\u001b[0m        \u001b[32m1.2513\u001b[0m  0.0150\n     70        \u001b[36m1.5024\u001b[0m        \u001b[32m1.2468\u001b[0m  0.0168\n     71        \u001b[36m1.4972\u001b[0m        \u001b[32m1.2424\u001b[0m  0.0264\n     72        \u001b[36m1.4921\u001b[0m        \u001b[32m1.2381\u001b[0m  0.0154\n     73        \u001b[36m1.4870\u001b[0m        \u001b[32m1.2339\u001b[0m  0.0288\n     74        \u001b[36m1.4822\u001b[0m        \u001b[32m1.2299\u001b[0m  0.0153\n     75        \u001b[36m1.4774\u001b[0m        \u001b[32m1.2259\u001b[0m  0.0150\n     76        \u001b[36m1.4727\u001b[0m        \u001b[32m1.2221\u001b[0m  0.0152\n     77        \u001b[36m1.4681\u001b[0m        \u001b[32m1.2183\u001b[0m  0.0312\n     78        \u001b[36m1.4637\u001b[0m        \u001b[32m1.2146\u001b[0m  0.0152\n     79        \u001b[36m1.4593\u001b[0m        \u001b[32m1.2110\u001b[0m  0.0314\n     80        \u001b[36m1.4550\u001b[0m        \u001b[32m1.2075\u001b[0m  0.0153\n     81        \u001b[36m1.4508\u001b[0m        \u001b[32m1.2040\u001b[0m  0.0238\n     82        \u001b[36m1.4467\u001b[0m        \u001b[32m1.2006\u001b[0m  0.0170\n     83        \u001b[36m1.4427\u001b[0m        \u001b[32m1.1973\u001b[0m  0.0190\n     84        \u001b[36m1.4387\u001b[0m        \u001b[32m1.1941\u001b[0m  0.0152\n     85        \u001b[36m1.4348\u001b[0m        \u001b[32m1.1909\u001b[0m  0.0242\n     86        \u001b[36m1.4310\u001b[0m        \u001b[32m1.1878\u001b[0m  0.0152\n     87        \u001b[36m1.4273\u001b[0m        \u001b[32m1.1848\u001b[0m  0.0187\n     88        \u001b[36m1.4236\u001b[0m        \u001b[32m1.1818\u001b[0m  0.0183\n     89        \u001b[36m1.4200\u001b[0m        \u001b[32m1.1789\u001b[0m  0.0182\n     90        \u001b[36m1.4165\u001b[0m        \u001b[32m1.1760\u001b[0m  0.0293\n     91        \u001b[36m1.4130\u001b[0m        \u001b[32m1.1732\u001b[0m  0.0185\n     92        \u001b[36m1.4096\u001b[0m        \u001b[32m1.1705\u001b[0m  0.0238\n     93        \u001b[36m1.4063\u001b[0m        \u001b[32m1.1677\u001b[0m  0.0151\n     94        \u001b[36m1.4030\u001b[0m        \u001b[32m1.1651\u001b[0m  0.0317\n     95        \u001b[36m1.3997\u001b[0m        \u001b[32m1.1625\u001b[0m  0.0157\n     96        \u001b[36m1.3966\u001b[0m        \u001b[32m1.1599\u001b[0m  0.0155\n     97        \u001b[36m1.3934\u001b[0m        \u001b[32m1.1574\u001b[0m  0.0156\n     98        \u001b[36m1.3903\u001b[0m        \u001b[32m1.1549\u001b[0m  0.0158\n     99        \u001b[36m1.3873\u001b[0m        \u001b[32m1.1524\u001b[0m  0.0163\n    100        \u001b[36m1.3843\u001b[0m        \u001b[32m1.1500\u001b[0m  0.0151\n    101        \u001b[36m1.3814\u001b[0m        \u001b[32m1.1476\u001b[0m  0.0159\n    102        \u001b[36m1.3785\u001b[0m        \u001b[32m1.1453\u001b[0m  0.0155\n    103        \u001b[36m1.3756\u001b[0m        \u001b[32m1.1430\u001b[0m  0.0157\n    104        \u001b[36m1.3728\u001b[0m        \u001b[32m1.1407\u001b[0m  0.0151\n    105        \u001b[36m1.3700\u001b[0m        \u001b[32m1.1385\u001b[0m  0.0151\n    106        \u001b[36m1.3673\u001b[0m        \u001b[32m1.1363\u001b[0m  0.0201\n    107        \u001b[36m1.3646\u001b[0m        \u001b[32m1.1342\u001b[0m  0.0154\n    108        \u001b[36m1.3619\u001b[0m        \u001b[32m1.1320\u001b[0m  0.0156\n    109        \u001b[36m1.3593\u001b[0m        \u001b[32m1.1299\u001b[0m  0.0170\n    110        \u001b[36m1.3567\u001b[0m        \u001b[32m1.1278\u001b[0m  0.0170\n    111        \u001b[36m1.3541\u001b[0m        \u001b[32m1.1258\u001b[0m  0.0151\n    112        \u001b[36m1.3516\u001b[0m        \u001b[32m1.1238\u001b[0m  0.0156\n    113        \u001b[36m1.3491\u001b[0m        \u001b[32m1.1218\u001b[0m  0.0153\n    114        \u001b[36m1.3466\u001b[0m        \u001b[32m1.1198\u001b[0m  0.0150\n    115        \u001b[36m1.3442\u001b[0m        \u001b[32m1.1179\u001b[0m  0.0150\n    116        \u001b[36m1.3418\u001b[0m        \u001b[32m1.1160\u001b[0m  0.0151\n    117        \u001b[36m1.3394\u001b[0m        \u001b[32m1.1141\u001b[0m  0.0330\n    118        \u001b[36m1.3371\u001b[0m        \u001b[32m1.1122\u001b[0m  0.0182\n    119        \u001b[36m1.3348\u001b[0m        \u001b[32m1.1103\u001b[0m  0.0225\n    120        \u001b[36m1.3325\u001b[0m        \u001b[32m1.1085\u001b[0m  0.0177\n    121        \u001b[36m1.3302\u001b[0m        \u001b[32m1.1067\u001b[0m  0.0316\n    122        \u001b[36m1.3280\u001b[0m        \u001b[32m1.1049\u001b[0m  0.0161\n    123        \u001b[36m1.3258\u001b[0m        \u001b[32m1.1032\u001b[0m  0.0153\n    124        \u001b[36m1.3236\u001b[0m        \u001b[32m1.1014\u001b[0m  0.0158\n    125        \u001b[36m1.3214\u001b[0m        \u001b[32m1.0997\u001b[0m  0.0294\n    126        \u001b[36m1.3193\u001b[0m        \u001b[32m1.0980\u001b[0m  0.0191\n    127        \u001b[36m1.3172\u001b[0m        \u001b[32m1.0963\u001b[0m  0.0180\n    128        \u001b[36m1.3151\u001b[0m        \u001b[32m1.0947\u001b[0m  0.0157\n    129        \u001b[36m1.3130\u001b[0m        \u001b[32m1.0930\u001b[0m  0.0169\n    130        \u001b[36m1.3109\u001b[0m        \u001b[32m1.0914\u001b[0m  0.0155\n    131        \u001b[36m1.3089\u001b[0m        \u001b[32m1.0898\u001b[0m  0.0152\n    132        \u001b[36m1.3069\u001b[0m        \u001b[32m1.0882\u001b[0m  0.0152\n    133        \u001b[36m1.3049\u001b[0m        \u001b[32m1.0866\u001b[0m  0.0157\n    134        \u001b[36m1.3029\u001b[0m        \u001b[32m1.0850\u001b[0m  0.0152\n    135        \u001b[36m1.3010\u001b[0m        \u001b[32m1.0835\u001b[0m  0.0152\n    136        \u001b[36m1.2990\u001b[0m        \u001b[32m1.0820\u001b[0m  0.0152\n    137        \u001b[36m1.2971\u001b[0m        \u001b[32m1.0804\u001b[0m  0.0182\n    138        \u001b[36m1.2952\u001b[0m        \u001b[32m1.0789\u001b[0m  0.0181\n    139        \u001b[36m1.2934\u001b[0m        \u001b[32m1.0775\u001b[0m  0.0315\n    140        \u001b[36m1.2915\u001b[0m        \u001b[32m1.0760\u001b[0m  0.0151\n    141        \u001b[36m1.2896\u001b[0m        \u001b[32m1.0745\u001b[0m  0.0298\n    142        \u001b[36m1.2878\u001b[0m        \u001b[32m1.0731\u001b[0m  0.0151\n    143        \u001b[36m1.2860\u001b[0m        \u001b[32m1.0717\u001b[0m  0.0304\n    144        \u001b[36m1.2842\u001b[0m        \u001b[32m1.0702\u001b[0m  0.0153\n    145        \u001b[36m1.2824\u001b[0m        \u001b[32m1.0688\u001b[0m  0.0266\n    146        \u001b[36m1.2807\u001b[0m        \u001b[32m1.0675\u001b[0m  0.0156\n    147        \u001b[36m1.2789\u001b[0m        \u001b[32m1.0661\u001b[0m  0.0304\n    148        \u001b[36m1.2772\u001b[0m        \u001b[32m1.0647\u001b[0m  0.0152\n    149        \u001b[36m1.2755\u001b[0m        \u001b[32m1.0634\u001b[0m  0.0334\n    150        \u001b[36m1.2738\u001b[0m        \u001b[32m1.0620\u001b[0m  0.0151\n    151        \u001b[36m1.2721\u001b[0m        \u001b[32m1.0607\u001b[0m  0.0264\n    152        \u001b[36m1.2704\u001b[0m        \u001b[32m1.0594\u001b[0m  0.0152\n    153        \u001b[36m1.2687\u001b[0m        \u001b[32m1.0581\u001b[0m  0.0151\n    154        \u001b[36m1.2671\u001b[0m        \u001b[32m1.0568\u001b[0m  0.0152\n    155        \u001b[36m1.2655\u001b[0m        \u001b[32m1.0555\u001b[0m  0.0182\n    156        \u001b[36m1.2638\u001b[0m        \u001b[32m1.0543\u001b[0m  0.0192\n    157        \u001b[36m1.2622\u001b[0m        \u001b[32m1.0530\u001b[0m  0.0180\n    158        \u001b[36m1.2606\u001b[0m        \u001b[32m1.0518\u001b[0m  0.0168\n    159        \u001b[36m1.2591\u001b[0m        \u001b[32m1.0506\u001b[0m  0.0175\n    160        \u001b[36m1.2575\u001b[0m        \u001b[32m1.0493\u001b[0m  0.0182\n    161        \u001b[36m1.2559\u001b[0m        \u001b[32m1.0481\u001b[0m  0.0184\n    162        \u001b[36m1.2544\u001b[0m        \u001b[32m1.0469\u001b[0m  0.0294\n    163        \u001b[36m1.2529\u001b[0m        \u001b[32m1.0457\u001b[0m  0.0181\n    164        \u001b[36m1.2514\u001b[0m        \u001b[32m1.0446\u001b[0m  0.0153\n    165        \u001b[36m1.2498\u001b[0m        \u001b[32m1.0434\u001b[0m  0.0158\n    166        \u001b[36m1.2484\u001b[0m        \u001b[32m1.0422\u001b[0m  0.0154\n    167        \u001b[36m1.2469\u001b[0m        \u001b[32m1.0411\u001b[0m  0.0152\n    168        \u001b[36m1.2454\u001b[0m        \u001b[32m1.0400\u001b[0m  0.0159\n    169        \u001b[36m1.2439\u001b[0m        \u001b[32m1.0388\u001b[0m  0.0154\n    170        \u001b[36m1.2425\u001b[0m        \u001b[32m1.0377\u001b[0m  0.0160\n    171        \u001b[36m1.2411\u001b[0m        \u001b[32m1.0366\u001b[0m  0.0156\n    172        \u001b[36m1.2396\u001b[0m        \u001b[32m1.0355\u001b[0m  0.0151\n    173        \u001b[36m1.2382\u001b[0m        \u001b[32m1.0344\u001b[0m  0.0240\n    174        \u001b[36m1.2368\u001b[0m        \u001b[32m1.0334\u001b[0m  0.0166\n    175        \u001b[36m1.2354\u001b[0m        \u001b[32m1.0323\u001b[0m  0.0166\n    176        \u001b[36m1.2340\u001b[0m        \u001b[32m1.0313\u001b[0m  0.0151\n    177        \u001b[36m1.2327\u001b[0m        \u001b[32m1.0302\u001b[0m  0.0150\n    178        \u001b[36m1.2313\u001b[0m        \u001b[32m1.0292\u001b[0m  0.0151\n    179        \u001b[36m1.2300\u001b[0m        \u001b[32m1.0281\u001b[0m  0.0150\n    180        \u001b[36m1.2286\u001b[0m        \u001b[32m1.0271\u001b[0m  0.0151\n    181        \u001b[36m1.2273\u001b[0m        \u001b[32m1.0261\u001b[0m  0.0149\n    182        \u001b[36m1.2260\u001b[0m        \u001b[32m1.0251\u001b[0m  0.0185\n    183        \u001b[36m1.2247\u001b[0m        \u001b[32m1.0241\u001b[0m  0.0152\n    184        \u001b[36m1.2234\u001b[0m        \u001b[32m1.0231\u001b[0m  0.0154\n    185        \u001b[36m1.2221\u001b[0m        \u001b[32m1.0222\u001b[0m  0.0154\n    186        \u001b[36m1.2208\u001b[0m        \u001b[32m1.0212\u001b[0m  0.0152\n    187        \u001b[36m1.2195\u001b[0m        \u001b[32m1.0202\u001b[0m  0.0166\n    188        \u001b[36m1.2183\u001b[0m        \u001b[32m1.0193\u001b[0m  0.0153\n    189        \u001b[36m1.2170\u001b[0m        \u001b[32m1.0184\u001b[0m  0.0150\n    190        \u001b[36m1.2158\u001b[0m        \u001b[32m1.0174\u001b[0m  0.0151\n    191        \u001b[36m1.2146\u001b[0m        \u001b[32m1.0165\u001b[0m  0.0152\n    192        \u001b[36m1.2133\u001b[0m        \u001b[32m1.0156\u001b[0m  0.0155\n    193        \u001b[36m1.2121\u001b[0m        \u001b[32m1.0147\u001b[0m  0.0155\n    194        \u001b[36m1.2109\u001b[0m        \u001b[32m1.0138\u001b[0m  0.0157\n    195        \u001b[36m1.2097\u001b[0m        \u001b[32m1.0129\u001b[0m  0.0167\n    196        \u001b[36m1.2085\u001b[0m        \u001b[32m1.0120\u001b[0m  0.0155\n    197        \u001b[36m1.2074\u001b[0m        \u001b[32m1.0111\u001b[0m  0.0153\n    198        \u001b[36m1.2062\u001b[0m        \u001b[32m1.0103\u001b[0m  0.0182\n    199        \u001b[36m1.2050\u001b[0m        \u001b[32m1.0094\u001b[0m  0.0297\n    200        \u001b[36m1.2039\u001b[0m        \u001b[32m1.0086\u001b[0m  0.0153\n    201        \u001b[36m1.2028\u001b[0m        \u001b[32m1.0077\u001b[0m  0.0309\n    202        \u001b[36m1.2016\u001b[0m        \u001b[32m1.0069\u001b[0m  0.0156\n    203        \u001b[36m1.2005\u001b[0m        \u001b[32m1.0061\u001b[0m  0.0990\n    204        \u001b[36m1.1994\u001b[0m        \u001b[32m1.0053\u001b[0m  0.0154\n    205        \u001b[36m1.1983\u001b[0m        \u001b[32m1.0045\u001b[0m  0.0182\n    206        \u001b[36m1.1972\u001b[0m        \u001b[32m1.0037\u001b[0m  0.0150\n    207        \u001b[36m1.1961\u001b[0m        \u001b[32m1.0029\u001b[0m  0.0150\n    208        \u001b[36m1.1950\u001b[0m        \u001b[32m1.0021\u001b[0m  0.0157\n    209        \u001b[36m1.1939\u001b[0m        \u001b[32m1.0013\u001b[0m  0.0152\n    210        \u001b[36m1.1929\u001b[0m        \u001b[32m1.0005\u001b[0m  0.0177\n    211        \u001b[36m1.1918\u001b[0m        \u001b[32m0.9998\u001b[0m  0.0182\n    212        \u001b[36m1.1908\u001b[0m        \u001b[32m0.9990\u001b[0m  0.0181\n    213        \u001b[36m1.1897\u001b[0m        \u001b[32m0.9983\u001b[0m  0.0151\n    214        \u001b[36m1.1887\u001b[0m        \u001b[32m0.9975\u001b[0m  0.0161\n    215        \u001b[36m1.1877\u001b[0m        \u001b[32m0.9968\u001b[0m  0.0157\n    216        \u001b[36m1.1867\u001b[0m        \u001b[32m0.9960\u001b[0m  0.0157\n    217        \u001b[36m1.1856\u001b[0m        \u001b[32m0.9953\u001b[0m  0.0156\n    218        \u001b[36m1.1846\u001b[0m        \u001b[32m0.9946\u001b[0m  0.0151\n    219        \u001b[36m1.1836\u001b[0m        \u001b[32m0.9939\u001b[0m  0.0151\n    220        \u001b[36m1.1827\u001b[0m        \u001b[32m0.9932\u001b[0m  0.0162\n    221        \u001b[36m1.1817\u001b[0m        \u001b[32m0.9925\u001b[0m  0.0152\n    222        \u001b[36m1.1807\u001b[0m        \u001b[32m0.9918\u001b[0m  0.0156\n    223        \u001b[36m1.1798\u001b[0m        \u001b[32m0.9911\u001b[0m  0.0153\n    224        \u001b[36m1.1788\u001b[0m        \u001b[32m0.9905\u001b[0m  0.0153\n    225        \u001b[36m1.1778\u001b[0m        \u001b[32m0.9898\u001b[0m  0.0325\n    226        \u001b[36m1.1769\u001b[0m        \u001b[32m0.9891\u001b[0m  0.0150\n    227        \u001b[36m1.1760\u001b[0m        \u001b[32m0.9885\u001b[0m  0.0153\n    228        \u001b[36m1.1750\u001b[0m        \u001b[32m0.9878\u001b[0m  0.0152\n    229        \u001b[36m1.1741\u001b[0m        \u001b[32m0.9872\u001b[0m  0.0152\n    230        \u001b[36m1.1732\u001b[0m        \u001b[32m0.9865\u001b[0m  0.0154\n    231        \u001b[36m1.1723\u001b[0m        \u001b[32m0.9859\u001b[0m  0.0150\n    232        \u001b[36m1.1714\u001b[0m        \u001b[32m0.9853\u001b[0m  0.0168\n    233        \u001b[36m1.1705\u001b[0m        \u001b[32m0.9847\u001b[0m  0.0158\n    234        \u001b[36m1.1696\u001b[0m        \u001b[32m0.9841\u001b[0m  0.0155\n    235        \u001b[36m1.1687\u001b[0m        \u001b[32m0.9835\u001b[0m  0.0154\n    236        \u001b[36m1.1679\u001b[0m        \u001b[32m0.9829\u001b[0m  0.0153\n    237        \u001b[36m1.1670\u001b[0m        \u001b[32m0.9823\u001b[0m  0.0170\n    238        \u001b[36m1.1662\u001b[0m        \u001b[32m0.9817\u001b[0m  0.0174\n    239        \u001b[36m1.1653\u001b[0m        \u001b[32m0.9811\u001b[0m  0.0313\n    240        \u001b[36m1.1645\u001b[0m        \u001b[32m0.9805\u001b[0m  0.0157\n    241        \u001b[36m1.1636\u001b[0m        \u001b[32m0.9800\u001b[0m  0.0242\n    242        \u001b[36m1.1628\u001b[0m        \u001b[32m0.9794\u001b[0m  0.0153\n    243        \u001b[36m1.1620\u001b[0m        \u001b[32m0.9788\u001b[0m  0.0305\n    244        \u001b[36m1.1611\u001b[0m        \u001b[32m0.9783\u001b[0m  0.0152\n    245        \u001b[36m1.1603\u001b[0m        \u001b[32m0.9777\u001b[0m  0.0269\n    246        \u001b[36m1.1595\u001b[0m        \u001b[32m0.9772\u001b[0m  0.0151\n    247        \u001b[36m1.1587\u001b[0m        \u001b[32m0.9767\u001b[0m  0.0308\n    248        \u001b[36m1.1579\u001b[0m        \u001b[32m0.9761\u001b[0m  0.0152\n    249        \u001b[36m1.1571\u001b[0m        \u001b[32m0.9756\u001b[0m  0.0313\n    250        \u001b[36m1.1563\u001b[0m        \u001b[32m0.9751\u001b[0m  0.0154\n    251        \u001b[36m1.1556\u001b[0m        \u001b[32m0.9746\u001b[0m  0.0269\n    252        \u001b[36m1.1548\u001b[0m        \u001b[32m0.9740\u001b[0m  0.0154\n    253        \u001b[36m1.1540\u001b[0m        \u001b[32m0.9735\u001b[0m  0.0343\n    254        \u001b[36m1.1533\u001b[0m        \u001b[32m0.9730\u001b[0m  0.0206\n    255        \u001b[36m1.1525\u001b[0m        \u001b[32m0.9725\u001b[0m  0.0213\n    256        \u001b[36m1.1518\u001b[0m        \u001b[32m0.9721\u001b[0m  0.0186\n    257        \u001b[36m1.1510\u001b[0m        \u001b[32m0.9716\u001b[0m  0.0184\n    258        \u001b[36m1.1503\u001b[0m        \u001b[32m0.9711\u001b[0m  0.0291\n    259        \u001b[36m1.1496\u001b[0m        \u001b[32m0.9706\u001b[0m  0.0187\n    260        \u001b[36m1.1488\u001b[0m        \u001b[32m0.9701\u001b[0m  0.0152\n    261        \u001b[36m1.1481\u001b[0m        \u001b[32m0.9697\u001b[0m  0.0184\n    262        \u001b[36m1.1474\u001b[0m        \u001b[32m0.9692\u001b[0m  0.0151\n    263        \u001b[36m1.1467\u001b[0m        \u001b[32m0.9688\u001b[0m  0.0151\n    264        \u001b[36m1.1460\u001b[0m        \u001b[32m0.9683\u001b[0m  0.0154\n    265        \u001b[36m1.1453\u001b[0m        \u001b[32m0.9679\u001b[0m  0.0153\n    266        \u001b[36m1.1446\u001b[0m        \u001b[32m0.9674\u001b[0m  0.0152\n    267        \u001b[36m1.1439\u001b[0m        \u001b[32m0.9670\u001b[0m  0.0151\n    268        \u001b[36m1.1432\u001b[0m        \u001b[32m0.9665\u001b[0m  0.0153\n    269        \u001b[36m1.1425\u001b[0m        \u001b[32m0.9661\u001b[0m  0.0151\n    270        \u001b[36m1.1419\u001b[0m        \u001b[32m0.9657\u001b[0m  0.0153\n    271        \u001b[36m1.1412\u001b[0m        \u001b[32m0.9653\u001b[0m  0.0150\n    272        \u001b[36m1.1405\u001b[0m        \u001b[32m0.9648\u001b[0m  0.0160\n    273        \u001b[36m1.1399\u001b[0m        \u001b[32m0.9644\u001b[0m  0.0181\n    274        \u001b[36m1.1392\u001b[0m        \u001b[32m0.9640\u001b[0m  0.0155\n    275        \u001b[36m1.1386\u001b[0m        \u001b[32m0.9636\u001b[0m  0.0153\n    276        \u001b[36m1.1379\u001b[0m        \u001b[32m0.9632\u001b[0m  0.0195\n    277        \u001b[36m1.1373\u001b[0m        \u001b[32m0.9628\u001b[0m  0.0155\n    278        \u001b[36m1.1366\u001b[0m        \u001b[32m0.9624\u001b[0m  0.0155\n    279        \u001b[36m1.1360\u001b[0m        \u001b[32m0.9620\u001b[0m  0.0155\n    280        \u001b[36m1.1354\u001b[0m        \u001b[32m0.9616\u001b[0m  0.0153\n    281        \u001b[36m1.1348\u001b[0m        \u001b[32m0.9613\u001b[0m  0.0167\n    282        \u001b[36m1.1341\u001b[0m        \u001b[32m0.9609\u001b[0m  0.0166\n    283        \u001b[36m1.1335\u001b[0m        \u001b[32m0.9605\u001b[0m  0.0156\n    284        \u001b[36m1.1329\u001b[0m        \u001b[32m0.9601\u001b[0m  0.0154\n    285        \u001b[36m1.1323\u001b[0m        \u001b[32m0.9598\u001b[0m  0.0170\n    286        \u001b[36m1.1317\u001b[0m        \u001b[32m0.9594\u001b[0m  0.0151\n    287        \u001b[36m1.1311\u001b[0m        \u001b[32m0.9590\u001b[0m  0.0152\n    288        \u001b[36m1.1305\u001b[0m        \u001b[32m0.9587\u001b[0m  0.0152\n    289        \u001b[36m1.1299\u001b[0m        \u001b[32m0.9583\u001b[0m  0.0150\n    290        \u001b[36m1.1293\u001b[0m        \u001b[32m0.9580\u001b[0m  0.0173\n    291        \u001b[36m1.1288\u001b[0m        \u001b[32m0.9576\u001b[0m  0.0153\n    292        \u001b[36m1.1282\u001b[0m        \u001b[32m0.9573\u001b[0m  0.0185\n    293        \u001b[36m1.1276\u001b[0m        \u001b[32m0.9570\u001b[0m  0.0262\n    294        \u001b[36m1.1270\u001b[0m        \u001b[32m0.9566\u001b[0m  0.0153\n    295        \u001b[36m1.1265\u001b[0m        \u001b[32m0.9563\u001b[0m  0.0311\n    296        \u001b[36m1.1259\u001b[0m        \u001b[32m0.9560\u001b[0m  0.0155\n    297        \u001b[36m1.1254\u001b[0m        \u001b[32m0.9556\u001b[0m  0.0267\n    298        \u001b[36m1.1248\u001b[0m        \u001b[32m0.9553\u001b[0m  0.0155\n    299        \u001b[36m1.1243\u001b[0m        \u001b[32m0.9550\u001b[0m  0.0342\n    300        \u001b[36m1.1237\u001b[0m        \u001b[32m0.9547\u001b[0m  0.0185\n    301        \u001b[36m1.1232\u001b[0m        \u001b[32m0.9544\u001b[0m  0.0154\n    302        \u001b[36m1.1226\u001b[0m        \u001b[32m0.9540\u001b[0m  0.0156\n    303        \u001b[36m1.1221\u001b[0m        \u001b[32m0.9537\u001b[0m  0.0156\n    304        \u001b[36m1.1216\u001b[0m        \u001b[32m0.9534\u001b[0m  0.0154\n    305        \u001b[36m1.1210\u001b[0m        \u001b[32m0.9531\u001b[0m  0.0153\n    306        \u001b[36m1.1205\u001b[0m        \u001b[32m0.9528\u001b[0m  0.0152\n    307        \u001b[36m1.1200\u001b[0m        \u001b[32m0.9525\u001b[0m  0.0217\n    308        \u001b[36m1.1195\u001b[0m        \u001b[32m0.9522\u001b[0m  0.0280\n    309        \u001b[36m1.1190\u001b[0m        \u001b[32m0.9519\u001b[0m  0.0694\n    310        \u001b[36m1.1185\u001b[0m        \u001b[32m0.9517\u001b[0m  0.0172\n    311        \u001b[36m1.1180\u001b[0m        \u001b[32m0.9514\u001b[0m  0.0186\n    312        \u001b[36m1.1174\u001b[0m        \u001b[32m0.9511\u001b[0m  0.0426\n    313        \u001b[36m1.1169\u001b[0m        \u001b[32m0.9508\u001b[0m  0.0155\n    314        \u001b[36m1.1165\u001b[0m        \u001b[32m0.9505\u001b[0m  0.0167\n    315        \u001b[36m1.1160\u001b[0m        \u001b[32m0.9503\u001b[0m  0.0155\n    316        \u001b[36m1.1155\u001b[0m        \u001b[32m0.9500\u001b[0m  0.0174\n    317        \u001b[36m1.1150\u001b[0m        \u001b[32m0.9497\u001b[0m  0.0152\n    318        \u001b[36m1.1145\u001b[0m        \u001b[32m0.9495\u001b[0m  0.0150\n    319        \u001b[36m1.1140\u001b[0m        \u001b[32m0.9492\u001b[0m  0.0152\n    320        \u001b[36m1.1135\u001b[0m        \u001b[32m0.9489\u001b[0m  0.0151\n    321        \u001b[36m1.1131\u001b[0m        \u001b[32m0.9487\u001b[0m  0.0157\n    322        \u001b[36m1.1126\u001b[0m        \u001b[32m0.9484\u001b[0m  0.0152\n    323        \u001b[36m1.1121\u001b[0m        \u001b[32m0.9482\u001b[0m  0.0161\n    324        \u001b[36m1.1116\u001b[0m        \u001b[32m0.9479\u001b[0m  0.0154\n    325        \u001b[36m1.1112\u001b[0m        \u001b[32m0.9477\u001b[0m  0.0153\n    326        \u001b[36m1.1107\u001b[0m        \u001b[32m0.9474\u001b[0m  0.0152\n    327        \u001b[36m1.1103\u001b[0m        \u001b[32m0.9472\u001b[0m  0.0163\n    328        \u001b[36m1.1098\u001b[0m        \u001b[32m0.9469\u001b[0m  0.0171\n    329        \u001b[36m1.1094\u001b[0m        \u001b[32m0.9467\u001b[0m  0.0196\n    330        \u001b[36m1.1089\u001b[0m        \u001b[32m0.9464\u001b[0m  0.0295\n    331        \u001b[36m1.1085\u001b[0m        \u001b[32m0.9462\u001b[0m  0.0183\n    332        \u001b[36m1.1080\u001b[0m        \u001b[32m0.9460\u001b[0m  0.0186\n    333        \u001b[36m1.1076\u001b[0m        \u001b[32m0.9457\u001b[0m  0.0184\n    334        \u001b[36m1.1071\u001b[0m        \u001b[32m0.9455\u001b[0m  0.0156\n    335        \u001b[36m1.1067\u001b[0m        \u001b[32m0.9453\u001b[0m  0.0164\n    336        \u001b[36m1.1063\u001b[0m        \u001b[32m0.9450\u001b[0m  0.0158\n    337        \u001b[36m1.1058\u001b[0m        \u001b[32m0.9448\u001b[0m  0.0155\n    338        \u001b[36m1.1054\u001b[0m        \u001b[32m0.9446\u001b[0m  0.0153\n    339        \u001b[36m1.1050\u001b[0m        \u001b[32m0.9444\u001b[0m  0.0161\n    340        \u001b[36m1.1046\u001b[0m        \u001b[32m0.9442\u001b[0m  0.0153\n    341        \u001b[36m1.1041\u001b[0m        \u001b[32m0.9439\u001b[0m  0.0152\n    342        \u001b[36m1.1037\u001b[0m        \u001b[32m0.9437\u001b[0m  0.0839\n    343        \u001b[36m1.1033\u001b[0m        \u001b[32m0.9435\u001b[0m  0.0163\n    344        \u001b[36m1.1029\u001b[0m        \u001b[32m0.9433\u001b[0m  0.0263\n    345        \u001b[36m1.1025\u001b[0m        \u001b[32m0.9431\u001b[0m  0.0151\n    346        \u001b[36m1.1021\u001b[0m        \u001b[32m0.9429\u001b[0m  0.0315\n    347        \u001b[36m1.1016\u001b[0m        \u001b[32m0.9427\u001b[0m  0.0175\n    348        \u001b[36m1.1012\u001b[0m        \u001b[32m0.9425\u001b[0m  0.0271\n    349        \u001b[36m1.1008\u001b[0m        \u001b[32m0.9423\u001b[0m  0.0155\n    350        \u001b[36m1.1004\u001b[0m        \u001b[32m0.9421\u001b[0m  0.0155\n    351        \u001b[36m1.1000\u001b[0m        \u001b[32m0.9419\u001b[0m  0.0181\n    352        \u001b[36m1.0996\u001b[0m        \u001b[32m0.9417\u001b[0m  0.0185\n    353        \u001b[36m1.0992\u001b[0m        \u001b[32m0.9415\u001b[0m  0.0182\n    354        \u001b[36m1.0989\u001b[0m        \u001b[32m0.9413\u001b[0m  0.0154\n    355        \u001b[36m1.0985\u001b[0m        \u001b[32m0.9411\u001b[0m  0.0166\n  epoch    train_loss    valid_loss     dur\n-------  ------------  ------------  ------\n      1      \u001b[36m223.3547\u001b[0m      \u001b[32m189.4022\u001b[0m  0.0148\n      2      \u001b[36m146.2273\u001b[0m       \u001b[32m54.8790\u001b[0m  0.0160\n      3       \u001b[36m29.8658\u001b[0m       \u001b[32m20.6422\u001b[0m  0.0166\n      4       \u001b[36m26.5320\u001b[0m       26.0198  0.0149\n      5       \u001b[36m20.5463\u001b[0m        \u001b[32m6.0337\u001b[0m  0.0148\n      6        \u001b[36m5.4150\u001b[0m        7.1632  0.0146\n      7        6.8642        6.2414  0.0152\n      8        \u001b[36m5.1771\u001b[0m        \u001b[32m3.2875\u001b[0m  0.0168\n      9        \u001b[36m3.0266\u001b[0m        \u001b[32m2.2235\u001b[0m  0.0152\n     10        \u001b[36m2.6110\u001b[0m        2.4501  0.0147\n     11        2.7110        \u001b[32m2.0641\u001b[0m  0.0146\n     12        \u001b[36m2.1638\u001b[0m        \u001b[32m1.7424\u001b[0m  0.0150\n     13        \u001b[36m1.8768\u001b[0m        1.7909  0.0147\n     14        1.8866        \u001b[32m1.6921\u001b[0m  0.0150\n     15        \u001b[36m1.7923\u001b[0m        \u001b[32m1.5336\u001b[0m  0.0163\n     16        \u001b[36m1.6997\u001b[0m        \u001b[32m1.4880\u001b[0m  0.0149\n     17        \u001b[36m1.6774\u001b[0m        \u001b[32m1.4683\u001b[0m  0.0148\n     18        \u001b[36m1.6462\u001b[0m        \u001b[32m1.4260\u001b[0m  0.0146\n     19        \u001b[36m1.6046\u001b[0m        \u001b[32m1.4031\u001b[0m  0.0207\n     20        \u001b[36m1.5862\u001b[0m        \u001b[32m1.3914\u001b[0m  0.0155\n     21        \u001b[36m1.5718\u001b[0m        \u001b[32m1.3731\u001b[0m  0.0155\n     22        \u001b[36m1.5526\u001b[0m        \u001b[32m1.3568\u001b[0m  0.0152\n     23        \u001b[36m1.5376\u001b[0m        \u001b[32m1.3441\u001b[0m  0.0151\n     24        \u001b[36m1.5259\u001b[0m        \u001b[32m1.3326\u001b[0m  0.0150\n     25        \u001b[36m1.5145\u001b[0m        \u001b[32m1.3235\u001b[0m  0.0173\n     26        \u001b[36m1.5039\u001b[0m        \u001b[32m1.3163\u001b[0m  0.0168\n     27        \u001b[36m1.4945\u001b[0m        \u001b[32m1.3085\u001b[0m  0.0152\n     28        \u001b[36m1.4854\u001b[0m        \u001b[32m1.2995\u001b[0m  0.0158\n     29        \u001b[36m1.4766\u001b[0m        \u001b[32m1.2908\u001b[0m  0.0152\n     30        \u001b[36m1.4682\u001b[0m        \u001b[32m1.2828\u001b[0m  0.0151\n     31        \u001b[36m1.4600\u001b[0m        \u001b[32m1.2755\u001b[0m  0.0154\n     32        \u001b[36m1.4523\u001b[0m        \u001b[32m1.2686\u001b[0m  0.0228\n     33        \u001b[36m1.4451\u001b[0m        \u001b[32m1.2618\u001b[0m  0.0152\n     34        \u001b[36m1.4382\u001b[0m        \u001b[32m1.2550\u001b[0m  0.0150\n     35        \u001b[36m1.4316\u001b[0m        \u001b[32m1.2481\u001b[0m  0.0147\n     36        \u001b[36m1.4250\u001b[0m        \u001b[32m1.2412\u001b[0m  0.0148\n     37        \u001b[36m1.4187\u001b[0m        \u001b[32m1.2344\u001b[0m  0.0161\n     38        \u001b[36m1.4125\u001b[0m        \u001b[32m1.2278\u001b[0m  0.0153\n     39        \u001b[36m1.4066\u001b[0m        \u001b[32m1.2214\u001b[0m  0.0150\n     40        \u001b[36m1.4009\u001b[0m        \u001b[32m1.2150\u001b[0m  0.0147\n     41        \u001b[36m1.3954\u001b[0m        \u001b[32m1.2086\u001b[0m  0.0147\n     42        \u001b[36m1.3900\u001b[0m        \u001b[32m1.2022\u001b[0m  0.0149\n     43        \u001b[36m1.3847\u001b[0m        \u001b[32m1.1960\u001b[0m  0.0149\n     44        \u001b[36m1.3797\u001b[0m        \u001b[32m1.1900\u001b[0m  0.0148\n     45        \u001b[36m1.3748\u001b[0m        \u001b[32m1.1840\u001b[0m  0.0147\n     46        \u001b[36m1.3700\u001b[0m        \u001b[32m1.1782\u001b[0m  0.0146\n     47        \u001b[36m1.3654\u001b[0m        \u001b[32m1.1725\u001b[0m  0.0146\n     48        \u001b[36m1.3609\u001b[0m        \u001b[32m1.1669\u001b[0m  0.0167\n     49        \u001b[36m1.3566\u001b[0m        \u001b[32m1.1614\u001b[0m  0.0183\n     50        \u001b[36m1.3523\u001b[0m        \u001b[32m1.1561\u001b[0m  0.0148\n     51        \u001b[36m1.3482\u001b[0m        \u001b[32m1.1508\u001b[0m  0.0150\n     52        \u001b[36m1.3441\u001b[0m        \u001b[32m1.1457\u001b[0m  0.0147\n     53        \u001b[36m1.3402\u001b[0m        \u001b[32m1.1407\u001b[0m  0.0148\n     54        \u001b[36m1.3363\u001b[0m        \u001b[32m1.1359\u001b[0m  0.0149\n     55        \u001b[36m1.3325\u001b[0m        \u001b[32m1.1311\u001b[0m  0.0146\n     56        \u001b[36m1.3288\u001b[0m        \u001b[32m1.1264\u001b[0m  0.0156\n     57        \u001b[36m1.3252\u001b[0m        \u001b[32m1.1219\u001b[0m  0.0153\n     58        \u001b[36m1.3216\u001b[0m        \u001b[32m1.1174\u001b[0m  0.0149\n     59        \u001b[36m1.3180\u001b[0m        \u001b[32m1.1131\u001b[0m  0.0148\n     60        \u001b[36m1.3145\u001b[0m        \u001b[32m1.1089\u001b[0m  0.0147\n     61        \u001b[36m1.3111\u001b[0m        \u001b[32m1.1048\u001b[0m  0.0201\n     62        \u001b[36m1.3077\u001b[0m        \u001b[32m1.1008\u001b[0m  0.0150\n     63        \u001b[36m1.3043\u001b[0m        \u001b[32m1.0969\u001b[0m  0.0151\n     64        \u001b[36m1.3010\u001b[0m        \u001b[32m1.0931\u001b[0m  0.0147\n     65        \u001b[36m1.2977\u001b[0m        \u001b[32m1.0895\u001b[0m  0.0148\n     66        \u001b[36m1.2945\u001b[0m        \u001b[32m1.0859\u001b[0m  0.0147\n     67        \u001b[36m1.2913\u001b[0m        \u001b[32m1.0825\u001b[0m  0.0148\n     68        \u001b[36m1.2881\u001b[0m        \u001b[32m1.0792\u001b[0m  0.0149\n     69        \u001b[36m1.2850\u001b[0m        \u001b[32m1.0760\u001b[0m  0.0147\n     70        \u001b[36m1.2820\u001b[0m        \u001b[32m1.0729\u001b[0m  0.0148\n     71        \u001b[36m1.2789\u001b[0m        \u001b[32m1.0700\u001b[0m  0.0147\n     72        \u001b[36m1.2760\u001b[0m        \u001b[32m1.0671\u001b[0m  0.0154\n     73        \u001b[36m1.2730\u001b[0m        \u001b[32m1.0644\u001b[0m  0.0162\n     74        \u001b[36m1.2702\u001b[0m        \u001b[32m1.0617\u001b[0m  0.0148\n     75        \u001b[36m1.2674\u001b[0m        \u001b[32m1.0592\u001b[0m  0.0151\n     76        \u001b[36m1.2646\u001b[0m        \u001b[32m1.0568\u001b[0m  0.0147\n     77        \u001b[36m1.2619\u001b[0m        \u001b[32m1.0545\u001b[0m  0.0148\n     78        \u001b[36m1.2592\u001b[0m        \u001b[32m1.0523\u001b[0m  0.0151\n     79        \u001b[36m1.2566\u001b[0m        \u001b[32m1.0502\u001b[0m  0.0194\n     80        \u001b[36m1.2540\u001b[0m        \u001b[32m1.0481\u001b[0m  0.0149\n     81        \u001b[36m1.2515\u001b[0m        \u001b[32m1.0462\u001b[0m  0.0218\n     82        \u001b[36m1.2491\u001b[0m        \u001b[32m1.0443\u001b[0m  0.0148\n     83        \u001b[36m1.2467\u001b[0m        \u001b[32m1.0426\u001b[0m  0.0147\n     84        \u001b[36m1.2443\u001b[0m        \u001b[32m1.0409\u001b[0m  0.0161\n     85        \u001b[36m1.2420\u001b[0m        \u001b[32m1.0393\u001b[0m  0.0148\n     86        \u001b[36m1.2397\u001b[0m        \u001b[32m1.0377\u001b[0m  0.0161\n     87        \u001b[36m1.2375\u001b[0m        \u001b[32m1.0363\u001b[0m  0.0148\n     88        \u001b[36m1.2353\u001b[0m        \u001b[32m1.0349\u001b[0m  0.0167\n     89        \u001b[36m1.2332\u001b[0m        \u001b[32m1.0335\u001b[0m  0.0148\n     90        \u001b[36m1.2311\u001b[0m        \u001b[32m1.0323\u001b[0m  0.0163\n     91        \u001b[36m1.2291\u001b[0m        \u001b[32m1.0311\u001b[0m  0.0160\n     92        \u001b[36m1.2270\u001b[0m        \u001b[32m1.0299\u001b[0m  0.0152\n     93        \u001b[36m1.2250\u001b[0m        \u001b[32m1.0288\u001b[0m  0.0154\n     94        \u001b[36m1.2231\u001b[0m        \u001b[32m1.0277\u001b[0m  0.0146\n     95        \u001b[36m1.2212\u001b[0m        \u001b[32m1.0267\u001b[0m  0.0148\n     96        \u001b[36m1.2193\u001b[0m        \u001b[32m1.0258\u001b[0m  0.0149\n     97        \u001b[36m1.2174\u001b[0m        \u001b[32m1.0249\u001b[0m  0.0149\n     98        \u001b[36m1.2156\u001b[0m        \u001b[32m1.0240\u001b[0m  0.0164\n     99        \u001b[36m1.2137\u001b[0m        \u001b[32m1.0231\u001b[0m  0.0149\n    100        \u001b[36m1.2120\u001b[0m        \u001b[32m1.0223\u001b[0m  0.0150\n    101        \u001b[36m1.2102\u001b[0m        \u001b[32m1.0215\u001b[0m  0.0157\n    102        \u001b[36m1.2084\u001b[0m        \u001b[32m1.0208\u001b[0m  0.0263\n    103        \u001b[36m1.2067\u001b[0m        \u001b[32m1.0201\u001b[0m  0.0146\n    104        \u001b[36m1.2050\u001b[0m        \u001b[32m1.0194\u001b[0m  0.0162\n    105        \u001b[36m1.2033\u001b[0m        \u001b[32m1.0187\u001b[0m  0.0147\n    106        \u001b[36m1.2017\u001b[0m        \u001b[32m1.0181\u001b[0m  0.0158\n    107        \u001b[36m1.2000\u001b[0m        \u001b[32m1.0175\u001b[0m  0.0146\n    108        \u001b[36m1.1984\u001b[0m        \u001b[32m1.0169\u001b[0m  0.0145\n    109        \u001b[36m1.1968\u001b[0m        \u001b[32m1.0163\u001b[0m  0.0150\n    110        \u001b[36m1.1952\u001b[0m        \u001b[32m1.0158\u001b[0m  0.0147\n    111        \u001b[36m1.1936\u001b[0m        \u001b[32m1.0152\u001b[0m  0.0156\n    112        \u001b[36m1.1920\u001b[0m        \u001b[32m1.0147\u001b[0m  0.0151\n    113        \u001b[36m1.1905\u001b[0m        \u001b[32m1.0142\u001b[0m  0.0155\n    114        \u001b[36m1.1890\u001b[0m        \u001b[32m1.0137\u001b[0m  0.0165\n    115        \u001b[36m1.1874\u001b[0m        \u001b[32m1.0132\u001b[0m  0.0145\n    116        \u001b[36m1.1859\u001b[0m        \u001b[32m1.0128\u001b[0m  0.0147\n    117        \u001b[36m1.1844\u001b[0m        \u001b[32m1.0123\u001b[0m  0.0145\n    118        \u001b[36m1.1829\u001b[0m        \u001b[32m1.0119\u001b[0m  0.0146\n    119        \u001b[36m1.1815\u001b[0m        \u001b[32m1.0115\u001b[0m  0.0146\n    120        \u001b[36m1.1800\u001b[0m        \u001b[32m1.0110\u001b[0m  0.0146\n    121        \u001b[36m1.1785\u001b[0m        \u001b[32m1.0106\u001b[0m  0.0157\n    122        \u001b[36m1.1771\u001b[0m        \u001b[32m1.0102\u001b[0m  0.0150\n    123        \u001b[36m1.1756\u001b[0m        \u001b[32m1.0099\u001b[0m  0.0177\n    124        \u001b[36m1.1742\u001b[0m        \u001b[32m1.0095\u001b[0m  0.0145\n    125        \u001b[36m1.1728\u001b[0m        \u001b[32m1.0091\u001b[0m  0.0145\n    126        \u001b[36m1.1714\u001b[0m        \u001b[32m1.0088\u001b[0m  0.0146\n    127        \u001b[36m1.1700\u001b[0m        \u001b[32m1.0084\u001b[0m  0.0145\n    128        \u001b[36m1.1686\u001b[0m        \u001b[32m1.0081\u001b[0m  0.0149\n    129        \u001b[36m1.1672\u001b[0m        \u001b[32m1.0077\u001b[0m  0.0151\n    130        \u001b[36m1.1658\u001b[0m        \u001b[32m1.0074\u001b[0m  0.0145\n    131        \u001b[36m1.1644\u001b[0m        \u001b[32m1.0071\u001b[0m  0.0146\n    132        \u001b[36m1.1631\u001b[0m        \u001b[32m1.0068\u001b[0m  0.0145\n    133        \u001b[36m1.1617\u001b[0m        \u001b[32m1.0065\u001b[0m  0.0147\n    134        \u001b[36m1.1603\u001b[0m        \u001b[32m1.0062\u001b[0m  0.0146\n    135        \u001b[36m1.1590\u001b[0m        \u001b[32m1.0059\u001b[0m  0.0195\n    136        \u001b[36m1.1576\u001b[0m        \u001b[32m1.0056\u001b[0m  0.0199\n    137        \u001b[36m1.1562\u001b[0m        \u001b[32m1.0053\u001b[0m  0.0151\n    138        \u001b[36m1.1549\u001b[0m        \u001b[32m1.0050\u001b[0m  0.0153\n    139        \u001b[36m1.1535\u001b[0m        \u001b[32m1.0047\u001b[0m  0.0153\n    140        \u001b[36m1.1522\u001b[0m        \u001b[32m1.0044\u001b[0m  0.0146\n    141        \u001b[36m1.1508\u001b[0m        \u001b[32m1.0042\u001b[0m  0.0153\n    142        \u001b[36m1.1495\u001b[0m        \u001b[32m1.0039\u001b[0m  0.0151\n    143        \u001b[36m1.1481\u001b[0m        \u001b[32m1.0036\u001b[0m  0.0154\n    144        \u001b[36m1.1468\u001b[0m        \u001b[32m1.0033\u001b[0m  0.0145\n    145        \u001b[36m1.1455\u001b[0m        \u001b[32m1.0031\u001b[0m  0.0145\n    146        \u001b[36m1.1441\u001b[0m        \u001b[32m1.0028\u001b[0m  0.0153\n    147        \u001b[36m1.1428\u001b[0m        \u001b[32m1.0025\u001b[0m  0.0181\n    148        \u001b[36m1.1414\u001b[0m        \u001b[32m1.0022\u001b[0m  0.0148\n    149        \u001b[36m1.1401\u001b[0m        \u001b[32m1.0019\u001b[0m  0.0162\n    150        \u001b[36m1.1387\u001b[0m        \u001b[32m1.0016\u001b[0m  0.0146\n    151        \u001b[36m1.1374\u001b[0m        \u001b[32m1.0013\u001b[0m  0.0146\n    152        \u001b[36m1.1360\u001b[0m        \u001b[32m1.0009\u001b[0m  0.0198\n    153        \u001b[36m1.1346\u001b[0m        \u001b[32m1.0006\u001b[0m  0.0147\n    154        \u001b[36m1.1333\u001b[0m        \u001b[32m1.0002\u001b[0m  0.0147\n    155        \u001b[36m1.1319\u001b[0m        \u001b[32m0.9998\u001b[0m  0.0145\n    156        \u001b[36m1.1306\u001b[0m        \u001b[32m0.9994\u001b[0m  0.0147\n    157        \u001b[36m1.1292\u001b[0m        \u001b[32m0.9990\u001b[0m  0.0147\n    158        \u001b[36m1.1278\u001b[0m        \u001b[32m0.9986\u001b[0m  0.0146\n    159        \u001b[36m1.1264\u001b[0m        \u001b[32m0.9981\u001b[0m  0.0201\n    160        \u001b[36m1.1251\u001b[0m        \u001b[32m0.9976\u001b[0m  0.0146\n    161        \u001b[36m1.1237\u001b[0m        \u001b[32m0.9971\u001b[0m  0.0146\n    162        \u001b[36m1.1223\u001b[0m        \u001b[32m0.9966\u001b[0m  0.0146\n    163        \u001b[36m1.1209\u001b[0m        \u001b[32m0.9960\u001b[0m  0.0146\n    164        \u001b[36m1.1196\u001b[0m        \u001b[32m0.9955\u001b[0m  0.0147\n    165        \u001b[36m1.1182\u001b[0m        \u001b[32m0.9948\u001b[0m  0.0146\n    166        \u001b[36m1.1168\u001b[0m        \u001b[32m0.9942\u001b[0m  0.0147\n    167        \u001b[36m1.1154\u001b[0m        \u001b[32m0.9935\u001b[0m  0.0146\n    168        \u001b[36m1.1140\u001b[0m        \u001b[32m0.9929\u001b[0m  0.0147\n    169        \u001b[36m1.1126\u001b[0m        \u001b[32m0.9921\u001b[0m  0.0159\n    170        \u001b[36m1.1112\u001b[0m        \u001b[32m0.9914\u001b[0m  0.0235\n    171        \u001b[36m1.1099\u001b[0m        \u001b[32m0.9906\u001b[0m  0.0155\n    172        \u001b[36m1.1085\u001b[0m        \u001b[32m0.9898\u001b[0m  0.0171\n    173        \u001b[36m1.1071\u001b[0m        \u001b[32m0.9890\u001b[0m  0.0160\n    174        \u001b[36m1.1057\u001b[0m        \u001b[32m0.9882\u001b[0m  0.0147\n    175        \u001b[36m1.1043\u001b[0m        \u001b[32m0.9873\u001b[0m  0.0149\n    176        \u001b[36m1.1030\u001b[0m        \u001b[32m0.9864\u001b[0m  0.0151\n    177        \u001b[36m1.1016\u001b[0m        \u001b[32m0.9855\u001b[0m  0.0150\n    178        \u001b[36m1.1002\u001b[0m        \u001b[32m0.9846\u001b[0m  0.0156\n    179        \u001b[36m1.0989\u001b[0m        \u001b[32m0.9837\u001b[0m  0.0149\n    180        \u001b[36m1.0975\u001b[0m        \u001b[32m0.9828\u001b[0m  0.0148\n    181        \u001b[36m1.0962\u001b[0m        \u001b[32m0.9818\u001b[0m  0.0163\n    182        \u001b[36m1.0948\u001b[0m        \u001b[32m0.9808\u001b[0m  0.0150\n    183        \u001b[36m1.0935\u001b[0m        \u001b[32m0.9799\u001b[0m  0.0148\n    184        \u001b[36m1.0922\u001b[0m        \u001b[32m0.9789\u001b[0m  0.0149\n    185        \u001b[36m1.0909\u001b[0m        \u001b[32m0.9779\u001b[0m  0.0166\n    186        \u001b[36m1.0896\u001b[0m        \u001b[32m0.9769\u001b[0m  0.0150\n    187        \u001b[36m1.0883\u001b[0m        \u001b[32m0.9759\u001b[0m  0.0150\n    188        \u001b[36m1.0870\u001b[0m        \u001b[32m0.9749\u001b[0m  0.0151\n    189        \u001b[36m1.0857\u001b[0m        \u001b[32m0.9739\u001b[0m  0.0151\n    190        \u001b[36m1.0844\u001b[0m        \u001b[32m0.9729\u001b[0m  0.0154\n    191        \u001b[36m1.0832\u001b[0m        \u001b[32m0.9719\u001b[0m  0.0149\n    192        \u001b[36m1.0819\u001b[0m        \u001b[32m0.9709\u001b[0m  0.0147\n    193        \u001b[36m1.0807\u001b[0m        \u001b[32m0.9700\u001b[0m  0.0152\n    194        \u001b[36m1.0795\u001b[0m        \u001b[32m0.9690\u001b[0m  0.0160\n    195        \u001b[36m1.0783\u001b[0m        \u001b[32m0.9680\u001b[0m  0.0152\n    196        \u001b[36m1.0771\u001b[0m        \u001b[32m0.9671\u001b[0m  0.0147\n    197        \u001b[36m1.0759\u001b[0m        \u001b[32m0.9661\u001b[0m  0.0147\n    198        \u001b[36m1.0747\u001b[0m        \u001b[32m0.9652\u001b[0m  0.0174\n    199        \u001b[36m1.0736\u001b[0m        \u001b[32m0.9643\u001b[0m  0.0147\n    200        \u001b[36m1.0724\u001b[0m        \u001b[32m0.9634\u001b[0m  0.0146\n    201        \u001b[36m1.0713\u001b[0m        \u001b[32m0.9625\u001b[0m  0.0147\n    202        \u001b[36m1.0702\u001b[0m        \u001b[32m0.9616\u001b[0m  0.0147\n",
     "output_type": "stream"
    }
   ],
   "execution_count": null
  },
  {
   "cell_type": "markdown",
   "source": "## Learning Curves",
   "metadata": {
    "cell_id": "1dd24bc0-b2c7-409c-ae56-4311020f10a2",
    "tags": [],
    "deepnote_cell_type": "markdown"
   }
  },
  {
   "cell_type": "code",
   "metadata": {
    "cell_id": "dc368c71-a58a-4243-bda8-cba605d67e65",
    "deepnote_output_heights": [
     611
    ],
    "deepnote_to_be_reexecuted": false,
    "execution_millis": 2028,
    "execution_start": 1642977129342,
    "output_cleared": false,
    "scrolled": true,
    "source_hash": "d09f595f",
    "tags": [],
    "deepnote_cell_type": "code"
   },
   "source": "fig, axes = plt.subplots(4, 3, figsize=(14,16))\naxes = axes.flatten()\nfig.tight_layout()\n\nfor i in range(len(eval_best_models)):\n    epochs = epochs_best_models[i]\n    loss_train = loss_train_best_models[i]\n    loss_test = loss_test_best_models[i]\n    plot_learning_curves(loss_train, loss_test, epochs, \"Loss (MEE)\", axes[i], i)\n\nfig.subplots_adjust(hspace=0.3)\nfig.subplots_adjust(wspace=0.3)\nfig.delaxes(axes[10])\nfig.delaxes(axes[11])",
   "outputs": [
    {
     "data": {
      "text/plain": "<Figure size 1008x1152 with 10 Axes>",
      "image/png": "[encoded data removed]"
     },
     "metadata": {
      "needs_background": "light",
      "image/png": {
       "width": 1022,
       "height": 1170
      }
     },
     "output_type": "display_data"
    }
   ],
   "execution_count": null
  },
  {
   "cell_type": "markdown",
   "metadata": {
    "cell_id": "c7183c49-035c-499a-830e-9787ce94dd3e",
    "deepnote_to_be_reexecuted": false,
    "execution_millis": 1,
    "execution_start": 1642973006051,
    "output_cleared": true,
    "source_hash": "912ba5cb",
    "tags": [],
    "deepnote_cell_type": "markdown"
   },
   "source": "### Predicted points on internal test set and training set",
   "outputs": [],
   "execution_count": 32
  },
  {
   "cell_type": "code",
   "metadata": {
    "cell_id": "00065-c5d0618d-7792-45ae-8b82-6ba1cdddf161",
    "deepnote_to_be_reexecuted": false,
    "execution_millis": 6,
    "execution_start": 1642977131371,
    "output_cleared": false,
    "source_hash": "94993f05",
    "deepnote_cell_type": "code"
   },
   "source": "y_pred_voting_ens_train_set = np.average(y_predictions_train, axis=0)\ny_pred_voting_ens_internal_test = np.average(y_predictions_internal_test, axis=0)\ny_pred_voting_ens_blind_test = np.average(y_predictions_blind_test, axis=0)\n\nprint(f\"MEE on training set : {mee(y, y_pred_voting_ens_train_set)}\")\nprint(f\"MEE on internal test set: {mee(y_test, y_pred_voting_ens_internal_test)}\")",
   "outputs": [
    {
     "name": "stdout",
     "text": "MEE on training set : 1.0777282748690913\nMEE on internal test set: 1.108721074748885\n",
     "output_type": "stream"
    }
   ],
   "execution_count": null
  },
  {
   "cell_type": "markdown",
   "source": "<a style='text-decoration:none;line-height:16px;display:flex;color:#5B5B62;padding:10px;justify-content:end;' href='https://deepnote.com?utm_source=created-in-deepnote-cell&projectId=d9d840c9-75b3-4185-bb01-105f5cca8d83' target=\"_blank\">\n<img alt='Created in deepnote.com' style='display:inline;max-height:16px;margin:0px;margin-right:7.5px;' src='data:image/svg+xml;base64,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' > </img>\nCreated in <span style='font-weight:600;margin-left:4px;'>Deepnote</span></a>",
   "metadata": {
    "tags": [],
    "created_in_deepnote_cell": true,
    "deepnote_cell_type": "markdown"
   }
  }
 ],
 "nbformat": 4,
 "nbformat_minor": 2,
 "metadata": {
  "deepnote": {
   "is_reactive": false
  },
  "deepnote_execution_queue": [],
  "deepnote_notebook_id": "10b26e99-167c-44c5-82d9-a804fbe3ae77",
  "kernelspec": {
   "display_name": "Python 3",
   "language": "python",
   "name": "python3"
  },
  "language_info": {
   "codemirror_mode": {
    "name": "ipython",
    "version": 3
   },
   "file_extension": ".py",
   "mimetype": "text/x-python",
   "name": "python",
   "nbconvert_exporter": "python",
   "pygments_lexer": "ipython3",
   "version": "3.9.7"
  }
 }
}