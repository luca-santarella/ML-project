{
 "cells": [
  {
   "cell_type": "markdown",
   "source": "## PyTorch MLP model",
   "metadata": {
    "cell_id": "481660c9-aa3e-43cd-b6d9-9c8530e3971e",
    "tags": [],
    "deepnote_cell_type": "markdown"
   }
  },
  {
   "cell_type": "markdown",
   "source": "### Importing libraries",
   "metadata": {
    "cell_id": "f112892d-46c1-49f1-aefc-677f76ec0a8d",
    "tags": [],
    "deepnote_cell_type": "markdown"
   }
  },
  {
   "cell_type": "code",
   "metadata": {
    "cell_id": "03113463-b757-457e-8da3-ee58794b33ee",
    "deepnote_output_heights": [
     193.9375
    ],
    "deepnote_to_be_reexecuted": false,
    "execution_millis": 3349,
    "execution_start": 1642775869220,
    "source_hash": "afb3ed1e",
    "deepnote_cell_type": "code"
   },
   "source": "import numpy as np\nimport pandas as pd\nimport matplotlib.pyplot as plt\nimport torch\nimport torch.nn as nn\nimport torch.optim as optim\nimport ast\nfrom dataclasses import dataclass\nfrom sklearn.model_selection import train_test_split\nfrom skorch import NeuralNetRegressor\nfrom skorch.callbacks import EarlyStopping\nfrom scipy.stats import uniform\nfrom scipy.stats import randint\nfrom sklearn.model_selection import RandomizedSearchCV\nfrom sklearn.metrics import make_scorer\nfrom sklearn.metrics import mean_squared_error",
   "outputs": [],
   "execution_count": 1
  },
  {
   "cell_type": "markdown",
   "source": "### Loading training set and blind test set",
   "metadata": {
    "cell_id": "fc66c1ca-4617-4dea-9b8e-1a0c4c4dd60a",
    "tags": [],
    "deepnote_cell_type": "markdown"
   }
  },
  {
   "cell_type": "code",
   "metadata": {
    "cell_id": "00001-0d0173a2-0574-4d5b-b9c7-3549eee93b9a",
    "deepnote_to_be_reexecuted": false,
    "execution_millis": 20,
    "execution_start": 1642775872586,
    "source_hash": "47b90439",
    "deepnote_cell_type": "code"
   },
   "source": "df_visual = pd.read_csv('./data/ML-CUP21-TR.csv', usecols=[11,12], names=['idx','f1','f2','f3','f4','f5','f6','f7','f8','f9','f10', 'x','y'])\ndf_task_tr = pd.read_csv('./data/ML-CUP21-TR.csv', names=['idx','f1','f2','f3','f4','f5','f6','f7','f8','f9','f10', 'x','y'])\ndf_task_tr = df_task_tr[7:] # remove first 7 rows of comments\ndf_visual = df_visual[7:]\n\ndf_blind_ts = pd.read_csv('./data/ML-CUP21-TS.csv', names=['idx','f1','f2','f3','f4','f5','f6','f7','f8','f9','f10'])\ndf_blind_ts = df_blind_ts[7:]\ndf_blind_ts.drop(labels=\"idx\", axis=1, inplace=True)\nblind_ts = df_blind_ts.values",
   "outputs": [],
   "execution_count": 2
  },
  {
   "cell_type": "markdown",
   "source": "### Evaluation metrics",
   "metadata": {
    "cell_id": "497b7842-e96b-45c4-8138-fe4682e13837",
    "tags": [],
    "deepnote_cell_type": "markdown"
   }
  },
  {
   "cell_type": "markdown",
   "source": "We define the <b>MEE (Mean Euclidean Error)</b> function which is used to evaluate the mean euclidean distance between two points with x and y coordinates.\nThe function takes in input the true target and the predicted target and yields a floating point number which represents the performance. ",
   "metadata": {
    "cell_id": "6b9bdbc6-8535-4f9d-baf4-04b6ec988111",
    "tags": [],
    "deepnote_cell_type": "markdown"
   }
  },
  {
   "cell_type": "code",
   "metadata": {
    "cell_id": "00002-8e3ce472-ff69-4ea7-97e3-d913b512af40",
    "deepnote_to_be_reexecuted": false,
    "execution_millis": 0,
    "execution_start": 1642775872618,
    "source_hash": "3afbb4cb",
    "deepnote_cell_type": "code"
   },
   "source": "def mee(true_target, predicted_target): #assuming target is 2-dim matrix with x and y as columns\n    l = true_target.shape[0]\n    res = 0\n    \n    for p in range(l): #for p-th pattern in l (number of samples)\n        x_diff = np.square(true_target[p,0] - predicted_target[p,0]) #difference between the x value of the true and predicted target\n        y_diff = np.square(true_target[p,1] - predicted_target[p,1]) #difference between the y values of true and predicted target\n        sum_term = x_diff + y_diff\n        res = res + np.sqrt(sum_term)\n    res = res / l\n    \n    #return np.average([np.sqrt(np.square(true_target[p,0] - predicted_target[p,0]) + np.square(true_target[p,1] - predicted_target[p,1])) for p in range(l)]) #compact form\n    return res",
   "outputs": [],
   "execution_count": 3
  },
  {
   "cell_type": "markdown",
   "source": "## Regression task\n### Preparing the training set",
   "metadata": {
    "cell_id": "24820147-b49a-465d-ba32-7e440e14fede",
    "tags": [],
    "deepnote_cell_type": "markdown"
   }
  },
  {
   "cell_type": "code",
   "metadata": {
    "cell_id": "00004-8e65de00-6683-4b7d-9194-4c8ae030aee6",
    "deepnote_to_be_reexecuted": false,
    "execution_millis": 0,
    "execution_start": 1642775872632,
    "source_hash": "192dcf",
    "deepnote_cell_type": "code"
   },
   "source": "df_task_tr.drop(labels=\"idx\", axis=1, inplace=True)",
   "outputs": [],
   "execution_count": 4
  },
  {
   "cell_type": "code",
   "metadata": {
    "cell_id": "00005-63853f2c-11dc-4004-9bcb-4e58ba87336d",
    "deepnote_to_be_reexecuted": false,
    "execution_millis": 1,
    "execution_start": 1642775872633,
    "source_hash": "adef5ee0",
    "deepnote_cell_type": "code"
   },
   "source": "y = df_task_tr[['x','y']].values\nX = df_task_tr.drop(labels=['x','y'], axis=1).values",
   "outputs": [],
   "execution_count": 5
  },
  {
   "cell_type": "code",
   "metadata": {
    "cell_id": "00006-9e7e1d91-18d5-4fca-9cb1-70fc39ee71c5",
    "deepnote_to_be_reexecuted": false,
    "execution_millis": 7,
    "execution_start": 1642775872680,
    "source_hash": "473a37ed",
    "deepnote_cell_type": "code"
   },
   "source": "print(X.shape)\nprint(y.shape)",
   "outputs": [
    {
     "name": "stdout",
     "text": "(1477, 10)\n(1477, 2)\n",
     "output_type": "stream"
    }
   ],
   "execution_count": 6
  },
  {
   "cell_type": "code",
   "metadata": {
    "cell_id": "00007-15a9d6de-0760-442e-896a-cd43db4adcfb",
    "deepnote_to_be_reexecuted": false,
    "execution_millis": 0,
    "execution_start": 1642775872682,
    "source_hash": "596ccc7b",
    "deepnote_cell_type": "code"
   },
   "source": "RS_NUMBER = 69",
   "outputs": [],
   "execution_count": 7
  },
  {
   "cell_type": "markdown",
   "source": "### Splitting the dataset\nWe split the data set obtaining an internal test set (10% of the total dataset), we will use this internal test at the end to test internally the generalization error.",
   "metadata": {
    "cell_id": "8c07f6fa-778e-4ef8-93eb-7f5f8a724454",
    "tags": [],
    "deepnote_cell_type": "markdown"
   }
  },
  {
   "cell_type": "code",
   "metadata": {
    "cell_id": "00008-a49d71c2-f651-41f2-acdc-91530bf94733",
    "deepnote_to_be_reexecuted": false,
    "execution_millis": 111,
    "execution_start": 1642775872683,
    "source_hash": "5df0a49",
    "deepnote_cell_type": "code"
   },
   "source": "X, X_test, y, y_test = train_test_split(X, y, test_size=0.1, random_state=RS_NUMBER)\n\nprint(f\"X train shape: {X.shape}\")\nprint(f\"X validation shape: {X_test.shape}\")\nprint(f\"y train shape: {y.shape}\")\nprint(f\"y validation shape: {y_test.shape}\")",
   "outputs": [
    {
     "name": "stdout",
     "text": "X train shape: (1329, 10)\nX validation shape: (148, 10)\ny train shape: (1329, 2)\ny validation shape: (148, 2)\n",
     "output_type": "stream"
    }
   ],
   "execution_count": 8
  },
  {
   "cell_type": "markdown",
   "source": "### Define the module for the neural network\nWe define a Module for PyTorch, which takes as input the number of units, activation function (sigmoid, relu or tanh) and the number of hidden layers (can be either one or two). The model architecture is the simplest one of a MLP, one or two linear layers and the activation function.  ",
   "metadata": {
    "cell_id": "e8ffe47f-13c3-438c-a625-a1f900c09da9",
    "tags": [],
    "deepnote_cell_type": "markdown"
   }
  },
  {
   "cell_type": "code",
   "metadata": {
    "cell_id": "00009-9b91a60c-1771-44b7-85d3-4179fd2a3044",
    "deepnote_to_be_reexecuted": false,
    "execution_millis": 0,
    "execution_start": 1642775872784,
    "source_hash": "f35c2b20",
    "deepnote_cell_type": "code"
   },
   "source": "class MyModule(nn.Module):\n    def __init__(self, num_units, activation_fun, hidden_layers):\n        super(MyModule, self).__init__()\n        \n        if(activation_fun == \"sigmoid\"):\n            activation_fun = nn.Sigmoid()\n        elif activation_fun == \"relu\":\n            activation_fun = nn.ReLU()\n        elif activation_fun == \"tanh\":\n            activation_fun = nn.Tanh()\n            \n        if hidden_layers == 2:\n            self.linear_stack = nn.Sequential(\n                nn.Linear(10, num_units),\n                activation_fun,\n                nn.Linear(num_units, num_units),\n                activation_fun,\n                nn.Linear(num_units, 2),\n            )\n        elif hidden_layers == 1:\n            self.linear_stack = nn.Sequential(\n                nn.Linear(10, num_units),\n                activation_fun,\n                nn.Linear(num_units, 2),\n            )     \n    def forward(self, x):\n        X = self.linear_stack(x)\n        return X\n    \n    def predict(self, x):\n        X = self.linear_stack(x)\n        return X",
   "outputs": [],
   "execution_count": 9
  },
  {
   "cell_type": "markdown",
   "source": "We define the device where the computation is going to happen (in our case the CPU) and we print a model example with a single hidden layer with 100 hidden units and the sigmoid activation function.  ",
   "metadata": {
    "cell_id": "fed8b698-64f4-4cba-86a1-148e8dad61b9",
    "tags": [],
    "deepnote_cell_type": "markdown"
   }
  },
  {
   "cell_type": "code",
   "metadata": {
    "cell_id": "00010-e23cd2eb-f4f5-4c0c-b985-96731b3e5f4b",
    "deepnote_to_be_reexecuted": false,
    "execution_millis": 68,
    "execution_start": 1642775872785,
    "source_hash": "c16924d5",
    "deepnote_cell_type": "code"
   },
   "source": "device = torch.device(\"cuda:0\" if torch.cuda.is_available() else \"cpu\")\n\nexample = MyModule(num_units=100, activation_fun = \"sigmoid\", hidden_layers = 1).to(device)\nprint(example)",
   "outputs": [
    {
     "name": "stdout",
     "text": "MyModule(\n  (linear_stack): Sequential(\n    (0): Linear(in_features=10, out_features=100, bias=True)\n    (1): Sigmoid()\n    (2): Linear(in_features=100, out_features=2, bias=True)\n  )\n)\n",
     "output_type": "stream"
    }
   ],
   "execution_count": 10
  },
  {
   "cell_type": "markdown",
   "source": "Pytorch is used with skorch which is a wrapper for the framework, the goal of skorch is to make it possible to use PyTorch with sklearn. This will allow us to use the randomized search of sklearn, the NeuralNetRegressor takes the module defined before as input and a callback for the early stopping criteria.",
   "metadata": {
    "cell_id": "768ce6ef-5e96-4e6a-b2a9-c0441ca3f4b3",
    "tags": [],
    "deepnote_cell_type": "markdown"
   }
  },
  {
   "cell_type": "code",
   "metadata": {
    "cell_id": "6c048a6a-5e04-4b81-9e55-9fab9d68d60e",
    "deepnote_to_be_reexecuted": false,
    "execution_millis": 0,
    "execution_start": 1642775872797,
    "source_hash": "bd751ac2",
    "tags": [],
    "deepnote_cell_type": "code"
   },
   "source": "PATIENCE=20\nTHRESHOLD=0.001",
   "outputs": [],
   "execution_count": 11
  },
  {
   "cell_type": "code",
   "metadata": {
    "cell_id": "00011-ee26a323-33fd-498d-a315-3a23538a0cf1",
    "deepnote_to_be_reexecuted": false,
    "execution_millis": 1,
    "execution_start": 1642775872798,
    "source_hash": "38ded2f6",
    "deepnote_cell_type": "code"
   },
   "source": "model = NeuralNetRegressor(\n    module = MyModule,\n    callbacks=[('early_stoppping', EarlyStopping(monitor='valid_loss', patience=PATIENCE, threshold=THRESHOLD))],\n)",
   "outputs": [],
   "execution_count": 12
  },
  {
   "cell_type": "code",
   "metadata": {
    "cell_id": "00012-2fe8f0fe-1ea1-4887-9b7f-061aea6b93a6",
    "deepnote_to_be_reexecuted": false,
    "execution_millis": 1,
    "execution_start": 1642775872799,
    "source_hash": "1b127074",
    "deepnote_cell_type": "code"
   },
   "source": "# define the number of iterations\nn_iter_search = 1000\n# define number of k-folds\nk = 10",
   "outputs": [],
   "execution_count": 13
  },
  {
   "cell_type": "code",
   "metadata": {
    "cell_id": "00013-9807bc36-9a23-4057-a810-b1a8d5997908",
    "deepnote_to_be_reexecuted": false,
    "execution_millis": 314674162,
    "execution_start": 1642775872857,
    "source_hash": "b0b719f7",
    "deepnote_cell_type": "code"
   },
   "source": "X = X.astype(np.float32)\ny = y.astype(np.float32)\nX_test = X_test.astype(np.float32)\ny_test = y_test.astype(np.float32)\nblind_ts = blind_ts.astype(np.float32)\n",
   "outputs": [],
   "execution_count": 14
  },
  {
   "cell_type": "markdown",
   "source": "### Randomized Search",
   "metadata": {
    "cell_id": "7148d14e-f05f-45d9-b2a8-8479b2415809",
    "tags": [],
    "deepnote_cell_type": "markdown"
   }
  },
  {
   "cell_type": "code",
   "metadata": {
    "cell_id": "00014-f29742e9-defa-4ead-9f7b-1875566e484a",
    "deepnote_output_heights": [
     null,
     405.078125
    ],
    "deepnote_to_be_reexecuted": false,
    "execution_millis": 1,
    "execution_start": 1642775872857,
    "source_hash": "dea3419c",
    "deepnote_cell_type": "code"
   },
   "source": "%%script false --no-raise-error\n\n# to find the best set of parameter setting, we can run a randomized search\n\n# define the parameters' values\nparams = {\n    'lr': uniform(0.0001, 0.1),\n    'max_epochs': [1000], #upper bound of max number of epochs\n    'optimizer': [torch.optim.SGD],\n    'optimizer__momentum': [0.9, 0.95], ##optimizer__ indicates that it is a parameter of the optimizer\n    'optimizer__weight_decay': uniform(0.0001, 0.1),\n    'optimizer__nesterov': [False, True],\n    'module__num_units': randint(5, 128), #module__ indicates that it is a parameter of the module\n    'module__hidden_layers': [1,2],\n    'module__activation_fun': [\"sigmoid\", \"tanh\", \"relu\"],\n    'batch_size': randint(1, X.shape[0]),\n}\n\n# define the grid search\nrand_gs = RandomizedSearchCV(\n    model,\n    param_distributions=params,\n    n_iter=n_iter_search,\n    n_jobs=-1,\n    scoring=make_scorer(mee), #scoring is based on the highest value so we use the inverse of the MEE loss function\n    cv=k,\n    random_state=RS_NUMBER,\n    verbose=10\n)\n# run the grid search\nrand_gs.fit(X, y)\n",
   "outputs": [],
   "execution_count": 15
  },
  {
   "cell_type": "code",
   "metadata": {
    "cell_id": "00015-c3740584-1ba9-4476-8b79-bfb9a96d2f51",
    "deepnote_to_be_reexecuted": false,
    "execution_millis": 0,
    "execution_start": 1642775872858,
    "source_hash": "f2b24f7f",
    "deepnote_cell_type": "code"
   },
   "source": "%%script false --no-raise-error\n\ndf_results = pd.DataFrame(data=rand_gs.cv_results_) #trasform into a pandas dataframe\ndf_results.sort_values(by=\"rank_test_score\", axis=0, ascending=False, inplace=True) #sort rank values in decreasing order \ndf_results.dropna(inplace=True) #delete nan values \ndf_results = df_results[:50] #keep only top 50 models\npd.DataFrame.to_csv(df_results, \"pytorch_results/rand1_search.csv\")",
   "outputs": [],
   "execution_count": 16
  },
  {
   "cell_type": "code",
   "metadata": {
    "cell_id": "00016-e7d90d2d-c917-49b9-927c-34cffe186b5a",
    "deepnote_output_heights": [
     208.1875
    ],
    "deepnote_to_be_reexecuted": false,
    "execution_millis": 217,
    "execution_start": 1642775872859,
    "source_hash": "7a530ae9",
    "deepnote_cell_type": "code"
   },
   "source": "df_results = pd.read_csv(\"pytorch_results/rand1_search.csv\")\ndf_results.head()",
   "outputs": [
    {
     "output_type": "execute_result",
     "execution_count": 17,
     "data": {
      "application/vnd.deepnote.dataframe.v3+json": {
       "column_count": 29,
       "row_count": 5,
       "columns": [
        {
         "name": "Unnamed: 0",
         "dtype": "int64",
         "stats": {
          "unique_count": 5,
          "nan_count": 0,
          "min": "173",
          "max": "987",
          "histogram": [
           {
            "bin_start": 173,
            "bin_end": 254.4,
            "count": 1
           },
           {
            "bin_start": 254.4,
            "bin_end": 335.8,
            "count": 0
           },
           {
            "bin_start": 335.8,
            "bin_end": 417.20000000000005,
            "count": 1
           },
           {
            "bin_start": 417.20000000000005,
            "bin_end": 498.6,
            "count": 0
           },
           {
            "bin_start": 498.6,
            "bin_end": 580,
            "count": 0
           },
           {
            "bin_start": 580,
            "bin_end": 661.4000000000001,
            "count": 1
           },
           {
            "bin_start": 661.4000000000001,
            "bin_end": 742.8000000000001,
            "count": 0
           },
           {
            "bin_start": 742.8000000000001,
            "bin_end": 824.2,
            "count": 1
           },
           {
            "bin_start": 824.2,
            "bin_end": 905.6,
            "count": 0
           },
           {
            "bin_start": 905.6,
            "bin_end": 987,
            "count": 1
           }
          ]
         }
        },
        {
         "name": "mean_fit_time",
         "dtype": "float64",
         "stats": {
          "unique_count": 5,
          "nan_count": 0,
          "min": "3.5479244232177733",
          "max": "25.31385474205017",
          "histogram": [
           {
            "bin_start": 3.5479244232177733,
            "bin_end": 5.724517455101013,
            "count": 2
           },
           {
            "bin_start": 5.724517455101013,
            "bin_end": 7.901110486984253,
            "count": 1
           },
           {
            "bin_start": 7.901110486984253,
            "bin_end": 10.077703518867494,
            "count": 1
           },
           {
            "bin_start": 10.077703518867494,
            "bin_end": 12.254296550750734,
            "count": 0
           },
           {
            "bin_start": 12.254296550750734,
            "bin_end": 14.430889582633974,
            "count": 0
           },
           {
            "bin_start": 14.430889582633974,
            "bin_end": 16.607482614517213,
            "count": 0
           },
           {
            "bin_start": 16.607482614517213,
            "bin_end": 18.784075646400453,
            "count": 0
           },
           {
            "bin_start": 18.784075646400453,
            "bin_end": 20.960668678283692,
            "count": 0
           },
           {
            "bin_start": 20.960668678283692,
            "bin_end": 23.137261710166932,
            "count": 0
           },
           {
            "bin_start": 23.137261710166932,
            "bin_end": 25.31385474205017,
            "count": 1
           }
          ]
         }
        },
        {
         "name": "std_fit_time",
         "dtype": "float64",
         "stats": {
          "unique_count": 5,
          "nan_count": 0,
          "min": "1.1648195851491658",
          "max": "9.17789099871128",
          "histogram": [
           {
            "bin_start": 1.1648195851491658,
            "bin_end": 1.9661267265053772,
            "count": 1
           },
           {
            "bin_start": 1.9661267265053772,
            "bin_end": 2.7674338678615884,
            "count": 2
           },
           {
            "bin_start": 2.7674338678615884,
            "bin_end": 3.5687410092178,
            "count": 0
           },
           {
            "bin_start": 3.5687410092178,
            "bin_end": 4.370048150574012,
            "count": 1
           },
           {
            "bin_start": 4.370048150574012,
            "bin_end": 5.171355291930223,
            "count": 0
           },
           {
            "bin_start": 5.171355291930223,
            "bin_end": 5.972662433286434,
            "count": 0
           },
           {
            "bin_start": 5.972662433286434,
            "bin_end": 6.773969574642646,
            "count": 0
           },
           {
            "bin_start": 6.773969574642646,
            "bin_end": 7.575276715998857,
            "count": 0
           },
           {
            "bin_start": 7.575276715998857,
            "bin_end": 8.376583857355069,
            "count": 0
           },
           {
            "bin_start": 8.376583857355069,
            "bin_end": 9.17789099871128,
            "count": 1
           }
          ]
         }
        },
        {
         "name": "mean_score_time",
         "dtype": "float64",
         "stats": {
          "unique_count": 5,
          "nan_count": 0,
          "min": "0.0049219131469726",
          "max": "0.0075045347213745",
          "histogram": [
           {
            "bin_start": 0.0049219131469726,
            "bin_end": 0.00518017530441279,
            "count": 1
           },
           {
            "bin_start": 0.00518017530441279,
            "bin_end": 0.00543843746185298,
            "count": 2
           },
           {
            "bin_start": 0.00543843746185298,
            "bin_end": 0.00569669961929317,
            "count": 0
           },
           {
            "bin_start": 0.00569669961929317,
            "bin_end": 0.00595496177673336,
            "count": 0
           },
           {
            "bin_start": 0.00595496177673336,
            "bin_end": 0.00621322393417355,
            "count": 0
           },
           {
            "bin_start": 0.00621322393417355,
            "bin_end": 0.00647148609161374,
            "count": 1
           },
           {
            "bin_start": 0.00647148609161374,
            "bin_end": 0.00672974824905393,
            "count": 0
           },
           {
            "bin_start": 0.00672974824905393,
            "bin_end": 0.006988010406494121,
            "count": 0
           },
           {
            "bin_start": 0.006988010406494121,
            "bin_end": 0.0072462725639343105,
            "count": 0
           },
           {
            "bin_start": 0.0072462725639343105,
            "bin_end": 0.0075045347213745,
            "count": 1
           }
          ]
         }
        },
        {
         "name": "std_score_time",
         "dtype": "float64",
         "stats": {
          "unique_count": 5,
          "nan_count": 0,
          "min": "0.0013506836223773",
          "max": "0.0051889544352259",
          "histogram": [
           {
            "bin_start": 0.0013506836223773,
            "bin_end": 0.00173451070366216,
            "count": 2
           },
           {
            "bin_start": 0.00173451070366216,
            "bin_end": 0.0021183377849470202,
            "count": 0
           },
           {
            "bin_start": 0.0021183377849470202,
            "bin_end": 0.00250216486623188,
            "count": 0
           },
           {
            "bin_start": 0.00250216486623188,
            "bin_end": 0.00288599194751674,
            "count": 1
           },
           {
            "bin_start": 0.00288599194751674,
            "bin_end": 0.0032698190288016,
            "count": 1
           },
           {
            "bin_start": 0.0032698190288016,
            "bin_end": 0.00365364611008646,
            "count": 0
           },
           {
            "bin_start": 0.00365364611008646,
            "bin_end": 0.00403747319137132,
            "count": 0
           },
           {
            "bin_start": 0.00403747319137132,
            "bin_end": 0.00442130027265618,
            "count": 0
           },
           {
            "bin_start": 0.00442130027265618,
            "bin_end": 0.004805127353941041,
            "count": 0
           },
           {
            "bin_start": 0.004805127353941041,
            "bin_end": 0.0051889544352259,
            "count": 1
           }
          ]
         }
        },
        {
         "name": "param_batch_size",
         "dtype": "int64",
         "stats": {
          "unique_count": 5,
          "nan_count": 0,
          "min": "138",
          "max": "1102",
          "histogram": [
           {
            "bin_start": 138,
            "bin_end": 234.4,
            "count": 1
           },
           {
            "bin_start": 234.4,
            "bin_end": 330.8,
            "count": 2
           },
           {
            "bin_start": 330.8,
            "bin_end": 427.20000000000005,
            "count": 0
           },
           {
            "bin_start": 427.20000000000005,
            "bin_end": 523.6,
            "count": 0
           },
           {
            "bin_start": 523.6,
            "bin_end": 620,
            "count": 0
           },
           {
            "bin_start": 620,
            "bin_end": 716.4000000000001,
            "count": 1
           },
           {
            "bin_start": 716.4000000000001,
            "bin_end": 812.8000000000001,
            "count": 0
           },
           {
            "bin_start": 812.8000000000001,
            "bin_end": 909.2,
            "count": 0
           },
           {
            "bin_start": 909.2,
            "bin_end": 1005.6,
            "count": 0
           },
           {
            "bin_start": 1005.6,
            "bin_end": 1102,
            "count": 1
           }
          ]
         }
        },
        {
         "name": "param_lr",
         "dtype": "float64",
         "stats": {
          "unique_count": 5,
          "nan_count": 0,
          "min": "0.0027792460686433",
          "max": "0.0734784137054805",
          "histogram": [
           {
            "bin_start": 0.0027792460686433,
            "bin_end": 0.00984916283232702,
            "count": 2
           },
           {
            "bin_start": 0.00984916283232702,
            "bin_end": 0.01691907959601074,
            "count": 1
           },
           {
            "bin_start": 0.01691907959601074,
            "bin_end": 0.02398899635969446,
            "count": 1
           },
           {
            "bin_start": 0.02398899635969446,
            "bin_end": 0.03105891312337818,
            "count": 0
           },
           {
            "bin_start": 0.03105891312337818,
            "bin_end": 0.0381288298870619,
            "count": 0
           },
           {
            "bin_start": 0.0381288298870619,
            "bin_end": 0.04519874665074562,
            "count": 0
           },
           {
            "bin_start": 0.04519874665074562,
            "bin_end": 0.05226866341442934,
            "count": 0
           },
           {
            "bin_start": 0.05226866341442934,
            "bin_end": 0.05933858017811306,
            "count": 0
           },
           {
            "bin_start": 0.05933858017811306,
            "bin_end": 0.06640849694179678,
            "count": 0
           },
           {
            "bin_start": 0.06640849694179678,
            "bin_end": 0.0734784137054805,
            "count": 1
           }
          ]
         }
        },
        {
         "name": "param_max_epochs",
         "dtype": "int64",
         "stats": {
          "unique_count": 1,
          "nan_count": 0,
          "min": "1000",
          "max": "1000",
          "histogram": [
           {
            "bin_start": 999.5,
            "bin_end": 999.6,
            "count": 0
           },
           {
            "bin_start": 999.6,
            "bin_end": 999.7,
            "count": 0
           },
           {
            "bin_start": 999.7,
            "bin_end": 999.8,
            "count": 0
           },
           {
            "bin_start": 999.8,
            "bin_end": 999.9,
            "count": 0
           },
           {
            "bin_start": 999.9,
            "bin_end": 1000,
            "count": 0
           },
           {
            "bin_start": 1000,
            "bin_end": 1000.1,
            "count": 5
           },
           {
            "bin_start": 1000.1,
            "bin_end": 1000.2,
            "count": 0
           },
           {
            "bin_start": 1000.2,
            "bin_end": 1000.3,
            "count": 0
           },
           {
            "bin_start": 1000.3,
            "bin_end": 1000.4,
            "count": 0
           },
           {
            "bin_start": 1000.4,
            "bin_end": 1000.5,
            "count": 0
           }
          ]
         }
        },
        {
         "name": "param_module__activation_fun",
         "dtype": "object",
         "stats": {
          "unique_count": 2,
          "nan_count": 0,
          "categories": [
           {
            "name": "tanh",
            "count": 4
           },
           {
            "name": "sigmoid",
            "count": 1
           }
          ]
         }
        },
        {
         "name": "param_module__hidden_layers",
         "dtype": "int64",
         "stats": {
          "unique_count": 2,
          "nan_count": 0,
          "min": "1",
          "max": "2",
          "histogram": [
           {
            "bin_start": 1,
            "bin_end": 1.1,
            "count": 1
           },
           {
            "bin_start": 1.1,
            "bin_end": 1.2,
            "count": 0
           },
           {
            "bin_start": 1.2,
            "bin_end": 1.3,
            "count": 0
           },
           {
            "bin_start": 1.3,
            "bin_end": 1.4,
            "count": 0
           },
           {
            "bin_start": 1.4,
            "bin_end": 1.5,
            "count": 0
           },
           {
            "bin_start": 1.5,
            "bin_end": 1.6,
            "count": 0
           },
           {
            "bin_start": 1.6,
            "bin_end": 1.7000000000000002,
            "count": 0
           },
           {
            "bin_start": 1.7000000000000002,
            "bin_end": 1.8,
            "count": 0
           },
           {
            "bin_start": 1.8,
            "bin_end": 1.9,
            "count": 0
           },
           {
            "bin_start": 1.9,
            "bin_end": 2,
            "count": 4
           }
          ]
         }
        },
        {
         "name": "param_module__num_units",
         "dtype": "int64",
         "stats": {
          "unique_count": 4,
          "nan_count": 0,
          "min": "63",
          "max": "109",
          "histogram": [
           {
            "bin_start": 63,
            "bin_end": 67.6,
            "count": 1
           },
           {
            "bin_start": 67.6,
            "bin_end": 72.2,
            "count": 0
           },
           {
            "bin_start": 72.2,
            "bin_end": 76.8,
            "count": 0
           },
           {
            "bin_start": 76.8,
            "bin_end": 81.4,
            "count": 1
           },
           {
            "bin_start": 81.4,
            "bin_end": 86,
            "count": 0
           },
           {
            "bin_start": 86,
            "bin_end": 90.6,
            "count": 2
           },
           {
            "bin_start": 90.6,
            "bin_end": 95.19999999999999,
            "count": 0
           },
           {
            "bin_start": 95.19999999999999,
            "bin_end": 99.8,
            "count": 0
           },
           {
            "bin_start": 99.8,
            "bin_end": 104.4,
            "count": 0
           },
           {
            "bin_start": 104.4,
            "bin_end": 109,
            "count": 1
           }
          ]
         }
        },
        {
         "name": "param_optimizer",
         "dtype": "object",
         "stats": {
          "unique_count": 1,
          "nan_count": 0,
          "categories": [
           {
            "name": "<class 'torch.optim.sgd.SGD'>",
            "count": 5
           }
          ]
         }
        },
        {
         "name": "param_optimizer__momentum",
         "dtype": "float64",
         "stats": {
          "unique_count": 2,
          "nan_count": 0,
          "min": "0.9",
          "max": "0.95",
          "histogram": [
           {
            "bin_start": 0.9,
            "bin_end": 0.905,
            "count": 2
           },
           {
            "bin_start": 0.905,
            "bin_end": 0.91,
            "count": 0
           },
           {
            "bin_start": 0.91,
            "bin_end": 0.915,
            "count": 0
           },
           {
            "bin_start": 0.915,
            "bin_end": 0.92,
            "count": 0
           },
           {
            "bin_start": 0.92,
            "bin_end": 0.925,
            "count": 0
           },
           {
            "bin_start": 0.925,
            "bin_end": 0.9299999999999999,
            "count": 0
           },
           {
            "bin_start": 0.9299999999999999,
            "bin_end": 0.9349999999999999,
            "count": 0
           },
           {
            "bin_start": 0.9349999999999999,
            "bin_end": 0.94,
            "count": 0
           },
           {
            "bin_start": 0.94,
            "bin_end": 0.945,
            "count": 0
           },
           {
            "bin_start": 0.945,
            "bin_end": 0.95,
            "count": 3
           }
          ]
         }
        },
        {
         "name": "param_optimizer__nesterov",
         "dtype": "bool",
         "stats": {
          "unique_count": 2,
          "nan_count": 0,
          "categories": [
           {
            "name": "False",
            "count": 4
           },
           {
            "name": "True",
            "count": 1
           }
          ]
         }
        },
        {
         "name": "param_optimizer__weight_decay",
         "dtype": "float64",
         "stats": {
          "unique_count": 5,
          "nan_count": 0,
          "min": "0.0001164007835073",
          "max": "0.0107256819555159",
          "histogram": [
           {
            "bin_start": 0.0001164007835073,
            "bin_end": 0.00117732890070816,
            "count": 1
           },
           {
            "bin_start": 0.00117732890070816,
            "bin_end": 0.0022382570179090198,
            "count": 1
           },
           {
            "bin_start": 0.0022382570179090198,
            "bin_end": 0.0032991851351098795,
            "count": 0
           },
           {
            "bin_start": 0.0032991851351098795,
            "bin_end": 0.00436011325231074,
            "count": 1
           },
           {
            "bin_start": 0.00436011325231074,
            "bin_end": 0.0054210413695116,
            "count": 1
           },
           {
            "bin_start": 0.0054210413695116,
            "bin_end": 0.006481969486712459,
            "count": 0
           },
           {
            "bin_start": 0.006481969486712459,
            "bin_end": 0.007542897603913319,
            "count": 0
           },
           {
            "bin_start": 0.007542897603913319,
            "bin_end": 0.00860382572111418,
            "count": 0
           },
           {
            "bin_start": 0.00860382572111418,
            "bin_end": 0.009664753838315039,
            "count": 0
           },
           {
            "bin_start": 0.009664753838315039,
            "bin_end": 0.0107256819555159,
            "count": 1
           }
          ]
         }
        },
        {
         "name": "params",
         "dtype": "object",
         "stats": {
          "unique_count": 5,
          "nan_count": 0,
          "categories": [
           {
            "name": "{'batch_size': 283, 'lr': 0.020098760986186816, 'max_epochs': 1000, 'module__activation_fun': 'tanh', 'module__hidden_layers': 2, 'module__num_units': 81, 'optimizer': <class 'torch.optim.sgd.SGD'>, 'optimizer__momentum': 0.9, 'optimizer__nesterov': False, 'optimizer__weight_decay': 0.0034537270776939686}",
            "count": 1
           },
           {
            "name": "{'batch_size': 682, 'lr': 0.011028071106371152, 'max_epochs': 1000, 'module__activation_fun': 'tanh', 'module__hidden_layers': 2, 'module__num_units': 109, 'optimizer': <class 'torch.optim.sgd.SGD'>, 'optimizer__momentum': 0.95, 'optimizer__nesterov': False, 'optimizer__weight_decay': 0.004932258399184642}",
            "count": 1
           },
           {
            "name": "3 others",
            "count": 3
           }
          ]
         }
        },
        {
         "name": "split0_test_score",
         "dtype": "float64",
         "stats": {
          "unique_count": 5,
          "nan_count": 0,
          "min": "1.0255696204932112",
          "max": "1.125636341736505",
          "histogram": [
           {
            "bin_start": 1.0255696204932112,
            "bin_end": 1.0355762926175407,
            "count": 1
           },
           {
            "bin_start": 1.0355762926175407,
            "bin_end": 1.04558296474187,
            "count": 1
           },
           {
            "bin_start": 1.04558296474187,
            "bin_end": 1.0555896368661992,
            "count": 0
           },
           {
            "bin_start": 1.0555896368661992,
            "bin_end": 1.0655963089905287,
            "count": 0
           },
           {
            "bin_start": 1.0655963089905287,
            "bin_end": 1.0756029811148582,
            "count": 2
           },
           {
            "bin_start": 1.0756029811148582,
            "bin_end": 1.0856096532391875,
            "count": 0
           },
           {
            "bin_start": 1.0856096532391875,
            "bin_end": 1.0956163253635167,
            "count": 0
           },
           {
            "bin_start": 1.0956163253635167,
            "bin_end": 1.1056229974878462,
            "count": 0
           },
           {
            "bin_start": 1.1056229974878462,
            "bin_end": 1.1156296696121757,
            "count": 0
           },
           {
            "bin_start": 1.1156296696121757,
            "bin_end": 1.125636341736505,
            "count": 1
           }
          ]
         }
        },
        {
         "name": "split1_test_score",
         "dtype": "float64",
         "stats": {
          "unique_count": 5,
          "nan_count": 0,
          "min": "0.9846925379890472",
          "max": "1.0717496662715773",
          "histogram": [
           {
            "bin_start": 0.9846925379890472,
            "bin_end": 0.9933982508173003,
            "count": 1
           },
           {
            "bin_start": 0.9933982508173003,
            "bin_end": 1.0021039636455533,
            "count": 0
           },
           {
            "bin_start": 1.0021039636455533,
            "bin_end": 1.0108096764738062,
            "count": 0
           },
           {
            "bin_start": 1.0108096764738062,
            "bin_end": 1.0195153893020592,
            "count": 0
           },
           {
            "bin_start": 1.0195153893020592,
            "bin_end": 1.0282211021303123,
            "count": 0
           },
           {
            "bin_start": 1.0282211021303123,
            "bin_end": 1.0369268149585653,
            "count": 0
           },
           {
            "bin_start": 1.0369268149585653,
            "bin_end": 1.0456325277868184,
            "count": 2
           },
           {
            "bin_start": 1.0456325277868184,
            "bin_end": 1.0543382406150712,
            "count": 0
           },
           {
            "bin_start": 1.0543382406150712,
            "bin_end": 1.0630439534433243,
            "count": 0
           },
           {
            "bin_start": 1.0630439534433243,
            "bin_end": 1.0717496662715773,
            "count": 2
           }
          ]
         }
        },
        {
         "name": "split2_test_score",
         "dtype": "float64",
         "stats": {
          "unique_count": 5,
          "nan_count": 0,
          "min": "1.1146574916416092",
          "max": "1.179601493592661",
          "histogram": [
           {
            "bin_start": 1.1146574916416092,
            "bin_end": 1.1211518918367145,
            "count": 1
           },
           {
            "bin_start": 1.1211518918367145,
            "bin_end": 1.1276462920318195,
            "count": 0
           },
           {
            "bin_start": 1.1276462920318195,
            "bin_end": 1.1341406922269248,
            "count": 1
           },
           {
            "bin_start": 1.1341406922269248,
            "bin_end": 1.1406350924220299,
            "count": 0
           },
           {
            "bin_start": 1.1406350924220299,
            "bin_end": 1.1471294926171351,
            "count": 1
           },
           {
            "bin_start": 1.1471294926171351,
            "bin_end": 1.1536238928122404,
            "count": 0
           },
           {
            "bin_start": 1.1536238928122404,
            "bin_end": 1.1601182930073455,
            "count": 0
           },
           {
            "bin_start": 1.1601182930073455,
            "bin_end": 1.1666126932024508,
            "count": 1
           },
           {
            "bin_start": 1.1666126932024508,
            "bin_end": 1.1731070933975558,
            "count": 0
           },
           {
            "bin_start": 1.1731070933975558,
            "bin_end": 1.179601493592661,
            "count": 1
           }
          ]
         }
        },
        {
         "name": "split3_test_score",
         "dtype": "float64",
         "stats": {
          "unique_count": 5,
          "nan_count": 0,
          "min": "1.1771458231640937",
          "max": "1.2397345568340523",
          "histogram": [
           {
            "bin_start": 1.1771458231640937,
            "bin_end": 1.1834046965310896,
            "count": 1
           },
           {
            "bin_start": 1.1834046965310896,
            "bin_end": 1.1896635698980853,
            "count": 0
           },
           {
            "bin_start": 1.1896635698980853,
            "bin_end": 1.1959224432650812,
            "count": 0
           },
           {
            "bin_start": 1.1959224432650812,
            "bin_end": 1.2021813166320772,
            "count": 2
           },
           {
            "bin_start": 1.2021813166320772,
            "bin_end": 1.2084401899990729,
            "count": 0
           },
           {
            "bin_start": 1.2084401899990729,
            "bin_end": 1.2146990633660688,
            "count": 0
           },
           {
            "bin_start": 1.2146990633660688,
            "bin_end": 1.2209579367330647,
            "count": 1
           },
           {
            "bin_start": 1.2209579367330647,
            "bin_end": 1.2272168101000607,
            "count": 0
           },
           {
            "bin_start": 1.2272168101000607,
            "bin_end": 1.2334756834670564,
            "count": 0
           },
           {
            "bin_start": 1.2334756834670564,
            "bin_end": 1.2397345568340523,
            "count": 1
           }
          ]
         }
        },
        {
         "name": "split4_test_score",
         "dtype": "float64",
         "stats": {
          "unique_count": 5,
          "nan_count": 0,
          "min": "1.1967915428760356",
          "max": "1.2385293455948507",
          "histogram": [
           {
            "bin_start": 1.1967915428760356,
            "bin_end": 1.2009653231479172,
            "count": 1
           },
           {
            "bin_start": 1.2009653231479172,
            "bin_end": 1.2051391034197987,
            "count": 0
           },
           {
            "bin_start": 1.2051391034197987,
            "bin_end": 1.2093128836916802,
            "count": 0
           },
           {
            "bin_start": 1.2093128836916802,
            "bin_end": 1.2134866639635618,
            "count": 0
           },
           {
            "bin_start": 1.2134866639635618,
            "bin_end": 1.217660444235443,
            "count": 2
           },
           {
            "bin_start": 1.217660444235443,
            "bin_end": 1.2218342245073246,
            "count": 0
           },
           {
            "bin_start": 1.2218342245073246,
            "bin_end": 1.2260080047792061,
            "count": 0
           },
           {
            "bin_start": 1.2260080047792061,
            "bin_end": 1.2301817850510877,
            "count": 0
           },
           {
            "bin_start": 1.2301817850510877,
            "bin_end": 1.2343555653229692,
            "count": 1
           },
           {
            "bin_start": 1.2343555653229692,
            "bin_end": 1.2385293455948507,
            "count": 1
           }
          ]
         }
        },
        {
         "name": "split5_test_score",
         "dtype": "float64",
         "stats": {
          "unique_count": 5,
          "nan_count": 0,
          "min": "1.1268266496577657",
          "max": "1.245563778550105",
          "histogram": [
           {
            "bin_start": 1.1268266496577657,
            "bin_end": 1.1387003625469996,
            "count": 1
           },
           {
            "bin_start": 1.1387003625469996,
            "bin_end": 1.1505740754362335,
            "count": 0
           },
           {
            "bin_start": 1.1505740754362335,
            "bin_end": 1.1624477883254676,
            "count": 0
           },
           {
            "bin_start": 1.1624477883254676,
            "bin_end": 1.1743215012147015,
            "count": 1
           },
           {
            "bin_start": 1.1743215012147015,
            "bin_end": 1.1861952141039354,
            "count": 0
           },
           {
            "bin_start": 1.1861952141039354,
            "bin_end": 1.1980689269931692,
            "count": 0
           },
           {
            "bin_start": 1.1980689269931692,
            "bin_end": 1.2099426398824031,
            "count": 0
           },
           {
            "bin_start": 1.2099426398824031,
            "bin_end": 1.2218163527716372,
            "count": 0
           },
           {
            "bin_start": 1.2218163527716372,
            "bin_end": 1.2336900656608711,
            "count": 2
           },
           {
            "bin_start": 1.2336900656608711,
            "bin_end": 1.245563778550105,
            "count": 1
           }
          ]
         }
        },
        {
         "name": "split6_test_score",
         "dtype": "float64",
         "stats": {
          "unique_count": 5,
          "nan_count": 0,
          "min": "1.1208016572142006",
          "max": "1.1661589143979818",
          "histogram": [
           {
            "bin_start": 1.1208016572142006,
            "bin_end": 1.1253373829325786,
            "count": 2
           },
           {
            "bin_start": 1.1253373829325786,
            "bin_end": 1.1298731086509568,
            "count": 1
           },
           {
            "bin_start": 1.1298731086509568,
            "bin_end": 1.134408834369335,
            "count": 1
           },
           {
            "bin_start": 1.134408834369335,
            "bin_end": 1.138944560087713,
            "count": 0
           },
           {
            "bin_start": 1.138944560087713,
            "bin_end": 1.143480285806091,
            "count": 0
           },
           {
            "bin_start": 1.143480285806091,
            "bin_end": 1.1480160115244693,
            "count": 0
           },
           {
            "bin_start": 1.1480160115244693,
            "bin_end": 1.1525517372428475,
            "count": 0
           },
           {
            "bin_start": 1.1525517372428475,
            "bin_end": 1.1570874629612256,
            "count": 0
           },
           {
            "bin_start": 1.1570874629612256,
            "bin_end": 1.1616231886796036,
            "count": 0
           },
           {
            "bin_start": 1.1616231886796036,
            "bin_end": 1.1661589143979818,
            "count": 1
           }
          ]
         }
        },
        {
         "name": "split7_test_score",
         "dtype": "float64",
         "stats": {
          "unique_count": 5,
          "nan_count": 0,
          "min": "1.051275024764744",
          "max": "1.0773597869713951",
          "histogram": [
           {
            "bin_start": 1.051275024764744,
            "bin_end": 1.053883500985409,
            "count": 1
           },
           {
            "bin_start": 1.053883500985409,
            "bin_end": 1.0564919772060741,
            "count": 0
           },
           {
            "bin_start": 1.0564919772060741,
            "bin_end": 1.0591004534267394,
            "count": 1
           },
           {
            "bin_start": 1.0591004534267394,
            "bin_end": 1.0617089296474045,
            "count": 0
           },
           {
            "bin_start": 1.0617089296474045,
            "bin_end": 1.0643174058680696,
            "count": 0
           },
           {
            "bin_start": 1.0643174058680696,
            "bin_end": 1.0669258820887346,
            "count": 0
           },
           {
            "bin_start": 1.0669258820887346,
            "bin_end": 1.0695343583093997,
            "count": 2
           },
           {
            "bin_start": 1.0695343583093997,
            "bin_end": 1.072142834530065,
            "count": 0
           },
           {
            "bin_start": 1.072142834530065,
            "bin_end": 1.07475131075073,
            "count": 0
           },
           {
            "bin_start": 1.07475131075073,
            "bin_end": 1.0773597869713951,
            "count": 1
           }
          ]
         }
        },
        {
         "name": "split8_test_score",
         "dtype": "float64",
         "stats": {
          "unique_count": 5,
          "nan_count": 0,
          "min": "1.2339000751761566",
          "max": "1.2628589510581547",
          "histogram": [
           {
            "bin_start": 1.2339000751761566,
            "bin_end": 1.2367959627643565,
            "count": 1
           },
           {
            "bin_start": 1.2367959627643565,
            "bin_end": 1.2396918503525562,
            "count": 0
           },
           {
            "bin_start": 1.2396918503525562,
            "bin_end": 1.242587737940756,
            "count": 1
           },
           {
            "bin_start": 1.242587737940756,
            "bin_end": 1.2454836255289559,
            "count": 0
           },
           {
            "bin_start": 1.2454836255289559,
            "bin_end": 1.2483795131171558,
            "count": 0
           },
           {
            "bin_start": 1.2483795131171558,
            "bin_end": 1.2512754007053555,
            "count": 1
           },
           {
            "bin_start": 1.2512754007053555,
            "bin_end": 1.2541712882935552,
            "count": 0
           },
           {
            "bin_start": 1.2541712882935552,
            "bin_end": 1.257067175881755,
            "count": 1
           },
           {
            "bin_start": 1.257067175881755,
            "bin_end": 1.259963063469955,
            "count": 0
           },
           {
            "bin_start": 1.259963063469955,
            "bin_end": 1.2628589510581547,
            "count": 1
           }
          ]
         }
        },
        {
         "name": "split9_test_score",
         "dtype": "float64",
         "stats": {
          "unique_count": 5,
          "nan_count": 0,
          "min": "0.9619966055915664",
          "max": "1.040874663331179",
          "histogram": [
           {
            "bin_start": 0.9619966055915664,
            "bin_end": 0.9698844113655276,
            "count": 1
           },
           {
            "bin_start": 0.9698844113655276,
            "bin_end": 0.9777722171394889,
            "count": 0
           },
           {
            "bin_start": 0.9777722171394889,
            "bin_end": 0.9856600229134502,
            "count": 0
           },
           {
            "bin_start": 0.9856600229134502,
            "bin_end": 0.9935478286874114,
            "count": 0
           },
           {
            "bin_start": 0.9935478286874114,
            "bin_end": 1.0014356344613726,
            "count": 0
           },
           {
            "bin_start": 1.0014356344613726,
            "bin_end": 1.009323440235334,
            "count": 2
           },
           {
            "bin_start": 1.009323440235334,
            "bin_end": 1.0172112460092952,
            "count": 0
           },
           {
            "bin_start": 1.0172112460092952,
            "bin_end": 1.0250990517832563,
            "count": 0
           },
           {
            "bin_start": 1.0250990517832563,
            "bin_end": 1.0329868575572176,
            "count": 1
           },
           {
            "bin_start": 1.0329868575572176,
            "bin_end": 1.040874663331179,
            "count": 1
           }
          ]
         }
        },
        {
         "name": "mean_test_score",
         "dtype": "float64",
         "stats": {
          "unique_count": 5,
          "nan_count": 0,
          "min": "1.1209130120854107",
          "max": "1.142155605758744",
          "histogram": [
           {
            "bin_start": 1.1209130120854107,
            "bin_end": 1.1230372714527441,
            "count": 1
           },
           {
            "bin_start": 1.1230372714527441,
            "bin_end": 1.1251615308200773,
            "count": 0
           },
           {
            "bin_start": 1.1251615308200773,
            "bin_end": 1.1272857901874107,
            "count": 0
           },
           {
            "bin_start": 1.1272857901874107,
            "bin_end": 1.129410049554744,
            "count": 1
           },
           {
            "bin_start": 1.129410049554744,
            "bin_end": 1.1315343089220775,
            "count": 0
           },
           {
            "bin_start": 1.1315343089220775,
            "bin_end": 1.1336585682894107,
            "count": 0
           },
           {
            "bin_start": 1.1336585682894107,
            "bin_end": 1.135782827656744,
            "count": 0
           },
           {
            "bin_start": 1.135782827656744,
            "bin_end": 1.1379070870240775,
            "count": 1
           },
           {
            "bin_start": 1.1379070870240775,
            "bin_end": 1.1400313463914107,
            "count": 1
           },
           {
            "bin_start": 1.1400313463914107,
            "bin_end": 1.142155605758744,
            "count": 1
           }
          ]
         }
        },
        {
         "name": "std_test_score",
         "dtype": "float64",
         "stats": {
          "unique_count": 5,
          "nan_count": 0,
          "min": "0.0764532090896743",
          "max": "0.0894244426556321",
          "histogram": [
           {
            "bin_start": 0.0764532090896743,
            "bin_end": 0.07775033244627008,
            "count": 1
           },
           {
            "bin_start": 0.07775033244627008,
            "bin_end": 0.07904745580286586,
            "count": 0
           },
           {
            "bin_start": 0.07904745580286586,
            "bin_end": 0.08034457915946164,
            "count": 1
           },
           {
            "bin_start": 0.08034457915946164,
            "bin_end": 0.08164170251605742,
            "count": 0
           },
           {
            "bin_start": 0.08164170251605742,
            "bin_end": 0.0829388258726532,
            "count": 0
           },
           {
            "bin_start": 0.0829388258726532,
            "bin_end": 0.08423594922924899,
            "count": 0
           },
           {
            "bin_start": 0.08423594922924899,
            "bin_end": 0.08553307258584476,
            "count": 1
           },
           {
            "bin_start": 0.08553307258584476,
            "bin_end": 0.08683019594244054,
            "count": 1
           },
           {
            "bin_start": 0.08683019594244054,
            "bin_end": 0.08812731929903632,
            "count": 0
           },
           {
            "bin_start": 0.08812731929903632,
            "bin_end": 0.0894244426556321,
            "count": 1
           }
          ]
         }
        },
        {
         "name": "rank_test_score",
         "dtype": "int64",
         "stats": {
          "unique_count": 5,
          "nan_count": 0,
          "min": "619",
          "max": "623",
          "histogram": [
           {
            "bin_start": 619,
            "bin_end": 619.4,
            "count": 1
           },
           {
            "bin_start": 619.4,
            "bin_end": 619.8,
            "count": 0
           },
           {
            "bin_start": 619.8,
            "bin_end": 620.2,
            "count": 1
           },
           {
            "bin_start": 620.2,
            "bin_end": 620.6,
            "count": 0
           },
           {
            "bin_start": 620.6,
            "bin_end": 621,
            "count": 0
           },
           {
            "bin_start": 621,
            "bin_end": 621.4,
            "count": 1
           },
           {
            "bin_start": 621.4,
            "bin_end": 621.8,
            "count": 0
           },
           {
            "bin_start": 621.8,
            "bin_end": 622.2,
            "count": 1
           },
           {
            "bin_start": 622.2,
            "bin_end": 622.6,
            "count": 0
           },
           {
            "bin_start": 622.6,
            "bin_end": 623,
            "count": 1
           }
          ]
         }
        },
        {
         "name": "_deepnote_index_column",
         "dtype": "int64"
        }
       ],
       "rows": [
        {
         "Unnamed: 0": 350,
         "mean_fit_time": 3.9406949043273927,
         "std_fit_time": 1.971696913678438,
         "mean_score_time": 0.0049219131469726,
         "std_score_time": 0.0013506836223773,
         "param_batch_size": 283,
         "param_lr": 0.0200987609861868,
         "param_max_epochs": 1000,
         "param_module__activation_fun": "tanh",
         "param_module__hidden_layers": 2,
         "param_module__num_units": 81,
         "param_optimizer": "<class 'torch.optim.sgd.SGD'>",
         "param_optimizer__momentum": 0.9,
         "param_optimizer__nesterov": false,
         "param_optimizer__weight_decay": 0.0034537270776939,
         "params": "{'batch_size': 283, 'lr': 0.020098760986186816, 'max_epochs': 1000, 'module__activation_fun': 'tanh…",
         "split0_test_score": 1.044643429423073,
         "split1_test_score": 0.9846925379890472,
         "split2_test_score": 1.1146574916416092,
         "split3_test_score": 1.1966032329806708,
         "split4_test_score": 1.2146533328227531,
         "split5_test_score": 1.1268266496577657,
         "split6_test_score": 1.1661589143979818,
         "split7_test_score": 1.0674755560948437,
         "split8_test_score": 1.2628589510581547,
         "split9_test_score": 1.030560024788208,
         "mean_test_score": 1.1209130120854107,
         "std_test_score": 0.0849579260588458,
         "rank_test_score": 623,
         "_deepnote_index_column": 0
        },
        {
         "Unnamed: 0": 582,
         "mean_fit_time": 7.513998579978943,
         "std_fit_time": 2.758514149002551,
         "mean_score_time": 0.0063631772994995,
         "std_score_time": 0.0031141628865078,
         "param_batch_size": 682,
         "param_lr": 0.0110280711063711,
         "param_max_epochs": 1000,
         "param_module__activation_fun": "tanh",
         "param_module__hidden_layers": 2,
         "param_module__num_units": 109,
         "param_optimizer": "<class 'torch.optim.sgd.SGD'>",
         "param_optimizer__momentum": 0.95,
         "param_optimizer__nesterov": false,
         "param_optimizer__weight_decay": 0.0049322583991846,
         "params": "{'batch_size': 682, 'lr': 0.011028071106371152, 'max_epochs': 1000, 'module__activation_fun': 'tanh…",
         "split0_test_score": 1.0255696204932112,
         "split1_test_score": 1.0632254890257256,
         "split2_test_score": 1.13366756549007,
         "split3_test_score": 1.2004296394219076,
         "split4_test_score": 1.2385293455948507,
         "split5_test_score": 1.1702285559245742,
         "split6_test_score": 1.1324204722405375,
         "split7_test_score": 1.0773597869713951,
         "split8_test_score": 1.2402237413128965,
         "split9_test_score": 1.0088730328575228,
         "mean_test_score": 1.1290527249332691,
         "std_test_score": 0.0795764870572477,
         "rank_test_score": 622,
         "_deepnote_index_column": 1
        },
        {
         "Unnamed: 0": 987,
         "mean_fit_time": 3.5479244232177733,
         "std_fit_time": 1.1648195851491658,
         "mean_score_time": 0.0051815509796142,
         "std_score_time": 0.0016182219190167,
         "param_batch_size": 138,
         "param_lr": 0.0055964998539756,
         "param_max_epochs": 1000,
         "param_module__activation_fun": "tanh",
         "param_module__hidden_layers": 2,
         "param_module__num_units": 88,
         "param_optimizer": "<class 'torch.optim.sgd.SGD'>",
         "param_optimizer__momentum": 0.95,
         "param_optimizer__nesterov": true,
         "param_optimizer__weight_decay": 0.0107256819555159,
         "params": "{'batch_size': 138, 'lr': 0.005596499853975679, 'max_epochs': 1000, 'module__activation_fun': 'tanh…",
         "split0_test_score": 1.06826816896971,
         "split1_test_score": 1.0449924779341633,
         "split2_test_score": 1.1618546498729323,
         "split3_test_score": 1.1771458231640937,
         "split4_test_score": 1.2310118592323218,
         "split5_test_score": 1.245563778550105,
         "split6_test_score": 1.1208016572142006,
         "split7_test_score": 1.0569931712785834,
         "split8_test_score": 1.255631143955472,
         "split9_test_score": 1.0018067882029396,
         "mean_test_score": 1.1364069518374522,
         "std_test_score": 0.0866335546210108,
         "rank_test_score": 621,
         "_deepnote_index_column": 2
        },
        {
         "Unnamed: 0": 173,
         "mean_fit_time": 25.31385474205017,
         "std_fit_time": 9.17789099871128,
         "mean_score_time": 0.0052955627441406,
         "std_score_time": 0.0025061738640865,
         "param_batch_size": 1102,
         "param_lr": 0.0027792460686433,
         "param_max_epochs": 1000,
         "param_module__activation_fun": "tanh",
         "param_module__hidden_layers": 2,
         "param_module__num_units": 63,
         "param_optimizer": "<class 'torch.optim.sgd.SGD'>",
         "param_optimizer__momentum": 0.95,
         "param_optimizer__nesterov": false,
         "param_optimizer__weight_decay": 0.0001164007835073,
         "params": "{'batch_size': 1102, 'lr': 0.0027792460686433818, 'max_epochs': 1000, 'module__activation_fun': 'ta…",
         "split0_test_score": 1.125636341736505,
         "split1_test_score": 1.0405752211809158,
         "split2_test_score": 1.1456547927923668,
         "split3_test_score": 1.2397345568340523,
         "split4_test_score": 1.216509916672581,
         "split5_test_score": 1.2305781564542226,
         "split6_test_score": 1.1269975762282098,
         "split7_test_score": 1.0680427468360816,
         "split8_test_score": 1.2339000751761566,
         "split9_test_score": 0.9619966055915664,
         "mean_test_score": 1.138962598950266,
         "std_test_score": 0.0894244426556321,
         "rank_test_score": 620,
         "_deepnote_index_column": 3
        },
        {
         "Unnamed: 0": 751,
         "mean_fit_time": 8.505076718330383,
         "std_fit_time": 4.147213016168667,
         "mean_score_time": 0.0075045347213745,
         "std_score_time": 0.0051889544352259,
         "param_batch_size": 268,
         "param_lr": 0.0734784137054805,
         "param_max_epochs": 1000,
         "param_module__activation_fun": "sigmoid",
         "param_module__hidden_layers": 1,
         "param_module__num_units": 88,
         "param_optimizer": "<class 'torch.optim.sgd.SGD'>",
         "param_optimizer__momentum": 0.9,
         "param_optimizer__nesterov": false,
         "param_optimizer__weight_decay": 0.0017472791358163,
         "params": "{'batch_size': 268, 'lr': 0.07347841370548054, 'max_epochs': 1000, 'module__activation_fun': 'sigmo…",
         "split0_test_score": 1.065704320718471,
         "split1_test_score": 1.0717496662715773,
         "split2_test_score": 1.179601493592661,
         "split3_test_score": 1.2188132050678246,
         "split4_test_score": 1.1967915428760356,
         "split5_test_score": 1.224511442944071,
         "split6_test_score": 1.1220057047063248,
         "split7_test_score": 1.051275024764744,
         "split8_test_score": 1.2502289933145494,
         "split9_test_score": 1.040874663331179,
         "mean_test_score": 1.142155605758744,
         "std_test_score": 0.0764532090896743,
         "rank_test_score": 619,
         "_deepnote_index_column": 4
        }
       ]
      },
      "text/plain": "   Unnamed: 0  mean_fit_time  std_fit_time  mean_score_time  std_score_time  \\\n0         350       3.940695      1.971697         0.004922        0.001351   \n1         582       7.513999      2.758514         0.006363        0.003114   \n2         987       3.547924      1.164820         0.005182        0.001618   \n3         173      25.313855      9.177891         0.005296        0.002506   \n4         751       8.505077      4.147213         0.007505        0.005189   \n\n   param_batch_size  param_lr  param_max_epochs param_module__activation_fun  \\\n0               283  0.020099              1000                         tanh   \n1               682  0.011028              1000                         tanh   \n2               138  0.005596              1000                         tanh   \n3              1102  0.002779              1000                         tanh   \n4               268  0.073478              1000                      sigmoid   \n\n   param_module__hidden_layers  ...  split3_test_score split4_test_score  \\\n0                            2  ...           1.196603          1.214653   \n1                            2  ...           1.200430          1.238529   \n2                            2  ...           1.177146          1.231012   \n3                            2  ...           1.239735          1.216510   \n4                            1  ...           1.218813          1.196792   \n\n   split5_test_score  split6_test_score  split7_test_score split8_test_score  \\\n0           1.126827           1.166159           1.067476          1.262859   \n1           1.170229           1.132420           1.077360          1.240224   \n2           1.245564           1.120802           1.056993          1.255631   \n3           1.230578           1.126998           1.068043          1.233900   \n4           1.224511           1.122006           1.051275          1.250229   \n\n   split9_test_score  mean_test_score  std_test_score  rank_test_score  \n0           1.030560         1.120913        0.084958              623  \n1           1.008873         1.129053        0.079576              622  \n2           1.001807         1.136407        0.086634              621  \n3           0.961997         1.138963        0.089424              620  \n4           1.040875         1.142156        0.076453              619  \n\n[5 rows x 29 columns]",
      "text/html": "<div>\n<style scoped>\n    .dataframe tbody tr th:only-of-type {\n        vertical-align: middle;\n    }\n\n    .dataframe tbody tr th {\n        vertical-align: top;\n    }\n\n    .dataframe thead th {\n        text-align: right;\n    }\n</style>\n<table border=\"1\" class=\"dataframe\">\n  <thead>\n    <tr style=\"text-align: right;\">\n      <th></th>\n      <th>Unnamed: 0</th>\n      <th>mean_fit_time</th>\n      <th>std_fit_time</th>\n      <th>mean_score_time</th>\n      <th>std_score_time</th>\n      <th>param_batch_size</th>\n      <th>param_lr</th>\n      <th>param_max_epochs</th>\n      <th>param_module__activation_fun</th>\n      <th>param_module__hidden_layers</th>\n      <th>...</th>\n      <th>split3_test_score</th>\n      <th>split4_test_score</th>\n      <th>split5_test_score</th>\n      <th>split6_test_score</th>\n      <th>split7_test_score</th>\n      <th>split8_test_score</th>\n      <th>split9_test_score</th>\n      <th>mean_test_score</th>\n      <th>std_test_score</th>\n      <th>rank_test_score</th>\n    </tr>\n  </thead>\n  <tbody>\n    <tr>\n      <th>0</th>\n      <td>350</td>\n      <td>3.940695</td>\n      <td>1.971697</td>\n      <td>0.004922</td>\n      <td>0.001351</td>\n      <td>283</td>\n      <td>0.020099</td>\n      <td>1000</td>\n      <td>tanh</td>\n      <td>2</td>\n      <td>...</td>\n      <td>1.196603</td>\n      <td>1.214653</td>\n      <td>1.126827</td>\n      <td>1.166159</td>\n      <td>1.067476</td>\n      <td>1.262859</td>\n      <td>1.030560</td>\n      <td>1.120913</td>\n      <td>0.084958</td>\n      <td>623</td>\n    </tr>\n    <tr>\n      <th>1</th>\n      <td>582</td>\n      <td>7.513999</td>\n      <td>2.758514</td>\n      <td>0.006363</td>\n      <td>0.003114</td>\n      <td>682</td>\n      <td>0.011028</td>\n      <td>1000</td>\n      <td>tanh</td>\n      <td>2</td>\n      <td>...</td>\n      <td>1.200430</td>\n      <td>1.238529</td>\n      <td>1.170229</td>\n      <td>1.132420</td>\n      <td>1.077360</td>\n      <td>1.240224</td>\n      <td>1.008873</td>\n      <td>1.129053</td>\n      <td>0.079576</td>\n      <td>622</td>\n    </tr>\n    <tr>\n      <th>2</th>\n      <td>987</td>\n      <td>3.547924</td>\n      <td>1.164820</td>\n      <td>0.005182</td>\n      <td>0.001618</td>\n      <td>138</td>\n      <td>0.005596</td>\n      <td>1000</td>\n      <td>tanh</td>\n      <td>2</td>\n      <td>...</td>\n      <td>1.177146</td>\n      <td>1.231012</td>\n      <td>1.245564</td>\n      <td>1.120802</td>\n      <td>1.056993</td>\n      <td>1.255631</td>\n      <td>1.001807</td>\n      <td>1.136407</td>\n      <td>0.086634</td>\n      <td>621</td>\n    </tr>\n    <tr>\n      <th>3</th>\n      <td>173</td>\n      <td>25.313855</td>\n      <td>9.177891</td>\n      <td>0.005296</td>\n      <td>0.002506</td>\n      <td>1102</td>\n      <td>0.002779</td>\n      <td>1000</td>\n      <td>tanh</td>\n      <td>2</td>\n      <td>...</td>\n      <td>1.239735</td>\n      <td>1.216510</td>\n      <td>1.230578</td>\n      <td>1.126998</td>\n      <td>1.068043</td>\n      <td>1.233900</td>\n      <td>0.961997</td>\n      <td>1.138963</td>\n      <td>0.089424</td>\n      <td>620</td>\n    </tr>\n    <tr>\n      <th>4</th>\n      <td>751</td>\n      <td>8.505077</td>\n      <td>4.147213</td>\n      <td>0.007505</td>\n      <td>0.005189</td>\n      <td>268</td>\n      <td>0.073478</td>\n      <td>1000</td>\n      <td>sigmoid</td>\n      <td>1</td>\n      <td>...</td>\n      <td>1.218813</td>\n      <td>1.196792</td>\n      <td>1.224511</td>\n      <td>1.122006</td>\n      <td>1.051275</td>\n      <td>1.250229</td>\n      <td>1.040875</td>\n      <td>1.142156</td>\n      <td>0.076453</td>\n      <td>619</td>\n    </tr>\n  </tbody>\n</table>\n<p>5 rows × 29 columns</p>\n</div>"
     },
     "metadata": {}
    }
   ],
   "execution_count": 17
  },
  {
   "cell_type": "code",
   "metadata": {
    "cell_id": "00017-f984ff7d-b27c-4f70-9063-55b9ea3a50cb",
    "deepnote_to_be_reexecuted": false,
    "execution_millis": 1,
    "execution_start": 1642775873094,
    "source_hash": "9dd11431",
    "deepnote_cell_type": "code"
   },
   "source": "#get the best params for the grid search (cannot use rand_gs.best_estimator directly since it will yield the worst estimator based on MEE)\nbest_params = df_results['params'][0]\nprint(f\"Mean error on the {k}-folds (MEE) on best model: {df_results['mean_test_score'][0]}\\n\")\nprint(f\"Best params: {best_params}\")",
   "outputs": [
    {
     "name": "stdout",
     "text": "Mean error on the 10-folds (MEE) on best model: 1.1209130120854107\n\nBest params: {'batch_size': 283, 'lr': 0.020098760986186816, 'max_epochs': 1000, 'module__activation_fun': 'tanh', 'module__hidden_layers': 2, 'module__num_units': 81, 'optimizer': <class 'torch.optim.sgd.SGD'>, 'optimizer__momentum': 0.9, 'optimizer__nesterov': False, 'optimizer__weight_decay': 0.0034537270776939686}\n",
     "output_type": "stream"
    }
   ],
   "execution_count": 18
  },
  {
   "cell_type": "code",
   "metadata": {
    "cell_id": "00029-db8353f7-b3dc-487b-9f7c-a54f65ec1d6b",
    "deepnote_to_be_reexecuted": false,
    "source_hash": "6a36063c",
    "execution_start": 1642775873109,
    "execution_millis": 0,
    "deepnote_cell_type": "code"
   },
   "source": "@dataclass\nclass GridSearchRanges:\n    '''Class of keeping track of the min and max values for the hyperparameters tuning'''\n    \n    hidden_layers = []\n    min_lr = 0\n    max_lr = 0\n    min_num_units = 0\n    max_num_units = 0\n    min_weight_decay = 0\n    max_weight_decay = 0\n    min_bs = 0\n    max_bs = 0\n    \n    def set_ranges(self):\n\n        self.hidden_layers = np.unique(df_results['param_module__hidden_layers'])\n        self.hidden_layers = self.hidden_layers.ravel() #convert to array\n        print(f\"hidden layers: {self.hidden_layers}\")\n\n        self.min_lr = np.min(df_results['param_lr'])\n        self.max_lr = np.max(df_results['param_lr'])\n        print(f\"learning rate: [{self.min_lr}, {self.max_lr}]\")\n        \n        self.min_num_units = np.min(df_results['param_module__num_units'])\n        self.max_num_units = np.max(df_results['param_module__num_units'])\n        print(f\"num units: [{self.min_num_units}, {self.max_num_units}]\")\n\n        self.min_weight_decay = np.min(df_results['param_optimizer__weight_decay'])\n        self.max_weight_decay = np.max(df_results['param_optimizer__weight_decay'])\n        print(f\"weight decay: [{self.min_weight_decay}, {self.max_weight_decay}]\")\n\n        self.min_bs = np.min(df_results['param_batch_size'])\n        self.max_bs = np.max(df_results['param_batch_size'])\n        print(f\"batch size: [{self.min_bs}, {self.max_bs}]\")\n    \n    ",
   "outputs": [],
   "execution_count": 19
  },
  {
   "cell_type": "code",
   "metadata": {
    "cell_id": "00030-902d7b17-b610-4d29-875e-d61dc1762acc",
    "deepnote_to_be_reexecuted": false,
    "source_hash": "9ccb58bf",
    "execution_start": 1642775873110,
    "execution_millis": 3,
    "deepnote_cell_type": "code"
   },
   "source": "gs = GridSearchRanges()\ngs.set_ranges()",
   "outputs": [
    {
     "name": "stdout",
     "text": "hidden layers: [1 2]\nlearning rate: [0.0008988870725362, 0.0883889696278408]\nnum units: [10, 125]\nweight decay: [0.0001164007835073, 0.0477990997654625]\nbatch size: [85, 1306]\n",
     "output_type": "stream"
    }
   ],
   "execution_count": 20
  },
  {
   "cell_type": "markdown",
   "source": "### Second Randomized Search using min e max values",
   "metadata": {
    "cell_id": "00031-0c36ae95-8613-41e2-a7ef-023a8a4a84a2",
    "deepnote_cell_type": "markdown"
   }
  },
  {
   "cell_type": "code",
   "metadata": {
    "cell_id": "00032-11f757c0-1158-41aa-bc04-0588bcec3bf2",
    "deepnote_to_be_reexecuted": false,
    "source_hash": "87b9b226",
    "execution_start": 1642775873112,
    "execution_millis": 15,
    "deepnote_cell_type": "code"
   },
   "source": "%%script false --no-raise-error\n\n# to find the best set of parameter setting, we can run a randomized search\n\n# define the parameters' values\nparams = {\n    'lr': uniform(gs.min_lr, gs.max_lr),\n    'max_epochs': [1000], #upper bound of max number of epochs\n    'optimizer': [torch.optim.SGD],\n    'optimizer__momentum': [0.9, 0.95], ##optimizer__ indicates that it is a parameter of the optimizer\n    'optimizer__weight_decay': uniform(gs.min_weight_decay, gs.max_weight_decay),\n    'optimizer__nesterov': [False, True],\n    'module__num_units': randint(gs.min_num_units, gs.max_num_units), #module__ indicates that it is a parameter of the module\n    'module__hidden_layers': [1,2],\n    'module__activation_fun': [\"sigmoid\", \"tanh\", \"relu\"],\n    'batch_size': randint(gs.min_bs, gs.max_bs),\n}\n\n# define the grid search\nrand_gs = RandomizedSearchCV(\n    model,\n    param_distributions=params,\n    n_iter=n_iter_search,\n    n_jobs=-1,\n    scoring=make_scorer(mee), #scoring is based on the highest value so we use the inverse of the MEE loss function\n    cv=k,\n    random_state=RS_NUMBER,\n    verbose=10\n)\n# run the grid search\nrand_gs.fit(X, y)\n",
   "outputs": [],
   "execution_count": 21
  },
  {
   "cell_type": "code",
   "metadata": {
    "cell_id": "00033-7e9b5a5d-376c-4152-8475-fd9cdeb0c14d",
    "deepnote_to_be_reexecuted": false,
    "source_hash": "3463c6b0",
    "execution_start": 1642775873129,
    "execution_millis": 11,
    "deepnote_cell_type": "code"
   },
   "source": "%%script false --no-raise-error\n\ndf_results = pd.DataFrame(data=rand_gs.cv_results_) #trasform into a pandas dataframe\ndf_results.sort_values(by=\"rank_test_score\", axis=0, ascending=False, inplace=True) #sort rank values in decreasing order \ndf_results.dropna(inplace=True) #delete nan values \ndf_results = df_results[:50] #keep only top 50 models\npd.DataFrame.to_csv(df_results, \"pytorch_results/rand2_search.csv\")",
   "outputs": [],
   "execution_count": 22
  },
  {
   "cell_type": "code",
   "metadata": {
    "cell_id": "00034-9ef3530c-044a-4bec-a17a-a807b89c0368",
    "deepnote_to_be_reexecuted": false,
    "source_hash": "9c45505b",
    "execution_start": 1642776800273,
    "execution_millis": 134,
    "deepnote_cell_type": "code"
   },
   "source": "df_results = pd.read_csv(\"pytorch_results/rand2_search.csv\")\ndf_results.head()",
   "outputs": [
    {
     "output_type": "execute_result",
     "execution_count": 81,
     "data": {
      "application/vnd.deepnote.dataframe.v3+json": {
       "column_count": 29,
       "row_count": 5,
       "columns": [
        {
         "name": "Unnamed: 0",
         "dtype": "int64",
         "stats": {
          "unique_count": 5,
          "nan_count": 0,
          "min": "61",
          "max": "811",
          "histogram": [
           {
            "bin_start": 61,
            "bin_end": 136,
            "count": 1
           },
           {
            "bin_start": 136,
            "bin_end": 211,
            "count": 1
           },
           {
            "bin_start": 211,
            "bin_end": 286,
            "count": 0
           },
           {
            "bin_start": 286,
            "bin_end": 361,
            "count": 0
           },
           {
            "bin_start": 361,
            "bin_end": 436,
            "count": 0
           },
           {
            "bin_start": 436,
            "bin_end": 511,
            "count": 0
           },
           {
            "bin_start": 511,
            "bin_end": 586,
            "count": 1
           },
           {
            "bin_start": 586,
            "bin_end": 661,
            "count": 0
           },
           {
            "bin_start": 661,
            "bin_end": 736,
            "count": 0
           },
           {
            "bin_start": 736,
            "bin_end": 811,
            "count": 2
           }
          ]
         }
        },
        {
         "name": "mean_fit_time",
         "dtype": "float64",
         "stats": {
          "unique_count": 5,
          "nan_count": 0,
          "min": "7.907077813148499",
          "max": "16.247680068016052",
          "histogram": [
           {
            "bin_start": 7.907077813148499,
            "bin_end": 8.741138038635254,
            "count": 1
           },
           {
            "bin_start": 8.741138038635254,
            "bin_end": 9.57519826412201,
            "count": 2
           },
           {
            "bin_start": 9.57519826412201,
            "bin_end": 10.409258489608764,
            "count": 0
           },
           {
            "bin_start": 10.409258489608764,
            "bin_end": 11.24331871509552,
            "count": 0
           },
           {
            "bin_start": 11.24331871509552,
            "bin_end": 12.077378940582275,
            "count": 1
           },
           {
            "bin_start": 12.077378940582275,
            "bin_end": 12.91143916606903,
            "count": 0
           },
           {
            "bin_start": 12.91143916606903,
            "bin_end": 13.745499391555786,
            "count": 0
           },
           {
            "bin_start": 13.745499391555786,
            "bin_end": 14.579559617042541,
            "count": 0
           },
           {
            "bin_start": 14.579559617042541,
            "bin_end": 15.413619842529297,
            "count": 0
           },
           {
            "bin_start": 15.413619842529297,
            "bin_end": 16.247680068016052,
            "count": 1
           }
          ]
         }
        },
        {
         "name": "std_fit_time",
         "dtype": "float64",
         "stats": {
          "unique_count": 5,
          "nan_count": 0,
          "min": "3.242384750970152",
          "max": "8.818188789865987",
          "histogram": [
           {
            "bin_start": 3.242384750970152,
            "bin_end": 3.799965154859736,
            "count": 2
           },
           {
            "bin_start": 3.799965154859736,
            "bin_end": 4.357545558749319,
            "count": 0
           },
           {
            "bin_start": 4.357545558749319,
            "bin_end": 4.915125962638903,
            "count": 0
           },
           {
            "bin_start": 4.915125962638903,
            "bin_end": 5.472706366528486,
            "count": 0
           },
           {
            "bin_start": 5.472706366528486,
            "bin_end": 6.03028677041807,
            "count": 0
           },
           {
            "bin_start": 6.03028677041807,
            "bin_end": 6.587867174307654,
            "count": 0
           },
           {
            "bin_start": 6.587867174307654,
            "bin_end": 7.145447578197237,
            "count": 0
           },
           {
            "bin_start": 7.145447578197237,
            "bin_end": 7.70302798208682,
            "count": 1
           },
           {
            "bin_start": 7.70302798208682,
            "bin_end": 8.260608385976404,
            "count": 0
           },
           {
            "bin_start": 8.260608385976404,
            "bin_end": 8.818188789865987,
            "count": 2
           }
          ]
         }
        },
        {
         "name": "mean_score_time",
         "dtype": "float64",
         "stats": {
          "unique_count": 5,
          "nan_count": 0,
          "min": "0.0035315752029418",
          "max": "0.0063200235366821",
          "histogram": [
           {
            "bin_start": 0.0035315752029418,
            "bin_end": 0.00381042003631583,
            "count": 1
           },
           {
            "bin_start": 0.00381042003631583,
            "bin_end": 0.00408926486968986,
            "count": 0
           },
           {
            "bin_start": 0.00408926486968986,
            "bin_end": 0.00436810970306389,
            "count": 1
           },
           {
            "bin_start": 0.00436810970306389,
            "bin_end": 0.00464695453643792,
            "count": 0
           },
           {
            "bin_start": 0.00464695453643792,
            "bin_end": 0.00492579936981195,
            "count": 0
           },
           {
            "bin_start": 0.00492579936981195,
            "bin_end": 0.00520464420318598,
            "count": 2
           },
           {
            "bin_start": 0.00520464420318598,
            "bin_end": 0.00548348903656001,
            "count": 0
           },
           {
            "bin_start": 0.00548348903656001,
            "bin_end": 0.005762333869934039,
            "count": 0
           },
           {
            "bin_start": 0.005762333869934039,
            "bin_end": 0.006041178703308069,
            "count": 0
           },
           {
            "bin_start": 0.006041178703308069,
            "bin_end": 0.0063200235366821,
            "count": 1
           }
          ]
         }
        },
        {
         "name": "std_score_time",
         "dtype": "float64",
         "stats": {
          "unique_count": 5,
          "nan_count": 0,
          "min": "0.0014978370842317",
          "max": "0.0046829207921407",
          "histogram": [
           {
            "bin_start": 0.0014978370842317,
            "bin_end": 0.0018163454550226001,
            "count": 1
           },
           {
            "bin_start": 0.0018163454550226001,
            "bin_end": 0.0021348538258135,
            "count": 0
           },
           {
            "bin_start": 0.0021348538258135,
            "bin_end": 0.0024533621966044,
            "count": 1
           },
           {
            "bin_start": 0.0024533621966044,
            "bin_end": 0.0027718705673953,
            "count": 1
           },
           {
            "bin_start": 0.0027718705673953,
            "bin_end": 0.0030903789381862,
            "count": 0
           },
           {
            "bin_start": 0.0030903789381862,
            "bin_end": 0.0034088873089771,
            "count": 1
           },
           {
            "bin_start": 0.0034088873089771,
            "bin_end": 0.0037273956797680002,
            "count": 0
           },
           {
            "bin_start": 0.0037273956797680002,
            "bin_end": 0.0040459040505589,
            "count": 0
           },
           {
            "bin_start": 0.0040459040505589,
            "bin_end": 0.0043644124213498,
            "count": 0
           },
           {
            "bin_start": 0.0043644124213498,
            "bin_end": 0.0046829207921407,
            "count": 1
           }
          ]
         }
        },
        {
         "name": "param_batch_size",
         "dtype": "int64",
         "stats": {
          "unique_count": 5,
          "nan_count": 0,
          "min": "193",
          "max": "969",
          "histogram": [
           {
            "bin_start": 193,
            "bin_end": 270.6,
            "count": 1
           },
           {
            "bin_start": 270.6,
            "bin_end": 348.2,
            "count": 0
           },
           {
            "bin_start": 348.2,
            "bin_end": 425.79999999999995,
            "count": 1
           },
           {
            "bin_start": 425.79999999999995,
            "bin_end": 503.4,
            "count": 0
           },
           {
            "bin_start": 503.4,
            "bin_end": 581,
            "count": 1
           },
           {
            "bin_start": 581,
            "bin_end": 658.5999999999999,
            "count": 0
           },
           {
            "bin_start": 658.5999999999999,
            "bin_end": 736.1999999999999,
            "count": 0
           },
           {
            "bin_start": 736.1999999999999,
            "bin_end": 813.8,
            "count": 1
           },
           {
            "bin_start": 813.8,
            "bin_end": 891.4,
            "count": 0
           },
           {
            "bin_start": 891.4,
            "bin_end": 969,
            "count": 1
           }
          ]
         }
        },
        {
         "name": "param_lr",
         "dtype": "float64",
         "stats": {
          "unique_count": 5,
          "nan_count": 0,
          "min": "0.0082063401568712",
          "max": "0.0657573108760647",
          "histogram": [
           {
            "bin_start": 0.0082063401568712,
            "bin_end": 0.01396143722879055,
            "count": 3
           },
           {
            "bin_start": 0.01396143722879055,
            "bin_end": 0.019716534300709902,
            "count": 0
           },
           {
            "bin_start": 0.019716534300709902,
            "bin_end": 0.025471631372629252,
            "count": 0
           },
           {
            "bin_start": 0.025471631372629252,
            "bin_end": 0.0312267284445486,
            "count": 0
           },
           {
            "bin_start": 0.0312267284445486,
            "bin_end": 0.03698182551646795,
            "count": 0
           },
           {
            "bin_start": 0.03698182551646795,
            "bin_end": 0.04273692258838731,
            "count": 0
           },
           {
            "bin_start": 0.04273692258838731,
            "bin_end": 0.048492019660306654,
            "count": 1
           },
           {
            "bin_start": 0.048492019660306654,
            "bin_end": 0.054247116732226,
            "count": 0
           },
           {
            "bin_start": 0.054247116732226,
            "bin_end": 0.06000221380414536,
            "count": 0
           },
           {
            "bin_start": 0.06000221380414536,
            "bin_end": 0.0657573108760647,
            "count": 1
           }
          ]
         }
        },
        {
         "name": "param_max_epochs",
         "dtype": "int64",
         "stats": {
          "unique_count": 1,
          "nan_count": 0,
          "min": "1000",
          "max": "1000",
          "histogram": [
           {
            "bin_start": 999.5,
            "bin_end": 999.6,
            "count": 0
           },
           {
            "bin_start": 999.6,
            "bin_end": 999.7,
            "count": 0
           },
           {
            "bin_start": 999.7,
            "bin_end": 999.8,
            "count": 0
           },
           {
            "bin_start": 999.8,
            "bin_end": 999.9,
            "count": 0
           },
           {
            "bin_start": 999.9,
            "bin_end": 1000,
            "count": 0
           },
           {
            "bin_start": 1000,
            "bin_end": 1000.1,
            "count": 5
           },
           {
            "bin_start": 1000.1,
            "bin_end": 1000.2,
            "count": 0
           },
           {
            "bin_start": 1000.2,
            "bin_end": 1000.3,
            "count": 0
           },
           {
            "bin_start": 1000.3,
            "bin_end": 1000.4,
            "count": 0
           },
           {
            "bin_start": 1000.4,
            "bin_end": 1000.5,
            "count": 0
           }
          ]
         }
        },
        {
         "name": "param_module__activation_fun",
         "dtype": "object",
         "stats": {
          "unique_count": 2,
          "nan_count": 0,
          "categories": [
           {
            "name": "tanh",
            "count": 3
           },
           {
            "name": "sigmoid",
            "count": 2
           }
          ]
         }
        },
        {
         "name": "param_module__hidden_layers",
         "dtype": "int64",
         "stats": {
          "unique_count": 2,
          "nan_count": 0,
          "min": "1",
          "max": "2",
          "histogram": [
           {
            "bin_start": 1,
            "bin_end": 1.1,
            "count": 2
           },
           {
            "bin_start": 1.1,
            "bin_end": 1.2,
            "count": 0
           },
           {
            "bin_start": 1.2,
            "bin_end": 1.3,
            "count": 0
           },
           {
            "bin_start": 1.3,
            "bin_end": 1.4,
            "count": 0
           },
           {
            "bin_start": 1.4,
            "bin_end": 1.5,
            "count": 0
           },
           {
            "bin_start": 1.5,
            "bin_end": 1.6,
            "count": 0
           },
           {
            "bin_start": 1.6,
            "bin_end": 1.7000000000000002,
            "count": 0
           },
           {
            "bin_start": 1.7000000000000002,
            "bin_end": 1.8,
            "count": 0
           },
           {
            "bin_start": 1.8,
            "bin_end": 1.9,
            "count": 0
           },
           {
            "bin_start": 1.9,
            "bin_end": 2,
            "count": 3
           }
          ]
         }
        },
        {
         "name": "param_module__num_units",
         "dtype": "int64",
         "stats": {
          "unique_count": 5,
          "nan_count": 0,
          "min": "45",
          "max": "119",
          "histogram": [
           {
            "bin_start": 45,
            "bin_end": 52.4,
            "count": 1
           },
           {
            "bin_start": 52.4,
            "bin_end": 59.8,
            "count": 0
           },
           {
            "bin_start": 59.8,
            "bin_end": 67.2,
            "count": 0
           },
           {
            "bin_start": 67.2,
            "bin_end": 74.6,
            "count": 0
           },
           {
            "bin_start": 74.6,
            "bin_end": 82,
            "count": 0
           },
           {
            "bin_start": 82,
            "bin_end": 89.4,
            "count": 0
           },
           {
            "bin_start": 89.4,
            "bin_end": 96.80000000000001,
            "count": 1
           },
           {
            "bin_start": 96.80000000000001,
            "bin_end": 104.2,
            "count": 1
           },
           {
            "bin_start": 104.2,
            "bin_end": 111.60000000000001,
            "count": 0
           },
           {
            "bin_start": 111.60000000000001,
            "bin_end": 119,
            "count": 2
           }
          ]
         }
        },
        {
         "name": "param_optimizer",
         "dtype": "object",
         "stats": {
          "unique_count": 1,
          "nan_count": 0,
          "categories": [
           {
            "name": "<class 'torch.optim.sgd.SGD'>",
            "count": 5
           }
          ]
         }
        },
        {
         "name": "param_optimizer__momentum",
         "dtype": "float64",
         "stats": {
          "unique_count": 2,
          "nan_count": 0,
          "min": "0.9",
          "max": "0.95",
          "histogram": [
           {
            "bin_start": 0.9,
            "bin_end": 0.905,
            "count": 3
           },
           {
            "bin_start": 0.905,
            "bin_end": 0.91,
            "count": 0
           },
           {
            "bin_start": 0.91,
            "bin_end": 0.915,
            "count": 0
           },
           {
            "bin_start": 0.915,
            "bin_end": 0.92,
            "count": 0
           },
           {
            "bin_start": 0.92,
            "bin_end": 0.925,
            "count": 0
           },
           {
            "bin_start": 0.925,
            "bin_end": 0.9299999999999999,
            "count": 0
           },
           {
            "bin_start": 0.9299999999999999,
            "bin_end": 0.9349999999999999,
            "count": 0
           },
           {
            "bin_start": 0.9349999999999999,
            "bin_end": 0.94,
            "count": 0
           },
           {
            "bin_start": 0.94,
            "bin_end": 0.945,
            "count": 0
           },
           {
            "bin_start": 0.945,
            "bin_end": 0.95,
            "count": 2
           }
          ]
         }
        },
        {
         "name": "param_optimizer__nesterov",
         "dtype": "bool",
         "stats": {
          "unique_count": 2,
          "nan_count": 0,
          "categories": [
           {
            "name": "False",
            "count": 4
           },
           {
            "name": "True",
            "count": 1
           }
          ]
         }
        },
        {
         "name": "param_optimizer__weight_decay",
         "dtype": "float64",
         "stats": {
          "unique_count": 5,
          "nan_count": 0,
          "min": "0.0003180105852319",
          "max": "0.0068403345652914",
          "histogram": [
           {
            "bin_start": 0.0003180105852319,
            "bin_end": 0.00097024298323785,
            "count": 2
           },
           {
            "bin_start": 0.00097024298323785,
            "bin_end": 0.0016224753812438,
            "count": 0
           },
           {
            "bin_start": 0.0016224753812438,
            "bin_end": 0.0022747077792497497,
            "count": 0
           },
           {
            "bin_start": 0.0022747077792497497,
            "bin_end": 0.0029269401772557,
            "count": 1
           },
           {
            "bin_start": 0.0029269401772557,
            "bin_end": 0.00357917257526165,
            "count": 0
           },
           {
            "bin_start": 0.00357917257526165,
            "bin_end": 0.0042314049732676,
            "count": 0
           },
           {
            "bin_start": 0.0042314049732676,
            "bin_end": 0.00488363737127355,
            "count": 0
           },
           {
            "bin_start": 0.00488363737127355,
            "bin_end": 0.0055358697692795,
            "count": 1
           },
           {
            "bin_start": 0.0055358697692795,
            "bin_end": 0.00618810216728545,
            "count": 0
           },
           {
            "bin_start": 0.00618810216728545,
            "bin_end": 0.0068403345652914,
            "count": 1
           }
          ]
         }
        },
        {
         "name": "params",
         "dtype": "object",
         "stats": {
          "unique_count": 5,
          "nan_count": 0,
          "categories": [
           {
            "name": "{'batch_size': 969, 'lr': 0.01183645465779384, 'max_epochs': 1000, 'module__activation_fun': 'tanh', 'module__hidden_layers': 2, 'module__num_units': 98, 'optimizer': <class 'torch.optim.sgd.SGD'>, 'optimizer__momentum': 0.9, 'optimizer__nesterov': False, 'optimizer__weight_decay': 0.005431615520537502}",
            "count": 1
           },
           {
            "name": "{'batch_size': 193, 'lr': 0.008206340156871269, 'max_epochs': 1000, 'module__activation_fun': 'tanh', 'module__hidden_layers': 2, 'module__num_units': 119, 'optimizer': <class 'torch.optim.sgd.SGD'>, 'optimizer__momentum': 0.95, 'optimizer__nesterov': True, 'optimizer__weight_decay': 0.00684033456529144}",
            "count": 1
           },
           {
            "name": "3 others",
            "count": 3
           }
          ]
         }
        },
        {
         "name": "split0_test_score",
         "dtype": "float64",
         "stats": {
          "unique_count": 5,
          "nan_count": 0,
          "min": "1.0440005076755037",
          "max": "1.0744037247521985",
          "histogram": [
           {
            "bin_start": 1.0440005076755037,
            "bin_end": 1.0470408293831732,
            "count": 1
           },
           {
            "bin_start": 1.0470408293831732,
            "bin_end": 1.0500811510908425,
            "count": 1
           },
           {
            "bin_start": 1.0500811510908425,
            "bin_end": 1.053121472798512,
            "count": 0
           },
           {
            "bin_start": 1.053121472798512,
            "bin_end": 1.0561617945061816,
            "count": 0
           },
           {
            "bin_start": 1.0561617945061816,
            "bin_end": 1.059202116213851,
            "count": 0
           },
           {
            "bin_start": 1.059202116213851,
            "bin_end": 1.0622424379215205,
            "count": 2
           },
           {
            "bin_start": 1.0622424379215205,
            "bin_end": 1.06528275962919,
            "count": 0
           },
           {
            "bin_start": 1.06528275962919,
            "bin_end": 1.0683230813368596,
            "count": 0
           },
           {
            "bin_start": 1.0683230813368596,
            "bin_end": 1.071363403044529,
            "count": 0
           },
           {
            "bin_start": 1.071363403044529,
            "bin_end": 1.0744037247521985,
            "count": 1
           }
          ]
         }
        },
        {
         "name": "split1_test_score",
         "dtype": "float64",
         "stats": {
          "unique_count": 5,
          "nan_count": 0,
          "min": "1.0023382486761512",
          "max": "1.0585571619773049",
          "histogram": [
           {
            "bin_start": 1.0023382486761512,
            "bin_end": 1.0079601400062665,
            "count": 1
           },
           {
            "bin_start": 1.0079601400062665,
            "bin_end": 1.013582031336382,
            "count": 0
           },
           {
            "bin_start": 1.013582031336382,
            "bin_end": 1.0192039226664973,
            "count": 1
           },
           {
            "bin_start": 1.0192039226664973,
            "bin_end": 1.0248258139966127,
            "count": 0
           },
           {
            "bin_start": 1.0248258139966127,
            "bin_end": 1.030447705326728,
            "count": 0
           },
           {
            "bin_start": 1.030447705326728,
            "bin_end": 1.0360695966568434,
            "count": 1
           },
           {
            "bin_start": 1.0360695966568434,
            "bin_end": 1.0416914879869588,
            "count": 1
           },
           {
            "bin_start": 1.0416914879869588,
            "bin_end": 1.0473133793170741,
            "count": 0
           },
           {
            "bin_start": 1.0473133793170741,
            "bin_end": 1.0529352706471895,
            "count": 0
           },
           {
            "bin_start": 1.0529352706471895,
            "bin_end": 1.0585571619773049,
            "count": 1
           }
          ]
         }
        },
        {
         "name": "split2_test_score",
         "dtype": "float64",
         "stats": {
          "unique_count": 5,
          "nan_count": 0,
          "min": "1.1302228316776737",
          "max": "1.1745520811668015",
          "histogram": [
           {
            "bin_start": 1.1302228316776737,
            "bin_end": 1.1346557566265865,
            "count": 2
           },
           {
            "bin_start": 1.1346557566265865,
            "bin_end": 1.1390886815754993,
            "count": 0
           },
           {
            "bin_start": 1.1390886815754993,
            "bin_end": 1.143521606524412,
            "count": 0
           },
           {
            "bin_start": 1.143521606524412,
            "bin_end": 1.1479545314733248,
            "count": 0
           },
           {
            "bin_start": 1.1479545314733248,
            "bin_end": 1.1523874564222376,
            "count": 2
           },
           {
            "bin_start": 1.1523874564222376,
            "bin_end": 1.1568203813711504,
            "count": 0
           },
           {
            "bin_start": 1.1568203813711504,
            "bin_end": 1.1612533063200632,
            "count": 0
           },
           {
            "bin_start": 1.1612533063200632,
            "bin_end": 1.165686231268976,
            "count": 0
           },
           {
            "bin_start": 1.165686231268976,
            "bin_end": 1.1701191562178888,
            "count": 0
           },
           {
            "bin_start": 1.1701191562178888,
            "bin_end": 1.1745520811668015,
            "count": 1
           }
          ]
         }
        },
        {
         "name": "split3_test_score",
         "dtype": "float64",
         "stats": {
          "unique_count": 5,
          "nan_count": 0,
          "min": "1.181679835613061",
          "max": "1.2617025413459404",
          "histogram": [
           {
            "bin_start": 1.181679835613061,
            "bin_end": 1.189682106186349,
            "count": 2
           },
           {
            "bin_start": 1.189682106186349,
            "bin_end": 1.1976843767596368,
            "count": 0
           },
           {
            "bin_start": 1.1976843767596368,
            "bin_end": 1.2056866473329246,
            "count": 1
           },
           {
            "bin_start": 1.2056866473329246,
            "bin_end": 1.2136889179062127,
            "count": 1
           },
           {
            "bin_start": 1.2136889179062127,
            "bin_end": 1.2216911884795008,
            "count": 0
           },
           {
            "bin_start": 1.2216911884795008,
            "bin_end": 1.2296934590527886,
            "count": 0
           },
           {
            "bin_start": 1.2296934590527886,
            "bin_end": 1.2376957296260764,
            "count": 0
           },
           {
            "bin_start": 1.2376957296260764,
            "bin_end": 1.2456980001993645,
            "count": 0
           },
           {
            "bin_start": 1.2456980001993645,
            "bin_end": 1.2537002707726526,
            "count": 0
           },
           {
            "bin_start": 1.2537002707726526,
            "bin_end": 1.2617025413459404,
            "count": 1
           }
          ]
         }
        },
        {
         "name": "split4_test_score",
         "dtype": "float64",
         "stats": {
          "unique_count": 5,
          "nan_count": 0,
          "min": "1.1720904599651134",
          "max": "1.2111530448485135",
          "histogram": [
           {
            "bin_start": 1.1720904599651134,
            "bin_end": 1.1759967184534534,
            "count": 1
           },
           {
            "bin_start": 1.1759967184534534,
            "bin_end": 1.1799029769417935,
            "count": 0
           },
           {
            "bin_start": 1.1799029769417935,
            "bin_end": 1.1838092354301335,
            "count": 0
           },
           {
            "bin_start": 1.1838092354301335,
            "bin_end": 1.1877154939184735,
            "count": 0
           },
           {
            "bin_start": 1.1877154939184735,
            "bin_end": 1.1916217524068133,
            "count": 0
           },
           {
            "bin_start": 1.1916217524068133,
            "bin_end": 1.1955280108951534,
            "count": 1
           },
           {
            "bin_start": 1.1955280108951534,
            "bin_end": 1.1994342693834934,
            "count": 0
           },
           {
            "bin_start": 1.1994342693834934,
            "bin_end": 1.2033405278718334,
            "count": 0
           },
           {
            "bin_start": 1.2033405278718334,
            "bin_end": 1.2072467863601735,
            "count": 1
           },
           {
            "bin_start": 1.2072467863601735,
            "bin_end": 1.2111530448485135,
            "count": 2
           }
          ]
         }
        },
        {
         "name": "split5_test_score",
         "dtype": "float64",
         "stats": {
          "unique_count": 5,
          "nan_count": 0,
          "min": "1.1686522658158065",
          "max": "1.2195959107712246",
          "histogram": [
           {
            "bin_start": 1.1686522658158065,
            "bin_end": 1.1737466303113484,
            "count": 1
           },
           {
            "bin_start": 1.1737466303113484,
            "bin_end": 1.17884099480689,
            "count": 0
           },
           {
            "bin_start": 1.17884099480689,
            "bin_end": 1.183935359302432,
            "count": 0
           },
           {
            "bin_start": 1.183935359302432,
            "bin_end": 1.1890297237979737,
            "count": 0
           },
           {
            "bin_start": 1.1890297237979737,
            "bin_end": 1.1941240882935156,
            "count": 0
           },
           {
            "bin_start": 1.1941240882935156,
            "bin_end": 1.1992184527890575,
            "count": 2
           },
           {
            "bin_start": 1.1992184527890575,
            "bin_end": 1.2043128172845992,
            "count": 0
           },
           {
            "bin_start": 1.2043128172845992,
            "bin_end": 1.209407181780141,
            "count": 0
           },
           {
            "bin_start": 1.209407181780141,
            "bin_end": 1.2145015462756827,
            "count": 0
           },
           {
            "bin_start": 1.2145015462756827,
            "bin_end": 1.2195959107712246,
            "count": 2
           }
          ]
         }
        },
        {
         "name": "split6_test_score",
         "dtype": "float64",
         "stats": {
          "unique_count": 5,
          "nan_count": 0,
          "min": "1.0966161705721589",
          "max": "1.1642560657477916",
          "histogram": [
           {
            "bin_start": 1.0966161705721589,
            "bin_end": 1.1033801600897222,
            "count": 1
           },
           {
            "bin_start": 1.1033801600897222,
            "bin_end": 1.1101441496072855,
            "count": 0
           },
           {
            "bin_start": 1.1101441496072855,
            "bin_end": 1.1169081391248488,
            "count": 1
           },
           {
            "bin_start": 1.1169081391248488,
            "bin_end": 1.123672128642412,
            "count": 1
           },
           {
            "bin_start": 1.123672128642412,
            "bin_end": 1.1304361181599751,
            "count": 0
           },
           {
            "bin_start": 1.1304361181599751,
            "bin_end": 1.1372001076775384,
            "count": 1
           },
           {
            "bin_start": 1.1372001076775384,
            "bin_end": 1.1439640971951017,
            "count": 0
           },
           {
            "bin_start": 1.1439640971951017,
            "bin_end": 1.150728086712665,
            "count": 0
           },
           {
            "bin_start": 1.150728086712665,
            "bin_end": 1.1574920762302283,
            "count": 0
           },
           {
            "bin_start": 1.1574920762302283,
            "bin_end": 1.1642560657477916,
            "count": 1
           }
          ]
         }
        },
        {
         "name": "split7_test_score",
         "dtype": "float64",
         "stats": {
          "unique_count": 5,
          "nan_count": 0,
          "min": "1.0280396596045422",
          "max": "1.0840058871930032",
          "histogram": [
           {
            "bin_start": 1.0280396596045422,
            "bin_end": 1.0336362823633882,
            "count": 1
           },
           {
            "bin_start": 1.0336362823633882,
            "bin_end": 1.0392329051222344,
            "count": 0
           },
           {
            "bin_start": 1.0392329051222344,
            "bin_end": 1.0448295278810806,
            "count": 0
           },
           {
            "bin_start": 1.0448295278810806,
            "bin_end": 1.0504261506399266,
            "count": 0
           },
           {
            "bin_start": 1.0504261506399266,
            "bin_end": 1.0560227733987726,
            "count": 2
           },
           {
            "bin_start": 1.0560227733987726,
            "bin_end": 1.0616193961576188,
            "count": 1
           },
           {
            "bin_start": 1.0616193961576188,
            "bin_end": 1.067216018916465,
            "count": 0
           },
           {
            "bin_start": 1.067216018916465,
            "bin_end": 1.072812641675311,
            "count": 0
           },
           {
            "bin_start": 1.072812641675311,
            "bin_end": 1.078409264434157,
            "count": 0
           },
           {
            "bin_start": 1.078409264434157,
            "bin_end": 1.0840058871930032,
            "count": 1
           }
          ]
         }
        },
        {
         "name": "split8_test_score",
         "dtype": "float64",
         "stats": {
          "unique_count": 5,
          "nan_count": 0,
          "min": "1.1605019024888377",
          "max": "1.236585924135787",
          "histogram": [
           {
            "bin_start": 1.1605019024888377,
            "bin_end": 1.1681103046535326,
            "count": 1
           },
           {
            "bin_start": 1.1681103046535326,
            "bin_end": 1.1757187068182275,
            "count": 0
           },
           {
            "bin_start": 1.1757187068182275,
            "bin_end": 1.1833271089829225,
            "count": 1
           },
           {
            "bin_start": 1.1833271089829225,
            "bin_end": 1.1909355111476174,
            "count": 0
           },
           {
            "bin_start": 1.1909355111476174,
            "bin_end": 1.1985439133123124,
            "count": 0
           },
           {
            "bin_start": 1.1985439133123124,
            "bin_end": 1.2061523154770073,
            "count": 0
           },
           {
            "bin_start": 1.2061523154770073,
            "bin_end": 1.2137607176417022,
            "count": 0
           },
           {
            "bin_start": 1.2137607176417022,
            "bin_end": 1.2213691198063972,
            "count": 0
           },
           {
            "bin_start": 1.2213691198063972,
            "bin_end": 1.2289775219710921,
            "count": 0
           },
           {
            "bin_start": 1.2289775219710921,
            "bin_end": 1.236585924135787,
            "count": 3
           }
          ]
         }
        },
        {
         "name": "split9_test_score",
         "dtype": "float64",
         "stats": {
          "unique_count": 5,
          "nan_count": 0,
          "min": "0.9691511824670614",
          "max": "1.106575495986776",
          "histogram": [
           {
            "bin_start": 0.9691511824670614,
            "bin_end": 0.982893613819033,
            "count": 1
           },
           {
            "bin_start": 0.982893613819033,
            "bin_end": 0.9966360451710043,
            "count": 0
           },
           {
            "bin_start": 0.9966360451710043,
            "bin_end": 1.0103784765229757,
            "count": 1
           },
           {
            "bin_start": 1.0103784765229757,
            "bin_end": 1.0241209078749471,
            "count": 0
           },
           {
            "bin_start": 1.0241209078749471,
            "bin_end": 1.0378633392269188,
            "count": 2
           },
           {
            "bin_start": 1.0378633392269188,
            "bin_end": 1.0516057705788902,
            "count": 0
           },
           {
            "bin_start": 1.0516057705788902,
            "bin_end": 1.0653482019308615,
            "count": 0
           },
           {
            "bin_start": 1.0653482019308615,
            "bin_end": 1.0790906332828332,
            "count": 0
           },
           {
            "bin_start": 1.0790906332828332,
            "bin_end": 1.0928330646348046,
            "count": 0
           },
           {
            "bin_start": 1.0928330646348046,
            "bin_end": 1.106575495986776,
            "count": 1
           }
          ]
         }
        },
        {
         "name": "mean_test_score",
         "dtype": "float64",
         "stats": {
          "unique_count": 5,
          "nan_count": 0,
          "min": "1.1112004747280908",
          "max": "1.1339337910602314",
          "histogram": [
           {
            "bin_start": 1.1112004747280908,
            "bin_end": 1.1134738063613048,
            "count": 1
           },
           {
            "bin_start": 1.1134738063613048,
            "bin_end": 1.115747137994519,
            "count": 0
           },
           {
            "bin_start": 1.115747137994519,
            "bin_end": 1.118020469627733,
            "count": 0
           },
           {
            "bin_start": 1.118020469627733,
            "bin_end": 1.1202938012609471,
            "count": 0
           },
           {
            "bin_start": 1.1202938012609471,
            "bin_end": 1.122567132894161,
            "count": 1
           },
           {
            "bin_start": 1.122567132894161,
            "bin_end": 1.124840464527375,
            "count": 0
           },
           {
            "bin_start": 1.124840464527375,
            "bin_end": 1.1271137961605893,
            "count": 0
           },
           {
            "bin_start": 1.1271137961605893,
            "bin_end": 1.1293871277938032,
            "count": 0
           },
           {
            "bin_start": 1.1293871277938032,
            "bin_end": 1.1316604594270174,
            "count": 1
           },
           {
            "bin_start": 1.1316604594270174,
            "bin_end": 1.1339337910602314,
            "count": 2
           }
          ]
         }
        },
        {
         "name": "std_test_score",
         "dtype": "float64",
         "stats": {
          "unique_count": 5,
          "nan_count": 0,
          "min": "0.0594923116873",
          "max": "0.086132041587414",
          "histogram": [
           {
            "bin_start": 0.0594923116873,
            "bin_end": 0.0621562846773114,
            "count": 1
           },
           {
            "bin_start": 0.0621562846773114,
            "bin_end": 0.0648202576673228,
            "count": 0
           },
           {
            "bin_start": 0.0648202576673228,
            "bin_end": 0.0674842306573342,
            "count": 0
           },
           {
            "bin_start": 0.0674842306573342,
            "bin_end": 0.0701482036473456,
            "count": 0
           },
           {
            "bin_start": 0.0701482036473456,
            "bin_end": 0.072812176637357,
            "count": 1
           },
           {
            "bin_start": 0.072812176637357,
            "bin_end": 0.0754761496273684,
            "count": 0
           },
           {
            "bin_start": 0.0754761496273684,
            "bin_end": 0.07814012261737979,
            "count": 0
           },
           {
            "bin_start": 0.07814012261737979,
            "bin_end": 0.0808040956073912,
            "count": 0
           },
           {
            "bin_start": 0.0808040956073912,
            "bin_end": 0.0834680685974026,
            "count": 2
           },
           {
            "bin_start": 0.0834680685974026,
            "bin_end": 0.086132041587414,
            "count": 1
           }
          ]
         }
        },
        {
         "name": "rank_test_score",
         "dtype": "int64",
         "stats": {
          "unique_count": 5,
          "nan_count": 0,
          "min": "648",
          "max": "652",
          "histogram": [
           {
            "bin_start": 648,
            "bin_end": 648.4,
            "count": 1
           },
           {
            "bin_start": 648.4,
            "bin_end": 648.8,
            "count": 0
           },
           {
            "bin_start": 648.8,
            "bin_end": 649.2,
            "count": 1
           },
           {
            "bin_start": 649.2,
            "bin_end": 649.6,
            "count": 0
           },
           {
            "bin_start": 649.6,
            "bin_end": 650,
            "count": 0
           },
           {
            "bin_start": 650,
            "bin_end": 650.4,
            "count": 1
           },
           {
            "bin_start": 650.4,
            "bin_end": 650.8,
            "count": 0
           },
           {
            "bin_start": 650.8,
            "bin_end": 651.2,
            "count": 1
           },
           {
            "bin_start": 651.2,
            "bin_end": 651.6,
            "count": 0
           },
           {
            "bin_start": 651.6,
            "bin_end": 652,
            "count": 1
           }
          ]
         }
        },
        {
         "name": "_deepnote_index_column",
         "dtype": "int64"
        }
       ],
       "rows": [
        {
         "Unnamed: 0": 811,
         "mean_fit_time": 16.247680068016052,
         "std_fit_time": 8.818188789865987,
         "mean_score_time": 0.0049775123596191,
         "std_score_time": 0.0023594288805481,
         "param_batch_size": 969,
         "param_lr": 0.0118364546577938,
         "param_max_epochs": 1000,
         "param_module__activation_fun": "tanh",
         "param_module__hidden_layers": 2,
         "param_module__num_units": 98,
         "param_optimizer": "<class 'torch.optim.sgd.SGD'>",
         "param_optimizer__momentum": 0.9,
         "param_optimizer__nesterov": false,
         "param_optimizer__weight_decay": 0.0054316155205375,
         "params": "{'batch_size': 969, 'lr': 0.01183645465779384, 'max_epochs': 1000, 'module__activation_fun': 'tanh'…",
         "split0_test_score": 1.0487656182140337,
         "split1_test_score": 1.0023382486761512,
         "split2_test_score": 1.1302228316776737,
         "split3_test_score": 1.1871570619873535,
         "split4_test_score": 1.2111530448485135,
         "split5_test_score": 1.1686522658158065,
         "split6_test_score": 1.1642560657477916,
         "split7_test_score": 1.0521771214846385,
         "split8_test_score": 1.1781313063618832,
         "split9_test_score": 0.9691511824670614,
         "mean_test_score": 1.1112004747280908,
         "std_test_score": 0.081319101676895,
         "rank_test_score": 652,
         "_deepnote_index_column": 0
        },
        {
         "Unnamed: 0": 177,
         "mean_fit_time": 9.395187425613404,
         "std_fit_time": 7.242655933737518,
         "mean_score_time": 0.0050826072692871,
         "std_score_time": 0.0031796150041439,
         "param_batch_size": 193,
         "param_lr": 0.0082063401568712,
         "param_max_epochs": 1000,
         "param_module__activation_fun": "tanh",
         "param_module__hidden_layers": 2,
         "param_module__num_units": 119,
         "param_optimizer": "<class 'torch.optim.sgd.SGD'>",
         "param_optimizer__momentum": 0.95,
         "param_optimizer__nesterov": true,
         "param_optimizer__weight_decay": 0.0068403345652914,
         "params": "{'batch_size': 193, 'lr': 0.008206340156871269, 'max_epochs': 1000, 'module__activation_fun': 'tanh…",
         "split0_test_score": 1.0744037247521985,
         "split1_test_score": 1.0585571619773049,
         "split2_test_score": 1.1317168504167767,
         "split3_test_score": 1.181679835613061,
         "split4_test_score": 1.2059483613846893,
         "split5_test_score": 1.1950870864093304,
         "split6_test_score": 1.0966161705721589,
         "split7_test_score": 1.0840058871930032,
         "split8_test_score": 1.1605019024888377,
         "split9_test_score": 1.0245716072844735,
         "mean_test_score": 1.1213088588091833,
         "std_test_score": 0.0594923116873,
         "rank_test_score": 651,
         "_deepnote_index_column": 1
        },
        {
         "Unnamed: 0": 737,
         "mean_fit_time": 11.662489295005798,
         "std_fit_time": 8.543174693827188,
         "mean_score_time": 0.0042353153228759,
         "std_score_time": 0.0024602231637673,
         "param_batch_size": 352,
         "param_lr": 0.0657573108760647,
         "param_max_epochs": 1000,
         "param_module__activation_fun": "sigmoid",
         "param_module__hidden_layers": 1,
         "param_module__num_units": 93,
         "param_optimizer": "<class 'torch.optim.sgd.SGD'>",
         "param_optimizer__momentum": 0.9,
         "param_optimizer__nesterov": false,
         "param_optimizer__weight_decay": 0.0009037853810518,
         "params": "{'batch_size': 352, 'lr': 0.06575731087606476, 'max_epochs': 1000, 'module__activation_fun': 'sigmo…",
         "split0_test_score": 1.0440005076755037,
         "split1_test_score": 1.0390427501073904,
         "split2_test_score": 1.1745520811668015,
         "split3_test_score": 1.2101684195318616,
         "split4_test_score": 1.192322534950156,
         "split5_test_score": 1.2195959107712246,
         "split6_test_score": 1.120841967096006,
         "split7_test_score": 1.0613882976927256,
         "split8_test_score": 1.236585924135787,
         "split9_test_score": 1.0091754488336544,
         "mean_test_score": 1.1307673841961108,
         "std_test_score": 0.0816928398745711,
         "rank_test_score": 650,
         "_deepnote_index_column": 2
        },
        {
         "Unnamed: 0": 571,
         "mean_fit_time": 7.907077813148499,
         "std_fit_time": 3.242384750970152,
         "mean_score_time": 0.0063200235366821,
         "std_score_time": 0.0046829207921407,
         "param_batch_size": 766,
         "param_lr": 0.0105580965236554,
         "param_max_epochs": 1000,
         "param_module__activation_fun": "tanh",
         "param_module__hidden_layers": 2,
         "param_module__num_units": 114,
         "param_optimizer": "<class 'torch.optim.sgd.SGD'>",
         "param_optimizer__momentum": 0.95,
         "param_optimizer__nesterov": false,
         "param_optimizer__weight_decay": 0.0024261767966585,
         "params": "{'batch_size': 766, 'lr': 0.010558096523655443, 'max_epochs': 1000, 'module__activation_fun': 'tanh…",
         "split0_test_score": 1.0608744572820072,
         "split1_test_score": 1.0188080101813142,
         "split2_test_score": 1.1486376866110062,
         "split3_test_score": 1.2042112554899675,
         "split4_test_score": 1.1720904599651134,
         "split5_test_score": 1.2169881513188208,
         "split6_test_score": 1.112507714896946,
         "split7_test_score": 1.0525850949430824,
         "split8_test_score": 1.2308570827196414,
         "split9_test_score": 1.106575495986776,
         "mean_test_score": 1.1324135409394676,
         "std_test_score": 0.0702117316670507,
         "rank_test_score": 649,
         "_deepnote_index_column": 3
        },
        {
         "Unnamed: 0": 61,
         "mean_fit_time": 8.987892413139344,
         "std_fit_time": 3.761606024064951,
         "mean_score_time": 0.0035315752029418,
         "std_score_time": 0.0014978370842317,
         "param_batch_size": 552,
         "param_lr": 0.0476376034088743,
         "param_max_epochs": 1000,
         "param_module__activation_fun": "sigmoid",
         "param_module__hidden_layers": 1,
         "param_module__num_units": 45,
         "param_optimizer": "<class 'torch.optim.sgd.SGD'>",
         "param_optimizer__momentum": 0.9,
         "param_optimizer__nesterov": false,
         "param_optimizer__weight_decay": 0.0003180105852319,
         "params": "{'batch_size': 552, 'lr': 0.04763760340887432, 'max_epochs': 1000, 'module__activation_fun': 'sigmo…",
         "split0_test_score": 1.0620513586817604,
         "split1_test_score": 1.03360237571922,
         "split2_test_score": 1.1486864843146694,
         "split3_test_score": 1.2617025413459404,
         "split4_test_score": 1.2088194260639804,
         "split5_test_score": 1.195609134867003,
         "split6_test_score": 1.1370713413041784,
         "split7_test_score": 1.0280396596045422,
         "split8_test_score": 1.2362035856883329,
         "split9_test_score": 1.027552003012688,
         "mean_test_score": 1.1339337910602314,
         "std_test_score": 0.086132041587414,
         "rank_test_score": 648,
         "_deepnote_index_column": 4
        }
       ]
      },
      "text/plain": "   Unnamed: 0  mean_fit_time  std_fit_time  mean_score_time  std_score_time  \\\n0         811      16.247680      8.818189         0.004978        0.002359   \n1         177       9.395187      7.242656         0.005083        0.003180   \n2         737      11.662489      8.543175         0.004235        0.002460   \n3         571       7.907078      3.242385         0.006320        0.004683   \n4          61       8.987892      3.761606         0.003532        0.001498   \n\n   param_batch_size  param_lr  param_max_epochs param_module__activation_fun  \\\n0               969  0.011836              1000                         tanh   \n1               193  0.008206              1000                         tanh   \n2               352  0.065757              1000                      sigmoid   \n3               766  0.010558              1000                         tanh   \n4               552  0.047638              1000                      sigmoid   \n\n   param_module__hidden_layers  ...  split3_test_score split4_test_score  \\\n0                            2  ...           1.187157          1.211153   \n1                            2  ...           1.181680          1.205948   \n2                            1  ...           1.210168          1.192323   \n3                            2  ...           1.204211          1.172090   \n4                            1  ...           1.261703          1.208819   \n\n   split5_test_score  split6_test_score  split7_test_score split8_test_score  \\\n0           1.168652           1.164256           1.052177          1.178131   \n1           1.195087           1.096616           1.084006          1.160502   \n2           1.219596           1.120842           1.061388          1.236586   \n3           1.216988           1.112508           1.052585          1.230857   \n4           1.195609           1.137071           1.028040          1.236204   \n\n   split9_test_score  mean_test_score  std_test_score  rank_test_score  \n0           0.969151         1.111200        0.081319              652  \n1           1.024572         1.121309        0.059492              651  \n2           1.009175         1.130767        0.081693              650  \n3           1.106575         1.132414        0.070212              649  \n4           1.027552         1.133934        0.086132              648  \n\n[5 rows x 29 columns]",
      "text/html": "<div>\n<style scoped>\n    .dataframe tbody tr th:only-of-type {\n        vertical-align: middle;\n    }\n\n    .dataframe tbody tr th {\n        vertical-align: top;\n    }\n\n    .dataframe thead th {\n        text-align: right;\n    }\n</style>\n<table border=\"1\" class=\"dataframe\">\n  <thead>\n    <tr style=\"text-align: right;\">\n      <th></th>\n      <th>Unnamed: 0</th>\n      <th>mean_fit_time</th>\n      <th>std_fit_time</th>\n      <th>mean_score_time</th>\n      <th>std_score_time</th>\n      <th>param_batch_size</th>\n      <th>param_lr</th>\n      <th>param_max_epochs</th>\n      <th>param_module__activation_fun</th>\n      <th>param_module__hidden_layers</th>\n      <th>...</th>\n      <th>split3_test_score</th>\n      <th>split4_test_score</th>\n      <th>split5_test_score</th>\n      <th>split6_test_score</th>\n      <th>split7_test_score</th>\n      <th>split8_test_score</th>\n      <th>split9_test_score</th>\n      <th>mean_test_score</th>\n      <th>std_test_score</th>\n      <th>rank_test_score</th>\n    </tr>\n  </thead>\n  <tbody>\n    <tr>\n      <th>0</th>\n      <td>811</td>\n      <td>16.247680</td>\n      <td>8.818189</td>\n      <td>0.004978</td>\n      <td>0.002359</td>\n      <td>969</td>\n      <td>0.011836</td>\n      <td>1000</td>\n      <td>tanh</td>\n      <td>2</td>\n      <td>...</td>\n      <td>1.187157</td>\n      <td>1.211153</td>\n      <td>1.168652</td>\n      <td>1.164256</td>\n      <td>1.052177</td>\n      <td>1.178131</td>\n      <td>0.969151</td>\n      <td>1.111200</td>\n      <td>0.081319</td>\n      <td>652</td>\n    </tr>\n    <tr>\n      <th>1</th>\n      <td>177</td>\n      <td>9.395187</td>\n      <td>7.242656</td>\n      <td>0.005083</td>\n      <td>0.003180</td>\n      <td>193</td>\n      <td>0.008206</td>\n      <td>1000</td>\n      <td>tanh</td>\n      <td>2</td>\n      <td>...</td>\n      <td>1.181680</td>\n      <td>1.205948</td>\n      <td>1.195087</td>\n      <td>1.096616</td>\n      <td>1.084006</td>\n      <td>1.160502</td>\n      <td>1.024572</td>\n      <td>1.121309</td>\n      <td>0.059492</td>\n      <td>651</td>\n    </tr>\n    <tr>\n      <th>2</th>\n      <td>737</td>\n      <td>11.662489</td>\n      <td>8.543175</td>\n      <td>0.004235</td>\n      <td>0.002460</td>\n      <td>352</td>\n      <td>0.065757</td>\n      <td>1000</td>\n      <td>sigmoid</td>\n      <td>1</td>\n      <td>...</td>\n      <td>1.210168</td>\n      <td>1.192323</td>\n      <td>1.219596</td>\n      <td>1.120842</td>\n      <td>1.061388</td>\n      <td>1.236586</td>\n      <td>1.009175</td>\n      <td>1.130767</td>\n      <td>0.081693</td>\n      <td>650</td>\n    </tr>\n    <tr>\n      <th>3</th>\n      <td>571</td>\n      <td>7.907078</td>\n      <td>3.242385</td>\n      <td>0.006320</td>\n      <td>0.004683</td>\n      <td>766</td>\n      <td>0.010558</td>\n      <td>1000</td>\n      <td>tanh</td>\n      <td>2</td>\n      <td>...</td>\n      <td>1.204211</td>\n      <td>1.172090</td>\n      <td>1.216988</td>\n      <td>1.112508</td>\n      <td>1.052585</td>\n      <td>1.230857</td>\n      <td>1.106575</td>\n      <td>1.132414</td>\n      <td>0.070212</td>\n      <td>649</td>\n    </tr>\n    <tr>\n      <th>4</th>\n      <td>61</td>\n      <td>8.987892</td>\n      <td>3.761606</td>\n      <td>0.003532</td>\n      <td>0.001498</td>\n      <td>552</td>\n      <td>0.047638</td>\n      <td>1000</td>\n      <td>sigmoid</td>\n      <td>1</td>\n      <td>...</td>\n      <td>1.261703</td>\n      <td>1.208819</td>\n      <td>1.195609</td>\n      <td>1.137071</td>\n      <td>1.028040</td>\n      <td>1.236204</td>\n      <td>1.027552</td>\n      <td>1.133934</td>\n      <td>0.086132</td>\n      <td>648</td>\n    </tr>\n  </tbody>\n</table>\n<p>5 rows × 29 columns</p>\n</div>"
     },
     "metadata": {}
    }
   ],
   "execution_count": 81
  },
  {
   "cell_type": "code",
   "metadata": {
    "cell_id": "00035-35634286-bbca-405f-826c-e98eac51d714",
    "deepnote_to_be_reexecuted": false,
    "source_hash": "9dd11431",
    "execution_start": 1642776803783,
    "execution_millis": 0,
    "deepnote_cell_type": "code"
   },
   "source": "#get the best params for the grid search (cannot use rand_gs.best_estimator directly since it will yield the worst estimator based on MEE)\nbest_params = df_results['params'][0]\nprint(f\"Mean error on the {k}-folds (MEE) on best model: {df_results['mean_test_score'][0]}\\n\")\nprint(f\"Best params: {best_params}\")",
   "outputs": [
    {
     "name": "stdout",
     "text": "Mean error on the 10-folds (MEE) on best model: 1.1112004747280908\n\nBest params: {'batch_size': 969, 'lr': 0.01183645465779384, 'max_epochs': 1000, 'module__activation_fun': 'tanh', 'module__hidden_layers': 2, 'module__num_units': 98, 'optimizer': <class 'torch.optim.sgd.SGD'>, 'optimizer__momentum': 0.9, 'optimizer__nesterov': False, 'optimizer__weight_decay': 0.005431615520537502}\n",
     "output_type": "stream"
    }
   ],
   "execution_count": 82
  },
  {
   "cell_type": "code",
   "metadata": {
    "cell_id": "00036-0ea2098c-908a-471d-96ea-16015bf6d6d9",
    "deepnote_to_be_reexecuted": false,
    "source_hash": "f7dc150e",
    "execution_start": 1642776806926,
    "execution_millis": 7,
    "deepnote_cell_type": "code"
   },
   "source": "best_models = list() #list of the top ten models of the final randomized search\n\nfor i in range(10):\n    best_params_i = df_results['params'][i]\n    first_part = str(best_params_i.split(\"'optimizer': <class 'torch.optim.sgd.SGD'>, \", 1)[0]) #manually remove the optimizer parameter\n    second_part = str(best_params_i.split(\"'optimizer': <class 'torch.optim.sgd.SGD'>, \", 1)[1])\n    best_params_i = first_part+second_part\n    \n    \n    best_params_i = ast.literal_eval(best_params_i)\n    HIDDEN_LAYERS = best_params_i['module__hidden_layers']\n    NUM_UNITS = best_params_i['module__num_units']\n    ACTIVATION_FUN = best_params_i['module__activation_fun']\n\n    OPTIMIZER = 'SGD'\n    LR = best_params_i['lr']\n    WEIGHT_DECAY = best_params_i['optimizer__weight_decay']\n\n    BATCH = best_params_i['batch_size']\n    MAX_EPOCHS = best_params_i['max_epochs']\n    NESTEROV = best_params_i['optimizer__nesterov']\n\n    MOMENTUM = best_params_i['optimizer__momentum']\n \n\n    \n    module_i = MyModule(NUM_UNITS, ACTIVATION_FUN, HIDDEN_LAYERS)\n    model_i = NeuralNetRegressor(\n        module = module_i,\n        criterion=nn.MSELoss,\n        max_epochs=MAX_EPOCHS,\n        lr=LR,\n        batch_size=BATCH,\n        optimizer=torch.optim.SGD,\n        optimizer__momentum=MOMENTUM,\n        callbacks=[('early_stoppping', EarlyStopping(monitor='valid_loss', patience=PATIENCE, threshold=THRESHOLD))],\n    )\n    best_models.append(model_i)",
   "outputs": [],
   "execution_count": 83
  },
  {
   "cell_type": "code",
   "metadata": {
    "cell_id": "00037-6b990c50-780d-489d-8371-22021e54ac89",
    "deepnote_to_be_reexecuted": false,
    "source_hash": "ec5505cb",
    "execution_start": 1642776808785,
    "execution_millis": 1,
    "deepnote_cell_type": "code"
   },
   "source": "#optimizer interferes with evaluation of the string into a dict\n\nfirst_part = str(best_params.split(\"'optimizer': <class 'torch.optim.sgd.SGD'>, \", 1)[0]) #manually remove the optimizer parameter\nsecond_part = str(best_params.split(\"'optimizer': <class 'torch.optim.sgd.SGD'>, \", 1)[1])\n\nbest_params = first_part+second_part\nbest_params = ast.literal_eval(best_params)",
   "outputs": [],
   "execution_count": 84
  },
  {
   "cell_type": "markdown",
   "source": "### Retrain and evaluation of the best model",
   "metadata": {
    "cell_id": "ef3557f9-3e8c-4054-9303-5157be7c373e",
    "tags": [],
    "deepnote_cell_type": "markdown"
   }
  },
  {
   "cell_type": "code",
   "metadata": {
    "cell_id": "00018-60e7b0eb-43f9-42ba-bf50-66a1b0a8d060",
    "deepnote_to_be_reexecuted": false,
    "execution_millis": 1,
    "execution_start": 1642776813803,
    "source_hash": "ece9fad2",
    "deepnote_cell_type": "code"
   },
   "source": "HIDDEN_LAYERS = best_params['module__hidden_layers']\nNUM_UNITS = best_params['module__num_units']\nACTIVATION_FUN = best_params['module__activation_fun']\n\nOPTIMIZER = 'SGD'\nLR = best_params['lr']\nWEIGHT_DECAY = best_params['optimizer__weight_decay']\n\nBATCH = best_params['batch_size']\nMAX_EPOCHS = best_params['max_epochs']\nNESTEROV = best_params['optimizer__nesterov']\n\nMOMENTUM = best_params['optimizer__momentum']\n ",
   "outputs": [],
   "execution_count": 85
  },
  {
   "cell_type": "code",
   "metadata": {
    "cell_id": "55728a6e-ba19-4d50-bad1-dcec19159dde",
    "deepnote_to_be_reexecuted": false,
    "execution_millis": 0,
    "execution_start": 1642776815137,
    "source_hash": "fe0bd595",
    "tags": [],
    "deepnote_cell_type": "code"
   },
   "source": "def plot_learning_curves(train_scores, test_scores, epochs, y_label):\n    plt.figure(figsize=(10,8))\n    plt.plot(range(0,epochs), train_scores, label = \"Training error\", linestyle='dashed')\n    plt.plot(range(0,epochs), test_scores, label = \"Test error\")\n    plt.legend()\n    plt.ylabel(y_label)\n    plt.xlabel('Epoch');",
   "outputs": [],
   "execution_count": 86
  },
  {
   "cell_type": "code",
   "metadata": {
    "cell_id": "74854ec5-383f-40b2-8dfd-e2f2a751cd57",
    "deepnote_to_be_reexecuted": false,
    "execution_millis": 2,
    "execution_start": 1642776816435,
    "source_hash": "e338b41",
    "tags": [],
    "deepnote_cell_type": "code"
   },
   "source": "#redefine the model with the best params\nmodule = MyModule(NUM_UNITS, ACTIVATION_FUN, HIDDEN_LAYERS)\neval_module = MyModule(NUM_UNITS, ACTIVATION_FUN, HIDDEN_LAYERS)\nprint(module)\n",
   "outputs": [
    {
     "name": "stdout",
     "text": "MyModule(\n  (linear_stack): Sequential(\n    (0): Linear(in_features=10, out_features=98, bias=True)\n    (1): Tanh()\n    (2): Linear(in_features=98, out_features=98, bias=True)\n    (3): Tanh()\n    (4): Linear(in_features=98, out_features=2, bias=True)\n  )\n)\n",
     "output_type": "stream"
    }
   ],
   "execution_count": 87
  },
  {
   "cell_type": "code",
   "metadata": {
    "cell_id": "3b3a34e7-1258-4379-a075-b64bb377045b",
    "deepnote_to_be_reexecuted": false,
    "execution_millis": 18,
    "execution_start": 1642776818106,
    "source_hash": "dfbb28ea",
    "tags": [],
    "deepnote_cell_type": "code"
   },
   "source": "#trains the model with one iteration (epoch) and computes in output a list of train and test scores using MEE\ndef fit_and_score(epochs, eval_model, X_train, y_train, X_test, y_test):\n    train_scores = []\n    test_scores = []\n    train_loss = []\n    test_loss = []\n    eval_model.initialize()\n    for i in range(epochs):\n        eval_model = eval_model.fit_loop(X_train,y_train,1) #single epoch of the model\n        y_train_predicted = eval_model.predict(X_train)\n        y_test_predicted = eval_model.predict(X_test)\n        #results on train set\n        train_scores.append(mean_squared_error(y_train, y_train_predicted))\n        test_scores.append(mean_squared_error(y_test, y_test_predicted))\n        #result on test set\n        train_loss.append(mee(y_train, y_train_predicted))\n        test_loss.append(mee(y_test, y_test_predicted))\n    return train_scores, test_scores, train_loss, test_loss\n",
   "outputs": [],
   "execution_count": 88
  },
  {
   "cell_type": "code",
   "metadata": {
    "cell_id": "8404d5b0-407f-4ad1-86cf-bfcadcc2381d",
    "deepnote_to_be_reexecuted": false,
    "execution_millis": 0,
    "execution_start": 1642776820998,
    "source_hash": "779664a2",
    "tags": [],
    "deepnote_cell_type": "code"
   },
   "source": "model = NeuralNetRegressor(\n    module = module,\n    criterion=nn.MSELoss,\n    max_epochs=MAX_EPOCHS,\n    lr=LR,\n    batch_size=BATCH,\n    optimizer=torch.optim.SGD,\n    optimizer__momentum=MOMENTUM,\n    callbacks=[('early_stoppping', EarlyStopping(monitor='valid_loss', patience=PATIENCE, threshold=THRESHOLD))],\n)",
   "outputs": [],
   "execution_count": 89
  },
  {
   "cell_type": "code",
   "metadata": {
    "cell_id": "ab6bd9a7-8c09-4a44-974b-86225a15b780",
    "deepnote_output_heights": [
     611,
     611
    ],
    "deepnote_to_be_reexecuted": false,
    "execution_millis": 21188,
    "execution_start": 1642776823313,
    "output_cleared": false,
    "scrolled": true,
    "source_hash": "1ceadd7",
    "tags": [],
    "deepnote_cell_type": "code"
   },
   "source": "model.fit(X, y)\ny_predicted = model.predict(X)",
   "outputs": [
    {
     "name": "stdout",
     "text": "  epoch    train_loss    valid_loss     dur\n-------  ------------  ------------  ------\n      1      \u001b[36m234.8083\u001b[0m      \u001b[32m200.3089\u001b[0m  0.0210\n      2      \u001b[36m182.6786\u001b[0m       \u001b[32m42.8888\u001b[0m  0.0222\n      3       \u001b[36m42.3608\u001b[0m       86.7439  0.0571\n      4       87.9117       \u001b[32m10.1135\u001b[0m  0.0254\n      5       \u001b[36m14.2446\u001b[0m       43.1398  0.0545\n      6       37.0682        \u001b[32m9.3051\u001b[0m  0.0198\n      7       \u001b[36m10.9580\u001b[0m       23.0841  0.0201\n      8       21.9210        \u001b[32m7.9257\u001b[0m  0.0272\n      9        \u001b[36m8.2532\u001b[0m       13.1291  0.0209\n     10       11.6548        \u001b[32m2.4921\u001b[0m  0.0593\n     11        \u001b[36m3.0754\u001b[0m        7.6643  0.0249\n     12        7.4168        \u001b[32m2.2992\u001b[0m  0.0660\n     13        \u001b[36m2.6692\u001b[0m        5.2289  0.0233\n     14        5.3843        \u001b[32m2.0523\u001b[0m  0.0209\n     15        \u001b[36m2.4444\u001b[0m        2.8877  0.0210\n     16        3.2297        2.4474  0.0187\n     17        2.6843        \u001b[32m1.4602\u001b[0m  0.0683\n     18        \u001b[36m1.8972\u001b[0m        2.5086  0.0186\n     19        2.6737        1.7452  0.0661\n     20        1.9446        1.6444  0.0252\n     21        1.9500        1.7678  0.0280\n     22        2.0309        \u001b[32m1.3846\u001b[0m  0.0243\n     23        \u001b[36m1.6166\u001b[0m        1.4313  0.0189\n     24        1.6716        1.4269  0.0672\n     25        1.6354        \u001b[32m1.3270\u001b[0m  0.0189\n     26        \u001b[36m1.5252\u001b[0m        1.3321  0.0223\n     27        1.5567        \u001b[32m1.2717\u001b[0m  0.0255\n     28        \u001b[36m1.4914\u001b[0m        \u001b[32m1.2343\u001b[0m  0.0235\n     29        \u001b[36m1.4418\u001b[0m        1.2898  0.0605\n     30        1.4808        1.2361  0.0183\n     31        \u001b[36m1.4372\u001b[0m        \u001b[32m1.2197\u001b[0m  0.0204\n     32        \u001b[36m1.4047\u001b[0m        1.2526  0.0195\n     33        1.4311        \u001b[32m1.1745\u001b[0m  0.0230\n     34        \u001b[36m1.3657\u001b[0m        \u001b[32m1.1701\u001b[0m  0.0644\n     35        \u001b[36m1.3490\u001b[0m        1.2188  0.0192\n     36        1.3702        1.1848  0.0678\n     37        \u001b[36m1.3415\u001b[0m        1.1819  0.0203\n     38        \u001b[36m1.3376\u001b[0m        1.1900  0.0253\n     39        1.3381        \u001b[32m1.1552\u001b[0m  0.0681\n     40        \u001b[36m1.3106\u001b[0m        \u001b[32m1.1432\u001b[0m  0.0273\n     41        \u001b[36m1.3010\u001b[0m        1.1596  0.0695\n     42        1.3045        1.1557  0.0275\n     43        \u001b[36m1.2977\u001b[0m        \u001b[32m1.1432\u001b[0m  0.0637\n     44        \u001b[36m1.2891\u001b[0m        \u001b[32m1.1413\u001b[0m  0.0174\n     45        \u001b[36m1.2835\u001b[0m        \u001b[32m1.1338\u001b[0m  0.0649\n     46        \u001b[36m1.2736\u001b[0m        \u001b[32m1.1252\u001b[0m  0.0365\n     47        \u001b[36m1.2649\u001b[0m        1.1293  0.0599\n     48        \u001b[36m1.2631\u001b[0m        1.1308  0.0270\n     49        \u001b[36m1.2601\u001b[0m        \u001b[32m1.1213\u001b[0m  0.0234\n     50        \u001b[36m1.2524\u001b[0m        \u001b[32m1.1140\u001b[0m  0.0280\n     51        \u001b[36m1.2450\u001b[0m        \u001b[32m1.1128\u001b[0m  0.0211\n     52        \u001b[36m1.2401\u001b[0m        \u001b[32m1.1094\u001b[0m  0.0624\n     53        \u001b[36m1.2346\u001b[0m        \u001b[32m1.1066\u001b[0m  0.0176\n     54        \u001b[36m1.2298\u001b[0m        \u001b[32m1.1050\u001b[0m  0.0666\n     55        \u001b[36m1.2259\u001b[0m        \u001b[32m1.0976\u001b[0m  0.0232\n     56        \u001b[36m1.2186\u001b[0m        \u001b[32m1.0897\u001b[0m  0.0220\n     57        \u001b[36m1.2109\u001b[0m        \u001b[32m1.0877\u001b[0m  0.0626\n     58        \u001b[36m1.2064\u001b[0m        \u001b[32m1.0859\u001b[0m  0.0202\n     59        \u001b[36m1.2023\u001b[0m        \u001b[32m1.0823\u001b[0m  0.0700\n     60        \u001b[36m1.1976\u001b[0m        \u001b[32m1.0795\u001b[0m  0.0198\n     61        \u001b[36m1.1934\u001b[0m        \u001b[32m1.0751\u001b[0m  0.0694\n     62        \u001b[36m1.1883\u001b[0m        \u001b[32m1.0701\u001b[0m  0.0210\n     63        \u001b[36m1.1827\u001b[0m        \u001b[32m1.0682\u001b[0m  0.0181\n     64        \u001b[36m1.1788\u001b[0m        \u001b[32m1.0669\u001b[0m  0.0690\n     65        \u001b[36m1.1754\u001b[0m        \u001b[32m1.0635\u001b[0m  0.0176\n     66        \u001b[36m1.1709\u001b[0m        \u001b[32m1.0601\u001b[0m  0.0621\n     67        \u001b[36m1.1665\u001b[0m        \u001b[32m1.0570\u001b[0m  0.0178\n     68        \u001b[36m1.1622\u001b[0m        \u001b[32m1.0538\u001b[0m  0.0184\n     69        \u001b[36m1.1578\u001b[0m        \u001b[32m1.0518\u001b[0m  0.0582\n     70        \u001b[36m1.1540\u001b[0m        \u001b[32m1.0503\u001b[0m  0.0295\n     71        \u001b[36m1.1507\u001b[0m        \u001b[32m1.0474\u001b[0m  0.0249\n     72        \u001b[36m1.1467\u001b[0m        \u001b[32m1.0446\u001b[0m  0.0213\n     73        \u001b[36m1.1427\u001b[0m        \u001b[32m1.0427\u001b[0m  0.0209\n     74        \u001b[36m1.1391\u001b[0m        \u001b[32m1.0408\u001b[0m  0.0633\n     75        \u001b[36m1.1355\u001b[0m        \u001b[32m1.0391\u001b[0m  0.0210\n     76        \u001b[36m1.1322\u001b[0m        \u001b[32m1.0376\u001b[0m  0.0188\n     77        \u001b[36m1.1290\u001b[0m        \u001b[32m1.0355\u001b[0m  0.0235\n     78        \u001b[36m1.1255\u001b[0m        \u001b[32m1.0334\u001b[0m  0.0188\n     79        \u001b[36m1.1220\u001b[0m        \u001b[32m1.0322\u001b[0m  0.0634\n     80        \u001b[36m1.1189\u001b[0m        \u001b[32m1.0311\u001b[0m  0.0206\n     81        \u001b[36m1.1160\u001b[0m        \u001b[32m1.0298\u001b[0m  0.0208\n     82        \u001b[36m1.1130\u001b[0m        \u001b[32m1.0287\u001b[0m  0.0608\n     83        \u001b[36m1.1101\u001b[0m        \u001b[32m1.0275\u001b[0m  0.0257\n     84        \u001b[36m1.1072\u001b[0m        \u001b[32m1.0262\u001b[0m  0.0655\n     85        \u001b[36m1.1043\u001b[0m        \u001b[32m1.0254\u001b[0m  0.0200\n     86        \u001b[36m1.1016\u001b[0m        \u001b[32m1.0247\u001b[0m  0.0678\n     87        \u001b[36m1.0990\u001b[0m        \u001b[32m1.0237\u001b[0m  0.0269\n     88        \u001b[36m1.0963\u001b[0m        \u001b[32m1.0229\u001b[0m  0.0234\n     89        \u001b[36m1.0937\u001b[0m        \u001b[32m1.0222\u001b[0m  0.0236\n     90        \u001b[36m1.0912\u001b[0m        \u001b[32m1.0215\u001b[0m  0.0209\n     91        \u001b[36m1.0888\u001b[0m        \u001b[32m1.0210\u001b[0m  0.0599\n     92        \u001b[36m1.0865\u001b[0m        \u001b[32m1.0206\u001b[0m  0.0190\n     93        \u001b[36m1.0842\u001b[0m        \u001b[32m1.0201\u001b[0m  0.0197\n     94        \u001b[36m1.0820\u001b[0m        \u001b[32m1.0197\u001b[0m  0.0631\n     95        \u001b[36m1.0798\u001b[0m        \u001b[32m1.0194\u001b[0m  0.0189\n     96        \u001b[36m1.0777\u001b[0m        \u001b[32m1.0192\u001b[0m  0.0683\n     97        \u001b[36m1.0757\u001b[0m        \u001b[32m1.0189\u001b[0m  0.0212\n     98        \u001b[36m1.0737\u001b[0m        \u001b[32m1.0187\u001b[0m  0.0201\n     99        \u001b[36m1.0718\u001b[0m        \u001b[32m1.0185\u001b[0m  0.0634\n    100        \u001b[36m1.0699\u001b[0m        \u001b[32m1.0183\u001b[0m  0.0199\n    101        \u001b[36m1.0681\u001b[0m        \u001b[32m1.0183\u001b[0m  0.0621\n    102        \u001b[36m1.0663\u001b[0m        \u001b[32m1.0182\u001b[0m  0.0200\n    103        \u001b[36m1.0646\u001b[0m        \u001b[32m1.0181\u001b[0m  0.0185\n    104        \u001b[36m1.0630\u001b[0m        \u001b[32m1.0181\u001b[0m  0.0616\n    105        \u001b[36m1.0613\u001b[0m        \u001b[32m1.0180\u001b[0m  0.0192\n    106        \u001b[36m1.0597\u001b[0m        \u001b[32m1.0180\u001b[0m  0.0173\n    107        \u001b[36m1.0582\u001b[0m        \u001b[32m1.0179\u001b[0m  0.0625\n    108        \u001b[36m1.0567\u001b[0m        \u001b[32m1.0179\u001b[0m  0.0267\n    109        \u001b[36m1.0552\u001b[0m        \u001b[32m1.0179\u001b[0m  0.0622\n    110        \u001b[36m1.0537\u001b[0m        \u001b[32m1.0179\u001b[0m  0.0222\n    111        \u001b[36m1.0523\u001b[0m        \u001b[32m1.0179\u001b[0m  0.0204\n    112        \u001b[36m1.0509\u001b[0m        \u001b[32m1.0178\u001b[0m  0.0710\n    113        \u001b[36m1.0495\u001b[0m        \u001b[32m1.0178\u001b[0m  0.0267\n    114        \u001b[36m1.0482\u001b[0m        \u001b[32m1.0178\u001b[0m  0.0585\n    115        \u001b[36m1.0468\u001b[0m        \u001b[32m1.0177\u001b[0m  0.0168\n    116        \u001b[36m1.0455\u001b[0m        \u001b[32m1.0177\u001b[0m  0.0189\n    117        \u001b[36m1.0442\u001b[0m        \u001b[32m1.0176\u001b[0m  0.0616\n    118        \u001b[36m1.0430\u001b[0m        \u001b[32m1.0176\u001b[0m  0.0163\n    119        \u001b[36m1.0417\u001b[0m        \u001b[32m1.0175\u001b[0m  0.0654\n    120        \u001b[36m1.0405\u001b[0m        \u001b[32m1.0174\u001b[0m  0.0195\n    121        \u001b[36m1.0392\u001b[0m        \u001b[32m1.0173\u001b[0m  0.0195\n    122        \u001b[36m1.0380\u001b[0m        \u001b[32m1.0172\u001b[0m  0.0629\n    123        \u001b[36m1.0368\u001b[0m        \u001b[32m1.0171\u001b[0m  0.0187\n    124        \u001b[36m1.0356\u001b[0m        \u001b[32m1.0170\u001b[0m  0.0187\n    125        \u001b[36m1.0344\u001b[0m        \u001b[32m1.0169\u001b[0m  0.0649\n    126        \u001b[36m1.0332\u001b[0m        \u001b[32m1.0167\u001b[0m  0.0288\n    127        \u001b[36m1.0321\u001b[0m        \u001b[32m1.0166\u001b[0m  0.0658\n    128        \u001b[36m1.0309\u001b[0m        \u001b[32m1.0164\u001b[0m  0.0188\n    129        \u001b[36m1.0298\u001b[0m        \u001b[32m1.0163\u001b[0m  0.0183\n    130        \u001b[36m1.0286\u001b[0m        \u001b[32m1.0161\u001b[0m  0.0625\n    131        \u001b[36m1.0275\u001b[0m        \u001b[32m1.0159\u001b[0m  0.0182\n    132        \u001b[36m1.0264\u001b[0m        \u001b[32m1.0157\u001b[0m  0.0684\n    133        \u001b[36m1.0253\u001b[0m        \u001b[32m1.0155\u001b[0m  0.0191\n    134        \u001b[36m1.0242\u001b[0m        \u001b[32m1.0153\u001b[0m  0.0209\n    135        \u001b[36m1.0230\u001b[0m        \u001b[32m1.0151\u001b[0m  0.0635\n    136        \u001b[36m1.0220\u001b[0m        \u001b[32m1.0149\u001b[0m  0.0188\n    137        \u001b[36m1.0209\u001b[0m        \u001b[32m1.0147\u001b[0m  0.0702\n    138        \u001b[36m1.0198\u001b[0m        \u001b[32m1.0144\u001b[0m  0.0259\n    139        \u001b[36m1.0187\u001b[0m        \u001b[32m1.0142\u001b[0m  0.1919\n    140        \u001b[36m1.0176\u001b[0m        \u001b[32m1.0139\u001b[0m  0.0264\n    141        \u001b[36m1.0166\u001b[0m        \u001b[32m1.0137\u001b[0m  0.0248\n    142        \u001b[36m1.0155\u001b[0m        \u001b[32m1.0134\u001b[0m  0.0253\n    143        \u001b[36m1.0144\u001b[0m        \u001b[32m1.0131\u001b[0m  0.0618\n    144        \u001b[36m1.0134\u001b[0m        \u001b[32m1.0128\u001b[0m  0.0184\n    145        \u001b[36m1.0123\u001b[0m        \u001b[32m1.0125\u001b[0m  0.0222\n    146        \u001b[36m1.0113\u001b[0m        \u001b[32m1.0122\u001b[0m  0.0207\n    147        \u001b[36m1.0103\u001b[0m        \u001b[32m1.0120\u001b[0m  0.0187\n    148        \u001b[36m1.0092\u001b[0m        \u001b[32m1.0116\u001b[0m  0.0747\n    149        \u001b[36m1.0082\u001b[0m        \u001b[32m1.0113\u001b[0m  0.0174\n    150        \u001b[36m1.0072\u001b[0m        \u001b[32m1.0110\u001b[0m  0.0673\n    151        \u001b[36m1.0062\u001b[0m        \u001b[32m1.0107\u001b[0m  0.0273\n    152        \u001b[36m1.0052\u001b[0m        \u001b[32m1.0104\u001b[0m  0.0661\n    153        \u001b[36m1.0041\u001b[0m        \u001b[32m1.0100\u001b[0m  0.0191\n    154        \u001b[36m1.0031\u001b[0m        \u001b[32m1.0097\u001b[0m  0.0200\n    155        \u001b[36m1.0021\u001b[0m        \u001b[32m1.0094\u001b[0m  0.0674\n    156        \u001b[36m1.0011\u001b[0m        \u001b[32m1.0090\u001b[0m  0.0193\n    157        \u001b[36m1.0001\u001b[0m        \u001b[32m1.0087\u001b[0m  0.0621\n    158        \u001b[36m0.9992\u001b[0m        \u001b[32m1.0083\u001b[0m  0.0229\n    159        \u001b[36m0.9982\u001b[0m        \u001b[32m1.0080\u001b[0m  0.0184\n    160        \u001b[36m0.9972\u001b[0m        \u001b[32m1.0076\u001b[0m  0.0622\n    161        \u001b[36m0.9962\u001b[0m        \u001b[32m1.0073\u001b[0m  0.0274\n    162        \u001b[36m0.9952\u001b[0m        \u001b[32m1.0069\u001b[0m  0.0643\n    163        \u001b[36m0.9943\u001b[0m        \u001b[32m1.0065\u001b[0m  0.0244\n    164        \u001b[36m0.9933\u001b[0m        \u001b[32m1.0062\u001b[0m  0.0715\n    165        \u001b[36m0.9923\u001b[0m        \u001b[32m1.0058\u001b[0m  0.0236\n    166        \u001b[36m0.9914\u001b[0m        \u001b[32m1.0054\u001b[0m  0.0177\n    167        \u001b[36m0.9904\u001b[0m        \u001b[32m1.0051\u001b[0m  0.0678\n    168        \u001b[36m0.9895\u001b[0m        \u001b[32m1.0047\u001b[0m  0.0169\n    169        \u001b[36m0.9885\u001b[0m        \u001b[32m1.0043\u001b[0m  0.0689\n    170        \u001b[36m0.9876\u001b[0m        \u001b[32m1.0039\u001b[0m  0.0175\n    171        \u001b[36m0.9866\u001b[0m        \u001b[32m1.0035\u001b[0m  0.0179\n    172        \u001b[36m0.9857\u001b[0m        \u001b[32m1.0031\u001b[0m  0.0636\n    173        \u001b[36m0.9847\u001b[0m        \u001b[32m1.0027\u001b[0m  0.0181\n    174        \u001b[36m0.9838\u001b[0m        \u001b[32m1.0023\u001b[0m  0.0626\n    175        \u001b[36m0.9829\u001b[0m        \u001b[32m1.0019\u001b[0m  0.0177\n    176        \u001b[36m0.9819\u001b[0m        \u001b[32m1.0015\u001b[0m  0.0176\n    177        \u001b[36m0.9810\u001b[0m        \u001b[32m1.0011\u001b[0m  0.0664\n    178        \u001b[36m0.9801\u001b[0m        \u001b[32m1.0007\u001b[0m  0.0178\n    179        \u001b[36m0.9791\u001b[0m        \u001b[32m1.0003\u001b[0m  0.0170\n    180        \u001b[36m0.9782\u001b[0m        \u001b[32m0.9999\u001b[0m  0.0594\n    181        \u001b[36m0.9773\u001b[0m        \u001b[32m0.9995\u001b[0m  0.0180\n    182        \u001b[36m0.9764\u001b[0m        \u001b[32m0.9991\u001b[0m  0.0182\n    183        \u001b[36m0.9754\u001b[0m        \u001b[32m0.9986\u001b[0m  0.0655\n    184        \u001b[36m0.9745\u001b[0m        \u001b[32m0.9982\u001b[0m  0.0181\n    185        \u001b[36m0.9736\u001b[0m        \u001b[32m0.9978\u001b[0m  0.0172\n    186        \u001b[36m0.9727\u001b[0m        \u001b[32m0.9974\u001b[0m  0.0637\n    187        \u001b[36m0.9717\u001b[0m        \u001b[32m0.9969\u001b[0m  0.0197\n    188        \u001b[36m0.9708\u001b[0m        \u001b[32m0.9965\u001b[0m  0.0699\n    189        \u001b[36m0.9699\u001b[0m        \u001b[32m0.9961\u001b[0m  0.0198\n    190        \u001b[36m0.9690\u001b[0m        \u001b[32m0.9956\u001b[0m  0.0192\n    191        \u001b[36m0.9681\u001b[0m        \u001b[32m0.9952\u001b[0m  0.0688\n    192        \u001b[36m0.9672\u001b[0m        \u001b[32m0.9947\u001b[0m  0.0199\n    193        \u001b[36m0.9662\u001b[0m        \u001b[32m0.9943\u001b[0m  0.0598\n    194        \u001b[36m0.9653\u001b[0m        \u001b[32m0.9938\u001b[0m  0.0205\n    195        \u001b[36m0.9644\u001b[0m        \u001b[32m0.9934\u001b[0m  0.0774\n    196        \u001b[36m0.9635\u001b[0m        \u001b[32m0.9929\u001b[0m  0.0257\n    197        \u001b[36m0.9626\u001b[0m        \u001b[32m0.9925\u001b[0m  0.0642\n    198        \u001b[36m0.9616\u001b[0m        \u001b[32m0.9920\u001b[0m  0.0261\n    199        \u001b[36m0.9607\u001b[0m        \u001b[32m0.9915\u001b[0m  0.0670\n    200        \u001b[36m0.9598\u001b[0m        \u001b[32m0.9911\u001b[0m  0.0196\n    201        \u001b[36m0.9589\u001b[0m        \u001b[32m0.9906\u001b[0m  0.0187\n    202        \u001b[36m0.9580\u001b[0m        \u001b[32m0.9902\u001b[0m  0.0631\n    203        \u001b[36m0.9571\u001b[0m        \u001b[32m0.9897\u001b[0m  0.0192\n    204        \u001b[36m0.9561\u001b[0m        \u001b[32m0.9892\u001b[0m  0.0702\n    205        \u001b[36m0.9552\u001b[0m        \u001b[32m0.9887\u001b[0m  0.0242\n    206        \u001b[36m0.9543\u001b[0m        \u001b[32m0.9883\u001b[0m  0.0180\n    207        \u001b[36m0.9534\u001b[0m        \u001b[32m0.9878\u001b[0m  0.0632\n    208        \u001b[36m0.9525\u001b[0m        \u001b[32m0.9873\u001b[0m  0.0174\n    209        \u001b[36m0.9515\u001b[0m        \u001b[32m0.9868\u001b[0m  0.0209\n    210        \u001b[36m0.9506\u001b[0m        \u001b[32m0.9863\u001b[0m  0.0303\n    211        \u001b[36m0.9497\u001b[0m        \u001b[32m0.9859\u001b[0m  0.0193\n    212        \u001b[36m0.9488\u001b[0m        \u001b[32m0.9854\u001b[0m  0.0640\n    213        \u001b[36m0.9479\u001b[0m        \u001b[32m0.9849\u001b[0m  0.0189\n    214        \u001b[36m0.9469\u001b[0m        \u001b[32m0.9844\u001b[0m  0.0679\n    215        \u001b[36m0.9460\u001b[0m        \u001b[32m0.9839\u001b[0m  0.0209\n    216        \u001b[36m0.9451\u001b[0m        \u001b[32m0.9834\u001b[0m  0.0678\n    217        \u001b[36m0.9442\u001b[0m        \u001b[32m0.9829\u001b[0m  0.0242\n    218        \u001b[36m0.9432\u001b[0m        \u001b[32m0.9824\u001b[0m  0.0252\n    219        \u001b[36m0.9423\u001b[0m        \u001b[32m0.9819\u001b[0m  0.0229\n    220        \u001b[36m0.9414\u001b[0m        \u001b[32m0.9814\u001b[0m  0.0189\n    221        \u001b[36m0.9405\u001b[0m        \u001b[32m0.9809\u001b[0m  0.0643\n    222        \u001b[36m0.9395\u001b[0m        \u001b[32m0.9804\u001b[0m  0.0189\n    223        \u001b[36m0.9386\u001b[0m        \u001b[32m0.9799\u001b[0m  0.0212\n    224        \u001b[36m0.9377\u001b[0m        \u001b[32m0.9794\u001b[0m  0.0636\n    225        \u001b[36m0.9368\u001b[0m        \u001b[32m0.9788\u001b[0m  0.0181\n    226        \u001b[36m0.9358\u001b[0m        \u001b[32m0.9783\u001b[0m  0.0188\n    227        \u001b[36m0.9349\u001b[0m        \u001b[32m0.9778\u001b[0m  0.0207\n    228        \u001b[36m0.9340\u001b[0m        \u001b[32m0.9773\u001b[0m  0.0200\n    229        \u001b[36m0.9331\u001b[0m        \u001b[32m0.9768\u001b[0m  0.0589\n    230        \u001b[36m0.9321\u001b[0m        \u001b[32m0.9763\u001b[0m  0.0265\n    231        \u001b[36m0.9312\u001b[0m        \u001b[32m0.9757\u001b[0m  0.0742\n    232        \u001b[36m0.9303\u001b[0m        \u001b[32m0.9752\u001b[0m  0.0244\n    233        \u001b[36m0.9293\u001b[0m        \u001b[32m0.9747\u001b[0m  0.0204\n    234        \u001b[36m0.9284\u001b[0m        \u001b[32m0.9742\u001b[0m  0.0265\n    235        \u001b[36m0.9275\u001b[0m        \u001b[32m0.9736\u001b[0m  0.0211\n    236        \u001b[36m0.9266\u001b[0m        \u001b[32m0.9731\u001b[0m  0.0608\n    237        \u001b[36m0.9256\u001b[0m        \u001b[32m0.9726\u001b[0m  0.0203\n    238        \u001b[36m0.9247\u001b[0m        \u001b[32m0.9721\u001b[0m  0.0173\n    239        \u001b[36m0.9238\u001b[0m        \u001b[32m0.9715\u001b[0m  0.0284\n    240        \u001b[36m0.9228\u001b[0m        \u001b[32m0.9710\u001b[0m  0.0224\n    241        \u001b[36m0.9219\u001b[0m        \u001b[32m0.9705\u001b[0m  0.0710\n    242        \u001b[36m0.9210\u001b[0m        \u001b[32m0.9699\u001b[0m  0.0211\n    243        \u001b[36m0.9201\u001b[0m        \u001b[32m0.9694\u001b[0m  0.0658\n    244        \u001b[36m0.9191\u001b[0m        \u001b[32m0.9689\u001b[0m  0.0232\n    245        \u001b[36m0.9182\u001b[0m        \u001b[32m0.9683\u001b[0m  0.0618\n    246        \u001b[36m0.9173\u001b[0m        \u001b[32m0.9678\u001b[0m  0.0196\n    247        \u001b[36m0.9163\u001b[0m        \u001b[32m0.9673\u001b[0m  0.0213\n    248        \u001b[36m0.9154\u001b[0m        \u001b[32m0.9667\u001b[0m  0.0595\n    249        \u001b[36m0.9145\u001b[0m        \u001b[32m0.9662\u001b[0m  0.0199\n    250        \u001b[36m0.9136\u001b[0m        \u001b[32m0.9657\u001b[0m  0.0189\n    251        \u001b[36m0.9126\u001b[0m        \u001b[32m0.9651\u001b[0m  0.0226\n    252        \u001b[36m0.9117\u001b[0m        \u001b[32m0.9646\u001b[0m  0.0182\n    253        \u001b[36m0.9108\u001b[0m        \u001b[32m0.9641\u001b[0m  0.0599\n    254        \u001b[36m0.9098\u001b[0m        \u001b[32m0.9636\u001b[0m  0.0196\n    255        \u001b[36m0.9089\u001b[0m        \u001b[32m0.9630\u001b[0m  0.0188\n    256        \u001b[36m0.9080\u001b[0m        \u001b[32m0.9625\u001b[0m  0.0648\n    257        \u001b[36m0.9071\u001b[0m        \u001b[32m0.9620\u001b[0m  0.0247\n    258        \u001b[36m0.9061\u001b[0m        \u001b[32m0.9614\u001b[0m  0.0642\n    259        \u001b[36m0.9052\u001b[0m        \u001b[32m0.9609\u001b[0m  0.0208\n    260        \u001b[36m0.9043\u001b[0m        \u001b[32m0.9604\u001b[0m  0.0227\n    261        \u001b[36m0.9034\u001b[0m        \u001b[32m0.9598\u001b[0m  0.0661\n    262        \u001b[36m0.9024\u001b[0m        \u001b[32m0.9593\u001b[0m  0.0260\n    263        \u001b[36m0.9015\u001b[0m        \u001b[32m0.9588\u001b[0m  0.0674\n    264        \u001b[36m0.9006\u001b[0m        \u001b[32m0.9583\u001b[0m  0.0200\n    265        \u001b[36m0.8997\u001b[0m        \u001b[32m0.9577\u001b[0m  0.0642\n    266        \u001b[36m0.8987\u001b[0m        \u001b[32m0.9572\u001b[0m  0.0217\n    267        \u001b[36m0.8978\u001b[0m        \u001b[32m0.9567\u001b[0m  0.0193\n    268        \u001b[36m0.8969\u001b[0m        \u001b[32m0.9562\u001b[0m  0.0681\n    269        \u001b[36m0.8960\u001b[0m        \u001b[32m0.9557\u001b[0m  0.0189\n    270        \u001b[36m0.8950\u001b[0m        \u001b[32m0.9551\u001b[0m  0.0628\n    271        \u001b[36m0.8941\u001b[0m        \u001b[32m0.9546\u001b[0m  0.0198\n    272        \u001b[36m0.8932\u001b[0m        \u001b[32m0.9541\u001b[0m  0.0189\n    273        \u001b[36m0.8923\u001b[0m        \u001b[32m0.9536\u001b[0m  0.0643\n    274        \u001b[36m0.8914\u001b[0m        \u001b[32m0.9531\u001b[0m  0.0193\n    275        \u001b[36m0.8904\u001b[0m        \u001b[32m0.9526\u001b[0m  0.1672\n    276        \u001b[36m0.8895\u001b[0m        \u001b[32m0.9521\u001b[0m  0.0189\n    277        \u001b[36m0.8886\u001b[0m        \u001b[32m0.9516\u001b[0m  0.0185\n    278        \u001b[36m0.8877\u001b[0m        \u001b[32m0.9511\u001b[0m  0.0709\n    279        \u001b[36m0.8868\u001b[0m        \u001b[32m0.9506\u001b[0m  0.0231\n    280        \u001b[36m0.8859\u001b[0m        \u001b[32m0.9501\u001b[0m  0.0587\n    281        \u001b[36m0.8849\u001b[0m        \u001b[32m0.9496\u001b[0m  0.0211\n    282        \u001b[36m0.8840\u001b[0m        \u001b[32m0.9491\u001b[0m  0.0178\n    283        \u001b[36m0.8831\u001b[0m        \u001b[32m0.9486\u001b[0m  0.0673\n    284        \u001b[36m0.8822\u001b[0m        \u001b[32m0.9481\u001b[0m  0.0191\n    285        \u001b[36m0.8813\u001b[0m        \u001b[32m0.9476\u001b[0m  0.0194\n    286        \u001b[36m0.8804\u001b[0m        \u001b[32m0.9472\u001b[0m  0.0249\n    287        \u001b[36m0.8795\u001b[0m        \u001b[32m0.9467\u001b[0m  0.0269\n    288        \u001b[36m0.8786\u001b[0m        \u001b[32m0.9462\u001b[0m  0.0209\n    289        \u001b[36m0.8777\u001b[0m        \u001b[32m0.9457\u001b[0m  0.0163\n    290        \u001b[36m0.8768\u001b[0m        \u001b[32m0.9453\u001b[0m  0.0643\n    291        \u001b[36m0.8759\u001b[0m        \u001b[32m0.9448\u001b[0m  0.0209\n    292        \u001b[36m0.8750\u001b[0m        \u001b[32m0.9443\u001b[0m  0.0196\n    293        \u001b[36m0.8741\u001b[0m        \u001b[32m0.9439\u001b[0m  0.0258\n    294        \u001b[36m0.8732\u001b[0m        \u001b[32m0.9434\u001b[0m  0.0265\n    295        \u001b[36m0.8723\u001b[0m        \u001b[32m0.9430\u001b[0m  0.0628\n    296        \u001b[36m0.8714\u001b[0m        \u001b[32m0.9425\u001b[0m  0.0178\n    297        \u001b[36m0.8705\u001b[0m        \u001b[32m0.9421\u001b[0m  0.0642\n    298        \u001b[36m0.8696\u001b[0m        \u001b[32m0.9416\u001b[0m  0.0189\n    299        \u001b[36m0.8687\u001b[0m        \u001b[32m0.9412\u001b[0m  0.0232\n    300        \u001b[36m0.8678\u001b[0m        \u001b[32m0.9407\u001b[0m  0.0623\n    301        \u001b[36m0.8669\u001b[0m        \u001b[32m0.9403\u001b[0m  0.0172\n    302        \u001b[36m0.8660\u001b[0m        \u001b[32m0.9399\u001b[0m  0.0648\n    303        \u001b[36m0.8652\u001b[0m        \u001b[32m0.9394\u001b[0m  0.0274\n    304        \u001b[36m0.8643\u001b[0m        \u001b[32m0.9390\u001b[0m  0.0169\n    305        \u001b[36m0.8634\u001b[0m        \u001b[32m0.9386\u001b[0m  0.0684\n    306        \u001b[36m0.8625\u001b[0m        \u001b[32m0.9382\u001b[0m  0.0175\n    307        \u001b[36m0.8617\u001b[0m        \u001b[32m0.9378\u001b[0m  0.0181\n    308        \u001b[36m0.8608\u001b[0m        \u001b[32m0.9373\u001b[0m  0.0179\n    309        \u001b[36m0.8599\u001b[0m        \u001b[32m0.9369\u001b[0m  0.0185\n    310        \u001b[36m0.8590\u001b[0m        \u001b[32m0.9365\u001b[0m  0.0666\n    311        \u001b[36m0.8582\u001b[0m        \u001b[32m0.9361\u001b[0m  0.0243\n    312        \u001b[36m0.8573\u001b[0m        \u001b[32m0.9357\u001b[0m  0.0710\n    313        \u001b[36m0.8564\u001b[0m        \u001b[32m0.9353\u001b[0m  0.0209\n    314        \u001b[36m0.8556\u001b[0m        \u001b[32m0.9349\u001b[0m  0.0194\n    315        \u001b[36m0.8547\u001b[0m        \u001b[32m0.9346\u001b[0m  0.0218\n    316        \u001b[36m0.8539\u001b[0m        \u001b[32m0.9342\u001b[0m  0.0248\n    317        \u001b[36m0.8530\u001b[0m        \u001b[32m0.9338\u001b[0m  0.0608\n    318        \u001b[36m0.8522\u001b[0m        \u001b[32m0.9334\u001b[0m  0.0193\n    319        \u001b[36m0.8513\u001b[0m        \u001b[32m0.9330\u001b[0m  0.0164\n    320        \u001b[36m0.8505\u001b[0m        \u001b[32m0.9327\u001b[0m  0.0695\n    321        \u001b[36m0.8496\u001b[0m        \u001b[32m0.9323\u001b[0m  0.0268\n    322        \u001b[36m0.8488\u001b[0m        \u001b[32m0.9319\u001b[0m  0.0684\n    323        \u001b[36m0.8479\u001b[0m        \u001b[32m0.9316\u001b[0m  0.0268\n    324        \u001b[36m0.8471\u001b[0m        \u001b[32m0.9312\u001b[0m  0.0623\n    325        \u001b[36m0.8462\u001b[0m        \u001b[32m0.9308\u001b[0m  0.0190\n    326        \u001b[36m0.8454\u001b[0m        \u001b[32m0.9305\u001b[0m  0.0179\n    327        \u001b[36m0.8446\u001b[0m        \u001b[32m0.9301\u001b[0m  0.0178\n    328        \u001b[36m0.8437\u001b[0m        \u001b[32m0.9298\u001b[0m  0.0225\n    329        \u001b[36m0.8429\u001b[0m        \u001b[32m0.9294\u001b[0m  0.0570\n    330        \u001b[36m0.8421\u001b[0m        \u001b[32m0.9291\u001b[0m  0.0211\n    331        \u001b[36m0.8413\u001b[0m        \u001b[32m0.9287\u001b[0m  0.0192\n    332        \u001b[36m0.8404\u001b[0m        \u001b[32m0.9284\u001b[0m  0.0635\n    333        \u001b[36m0.8396\u001b[0m        \u001b[32m0.9281\u001b[0m  0.0185\n    334        \u001b[36m0.8388\u001b[0m        \u001b[32m0.9277\u001b[0m  0.0208\n    335        \u001b[36m0.8380\u001b[0m        \u001b[32m0.9274\u001b[0m  0.0650\n    336        \u001b[36m0.8372\u001b[0m        \u001b[32m0.9271\u001b[0m  0.0199\n    337        \u001b[36m0.8364\u001b[0m        \u001b[32m0.9267\u001b[0m  0.0626\n    338        \u001b[36m0.8355\u001b[0m        \u001b[32m0.9264\u001b[0m  0.0197\n    339        \u001b[36m0.8347\u001b[0m        \u001b[32m0.9261\u001b[0m  0.0188\n    340        \u001b[36m0.8339\u001b[0m        \u001b[32m0.9258\u001b[0m  0.0709\n    341        \u001b[36m0.8331\u001b[0m        \u001b[32m0.9255\u001b[0m  0.0238\n    342        \u001b[36m0.8323\u001b[0m        \u001b[32m0.9251\u001b[0m  0.0562\n    343        \u001b[36m0.8315\u001b[0m        \u001b[32m0.9248\u001b[0m  0.0271\n    344        \u001b[36m0.8307\u001b[0m        \u001b[32m0.9245\u001b[0m  0.0665\n    345        \u001b[36m0.8299\u001b[0m        \u001b[32m0.9242\u001b[0m  0.0186\n    346        \u001b[36m0.8291\u001b[0m        \u001b[32m0.9239\u001b[0m  0.0163\n    347        \u001b[36m0.8284\u001b[0m        \u001b[32m0.9236\u001b[0m  0.0640\n    348        \u001b[36m0.8276\u001b[0m        \u001b[32m0.9233\u001b[0m  0.0218\n    349        \u001b[36m0.8268\u001b[0m        \u001b[32m0.9230\u001b[0m  0.0189\n    350        \u001b[36m0.8260\u001b[0m        \u001b[32m0.9227\u001b[0m  0.0225\n    351        \u001b[36m0.8252\u001b[0m        \u001b[32m0.9224\u001b[0m  0.0229\n    352        \u001b[36m0.8244\u001b[0m        \u001b[32m0.9221\u001b[0m  0.0610\n    353        \u001b[36m0.8237\u001b[0m        \u001b[32m0.9218\u001b[0m  0.0233\n    354        \u001b[36m0.8229\u001b[0m        \u001b[32m0.9215\u001b[0m  0.0642\n    355        \u001b[36m0.8221\u001b[0m        \u001b[32m0.9213\u001b[0m  0.0267\n    356        \u001b[36m0.8213\u001b[0m        \u001b[32m0.9210\u001b[0m  0.0709\n    357        \u001b[36m0.8206\u001b[0m        \u001b[32m0.9207\u001b[0m  0.0213\n    358        \u001b[36m0.8198\u001b[0m        \u001b[32m0.9204\u001b[0m  0.0211\n    359        \u001b[36m0.8190\u001b[0m        \u001b[32m0.9201\u001b[0m  0.0646\n    360        \u001b[36m0.8183\u001b[0m        \u001b[32m0.9198\u001b[0m  0.0191\n    361        \u001b[36m0.8175\u001b[0m        \u001b[32m0.9196\u001b[0m  0.0638\n    362        \u001b[36m0.8168\u001b[0m        \u001b[32m0.9193\u001b[0m  0.0196\n    363        \u001b[36m0.8160\u001b[0m        \u001b[32m0.9190\u001b[0m  0.0176\n    364        \u001b[36m0.8152\u001b[0m        \u001b[32m0.9188\u001b[0m  0.0718\n    365        \u001b[36m0.8145\u001b[0m        \u001b[32m0.9185\u001b[0m  0.0217\n    366        \u001b[36m0.8137\u001b[0m        \u001b[32m0.9182\u001b[0m  0.0610\n    367        \u001b[36m0.8130\u001b[0m        \u001b[32m0.9180\u001b[0m  0.0187\n    368        \u001b[36m0.8122\u001b[0m        \u001b[32m0.9177\u001b[0m  0.0725\n    369        \u001b[36m0.8115\u001b[0m        \u001b[32m0.9174\u001b[0m  0.0285\n    370        \u001b[36m0.8108\u001b[0m        \u001b[32m0.9172\u001b[0m  0.0716\n    371        \u001b[36m0.8100\u001b[0m        \u001b[32m0.9169\u001b[0m  0.0247\n    372        \u001b[36m0.8093\u001b[0m        \u001b[32m0.9167\u001b[0m  0.0180\n    373        \u001b[36m0.8085\u001b[0m        \u001b[32m0.9164\u001b[0m  0.0202\n    374        \u001b[36m0.8078\u001b[0m        \u001b[32m0.9161\u001b[0m  0.0184\n    375        \u001b[36m0.8071\u001b[0m        \u001b[32m0.9159\u001b[0m  0.0612\n    376        \u001b[36m0.8063\u001b[0m        \u001b[32m0.9156\u001b[0m  0.0229\n    377        \u001b[36m0.8056\u001b[0m        \u001b[32m0.9154\u001b[0m  0.0192\n    378        \u001b[36m0.8049\u001b[0m        \u001b[32m0.9151\u001b[0m  0.0183\n    379        \u001b[36m0.8041\u001b[0m        \u001b[32m0.9149\u001b[0m  0.0174\n    380        \u001b[36m0.8034\u001b[0m        \u001b[32m0.9147\u001b[0m  0.0642\n    381        \u001b[36m0.8027\u001b[0m        \u001b[32m0.9144\u001b[0m  0.0256\n    382        \u001b[36m0.8020\u001b[0m        \u001b[32m0.9142\u001b[0m  0.0208\n    383        \u001b[36m0.8013\u001b[0m        \u001b[32m0.9139\u001b[0m  0.0183\n    384        \u001b[36m0.8005\u001b[0m        \u001b[32m0.9137\u001b[0m  0.0177\n    385        \u001b[36m0.7998\u001b[0m        \u001b[32m0.9135\u001b[0m  0.0616\n    386        \u001b[36m0.7991\u001b[0m        \u001b[32m0.9132\u001b[0m  0.0206\n    387        \u001b[36m0.7984\u001b[0m        \u001b[32m0.9130\u001b[0m  0.0241\n    388        \u001b[36m0.7977\u001b[0m        \u001b[32m0.9128\u001b[0m  0.0701\n    389        \u001b[36m0.7970\u001b[0m        \u001b[32m0.9125\u001b[0m  0.0186\n    390        \u001b[36m0.7962\u001b[0m        \u001b[32m0.9123\u001b[0m  0.0648\n    391        \u001b[36m0.7955\u001b[0m        \u001b[32m0.9121\u001b[0m  0.0266\n    392        \u001b[36m0.7948\u001b[0m        \u001b[32m0.9118\u001b[0m  0.1680\n    393        \u001b[36m0.7941\u001b[0m        \u001b[32m0.9116\u001b[0m  0.0215\n    394        \u001b[36m0.7934\u001b[0m        \u001b[32m0.9114\u001b[0m  0.0236\n    395        \u001b[36m0.7927\u001b[0m        \u001b[32m0.9112\u001b[0m  0.0210\n    396        \u001b[36m0.7920\u001b[0m        \u001b[32m0.9110\u001b[0m  0.0189\n    397        \u001b[36m0.7913\u001b[0m        \u001b[32m0.9107\u001b[0m  0.0684\n    398        \u001b[36m0.7906\u001b[0m        \u001b[32m0.9105\u001b[0m  0.0200\n    399        \u001b[36m0.7899\u001b[0m        \u001b[32m0.9103\u001b[0m  0.0174\n    400        \u001b[36m0.7892\u001b[0m        \u001b[32m0.9101\u001b[0m  0.0628\n    401        \u001b[36m0.7885\u001b[0m        \u001b[32m0.9099\u001b[0m  0.0180\n    402        \u001b[36m0.7878\u001b[0m        \u001b[32m0.9097\u001b[0m  0.0680\n    403        \u001b[36m0.7871\u001b[0m        \u001b[32m0.9095\u001b[0m  0.0184\n    404        \u001b[36m0.7865\u001b[0m        \u001b[32m0.9093\u001b[0m  0.0192\n    405        \u001b[36m0.7858\u001b[0m        \u001b[32m0.9091\u001b[0m  0.0660\n    406        \u001b[36m0.7851\u001b[0m        \u001b[32m0.9089\u001b[0m  0.0219\n    407        \u001b[36m0.7844\u001b[0m        \u001b[32m0.9087\u001b[0m  0.0672\n    408        \u001b[36m0.7837\u001b[0m        \u001b[32m0.9085\u001b[0m  0.0199\n    409        \u001b[36m0.7830\u001b[0m        \u001b[32m0.9083\u001b[0m  0.0222\n    410        \u001b[36m0.7823\u001b[0m        \u001b[32m0.9081\u001b[0m  0.0264\n    411        \u001b[36m0.7817\u001b[0m        \u001b[32m0.9079\u001b[0m  0.0209\n    412        \u001b[36m0.7810\u001b[0m        \u001b[32m0.9077\u001b[0m  0.0652\n    413        \u001b[36m0.7803\u001b[0m        \u001b[32m0.9075\u001b[0m  0.0264\n    414        \u001b[36m0.7796\u001b[0m        \u001b[32m0.9073\u001b[0m  0.0702\n    415        \u001b[36m0.7789\u001b[0m        \u001b[32m0.9071\u001b[0m  0.0267\n    416        \u001b[36m0.7783\u001b[0m        \u001b[32m0.9069\u001b[0m  0.0707\n    417        \u001b[36m0.7776\u001b[0m        \u001b[32m0.9067\u001b[0m  0.0236\n    418        \u001b[36m0.7769\u001b[0m        \u001b[32m0.9066\u001b[0m  0.0690\n    419        \u001b[36m0.7762\u001b[0m        \u001b[32m0.9064\u001b[0m  0.0189\n    420        \u001b[36m0.7756\u001b[0m        \u001b[32m0.9062\u001b[0m  0.0676\n    421        \u001b[36m0.7749\u001b[0m        \u001b[32m0.9060\u001b[0m  0.0282\n    422        \u001b[36m0.7742\u001b[0m        \u001b[32m0.9058\u001b[0m  0.0708\n    423        \u001b[36m0.7736\u001b[0m        \u001b[32m0.9057\u001b[0m  0.0208\n    424        \u001b[36m0.7729\u001b[0m        \u001b[32m0.9055\u001b[0m  0.0180\n    425        \u001b[36m0.7722\u001b[0m        \u001b[32m0.9053\u001b[0m  0.0676\n    426        \u001b[36m0.7716\u001b[0m        \u001b[32m0.9052\u001b[0m  0.0267\n    427        \u001b[36m0.7709\u001b[0m        \u001b[32m0.9050\u001b[0m  0.0638\n    428        \u001b[36m0.7702\u001b[0m        \u001b[32m0.9048\u001b[0m  0.0300\n    429        \u001b[36m0.7696\u001b[0m        \u001b[32m0.9047\u001b[0m  0.0626\n    430        \u001b[36m0.7689\u001b[0m        \u001b[32m0.9045\u001b[0m  0.0197\n    431        \u001b[36m0.7682\u001b[0m        \u001b[32m0.9043\u001b[0m  0.0208\n    432        \u001b[36m0.7676\u001b[0m        \u001b[32m0.9042\u001b[0m  0.0262\n    433        \u001b[36m0.7669\u001b[0m        \u001b[32m0.9040\u001b[0m  0.0225\n    434        \u001b[36m0.7663\u001b[0m        \u001b[32m0.9039\u001b[0m  0.0607\n    435        \u001b[36m0.7656\u001b[0m        \u001b[32m0.9037\u001b[0m  0.0196\n    436        \u001b[36m0.7649\u001b[0m        \u001b[32m0.9036\u001b[0m  0.0642\n    437        \u001b[36m0.7643\u001b[0m        \u001b[32m0.9034\u001b[0m  0.0197\n    438        \u001b[36m0.7636\u001b[0m        \u001b[32m0.9033\u001b[0m  0.0239\n    439        \u001b[36m0.7630\u001b[0m        \u001b[32m0.9031\u001b[0m  0.0767\n    440        \u001b[36m0.7623\u001b[0m        \u001b[32m0.9030\u001b[0m  0.0276\n    441        \u001b[36m0.7617\u001b[0m        \u001b[32m0.9028\u001b[0m  0.0279\n    442        \u001b[36m0.7610\u001b[0m        \u001b[32m0.9027\u001b[0m  0.0712\n    443        \u001b[36m0.7604\u001b[0m        \u001b[32m0.9026\u001b[0m  0.0288\n    444        \u001b[36m0.7597\u001b[0m        \u001b[32m0.9024\u001b[0m  0.0225\n    445        \u001b[36m0.7591\u001b[0m        \u001b[32m0.9023\u001b[0m  0.0219\n    446        \u001b[36m0.7584\u001b[0m        \u001b[32m0.9022\u001b[0m  0.0206\n    447        \u001b[36m0.7578\u001b[0m        \u001b[32m0.9020\u001b[0m  0.0631\n    448        \u001b[36m0.7571\u001b[0m        \u001b[32m0.9019\u001b[0m  0.0231\n    449        \u001b[36m0.7565\u001b[0m        \u001b[32m0.9018\u001b[0m  0.0673\n    450        \u001b[36m0.7558\u001b[0m        \u001b[32m0.9017\u001b[0m  0.0274\n    451        \u001b[36m0.7552\u001b[0m        \u001b[32m0.9015\u001b[0m  0.0208\n    452        \u001b[36m0.7545\u001b[0m        \u001b[32m0.9014\u001b[0m  0.0598\n    453        \u001b[36m0.7539\u001b[0m        \u001b[32m0.9013\u001b[0m  0.0185\n    454        \u001b[36m0.7533\u001b[0m        \u001b[32m0.9012\u001b[0m  0.0733\n    455        \u001b[36m0.7526\u001b[0m        \u001b[32m0.9011\u001b[0m  0.0203\n    456        \u001b[36m0.7520\u001b[0m        \u001b[32m0.9009\u001b[0m  0.0695\n    457        \u001b[36m0.7513\u001b[0m        \u001b[32m0.9008\u001b[0m  0.0192\n    458        \u001b[36m0.7507\u001b[0m        \u001b[32m0.9007\u001b[0m  0.0216\n    459        \u001b[36m0.7501\u001b[0m        \u001b[32m0.9006\u001b[0m  0.0679\n    460        \u001b[36m0.7494\u001b[0m        \u001b[32m0.9005\u001b[0m  0.0243\n    461        \u001b[36m0.7488\u001b[0m        \u001b[32m0.9004\u001b[0m  0.0594\n    462        \u001b[36m0.7481\u001b[0m        \u001b[32m0.9003\u001b[0m  0.0194\n    463        \u001b[36m0.7475\u001b[0m        \u001b[32m0.9002\u001b[0m  0.0198\n    464        \u001b[36m0.7469\u001b[0m        \u001b[32m0.9001\u001b[0m  0.0645\n    465        \u001b[36m0.7462\u001b[0m        \u001b[32m0.9000\u001b[0m  0.0200\n    466        \u001b[36m0.7456\u001b[0m        \u001b[32m0.8999\u001b[0m  0.0686\n    467        \u001b[36m0.7450\u001b[0m        \u001b[32m0.8998\u001b[0m  0.0186\n    468        \u001b[36m0.7443\u001b[0m        \u001b[32m0.8997\u001b[0m  0.0178\n    469        \u001b[36m0.7437\u001b[0m        \u001b[32m0.8996\u001b[0m  0.0695\n    470        \u001b[36m0.7431\u001b[0m        \u001b[32m0.8996\u001b[0m  0.0219\n    471        \u001b[36m0.7424\u001b[0m        \u001b[32m0.8995\u001b[0m  0.0715\n    472        \u001b[36m0.7418\u001b[0m        \u001b[32m0.8994\u001b[0m  0.0188\n    473        \u001b[36m0.7412\u001b[0m        \u001b[32m0.8993\u001b[0m  0.0571\n    474        \u001b[36m0.7405\u001b[0m        \u001b[32m0.8992\u001b[0m  0.0187\n    475        \u001b[36m0.7399\u001b[0m        \u001b[32m0.8991\u001b[0m  0.0198\n    476        \u001b[36m0.7393\u001b[0m        \u001b[32m0.8991\u001b[0m  0.0618\n    477        \u001b[36m0.7387\u001b[0m        \u001b[32m0.8990\u001b[0m  0.0186\n    478        \u001b[36m0.7380\u001b[0m        \u001b[32m0.8989\u001b[0m  0.0174\n    479        \u001b[36m0.7374\u001b[0m        \u001b[32m0.8989\u001b[0m  0.0660\n    480        \u001b[36m0.7368\u001b[0m        \u001b[32m0.8988\u001b[0m  0.0172\n    481        \u001b[36m0.7361\u001b[0m        \u001b[32m0.8987\u001b[0m  0.0169\n    482        \u001b[36m0.7355\u001b[0m        \u001b[32m0.8986\u001b[0m  0.0212\n    483        \u001b[36m0.7349\u001b[0m        \u001b[32m0.8986\u001b[0m  0.0194\n    484        \u001b[36m0.7343\u001b[0m        \u001b[32m0.8985\u001b[0m  0.0621\n    485        \u001b[36m0.7336\u001b[0m        \u001b[32m0.8985\u001b[0m  0.0170\n    486        \u001b[36m0.7330\u001b[0m        \u001b[32m0.8984\u001b[0m  0.0734\n    487        \u001b[36m0.7324\u001b[0m        \u001b[32m0.8983\u001b[0m  0.0292\n    488        \u001b[36m0.7318\u001b[0m        \u001b[32m0.8983\u001b[0m  0.0257\n    489        \u001b[36m0.7312\u001b[0m        \u001b[32m0.8982\u001b[0m  0.0282\n    490        \u001b[36m0.7305\u001b[0m        \u001b[32m0.8982\u001b[0m  0.0205\n    491        \u001b[36m0.7299\u001b[0m        \u001b[32m0.8981\u001b[0m  0.0730\n    492        \u001b[36m0.7293\u001b[0m        \u001b[32m0.8981\u001b[0m  0.0193\n    493        \u001b[36m0.7287\u001b[0m        \u001b[32m0.8980\u001b[0m  0.0644\n    494        \u001b[36m0.7280\u001b[0m        \u001b[32m0.8980\u001b[0m  0.0227\n    495        \u001b[36m0.7274\u001b[0m        \u001b[32m0.8980\u001b[0m  0.0214\n    496        \u001b[36m0.7268\u001b[0m        \u001b[32m0.8979\u001b[0m  0.0246\n    497        \u001b[36m0.7262\u001b[0m        \u001b[32m0.8979\u001b[0m  0.0192\n    498        \u001b[36m0.7256\u001b[0m        \u001b[32m0.8978\u001b[0m  0.0640\n    499        \u001b[36m0.7250\u001b[0m        \u001b[32m0.8978\u001b[0m  0.0255\n    500        \u001b[36m0.7243\u001b[0m        \u001b[32m0.8978\u001b[0m  0.0570\n    501        \u001b[36m0.7237\u001b[0m        \u001b[32m0.8977\u001b[0m  0.0232\n    502        \u001b[36m0.7231\u001b[0m        \u001b[32m0.8977\u001b[0m  0.0193\n    503        \u001b[36m0.7225\u001b[0m        \u001b[32m0.8977\u001b[0m  0.0713\nStopping since valid_loss has not improved in the last 20 epochs.\n",
     "output_type": "stream"
    }
   ],
   "execution_count": 90
  },
  {
   "cell_type": "code",
   "metadata": {
    "cell_id": "5561f041-ba01-4799-bdc5-cfa90e679146",
    "deepnote_to_be_reexecuted": false,
    "execution_millis": 5,
    "execution_start": 1642776844542,
    "source_hash": "a40d1dee",
    "tags": [],
    "deepnote_cell_type": "code"
   },
   "source": "print(f\"MEE: {mee(y, y_predicted)}\")",
   "outputs": [
    {
     "name": "stdout",
     "text": "MEE: 0.931827266953894\n",
     "output_type": "stream"
    }
   ],
   "execution_count": 91
  },
  {
   "cell_type": "code",
   "metadata": {
    "cell_id": "39200a26-cf10-4593-ac0d-00647cdc8818",
    "deepnote_to_be_reexecuted": false,
    "execution_millis": 42,
    "execution_start": 1642776844543,
    "scrolled": true,
    "source_hash": "c9d9c10c",
    "tags": [],
    "deepnote_cell_type": "code"
   },
   "source": "y_predicted_test = model.predict(X_test)\nprint(f\"MEE: {mee(y_test, y_predicted_test)}\")",
   "outputs": [
    {
     "name": "stdout",
     "text": "MEE: 1.0915023296366673\n",
     "output_type": "stream"
    }
   ],
   "execution_count": 92
  },
  {
   "cell_type": "code",
   "metadata": {
    "cell_id": "00047-1278900a-5c15-414d-b46d-f2254348523c",
    "deepnote_to_be_reexecuted": false,
    "source_hash": "9cf21e19",
    "execution_start": 1642776867175,
    "execution_millis": 1,
    "deepnote_cell_type": "code"
   },
   "source": "y_predicted_blind = model.predict(blind_ts)",
   "outputs": [],
   "execution_count": 93
  },
  {
   "cell_type": "code",
   "metadata": {
    "cell_id": "00048-f9f388f8-e87f-4daa-88ef-7d817d5239ab",
    "deepnote_to_be_reexecuted": false,
    "source_hash": "2d02a237",
    "execution_start": 1642776872223,
    "execution_millis": 1,
    "deepnote_cell_type": "code"
   },
   "source": "history = model.history\nEPOCHS = len(history)",
   "outputs": [],
   "execution_count": 95
  },
  {
   "cell_type": "code",
   "metadata": {
    "cell_id": "00049-358c76c2-c408-48e0-987b-fa9c2f4b6a20",
    "deepnote_to_be_reexecuted": false,
    "source_hash": "156f413d",
    "execution_start": 1642776876707,
    "execution_millis": 1,
    "deepnote_cell_type": "code"
   },
   "source": "eval_model = NeuralNetRegressor(\n    module = eval_module,\n    criterion=nn.MSELoss,\n    max_epochs=EPOCHS,\n    lr=LR,\n    batch_size=BATCH,\n    optimizer=torch.optim.SGD,\n    optimizer__momentum=MOMENTUM,\n)",
   "outputs": [],
   "execution_count": 96
  },
  {
   "cell_type": "code",
   "metadata": {
    "cell_id": "fa5297a5-3c1e-49d3-8432-815afda1ab9b",
    "deepnote_output_heights": [
     520.25,
     611
    ],
    "deepnote_to_be_reexecuted": false,
    "execution_millis": 51017,
    "execution_start": 1642776878946,
    "source_hash": "f70dbde2",
    "tags": [],
    "deepnote_cell_type": "code"
   },
   "source": "train_scores, test_scores, train_loss, test_loss = fit_and_score(EPOCHS, eval_model, X, y, X_test, y_test)",
   "outputs": [
    {
     "name": "stdout",
     "text": "  epoch    train_loss    valid_loss     dur\n-------  ------------  ------------  ------\n      1      \u001b[36m232.0912\u001b[0m      \u001b[32m181.5096\u001b[0m  0.0200\n      2      \u001b[36m163.3639\u001b[0m       \u001b[32m17.0799\u001b[0m  0.0263\n      3       \u001b[36m23.4003\u001b[0m       63.0041  0.0618\n      4       61.9609       \u001b[32m15.8648\u001b[0m  0.0178\n      5       \u001b[36m16.6900\u001b[0m       27.5478  0.0664\n      6       23.1176        \u001b[32m8.6311\u001b[0m  0.0173\n      7       \u001b[36m10.5305\u001b[0m       14.8878  0.0250\n      8       14.4669       11.6394  0.0195\n      9       12.4471        \u001b[32m5.8125\u001b[0m  0.0198\n     10        \u001b[36m7.0721\u001b[0m        \u001b[32m3.7871\u001b[0m  0.0161\n     11        \u001b[36m4.7673\u001b[0m        5.1867  0.0179\n     12        5.7621        \u001b[32m2.1118\u001b[0m  0.0214\n     13        \u001b[36m2.6475\u001b[0m        2.6451  0.0182\n     14        3.0170        3.0168  0.0186\n     15        3.0509        \u001b[32m1.8668\u001b[0m  0.0184\n     16        \u001b[36m2.1372\u001b[0m        \u001b[32m1.8051\u001b[0m  0.0183\n     17        \u001b[36m2.0997\u001b[0m        1.8085  0.0271\n     18        \u001b[36m2.0312\u001b[0m        1.9080  0.0273\n     19        2.1102        \u001b[32m1.4741\u001b[0m  0.0161\n     20        \u001b[36m1.7793\u001b[0m        \u001b[32m1.4373\u001b[0m  0.0218\n     21        \u001b[36m1.6996\u001b[0m        1.5825  0.0203\n     22        1.7503        1.4756  0.0183\n     23        \u001b[36m1.6498\u001b[0m        \u001b[32m1.2979\u001b[0m  0.0182\n     24        \u001b[36m1.5329\u001b[0m        1.3350  0.0192\n     25        \u001b[36m1.5188\u001b[0m        1.4850  0.0227\n     26        1.6242        1.3079  0.0183\n     27        \u001b[36m1.4895\u001b[0m        \u001b[32m1.2022\u001b[0m  0.0198\n     28        \u001b[36m1.4208\u001b[0m        1.2295  0.0583\n     29        \u001b[36m1.4165\u001b[0m        1.2861  0.0218\n     30        1.4561        \u001b[32m1.1716\u001b[0m  0.0223\n     31        \u001b[36m1.3796\u001b[0m        \u001b[32m1.1405\u001b[0m  0.0219\n     32        \u001b[36m1.3580\u001b[0m        1.2013  0.0454\n     33        1.3877        1.2088  0.0645\n     34        1.3873        \u001b[32m1.1359\u001b[0m  0.0573\n     35        \u001b[36m1.3345\u001b[0m        \u001b[32m1.1244\u001b[0m  0.0701\n     36        \u001b[36m1.3175\u001b[0m        1.1642  0.0692\n     37        1.3365        1.1419  0.0635\n     38        1.3182        \u001b[32m1.1022\u001b[0m  0.0627\n     39        \u001b[36m1.2908\u001b[0m        1.1129  0.0678\n     40        \u001b[36m1.2900\u001b[0m        1.1340  0.0258\n     41        1.2995        1.1047  0.0292\n     42        \u001b[36m1.2779\u001b[0m        \u001b[32m1.0855\u001b[0m  0.0202\n     43        \u001b[36m1.2621\u001b[0m        1.0991  0.0169\n     44        1.2650        1.0991  0.0267\n     45        1.2623        \u001b[32m1.0729\u001b[0m  0.0172\n     46        \u001b[36m1.2430\u001b[0m        \u001b[32m1.0664\u001b[0m  0.0609\n     47        \u001b[36m1.2342\u001b[0m        1.0775  0.0168\n     48        1.2366        1.0705  0.0169\n     49        \u001b[36m1.2293\u001b[0m        \u001b[32m1.0554\u001b[0m  0.0222\n     50        \u001b[36m1.2169\u001b[0m        1.0568  0.0164\n     51        \u001b[36m1.2139\u001b[0m        1.0614  0.0222\n     52        \u001b[36m1.2136\u001b[0m        \u001b[32m1.0513\u001b[0m  0.0278\n     53        \u001b[36m1.2051\u001b[0m        \u001b[32m1.0428\u001b[0m  0.0216\n     54        \u001b[36m1.1973\u001b[0m        1.0453  0.0166\n     55        \u001b[36m1.1958\u001b[0m        1.0444  0.0180\n     56        \u001b[36m1.1930\u001b[0m        \u001b[32m1.0363\u001b[0m  0.0591\n     57        \u001b[36m1.1860\u001b[0m        \u001b[32m1.0335\u001b[0m  0.0570\n     58        \u001b[36m1.1818\u001b[0m        1.0349  0.0592\n     59        \u001b[36m1.1803\u001b[0m        \u001b[32m1.0306\u001b[0m  0.0240\n     60        \u001b[36m1.1757\u001b[0m        \u001b[32m1.0246\u001b[0m  0.0271\n     61        \u001b[36m1.1700\u001b[0m        \u001b[32m1.0236\u001b[0m  0.0281\n     62        \u001b[36m1.1672\u001b[0m        \u001b[32m1.0225\u001b[0m  0.0193\n     63        \u001b[36m1.1646\u001b[0m        \u001b[32m1.0175\u001b[0m  0.0199\n     64        \u001b[36m1.1598\u001b[0m        \u001b[32m1.0143\u001b[0m  0.0188\n     65        \u001b[36m1.1559\u001b[0m        \u001b[32m1.0141\u001b[0m  0.0211\n     66        \u001b[36m1.1539\u001b[0m        \u001b[32m1.0120\u001b[0m  0.0572\n     67        \u001b[36m1.1508\u001b[0m        \u001b[32m1.0083\u001b[0m  0.0184\n     68        \u001b[36m1.1468\u001b[0m        \u001b[32m1.0068\u001b[0m  0.0167\n     69        \u001b[36m1.1441\u001b[0m        \u001b[32m1.0062\u001b[0m  0.0228\n     70        \u001b[36m1.1420\u001b[0m        \u001b[32m1.0037\u001b[0m  0.0191\n     71        \u001b[36m1.1387\u001b[0m        \u001b[32m1.0013\u001b[0m  0.0190\n     72        \u001b[36m1.1356\u001b[0m        \u001b[32m1.0005\u001b[0m  0.0265\n     73        \u001b[36m1.1334\u001b[0m        \u001b[32m0.9994\u001b[0m  0.0218\n     74        \u001b[36m1.1311\u001b[0m        \u001b[32m0.9973\u001b[0m  0.0268\n     75        \u001b[36m1.1282\u001b[0m        \u001b[32m0.9961\u001b[0m  0.0195\n     76        \u001b[36m1.1258\u001b[0m        \u001b[32m0.9956\u001b[0m  0.0263\n     77        \u001b[36m1.1238\u001b[0m        \u001b[32m0.9943\u001b[0m  0.0251\n     78        \u001b[36m1.1214\u001b[0m        \u001b[32m0.9929\u001b[0m  0.0194\n     79        \u001b[36m1.1189\u001b[0m        \u001b[32m0.9923\u001b[0m  0.0197\n     80        \u001b[36m1.1169\u001b[0m        \u001b[32m0.9916\u001b[0m  0.0215\n     81        \u001b[36m1.1148\u001b[0m        \u001b[32m0.9905\u001b[0m  0.0180\n     82        \u001b[36m1.1125\u001b[0m        \u001b[32m0.9897\u001b[0m  0.0210\n     83        \u001b[36m1.1104\u001b[0m        \u001b[32m0.9894\u001b[0m  0.0217\n     84        \u001b[36m1.1085\u001b[0m        \u001b[32m0.9887\u001b[0m  0.0177\n     85        \u001b[36m1.1064\u001b[0m        \u001b[32m0.9879\u001b[0m  0.0628\n     86        \u001b[36m1.1043\u001b[0m        \u001b[32m0.9875\u001b[0m  0.0626\n     87        \u001b[36m1.1023\u001b[0m        \u001b[32m0.9872\u001b[0m  0.0170\n     88        \u001b[36m1.1005\u001b[0m        \u001b[32m0.9866\u001b[0m  0.0173\n     89        \u001b[36m1.0984\u001b[0m        \u001b[32m0.9862\u001b[0m  0.0235\n     90        \u001b[36m1.0965\u001b[0m        \u001b[32m0.9859\u001b[0m  0.0223\n     91        \u001b[36m1.0947\u001b[0m        \u001b[32m0.9856\u001b[0m  0.0650\n     92        \u001b[36m1.0928\u001b[0m        \u001b[32m0.9853\u001b[0m  0.0166\n     93        \u001b[36m1.0909\u001b[0m        \u001b[32m0.9851\u001b[0m  0.0267\n     94        \u001b[36m1.0891\u001b[0m        \u001b[32m0.9850\u001b[0m  0.0186\n     95        \u001b[36m1.0874\u001b[0m        \u001b[32m0.9848\u001b[0m  0.0180\n     96        \u001b[36m1.0856\u001b[0m        \u001b[32m0.9847\u001b[0m  0.0177\n     97        \u001b[36m1.0839\u001b[0m        \u001b[32m0.9846\u001b[0m  0.0189\n     98        \u001b[36m1.0822\u001b[0m        \u001b[32m0.9846\u001b[0m  0.0546\n     99        \u001b[36m1.0805\u001b[0m        \u001b[32m0.9845\u001b[0m  0.0554\n    100        \u001b[36m1.0788\u001b[0m        0.9845  0.0580\n    101        \u001b[36m1.0771\u001b[0m        0.9846  0.0667\n    102        \u001b[36m1.0755\u001b[0m        0.9846  0.0657\n    103        \u001b[36m1.0739\u001b[0m        0.9846  0.0536\n    104        \u001b[36m1.0723\u001b[0m        0.9847  0.0597\n    105        \u001b[36m1.0707\u001b[0m        0.9848  0.0685\n    106        \u001b[36m1.0691\u001b[0m        0.9849  0.0671\n    107        \u001b[36m1.0675\u001b[0m        0.9850  0.0713\n    108        \u001b[36m1.0660\u001b[0m        0.9852  0.0266\n    109        \u001b[36m1.0645\u001b[0m        0.9853  0.0240\n    110        \u001b[36m1.0629\u001b[0m        0.9855  0.0176\n    111        \u001b[36m1.0614\u001b[0m        0.9857  0.0187\n    112        \u001b[36m1.0599\u001b[0m        0.9858  0.0270\n    113        \u001b[36m1.0584\u001b[0m        0.9860  0.0184\n    114        \u001b[36m1.0570\u001b[0m        0.9863  0.0270\n    115        \u001b[36m1.0555\u001b[0m        0.9865  0.0230\n    116        \u001b[36m1.0540\u001b[0m        0.9867  0.0166\n    117        \u001b[36m1.0526\u001b[0m        0.9870  0.0195\n    118        \u001b[36m1.0511\u001b[0m        0.9873  0.0201\n    119        \u001b[36m1.0497\u001b[0m        0.9876  0.0215\n    120        \u001b[36m1.0482\u001b[0m        0.9879  0.0188\n    121        \u001b[36m1.0468\u001b[0m        0.9882  0.0267\n    122        \u001b[36m1.0453\u001b[0m        0.9885  0.0176\n    123        \u001b[36m1.0439\u001b[0m        0.9888  0.0183\n    124        \u001b[36m1.0425\u001b[0m        0.9892  0.0257\n    125        \u001b[36m1.0411\u001b[0m        0.9895  0.0274\n    126        \u001b[36m1.0397\u001b[0m        0.9899  0.0197\n    127        \u001b[36m1.0382\u001b[0m        0.9903  0.0204\n    128        \u001b[36m1.0368\u001b[0m        0.9906  0.0221\n    129        \u001b[36m1.0354\u001b[0m        0.9910  0.0235\n    130        \u001b[36m1.0340\u001b[0m        0.9914  0.0246\n    131        \u001b[36m1.0326\u001b[0m        0.9918  0.0281\n    132        \u001b[36m1.0312\u001b[0m        0.9922  0.0257\n    133        \u001b[36m1.0298\u001b[0m        0.9926  0.0170\n    134        \u001b[36m1.0284\u001b[0m        0.9931  0.0247\n    135        \u001b[36m1.0270\u001b[0m        0.9935  0.0163\n    136        \u001b[36m1.0256\u001b[0m        0.9939  0.0168\n    137        \u001b[36m1.0242\u001b[0m        0.9943  0.0275\n    138        \u001b[36m1.0228\u001b[0m        0.9947  0.0245\n    139        \u001b[36m1.0214\u001b[0m        0.9951  0.0188\n    140        \u001b[36m1.0200\u001b[0m        0.9955  0.0543\n    141        \u001b[36m1.0187\u001b[0m        0.9958  0.0635\n    142        \u001b[36m1.0173\u001b[0m        0.9962  0.0637\n    143        \u001b[36m1.0159\u001b[0m        0.9965  0.0624\n    144        \u001b[36m1.0145\u001b[0m        0.9968  0.0749\n    145        \u001b[36m1.0132\u001b[0m        0.9972  0.0271\n    146        \u001b[36m1.0118\u001b[0m        0.9975  0.0168\n    147        \u001b[36m1.0104\u001b[0m        0.9977  0.0187\n    148        \u001b[36m1.0091\u001b[0m        0.9980  0.0270\n    149        \u001b[36m1.0077\u001b[0m        0.9982  0.0192\n    150        \u001b[36m1.0064\u001b[0m        0.9985  0.0254\n    151        \u001b[36m1.0050\u001b[0m        0.9987  0.0275\n    152        \u001b[36m1.0037\u001b[0m        0.9989  0.0180\n    153        \u001b[36m1.0024\u001b[0m        0.9990  0.0170\n    154        \u001b[36m1.0010\u001b[0m        0.9992  0.0572\n    155        \u001b[36m0.9997\u001b[0m        0.9993  0.0611\n    156        \u001b[36m0.9984\u001b[0m        0.9995  0.0616\n    157        \u001b[36m0.9971\u001b[0m        0.9996  0.0627\n    158        \u001b[36m0.9958\u001b[0m        0.9997  0.0672\n    159        \u001b[36m0.9945\u001b[0m        0.9998  0.0201\n    160        \u001b[36m0.9932\u001b[0m        0.9999  0.0559\n    161        \u001b[36m0.9919\u001b[0m        0.9999  0.0618\n    162        \u001b[36m0.9907\u001b[0m        1.0000  0.0664\n    163        \u001b[36m0.9894\u001b[0m        1.0001  0.0161\n    164        \u001b[36m0.9881\u001b[0m        1.0001  0.0161\n    165        \u001b[36m0.9869\u001b[0m        1.0002  0.0181\n    166        \u001b[36m0.9856\u001b[0m        1.0002  0.0166\n    167        \u001b[36m0.9844\u001b[0m        1.0002  0.0170\n    168        \u001b[36m0.9831\u001b[0m        1.0003  0.0626\n    169        \u001b[36m0.9819\u001b[0m        1.0003  0.0555\n    170        \u001b[36m0.9807\u001b[0m        1.0003  0.0653\n    171        \u001b[36m0.9795\u001b[0m        1.0003  0.0194\n    172        \u001b[36m0.9783\u001b[0m        1.0003  0.0188\n    173        \u001b[36m0.9771\u001b[0m        1.0003  0.0191\n    174        \u001b[36m0.9759\u001b[0m        1.0003  0.0198\n    175        \u001b[36m0.9747\u001b[0m        1.0003  0.0263\n    176        \u001b[36m0.9735\u001b[0m        1.0003  0.0164\n    177        \u001b[36m0.9723\u001b[0m        1.0003  0.0250\n    178        \u001b[36m0.9711\u001b[0m        1.0003  0.0175\n    179        \u001b[36m0.9700\u001b[0m        1.0003  0.0626\n    180        \u001b[36m0.9688\u001b[0m        1.0003  0.0474\n    181        \u001b[36m0.9677\u001b[0m        1.0003  0.0614\n    182        \u001b[36m0.9665\u001b[0m        1.0003  0.0179\n    183        \u001b[36m0.9654\u001b[0m        1.0003  0.0182\n    184        \u001b[36m0.9643\u001b[0m        1.0003  0.0181\n    185        \u001b[36m0.9632\u001b[0m        1.0002  0.0260\n    186        \u001b[36m0.9620\u001b[0m        1.0002  0.0248\n    187        \u001b[36m0.9609\u001b[0m        1.0002  0.0198\n    188        \u001b[36m0.9598\u001b[0m        1.0002  0.0273\n    189        \u001b[36m0.9587\u001b[0m        1.0001  0.0261\n    190        \u001b[36m0.9577\u001b[0m        1.0001  0.0625\n    191        \u001b[36m0.9566\u001b[0m        1.0001  0.0711\n    192        \u001b[36m0.9555\u001b[0m        1.0000  0.0562\n    193        \u001b[36m0.9544\u001b[0m        1.0000  0.0174\n    194        \u001b[36m0.9534\u001b[0m        1.0000  0.0161\n    195        \u001b[36m0.9523\u001b[0m        0.9999  0.0204\n    196        \u001b[36m0.9513\u001b[0m        0.9999  0.0578\n    197        \u001b[36m0.9502\u001b[0m        0.9998  0.0171\n    198        \u001b[36m0.9492\u001b[0m        0.9998  0.0207\n    199        \u001b[36m0.9482\u001b[0m        0.9997  0.0183\n    200        \u001b[36m0.9471\u001b[0m        0.9997  0.0182\n    201        \u001b[36m0.9461\u001b[0m        0.9996  0.0180\n    202        \u001b[36m0.9451\u001b[0m        0.9996  0.0264\n    203        \u001b[36m0.9441\u001b[0m        0.9995  0.0270\n    204        \u001b[36m0.9431\u001b[0m        0.9995  0.0187\n    205        \u001b[36m0.9421\u001b[0m        0.9994  0.0181\n    206        \u001b[36m0.9411\u001b[0m        0.9993  0.0255\n    207        \u001b[36m0.9401\u001b[0m        0.9993  0.0289\n    208        \u001b[36m0.9391\u001b[0m        0.9992  0.0194\n    209        \u001b[36m0.9381\u001b[0m        0.9991  0.0270\n    210        \u001b[36m0.9372\u001b[0m        0.9990  0.0670\n    211        \u001b[36m0.9362\u001b[0m        0.9990  0.0703\n    212        \u001b[36m0.9352\u001b[0m        0.9989  0.0617\n    213        \u001b[36m0.9343\u001b[0m        0.9988  0.0641\n    214        \u001b[36m0.9333\u001b[0m        0.9987  0.0621\n    215        \u001b[36m0.9324\u001b[0m        0.9986  0.0170\n    216        \u001b[36m0.9314\u001b[0m        0.9986  0.0630\n    217        \u001b[36m0.9305\u001b[0m        0.9985  0.0584\n    218        \u001b[36m0.9296\u001b[0m        0.9984  0.0640\n    219        \u001b[36m0.9286\u001b[0m        0.9983  0.0617\n    220        \u001b[36m0.9277\u001b[0m        0.9982  0.0623\n    221        \u001b[36m0.9268\u001b[0m        0.9981  0.0661\n    222        \u001b[36m0.9259\u001b[0m        0.9980  0.0539\n    223        \u001b[36m0.9249\u001b[0m        0.9979  0.0618\n    224        \u001b[36m0.9240\u001b[0m        0.9978  0.0566\n    225        \u001b[36m0.9231\u001b[0m        0.9977  0.0168\n    226        \u001b[36m0.9222\u001b[0m        0.9976  0.0191\n    227        \u001b[36m0.9213\u001b[0m        0.9975  0.0192\n    228        \u001b[36m0.9204\u001b[0m        0.9974  0.0254\n    229        \u001b[36m0.9195\u001b[0m        0.9972  0.0193\n    230        \u001b[36m0.9186\u001b[0m        0.9971  0.0272\n    231        \u001b[36m0.9177\u001b[0m        0.9970  0.0207\n    232        \u001b[36m0.9168\u001b[0m        0.9969  0.0243\n    233        \u001b[36m0.9159\u001b[0m        0.9968  0.0181\n    234        \u001b[36m0.9150\u001b[0m        0.9966  0.0191\n    235        \u001b[36m0.9141\u001b[0m        0.9965  0.0199\n    236        \u001b[36m0.9133\u001b[0m        0.9964  0.0199\n    237        \u001b[36m0.9124\u001b[0m        0.9962  0.0195\n    238        \u001b[36m0.9115\u001b[0m        0.9961  0.0193\n    239        \u001b[36m0.9106\u001b[0m        0.9960  0.0653\n    240        \u001b[36m0.9098\u001b[0m        0.9958  0.0574\n    241        \u001b[36m0.9089\u001b[0m        0.9957  0.0587\n    242        \u001b[36m0.9080\u001b[0m        0.9956  0.0672\n    243        \u001b[36m0.9072\u001b[0m        0.9954  0.0659\n    244        \u001b[36m0.9063\u001b[0m        0.9953  0.0171\n    245        \u001b[36m0.9054\u001b[0m        0.9951  0.0175\n    246        \u001b[36m0.9046\u001b[0m        0.9950  0.0203\n    247        \u001b[36m0.9037\u001b[0m        0.9948  0.0707\n    248        \u001b[36m0.9028\u001b[0m        0.9947  0.0177\n    249        \u001b[36m0.9020\u001b[0m        0.9945  0.0189\n    250        \u001b[36m0.9011\u001b[0m        0.9944  0.0170\n    251        \u001b[36m0.9003\u001b[0m        0.9942  0.0228\n    252        \u001b[36m0.8994\u001b[0m        0.9940  0.0274\n    253        \u001b[36m0.8986\u001b[0m        0.9939  0.0668\n    254        \u001b[36m0.8977\u001b[0m        0.9937  0.0689\n    255        \u001b[36m0.8969\u001b[0m        0.9936  0.0696\n    256        \u001b[36m0.8960\u001b[0m        0.9934  0.0281\n    257        \u001b[36m0.8952\u001b[0m        0.9932  0.0268\n    258        \u001b[36m0.8943\u001b[0m        0.9931  0.0271\n    259        \u001b[36m0.8935\u001b[0m        0.9929  0.0279\n    260        \u001b[36m0.8926\u001b[0m        0.9927  0.0268\n    261        \u001b[36m0.8918\u001b[0m        0.9926  0.0188\n    262        \u001b[36m0.8909\u001b[0m        0.9924  0.0197\n    263        \u001b[36m0.8901\u001b[0m        0.9922  0.0644\n    264        \u001b[36m0.8892\u001b[0m        0.9921  0.0670\n    265        \u001b[36m0.8884\u001b[0m        0.9919  0.0568\n    266        \u001b[36m0.8876\u001b[0m        0.9917  0.0168\n    267        \u001b[36m0.8867\u001b[0m        0.9915  0.0178\n    268        \u001b[36m0.8859\u001b[0m        0.9914  0.0170\n    269        \u001b[36m0.8850\u001b[0m        0.9912  0.0188\n    270        \u001b[36m0.8842\u001b[0m        0.9910  0.0187\n    271        \u001b[36m0.8834\u001b[0m        0.9908  0.0224\n    272        \u001b[36m0.8825\u001b[0m        0.9907  0.0172\n    273        \u001b[36m0.8817\u001b[0m        0.9905  0.0267\n    274        \u001b[36m0.8809\u001b[0m        0.9903  0.0171\n    275        \u001b[36m0.8800\u001b[0m        0.9902  0.0188\n    276        \u001b[36m0.8792\u001b[0m        0.9900  0.0547\n    277        \u001b[36m0.8784\u001b[0m        0.9898  0.0624\n    278        \u001b[36m0.8776\u001b[0m        0.9896  0.0627\n    279        \u001b[36m0.8767\u001b[0m        0.9895  0.0610\n    280        \u001b[36m0.8759\u001b[0m        0.9893  0.0172\n    281        \u001b[36m0.8751\u001b[0m        0.9891  0.0166\n    282        \u001b[36m0.8743\u001b[0m        0.9889  0.0167\n    283        \u001b[36m0.8734\u001b[0m        0.9888  0.0172\n    284        \u001b[36m0.8726\u001b[0m        0.9886  0.0609\n    285        \u001b[36m0.8718\u001b[0m        0.9884  0.0600\n    286        \u001b[36m0.8710\u001b[0m        0.9883  0.0633\n    287        \u001b[36m0.8702\u001b[0m        0.9881  0.0660\n    288        \u001b[36m0.8693\u001b[0m        0.9879  0.0635\n    289        \u001b[36m0.8685\u001b[0m        0.9878  0.0585\n    290        \u001b[36m0.8677\u001b[0m        0.9876  0.0704\n    291        \u001b[36m0.8669\u001b[0m        0.9874  0.0528\n    292        \u001b[36m0.8661\u001b[0m        0.9873  0.0606\n    293        \u001b[36m0.8653\u001b[0m        0.9871  0.0627\n    294        \u001b[36m0.8645\u001b[0m        0.9870  0.0647\n    295        \u001b[36m0.8637\u001b[0m        0.9868  0.0611\n    296        \u001b[36m0.8628\u001b[0m        0.9866  0.0644\n    297        \u001b[36m0.8620\u001b[0m        0.9865  0.0168\n    298        \u001b[36m0.8612\u001b[0m        0.9863  0.0186\n    299        \u001b[36m0.8604\u001b[0m        0.9862  0.0183\n    300        \u001b[36m0.8596\u001b[0m        0.9860  0.0199\n    301        \u001b[36m0.8588\u001b[0m        0.9859  0.0245\n    302        \u001b[36m0.8580\u001b[0m        0.9857  0.0188\n    303        \u001b[36m0.8572\u001b[0m        0.9856  0.0184\n    304        \u001b[36m0.8564\u001b[0m        0.9854  0.0186\n    305        \u001b[36m0.8556\u001b[0m        0.9852  0.0234\n    306        \u001b[36m0.8549\u001b[0m        0.9851  0.0204\n    307        \u001b[36m0.8541\u001b[0m        0.9850  0.0192\n    308        \u001b[36m0.8533\u001b[0m        0.9848  0.0642\n    309        \u001b[36m0.8525\u001b[0m        0.9847  0.0598\n    310        \u001b[36m0.8517\u001b[0m        0.9845  0.0573\n    311        \u001b[36m0.8509\u001b[0m        \u001b[32m0.9844\u001b[0m  0.0605\n    312        \u001b[36m0.8501\u001b[0m        \u001b[32m0.9842\u001b[0m  0.0595\n    313        \u001b[36m0.8493\u001b[0m        \u001b[32m0.9841\u001b[0m  0.0658\n    314        \u001b[36m0.8486\u001b[0m        \u001b[32m0.9839\u001b[0m  0.0166\n    315        \u001b[36m0.8478\u001b[0m        \u001b[32m0.9838\u001b[0m  0.0173\n    316        \u001b[36m0.8470\u001b[0m        \u001b[32m0.9836\u001b[0m  0.0178\n    317        \u001b[36m0.8462\u001b[0m        \u001b[32m0.9835\u001b[0m  0.0194\n    318        \u001b[36m0.8455\u001b[0m        \u001b[32m0.9834\u001b[0m  0.0198\n    319        \u001b[36m0.8447\u001b[0m        \u001b[32m0.9832\u001b[0m  0.0174\n    320        \u001b[36m0.8439\u001b[0m        \u001b[32m0.9831\u001b[0m  0.0579\n    321        \u001b[36m0.8431\u001b[0m        \u001b[32m0.9829\u001b[0m  0.0612\n    322        \u001b[36m0.8424\u001b[0m        \u001b[32m0.9828\u001b[0m  0.0199\n    323        \u001b[36m0.8416\u001b[0m        \u001b[32m0.9827\u001b[0m  0.0210\n    324        \u001b[36m0.8408\u001b[0m        \u001b[32m0.9825\u001b[0m  0.0531\n    325        \u001b[36m0.8401\u001b[0m        \u001b[32m0.9824\u001b[0m  0.0654\n    326        \u001b[36m0.8393\u001b[0m        \u001b[32m0.9823\u001b[0m  0.0658\n    327        \u001b[36m0.8385\u001b[0m        \u001b[32m0.9821\u001b[0m  0.0216\n    328        \u001b[36m0.8378\u001b[0m        \u001b[32m0.9820\u001b[0m  0.0196\n    329        \u001b[36m0.8370\u001b[0m        \u001b[32m0.9818\u001b[0m  0.0170\n    330        \u001b[36m0.8363\u001b[0m        \u001b[32m0.9817\u001b[0m  0.0211\n    331        \u001b[36m0.8355\u001b[0m        \u001b[32m0.9816\u001b[0m  0.0207\n    332        \u001b[36m0.8348\u001b[0m        \u001b[32m0.9814\u001b[0m  0.0617\n    333        \u001b[36m0.8340\u001b[0m        \u001b[32m0.9813\u001b[0m  0.0168\n    334        \u001b[36m0.8333\u001b[0m        \u001b[32m0.9812\u001b[0m  0.0169\n    335        \u001b[36m0.8325\u001b[0m        \u001b[32m0.9810\u001b[0m  0.0220\n    336        \u001b[36m0.8318\u001b[0m        \u001b[32m0.9809\u001b[0m  0.0200\n    337        \u001b[36m0.8310\u001b[0m        \u001b[32m0.9808\u001b[0m  0.0200\n    338        \u001b[36m0.8303\u001b[0m        \u001b[32m0.9806\u001b[0m  0.0189\n    339        \u001b[36m0.8296\u001b[0m        \u001b[32m0.9805\u001b[0m  0.0544\n    340        \u001b[36m0.8288\u001b[0m        \u001b[32m0.9804\u001b[0m  0.0209\n    341        \u001b[36m0.8281\u001b[0m        \u001b[32m0.9802\u001b[0m  0.0189\n    342        \u001b[36m0.8274\u001b[0m        \u001b[32m0.9801\u001b[0m  0.0191\n    343        \u001b[36m0.8266\u001b[0m        \u001b[32m0.9800\u001b[0m  0.0665\n    344        \u001b[36m0.8259\u001b[0m        \u001b[32m0.9799\u001b[0m  0.0622\n    345        \u001b[36m0.8252\u001b[0m        \u001b[32m0.9797\u001b[0m  0.0684\n    346        \u001b[36m0.8245\u001b[0m        \u001b[32m0.9796\u001b[0m  0.0634\n    347        \u001b[36m0.8237\u001b[0m        \u001b[32m0.9795\u001b[0m  0.0634\n    348        \u001b[36m0.8230\u001b[0m        \u001b[32m0.9793\u001b[0m  0.0629\n    349        \u001b[36m0.8223\u001b[0m        \u001b[32m0.9792\u001b[0m  0.0542\n    350        \u001b[36m0.8216\u001b[0m        \u001b[32m0.9791\u001b[0m  0.0673\n    351        \u001b[36m0.8209\u001b[0m        \u001b[32m0.9789\u001b[0m  0.0614\n    352        \u001b[36m0.8202\u001b[0m        \u001b[32m0.9788\u001b[0m  0.0645\n    353        \u001b[36m0.8194\u001b[0m        \u001b[32m0.9787\u001b[0m  0.0644\n    354        \u001b[36m0.8187\u001b[0m        \u001b[32m0.9786\u001b[0m  0.0617\n    355        \u001b[36m0.8180\u001b[0m        \u001b[32m0.9784\u001b[0m  0.0682\n    356        \u001b[36m0.8173\u001b[0m        \u001b[32m0.9783\u001b[0m  0.0581\n    357        \u001b[36m0.8166\u001b[0m        \u001b[32m0.9782\u001b[0m  0.0557\n    358        \u001b[36m0.8159\u001b[0m        \u001b[32m0.9780\u001b[0m  0.0163\n    359        \u001b[36m0.8152\u001b[0m        \u001b[32m0.9779\u001b[0m  0.0216\n    360        \u001b[36m0.8145\u001b[0m        \u001b[32m0.9778\u001b[0m  0.0171\n    361        \u001b[36m0.8139\u001b[0m        \u001b[32m0.9777\u001b[0m  0.0174\n    362        \u001b[36m0.8132\u001b[0m        \u001b[32m0.9775\u001b[0m  0.0197\n    363        \u001b[36m0.8125\u001b[0m        \u001b[32m0.9774\u001b[0m  0.0185\n    364        \u001b[36m0.8118\u001b[0m        \u001b[32m0.9773\u001b[0m  0.0183\n    365        \u001b[36m0.8111\u001b[0m        \u001b[32m0.9772\u001b[0m  0.0191\n    366        \u001b[36m0.8104\u001b[0m        \u001b[32m0.9770\u001b[0m  0.0209\n    367        \u001b[36m0.8098\u001b[0m        \u001b[32m0.9769\u001b[0m  0.0187\n    368        \u001b[36m0.8091\u001b[0m        \u001b[32m0.9768\u001b[0m  0.0167\n    369        \u001b[36m0.8084\u001b[0m        \u001b[32m0.9766\u001b[0m  0.0166\n    370        \u001b[36m0.8077\u001b[0m        \u001b[32m0.9765\u001b[0m  0.0266\n    371        \u001b[36m0.8071\u001b[0m        \u001b[32m0.9764\u001b[0m  0.0245\n    372        \u001b[36m0.8064\u001b[0m        \u001b[32m0.9763\u001b[0m  0.0197\n    373        \u001b[36m0.8057\u001b[0m        \u001b[32m0.9761\u001b[0m  0.0183\n    374        \u001b[36m0.8051\u001b[0m        \u001b[32m0.9760\u001b[0m  0.0246\n    375        \u001b[36m0.8044\u001b[0m        \u001b[32m0.9759\u001b[0m  0.0189\n    376        \u001b[36m0.8037\u001b[0m        \u001b[32m0.9758\u001b[0m  0.0167\n    377        \u001b[36m0.8031\u001b[0m        \u001b[32m0.9756\u001b[0m  0.0251\n    378        \u001b[36m0.8024\u001b[0m        \u001b[32m0.9755\u001b[0m  0.0208\n    379        \u001b[36m0.8017\u001b[0m        \u001b[32m0.9754\u001b[0m  0.0267\n    380        \u001b[36m0.8011\u001b[0m        \u001b[32m0.9752\u001b[0m  0.0165\n    381        \u001b[36m0.8004\u001b[0m        \u001b[32m0.9751\u001b[0m  0.0176\n    382        \u001b[36m0.7998\u001b[0m        \u001b[32m0.9750\u001b[0m  0.0197\n    383        \u001b[36m0.7991\u001b[0m        \u001b[32m0.9749\u001b[0m  0.0184\n    384        \u001b[36m0.7985\u001b[0m        \u001b[32m0.9747\u001b[0m  0.0172\n    385        \u001b[36m0.7978\u001b[0m        \u001b[32m0.9746\u001b[0m  0.0277\n    386        \u001b[36m0.7972\u001b[0m        \u001b[32m0.9745\u001b[0m  0.0243\n    387        \u001b[36m0.7965\u001b[0m        \u001b[32m0.9744\u001b[0m  0.0170\n    388        \u001b[36m0.7959\u001b[0m        \u001b[32m0.9742\u001b[0m  0.0226\n    389        \u001b[36m0.7952\u001b[0m        \u001b[32m0.9741\u001b[0m  0.0254\n    390        \u001b[36m0.7946\u001b[0m        \u001b[32m0.9740\u001b[0m  0.0206\n    391        \u001b[36m0.7939\u001b[0m        \u001b[32m0.9739\u001b[0m  0.0179\n    392        \u001b[36m0.7933\u001b[0m        \u001b[32m0.9737\u001b[0m  0.0185\n    393        \u001b[36m0.7926\u001b[0m        \u001b[32m0.9736\u001b[0m  0.0205\n    394        \u001b[36m0.7920\u001b[0m        \u001b[32m0.9735\u001b[0m  0.0565\n    395        \u001b[36m0.7914\u001b[0m        \u001b[32m0.9734\u001b[0m  0.0590\n    396        \u001b[36m0.7907\u001b[0m        \u001b[32m0.9732\u001b[0m  0.0194\n    397        \u001b[36m0.7901\u001b[0m        \u001b[32m0.9731\u001b[0m  0.0162\n    398        \u001b[36m0.7894\u001b[0m        \u001b[32m0.9730\u001b[0m  0.0166\n    399        \u001b[36m0.7888\u001b[0m        \u001b[32m0.9729\u001b[0m  0.0169\n    400        \u001b[36m0.7882\u001b[0m        \u001b[32m0.9727\u001b[0m  0.0614\n    401        \u001b[36m0.7875\u001b[0m        \u001b[32m0.9726\u001b[0m  0.0594\n    402        \u001b[36m0.7869\u001b[0m        \u001b[32m0.9725\u001b[0m  0.0619\n    403        \u001b[36m0.7863\u001b[0m        \u001b[32m0.9724\u001b[0m  0.0657\n    404        \u001b[36m0.7856\u001b[0m        \u001b[32m0.9723\u001b[0m  0.0180\n    405        \u001b[36m0.7850\u001b[0m        \u001b[32m0.9721\u001b[0m  0.0179\n    406        \u001b[36m0.7844\u001b[0m        \u001b[32m0.9720\u001b[0m  0.0199\n    407        \u001b[36m0.7837\u001b[0m        \u001b[32m0.9719\u001b[0m  0.0216\n    408        \u001b[36m0.7831\u001b[0m        \u001b[32m0.9718\u001b[0m  0.0198\n    409        \u001b[36m0.7825\u001b[0m        \u001b[32m0.9717\u001b[0m  0.0200\n    410        \u001b[36m0.7818\u001b[0m        \u001b[32m0.9715\u001b[0m  0.0544\n    411        \u001b[36m0.7812\u001b[0m        \u001b[32m0.9714\u001b[0m  0.0628\n    412        \u001b[36m0.7806\u001b[0m        \u001b[32m0.9713\u001b[0m  0.0671\n    413        \u001b[36m0.7800\u001b[0m        \u001b[32m0.9712\u001b[0m  0.0660\n    414        \u001b[36m0.7793\u001b[0m        \u001b[32m0.9711\u001b[0m  0.0256\n    415        \u001b[36m0.7787\u001b[0m        \u001b[32m0.9709\u001b[0m  0.0594\n    416        \u001b[36m0.7781\u001b[0m        \u001b[32m0.9708\u001b[0m  0.0173\n    417        \u001b[36m0.7774\u001b[0m        \u001b[32m0.9707\u001b[0m  0.0604\n    418        \u001b[36m0.7768\u001b[0m        \u001b[32m0.9706\u001b[0m  0.0553\n    419        \u001b[36m0.7762\u001b[0m        \u001b[32m0.9705\u001b[0m  0.0522\n    420        \u001b[36m0.7756\u001b[0m        \u001b[32m0.9704\u001b[0m  0.0645\n    421        \u001b[36m0.7750\u001b[0m        \u001b[32m0.9703\u001b[0m  0.0631\n    422        \u001b[36m0.7743\u001b[0m        \u001b[32m0.9701\u001b[0m  0.0600\n    423        \u001b[36m0.7737\u001b[0m        \u001b[32m0.9700\u001b[0m  0.0480\n    424        \u001b[36m0.7731\u001b[0m        \u001b[32m0.9699\u001b[0m  0.0583\n    425        \u001b[36m0.7725\u001b[0m        \u001b[32m0.9698\u001b[0m  0.0645\n    426        \u001b[36m0.7718\u001b[0m        \u001b[32m0.9697\u001b[0m  0.0304\n    427        \u001b[36m0.7712\u001b[0m        \u001b[32m0.9696\u001b[0m  0.0281\n    428        \u001b[36m0.7706\u001b[0m        \u001b[32m0.9695\u001b[0m  0.0202\n    429        \u001b[36m0.7700\u001b[0m        \u001b[32m0.9694\u001b[0m  0.0268\n    430        \u001b[36m0.7694\u001b[0m        \u001b[32m0.9692\u001b[0m  0.0263\n    431        \u001b[36m0.7688\u001b[0m        \u001b[32m0.9691\u001b[0m  0.0190\n    432        \u001b[36m0.7681\u001b[0m        \u001b[32m0.9690\u001b[0m  0.0185\n    433        \u001b[36m0.7675\u001b[0m        \u001b[32m0.9689\u001b[0m  0.0182\n    434        \u001b[36m0.7669\u001b[0m        \u001b[32m0.9688\u001b[0m  0.0188\n    435        \u001b[36m0.7663\u001b[0m        \u001b[32m0.9687\u001b[0m  0.0182\n    436        \u001b[36m0.7657\u001b[0m        \u001b[32m0.9686\u001b[0m  0.0190\n    437        \u001b[36m0.7651\u001b[0m        \u001b[32m0.9685\u001b[0m  0.0279\n    438        \u001b[36m0.7645\u001b[0m        \u001b[32m0.9684\u001b[0m  0.0204\n    439        \u001b[36m0.7639\u001b[0m        \u001b[32m0.9683\u001b[0m  0.0193\n    440        \u001b[36m0.7632\u001b[0m        \u001b[32m0.9682\u001b[0m  0.0297\n    441        \u001b[36m0.7626\u001b[0m        \u001b[32m0.9681\u001b[0m  0.0203\n    442        \u001b[36m0.7620\u001b[0m        \u001b[32m0.9680\u001b[0m  0.0213\n    443        \u001b[36m0.7614\u001b[0m        \u001b[32m0.9679\u001b[0m  0.0255\n    444        \u001b[36m0.7608\u001b[0m        \u001b[32m0.9678\u001b[0m  0.0185\n    445        \u001b[36m0.7602\u001b[0m        \u001b[32m0.9677\u001b[0m  0.0523\n    446        \u001b[36m0.7596\u001b[0m        \u001b[32m0.9676\u001b[0m  0.0577\n    447        \u001b[36m0.7590\u001b[0m        \u001b[32m0.9675\u001b[0m  0.0628\n    448        \u001b[36m0.7584\u001b[0m        \u001b[32m0.9674\u001b[0m  0.0177\n    449        \u001b[36m0.7578\u001b[0m        \u001b[32m0.9673\u001b[0m  0.0164\n    450        \u001b[36m0.7572\u001b[0m        \u001b[32m0.9672\u001b[0m  0.0178\n    451        \u001b[36m0.7566\u001b[0m        \u001b[32m0.9671\u001b[0m  0.0189\n    452        \u001b[36m0.7560\u001b[0m        \u001b[32m0.9670\u001b[0m  0.0572\n    453        \u001b[36m0.7554\u001b[0m        \u001b[32m0.9669\u001b[0m  0.0268\n    454        \u001b[36m0.7548\u001b[0m        \u001b[32m0.9668\u001b[0m  0.0170\n    455        \u001b[36m0.7542\u001b[0m        \u001b[32m0.9667\u001b[0m  0.0543\n    456        \u001b[36m0.7536\u001b[0m        \u001b[32m0.9666\u001b[0m  0.0613\n    457        \u001b[36m0.7530\u001b[0m        \u001b[32m0.9665\u001b[0m  0.0177\n    458        \u001b[36m0.7524\u001b[0m        \u001b[32m0.9664\u001b[0m  0.0240\n    459        \u001b[36m0.7518\u001b[0m        \u001b[32m0.9663\u001b[0m  0.0189\n    460        \u001b[36m0.7512\u001b[0m        \u001b[32m0.9663\u001b[0m  0.0198\n    461        \u001b[36m0.7506\u001b[0m        \u001b[32m0.9662\u001b[0m  0.0206\n    462        \u001b[36m0.7500\u001b[0m        \u001b[32m0.9661\u001b[0m  0.0226\n    463        \u001b[36m0.7494\u001b[0m        \u001b[32m0.9660\u001b[0m  0.0165\n    464        \u001b[36m0.7488\u001b[0m        \u001b[32m0.9659\u001b[0m  0.0273\n    465        \u001b[36m0.7482\u001b[0m        \u001b[32m0.9658\u001b[0m  0.0183\n    466        \u001b[36m0.7476\u001b[0m        \u001b[32m0.9657\u001b[0m  0.0189\n    467        \u001b[36m0.7470\u001b[0m        \u001b[32m0.9656\u001b[0m  0.0259\n    468        \u001b[36m0.7465\u001b[0m        \u001b[32m0.9656\u001b[0m  0.0211\n    469        \u001b[36m0.7459\u001b[0m        \u001b[32m0.9655\u001b[0m  0.0546\n    470        \u001b[36m0.7453\u001b[0m        \u001b[32m0.9654\u001b[0m  0.0577\n    471        \u001b[36m0.7447\u001b[0m        \u001b[32m0.9653\u001b[0m  0.0674\n    472        \u001b[36m0.7441\u001b[0m        \u001b[32m0.9652\u001b[0m  0.0591\n    473        \u001b[36m0.7435\u001b[0m        \u001b[32m0.9652\u001b[0m  0.0174\n    474        \u001b[36m0.7429\u001b[0m        \u001b[32m0.9651\u001b[0m  0.0198\n    475        \u001b[36m0.7423\u001b[0m        \u001b[32m0.9650\u001b[0m  0.0591\n    476        \u001b[36m0.7418\u001b[0m        \u001b[32m0.9649\u001b[0m  0.0170\n    477        \u001b[36m0.7412\u001b[0m        \u001b[32m0.9648\u001b[0m  0.0598\n    478        \u001b[36m0.7406\u001b[0m        \u001b[32m0.9648\u001b[0m  0.0575\n    479        \u001b[36m0.7400\u001b[0m        \u001b[32m0.9647\u001b[0m  0.0635\n    480        \u001b[36m0.7394\u001b[0m        \u001b[32m0.9646\u001b[0m  0.0570\n    481        \u001b[36m0.7389\u001b[0m        \u001b[32m0.9646\u001b[0m  0.0213\n    482        \u001b[36m0.7383\u001b[0m        \u001b[32m0.9645\u001b[0m  0.0245\n    483        \u001b[36m0.7377\u001b[0m        \u001b[32m0.9644\u001b[0m  0.0173\n    484        \u001b[36m0.7371\u001b[0m        \u001b[32m0.9643\u001b[0m  0.0220\n    485        \u001b[36m0.7365\u001b[0m        \u001b[32m0.9643\u001b[0m  0.0207\n    486        \u001b[36m0.7360\u001b[0m        \u001b[32m0.9642\u001b[0m  0.0255\n    487        \u001b[36m0.7354\u001b[0m        \u001b[32m0.9641\u001b[0m  0.0246\n    488        \u001b[36m0.7348\u001b[0m        \u001b[32m0.9641\u001b[0m  0.0219\n    489        \u001b[36m0.7342\u001b[0m        \u001b[32m0.9640\u001b[0m  0.0183\n    490        \u001b[36m0.7337\u001b[0m        \u001b[32m0.9639\u001b[0m  0.0169\n    491        \u001b[36m0.7331\u001b[0m        \u001b[32m0.9639\u001b[0m  0.0272\n    492        \u001b[36m0.7325\u001b[0m        \u001b[32m0.9638\u001b[0m  0.0250\n    493        \u001b[36m0.7320\u001b[0m        \u001b[32m0.9638\u001b[0m  0.0184\n    494        \u001b[36m0.7314\u001b[0m        \u001b[32m0.9637\u001b[0m  0.0650\n    495        \u001b[36m0.7308\u001b[0m        \u001b[32m0.9636\u001b[0m  0.0165\n    496        \u001b[36m0.7302\u001b[0m        \u001b[32m0.9636\u001b[0m  0.0189\n    497        \u001b[36m0.7297\u001b[0m        \u001b[32m0.9635\u001b[0m  0.0271\n    498        \u001b[36m0.7291\u001b[0m        \u001b[32m0.9635\u001b[0m  0.0221\n    499        \u001b[36m0.7285\u001b[0m        \u001b[32m0.9634\u001b[0m  0.0235\n    500        \u001b[36m0.7280\u001b[0m        \u001b[32m0.9634\u001b[0m  0.0238\n    501        \u001b[36m0.7274\u001b[0m        \u001b[32m0.9633\u001b[0m  0.0605\n    502        \u001b[36m0.7268\u001b[0m        \u001b[32m0.9633\u001b[0m  0.0645\n    503        \u001b[36m0.7263\u001b[0m        \u001b[32m0.9632\u001b[0m  0.0664\n    504        \u001b[36m0.7257\u001b[0m        \u001b[32m0.9632\u001b[0m  0.0580\n",
     "output_type": "stream"
    }
   ],
   "execution_count": 97
  },
  {
   "cell_type": "markdown",
   "source": "## Loss Curves",
   "metadata": {
    "cell_id": "64fca634-7fd9-4712-8da0-848d882b4293",
    "tags": [],
    "deepnote_cell_type": "markdown"
   }
  },
  {
   "cell_type": "code",
   "metadata": {
    "cell_id": "185a035d-85be-4bec-9dcf-21a99a0c98bf",
    "deepnote_to_be_reexecuted": false,
    "execution_millis": 301,
    "execution_start": 1642776929934,
    "source_hash": "43e905d4",
    "tags": [],
    "deepnote_output_heights": [
     482
    ],
    "deepnote_cell_type": "code"
   },
   "source": "plot_learning_curves(train_scores, test_scores, EPOCHS, \"Loss (MSE)\")",
   "outputs": [
    {
     "data": {
      "text/plain": "<Figure size 720x576 with 1 Axes>",
      "image/png": "[encoded data removed]"
     },
     "metadata": {
      "needs_background": "light",
      "image/png": {
       "width": 612,
       "height": 480
      }
     },
     "output_type": "display_data"
    }
   ],
   "execution_count": 98
  },
  {
   "cell_type": "markdown",
   "source": "## Learning Curves",
   "metadata": {
    "cell_id": "1dd24bc0-b2c7-409c-ae56-4311020f10a2",
    "tags": [],
    "deepnote_cell_type": "markdown"
   }
  },
  {
   "cell_type": "code",
   "metadata": {
    "cell_id": "dc368c71-a58a-4243-bda8-cba605d67e65",
    "deepnote_to_be_reexecuted": false,
    "execution_millis": 359,
    "execution_start": 1642776930234,
    "source_hash": "dc2217e9",
    "tags": [],
    "deepnote_output_heights": [
     482
    ],
    "deepnote_cell_type": "code"
   },
   "source": "plot_learning_curves(train_scores, test_scores, EPOCHS, \"Error (MEE)\")",
   "outputs": [
    {
     "data": {
      "text/plain": "<Figure size 720x576 with 1 Axes>",
      "image/png": "[encoded data removed]"
     },
     "metadata": {
      "needs_background": "light",
      "image/png": {
       "width": 612,
       "height": 480
      }
     },
     "output_type": "display_data"
    }
   ],
   "execution_count": 99
  },
  {
   "cell_type": "code",
   "metadata": {
    "cell_id": "7607ddb8-8fae-4653-b75c-ea25c1e6bbdc",
    "deepnote_to_be_reexecuted": false,
    "execution_millis": 1,
    "execution_start": 1642776397224,
    "source_hash": "ef9d233a",
    "tags": [],
    "deepnote_cell_type": "code"
   },
   "source": "def plot_coordinates(y_predicted, true_y = None):\n    y_predicted = pd.DataFrame(data=y_predicted, columns=[\"x\", \"y\"])\n    if not None:\n        true_y = pd.DataFrame(data=true_y, columns=[\"x\", \"y\"])\n        plt.scatter(true_y['x'], true_y['y'], c='r', marker='*')\n    plt.xlabel(\"x\")\n    plt.ylabel(\"y\")\n    plt.scatter(y_predicted['x'], y_predicted['y'], c='#1f77b4')\n",
   "outputs": [],
   "execution_count": 70
  },
  {
   "cell_type": "code",
   "metadata": {
    "cell_id": "c7183c49-035c-499a-830e-9787ce94dd3e",
    "deepnote_to_be_reexecuted": false,
    "execution_millis": 1,
    "execution_start": 1642776595013,
    "source_hash": "912ba5cb",
    "tags": [],
    "deepnote_cell_type": "code"
   },
   "source": "### Predicted points on internal test set",
   "outputs": [],
   "execution_count": 80
  },
  {
   "cell_type": "code",
   "metadata": {
    "cell_id": "327a4c6c-9f32-4799-af78-026a65ad6b7b",
    "deepnote_to_be_reexecuted": false,
    "execution_millis": 312,
    "execution_start": 1642776399603,
    "source_hash": "fc3a8552",
    "tags": [],
    "deepnote_output_heights": [
     264
    ],
    "deepnote_cell_type": "code"
   },
   "source": "plot_coordinates(y_predicted_test, y_test)",
   "outputs": [
    {
     "data": {
      "text/plain": "<Figure size 432x288 with 1 Axes>",
      "image/png": "[encoded data removed]"
     },
     "metadata": {
      "needs_background": "light",
      "image/png": {
       "width": 391,
       "height": 262
      }
     },
     "output_type": "display_data"
    }
   ],
   "execution_count": 71
  },
  {
   "cell_type": "code",
   "metadata": {
    "cell_id": "b365b2b4-b0ac-4719-8ccc-8aaa6c57c90c",
    "deepnote_to_be_reexecuted": false,
    "execution_millis": 407,
    "execution_start": 1642776401820,
    "source_hash": "868eea97",
    "tags": [],
    "deepnote_output_heights": [
     264
    ],
    "deepnote_cell_type": "code"
   },
   "source": "plot_coordinates(y_predicted, y)",
   "outputs": [
    {
     "data": {
      "text/plain": "<Figure size 432x288 with 1 Axes>",
      "image/png": "[encoded data removed]"
     },
     "metadata": {
      "needs_background": "light",
      "image/png": {
       "width": 391,
       "height": 262
      }
     },
     "output_type": "display_data"
    }
   ],
   "execution_count": 72
  },
  {
   "cell_type": "markdown",
   "source": "### Predicted points on blind test set",
   "metadata": {
    "cell_id": "00059-5568c441-47cb-4a01-a33a-509097aafefe",
    "deepnote_cell_type": "markdown"
   }
  },
  {
   "cell_type": "code",
   "metadata": {
    "cell_id": "00060-4b7b8c5b-a23c-478c-b832-b2298102630c",
    "deepnote_to_be_reexecuted": false,
    "source_hash": "bb7c06f",
    "execution_start": 1642776407258,
    "execution_millis": 277,
    "deepnote_output_heights": [
     264
    ],
    "deepnote_cell_type": "code"
   },
   "source": "plot_coordinates(y_predicted_blind)",
   "outputs": [
    {
     "data": {
      "text/plain": "<Figure size 432x288 with 1 Axes>",
      "image/png": "[encoded data removed]"
     },
     "metadata": {
      "needs_background": "light",
      "image/png": {
       "width": 391,
       "height": 262
      }
     },
     "output_type": "display_data"
    }
   ],
   "execution_count": 73
  },
  {
   "cell_type": "markdown",
   "source": "## Ensemble ",
   "metadata": {
    "cell_id": "00061-f9c12825-4760-4fa8-9503-344e8dc69ac7",
    "deepnote_cell_type": "markdown"
   }
  },
  {
   "cell_type": "markdown",
   "source": "Then we try the voting method using the 10 best models from the randomized search. ",
   "metadata": {
    "cell_id": "00062-bea0ce65-8d41-4647-af65-b4a9fd2eb765",
    "deepnote_cell_type": "markdown"
   }
  },
  {
   "cell_type": "code",
   "metadata": {
    "cell_id": "00063-4e9e8339-09fe-43e2-b61e-7212549c3846",
    "deepnote_to_be_reexecuted": false,
    "source_hash": "12c9804d",
    "execution_start": 1642776419181,
    "execution_millis": 174858,
    "deepnote_cell_type": "code"
   },
   "source": "#fit every model\nfor model in best_models:\n    model.fit(X,y)\n",
   "outputs": [
    {
     "name": "stdout",
     "text": "    213        \u001b[36m1.0971\u001b[0m        \u001b[32m0.9284\u001b[0m  0.0663\n    214        \u001b[36m1.0965\u001b[0m        \u001b[32m0.9281\u001b[0m  0.0260\n    215        \u001b[36m1.0958\u001b[0m        \u001b[32m0.9277\u001b[0m  0.0624\n    216        \u001b[36m1.0952\u001b[0m        \u001b[32m0.9273\u001b[0m  0.0209\n    217        \u001b[36m1.0945\u001b[0m        \u001b[32m0.9270\u001b[0m  0.0195\n    218        \u001b[36m1.0939\u001b[0m        \u001b[32m0.9266\u001b[0m  0.0740\n    219        \u001b[36m1.0932\u001b[0m        \u001b[32m0.9263\u001b[0m  0.0187\n    220        \u001b[36m1.0926\u001b[0m        \u001b[32m0.9260\u001b[0m  0.0508\n    221        \u001b[36m1.0919\u001b[0m        \u001b[32m0.9256\u001b[0m  0.0199\n    222        \u001b[36m1.0913\u001b[0m        \u001b[32m0.9253\u001b[0m  0.0189\n    223        \u001b[36m1.0907\u001b[0m        \u001b[32m0.9250\u001b[0m  0.0616\n    224        \u001b[36m1.0901\u001b[0m        \u001b[32m0.9246\u001b[0m  0.0190\n    225        \u001b[36m1.0894\u001b[0m        \u001b[32m0.9243\u001b[0m  0.0182\n    226        \u001b[36m1.0888\u001b[0m        \u001b[32m0.9240\u001b[0m  0.0681\n    227        \u001b[36m1.0882\u001b[0m        \u001b[32m0.9237\u001b[0m  0.0191\n    228        \u001b[36m1.0876\u001b[0m        \u001b[32m0.9234\u001b[0m  0.0614\n    229        \u001b[36m1.0870\u001b[0m        \u001b[32m0.9231\u001b[0m  0.0171\n    230        \u001b[36m1.0864\u001b[0m        \u001b[32m0.9228\u001b[0m  0.0148\n    231        \u001b[36m1.0858\u001b[0m        \u001b[32m0.9225\u001b[0m  0.0678\n    232        \u001b[36m1.0852\u001b[0m        \u001b[32m0.9222\u001b[0m  0.0166\n    233        \u001b[36m1.0846\u001b[0m        \u001b[32m0.9219\u001b[0m  0.0164\n    234        \u001b[36m1.0840\u001b[0m        \u001b[32m0.9216\u001b[0m  0.0726\n    235        \u001b[36m1.0834\u001b[0m        \u001b[32m0.9213\u001b[0m  0.0173\n    236        \u001b[36m1.0828\u001b[0m        \u001b[32m0.9210\u001b[0m  0.0644\n    237        \u001b[36m1.0823\u001b[0m        \u001b[32m0.9207\u001b[0m  0.0190\n    238        \u001b[36m1.0817\u001b[0m        \u001b[32m0.9205\u001b[0m  0.0159\n    239        \u001b[36m1.0811\u001b[0m        \u001b[32m0.9202\u001b[0m  0.0641\n    240        \u001b[36m1.0806\u001b[0m        \u001b[32m0.9199\u001b[0m  0.0168\n    241        \u001b[36m1.0800\u001b[0m        \u001b[32m0.9197\u001b[0m  0.0167\n    242        \u001b[36m1.0794\u001b[0m        \u001b[32m0.9194\u001b[0m  0.0795\n    243        \u001b[36m1.0789\u001b[0m        \u001b[32m0.9191\u001b[0m  0.0250\n    244        \u001b[36m1.0783\u001b[0m        \u001b[32m0.9189\u001b[0m  0.0654\n    245        \u001b[36m1.0778\u001b[0m        \u001b[32m0.9186\u001b[0m  0.0181\n    246        \u001b[36m1.0772\u001b[0m        \u001b[32m0.9184\u001b[0m  0.0670\n    247        \u001b[36m1.0767\u001b[0m        \u001b[32m0.9181\u001b[0m  0.0196\n    248        \u001b[36m1.0761\u001b[0m        \u001b[32m0.9179\u001b[0m  0.0189\n    249        \u001b[36m1.0756\u001b[0m        \u001b[32m0.9176\u001b[0m  0.0684\n    250        \u001b[36m1.0750\u001b[0m        \u001b[32m0.9174\u001b[0m  0.0160\n    251        \u001b[36m1.0745\u001b[0m        \u001b[32m0.9172\u001b[0m  0.0635\n    252        \u001b[36m1.0740\u001b[0m        \u001b[32m0.9169\u001b[0m  0.0210\n    253        \u001b[36m1.0735\u001b[0m        \u001b[32m0.9167\u001b[0m  0.0229\n    254        \u001b[36m1.0729\u001b[0m        \u001b[32m0.9165\u001b[0m  0.0736\n    255        \u001b[36m1.0724\u001b[0m        \u001b[32m0.9162\u001b[0m  0.0211\n    256        \u001b[36m1.0719\u001b[0m        \u001b[32m0.9160\u001b[0m  0.0563\n    257        \u001b[36m1.0714\u001b[0m        \u001b[32m0.9158\u001b[0m  0.0205\n    258        \u001b[36m1.0709\u001b[0m        \u001b[32m0.9156\u001b[0m  0.0160\n    259        \u001b[36m1.0703\u001b[0m        \u001b[32m0.9154\u001b[0m  0.0648\n    260        \u001b[36m1.0698\u001b[0m        \u001b[32m0.9152\u001b[0m  0.0161\n    261        \u001b[36m1.0693\u001b[0m        \u001b[32m0.9150\u001b[0m  0.0219\n    262        \u001b[36m1.0688\u001b[0m        \u001b[32m0.9148\u001b[0m  0.0690\n    263        \u001b[36m1.0683\u001b[0m        \u001b[32m0.9145\u001b[0m  0.0192\n    264        \u001b[36m1.0678\u001b[0m        \u001b[32m0.9143\u001b[0m  0.0651\n    265        \u001b[36m1.0673\u001b[0m        \u001b[32m0.9141\u001b[0m  0.0264\n    266        \u001b[36m1.0668\u001b[0m        \u001b[32m0.9140\u001b[0m  0.0680\n    267        \u001b[36m1.0663\u001b[0m        \u001b[32m0.9138\u001b[0m  0.0191\n    268        \u001b[36m1.0659\u001b[0m        \u001b[32m0.9136\u001b[0m  0.0166\n    269        \u001b[36m1.0654\u001b[0m        \u001b[32m0.9134\u001b[0m  0.0692\n    270        \u001b[36m1.0649\u001b[0m        \u001b[32m0.9132\u001b[0m  0.0257\n    271        \u001b[36m1.0644\u001b[0m        \u001b[32m0.9130\u001b[0m  0.0651\n    272        \u001b[36m1.0639\u001b[0m        \u001b[32m0.9128\u001b[0m  0.0194\n    273        \u001b[36m1.0635\u001b[0m        \u001b[32m0.9126\u001b[0m  0.0181\n    274        \u001b[36m1.0630\u001b[0m        \u001b[32m0.9125\u001b[0m  0.0213\n    275        \u001b[36m1.0625\u001b[0m        \u001b[32m0.9123\u001b[0m  0.0198\n    276        \u001b[36m1.0620\u001b[0m        \u001b[32m0.9121\u001b[0m  0.0695\n    277        \u001b[36m1.0616\u001b[0m        \u001b[32m0.9120\u001b[0m  0.0180\n    278        \u001b[36m1.0611\u001b[0m        \u001b[32m0.9118\u001b[0m  0.0158\n    279        \u001b[36m1.0607\u001b[0m        \u001b[32m0.9116\u001b[0m  0.0186\n    280        \u001b[36m1.0602\u001b[0m        \u001b[32m0.9115\u001b[0m  0.0164\n    281        \u001b[36m1.0597\u001b[0m        \u001b[32m0.9113\u001b[0m  0.0665\n    282        \u001b[36m1.0593\u001b[0m        \u001b[32m0.9111\u001b[0m  0.0176\n    283        \u001b[36m1.0588\u001b[0m        \u001b[32m0.9110\u001b[0m  0.0157\n    284        \u001b[36m1.0584\u001b[0m        \u001b[32m0.9108\u001b[0m  0.0765\n    285        \u001b[36m1.0579\u001b[0m        \u001b[32m0.9107\u001b[0m  0.0251\n    286        \u001b[36m1.0575\u001b[0m        \u001b[32m0.9105\u001b[0m  0.0634\n    287        \u001b[36m1.0571\u001b[0m        \u001b[32m0.9104\u001b[0m  0.0181\n    288        \u001b[36m1.0566\u001b[0m        \u001b[32m0.9102\u001b[0m  0.0801\n    289        \u001b[36m1.0562\u001b[0m        \u001b[32m0.9101\u001b[0m  0.0251\n    290        \u001b[36m1.0557\u001b[0m        \u001b[32m0.9099\u001b[0m  0.0664\n    291        \u001b[36m1.0553\u001b[0m        \u001b[32m0.9098\u001b[0m  0.0191\n    292        \u001b[36m1.0549\u001b[0m        \u001b[32m0.9096\u001b[0m  0.0185\n    293        \u001b[36m1.0544\u001b[0m        \u001b[32m0.9095\u001b[0m  0.0634\n    294        \u001b[36m1.0540\u001b[0m        \u001b[32m0.9094\u001b[0m  0.0227\n    295        \u001b[36m1.0536\u001b[0m        \u001b[32m0.9092\u001b[0m  0.0670\n    296        \u001b[36m1.0532\u001b[0m        \u001b[32m0.9091\u001b[0m  0.0196\n    297        \u001b[36m1.0527\u001b[0m        \u001b[32m0.9090\u001b[0m  0.0628\n    298        \u001b[36m1.0523\u001b[0m        \u001b[32m0.9088\u001b[0m  0.0172\n    299        \u001b[36m1.0519\u001b[0m        \u001b[32m0.9087\u001b[0m  0.0198\n    300        \u001b[36m1.0515\u001b[0m        \u001b[32m0.9086\u001b[0m  0.0671\n    301        \u001b[36m1.0511\u001b[0m        \u001b[32m0.9084\u001b[0m  0.0162\n    302        \u001b[36m1.0506\u001b[0m        \u001b[32m0.9083\u001b[0m  0.0736\n    303        \u001b[36m1.0502\u001b[0m        \u001b[32m0.9082\u001b[0m  0.0233\n    304        \u001b[36m1.0498\u001b[0m        \u001b[32m0.9081\u001b[0m  0.0187\n    305        \u001b[36m1.0494\u001b[0m        \u001b[32m0.9080\u001b[0m  0.0640\n    306        \u001b[36m1.0490\u001b[0m        \u001b[32m0.9078\u001b[0m  0.0194\n    307        \u001b[36m1.0486\u001b[0m        \u001b[32m0.9077\u001b[0m  0.0713\n    308        \u001b[36m1.0482\u001b[0m        \u001b[32m0.9076\u001b[0m  0.0220\n    309        \u001b[36m1.0478\u001b[0m        \u001b[32m0.9075\u001b[0m  0.0679\n    310        \u001b[36m1.0474\u001b[0m        \u001b[32m0.9074\u001b[0m  0.0249\n    311        \u001b[36m1.0470\u001b[0m        \u001b[32m0.9073\u001b[0m  0.0704\n    312        \u001b[36m1.0466\u001b[0m        \u001b[32m0.9071\u001b[0m  0.0172\n    313        \u001b[36m1.0462\u001b[0m        \u001b[32m0.9070\u001b[0m  0.0183\n    314        \u001b[36m1.0458\u001b[0m        \u001b[32m0.9069\u001b[0m  0.0725\n    315        \u001b[36m1.0454\u001b[0m        \u001b[32m0.9068\u001b[0m  0.0183\n    316        \u001b[36m1.0451\u001b[0m        \u001b[32m0.9067\u001b[0m  0.0660\n    317        \u001b[36m1.0447\u001b[0m        \u001b[32m0.9066\u001b[0m  0.0193\n    318        \u001b[36m1.0443\u001b[0m        \u001b[32m0.9065\u001b[0m  0.0188\n    319        \u001b[36m1.0439\u001b[0m        \u001b[32m0.9064\u001b[0m  0.0666\n    320        \u001b[36m1.0435\u001b[0m        \u001b[32m0.9063\u001b[0m  0.0253\n    321        \u001b[36m1.0431\u001b[0m        \u001b[32m0.9062\u001b[0m  0.0650\n    322        \u001b[36m1.0428\u001b[0m        \u001b[32m0.9061\u001b[0m  0.0161\n    323        \u001b[36m1.0424\u001b[0m        \u001b[32m0.9060\u001b[0m  0.0156\n    324        \u001b[36m1.0420\u001b[0m        \u001b[32m0.9059\u001b[0m  0.0675\n    325        \u001b[36m1.0416\u001b[0m        \u001b[32m0.9058\u001b[0m  0.0186\n    326        \u001b[36m1.0412\u001b[0m        \u001b[32m0.9057\u001b[0m  0.0700\n    327        \u001b[36m1.0409\u001b[0m        \u001b[32m0.9056\u001b[0m  0.1332\n    328        \u001b[36m1.0405\u001b[0m        \u001b[32m0.9055\u001b[0m  0.0648\n    329        \u001b[36m1.0401\u001b[0m        \u001b[32m0.9054\u001b[0m  0.0252\n    330        \u001b[36m1.0398\u001b[0m        \u001b[32m0.9053\u001b[0m  0.0766\n    331        \u001b[36m1.0394\u001b[0m        \u001b[32m0.9052\u001b[0m  0.0248\n    332        \u001b[36m1.0390\u001b[0m        \u001b[32m0.9051\u001b[0m  0.0688\n    333        \u001b[36m1.0387\u001b[0m        \u001b[32m0.9051\u001b[0m  0.0244\n    334        \u001b[36m1.0383\u001b[0m        \u001b[32m0.9050\u001b[0m  0.0688\n    335        \u001b[36m1.0380\u001b[0m        \u001b[32m0.9049\u001b[0m  0.0244\n    336        \u001b[36m1.0376\u001b[0m        \u001b[32m0.9048\u001b[0m  0.0682\n    337        \u001b[36m1.0372\u001b[0m        \u001b[32m0.9047\u001b[0m  0.0202\n    338        \u001b[36m1.0369\u001b[0m        \u001b[32m0.9046\u001b[0m  0.0194\n    339        \u001b[36m1.0365\u001b[0m        \u001b[32m0.9045\u001b[0m  0.0689\n    340        \u001b[36m1.0362\u001b[0m        \u001b[32m0.9045\u001b[0m  0.0198\n    341        \u001b[36m1.0358\u001b[0m        \u001b[32m0.9044\u001b[0m  0.0669\n    342        \u001b[36m1.0355\u001b[0m        \u001b[32m0.9043\u001b[0m  0.0162\n    343        \u001b[36m1.0351\u001b[0m        \u001b[32m0.9042\u001b[0m  0.0183\n    344        \u001b[36m1.0348\u001b[0m        \u001b[32m0.9041\u001b[0m  0.0653\n    345        \u001b[36m1.0344\u001b[0m        \u001b[32m0.9040\u001b[0m  0.0227\n    346        \u001b[36m1.0341\u001b[0m        \u001b[32m0.9040\u001b[0m  0.0733\n    347        \u001b[36m1.0337\u001b[0m        \u001b[32m0.9039\u001b[0m  0.0202\n    348        \u001b[36m1.0334\u001b[0m        \u001b[32m0.9038\u001b[0m  0.0677\n    349        \u001b[36m1.0330\u001b[0m        \u001b[32m0.9037\u001b[0m  0.0229\n    350        \u001b[36m1.0327\u001b[0m        \u001b[32m0.9036\u001b[0m  0.0184\n    351        \u001b[36m1.0324\u001b[0m        \u001b[32m0.9036\u001b[0m  0.0664\n    352        \u001b[36m1.0320\u001b[0m        \u001b[32m0.9035\u001b[0m  0.0205\n    353        \u001b[36m1.0317\u001b[0m        \u001b[32m0.9034\u001b[0m  0.0183\n    354        \u001b[36m1.0313\u001b[0m        \u001b[32m0.9033\u001b[0m  0.0191\n    355        \u001b[36m1.0310\u001b[0m        \u001b[32m0.9033\u001b[0m  0.0167\n    356        \u001b[36m1.0307\u001b[0m        \u001b[32m0.9032\u001b[0m  0.0688\n    357        \u001b[36m1.0303\u001b[0m        \u001b[32m0.9031\u001b[0m  0.0186\n    358        \u001b[36m1.0300\u001b[0m        \u001b[32m0.9030\u001b[0m  0.0200\n    359        \u001b[36m1.0297\u001b[0m        \u001b[32m0.9030\u001b[0m  0.0622\n    360        \u001b[36m1.0293\u001b[0m        \u001b[32m0.9029\u001b[0m  0.0192\n    361        \u001b[36m1.0290\u001b[0m        \u001b[32m0.9028\u001b[0m  0.0660\n    362        \u001b[36m1.0287\u001b[0m        \u001b[32m0.9027\u001b[0m  0.0211\n    363        \u001b[36m1.0283\u001b[0m        \u001b[32m0.9027\u001b[0m  0.0203\n    364        \u001b[36m1.0280\u001b[0m        \u001b[32m0.9026\u001b[0m  0.0648\n    365        \u001b[36m1.0277\u001b[0m        \u001b[32m0.9025\u001b[0m  0.0162\n    366        \u001b[36m1.0274\u001b[0m        \u001b[32m0.9025\u001b[0m  0.0173\n    367        \u001b[36m1.0270\u001b[0m        \u001b[32m0.9024\u001b[0m  0.0655\n    368        \u001b[36m1.0267\u001b[0m        \u001b[32m0.9023\u001b[0m  0.0252\n    369        \u001b[36m1.0264\u001b[0m        \u001b[32m0.9022\u001b[0m  0.0681\n    370        \u001b[36m1.0261\u001b[0m        \u001b[32m0.9022\u001b[0m  0.0176\n    371        \u001b[36m1.0257\u001b[0m        \u001b[32m0.9021\u001b[0m  0.0165\n    372        \u001b[36m1.0254\u001b[0m        \u001b[32m0.9020\u001b[0m  0.0636\n    373        \u001b[36m1.0251\u001b[0m        \u001b[32m0.9020\u001b[0m  0.0167\n    374        \u001b[36m1.0248\u001b[0m        \u001b[32m0.9019\u001b[0m  0.0645\n    375        \u001b[36m1.0245\u001b[0m        \u001b[32m0.9018\u001b[0m  0.0167\n    376        \u001b[36m1.0241\u001b[0m        \u001b[32m0.9018\u001b[0m  0.0199\n    377        \u001b[36m1.0238\u001b[0m        \u001b[32m0.9017\u001b[0m  0.0662\n    378        \u001b[36m1.0235\u001b[0m        \u001b[32m0.9016\u001b[0m  0.0214\n    379        \u001b[36m1.0232\u001b[0m        \u001b[32m0.9015\u001b[0m  0.0690\n    380        \u001b[36m1.0229\u001b[0m        \u001b[32m0.9015\u001b[0m  0.0198\n    381        \u001b[36m1.0226\u001b[0m        \u001b[32m0.9014\u001b[0m  0.0749\n    382        \u001b[36m1.0223\u001b[0m        \u001b[32m0.9013\u001b[0m  0.0221\n    383        \u001b[36m1.0219\u001b[0m        \u001b[32m0.9013\u001b[0m  0.0251\n    384        \u001b[36m1.0216\u001b[0m        \u001b[32m0.9012\u001b[0m  0.0253\n    385        \u001b[36m1.0213\u001b[0m        \u001b[32m0.9011\u001b[0m  0.0727\n    386        \u001b[36m1.0210\u001b[0m        \u001b[32m0.9011\u001b[0m  0.0256\n    387        \u001b[36m1.0207\u001b[0m        \u001b[32m0.9010\u001b[0m  0.0200\n    388        \u001b[36m1.0204\u001b[0m        \u001b[32m0.9009\u001b[0m  0.0610\n    389        \u001b[36m1.0201\u001b[0m        \u001b[32m0.9009\u001b[0m  0.0249\n    390        \u001b[36m1.0198\u001b[0m        \u001b[32m0.9008\u001b[0m  0.0629\n    391        \u001b[36m1.0195\u001b[0m        \u001b[32m0.9008\u001b[0m  0.0247\n    392        \u001b[36m1.0192\u001b[0m        \u001b[32m0.9007\u001b[0m  0.0187\n    393        \u001b[36m1.0189\u001b[0m        \u001b[32m0.9006\u001b[0m  0.0187\n    394        \u001b[36m1.0186\u001b[0m        \u001b[32m0.9006\u001b[0m  0.0185\n    395        \u001b[36m1.0183\u001b[0m        \u001b[32m0.9005\u001b[0m  0.0641\n    396        \u001b[36m1.0180\u001b[0m        \u001b[32m0.9004\u001b[0m  0.0197\n    397        \u001b[36m1.0177\u001b[0m        \u001b[32m0.9004\u001b[0m  0.0183\n    398        \u001b[36m1.0174\u001b[0m        \u001b[32m0.9003\u001b[0m  0.0191\n    399        \u001b[36m1.0171\u001b[0m        \u001b[32m0.9002\u001b[0m  0.0217\n    400        \u001b[36m1.0168\u001b[0m        \u001b[32m0.9002\u001b[0m  0.0677\n    401        \u001b[36m1.0165\u001b[0m        \u001b[32m0.9001\u001b[0m  0.0254\n    402        \u001b[36m1.0162\u001b[0m        \u001b[32m0.9000\u001b[0m  0.0676\n    403        \u001b[36m1.0159\u001b[0m        \u001b[32m0.9000\u001b[0m  0.0238\n    404        \u001b[36m1.0156\u001b[0m        \u001b[32m0.8999\u001b[0m  0.0697\n    405        \u001b[36m1.0153\u001b[0m        \u001b[32m0.8998\u001b[0m  0.0267\n    406        \u001b[36m1.0150\u001b[0m        \u001b[32m0.8998\u001b[0m  0.0647\n    407        \u001b[36m1.0147\u001b[0m        \u001b[32m0.8997\u001b[0m  0.0251\n    408        \u001b[36m1.0144\u001b[0m        \u001b[32m0.8997\u001b[0m  0.0753\n    409        \u001b[36m1.0141\u001b[0m        \u001b[32m0.8996\u001b[0m  0.0250\n    410        \u001b[36m1.0138\u001b[0m        \u001b[32m0.8995\u001b[0m  0.0686\n    411        \u001b[36m1.0135\u001b[0m        \u001b[32m0.8995\u001b[0m  0.0244\n    412        \u001b[36m1.0132\u001b[0m        \u001b[32m0.8994\u001b[0m  0.0690\n    413        \u001b[36m1.0129\u001b[0m        \u001b[32m0.8993\u001b[0m  0.0196\n    414        \u001b[36m1.0126\u001b[0m        \u001b[32m0.8993\u001b[0m  0.0230\n    415        \u001b[36m1.0123\u001b[0m        \u001b[32m0.8992\u001b[0m  0.0610\n    416        \u001b[36m1.0120\u001b[0m        \u001b[32m0.8991\u001b[0m  0.0209\n    417        \u001b[36m1.0117\u001b[0m        \u001b[32m0.8991\u001b[0m  0.0205\n    418        \u001b[36m1.0115\u001b[0m        \u001b[32m0.8990\u001b[0m  0.0186\n    419        \u001b[36m1.0112\u001b[0m        \u001b[32m0.8990\u001b[0m  0.0185\n    420        \u001b[36m1.0109\u001b[0m        \u001b[32m0.8989\u001b[0m  0.0662\n    421        \u001b[36m1.0106\u001b[0m        \u001b[32m0.8988\u001b[0m  0.0173\n    422        \u001b[36m1.0103\u001b[0m        \u001b[32m0.8988\u001b[0m  0.0685\n    423        \u001b[36m1.0100\u001b[0m        \u001b[32m0.8987\u001b[0m  0.0193\n    424        \u001b[36m1.0097\u001b[0m        \u001b[32m0.8986\u001b[0m  0.0174\n    425        \u001b[36m1.0094\u001b[0m        \u001b[32m0.8986\u001b[0m  0.0744\n    426        \u001b[36m1.0092\u001b[0m        \u001b[32m0.8985\u001b[0m  0.0250\n    427        \u001b[36m1.0089\u001b[0m        \u001b[32m0.8985\u001b[0m  0.0615\n    428        \u001b[36m1.0086\u001b[0m        \u001b[32m0.8984\u001b[0m  0.0190\n    429        \u001b[36m1.0083\u001b[0m        \u001b[32m0.8983\u001b[0m  0.0193\n    430        \u001b[36m1.0080\u001b[0m        \u001b[32m0.8983\u001b[0m  0.0670\n    431        \u001b[36m1.0077\u001b[0m        \u001b[32m0.8982\u001b[0m  0.0188\n    432        \u001b[36m1.0074\u001b[0m        \u001b[32m0.8981\u001b[0m  0.0667\n    433        \u001b[36m1.0072\u001b[0m        \u001b[32m0.8981\u001b[0m  0.0252\n    434        \u001b[36m1.0069\u001b[0m        \u001b[32m0.8980\u001b[0m  0.0166\n    435        \u001b[36m1.0066\u001b[0m        \u001b[32m0.8979\u001b[0m  0.0190\n    436        \u001b[36m1.0063\u001b[0m        \u001b[32m0.8979\u001b[0m  0.0206\n    437        \u001b[36m1.0060\u001b[0m        \u001b[32m0.8978\u001b[0m  0.0603\n    438        \u001b[36m1.0058\u001b[0m        \u001b[32m0.8978\u001b[0m  0.0171\n    439        \u001b[36m1.0055\u001b[0m        \u001b[32m0.8977\u001b[0m  0.0192\n    440        \u001b[36m1.0052\u001b[0m        \u001b[32m0.8976\u001b[0m  0.0802\n    441        \u001b[36m1.0049\u001b[0m        \u001b[32m0.8976\u001b[0m  0.0240\n    442        \u001b[36m1.0046\u001b[0m        \u001b[32m0.8975\u001b[0m  0.0671\n    443        \u001b[36m1.0044\u001b[0m        \u001b[32m0.8975\u001b[0m  0.0250\n    444        \u001b[36m1.0041\u001b[0m        \u001b[32m0.8974\u001b[0m  0.0734\n    445        \u001b[36m1.0038\u001b[0m        \u001b[32m0.8973\u001b[0m  0.0184\n    446        \u001b[36m1.0035\u001b[0m        \u001b[32m0.8973\u001b[0m  0.0714\n    447        \u001b[36m1.0032\u001b[0m        \u001b[32m0.8972\u001b[0m  0.0247\n    448        \u001b[36m1.0030\u001b[0m        \u001b[32m0.8971\u001b[0m  0.0630\n    449        \u001b[36m1.0027\u001b[0m        \u001b[32m0.8971\u001b[0m  0.0192\n    450        \u001b[36m1.0024\u001b[0m        \u001b[32m0.8970\u001b[0m  0.0700\n    451        \u001b[36m1.0021\u001b[0m        \u001b[32m0.8970\u001b[0m  0.0199\n    452        \u001b[36m1.0019\u001b[0m        \u001b[32m0.8969\u001b[0m  0.0186\n    453        \u001b[36m1.0016\u001b[0m        \u001b[32m0.8968\u001b[0m  0.0663\n    454        \u001b[36m1.0013\u001b[0m        \u001b[32m0.8968\u001b[0m  0.0192\n    455        \u001b[36m1.0010\u001b[0m        \u001b[32m0.8967\u001b[0m  0.0681\n    456        \u001b[36m1.0008\u001b[0m        \u001b[32m0.8966\u001b[0m  0.0243\n    457        \u001b[36m1.0005\u001b[0m        \u001b[32m0.8966\u001b[0m  0.0710\n    458        \u001b[36m1.0002\u001b[0m        \u001b[32m0.8965\u001b[0m  0.0353\n    459        \u001b[36m1.0000\u001b[0m        \u001b[32m0.8965\u001b[0m  0.0626\n    460        \u001b[36m0.9997\u001b[0m        \u001b[32m0.8964\u001b[0m  0.0199\n    461        \u001b[36m0.9994\u001b[0m        \u001b[32m0.8963\u001b[0m  0.0245\n    462        \u001b[36m0.9991\u001b[0m        \u001b[32m0.8963\u001b[0m  0.0661\n    463        \u001b[36m0.9989\u001b[0m        \u001b[32m0.8962\u001b[0m  0.0220\n    464        \u001b[36m0.9986\u001b[0m        \u001b[32m0.8962\u001b[0m  0.0655\n    465        \u001b[36m0.9983\u001b[0m        \u001b[32m0.8961\u001b[0m  0.0249\n    466        \u001b[36m0.9981\u001b[0m        \u001b[32m0.8960\u001b[0m  0.0684\n    467        \u001b[36m0.9978\u001b[0m        \u001b[32m0.8960\u001b[0m  0.0186\n    468        \u001b[36m0.9975\u001b[0m        \u001b[32m0.8959\u001b[0m  0.0190\n    469        \u001b[36m0.9972\u001b[0m        \u001b[32m0.8958\u001b[0m  0.0194\n    470        \u001b[36m0.9970\u001b[0m        \u001b[32m0.8958\u001b[0m  0.0192\n    471        \u001b[36m0.9967\u001b[0m        \u001b[32m0.8957\u001b[0m  0.0756\n    472        \u001b[36m0.9964\u001b[0m        \u001b[32m0.8957\u001b[0m  0.0254\n    473        \u001b[36m0.9962\u001b[0m        \u001b[32m0.8956\u001b[0m  0.0678\n    474        \u001b[36m0.9959\u001b[0m        \u001b[32m0.8955\u001b[0m  0.0236\n    475        \u001b[36m0.9956\u001b[0m        \u001b[32m0.8955\u001b[0m  0.0611\n    476        \u001b[36m0.9954\u001b[0m        \u001b[32m0.8954\u001b[0m  0.0189\n    477        \u001b[36m0.9951\u001b[0m        \u001b[32m0.8954\u001b[0m  0.0160\n    478        \u001b[36m0.9948\u001b[0m        \u001b[32m0.8953\u001b[0m  0.0656\n    479        \u001b[36m0.9946\u001b[0m        \u001b[32m0.8952\u001b[0m  0.0253\n    480        \u001b[36m0.9943\u001b[0m        \u001b[32m0.8952\u001b[0m  0.0699\n    481        \u001b[36m0.9940\u001b[0m        \u001b[32m0.8951\u001b[0m  0.0171\n    482        \u001b[36m0.9938\u001b[0m        \u001b[32m0.8951\u001b[0m  0.0206\n    483        \u001b[36m0.9935\u001b[0m        \u001b[32m0.8950\u001b[0m  0.0657\n    484        \u001b[36m0.9932\u001b[0m        \u001b[32m0.8949\u001b[0m  0.0250\n    485        \u001b[36m0.9930\u001b[0m        \u001b[32m0.8949\u001b[0m  0.0655\n    486        \u001b[36m0.9927\u001b[0m        \u001b[32m0.8948\u001b[0m  0.0154\n    487        \u001b[36m0.9924\u001b[0m        \u001b[32m0.8948\u001b[0m  0.0736\n    488        \u001b[36m0.9922\u001b[0m        \u001b[32m0.8947\u001b[0m  0.0249\n    489        \u001b[36m0.9919\u001b[0m        \u001b[32m0.8946\u001b[0m  0.0232\n    490        \u001b[36m0.9917\u001b[0m        \u001b[32m0.8946\u001b[0m  0.0204\n    491        \u001b[36m0.9914\u001b[0m        \u001b[32m0.8945\u001b[0m  0.0194\n    492        \u001b[36m0.9911\u001b[0m        \u001b[32m0.8945\u001b[0m  0.0751\n    493        \u001b[36m0.9909\u001b[0m        \u001b[32m0.8944\u001b[0m  0.0184\n    494        \u001b[36m0.9906\u001b[0m        \u001b[32m0.8943\u001b[0m  0.0658\n    495        \u001b[36m0.9903\u001b[0m        \u001b[32m0.8943\u001b[0m  0.0189\n    496        \u001b[36m0.9901\u001b[0m        \u001b[32m0.8942\u001b[0m  0.0195\n    497        \u001b[36m0.9898\u001b[0m        \u001b[32m0.8942\u001b[0m  0.0704\n    498        \u001b[36m0.9896\u001b[0m        \u001b[32m0.8941\u001b[0m  0.0249\n    499        \u001b[36m0.9893\u001b[0m        \u001b[32m0.8940\u001b[0m  0.0711\n    500        \u001b[36m0.9890\u001b[0m        \u001b[32m0.8940\u001b[0m  0.0229\n    501        \u001b[36m0.9888\u001b[0m        \u001b[32m0.8939\u001b[0m  0.0630\n    502        \u001b[36m0.9885\u001b[0m        \u001b[32m0.8939\u001b[0m  0.0207\n    503        \u001b[36m0.9883\u001b[0m        \u001b[32m0.8938\u001b[0m  0.0208\n    504        \u001b[36m0.9880\u001b[0m        \u001b[32m0.8937\u001b[0m  0.0168\n    505        \u001b[36m0.9877\u001b[0m        \u001b[32m0.8937\u001b[0m  0.0190\n    506        \u001b[36m0.9875\u001b[0m        \u001b[32m0.8936\u001b[0m  0.0156\n    507        \u001b[36m0.9872\u001b[0m        \u001b[32m0.8936\u001b[0m  0.0599\n    508        \u001b[36m0.9870\u001b[0m        \u001b[32m0.8935\u001b[0m  0.0184\n    509        \u001b[36m0.9867\u001b[0m        \u001b[32m0.8934\u001b[0m  0.0674\n    510        \u001b[36m0.9865\u001b[0m        \u001b[32m0.8934\u001b[0m  0.0192\n    511        \u001b[36m0.9862\u001b[0m        \u001b[32m0.8933\u001b[0m  0.0179\n    512        \u001b[36m0.9859\u001b[0m        \u001b[32m0.8933\u001b[0m  0.0590\n    513        \u001b[36m0.9857\u001b[0m        \u001b[32m0.8932\u001b[0m  0.0250\n    514        \u001b[36m0.9854\u001b[0m        \u001b[32m0.8932\u001b[0m  0.0687\n    515        \u001b[36m0.9852\u001b[0m        \u001b[32m0.8931\u001b[0m  0.0191\n    516        \u001b[36m0.9849\u001b[0m        \u001b[32m0.8930\u001b[0m  0.0173\n    517        \u001b[36m0.9847\u001b[0m        \u001b[32m0.8930\u001b[0m  0.0693\n    518        \u001b[36m0.9844\u001b[0m        \u001b[32m0.8929\u001b[0m  0.0163\n    519        \u001b[36m0.9842\u001b[0m        \u001b[32m0.8929\u001b[0m  0.0685\n    520        \u001b[36m0.9839\u001b[0m        \u001b[32m0.8928\u001b[0m  0.0235\n    521        \u001b[36m0.9836\u001b[0m        \u001b[32m0.8927\u001b[0m  0.0696\n    522        \u001b[36m0.9834\u001b[0m        \u001b[32m0.8927\u001b[0m  0.0284\n    523        \u001b[36m0.9831\u001b[0m        \u001b[32m0.8926\u001b[0m  0.0240\n    524        \u001b[36m0.9829\u001b[0m        \u001b[32m0.8926\u001b[0m  0.0218\n    525        \u001b[36m0.9826\u001b[0m        \u001b[32m0.8925\u001b[0m  0.0185\n    526        \u001b[36m0.9824\u001b[0m        \u001b[32m0.8925\u001b[0m  0.0634\n    527        \u001b[36m0.9821\u001b[0m        \u001b[32m0.8924\u001b[0m  0.0290\n    528        \u001b[36m0.9819\u001b[0m        \u001b[32m0.8923\u001b[0m  0.0604\n    529        \u001b[36m0.9816\u001b[0m        \u001b[32m0.8923\u001b[0m  0.0237\n    530        \u001b[36m0.9814\u001b[0m        \u001b[32m0.8922\u001b[0m  0.0729\n    531        \u001b[36m0.9811\u001b[0m        \u001b[32m0.8922\u001b[0m  0.0213\n    532        \u001b[36m0.9809\u001b[0m        \u001b[32m0.8921\u001b[0m  0.0245\n    533        \u001b[36m0.9806\u001b[0m        \u001b[32m0.8921\u001b[0m  0.0620\n    534        \u001b[36m0.9804\u001b[0m        \u001b[32m0.8920\u001b[0m  0.0232\n    535        \u001b[36m0.9801\u001b[0m        \u001b[32m0.8920\u001b[0m  0.0663\n    536        \u001b[36m0.9799\u001b[0m        \u001b[32m0.8919\u001b[0m  0.0262\n    537        \u001b[36m0.9796\u001b[0m        \u001b[32m0.8918\u001b[0m  0.0738\n    538        \u001b[36m0.9794\u001b[0m        \u001b[32m0.8918\u001b[0m  0.0256\n    539        \u001b[36m0.9791\u001b[0m        \u001b[32m0.8917\u001b[0m  0.0691\n    540        \u001b[36m0.9789\u001b[0m        \u001b[32m0.8917\u001b[0m  0.0163\n    541        \u001b[36m0.9786\u001b[0m        \u001b[32m0.8916\u001b[0m  0.0178\n    542        \u001b[36m0.9784\u001b[0m        \u001b[32m0.8916\u001b[0m  0.0670\n    543        \u001b[36m0.9781\u001b[0m        \u001b[32m0.8915\u001b[0m  0.0162\n    544        \u001b[36m0.9779\u001b[0m        \u001b[32m0.8915\u001b[0m  0.0159\n    545        \u001b[36m0.9776\u001b[0m        \u001b[32m0.8914\u001b[0m  0.0195\n    546        \u001b[36m0.9774\u001b[0m        \u001b[32m0.8913\u001b[0m  0.0182\n    547        \u001b[36m0.9771\u001b[0m        \u001b[32m0.8913\u001b[0m  0.0670\n    548        \u001b[36m0.9769\u001b[0m        \u001b[32m0.8912\u001b[0m  0.0194\n    549        \u001b[36m0.9766\u001b[0m        \u001b[32m0.8912\u001b[0m  0.0687\n    550        \u001b[36m0.9764\u001b[0m        \u001b[32m0.8911\u001b[0m  0.0189\n    551        \u001b[36m0.9761\u001b[0m        \u001b[32m0.8911\u001b[0m  0.0184\n    552        \u001b[36m0.9759\u001b[0m        \u001b[32m0.8910\u001b[0m  0.0659\n    553        \u001b[36m0.9756\u001b[0m        \u001b[32m0.8910\u001b[0m  0.0204\n    554        \u001b[36m0.9754\u001b[0m        \u001b[32m0.8909\u001b[0m  0.0675\n    555        \u001b[36m0.9751\u001b[0m        \u001b[32m0.8909\u001b[0m  0.0190\n    556        \u001b[36m0.9749\u001b[0m        \u001b[32m0.8908\u001b[0m  0.0189\n    557        \u001b[36m0.9747\u001b[0m        \u001b[32m0.8907\u001b[0m  0.0664\n    558        \u001b[36m0.9744\u001b[0m        \u001b[32m0.8907\u001b[0m  0.0243\n    559        \u001b[36m0.9742\u001b[0m        \u001b[32m0.8906\u001b[0m  0.0664\n    560        \u001b[36m0.9739\u001b[0m        \u001b[32m0.8906\u001b[0m  0.0189\n    561        \u001b[36m0.9737\u001b[0m        \u001b[32m0.8905\u001b[0m  0.0190\n    562        \u001b[36m0.9734\u001b[0m        \u001b[32m0.8905\u001b[0m  0.0669\n    563        \u001b[36m0.9732\u001b[0m        \u001b[32m0.8904\u001b[0m  0.0231\n    564        \u001b[36m0.9730\u001b[0m        \u001b[32m0.8904\u001b[0m  0.0688\n    565        \u001b[36m0.9727\u001b[0m        \u001b[32m0.8903\u001b[0m  0.0254\n    566        \u001b[36m0.9725\u001b[0m        \u001b[32m0.8903\u001b[0m  0.0701\n    567        \u001b[36m0.9722\u001b[0m        \u001b[32m0.8902\u001b[0m  0.0275\n    568        \u001b[36m0.9720\u001b[0m        \u001b[32m0.8902\u001b[0m  0.0615\n    569        \u001b[36m0.9717\u001b[0m        \u001b[32m0.8901\u001b[0m  0.0185\n    570        \u001b[36m0.9715\u001b[0m        \u001b[32m0.8901\u001b[0m  0.0181\n    571        \u001b[36m0.9713\u001b[0m        \u001b[32m0.8900\u001b[0m  0.0786\n    572        \u001b[36m0.9710\u001b[0m        \u001b[32m0.8899\u001b[0m  0.0193\n    573        \u001b[36m0.9708\u001b[0m        \u001b[32m0.8899\u001b[0m  0.0593\n    574        \u001b[36m0.9705\u001b[0m        \u001b[32m0.8898\u001b[0m  0.0190\n    575        \u001b[36m0.9703\u001b[0m        \u001b[32m0.8898\u001b[0m  0.0196\n    576        \u001b[36m0.9701\u001b[0m        \u001b[32m0.8897\u001b[0m  0.0667\n    577        \u001b[36m0.9698\u001b[0m        \u001b[32m0.8897\u001b[0m  0.0244\n    578        \u001b[36m0.9696\u001b[0m        \u001b[32m0.8896\u001b[0m  0.0709\n    579        \u001b[36m0.9693\u001b[0m        \u001b[32m0.8896\u001b[0m  0.0197\n    580        \u001b[36m0.9691\u001b[0m        \u001b[32m0.8895\u001b[0m  0.0639\n    581        \u001b[36m0.9689\u001b[0m        \u001b[32m0.8895\u001b[0m  0.0166\n    582        \u001b[36m0.9686\u001b[0m        \u001b[32m0.8894\u001b[0m  0.0167\n    583        \u001b[36m0.9684\u001b[0m        \u001b[32m0.8894\u001b[0m  0.0644\n    584        \u001b[36m0.9681\u001b[0m        \u001b[32m0.8893\u001b[0m  0.0199\n    585        \u001b[36m0.9679\u001b[0m        \u001b[32m0.8893\u001b[0m  0.0165\n    586        \u001b[36m0.9677\u001b[0m        \u001b[32m0.8892\u001b[0m  0.0660\n    587        \u001b[36m0.9674\u001b[0m        \u001b[32m0.8892\u001b[0m  0.0230\n    588        \u001b[36m0.9672\u001b[0m        \u001b[32m0.8891\u001b[0m  0.0705\n    589        \u001b[36m0.9670\u001b[0m        \u001b[32m0.8891\u001b[0m  0.0242\n    590        \u001b[36m0.9667\u001b[0m        \u001b[32m0.8890\u001b[0m  0.0736\n    591        \u001b[36m0.9665\u001b[0m        \u001b[32m0.8890\u001b[0m  0.0217\n    592        \u001b[36m0.9663\u001b[0m        \u001b[32m0.8889\u001b[0m  0.0693\n    593        \u001b[36m0.9660\u001b[0m        \u001b[32m0.8889\u001b[0m  0.0274\n    594        \u001b[36m0.9658\u001b[0m        \u001b[32m0.8888\u001b[0m  0.0606\n    595        \u001b[36m0.9656\u001b[0m        \u001b[32m0.8888\u001b[0m  0.0233\n    596        \u001b[36m0.9653\u001b[0m        \u001b[32m0.8887\u001b[0m  0.0668\n    597        \u001b[36m0.9651\u001b[0m        \u001b[32m0.8887\u001b[0m  0.0263\n    598        \u001b[36m0.9648\u001b[0m        \u001b[32m0.8886\u001b[0m  0.0695\n    599        \u001b[36m0.9646\u001b[0m        \u001b[32m0.8886\u001b[0m  0.0248\n    600        \u001b[36m0.9644\u001b[0m        \u001b[32m0.8885\u001b[0m  0.0232\n    601        \u001b[36m0.9641\u001b[0m        \u001b[32m0.8885\u001b[0m  0.0189\n    602        \u001b[36m0.9639\u001b[0m        \u001b[32m0.8884\u001b[0m  0.0184\n    603        \u001b[36m0.9637\u001b[0m        \u001b[32m0.8884\u001b[0m  0.0626\n    604        \u001b[36m0.9635\u001b[0m        \u001b[32m0.8883\u001b[0m  0.0192\n    605        \u001b[36m0.9632\u001b[0m        \u001b[32m0.8883\u001b[0m  0.0201\n    606        \u001b[36m0.9630\u001b[0m        \u001b[32m0.8882\u001b[0m  0.0688\n    607        \u001b[36m0.9628\u001b[0m        \u001b[32m0.8882\u001b[0m  0.0248\n    608        \u001b[36m0.9625\u001b[0m        \u001b[32m0.8882\u001b[0m  0.0648\n    609        \u001b[36m0.9623\u001b[0m        \u001b[32m0.8881\u001b[0m  0.0190\n    610        \u001b[36m0.9621\u001b[0m        \u001b[32m0.8881\u001b[0m  0.0747\n    611        \u001b[36m0.9618\u001b[0m        \u001b[32m0.8880\u001b[0m  0.0234\n    612        \u001b[36m0.9616\u001b[0m        \u001b[32m0.8880\u001b[0m  0.0706\n    613        \u001b[36m0.9614\u001b[0m        \u001b[32m0.8879\u001b[0m  0.0244\n    614        \u001b[36m0.9612\u001b[0m        \u001b[32m0.8879\u001b[0m  0.0693\n    615        \u001b[36m0.9609\u001b[0m        \u001b[32m0.8878\u001b[0m  0.0261\n    616        \u001b[36m0.9607\u001b[0m        \u001b[32m0.8878\u001b[0m  0.0214\n    617        \u001b[36m0.9605\u001b[0m        \u001b[32m0.8877\u001b[0m  0.0206\n    618        \u001b[36m0.9602\u001b[0m        \u001b[32m0.8877\u001b[0m  0.0152\n    619        \u001b[36m0.9600\u001b[0m        \u001b[32m0.8876\u001b[0m  0.0639\n    620        \u001b[36m0.9598\u001b[0m        \u001b[32m0.8876\u001b[0m  0.0197\n    621        \u001b[36m0.9596\u001b[0m        \u001b[32m0.8875\u001b[0m  0.0228\n    622        \u001b[36m0.9593\u001b[0m        \u001b[32m0.8875\u001b[0m  0.0189\n    623        \u001b[36m0.9591\u001b[0m        \u001b[32m0.8874\u001b[0m  0.0201\n    624        \u001b[36m0.9589\u001b[0m        \u001b[32m0.8874\u001b[0m  0.0680\n    625        \u001b[36m0.9587\u001b[0m        \u001b[32m0.8874\u001b[0m  0.0196\n    626        \u001b[36m0.9584\u001b[0m        \u001b[32m0.8873\u001b[0m  0.0150\n    627        \u001b[36m0.9582\u001b[0m        \u001b[32m0.8873\u001b[0m  0.0643\n    628        \u001b[36m0.9580\u001b[0m        \u001b[32m0.8872\u001b[0m  0.0186\n    629        \u001b[36m0.9578\u001b[0m        \u001b[32m0.8872\u001b[0m  0.0163\n    630        \u001b[36m0.9575\u001b[0m        \u001b[32m0.8871\u001b[0m  0.0264\n    631        \u001b[36m0.9573\u001b[0m        \u001b[32m0.8871\u001b[0m  0.0157\n    632        \u001b[36m0.9571\u001b[0m        \u001b[32m0.8870\u001b[0m  0.0564\n    633        \u001b[36m0.9569\u001b[0m        \u001b[32m0.8870\u001b[0m  0.0157\n    634        \u001b[36m0.9566\u001b[0m        \u001b[32m0.8870\u001b[0m  0.0160\n    635        \u001b[36m0.9564\u001b[0m        \u001b[32m0.8869\u001b[0m  0.0640\n    636        \u001b[36m0.9562\u001b[0m        \u001b[32m0.8869\u001b[0m  0.0167\n    637        \u001b[36m0.9560\u001b[0m        \u001b[32m0.8868\u001b[0m  0.0176\n    638        \u001b[36m0.9558\u001b[0m        \u001b[32m0.8868\u001b[0m  0.0254\n    639        \u001b[36m0.9555\u001b[0m        \u001b[32m0.8867\u001b[0m  0.0211\n    640        \u001b[36m0.9553\u001b[0m        \u001b[32m0.8867\u001b[0m  0.0670\n    641        \u001b[36m0.9551\u001b[0m        \u001b[32m0.8866\u001b[0m  0.0183\n    642        \u001b[36m0.9549\u001b[0m        \u001b[32m0.8866\u001b[0m  0.0686\n    643        \u001b[36m0.9546\u001b[0m        \u001b[32m0.8866\u001b[0m  0.0191\n    644        \u001b[36m0.9544\u001b[0m        \u001b[32m0.8865\u001b[0m  0.0208\n    645        \u001b[36m0.9542\u001b[0m        \u001b[32m0.8865\u001b[0m  0.0233\n    646        \u001b[36m0.9540\u001b[0m        \u001b[32m0.8864\u001b[0m  0.0218\nStopping since valid_loss has not improved in the last 20 epochs.\n  epoch    train_loss    valid_loss     dur\n-------  ------------  ------------  ------\n      1      \u001b[36m227.9294\u001b[0m      \u001b[32m228.6749\u001b[0m  0.0208\n      2      \u001b[36m206.9015\u001b[0m      \u001b[32m183.7743\u001b[0m  0.0721\n      3      \u001b[36m157.5124\u001b[0m       \u001b[32m98.4445\u001b[0m  0.0197\n      4       \u001b[36m72.5133\u001b[0m       \u001b[32m19.5232\u001b[0m  0.0719\n      5       \u001b[36m20.9884\u001b[0m       41.3031  0.0201\n      6       43.3403       50.9828  0.0205\n      7       44.1046       21.8196  0.0659\n      8       \u001b[36m19.7992\u001b[0m        \u001b[32m8.7766\u001b[0m  0.0198\n      9        \u001b[36m9.3399\u001b[0m       14.5796  0.0670\n     10       14.0396       17.8387  0.0236\n     11       15.0302       12.5297  0.0188\n     12       10.1473        \u001b[32m6.9730\u001b[0m  0.0624\n     13        \u001b[36m6.4305\u001b[0m        \u001b[32m5.2753\u001b[0m  0.0207\n     14        \u001b[36m6.0342\u001b[0m        5.8755  0.0630\n     15        6.7671        5.6692  0.0215\n     16        6.4530        5.3467  0.0189\n     17        \u001b[36m5.7909\u001b[0m        \u001b[32m3.8703\u001b[0m  0.0638\n     18        \u001b[36m4.1083\u001b[0m        \u001b[32m2.9791\u001b[0m  0.0196\n     19        \u001b[36m3.3040\u001b[0m        \u001b[32m2.8619\u001b[0m  0.0196\n     20        \u001b[36m3.0866\u001b[0m        \u001b[32m2.6919\u001b[0m  0.0278\n     21        \u001b[36m2.7961\u001b[0m        \u001b[32m2.4630\u001b[0m  0.0242\n     22        \u001b[36m2.5022\u001b[0m        \u001b[32m2.2706\u001b[0m  0.0251\n     23        \u001b[36m2.2928\u001b[0m        \u001b[32m2.0283\u001b[0m  0.0165\n     24        \u001b[36m2.0811\u001b[0m        \u001b[32m1.7446\u001b[0m  0.0607\n     25        \u001b[36m1.8859\u001b[0m        \u001b[32m1.5591\u001b[0m  0.0197\n     26        \u001b[36m1.7962\u001b[0m        \u001b[32m1.4811\u001b[0m  0.0200\n     27        \u001b[36m1.7616\u001b[0m        \u001b[32m1.4157\u001b[0m  0.0717\n     28        \u001b[36m1.6878\u001b[0m        \u001b[32m1.3637\u001b[0m  0.0188\n     29        \u001b[36m1.6056\u001b[0m        1.3799  0.0668\n     30        \u001b[36m1.5828\u001b[0m        1.4202  0.0190\n     31        1.5878        1.3970  0.0195\n     32        \u001b[36m1.5582\u001b[0m        \u001b[32m1.3194\u001b[0m  0.0582\n     33        \u001b[36m1.5083\u001b[0m        \u001b[32m1.2581\u001b[0m  0.0186\n     34        \u001b[36m1.4806\u001b[0m        \u001b[32m1.2331\u001b[0m  0.0708\n     35        \u001b[36m1.4688\u001b[0m        \u001b[32m1.2180\u001b[0m  0.0255\n     36        \u001b[36m1.4475\u001b[0m        \u001b[32m1.2039\u001b[0m  0.0719\n     37        \u001b[36m1.4214\u001b[0m        \u001b[32m1.2009\u001b[0m  0.0260\n     38        \u001b[36m1.4079\u001b[0m        1.2025  0.0730\n     39        \u001b[36m1.4041\u001b[0m        \u001b[32m1.1916\u001b[0m  0.0209\n     40        \u001b[36m1.3968\u001b[0m        \u001b[32m1.1690\u001b[0m  0.0693\n     41        \u001b[36m1.3854\u001b[0m        \u001b[32m1.1501\u001b[0m  0.0193\n     42        \u001b[36m1.3765\u001b[0m        \u001b[32m1.1416\u001b[0m  0.0170\n     43        \u001b[36m1.3702\u001b[0m        \u001b[32m1.1386\u001b[0m  0.0655\n     44        \u001b[36m1.3630\u001b[0m        \u001b[32m1.1364\u001b[0m  0.0165\n     45        \u001b[36m1.3549\u001b[0m        \u001b[32m1.1338\u001b[0m  0.0182\n     46        \u001b[36m1.3484\u001b[0m        \u001b[32m1.1293\u001b[0m  0.0691\n     47        \u001b[36m1.3434\u001b[0m        \u001b[32m1.1215\u001b[0m  0.0264\n     48        \u001b[36m1.3379\u001b[0m        \u001b[32m1.1123\u001b[0m  0.0757\n     49        \u001b[36m1.3317\u001b[0m        \u001b[32m1.1051\u001b[0m  0.0261\n     50        \u001b[36m1.3259\u001b[0m        \u001b[32m1.1007\u001b[0m  0.0695\n     51        \u001b[36m1.3207\u001b[0m        \u001b[32m1.0976\u001b[0m  0.0247\n     52        \u001b[36m1.3155\u001b[0m        \u001b[32m1.0942\u001b[0m  0.0737\n     53        \u001b[36m1.3104\u001b[0m        \u001b[32m1.0901\u001b[0m  0.0189\n     54        \u001b[36m1.3058\u001b[0m        \u001b[32m1.0853\u001b[0m  0.0680\n     55        \u001b[36m1.3015\u001b[0m        \u001b[32m1.0799\u001b[0m  0.0255\n     56        \u001b[36m1.2970\u001b[0m        \u001b[32m1.0747\u001b[0m  0.0679\n     57        \u001b[36m1.2922\u001b[0m        \u001b[32m1.0703\u001b[0m  0.0164\n     58        \u001b[36m1.2876\u001b[0m        \u001b[32m1.0668\u001b[0m  0.0164\n     59        \u001b[36m1.2831\u001b[0m        \u001b[32m1.0633\u001b[0m  0.0609\n     60        \u001b[36m1.2788\u001b[0m        \u001b[32m1.0597\u001b[0m  0.0165\n     61        \u001b[36m1.2746\u001b[0m        \u001b[32m1.0559\u001b[0m  0.0229\n     62        \u001b[36m1.2706\u001b[0m        \u001b[32m1.0521\u001b[0m  0.0605\n     63        \u001b[36m1.2667\u001b[0m        \u001b[32m1.0483\u001b[0m  0.0223\n     64        \u001b[36m1.2627\u001b[0m        \u001b[32m1.0447\u001b[0m  0.0660\n     65        \u001b[36m1.2588\u001b[0m        \u001b[32m1.0414\u001b[0m  0.0212\n     66        \u001b[36m1.2548\u001b[0m        \u001b[32m1.0381\u001b[0m  0.0170\n     67        \u001b[36m1.2510\u001b[0m        \u001b[32m1.0348\u001b[0m  0.0654\n     68        \u001b[36m1.2472\u001b[0m        \u001b[32m1.0316\u001b[0m  0.0191\n     69        \u001b[36m1.2436\u001b[0m        \u001b[32m1.0283\u001b[0m  0.0179\n     70        \u001b[36m1.2400\u001b[0m        \u001b[32m1.0251\u001b[0m  0.0176\n     71        \u001b[36m1.2365\u001b[0m        \u001b[32m1.0220\u001b[0m  0.0214\n     72        \u001b[36m1.2329\u001b[0m        \u001b[32m1.0190\u001b[0m  0.0672\n     73        \u001b[36m1.2294\u001b[0m        \u001b[32m1.0160\u001b[0m  0.0228\n     74        \u001b[36m1.2260\u001b[0m        \u001b[32m1.0131\u001b[0m  0.0723\n     75        \u001b[36m1.2226\u001b[0m        \u001b[32m1.0101\u001b[0m  0.0224\n     76        \u001b[36m1.2193\u001b[0m        \u001b[32m1.0072\u001b[0m  0.1290\n     77        \u001b[36m1.2161\u001b[0m        \u001b[32m1.0044\u001b[0m  0.0468\n     78        \u001b[36m1.2129\u001b[0m        \u001b[32m1.0017\u001b[0m  0.0171\n     79        \u001b[36m1.2097\u001b[0m        \u001b[32m0.9990\u001b[0m  0.0197\n     80        \u001b[36m1.2066\u001b[0m        \u001b[32m0.9964\u001b[0m  0.0245\n     81        \u001b[36m1.2035\u001b[0m        \u001b[32m0.9938\u001b[0m  0.0194\n     82        \u001b[36m1.2005\u001b[0m        \u001b[32m0.9913\u001b[0m  0.0623\n     83        \u001b[36m1.1975\u001b[0m        \u001b[32m0.9889\u001b[0m  0.0207\n     84        \u001b[36m1.1946\u001b[0m        \u001b[32m0.9865\u001b[0m  0.0656\n     85        \u001b[36m1.1918\u001b[0m        \u001b[32m0.9842\u001b[0m  0.0196\n     86        \u001b[36m1.1890\u001b[0m        \u001b[32m0.9819\u001b[0m  0.0207\n     87        \u001b[36m1.1862\u001b[0m        \u001b[32m0.9797\u001b[0m  0.0724\n     88        \u001b[36m1.1835\u001b[0m        \u001b[32m0.9776\u001b[0m  0.0187\n     89        \u001b[36m1.1808\u001b[0m        \u001b[32m0.9755\u001b[0m  0.0663\n     90        \u001b[36m1.1782\u001b[0m        \u001b[32m0.9734\u001b[0m  0.0236\n     91        \u001b[36m1.1757\u001b[0m        \u001b[32m0.9714\u001b[0m  0.0751\n     92        \u001b[36m1.1731\u001b[0m        \u001b[32m0.9695\u001b[0m  0.0170\n     93        \u001b[36m1.1707\u001b[0m        \u001b[32m0.9677\u001b[0m  0.0180\n     94        \u001b[36m1.1683\u001b[0m        \u001b[32m0.9659\u001b[0m  0.0740\n     95        \u001b[36m1.1659\u001b[0m        \u001b[32m0.9641\u001b[0m  0.0173\n     96        \u001b[36m1.1636\u001b[0m        \u001b[32m0.9624\u001b[0m  0.0659\n     97        \u001b[36m1.1613\u001b[0m        \u001b[32m0.9607\u001b[0m  0.0163\n     98        \u001b[36m1.1591\u001b[0m        \u001b[32m0.9591\u001b[0m  0.0182\n     99        \u001b[36m1.1569\u001b[0m        \u001b[32m0.9576\u001b[0m  0.0709\n    100        \u001b[36m1.1547\u001b[0m        \u001b[32m0.9561\u001b[0m  0.0244\n    101        \u001b[36m1.1526\u001b[0m        \u001b[32m0.9546\u001b[0m  0.0670\n    102        \u001b[36m1.1506\u001b[0m        \u001b[32m0.9532\u001b[0m  0.0170\n    103        \u001b[36m1.1486\u001b[0m        \u001b[32m0.9518\u001b[0m  0.0175\n    104        \u001b[36m1.1466\u001b[0m        \u001b[32m0.9505\u001b[0m  0.0167\n    105        \u001b[36m1.1447\u001b[0m        \u001b[32m0.9492\u001b[0m  0.0172\n    106        \u001b[36m1.1428\u001b[0m        \u001b[32m0.9479\u001b[0m  0.0673\n    107        \u001b[36m1.1410\u001b[0m        \u001b[32m0.9467\u001b[0m  0.0185\n    108        \u001b[36m1.1392\u001b[0m        \u001b[32m0.9455\u001b[0m  0.0161\n    109        \u001b[36m1.1374\u001b[0m        \u001b[32m0.9444\u001b[0m  0.0696\n    110        \u001b[36m1.1357\u001b[0m        \u001b[32m0.9432\u001b[0m  0.0252\n    111        \u001b[36m1.1340\u001b[0m        \u001b[32m0.9422\u001b[0m  0.0616\n    112        \u001b[36m1.1323\u001b[0m        \u001b[32m0.9411\u001b[0m  0.0165\n    113        \u001b[36m1.1307\u001b[0m        \u001b[32m0.9401\u001b[0m  0.0181\n    114        \u001b[36m1.1291\u001b[0m        \u001b[32m0.9391\u001b[0m  0.0174\n    115        \u001b[36m1.1276\u001b[0m        \u001b[32m0.9382\u001b[0m  0.0173\n    116        \u001b[36m1.1260\u001b[0m        \u001b[32m0.9372\u001b[0m  0.0664\n    117        \u001b[36m1.1245\u001b[0m        \u001b[32m0.9363\u001b[0m  0.0270\n    118        \u001b[36m1.1231\u001b[0m        \u001b[32m0.9354\u001b[0m  0.0196\n    119        \u001b[36m1.1216\u001b[0m        \u001b[32m0.9346\u001b[0m  0.0574\n    120        \u001b[36m1.1202\u001b[0m        \u001b[32m0.9338\u001b[0m  0.0157\n    121        \u001b[36m1.1188\u001b[0m        \u001b[32m0.9329\u001b[0m  0.0669\n    122        \u001b[36m1.1175\u001b[0m        \u001b[32m0.9322\u001b[0m  0.0277\n    123        \u001b[36m1.1161\u001b[0m        \u001b[32m0.9314\u001b[0m  0.0166\n    124        \u001b[36m1.1148\u001b[0m        \u001b[32m0.9306\u001b[0m  0.0582\n    125        \u001b[36m1.1135\u001b[0m        \u001b[32m0.9299\u001b[0m  0.0199\n    126        \u001b[36m1.1123\u001b[0m        \u001b[32m0.9292\u001b[0m  0.0189\n    127        \u001b[36m1.1110\u001b[0m        \u001b[32m0.9285\u001b[0m  0.0715\n    128        \u001b[36m1.1098\u001b[0m        \u001b[32m0.9278\u001b[0m  0.0245\n    129        \u001b[36m1.1086\u001b[0m        \u001b[32m0.9272\u001b[0m  0.0647\n    130        \u001b[36m1.1074\u001b[0m        \u001b[32m0.9265\u001b[0m  0.0244\n    131        \u001b[36m1.1063\u001b[0m        \u001b[32m0.9259\u001b[0m  0.0657\n    132        \u001b[36m1.1051\u001b[0m        \u001b[32m0.9253\u001b[0m  0.0194\n    133        \u001b[36m1.1040\u001b[0m        \u001b[32m0.9247\u001b[0m  0.0196\n    134        \u001b[36m1.1029\u001b[0m        \u001b[32m0.9241\u001b[0m  0.0641\n    135        \u001b[36m1.1018\u001b[0m        \u001b[32m0.9236\u001b[0m  0.0203\n    136        \u001b[36m1.1007\u001b[0m        \u001b[32m0.9230\u001b[0m  0.0724\n    137        \u001b[36m1.0996\u001b[0m        \u001b[32m0.9225\u001b[0m  0.0252\n    138        \u001b[36m1.0986\u001b[0m        \u001b[32m0.9219\u001b[0m  0.0687\n    139        \u001b[36m1.0976\u001b[0m        \u001b[32m0.9214\u001b[0m  0.0253\n    140        \u001b[36m1.0965\u001b[0m        \u001b[32m0.9209\u001b[0m  0.0665\n    141        \u001b[36m1.0955\u001b[0m        \u001b[32m0.9204\u001b[0m  0.0238\n    142        \u001b[36m1.0945\u001b[0m        \u001b[32m0.9199\u001b[0m  0.0695\n    143        \u001b[36m1.0936\u001b[0m        \u001b[32m0.9194\u001b[0m  0.0244\n    144        \u001b[36m1.0926\u001b[0m        \u001b[32m0.9189\u001b[0m  0.0723\n    145        \u001b[36m1.0916\u001b[0m        \u001b[32m0.9185\u001b[0m  0.0171\n    146        \u001b[36m1.0907\u001b[0m        \u001b[32m0.9180\u001b[0m  0.0188\n    147        \u001b[36m1.0897\u001b[0m        \u001b[32m0.9176\u001b[0m  0.0725\n    148        \u001b[36m1.0888\u001b[0m        \u001b[32m0.9171\u001b[0m  0.0271\n    149        \u001b[36m1.0879\u001b[0m        \u001b[32m0.9167\u001b[0m  0.0620\n    150        \u001b[36m1.0870\u001b[0m        \u001b[32m0.9163\u001b[0m  0.0211\n    151        \u001b[36m1.0861\u001b[0m        \u001b[32m0.9159\u001b[0m  0.0720\n    152        \u001b[36m1.0852\u001b[0m        \u001b[32m0.9155\u001b[0m  0.0201\n    153        \u001b[36m1.0844\u001b[0m        \u001b[32m0.9151\u001b[0m  0.0672\n    154        \u001b[36m1.0835\u001b[0m        \u001b[32m0.9147\u001b[0m  0.0176\n    155        \u001b[36m1.0826\u001b[0m        \u001b[32m0.9143\u001b[0m  0.0161\n    156        \u001b[36m1.0818\u001b[0m        \u001b[32m0.9139\u001b[0m  0.0678\n    157        \u001b[36m1.0810\u001b[0m        \u001b[32m0.9136\u001b[0m  0.0249\n    158        \u001b[36m1.0801\u001b[0m        \u001b[32m0.9132\u001b[0m  0.0682\n    159        \u001b[36m1.0793\u001b[0m        \u001b[32m0.9128\u001b[0m  0.0165\n    160        \u001b[36m1.0785\u001b[0m        \u001b[32m0.9125\u001b[0m  0.0183\n    161        \u001b[36m1.0777\u001b[0m        \u001b[32m0.9121\u001b[0m  0.0644\n    162        \u001b[36m1.0769\u001b[0m        \u001b[32m0.9118\u001b[0m  0.0176\n    163        \u001b[36m1.0761\u001b[0m        \u001b[32m0.9115\u001b[0m  0.0161\n    164        \u001b[36m1.0753\u001b[0m        \u001b[32m0.9111\u001b[0m  0.0189\n    165        \u001b[36m1.0745\u001b[0m        \u001b[32m0.9108\u001b[0m  0.0248\n    166        \u001b[36m1.0738\u001b[0m        \u001b[32m0.9105\u001b[0m  0.0763\n    167        \u001b[36m1.0730\u001b[0m        \u001b[32m0.9102\u001b[0m  0.0253\n    168        \u001b[36m1.0722\u001b[0m        \u001b[32m0.9098\u001b[0m  0.0736\n    169        \u001b[36m1.0715\u001b[0m        \u001b[32m0.9095\u001b[0m  0.0255\n    170        \u001b[36m1.0707\u001b[0m        \u001b[32m0.9092\u001b[0m  0.0692\n    171        \u001b[36m1.0700\u001b[0m        \u001b[32m0.9089\u001b[0m  0.0207\n    172        \u001b[36m1.0693\u001b[0m        \u001b[32m0.9086\u001b[0m  0.0679\n    173        \u001b[36m1.0685\u001b[0m        \u001b[32m0.9084\u001b[0m  0.0211\n    174        \u001b[36m1.0678\u001b[0m        \u001b[32m0.9081\u001b[0m  0.0644\n    175        \u001b[36m1.0671\u001b[0m        \u001b[32m0.9078\u001b[0m  0.0227\n    176        \u001b[36m1.0664\u001b[0m        \u001b[32m0.9075\u001b[0m  0.0718\n    177        \u001b[36m1.0657\u001b[0m        \u001b[32m0.9072\u001b[0m  0.0255\n    178        \u001b[36m1.0650\u001b[0m        \u001b[32m0.9070\u001b[0m  0.0255\n    179        \u001b[36m1.0643\u001b[0m        \u001b[32m0.9067\u001b[0m  0.0254\n    180        \u001b[36m1.0636\u001b[0m        \u001b[32m0.9064\u001b[0m  0.0232\n    181        \u001b[36m1.0629\u001b[0m        \u001b[32m0.9062\u001b[0m  0.0621\n    182        \u001b[36m1.0622\u001b[0m        \u001b[32m0.9059\u001b[0m  0.0178\n    183        \u001b[36m1.0616\u001b[0m        \u001b[32m0.9057\u001b[0m  0.0655\n    184        \u001b[36m1.0609\u001b[0m        \u001b[32m0.9054\u001b[0m  0.0168\n    185        \u001b[36m1.0602\u001b[0m        \u001b[32m0.9051\u001b[0m  0.0194\n    186        \u001b[36m1.0596\u001b[0m        \u001b[32m0.9049\u001b[0m  0.0632\n    187        \u001b[36m1.0589\u001b[0m        \u001b[32m0.9047\u001b[0m  0.0256\n    188        \u001b[36m1.0582\u001b[0m        \u001b[32m0.9044\u001b[0m  0.0612\n    189        \u001b[36m1.0576\u001b[0m        \u001b[32m0.9042\u001b[0m  0.0248\n    190        \u001b[36m1.0569\u001b[0m        \u001b[32m0.9039\u001b[0m  0.0652\n    191        \u001b[36m1.0563\u001b[0m        \u001b[32m0.9037\u001b[0m  0.0172\n    192        \u001b[36m1.0557\u001b[0m        \u001b[32m0.9035\u001b[0m  0.0181\n    193        \u001b[36m1.0550\u001b[0m        \u001b[32m0.9033\u001b[0m  0.0679\n    194        \u001b[36m1.0544\u001b[0m        \u001b[32m0.9030\u001b[0m  0.0252\n    195        \u001b[36m1.0538\u001b[0m        \u001b[32m0.9028\u001b[0m  0.0633\n    196        \u001b[36m1.0532\u001b[0m        \u001b[32m0.9026\u001b[0m  0.0189\n    197        \u001b[36m1.0525\u001b[0m        \u001b[32m0.9024\u001b[0m  0.0212\n    198        \u001b[36m1.0519\u001b[0m        \u001b[32m0.9022\u001b[0m  0.0778\n    199        \u001b[36m1.0513\u001b[0m        \u001b[32m0.9019\u001b[0m  0.0181\n    200        \u001b[36m1.0507\u001b[0m        \u001b[32m0.9017\u001b[0m  0.0623\n    201        \u001b[36m1.0501\u001b[0m        \u001b[32m0.9015\u001b[0m  0.0209\n    202        \u001b[36m1.0495\u001b[0m        \u001b[32m0.9013\u001b[0m  0.0690\n    203        \u001b[36m1.0489\u001b[0m        \u001b[32m0.9011\u001b[0m  0.0191\n    204        \u001b[36m1.0483\u001b[0m        \u001b[32m0.9009\u001b[0m  0.0193\n    205        \u001b[36m1.0477\u001b[0m        \u001b[32m0.9007\u001b[0m  0.0668\n    206        \u001b[36m1.0471\u001b[0m        \u001b[32m0.9005\u001b[0m  0.0260\n    207        \u001b[36m1.0465\u001b[0m        \u001b[32m0.9003\u001b[0m  0.0615\n    208        \u001b[36m1.0460\u001b[0m        \u001b[32m0.9001\u001b[0m  0.0184\n    209        \u001b[36m1.0454\u001b[0m        \u001b[32m0.8999\u001b[0m  0.0186\n    210        \u001b[36m1.0448\u001b[0m        \u001b[32m0.8997\u001b[0m  0.0627\n    211        \u001b[36m1.0442\u001b[0m        \u001b[32m0.8995\u001b[0m  0.0191\n    212        \u001b[36m1.0436\u001b[0m        \u001b[32m0.8993\u001b[0m  0.0712\n    213        \u001b[36m1.0431\u001b[0m        \u001b[32m0.8992\u001b[0m  0.0264\n    214        \u001b[36m1.0425\u001b[0m        \u001b[32m0.8990\u001b[0m  0.0692\n    215        \u001b[36m1.0419\u001b[0m        \u001b[32m0.8988\u001b[0m  0.0271\n    216        \u001b[36m1.0414\u001b[0m        \u001b[32m0.8986\u001b[0m  0.0663\n    217        \u001b[36m1.0408\u001b[0m        \u001b[32m0.8984\u001b[0m  0.0166\n    218        \u001b[36m1.0403\u001b[0m        \u001b[32m0.8982\u001b[0m  0.0160\n    219        \u001b[36m1.0397\u001b[0m        \u001b[32m0.8981\u001b[0m  0.0645\n    220        \u001b[36m1.0392\u001b[0m        \u001b[32m0.8979\u001b[0m  0.0194\n    221        \u001b[36m1.0386\u001b[0m        \u001b[32m0.8977\u001b[0m  0.0190\n    222        \u001b[36m1.0381\u001b[0m        \u001b[32m0.8975\u001b[0m  0.0712\n    223        \u001b[36m1.0375\u001b[0m        \u001b[32m0.8974\u001b[0m  0.0260\n    224        \u001b[36m1.0370\u001b[0m        \u001b[32m0.8972\u001b[0m  0.0694\n    225        \u001b[36m1.0364\u001b[0m        \u001b[32m0.8970\u001b[0m  0.0268\n    226        \u001b[36m1.0359\u001b[0m        \u001b[32m0.8969\u001b[0m  0.0710\n    227        \u001b[36m1.0354\u001b[0m        \u001b[32m0.8967\u001b[0m  0.0208\n    228        \u001b[36m1.0348\u001b[0m        \u001b[32m0.8965\u001b[0m  0.0658\n    229        \u001b[36m1.0343\u001b[0m        \u001b[32m0.8964\u001b[0m  0.0224\n    230        \u001b[36m1.0338\u001b[0m        \u001b[32m0.8962\u001b[0m  0.0763\n    231        \u001b[36m1.0332\u001b[0m        \u001b[32m0.8960\u001b[0m  0.0208\n    232        \u001b[36m1.0327\u001b[0m        \u001b[32m0.8959\u001b[0m  0.0689\n    233        \u001b[36m1.0322\u001b[0m        \u001b[32m0.8957\u001b[0m  0.0258\n    234        \u001b[36m1.0317\u001b[0m        \u001b[32m0.8955\u001b[0m  0.0665\n    235        \u001b[36m1.0311\u001b[0m        \u001b[32m0.8954\u001b[0m  0.0260\n    236        \u001b[36m1.0306\u001b[0m        \u001b[32m0.8952\u001b[0m  0.0221\n    237        \u001b[36m1.0301\u001b[0m        \u001b[32m0.8951\u001b[0m  0.0201\n    238        \u001b[36m1.0296\u001b[0m        \u001b[32m0.8949\u001b[0m  0.0193\n    239        \u001b[36m1.0291\u001b[0m        \u001b[32m0.8948\u001b[0m  0.0686\n    240        \u001b[36m1.0286\u001b[0m        \u001b[32m0.8946\u001b[0m  0.0165\n    241        \u001b[36m1.0281\u001b[0m        \u001b[32m0.8945\u001b[0m  0.0187\n    242        \u001b[36m1.0275\u001b[0m        \u001b[32m0.8943\u001b[0m  0.0748\n    243        \u001b[36m1.0270\u001b[0m        \u001b[32m0.8942\u001b[0m  0.0751\n    244        \u001b[36m1.0265\u001b[0m        \u001b[32m0.8940\u001b[0m  0.0195\n    245        \u001b[36m1.0260\u001b[0m        \u001b[32m0.8939\u001b[0m  0.0190\n    246        \u001b[36m1.0255\u001b[0m        \u001b[32m0.8937\u001b[0m  0.0666\n    247        \u001b[36m1.0250\u001b[0m        \u001b[32m0.8936\u001b[0m  0.0253\n    248        \u001b[36m1.0245\u001b[0m        \u001b[32m0.8934\u001b[0m  0.0590\n    249        \u001b[36m1.0240\u001b[0m        \u001b[32m0.8933\u001b[0m  0.0186\n    250        \u001b[36m1.0235\u001b[0m        \u001b[32m0.8931\u001b[0m  0.0172\n    251        \u001b[36m1.0230\u001b[0m        \u001b[32m0.8930\u001b[0m  0.0669\n    252        \u001b[36m1.0225\u001b[0m        \u001b[32m0.8929\u001b[0m  0.0172\n    253        \u001b[36m1.0220\u001b[0m        \u001b[32m0.8927\u001b[0m  0.0177\n    254        \u001b[36m1.0216\u001b[0m        \u001b[32m0.8926\u001b[0m  0.0220\n    255        \u001b[36m1.0211\u001b[0m        \u001b[32m0.8924\u001b[0m  0.0200\n    256        \u001b[36m1.0206\u001b[0m        \u001b[32m0.8923\u001b[0m  0.0715\n    257        \u001b[36m1.0201\u001b[0m        \u001b[32m0.8922\u001b[0m  0.0210\n    258        \u001b[36m1.0196\u001b[0m        \u001b[32m0.8920\u001b[0m  0.0679\n    259        \u001b[36m1.0191\u001b[0m        \u001b[32m0.8919\u001b[0m  0.0193\n    260        \u001b[36m1.0186\u001b[0m        \u001b[32m0.8918\u001b[0m  0.0677\n    261        \u001b[36m1.0182\u001b[0m        \u001b[32m0.8916\u001b[0m  0.0216\n    262        \u001b[36m1.0177\u001b[0m        \u001b[32m0.8915\u001b[0m  0.0207\n    263        \u001b[36m1.0172\u001b[0m        \u001b[32m0.8914\u001b[0m  0.0683\n    264        \u001b[36m1.0167\u001b[0m        \u001b[32m0.8912\u001b[0m  0.0255\n    265        \u001b[36m1.0162\u001b[0m        \u001b[32m0.8911\u001b[0m  0.0692\n    266        \u001b[36m1.0158\u001b[0m        \u001b[32m0.8910\u001b[0m  0.0266\n    267        \u001b[36m1.0153\u001b[0m        \u001b[32m0.8908\u001b[0m  0.0743\n    268        \u001b[36m1.0148\u001b[0m        \u001b[32m0.8907\u001b[0m  0.0199\n    269        \u001b[36m1.0143\u001b[0m        \u001b[32m0.8906\u001b[0m  0.0720\n    270        \u001b[36m1.0139\u001b[0m        \u001b[32m0.8905\u001b[0m  0.0185\n    271        \u001b[36m1.0134\u001b[0m        \u001b[32m0.8903\u001b[0m  0.0634\n    272        \u001b[36m1.0129\u001b[0m        \u001b[32m0.8902\u001b[0m  0.0193\n    273        \u001b[36m1.0125\u001b[0m        \u001b[32m0.8901\u001b[0m  0.0175\n    274        \u001b[36m1.0120\u001b[0m        \u001b[32m0.8900\u001b[0m  0.0685\n    275        \u001b[36m1.0115\u001b[0m        \u001b[32m0.8898\u001b[0m  0.0172\n    276        \u001b[36m1.0111\u001b[0m        \u001b[32m0.8897\u001b[0m  0.0683\n    277        \u001b[36m1.0106\u001b[0m        \u001b[32m0.8896\u001b[0m  0.0213\n    278        \u001b[36m1.0101\u001b[0m        \u001b[32m0.8895\u001b[0m  0.0250\n    279        \u001b[36m1.0097\u001b[0m        \u001b[32m0.8893\u001b[0m  0.0706\n    280        \u001b[36m1.0092\u001b[0m        \u001b[32m0.8892\u001b[0m  0.0254\n    281        \u001b[36m1.0087\u001b[0m        \u001b[32m0.8891\u001b[0m  0.0699\n    282        \u001b[36m1.0083\u001b[0m        \u001b[32m0.8890\u001b[0m  0.0275\n    283        \u001b[36m1.0078\u001b[0m        \u001b[32m0.8889\u001b[0m  0.0692\n    284        \u001b[36m1.0074\u001b[0m        \u001b[32m0.8888\u001b[0m  0.0226\n    285        \u001b[36m1.0069\u001b[0m        \u001b[32m0.8886\u001b[0m  0.0653\n    286        \u001b[36m1.0064\u001b[0m        \u001b[32m0.8885\u001b[0m  0.0286\n    287        \u001b[36m1.0060\u001b[0m        \u001b[32m0.8884\u001b[0m  0.0707\n    288        \u001b[36m1.0055\u001b[0m        \u001b[32m0.8883\u001b[0m  0.0183\n    289        \u001b[36m1.0051\u001b[0m        \u001b[32m0.8882\u001b[0m  0.0622\n    290        \u001b[36m1.0046\u001b[0m        \u001b[32m0.8881\u001b[0m  0.0253\n    291        \u001b[36m1.0042\u001b[0m        \u001b[32m0.8879\u001b[0m  0.0738\n    292        \u001b[36m1.0037\u001b[0m        \u001b[32m0.8878\u001b[0m  0.0180\n    293        \u001b[36m1.0033\u001b[0m        \u001b[32m0.8877\u001b[0m  0.0171\n    294        \u001b[36m1.0028\u001b[0m        \u001b[32m0.8876\u001b[0m  0.0712\n    295        \u001b[36m1.0024\u001b[0m        \u001b[32m0.8875\u001b[0m  0.0184\n    296        \u001b[36m1.0019\u001b[0m        \u001b[32m0.8874\u001b[0m  0.0170\n    297        \u001b[36m1.0015\u001b[0m        \u001b[32m0.8873\u001b[0m  0.0179\n    298        \u001b[36m1.0010\u001b[0m        \u001b[32m0.8872\u001b[0m  0.0211\n    299        \u001b[36m1.0006\u001b[0m        \u001b[32m0.8871\u001b[0m  0.0680\n    300        \u001b[36m1.0001\u001b[0m        \u001b[32m0.8869\u001b[0m  0.0195\n    301        \u001b[36m0.9997\u001b[0m        \u001b[32m0.8868\u001b[0m  0.0165\n    302        \u001b[36m0.9992\u001b[0m        \u001b[32m0.8867\u001b[0m  0.0610\n    303        \u001b[36m0.9988\u001b[0m        \u001b[32m0.8866\u001b[0m  0.0187\n    304        \u001b[36m0.9983\u001b[0m        \u001b[32m0.8865\u001b[0m  0.0690\n    305        \u001b[36m0.9979\u001b[0m        \u001b[32m0.8864\u001b[0m  0.0205\n    306        \u001b[36m0.9974\u001b[0m        \u001b[32m0.8863\u001b[0m  0.0197\n    307        \u001b[36m0.9970\u001b[0m        \u001b[32m0.8862\u001b[0m  0.0685\n    308        \u001b[36m0.9966\u001b[0m        \u001b[32m0.8861\u001b[0m  0.0201\n    309        \u001b[36m0.9961\u001b[0m        \u001b[32m0.8860\u001b[0m  0.0674\n    310        \u001b[36m0.9957\u001b[0m        \u001b[32m0.8859\u001b[0m  0.0208\n    311        \u001b[36m0.9952\u001b[0m        \u001b[32m0.8858\u001b[0m  0.0675\n    312        \u001b[36m0.9948\u001b[0m        \u001b[32m0.8857\u001b[0m  0.0200\n    313        \u001b[36m0.9943\u001b[0m        \u001b[32m0.8856\u001b[0m  0.0203\n    314        \u001b[36m0.9939\u001b[0m        \u001b[32m0.8855\u001b[0m  0.0707\n    315        \u001b[36m0.9935\u001b[0m        \u001b[32m0.8854\u001b[0m  0.0249\n    316        \u001b[36m0.9930\u001b[0m        \u001b[32m0.8853\u001b[0m  0.0690\n    317        \u001b[36m0.9926\u001b[0m        \u001b[32m0.8852\u001b[0m  0.0259\n    318        \u001b[36m0.9922\u001b[0m        \u001b[32m0.8851\u001b[0m  0.0642\n    319        \u001b[36m0.9917\u001b[0m        \u001b[32m0.8850\u001b[0m  0.0212\n    320        \u001b[36m0.9913\u001b[0m        \u001b[32m0.8849\u001b[0m  0.0692\n    321        \u001b[36m0.9908\u001b[0m        \u001b[32m0.8848\u001b[0m  0.0220\n    322        \u001b[36m0.9904\u001b[0m        \u001b[32m0.8847\u001b[0m  0.0193\n    323        \u001b[36m0.9900\u001b[0m        \u001b[32m0.8846\u001b[0m  0.0196\n    324        \u001b[36m0.9895\u001b[0m        \u001b[32m0.8845\u001b[0m  0.0188\n    325        \u001b[36m0.9891\u001b[0m        \u001b[32m0.8844\u001b[0m  0.0680\n    326        \u001b[36m0.9887\u001b[0m        \u001b[32m0.8843\u001b[0m  0.0186\n    327        \u001b[36m0.9882\u001b[0m        \u001b[32m0.8842\u001b[0m  0.0710\n    328        \u001b[36m0.9878\u001b[0m        \u001b[32m0.8841\u001b[0m  0.0195\n    329        \u001b[36m0.9874\u001b[0m        \u001b[32m0.8840\u001b[0m  0.0202\n    330        \u001b[36m0.9869\u001b[0m        \u001b[32m0.8839\u001b[0m  0.0642\n    331        \u001b[36m0.9865\u001b[0m        \u001b[32m0.8838\u001b[0m  0.0196\n    332        \u001b[36m0.9861\u001b[0m        \u001b[32m0.8837\u001b[0m  0.0672\n    333        \u001b[36m0.9856\u001b[0m        \u001b[32m0.8836\u001b[0m  0.0168\n    334        \u001b[36m0.9852\u001b[0m        \u001b[32m0.8835\u001b[0m  0.0169\n    335        \u001b[36m0.9848\u001b[0m        \u001b[32m0.8834\u001b[0m  0.0668\n    336        \u001b[36m0.9843\u001b[0m        \u001b[32m0.8833\u001b[0m  0.0265\n    337        \u001b[36m0.9839\u001b[0m        \u001b[32m0.8832\u001b[0m  0.0680\n    338        \u001b[36m0.9835\u001b[0m        \u001b[32m0.8831\u001b[0m  0.0247\n    339        \u001b[36m0.9831\u001b[0m        \u001b[32m0.8830\u001b[0m  0.0666\n    340        \u001b[36m0.9826\u001b[0m        \u001b[32m0.8829\u001b[0m  0.0244\n    341        \u001b[36m0.9822\u001b[0m        \u001b[32m0.8828\u001b[0m  0.0257\n    342        \u001b[36m0.9818\u001b[0m        \u001b[32m0.8827\u001b[0m  0.0223\n    343        \u001b[36m0.9813\u001b[0m        \u001b[32m0.8826\u001b[0m  0.0254\n    344        \u001b[36m0.9809\u001b[0m        \u001b[32m0.8825\u001b[0m  0.0694\n    345        \u001b[36m0.9805\u001b[0m        \u001b[32m0.8824\u001b[0m  0.0204\n    346        \u001b[36m0.9801\u001b[0m        \u001b[32m0.8823\u001b[0m  0.0631\n    347        \u001b[36m0.9796\u001b[0m        \u001b[32m0.8822\u001b[0m  0.0195\n    348        \u001b[36m0.9792\u001b[0m        \u001b[32m0.8822\u001b[0m  0.0679\n    349        \u001b[36m0.9788\u001b[0m        \u001b[32m0.8821\u001b[0m  0.0210\n    350        \u001b[36m0.9783\u001b[0m        \u001b[32m0.8820\u001b[0m  0.0227\n    351        \u001b[36m0.9779\u001b[0m        \u001b[32m0.8819\u001b[0m  0.0623\n    352        \u001b[36m0.9775\u001b[0m        \u001b[32m0.8818\u001b[0m  0.0202\n    353        \u001b[36m0.9771\u001b[0m        \u001b[32m0.8817\u001b[0m  0.0725\n    354        \u001b[36m0.9766\u001b[0m        \u001b[32m0.8816\u001b[0m  0.0255\n    355        \u001b[36m0.9762\u001b[0m        \u001b[32m0.8815\u001b[0m  0.0673\n    356        \u001b[36m0.9758\u001b[0m        \u001b[32m0.8814\u001b[0m  0.0270\n    357        \u001b[36m0.9754\u001b[0m        \u001b[32m0.8813\u001b[0m  0.0657\n    358        \u001b[36m0.9749\u001b[0m        \u001b[32m0.8812\u001b[0m  0.0257\n    359        \u001b[36m0.9745\u001b[0m        \u001b[32m0.8812\u001b[0m  0.0238\n    360        \u001b[36m0.9741\u001b[0m        \u001b[32m0.8811\u001b[0m  0.0261\n    361        \u001b[36m0.9737\u001b[0m        \u001b[32m0.8810\u001b[0m  0.0216\n    362        \u001b[36m0.9732\u001b[0m        \u001b[32m0.8809\u001b[0m  0.0699\n    363        \u001b[36m0.9728\u001b[0m        \u001b[32m0.8808\u001b[0m  0.0244\n    364        \u001b[36m0.9724\u001b[0m        \u001b[32m0.8807\u001b[0m  0.0616\n    365        \u001b[36m0.9719\u001b[0m        \u001b[32m0.8806\u001b[0m  0.0246\n    366        \u001b[36m0.9715\u001b[0m        \u001b[32m0.8805\u001b[0m  0.0694\n    367        \u001b[36m0.9711\u001b[0m        \u001b[32m0.8804\u001b[0m  0.0199\n    368        \u001b[36m0.9707\u001b[0m        \u001b[32m0.8803\u001b[0m  0.0742\n    369        \u001b[36m0.9703\u001b[0m        \u001b[32m0.8803\u001b[0m  0.0259\n    370        \u001b[36m0.9698\u001b[0m        \u001b[32m0.8802\u001b[0m  0.0664\n    371        \u001b[36m0.9694\u001b[0m        \u001b[32m0.8801\u001b[0m  0.0255\n    372        \u001b[36m0.9690\u001b[0m        \u001b[32m0.8800\u001b[0m  0.0681\n    373        \u001b[36m0.9686\u001b[0m        \u001b[32m0.8799\u001b[0m  0.0208\n    374        \u001b[36m0.9681\u001b[0m        \u001b[32m0.8798\u001b[0m  0.0224\n    375        \u001b[36m0.9677\u001b[0m        \u001b[32m0.8797\u001b[0m  0.0658\n    376        \u001b[36m0.9673\u001b[0m        \u001b[32m0.8796\u001b[0m  0.0246\n    377        \u001b[36m0.9669\u001b[0m        \u001b[32m0.8796\u001b[0m  0.0749\n    378        \u001b[36m0.9664\u001b[0m        \u001b[32m0.8795\u001b[0m  0.0237\n    379        \u001b[36m0.9660\u001b[0m        \u001b[32m0.8794\u001b[0m  0.0618\n    380        \u001b[36m0.9656\u001b[0m        \u001b[32m0.8793\u001b[0m  0.0217\n    381        \u001b[36m0.9652\u001b[0m        \u001b[32m0.8792\u001b[0m  0.0692\n    382        \u001b[36m0.9647\u001b[0m        \u001b[32m0.8791\u001b[0m  0.0218\n    383        \u001b[36m0.9643\u001b[0m        \u001b[32m0.8790\u001b[0m  0.0158\n    384        \u001b[36m0.9639\u001b[0m        \u001b[32m0.8790\u001b[0m  0.0716\n    385        \u001b[36m0.9635\u001b[0m        \u001b[32m0.8789\u001b[0m  0.0206\n    386        \u001b[36m0.9630\u001b[0m        \u001b[32m0.8788\u001b[0m  0.0677\n    387        \u001b[36m0.9626\u001b[0m        \u001b[32m0.8787\u001b[0m  0.0190\n    388        \u001b[36m0.9622\u001b[0m        \u001b[32m0.8786\u001b[0m  0.0674\n    389        \u001b[36m0.9618\u001b[0m        \u001b[32m0.8785\u001b[0m  0.0222\n    390        \u001b[36m0.9614\u001b[0m        \u001b[32m0.8784\u001b[0m  0.0205\n    391        \u001b[36m0.9609\u001b[0m        \u001b[32m0.8784\u001b[0m  0.0627\n    392        \u001b[36m0.9605\u001b[0m        \u001b[32m0.8783\u001b[0m  0.0200\n    393        \u001b[36m0.9601\u001b[0m        \u001b[32m0.8782\u001b[0m  0.0673\n    394        \u001b[36m0.9597\u001b[0m        \u001b[32m0.8781\u001b[0m  0.0191\n    395        \u001b[36m0.9592\u001b[0m        \u001b[32m0.8780\u001b[0m  0.0161\n    396        \u001b[36m0.9588\u001b[0m        \u001b[32m0.8779\u001b[0m  0.0669\n    397        \u001b[36m0.9584\u001b[0m        \u001b[32m0.8779\u001b[0m  0.0205\n    398        \u001b[36m0.9580\u001b[0m        \u001b[32m0.8778\u001b[0m  0.0185\n    399        \u001b[36m0.9575\u001b[0m        \u001b[32m0.8777\u001b[0m  0.0227\n    400        \u001b[36m0.9571\u001b[0m        \u001b[32m0.8776\u001b[0m  0.0233\n    401        \u001b[36m0.9567\u001b[0m        \u001b[32m0.8775\u001b[0m  0.0630\n    402        \u001b[36m0.9563\u001b[0m        \u001b[32m0.8774\u001b[0m  0.0194\n    403        \u001b[36m0.9559\u001b[0m        \u001b[32m0.8774\u001b[0m  0.0683\n    404        \u001b[36m0.9554\u001b[0m        \u001b[32m0.8773\u001b[0m  0.0173\n    405        \u001b[36m0.9550\u001b[0m        \u001b[32m0.8772\u001b[0m  0.0155\n    406        \u001b[36m0.9546\u001b[0m        \u001b[32m0.8771\u001b[0m  0.0651\n    407        \u001b[36m0.9542\u001b[0m        \u001b[32m0.8770\u001b[0m  0.0223\n    408        \u001b[36m0.9537\u001b[0m        \u001b[32m0.8770\u001b[0m  0.0688\n    409        \u001b[36m0.9533\u001b[0m        \u001b[32m0.8769\u001b[0m  0.0248\n    410        \u001b[36m0.9529\u001b[0m        \u001b[32m0.8768\u001b[0m  0.0249\n    411        \u001b[36m0.9525\u001b[0m        \u001b[32m0.8767\u001b[0m  0.0211\n    412        \u001b[36m0.9520\u001b[0m        \u001b[32m0.8766\u001b[0m  0.0197\n    413        \u001b[36m0.9516\u001b[0m        \u001b[32m0.8765\u001b[0m  0.0635\n    414        \u001b[36m0.9512\u001b[0m        \u001b[32m0.8765\u001b[0m  0.0187\n    415        \u001b[36m0.9508\u001b[0m        \u001b[32m0.8764\u001b[0m  0.0717\n    416        \u001b[36m0.9503\u001b[0m        \u001b[32m0.8763\u001b[0m  0.0191\n    417        \u001b[36m0.9499\u001b[0m        \u001b[32m0.8762\u001b[0m  0.0244\n    418        \u001b[36m0.9495\u001b[0m        \u001b[32m0.8761\u001b[0m  0.0289\n    419        \u001b[36m0.9491\u001b[0m        \u001b[32m0.8761\u001b[0m  0.0205\n    420        \u001b[36m0.9487\u001b[0m        \u001b[32m0.8760\u001b[0m  0.0604\n    421        \u001b[36m0.9482\u001b[0m        \u001b[32m0.8759\u001b[0m  0.0225\n    422        \u001b[36m0.9478\u001b[0m        \u001b[32m0.8758\u001b[0m  0.0636\n    423        \u001b[36m0.9474\u001b[0m        \u001b[32m0.8758\u001b[0m  0.0174\n    424        \u001b[36m0.9470\u001b[0m        \u001b[32m0.8757\u001b[0m  0.0189\n    425        \u001b[36m0.9465\u001b[0m        \u001b[32m0.8756\u001b[0m  0.0609\n    426        \u001b[36m0.9461\u001b[0m        \u001b[32m0.8755\u001b[0m  0.0191\n    427        \u001b[36m0.9457\u001b[0m        \u001b[32m0.8754\u001b[0m  0.0190\n    428        \u001b[36m0.9453\u001b[0m        \u001b[32m0.8754\u001b[0m  0.0172\n    429        \u001b[36m0.9448\u001b[0m        \u001b[32m0.8753\u001b[0m  0.0184\n    430        \u001b[36m0.9444\u001b[0m        \u001b[32m0.8752\u001b[0m  0.0657\n    431        \u001b[36m0.9440\u001b[0m        \u001b[32m0.8751\u001b[0m  0.0173\n    432        \u001b[36m0.9436\u001b[0m        \u001b[32m0.8751\u001b[0m  0.0184\n    433        \u001b[36m0.9431\u001b[0m        \u001b[32m0.8750\u001b[0m  0.0762\n    434        \u001b[36m0.9427\u001b[0m        \u001b[32m0.8749\u001b[0m  0.0189\n    435        \u001b[36m0.9423\u001b[0m        \u001b[32m0.8748\u001b[0m  0.0687\n    436        \u001b[36m0.9419\u001b[0m        \u001b[32m0.8748\u001b[0m  0.0284\n    437        \u001b[36m0.9414\u001b[0m        \u001b[32m0.8747\u001b[0m  0.0640\n    438        \u001b[36m0.9410\u001b[0m        \u001b[32m0.8746\u001b[0m  0.0177\n    439        \u001b[36m0.9406\u001b[0m        \u001b[32m0.8745\u001b[0m  0.0219\n    440        \u001b[36m0.9402\u001b[0m        \u001b[32m0.8745\u001b[0m  0.0193\n    441        \u001b[36m0.9398\u001b[0m        \u001b[32m0.8744\u001b[0m  0.0285\n    442        \u001b[36m0.9393\u001b[0m        \u001b[32m0.8743\u001b[0m  0.0661\n    443        \u001b[36m0.9389\u001b[0m        \u001b[32m0.8742\u001b[0m  0.0163\n    444        \u001b[36m0.9385\u001b[0m        \u001b[32m0.8742\u001b[0m  0.0637\n    445        \u001b[36m0.9381\u001b[0m        \u001b[32m0.8741\u001b[0m  0.0192\n    446        \u001b[36m0.9376\u001b[0m        \u001b[32m0.8740\u001b[0m  0.0182\n    447        \u001b[36m0.9372\u001b[0m        \u001b[32m0.8739\u001b[0m  0.0686\n    448        \u001b[36m0.9368\u001b[0m        \u001b[32m0.8739\u001b[0m  0.0260\n    449        \u001b[36m0.9364\u001b[0m        \u001b[32m0.8738\u001b[0m  0.0630\n    450        \u001b[36m0.9359\u001b[0m        \u001b[32m0.8737\u001b[0m  0.0166\n    451        \u001b[36m0.9355\u001b[0m        \u001b[32m0.8736\u001b[0m  0.0178\n    452        \u001b[36m0.9351\u001b[0m        \u001b[32m0.8736\u001b[0m  0.0665\n    453        \u001b[36m0.9347\u001b[0m        \u001b[32m0.8735\u001b[0m  0.0171\n    454        \u001b[36m0.9342\u001b[0m        \u001b[32m0.8734\u001b[0m  0.0711\n    455        \u001b[36m0.9338\u001b[0m        \u001b[32m0.8734\u001b[0m  0.0193\n    456        \u001b[36m0.9334\u001b[0m        \u001b[32m0.8733\u001b[0m  0.0213\n    457        \u001b[36m0.9330\u001b[0m        \u001b[32m0.8732\u001b[0m  0.0692\n    458        \u001b[36m0.9325\u001b[0m        \u001b[32m0.8732\u001b[0m  0.0200\n    459        \u001b[36m0.9321\u001b[0m        \u001b[32m0.8731\u001b[0m  0.0660\n    460        \u001b[36m0.9317\u001b[0m        \u001b[32m0.8730\u001b[0m  0.0213\n    461        \u001b[36m0.9313\u001b[0m        \u001b[32m0.8729\u001b[0m  0.0702\n    462        \u001b[36m0.9308\u001b[0m        \u001b[32m0.8729\u001b[0m  0.0194\n    463        \u001b[36m0.9304\u001b[0m        \u001b[32m0.8728\u001b[0m  0.0246\n    464        \u001b[36m0.9300\u001b[0m        \u001b[32m0.8727\u001b[0m  0.0261\n    465        \u001b[36m0.9296\u001b[0m        \u001b[32m0.8727\u001b[0m  0.0253\n    466        \u001b[36m0.9291\u001b[0m        \u001b[32m0.8726\u001b[0m  0.0680\n    467        \u001b[36m0.9287\u001b[0m        \u001b[32m0.8725\u001b[0m  0.0266\n    468        \u001b[36m0.9283\u001b[0m        \u001b[32m0.8725\u001b[0m  0.0638\n    469        \u001b[36m0.9279\u001b[0m        \u001b[32m0.8724\u001b[0m  0.0187\n    470        \u001b[36m0.9274\u001b[0m        \u001b[32m0.8723\u001b[0m  0.0682\n    471        \u001b[36m0.9270\u001b[0m        \u001b[32m0.8723\u001b[0m  0.0195\n    472        \u001b[36m0.9266\u001b[0m        \u001b[32m0.8722\u001b[0m  0.1762\n    473        \u001b[36m0.9262\u001b[0m        \u001b[32m0.8721\u001b[0m  0.0242\n    474        \u001b[36m0.9258\u001b[0m        \u001b[32m0.8721\u001b[0m  0.0724\n    475        \u001b[36m0.9253\u001b[0m        \u001b[32m0.8720\u001b[0m  0.0176\n    476        \u001b[36m0.9249\u001b[0m        \u001b[32m0.8719\u001b[0m  0.0224\n    477        \u001b[36m0.9245\u001b[0m        \u001b[32m0.8719\u001b[0m  0.0631\n    478        \u001b[36m0.9241\u001b[0m        \u001b[32m0.8718\u001b[0m  0.0185\n    479        \u001b[36m0.9236\u001b[0m        \u001b[32m0.8717\u001b[0m  0.0685\n    480        \u001b[36m0.9232\u001b[0m        \u001b[32m0.8717\u001b[0m  0.0179\n    481        \u001b[36m0.9228\u001b[0m        \u001b[32m0.8716\u001b[0m  0.0161\n    482        \u001b[36m0.9224\u001b[0m        \u001b[32m0.8715\u001b[0m  0.0677\n    483        \u001b[36m0.9219\u001b[0m        \u001b[32m0.8715\u001b[0m  0.0178\n    484        \u001b[36m0.9215\u001b[0m        \u001b[32m0.8714\u001b[0m  0.0695\n    485        \u001b[36m0.9211\u001b[0m        \u001b[32m0.8714\u001b[0m  0.0170\n    486        \u001b[36m0.9207\u001b[0m        \u001b[32m0.8713\u001b[0m  0.0168\n    487        \u001b[36m0.9203\u001b[0m        \u001b[32m0.8712\u001b[0m  0.0660\n    488        \u001b[36m0.9198\u001b[0m        \u001b[32m0.8712\u001b[0m  0.0196\n    489        \u001b[36m0.9194\u001b[0m        \u001b[32m0.8711\u001b[0m  0.0203\n    490        \u001b[36m0.9190\u001b[0m        \u001b[32m0.8710\u001b[0m  0.0768\n    491        \u001b[36m0.9186\u001b[0m        \u001b[32m0.8710\u001b[0m  0.0243\n    492        \u001b[36m0.9182\u001b[0m        \u001b[32m0.8709\u001b[0m  0.0589\n    493        \u001b[36m0.9177\u001b[0m        \u001b[32m0.8709\u001b[0m  0.0204\n    494        \u001b[36m0.9173\u001b[0m        \u001b[32m0.8708\u001b[0m  0.0760\n    495        \u001b[36m0.9169\u001b[0m        \u001b[32m0.8707\u001b[0m  0.0186\n    496        \u001b[36m0.9165\u001b[0m        \u001b[32m0.8707\u001b[0m  0.0658\n    497        \u001b[36m0.9160\u001b[0m        \u001b[32m0.8706\u001b[0m  0.0180\n    498        \u001b[36m0.9156\u001b[0m        \u001b[32m0.8706\u001b[0m  0.0169\n    499        \u001b[36m0.9152\u001b[0m        \u001b[32m0.8705\u001b[0m  0.0678\n    500        \u001b[36m0.9148\u001b[0m        \u001b[32m0.8705\u001b[0m  0.0168\n    501        \u001b[36m0.9144\u001b[0m        \u001b[32m0.8704\u001b[0m  0.0193\n    502        \u001b[36m0.9140\u001b[0m        \u001b[32m0.8703\u001b[0m  0.0177\n    503        \u001b[36m0.9135\u001b[0m        \u001b[32m0.8703\u001b[0m  0.0197\n    504        \u001b[36m0.9131\u001b[0m        \u001b[32m0.8702\u001b[0m  0.0589\n    505        \u001b[36m0.9127\u001b[0m        \u001b[32m0.8702\u001b[0m  0.0194\n    506        \u001b[36m0.9123\u001b[0m        \u001b[32m0.8701\u001b[0m  0.0613\n    507        \u001b[36m0.9119\u001b[0m        \u001b[32m0.8701\u001b[0m  0.0256\n    508        \u001b[36m0.9114\u001b[0m        \u001b[32m0.8700\u001b[0m  0.0219\n    509        \u001b[36m0.9110\u001b[0m        \u001b[32m0.8699\u001b[0m  0.0622\n    510        \u001b[36m0.9106\u001b[0m        \u001b[32m0.8699\u001b[0m  0.0185\n    511        \u001b[36m0.9102\u001b[0m        \u001b[32m0.8698\u001b[0m  0.0646\n    512        \u001b[36m0.9098\u001b[0m        \u001b[32m0.8698\u001b[0m  0.0205\n    513        \u001b[36m0.9094\u001b[0m        \u001b[32m0.8697\u001b[0m  0.0183\n    514        \u001b[36m0.9089\u001b[0m        \u001b[32m0.8697\u001b[0m  0.0736\n    515        \u001b[36m0.9085\u001b[0m        \u001b[32m0.8696\u001b[0m  0.0269\n    516        \u001b[36m0.9081\u001b[0m        \u001b[32m0.8696\u001b[0m  0.0643\n    517        \u001b[36m0.9077\u001b[0m        \u001b[32m0.8695\u001b[0m  0.0250\n    518        \u001b[36m0.9073\u001b[0m        \u001b[32m0.8695\u001b[0m  0.0690\n    519        \u001b[36m0.9069\u001b[0m        \u001b[32m0.8694\u001b[0m  0.0189\n    520        \u001b[36m0.9065\u001b[0m        \u001b[32m0.8694\u001b[0m  0.0171\n    521        \u001b[36m0.9060\u001b[0m        \u001b[32m0.8693\u001b[0m  0.0196\n    522        \u001b[36m0.9056\u001b[0m        \u001b[32m0.8693\u001b[0m  0.0210\n    523        \u001b[36m0.9052\u001b[0m        \u001b[32m0.8692\u001b[0m  0.0630\n    524        \u001b[36m0.9048\u001b[0m        \u001b[32m0.8692\u001b[0m  0.0193\n    525        \u001b[36m0.9044\u001b[0m        \u001b[32m0.8691\u001b[0m  0.0693\n    526        \u001b[36m0.9040\u001b[0m        \u001b[32m0.8691\u001b[0m  0.0193\n    527        \u001b[36m0.9036\u001b[0m        \u001b[32m0.8690\u001b[0m  0.0189\n    528        \u001b[36m0.9032\u001b[0m        \u001b[32m0.8690\u001b[0m  0.0672\n    529        \u001b[36m0.9027\u001b[0m        \u001b[32m0.8689\u001b[0m  0.0193\n    530        \u001b[36m0.9023\u001b[0m        \u001b[32m0.8689\u001b[0m  0.0185\n    531        \u001b[36m0.9019\u001b[0m        \u001b[32m0.8688\u001b[0m  0.0198\n    532        \u001b[36m0.9015\u001b[0m        \u001b[32m0.8688\u001b[0m  0.0188\n    533        \u001b[36m0.9011\u001b[0m        \u001b[32m0.8687\u001b[0m  0.0632\n    534        \u001b[36m0.9007\u001b[0m        \u001b[32m0.8687\u001b[0m  0.0191\n    535        \u001b[36m0.9003\u001b[0m        \u001b[32m0.8686\u001b[0m  0.0190\n    536        \u001b[36m0.8999\u001b[0m        \u001b[32m0.8686\u001b[0m  0.0655\n    537        \u001b[36m0.8995\u001b[0m        \u001b[32m0.8685\u001b[0m  0.0186\n    538        \u001b[36m0.8991\u001b[0m        \u001b[32m0.8685\u001b[0m  0.0650\n    539        \u001b[36m0.8987\u001b[0m        \u001b[32m0.8684\u001b[0m  0.0172\n    540        \u001b[36m0.8983\u001b[0m        \u001b[32m0.8684\u001b[0m  0.0170\n    541        \u001b[36m0.8978\u001b[0m        \u001b[32m0.8683\u001b[0m  0.0676\n    542        \u001b[36m0.8974\u001b[0m        \u001b[32m0.8683\u001b[0m  0.0180\n    543        \u001b[36m0.8970\u001b[0m        \u001b[32m0.8683\u001b[0m  0.0173\n    544        \u001b[36m0.8966\u001b[0m        \u001b[32m0.8682\u001b[0m  0.0687\n    545        \u001b[36m0.8962\u001b[0m        \u001b[32m0.8682\u001b[0m  0.0167\n    546        \u001b[36m0.8958\u001b[0m        \u001b[32m0.8681\u001b[0m  0.0657\n    547        \u001b[36m0.8954\u001b[0m        \u001b[32m0.8681\u001b[0m  0.0175\n    548        \u001b[36m0.8950\u001b[0m        \u001b[32m0.8680\u001b[0m  0.0170\n    549        \u001b[36m0.8946\u001b[0m        \u001b[32m0.8680\u001b[0m  0.0701\n    550        \u001b[36m0.8942\u001b[0m        \u001b[32m0.8679\u001b[0m  0.0179\n    551        \u001b[36m0.8938\u001b[0m        \u001b[32m0.8679\u001b[0m  0.0697\n    552        \u001b[36m0.8934\u001b[0m        \u001b[32m0.8679\u001b[0m  0.0209\n    553        \u001b[36m0.8930\u001b[0m        \u001b[32m0.8678\u001b[0m  0.0183\n    554        \u001b[36m0.8926\u001b[0m        \u001b[32m0.8678\u001b[0m  0.0714\n    555        \u001b[36m0.8922\u001b[0m        \u001b[32m0.8677\u001b[0m  0.0219\n    556        \u001b[36m0.8918\u001b[0m        \u001b[32m0.8677\u001b[0m  0.0634\n    557        \u001b[36m0.8914\u001b[0m        \u001b[32m0.8677\u001b[0m  0.0217\n    558        \u001b[36m0.8910\u001b[0m        \u001b[32m0.8676\u001b[0m  0.0241\n    559        \u001b[36m0.8906\u001b[0m        \u001b[32m0.8676\u001b[0m  0.0185\n    560        \u001b[36m0.8902\u001b[0m        \u001b[32m0.8675\u001b[0m  0.0162\n    561        \u001b[36m0.8898\u001b[0m        \u001b[32m0.8675\u001b[0m  0.0694\nStopping since valid_loss has not improved in the last 20 epochs.\n",
     "output_type": "stream"
    }
   ],
   "execution_count": 74
  },
  {
   "cell_type": "code",
   "metadata": {
    "cell_id": "00064-8934738e-da2d-40b8-b677-92de7961a24d",
    "deepnote_to_be_reexecuted": false,
    "source_hash": "88b02780",
    "execution_start": 1642776593969,
    "execution_millis": 152,
    "deepnote_cell_type": "code"
   },
   "source": "y_predictions_internal_test = list()\ny_predictions_blind_test = list()\n\n#predictions on every model is averaged\nfor model in best_models:\n    y_pred_train = model.predict(X_test)\n    y_predictions_internal_test.append(y_pred_train)\n    y_pred = model.predict(blind_ts)\n    y_predictions_blind_test.append(y_pred)",
   "outputs": [],
   "execution_count": 75
  },
  {
   "cell_type": "code",
   "metadata": {
    "cell_id": "00065-c5d0618d-7792-45ae-8b82-6ba1cdddf161",
    "deepnote_to_be_reexecuted": false,
    "source_hash": "dbba213f",
    "execution_start": 1642776594135,
    "execution_millis": 3,
    "deepnote_cell_type": "code"
   },
   "source": "y_pred_voting_ens_train_test = np.average(y_pred_train, axis=0)\ny_pred_voting_ens_internal_test = np.average(y_predictions_internal_test, axis=0)\ny_pred_voting_ens_blind_test = np.average(y_predictions_blind_test, axis=0)\n\nprint(f\"MEE: {mee(y_test, y_pred_voting_ens_internal_test)}\")",
   "outputs": [
    {
     "name": "stdout",
     "text": "MEE: 1.0771853019156166\n",
     "output_type": "stream"
    }
   ],
   "execution_count": 76
  },
  {
   "cell_type": "code",
   "metadata": {
    "cell_id": "00066-80b92a7e-5188-4109-93a9-70003cfa8bd0",
    "deepnote_to_be_reexecuted": false,
    "source_hash": "95a565ab",
    "deepnote_output_heights": [
     264
    ],
    "execution_start": 1642776594178,
    "execution_millis": 277,
    "deepnote_cell_type": "code"
   },
   "source": "y_predicted = pd.DataFrame(data=y_pred_voting_ens_internal_test, columns=[\"x\", \"y\"])\ntrue_y = pd.DataFrame(data=y_test, columns=[\"x\", \"y\"])\nplt.scatter(true_y['x'], true_y['y'], c='r', marker='*')\nplt.xlabel(\"x\")\nplt.ylabel(\"y\")\nplt.scatter(y_predicted['x'], y_predicted['y'], c='#1f77b4');",
   "outputs": [
    {
     "data": {
      "text/plain": "<Figure size 432x288 with 1 Axes>",
      "image/png": "[encoded data removed]"
     },
     "metadata": {
      "needs_background": "light",
      "image/png": {
       "width": 391,
       "height": 262
      }
     },
     "output_type": "display_data"
    }
   ],
   "execution_count": 77
  },
  {
   "cell_type": "code",
   "metadata": {
    "cell_id": "00067-5be1d384-64d6-4b7d-97cf-6bae4fc00ce5",
    "deepnote_to_be_reexecuted": false,
    "source_hash": "95a565ab",
    "deepnote_output_heights": [
     264
    ],
    "execution_start": 1642776594456,
    "execution_millis": 317,
    "deepnote_cell_type": "code"
   },
   "source": "y_predicted = pd.DataFrame(data=y_pred_voting_ens_internal_test, columns=[\"x\", \"y\"])\ntrue_y = pd.DataFrame(data=y_test, columns=[\"x\", \"y\"])\nplt.scatter(true_y['x'], true_y['y'], c='r', marker='*')\nplt.xlabel(\"x\")\nplt.ylabel(\"y\")\nplt.scatter(y_predicted['x'], y_predicted['y'], c='#1f77b4');",
   "outputs": [
    {
     "data": {
      "text/plain": "<Figure size 432x288 with 1 Axes>",
      "image/png": "[encoded data removed]"
     },
     "metadata": {
      "needs_background": "light",
      "image/png": {
       "width": 391,
       "height": 262
      }
     },
     "output_type": "display_data"
    }
   ],
   "execution_count": 78
  },
  {
   "cell_type": "code",
   "metadata": {
    "cell_id": "00068-9d10c589-93de-4ab9-a464-4dbed4aa3a3c",
    "deepnote_to_be_reexecuted": false,
    "source_hash": "15d71ae0",
    "deepnote_output_heights": [
     264
    ],
    "execution_start": 1642776594749,
    "execution_millis": 265,
    "deepnote_cell_type": "code"
   },
   "source": "y_predicted = pd.DataFrame(data=y_pred_voting_ens_blind_test, columns=[\"x\", \"y\"])\nplt.xlabel(\"x\")\nplt.ylabel(\"y\")\nplt.scatter(y_predicted['x'], y_predicted['y'], c='#1f77b4');",
   "outputs": [
    {
     "data": {
      "text/plain": "<Figure size 432x288 with 1 Axes>",
      "image/png": "[encoded data removed]"
     },
     "metadata": {
      "needs_background": "light",
      "image/png": {
       "width": 391,
       "height": 262
      }
     },
     "output_type": "display_data"
    }
   ],
   "execution_count": 79
  },
  {
   "cell_type": "markdown",
   "source": "<a style='text-decoration:none;line-height:16px;display:flex;color:#5B5B62;padding:10px;justify-content:end;' href='https://deepnote.com?utm_source=created-in-deepnote-cell&projectId=d9d840c9-75b3-4185-bb01-105f5cca8d83' target=\"_blank\">\n<img alt='Created in deepnote.com' style='display:inline;max-height:16px;margin:0px;margin-right:7.5px;' src='data:image/svg+xml;base64,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' > </img>\nCreated in <span style='font-weight:600;margin-left:4px;'>Deepnote</span></a>",
   "metadata": {
    "tags": [],
    "created_in_deepnote_cell": true,
    "deepnote_cell_type": "markdown"
   }
  }
 ],
 "nbformat": 4,
 "nbformat_minor": 2,
 "metadata": {
  "deepnote": {
   "is_reactive": false
  },
  "deepnote_execution_queue": [],
  "deepnote_notebook_id": "10b26e99-167c-44c5-82d9-a804fbe3ae77",
  "kernelspec": {
   "display_name": "Python 3",
   "language": "python",
   "name": "python3"
  },
  "language_info": {
   "codemirror_mode": {
    "name": "ipython",
    "version": 3
   },
   "file_extension": ".py",
   "mimetype": "text/x-python",
   "name": "python",
   "nbconvert_exporter": "python",
   "pygments_lexer": "ipython3",
   "version": "3.9.7"
  }
 }
}