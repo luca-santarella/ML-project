{
 "cells": [
  {
   "cell_type": "code",
   "metadata": {
    "cell_id": "5394fd8d-383a-4c07-9cd3-206a46cc1d79",
    "deepnote_to_be_reexecuted": false,
    "source_hash": "679c05f4",
    "execution_start": 1642245497706,
    "execution_millis": 2515,
    "deepnote_cell_type": "code"
   },
   "source": "import numpy as np\nimport math\nimport matplotlib.pyplot as plt\nimport matplotlib.colors as colors\nimport pandas as pd\nfrom sklearn.preprocessing import OneHotEncoder\nfrom sklearn.metrics import confusion_matrix, classification_report\nfrom sklearn.preprocessing import StandardScaler\nfrom sklearn.model_selection import train_test_split\nfrom sklearn.model_selection import RandomizedSearchCV\n\nfrom sklearn.utils import resample #to downsample the dataset\nfrom sklearn.preprocessing import scale #Scale the dataset\nfrom sklearn.svm import SVC #Support vector machine for classification\nfrom sklearn.metrics import plot_confusion_matrix #Draws a Confusion Matrix\nfrom sklearn.decomposition import PCA #to perform PCA to plot data\n\nfrom sklearn.linear_model import SGDClassifier\n\nimport seaborn as sns\nimport warnings\nwarnings.filterwarnings(\"ignore\")\n%matplotlib inline",
   "execution_count": null,
   "outputs": []
  },
  {
   "cell_type": "code",
   "metadata": {
    "cell_id": "00001-33aced8c-f505-49bb-a36d-1cb22cd0964c",
    "deepnote_to_be_reexecuted": false,
    "source_hash": "5c25c59a",
    "execution_start": 1642245500226,
    "execution_millis": 2,
    "deepnote_cell_type": "code"
   },
   "source": "def make_meshgrid(x, y, h=.02):\n    x_min, x_max = x.min() - 1, x.max() + 1\n    y_min, y_max = y.min() - 1, y.max() + 1\n    xx, yy = np.meshgrid(np.arange(x_min, x_max, h), np.arange(y_min, y_max, h))\n    return xx, yy\n\ndef plot_contours(ax, clf, xx, yy, **params):\n    Z = clf.predict(np.c_[xx.ravel(), yy.ravel()])\n    Z = Z.reshape(xx.shape)\n    out = ax.contourf(xx, yy, Z, **params)\n    return out",
   "execution_count": null,
   "outputs": []
  },
  {
   "cell_type": "markdown",
   "source": "This function splits target column from dataset and transforms ndarray in a C-contiguos array with double precision to avoid data copy on SVM.",
   "metadata": {
    "cell_id": "00002-dcbd3494-14c5-469a-9c0f-0fd1923889e9",
    "deepnote_cell_type": "markdown"
   }
  },
  {
   "cell_type": "code",
   "metadata": {
    "cell_id": "00003-a6105268-61cf-4d3a-9766-11a9440e22e0",
    "deepnote_to_be_reexecuted": false,
    "source_hash": "9941f2ad",
    "execution_start": 1642245500232,
    "execution_millis": 1,
    "deepnote_cell_type": "code"
   },
   "source": "#define a function that split target column from dataset.\ndef split_train_test(df_monk_train, df_monk_test):\n    target_train = df_monk_train[['class']]\n    df_monk_train.drop(labels='class', axis=1, inplace=True)\n    target_test = df_monk_test[['class']]\n    df_monk_test.drop(labels='class', axis=1, inplace=True)\n    \n    #Transform ndarray in a C-contiguos array with double precision to avoid data copy on SVM\n    X_train = np.ascontiguousarray(df_monk_train.values, dtype=np.double)\n    X_test = np.ascontiguousarray(df_monk_test.values, dtype=np.double)\n    \n    y_train = np.ascontiguousarray(target_train.values, dtype=np.double)\n    y_test = np.ascontiguousarray(target_test.values, dtype=np.double)\n\n    return X_train, y_train, X_test, y_test",
   "execution_count": null,
   "outputs": []
  },
  {
   "cell_type": "markdown",
   "source": "We have defined a mee loss function to evaluate performance for the competition. ",
   "metadata": {
    "cell_id": "00004-75cf1f7f-526b-4028-8aa1-eb47fc700513",
    "deepnote_cell_type": "markdown"
   }
  },
  {
   "cell_type": "code",
   "metadata": {
    "cell_id": "00005-d9f17f50-49ec-4055-9400-10f5c27391d0",
    "deepnote_to_be_reexecuted": false,
    "source_hash": "a5b7cb83",
    "execution_start": 1642245500239,
    "execution_millis": 1,
    "deepnote_cell_type": "code"
   },
   "source": "#define mee loss function \ndef mee(true_target, predicted_target):  # assuming target is 2-dim matrix with x and y as columns\n    l = true_target.shape[0]\n    res = 0\n\n    for p in range(l):  # for p-th pattern in l (number of samples)\n        x_diff = np.square(true_target[p, 0] - predicted_target[p, 0])  # difference between the x value of the true and predicted target\n        y_diff = np.square(\n            true_target[p, 1] - predicted_target[p, 1])  # difference between the y values of true and predicted target\n        sum_term = x_diff + y_diff\n        res = res + np.sqrt(sum_term)\n    res = res / l\n\n    return res",
   "execution_count": null,
   "outputs": []
  },
  {
   "cell_type": "markdown",
   "source": "# Classification task\n\nThis notebook shows the results achieved with UCI MONK's problems dataset.",
   "metadata": {
    "cell_id": "00006-0c339682-e032-40e3-98cf-6a2966bbee86",
    "deepnote_cell_type": "markdown"
   }
  },
  {
   "cell_type": "markdown",
   "source": "## MONK-1 ",
   "metadata": {
    "cell_id": "00007-fe3cfe40-1ab1-4fa4-87a0-4248c540d70e",
    "deepnote_cell_type": "markdown"
   }
  },
  {
   "cell_type": "code",
   "metadata": {
    "cell_id": "00008-e41e1916-9e72-4bd9-a5c9-4d9524555231",
    "deepnote_to_be_reexecuted": false,
    "source_hash": "1a5b69e",
    "execution_start": 1642245500245,
    "execution_millis": 18,
    "deepnote_cell_type": "code"
   },
   "source": "#read train dataset\ndf_monk1_train = pd.read_csv('./data/MONK/monks-1.train', sep=\" \", skipinitialspace=True, names=['class','a1','a2','a3','a4','a5','a6','id'])\ndf_monk1_train.drop(labels='id', axis=1, inplace=True)\n\n#read test dataset\ndf_monk1_test = pd.read_csv('./data/MONK/monks-1.test', sep=\" \", skipinitialspace=True,  names=['class','a1','a2','a3','a4','a5','a6','id'])\ndf_monk1_test.drop(labels='id', axis=1, inplace=True)",
   "execution_count": null,
   "outputs": []
  },
  {
   "cell_type": "markdown",
   "source": "Plotting the train and test data distribution ",
   "metadata": {
    "cell_id": "00009-f6f599c0-e9d4-4678-b034-7f477df8b06d",
    "deepnote_cell_type": "markdown"
   }
  },
  {
   "cell_type": "code",
   "metadata": {
    "cell_id": "00010-66bd9738-028d-436f-847a-d0272c02309f",
    "deepnote_output_heights": [
     21.1875,
     451
    ],
    "deepnote_to_be_reexecuted": false,
    "source_hash": "b22c86e5",
    "execution_start": 1642245500267,
    "execution_millis": 308,
    "deepnote_cell_type": "code"
   },
   "source": "#plot class distribution in train data\nfig_size = plt.rcParams[\"figure.figsize\"]\nfig_size[0] = 10\nfig_size[1] = 8\nplt.rcParams[\"figure.figsize\"] = fig_size\n\ndf_monk1_train['class'].value_counts().plot(kind='pie', autopct='%1.0f%%', colors=['skyblue', 'orange'], explode=(0.05, 0.05))",
   "execution_count": null,
   "outputs": [
    {
     "output_type": "execute_result",
     "execution_count": 6,
     "data": {
      "text/plain": "<AxesSubplot:ylabel='class'>"
     },
     "metadata": {}
    },
    {
     "data": {
      "text/plain": "<Figure size 720x576 with 1 Axes>",
      "image/png": "[encoded data removed]"
     },
     "metadata": {
      "image/png": {
       "width": 463,
       "height": 449
      }
     },
     "output_type": "display_data"
    }
   ]
  },
  {
   "cell_type": "code",
   "metadata": {
    "scrolled": true,
    "cell_id": "00011-a07181e6-e06e-4f7c-b764-186ecad55294",
    "deepnote_output_heights": [
     21.1875,
     451
    ],
    "deepnote_to_be_reexecuted": false,
    "source_hash": "3b111b4e",
    "execution_start": 1642245500577,
    "execution_millis": 488,
    "deepnote_cell_type": "code"
   },
   "source": "#plot class distribution in test data\ndf_monk1_test['class'].value_counts().plot(kind='pie', autopct='%1.0f%%', colors=['skyblue', 'orange'], explode=(0.05, 0.05))",
   "execution_count": null,
   "outputs": [
    {
     "output_type": "execute_result",
     "execution_count": 7,
     "data": {
      "text/plain": "<AxesSubplot:ylabel='class'>"
     },
     "metadata": {}
    },
    {
     "data": {
      "text/plain": "<Figure size 720x576 with 1 Axes>",
      "image/png": "[encoded data removed]"
     },
     "metadata": {
      "image/png": {
       "width": 463,
       "height": 449
      }
     },
     "output_type": "display_data"
    }
   ]
  },
  {
   "cell_type": "markdown",
   "source": "Define train and test set with labels",
   "metadata": {
    "cell_id": "00012-5d647918-192b-4db6-8b82-b148625b4ca6",
    "deepnote_cell_type": "markdown"
   }
  },
  {
   "cell_type": "code",
   "metadata": {
    "cell_id": "00013-39d6085d-92f2-4648-83ee-9e46be015824",
    "deepnote_to_be_reexecuted": false,
    "source_hash": "ea61b89e",
    "execution_start": 1642245501140,
    "execution_millis": 0,
    "deepnote_cell_type": "code"
   },
   "source": "X_train_M1, y_train_M1, X_test_M1, y_test_M1 = split_train_test(df_monk1_train, df_monk1_test)",
   "execution_count": null,
   "outputs": []
  },
  {
   "cell_type": "code",
   "metadata": {
    "cell_id": "00014-765a8db7-ca5d-4e3b-bdd9-d0de20cb40b1",
    "deepnote_output_heights": [
     21.1875
    ],
    "deepnote_to_be_reexecuted": false,
    "source_hash": "77fd1e48",
    "execution_start": 1642245501141,
    "execution_millis": 310,
    "deepnote_cell_type": "code"
   },
   "source": "\"\"\"\nfrom sklearn.datasets import make_blobs\n\ndf_profile_clone = df_copy\n\nplt.figure(figsize=(12,10))\ncmap = colors.ListedColormap(['#85db2e', '#c43025'])\nplt.scatter(df_profile_clone['01/09/2021_age'].values, df_profile_clone['avg_df'].values, c=df_profile_clone['label'].values, s=7, cmap=cmap)\nplt.xlabel(\"Total Games\")\nplt.ylabel(\"avg_df\")\nplt.show()\n\"\"\"",
   "execution_count": null,
   "outputs": [
    {
     "output_type": "execute_result",
     "execution_count": 9,
     "data": {
      "text/plain": "'\\nfrom sklearn.datasets import make_blobs\\n\\ndf_profile_clone = df_copy\\n\\nplt.figure(figsize=(12,10))\\ncmap = colors.ListedColormap([\\'#85db2e\\', \\'#c43025\\'])\\nplt.scatter(df_profile_clone[\\'01/09/2021_age\\'].values, df_profile_clone[\\'avg_df\\'].values, c=df_profile_clone[\\'label\\'].values, s=7, cmap=cmap)\\nplt.xlabel(\"Total Games\")\\nplt.ylabel(\"avg_df\")\\nplt.show()\\n'"
     },
     "metadata": {}
    }
   ]
  },
  {
   "cell_type": "code",
   "metadata": {
    "scrolled": true,
    "cell_id": "00015-b41c6f97-69ab-4cda-a5a3-ee766068e72d",
    "deepnote_output_heights": [
     21.1875
    ],
    "deepnote_to_be_reexecuted": false,
    "source_hash": "a82a2aeb",
    "execution_start": 1642245501144,
    "execution_millis": 310,
    "deepnote_cell_type": "code"
   },
   "source": "'''clf_svm_plot = SVC(C=C_BEST, gamma=GAMMA, kernel=KERNEL, random_state=1)\nclf_svm_plot.fit(X, y_testing)\n\nfig, ax = plt.subplots()\n# title for the plots\ntitle = ('Decision surface of linear SVC ')\n# Set-up grid for plotting.\n#X0, X1 = X[:, 0], X[:, 1]\nX0, X1 = X['a1'], X['a2']\nxx, yy = make_meshgrid(X0, X1)\n\nplot_contours(ax, clf_svm_plot, xx, yy, cmap=plt.cm.coolwarm, alpha=0.8)\nax.scatter(X0, X1, c=y_testing, cmap=plt.cm.coolwarm, s=20, edgecolors='k')\nax.set_ylabel('a2')\nax.set_xlabel('a1')\nax.set_xticks(())\nax.set_yticks(())\nax.set_title(title)\nax.legend()\nplt.show()'''",
   "execution_count": null,
   "outputs": [
    {
     "output_type": "execute_result",
     "execution_count": 10,
     "data": {
      "text/plain": "\"clf_svm_plot = SVC(C=C_BEST, gamma=GAMMA, kernel=KERNEL, random_state=1)\\nclf_svm_plot.fit(X, y_testing)\\n\\nfig, ax = plt.subplots()\\n# title for the plots\\ntitle = ('Decision surface of linear SVC ')\\n# Set-up grid for plotting.\\n#X0, X1 = X[:, 0], X[:, 1]\\nX0, X1 = X['a1'], X['a2']\\nxx, yy = make_meshgrid(X0, X1)\\n\\nplot_contours(ax, clf_svm_plot, xx, yy, cmap=plt.cm.coolwarm, alpha=0.8)\\nax.scatter(X0, X1, c=y_testing, cmap=plt.cm.coolwarm, s=20, edgecolors='k')\\nax.set_ylabel('a2')\\nax.set_xlabel('a1')\\nax.set_xticks(())\\nax.set_yticks(())\\nax.set_title(title)\\nax.legend()\\nplt.show()\""
     },
     "metadata": {}
    }
   ]
  },
  {
   "cell_type": "markdown",
   "source": "### One Hot Encoder\n\nIn the MONK dataset we have the categories encoded using label encoding (e.g. 0,1,2,..), we need to use one hot encoding in order to have better results (e.g. 001, 010, ..).",
   "metadata": {
    "cell_id": "00016-b4eb3112-ec7b-4c2b-aa08-2283ad2cc81a",
    "deepnote_cell_type": "markdown"
   }
  },
  {
   "cell_type": "code",
   "metadata": {
    "cell_id": "00017-822db9d7-9b51-4b20-9513-b00e29f05991",
    "deepnote_to_be_reexecuted": false,
    "source_hash": "7d1623e9",
    "execution_start": 1642245501176,
    "execution_millis": 279,
    "deepnote_cell_type": "code"
   },
   "source": "enc_train = OneHotEncoder()\nenc_train.fit(X_train_M1)\nX_train_M1 = enc_train.transform(X_train_M1).toarray()\nprint(X_train_M1.shape)\n\nenc_test = OneHotEncoder()\nenc_test.fit(X_test_M1)\nX_test_M1 = enc_test.transform(X_test_M1).toarray()\nprint(X_test_M1.shape)",
   "execution_count": null,
   "outputs": [
    {
     "name": "stdout",
     "text": "(124, 17)\n(432, 17)\n",
     "output_type": "stream"
    }
   ]
  },
  {
   "cell_type": "code",
   "metadata": {
    "cell_id": "00018-8e1d5db7-1120-4d37-bcc3-cd3cbd612265",
    "deepnote_to_be_reexecuted": false,
    "source_hash": "e6cad690",
    "execution_start": 1642245501185,
    "execution_millis": 144,
    "deepnote_cell_type": "code"
   },
   "source": "clf_svm_onehot = SVC(C=5, gamma=0.15, kernel='rbf')\nclf_svm_onehot.fit(X_train_M1, y_train_M1)\n\ntrain_pred = clf_svm_onehot.predict(X_train_M1)\ntest_pred = clf_svm_onehot.predict(X_test_M1)",
   "execution_count": null,
   "outputs": []
  },
  {
   "cell_type": "code",
   "metadata": {
    "scrolled": true,
    "cell_id": "00019-fd4616ea-cfac-4cd0-9861-ff8fc65bd1f2",
    "deepnote_to_be_reexecuted": false,
    "source_hash": "39cf4bc",
    "execution_start": 1642245501330,
    "execution_millis": 130,
    "deepnote_cell_type": "code"
   },
   "source": "print(classification_report(y_train_M1, train_pred))",
   "execution_count": null,
   "outputs": [
    {
     "name": "stdout",
     "text": "              precision    recall  f1-score   support\n\n         0.0       1.00      1.00      1.00        62\n         1.0       1.00      1.00      1.00        62\n\n    accuracy                           1.00       124\n   macro avg       1.00      1.00      1.00       124\nweighted avg       1.00      1.00      1.00       124\n\n",
     "output_type": "stream"
    }
   ]
  },
  {
   "cell_type": "code",
   "metadata": {
    "cell_id": "00020-b19a837c-7606-4131-b10f-858a05d13d4a",
    "deepnote_to_be_reexecuted": false,
    "source_hash": "b4c034e9",
    "execution_start": 1642245501331,
    "execution_millis": 134,
    "deepnote_cell_type": "code"
   },
   "source": "print(classification_report(y_test_M1, test_pred))",
   "execution_count": null,
   "outputs": [
    {
     "name": "stdout",
     "text": "              precision    recall  f1-score   support\n\n         0.0       1.00      1.00      1.00       216\n         1.0       1.00      1.00      1.00       216\n\n    accuracy                           1.00       432\n   macro avg       1.00      1.00      1.00       432\nweighted avg       1.00      1.00      1.00       432\n\n",
     "output_type": "stream"
    }
   ]
  },
  {
   "cell_type": "code",
   "metadata": {
    "cell_id": "00021-bdf81760-66bc-4af2-bc7c-227c21dd2421",
    "deepnote_output_heights": [
     482
    ],
    "deepnote_to_be_reexecuted": false,
    "source_hash": "1ef614f",
    "execution_start": 1642245501402,
    "execution_millis": 359,
    "deepnote_cell_type": "code"
   },
   "source": "plot_confusion_matrix(clf_svm_onehot,\n                      X_test_M1,\n                      y_test_M1,\n                      values_format='d',\n                      display_labels=['0', '1'])\nplt.show()",
   "execution_count": null,
   "outputs": [
    {
     "data": {
      "text/plain": "<Figure size 720x576 with 2 Axes>",
      "image/png": "[encoded data removed]"
     },
     "metadata": {
      "needs_background": "light",
      "image/png": {
       "width": 552,
       "height": 480
      }
     },
     "output_type": "display_data"
    }
   ]
  },
  {
   "cell_type": "markdown",
   "source": "## MONK-2",
   "metadata": {
    "cell_id": "00022-8b848df9-36d0-45ae-8958-08beef4ace6e",
    "deepnote_cell_type": "markdown"
   }
  },
  {
   "cell_type": "code",
   "metadata": {
    "cell_id": "00023-811edadd-ed73-486a-a5af-fe44b00bf452",
    "deepnote_to_be_reexecuted": false,
    "source_hash": "e0e1ec27",
    "execution_start": 1642245501762,
    "execution_millis": 11,
    "deepnote_cell_type": "code"
   },
   "source": "#read train dataset\ndf_monk2_train = pd.read_csv('./data/MONK/monks-2.train', sep=\" \", skipinitialspace=True, names=['class','a1','a2','a3','a4','a5','a6','id'])\ndf_monk2_train.drop(labels='id', axis=1, inplace=True)\n\n#read test dataset\ndf_monk2_test = pd.read_csv('./data/MONK/monks-2.test', sep=\" \", skipinitialspace=True,  names=['class','a1','a2','a3','a4','a5','a6','id'])\ndf_monk2_test.drop(labels='id', axis=1, inplace=True)",
   "execution_count": null,
   "outputs": []
  },
  {
   "cell_type": "code",
   "metadata": {
    "cell_id": "00024-dea32029-8d02-456e-a080-5ebe1bb0083b",
    "deepnote_output_heights": [
     21.1875,
     451
    ],
    "deepnote_to_be_reexecuted": false,
    "source_hash": "47f9abdd",
    "execution_start": 1642245501826,
    "execution_millis": 164,
    "deepnote_cell_type": "code"
   },
   "source": "#plot class distribution in train data\nfig_size = plt.rcParams[\"figure.figsize\"]\nfig_size[0] = 10\nfig_size[1] = 8\nplt.rcParams[\"figure.figsize\"] = fig_size\n\ndf_monk2_train['class'].value_counts().plot(kind='pie', autopct='%1.0f%%', colors=['blue', 'yellow'], explode=(0.05, 0.05))",
   "execution_count": null,
   "outputs": [
    {
     "output_type": "execute_result",
     "execution_count": 17,
     "data": {
      "text/plain": "<AxesSubplot:ylabel='class'>"
     },
     "metadata": {}
    },
    {
     "data": {
      "text/plain": "<Figure size 720x576 with 1 Axes>",
      "image/png": "[encoded data removed]"
     },
     "metadata": {
      "image/png": {
       "width": 463,
       "height": 449
      }
     },
     "output_type": "display_data"
    }
   ]
  },
  {
   "cell_type": "code",
   "metadata": {
    "cell_id": "00025-7b07c63f-0da6-437c-9a18-088a31e126c8",
    "deepnote_output_heights": [
     21.1875,
     451
    ],
    "deepnote_to_be_reexecuted": false,
    "source_hash": "daafa5e6",
    "execution_start": 1642245502061,
    "execution_millis": 213,
    "deepnote_cell_type": "code"
   },
   "source": "#plot class distribution in test data\ndf_monk2_test['class'].value_counts().plot(kind='pie', autopct='%1.0f%%', colors=['blue', 'yellow'], explode=(0.05, 0.05))",
   "execution_count": null,
   "outputs": [
    {
     "output_type": "execute_result",
     "execution_count": 18,
     "data": {
      "text/plain": "<AxesSubplot:ylabel='class'>"
     },
     "metadata": {}
    },
    {
     "data": {
      "text/plain": "<Figure size 720x576 with 1 Axes>",
      "image/png": "[encoded data removed]"
     },
     "metadata": {
      "image/png": {
       "width": 463,
       "height": 449
      }
     },
     "output_type": "display_data"
    }
   ]
  },
  {
   "cell_type": "code",
   "metadata": {
    "cell_id": "00026-e7543bbb-447a-4cbf-a089-ffbe438a4237",
    "deepnote_to_be_reexecuted": false,
    "source_hash": "91aea900",
    "execution_start": 1642245502280,
    "execution_millis": 2,
    "deepnote_cell_type": "code"
   },
   "source": "X_train_M2, y_train_M2, X_test_M2, y_test_M2 = split_train_test(df_monk2_train, df_monk2_test)",
   "execution_count": null,
   "outputs": []
  },
  {
   "cell_type": "markdown",
   "source": "### One Hot Encoder",
   "metadata": {
    "cell_id": "00027-380fa786-6531-4ff3-8c45-34a7634f061f",
    "deepnote_cell_type": "markdown"
   }
  },
  {
   "cell_type": "code",
   "metadata": {
    "cell_id": "00028-203adf81-bf62-40e8-8a37-63f8e84a8664",
    "deepnote_to_be_reexecuted": false,
    "source_hash": "25b72f0c",
    "execution_start": 1642245502283,
    "execution_millis": 17,
    "deepnote_cell_type": "code"
   },
   "source": "enc_train = OneHotEncoder()\nenc_train.fit(X_train_M2)\nX_train_M2 = enc_train.transform(X_train_M2).toarray()\nprint(X_train_M2.shape)\n\nenc_test = OneHotEncoder()\nenc_test.fit(X_test_M2)\nX_test_M2 = enc_test.transform(X_test_M2).toarray()\nprint(X_test_M2.shape)",
   "execution_count": null,
   "outputs": [
    {
     "name": "stdout",
     "text": "(169, 17)\n(432, 17)\n",
     "output_type": "stream"
    }
   ]
  },
  {
   "cell_type": "code",
   "metadata": {
    "scrolled": true,
    "cell_id": "00029-be3f6e3f-856e-4c3b-959f-6559471ad0e7",
    "deepnote_to_be_reexecuted": false,
    "source_hash": "388491f3",
    "execution_start": 1642245502307,
    "execution_millis": 26243,
    "deepnote_cell_type": "code"
   },
   "source": "par_values = [\n    {'C': [0.1, 0.2, 0.3, 0.4, 0.5, 0.6, 0.7, 0.8, 0.9, 1, 2, 10, 4000, 4300, 4400, 5000, 1000, 2000, 500, 100],# 15, 25, 50, 100, 250, 500, 1000], #C must be greater than 0\n    'gamma': ['scale', 1, 0.15, 0.2, 0.25, 0.009, 0.0095, 0.1, 0.01, 0.001, 0.0001, 0.00001],\n    'kernel': ['linear', 'rbf', 'sigmoid']\n    },\n] \n\noptimal_par_oh2 = RandomizedSearchCV(\n    estimator=SVC(),\n    param_distributions=par_values,\n    n_iter=150,\n    cv=10,\n    scoring='accuracy',\n    verbose=0\n)\n\noptimal_par_oh2.fit(X_train_M2, y_train_M2)\nprint(optimal_par_oh2.best_params_)",
   "execution_count": null,
   "outputs": [
    {
     "name": "stdout",
     "text": "{'kernel': 'rbf', 'gamma': 0.0095, 'C': 5000}\n",
     "output_type": "stream"
    }
   ]
  },
  {
   "cell_type": "code",
   "metadata": {
    "cell_id": "00030-0a47e22b-11e0-41b9-833f-5bea9cdf97e4",
    "deepnote_output_heights": [
     606.546875
    ],
    "deepnote_to_be_reexecuted": false,
    "source_hash": "1308a8aa",
    "execution_start": 1642245528559,
    "execution_millis": 206,
    "deepnote_cell_type": "code"
   },
   "source": "df_results = pd.DataFrame(data=optimal_par_oh2.cv_results_) #trasform into a pandas dataframe\ndf_results.sort_values(by=\"rank_test_score\", axis=0, ascending=True, inplace=True) #sort rank values in decreasing order \ndf_results.dropna(inplace=True) #delete nan values \ndf_results = df_results[:50] #keep only top 50 models\ndf_results",
   "execution_count": null,
   "outputs": [
    {
     "output_type": "execute_result",
     "execution_count": 22,
     "data": {
      "application/vnd.deepnote.dataframe.v3+json": {
       "column_count": 21,
       "row_count": 50,
       "columns": [
        {
         "name": "mean_fit_time",
         "dtype": "float64",
         "stats": {
          "unique_count": 50,
          "nan_count": 0,
          "min": "0.00110931396484375",
          "max": "0.04377603530883789",
          "histogram": [
           {
            "bin_start": 0.00110931396484375,
            "bin_end": 0.005375986099243164,
            "count": 45
           },
           {
            "bin_start": 0.005375986099243164,
            "bin_end": 0.00964265823364258,
            "count": 0
           },
           {
            "bin_start": 0.00964265823364258,
            "bin_end": 0.013909330368041994,
            "count": 0
           },
           {
            "bin_start": 0.013909330368041994,
            "bin_end": 0.018176002502441408,
            "count": 1
           },
           {
            "bin_start": 0.018176002502441408,
            "bin_end": 0.022442674636840822,
            "count": 0
           },
           {
            "bin_start": 0.022442674636840822,
            "bin_end": 0.026709346771240237,
            "count": 0
           },
           {
            "bin_start": 0.026709346771240237,
            "bin_end": 0.03097601890563965,
            "count": 0
           },
           {
            "bin_start": 0.03097601890563965,
            "bin_end": 0.03524269104003906,
            "count": 0
           },
           {
            "bin_start": 0.03524269104003906,
            "bin_end": 0.039509363174438476,
            "count": 2
           },
           {
            "bin_start": 0.039509363174438476,
            "bin_end": 0.04377603530883789,
            "count": 2
           }
          ]
         }
        },
        {
         "name": "std_fit_time",
         "dtype": "float64",
         "stats": {
          "unique_count": 50,
          "nan_count": 0,
          "min": "1.919735976227363e-05",
          "max": "0.012015692095283227",
          "histogram": [
           {
            "bin_start": 0.00001919735976227363,
            "bin_end": 0.0012188468333143689,
            "count": 45
           },
           {
            "bin_start": 0.0012188468333143689,
            "bin_end": 0.002418496306866464,
            "count": 0
           },
           {
            "bin_start": 0.002418496306866464,
            "bin_end": 0.0036181457804185593,
            "count": 1
           },
           {
            "bin_start": 0.0036181457804185593,
            "bin_end": 0.004817795253970654,
            "count": 0
           },
           {
            "bin_start": 0.004817795253970654,
            "bin_end": 0.00601744472752275,
            "count": 0
           },
           {
            "bin_start": 0.00601744472752275,
            "bin_end": 0.0072170942010748446,
            "count": 0
           },
           {
            "bin_start": 0.0072170942010748446,
            "bin_end": 0.00841674367462694,
            "count": 0
           },
           {
            "bin_start": 0.00841674367462694,
            "bin_end": 0.009616393148179036,
            "count": 2
           },
           {
            "bin_start": 0.009616393148179036,
            "bin_end": 0.010816042621731132,
            "count": 0
           },
           {
            "bin_start": 0.010816042621731132,
            "bin_end": 0.012015692095283227,
            "count": 2
           }
          ]
         }
        },
        {
         "name": "mean_score_time",
         "dtype": "float64",
         "stats": {
          "unique_count": 50,
          "nan_count": 0,
          "min": "0.00040814876556396487",
          "max": "0.0006971597671508789",
          "histogram": [
           {
            "bin_start": 0.00040814876556396487,
            "bin_end": 0.0004370498657226563,
            "count": 5
           },
           {
            "bin_start": 0.0004370498657226563,
            "bin_end": 0.0004659509658813477,
            "count": 6
           },
           {
            "bin_start": 0.0004659509658813477,
            "bin_end": 0.000494852066040039,
            "count": 12
           },
           {
            "bin_start": 0.000494852066040039,
            "bin_end": 0.0005237531661987305,
            "count": 8
           },
           {
            "bin_start": 0.0005237531661987305,
            "bin_end": 0.0005526542663574219,
            "count": 9
           },
           {
            "bin_start": 0.0005526542663574219,
            "bin_end": 0.0005815553665161133,
            "count": 5
           },
           {
            "bin_start": 0.0005815553665161133,
            "bin_end": 0.0006104564666748047,
            "count": 2
           },
           {
            "bin_start": 0.0006104564666748047,
            "bin_end": 0.0006393575668334961,
            "count": 1
           },
           {
            "bin_start": 0.0006393575668334961,
            "bin_end": 0.0006682586669921875,
            "count": 1
           },
           {
            "bin_start": 0.0006682586669921875,
            "bin_end": 0.0006971597671508789,
            "count": 1
           }
          ]
         }
        },
        {
         "name": "std_score_time",
         "dtype": "float64",
         "stats": {
          "unique_count": 50,
          "nan_count": 0,
          "min": "4.851627697595106e-06",
          "max": "0.0001472562182068028",
          "histogram": [
           {
            "bin_start": 0.000004851627697595106,
            "bin_end": 0.000019092086748515875,
            "count": 15
           },
           {
            "bin_start": 0.000019092086748515875,
            "bin_end": 0.000033332545799436644,
            "count": 12
           },
           {
            "bin_start": 0.000033332545799436644,
            "bin_end": 0.000047573004850357414,
            "count": 3
           },
           {
            "bin_start": 0.000047573004850357414,
            "bin_end": 0.00006181346390127819,
            "count": 4
           },
           {
            "bin_start": 0.00006181346390127819,
            "bin_end": 0.00007605392295219896,
            "count": 1
           },
           {
            "bin_start": 0.00007605392295219896,
            "bin_end": 0.00009029438200311973,
            "count": 2
           },
           {
            "bin_start": 0.00009029438200311973,
            "bin_end": 0.0001045348410540405,
            "count": 6
           },
           {
            "bin_start": 0.0001045348410540405,
            "bin_end": 0.00011877530010496127,
            "count": 2
           },
           {
            "bin_start": 0.00011877530010496127,
            "bin_end": 0.000133015759155882,
            "count": 2
           },
           {
            "bin_start": 0.000133015759155882,
            "bin_end": 0.0001472562182068028,
            "count": 3
           }
          ]
         }
        },
        {
         "name": "param_kernel",
         "dtype": "object",
         "stats": {
          "unique_count": 3,
          "nan_count": 0,
          "categories": [
           {
            "name": "rbf",
            "count": 31
           },
           {
            "name": "sigmoid",
            "count": 13
           },
           {
            "name": "linear",
            "count": 6
           }
          ]
         }
        },
        {
         "name": "param_gamma",
         "dtype": "object",
         "stats": {
          "unique_count": 12,
          "nan_count": 0,
          "categories": [
           {
            "name": "0.009",
            "count": 7
           },
           {
            "name": "1e-05",
            "count": 7
           },
           {
            "name": "10 others",
            "count": 36
           }
          ]
         }
        },
        {
         "name": "param_C",
         "dtype": "object",
         "stats": {
          "unique_count": 19,
          "nan_count": 0,
          "categories": [
           {
            "name": "0.2",
            "count": 9
           },
           {
            "name": "0.5",
            "count": 6
           },
           {
            "name": "17 others",
            "count": 35
           }
          ]
         }
        },
        {
         "name": "params",
         "dtype": "object",
         "stats": {
          "unique_count": 50,
          "nan_count": 0,
          "categories": [
           {
            "name": "{'kernel': 'rbf', 'gamma': 0.0095, 'C': 5000}",
            "count": 1
           },
           {
            "name": "{'kernel': 'rbf', 'gamma': 0.009, 'C': 5000}",
            "count": 1
           },
           {
            "name": "48 others",
            "count": 48
           }
          ]
         }
        },
        {
         "name": "split0_test_score",
         "dtype": "float64",
         "stats": {
          "unique_count": 4,
          "nan_count": 0,
          "min": "0.6470588235294118",
          "max": "0.9411764705882353",
          "histogram": [
           {
            "bin_start": 0.6470588235294118,
            "bin_end": 0.6764705882352942,
            "count": 42
           },
           {
            "bin_start": 0.6764705882352942,
            "bin_end": 0.7058823529411765,
            "count": 0
           },
           {
            "bin_start": 0.7058823529411765,
            "bin_end": 0.7352941176470589,
            "count": 0
           },
           {
            "bin_start": 0.7352941176470589,
            "bin_end": 0.7647058823529412,
            "count": 0
           },
           {
            "bin_start": 0.7647058823529412,
            "bin_end": 0.7941176470588236,
            "count": 0
           },
           {
            "bin_start": 0.7941176470588236,
            "bin_end": 0.8235294117647058,
            "count": 0
           },
           {
            "bin_start": 0.8235294117647058,
            "bin_end": 0.8529411764705882,
            "count": 3
           },
           {
            "bin_start": 0.8529411764705882,
            "bin_end": 0.8823529411764706,
            "count": 0
           },
           {
            "bin_start": 0.8823529411764706,
            "bin_end": 0.9117647058823529,
            "count": 1
           },
           {
            "bin_start": 0.9117647058823529,
            "bin_end": 0.9411764705882353,
            "count": 4
           }
          ]
         }
        },
        {
         "name": "split1_test_score",
         "dtype": "float64",
         "stats": {
          "unique_count": 5,
          "nan_count": 0,
          "min": "0.47058823529411764",
          "max": "0.7058823529411765",
          "histogram": [
           {
            "bin_start": 0.47058823529411764,
            "bin_end": 0.49411764705882355,
            "count": 3
           },
           {
            "bin_start": 0.49411764705882355,
            "bin_end": 0.5176470588235295,
            "count": 0
           },
           {
            "bin_start": 0.5176470588235295,
            "bin_end": 0.5411764705882354,
            "count": 1
           },
           {
            "bin_start": 0.5411764705882354,
            "bin_end": 0.5647058823529412,
            "count": 0
           },
           {
            "bin_start": 0.5647058823529412,
            "bin_end": 0.5882352941176471,
            "count": 0
           },
           {
            "bin_start": 0.5882352941176471,
            "bin_end": 0.611764705882353,
            "count": 2
           },
           {
            "bin_start": 0.611764705882353,
            "bin_end": 0.6352941176470589,
            "count": 0
           },
           {
            "bin_start": 0.6352941176470589,
            "bin_end": 0.6588235294117648,
            "count": 41
           },
           {
            "bin_start": 0.6588235294117648,
            "bin_end": 0.6823529411764706,
            "count": 0
           },
           {
            "bin_start": 0.6823529411764706,
            "bin_end": 0.7058823529411765,
            "count": 3
           }
          ]
         }
        },
        {
         "name": "split2_test_score",
         "dtype": "float64",
         "stats": {
          "unique_count": 5,
          "nan_count": 0,
          "min": "0.47058823529411764",
          "max": "0.7058823529411765",
          "histogram": [
           {
            "bin_start": 0.47058823529411764,
            "bin_end": 0.49411764705882355,
            "count": 2
           },
           {
            "bin_start": 0.49411764705882355,
            "bin_end": 0.5176470588235295,
            "count": 0
           },
           {
            "bin_start": 0.5176470588235295,
            "bin_end": 0.5411764705882354,
            "count": 1
           },
           {
            "bin_start": 0.5411764705882354,
            "bin_end": 0.5647058823529412,
            "count": 0
           },
           {
            "bin_start": 0.5647058823529412,
            "bin_end": 0.5882352941176471,
            "count": 0
           },
           {
            "bin_start": 0.5882352941176471,
            "bin_end": 0.611764705882353,
            "count": 3
           },
           {
            "bin_start": 0.611764705882353,
            "bin_end": 0.6352941176470589,
            "count": 0
           },
           {
            "bin_start": 0.6352941176470589,
            "bin_end": 0.6588235294117648,
            "count": 43
           },
           {
            "bin_start": 0.6588235294117648,
            "bin_end": 0.6823529411764706,
            "count": 0
           },
           {
            "bin_start": 0.6823529411764706,
            "bin_end": 0.7058823529411765,
            "count": 1
           }
          ]
         }
        },
        {
         "name": "split3_test_score",
         "dtype": "float64",
         "stats": {
          "unique_count": 4,
          "nan_count": 0,
          "min": "0.6470588235294118",
          "max": "0.9411764705882353",
          "histogram": [
           {
            "bin_start": 0.6470588235294118,
            "bin_end": 0.6764705882352942,
            "count": 44
           },
           {
            "bin_start": 0.6764705882352942,
            "bin_end": 0.7058823529411765,
            "count": 0
           },
           {
            "bin_start": 0.7058823529411765,
            "bin_end": 0.7352941176470589,
            "count": 0
           },
           {
            "bin_start": 0.7352941176470589,
            "bin_end": 0.7647058823529412,
            "count": 2
           },
           {
            "bin_start": 0.7647058823529412,
            "bin_end": 0.7941176470588236,
            "count": 0
           },
           {
            "bin_start": 0.7941176470588236,
            "bin_end": 0.8235294117647058,
            "count": 0
           },
           {
            "bin_start": 0.8235294117647058,
            "bin_end": 0.8529411764705882,
            "count": 2
           },
           {
            "bin_start": 0.8529411764705882,
            "bin_end": 0.8823529411764706,
            "count": 0
           },
           {
            "bin_start": 0.8823529411764706,
            "bin_end": 0.9117647058823529,
            "count": 0
           },
           {
            "bin_start": 0.9117647058823529,
            "bin_end": 0.9411764705882353,
            "count": 2
           }
          ]
         }
        },
        {
         "name": "split4_test_score",
         "dtype": "float64",
         "stats": {
          "unique_count": 4,
          "nan_count": 0,
          "min": "0.6470588235294118",
          "max": "0.9411764705882353",
          "histogram": [
           {
            "bin_start": 0.6470588235294118,
            "bin_end": 0.6764705882352942,
            "count": 42
           },
           {
            "bin_start": 0.6764705882352942,
            "bin_end": 0.7058823529411765,
            "count": 0
           },
           {
            "bin_start": 0.7058823529411765,
            "bin_end": 0.7352941176470589,
            "count": 0
           },
           {
            "bin_start": 0.7352941176470589,
            "bin_end": 0.7647058823529412,
            "count": 3
           },
           {
            "bin_start": 0.7647058823529412,
            "bin_end": 0.7941176470588236,
            "count": 0
           },
           {
            "bin_start": 0.7941176470588236,
            "bin_end": 0.8235294117647058,
            "count": 0
           },
           {
            "bin_start": 0.8235294117647058,
            "bin_end": 0.8529411764705882,
            "count": 0
           },
           {
            "bin_start": 0.8529411764705882,
            "bin_end": 0.8823529411764706,
            "count": 0
           },
           {
            "bin_start": 0.8823529411764706,
            "bin_end": 0.9117647058823529,
            "count": 1
           },
           {
            "bin_start": 0.9117647058823529,
            "bin_end": 0.9411764705882353,
            "count": 4
           }
          ]
         }
        },
        {
         "name": "split5_test_score",
         "dtype": "float64",
         "stats": {
          "unique_count": 6,
          "nan_count": 0,
          "min": "0.5882352941176471",
          "max": "0.8823529411764706",
          "histogram": [
           {
            "bin_start": 0.5882352941176471,
            "bin_end": 0.6176470588235294,
            "count": 44
           },
           {
            "bin_start": 0.6176470588235294,
            "bin_end": 0.6470588235294118,
            "count": 0
           },
           {
            "bin_start": 0.6470588235294118,
            "bin_end": 0.6764705882352942,
            "count": 1
           },
           {
            "bin_start": 0.6764705882352942,
            "bin_end": 0.7058823529411765,
            "count": 0
           },
           {
            "bin_start": 0.7058823529411765,
            "bin_end": 0.7352941176470589,
            "count": 1
           },
           {
            "bin_start": 0.7352941176470589,
            "bin_end": 0.7647058823529411,
            "count": 0
           },
           {
            "bin_start": 0.7647058823529411,
            "bin_end": 0.7941176470588235,
            "count": 2
           },
           {
            "bin_start": 0.7941176470588235,
            "bin_end": 0.8235294117647058,
            "count": 0
           },
           {
            "bin_start": 0.8235294117647058,
            "bin_end": 0.8529411764705882,
            "count": 1
           },
           {
            "bin_start": 0.8529411764705882,
            "bin_end": 0.8823529411764706,
            "count": 1
           }
          ]
         }
        },
        {
         "name": "split6_test_score",
         "dtype": "float64",
         "stats": {
          "unique_count": 5,
          "nan_count": 0,
          "min": "0.5882352941176471",
          "max": "0.8823529411764706",
          "histogram": [
           {
            "bin_start": 0.5882352941176471,
            "bin_end": 0.6176470588235294,
            "count": 43
           },
           {
            "bin_start": 0.6176470588235294,
            "bin_end": 0.6470588235294118,
            "count": 0
           },
           {
            "bin_start": 0.6470588235294118,
            "bin_end": 0.6764705882352942,
            "count": 1
           },
           {
            "bin_start": 0.6764705882352942,
            "bin_end": 0.7058823529411765,
            "count": 0
           },
           {
            "bin_start": 0.7058823529411765,
            "bin_end": 0.7352941176470589,
            "count": 2
           },
           {
            "bin_start": 0.7352941176470589,
            "bin_end": 0.7647058823529411,
            "count": 0
           },
           {
            "bin_start": 0.7647058823529411,
            "bin_end": 0.7941176470588235,
            "count": 0
           },
           {
            "bin_start": 0.7941176470588235,
            "bin_end": 0.8235294117647058,
            "count": 0
           },
           {
            "bin_start": 0.8235294117647058,
            "bin_end": 0.8529411764705882,
            "count": 2
           },
           {
            "bin_start": 0.8529411764705882,
            "bin_end": 0.8823529411764706,
            "count": 2
           }
          ]
         }
        },
        {
         "name": "split7_test_score",
         "dtype": "float64",
         "stats": {
          "unique_count": 6,
          "nan_count": 0,
          "min": "0.5882352941176471",
          "max": "1.0",
          "histogram": [
           {
            "bin_start": 0.5882352941176471,
            "bin_end": 0.6294117647058823,
            "count": 40
           },
           {
            "bin_start": 0.6294117647058823,
            "bin_end": 0.6705882352941177,
            "count": 2
           },
           {
            "bin_start": 0.6705882352941177,
            "bin_end": 0.711764705882353,
            "count": 0
           },
           {
            "bin_start": 0.711764705882353,
            "bin_end": 0.7529411764705882,
            "count": 0
           },
           {
            "bin_start": 0.7529411764705882,
            "bin_end": 0.7941176470588236,
            "count": 0
           },
           {
            "bin_start": 0.7941176470588236,
            "bin_end": 0.8352941176470589,
            "count": 2
           },
           {
            "bin_start": 0.8352941176470589,
            "bin_end": 0.8764705882352941,
            "count": 0
           },
           {
            "bin_start": 0.8764705882352941,
            "bin_end": 0.9176470588235295,
            "count": 1
           },
           {
            "bin_start": 0.9176470588235295,
            "bin_end": 0.9588235294117647,
            "count": 1
           },
           {
            "bin_start": 0.9588235294117647,
            "bin_end": 1,
            "count": 4
           }
          ]
         }
        },
        {
         "name": "split8_test_score",
         "dtype": "float64",
         "stats": {
          "unique_count": 5,
          "nan_count": 0,
          "min": "0.47058823529411764",
          "max": "0.7647058823529411",
          "histogram": [
           {
            "bin_start": 0.47058823529411764,
            "bin_end": 0.5,
            "count": 2
           },
           {
            "bin_start": 0.5,
            "bin_end": 0.5294117647058824,
            "count": 0
           },
           {
            "bin_start": 0.5294117647058824,
            "bin_end": 0.5588235294117647,
            "count": 4
           },
           {
            "bin_start": 0.5588235294117647,
            "bin_end": 0.5882352941176471,
            "count": 0
           },
           {
            "bin_start": 0.5882352941176471,
            "bin_end": 0.6176470588235294,
            "count": 42
           },
           {
            "bin_start": 0.6176470588235294,
            "bin_end": 0.6470588235294117,
            "count": 0
           },
           {
            "bin_start": 0.6470588235294117,
            "bin_end": 0.676470588235294,
            "count": 0
           },
           {
            "bin_start": 0.676470588235294,
            "bin_end": 0.7058823529411764,
            "count": 0
           },
           {
            "bin_start": 0.7058823529411764,
            "bin_end": 0.7352941176470588,
            "count": 1
           },
           {
            "bin_start": 0.7352941176470588,
            "bin_end": 0.7647058823529411,
            "count": 1
           }
          ]
         }
        },
        {
         "name": "split9_test_score",
         "dtype": "float64",
         "stats": {
          "unique_count": 5,
          "nan_count": 0,
          "min": "0.5625",
          "max": "0.8125",
          "histogram": [
           {
            "bin_start": 0.5625,
            "bin_end": 0.5875,
            "count": 2
           },
           {
            "bin_start": 0.5875,
            "bin_end": 0.6125,
            "count": 0
           },
           {
            "bin_start": 0.6125,
            "bin_end": 0.6375,
            "count": 42
           },
           {
            "bin_start": 0.6375,
            "bin_end": 0.6625,
            "count": 0
           },
           {
            "bin_start": 0.6625,
            "bin_end": 0.6875,
            "count": 0
           },
           {
            "bin_start": 0.6875,
            "bin_end": 0.7125,
            "count": 1
           },
           {
            "bin_start": 0.7125,
            "bin_end": 0.7375,
            "count": 0
           },
           {
            "bin_start": 0.7375,
            "bin_end": 0.7625,
            "count": 2
           },
           {
            "bin_start": 0.7625,
            "bin_end": 0.7875,
            "count": 0
           },
           {
            "bin_start": 0.7875,
            "bin_end": 0.8125,
            "count": 3
           }
          ]
         }
        },
        {
         "name": "mean_test_score",
         "dtype": "float64",
         "stats": {
          "unique_count": 10,
          "nan_count": 0,
          "min": "0.6213235294117647",
          "max": "0.8514705882352942",
          "histogram": [
           {
            "bin_start": 0.6213235294117647,
            "bin_end": 0.6443382352941177,
            "count": 42
           },
           {
            "bin_start": 0.6443382352941177,
            "bin_end": 0.6673529411764706,
            "count": 2
           },
           {
            "bin_start": 0.6673529411764706,
            "bin_end": 0.6903676470588236,
            "count": 0
           },
           {
            "bin_start": 0.6903676470588236,
            "bin_end": 0.7133823529411765,
            "count": 2
           },
           {
            "bin_start": 0.7133823529411765,
            "bin_end": 0.7363970588235295,
            "count": 0
           },
           {
            "bin_start": 0.7363970588235295,
            "bin_end": 0.7594117647058825,
            "count": 1
           },
           {
            "bin_start": 0.7594117647058825,
            "bin_end": 0.7824264705882353,
            "count": 1
           },
           {
            "bin_start": 0.7824264705882353,
            "bin_end": 0.8054411764705883,
            "count": 0
           },
           {
            "bin_start": 0.8054411764705883,
            "bin_end": 0.8284558823529412,
            "count": 1
           },
           {
            "bin_start": 0.8284558823529412,
            "bin_end": 0.8514705882352942,
            "count": 1
           }
          ]
         }
        },
        {
         "name": "std_test_score",
         "dtype": "float64",
         "stats": {
          "unique_count": 10,
          "nan_count": 0,
          "min": "0.02775674424731894",
          "max": "0.1689081182837146",
          "histogram": [
           {
            "bin_start": 0.02775674424731894,
            "bin_end": 0.04187188165095851,
            "count": 42
           },
           {
            "bin_start": 0.04187188165095851,
            "bin_end": 0.055987019054598075,
            "count": 0
           },
           {
            "bin_start": 0.055987019054598075,
            "bin_end": 0.07010215645823764,
            "count": 0
           },
           {
            "bin_start": 0.07010215645823764,
            "bin_end": 0.08421729386187721,
            "count": 0
           },
           {
            "bin_start": 0.08421729386187721,
            "bin_end": 0.09833243126551677,
            "count": 0
           },
           {
            "bin_start": 0.09833243126551677,
            "bin_end": 0.11244756866915634,
            "count": 1
           },
           {
            "bin_start": 0.11244756866915634,
            "bin_end": 0.1265627060727959,
            "count": 1
           },
           {
            "bin_start": 0.1265627060727959,
            "bin_end": 0.14067784347643547,
            "count": 2
           },
           {
            "bin_start": 0.14067784347643547,
            "bin_end": 0.15479298088007504,
            "count": 2
           },
           {
            "bin_start": 0.15479298088007504,
            "bin_end": 0.1689081182837146,
            "count": 2
           }
          ]
         }
        },
        {
         "name": "rank_test_score",
         "dtype": "int32",
         "stats": {
          "unique_count": 10,
          "nan_count": 0,
          "min": "1",
          "max": "11",
          "histogram": [
           {
            "bin_start": 1,
            "bin_end": 2,
            "count": 1
           },
           {
            "bin_start": 2,
            "bin_end": 3,
            "count": 1
           },
           {
            "bin_start": 3,
            "bin_end": 4,
            "count": 1
           },
           {
            "bin_start": 4,
            "bin_end": 5,
            "count": 1
           },
           {
            "bin_start": 5,
            "bin_end": 6,
            "count": 1
           },
           {
            "bin_start": 6,
            "bin_end": 7,
            "count": 1
           },
           {
            "bin_start": 7,
            "bin_end": 8,
            "count": 2
           },
           {
            "bin_start": 8,
            "bin_end": 9,
            "count": 0
           },
           {
            "bin_start": 9,
            "bin_end": 10,
            "count": 1
           },
           {
            "bin_start": 10,
            "bin_end": 11,
            "count": 41
           }
          ]
         }
        },
        {
         "name": "_deepnote_index_column",
         "dtype": "int64"
        }
       ],
       "rows": [
        {
         "mean_fit_time": 0.043419718742370605,
         "std_fit_time": 0.009146045904363397,
         "mean_score_time": 0.000607609748840332,
         "std_score_time": 0.00010655919620035428,
         "param_kernel": "rbf",
         "param_gamma": "0.0095",
         "param_C": "5000",
         "params": "{'kernel': 'rbf', 'gamma': 0.0095, 'C': 5000}",
         "split0_test_score": 0.9411764705882353,
         "split1_test_score": 0.7058823529411765,
         "split2_test_score": 0.7058823529411765,
         "split3_test_score": 0.9411764705882353,
         "split4_test_score": 0.9411764705882353,
         "split5_test_score": 0.8823529411764706,
         "split6_test_score": 0.8823529411764706,
         "split7_test_score": 1,
         "split8_test_score": 0.7647058823529411,
         "split9_test_score": 0.75,
         "mean_test_score": 0.8514705882352942,
         "std_test_score": 0.10407983693659115,
         "rank_test_score": 1,
         "_deepnote_index_column": 61
        },
        {
         "mean_fit_time": 0.04377603530883789,
         "std_fit_time": 0.00867960882715163,
         "mean_score_time": 0.0005731821060180664,
         "std_score_time": 0.0000313711108398896,
         "param_kernel": "rbf",
         "param_gamma": "0.009",
         "param_C": "5000",
         "params": "{'kernel': 'rbf', 'gamma': 0.009, 'C': 5000}",
         "split0_test_score": 0.9411764705882353,
         "split1_test_score": 0.6470588235294118,
         "split2_test_score": 0.6470588235294118,
         "split3_test_score": 0.9411764705882353,
         "split4_test_score": 0.9411764705882353,
         "split5_test_score": 0.8235294117647058,
         "split6_test_score": 0.8823529411764706,
         "split7_test_score": 1,
         "split8_test_score": 0.7058823529411765,
         "split9_test_score": 0.75,
         "mean_test_score": 0.8279411764705884,
         "std_test_score": 0.12548349399995198,
         "rank_test_score": 2,
         "_deepnote_index_column": 89
        },
        {
         "mean_fit_time": 0.03564662933349609,
         "std_fit_time": 0.012015692095283227,
         "mean_score_time": 0.0005717277526855469,
         "std_score_time": 0.00009315383375097639,
         "param_kernel": "rbf",
         "param_gamma": "0.009",
         "param_C": "4300",
         "params": "{'kernel': 'rbf', 'gamma': 0.009, 'C': 4300}",
         "split0_test_score": 0.9411764705882353,
         "split1_test_score": 0.5882352941176471,
         "split2_test_score": 0.5882352941176471,
         "split3_test_score": 0.8235294117647058,
         "split4_test_score": 0.9411764705882353,
         "split5_test_score": 0.7647058823529411,
         "split6_test_score": 0.8235294117647058,
         "split7_test_score": 1,
         "split8_test_score": 0.5294117647058824,
         "split9_test_score": 0.6875,
         "mean_test_score": 0.76875,
         "std_test_score": 0.15748388243450057,
         "rank_test_score": 3,
         "_deepnote_index_column": 100
        },
        {
         "mean_fit_time": 0.03587996959686279,
         "std_fit_time": 0.010841843668024879,
         "mean_score_time": 0.0006316900253295898,
         "std_score_time": 0.00012755831817884474,
         "param_kernel": "rbf",
         "param_gamma": "0.009",
         "param_C": "4000",
         "params": "{'kernel': 'rbf', 'gamma': 0.009, 'C': 4000}",
         "split0_test_score": 0.9411764705882353,
         "split1_test_score": 0.5882352941176471,
         "split2_test_score": 0.5294117647058824,
         "split3_test_score": 0.8235294117647058,
         "split4_test_score": 0.9411764705882353,
         "split5_test_score": 0.7647058823529411,
         "split6_test_score": 0.8235294117647058,
         "split7_test_score": 1,
         "split8_test_score": 0.5294117647058824,
         "split9_test_score": 0.625,
         "mean_test_score": 0.7566176470588235,
         "std_test_score": 0.1689081182837146,
         "rank_test_score": 4,
         "_deepnote_index_column": 68
        },
        {
         "mean_fit_time": 0.004094457626342774,
         "std_fit_time": 0.00042105246504964473,
         "mean_score_time": 0.00047867298126220704,
         "std_score_time": 0.00008167776865693834,
         "param_kernel": "rbf",
         "param_gamma": "0.1",
         "param_C": "1000",
         "params": "{'kernel': 'rbf', 'gamma': 0.1, 'C': 1000}",
         "split0_test_score": 0.8235294117647058,
         "split1_test_score": 0.47058823529411764,
         "split2_test_score": 0.5882352941176471,
         "split3_test_score": 0.7647058823529411,
         "split4_test_score": 0.8823529411764706,
         "split5_test_score": 0.6470588235294118,
         "split6_test_score": 0.7058823529411765,
         "split7_test_score": 0.8823529411764706,
         "split8_test_score": 0.5294117647058824,
         "split9_test_score": 0.8125,
         "mean_test_score": 0.7106617647058824,
         "std_test_score": 0.13947397547800858,
         "rank_test_score": 5,
         "_deepnote_index_column": 116
        },
        {
         "mean_fit_time": 0.014695096015930175,
         "std_fit_time": 0.00260795772356762,
         "mean_score_time": 0.00046880245208740233,
         "std_score_time": 0.00003237774340112328,
         "param_kernel": "rbf",
         "param_gamma": "0.01",
         "param_C": "2000",
         "params": "{'kernel': 'rbf', 'gamma': 0.01, 'C': 2000}",
         "split0_test_score": 0.8823529411764706,
         "split1_test_score": 0.5294117647058824,
         "split2_test_score": 0.5882352941176471,
         "split3_test_score": 0.7647058823529411,
         "split4_test_score": 0.7647058823529411,
         "split5_test_score": 0.7058823529411765,
         "split6_test_score": 0.7058823529411765,
         "split7_test_score": 0.9411764705882353,
         "split8_test_score": 0.5294117647058824,
         "split9_test_score": 0.625,
         "mean_test_score": 0.7036764705882353,
         "std_test_score": 0.1326813735450954,
         "rank_test_score": 6,
         "_deepnote_index_column": 56
        },
        {
         "mean_fit_time": 0.0027895450592041017,
         "std_fit_time": 0.00009239012498222725,
         "mean_score_time": 0.0004536628723144531,
         "std_score_time": 0.00002630369654541408,
         "param_kernel": "rbf",
         "param_gamma": "0.2",
         "param_C": "1000",
         "params": "{'kernel': 'rbf', 'gamma': 0.2, 'C': 1000}",
         "split0_test_score": 0.8235294117647058,
         "split1_test_score": 0.47058823529411764,
         "split2_test_score": 0.47058823529411764,
         "split3_test_score": 0.6470588235294118,
         "split4_test_score": 0.7647058823529411,
         "split5_test_score": 0.5882352941176471,
         "split6_test_score": 0.5882352941176471,
         "split7_test_score": 0.8235294117647058,
         "split8_test_score": 0.47058823529411764,
         "split9_test_score": 0.8125,
         "mean_test_score": 0.6459558823529411,
         "std_test_score": 0.142768766302325,
         "rank_test_score": 7,
         "_deepnote_index_column": 47
        },
        {
         "mean_fit_time": 0.002819061279296875,
         "std_fit_time": 0.00014398875525828143,
         "mean_score_time": 0.00047283172607421876,
         "std_score_time": 0.00004807771981006764,
         "param_kernel": "rbf",
         "param_gamma": "0.2",
         "param_C": "4400",
         "params": "{'kernel': 'rbf', 'gamma': 0.2, 'C': 4400}",
         "split0_test_score": 0.8235294117647058,
         "split1_test_score": 0.47058823529411764,
         "split2_test_score": 0.47058823529411764,
         "split3_test_score": 0.6470588235294118,
         "split4_test_score": 0.7647058823529411,
         "split5_test_score": 0.5882352941176471,
         "split6_test_score": 0.5882352941176471,
         "split7_test_score": 0.8235294117647058,
         "split8_test_score": 0.47058823529411764,
         "split9_test_score": 0.8125,
         "mean_test_score": 0.6459558823529411,
         "std_test_score": 0.142768766302325,
         "rank_test_score": 7,
         "_deepnote_index_column": 10
        },
        {
         "mean_fit_time": 0.0015804290771484375,
         "std_fit_time": 0.00002158729818128989,
         "mean_score_time": 0.0005196094512939453,
         "std_score_time": 0.000011805548191409135,
         "param_kernel": "rbf",
         "param_gamma": "0.2",
         "param_C": "0.6",
         "params": "{'kernel': 'rbf', 'gamma': 0.2, 'C': 0.6}",
         "split0_test_score": 0.6470588235294118,
         "split1_test_score": 0.7058823529411765,
         "split2_test_score": 0.6470588235294118,
         "split3_test_score": 0.6470588235294118,
         "split4_test_score": 0.6470588235294118,
         "split5_test_score": 0.5882352941176471,
         "split6_test_score": 0.6470588235294118,
         "split7_test_score": 0.6470588235294118,
         "split8_test_score": 0.5882352941176471,
         "split9_test_score": 0.5625,
         "mean_test_score": 0.6327205882352941,
         "std_test_score": 0.03933823529411766,
         "rank_test_score": 9,
         "_deepnote_index_column": 79
        },
        {
         "mean_fit_time": 0.001692056655883789,
         "std_fit_time": 0.00004273322989144132,
         "mean_score_time": 0.0005186796188354492,
         "std_score_time": 0.00002915153433594916,
         "param_kernel": "rbf",
         "param_gamma": "scale",
         "param_C": "0.6",
         "params": "{'kernel': 'rbf', 'gamma': 'scale', 'C': 0.6}",
         "split0_test_score": 0.6470588235294118,
         "split1_test_score": 0.7058823529411765,
         "split2_test_score": 0.6470588235294118,
         "split3_test_score": 0.6470588235294118,
         "split4_test_score": 0.6470588235294118,
         "split5_test_score": 0.5882352941176471,
         "split6_test_score": 0.5882352941176471,
         "split7_test_score": 0.6470588235294118,
         "split8_test_score": 0.5882352941176471,
         "split9_test_score": 0.5625,
         "mean_test_score": 0.6268382352941176,
         "std_test_score": 0.04111241077909693,
         "rank_test_score": 10,
         "_deepnote_index_column": 72
        }
       ]
      },
      "text/plain": "     mean_fit_time  std_fit_time  mean_score_time  std_score_time  \\\n61        0.043420      0.009146         0.000608        0.000107   \n89        0.043776      0.008680         0.000573        0.000031   \n100       0.035647      0.012016         0.000572        0.000093   \n68        0.035880      0.010842         0.000632        0.000128   \n116       0.004094      0.000421         0.000479        0.000082   \n56        0.014695      0.002608         0.000469        0.000032   \n47        0.002790      0.000092         0.000454        0.000026   \n10        0.002819      0.000144         0.000473        0.000048   \n79        0.001580      0.000022         0.000520        0.000012   \n72        0.001692      0.000043         0.000519        0.000029   \n128       0.001828      0.000408         0.000564        0.000122   \n43        0.001238      0.000052         0.000456        0.000031   \n46        0.001839      0.000047         0.000542        0.000030   \n115       0.001500      0.000021         0.000475        0.000029   \n50        0.002154      0.000364         0.000697        0.000147   \n119       0.001269      0.000019         0.000484        0.000013   \n54        0.001261      0.000048         0.000463        0.000050   \n55        0.001519      0.000044         0.000474        0.000037   \n127       0.001553      0.000058         0.000472        0.000016   \n98        0.001510      0.000033         0.000461        0.000006   \n74        0.001453      0.000091         0.000572        0.000073   \n131       0.001607      0.000064         0.000536        0.000059   \n69        0.001688      0.000045         0.000521        0.000012   \n111       0.001593      0.000037         0.000539        0.000058   \n71        0.001330      0.000217         0.000504        0.000098   \n73        0.001723      0.000150         0.000552        0.000042   \n75        0.001818      0.000517         0.000530        0.000116   \n109       0.001110      0.000077         0.000418        0.000016   \n103       0.001532      0.000039         0.000471        0.000015   \n85        0.001109      0.000045         0.000420        0.000013   \n87        0.001441      0.000183         0.000572        0.000097   \n90        0.001590      0.000075         0.000488        0.000032   \n92        0.001670      0.000080         0.000539        0.000025   \n64        0.001168      0.000038         0.000408        0.000005   \n35        0.001488      0.000024         0.000464        0.000012   \n124       0.001582      0.000055         0.000507        0.000018   \n8         0.001878      0.000323         0.000550        0.000104   \n17        0.001112      0.000074         0.000419        0.000023   \n20        0.001691      0.000313         0.000539        0.000089   \n16        0.001149      0.000073         0.000437        0.000031   \n21        0.002093      0.000473         0.000597        0.000139   \n14        0.001432      0.000321         0.000524        0.000094   \n1         0.001602      0.000362         0.000645        0.000139   \n139       0.001556      0.000051         0.000463        0.000009   \n11        0.001275      0.000230         0.000500        0.000093   \n138       0.001223      0.000071         0.000473        0.000006   \n145       0.001255      0.000046         0.000484        0.000018   \n27        0.001637      0.000056         0.000497        0.000016   \n143       0.001640      0.000286         0.000529        0.000038   \n29        0.001542      0.000044         0.000472        0.000026   \n\n    param_kernel param_gamma param_C  \\\n61           rbf      0.0095    5000   \n89           rbf       0.009    5000   \n100          rbf       0.009    4300   \n68           rbf       0.009    4000   \n116          rbf         0.1    1000   \n56           rbf        0.01    2000   \n47           rbf         0.2    1000   \n10           rbf         0.2    4400   \n79           rbf         0.2     0.6   \n72           rbf       scale     0.6   \n128      sigmoid       0.009     0.5   \n43           rbf     0.00001       1   \n46           rbf           1     0.5   \n115      sigmoid        0.01     0.4   \n50           rbf        0.25     0.4   \n119          rbf       0.001     0.5   \n54           rbf     0.00001     0.2   \n55       sigmoid       0.009     0.8   \n127      sigmoid      0.0001     500   \n98       sigmoid        0.01     0.8   \n74           rbf       0.001     0.4   \n131      sigmoid       0.001      10   \n69           rbf        0.15     0.2   \n111          rbf         0.2     0.2   \n71           rbf     0.00001     0.6   \n73           rbf        0.25     0.2   \n75       sigmoid       0.001     0.6   \n109       linear         0.2     0.1   \n103      sigmoid        0.01     0.5   \n85        linear       0.001     0.2   \n87           rbf      0.0001     0.8   \n90       sigmoid      0.0001    1000   \n92           rbf        0.15     0.3   \n64        linear       scale     0.2   \n35       sigmoid      0.0001      10   \n124          rbf      0.0095     0.9   \n8            rbf           1     0.8   \n17        linear         0.2     0.2   \n20           rbf      0.0095     0.5   \n16        linear      0.0001     0.2   \n21       sigmoid     0.00001    5000   \n14        linear        0.15     0.2   \n1            rbf       0.001       2   \n139      sigmoid     0.00001    4000   \n11           rbf     0.00001       2   \n138          rbf     0.00001     0.7   \n145          rbf       0.001     0.1   \n27           rbf       0.009       2   \n143          rbf       0.009     0.5   \n29       sigmoid      0.0095     0.8   \n\n                                                params  split0_test_score  \\\n61       {'kernel': 'rbf', 'gamma': 0.0095, 'C': 5000}           0.941176   \n89        {'kernel': 'rbf', 'gamma': 0.009, 'C': 5000}           0.941176   \n100       {'kernel': 'rbf', 'gamma': 0.009, 'C': 4300}           0.941176   \n68        {'kernel': 'rbf', 'gamma': 0.009, 'C': 4000}           0.941176   \n116         {'kernel': 'rbf', 'gamma': 0.1, 'C': 1000}           0.823529   \n56         {'kernel': 'rbf', 'gamma': 0.01, 'C': 2000}           0.882353   \n47          {'kernel': 'rbf', 'gamma': 0.2, 'C': 1000}           0.823529   \n10          {'kernel': 'rbf', 'gamma': 0.2, 'C': 4400}           0.823529   \n79           {'kernel': 'rbf', 'gamma': 0.2, 'C': 0.6}           0.647059   \n72       {'kernel': 'rbf', 'gamma': 'scale', 'C': 0.6}           0.647059   \n128    {'kernel': 'sigmoid', 'gamma': 0.009, 'C': 0.5}           0.647059   \n43           {'kernel': 'rbf', 'gamma': 1e-05, 'C': 1}           0.647059   \n46             {'kernel': 'rbf', 'gamma': 1, 'C': 0.5}           0.647059   \n115     {'kernel': 'sigmoid', 'gamma': 0.01, 'C': 0.4}           0.647059   \n50          {'kernel': 'rbf', 'gamma': 0.25, 'C': 0.4}           0.647059   \n119        {'kernel': 'rbf', 'gamma': 0.001, 'C': 0.5}           0.647059   \n54         {'kernel': 'rbf', 'gamma': 1e-05, 'C': 0.2}           0.647059   \n55     {'kernel': 'sigmoid', 'gamma': 0.009, 'C': 0.8}           0.647059   \n127   {'kernel': 'sigmoid', 'gamma': 0.0001, 'C': 500}           0.647059   \n98      {'kernel': 'sigmoid', 'gamma': 0.01, 'C': 0.8}           0.647059   \n74         {'kernel': 'rbf', 'gamma': 0.001, 'C': 0.4}           0.647059   \n131     {'kernel': 'sigmoid', 'gamma': 0.001, 'C': 10}           0.647059   \n69          {'kernel': 'rbf', 'gamma': 0.15, 'C': 0.2}           0.647059   \n111          {'kernel': 'rbf', 'gamma': 0.2, 'C': 0.2}           0.647059   \n71         {'kernel': 'rbf', 'gamma': 1e-05, 'C': 0.6}           0.647059   \n73          {'kernel': 'rbf', 'gamma': 0.25, 'C': 0.2}           0.647059   \n75     {'kernel': 'sigmoid', 'gamma': 0.001, 'C': 0.6}           0.647059   \n109       {'kernel': 'linear', 'gamma': 0.2, 'C': 0.1}           0.647059   \n103     {'kernel': 'sigmoid', 'gamma': 0.01, 'C': 0.5}           0.647059   \n85      {'kernel': 'linear', 'gamma': 0.001, 'C': 0.2}           0.647059   \n87        {'kernel': 'rbf', 'gamma': 0.0001, 'C': 0.8}           0.647059   \n90   {'kernel': 'sigmoid', 'gamma': 0.0001, 'C': 1000}           0.647059   \n92          {'kernel': 'rbf', 'gamma': 0.15, 'C': 0.3}           0.647059   \n64    {'kernel': 'linear', 'gamma': 'scale', 'C': 0.2}           0.647059   \n35     {'kernel': 'sigmoid', 'gamma': 0.0001, 'C': 10}           0.647059   \n124       {'kernel': 'rbf', 'gamma': 0.0095, 'C': 0.9}           0.647059   \n8              {'kernel': 'rbf', 'gamma': 1, 'C': 0.8}           0.647059   \n17        {'kernel': 'linear', 'gamma': 0.2, 'C': 0.2}           0.647059   \n20        {'kernel': 'rbf', 'gamma': 0.0095, 'C': 0.5}           0.647059   \n16     {'kernel': 'linear', 'gamma': 0.0001, 'C': 0.2}           0.647059   \n21    {'kernel': 'sigmoid', 'gamma': 1e-05, 'C': 5000}           0.647059   \n14       {'kernel': 'linear', 'gamma': 0.15, 'C': 0.2}           0.647059   \n1            {'kernel': 'rbf', 'gamma': 0.001, 'C': 2}           0.647059   \n139   {'kernel': 'sigmoid', 'gamma': 1e-05, 'C': 4000}           0.647059   \n11           {'kernel': 'rbf', 'gamma': 1e-05, 'C': 2}           0.647059   \n138        {'kernel': 'rbf', 'gamma': 1e-05, 'C': 0.7}           0.647059   \n145        {'kernel': 'rbf', 'gamma': 0.001, 'C': 0.1}           0.647059   \n27           {'kernel': 'rbf', 'gamma': 0.009, 'C': 2}           0.647059   \n143        {'kernel': 'rbf', 'gamma': 0.009, 'C': 0.5}           0.647059   \n29    {'kernel': 'sigmoid', 'gamma': 0.0095, 'C': 0.8}           0.647059   \n\n     split1_test_score  ...  split3_test_score  split4_test_score  \\\n61            0.705882  ...           0.941176           0.941176   \n89            0.647059  ...           0.941176           0.941176   \n100           0.588235  ...           0.823529           0.941176   \n68            0.588235  ...           0.823529           0.941176   \n116           0.470588  ...           0.764706           0.882353   \n56            0.529412  ...           0.764706           0.764706   \n47            0.470588  ...           0.647059           0.764706   \n10            0.470588  ...           0.647059           0.764706   \n79            0.705882  ...           0.647059           0.647059   \n72            0.705882  ...           0.647059           0.647059   \n128           0.647059  ...           0.647059           0.647059   \n43            0.647059  ...           0.647059           0.647059   \n46            0.647059  ...           0.647059           0.647059   \n115           0.647059  ...           0.647059           0.647059   \n50            0.647059  ...           0.647059           0.647059   \n119           0.647059  ...           0.647059           0.647059   \n54            0.647059  ...           0.647059           0.647059   \n55            0.647059  ...           0.647059           0.647059   \n127           0.647059  ...           0.647059           0.647059   \n98            0.647059  ...           0.647059           0.647059   \n74            0.647059  ...           0.647059           0.647059   \n131           0.647059  ...           0.647059           0.647059   \n69            0.647059  ...           0.647059           0.647059   \n111           0.647059  ...           0.647059           0.647059   \n71            0.647059  ...           0.647059           0.647059   \n73            0.647059  ...           0.647059           0.647059   \n75            0.647059  ...           0.647059           0.647059   \n109           0.647059  ...           0.647059           0.647059   \n103           0.647059  ...           0.647059           0.647059   \n85            0.647059  ...           0.647059           0.647059   \n87            0.647059  ...           0.647059           0.647059   \n90            0.647059  ...           0.647059           0.647059   \n92            0.647059  ...           0.647059           0.647059   \n64            0.647059  ...           0.647059           0.647059   \n35            0.647059  ...           0.647059           0.647059   \n124           0.647059  ...           0.647059           0.647059   \n8             0.647059  ...           0.647059           0.647059   \n17            0.647059  ...           0.647059           0.647059   \n20            0.647059  ...           0.647059           0.647059   \n16            0.647059  ...           0.647059           0.647059   \n21            0.647059  ...           0.647059           0.647059   \n14            0.647059  ...           0.647059           0.647059   \n1             0.647059  ...           0.647059           0.647059   \n139           0.647059  ...           0.647059           0.647059   \n11            0.647059  ...           0.647059           0.647059   \n138           0.647059  ...           0.647059           0.647059   \n145           0.647059  ...           0.647059           0.647059   \n27            0.647059  ...           0.647059           0.647059   \n143           0.647059  ...           0.647059           0.647059   \n29            0.647059  ...           0.647059           0.647059   \n\n     split5_test_score  split6_test_score  split7_test_score  \\\n61            0.882353           0.882353           1.000000   \n89            0.823529           0.882353           1.000000   \n100           0.764706           0.823529           1.000000   \n68            0.764706           0.823529           1.000000   \n116           0.647059           0.705882           0.882353   \n56            0.705882           0.705882           0.941176   \n47            0.588235           0.588235           0.823529   \n10            0.588235           0.588235           0.823529   \n79            0.588235           0.647059           0.647059   \n72            0.588235           0.588235           0.647059   \n128           0.588235           0.588235           0.588235   \n43            0.588235           0.588235           0.588235   \n46            0.588235           0.588235           0.588235   \n115           0.588235           0.588235           0.588235   \n50            0.588235           0.588235           0.588235   \n119           0.588235           0.588235           0.588235   \n54            0.588235           0.588235           0.588235   \n55            0.588235           0.588235           0.588235   \n127           0.588235           0.588235           0.588235   \n98            0.588235           0.588235           0.588235   \n74            0.588235           0.588235           0.588235   \n131           0.588235           0.588235           0.588235   \n69            0.588235           0.588235           0.588235   \n111           0.588235           0.588235           0.588235   \n71            0.588235           0.588235           0.588235   \n73            0.588235           0.588235           0.588235   \n75            0.588235           0.588235           0.588235   \n109           0.588235           0.588235           0.588235   \n103           0.588235           0.588235           0.588235   \n85            0.588235           0.588235           0.588235   \n87            0.588235           0.588235           0.588235   \n90            0.588235           0.588235           0.588235   \n92            0.588235           0.588235           0.588235   \n64            0.588235           0.588235           0.588235   \n35            0.588235           0.588235           0.588235   \n124           0.588235           0.588235           0.588235   \n8             0.588235           0.588235           0.588235   \n17            0.588235           0.588235           0.588235   \n20            0.588235           0.588235           0.588235   \n16            0.588235           0.588235           0.588235   \n21            0.588235           0.588235           0.588235   \n14            0.588235           0.588235           0.588235   \n1             0.588235           0.588235           0.588235   \n139           0.588235           0.588235           0.588235   \n11            0.588235           0.588235           0.588235   \n138           0.588235           0.588235           0.588235   \n145           0.588235           0.588235           0.588235   \n27            0.588235           0.588235           0.588235   \n143           0.588235           0.588235           0.588235   \n29            0.588235           0.588235           0.588235   \n\n     split8_test_score  split9_test_score  mean_test_score  std_test_score  \\\n61            0.764706             0.7500         0.851471        0.104080   \n89            0.705882             0.7500         0.827941        0.125483   \n100           0.529412             0.6875         0.768750        0.157484   \n68            0.529412             0.6250         0.756618        0.168908   \n116           0.529412             0.8125         0.710662        0.139474   \n56            0.529412             0.6250         0.703676        0.132681   \n47            0.470588             0.8125         0.645956        0.142769   \n10            0.470588             0.8125         0.645956        0.142769   \n79            0.588235             0.5625         0.632721        0.039338   \n72            0.588235             0.5625         0.626838        0.041112   \n128           0.588235             0.6250         0.621324        0.027757   \n43            0.588235             0.6250         0.621324        0.027757   \n46            0.588235             0.6250         0.621324        0.027757   \n115           0.588235             0.6250         0.621324        0.027757   \n50            0.588235             0.6250         0.621324        0.027757   \n119           0.588235             0.6250         0.621324        0.027757   \n54            0.588235             0.6250         0.621324        0.027757   \n55            0.588235             0.6250         0.621324        0.027757   \n127           0.588235             0.6250         0.621324        0.027757   \n98            0.588235             0.6250         0.621324        0.027757   \n74            0.588235             0.6250         0.621324        0.027757   \n131           0.588235             0.6250         0.621324        0.027757   \n69            0.588235             0.6250         0.621324        0.027757   \n111           0.588235             0.6250         0.621324        0.027757   \n71            0.588235             0.6250         0.621324        0.027757   \n73            0.588235             0.6250         0.621324        0.027757   \n75            0.588235             0.6250         0.621324        0.027757   \n109           0.588235             0.6250         0.621324        0.027757   \n103           0.588235             0.6250         0.621324        0.027757   \n85            0.588235             0.6250         0.621324        0.027757   \n87            0.588235             0.6250         0.621324        0.027757   \n90            0.588235             0.6250         0.621324        0.027757   \n92            0.588235             0.6250         0.621324        0.027757   \n64            0.588235             0.6250         0.621324        0.027757   \n35            0.588235             0.6250         0.621324        0.027757   \n124           0.588235             0.6250         0.621324        0.027757   \n8             0.588235             0.6250         0.621324        0.027757   \n17            0.588235             0.6250         0.621324        0.027757   \n20            0.588235             0.6250         0.621324        0.027757   \n16            0.588235             0.6250         0.621324        0.027757   \n21            0.588235             0.6250         0.621324        0.027757   \n14            0.588235             0.6250         0.621324        0.027757   \n1             0.588235             0.6250         0.621324        0.027757   \n139           0.588235             0.6250         0.621324        0.027757   \n11            0.588235             0.6250         0.621324        0.027757   \n138           0.588235             0.6250         0.621324        0.027757   \n145           0.588235             0.6250         0.621324        0.027757   \n27            0.588235             0.6250         0.621324        0.027757   \n143           0.588235             0.6250         0.621324        0.027757   \n29            0.588235             0.6250         0.621324        0.027757   \n\n     rank_test_score  \n61                 1  \n89                 2  \n100                3  \n68                 4  \n116                5  \n56                 6  \n47                 7  \n10                 7  \n79                 9  \n72                10  \n128               11  \n43                11  \n46                11  \n115               11  \n50                11  \n119               11  \n54                11  \n55                11  \n127               11  \n98                11  \n74                11  \n131               11  \n69                11  \n111               11  \n71                11  \n73                11  \n75                11  \n109               11  \n103               11  \n85                11  \n87                11  \n90                11  \n92                11  \n64                11  \n35                11  \n124               11  \n8                 11  \n17                11  \n20                11  \n16                11  \n21                11  \n14                11  \n1                 11  \n139               11  \n11                11  \n138               11  \n145               11  \n27                11  \n143               11  \n29                11  \n\n[50 rows x 21 columns]",
      "text/html": "<div>\n<style scoped>\n    .dataframe tbody tr th:only-of-type {\n        vertical-align: middle;\n    }\n\n    .dataframe tbody tr th {\n        vertical-align: top;\n    }\n\n    .dataframe thead th {\n        text-align: right;\n    }\n</style>\n<table border=\"1\" class=\"dataframe\">\n  <thead>\n    <tr style=\"text-align: right;\">\n      <th></th>\n      <th>mean_fit_time</th>\n      <th>std_fit_time</th>\n      <th>mean_score_time</th>\n      <th>std_score_time</th>\n      <th>param_kernel</th>\n      <th>param_gamma</th>\n      <th>param_C</th>\n      <th>params</th>\n      <th>split0_test_score</th>\n      <th>split1_test_score</th>\n      <th>...</th>\n      <th>split3_test_score</th>\n      <th>split4_test_score</th>\n      <th>split5_test_score</th>\n      <th>split6_test_score</th>\n      <th>split7_test_score</th>\n      <th>split8_test_score</th>\n      <th>split9_test_score</th>\n      <th>mean_test_score</th>\n      <th>std_test_score</th>\n      <th>rank_test_score</th>\n    </tr>\n  </thead>\n  <tbody>\n    <tr>\n      <th>61</th>\n      <td>0.043420</td>\n      <td>0.009146</td>\n      <td>0.000608</td>\n      <td>0.000107</td>\n      <td>rbf</td>\n      <td>0.0095</td>\n      <td>5000</td>\n      <td>{'kernel': 'rbf', 'gamma': 0.0095, 'C': 5000}</td>\n      <td>0.941176</td>\n      <td>0.705882</td>\n      <td>...</td>\n      <td>0.941176</td>\n      <td>0.941176</td>\n      <td>0.882353</td>\n      <td>0.882353</td>\n      <td>1.000000</td>\n      <td>0.764706</td>\n      <td>0.7500</td>\n      <td>0.851471</td>\n      <td>0.104080</td>\n      <td>1</td>\n    </tr>\n    <tr>\n      <th>89</th>\n      <td>0.043776</td>\n      <td>0.008680</td>\n      <td>0.000573</td>\n      <td>0.000031</td>\n      <td>rbf</td>\n      <td>0.009</td>\n      <td>5000</td>\n      <td>{'kernel': 'rbf', 'gamma': 0.009, 'C': 5000}</td>\n      <td>0.941176</td>\n      <td>0.647059</td>\n      <td>...</td>\n      <td>0.941176</td>\n      <td>0.941176</td>\n      <td>0.823529</td>\n      <td>0.882353</td>\n      <td>1.000000</td>\n      <td>0.705882</td>\n      <td>0.7500</td>\n      <td>0.827941</td>\n      <td>0.125483</td>\n      <td>2</td>\n    </tr>\n    <tr>\n      <th>100</th>\n      <td>0.035647</td>\n      <td>0.012016</td>\n      <td>0.000572</td>\n      <td>0.000093</td>\n      <td>rbf</td>\n      <td>0.009</td>\n      <td>4300</td>\n      <td>{'kernel': 'rbf', 'gamma': 0.009, 'C': 4300}</td>\n      <td>0.941176</td>\n      <td>0.588235</td>\n      <td>...</td>\n      <td>0.823529</td>\n      <td>0.941176</td>\n      <td>0.764706</td>\n      <td>0.823529</td>\n      <td>1.000000</td>\n      <td>0.529412</td>\n      <td>0.6875</td>\n      <td>0.768750</td>\n      <td>0.157484</td>\n      <td>3</td>\n    </tr>\n    <tr>\n      <th>68</th>\n      <td>0.035880</td>\n      <td>0.010842</td>\n      <td>0.000632</td>\n      <td>0.000128</td>\n      <td>rbf</td>\n      <td>0.009</td>\n      <td>4000</td>\n      <td>{'kernel': 'rbf', 'gamma': 0.009, 'C': 4000}</td>\n      <td>0.941176</td>\n      <td>0.588235</td>\n      <td>...</td>\n      <td>0.823529</td>\n      <td>0.941176</td>\n      <td>0.764706</td>\n      <td>0.823529</td>\n      <td>1.000000</td>\n      <td>0.529412</td>\n      <td>0.6250</td>\n      <td>0.756618</td>\n      <td>0.168908</td>\n      <td>4</td>\n    </tr>\n    <tr>\n      <th>116</th>\n      <td>0.004094</td>\n      <td>0.000421</td>\n      <td>0.000479</td>\n      <td>0.000082</td>\n      <td>rbf</td>\n      <td>0.1</td>\n      <td>1000</td>\n      <td>{'kernel': 'rbf', 'gamma': 0.1, 'C': 1000}</td>\n      <td>0.823529</td>\n      <td>0.470588</td>\n      <td>...</td>\n      <td>0.764706</td>\n      <td>0.882353</td>\n      <td>0.647059</td>\n      <td>0.705882</td>\n      <td>0.882353</td>\n      <td>0.529412</td>\n      <td>0.8125</td>\n      <td>0.710662</td>\n      <td>0.139474</td>\n      <td>5</td>\n    </tr>\n    <tr>\n      <th>56</th>\n      <td>0.014695</td>\n      <td>0.002608</td>\n      <td>0.000469</td>\n      <td>0.000032</td>\n      <td>rbf</td>\n      <td>0.01</td>\n      <td>2000</td>\n      <td>{'kernel': 'rbf', 'gamma': 0.01, 'C': 2000}</td>\n      <td>0.882353</td>\n      <td>0.529412</td>\n      <td>...</td>\n      <td>0.764706</td>\n      <td>0.764706</td>\n      <td>0.705882</td>\n      <td>0.705882</td>\n      <td>0.941176</td>\n      <td>0.529412</td>\n      <td>0.6250</td>\n      <td>0.703676</td>\n      <td>0.132681</td>\n      <td>6</td>\n    </tr>\n    <tr>\n      <th>47</th>\n      <td>0.002790</td>\n      <td>0.000092</td>\n      <td>0.000454</td>\n      <td>0.000026</td>\n      <td>rbf</td>\n      <td>0.2</td>\n      <td>1000</td>\n      <td>{'kernel': 'rbf', 'gamma': 0.2, 'C': 1000}</td>\n      <td>0.823529</td>\n      <td>0.470588</td>\n      <td>...</td>\n      <td>0.647059</td>\n      <td>0.764706</td>\n      <td>0.588235</td>\n      <td>0.588235</td>\n      <td>0.823529</td>\n      <td>0.470588</td>\n      <td>0.8125</td>\n      <td>0.645956</td>\n      <td>0.142769</td>\n      <td>7</td>\n    </tr>\n    <tr>\n      <th>10</th>\n      <td>0.002819</td>\n      <td>0.000144</td>\n      <td>0.000473</td>\n      <td>0.000048</td>\n      <td>rbf</td>\n      <td>0.2</td>\n      <td>4400</td>\n      <td>{'kernel': 'rbf', 'gamma': 0.2, 'C': 4400}</td>\n      <td>0.823529</td>\n      <td>0.470588</td>\n      <td>...</td>\n      <td>0.647059</td>\n      <td>0.764706</td>\n      <td>0.588235</td>\n      <td>0.588235</td>\n      <td>0.823529</td>\n      <td>0.470588</td>\n      <td>0.8125</td>\n      <td>0.645956</td>\n      <td>0.142769</td>\n      <td>7</td>\n    </tr>\n    <tr>\n      <th>79</th>\n      <td>0.001580</td>\n      <td>0.000022</td>\n      <td>0.000520</td>\n      <td>0.000012</td>\n      <td>rbf</td>\n      <td>0.2</td>\n      <td>0.6</td>\n      <td>{'kernel': 'rbf', 'gamma': 0.2, 'C': 0.6}</td>\n      <td>0.647059</td>\n      <td>0.705882</td>\n      <td>...</td>\n      <td>0.647059</td>\n      <td>0.647059</td>\n      <td>0.588235</td>\n      <td>0.647059</td>\n      <td>0.647059</td>\n      <td>0.588235</td>\n      <td>0.5625</td>\n      <td>0.632721</td>\n      <td>0.039338</td>\n      <td>9</td>\n    </tr>\n    <tr>\n      <th>72</th>\n      <td>0.001692</td>\n      <td>0.000043</td>\n      <td>0.000519</td>\n      <td>0.000029</td>\n      <td>rbf</td>\n      <td>scale</td>\n      <td>0.6</td>\n      <td>{'kernel': 'rbf', 'gamma': 'scale', 'C': 0.6}</td>\n      <td>0.647059</td>\n      <td>0.705882</td>\n      <td>...</td>\n      <td>0.647059</td>\n      <td>0.647059</td>\n      <td>0.588235</td>\n      <td>0.588235</td>\n      <td>0.647059</td>\n      <td>0.588235</td>\n      <td>0.5625</td>\n      <td>0.626838</td>\n      <td>0.041112</td>\n      <td>10</td>\n    </tr>\n    <tr>\n      <th>128</th>\n      <td>0.001828</td>\n      <td>0.000408</td>\n      <td>0.000564</td>\n      <td>0.000122</td>\n      <td>sigmoid</td>\n      <td>0.009</td>\n      <td>0.5</td>\n      <td>{'kernel': 'sigmoid', 'gamma': 0.009, 'C': 0.5}</td>\n      <td>0.647059</td>\n      <td>0.647059</td>\n      <td>...</td>\n      <td>0.647059</td>\n      <td>0.647059</td>\n      <td>0.588235</td>\n      <td>0.588235</td>\n      <td>0.588235</td>\n      <td>0.588235</td>\n      <td>0.6250</td>\n      <td>0.621324</td>\n      <td>0.027757</td>\n      <td>11</td>\n    </tr>\n    <tr>\n      <th>43</th>\n      <td>0.001238</td>\n      <td>0.000052</td>\n      <td>0.000456</td>\n      <td>0.000031</td>\n      <td>rbf</td>\n      <td>0.00001</td>\n      <td>1</td>\n      <td>{'kernel': 'rbf', 'gamma': 1e-05, 'C': 1}</td>\n      <td>0.647059</td>\n      <td>0.647059</td>\n      <td>...</td>\n      <td>0.647059</td>\n      <td>0.647059</td>\n      <td>0.588235</td>\n      <td>0.588235</td>\n      <td>0.588235</td>\n      <td>0.588235</td>\n      <td>0.6250</td>\n      <td>0.621324</td>\n      <td>0.027757</td>\n      <td>11</td>\n    </tr>\n    <tr>\n      <th>46</th>\n      <td>0.001839</td>\n      <td>0.000047</td>\n      <td>0.000542</td>\n      <td>0.000030</td>\n      <td>rbf</td>\n      <td>1</td>\n      <td>0.5</td>\n      <td>{'kernel': 'rbf', 'gamma': 1, 'C': 0.5}</td>\n      <td>0.647059</td>\n      <td>0.647059</td>\n      <td>...</td>\n      <td>0.647059</td>\n      <td>0.647059</td>\n      <td>0.588235</td>\n      <td>0.588235</td>\n      <td>0.588235</td>\n      <td>0.588235</td>\n      <td>0.6250</td>\n      <td>0.621324</td>\n      <td>0.027757</td>\n      <td>11</td>\n    </tr>\n    <tr>\n      <th>115</th>\n      <td>0.001500</td>\n      <td>0.000021</td>\n      <td>0.000475</td>\n      <td>0.000029</td>\n      <td>sigmoid</td>\n      <td>0.01</td>\n      <td>0.4</td>\n      <td>{'kernel': 'sigmoid', 'gamma': 0.01, 'C': 0.4}</td>\n      <td>0.647059</td>\n      <td>0.647059</td>\n      <td>...</td>\n      <td>0.647059</td>\n      <td>0.647059</td>\n      <td>0.588235</td>\n      <td>0.588235</td>\n      <td>0.588235</td>\n      <td>0.588235</td>\n      <td>0.6250</td>\n      <td>0.621324</td>\n      <td>0.027757</td>\n      <td>11</td>\n    </tr>\n    <tr>\n      <th>50</th>\n      <td>0.002154</td>\n      <td>0.000364</td>\n      <td>0.000697</td>\n      <td>0.000147</td>\n      <td>rbf</td>\n      <td>0.25</td>\n      <td>0.4</td>\n      <td>{'kernel': 'rbf', 'gamma': 0.25, 'C': 0.4}</td>\n      <td>0.647059</td>\n      <td>0.647059</td>\n      <td>...</td>\n      <td>0.647059</td>\n      <td>0.647059</td>\n      <td>0.588235</td>\n      <td>0.588235</td>\n      <td>0.588235</td>\n      <td>0.588235</td>\n      <td>0.6250</td>\n      <td>0.621324</td>\n      <td>0.027757</td>\n      <td>11</td>\n    </tr>\n    <tr>\n      <th>119</th>\n      <td>0.001269</td>\n      <td>0.000019</td>\n      <td>0.000484</td>\n      <td>0.000013</td>\n      <td>rbf</td>\n      <td>0.001</td>\n      <td>0.5</td>\n      <td>{'kernel': 'rbf', 'gamma': 0.001, 'C': 0.5}</td>\n      <td>0.647059</td>\n      <td>0.647059</td>\n      <td>...</td>\n      <td>0.647059</td>\n      <td>0.647059</td>\n      <td>0.588235</td>\n      <td>0.588235</td>\n      <td>0.588235</td>\n      <td>0.588235</td>\n      <td>0.6250</td>\n      <td>0.621324</td>\n      <td>0.027757</td>\n      <td>11</td>\n    </tr>\n    <tr>\n      <th>54</th>\n      <td>0.001261</td>\n      <td>0.000048</td>\n      <td>0.000463</td>\n      <td>0.000050</td>\n      <td>rbf</td>\n      <td>0.00001</td>\n      <td>0.2</td>\n      <td>{'kernel': 'rbf', 'gamma': 1e-05, 'C': 0.2}</td>\n      <td>0.647059</td>\n      <td>0.647059</td>\n      <td>...</td>\n      <td>0.647059</td>\n      <td>0.647059</td>\n      <td>0.588235</td>\n      <td>0.588235</td>\n      <td>0.588235</td>\n      <td>0.588235</td>\n      <td>0.6250</td>\n      <td>0.621324</td>\n      <td>0.027757</td>\n      <td>11</td>\n    </tr>\n    <tr>\n      <th>55</th>\n      <td>0.001519</td>\n      <td>0.000044</td>\n      <td>0.000474</td>\n      <td>0.000037</td>\n      <td>sigmoid</td>\n      <td>0.009</td>\n      <td>0.8</td>\n      <td>{'kernel': 'sigmoid', 'gamma': 0.009, 'C': 0.8}</td>\n      <td>0.647059</td>\n      <td>0.647059</td>\n      <td>...</td>\n      <td>0.647059</td>\n      <td>0.647059</td>\n      <td>0.588235</td>\n      <td>0.588235</td>\n      <td>0.588235</td>\n      <td>0.588235</td>\n      <td>0.6250</td>\n      <td>0.621324</td>\n      <td>0.027757</td>\n      <td>11</td>\n    </tr>\n    <tr>\n      <th>127</th>\n      <td>0.001553</td>\n      <td>0.000058</td>\n      <td>0.000472</td>\n      <td>0.000016</td>\n      <td>sigmoid</td>\n      <td>0.0001</td>\n      <td>500</td>\n      <td>{'kernel': 'sigmoid', 'gamma': 0.0001, 'C': 500}</td>\n      <td>0.647059</td>\n      <td>0.647059</td>\n      <td>...</td>\n      <td>0.647059</td>\n      <td>0.647059</td>\n      <td>0.588235</td>\n      <td>0.588235</td>\n      <td>0.588235</td>\n      <td>0.588235</td>\n      <td>0.6250</td>\n      <td>0.621324</td>\n      <td>0.027757</td>\n      <td>11</td>\n    </tr>\n    <tr>\n      <th>98</th>\n      <td>0.001510</td>\n      <td>0.000033</td>\n      <td>0.000461</td>\n      <td>0.000006</td>\n      <td>sigmoid</td>\n      <td>0.01</td>\n      <td>0.8</td>\n      <td>{'kernel': 'sigmoid', 'gamma': 0.01, 'C': 0.8}</td>\n      <td>0.647059</td>\n      <td>0.647059</td>\n      <td>...</td>\n      <td>0.647059</td>\n      <td>0.647059</td>\n      <td>0.588235</td>\n      <td>0.588235</td>\n      <td>0.588235</td>\n      <td>0.588235</td>\n      <td>0.6250</td>\n      <td>0.621324</td>\n      <td>0.027757</td>\n      <td>11</td>\n    </tr>\n    <tr>\n      <th>74</th>\n      <td>0.001453</td>\n      <td>0.000091</td>\n      <td>0.000572</td>\n      <td>0.000073</td>\n      <td>rbf</td>\n      <td>0.001</td>\n      <td>0.4</td>\n      <td>{'kernel': 'rbf', 'gamma': 0.001, 'C': 0.4}</td>\n      <td>0.647059</td>\n      <td>0.647059</td>\n      <td>...</td>\n      <td>0.647059</td>\n      <td>0.647059</td>\n      <td>0.588235</td>\n      <td>0.588235</td>\n      <td>0.588235</td>\n      <td>0.588235</td>\n      <td>0.6250</td>\n      <td>0.621324</td>\n      <td>0.027757</td>\n      <td>11</td>\n    </tr>\n    <tr>\n      <th>131</th>\n      <td>0.001607</td>\n      <td>0.000064</td>\n      <td>0.000536</td>\n      <td>0.000059</td>\n      <td>sigmoid</td>\n      <td>0.001</td>\n      <td>10</td>\n      <td>{'kernel': 'sigmoid', 'gamma': 0.001, 'C': 10}</td>\n      <td>0.647059</td>\n      <td>0.647059</td>\n      <td>...</td>\n      <td>0.647059</td>\n      <td>0.647059</td>\n      <td>0.588235</td>\n      <td>0.588235</td>\n      <td>0.588235</td>\n      <td>0.588235</td>\n      <td>0.6250</td>\n      <td>0.621324</td>\n      <td>0.027757</td>\n      <td>11</td>\n    </tr>\n    <tr>\n      <th>69</th>\n      <td>0.001688</td>\n      <td>0.000045</td>\n      <td>0.000521</td>\n      <td>0.000012</td>\n      <td>rbf</td>\n      <td>0.15</td>\n      <td>0.2</td>\n      <td>{'kernel': 'rbf', 'gamma': 0.15, 'C': 0.2}</td>\n      <td>0.647059</td>\n      <td>0.647059</td>\n      <td>...</td>\n      <td>0.647059</td>\n      <td>0.647059</td>\n      <td>0.588235</td>\n      <td>0.588235</td>\n      <td>0.588235</td>\n      <td>0.588235</td>\n      <td>0.6250</td>\n      <td>0.621324</td>\n      <td>0.027757</td>\n      <td>11</td>\n    </tr>\n    <tr>\n      <th>111</th>\n      <td>0.001593</td>\n      <td>0.000037</td>\n      <td>0.000539</td>\n      <td>0.000058</td>\n      <td>rbf</td>\n      <td>0.2</td>\n      <td>0.2</td>\n      <td>{'kernel': 'rbf', 'gamma': 0.2, 'C': 0.2}</td>\n      <td>0.647059</td>\n      <td>0.647059</td>\n      <td>...</td>\n      <td>0.647059</td>\n      <td>0.647059</td>\n      <td>0.588235</td>\n      <td>0.588235</td>\n      <td>0.588235</td>\n      <td>0.588235</td>\n      <td>0.6250</td>\n      <td>0.621324</td>\n      <td>0.027757</td>\n      <td>11</td>\n    </tr>\n    <tr>\n      <th>71</th>\n      <td>0.001330</td>\n      <td>0.000217</td>\n      <td>0.000504</td>\n      <td>0.000098</td>\n      <td>rbf</td>\n      <td>0.00001</td>\n      <td>0.6</td>\n      <td>{'kernel': 'rbf', 'gamma': 1e-05, 'C': 0.6}</td>\n      <td>0.647059</td>\n      <td>0.647059</td>\n      <td>...</td>\n      <td>0.647059</td>\n      <td>0.647059</td>\n      <td>0.588235</td>\n      <td>0.588235</td>\n      <td>0.588235</td>\n      <td>0.588235</td>\n      <td>0.6250</td>\n      <td>0.621324</td>\n      <td>0.027757</td>\n      <td>11</td>\n    </tr>\n    <tr>\n      <th>73</th>\n      <td>0.001723</td>\n      <td>0.000150</td>\n      <td>0.000552</td>\n      <td>0.000042</td>\n      <td>rbf</td>\n      <td>0.25</td>\n      <td>0.2</td>\n      <td>{'kernel': 'rbf', 'gamma': 0.25, 'C': 0.2}</td>\n      <td>0.647059</td>\n      <td>0.647059</td>\n      <td>...</td>\n      <td>0.647059</td>\n      <td>0.647059</td>\n      <td>0.588235</td>\n      <td>0.588235</td>\n      <td>0.588235</td>\n      <td>0.588235</td>\n      <td>0.6250</td>\n      <td>0.621324</td>\n      <td>0.027757</td>\n      <td>11</td>\n    </tr>\n    <tr>\n      <th>75</th>\n      <td>0.001818</td>\n      <td>0.000517</td>\n      <td>0.000530</td>\n      <td>0.000116</td>\n      <td>sigmoid</td>\n      <td>0.001</td>\n      <td>0.6</td>\n      <td>{'kernel': 'sigmoid', 'gamma': 0.001, 'C': 0.6}</td>\n      <td>0.647059</td>\n      <td>0.647059</td>\n      <td>...</td>\n      <td>0.647059</td>\n      <td>0.647059</td>\n      <td>0.588235</td>\n      <td>0.588235</td>\n      <td>0.588235</td>\n      <td>0.588235</td>\n      <td>0.6250</td>\n      <td>0.621324</td>\n      <td>0.027757</td>\n      <td>11</td>\n    </tr>\n    <tr>\n      <th>109</th>\n      <td>0.001110</td>\n      <td>0.000077</td>\n      <td>0.000418</td>\n      <td>0.000016</td>\n      <td>linear</td>\n      <td>0.2</td>\n      <td>0.1</td>\n      <td>{'kernel': 'linear', 'gamma': 0.2, 'C': 0.1}</td>\n      <td>0.647059</td>\n      <td>0.647059</td>\n      <td>...</td>\n      <td>0.647059</td>\n      <td>0.647059</td>\n      <td>0.588235</td>\n      <td>0.588235</td>\n      <td>0.588235</td>\n      <td>0.588235</td>\n      <td>0.6250</td>\n      <td>0.621324</td>\n      <td>0.027757</td>\n      <td>11</td>\n    </tr>\n    <tr>\n      <th>103</th>\n      <td>0.001532</td>\n      <td>0.000039</td>\n      <td>0.000471</td>\n      <td>0.000015</td>\n      <td>sigmoid</td>\n      <td>0.01</td>\n      <td>0.5</td>\n      <td>{'kernel': 'sigmoid', 'gamma': 0.01, 'C': 0.5}</td>\n      <td>0.647059</td>\n      <td>0.647059</td>\n      <td>...</td>\n      <td>0.647059</td>\n      <td>0.647059</td>\n      <td>0.588235</td>\n      <td>0.588235</td>\n      <td>0.588235</td>\n      <td>0.588235</td>\n      <td>0.6250</td>\n      <td>0.621324</td>\n      <td>0.027757</td>\n      <td>11</td>\n    </tr>\n    <tr>\n      <th>85</th>\n      <td>0.001109</td>\n      <td>0.000045</td>\n      <td>0.000420</td>\n      <td>0.000013</td>\n      <td>linear</td>\n      <td>0.001</td>\n      <td>0.2</td>\n      <td>{'kernel': 'linear', 'gamma': 0.001, 'C': 0.2}</td>\n      <td>0.647059</td>\n      <td>0.647059</td>\n      <td>...</td>\n      <td>0.647059</td>\n      <td>0.647059</td>\n      <td>0.588235</td>\n      <td>0.588235</td>\n      <td>0.588235</td>\n      <td>0.588235</td>\n      <td>0.6250</td>\n      <td>0.621324</td>\n      <td>0.027757</td>\n      <td>11</td>\n    </tr>\n    <tr>\n      <th>87</th>\n      <td>0.001441</td>\n      <td>0.000183</td>\n      <td>0.000572</td>\n      <td>0.000097</td>\n      <td>rbf</td>\n      <td>0.0001</td>\n      <td>0.8</td>\n      <td>{'kernel': 'rbf', 'gamma': 0.0001, 'C': 0.8}</td>\n      <td>0.647059</td>\n      <td>0.647059</td>\n      <td>...</td>\n      <td>0.647059</td>\n      <td>0.647059</td>\n      <td>0.588235</td>\n      <td>0.588235</td>\n      <td>0.588235</td>\n      <td>0.588235</td>\n      <td>0.6250</td>\n      <td>0.621324</td>\n      <td>0.027757</td>\n      <td>11</td>\n    </tr>\n    <tr>\n      <th>90</th>\n      <td>0.001590</td>\n      <td>0.000075</td>\n      <td>0.000488</td>\n      <td>0.000032</td>\n      <td>sigmoid</td>\n      <td>0.0001</td>\n      <td>1000</td>\n      <td>{'kernel': 'sigmoid', 'gamma': 0.0001, 'C': 1000}</td>\n      <td>0.647059</td>\n      <td>0.647059</td>\n      <td>...</td>\n      <td>0.647059</td>\n      <td>0.647059</td>\n      <td>0.588235</td>\n      <td>0.588235</td>\n      <td>0.588235</td>\n      <td>0.588235</td>\n      <td>0.6250</td>\n      <td>0.621324</td>\n      <td>0.027757</td>\n      <td>11</td>\n    </tr>\n    <tr>\n      <th>92</th>\n      <td>0.001670</td>\n      <td>0.000080</td>\n      <td>0.000539</td>\n      <td>0.000025</td>\n      <td>rbf</td>\n      <td>0.15</td>\n      <td>0.3</td>\n      <td>{'kernel': 'rbf', 'gamma': 0.15, 'C': 0.3}</td>\n      <td>0.647059</td>\n      <td>0.647059</td>\n      <td>...</td>\n      <td>0.647059</td>\n      <td>0.647059</td>\n      <td>0.588235</td>\n      <td>0.588235</td>\n      <td>0.588235</td>\n      <td>0.588235</td>\n      <td>0.6250</td>\n      <td>0.621324</td>\n      <td>0.027757</td>\n      <td>11</td>\n    </tr>\n    <tr>\n      <th>64</th>\n      <td>0.001168</td>\n      <td>0.000038</td>\n      <td>0.000408</td>\n      <td>0.000005</td>\n      <td>linear</td>\n      <td>scale</td>\n      <td>0.2</td>\n      <td>{'kernel': 'linear', 'gamma': 'scale', 'C': 0.2}</td>\n      <td>0.647059</td>\n      <td>0.647059</td>\n      <td>...</td>\n      <td>0.647059</td>\n      <td>0.647059</td>\n      <td>0.588235</td>\n      <td>0.588235</td>\n      <td>0.588235</td>\n      <td>0.588235</td>\n      <td>0.6250</td>\n      <td>0.621324</td>\n      <td>0.027757</td>\n      <td>11</td>\n    </tr>\n    <tr>\n      <th>35</th>\n      <td>0.001488</td>\n      <td>0.000024</td>\n      <td>0.000464</td>\n      <td>0.000012</td>\n      <td>sigmoid</td>\n      <td>0.0001</td>\n      <td>10</td>\n      <td>{'kernel': 'sigmoid', 'gamma': 0.0001, 'C': 10}</td>\n      <td>0.647059</td>\n      <td>0.647059</td>\n      <td>...</td>\n      <td>0.647059</td>\n      <td>0.647059</td>\n      <td>0.588235</td>\n      <td>0.588235</td>\n      <td>0.588235</td>\n      <td>0.588235</td>\n      <td>0.6250</td>\n      <td>0.621324</td>\n      <td>0.027757</td>\n      <td>11</td>\n    </tr>\n    <tr>\n      <th>124</th>\n      <td>0.001582</td>\n      <td>0.000055</td>\n      <td>0.000507</td>\n      <td>0.000018</td>\n      <td>rbf</td>\n      <td>0.0095</td>\n      <td>0.9</td>\n      <td>{'kernel': 'rbf', 'gamma': 0.0095, 'C': 0.9}</td>\n      <td>0.647059</td>\n      <td>0.647059</td>\n      <td>...</td>\n      <td>0.647059</td>\n      <td>0.647059</td>\n      <td>0.588235</td>\n      <td>0.588235</td>\n      <td>0.588235</td>\n      <td>0.588235</td>\n      <td>0.6250</td>\n      <td>0.621324</td>\n      <td>0.027757</td>\n      <td>11</td>\n    </tr>\n    <tr>\n      <th>8</th>\n      <td>0.001878</td>\n      <td>0.000323</td>\n      <td>0.000550</td>\n      <td>0.000104</td>\n      <td>rbf</td>\n      <td>1</td>\n      <td>0.8</td>\n      <td>{'kernel': 'rbf', 'gamma': 1, 'C': 0.8}</td>\n      <td>0.647059</td>\n      <td>0.647059</td>\n      <td>...</td>\n      <td>0.647059</td>\n      <td>0.647059</td>\n      <td>0.588235</td>\n      <td>0.588235</td>\n      <td>0.588235</td>\n      <td>0.588235</td>\n      <td>0.6250</td>\n      <td>0.621324</td>\n      <td>0.027757</td>\n      <td>11</td>\n    </tr>\n    <tr>\n      <th>17</th>\n      <td>0.001112</td>\n      <td>0.000074</td>\n      <td>0.000419</td>\n      <td>0.000023</td>\n      <td>linear</td>\n      <td>0.2</td>\n      <td>0.2</td>\n      <td>{'kernel': 'linear', 'gamma': 0.2, 'C': 0.2}</td>\n      <td>0.647059</td>\n      <td>0.647059</td>\n      <td>...</td>\n      <td>0.647059</td>\n      <td>0.647059</td>\n      <td>0.588235</td>\n      <td>0.588235</td>\n      <td>0.588235</td>\n      <td>0.588235</td>\n      <td>0.6250</td>\n      <td>0.621324</td>\n      <td>0.027757</td>\n      <td>11</td>\n    </tr>\n    <tr>\n      <th>20</th>\n      <td>0.001691</td>\n      <td>0.000313</td>\n      <td>0.000539</td>\n      <td>0.000089</td>\n      <td>rbf</td>\n      <td>0.0095</td>\n      <td>0.5</td>\n      <td>{'kernel': 'rbf', 'gamma': 0.0095, 'C': 0.5}</td>\n      <td>0.647059</td>\n      <td>0.647059</td>\n      <td>...</td>\n      <td>0.647059</td>\n      <td>0.647059</td>\n      <td>0.588235</td>\n      <td>0.588235</td>\n      <td>0.588235</td>\n      <td>0.588235</td>\n      <td>0.6250</td>\n      <td>0.621324</td>\n      <td>0.027757</td>\n      <td>11</td>\n    </tr>\n    <tr>\n      <th>16</th>\n      <td>0.001149</td>\n      <td>0.000073</td>\n      <td>0.000437</td>\n      <td>0.000031</td>\n      <td>linear</td>\n      <td>0.0001</td>\n      <td>0.2</td>\n      <td>{'kernel': 'linear', 'gamma': 0.0001, 'C': 0.2}</td>\n      <td>0.647059</td>\n      <td>0.647059</td>\n      <td>...</td>\n      <td>0.647059</td>\n      <td>0.647059</td>\n      <td>0.588235</td>\n      <td>0.588235</td>\n      <td>0.588235</td>\n      <td>0.588235</td>\n      <td>0.6250</td>\n      <td>0.621324</td>\n      <td>0.027757</td>\n      <td>11</td>\n    </tr>\n    <tr>\n      <th>21</th>\n      <td>0.002093</td>\n      <td>0.000473</td>\n      <td>0.000597</td>\n      <td>0.000139</td>\n      <td>sigmoid</td>\n      <td>0.00001</td>\n      <td>5000</td>\n      <td>{'kernel': 'sigmoid', 'gamma': 1e-05, 'C': 5000}</td>\n      <td>0.647059</td>\n      <td>0.647059</td>\n      <td>...</td>\n      <td>0.647059</td>\n      <td>0.647059</td>\n      <td>0.588235</td>\n      <td>0.588235</td>\n      <td>0.588235</td>\n      <td>0.588235</td>\n      <td>0.6250</td>\n      <td>0.621324</td>\n      <td>0.027757</td>\n      <td>11</td>\n    </tr>\n    <tr>\n      <th>14</th>\n      <td>0.001432</td>\n      <td>0.000321</td>\n      <td>0.000524</td>\n      <td>0.000094</td>\n      <td>linear</td>\n      <td>0.15</td>\n      <td>0.2</td>\n      <td>{'kernel': 'linear', 'gamma': 0.15, 'C': 0.2}</td>\n      <td>0.647059</td>\n      <td>0.647059</td>\n      <td>...</td>\n      <td>0.647059</td>\n      <td>0.647059</td>\n      <td>0.588235</td>\n      <td>0.588235</td>\n      <td>0.588235</td>\n      <td>0.588235</td>\n      <td>0.6250</td>\n      <td>0.621324</td>\n      <td>0.027757</td>\n      <td>11</td>\n    </tr>\n    <tr>\n      <th>1</th>\n      <td>0.001602</td>\n      <td>0.000362</td>\n      <td>0.000645</td>\n      <td>0.000139</td>\n      <td>rbf</td>\n      <td>0.001</td>\n      <td>2</td>\n      <td>{'kernel': 'rbf', 'gamma': 0.001, 'C': 2}</td>\n      <td>0.647059</td>\n      <td>0.647059</td>\n      <td>...</td>\n      <td>0.647059</td>\n      <td>0.647059</td>\n      <td>0.588235</td>\n      <td>0.588235</td>\n      <td>0.588235</td>\n      <td>0.588235</td>\n      <td>0.6250</td>\n      <td>0.621324</td>\n      <td>0.027757</td>\n      <td>11</td>\n    </tr>\n    <tr>\n      <th>139</th>\n      <td>0.001556</td>\n      <td>0.000051</td>\n      <td>0.000463</td>\n      <td>0.000009</td>\n      <td>sigmoid</td>\n      <td>0.00001</td>\n      <td>4000</td>\n      <td>{'kernel': 'sigmoid', 'gamma': 1e-05, 'C': 4000}</td>\n      <td>0.647059</td>\n      <td>0.647059</td>\n      <td>...</td>\n      <td>0.647059</td>\n      <td>0.647059</td>\n      <td>0.588235</td>\n      <td>0.588235</td>\n      <td>0.588235</td>\n      <td>0.588235</td>\n      <td>0.6250</td>\n      <td>0.621324</td>\n      <td>0.027757</td>\n      <td>11</td>\n    </tr>\n    <tr>\n      <th>11</th>\n      <td>0.001275</td>\n      <td>0.000230</td>\n      <td>0.000500</td>\n      <td>0.000093</td>\n      <td>rbf</td>\n      <td>0.00001</td>\n      <td>2</td>\n      <td>{'kernel': 'rbf', 'gamma': 1e-05, 'C': 2}</td>\n      <td>0.647059</td>\n      <td>0.647059</td>\n      <td>...</td>\n      <td>0.647059</td>\n      <td>0.647059</td>\n      <td>0.588235</td>\n      <td>0.588235</td>\n      <td>0.588235</td>\n      <td>0.588235</td>\n      <td>0.6250</td>\n      <td>0.621324</td>\n      <td>0.027757</td>\n      <td>11</td>\n    </tr>\n    <tr>\n      <th>138</th>\n      <td>0.001223</td>\n      <td>0.000071</td>\n      <td>0.000473</td>\n      <td>0.000006</td>\n      <td>rbf</td>\n      <td>0.00001</td>\n      <td>0.7</td>\n      <td>{'kernel': 'rbf', 'gamma': 1e-05, 'C': 0.7}</td>\n      <td>0.647059</td>\n      <td>0.647059</td>\n      <td>...</td>\n      <td>0.647059</td>\n      <td>0.647059</td>\n      <td>0.588235</td>\n      <td>0.588235</td>\n      <td>0.588235</td>\n      <td>0.588235</td>\n      <td>0.6250</td>\n      <td>0.621324</td>\n      <td>0.027757</td>\n      <td>11</td>\n    </tr>\n    <tr>\n      <th>145</th>\n      <td>0.001255</td>\n      <td>0.000046</td>\n      <td>0.000484</td>\n      <td>0.000018</td>\n      <td>rbf</td>\n      <td>0.001</td>\n      <td>0.1</td>\n      <td>{'kernel': 'rbf', 'gamma': 0.001, 'C': 0.1}</td>\n      <td>0.647059</td>\n      <td>0.647059</td>\n      <td>...</td>\n      <td>0.647059</td>\n      <td>0.647059</td>\n      <td>0.588235</td>\n      <td>0.588235</td>\n      <td>0.588235</td>\n      <td>0.588235</td>\n      <td>0.6250</td>\n      <td>0.621324</td>\n      <td>0.027757</td>\n      <td>11</td>\n    </tr>\n    <tr>\n      <th>27</th>\n      <td>0.001637</td>\n      <td>0.000056</td>\n      <td>0.000497</td>\n      <td>0.000016</td>\n      <td>rbf</td>\n      <td>0.009</td>\n      <td>2</td>\n      <td>{'kernel': 'rbf', 'gamma': 0.009, 'C': 2}</td>\n      <td>0.647059</td>\n      <td>0.647059</td>\n      <td>...</td>\n      <td>0.647059</td>\n      <td>0.647059</td>\n      <td>0.588235</td>\n      <td>0.588235</td>\n      <td>0.588235</td>\n      <td>0.588235</td>\n      <td>0.6250</td>\n      <td>0.621324</td>\n      <td>0.027757</td>\n      <td>11</td>\n    </tr>\n    <tr>\n      <th>143</th>\n      <td>0.001640</td>\n      <td>0.000286</td>\n      <td>0.000529</td>\n      <td>0.000038</td>\n      <td>rbf</td>\n      <td>0.009</td>\n      <td>0.5</td>\n      <td>{'kernel': 'rbf', 'gamma': 0.009, 'C': 0.5}</td>\n      <td>0.647059</td>\n      <td>0.647059</td>\n      <td>...</td>\n      <td>0.647059</td>\n      <td>0.647059</td>\n      <td>0.588235</td>\n      <td>0.588235</td>\n      <td>0.588235</td>\n      <td>0.588235</td>\n      <td>0.6250</td>\n      <td>0.621324</td>\n      <td>0.027757</td>\n      <td>11</td>\n    </tr>\n    <tr>\n      <th>29</th>\n      <td>0.001542</td>\n      <td>0.000044</td>\n      <td>0.000472</td>\n      <td>0.000026</td>\n      <td>sigmoid</td>\n      <td>0.0095</td>\n      <td>0.8</td>\n      <td>{'kernel': 'sigmoid', 'gamma': 0.0095, 'C': 0.8}</td>\n      <td>0.647059</td>\n      <td>0.647059</td>\n      <td>...</td>\n      <td>0.647059</td>\n      <td>0.647059</td>\n      <td>0.588235</td>\n      <td>0.588235</td>\n      <td>0.588235</td>\n      <td>0.588235</td>\n      <td>0.6250</td>\n      <td>0.621324</td>\n      <td>0.027757</td>\n      <td>11</td>\n    </tr>\n  </tbody>\n</table>\n<p>50 rows × 21 columns</p>\n</div>"
     },
     "metadata": {}
    }
   ]
  },
  {
   "cell_type": "code",
   "metadata": {
    "cell_id": "00031-93304e45-1478-4e7c-ad37-3dfcc0b9dad4",
    "deepnote_output_heights": [
     21.1875
    ],
    "deepnote_to_be_reexecuted": false,
    "source_hash": "a428b1b3",
    "execution_start": 1642245528760,
    "execution_millis": 82,
    "deepnote_cell_type": "code"
   },
   "source": "best_model_oh2 = optimal_par_oh2.best_estimator_\nbest_model_oh2.fit(X_train_M2, y_train_M2)\nbest_model_oh2.score(X_test_M2, y_test_M2)",
   "execution_count": null,
   "outputs": [
    {
     "output_type": "execute_result",
     "execution_count": 23,
     "data": {
      "text/plain": "1.0"
     },
     "metadata": {}
    }
   ]
  },
  {
   "cell_type": "code",
   "metadata": {
    "cell_id": "00032-642097b3-72b9-46fb-a433-25b4ecf82706",
    "deepnote_to_be_reexecuted": false,
    "source_hash": "5429dc42",
    "execution_start": 1642245528846,
    "execution_millis": 89,
    "deepnote_cell_type": "code"
   },
   "source": "C_BEST = optimal_par_oh2.best_params_['C']\nGAMMA = optimal_par_oh2.best_params_['gamma']\nKERNEL = optimal_par_oh2.best_params_['kernel']\n\nclf_svm_oh2 = SVC(C=5000, gamma=0.0095, kernel='rbf')\n#clf_svm_oh2 = SVC(C=C_BEST, gamma=GAMMA, kernel=KERNEL)\nclf_svm_oh2.fit(X_train_M2, y_train_M2)\n\ntrain_pred = clf_svm_oh2.predict(X_train_M2)\ntest_pred = clf_svm_oh2.predict(X_test_M2)\n\nprint(classification_report(y_train_M2, train_pred))",
   "execution_count": null,
   "outputs": [
    {
     "name": "stdout",
     "text": "              precision    recall  f1-score   support\n\n         0.0       1.00      1.00      1.00       105\n         1.0       1.00      1.00      1.00        64\n\n    accuracy                           1.00       169\n   macro avg       1.00      1.00      1.00       169\nweighted avg       1.00      1.00      1.00       169\n\n",
     "output_type": "stream"
    }
   ]
  },
  {
   "cell_type": "code",
   "metadata": {
    "cell_id": "00033-ba701a72-e6b1-4f2e-b681-50e3ab8e49cf",
    "deepnote_to_be_reexecuted": false,
    "source_hash": "27b72edd",
    "execution_start": 1642245528939,
    "execution_millis": 18,
    "deepnote_cell_type": "code"
   },
   "source": "print(classification_report(y_test_M2, test_pred))",
   "execution_count": null,
   "outputs": [
    {
     "name": "stdout",
     "text": "              precision    recall  f1-score   support\n\n         0.0       1.00      1.00      1.00       290\n         1.0       1.00      1.00      1.00       142\n\n    accuracy                           1.00       432\n   macro avg       1.00      1.00      1.00       432\nweighted avg       1.00      1.00      1.00       432\n\n",
     "output_type": "stream"
    }
   ]
  },
  {
   "cell_type": "code",
   "metadata": {
    "cell_id": "00034-ca3c06b3-d3b4-4b5f-8a65-5a07770f03c8",
    "deepnote_output_heights": [
     482
    ],
    "deepnote_to_be_reexecuted": false,
    "source_hash": "9afc990",
    "execution_start": 1642245528949,
    "execution_millis": 294,
    "deepnote_cell_type": "code"
   },
   "source": "plot_confusion_matrix(clf_svm_oh2,\n                      X_test_M2,\n                      y_test_M2,\n                      values_format='d',\n                      display_labels=['0', '1'])\nplt.show()",
   "execution_count": null,
   "outputs": [
    {
     "data": {
      "text/plain": "<Figure size 720x576 with 2 Axes>",
      "image/png": "[encoded data removed]"
     },
     "metadata": {
      "needs_background": "light",
      "image/png": {
       "width": 552,
       "height": 480
      }
     },
     "output_type": "display_data"
    }
   ]
  },
  {
   "cell_type": "markdown",
   "source": "## MONK-3",
   "metadata": {
    "cell_id": "00035-95e2a091-f35d-4719-843d-62c5ea5383ac",
    "deepnote_cell_type": "markdown"
   }
  },
  {
   "cell_type": "code",
   "metadata": {
    "cell_id": "00036-a3aa6dc3-30a5-4af6-b18c-c8e007904291",
    "deepnote_to_be_reexecuted": false,
    "source_hash": "c72e9b65",
    "execution_start": 1642245529245,
    "execution_millis": 12,
    "deepnote_cell_type": "code"
   },
   "source": "#read train dataset\ndf_monk3_train = pd.read_csv('./data/MONK/monks-3.train', sep=\" \", skipinitialspace=True, names=['class','a1','a2','a3','a4','a5','a6','id'])\ndf_monk3_train.drop(labels='id', axis=1, inplace=True)\n\n#read test dataset\ndf_monk3_test = pd.read_csv('./data/MONK/monks-3.test', sep=\" \", skipinitialspace=True,  names=['class','a1','a2','a3','a4','a5','a6','id'])\ndf_monk3_test.drop(labels='id', axis=1, inplace=True)",
   "execution_count": null,
   "outputs": []
  },
  {
   "cell_type": "code",
   "metadata": {
    "cell_id": "00037-10d9e73b-b87b-468c-8c7d-1f2f683c583a",
    "deepnote_output_heights": [
     21.1875,
     451
    ],
    "deepnote_to_be_reexecuted": false,
    "source_hash": "adbaea08",
    "execution_start": 1642245529268,
    "execution_millis": 185,
    "deepnote_cell_type": "code"
   },
   "source": "#plot class distribution in train data\nfig_size = plt.rcParams[\"figure.figsize\"]\nfig_size[0] = 10\nfig_size[1] = 8\nplt.rcParams[\"figure.figsize\"] = fig_size\n\ndf_monk3_train['class'].value_counts().plot(kind='pie', autopct='%1.0f%%', colors=['lightgreen', 'red'], explode=(0.05, 0.05))",
   "execution_count": null,
   "outputs": [
    {
     "output_type": "execute_result",
     "execution_count": 28,
     "data": {
      "text/plain": "<AxesSubplot:ylabel='class'>"
     },
     "metadata": {}
    },
    {
     "data": {
      "text/plain": "<Figure size 720x576 with 1 Axes>",
      "image/png": "[encoded data removed]"
     },
     "metadata": {
      "image/png": {
       "width": 463,
       "height": 449
      }
     },
     "output_type": "display_data"
    }
   ]
  },
  {
   "cell_type": "code",
   "metadata": {
    "cell_id": "00038-1cc85caf-d452-4e12-9aaf-b7faa6152d2c",
    "deepnote_output_heights": [
     21.1875,
     451
    ],
    "deepnote_to_be_reexecuted": false,
    "source_hash": "7646cd9c",
    "execution_start": 1642245529458,
    "execution_millis": 223,
    "deepnote_cell_type": "code"
   },
   "source": "#plot class distribution in test data\ndf_monk3_test['class'].value_counts().plot(kind='pie', autopct='%1.0f%%', colors=['lightgreen', 'red'], explode=(0.05, 0.05))",
   "execution_count": null,
   "outputs": [
    {
     "output_type": "execute_result",
     "execution_count": 29,
     "data": {
      "text/plain": "<AxesSubplot:ylabel='class'>"
     },
     "metadata": {}
    },
    {
     "data": {
      "text/plain": "<Figure size 720x576 with 1 Axes>",
      "image/png": "[encoded data removed]"
     },
     "metadata": {
      "image/png": {
       "width": 463,
       "height": 449
      }
     },
     "output_type": "display_data"
    }
   ]
  },
  {
   "cell_type": "code",
   "metadata": {
    "cell_id": "00039-e317eb38-4ff2-456d-972d-a3990705d76d",
    "deepnote_to_be_reexecuted": false,
    "source_hash": "a1418039",
    "execution_start": 1642245529689,
    "execution_millis": 42,
    "deepnote_cell_type": "code"
   },
   "source": "X_train_M3, y_train_M3, X_test_M3, y_test_M3 = split_train_test(df_monk3_train, df_monk3_test)",
   "execution_count": null,
   "outputs": []
  },
  {
   "cell_type": "markdown",
   "source": "### One hot encoder",
   "metadata": {
    "cell_id": "00040-23faedd0-7443-42d3-83a5-01bf305649f7",
    "deepnote_cell_type": "markdown"
   }
  },
  {
   "cell_type": "code",
   "metadata": {
    "cell_id": "00041-d877826c-1967-4e43-82e8-77800ab7ce21",
    "deepnote_to_be_reexecuted": false,
    "source_hash": "7b938f1f",
    "execution_start": 1642245529731,
    "execution_millis": 2,
    "deepnote_cell_type": "code"
   },
   "source": "enc_train = OneHotEncoder()\nenc_train.fit(X_train_M3)\nX_train_M3 = enc_train.transform(X_train_M3).toarray()\nprint(X_train_M3.shape)\n\nenc_test = OneHotEncoder()\nenc_test.fit(X_test_M3)\nX_test_M3 = enc_test.transform(X_test_M3).toarray()\nprint(X_test_M3.shape)",
   "execution_count": null,
   "outputs": [
    {
     "name": "stdout",
     "text": "(122, 17)\n(432, 17)\n",
     "output_type": "stream"
    }
   ]
  },
  {
   "cell_type": "code",
   "metadata": {
    "cell_id": "00042-ba7567d4-8b81-4d2e-86ad-d3882bd522f1",
    "deepnote_to_be_reexecuted": false,
    "source_hash": "7814fd2b",
    "execution_start": 1642245529732,
    "execution_millis": 3275,
    "deepnote_cell_type": "code"
   },
   "source": "par_values = [\n    {'C': [0.1, 0.2, 0.3, 0.4, 0.5, 0.6, 0.7, 0.8, 0.9, 1, 2, 5, 10, 15, 25, 50, 100, 250, 500, 1000], #C must be greater than 0\n    'gamma': ['scale', 1, 0.1, 0.01, 0.001, 0.0001, 0.00001],\n    'kernel': ['linear', 'rbf', 'sigmoid']},\n] \n\noptimal_par_oh3 = RandomizedSearchCV(\n    estimator=SVC(),\n    param_distributions=par_values,\n    n_iter=150,\n    cv=10,\n    scoring='accuracy',\n    verbose=0\n)\n\noptimal_par_oh3.fit(X_train_M3, y_train_M3)\nprint(optimal_par_oh3.best_params_)",
   "execution_count": null,
   "outputs": [
    {
     "name": "stdout",
     "text": "{'kernel': 'linear', 'gamma': 0.01, 'C': 50}\n",
     "output_type": "stream"
    }
   ]
  },
  {
   "cell_type": "code",
   "metadata": {
    "cell_id": "00043-ecbdda82-3ef9-4ce0-8c3b-a49a465b69a3",
    "deepnote_output_heights": [
     21.1875
    ],
    "deepnote_to_be_reexecuted": false,
    "source_hash": "7dc7684c",
    "execution_start": 1642245533011,
    "execution_millis": 8,
    "deepnote_cell_type": "code"
   },
   "source": "best_model_oh3 = optimal_par_oh3.best_estimator_\nbest_model_oh3.fit(X_train_M3, y_train_M3)\nbest_model_oh3.score(X_test_M3, y_test_M3)",
   "execution_count": null,
   "outputs": [
    {
     "output_type": "execute_result",
     "execution_count": 33,
     "data": {
      "text/plain": "0.9722222222222222"
     },
     "metadata": {}
    }
   ]
  },
  {
   "cell_type": "code",
   "metadata": {
    "cell_id": "00044-4807bd78-20f1-4575-93f3-ac509c1f35d6",
    "deepnote_to_be_reexecuted": false,
    "source_hash": "aab482a2",
    "execution_start": 1642245533022,
    "execution_millis": 9,
    "deepnote_cell_type": "code"
   },
   "source": "C_BEST = optimal_par_oh3.best_params_['C']\nGAMMA = optimal_par_oh3.best_params_['gamma']\nKERNEL = optimal_par_oh3.best_params_['kernel']\n\nclf_svm_oh3 = SVC(C=C_BEST, gamma=GAMMA, kernel=KERNEL)\nclf_svm_oh3.fit(X_train_M3, y_train_M3)\n\ntrain_pred = clf_svm_oh3.predict(X_train_M3)\ntest_pred = clf_svm_oh3.predict(X_test_M3)\n\nprint(classification_report(y_train_M3, train_pred))",
   "execution_count": null,
   "outputs": [
    {
     "name": "stdout",
     "text": "              precision    recall  f1-score   support\n\n         0.0       0.95      0.92      0.93        62\n         1.0       0.92      0.95      0.93        60\n\n    accuracy                           0.93       122\n   macro avg       0.93      0.93      0.93       122\nweighted avg       0.93      0.93      0.93       122\n\n",
     "output_type": "stream"
    }
   ]
  },
  {
   "cell_type": "code",
   "metadata": {
    "cell_id": "00045-273d7548-454d-4009-a8e3-ce6d080ec91a",
    "deepnote_to_be_reexecuted": false,
    "source_hash": "52000d4c",
    "execution_start": 1642245533034,
    "execution_millis": 9,
    "deepnote_cell_type": "code"
   },
   "source": "print(classification_report(y_test_M3, test_pred))",
   "execution_count": null,
   "outputs": [
    {
     "name": "stdout",
     "text": "              precision    recall  f1-score   support\n\n         0.0       0.94      1.00      0.97       204\n         1.0       1.00      0.95      0.97       228\n\n    accuracy                           0.97       432\n   macro avg       0.97      0.97      0.97       432\nweighted avg       0.97      0.97      0.97       432\n\n",
     "output_type": "stream"
    }
   ]
  },
  {
   "cell_type": "code",
   "metadata": {
    "cell_id": "00046-92fcc38e-7bdb-4b94-b7d2-2ea03a9c0bb3",
    "deepnote_output_heights": [
     482
    ],
    "deepnote_to_be_reexecuted": false,
    "source_hash": "23cc1e6f",
    "execution_start": 1642245533045,
    "execution_millis": 288,
    "deepnote_cell_type": "code"
   },
   "source": "plot_confusion_matrix(clf_svm_oh3,\n                      X_test_M3,\n                      y_test_M3,\n                      values_format='d',\n                      display_labels=['0', '1'])\nplt.show()",
   "execution_count": null,
   "outputs": [
    {
     "data": {
      "text/plain": "<Figure size 720x576 with 2 Axes>",
      "image/png": "[encoded data removed]"
     },
     "metadata": {
      "needs_background": "light",
      "image/png": {
       "width": 552,
       "height": 480
      }
     },
     "output_type": "display_data"
    }
   ]
  },
  {
   "cell_type": "markdown",
   "source": "<a style='text-decoration:none;line-height:16px;display:flex;color:#5B5B62;padding:10px;justify-content:end;' href='https://deepnote.com?utm_source=created-in-deepnote-cell&projectId=d9d840c9-75b3-4185-bb01-105f5cca8d83' target=\"_blank\">\n<img alt='Created in deepnote.com' style='display:inline;max-height:16px;margin:0px;margin-right:7.5px;' src='data:image/svg+xml;base64,PD94bWwgdmVyc2lvbj0iMS4wIiBlbmNvZGluZz0iVVRGLTgiPz4KPHN2ZyB3aWR0aD0iODBweCIgaGVpZ2h0PSI4MHB4IiB2aWV3Qm94PSIwIDAgODAgODAiIHZlcnNpb249IjEuMSIgeG1sbnM9Imh0dHA6Ly93d3cudzMub3JnLzIwMDAvc3ZnIiB4bWxuczp4bGluaz0iaHR0cDovL3d3dy53My5vcmcvMTk5OS94bGluayI+CiAgICA8IS0tIEdlbmVyYXRvcjogU2tldGNoIDU0LjEgKDc2NDkwKSAtIGh0dHBzOi8vc2tldGNoYXBwLmNvbSAtLT4KICAgIDx0aXRsZT5Hcm91cCAzPC90aXRsZT4KICAgIDxkZXNjPkNyZWF0ZWQgd2l0aCBTa2V0Y2guPC9kZXNjPgogICAgPGcgaWQ9IkxhbmRpbmciIHN0cm9rZT0ibm9uZSIgc3Ryb2tlLXdpZHRoPSIxIiBmaWxsPSJub25lIiBmaWxsLXJ1bGU9ImV2ZW5vZGQiPgogICAgICAgIDxnIGlkPSJBcnRib2FyZCIgdHJhbnNmb3JtPSJ0cmFuc2xhdGUoLTEyMzUuMDAwMDAwLCAtNzkuMDAwMDAwKSI+CiAgICAgICAgICAgIDxnIGlkPSJHcm91cC0zIiB0cmFuc2Zvcm09InRyYW5zbGF0ZSgxMjM1LjAwMDAwMCwgNzkuMDAwMDAwKSI+CiAgICAgICAgICAgICAgICA8cG9seWdvbiBpZD0iUGF0aC0yMCIgZmlsbD0iIzAyNjVCNCIgcG9pbnRzPSIyLjM3NjIzNzYyIDgwIDM4LjA0NzY2NjcgODAgNTcuODIxNzgyMiA3My44MDU3NTkyIDU3LjgyMTc4MjIgMzIuNzU5MjczOSAzOS4xNDAyMjc4IDMxLjY4MzE2ODMiPjwvcG9seWdvbj4KICAgICAgICAgICAgICAgIDxwYXRoIGQ9Ik0zNS4wMDc3MTgsODAgQzQyLjkwNjIwMDcsNzYuNDU0OTM1OCA0Ny41NjQ5MTY3LDcxLjU0MjI2NzEgNDguOTgzODY2LDY1LjI2MTk5MzkgQzUxLjExMjI4OTksNTUuODQxNTg0MiA0MS42NzcxNzk1LDQ5LjIxMjIyODQgMjUuNjIzOTg0Niw0OS4yMTIyMjg0IEMyNS40ODQ5Mjg5LDQ5LjEyNjg0NDggMjkuODI2MTI5Niw0My4yODM4MjQ4IDM4LjY0NzU4NjksMzEuNjgzMTY4MyBMNzIuODcxMjg3MSwzMi41NTQ0MjUgTDY1LjI4MDk3Myw2Ny42NzYzNDIxIEw1MS4xMTIyODk5LDc3LjM3NjE0NCBMMzUuMDA3NzE4LDgwIFoiIGlkPSJQYXRoLTIyIiBmaWxsPSIjMDAyODY4Ij48L3BhdGg+CiAgICAgICAgICAgICAgICA8cGF0aCBkPSJNMCwzNy43MzA0NDA1IEwyNy4xMTQ1MzcsMC4yNTcxMTE0MzYgQzYyLjM3MTUxMjMsLTEuOTkwNzE3MDEgODAsMTAuNTAwMzkyNyA4MCwzNy43MzA0NDA1IEM4MCw2NC45NjA0ODgyIDY0Ljc3NjUwMzgsNzkuMDUwMzQxNCAzNC4zMjk1MTEzLDgwIEM0Ny4wNTUzNDg5LDc3LjU2NzA4MDggNTMuNDE4MjY3Nyw3MC4zMTM2MTAzIDUzLjQxODI2NzcsNTguMjM5NTg4NSBDNTMuNDE4MjY3Nyw0MC4xMjg1NTU3IDM2LjMwMzk1NDQsMzcuNzMwNDQwNSAyNS4yMjc0MTcsMzcuNzMwNDQwNSBDMTcuODQzMDU4NiwzNy43MzA0NDA1IDkuNDMzOTE5NjYsMzcuNzMwNDQwNSAwLDM3LjczMDQ0MDUgWiIgaWQ9IlBhdGgtMTkiIGZpbGw9IiMzNzkzRUYiPjwvcGF0aD4KICAgICAgICAgICAgPC9nPgogICAgICAgIDwvZz4KICAgIDwvZz4KPC9zdmc+' > </img>\nCreated in <span style='font-weight:600;margin-left:4px;'>Deepnote</span></a>",
   "metadata": {
    "tags": [],
    "created_in_deepnote_cell": true,
    "deepnote_cell_type": "markdown"
   }
  }
 ],
 "nbformat": 4,
 "nbformat_minor": 5,
 "metadata": {
  "kernelspec": {
   "display_name": "Python 3",
   "language": "python",
   "name": "python3"
  },
  "language_info": {
   "codemirror_mode": {
    "name": "ipython",
    "version": 3
   },
   "file_extension": ".py",
   "mimetype": "text/x-python",
   "name": "python",
   "nbconvert_exporter": "python",
   "pygments_lexer": "ipython3",
   "version": "3.8.8"
  },
  "deepnote_notebook_id": "a9d4da2b-a3f8-4524-8356-e7dc161dccdb",
  "deepnote": {},
  "deepnote_execution_queue": []
 }
}