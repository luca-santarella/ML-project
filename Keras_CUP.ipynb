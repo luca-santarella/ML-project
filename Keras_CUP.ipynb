{
 "cells": [
  {
   "cell_type": "code",
   "metadata": {
    "tags": [],
    "cell_id": "00000-aa9ccdef-9d09-4371-b52d-10e76e869af2",
    "deepnote_to_be_reexecuted": false,
    "source_hash": "e3d46f6b",
    "execution_start": 1642776248931,
    "execution_millis": 2,
    "deepnote_output_heights": [
     611
    ],
    "deepnote_cell_type": "code"
   },
   "source": "import pandas as pd\nimport numpy as np\nimport matplotlib.pyplot as plt\nimport keras_tuner as kt\nimport tensorflow as tf\n\nfrom tensorflow.keras.models import Sequential\nfrom tensorflow.keras import layers, activations\nfrom tensorflow.keras import initializers\nfrom tensorflow.keras import regularizers\nfrom tensorflow.keras import backend as K\nfrom tensorflow.keras import optimizers\nfrom tensorflow.keras import utils\n\nfrom sklearn.preprocessing import OneHotEncoder\nfrom sklearn import model_selection ",
   "outputs": [],
   "execution_count": null
  },
  {
   "cell_type": "markdown",
   "source": "# ML-CUP ",
   "metadata": {
    "tags": [],
    "is_collapsed": false,
    "cell_id": "00030-652d04cc-ff37-4ec9-823d-d924466f3707",
    "deepnote_cell_type": "text-cell-h1"
   }
  },
  {
   "cell_type": "code",
   "metadata": {
    "tags": [],
    "cell_id": "00033-b5c86749-c897-4131-b100-7f920381f6f5",
    "deepnote_to_be_reexecuted": false,
    "source_hash": "a5b7cb83",
    "execution_start": 1642777979947,
    "execution_millis": 4,
    "deepnote_cell_type": "code"
   },
   "source": "#define mee loss function \ndef mee(true_target, predicted_target):  # assuming target is 2-dim matrix with x and y as columns\n    l = true_target.shape[0]\n    res = 0\n\n    for p in range(l):  # for p-th pattern in l (number of samples)\n        x_diff = np.square(true_target[p, 0] - predicted_target[p, 0])  # difference between the x value of the true and predicted target\n        y_diff = np.square(\n            true_target[p, 1] - predicted_target[p, 1])  # difference between the y values of true and predicted target\n        sum_term = x_diff + y_diff\n        res = res + np.sqrt(sum_term)\n    res = res / l\n\n    return res",
   "outputs": [],
   "execution_count": null
  },
  {
   "cell_type": "code",
   "metadata": {
    "tags": [],
    "cell_id": "00031-a8188f85-12a2-4b33-9f4e-6c3dc531ce35",
    "deepnote_to_be_reexecuted": false,
    "source_hash": "89530873",
    "execution_start": 1642441938910,
    "execution_millis": 605,
    "deepnote_cell_type": "code"
   },
   "source": "#load training dataset\ncolnames = ['id', 'a1', 'a2', 'a3', 'a4', 'a5', 'a6', 'a7', 'a8', 'a9', 'a10', 'y1', 'y2']\ndf_ml_cup_train = pd.read_csv(\"./data/ML-CUP21-TR.csv\", sep = \",\", skipinitialspace=True, names = colnames)\ndf_ml_cup_train.drop(df_ml_cup_train.index[0:7], axis=0, inplace=True)\ndf_ml_cup_train.head()",
   "outputs": [
    {
     "output_type": "execute_result",
     "execution_count": 149,
     "data": {
      "application/vnd.deepnote.dataframe.v3+json": {
       "column_count": 13,
       "row_count": 5,
       "columns": [
        {
         "name": "id",
         "dtype": "object",
         "stats": {
          "unique_count": 5,
          "nan_count": 0,
          "categories": [
           {
            "name": "1",
            "count": 1
           },
           {
            "name": "2",
            "count": 1
           },
           {
            "name": "3 others",
            "count": 3
           }
          ]
         }
        },
        {
         "name": "a1",
         "dtype": "float64",
         "stats": {
          "unique_count": 5,
          "nan_count": 0,
          "min": "-1.493339",
          "max": "0.612246",
          "histogram": [
           {
            "bin_start": -1.493339,
            "bin_end": -1.2827804999999999,
            "count": 1
           },
           {
            "bin_start": -1.2827804999999999,
            "bin_end": -1.072222,
            "count": 0
           },
           {
            "bin_start": -1.072222,
            "bin_end": -0.8616634999999999,
            "count": 1
           },
           {
            "bin_start": -0.8616634999999999,
            "bin_end": -0.6511049999999999,
            "count": 0
           },
           {
            "bin_start": -0.6511049999999999,
            "bin_end": -0.44054649999999995,
            "count": 0
           },
           {
            "bin_start": -0.44054649999999995,
            "bin_end": -0.22998799999999986,
            "count": 1
           },
           {
            "bin_start": -0.22998799999999986,
            "bin_end": -0.01942949999999999,
            "count": 0
           },
           {
            "bin_start": -0.01942949999999999,
            "bin_end": 0.1911290000000001,
            "count": 0
           },
           {
            "bin_start": 0.1911290000000001,
            "bin_end": 0.4016875000000002,
            "count": 1
           },
           {
            "bin_start": 0.4016875000000002,
            "bin_end": 0.612246,
            "count": 1
           }
          ]
         }
        },
        {
         "name": "a2",
         "dtype": "float64",
         "stats": {
          "unique_count": 5,
          "nan_count": 0,
          "min": "-1.801874",
          "max": "1.992164",
          "histogram": [
           {
            "bin_start": -1.801874,
            "bin_end": -1.4224702,
            "count": 1
           },
           {
            "bin_start": -1.4224702,
            "bin_end": -1.0430663999999998,
            "count": 0
           },
           {
            "bin_start": -1.0430663999999998,
            "bin_end": -0.6636625999999999,
            "count": 0
           },
           {
            "bin_start": -0.6636625999999999,
            "bin_end": -0.2842587999999999,
            "count": 0
           },
           {
            "bin_start": -0.2842587999999999,
            "bin_end": 0.09514500000000004,
            "count": 0
           },
           {
            "bin_start": 0.09514500000000004,
            "bin_end": 0.4745488000000002,
            "count": 2
           },
           {
            "bin_start": 0.4745488000000002,
            "bin_end": 0.8539526000000002,
            "count": 0
           },
           {
            "bin_start": 0.8539526000000002,
            "bin_end": 1.2333564000000001,
            "count": 0
           },
           {
            "bin_start": 1.2333564000000001,
            "bin_end": 1.6127602,
            "count": 1
           },
           {
            "bin_start": 1.6127602,
            "bin_end": 1.992164,
            "count": 1
           }
          ]
         }
        },
        {
         "name": "a3",
         "dtype": "float64",
         "stats": {
          "unique_count": 5,
          "nan_count": 0,
          "min": "-1.116485",
          "max": "1.119434",
          "histogram": [
           {
            "bin_start": -1.116485,
            "bin_end": -0.8928931,
            "count": 1
           },
           {
            "bin_start": -0.8928931,
            "bin_end": -0.6693011999999999,
            "count": 0
           },
           {
            "bin_start": -0.6693011999999999,
            "bin_end": -0.44570929999999986,
            "count": 0
           },
           {
            "bin_start": -0.44570929999999986,
            "bin_end": -0.2221173999999999,
            "count": 0
           },
           {
            "bin_start": -0.2221173999999999,
            "bin_end": 0.0014745000000000452,
            "count": 0
           },
           {
            "bin_start": 0.0014745000000000452,
            "bin_end": 0.22506640000000022,
            "count": 0
           },
           {
            "bin_start": 0.22506640000000022,
            "bin_end": 0.4486583000000002,
            "count": 0
           },
           {
            "bin_start": 0.4486583000000002,
            "bin_end": 0.6722502000000001,
            "count": 1
           },
           {
            "bin_start": 0.6722502000000001,
            "bin_end": 0.8958421000000003,
            "count": 1
           },
           {
            "bin_start": 0.8958421000000003,
            "bin_end": 1.119434,
            "count": 2
           }
          ]
         }
        },
        {
         "name": "a4",
         "dtype": "float64",
         "stats": {
          "unique_count": 5,
          "nan_count": 0,
          "min": "-1.365528",
          "max": "1.25523",
          "histogram": [
           {
            "bin_start": -1.365528,
            "bin_end": -1.1034522,
            "count": 1
           },
           {
            "bin_start": -1.1034522,
            "bin_end": -0.8413764,
            "count": 2
           },
           {
            "bin_start": -0.8413764,
            "bin_end": -0.5793006,
            "count": 1
           },
           {
            "bin_start": -0.5793006,
            "bin_end": -0.3172248,
            "count": 0
           },
           {
            "bin_start": -0.3172248,
            "bin_end": -0.05514899999999989,
            "count": 0
           },
           {
            "bin_start": -0.05514899999999989,
            "bin_end": 0.20692679999999997,
            "count": 0
           },
           {
            "bin_start": 0.20692679999999997,
            "bin_end": 0.46900260000000005,
            "count": 0
           },
           {
            "bin_start": 0.46900260000000005,
            "bin_end": 0.7310784000000001,
            "count": 0
           },
           {
            "bin_start": 0.7310784000000001,
            "bin_end": 0.9931542,
            "count": 0
           },
           {
            "bin_start": 0.9931542,
            "bin_end": 1.25523,
            "count": 1
           }
          ]
         }
        },
        {
         "name": "a5",
         "dtype": "float64",
         "stats": {
          "unique_count": 5,
          "nan_count": 0,
          "min": "-1.021899",
          "max": "1.310392",
          "histogram": [
           {
            "bin_start": -1.021899,
            "bin_end": -0.7886698999999999,
            "count": 1
           },
           {
            "bin_start": -0.7886698999999999,
            "bin_end": -0.5554408,
            "count": 0
           },
           {
            "bin_start": -0.5554408,
            "bin_end": -0.3222117,
            "count": 0
           },
           {
            "bin_start": -0.3222117,
            "bin_end": -0.08898260000000002,
            "count": 0
           },
           {
            "bin_start": -0.08898260000000002,
            "bin_end": 0.14424649999999994,
            "count": 0
           },
           {
            "bin_start": 0.14424649999999994,
            "bin_end": 0.3774755999999999,
            "count": 1
           },
           {
            "bin_start": 0.3774755999999999,
            "bin_end": 0.6107046999999999,
            "count": 1
           },
           {
            "bin_start": 0.6107046999999999,
            "bin_end": 0.8439337999999998,
            "count": 0
           },
           {
            "bin_start": 0.8439337999999998,
            "bin_end": 1.0771628999999998,
            "count": 0
           },
           {
            "bin_start": 1.0771628999999998,
            "bin_end": 1.310392,
            "count": 2
           }
          ]
         }
        },
        {
         "name": "a6",
         "dtype": "float64",
         "stats": {
          "unique_count": 5,
          "nan_count": 0,
          "min": "-1.425146",
          "max": "1.870421",
          "histogram": [
           {
            "bin_start": -1.425146,
            "bin_end": -1.0955892999999999,
            "count": 1
           },
           {
            "bin_start": -1.0955892999999999,
            "bin_end": -0.7660326,
            "count": 0
           },
           {
            "bin_start": -0.7660326,
            "bin_end": -0.4364758999999999,
            "count": 0
           },
           {
            "bin_start": -0.4364758999999999,
            "bin_end": -0.10691919999999988,
            "count": 0
           },
           {
            "bin_start": -0.10691919999999988,
            "bin_end": 0.22263750000000004,
            "count": 0
           },
           {
            "bin_start": 0.22263750000000004,
            "bin_end": 0.5521942000000002,
            "count": 1
           },
           {
            "bin_start": 0.5521942000000002,
            "bin_end": 0.8817509000000003,
            "count": 0
           },
           {
            "bin_start": 0.8817509000000003,
            "bin_end": 1.2113076000000003,
            "count": 1
           },
           {
            "bin_start": 1.2113076000000003,
            "bin_end": 1.5408643000000002,
            "count": 1
           },
           {
            "bin_start": 1.5408643000000002,
            "bin_end": 1.870421,
            "count": 1
           }
          ]
         }
        },
        {
         "name": "a7",
         "dtype": "float64",
         "stats": {
          "unique_count": 5,
          "nan_count": 0,
          "min": "-0.984814",
          "max": "1.029583",
          "histogram": [
           {
            "bin_start": -0.984814,
            "bin_end": -0.7833743,
            "count": 3
           },
           {
            "bin_start": -0.7833743,
            "bin_end": -0.5819346000000001,
            "count": 0
           },
           {
            "bin_start": -0.5819346000000001,
            "bin_end": -0.3804949000000001,
            "count": 1
           },
           {
            "bin_start": -0.3804949000000001,
            "bin_end": -0.17905520000000008,
            "count": 0
           },
           {
            "bin_start": -0.17905520000000008,
            "bin_end": 0.02238449999999992,
            "count": 0
           },
           {
            "bin_start": 0.02238449999999992,
            "bin_end": 0.2238241999999998,
            "count": 0
           },
           {
            "bin_start": 0.2238241999999998,
            "bin_end": 0.4252638999999999,
            "count": 0
           },
           {
            "bin_start": 0.4252638999999999,
            "bin_end": 0.6267035999999998,
            "count": 0
           },
           {
            "bin_start": 0.6267035999999998,
            "bin_end": 0.8281432999999997,
            "count": 0
           },
           {
            "bin_start": 0.8281432999999997,
            "bin_end": 1.029583,
            "count": 1
           }
          ]
         }
        },
        {
         "name": "a8",
         "dtype": "float64",
         "stats": {
          "unique_count": 5,
          "nan_count": 0,
          "min": "-1.712529",
          "max": "1.261154",
          "histogram": [
           {
            "bin_start": -1.712529,
            "bin_end": -1.4151607,
            "count": 1
           },
           {
            "bin_start": -1.4151607,
            "bin_end": -1.1177924,
            "count": 2
           },
           {
            "bin_start": -1.1177924,
            "bin_end": -0.8204240999999999,
            "count": 0
           },
           {
            "bin_start": -0.8204240999999999,
            "bin_end": -0.5230557999999998,
            "count": 0
           },
           {
            "bin_start": -0.5230557999999998,
            "bin_end": -0.22568749999999982,
            "count": 0
           },
           {
            "bin_start": -0.22568749999999982,
            "bin_end": 0.07168080000000021,
            "count": 0
           },
           {
            "bin_start": 0.07168080000000021,
            "bin_end": 0.36904910000000024,
            "count": 1
           },
           {
            "bin_start": 0.36904910000000024,
            "bin_end": 0.6664174000000003,
            "count": 0
           },
           {
            "bin_start": 0.6664174000000003,
            "bin_end": 0.9637857000000003,
            "count": 0
           },
           {
            "bin_start": 0.9637857000000003,
            "bin_end": 1.261154,
            "count": 1
           }
          ]
         }
        },
        {
         "name": "a9",
         "dtype": "float64",
         "stats": {
          "unique_count": 5,
          "nan_count": 0,
          "min": "-2.031158",
          "max": "-0.185208",
          "histogram": [
           {
            "bin_start": -2.031158,
            "bin_end": -1.846563,
            "count": 1
           },
           {
            "bin_start": -1.846563,
            "bin_end": -1.661968,
            "count": 0
           },
           {
            "bin_start": -1.661968,
            "bin_end": -1.477373,
            "count": 0
           },
           {
            "bin_start": -1.477373,
            "bin_end": -1.292778,
            "count": 0
           },
           {
            "bin_start": -1.292778,
            "bin_end": -1.108183,
            "count": 0
           },
           {
            "bin_start": -1.108183,
            "bin_end": -0.9235880000000001,
            "count": 1
           },
           {
            "bin_start": -0.9235880000000001,
            "bin_end": -0.738993,
            "count": 1
           },
           {
            "bin_start": -0.738993,
            "bin_end": -0.554398,
            "count": 1
           },
           {
            "bin_start": -0.554398,
            "bin_end": -0.3698029999999999,
            "count": 0
           },
           {
            "bin_start": -0.3698029999999999,
            "bin_end": -0.185208,
            "count": 1
           }
          ]
         }
        },
        {
         "name": "a10",
         "dtype": "float64",
         "stats": {
          "unique_count": 5,
          "nan_count": 0,
          "min": "-0.61897",
          "max": "1.588863",
          "histogram": [
           {
            "bin_start": -0.61897,
            "bin_end": -0.3981867,
            "count": 2
           },
           {
            "bin_start": -0.3981867,
            "bin_end": -0.17740340000000004,
            "count": 1
           },
           {
            "bin_start": -0.17740340000000004,
            "bin_end": 0.043379899999999916,
            "count": 0
           },
           {
            "bin_start": 0.043379899999999916,
            "bin_end": 0.26416319999999993,
            "count": 1
           },
           {
            "bin_start": 0.26416319999999993,
            "bin_end": 0.48494649999999995,
            "count": 0
           },
           {
            "bin_start": 0.48494649999999995,
            "bin_end": 0.7057297999999999,
            "count": 0
           },
           {
            "bin_start": 0.7057297999999999,
            "bin_end": 0.9265131,
            "count": 0
           },
           {
            "bin_start": 0.9265131,
            "bin_end": 1.1472963999999999,
            "count": 0
           },
           {
            "bin_start": 1.1472963999999999,
            "bin_end": 1.3680796999999998,
            "count": 0
           },
           {
            "bin_start": 1.3680796999999998,
            "bin_end": 1.588863,
            "count": 1
           }
          ]
         }
        },
        {
         "name": "y1",
         "dtype": "float64",
         "stats": {
          "unique_count": 5,
          "nan_count": 0,
          "min": "0.170888",
          "max": "7.259387",
          "histogram": [
           {
            "bin_start": 0.170888,
            "bin_end": 0.8797379000000001,
            "count": 1
           },
           {
            "bin_start": 0.8797379000000001,
            "bin_end": 1.5885878,
            "count": 0
           },
           {
            "bin_start": 1.5885878,
            "bin_end": 2.2974377,
            "count": 0
           },
           {
            "bin_start": 2.2974377,
            "bin_end": 3.0062876000000003,
            "count": 0
           },
           {
            "bin_start": 3.0062876000000003,
            "bin_end": 3.7151375000000004,
            "count": 0
           },
           {
            "bin_start": 3.7151375000000004,
            "bin_end": 4.4239874,
            "count": 1
           },
           {
            "bin_start": 4.4239874,
            "bin_end": 5.1328373,
            "count": 0
           },
           {
            "bin_start": 5.1328373,
            "bin_end": 5.8416872,
            "count": 0
           },
           {
            "bin_start": 5.8416872,
            "bin_end": 6.5505371,
            "count": 1
           },
           {
            "bin_start": 6.5505371,
            "bin_end": 7.259387,
            "count": 2
           }
          ]
         }
        },
        {
         "name": "y2",
         "dtype": "float64",
         "stats": {
          "unique_count": 5,
          "nan_count": 0,
          "min": "-31.529549",
          "max": "-8.768943",
          "histogram": [
           {
            "bin_start": -31.529549,
            "bin_end": -29.2534884,
            "count": 2
           },
           {
            "bin_start": -29.2534884,
            "bin_end": -26.9774278,
            "count": 1
           },
           {
            "bin_start": -26.9774278,
            "bin_end": -24.7013672,
            "count": 1
           },
           {
            "bin_start": -24.7013672,
            "bin_end": -22.4253066,
            "count": 0
           },
           {
            "bin_start": -22.4253066,
            "bin_end": -20.149245999999998,
            "count": 0
           },
           {
            "bin_start": -20.149245999999998,
            "bin_end": -17.873185399999997,
            "count": 0
           },
           {
            "bin_start": -17.873185399999997,
            "bin_end": -15.5971248,
            "count": 0
           },
           {
            "bin_start": -15.5971248,
            "bin_end": -13.321064199999999,
            "count": 0
           },
           {
            "bin_start": -13.321064199999999,
            "bin_end": -11.045003599999998,
            "count": 0
           },
           {
            "bin_start": -11.045003599999998,
            "bin_end": -8.768943,
            "count": 1
           }
          ]
         }
        },
        {
         "name": "_deepnote_index_column",
         "dtype": "int64"
        }
       ],
       "rows": [
        {
         "id": "1",
         "a1": 0.248433,
         "a2": -1.801874,
         "a3": -1.116485,
         "a4": 1.25523,
         "a5": -1.021899,
         "a6": -1.425146,
         "a7": 1.029583,
         "a8": 1.261154,
         "a9": -0.185208,
         "a10": -0.61897,
         "y1": 7.187592,
         "y2": -8.768943,
         "_deepnote_index_column": 7
        },
        {
         "id": "2",
         "a1": 0.612246,
         "a2": 0.369337,
         "a3": 1.119434,
         "a4": -0.689106,
         "a5": 0.451776,
         "a6": 1.308115,
         "a7": -0.518925,
         "a8": 0.129025,
         "a9": -0.558788,
         "a10": 1.588863,
         "y1": 0.170888,
         "y2": -25.895562,
         "_deepnote_index_column": 8
        },
        {
         "id": "3",
         "a1": -0.974871,
         "a2": 0.275613,
         "a3": 1.106435,
         "a4": -0.867804,
         "a5": 0.230839,
         "a6": 1.870421,
         "a7": -0.794584,
         "a8": -1.712529,
         "a9": -0.935208,
         "a10": 0.109706,
         "y1": 4.167006,
         "y2": -29.062891,
         "_deepnote_index_column": 9
        },
        {
         "id": "4",
         "a1": -1.493339,
         "a2": 1.992164,
         "a3": 0.609691,
         "a4": -1.001476,
         "a5": 1.268201,
         "a6": 0.516364,
         "a7": -0.984814,
         "a8": -1.16944,
         "a9": -0.765422,
         "a10": -0.487069,
         "y1": 7.259387,
         "y2": -31.529549,
         "_deepnote_index_column": 10
        },
        {
         "id": "5",
         "a1": -0.432028,
         "a2": 1.592409,
         "a3": 0.853561,
         "a4": -1.365528,
         "a5": 1.310392,
         "a6": 0.954528,
         "a7": -0.946305,
         "a8": -1.269243,
         "a9": -2.031158,
         "a10": -0.227847,
         "y1": 5.94143,
         "y2": -30.540759,
         "_deepnote_index_column": 11
        }
       ]
      },
      "text/plain": "   id        a1        a2        a3        a4        a5        a6        a7  \\\n7   1  0.248433 -1.801874 -1.116485  1.255230 -1.021899 -1.425146  1.029583   \n8   2  0.612246  0.369337  1.119434 -0.689106  0.451776  1.308115 -0.518925   \n9   3 -0.974871  0.275613  1.106435 -0.867804  0.230839  1.870421 -0.794584   \n10  4 -1.493339  1.992164  0.609691 -1.001476  1.268201  0.516364 -0.984814   \n11  5 -0.432028  1.592409  0.853561 -1.365528  1.310392  0.954528 -0.946305   \n\n          a8        a9       a10        y1         y2  \n7   1.261154 -0.185208 -0.618970  7.187592  -8.768943  \n8   0.129025 -0.558788  1.588863  0.170888 -25.895562  \n9  -1.712529 -0.935208  0.109706  4.167006 -29.062891  \n10 -1.169440 -0.765422 -0.487069  7.259387 -31.529549  \n11 -1.269243 -2.031158 -0.227847  5.941430 -30.540759  ",
      "text/html": "<div>\n<style scoped>\n    .dataframe tbody tr th:only-of-type {\n        vertical-align: middle;\n    }\n\n    .dataframe tbody tr th {\n        vertical-align: top;\n    }\n\n    .dataframe thead th {\n        text-align: right;\n    }\n</style>\n<table border=\"1\" class=\"dataframe\">\n  <thead>\n    <tr style=\"text-align: right;\">\n      <th></th>\n      <th>id</th>\n      <th>a1</th>\n      <th>a2</th>\n      <th>a3</th>\n      <th>a4</th>\n      <th>a5</th>\n      <th>a6</th>\n      <th>a7</th>\n      <th>a8</th>\n      <th>a9</th>\n      <th>a10</th>\n      <th>y1</th>\n      <th>y2</th>\n    </tr>\n  </thead>\n  <tbody>\n    <tr>\n      <th>7</th>\n      <td>1</td>\n      <td>0.248433</td>\n      <td>-1.801874</td>\n      <td>-1.116485</td>\n      <td>1.255230</td>\n      <td>-1.021899</td>\n      <td>-1.425146</td>\n      <td>1.029583</td>\n      <td>1.261154</td>\n      <td>-0.185208</td>\n      <td>-0.618970</td>\n      <td>7.187592</td>\n      <td>-8.768943</td>\n    </tr>\n    <tr>\n      <th>8</th>\n      <td>2</td>\n      <td>0.612246</td>\n      <td>0.369337</td>\n      <td>1.119434</td>\n      <td>-0.689106</td>\n      <td>0.451776</td>\n      <td>1.308115</td>\n      <td>-0.518925</td>\n      <td>0.129025</td>\n      <td>-0.558788</td>\n      <td>1.588863</td>\n      <td>0.170888</td>\n      <td>-25.895562</td>\n    </tr>\n    <tr>\n      <th>9</th>\n      <td>3</td>\n      <td>-0.974871</td>\n      <td>0.275613</td>\n      <td>1.106435</td>\n      <td>-0.867804</td>\n      <td>0.230839</td>\n      <td>1.870421</td>\n      <td>-0.794584</td>\n      <td>-1.712529</td>\n      <td>-0.935208</td>\n      <td>0.109706</td>\n      <td>4.167006</td>\n      <td>-29.062891</td>\n    </tr>\n    <tr>\n      <th>10</th>\n      <td>4</td>\n      <td>-1.493339</td>\n      <td>1.992164</td>\n      <td>0.609691</td>\n      <td>-1.001476</td>\n      <td>1.268201</td>\n      <td>0.516364</td>\n      <td>-0.984814</td>\n      <td>-1.169440</td>\n      <td>-0.765422</td>\n      <td>-0.487069</td>\n      <td>7.259387</td>\n      <td>-31.529549</td>\n    </tr>\n    <tr>\n      <th>11</th>\n      <td>5</td>\n      <td>-0.432028</td>\n      <td>1.592409</td>\n      <td>0.853561</td>\n      <td>-1.365528</td>\n      <td>1.310392</td>\n      <td>0.954528</td>\n      <td>-0.946305</td>\n      <td>-1.269243</td>\n      <td>-2.031158</td>\n      <td>-0.227847</td>\n      <td>5.941430</td>\n      <td>-30.540759</td>\n    </tr>\n  </tbody>\n</table>\n</div>"
     },
     "metadata": {}
    }
   ],
   "execution_count": null
  },
  {
   "cell_type": "code",
   "metadata": {
    "tags": [],
    "cell_id": "00032-e3a1c786-d668-46ff-9468-ee321bfc01e6",
    "deepnote_to_be_reexecuted": false,
    "source_hash": "aeba41d2",
    "execution_start": 1642441939524,
    "execution_millis": 74,
    "deepnote_output_heights": [
     271
    ],
    "deepnote_cell_type": "code"
   },
   "source": "#check for mull values \npd.isnull(df_ml_cup_train).sum()",
   "outputs": [
    {
     "output_type": "execute_result",
     "execution_count": 150,
     "data": {
      "text/plain": "id     0\na1     0\na2     0\na3     0\na4     0\na5     0\na6     0\na7     0\na8     0\na9     0\na10    0\ny1     0\ny2     0\ndtype: int64"
     },
     "metadata": {}
    }
   ],
   "execution_count": null
  },
  {
   "cell_type": "code",
   "metadata": {
    "tags": [],
    "cell_id": "00033-92d653bf-f48b-4adc-a2e5-dc38ff023258",
    "deepnote_to_be_reexecuted": false,
    "source_hash": "ee059543",
    "execution_start": 1642441939603,
    "execution_millis": 415,
    "deepnote_cell_type": "code"
   },
   "source": "df_ml_cup_train.describe(include='all')",
   "outputs": [
    {
     "output_type": "execute_result",
     "execution_count": 151,
     "data": {
      "application/vnd.deepnote.dataframe.v3+json": {
       "column_count": 13,
       "row_count": 11,
       "columns": [
        {
         "name": "id",
         "dtype": "object",
         "stats": {
          "unique_count": 3,
          "nan_count": 7,
          "categories": [
           {
            "name": "1477",
            "count": 2
           },
           {
            "name": "2 others",
            "count": 2
           },
           {
            "name": "Missing",
            "count": 7
           }
          ]
         }
        },
        {
         "name": "a1",
         "dtype": "float64",
         "stats": {
          "unique_count": 8,
          "nan_count": 3,
          "min": "-2.526427",
          "max": "1477.0",
          "histogram": [
           {
            "bin_start": -2.526427,
            "bin_end": 145.4262157,
            "count": 7
           },
           {
            "bin_start": 145.4262157,
            "bin_end": 293.3788584,
            "count": 0
           },
           {
            "bin_start": 293.3788584,
            "bin_end": 441.3315011,
            "count": 0
           },
           {
            "bin_start": 441.3315011,
            "bin_end": 589.2841438,
            "count": 0
           },
           {
            "bin_start": 589.2841438,
            "bin_end": 737.2367865000001,
            "count": 0
           },
           {
            "bin_start": 737.2367865000001,
            "bin_end": 885.1894292000001,
            "count": 0
           },
           {
            "bin_start": 885.1894292000001,
            "bin_end": 1033.1420719,
            "count": 0
           },
           {
            "bin_start": 1033.1420719,
            "bin_end": 1181.0947146,
            "count": 0
           },
           {
            "bin_start": 1181.0947146,
            "bin_end": 1329.0473573000002,
            "count": 0
           },
           {
            "bin_start": 1329.0473573000002,
            "bin_end": 1477,
            "count": 1
           }
          ]
         }
        },
        {
         "name": "a2",
         "dtype": "float64",
         "stats": {
          "unique_count": 8,
          "nan_count": 3,
          "min": "-1.918939",
          "max": "1477.0",
          "histogram": [
           {
            "bin_start": -1.918939,
            "bin_end": 145.9729549,
            "count": 7
           },
           {
            "bin_start": 145.9729549,
            "bin_end": 293.86484879999995,
            "count": 0
           },
           {
            "bin_start": 293.86484879999995,
            "bin_end": 441.7567426999999,
            "count": 0
           },
           {
            "bin_start": 441.7567426999999,
            "bin_end": 589.6486365999999,
            "count": 0
           },
           {
            "bin_start": 589.6486365999999,
            "bin_end": 737.5405304999999,
            "count": 0
           },
           {
            "bin_start": 737.5405304999999,
            "bin_end": 885.4324243999998,
            "count": 0
           },
           {
            "bin_start": 885.4324243999998,
            "bin_end": 1033.3243183,
            "count": 0
           },
           {
            "bin_start": 1033.3243183,
            "bin_end": 1181.2162122,
            "count": 0
           },
           {
            "bin_start": 1181.2162122,
            "bin_end": 1329.1081061,
            "count": 0
           },
           {
            "bin_start": 1329.1081061,
            "bin_end": 1477,
            "count": 1
           }
          ]
         }
        },
        {
         "name": "a3",
         "dtype": "float64",
         "stats": {
          "unique_count": 8,
          "nan_count": 3,
          "min": "-2.42089",
          "max": "1477.0",
          "histogram": [
           {
            "bin_start": -2.42089,
            "bin_end": 145.52119900000002,
            "count": 7
           },
           {
            "bin_start": 145.52119900000002,
            "bin_end": 293.46328800000003,
            "count": 0
           },
           {
            "bin_start": 293.46328800000003,
            "bin_end": 441.40537700000004,
            "count": 0
           },
           {
            "bin_start": 441.40537700000004,
            "bin_end": 589.347466,
            "count": 0
           },
           {
            "bin_start": 589.347466,
            "bin_end": 737.2895550000001,
            "count": 0
           },
           {
            "bin_start": 737.2895550000001,
            "bin_end": 885.2316440000001,
            "count": 0
           },
           {
            "bin_start": 885.2316440000001,
            "bin_end": 1033.1737329999999,
            "count": 0
           },
           {
            "bin_start": 1033.1737329999999,
            "bin_end": 1181.115822,
            "count": 0
           },
           {
            "bin_start": 1181.115822,
            "bin_end": 1329.057911,
            "count": 0
           },
           {
            "bin_start": 1329.057911,
            "bin_end": 1477,
            "count": 1
           }
          ]
         }
        },
        {
         "name": "a4",
         "dtype": "float64",
         "stats": {
          "unique_count": 8,
          "nan_count": 3,
          "min": "-1.946351",
          "max": "1477.0",
          "histogram": [
           {
            "bin_start": -1.946351,
            "bin_end": 145.94828410000002,
            "count": 7
           },
           {
            "bin_start": 145.94828410000002,
            "bin_end": 293.84291920000004,
            "count": 0
           },
           {
            "bin_start": 293.84291920000004,
            "bin_end": 441.73755430000006,
            "count": 0
           },
           {
            "bin_start": 441.73755430000006,
            "bin_end": 589.6321894,
            "count": 0
           },
           {
            "bin_start": 589.6321894,
            "bin_end": 737.5268245,
            "count": 0
           },
           {
            "bin_start": 737.5268245,
            "bin_end": 885.4214596,
            "count": 0
           },
           {
            "bin_start": 885.4214596,
            "bin_end": 1033.3160947000001,
            "count": 0
           },
           {
            "bin_start": 1033.3160947000001,
            "bin_end": 1181.2107298,
            "count": 0
           },
           {
            "bin_start": 1181.2107298,
            "bin_end": 1329.1053649,
            "count": 0
           },
           {
            "bin_start": 1329.1053649,
            "bin_end": 1477,
            "count": 1
           }
          ]
         }
        },
        {
         "name": "a5",
         "dtype": "float64",
         "stats": {
          "unique_count": 8,
          "nan_count": 3,
          "min": "-1.897417",
          "max": "1477.0",
          "histogram": [
           {
            "bin_start": -1.897417,
            "bin_end": 145.9923247,
            "count": 7
           },
           {
            "bin_start": 145.9923247,
            "bin_end": 293.8820664,
            "count": 0
           },
           {
            "bin_start": 293.8820664,
            "bin_end": 441.7718081,
            "count": 0
           },
           {
            "bin_start": 441.7718081,
            "bin_end": 589.6615498,
            "count": 0
           },
           {
            "bin_start": 589.6615498,
            "bin_end": 737.5512915,
            "count": 0
           },
           {
            "bin_start": 737.5512915,
            "bin_end": 885.4410332,
            "count": 0
           },
           {
            "bin_start": 885.4410332,
            "bin_end": 1033.3307749,
            "count": 0
           },
           {
            "bin_start": 1033.3307749,
            "bin_end": 1181.2205166,
            "count": 0
           },
           {
            "bin_start": 1181.2205166,
            "bin_end": 1329.1102583000002,
            "count": 0
           },
           {
            "bin_start": 1329.1102583000002,
            "bin_end": 1477,
            "count": 1
           }
          ]
         }
        },
        {
         "name": "a6",
         "dtype": "float64",
         "stats": {
          "unique_count": 8,
          "nan_count": 3,
          "min": "-2.040401",
          "max": "1477.0",
          "histogram": [
           {
            "bin_start": -2.040401,
            "bin_end": 145.8636391,
            "count": 7
           },
           {
            "bin_start": 145.8636391,
            "bin_end": 293.76767920000003,
            "count": 0
           },
           {
            "bin_start": 293.76767920000003,
            "bin_end": 441.67171930000006,
            "count": 0
           },
           {
            "bin_start": 441.67171930000006,
            "bin_end": 589.5757594,
            "count": 0
           },
           {
            "bin_start": 589.5757594,
            "bin_end": 737.4797995,
            "count": 0
           },
           {
            "bin_start": 737.4797995,
            "bin_end": 885.3838396000001,
            "count": 0
           },
           {
            "bin_start": 885.3838396000001,
            "bin_end": 1033.2878797,
            "count": 0
           },
           {
            "bin_start": 1033.2878797,
            "bin_end": 1181.1919198,
            "count": 0
           },
           {
            "bin_start": 1181.1919198,
            "bin_end": 1329.0959599,
            "count": 0
           },
           {
            "bin_start": 1329.0959599,
            "bin_end": 1477,
            "count": 1
           }
          ]
         }
        },
        {
         "name": "a7",
         "dtype": "float64",
         "stats": {
          "unique_count": 8,
          "nan_count": 3,
          "min": "-1.91966",
          "max": "1477.0",
          "histogram": [
           {
            "bin_start": -1.91966,
            "bin_end": 145.972306,
            "count": 7
           },
           {
            "bin_start": 145.972306,
            "bin_end": 293.86427199999997,
            "count": 0
           },
           {
            "bin_start": 293.86427199999997,
            "bin_end": 441.75623799999994,
            "count": 0
           },
           {
            "bin_start": 441.75623799999994,
            "bin_end": 589.648204,
            "count": 0
           },
           {
            "bin_start": 589.648204,
            "bin_end": 737.54017,
            "count": 0
           },
           {
            "bin_start": 737.54017,
            "bin_end": 885.4321359999999,
            "count": 0
           },
           {
            "bin_start": 885.4321359999999,
            "bin_end": 1033.324102,
            "count": 0
           },
           {
            "bin_start": 1033.324102,
            "bin_end": 1181.216068,
            "count": 0
           },
           {
            "bin_start": 1181.216068,
            "bin_end": 1329.1080339999999,
            "count": 0
           },
           {
            "bin_start": 1329.1080339999999,
            "bin_end": 1477,
            "count": 1
           }
          ]
         }
        },
        {
         "name": "a8",
         "dtype": "float64",
         "stats": {
          "unique_count": 8,
          "nan_count": 3,
          "min": "-2.095531",
          "max": "1477.0",
          "histogram": [
           {
            "bin_start": -2.095531,
            "bin_end": 145.8140221,
            "count": 7
           },
           {
            "bin_start": 145.8140221,
            "bin_end": 293.72357519999997,
            "count": 0
           },
           {
            "bin_start": 293.72357519999997,
            "bin_end": 441.63312829999995,
            "count": 0
           },
           {
            "bin_start": 441.63312829999995,
            "bin_end": 589.5426813999999,
            "count": 0
           },
           {
            "bin_start": 589.5426813999999,
            "bin_end": 737.4522344999999,
            "count": 0
           },
           {
            "bin_start": 737.4522344999999,
            "bin_end": 885.3617875999998,
            "count": 0
           },
           {
            "bin_start": 885.3617875999998,
            "bin_end": 1033.2713406999999,
            "count": 0
           },
           {
            "bin_start": 1033.2713406999999,
            "bin_end": 1181.1808938,
            "count": 0
           },
           {
            "bin_start": 1181.1808938,
            "bin_end": 1329.0904469,
            "count": 0
           },
           {
            "bin_start": 1329.0904469,
            "bin_end": 1477,
            "count": 1
           }
          ]
         }
        },
        {
         "name": "a9",
         "dtype": "float64",
         "stats": {
          "unique_count": 8,
          "nan_count": 3,
          "min": "-2.242666",
          "max": "1477.0",
          "histogram": [
           {
            "bin_start": -2.242666,
            "bin_end": 145.68160060000002,
            "count": 7
           },
           {
            "bin_start": 145.68160060000002,
            "bin_end": 293.60586720000003,
            "count": 0
           },
           {
            "bin_start": 293.60586720000003,
            "bin_end": 441.53013380000004,
            "count": 0
           },
           {
            "bin_start": 441.53013380000004,
            "bin_end": 589.4544004,
            "count": 0
           },
           {
            "bin_start": 589.4544004,
            "bin_end": 737.3786670000001,
            "count": 0
           },
           {
            "bin_start": 737.3786670000001,
            "bin_end": 885.3029336000001,
            "count": 0
           },
           {
            "bin_start": 885.3029336000001,
            "bin_end": 1033.2272002,
            "count": 0
           },
           {
            "bin_start": 1033.2272002,
            "bin_end": 1181.1514668,
            "count": 0
           },
           {
            "bin_start": 1181.1514668,
            "bin_end": 1329.0757334,
            "count": 0
           },
           {
            "bin_start": 1329.0757334,
            "bin_end": 1477,
            "count": 1
           }
          ]
         }
        },
        {
         "name": "a10",
         "dtype": "float64",
         "stats": {
          "unique_count": 8,
          "nan_count": 3,
          "min": "-2.847029",
          "max": "1477.0",
          "histogram": [
           {
            "bin_start": -2.847029,
            "bin_end": 145.1376739,
            "count": 7
           },
           {
            "bin_start": 145.1376739,
            "bin_end": 293.1223768,
            "count": 0
           },
           {
            "bin_start": 293.1223768,
            "bin_end": 441.1070797,
            "count": 0
           },
           {
            "bin_start": 441.1070797,
            "bin_end": 589.0917826,
            "count": 0
           },
           {
            "bin_start": 589.0917826,
            "bin_end": 737.0764855,
            "count": 0
           },
           {
            "bin_start": 737.0764855,
            "bin_end": 885.0611884,
            "count": 0
           },
           {
            "bin_start": 885.0611884,
            "bin_end": 1033.0458913,
            "count": 0
           },
           {
            "bin_start": 1033.0458913,
            "bin_end": 1181.0305942,
            "count": 0
           },
           {
            "bin_start": 1181.0305942,
            "bin_end": 1329.0152971,
            "count": 0
           },
           {
            "bin_start": 1329.0152971,
            "bin_end": 1477,
            "count": 1
           }
          ]
         }
        },
        {
         "name": "y1",
         "dtype": "float64",
         "stats": {
          "unique_count": 8,
          "nan_count": 3,
          "min": "-2.100573",
          "max": "1477.0",
          "histogram": [
           {
            "bin_start": -2.100573,
            "bin_end": 145.8094843,
            "count": 7
           },
           {
            "bin_start": 145.8094843,
            "bin_end": 293.7195416,
            "count": 0
           },
           {
            "bin_start": 293.7195416,
            "bin_end": 441.6295989,
            "count": 0
           },
           {
            "bin_start": 441.6295989,
            "bin_end": 589.5396562,
            "count": 0
           },
           {
            "bin_start": 589.5396562,
            "bin_end": 737.4497135,
            "count": 0
           },
           {
            "bin_start": 737.4497135,
            "bin_end": 885.3597708,
            "count": 0
           },
           {
            "bin_start": 885.3597708,
            "bin_end": 1033.2698281,
            "count": 0
           },
           {
            "bin_start": 1033.2698281,
            "bin_end": 1181.1798854,
            "count": 0
           },
           {
            "bin_start": 1181.1798854,
            "bin_end": 1329.0899427000002,
            "count": 0
           },
           {
            "bin_start": 1329.0899427000002,
            "bin_end": 1477,
            "count": 1
           }
          ]
         }
        },
        {
         "name": "y2",
         "dtype": "float64",
         "stats": {
          "unique_count": 8,
          "nan_count": 3,
          "min": "-31.773589",
          "max": "1477.0",
          "histogram": [
           {
            "bin_start": -31.773589,
            "bin_end": 119.10376989999999,
            "count": 7
           },
           {
            "bin_start": 119.10376989999999,
            "bin_end": 269.98112879999996,
            "count": 0
           },
           {
            "bin_start": 269.98112879999996,
            "bin_end": 420.85848769999996,
            "count": 0
           },
           {
            "bin_start": 420.85848769999996,
            "bin_end": 571.7358466,
            "count": 0
           },
           {
            "bin_start": 571.7358466,
            "bin_end": 722.6132054999999,
            "count": 0
           },
           {
            "bin_start": 722.6132054999999,
            "bin_end": 873.4905643999999,
            "count": 0
           },
           {
            "bin_start": 873.4905643999999,
            "bin_end": 1024.3679233,
            "count": 0
           },
           {
            "bin_start": 1024.3679233,
            "bin_end": 1175.2452822,
            "count": 0
           },
           {
            "bin_start": 1175.2452822,
            "bin_end": 1326.1226411,
            "count": 0
           },
           {
            "bin_start": 1326.1226411,
            "bin_end": 1477,
            "count": 1
           }
          ]
         }
        },
        {
         "name": "_deepnote_index_column",
         "dtype": "object"
        }
       ],
       "rows": [
        {
         "id": "1477",
         "a1": 1477,
         "a2": 1477,
         "a3": 1477,
         "a4": 1477,
         "a5": 1477,
         "a6": 1477,
         "a7": 1477,
         "a8": 1477,
         "a9": 1477,
         "a10": 1477,
         "y1": 1477,
         "y2": 1477,
         "_deepnote_index_column": "count"
        },
        {
         "id": "1477",
         "a1": "nan",
         "a2": "nan",
         "a3": "nan",
         "a4": "nan",
         "a5": "nan",
         "a6": "nan",
         "a7": "nan",
         "a8": "nan",
         "a9": "nan",
         "a10": "nan",
         "y1": "nan",
         "y2": "nan",
         "_deepnote_index_column": "unique"
        },
        {
         "id": "845",
         "a1": "nan",
         "a2": "nan",
         "a3": "nan",
         "a4": "nan",
         "a5": "nan",
         "a6": "nan",
         "a7": "nan",
         "a8": "nan",
         "a9": "nan",
         "a10": "nan",
         "y1": "nan",
         "y2": "nan",
         "_deepnote_index_column": "top"
        },
        {
         "id": "1",
         "a1": "nan",
         "a2": "nan",
         "a3": "nan",
         "a4": "nan",
         "a5": "nan",
         "a6": "nan",
         "a7": "nan",
         "a8": "nan",
         "a9": "nan",
         "a10": "nan",
         "y1": "nan",
         "y2": "nan",
         "_deepnote_index_column": "freq"
        },
        {
         "id": "nan",
         "a1": 0.2555791895734597,
         "a2": 0.0026539174001354074,
         "a3": 0.13318372511848342,
         "a4": 0.034345822613405554,
         "a5": -0.07382275693974273,
         "a6": 0.13099046784021665,
         "a7": 0.03004810832769127,
         "a8": 0.09964635409614082,
         "a9": 0.13099052335815844,
         "a10": 0.21029417603249834,
         "y1": 2.7955249559918753,
         "y2": -20.028458277589706,
         "_deepnote_index_column": "mean"
        },
        {
         "id": "nan",
         "a1": 0.9560715304382357,
         "a2": 0.9396282087241837,
         "a3": 1.0526601211631375,
         "a4": 0.9869816779061668,
         "a5": 0.8307586458654215,
         "a6": 1.0301703358478476,
         "a7": 0.9694674473207049,
         "a8": 0.9845232671145109,
         "a9": 0.9992241825638937,
         "a10": 0.9976322693936625,
         "y1": 2.985242038279802,
         "y2": 7.3394478981885,
         "_deepnote_index_column": "std"
        },
        {
         "id": "nan",
         "a1": -2.526427,
         "a2": -1.918939,
         "a3": -2.42089,
         "a4": -1.946351,
         "a5": -1.897417,
         "a6": -2.040401,
         "a7": -1.91966,
         "a8": -2.095531,
         "a9": -2.242666,
         "a10": -2.847029,
         "y1": -2.100573,
         "y2": -31.773589,
         "_deepnote_index_column": "min"
        },
        {
         "id": "nan",
         "a1": -0.402794,
         "a2": -0.861932,
         "a3": -0.766079,
         "a4": -0.908341,
         "a5": -0.802577,
         "a6": -0.823261,
         "a7": -0.916722,
         "a8": -0.804613,
         "a9": -0.804494,
         "a10": -0.490529,
         "y1": 0.041258,
         "y2": -26.885766,
         "_deepnote_index_column": "25%"
        },
        {
         "id": "nan",
         "a1": 0.198597,
         "a2": 0.058046,
         "a3": 0.193591,
         "a4": 0.140195,
         "a5": -0.022032,
         "a6": 0.19501,
         "a7": 0.130275,
         "a8": 0.282215,
         "a9": 0.326109,
         "a10": 0.003434,
         "y1": 2.739887,
         "y2": -19.944627,
         "_deepnote_index_column": "50%"
        },
        {
         "id": "nan",
         "a1": 0.880185,
         "a2": 0.755629,
         "a3": 1.064669,
         "a4": 0.878915,
         "a5": 0.60593,
         "a6": 1.035666,
         "a7": 0.85568,
         "a8": 0.924605,
         "a9": 0.891953,
         "a10": 1.046291,
         "y1": 5.415537,
         "y2": -13.58864,
         "_deepnote_index_column": "75%"
        }
       ]
      },
      "text/plain": "          id           a1           a2           a3           a4           a5  \\\ncount   1477  1477.000000  1477.000000  1477.000000  1477.000000  1477.000000   \nunique  1477          NaN          NaN          NaN          NaN          NaN   \ntop      845          NaN          NaN          NaN          NaN          NaN   \nfreq       1          NaN          NaN          NaN          NaN          NaN   \nmean     NaN     0.255579     0.002654     0.133184     0.034346    -0.073823   \nstd      NaN     0.956072     0.939628     1.052660     0.986982     0.830759   \nmin      NaN    -2.526427    -1.918939    -2.420890    -1.946351    -1.897417   \n25%      NaN    -0.402794    -0.861932    -0.766079    -0.908341    -0.802577   \n50%      NaN     0.198597     0.058046     0.193591     0.140195    -0.022032   \n75%      NaN     0.880185     0.755629     1.064669     0.878915     0.605930   \nmax      NaN     2.501544     2.464911     2.329639     2.327658     1.885105   \n\n                 a6           a7           a8           a9          a10  \\\ncount   1477.000000  1477.000000  1477.000000  1477.000000  1477.000000   \nunique          NaN          NaN          NaN          NaN          NaN   \ntop             NaN          NaN          NaN          NaN          NaN   \nfreq            NaN          NaN          NaN          NaN          NaN   \nmean       0.130990     0.030048     0.099646     0.130991     0.210294   \nstd        1.030170     0.969467     0.984523     0.999224     0.997632   \nmin       -2.040401    -1.919660    -2.095531    -2.242666    -2.847029   \n25%       -0.823261    -0.916722    -0.804613    -0.804494    -0.490529   \n50%        0.195010     0.130275     0.282215     0.326109     0.003434   \n75%        1.035666     0.855680     0.924605     0.891953     1.046291   \nmax        2.282652     2.110213     2.048281     2.258689     2.819043   \n\n                 y1           y2  \ncount   1477.000000  1477.000000  \nunique          NaN          NaN  \ntop             NaN          NaN  \nfreq            NaN          NaN  \nmean       2.795525   -20.028458  \nstd        2.985242     7.339448  \nmin       -2.100573   -31.773589  \n25%        0.041258   -26.885766  \n50%        2.739887   -19.944627  \n75%        5.415537   -13.588640  \nmax        8.593776    -7.389552  ",
      "text/html": "<div>\n<style scoped>\n    .dataframe tbody tr th:only-of-type {\n        vertical-align: middle;\n    }\n\n    .dataframe tbody tr th {\n        vertical-align: top;\n    }\n\n    .dataframe thead th {\n        text-align: right;\n    }\n</style>\n<table border=\"1\" class=\"dataframe\">\n  <thead>\n    <tr style=\"text-align: right;\">\n      <th></th>\n      <th>id</th>\n      <th>a1</th>\n      <th>a2</th>\n      <th>a3</th>\n      <th>a4</th>\n      <th>a5</th>\n      <th>a6</th>\n      <th>a7</th>\n      <th>a8</th>\n      <th>a9</th>\n      <th>a10</th>\n      <th>y1</th>\n      <th>y2</th>\n    </tr>\n  </thead>\n  <tbody>\n    <tr>\n      <th>count</th>\n      <td>1477</td>\n      <td>1477.000000</td>\n      <td>1477.000000</td>\n      <td>1477.000000</td>\n      <td>1477.000000</td>\n      <td>1477.000000</td>\n      <td>1477.000000</td>\n      <td>1477.000000</td>\n      <td>1477.000000</td>\n      <td>1477.000000</td>\n      <td>1477.000000</td>\n      <td>1477.000000</td>\n      <td>1477.000000</td>\n    </tr>\n    <tr>\n      <th>unique</th>\n      <td>1477</td>\n      <td>NaN</td>\n      <td>NaN</td>\n      <td>NaN</td>\n      <td>NaN</td>\n      <td>NaN</td>\n      <td>NaN</td>\n      <td>NaN</td>\n      <td>NaN</td>\n      <td>NaN</td>\n      <td>NaN</td>\n      <td>NaN</td>\n      <td>NaN</td>\n    </tr>\n    <tr>\n      <th>top</th>\n      <td>845</td>\n      <td>NaN</td>\n      <td>NaN</td>\n      <td>NaN</td>\n      <td>NaN</td>\n      <td>NaN</td>\n      <td>NaN</td>\n      <td>NaN</td>\n      <td>NaN</td>\n      <td>NaN</td>\n      <td>NaN</td>\n      <td>NaN</td>\n      <td>NaN</td>\n    </tr>\n    <tr>\n      <th>freq</th>\n      <td>1</td>\n      <td>NaN</td>\n      <td>NaN</td>\n      <td>NaN</td>\n      <td>NaN</td>\n      <td>NaN</td>\n      <td>NaN</td>\n      <td>NaN</td>\n      <td>NaN</td>\n      <td>NaN</td>\n      <td>NaN</td>\n      <td>NaN</td>\n      <td>NaN</td>\n    </tr>\n    <tr>\n      <th>mean</th>\n      <td>NaN</td>\n      <td>0.255579</td>\n      <td>0.002654</td>\n      <td>0.133184</td>\n      <td>0.034346</td>\n      <td>-0.073823</td>\n      <td>0.130990</td>\n      <td>0.030048</td>\n      <td>0.099646</td>\n      <td>0.130991</td>\n      <td>0.210294</td>\n      <td>2.795525</td>\n      <td>-20.028458</td>\n    </tr>\n    <tr>\n      <th>std</th>\n      <td>NaN</td>\n      <td>0.956072</td>\n      <td>0.939628</td>\n      <td>1.052660</td>\n      <td>0.986982</td>\n      <td>0.830759</td>\n      <td>1.030170</td>\n      <td>0.969467</td>\n      <td>0.984523</td>\n      <td>0.999224</td>\n      <td>0.997632</td>\n      <td>2.985242</td>\n      <td>7.339448</td>\n    </tr>\n    <tr>\n      <th>min</th>\n      <td>NaN</td>\n      <td>-2.526427</td>\n      <td>-1.918939</td>\n      <td>-2.420890</td>\n      <td>-1.946351</td>\n      <td>-1.897417</td>\n      <td>-2.040401</td>\n      <td>-1.919660</td>\n      <td>-2.095531</td>\n      <td>-2.242666</td>\n      <td>-2.847029</td>\n      <td>-2.100573</td>\n      <td>-31.773589</td>\n    </tr>\n    <tr>\n      <th>25%</th>\n      <td>NaN</td>\n      <td>-0.402794</td>\n      <td>-0.861932</td>\n      <td>-0.766079</td>\n      <td>-0.908341</td>\n      <td>-0.802577</td>\n      <td>-0.823261</td>\n      <td>-0.916722</td>\n      <td>-0.804613</td>\n      <td>-0.804494</td>\n      <td>-0.490529</td>\n      <td>0.041258</td>\n      <td>-26.885766</td>\n    </tr>\n    <tr>\n      <th>50%</th>\n      <td>NaN</td>\n      <td>0.198597</td>\n      <td>0.058046</td>\n      <td>0.193591</td>\n      <td>0.140195</td>\n      <td>-0.022032</td>\n      <td>0.195010</td>\n      <td>0.130275</td>\n      <td>0.282215</td>\n      <td>0.326109</td>\n      <td>0.003434</td>\n      <td>2.739887</td>\n      <td>-19.944627</td>\n    </tr>\n    <tr>\n      <th>75%</th>\n      <td>NaN</td>\n      <td>0.880185</td>\n      <td>0.755629</td>\n      <td>1.064669</td>\n      <td>0.878915</td>\n      <td>0.605930</td>\n      <td>1.035666</td>\n      <td>0.855680</td>\n      <td>0.924605</td>\n      <td>0.891953</td>\n      <td>1.046291</td>\n      <td>5.415537</td>\n      <td>-13.588640</td>\n    </tr>\n    <tr>\n      <th>max</th>\n      <td>NaN</td>\n      <td>2.501544</td>\n      <td>2.464911</td>\n      <td>2.329639</td>\n      <td>2.327658</td>\n      <td>1.885105</td>\n      <td>2.282652</td>\n      <td>2.110213</td>\n      <td>2.048281</td>\n      <td>2.258689</td>\n      <td>2.819043</td>\n      <td>8.593776</td>\n      <td>-7.389552</td>\n    </tr>\n  </tbody>\n</table>\n</div>"
     },
     "metadata": {}
    }
   ],
   "execution_count": null
  },
  {
   "cell_type": "code",
   "metadata": {
    "tags": [],
    "cell_id": "00032-04c15780-05d0-49d0-8f89-b67a557ad25c",
    "deepnote_to_be_reexecuted": false,
    "source_hash": "32a86f9f",
    "execution_start": 1642441940019,
    "execution_millis": 72,
    "deepnote_cell_type": "code"
   },
   "source": "X_all = df_ml_cup_train.iloc[:, 1:11].values\ny_all = df_ml_cup_train.iloc[:, 11:13].values",
   "outputs": [],
   "execution_count": null
  },
  {
   "cell_type": "markdown",
   "source": "# Visualize target data",
   "metadata": {
    "tags": [],
    "is_collapsed": false,
    "cell_id": "00033-66c1a172-6f4a-46ec-9888-980423554164",
    "deepnote_cell_type": "text-cell-h1"
   }
  },
  {
   "cell_type": "code",
   "metadata": {
    "tags": [],
    "cell_id": "00034-311a7bde-a005-4764-857c-ac93b614e8c7",
    "deepnote_to_be_reexecuted": false,
    "source_hash": "6d182e14",
    "execution_start": 1642441940100,
    "execution_millis": 599,
    "deepnote_output_heights": [
     250
    ],
    "deepnote_cell_type": "code"
   },
   "source": "plt.scatter(y_all[:,0], y_all[:,1])\nplt.show()",
   "outputs": [
    {
     "data": {
      "text/plain": "<Figure size 432x288 with 1 Axes>",
      "image/png": "[encoded data removed]"
     },
     "metadata": {
      "needs_background": "light",
      "image/png": {
       "width": 377,
       "height": 248
      }
     },
     "output_type": "display_data"
    }
   ],
   "execution_count": null
  },
  {
   "cell_type": "code",
   "metadata": {
    "tags": [],
    "cell_id": "00038-0f6bff62-ba34-4d8d-9fc7-b43324a23c4e",
    "deepnote_to_be_reexecuted": false,
    "source_hash": "68f7c8cf",
    "execution_start": 1642441940699,
    "execution_millis": 16,
    "deepnote_cell_type": "code"
   },
   "source": "#shuffle and split data \nfrom sklearn.utils import shuffle \nX_all, y_all = shuffle(X_all, y_all)\ntrain_size = int(0.9 * len(X_all))\nX_train = X_all[:train_size]\ny_train = y_all[:train_size]\nprint(X_train.shape, y_train.shape)\nX_test = X_all[train_size:]\ny_test = y_all[train_size:]\nprint(X_test.shape, y_val.shape)",
   "outputs": [
    {
     "name": "stdout",
     "text": "(1107, 10) (1107, 2)\n(370, 10) (24,)\n",
     "output_type": "stream"
    }
   ],
   "execution_count": null
  },
  {
   "cell_type": "code",
   "source": "#definition of an early stopping calback and an eucledian distance metric to be used in KFold\nes = EarlyStopping(monitor='val_loss', mode='min', verbose=0, patience=3)\ndef euc_dist_keras(y_true, y_pred):\n    return float(K.mean(K.sqrt(K.sum(K.square(y_true - y_pred), axis = -1, keepdims=True))))",
   "metadata": {
    "cell_id": "a3e2f317-f6f0-46a9-950b-941d4d3a495b",
    "tags": [],
    "deepnote_cell_type": "code"
   },
   "outputs": [],
   "execution_count": null
  },
  {
   "cell_type": "code",
   "metadata": {
    "tags": [],
    "cell_id": "00038-5d3103ec-89e2-4147-af23-7d016d01ed6f",
    "deepnote_to_be_reexecuted": false,
    "source_hash": "f0323e1c",
    "execution_start": 1642441940720,
    "execution_millis": 73,
    "deepnote_cell_type": "code"
   },
   "source": "def create_model(hp):\n    model = Sequential()\n    for i in range(hp.Int('layers', 1, 3)):\n        if i == 1:\n            model.add(layers.Dense(units=hp.Int('units', 10, 80, step=5), activation='relu', input_shape=(10,), kernel_initializer='he_uniform', kernel_regularizer=regularizers.l2(hp.Float('regularizer', 0.0001, 0.001, step=0.0005))))\n            continue\n        model.add(layers.Dense(units=hp.Int(f\"units_{i}\", 10, 80, step=5), activation='relu', kernel_regularizer=regularizers.l2(hp.Float(f\"regularizer_{i}\", 0.0001, 0.001, step=0.0005))))\n\n    model.add(layers.Dense(2))\n    hp_batch_size = hp.Int('bs', 10, 1000, step=20)\n    hp_learning_rate  =hp.Float('learning_rate', min_value=0.00001, max_value=0.1, step=0.00005)\n    hp_momentum = hp.Choice('momentum', values=[0.0, 0.1, 0.25, 0.5, 0.75, 0.8, 0.85, 0.9,])\n\n    model.compile(optimizer=optimizers.SGD(learning_rate=hp_learning_rate, momentum=hp_momentum, decay=hp_learning_rate/100), loss=euc_dist_keras)\n    return model",
   "outputs": [],
   "execution_count": null
  },
  {
   "cell_type": "markdown",
   "source": "# Create a custom tuner that supports K-fold",
   "metadata": {
    "tags": [],
    "is_collapsed": false,
    "cell_id": "00041-66c2ecb8-2735-4d31-af06-0e3518221459",
    "deepnote_cell_type": "text-cell-h1"
   }
  },
  {
   "cell_type": "code",
   "metadata": {
    "tags": [],
    "cell_id": "00042-dfa4aad6-3652-4d58-bd2f-4a803e04f530",
    "deepnote_to_be_reexecuted": false,
    "source_hash": "894eb0d5",
    "execution_start": 1642441940801,
    "execution_millis": 50,
    "deepnote_cell_type": "code"
   },
   "source": "class CVTuner(keras_tuner.engine.tuner.Tuner):\n    def run_trial(self, trial, X, y, batch_size, epochs):\n        cv = model_selection.KFold(10)\n        val_losses = []\n        for train_indices, test_indices in cv.split(X):\n            X_train, X_test = X[train_indices], X[test_indices]\n            y_train, y_test = y[train_indices], y[test_indices]\n            model = self.hypermodel.build(trial.hyperparameters)\n            bs = trial.hyperparameters['bs']\n            print(bs)\n            model.fit(X_train, y_train, batch_size=bs, epochs=epochs, verbose=0, callbacks=[es], validation_split=0.1)\n            val_losses.append(model.evaluate(X_test, y_test))\n        self.oracle.update_trial(trial.trial_id, {'val_loss': np.mean(val_losses)})\n        try:\n            self.save_model(trial.trial_id, model)\n        except:\n            pass",
   "outputs": [],
   "execution_count": null
  },
  {
   "cell_type": "code",
   "metadata": {
    "tags": [],
    "cell_id": "00039-f145536e-c9b4-4d89-8b3d-858404dda204",
    "deepnote_to_be_reexecuted": false,
    "source_hash": "36f58520",
    "execution_start": 1642441940851,
    "execution_millis": 114,
    "deepnote_cell_type": "code"
   },
   "source": "tuner = CVTuner(\n\n    oracle=kt.oracles.RandomSearch(\n        objective='val_loss',\n        max_trials=1000,\n    ),\n    hypermodel=create_model,\n    overwrite=True,\n    project_name='keras_results',\n)\n\ntuner.search_space_summary()",
   "outputs": [
    {
     "output_type": "error",
     "ename": "TypeError",
     "evalue": "mee() missing 2 required positional arguments: 'true_target' and 'predicted_target'",
     "traceback": [
      "\u001b[0;31m---------------------------------------------------------------------------\u001b[0m",
      "\u001b[0;31mTypeError\u001b[0m                                 Traceback (most recent call last)",
      "\u001b[0;32m<ipython-input-157-0a99213b3f6c>\u001b[0m in \u001b[0;36m<module>\u001b[0;34m\u001b[0m\n\u001b[1;32m      7\u001b[0m     \u001b[0mhypermodel\u001b[0m\u001b[0;34m=\u001b[0m\u001b[0mcreate_model\u001b[0m\u001b[0;34m,\u001b[0m\u001b[0;34m\u001b[0m\u001b[0;34m\u001b[0m\u001b[0m\n\u001b[1;32m      8\u001b[0m     \u001b[0moverwrite\u001b[0m\u001b[0;34m=\u001b[0m\u001b[0;32mTrue\u001b[0m\u001b[0;34m,\u001b[0m\u001b[0;34m\u001b[0m\u001b[0;34m\u001b[0m\u001b[0m\n\u001b[0;32m----> 9\u001b[0;31m     \u001b[0mproject_name\u001b[0m\u001b[0;34m=\u001b[0m\u001b[0;34m'keras_results'\u001b[0m\u001b[0;34m,\u001b[0m\u001b[0;34m\u001b[0m\u001b[0;34m\u001b[0m\u001b[0m\n\u001b[0m\u001b[1;32m     10\u001b[0m )\n\u001b[1;32m     11\u001b[0m \u001b[0;34m\u001b[0m\u001b[0m\n",
      "\u001b[0;32m~/venv/lib/python3.7/site-packages/keras_tuner/engine/tuner.py\u001b[0m in \u001b[0;36m__init__\u001b[0;34m(self, oracle, hypermodel, max_model_size, optimizer, loss, metrics, distribution_strategy, directory, project_name, logger, tuner_id, overwrite, executions_per_trial)\u001b[0m\n\u001b[1;32m    115\u001b[0m             \u001b[0mproject_name\u001b[0m\u001b[0;34m=\u001b[0m\u001b[0mproject_name\u001b[0m\u001b[0;34m,\u001b[0m\u001b[0;34m\u001b[0m\u001b[0;34m\u001b[0m\u001b[0m\n\u001b[1;32m    116\u001b[0m             \u001b[0mlogger\u001b[0m\u001b[0;34m=\u001b[0m\u001b[0mlogger\u001b[0m\u001b[0;34m,\u001b[0m\u001b[0;34m\u001b[0m\u001b[0;34m\u001b[0m\u001b[0m\n\u001b[0;32m--> 117\u001b[0;31m             \u001b[0moverwrite\u001b[0m\u001b[0;34m=\u001b[0m\u001b[0moverwrite\u001b[0m\u001b[0;34m,\u001b[0m\u001b[0;34m\u001b[0m\u001b[0;34m\u001b[0m\u001b[0m\n\u001b[0m\u001b[1;32m    118\u001b[0m         )\n\u001b[1;32m    119\u001b[0m \u001b[0;34m\u001b[0m\u001b[0m\n",
      "\u001b[0;32m~/venv/lib/python3.7/site-packages/keras_tuner/engine/base_tuner.py\u001b[0m in \u001b[0;36m__init__\u001b[0;34m(self, oracle, hypermodel, directory, project_name, logger, overwrite)\u001b[0m\n\u001b[1;32m    101\u001b[0m         \u001b[0mself\u001b[0m\u001b[0;34m.\u001b[0m\u001b[0m_display\u001b[0m \u001b[0;34m=\u001b[0m \u001b[0mtuner_utils\u001b[0m\u001b[0;34m.\u001b[0m\u001b[0mDisplay\u001b[0m\u001b[0;34m(\u001b[0m\u001b[0moracle\u001b[0m\u001b[0;34m=\u001b[0m\u001b[0mself\u001b[0m\u001b[0;34m.\u001b[0m\u001b[0moracle\u001b[0m\u001b[0;34m)\u001b[0m\u001b[0;34m\u001b[0m\u001b[0;34m\u001b[0m\u001b[0m\n\u001b[1;32m    102\u001b[0m \u001b[0;34m\u001b[0m\u001b[0m\n\u001b[0;32m--> 103\u001b[0;31m         \u001b[0mself\u001b[0m\u001b[0;34m.\u001b[0m\u001b[0m_populate_initial_space\u001b[0m\u001b[0;34m(\u001b[0m\u001b[0;34m)\u001b[0m\u001b[0;34m\u001b[0m\u001b[0;34m\u001b[0m\u001b[0m\n\u001b[0m\u001b[1;32m    104\u001b[0m \u001b[0;34m\u001b[0m\u001b[0m\n\u001b[1;32m    105\u001b[0m         \u001b[0;32mif\u001b[0m \u001b[0;32mnot\u001b[0m \u001b[0moverwrite\u001b[0m \u001b[0;32mand\u001b[0m \u001b[0mtf\u001b[0m\u001b[0;34m.\u001b[0m\u001b[0mio\u001b[0m\u001b[0;34m.\u001b[0m\u001b[0mgfile\u001b[0m\u001b[0;34m.\u001b[0m\u001b[0mexists\u001b[0m\u001b[0;34m(\u001b[0m\u001b[0mself\u001b[0m\u001b[0;34m.\u001b[0m\u001b[0m_get_tuner_fname\u001b[0m\u001b[0;34m(\u001b[0m\u001b[0;34m)\u001b[0m\u001b[0;34m)\u001b[0m\u001b[0;34m:\u001b[0m\u001b[0;34m\u001b[0m\u001b[0;34m\u001b[0m\u001b[0m\n",
      "\u001b[0;32m~/venv/lib/python3.7/site-packages/keras_tuner/engine/base_tuner.py\u001b[0m in \u001b[0;36m_populate_initial_space\u001b[0;34m(self)\u001b[0m\n\u001b[1;32m    130\u001b[0m \u001b[0;34m\u001b[0m\u001b[0m\n\u001b[1;32m    131\u001b[0m         \u001b[0;32mwhile\u001b[0m \u001b[0;32mTrue\u001b[0m\u001b[0;34m:\u001b[0m\u001b[0;34m\u001b[0m\u001b[0;34m\u001b[0m\u001b[0m\n\u001b[0;32m--> 132\u001b[0;31m             \u001b[0mself\u001b[0m\u001b[0;34m.\u001b[0m\u001b[0mhypermodel\u001b[0m\u001b[0;34m.\u001b[0m\u001b[0mbuild\u001b[0m\u001b[0;34m(\u001b[0m\u001b[0mhp\u001b[0m\u001b[0;34m)\u001b[0m\u001b[0;34m\u001b[0m\u001b[0;34m\u001b[0m\u001b[0m\n\u001b[0m\u001b[1;32m    133\u001b[0m \u001b[0;34m\u001b[0m\u001b[0m\n\u001b[1;32m    134\u001b[0m             \u001b[0;31m# Update the recored scopes.\u001b[0m\u001b[0;34m\u001b[0m\u001b[0;34m\u001b[0m\u001b[0;34m\u001b[0m\u001b[0m\n",
      "\u001b[0;32m<ipython-input-155-642d821b63a6>\u001b[0m in \u001b[0;36mcreate_model\u001b[0;34m(hp)\u001b[0m\n\u001b[1;32m     11\u001b[0m     \u001b[0mhp_learning_rate\u001b[0m \u001b[0;34m=\u001b[0m \u001b[0mhp\u001b[0m\u001b[0;34m.\u001b[0m\u001b[0mFloat\u001b[0m\u001b[0;34m(\u001b[0m\u001b[0;34m'learning_rate'\u001b[0m\u001b[0;34m,\u001b[0m \u001b[0mmin_value\u001b[0m\u001b[0;34m=\u001b[0m\u001b[0;36m0.00001\u001b[0m\u001b[0;34m,\u001b[0m \u001b[0mmax_value\u001b[0m\u001b[0;34m=\u001b[0m\u001b[0;36m0.01\u001b[0m\u001b[0;34m,\u001b[0m \u001b[0mstep\u001b[0m\u001b[0;34m=\u001b[0m\u001b[0;36m0.00002\u001b[0m\u001b[0;34m)\u001b[0m\u001b[0;34m\u001b[0m\u001b[0;34m\u001b[0m\u001b[0m\n\u001b[1;32m     12\u001b[0m     \u001b[0mhp_momentum\u001b[0m \u001b[0;34m=\u001b[0m \u001b[0mhp\u001b[0m\u001b[0;34m.\u001b[0m\u001b[0mChoice\u001b[0m\u001b[0;34m(\u001b[0m\u001b[0;34m'momentum'\u001b[0m\u001b[0;34m,\u001b[0m \u001b[0mvalues\u001b[0m\u001b[0;34m=\u001b[0m\u001b[0;34m[\u001b[0m\u001b[0;36m0.0\u001b[0m\u001b[0;34m,\u001b[0m \u001b[0;36m0.1\u001b[0m\u001b[0;34m,\u001b[0m \u001b[0;36m0.25\u001b[0m\u001b[0;34m,\u001b[0m \u001b[0;36m0.5\u001b[0m\u001b[0;34m,\u001b[0m \u001b[0;36m0.75\u001b[0m\u001b[0;34m,\u001b[0m \u001b[0;36m0.8\u001b[0m\u001b[0;34m,\u001b[0m \u001b[0;36m0.85\u001b[0m\u001b[0;34m]\u001b[0m\u001b[0;34m)\u001b[0m\u001b[0;34m\u001b[0m\u001b[0;34m\u001b[0m\u001b[0m\n\u001b[0;32m---> 13\u001b[0;31m     \u001b[0mmodel\u001b[0m\u001b[0;34m.\u001b[0m\u001b[0mcompile\u001b[0m\u001b[0;34m(\u001b[0m\u001b[0moptimizer\u001b[0m\u001b[0;34m=\u001b[0m\u001b[0moptimizers\u001b[0m\u001b[0;34m.\u001b[0m\u001b[0mSGD\u001b[0m\u001b[0;34m(\u001b[0m\u001b[0mlearning_rate\u001b[0m\u001b[0;34m=\u001b[0m\u001b[0mhp_learning_rate\u001b[0m\u001b[0;34m,\u001b[0m \u001b[0mmomentum\u001b[0m\u001b[0;34m=\u001b[0m\u001b[0mhp_momentum\u001b[0m\u001b[0;34m,\u001b[0m \u001b[0mdecay\u001b[0m\u001b[0;34m=\u001b[0m\u001b[0mhp_learning_rate\u001b[0m\u001b[0;34m/\u001b[0m\u001b[0;36m100\u001b[0m\u001b[0;34m)\u001b[0m\u001b[0;34m,\u001b[0m \u001b[0mloss\u001b[0m\u001b[0;34m=\u001b[0m\u001b[0mmee\u001b[0m\u001b[0;34m(\u001b[0m\u001b[0;34m)\u001b[0m\u001b[0;34m,\u001b[0m \u001b[0mmetrics\u001b[0m\u001b[0;34m=\u001b[0m\u001b[0;34m[\u001b[0m\u001b[0;34m'mae'\u001b[0m\u001b[0;34m]\u001b[0m\u001b[0;34m)\u001b[0m\u001b[0;34m\u001b[0m\u001b[0;34m\u001b[0m\u001b[0m\n\u001b[0m\u001b[1;32m     14\u001b[0m     \u001b[0;32mreturn\u001b[0m \u001b[0mmodel\u001b[0m\u001b[0;34m\u001b[0m\u001b[0;34m\u001b[0m\u001b[0m\n",
      "\u001b[0;31mTypeError\u001b[0m: mee() missing 2 required positional arguments: 'true_target' and 'predicted_target'"
     ]
    }
   ],
   "execution_count": null
  },
  {
   "cell_type": "code",
   "metadata": {
    "tags": [],
    "cell_id": "00040-ec0ac813-b92d-4db2-839e-531269fb3607",
    "deepnote_to_be_reexecuted": true,
    "source_hash": "319b1859",
    "execution_start": 1642441909227,
    "execution_millis": 1102,
    "deepnote_cell_type": "code"
   },
   "source": "tuner.search(X_train, y_train, batch_size=32, epochs=200)\nhyperparameters = tuner.get_best_hyperparameters(num_trials=30)",
   "outputs": [
    {
     "name": "stdout",
     "text": "\nSearch: Running Trial #1\n\nHyperparameter    |Value             |Best Value So Far \nlayers            |3                 |?                 \nunits_0           |16                |?                 \nlearning_rate     |0.00163           |?                 \nmomentum          |0.5               |?                 \n\n",
     "output_type": "stream"
    },
    {
     "output_type": "error",
     "ename": "TypeError",
     "evalue": "in user code:\n\n    /shared-libs/python3.7/py/lib/python3.7/site-packages/tensorflow/python/keras/engine/training.py:805 train_function  *\n        return step_function(self, iterator)\n    <ipython-input-137-f962bd617275>:6 mee  *\n        for p in range(l):  # for p-th pattern in l (number of samples)\n    /shared-libs/python3.7/py/lib/python3.7/site-packages/tensorflow/python/autograph/operators/py_builtins.py:365 range_  **\n        return _py_range(start_or_stop, stop, step)\n    /shared-libs/python3.7/py/lib/python3.7/site-packages/tensorflow/python/autograph/operators/py_builtins.py:390 _py_range\n        return range(start_or_stop)\n\n    TypeError: 'NoneType' object cannot be interpreted as an integer\n",
     "traceback": [
      "\u001b[0;31m---------------------------------------------------------------------------\u001b[0m",
      "\u001b[0;31mTypeError\u001b[0m                                 Traceback (most recent call last)",
      "\u001b[0;32m<ipython-input-147-1fcf308d047d>\u001b[0m in \u001b[0;36m<module>\u001b[0;34m\u001b[0m\n\u001b[0;32m----> 1\u001b[0;31m \u001b[0mtuner\u001b[0m\u001b[0;34m.\u001b[0m\u001b[0msearch\u001b[0m\u001b[0;34m(\u001b[0m\u001b[0mX_train\u001b[0m\u001b[0;34m,\u001b[0m \u001b[0my_train\u001b[0m\u001b[0;34m,\u001b[0m \u001b[0mbatch_size\u001b[0m\u001b[0;34m=\u001b[0m\u001b[0;36m32\u001b[0m\u001b[0;34m,\u001b[0m \u001b[0mepochs\u001b[0m\u001b[0;34m=\u001b[0m\u001b[0;36m100\u001b[0m\u001b[0;34m)\u001b[0m\u001b[0;34m\u001b[0m\u001b[0;34m\u001b[0m\u001b[0m\n\u001b[0m\u001b[1;32m      2\u001b[0m \u001b[0mhyperparameters\u001b[0m \u001b[0;34m=\u001b[0m \u001b[0mtuner\u001b[0m\u001b[0;34m.\u001b[0m\u001b[0mget_best_hyperparameters\u001b[0m\u001b[0;34m(\u001b[0m\u001b[0mnum_trials\u001b[0m\u001b[0;34m=\u001b[0m\u001b[0;36m5\u001b[0m\u001b[0;34m)\u001b[0m\u001b[0;34m\u001b[0m\u001b[0;34m\u001b[0m\u001b[0m\n",
      "\u001b[0;32m~/venv/lib/python3.7/site-packages/keras_tuner/engine/base_tuner.py\u001b[0m in \u001b[0;36msearch\u001b[0;34m(self, *fit_args, **fit_kwargs)\u001b[0m\n\u001b[1;32m    177\u001b[0m \u001b[0;34m\u001b[0m\u001b[0m\n\u001b[1;32m    178\u001b[0m             \u001b[0mself\u001b[0m\u001b[0;34m.\u001b[0m\u001b[0mon_trial_begin\u001b[0m\u001b[0;34m(\u001b[0m\u001b[0mtrial\u001b[0m\u001b[0;34m)\u001b[0m\u001b[0;34m\u001b[0m\u001b[0;34m\u001b[0m\u001b[0m\n\u001b[0;32m--> 179\u001b[0;31m             \u001b[0mresults\u001b[0m \u001b[0;34m=\u001b[0m \u001b[0mself\u001b[0m\u001b[0;34m.\u001b[0m\u001b[0mrun_trial\u001b[0m\u001b[0;34m(\u001b[0m\u001b[0mtrial\u001b[0m\u001b[0;34m,\u001b[0m \u001b[0;34m*\u001b[0m\u001b[0mfit_args\u001b[0m\u001b[0;34m,\u001b[0m \u001b[0;34m**\u001b[0m\u001b[0mfit_kwargs\u001b[0m\u001b[0;34m)\u001b[0m\u001b[0;34m\u001b[0m\u001b[0;34m\u001b[0m\u001b[0m\n\u001b[0m\u001b[1;32m    180\u001b[0m             \u001b[0;31m# `results` is None indicates user updated oracle in `run_trial()`.\u001b[0m\u001b[0;34m\u001b[0m\u001b[0;34m\u001b[0m\u001b[0;34m\u001b[0m\u001b[0m\n\u001b[1;32m    181\u001b[0m             \u001b[0;32mif\u001b[0m \u001b[0mresults\u001b[0m \u001b[0;32mis\u001b[0m \u001b[0;32mNone\u001b[0m\u001b[0;34m:\u001b[0m\u001b[0;34m\u001b[0m\u001b[0;34m\u001b[0m\u001b[0m\n",
      "\u001b[0;32m<ipython-input-145-507d7fb3c916>\u001b[0m in \u001b[0;36mrun_trial\u001b[0;34m(self, trial, X, y, batch_size, epochs)\u001b[0m\n\u001b[1;32m      7\u001b[0m             \u001b[0my_train\u001b[0m\u001b[0;34m,\u001b[0m \u001b[0my_test\u001b[0m \u001b[0;34m=\u001b[0m \u001b[0my\u001b[0m\u001b[0;34m[\u001b[0m\u001b[0mtrain_indices\u001b[0m\u001b[0;34m]\u001b[0m\u001b[0;34m,\u001b[0m \u001b[0my\u001b[0m\u001b[0;34m[\u001b[0m\u001b[0mtest_indices\u001b[0m\u001b[0;34m]\u001b[0m\u001b[0;34m\u001b[0m\u001b[0;34m\u001b[0m\u001b[0m\n\u001b[1;32m      8\u001b[0m             \u001b[0mmodel\u001b[0m \u001b[0;34m=\u001b[0m \u001b[0mself\u001b[0m\u001b[0;34m.\u001b[0m\u001b[0mhypermodel\u001b[0m\u001b[0;34m.\u001b[0m\u001b[0mbuild\u001b[0m\u001b[0;34m(\u001b[0m\u001b[0mtrial\u001b[0m\u001b[0;34m.\u001b[0m\u001b[0mhyperparameters\u001b[0m\u001b[0;34m)\u001b[0m\u001b[0;34m\u001b[0m\u001b[0;34m\u001b[0m\u001b[0m\n\u001b[0;32m----> 9\u001b[0;31m             \u001b[0mmodel\u001b[0m\u001b[0;34m.\u001b[0m\u001b[0mfit\u001b[0m\u001b[0;34m(\u001b[0m\u001b[0mX_train\u001b[0m\u001b[0;34m,\u001b[0m \u001b[0my_train\u001b[0m\u001b[0;34m,\u001b[0m \u001b[0mbatch_size\u001b[0m\u001b[0;34m=\u001b[0m\u001b[0mbatch_size\u001b[0m\u001b[0;34m,\u001b[0m \u001b[0mepochs\u001b[0m\u001b[0;34m=\u001b[0m\u001b[0mepochs\u001b[0m\u001b[0;34m,\u001b[0m \u001b[0mverbose\u001b[0m\u001b[0;34m=\u001b[0m\u001b[0;36m0\u001b[0m\u001b[0;34m)\u001b[0m\u001b[0;34m\u001b[0m\u001b[0;34m\u001b[0m\u001b[0m\n\u001b[0m\u001b[1;32m     10\u001b[0m             \u001b[0mval_losses\u001b[0m\u001b[0;34m.\u001b[0m\u001b[0mappend\u001b[0m\u001b[0;34m(\u001b[0m\u001b[0mmodel\u001b[0m\u001b[0;34m.\u001b[0m\u001b[0mevaluate\u001b[0m\u001b[0;34m(\u001b[0m\u001b[0mX_test\u001b[0m\u001b[0;34m,\u001b[0m \u001b[0my_test\u001b[0m\u001b[0;34m)\u001b[0m\u001b[0;34m)\u001b[0m\u001b[0;34m\u001b[0m\u001b[0;34m\u001b[0m\u001b[0m\n\u001b[1;32m     11\u001b[0m \u001b[0;34m\u001b[0m\u001b[0m\n",
      "\u001b[0;32m/shared-libs/python3.7/py/lib/python3.7/site-packages/tensorflow/python/keras/engine/training.py\u001b[0m in \u001b[0;36mfit\u001b[0;34m(self, x, y, batch_size, epochs, verbose, callbacks, validation_split, validation_data, shuffle, class_weight, sample_weight, initial_epoch, steps_per_epoch, validation_steps, validation_batch_size, validation_freq, max_queue_size, workers, use_multiprocessing)\u001b[0m\n\u001b[1;32m   1098\u001b[0m                 _r=1):\n\u001b[1;32m   1099\u001b[0m               \u001b[0mcallbacks\u001b[0m\u001b[0;34m.\u001b[0m\u001b[0mon_train_batch_begin\u001b[0m\u001b[0;34m(\u001b[0m\u001b[0mstep\u001b[0m\u001b[0;34m)\u001b[0m\u001b[0;34m\u001b[0m\u001b[0;34m\u001b[0m\u001b[0m\n\u001b[0;32m-> 1100\u001b[0;31m               \u001b[0mtmp_logs\u001b[0m \u001b[0;34m=\u001b[0m \u001b[0mself\u001b[0m\u001b[0;34m.\u001b[0m\u001b[0mtrain_function\u001b[0m\u001b[0;34m(\u001b[0m\u001b[0miterator\u001b[0m\u001b[0;34m)\u001b[0m\u001b[0;34m\u001b[0m\u001b[0;34m\u001b[0m\u001b[0m\n\u001b[0m\u001b[1;32m   1101\u001b[0m               \u001b[0;32mif\u001b[0m \u001b[0mdata_handler\u001b[0m\u001b[0;34m.\u001b[0m\u001b[0mshould_sync\u001b[0m\u001b[0;34m:\u001b[0m\u001b[0;34m\u001b[0m\u001b[0;34m\u001b[0m\u001b[0m\n\u001b[1;32m   1102\u001b[0m                 \u001b[0mcontext\u001b[0m\u001b[0;34m.\u001b[0m\u001b[0masync_wait\u001b[0m\u001b[0;34m(\u001b[0m\u001b[0;34m)\u001b[0m\u001b[0;34m\u001b[0m\u001b[0;34m\u001b[0m\u001b[0m\n",
      "\u001b[0;32m/shared-libs/python3.7/py/lib/python3.7/site-packages/tensorflow/python/eager/def_function.py\u001b[0m in \u001b[0;36m__call__\u001b[0;34m(self, *args, **kwds)\u001b[0m\n\u001b[1;32m    826\u001b[0m     \u001b[0mtracing_count\u001b[0m \u001b[0;34m=\u001b[0m \u001b[0mself\u001b[0m\u001b[0;34m.\u001b[0m\u001b[0mexperimental_get_tracing_count\u001b[0m\u001b[0;34m(\u001b[0m\u001b[0;34m)\u001b[0m\u001b[0;34m\u001b[0m\u001b[0;34m\u001b[0m\u001b[0m\n\u001b[1;32m    827\u001b[0m     \u001b[0;32mwith\u001b[0m \u001b[0mtrace\u001b[0m\u001b[0;34m.\u001b[0m\u001b[0mTrace\u001b[0m\u001b[0;34m(\u001b[0m\u001b[0mself\u001b[0m\u001b[0;34m.\u001b[0m\u001b[0m_name\u001b[0m\u001b[0;34m)\u001b[0m \u001b[0;32mas\u001b[0m \u001b[0mtm\u001b[0m\u001b[0;34m:\u001b[0m\u001b[0;34m\u001b[0m\u001b[0;34m\u001b[0m\u001b[0m\n\u001b[0;32m--> 828\u001b[0;31m       \u001b[0mresult\u001b[0m \u001b[0;34m=\u001b[0m \u001b[0mself\u001b[0m\u001b[0;34m.\u001b[0m\u001b[0m_call\u001b[0m\u001b[0;34m(\u001b[0m\u001b[0;34m*\u001b[0m\u001b[0margs\u001b[0m\u001b[0;34m,\u001b[0m \u001b[0;34m**\u001b[0m\u001b[0mkwds\u001b[0m\u001b[0;34m)\u001b[0m\u001b[0;34m\u001b[0m\u001b[0;34m\u001b[0m\u001b[0m\n\u001b[0m\u001b[1;32m    829\u001b[0m       \u001b[0mcompiler\u001b[0m \u001b[0;34m=\u001b[0m \u001b[0;34m\"xla\"\u001b[0m \u001b[0;32mif\u001b[0m \u001b[0mself\u001b[0m\u001b[0;34m.\u001b[0m\u001b[0m_experimental_compile\u001b[0m \u001b[0;32melse\u001b[0m \u001b[0;34m\"nonXla\"\u001b[0m\u001b[0;34m\u001b[0m\u001b[0;34m\u001b[0m\u001b[0m\n\u001b[1;32m    830\u001b[0m       \u001b[0mnew_tracing_count\u001b[0m \u001b[0;34m=\u001b[0m \u001b[0mself\u001b[0m\u001b[0;34m.\u001b[0m\u001b[0mexperimental_get_tracing_count\u001b[0m\u001b[0;34m(\u001b[0m\u001b[0;34m)\u001b[0m\u001b[0;34m\u001b[0m\u001b[0;34m\u001b[0m\u001b[0m\n",
      "\u001b[0;32m/shared-libs/python3.7/py/lib/python3.7/site-packages/tensorflow/python/eager/def_function.py\u001b[0m in \u001b[0;36m_call\u001b[0;34m(self, *args, **kwds)\u001b[0m\n\u001b[1;32m    869\u001b[0m       \u001b[0;31m# This is the first call of __call__, so we have to initialize.\u001b[0m\u001b[0;34m\u001b[0m\u001b[0;34m\u001b[0m\u001b[0;34m\u001b[0m\u001b[0m\n\u001b[1;32m    870\u001b[0m       \u001b[0minitializers\u001b[0m \u001b[0;34m=\u001b[0m \u001b[0;34m[\u001b[0m\u001b[0;34m]\u001b[0m\u001b[0;34m\u001b[0m\u001b[0;34m\u001b[0m\u001b[0m\n\u001b[0;32m--> 871\u001b[0;31m       \u001b[0mself\u001b[0m\u001b[0;34m.\u001b[0m\u001b[0m_initialize\u001b[0m\u001b[0;34m(\u001b[0m\u001b[0margs\u001b[0m\u001b[0;34m,\u001b[0m \u001b[0mkwds\u001b[0m\u001b[0;34m,\u001b[0m \u001b[0madd_initializers_to\u001b[0m\u001b[0;34m=\u001b[0m\u001b[0minitializers\u001b[0m\u001b[0;34m)\u001b[0m\u001b[0;34m\u001b[0m\u001b[0;34m\u001b[0m\u001b[0m\n\u001b[0m\u001b[1;32m    872\u001b[0m     \u001b[0;32mfinally\u001b[0m\u001b[0;34m:\u001b[0m\u001b[0;34m\u001b[0m\u001b[0;34m\u001b[0m\u001b[0m\n\u001b[1;32m    873\u001b[0m       \u001b[0;31m# At this point we know that the initialization is complete (or less\u001b[0m\u001b[0;34m\u001b[0m\u001b[0;34m\u001b[0m\u001b[0;34m\u001b[0m\u001b[0m\n",
      "\u001b[0;32m/shared-libs/python3.7/py/lib/python3.7/site-packages/tensorflow/python/eager/def_function.py\u001b[0m in \u001b[0;36m_initialize\u001b[0;34m(self, args, kwds, add_initializers_to)\u001b[0m\n\u001b[1;32m    724\u001b[0m     self._concrete_stateful_fn = (\n\u001b[1;32m    725\u001b[0m         self._stateful_fn._get_concrete_function_internal_garbage_collected(  # pylint: disable=protected-access\n\u001b[0;32m--> 726\u001b[0;31m             *args, **kwds))\n\u001b[0m\u001b[1;32m    727\u001b[0m \u001b[0;34m\u001b[0m\u001b[0m\n\u001b[1;32m    728\u001b[0m     \u001b[0;32mdef\u001b[0m \u001b[0minvalid_creator_scope\u001b[0m\u001b[0;34m(\u001b[0m\u001b[0;34m*\u001b[0m\u001b[0munused_args\u001b[0m\u001b[0;34m,\u001b[0m \u001b[0;34m**\u001b[0m\u001b[0munused_kwds\u001b[0m\u001b[0;34m)\u001b[0m\u001b[0;34m:\u001b[0m\u001b[0;34m\u001b[0m\u001b[0;34m\u001b[0m\u001b[0m\n",
      "\u001b[0;32m/shared-libs/python3.7/py/lib/python3.7/site-packages/tensorflow/python/eager/function.py\u001b[0m in \u001b[0;36m_get_concrete_function_internal_garbage_collected\u001b[0;34m(self, *args, **kwargs)\u001b[0m\n\u001b[1;32m   2967\u001b[0m       \u001b[0margs\u001b[0m\u001b[0;34m,\u001b[0m \u001b[0mkwargs\u001b[0m \u001b[0;34m=\u001b[0m \u001b[0;32mNone\u001b[0m\u001b[0;34m,\u001b[0m \u001b[0;32mNone\u001b[0m\u001b[0;34m\u001b[0m\u001b[0;34m\u001b[0m\u001b[0m\n\u001b[1;32m   2968\u001b[0m     \u001b[0;32mwith\u001b[0m \u001b[0mself\u001b[0m\u001b[0;34m.\u001b[0m\u001b[0m_lock\u001b[0m\u001b[0;34m:\u001b[0m\u001b[0;34m\u001b[0m\u001b[0;34m\u001b[0m\u001b[0m\n\u001b[0;32m-> 2969\u001b[0;31m       \u001b[0mgraph_function\u001b[0m\u001b[0;34m,\u001b[0m \u001b[0m_\u001b[0m \u001b[0;34m=\u001b[0m \u001b[0mself\u001b[0m\u001b[0;34m.\u001b[0m\u001b[0m_maybe_define_function\u001b[0m\u001b[0;34m(\u001b[0m\u001b[0margs\u001b[0m\u001b[0;34m,\u001b[0m \u001b[0mkwargs\u001b[0m\u001b[0;34m)\u001b[0m\u001b[0;34m\u001b[0m\u001b[0;34m\u001b[0m\u001b[0m\n\u001b[0m\u001b[1;32m   2970\u001b[0m     \u001b[0;32mreturn\u001b[0m \u001b[0mgraph_function\u001b[0m\u001b[0;34m\u001b[0m\u001b[0;34m\u001b[0m\u001b[0m\n\u001b[1;32m   2971\u001b[0m \u001b[0;34m\u001b[0m\u001b[0m\n",
      "\u001b[0;32m/shared-libs/python3.7/py/lib/python3.7/site-packages/tensorflow/python/eager/function.py\u001b[0m in \u001b[0;36m_maybe_define_function\u001b[0;34m(self, args, kwargs)\u001b[0m\n\u001b[1;32m   3359\u001b[0m \u001b[0;34m\u001b[0m\u001b[0m\n\u001b[1;32m   3360\u001b[0m           \u001b[0mself\u001b[0m\u001b[0;34m.\u001b[0m\u001b[0m_function_cache\u001b[0m\u001b[0;34m.\u001b[0m\u001b[0mmissed\u001b[0m\u001b[0;34m.\u001b[0m\u001b[0madd\u001b[0m\u001b[0;34m(\u001b[0m\u001b[0mcall_context_key\u001b[0m\u001b[0;34m)\u001b[0m\u001b[0;34m\u001b[0m\u001b[0;34m\u001b[0m\u001b[0m\n\u001b[0;32m-> 3361\u001b[0;31m           \u001b[0mgraph_function\u001b[0m \u001b[0;34m=\u001b[0m \u001b[0mself\u001b[0m\u001b[0;34m.\u001b[0m\u001b[0m_create_graph_function\u001b[0m\u001b[0;34m(\u001b[0m\u001b[0margs\u001b[0m\u001b[0;34m,\u001b[0m \u001b[0mkwargs\u001b[0m\u001b[0;34m)\u001b[0m\u001b[0;34m\u001b[0m\u001b[0;34m\u001b[0m\u001b[0m\n\u001b[0m\u001b[1;32m   3362\u001b[0m           \u001b[0mself\u001b[0m\u001b[0;34m.\u001b[0m\u001b[0m_function_cache\u001b[0m\u001b[0;34m.\u001b[0m\u001b[0mprimary\u001b[0m\u001b[0;34m[\u001b[0m\u001b[0mcache_key\u001b[0m\u001b[0;34m]\u001b[0m \u001b[0;34m=\u001b[0m \u001b[0mgraph_function\u001b[0m\u001b[0;34m\u001b[0m\u001b[0;34m\u001b[0m\u001b[0m\n\u001b[1;32m   3363\u001b[0m \u001b[0;34m\u001b[0m\u001b[0m\n",
      "\u001b[0;32m/shared-libs/python3.7/py/lib/python3.7/site-packages/tensorflow/python/eager/function.py\u001b[0m in \u001b[0;36m_create_graph_function\u001b[0;34m(self, args, kwargs, override_flat_arg_shapes)\u001b[0m\n\u001b[1;32m   3204\u001b[0m             \u001b[0marg_names\u001b[0m\u001b[0;34m=\u001b[0m\u001b[0marg_names\u001b[0m\u001b[0;34m,\u001b[0m\u001b[0;34m\u001b[0m\u001b[0;34m\u001b[0m\u001b[0m\n\u001b[1;32m   3205\u001b[0m             \u001b[0moverride_flat_arg_shapes\u001b[0m\u001b[0;34m=\u001b[0m\u001b[0moverride_flat_arg_shapes\u001b[0m\u001b[0;34m,\u001b[0m\u001b[0;34m\u001b[0m\u001b[0;34m\u001b[0m\u001b[0m\n\u001b[0;32m-> 3206\u001b[0;31m             capture_by_value=self._capture_by_value),\n\u001b[0m\u001b[1;32m   3207\u001b[0m         \u001b[0mself\u001b[0m\u001b[0;34m.\u001b[0m\u001b[0m_function_attributes\u001b[0m\u001b[0;34m,\u001b[0m\u001b[0;34m\u001b[0m\u001b[0;34m\u001b[0m\u001b[0m\n\u001b[1;32m   3208\u001b[0m         \u001b[0mfunction_spec\u001b[0m\u001b[0;34m=\u001b[0m\u001b[0mself\u001b[0m\u001b[0;34m.\u001b[0m\u001b[0mfunction_spec\u001b[0m\u001b[0;34m,\u001b[0m\u001b[0;34m\u001b[0m\u001b[0;34m\u001b[0m\u001b[0m\n",
      "\u001b[0;32m/shared-libs/python3.7/py/lib/python3.7/site-packages/tensorflow/python/framework/func_graph.py\u001b[0m in \u001b[0;36mfunc_graph_from_py_func\u001b[0;34m(name, python_func, args, kwargs, signature, func_graph, autograph, autograph_options, add_control_dependencies, arg_names, op_return_value, collections, capture_by_value, override_flat_arg_shapes)\u001b[0m\n\u001b[1;32m    988\u001b[0m         \u001b[0m_\u001b[0m\u001b[0;34m,\u001b[0m \u001b[0moriginal_func\u001b[0m \u001b[0;34m=\u001b[0m \u001b[0mtf_decorator\u001b[0m\u001b[0;34m.\u001b[0m\u001b[0munwrap\u001b[0m\u001b[0;34m(\u001b[0m\u001b[0mpython_func\u001b[0m\u001b[0;34m)\u001b[0m\u001b[0;34m\u001b[0m\u001b[0;34m\u001b[0m\u001b[0m\n\u001b[1;32m    989\u001b[0m \u001b[0;34m\u001b[0m\u001b[0m\n\u001b[0;32m--> 990\u001b[0;31m       \u001b[0mfunc_outputs\u001b[0m \u001b[0;34m=\u001b[0m \u001b[0mpython_func\u001b[0m\u001b[0;34m(\u001b[0m\u001b[0;34m*\u001b[0m\u001b[0mfunc_args\u001b[0m\u001b[0;34m,\u001b[0m \u001b[0;34m**\u001b[0m\u001b[0mfunc_kwargs\u001b[0m\u001b[0;34m)\u001b[0m\u001b[0;34m\u001b[0m\u001b[0;34m\u001b[0m\u001b[0m\n\u001b[0m\u001b[1;32m    991\u001b[0m \u001b[0;34m\u001b[0m\u001b[0m\n\u001b[1;32m    992\u001b[0m       \u001b[0;31m# invariant: `func_outputs` contains only Tensors, CompositeTensors,\u001b[0m\u001b[0;34m\u001b[0m\u001b[0;34m\u001b[0m\u001b[0;34m\u001b[0m\u001b[0m\n",
      "\u001b[0;32m/shared-libs/python3.7/py/lib/python3.7/site-packages/tensorflow/python/eager/def_function.py\u001b[0m in \u001b[0;36mwrapped_fn\u001b[0;34m(*args, **kwds)\u001b[0m\n\u001b[1;32m    632\u001b[0m             \u001b[0mxla_context\u001b[0m\u001b[0;34m.\u001b[0m\u001b[0mExit\u001b[0m\u001b[0;34m(\u001b[0m\u001b[0;34m)\u001b[0m\u001b[0;34m\u001b[0m\u001b[0;34m\u001b[0m\u001b[0m\n\u001b[1;32m    633\u001b[0m         \u001b[0;32melse\u001b[0m\u001b[0;34m:\u001b[0m\u001b[0;34m\u001b[0m\u001b[0;34m\u001b[0m\u001b[0m\n\u001b[0;32m--> 634\u001b[0;31m           \u001b[0mout\u001b[0m \u001b[0;34m=\u001b[0m \u001b[0mweak_wrapped_fn\u001b[0m\u001b[0;34m(\u001b[0m\u001b[0;34m)\u001b[0m\u001b[0;34m.\u001b[0m\u001b[0m__wrapped__\u001b[0m\u001b[0;34m(\u001b[0m\u001b[0;34m*\u001b[0m\u001b[0margs\u001b[0m\u001b[0;34m,\u001b[0m \u001b[0;34m**\u001b[0m\u001b[0mkwds\u001b[0m\u001b[0;34m)\u001b[0m\u001b[0;34m\u001b[0m\u001b[0;34m\u001b[0m\u001b[0m\n\u001b[0m\u001b[1;32m    635\u001b[0m         \u001b[0;32mreturn\u001b[0m \u001b[0mout\u001b[0m\u001b[0;34m\u001b[0m\u001b[0;34m\u001b[0m\u001b[0m\n\u001b[1;32m    636\u001b[0m \u001b[0;34m\u001b[0m\u001b[0m\n",
      "\u001b[0;32m/shared-libs/python3.7/py/lib/python3.7/site-packages/tensorflow/python/framework/func_graph.py\u001b[0m in \u001b[0;36mwrapper\u001b[0;34m(*args, **kwargs)\u001b[0m\n\u001b[1;32m    975\u001b[0m           \u001b[0;32mexcept\u001b[0m \u001b[0mException\u001b[0m \u001b[0;32mas\u001b[0m \u001b[0me\u001b[0m\u001b[0;34m:\u001b[0m  \u001b[0;31m# pylint:disable=broad-except\u001b[0m\u001b[0;34m\u001b[0m\u001b[0;34m\u001b[0m\u001b[0m\n\u001b[1;32m    976\u001b[0m             \u001b[0;32mif\u001b[0m \u001b[0mhasattr\u001b[0m\u001b[0;34m(\u001b[0m\u001b[0me\u001b[0m\u001b[0;34m,\u001b[0m \u001b[0;34m\"ag_error_metadata\"\u001b[0m\u001b[0;34m)\u001b[0m\u001b[0;34m:\u001b[0m\u001b[0;34m\u001b[0m\u001b[0;34m\u001b[0m\u001b[0m\n\u001b[0;32m--> 977\u001b[0;31m               \u001b[0;32mraise\u001b[0m \u001b[0me\u001b[0m\u001b[0;34m.\u001b[0m\u001b[0mag_error_metadata\u001b[0m\u001b[0;34m.\u001b[0m\u001b[0mto_exception\u001b[0m\u001b[0;34m(\u001b[0m\u001b[0me\u001b[0m\u001b[0;34m)\u001b[0m\u001b[0;34m\u001b[0m\u001b[0;34m\u001b[0m\u001b[0m\n\u001b[0m\u001b[1;32m    978\u001b[0m             \u001b[0;32melse\u001b[0m\u001b[0;34m:\u001b[0m\u001b[0;34m\u001b[0m\u001b[0;34m\u001b[0m\u001b[0m\n\u001b[1;32m    979\u001b[0m               \u001b[0;32mraise\u001b[0m\u001b[0;34m\u001b[0m\u001b[0;34m\u001b[0m\u001b[0m\n",
      "\u001b[0;31mTypeError\u001b[0m: in user code:\n\n    /shared-libs/python3.7/py/lib/python3.7/site-packages/tensorflow/python/keras/engine/training.py:805 train_function  *\n        return step_function(self, iterator)\n    <ipython-input-137-f962bd617275>:6 mee  *\n        for p in range(l):  # for p-th pattern in l (number of samples)\n    /shared-libs/python3.7/py/lib/python3.7/site-packages/tensorflow/python/autograph/operators/py_builtins.py:365 range_  **\n        return _py_range(start_or_stop, stop, step)\n    /shared-libs/python3.7/py/lib/python3.7/site-packages/tensorflow/python/autograph/operators/py_builtins.py:390 _py_range\n        return range(start_or_stop)\n\n    TypeError: 'NoneType' object cannot be interpreted as an integer\n"
     ]
    }
   ],
   "execution_count": null
  },
  {
   "cell_type": "markdown",
   "source": "# Second random search",
   "metadata": {
    "cell_id": "df30cb99-f3be-4337-b28a-dbfdd87f10a4",
    "tags": [],
    "is_collapsed": false,
    "deepnote_cell_type": "text-cell-h1"
   }
  },
  {
   "cell_type": "code",
   "source": "#get the min and max of the best hyperparameters so far\nmin_lr = 1\nmax_lr = 0\nmin_mom = 1\nmax_mom = 0\nmin_layers = 4\nmax_layers = 0\nmin_reg = 1\nmax_reg = 0\nmin_batch = 1000\nmax_batch = 0\nfor hp in hyperparameters:\n    if hp.get('regularizer') < min_reg:\n        min_reg = hp.get('regularizer')\n    if hp.get('regularizer') > max_reg:\n        max_reg = hp.get('regularizer')\n    if hp.get('learning_rate') < min_lr:\n        min_lr = hp.get('learning_rate')\n    if hp.get('learning_rate') > max_lr:\n        max_lr = hp.get('learning_rate')\n    if hp.get('momentum') < min_mom:\n        min_mom = hp.get('momentum')\n    if hp.get('momentum') > max_mom:\n        max_mom = hp.get('momentum')\n    if hp.get('layers') < min_layers:\n        min_layers = hp.get('layers')\n    if hp.get('layers') > max_layers:\n        max_layers = hp.get('layers')\n    if hp.get('bs') < min_batch:\n        min_batch = hp.get('bs')\n    if hp.get('bs') > max_batch:\n        max_batch = hp.get('bs')\nprint(\"lr:\", min_lr, max_lr)\nprint(\"momentum:\", min_mom, max_mom)\nprint(\"layers:\", min_layers, max_layers)\nprint(\"batch sieze\", min_batch, max_batch)",
   "metadata": {
    "cell_id": "93eb369b-40f2-47c1-92fd-3bb1e73d62d8",
    "tags": [],
    "deepnote_cell_type": "code"
   },
   "outputs": [],
   "execution_count": null
  },
  {
   "cell_type": "code",
   "source": "#do a second random search with the hyperparameters selected before as range\ndef create_model2(hp):\n    model = Sequential()\n    for i in range(hp.Int('layers', min_layers, max_layers)):\n        if i == 1:\n            model.add(layers.Dense(units=hp.Int('units', 10, 80, step=5), activation='relu', input_shape=(10,), kernel_initializer='he_uniform', kernel_regularizer=regularizers.l2(hp.Float('regularizer', min_reg, max_reg, step=0.0001))))\n            continue\n        model.add(layers.Dense(units=hp.Int(f\"units_{i}\", 10, 80, step=5), activation='relu', kernel_regularizer=regularizers.l2(hp.Float('regularizer', min_reg, max_reg, step=0.0001))))\n\n    model.add(layers.Dense(2))\n    hp_learning_rate  =hp.Float('learning_rate', min_value=min_lr, max_value=max_lr, step=0.0001)\n    hp_momentum = hp.Float('momentum', min_value=min_mom, max_value=max_mom, step=0.02)\n    hp_batch_size = hp.Int('bs', min_batch, max_batch, step=5)\n    model.compile(optimizer=optimizers.SGD(learning_rate=hp_learning_rate, momentum=hp_momentum, decay=hp_learning_rate/100), loss=euc_dist_keras)\n    return model",
   "metadata": {
    "cell_id": "1822e341-0f55-4f06-b5ce-d260ef3e5b98",
    "tags": [],
    "deepnote_cell_type": "code"
   },
   "outputs": [],
   "execution_count": null
  },
  {
   "cell_type": "code",
   "source": "tuner2 = CVTuner(\n    oracle=keras_tuner.oracles.RandomSearch(\n        objective='val_loss',\n        max_trials=1000,\n    ),\n    hypermodel=create_model2,\n    overwrite=True,\n    project_name='keras_results2'\n)",
   "metadata": {
    "cell_id": "a518607d-def0-4222-97b7-3a2de98cbdb3",
    "tags": [],
    "deepnote_cell_type": "code"
   },
   "outputs": [],
   "execution_count": null
  },
  {
   "cell_type": "code",
   "source": "tuner2.search(X_train, y_train, batch_size=32, epochs=100)\nhyperparameters = tuner2.get_best_hyperparameters(num_trials=10)",
   "metadata": {
    "cell_id": "75178308-8499-4e87-bb5b-d51631641f69",
    "tags": [],
    "deepnote_cell_type": "code"
   },
   "outputs": [],
   "execution_count": null
  },
  {
   "cell_type": "code",
   "source": "models = 0\ny_total = []\nmee_models = []\nfor hp in hyperparameters:\n    models += 1\n    model = create_model(hp)\n    print(\"batch size\")\n    print(hp.get('bs'))\n    train_loss = []\n    test_loss = []\n    for j in range(500):\n        history = model.fit(X_train, y_train, batch_size=hp.get('bs'), verbose=0, epochs=1, validation_split=0.1, callbacks=[es])\n        train_loss.append(history.history['loss'])\n        score = model.evaluate(X_test, y_test)\n        test_loss.append(score)\n    #history = model.fit(X_train, y_train, batch_size=hp.get('bs'), epochs=500, verbose=0)\n    model.summary()\n    plt.plot(train_loss, '-', label='train')\n    plt.plot(test_loss, '-.', label='test')\n    plt.ylim([0,6])\n    plt.xlabel('epochs')\n    plt.ylabel('loss')\n    filename = \"loss model_\" + str(models) + \".png\"\n    plt.savefig(filename)\n    plt.cla()\n    y_pred = model.predict(X_test)\n    plt.scatter(y_pred[:, 0], y_pred[:, 1], color='blue')\n    plt.scatter(y_test[:, 0], y_test[:, 1], color='red')\n    filename = \"prediction model_\" + str(models) + \".png\"\n    plt.savefig(filename)\n    plt.cla()\n    res = mee(y_test, y_pred)\n    print(\"mee loss model:\", res)\n    mee_models.append(res)\n    y_total.append(y_pred)\n\ny_mean = []\nfor i in  range(len(y_total[0])):\n    temp = 0\n    for x in y_total:\n        temp += x[i]\n    y_mean.append(temp / len(y_total))\n\ny_mean = np.array(y_mean)\nerror = mee(y_test, y_mean)",
   "metadata": {
    "cell_id": "88a77523-0efd-47e6-b9e8-c3e81027a48a",
    "tags": [],
    "deepnote_cell_type": "code"
   },
   "outputs": [],
   "execution_count": null
  },
  {
   "cell_type": "markdown",
   "source": "# Ensemble by prediction average",
   "metadata": {
    "tags": [],
    "is_collapsed": false,
    "cell_id": "00045-fb6861b3-f679-4f3f-94b0-5a19cd958b00",
    "deepnote_cell_type": "text-cell-h1"
   }
  },
  {
   "cell_type": "code",
   "metadata": {
    "tags": [],
    "cell_id": "00047-ee0de614-a894-46cb-86e7-6d985192bb84",
    "deepnote_to_be_reexecuted": true,
    "source_hash": "375cd2bd",
    "execution_start": 1641315689969,
    "execution_millis": 5,
    "deepnote_cell_type": "code"
   },
   "source": "for i in range(len(mee_models)):\n    print(mee_models[i])\n\nprint('ensemble error: ', error)\n",
   "outputs": [
    {
     "name": "stdout",
     "text": "ensemble error:  1.1754376685932357\n",
     "output_type": "stream",
     "data": {}
    }
   ],
   "execution_count": null
  },
  {
   "cell_type": "code",
   "metadata": {
    "tags": [],
    "cell_id": "00049-c561c1bb-27ef-45f7-b083-ce13cf358ad0",
    "deepnote_to_be_reexecuted": true,
    "source_hash": "8737eca1",
    "execution_start": 1641315647618,
    "execution_millis": 241,
    "deepnote_output_heights": [
     21,
     266
    ],
    "deepnote_cell_type": "code"
   },
   "source": "#scatter plot comparing target values distribution and predicted values distribution\nplt.scatter(y_mean[:,0], y_mean[:,1], color='blue')\nplt.scatter(y_test[:,0], y_test[:,1], color='red')\nplt.title('ensemble model prediction vs target values')",
   "outputs": [
    {
     "output_type": "execute_result",
     "execution_count": 36,
     "data": {
      "text/plain": "Text(0.5, 1.0, 'ensemble model prediction vs target values')"
     },
     "metadata": {}
    },
    {
     "data": {
      "text/plain": "<Figure size 432x288 with 1 Axes>",
      "image/png": "[encoded data removed]"
     },
     "metadata": {
      "needs_background": "light",
      "image/png": {
       "width": 377,
       "height": 264
      }
     },
     "output_type": "display_data"
    }
   ],
   "execution_count": null
  },
  {
   "cell_type": "markdown",
   "source": "<a style='text-decoration:none;line-height:16px;display:flex;color:#5B5B62;padding:10px;justify-content:end;' href='https://deepnote.com?utm_source=created-in-deepnote-cell&projectId=d9d840c9-75b3-4185-bb01-105f5cca8d83' target=\"_blank\">\n<img alt='Created in deepnote.com' style='display:inline;max-height:16px;margin:0px;margin-right:7.5px;' src='data:image/svg+xml;base64,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' > </img>\nCreated in <span style='font-weight:600;margin-left:4px;'>Deepnote</span></a>",
   "metadata": {
    "tags": [],
    "created_in_deepnote_cell": true,
    "deepnote_cell_type": "markdown"
   }
  }
 ],
 "nbformat": 4,
 "nbformat_minor": 2,
 "metadata": {
  "orig_nbformat": 2,
  "deepnote": {
   "is_reactive": false
  },
  "deepnote_notebook_id": "4bc9a6a2-e9eb-482c-a3a8-3914ce54a796",
  "deepnote_execution_queue": []
 }
}