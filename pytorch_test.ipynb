{
 "cells": [
  {
   "cell_type": "code",
   "metadata": {
    "tags": [],
    "cell_id": "00000-feb3ee80-e873-4ef4-a1b5-a0d721e44191",
    "deepnote_to_be_reexecuted": false,
    "source_hash": "45bf7efe",
    "execution_start": 1641943089029,
    "execution_millis": 1,
    "deepnote_output_heights": [
     21.1875
    ],
    "deepnote_cell_type": "code"
   },
   "source": "import itertools\nimport torch\nimport torch.nn as nn\nimport numpy as np\nimport math\nimport matplotlib.pyplot as plt\nimport pandas as pd\nfrom sklearn.preprocessing import OneHotEncoder\nfrom torch.utils.data import Dataset, DataLoader, TensorDataset\nfrom sklearn.metrics import confusion_matrix, classification_report\nfrom sklearn.preprocessing import StandardScaler\nfrom sklearn.model_selection import train_test_split\nfrom sklearn.model_selection import RandomizedSearchCV\n\nfrom skorch import NeuralNetBinaryClassifier\n\nimport seaborn as sns\nimport warnings\nwarnings.filterwarnings(\"ignore\")\n%matplotlib inline\n\ndtype = torch.float\ndevice = torch.device(\"cpu\")",
   "outputs": [],
   "execution_count": null
  },
  {
   "cell_type": "markdown",
   "source": "## Defining resources\nWe define some relevant functions and costant variables to use in this notebook.",
   "metadata": {
    "tags": [],
    "cell_id": "00001-1b8716b6-6d34-4e7d-98ba-d564d8d00602",
    "deepnote_cell_type": "markdown"
   }
  },
  {
   "cell_type": "code",
   "metadata": {
    "tags": [],
    "cell_id": "00004-8c25520e-de6a-4685-ab0a-e93716fe7c65",
    "deepnote_to_be_reexecuted": false,
    "source_hash": "38655d7",
    "execution_start": 1641943089030,
    "execution_millis": 1,
    "deepnote_cell_type": "code"
   },
   "source": "#function to compute the accuracy\ndef binary_acc(y_pred, y_test):\n    y_pred_tag = torch.round(y_pred)\n\n    correct_results_sum = (y_pred_tag == y_test).sum().float()\n    acc = correct_results_sum/y_test.shape[0]\n    acc = torch.round(acc * 100)\n    \n    return acc",
   "outputs": [],
   "execution_count": null
  },
  {
   "cell_type": "code",
   "metadata": {
    "tags": [],
    "cell_id": "00018-4e2e2dbf-916d-4caa-b76a-c0dbb0e95951",
    "deepnote_to_be_reexecuted": false,
    "source_hash": "c73025ff",
    "execution_start": 1641943089086,
    "execution_millis": 9,
    "deepnote_cell_type": "code"
   },
   "source": "#define a function that split target column from dataset.\ndef split_train_test(df_monk_train, df_monk_test):\n    target_train = df_monk_train[['class']]\n    df_monk_train.drop(labels='class', axis=1, inplace=True)\n    target_test = df_monk_test[['class']]\n    df_monk_test.drop(labels='class', axis=1, inplace=True)\n    X_train = df_monk_train.values #returns a ndarray\n    y_train = target_train.values.ravel() #flattens the array into a 1-dimensional array\n    X_test = df_monk_test.values\n    y_test = target_test.values.ravel()\n\n    return X_train, y_train, X_test, y_test",
   "outputs": [],
   "execution_count": null
  },
  {
   "cell_type": "code",
   "metadata": {
    "tags": [],
    "cell_id": "00005-eb7d67bc-a9d8-4644-954d-42cd07456368",
    "deepnote_to_be_reexecuted": false,
    "source_hash": "a5b7cb83",
    "execution_start": 1641943089121,
    "execution_millis": 622088,
    "deepnote_cell_type": "code"
   },
   "source": "#define mee loss function \ndef mee(true_target, predicted_target):  # assuming target is 2-dim matrix with x and y as columns\n    l = true_target.shape[0]\n    res = 0\n\n    for p in range(l):  # for p-th pattern in l (number of samples)\n        x_diff = np.square(true_target[p, 0] - predicted_target[p, 0])  # difference between the x value of the true and predicted target\n        y_diff = np.square(\n            true_target[p, 1] - predicted_target[p, 1])  # difference between the y values of true and predicted target\n        sum_term = x_diff + y_diff\n        res = res + np.sqrt(sum_term)\n    res = res / l\n\n    return res",
   "outputs": [],
   "execution_count": null
  },
  {
   "cell_type": "code",
   "metadata": {
    "tags": [],
    "cell_id": "00002-2a5bec1d-9fea-490a-8952-e78202ec55c8",
    "deepnote_to_be_reexecuted": false,
    "source_hash": "f6b8540",
    "execution_start": 1641943089122,
    "execution_millis": 622035,
    "deepnote_output_heights": [
     78.765625
    ],
    "deepnote_cell_type": "code"
   },
   "source": "#define a neural network\nclass BinaryClassification(nn.Module):\n    def __init__(self, n_input = 6, hidden_units = 100):\n        super(BinaryClassification, self).__init__()\n        \n        self.layer_in = nn.Linear(n_input, hidden_units)\n        self.relu = nn.ReLU(inplace=True)\n        self.layer_out = nn.Linear(hidden_units, 1)\n        self.sigmoid = nn.Sigmoid()\n\n    def forward(self, inputs, **kwargs):\n        x = self.relu(self.layer_in(inputs))\n        x = self.sigmoid(self.layer_out(x))\n\n\n        return x",
   "outputs": [],
   "execution_count": null
  },
  {
   "cell_type": "code",
   "metadata": {
    "tags": [],
    "cell_id": "00001-6d2402a8-019e-4696-ad6b-1d223410aa3a",
    "deepnote_to_be_reexecuted": false,
    "source_hash": "ad63f56e",
    "execution_start": 1641943089172,
    "execution_millis": 621988,
    "deepnote_output_heights": [
     78.796875
    ],
    "deepnote_cell_type": "code"
   },
   "source": "#function to define the training phase\ndef TrainPhase(epochs, model, aggregated_losses, aggregated_accuracy, data_train, loss, optimizer):\n    model.train()\n    i = epochs\n\n    epoch_loss = 0\n    epoch_acc = 0\n    \n    for X_batch, y_batch in data_train:\n        X_batch, y_batch = X_batch.to(device), y_batch.to(device)\n        optimizer.zero_grad()\n       \n        y_pred = model(X_batch)\n        \n        single_loss = loss(y_pred, y_batch)fl\n        acc = binary_acc(y_pred, y_batch)\n            \n        \n        single_loss.backward()\n        optimizer.step()\n        \n        epoch_loss += single_loss.item()\n        epoch_acc += acc.item()\n        \n    aggregated_losses.append(epoch_loss/len(data_train))\n    aggregated_accuracy.append((epoch_acc/len(data_train))/100)\n    print(f'TRAIN - Epoch {i+0:03}: | Loss: {epoch_loss/len(data_train):.5f} | Acc: {epoch_acc/len(data_train):.3f}')\n    \n    return model, aggregated_losses, aggregated_accuracy",
   "outputs": [],
   "execution_count": null
  },
  {
   "cell_type": "code",
   "metadata": {
    "tags": [],
    "cell_id": "00002-a19b1be6-1674-4666-b468-423693c7e356",
    "deepnote_to_be_reexecuted": false,
    "source_hash": "8e23f002",
    "execution_start": 1641943089211,
    "execution_millis": 0,
    "deepnote_output_heights": [
     78.796875
    ],
    "deepnote_cell_type": "code"
   },
   "source": "#function to define the evaluating phase\ndef Evaluate(epochs, model, aggregated_losses, aggregated_accuracy, data_test, loss_f):\n    \n    i = epochs\n    y_pred_list = []\n    model.eval()\n        \n    epoch_loss = 0\n    epoch_acc = 0\n\n    with torch.no_grad():\n        for X_batch, y_batch in data_test:\n            X_batch, y_batch = X_batch.to(device), y_batch.to(device)\n            y_test_pred = model(X_batch)\n            loss = loss_f(y_test_pred, y_batch)\n            acc = binary_acc(y_test_pred, y_batch)\n                \n            epoch_loss += loss.item()\n            epoch_acc += acc.item()\n\n            #y_test_pred = torch.sigmoid(y_test_pred)\n            y_pred_tag = torch.round(y_test_pred)\n            y_pred_list.append(y_pred_tag.detach().numpy())\n\n    y_pred_list = [a.squeeze().tolist() for a in y_pred_list]\n    #flattens the lists in sequence\n    ytest_pred = list(itertools.chain.from_iterable(y_pred_list))\n\n    aggregated_losses.append(epoch_loss/len(data_test))\n    aggregated_accuracy.append((epoch_acc/len(data_test))/100)\n    #print(f'TEST - Epoch {i+0:03}: | Loss: {epoch_loss/len(data_test):.5f} | Acc: {epoch_acc/len(data_test):.3f}')\n    print(f'VALIDATION - Epoch {i+0:03}: | Loss: {epoch_loss/len(data_test):.5f} | Acc: {epoch_acc/len(data_test):.3f}')\n    \n    return ytest_pred, aggregated_losses, aggregated_accuracy\n    ",
   "outputs": [],
   "execution_count": null
  },
  {
   "cell_type": "code",
   "metadata": {
    "tags": [],
    "cell_id": "00007-2a493ffb-e0ef-4fed-b4fd-58e4268d8343",
    "deepnote_to_be_reexecuted": false,
    "source_hash": "d4d1efe6",
    "execution_start": 1641943089212,
    "execution_millis": 0,
    "deepnote_cell_type": "code"
   },
   "source": "#function to define the evaluate phase\ndef Evaluate_Test(model, aggregated_losses, aggregated_accuracy, data_test, loss_f):\n\n    y_pred_list = []\n    model.eval()\n\n    with torch.no_grad():\n        for X_batch, y_batch in data_test:\n            X_batch, y_batch = X_batch.to(device), y_batch.to(device)\n            y_test_pred = model(X_batch)\n            loss = loss_f(y_test_pred, y_batch)\n            acc = binary_acc(y_test_pred, y_batch)\n      \n            y_pred_tag = torch.round(y_test_pred)\n            y_pred_list.append(y_pred_tag.detach().numpy())\n\n    y_pred_list = [a.squeeze().tolist() for a in y_pred_list]\n    #flattens the lists in sequence\n    #ytest_pred = list(itertools.chain.from_iterable(y_pred_list))\n\n    print(f'TEST - Loss: {loss.item():.5f} | Acc: {acc:.3f}')\n    \n    return y_pred_list, aggregated_losses, aggregated_accuracy",
   "outputs": [],
   "execution_count": null
  },
  {
   "cell_type": "markdown",
   "source": "## Loading MONK-1 dataset\nNow we load the first MONK dataset.",
   "metadata": {
    "tags": [],
    "cell_id": "00000-3c151ff9-9d1e-45e5-aaa2-5ad7d942f1af",
    "deepnote_cell_type": "markdown"
   }
  },
  {
   "cell_type": "code",
   "metadata": {
    "tags": [],
    "cell_id": "00001-fd0a2f32-f2f3-4a89-94dc-9175c5f69468",
    "deepnote_to_be_reexecuted": false,
    "source_hash": "1a5b69e",
    "execution_start": 1641943089213,
    "execution_millis": 78,
    "deepnote_cell_type": "code"
   },
   "source": "#read train dataset\ndf_monk1_train = pd.read_csv('./data/MONK/monks-1.train', sep=\" \", skipinitialspace=True, names=['class','a1','a2','a3','a4','a5','a6','id'])\ndf_monk1_train.drop(labels='id', axis=1, inplace=True)\n\n#read test dataset\ndf_monk1_test = pd.read_csv('./data/MONK/monks-1.test', sep=\" \", skipinitialspace=True,  names=['class','a1','a2','a3','a4','a5','a6','id'])\ndf_monk1_test.drop(labels='id', axis=1, inplace=True)",
   "outputs": [],
   "execution_count": null
  },
  {
   "cell_type": "code",
   "metadata": {
    "tags": [],
    "cell_id": "00000-2f3640fb-95bb-4c37-b4f3-7b54a312e8e5",
    "deepnote_to_be_reexecuted": false,
    "source_hash": "e3bac8c0",
    "execution_start": 1641943089307,
    "execution_millis": 174,
    "deepnote_table_state": {
     "pageSize": 10,
     "pageIndex": 0,
     "filters": [],
     "sortBy": []
    },
    "deepnote_table_loading": false,
    "deepnote_cell_type": "code"
   },
   "source": "df_monk1_test #first column is the target (can be either 0 or 1)",
   "outputs": [
    {
     "output_type": "execute_result",
     "execution_count": 448,
     "data": {
      "application/vnd.deepnote.dataframe.v3+json": {
       "column_count": 7,
       "row_count": 432,
       "columns": [
        {
         "name": "class",
         "dtype": "int64",
         "stats": {
          "unique_count": 2,
          "nan_count": 0,
          "min": "0",
          "max": "1",
          "histogram": [
           {
            "bin_start": 0,
            "bin_end": 0.1,
            "count": 216
           },
           {
            "bin_start": 0.1,
            "bin_end": 0.2,
            "count": 0
           },
           {
            "bin_start": 0.2,
            "bin_end": 0.30000000000000004,
            "count": 0
           },
           {
            "bin_start": 0.30000000000000004,
            "bin_end": 0.4,
            "count": 0
           },
           {
            "bin_start": 0.4,
            "bin_end": 0.5,
            "count": 0
           },
           {
            "bin_start": 0.5,
            "bin_end": 0.6000000000000001,
            "count": 0
           },
           {
            "bin_start": 0.6000000000000001,
            "bin_end": 0.7000000000000001,
            "count": 0
           },
           {
            "bin_start": 0.7000000000000001,
            "bin_end": 0.8,
            "count": 0
           },
           {
            "bin_start": 0.8,
            "bin_end": 0.9,
            "count": 0
           },
           {
            "bin_start": 0.9,
            "bin_end": 1,
            "count": 216
           }
          ]
         }
        },
        {
         "name": "a1",
         "dtype": "int64",
         "stats": {
          "unique_count": 3,
          "nan_count": 0,
          "min": "1",
          "max": "3",
          "histogram": [
           {
            "bin_start": 1,
            "bin_end": 1.2,
            "count": 144
           },
           {
            "bin_start": 1.2,
            "bin_end": 1.4,
            "count": 0
           },
           {
            "bin_start": 1.4,
            "bin_end": 1.6,
            "count": 0
           },
           {
            "bin_start": 1.6,
            "bin_end": 1.8,
            "count": 0
           },
           {
            "bin_start": 1.8,
            "bin_end": 2,
            "count": 0
           },
           {
            "bin_start": 2,
            "bin_end": 2.2,
            "count": 144
           },
           {
            "bin_start": 2.2,
            "bin_end": 2.4000000000000004,
            "count": 0
           },
           {
            "bin_start": 2.4000000000000004,
            "bin_end": 2.6,
            "count": 0
           },
           {
            "bin_start": 2.6,
            "bin_end": 2.8,
            "count": 0
           },
           {
            "bin_start": 2.8,
            "bin_end": 3,
            "count": 144
           }
          ]
         }
        },
        {
         "name": "a2",
         "dtype": "int64",
         "stats": {
          "unique_count": 3,
          "nan_count": 0,
          "min": "1",
          "max": "3",
          "histogram": [
           {
            "bin_start": 1,
            "bin_end": 1.2,
            "count": 144
           },
           {
            "bin_start": 1.2,
            "bin_end": 1.4,
            "count": 0
           },
           {
            "bin_start": 1.4,
            "bin_end": 1.6,
            "count": 0
           },
           {
            "bin_start": 1.6,
            "bin_end": 1.8,
            "count": 0
           },
           {
            "bin_start": 1.8,
            "bin_end": 2,
            "count": 0
           },
           {
            "bin_start": 2,
            "bin_end": 2.2,
            "count": 144
           },
           {
            "bin_start": 2.2,
            "bin_end": 2.4000000000000004,
            "count": 0
           },
           {
            "bin_start": 2.4000000000000004,
            "bin_end": 2.6,
            "count": 0
           },
           {
            "bin_start": 2.6,
            "bin_end": 2.8,
            "count": 0
           },
           {
            "bin_start": 2.8,
            "bin_end": 3,
            "count": 144
           }
          ]
         }
        },
        {
         "name": "a3",
         "dtype": "int64",
         "stats": {
          "unique_count": 2,
          "nan_count": 0,
          "min": "1",
          "max": "2",
          "histogram": [
           {
            "bin_start": 1,
            "bin_end": 1.1,
            "count": 216
           },
           {
            "bin_start": 1.1,
            "bin_end": 1.2,
            "count": 0
           },
           {
            "bin_start": 1.2,
            "bin_end": 1.3,
            "count": 0
           },
           {
            "bin_start": 1.3,
            "bin_end": 1.4,
            "count": 0
           },
           {
            "bin_start": 1.4,
            "bin_end": 1.5,
            "count": 0
           },
           {
            "bin_start": 1.5,
            "bin_end": 1.6,
            "count": 0
           },
           {
            "bin_start": 1.6,
            "bin_end": 1.7000000000000002,
            "count": 0
           },
           {
            "bin_start": 1.7000000000000002,
            "bin_end": 1.8,
            "count": 0
           },
           {
            "bin_start": 1.8,
            "bin_end": 1.9,
            "count": 0
           },
           {
            "bin_start": 1.9,
            "bin_end": 2,
            "count": 216
           }
          ]
         }
        },
        {
         "name": "a4",
         "dtype": "int64",
         "stats": {
          "unique_count": 3,
          "nan_count": 0,
          "min": "1",
          "max": "3",
          "histogram": [
           {
            "bin_start": 1,
            "bin_end": 1.2,
            "count": 144
           },
           {
            "bin_start": 1.2,
            "bin_end": 1.4,
            "count": 0
           },
           {
            "bin_start": 1.4,
            "bin_end": 1.6,
            "count": 0
           },
           {
            "bin_start": 1.6,
            "bin_end": 1.8,
            "count": 0
           },
           {
            "bin_start": 1.8,
            "bin_end": 2,
            "count": 0
           },
           {
            "bin_start": 2,
            "bin_end": 2.2,
            "count": 144
           },
           {
            "bin_start": 2.2,
            "bin_end": 2.4000000000000004,
            "count": 0
           },
           {
            "bin_start": 2.4000000000000004,
            "bin_end": 2.6,
            "count": 0
           },
           {
            "bin_start": 2.6,
            "bin_end": 2.8,
            "count": 0
           },
           {
            "bin_start": 2.8,
            "bin_end": 3,
            "count": 144
           }
          ]
         }
        },
        {
         "name": "a5",
         "dtype": "int64",
         "stats": {
          "unique_count": 4,
          "nan_count": 0,
          "min": "1",
          "max": "4",
          "histogram": [
           {
            "bin_start": 1,
            "bin_end": 1.3,
            "count": 108
           },
           {
            "bin_start": 1.3,
            "bin_end": 1.6,
            "count": 0
           },
           {
            "bin_start": 1.6,
            "bin_end": 1.9,
            "count": 0
           },
           {
            "bin_start": 1.9,
            "bin_end": 2.2,
            "count": 108
           },
           {
            "bin_start": 2.2,
            "bin_end": 2.5,
            "count": 0
           },
           {
            "bin_start": 2.5,
            "bin_end": 2.8,
            "count": 0
           },
           {
            "bin_start": 2.8,
            "bin_end": 3.1,
            "count": 108
           },
           {
            "bin_start": 3.1,
            "bin_end": 3.4,
            "count": 0
           },
           {
            "bin_start": 3.4,
            "bin_end": 3.6999999999999997,
            "count": 0
           },
           {
            "bin_start": 3.6999999999999997,
            "bin_end": 4,
            "count": 108
           }
          ]
         }
        },
        {
         "name": "a6",
         "dtype": "int64",
         "stats": {
          "unique_count": 2,
          "nan_count": 0,
          "min": "1",
          "max": "2",
          "histogram": [
           {
            "bin_start": 1,
            "bin_end": 1.1,
            "count": 216
           },
           {
            "bin_start": 1.1,
            "bin_end": 1.2,
            "count": 0
           },
           {
            "bin_start": 1.2,
            "bin_end": 1.3,
            "count": 0
           },
           {
            "bin_start": 1.3,
            "bin_end": 1.4,
            "count": 0
           },
           {
            "bin_start": 1.4,
            "bin_end": 1.5,
            "count": 0
           },
           {
            "bin_start": 1.5,
            "bin_end": 1.6,
            "count": 0
           },
           {
            "bin_start": 1.6,
            "bin_end": 1.7000000000000002,
            "count": 0
           },
           {
            "bin_start": 1.7000000000000002,
            "bin_end": 1.8,
            "count": 0
           },
           {
            "bin_start": 1.8,
            "bin_end": 1.9,
            "count": 0
           },
           {
            "bin_start": 1.9,
            "bin_end": 2,
            "count": 216
           }
          ]
         }
        },
        {
         "name": "_deepnote_index_column",
         "dtype": "int64"
        }
       ],
       "rows": [
        {
         "class": 1,
         "a1": 1,
         "a2": 1,
         "a3": 1,
         "a4": 1,
         "a5": 1,
         "a6": 1,
         "_deepnote_index_column": 0
        },
        {
         "class": 1,
         "a1": 1,
         "a2": 1,
         "a3": 1,
         "a4": 1,
         "a5": 1,
         "a6": 2,
         "_deepnote_index_column": 1
        },
        {
         "class": 1,
         "a1": 1,
         "a2": 1,
         "a3": 1,
         "a4": 1,
         "a5": 2,
         "a6": 1,
         "_deepnote_index_column": 2
        },
        {
         "class": 1,
         "a1": 1,
         "a2": 1,
         "a3": 1,
         "a4": 1,
         "a5": 2,
         "a6": 2,
         "_deepnote_index_column": 3
        },
        {
         "class": 1,
         "a1": 1,
         "a2": 1,
         "a3": 1,
         "a4": 1,
         "a5": 3,
         "a6": 1,
         "_deepnote_index_column": 4
        },
        {
         "class": 1,
         "a1": 1,
         "a2": 1,
         "a3": 1,
         "a4": 1,
         "a5": 3,
         "a6": 2,
         "_deepnote_index_column": 5
        },
        {
         "class": 1,
         "a1": 1,
         "a2": 1,
         "a3": 1,
         "a4": 1,
         "a5": 4,
         "a6": 1,
         "_deepnote_index_column": 6
        },
        {
         "class": 1,
         "a1": 1,
         "a2": 1,
         "a3": 1,
         "a4": 1,
         "a5": 4,
         "a6": 2,
         "_deepnote_index_column": 7
        },
        {
         "class": 1,
         "a1": 1,
         "a2": 1,
         "a3": 1,
         "a4": 2,
         "a5": 1,
         "a6": 1,
         "_deepnote_index_column": 8
        },
        {
         "class": 1,
         "a1": 1,
         "a2": 1,
         "a3": 1,
         "a4": 2,
         "a5": 1,
         "a6": 2,
         "_deepnote_index_column": 9
        }
       ]
      },
      "text/plain": "     class  a1  a2  a3  a4  a5  a6\n0        1   1   1   1   1   1   1\n1        1   1   1   1   1   1   2\n2        1   1   1   1   1   2   1\n3        1   1   1   1   1   2   2\n4        1   1   1   1   1   3   1\n..     ...  ..  ..  ..  ..  ..  ..\n427      1   3   3   2   3   2   2\n428      1   3   3   2   3   3   1\n429      1   3   3   2   3   3   2\n430      1   3   3   2   3   4   1\n431      1   3   3   2   3   4   2\n\n[432 rows x 7 columns]",
      "text/html": "<div>\n<style scoped>\n    .dataframe tbody tr th:only-of-type {\n        vertical-align: middle;\n    }\n\n    .dataframe tbody tr th {\n        vertical-align: top;\n    }\n\n    .dataframe thead th {\n        text-align: right;\n    }\n</style>\n<table border=\"1\" class=\"dataframe\">\n  <thead>\n    <tr style=\"text-align: right;\">\n      <th></th>\n      <th>class</th>\n      <th>a1</th>\n      <th>a2</th>\n      <th>a3</th>\n      <th>a4</th>\n      <th>a5</th>\n      <th>a6</th>\n    </tr>\n  </thead>\n  <tbody>\n    <tr>\n      <th>0</th>\n      <td>1</td>\n      <td>1</td>\n      <td>1</td>\n      <td>1</td>\n      <td>1</td>\n      <td>1</td>\n      <td>1</td>\n    </tr>\n    <tr>\n      <th>1</th>\n      <td>1</td>\n      <td>1</td>\n      <td>1</td>\n      <td>1</td>\n      <td>1</td>\n      <td>1</td>\n      <td>2</td>\n    </tr>\n    <tr>\n      <th>2</th>\n      <td>1</td>\n      <td>1</td>\n      <td>1</td>\n      <td>1</td>\n      <td>1</td>\n      <td>2</td>\n      <td>1</td>\n    </tr>\n    <tr>\n      <th>3</th>\n      <td>1</td>\n      <td>1</td>\n      <td>1</td>\n      <td>1</td>\n      <td>1</td>\n      <td>2</td>\n      <td>2</td>\n    </tr>\n    <tr>\n      <th>4</th>\n      <td>1</td>\n      <td>1</td>\n      <td>1</td>\n      <td>1</td>\n      <td>1</td>\n      <td>3</td>\n      <td>1</td>\n    </tr>\n    <tr>\n      <th>...</th>\n      <td>...</td>\n      <td>...</td>\n      <td>...</td>\n      <td>...</td>\n      <td>...</td>\n      <td>...</td>\n      <td>...</td>\n    </tr>\n    <tr>\n      <th>427</th>\n      <td>1</td>\n      <td>3</td>\n      <td>3</td>\n      <td>2</td>\n      <td>3</td>\n      <td>2</td>\n      <td>2</td>\n    </tr>\n    <tr>\n      <th>428</th>\n      <td>1</td>\n      <td>3</td>\n      <td>3</td>\n      <td>2</td>\n      <td>3</td>\n      <td>3</td>\n      <td>1</td>\n    </tr>\n    <tr>\n      <th>429</th>\n      <td>1</td>\n      <td>3</td>\n      <td>3</td>\n      <td>2</td>\n      <td>3</td>\n      <td>3</td>\n      <td>2</td>\n    </tr>\n    <tr>\n      <th>430</th>\n      <td>1</td>\n      <td>3</td>\n      <td>3</td>\n      <td>2</td>\n      <td>3</td>\n      <td>4</td>\n      <td>1</td>\n    </tr>\n    <tr>\n      <th>431</th>\n      <td>1</td>\n      <td>3</td>\n      <td>3</td>\n      <td>2</td>\n      <td>3</td>\n      <td>4</td>\n      <td>2</td>\n    </tr>\n  </tbody>\n</table>\n<p>432 rows × 7 columns</p>\n</div>"
     },
     "metadata": {}
    }
   ],
   "execution_count": null
  },
  {
   "cell_type": "code",
   "metadata": {
    "tags": [],
    "cell_id": "00004-3aae5316-d4b7-4113-9b05-0440a3a3f494",
    "deepnote_to_be_reexecuted": false,
    "source_hash": "a26e411c",
    "execution_start": 1641943089485,
    "execution_millis": 142,
    "deepnote_table_state": {
     "pageSize": 10,
     "pageIndex": 0,
     "filters": [],
     "sortBy": []
    },
    "deepnote_table_loading": false,
    "deepnote_cell_type": "code"
   },
   "source": "df_monk1_train",
   "outputs": [
    {
     "output_type": "execute_result",
     "execution_count": 449,
     "data": {
      "application/vnd.deepnote.dataframe.v3+json": {
       "column_count": 7,
       "row_count": 124,
       "columns": [
        {
         "name": "class",
         "dtype": "int64",
         "stats": {
          "unique_count": 2,
          "nan_count": 0,
          "min": "0",
          "max": "1",
          "histogram": [
           {
            "bin_start": 0,
            "bin_end": 0.1,
            "count": 62
           },
           {
            "bin_start": 0.1,
            "bin_end": 0.2,
            "count": 0
           },
           {
            "bin_start": 0.2,
            "bin_end": 0.30000000000000004,
            "count": 0
           },
           {
            "bin_start": 0.30000000000000004,
            "bin_end": 0.4,
            "count": 0
           },
           {
            "bin_start": 0.4,
            "bin_end": 0.5,
            "count": 0
           },
           {
            "bin_start": 0.5,
            "bin_end": 0.6000000000000001,
            "count": 0
           },
           {
            "bin_start": 0.6000000000000001,
            "bin_end": 0.7000000000000001,
            "count": 0
           },
           {
            "bin_start": 0.7000000000000001,
            "bin_end": 0.8,
            "count": 0
           },
           {
            "bin_start": 0.8,
            "bin_end": 0.9,
            "count": 0
           },
           {
            "bin_start": 0.9,
            "bin_end": 1,
            "count": 62
           }
          ]
         }
        },
        {
         "name": "a1",
         "dtype": "int64",
         "stats": {
          "unique_count": 3,
          "nan_count": 0,
          "min": "1",
          "max": "3",
          "histogram": [
           {
            "bin_start": 1,
            "bin_end": 1.2,
            "count": 45
           },
           {
            "bin_start": 1.2,
            "bin_end": 1.4,
            "count": 0
           },
           {
            "bin_start": 1.4,
            "bin_end": 1.6,
            "count": 0
           },
           {
            "bin_start": 1.6,
            "bin_end": 1.8,
            "count": 0
           },
           {
            "bin_start": 1.8,
            "bin_end": 2,
            "count": 0
           },
           {
            "bin_start": 2,
            "bin_end": 2.2,
            "count": 42
           },
           {
            "bin_start": 2.2,
            "bin_end": 2.4000000000000004,
            "count": 0
           },
           {
            "bin_start": 2.4000000000000004,
            "bin_end": 2.6,
            "count": 0
           },
           {
            "bin_start": 2.6,
            "bin_end": 2.8,
            "count": 0
           },
           {
            "bin_start": 2.8,
            "bin_end": 3,
            "count": 37
           }
          ]
         }
        },
        {
         "name": "a2",
         "dtype": "int64",
         "stats": {
          "unique_count": 3,
          "nan_count": 0,
          "min": "1",
          "max": "3",
          "histogram": [
           {
            "bin_start": 1,
            "bin_end": 1.2,
            "count": 35
           },
           {
            "bin_start": 1.2,
            "bin_end": 1.4,
            "count": 0
           },
           {
            "bin_start": 1.4,
            "bin_end": 1.6,
            "count": 0
           },
           {
            "bin_start": 1.6,
            "bin_end": 1.8,
            "count": 0
           },
           {
            "bin_start": 1.8,
            "bin_end": 2,
            "count": 0
           },
           {
            "bin_start": 2,
            "bin_end": 2.2,
            "count": 42
           },
           {
            "bin_start": 2.2,
            "bin_end": 2.4000000000000004,
            "count": 0
           },
           {
            "bin_start": 2.4000000000000004,
            "bin_end": 2.6,
            "count": 0
           },
           {
            "bin_start": 2.6,
            "bin_end": 2.8,
            "count": 0
           },
           {
            "bin_start": 2.8,
            "bin_end": 3,
            "count": 47
           }
          ]
         }
        },
        {
         "name": "a3",
         "dtype": "int64",
         "stats": {
          "unique_count": 2,
          "nan_count": 0,
          "min": "1",
          "max": "2",
          "histogram": [
           {
            "bin_start": 1,
            "bin_end": 1.1,
            "count": 65
           },
           {
            "bin_start": 1.1,
            "bin_end": 1.2,
            "count": 0
           },
           {
            "bin_start": 1.2,
            "bin_end": 1.3,
            "count": 0
           },
           {
            "bin_start": 1.3,
            "bin_end": 1.4,
            "count": 0
           },
           {
            "bin_start": 1.4,
            "bin_end": 1.5,
            "count": 0
           },
           {
            "bin_start": 1.5,
            "bin_end": 1.6,
            "count": 0
           },
           {
            "bin_start": 1.6,
            "bin_end": 1.7000000000000002,
            "count": 0
           },
           {
            "bin_start": 1.7000000000000002,
            "bin_end": 1.8,
            "count": 0
           },
           {
            "bin_start": 1.8,
            "bin_end": 1.9,
            "count": 0
           },
           {
            "bin_start": 1.9,
            "bin_end": 2,
            "count": 59
           }
          ]
         }
        },
        {
         "name": "a4",
         "dtype": "int64",
         "stats": {
          "unique_count": 3,
          "nan_count": 0,
          "min": "1",
          "max": "3",
          "histogram": [
           {
            "bin_start": 1,
            "bin_end": 1.2,
            "count": 42
           },
           {
            "bin_start": 1.2,
            "bin_end": 1.4,
            "count": 0
           },
           {
            "bin_start": 1.4,
            "bin_end": 1.6,
            "count": 0
           },
           {
            "bin_start": 1.6,
            "bin_end": 1.8,
            "count": 0
           },
           {
            "bin_start": 1.8,
            "bin_end": 2,
            "count": 0
           },
           {
            "bin_start": 2,
            "bin_end": 2.2,
            "count": 39
           },
           {
            "bin_start": 2.2,
            "bin_end": 2.4000000000000004,
            "count": 0
           },
           {
            "bin_start": 2.4000000000000004,
            "bin_end": 2.6,
            "count": 0
           },
           {
            "bin_start": 2.6,
            "bin_end": 2.8,
            "count": 0
           },
           {
            "bin_start": 2.8,
            "bin_end": 3,
            "count": 43
           }
          ]
         }
        },
        {
         "name": "a5",
         "dtype": "int64",
         "stats": {
          "unique_count": 4,
          "nan_count": 0,
          "min": "1",
          "max": "4",
          "histogram": [
           {
            "bin_start": 1,
            "bin_end": 1.3,
            "count": 29
           },
           {
            "bin_start": 1.3,
            "bin_end": 1.6,
            "count": 0
           },
           {
            "bin_start": 1.6,
            "bin_end": 1.9,
            "count": 0
           },
           {
            "bin_start": 1.9,
            "bin_end": 2.2,
            "count": 31
           },
           {
            "bin_start": 2.2,
            "bin_end": 2.5,
            "count": 0
           },
           {
            "bin_start": 2.5,
            "bin_end": 2.8,
            "count": 0
           },
           {
            "bin_start": 2.8,
            "bin_end": 3.1,
            "count": 30
           },
           {
            "bin_start": 3.1,
            "bin_end": 3.4,
            "count": 0
           },
           {
            "bin_start": 3.4,
            "bin_end": 3.6999999999999997,
            "count": 0
           },
           {
            "bin_start": 3.6999999999999997,
            "bin_end": 4,
            "count": 34
           }
          ]
         }
        },
        {
         "name": "a6",
         "dtype": "int64",
         "stats": {
          "unique_count": 2,
          "nan_count": 0,
          "min": "1",
          "max": "2",
          "histogram": [
           {
            "bin_start": 1,
            "bin_end": 1.1,
            "count": 56
           },
           {
            "bin_start": 1.1,
            "bin_end": 1.2,
            "count": 0
           },
           {
            "bin_start": 1.2,
            "bin_end": 1.3,
            "count": 0
           },
           {
            "bin_start": 1.3,
            "bin_end": 1.4,
            "count": 0
           },
           {
            "bin_start": 1.4,
            "bin_end": 1.5,
            "count": 0
           },
           {
            "bin_start": 1.5,
            "bin_end": 1.6,
            "count": 0
           },
           {
            "bin_start": 1.6,
            "bin_end": 1.7000000000000002,
            "count": 0
           },
           {
            "bin_start": 1.7000000000000002,
            "bin_end": 1.8,
            "count": 0
           },
           {
            "bin_start": 1.8,
            "bin_end": 1.9,
            "count": 0
           },
           {
            "bin_start": 1.9,
            "bin_end": 2,
            "count": 68
           }
          ]
         }
        },
        {
         "name": "_deepnote_index_column",
         "dtype": "int64"
        }
       ],
       "rows": [
        {
         "class": 1,
         "a1": 1,
         "a2": 1,
         "a3": 1,
         "a4": 1,
         "a5": 3,
         "a6": 1,
         "_deepnote_index_column": 0
        },
        {
         "class": 1,
         "a1": 1,
         "a2": 1,
         "a3": 1,
         "a4": 1,
         "a5": 3,
         "a6": 2,
         "_deepnote_index_column": 1
        },
        {
         "class": 1,
         "a1": 1,
         "a2": 1,
         "a3": 1,
         "a4": 3,
         "a5": 2,
         "a6": 1,
         "_deepnote_index_column": 2
        },
        {
         "class": 1,
         "a1": 1,
         "a2": 1,
         "a3": 1,
         "a4": 3,
         "a5": 3,
         "a6": 2,
         "_deepnote_index_column": 3
        },
        {
         "class": 1,
         "a1": 1,
         "a2": 1,
         "a3": 2,
         "a4": 1,
         "a5": 2,
         "a6": 1,
         "_deepnote_index_column": 4
        },
        {
         "class": 1,
         "a1": 1,
         "a2": 1,
         "a3": 2,
         "a4": 1,
         "a5": 2,
         "a6": 2,
         "_deepnote_index_column": 5
        },
        {
         "class": 1,
         "a1": 1,
         "a2": 1,
         "a3": 2,
         "a4": 2,
         "a5": 3,
         "a6": 1,
         "_deepnote_index_column": 6
        },
        {
         "class": 1,
         "a1": 1,
         "a2": 1,
         "a3": 2,
         "a4": 2,
         "a5": 4,
         "a6": 1,
         "_deepnote_index_column": 7
        },
        {
         "class": 1,
         "a1": 1,
         "a2": 1,
         "a3": 2,
         "a4": 3,
         "a5": 1,
         "a6": 2,
         "_deepnote_index_column": 8
        },
        {
         "class": 1,
         "a1": 1,
         "a2": 2,
         "a3": 1,
         "a4": 1,
         "a5": 1,
         "a6": 2,
         "_deepnote_index_column": 9
        }
       ]
      },
      "text/plain": "     class  a1  a2  a3  a4  a5  a6\n0        1   1   1   1   1   3   1\n1        1   1   1   1   1   3   2\n2        1   1   1   1   3   2   1\n3        1   1   1   1   3   3   2\n4        1   1   1   2   1   2   1\n..     ...  ..  ..  ..  ..  ..  ..\n119      1   3   3   2   1   4   2\n120      1   3   3   2   3   1   2\n121      1   3   3   2   3   2   2\n122      1   3   3   2   3   3   2\n123      1   3   3   2   3   4   2\n\n[124 rows x 7 columns]",
      "text/html": "<div>\n<style scoped>\n    .dataframe tbody tr th:only-of-type {\n        vertical-align: middle;\n    }\n\n    .dataframe tbody tr th {\n        vertical-align: top;\n    }\n\n    .dataframe thead th {\n        text-align: right;\n    }\n</style>\n<table border=\"1\" class=\"dataframe\">\n  <thead>\n    <tr style=\"text-align: right;\">\n      <th></th>\n      <th>class</th>\n      <th>a1</th>\n      <th>a2</th>\n      <th>a3</th>\n      <th>a4</th>\n      <th>a5</th>\n      <th>a6</th>\n    </tr>\n  </thead>\n  <tbody>\n    <tr>\n      <th>0</th>\n      <td>1</td>\n      <td>1</td>\n      <td>1</td>\n      <td>1</td>\n      <td>1</td>\n      <td>3</td>\n      <td>1</td>\n    </tr>\n    <tr>\n      <th>1</th>\n      <td>1</td>\n      <td>1</td>\n      <td>1</td>\n      <td>1</td>\n      <td>1</td>\n      <td>3</td>\n      <td>2</td>\n    </tr>\n    <tr>\n      <th>2</th>\n      <td>1</td>\n      <td>1</td>\n      <td>1</td>\n      <td>1</td>\n      <td>3</td>\n      <td>2</td>\n      <td>1</td>\n    </tr>\n    <tr>\n      <th>3</th>\n      <td>1</td>\n      <td>1</td>\n      <td>1</td>\n      <td>1</td>\n      <td>3</td>\n      <td>3</td>\n      <td>2</td>\n    </tr>\n    <tr>\n      <th>4</th>\n      <td>1</td>\n      <td>1</td>\n      <td>1</td>\n      <td>2</td>\n      <td>1</td>\n      <td>2</td>\n      <td>1</td>\n    </tr>\n    <tr>\n      <th>...</th>\n      <td>...</td>\n      <td>...</td>\n      <td>...</td>\n      <td>...</td>\n      <td>...</td>\n      <td>...</td>\n      <td>...</td>\n    </tr>\n    <tr>\n      <th>119</th>\n      <td>1</td>\n      <td>3</td>\n      <td>3</td>\n      <td>2</td>\n      <td>1</td>\n      <td>4</td>\n      <td>2</td>\n    </tr>\n    <tr>\n      <th>120</th>\n      <td>1</td>\n      <td>3</td>\n      <td>3</td>\n      <td>2</td>\n      <td>3</td>\n      <td>1</td>\n      <td>2</td>\n    </tr>\n    <tr>\n      <th>121</th>\n      <td>1</td>\n      <td>3</td>\n      <td>3</td>\n      <td>2</td>\n      <td>3</td>\n      <td>2</td>\n      <td>2</td>\n    </tr>\n    <tr>\n      <th>122</th>\n      <td>1</td>\n      <td>3</td>\n      <td>3</td>\n      <td>2</td>\n      <td>3</td>\n      <td>3</td>\n      <td>2</td>\n    </tr>\n    <tr>\n      <th>123</th>\n      <td>1</td>\n      <td>3</td>\n      <td>3</td>\n      <td>2</td>\n      <td>3</td>\n      <td>4</td>\n      <td>2</td>\n    </tr>\n  </tbody>\n</table>\n<p>124 rows × 7 columns</p>\n</div>"
     },
     "metadata": {}
    }
   ],
   "execution_count": null
  },
  {
   "cell_type": "code",
   "metadata": {
    "tags": [],
    "cell_id": "00005-9871c03f-5475-45e7-b0bd-16fcb8946ab3",
    "deepnote_to_be_reexecuted": false,
    "source_hash": "b22c86e5",
    "execution_start": 1641943089624,
    "execution_millis": 799,
    "deepnote_output_heights": [
     21.1875,
     451
    ],
    "deepnote_cell_type": "code"
   },
   "source": "#plot class distribution in train data\nfig_size = plt.rcParams[\"figure.figsize\"]\nfig_size[0] = 10\nfig_size[1] = 8\nplt.rcParams[\"figure.figsize\"] = fig_size\n\ndf_monk1_train['class'].value_counts().plot(kind='pie', autopct='%1.0f%%', colors=['skyblue', 'orange'], explode=(0.05, 0.05))",
   "outputs": [
    {
     "output_type": "execute_result",
     "execution_count": 450,
     "data": {
      "text/plain": "<AxesSubplot:ylabel='class'>"
     },
     "metadata": {}
    },
    {
     "data": {
      "text/plain": "<Figure size 720x576 with 1 Axes>",
      "image/png": "[encoded data removed]"
     },
     "metadata": {
      "image/png": {
       "width": 463,
       "height": 449
      }
     },
     "output_type": "display_data"
    }
   ],
   "execution_count": null
  },
  {
   "cell_type": "code",
   "metadata": {
    "tags": [],
    "cell_id": "00006-cf57ec2c-783c-4fb6-b41c-1d6bb899e12d",
    "deepnote_to_be_reexecuted": false,
    "source_hash": "3b111b4e",
    "execution_start": 1641943090099,
    "execution_millis": 356,
    "deepnote_output_heights": [
     21.1875,
     451
    ],
    "deepnote_cell_type": "code"
   },
   "source": "#plot class distribution in test data\ndf_monk1_test['class'].value_counts().plot(kind='pie', autopct='%1.0f%%', colors=['skyblue', 'orange'], explode=(0.05, 0.05))",
   "outputs": [
    {
     "output_type": "execute_result",
     "execution_count": 451,
     "data": {
      "text/plain": "<AxesSubplot:ylabel='class'>"
     },
     "metadata": {}
    },
    {
     "data": {
      "text/plain": "<Figure size 720x576 with 1 Axes>",
      "image/png": "[encoded data removed]"
     },
     "metadata": {
      "image/png": {
       "width": 463,
       "height": 449
      }
     },
     "output_type": "display_data"
    }
   ],
   "execution_count": null
  },
  {
   "cell_type": "code",
   "metadata": {
    "tags": [],
    "cell_id": "00019-faeb7a82-95c7-4cce-a50a-2c1ac67414d9",
    "deepnote_to_be_reexecuted": false,
    "source_hash": "ea61b89e",
    "execution_start": 1641943090408,
    "execution_millis": 2,
    "deepnote_cell_type": "code"
   },
   "source": "X_train_M1, y_train_M1, X_test_M1, y_test_M1 = split_train_test(df_monk1_train, df_monk1_test)",
   "outputs": [],
   "execution_count": null
  },
  {
   "cell_type": "code",
   "metadata": {
    "tags": [],
    "cell_id": "00014-59eeaa5a-7fb9-4036-afdb-97d3acc95337",
    "deepnote_to_be_reexecuted": false,
    "source_hash": "162b5562",
    "execution_start": 1641943090467,
    "execution_millis": 9,
    "deepnote_cell_type": "code"
   },
   "source": "#prepare validation set\n#X_train, X_validation, y_train, y_validation = train_test_split(df_monk1_train, target_train, stratify=target_train, test_size=0.30)",
   "outputs": [],
   "execution_count": null
  },
  {
   "cell_type": "code",
   "metadata": {
    "tags": [],
    "cell_id": "00016-1565151b-448e-473f-ba7c-02e7c62f1dc0",
    "deepnote_to_be_reexecuted": false,
    "source_hash": "db0a19a1",
    "execution_start": 1641943090479,
    "execution_millis": 3,
    "deepnote_output_heights": [
     78.796875
    ],
    "deepnote_cell_type": "code"
   },
   "source": "#print(\"Length train data: \", X_train.shape[0])\n#print(\"Length validation data: \", X_validation.shape[0])",
   "outputs": [],
   "execution_count": null
  },
  {
   "cell_type": "code",
   "metadata": {
    "tags": [],
    "cell_id": "00008-5bdc0389-f2c2-471e-bcbb-bd041eb78f5e",
    "deepnote_to_be_reexecuted": false,
    "source_hash": "db0c97cb",
    "execution_start": 1641943090521,
    "execution_millis": 1,
    "deepnote_cell_type": "code"
   },
   "source": "#create tensor for train and test data \n#X_train = X_train.values #returns a ndarray\n#X_test = X_test.values\n#X_validation = X_validation.values\n\nx_tensor =  torch.from_numpy(X_train_M1).float()\ny_tensor =  torch.from_numpy(y_train_M1).float()\n#xval_tensor =  torch.from_numpy(X_validation).float()\n#yval_tensor =  torch.from_numpy(y_validation.values.ravel()).float()\nxtest_tensor =  torch.from_numpy(X_test_M1).float()\nytest_tensor =  torch.from_numpy(y_test_M1).float()",
   "outputs": [],
   "execution_count": null
  },
  {
   "cell_type": "markdown",
   "source": "### Model selection with skorch and sklearn\nIn this part, use skorch and sklearn to find the best model with randomizedsearch (or gridsearch)",
   "metadata": {
    "tags": [],
    "cell_id": "00024-68cc221e-c5bc-4ff8-9425-4af59faecd96",
    "deepnote_cell_type": "markdown"
   }
  },
  {
   "cell_type": "code",
   "source": "#cast train set and test set to Float\nX_trainFit = X_train_M1.astype(np.single)\ny_trainFit = y_train_M1.astype(np.single)\n\nX_testFit = X_test_M1.astype(np.single)\ny_testFit = y_test_M1.astype(np.single)",
   "metadata": {
    "tags": [],
    "cell_id": "00022-072d4575-2851-44d1-a46f-d2d938f89da1",
    "deepnote_to_be_reexecuted": false,
    "source_hash": "48a8f640",
    "execution_start": 1641943090522,
    "execution_millis": 0,
    "deepnote_cell_type": "code"
   },
   "outputs": [],
   "execution_count": null
  },
  {
   "cell_type": "code",
   "metadata": {
    "tags": [],
    "cell_id": "00025-2076aec7-9173-4e3b-9e37-bede5c57d8a3",
    "deepnote_to_be_reexecuted": false,
    "source_hash": "e1b3fcc2",
    "execution_start": 1641943090522,
    "execution_millis": 112096,
    "deepnote_output_heights": [
     null,
     558.625
    ],
    "deepnote_cell_type": "code"
   },
   "source": "net = NeuralNetBinaryClassifier(\n    BinaryClassification,\n    max_epochs=10,\n    #batch_size = 1,\n    # Shuffle training data on each epoch\n    iterator_train__shuffle=True,\n    train_split=None\n)\n\n# deactivate skorch-internal train-valid split and verbose logging\nnet.set_params(train_split=False, verbose=0)\n\nparams = {\n    'lr': [0.0001, 0.001, 0.01, 0.1],\n    'max_epochs': [10, 20, 30, 40, 50, 60, 70,  80, 90, 100],\n    'optimizer': [torch.optim.SGD],\n    #'criterion': [nn.BCELoss],\n    'optimizer__momentum': [0.8, 0.9, 0.95, 0.85],\n    'optimizer__weight_decay': [0.0001, 0.001, 0.01, 0.1],\n    'optimizer__nesterov': [False, True],\n    'module__hidden_units': [2, 3, 4, 5, 10, 20, 30, 40, 50, 60, 70, 80, 90, 100],\n    'batch_size': [32, 64, 124, 128],\n}\ngs = RandomizedSearchCV(net, params, n_jobs=-1, refit=True, cv=None, n_iter=50, scoring='accuracy', verbose=2)\n\ngs.fit(X_trainFit, y_trainFit)\nprint(\"best score: {:.3f}, best params: {}\".format(gs.best_score_, gs.best_params_))\n\ngrid_predictions = gs.predict(X_testFit1) \n# print classification report \nprint(classification_report(y_testFit, grid_predictions)) ",
   "outputs": [
    {
     "name": "stdout",
     "text": "Fitting 5 folds for each of 50 candidates, totalling 250 fits\nbest score: nan, best params: {'optimizer__weight_decay': 0.1, 'optimizer__nesterov': False, 'optimizer__momentum': 0.8, 'optimizer': <class 'torch.optim.sgd.SGD'>, 'module__hidden_units': 4, 'max_epochs': 20, 'lr': 0.001, 'criterion': <class 'torch.nn.modules.loss.BCELoss'>, 'batch_size': 64}\n",
     "output_type": "stream",
     "data": {}
    },
    {
     "output_type": "error",
     "ename": "IndexError",
     "evalue": "too many indices for array: array is 1-dimensional, but 2 were indexed",
     "traceback": [
      "\u001b[0;31m---------------------------------------------------------------------------\u001b[0m",
      "\u001b[0;31mIndexError\u001b[0m                                Traceback (most recent call last)",
      "\u001b[0;32m<ipython-input-457-3ba8dffe63be>\u001b[0m in \u001b[0;36m<module>\u001b[0;34m\u001b[0m\n\u001b[1;32m     27\u001b[0m \u001b[0mprint\u001b[0m\u001b[0;34m(\u001b[0m\u001b[0;34m\"best score: {:.3f}, best params: {}\"\u001b[0m\u001b[0;34m.\u001b[0m\u001b[0mformat\u001b[0m\u001b[0;34m(\u001b[0m\u001b[0mgs\u001b[0m\u001b[0;34m.\u001b[0m\u001b[0mbest_score_\u001b[0m\u001b[0;34m,\u001b[0m \u001b[0mgs\u001b[0m\u001b[0;34m.\u001b[0m\u001b[0mbest_params_\u001b[0m\u001b[0;34m)\u001b[0m\u001b[0;34m)\u001b[0m\u001b[0;34m\u001b[0m\u001b[0;34m\u001b[0m\u001b[0m\n\u001b[1;32m     28\u001b[0m \u001b[0;34m\u001b[0m\u001b[0m\n\u001b[0;32m---> 29\u001b[0;31m \u001b[0mgrid_predictions\u001b[0m \u001b[0;34m=\u001b[0m \u001b[0mgs\u001b[0m\u001b[0;34m.\u001b[0m\u001b[0mpredict\u001b[0m\u001b[0;34m(\u001b[0m\u001b[0mX_testFit\u001b[0m\u001b[0;34m)\u001b[0m\u001b[0;34m\u001b[0m\u001b[0;34m\u001b[0m\u001b[0m\n\u001b[0m\u001b[1;32m     30\u001b[0m \u001b[0;31m# print classification report\u001b[0m\u001b[0;34m\u001b[0m\u001b[0;34m\u001b[0m\u001b[0;34m\u001b[0m\u001b[0m\n\u001b[1;32m     31\u001b[0m \u001b[0mprint\u001b[0m\u001b[0;34m(\u001b[0m\u001b[0mclassification_report\u001b[0m\u001b[0;34m(\u001b[0m\u001b[0my_testFit\u001b[0m\u001b[0;34m,\u001b[0m \u001b[0mgrid_predictions\u001b[0m\u001b[0;34m)\u001b[0m\u001b[0;34m)\u001b[0m\u001b[0;34m\u001b[0m\u001b[0;34m\u001b[0m\u001b[0m\n",
      "\u001b[0;32m/shared-libs/python3.7/py/lib/python3.7/site-packages/sklearn/utils/metaestimators.py\u001b[0m in \u001b[0;36m<lambda>\u001b[0;34m(*args, **kwargs)\u001b[0m\n\u001b[1;32m    111\u001b[0m \u001b[0;34m\u001b[0m\u001b[0m\n\u001b[1;32m    112\u001b[0m             \u001b[0;31m# lambda, but not partial, allows help() to work with update_wrapper\u001b[0m\u001b[0;34m\u001b[0m\u001b[0;34m\u001b[0m\u001b[0;34m\u001b[0m\u001b[0m\n\u001b[0;32m--> 113\u001b[0;31m             \u001b[0mout\u001b[0m \u001b[0;34m=\u001b[0m \u001b[0;32mlambda\u001b[0m \u001b[0;34m*\u001b[0m\u001b[0margs\u001b[0m\u001b[0;34m,\u001b[0m \u001b[0;34m**\u001b[0m\u001b[0mkwargs\u001b[0m\u001b[0;34m:\u001b[0m \u001b[0mself\u001b[0m\u001b[0;34m.\u001b[0m\u001b[0mfn\u001b[0m\u001b[0;34m(\u001b[0m\u001b[0mobj\u001b[0m\u001b[0;34m,\u001b[0m \u001b[0;34m*\u001b[0m\u001b[0margs\u001b[0m\u001b[0;34m,\u001b[0m \u001b[0;34m**\u001b[0m\u001b[0mkwargs\u001b[0m\u001b[0;34m)\u001b[0m  \u001b[0;31m# noqa\u001b[0m\u001b[0;34m\u001b[0m\u001b[0;34m\u001b[0m\u001b[0m\n\u001b[0m\u001b[1;32m    114\u001b[0m         \u001b[0;32melse\u001b[0m\u001b[0;34m:\u001b[0m\u001b[0;34m\u001b[0m\u001b[0;34m\u001b[0m\u001b[0m\n\u001b[1;32m    115\u001b[0m \u001b[0;34m\u001b[0m\u001b[0m\n",
      "\u001b[0;32m/shared-libs/python3.7/py/lib/python3.7/site-packages/sklearn/model_selection/_search.py\u001b[0m in \u001b[0;36mpredict\u001b[0;34m(self, X)\u001b[0m\n\u001b[1;32m    519\u001b[0m         \"\"\"\n\u001b[1;32m    520\u001b[0m         \u001b[0mcheck_is_fitted\u001b[0m\u001b[0;34m(\u001b[0m\u001b[0mself\u001b[0m\u001b[0;34m)\u001b[0m\u001b[0;34m\u001b[0m\u001b[0;34m\u001b[0m\u001b[0m\n\u001b[0;32m--> 521\u001b[0;31m         \u001b[0;32mreturn\u001b[0m \u001b[0mself\u001b[0m\u001b[0;34m.\u001b[0m\u001b[0mbest_estimator_\u001b[0m\u001b[0;34m.\u001b[0m\u001b[0mpredict\u001b[0m\u001b[0;34m(\u001b[0m\u001b[0mX\u001b[0m\u001b[0;34m)\u001b[0m\u001b[0;34m\u001b[0m\u001b[0;34m\u001b[0m\u001b[0m\n\u001b[0m\u001b[1;32m    522\u001b[0m \u001b[0;34m\u001b[0m\u001b[0m\n\u001b[1;32m    523\u001b[0m     \u001b[0;34m@\u001b[0m\u001b[0mavailable_if\u001b[0m\u001b[0;34m(\u001b[0m\u001b[0m_estimator_has\u001b[0m\u001b[0;34m(\u001b[0m\u001b[0;34m\"predict_proba\"\u001b[0m\u001b[0;34m)\u001b[0m\u001b[0;34m)\u001b[0m\u001b[0;34m\u001b[0m\u001b[0;34m\u001b[0m\u001b[0m\n",
      "\u001b[0;32m~/venv/lib/python3.7/site-packages/skorch/classifier.py\u001b[0m in \u001b[0;36mpredict\u001b[0;34m(self, X)\u001b[0m\n\u001b[1;32m    355\u001b[0m         \"\"\"\n\u001b[1;32m    356\u001b[0m         \u001b[0my_proba\u001b[0m \u001b[0;34m=\u001b[0m \u001b[0mself\u001b[0m\u001b[0;34m.\u001b[0m\u001b[0mpredict_proba\u001b[0m\u001b[0;34m(\u001b[0m\u001b[0mX\u001b[0m\u001b[0;34m)\u001b[0m\u001b[0;34m\u001b[0m\u001b[0;34m\u001b[0m\u001b[0m\n\u001b[0;32m--> 357\u001b[0;31m         \u001b[0;32mreturn\u001b[0m \u001b[0;34m(\u001b[0m\u001b[0my_proba\u001b[0m\u001b[0;34m[\u001b[0m\u001b[0;34m:\u001b[0m\u001b[0;34m,\u001b[0m \u001b[0;36m1\u001b[0m\u001b[0;34m]\u001b[0m \u001b[0;34m>\u001b[0m \u001b[0mself\u001b[0m\u001b[0;34m.\u001b[0m\u001b[0mthreshold\u001b[0m\u001b[0;34m)\u001b[0m\u001b[0;34m.\u001b[0m\u001b[0mastype\u001b[0m\u001b[0;34m(\u001b[0m\u001b[0;34m'uint8'\u001b[0m\u001b[0;34m)\u001b[0m\u001b[0;34m\u001b[0m\u001b[0;34m\u001b[0m\u001b[0m\n\u001b[0m",
      "\u001b[0;31mIndexError\u001b[0m: too many indices for array: array is 1-dimensional, but 2 were indexed"
     ],
     "data": {}
    }
   ],
   "execution_count": null
  },
  {
   "cell_type": "code",
   "metadata": {
    "tags": [],
    "cell_id": "00028-9b010654-7a4a-4829-a239-94cb8f793558",
    "deepnote_to_be_reexecuted": false,
    "source_hash": "7886a2c3",
    "execution_start": 1641942577073,
    "execution_millis": 607,
    "deepnote_output_heights": [
     21.1875
    ],
    "deepnote_cell_type": "code"
   },
   "source": "best_model = gs.best_estimator_\nbest_model.fit(X_trainFit, y_trainFit)\n#y_pred = best_model.predict(X_trainFit)\nbest_model.score(X_testFit, y_testFit)",
   "outputs": [
    {
     "output_type": "execute_result",
     "execution_count": 417,
     "data": {
      "text/plain": "0.5"
     },
     "metadata": {}
    }
   ],
   "execution_count": null
  },
  {
   "cell_type": "code",
   "source": "BATCH_SIZE = best_model.batch_size\nLEARNING_RATE = best_model.lr\nMOMENTUM = best_model.optimizer__momentum\nNESTEROV = best_model.optimizer__nesterov\nL2 = best_model.optimizer__weight_decay\nEPOCHS = best_model.max_epochs\nUNITS = best_model.module__hidden_units\nOPTIMIZER = best_model.optimizer",
   "metadata": {
    "tags": [],
    "cell_id": "00021-d9410094-bdd6-4c6a-912f-2b4704697d5f",
    "deepnote_to_be_reexecuted": false,
    "source_hash": "5add8410",
    "execution_start": 1641942577674,
    "execution_millis": 3,
    "deepnote_cell_type": "code"
   },
   "outputs": [],
   "execution_count": null
  },
  {
   "cell_type": "code",
   "metadata": {
    "tags": [],
    "cell_id": "00028-ea410508-97cf-48c5-9e40-d4ece2aa1c56",
    "deepnote_to_be_reexecuted": false,
    "source_hash": "f4001536",
    "execution_start": 1641942577682,
    "execution_millis": 735,
    "deepnote_table_state": {
     "pageSize": 10,
     "pageIndex": 0,
     "filters": [],
     "sortBy": [
      {
       "id": "mean_test_score",
       "type": "desc"
      }
     ]
    },
    "deepnote_table_loading": false,
    "deepnote_cell_type": "code"
   },
   "source": "df_results = pd.DataFrame(data=gs.cv_results_) #trasform into a pandas dataframe\ndf_results",
   "outputs": [
    {
     "output_type": "execute_result",
     "execution_count": 419,
     "data": {
      "application/vnd.deepnote.dataframe.v3+json": {
       "column_count": 21,
       "row_count": 50,
       "columns": [
        {
         "name": "mean_fit_time",
         "dtype": "float64",
         "stats": {
          "unique_count": 50,
          "nan_count": 0,
          "min": "0.09635863304138184",
          "max": "2.0104739665985107",
          "histogram": [
           {
            "bin_start": 0.09635863304138184,
            "bin_end": 0.28777016639709474,
            "count": 12
           },
           {
            "bin_start": 0.28777016639709474,
            "bin_end": 0.47918169975280756,
            "count": 8
           },
           {
            "bin_start": 0.47918169975280756,
            "bin_end": 0.6705932331085204,
            "count": 5
           },
           {
            "bin_start": 0.6705932331085204,
            "bin_end": 0.8620047664642333,
            "count": 9
           },
           {
            "bin_start": 0.8620047664642333,
            "bin_end": 1.0534162998199463,
            "count": 5
           },
           {
            "bin_start": 1.0534162998199463,
            "bin_end": 1.244827833175659,
            "count": 5
           },
           {
            "bin_start": 1.244827833175659,
            "bin_end": 1.436239366531372,
            "count": 0
           },
           {
            "bin_start": 1.436239366531372,
            "bin_end": 1.627650899887085,
            "count": 3
           },
           {
            "bin_start": 1.627650899887085,
            "bin_end": 1.8190624332427978,
            "count": 2
           },
           {
            "bin_start": 1.8190624332427978,
            "bin_end": 2.0104739665985107,
            "count": 1
           }
          ]
         }
        },
        {
         "name": "std_fit_time",
         "dtype": "float64",
         "stats": {
          "unique_count": 50,
          "nan_count": 0,
          "min": "0.006955549978563386",
          "max": "0.13339826716046396",
          "histogram": [
           {
            "bin_start": 0.006955549978563386,
            "bin_end": 0.019599821696753443,
            "count": 2
           },
           {
            "bin_start": 0.019599821696753443,
            "bin_end": 0.032244093414943505,
            "count": 13
           },
           {
            "bin_start": 0.032244093414943505,
            "bin_end": 0.04488836513313356,
            "count": 9
           },
           {
            "bin_start": 0.04488836513313356,
            "bin_end": 0.05753263685132362,
            "count": 10
           },
           {
            "bin_start": 0.05753263685132362,
            "bin_end": 0.07017690856951368,
            "count": 5
           },
           {
            "bin_start": 0.07017690856951368,
            "bin_end": 0.08282118028770373,
            "count": 4
           },
           {
            "bin_start": 0.08282118028770373,
            "bin_end": 0.09546545200589379,
            "count": 1
           },
           {
            "bin_start": 0.09546545200589379,
            "bin_end": 0.10810972372408385,
            "count": 1
           },
           {
            "bin_start": 0.10810972372408385,
            "bin_end": 0.12075399544227391,
            "count": 0
           },
           {
            "bin_start": 0.12075399544227391,
            "bin_end": 0.13339826716046396,
            "count": 5
           }
          ]
         }
        },
        {
         "name": "mean_score_time",
         "dtype": "float64",
         "stats": {
          "unique_count": 50,
          "nan_count": 0,
          "min": "0.0015275001525878907",
          "max": "0.024287605285644533",
          "histogram": [
           {
            "bin_start": 0.0015275001525878907,
            "bin_end": 0.003803510665893555,
            "count": 35
           },
           {
            "bin_start": 0.003803510665893555,
            "bin_end": 0.006079521179199219,
            "count": 4
           },
           {
            "bin_start": 0.006079521179199219,
            "bin_end": 0.008355531692504884,
            "count": 0
           },
           {
            "bin_start": 0.008355531692504884,
            "bin_end": 0.010631542205810548,
            "count": 1
           },
           {
            "bin_start": 0.010631542205810548,
            "bin_end": 0.012907552719116212,
            "count": 3
           },
           {
            "bin_start": 0.012907552719116212,
            "bin_end": 0.015183563232421877,
            "count": 6
           },
           {
            "bin_start": 0.015183563232421877,
            "bin_end": 0.01745957374572754,
            "count": 0
           },
           {
            "bin_start": 0.01745957374572754,
            "bin_end": 0.019735584259033205,
            "count": 0
           },
           {
            "bin_start": 0.019735584259033205,
            "bin_end": 0.02201159477233887,
            "count": 0
           },
           {
            "bin_start": 0.02201159477233887,
            "bin_end": 0.024287605285644533,
            "count": 1
           }
          ]
         }
        },
        {
         "name": "std_score_time",
         "dtype": "float64",
         "stats": {
          "unique_count": 50,
          "nan_count": 0,
          "min": "2.5281994264406582e-05",
          "max": "0.027390565911654473",
          "histogram": [
           {
            "bin_start": 0.000025281994264406582,
            "bin_end": 0.0027618103860034137,
            "count": 34
           },
           {
            "bin_start": 0.0027618103860034137,
            "bin_end": 0.00549833877774242,
            "count": 5
           },
           {
            "bin_start": 0.00549833877774242,
            "bin_end": 0.008234867169481427,
            "count": 0
           },
           {
            "bin_start": 0.008234867169481427,
            "bin_end": 0.010971395561220435,
            "count": 0
           },
           {
            "bin_start": 0.010971395561220435,
            "bin_end": 0.013707923952959443,
            "count": 0
           },
           {
            "bin_start": 0.013707923952959443,
            "bin_end": 0.016444452344698445,
            "count": 1
           },
           {
            "bin_start": 0.016444452344698445,
            "bin_end": 0.019180980736437453,
            "count": 0
           },
           {
            "bin_start": 0.019180980736437453,
            "bin_end": 0.02191750912817646,
            "count": 4
           },
           {
            "bin_start": 0.02191750912817646,
            "bin_end": 0.02465403751991547,
            "count": 3
           },
           {
            "bin_start": 0.02465403751991547,
            "bin_end": 0.027390565911654473,
            "count": 3
           }
          ]
         }
        },
        {
         "name": "param_optimizer__weight_decay",
         "dtype": "object",
         "stats": {
          "unique_count": 4,
          "nan_count": 0,
          "categories": [
           {
            "name": "0.01",
            "count": 17
           },
           {
            "name": "0.0001",
            "count": 14
           },
           {
            "name": "2 others",
            "count": 19
           }
          ]
         }
        },
        {
         "name": "param_optimizer__nesterov",
         "dtype": "object",
         "stats": {
          "unique_count": 2,
          "nan_count": 0,
          "categories": [
           {
            "name": "False",
            "count": 31
           },
           {
            "name": "True",
            "count": 19
           }
          ]
         }
        },
        {
         "name": "param_optimizer__momentum",
         "dtype": "object",
         "stats": {
          "unique_count": 4,
          "nan_count": 0,
          "categories": [
           {
            "name": "0.8",
            "count": 16
           },
           {
            "name": "0.95",
            "count": 14
           },
           {
            "name": "2 others",
            "count": 20
           }
          ]
         }
        },
        {
         "name": "param_optimizer",
         "dtype": "object",
         "stats": {
          "unique_count": 1,
          "nan_count": 0,
          "categories": [
           {
            "name": "<class 'torch.optim.sgd.SGD'>",
            "count": 50
           }
          ]
         }
        },
        {
         "name": "param_module__hidden_units",
         "dtype": "object",
         "stats": {
          "unique_count": 14,
          "nan_count": 0,
          "categories": [
           {
            "name": "3",
            "count": 8
           },
           {
            "name": "40",
            "count": 6
           },
           {
            "name": "12 others",
            "count": 36
           }
          ]
         }
        },
        {
         "name": "param_max_epochs",
         "dtype": "object",
         "stats": {
          "unique_count": 10,
          "nan_count": 0,
          "categories": [
           {
            "name": "10",
            "count": 8
           },
           {
            "name": "80",
            "count": 8
           },
           {
            "name": "8 others",
            "count": 34
           }
          ]
         }
        },
        {
         "name": "param_lr",
         "dtype": "object",
         "stats": {
          "unique_count": 4,
          "nan_count": 0,
          "categories": [
           {
            "name": "0.01",
            "count": 15
           },
           {
            "name": "0.001",
            "count": 13
           },
           {
            "name": "2 others",
            "count": 22
           }
          ]
         }
        },
        {
         "name": "param_batch_size",
         "dtype": "object",
         "stats": {
          "unique_count": 4,
          "nan_count": 0,
          "categories": [
           {
            "name": "128",
            "count": 14
           },
           {
            "name": "64",
            "count": 13
           },
           {
            "name": "2 others",
            "count": 23
           }
          ]
         }
        },
        {
         "name": "params",
         "dtype": "object",
         "stats": {
          "unique_count": 50,
          "nan_count": 0,
          "categories": [
           {
            "name": "{'optimizer__weight_decay': 0.1, 'optimizer__nesterov': True, 'optimizer__momentum': 0.9, 'optimizer': <class 'torch.optim.sgd.SGD'>, 'module__hidden_units': 100, 'max_epochs': 40, 'lr': 0.1, 'batch_size': 64}",
            "count": 1
           },
           {
            "name": "{'optimizer__weight_decay': 0.01, 'optimizer__nesterov': False, 'optimizer__momentum': 0.95, 'optimizer': <class 'torch.optim.sgd.SGD'>, 'module__hidden_units': 70, 'max_epochs': 10, 'lr': 0.01, 'batch_size': 64}",
            "count": 1
           },
           {
            "name": "48 others",
            "count": 48
           }
          ]
         }
        },
        {
         "name": "split0_test_score",
         "dtype": "float64",
         "stats": {
          "unique_count": 1,
          "nan_count": 0,
          "min": "0.52",
          "max": "0.52",
          "histogram": [
           {
            "bin_start": 0.020000000000000018,
            "bin_end": 0.12000000000000002,
            "count": 0
           },
           {
            "bin_start": 0.12000000000000002,
            "bin_end": 0.22000000000000003,
            "count": 0
           },
           {
            "bin_start": 0.22000000000000003,
            "bin_end": 0.32000000000000006,
            "count": 0
           },
           {
            "bin_start": 0.32000000000000006,
            "bin_end": 0.42000000000000004,
            "count": 0
           },
           {
            "bin_start": 0.42000000000000004,
            "bin_end": 0.52,
            "count": 0
           },
           {
            "bin_start": 0.52,
            "bin_end": 0.6200000000000001,
            "count": 50
           },
           {
            "bin_start": 0.6200000000000001,
            "bin_end": 0.7200000000000001,
            "count": 0
           },
           {
            "bin_start": 0.7200000000000001,
            "bin_end": 0.8200000000000001,
            "count": 0
           },
           {
            "bin_start": 0.8200000000000001,
            "bin_end": 0.92,
            "count": 0
           },
           {
            "bin_start": 0.92,
            "bin_end": 1.02,
            "count": 0
           }
          ]
         }
        },
        {
         "name": "split1_test_score",
         "dtype": "float64",
         "stats": {
          "unique_count": 1,
          "nan_count": 0,
          "min": "0.52",
          "max": "0.52",
          "histogram": [
           {
            "bin_start": 0.020000000000000018,
            "bin_end": 0.12000000000000002,
            "count": 0
           },
           {
            "bin_start": 0.12000000000000002,
            "bin_end": 0.22000000000000003,
            "count": 0
           },
           {
            "bin_start": 0.22000000000000003,
            "bin_end": 0.32000000000000006,
            "count": 0
           },
           {
            "bin_start": 0.32000000000000006,
            "bin_end": 0.42000000000000004,
            "count": 0
           },
           {
            "bin_start": 0.42000000000000004,
            "bin_end": 0.52,
            "count": 0
           },
           {
            "bin_start": 0.52,
            "bin_end": 0.6200000000000001,
            "count": 50
           },
           {
            "bin_start": 0.6200000000000001,
            "bin_end": 0.7200000000000001,
            "count": 0
           },
           {
            "bin_start": 0.7200000000000001,
            "bin_end": 0.8200000000000001,
            "count": 0
           },
           {
            "bin_start": 0.8200000000000001,
            "bin_end": 0.92,
            "count": 0
           },
           {
            "bin_start": 0.92,
            "bin_end": 1.02,
            "count": 0
           }
          ]
         }
        },
        {
         "name": "split2_test_score",
         "dtype": "float64",
         "stats": {
          "unique_count": 1,
          "nan_count": 0,
          "min": "0.48",
          "max": "0.48",
          "histogram": [
           {
            "bin_start": -0.020000000000000018,
            "bin_end": 0.07999999999999999,
            "count": 0
           },
           {
            "bin_start": 0.07999999999999999,
            "bin_end": 0.18,
            "count": 0
           },
           {
            "bin_start": 0.18,
            "bin_end": 0.28,
            "count": 0
           },
           {
            "bin_start": 0.28,
            "bin_end": 0.38,
            "count": 0
           },
           {
            "bin_start": 0.38,
            "bin_end": 0.48,
            "count": 0
           },
           {
            "bin_start": 0.48,
            "bin_end": 0.5800000000000001,
            "count": 50
           },
           {
            "bin_start": 0.5800000000000001,
            "bin_end": 0.68,
            "count": 0
           },
           {
            "bin_start": 0.68,
            "bin_end": 0.78,
            "count": 0
           },
           {
            "bin_start": 0.78,
            "bin_end": 0.88,
            "count": 0
           },
           {
            "bin_start": 0.88,
            "bin_end": 0.98,
            "count": 0
           }
          ]
         }
        },
        {
         "name": "split3_test_score",
         "dtype": "float64",
         "stats": {
          "unique_count": 1,
          "nan_count": 0,
          "min": "0.48",
          "max": "0.48",
          "histogram": [
           {
            "bin_start": -0.020000000000000018,
            "bin_end": 0.07999999999999999,
            "count": 0
           },
           {
            "bin_start": 0.07999999999999999,
            "bin_end": 0.18,
            "count": 0
           },
           {
            "bin_start": 0.18,
            "bin_end": 0.28,
            "count": 0
           },
           {
            "bin_start": 0.28,
            "bin_end": 0.38,
            "count": 0
           },
           {
            "bin_start": 0.38,
            "bin_end": 0.48,
            "count": 0
           },
           {
            "bin_start": 0.48,
            "bin_end": 0.5800000000000001,
            "count": 50
           },
           {
            "bin_start": 0.5800000000000001,
            "bin_end": 0.68,
            "count": 0
           },
           {
            "bin_start": 0.68,
            "bin_end": 0.78,
            "count": 0
           },
           {
            "bin_start": 0.78,
            "bin_end": 0.88,
            "count": 0
           },
           {
            "bin_start": 0.88,
            "bin_end": 0.98,
            "count": 0
           }
          ]
         }
        },
        {
         "name": "split4_test_score",
         "dtype": "float64",
         "stats": {
          "unique_count": 1,
          "nan_count": 0,
          "min": "0.5",
          "max": "0.5",
          "histogram": [
           {
            "bin_start": 0,
            "bin_end": 0.1,
            "count": 0
           },
           {
            "bin_start": 0.1,
            "bin_end": 0.2,
            "count": 0
           },
           {
            "bin_start": 0.2,
            "bin_end": 0.30000000000000004,
            "count": 0
           },
           {
            "bin_start": 0.30000000000000004,
            "bin_end": 0.4,
            "count": 0
           },
           {
            "bin_start": 0.4,
            "bin_end": 0.5,
            "count": 0
           },
           {
            "bin_start": 0.5,
            "bin_end": 0.6000000000000001,
            "count": 50
           },
           {
            "bin_start": 0.6000000000000001,
            "bin_end": 0.7000000000000001,
            "count": 0
           },
           {
            "bin_start": 0.7000000000000001,
            "bin_end": 0.8,
            "count": 0
           },
           {
            "bin_start": 0.8,
            "bin_end": 0.9,
            "count": 0
           },
           {
            "bin_start": 0.9,
            "bin_end": 1,
            "count": 0
           }
          ]
         }
        },
        {
         "name": "mean_test_score",
         "dtype": "float64",
         "stats": {
          "unique_count": 1,
          "nan_count": 0,
          "min": "0.5",
          "max": "0.5",
          "histogram": [
           {
            "bin_start": 0,
            "bin_end": 0.1,
            "count": 0
           },
           {
            "bin_start": 0.1,
            "bin_end": 0.2,
            "count": 0
           },
           {
            "bin_start": 0.2,
            "bin_end": 0.30000000000000004,
            "count": 0
           },
           {
            "bin_start": 0.30000000000000004,
            "bin_end": 0.4,
            "count": 0
           },
           {
            "bin_start": 0.4,
            "bin_end": 0.5,
            "count": 0
           },
           {
            "bin_start": 0.5,
            "bin_end": 0.6000000000000001,
            "count": 50
           },
           {
            "bin_start": 0.6000000000000001,
            "bin_end": 0.7000000000000001,
            "count": 0
           },
           {
            "bin_start": 0.7000000000000001,
            "bin_end": 0.8,
            "count": 0
           },
           {
            "bin_start": 0.8,
            "bin_end": 0.9,
            "count": 0
           },
           {
            "bin_start": 0.9,
            "bin_end": 1,
            "count": 0
           }
          ]
         }
        },
        {
         "name": "std_test_score",
         "dtype": "float64",
         "stats": {
          "unique_count": 1,
          "nan_count": 0,
          "min": "0.017888543819998333",
          "max": "0.017888543819998333",
          "histogram": [
           {
            "bin_start": -0.4821114561800017,
            "bin_end": -0.38211145618000164,
            "count": 0
           },
           {
            "bin_start": -0.38211145618000164,
            "bin_end": -0.28211145618000166,
            "count": 0
           },
           {
            "bin_start": -0.28211145618000166,
            "bin_end": -0.18211145618000163,
            "count": 0
           },
           {
            "bin_start": -0.18211145618000163,
            "bin_end": -0.08211145618000165,
            "count": 0
           },
           {
            "bin_start": -0.08211145618000165,
            "bin_end": 0.017888543819998326,
            "count": 0
           },
           {
            "bin_start": 0.017888543819998326,
            "bin_end": 0.11788854381999841,
            "count": 50
           },
           {
            "bin_start": 0.11788854381999841,
            "bin_end": 0.2178885438199984,
            "count": 0
           },
           {
            "bin_start": 0.2178885438199984,
            "bin_end": 0.31788854381999837,
            "count": 0
           },
           {
            "bin_start": 0.31788854381999837,
            "bin_end": 0.41788854381999835,
            "count": 0
           },
           {
            "bin_start": 0.41788854381999835,
            "bin_end": 0.5178885438199984,
            "count": 0
           }
          ]
         }
        },
        {
         "name": "rank_test_score",
         "dtype": "int32",
         "stats": {
          "unique_count": 1,
          "nan_count": 0,
          "min": "1",
          "max": "1",
          "histogram": [
           {
            "bin_start": 0.5,
            "bin_end": 0.6,
            "count": 0
           },
           {
            "bin_start": 0.6,
            "bin_end": 0.7,
            "count": 0
           },
           {
            "bin_start": 0.7,
            "bin_end": 0.8,
            "count": 0
           },
           {
            "bin_start": 0.8,
            "bin_end": 0.9,
            "count": 0
           },
           {
            "bin_start": 0.9,
            "bin_end": 1,
            "count": 0
           },
           {
            "bin_start": 1,
            "bin_end": 1.1,
            "count": 50
           },
           {
            "bin_start": 1.1,
            "bin_end": 1.2000000000000002,
            "count": 0
           },
           {
            "bin_start": 1.2000000000000002,
            "bin_end": 1.3,
            "count": 0
           },
           {
            "bin_start": 1.3,
            "bin_end": 1.4,
            "count": 0
           },
           {
            "bin_start": 1.4,
            "bin_end": 1.5,
            "count": 0
           }
          ]
         }
        },
        {
         "name": "_deepnote_index_column",
         "dtype": "int64"
        }
       ],
       "rows": [
        {
         "mean_fit_time": 0.5276886940002441,
         "std_fit_time": 0.027827426900258995,
         "mean_score_time": 0.014345312118530273,
         "std_score_time": 0.024179837661426843,
         "param_optimizer__weight_decay": "0.1",
         "param_optimizer__nesterov": "True",
         "param_optimizer__momentum": "0.9",
         "param_optimizer": "<class 'torch.optim.sgd.SGD'>",
         "param_module__hidden_units": "100",
         "param_max_epochs": "40",
         "param_lr": "0.1",
         "param_batch_size": "64",
         "params": "{'optimizer__weight_decay': 0.1, 'optimizer__nesterov': True, 'optimizer__momentum': 0.9, 'optimize…",
         "split0_test_score": 0.52,
         "split1_test_score": 0.52,
         "split2_test_score": 0.48,
         "split3_test_score": 0.48,
         "split4_test_score": 0.5,
         "mean_test_score": 0.5,
         "std_test_score": 0.017888543819998333,
         "rank_test_score": 1,
         "_deepnote_index_column": 0
        },
        {
         "mean_fit_time": 0.1284916877746582,
         "std_fit_time": 0.024374388916625734,
         "mean_score_time": 0.0017859935760498047,
         "std_score_time": 0.00018874832621770476,
         "param_optimizer__weight_decay": "0.01",
         "param_optimizer__nesterov": "False",
         "param_optimizer__momentum": "0.95",
         "param_optimizer": "<class 'torch.optim.sgd.SGD'>",
         "param_module__hidden_units": "70",
         "param_max_epochs": "10",
         "param_lr": "0.01",
         "param_batch_size": "64",
         "params": "{'optimizer__weight_decay': 0.01, 'optimizer__nesterov': False, 'optimizer__momentum': 0.95, 'optim…",
         "split0_test_score": 0.52,
         "split1_test_score": 0.52,
         "split2_test_score": 0.48,
         "split3_test_score": 0.48,
         "split4_test_score": 0.5,
         "mean_test_score": 0.5,
         "std_test_score": 0.017888543819998333,
         "rank_test_score": 1,
         "_deepnote_index_column": 37
        },
        {
         "mean_fit_time": 0.7929039001464844,
         "std_fit_time": 0.04497967956428147,
         "mean_score_time": 0.0017606258392333985,
         "std_score_time": 0.00015314422456311902,
         "param_optimizer__weight_decay": "0.01",
         "param_optimizer__nesterov": "False",
         "param_optimizer__momentum": "0.8",
         "param_optimizer": "<class 'torch.optim.sgd.SGD'>",
         "param_module__hidden_units": "3",
         "param_max_epochs": "40",
         "param_lr": "0.01",
         "param_batch_size": "32",
         "params": "{'optimizer__weight_decay': 0.01, 'optimizer__nesterov': False, 'optimizer__momentum': 0.8, 'optimi…",
         "split0_test_score": 0.52,
         "split1_test_score": 0.52,
         "split2_test_score": 0.48,
         "split3_test_score": 0.48,
         "split4_test_score": 0.5,
         "mean_test_score": 0.5,
         "std_test_score": 0.017888543819998333,
         "rank_test_score": 1,
         "_deepnote_index_column": 27
        },
        {
         "mean_fit_time": 0.8458555221557618,
         "std_fit_time": 0.043264252281801086,
         "mean_score_time": 0.0024459362030029297,
         "std_score_time": 0.0013298035574178177,
         "param_optimizer__weight_decay": "0.01",
         "param_optimizer__nesterov": "True",
         "param_optimizer__momentum": "0.9",
         "param_optimizer": "<class 'torch.optim.sgd.SGD'>",
         "param_module__hidden_units": "50",
         "param_max_epochs": "90",
         "param_lr": "0.01",
         "param_batch_size": "128",
         "params": "{'optimizer__weight_decay': 0.01, 'optimizer__nesterov': True, 'optimizer__momentum': 0.9, 'optimiz…",
         "split0_test_score": 0.52,
         "split1_test_score": 0.52,
         "split2_test_score": 0.48,
         "split3_test_score": 0.48,
         "split4_test_score": 0.5,
         "mean_test_score": 0.5,
         "std_test_score": 0.017888543819998333,
         "rank_test_score": 1,
         "_deepnote_index_column": 28
        },
        {
         "mean_fit_time": 0.26758460998535155,
         "std_fit_time": 0.030492161220752805,
         "mean_score_time": 0.0016894340515136719,
         "std_score_time": 0.00022385171051610012,
         "param_optimizer__weight_decay": "0.001",
         "param_optimizer__nesterov": "False",
         "param_optimizer__momentum": "0.85",
         "param_optimizer": "<class 'torch.optim.sgd.SGD'>",
         "param_module__hidden_units": "3",
         "param_max_epochs": "20",
         "param_lr": "0.01",
         "param_batch_size": "64",
         "params": "{'optimizer__weight_decay': 0.001, 'optimizer__nesterov': False, 'optimizer__momentum': 0.85, 'opti…",
         "split0_test_score": 0.52,
         "split1_test_score": 0.52,
         "split2_test_score": 0.48,
         "split3_test_score": 0.48,
         "split4_test_score": 0.5,
         "mean_test_score": 0.5,
         "std_test_score": 0.017888543819998333,
         "rank_test_score": 1,
         "_deepnote_index_column": 29
        },
        {
         "mean_fit_time": 1.7704339504241944,
         "std_fit_time": 0.03164014906938587,
         "mean_score_time": 0.001688241958618164,
         "std_score_time": 0.00017814115479922478,
         "param_optimizer__weight_decay": "0.01",
         "param_optimizer__nesterov": "True",
         "param_optimizer__momentum": "0.8",
         "param_optimizer": "<class 'torch.optim.sgd.SGD'>",
         "param_module__hidden_units": "3",
         "param_max_epochs": "100",
         "param_lr": "0.1",
         "param_batch_size": "32",
         "params": "{'optimizer__weight_decay': 0.01, 'optimizer__nesterov': True, 'optimizer__momentum': 0.8, 'optimiz…",
         "split0_test_score": 0.52,
         "split1_test_score": 0.52,
         "split2_test_score": 0.48,
         "split3_test_score": 0.48,
         "split4_test_score": 0.5,
         "mean_test_score": 0.5,
         "std_test_score": 0.017888543819998333,
         "rank_test_score": 1,
         "_deepnote_index_column": 30
        },
        {
         "mean_fit_time": 0.49137210845947266,
         "std_fit_time": 0.06518549406759339,
         "mean_score_time": 0.012464761734008789,
         "std_score_time": 0.020899442024540214,
         "param_optimizer__weight_decay": "0.01",
         "param_optimizer__nesterov": "False",
         "param_optimizer__momentum": "0.85",
         "param_optimizer": "<class 'torch.optim.sgd.SGD'>",
         "param_module__hidden_units": "20",
         "param_max_epochs": "50",
         "param_lr": "0.001",
         "param_batch_size": "128",
         "params": "{'optimizer__weight_decay': 0.01, 'optimizer__nesterov': False, 'optimizer__momentum': 0.85, 'optim…",
         "split0_test_score": 0.52,
         "split1_test_score": 0.52,
         "split2_test_score": 0.48,
         "split3_test_score": 0.48,
         "split4_test_score": 0.5,
         "mean_test_score": 0.5,
         "std_test_score": 0.017888543819998333,
         "rank_test_score": 1,
         "_deepnote_index_column": 31
        },
        {
         "mean_fit_time": 0.36544318199157716,
         "std_fit_time": 0.054551150461009924,
         "mean_score_time": 0.0019198894500732423,
         "std_score_time": 0.00011736497890958345,
         "param_optimizer__weight_decay": "0.0001",
         "param_optimizer__nesterov": "False",
         "param_optimizer__momentum": "0.9",
         "param_optimizer": "<class 'torch.optim.sgd.SGD'>",
         "param_module__hidden_units": "3",
         "param_max_epochs": "30",
         "param_lr": "0.01",
         "param_batch_size": "128",
         "params": "{'optimizer__weight_decay': 0.0001, 'optimizer__nesterov': False, 'optimizer__momentum': 0.9, 'opti…",
         "split0_test_score": 0.52,
         "split1_test_score": 0.52,
         "split2_test_score": 0.48,
         "split3_test_score": 0.48,
         "split4_test_score": 0.5,
         "mean_test_score": 0.5,
         "std_test_score": 0.017888543819998333,
         "rank_test_score": 1,
         "_deepnote_index_column": 32
        },
        {
         "mean_fit_time": 0.19173746109008788,
         "std_fit_time": 0.029617474031691893,
         "mean_score_time": 0.01221470832824707,
         "std_score_time": 0.020913183289150577,
         "param_optimizer__weight_decay": "0.01",
         "param_optimizer__nesterov": "False",
         "param_optimizer__momentum": "0.8",
         "param_optimizer": "<class 'torch.optim.sgd.SGD'>",
         "param_module__hidden_units": "100",
         "param_max_epochs": "20",
         "param_lr": "0.0001",
         "param_batch_size": "128",
         "params": "{'optimizer__weight_decay': 0.01, 'optimizer__nesterov': False, 'optimizer__momentum': 0.8, 'optimi…",
         "split0_test_score": 0.52,
         "split1_test_score": 0.52,
         "split2_test_score": 0.48,
         "split3_test_score": 0.48,
         "split4_test_score": 0.5,
         "mean_test_score": 0.5,
         "std_test_score": 0.017888543819998333,
         "rank_test_score": 1,
         "_deepnote_index_column": 33
        },
        {
         "mean_fit_time": 1.109642457962036,
         "std_fit_time": 0.0518887448204322,
         "mean_score_time": 0.0018600940704345704,
         "std_score_time": 0.00022161611109639467,
         "param_optimizer__weight_decay": "0.01",
         "param_optimizer__nesterov": "False",
         "param_optimizer__momentum": "0.95",
         "param_optimizer": "<class 'torch.optim.sgd.SGD'>",
         "param_module__hidden_units": "40",
         "param_max_epochs": "80",
         "param_lr": "0.001",
         "param_batch_size": "64",
         "params": "{'optimizer__weight_decay': 0.01, 'optimizer__nesterov': False, 'optimizer__momentum': 0.95, 'optim…",
         "split0_test_score": 0.52,
         "split1_test_score": 0.52,
         "split2_test_score": 0.48,
         "split3_test_score": 0.48,
         "split4_test_score": 0.5,
         "mean_test_score": 0.5,
         "std_test_score": 0.017888543819998333,
         "rank_test_score": 1,
         "_deepnote_index_column": 34
        }
       ]
      },
      "text/plain": "    mean_fit_time  std_fit_time  mean_score_time  std_score_time  \\\n0        0.527689      0.027827         0.014345        0.024180   \n1        1.796222      0.127400         0.010082        0.016318   \n2        0.839557      0.040130         0.001940        0.000025   \n3        0.312196      0.006956         0.024288        0.027391   \n4        0.113336      0.046345         0.002295        0.000843   \n5        1.239959      0.074307         0.001697        0.000302   \n6        1.173551      0.095351         0.002342        0.000446   \n7        0.613952      0.056307         0.001852        0.000064   \n8        0.922635      0.025863         0.013944        0.024309   \n9        0.415943      0.026779         0.001906        0.000082   \n10       1.010773      0.060653         0.014022        0.024147   \n11       0.503831      0.057101         0.001621        0.000347   \n12       0.742184      0.045756         0.001985        0.000112   \n13       0.502016      0.107005         0.001600        0.000332   \n14       0.325829      0.035058         0.002169        0.001169   \n15       1.111294      0.130589         0.012192        0.021144   \n16       0.437025      0.070268         0.004313        0.004844   \n17       1.460681      0.070119         0.001703        0.000228   \n18       0.271347      0.029545         0.001681        0.000071   \n19       0.380681      0.032358         0.014684        0.026136   \n20       1.153899      0.073546         0.001621        0.000362   \n21       0.977710      0.077975         0.013805        0.020391   \n22       0.690769      0.037291         0.001870        0.000248   \n23       0.257344      0.030366         0.001740        0.000099   \n24       0.128859      0.026554         0.001810        0.000288   \n25       0.149683      0.032815         0.001945        0.000214   \n26       0.762883      0.132434         0.001781        0.000155   \n27       0.792904      0.044980         0.001761        0.000153   \n28       0.845856      0.043264         0.002446        0.001330   \n29       0.267585      0.030492         0.001689        0.000224   \n30       1.770434      0.031640         0.001688        0.000178   \n31       0.491372      0.065185         0.012465        0.020899   \n32       0.365443      0.054551         0.001920        0.000117   \n33       0.191737      0.029617         0.012215        0.020913   \n34       1.109642      0.051889         0.001860        0.000222   \n35       0.686793      0.054579         0.001820        0.000395   \n36       1.602339      0.126393         0.001713        0.000336   \n37       0.128492      0.024374         0.001786        0.000189   \n38       0.156331      0.031606         0.001912        0.000099   \n39       2.010474      0.133398         0.001934        0.000070   \n40       0.985477      0.066979         0.001775        0.000248   \n41       0.882345      0.056944         0.004307        0.004912   \n42       0.220145      0.029315         0.002019        0.000172   \n43       0.395218      0.053104         0.001679        0.000342   \n44       0.096359      0.010152         0.003993        0.004798   \n45       1.507520      0.058701         0.004210        0.004048   \n46       0.113209      0.023990         0.003466        0.003226   \n47       0.826390      0.041143         0.014662        0.025845   \n48       0.750939      0.041334         0.001617        0.000156   \n49       0.442095      0.034414         0.001528        0.000302   \n\n   param_optimizer__weight_decay param_optimizer__nesterov  \\\n0                            0.1                      True   \n1                         0.0001                      True   \n2                         0.0001                     False   \n3                           0.01                     False   \n4                         0.0001                      True   \n5                            0.1                     False   \n6                          0.001                     False   \n7                          0.001                     False   \n8                          0.001                      True   \n9                          0.001                     False   \n10                          0.01                     False   \n11                           0.1                      True   \n12                          0.01                     False   \n13                          0.01                     False   \n14                          0.01                      True   \n15                        0.0001                     False   \n16                           0.1                     False   \n17                         0.001                      True   \n18                          0.01                      True   \n19                          0.01                     False   \n20                         0.001                      True   \n21                         0.001                      True   \n22                        0.0001                     False   \n23                        0.0001                     False   \n24                          0.01                      True   \n25                          0.01                     False   \n26                        0.0001                     False   \n27                          0.01                     False   \n28                          0.01                      True   \n29                         0.001                     False   \n30                          0.01                      True   \n31                          0.01                     False   \n32                        0.0001                     False   \n33                          0.01                     False   \n34                          0.01                     False   \n35                        0.0001                     False   \n36                         0.001                      True   \n37                          0.01                     False   \n38                         0.001                     False   \n39                        0.0001                      True   \n40                        0.0001                      True   \n41                        0.0001                     False   \n42                        0.0001                     False   \n43                          0.01                      True   \n44                           0.1                     False   \n45                         0.001                     False   \n46                         0.001                      True   \n47                           0.1                      True   \n48                         0.001                     False   \n49                        0.0001                     False   \n\n   param_optimizer__momentum                param_optimizer  \\\n0                        0.9  <class 'torch.optim.sgd.SGD'>   \n1                        0.9  <class 'torch.optim.sgd.SGD'>   \n2                       0.95  <class 'torch.optim.sgd.SGD'>   \n3                       0.95  <class 'torch.optim.sgd.SGD'>   \n4                       0.85  <class 'torch.optim.sgd.SGD'>   \n5                        0.8  <class 'torch.optim.sgd.SGD'>   \n6                        0.8  <class 'torch.optim.sgd.SGD'>   \n7                       0.95  <class 'torch.optim.sgd.SGD'>   \n8                       0.85  <class 'torch.optim.sgd.SGD'>   \n9                        0.8  <class 'torch.optim.sgd.SGD'>   \n10                      0.85  <class 'torch.optim.sgd.SGD'>   \n11                       0.8  <class 'torch.optim.sgd.SGD'>   \n12                      0.95  <class 'torch.optim.sgd.SGD'>   \n13                      0.85  <class 'torch.optim.sgd.SGD'>   \n14                      0.95  <class 'torch.optim.sgd.SGD'>   \n15                      0.95  <class 'torch.optim.sgd.SGD'>   \n16                       0.8  <class 'torch.optim.sgd.SGD'>   \n17                       0.8  <class 'torch.optim.sgd.SGD'>   \n18                      0.95  <class 'torch.optim.sgd.SGD'>   \n19                       0.8  <class 'torch.optim.sgd.SGD'>   \n20                       0.9  <class 'torch.optim.sgd.SGD'>   \n21                       0.8  <class 'torch.optim.sgd.SGD'>   \n22                      0.85  <class 'torch.optim.sgd.SGD'>   \n23                      0.95  <class 'torch.optim.sgd.SGD'>   \n24                      0.95  <class 'torch.optim.sgd.SGD'>   \n25                      0.85  <class 'torch.optim.sgd.SGD'>   \n26                       0.9  <class 'torch.optim.sgd.SGD'>   \n27                       0.8  <class 'torch.optim.sgd.SGD'>   \n28                       0.9  <class 'torch.optim.sgd.SGD'>   \n29                      0.85  <class 'torch.optim.sgd.SGD'>   \n30                       0.8  <class 'torch.optim.sgd.SGD'>   \n31                      0.85  <class 'torch.optim.sgd.SGD'>   \n32                       0.9  <class 'torch.optim.sgd.SGD'>   \n33                       0.8  <class 'torch.optim.sgd.SGD'>   \n34                      0.95  <class 'torch.optim.sgd.SGD'>   \n35                       0.8  <class 'torch.optim.sgd.SGD'>   \n36                      0.85  <class 'torch.optim.sgd.SGD'>   \n37                      0.95  <class 'torch.optim.sgd.SGD'>   \n38                       0.8  <class 'torch.optim.sgd.SGD'>   \n39                      0.95  <class 'torch.optim.sgd.SGD'>   \n40                       0.8  <class 'torch.optim.sgd.SGD'>   \n41                      0.95  <class 'torch.optim.sgd.SGD'>   \n42                      0.95  <class 'torch.optim.sgd.SGD'>   \n43                       0.9  <class 'torch.optim.sgd.SGD'>   \n44                       0.9  <class 'torch.optim.sgd.SGD'>   \n45                       0.8  <class 'torch.optim.sgd.SGD'>   \n46                       0.8  <class 'torch.optim.sgd.SGD'>   \n47                      0.85  <class 'torch.optim.sgd.SGD'>   \n48                       0.9  <class 'torch.optim.sgd.SGD'>   \n49                       0.9  <class 'torch.optim.sgd.SGD'>   \n\n   param_module__hidden_units param_max_epochs  ... param_batch_size  \\\n0                         100               40  ...               64   \n1                          20               90  ...               32   \n2                          30               80  ...              124   \n3                          50               30  ...              128   \n4                           5               10  ...              124   \n5                          40              100  ...               64   \n6                           3               60  ...               32   \n7                          90               30  ...               32   \n8                           3               90  ...              124   \n9                          10               40  ...              124   \n10                        100              100  ...              124   \n11                         30               50  ...              128   \n12                         50               70  ...              124   \n13                          4               50  ...              128   \n14                         30               30  ...              128   \n15                         70               80  ...               64   \n16                         80               30  ...               64   \n17                          3               80  ...               32   \n18                         10               20  ...               64   \n19                         30               40  ...              128   \n20                         50               90  ...               64   \n21                         90              100  ...              128   \n22                         60               70  ...              124   \n23                         90               20  ...               64   \n24                          4               10  ...               64   \n25                         10               10  ...               64   \n26                         70               40  ...               32   \n27                          3               40  ...               32   \n28                         50               90  ...              128   \n29                          3               20  ...               64   \n30                          3              100  ...               32   \n31                         20               50  ...              128   \n32                          3               30  ...              128   \n33                        100               20  ...              128   \n34                         40               80  ...               64   \n35                         70               70  ...              128   \n36                         40               80  ...               32   \n37                         70               10  ...               64   \n38                          3               10  ...               64   \n39                          2              100  ...               32   \n40                         80               90  ...              128   \n41                         40               80  ...              124   \n42                         70               10  ...               32   \n43                         40               20  ...               32   \n44                         60               10  ...              128   \n45                         50               80  ...               32   \n46                         40               10  ...              128   \n47                          2               90  ...              124   \n48                         10               80  ...              124   \n49                          4               50  ...              124   \n\n                                               params split0_test_score  \\\n0   {'optimizer__weight_decay': 0.1, 'optimizer__n...              0.52   \n1   {'optimizer__weight_decay': 0.0001, 'optimizer...              0.52   \n2   {'optimizer__weight_decay': 0.0001, 'optimizer...              0.52   \n3   {'optimizer__weight_decay': 0.01, 'optimizer__...              0.52   \n4   {'optimizer__weight_decay': 0.0001, 'optimizer...              0.52   \n5   {'optimizer__weight_decay': 0.1, 'optimizer__n...              0.52   \n6   {'optimizer__weight_decay': 0.001, 'optimizer_...              0.52   \n7   {'optimizer__weight_decay': 0.001, 'optimizer_...              0.52   \n8   {'optimizer__weight_decay': 0.001, 'optimizer_...              0.52   \n9   {'optimizer__weight_decay': 0.001, 'optimizer_...              0.52   \n10  {'optimizer__weight_decay': 0.01, 'optimizer__...              0.52   \n11  {'optimizer__weight_decay': 0.1, 'optimizer__n...              0.52   \n12  {'optimizer__weight_decay': 0.01, 'optimizer__...              0.52   \n13  {'optimizer__weight_decay': 0.01, 'optimizer__...              0.52   \n14  {'optimizer__weight_decay': 0.01, 'optimizer__...              0.52   \n15  {'optimizer__weight_decay': 0.0001, 'optimizer...              0.52   \n16  {'optimizer__weight_decay': 0.1, 'optimizer__n...              0.52   \n17  {'optimizer__weight_decay': 0.001, 'optimizer_...              0.52   \n18  {'optimizer__weight_decay': 0.01, 'optimizer__...              0.52   \n19  {'optimizer__weight_decay': 0.01, 'optimizer__...              0.52   \n20  {'optimizer__weight_decay': 0.001, 'optimizer_...              0.52   \n21  {'optimizer__weight_decay': 0.001, 'optimizer_...              0.52   \n22  {'optimizer__weight_decay': 0.0001, 'optimizer...              0.52   \n23  {'optimizer__weight_decay': 0.0001, 'optimizer...              0.52   \n24  {'optimizer__weight_decay': 0.01, 'optimizer__...              0.52   \n25  {'optimizer__weight_decay': 0.01, 'optimizer__...              0.52   \n26  {'optimizer__weight_decay': 0.0001, 'optimizer...              0.52   \n27  {'optimizer__weight_decay': 0.01, 'optimizer__...              0.52   \n28  {'optimizer__weight_decay': 0.01, 'optimizer__...              0.52   \n29  {'optimizer__weight_decay': 0.001, 'optimizer_...              0.52   \n30  {'optimizer__weight_decay': 0.01, 'optimizer__...              0.52   \n31  {'optimizer__weight_decay': 0.01, 'optimizer__...              0.52   \n32  {'optimizer__weight_decay': 0.0001, 'optimizer...              0.52   \n33  {'optimizer__weight_decay': 0.01, 'optimizer__...              0.52   \n34  {'optimizer__weight_decay': 0.01, 'optimizer__...              0.52   \n35  {'optimizer__weight_decay': 0.0001, 'optimizer...              0.52   \n36  {'optimizer__weight_decay': 0.001, 'optimizer_...              0.52   \n37  {'optimizer__weight_decay': 0.01, 'optimizer__...              0.52   \n38  {'optimizer__weight_decay': 0.001, 'optimizer_...              0.52   \n39  {'optimizer__weight_decay': 0.0001, 'optimizer...              0.52   \n40  {'optimizer__weight_decay': 0.0001, 'optimizer...              0.52   \n41  {'optimizer__weight_decay': 0.0001, 'optimizer...              0.52   \n42  {'optimizer__weight_decay': 0.0001, 'optimizer...              0.52   \n43  {'optimizer__weight_decay': 0.01, 'optimizer__...              0.52   \n44  {'optimizer__weight_decay': 0.1, 'optimizer__n...              0.52   \n45  {'optimizer__weight_decay': 0.001, 'optimizer_...              0.52   \n46  {'optimizer__weight_decay': 0.001, 'optimizer_...              0.52   \n47  {'optimizer__weight_decay': 0.1, 'optimizer__n...              0.52   \n48  {'optimizer__weight_decay': 0.001, 'optimizer_...              0.52   \n49  {'optimizer__weight_decay': 0.0001, 'optimizer...              0.52   \n\n    split1_test_score  split2_test_score  split3_test_score  \\\n0                0.52               0.48               0.48   \n1                0.52               0.48               0.48   \n2                0.52               0.48               0.48   \n3                0.52               0.48               0.48   \n4                0.52               0.48               0.48   \n5                0.52               0.48               0.48   \n6                0.52               0.48               0.48   \n7                0.52               0.48               0.48   \n8                0.52               0.48               0.48   \n9                0.52               0.48               0.48   \n10               0.52               0.48               0.48   \n11               0.52               0.48               0.48   \n12               0.52               0.48               0.48   \n13               0.52               0.48               0.48   \n14               0.52               0.48               0.48   \n15               0.52               0.48               0.48   \n16               0.52               0.48               0.48   \n17               0.52               0.48               0.48   \n18               0.52               0.48               0.48   \n19               0.52               0.48               0.48   \n20               0.52               0.48               0.48   \n21               0.52               0.48               0.48   \n22               0.52               0.48               0.48   \n23               0.52               0.48               0.48   \n24               0.52               0.48               0.48   \n25               0.52               0.48               0.48   \n26               0.52               0.48               0.48   \n27               0.52               0.48               0.48   \n28               0.52               0.48               0.48   \n29               0.52               0.48               0.48   \n30               0.52               0.48               0.48   \n31               0.52               0.48               0.48   \n32               0.52               0.48               0.48   \n33               0.52               0.48               0.48   \n34               0.52               0.48               0.48   \n35               0.52               0.48               0.48   \n36               0.52               0.48               0.48   \n37               0.52               0.48               0.48   \n38               0.52               0.48               0.48   \n39               0.52               0.48               0.48   \n40               0.52               0.48               0.48   \n41               0.52               0.48               0.48   \n42               0.52               0.48               0.48   \n43               0.52               0.48               0.48   \n44               0.52               0.48               0.48   \n45               0.52               0.48               0.48   \n46               0.52               0.48               0.48   \n47               0.52               0.48               0.48   \n48               0.52               0.48               0.48   \n49               0.52               0.48               0.48   \n\n    split4_test_score  mean_test_score  std_test_score  rank_test_score  \n0                 0.5              0.5        0.017889                1  \n1                 0.5              0.5        0.017889                1  \n2                 0.5              0.5        0.017889                1  \n3                 0.5              0.5        0.017889                1  \n4                 0.5              0.5        0.017889                1  \n5                 0.5              0.5        0.017889                1  \n6                 0.5              0.5        0.017889                1  \n7                 0.5              0.5        0.017889                1  \n8                 0.5              0.5        0.017889                1  \n9                 0.5              0.5        0.017889                1  \n10                0.5              0.5        0.017889                1  \n11                0.5              0.5        0.017889                1  \n12                0.5              0.5        0.017889                1  \n13                0.5              0.5        0.017889                1  \n14                0.5              0.5        0.017889                1  \n15                0.5              0.5        0.017889                1  \n16                0.5              0.5        0.017889                1  \n17                0.5              0.5        0.017889                1  \n18                0.5              0.5        0.017889                1  \n19                0.5              0.5        0.017889                1  \n20                0.5              0.5        0.017889                1  \n21                0.5              0.5        0.017889                1  \n22                0.5              0.5        0.017889                1  \n23                0.5              0.5        0.017889                1  \n24                0.5              0.5        0.017889                1  \n25                0.5              0.5        0.017889                1  \n26                0.5              0.5        0.017889                1  \n27                0.5              0.5        0.017889                1  \n28                0.5              0.5        0.017889                1  \n29                0.5              0.5        0.017889                1  \n30                0.5              0.5        0.017889                1  \n31                0.5              0.5        0.017889                1  \n32                0.5              0.5        0.017889                1  \n33                0.5              0.5        0.017889                1  \n34                0.5              0.5        0.017889                1  \n35                0.5              0.5        0.017889                1  \n36                0.5              0.5        0.017889                1  \n37                0.5              0.5        0.017889                1  \n38                0.5              0.5        0.017889                1  \n39                0.5              0.5        0.017889                1  \n40                0.5              0.5        0.017889                1  \n41                0.5              0.5        0.017889                1  \n42                0.5              0.5        0.017889                1  \n43                0.5              0.5        0.017889                1  \n44                0.5              0.5        0.017889                1  \n45                0.5              0.5        0.017889                1  \n46                0.5              0.5        0.017889                1  \n47                0.5              0.5        0.017889                1  \n48                0.5              0.5        0.017889                1  \n49                0.5              0.5        0.017889                1  \n\n[50 rows x 21 columns]",
      "text/html": "<div>\n<style scoped>\n    .dataframe tbody tr th:only-of-type {\n        vertical-align: middle;\n    }\n\n    .dataframe tbody tr th {\n        vertical-align: top;\n    }\n\n    .dataframe thead th {\n        text-align: right;\n    }\n</style>\n<table border=\"1\" class=\"dataframe\">\n  <thead>\n    <tr style=\"text-align: right;\">\n      <th></th>\n      <th>mean_fit_time</th>\n      <th>std_fit_time</th>\n      <th>mean_score_time</th>\n      <th>std_score_time</th>\n      <th>param_optimizer__weight_decay</th>\n      <th>param_optimizer__nesterov</th>\n      <th>param_optimizer__momentum</th>\n      <th>param_optimizer</th>\n      <th>param_module__hidden_units</th>\n      <th>param_max_epochs</th>\n      <th>...</th>\n      <th>param_batch_size</th>\n      <th>params</th>\n      <th>split0_test_score</th>\n      <th>split1_test_score</th>\n      <th>split2_test_score</th>\n      <th>split3_test_score</th>\n      <th>split4_test_score</th>\n      <th>mean_test_score</th>\n      <th>std_test_score</th>\n      <th>rank_test_score</th>\n    </tr>\n  </thead>\n  <tbody>\n    <tr>\n      <th>0</th>\n      <td>0.527689</td>\n      <td>0.027827</td>\n      <td>0.014345</td>\n      <td>0.024180</td>\n      <td>0.1</td>\n      <td>True</td>\n      <td>0.9</td>\n      <td>&lt;class 'torch.optim.sgd.SGD'&gt;</td>\n      <td>100</td>\n      <td>40</td>\n      <td>...</td>\n      <td>64</td>\n      <td>{'optimizer__weight_decay': 0.1, 'optimizer__n...</td>\n      <td>0.52</td>\n      <td>0.52</td>\n      <td>0.48</td>\n      <td>0.48</td>\n      <td>0.5</td>\n      <td>0.5</td>\n      <td>0.017889</td>\n      <td>1</td>\n    </tr>\n    <tr>\n      <th>1</th>\n      <td>1.796222</td>\n      <td>0.127400</td>\n      <td>0.010082</td>\n      <td>0.016318</td>\n      <td>0.0001</td>\n      <td>True</td>\n      <td>0.9</td>\n      <td>&lt;class 'torch.optim.sgd.SGD'&gt;</td>\n      <td>20</td>\n      <td>90</td>\n      <td>...</td>\n      <td>32</td>\n      <td>{'optimizer__weight_decay': 0.0001, 'optimizer...</td>\n      <td>0.52</td>\n      <td>0.52</td>\n      <td>0.48</td>\n      <td>0.48</td>\n      <td>0.5</td>\n      <td>0.5</td>\n      <td>0.017889</td>\n      <td>1</td>\n    </tr>\n    <tr>\n      <th>2</th>\n      <td>0.839557</td>\n      <td>0.040130</td>\n      <td>0.001940</td>\n      <td>0.000025</td>\n      <td>0.0001</td>\n      <td>False</td>\n      <td>0.95</td>\n      <td>&lt;class 'torch.optim.sgd.SGD'&gt;</td>\n      <td>30</td>\n      <td>80</td>\n      <td>...</td>\n      <td>124</td>\n      <td>{'optimizer__weight_decay': 0.0001, 'optimizer...</td>\n      <td>0.52</td>\n      <td>0.52</td>\n      <td>0.48</td>\n      <td>0.48</td>\n      <td>0.5</td>\n      <td>0.5</td>\n      <td>0.017889</td>\n      <td>1</td>\n    </tr>\n    <tr>\n      <th>3</th>\n      <td>0.312196</td>\n      <td>0.006956</td>\n      <td>0.024288</td>\n      <td>0.027391</td>\n      <td>0.01</td>\n      <td>False</td>\n      <td>0.95</td>\n      <td>&lt;class 'torch.optim.sgd.SGD'&gt;</td>\n      <td>50</td>\n      <td>30</td>\n      <td>...</td>\n      <td>128</td>\n      <td>{'optimizer__weight_decay': 0.01, 'optimizer__...</td>\n      <td>0.52</td>\n      <td>0.52</td>\n      <td>0.48</td>\n      <td>0.48</td>\n      <td>0.5</td>\n      <td>0.5</td>\n      <td>0.017889</td>\n      <td>1</td>\n    </tr>\n    <tr>\n      <th>4</th>\n      <td>0.113336</td>\n      <td>0.046345</td>\n      <td>0.002295</td>\n      <td>0.000843</td>\n      <td>0.0001</td>\n      <td>True</td>\n      <td>0.85</td>\n      <td>&lt;class 'torch.optim.sgd.SGD'&gt;</td>\n      <td>5</td>\n      <td>10</td>\n      <td>...</td>\n      <td>124</td>\n      <td>{'optimizer__weight_decay': 0.0001, 'optimizer...</td>\n      <td>0.52</td>\n      <td>0.52</td>\n      <td>0.48</td>\n      <td>0.48</td>\n      <td>0.5</td>\n      <td>0.5</td>\n      <td>0.017889</td>\n      <td>1</td>\n    </tr>\n    <tr>\n      <th>5</th>\n      <td>1.239959</td>\n      <td>0.074307</td>\n      <td>0.001697</td>\n      <td>0.000302</td>\n      <td>0.1</td>\n      <td>False</td>\n      <td>0.8</td>\n      <td>&lt;class 'torch.optim.sgd.SGD'&gt;</td>\n      <td>40</td>\n      <td>100</td>\n      <td>...</td>\n      <td>64</td>\n      <td>{'optimizer__weight_decay': 0.1, 'optimizer__n...</td>\n      <td>0.52</td>\n      <td>0.52</td>\n      <td>0.48</td>\n      <td>0.48</td>\n      <td>0.5</td>\n      <td>0.5</td>\n      <td>0.017889</td>\n      <td>1</td>\n    </tr>\n    <tr>\n      <th>6</th>\n      <td>1.173551</td>\n      <td>0.095351</td>\n      <td>0.002342</td>\n      <td>0.000446</td>\n      <td>0.001</td>\n      <td>False</td>\n      <td>0.8</td>\n      <td>&lt;class 'torch.optim.sgd.SGD'&gt;</td>\n      <td>3</td>\n      <td>60</td>\n      <td>...</td>\n      <td>32</td>\n      <td>{'optimizer__weight_decay': 0.001, 'optimizer_...</td>\n      <td>0.52</td>\n      <td>0.52</td>\n      <td>0.48</td>\n      <td>0.48</td>\n      <td>0.5</td>\n      <td>0.5</td>\n      <td>0.017889</td>\n      <td>1</td>\n    </tr>\n    <tr>\n      <th>7</th>\n      <td>0.613952</td>\n      <td>0.056307</td>\n      <td>0.001852</td>\n      <td>0.000064</td>\n      <td>0.001</td>\n      <td>False</td>\n      <td>0.95</td>\n      <td>&lt;class 'torch.optim.sgd.SGD'&gt;</td>\n      <td>90</td>\n      <td>30</td>\n      <td>...</td>\n      <td>32</td>\n      <td>{'optimizer__weight_decay': 0.001, 'optimizer_...</td>\n      <td>0.52</td>\n      <td>0.52</td>\n      <td>0.48</td>\n      <td>0.48</td>\n      <td>0.5</td>\n      <td>0.5</td>\n      <td>0.017889</td>\n      <td>1</td>\n    </tr>\n    <tr>\n      <th>8</th>\n      <td>0.922635</td>\n      <td>0.025863</td>\n      <td>0.013944</td>\n      <td>0.024309</td>\n      <td>0.001</td>\n      <td>True</td>\n      <td>0.85</td>\n      <td>&lt;class 'torch.optim.sgd.SGD'&gt;</td>\n      <td>3</td>\n      <td>90</td>\n      <td>...</td>\n      <td>124</td>\n      <td>{'optimizer__weight_decay': 0.001, 'optimizer_...</td>\n      <td>0.52</td>\n      <td>0.52</td>\n      <td>0.48</td>\n      <td>0.48</td>\n      <td>0.5</td>\n      <td>0.5</td>\n      <td>0.017889</td>\n      <td>1</td>\n    </tr>\n    <tr>\n      <th>9</th>\n      <td>0.415943</td>\n      <td>0.026779</td>\n      <td>0.001906</td>\n      <td>0.000082</td>\n      <td>0.001</td>\n      <td>False</td>\n      <td>0.8</td>\n      <td>&lt;class 'torch.optim.sgd.SGD'&gt;</td>\n      <td>10</td>\n      <td>40</td>\n      <td>...</td>\n      <td>124</td>\n      <td>{'optimizer__weight_decay': 0.001, 'optimizer_...</td>\n      <td>0.52</td>\n      <td>0.52</td>\n      <td>0.48</td>\n      <td>0.48</td>\n      <td>0.5</td>\n      <td>0.5</td>\n      <td>0.017889</td>\n      <td>1</td>\n    </tr>\n    <tr>\n      <th>10</th>\n      <td>1.010773</td>\n      <td>0.060653</td>\n      <td>0.014022</td>\n      <td>0.024147</td>\n      <td>0.01</td>\n      <td>False</td>\n      <td>0.85</td>\n      <td>&lt;class 'torch.optim.sgd.SGD'&gt;</td>\n      <td>100</td>\n      <td>100</td>\n      <td>...</td>\n      <td>124</td>\n      <td>{'optimizer__weight_decay': 0.01, 'optimizer__...</td>\n      <td>0.52</td>\n      <td>0.52</td>\n      <td>0.48</td>\n      <td>0.48</td>\n      <td>0.5</td>\n      <td>0.5</td>\n      <td>0.017889</td>\n      <td>1</td>\n    </tr>\n    <tr>\n      <th>11</th>\n      <td>0.503831</td>\n      <td>0.057101</td>\n      <td>0.001621</td>\n      <td>0.000347</td>\n      <td>0.1</td>\n      <td>True</td>\n      <td>0.8</td>\n      <td>&lt;class 'torch.optim.sgd.SGD'&gt;</td>\n      <td>30</td>\n      <td>50</td>\n      <td>...</td>\n      <td>128</td>\n      <td>{'optimizer__weight_decay': 0.1, 'optimizer__n...</td>\n      <td>0.52</td>\n      <td>0.52</td>\n      <td>0.48</td>\n      <td>0.48</td>\n      <td>0.5</td>\n      <td>0.5</td>\n      <td>0.017889</td>\n      <td>1</td>\n    </tr>\n    <tr>\n      <th>12</th>\n      <td>0.742184</td>\n      <td>0.045756</td>\n      <td>0.001985</td>\n      <td>0.000112</td>\n      <td>0.01</td>\n      <td>False</td>\n      <td>0.95</td>\n      <td>&lt;class 'torch.optim.sgd.SGD'&gt;</td>\n      <td>50</td>\n      <td>70</td>\n      <td>...</td>\n      <td>124</td>\n      <td>{'optimizer__weight_decay': 0.01, 'optimizer__...</td>\n      <td>0.52</td>\n      <td>0.52</td>\n      <td>0.48</td>\n      <td>0.48</td>\n      <td>0.5</td>\n      <td>0.5</td>\n      <td>0.017889</td>\n      <td>1</td>\n    </tr>\n    <tr>\n      <th>13</th>\n      <td>0.502016</td>\n      <td>0.107005</td>\n      <td>0.001600</td>\n      <td>0.000332</td>\n      <td>0.01</td>\n      <td>False</td>\n      <td>0.85</td>\n      <td>&lt;class 'torch.optim.sgd.SGD'&gt;</td>\n      <td>4</td>\n      <td>50</td>\n      <td>...</td>\n      <td>128</td>\n      <td>{'optimizer__weight_decay': 0.01, 'optimizer__...</td>\n      <td>0.52</td>\n      <td>0.52</td>\n      <td>0.48</td>\n      <td>0.48</td>\n      <td>0.5</td>\n      <td>0.5</td>\n      <td>0.017889</td>\n      <td>1</td>\n    </tr>\n    <tr>\n      <th>14</th>\n      <td>0.325829</td>\n      <td>0.035058</td>\n      <td>0.002169</td>\n      <td>0.001169</td>\n      <td>0.01</td>\n      <td>True</td>\n      <td>0.95</td>\n      <td>&lt;class 'torch.optim.sgd.SGD'&gt;</td>\n      <td>30</td>\n      <td>30</td>\n      <td>...</td>\n      <td>128</td>\n      <td>{'optimizer__weight_decay': 0.01, 'optimizer__...</td>\n      <td>0.52</td>\n      <td>0.52</td>\n      <td>0.48</td>\n      <td>0.48</td>\n      <td>0.5</td>\n      <td>0.5</td>\n      <td>0.017889</td>\n      <td>1</td>\n    </tr>\n    <tr>\n      <th>15</th>\n      <td>1.111294</td>\n      <td>0.130589</td>\n      <td>0.012192</td>\n      <td>0.021144</td>\n      <td>0.0001</td>\n      <td>False</td>\n      <td>0.95</td>\n      <td>&lt;class 'torch.optim.sgd.SGD'&gt;</td>\n      <td>70</td>\n      <td>80</td>\n      <td>...</td>\n      <td>64</td>\n      <td>{'optimizer__weight_decay': 0.0001, 'optimizer...</td>\n      <td>0.52</td>\n      <td>0.52</td>\n      <td>0.48</td>\n      <td>0.48</td>\n      <td>0.5</td>\n      <td>0.5</td>\n      <td>0.017889</td>\n      <td>1</td>\n    </tr>\n    <tr>\n      <th>16</th>\n      <td>0.437025</td>\n      <td>0.070268</td>\n      <td>0.004313</td>\n      <td>0.004844</td>\n      <td>0.1</td>\n      <td>False</td>\n      <td>0.8</td>\n      <td>&lt;class 'torch.optim.sgd.SGD'&gt;</td>\n      <td>80</td>\n      <td>30</td>\n      <td>...</td>\n      <td>64</td>\n      <td>{'optimizer__weight_decay': 0.1, 'optimizer__n...</td>\n      <td>0.52</td>\n      <td>0.52</td>\n      <td>0.48</td>\n      <td>0.48</td>\n      <td>0.5</td>\n      <td>0.5</td>\n      <td>0.017889</td>\n      <td>1</td>\n    </tr>\n    <tr>\n      <th>17</th>\n      <td>1.460681</td>\n      <td>0.070119</td>\n      <td>0.001703</td>\n      <td>0.000228</td>\n      <td>0.001</td>\n      <td>True</td>\n      <td>0.8</td>\n      <td>&lt;class 'torch.optim.sgd.SGD'&gt;</td>\n      <td>3</td>\n      <td>80</td>\n      <td>...</td>\n      <td>32</td>\n      <td>{'optimizer__weight_decay': 0.001, 'optimizer_...</td>\n      <td>0.52</td>\n      <td>0.52</td>\n      <td>0.48</td>\n      <td>0.48</td>\n      <td>0.5</td>\n      <td>0.5</td>\n      <td>0.017889</td>\n      <td>1</td>\n    </tr>\n    <tr>\n      <th>18</th>\n      <td>0.271347</td>\n      <td>0.029545</td>\n      <td>0.001681</td>\n      <td>0.000071</td>\n      <td>0.01</td>\n      <td>True</td>\n      <td>0.95</td>\n      <td>&lt;class 'torch.optim.sgd.SGD'&gt;</td>\n      <td>10</td>\n      <td>20</td>\n      <td>...</td>\n      <td>64</td>\n      <td>{'optimizer__weight_decay': 0.01, 'optimizer__...</td>\n      <td>0.52</td>\n      <td>0.52</td>\n      <td>0.48</td>\n      <td>0.48</td>\n      <td>0.5</td>\n      <td>0.5</td>\n      <td>0.017889</td>\n      <td>1</td>\n    </tr>\n    <tr>\n      <th>19</th>\n      <td>0.380681</td>\n      <td>0.032358</td>\n      <td>0.014684</td>\n      <td>0.026136</td>\n      <td>0.01</td>\n      <td>False</td>\n      <td>0.8</td>\n      <td>&lt;class 'torch.optim.sgd.SGD'&gt;</td>\n      <td>30</td>\n      <td>40</td>\n      <td>...</td>\n      <td>128</td>\n      <td>{'optimizer__weight_decay': 0.01, 'optimizer__...</td>\n      <td>0.52</td>\n      <td>0.52</td>\n      <td>0.48</td>\n      <td>0.48</td>\n      <td>0.5</td>\n      <td>0.5</td>\n      <td>0.017889</td>\n      <td>1</td>\n    </tr>\n    <tr>\n      <th>20</th>\n      <td>1.153899</td>\n      <td>0.073546</td>\n      <td>0.001621</td>\n      <td>0.000362</td>\n      <td>0.001</td>\n      <td>True</td>\n      <td>0.9</td>\n      <td>&lt;class 'torch.optim.sgd.SGD'&gt;</td>\n      <td>50</td>\n      <td>90</td>\n      <td>...</td>\n      <td>64</td>\n      <td>{'optimizer__weight_decay': 0.001, 'optimizer_...</td>\n      <td>0.52</td>\n      <td>0.52</td>\n      <td>0.48</td>\n      <td>0.48</td>\n      <td>0.5</td>\n      <td>0.5</td>\n      <td>0.017889</td>\n      <td>1</td>\n    </tr>\n    <tr>\n      <th>21</th>\n      <td>0.977710</td>\n      <td>0.077975</td>\n      <td>0.013805</td>\n      <td>0.020391</td>\n      <td>0.001</td>\n      <td>True</td>\n      <td>0.8</td>\n      <td>&lt;class 'torch.optim.sgd.SGD'&gt;</td>\n      <td>90</td>\n      <td>100</td>\n      <td>...</td>\n      <td>128</td>\n      <td>{'optimizer__weight_decay': 0.001, 'optimizer_...</td>\n      <td>0.52</td>\n      <td>0.52</td>\n      <td>0.48</td>\n      <td>0.48</td>\n      <td>0.5</td>\n      <td>0.5</td>\n      <td>0.017889</td>\n      <td>1</td>\n    </tr>\n    <tr>\n      <th>22</th>\n      <td>0.690769</td>\n      <td>0.037291</td>\n      <td>0.001870</td>\n      <td>0.000248</td>\n      <td>0.0001</td>\n      <td>False</td>\n      <td>0.85</td>\n      <td>&lt;class 'torch.optim.sgd.SGD'&gt;</td>\n      <td>60</td>\n      <td>70</td>\n      <td>...</td>\n      <td>124</td>\n      <td>{'optimizer__weight_decay': 0.0001, 'optimizer...</td>\n      <td>0.52</td>\n      <td>0.52</td>\n      <td>0.48</td>\n      <td>0.48</td>\n      <td>0.5</td>\n      <td>0.5</td>\n      <td>0.017889</td>\n      <td>1</td>\n    </tr>\n    <tr>\n      <th>23</th>\n      <td>0.257344</td>\n      <td>0.030366</td>\n      <td>0.001740</td>\n      <td>0.000099</td>\n      <td>0.0001</td>\n      <td>False</td>\n      <td>0.95</td>\n      <td>&lt;class 'torch.optim.sgd.SGD'&gt;</td>\n      <td>90</td>\n      <td>20</td>\n      <td>...</td>\n      <td>64</td>\n      <td>{'optimizer__weight_decay': 0.0001, 'optimizer...</td>\n      <td>0.52</td>\n      <td>0.52</td>\n      <td>0.48</td>\n      <td>0.48</td>\n      <td>0.5</td>\n      <td>0.5</td>\n      <td>0.017889</td>\n      <td>1</td>\n    </tr>\n    <tr>\n      <th>24</th>\n      <td>0.128859</td>\n      <td>0.026554</td>\n      <td>0.001810</td>\n      <td>0.000288</td>\n      <td>0.01</td>\n      <td>True</td>\n      <td>0.95</td>\n      <td>&lt;class 'torch.optim.sgd.SGD'&gt;</td>\n      <td>4</td>\n      <td>10</td>\n      <td>...</td>\n      <td>64</td>\n      <td>{'optimizer__weight_decay': 0.01, 'optimizer__...</td>\n      <td>0.52</td>\n      <td>0.52</td>\n      <td>0.48</td>\n      <td>0.48</td>\n      <td>0.5</td>\n      <td>0.5</td>\n      <td>0.017889</td>\n      <td>1</td>\n    </tr>\n    <tr>\n      <th>25</th>\n      <td>0.149683</td>\n      <td>0.032815</td>\n      <td>0.001945</td>\n      <td>0.000214</td>\n      <td>0.01</td>\n      <td>False</td>\n      <td>0.85</td>\n      <td>&lt;class 'torch.optim.sgd.SGD'&gt;</td>\n      <td>10</td>\n      <td>10</td>\n      <td>...</td>\n      <td>64</td>\n      <td>{'optimizer__weight_decay': 0.01, 'optimizer__...</td>\n      <td>0.52</td>\n      <td>0.52</td>\n      <td>0.48</td>\n      <td>0.48</td>\n      <td>0.5</td>\n      <td>0.5</td>\n      <td>0.017889</td>\n      <td>1</td>\n    </tr>\n    <tr>\n      <th>26</th>\n      <td>0.762883</td>\n      <td>0.132434</td>\n      <td>0.001781</td>\n      <td>0.000155</td>\n      <td>0.0001</td>\n      <td>False</td>\n      <td>0.9</td>\n      <td>&lt;class 'torch.optim.sgd.SGD'&gt;</td>\n      <td>70</td>\n      <td>40</td>\n      <td>...</td>\n      <td>32</td>\n      <td>{'optimizer__weight_decay': 0.0001, 'optimizer...</td>\n      <td>0.52</td>\n      <td>0.52</td>\n      <td>0.48</td>\n      <td>0.48</td>\n      <td>0.5</td>\n      <td>0.5</td>\n      <td>0.017889</td>\n      <td>1</td>\n    </tr>\n    <tr>\n      <th>27</th>\n      <td>0.792904</td>\n      <td>0.044980</td>\n      <td>0.001761</td>\n      <td>0.000153</td>\n      <td>0.01</td>\n      <td>False</td>\n      <td>0.8</td>\n      <td>&lt;class 'torch.optim.sgd.SGD'&gt;</td>\n      <td>3</td>\n      <td>40</td>\n      <td>...</td>\n      <td>32</td>\n      <td>{'optimizer__weight_decay': 0.01, 'optimizer__...</td>\n      <td>0.52</td>\n      <td>0.52</td>\n      <td>0.48</td>\n      <td>0.48</td>\n      <td>0.5</td>\n      <td>0.5</td>\n      <td>0.017889</td>\n      <td>1</td>\n    </tr>\n    <tr>\n      <th>28</th>\n      <td>0.845856</td>\n      <td>0.043264</td>\n      <td>0.002446</td>\n      <td>0.001330</td>\n      <td>0.01</td>\n      <td>True</td>\n      <td>0.9</td>\n      <td>&lt;class 'torch.optim.sgd.SGD'&gt;</td>\n      <td>50</td>\n      <td>90</td>\n      <td>...</td>\n      <td>128</td>\n      <td>{'optimizer__weight_decay': 0.01, 'optimizer__...</td>\n      <td>0.52</td>\n      <td>0.52</td>\n      <td>0.48</td>\n      <td>0.48</td>\n      <td>0.5</td>\n      <td>0.5</td>\n      <td>0.017889</td>\n      <td>1</td>\n    </tr>\n    <tr>\n      <th>29</th>\n      <td>0.267585</td>\n      <td>0.030492</td>\n      <td>0.001689</td>\n      <td>0.000224</td>\n      <td>0.001</td>\n      <td>False</td>\n      <td>0.85</td>\n      <td>&lt;class 'torch.optim.sgd.SGD'&gt;</td>\n      <td>3</td>\n      <td>20</td>\n      <td>...</td>\n      <td>64</td>\n      <td>{'optimizer__weight_decay': 0.001, 'optimizer_...</td>\n      <td>0.52</td>\n      <td>0.52</td>\n      <td>0.48</td>\n      <td>0.48</td>\n      <td>0.5</td>\n      <td>0.5</td>\n      <td>0.017889</td>\n      <td>1</td>\n    </tr>\n    <tr>\n      <th>30</th>\n      <td>1.770434</td>\n      <td>0.031640</td>\n      <td>0.001688</td>\n      <td>0.000178</td>\n      <td>0.01</td>\n      <td>True</td>\n      <td>0.8</td>\n      <td>&lt;class 'torch.optim.sgd.SGD'&gt;</td>\n      <td>3</td>\n      <td>100</td>\n      <td>...</td>\n      <td>32</td>\n      <td>{'optimizer__weight_decay': 0.01, 'optimizer__...</td>\n      <td>0.52</td>\n      <td>0.52</td>\n      <td>0.48</td>\n      <td>0.48</td>\n      <td>0.5</td>\n      <td>0.5</td>\n      <td>0.017889</td>\n      <td>1</td>\n    </tr>\n    <tr>\n      <th>31</th>\n      <td>0.491372</td>\n      <td>0.065185</td>\n      <td>0.012465</td>\n      <td>0.020899</td>\n      <td>0.01</td>\n      <td>False</td>\n      <td>0.85</td>\n      <td>&lt;class 'torch.optim.sgd.SGD'&gt;</td>\n      <td>20</td>\n      <td>50</td>\n      <td>...</td>\n      <td>128</td>\n      <td>{'optimizer__weight_decay': 0.01, 'optimizer__...</td>\n      <td>0.52</td>\n      <td>0.52</td>\n      <td>0.48</td>\n      <td>0.48</td>\n      <td>0.5</td>\n      <td>0.5</td>\n      <td>0.017889</td>\n      <td>1</td>\n    </tr>\n    <tr>\n      <th>32</th>\n      <td>0.365443</td>\n      <td>0.054551</td>\n      <td>0.001920</td>\n      <td>0.000117</td>\n      <td>0.0001</td>\n      <td>False</td>\n      <td>0.9</td>\n      <td>&lt;class 'torch.optim.sgd.SGD'&gt;</td>\n      <td>3</td>\n      <td>30</td>\n      <td>...</td>\n      <td>128</td>\n      <td>{'optimizer__weight_decay': 0.0001, 'optimizer...</td>\n      <td>0.52</td>\n      <td>0.52</td>\n      <td>0.48</td>\n      <td>0.48</td>\n      <td>0.5</td>\n      <td>0.5</td>\n      <td>0.017889</td>\n      <td>1</td>\n    </tr>\n    <tr>\n      <th>33</th>\n      <td>0.191737</td>\n      <td>0.029617</td>\n      <td>0.012215</td>\n      <td>0.020913</td>\n      <td>0.01</td>\n      <td>False</td>\n      <td>0.8</td>\n      <td>&lt;class 'torch.optim.sgd.SGD'&gt;</td>\n      <td>100</td>\n      <td>20</td>\n      <td>...</td>\n      <td>128</td>\n      <td>{'optimizer__weight_decay': 0.01, 'optimizer__...</td>\n      <td>0.52</td>\n      <td>0.52</td>\n      <td>0.48</td>\n      <td>0.48</td>\n      <td>0.5</td>\n      <td>0.5</td>\n      <td>0.017889</td>\n      <td>1</td>\n    </tr>\n    <tr>\n      <th>34</th>\n      <td>1.109642</td>\n      <td>0.051889</td>\n      <td>0.001860</td>\n      <td>0.000222</td>\n      <td>0.01</td>\n      <td>False</td>\n      <td>0.95</td>\n      <td>&lt;class 'torch.optim.sgd.SGD'&gt;</td>\n      <td>40</td>\n      <td>80</td>\n      <td>...</td>\n      <td>64</td>\n      <td>{'optimizer__weight_decay': 0.01, 'optimizer__...</td>\n      <td>0.52</td>\n      <td>0.52</td>\n      <td>0.48</td>\n      <td>0.48</td>\n      <td>0.5</td>\n      <td>0.5</td>\n      <td>0.017889</td>\n      <td>1</td>\n    </tr>\n    <tr>\n      <th>35</th>\n      <td>0.686793</td>\n      <td>0.054579</td>\n      <td>0.001820</td>\n      <td>0.000395</td>\n      <td>0.0001</td>\n      <td>False</td>\n      <td>0.8</td>\n      <td>&lt;class 'torch.optim.sgd.SGD'&gt;</td>\n      <td>70</td>\n      <td>70</td>\n      <td>...</td>\n      <td>128</td>\n      <td>{'optimizer__weight_decay': 0.0001, 'optimizer...</td>\n      <td>0.52</td>\n      <td>0.52</td>\n      <td>0.48</td>\n      <td>0.48</td>\n      <td>0.5</td>\n      <td>0.5</td>\n      <td>0.017889</td>\n      <td>1</td>\n    </tr>\n    <tr>\n      <th>36</th>\n      <td>1.602339</td>\n      <td>0.126393</td>\n      <td>0.001713</td>\n      <td>0.000336</td>\n      <td>0.001</td>\n      <td>True</td>\n      <td>0.85</td>\n      <td>&lt;class 'torch.optim.sgd.SGD'&gt;</td>\n      <td>40</td>\n      <td>80</td>\n      <td>...</td>\n      <td>32</td>\n      <td>{'optimizer__weight_decay': 0.001, 'optimizer_...</td>\n      <td>0.52</td>\n      <td>0.52</td>\n      <td>0.48</td>\n      <td>0.48</td>\n      <td>0.5</td>\n      <td>0.5</td>\n      <td>0.017889</td>\n      <td>1</td>\n    </tr>\n    <tr>\n      <th>37</th>\n      <td>0.128492</td>\n      <td>0.024374</td>\n      <td>0.001786</td>\n      <td>0.000189</td>\n      <td>0.01</td>\n      <td>False</td>\n      <td>0.95</td>\n      <td>&lt;class 'torch.optim.sgd.SGD'&gt;</td>\n      <td>70</td>\n      <td>10</td>\n      <td>...</td>\n      <td>64</td>\n      <td>{'optimizer__weight_decay': 0.01, 'optimizer__...</td>\n      <td>0.52</td>\n      <td>0.52</td>\n      <td>0.48</td>\n      <td>0.48</td>\n      <td>0.5</td>\n      <td>0.5</td>\n      <td>0.017889</td>\n      <td>1</td>\n    </tr>\n    <tr>\n      <th>38</th>\n      <td>0.156331</td>\n      <td>0.031606</td>\n      <td>0.001912</td>\n      <td>0.000099</td>\n      <td>0.001</td>\n      <td>False</td>\n      <td>0.8</td>\n      <td>&lt;class 'torch.optim.sgd.SGD'&gt;</td>\n      <td>3</td>\n      <td>10</td>\n      <td>...</td>\n      <td>64</td>\n      <td>{'optimizer__weight_decay': 0.001, 'optimizer_...</td>\n      <td>0.52</td>\n      <td>0.52</td>\n      <td>0.48</td>\n      <td>0.48</td>\n      <td>0.5</td>\n      <td>0.5</td>\n      <td>0.017889</td>\n      <td>1</td>\n    </tr>\n    <tr>\n      <th>39</th>\n      <td>2.010474</td>\n      <td>0.133398</td>\n      <td>0.001934</td>\n      <td>0.000070</td>\n      <td>0.0001</td>\n      <td>True</td>\n      <td>0.95</td>\n      <td>&lt;class 'torch.optim.sgd.SGD'&gt;</td>\n      <td>2</td>\n      <td>100</td>\n      <td>...</td>\n      <td>32</td>\n      <td>{'optimizer__weight_decay': 0.0001, 'optimizer...</td>\n      <td>0.52</td>\n      <td>0.52</td>\n      <td>0.48</td>\n      <td>0.48</td>\n      <td>0.5</td>\n      <td>0.5</td>\n      <td>0.017889</td>\n      <td>1</td>\n    </tr>\n    <tr>\n      <th>40</th>\n      <td>0.985477</td>\n      <td>0.066979</td>\n      <td>0.001775</td>\n      <td>0.000248</td>\n      <td>0.0001</td>\n      <td>True</td>\n      <td>0.8</td>\n      <td>&lt;class 'torch.optim.sgd.SGD'&gt;</td>\n      <td>80</td>\n      <td>90</td>\n      <td>...</td>\n      <td>128</td>\n      <td>{'optimizer__weight_decay': 0.0001, 'optimizer...</td>\n      <td>0.52</td>\n      <td>0.52</td>\n      <td>0.48</td>\n      <td>0.48</td>\n      <td>0.5</td>\n      <td>0.5</td>\n      <td>0.017889</td>\n      <td>1</td>\n    </tr>\n    <tr>\n      <th>41</th>\n      <td>0.882345</td>\n      <td>0.056944</td>\n      <td>0.004307</td>\n      <td>0.004912</td>\n      <td>0.0001</td>\n      <td>False</td>\n      <td>0.95</td>\n      <td>&lt;class 'torch.optim.sgd.SGD'&gt;</td>\n      <td>40</td>\n      <td>80</td>\n      <td>...</td>\n      <td>124</td>\n      <td>{'optimizer__weight_decay': 0.0001, 'optimizer...</td>\n      <td>0.52</td>\n      <td>0.52</td>\n      <td>0.48</td>\n      <td>0.48</td>\n      <td>0.5</td>\n      <td>0.5</td>\n      <td>0.017889</td>\n      <td>1</td>\n    </tr>\n    <tr>\n      <th>42</th>\n      <td>0.220145</td>\n      <td>0.029315</td>\n      <td>0.002019</td>\n      <td>0.000172</td>\n      <td>0.0001</td>\n      <td>False</td>\n      <td>0.95</td>\n      <td>&lt;class 'torch.optim.sgd.SGD'&gt;</td>\n      <td>70</td>\n      <td>10</td>\n      <td>...</td>\n      <td>32</td>\n      <td>{'optimizer__weight_decay': 0.0001, 'optimizer...</td>\n      <td>0.52</td>\n      <td>0.52</td>\n      <td>0.48</td>\n      <td>0.48</td>\n      <td>0.5</td>\n      <td>0.5</td>\n      <td>0.017889</td>\n      <td>1</td>\n    </tr>\n    <tr>\n      <th>43</th>\n      <td>0.395218</td>\n      <td>0.053104</td>\n      <td>0.001679</td>\n      <td>0.000342</td>\n      <td>0.01</td>\n      <td>True</td>\n      <td>0.9</td>\n      <td>&lt;class 'torch.optim.sgd.SGD'&gt;</td>\n      <td>40</td>\n      <td>20</td>\n      <td>...</td>\n      <td>32</td>\n      <td>{'optimizer__weight_decay': 0.01, 'optimizer__...</td>\n      <td>0.52</td>\n      <td>0.52</td>\n      <td>0.48</td>\n      <td>0.48</td>\n      <td>0.5</td>\n      <td>0.5</td>\n      <td>0.017889</td>\n      <td>1</td>\n    </tr>\n    <tr>\n      <th>44</th>\n      <td>0.096359</td>\n      <td>0.010152</td>\n      <td>0.003993</td>\n      <td>0.004798</td>\n      <td>0.1</td>\n      <td>False</td>\n      <td>0.9</td>\n      <td>&lt;class 'torch.optim.sgd.SGD'&gt;</td>\n      <td>60</td>\n      <td>10</td>\n      <td>...</td>\n      <td>128</td>\n      <td>{'optimizer__weight_decay': 0.1, 'optimizer__n...</td>\n      <td>0.52</td>\n      <td>0.52</td>\n      <td>0.48</td>\n      <td>0.48</td>\n      <td>0.5</td>\n      <td>0.5</td>\n      <td>0.017889</td>\n      <td>1</td>\n    </tr>\n    <tr>\n      <th>45</th>\n      <td>1.507520</td>\n      <td>0.058701</td>\n      <td>0.004210</td>\n      <td>0.004048</td>\n      <td>0.001</td>\n      <td>False</td>\n      <td>0.8</td>\n      <td>&lt;class 'torch.optim.sgd.SGD'&gt;</td>\n      <td>50</td>\n      <td>80</td>\n      <td>...</td>\n      <td>32</td>\n      <td>{'optimizer__weight_decay': 0.001, 'optimizer_...</td>\n      <td>0.52</td>\n      <td>0.52</td>\n      <td>0.48</td>\n      <td>0.48</td>\n      <td>0.5</td>\n      <td>0.5</td>\n      <td>0.017889</td>\n      <td>1</td>\n    </tr>\n    <tr>\n      <th>46</th>\n      <td>0.113209</td>\n      <td>0.023990</td>\n      <td>0.003466</td>\n      <td>0.003226</td>\n      <td>0.001</td>\n      <td>True</td>\n      <td>0.8</td>\n      <td>&lt;class 'torch.optim.sgd.SGD'&gt;</td>\n      <td>40</td>\n      <td>10</td>\n      <td>...</td>\n      <td>128</td>\n      <td>{'optimizer__weight_decay': 0.001, 'optimizer_...</td>\n      <td>0.52</td>\n      <td>0.52</td>\n      <td>0.48</td>\n      <td>0.48</td>\n      <td>0.5</td>\n      <td>0.5</td>\n      <td>0.017889</td>\n      <td>1</td>\n    </tr>\n    <tr>\n      <th>47</th>\n      <td>0.826390</td>\n      <td>0.041143</td>\n      <td>0.014662</td>\n      <td>0.025845</td>\n      <td>0.1</td>\n      <td>True</td>\n      <td>0.85</td>\n      <td>&lt;class 'torch.optim.sgd.SGD'&gt;</td>\n      <td>2</td>\n      <td>90</td>\n      <td>...</td>\n      <td>124</td>\n      <td>{'optimizer__weight_decay': 0.1, 'optimizer__n...</td>\n      <td>0.52</td>\n      <td>0.52</td>\n      <td>0.48</td>\n      <td>0.48</td>\n      <td>0.5</td>\n      <td>0.5</td>\n      <td>0.017889</td>\n      <td>1</td>\n    </tr>\n    <tr>\n      <th>48</th>\n      <td>0.750939</td>\n      <td>0.041334</td>\n      <td>0.001617</td>\n      <td>0.000156</td>\n      <td>0.001</td>\n      <td>False</td>\n      <td>0.9</td>\n      <td>&lt;class 'torch.optim.sgd.SGD'&gt;</td>\n      <td>10</td>\n      <td>80</td>\n      <td>...</td>\n      <td>124</td>\n      <td>{'optimizer__weight_decay': 0.001, 'optimizer_...</td>\n      <td>0.52</td>\n      <td>0.52</td>\n      <td>0.48</td>\n      <td>0.48</td>\n      <td>0.5</td>\n      <td>0.5</td>\n      <td>0.017889</td>\n      <td>1</td>\n    </tr>\n    <tr>\n      <th>49</th>\n      <td>0.442095</td>\n      <td>0.034414</td>\n      <td>0.001528</td>\n      <td>0.000302</td>\n      <td>0.0001</td>\n      <td>False</td>\n      <td>0.9</td>\n      <td>&lt;class 'torch.optim.sgd.SGD'&gt;</td>\n      <td>4</td>\n      <td>50</td>\n      <td>...</td>\n      <td>124</td>\n      <td>{'optimizer__weight_decay': 0.0001, 'optimizer...</td>\n      <td>0.52</td>\n      <td>0.52</td>\n      <td>0.48</td>\n      <td>0.48</td>\n      <td>0.5</td>\n      <td>0.5</td>\n      <td>0.017889</td>\n      <td>1</td>\n    </tr>\n  </tbody>\n</table>\n<p>50 rows × 21 columns</p>\n</div>"
     },
     "metadata": {}
    }
   ],
   "execution_count": null
  },
  {
   "cell_type": "markdown",
   "source": "Now we check the result that achieved from randomizedsearch",
   "metadata": {
    "tags": [],
    "cell_id": "00023-65639d57-c13f-4850-a98c-058e24c130f9",
    "deepnote_cell_type": "markdown"
   }
  },
  {
   "cell_type": "code",
   "source": "net = NeuralNetBinaryClassifier(\n    BinaryClassification,\n    module__hidden_units=UNITS,\n    max_epochs=EPOCHS,\n    batch_size = BATCH_SIZE,\n    lr = LEARNING_RATE,\n    optimizer=OPTIMIZER,\n    optimizer__momentum=MOMENTUM,\n    optimizer__nesterov=NESTEROV,\n    optimizer__weight_decay=L2,\n    # Shuffle training data on each epoch\n    iterator_train__shuffle=True,\n    train_split=None\n)\n\nnet.fit(X_trainFit, y_trainFit, verbose=0)",
   "metadata": {
    "tags": [],
    "cell_id": "00026-fa4349c0-c51d-4dc0-9f92-2b9431c9d5d5",
    "deepnote_to_be_reexecuted": false,
    "source_hash": "6410eeef",
    "execution_start": 1641942578467,
    "execution_millis": 755,
    "deepnote_output_heights": [
     null,
     155.546875
    ],
    "deepnote_cell_type": "code"
   },
   "outputs": [
    {
     "name": "stdout",
     "text": "  epoch    train_loss     dur\n-------  ------------  ------\n      1        \u001b[36m0.7068\u001b[0m  0.0638\n      2        \u001b[36m0.6921\u001b[0m  0.0052\n      3        \u001b[36m0.6884\u001b[0m  0.0063\n      4        \u001b[36m0.6865\u001b[0m  0.0062\n      5        \u001b[36m0.6854\u001b[0m  0.0056\n      6        \u001b[36m0.6854\u001b[0m  0.0623\n      7        0.6862  0.0056\n      8        0.6892  0.0063\n      9        0.6925  0.0060\n     10        0.6969  0.0063\n     11        0.7003  0.0062\n     12        0.7044  0.0057\n     13        0.7056  0.0068\n     14        0.7061  0.0064\n     15        0.7051  0.0063\n     16        0.7035  0.0071\n     17        0.7018  0.0649\n     18        0.7001  0.0059\n     19        0.6986  0.0057\n     20        0.6976  0.0059\n     21        0.6966  0.0059\n     22        0.6961  0.0628\n     23        0.6963  0.0063\n     24        0.6961  0.0053\n     25        0.6962  0.0058\n     26        0.6963  0.0057\n     27        0.6966  0.0061\n     28        0.6967  0.0608\n     29        0.6969  0.0058\n     30        0.6974  0.0080\n     31        0.6974  0.0083\n     32        0.6973  0.0079\n     33        0.6973  0.0586\n     34        0.6973  0.0055\n     35        0.6973  0.0058\n     36        0.6972  0.0054\n     37        0.6971  0.0620\n     38        0.6972  0.0056\n     39        0.6972  0.0066\n     40        0.6971  0.0059\n",
     "output_type": "stream",
     "data": {}
    },
    {
     "output_type": "execute_result",
     "execution_count": 420,
     "data": {
      "text/plain": "<class 'skorch.classifier.NeuralNetBinaryClassifier'>[initialized](\n  module_=BinaryClassification(\n    (layer_in): Linear(in_features=6, out_features=100, bias=True)\n    (relu): ReLU(inplace=True)\n    (layer_out): Linear(in_features=100, out_features=1, bias=True)\n    (sigmoid): Sigmoid()\n  ),\n)"
     },
     "metadata": {}
    }
   ],
   "execution_count": null
  },
  {
   "cell_type": "code",
   "metadata": {
    "tags": [],
    "cell_id": "00027-8eb4bc4a-6d60-487b-a54a-165fef7a14e6",
    "deepnote_to_be_reexecuted": false,
    "source_hash": "8e5c16bf",
    "execution_start": 1641942579276,
    "execution_millis": 34109,
    "deepnote_output_heights": [
     null,
     155.546875
    ],
    "deepnote_cell_type": "code"
   },
   "source": "net = NeuralNetBinaryClassifier(\n    BinaryClassification,\n    module__hidden_units=100,\n    max_epochs=100,\n    batch_size = 1,\n    lr = 0.001,\n    optimizer=torch.optim.Adam,\n    #optimizer__momentum=0.95,\n    #optimizer__nesterov=False,\n    optimizer__weight_decay=0.1,\n    optimizer__eps=1e-08,\n    # Shuffle training data on each epoch\n    iterator_train__shuffle=True,\n    train_split=None\n)\n\nnet.fit(X_trainFit, y_trainFit, verbose=0)",
   "outputs": [
    {
     "name": "stdout",
     "text": "  epoch    train_loss     dur\n-------  ------------  ------\n      1        \u001b[36m0.7040\u001b[0m  0.3251\n      2        \u001b[36m0.6996\u001b[0m  0.3896\n      3        \u001b[36m0.6963\u001b[0m  0.3948\n      4        0.6989  0.3756\n      5        0.6991  0.3352\n      6        0.6983  0.3962\n      7        0.6984  0.3741\n      8        0.6988  0.3269\n      9        0.6982  0.3902\n     10        0.7026  0.3722\n     11        0.6972  0.3228\n     12        0.6993  0.3648\n     13        0.6986  0.3982\n     14        0.6985  0.3306\n     15        0.6991  0.3737\n     16        0.6985  0.3969\n     17        0.6991  0.3122\n     18        0.7007  0.2707\n     19        0.6965  0.2076\n     20        0.6986  0.2058\n     21        0.6999  0.2076\n     22        0.6993  0.2075\n     23        0.7000  0.2661\n     24        0.7003  0.2148\n     25        0.6979  0.2147\n     26        \u001b[36m0.6962\u001b[0m  0.2091\n     27        0.7024  0.2192\n     28        0.6986  0.2144\n     29        0.6983  0.2058\n     30        0.6986  0.2715\n     31        0.6984  0.2088\n     32        0.6994  0.2839\n     33        0.6983  0.3889\n     34        0.6995  0.3276\n     35        0.7007  0.3806\n     36        0.7003  0.4138\n     37        0.6973  0.3539\n     38        0.6963  0.3292\n     39        0.6968  0.3162\n     40        0.7015  0.3418\n     41        0.7017  0.3917\n     42        0.6989  0.3681\n     43        0.6996  0.3362\n     44        \u001b[36m0.6960\u001b[0m  0.3305\n     45        0.7005  0.3753\n     46        0.6980  0.3301\n     47        0.6998  0.4113\n     48        0.6996  0.3422\n     49        0.6972  0.3766\n     50        0.6993  0.3987\n     51        0.6966  0.3855\n     52        0.6980  0.3744\n     53        0.6999  0.3301\n     54        0.6976  0.3872\n     55        0.6990  0.3852\n     56        0.6984  0.3806\n     57        0.6987  0.2332\n     58        0.6989  0.2646\n     59        0.6981  0.2131\n     60        0.6991  0.2140\n     61        0.7011  0.2808\n     62        0.6987  0.2209\n     63        0.6981  0.2081\n     64        0.6983  0.2645\n     65        0.6986  0.2251\n     66        0.7002  0.2067\n     67        0.6991  0.2240\n     68        0.6980  0.3772\n     69        0.6966  0.3432\n     70        0.6969  0.3388\n     71        0.7004  0.3848\n     72        0.6974  0.3940\n     73        0.6982  0.3892\n     74        0.6968  0.3875\n     75        0.6995  0.3954\n     76        0.6991  0.4004\n     77        0.6974  0.3400\n     78        0.6979  0.3888\n     79        0.6995  0.4052\n     80        0.6989  0.3825\n     81        0.6985  0.3846\n     82        0.6978  0.3891\n     83        0.6981  0.3965\n     84        0.6980  0.3979\n     85        0.6991  0.3268\n     86        0.7004  0.3964\n     87        0.6996  0.3825\n     88        0.6978  0.3832\n     89        0.6977  0.3836\n     90        0.7002  0.3919\n     91        0.6969  0.3925\n     92        0.6993  0.3200\n     93        0.6988  0.3764\n     94        0.6982  0.3881\n     95        0.6980  0.3862\n     96        0.6983  0.4024\n     97        0.6969  0.3347\n     98        0.6976  0.3357\n     99        0.6971  0.3726\n    100        0.6983  0.3205\n",
     "output_type": "stream",
     "data": {}
    },
    {
     "output_type": "execute_result",
     "execution_count": 421,
     "data": {
      "text/plain": "<class 'skorch.classifier.NeuralNetBinaryClassifier'>[initialized](\n  module_=BinaryClassification(\n    (layer_in): Linear(in_features=6, out_features=100, bias=True)\n    (relu): ReLU(inplace=True)\n    (layer_out): Linear(in_features=100, out_features=1, bias=True)\n    (sigmoid): Sigmoid()\n  ),\n)"
     },
     "metadata": {}
    }
   ],
   "execution_count": null
  },
  {
   "cell_type": "markdown",
   "source": "## Testing model\nIn this section, we plot the results.",
   "metadata": {
    "tags": [],
    "cell_id": "00026-7f453bef-ded0-4732-810b-20d3c0a65f61",
    "deepnote_cell_type": "markdown"
   }
  },
  {
   "cell_type": "code",
   "metadata": {
    "tags": [],
    "cell_id": "00018-3bd216de-8a5e-4c54-9718-bda7e490fc7f",
    "deepnote_to_be_reexecuted": false,
    "source_hash": "9fc64a60",
    "execution_start": 1641942613389,
    "execution_millis": 12,
    "deepnote_cell_type": "code"
   },
   "source": "#prepare dataloader for training\ny_tensor = y_tensor.unsqueeze(1)\ntrain_ds = TensorDataset(x_tensor, y_tensor)\ntrain_loader = DataLoader(train_ds, batch_size=BATCH_SIZE, shuffle=True)\n\n#prepare dataloader for evaluating \nytest_tensor = ytest_tensor.unsqueeze(1)\ntest_ds = TensorDataset(xtest_tensor, ytest_tensor)\nval_loader = DataLoader(test_ds, batch_size=BATCH_SIZE, shuffle=True)\ntest_loader = DataLoader(test_ds, batch_size=1, shuffle=False)",
   "outputs": [],
   "execution_count": null
  },
  {
   "cell_type": "code",
   "metadata": {
    "tags": [],
    "cell_id": "00015-7f654a12-910e-44d1-8bbe-60efa1d0e164",
    "deepnote_to_be_reexecuted": false,
    "source_hash": "d7457d40",
    "execution_start": 1641942613405,
    "execution_millis": 72,
    "deepnote_output_heights": [
     174.796875
    ],
    "deepnote_cell_type": "code"
   },
   "source": "#define the model\nmodel = BinaryClassification(X_train_M1.shape[1], UNITS)\nmodel.to(device)\nprint(model)",
   "outputs": [
    {
     "name": "stdout",
     "text": "BinaryClassification(\n  (layer_in): Linear(in_features=6, out_features=100, bias=True)\n  (relu): ReLU(inplace=True)\n  (layer_out): Linear(in_features=100, out_features=1, bias=True)\n  (sigmoid): Sigmoid()\n)\n",
     "output_type": "stream",
     "data": {}
    }
   ],
   "execution_count": null
  },
  {
   "cell_type": "code",
   "metadata": {
    "tags": [],
    "cell_id": "00016-d76470aa-dc34-4fbc-b8f5-59d37b22c425",
    "deepnote_to_be_reexecuted": false,
    "source_hash": "3d7f207c",
    "execution_start": 1641942613478,
    "execution_millis": 6,
    "deepnote_cell_type": "code"
   },
   "source": "#define the loss function \nloss_function = nn.BCELoss(reduction='mean')\n#define the optimizer\noptimizer = torch.optim.SGD(model.parameters(), lr=LEARNING_RATE, momentum=MOMENTUM, weight_decay=L2, nesterov=NESTEROV)\n#optimizer = torch.optim.Adam(model.parameters(), lr=0.1)",
   "outputs": [],
   "execution_count": null
  },
  {
   "cell_type": "markdown",
   "source": "After that defined the model, we start the training and evaluating process with prefixed number of epochs. Each epoch, we save the results on lists for plotting the train and evaluate trends.  ",
   "metadata": {
    "tags": [],
    "cell_id": "00021-69ccbd5a-7a6d-4a58-8715-f614d751494a",
    "deepnote_cell_type": "markdown"
   }
  },
  {
   "cell_type": "code",
   "metadata": {
    "tags": [],
    "cell_id": "00020-f789de47-d003-4b91-87b4-6645244bd68b",
    "deepnote_to_be_reexecuted": false,
    "source_hash": "9f78f60a",
    "execution_start": 1641942613488,
    "execution_millis": 1217,
    "deepnote_output_heights": [
     null,
     328.390625
    ],
    "is_code_hidden": false,
    "deepnote_cell_type": "code"
   },
   "source": "#prepare empty lists to store accuracy and loss results\nlosses_train = []\naccuracies_train = []\nlosses_test = []\naccuracies_test = []\n\n#train and evaluate for each epoch\nfor epoch in range(1,EPOCHS+1): \n\n  model, losses_train, accuracies_train = TrainPhase(epoch, model, losses_train, accuracies_train, train_loader, loss_function, optimizer)\n  #y_pred_test, losses_test, accuracies_test = Evaluate(epoch, model, losses_test, accuracies_test, test_loader, loss_function)\n  y_pred_test, losses_test, accuracies_test = Evaluate(epoch, model, losses_test, accuracies_test, val_loader, loss_function)\n  \n  print(\"##############################\")\n",
   "outputs": [
    {
     "name": "stdout",
     "text": "TRAIN - Epoch 001: | Loss: 0.71939 | Acc: 45.500\nVALIDATION - Epoch 001: | Loss: 0.70550 | Acc: 52.857\n##############################\nTRAIN - Epoch 002: | Loss: 0.73501 | Acc: 51.500\nVALIDATION - Epoch 002: | Loss: 0.94832 | Acc: 50.000\n##############################\nTRAIN - Epoch 003: | Loss: 0.86222 | Acc: 50.000\nVALIDATION - Epoch 003: | Loss: 0.63447 | Acc: 63.571\n##############################\nTRAIN - Epoch 004: | Loss: 0.55197 | Acc: 71.000\nVALIDATION - Epoch 004: | Loss: 0.62853 | Acc: 63.286\n##############################\nTRAIN - Epoch 005: | Loss: 0.53639 | Acc: 71.000\nVALIDATION - Epoch 005: | Loss: 0.61116 | Acc: 70.000\n##############################\nTRAIN - Epoch 006: | Loss: 0.53078 | Acc: 75.000\nVALIDATION - Epoch 006: | Loss: 0.60320 | Acc: 70.143\n##############################\nTRAIN - Epoch 007: | Loss: 0.53504 | Acc: 73.000\nVALIDATION - Epoch 007: | Loss: 0.59995 | Acc: 70.571\n##############################\nTRAIN - Epoch 008: | Loss: 0.54450 | Acc: 73.500\nVALIDATION - Epoch 008: | Loss: 0.60551 | Acc: 70.429\n##############################\nTRAIN - Epoch 009: | Loss: 0.56721 | Acc: 73.500\nVALIDATION - Epoch 009: | Loss: 0.62177 | Acc: 63.857\n##############################\nTRAIN - Epoch 010: | Loss: 0.56902 | Acc: 71.000\nVALIDATION - Epoch 010: | Loss: 0.62165 | Acc: 66.000\n##############################\nTRAIN - Epoch 011: | Loss: 0.57085 | Acc: 70.500\nVALIDATION - Epoch 011: | Loss: 0.61992 | Acc: 66.286\n##############################\nTRAIN - Epoch 012: | Loss: 0.57370 | Acc: 74.000\nVALIDATION - Epoch 012: | Loss: 0.62143 | Acc: 65.286\n##############################\nTRAIN - Epoch 013: | Loss: 0.57923 | Acc: 71.000\nVALIDATION - Epoch 013: | Loss: 0.62049 | Acc: 70.714\n##############################\nTRAIN - Epoch 014: | Loss: 0.57825 | Acc: 73.500\nVALIDATION - Epoch 014: | Loss: 0.61936 | Acc: 69.571\n##############################\nTRAIN - Epoch 015: | Loss: 0.57412 | Acc: 70.000\nVALIDATION - Epoch 015: | Loss: 0.61727 | Acc: 67.286\n##############################\nTRAIN - Epoch 016: | Loss: 0.57328 | Acc: 68.500\nVALIDATION - Epoch 016: | Loss: 0.61678 | Acc: 69.714\n##############################\nTRAIN - Epoch 017: | Loss: 0.57077 | Acc: 71.000\nVALIDATION - Epoch 017: | Loss: 0.61600 | Acc: 68.286\n##############################\nTRAIN - Epoch 018: | Loss: 0.56953 | Acc: 72.500\nVALIDATION - Epoch 018: | Loss: 0.61432 | Acc: 69.000\n##############################\nTRAIN - Epoch 019: | Loss: 0.56895 | Acc: 72.500\nVALIDATION - Epoch 019: | Loss: 0.61866 | Acc: 64.857\n##############################\nTRAIN - Epoch 020: | Loss: 0.57464 | Acc: 72.500\nVALIDATION - Epoch 020: | Loss: 0.62310 | Acc: 64.000\n##############################\nTRAIN - Epoch 021: | Loss: 0.56750 | Acc: 71.000\nVALIDATION - Epoch 021: | Loss: 0.61652 | Acc: 65.286\n##############################\nTRAIN - Epoch 022: | Loss: 0.61254 | Acc: 61.000\nVALIDATION - Epoch 022: | Loss: 0.61228 | Acc: 70.143\n##############################\nTRAIN - Epoch 023: | Loss: 0.58351 | Acc: 70.000\nVALIDATION - Epoch 023: | Loss: 0.61490 | Acc: 70.571\n##############################\nTRAIN - Epoch 024: | Loss: 0.57038 | Acc: 75.000\nVALIDATION - Epoch 024: | Loss: 0.61935 | Acc: 65.143\n##############################\nTRAIN - Epoch 025: | Loss: 0.57047 | Acc: 71.000\nVALIDATION - Epoch 025: | Loss: 0.62146 | Acc: 64.429\n##############################\nTRAIN - Epoch 026: | Loss: 0.57264 | Acc: 67.500\nVALIDATION - Epoch 026: | Loss: 0.61648 | Acc: 68.429\n##############################\nTRAIN - Epoch 027: | Loss: 0.57091 | Acc: 73.000\nVALIDATION - Epoch 027: | Loss: 0.61645 | Acc: 67.571\n##############################\nTRAIN - Epoch 028: | Loss: 0.56910 | Acc: 71.000\nVALIDATION - Epoch 028: | Loss: 0.61976 | Acc: 66.571\n##############################\nTRAIN - Epoch 029: | Loss: 0.57301 | Acc: 69.500\nVALIDATION - Epoch 029: | Loss: 0.61717 | Acc: 69.571\n##############################\nTRAIN - Epoch 030: | Loss: 0.58277 | Acc: 69.500\nVALIDATION - Epoch 030: | Loss: 0.61523 | Acc: 70.857\n##############################\nTRAIN - Epoch 031: | Loss: 0.57242 | Acc: 74.000\nVALIDATION - Epoch 031: | Loss: 0.61581 | Acc: 70.286\n##############################\nTRAIN - Epoch 032: | Loss: 0.57410 | Acc: 70.000\nVALIDATION - Epoch 032: | Loss: 0.61630 | Acc: 68.000\n##############################\nTRAIN - Epoch 033: | Loss: 0.57096 | Acc: 71.000\nVALIDATION - Epoch 033: | Loss: 0.61507 | Acc: 69.429\n##############################\nTRAIN - Epoch 034: | Loss: 0.56837 | Acc: 73.500\nVALIDATION - Epoch 034: | Loss: 0.61806 | Acc: 67.000\n##############################\nTRAIN - Epoch 035: | Loss: 0.56760 | Acc: 71.000\nVALIDATION - Epoch 035: | Loss: 0.61765 | Acc: 67.143\n##############################\nTRAIN - Epoch 036: | Loss: 0.56788 | Acc: 70.000\nVALIDATION - Epoch 036: | Loss: 0.61927 | Acc: 66.286\n##############################\nTRAIN - Epoch 037: | Loss: 0.56707 | Acc: 69.500\nVALIDATION - Epoch 037: | Loss: 0.61782 | Acc: 67.429\n##############################\nTRAIN - Epoch 038: | Loss: 0.56707 | Acc: 71.000\nVALIDATION - Epoch 038: | Loss: 0.61907 | Acc: 65.571\n##############################\nTRAIN - Epoch 039: | Loss: 0.58072 | Acc: 71.000\nVALIDATION - Epoch 039: | Loss: 0.61760 | Acc: 64.714\n##############################\nTRAIN - Epoch 040: | Loss: 0.57647 | Acc: 69.500\nVALIDATION - Epoch 040: | Loss: 0.61792 | Acc: 67.571\n##############################\n",
     "output_type": "stream",
     "data": {}
    }
   ],
   "execution_count": null
  },
  {
   "cell_type": "code",
   "metadata": {
    "tags": [],
    "cell_id": "00029-c65b4294-5f74-491b-88f9-84f59ab8f3b7",
    "deepnote_to_be_reexecuted": false,
    "source_hash": "8b7dd875",
    "execution_start": 1641942614705,
    "execution_millis": 945,
    "deepnote_output_heights": [
     498
    ],
    "deepnote_cell_type": "code"
   },
   "source": "#create a loss plot\nplt.plot(losses_train,'-')\nplt.plot(losses_test,'-.')\nplt.xlabel('Epochs')\nplt.ylabel('Loss')\nplt.legend(['Train','Test'])\nplt.title('Train vs Test Losses')\n \nplt.show()",
   "outputs": [
    {
     "data": {
      "text/plain": "<Figure size 720x576 with 1 Axes>",
      "image/png": "[encoded data removed]"
     },
     "metadata": {
      "needs_background": "light",
      "image/png": {
       "width": 609,
       "height": 496
      }
     },
     "output_type": "display_data"
    }
   ],
   "execution_count": null
  },
  {
   "cell_type": "code",
   "metadata": {
    "tags": [],
    "cell_id": "00030-d8f3b9bf-df8b-4954-b5f9-3823df788a47",
    "deepnote_to_be_reexecuted": false,
    "source_hash": "4f7d8f58",
    "execution_start": 1641942615478,
    "execution_millis": 788,
    "deepnote_output_heights": [
     498
    ],
    "deepnote_cell_type": "code"
   },
   "source": "#create an accuracy plot\nplt.plot(accuracies_train,'-')\nplt.plot(accuracies_test,'-.')\nplt.xlabel('Epochs')\nplt.ylabel('Accuracy')\nplt.legend(['Train','Test'])\nplt.title('Train vs Test Accuracy')\n \nplt.show()",
   "outputs": [
    {
     "data": {
      "text/plain": "<Figure size 720x576 with 1 Axes>",
      "image/png": "[encoded data removed]"
     },
     "metadata": {
      "needs_background": "light",
      "image/png": {
       "width": 615,
       "height": 496
      }
     },
     "output_type": "display_data"
    }
   ],
   "execution_count": null
  },
  {
   "cell_type": "code",
   "metadata": {
    "tags": [],
    "cell_id": "00028-8fc78ac4-4813-4007-9a60-e6d559b92058",
    "deepnote_to_be_reexecuted": false,
    "source_hash": "ce44ad07",
    "execution_start": 1641942616276,
    "execution_millis": 304,
    "deepnote_output_heights": [
     null,
     174.796875
    ],
    "deepnote_cell_type": "code"
   },
   "source": "y_pred_test, losses_test, accuracies_test = Evaluate_Test(model, losses_test, accuracies_test, test_loader, loss_function)\n\n#control the accuracy between true and predict values on test data\nprint(classification_report(y_test_M1, y_pred_test))",
   "outputs": [
    {
     "name": "stdout",
     "text": "TEST - Loss: 0.82578 | Acc: 0.000\n              precision    recall  f1-score   support\n\n           0       0.67      0.72      0.69       216\n           1       0.70      0.64      0.67       216\n\n    accuracy                           0.68       432\n   macro avg       0.68      0.68      0.68       432\nweighted avg       0.68      0.68      0.68       432\n\n",
     "output_type": "stream",
     "data": {}
    }
   ],
   "execution_count": null
  },
  {
   "cell_type": "markdown",
   "source": "### One hot encoding in MONK-1\nIn the MONK dataset we have the categories encoded using label encoding (e.g. 0,1,2,..), we need to use one hot encoding in order to have better results (e.g. 001, 010, ..). ",
   "metadata": {
    "tags": [],
    "cell_id": "00023-86bd7eca-2ace-4dd4-9ebc-80fab39edd07",
    "deepnote_cell_type": "markdown"
   }
  },
  {
   "cell_type": "code",
   "metadata": {
    "tags": [],
    "cell_id": "00023-77fc8d80-79ba-4be6-a235-c8d13efe1f06",
    "deepnote_to_be_reexecuted": false,
    "source_hash": "9da5056c",
    "execution_start": 1641942616589,
    "execution_millis": 12,
    "deepnote_cell_type": "code"
   },
   "source": "enc_train = OneHotEncoder()\nenc_train.fit(X_train_M1)\nX_train_M1 = enc_train.transform(X_train_M1).toarray()\nprint(X_train_M1.shape)\n\nenc_test = OneHotEncoder()\nenc_test.fit(X_test_M1)\nX_test_M1 = enc_test.transform(X_test_M1).toarray()\nprint(X_test_M1.shape)\n\nx_tensor =  torch.from_numpy(X_train_M1).float()\ny_tensor =  torch.from_numpy(y_train_M1).float()\n#xval_tensor =  torch.from_numpy(X_validation).float()\n#yval_tensor =  torch.from_numpy(y_validation.values.ravel()).float()\nxtest_tensor =  torch.from_numpy(X_test_M1).float()\nytest_tensor =  torch.from_numpy(y_test_M1).float()",
   "outputs": [
    {
     "name": "stdout",
     "text": "(124, 17)\n(432, 17)\n",
     "output_type": "stream",
     "data": {}
    }
   ],
   "execution_count": null
  },
  {
   "cell_type": "code",
   "source": "net = NeuralNetBinaryClassifier(\n    BinaryClassification,\n    max_epochs=10,\n    #batch_size = 1,\n    # Shuffle training data on each epoch\n    iterator_train__shuffle=True,\n    train_split=None\n)\n\n# deactivate skorch-internal train-valid split and verbose logging\nnet.set_params(train_split=False, verbose=0)\n\nparams = {\n    'lr': [0.0001, 0.001, 0.01, 0.1],\n    'max_epochs': [10, 20, 30, 40, 50, 60, 70,  80, 90, 100],\n    'optimizer': [torch.optim.SGD],\n    'optimizer__momentum': [0.8, 0.9, 0.95, 0.85],\n    'optimizer__weight_decay': [0.0001, 0.001, 0.01, 0.1],\n    'optimizer__nesterov': [False, True],\n    'module__hidden_units': [2, 3, 4, 5, 10, 20, 30, 40, 50, 60, 70, 80, 90, 100],\n    'batch_size': [32, 64, 124, 128],\n}\ngs = RandomizedSearchCV(net, params, n_jobs=-1, refit=True, cv=None, n_iter=50, scoring='accuracy', verbose=2)\n\ngs.fit(X_trainFit, y_trainFit)\nprint(\"best score: {:.3f}, best params: {}\".format(gs.best_score_, gs.best_params_))\n\ngrid_predictions = gs.predict(X_testFit) \n# print classification report \nprint(classification_report(y_testFit, grid_predictions)) ",
   "metadata": {
    "tags": [],
    "cell_id": "00042-244917b6-db4d-4a34-98ee-0ce68bff6ef0",
    "deepnote_to_be_reexecuted": false,
    "source_hash": "46b7ef55",
    "execution_start": 1641942616613,
    "execution_millis": 103221,
    "deepnote_cell_type": "code"
   },
   "outputs": [
    {
     "name": "stdout",
     "text": "Fitting 5 folds for each of 50 candidates, totalling 250 fits\nbest score: 0.524, best params: {'optimizer__weight_decay': 0.001, 'optimizer__nesterov': False, 'optimizer__momentum': 0.95, 'optimizer': <class 'torch.optim.sgd.SGD'>, 'module__hidden_units': 100, 'max_epochs': 100, 'lr': 0.1, 'batch_size': 32}\n              precision    recall  f1-score   support\n\n         0.0       0.00      0.00      0.00       216\n         1.0       0.50      1.00      0.67       216\n\n    accuracy                           0.50       432\n   macro avg       0.25      0.50      0.33       432\nweighted avg       0.25      0.50      0.33       432\n\n",
     "output_type": "stream",
     "data": {}
    }
   ],
   "execution_count": null
  },
  {
   "cell_type": "code",
   "source": "best_model = gs.best_estimator_\nbest_model.fit(X_trainFit, y_trainFit)\n#y_pred = best_model.predict(X_trainFit)\nbest_model.score(X_testFit, y_testFit)",
   "metadata": {
    "tags": [],
    "cell_id": "00043-77d6a0b7-5dde-46fd-83fe-eee0d79e5ecb",
    "deepnote_to_be_reexecuted": false,
    "source_hash": "7886a2c3",
    "execution_start": 1641942719834,
    "execution_millis": 1867,
    "deepnote_output_heights": [
     21.1875
    ],
    "deepnote_cell_type": "code"
   },
   "outputs": [
    {
     "output_type": "execute_result",
     "execution_count": 431,
     "data": {
      "text/plain": "0.49074074074074076"
     },
     "metadata": {}
    }
   ],
   "execution_count": null
  },
  {
   "cell_type": "code",
   "source": "BATCH_SIZE = best_model.batch_size\nLEARNING_RATE = best_model.lr\nMOMENTUM = best_model.optimizer__momentum\nNESTEROV = best_model.optimizer__nesterov\nL2 = best_model.optimizer__weight_decay\nEPOCHS = best_model.max_epochs\nUNITS = best_model.module__hidden_units\nOPTIMIZER = best_model.optimizer",
   "metadata": {
    "tags": [],
    "cell_id": "00041-e88f5622-6724-4933-83cb-61da0cfef61f",
    "deepnote_to_be_reexecuted": false,
    "source_hash": "5add8410",
    "execution_start": 1641942721705,
    "execution_millis": 4,
    "deepnote_cell_type": "code"
   },
   "outputs": [],
   "execution_count": null
  },
  {
   "cell_type": "code",
   "source": "net = NeuralNetBinaryClassifier(\n    BinaryClassification,\n    module__hidden_units=UNITS,\n    max_epochs=EPOCHS,\n    batch_size = BATCH_SIZE,\n    lr = LEARNING_RATE,\n    optimizer=OPTIMIZER,\n    optimizer__momentum=MOMENTUM,\n    optimizer__nesterov=NESTEROV,\n    optimizer__weight_decay=L2,\n    # Shuffle training data on each epoch\n    iterator_train__shuffle=True,\n    train_split=None\n)\n\nnet.fit(X_trainFit, y_trainFit, verbose=0)",
   "metadata": {
    "tags": [],
    "cell_id": "00042-2d1b25d8-6baa-48ec-a57a-dfbf1afff024",
    "deepnote_to_be_reexecuted": false,
    "source_hash": "6410eeef",
    "execution_start": 1641942721785,
    "execution_millis": 2302,
    "deepnote_output_heights": [
     null,
     155.546875
    ],
    "deepnote_cell_type": "code"
   },
   "outputs": [
    {
     "name": "stdout",
     "text": "  epoch    train_loss     dur\n-------  ------------  ------\n      1        \u001b[36m0.7009\u001b[0m  0.0106\n      2        \u001b[36m0.6846\u001b[0m  0.0082\n      3        \u001b[36m0.6820\u001b[0m  0.0073\n      4        \u001b[36m0.6742\u001b[0m  0.0620\n      5        \u001b[36m0.6426\u001b[0m  0.0082\n      6        0.6498  0.0074\n      7        \u001b[36m0.6398\u001b[0m  0.0081\n      8        \u001b[36m0.6345\u001b[0m  0.0074\n      9        \u001b[36m0.6312\u001b[0m  0.0081\n     10        \u001b[36m0.6133\u001b[0m  0.0073\n     11        0.6172  0.0075\n     12        \u001b[36m0.6110\u001b[0m  0.0081\n     13        \u001b[36m0.6076\u001b[0m  0.0648\n     14        0.6094  0.0079\n     15        \u001b[36m0.6045\u001b[0m  0.0077\n     16        \u001b[36m0.6039\u001b[0m  0.0070\n     17        0.6049  0.0080\n     18        \u001b[36m0.6018\u001b[0m  0.0082\n     19        0.6018  0.0084\n     20        0.6019  0.0081\n     21        \u001b[36m0.6005\u001b[0m  0.0081\n     22        \u001b[36m0.6004\u001b[0m  0.0651\n     23        \u001b[36m0.6002\u001b[0m  0.0082\n     24        \u001b[36m0.5999\u001b[0m  0.0089\n     25        \u001b[36m0.5993\u001b[0m  0.0082\n     26        0.5998  0.0649\n     27        \u001b[36m0.5991\u001b[0m  0.0078\n     28        \u001b[36m0.5983\u001b[0m  0.0111\n     29        0.5992  0.0087\n     30        0.5999  0.0638\n     31        0.5988  0.0076\n     32        0.5986  0.0079\n     33        0.5986  0.0079\n     34        0.5989  0.0080\n     35        \u001b[36m0.5979\u001b[0m  0.0082\n     36        0.5986  0.0081\n     37        0.5984  0.0074\n     38        \u001b[36m0.5967\u001b[0m  0.0064\n     39        0.5971  0.0087\n     40        0.5975  0.0075\n     41        \u001b[36m0.5965\u001b[0m  0.0076\n     42        0.5968  0.0079\n     43        0.5970  0.0648\n     44        \u001b[36m0.5964\u001b[0m  0.0106\n     45        0.5965  0.0079\n     46        0.5966  0.0074\n     47        \u001b[36m0.5962\u001b[0m  0.0072\n     48        \u001b[36m0.5960\u001b[0m  0.0540\n     49        \u001b[36m0.5960\u001b[0m  0.0078\n     50        \u001b[36m0.5959\u001b[0m  0.0079\n     51        0.5959  0.0076\n     52        \u001b[36m0.5957\u001b[0m  0.0082\n     53        0.5957  0.0666\n     54        0.5957  0.0109\n     55        \u001b[36m0.5954\u001b[0m  0.0076\n     56        0.5955  0.0102\n     57        0.5958  0.0514\n     58        0.5955  0.0080\n     59        \u001b[36m0.5951\u001b[0m  0.0081\n     60        0.5957  0.0077\n     61        0.5952  0.0075\n     62        0.5956  0.0605\n     63        0.5954  0.0083\n     64        0.5952  0.0102\n     65        \u001b[36m0.5947\u001b[0m  0.0098\n     66        \u001b[36m0.5945\u001b[0m  0.0617\n     67        \u001b[36m0.5943\u001b[0m  0.0105\n     68        0.5944  0.0097\n     69        \u001b[36m0.5942\u001b[0m  0.0083\n     70        \u001b[36m0.5941\u001b[0m  0.0099\n     71        0.5945  0.0081\n     72        \u001b[36m0.5937\u001b[0m  0.0077\n     73        \u001b[36m0.5934\u001b[0m  0.0081\n     74        0.5934  0.0108\n     75        \u001b[36m0.5931\u001b[0m  0.0077\n     76        \u001b[36m0.5930\u001b[0m  0.0079\n     77        \u001b[36m0.5927\u001b[0m  0.0078\n     78        \u001b[36m0.5925\u001b[0m  0.0073\n     79        \u001b[36m0.5925\u001b[0m  0.0646\n     80        0.5929  0.0072\n     81        \u001b[36m0.5920\u001b[0m  0.0069\n     82        \u001b[36m0.5914\u001b[0m  0.0078\n     83        0.5917  0.0077\n     84        0.5914  0.0079\n     85        \u001b[36m0.5910\u001b[0m  0.0073\n     86        \u001b[36m0.5910\u001b[0m  0.0072\n     87        \u001b[36m0.5908\u001b[0m  0.0075\n     88        \u001b[36m0.5903\u001b[0m  0.0649\n     89        0.5910  0.0081\n     90        \u001b[36m0.5903\u001b[0m  0.0076\n     91        0.5907  0.0080\n     92        0.5908  0.0077\n     93        0.5908  0.0617\n     94        0.5913  0.0077\n     95        \u001b[36m0.5890\u001b[0m  0.0102\n     96        0.5900  0.0110\n     97        0.5892  0.0619\n     98        \u001b[36m0.5886\u001b[0m  0.0081\n     99        \u001b[36m0.5882\u001b[0m  0.0073\n    100        \u001b[36m0.5881\u001b[0m  0.0080\n",
     "output_type": "stream",
     "data": {}
    },
    {
     "output_type": "execute_result",
     "execution_count": 433,
     "data": {
      "text/plain": "<class 'skorch.classifier.NeuralNetBinaryClassifier'>[initialized](\n  module_=BinaryClassification(\n    (layer_in): Linear(in_features=6, out_features=100, bias=True)\n    (relu): ReLU(inplace=True)\n    (layer_out): Linear(in_features=100, out_features=1, bias=True)\n    (sigmoid): Sigmoid()\n  ),\n)"
     },
     "metadata": {}
    }
   ],
   "execution_count": null
  },
  {
   "cell_type": "markdown",
   "source": "net = NeuralNetBinaryClassifier(\n    BinaryClassification,\n    module__hidden_units=5,\n    max_epochs=500,\n    batch_size = 1,\n    lr = 0.0001,\n    optimizer=torch.optim.Adam,\n    #optimizer__momentum=0.95,\n    #optimizer__nesterov=True,\n    #optimizer__weight_decay=0.01,\n    # Shuffle training data on each epoch\n    iterator_train__shuffle=True,\n    train_split=None\n)\n\nnet.fit(X_trainFit, y_trainFit, verbose=0)",
   "metadata": {
    "tags": [],
    "cell_id": "00044-ecc55bcb-95c9-41ff-ae9f-e2caf436e3c1",
    "deepnote_to_be_reexecuted": false,
    "source_hash": "b9188d5b",
    "execution_start": 1641942724121,
    "execution_millis": 156693,
    "deepnote_output_heights": [
     null,
     155.546875
    ],
    "deepnote_cell_type": "markdown"
   },
   "outputs": [],
   "execution_count": 434
  },
  {
   "cell_type": "code",
   "source": "#prepare dataloader for training\ny_tensor = y_tensor.unsqueeze(1)\ntrain_ds = TensorDataset(x_tensor, y_tensor)\ntrain_loader = DataLoader(train_ds, batch_size=BATCH_SIZE, shuffle=True)\n\n#prepare dataloader for evaluating \nytest_tensor = ytest_tensor.unsqueeze(1)\ntest_ds = TensorDataset(xtest_tensor, ytest_tensor)\nval_loader = DataLoader(test_ds, batch_size=BATCH_SIZE, shuffle=True)\ntest_loader = DataLoader(test_ds, batch_size=1, shuffle=False)",
   "metadata": {
    "tags": [],
    "cell_id": "00044-9db80ec9-3849-414c-897c-c0520a1f344b",
    "deepnote_to_be_reexecuted": false,
    "source_hash": "9fc64a60",
    "execution_start": 1641942880870,
    "execution_millis": 3,
    "deepnote_cell_type": "code"
   },
   "outputs": [],
   "execution_count": null
  },
  {
   "cell_type": "code",
   "source": "#define the model\nmodel = BinaryClassification(X_train_M1.shape[1], UNITS)\nmodel.to(device)\n\n#define the loss function \nloss_function = nn.BCELoss(reduction='mean')\n#define the optimizer\noptimizer = torch.optim.SGD(model.parameters(), lr=LEARNING_RATE, momentum=MOMENTUM, weight_decay=L2, nesterov=NESTEROV)\n#optimizer = torch.optim.Adam(model.parameters(), lr=0.1)\n\n#prepare empty lists to store accuracy and loss results\nlosses_train = []\naccuracies_train = []\nlosses_test = []\naccuracies_test = []\n\n#train and evaluate for each epoch\nfor epoch in range(1,EPOCHS+1): \n\n  model, losses_train, accuracies_train = TrainPhase(epoch, model, losses_train, accuracies_train, train_loader, loss_function, optimizer)\n  #y_pred_test, losses_test, accuracies_test = Evaluate(epoch, model, losses_test, accuracies_test, test_loader, loss_function)\n  y_pred_test, losses_test, accuracies_test = Evaluate(epoch, model, losses_test, accuracies_test, val_loader, loss_function)\n  \n  print(\"##############################\")",
   "metadata": {
    "tags": [],
    "cell_id": "00044-2c80c405-8c13-43ad-9e6f-bca7312b6b33",
    "deepnote_to_be_reexecuted": false,
    "source_hash": "a1a1ac08",
    "execution_start": 1641942880877,
    "execution_millis": 2525,
    "deepnote_cell_type": "code"
   },
   "outputs": [
    {
     "name": "stdout",
     "text": "TRAIN - Epoch 001: | Loss: 0.68790 | Acc: 54.250\nVALIDATION - Epoch 001: | Loss: 0.67771 | Acc: 65.714\n##############################\nTRAIN - Epoch 002: | Loss: 0.64833 | Acc: 72.250\nVALIDATION - Epoch 002: | Loss: 0.64465 | Acc: 71.071\n##############################\nTRAIN - Epoch 003: | Loss: 0.57997 | Acc: 80.750\nVALIDATION - Epoch 003: | Loss: 0.60972 | Acc: 69.000\n##############################\nTRAIN - Epoch 004: | Loss: 0.51182 | Acc: 78.250\nVALIDATION - Epoch 004: | Loss: 0.58989 | Acc: 71.214\n##############################\nTRAIN - Epoch 005: | Loss: 0.46553 | Acc: 79.750\nVALIDATION - Epoch 005: | Loss: 0.58183 | Acc: 70.286\n##############################\nTRAIN - Epoch 006: | Loss: 0.42024 | Acc: 82.500\nVALIDATION - Epoch 006: | Loss: 0.58186 | Acc: 74.500\n##############################\nTRAIN - Epoch 007: | Loss: 0.40506 | Acc: 84.750\nVALIDATION - Epoch 007: | Loss: 0.58882 | Acc: 71.286\n##############################\nTRAIN - Epoch 008: | Loss: 0.38727 | Acc: 81.500\nVALIDATION - Epoch 008: | Loss: 0.52259 | Acc: 73.429\n##############################\nTRAIN - Epoch 009: | Loss: 0.33892 | Acc: 86.500\nVALIDATION - Epoch 009: | Loss: 0.43562 | Acc: 77.929\n##############################\nTRAIN - Epoch 010: | Loss: 0.31523 | Acc: 89.750\nVALIDATION - Epoch 010: | Loss: 0.43558 | Acc: 77.643\n##############################\nTRAIN - Epoch 011: | Loss: 0.25171 | Acc: 92.000\nVALIDATION - Epoch 011: | Loss: 0.37972 | Acc: 80.071\n##############################\nTRAIN - Epoch 012: | Loss: 0.21916 | Acc: 91.250\nVALIDATION - Epoch 012: | Loss: 0.37086 | Acc: 79.929\n##############################\nTRAIN - Epoch 013: | Loss: 0.20795 | Acc: 93.000\nVALIDATION - Epoch 013: | Loss: 0.29268 | Acc: 86.214\n##############################\nTRAIN - Epoch 014: | Loss: 0.17080 | Acc: 95.000\nVALIDATION - Epoch 014: | Loss: 0.24743 | Acc: 88.357\n##############################\nTRAIN - Epoch 015: | Loss: 0.10411 | Acc: 99.250\nVALIDATION - Epoch 015: | Loss: 0.23810 | Acc: 89.857\n##############################\nTRAIN - Epoch 016: | Loss: 0.08608 | Acc: 99.000\nVALIDATION - Epoch 016: | Loss: 0.14000 | Acc: 95.429\n##############################\nTRAIN - Epoch 017: | Loss: 0.04302 | Acc: 100.000\nVALIDATION - Epoch 017: | Loss: 0.11153 | Acc: 97.214\n##############################\nTRAIN - Epoch 018: | Loss: 0.03987 | Acc: 100.000\nVALIDATION - Epoch 018: | Loss: 0.06688 | Acc: 98.929\n##############################\nTRAIN - Epoch 019: | Loss: 0.01576 | Acc: 100.000\nVALIDATION - Epoch 019: | Loss: 0.06232 | Acc: 98.714\n##############################\nTRAIN - Epoch 020: | Loss: 0.01497 | Acc: 100.000\nVALIDATION - Epoch 020: | Loss: 0.07359 | Acc: 97.643\n##############################\nTRAIN - Epoch 021: | Loss: 0.01468 | Acc: 100.000\nVALIDATION - Epoch 021: | Loss: 0.05307 | Acc: 98.500\n##############################\nTRAIN - Epoch 022: | Loss: 0.00840 | Acc: 100.000\nVALIDATION - Epoch 022: | Loss: 0.03120 | Acc: 99.786\n##############################\nTRAIN - Epoch 023: | Loss: 0.00616 | Acc: 100.000\nVALIDATION - Epoch 023: | Loss: 0.02486 | Acc: 100.000\n##############################\nTRAIN - Epoch 024: | Loss: 0.00632 | Acc: 100.000\nVALIDATION - Epoch 024: | Loss: 0.02181 | Acc: 100.000\n##############################\nTRAIN - Epoch 025: | Loss: 0.00579 | Acc: 100.000\nVALIDATION - Epoch 025: | Loss: 0.01818 | Acc: 100.000\n##############################\nTRAIN - Epoch 026: | Loss: 0.00431 | Acc: 100.000\nVALIDATION - Epoch 026: | Loss: 0.01462 | Acc: 100.000\n##############################\nTRAIN - Epoch 027: | Loss: 0.00328 | Acc: 100.000\nVALIDATION - Epoch 027: | Loss: 0.01456 | Acc: 100.000\n##############################\nTRAIN - Epoch 028: | Loss: 0.00306 | Acc: 100.000\nVALIDATION - Epoch 028: | Loss: 0.01557 | Acc: 100.000\n##############################\nTRAIN - Epoch 029: | Loss: 0.00323 | Acc: 100.000\nVALIDATION - Epoch 029: | Loss: 0.01693 | Acc: 100.000\n##############################\nTRAIN - Epoch 030: | Loss: 0.00339 | Acc: 100.000\nVALIDATION - Epoch 030: | Loss: 0.01624 | Acc: 100.000\n##############################\nTRAIN - Epoch 031: | Loss: 0.00327 | Acc: 100.000\nVALIDATION - Epoch 031: | Loss: 0.01426 | Acc: 100.000\n##############################\nTRAIN - Epoch 032: | Loss: 0.00300 | Acc: 100.000\nVALIDATION - Epoch 032: | Loss: 0.01226 | Acc: 100.000\n##############################\nTRAIN - Epoch 033: | Loss: 0.00280 | Acc: 100.000\nVALIDATION - Epoch 033: | Loss: 0.01068 | Acc: 100.000\n##############################\nTRAIN - Epoch 034: | Loss: 0.00279 | Acc: 100.000\nVALIDATION - Epoch 034: | Loss: 0.01003 | Acc: 100.000\n##############################\nTRAIN - Epoch 035: | Loss: 0.00286 | Acc: 100.000\nVALIDATION - Epoch 035: | Loss: 0.00996 | Acc: 100.000\n##############################\nTRAIN - Epoch 036: | Loss: 0.00299 | Acc: 100.000\nVALIDATION - Epoch 036: | Loss: 0.00990 | Acc: 100.000\n##############################\nTRAIN - Epoch 037: | Loss: 0.00304 | Acc: 100.000\nVALIDATION - Epoch 037: | Loss: 0.01027 | Acc: 100.000\n##############################\nTRAIN - Epoch 038: | Loss: 0.00306 | Acc: 100.000\nVALIDATION - Epoch 038: | Loss: 0.01055 | Acc: 100.000\n##############################\nTRAIN - Epoch 039: | Loss: 0.00305 | Acc: 100.000\nVALIDATION - Epoch 039: | Loss: 0.01137 | Acc: 100.000\n##############################\nTRAIN - Epoch 040: | Loss: 0.00313 | Acc: 100.000\nVALIDATION - Epoch 040: | Loss: 0.01181 | Acc: 100.000\n##############################\nTRAIN - Epoch 041: | Loss: 0.00328 | Acc: 100.000\nVALIDATION - Epoch 041: | Loss: 0.01244 | Acc: 100.000\n##############################\nTRAIN - Epoch 042: | Loss: 0.00346 | Acc: 100.000\nVALIDATION - Epoch 042: | Loss: 0.01243 | Acc: 100.000\n##############################\nTRAIN - Epoch 043: | Loss: 0.00354 | Acc: 100.000\nVALIDATION - Epoch 043: | Loss: 0.01289 | Acc: 100.000\n##############################\nTRAIN - Epoch 044: | Loss: 0.00366 | Acc: 100.000\nVALIDATION - Epoch 044: | Loss: 0.01260 | Acc: 100.000\n##############################\nTRAIN - Epoch 045: | Loss: 0.00380 | Acc: 100.000\nVALIDATION - Epoch 045: | Loss: 0.01216 | Acc: 100.000\n##############################\nTRAIN - Epoch 046: | Loss: 0.00391 | Acc: 100.000\nVALIDATION - Epoch 046: | Loss: 0.01235 | Acc: 100.000\n##############################\nTRAIN - Epoch 047: | Loss: 0.00409 | Acc: 100.000\nVALIDATION - Epoch 047: | Loss: 0.01240 | Acc: 100.000\n##############################\nTRAIN - Epoch 048: | Loss: 0.00418 | Acc: 100.000\nVALIDATION - Epoch 048: | Loss: 0.01305 | Acc: 100.000\n##############################\nTRAIN - Epoch 049: | Loss: 0.00432 | Acc: 100.000\nVALIDATION - Epoch 049: | Loss: 0.01317 | Acc: 100.000\n##############################\nTRAIN - Epoch 050: | Loss: 0.00444 | Acc: 100.000\nVALIDATION - Epoch 050: | Loss: 0.01315 | Acc: 100.000\n##############################\nTRAIN - Epoch 051: | Loss: 0.00462 | Acc: 100.000\nVALIDATION - Epoch 051: | Loss: 0.01343 | Acc: 100.000\n##############################\nTRAIN - Epoch 052: | Loss: 0.00475 | Acc: 100.000\nVALIDATION - Epoch 052: | Loss: 0.01350 | Acc: 100.000\n##############################\nTRAIN - Epoch 053: | Loss: 0.00489 | Acc: 100.000\nVALIDATION - Epoch 053: | Loss: 0.01356 | Acc: 100.000\n##############################\nTRAIN - Epoch 054: | Loss: 0.00501 | Acc: 100.000\nVALIDATION - Epoch 054: | Loss: 0.01380 | Acc: 100.000\n##############################\nTRAIN - Epoch 055: | Loss: 0.00516 | Acc: 100.000\nVALIDATION - Epoch 055: | Loss: 0.01399 | Acc: 100.000\n##############################\nTRAIN - Epoch 056: | Loss: 0.00530 | Acc: 100.000\nVALIDATION - Epoch 056: | Loss: 0.01383 | Acc: 100.000\n##############################\nTRAIN - Epoch 057: | Loss: 0.00548 | Acc: 100.000\nVALIDATION - Epoch 057: | Loss: 0.01392 | Acc: 100.000\n##############################\nTRAIN - Epoch 058: | Loss: 0.00560 | Acc: 100.000\nVALIDATION - Epoch 058: | Loss: 0.01415 | Acc: 100.000\n##############################\nTRAIN - Epoch 059: | Loss: 0.00567 | Acc: 100.000\nVALIDATION - Epoch 059: | Loss: 0.01435 | Acc: 100.000\n##############################\nTRAIN - Epoch 060: | Loss: 0.00577 | Acc: 100.000\nVALIDATION - Epoch 060: | Loss: 0.01430 | Acc: 100.000\n##############################\nTRAIN - Epoch 061: | Loss: 0.00592 | Acc: 100.000\nVALIDATION - Epoch 061: | Loss: 0.01422 | Acc: 100.000\n##############################\nTRAIN - Epoch 062: | Loss: 0.00600 | Acc: 100.000\nVALIDATION - Epoch 062: | Loss: 0.01459 | Acc: 100.000\n##############################\nTRAIN - Epoch 063: | Loss: 0.00606 | Acc: 100.000\nVALIDATION - Epoch 063: | Loss: 0.01455 | Acc: 100.000\n##############################\nTRAIN - Epoch 064: | Loss: 0.00618 | Acc: 100.000\nVALIDATION - Epoch 064: | Loss: 0.01426 | Acc: 100.000\n##############################\nTRAIN - Epoch 065: | Loss: 0.00624 | Acc: 100.000\nVALIDATION - Epoch 065: | Loss: 0.01430 | Acc: 100.000\n##############################\nTRAIN - Epoch 066: | Loss: 0.00631 | Acc: 100.000\nVALIDATION - Epoch 066: | Loss: 0.01425 | Acc: 100.000\n##############################\nTRAIN - Epoch 067: | Loss: 0.00643 | Acc: 100.000\nVALIDATION - Epoch 067: | Loss: 0.01422 | Acc: 100.000\n##############################\nTRAIN - Epoch 068: | Loss: 0.00645 | Acc: 100.000\nVALIDATION - Epoch 068: | Loss: 0.01409 | Acc: 100.000\n##############################\nTRAIN - Epoch 069: | Loss: 0.00653 | Acc: 100.000\nVALIDATION - Epoch 069: | Loss: 0.01443 | Acc: 100.000\n##############################\nTRAIN - Epoch 070: | Loss: 0.00660 | Acc: 100.000\nVALIDATION - Epoch 070: | Loss: 0.01425 | Acc: 100.000\n##############################\nTRAIN - Epoch 071: | Loss: 0.00661 | Acc: 100.000\nVALIDATION - Epoch 071: | Loss: 0.01425 | Acc: 100.000\n##############################\nTRAIN - Epoch 072: | Loss: 0.00668 | Acc: 100.000\nVALIDATION - Epoch 072: | Loss: 0.01395 | Acc: 100.000\n##############################\nTRAIN - Epoch 073: | Loss: 0.00670 | Acc: 100.000\nVALIDATION - Epoch 073: | Loss: 0.01418 | Acc: 100.000\n##############################\nTRAIN - Epoch 074: | Loss: 0.00678 | Acc: 100.000\nVALIDATION - Epoch 074: | Loss: 0.01399 | Acc: 100.000\n##############################\nTRAIN - Epoch 075: | Loss: 0.00680 | Acc: 100.000\nVALIDATION - Epoch 075: | Loss: 0.01387 | Acc: 100.000\n##############################\nTRAIN - Epoch 076: | Loss: 0.00686 | Acc: 100.000\nVALIDATION - Epoch 076: | Loss: 0.01426 | Acc: 100.000\n##############################\nTRAIN - Epoch 077: | Loss: 0.00686 | Acc: 100.000\nVALIDATION - Epoch 077: | Loss: 0.01385 | Acc: 100.000\n##############################\nTRAIN - Epoch 078: | Loss: 0.00690 | Acc: 100.000\nVALIDATION - Epoch 078: | Loss: 0.01412 | Acc: 100.000\n##############################\nTRAIN - Epoch 079: | Loss: 0.00697 | Acc: 100.000\nVALIDATION - Epoch 079: | Loss: 0.01394 | Acc: 100.000\n##############################\nTRAIN - Epoch 080: | Loss: 0.00697 | Acc: 100.000\nVALIDATION - Epoch 080: | Loss: 0.01376 | Acc: 100.000\n##############################\nTRAIN - Epoch 081: | Loss: 0.00698 | Acc: 100.000\nVALIDATION - Epoch 081: | Loss: 0.01360 | Acc: 100.000\n##############################\nTRAIN - Epoch 082: | Loss: 0.00698 | Acc: 100.000\nVALIDATION - Epoch 082: | Loss: 0.01343 | Acc: 100.000\n##############################\nTRAIN - Epoch 083: | Loss: 0.00703 | Acc: 100.000\nVALIDATION - Epoch 083: | Loss: 0.01364 | Acc: 100.000\n##############################\nTRAIN - Epoch 084: | Loss: 0.00700 | Acc: 100.000\nVALIDATION - Epoch 084: | Loss: 0.01321 | Acc: 100.000\n##############################\nTRAIN - Epoch 085: | Loss: 0.00703 | Acc: 100.000\nVALIDATION - Epoch 085: | Loss: 0.01361 | Acc: 100.000\n##############################\nTRAIN - Epoch 086: | Loss: 0.00701 | Acc: 100.000\nVALIDATION - Epoch 086: | Loss: 0.01316 | Acc: 100.000\n##############################\nTRAIN - Epoch 087: | Loss: 0.00704 | Acc: 100.000\nVALIDATION - Epoch 087: | Loss: 0.01320 | Acc: 100.000\n##############################\nTRAIN - Epoch 088: | Loss: 0.00705 | Acc: 100.000\nVALIDATION - Epoch 088: | Loss: 0.01295 | Acc: 100.000\n##############################\nTRAIN - Epoch 089: | Loss: 0.00705 | Acc: 100.000\nVALIDATION - Epoch 089: | Loss: 0.01304 | Acc: 100.000\n##############################\nTRAIN - Epoch 090: | Loss: 0.00705 | Acc: 100.000\nVALIDATION - Epoch 090: | Loss: 0.01281 | Acc: 100.000\n##############################\nTRAIN - Epoch 091: | Loss: 0.00712 | Acc: 100.000\nVALIDATION - Epoch 091: | Loss: 0.01283 | Acc: 100.000\n##############################\nTRAIN - Epoch 092: | Loss: 0.00708 | Acc: 100.000\nVALIDATION - Epoch 092: | Loss: 0.01281 | Acc: 100.000\n##############################\nTRAIN - Epoch 093: | Loss: 0.00711 | Acc: 100.000\nVALIDATION - Epoch 093: | Loss: 0.01285 | Acc: 100.000\n##############################\nTRAIN - Epoch 094: | Loss: 0.00709 | Acc: 100.000\nVALIDATION - Epoch 094: | Loss: 0.01255 | Acc: 100.000\n##############################\nTRAIN - Epoch 095: | Loss: 0.00709 | Acc: 100.000\nVALIDATION - Epoch 095: | Loss: 0.01226 | Acc: 100.000\n##############################\nTRAIN - Epoch 096: | Loss: 0.00712 | Acc: 100.000\nVALIDATION - Epoch 096: | Loss: 0.01256 | Acc: 100.000\n##############################\nTRAIN - Epoch 097: | Loss: 0.00711 | Acc: 100.000\nVALIDATION - Epoch 097: | Loss: 0.01222 | Acc: 100.000\n##############################\nTRAIN - Epoch 098: | Loss: 0.00712 | Acc: 100.000\nVALIDATION - Epoch 098: | Loss: 0.01209 | Acc: 100.000\n##############################\nTRAIN - Epoch 099: | Loss: 0.00705 | Acc: 100.000\nVALIDATION - Epoch 099: | Loss: 0.01208 | Acc: 100.000\n##############################\nTRAIN - Epoch 100: | Loss: 0.00704 | Acc: 100.000\nVALIDATION - Epoch 100: | Loss: 0.01201 | Acc: 100.000\n##############################\n",
     "output_type": "stream",
     "data": {}
    }
   ],
   "execution_count": null
  },
  {
   "cell_type": "code",
   "source": "#create a loss plot\nplt.plot(losses_train,'-')\nplt.plot(losses_test,'-.')\nplt.xlabel('Epochs')\nplt.ylabel('Loss')\nplt.legend(['Train','Test'])\nplt.title('Train vs Test Losses')\n \nplt.show()",
   "metadata": {
    "tags": [],
    "cell_id": "00045-0fd1c40f-6c6b-44f1-9081-f19a9bac58ac",
    "deepnote_to_be_reexecuted": false,
    "source_hash": "8b7dd875",
    "execution_start": 1641942883478,
    "execution_millis": 423,
    "deepnote_output_heights": [
     498
    ],
    "deepnote_cell_type": "code"
   },
   "outputs": [
    {
     "data": {
      "text/plain": "<Figure size 720x576 with 1 Axes>",
      "image/png": "[encoded data removed]"
     },
     "metadata": {
      "needs_background": "light",
      "image/png": {
       "width": 609,
       "height": 496
      }
     },
     "output_type": "display_data"
    }
   ],
   "execution_count": null
  },
  {
   "cell_type": "code",
   "source": "#create an accuracy plot\nplt.plot(accuracies_train,'-')\nplt.plot(accuracies_test,'-.')\nplt.xlabel('Epochs')\nplt.ylabel('Accuracy')\nplt.legend(['Train','Test'])\nplt.title('Train vs Test Accuracy')\n \nplt.show()",
   "metadata": {
    "tags": [],
    "cell_id": "00045-44bafb49-efce-45b8-9296-146fbf462162",
    "deepnote_to_be_reexecuted": false,
    "source_hash": "4f7d8f58",
    "execution_start": 1641942960653,
    "execution_millis": 722,
    "deepnote_output_heights": [
     498
    ],
    "deepnote_cell_type": "code"
   },
   "outputs": [
    {
     "data": {
      "text/plain": "<Figure size 720x576 with 1 Axes>",
      "image/png": "[encoded data removed]"
     },
     "metadata": {
      "needs_background": "light",
      "image/png": {
       "width": 609,
       "height": 496
      }
     },
     "output_type": "display_data"
    }
   ],
   "execution_count": null
  },
  {
   "cell_type": "markdown",
   "source": "### Loading MONK-2 dataset",
   "metadata": {
    "tags": [],
    "cell_id": "00033-cbb4dbdd-918f-46fe-b1b5-6e76a6a653b8",
    "deepnote_cell_type": "markdown"
   }
  },
  {
   "cell_type": "code",
   "metadata": {
    "tags": [],
    "cell_id": "00034-e0ea567d-b6e5-4b5f-be28-3b11386d3631",
    "deepnote_to_be_reexecuted": true,
    "source_hash": "656b45fe",
    "execution_start": 1641901556325,
    "execution_millis": 9,
    "deepnote_cell_type": "code"
   },
   "source": "df_monk2_train = pd.read_csv('./data/MONK/monks-2.train', sep=\" \", skipinitialspace=True, names=['class','a1','a2','a3','a4','a5','a6','id'])\ndf_monk2_train.drop(labels='id', axis=1, inplace=True)\n\ndf_monk2_test = pd.read_csv('./data/MONK/monks-2.test', sep=\" \", skipinitialspace=True,  names=['class','a1','a2','a3','a4','a5','a6','id'])\ndf_monk2_test.drop(labels='id', axis=1, inplace=True)",
   "outputs": [],
   "execution_count": null
  },
  {
   "cell_type": "code",
   "metadata": {
    "tags": [],
    "cell_id": "00035-1051cf92-6a65-49dd-af16-99bffe59bd4f",
    "deepnote_to_be_reexecuted": true,
    "source_hash": "55cc4d97",
    "execution_start": 1641901556351,
    "execution_millis": 327,
    "deepnote_cell_type": "code"
   },
   "source": "df_monk2_test.head() #first column is the target (can be either 0 or 1)",
   "outputs": [
    {
     "output_type": "execute_result",
     "execution_count": 43,
     "data": {
      "application/vnd.deepnote.dataframe.v3+json": {
       "column_count": 7,
       "row_count": 5,
       "columns": [
        {
         "name": "class",
         "dtype": "int64",
         "stats": {
          "unique_count": 1,
          "nan_count": 0,
          "min": "0",
          "max": "0",
          "histogram": [
           {
            "bin_start": -0.5,
            "bin_end": -0.4,
            "count": 0
           },
           {
            "bin_start": -0.4,
            "bin_end": -0.3,
            "count": 0
           },
           {
            "bin_start": -0.3,
            "bin_end": -0.19999999999999996,
            "count": 0
           },
           {
            "bin_start": -0.19999999999999996,
            "bin_end": -0.09999999999999998,
            "count": 0
           },
           {
            "bin_start": -0.09999999999999998,
            "bin_end": 0,
            "count": 0
           },
           {
            "bin_start": 0,
            "bin_end": 0.10000000000000009,
            "count": 5
           },
           {
            "bin_start": 0.10000000000000009,
            "bin_end": 0.20000000000000007,
            "count": 0
           },
           {
            "bin_start": 0.20000000000000007,
            "bin_end": 0.30000000000000004,
            "count": 0
           },
           {
            "bin_start": 0.30000000000000004,
            "bin_end": 0.4,
            "count": 0
           },
           {
            "bin_start": 0.4,
            "bin_end": 0.5,
            "count": 0
           }
          ]
         }
        },
        {
         "name": "a1",
         "dtype": "int64",
         "stats": {
          "unique_count": 1,
          "nan_count": 0,
          "min": "1",
          "max": "1",
          "histogram": [
           {
            "bin_start": 0.5,
            "bin_end": 0.6,
            "count": 0
           },
           {
            "bin_start": 0.6,
            "bin_end": 0.7,
            "count": 0
           },
           {
            "bin_start": 0.7,
            "bin_end": 0.8,
            "count": 0
           },
           {
            "bin_start": 0.8,
            "bin_end": 0.9,
            "count": 0
           },
           {
            "bin_start": 0.9,
            "bin_end": 1,
            "count": 0
           },
           {
            "bin_start": 1,
            "bin_end": 1.1,
            "count": 5
           },
           {
            "bin_start": 1.1,
            "bin_end": 1.2000000000000002,
            "count": 0
           },
           {
            "bin_start": 1.2000000000000002,
            "bin_end": 1.3,
            "count": 0
           },
           {
            "bin_start": 1.3,
            "bin_end": 1.4,
            "count": 0
           },
           {
            "bin_start": 1.4,
            "bin_end": 1.5,
            "count": 0
           }
          ]
         }
        },
        {
         "name": "a2",
         "dtype": "int64",
         "stats": {
          "unique_count": 1,
          "nan_count": 0,
          "min": "1",
          "max": "1",
          "histogram": [
           {
            "bin_start": 0.5,
            "bin_end": 0.6,
            "count": 0
           },
           {
            "bin_start": 0.6,
            "bin_end": 0.7,
            "count": 0
           },
           {
            "bin_start": 0.7,
            "bin_end": 0.8,
            "count": 0
           },
           {
            "bin_start": 0.8,
            "bin_end": 0.9,
            "count": 0
           },
           {
            "bin_start": 0.9,
            "bin_end": 1,
            "count": 0
           },
           {
            "bin_start": 1,
            "bin_end": 1.1,
            "count": 5
           },
           {
            "bin_start": 1.1,
            "bin_end": 1.2000000000000002,
            "count": 0
           },
           {
            "bin_start": 1.2000000000000002,
            "bin_end": 1.3,
            "count": 0
           },
           {
            "bin_start": 1.3,
            "bin_end": 1.4,
            "count": 0
           },
           {
            "bin_start": 1.4,
            "bin_end": 1.5,
            "count": 0
           }
          ]
         }
        },
        {
         "name": "a3",
         "dtype": "int64",
         "stats": {
          "unique_count": 1,
          "nan_count": 0,
          "min": "1",
          "max": "1",
          "histogram": [
           {
            "bin_start": 0.5,
            "bin_end": 0.6,
            "count": 0
           },
           {
            "bin_start": 0.6,
            "bin_end": 0.7,
            "count": 0
           },
           {
            "bin_start": 0.7,
            "bin_end": 0.8,
            "count": 0
           },
           {
            "bin_start": 0.8,
            "bin_end": 0.9,
            "count": 0
           },
           {
            "bin_start": 0.9,
            "bin_end": 1,
            "count": 0
           },
           {
            "bin_start": 1,
            "bin_end": 1.1,
            "count": 5
           },
           {
            "bin_start": 1.1,
            "bin_end": 1.2000000000000002,
            "count": 0
           },
           {
            "bin_start": 1.2000000000000002,
            "bin_end": 1.3,
            "count": 0
           },
           {
            "bin_start": 1.3,
            "bin_end": 1.4,
            "count": 0
           },
           {
            "bin_start": 1.4,
            "bin_end": 1.5,
            "count": 0
           }
          ]
         }
        },
        {
         "name": "a4",
         "dtype": "int64",
         "stats": {
          "unique_count": 1,
          "nan_count": 0,
          "min": "1",
          "max": "1",
          "histogram": [
           {
            "bin_start": 0.5,
            "bin_end": 0.6,
            "count": 0
           },
           {
            "bin_start": 0.6,
            "bin_end": 0.7,
            "count": 0
           },
           {
            "bin_start": 0.7,
            "bin_end": 0.8,
            "count": 0
           },
           {
            "bin_start": 0.8,
            "bin_end": 0.9,
            "count": 0
           },
           {
            "bin_start": 0.9,
            "bin_end": 1,
            "count": 0
           },
           {
            "bin_start": 1,
            "bin_end": 1.1,
            "count": 5
           },
           {
            "bin_start": 1.1,
            "bin_end": 1.2000000000000002,
            "count": 0
           },
           {
            "bin_start": 1.2000000000000002,
            "bin_end": 1.3,
            "count": 0
           },
           {
            "bin_start": 1.3,
            "bin_end": 1.4,
            "count": 0
           },
           {
            "bin_start": 1.4,
            "bin_end": 1.5,
            "count": 0
           }
          ]
         }
        },
        {
         "name": "a5",
         "dtype": "int64",
         "stats": {
          "unique_count": 3,
          "nan_count": 0,
          "min": "1",
          "max": "3",
          "histogram": [
           {
            "bin_start": 1,
            "bin_end": 1.2,
            "count": 2
           },
           {
            "bin_start": 1.2,
            "bin_end": 1.4,
            "count": 0
           },
           {
            "bin_start": 1.4,
            "bin_end": 1.6,
            "count": 0
           },
           {
            "bin_start": 1.6,
            "bin_end": 1.8,
            "count": 0
           },
           {
            "bin_start": 1.8,
            "bin_end": 2,
            "count": 0
           },
           {
            "bin_start": 2,
            "bin_end": 2.2,
            "count": 2
           },
           {
            "bin_start": 2.2,
            "bin_end": 2.4000000000000004,
            "count": 0
           },
           {
            "bin_start": 2.4000000000000004,
            "bin_end": 2.6,
            "count": 0
           },
           {
            "bin_start": 2.6,
            "bin_end": 2.8,
            "count": 0
           },
           {
            "bin_start": 2.8,
            "bin_end": 3,
            "count": 1
           }
          ]
         }
        },
        {
         "name": "a6",
         "dtype": "int64",
         "stats": {
          "unique_count": 2,
          "nan_count": 0,
          "min": "1",
          "max": "2",
          "histogram": [
           {
            "bin_start": 1,
            "bin_end": 1.1,
            "count": 3
           },
           {
            "bin_start": 1.1,
            "bin_end": 1.2,
            "count": 0
           },
           {
            "bin_start": 1.2,
            "bin_end": 1.3,
            "count": 0
           },
           {
            "bin_start": 1.3,
            "bin_end": 1.4,
            "count": 0
           },
           {
            "bin_start": 1.4,
            "bin_end": 1.5,
            "count": 0
           },
           {
            "bin_start": 1.5,
            "bin_end": 1.6,
            "count": 0
           },
           {
            "bin_start": 1.6,
            "bin_end": 1.7000000000000002,
            "count": 0
           },
           {
            "bin_start": 1.7000000000000002,
            "bin_end": 1.8,
            "count": 0
           },
           {
            "bin_start": 1.8,
            "bin_end": 1.9,
            "count": 0
           },
           {
            "bin_start": 1.9,
            "bin_end": 2,
            "count": 2
           }
          ]
         }
        },
        {
         "name": "_deepnote_index_column",
         "dtype": "int64"
        }
       ],
       "rows": [
        {
         "class": 0,
         "a1": 1,
         "a2": 1,
         "a3": 1,
         "a4": 1,
         "a5": 1,
         "a6": 1,
         "_deepnote_index_column": 0
        },
        {
         "class": 0,
         "a1": 1,
         "a2": 1,
         "a3": 1,
         "a4": 1,
         "a5": 1,
         "a6": 2,
         "_deepnote_index_column": 1
        },
        {
         "class": 0,
         "a1": 1,
         "a2": 1,
         "a3": 1,
         "a4": 1,
         "a5": 2,
         "a6": 1,
         "_deepnote_index_column": 2
        },
        {
         "class": 0,
         "a1": 1,
         "a2": 1,
         "a3": 1,
         "a4": 1,
         "a5": 2,
         "a6": 2,
         "_deepnote_index_column": 3
        },
        {
         "class": 0,
         "a1": 1,
         "a2": 1,
         "a3": 1,
         "a4": 1,
         "a5": 3,
         "a6": 1,
         "_deepnote_index_column": 4
        }
       ]
      },
      "text/plain": "   class  a1  a2  a3  a4  a5  a6\n0      0   1   1   1   1   1   1\n1      0   1   1   1   1   1   2\n2      0   1   1   1   1   2   1\n3      0   1   1   1   1   2   2\n4      0   1   1   1   1   3   1",
      "text/html": "<div>\n<style scoped>\n    .dataframe tbody tr th:only-of-type {\n        vertical-align: middle;\n    }\n\n    .dataframe tbody tr th {\n        vertical-align: top;\n    }\n\n    .dataframe thead th {\n        text-align: right;\n    }\n</style>\n<table border=\"1\" class=\"dataframe\">\n  <thead>\n    <tr style=\"text-align: right;\">\n      <th></th>\n      <th>class</th>\n      <th>a1</th>\n      <th>a2</th>\n      <th>a3</th>\n      <th>a4</th>\n      <th>a5</th>\n      <th>a6</th>\n    </tr>\n  </thead>\n  <tbody>\n    <tr>\n      <th>0</th>\n      <td>0</td>\n      <td>1</td>\n      <td>1</td>\n      <td>1</td>\n      <td>1</td>\n      <td>1</td>\n      <td>1</td>\n    </tr>\n    <tr>\n      <th>1</th>\n      <td>0</td>\n      <td>1</td>\n      <td>1</td>\n      <td>1</td>\n      <td>1</td>\n      <td>1</td>\n      <td>2</td>\n    </tr>\n    <tr>\n      <th>2</th>\n      <td>0</td>\n      <td>1</td>\n      <td>1</td>\n      <td>1</td>\n      <td>1</td>\n      <td>2</td>\n      <td>1</td>\n    </tr>\n    <tr>\n      <th>3</th>\n      <td>0</td>\n      <td>1</td>\n      <td>1</td>\n      <td>1</td>\n      <td>1</td>\n      <td>2</td>\n      <td>2</td>\n    </tr>\n    <tr>\n      <th>4</th>\n      <td>0</td>\n      <td>1</td>\n      <td>1</td>\n      <td>1</td>\n      <td>1</td>\n      <td>3</td>\n      <td>1</td>\n    </tr>\n  </tbody>\n</table>\n</div>"
     },
     "metadata": {}
    }
   ],
   "execution_count": null
  },
  {
   "cell_type": "code",
   "metadata": {
    "tags": [],
    "cell_id": "00036-13ff0462-e24a-47b9-959f-348a1b518096",
    "deepnote_to_be_reexecuted": true,
    "source_hash": "34bb22a0",
    "execution_start": 1641901556388,
    "execution_millis": 298,
    "deepnote_cell_type": "code"
   },
   "source": "df_monk2_train",
   "outputs": [
    {
     "output_type": "execute_result",
     "execution_count": 44,
     "data": {
      "application/vnd.deepnote.dataframe.v3+json": {
       "column_count": 7,
       "row_count": 169,
       "columns": [
        {
         "name": "class",
         "dtype": "int64",
         "stats": {
          "unique_count": 2,
          "nan_count": 0,
          "min": "0",
          "max": "1",
          "histogram": [
           {
            "bin_start": 0,
            "bin_end": 0.1,
            "count": 105
           },
           {
            "bin_start": 0.1,
            "bin_end": 0.2,
            "count": 0
           },
           {
            "bin_start": 0.2,
            "bin_end": 0.30000000000000004,
            "count": 0
           },
           {
            "bin_start": 0.30000000000000004,
            "bin_end": 0.4,
            "count": 0
           },
           {
            "bin_start": 0.4,
            "bin_end": 0.5,
            "count": 0
           },
           {
            "bin_start": 0.5,
            "bin_end": 0.6000000000000001,
            "count": 0
           },
           {
            "bin_start": 0.6000000000000001,
            "bin_end": 0.7000000000000001,
            "count": 0
           },
           {
            "bin_start": 0.7000000000000001,
            "bin_end": 0.8,
            "count": 0
           },
           {
            "bin_start": 0.8,
            "bin_end": 0.9,
            "count": 0
           },
           {
            "bin_start": 0.9,
            "bin_end": 1,
            "count": 64
           }
          ]
         }
        },
        {
         "name": "a1",
         "dtype": "int64",
         "stats": {
          "unique_count": 3,
          "nan_count": 0,
          "min": "1",
          "max": "3",
          "histogram": [
           {
            "bin_start": 1,
            "bin_end": 1.2,
            "count": 57
           },
           {
            "bin_start": 1.2,
            "bin_end": 1.4,
            "count": 0
           },
           {
            "bin_start": 1.4,
            "bin_end": 1.6,
            "count": 0
           },
           {
            "bin_start": 1.6,
            "bin_end": 1.8,
            "count": 0
           },
           {
            "bin_start": 1.8,
            "bin_end": 2,
            "count": 0
           },
           {
            "bin_start": 2,
            "bin_end": 2.2,
            "count": 57
           },
           {
            "bin_start": 2.2,
            "bin_end": 2.4000000000000004,
            "count": 0
           },
           {
            "bin_start": 2.4000000000000004,
            "bin_end": 2.6,
            "count": 0
           },
           {
            "bin_start": 2.6,
            "bin_end": 2.8,
            "count": 0
           },
           {
            "bin_start": 2.8,
            "bin_end": 3,
            "count": 55
           }
          ]
         }
        },
        {
         "name": "a2",
         "dtype": "int64",
         "stats": {
          "unique_count": 3,
          "nan_count": 0,
          "min": "1",
          "max": "3",
          "histogram": [
           {
            "bin_start": 1,
            "bin_end": 1.2,
            "count": 55
           },
           {
            "bin_start": 1.2,
            "bin_end": 1.4,
            "count": 0
           },
           {
            "bin_start": 1.4,
            "bin_end": 1.6,
            "count": 0
           },
           {
            "bin_start": 1.6,
            "bin_end": 1.8,
            "count": 0
           },
           {
            "bin_start": 1.8,
            "bin_end": 2,
            "count": 0
           },
           {
            "bin_start": 2,
            "bin_end": 2.2,
            "count": 63
           },
           {
            "bin_start": 2.2,
            "bin_end": 2.4000000000000004,
            "count": 0
           },
           {
            "bin_start": 2.4000000000000004,
            "bin_end": 2.6,
            "count": 0
           },
           {
            "bin_start": 2.6,
            "bin_end": 2.8,
            "count": 0
           },
           {
            "bin_start": 2.8,
            "bin_end": 3,
            "count": 51
           }
          ]
         }
        },
        {
         "name": "a3",
         "dtype": "int64",
         "stats": {
          "unique_count": 2,
          "nan_count": 0,
          "min": "1",
          "max": "2",
          "histogram": [
           {
            "bin_start": 1,
            "bin_end": 1.1,
            "count": 83
           },
           {
            "bin_start": 1.1,
            "bin_end": 1.2,
            "count": 0
           },
           {
            "bin_start": 1.2,
            "bin_end": 1.3,
            "count": 0
           },
           {
            "bin_start": 1.3,
            "bin_end": 1.4,
            "count": 0
           },
           {
            "bin_start": 1.4,
            "bin_end": 1.5,
            "count": 0
           },
           {
            "bin_start": 1.5,
            "bin_end": 1.6,
            "count": 0
           },
           {
            "bin_start": 1.6,
            "bin_end": 1.7000000000000002,
            "count": 0
           },
           {
            "bin_start": 1.7000000000000002,
            "bin_end": 1.8,
            "count": 0
           },
           {
            "bin_start": 1.8,
            "bin_end": 1.9,
            "count": 0
           },
           {
            "bin_start": 1.9,
            "bin_end": 2,
            "count": 86
           }
          ]
         }
        },
        {
         "name": "a4",
         "dtype": "int64",
         "stats": {
          "unique_count": 3,
          "nan_count": 0,
          "min": "1",
          "max": "3",
          "histogram": [
           {
            "bin_start": 1,
            "bin_end": 1.2,
            "count": 54
           },
           {
            "bin_start": 1.2,
            "bin_end": 1.4,
            "count": 0
           },
           {
            "bin_start": 1.4,
            "bin_end": 1.6,
            "count": 0
           },
           {
            "bin_start": 1.6,
            "bin_end": 1.8,
            "count": 0
           },
           {
            "bin_start": 1.8,
            "bin_end": 2,
            "count": 0
           },
           {
            "bin_start": 2,
            "bin_end": 2.2,
            "count": 54
           },
           {
            "bin_start": 2.2,
            "bin_end": 2.4000000000000004,
            "count": 0
           },
           {
            "bin_start": 2.4000000000000004,
            "bin_end": 2.6,
            "count": 0
           },
           {
            "bin_start": 2.6,
            "bin_end": 2.8,
            "count": 0
           },
           {
            "bin_start": 2.8,
            "bin_end": 3,
            "count": 61
           }
          ]
         }
        },
        {
         "name": "a5",
         "dtype": "int64",
         "stats": {
          "unique_count": 4,
          "nan_count": 0,
          "min": "1",
          "max": "4",
          "histogram": [
           {
            "bin_start": 1,
            "bin_end": 1.3,
            "count": 43
           },
           {
            "bin_start": 1.3,
            "bin_end": 1.6,
            "count": 0
           },
           {
            "bin_start": 1.6,
            "bin_end": 1.9,
            "count": 0
           },
           {
            "bin_start": 1.9,
            "bin_end": 2.2,
            "count": 40
           },
           {
            "bin_start": 2.2,
            "bin_end": 2.5,
            "count": 0
           },
           {
            "bin_start": 2.5,
            "bin_end": 2.8,
            "count": 0
           },
           {
            "bin_start": 2.8,
            "bin_end": 3.1,
            "count": 49
           },
           {
            "bin_start": 3.1,
            "bin_end": 3.4,
            "count": 0
           },
           {
            "bin_start": 3.4,
            "bin_end": 3.6999999999999997,
            "count": 0
           },
           {
            "bin_start": 3.6999999999999997,
            "bin_end": 4,
            "count": 37
           }
          ]
         }
        },
        {
         "name": "a6",
         "dtype": "int64",
         "stats": {
          "unique_count": 2,
          "nan_count": 0,
          "min": "1",
          "max": "2",
          "histogram": [
           {
            "bin_start": 1,
            "bin_end": 1.1,
            "count": 84
           },
           {
            "bin_start": 1.1,
            "bin_end": 1.2,
            "count": 0
           },
           {
            "bin_start": 1.2,
            "bin_end": 1.3,
            "count": 0
           },
           {
            "bin_start": 1.3,
            "bin_end": 1.4,
            "count": 0
           },
           {
            "bin_start": 1.4,
            "bin_end": 1.5,
            "count": 0
           },
           {
            "bin_start": 1.5,
            "bin_end": 1.6,
            "count": 0
           },
           {
            "bin_start": 1.6,
            "bin_end": 1.7000000000000002,
            "count": 0
           },
           {
            "bin_start": 1.7000000000000002,
            "bin_end": 1.8,
            "count": 0
           },
           {
            "bin_start": 1.8,
            "bin_end": 1.9,
            "count": 0
           },
           {
            "bin_start": 1.9,
            "bin_end": 2,
            "count": 85
           }
          ]
         }
        },
        {
         "name": "_deepnote_index_column",
         "dtype": "int64"
        }
       ],
       "rows": [
        {
         "class": 0,
         "a1": 1,
         "a2": 1,
         "a3": 1,
         "a4": 1,
         "a5": 2,
         "a6": 2,
         "_deepnote_index_column": 0
        },
        {
         "class": 0,
         "a1": 1,
         "a2": 1,
         "a3": 1,
         "a4": 1,
         "a5": 4,
         "a6": 1,
         "_deepnote_index_column": 1
        },
        {
         "class": 0,
         "a1": 1,
         "a2": 1,
         "a3": 1,
         "a4": 2,
         "a5": 1,
         "a6": 1,
         "_deepnote_index_column": 2
        },
        {
         "class": 0,
         "a1": 1,
         "a2": 1,
         "a3": 1,
         "a4": 2,
         "a5": 1,
         "a6": 2,
         "_deepnote_index_column": 3
        },
        {
         "class": 0,
         "a1": 1,
         "a2": 1,
         "a3": 1,
         "a4": 2,
         "a5": 2,
         "a6": 1,
         "_deepnote_index_column": 4
        },
        {
         "class": 0,
         "a1": 1,
         "a2": 1,
         "a3": 1,
         "a4": 2,
         "a5": 3,
         "a6": 1,
         "_deepnote_index_column": 5
        },
        {
         "class": 0,
         "a1": 1,
         "a2": 1,
         "a3": 1,
         "a4": 2,
         "a5": 4,
         "a6": 1,
         "_deepnote_index_column": 6
        },
        {
         "class": 0,
         "a1": 1,
         "a2": 1,
         "a3": 1,
         "a4": 3,
         "a5": 2,
         "a6": 1,
         "_deepnote_index_column": 7
        },
        {
         "class": 0,
         "a1": 1,
         "a2": 1,
         "a3": 1,
         "a4": 3,
         "a5": 4,
         "a6": 1,
         "_deepnote_index_column": 8
        },
        {
         "class": 0,
         "a1": 1,
         "a2": 1,
         "a3": 2,
         "a4": 1,
         "a5": 1,
         "a6": 1,
         "_deepnote_index_column": 9
        }
       ]
      },
      "text/plain": "     class  a1  a2  a3  a4  a5  a6\n0        0   1   1   1   1   2   2\n1        0   1   1   1   1   4   1\n2        0   1   1   1   2   1   1\n3        0   1   1   1   2   1   2\n4        0   1   1   1   2   2   1\n..     ...  ..  ..  ..  ..  ..  ..\n164      0   3   3   2   2   3   1\n165      0   3   3   2   2   3   2\n166      1   3   3   2   3   1   1\n167      0   3   3   2   3   2   1\n168      0   3   3   2   3   4   2\n\n[169 rows x 7 columns]",
      "text/html": "<div>\n<style scoped>\n    .dataframe tbody tr th:only-of-type {\n        vertical-align: middle;\n    }\n\n    .dataframe tbody tr th {\n        vertical-align: top;\n    }\n\n    .dataframe thead th {\n        text-align: right;\n    }\n</style>\n<table border=\"1\" class=\"dataframe\">\n  <thead>\n    <tr style=\"text-align: right;\">\n      <th></th>\n      <th>class</th>\n      <th>a1</th>\n      <th>a2</th>\n      <th>a3</th>\n      <th>a4</th>\n      <th>a5</th>\n      <th>a6</th>\n    </tr>\n  </thead>\n  <tbody>\n    <tr>\n      <th>0</th>\n      <td>0</td>\n      <td>1</td>\n      <td>1</td>\n      <td>1</td>\n      <td>1</td>\n      <td>2</td>\n      <td>2</td>\n    </tr>\n    <tr>\n      <th>1</th>\n      <td>0</td>\n      <td>1</td>\n      <td>1</td>\n      <td>1</td>\n      <td>1</td>\n      <td>4</td>\n      <td>1</td>\n    </tr>\n    <tr>\n      <th>2</th>\n      <td>0</td>\n      <td>1</td>\n      <td>1</td>\n      <td>1</td>\n      <td>2</td>\n      <td>1</td>\n      <td>1</td>\n    </tr>\n    <tr>\n      <th>3</th>\n      <td>0</td>\n      <td>1</td>\n      <td>1</td>\n      <td>1</td>\n      <td>2</td>\n      <td>1</td>\n      <td>2</td>\n    </tr>\n    <tr>\n      <th>4</th>\n      <td>0</td>\n      <td>1</td>\n      <td>1</td>\n      <td>1</td>\n      <td>2</td>\n      <td>2</td>\n      <td>1</td>\n    </tr>\n    <tr>\n      <th>...</th>\n      <td>...</td>\n      <td>...</td>\n      <td>...</td>\n      <td>...</td>\n      <td>...</td>\n      <td>...</td>\n      <td>...</td>\n    </tr>\n    <tr>\n      <th>164</th>\n      <td>0</td>\n      <td>3</td>\n      <td>3</td>\n      <td>2</td>\n      <td>2</td>\n      <td>3</td>\n      <td>1</td>\n    </tr>\n    <tr>\n      <th>165</th>\n      <td>0</td>\n      <td>3</td>\n      <td>3</td>\n      <td>2</td>\n      <td>2</td>\n      <td>3</td>\n      <td>2</td>\n    </tr>\n    <tr>\n      <th>166</th>\n      <td>1</td>\n      <td>3</td>\n      <td>3</td>\n      <td>2</td>\n      <td>3</td>\n      <td>1</td>\n      <td>1</td>\n    </tr>\n    <tr>\n      <th>167</th>\n      <td>0</td>\n      <td>3</td>\n      <td>3</td>\n      <td>2</td>\n      <td>3</td>\n      <td>2</td>\n      <td>1</td>\n    </tr>\n    <tr>\n      <th>168</th>\n      <td>0</td>\n      <td>3</td>\n      <td>3</td>\n      <td>2</td>\n      <td>3</td>\n      <td>4</td>\n      <td>2</td>\n    </tr>\n  </tbody>\n</table>\n<p>169 rows × 7 columns</p>\n</div>"
     },
     "metadata": {}
    }
   ],
   "execution_count": null
  },
  {
   "cell_type": "code",
   "metadata": {
    "tags": [],
    "cell_id": "00037-e06fef60-36f5-4b4f-9c6c-69104e332421",
    "deepnote_to_be_reexecuted": true,
    "source_hash": "14fbab8f",
    "execution_start": 1641901556461,
    "execution_millis": 208,
    "deepnote_output_heights": [
     21.1875,
     451
    ],
    "deepnote_cell_type": "code"
   },
   "source": "fig_size = plt.rcParams[\"figure.figsize\"]\nfig_size[0] = 10\nfig_size[1] = 8\nplt.rcParams[\"figure.figsize\"] = fig_size\n\ndf_monk2_train['class'].value_counts().plot(kind='pie', autopct='%1.0f%%', colors=['blue', 'yellow'], explode=(0.05, 0.05))",
   "outputs": [
    {
     "output_type": "execute_result",
     "execution_count": 45,
     "data": {
      "text/plain": "<AxesSubplot:ylabel='class'>"
     },
     "metadata": {}
    },
    {
     "data": {
      "text/plain": "<Figure size 720x576 with 1 Axes>",
      "image/png": "[encoded data removed]"
     },
     "metadata": {
      "image/png": {
       "width": 463,
       "height": 449
      }
     },
     "output_type": "display_data"
    }
   ],
   "execution_count": null
  },
  {
   "cell_type": "code",
   "metadata": {
    "tags": [],
    "cell_id": "00038-b6c65065-78df-467f-9169-1c9224a1fecd",
    "deepnote_to_be_reexecuted": true,
    "source_hash": "dcfcea8c",
    "execution_start": 1641901556735,
    "execution_millis": 157,
    "deepnote_output_heights": [
     21.1875,
     451
    ],
    "deepnote_cell_type": "code"
   },
   "source": "df_monk2_test['class'].value_counts().plot(kind='pie', autopct='%1.0f%%', colors=['blue', 'yellow'], explode=(0.05, 0.05))",
   "outputs": [
    {
     "output_type": "execute_result",
     "execution_count": 46,
     "data": {
      "text/plain": "<AxesSubplot:ylabel='class'>"
     },
     "metadata": {}
    },
    {
     "data": {
      "text/plain": "<Figure size 720x576 with 1 Axes>",
      "image/png": "[encoded data removed]"
     },
     "metadata": {
      "image/png": {
       "width": 463,
       "height": 449
      }
     },
     "output_type": "display_data"
    }
   ],
   "execution_count": null
  },
  {
   "cell_type": "code",
   "metadata": {
    "tags": [],
    "cell_id": "00039-a9297afc-ce5c-46b3-9344-42efee64e538",
    "deepnote_to_be_reexecuted": true,
    "source_hash": "d8c4c8cf",
    "execution_start": 1641901556889,
    "execution_millis": 1,
    "deepnote_cell_type": "code"
   },
   "source": "target_train = df_monk2_train.pop('class')\ntarget_test = df_monk2_test.pop('class')\nX_train = df_monk2_train\ny_train = target_train\nX_test = df_monk2_test\ny_test = target_test",
   "outputs": [],
   "execution_count": null
  },
  {
   "cell_type": "code",
   "metadata": {
    "tags": [],
    "cell_id": "00040-8ba9586a-e12a-496b-be4c-b20b0d5c7ebf",
    "deepnote_to_be_reexecuted": true,
    "source_hash": "cd4650fc",
    "execution_start": 1641901556890,
    "execution_millis": 0,
    "deepnote_cell_type": "code"
   },
   "source": "X_train = X_train.values #returns a ndarray\nX_test = X_test.values\nx_tensor =  torch.from_numpy(X_train).float()\ny_tensor =  torch.from_numpy(y_train.values.ravel()).float()\nxtest_tensor =  torch.from_numpy(X_test).float()\nytest_tensor =  torch.from_numpy(y_test.values.ravel()).float()",
   "outputs": [],
   "execution_count": null
  },
  {
   "cell_type": "code",
   "metadata": {
    "tags": [],
    "cell_id": "00041-a6b42bfc-e3c8-4b2e-9cc2-5d5fdd053b10",
    "deepnote_to_be_reexecuted": true,
    "source_hash": "8182dfbe",
    "execution_start": 1641901556891,
    "execution_millis": 0,
    "deepnote_output_heights": [
     98
    ],
    "deepnote_cell_type": "code"
   },
   "source": "y_tensor = y_tensor.unsqueeze(1)\ntrain_ds = TensorDataset(x_tensor, y_tensor)\ntrain_loader = DataLoader(train_ds, batch_size=BATCH_SIZE)",
   "outputs": [],
   "execution_count": null
  },
  {
   "cell_type": "code",
   "metadata": {
    "tags": [],
    "cell_id": "00042-aad59af1-4966-4ffa-b88b-e099bc75f767",
    "deepnote_to_be_reexecuted": true,
    "source_hash": "a463a890",
    "execution_start": 1641901556893,
    "execution_millis": 2,
    "deepnote_output_heights": [
     98
    ],
    "deepnote_cell_type": "code"
   },
   "source": "ytest_tensor = ytest_tensor.unsqueeze(1)\ntest_ds = TensorDataset(xtest_tensor, ytest_tensor)\ntest_loader = DataLoader(test_ds, batch_size=64)",
   "outputs": [],
   "execution_count": null
  },
  {
   "cell_type": "code",
   "metadata": {
    "tags": [],
    "cell_id": "00045-ef30cda7-4e7a-44e4-9c7b-037df9c84963",
    "deepnote_to_be_reexecuted": true,
    "source_hash": "4819fb2c",
    "execution_start": 1641901556898,
    "execution_millis": 5,
    "deepnote_cell_type": "code"
   },
   "source": "model = BinaryClassification(X_train.shape[1], 100)",
   "outputs": [],
   "execution_count": null
  },
  {
   "cell_type": "code",
   "metadata": {
    "tags": [],
    "cell_id": "00046-1978e7ed-78dc-4b38-bafc-af2aac1c16cd",
    "deepnote_to_be_reexecuted": true,
    "source_hash": "9a6fcb96",
    "execution_start": 1641901556906,
    "execution_millis": 1,
    "deepnote_cell_type": "code"
   },
   "source": "loss_function = nn.BCELoss()\noptimizer = torch.optim.Adam(model.parameters(), lr=LEARNING_RATE)",
   "outputs": [],
   "execution_count": null
  },
  {
   "cell_type": "code",
   "metadata": {
    "tags": [],
    "cell_id": "00047-6d762c23-4915-4455-870f-eadb19e9214a",
    "deepnote_to_be_reexecuted": true,
    "source_hash": "d6faddd9",
    "execution_start": 1641901556954,
    "execution_millis": 999,
    "deepnote_cell_type": "code"
   },
   "source": "losses_train = []\naccuracies_train = []\nlosses_test = []\naccuracies_test = []\n\nfor epoch in range(1,EPOCHS+1): \n  model, losses_train, accuracies_train = TrainPhase(epoch, model, losses_train, accuracies_train, train_loader, loss_function, optimizer)\n  y_pred_test, losses_test, accuracies_test = Evaluate(epoch, model, losses_test, accuracies_test, test_loader, loss_function)\n  print(\"##############################\")",
   "outputs": [
    {
     "name": "stdout",
     "text": "TRAIN - Epoch 001: | Loss: 2.33606 | Acc: 43.167\nVALIDATION - Epoch 001: | Loss: 0.71190 | Acc: 65.714\n##############################\nTRAIN - Epoch 002: | Loss: 1.00487 | Acc: 52.667\nVALIDATION - Epoch 002: | Loss: 0.97556 | Acc: 35.429\n##############################\nTRAIN - Epoch 003: | Loss: 0.88875 | Acc: 52.000\nVALIDATION - Epoch 003: | Loss: 0.89910 | Acc: 33.286\n##############################\nTRAIN - Epoch 004: | Loss: 0.71754 | Acc: 48.333\nVALIDATION - Epoch 004: | Loss: 0.71507 | Acc: 65.429\n##############################\nTRAIN - Epoch 005: | Loss: 0.73492 | Acc: 63.000\nVALIDATION - Epoch 005: | Loss: 0.83917 | Acc: 67.000\n##############################\nTRAIN - Epoch 006: | Loss: 0.95249 | Acc: 55.000\nVALIDATION - Epoch 006: | Loss: 1.06072 | Acc: 36.143\n##############################\nTRAIN - Epoch 007: | Loss: 0.87357 | Acc: 55.167\nVALIDATION - Epoch 007: | Loss: 0.81399 | Acc: 36.286\n##############################\nTRAIN - Epoch 008: | Loss: 0.71955 | Acc: 50.000\nVALIDATION - Epoch 008: | Loss: 0.68803 | Acc: 66.143\n##############################\nTRAIN - Epoch 009: | Loss: 0.68661 | Acc: 59.167\nVALIDATION - Epoch 009: | Loss: 0.89995 | Acc: 67.000\n##############################\nTRAIN - Epoch 010: | Loss: 0.84209 | Acc: 55.500\nVALIDATION - Epoch 010: | Loss: 0.75326 | Acc: 65.714\n##############################\nTRAIN - Epoch 011: | Loss: 1.05988 | Acc: 51.667\nVALIDATION - Epoch 011: | Loss: 1.24745 | Acc: 33.000\n##############################\nTRAIN - Epoch 012: | Loss: 0.93451 | Acc: 47.333\nVALIDATION - Epoch 012: | Loss: 0.68224 | Acc: 54.571\n##############################\nTRAIN - Epoch 013: | Loss: 0.82553 | Acc: 54.167\nVALIDATION - Epoch 013: | Loss: 0.89147 | Acc: 67.000\n##############################\nTRAIN - Epoch 014: | Loss: 1.20221 | Acc: 56.500\nVALIDATION - Epoch 014: | Loss: 1.11940 | Acc: 40.857\n##############################\nTRAIN - Epoch 015: | Loss: 1.13294 | Acc: 53.500\nVALIDATION - Epoch 015: | Loss: 0.83927 | Acc: 40.714\n##############################\nTRAIN - Epoch 016: | Loss: 0.75370 | Acc: 51.500\nVALIDATION - Epoch 016: | Loss: 0.91206 | Acc: 67.000\n##############################\nTRAIN - Epoch 017: | Loss: 0.87810 | Acc: 57.500\nVALIDATION - Epoch 017: | Loss: 0.83420 | Acc: 46.286\n##############################\nTRAIN - Epoch 018: | Loss: 0.98846 | Acc: 49.500\nVALIDATION - Epoch 018: | Loss: 0.91222 | Acc: 33.429\n##############################\nTRAIN - Epoch 019: | Loss: 0.72040 | Acc: 48.500\nVALIDATION - Epoch 019: | Loss: 0.79354 | Acc: 67.000\n##############################\nTRAIN - Epoch 020: | Loss: 0.80416 | Acc: 56.000\nVALIDATION - Epoch 020: | Loss: 0.72966 | Acc: 52.000\n##############################\nTRAIN - Epoch 021: | Loss: 0.85253 | Acc: 59.833\nVALIDATION - Epoch 021: | Loss: 0.76238 | Acc: 42.286\n##############################\nTRAIN - Epoch 022: | Loss: 0.69891 | Acc: 52.500\nVALIDATION - Epoch 022: | Loss: 0.82093 | Acc: 67.000\n##############################\nTRAIN - Epoch 023: | Loss: 0.85719 | Acc: 53.167\nVALIDATION - Epoch 023: | Loss: 0.67072 | Acc: 61.429\n##############################\nTRAIN - Epoch 024: | Loss: 0.78283 | Acc: 53.333\nVALIDATION - Epoch 024: | Loss: 0.91105 | Acc: 39.000\n##############################\nTRAIN - Epoch 025: | Loss: 0.87583 | Acc: 56.667\nVALIDATION - Epoch 025: | Loss: 0.67890 | Acc: 56.571\n##############################\nTRAIN - Epoch 026: | Loss: 0.68902 | Acc: 55.667\nVALIDATION - Epoch 026: | Loss: 0.68484 | Acc: 67.000\n##############################\nTRAIN - Epoch 027: | Loss: 0.76001 | Acc: 54.167\nVALIDATION - Epoch 027: | Loss: 0.72783 | Acc: 47.286\n##############################\nTRAIN - Epoch 028: | Loss: 0.73050 | Acc: 61.000\nVALIDATION - Epoch 028: | Loss: 0.66022 | Acc: 65.000\n##############################\nTRAIN - Epoch 029: | Loss: 0.66077 | Acc: 65.000\nVALIDATION - Epoch 029: | Loss: 0.65090 | Acc: 67.000\n##############################\nTRAIN - Epoch 030: | Loss: 0.70403 | Acc: 65.833\nVALIDATION - Epoch 030: | Loss: 0.66573 | Acc: 61.286\n##############################\nTRAIN - Epoch 031: | Loss: 0.64839 | Acc: 62.500\nVALIDATION - Epoch 031: | Loss: 0.64834 | Acc: 65.571\n##############################\nTRAIN - Epoch 032: | Loss: 0.65632 | Acc: 63.000\nVALIDATION - Epoch 032: | Loss: 0.66905 | Acc: 61.286\n##############################\nTRAIN - Epoch 033: | Loss: 0.64680 | Acc: 64.500\nVALIDATION - Epoch 033: | Loss: 0.65073 | Acc: 66.714\n##############################\nTRAIN - Epoch 034: | Loss: 0.64542 | Acc: 62.500\nVALIDATION - Epoch 034: | Loss: 0.64508 | Acc: 66.857\n##############################\nTRAIN - Epoch 035: | Loss: 0.64151 | Acc: 63.500\nVALIDATION - Epoch 035: | Loss: 0.65400 | Acc: 63.857\n##############################\nTRAIN - Epoch 036: | Loss: 0.64110 | Acc: 63.000\nVALIDATION - Epoch 036: | Loss: 0.65057 | Acc: 65.143\n##############################\nTRAIN - Epoch 037: | Loss: 0.64223 | Acc: 63.500\nVALIDATION - Epoch 037: | Loss: 0.65102 | Acc: 64.429\n##############################\nTRAIN - Epoch 038: | Loss: 0.64147 | Acc: 63.500\nVALIDATION - Epoch 038: | Loss: 0.65202 | Acc: 63.286\n##############################\nTRAIN - Epoch 039: | Loss: 0.64109 | Acc: 64.000\nVALIDATION - Epoch 039: | Loss: 0.64928 | Acc: 65.429\n##############################\nTRAIN - Epoch 040: | Loss: 0.64085 | Acc: 64.000\nVALIDATION - Epoch 040: | Loss: 0.65003 | Acc: 65.000\n##############################\nTRAIN - Epoch 041: | Loss: 0.64064 | Acc: 64.000\nVALIDATION - Epoch 041: | Loss: 0.65152 | Acc: 64.000\n##############################\nTRAIN - Epoch 042: | Loss: 0.64079 | Acc: 63.500\nVALIDATION - Epoch 042: | Loss: 0.65060 | Acc: 64.286\n##############################\nTRAIN - Epoch 043: | Loss: 0.64082 | Acc: 64.500\nVALIDATION - Epoch 043: | Loss: 0.65051 | Acc: 64.286\n##############################\nTRAIN - Epoch 044: | Loss: 0.64073 | Acc: 64.000\nVALIDATION - Epoch 044: | Loss: 0.65086 | Acc: 64.000\n##############################\nTRAIN - Epoch 045: | Loss: 0.64072 | Acc: 64.000\nVALIDATION - Epoch 045: | Loss: 0.65051 | Acc: 64.000\n##############################\nTRAIN - Epoch 046: | Loss: 0.64070 | Acc: 64.000\nVALIDATION - Epoch 046: | Loss: 0.65062 | Acc: 64.000\n##############################\nTRAIN - Epoch 047: | Loss: 0.64068 | Acc: 64.000\nVALIDATION - Epoch 047: | Loss: 0.65078 | Acc: 64.000\n##############################\nTRAIN - Epoch 048: | Loss: 0.64070 | Acc: 64.000\nVALIDATION - Epoch 048: | Loss: 0.65059 | Acc: 64.000\n##############################\nTRAIN - Epoch 049: | Loss: 0.64069 | Acc: 64.000\nVALIDATION - Epoch 049: | Loss: 0.65064 | Acc: 64.000\n##############################\nTRAIN - Epoch 050: | Loss: 0.64068 | Acc: 64.000\nVALIDATION - Epoch 050: | Loss: 0.65071 | Acc: 64.000\n##############################\nTRAIN - Epoch 051: | Loss: 0.64068 | Acc: 64.000\nVALIDATION - Epoch 051: | Loss: 0.65064 | Acc: 64.000\n##############################\nTRAIN - Epoch 052: | Loss: 0.64067 | Acc: 64.000\nVALIDATION - Epoch 052: | Loss: 0.65067 | Acc: 64.000\n##############################\nTRAIN - Epoch 053: | Loss: 0.64066 | Acc: 64.000\nVALIDATION - Epoch 053: | Loss: 0.65067 | Acc: 64.000\n##############################\nTRAIN - Epoch 054: | Loss: 0.64066 | Acc: 64.000\nVALIDATION - Epoch 054: | Loss: 0.65065 | Acc: 64.000\n##############################\nTRAIN - Epoch 055: | Loss: 0.64066 | Acc: 64.000\nVALIDATION - Epoch 055: | Loss: 0.65068 | Acc: 64.000\n##############################\nTRAIN - Epoch 056: | Loss: 0.64065 | Acc: 64.000\nVALIDATION - Epoch 056: | Loss: 0.65067 | Acc: 64.000\n##############################\nTRAIN - Epoch 057: | Loss: 0.64065 | Acc: 64.000\nVALIDATION - Epoch 057: | Loss: 0.65067 | Acc: 64.000\n##############################\nTRAIN - Epoch 058: | Loss: 0.64065 | Acc: 64.000\nVALIDATION - Epoch 058: | Loss: 0.65068 | Acc: 64.000\n##############################\nTRAIN - Epoch 059: | Loss: 0.64065 | Acc: 64.000\nVALIDATION - Epoch 059: | Loss: 0.65068 | Acc: 64.000\n##############################\nTRAIN - Epoch 060: | Loss: 0.64065 | Acc: 64.000\nVALIDATION - Epoch 060: | Loss: 0.65068 | Acc: 64.000\n##############################\nTRAIN - Epoch 061: | Loss: 0.64064 | Acc: 64.000\nVALIDATION - Epoch 061: | Loss: 0.65069 | Acc: 64.000\n##############################\nTRAIN - Epoch 062: | Loss: 0.64064 | Acc: 64.000\nVALIDATION - Epoch 062: | Loss: 0.65069 | Acc: 64.000\n##############################\nTRAIN - Epoch 063: | Loss: 0.64064 | Acc: 64.000\nVALIDATION - Epoch 063: | Loss: 0.65069 | Acc: 64.000\n##############################\nTRAIN - Epoch 064: | Loss: 0.64064 | Acc: 64.000\nVALIDATION - Epoch 064: | Loss: 0.65070 | Acc: 64.000\n##############################\nTRAIN - Epoch 065: | Loss: 0.64064 | Acc: 64.000\nVALIDATION - Epoch 065: | Loss: 0.65070 | Acc: 64.000\n##############################\nTRAIN - Epoch 066: | Loss: 0.64064 | Acc: 64.000\nVALIDATION - Epoch 066: | Loss: 0.65070 | Acc: 64.000\n##############################\nTRAIN - Epoch 067: | Loss: 0.64064 | Acc: 64.000\nVALIDATION - Epoch 067: | Loss: 0.65070 | Acc: 64.000\n##############################\nTRAIN - Epoch 068: | Loss: 0.64064 | Acc: 64.000\nVALIDATION - Epoch 068: | Loss: 0.65070 | Acc: 64.000\n##############################\nTRAIN - Epoch 069: | Loss: 0.64064 | Acc: 64.000\nVALIDATION - Epoch 069: | Loss: 0.65070 | Acc: 63.857\n##############################\nTRAIN - Epoch 070: | Loss: 0.64064 | Acc: 64.000\nVALIDATION - Epoch 070: | Loss: 0.65070 | Acc: 63.857\n##############################\nTRAIN - Epoch 071: | Loss: 0.64064 | Acc: 64.000\nVALIDATION - Epoch 071: | Loss: 0.65070 | Acc: 63.857\n##############################\nTRAIN - Epoch 072: | Loss: 0.64063 | Acc: 64.000\nVALIDATION - Epoch 072: | Loss: 0.65070 | Acc: 63.857\n##############################\nTRAIN - Epoch 073: | Loss: 0.64063 | Acc: 64.000\nVALIDATION - Epoch 073: | Loss: 0.65070 | Acc: 63.857\n##############################\nTRAIN - Epoch 074: | Loss: 0.64063 | Acc: 64.000\nVALIDATION - Epoch 074: | Loss: 0.65070 | Acc: 63.857\n##############################\nTRAIN - Epoch 075: | Loss: 0.64063 | Acc: 64.000\nVALIDATION - Epoch 075: | Loss: 0.65070 | Acc: 63.857\n##############################\nTRAIN - Epoch 076: | Loss: 0.64063 | Acc: 64.000\nVALIDATION - Epoch 076: | Loss: 0.65069 | Acc: 63.857\n##############################\nTRAIN - Epoch 077: | Loss: 0.64063 | Acc: 64.000\nVALIDATION - Epoch 077: | Loss: 0.65069 | Acc: 63.857\n##############################\nTRAIN - Epoch 078: | Loss: 0.64063 | Acc: 64.000\nVALIDATION - Epoch 078: | Loss: 0.65068 | Acc: 63.857\n##############################\nTRAIN - Epoch 079: | Loss: 0.64063 | Acc: 64.000\nVALIDATION - Epoch 079: | Loss: 0.65068 | Acc: 63.857\n##############################\nTRAIN - Epoch 080: | Loss: 0.64063 | Acc: 64.000\nVALIDATION - Epoch 080: | Loss: 0.65067 | Acc: 63.857\n##############################\n",
     "output_type": "stream",
     "data": {}
    }
   ],
   "execution_count": null
  },
  {
   "cell_type": "code",
   "metadata": {
    "tags": [],
    "cell_id": "00050-c5c83117-a877-4df6-9f96-49b4fc555da9",
    "deepnote_to_be_reexecuted": true,
    "source_hash": "7e5d85bd",
    "execution_start": 1641901557954,
    "execution_millis": 7,
    "deepnote_cell_type": "code"
   },
   "source": "y_true_test = y_test.values.ravel()\nprint(classification_report(y_true_test, y_pred_test))",
   "outputs": [
    {
     "name": "stdout",
     "text": "              precision    recall  f1-score   support\n\n           0       0.67      0.92      0.78       290\n           1       0.29      0.06      0.10       142\n\n    accuracy                           0.64       432\n   macro avg       0.48      0.49      0.44       432\nweighted avg       0.54      0.64      0.55       432\n\n",
     "output_type": "stream",
     "data": {}
    }
   ],
   "execution_count": null
  },
  {
   "cell_type": "code",
   "metadata": {
    "tags": [],
    "cell_id": "00044-8399b7df-053e-4060-9292-34e7aeb7715c",
    "deepnote_to_be_reexecuted": true,
    "source_hash": "bf15212c",
    "execution_start": 1641901557965,
    "execution_millis": 303,
    "deepnote_output_heights": [
     498
    ],
    "deepnote_cell_type": "code"
   },
   "source": "plt.plot(losses_train,'-')\nplt.plot(losses_test,'-.')\nplt.xlabel('Epochs')\nplt.ylabel('Loss')\nplt.legend(['Train','Test'])\nplt.title('Train vs Test Losses')\n \nplt.show()",
   "outputs": [
    {
     "data": {
      "text/plain": "<Figure size 720x576 with 1 Axes>",
      "image/png": "[encoded data removed]"
     },
     "metadata": {
      "needs_background": "light",
      "image/png": {
       "width": 615,
       "height": 496
      }
     },
     "output_type": "display_data"
    }
   ],
   "execution_count": null
  },
  {
   "cell_type": "code",
   "metadata": {
    "tags": [],
    "cell_id": "00045-06a2851b-245f-4abe-ad17-b94ecefda0e1",
    "deepnote_to_be_reexecuted": true,
    "source_hash": "3c4373f7",
    "execution_start": 1641901558279,
    "execution_millis": 338,
    "deepnote_output_heights": [
     498
    ],
    "deepnote_cell_type": "code"
   },
   "source": "plt.plot(accuracies_train,'-')\nplt.plot(accuracies_test,'-.')\nplt.xlabel('Epochs')\nplt.ylabel('Accuracy')\nplt.legend(['Train','Test'])\nplt.title('Train vs Test Accuracy')\n \nplt.show()",
   "outputs": [
    {
     "data": {
      "text/plain": "<Figure size 720x576 with 1 Axes>",
      "image/png": "[encoded data removed]"
     },
     "metadata": {
      "needs_background": "light",
      "image/png": {
       "width": 615,
       "height": 496
      }
     },
     "output_type": "display_data"
    }
   ],
   "execution_count": null
  },
  {
   "cell_type": "markdown",
   "source": "## Loading MONK-3 dataset",
   "metadata": {
    "tags": [],
    "cell_id": "00044-64c876f1-77b0-40c7-a308-cfce87e5636a",
    "deepnote_cell_type": "markdown"
   }
  },
  {
   "cell_type": "code",
   "metadata": {
    "tags": [],
    "cell_id": "00044-2ee9b7c9-0e51-4fc9-8997-a4ff5ef1c5ce",
    "deepnote_to_be_reexecuted": true,
    "source_hash": "c72e9b65",
    "execution_start": 1641901558620,
    "execution_millis": 9,
    "deepnote_cell_type": "code"
   },
   "source": "#read train dataset\ndf_monk3_train = pd.read_csv('./data/MONK/monks-3.train', sep=\" \", skipinitialspace=True, names=['class','a1','a2','a3','a4','a5','a6','id'])\ndf_monk3_train.drop(labels='id', axis=1, inplace=True)\n\n#read test dataset\ndf_monk3_test = pd.read_csv('./data/MONK/monks-3.test', sep=\" \", skipinitialspace=True,  names=['class','a1','a2','a3','a4','a5','a6','id'])\ndf_monk3_test.drop(labels='id', axis=1, inplace=True)",
   "outputs": [],
   "execution_count": null
  },
  {
   "cell_type": "code",
   "metadata": {
    "tags": [],
    "cell_id": "00046-ba8d6b5d-5e22-4e88-9150-c683245f3a59",
    "deepnote_to_be_reexecuted": true,
    "source_hash": "f697c2a7",
    "execution_start": 1641901558660,
    "execution_millis": 6,
    "deepnote_cell_type": "code"
   },
   "source": "df_monk3_train.head()",
   "outputs": [
    {
     "output_type": "execute_result",
     "execution_count": 58,
     "data": {
      "application/vnd.deepnote.dataframe.v3+json": {
       "column_count": 7,
       "row_count": 5,
       "columns": [
        {
         "name": "class",
         "dtype": "int64",
         "stats": {
          "unique_count": 2,
          "nan_count": 0,
          "min": "0",
          "max": "1",
          "histogram": [
           {
            "bin_start": 0,
            "bin_end": 0.1,
            "count": 2
           },
           {
            "bin_start": 0.1,
            "bin_end": 0.2,
            "count": 0
           },
           {
            "bin_start": 0.2,
            "bin_end": 0.30000000000000004,
            "count": 0
           },
           {
            "bin_start": 0.30000000000000004,
            "bin_end": 0.4,
            "count": 0
           },
           {
            "bin_start": 0.4,
            "bin_end": 0.5,
            "count": 0
           },
           {
            "bin_start": 0.5,
            "bin_end": 0.6000000000000001,
            "count": 0
           },
           {
            "bin_start": 0.6000000000000001,
            "bin_end": 0.7000000000000001,
            "count": 0
           },
           {
            "bin_start": 0.7000000000000001,
            "bin_end": 0.8,
            "count": 0
           },
           {
            "bin_start": 0.8,
            "bin_end": 0.9,
            "count": 0
           },
           {
            "bin_start": 0.9,
            "bin_end": 1,
            "count": 3
           }
          ]
         }
        },
        {
         "name": "a1",
         "dtype": "int64",
         "stats": {
          "unique_count": 1,
          "nan_count": 0,
          "min": "1",
          "max": "1",
          "histogram": [
           {
            "bin_start": 0.5,
            "bin_end": 0.6,
            "count": 0
           },
           {
            "bin_start": 0.6,
            "bin_end": 0.7,
            "count": 0
           },
           {
            "bin_start": 0.7,
            "bin_end": 0.8,
            "count": 0
           },
           {
            "bin_start": 0.8,
            "bin_end": 0.9,
            "count": 0
           },
           {
            "bin_start": 0.9,
            "bin_end": 1,
            "count": 0
           },
           {
            "bin_start": 1,
            "bin_end": 1.1,
            "count": 5
           },
           {
            "bin_start": 1.1,
            "bin_end": 1.2000000000000002,
            "count": 0
           },
           {
            "bin_start": 1.2000000000000002,
            "bin_end": 1.3,
            "count": 0
           },
           {
            "bin_start": 1.3,
            "bin_end": 1.4,
            "count": 0
           },
           {
            "bin_start": 1.4,
            "bin_end": 1.5,
            "count": 0
           }
          ]
         }
        },
        {
         "name": "a2",
         "dtype": "int64",
         "stats": {
          "unique_count": 1,
          "nan_count": 0,
          "min": "1",
          "max": "1",
          "histogram": [
           {
            "bin_start": 0.5,
            "bin_end": 0.6,
            "count": 0
           },
           {
            "bin_start": 0.6,
            "bin_end": 0.7,
            "count": 0
           },
           {
            "bin_start": 0.7,
            "bin_end": 0.8,
            "count": 0
           },
           {
            "bin_start": 0.8,
            "bin_end": 0.9,
            "count": 0
           },
           {
            "bin_start": 0.9,
            "bin_end": 1,
            "count": 0
           },
           {
            "bin_start": 1,
            "bin_end": 1.1,
            "count": 5
           },
           {
            "bin_start": 1.1,
            "bin_end": 1.2000000000000002,
            "count": 0
           },
           {
            "bin_start": 1.2000000000000002,
            "bin_end": 1.3,
            "count": 0
           },
           {
            "bin_start": 1.3,
            "bin_end": 1.4,
            "count": 0
           },
           {
            "bin_start": 1.4,
            "bin_end": 1.5,
            "count": 0
           }
          ]
         }
        },
        {
         "name": "a3",
         "dtype": "int64",
         "stats": {
          "unique_count": 1,
          "nan_count": 0,
          "min": "1",
          "max": "1",
          "histogram": [
           {
            "bin_start": 0.5,
            "bin_end": 0.6,
            "count": 0
           },
           {
            "bin_start": 0.6,
            "bin_end": 0.7,
            "count": 0
           },
           {
            "bin_start": 0.7,
            "bin_end": 0.8,
            "count": 0
           },
           {
            "bin_start": 0.8,
            "bin_end": 0.9,
            "count": 0
           },
           {
            "bin_start": 0.9,
            "bin_end": 1,
            "count": 0
           },
           {
            "bin_start": 1,
            "bin_end": 1.1,
            "count": 5
           },
           {
            "bin_start": 1.1,
            "bin_end": 1.2000000000000002,
            "count": 0
           },
           {
            "bin_start": 1.2000000000000002,
            "bin_end": 1.3,
            "count": 0
           },
           {
            "bin_start": 1.3,
            "bin_end": 1.4,
            "count": 0
           },
           {
            "bin_start": 1.4,
            "bin_end": 1.5,
            "count": 0
           }
          ]
         }
        },
        {
         "name": "a4",
         "dtype": "int64",
         "stats": {
          "unique_count": 1,
          "nan_count": 0,
          "min": "1",
          "max": "1",
          "histogram": [
           {
            "bin_start": 0.5,
            "bin_end": 0.6,
            "count": 0
           },
           {
            "bin_start": 0.6,
            "bin_end": 0.7,
            "count": 0
           },
           {
            "bin_start": 0.7,
            "bin_end": 0.8,
            "count": 0
           },
           {
            "bin_start": 0.8,
            "bin_end": 0.9,
            "count": 0
           },
           {
            "bin_start": 0.9,
            "bin_end": 1,
            "count": 0
           },
           {
            "bin_start": 1,
            "bin_end": 1.1,
            "count": 5
           },
           {
            "bin_start": 1.1,
            "bin_end": 1.2000000000000002,
            "count": 0
           },
           {
            "bin_start": 1.2000000000000002,
            "bin_end": 1.3,
            "count": 0
           },
           {
            "bin_start": 1.3,
            "bin_end": 1.4,
            "count": 0
           },
           {
            "bin_start": 1.4,
            "bin_end": 1.5,
            "count": 0
           }
          ]
         }
        },
        {
         "name": "a5",
         "dtype": "int64",
         "stats": {
          "unique_count": 4,
          "nan_count": 0,
          "min": "1",
          "max": "4",
          "histogram": [
           {
            "bin_start": 1,
            "bin_end": 1.3,
            "count": 1
           },
           {
            "bin_start": 1.3,
            "bin_end": 1.6,
            "count": 0
           },
           {
            "bin_start": 1.6,
            "bin_end": 1.9,
            "count": 0
           },
           {
            "bin_start": 1.9,
            "bin_end": 2.2,
            "count": 2
           },
           {
            "bin_start": 2.2,
            "bin_end": 2.5,
            "count": 0
           },
           {
            "bin_start": 2.5,
            "bin_end": 2.8,
            "count": 0
           },
           {
            "bin_start": 2.8,
            "bin_end": 3.1,
            "count": 1
           },
           {
            "bin_start": 3.1,
            "bin_end": 3.4,
            "count": 0
           },
           {
            "bin_start": 3.4,
            "bin_end": 3.6999999999999997,
            "count": 0
           },
           {
            "bin_start": 3.6999999999999997,
            "bin_end": 4,
            "count": 1
           }
          ]
         }
        },
        {
         "name": "a6",
         "dtype": "int64",
         "stats": {
          "unique_count": 2,
          "nan_count": 0,
          "min": "1",
          "max": "2",
          "histogram": [
           {
            "bin_start": 1,
            "bin_end": 1.1,
            "count": 3
           },
           {
            "bin_start": 1.1,
            "bin_end": 1.2,
            "count": 0
           },
           {
            "bin_start": 1.2,
            "bin_end": 1.3,
            "count": 0
           },
           {
            "bin_start": 1.3,
            "bin_end": 1.4,
            "count": 0
           },
           {
            "bin_start": 1.4,
            "bin_end": 1.5,
            "count": 0
           },
           {
            "bin_start": 1.5,
            "bin_end": 1.6,
            "count": 0
           },
           {
            "bin_start": 1.6,
            "bin_end": 1.7000000000000002,
            "count": 0
           },
           {
            "bin_start": 1.7000000000000002,
            "bin_end": 1.8,
            "count": 0
           },
           {
            "bin_start": 1.8,
            "bin_end": 1.9,
            "count": 0
           },
           {
            "bin_start": 1.9,
            "bin_end": 2,
            "count": 2
           }
          ]
         }
        },
        {
         "name": "_deepnote_index_column",
         "dtype": "int64"
        }
       ],
       "rows": [
        {
         "class": 1,
         "a1": 1,
         "a2": 1,
         "a3": 1,
         "a4": 1,
         "a5": 1,
         "a6": 2,
         "_deepnote_index_column": 0
        },
        {
         "class": 1,
         "a1": 1,
         "a2": 1,
         "a3": 1,
         "a4": 1,
         "a5": 2,
         "a6": 1,
         "_deepnote_index_column": 1
        },
        {
         "class": 1,
         "a1": 1,
         "a2": 1,
         "a3": 1,
         "a4": 1,
         "a5": 2,
         "a6": 2,
         "_deepnote_index_column": 2
        },
        {
         "class": 0,
         "a1": 1,
         "a2": 1,
         "a3": 1,
         "a4": 1,
         "a5": 3,
         "a6": 1,
         "_deepnote_index_column": 3
        },
        {
         "class": 0,
         "a1": 1,
         "a2": 1,
         "a3": 1,
         "a4": 1,
         "a5": 4,
         "a6": 1,
         "_deepnote_index_column": 4
        }
       ]
      },
      "text/plain": "   class  a1  a2  a3  a4  a5  a6\n0      1   1   1   1   1   1   2\n1      1   1   1   1   1   2   1\n2      1   1   1   1   1   2   2\n3      0   1   1   1   1   3   1\n4      0   1   1   1   1   4   1",
      "text/html": "<div>\n<style scoped>\n    .dataframe tbody tr th:only-of-type {\n        vertical-align: middle;\n    }\n\n    .dataframe tbody tr th {\n        vertical-align: top;\n    }\n\n    .dataframe thead th {\n        text-align: right;\n    }\n</style>\n<table border=\"1\" class=\"dataframe\">\n  <thead>\n    <tr style=\"text-align: right;\">\n      <th></th>\n      <th>class</th>\n      <th>a1</th>\n      <th>a2</th>\n      <th>a3</th>\n      <th>a4</th>\n      <th>a5</th>\n      <th>a6</th>\n    </tr>\n  </thead>\n  <tbody>\n    <tr>\n      <th>0</th>\n      <td>1</td>\n      <td>1</td>\n      <td>1</td>\n      <td>1</td>\n      <td>1</td>\n      <td>1</td>\n      <td>2</td>\n    </tr>\n    <tr>\n      <th>1</th>\n      <td>1</td>\n      <td>1</td>\n      <td>1</td>\n      <td>1</td>\n      <td>1</td>\n      <td>2</td>\n      <td>1</td>\n    </tr>\n    <tr>\n      <th>2</th>\n      <td>1</td>\n      <td>1</td>\n      <td>1</td>\n      <td>1</td>\n      <td>1</td>\n      <td>2</td>\n      <td>2</td>\n    </tr>\n    <tr>\n      <th>3</th>\n      <td>0</td>\n      <td>1</td>\n      <td>1</td>\n      <td>1</td>\n      <td>1</td>\n      <td>3</td>\n      <td>1</td>\n    </tr>\n    <tr>\n      <th>4</th>\n      <td>0</td>\n      <td>1</td>\n      <td>1</td>\n      <td>1</td>\n      <td>1</td>\n      <td>4</td>\n      <td>1</td>\n    </tr>\n  </tbody>\n</table>\n</div>"
     },
     "metadata": {}
    }
   ],
   "execution_count": null
  },
  {
   "cell_type": "code",
   "metadata": {
    "tags": [],
    "cell_id": "00047-434a1e4e-40a2-48f4-ac39-c4726e00c473",
    "deepnote_to_be_reexecuted": true,
    "source_hash": "ee54eef9",
    "execution_start": 1641901558699,
    "execution_millis": 20,
    "deepnote_cell_type": "code"
   },
   "source": "df_monk3_test.head()",
   "outputs": [
    {
     "output_type": "execute_result",
     "execution_count": 59,
     "data": {
      "application/vnd.deepnote.dataframe.v3+json": {
       "column_count": 7,
       "row_count": 5,
       "columns": [
        {
         "name": "class",
         "dtype": "int64",
         "stats": {
          "unique_count": 1,
          "nan_count": 0,
          "min": "1",
          "max": "1",
          "histogram": [
           {
            "bin_start": 0.5,
            "bin_end": 0.6,
            "count": 0
           },
           {
            "bin_start": 0.6,
            "bin_end": 0.7,
            "count": 0
           },
           {
            "bin_start": 0.7,
            "bin_end": 0.8,
            "count": 0
           },
           {
            "bin_start": 0.8,
            "bin_end": 0.9,
            "count": 0
           },
           {
            "bin_start": 0.9,
            "bin_end": 1,
            "count": 0
           },
           {
            "bin_start": 1,
            "bin_end": 1.1,
            "count": 5
           },
           {
            "bin_start": 1.1,
            "bin_end": 1.2000000000000002,
            "count": 0
           },
           {
            "bin_start": 1.2000000000000002,
            "bin_end": 1.3,
            "count": 0
           },
           {
            "bin_start": 1.3,
            "bin_end": 1.4,
            "count": 0
           },
           {
            "bin_start": 1.4,
            "bin_end": 1.5,
            "count": 0
           }
          ]
         }
        },
        {
         "name": "a1",
         "dtype": "int64",
         "stats": {
          "unique_count": 1,
          "nan_count": 0,
          "min": "1",
          "max": "1",
          "histogram": [
           {
            "bin_start": 0.5,
            "bin_end": 0.6,
            "count": 0
           },
           {
            "bin_start": 0.6,
            "bin_end": 0.7,
            "count": 0
           },
           {
            "bin_start": 0.7,
            "bin_end": 0.8,
            "count": 0
           },
           {
            "bin_start": 0.8,
            "bin_end": 0.9,
            "count": 0
           },
           {
            "bin_start": 0.9,
            "bin_end": 1,
            "count": 0
           },
           {
            "bin_start": 1,
            "bin_end": 1.1,
            "count": 5
           },
           {
            "bin_start": 1.1,
            "bin_end": 1.2000000000000002,
            "count": 0
           },
           {
            "bin_start": 1.2000000000000002,
            "bin_end": 1.3,
            "count": 0
           },
           {
            "bin_start": 1.3,
            "bin_end": 1.4,
            "count": 0
           },
           {
            "bin_start": 1.4,
            "bin_end": 1.5,
            "count": 0
           }
          ]
         }
        },
        {
         "name": "a2",
         "dtype": "int64",
         "stats": {
          "unique_count": 1,
          "nan_count": 0,
          "min": "1",
          "max": "1",
          "histogram": [
           {
            "bin_start": 0.5,
            "bin_end": 0.6,
            "count": 0
           },
           {
            "bin_start": 0.6,
            "bin_end": 0.7,
            "count": 0
           },
           {
            "bin_start": 0.7,
            "bin_end": 0.8,
            "count": 0
           },
           {
            "bin_start": 0.8,
            "bin_end": 0.9,
            "count": 0
           },
           {
            "bin_start": 0.9,
            "bin_end": 1,
            "count": 0
           },
           {
            "bin_start": 1,
            "bin_end": 1.1,
            "count": 5
           },
           {
            "bin_start": 1.1,
            "bin_end": 1.2000000000000002,
            "count": 0
           },
           {
            "bin_start": 1.2000000000000002,
            "bin_end": 1.3,
            "count": 0
           },
           {
            "bin_start": 1.3,
            "bin_end": 1.4,
            "count": 0
           },
           {
            "bin_start": 1.4,
            "bin_end": 1.5,
            "count": 0
           }
          ]
         }
        },
        {
         "name": "a3",
         "dtype": "int64",
         "stats": {
          "unique_count": 1,
          "nan_count": 0,
          "min": "1",
          "max": "1",
          "histogram": [
           {
            "bin_start": 0.5,
            "bin_end": 0.6,
            "count": 0
           },
           {
            "bin_start": 0.6,
            "bin_end": 0.7,
            "count": 0
           },
           {
            "bin_start": 0.7,
            "bin_end": 0.8,
            "count": 0
           },
           {
            "bin_start": 0.8,
            "bin_end": 0.9,
            "count": 0
           },
           {
            "bin_start": 0.9,
            "bin_end": 1,
            "count": 0
           },
           {
            "bin_start": 1,
            "bin_end": 1.1,
            "count": 5
           },
           {
            "bin_start": 1.1,
            "bin_end": 1.2000000000000002,
            "count": 0
           },
           {
            "bin_start": 1.2000000000000002,
            "bin_end": 1.3,
            "count": 0
           },
           {
            "bin_start": 1.3,
            "bin_end": 1.4,
            "count": 0
           },
           {
            "bin_start": 1.4,
            "bin_end": 1.5,
            "count": 0
           }
          ]
         }
        },
        {
         "name": "a4",
         "dtype": "int64",
         "stats": {
          "unique_count": 1,
          "nan_count": 0,
          "min": "1",
          "max": "1",
          "histogram": [
           {
            "bin_start": 0.5,
            "bin_end": 0.6,
            "count": 0
           },
           {
            "bin_start": 0.6,
            "bin_end": 0.7,
            "count": 0
           },
           {
            "bin_start": 0.7,
            "bin_end": 0.8,
            "count": 0
           },
           {
            "bin_start": 0.8,
            "bin_end": 0.9,
            "count": 0
           },
           {
            "bin_start": 0.9,
            "bin_end": 1,
            "count": 0
           },
           {
            "bin_start": 1,
            "bin_end": 1.1,
            "count": 5
           },
           {
            "bin_start": 1.1,
            "bin_end": 1.2000000000000002,
            "count": 0
           },
           {
            "bin_start": 1.2000000000000002,
            "bin_end": 1.3,
            "count": 0
           },
           {
            "bin_start": 1.3,
            "bin_end": 1.4,
            "count": 0
           },
           {
            "bin_start": 1.4,
            "bin_end": 1.5,
            "count": 0
           }
          ]
         }
        },
        {
         "name": "a5",
         "dtype": "int64",
         "stats": {
          "unique_count": 3,
          "nan_count": 0,
          "min": "1",
          "max": "3",
          "histogram": [
           {
            "bin_start": 1,
            "bin_end": 1.2,
            "count": 2
           },
           {
            "bin_start": 1.2,
            "bin_end": 1.4,
            "count": 0
           },
           {
            "bin_start": 1.4,
            "bin_end": 1.6,
            "count": 0
           },
           {
            "bin_start": 1.6,
            "bin_end": 1.8,
            "count": 0
           },
           {
            "bin_start": 1.8,
            "bin_end": 2,
            "count": 0
           },
           {
            "bin_start": 2,
            "bin_end": 2.2,
            "count": 2
           },
           {
            "bin_start": 2.2,
            "bin_end": 2.4000000000000004,
            "count": 0
           },
           {
            "bin_start": 2.4000000000000004,
            "bin_end": 2.6,
            "count": 0
           },
           {
            "bin_start": 2.6,
            "bin_end": 2.8,
            "count": 0
           },
           {
            "bin_start": 2.8,
            "bin_end": 3,
            "count": 1
           }
          ]
         }
        },
        {
         "name": "a6",
         "dtype": "int64",
         "stats": {
          "unique_count": 2,
          "nan_count": 0,
          "min": "1",
          "max": "2",
          "histogram": [
           {
            "bin_start": 1,
            "bin_end": 1.1,
            "count": 3
           },
           {
            "bin_start": 1.1,
            "bin_end": 1.2,
            "count": 0
           },
           {
            "bin_start": 1.2,
            "bin_end": 1.3,
            "count": 0
           },
           {
            "bin_start": 1.3,
            "bin_end": 1.4,
            "count": 0
           },
           {
            "bin_start": 1.4,
            "bin_end": 1.5,
            "count": 0
           },
           {
            "bin_start": 1.5,
            "bin_end": 1.6,
            "count": 0
           },
           {
            "bin_start": 1.6,
            "bin_end": 1.7000000000000002,
            "count": 0
           },
           {
            "bin_start": 1.7000000000000002,
            "bin_end": 1.8,
            "count": 0
           },
           {
            "bin_start": 1.8,
            "bin_end": 1.9,
            "count": 0
           },
           {
            "bin_start": 1.9,
            "bin_end": 2,
            "count": 2
           }
          ]
         }
        },
        {
         "name": "_deepnote_index_column",
         "dtype": "int64"
        }
       ],
       "rows": [
        {
         "class": 1,
         "a1": 1,
         "a2": 1,
         "a3": 1,
         "a4": 1,
         "a5": 1,
         "a6": 1,
         "_deepnote_index_column": 0
        },
        {
         "class": 1,
         "a1": 1,
         "a2": 1,
         "a3": 1,
         "a4": 1,
         "a5": 1,
         "a6": 2,
         "_deepnote_index_column": 1
        },
        {
         "class": 1,
         "a1": 1,
         "a2": 1,
         "a3": 1,
         "a4": 1,
         "a5": 2,
         "a6": 1,
         "_deepnote_index_column": 2
        },
        {
         "class": 1,
         "a1": 1,
         "a2": 1,
         "a3": 1,
         "a4": 1,
         "a5": 2,
         "a6": 2,
         "_deepnote_index_column": 3
        },
        {
         "class": 1,
         "a1": 1,
         "a2": 1,
         "a3": 1,
         "a4": 1,
         "a5": 3,
         "a6": 1,
         "_deepnote_index_column": 4
        }
       ]
      },
      "text/plain": "   class  a1  a2  a3  a4  a5  a6\n0      1   1   1   1   1   1   1\n1      1   1   1   1   1   1   2\n2      1   1   1   1   1   2   1\n3      1   1   1   1   1   2   2\n4      1   1   1   1   1   3   1",
      "text/html": "<div>\n<style scoped>\n    .dataframe tbody tr th:only-of-type {\n        vertical-align: middle;\n    }\n\n    .dataframe tbody tr th {\n        vertical-align: top;\n    }\n\n    .dataframe thead th {\n        text-align: right;\n    }\n</style>\n<table border=\"1\" class=\"dataframe\">\n  <thead>\n    <tr style=\"text-align: right;\">\n      <th></th>\n      <th>class</th>\n      <th>a1</th>\n      <th>a2</th>\n      <th>a3</th>\n      <th>a4</th>\n      <th>a5</th>\n      <th>a6</th>\n    </tr>\n  </thead>\n  <tbody>\n    <tr>\n      <th>0</th>\n      <td>1</td>\n      <td>1</td>\n      <td>1</td>\n      <td>1</td>\n      <td>1</td>\n      <td>1</td>\n      <td>1</td>\n    </tr>\n    <tr>\n      <th>1</th>\n      <td>1</td>\n      <td>1</td>\n      <td>1</td>\n      <td>1</td>\n      <td>1</td>\n      <td>1</td>\n      <td>2</td>\n    </tr>\n    <tr>\n      <th>2</th>\n      <td>1</td>\n      <td>1</td>\n      <td>1</td>\n      <td>1</td>\n      <td>1</td>\n      <td>2</td>\n      <td>1</td>\n    </tr>\n    <tr>\n      <th>3</th>\n      <td>1</td>\n      <td>1</td>\n      <td>1</td>\n      <td>1</td>\n      <td>1</td>\n      <td>2</td>\n      <td>2</td>\n    </tr>\n    <tr>\n      <th>4</th>\n      <td>1</td>\n      <td>1</td>\n      <td>1</td>\n      <td>1</td>\n      <td>1</td>\n      <td>3</td>\n      <td>1</td>\n    </tr>\n  </tbody>\n</table>\n</div>"
     },
     "metadata": {}
    }
   ],
   "execution_count": null
  },
  {
   "cell_type": "code",
   "metadata": {
    "tags": [],
    "cell_id": "00048-976b8ce9-9d2a-4e15-af94-6f3d7e5cf5bc",
    "deepnote_to_be_reexecuted": true,
    "source_hash": "232e4eb4",
    "execution_start": 1641901558720,
    "execution_millis": 369,
    "deepnote_output_heights": [
     21.1875,
     451
    ],
    "deepnote_cell_type": "code"
   },
   "source": "#plot class distribution in train data\nfig_size = plt.rcParams[\"figure.figsize\"]\nfig_size[0] = 10\nfig_size[1] = 8\nplt.rcParams[\"figure.figsize\"] = fig_size\n\ndf_monk3_train['class'].value_counts().plot(kind='pie', autopct='%1.0f%%', colors=['skyblue', 'orange'], explode=(0.05, 0.05))",
   "outputs": [
    {
     "output_type": "execute_result",
     "execution_count": 60,
     "data": {
      "text/plain": "<AxesSubplot:ylabel='class'>"
     },
     "metadata": {}
    },
    {
     "data": {
      "text/plain": "<Figure size 720x576 with 1 Axes>",
      "image/png": "[encoded data removed]"
     },
     "metadata": {
      "image/png": {
       "width": 463,
       "height": 449
      }
     },
     "output_type": "display_data"
    }
   ],
   "execution_count": null
  },
  {
   "cell_type": "code",
   "metadata": {
    "tags": [],
    "cell_id": "00049-cea85522-a529-4290-a1a1-da9de63c1afe",
    "deepnote_to_be_reexecuted": true,
    "source_hash": "aab28e19",
    "execution_start": 1641901558946,
    "execution_millis": 224,
    "deepnote_output_heights": [
     21.1875,
     451
    ],
    "deepnote_cell_type": "code"
   },
   "source": "#plot class distribution in test data\ndf_monk3_test['class'].value_counts().plot(kind='pie', autopct='%1.0f%%', colors=['skyblue', 'orange'], explode=(0.05, 0.05))",
   "outputs": [
    {
     "output_type": "execute_result",
     "execution_count": 61,
     "data": {
      "text/plain": "<AxesSubplot:ylabel='class'>"
     },
     "metadata": {}
    },
    {
     "data": {
      "text/plain": "<Figure size 720x576 with 1 Axes>",
      "image/png": "[encoded data removed]"
     },
     "metadata": {
      "image/png": {
       "width": 463,
       "height": 449
      }
     },
     "output_type": "display_data"
    }
   ],
   "execution_count": null
  },
  {
   "cell_type": "code",
   "metadata": {
    "tags": [],
    "cell_id": "00050-41bab7bb-c931-4bf5-9a6c-730c30b4cca9",
    "deepnote_to_be_reexecuted": true,
    "source_hash": "2d21808",
    "execution_start": 1641901559114,
    "execution_millis": 0,
    "deepnote_cell_type": "code"
   },
   "source": "#prepare train and test data\ntarget_train = df_monk3_train.pop('class')\ntarget_test = df_monk3_test.pop('class')\nX_train = df_monk3_train\ny_train = target_train\nX_test = df_monk3_test\ny_test = target_test",
   "outputs": [],
   "execution_count": null
  },
  {
   "cell_type": "code",
   "metadata": {
    "tags": [],
    "cell_id": "00051-ae6be9ff-5437-4878-a290-0527a2dd1fdd",
    "deepnote_to_be_reexecuted": true,
    "source_hash": "db007649",
    "execution_start": 1641901559115,
    "execution_millis": 0,
    "deepnote_cell_type": "code"
   },
   "source": "#create tensor for train and test data \nX_train = X_train.values #returns a ndarray\nX_test = X_test.values\nx_tensor =  torch.from_numpy(X_train).float()\ny_tensor =  torch.from_numpy(y_train.values.ravel()).float()\nxtest_tensor =  torch.from_numpy(X_test).float()\nytest_tensor =  torch.from_numpy(y_test.values.ravel()).float()",
   "outputs": [],
   "execution_count": null
  },
  {
   "cell_type": "code",
   "metadata": {
    "tags": [],
    "cell_id": "00052-93748273-d5e5-4112-947e-40de9e0b30ff",
    "deepnote_to_be_reexecuted": true,
    "source_hash": "ec6779cd",
    "execution_start": 1641901559115,
    "execution_millis": 0,
    "deepnote_cell_type": "code"
   },
   "source": "#prepare dataloader for training\ny_tensor = y_tensor.unsqueeze(1)\ntrain_ds = TensorDataset(x_tensor, y_tensor)\ntrain_loader = DataLoader(train_ds, batch_size=BATCH_SIZE)",
   "outputs": [],
   "execution_count": null
  },
  {
   "cell_type": "code",
   "metadata": {
    "tags": [],
    "cell_id": "00053-40e89f31-6d30-41ea-b14b-44b50bb2a7f5",
    "deepnote_to_be_reexecuted": true,
    "source_hash": "1f399bb4",
    "execution_start": 1641901559116,
    "execution_millis": 2,
    "deepnote_cell_type": "code"
   },
   "source": "#prepare dataloader for evaluating \nytest_tensor = ytest_tensor.unsqueeze(1)\ntest_ds = TensorDataset(xtest_tensor, ytest_tensor)\ntest_loader = DataLoader(test_ds, batch_size=64)",
   "outputs": [],
   "execution_count": null
  },
  {
   "cell_type": "code",
   "metadata": {
    "tags": [],
    "cell_id": "00054-8c17f9c3-ce5f-420c-b451-33f28c8528ca",
    "deepnote_to_be_reexecuted": true,
    "source_hash": "d98e1330",
    "execution_start": 1641901559123,
    "execution_millis": 3,
    "deepnote_cell_type": "code"
   },
   "source": "#define the model\nmodel = BinaryClassification(X_train.shape[1], 100)",
   "outputs": [],
   "execution_count": null
  },
  {
   "cell_type": "code",
   "metadata": {
    "tags": [],
    "cell_id": "00055-63698190-da41-4778-b07a-94baa60ad162",
    "deepnote_to_be_reexecuted": true,
    "source_hash": "e80a856e",
    "execution_start": 1641901559130,
    "execution_millis": 647,
    "deepnote_cell_type": "code"
   },
   "source": "#define the loss function \nloss_function = nn.BCELoss()\n#define the optimizer\noptimizer = torch.optim.SGD(model.parameters(), lr=LEARNING_RATE, momentum=MOMENTUM, weight_decay=L2, dampening=DAMPENING, nesterov=NESTEROV)",
   "outputs": [
    {
     "output_type": "error",
     "ename": "NameError",
     "evalue": "name 'DAMPENING' is not defined",
     "traceback": [
      "\u001b[0;31m---------------------------------------------------------------------------\u001b[0m",
      "\u001b[0;31mNameError\u001b[0m                                 Traceback (most recent call last)",
      "\u001b[0;32m<ipython-input-67-810d29f1503e>\u001b[0m in \u001b[0;36m<module>\u001b[0;34m\u001b[0m\n\u001b[1;32m      2\u001b[0m \u001b[0mloss_function\u001b[0m \u001b[0;34m=\u001b[0m \u001b[0mnn\u001b[0m\u001b[0;34m.\u001b[0m\u001b[0mBCELoss\u001b[0m\u001b[0;34m(\u001b[0m\u001b[0;34m)\u001b[0m\u001b[0;34m\u001b[0m\u001b[0;34m\u001b[0m\u001b[0m\n\u001b[1;32m      3\u001b[0m \u001b[0;31m#define the optimizer\u001b[0m\u001b[0;34m\u001b[0m\u001b[0;34m\u001b[0m\u001b[0;34m\u001b[0m\u001b[0m\n\u001b[0;32m----> 4\u001b[0;31m \u001b[0moptimizer\u001b[0m \u001b[0;34m=\u001b[0m \u001b[0mtorch\u001b[0m\u001b[0;34m.\u001b[0m\u001b[0moptim\u001b[0m\u001b[0;34m.\u001b[0m\u001b[0mSGD\u001b[0m\u001b[0;34m(\u001b[0m\u001b[0mmodel\u001b[0m\u001b[0;34m.\u001b[0m\u001b[0mparameters\u001b[0m\u001b[0;34m(\u001b[0m\u001b[0;34m)\u001b[0m\u001b[0;34m,\u001b[0m \u001b[0mlr\u001b[0m\u001b[0;34m=\u001b[0m\u001b[0mLEARNING_RATE\u001b[0m\u001b[0;34m,\u001b[0m \u001b[0mmomentum\u001b[0m\u001b[0;34m=\u001b[0m\u001b[0mMOMENTUM\u001b[0m\u001b[0;34m,\u001b[0m \u001b[0mweight_decay\u001b[0m\u001b[0;34m=\u001b[0m\u001b[0mL2\u001b[0m\u001b[0;34m,\u001b[0m \u001b[0mdampening\u001b[0m\u001b[0;34m=\u001b[0m\u001b[0mDAMPENING\u001b[0m\u001b[0;34m,\u001b[0m \u001b[0mnesterov\u001b[0m\u001b[0;34m=\u001b[0m\u001b[0mNESTEROV\u001b[0m\u001b[0;34m)\u001b[0m\u001b[0;34m\u001b[0m\u001b[0;34m\u001b[0m\u001b[0m\n\u001b[0m",
      "\u001b[0;31mNameError\u001b[0m: name 'DAMPENING' is not defined"
     ],
     "data": {}
    }
   ],
   "execution_count": null
  },
  {
   "cell_type": "code",
   "metadata": {
    "tags": [],
    "cell_id": "00056-81872e56-d4ce-442e-9a4d-2d4713afb1a9",
    "deepnote_to_be_reexecuted": true,
    "source_hash": "166c5776",
    "execution_start": 1641896373616,
    "execution_millis": 578,
    "deepnote_cell_type": "code"
   },
   "source": "#prepare empty lists to store accuracy and loss results\nlosses_train = []\naccuracies_train = []\nlosses_test = []\naccuracies_test = []\n\n#train and evaluate for each epoch\nfor epoch in range(1,EPOCHS+1): \n  model, losses_train, accuracies_train = TrainPhase(epoch, model, losses_train, accuracies_train, train_loader, loss_function, optimizer)\n  y_pred_test, losses_test, accuracies_test = Evaluate(epoch, model, losses_test, accuracies_test, test_loader, loss_function)\n  print(\"##############################\")\n",
   "outputs": [
    {
     "name": "stdout",
     "text": "TRAIN - Epoch 001: | Loss: 0.68085 | Acc: 58.500\nVALIDATION - Epoch 001: | Loss: 0.68353 | Acc: 58.143\n##############################\nTRAIN - Epoch 002: | Loss: 0.67941 | Acc: 56.500\nVALIDATION - Epoch 002: | Loss: 0.68253 | Acc: 57.571\n##############################\nTRAIN - Epoch 003: | Loss: 0.67810 | Acc: 59.500\nVALIDATION - Epoch 003: | Loss: 0.68161 | Acc: 57.714\n##############################\nTRAIN - Epoch 004: | Loss: 0.67689 | Acc: 60.500\nVALIDATION - Epoch 004: | Loss: 0.68078 | Acc: 58.143\n##############################\nTRAIN - Epoch 005: | Loss: 0.67578 | Acc: 61.000\nVALIDATION - Epoch 005: | Loss: 0.68001 | Acc: 57.429\n##############################\nTRAIN - Epoch 006: | Loss: 0.67475 | Acc: 60.000\nVALIDATION - Epoch 006: | Loss: 0.67930 | Acc: 57.429\n##############################\nTRAIN - Epoch 007: | Loss: 0.67378 | Acc: 58.500\nVALIDATION - Epoch 007: | Loss: 0.67864 | Acc: 57.000\n##############################\nTRAIN - Epoch 008: | Loss: 0.67288 | Acc: 57.000\nVALIDATION - Epoch 008: | Loss: 0.67802 | Acc: 56.714\n##############################\nTRAIN - Epoch 009: | Loss: 0.67204 | Acc: 56.000\nVALIDATION - Epoch 009: | Loss: 0.67744 | Acc: 56.714\n##############################\nTRAIN - Epoch 010: | Loss: 0.67124 | Acc: 57.000\nVALIDATION - Epoch 010: | Loss: 0.67689 | Acc: 56.000\n##############################\nTRAIN - Epoch 011: | Loss: 0.67049 | Acc: 57.000\nVALIDATION - Epoch 011: | Loss: 0.67636 | Acc: 55.571\n##############################\nTRAIN - Epoch 012: | Loss: 0.66977 | Acc: 58.000\nVALIDATION - Epoch 012: | Loss: 0.67586 | Acc: 55.714\n##############################\nTRAIN - Epoch 013: | Loss: 0.66908 | Acc: 59.000\nVALIDATION - Epoch 013: | Loss: 0.67537 | Acc: 55.571\n##############################\nTRAIN - Epoch 014: | Loss: 0.66843 | Acc: 59.000\nVALIDATION - Epoch 014: | Loss: 0.67490 | Acc: 54.857\n##############################\nTRAIN - Epoch 015: | Loss: 0.66780 | Acc: 59.500\nVALIDATION - Epoch 015: | Loss: 0.67445 | Acc: 54.286\n##############################\nTRAIN - Epoch 016: | Loss: 0.66719 | Acc: 59.500\nVALIDATION - Epoch 016: | Loss: 0.67401 | Acc: 54.857\n##############################\nTRAIN - Epoch 017: | Loss: 0.66660 | Acc: 59.500\nVALIDATION - Epoch 017: | Loss: 0.67357 | Acc: 54.571\n##############################\nTRAIN - Epoch 018: | Loss: 0.66602 | Acc: 60.500\nVALIDATION - Epoch 018: | Loss: 0.67315 | Acc: 54.857\n##############################\nTRAIN - Epoch 019: | Loss: 0.66547 | Acc: 60.500\nVALIDATION - Epoch 019: | Loss: 0.67273 | Acc: 53.571\n##############################\nTRAIN - Epoch 020: | Loss: 0.66492 | Acc: 60.500\nVALIDATION - Epoch 020: | Loss: 0.67232 | Acc: 53.286\n##############################\nTRAIN - Epoch 021: | Loss: 0.66439 | Acc: 59.500\nVALIDATION - Epoch 021: | Loss: 0.67191 | Acc: 53.286\n##############################\nTRAIN - Epoch 022: | Loss: 0.66387 | Acc: 59.000\nVALIDATION - Epoch 022: | Loss: 0.67151 | Acc: 53.143\n##############################\nTRAIN - Epoch 023: | Loss: 0.66336 | Acc: 59.000\nVALIDATION - Epoch 023: | Loss: 0.67111 | Acc: 53.429\n##############################\nTRAIN - Epoch 024: | Loss: 0.66285 | Acc: 59.000\nVALIDATION - Epoch 024: | Loss: 0.67071 | Acc: 53.571\n##############################\nTRAIN - Epoch 025: | Loss: 0.66236 | Acc: 59.000\nVALIDATION - Epoch 025: | Loss: 0.67031 | Acc: 53.571\n##############################\nTRAIN - Epoch 026: | Loss: 0.66187 | Acc: 59.000\nVALIDATION - Epoch 026: | Loss: 0.66992 | Acc: 53.571\n##############################\nTRAIN - Epoch 027: | Loss: 0.66139 | Acc: 59.000\nVALIDATION - Epoch 027: | Loss: 0.66953 | Acc: 53.286\n##############################\nTRAIN - Epoch 028: | Loss: 0.66091 | Acc: 59.000\nVALIDATION - Epoch 028: | Loss: 0.66913 | Acc: 53.286\n##############################\nTRAIN - Epoch 029: | Loss: 0.66044 | Acc: 59.000\nVALIDATION - Epoch 029: | Loss: 0.66874 | Acc: 53.571\n##############################\nTRAIN - Epoch 030: | Loss: 0.65997 | Acc: 59.000\nVALIDATION - Epoch 030: | Loss: 0.66835 | Acc: 53.714\n##############################\nTRAIN - Epoch 031: | Loss: 0.65951 | Acc: 59.000\nVALIDATION - Epoch 031: | Loss: 0.66796 | Acc: 53.714\n##############################\nTRAIN - Epoch 032: | Loss: 0.65905 | Acc: 59.000\nVALIDATION - Epoch 032: | Loss: 0.66757 | Acc: 54.000\n##############################\nTRAIN - Epoch 033: | Loss: 0.65859 | Acc: 59.000\nVALIDATION - Epoch 033: | Loss: 0.66719 | Acc: 54.000\n##############################\nTRAIN - Epoch 034: | Loss: 0.65814 | Acc: 59.000\nVALIDATION - Epoch 034: | Loss: 0.66680 | Acc: 54.000\n##############################\nTRAIN - Epoch 035: | Loss: 0.65769 | Acc: 59.500\nVALIDATION - Epoch 035: | Loss: 0.66641 | Acc: 54.571\n##############################\nTRAIN - Epoch 036: | Loss: 0.65724 | Acc: 59.500\nVALIDATION - Epoch 036: | Loss: 0.66602 | Acc: 54.571\n##############################\nTRAIN - Epoch 037: | Loss: 0.65680 | Acc: 59.500\nVALIDATION - Epoch 037: | Loss: 0.66563 | Acc: 54.571\n##############################\nTRAIN - Epoch 038: | Loss: 0.65635 | Acc: 59.500\nVALIDATION - Epoch 038: | Loss: 0.66525 | Acc: 55.000\n##############################\nTRAIN - Epoch 039: | Loss: 0.65591 | Acc: 59.500\nVALIDATION - Epoch 039: | Loss: 0.66486 | Acc: 55.000\n##############################\nTRAIN - Epoch 040: | Loss: 0.65548 | Acc: 59.500\nVALIDATION - Epoch 040: | Loss: 0.66447 | Acc: 55.000\n##############################\nTRAIN - Epoch 041: | Loss: 0.65504 | Acc: 59.500\nVALIDATION - Epoch 041: | Loss: 0.66409 | Acc: 55.000\n##############################\nTRAIN - Epoch 042: | Loss: 0.65461 | Acc: 59.500\nVALIDATION - Epoch 042: | Loss: 0.66370 | Acc: 55.000\n##############################\nTRAIN - Epoch 043: | Loss: 0.65418 | Acc: 59.500\nVALIDATION - Epoch 043: | Loss: 0.66331 | Acc: 55.286\n##############################\nTRAIN - Epoch 044: | Loss: 0.65375 | Acc: 59.500\nVALIDATION - Epoch 044: | Loss: 0.66293 | Acc: 55.571\n##############################\nTRAIN - Epoch 045: | Loss: 0.65332 | Acc: 59.500\nVALIDATION - Epoch 045: | Loss: 0.66254 | Acc: 55.571\n##############################\nTRAIN - Epoch 046: | Loss: 0.65290 | Acc: 59.500\nVALIDATION - Epoch 046: | Loss: 0.66216 | Acc: 55.571\n##############################\nTRAIN - Epoch 047: | Loss: 0.65247 | Acc: 59.500\nVALIDATION - Epoch 047: | Loss: 0.66177 | Acc: 55.714\n##############################\nTRAIN - Epoch 048: | Loss: 0.65205 | Acc: 59.500\nVALIDATION - Epoch 048: | Loss: 0.66139 | Acc: 55.714\n##############################\nTRAIN - Epoch 049: | Loss: 0.65163 | Acc: 59.500\nVALIDATION - Epoch 049: | Loss: 0.66100 | Acc: 55.714\n##############################\nTRAIN - Epoch 050: | Loss: 0.65121 | Acc: 59.500\nVALIDATION - Epoch 050: | Loss: 0.66062 | Acc: 55.714\n##############################\nTRAIN - Epoch 051: | Loss: 0.65079 | Acc: 59.500\nVALIDATION - Epoch 051: | Loss: 0.66024 | Acc: 55.571\n##############################\nTRAIN - Epoch 052: | Loss: 0.65037 | Acc: 59.500\nVALIDATION - Epoch 052: | Loss: 0.65986 | Acc: 56.000\n##############################\nTRAIN - Epoch 053: | Loss: 0.64996 | Acc: 59.500\nVALIDATION - Epoch 053: | Loss: 0.65948 | Acc: 56.571\n##############################\nTRAIN - Epoch 054: | Loss: 0.64955 | Acc: 59.500\nVALIDATION - Epoch 054: | Loss: 0.65909 | Acc: 57.143\n##############################\nTRAIN - Epoch 055: | Loss: 0.64913 | Acc: 59.500\nVALIDATION - Epoch 055: | Loss: 0.65871 | Acc: 57.143\n##############################\nTRAIN - Epoch 056: | Loss: 0.64872 | Acc: 59.500\nVALIDATION - Epoch 056: | Loss: 0.65833 | Acc: 57.429\n##############################\nTRAIN - Epoch 057: | Loss: 0.64831 | Acc: 59.500\nVALIDATION - Epoch 057: | Loss: 0.65796 | Acc: 57.143\n##############################\nTRAIN - Epoch 058: | Loss: 0.64791 | Acc: 59.500\nVALIDATION - Epoch 058: | Loss: 0.65758 | Acc: 57.143\n##############################\nTRAIN - Epoch 059: | Loss: 0.64750 | Acc: 59.500\nVALIDATION - Epoch 059: | Loss: 0.65720 | Acc: 57.286\n##############################\nTRAIN - Epoch 060: | Loss: 0.64710 | Acc: 60.500\nVALIDATION - Epoch 060: | Loss: 0.65682 | Acc: 57.286\n##############################\n",
     "output_type": "stream",
     "data": {}
    }
   ],
   "execution_count": null
  },
  {
   "cell_type": "code",
   "metadata": {
    "tags": [],
    "cell_id": "00057-9c3474b8-4ecb-4856-8c3c-047d980fbad8",
    "deepnote_to_be_reexecuted": true,
    "source_hash": "671b8c03",
    "execution_start": 1641896374094,
    "execution_millis": 101,
    "deepnote_cell_type": "code"
   },
   "source": "#control the accuracy between true and predict values on test data\ny_true_test = y_test.values.ravel()\nprint(classification_report(y_true_test, y_pred_test))",
   "outputs": [
    {
     "name": "stdout",
     "text": "              precision    recall  f1-score   support\n\n           0       0.53      0.86      0.66       204\n           1       0.72      0.32      0.44       228\n\n    accuracy                           0.57       432\n   macro avg       0.63      0.59      0.55       432\nweighted avg       0.63      0.57      0.54       432\n\n",
     "output_type": "stream",
     "data": {}
    }
   ],
   "execution_count": null
  },
  {
   "cell_type": "code",
   "metadata": {
    "tags": [],
    "cell_id": "00058-78764b02-9d16-4b03-8c8c-def5619ac1a9",
    "deepnote_to_be_reexecuted": true,
    "source_hash": "bf15212c",
    "execution_start": 1641896374095,
    "execution_millis": 357,
    "deepnote_output_heights": [
     498
    ],
    "deepnote_cell_type": "code"
   },
   "source": "plt.plot(losses_train,'-')\nplt.plot(losses_test,'-.')\nplt.xlabel('Epochs')\nplt.ylabel('Loss')\nplt.legend(['Train','Test'])\nplt.title('Train vs Test Losses')\n \nplt.show()",
   "outputs": [
    {
     "data": {
      "text/plain": "<Figure size 720x576 with 1 Axes>",
      "image/png": "[encoded data removed]"
     },
     "metadata": {
      "needs_background": "light",
      "image/png": {
       "width": 622,
       "height": 496
      }
     },
     "output_type": "display_data"
    }
   ],
   "execution_count": null
  },
  {
   "cell_type": "code",
   "metadata": {
    "tags": [],
    "cell_id": "00059-d806e608-4161-4a62-87a1-b94dd94ca3d9",
    "deepnote_to_be_reexecuted": true,
    "source_hash": "4f7d8f58",
    "execution_start": 1641896374461,
    "execution_millis": 323,
    "deepnote_output_heights": [
     498
    ],
    "deepnote_cell_type": "code"
   },
   "source": "#create an accuracy plot\nplt.plot(accuracies_train,'-')\nplt.plot(accuracies_test,'-.')\nplt.xlabel('Epochs')\nplt.ylabel('Accuracy')\nplt.legend(['Train','Test'])\nplt.title('Train vs Test Accuracy')\n \nplt.show()",
   "outputs": [
    {
     "data": {
      "text/plain": "<Figure size 720x576 with 1 Axes>",
      "image/png": "[encoded data removed]"
     },
     "metadata": {
      "needs_background": "light",
      "image/png": {
       "width": 615,
       "height": 496
      }
     },
     "output_type": "display_data"
    }
   ],
   "execution_count": null
  },
  {
   "cell_type": "markdown",
   "source": "## Defining model for regression task",
   "metadata": {
    "tags": [],
    "cell_id": "00064-add03f45-83e3-45cc-aa20-398093837579",
    "deepnote_cell_type": "markdown"
   }
  },
  {
   "cell_type": "code",
   "metadata": {
    "tags": [],
    "cell_id": "00065-41274349-97d0-4115-9b44-c9fcdb87fec5",
    "deepnote_to_be_reexecuted": false,
    "source_hash": "3afbb4cb",
    "execution_start": 1641936023277,
    "execution_millis": 8,
    "deepnote_cell_type": "code"
   },
   "source": "def mee(true_target, predicted_target): #assuming target is 2-dim matrix with x and y as columns\n    l = true_target.shape[0]\n    res = 0\n    \n    for p in range(l): #for p-th pattern in l (number of samples)\n        x_diff = np.square(true_target[p,0] - predicted_target[p,0]) #difference between the x value of the true and predicted target\n        y_diff = np.square(true_target[p,1] - predicted_target[p,1]) #difference between the y values of true and predicted target\n        sum_term = x_diff + y_diff\n        res = res + np.sqrt(sum_term)\n    res = res / l\n    \n    #return np.average([np.sqrt(np.square(true_target[p,0] - predicted_target[p,0]) + np.square(true_target[p,1] - predicted_target[p,1])) for p in range(l)]) #compact form\n    return res",
   "outputs": [],
   "execution_count": null
  },
  {
   "cell_type": "code",
   "metadata": {
    "tags": [],
    "cell_id": "00065-692a711a-d9b5-4482-b4aa-dce0c33f1d40",
    "deepnote_to_be_reexecuted": false,
    "source_hash": "c52ffc80",
    "execution_start": 1641936023288,
    "execution_millis": 12,
    "deepnote_cell_type": "code"
   },
   "source": "from sklearn.preprocessing import StandardScaler\n\nclass OutputDataset(Dataset):\n    def __init__(self, X, y, scale_data=True):\n        if not torch.is_tensor(X) and not torch.is_tensor(y):\n            # Apply scaling if necessary\n            if scale_data:\n                X = StandardScaler().fit_transform(X)\n                self.X = torch.from_numpy(X).float()\n                y = torch.from_numpy(y).float()\n                self.y = y.unsqueeze(1)\n        \n    def __len__(self):\n        return len(self.X)\n    \n    def __getitem__(self, i):\n        return self.X[i], self.y[i]",
   "outputs": [],
   "execution_count": null
  },
  {
   "cell_type": "code",
   "metadata": {
    "tags": [],
    "cell_id": "00064-330190a4-7a63-47b3-87cb-ffda998254ea",
    "deepnote_to_be_reexecuted": false,
    "source_hash": "5366251e",
    "execution_start": 1641936023300,
    "execution_millis": 9,
    "deepnote_cell_type": "code"
   },
   "source": "#define a neural network\nclass RegressionNet(nn.Module):\n    def __init__(self, n_input, n_hidden1, n_hidden2, n_output):\n        super(RegressionNet, self).__init__()\n        self.layer_in = nn.Linear(n_input, n_hidden1)\n        self.layer_1 = nn.Linear(n_hidden1, n_hidden2) \n        self.layer_out = nn.Linear(n_hidden2, n_output) \n        \n        self.relu = nn.ReLU(inplace=True)\n        self.sigmoid =  nn.Sigmoid()\n        #self.dropout = nn.Dropout(p=0.5)\n        self.batchnorm1 = nn.BatchNorm1d(n_hidden1)\n        self.batchnorm2 = nn.BatchNorm1d(n_hidden2)\n\n    def forward(self, inputs):\n        x = self.relu(self.layer_in(inputs))\n        #x = self.batchnorm1(x)\n        x = self.relu(self.layer_1(x))\n        #x = self.batchnorm2(x)\n        #x = self.dropout(x)\n\n        x = self.layer_out(x)\n        #out1 = self.last_fc(x)\n        \n        return x",
   "outputs": [],
   "execution_count": null
  },
  {
   "cell_type": "code",
   "metadata": {
    "tags": [],
    "cell_id": "00006-c17f7883-4cbb-46c4-a640-27e7f2ebf598",
    "deepnote_to_be_reexecuted": false,
    "source_hash": "44dfdda9",
    "deepnote_output_heights": [
     78.796875
    ],
    "allow_embed": false,
    "execution_start": 1641936023372,
    "execution_millis": 8,
    "deepnote_cell_type": "code"
   },
   "source": "#function to define the train phase\ndef TrainPhase_Cup(epochs, model, aggregated_losses, aggregated_accuracy, data_train, loss, optimizer):\n    model.train()\n    i = epochs\n\n    epoch_loss = 0\n    epoch_acc = 0\n    \n    for X_batch, y_batch in data_train:\n        X_batch, y_batch = X_batch.to(device), y_batch.to(device)\n        optimizer.zero_grad()\n       \n        y_pred = model(X_batch)\n        #y_pred1 = model(X_batch)\n        \n        single_loss = loss(y_pred, y_batch)\n        #single_loss1 = loss1(y_pred1, y_batch1)\n        #single_loss2 = loss2(y_pred2, y_batch2)\n        #single_loss = torch.add(single_loss1, single_loss2)\n\n        #acc = binary_acc(y_pred, y_batch)\n             \n        single_loss.backward()\n        optimizer.step()\n        \n        epoch_loss += single_loss.item()\n        #epoch_acc += acc.item()\n        \n    aggregated_losses.append(epoch_loss/len(data_train))\n    #aggregated_accuracy.append((epoch_acc/len(data_train))/100)\n    print(f'TRAIN - Epoch {i+0:03}: | Loss: {epoch_loss/len(data_train):.5f}')\n\n    #aggregated_losses.append(single_loss.item())\n    #aggregated_accuracy.append(acc/100)\n    #print(f'TRAIN - Epoch {i+0:03}: | Loss: {single_loss.item():.5f} | Acc: {acc:.3f}')\n    \n    return model, aggregated_losses",
   "outputs": [],
   "execution_count": null
  },
  {
   "cell_type": "code",
   "metadata": {
    "tags": [],
    "cell_id": "00007-71361c5c-030e-453b-9491-aadacd2ffb02",
    "deepnote_to_be_reexecuted": false,
    "source_hash": "f6fcde69",
    "deepnote_output_heights": [
     78.796875
    ],
    "allow_embed": false,
    "execution_start": 1641936023429,
    "execution_millis": 1,
    "deepnote_cell_type": "code"
   },
   "source": "#function to define the evaluate phase\ndef Evaluate_Cup(epochs, model, aggregated_losses, aggregated_accuracy, data_test, loss_f):\n    \n    i = epochs\n    y_pred_list = []\n    model.eval()\n        \n    epoch_loss = 0\n    epoch_acc = 0\n\n    with torch.no_grad():\n        for X_batch, y_batch in data_test:\n            X_batch, y_batch = X_batch.to(device), y_batch.to(device)\n\n            y_test_pred = model(X_batch)\n            #y_pred1, y_pred2 = model(X_batch)\n\n            loss = loss_f(y_test_pred, y_batch)\n            #loss1 = loss_f1(y_pred1, y_batch1)\n            #loss2 = loss_f2(y_pred2, y_batch2)\n            #loss = torch.add(loss1, loss2)\n            \n            #acc = binary_acc(y_test_pred, y_batch)\n\n            epoch_loss += loss.item()\n            #epoch_loss += loss.item()*X_batch.size(0)\n            #epoch_acc += acc.item()\n\n            y_pred_tag = torch.round(y_test_pred)\n            y_pred_list.append(y_pred_tag.cpu().numpy())\n    \n\n    #y_pred_list = [a.squeeze().tolist() for a in y_pred_list]\n\n    aggregated_losses.append(epoch_loss/len(data_test))\n    #aggregated_accuracy.append((epoch_acc/len(data_test))/100)\n    #print(f'TEST - Epoch {i+0:03}: | Loss: {epoch_loss/len(data_test):.5f} | Acc: {epoch_acc/len(data_test):.3f}')\n    print(f'VALIDATION - Epoch {i+0:03}: | Loss: {epoch_loss/len(data_test):.5f}')\n    \n    return aggregated_losses\n    ",
   "outputs": [],
   "execution_count": null
  },
  {
   "cell_type": "code",
   "source": "#function to define the evaluate phase\ndef Result_Cup(model, X_batch):\n    \n    y_pred_list = []\n    model.eval()\n\n    with torch.no_grad():\n        #for X_batch, _ in data_test:\n        X_batch = X_batch.to(device)\n\n        y_test_pred = model(X_batch)\n        y_pred_tag = torch.round(y_test_pred)\n        y_pred_list.append(y_pred_tag.cpu().numpy()) \n\n    #y_pred_list = [a.squeeze().tolist() for a in y_pred_list]    \n    return y_pred_list\n    ",
   "metadata": {
    "tags": [],
    "cell_id": "00086-5417568b-4837-4a1c-a91d-fc10b73c3fec",
    "deepnote_to_be_reexecuted": false,
    "source_hash": "a1f8240b",
    "execution_start": 1641937855109,
    "execution_millis": 0,
    "deepnote_cell_type": "code"
   },
   "outputs": [],
   "execution_count": null
  },
  {
   "cell_type": "markdown",
   "source": "## ML-Cup dataset",
   "metadata": {
    "tags": [],
    "cell_id": "00064-8f412851-229b-43fa-9fbe-b53e7ee9d525",
    "deepnote_cell_type": "markdown"
   }
  },
  {
   "cell_type": "markdown",
   "source": "### Loading the training and blind test dataset",
   "metadata": {
    "tags": [],
    "cell_id": "00066-ede8a63d-a700-4a7e-b6af-4cddab2e388a",
    "deepnote_cell_type": "markdown"
   }
  },
  {
   "cell_type": "code",
   "metadata": {
    "tags": [],
    "cell_id": "00065-463d3967-b915-4c16-af59-3e013c0f9f2d",
    "deepnote_to_be_reexecuted": false,
    "source_hash": "6cfa231b",
    "execution_start": 1641936971477,
    "execution_millis": 396,
    "deepnote_cell_type": "code"
   },
   "source": "df_visual = pd.read_csv('./data/ML-CUP21-TR.csv', usecols=[11,12], names=['idx','f1','f2','f3','f4','f5','f6','f7','f8','f9','f10', 'x','y'])\ndf_task_tr = pd.read_csv('./data/ML-CUP21-TR.csv', names=['idx','f1','f2','f3','f4','f5','f6','f7','f8','f9','f10', 'x','y'])\ndf_task_tr = df_task_tr[7:] # remove first 7 rows of comments\ndf_visual = df_visual[7:]\n\ndf_blind_ts = pd.read_csv('./data/ML-CUP21-TS.csv', names=['idx','f1','f2','f3','f4','f5','f6','f7','f8','f9','f10'])\ndf_blind_ts = df_blind_ts[7:]\ndf_blind_ts.drop(labels=\"idx\", axis=1, inplace=True)\n#blind_ts = df_blind_ts.values",
   "outputs": [],
   "execution_count": null
  },
  {
   "cell_type": "code",
   "metadata": {
    "tags": [],
    "cell_id": "00067-16357b97-03be-4f4c-8c52-1ed9c92021f8",
    "deepnote_to_be_reexecuted": false,
    "source_hash": "192dcf",
    "execution_start": 1641936971884,
    "execution_millis": 14,
    "deepnote_cell_type": "code"
   },
   "source": "df_task_tr.drop(labels=\"idx\", axis=1, inplace=True)",
   "outputs": [],
   "execution_count": null
  },
  {
   "cell_type": "code",
   "metadata": {
    "tags": [],
    "cell_id": "00068-881ff4a9-fed1-4062-8c31-1376b6a90c75",
    "deepnote_to_be_reexecuted": false,
    "source_hash": "3deb8984",
    "execution_start": 1641936971909,
    "execution_millis": 77,
    "deepnote_cell_type": "code"
   },
   "source": "y = df_task_tr[['x','y']]\nX = df_task_tr.drop(labels=['x','y'], axis=1)\nX_test = df_blind_ts\n\nprint(y.shape)",
   "outputs": [
    {
     "name": "stdout",
     "text": "(1477, 2)\n",
     "output_type": "stream",
     "data": {}
    }
   ],
   "execution_count": null
  },
  {
   "cell_type": "markdown",
   "source": "### Internal Test set\nWe split the training set obtaining an internal test set composed of the 20% of the training set, we will use this internal test set to test the generalization error",
   "metadata": {
    "tags": [],
    "cell_id": "00069-49a89f14-96df-40ac-82a5-ca980b9166b0",
    "deepnote_to_be_reexecuted": false,
    "source_hash": "192ce9ee",
    "execution_start": 1640859056745,
    "execution_millis": 8,
    "deepnote_cell_type": "markdown"
   }
  },
  {
   "cell_type": "code",
   "metadata": {
    "tags": [],
    "cell_id": "00070-6b05c6e5-568e-47cc-9e6a-9762ce8c7d38",
    "deepnote_to_be_reexecuted": false,
    "source_hash": "1a0e1af1",
    "execution_start": 1641936971983,
    "execution_millis": 15,
    "deepnote_output_heights": [
     597.015625
    ],
    "deepnote_cell_type": "code"
   },
   "source": "#prepare validation set\nX_train, X_validation, y_train, y_validation = train_test_split(X, y, test_size=0.1, random_state=420)\nprint(f\"X shape: {X_train.shape}\")\nprint(f\"X validation shape: {X_validation.shape}\")\nprint(f\"y shape: {y_train.shape}\")\nprint(f\"y validation shape: {y_validation.shape}\")",
   "outputs": [
    {
     "name": "stdout",
     "text": "X shape: (1329, 10)\nX validation shape: (148, 10)\ny shape: (1329, 2)\ny validation shape: (148, 2)\n",
     "output_type": "stream",
     "data": {}
    }
   ],
   "execution_count": null
  },
  {
   "cell_type": "code",
   "metadata": {
    "tags": [],
    "cell_id": "00076-dc65ff05-f39b-41a6-b617-e9839384342e",
    "deepnote_to_be_reexecuted": false,
    "source_hash": "381d0a8d",
    "execution_start": 1641936972088,
    "execution_millis": 9,
    "deepnote_cell_type": "code"
   },
   "source": "y_train = y_train[['x', 'y']]\n\ny_validation = y_validation[['x', 'y']]\n\nprint(f\"First output train shape: {y_train.shape}\")\nprint(f\"First output validation shape: {y_validation.shape}\")",
   "outputs": [
    {
     "name": "stdout",
     "text": "First output train shape: (1329, 2)\nFirst output validation shape: (148, 2)\n",
     "output_type": "stream",
     "data": {}
    }
   ],
   "execution_count": null
  },
  {
   "cell_type": "markdown",
   "metadata": {
    "tags": [],
    "cell_id": "00070-bec68122-9bb0-4b8a-8b72-e2171a1f91a4",
    "deepnote_to_be_reexecuted": false,
    "source_hash": "f169ffd6",
    "execution_start": 1641921926057,
    "execution_millis": 1,
    "deepnote_cell_type": "markdown"
   },
   "source": "#create tensor for train and test data \nX_train = X_train.values #returns a ndarray\nX_test = X_test.values\nX_validation = X_validation.values\n\nx_tensor =  torch.from_numpy(X_train).float()\ny_tensor =  torch.from_numpy(y_train.values).float()\nxval_tensor =  torch.from_numpy(X_validation).float()\nyval_tensor =  torch.from_numpy(y_validation.values).float()\n\nxtest_tensor =  torch.from_numpy(X_test).float()",
   "execution_count": 160
  },
  {
   "cell_type": "code",
   "metadata": {
    "tags": [],
    "cell_id": "00072-b8c93b50-4529-4093-83ba-f495bac56d58",
    "deepnote_to_be_reexecuted": false,
    "source_hash": "c0cc1a4b",
    "execution_start": 1641936972090,
    "execution_millis": 0,
    "deepnote_output_heights": [
     328.296875
    ],
    "deepnote_cell_type": "code"
   },
   "source": "#prepare dataloader for training\n#y1_tensor = y1_tensor.unsqueeze(1)\n#y2_tensor = y2_tensor.unsqueeze(1)\n\n#print(yval1_tensor.shape)\n#print(yval2_tensor.shape)\n\n#train_ds = TensorDataset(x_tensor, y_tensor)\ntrain_ds = OutputDataset(X_train.values, y_train.values)\n#train_ds = MultiOutputDataset(X_train, y1_train.values, y2_train.values)\ntrain_loader = DataLoader(train_ds, batch_size=BATCH_SIZE, shuffle=True)",
   "outputs": [],
   "execution_count": null
  },
  {
   "cell_type": "code",
   "metadata": {
    "tags": [],
    "cell_id": "00073-f22280d1-f815-4ee5-b663-90560af04611",
    "deepnote_to_be_reexecuted": false,
    "source_hash": "b9ce6332",
    "execution_start": 1641936972098,
    "execution_millis": 1,
    "deepnote_output_heights": [
     174.75
    ],
    "deepnote_cell_type": "code"
   },
   "source": "#prepare dataloader for validation \n#yval1_tensor = yval1_tensor.unsqueeze(1)\n#yval2_tensor = yval2_tensor.unsqueeze(1)\n\n#val_ds = TensorDataset(xval_tensor, yval_tensor)\nval_ds = OutputDataset(X_validation.values, y_validation.values)\n#val_ds = MultiOutputDataset(xval_tensor, y1_validation.values, y2_validation.values)\nval_loader = DataLoader(val_ds, batch_size=BATCH_SIZE, shuffle=False)",
   "outputs": [],
   "execution_count": null
  },
  {
   "cell_type": "code",
   "metadata": {
    "tags": [],
    "cell_id": "00074-5e70281b-f56c-46b6-9daa-76714cc6381b",
    "deepnote_to_be_reexecuted": false,
    "source_hash": "35992ef",
    "execution_start": 1641937030669,
    "execution_millis": 379,
    "deepnote_cell_type": "code"
   },
   "source": "#prepare dataloader for evaluating \n#ytest_tensor = ytest_tensor.unsqueeze(1)\nX_test = StandardScaler().fit_transform(X_test.values)\nxtest_tensor= torch.from_numpy(X_test).float()\n\ntest_ds = TensorDataset(xtest_tensor)\ntest_loader = DataLoader(test_ds, batch_size=1, shuffle=False)",
   "outputs": [
    {
     "output_type": "error",
     "ename": "AttributeError",
     "evalue": "'numpy.ndarray' object has no attribute 'values'",
     "traceback": [
      "\u001b[0;31m---------------------------------------------------------------------------\u001b[0m",
      "\u001b[0;31mAttributeError\u001b[0m                            Traceback (most recent call last)",
      "\u001b[0;32m<ipython-input-381-3d2356b62836>\u001b[0m in \u001b[0;36m<module>\u001b[0;34m\u001b[0m\n\u001b[1;32m      1\u001b[0m \u001b[0;31m#prepare dataloader for evaluating\u001b[0m\u001b[0;34m\u001b[0m\u001b[0;34m\u001b[0m\u001b[0;34m\u001b[0m\u001b[0m\n\u001b[1;32m      2\u001b[0m \u001b[0;31m#ytest_tensor = ytest_tensor.unsqueeze(1)\u001b[0m\u001b[0;34m\u001b[0m\u001b[0;34m\u001b[0m\u001b[0;34m\u001b[0m\u001b[0m\n\u001b[0;32m----> 3\u001b[0;31m \u001b[0mX_test\u001b[0m \u001b[0;34m=\u001b[0m \u001b[0mStandardScaler\u001b[0m\u001b[0;34m(\u001b[0m\u001b[0;34m)\u001b[0m\u001b[0;34m.\u001b[0m\u001b[0mfit_transform\u001b[0m\u001b[0;34m(\u001b[0m\u001b[0mX_test\u001b[0m\u001b[0;34m.\u001b[0m\u001b[0mvalues\u001b[0m\u001b[0;34m)\u001b[0m\u001b[0;34m\u001b[0m\u001b[0;34m\u001b[0m\u001b[0m\n\u001b[0m\u001b[1;32m      4\u001b[0m \u001b[0mxtest_tensor\u001b[0m\u001b[0;34m=\u001b[0m \u001b[0mtorch\u001b[0m\u001b[0;34m.\u001b[0m\u001b[0mfrom_numpy\u001b[0m\u001b[0;34m(\u001b[0m\u001b[0mX_test\u001b[0m\u001b[0;34m)\u001b[0m\u001b[0;34m.\u001b[0m\u001b[0mfloat\u001b[0m\u001b[0;34m(\u001b[0m\u001b[0;34m)\u001b[0m\u001b[0;34m\u001b[0m\u001b[0;34m\u001b[0m\u001b[0m\n\u001b[1;32m      5\u001b[0m \u001b[0;34m\u001b[0m\u001b[0m\n",
      "\u001b[0;31mAttributeError\u001b[0m: 'numpy.ndarray' object has no attribute 'values'"
     ],
     "data": {}
    }
   ],
   "execution_count": null
  },
  {
   "cell_type": "code",
   "source": "BATCH_SIZE = 64 #best_model.batch_size\nLEARNING_RATE = 0.001 #best_model.lr\nMOMENTUM = best_model.optimizer__momentum\nNESTEROV = best_model.optimizer__nesterov\nL2 = best_model.optimizer__weight_decay\nEPOCHS = 150 #best_model.max_epochs\nUNITS = best_model.module__hidden_units\nOPTIMIZER = best_model.optimizer",
   "metadata": {
    "tags": [],
    "cell_id": "00098-2ec9326b-3877-4cf6-b72f-8021820e440a",
    "deepnote_to_be_reexecuted": false,
    "source_hash": "75738f00",
    "execution_start": 1641936972127,
    "execution_millis": 48,
    "deepnote_cell_type": "code"
   },
   "outputs": [],
   "execution_count": null
  },
  {
   "cell_type": "markdown",
   "source": "### Training and evaluate",
   "metadata": {
    "tags": [],
    "cell_id": "00076-f865e5ac-6559-424c-aa18-88937f98f068",
    "deepnote_cell_type": "markdown"
   }
  },
  {
   "cell_type": "code",
   "metadata": {
    "tags": [],
    "cell_id": "00075-6ba97549-8809-4d2c-b9e7-2323350188d5",
    "deepnote_to_be_reexecuted": false,
    "source_hash": "fd0f26b6",
    "execution_start": 1641936972194,
    "execution_millis": 16,
    "deepnote_output_heights": [
     309.1875
    ],
    "deepnote_cell_type": "code"
   },
   "source": "#define the model\nmodel = RegressionNet(X_train.shape[1], 100, 50, 2)\nmodel.to(device)\nprint(model)",
   "outputs": [
    {
     "name": "stdout",
     "text": "RegressionNet(\n  (layer_in): Linear(in_features=10, out_features=100, bias=True)\n  (layer_1): Linear(in_features=100, out_features=50, bias=True)\n  (layer_out): Linear(in_features=50, out_features=2, bias=True)\n  (relu): ReLU(inplace=True)\n  (sigmoid): Sigmoid()\n  (batchnorm1): BatchNorm1d(100, eps=1e-05, momentum=0.1, affine=True, track_running_stats=True)\n  (batchnorm2): BatchNorm1d(50, eps=1e-05, momentum=0.1, affine=True, track_running_stats=True)\n)\n",
     "output_type": "stream",
     "data": {}
    }
   ],
   "execution_count": null
  },
  {
   "cell_type": "code",
   "metadata": {
    "tags": [],
    "cell_id": "00079-20f052a8-3127-494c-86ae-21595607aaec",
    "deepnote_to_be_reexecuted": false,
    "source_hash": "c04f9b04",
    "execution_start": 1641936972209,
    "execution_millis": 0,
    "deepnote_cell_type": "code"
   },
   "source": "#define the loss function \nloss_function1 = nn.MSELoss(reduction='mean')\n#loss_function2 = nn.MSELoss(reduction='mean')\n#define the optimizer\n#optimizer = torch.optim.SGD(model.parameters(), lr=LEARNING_RATE, momentum=MOMENTUM, weight_decay=L2, dampening=DAMPENING, nesterov=NESTEROV)\noptimizer = torch.optim.Adam(model.parameters(), lr=LEARNING_RATE)",
   "outputs": [],
   "execution_count": null
  },
  {
   "cell_type": "code",
   "metadata": {
    "tags": [],
    "cell_id": "00080-47553de8-36ca-40fc-8164-ef3f345bac7a",
    "deepnote_to_be_reexecuted": false,
    "source_hash": "5d3d4365",
    "execution_start": 1641936972247,
    "execution_millis": 25549,
    "deepnote_output_heights": [
     null,
     606.546875
    ],
    "deepnote_cell_type": "code"
   },
   "source": "#prepare empty lists to store accuracy and loss results\nlosses_train = []\naccuracies_train = []\nlosses_test = []\naccuracies_test = []\n\n#train and evaluate for each epoch\nfor epoch in range(1,EPOCHS+1): \n  model, losses_train = TrainPhase_Cup(epoch, model, losses_train, accuracies_train, train_loader, loss_function1, optimizer)\n  #y_pred_test, losses_test, accuracies_test = Evaluate(epoch, model, losses_test, accuracies_test, test_loader, loss_function)\n  losses_test = Evaluate_Cup(epoch, model, losses_test, accuracies_test, val_loader, loss_function1)\n  \n  print(\"##############################\")",
   "outputs": [
    {
     "name": "stdout",
     "text": "TRAIN - Epoch 001: | Loss: 218.75533\nVALIDATION - Epoch 001: | Loss: 196.52307\n##############################\nTRAIN - Epoch 002: | Loss: 167.01573\nVALIDATION - Epoch 002: | Loss: 126.84796\n##############################\nTRAIN - Epoch 003: | Loss: 89.79726\nVALIDATION - Epoch 003: | Loss: 59.00142\n##############################\nTRAIN - Epoch 004: | Loss: 46.42454\nVALIDATION - Epoch 004: | Loss: 45.88828\n##############################\nTRAIN - Epoch 005: | Loss: 40.05725\nVALIDATION - Epoch 005: | Loss: 40.32966\n##############################\nTRAIN - Epoch 006: | Loss: 37.11889\nVALIDATION - Epoch 006: | Loss: 38.67409\n##############################\nTRAIN - Epoch 007: | Loss: 36.29318\nVALIDATION - Epoch 007: | Loss: 38.08452\n##############################\nTRAIN - Epoch 008: | Loss: 36.24532\nVALIDATION - Epoch 008: | Loss: 37.76599\n##############################\nTRAIN - Epoch 009: | Loss: 35.89820\nVALIDATION - Epoch 009: | Loss: 37.51951\n##############################\nTRAIN - Epoch 010: | Loss: 35.61947\nVALIDATION - Epoch 010: | Loss: 37.27028\n##############################\nTRAIN - Epoch 011: | Loss: 35.38990\nVALIDATION - Epoch 011: | Loss: 37.01568\n##############################\nTRAIN - Epoch 012: | Loss: 35.10653\nVALIDATION - Epoch 012: | Loss: 36.81349\n##############################\nTRAIN - Epoch 013: | Loss: 35.11926\nVALIDATION - Epoch 013: | Loss: 36.64898\n##############################\nTRAIN - Epoch 014: | Loss: 34.93503\nVALIDATION - Epoch 014: | Loss: 36.45636\n##############################\nTRAIN - Epoch 015: | Loss: 34.78613\nVALIDATION - Epoch 015: | Loss: 36.31130\n##############################\nTRAIN - Epoch 016: | Loss: 34.58871\nVALIDATION - Epoch 016: | Loss: 36.11289\n##############################\nTRAIN - Epoch 017: | Loss: 34.30019\nVALIDATION - Epoch 017: | Loss: 35.96554\n##############################\nTRAIN - Epoch 018: | Loss: 34.23519\nVALIDATION - Epoch 018: | Loss: 35.83603\n##############################\nTRAIN - Epoch 019: | Loss: 34.13995\nVALIDATION - Epoch 019: | Loss: 35.71633\n##############################\nTRAIN - Epoch 020: | Loss: 33.94907\nVALIDATION - Epoch 020: | Loss: 35.50806\n##############################\nTRAIN - Epoch 021: | Loss: 34.08927\nVALIDATION - Epoch 021: | Loss: 35.34886\n##############################\nTRAIN - Epoch 022: | Loss: 33.78123\nVALIDATION - Epoch 022: | Loss: 35.28010\n##############################\nTRAIN - Epoch 023: | Loss: 33.76223\nVALIDATION - Epoch 023: | Loss: 35.09769\n##############################\nTRAIN - Epoch 024: | Loss: 33.62483\nVALIDATION - Epoch 024: | Loss: 35.05211\n##############################\nTRAIN - Epoch 025: | Loss: 33.47022\nVALIDATION - Epoch 025: | Loss: 34.85648\n##############################\nTRAIN - Epoch 026: | Loss: 33.26780\nVALIDATION - Epoch 026: | Loss: 34.73552\n##############################\nTRAIN - Epoch 027: | Loss: 33.26723\nVALIDATION - Epoch 027: | Loss: 34.62091\n##############################\nTRAIN - Epoch 028: | Loss: 33.19022\nVALIDATION - Epoch 028: | Loss: 34.51615\n##############################\nTRAIN - Epoch 029: | Loss: 33.10497\nVALIDATION - Epoch 029: | Loss: 34.49922\n##############################\nTRAIN - Epoch 030: | Loss: 32.92801\nVALIDATION - Epoch 030: | Loss: 34.29328\n##############################\nTRAIN - Epoch 031: | Loss: 32.90281\nVALIDATION - Epoch 031: | Loss: 34.24965\n##############################\nTRAIN - Epoch 032: | Loss: 32.80108\nVALIDATION - Epoch 032: | Loss: 34.15425\n##############################\nTRAIN - Epoch 033: | Loss: 32.82785\nVALIDATION - Epoch 033: | Loss: 34.00219\n##############################\nTRAIN - Epoch 034: | Loss: 32.64775\nVALIDATION - Epoch 034: | Loss: 34.02939\n##############################\nTRAIN - Epoch 035: | Loss: 32.64281\nVALIDATION - Epoch 035: | Loss: 33.86090\n##############################\nTRAIN - Epoch 036: | Loss: 32.50566\nVALIDATION - Epoch 036: | Loss: 33.78651\n##############################\nTRAIN - Epoch 037: | Loss: 32.35697\nVALIDATION - Epoch 037: | Loss: 33.68100\n##############################\nTRAIN - Epoch 038: | Loss: 32.24609\nVALIDATION - Epoch 038: | Loss: 33.64629\n##############################\nTRAIN - Epoch 039: | Loss: 32.19977\nVALIDATION - Epoch 039: | Loss: 33.56195\n##############################\nTRAIN - Epoch 040: | Loss: 32.17838\nVALIDATION - Epoch 040: | Loss: 33.50658\n##############################\nTRAIN - Epoch 041: | Loss: 32.18428\nVALIDATION - Epoch 041: | Loss: 33.47183\n##############################\nTRAIN - Epoch 042: | Loss: 32.17097\nVALIDATION - Epoch 042: | Loss: 33.40709\n##############################\nTRAIN - Epoch 043: | Loss: 32.05988\nVALIDATION - Epoch 043: | Loss: 33.32971\n##############################\nTRAIN - Epoch 044: | Loss: 32.08022\nVALIDATION - Epoch 044: | Loss: 33.29290\n##############################\nTRAIN - Epoch 045: | Loss: 31.98192\nVALIDATION - Epoch 045: | Loss: 33.26351\n##############################\nTRAIN - Epoch 046: | Loss: 31.98679\nVALIDATION - Epoch 046: | Loss: 33.22597\n##############################\nTRAIN - Epoch 047: | Loss: 31.93070\nVALIDATION - Epoch 047: | Loss: 33.17581\n##############################\nTRAIN - Epoch 048: | Loss: 31.86759\nVALIDATION - Epoch 048: | Loss: 33.16302\n##############################\nTRAIN - Epoch 049: | Loss: 31.93569\nVALIDATION - Epoch 049: | Loss: 33.11518\n##############################\nTRAIN - Epoch 050: | Loss: 31.81564\nVALIDATION - Epoch 050: | Loss: 33.06917\n##############################\nTRAIN - Epoch 051: | Loss: 31.80845\nVALIDATION - Epoch 051: | Loss: 33.03951\n##############################\nTRAIN - Epoch 052: | Loss: 31.70020\nVALIDATION - Epoch 052: | Loss: 33.06348\n##############################\nTRAIN - Epoch 053: | Loss: 31.74870\nVALIDATION - Epoch 053: | Loss: 33.04279\n##############################\nTRAIN - Epoch 054: | Loss: 31.80587\nVALIDATION - Epoch 054: | Loss: 32.99211\n##############################\nTRAIN - Epoch 055: | Loss: 31.77551\nVALIDATION - Epoch 055: | Loss: 32.96106\n##############################\nTRAIN - Epoch 056: | Loss: 31.72459\nVALIDATION - Epoch 056: | Loss: 32.92387\n##############################\nTRAIN - Epoch 057: | Loss: 31.71483\nVALIDATION - Epoch 057: | Loss: 32.94597\n##############################\nTRAIN - Epoch 058: | Loss: 31.63862\nVALIDATION - Epoch 058: | Loss: 32.87378\n##############################\nTRAIN - Epoch 059: | Loss: 31.63735\nVALIDATION - Epoch 059: | Loss: 32.86152\n##############################\nTRAIN - Epoch 060: | Loss: 31.61923\nVALIDATION - Epoch 060: | Loss: 32.86520\n##############################\nTRAIN - Epoch 061: | Loss: 31.62317\nVALIDATION - Epoch 061: | Loss: 32.81419\n##############################\nTRAIN - Epoch 062: | Loss: 31.56386\nVALIDATION - Epoch 062: | Loss: 32.79606\n##############################\nTRAIN - Epoch 063: | Loss: 31.67310\nVALIDATION - Epoch 063: | Loss: 32.95218\n##############################\nTRAIN - Epoch 064: | Loss: 31.70024\nVALIDATION - Epoch 064: | Loss: 32.81455\n##############################\nTRAIN - Epoch 065: | Loss: 31.46737\nVALIDATION - Epoch 065: | Loss: 32.77486\n##############################\nTRAIN - Epoch 066: | Loss: 31.63051\nVALIDATION - Epoch 066: | Loss: 32.74790\n##############################\nTRAIN - Epoch 067: | Loss: 31.63864\nVALIDATION - Epoch 067: | Loss: 32.84383\n##############################\nTRAIN - Epoch 068: | Loss: 31.56064\nVALIDATION - Epoch 068: | Loss: 32.72131\n##############################\nTRAIN - Epoch 069: | Loss: 31.57966\nVALIDATION - Epoch 069: | Loss: 32.74577\n##############################\nTRAIN - Epoch 070: | Loss: 31.65924\nVALIDATION - Epoch 070: | Loss: 32.87567\n##############################\nTRAIN - Epoch 071: | Loss: 31.61901\nVALIDATION - Epoch 071: | Loss: 32.81034\n##############################\nTRAIN - Epoch 072: | Loss: 31.53347\nVALIDATION - Epoch 072: | Loss: 32.83754\n##############################\nTRAIN - Epoch 073: | Loss: 31.63282\nVALIDATION - Epoch 073: | Loss: 32.67559\n##############################\nTRAIN - Epoch 074: | Loss: 31.46591\nVALIDATION - Epoch 074: | Loss: 32.65813\n##############################\nTRAIN - Epoch 075: | Loss: 31.48568\nVALIDATION - Epoch 075: | Loss: 32.64546\n##############################\nTRAIN - Epoch 076: | Loss: 31.51868\nVALIDATION - Epoch 076: | Loss: 32.64538\n##############################\nTRAIN - Epoch 077: | Loss: 31.46765\nVALIDATION - Epoch 077: | Loss: 32.65660\n##############################\nTRAIN - Epoch 078: | Loss: 31.52543\nVALIDATION - Epoch 078: | Loss: 32.62683\n##############################\nTRAIN - Epoch 079: | Loss: 31.49435\nVALIDATION - Epoch 079: | Loss: 32.65652\n##############################\nTRAIN - Epoch 080: | Loss: 31.54990\nVALIDATION - Epoch 080: | Loss: 32.68725\n##############################\nTRAIN - Epoch 081: | Loss: 31.35131\nVALIDATION - Epoch 081: | Loss: 32.61259\n##############################\nTRAIN - Epoch 082: | Loss: 31.46458\nVALIDATION - Epoch 082: | Loss: 32.63948\n##############################\nTRAIN - Epoch 083: | Loss: 31.46800\nVALIDATION - Epoch 083: | Loss: 32.59429\n##############################\nTRAIN - Epoch 084: | Loss: 31.40913\nVALIDATION - Epoch 084: | Loss: 32.62072\n##############################\nTRAIN - Epoch 085: | Loss: 31.65148\nVALIDATION - Epoch 085: | Loss: 32.59257\n##############################\nTRAIN - Epoch 086: | Loss: 31.42226\nVALIDATION - Epoch 086: | Loss: 32.67243\n##############################\nTRAIN - Epoch 087: | Loss: 31.51529\nVALIDATION - Epoch 087: | Loss: 32.65367\n##############################\nTRAIN - Epoch 088: | Loss: 31.38287\nVALIDATION - Epoch 088: | Loss: 32.56850\n##############################\nTRAIN - Epoch 089: | Loss: 31.39154\nVALIDATION - Epoch 089: | Loss: 32.61766\n##############################\nTRAIN - Epoch 090: | Loss: 31.47749\nVALIDATION - Epoch 090: | Loss: 32.66556\n##############################\nTRAIN - Epoch 091: | Loss: 31.55403\nVALIDATION - Epoch 091: | Loss: 32.58403\n##############################\nTRAIN - Epoch 092: | Loss: 31.55653\nVALIDATION - Epoch 092: | Loss: 32.68755\n##############################\nTRAIN - Epoch 093: | Loss: 31.42479\nVALIDATION - Epoch 093: | Loss: 32.65000\n##############################\nTRAIN - Epoch 094: | Loss: 31.44192\nVALIDATION - Epoch 094: | Loss: 32.61420\n##############################\nTRAIN - Epoch 095: | Loss: 31.46387\nVALIDATION - Epoch 095: | Loss: 32.60597\n##############################\nTRAIN - Epoch 096: | Loss: 31.48648\nVALIDATION - Epoch 096: | Loss: 32.73699\n##############################\nTRAIN - Epoch 097: | Loss: 31.47512\nVALIDATION - Epoch 097: | Loss: 32.55645\n##############################\nTRAIN - Epoch 098: | Loss: 31.47214\nVALIDATION - Epoch 098: | Loss: 32.68079\n##############################\nTRAIN - Epoch 099: | Loss: 31.44969\nVALIDATION - Epoch 099: | Loss: 32.60370\n##############################\nTRAIN - Epoch 100: | Loss: 31.41619\nVALIDATION - Epoch 100: | Loss: 32.54273\n##############################\nTRAIN - Epoch 101: | Loss: 31.49370\nVALIDATION - Epoch 101: | Loss: 32.57196\n##############################\nTRAIN - Epoch 102: | Loss: 31.46441\nVALIDATION - Epoch 102: | Loss: 32.58175\n##############################\nTRAIN - Epoch 103: | Loss: 31.38428\nVALIDATION - Epoch 103: | Loss: 32.53705\n##############################\nTRAIN - Epoch 104: | Loss: 31.47106\nVALIDATION - Epoch 104: | Loss: 32.52728\n##############################\nTRAIN - Epoch 105: | Loss: 31.36361\nVALIDATION - Epoch 105: | Loss: 32.55276\n##############################\nTRAIN - Epoch 106: | Loss: 31.44118\nVALIDATION - Epoch 106: | Loss: 32.54881\n##############################\nTRAIN - Epoch 107: | Loss: 31.42668\nVALIDATION - Epoch 107: | Loss: 32.70956\n##############################\nTRAIN - Epoch 108: | Loss: 31.44343\nVALIDATION - Epoch 108: | Loss: 32.52695\n##############################\nTRAIN - Epoch 109: | Loss: 31.32903\nVALIDATION - Epoch 109: | Loss: 32.58691\n##############################\nTRAIN - Epoch 110: | Loss: 31.48156\nVALIDATION - Epoch 110: | Loss: 32.73410\n##############################\nTRAIN - Epoch 111: | Loss: 31.48149\nVALIDATION - Epoch 111: | Loss: 32.54277\n##############################\nTRAIN - Epoch 112: | Loss: 31.40033\nVALIDATION - Epoch 112: | Loss: 32.53858\n##############################\nTRAIN - Epoch 113: | Loss: 31.34963\nVALIDATION - Epoch 113: | Loss: 32.53743\n##############################\nTRAIN - Epoch 114: | Loss: 31.46887\nVALIDATION - Epoch 114: | Loss: 32.60510\n##############################\nTRAIN - Epoch 115: | Loss: 31.36324\nVALIDATION - Epoch 115: | Loss: 32.52493\n##############################\nTRAIN - Epoch 116: | Loss: 31.29363\nVALIDATION - Epoch 116: | Loss: 32.52249\n##############################\nTRAIN - Epoch 117: | Loss: 31.40898\nVALIDATION - Epoch 117: | Loss: 32.53537\n##############################\nTRAIN - Epoch 118: | Loss: 31.37710\nVALIDATION - Epoch 118: | Loss: 32.55513\n##############################\nTRAIN - Epoch 119: | Loss: 31.68149\nVALIDATION - Epoch 119: | Loss: 32.68467\n##############################\nTRAIN - Epoch 120: | Loss: 31.39348\nVALIDATION - Epoch 120: | Loss: 32.53616\n##############################\nTRAIN - Epoch 121: | Loss: 31.33663\nVALIDATION - Epoch 121: | Loss: 32.51627\n##############################\nTRAIN - Epoch 122: | Loss: 31.35323\nVALIDATION - Epoch 122: | Loss: 32.52039\n##############################\nTRAIN - Epoch 123: | Loss: 31.46904\nVALIDATION - Epoch 123: | Loss: 32.59346\n##############################\nTRAIN - Epoch 124: | Loss: 31.40705\nVALIDATION - Epoch 124: | Loss: 32.51756\n##############################\nTRAIN - Epoch 125: | Loss: 31.48683\nVALIDATION - Epoch 125: | Loss: 32.51707\n##############################\nTRAIN - Epoch 126: | Loss: 31.40116\nVALIDATION - Epoch 126: | Loss: 32.52128\n##############################\nTRAIN - Epoch 127: | Loss: 31.34329\nVALIDATION - Epoch 127: | Loss: 32.50825\n##############################\nTRAIN - Epoch 128: | Loss: 31.49469\nVALIDATION - Epoch 128: | Loss: 32.56343\n##############################\nTRAIN - Epoch 129: | Loss: 31.37064\nVALIDATION - Epoch 129: | Loss: 32.52178\n##############################\nTRAIN - Epoch 130: | Loss: 31.43742\nVALIDATION - Epoch 130: | Loss: 32.50628\n##############################\nTRAIN - Epoch 131: | Loss: 31.42748\nVALIDATION - Epoch 131: | Loss: 32.50412\n##############################\nTRAIN - Epoch 132: | Loss: 31.45520\nVALIDATION - Epoch 132: | Loss: 32.52763\n##############################\nTRAIN - Epoch 133: | Loss: 31.33145\nVALIDATION - Epoch 133: | Loss: 32.49488\n##############################\nTRAIN - Epoch 134: | Loss: 31.39799\nVALIDATION - Epoch 134: | Loss: 32.63607\n##############################\nTRAIN - Epoch 135: | Loss: 31.43186\nVALIDATION - Epoch 135: | Loss: 32.50313\n##############################\nTRAIN - Epoch 136: | Loss: 31.40306\nVALIDATION - Epoch 136: | Loss: 32.49322\n##############################\nTRAIN - Epoch 137: | Loss: 31.45495\nVALIDATION - Epoch 137: | Loss: 32.50352\n##############################\nTRAIN - Epoch 138: | Loss: 31.47466\nVALIDATION - Epoch 138: | Loss: 32.50645\n##############################\nTRAIN - Epoch 139: | Loss: 31.54489\nVALIDATION - Epoch 139: | Loss: 32.52426\n##############################\nTRAIN - Epoch 140: | Loss: 31.37566\nVALIDATION - Epoch 140: | Loss: 32.50814\n##############################\nTRAIN - Epoch 141: | Loss: 31.36848\nVALIDATION - Epoch 141: | Loss: 32.49375\n##############################\nTRAIN - Epoch 142: | Loss: 31.31326\nVALIDATION - Epoch 142: | Loss: 32.60218\n##############################\nTRAIN - Epoch 143: | Loss: 31.33540\nVALIDATION - Epoch 143: | Loss: 32.52162\n##############################\nTRAIN - Epoch 144: | Loss: 31.45359\nVALIDATION - Epoch 144: | Loss: 32.50392\n##############################\nTRAIN - Epoch 145: | Loss: 31.43963\nVALIDATION - Epoch 145: | Loss: 32.75149\n##############################\nTRAIN - Epoch 146: | Loss: 31.48087\nVALIDATION - Epoch 146: | Loss: 32.54117\n##############################\nTRAIN - Epoch 147: | Loss: 31.49801\nVALIDATION - Epoch 147: | Loss: 32.60078\n##############################\nTRAIN - Epoch 148: | Loss: 31.40540\nVALIDATION - Epoch 148: | Loss: 32.65134\n##############################\nTRAIN - Epoch 149: | Loss: 31.52922\nVALIDATION - Epoch 149: | Loss: 32.82611\n##############################\nTRAIN - Epoch 150: | Loss: 31.51854\nVALIDATION - Epoch 150: | Loss: 32.52051\n##############################\n",
     "output_type": "stream",
     "data": {}
    }
   ],
   "execution_count": null
  },
  {
   "cell_type": "code",
   "metadata": {
    "tags": [],
    "cell_id": "00081-d69bdac8-172d-47b5-b7e8-c96cebfe20d4",
    "deepnote_to_be_reexecuted": false,
    "source_hash": "8b7dd875",
    "execution_start": 1641936997800,
    "execution_millis": 819,
    "deepnote_output_heights": [
     498
    ],
    "deepnote_cell_type": "code"
   },
   "source": "#create a loss plot\nplt.plot(losses_train,'-')\nplt.plot(losses_test,'-.')\nplt.xlabel('Epochs')\nplt.ylabel('Loss')\nplt.legend(['Train','Test'])\nplt.title('Train vs Test Losses')\n \nplt.show()",
   "outputs": [
    {
     "data": {
      "text/plain": "<Figure size 720x576 with 1 Axes>",
      "image/png": "[encoded data removed]"
     },
     "metadata": {
      "needs_background": "light",
      "image/png": {
       "width": 612,
       "height": 496
      }
     },
     "output_type": "display_data"
    }
   ],
   "execution_count": null
  },
  {
   "cell_type": "code",
   "metadata": {
    "tags": [],
    "cell_id": "00082-7314691c-b6e4-4ed9-9237-d20929f5f580",
    "deepnote_to_be_reexecuted": false,
    "source_hash": "c33300dd",
    "execution_start": 1641936998668,
    "execution_millis": 6,
    "deepnote_output_heights": [
     498
    ],
    "deepnote_cell_type": "code"
   },
   "source": "#create an accuracy plot\n#plt.plot(accuracies_train,'-')\n#plt.plot(accuracies_test,'-.')\n#plt.xlabel('Epochs')\n#plt.ylabel('Accuracy')\n#plt.legend(['Train','Test'])\n#plt.title('Train vs Test Accuracy')\n \n#plt.show()",
   "outputs": [],
   "execution_count": null
  },
  {
   "cell_type": "code",
   "source": "plt.xlabel(\"x\")\nplt.ylabel(\"y\")\nplt.scatter(df_visual['x'], df_visual['y'])",
   "metadata": {
    "tags": [],
    "cell_id": "00105-e1cd9bd0-7265-4808-a475-6f13cefd1c76",
    "deepnote_to_be_reexecuted": false,
    "source_hash": "c1117b61",
    "execution_start": 1641936998680,
    "execution_millis": 632,
    "deepnote_output_heights": [
     21.1875,
     482
    ],
    "deepnote_cell_type": "code"
   },
   "outputs": [
    {
     "output_type": "execute_result",
     "execution_count": 379,
     "data": {
      "text/plain": "<matplotlib.collections.PathCollection at 0x7eff233041d0>"
     },
     "metadata": {}
    },
    {
     "data": {
      "text/plain": "<Figure size 720x576 with 1 Axes>",
      "image/png": "[encoded data removed]"
     },
     "metadata": {
      "needs_background": "light",
      "image/png": {
       "width": 614,
       "height": 480
      }
     },
     "output_type": "display_data"
    }
   ],
   "execution_count": null
  },
  {
   "cell_type": "code",
   "source": "predictions_blind = []\npredictions_blind = Result_Cup(model, xtest_tensor)\npredictions_blind",
   "metadata": {
    "tags": [],
    "cell_id": "00107-da673bd7-5f80-4b52-9635-2e18ab9f332d",
    "deepnote_to_be_reexecuted": false,
    "source_hash": "882acc81",
    "execution_start": 1641937864173,
    "execution_millis": 9,
    "deepnote_output_heights": [
     136.359375
    ],
    "deepnote_cell_type": "code"
   },
   "outputs": [
    {
     "output_type": "execute_result",
     "execution_count": 394,
     "data": {
      "text/plain": "[array([[  3., -20.],\n        [  3., -20.],\n        [  3., -20.],\n        ...,\n        [  3., -20.],\n        [  3., -20.],\n        [  3., -20.]], dtype=float32)]"
     },
     "metadata": {}
    }
   ],
   "execution_count": null
  },
  {
   "cell_type": "code",
   "source": "def plot_coordinates(model, X, true_y = None):\n    y_predicted = model.predict(X)\n    y_predicted = pd.DataFrame(data=y_predicted, columns=[\"x\", \"y\"])\n    if not None:\n        true_y = pd.DataFrame(data=true_y, columns=[\"x\", \"y\"])\n        plt.scatter(true_y['x'], true_y['y'], c='r', marker='*')\n    plt.xlabel(\"x\")\n    plt.ylabel(\"y\")\n    plt.scatter(y_predicted['x'], y_predicted['y'], c='#1f77b4')",
   "metadata": {
    "tags": [],
    "cell_id": "00106-1568f343-8ab7-496e-9dab-9dea884dfedc",
    "deepnote_to_be_reexecuted": true,
    "source_hash": "7d8752d4",
    "execution_start": 1641928266584,
    "execution_millis": 0,
    "deepnote_cell_type": "code"
   },
   "outputs": [],
   "execution_count": null
  },
  {
   "cell_type": "code",
   "source": "#plot_coordinates(model, X_internal_test, y_internal_test)",
   "metadata": {
    "tags": [],
    "cell_id": "00107-c94494ac-a62a-470a-a7ca-4c32b01d407b",
    "deepnote_to_be_reexecuted": true,
    "source_hash": "aad21602",
    "deepnote_cell_type": "code"
   },
   "outputs": [],
   "execution_count": null
  },
  {
   "cell_type": "code",
   "source": "#plot_coordinates(model, X_all, y_all)",
   "metadata": {
    "tags": [],
    "cell_id": "00108-19c89f71-b343-4815-970f-84e3f80fd253",
    "deepnote_to_be_reexecuted": true,
    "source_hash": "1744286c",
    "deepnote_cell_type": "code"
   },
   "outputs": [],
   "execution_count": null
  },
  {
   "cell_type": "code",
   "source": "#plot_coordinates(model, blind_ts)\ny_predicted = pd.DataFrame(data=predictions_blind, columns=[\"x\", \"y\"])\nplt.xlabel(\"x\")\nplt.ylabel(\"y\")\nplt.scatter(y_predicted['x'], y_predicted['y'], c='#1f77b4')",
   "metadata": {
    "tags": [],
    "cell_id": "00109-16607acd-2c12-4a42-a77e-3e2e31b0b912",
    "deepnote_to_be_reexecuted": false,
    "source_hash": "1f94225b",
    "execution_start": 1641937879473,
    "execution_millis": 203,
    "deepnote_cell_type": "code"
   },
   "outputs": [
    {
     "output_type": "error",
     "ename": "ValueError",
     "evalue": "Must pass 2-d input. shape=(1, 540, 2)",
     "traceback": [
      "\u001b[0;31m---------------------------------------------------------------------------\u001b[0m",
      "\u001b[0;31mValueError\u001b[0m                                Traceback (most recent call last)",
      "\u001b[0;32m<ipython-input-395-d2f860a06469>\u001b[0m in \u001b[0;36m<module>\u001b[0;34m\u001b[0m\n\u001b[1;32m      1\u001b[0m \u001b[0;31m#plot_coordinates(model, blind_ts)\u001b[0m\u001b[0;34m\u001b[0m\u001b[0;34m\u001b[0m\u001b[0;34m\u001b[0m\u001b[0m\n\u001b[0;32m----> 2\u001b[0;31m \u001b[0my_predicted\u001b[0m \u001b[0;34m=\u001b[0m \u001b[0mpd\u001b[0m\u001b[0;34m.\u001b[0m\u001b[0mDataFrame\u001b[0m\u001b[0;34m(\u001b[0m\u001b[0mdata\u001b[0m\u001b[0;34m=\u001b[0m\u001b[0mpredictions_blind\u001b[0m\u001b[0;34m,\u001b[0m \u001b[0mcolumns\u001b[0m\u001b[0;34m=\u001b[0m\u001b[0;34m[\u001b[0m\u001b[0;34m\"x\"\u001b[0m\u001b[0;34m,\u001b[0m \u001b[0;34m\"y\"\u001b[0m\u001b[0;34m]\u001b[0m\u001b[0;34m)\u001b[0m\u001b[0;34m\u001b[0m\u001b[0;34m\u001b[0m\u001b[0m\n\u001b[0m\u001b[1;32m      3\u001b[0m \u001b[0mplt\u001b[0m\u001b[0;34m.\u001b[0m\u001b[0mxlabel\u001b[0m\u001b[0;34m(\u001b[0m\u001b[0;34m\"x\"\u001b[0m\u001b[0;34m)\u001b[0m\u001b[0;34m\u001b[0m\u001b[0;34m\u001b[0m\u001b[0m\n\u001b[1;32m      4\u001b[0m \u001b[0mplt\u001b[0m\u001b[0;34m.\u001b[0m\u001b[0mylabel\u001b[0m\u001b[0;34m(\u001b[0m\u001b[0;34m\"y\"\u001b[0m\u001b[0;34m)\u001b[0m\u001b[0;34m\u001b[0m\u001b[0;34m\u001b[0m\u001b[0m\n\u001b[1;32m      5\u001b[0m \u001b[0mplt\u001b[0m\u001b[0;34m.\u001b[0m\u001b[0mscatter\u001b[0m\u001b[0;34m(\u001b[0m\u001b[0my_predicted\u001b[0m\u001b[0;34m[\u001b[0m\u001b[0;34m'x'\u001b[0m\u001b[0;34m]\u001b[0m\u001b[0;34m,\u001b[0m \u001b[0my_predicted\u001b[0m\u001b[0;34m[\u001b[0m\u001b[0;34m'y'\u001b[0m\u001b[0;34m]\u001b[0m\u001b[0;34m,\u001b[0m \u001b[0mc\u001b[0m\u001b[0;34m=\u001b[0m\u001b[0;34m'#1f77b4'\u001b[0m\u001b[0;34m)\u001b[0m\u001b[0;34m\u001b[0m\u001b[0;34m\u001b[0m\u001b[0m\n",
      "\u001b[0;32m/shared-libs/python3.7/py/lib/python3.7/site-packages/pandas/core/frame.py\u001b[0m in \u001b[0;36m__init__\u001b[0;34m(self, data, index, columns, dtype, copy)\u001b[0m\n\u001b[1;32m    582\u001b[0m                     \u001b[0mmgr\u001b[0m \u001b[0;34m=\u001b[0m \u001b[0marrays_to_mgr\u001b[0m\u001b[0;34m(\u001b[0m\u001b[0marrays\u001b[0m\u001b[0;34m,\u001b[0m \u001b[0mcolumns\u001b[0m\u001b[0;34m,\u001b[0m \u001b[0mindex\u001b[0m\u001b[0;34m,\u001b[0m \u001b[0mcolumns\u001b[0m\u001b[0;34m,\u001b[0m \u001b[0mdtype\u001b[0m\u001b[0;34m=\u001b[0m\u001b[0mdtype\u001b[0m\u001b[0;34m)\u001b[0m\u001b[0;34m\u001b[0m\u001b[0;34m\u001b[0m\u001b[0m\n\u001b[1;32m    583\u001b[0m                 \u001b[0;32melse\u001b[0m\u001b[0;34m:\u001b[0m\u001b[0;34m\u001b[0m\u001b[0;34m\u001b[0m\u001b[0m\n\u001b[0;32m--> 584\u001b[0;31m                     \u001b[0mmgr\u001b[0m \u001b[0;34m=\u001b[0m \u001b[0minit_ndarray\u001b[0m\u001b[0;34m(\u001b[0m\u001b[0mdata\u001b[0m\u001b[0;34m,\u001b[0m \u001b[0mindex\u001b[0m\u001b[0;34m,\u001b[0m \u001b[0mcolumns\u001b[0m\u001b[0;34m,\u001b[0m \u001b[0mdtype\u001b[0m\u001b[0;34m=\u001b[0m\u001b[0mdtype\u001b[0m\u001b[0;34m,\u001b[0m \u001b[0mcopy\u001b[0m\u001b[0;34m=\u001b[0m\u001b[0mcopy\u001b[0m\u001b[0;34m)\u001b[0m\u001b[0;34m\u001b[0m\u001b[0;34m\u001b[0m\u001b[0m\n\u001b[0m\u001b[1;32m    585\u001b[0m             \u001b[0;32melse\u001b[0m\u001b[0;34m:\u001b[0m\u001b[0;34m\u001b[0m\u001b[0;34m\u001b[0m\u001b[0m\n\u001b[1;32m    586\u001b[0m                 \u001b[0mmgr\u001b[0m \u001b[0;34m=\u001b[0m \u001b[0minit_dict\u001b[0m\u001b[0;34m(\u001b[0m\u001b[0;34m{\u001b[0m\u001b[0;34m}\u001b[0m\u001b[0;34m,\u001b[0m \u001b[0mindex\u001b[0m\u001b[0;34m,\u001b[0m \u001b[0mcolumns\u001b[0m\u001b[0;34m,\u001b[0m \u001b[0mdtype\u001b[0m\u001b[0;34m=\u001b[0m\u001b[0mdtype\u001b[0m\u001b[0;34m)\u001b[0m\u001b[0;34m\u001b[0m\u001b[0;34m\u001b[0m\u001b[0m\n",
      "\u001b[0;32m/shared-libs/python3.7/py/lib/python3.7/site-packages/pandas/core/internals/construction.py\u001b[0m in \u001b[0;36minit_ndarray\u001b[0;34m(values, index, columns, dtype, copy)\u001b[0m\n\u001b[1;32m    190\u001b[0m     \u001b[0;31m# by definition an array here\u001b[0m\u001b[0;34m\u001b[0m\u001b[0;34m\u001b[0m\u001b[0;34m\u001b[0m\u001b[0m\n\u001b[1;32m    191\u001b[0m     \u001b[0;31m# the dtypes will be coerced to a single dtype\u001b[0m\u001b[0;34m\u001b[0m\u001b[0;34m\u001b[0m\u001b[0;34m\u001b[0m\u001b[0m\n\u001b[0;32m--> 192\u001b[0;31m     \u001b[0mvalues\u001b[0m \u001b[0;34m=\u001b[0m \u001b[0m_prep_ndarray\u001b[0m\u001b[0;34m(\u001b[0m\u001b[0mvalues\u001b[0m\u001b[0;34m,\u001b[0m \u001b[0mcopy\u001b[0m\u001b[0;34m=\u001b[0m\u001b[0mcopy\u001b[0m\u001b[0;34m)\u001b[0m\u001b[0;34m\u001b[0m\u001b[0;34m\u001b[0m\u001b[0m\n\u001b[0m\u001b[1;32m    193\u001b[0m \u001b[0;34m\u001b[0m\u001b[0m\n\u001b[1;32m    194\u001b[0m     \u001b[0;32mif\u001b[0m \u001b[0mdtype\u001b[0m \u001b[0;32mis\u001b[0m \u001b[0;32mnot\u001b[0m \u001b[0;32mNone\u001b[0m \u001b[0;32mand\u001b[0m \u001b[0;32mnot\u001b[0m \u001b[0mis_dtype_equal\u001b[0m\u001b[0;34m(\u001b[0m\u001b[0mvalues\u001b[0m\u001b[0;34m.\u001b[0m\u001b[0mdtype\u001b[0m\u001b[0;34m,\u001b[0m \u001b[0mdtype\u001b[0m\u001b[0;34m)\u001b[0m\u001b[0;34m:\u001b[0m\u001b[0;34m\u001b[0m\u001b[0;34m\u001b[0m\u001b[0m\n",
      "\u001b[0;32m/shared-libs/python3.7/py/lib/python3.7/site-packages/pandas/core/internals/construction.py\u001b[0m in \u001b[0;36m_prep_ndarray\u001b[0;34m(values, copy)\u001b[0m\n\u001b[1;32m    326\u001b[0m         \u001b[0mvalues\u001b[0m \u001b[0;34m=\u001b[0m \u001b[0mvalues\u001b[0m\u001b[0;34m.\u001b[0m\u001b[0mreshape\u001b[0m\u001b[0;34m(\u001b[0m\u001b[0;34m(\u001b[0m\u001b[0mvalues\u001b[0m\u001b[0;34m.\u001b[0m\u001b[0mshape\u001b[0m\u001b[0;34m[\u001b[0m\u001b[0;36m0\u001b[0m\u001b[0;34m]\u001b[0m\u001b[0;34m,\u001b[0m \u001b[0;36m1\u001b[0m\u001b[0;34m)\u001b[0m\u001b[0;34m)\u001b[0m\u001b[0;34m\u001b[0m\u001b[0;34m\u001b[0m\u001b[0m\n\u001b[1;32m    327\u001b[0m     \u001b[0;32melif\u001b[0m \u001b[0mvalues\u001b[0m\u001b[0;34m.\u001b[0m\u001b[0mndim\u001b[0m \u001b[0;34m!=\u001b[0m \u001b[0;36m2\u001b[0m\u001b[0;34m:\u001b[0m\u001b[0;34m\u001b[0m\u001b[0;34m\u001b[0m\u001b[0m\n\u001b[0;32m--> 328\u001b[0;31m         \u001b[0;32mraise\u001b[0m \u001b[0mValueError\u001b[0m\u001b[0;34m(\u001b[0m\u001b[0;34mf\"Must pass 2-d input. shape={values.shape}\"\u001b[0m\u001b[0;34m)\u001b[0m\u001b[0;34m\u001b[0m\u001b[0;34m\u001b[0m\u001b[0m\n\u001b[0m\u001b[1;32m    329\u001b[0m \u001b[0;34m\u001b[0m\u001b[0m\n\u001b[1;32m    330\u001b[0m     \u001b[0;32mreturn\u001b[0m \u001b[0mvalues\u001b[0m\u001b[0;34m\u001b[0m\u001b[0;34m\u001b[0m\u001b[0m\n",
      "\u001b[0;31mValueError\u001b[0m: Must pass 2-d input. shape=(1, 540, 2)"
     ],
     "data": {}
    }
   ],
   "execution_count": null
  },
  {
   "cell_type": "markdown",
   "source": "<a style='text-decoration:none;line-height:16px;display:flex;color:#5B5B62;padding:10px;justify-content:end;' href='https://deepnote.com?utm_source=created-in-deepnote-cell&projectId=d9d840c9-75b3-4185-bb01-105f5cca8d83' target=\"_blank\">\n<img alt='Created in deepnote.com' style='display:inline;max-height:16px;margin:0px;margin-right:7.5px;' src='data:image/svg+xml;base64,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' > </img>\nCreated in <span style='font-weight:600;margin-left:4px;'>Deepnote</span></a>",
   "metadata": {
    "tags": [],
    "created_in_deepnote_cell": true,
    "deepnote_cell_type": "markdown"
   }
  }
 ],
 "nbformat": 4,
 "nbformat_minor": 2,
 "metadata": {
  "orig_nbformat": 2,
  "deepnote": {
   "is_reactive": false
  },
  "deepnote_notebook_id": "29e5ab88-e848-42f4-9b93-01e2cb324e6f",
  "deepnote_execution_queue": []
 }
}