{
 "cells": [
  {
   "cell_type": "code",
   "metadata": {
    "tags": [],
    "cell_id": "00000-feb3ee80-e873-4ef4-a1b5-a0d721e44191",
    "deepnote_to_be_reexecuted": false,
    "source_hash": "e0f8e4cd",
    "execution_start": 1638913287911,
    "execution_millis": 2231,
    "deepnote_output_heights": [
     21.1875
    ],
    "deepnote_cell_type": "code"
   },
   "source": "import torch\nimport torch.nn as nn\nimport numpy as np\nimport math\nimport matplotlib.pyplot as plt\nimport pandas as pd\nimport seaborn as sns\n%matplotlib inline\n\ndtype = torch.float\ndevice = torch.device(\"cpu\")",
   "outputs": [],
   "execution_count": null
  },
  {
   "cell_type": "markdown",
   "source": "## Loading MONK dataset",
   "metadata": {
    "tags": [],
    "cell_id": "00000-3c151ff9-9d1e-45e5-aaa2-5ad7d942f1af",
    "deepnote_cell_type": "markdown"
   }
  },
  {
   "cell_type": "code",
   "source": "df_monk1_train = pd.read_csv('./data/MONK/monks-1.train', sep=\" \", skipinitialspace=True, names=['class','a1','a2','a3','a4','a5','a6','id'])\ndf_monk1_train.drop(labels='id', axis=1, inplace=True)\n\ndf_monk1_test = pd.read_csv('./data/MONK/monks-1.test', sep=\" \", skipinitialspace=True,  names=['class','a1','a2','a3','a4','a5','a6','id'])\ndf_monk1_test.drop(labels='id', axis=1, inplace=True)",
   "metadata": {
    "tags": [],
    "cell_id": "00001-fd0a2f32-f2f3-4a89-94dc-9175c5f69468",
    "deepnote_to_be_reexecuted": false,
    "source_hash": "cf496629",
    "execution_start": 1638913296938,
    "execution_millis": 12,
    "deepnote_cell_type": "code"
   },
   "outputs": [],
   "execution_count": null
  },
  {
   "cell_type": "code",
   "source": "df_monk1_test.head() #first column is the target (can be either 0 or 1)",
   "metadata": {
    "tags": [],
    "cell_id": "00000-2f3640fb-95bb-4c37-b4f3-7b54a312e8e5",
    "deepnote_to_be_reexecuted": false,
    "source_hash": "b9292661",
    "execution_start": 1638913303921,
    "execution_millis": 18,
    "deepnote_cell_type": "code"
   },
   "outputs": [
    {
     "output_type": "execute_result",
     "execution_count": 3,
     "data": {
      "application/vnd.deepnote.dataframe.v2+json": {
       "row_count": 5,
       "column_count": 7,
       "columns": [
        {
         "name": "class",
         "dtype": "int64",
         "stats": {
          "unique_count": 1,
          "nan_count": 0,
          "min": "1",
          "max": "1",
          "histogram": [
           {
            "bin_start": 0.5,
            "bin_end": 0.6,
            "count": 0
           },
           {
            "bin_start": 0.6,
            "bin_end": 0.7,
            "count": 0
           },
           {
            "bin_start": 0.7,
            "bin_end": 0.8,
            "count": 0
           },
           {
            "bin_start": 0.8,
            "bin_end": 0.9,
            "count": 0
           },
           {
            "bin_start": 0.9,
            "bin_end": 1,
            "count": 0
           },
           {
            "bin_start": 1,
            "bin_end": 1.1,
            "count": 5
           },
           {
            "bin_start": 1.1,
            "bin_end": 1.2000000000000002,
            "count": 0
           },
           {
            "bin_start": 1.2000000000000002,
            "bin_end": 1.3,
            "count": 0
           },
           {
            "bin_start": 1.3,
            "bin_end": 1.4,
            "count": 0
           },
           {
            "bin_start": 1.4,
            "bin_end": 1.5,
            "count": 0
           }
          ]
         }
        },
        {
         "name": "a1",
         "dtype": "int64",
         "stats": {
          "unique_count": 1,
          "nan_count": 0,
          "min": "1",
          "max": "1",
          "histogram": [
           {
            "bin_start": 0.5,
            "bin_end": 0.6,
            "count": 0
           },
           {
            "bin_start": 0.6,
            "bin_end": 0.7,
            "count": 0
           },
           {
            "bin_start": 0.7,
            "bin_end": 0.8,
            "count": 0
           },
           {
            "bin_start": 0.8,
            "bin_end": 0.9,
            "count": 0
           },
           {
            "bin_start": 0.9,
            "bin_end": 1,
            "count": 0
           },
           {
            "bin_start": 1,
            "bin_end": 1.1,
            "count": 5
           },
           {
            "bin_start": 1.1,
            "bin_end": 1.2000000000000002,
            "count": 0
           },
           {
            "bin_start": 1.2000000000000002,
            "bin_end": 1.3,
            "count": 0
           },
           {
            "bin_start": 1.3,
            "bin_end": 1.4,
            "count": 0
           },
           {
            "bin_start": 1.4,
            "bin_end": 1.5,
            "count": 0
           }
          ]
         }
        },
        {
         "name": "a2",
         "dtype": "int64",
         "stats": {
          "unique_count": 1,
          "nan_count": 0,
          "min": "1",
          "max": "1",
          "histogram": [
           {
            "bin_start": 0.5,
            "bin_end": 0.6,
            "count": 0
           },
           {
            "bin_start": 0.6,
            "bin_end": 0.7,
            "count": 0
           },
           {
            "bin_start": 0.7,
            "bin_end": 0.8,
            "count": 0
           },
           {
            "bin_start": 0.8,
            "bin_end": 0.9,
            "count": 0
           },
           {
            "bin_start": 0.9,
            "bin_end": 1,
            "count": 0
           },
           {
            "bin_start": 1,
            "bin_end": 1.1,
            "count": 5
           },
           {
            "bin_start": 1.1,
            "bin_end": 1.2000000000000002,
            "count": 0
           },
           {
            "bin_start": 1.2000000000000002,
            "bin_end": 1.3,
            "count": 0
           },
           {
            "bin_start": 1.3,
            "bin_end": 1.4,
            "count": 0
           },
           {
            "bin_start": 1.4,
            "bin_end": 1.5,
            "count": 0
           }
          ]
         }
        },
        {
         "name": "a3",
         "dtype": "int64",
         "stats": {
          "unique_count": 1,
          "nan_count": 0,
          "min": "1",
          "max": "1",
          "histogram": [
           {
            "bin_start": 0.5,
            "bin_end": 0.6,
            "count": 0
           },
           {
            "bin_start": 0.6,
            "bin_end": 0.7,
            "count": 0
           },
           {
            "bin_start": 0.7,
            "bin_end": 0.8,
            "count": 0
           },
           {
            "bin_start": 0.8,
            "bin_end": 0.9,
            "count": 0
           },
           {
            "bin_start": 0.9,
            "bin_end": 1,
            "count": 0
           },
           {
            "bin_start": 1,
            "bin_end": 1.1,
            "count": 5
           },
           {
            "bin_start": 1.1,
            "bin_end": 1.2000000000000002,
            "count": 0
           },
           {
            "bin_start": 1.2000000000000002,
            "bin_end": 1.3,
            "count": 0
           },
           {
            "bin_start": 1.3,
            "bin_end": 1.4,
            "count": 0
           },
           {
            "bin_start": 1.4,
            "bin_end": 1.5,
            "count": 0
           }
          ]
         }
        },
        {
         "name": "a4",
         "dtype": "int64",
         "stats": {
          "unique_count": 1,
          "nan_count": 0,
          "min": "1",
          "max": "1",
          "histogram": [
           {
            "bin_start": 0.5,
            "bin_end": 0.6,
            "count": 0
           },
           {
            "bin_start": 0.6,
            "bin_end": 0.7,
            "count": 0
           },
           {
            "bin_start": 0.7,
            "bin_end": 0.8,
            "count": 0
           },
           {
            "bin_start": 0.8,
            "bin_end": 0.9,
            "count": 0
           },
           {
            "bin_start": 0.9,
            "bin_end": 1,
            "count": 0
           },
           {
            "bin_start": 1,
            "bin_end": 1.1,
            "count": 5
           },
           {
            "bin_start": 1.1,
            "bin_end": 1.2000000000000002,
            "count": 0
           },
           {
            "bin_start": 1.2000000000000002,
            "bin_end": 1.3,
            "count": 0
           },
           {
            "bin_start": 1.3,
            "bin_end": 1.4,
            "count": 0
           },
           {
            "bin_start": 1.4,
            "bin_end": 1.5,
            "count": 0
           }
          ]
         }
        },
        {
         "name": "a5",
         "dtype": "int64",
         "stats": {
          "unique_count": 3,
          "nan_count": 0,
          "min": "1",
          "max": "3",
          "histogram": [
           {
            "bin_start": 1,
            "bin_end": 1.2,
            "count": 2
           },
           {
            "bin_start": 1.2,
            "bin_end": 1.4,
            "count": 0
           },
           {
            "bin_start": 1.4,
            "bin_end": 1.6,
            "count": 0
           },
           {
            "bin_start": 1.6,
            "bin_end": 1.8,
            "count": 0
           },
           {
            "bin_start": 1.8,
            "bin_end": 2,
            "count": 0
           },
           {
            "bin_start": 2,
            "bin_end": 2.2,
            "count": 2
           },
           {
            "bin_start": 2.2,
            "bin_end": 2.4000000000000004,
            "count": 0
           },
           {
            "bin_start": 2.4000000000000004,
            "bin_end": 2.6,
            "count": 0
           },
           {
            "bin_start": 2.6,
            "bin_end": 2.8,
            "count": 0
           },
           {
            "bin_start": 2.8,
            "bin_end": 3,
            "count": 1
           }
          ]
         }
        },
        {
         "name": "a6",
         "dtype": "int64",
         "stats": {
          "unique_count": 2,
          "nan_count": 0,
          "min": "1",
          "max": "2",
          "histogram": [
           {
            "bin_start": 1,
            "bin_end": 1.1,
            "count": 3
           },
           {
            "bin_start": 1.1,
            "bin_end": 1.2,
            "count": 0
           },
           {
            "bin_start": 1.2,
            "bin_end": 1.3,
            "count": 0
           },
           {
            "bin_start": 1.3,
            "bin_end": 1.4,
            "count": 0
           },
           {
            "bin_start": 1.4,
            "bin_end": 1.5,
            "count": 0
           },
           {
            "bin_start": 1.5,
            "bin_end": 1.6,
            "count": 0
           },
           {
            "bin_start": 1.6,
            "bin_end": 1.7000000000000002,
            "count": 0
           },
           {
            "bin_start": 1.7000000000000002,
            "bin_end": 1.8,
            "count": 0
           },
           {
            "bin_start": 1.8,
            "bin_end": 1.9,
            "count": 0
           },
           {
            "bin_start": 1.9,
            "bin_end": 2,
            "count": 2
           }
          ]
         }
        },
        {
         "name": "_deepnote_index_column",
         "dtype": "int64"
        }
       ],
       "rows_top": [
        {
         "class": 1,
         "a1": 1,
         "a2": 1,
         "a3": 1,
         "a4": 1,
         "a5": 1,
         "a6": 1,
         "_deepnote_index_column": 0
        },
        {
         "class": 1,
         "a1": 1,
         "a2": 1,
         "a3": 1,
         "a4": 1,
         "a5": 1,
         "a6": 2,
         "_deepnote_index_column": 1
        },
        {
         "class": 1,
         "a1": 1,
         "a2": 1,
         "a3": 1,
         "a4": 1,
         "a5": 2,
         "a6": 1,
         "_deepnote_index_column": 2
        },
        {
         "class": 1,
         "a1": 1,
         "a2": 1,
         "a3": 1,
         "a4": 1,
         "a5": 2,
         "a6": 2,
         "_deepnote_index_column": 3
        },
        {
         "class": 1,
         "a1": 1,
         "a2": 1,
         "a3": 1,
         "a4": 1,
         "a5": 3,
         "a6": 1,
         "_deepnote_index_column": 4
        }
       ],
       "rows_bottom": null
      },
      "text/plain": "   class  a1  a2  a3  a4  a5  a6\n0      1   1   1   1   1   1   1\n1      1   1   1   1   1   1   2\n2      1   1   1   1   1   2   1\n3      1   1   1   1   1   2   2\n4      1   1   1   1   1   3   1",
      "text/html": "<div>\n<style scoped>\n    .dataframe tbody tr th:only-of-type {\n        vertical-align: middle;\n    }\n\n    .dataframe tbody tr th {\n        vertical-align: top;\n    }\n\n    .dataframe thead th {\n        text-align: right;\n    }\n</style>\n<table border=\"1\" class=\"dataframe\">\n  <thead>\n    <tr style=\"text-align: right;\">\n      <th></th>\n      <th>class</th>\n      <th>a1</th>\n      <th>a2</th>\n      <th>a3</th>\n      <th>a4</th>\n      <th>a5</th>\n      <th>a6</th>\n    </tr>\n  </thead>\n  <tbody>\n    <tr>\n      <th>0</th>\n      <td>1</td>\n      <td>1</td>\n      <td>1</td>\n      <td>1</td>\n      <td>1</td>\n      <td>1</td>\n      <td>1</td>\n    </tr>\n    <tr>\n      <th>1</th>\n      <td>1</td>\n      <td>1</td>\n      <td>1</td>\n      <td>1</td>\n      <td>1</td>\n      <td>1</td>\n      <td>2</td>\n    </tr>\n    <tr>\n      <th>2</th>\n      <td>1</td>\n      <td>1</td>\n      <td>1</td>\n      <td>1</td>\n      <td>1</td>\n      <td>2</td>\n      <td>1</td>\n    </tr>\n    <tr>\n      <th>3</th>\n      <td>1</td>\n      <td>1</td>\n      <td>1</td>\n      <td>1</td>\n      <td>1</td>\n      <td>2</td>\n      <td>2</td>\n    </tr>\n    <tr>\n      <th>4</th>\n      <td>1</td>\n      <td>1</td>\n      <td>1</td>\n      <td>1</td>\n      <td>1</td>\n      <td>3</td>\n      <td>1</td>\n    </tr>\n  </tbody>\n</table>\n</div>"
     },
     "metadata": {}
    }
   ],
   "execution_count": null
  },
  {
   "cell_type": "code",
   "source": "df_monk1_train",
   "metadata": {
    "tags": [],
    "cell_id": "00004-3aae5316-d4b7-4113-9b05-0440a3a3f494",
    "deepnote_to_be_reexecuted": false,
    "source_hash": "a26e411c",
    "execution_start": 1638912096250,
    "execution_millis": 251,
    "deepnote_cell_type": "code"
   },
   "outputs": [
    {
     "output_type": "execute_result",
     "execution_count": 4,
     "data": {
      "application/vnd.deepnote.dataframe.v2+json": {
       "row_count": 124,
       "column_count": 7,
       "columns": [
        {
         "name": "class",
         "dtype": "int64",
         "stats": {
          "unique_count": 2,
          "nan_count": 0,
          "min": "0",
          "max": "1",
          "histogram": [
           {
            "bin_start": 0,
            "bin_end": 0.1,
            "count": 62
           },
           {
            "bin_start": 0.1,
            "bin_end": 0.2,
            "count": 0
           },
           {
            "bin_start": 0.2,
            "bin_end": 0.30000000000000004,
            "count": 0
           },
           {
            "bin_start": 0.30000000000000004,
            "bin_end": 0.4,
            "count": 0
           },
           {
            "bin_start": 0.4,
            "bin_end": 0.5,
            "count": 0
           },
           {
            "bin_start": 0.5,
            "bin_end": 0.6000000000000001,
            "count": 0
           },
           {
            "bin_start": 0.6000000000000001,
            "bin_end": 0.7000000000000001,
            "count": 0
           },
           {
            "bin_start": 0.7000000000000001,
            "bin_end": 0.8,
            "count": 0
           },
           {
            "bin_start": 0.8,
            "bin_end": 0.9,
            "count": 0
           },
           {
            "bin_start": 0.9,
            "bin_end": 1,
            "count": 62
           }
          ]
         }
        },
        {
         "name": "a1",
         "dtype": "int64",
         "stats": {
          "unique_count": 3,
          "nan_count": 0,
          "min": "1",
          "max": "3",
          "histogram": [
           {
            "bin_start": 1,
            "bin_end": 1.2,
            "count": 45
           },
           {
            "bin_start": 1.2,
            "bin_end": 1.4,
            "count": 0
           },
           {
            "bin_start": 1.4,
            "bin_end": 1.6,
            "count": 0
           },
           {
            "bin_start": 1.6,
            "bin_end": 1.8,
            "count": 0
           },
           {
            "bin_start": 1.8,
            "bin_end": 2,
            "count": 0
           },
           {
            "bin_start": 2,
            "bin_end": 2.2,
            "count": 42
           },
           {
            "bin_start": 2.2,
            "bin_end": 2.4000000000000004,
            "count": 0
           },
           {
            "bin_start": 2.4000000000000004,
            "bin_end": 2.6,
            "count": 0
           },
           {
            "bin_start": 2.6,
            "bin_end": 2.8,
            "count": 0
           },
           {
            "bin_start": 2.8,
            "bin_end": 3,
            "count": 37
           }
          ]
         }
        },
        {
         "name": "a2",
         "dtype": "int64",
         "stats": {
          "unique_count": 3,
          "nan_count": 0,
          "min": "1",
          "max": "3",
          "histogram": [
           {
            "bin_start": 1,
            "bin_end": 1.2,
            "count": 35
           },
           {
            "bin_start": 1.2,
            "bin_end": 1.4,
            "count": 0
           },
           {
            "bin_start": 1.4,
            "bin_end": 1.6,
            "count": 0
           },
           {
            "bin_start": 1.6,
            "bin_end": 1.8,
            "count": 0
           },
           {
            "bin_start": 1.8,
            "bin_end": 2,
            "count": 0
           },
           {
            "bin_start": 2,
            "bin_end": 2.2,
            "count": 42
           },
           {
            "bin_start": 2.2,
            "bin_end": 2.4000000000000004,
            "count": 0
           },
           {
            "bin_start": 2.4000000000000004,
            "bin_end": 2.6,
            "count": 0
           },
           {
            "bin_start": 2.6,
            "bin_end": 2.8,
            "count": 0
           },
           {
            "bin_start": 2.8,
            "bin_end": 3,
            "count": 47
           }
          ]
         }
        },
        {
         "name": "a3",
         "dtype": "int64",
         "stats": {
          "unique_count": 2,
          "nan_count": 0,
          "min": "1",
          "max": "2",
          "histogram": [
           {
            "bin_start": 1,
            "bin_end": 1.1,
            "count": 65
           },
           {
            "bin_start": 1.1,
            "bin_end": 1.2,
            "count": 0
           },
           {
            "bin_start": 1.2,
            "bin_end": 1.3,
            "count": 0
           },
           {
            "bin_start": 1.3,
            "bin_end": 1.4,
            "count": 0
           },
           {
            "bin_start": 1.4,
            "bin_end": 1.5,
            "count": 0
           },
           {
            "bin_start": 1.5,
            "bin_end": 1.6,
            "count": 0
           },
           {
            "bin_start": 1.6,
            "bin_end": 1.7000000000000002,
            "count": 0
           },
           {
            "bin_start": 1.7000000000000002,
            "bin_end": 1.8,
            "count": 0
           },
           {
            "bin_start": 1.8,
            "bin_end": 1.9,
            "count": 0
           },
           {
            "bin_start": 1.9,
            "bin_end": 2,
            "count": 59
           }
          ]
         }
        },
        {
         "name": "a4",
         "dtype": "int64",
         "stats": {
          "unique_count": 3,
          "nan_count": 0,
          "min": "1",
          "max": "3",
          "histogram": [
           {
            "bin_start": 1,
            "bin_end": 1.2,
            "count": 42
           },
           {
            "bin_start": 1.2,
            "bin_end": 1.4,
            "count": 0
           },
           {
            "bin_start": 1.4,
            "bin_end": 1.6,
            "count": 0
           },
           {
            "bin_start": 1.6,
            "bin_end": 1.8,
            "count": 0
           },
           {
            "bin_start": 1.8,
            "bin_end": 2,
            "count": 0
           },
           {
            "bin_start": 2,
            "bin_end": 2.2,
            "count": 39
           },
           {
            "bin_start": 2.2,
            "bin_end": 2.4000000000000004,
            "count": 0
           },
           {
            "bin_start": 2.4000000000000004,
            "bin_end": 2.6,
            "count": 0
           },
           {
            "bin_start": 2.6,
            "bin_end": 2.8,
            "count": 0
           },
           {
            "bin_start": 2.8,
            "bin_end": 3,
            "count": 43
           }
          ]
         }
        },
        {
         "name": "a5",
         "dtype": "int64",
         "stats": {
          "unique_count": 4,
          "nan_count": 0,
          "min": "1",
          "max": "4",
          "histogram": [
           {
            "bin_start": 1,
            "bin_end": 1.3,
            "count": 29
           },
           {
            "bin_start": 1.3,
            "bin_end": 1.6,
            "count": 0
           },
           {
            "bin_start": 1.6,
            "bin_end": 1.9,
            "count": 0
           },
           {
            "bin_start": 1.9,
            "bin_end": 2.2,
            "count": 31
           },
           {
            "bin_start": 2.2,
            "bin_end": 2.5,
            "count": 0
           },
           {
            "bin_start": 2.5,
            "bin_end": 2.8,
            "count": 0
           },
           {
            "bin_start": 2.8,
            "bin_end": 3.1,
            "count": 30
           },
           {
            "bin_start": 3.1,
            "bin_end": 3.4,
            "count": 0
           },
           {
            "bin_start": 3.4,
            "bin_end": 3.6999999999999997,
            "count": 0
           },
           {
            "bin_start": 3.6999999999999997,
            "bin_end": 4,
            "count": 34
           }
          ]
         }
        },
        {
         "name": "a6",
         "dtype": "int64",
         "stats": {
          "unique_count": 2,
          "nan_count": 0,
          "min": "1",
          "max": "2",
          "histogram": [
           {
            "bin_start": 1,
            "bin_end": 1.1,
            "count": 56
           },
           {
            "bin_start": 1.1,
            "bin_end": 1.2,
            "count": 0
           },
           {
            "bin_start": 1.2,
            "bin_end": 1.3,
            "count": 0
           },
           {
            "bin_start": 1.3,
            "bin_end": 1.4,
            "count": 0
           },
           {
            "bin_start": 1.4,
            "bin_end": 1.5,
            "count": 0
           },
           {
            "bin_start": 1.5,
            "bin_end": 1.6,
            "count": 0
           },
           {
            "bin_start": 1.6,
            "bin_end": 1.7000000000000002,
            "count": 0
           },
           {
            "bin_start": 1.7000000000000002,
            "bin_end": 1.8,
            "count": 0
           },
           {
            "bin_start": 1.8,
            "bin_end": 1.9,
            "count": 0
           },
           {
            "bin_start": 1.9,
            "bin_end": 2,
            "count": 68
           }
          ]
         }
        },
        {
         "name": "_deepnote_index_column",
         "dtype": "int64"
        }
       ],
       "rows_top": [
        {
         "class": 1,
         "a1": 1,
         "a2": 1,
         "a3": 1,
         "a4": 1,
         "a5": 3,
         "a6": 1,
         "_deepnote_index_column": 0
        },
        {
         "class": 1,
         "a1": 1,
         "a2": 1,
         "a3": 1,
         "a4": 1,
         "a5": 3,
         "a6": 2,
         "_deepnote_index_column": 1
        },
        {
         "class": 1,
         "a1": 1,
         "a2": 1,
         "a3": 1,
         "a4": 3,
         "a5": 2,
         "a6": 1,
         "_deepnote_index_column": 2
        },
        {
         "class": 1,
         "a1": 1,
         "a2": 1,
         "a3": 1,
         "a4": 3,
         "a5": 3,
         "a6": 2,
         "_deepnote_index_column": 3
        },
        {
         "class": 1,
         "a1": 1,
         "a2": 1,
         "a3": 2,
         "a4": 1,
         "a5": 2,
         "a6": 1,
         "_deepnote_index_column": 4
        },
        {
         "class": 1,
         "a1": 1,
         "a2": 1,
         "a3": 2,
         "a4": 1,
         "a5": 2,
         "a6": 2,
         "_deepnote_index_column": 5
        },
        {
         "class": 1,
         "a1": 1,
         "a2": 1,
         "a3": 2,
         "a4": 2,
         "a5": 3,
         "a6": 1,
         "_deepnote_index_column": 6
        },
        {
         "class": 1,
         "a1": 1,
         "a2": 1,
         "a3": 2,
         "a4": 2,
         "a5": 4,
         "a6": 1,
         "_deepnote_index_column": 7
        },
        {
         "class": 1,
         "a1": 1,
         "a2": 1,
         "a3": 2,
         "a4": 3,
         "a5": 1,
         "a6": 2,
         "_deepnote_index_column": 8
        },
        {
         "class": 1,
         "a1": 1,
         "a2": 2,
         "a3": 1,
         "a4": 1,
         "a5": 1,
         "a6": 2,
         "_deepnote_index_column": 9
        },
        {
         "class": 0,
         "a1": 1,
         "a2": 2,
         "a3": 1,
         "a4": 1,
         "a5": 2,
         "a6": 1,
         "_deepnote_index_column": 10
        },
        {
         "class": 0,
         "a1": 1,
         "a2": 2,
         "a3": 1,
         "a4": 1,
         "a5": 3,
         "a6": 1,
         "_deepnote_index_column": 11
        },
        {
         "class": 0,
         "a1": 1,
         "a2": 2,
         "a3": 1,
         "a4": 1,
         "a5": 4,
         "a6": 2,
         "_deepnote_index_column": 12
        },
        {
         "class": 1,
         "a1": 1,
         "a2": 2,
         "a3": 1,
         "a4": 2,
         "a5": 1,
         "a6": 1,
         "_deepnote_index_column": 13
        },
        {
         "class": 0,
         "a1": 1,
         "a2": 2,
         "a3": 1,
         "a4": 2,
         "a5": 3,
         "a6": 1,
         "_deepnote_index_column": 14
        },
        {
         "class": 0,
         "a1": 1,
         "a2": 2,
         "a3": 1,
         "a4": 2,
         "a5": 3,
         "a6": 2,
         "_deepnote_index_column": 15
        },
        {
         "class": 0,
         "a1": 1,
         "a2": 2,
         "a3": 1,
         "a4": 2,
         "a5": 4,
         "a6": 2,
         "_deepnote_index_column": 16
        },
        {
         "class": 0,
         "a1": 1,
         "a2": 2,
         "a3": 1,
         "a4": 3,
         "a5": 2,
         "a6": 1,
         "_deepnote_index_column": 17
        },
        {
         "class": 0,
         "a1": 1,
         "a2": 2,
         "a3": 1,
         "a4": 3,
         "a5": 4,
         "a6": 2,
         "_deepnote_index_column": 18
        },
        {
         "class": 0,
         "a1": 1,
         "a2": 2,
         "a3": 2,
         "a4": 1,
         "a5": 2,
         "a6": 2,
         "_deepnote_index_column": 19
        },
        {
         "class": 0,
         "a1": 1,
         "a2": 2,
         "a3": 2,
         "a4": 2,
         "a5": 3,
         "a6": 2,
         "_deepnote_index_column": 20
        },
        {
         "class": 0,
         "a1": 1,
         "a2": 2,
         "a3": 2,
         "a4": 2,
         "a5": 4,
         "a6": 1,
         "_deepnote_index_column": 21
        },
        {
         "class": 0,
         "a1": 1,
         "a2": 2,
         "a3": 2,
         "a4": 2,
         "a5": 4,
         "a6": 2,
         "_deepnote_index_column": 22
        },
        {
         "class": 0,
         "a1": 1,
         "a2": 2,
         "a3": 2,
         "a4": 3,
         "a5": 2,
         "a6": 2,
         "_deepnote_index_column": 23
        },
        {
         "class": 0,
         "a1": 1,
         "a2": 2,
         "a3": 2,
         "a4": 3,
         "a5": 3,
         "a6": 1,
         "_deepnote_index_column": 24
        },
        {
         "class": 0,
         "a1": 1,
         "a2": 2,
         "a3": 2,
         "a4": 3,
         "a5": 3,
         "a6": 2,
         "_deepnote_index_column": 25
        },
        {
         "class": 0,
         "a1": 1,
         "a2": 3,
         "a3": 1,
         "a4": 1,
         "a5": 2,
         "a6": 1,
         "_deepnote_index_column": 26
        },
        {
         "class": 0,
         "a1": 1,
         "a2": 3,
         "a3": 1,
         "a4": 1,
         "a5": 4,
         "a6": 1,
         "_deepnote_index_column": 27
        },
        {
         "class": 0,
         "a1": 1,
         "a2": 3,
         "a3": 1,
         "a4": 2,
         "a5": 2,
         "a6": 1,
         "_deepnote_index_column": 28
        },
        {
         "class": 0,
         "a1": 1,
         "a2": 3,
         "a3": 1,
         "a4": 2,
         "a5": 4,
         "a6": 1,
         "_deepnote_index_column": 29
        },
        {
         "class": 1,
         "a1": 1,
         "a2": 3,
         "a3": 1,
         "a4": 3,
         "a5": 1,
         "a6": 2,
         "_deepnote_index_column": 30
        },
        {
         "class": 0,
         "a1": 1,
         "a2": 3,
         "a3": 1,
         "a4": 3,
         "a5": 2,
         "a6": 2,
         "_deepnote_index_column": 31
        },
        {
         "class": 0,
         "a1": 1,
         "a2": 3,
         "a3": 1,
         "a4": 3,
         "a5": 3,
         "a6": 1,
         "_deepnote_index_column": 32
        },
        {
         "class": 0,
         "a1": 1,
         "a2": 3,
         "a3": 1,
         "a4": 3,
         "a5": 4,
         "a6": 1,
         "_deepnote_index_column": 33
        },
        {
         "class": 0,
         "a1": 1,
         "a2": 3,
         "a3": 1,
         "a4": 3,
         "a5": 4,
         "a6": 2,
         "_deepnote_index_column": 34
        },
        {
         "class": 0,
         "a1": 1,
         "a2": 3,
         "a3": 2,
         "a4": 1,
         "a5": 2,
         "a6": 2,
         "_deepnote_index_column": 35
        },
        {
         "class": 1,
         "a1": 1,
         "a2": 3,
         "a3": 2,
         "a4": 2,
         "a5": 1,
         "a6": 2,
         "_deepnote_index_column": 36
        },
        {
         "class": 0,
         "a1": 1,
         "a2": 3,
         "a3": 2,
         "a4": 2,
         "a5": 2,
         "a6": 2,
         "_deepnote_index_column": 37
        },
        {
         "class": 0,
         "a1": 1,
         "a2": 3,
         "a3": 2,
         "a4": 2,
         "a5": 3,
         "a6": 2,
         "_deepnote_index_column": 38
        },
        {
         "class": 0,
         "a1": 1,
         "a2": 3,
         "a3": 2,
         "a4": 2,
         "a5": 4,
         "a6": 1,
         "_deepnote_index_column": 39
        },
        {
         "class": 0,
         "a1": 1,
         "a2": 3,
         "a3": 2,
         "a4": 2,
         "a5": 4,
         "a6": 2,
         "_deepnote_index_column": 40
        },
        {
         "class": 1,
         "a1": 1,
         "a2": 3,
         "a3": 2,
         "a4": 3,
         "a5": 1,
         "a6": 1,
         "_deepnote_index_column": 41
        },
        {
         "class": 0,
         "a1": 1,
         "a2": 3,
         "a3": 2,
         "a4": 3,
         "a5": 2,
         "a6": 1,
         "_deepnote_index_column": 42
        },
        {
         "class": 0,
         "a1": 1,
         "a2": 3,
         "a3": 2,
         "a4": 3,
         "a5": 4,
         "a6": 1,
         "_deepnote_index_column": 43
        },
        {
         "class": 0,
         "a1": 1,
         "a2": 3,
         "a3": 2,
         "a4": 3,
         "a5": 4,
         "a6": 2,
         "_deepnote_index_column": 44
        },
        {
         "class": 0,
         "a1": 2,
         "a2": 1,
         "a3": 1,
         "a4": 1,
         "a5": 3,
         "a6": 1,
         "_deepnote_index_column": 45
        },
        {
         "class": 0,
         "a1": 2,
         "a2": 1,
         "a3": 1,
         "a4": 1,
         "a5": 3,
         "a6": 2,
         "_deepnote_index_column": 46
        },
        {
         "class": 1,
         "a1": 2,
         "a2": 1,
         "a3": 1,
         "a4": 2,
         "a5": 1,
         "a6": 1,
         "_deepnote_index_column": 47
        },
        {
         "class": 1,
         "a1": 2,
         "a2": 1,
         "a3": 1,
         "a4": 2,
         "a5": 1,
         "a6": 2,
         "_deepnote_index_column": 48
        },
        {
         "class": 0,
         "a1": 2,
         "a2": 1,
         "a3": 1,
         "a4": 2,
         "a5": 2,
         "a6": 2,
         "_deepnote_index_column": 49
        },
        {
         "class": 0,
         "a1": 2,
         "a2": 1,
         "a3": 1,
         "a4": 2,
         "a5": 3,
         "a6": 1,
         "_deepnote_index_column": 50
        },
        {
         "class": 0,
         "a1": 2,
         "a2": 1,
         "a3": 1,
         "a4": 2,
         "a5": 4,
         "a6": 1,
         "_deepnote_index_column": 51
        },
        {
         "class": 0,
         "a1": 2,
         "a2": 1,
         "a3": 1,
         "a4": 2,
         "a5": 4,
         "a6": 2,
         "_deepnote_index_column": 52
        },
        {
         "class": 0,
         "a1": 2,
         "a2": 1,
         "a3": 1,
         "a4": 3,
         "a5": 4,
         "a6": 1,
         "_deepnote_index_column": 53
        },
        {
         "class": 0,
         "a1": 2,
         "a2": 1,
         "a3": 2,
         "a4": 1,
         "a5": 2,
         "a6": 2,
         "_deepnote_index_column": 54
        },
        {
         "class": 0,
         "a1": 2,
         "a2": 1,
         "a3": 2,
         "a4": 1,
         "a5": 3,
         "a6": 1,
         "_deepnote_index_column": 55
        },
        {
         "class": 0,
         "a1": 2,
         "a2": 1,
         "a3": 2,
         "a4": 1,
         "a5": 4,
         "a6": 2,
         "_deepnote_index_column": 56
        },
        {
         "class": 0,
         "a1": 2,
         "a2": 1,
         "a3": 2,
         "a4": 2,
         "a5": 3,
         "a6": 1,
         "_deepnote_index_column": 57
        },
        {
         "class": 0,
         "a1": 2,
         "a2": 1,
         "a3": 2,
         "a4": 2,
         "a5": 4,
         "a6": 2,
         "_deepnote_index_column": 58
        },
        {
         "class": 0,
         "a1": 2,
         "a2": 1,
         "a3": 2,
         "a4": 3,
         "a5": 2,
         "a6": 2,
         "_deepnote_index_column": 59
        },
        {
         "class": 0,
         "a1": 2,
         "a2": 1,
         "a3": 2,
         "a4": 3,
         "a5": 4,
         "a6": 1,
         "_deepnote_index_column": 60
        },
        {
         "class": 1,
         "a1": 2,
         "a2": 2,
         "a3": 1,
         "a4": 1,
         "a5": 2,
         "a6": 1,
         "_deepnote_index_column": 61
        },
        {
         "class": 1,
         "a1": 2,
         "a2": 2,
         "a3": 1,
         "a4": 1,
         "a5": 2,
         "a6": 2,
         "_deepnote_index_column": 62
        },
        {
         "class": 1,
         "a1": 2,
         "a2": 2,
         "a3": 1,
         "a4": 1,
         "a5": 3,
         "a6": 1,
         "_deepnote_index_column": 63
        },
        {
         "class": 1,
         "a1": 2,
         "a2": 2,
         "a3": 1,
         "a4": 2,
         "a5": 3,
         "a6": 2,
         "_deepnote_index_column": 64
        },
        {
         "class": 1,
         "a1": 2,
         "a2": 2,
         "a3": 1,
         "a4": 3,
         "a5": 1,
         "a6": 1,
         "_deepnote_index_column": 65
        },
        {
         "class": 1,
         "a1": 2,
         "a2": 2,
         "a3": 1,
         "a4": 3,
         "a5": 1,
         "a6": 2,
         "_deepnote_index_column": 66
        },
        {
         "class": 1,
         "a1": 2,
         "a2": 2,
         "a3": 1,
         "a4": 3,
         "a5": 2,
         "a6": 2,
         "_deepnote_index_column": 67
        },
        {
         "class": 1,
         "a1": 2,
         "a2": 2,
         "a3": 1,
         "a4": 3,
         "a5": 3,
         "a6": 2,
         "_deepnote_index_column": 68
        },
        {
         "class": 1,
         "a1": 2,
         "a2": 2,
         "a3": 1,
         "a4": 3,
         "a5": 4,
         "a6": 2,
         "_deepnote_index_column": 69
        },
        {
         "class": 1,
         "a1": 2,
         "a2": 2,
         "a3": 2,
         "a4": 1,
         "a5": 1,
         "a6": 1,
         "_deepnote_index_column": 70
        },
        {
         "class": 1,
         "a1": 2,
         "a2": 2,
         "a3": 2,
         "a4": 1,
         "a5": 3,
         "a6": 2,
         "_deepnote_index_column": 71
        },
        {
         "class": 1,
         "a1": 2,
         "a2": 2,
         "a3": 2,
         "a4": 1,
         "a5": 4,
         "a6": 1,
         "_deepnote_index_column": 72
        },
        {
         "class": 1,
         "a1": 2,
         "a2": 2,
         "a3": 2,
         "a4": 1,
         "a5": 4,
         "a6": 2,
         "_deepnote_index_column": 73
        },
        {
         "class": 1,
         "a1": 2,
         "a2": 2,
         "a3": 2,
         "a4": 2,
         "a5": 2,
         "a6": 1,
         "_deepnote_index_column": 74
        },
        {
         "class": 1,
         "a1": 2,
         "a2": 2,
         "a3": 2,
         "a4": 3,
         "a5": 4,
         "a6": 1,
         "_deepnote_index_column": 75
        },
        {
         "class": 1,
         "a1": 2,
         "a2": 3,
         "a3": 1,
         "a4": 1,
         "a5": 1,
         "a6": 1,
         "_deepnote_index_column": 76
        },
        {
         "class": 1,
         "a1": 2,
         "a2": 3,
         "a3": 1,
         "a4": 2,
         "a5": 1,
         "a6": 1,
         "_deepnote_index_column": 77
        },
        {
         "class": 0,
         "a1": 2,
         "a2": 3,
         "a3": 1,
         "a4": 2,
         "a5": 3,
         "a6": 1,
         "_deepnote_index_column": 78
        },
        {
         "class": 1,
         "a1": 2,
         "a2": 3,
         "a3": 1,
         "a4": 3,
         "a5": 1,
         "a6": 2,
         "_deepnote_index_column": 79
        },
        {
         "class": 0,
         "a1": 2,
         "a2": 3,
         "a3": 1,
         "a4": 3,
         "a5": 3,
         "a6": 1,
         "_deepnote_index_column": 80
        },
        {
         "class": 0,
         "a1": 2,
         "a2": 3,
         "a3": 1,
         "a4": 3,
         "a5": 4,
         "a6": 2,
         "_deepnote_index_column": 81
        },
        {
         "class": 0,
         "a1": 2,
         "a2": 3,
         "a3": 2,
         "a4": 1,
         "a5": 3,
         "a6": 2,
         "_deepnote_index_column": 82
        },
        {
         "class": 1,
         "a1": 2,
         "a2": 3,
         "a3": 2,
         "a4": 2,
         "a5": 1,
         "a6": 1,
         "_deepnote_index_column": 83
        },
        {
         "class": 1,
         "a1": 2,
         "a2": 3,
         "a3": 2,
         "a4": 2,
         "a5": 1,
         "a6": 2,
         "_deepnote_index_column": 84
        },
        {
         "class": 0,
         "a1": 2,
         "a2": 3,
         "a3": 2,
         "a4": 2,
         "a5": 2,
         "a6": 1,
         "_deepnote_index_column": 85
        },
        {
         "class": 0,
         "a1": 2,
         "a2": 3,
         "a3": 2,
         "a4": 3,
         "a5": 3,
         "a6": 2,
         "_deepnote_index_column": 86
        },
        {
         "class": 1,
         "a1": 3,
         "a2": 1,
         "a3": 1,
         "a4": 1,
         "a5": 1,
         "a6": 1,
         "_deepnote_index_column": 87
        },
        {
         "class": 1,
         "a1": 3,
         "a2": 1,
         "a3": 1,
         "a4": 1,
         "a5": 1,
         "a6": 2,
         "_deepnote_index_column": 88
        },
        {
         "class": 1,
         "a1": 3,
         "a2": 1,
         "a3": 1,
         "a4": 2,
         "a5": 1,
         "a6": 1,
         "_deepnote_index_column": 89
        },
        {
         "class": 0,
         "a1": 3,
         "a2": 1,
         "a3": 1,
         "a4": 2,
         "a5": 2,
         "a6": 2,
         "_deepnote_index_column": 90
        },
        {
         "class": 0,
         "a1": 3,
         "a2": 1,
         "a3": 1,
         "a4": 3,
         "a5": 2,
         "a6": 2,
         "_deepnote_index_column": 91
        },
        {
         "class": 1,
         "a1": 3,
         "a2": 1,
         "a3": 2,
         "a4": 1,
         "a5": 1,
         "a6": 1,
         "_deepnote_index_column": 92
        },
        {
         "class": 0,
         "a1": 3,
         "a2": 1,
         "a3": 2,
         "a4": 1,
         "a5": 2,
         "a6": 2,
         "_deepnote_index_column": 93
        },
        {
         "class": 0,
         "a1": 3,
         "a2": 1,
         "a3": 2,
         "a4": 2,
         "a5": 2,
         "a6": 2,
         "_deepnote_index_column": 94
        },
        {
         "class": 0,
         "a1": 3,
         "a2": 1,
         "a3": 2,
         "a4": 2,
         "a5": 3,
         "a6": 2,
         "_deepnote_index_column": 95
        },
        {
         "class": 0,
         "a1": 3,
         "a2": 1,
         "a3": 2,
         "a4": 3,
         "a5": 2,
         "a6": 2,
         "_deepnote_index_column": 96
        },
        {
         "class": 1,
         "a1": 3,
         "a2": 2,
         "a3": 1,
         "a4": 1,
         "a5": 1,
         "a6": 1,
         "_deepnote_index_column": 97
        },
        {
         "class": 0,
         "a1": 3,
         "a2": 2,
         "a3": 1,
         "a4": 1,
         "a5": 4,
         "a6": 2,
         "_deepnote_index_column": 98
        },
        {
         "class": 1,
         "a1": 3,
         "a2": 2,
         "a3": 1,
         "a4": 2,
         "a5": 1,
         "a6": 2,
         "_deepnote_index_column": 99
        },
        {
         "class": 0,
         "a1": 3,
         "a2": 2,
         "a3": 1,
         "a4": 2,
         "a5": 4,
         "a6": 2,
         "_deepnote_index_column": 100
        },
        {
         "class": 1,
         "a1": 3,
         "a2": 2,
         "a3": 2,
         "a4": 1,
         "a5": 1,
         "a6": 1,
         "_deepnote_index_column": 101
        },
        {
         "class": 1,
         "a1": 3,
         "a2": 2,
         "a3": 2,
         "a4": 1,
         "a5": 1,
         "a6": 2,
         "_deepnote_index_column": 102
        },
        {
         "class": 0,
         "a1": 3,
         "a2": 2,
         "a3": 2,
         "a4": 1,
         "a5": 3,
         "a6": 2,
         "_deepnote_index_column": 103
        },
        {
         "class": 1,
         "a1": 3,
         "a2": 2,
         "a3": 2,
         "a4": 3,
         "a5": 1,
         "a6": 1,
         "_deepnote_index_column": 104
        },
        {
         "class": 0,
         "a1": 3,
         "a2": 2,
         "a3": 2,
         "a4": 3,
         "a5": 2,
         "a6": 1,
         "_deepnote_index_column": 105
        },
        {
         "class": 0,
         "a1": 3,
         "a2": 2,
         "a3": 2,
         "a4": 3,
         "a5": 4,
         "a6": 1,
         "_deepnote_index_column": 106
        },
        {
         "class": 1,
         "a1": 3,
         "a2": 3,
         "a3": 1,
         "a4": 1,
         "a5": 1,
         "a6": 1,
         "_deepnote_index_column": 107
        },
        {
         "class": 1,
         "a1": 3,
         "a2": 3,
         "a3": 1,
         "a4": 1,
         "a5": 2,
         "a6": 1,
         "_deepnote_index_column": 108
        },
        {
         "class": 1,
         "a1": 3,
         "a2": 3,
         "a3": 1,
         "a4": 1,
         "a5": 4,
         "a6": 2,
         "_deepnote_index_column": 109
        },
        {
         "class": 1,
         "a1": 3,
         "a2": 3,
         "a3": 1,
         "a4": 2,
         "a5": 3,
         "a6": 2,
         "_deepnote_index_column": 110
        },
        {
         "class": 1,
         "a1": 3,
         "a2": 3,
         "a3": 1,
         "a4": 2,
         "a5": 4,
         "a6": 2,
         "_deepnote_index_column": 111
        },
        {
         "class": 1,
         "a1": 3,
         "a2": 3,
         "a3": 1,
         "a4": 3,
         "a5": 1,
         "a6": 2,
         "_deepnote_index_column": 112
        },
        {
         "class": 1,
         "a1": 3,
         "a2": 3,
         "a3": 1,
         "a4": 3,
         "a5": 2,
         "a6": 1,
         "_deepnote_index_column": 113
        },
        {
         "class": 1,
         "a1": 3,
         "a2": 3,
         "a3": 1,
         "a4": 3,
         "a5": 2,
         "a6": 2,
         "_deepnote_index_column": 114
        },
        {
         "class": 1,
         "a1": 3,
         "a2": 3,
         "a3": 1,
         "a4": 3,
         "a5": 4,
         "a6": 2,
         "_deepnote_index_column": 115
        },
        {
         "class": 1,
         "a1": 3,
         "a2": 3,
         "a3": 2,
         "a4": 1,
         "a5": 1,
         "a6": 1,
         "_deepnote_index_column": 116
        },
        {
         "class": 1,
         "a1": 3,
         "a2": 3,
         "a3": 2,
         "a4": 1,
         "a5": 3,
         "a6": 2,
         "_deepnote_index_column": 117
        },
        {
         "class": 1,
         "a1": 3,
         "a2": 3,
         "a3": 2,
         "a4": 1,
         "a5": 4,
         "a6": 1,
         "_deepnote_index_column": 118
        },
        {
         "class": 1,
         "a1": 3,
         "a2": 3,
         "a3": 2,
         "a4": 1,
         "a5": 4,
         "a6": 2,
         "_deepnote_index_column": 119
        },
        {
         "class": 1,
         "a1": 3,
         "a2": 3,
         "a3": 2,
         "a4": 3,
         "a5": 1,
         "a6": 2,
         "_deepnote_index_column": 120
        },
        {
         "class": 1,
         "a1": 3,
         "a2": 3,
         "a3": 2,
         "a4": 3,
         "a5": 2,
         "a6": 2,
         "_deepnote_index_column": 121
        },
        {
         "class": 1,
         "a1": 3,
         "a2": 3,
         "a3": 2,
         "a4": 3,
         "a5": 3,
         "a6": 2,
         "_deepnote_index_column": 122
        },
        {
         "class": 1,
         "a1": 3,
         "a2": 3,
         "a3": 2,
         "a4": 3,
         "a5": 4,
         "a6": 2,
         "_deepnote_index_column": 123
        }
       ],
       "rows_bottom": null
      },
      "text/plain": "     class  a1  a2  a3  a4  a5  a6\n0        1   1   1   1   1   3   1\n1        1   1   1   1   1   3   2\n2        1   1   1   1   3   2   1\n3        1   1   1   1   3   3   2\n4        1   1   1   2   1   2   1\n..     ...  ..  ..  ..  ..  ..  ..\n119      1   3   3   2   1   4   2\n120      1   3   3   2   3   1   2\n121      1   3   3   2   3   2   2\n122      1   3   3   2   3   3   2\n123      1   3   3   2   3   4   2\n\n[124 rows x 7 columns]",
      "text/html": "<div>\n<style scoped>\n    .dataframe tbody tr th:only-of-type {\n        vertical-align: middle;\n    }\n\n    .dataframe tbody tr th {\n        vertical-align: top;\n    }\n\n    .dataframe thead th {\n        text-align: right;\n    }\n</style>\n<table border=\"1\" class=\"dataframe\">\n  <thead>\n    <tr style=\"text-align: right;\">\n      <th></th>\n      <th>class</th>\n      <th>a1</th>\n      <th>a2</th>\n      <th>a3</th>\n      <th>a4</th>\n      <th>a5</th>\n      <th>a6</th>\n    </tr>\n  </thead>\n  <tbody>\n    <tr>\n      <th>0</th>\n      <td>1</td>\n      <td>1</td>\n      <td>1</td>\n      <td>1</td>\n      <td>1</td>\n      <td>3</td>\n      <td>1</td>\n    </tr>\n    <tr>\n      <th>1</th>\n      <td>1</td>\n      <td>1</td>\n      <td>1</td>\n      <td>1</td>\n      <td>1</td>\n      <td>3</td>\n      <td>2</td>\n    </tr>\n    <tr>\n      <th>2</th>\n      <td>1</td>\n      <td>1</td>\n      <td>1</td>\n      <td>1</td>\n      <td>3</td>\n      <td>2</td>\n      <td>1</td>\n    </tr>\n    <tr>\n      <th>3</th>\n      <td>1</td>\n      <td>1</td>\n      <td>1</td>\n      <td>1</td>\n      <td>3</td>\n      <td>3</td>\n      <td>2</td>\n    </tr>\n    <tr>\n      <th>4</th>\n      <td>1</td>\n      <td>1</td>\n      <td>1</td>\n      <td>2</td>\n      <td>1</td>\n      <td>2</td>\n      <td>1</td>\n    </tr>\n    <tr>\n      <th>...</th>\n      <td>...</td>\n      <td>...</td>\n      <td>...</td>\n      <td>...</td>\n      <td>...</td>\n      <td>...</td>\n      <td>...</td>\n    </tr>\n    <tr>\n      <th>119</th>\n      <td>1</td>\n      <td>3</td>\n      <td>3</td>\n      <td>2</td>\n      <td>1</td>\n      <td>4</td>\n      <td>2</td>\n    </tr>\n    <tr>\n      <th>120</th>\n      <td>1</td>\n      <td>3</td>\n      <td>3</td>\n      <td>2</td>\n      <td>3</td>\n      <td>1</td>\n      <td>2</td>\n    </tr>\n    <tr>\n      <th>121</th>\n      <td>1</td>\n      <td>3</td>\n      <td>3</td>\n      <td>2</td>\n      <td>3</td>\n      <td>2</td>\n      <td>2</td>\n    </tr>\n    <tr>\n      <th>122</th>\n      <td>1</td>\n      <td>3</td>\n      <td>3</td>\n      <td>2</td>\n      <td>3</td>\n      <td>3</td>\n      <td>2</td>\n    </tr>\n    <tr>\n      <th>123</th>\n      <td>1</td>\n      <td>3</td>\n      <td>3</td>\n      <td>2</td>\n      <td>3</td>\n      <td>4</td>\n      <td>2</td>\n    </tr>\n  </tbody>\n</table>\n<p>124 rows × 7 columns</p>\n</div>"
     },
     "metadata": {}
    }
   ],
   "execution_count": null
  },
  {
   "cell_type": "code",
   "source": "fig_size = plt.rcParams[\"figure.figsize\"]\nfig_size[0] = 10\nfig_size[1] = 8\nplt.rcParams[\"figure.figsize\"] = fig_size\n\ndf_monk1_train['class'].value_counts().plot(kind='pie', autopct='%1.0f%%', colors=['skyblue', 'orange'], explode=(0.05, 0.05))",
   "metadata": {
    "tags": [],
    "cell_id": "00005-9871c03f-5475-45e7-b0bd-16fcb8946ab3",
    "deepnote_to_be_reexecuted": false,
    "source_hash": "335d6faf",
    "execution_start": 1638913310576,
    "execution_millis": 145,
    "deepnote_output_heights": [
     21.1875,
     451
    ],
    "deepnote_cell_type": "code"
   },
   "outputs": [
    {
     "output_type": "execute_result",
     "execution_count": 4,
     "data": {
      "text/plain": "<AxesSubplot:ylabel='class'>"
     },
     "metadata": {}
    },
    {
     "data": {
      "text/plain": "<Figure size 720x576 with 1 Axes>",
      "image/png": "[encoded data removed]"
     },
     "metadata": {
      "image/png": {
       "width": 463,
       "height": 449
      }
     },
     "output_type": "display_data"
    }
   ],
   "execution_count": null
  },
  {
   "cell_type": "code",
   "source": "df_monk1_test['class'].value_counts().plot(kind='pie', autopct='%1.0f%%', colors=['skyblue', 'orange'], explode=(0.05, 0.05))",
   "metadata": {
    "tags": [],
    "cell_id": "00006-cf57ec2c-783c-4fb6-b41c-1d6bb899e12d",
    "deepnote_to_be_reexecuted": false,
    "source_hash": "b584ea3",
    "execution_start": 1638912819261,
    "execution_millis": 159,
    "deepnote_output_heights": [
     21.1875,
     451
    ],
    "deepnote_cell_type": "code"
   },
   "outputs": [
    {
     "output_type": "execute_result",
     "execution_count": 15,
     "data": {
      "text/plain": "<AxesSubplot:ylabel='class'>"
     },
     "metadata": {}
    },
    {
     "data": {
      "text/plain": "<Figure size 720x576 with 1 Axes>",
      "image/png": "[encoded data removed]"
     },
     "metadata": {
      "image/png": {
       "width": 463,
       "height": 449
      }
     },
     "output_type": "display_data"
    }
   ],
   "execution_count": null
  },
  {
   "cell_type": "code",
   "source": "target_train = df_monk1_train.pop('class')\ntarget_test = df_monk1_test.pop('class')",
   "metadata": {
    "tags": [],
    "cell_id": "00006-6d2e73e4-db72-4c8a-9318-661ff3448836",
    "deepnote_to_be_reexecuted": false,
    "source_hash": "2491fc81",
    "execution_start": 1638913322163,
    "execution_millis": 1,
    "deepnote_cell_type": "code"
   },
   "outputs": [],
   "execution_count": null
  },
  {
   "cell_type": "code",
   "source": "numerical_columns = ['a1', 'a2', 'a3', 'a4', 'a5', 'a6']\n\ntrain_data = np.stack([df_monk1_train[col].values for col in numerical_columns], 1)\ntrain_data = torch.tensor(train_data, dtype=torch.float)\ntrain_data[:5]",
   "metadata": {
    "tags": [],
    "cell_id": "00006-fb912de3-08f1-4e26-b882-a1507ca7274c",
    "deepnote_to_be_reexecuted": false,
    "source_hash": "bba378c5",
    "execution_start": 1638913327034,
    "execution_millis": 25,
    "deepnote_output_heights": [
     98
    ],
    "deepnote_cell_type": "code"
   },
   "outputs": [
    {
     "output_type": "execute_result",
     "execution_count": 6,
     "data": {
      "text/plain": "tensor([[1., 1., 1., 1., 3., 1.],\n        [1., 1., 1., 1., 3., 2.],\n        [1., 1., 1., 3., 2., 1.],\n        [1., 1., 1., 3., 3., 2.],\n        [1., 1., 2., 1., 2., 1.]])"
     },
     "metadata": {}
    }
   ],
   "execution_count": null
  },
  {
   "cell_type": "code",
   "source": "test_data = np.stack([df_monk1_test[col].values for col in numerical_columns], 1)\ntest_data = torch.tensor(test_data, dtype=torch.float)\ntest_data[:5]",
   "metadata": {
    "tags": [],
    "cell_id": "00009-e03ba9f9-526f-4623-9cd7-fac74bd5c9fd",
    "deepnote_to_be_reexecuted": false,
    "source_hash": "16251e2a",
    "execution_start": 1638913338198,
    "execution_millis": 4,
    "deepnote_output_heights": [
     98
    ],
    "deepnote_cell_type": "code"
   },
   "outputs": [
    {
     "output_type": "execute_result",
     "execution_count": 7,
     "data": {
      "text/plain": "tensor([[1., 1., 1., 1., 1., 1.],\n        [1., 1., 1., 1., 1., 2.],\n        [1., 1., 1., 1., 2., 1.],\n        [1., 1., 1., 1., 2., 2.],\n        [1., 1., 1., 1., 3., 1.]])"
     },
     "metadata": {}
    }
   ],
   "execution_count": null
  },
  {
   "cell_type": "code",
   "source": "target_train.values",
   "metadata": {
    "tags": [],
    "cell_id": "00008-67646c40-aff7-4172-98cd-35661b61ce53",
    "deepnote_to_be_reexecuted": false,
    "source_hash": "86eac9af",
    "execution_start": 1638913342702,
    "execution_millis": 2,
    "deepnote_output_heights": [
     117.1875
    ],
    "deepnote_cell_type": "code"
   },
   "outputs": [
    {
     "output_type": "execute_result",
     "execution_count": 8,
     "data": {
      "text/plain": "array([1, 1, 1, 1, 1, 1, 1, 1, 1, 1, 0, 0, 0, 1, 0, 0, 0, 0, 0, 0, 0, 0,\n       0, 0, 0, 0, 0, 0, 0, 0, 1, 0, 0, 0, 0, 0, 1, 0, 0, 0, 0, 1, 0, 0,\n       0, 0, 0, 1, 1, 0, 0, 0, 0, 0, 0, 0, 0, 0, 0, 0, 0, 1, 1, 1, 1, 1,\n       1, 1, 1, 1, 1, 1, 1, 1, 1, 1, 1, 1, 0, 1, 0, 0, 0, 1, 1, 0, 0, 1,\n       1, 1, 0, 0, 1, 0, 0, 0, 0, 1, 0, 1, 0, 1, 1, 0, 1, 0, 0, 1, 1, 1,\n       1, 1, 1, 1, 1, 1, 1, 1, 1, 1, 1, 1, 1, 1])"
     },
     "metadata": {}
    }
   ],
   "execution_count": null
  },
  {
   "cell_type": "code",
   "source": "train_outputs = torch.tensor(target_train.values).flatten()\ntrain_outputs[:10]",
   "metadata": {
    "tags": [],
    "cell_id": "00008-0399adac-cc93-4cb6-87da-9385261ba8e7",
    "deepnote_to_be_reexecuted": false,
    "source_hash": "31d3f119",
    "execution_start": 1638913345508,
    "execution_millis": 5,
    "deepnote_output_heights": [
     21.1875
    ],
    "deepnote_cell_type": "code"
   },
   "outputs": [
    {
     "output_type": "execute_result",
     "execution_count": 9,
     "data": {
      "text/plain": "tensor([1, 1, 1, 1, 1, 1, 1, 1, 1, 1])"
     },
     "metadata": {}
    }
   ],
   "execution_count": null
  },
  {
   "cell_type": "code",
   "source": "test_outputs = torch.tensor(target_test.values).flatten()\ntest_outputs[:10]",
   "metadata": {
    "tags": [],
    "cell_id": "00012-7e646df8-ee05-444b-a54f-3f8277a2db26",
    "deepnote_to_be_reexecuted": false,
    "source_hash": "4ce925d9",
    "execution_start": 1638913348500,
    "execution_millis": 65,
    "deepnote_output_heights": [
     21.1875
    ],
    "deepnote_cell_type": "code"
   },
   "outputs": [
    {
     "output_type": "execute_result",
     "execution_count": 10,
     "data": {
      "text/plain": "tensor([1, 1, 1, 1, 1, 1, 1, 1, 1, 1])"
     },
     "metadata": {}
    }
   ],
   "execution_count": null
  },
  {
   "cell_type": "code",
   "source": "print(train_data.shape)\nprint(train_outputs.shape)\n\nprint(test_data.shape)\nprint(test_outputs.shape)",
   "metadata": {
    "tags": [],
    "cell_id": "00010-941dabef-b9df-4f15-aaee-80fe3e5135ac",
    "deepnote_to_be_reexecuted": false,
    "source_hash": "d5ded0b",
    "execution_start": 1638913387356,
    "execution_millis": 2,
    "deepnote_cell_type": "code"
   },
   "outputs": [
    {
     "name": "stdout",
     "text": "torch.Size([124, 6])\ntorch.Size([124])\ntorch.Size([432, 6])\ntorch.Size([432])\n",
     "output_type": "stream"
    }
   ],
   "execution_count": null
  },
  {
   "cell_type": "code",
   "source": "class Model(nn.Module):\n    ",
   "metadata": {
    "tags": [],
    "cell_id": "00015-5cd64e11-0775-4a6a-9fa2-3695d81bd76f",
    "deepnote_cell_type": "code"
   },
   "outputs": [],
   "execution_count": null
  },
  {
   "cell_type": "code",
   "metadata": {
    "tags": [],
    "cell_id": "00001-58b08f1c-ba98-4b40-bb3e-8a31f6003d9e",
    "deepnote_to_be_reexecuted": false,
    "source_hash": "302bf9a9",
    "execution_start": 1638879114715,
    "execution_millis": 3,
    "deepnote_cell_type": "code"
   },
   "source": "# Create random input and output data\n#x = torch.linspace(-math.pi, math.pi, 2000, device=device, dtype=dtype)\n#y = torch.sin(x)\n\n# Create Tensors to hold input and outputs.\nx = torch.linspace(-math.pi, math.pi, 2000)\ny = torch.sin(x)\n\n# For this example, the output y is a linear function of (x, x^2, x^3), so\n# we can consider it as a linear layer neural network. Let's prepare the\n# tensor (x, x^2, x^3).\np = torch.tensor([1, 2, 3])\nxx = x.unsqueeze(-1).pow(p)",
   "execution_count": null,
   "outputs": []
  },
  {
   "cell_type": "code",
   "metadata": {
    "tags": [],
    "cell_id": "00002-dd7675b3-435f-446f-826e-272f04d7c222",
    "deepnote_to_be_reexecuted": false,
    "source_hash": "9f291702",
    "execution_start": 1638879114722,
    "execution_millis": 3,
    "deepnote_cell_type": "code"
   },
   "source": "# The Flatten layer flatens the output of the linear layer to a 1D tensor,\n# to match the shape of `y`.\nmodel = torch.nn.Sequential(\n    torch.nn.Linear(3, 1),\n    torch.nn.Flatten(0, 1)\n)\n\n#in this case we will use Mean Squared Error (MSE) as our loss function.\nloss_fn = torch.nn.MSELoss(reduction='sum')\nlearning_rate = 1e-6\noptimizer = torch.optim.RMSprop(model.parameters(), lr=learning_rate)",
   "execution_count": null,
   "outputs": []
  },
  {
   "cell_type": "code",
   "metadata": {
    "tags": [],
    "cell_id": "00002-0186672c-8ac9-4619-a8d9-151fc8a95a95",
    "deepnote_to_be_reexecuted": false,
    "source_hash": "9e11d6ae",
    "execution_start": 1638879114730,
    "execution_millis": 804,
    "deepnote_cell_type": "code"
   },
   "source": "for t in range(2000):\n\n    # Forward pass: compute predicted y by passing x to the model. Module objects\n    # override the __call__ operator so you can call them like functions. When\n    # doing so you pass a Tensor of input data to the Module and it produces\n    # a Tensor of output data.\n    y_pred = model(xx)\n\n    # Compute and print loss. We pass Tensors containing the predicted and true\n    # values of y, and the loss function returns a Tensor containing the\n    # loss.\n    loss = loss_fn(y_pred, y)\n    if t % 100 == 99:\n        print(t, loss.item())\n\n    optimizer.zero_grad()\n\n    # Backward pass: compute gradient of the loss with respect to all the learnable\n    # parameters of the model. Internally, the parameters of each Module are stored\n    # in Tensors with requires_grad=True, so this call will compute gradients for\n    # all learnable parameters in the model.\n    loss.backward()\n\n    # Calling the step function on an Optimizer makes an update to its\n    # parameters.\n    optimizer.step()",
   "execution_count": null,
   "outputs": [
    {
     "name": "stdout",
     "text": "99 13253.396484375\n199 13236.71875\n299 13221.4853515625\n399 13206.693359375\n499 13192.0654296875\n599 13177.5146484375\n699 13162.970703125\n799 13148.4365234375\n899 13133.91015625\n999 13119.392578125\n1099 13104.8828125\n1199 13090.380859375\n1299 13075.88671875\n1399 13061.4013671875\n1499 13046.92578125\n1599 13032.4560546875\n1699 13017.9951171875\n1799 13003.5439453125\n1899 12989.0986328125\n1999 12974.6640625\n",
     "output_type": "stream"
    }
   ]
  },
  {
   "cell_type": "code",
   "metadata": {
    "tags": [],
    "cell_id": "00003-0053b5ac-1d55-4dc1-a94e-192fba27bfff",
    "deepnote_to_be_reexecuted": false,
    "source_hash": "7081b910",
    "execution_start": 1638879115540,
    "execution_millis": 4,
    "deepnote_cell_type": "code"
   },
   "source": "# You can access the first layer of `model` like accessing the first item of a list\nlinear_layer = model[0]\n\n# For linear layer, its parameters are stored as `weight` and `bias`.\nprint(f'Result: y = {linear_layer.bias.item()} + {linear_layer.weight[:, 0].item()} x + {linear_layer.weight[:, 1].item()} x^2 + {linear_layer.weight[:, 2].item()} x^3')",
   "execution_count": null,
   "outputs": [
    {
     "name": "stdout",
     "text": "Result: y = -0.2853644788265228 + 0.46408843994140625 x + -0.19258742034435272 x^2 + 0.15723896026611328 x^3\n",
     "output_type": "stream"
    }
   ]
  },
  {
   "cell_type": "markdown",
   "source": "<a style='text-decoration:none;line-height:16px;display:flex;color:#5B5B62;padding:10px;justify-content:end;' href='https://deepnote.com?utm_source=created-in-deepnote-cell&projectId=d9d840c9-75b3-4185-bb01-105f5cca8d83' target=\"_blank\">\n<img alt='Created in deepnote.com' style='display:inline;max-height:16px;margin:0px;margin-right:7.5px;' src='data:image/svg+xml;base64,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' > </img>\nCreated in <span style='font-weight:600;margin-left:4px;'>Deepnote</span></a>",
   "metadata": {
    "tags": [],
    "created_in_deepnote_cell": true,
    "deepnote_cell_type": "markdown"
   }
  }
 ],
 "nbformat": 4,
 "nbformat_minor": 2,
 "metadata": {
  "orig_nbformat": 2,
  "deepnote": {
   "is_reactive": false
  },
  "deepnote_notebook_id": "29e5ab88-e848-42f4-9b93-01e2cb324e6f",
  "deepnote_execution_queue": []
 }
}