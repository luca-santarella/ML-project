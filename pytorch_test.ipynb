{
 "cells": [
  {
   "cell_type": "code",
   "metadata": {
    "tags": [],
    "cell_id": "00000-feb3ee80-e873-4ef4-a1b5-a0d721e44191",
    "deepnote_to_be_reexecuted": false,
    "source_hash": "d606e65",
    "execution_start": 1639401781956,
    "execution_millis": 1356,
    "deepnote_output_heights": [
     21.1875
    ],
    "deepnote_cell_type": "code"
   },
   "source": "import torch\nimport torch.nn as nn\nimport numpy as np\nimport math\nimport matplotlib.pyplot as plt\nimport pandas as pd\nfrom sklearn.preprocessing import OneHotEncoder\nfrom torch.utils.data import Dataset, DataLoader\nfrom sklearn.metrics import confusion_matrix, classification_report\nfrom sklearn import preprocessing\nimport seaborn as sns\nimport warnings\nwarnings.filterwarnings(\"ignore\")\n%matplotlib inline\n\ndtype = torch.float\ndevice = torch.device(\"cpu\")",
   "execution_count": null,
   "outputs": []
  },
  {
   "cell_type": "code",
   "metadata": {
    "tags": [],
    "cell_id": "00001-11c4d000-aa9e-4ed6-81e8-ae6f5e457f24",
    "deepnote_to_be_reexecuted": false,
    "source_hash": "f89c1373",
    "execution_start": 1639401783316,
    "execution_millis": 2,
    "deepnote_cell_type": "code"
   },
   "source": "BATCH_SIZE = 124\nLEARNING_RATE = 0.01\nEPOCHS = 25",
   "execution_count": null,
   "outputs": []
  },
  {
   "cell_type": "code",
   "metadata": {
    "tags": [],
    "cell_id": "00001-c12b18fb-ed98-4ce3-9250-60e81c575cbb",
    "deepnote_to_be_reexecuted": false,
    "source_hash": "de5d7673",
    "execution_start": 1639401783327,
    "execution_millis": 0,
    "deepnote_cell_type": "code"
   },
   "source": "## train data\nclass TrainData(Dataset):\n    \n    def __init__(self, X_data, y_data):\n        self.X_data = X_data\n        self.y_data = y_data\n        \n    def __getitem__(self, index):\n        return self.X_data[index], self.y_data[index]\n        \n    def __len__ (self):\n        return len(self.X_data)\n\n## test data    \nclass TestData(Dataset):\n    \n    def __init__(self, X_data, y_data):\n        self.X_data = X_data\n        self.y_data = y_data\n        \n    def __getitem__(self, index):\n        return self.X_data[index], self.y_data[index]\n        \n    def __len__ (self):\n        return len(self.X_data)",
   "execution_count": null,
   "outputs": []
  },
  {
   "cell_type": "code",
   "metadata": {
    "tags": [],
    "cell_id": "00004-8c25520e-de6a-4685-ab0a-e93716fe7c65",
    "deepnote_to_be_reexecuted": false,
    "source_hash": "d3d63b85",
    "execution_start": 1639401783329,
    "execution_millis": 2,
    "deepnote_cell_type": "code"
   },
   "source": "def binary_acc(y_pred, y_test):\n    y_pred_tag = torch.round(torch.sigmoid(y_pred))\n\n    correct_results_sum = (y_pred_tag == y_test).sum().float()\n    acc = correct_results_sum/y_test.shape[0]\n    acc = torch.round(acc * 100)\n    \n    return acc",
   "execution_count": null,
   "outputs": []
  },
  {
   "cell_type": "code",
   "metadata": {
    "tags": [],
    "cell_id": "00002-2a5bec1d-9fea-490a-8952-e78202ec55c8",
    "deepnote_to_be_reexecuted": false,
    "source_hash": "45e56483",
    "execution_start": 1639401783348,
    "execution_millis": 1,
    "deepnote_cell_type": "code"
   },
   "source": "class BinaryClassification(nn.Module):\n    def __init__(self, number_features, number_neurons):\n        super(BinaryClassification, self).__init__()\n        # Number of input features is 6.\n        self.layer_1 = nn.Linear(number_features, number_neurons) \n        #self.layer_2 = nn.Linear(number_neurons, number_neurons)\n        self.layer_out = nn.Linear(number_neurons, 1) \n        \n        self.relu = nn.ReLU()\n        self.dropout = nn.Dropout(p=0.1)\n        self.batchnorm1 = nn.BatchNorm1d(number_neurons)\n        #self.batchnorm2 = nn.BatchNorm1d(number_neurons)\n\n    def forward(self, inputs):\n        x = self.relu(self.layer_1(inputs))\n        x = self.batchnorm1(x)\n        #x = self.relu(self.layer_2(x))\n        #x = self.batchnorm2(x)\n        x = self.dropout(x)\n        x = self.layer_out(x)\n        \n        return x",
   "execution_count": null,
   "outputs": []
  },
  {
   "cell_type": "code",
   "metadata": {
    "tags": [],
    "cell_id": "00001-6d2402a8-019e-4696-ad6b-1d223410aa3a",
    "deepnote_to_be_reexecuted": false,
    "source_hash": "9361d839",
    "execution_start": 1639401783349,
    "execution_millis": 0,
    "deepnote_output_heights": [
     78.796875
    ],
    "deepnote_cell_type": "code"
   },
   "source": "def TrainPhase(epochs, model, aggregated_losses, aggregated_accuracy, data_train, loss, optimizer):\n    model.train()\n\n    i = epochs\n    #for i in range(1, epochs+1):\n    epoch_loss = 0\n    epoch_acc = 0\n    for X_batch, y_batch in data_train:\n        optimizer.zero_grad()\n       \n        y_pred = model(X_batch)\n        \n        single_loss = loss(y_pred, y_batch.unsqueeze(1))\n        acc = binary_acc(y_pred, y_batch.unsqueeze(1))\n            \n        \n        single_loss.backward()\n        optimizer.step()\n        \n        epoch_loss += single_loss.item()\n        epoch_acc += acc.item()\n        \n    aggregated_losses.append(epoch_loss/len(data_train))\n    aggregated_accuracy.append((epoch_acc/len(data_train))/100)\n    print(f'TRAIN - Epoch {i+0:03}: | Loss: {epoch_loss/len(data_train):.5f} | Acc: {epoch_acc/len(data_train):.3f}')\n    \n    return model, aggregated_losses, aggregated_accuracy\n        #i += 1\n        #y_pred = model(data_train)\n\n        #loss\n        #single_loss = loss(y_pred, target_train.reshape(-1,1))\n        #aggregated_losses.append(single_loss)\n    \n        #accuracy \n        #acc = binary_acc(y_pred, target_train.reshape(-1,1)) \n        #acc = (y_pred.reshape(-1).detach().numpy().round() == target_train).mean()\n        #aggregated_accuracy.append(acc)\n\n        #if i%25 == 1:\n        #print(f'epoch: {i:3} loss: {single_loss.item():10.8f} accuracy: {acc/124:10.8f}')\n\n        #optimizer.zero_grad()\n        #single_loss.backward()\n        #optimizer.step()\n\n    #print(f'epoch: {i:3} loss: {single_loss.item():10.10f} accuracy: {acc:10.8f}')\n\n    #return model, aggregated_losses, aggregated_accuracy",
   "execution_count": null,
   "outputs": []
  },
  {
   "cell_type": "code",
   "metadata": {
    "tags": [],
    "cell_id": "00002-a19b1be6-1674-4666-b468-423693c7e356",
    "deepnote_to_be_reexecuted": false,
    "source_hash": "235ed8e7",
    "execution_start": 1639401783350,
    "execution_millis": 1,
    "deepnote_output_heights": [
     78.796875
    ],
    "deepnote_cell_type": "code"
   },
   "source": "def Evaluate(epochs, model, aggregated_losses, aggregated_accuracy, data_test, loss_f):\n    \n    i = epochs\n    #for i in range(1, epochs+1):\n    y_pred_list = []\n    model.eval()\n        \n    epoch_loss = 0\n    epoch_acc = 0\n\n    with torch.no_grad():\n        for X_batch, y_batch in data_test:\n            y_test_pred = model(X_batch)\n            loss = loss_f(y_test_pred, y_batch.unsqueeze(1))\n            acc = binary_acc(y_test_pred, y_batch.unsqueeze(1))\n                \n            epoch_loss += loss.item()\n            epoch_acc += acc.item()\n\n            y_test_pred = torch.sigmoid(y_test_pred)\n            y_pred_tag = torch.round(y_test_pred)\n            y_pred_list.append(y_pred_tag.cpu().numpy())\n\n    y_pred_list = [a.squeeze().tolist() for a in y_pred_list]\n\n    aggregated_losses.append(epoch_loss/len(data_test))\n    aggregated_accuracy.append((epoch_acc/len(data_test))/100)\n    print(f'TEST - Epoch {i+0:03}: | Loss: {epoch_loss/len(data_test):.5f} | Acc: {epoch_acc/len(data_test):.3f}')\n    \n    return y_pred_list, aggregated_losses, aggregated_accuracy\n    ",
   "execution_count": null,
   "outputs": []
  },
  {
   "cell_type": "markdown",
   "source": "## Loading MONK-1 dataset",
   "metadata": {
    "tags": [],
    "cell_id": "00000-3c151ff9-9d1e-45e5-aaa2-5ad7d942f1af",
    "deepnote_cell_type": "markdown"
   }
  },
  {
   "cell_type": "code",
   "metadata": {
    "tags": [],
    "cell_id": "00001-fd0a2f32-f2f3-4a89-94dc-9175c5f69468",
    "deepnote_to_be_reexecuted": false,
    "source_hash": "cf496629",
    "execution_start": 1639401783390,
    "execution_millis": 0,
    "deepnote_cell_type": "code"
   },
   "source": "df_monk1_train = pd.read_csv('./data/MONK/monks-1.train', sep=\" \", skipinitialspace=True, names=['class','a1','a2','a3','a4','a5','a6','id'])\ndf_monk1_train.drop(labels='id', axis=1, inplace=True)\n\ndf_monk1_test = pd.read_csv('./data/MONK/monks-1.test', sep=\" \", skipinitialspace=True,  names=['class','a1','a2','a3','a4','a5','a6','id'])\ndf_monk1_test.drop(labels='id', axis=1, inplace=True)",
   "execution_count": null,
   "outputs": []
  },
  {
   "cell_type": "code",
   "metadata": {
    "tags": [],
    "cell_id": "00000-2f3640fb-95bb-4c37-b4f3-7b54a312e8e5",
    "deepnote_to_be_reexecuted": false,
    "source_hash": "b9292661",
    "execution_start": 1639401783391,
    "execution_millis": 5,
    "deepnote_cell_type": "code"
   },
   "source": "df_monk1_test.head() #first column is the target (can be either 0 or 1)",
   "execution_count": null,
   "outputs": [
    {
     "output_type": "execute_result",
     "execution_count": 9,
     "data": {
      "application/vnd.deepnote.dataframe.v2+json": {
       "row_count": 5,
       "column_count": 7,
       "columns": [
        {
         "name": "class",
         "dtype": "int64",
         "stats": {
          "unique_count": 1,
          "nan_count": 0,
          "min": "1",
          "max": "1",
          "histogram": [
           {
            "bin_start": 0.5,
            "bin_end": 0.6,
            "count": 0
           },
           {
            "bin_start": 0.6,
            "bin_end": 0.7,
            "count": 0
           },
           {
            "bin_start": 0.7,
            "bin_end": 0.8,
            "count": 0
           },
           {
            "bin_start": 0.8,
            "bin_end": 0.9,
            "count": 0
           },
           {
            "bin_start": 0.9,
            "bin_end": 1,
            "count": 0
           },
           {
            "bin_start": 1,
            "bin_end": 1.1,
            "count": 5
           },
           {
            "bin_start": 1.1,
            "bin_end": 1.2000000000000002,
            "count": 0
           },
           {
            "bin_start": 1.2000000000000002,
            "bin_end": 1.3,
            "count": 0
           },
           {
            "bin_start": 1.3,
            "bin_end": 1.4,
            "count": 0
           },
           {
            "bin_start": 1.4,
            "bin_end": 1.5,
            "count": 0
           }
          ]
         }
        },
        {
         "name": "a1",
         "dtype": "int64",
         "stats": {
          "unique_count": 1,
          "nan_count": 0,
          "min": "1",
          "max": "1",
          "histogram": [
           {
            "bin_start": 0.5,
            "bin_end": 0.6,
            "count": 0
           },
           {
            "bin_start": 0.6,
            "bin_end": 0.7,
            "count": 0
           },
           {
            "bin_start": 0.7,
            "bin_end": 0.8,
            "count": 0
           },
           {
            "bin_start": 0.8,
            "bin_end": 0.9,
            "count": 0
           },
           {
            "bin_start": 0.9,
            "bin_end": 1,
            "count": 0
           },
           {
            "bin_start": 1,
            "bin_end": 1.1,
            "count": 5
           },
           {
            "bin_start": 1.1,
            "bin_end": 1.2000000000000002,
            "count": 0
           },
           {
            "bin_start": 1.2000000000000002,
            "bin_end": 1.3,
            "count": 0
           },
           {
            "bin_start": 1.3,
            "bin_end": 1.4,
            "count": 0
           },
           {
            "bin_start": 1.4,
            "bin_end": 1.5,
            "count": 0
           }
          ]
         }
        },
        {
         "name": "a2",
         "dtype": "int64",
         "stats": {
          "unique_count": 1,
          "nan_count": 0,
          "min": "1",
          "max": "1",
          "histogram": [
           {
            "bin_start": 0.5,
            "bin_end": 0.6,
            "count": 0
           },
           {
            "bin_start": 0.6,
            "bin_end": 0.7,
            "count": 0
           },
           {
            "bin_start": 0.7,
            "bin_end": 0.8,
            "count": 0
           },
           {
            "bin_start": 0.8,
            "bin_end": 0.9,
            "count": 0
           },
           {
            "bin_start": 0.9,
            "bin_end": 1,
            "count": 0
           },
           {
            "bin_start": 1,
            "bin_end": 1.1,
            "count": 5
           },
           {
            "bin_start": 1.1,
            "bin_end": 1.2000000000000002,
            "count": 0
           },
           {
            "bin_start": 1.2000000000000002,
            "bin_end": 1.3,
            "count": 0
           },
           {
            "bin_start": 1.3,
            "bin_end": 1.4,
            "count": 0
           },
           {
            "bin_start": 1.4,
            "bin_end": 1.5,
            "count": 0
           }
          ]
         }
        },
        {
         "name": "a3",
         "dtype": "int64",
         "stats": {
          "unique_count": 1,
          "nan_count": 0,
          "min": "1",
          "max": "1",
          "histogram": [
           {
            "bin_start": 0.5,
            "bin_end": 0.6,
            "count": 0
           },
           {
            "bin_start": 0.6,
            "bin_end": 0.7,
            "count": 0
           },
           {
            "bin_start": 0.7,
            "bin_end": 0.8,
            "count": 0
           },
           {
            "bin_start": 0.8,
            "bin_end": 0.9,
            "count": 0
           },
           {
            "bin_start": 0.9,
            "bin_end": 1,
            "count": 0
           },
           {
            "bin_start": 1,
            "bin_end": 1.1,
            "count": 5
           },
           {
            "bin_start": 1.1,
            "bin_end": 1.2000000000000002,
            "count": 0
           },
           {
            "bin_start": 1.2000000000000002,
            "bin_end": 1.3,
            "count": 0
           },
           {
            "bin_start": 1.3,
            "bin_end": 1.4,
            "count": 0
           },
           {
            "bin_start": 1.4,
            "bin_end": 1.5,
            "count": 0
           }
          ]
         }
        },
        {
         "name": "a4",
         "dtype": "int64",
         "stats": {
          "unique_count": 1,
          "nan_count": 0,
          "min": "1",
          "max": "1",
          "histogram": [
           {
            "bin_start": 0.5,
            "bin_end": 0.6,
            "count": 0
           },
           {
            "bin_start": 0.6,
            "bin_end": 0.7,
            "count": 0
           },
           {
            "bin_start": 0.7,
            "bin_end": 0.8,
            "count": 0
           },
           {
            "bin_start": 0.8,
            "bin_end": 0.9,
            "count": 0
           },
           {
            "bin_start": 0.9,
            "bin_end": 1,
            "count": 0
           },
           {
            "bin_start": 1,
            "bin_end": 1.1,
            "count": 5
           },
           {
            "bin_start": 1.1,
            "bin_end": 1.2000000000000002,
            "count": 0
           },
           {
            "bin_start": 1.2000000000000002,
            "bin_end": 1.3,
            "count": 0
           },
           {
            "bin_start": 1.3,
            "bin_end": 1.4,
            "count": 0
           },
           {
            "bin_start": 1.4,
            "bin_end": 1.5,
            "count": 0
           }
          ]
         }
        },
        {
         "name": "a5",
         "dtype": "int64",
         "stats": {
          "unique_count": 3,
          "nan_count": 0,
          "min": "1",
          "max": "3",
          "histogram": [
           {
            "bin_start": 1,
            "bin_end": 1.2,
            "count": 2
           },
           {
            "bin_start": 1.2,
            "bin_end": 1.4,
            "count": 0
           },
           {
            "bin_start": 1.4,
            "bin_end": 1.6,
            "count": 0
           },
           {
            "bin_start": 1.6,
            "bin_end": 1.8,
            "count": 0
           },
           {
            "bin_start": 1.8,
            "bin_end": 2,
            "count": 0
           },
           {
            "bin_start": 2,
            "bin_end": 2.2,
            "count": 2
           },
           {
            "bin_start": 2.2,
            "bin_end": 2.4000000000000004,
            "count": 0
           },
           {
            "bin_start": 2.4000000000000004,
            "bin_end": 2.6,
            "count": 0
           },
           {
            "bin_start": 2.6,
            "bin_end": 2.8,
            "count": 0
           },
           {
            "bin_start": 2.8,
            "bin_end": 3,
            "count": 1
           }
          ]
         }
        },
        {
         "name": "a6",
         "dtype": "int64",
         "stats": {
          "unique_count": 2,
          "nan_count": 0,
          "min": "1",
          "max": "2",
          "histogram": [
           {
            "bin_start": 1,
            "bin_end": 1.1,
            "count": 3
           },
           {
            "bin_start": 1.1,
            "bin_end": 1.2,
            "count": 0
           },
           {
            "bin_start": 1.2,
            "bin_end": 1.3,
            "count": 0
           },
           {
            "bin_start": 1.3,
            "bin_end": 1.4,
            "count": 0
           },
           {
            "bin_start": 1.4,
            "bin_end": 1.5,
            "count": 0
           },
           {
            "bin_start": 1.5,
            "bin_end": 1.6,
            "count": 0
           },
           {
            "bin_start": 1.6,
            "bin_end": 1.7000000000000002,
            "count": 0
           },
           {
            "bin_start": 1.7000000000000002,
            "bin_end": 1.8,
            "count": 0
           },
           {
            "bin_start": 1.8,
            "bin_end": 1.9,
            "count": 0
           },
           {
            "bin_start": 1.9,
            "bin_end": 2,
            "count": 2
           }
          ]
         }
        },
        {
         "name": "_deepnote_index_column",
         "dtype": "int64"
        }
       ],
       "rows_top": [
        {
         "class": 1,
         "a1": 1,
         "a2": 1,
         "a3": 1,
         "a4": 1,
         "a5": 1,
         "a6": 1,
         "_deepnote_index_column": 0
        },
        {
         "class": 1,
         "a1": 1,
         "a2": 1,
         "a3": 1,
         "a4": 1,
         "a5": 1,
         "a6": 2,
         "_deepnote_index_column": 1
        },
        {
         "class": 1,
         "a1": 1,
         "a2": 1,
         "a3": 1,
         "a4": 1,
         "a5": 2,
         "a6": 1,
         "_deepnote_index_column": 2
        },
        {
         "class": 1,
         "a1": 1,
         "a2": 1,
         "a3": 1,
         "a4": 1,
         "a5": 2,
         "a6": 2,
         "_deepnote_index_column": 3
        },
        {
         "class": 1,
         "a1": 1,
         "a2": 1,
         "a3": 1,
         "a4": 1,
         "a5": 3,
         "a6": 1,
         "_deepnote_index_column": 4
        }
       ],
       "rows_bottom": null
      },
      "text/plain": "   class  a1  a2  a3  a4  a5  a6\n0      1   1   1   1   1   1   1\n1      1   1   1   1   1   1   2\n2      1   1   1   1   1   2   1\n3      1   1   1   1   1   2   2\n4      1   1   1   1   1   3   1",
      "text/html": "<div>\n<style scoped>\n    .dataframe tbody tr th:only-of-type {\n        vertical-align: middle;\n    }\n\n    .dataframe tbody tr th {\n        vertical-align: top;\n    }\n\n    .dataframe thead th {\n        text-align: right;\n    }\n</style>\n<table border=\"1\" class=\"dataframe\">\n  <thead>\n    <tr style=\"text-align: right;\">\n      <th></th>\n      <th>class</th>\n      <th>a1</th>\n      <th>a2</th>\n      <th>a3</th>\n      <th>a4</th>\n      <th>a5</th>\n      <th>a6</th>\n    </tr>\n  </thead>\n  <tbody>\n    <tr>\n      <th>0</th>\n      <td>1</td>\n      <td>1</td>\n      <td>1</td>\n      <td>1</td>\n      <td>1</td>\n      <td>1</td>\n      <td>1</td>\n    </tr>\n    <tr>\n      <th>1</th>\n      <td>1</td>\n      <td>1</td>\n      <td>1</td>\n      <td>1</td>\n      <td>1</td>\n      <td>1</td>\n      <td>2</td>\n    </tr>\n    <tr>\n      <th>2</th>\n      <td>1</td>\n      <td>1</td>\n      <td>1</td>\n      <td>1</td>\n      <td>1</td>\n      <td>2</td>\n      <td>1</td>\n    </tr>\n    <tr>\n      <th>3</th>\n      <td>1</td>\n      <td>1</td>\n      <td>1</td>\n      <td>1</td>\n      <td>1</td>\n      <td>2</td>\n      <td>2</td>\n    </tr>\n    <tr>\n      <th>4</th>\n      <td>1</td>\n      <td>1</td>\n      <td>1</td>\n      <td>1</td>\n      <td>1</td>\n      <td>3</td>\n      <td>1</td>\n    </tr>\n  </tbody>\n</table>\n</div>"
     },
     "metadata": {}
    }
   ]
  },
  {
   "cell_type": "code",
   "metadata": {
    "tags": [],
    "cell_id": "00004-3aae5316-d4b7-4113-9b05-0440a3a3f494",
    "deepnote_to_be_reexecuted": false,
    "source_hash": "a26e411c",
    "execution_start": 1639401783421,
    "execution_millis": 4,
    "deepnote_cell_type": "code"
   },
   "source": "df_monk1_train",
   "execution_count": null,
   "outputs": [
    {
     "output_type": "execute_result",
     "execution_count": 10,
     "data": {
      "application/vnd.deepnote.dataframe.v2+json": {
       "row_count": 124,
       "column_count": 7,
       "columns": [
        {
         "name": "class",
         "dtype": "int64",
         "stats": {
          "unique_count": 2,
          "nan_count": 0,
          "min": "0",
          "max": "1",
          "histogram": [
           {
            "bin_start": 0,
            "bin_end": 0.1,
            "count": 62
           },
           {
            "bin_start": 0.1,
            "bin_end": 0.2,
            "count": 0
           },
           {
            "bin_start": 0.2,
            "bin_end": 0.30000000000000004,
            "count": 0
           },
           {
            "bin_start": 0.30000000000000004,
            "bin_end": 0.4,
            "count": 0
           },
           {
            "bin_start": 0.4,
            "bin_end": 0.5,
            "count": 0
           },
           {
            "bin_start": 0.5,
            "bin_end": 0.6000000000000001,
            "count": 0
           },
           {
            "bin_start": 0.6000000000000001,
            "bin_end": 0.7000000000000001,
            "count": 0
           },
           {
            "bin_start": 0.7000000000000001,
            "bin_end": 0.8,
            "count": 0
           },
           {
            "bin_start": 0.8,
            "bin_end": 0.9,
            "count": 0
           },
           {
            "bin_start": 0.9,
            "bin_end": 1,
            "count": 62
           }
          ]
         }
        },
        {
         "name": "a1",
         "dtype": "int64",
         "stats": {
          "unique_count": 3,
          "nan_count": 0,
          "min": "1",
          "max": "3",
          "histogram": [
           {
            "bin_start": 1,
            "bin_end": 1.2,
            "count": 45
           },
           {
            "bin_start": 1.2,
            "bin_end": 1.4,
            "count": 0
           },
           {
            "bin_start": 1.4,
            "bin_end": 1.6,
            "count": 0
           },
           {
            "bin_start": 1.6,
            "bin_end": 1.8,
            "count": 0
           },
           {
            "bin_start": 1.8,
            "bin_end": 2,
            "count": 0
           },
           {
            "bin_start": 2,
            "bin_end": 2.2,
            "count": 42
           },
           {
            "bin_start": 2.2,
            "bin_end": 2.4000000000000004,
            "count": 0
           },
           {
            "bin_start": 2.4000000000000004,
            "bin_end": 2.6,
            "count": 0
           },
           {
            "bin_start": 2.6,
            "bin_end": 2.8,
            "count": 0
           },
           {
            "bin_start": 2.8,
            "bin_end": 3,
            "count": 37
           }
          ]
         }
        },
        {
         "name": "a2",
         "dtype": "int64",
         "stats": {
          "unique_count": 3,
          "nan_count": 0,
          "min": "1",
          "max": "3",
          "histogram": [
           {
            "bin_start": 1,
            "bin_end": 1.2,
            "count": 35
           },
           {
            "bin_start": 1.2,
            "bin_end": 1.4,
            "count": 0
           },
           {
            "bin_start": 1.4,
            "bin_end": 1.6,
            "count": 0
           },
           {
            "bin_start": 1.6,
            "bin_end": 1.8,
            "count": 0
           },
           {
            "bin_start": 1.8,
            "bin_end": 2,
            "count": 0
           },
           {
            "bin_start": 2,
            "bin_end": 2.2,
            "count": 42
           },
           {
            "bin_start": 2.2,
            "bin_end": 2.4000000000000004,
            "count": 0
           },
           {
            "bin_start": 2.4000000000000004,
            "bin_end": 2.6,
            "count": 0
           },
           {
            "bin_start": 2.6,
            "bin_end": 2.8,
            "count": 0
           },
           {
            "bin_start": 2.8,
            "bin_end": 3,
            "count": 47
           }
          ]
         }
        },
        {
         "name": "a3",
         "dtype": "int64",
         "stats": {
          "unique_count": 2,
          "nan_count": 0,
          "min": "1",
          "max": "2",
          "histogram": [
           {
            "bin_start": 1,
            "bin_end": 1.1,
            "count": 65
           },
           {
            "bin_start": 1.1,
            "bin_end": 1.2,
            "count": 0
           },
           {
            "bin_start": 1.2,
            "bin_end": 1.3,
            "count": 0
           },
           {
            "bin_start": 1.3,
            "bin_end": 1.4,
            "count": 0
           },
           {
            "bin_start": 1.4,
            "bin_end": 1.5,
            "count": 0
           },
           {
            "bin_start": 1.5,
            "bin_end": 1.6,
            "count": 0
           },
           {
            "bin_start": 1.6,
            "bin_end": 1.7000000000000002,
            "count": 0
           },
           {
            "bin_start": 1.7000000000000002,
            "bin_end": 1.8,
            "count": 0
           },
           {
            "bin_start": 1.8,
            "bin_end": 1.9,
            "count": 0
           },
           {
            "bin_start": 1.9,
            "bin_end": 2,
            "count": 59
           }
          ]
         }
        },
        {
         "name": "a4",
         "dtype": "int64",
         "stats": {
          "unique_count": 3,
          "nan_count": 0,
          "min": "1",
          "max": "3",
          "histogram": [
           {
            "bin_start": 1,
            "bin_end": 1.2,
            "count": 42
           },
           {
            "bin_start": 1.2,
            "bin_end": 1.4,
            "count": 0
           },
           {
            "bin_start": 1.4,
            "bin_end": 1.6,
            "count": 0
           },
           {
            "bin_start": 1.6,
            "bin_end": 1.8,
            "count": 0
           },
           {
            "bin_start": 1.8,
            "bin_end": 2,
            "count": 0
           },
           {
            "bin_start": 2,
            "bin_end": 2.2,
            "count": 39
           },
           {
            "bin_start": 2.2,
            "bin_end": 2.4000000000000004,
            "count": 0
           },
           {
            "bin_start": 2.4000000000000004,
            "bin_end": 2.6,
            "count": 0
           },
           {
            "bin_start": 2.6,
            "bin_end": 2.8,
            "count": 0
           },
           {
            "bin_start": 2.8,
            "bin_end": 3,
            "count": 43
           }
          ]
         }
        },
        {
         "name": "a5",
         "dtype": "int64",
         "stats": {
          "unique_count": 4,
          "nan_count": 0,
          "min": "1",
          "max": "4",
          "histogram": [
           {
            "bin_start": 1,
            "bin_end": 1.3,
            "count": 29
           },
           {
            "bin_start": 1.3,
            "bin_end": 1.6,
            "count": 0
           },
           {
            "bin_start": 1.6,
            "bin_end": 1.9,
            "count": 0
           },
           {
            "bin_start": 1.9,
            "bin_end": 2.2,
            "count": 31
           },
           {
            "bin_start": 2.2,
            "bin_end": 2.5,
            "count": 0
           },
           {
            "bin_start": 2.5,
            "bin_end": 2.8,
            "count": 0
           },
           {
            "bin_start": 2.8,
            "bin_end": 3.1,
            "count": 30
           },
           {
            "bin_start": 3.1,
            "bin_end": 3.4,
            "count": 0
           },
           {
            "bin_start": 3.4,
            "bin_end": 3.6999999999999997,
            "count": 0
           },
           {
            "bin_start": 3.6999999999999997,
            "bin_end": 4,
            "count": 34
           }
          ]
         }
        },
        {
         "name": "a6",
         "dtype": "int64",
         "stats": {
          "unique_count": 2,
          "nan_count": 0,
          "min": "1",
          "max": "2",
          "histogram": [
           {
            "bin_start": 1,
            "bin_end": 1.1,
            "count": 56
           },
           {
            "bin_start": 1.1,
            "bin_end": 1.2,
            "count": 0
           },
           {
            "bin_start": 1.2,
            "bin_end": 1.3,
            "count": 0
           },
           {
            "bin_start": 1.3,
            "bin_end": 1.4,
            "count": 0
           },
           {
            "bin_start": 1.4,
            "bin_end": 1.5,
            "count": 0
           },
           {
            "bin_start": 1.5,
            "bin_end": 1.6,
            "count": 0
           },
           {
            "bin_start": 1.6,
            "bin_end": 1.7000000000000002,
            "count": 0
           },
           {
            "bin_start": 1.7000000000000002,
            "bin_end": 1.8,
            "count": 0
           },
           {
            "bin_start": 1.8,
            "bin_end": 1.9,
            "count": 0
           },
           {
            "bin_start": 1.9,
            "bin_end": 2,
            "count": 68
           }
          ]
         }
        },
        {
         "name": "_deepnote_index_column",
         "dtype": "int64"
        }
       ],
       "rows_top": [
        {
         "class": 1,
         "a1": 1,
         "a2": 1,
         "a3": 1,
         "a4": 1,
         "a5": 3,
         "a6": 1,
         "_deepnote_index_column": 0
        },
        {
         "class": 1,
         "a1": 1,
         "a2": 1,
         "a3": 1,
         "a4": 1,
         "a5": 3,
         "a6": 2,
         "_deepnote_index_column": 1
        },
        {
         "class": 1,
         "a1": 1,
         "a2": 1,
         "a3": 1,
         "a4": 3,
         "a5": 2,
         "a6": 1,
         "_deepnote_index_column": 2
        },
        {
         "class": 1,
         "a1": 1,
         "a2": 1,
         "a3": 1,
         "a4": 3,
         "a5": 3,
         "a6": 2,
         "_deepnote_index_column": 3
        },
        {
         "class": 1,
         "a1": 1,
         "a2": 1,
         "a3": 2,
         "a4": 1,
         "a5": 2,
         "a6": 1,
         "_deepnote_index_column": 4
        },
        {
         "class": 1,
         "a1": 1,
         "a2": 1,
         "a3": 2,
         "a4": 1,
         "a5": 2,
         "a6": 2,
         "_deepnote_index_column": 5
        },
        {
         "class": 1,
         "a1": 1,
         "a2": 1,
         "a3": 2,
         "a4": 2,
         "a5": 3,
         "a6": 1,
         "_deepnote_index_column": 6
        },
        {
         "class": 1,
         "a1": 1,
         "a2": 1,
         "a3": 2,
         "a4": 2,
         "a5": 4,
         "a6": 1,
         "_deepnote_index_column": 7
        },
        {
         "class": 1,
         "a1": 1,
         "a2": 1,
         "a3": 2,
         "a4": 3,
         "a5": 1,
         "a6": 2,
         "_deepnote_index_column": 8
        },
        {
         "class": 1,
         "a1": 1,
         "a2": 2,
         "a3": 1,
         "a4": 1,
         "a5": 1,
         "a6": 2,
         "_deepnote_index_column": 9
        },
        {
         "class": 0,
         "a1": 1,
         "a2": 2,
         "a3": 1,
         "a4": 1,
         "a5": 2,
         "a6": 1,
         "_deepnote_index_column": 10
        },
        {
         "class": 0,
         "a1": 1,
         "a2": 2,
         "a3": 1,
         "a4": 1,
         "a5": 3,
         "a6": 1,
         "_deepnote_index_column": 11
        },
        {
         "class": 0,
         "a1": 1,
         "a2": 2,
         "a3": 1,
         "a4": 1,
         "a5": 4,
         "a6": 2,
         "_deepnote_index_column": 12
        },
        {
         "class": 1,
         "a1": 1,
         "a2": 2,
         "a3": 1,
         "a4": 2,
         "a5": 1,
         "a6": 1,
         "_deepnote_index_column": 13
        },
        {
         "class": 0,
         "a1": 1,
         "a2": 2,
         "a3": 1,
         "a4": 2,
         "a5": 3,
         "a6": 1,
         "_deepnote_index_column": 14
        },
        {
         "class": 0,
         "a1": 1,
         "a2": 2,
         "a3": 1,
         "a4": 2,
         "a5": 3,
         "a6": 2,
         "_deepnote_index_column": 15
        },
        {
         "class": 0,
         "a1": 1,
         "a2": 2,
         "a3": 1,
         "a4": 2,
         "a5": 4,
         "a6": 2,
         "_deepnote_index_column": 16
        },
        {
         "class": 0,
         "a1": 1,
         "a2": 2,
         "a3": 1,
         "a4": 3,
         "a5": 2,
         "a6": 1,
         "_deepnote_index_column": 17
        },
        {
         "class": 0,
         "a1": 1,
         "a2": 2,
         "a3": 1,
         "a4": 3,
         "a5": 4,
         "a6": 2,
         "_deepnote_index_column": 18
        },
        {
         "class": 0,
         "a1": 1,
         "a2": 2,
         "a3": 2,
         "a4": 1,
         "a5": 2,
         "a6": 2,
         "_deepnote_index_column": 19
        },
        {
         "class": 0,
         "a1": 1,
         "a2": 2,
         "a3": 2,
         "a4": 2,
         "a5": 3,
         "a6": 2,
         "_deepnote_index_column": 20
        },
        {
         "class": 0,
         "a1": 1,
         "a2": 2,
         "a3": 2,
         "a4": 2,
         "a5": 4,
         "a6": 1,
         "_deepnote_index_column": 21
        },
        {
         "class": 0,
         "a1": 1,
         "a2": 2,
         "a3": 2,
         "a4": 2,
         "a5": 4,
         "a6": 2,
         "_deepnote_index_column": 22
        },
        {
         "class": 0,
         "a1": 1,
         "a2": 2,
         "a3": 2,
         "a4": 3,
         "a5": 2,
         "a6": 2,
         "_deepnote_index_column": 23
        },
        {
         "class": 0,
         "a1": 1,
         "a2": 2,
         "a3": 2,
         "a4": 3,
         "a5": 3,
         "a6": 1,
         "_deepnote_index_column": 24
        },
        {
         "class": 0,
         "a1": 1,
         "a2": 2,
         "a3": 2,
         "a4": 3,
         "a5": 3,
         "a6": 2,
         "_deepnote_index_column": 25
        },
        {
         "class": 0,
         "a1": 1,
         "a2": 3,
         "a3": 1,
         "a4": 1,
         "a5": 2,
         "a6": 1,
         "_deepnote_index_column": 26
        },
        {
         "class": 0,
         "a1": 1,
         "a2": 3,
         "a3": 1,
         "a4": 1,
         "a5": 4,
         "a6": 1,
         "_deepnote_index_column": 27
        },
        {
         "class": 0,
         "a1": 1,
         "a2": 3,
         "a3": 1,
         "a4": 2,
         "a5": 2,
         "a6": 1,
         "_deepnote_index_column": 28
        },
        {
         "class": 0,
         "a1": 1,
         "a2": 3,
         "a3": 1,
         "a4": 2,
         "a5": 4,
         "a6": 1,
         "_deepnote_index_column": 29
        },
        {
         "class": 1,
         "a1": 1,
         "a2": 3,
         "a3": 1,
         "a4": 3,
         "a5": 1,
         "a6": 2,
         "_deepnote_index_column": 30
        },
        {
         "class": 0,
         "a1": 1,
         "a2": 3,
         "a3": 1,
         "a4": 3,
         "a5": 2,
         "a6": 2,
         "_deepnote_index_column": 31
        },
        {
         "class": 0,
         "a1": 1,
         "a2": 3,
         "a3": 1,
         "a4": 3,
         "a5": 3,
         "a6": 1,
         "_deepnote_index_column": 32
        },
        {
         "class": 0,
         "a1": 1,
         "a2": 3,
         "a3": 1,
         "a4": 3,
         "a5": 4,
         "a6": 1,
         "_deepnote_index_column": 33
        },
        {
         "class": 0,
         "a1": 1,
         "a2": 3,
         "a3": 1,
         "a4": 3,
         "a5": 4,
         "a6": 2,
         "_deepnote_index_column": 34
        },
        {
         "class": 0,
         "a1": 1,
         "a2": 3,
         "a3": 2,
         "a4": 1,
         "a5": 2,
         "a6": 2,
         "_deepnote_index_column": 35
        },
        {
         "class": 1,
         "a1": 1,
         "a2": 3,
         "a3": 2,
         "a4": 2,
         "a5": 1,
         "a6": 2,
         "_deepnote_index_column": 36
        },
        {
         "class": 0,
         "a1": 1,
         "a2": 3,
         "a3": 2,
         "a4": 2,
         "a5": 2,
         "a6": 2,
         "_deepnote_index_column": 37
        },
        {
         "class": 0,
         "a1": 1,
         "a2": 3,
         "a3": 2,
         "a4": 2,
         "a5": 3,
         "a6": 2,
         "_deepnote_index_column": 38
        },
        {
         "class": 0,
         "a1": 1,
         "a2": 3,
         "a3": 2,
         "a4": 2,
         "a5": 4,
         "a6": 1,
         "_deepnote_index_column": 39
        },
        {
         "class": 0,
         "a1": 1,
         "a2": 3,
         "a3": 2,
         "a4": 2,
         "a5": 4,
         "a6": 2,
         "_deepnote_index_column": 40
        },
        {
         "class": 1,
         "a1": 1,
         "a2": 3,
         "a3": 2,
         "a4": 3,
         "a5": 1,
         "a6": 1,
         "_deepnote_index_column": 41
        },
        {
         "class": 0,
         "a1": 1,
         "a2": 3,
         "a3": 2,
         "a4": 3,
         "a5": 2,
         "a6": 1,
         "_deepnote_index_column": 42
        },
        {
         "class": 0,
         "a1": 1,
         "a2": 3,
         "a3": 2,
         "a4": 3,
         "a5": 4,
         "a6": 1,
         "_deepnote_index_column": 43
        },
        {
         "class": 0,
         "a1": 1,
         "a2": 3,
         "a3": 2,
         "a4": 3,
         "a5": 4,
         "a6": 2,
         "_deepnote_index_column": 44
        },
        {
         "class": 0,
         "a1": 2,
         "a2": 1,
         "a3": 1,
         "a4": 1,
         "a5": 3,
         "a6": 1,
         "_deepnote_index_column": 45
        },
        {
         "class": 0,
         "a1": 2,
         "a2": 1,
         "a3": 1,
         "a4": 1,
         "a5": 3,
         "a6": 2,
         "_deepnote_index_column": 46
        },
        {
         "class": 1,
         "a1": 2,
         "a2": 1,
         "a3": 1,
         "a4": 2,
         "a5": 1,
         "a6": 1,
         "_deepnote_index_column": 47
        },
        {
         "class": 1,
         "a1": 2,
         "a2": 1,
         "a3": 1,
         "a4": 2,
         "a5": 1,
         "a6": 2,
         "_deepnote_index_column": 48
        },
        {
         "class": 0,
         "a1": 2,
         "a2": 1,
         "a3": 1,
         "a4": 2,
         "a5": 2,
         "a6": 2,
         "_deepnote_index_column": 49
        },
        {
         "class": 0,
         "a1": 2,
         "a2": 1,
         "a3": 1,
         "a4": 2,
         "a5": 3,
         "a6": 1,
         "_deepnote_index_column": 50
        },
        {
         "class": 0,
         "a1": 2,
         "a2": 1,
         "a3": 1,
         "a4": 2,
         "a5": 4,
         "a6": 1,
         "_deepnote_index_column": 51
        },
        {
         "class": 0,
         "a1": 2,
         "a2": 1,
         "a3": 1,
         "a4": 2,
         "a5": 4,
         "a6": 2,
         "_deepnote_index_column": 52
        },
        {
         "class": 0,
         "a1": 2,
         "a2": 1,
         "a3": 1,
         "a4": 3,
         "a5": 4,
         "a6": 1,
         "_deepnote_index_column": 53
        },
        {
         "class": 0,
         "a1": 2,
         "a2": 1,
         "a3": 2,
         "a4": 1,
         "a5": 2,
         "a6": 2,
         "_deepnote_index_column": 54
        },
        {
         "class": 0,
         "a1": 2,
         "a2": 1,
         "a3": 2,
         "a4": 1,
         "a5": 3,
         "a6": 1,
         "_deepnote_index_column": 55
        },
        {
         "class": 0,
         "a1": 2,
         "a2": 1,
         "a3": 2,
         "a4": 1,
         "a5": 4,
         "a6": 2,
         "_deepnote_index_column": 56
        },
        {
         "class": 0,
         "a1": 2,
         "a2": 1,
         "a3": 2,
         "a4": 2,
         "a5": 3,
         "a6": 1,
         "_deepnote_index_column": 57
        },
        {
         "class": 0,
         "a1": 2,
         "a2": 1,
         "a3": 2,
         "a4": 2,
         "a5": 4,
         "a6": 2,
         "_deepnote_index_column": 58
        },
        {
         "class": 0,
         "a1": 2,
         "a2": 1,
         "a3": 2,
         "a4": 3,
         "a5": 2,
         "a6": 2,
         "_deepnote_index_column": 59
        },
        {
         "class": 0,
         "a1": 2,
         "a2": 1,
         "a3": 2,
         "a4": 3,
         "a5": 4,
         "a6": 1,
         "_deepnote_index_column": 60
        },
        {
         "class": 1,
         "a1": 2,
         "a2": 2,
         "a3": 1,
         "a4": 1,
         "a5": 2,
         "a6": 1,
         "_deepnote_index_column": 61
        },
        {
         "class": 1,
         "a1": 2,
         "a2": 2,
         "a3": 1,
         "a4": 1,
         "a5": 2,
         "a6": 2,
         "_deepnote_index_column": 62
        },
        {
         "class": 1,
         "a1": 2,
         "a2": 2,
         "a3": 1,
         "a4": 1,
         "a5": 3,
         "a6": 1,
         "_deepnote_index_column": 63
        },
        {
         "class": 1,
         "a1": 2,
         "a2": 2,
         "a3": 1,
         "a4": 2,
         "a5": 3,
         "a6": 2,
         "_deepnote_index_column": 64
        },
        {
         "class": 1,
         "a1": 2,
         "a2": 2,
         "a3": 1,
         "a4": 3,
         "a5": 1,
         "a6": 1,
         "_deepnote_index_column": 65
        },
        {
         "class": 1,
         "a1": 2,
         "a2": 2,
         "a3": 1,
         "a4": 3,
         "a5": 1,
         "a6": 2,
         "_deepnote_index_column": 66
        },
        {
         "class": 1,
         "a1": 2,
         "a2": 2,
         "a3": 1,
         "a4": 3,
         "a5": 2,
         "a6": 2,
         "_deepnote_index_column": 67
        },
        {
         "class": 1,
         "a1": 2,
         "a2": 2,
         "a3": 1,
         "a4": 3,
         "a5": 3,
         "a6": 2,
         "_deepnote_index_column": 68
        },
        {
         "class": 1,
         "a1": 2,
         "a2": 2,
         "a3": 1,
         "a4": 3,
         "a5": 4,
         "a6": 2,
         "_deepnote_index_column": 69
        },
        {
         "class": 1,
         "a1": 2,
         "a2": 2,
         "a3": 2,
         "a4": 1,
         "a5": 1,
         "a6": 1,
         "_deepnote_index_column": 70
        },
        {
         "class": 1,
         "a1": 2,
         "a2": 2,
         "a3": 2,
         "a4": 1,
         "a5": 3,
         "a6": 2,
         "_deepnote_index_column": 71
        },
        {
         "class": 1,
         "a1": 2,
         "a2": 2,
         "a3": 2,
         "a4": 1,
         "a5": 4,
         "a6": 1,
         "_deepnote_index_column": 72
        },
        {
         "class": 1,
         "a1": 2,
         "a2": 2,
         "a3": 2,
         "a4": 1,
         "a5": 4,
         "a6": 2,
         "_deepnote_index_column": 73
        },
        {
         "class": 1,
         "a1": 2,
         "a2": 2,
         "a3": 2,
         "a4": 2,
         "a5": 2,
         "a6": 1,
         "_deepnote_index_column": 74
        },
        {
         "class": 1,
         "a1": 2,
         "a2": 2,
         "a3": 2,
         "a4": 3,
         "a5": 4,
         "a6": 1,
         "_deepnote_index_column": 75
        },
        {
         "class": 1,
         "a1": 2,
         "a2": 3,
         "a3": 1,
         "a4": 1,
         "a5": 1,
         "a6": 1,
         "_deepnote_index_column": 76
        },
        {
         "class": 1,
         "a1": 2,
         "a2": 3,
         "a3": 1,
         "a4": 2,
         "a5": 1,
         "a6": 1,
         "_deepnote_index_column": 77
        },
        {
         "class": 0,
         "a1": 2,
         "a2": 3,
         "a3": 1,
         "a4": 2,
         "a5": 3,
         "a6": 1,
         "_deepnote_index_column": 78
        },
        {
         "class": 1,
         "a1": 2,
         "a2": 3,
         "a3": 1,
         "a4": 3,
         "a5": 1,
         "a6": 2,
         "_deepnote_index_column": 79
        },
        {
         "class": 0,
         "a1": 2,
         "a2": 3,
         "a3": 1,
         "a4": 3,
         "a5": 3,
         "a6": 1,
         "_deepnote_index_column": 80
        },
        {
         "class": 0,
         "a1": 2,
         "a2": 3,
         "a3": 1,
         "a4": 3,
         "a5": 4,
         "a6": 2,
         "_deepnote_index_column": 81
        },
        {
         "class": 0,
         "a1": 2,
         "a2": 3,
         "a3": 2,
         "a4": 1,
         "a5": 3,
         "a6": 2,
         "_deepnote_index_column": 82
        },
        {
         "class": 1,
         "a1": 2,
         "a2": 3,
         "a3": 2,
         "a4": 2,
         "a5": 1,
         "a6": 1,
         "_deepnote_index_column": 83
        },
        {
         "class": 1,
         "a1": 2,
         "a2": 3,
         "a3": 2,
         "a4": 2,
         "a5": 1,
         "a6": 2,
         "_deepnote_index_column": 84
        },
        {
         "class": 0,
         "a1": 2,
         "a2": 3,
         "a3": 2,
         "a4": 2,
         "a5": 2,
         "a6": 1,
         "_deepnote_index_column": 85
        },
        {
         "class": 0,
         "a1": 2,
         "a2": 3,
         "a3": 2,
         "a4": 3,
         "a5": 3,
         "a6": 2,
         "_deepnote_index_column": 86
        },
        {
         "class": 1,
         "a1": 3,
         "a2": 1,
         "a3": 1,
         "a4": 1,
         "a5": 1,
         "a6": 1,
         "_deepnote_index_column": 87
        },
        {
         "class": 1,
         "a1": 3,
         "a2": 1,
         "a3": 1,
         "a4": 1,
         "a5": 1,
         "a6": 2,
         "_deepnote_index_column": 88
        },
        {
         "class": 1,
         "a1": 3,
         "a2": 1,
         "a3": 1,
         "a4": 2,
         "a5": 1,
         "a6": 1,
         "_deepnote_index_column": 89
        },
        {
         "class": 0,
         "a1": 3,
         "a2": 1,
         "a3": 1,
         "a4": 2,
         "a5": 2,
         "a6": 2,
         "_deepnote_index_column": 90
        },
        {
         "class": 0,
         "a1": 3,
         "a2": 1,
         "a3": 1,
         "a4": 3,
         "a5": 2,
         "a6": 2,
         "_deepnote_index_column": 91
        },
        {
         "class": 1,
         "a1": 3,
         "a2": 1,
         "a3": 2,
         "a4": 1,
         "a5": 1,
         "a6": 1,
         "_deepnote_index_column": 92
        },
        {
         "class": 0,
         "a1": 3,
         "a2": 1,
         "a3": 2,
         "a4": 1,
         "a5": 2,
         "a6": 2,
         "_deepnote_index_column": 93
        },
        {
         "class": 0,
         "a1": 3,
         "a2": 1,
         "a3": 2,
         "a4": 2,
         "a5": 2,
         "a6": 2,
         "_deepnote_index_column": 94
        },
        {
         "class": 0,
         "a1": 3,
         "a2": 1,
         "a3": 2,
         "a4": 2,
         "a5": 3,
         "a6": 2,
         "_deepnote_index_column": 95
        },
        {
         "class": 0,
         "a1": 3,
         "a2": 1,
         "a3": 2,
         "a4": 3,
         "a5": 2,
         "a6": 2,
         "_deepnote_index_column": 96
        },
        {
         "class": 1,
         "a1": 3,
         "a2": 2,
         "a3": 1,
         "a4": 1,
         "a5": 1,
         "a6": 1,
         "_deepnote_index_column": 97
        },
        {
         "class": 0,
         "a1": 3,
         "a2": 2,
         "a3": 1,
         "a4": 1,
         "a5": 4,
         "a6": 2,
         "_deepnote_index_column": 98
        },
        {
         "class": 1,
         "a1": 3,
         "a2": 2,
         "a3": 1,
         "a4": 2,
         "a5": 1,
         "a6": 2,
         "_deepnote_index_column": 99
        },
        {
         "class": 0,
         "a1": 3,
         "a2": 2,
         "a3": 1,
         "a4": 2,
         "a5": 4,
         "a6": 2,
         "_deepnote_index_column": 100
        },
        {
         "class": 1,
         "a1": 3,
         "a2": 2,
         "a3": 2,
         "a4": 1,
         "a5": 1,
         "a6": 1,
         "_deepnote_index_column": 101
        },
        {
         "class": 1,
         "a1": 3,
         "a2": 2,
         "a3": 2,
         "a4": 1,
         "a5": 1,
         "a6": 2,
         "_deepnote_index_column": 102
        },
        {
         "class": 0,
         "a1": 3,
         "a2": 2,
         "a3": 2,
         "a4": 1,
         "a5": 3,
         "a6": 2,
         "_deepnote_index_column": 103
        },
        {
         "class": 1,
         "a1": 3,
         "a2": 2,
         "a3": 2,
         "a4": 3,
         "a5": 1,
         "a6": 1,
         "_deepnote_index_column": 104
        },
        {
         "class": 0,
         "a1": 3,
         "a2": 2,
         "a3": 2,
         "a4": 3,
         "a5": 2,
         "a6": 1,
         "_deepnote_index_column": 105
        },
        {
         "class": 0,
         "a1": 3,
         "a2": 2,
         "a3": 2,
         "a4": 3,
         "a5": 4,
         "a6": 1,
         "_deepnote_index_column": 106
        },
        {
         "class": 1,
         "a1": 3,
         "a2": 3,
         "a3": 1,
         "a4": 1,
         "a5": 1,
         "a6": 1,
         "_deepnote_index_column": 107
        },
        {
         "class": 1,
         "a1": 3,
         "a2": 3,
         "a3": 1,
         "a4": 1,
         "a5": 2,
         "a6": 1,
         "_deepnote_index_column": 108
        },
        {
         "class": 1,
         "a1": 3,
         "a2": 3,
         "a3": 1,
         "a4": 1,
         "a5": 4,
         "a6": 2,
         "_deepnote_index_column": 109
        },
        {
         "class": 1,
         "a1": 3,
         "a2": 3,
         "a3": 1,
         "a4": 2,
         "a5": 3,
         "a6": 2,
         "_deepnote_index_column": 110
        },
        {
         "class": 1,
         "a1": 3,
         "a2": 3,
         "a3": 1,
         "a4": 2,
         "a5": 4,
         "a6": 2,
         "_deepnote_index_column": 111
        },
        {
         "class": 1,
         "a1": 3,
         "a2": 3,
         "a3": 1,
         "a4": 3,
         "a5": 1,
         "a6": 2,
         "_deepnote_index_column": 112
        },
        {
         "class": 1,
         "a1": 3,
         "a2": 3,
         "a3": 1,
         "a4": 3,
         "a5": 2,
         "a6": 1,
         "_deepnote_index_column": 113
        },
        {
         "class": 1,
         "a1": 3,
         "a2": 3,
         "a3": 1,
         "a4": 3,
         "a5": 2,
         "a6": 2,
         "_deepnote_index_column": 114
        },
        {
         "class": 1,
         "a1": 3,
         "a2": 3,
         "a3": 1,
         "a4": 3,
         "a5": 4,
         "a6": 2,
         "_deepnote_index_column": 115
        },
        {
         "class": 1,
         "a1": 3,
         "a2": 3,
         "a3": 2,
         "a4": 1,
         "a5": 1,
         "a6": 1,
         "_deepnote_index_column": 116
        },
        {
         "class": 1,
         "a1": 3,
         "a2": 3,
         "a3": 2,
         "a4": 1,
         "a5": 3,
         "a6": 2,
         "_deepnote_index_column": 117
        },
        {
         "class": 1,
         "a1": 3,
         "a2": 3,
         "a3": 2,
         "a4": 1,
         "a5": 4,
         "a6": 1,
         "_deepnote_index_column": 118
        },
        {
         "class": 1,
         "a1": 3,
         "a2": 3,
         "a3": 2,
         "a4": 1,
         "a5": 4,
         "a6": 2,
         "_deepnote_index_column": 119
        },
        {
         "class": 1,
         "a1": 3,
         "a2": 3,
         "a3": 2,
         "a4": 3,
         "a5": 1,
         "a6": 2,
         "_deepnote_index_column": 120
        },
        {
         "class": 1,
         "a1": 3,
         "a2": 3,
         "a3": 2,
         "a4": 3,
         "a5": 2,
         "a6": 2,
         "_deepnote_index_column": 121
        },
        {
         "class": 1,
         "a1": 3,
         "a2": 3,
         "a3": 2,
         "a4": 3,
         "a5": 3,
         "a6": 2,
         "_deepnote_index_column": 122
        },
        {
         "class": 1,
         "a1": 3,
         "a2": 3,
         "a3": 2,
         "a4": 3,
         "a5": 4,
         "a6": 2,
         "_deepnote_index_column": 123
        }
       ],
       "rows_bottom": null
      },
      "text/plain": "     class  a1  a2  a3  a4  a5  a6\n0        1   1   1   1   1   3   1\n1        1   1   1   1   1   3   2\n2        1   1   1   1   3   2   1\n3        1   1   1   1   3   3   2\n4        1   1   1   2   1   2   1\n..     ...  ..  ..  ..  ..  ..  ..\n119      1   3   3   2   1   4   2\n120      1   3   3   2   3   1   2\n121      1   3   3   2   3   2   2\n122      1   3   3   2   3   3   2\n123      1   3   3   2   3   4   2\n\n[124 rows x 7 columns]",
      "text/html": "<div>\n<style scoped>\n    .dataframe tbody tr th:only-of-type {\n        vertical-align: middle;\n    }\n\n    .dataframe tbody tr th {\n        vertical-align: top;\n    }\n\n    .dataframe thead th {\n        text-align: right;\n    }\n</style>\n<table border=\"1\" class=\"dataframe\">\n  <thead>\n    <tr style=\"text-align: right;\">\n      <th></th>\n      <th>class</th>\n      <th>a1</th>\n      <th>a2</th>\n      <th>a3</th>\n      <th>a4</th>\n      <th>a5</th>\n      <th>a6</th>\n    </tr>\n  </thead>\n  <tbody>\n    <tr>\n      <th>0</th>\n      <td>1</td>\n      <td>1</td>\n      <td>1</td>\n      <td>1</td>\n      <td>1</td>\n      <td>3</td>\n      <td>1</td>\n    </tr>\n    <tr>\n      <th>1</th>\n      <td>1</td>\n      <td>1</td>\n      <td>1</td>\n      <td>1</td>\n      <td>1</td>\n      <td>3</td>\n      <td>2</td>\n    </tr>\n    <tr>\n      <th>2</th>\n      <td>1</td>\n      <td>1</td>\n      <td>1</td>\n      <td>1</td>\n      <td>3</td>\n      <td>2</td>\n      <td>1</td>\n    </tr>\n    <tr>\n      <th>3</th>\n      <td>1</td>\n      <td>1</td>\n      <td>1</td>\n      <td>1</td>\n      <td>3</td>\n      <td>3</td>\n      <td>2</td>\n    </tr>\n    <tr>\n      <th>4</th>\n      <td>1</td>\n      <td>1</td>\n      <td>1</td>\n      <td>2</td>\n      <td>1</td>\n      <td>2</td>\n      <td>1</td>\n    </tr>\n    <tr>\n      <th>...</th>\n      <td>...</td>\n      <td>...</td>\n      <td>...</td>\n      <td>...</td>\n      <td>...</td>\n      <td>...</td>\n      <td>...</td>\n    </tr>\n    <tr>\n      <th>119</th>\n      <td>1</td>\n      <td>3</td>\n      <td>3</td>\n      <td>2</td>\n      <td>1</td>\n      <td>4</td>\n      <td>2</td>\n    </tr>\n    <tr>\n      <th>120</th>\n      <td>1</td>\n      <td>3</td>\n      <td>3</td>\n      <td>2</td>\n      <td>3</td>\n      <td>1</td>\n      <td>2</td>\n    </tr>\n    <tr>\n      <th>121</th>\n      <td>1</td>\n      <td>3</td>\n      <td>3</td>\n      <td>2</td>\n      <td>3</td>\n      <td>2</td>\n      <td>2</td>\n    </tr>\n    <tr>\n      <th>122</th>\n      <td>1</td>\n      <td>3</td>\n      <td>3</td>\n      <td>2</td>\n      <td>3</td>\n      <td>3</td>\n      <td>2</td>\n    </tr>\n    <tr>\n      <th>123</th>\n      <td>1</td>\n      <td>3</td>\n      <td>3</td>\n      <td>2</td>\n      <td>3</td>\n      <td>4</td>\n      <td>2</td>\n    </tr>\n  </tbody>\n</table>\n<p>124 rows × 7 columns</p>\n</div>"
     },
     "metadata": {}
    }
   ]
  },
  {
   "cell_type": "code",
   "metadata": {
    "tags": [],
    "cell_id": "00005-9871c03f-5475-45e7-b0bd-16fcb8946ab3",
    "deepnote_to_be_reexecuted": false,
    "source_hash": "335d6faf",
    "execution_start": 1639401783471,
    "execution_millis": 71,
    "deepnote_output_heights": [
     21.199996948242188,
     451
    ],
    "deepnote_cell_type": "code"
   },
   "source": "fig_size = plt.rcParams[\"figure.figsize\"]\nfig_size[0] = 10\nfig_size[1] = 8\nplt.rcParams[\"figure.figsize\"] = fig_size\n\ndf_monk1_train['class'].value_counts().plot(kind='pie', autopct='%1.0f%%', colors=['skyblue', 'orange'], explode=(0.05, 0.05))",
   "execution_count": null,
   "outputs": [
    {
     "output_type": "execute_result",
     "execution_count": 11,
     "data": {
      "text/plain": "<AxesSubplot:ylabel='class'>"
     },
     "metadata": {}
    },
    {
     "data": {
      "text/plain": "<Figure size 720x576 with 1 Axes>",
      "image/png": "[encoded data removed]"
     },
     "metadata": {
      "image/png": {
       "width": 463,
       "height": 449
      }
     },
     "output_type": "display_data"
    }
   ]
  },
  {
   "cell_type": "code",
   "metadata": {
    "tags": [],
    "cell_id": "00006-cf57ec2c-783c-4fb6-b41c-1d6bb899e12d",
    "deepnote_to_be_reexecuted": false,
    "source_hash": "b584ea3",
    "execution_start": 1639401783594,
    "execution_millis": 51,
    "deepnote_output_heights": [
     21.199996948242188,
     451
    ],
    "deepnote_cell_type": "code"
   },
   "source": "df_monk1_test['class'].value_counts().plot(kind='pie', autopct='%1.0f%%', colors=['skyblue', 'orange'], explode=(0.05, 0.05))",
   "execution_count": null,
   "outputs": [
    {
     "output_type": "execute_result",
     "execution_count": 12,
     "data": {
      "text/plain": "<AxesSubplot:ylabel='class'>"
     },
     "metadata": {}
    },
    {
     "data": {
      "text/plain": "<Figure size 720x576 with 1 Axes>",
      "image/png": "[encoded data removed]"
     },
     "metadata": {
      "image/png": {
       "width": 463,
       "height": 449
      }
     },
     "output_type": "display_data"
    }
   ]
  },
  {
   "cell_type": "code",
   "metadata": {
    "tags": [],
    "cell_id": "00006-6d2e73e4-db72-4c8a-9318-661ff3448836",
    "deepnote_to_be_reexecuted": false,
    "source_hash": "94ff3e3e",
    "execution_start": 1639401783684,
    "execution_millis": 1,
    "deepnote_cell_type": "code"
   },
   "source": "target_train = df_monk1_train.pop('class')\ntarget_test = df_monk1_test.pop('class')\nX_train = df_monk1_train\ny_train = target_train\nX_test = df_monk1_test\ny_test = target_test",
   "execution_count": null,
   "outputs": []
  },
  {
   "cell_type": "code",
   "metadata": {
    "tags": [],
    "cell_id": "00008-5bdc0389-f2c2-471e-bcbb-bd041eb78f5e",
    "deepnote_to_be_reexecuted": false,
    "source_hash": "e0e9bde9",
    "execution_start": 1639401783685,
    "execution_millis": 1,
    "deepnote_cell_type": "code"
   },
   "source": "y_train = y_train.values #returns a ndarray \nX_train = X_train.values #returns a ndarray\ny_test = y_test.values\nX_test = X_test.values\n#y_train = y_train.ravel() #flattens the array into a 1-dimensional array\n#y_test = y_test.ravel() #flattens the array into a 1-dimensional array",
   "execution_count": null,
   "outputs": []
  },
  {
   "cell_type": "code",
   "metadata": {
    "tags": [],
    "cell_id": "00014-74ce5d1c-754e-4843-939a-e50d510b0d55",
    "deepnote_to_be_reexecuted": false,
    "source_hash": "44c4ed2e",
    "execution_start": 1639401783686,
    "execution_millis": 1,
    "deepnote_cell_type": "code"
   },
   "source": "train_data = TrainData(torch.FloatTensor(X_train), \n                       torch.FloatTensor(y_train))",
   "execution_count": null,
   "outputs": []
  },
  {
   "cell_type": "code",
   "metadata": {
    "tags": [],
    "cell_id": "00015-ebedd83c-9e36-4765-b11e-01af4e57d947",
    "deepnote_to_be_reexecuted": false,
    "source_hash": "2631a5bc",
    "execution_start": 1639401783687,
    "execution_millis": 1,
    "deepnote_output_heights": [
     136.390625
    ],
    "deepnote_cell_type": "code"
   },
   "source": "test_data = TestData(torch.FloatTensor(X_test),\n                     torch.FloatTensor(y_test))",
   "execution_count": null,
   "outputs": []
  },
  {
   "cell_type": "code",
   "metadata": {
    "tags": [],
    "cell_id": "00015-8643a81d-6a67-406c-8150-05419bc4b097",
    "deepnote_to_be_reexecuted": false,
    "source_hash": "c5d97e8a",
    "execution_start": 1639401783708,
    "execution_millis": 0,
    "deepnote_cell_type": "code"
   },
   "source": "train_loader = DataLoader(dataset=train_data, batch_size=BATCH_SIZE, shuffle=True)\ntest_loader = DataLoader(dataset=test_data, batch_size=1)",
   "execution_count": null,
   "outputs": []
  },
  {
   "cell_type": "code",
   "metadata": {
    "tags": [],
    "cell_id": "00006-fb912de3-08f1-4e26-b882-a1507ca7274c",
    "deepnote_to_be_reexecuted": false,
    "source_hash": "bf79ada6",
    "execution_start": 1639401783709,
    "execution_millis": 0,
    "deepnote_output_heights": [
     98
    ],
    "deepnote_cell_type": "code"
   },
   "source": "#numerical_columns = ['a1', 'a2', 'a3', 'a4', 'a5', 'a6']\n\n#train_data = np.stack([df_monk1_train[col].values for col in numerical_columns], 1)\n#train_data = torch.tensor(X_train, dtype=torch.float)\n#train_data[:5]",
   "execution_count": null,
   "outputs": []
  },
  {
   "cell_type": "code",
   "metadata": {
    "tags": [],
    "cell_id": "00009-e03ba9f9-526f-4623-9cd7-fac74bd5c9fd",
    "deepnote_to_be_reexecuted": false,
    "source_hash": "3008660f",
    "execution_start": 1639401783709,
    "execution_millis": 1,
    "deepnote_output_heights": [
     98
    ],
    "deepnote_cell_type": "code"
   },
   "source": "#test_data = np.stack([df_monk1_test[col].values for col in numerical_columns], 1)\n#test_data = torch.tensor(X_test, dtype=torch.float)\n#test_data[:5]",
   "execution_count": null,
   "outputs": []
  },
  {
   "cell_type": "code",
   "metadata": {
    "tags": [],
    "cell_id": "00008-0399adac-cc93-4cb6-87da-9385261ba8e7",
    "deepnote_to_be_reexecuted": false,
    "source_hash": "ea351ce4",
    "execution_start": 1639401783710,
    "execution_millis": 2,
    "deepnote_output_heights": [
     21.1875
    ],
    "deepnote_cell_type": "code"
   },
   "source": "#train_outputs = torch.tensor(y_train, dtype=torch.float).flatten()\n#train_outputs[:10]",
   "execution_count": null,
   "outputs": []
  },
  {
   "cell_type": "code",
   "metadata": {
    "tags": [],
    "cell_id": "00012-7e646df8-ee05-444b-a54f-3f8277a2db26",
    "deepnote_to_be_reexecuted": false,
    "source_hash": "881ba881",
    "execution_start": 1639401783719,
    "execution_millis": 1,
    "deepnote_output_heights": [
     21.1875
    ],
    "deepnote_cell_type": "code"
   },
   "source": "#test_outputs = torch.tensor(y_test, dtype=torch.float).flatten()\n#test_outputs[:10]",
   "execution_count": null,
   "outputs": []
  },
  {
   "cell_type": "code",
   "metadata": {
    "tags": [],
    "cell_id": "00015-7f654a12-910e-44d1-8bbe-60efa1d0e164",
    "deepnote_to_be_reexecuted": false,
    "source_hash": "f7784bd7",
    "execution_start": 1639401783723,
    "execution_millis": 11,
    "deepnote_cell_type": "code"
   },
   "source": "model = BinaryClassification(X_train.shape[1], 4)\nprint(model.)",
   "execution_count": null,
   "outputs": [
    {
     "name": "stdout",
     "text": "BinaryClassification(\n  (layer_1): Linear(in_features=6, out_features=4, bias=True)\n  (layer_out): Linear(in_features=4, out_features=1, bias=True)\n  (relu): ReLU()\n  (dropout): Dropout(p=0.1, inplace=False)\n  (batchnorm1): BatchNorm1d(4, eps=1e-05, momentum=0.1, affine=True, track_running_stats=True)\n)\n",
     "output_type": "stream",
     "data": {}
    }
   ]
  },
  {
   "cell_type": "code",
   "metadata": {
    "tags": [],
    "cell_id": "00023-65f5d767-ce10-4f21-b1f7-6f1bf800b596",
    "deepnote_to_be_reexecuted": false,
    "source_hash": "3a1321b2",
    "execution_start": 1639401783726,
    "execution_millis": 8,
    "deepnote_output_heights": [
     136.390625
    ],
    "deepnote_cell_type": "code"
   },
   "source": "#weights_layer1 = model.layer_1[0].weight.data # gets weights\n#bias_layer1 = model.layer_1[0].bias.data # gets bias\nprint(model.parameters().__getattribute__)",
   "execution_count": null,
   "outputs": [
    {
     "name": "stdout",
     "text": "<method-wrapper '__getattribute__' of generator object at 0x7f38e243e5d0>\n",
     "output_type": "stream",
     "data": {}
    }
   ]
  },
  {
   "cell_type": "code",
   "metadata": {
    "tags": [],
    "cell_id": "00016-d76470aa-dc34-4fbc-b8f5-59d37b22c425",
    "deepnote_to_be_reexecuted": false,
    "source_hash": "5c42e9d2",
    "execution_start": 1639401783731,
    "execution_millis": 8,
    "deepnote_cell_type": "code"
   },
   "source": "loss_function = nn.BCEWithLogitsLoss()\n#loss_function = nn.BCELoss()\noptimizer = torch.optim.Adam(model.parameters(), lr=LEARNING_RATE)\n#optimizer = torch.optim.Adam(model.parameters(), lr=1e-4, weight_decay=1e-5)",
   "execution_count": null,
   "outputs": []
  },
  {
   "cell_type": "code",
   "metadata": {
    "tags": [],
    "cell_id": "00020-f789de47-d003-4b91-87b4-6645244bd68b",
    "deepnote_to_be_reexecuted": false,
    "source_hash": "f7c0a31d",
    "execution_start": 1639401783742,
    "execution_millis": 2810,
    "deepnote_output_heights": [
     606.1875
    ],
    "deepnote_cell_type": "code"
   },
   "source": "#model, losses, accuracies = TrainPhase(epochs, model, train_data, train_outputs, loss_function, optimizer)\nlosses_train = []\naccuracies_train = []\nlosses_test = []\naccuracies_test = []\n\nfor epoch in range(1,EPOCHS+1): \n  model, losses_train, accuracies_train = TrainPhase(epoch, model, losses_train, accuracies_train, train_loader, loss_function, optimizer)\n  y_pred_test, losses_test, accuracies_test = Evaluate(epoch, model, losses_test, accuracies_test, test_loader, loss_function)\n  print(\"##############################\")\n",
   "execution_count": null,
   "outputs": [
    {
     "name": "stdout",
     "text": "TRAIN - Epoch 001: | Loss: 0.92542 | Acc: 40.000\nTEST - Epoch 001: | Loss: 0.73336 | Acc: 37.731\n##############################\nTRAIN - Epoch 002: | Loss: 0.92377 | Acc: 36.000\nTEST - Epoch 002: | Loss: 0.72848 | Acc: 37.037\n##############################\nTRAIN - Epoch 003: | Loss: 0.87008 | Acc: 36.000\nTEST - Epoch 003: | Loss: 0.72437 | Acc: 37.269\n##############################\nTRAIN - Epoch 004: | Loss: 0.84003 | Acc: 43.000\nTEST - Epoch 004: | Loss: 0.72102 | Acc: 37.963\n##############################\nTRAIN - Epoch 005: | Loss: 0.82000 | Acc: 42.000\nTEST - Epoch 005: | Loss: 0.71860 | Acc: 39.815\n##############################\nTRAIN - Epoch 006: | Loss: 0.78079 | Acc: 41.000\nTEST - Epoch 006: | Loss: 0.71679 | Acc: 42.130\n##############################\nTRAIN - Epoch 007: | Loss: 0.77325 | Acc: 43.000\nTEST - Epoch 007: | Loss: 0.71533 | Acc: 43.750\n##############################\nTRAIN - Epoch 008: | Loss: 0.74565 | Acc: 44.000\nTEST - Epoch 008: | Loss: 0.71409 | Acc: 46.065\n##############################\nTRAIN - Epoch 009: | Loss: 0.72200 | Acc: 50.000\nTEST - Epoch 009: | Loss: 0.71307 | Acc: 46.991\n##############################\nTRAIN - Epoch 010: | Loss: 0.69455 | Acc: 50.000\nTEST - Epoch 010: | Loss: 0.71203 | Acc: 47.685\n##############################\nTRAIN - Epoch 011: | Loss: 0.69344 | Acc: 50.000\nTEST - Epoch 011: | Loss: 0.71077 | Acc: 48.843\n##############################\nTRAIN - Epoch 012: | Loss: 0.69621 | Acc: 51.000\nTEST - Epoch 012: | Loss: 0.70930 | Acc: 49.537\n##############################\nTRAIN - Epoch 013: | Loss: 0.68154 | Acc: 52.000\nTEST - Epoch 013: | Loss: 0.70762 | Acc: 50.694\n##############################\nTRAIN - Epoch 014: | Loss: 0.67138 | Acc: 58.000\nTEST - Epoch 014: | Loss: 0.70574 | Acc: 50.694\n##############################\nTRAIN - Epoch 015: | Loss: 0.67677 | Acc: 56.000\nTEST - Epoch 015: | Loss: 0.70369 | Acc: 51.852\n##############################\nTRAIN - Epoch 016: | Loss: 0.66134 | Acc: 61.000\nTEST - Epoch 016: | Loss: 0.70150 | Acc: 52.083\n##############################\nTRAIN - Epoch 017: | Loss: 0.65661 | Acc: 59.000\nTEST - Epoch 017: | Loss: 0.69922 | Acc: 53.009\n##############################\nTRAIN - Epoch 018: | Loss: 0.65895 | Acc: 60.000\nTEST - Epoch 018: | Loss: 0.69697 | Acc: 53.704\n##############################\nTRAIN - Epoch 019: | Loss: 0.65895 | Acc: 60.000\nTEST - Epoch 019: | Loss: 0.69476 | Acc: 53.935\n##############################\nTRAIN - Epoch 020: | Loss: 0.65273 | Acc: 60.000\nTEST - Epoch 020: | Loss: 0.69265 | Acc: 55.556\n##############################\nTRAIN - Epoch 021: | Loss: 0.64939 | Acc: 63.000\nTEST - Epoch 021: | Loss: 0.69066 | Acc: 54.398\n##############################\nTRAIN - Epoch 022: | Loss: 0.64793 | Acc: 62.000\nTEST - Epoch 022: | Loss: 0.68887 | Acc: 54.630\n##############################\nTRAIN - Epoch 023: | Loss: 0.63665 | Acc: 65.000\nTEST - Epoch 023: | Loss: 0.68729 | Acc: 54.398\n##############################\nTRAIN - Epoch 024: | Loss: 0.64976 | Acc: 58.000\nTEST - Epoch 024: | Loss: 0.68597 | Acc: 55.093\n##############################\nTRAIN - Epoch 025: | Loss: 0.62783 | Acc: 65.000\nTEST - Epoch 025: | Loss: 0.68489 | Acc: 55.787\n##############################\n",
     "output_type": "stream",
     "data": {}
    }
   ]
  },
  {
   "cell_type": "code",
   "metadata": {
    "tags": [],
    "cell_id": "00017-f0662a19-f219-4e90-a3ce-5c5b0b28fea0",
    "deepnote_to_be_reexecuted": false,
    "source_hash": "84514a45",
    "execution_start": 1639401786480,
    "execution_millis": 1,
    "deepnote_output_heights": [
     482
    ],
    "deepnote_cell_type": "code"
   },
   "source": "#plt.plot(range(EPOCHS), losses_train)\n#plt.ylabel('Loss')\n#plt.xlabel('epoch');",
   "execution_count": null,
   "outputs": []
  },
  {
   "cell_type": "code",
   "metadata": {
    "tags": [],
    "cell_id": "00020-2665d9e2-ea34-4d18-8d46-b92da334ec7f",
    "deepnote_to_be_reexecuted": false,
    "source_hash": "7629061f",
    "execution_start": 1639401786487,
    "execution_millis": 1,
    "deepnote_output_heights": [
     482
    ],
    "deepnote_cell_type": "code"
   },
   "source": "#plt.plot(range(EPOCHS), accuracies_train)\n#plt.ylabel('Accuracy')\n#plt.xlabel('epoch');",
   "execution_count": null,
   "outputs": []
  },
  {
   "cell_type": "code",
   "metadata": {
    "tags": [],
    "cell_id": "00024-dd8221c3-564d-4a5b-bb4d-ed1f686382bf",
    "deepnote_to_be_reexecuted": false,
    "source_hash": "4b78a2ac",
    "execution_start": 1639401786491,
    "execution_millis": 63,
    "deepnote_output_heights": [
     270.796875
    ],
    "deepnote_cell_type": "code"
   },
   "source": "print(y_pred_test[:5])",
   "execution_count": null,
   "outputs": [
    {
     "name": "stdout",
     "text": "[1.0, 1.0, 1.0, 0.0, 1.0]\n",
     "output_type": "stream",
     "data": {}
    }
   ]
  },
  {
   "cell_type": "code",
   "metadata": {
    "tags": [],
    "cell_id": "00028-ff099cc7-b817-4a4e-813f-f070b44b2b13",
    "deepnote_to_be_reexecuted": false,
    "source_hash": "d1284038",
    "execution_start": 1639401786541,
    "execution_millis": 16,
    "deepnote_cell_type": "code"
   },
   "source": "print(classification_report(y_test, y_pred_test))",
   "execution_count": null,
   "outputs": [
    {
     "name": "stdout",
     "text": "              precision    recall  f1-score   support\n\n           0       0.57      0.48      0.52       216\n           1       0.55      0.64      0.59       216\n\n    accuracy                           0.56       432\n   macro avg       0.56      0.56      0.55       432\nweighted avg       0.56      0.56      0.55       432\n\n",
     "output_type": "stream",
     "data": {}
    }
   ]
  },
  {
   "cell_type": "code",
   "metadata": {
    "tags": [],
    "cell_id": "00029-c65b4294-5f74-491b-88f9-84f59ab8f3b7",
    "deepnote_to_be_reexecuted": false,
    "source_hash": "bf15212c",
    "execution_start": 1639401786542,
    "execution_millis": 261,
    "deepnote_output_heights": [
     401.98333740234375
    ],
    "deepnote_cell_type": "code"
   },
   "source": "plt.plot(losses_train,'-')\nplt.plot(losses_test,'-.')\nplt.xlabel('Epochs')\nplt.ylabel('Loss')\nplt.legend(['Train','Test'])\nplt.title('Train vs Test Losses')\n \nplt.show()",
   "execution_count": null,
   "outputs": [
    {
     "data": {
      "text/plain": "<Figure size 720x576 with 1 Axes>",
      "image/png": "[encoded data removed]"
     },
     "metadata": {
      "needs_background": "light",
      "image/png": {
       "width": 617,
       "height": 496
      }
     },
     "output_type": "display_data"
    }
   ]
  },
  {
   "cell_type": "code",
   "metadata": {
    "tags": [],
    "cell_id": "00030-d8f3b9bf-df8b-4954-b5f9-3823df788a47",
    "deepnote_to_be_reexecuted": false,
    "source_hash": "3c4373f7",
    "execution_start": 1639401786858,
    "execution_millis": 231,
    "deepnote_output_heights": [
     401.98333740234375
    ],
    "deepnote_cell_type": "code"
   },
   "source": "plt.plot(accuracies_train,'-')\nplt.plot(accuracies_test,'-.')\nplt.xlabel('Epochs')\nplt.ylabel('Accuracy')\nplt.legend(['Train','Test'])\nplt.title('Train vs Test Accuracy')\n \nplt.show()",
   "execution_count": null,
   "outputs": [
    {
     "data": {
      "text/plain": "<Figure size 720x576 with 1 Axes>",
      "image/png": "[encoded data removed]"
     },
     "metadata": {
      "needs_background": "light",
      "image/png": {
       "width": 617,
       "height": 496
      }
     },
     "output_type": "display_data"
    }
   ]
  },
  {
   "cell_type": "markdown",
   "source": "### One hot encoding",
   "metadata": {
    "tags": [],
    "cell_id": "00023-86bd7eca-2ace-4dd4-9ebc-80fab39edd07",
    "deepnote_cell_type": "markdown"
   }
  },
  {
   "cell_type": "code",
   "metadata": {
    "tags": [],
    "cell_id": "00023-77fc8d80-79ba-4be6-a235-c8d13efe1f06",
    "deepnote_to_be_reexecuted": false,
    "source_hash": "380ee455",
    "execution_start": 1639401787091,
    "execution_millis": 6,
    "deepnote_cell_type": "code"
   },
   "source": "enc_train = OneHotEncoder()\nenc_train.fit(X_train)\nX_train = enc_train.transform(X_train).toarray()\nprint(X_train.shape)\n\nenc_test = OneHotEncoder()\nenc_test.fit(X_test)\nX_test = enc_test.transform(X_test).toarray()\nprint(X_test.shape)",
   "execution_count": null,
   "outputs": [
    {
     "name": "stdout",
     "text": "(124, 17)\n(432, 17)\n",
     "output_type": "stream",
     "data": {}
    }
   ]
  },
  {
   "cell_type": "code",
   "metadata": {
    "tags": [],
    "cell_id": "00025-33ad70dc-dc9b-416b-9304-522873cebcde",
    "deepnote_to_be_reexecuted": false,
    "source_hash": "5463045a",
    "execution_start": 1639401787138,
    "execution_millis": 1,
    "deepnote_output_heights": [
     98
    ],
    "deepnote_cell_type": "code"
   },
   "source": "train_data_enc = TrainData(torch.FloatTensor(X_train), \n                       torch.FloatTensor(y_train))",
   "execution_count": null,
   "outputs": []
  },
  {
   "cell_type": "code",
   "metadata": {
    "tags": [],
    "cell_id": "00026-f04c6f58-cd4c-448a-8ea0-d97ba850c93f",
    "deepnote_to_be_reexecuted": false,
    "source_hash": "55068376",
    "execution_start": 1639401787139,
    "execution_millis": 149,
    "deepnote_output_heights": [
     98
    ],
    "deepnote_cell_type": "code"
   },
   "source": "test_data_enc = TestData(torch.FloatTensor(X_test))",
   "execution_count": null,
   "outputs": [
    {
     "output_type": "error",
     "ename": "TypeError",
     "evalue": "__init__() missing 1 required positional argument: 'y_data'",
     "traceback": [
      "\u001b[0;31m---------------------------------------------------------------------------\u001b[0m",
      "\u001b[0;31mTypeError\u001b[0m                                 Traceback (most recent call last)",
      "\u001b[0;32m<ipython-input-34-13a6c05f5115>\u001b[0m in \u001b[0;36m<module>\u001b[0;34m\u001b[0m\n\u001b[0;32m----> 1\u001b[0;31m \u001b[0mtest_data_enc\u001b[0m \u001b[0;34m=\u001b[0m \u001b[0mTestData\u001b[0m\u001b[0;34m(\u001b[0m\u001b[0mtorch\u001b[0m\u001b[0;34m.\u001b[0m\u001b[0mFloatTensor\u001b[0m\u001b[0;34m(\u001b[0m\u001b[0mX_test\u001b[0m\u001b[0;34m)\u001b[0m\u001b[0;34m)\u001b[0m\u001b[0;34m\u001b[0m\u001b[0;34m\u001b[0m\u001b[0m\n\u001b[0m",
      "\u001b[0;31mTypeError\u001b[0m: __init__() missing 1 required positional argument: 'y_data'"
     ],
     "data": {}
    }
   ]
  },
  {
   "cell_type": "code",
   "metadata": {
    "tags": [],
    "cell_id": "00034-9005d89c-f417-44f7-aa78-2caeb9611247",
    "deepnote_to_be_reexecuted": true,
    "source_hash": "76394730",
    "execution_start": 1639262834542,
    "execution_millis": 1,
    "deepnote_cell_type": "code"
   },
   "source": "train_loader_enc = DataLoader(dataset=train_data_enc, batch_size=BATCH_SIZE, shuffle=True)\ntest_loader_enc = DataLoader(dataset=test_data_enc, batch_size=1)",
   "execution_count": null,
   "outputs": []
  },
  {
   "cell_type": "code",
   "metadata": {
    "tags": [],
    "cell_id": "00028-15962a4f-194b-4e18-a817-6d2081239149",
    "deepnote_to_be_reexecuted": true,
    "source_hash": "8dc689ad",
    "execution_start": 1639262834587,
    "execution_millis": 4,
    "deepnote_cell_type": "code"
   },
   "source": "model_enc = BinaryClassification(X_test.shape[1], 4)\nprint(model_enc)",
   "execution_count": null,
   "outputs": [
    {
     "name": "stdout",
     "text": "BinaryClassification(\n  (layer_1): Linear(in_features=17, out_features=4, bias=True)\n  (layer_2): Linear(in_features=4, out_features=4, bias=True)\n  (layer_out): Linear(in_features=4, out_features=1, bias=True)\n  (relu): ReLU()\n  (dropout): Dropout(p=0.1, inplace=False)\n  (batchnorm1): BatchNorm1d(4, eps=1e-05, momentum=0.1, affine=True, track_running_stats=True)\n  (batchnorm2): BatchNorm1d(4, eps=1e-05, momentum=0.1, affine=True, track_running_stats=True)\n)\n",
     "output_type": "stream"
    }
   ]
  },
  {
   "cell_type": "code",
   "metadata": {
    "tags": [],
    "cell_id": "00025-4f9f91dd-26b4-4e53-a46d-b16e96aa0d37",
    "deepnote_to_be_reexecuted": true,
    "source_hash": "bf7e7b11",
    "execution_start": 1639262834588,
    "execution_millis": 413,
    "deepnote_output_heights": [
     611
    ],
    "deepnote_cell_type": "code"
   },
   "source": "epochs = 100\nmodel_enc, losses, accuracies = TrainPhase(epochs, model_enc, train_loader_enc, loss_function, optimizer)",
   "execution_count": null,
   "outputs": [
    {
     "name": "stdout",
     "text": "Epoch 001: | Loss: 0.84043 | Acc: 52.000\nEpoch 002: | Loss: 0.82659 | Acc: 53.000\nEpoch 003: | Loss: 0.86207 | Acc: 48.000\nEpoch 004: | Loss: 0.82099 | Acc: 53.000\nEpoch 005: | Loss: 0.82120 | Acc: 55.000\nEpoch 006: | Loss: 0.82320 | Acc: 52.000\nEpoch 007: | Loss: 0.83153 | Acc: 54.000\nEpoch 008: | Loss: 0.83789 | Acc: 49.000\nEpoch 009: | Loss: 0.83537 | Acc: 53.000\nEpoch 010: | Loss: 0.84548 | Acc: 48.000\nEpoch 011: | Loss: 0.85291 | Acc: 49.000\nEpoch 012: | Loss: 0.83183 | Acc: 53.000\nEpoch 013: | Loss: 0.82439 | Acc: 52.000\nEpoch 014: | Loss: 0.85216 | Acc: 52.000\nEpoch 015: | Loss: 0.83691 | Acc: 49.000\nEpoch 016: | Loss: 0.85105 | Acc: 52.000\nEpoch 017: | Loss: 0.83646 | Acc: 51.000\nEpoch 018: | Loss: 0.83892 | Acc: 51.000\nEpoch 019: | Loss: 0.84705 | Acc: 51.000\nEpoch 020: | Loss: 0.84533 | Acc: 50.000\nEpoch 021: | Loss: 0.83261 | Acc: 53.000\nEpoch 022: | Loss: 0.80788 | Acc: 52.000\nEpoch 023: | Loss: 0.83538 | Acc: 53.000\nEpoch 024: | Loss: 0.82221 | Acc: 52.000\nEpoch 025: | Loss: 0.84824 | Acc: 50.000\nEpoch 026: | Loss: 0.83805 | Acc: 52.000\nEpoch 027: | Loss: 0.82795 | Acc: 52.000\nEpoch 028: | Loss: 0.84568 | Acc: 49.000\nEpoch 029: | Loss: 0.82941 | Acc: 51.000\nEpoch 030: | Loss: 0.84338 | Acc: 52.000\nEpoch 031: | Loss: 0.82746 | Acc: 54.000\nEpoch 032: | Loss: 0.82917 | Acc: 52.000\nEpoch 033: | Loss: 0.83263 | Acc: 52.000\nEpoch 034: | Loss: 0.79271 | Acc: 54.000\nEpoch 035: | Loss: 0.86182 | Acc: 49.000\nEpoch 036: | Loss: 0.80834 | Acc: 53.000\nEpoch 037: | Loss: 0.81310 | Acc: 52.000\nEpoch 038: | Loss: 0.83899 | Acc: 51.000\nEpoch 039: | Loss: 0.82886 | Acc: 52.000\nEpoch 040: | Loss: 0.82511 | Acc: 52.000\nEpoch 041: | Loss: 0.83795 | Acc: 52.000\nEpoch 042: | Loss: 0.85192 | Acc: 48.000\nEpoch 043: | Loss: 0.83426 | Acc: 48.000\nEpoch 044: | Loss: 0.84180 | Acc: 51.000\nEpoch 045: | Loss: 0.83408 | Acc: 52.000\nEpoch 046: | Loss: 0.84323 | Acc: 52.000\nEpoch 047: | Loss: 0.83726 | Acc: 49.000\nEpoch 048: | Loss: 0.82950 | Acc: 52.000\nEpoch 049: | Loss: 0.85002 | Acc: 50.000\nEpoch 050: | Loss: 0.84188 | Acc: 51.000\nEpoch 051: | Loss: 0.83587 | Acc: 49.000\nEpoch 052: | Loss: 0.84426 | Acc: 51.000\nEpoch 053: | Loss: 0.82759 | Acc: 52.000\nEpoch 054: | Loss: 0.83747 | Acc: 52.000\nEpoch 055: | Loss: 0.83139 | Acc: 52.000\nEpoch 056: | Loss: 0.83528 | Acc: 52.000\nEpoch 057: | Loss: 0.84157 | Acc: 52.000\nEpoch 058: | Loss: 0.83660 | Acc: 53.000\nEpoch 059: | Loss: 0.83975 | Acc: 52.000\nEpoch 060: | Loss: 0.83488 | Acc: 52.000\nEpoch 061: | Loss: 0.83352 | Acc: 49.000\nEpoch 062: | Loss: 0.82040 | Acc: 52.000\nEpoch 063: | Loss: 0.83693 | Acc: 52.000\nEpoch 064: | Loss: 0.84853 | Acc: 51.000\nEpoch 065: | Loss: 0.82129 | Acc: 54.000\nEpoch 066: | Loss: 0.85055 | Acc: 48.000\nEpoch 067: | Loss: 0.83114 | Acc: 55.000\nEpoch 068: | Loss: 0.83557 | Acc: 54.000\nEpoch 069: | Loss: 0.83909 | Acc: 52.000\nEpoch 070: | Loss: 0.82365 | Acc: 51.000\nEpoch 071: | Loss: 0.83893 | Acc: 53.000\nEpoch 072: | Loss: 0.83784 | Acc: 52.000\nEpoch 073: | Loss: 0.84652 | Acc: 51.000\nEpoch 074: | Loss: 0.82939 | Acc: 51.000\nEpoch 075: | Loss: 0.85587 | Acc: 50.000\nEpoch 076: | Loss: 0.82161 | Acc: 53.000\nEpoch 077: | Loss: 0.82579 | Acc: 54.000\nEpoch 078: | Loss: 0.83262 | Acc: 51.000\nEpoch 079: | Loss: 0.82983 | Acc: 54.000\nEpoch 080: | Loss: 0.81594 | Acc: 52.000\nEpoch 081: | Loss: 0.83812 | Acc: 49.000\nEpoch 082: | Loss: 0.84355 | Acc: 52.000\nEpoch 083: | Loss: 0.81634 | Acc: 54.000\nEpoch 084: | Loss: 0.81322 | Acc: 53.000\nEpoch 085: | Loss: 0.83066 | Acc: 51.000\nEpoch 086: | Loss: 0.82917 | Acc: 50.000\nEpoch 087: | Loss: 0.85454 | Acc: 49.000\nEpoch 088: | Loss: 0.83495 | Acc: 51.000\nEpoch 089: | Loss: 0.84009 | Acc: 50.000\nEpoch 090: | Loss: 0.84414 | Acc: 52.000\nEpoch 091: | Loss: 0.85000 | Acc: 48.000\nEpoch 092: | Loss: 0.84881 | Acc: 52.000\nEpoch 093: | Loss: 0.80895 | Acc: 56.000\nEpoch 094: | Loss: 0.84351 | Acc: 50.000\nEpoch 095: | Loss: 0.79489 | Acc: 55.000\nEpoch 096: | Loss: 0.83270 | Acc: 51.000\nEpoch 097: | Loss: 0.83103 | Acc: 53.000\nEpoch 098: | Loss: 0.84357 | Acc: 49.000\nEpoch 099: | Loss: 0.85773 | Acc: 45.000\nEpoch 100: | Loss: 0.83858 | Acc: 52.000\n",
     "output_type": "stream"
    }
   ]
  },
  {
   "cell_type": "code",
   "metadata": {
    "tags": [],
    "cell_id": "00028-0a038e10-5401-46f2-ba45-22cab3fe0779",
    "deepnote_to_be_reexecuted": true,
    "source_hash": "f5ed399e",
    "execution_start": 1639262835055,
    "execution_millis": 251,
    "deepnote_output_heights": [
     390.33331298828125
    ],
    "deepnote_cell_type": "code"
   },
   "source": "plt.plot(range(epochs), losses)\nplt.ylabel('Loss')\nplt.xlabel('epoch');",
   "execution_count": null,
   "outputs": [
    {
     "data": {
      "text/plain": "<Figure size 720x576 with 1 Axes>",
      "image/png": "[encoded data removed]"
     },
     "metadata": {
      "needs_background": "light",
      "image/png": {
       "width": 615,
       "height": 480
      }
     },
     "output_type": "display_data"
    }
   ]
  },
  {
   "cell_type": "code",
   "metadata": {
    "tags": [],
    "cell_id": "00029-25be03a9-db0a-40c5-af48-f15138e30e40",
    "deepnote_to_be_reexecuted": true,
    "source_hash": "78c78cdc",
    "execution_start": 1639262835316,
    "execution_millis": 503,
    "deepnote_output_heights": [
     390.33331298828125
    ],
    "deepnote_cell_type": "code"
   },
   "source": "plt.plot(range(epochs), accuracies)\nplt.ylabel('Accuracy')\nplt.xlabel('epoch');",
   "execution_count": null,
   "outputs": [
    {
     "data": {
      "text/plain": "<Figure size 720x576 with 1 Axes>",
      "image/png": "[encoded data removed]"
     },
     "metadata": {
      "needs_background": "light",
      "image/png": {
       "width": 615,
       "height": 480
      }
     },
     "output_type": "display_data"
    }
   ]
  },
  {
   "cell_type": "code",
   "metadata": {
    "tags": [],
    "cell_id": "00030-b4682d96-aafc-45b6-8629-4fbd2d7918c0",
    "deepnote_to_be_reexecuted": true,
    "source_hash": "44b675d5",
    "execution_start": 1639262835587,
    "execution_millis": 234,
    "deepnote_cell_type": "code"
   },
   "source": "y_pred_test = Evaluate(model_enc, test_loader_enc)\nprint(y_pred_test[:5])",
   "execution_count": null,
   "outputs": [
    {
     "name": "stdout",
     "text": "[1.0, 1.0, 1.0, 1.0, 1.0]\n",
     "output_type": "stream"
    }
   ]
  },
  {
   "cell_type": "code",
   "metadata": {
    "tags": [],
    "cell_id": "00040-84874b3b-05f4-4762-9dcc-35b2a14aa1df",
    "deepnote_to_be_reexecuted": true,
    "source_hash": "d1284038",
    "execution_start": 1639262835663,
    "execution_millis": 158,
    "deepnote_cell_type": "code"
   },
   "source": "print(classification_report(y_test, y_pred_test))",
   "execution_count": null,
   "outputs": [
    {
     "name": "stdout",
     "text": "              precision    recall  f1-score   support\n\n           0       0.53      0.38      0.44       216\n           1       0.52      0.67      0.58       216\n\n    accuracy                           0.52       432\n   macro avg       0.53      0.52      0.51       432\nweighted avg       0.53      0.52      0.51       432\n\n",
     "output_type": "stream"
    }
   ]
  },
  {
   "cell_type": "markdown",
   "source": "### Loading MONK-2 dataset",
   "metadata": {
    "tags": [],
    "cell_id": "00033-cbb4dbdd-918f-46fe-b1b5-6e76a6a653b8",
    "deepnote_cell_type": "markdown"
   }
  },
  {
   "cell_type": "code",
   "metadata": {
    "tags": [],
    "cell_id": "00034-e0ea567d-b6e5-4b5f-be28-3b11386d3631",
    "deepnote_to_be_reexecuted": true,
    "source_hash": "656b45fe",
    "execution_start": 1639262835675,
    "execution_millis": 10,
    "deepnote_cell_type": "code"
   },
   "source": "df_monk2_train = pd.read_csv('./data/MONK/monks-2.train', sep=\" \", skipinitialspace=True, names=['class','a1','a2','a3','a4','a5','a6','id'])\ndf_monk2_train.drop(labels='id', axis=1, inplace=True)\n\ndf_monk2_test = pd.read_csv('./data/MONK/monks-2.test', sep=\" \", skipinitialspace=True,  names=['class','a1','a2','a3','a4','a5','a6','id'])\ndf_monk2_test.drop(labels='id', axis=1, inplace=True)",
   "execution_count": null,
   "outputs": []
  },
  {
   "cell_type": "code",
   "metadata": {
    "tags": [],
    "cell_id": "00035-1051cf92-6a65-49dd-af16-99bffe59bd4f",
    "deepnote_to_be_reexecuted": true,
    "source_hash": "55cc4d97",
    "execution_start": 1639262835786,
    "execution_millis": 36,
    "deepnote_cell_type": "code"
   },
   "source": "df_monk2_test.head() #first column is the target (can be either 0 or 1)",
   "execution_count": null,
   "outputs": [
    {
     "output_type": "execute_result",
     "execution_count": 40,
     "data": {
      "application/vnd.deepnote.dataframe.v2+json": {
       "row_count": 5,
       "column_count": 7,
       "columns": [
        {
         "name": "class",
         "dtype": "int64",
         "stats": {
          "unique_count": 1,
          "nan_count": 0,
          "min": "0",
          "max": "0",
          "histogram": [
           {
            "bin_start": -0.5,
            "bin_end": -0.4,
            "count": 0
           },
           {
            "bin_start": -0.4,
            "bin_end": -0.3,
            "count": 0
           },
           {
            "bin_start": -0.3,
            "bin_end": -0.19999999999999996,
            "count": 0
           },
           {
            "bin_start": -0.19999999999999996,
            "bin_end": -0.09999999999999998,
            "count": 0
           },
           {
            "bin_start": -0.09999999999999998,
            "bin_end": 0,
            "count": 0
           },
           {
            "bin_start": 0,
            "bin_end": 0.10000000000000009,
            "count": 5
           },
           {
            "bin_start": 0.10000000000000009,
            "bin_end": 0.20000000000000007,
            "count": 0
           },
           {
            "bin_start": 0.20000000000000007,
            "bin_end": 0.30000000000000004,
            "count": 0
           },
           {
            "bin_start": 0.30000000000000004,
            "bin_end": 0.4,
            "count": 0
           },
           {
            "bin_start": 0.4,
            "bin_end": 0.5,
            "count": 0
           }
          ]
         }
        },
        {
         "name": "a1",
         "dtype": "int64",
         "stats": {
          "unique_count": 1,
          "nan_count": 0,
          "min": "1",
          "max": "1",
          "histogram": [
           {
            "bin_start": 0.5,
            "bin_end": 0.6,
            "count": 0
           },
           {
            "bin_start": 0.6,
            "bin_end": 0.7,
            "count": 0
           },
           {
            "bin_start": 0.7,
            "bin_end": 0.8,
            "count": 0
           },
           {
            "bin_start": 0.8,
            "bin_end": 0.9,
            "count": 0
           },
           {
            "bin_start": 0.9,
            "bin_end": 1,
            "count": 0
           },
           {
            "bin_start": 1,
            "bin_end": 1.1,
            "count": 5
           },
           {
            "bin_start": 1.1,
            "bin_end": 1.2000000000000002,
            "count": 0
           },
           {
            "bin_start": 1.2000000000000002,
            "bin_end": 1.3,
            "count": 0
           },
           {
            "bin_start": 1.3,
            "bin_end": 1.4,
            "count": 0
           },
           {
            "bin_start": 1.4,
            "bin_end": 1.5,
            "count": 0
           }
          ]
         }
        },
        {
         "name": "a2",
         "dtype": "int64",
         "stats": {
          "unique_count": 1,
          "nan_count": 0,
          "min": "1",
          "max": "1",
          "histogram": [
           {
            "bin_start": 0.5,
            "bin_end": 0.6,
            "count": 0
           },
           {
            "bin_start": 0.6,
            "bin_end": 0.7,
            "count": 0
           },
           {
            "bin_start": 0.7,
            "bin_end": 0.8,
            "count": 0
           },
           {
            "bin_start": 0.8,
            "bin_end": 0.9,
            "count": 0
           },
           {
            "bin_start": 0.9,
            "bin_end": 1,
            "count": 0
           },
           {
            "bin_start": 1,
            "bin_end": 1.1,
            "count": 5
           },
           {
            "bin_start": 1.1,
            "bin_end": 1.2000000000000002,
            "count": 0
           },
           {
            "bin_start": 1.2000000000000002,
            "bin_end": 1.3,
            "count": 0
           },
           {
            "bin_start": 1.3,
            "bin_end": 1.4,
            "count": 0
           },
           {
            "bin_start": 1.4,
            "bin_end": 1.5,
            "count": 0
           }
          ]
         }
        },
        {
         "name": "a3",
         "dtype": "int64",
         "stats": {
          "unique_count": 1,
          "nan_count": 0,
          "min": "1",
          "max": "1",
          "histogram": [
           {
            "bin_start": 0.5,
            "bin_end": 0.6,
            "count": 0
           },
           {
            "bin_start": 0.6,
            "bin_end": 0.7,
            "count": 0
           },
           {
            "bin_start": 0.7,
            "bin_end": 0.8,
            "count": 0
           },
           {
            "bin_start": 0.8,
            "bin_end": 0.9,
            "count": 0
           },
           {
            "bin_start": 0.9,
            "bin_end": 1,
            "count": 0
           },
           {
            "bin_start": 1,
            "bin_end": 1.1,
            "count": 5
           },
           {
            "bin_start": 1.1,
            "bin_end": 1.2000000000000002,
            "count": 0
           },
           {
            "bin_start": 1.2000000000000002,
            "bin_end": 1.3,
            "count": 0
           },
           {
            "bin_start": 1.3,
            "bin_end": 1.4,
            "count": 0
           },
           {
            "bin_start": 1.4,
            "bin_end": 1.5,
            "count": 0
           }
          ]
         }
        },
        {
         "name": "a4",
         "dtype": "int64",
         "stats": {
          "unique_count": 1,
          "nan_count": 0,
          "min": "1",
          "max": "1",
          "histogram": [
           {
            "bin_start": 0.5,
            "bin_end": 0.6,
            "count": 0
           },
           {
            "bin_start": 0.6,
            "bin_end": 0.7,
            "count": 0
           },
           {
            "bin_start": 0.7,
            "bin_end": 0.8,
            "count": 0
           },
           {
            "bin_start": 0.8,
            "bin_end": 0.9,
            "count": 0
           },
           {
            "bin_start": 0.9,
            "bin_end": 1,
            "count": 0
           },
           {
            "bin_start": 1,
            "bin_end": 1.1,
            "count": 5
           },
           {
            "bin_start": 1.1,
            "bin_end": 1.2000000000000002,
            "count": 0
           },
           {
            "bin_start": 1.2000000000000002,
            "bin_end": 1.3,
            "count": 0
           },
           {
            "bin_start": 1.3,
            "bin_end": 1.4,
            "count": 0
           },
           {
            "bin_start": 1.4,
            "bin_end": 1.5,
            "count": 0
           }
          ]
         }
        },
        {
         "name": "a5",
         "dtype": "int64",
         "stats": {
          "unique_count": 3,
          "nan_count": 0,
          "min": "1",
          "max": "3",
          "histogram": [
           {
            "bin_start": 1,
            "bin_end": 1.2,
            "count": 2
           },
           {
            "bin_start": 1.2,
            "bin_end": 1.4,
            "count": 0
           },
           {
            "bin_start": 1.4,
            "bin_end": 1.6,
            "count": 0
           },
           {
            "bin_start": 1.6,
            "bin_end": 1.8,
            "count": 0
           },
           {
            "bin_start": 1.8,
            "bin_end": 2,
            "count": 0
           },
           {
            "bin_start": 2,
            "bin_end": 2.2,
            "count": 2
           },
           {
            "bin_start": 2.2,
            "bin_end": 2.4000000000000004,
            "count": 0
           },
           {
            "bin_start": 2.4000000000000004,
            "bin_end": 2.6,
            "count": 0
           },
           {
            "bin_start": 2.6,
            "bin_end": 2.8,
            "count": 0
           },
           {
            "bin_start": 2.8,
            "bin_end": 3,
            "count": 1
           }
          ]
         }
        },
        {
         "name": "a6",
         "dtype": "int64",
         "stats": {
          "unique_count": 2,
          "nan_count": 0,
          "min": "1",
          "max": "2",
          "histogram": [
           {
            "bin_start": 1,
            "bin_end": 1.1,
            "count": 3
           },
           {
            "bin_start": 1.1,
            "bin_end": 1.2,
            "count": 0
           },
           {
            "bin_start": 1.2,
            "bin_end": 1.3,
            "count": 0
           },
           {
            "bin_start": 1.3,
            "bin_end": 1.4,
            "count": 0
           },
           {
            "bin_start": 1.4,
            "bin_end": 1.5,
            "count": 0
           },
           {
            "bin_start": 1.5,
            "bin_end": 1.6,
            "count": 0
           },
           {
            "bin_start": 1.6,
            "bin_end": 1.7000000000000002,
            "count": 0
           },
           {
            "bin_start": 1.7000000000000002,
            "bin_end": 1.8,
            "count": 0
           },
           {
            "bin_start": 1.8,
            "bin_end": 1.9,
            "count": 0
           },
           {
            "bin_start": 1.9,
            "bin_end": 2,
            "count": 2
           }
          ]
         }
        },
        {
         "name": "_deepnote_index_column",
         "dtype": "int64"
        }
       ],
       "rows_top": [
        {
         "class": 0,
         "a1": 1,
         "a2": 1,
         "a3": 1,
         "a4": 1,
         "a5": 1,
         "a6": 1,
         "_deepnote_index_column": 0
        },
        {
         "class": 0,
         "a1": 1,
         "a2": 1,
         "a3": 1,
         "a4": 1,
         "a5": 1,
         "a6": 2,
         "_deepnote_index_column": 1
        },
        {
         "class": 0,
         "a1": 1,
         "a2": 1,
         "a3": 1,
         "a4": 1,
         "a5": 2,
         "a6": 1,
         "_deepnote_index_column": 2
        },
        {
         "class": 0,
         "a1": 1,
         "a2": 1,
         "a3": 1,
         "a4": 1,
         "a5": 2,
         "a6": 2,
         "_deepnote_index_column": 3
        },
        {
         "class": 0,
         "a1": 1,
         "a2": 1,
         "a3": 1,
         "a4": 1,
         "a5": 3,
         "a6": 1,
         "_deepnote_index_column": 4
        }
       ],
       "rows_bottom": null
      },
      "text/plain": "   class  a1  a2  a3  a4  a5  a6\n0      0   1   1   1   1   1   1\n1      0   1   1   1   1   1   2\n2      0   1   1   1   1   2   1\n3      0   1   1   1   1   2   2\n4      0   1   1   1   1   3   1",
      "text/html": "<div>\n<style scoped>\n    .dataframe tbody tr th:only-of-type {\n        vertical-align: middle;\n    }\n\n    .dataframe tbody tr th {\n        vertical-align: top;\n    }\n\n    .dataframe thead th {\n        text-align: right;\n    }\n</style>\n<table border=\"1\" class=\"dataframe\">\n  <thead>\n    <tr style=\"text-align: right;\">\n      <th></th>\n      <th>class</th>\n      <th>a1</th>\n      <th>a2</th>\n      <th>a3</th>\n      <th>a4</th>\n      <th>a5</th>\n      <th>a6</th>\n    </tr>\n  </thead>\n  <tbody>\n    <tr>\n      <th>0</th>\n      <td>0</td>\n      <td>1</td>\n      <td>1</td>\n      <td>1</td>\n      <td>1</td>\n      <td>1</td>\n      <td>1</td>\n    </tr>\n    <tr>\n      <th>1</th>\n      <td>0</td>\n      <td>1</td>\n      <td>1</td>\n      <td>1</td>\n      <td>1</td>\n      <td>1</td>\n      <td>2</td>\n    </tr>\n    <tr>\n      <th>2</th>\n      <td>0</td>\n      <td>1</td>\n      <td>1</td>\n      <td>1</td>\n      <td>1</td>\n      <td>2</td>\n      <td>1</td>\n    </tr>\n    <tr>\n      <th>3</th>\n      <td>0</td>\n      <td>1</td>\n      <td>1</td>\n      <td>1</td>\n      <td>1</td>\n      <td>2</td>\n      <td>2</td>\n    </tr>\n    <tr>\n      <th>4</th>\n      <td>0</td>\n      <td>1</td>\n      <td>1</td>\n      <td>1</td>\n      <td>1</td>\n      <td>3</td>\n      <td>1</td>\n    </tr>\n  </tbody>\n</table>\n</div>"
     },
     "metadata": {}
    }
   ]
  },
  {
   "cell_type": "code",
   "metadata": {
    "tags": [],
    "cell_id": "00036-13ff0462-e24a-47b9-959f-348a1b518096",
    "deepnote_to_be_reexecuted": true,
    "source_hash": "34bb22a0",
    "execution_start": 1639262835819,
    "execution_millis": 9,
    "deepnote_cell_type": "code"
   },
   "source": "df_monk2_train",
   "execution_count": null,
   "outputs": [
    {
     "output_type": "execute_result",
     "execution_count": 41,
     "data": {
      "application/vnd.deepnote.dataframe.v2+json": {
       "row_count": 169,
       "column_count": 7,
       "columns": [
        {
         "name": "class",
         "dtype": "int64",
         "stats": {
          "unique_count": 2,
          "nan_count": 0,
          "min": "0",
          "max": "1",
          "histogram": [
           {
            "bin_start": 0,
            "bin_end": 0.1,
            "count": 105
           },
           {
            "bin_start": 0.1,
            "bin_end": 0.2,
            "count": 0
           },
           {
            "bin_start": 0.2,
            "bin_end": 0.30000000000000004,
            "count": 0
           },
           {
            "bin_start": 0.30000000000000004,
            "bin_end": 0.4,
            "count": 0
           },
           {
            "bin_start": 0.4,
            "bin_end": 0.5,
            "count": 0
           },
           {
            "bin_start": 0.5,
            "bin_end": 0.6000000000000001,
            "count": 0
           },
           {
            "bin_start": 0.6000000000000001,
            "bin_end": 0.7000000000000001,
            "count": 0
           },
           {
            "bin_start": 0.7000000000000001,
            "bin_end": 0.8,
            "count": 0
           },
           {
            "bin_start": 0.8,
            "bin_end": 0.9,
            "count": 0
           },
           {
            "bin_start": 0.9,
            "bin_end": 1,
            "count": 64
           }
          ]
         }
        },
        {
         "name": "a1",
         "dtype": "int64",
         "stats": {
          "unique_count": 3,
          "nan_count": 0,
          "min": "1",
          "max": "3",
          "histogram": [
           {
            "bin_start": 1,
            "bin_end": 1.2,
            "count": 57
           },
           {
            "bin_start": 1.2,
            "bin_end": 1.4,
            "count": 0
           },
           {
            "bin_start": 1.4,
            "bin_end": 1.6,
            "count": 0
           },
           {
            "bin_start": 1.6,
            "bin_end": 1.8,
            "count": 0
           },
           {
            "bin_start": 1.8,
            "bin_end": 2,
            "count": 0
           },
           {
            "bin_start": 2,
            "bin_end": 2.2,
            "count": 57
           },
           {
            "bin_start": 2.2,
            "bin_end": 2.4000000000000004,
            "count": 0
           },
           {
            "bin_start": 2.4000000000000004,
            "bin_end": 2.6,
            "count": 0
           },
           {
            "bin_start": 2.6,
            "bin_end": 2.8,
            "count": 0
           },
           {
            "bin_start": 2.8,
            "bin_end": 3,
            "count": 55
           }
          ]
         }
        },
        {
         "name": "a2",
         "dtype": "int64",
         "stats": {
          "unique_count": 3,
          "nan_count": 0,
          "min": "1",
          "max": "3",
          "histogram": [
           {
            "bin_start": 1,
            "bin_end": 1.2,
            "count": 55
           },
           {
            "bin_start": 1.2,
            "bin_end": 1.4,
            "count": 0
           },
           {
            "bin_start": 1.4,
            "bin_end": 1.6,
            "count": 0
           },
           {
            "bin_start": 1.6,
            "bin_end": 1.8,
            "count": 0
           },
           {
            "bin_start": 1.8,
            "bin_end": 2,
            "count": 0
           },
           {
            "bin_start": 2,
            "bin_end": 2.2,
            "count": 63
           },
           {
            "bin_start": 2.2,
            "bin_end": 2.4000000000000004,
            "count": 0
           },
           {
            "bin_start": 2.4000000000000004,
            "bin_end": 2.6,
            "count": 0
           },
           {
            "bin_start": 2.6,
            "bin_end": 2.8,
            "count": 0
           },
           {
            "bin_start": 2.8,
            "bin_end": 3,
            "count": 51
           }
          ]
         }
        },
        {
         "name": "a3",
         "dtype": "int64",
         "stats": {
          "unique_count": 2,
          "nan_count": 0,
          "min": "1",
          "max": "2",
          "histogram": [
           {
            "bin_start": 1,
            "bin_end": 1.1,
            "count": 83
           },
           {
            "bin_start": 1.1,
            "bin_end": 1.2,
            "count": 0
           },
           {
            "bin_start": 1.2,
            "bin_end": 1.3,
            "count": 0
           },
           {
            "bin_start": 1.3,
            "bin_end": 1.4,
            "count": 0
           },
           {
            "bin_start": 1.4,
            "bin_end": 1.5,
            "count": 0
           },
           {
            "bin_start": 1.5,
            "bin_end": 1.6,
            "count": 0
           },
           {
            "bin_start": 1.6,
            "bin_end": 1.7000000000000002,
            "count": 0
           },
           {
            "bin_start": 1.7000000000000002,
            "bin_end": 1.8,
            "count": 0
           },
           {
            "bin_start": 1.8,
            "bin_end": 1.9,
            "count": 0
           },
           {
            "bin_start": 1.9,
            "bin_end": 2,
            "count": 86
           }
          ]
         }
        },
        {
         "name": "a4",
         "dtype": "int64",
         "stats": {
          "unique_count": 3,
          "nan_count": 0,
          "min": "1",
          "max": "3",
          "histogram": [
           {
            "bin_start": 1,
            "bin_end": 1.2,
            "count": 54
           },
           {
            "bin_start": 1.2,
            "bin_end": 1.4,
            "count": 0
           },
           {
            "bin_start": 1.4,
            "bin_end": 1.6,
            "count": 0
           },
           {
            "bin_start": 1.6,
            "bin_end": 1.8,
            "count": 0
           },
           {
            "bin_start": 1.8,
            "bin_end": 2,
            "count": 0
           },
           {
            "bin_start": 2,
            "bin_end": 2.2,
            "count": 54
           },
           {
            "bin_start": 2.2,
            "bin_end": 2.4000000000000004,
            "count": 0
           },
           {
            "bin_start": 2.4000000000000004,
            "bin_end": 2.6,
            "count": 0
           },
           {
            "bin_start": 2.6,
            "bin_end": 2.8,
            "count": 0
           },
           {
            "bin_start": 2.8,
            "bin_end": 3,
            "count": 61
           }
          ]
         }
        },
        {
         "name": "a5",
         "dtype": "int64",
         "stats": {
          "unique_count": 4,
          "nan_count": 0,
          "min": "1",
          "max": "4",
          "histogram": [
           {
            "bin_start": 1,
            "bin_end": 1.3,
            "count": 43
           },
           {
            "bin_start": 1.3,
            "bin_end": 1.6,
            "count": 0
           },
           {
            "bin_start": 1.6,
            "bin_end": 1.9,
            "count": 0
           },
           {
            "bin_start": 1.9,
            "bin_end": 2.2,
            "count": 40
           },
           {
            "bin_start": 2.2,
            "bin_end": 2.5,
            "count": 0
           },
           {
            "bin_start": 2.5,
            "bin_end": 2.8,
            "count": 0
           },
           {
            "bin_start": 2.8,
            "bin_end": 3.1,
            "count": 49
           },
           {
            "bin_start": 3.1,
            "bin_end": 3.4,
            "count": 0
           },
           {
            "bin_start": 3.4,
            "bin_end": 3.6999999999999997,
            "count": 0
           },
           {
            "bin_start": 3.6999999999999997,
            "bin_end": 4,
            "count": 37
           }
          ]
         }
        },
        {
         "name": "a6",
         "dtype": "int64",
         "stats": {
          "unique_count": 2,
          "nan_count": 0,
          "min": "1",
          "max": "2",
          "histogram": [
           {
            "bin_start": 1,
            "bin_end": 1.1,
            "count": 84
           },
           {
            "bin_start": 1.1,
            "bin_end": 1.2,
            "count": 0
           },
           {
            "bin_start": 1.2,
            "bin_end": 1.3,
            "count": 0
           },
           {
            "bin_start": 1.3,
            "bin_end": 1.4,
            "count": 0
           },
           {
            "bin_start": 1.4,
            "bin_end": 1.5,
            "count": 0
           },
           {
            "bin_start": 1.5,
            "bin_end": 1.6,
            "count": 0
           },
           {
            "bin_start": 1.6,
            "bin_end": 1.7000000000000002,
            "count": 0
           },
           {
            "bin_start": 1.7000000000000002,
            "bin_end": 1.8,
            "count": 0
           },
           {
            "bin_start": 1.8,
            "bin_end": 1.9,
            "count": 0
           },
           {
            "bin_start": 1.9,
            "bin_end": 2,
            "count": 85
           }
          ]
         }
        },
        {
         "name": "_deepnote_index_column",
         "dtype": "int64"
        }
       ],
       "rows_top": [
        {
         "class": 0,
         "a1": 1,
         "a2": 1,
         "a3": 1,
         "a4": 1,
         "a5": 2,
         "a6": 2,
         "_deepnote_index_column": 0
        },
        {
         "class": 0,
         "a1": 1,
         "a2": 1,
         "a3": 1,
         "a4": 1,
         "a5": 4,
         "a6": 1,
         "_deepnote_index_column": 1
        },
        {
         "class": 0,
         "a1": 1,
         "a2": 1,
         "a3": 1,
         "a4": 2,
         "a5": 1,
         "a6": 1,
         "_deepnote_index_column": 2
        },
        {
         "class": 0,
         "a1": 1,
         "a2": 1,
         "a3": 1,
         "a4": 2,
         "a5": 1,
         "a6": 2,
         "_deepnote_index_column": 3
        },
        {
         "class": 0,
         "a1": 1,
         "a2": 1,
         "a3": 1,
         "a4": 2,
         "a5": 2,
         "a6": 1,
         "_deepnote_index_column": 4
        },
        {
         "class": 0,
         "a1": 1,
         "a2": 1,
         "a3": 1,
         "a4": 2,
         "a5": 3,
         "a6": 1,
         "_deepnote_index_column": 5
        },
        {
         "class": 0,
         "a1": 1,
         "a2": 1,
         "a3": 1,
         "a4": 2,
         "a5": 4,
         "a6": 1,
         "_deepnote_index_column": 6
        },
        {
         "class": 0,
         "a1": 1,
         "a2": 1,
         "a3": 1,
         "a4": 3,
         "a5": 2,
         "a6": 1,
         "_deepnote_index_column": 7
        },
        {
         "class": 0,
         "a1": 1,
         "a2": 1,
         "a3": 1,
         "a4": 3,
         "a5": 4,
         "a6": 1,
         "_deepnote_index_column": 8
        },
        {
         "class": 0,
         "a1": 1,
         "a2": 1,
         "a3": 2,
         "a4": 1,
         "a5": 1,
         "a6": 1,
         "_deepnote_index_column": 9
        },
        {
         "class": 0,
         "a1": 1,
         "a2": 1,
         "a3": 2,
         "a4": 1,
         "a5": 1,
         "a6": 2,
         "_deepnote_index_column": 10
        },
        {
         "class": 0,
         "a1": 1,
         "a2": 1,
         "a3": 2,
         "a4": 2,
         "a5": 3,
         "a6": 1,
         "_deepnote_index_column": 11
        },
        {
         "class": 0,
         "a1": 1,
         "a2": 1,
         "a3": 2,
         "a4": 2,
         "a5": 4,
         "a6": 1,
         "_deepnote_index_column": 12
        },
        {
         "class": 1,
         "a1": 1,
         "a2": 1,
         "a3": 2,
         "a4": 2,
         "a5": 4,
         "a6": 2,
         "_deepnote_index_column": 13
        },
        {
         "class": 0,
         "a1": 1,
         "a2": 1,
         "a3": 2,
         "a4": 3,
         "a5": 1,
         "a6": 2,
         "_deepnote_index_column": 14
        },
        {
         "class": 1,
         "a1": 1,
         "a2": 1,
         "a3": 2,
         "a4": 3,
         "a5": 2,
         "a6": 2,
         "_deepnote_index_column": 15
        },
        {
         "class": 0,
         "a1": 1,
         "a2": 2,
         "a3": 1,
         "a4": 1,
         "a5": 1,
         "a6": 2,
         "_deepnote_index_column": 16
        },
        {
         "class": 0,
         "a1": 1,
         "a2": 2,
         "a3": 1,
         "a4": 2,
         "a5": 1,
         "a6": 2,
         "_deepnote_index_column": 17
        },
        {
         "class": 1,
         "a1": 1,
         "a2": 2,
         "a3": 1,
         "a4": 2,
         "a5": 2,
         "a6": 2,
         "_deepnote_index_column": 18
        },
        {
         "class": 0,
         "a1": 1,
         "a2": 2,
         "a3": 1,
         "a4": 2,
         "a5": 3,
         "a6": 1,
         "_deepnote_index_column": 19
        },
        {
         "class": 1,
         "a1": 1,
         "a2": 2,
         "a3": 1,
         "a4": 2,
         "a5": 3,
         "a6": 2,
         "_deepnote_index_column": 20
        },
        {
         "class": 0,
         "a1": 1,
         "a2": 2,
         "a3": 1,
         "a4": 2,
         "a5": 4,
         "a6": 1,
         "_deepnote_index_column": 21
        },
        {
         "class": 0,
         "a1": 1,
         "a2": 2,
         "a3": 1,
         "a4": 3,
         "a5": 1,
         "a6": 1,
         "_deepnote_index_column": 22
        },
        {
         "class": 0,
         "a1": 1,
         "a2": 2,
         "a3": 1,
         "a4": 3,
         "a5": 1,
         "a6": 2,
         "_deepnote_index_column": 23
        },
        {
         "class": 1,
         "a1": 1,
         "a2": 2,
         "a3": 1,
         "a4": 3,
         "a5": 2,
         "a6": 2,
         "_deepnote_index_column": 24
        },
        {
         "class": 0,
         "a1": 1,
         "a2": 2,
         "a3": 1,
         "a4": 3,
         "a5": 3,
         "a6": 1,
         "_deepnote_index_column": 25
        },
        {
         "class": 1,
         "a1": 1,
         "a2": 2,
         "a3": 1,
         "a4": 3,
         "a5": 3,
         "a6": 2,
         "_deepnote_index_column": 26
        },
        {
         "class": 0,
         "a1": 1,
         "a2": 2,
         "a3": 1,
         "a4": 3,
         "a5": 4,
         "a6": 1,
         "_deepnote_index_column": 27
        },
        {
         "class": 1,
         "a1": 1,
         "a2": 2,
         "a3": 1,
         "a4": 3,
         "a5": 4,
         "a6": 2,
         "_deepnote_index_column": 28
        },
        {
         "class": 0,
         "a1": 1,
         "a2": 2,
         "a3": 2,
         "a4": 1,
         "a5": 2,
         "a6": 1,
         "_deepnote_index_column": 29
        },
        {
         "class": 0,
         "a1": 1,
         "a2": 2,
         "a3": 2,
         "a4": 1,
         "a5": 4,
         "a6": 1,
         "_deepnote_index_column": 30
        },
        {
         "class": 1,
         "a1": 1,
         "a2": 2,
         "a3": 2,
         "a4": 2,
         "a5": 3,
         "a6": 1,
         "_deepnote_index_column": 31
        },
        {
         "class": 1,
         "a1": 1,
         "a2": 2,
         "a3": 2,
         "a4": 2,
         "a5": 4,
         "a6": 1,
         "_deepnote_index_column": 32
        },
        {
         "class": 0,
         "a1": 1,
         "a2": 2,
         "a3": 2,
         "a4": 3,
         "a5": 1,
         "a6": 1,
         "_deepnote_index_column": 33
        },
        {
         "class": 1,
         "a1": 1,
         "a2": 2,
         "a3": 2,
         "a4": 3,
         "a5": 1,
         "a6": 2,
         "_deepnote_index_column": 34
        },
        {
         "class": 1,
         "a1": 1,
         "a2": 2,
         "a3": 2,
         "a4": 3,
         "a5": 3,
         "a6": 1,
         "_deepnote_index_column": 35
        },
        {
         "class": 0,
         "a1": 1,
         "a2": 2,
         "a3": 2,
         "a4": 3,
         "a5": 3,
         "a6": 2,
         "_deepnote_index_column": 36
        },
        {
         "class": 1,
         "a1": 1,
         "a2": 2,
         "a3": 2,
         "a4": 3,
         "a5": 4,
         "a6": 1,
         "_deepnote_index_column": 37
        },
        {
         "class": 0,
         "a1": 1,
         "a2": 2,
         "a3": 2,
         "a4": 3,
         "a5": 4,
         "a6": 2,
         "_deepnote_index_column": 38
        },
        {
         "class": 0,
         "a1": 1,
         "a2": 3,
         "a3": 1,
         "a4": 1,
         "a5": 1,
         "a6": 2,
         "_deepnote_index_column": 39
        },
        {
         "class": 0,
         "a1": 1,
         "a2": 3,
         "a3": 1,
         "a4": 1,
         "a5": 2,
         "a6": 2,
         "_deepnote_index_column": 40
        },
        {
         "class": 0,
         "a1": 1,
         "a2": 3,
         "a3": 1,
         "a4": 1,
         "a5": 3,
         "a6": 1,
         "_deepnote_index_column": 41
        },
        {
         "class": 0,
         "a1": 1,
         "a2": 3,
         "a3": 1,
         "a4": 1,
         "a5": 3,
         "a6": 2,
         "_deepnote_index_column": 42
        },
        {
         "class": 0,
         "a1": 1,
         "a2": 3,
         "a3": 1,
         "a4": 2,
         "a5": 2,
         "a6": 1,
         "_deepnote_index_column": 43
        },
        {
         "class": 1,
         "a1": 1,
         "a2": 3,
         "a3": 1,
         "a4": 2,
         "a5": 2,
         "a6": 2,
         "_deepnote_index_column": 44
        },
        {
         "class": 1,
         "a1": 1,
         "a2": 3,
         "a3": 1,
         "a4": 2,
         "a5": 3,
         "a6": 2,
         "_deepnote_index_column": 45
        },
        {
         "class": 0,
         "a1": 1,
         "a2": 3,
         "a3": 1,
         "a4": 2,
         "a5": 4,
         "a6": 1,
         "_deepnote_index_column": 46
        },
        {
         "class": 1,
         "a1": 1,
         "a2": 3,
         "a3": 1,
         "a4": 3,
         "a5": 2,
         "a6": 2,
         "_deepnote_index_column": 47
        },
        {
         "class": 0,
         "a1": 1,
         "a2": 3,
         "a3": 1,
         "a4": 3,
         "a5": 3,
         "a6": 1,
         "_deepnote_index_column": 48
        },
        {
         "class": 1,
         "a1": 1,
         "a2": 3,
         "a3": 1,
         "a4": 3,
         "a5": 4,
         "a6": 2,
         "_deepnote_index_column": 49
        },
        {
         "class": 0,
         "a1": 1,
         "a2": 3,
         "a3": 2,
         "a4": 1,
         "a5": 3,
         "a6": 1,
         "_deepnote_index_column": 50
        },
        {
         "class": 1,
         "a1": 1,
         "a2": 3,
         "a3": 2,
         "a4": 1,
         "a5": 3,
         "a6": 2,
         "_deepnote_index_column": 51
        },
        {
         "class": 0,
         "a1": 1,
         "a2": 3,
         "a3": 2,
         "a4": 1,
         "a5": 4,
         "a6": 1,
         "_deepnote_index_column": 52
        },
        {
         "class": 1,
         "a1": 1,
         "a2": 3,
         "a3": 2,
         "a4": 2,
         "a5": 1,
         "a6": 2,
         "_deepnote_index_column": 53
        },
        {
         "class": 0,
         "a1": 1,
         "a2": 3,
         "a3": 2,
         "a4": 2,
         "a5": 3,
         "a6": 2,
         "_deepnote_index_column": 54
        },
        {
         "class": 0,
         "a1": 1,
         "a2": 3,
         "a3": 2,
         "a4": 2,
         "a5": 4,
         "a6": 2,
         "_deepnote_index_column": 55
        },
        {
         "class": 1,
         "a1": 1,
         "a2": 3,
         "a3": 2,
         "a4": 3,
         "a5": 2,
         "a6": 1,
         "_deepnote_index_column": 56
        },
        {
         "class": 0,
         "a1": 2,
         "a2": 1,
         "a3": 1,
         "a4": 1,
         "a5": 1,
         "a6": 1,
         "_deepnote_index_column": 57
        },
        {
         "class": 0,
         "a1": 2,
         "a2": 1,
         "a3": 1,
         "a4": 1,
         "a5": 2,
         "a6": 2,
         "_deepnote_index_column": 58
        },
        {
         "class": 0,
         "a1": 2,
         "a2": 1,
         "a3": 1,
         "a4": 1,
         "a5": 3,
         "a6": 1,
         "_deepnote_index_column": 59
        },
        {
         "class": 1,
         "a1": 2,
         "a2": 1,
         "a3": 1,
         "a4": 2,
         "a5": 2,
         "a6": 2,
         "_deepnote_index_column": 60
        },
        {
         "class": 0,
         "a1": 2,
         "a2": 1,
         "a3": 1,
         "a4": 3,
         "a5": 1,
         "a6": 2,
         "_deepnote_index_column": 61
        },
        {
         "class": 1,
         "a1": 2,
         "a2": 1,
         "a3": 1,
         "a4": 3,
         "a5": 2,
         "a6": 2,
         "_deepnote_index_column": 62
        },
        {
         "class": 1,
         "a1": 2,
         "a2": 1,
         "a3": 1,
         "a4": 3,
         "a5": 3,
         "a6": 2,
         "_deepnote_index_column": 63
        },
        {
         "class": 0,
         "a1": 2,
         "a2": 1,
         "a3": 1,
         "a4": 3,
         "a5": 4,
         "a6": 1,
         "_deepnote_index_column": 64
        },
        {
         "class": 0,
         "a1": 2,
         "a2": 1,
         "a3": 2,
         "a4": 1,
         "a5": 1,
         "a6": 1,
         "_deepnote_index_column": 65
        },
        {
         "class": 1,
         "a1": 2,
         "a2": 1,
         "a3": 2,
         "a4": 1,
         "a5": 2,
         "a6": 2,
         "_deepnote_index_column": 66
        },
        {
         "class": 0,
         "a1": 2,
         "a2": 1,
         "a3": 2,
         "a4": 1,
         "a5": 4,
         "a6": 1,
         "_deepnote_index_column": 67
        },
        {
         "class": 1,
         "a1": 2,
         "a2": 1,
         "a3": 2,
         "a4": 2,
         "a5": 2,
         "a6": 1,
         "_deepnote_index_column": 68
        },
        {
         "class": 0,
         "a1": 2,
         "a2": 1,
         "a3": 2,
         "a4": 2,
         "a5": 4,
         "a6": 2,
         "_deepnote_index_column": 69
        },
        {
         "class": 0,
         "a1": 2,
         "a2": 1,
         "a3": 2,
         "a4": 3,
         "a5": 1,
         "a6": 1,
         "_deepnote_index_column": 70
        }
       ],
       "rows_bottom": [
        {
         "class": 1,
         "a1": 2,
         "a2": 3,
         "a3": 1,
         "a4": 2,
         "a5": 3,
         "a6": 1,
         "_deepnote_index_column": 98
        },
        {
         "class": 0,
         "a1": 2,
         "a2": 3,
         "a3": 1,
         "a4": 2,
         "a5": 3,
         "a6": 2,
         "_deepnote_index_column": 99
        },
        {
         "class": 0,
         "a1": 2,
         "a2": 3,
         "a3": 1,
         "a4": 2,
         "a5": 4,
         "a6": 2,
         "_deepnote_index_column": 100
        },
        {
         "class": 1,
         "a1": 2,
         "a2": 3,
         "a3": 1,
         "a4": 3,
         "a5": 1,
         "a6": 2,
         "_deepnote_index_column": 101
        },
        {
         "class": 1,
         "a1": 2,
         "a2": 3,
         "a3": 1,
         "a4": 3,
         "a5": 2,
         "a6": 1,
         "_deepnote_index_column": 102
        },
        {
         "class": 1,
         "a1": 2,
         "a2": 3,
         "a3": 1,
         "a4": 3,
         "a5": 4,
         "a6": 1,
         "_deepnote_index_column": 103
        },
        {
         "class": 1,
         "a1": 2,
         "a2": 3,
         "a3": 2,
         "a4": 1,
         "a5": 1,
         "a6": 2,
         "_deepnote_index_column": 104
        },
        {
         "class": 1,
         "a1": 2,
         "a2": 3,
         "a3": 2,
         "a4": 1,
         "a5": 2,
         "a6": 1,
         "_deepnote_index_column": 105
        },
        {
         "class": 1,
         "a1": 2,
         "a2": 3,
         "a3": 2,
         "a4": 1,
         "a5": 3,
         "a6": 1,
         "_deepnote_index_column": 106
        },
        {
         "class": 0,
         "a1": 2,
         "a2": 3,
         "a3": 2,
         "a4": 1,
         "a5": 4,
         "a6": 2,
         "_deepnote_index_column": 107
        },
        {
         "class": 1,
         "a1": 2,
         "a2": 3,
         "a3": 2,
         "a4": 2,
         "a5": 1,
         "a6": 1,
         "_deepnote_index_column": 108
        },
        {
         "class": 0,
         "a1": 2,
         "a2": 3,
         "a3": 2,
         "a4": 2,
         "a5": 2,
         "a6": 1,
         "_deepnote_index_column": 109
        },
        {
         "class": 0,
         "a1": 2,
         "a2": 3,
         "a3": 2,
         "a4": 2,
         "a5": 3,
         "a6": 2,
         "_deepnote_index_column": 110
        },
        {
         "class": 0,
         "a1": 2,
         "a2": 3,
         "a3": 2,
         "a4": 3,
         "a5": 3,
         "a6": 1,
         "_deepnote_index_column": 111
        },
        {
         "class": 0,
         "a1": 2,
         "a2": 3,
         "a3": 2,
         "a4": 3,
         "a5": 3,
         "a6": 2,
         "_deepnote_index_column": 112
        },
        {
         "class": 0,
         "a1": 2,
         "a2": 3,
         "a3": 2,
         "a4": 3,
         "a5": 4,
         "a6": 2,
         "_deepnote_index_column": 113
        },
        {
         "class": 0,
         "a1": 3,
         "a2": 1,
         "a3": 1,
         "a4": 1,
         "a5": 4,
         "a6": 1,
         "_deepnote_index_column": 114
        },
        {
         "class": 0,
         "a1": 3,
         "a2": 1,
         "a3": 1,
         "a4": 2,
         "a5": 1,
         "a6": 2,
         "_deepnote_index_column": 115
        },
        {
         "class": 1,
         "a1": 3,
         "a2": 1,
         "a3": 1,
         "a4": 2,
         "a5": 2,
         "a6": 2,
         "_deepnote_index_column": 116
        },
        {
         "class": 1,
         "a1": 3,
         "a2": 1,
         "a3": 1,
         "a4": 2,
         "a5": 3,
         "a6": 2,
         "_deepnote_index_column": 117
        },
        {
         "class": 0,
         "a1": 3,
         "a2": 1,
         "a3": 1,
         "a4": 2,
         "a5": 4,
         "a6": 1,
         "_deepnote_index_column": 118
        },
        {
         "class": 1,
         "a1": 3,
         "a2": 1,
         "a3": 1,
         "a4": 2,
         "a5": 4,
         "a6": 2,
         "_deepnote_index_column": 119
        },
        {
         "class": 0,
         "a1": 3,
         "a2": 1,
         "a3": 1,
         "a4": 3,
         "a5": 1,
         "a6": 1,
         "_deepnote_index_column": 120
        },
        {
         "class": 0,
         "a1": 3,
         "a2": 1,
         "a3": 1,
         "a4": 3,
         "a5": 1,
         "a6": 2,
         "_deepnote_index_column": 121
        },
        {
         "class": 1,
         "a1": 3,
         "a2": 1,
         "a3": 1,
         "a4": 3,
         "a5": 2,
         "a6": 2,
         "_deepnote_index_column": 122
        },
        {
         "class": 1,
         "a1": 3,
         "a2": 1,
         "a3": 1,
         "a4": 3,
         "a5": 3,
         "a6": 2,
         "_deepnote_index_column": 123
        },
        {
         "class": 0,
         "a1": 3,
         "a2": 1,
         "a3": 2,
         "a4": 1,
         "a5": 1,
         "a6": 1,
         "_deepnote_index_column": 124
        },
        {
         "class": 1,
         "a1": 3,
         "a2": 1,
         "a3": 2,
         "a4": 1,
         "a5": 2,
         "a6": 2,
         "_deepnote_index_column": 125
        },
        {
         "class": 0,
         "a1": 3,
         "a2": 1,
         "a3": 2,
         "a4": 1,
         "a5": 3,
         "a6": 1,
         "_deepnote_index_column": 126
        },
        {
         "class": 1,
         "a1": 3,
         "a2": 1,
         "a3": 2,
         "a4": 1,
         "a5": 3,
         "a6": 2,
         "_deepnote_index_column": 127
        },
        {
         "class": 0,
         "a1": 3,
         "a2": 1,
         "a3": 2,
         "a4": 1,
         "a5": 4,
         "a6": 1,
         "_deepnote_index_column": 128
        },
        {
         "class": 1,
         "a1": 3,
         "a2": 1,
         "a3": 2,
         "a4": 1,
         "a5": 4,
         "a6": 2,
         "_deepnote_index_column": 129
        },
        {
         "class": 1,
         "a1": 3,
         "a2": 1,
         "a3": 2,
         "a4": 2,
         "a5": 2,
         "a6": 1,
         "_deepnote_index_column": 130
        },
        {
         "class": 1,
         "a1": 3,
         "a2": 1,
         "a3": 2,
         "a4": 3,
         "a5": 1,
         "a6": 2,
         "_deepnote_index_column": 131
        },
        {
         "class": 1,
         "a1": 3,
         "a2": 1,
         "a3": 2,
         "a4": 3,
         "a5": 2,
         "a6": 1,
         "_deepnote_index_column": 132
        },
        {
         "class": 0,
         "a1": 3,
         "a2": 1,
         "a3": 2,
         "a4": 3,
         "a5": 2,
         "a6": 2,
         "_deepnote_index_column": 133
        },
        {
         "class": 0,
         "a1": 3,
         "a2": 1,
         "a3": 2,
         "a4": 3,
         "a5": 4,
         "a6": 2,
         "_deepnote_index_column": 134
        },
        {
         "class": 0,
         "a1": 3,
         "a2": 2,
         "a3": 1,
         "a4": 1,
         "a5": 1,
         "a6": 2,
         "_deepnote_index_column": 135
        },
        {
         "class": 1,
         "a1": 3,
         "a2": 2,
         "a3": 1,
         "a4": 1,
         "a5": 2,
         "a6": 2,
         "_deepnote_index_column": 136
        },
        {
         "class": 0,
         "a1": 3,
         "a2": 2,
         "a3": 1,
         "a4": 1,
         "a5": 3,
         "a6": 1,
         "_deepnote_index_column": 137
        },
        {
         "class": 1,
         "a1": 3,
         "a2": 2,
         "a3": 1,
         "a4": 1,
         "a5": 3,
         "a6": 2,
         "_deepnote_index_column": 138
        },
        {
         "class": 1,
         "a1": 3,
         "a2": 2,
         "a3": 1,
         "a4": 2,
         "a5": 1,
         "a6": 2,
         "_deepnote_index_column": 139
        },
        {
         "class": 1,
         "a1": 3,
         "a2": 2,
         "a3": 1,
         "a4": 2,
         "a5": 2,
         "a6": 1,
         "_deepnote_index_column": 140
        },
        {
         "class": 0,
         "a1": 3,
         "a2": 2,
         "a3": 1,
         "a4": 3,
         "a5": 1,
         "a6": 1,
         "_deepnote_index_column": 141
        },
        {
         "class": 1,
         "a1": 3,
         "a2": 2,
         "a3": 1,
         "a4": 3,
         "a5": 2,
         "a6": 1,
         "_deepnote_index_column": 142
        },
        {
         "class": 1,
         "a1": 3,
         "a2": 2,
         "a3": 1,
         "a4": 3,
         "a5": 3,
         "a6": 1,
         "_deepnote_index_column": 143
        },
        {
         "class": 0,
         "a1": 3,
         "a2": 2,
         "a3": 1,
         "a4": 3,
         "a5": 3,
         "a6": 2,
         "_deepnote_index_column": 144
        },
        {
         "class": 0,
         "a1": 3,
         "a2": 2,
         "a3": 2,
         "a4": 1,
         "a5": 1,
         "a6": 1,
         "_deepnote_index_column": 145
        },
        {
         "class": 0,
         "a1": 3,
         "a2": 2,
         "a3": 2,
         "a4": 1,
         "a5": 2,
         "a6": 2,
         "_deepnote_index_column": 146
        },
        {
         "class": 1,
         "a1": 3,
         "a2": 2,
         "a3": 2,
         "a4": 1,
         "a5": 3,
         "a6": 1,
         "_deepnote_index_column": 147
        },
        {
         "class": 0,
         "a1": 3,
         "a2": 2,
         "a3": 2,
         "a4": 1,
         "a5": 3,
         "a6": 2,
         "_deepnote_index_column": 148
        },
        {
         "class": 1,
         "a1": 3,
         "a2": 2,
         "a3": 2,
         "a4": 2,
         "a5": 1,
         "a6": 1,
         "_deepnote_index_column": 149
        },
        {
         "class": 0,
         "a1": 3,
         "a2": 2,
         "a3": 2,
         "a4": 2,
         "a5": 2,
         "a6": 1,
         "_deepnote_index_column": 150
        },
        {
         "class": 0,
         "a1": 3,
         "a2": 2,
         "a3": 2,
         "a4": 2,
         "a5": 2,
         "a6": 2,
         "_deepnote_index_column": 151
        },
        {
         "class": 0,
         "a1": 3,
         "a2": 2,
         "a3": 2,
         "a4": 2,
         "a5": 3,
         "a6": 2,
         "_deepnote_index_column": 152
        },
        {
         "class": 1,
         "a1": 3,
         "a2": 2,
         "a3": 2,
         "a4": 3,
         "a5": 1,
         "a6": 1,
         "_deepnote_index_column": 153
        },
        {
         "class": 0,
         "a1": 3,
         "a2": 2,
         "a3": 2,
         "a4": 3,
         "a5": 3,
         "a6": 2,
         "_deepnote_index_column": 154
        },
        {
         "class": 0,
         "a1": 3,
         "a2": 2,
         "a3": 2,
         "a4": 3,
         "a5": 4,
         "a6": 2,
         "_deepnote_index_column": 155
        },
        {
         "class": 0,
         "a1": 3,
         "a2": 3,
         "a3": 1,
         "a4": 1,
         "a5": 1,
         "a6": 1,
         "_deepnote_index_column": 156
        },
        {
         "class": 0,
         "a1": 3,
         "a2": 3,
         "a3": 1,
         "a4": 1,
         "a5": 2,
         "a6": 1,
         "_deepnote_index_column": 157
        },
        {
         "class": 0,
         "a1": 3,
         "a2": 3,
         "a3": 1,
         "a4": 1,
         "a5": 3,
         "a6": 1,
         "_deepnote_index_column": 158
        },
        {
         "class": 1,
         "a1": 3,
         "a2": 3,
         "a3": 1,
         "a4": 1,
         "a5": 3,
         "a6": 2,
         "_deepnote_index_column": 159
        },
        {
         "class": 0,
         "a1": 3,
         "a2": 3,
         "a3": 1,
         "a4": 2,
         "a5": 3,
         "a6": 2,
         "_deepnote_index_column": 160
        },
        {
         "class": 0,
         "a1": 3,
         "a2": 3,
         "a3": 2,
         "a4": 1,
         "a5": 1,
         "a6": 1,
         "_deepnote_index_column": 161
        },
        {
         "class": 1,
         "a1": 3,
         "a2": 3,
         "a3": 2,
         "a4": 2,
         "a5": 1,
         "a6": 1,
         "_deepnote_index_column": 162
        },
        {
         "class": 0,
         "a1": 3,
         "a2": 3,
         "a3": 2,
         "a4": 2,
         "a5": 2,
         "a6": 1,
         "_deepnote_index_column": 163
        },
        {
         "class": 0,
         "a1": 3,
         "a2": 3,
         "a3": 2,
         "a4": 2,
         "a5": 3,
         "a6": 1,
         "_deepnote_index_column": 164
        },
        {
         "class": 0,
         "a1": 3,
         "a2": 3,
         "a3": 2,
         "a4": 2,
         "a5": 3,
         "a6": 2,
         "_deepnote_index_column": 165
        },
        {
         "class": 1,
         "a1": 3,
         "a2": 3,
         "a3": 2,
         "a4": 3,
         "a5": 1,
         "a6": 1,
         "_deepnote_index_column": 166
        },
        {
         "class": 0,
         "a1": 3,
         "a2": 3,
         "a3": 2,
         "a4": 3,
         "a5": 2,
         "a6": 1,
         "_deepnote_index_column": 167
        },
        {
         "class": 0,
         "a1": 3,
         "a2": 3,
         "a3": 2,
         "a4": 3,
         "a5": 4,
         "a6": 2,
         "_deepnote_index_column": 168
        }
       ]
      },
      "text/plain": "     class  a1  a2  a3  a4  a5  a6\n0        0   1   1   1   1   2   2\n1        0   1   1   1   1   4   1\n2        0   1   1   1   2   1   1\n3        0   1   1   1   2   1   2\n4        0   1   1   1   2   2   1\n..     ...  ..  ..  ..  ..  ..  ..\n164      0   3   3   2   2   3   1\n165      0   3   3   2   2   3   2\n166      1   3   3   2   3   1   1\n167      0   3   3   2   3   2   1\n168      0   3   3   2   3   4   2\n\n[169 rows x 7 columns]",
      "text/html": "<div>\n<style scoped>\n    .dataframe tbody tr th:only-of-type {\n        vertical-align: middle;\n    }\n\n    .dataframe tbody tr th {\n        vertical-align: top;\n    }\n\n    .dataframe thead th {\n        text-align: right;\n    }\n</style>\n<table border=\"1\" class=\"dataframe\">\n  <thead>\n    <tr style=\"text-align: right;\">\n      <th></th>\n      <th>class</th>\n      <th>a1</th>\n      <th>a2</th>\n      <th>a3</th>\n      <th>a4</th>\n      <th>a5</th>\n      <th>a6</th>\n    </tr>\n  </thead>\n  <tbody>\n    <tr>\n      <th>0</th>\n      <td>0</td>\n      <td>1</td>\n      <td>1</td>\n      <td>1</td>\n      <td>1</td>\n      <td>2</td>\n      <td>2</td>\n    </tr>\n    <tr>\n      <th>1</th>\n      <td>0</td>\n      <td>1</td>\n      <td>1</td>\n      <td>1</td>\n      <td>1</td>\n      <td>4</td>\n      <td>1</td>\n    </tr>\n    <tr>\n      <th>2</th>\n      <td>0</td>\n      <td>1</td>\n      <td>1</td>\n      <td>1</td>\n      <td>2</td>\n      <td>1</td>\n      <td>1</td>\n    </tr>\n    <tr>\n      <th>3</th>\n      <td>0</td>\n      <td>1</td>\n      <td>1</td>\n      <td>1</td>\n      <td>2</td>\n      <td>1</td>\n      <td>2</td>\n    </tr>\n    <tr>\n      <th>4</th>\n      <td>0</td>\n      <td>1</td>\n      <td>1</td>\n      <td>1</td>\n      <td>2</td>\n      <td>2</td>\n      <td>1</td>\n    </tr>\n    <tr>\n      <th>...</th>\n      <td>...</td>\n      <td>...</td>\n      <td>...</td>\n      <td>...</td>\n      <td>...</td>\n      <td>...</td>\n      <td>...</td>\n    </tr>\n    <tr>\n      <th>164</th>\n      <td>0</td>\n      <td>3</td>\n      <td>3</td>\n      <td>2</td>\n      <td>2</td>\n      <td>3</td>\n      <td>1</td>\n    </tr>\n    <tr>\n      <th>165</th>\n      <td>0</td>\n      <td>3</td>\n      <td>3</td>\n      <td>2</td>\n      <td>2</td>\n      <td>3</td>\n      <td>2</td>\n    </tr>\n    <tr>\n      <th>166</th>\n      <td>1</td>\n      <td>3</td>\n      <td>3</td>\n      <td>2</td>\n      <td>3</td>\n      <td>1</td>\n      <td>1</td>\n    </tr>\n    <tr>\n      <th>167</th>\n      <td>0</td>\n      <td>3</td>\n      <td>3</td>\n      <td>2</td>\n      <td>3</td>\n      <td>2</td>\n      <td>1</td>\n    </tr>\n    <tr>\n      <th>168</th>\n      <td>0</td>\n      <td>3</td>\n      <td>3</td>\n      <td>2</td>\n      <td>3</td>\n      <td>4</td>\n      <td>2</td>\n    </tr>\n  </tbody>\n</table>\n<p>169 rows × 7 columns</p>\n</div>"
     },
     "metadata": {}
    }
   ]
  },
  {
   "cell_type": "code",
   "metadata": {
    "tags": [],
    "cell_id": "00037-e06fef60-36f5-4b4f-9c6c-69104e332421",
    "deepnote_to_be_reexecuted": true,
    "source_hash": "14fbab8f",
    "execution_start": 1639262835832,
    "execution_millis": 101,
    "deepnote_output_heights": [
     21.199996948242188,
     451
    ],
    "deepnote_cell_type": "code"
   },
   "source": "fig_size = plt.rcParams[\"figure.figsize\"]\nfig_size[0] = 10\nfig_size[1] = 8\nplt.rcParams[\"figure.figsize\"] = fig_size\n\ndf_monk2_train['class'].value_counts().plot(kind='pie', autopct='%1.0f%%', colors=['blue', 'yellow'], explode=(0.05, 0.05))",
   "execution_count": null,
   "outputs": [
    {
     "output_type": "execute_result",
     "execution_count": 42,
     "data": {
      "text/plain": "<AxesSubplot:ylabel='class'>"
     },
     "metadata": {}
    },
    {
     "data": {
      "text/plain": "<Figure size 720x576 with 1 Axes>",
      "image/png": "[encoded data removed]"
     },
     "metadata": {
      "image/png": {
       "width": 463,
       "height": 449
      }
     },
     "output_type": "display_data"
    }
   ]
  },
  {
   "cell_type": "code",
   "metadata": {
    "tags": [],
    "cell_id": "00038-b6c65065-78df-467f-9169-1c9224a1fecd",
    "deepnote_to_be_reexecuted": true,
    "source_hash": "dcfcea8c",
    "execution_start": 1639262835987,
    "execution_millis": 54,
    "deepnote_output_heights": [
     21.199996948242188,
     451
    ],
    "deepnote_cell_type": "code"
   },
   "source": "df_monk2_test['class'].value_counts().plot(kind='pie', autopct='%1.0f%%', colors=['blue', 'yellow'], explode=(0.05, 0.05))",
   "execution_count": null,
   "outputs": [
    {
     "output_type": "execute_result",
     "execution_count": 43,
     "data": {
      "text/plain": "<AxesSubplot:ylabel='class'>"
     },
     "metadata": {}
    },
    {
     "data": {
      "text/plain": "<Figure size 720x576 with 1 Axes>",
      "image/png": "[encoded data removed]"
     },
     "metadata": {
      "image/png": {
       "width": 463,
       "height": 449
      }
     },
     "output_type": "display_data"
    }
   ]
  },
  {
   "cell_type": "code",
   "metadata": {
    "tags": [],
    "cell_id": "00039-a9297afc-ce5c-46b3-9344-42efee64e538",
    "deepnote_to_be_reexecuted": true,
    "source_hash": "d8c4c8cf",
    "execution_start": 1639262836075,
    "execution_millis": 1,
    "deepnote_cell_type": "code"
   },
   "source": "target_train = df_monk2_train.pop('class')\ntarget_test = df_monk2_test.pop('class')\nX_train = df_monk2_train\ny_train = target_train\nX_test = df_monk2_test\ny_test = target_test",
   "execution_count": null,
   "outputs": []
  },
  {
   "cell_type": "code",
   "metadata": {
    "tags": [],
    "cell_id": "00040-8ba9586a-e12a-496b-be4c-b20b0d5c7ebf",
    "deepnote_to_be_reexecuted": true,
    "source_hash": "500c90ae",
    "execution_start": 1639262836076,
    "execution_millis": 0,
    "deepnote_cell_type": "code"
   },
   "source": "y_train = y_train.values #returns a ndarray \nX_train = X_train.values #returns a ndarray\ny_test = y_test.values\nX_test = X_test.values",
   "execution_count": null,
   "outputs": []
  },
  {
   "cell_type": "code",
   "metadata": {
    "tags": [],
    "cell_id": "00041-a6b42bfc-e3c8-4b2e-9cc2-5d5fdd053b10",
    "deepnote_to_be_reexecuted": true,
    "source_hash": "d768e4e5",
    "execution_start": 1639262836077,
    "execution_millis": 2,
    "deepnote_output_heights": [
     98
    ],
    "deepnote_cell_type": "code"
   },
   "source": "train_data = torch.tensor(X_train, dtype=torch.float)\ntrain_data[:5]",
   "execution_count": null,
   "outputs": [
    {
     "output_type": "execute_result",
     "execution_count": 46,
     "data": {
      "text/plain": "tensor([[1., 1., 1., 1., 2., 2.],\n        [1., 1., 1., 1., 4., 1.],\n        [1., 1., 1., 2., 1., 1.],\n        [1., 1., 1., 2., 1., 2.],\n        [1., 1., 1., 2., 2., 1.]])"
     },
     "metadata": {}
    }
   ]
  },
  {
   "cell_type": "code",
   "metadata": {
    "tags": [],
    "cell_id": "00042-aad59af1-4966-4ffa-b88b-e099bc75f767",
    "deepnote_to_be_reexecuted": true,
    "source_hash": "a9c77189",
    "execution_start": 1639262836078,
    "execution_millis": 7,
    "deepnote_output_heights": [
     98
    ],
    "deepnote_cell_type": "code"
   },
   "source": "test_data = torch.tensor(X_test, dtype=torch.float)\ntest_data[:5]",
   "execution_count": null,
   "outputs": [
    {
     "output_type": "execute_result",
     "execution_count": 47,
     "data": {
      "text/plain": "tensor([[1., 1., 1., 1., 1., 1.],\n        [1., 1., 1., 1., 1., 2.],\n        [1., 1., 1., 1., 2., 1.],\n        [1., 1., 1., 1., 2., 2.],\n        [1., 1., 1., 1., 3., 1.]])"
     },
     "metadata": {}
    }
   ]
  },
  {
   "cell_type": "code",
   "metadata": {
    "tags": [],
    "cell_id": "00043-c5fdd977-0551-4381-9036-98d58a3f5005",
    "deepnote_to_be_reexecuted": true,
    "source_hash": "8eb8cfac",
    "execution_start": 1639262836087,
    "deepnote_output_heights": [
     21.199996948242188
    ],
    "execution_millis": 6,
    "deepnote_cell_type": "code"
   },
   "source": "train_outputs = torch.tensor(y_train, dtype=torch.float).flatten()\ntrain_outputs[:10]",
   "execution_count": null,
   "outputs": [
    {
     "output_type": "execute_result",
     "execution_count": 48,
     "data": {
      "text/plain": "tensor([0., 0., 0., 0., 0., 0., 0., 0., 0., 0.])"
     },
     "metadata": {}
    }
   ]
  },
  {
   "cell_type": "code",
   "metadata": {
    "tags": [],
    "cell_id": "00044-19bc9bf8-1742-423b-8f71-6d6225e0300a",
    "deepnote_to_be_reexecuted": true,
    "source_hash": "ece32868",
    "execution_start": 1639262836139,
    "deepnote_output_heights": [
     21.199996948242188
    ],
    "execution_millis": 2,
    "deepnote_cell_type": "code"
   },
   "source": "test_outputs = torch.tensor(y_test, dtype=torch.float).flatten()\ntest_outputs[:10]",
   "execution_count": null,
   "outputs": [
    {
     "output_type": "execute_result",
     "execution_count": 49,
     "data": {
      "text/plain": "tensor([0., 0., 0., 0., 0., 0., 0., 0., 0., 0.])"
     },
     "metadata": {}
    }
   ]
  },
  {
   "cell_type": "code",
   "metadata": {
    "tags": [],
    "cell_id": "00045-ef30cda7-4e7a-44e4-9c7b-037df9c84963",
    "deepnote_to_be_reexecuted": true,
    "source_hash": "f7a05e03",
    "execution_start": 1639262836140,
    "execution_millis": 179,
    "deepnote_cell_type": "code"
   },
   "source": "model = NeuralNetwork(train_data.shape[1])\nprint(model)",
   "execution_count": null,
   "outputs": [
    {
     "output_type": "error",
     "ename": "NameError",
     "evalue": "name 'NeuralNetwork' is not defined",
     "traceback": [
      "\u001b[0;31m---------------------------------------------------------------------------\u001b[0m",
      "\u001b[0;31mNameError\u001b[0m                                 Traceback (most recent call last)",
      "\u001b[0;32m<ipython-input-50-00003f463179>\u001b[0m in \u001b[0;36m<module>\u001b[0;34m\u001b[0m\n\u001b[0;32m----> 1\u001b[0;31m \u001b[0mmodel\u001b[0m \u001b[0;34m=\u001b[0m \u001b[0mNeuralNetwork\u001b[0m\u001b[0;34m(\u001b[0m\u001b[0mtrain_data\u001b[0m\u001b[0;34m.\u001b[0m\u001b[0mshape\u001b[0m\u001b[0;34m[\u001b[0m\u001b[0;36m1\u001b[0m\u001b[0;34m]\u001b[0m\u001b[0;34m)\u001b[0m\u001b[0;34m\u001b[0m\u001b[0;34m\u001b[0m\u001b[0m\n\u001b[0m\u001b[1;32m      2\u001b[0m \u001b[0mprint\u001b[0m\u001b[0;34m(\u001b[0m\u001b[0mmodel\u001b[0m\u001b[0;34m)\u001b[0m\u001b[0;34m\u001b[0m\u001b[0;34m\u001b[0m\u001b[0m\n",
      "\u001b[0;31mNameError\u001b[0m: name 'NeuralNetwork' is not defined"
     ]
    }
   ]
  },
  {
   "cell_type": "code",
   "metadata": {
    "tags": [],
    "cell_id": "00046-1978e7ed-78dc-4b38-bafc-af2aac1c16cd",
    "deepnote_to_be_reexecuted": true,
    "source_hash": "dde4f135",
    "execution_start": 1639166024166,
    "execution_millis": 10,
    "deepnote_cell_type": "code"
   },
   "source": "loss_function = nn.BCELoss()\noptimizer = torch.optim.Adam(model.parameters(), lr=0.001)",
   "execution_count": null,
   "outputs": []
  },
  {
   "cell_type": "code",
   "metadata": {
    "tags": [],
    "cell_id": "00047-6d762c23-4915-4455-870f-eadb19e9214a",
    "deepnote_to_be_reexecuted": true,
    "source_hash": "e8157ae7",
    "execution_start": 1639166024179,
    "execution_millis": 670,
    "deepnote_cell_type": "code"
   },
   "source": "epochs = 350\nmodel, losses, accuracies = TrainPhase(epochs, model, train_data, target_train, loss_function, optimizer)",
   "execution_count": null,
   "outputs": [
    {
     "name": "stdout",
     "text": "epoch:   1 loss: 0.67045152 accuracy: 0.62130178\nepoch:  26 loss: 0.65504378 accuracy: 0.62130178\nepoch:  51 loss: 0.64348972 accuracy: 0.61538462\nepoch:  76 loss: 0.62864619 accuracy: 0.65680473\nepoch: 101 loss: 0.60579801 accuracy: 0.65680473\nepoch: 126 loss: 0.57451189 accuracy: 0.71597633\nepoch: 151 loss: 0.53560650 accuracy: 0.76923077\nepoch: 176 loss: 0.48799345 accuracy: 0.81065089\nepoch: 201 loss: 0.43314528 accuracy: 0.85207101\nepoch: 226 loss: 0.37758410 accuracy: 0.86982249\nepoch: 251 loss: 0.32909244 accuracy: 0.90532544\nepoch: 276 loss: 0.28351125 accuracy: 0.92307692\nepoch: 301 loss: 0.24147016 accuracy: 0.92899408\nepoch: 326 loss: 0.20468555 accuracy: 0.95857988\nepoch: 350 loss: 0.1737452894 accuracy: 0.98224852\n",
     "output_type": "stream"
    }
   ]
  },
  {
   "cell_type": "code",
   "metadata": {
    "tags": [],
    "cell_id": "00048-7a52d878-fb63-4129-92d0-6945671d0b61",
    "deepnote_to_be_reexecuted": true,
    "source_hash": "f5ed399e",
    "execution_start": 1639166024907,
    "execution_millis": 247,
    "deepnote_output_heights": [
     394.16668701171875
    ],
    "deepnote_cell_type": "code"
   },
   "source": "plt.plot(range(epochs), losses)\nplt.ylabel('Loss')\nplt.xlabel('epoch');",
   "execution_count": null,
   "outputs": [
    {
     "data": {
      "text/plain": "<Figure size 720x576 with 1 Axes>",
      "image/png": "[encoded data removed]"
     },
     "metadata": {
      "needs_background": "light",
      "image/png": {
       "width": 609,
       "height": 480
      }
     },
     "output_type": "display_data"
    }
   ]
  },
  {
   "cell_type": "code",
   "metadata": {
    "tags": [],
    "cell_id": "00049-76e74718-6e71-4cd9-aa2e-2f1a121afd92",
    "deepnote_to_be_reexecuted": true,
    "source_hash": "78c78cdc",
    "execution_start": 1639166025173,
    "execution_millis": 288,
    "deepnote_output_heights": [
     392.76666259765625
    ],
    "deepnote_cell_type": "code"
   },
   "source": "plt.plot(range(epochs), accuracies)\nplt.ylabel('Accuracy')\nplt.xlabel('epoch');",
   "execution_count": null,
   "outputs": [
    {
     "data": {
      "text/plain": "<Figure size 720x576 with 1 Axes>",
      "image/png": "[encoded data removed]"
     },
     "metadata": {
      "needs_background": "light",
      "image/png": {
       "width": 615,
       "height": 483
      }
     },
     "output_type": "display_data"
    }
   ]
  },
  {
   "cell_type": "code",
   "metadata": {
    "tags": [],
    "cell_id": "00050-c5c83117-a877-4df6-9f96-49b4fc555da9",
    "deepnote_to_be_reexecuted": true,
    "source_hash": "e79a95a4",
    "execution_start": 1639166025462,
    "execution_millis": 4,
    "deepnote_cell_type": "code"
   },
   "source": "y_pred_test = Evaluate(model, test_data, loss_function)",
   "execution_count": null,
   "outputs": [
    {
     "name": "stdout",
     "text": "Loss: 0.56764388\n",
     "output_type": "stream"
    }
   ]
  },
  {
   "cell_type": "markdown",
   "source": "<a style='text-decoration:none;line-height:16px;display:flex;color:#5B5B62;padding:10px;justify-content:end;' href='https://deepnote.com?utm_source=created-in-deepnote-cell&projectId=d9d840c9-75b3-4185-bb01-105f5cca8d83' target=\"_blank\">\n<img alt='Created in deepnote.com' style='display:inline;max-height:16px;margin:0px;margin-right:7.5px;' src='data:image/svg+xml;base64,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' > </img>\nCreated in <span style='font-weight:600;margin-left:4px;'>Deepnote</span></a>",
   "metadata": {
    "tags": [],
    "created_in_deepnote_cell": true,
    "deepnote_cell_type": "markdown"
   }
  }
 ],
 "nbformat": 4,
 "nbformat_minor": 2,
 "metadata": {
  "orig_nbformat": 2,
  "deepnote": {
   "is_reactive": false
  },
  "deepnote_notebook_id": "29e5ab88-e848-42f4-9b93-01e2cb324e6f",
  "deepnote_execution_queue": []
 }
}