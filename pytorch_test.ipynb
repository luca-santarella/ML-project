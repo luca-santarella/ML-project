{
 "cells": [
  {
   "cell_type": "code",
   "metadata": {
    "tags": [],
    "cell_id": "00000-e65664ad-3954-48f2-8568-11aace5ac93e",
    "deepnote_to_be_reexecuted": false,
    "source_hash": "28572473",
    "execution_start": 1641834166048,
    "execution_millis": 1,
    "deepnote_cell_type": "code"
   },
   "source": "#!pip install optuna",
   "execution_count": null,
   "outputs": []
  },
  {
   "cell_type": "code",
   "metadata": {
    "tags": [],
    "cell_id": "00000-feb3ee80-e873-4ef4-a1b5-a0d721e44191",
    "deepnote_to_be_reexecuted": false,
    "source_hash": "ca48dd7a",
    "execution_start": 1641834166055,
    "execution_millis": 5545,
    "deepnote_output_heights": [
     21.1875
    ],
    "deepnote_cell_type": "code"
   },
   "source": "import itertools\nimport torch\nimport torch.nn as nn\nimport numpy as np\nimport math\nimport matplotlib.pyplot as plt\nimport pandas as pd\nfrom sklearn.preprocessing import OneHotEncoder\nfrom torch.utils.data import Dataset, DataLoader, TensorDataset\nfrom sklearn.metrics import confusion_matrix, classification_report\nfrom sklearn.preprocessing import StandardScaler\nfrom sklearn.model_selection import train_test_split\nfrom sklearn.model_selection import RandomizedSearchCV\n\nfrom skorch import NeuralNetBinaryClassifier\n\nimport seaborn as sns\nimport warnings\n#import optuna\n#from optuna.trial import TrialState\nwarnings.filterwarnings(\"ignore\")\n%matplotlib inline\n\ndtype = torch.float\ndevice = torch.device(\"cpu\")",
   "execution_count": null,
   "outputs": []
  },
  {
   "cell_type": "markdown",
   "source": "## Defining resources\nWe define some relevant functions and costant variables to use in this notebook.",
   "metadata": {
    "tags": [],
    "cell_id": "00001-1b8716b6-6d34-4e7d-98ba-d564d8d00602",
    "deepnote_cell_type": "markdown"
   }
  },
  {
   "cell_type": "code",
   "metadata": {
    "tags": [],
    "cell_id": "00001-11c4d000-aa9e-4ed6-81e8-ae6f5e457f24",
    "deepnote_to_be_reexecuted": false,
    "source_hash": "af8f83f2",
    "execution_start": 1641834171601,
    "execution_millis": 0,
    "deepnote_cell_type": "code"
   },
   "source": "BATCH_SIZE = 64\nLEARNING_RATE = 0.001\nMOMENTUM = 0.0\nDAMPENING = 0\nNESTEROV = False\nL2 = 0.0\nEPOCHS = 60\n\nN_TRAIN_EXAMPLES = BATCH_SIZE * 30\nN_VALID_EXAMPLES = BATCH_SIZE * 10",
   "execution_count": null,
   "outputs": []
  },
  {
   "cell_type": "code",
   "metadata": {
    "tags": [],
    "cell_id": "00004-8c25520e-de6a-4685-ab0a-e93716fe7c65",
    "deepnote_to_be_reexecuted": false,
    "source_hash": "38655d7",
    "execution_start": 1641834171611,
    "execution_millis": 150,
    "deepnote_cell_type": "code"
   },
   "source": "#function to compute the accuracy\ndef binary_acc(y_pred, y_test):\n    y_pred_tag = torch.round(y_pred)\n\n    correct_results_sum = (y_pred_tag == y_test).sum().float()\n    acc = correct_results_sum/y_test.shape[0]\n    acc = torch.round(acc * 100)\n    \n    return acc",
   "execution_count": null,
   "outputs": []
  },
  {
   "cell_type": "code",
   "metadata": {
    "tags": [],
    "cell_id": "00005-eb7d67bc-a9d8-4644-954d-42cd07456368",
    "deepnote_to_be_reexecuted": false,
    "source_hash": "a5b7cb83",
    "execution_start": 1641834171761,
    "execution_millis": 1,
    "deepnote_cell_type": "code"
   },
   "source": "#define mee loss function \ndef mee(true_target, predicted_target):  # assuming target is 2-dim matrix with x and y as columns\n    l = true_target.shape[0]\n    res = 0\n\n    for p in range(l):  # for p-th pattern in l (number of samples)\n        x_diff = np.square(true_target[p, 0] - predicted_target[p, 0])  # difference between the x value of the true and predicted target\n        y_diff = np.square(\n            true_target[p, 1] - predicted_target[p, 1])  # difference between the y values of true and predicted target\n        sum_term = x_diff + y_diff\n        res = res + np.sqrt(sum_term)\n    res = res / l\n\n    return res",
   "execution_count": null,
   "outputs": []
  },
  {
   "cell_type": "code",
   "metadata": {
    "tags": [],
    "cell_id": "00005-03c56bb6-42fa-4cf9-a8a7-00fe1bcaa81c",
    "deepnote_to_be_reexecuted": false,
    "source_hash": "7662f771",
    "execution_start": 1641834171762,
    "execution_millis": 0,
    "deepnote_cell_type": "code"
   },
   "source": "def modelSelection(trial):\n    # We optimize the number of layers, hidden units and dropout ratio in each layer.\n    n_layers = trial.suggest_int(\"n_layers\", 1, 3)\n    layers = []\n\n    in_features = 6\n    for i in range(n_layers):\n        out_features = trial.suggest_int(\"n_units_l{}\".format(i), 2, 5)\n        layers.append(nn.Linear(in_features, out_features))\n        layers.append(nn.ReLU(inplace=True))\n        layers.append(nn.BatchNorm1d(out_features))\n        p = trial.suggest_float(\"dropout_l{}\".format(i), 0.5, 0.8)\n        layers.append(nn.Dropout(p))\n        \n        in_features = out_features\n    layers.append(nn.Linear(in_features, 1))\n    #layers.append(nn.LogSoftmax(dim=1))\n    layers.append(nn.Sigmoid())\n\n    return nn.Sequential(*layers)",
   "execution_count": null,
   "outputs": []
  },
  {
   "cell_type": "code",
   "metadata": {
    "tags": [],
    "cell_id": "00002-2a5bec1d-9fea-490a-8952-e78202ec55c8",
    "deepnote_to_be_reexecuted": false,
    "source_hash": "d59d84ab",
    "execution_start": 1641835807344,
    "execution_millis": 0,
    "deepnote_cell_type": "code"
   },
   "source": "#define a neural network\nclass BinaryClassification(nn.Module):\n    def __init__(self, n_input = 6, hidden_unit1 = 100):\n        super(BinaryClassification, self).__init__()\n        self.layer_in = nn.Linear(n_input, hidden_unit1)\n        #self.layer_1 = nn.Linear(hidden_unit1, hidden_unit2) \n        self.layer_out = nn.Linear(hidden_unit1, 1) \n        self.sigmoid =  nn.Sigmoid()\n        #self.batchnorm1 = nn.BatchNorm1d(hidden_unit1)\n        #self.batchnorm2 = nn.BatchNorm1d(hidden_unit2)\n\n    def forward(self, inputs, **kwargs):\n        x = self.layer_in(inputs)\n        #x = self.batchnorm1(x)\n        x = self.sigmoid(x)\n   \n       # x = self.layer_1(x)\n        #x = self.batchnorm2(x)\n        #x = self.relu(x)\n\n        #x = self.layer_2(x)\n        #x = self.batchnorm1(x)\n        #x = self.relu(x)\n        #x = self.dropout_2(x)\n\n        #x = self.layer_3(x)\n        #x = self.batchnorm1(x)\n        #x = self.relu(x)\n        #x = self.dropout_3(x)\n\n        #x = self.sigmoid(self.layer_out(x))\n        x = self.layer_out(x)\n        \n        return x",
   "execution_count": null,
   "outputs": []
  },
  {
   "cell_type": "code",
   "metadata": {
    "tags": [],
    "cell_id": "00005-9b891154-fe95-4001-a15b-b9e381953cba",
    "deepnote_to_be_reexecuted": false,
    "source_hash": "aa2e06c7",
    "execution_start": 1641834171763,
    "execution_millis": 0,
    "deepnote_cell_type": "code"
   },
   "source": "class TuningHP(object):\n    def __init__(self, tl, vl):\n        self.train_loader = tl\n        self.valid_loader = vl\n\n    def __call__(self, trial):\n        loss_f = nn.BCELoss(reduction='mean')\n        # Generate the model.\n        model = modelSelection(trial).to(device)\n\n        # Generate the optimizers.\n        optimizer_name = trial.suggest_categorical(\"optimizer\", [\"Adam\", \"SGD\"])\n        lr = trial.suggest_float(\"lr\", 1e-5, 1e-1, log=True)\n        optimizer = getattr(torch.optim, optimizer_name)(model.parameters(), lr=lr)\n\n        # Training of the model.\n        for epoch in range(EPOCHS):\n            model.train()\n            for batch_idx, (data, target) in enumerate(self.train_loader):\n                # Limiting training data for faster epochs.\n                #if batch_idx * BATCH_SIZE >= N_TRAIN_EXAMPLES:\n                 #   break\n\n                data, target = data.view(data.size(0), -1).to(device), target.to(device)\n\n                optimizer.zero_grad()\n                output = model(data)\n                loss = loss_f(output, target)\n                loss.backward()\n                optimizer.step()\n        \n            # Validation of the model.\n            model.eval()\n            correct = 0\n            with torch.no_grad():\n                for batch_idx, (data, target) in enumerate(self.valid_loader):\n                    # Limiting validation data.\n                    #if batch_idx * BATCH_SIZE >= N_VALID_EXAMPLES:\n                     #   break\n                    data, target = data.view(data.size(0), -1).to(device), target.to(device)\n                    output = model(data)\n                    # Get the index of the max log-probability.\n                    pred = output.argmax(dim=1, keepdim=True)\n                    correct += pred.eq(target.view_as(pred)).sum().item()\n\n            accuracy = correct / min(len(self.valid_loader), N_VALID_EXAMPLES)\n\n            trial.report(accuracy, epoch)\n\n            # Handle pruning based on the intermediate value.\n            if trial.should_prune():\n                raise optuna.exceptions.TrialPruned()\n\n        return accuracy#function to define the train phase\n\n#def tuningHP(trial, train_loader, valid_loader):  ",
   "execution_count": null,
   "outputs": []
  },
  {
   "cell_type": "code",
   "metadata": {
    "tags": [],
    "cell_id": "00001-6d2402a8-019e-4696-ad6b-1d223410aa3a",
    "deepnote_to_be_reexecuted": false,
    "source_hash": "be25a7ef",
    "execution_start": 1641834171764,
    "execution_millis": 0,
    "deepnote_output_heights": [
     78.796875
    ],
    "deepnote_cell_type": "code"
   },
   "source": "#function to define the train phase\ndef TrainPhase(epochs, model, aggregated_losses, aggregated_accuracy, data_train, loss, optimizer):\n    model.train()\n    i = epochs\n\n    epoch_loss = 0\n    epoch_acc = 0\n    \n    for X_batch, y_batch in data_train:\n        X_batch, y_batch = X_batch.to(device), y_batch.to(device)\n        optimizer.zero_grad()\n       \n        y_pred = model(X_batch)\n        \n        single_loss = loss(y_pred, y_batch)\n        acc = binary_acc(y_pred, y_batch)\n            \n        \n        single_loss.backward()\n        optimizer.step()\n        \n        epoch_loss += single_loss.item()\n        epoch_acc += acc.item()\n        \n    aggregated_losses.append(epoch_loss/len(data_train))\n    aggregated_accuracy.append((epoch_acc/len(data_train))/100)\n    print(f'TRAIN - Epoch {i+0:03}: | Loss: {epoch_loss/len(data_train):.5f} | Acc: {epoch_acc/len(data_train):.3f}')\n\n    #aggregated_losses.append(single_loss.item())\n    #aggregated_accuracy.append(acc/100)\n    #print(f'TRAIN - Epoch {i+0:03}: | Loss: {single_loss.item():.5f} | Acc: {acc:.3f}')\n    \n    return model, aggregated_losses, aggregated_accuracy",
   "execution_count": null,
   "outputs": []
  },
  {
   "cell_type": "code",
   "metadata": {
    "tags": [],
    "cell_id": "00002-a19b1be6-1674-4666-b468-423693c7e356",
    "deepnote_to_be_reexecuted": false,
    "source_hash": "9b761082",
    "execution_start": 1641834171765,
    "execution_millis": 0,
    "deepnote_output_heights": [
     78.796875
    ],
    "deepnote_cell_type": "code"
   },
   "source": "#function to define the evaluate phase\ndef Evaluate(epochs, model, aggregated_losses, aggregated_accuracy, data_test, loss_f):\n    \n    i = epochs\n    y_pred_list = []\n    model.eval()\n        \n    epoch_loss = 0\n    epoch_acc = 0\n\n    with torch.no_grad():\n        for X_batch, y_batch in data_test:\n            X_batch, y_batch = X_batch.to(device), y_batch.to(device)\n            y_test_pred = model(X_batch)\n            loss = loss_f(y_test_pred, y_batch)\n            acc = binary_acc(y_test_pred, y_batch)\n                \n            epoch_loss += loss.item()\n            epoch_acc += acc.item()\n\n            #y_test_pred = torch.sigmoid(y_test_pred)\n            y_pred_tag = torch.round(y_test_pred)\n            y_pred_list.append(y_pred_tag.detach().numpy())\n\n    y_pred_list = [a.squeeze().tolist() for a in y_pred_list]\n    #flattens the lists in sequence\n    ytest_pred = list(itertools.chain.from_iterable(y_pred_list))\n\n    aggregated_losses.append(epoch_loss/len(data_test))\n    aggregated_accuracy.append((epoch_acc/len(data_test))/100)\n    #print(f'TEST - Epoch {i+0:03}: | Loss: {epoch_loss/len(data_test):.5f} | Acc: {epoch_acc/len(data_test):.3f}')\n    print(f'VALIDATION - Epoch {i+0:03}: | Loss: {epoch_loss/len(data_test):.5f} | Acc: {epoch_acc/len(data_test):.3f}')\n\n    #aggregated_losses.append(loss.item())\n    #aggregated_accuracy.append(acc/100)\n    #print(f'VALIDATION - Epoch {i+0:03}: | Loss: {loss.item():.5f} | Acc: {acc:.3f}')\n    \n    return ytest_pred, aggregated_losses, aggregated_accuracy\n    ",
   "execution_count": null,
   "outputs": []
  },
  {
   "cell_type": "code",
   "metadata": {
    "tags": [],
    "cell_id": "00007-2a493ffb-e0ef-4fed-b4fd-58e4268d8343",
    "deepnote_to_be_reexecuted": false,
    "source_hash": "d4d1efe6",
    "execution_start": 1641834171765,
    "execution_millis": 1,
    "deepnote_cell_type": "code"
   },
   "source": "#function to define the evaluate phase\ndef Evaluate_Test(model, aggregated_losses, aggregated_accuracy, data_test, loss_f):\n\n    y_pred_list = []\n    model.eval()\n\n    with torch.no_grad():\n        for X_batch, y_batch in data_test:\n            X_batch, y_batch = X_batch.to(device), y_batch.to(device)\n            y_test_pred = model(X_batch)\n            loss = loss_f(y_test_pred, y_batch)\n            acc = binary_acc(y_test_pred, y_batch)\n      \n            y_pred_tag = torch.round(y_test_pred)\n            y_pred_list.append(y_pred_tag.detach().numpy())\n\n    y_pred_list = [a.squeeze().tolist() for a in y_pred_list]\n    #flattens the lists in sequence\n    #ytest_pred = list(itertools.chain.from_iterable(y_pred_list))\n\n    print(f'TEST - Loss: {loss.item():.5f} | Acc: {acc:.3f}')\n    \n    return y_pred_list, aggregated_losses, aggregated_accuracy",
   "execution_count": null,
   "outputs": []
  },
  {
   "cell_type": "markdown",
   "source": "## Loading MONK-1 dataset\nNow we load the first MONK dataset.",
   "metadata": {
    "tags": [],
    "cell_id": "00000-3c151ff9-9d1e-45e5-aaa2-5ad7d942f1af",
    "deepnote_cell_type": "markdown"
   }
  },
  {
   "cell_type": "code",
   "metadata": {
    "tags": [],
    "cell_id": "00001-fd0a2f32-f2f3-4a89-94dc-9175c5f69468",
    "deepnote_to_be_reexecuted": false,
    "source_hash": "1a5b69e",
    "execution_start": 1641834171796,
    "execution_millis": 0,
    "deepnote_cell_type": "code"
   },
   "source": "#read train dataset\ndf_monk1_train = pd.read_csv('./data/MONK/monks-1.train', sep=\" \", skipinitialspace=True, names=['class','a1','a2','a3','a4','a5','a6','id'])\ndf_monk1_train.drop(labels='id', axis=1, inplace=True)\n\n#read test dataset\ndf_monk1_test = pd.read_csv('./data/MONK/monks-1.test', sep=\" \", skipinitialspace=True,  names=['class','a1','a2','a3','a4','a5','a6','id'])\ndf_monk1_test.drop(labels='id', axis=1, inplace=True)",
   "execution_count": null,
   "outputs": []
  },
  {
   "cell_type": "code",
   "metadata": {
    "tags": [],
    "cell_id": "00000-2f3640fb-95bb-4c37-b4f3-7b54a312e8e5",
    "deepnote_to_be_reexecuted": false,
    "source_hash": "e3bac8c0",
    "execution_start": 1641834171811,
    "execution_millis": 119,
    "deepnote_table_state": {
     "pageSize": 10,
     "pageIndex": 0,
     "filters": [],
     "sortBy": []
    },
    "deepnote_table_loading": false,
    "deepnote_cell_type": "code"
   },
   "source": "df_monk1_test #first column is the target (can be either 0 or 1)",
   "execution_count": null,
   "outputs": [
    {
     "output_type": "execute_result",
     "execution_count": 13,
     "data": {
      "application/vnd.deepnote.dataframe.v3+json": {
       "column_count": 7,
       "row_count": 432,
       "columns": [
        {
         "name": "class",
         "dtype": "int64",
         "stats": {
          "unique_count": 2,
          "nan_count": 0,
          "min": "0",
          "max": "1",
          "histogram": [
           {
            "bin_start": 0,
            "bin_end": 0.1,
            "count": 216
           },
           {
            "bin_start": 0.1,
            "bin_end": 0.2,
            "count": 0
           },
           {
            "bin_start": 0.2,
            "bin_end": 0.30000000000000004,
            "count": 0
           },
           {
            "bin_start": 0.30000000000000004,
            "bin_end": 0.4,
            "count": 0
           },
           {
            "bin_start": 0.4,
            "bin_end": 0.5,
            "count": 0
           },
           {
            "bin_start": 0.5,
            "bin_end": 0.6000000000000001,
            "count": 0
           },
           {
            "bin_start": 0.6000000000000001,
            "bin_end": 0.7000000000000001,
            "count": 0
           },
           {
            "bin_start": 0.7000000000000001,
            "bin_end": 0.8,
            "count": 0
           },
           {
            "bin_start": 0.8,
            "bin_end": 0.9,
            "count": 0
           },
           {
            "bin_start": 0.9,
            "bin_end": 1,
            "count": 216
           }
          ]
         }
        },
        {
         "name": "a1",
         "dtype": "int64",
         "stats": {
          "unique_count": 3,
          "nan_count": 0,
          "min": "1",
          "max": "3",
          "histogram": [
           {
            "bin_start": 1,
            "bin_end": 1.2,
            "count": 144
           },
           {
            "bin_start": 1.2,
            "bin_end": 1.4,
            "count": 0
           },
           {
            "bin_start": 1.4,
            "bin_end": 1.6,
            "count": 0
           },
           {
            "bin_start": 1.6,
            "bin_end": 1.8,
            "count": 0
           },
           {
            "bin_start": 1.8,
            "bin_end": 2,
            "count": 0
           },
           {
            "bin_start": 2,
            "bin_end": 2.2,
            "count": 144
           },
           {
            "bin_start": 2.2,
            "bin_end": 2.4000000000000004,
            "count": 0
           },
           {
            "bin_start": 2.4000000000000004,
            "bin_end": 2.6,
            "count": 0
           },
           {
            "bin_start": 2.6,
            "bin_end": 2.8,
            "count": 0
           },
           {
            "bin_start": 2.8,
            "bin_end": 3,
            "count": 144
           }
          ]
         }
        },
        {
         "name": "a2",
         "dtype": "int64",
         "stats": {
          "unique_count": 3,
          "nan_count": 0,
          "min": "1",
          "max": "3",
          "histogram": [
           {
            "bin_start": 1,
            "bin_end": 1.2,
            "count": 144
           },
           {
            "bin_start": 1.2,
            "bin_end": 1.4,
            "count": 0
           },
           {
            "bin_start": 1.4,
            "bin_end": 1.6,
            "count": 0
           },
           {
            "bin_start": 1.6,
            "bin_end": 1.8,
            "count": 0
           },
           {
            "bin_start": 1.8,
            "bin_end": 2,
            "count": 0
           },
           {
            "bin_start": 2,
            "bin_end": 2.2,
            "count": 144
           },
           {
            "bin_start": 2.2,
            "bin_end": 2.4000000000000004,
            "count": 0
           },
           {
            "bin_start": 2.4000000000000004,
            "bin_end": 2.6,
            "count": 0
           },
           {
            "bin_start": 2.6,
            "bin_end": 2.8,
            "count": 0
           },
           {
            "bin_start": 2.8,
            "bin_end": 3,
            "count": 144
           }
          ]
         }
        },
        {
         "name": "a3",
         "dtype": "int64",
         "stats": {
          "unique_count": 2,
          "nan_count": 0,
          "min": "1",
          "max": "2",
          "histogram": [
           {
            "bin_start": 1,
            "bin_end": 1.1,
            "count": 216
           },
           {
            "bin_start": 1.1,
            "bin_end": 1.2,
            "count": 0
           },
           {
            "bin_start": 1.2,
            "bin_end": 1.3,
            "count": 0
           },
           {
            "bin_start": 1.3,
            "bin_end": 1.4,
            "count": 0
           },
           {
            "bin_start": 1.4,
            "bin_end": 1.5,
            "count": 0
           },
           {
            "bin_start": 1.5,
            "bin_end": 1.6,
            "count": 0
           },
           {
            "bin_start": 1.6,
            "bin_end": 1.7000000000000002,
            "count": 0
           },
           {
            "bin_start": 1.7000000000000002,
            "bin_end": 1.8,
            "count": 0
           },
           {
            "bin_start": 1.8,
            "bin_end": 1.9,
            "count": 0
           },
           {
            "bin_start": 1.9,
            "bin_end": 2,
            "count": 216
           }
          ]
         }
        },
        {
         "name": "a4",
         "dtype": "int64",
         "stats": {
          "unique_count": 3,
          "nan_count": 0,
          "min": "1",
          "max": "3",
          "histogram": [
           {
            "bin_start": 1,
            "bin_end": 1.2,
            "count": 144
           },
           {
            "bin_start": 1.2,
            "bin_end": 1.4,
            "count": 0
           },
           {
            "bin_start": 1.4,
            "bin_end": 1.6,
            "count": 0
           },
           {
            "bin_start": 1.6,
            "bin_end": 1.8,
            "count": 0
           },
           {
            "bin_start": 1.8,
            "bin_end": 2,
            "count": 0
           },
           {
            "bin_start": 2,
            "bin_end": 2.2,
            "count": 144
           },
           {
            "bin_start": 2.2,
            "bin_end": 2.4000000000000004,
            "count": 0
           },
           {
            "bin_start": 2.4000000000000004,
            "bin_end": 2.6,
            "count": 0
           },
           {
            "bin_start": 2.6,
            "bin_end": 2.8,
            "count": 0
           },
           {
            "bin_start": 2.8,
            "bin_end": 3,
            "count": 144
           }
          ]
         }
        },
        {
         "name": "a5",
         "dtype": "int64",
         "stats": {
          "unique_count": 4,
          "nan_count": 0,
          "min": "1",
          "max": "4",
          "histogram": [
           {
            "bin_start": 1,
            "bin_end": 1.3,
            "count": 108
           },
           {
            "bin_start": 1.3,
            "bin_end": 1.6,
            "count": 0
           },
           {
            "bin_start": 1.6,
            "bin_end": 1.9,
            "count": 0
           },
           {
            "bin_start": 1.9,
            "bin_end": 2.2,
            "count": 108
           },
           {
            "bin_start": 2.2,
            "bin_end": 2.5,
            "count": 0
           },
           {
            "bin_start": 2.5,
            "bin_end": 2.8,
            "count": 0
           },
           {
            "bin_start": 2.8,
            "bin_end": 3.1,
            "count": 108
           },
           {
            "bin_start": 3.1,
            "bin_end": 3.4,
            "count": 0
           },
           {
            "bin_start": 3.4,
            "bin_end": 3.6999999999999997,
            "count": 0
           },
           {
            "bin_start": 3.6999999999999997,
            "bin_end": 4,
            "count": 108
           }
          ]
         }
        },
        {
         "name": "a6",
         "dtype": "int64",
         "stats": {
          "unique_count": 2,
          "nan_count": 0,
          "min": "1",
          "max": "2",
          "histogram": [
           {
            "bin_start": 1,
            "bin_end": 1.1,
            "count": 216
           },
           {
            "bin_start": 1.1,
            "bin_end": 1.2,
            "count": 0
           },
           {
            "bin_start": 1.2,
            "bin_end": 1.3,
            "count": 0
           },
           {
            "bin_start": 1.3,
            "bin_end": 1.4,
            "count": 0
           },
           {
            "bin_start": 1.4,
            "bin_end": 1.5,
            "count": 0
           },
           {
            "bin_start": 1.5,
            "bin_end": 1.6,
            "count": 0
           },
           {
            "bin_start": 1.6,
            "bin_end": 1.7000000000000002,
            "count": 0
           },
           {
            "bin_start": 1.7000000000000002,
            "bin_end": 1.8,
            "count": 0
           },
           {
            "bin_start": 1.8,
            "bin_end": 1.9,
            "count": 0
           },
           {
            "bin_start": 1.9,
            "bin_end": 2,
            "count": 216
           }
          ]
         }
        },
        {
         "name": "_deepnote_index_column",
         "dtype": "int64"
        }
       ],
       "rows": [
        {
         "class": 1,
         "a1": 1,
         "a2": 1,
         "a3": 1,
         "a4": 1,
         "a5": 1,
         "a6": 1,
         "_deepnote_index_column": 0
        },
        {
         "class": 1,
         "a1": 1,
         "a2": 1,
         "a3": 1,
         "a4": 1,
         "a5": 1,
         "a6": 2,
         "_deepnote_index_column": 1
        },
        {
         "class": 1,
         "a1": 1,
         "a2": 1,
         "a3": 1,
         "a4": 1,
         "a5": 2,
         "a6": 1,
         "_deepnote_index_column": 2
        },
        {
         "class": 1,
         "a1": 1,
         "a2": 1,
         "a3": 1,
         "a4": 1,
         "a5": 2,
         "a6": 2,
         "_deepnote_index_column": 3
        },
        {
         "class": 1,
         "a1": 1,
         "a2": 1,
         "a3": 1,
         "a4": 1,
         "a5": 3,
         "a6": 1,
         "_deepnote_index_column": 4
        },
        {
         "class": 1,
         "a1": 1,
         "a2": 1,
         "a3": 1,
         "a4": 1,
         "a5": 3,
         "a6": 2,
         "_deepnote_index_column": 5
        },
        {
         "class": 1,
         "a1": 1,
         "a2": 1,
         "a3": 1,
         "a4": 1,
         "a5": 4,
         "a6": 1,
         "_deepnote_index_column": 6
        },
        {
         "class": 1,
         "a1": 1,
         "a2": 1,
         "a3": 1,
         "a4": 1,
         "a5": 4,
         "a6": 2,
         "_deepnote_index_column": 7
        },
        {
         "class": 1,
         "a1": 1,
         "a2": 1,
         "a3": 1,
         "a4": 2,
         "a5": 1,
         "a6": 1,
         "_deepnote_index_column": 8
        },
        {
         "class": 1,
         "a1": 1,
         "a2": 1,
         "a3": 1,
         "a4": 2,
         "a5": 1,
         "a6": 2,
         "_deepnote_index_column": 9
        }
       ]
      },
      "text/plain": "     class  a1  a2  a3  a4  a5  a6\n0        1   1   1   1   1   1   1\n1        1   1   1   1   1   1   2\n2        1   1   1   1   1   2   1\n3        1   1   1   1   1   2   2\n4        1   1   1   1   1   3   1\n..     ...  ..  ..  ..  ..  ..  ..\n427      1   3   3   2   3   2   2\n428      1   3   3   2   3   3   1\n429      1   3   3   2   3   3   2\n430      1   3   3   2   3   4   1\n431      1   3   3   2   3   4   2\n\n[432 rows x 7 columns]",
      "text/html": "<div>\n<style scoped>\n    .dataframe tbody tr th:only-of-type {\n        vertical-align: middle;\n    }\n\n    .dataframe tbody tr th {\n        vertical-align: top;\n    }\n\n    .dataframe thead th {\n        text-align: right;\n    }\n</style>\n<table border=\"1\" class=\"dataframe\">\n  <thead>\n    <tr style=\"text-align: right;\">\n      <th></th>\n      <th>class</th>\n      <th>a1</th>\n      <th>a2</th>\n      <th>a3</th>\n      <th>a4</th>\n      <th>a5</th>\n      <th>a6</th>\n    </tr>\n  </thead>\n  <tbody>\n    <tr>\n      <th>0</th>\n      <td>1</td>\n      <td>1</td>\n      <td>1</td>\n      <td>1</td>\n      <td>1</td>\n      <td>1</td>\n      <td>1</td>\n    </tr>\n    <tr>\n      <th>1</th>\n      <td>1</td>\n      <td>1</td>\n      <td>1</td>\n      <td>1</td>\n      <td>1</td>\n      <td>1</td>\n      <td>2</td>\n    </tr>\n    <tr>\n      <th>2</th>\n      <td>1</td>\n      <td>1</td>\n      <td>1</td>\n      <td>1</td>\n      <td>1</td>\n      <td>2</td>\n      <td>1</td>\n    </tr>\n    <tr>\n      <th>3</th>\n      <td>1</td>\n      <td>1</td>\n      <td>1</td>\n      <td>1</td>\n      <td>1</td>\n      <td>2</td>\n      <td>2</td>\n    </tr>\n    <tr>\n      <th>4</th>\n      <td>1</td>\n      <td>1</td>\n      <td>1</td>\n      <td>1</td>\n      <td>1</td>\n      <td>3</td>\n      <td>1</td>\n    </tr>\n    <tr>\n      <th>...</th>\n      <td>...</td>\n      <td>...</td>\n      <td>...</td>\n      <td>...</td>\n      <td>...</td>\n      <td>...</td>\n      <td>...</td>\n    </tr>\n    <tr>\n      <th>427</th>\n      <td>1</td>\n      <td>3</td>\n      <td>3</td>\n      <td>2</td>\n      <td>3</td>\n      <td>2</td>\n      <td>2</td>\n    </tr>\n    <tr>\n      <th>428</th>\n      <td>1</td>\n      <td>3</td>\n      <td>3</td>\n      <td>2</td>\n      <td>3</td>\n      <td>3</td>\n      <td>1</td>\n    </tr>\n    <tr>\n      <th>429</th>\n      <td>1</td>\n      <td>3</td>\n      <td>3</td>\n      <td>2</td>\n      <td>3</td>\n      <td>3</td>\n      <td>2</td>\n    </tr>\n    <tr>\n      <th>430</th>\n      <td>1</td>\n      <td>3</td>\n      <td>3</td>\n      <td>2</td>\n      <td>3</td>\n      <td>4</td>\n      <td>1</td>\n    </tr>\n    <tr>\n      <th>431</th>\n      <td>1</td>\n      <td>3</td>\n      <td>3</td>\n      <td>2</td>\n      <td>3</td>\n      <td>4</td>\n      <td>2</td>\n    </tr>\n  </tbody>\n</table>\n<p>432 rows × 7 columns</p>\n</div>"
     },
     "metadata": {}
    }
   ]
  },
  {
   "cell_type": "code",
   "metadata": {
    "tags": [],
    "cell_id": "00004-3aae5316-d4b7-4113-9b05-0440a3a3f494",
    "deepnote_to_be_reexecuted": false,
    "source_hash": "a26e411c",
    "execution_start": 1641834171922,
    "execution_millis": 73,
    "deepnote_table_state": {
     "pageSize": 10,
     "pageIndex": 0,
     "filters": [],
     "sortBy": []
    },
    "deepnote_table_loading": false,
    "deepnote_cell_type": "code"
   },
   "source": "df_monk1_train",
   "execution_count": null,
   "outputs": [
    {
     "output_type": "execute_result",
     "execution_count": 14,
     "data": {
      "application/vnd.deepnote.dataframe.v3+json": {
       "column_count": 7,
       "row_count": 124,
       "columns": [
        {
         "name": "class",
         "dtype": "int64",
         "stats": {
          "unique_count": 2,
          "nan_count": 0,
          "min": "0",
          "max": "1",
          "histogram": [
           {
            "bin_start": 0,
            "bin_end": 0.1,
            "count": 62
           },
           {
            "bin_start": 0.1,
            "bin_end": 0.2,
            "count": 0
           },
           {
            "bin_start": 0.2,
            "bin_end": 0.30000000000000004,
            "count": 0
           },
           {
            "bin_start": 0.30000000000000004,
            "bin_end": 0.4,
            "count": 0
           },
           {
            "bin_start": 0.4,
            "bin_end": 0.5,
            "count": 0
           },
           {
            "bin_start": 0.5,
            "bin_end": 0.6000000000000001,
            "count": 0
           },
           {
            "bin_start": 0.6000000000000001,
            "bin_end": 0.7000000000000001,
            "count": 0
           },
           {
            "bin_start": 0.7000000000000001,
            "bin_end": 0.8,
            "count": 0
           },
           {
            "bin_start": 0.8,
            "bin_end": 0.9,
            "count": 0
           },
           {
            "bin_start": 0.9,
            "bin_end": 1,
            "count": 62
           }
          ]
         }
        },
        {
         "name": "a1",
         "dtype": "int64",
         "stats": {
          "unique_count": 3,
          "nan_count": 0,
          "min": "1",
          "max": "3",
          "histogram": [
           {
            "bin_start": 1,
            "bin_end": 1.2,
            "count": 45
           },
           {
            "bin_start": 1.2,
            "bin_end": 1.4,
            "count": 0
           },
           {
            "bin_start": 1.4,
            "bin_end": 1.6,
            "count": 0
           },
           {
            "bin_start": 1.6,
            "bin_end": 1.8,
            "count": 0
           },
           {
            "bin_start": 1.8,
            "bin_end": 2,
            "count": 0
           },
           {
            "bin_start": 2,
            "bin_end": 2.2,
            "count": 42
           },
           {
            "bin_start": 2.2,
            "bin_end": 2.4000000000000004,
            "count": 0
           },
           {
            "bin_start": 2.4000000000000004,
            "bin_end": 2.6,
            "count": 0
           },
           {
            "bin_start": 2.6,
            "bin_end": 2.8,
            "count": 0
           },
           {
            "bin_start": 2.8,
            "bin_end": 3,
            "count": 37
           }
          ]
         }
        },
        {
         "name": "a2",
         "dtype": "int64",
         "stats": {
          "unique_count": 3,
          "nan_count": 0,
          "min": "1",
          "max": "3",
          "histogram": [
           {
            "bin_start": 1,
            "bin_end": 1.2,
            "count": 35
           },
           {
            "bin_start": 1.2,
            "bin_end": 1.4,
            "count": 0
           },
           {
            "bin_start": 1.4,
            "bin_end": 1.6,
            "count": 0
           },
           {
            "bin_start": 1.6,
            "bin_end": 1.8,
            "count": 0
           },
           {
            "bin_start": 1.8,
            "bin_end": 2,
            "count": 0
           },
           {
            "bin_start": 2,
            "bin_end": 2.2,
            "count": 42
           },
           {
            "bin_start": 2.2,
            "bin_end": 2.4000000000000004,
            "count": 0
           },
           {
            "bin_start": 2.4000000000000004,
            "bin_end": 2.6,
            "count": 0
           },
           {
            "bin_start": 2.6,
            "bin_end": 2.8,
            "count": 0
           },
           {
            "bin_start": 2.8,
            "bin_end": 3,
            "count": 47
           }
          ]
         }
        },
        {
         "name": "a3",
         "dtype": "int64",
         "stats": {
          "unique_count": 2,
          "nan_count": 0,
          "min": "1",
          "max": "2",
          "histogram": [
           {
            "bin_start": 1,
            "bin_end": 1.1,
            "count": 65
           },
           {
            "bin_start": 1.1,
            "bin_end": 1.2,
            "count": 0
           },
           {
            "bin_start": 1.2,
            "bin_end": 1.3,
            "count": 0
           },
           {
            "bin_start": 1.3,
            "bin_end": 1.4,
            "count": 0
           },
           {
            "bin_start": 1.4,
            "bin_end": 1.5,
            "count": 0
           },
           {
            "bin_start": 1.5,
            "bin_end": 1.6,
            "count": 0
           },
           {
            "bin_start": 1.6,
            "bin_end": 1.7000000000000002,
            "count": 0
           },
           {
            "bin_start": 1.7000000000000002,
            "bin_end": 1.8,
            "count": 0
           },
           {
            "bin_start": 1.8,
            "bin_end": 1.9,
            "count": 0
           },
           {
            "bin_start": 1.9,
            "bin_end": 2,
            "count": 59
           }
          ]
         }
        },
        {
         "name": "a4",
         "dtype": "int64",
         "stats": {
          "unique_count": 3,
          "nan_count": 0,
          "min": "1",
          "max": "3",
          "histogram": [
           {
            "bin_start": 1,
            "bin_end": 1.2,
            "count": 42
           },
           {
            "bin_start": 1.2,
            "bin_end": 1.4,
            "count": 0
           },
           {
            "bin_start": 1.4,
            "bin_end": 1.6,
            "count": 0
           },
           {
            "bin_start": 1.6,
            "bin_end": 1.8,
            "count": 0
           },
           {
            "bin_start": 1.8,
            "bin_end": 2,
            "count": 0
           },
           {
            "bin_start": 2,
            "bin_end": 2.2,
            "count": 39
           },
           {
            "bin_start": 2.2,
            "bin_end": 2.4000000000000004,
            "count": 0
           },
           {
            "bin_start": 2.4000000000000004,
            "bin_end": 2.6,
            "count": 0
           },
           {
            "bin_start": 2.6,
            "bin_end": 2.8,
            "count": 0
           },
           {
            "bin_start": 2.8,
            "bin_end": 3,
            "count": 43
           }
          ]
         }
        },
        {
         "name": "a5",
         "dtype": "int64",
         "stats": {
          "unique_count": 4,
          "nan_count": 0,
          "min": "1",
          "max": "4",
          "histogram": [
           {
            "bin_start": 1,
            "bin_end": 1.3,
            "count": 29
           },
           {
            "bin_start": 1.3,
            "bin_end": 1.6,
            "count": 0
           },
           {
            "bin_start": 1.6,
            "bin_end": 1.9,
            "count": 0
           },
           {
            "bin_start": 1.9,
            "bin_end": 2.2,
            "count": 31
           },
           {
            "bin_start": 2.2,
            "bin_end": 2.5,
            "count": 0
           },
           {
            "bin_start": 2.5,
            "bin_end": 2.8,
            "count": 0
           },
           {
            "bin_start": 2.8,
            "bin_end": 3.1,
            "count": 30
           },
           {
            "bin_start": 3.1,
            "bin_end": 3.4,
            "count": 0
           },
           {
            "bin_start": 3.4,
            "bin_end": 3.6999999999999997,
            "count": 0
           },
           {
            "bin_start": 3.6999999999999997,
            "bin_end": 4,
            "count": 34
           }
          ]
         }
        },
        {
         "name": "a6",
         "dtype": "int64",
         "stats": {
          "unique_count": 2,
          "nan_count": 0,
          "min": "1",
          "max": "2",
          "histogram": [
           {
            "bin_start": 1,
            "bin_end": 1.1,
            "count": 56
           },
           {
            "bin_start": 1.1,
            "bin_end": 1.2,
            "count": 0
           },
           {
            "bin_start": 1.2,
            "bin_end": 1.3,
            "count": 0
           },
           {
            "bin_start": 1.3,
            "bin_end": 1.4,
            "count": 0
           },
           {
            "bin_start": 1.4,
            "bin_end": 1.5,
            "count": 0
           },
           {
            "bin_start": 1.5,
            "bin_end": 1.6,
            "count": 0
           },
           {
            "bin_start": 1.6,
            "bin_end": 1.7000000000000002,
            "count": 0
           },
           {
            "bin_start": 1.7000000000000002,
            "bin_end": 1.8,
            "count": 0
           },
           {
            "bin_start": 1.8,
            "bin_end": 1.9,
            "count": 0
           },
           {
            "bin_start": 1.9,
            "bin_end": 2,
            "count": 68
           }
          ]
         }
        },
        {
         "name": "_deepnote_index_column",
         "dtype": "int64"
        }
       ],
       "rows": [
        {
         "class": 1,
         "a1": 1,
         "a2": 1,
         "a3": 1,
         "a4": 1,
         "a5": 3,
         "a6": 1,
         "_deepnote_index_column": 0
        },
        {
         "class": 1,
         "a1": 1,
         "a2": 1,
         "a3": 1,
         "a4": 1,
         "a5": 3,
         "a6": 2,
         "_deepnote_index_column": 1
        },
        {
         "class": 1,
         "a1": 1,
         "a2": 1,
         "a3": 1,
         "a4": 3,
         "a5": 2,
         "a6": 1,
         "_deepnote_index_column": 2
        },
        {
         "class": 1,
         "a1": 1,
         "a2": 1,
         "a3": 1,
         "a4": 3,
         "a5": 3,
         "a6": 2,
         "_deepnote_index_column": 3
        },
        {
         "class": 1,
         "a1": 1,
         "a2": 1,
         "a3": 2,
         "a4": 1,
         "a5": 2,
         "a6": 1,
         "_deepnote_index_column": 4
        },
        {
         "class": 1,
         "a1": 1,
         "a2": 1,
         "a3": 2,
         "a4": 1,
         "a5": 2,
         "a6": 2,
         "_deepnote_index_column": 5
        },
        {
         "class": 1,
         "a1": 1,
         "a2": 1,
         "a3": 2,
         "a4": 2,
         "a5": 3,
         "a6": 1,
         "_deepnote_index_column": 6
        },
        {
         "class": 1,
         "a1": 1,
         "a2": 1,
         "a3": 2,
         "a4": 2,
         "a5": 4,
         "a6": 1,
         "_deepnote_index_column": 7
        },
        {
         "class": 1,
         "a1": 1,
         "a2": 1,
         "a3": 2,
         "a4": 3,
         "a5": 1,
         "a6": 2,
         "_deepnote_index_column": 8
        },
        {
         "class": 1,
         "a1": 1,
         "a2": 2,
         "a3": 1,
         "a4": 1,
         "a5": 1,
         "a6": 2,
         "_deepnote_index_column": 9
        }
       ]
      },
      "text/plain": "     class  a1  a2  a3  a4  a5  a6\n0        1   1   1   1   1   3   1\n1        1   1   1   1   1   3   2\n2        1   1   1   1   3   2   1\n3        1   1   1   1   3   3   2\n4        1   1   1   2   1   2   1\n..     ...  ..  ..  ..  ..  ..  ..\n119      1   3   3   2   1   4   2\n120      1   3   3   2   3   1   2\n121      1   3   3   2   3   2   2\n122      1   3   3   2   3   3   2\n123      1   3   3   2   3   4   2\n\n[124 rows x 7 columns]",
      "text/html": "<div>\n<style scoped>\n    .dataframe tbody tr th:only-of-type {\n        vertical-align: middle;\n    }\n\n    .dataframe tbody tr th {\n        vertical-align: top;\n    }\n\n    .dataframe thead th {\n        text-align: right;\n    }\n</style>\n<table border=\"1\" class=\"dataframe\">\n  <thead>\n    <tr style=\"text-align: right;\">\n      <th></th>\n      <th>class</th>\n      <th>a1</th>\n      <th>a2</th>\n      <th>a3</th>\n      <th>a4</th>\n      <th>a5</th>\n      <th>a6</th>\n    </tr>\n  </thead>\n  <tbody>\n    <tr>\n      <th>0</th>\n      <td>1</td>\n      <td>1</td>\n      <td>1</td>\n      <td>1</td>\n      <td>1</td>\n      <td>3</td>\n      <td>1</td>\n    </tr>\n    <tr>\n      <th>1</th>\n      <td>1</td>\n      <td>1</td>\n      <td>1</td>\n      <td>1</td>\n      <td>1</td>\n      <td>3</td>\n      <td>2</td>\n    </tr>\n    <tr>\n      <th>2</th>\n      <td>1</td>\n      <td>1</td>\n      <td>1</td>\n      <td>1</td>\n      <td>3</td>\n      <td>2</td>\n      <td>1</td>\n    </tr>\n    <tr>\n      <th>3</th>\n      <td>1</td>\n      <td>1</td>\n      <td>1</td>\n      <td>1</td>\n      <td>3</td>\n      <td>3</td>\n      <td>2</td>\n    </tr>\n    <tr>\n      <th>4</th>\n      <td>1</td>\n      <td>1</td>\n      <td>1</td>\n      <td>2</td>\n      <td>1</td>\n      <td>2</td>\n      <td>1</td>\n    </tr>\n    <tr>\n      <th>...</th>\n      <td>...</td>\n      <td>...</td>\n      <td>...</td>\n      <td>...</td>\n      <td>...</td>\n      <td>...</td>\n      <td>...</td>\n    </tr>\n    <tr>\n      <th>119</th>\n      <td>1</td>\n      <td>3</td>\n      <td>3</td>\n      <td>2</td>\n      <td>1</td>\n      <td>4</td>\n      <td>2</td>\n    </tr>\n    <tr>\n      <th>120</th>\n      <td>1</td>\n      <td>3</td>\n      <td>3</td>\n      <td>2</td>\n      <td>3</td>\n      <td>1</td>\n      <td>2</td>\n    </tr>\n    <tr>\n      <th>121</th>\n      <td>1</td>\n      <td>3</td>\n      <td>3</td>\n      <td>2</td>\n      <td>3</td>\n      <td>2</td>\n      <td>2</td>\n    </tr>\n    <tr>\n      <th>122</th>\n      <td>1</td>\n      <td>3</td>\n      <td>3</td>\n      <td>2</td>\n      <td>3</td>\n      <td>3</td>\n      <td>2</td>\n    </tr>\n    <tr>\n      <th>123</th>\n      <td>1</td>\n      <td>3</td>\n      <td>3</td>\n      <td>2</td>\n      <td>3</td>\n      <td>4</td>\n      <td>2</td>\n    </tr>\n  </tbody>\n</table>\n<p>124 rows × 7 columns</p>\n</div>"
     },
     "metadata": {}
    }
   ]
  },
  {
   "cell_type": "code",
   "metadata": {
    "tags": [],
    "cell_id": "00005-9871c03f-5475-45e7-b0bd-16fcb8946ab3",
    "deepnote_to_be_reexecuted": false,
    "source_hash": "b22c86e5",
    "execution_start": 1641834172042,
    "execution_millis": 277,
    "deepnote_output_heights": [
     21.171875,
     450.96875
    ],
    "deepnote_cell_type": "code"
   },
   "source": "#plot class distribution in train data\nfig_size = plt.rcParams[\"figure.figsize\"]\nfig_size[0] = 10\nfig_size[1] = 8\nplt.rcParams[\"figure.figsize\"] = fig_size\n\ndf_monk1_train['class'].value_counts().plot(kind='pie', autopct='%1.0f%%', colors=['skyblue', 'orange'], explode=(0.05, 0.05))",
   "execution_count": null,
   "outputs": [
    {
     "output_type": "execute_result",
     "execution_count": 15,
     "data": {
      "text/plain": "<AxesSubplot:ylabel='class'>"
     },
     "metadata": {}
    },
    {
     "data": {
      "text/plain": "<Figure size 720x576 with 1 Axes>",
      "image/png": "[encoded data removed]"
     },
     "metadata": {
      "image/png": {
       "width": 463,
       "height": 449
      }
     },
     "output_type": "display_data"
    }
   ]
  },
  {
   "cell_type": "code",
   "metadata": {
    "tags": [],
    "cell_id": "00006-cf57ec2c-783c-4fb6-b41c-1d6bb899e12d",
    "deepnote_to_be_reexecuted": false,
    "source_hash": "3b111b4e",
    "execution_start": 1641834172322,
    "execution_millis": 293,
    "deepnote_output_heights": [
     21.171875,
     450.96875
    ],
    "deepnote_cell_type": "code"
   },
   "source": "#plot class distribution in test data\ndf_monk1_test['class'].value_counts().plot(kind='pie', autopct='%1.0f%%', colors=['skyblue', 'orange'], explode=(0.05, 0.05))",
   "execution_count": null,
   "outputs": [
    {
     "output_type": "execute_result",
     "execution_count": 16,
     "data": {
      "text/plain": "<AxesSubplot:ylabel='class'>"
     },
     "metadata": {}
    },
    {
     "data": {
      "text/plain": "<Figure size 720x576 with 1 Axes>",
      "image/png": "[encoded data removed]"
     },
     "metadata": {
      "image/png": {
       "width": 463,
       "height": 449
      }
     },
     "output_type": "display_data"
    }
   ]
  },
  {
   "cell_type": "code",
   "metadata": {
    "tags": [],
    "cell_id": "00018-4e2e2dbf-916d-4caa-b76a-c0dbb0e95951",
    "deepnote_to_be_reexecuted": false,
    "source_hash": "e12ddd86",
    "execution_start": 1641834172622,
    "execution_millis": 47,
    "deepnote_cell_type": "code"
   },
   "source": "def split_train_test(df_monk_train, df_monk_test):\n    target_train = df_monk_train[['class']]\n    df_monk_train.drop(labels='class', axis=1, inplace=True)\n    target_test = df_monk_test[['class']]\n    df_monk_test.drop(labels='class', axis=1, inplace=True)\n    X_train = df_monk_train.values #returns a ndarray\n    y_train = target_train.values.ravel() #flattens the array into a 1-dimensional array\n    X_test = df_monk_test.values\n    y_test = target_test.values.ravel()\n\n    return X_train, y_train, X_test, y_test",
   "execution_count": null,
   "outputs": []
  },
  {
   "cell_type": "code",
   "metadata": {
    "tags": [],
    "cell_id": "00019-faeb7a82-95c7-4cce-a50a-2c1ac67414d9",
    "deepnote_to_be_reexecuted": false,
    "source_hash": "ea61b89e",
    "execution_start": 1641834172672,
    "execution_millis": 11,
    "deepnote_cell_type": "code"
   },
   "source": "X_train_M1, y_train_M1, X_test_M1, y_test_M1 = split_train_test(df_monk1_train, df_monk1_test)",
   "execution_count": null,
   "outputs": []
  },
  {
   "cell_type": "code",
   "metadata": {
    "tags": [],
    "cell_id": "00014-59eeaa5a-7fb9-4036-afdb-97d3acc95337",
    "deepnote_to_be_reexecuted": false,
    "source_hash": "162b5562",
    "execution_start": 1641834172686,
    "execution_millis": 1,
    "deepnote_cell_type": "code"
   },
   "source": "#prepare validation set\n#X_train, X_validation, y_train, y_validation = train_test_split(df_monk1_train, target_train, stratify=target_train, test_size=0.30)",
   "execution_count": null,
   "outputs": []
  },
  {
   "cell_type": "code",
   "metadata": {
    "tags": [],
    "cell_id": "00016-1565151b-448e-473f-ba7c-02e7c62f1dc0",
    "deepnote_to_be_reexecuted": false,
    "source_hash": "db0a19a1",
    "execution_start": 1641834172690,
    "execution_millis": 6,
    "deepnote_output_heights": [
     78.796875
    ],
    "deepnote_cell_type": "code"
   },
   "source": "#print(\"Length train data: \", X_train.shape[0])\n#print(\"Length validation data: \", X_validation.shape[0])",
   "execution_count": null,
   "outputs": []
  },
  {
   "cell_type": "code",
   "metadata": {
    "tags": [],
    "cell_id": "00008-5bdc0389-f2c2-471e-bcbb-bd041eb78f5e",
    "deepnote_to_be_reexecuted": false,
    "source_hash": "db0c97cb",
    "execution_start": 1641834172699,
    "execution_millis": 14,
    "deepnote_cell_type": "code"
   },
   "source": "#create tensor for train and test data \n#X_train = X_train.values #returns a ndarray\n#X_test = X_test.values\n#X_validation = X_validation.values\n\nx_tensor =  torch.from_numpy(X_train_M1).float()\ny_tensor =  torch.from_numpy(y_train_M1).float()\n#xval_tensor =  torch.from_numpy(X_validation).float()\n#yval_tensor =  torch.from_numpy(y_validation.values.ravel()).float()\nxtest_tensor =  torch.from_numpy(X_test_M1).float()\nytest_tensor =  torch.from_numpy(y_test_M1).float()",
   "execution_count": null,
   "outputs": []
  },
  {
   "cell_type": "code",
   "metadata": {
    "tags": [],
    "cell_id": "00018-3bd216de-8a5e-4c54-9718-bda7e490fc7f",
    "deepnote_to_be_reexecuted": false,
    "source_hash": "d2e4b8f6",
    "execution_start": 1641834172714,
    "execution_millis": 44,
    "deepnote_cell_type": "code"
   },
   "source": "#prepare dataloader for training\ny_tensor = y_tensor.unsqueeze(1)\ntrain_ds = TensorDataset(x_tensor, y_tensor)\ntrain_loader = DataLoader(train_ds, batch_size=BATCH_SIZE, shuffle=True)\n\n#prepare dataloader for evaluating \nytest_tensor = ytest_tensor.unsqueeze(1)\ntest_ds = TensorDataset(xtest_tensor, ytest_tensor)\ntest_loader = DataLoader(test_ds, batch_size=1, shuffle=False)",
   "execution_count": null,
   "outputs": []
  },
  {
   "cell_type": "markdown",
   "source": "## Training and evaluate\nIn this section, we train the network and control the results.",
   "metadata": {
    "tags": [],
    "cell_id": "00018-b86cbd9a-690b-4b65-90dd-53319cf3100d",
    "deepnote_cell_type": "markdown"
   }
  },
  {
   "cell_type": "markdown",
   "source": "study = optuna.create_study(direction=\"minimize\") study.optimize(TuningHP(train_loader, val_loader), n_trials=1000, timeout=1000)\npruned_trials = study.get_trials(deepcopy=False, states=[TrialState.PRUNED]) complete_trials = study.get_trials(deepcopy=False, states=[TrialState.COMPLETE])\n\nprint(\"Study statistics: \") print(\" Number of finished trials: \", len(study.trials)) print(\" Number of pruned trials: \", len(pruned_trials)) print(\" Number of complete trials: \", len(complete_trials))\nprint(\"Best trial:\") trial = study.best_trial\n\nprint(\" Value: \", trial.value)\n\nprint(\" Params: \") for key, value in trial.params.items(): print(\" {}: {}\".format(key, value))\n\nlosses_train, losses_test, accuracy = tuningHP(trial, model, train_loader, val_loader, EPOCHS, loss_function)\nprint(\"ACCURACY: \", accuracy)",
   "metadata": {
    "tags": [],
    "cell_id": "00023-bfc3cc54-ccf5-46ad-be07-a894a9f27e6a",
    "deepnote_cell_type": "markdown"
   }
  },
  {
   "cell_type": "markdown",
   "source": "### Model selection with skorch and sklearn\nIn this part, use skorch and sklearn to do a gridsearchcv to find the best model.",
   "metadata": {
    "tags": [],
    "cell_id": "00024-68cc221e-c5bc-4ff8-9425-4af59faecd96",
    "deepnote_cell_type": "markdown"
   }
  },
  {
   "cell_type": "code",
   "metadata": {
    "tags": [],
    "cell_id": "00027-8eb4bc4a-6d60-487b-a54a-165fef7a14e6",
    "deepnote_to_be_reexecuted": false,
    "source_hash": "fcb09ad4",
    "execution_start": 1641839781024,
    "execution_millis": 0,
    "deepnote_cell_type": "code"
   },
   "source": "net = NeuralNetBinaryClassifier(\n    BinaryClassification,\n    module__hidden_unit1=80,\n    max_epochs=90,\n    batch_size = 64,\n    lr = 0.01,\n    optimizer=torch.optim.SGD,\n    optimizer__momentum=0.9,\n    optimizer__nesterov=False,\n    optimizer__weight_decay=0.01,\n    # Shuffle training data on each epoch\n    iterator_train__shuffle=True,\n    train_split=None\n)",
   "execution_count": null,
   "outputs": []
  },
  {
   "cell_type": "code",
   "metadata": {
    "tags": [],
    "cell_id": "00028-59d913c6-95ac-4ccb-842b-1d322541478b",
    "deepnote_to_be_reexecuted": false,
    "source_hash": "1d725942",
    "execution_start": 1641839784203,
    "execution_millis": 953,
    "deepnote_output_heights": [
     null,
     155.453125
    ],
    "deepnote_cell_type": "code"
   },
   "source": "net.fit(X_trainFit, y_trainFit, verbose=0)",
   "execution_count": null,
   "outputs": [
    {
     "name": "stdout",
     "text": "  epoch    train_loss     dur\n-------  ------------  ------\n      1        \u001b[36m0.6898\u001b[0m  0.0132\n      2        \u001b[36m0.6895\u001b[0m  0.0042\n      3        \u001b[36m0.6877\u001b[0m  0.0043\n      4        \u001b[36m0.6871\u001b[0m  0.0030\n      5        \u001b[36m0.6860\u001b[0m  0.0040\n      6        \u001b[36m0.6850\u001b[0m  0.0063\n      7        \u001b[36m0.6846\u001b[0m  0.0057\n      8        \u001b[36m0.6817\u001b[0m  0.0076\n      9        \u001b[36m0.6802\u001b[0m  0.0128\n     10        \u001b[36m0.6787\u001b[0m  0.0049\n     11        \u001b[36m0.6771\u001b[0m  0.0049\n     12        \u001b[36m0.6755\u001b[0m  0.0054\n     13        \u001b[36m0.6740\u001b[0m  0.0057\n     14        0.6741  0.0036\n     15        \u001b[36m0.6709\u001b[0m  0.0025\n     16        \u001b[36m0.6693\u001b[0m  0.0053\n     17        \u001b[36m0.6678\u001b[0m  0.0047\n     18        \u001b[36m0.6662\u001b[0m  0.0074\n     19        \u001b[36m0.6649\u001b[0m  0.0078\n     20        \u001b[36m0.6631\u001b[0m  0.0090\n     21        \u001b[36m0.6616\u001b[0m  0.0066\n     22        \u001b[36m0.6605\u001b[0m  0.0048\n     23        \u001b[36m0.6587\u001b[0m  0.0056\n     24        \u001b[36m0.6574\u001b[0m  0.0077\n     25        \u001b[36m0.6566\u001b[0m  0.0080\n     26        \u001b[36m0.6545\u001b[0m  0.0079\n     27        \u001b[36m0.6531\u001b[0m  0.0075\n     28        \u001b[36m0.6519\u001b[0m  0.0048\n     29        \u001b[36m0.6505\u001b[0m  0.0047\n     30        \u001b[36m0.6490\u001b[0m  0.0277\n     31        \u001b[36m0.6478\u001b[0m  0.0083\n     32        \u001b[36m0.6464\u001b[0m  0.0077\n     33        \u001b[36m0.6454\u001b[0m  0.0044\n     34        \u001b[36m0.6446\u001b[0m  0.0076\n     35        \u001b[36m0.6424\u001b[0m  0.0051\n     36        \u001b[36m0.6413\u001b[0m  0.0057\n     37        \u001b[36m0.6401\u001b[0m  0.0041\n     38        0.6401  0.0237\n     39        \u001b[36m0.6379\u001b[0m  0.0075\n     40        \u001b[36m0.6367\u001b[0m  0.0045\n     41        \u001b[36m0.6353\u001b[0m  0.0078\n     42        \u001b[36m0.6342\u001b[0m  0.0080\n     43        \u001b[36m0.6333\u001b[0m  0.0077\n     44        \u001b[36m0.6320\u001b[0m  0.0074\n     45        \u001b[36m0.6308\u001b[0m  0.0044\n     46        \u001b[36m0.6296\u001b[0m  0.0282\n     47        \u001b[36m0.6291\u001b[0m  0.0042\n     48        \u001b[36m0.6276\u001b[0m  0.0048\n     49        \u001b[36m0.6264\u001b[0m  0.0043\n     50        \u001b[36m0.6252\u001b[0m  0.0072\n     51        \u001b[36m0.6240\u001b[0m  0.0078\n     52        \u001b[36m0.6231\u001b[0m  0.0060\n     53        \u001b[36m0.6220\u001b[0m  0.0083\n     54        \u001b[36m0.6209\u001b[0m  0.0033\n     55        0.6210  0.0026\n     56        \u001b[36m0.6190\u001b[0m  0.0029\n     57        \u001b[36m0.6179\u001b[0m  0.0029\n     58        0.6184  0.0029\n     59        \u001b[36m0.6161\u001b[0m  0.0149\n     60        \u001b[36m0.6150\u001b[0m  0.0048\n     61        \u001b[36m0.6139\u001b[0m  0.0081\n     62        \u001b[36m0.6129\u001b[0m  0.0065\n     63        \u001b[36m0.6120\u001b[0m  0.0086\n     64        \u001b[36m0.6120\u001b[0m  0.0047\n     65        \u001b[36m0.6102\u001b[0m  0.0033\n     66        \u001b[36m0.6093\u001b[0m  0.0032\n     67        \u001b[36m0.6083\u001b[0m  0.0030\n     68        \u001b[36m0.6082\u001b[0m  0.0030\n     69        \u001b[36m0.6063\u001b[0m  0.0037\n     70        \u001b[36m0.6056\u001b[0m  0.0199\n     71        \u001b[36m0.6048\u001b[0m  0.0054\n     72        \u001b[36m0.6039\u001b[0m  0.0080\n     73        \u001b[36m0.6032\u001b[0m  0.0058\n     74        \u001b[36m0.6027\u001b[0m  0.0044\n     75        \u001b[36m0.6014\u001b[0m  0.0047\n     76        \u001b[36m0.6005\u001b[0m  0.0062\n     77        \u001b[36m0.5996\u001b[0m  0.0043\n     78        \u001b[36m0.5990\u001b[0m  0.0043\n     79        \u001b[36m0.5980\u001b[0m  0.0048\n     80        \u001b[36m0.5972\u001b[0m  0.0043\n     81        \u001b[36m0.5969\u001b[0m  0.0206\n     82        0.5971  0.0051\n     83        \u001b[36m0.5948\u001b[0m  0.0068\n     84        \u001b[36m0.5942\u001b[0m  0.0066\n     85        \u001b[36m0.5933\u001b[0m  0.0047\n     86        \u001b[36m0.5929\u001b[0m  0.0061\n     87        \u001b[36m0.5919\u001b[0m  0.0076\n     88        \u001b[36m0.5912\u001b[0m  0.0038\n     89        \u001b[36m0.5905\u001b[0m  0.0028\n     90        \u001b[36m0.5898\u001b[0m  0.0029\n",
     "output_type": "stream",
     "data": {}
    },
    {
     "output_type": "execute_result",
     "execution_count": 148,
     "data": {
      "text/plain": "<class 'skorch.classifier.NeuralNetBinaryClassifier'>[initialized](\n  module_=BinaryClassification(\n    (layer_in): Linear(in_features=6, out_features=80, bias=True)\n    (layer_out): Linear(in_features=80, out_features=1, bias=True)\n    (relu): ReLU(inplace=True)\n    (sigmoid): Sigmoid()\n  ),\n)"
     },
     "metadata": {}
    }
   ]
  },
  {
   "cell_type": "code",
   "metadata": {
    "tags": [],
    "cell_id": "00029-07bcd84e-fb57-498a-a86d-b51c7e098286",
    "deepnote_to_be_reexecuted": false,
    "source_hash": "33d0e906",
    "execution_start": 1641839793905,
    "execution_millis": 25,
    "deepnote_output_heights": [
     21.171875
    ],
    "deepnote_cell_type": "code"
   },
   "source": "net.score(X_testFit, y_testFit)",
   "execution_count": null,
   "outputs": [
    {
     "output_type": "execute_result",
     "execution_count": 149,
     "data": {
      "text/plain": "0.6527777777777778"
     },
     "metadata": {}
    }
   ]
  },
  {
   "cell_type": "code",
   "metadata": {
    "tags": [],
    "cell_id": "00031-d498403b-d09b-4704-b3f1-999225104a58",
    "deepnote_to_be_reexecuted": false,
    "source_hash": "fed60ac7",
    "execution_start": 1641839800592,
    "execution_millis": 63,
    "deepnote_output_heights": [
     385.65625
    ],
    "deepnote_cell_type": "code"
   },
   "source": "net.predict(X_testFit)",
   "execution_count": null,
   "outputs": [
    {
     "output_type": "execute_result",
     "execution_count": 150,
     "data": {
      "text/plain": "array([1, 1, 1, 0, 0, 0, 0, 0, 1, 1, 0, 0, 0, 0, 0, 0, 1, 1, 0, 0, 0, 0,\n       0, 0, 1, 1, 1, 0, 0, 0, 0, 0, 1, 1, 0, 0, 0, 0, 0, 0, 1, 1, 0, 0,\n       0, 0, 0, 0, 1, 1, 1, 1, 0, 0, 0, 0, 1, 1, 1, 0, 0, 0, 0, 0, 1, 1,\n       1, 0, 0, 0, 0, 0, 1, 1, 1, 1, 0, 0, 0, 0, 1, 1, 1, 0, 0, 0, 0, 0,\n       1, 1, 1, 0, 0, 0, 0, 0, 1, 1, 1, 1, 0, 0, 0, 0, 1, 1, 1, 1, 0, 0,\n       0, 0, 1, 1, 1, 1, 0, 0, 0, 0, 1, 1, 1, 1, 0, 0, 0, 0, 1, 1, 1, 1,\n       0, 0, 0, 0, 1, 1, 1, 1, 0, 0, 0, 0, 1, 1, 1, 1, 0, 0, 0, 0, 1, 1,\n       1, 1, 0, 0, 0, 0, 1, 1, 1, 1, 0, 0, 0, 0, 1, 1, 1, 1, 0, 0, 0, 0,\n       1, 1, 1, 1, 0, 0, 0, 0, 1, 1, 1, 1, 0, 0, 0, 0, 1, 1, 1, 1, 0, 0,\n       0, 0, 1, 1, 1, 1, 0, 0, 0, 0, 1, 1, 1, 1, 0, 0, 0, 0, 1, 1, 1, 1,\n       0, 0, 0, 0, 1, 1, 1, 1, 0, 0, 0, 0, 1, 1, 1, 1, 0, 0, 0, 0, 1, 1,\n       1, 1, 0, 0, 0, 0, 1, 1, 1, 1, 0, 0, 0, 0, 1, 1, 1, 1, 0, 0, 0, 0,\n       1, 1, 1, 1, 0, 0, 0, 0, 1, 1, 1, 1, 0, 0, 0, 0, 1, 1, 1, 1, 0, 0,\n       0, 0, 1, 1, 1, 1, 1, 0, 0, 0, 1, 1, 1, 1, 1, 0, 0, 0, 1, 1, 1, 1,\n       0, 0, 0, 0, 1, 1, 1, 1, 1, 0, 0, 0, 1, 1, 1, 1, 1, 0, 0, 0, 1, 1,\n       1, 1, 0, 0, 0, 0, 1, 1, 1, 1, 1, 1, 0, 0, 1, 1, 1, 1, 1, 0, 0, 0,\n       1, 1, 1, 1, 1, 0, 0, 0, 1, 1, 1, 1, 1, 1, 0, 0, 1, 1, 1, 1, 1, 0,\n       0, 0, 1, 1, 1, 1, 1, 0, 0, 0, 1, 1, 1, 1, 1, 1, 0, 0, 1, 1, 1, 1,\n       1, 1, 0, 0, 1, 1, 1, 1, 1, 1, 0, 0, 1, 1, 1, 1, 1, 1, 0, 0, 1, 1,\n       1, 1, 1, 1, 0, 0, 1, 1, 1, 1, 1, 1, 0, 0], dtype=uint8)"
     },
     "metadata": {}
    }
   ]
  },
  {
   "cell_type": "code",
   "metadata": {
    "tags": [],
    "cell_id": "00025-2076aec7-9173-4e3b-9e37-bede5c57d8a3",
    "deepnote_to_be_reexecuted": false,
    "source_hash": "e434c8c6",
    "execution_start": 1641838496867,
    "execution_millis": 60052,
    "deepnote_output_heights": [
     596.6875,
     611
    ],
    "deepnote_cell_type": "code"
   },
   "source": "net = NeuralNetBinaryClassifier(\n    BinaryClassification,\n    max_epochs=10,\n    #batch_size = 1,\n    # Shuffle training data on each epoch\n    iterator_train__shuffle=True,\n    train_split=None\n)\n\n# deactivate skorch-internal train-valid split and verbose logging\nnet.set_params(train_split=False, verbose=0)\n\nparams = {\n    'lr': [0.0001, 0.001, 0.01, 0.1],\n    'max_epochs': [10, 20, 30, 40, 50, 60, 70,  80, 90, 100],\n    'optimizer': [torch.optim.SGD],\n    'optimizer__momentum': [0.8, 0.9, 0.95, 0.85],\n    'optimizer__weight_decay': [0.0001, 0.001, 0.01, 0.1],\n    'optimizer__nesterov': [False, True],\n    'module__hidden_unit1': [2, 3, 4, 5, 10, 20, 30, 40, 50, 60, 70, 80, 90, 100],\n    'batch_size': [32, 64, 124, 128],\n}\ngs = RandomizedSearchCV(net, params, n_jobs=-1, refit=True, cv=None, n_iter=50, scoring='accuracy', verbose=2)\n\nX_trainFit = X_train_M1.astype(np.single)\n#y_trainFit = y_train.values.ravel()\ny_trainFit = y_train_M1.astype(np.single)\n\nX_testFit = X_test_M1.astype(np.single)\n#y_valFit = y_validation.values.ravel()\ny_testFit = y_test_M1.astype(np.single)\n\ngs.fit(X_trainFit, y_trainFit)\nprint(\"best score: {:.3f}, best params: {}\".format(gs.best_score_, gs.best_params_))\n\ngrid_predictions = gs.predict(X_testFit) \n# print classification report \nprint(classification_report(y_testFit, grid_predictions)) ",
   "execution_count": null,
   "outputs": [
    {
     "name": "stdout",
     "text": "Fitting 5 folds for each of 50 candidates, totalling 250 fits\nbest score: 0.684, best params: {'optimizer__weight_decay': 0.01, 'optimizer__nesterov': False, 'optimizer__momentum': 0.9, 'optimizer': <class 'torch.optim.sgd.SGD'>, 'module__hidden_unit1': 80, 'max_epochs': 90, 'lr': 0.01, 'batch_size': 64}\n              precision    recall  f1-score   support\n\n         0.0       0.66      0.64      0.65       216\n         1.0       0.65      0.67      0.66       216\n\n    accuracy                           0.65       432\n   macro avg       0.65      0.65      0.65       432\nweighted avg       0.65      0.65      0.65       432\n\n",
     "output_type": "stream",
     "data": {}
    }
   ]
  },
  {
   "cell_type": "code",
   "metadata": {
    "tags": [],
    "cell_id": "00028-9b010654-7a4a-4829-a239-94cb8f793558",
    "deepnote_to_be_reexecuted": false,
    "source_hash": "7886a2c3",
    "execution_start": 1641838174675,
    "execution_millis": 725,
    "deepnote_output_heights": [
     21.171875
    ],
    "deepnote_cell_type": "code"
   },
   "source": "best_model = gs.best_estimator_\nbest_model.fit(X_trainFit, y_trainFit)\n#y_pred = best_model.predict(X_trainFit)\nbest_model.score(X_testFit, y_testFit)",
   "execution_count": null,
   "outputs": [
    {
     "output_type": "execute_result",
     "execution_count": 133,
     "data": {
      "text/plain": "0.7060185185185185"
     },
     "metadata": {}
    }
   ]
  },
  {
   "cell_type": "code",
   "metadata": {
    "tags": [],
    "cell_id": "00028-ea410508-97cf-48c5-9e40-d4ece2aa1c56",
    "deepnote_to_be_reexecuted": false,
    "source_hash": "f4001536",
    "execution_start": 1641838180777,
    "execution_millis": 215,
    "deepnote_table_state": {
     "pageSize": 10,
     "pageIndex": 0,
     "filters": [],
     "sortBy": [
      {
       "id": "mean_test_score",
       "type": "desc"
      }
     ]
    },
    "deepnote_table_loading": false,
    "deepnote_cell_type": "code"
   },
   "source": "df_results = pd.DataFrame(data=gs.cv_results_) #trasform into a pandas dataframe\ndf_results",
   "execution_count": null,
   "outputs": [
    {
     "output_type": "execute_result",
     "execution_count": 135,
     "data": {
      "application/vnd.deepnote.dataframe.v3+json": {
       "column_count": 21,
       "row_count": 50,
       "columns": [
        {
         "name": "mean_fit_time",
         "dtype": "float64",
         "stats": {
          "unique_count": 50,
          "nan_count": 0,
          "min": "0.06119904518127441",
          "max": "1.070906162261963",
          "histogram": [
           {
            "bin_start": 0.06119904518127441,
            "bin_end": 0.16216975688934326,
            "count": 12
           },
           {
            "bin_start": 0.16216975688934326,
            "bin_end": 0.2631404685974121,
            "count": 7
           },
           {
            "bin_start": 0.2631404685974121,
            "bin_end": 0.36411118030548095,
            "count": 7
           },
           {
            "bin_start": 0.36411118030548095,
            "bin_end": 0.46508189201354977,
            "count": 3
           },
           {
            "bin_start": 0.46508189201354977,
            "bin_end": 0.5660526037216186,
            "count": 9
           },
           {
            "bin_start": 0.5660526037216186,
            "bin_end": 0.6670233154296875,
            "count": 5
           },
           {
            "bin_start": 0.6670233154296875,
            "bin_end": 0.7679940271377563,
            "count": 2
           },
           {
            "bin_start": 0.7679940271377563,
            "bin_end": 0.8689647388458251,
            "count": 2
           },
           {
            "bin_start": 0.8689647388458251,
            "bin_end": 0.969935450553894,
            "count": 2
           },
           {
            "bin_start": 0.969935450553894,
            "bin_end": 1.070906162261963,
            "count": 1
           }
          ]
         }
        },
        {
         "name": "std_fit_time",
         "dtype": "float64",
         "stats": {
          "unique_count": 50,
          "nan_count": 0,
          "min": "0.005640539889891685",
          "max": "0.16071085031844154",
          "histogram": [
           {
            "bin_start": 0.005640539889891685,
            "bin_end": 0.02114757093274667,
            "count": 9
           },
           {
            "bin_start": 0.02114757093274667,
            "bin_end": 0.03665460197560165,
            "count": 21
           },
           {
            "bin_start": 0.03665460197560165,
            "bin_end": 0.05216163301845664,
            "count": 6
           },
           {
            "bin_start": 0.05216163301845664,
            "bin_end": 0.06766866406131163,
            "count": 4
           },
           {
            "bin_start": 0.06766866406131163,
            "bin_end": 0.08317569510416661,
            "count": 4
           },
           {
            "bin_start": 0.08317569510416661,
            "bin_end": 0.09868272614702159,
            "count": 2
           },
           {
            "bin_start": 0.09868272614702159,
            "bin_end": 0.11418975718987658,
            "count": 0
           },
           {
            "bin_start": 0.11418975718987658,
            "bin_end": 0.12969678823273156,
            "count": 2
           },
           {
            "bin_start": 0.12969678823273156,
            "bin_end": 0.14520381927558654,
            "count": 1
           },
           {
            "bin_start": 0.14520381927558654,
            "bin_end": 0.16071085031844154,
            "count": 1
           }
          ]
         }
        },
        {
         "name": "mean_score_time",
         "dtype": "float64",
         "stats": {
          "unique_count": 50,
          "nan_count": 0,
          "min": "0.0009869098663330077",
          "max": "0.012005233764648437",
          "histogram": [
           {
            "bin_start": 0.0009869098663330077,
            "bin_end": 0.0020887422561645507,
            "count": 41
           },
           {
            "bin_start": 0.0020887422561645507,
            "bin_end": 0.0031905746459960937,
            "count": 0
           },
           {
            "bin_start": 0.0031905746459960937,
            "bin_end": 0.004292407035827637,
            "count": 0
           },
           {
            "bin_start": 0.004292407035827637,
            "bin_end": 0.00539423942565918,
            "count": 0
           },
           {
            "bin_start": 0.00539423942565918,
            "bin_end": 0.006496071815490723,
            "count": 0
           },
           {
            "bin_start": 0.006496071815490723,
            "bin_end": 0.007597904205322265,
            "count": 0
           },
           {
            "bin_start": 0.007597904205322265,
            "bin_end": 0.00869973659515381,
            "count": 0
           },
           {
            "bin_start": 0.00869973659515381,
            "bin_end": 0.009801568984985352,
            "count": 0
           },
           {
            "bin_start": 0.009801568984985352,
            "bin_end": 0.010903401374816895,
            "count": 1
           },
           {
            "bin_start": 0.010903401374816895,
            "bin_end": 0.012005233764648437,
            "count": 8
           }
          ]
         }
        },
        {
         "name": "std_score_time",
         "dtype": "float64",
         "stats": {
          "unique_count": 50,
          "nan_count": 0,
          "min": "2.820909949589327e-05",
          "max": "0.02074621340571681",
          "histogram": [
           {
            "bin_start": 0.00002820909949589327,
            "bin_end": 0.002100009530117985,
            "count": 41
           },
           {
            "bin_start": 0.002100009530117985,
            "bin_end": 0.004171809960740077,
            "count": 0
           },
           {
            "bin_start": 0.004171809960740077,
            "bin_end": 0.0062436103913621685,
            "count": 0
           },
           {
            "bin_start": 0.0062436103913621685,
            "bin_end": 0.00831541082198426,
            "count": 0
           },
           {
            "bin_start": 0.00831541082198426,
            "bin_end": 0.010387211252606353,
            "count": 0
           },
           {
            "bin_start": 0.010387211252606353,
            "bin_end": 0.012459011683228443,
            "count": 0
           },
           {
            "bin_start": 0.012459011683228443,
            "bin_end": 0.014530812113850535,
            "count": 0
           },
           {
            "bin_start": 0.014530812113850535,
            "bin_end": 0.016602612544472626,
            "count": 0
           },
           {
            "bin_start": 0.016602612544472626,
            "bin_end": 0.018674412975094718,
            "count": 0
           },
           {
            "bin_start": 0.018674412975094718,
            "bin_end": 0.02074621340571681,
            "count": 9
           }
          ]
         }
        },
        {
         "name": "param_optimizer__weight_decay",
         "dtype": "object",
         "stats": {
          "unique_count": 3,
          "nan_count": 0,
          "categories": [
           {
            "name": "0.1",
            "count": 18
           },
           {
            "name": "0.001",
            "count": 17
           },
           {
            "name": "0.01",
            "count": 15
           }
          ]
         }
        },
        {
         "name": "param_optimizer__nesterov",
         "dtype": "object",
         "stats": {
          "unique_count": 2,
          "nan_count": 0,
          "categories": [
           {
            "name": "False",
            "count": 26
           },
           {
            "name": "True",
            "count": 24
           }
          ]
         }
        },
        {
         "name": "param_optimizer__momentum",
         "dtype": "object",
         "stats": {
          "unique_count": 3,
          "nan_count": 0,
          "categories": [
           {
            "name": "0.9",
            "count": 18
           },
           {
            "name": "0.95",
            "count": 16
           },
           {
            "name": "0.8",
            "count": 16
           }
          ]
         }
        },
        {
         "name": "param_optimizer",
         "dtype": "object",
         "stats": {
          "unique_count": 1,
          "nan_count": 0,
          "categories": [
           {
            "name": "<class 'torch.optim.sgd.SGD'>",
            "count": 50
           }
          ]
         }
        },
        {
         "name": "param_module__hidden_unit1",
         "dtype": "object",
         "stats": {
          "unique_count": 6,
          "nan_count": 0,
          "categories": [
           {
            "name": "2",
            "count": 11
           },
           {
            "name": "100",
            "count": 10
           },
           {
            "name": "4 others",
            "count": 29
           }
          ]
         }
        },
        {
         "name": "param_max_epochs",
         "dtype": "object",
         "stats": {
          "unique_count": 8,
          "nan_count": 0,
          "categories": [
           {
            "name": "60",
            "count": 8
           },
           {
            "name": "10",
            "count": 8
           },
           {
            "name": "6 others",
            "count": 34
           }
          ]
         }
        },
        {
         "name": "param_lr",
         "dtype": "object",
         "stats": {
          "unique_count": 4,
          "nan_count": 0,
          "categories": [
           {
            "name": "0.0001",
            "count": 15
           },
           {
            "name": "0.01",
            "count": 13
           },
           {
            "name": "2 others",
            "count": 22
           }
          ]
         }
        },
        {
         "name": "param_batch_size",
         "dtype": "object",
         "stats": {
          "unique_count": 4,
          "nan_count": 0,
          "categories": [
           {
            "name": "124",
            "count": 16
           },
           {
            "name": "128",
            "count": 14
           },
           {
            "name": "2 others",
            "count": 20
           }
          ]
         }
        },
        {
         "name": "params",
         "dtype": "object",
         "stats": {
          "unique_count": 50,
          "nan_count": 0,
          "categories": [
           {
            "name": "{'optimizer__weight_decay': 0.001, 'optimizer__nesterov': False, 'optimizer__momentum': 0.9, 'optimizer': <class 'torch.optim.sgd.SGD'>, 'module__hidden_unit1': 3, 'max_epochs': 80, 'lr': 0.1, 'batch_size': 32}",
            "count": 1
           },
           {
            "name": "{'optimizer__weight_decay': 0.001, 'optimizer__nesterov': True, 'optimizer__momentum': 0.9, 'optimizer': <class 'torch.optim.sgd.SGD'>, 'module__hidden_unit1': 100, 'max_epochs': 75, 'lr': 0.01, 'batch_size': 124}",
            "count": 1
           },
           {
            "name": "48 others",
            "count": 48
           }
          ]
         }
        },
        {
         "name": "split0_test_score",
         "dtype": "float64",
         "stats": {
          "unique_count": 7,
          "nan_count": 0,
          "min": "0.28",
          "max": "0.68",
          "histogram": [
           {
            "bin_start": 0.28,
            "bin_end": 0.32,
            "count": 1
           },
           {
            "bin_start": 0.32,
            "bin_end": 0.36000000000000004,
            "count": 0
           },
           {
            "bin_start": 0.36000000000000004,
            "bin_end": 0.4,
            "count": 0
           },
           {
            "bin_start": 0.4,
            "bin_end": 0.44000000000000006,
            "count": 0
           },
           {
            "bin_start": 0.44000000000000006,
            "bin_end": 0.48000000000000004,
            "count": 14
           },
           {
            "bin_start": 0.48000000000000004,
            "bin_end": 0.52,
            "count": 0
           },
           {
            "bin_start": 0.52,
            "bin_end": 0.56,
            "count": 16
           },
           {
            "bin_start": 0.56,
            "bin_end": 0.6000000000000001,
            "count": 9
           },
           {
            "bin_start": 0.6000000000000001,
            "bin_end": 0.64,
            "count": 0
           },
           {
            "bin_start": 0.64,
            "bin_end": 0.68,
            "count": 10
           }
          ]
         }
        },
        {
         "name": "split1_test_score",
         "dtype": "float64",
         "stats": {
          "unique_count": 8,
          "nan_count": 0,
          "min": "0.36",
          "max": "0.72",
          "histogram": [
           {
            "bin_start": 0.36,
            "bin_end": 0.39599999999999996,
            "count": 1
           },
           {
            "bin_start": 0.39599999999999996,
            "bin_end": 0.432,
            "count": 0
           },
           {
            "bin_start": 0.432,
            "bin_end": 0.46799999999999997,
            "count": 1
           },
           {
            "bin_start": 0.46799999999999997,
            "bin_end": 0.504,
            "count": 16
           },
           {
            "bin_start": 0.504,
            "bin_end": 0.54,
            "count": 15
           },
           {
            "bin_start": 0.54,
            "bin_end": 0.576,
            "count": 0
           },
           {
            "bin_start": 0.576,
            "bin_end": 0.612,
            "count": 1
           },
           {
            "bin_start": 0.612,
            "bin_end": 0.6479999999999999,
            "count": 4
           },
           {
            "bin_start": 0.6479999999999999,
            "bin_end": 0.6839999999999999,
            "count": 8
           },
           {
            "bin_start": 0.6839999999999999,
            "bin_end": 0.72,
            "count": 4
           }
          ]
         }
        },
        {
         "name": "split2_test_score",
         "dtype": "float64",
         "stats": {
          "unique_count": 12,
          "nan_count": 0,
          "min": "0.4",
          "max": "0.88",
          "histogram": [
           {
            "bin_start": 0.4,
            "bin_end": 0.448,
            "count": 4
           },
           {
            "bin_start": 0.448,
            "bin_end": 0.496,
            "count": 12
           },
           {
            "bin_start": 0.496,
            "bin_end": 0.544,
            "count": 14
           },
           {
            "bin_start": 0.544,
            "bin_end": 0.5920000000000001,
            "count": 2
           },
           {
            "bin_start": 0.5920000000000001,
            "bin_end": 0.64,
            "count": 3
           },
           {
            "bin_start": 0.64,
            "bin_end": 0.6880000000000001,
            "count": 2
           },
           {
            "bin_start": 0.6880000000000001,
            "bin_end": 0.736,
            "count": 5
           },
           {
            "bin_start": 0.736,
            "bin_end": 0.784,
            "count": 4
           },
           {
            "bin_start": 0.784,
            "bin_end": 0.8320000000000001,
            "count": 3
           },
           {
            "bin_start": 0.8320000000000001,
            "bin_end": 0.88,
            "count": 1
           }
          ]
         }
        },
        {
         "name": "split3_test_score",
         "dtype": "float64",
         "stats": {
          "unique_count": 11,
          "nan_count": 0,
          "min": "0.32",
          "max": "0.88",
          "histogram": [
           {
            "bin_start": 0.32,
            "bin_end": 0.376,
            "count": 1
           },
           {
            "bin_start": 0.376,
            "bin_end": 0.43200000000000005,
            "count": 1
           },
           {
            "bin_start": 0.43200000000000005,
            "bin_end": 0.48800000000000004,
            "count": 11
           },
           {
            "bin_start": 0.48800000000000004,
            "bin_end": 0.544,
            "count": 18
           },
           {
            "bin_start": 0.544,
            "bin_end": 0.6000000000000001,
            "count": 1
           },
           {
            "bin_start": 0.6000000000000001,
            "bin_end": 0.6560000000000001,
            "count": 1
           },
           {
            "bin_start": 0.6560000000000001,
            "bin_end": 0.7120000000000001,
            "count": 2
           },
           {
            "bin_start": 0.7120000000000001,
            "bin_end": 0.768,
            "count": 9
           },
           {
            "bin_start": 0.768,
            "bin_end": 0.8240000000000001,
            "count": 5
           },
           {
            "bin_start": 0.8240000000000001,
            "bin_end": 0.88,
            "count": 1
           }
          ]
         }
        },
        {
         "name": "split4_test_score",
         "dtype": "float64",
         "stats": {
          "unique_count": 6,
          "nan_count": 0,
          "min": "0.4166666666666667",
          "max": "0.75",
          "histogram": [
           {
            "bin_start": 0.4166666666666667,
            "bin_end": 0.45,
            "count": 2
           },
           {
            "bin_start": 0.45,
            "bin_end": 0.48333333333333334,
            "count": 5
           },
           {
            "bin_start": 0.48333333333333334,
            "bin_end": 0.5166666666666667,
            "count": 34
           },
           {
            "bin_start": 0.5166666666666667,
            "bin_end": 0.55,
            "count": 7
           },
           {
            "bin_start": 0.55,
            "bin_end": 0.5833333333333334,
            "count": 0
           },
           {
            "bin_start": 0.5833333333333334,
            "bin_end": 0.6166666666666667,
            "count": 0
           },
           {
            "bin_start": 0.6166666666666667,
            "bin_end": 0.65,
            "count": 1
           },
           {
            "bin_start": 0.65,
            "bin_end": 0.6833333333333333,
            "count": 0
           },
           {
            "bin_start": 0.6833333333333333,
            "bin_end": 0.7166666666666667,
            "count": 0
           },
           {
            "bin_start": 0.7166666666666667,
            "bin_end": 0.75,
            "count": 1
           }
          ]
         }
        },
        {
         "name": "mean_test_score",
         "dtype": "float64",
         "stats": {
          "unique_count": 32,
          "nan_count": 0,
          "min": "0.43600000000000005",
          "max": "0.7083333333333333",
          "histogram": [
           {
            "bin_start": 0.43600000000000005,
            "bin_end": 0.4632333333333334,
            "count": 1
           },
           {
            "bin_start": 0.4632333333333334,
            "bin_end": 0.4904666666666667,
            "count": 5
           },
           {
            "bin_start": 0.4904666666666667,
            "bin_end": 0.5177,
            "count": 15
           },
           {
            "bin_start": 0.5177,
            "bin_end": 0.5449333333333334,
            "count": 9
           },
           {
            "bin_start": 0.5449333333333334,
            "bin_end": 0.5721666666666667,
            "count": 3
           },
           {
            "bin_start": 0.5721666666666667,
            "bin_end": 0.5993999999999999,
            "count": 3
           },
           {
            "bin_start": 0.5993999999999999,
            "bin_end": 0.6266333333333333,
            "count": 5
           },
           {
            "bin_start": 0.6266333333333333,
            "bin_end": 0.6538666666666666,
            "count": 2
           },
           {
            "bin_start": 0.6538666666666666,
            "bin_end": 0.6810999999999999,
            "count": 3
           },
           {
            "bin_start": 0.6810999999999999,
            "bin_end": 0.7083333333333333,
            "count": 4
           }
          ]
         }
        },
        {
         "name": "std_test_score",
         "dtype": "float64",
         "stats": {
          "unique_count": 39,
          "nan_count": 0,
          "min": "0.008000000000000007",
          "max": "0.17155497984935064",
          "histogram": [
           {
            "bin_start": 0.008000000000000007,
            "bin_end": 0.02435549798493507,
            "count": 15
           },
           {
            "bin_start": 0.02435549798493507,
            "bin_end": 0.040710995969870135,
            "count": 3
           },
           {
            "bin_start": 0.040710995969870135,
            "bin_end": 0.0570664939548052,
            "count": 4
           },
           {
            "bin_start": 0.0570664939548052,
            "bin_end": 0.07342199193974026,
            "count": 4
           },
           {
            "bin_start": 0.07342199193974026,
            "bin_end": 0.08977748992467532,
            "count": 7
           },
           {
            "bin_start": 0.08977748992467532,
            "bin_end": 0.1061329879096104,
            "count": 10
           },
           {
            "bin_start": 0.1061329879096104,
            "bin_end": 0.12248848589454546,
            "count": 5
           },
           {
            "bin_start": 0.12248848589454546,
            "bin_end": 0.13884398387948052,
            "count": 1
           },
           {
            "bin_start": 0.13884398387948052,
            "bin_end": 0.1551994818644156,
            "count": 0
           },
           {
            "bin_start": 0.1551994818644156,
            "bin_end": 0.17155497984935064,
            "count": 1
           }
          ]
         }
        },
        {
         "name": "rank_test_score",
         "dtype": "int32",
         "stats": {
          "unique_count": 32,
          "nan_count": 0,
          "min": "1",
          "max": "50",
          "histogram": [
           {
            "bin_start": 1,
            "bin_end": 5.9,
            "count": 5
           },
           {
            "bin_start": 5.9,
            "bin_end": 10.8,
            "count": 5
           },
           {
            "bin_start": 10.8,
            "bin_end": 15.700000000000001,
            "count": 5
           },
           {
            "bin_start": 15.700000000000001,
            "bin_end": 20.6,
            "count": 5
           },
           {
            "bin_start": 20.6,
            "bin_end": 25.5,
            "count": 5
           },
           {
            "bin_start": 25.5,
            "bin_end": 30.400000000000002,
            "count": 6
           },
           {
            "bin_start": 30.400000000000002,
            "bin_end": 35.300000000000004,
            "count": 5
           },
           {
            "bin_start": 35.300000000000004,
            "bin_end": 40.2,
            "count": 5
           },
           {
            "bin_start": 40.2,
            "bin_end": 45.1,
            "count": 6
           },
           {
            "bin_start": 45.1,
            "bin_end": 50,
            "count": 3
           }
          ]
         }
        },
        {
         "name": "_deepnote_index_column",
         "dtype": "int64"
        }
       ],
       "rows": [
        {
         "mean_fit_time": 0.7922730445861816,
         "std_fit_time": 0.13675162781198685,
         "mean_score_time": 0.0013511180877685547,
         "std_score_time": 0.0003010469773432938,
         "param_optimizer__weight_decay": "0.001",
         "param_optimizer__nesterov": "False",
         "param_optimizer__momentum": "0.9",
         "param_optimizer": "<class 'torch.optim.sgd.SGD'>",
         "param_module__hidden_unit1": "3",
         "param_max_epochs": "80",
         "param_lr": "0.1",
         "param_batch_size": "32",
         "params": "{'optimizer__weight_decay': 0.001, 'optimizer__nesterov': False, 'optimizer__momentum': 0.9, 'optim…",
         "split0_test_score": 0.6,
         "split1_test_score": 0.72,
         "split2_test_score": 0.8,
         "split3_test_score": 0.88,
         "split4_test_score": 0.5416666666666666,
         "mean_test_score": 0.7083333333333333,
         "std_test_score": 0.12451684401896977,
         "rank_test_score": 1,
         "_deepnote_index_column": 27
        },
        {
         "mean_fit_time": 0.4442569732666016,
         "std_fit_time": 0.06817680523045934,
         "mean_score_time": 0.01171426773071289,
         "std_score_time": 0.02061856641617384,
         "param_optimizer__weight_decay": "0.001",
         "param_optimizer__nesterov": "True",
         "param_optimizer__momentum": "0.9",
         "param_optimizer": "<class 'torch.optim.sgd.SGD'>",
         "param_module__hidden_unit1": "100",
         "param_max_epochs": "75",
         "param_lr": "0.01",
         "param_batch_size": "124",
         "params": "{'optimizer__weight_decay': 0.001, 'optimizer__nesterov': True, 'optimizer__momentum': 0.9, 'optimi…",
         "split0_test_score": 0.64,
         "split1_test_score": 0.68,
         "split2_test_score": 0.76,
         "split3_test_score": 0.8,
         "split4_test_score": 0.5416666666666666,
         "mean_test_score": 0.6843333333333332,
         "std_test_score": 0.09104089435217808,
         "rank_test_score": 2,
         "_deepnote_index_column": 48
        },
        {
         "mean_fit_time": 0.3282283306121826,
         "std_fit_time": 0.06573153446617026,
         "mean_score_time": 0.0012850284576416016,
         "std_score_time": 0.00026146388029099063,
         "param_optimizer__weight_decay": "0.001",
         "param_optimizer__nesterov": "True",
         "param_optimizer__momentum": "0.95",
         "param_optimizer": "<class 'torch.optim.sgd.SGD'>",
         "param_module__hidden_unit1": "2",
         "param_max_epochs": "60",
         "param_lr": "0.1",
         "param_batch_size": "128",
         "params": "{'optimizer__weight_decay': 0.001, 'optimizer__nesterov': True, 'optimizer__momentum': 0.95, 'optim…",
         "split0_test_score": 0.64,
         "split1_test_score": 0.68,
         "split2_test_score": 0.8,
         "split3_test_score": 0.8,
         "split4_test_score": 0.5,
         "mean_test_score": 0.6839999999999999,
         "std_test_score": 0.11200000000000002,
         "rank_test_score": 3,
         "_deepnote_index_column": 2
        },
        {
         "mean_fit_time": 0.6122976303100586,
         "std_fit_time": 0.05240671833109729,
         "mean_score_time": 0.001394510269165039,
         "std_score_time": 0.00023396490274540512,
         "param_optimizer__weight_decay": "0.001",
         "param_optimizer__nesterov": "True",
         "param_optimizer__momentum": "0.8",
         "param_optimizer": "<class 'torch.optim.sgd.SGD'>",
         "param_module__hidden_unit1": "50",
         "param_max_epochs": "100",
         "param_lr": "0.01",
         "param_batch_size": "124",
         "params": "{'optimizer__weight_decay': 0.001, 'optimizer__nesterov': True, 'optimizer__momentum': 0.8, 'optimi…",
         "split0_test_score": 0.64,
         "split1_test_score": 0.72,
         "split2_test_score": 0.76,
         "split3_test_score": 0.8,
         "split4_test_score": 0.5,
         "mean_test_score": 0.6839999999999999,
         "std_test_score": 0.10613199329137281,
         "rank_test_score": 3,
         "_deepnote_index_column": 38
        },
        {
         "mean_fit_time": 0.612749433517456,
         "std_fit_time": 0.09306130911291902,
         "mean_score_time": 0.0013421535491943359,
         "std_score_time": 0.00022247796149919355,
         "param_optimizer__weight_decay": "0.001",
         "param_optimizer__nesterov": "True",
         "param_optimizer__momentum": "0.9",
         "param_optimizer": "<class 'torch.optim.sgd.SGD'>",
         "param_module__hidden_unit1": "4",
         "param_max_epochs": "80",
         "param_lr": "0.01",
         "param_batch_size": "64",
         "params": "{'optimizer__weight_decay': 0.001, 'optimizer__nesterov': True, 'optimizer__momentum': 0.9, 'optimi…",
         "split0_test_score": 0.56,
         "split1_test_score": 0.64,
         "split2_test_score": 0.8,
         "split3_test_score": 0.8,
         "split4_test_score": 0.5416666666666666,
         "mean_test_score": 0.6683333333333332,
         "std_test_score": 0.11247715817494286,
         "rank_test_score": 5,
         "_deepnote_index_column": 39
        },
        {
         "mean_fit_time": 0.12536754608154296,
         "std_fit_time": 0.02878515070492748,
         "mean_score_time": 0.001192331314086914,
         "std_score_time": 0.0002373465277438323,
         "param_optimizer__weight_decay": "0.01",
         "param_optimizer__nesterov": "True",
         "param_optimizer__momentum": "0.9",
         "param_optimizer": "<class 'torch.optim.sgd.SGD'>",
         "param_module__hidden_unit1": "100",
         "param_max_epochs": "25",
         "param_lr": "0.1",
         "param_batch_size": "124",
         "params": "{'optimizer__weight_decay': 0.01, 'optimizer__nesterov': True, 'optimizer__momentum': 0.9, 'optimiz…",
         "split0_test_score": 0.64,
         "split1_test_score": 0.68,
         "split2_test_score": 0.72,
         "split3_test_score": 0.8,
         "split4_test_score": 0.5,
         "mean_test_score": 0.6679999999999999,
         "std_test_score": 0.09927738916792686,
         "rank_test_score": 6,
         "_deepnote_index_column": 45
        },
        {
         "mean_fit_time": 0.5788546562194824,
         "std_fit_time": 0.023863843992699908,
         "mean_score_time": 0.0015331268310546874,
         "std_score_time": 0.00011292935535170074,
         "param_optimizer__weight_decay": "0.01",
         "param_optimizer__nesterov": "True",
         "param_optimizer__momentum": "0.9",
         "param_optimizer": "<class 'torch.optim.sgd.SGD'>",
         "param_module__hidden_unit1": "4",
         "param_max_epochs": "90",
         "param_lr": "0.1",
         "param_batch_size": "128",
         "params": "{'optimizer__weight_decay': 0.01, 'optimizer__nesterov': True, 'optimizer__momentum': 0.9, 'optimiz…",
         "split0_test_score": 0.64,
         "split1_test_score": 0.68,
         "split2_test_score": 0.76,
         "split3_test_score": 0.76,
         "split4_test_score": 0.4583333333333333,
         "mean_test_score": 0.6596666666666666,
         "std_test_score": 0.11087730957133556,
         "rank_test_score": 7,
         "_deepnote_index_column": 13
        },
        {
         "mean_fit_time": 0.9677525997161865,
         "std_fit_time": 0.16071085031844154,
         "mean_score_time": 0.010694742202758789,
         "std_score_time": 0.01892355545424492,
         "param_optimizer__weight_decay": "0.01",
         "param_optimizer__nesterov": "False",
         "param_optimizer__momentum": "0.9",
         "param_optimizer": "<class 'torch.optim.sgd.SGD'>",
         "param_module__hidden_unit1": "4",
         "param_max_epochs": "100",
         "param_lr": "0.001",
         "param_batch_size": "32",
         "params": "{'optimizer__weight_decay': 0.01, 'optimizer__nesterov': False, 'optimizer__momentum': 0.9, 'optimi…",
         "split0_test_score": 0.64,
         "split1_test_score": 0.64,
         "split2_test_score": 0.72,
         "split3_test_score": 0.76,
         "split4_test_score": 0.5,
         "mean_test_score": 0.6519999999999999,
         "std_test_score": 0.08908422980528036,
         "rank_test_score": 8,
         "_deepnote_index_column": 8
        },
        {
         "mean_fit_time": 0.7530557155609131,
         "std_fit_time": 0.12538752597134828,
         "mean_score_time": 0.0013612747192382813,
         "std_score_time": 0.0003439849057787153,
         "param_optimizer__weight_decay": "0.001",
         "param_optimizer__nesterov": "False",
         "param_optimizer__momentum": "0.9",
         "param_optimizer": "<class 'torch.optim.sgd.SGD'>",
         "param_module__hidden_unit1": "50",
         "param_max_epochs": "100",
         "param_lr": "0.1",
         "param_batch_size": "64",
         "params": "{'optimizer__weight_decay': 0.001, 'optimizer__nesterov': False, 'optimizer__momentum': 0.9, 'optim…",
         "split0_test_score": 0.52,
         "split1_test_score": 0.68,
         "split2_test_score": 0.76,
         "split3_test_score": 0.72,
         "split4_test_score": 0.4583333333333333,
         "mean_test_score": 0.6276666666666667,
         "std_test_score": 0.11750933769043397,
         "rank_test_score": 9,
         "_deepnote_index_column": 47
        },
        {
         "mean_fit_time": 0.49423670768737793,
         "std_fit_time": 0.005640539889891685,
         "mean_score_time": 0.0015394210815429688,
         "std_score_time": 0.00009585083991152072,
         "param_optimizer__weight_decay": "0.1",
         "param_optimizer__nesterov": "True",
         "param_optimizer__momentum": "0.8",
         "param_optimizer": "<class 'torch.optim.sgd.SGD'>",
         "param_module__hidden_unit1": "50",
         "param_max_epochs": "75",
         "param_lr": "0.01",
         "param_batch_size": "124",
         "params": "{'optimizer__weight_decay': 0.1, 'optimizer__nesterov': True, 'optimizer__momentum': 0.8, 'optimize…",
         "split0_test_score": 0.52,
         "split1_test_score": 0.6,
         "split2_test_score": 0.72,
         "split3_test_score": 0.76,
         "split4_test_score": 0.5,
         "mean_test_score": 0.62,
         "std_test_score": 0.10430723848324237,
         "rank_test_score": 10,
         "_deepnote_index_column": 11
        }
       ]
      },
      "text/plain": "    mean_fit_time  std_fit_time  mean_score_time  std_score_time  \\\n0        0.176318      0.030548         0.001274        0.000297   \n1        0.505948      0.090804         0.001287        0.000225   \n2        0.328228      0.065732         0.001285        0.000261   \n3        0.069000      0.027654         0.001133        0.000280   \n4        0.656135      0.120495         0.001473        0.000468   \n5        0.072947      0.020350         0.001453        0.000036   \n6        0.512482      0.077915         0.001195        0.000242   \n7        0.324774      0.051913         0.001182        0.000250   \n8        0.967753      0.160711         0.010695        0.018924   \n9        0.311195      0.071263         0.001332        0.000341   \n10       0.146857      0.039337         0.001045        0.000207   \n11       0.494237      0.005641         0.001539        0.000096   \n12       0.194943      0.006974         0.001432        0.000028   \n13       0.578855      0.023864         0.001533        0.000113   \n14       0.841117      0.024428         0.011828        0.020623   \n15       0.478491      0.020765         0.001496        0.000067   \n16       0.073112      0.021094         0.001470        0.000183   \n17       0.503992      0.005857         0.011771        0.020579   \n18       1.070906      0.026154         0.012005        0.020746   \n19       0.163283      0.026445         0.011682        0.020680   \n20       0.155458      0.022441         0.001512        0.000069   \n21       0.150291      0.026906         0.001446        0.000057   \n22       0.362028      0.025814         0.011821        0.020628   \n23       0.162309      0.024651         0.001446        0.000035   \n24       0.174386      0.020598         0.001552        0.000110   \n25       0.885552      0.044248         0.011775        0.020629   \n26       0.355603      0.050773         0.001381        0.000167   \n27       0.792273      0.136752         0.001351        0.000301   \n28       0.110910      0.045427         0.001381        0.000246   \n29       0.312861      0.054872         0.001245        0.000270   \n30       0.458051      0.079203         0.001335        0.000260   \n31       0.094409      0.034355         0.001461        0.000232   \n32       0.740598      0.028304         0.001555        0.000071   \n33       0.521401      0.020789         0.001567        0.000120   \n34       0.082067      0.021939         0.001373        0.000247   \n35       0.188197      0.021465         0.011839        0.020584   \n36       0.499593      0.006185         0.001509        0.000131   \n37       0.269913      0.021956         0.001542        0.000163   \n38       0.612298      0.052407         0.001395        0.000234   \n39       0.612749      0.093061         0.001342        0.000222   \n40       0.063635      0.025483         0.001474        0.000046   \n41       0.635003      0.030549         0.001490        0.000083   \n42       0.541321      0.028389         0.001585        0.000207   \n43       0.527187      0.025506         0.001464        0.000261   \n44       0.061199      0.026504         0.000987        0.000054   \n45       0.125368      0.028785         0.001192        0.000237   \n46       0.234193      0.043211         0.001249        0.000221   \n47       0.753056      0.125388         0.001361        0.000344   \n48       0.444257      0.068177         0.011714        0.020619   \n49       0.426857      0.059963         0.001347        0.000206   \n\n   param_optimizer__weight_decay param_optimizer__nesterov  \\\n0                            0.1                      True   \n1                           0.01                     False   \n2                          0.001                      True   \n3                          0.001                     False   \n4                            0.1                      True   \n5                            0.1                      True   \n6                           0.01                      True   \n7                            0.1                     False   \n8                           0.01                     False   \n9                            0.1                     False   \n10                          0.01                     False   \n11                           0.1                      True   \n12                          0.01                     False   \n13                          0.01                      True   \n14                         0.001                      True   \n15                          0.01                      True   \n16                         0.001                      True   \n17                          0.01                     False   \n18                           0.1                     False   \n19                          0.01                      True   \n20                           0.1                      True   \n21                         0.001                     False   \n22                           0.1                     False   \n23                         0.001                     False   \n24                         0.001                      True   \n25                           0.1                      True   \n26                         0.001                     False   \n27                         0.001                     False   \n28                           0.1                     False   \n29                           0.1                      True   \n30                           0.1                     False   \n31                         0.001                     False   \n32                         0.001                     False   \n33                           0.1                      True   \n34                         0.001                     False   \n35                           0.1                     False   \n36                           0.1                      True   \n37                          0.01                      True   \n38                         0.001                      True   \n39                         0.001                      True   \n40                          0.01                     False   \n41                          0.01                     False   \n42                           0.1                     False   \n43                          0.01                     False   \n44                         0.001                     False   \n45                          0.01                      True   \n46                           0.1                      True   \n47                         0.001                     False   \n48                         0.001                      True   \n49                          0.01                      True   \n\n   param_optimizer__momentum                param_optimizer  \\\n0                        0.9  <class 'torch.optim.sgd.SGD'>   \n1                        0.8  <class 'torch.optim.sgd.SGD'>   \n2                       0.95  <class 'torch.optim.sgd.SGD'>   \n3                        0.9  <class 'torch.optim.sgd.SGD'>   \n4                        0.8  <class 'torch.optim.sgd.SGD'>   \n5                       0.95  <class 'torch.optim.sgd.SGD'>   \n6                        0.9  <class 'torch.optim.sgd.SGD'>   \n7                       0.95  <class 'torch.optim.sgd.SGD'>   \n8                        0.9  <class 'torch.optim.sgd.SGD'>   \n9                        0.9  <class 'torch.optim.sgd.SGD'>   \n10                       0.8  <class 'torch.optim.sgd.SGD'>   \n11                       0.8  <class 'torch.optim.sgd.SGD'>   \n12                      0.95  <class 'torch.optim.sgd.SGD'>   \n13                       0.9  <class 'torch.optim.sgd.SGD'>   \n14                       0.8  <class 'torch.optim.sgd.SGD'>   \n15                      0.95  <class 'torch.optim.sgd.SGD'>   \n16                       0.8  <class 'torch.optim.sgd.SGD'>   \n17                       0.9  <class 'torch.optim.sgd.SGD'>   \n18                       0.8  <class 'torch.optim.sgd.SGD'>   \n19                       0.8  <class 'torch.optim.sgd.SGD'>   \n20                       0.9  <class 'torch.optim.sgd.SGD'>   \n21                      0.95  <class 'torch.optim.sgd.SGD'>   \n22                       0.9  <class 'torch.optim.sgd.SGD'>   \n23                       0.8  <class 'torch.optim.sgd.SGD'>   \n24                      0.95  <class 'torch.optim.sgd.SGD'>   \n25                       0.9  <class 'torch.optim.sgd.SGD'>   \n26                       0.9  <class 'torch.optim.sgd.SGD'>   \n27                       0.9  <class 'torch.optim.sgd.SGD'>   \n28                       0.8  <class 'torch.optim.sgd.SGD'>   \n29                       0.8  <class 'torch.optim.sgd.SGD'>   \n30                      0.95  <class 'torch.optim.sgd.SGD'>   \n31                      0.95  <class 'torch.optim.sgd.SGD'>   \n32                       0.8  <class 'torch.optim.sgd.SGD'>   \n33                      0.95  <class 'torch.optim.sgd.SGD'>   \n34                      0.95  <class 'torch.optim.sgd.SGD'>   \n35                       0.9  <class 'torch.optim.sgd.SGD'>   \n36                      0.95  <class 'torch.optim.sgd.SGD'>   \n37                      0.95  <class 'torch.optim.sgd.SGD'>   \n38                       0.8  <class 'torch.optim.sgd.SGD'>   \n39                       0.9  <class 'torch.optim.sgd.SGD'>   \n40                       0.9  <class 'torch.optim.sgd.SGD'>   \n41                       0.8  <class 'torch.optim.sgd.SGD'>   \n42                       0.8  <class 'torch.optim.sgd.SGD'>   \n43                      0.95  <class 'torch.optim.sgd.SGD'>   \n44                      0.95  <class 'torch.optim.sgd.SGD'>   \n45                       0.9  <class 'torch.optim.sgd.SGD'>   \n46                      0.95  <class 'torch.optim.sgd.SGD'>   \n47                       0.9  <class 'torch.optim.sgd.SGD'>   \n48                       0.9  <class 'torch.optim.sgd.SGD'>   \n49                       0.8  <class 'torch.optim.sgd.SGD'>   \n\n   param_module__hidden_unit1 param_max_epochs  ... param_batch_size  \\\n0                          50               25  ...               64   \n1                           5               75  ...               64   \n2                           2               60  ...              128   \n3                         100               10  ...               64   \n4                           3               60  ...               32   \n5                           5               10  ...              128   \n6                          50              100  ...              128   \n7                           5               60  ...              128   \n8                           4              100  ...               32   \n9                           4               60  ...              124   \n10                          5               30  ...              128   \n11                         50               75  ...              124   \n12                          4               30  ...              124   \n13                          4               90  ...              128   \n14                          2              100  ...               64   \n15                          3               75  ...              128   \n16                          4               10  ...              124   \n17                          2               80  ...              128   \n18                          2               90  ...               32   \n19                          3               25  ...              128   \n20                          4               25  ...              124   \n21                          2               25  ...              124   \n22                          4               60  ...              128   \n23                          3               25  ...              124   \n24                        100               25  ...              124   \n25                          2               75  ...               32   \n26                         50               60  ...              128   \n27                          3               80  ...               32   \n28                          2               10  ...               32   \n29                        100               30  ...               32   \n30                        100               90  ...              124   \n31                        100               10  ...               64   \n32                          2               60  ...               32   \n33                        100               80  ...              128   \n34                          3               10  ...               64   \n35                        100               30  ...              128   \n36                         50               75  ...              124   \n37                          2               30  ...               64   \n38                         50              100  ...              124   \n39                          4               80  ...               64   \n40                          5               10  ...              128   \n41                          2              100  ...              124   \n42                          4               90  ...              124   \n43                          3               60  ...               64   \n44                          2               10  ...               64   \n45                        100               25  ...              124   \n46                        100               30  ...               64   \n47                         50              100  ...               64   \n48                        100               75  ...              124   \n49                          5               75  ...              124   \n\n                                               params split0_test_score  \\\n0   {'optimizer__weight_decay': 0.1, 'optimizer__n...              0.48   \n1   {'optimizer__weight_decay': 0.01, 'optimizer__...              0.52   \n2   {'optimizer__weight_decay': 0.001, 'optimizer_...              0.64   \n3   {'optimizer__weight_decay': 0.001, 'optimizer_...              0.48   \n4   {'optimizer__weight_decay': 0.1, 'optimizer__n...              0.48   \n5   {'optimizer__weight_decay': 0.1, 'optimizer__n...              0.52   \n6   {'optimizer__weight_decay': 0.01, 'optimizer__...              0.56   \n7   {'optimizer__weight_decay': 0.1, 'optimizer__n...              0.60   \n8   {'optimizer__weight_decay': 0.01, 'optimizer__...              0.64   \n9   {'optimizer__weight_decay': 0.1, 'optimizer__n...              0.52   \n10  {'optimizer__weight_decay': 0.01, 'optimizer__...              0.68   \n11  {'optimizer__weight_decay': 0.1, 'optimizer__n...              0.52   \n12  {'optimizer__weight_decay': 0.01, 'optimizer__...              0.48   \n13  {'optimizer__weight_decay': 0.01, 'optimizer__...              0.64   \n14  {'optimizer__weight_decay': 0.001, 'optimizer_...              0.52   \n15  {'optimizer__weight_decay': 0.01, 'optimizer__...              0.48   \n16  {'optimizer__weight_decay': 0.001, 'optimizer_...              0.48   \n17  {'optimizer__weight_decay': 0.01, 'optimizer__...              0.52   \n18  {'optimizer__weight_decay': 0.1, 'optimizer__n...              0.48   \n19  {'optimizer__weight_decay': 0.01, 'optimizer__...              0.28   \n20  {'optimizer__weight_decay': 0.1, 'optimizer__n...              0.52   \n21  {'optimizer__weight_decay': 0.001, 'optimizer_...              0.48   \n22  {'optimizer__weight_decay': 0.1, 'optimizer__n...              0.52   \n23  {'optimizer__weight_decay': 0.001, 'optimizer_...              0.48   \n24  {'optimizer__weight_decay': 0.001, 'optimizer_...              0.68   \n25  {'optimizer__weight_decay': 0.1, 'optimizer__n...              0.52   \n26  {'optimizer__weight_decay': 0.001, 'optimizer_...              0.48   \n27  {'optimizer__weight_decay': 0.001, 'optimizer_...              0.60   \n28  {'optimizer__weight_decay': 0.1, 'optimizer__n...              0.48   \n29  {'optimizer__weight_decay': 0.1, 'optimizer__n...              0.64   \n30  {'optimizer__weight_decay': 0.1, 'optimizer__n...              0.52   \n31  {'optimizer__weight_decay': 0.001, 'optimizer_...              0.52   \n32  {'optimizer__weight_decay': 0.001, 'optimizer_...              0.60   \n33  {'optimizer__weight_decay': 0.1, 'optimizer__n...              0.64   \n34  {'optimizer__weight_decay': 0.001, 'optimizer_...              0.56   \n35  {'optimizer__weight_decay': 0.1, 'optimizer__n...              0.60   \n36  {'optimizer__weight_decay': 0.1, 'optimizer__n...              0.60   \n37  {'optimizer__weight_decay': 0.01, 'optimizer__...              0.52   \n38  {'optimizer__weight_decay': 0.001, 'optimizer_...              0.64   \n39  {'optimizer__weight_decay': 0.001, 'optimizer_...              0.56   \n40  {'optimizer__weight_decay': 0.01, 'optimizer__...              0.48   \n41  {'optimizer__weight_decay': 0.01, 'optimizer__...              0.48   \n42  {'optimizer__weight_decay': 0.1, 'optimizer__n...              0.48   \n43  {'optimizer__weight_decay': 0.01, 'optimizer__...              0.52   \n44  {'optimizer__weight_decay': 0.001, 'optimizer_...              0.52   \n45  {'optimizer__weight_decay': 0.01, 'optimizer__...              0.64   \n46  {'optimizer__weight_decay': 0.1, 'optimizer__n...              0.52   \n47  {'optimizer__weight_decay': 0.001, 'optimizer_...              0.52   \n48  {'optimizer__weight_decay': 0.001, 'optimizer_...              0.64   \n49  {'optimizer__weight_decay': 0.01, 'optimizer__...              0.56   \n\n    split1_test_score  split2_test_score  split3_test_score  \\\n0                0.52               0.52               0.52   \n1                0.52               0.52               0.52   \n2                0.68               0.80               0.80   \n3                0.48               0.56               0.64   \n4                0.52               0.52               0.48   \n5                0.48               0.48               0.52   \n6                0.52               0.48               0.48   \n7                0.48               0.64               0.48   \n8                0.64               0.72               0.76   \n9                0.48               0.48               0.52   \n10               0.52               0.52               0.52   \n11               0.60               0.72               0.76   \n12               0.72               0.48               0.52   \n13               0.68               0.76               0.76   \n14               0.48               0.48               0.52   \n15               0.52               0.52               0.32   \n16               0.52               0.88               0.72   \n17               0.48               0.52               0.40   \n18               0.48               0.52               0.48   \n19               0.52               0.40               0.48   \n20               0.72               0.48               0.52   \n21               0.52               0.52               0.52   \n22               0.48               0.48               0.48   \n23               0.44               0.52               0.48   \n24               0.52               0.52               0.52   \n25               0.36               0.44               0.52   \n26               0.48               0.52               0.52   \n27               0.72               0.80               0.88   \n28               0.52               0.60               0.60   \n29               0.64               0.48               0.76   \n30               0.68               0.72               0.68   \n31               0.48               0.44               0.72   \n32               0.48               0.68               0.76   \n33               0.68               0.72               0.52   \n34               0.52               0.52               0.52   \n35               0.68               0.60               0.52   \n36               0.64               0.44               0.76   \n37               0.52               0.52               0.52   \n38               0.72               0.76               0.80   \n39               0.64               0.80               0.80   \n40               0.52               0.48               0.52   \n41               0.48               0.56               0.68   \n42               0.48               0.48               0.48   \n43               0.52               0.48               0.48   \n44               0.48               0.52               0.52   \n45               0.68               0.72               0.80   \n46               0.48               0.48               0.48   \n47               0.68               0.76               0.72   \n48               0.68               0.76               0.80   \n49               0.48               0.60               0.48   \n\n    split4_test_score  mean_test_score  std_test_score  rank_test_score  \n0            0.500000         0.508000        0.016000               33  \n1            0.500000         0.516000        0.008000               30  \n2            0.500000         0.684000        0.112000                3  \n3            0.500000         0.532000        0.061449               24  \n4            0.500000         0.500000        0.017889               37  \n5            0.541667         0.508333        0.024449               32  \n6            0.500000         0.508000        0.029933               33  \n7            0.500000         0.540000        0.066933               21  \n8            0.500000         0.652000        0.089084                8  \n9            0.500000         0.500000        0.017889               37  \n10           0.541667         0.556333        0.062400               19  \n11           0.500000         0.620000        0.104307               10  \n12           0.416667         0.523333        0.103752               29  \n13           0.458333         0.659667        0.110877                7  \n14           0.500000         0.500000        0.017889               37  \n15           0.500000         0.468000        0.075472               48  \n16           0.416667         0.603333        0.171555               14  \n17           0.500000         0.484000        0.044542               45  \n18           0.500000         0.492000        0.016000               42  \n19           0.500000         0.436000        0.088000               50  \n20           0.500000         0.548000        0.087270               20  \n21           0.500000         0.508000        0.016000               33  \n22           0.500000         0.492000        0.016000               42  \n23           0.500000         0.484000        0.026533               45  \n24           0.750000         0.598000        0.098061               15  \n25           0.500000         0.468000        0.061449               48  \n26           0.500000         0.500000        0.017889               37  \n27           0.541667         0.708333        0.124517                1  \n28           0.500000         0.540000        0.050596               21  \n29           0.541667         0.612333        0.095752               11  \n30           0.458333         0.611667        0.102946               13  \n31           0.500000         0.532000        0.097652               24  \n32           0.458333         0.595667        0.115218               17  \n33           0.500000         0.612000        0.087270               12  \n34           0.500000         0.524000        0.019596               27  \n35           0.458333         0.571667        0.075968               18  \n36           0.541667         0.596333        0.105958               16  \n37           0.500000         0.516000        0.008000               30  \n38           0.500000         0.684000        0.106132                3  \n39           0.541667         0.668333        0.112477                5  \n40           0.625000         0.525000        0.053104               26  \n41           0.500000         0.540000        0.075895               21  \n42           0.500000         0.484000        0.008000               45  \n43           0.500000         0.500000        0.017889               37  \n44           0.500000         0.508000        0.016000               33  \n45           0.500000         0.668000        0.099277                6  \n46           0.500000         0.492000        0.016000               42  \n47           0.458333         0.627667        0.117509                9  \n48           0.541667         0.684333        0.091041                2  \n49           0.500000         0.524000        0.048000               27  \n\n[50 rows x 21 columns]",
      "text/html": "<div>\n<style scoped>\n    .dataframe tbody tr th:only-of-type {\n        vertical-align: middle;\n    }\n\n    .dataframe tbody tr th {\n        vertical-align: top;\n    }\n\n    .dataframe thead th {\n        text-align: right;\n    }\n</style>\n<table border=\"1\" class=\"dataframe\">\n  <thead>\n    <tr style=\"text-align: right;\">\n      <th></th>\n      <th>mean_fit_time</th>\n      <th>std_fit_time</th>\n      <th>mean_score_time</th>\n      <th>std_score_time</th>\n      <th>param_optimizer__weight_decay</th>\n      <th>param_optimizer__nesterov</th>\n      <th>param_optimizer__momentum</th>\n      <th>param_optimizer</th>\n      <th>param_module__hidden_unit1</th>\n      <th>param_max_epochs</th>\n      <th>...</th>\n      <th>param_batch_size</th>\n      <th>params</th>\n      <th>split0_test_score</th>\n      <th>split1_test_score</th>\n      <th>split2_test_score</th>\n      <th>split3_test_score</th>\n      <th>split4_test_score</th>\n      <th>mean_test_score</th>\n      <th>std_test_score</th>\n      <th>rank_test_score</th>\n    </tr>\n  </thead>\n  <tbody>\n    <tr>\n      <th>0</th>\n      <td>0.176318</td>\n      <td>0.030548</td>\n      <td>0.001274</td>\n      <td>0.000297</td>\n      <td>0.1</td>\n      <td>True</td>\n      <td>0.9</td>\n      <td>&lt;class 'torch.optim.sgd.SGD'&gt;</td>\n      <td>50</td>\n      <td>25</td>\n      <td>...</td>\n      <td>64</td>\n      <td>{'optimizer__weight_decay': 0.1, 'optimizer__n...</td>\n      <td>0.48</td>\n      <td>0.52</td>\n      <td>0.52</td>\n      <td>0.52</td>\n      <td>0.500000</td>\n      <td>0.508000</td>\n      <td>0.016000</td>\n      <td>33</td>\n    </tr>\n    <tr>\n      <th>1</th>\n      <td>0.505948</td>\n      <td>0.090804</td>\n      <td>0.001287</td>\n      <td>0.000225</td>\n      <td>0.01</td>\n      <td>False</td>\n      <td>0.8</td>\n      <td>&lt;class 'torch.optim.sgd.SGD'&gt;</td>\n      <td>5</td>\n      <td>75</td>\n      <td>...</td>\n      <td>64</td>\n      <td>{'optimizer__weight_decay': 0.01, 'optimizer__...</td>\n      <td>0.52</td>\n      <td>0.52</td>\n      <td>0.52</td>\n      <td>0.52</td>\n      <td>0.500000</td>\n      <td>0.516000</td>\n      <td>0.008000</td>\n      <td>30</td>\n    </tr>\n    <tr>\n      <th>2</th>\n      <td>0.328228</td>\n      <td>0.065732</td>\n      <td>0.001285</td>\n      <td>0.000261</td>\n      <td>0.001</td>\n      <td>True</td>\n      <td>0.95</td>\n      <td>&lt;class 'torch.optim.sgd.SGD'&gt;</td>\n      <td>2</td>\n      <td>60</td>\n      <td>...</td>\n      <td>128</td>\n      <td>{'optimizer__weight_decay': 0.001, 'optimizer_...</td>\n      <td>0.64</td>\n      <td>0.68</td>\n      <td>0.80</td>\n      <td>0.80</td>\n      <td>0.500000</td>\n      <td>0.684000</td>\n      <td>0.112000</td>\n      <td>3</td>\n    </tr>\n    <tr>\n      <th>3</th>\n      <td>0.069000</td>\n      <td>0.027654</td>\n      <td>0.001133</td>\n      <td>0.000280</td>\n      <td>0.001</td>\n      <td>False</td>\n      <td>0.9</td>\n      <td>&lt;class 'torch.optim.sgd.SGD'&gt;</td>\n      <td>100</td>\n      <td>10</td>\n      <td>...</td>\n      <td>64</td>\n      <td>{'optimizer__weight_decay': 0.001, 'optimizer_...</td>\n      <td>0.48</td>\n      <td>0.48</td>\n      <td>0.56</td>\n      <td>0.64</td>\n      <td>0.500000</td>\n      <td>0.532000</td>\n      <td>0.061449</td>\n      <td>24</td>\n    </tr>\n    <tr>\n      <th>4</th>\n      <td>0.656135</td>\n      <td>0.120495</td>\n      <td>0.001473</td>\n      <td>0.000468</td>\n      <td>0.1</td>\n      <td>True</td>\n      <td>0.8</td>\n      <td>&lt;class 'torch.optim.sgd.SGD'&gt;</td>\n      <td>3</td>\n      <td>60</td>\n      <td>...</td>\n      <td>32</td>\n      <td>{'optimizer__weight_decay': 0.1, 'optimizer__n...</td>\n      <td>0.48</td>\n      <td>0.52</td>\n      <td>0.52</td>\n      <td>0.48</td>\n      <td>0.500000</td>\n      <td>0.500000</td>\n      <td>0.017889</td>\n      <td>37</td>\n    </tr>\n    <tr>\n      <th>5</th>\n      <td>0.072947</td>\n      <td>0.020350</td>\n      <td>0.001453</td>\n      <td>0.000036</td>\n      <td>0.1</td>\n      <td>True</td>\n      <td>0.95</td>\n      <td>&lt;class 'torch.optim.sgd.SGD'&gt;</td>\n      <td>5</td>\n      <td>10</td>\n      <td>...</td>\n      <td>128</td>\n      <td>{'optimizer__weight_decay': 0.1, 'optimizer__n...</td>\n      <td>0.52</td>\n      <td>0.48</td>\n      <td>0.48</td>\n      <td>0.52</td>\n      <td>0.541667</td>\n      <td>0.508333</td>\n      <td>0.024449</td>\n      <td>32</td>\n    </tr>\n    <tr>\n      <th>6</th>\n      <td>0.512482</td>\n      <td>0.077915</td>\n      <td>0.001195</td>\n      <td>0.000242</td>\n      <td>0.01</td>\n      <td>True</td>\n      <td>0.9</td>\n      <td>&lt;class 'torch.optim.sgd.SGD'&gt;</td>\n      <td>50</td>\n      <td>100</td>\n      <td>...</td>\n      <td>128</td>\n      <td>{'optimizer__weight_decay': 0.01, 'optimizer__...</td>\n      <td>0.56</td>\n      <td>0.52</td>\n      <td>0.48</td>\n      <td>0.48</td>\n      <td>0.500000</td>\n      <td>0.508000</td>\n      <td>0.029933</td>\n      <td>33</td>\n    </tr>\n    <tr>\n      <th>7</th>\n      <td>0.324774</td>\n      <td>0.051913</td>\n      <td>0.001182</td>\n      <td>0.000250</td>\n      <td>0.1</td>\n      <td>False</td>\n      <td>0.95</td>\n      <td>&lt;class 'torch.optim.sgd.SGD'&gt;</td>\n      <td>5</td>\n      <td>60</td>\n      <td>...</td>\n      <td>128</td>\n      <td>{'optimizer__weight_decay': 0.1, 'optimizer__n...</td>\n      <td>0.60</td>\n      <td>0.48</td>\n      <td>0.64</td>\n      <td>0.48</td>\n      <td>0.500000</td>\n      <td>0.540000</td>\n      <td>0.066933</td>\n      <td>21</td>\n    </tr>\n    <tr>\n      <th>8</th>\n      <td>0.967753</td>\n      <td>0.160711</td>\n      <td>0.010695</td>\n      <td>0.018924</td>\n      <td>0.01</td>\n      <td>False</td>\n      <td>0.9</td>\n      <td>&lt;class 'torch.optim.sgd.SGD'&gt;</td>\n      <td>4</td>\n      <td>100</td>\n      <td>...</td>\n      <td>32</td>\n      <td>{'optimizer__weight_decay': 0.01, 'optimizer__...</td>\n      <td>0.64</td>\n      <td>0.64</td>\n      <td>0.72</td>\n      <td>0.76</td>\n      <td>0.500000</td>\n      <td>0.652000</td>\n      <td>0.089084</td>\n      <td>8</td>\n    </tr>\n    <tr>\n      <th>9</th>\n      <td>0.311195</td>\n      <td>0.071263</td>\n      <td>0.001332</td>\n      <td>0.000341</td>\n      <td>0.1</td>\n      <td>False</td>\n      <td>0.9</td>\n      <td>&lt;class 'torch.optim.sgd.SGD'&gt;</td>\n      <td>4</td>\n      <td>60</td>\n      <td>...</td>\n      <td>124</td>\n      <td>{'optimizer__weight_decay': 0.1, 'optimizer__n...</td>\n      <td>0.52</td>\n      <td>0.48</td>\n      <td>0.48</td>\n      <td>0.52</td>\n      <td>0.500000</td>\n      <td>0.500000</td>\n      <td>0.017889</td>\n      <td>37</td>\n    </tr>\n    <tr>\n      <th>10</th>\n      <td>0.146857</td>\n      <td>0.039337</td>\n      <td>0.001045</td>\n      <td>0.000207</td>\n      <td>0.01</td>\n      <td>False</td>\n      <td>0.8</td>\n      <td>&lt;class 'torch.optim.sgd.SGD'&gt;</td>\n      <td>5</td>\n      <td>30</td>\n      <td>...</td>\n      <td>128</td>\n      <td>{'optimizer__weight_decay': 0.01, 'optimizer__...</td>\n      <td>0.68</td>\n      <td>0.52</td>\n      <td>0.52</td>\n      <td>0.52</td>\n      <td>0.541667</td>\n      <td>0.556333</td>\n      <td>0.062400</td>\n      <td>19</td>\n    </tr>\n    <tr>\n      <th>11</th>\n      <td>0.494237</td>\n      <td>0.005641</td>\n      <td>0.001539</td>\n      <td>0.000096</td>\n      <td>0.1</td>\n      <td>True</td>\n      <td>0.8</td>\n      <td>&lt;class 'torch.optim.sgd.SGD'&gt;</td>\n      <td>50</td>\n      <td>75</td>\n      <td>...</td>\n      <td>124</td>\n      <td>{'optimizer__weight_decay': 0.1, 'optimizer__n...</td>\n      <td>0.52</td>\n      <td>0.60</td>\n      <td>0.72</td>\n      <td>0.76</td>\n      <td>0.500000</td>\n      <td>0.620000</td>\n      <td>0.104307</td>\n      <td>10</td>\n    </tr>\n    <tr>\n      <th>12</th>\n      <td>0.194943</td>\n      <td>0.006974</td>\n      <td>0.001432</td>\n      <td>0.000028</td>\n      <td>0.01</td>\n      <td>False</td>\n      <td>0.95</td>\n      <td>&lt;class 'torch.optim.sgd.SGD'&gt;</td>\n      <td>4</td>\n      <td>30</td>\n      <td>...</td>\n      <td>124</td>\n      <td>{'optimizer__weight_decay': 0.01, 'optimizer__...</td>\n      <td>0.48</td>\n      <td>0.72</td>\n      <td>0.48</td>\n      <td>0.52</td>\n      <td>0.416667</td>\n      <td>0.523333</td>\n      <td>0.103752</td>\n      <td>29</td>\n    </tr>\n    <tr>\n      <th>13</th>\n      <td>0.578855</td>\n      <td>0.023864</td>\n      <td>0.001533</td>\n      <td>0.000113</td>\n      <td>0.01</td>\n      <td>True</td>\n      <td>0.9</td>\n      <td>&lt;class 'torch.optim.sgd.SGD'&gt;</td>\n      <td>4</td>\n      <td>90</td>\n      <td>...</td>\n      <td>128</td>\n      <td>{'optimizer__weight_decay': 0.01, 'optimizer__...</td>\n      <td>0.64</td>\n      <td>0.68</td>\n      <td>0.76</td>\n      <td>0.76</td>\n      <td>0.458333</td>\n      <td>0.659667</td>\n      <td>0.110877</td>\n      <td>7</td>\n    </tr>\n    <tr>\n      <th>14</th>\n      <td>0.841117</td>\n      <td>0.024428</td>\n      <td>0.011828</td>\n      <td>0.020623</td>\n      <td>0.001</td>\n      <td>True</td>\n      <td>0.8</td>\n      <td>&lt;class 'torch.optim.sgd.SGD'&gt;</td>\n      <td>2</td>\n      <td>100</td>\n      <td>...</td>\n      <td>64</td>\n      <td>{'optimizer__weight_decay': 0.001, 'optimizer_...</td>\n      <td>0.52</td>\n      <td>0.48</td>\n      <td>0.48</td>\n      <td>0.52</td>\n      <td>0.500000</td>\n      <td>0.500000</td>\n      <td>0.017889</td>\n      <td>37</td>\n    </tr>\n    <tr>\n      <th>15</th>\n      <td>0.478491</td>\n      <td>0.020765</td>\n      <td>0.001496</td>\n      <td>0.000067</td>\n      <td>0.01</td>\n      <td>True</td>\n      <td>0.95</td>\n      <td>&lt;class 'torch.optim.sgd.SGD'&gt;</td>\n      <td>3</td>\n      <td>75</td>\n      <td>...</td>\n      <td>128</td>\n      <td>{'optimizer__weight_decay': 0.01, 'optimizer__...</td>\n      <td>0.48</td>\n      <td>0.52</td>\n      <td>0.52</td>\n      <td>0.32</td>\n      <td>0.500000</td>\n      <td>0.468000</td>\n      <td>0.075472</td>\n      <td>48</td>\n    </tr>\n    <tr>\n      <th>16</th>\n      <td>0.073112</td>\n      <td>0.021094</td>\n      <td>0.001470</td>\n      <td>0.000183</td>\n      <td>0.001</td>\n      <td>True</td>\n      <td>0.8</td>\n      <td>&lt;class 'torch.optim.sgd.SGD'&gt;</td>\n      <td>4</td>\n      <td>10</td>\n      <td>...</td>\n      <td>124</td>\n      <td>{'optimizer__weight_decay': 0.001, 'optimizer_...</td>\n      <td>0.48</td>\n      <td>0.52</td>\n      <td>0.88</td>\n      <td>0.72</td>\n      <td>0.416667</td>\n      <td>0.603333</td>\n      <td>0.171555</td>\n      <td>14</td>\n    </tr>\n    <tr>\n      <th>17</th>\n      <td>0.503992</td>\n      <td>0.005857</td>\n      <td>0.011771</td>\n      <td>0.020579</td>\n      <td>0.01</td>\n      <td>False</td>\n      <td>0.9</td>\n      <td>&lt;class 'torch.optim.sgd.SGD'&gt;</td>\n      <td>2</td>\n      <td>80</td>\n      <td>...</td>\n      <td>128</td>\n      <td>{'optimizer__weight_decay': 0.01, 'optimizer__...</td>\n      <td>0.52</td>\n      <td>0.48</td>\n      <td>0.52</td>\n      <td>0.40</td>\n      <td>0.500000</td>\n      <td>0.484000</td>\n      <td>0.044542</td>\n      <td>45</td>\n    </tr>\n    <tr>\n      <th>18</th>\n      <td>1.070906</td>\n      <td>0.026154</td>\n      <td>0.012005</td>\n      <td>0.020746</td>\n      <td>0.1</td>\n      <td>False</td>\n      <td>0.8</td>\n      <td>&lt;class 'torch.optim.sgd.SGD'&gt;</td>\n      <td>2</td>\n      <td>90</td>\n      <td>...</td>\n      <td>32</td>\n      <td>{'optimizer__weight_decay': 0.1, 'optimizer__n...</td>\n      <td>0.48</td>\n      <td>0.48</td>\n      <td>0.52</td>\n      <td>0.48</td>\n      <td>0.500000</td>\n      <td>0.492000</td>\n      <td>0.016000</td>\n      <td>42</td>\n    </tr>\n    <tr>\n      <th>19</th>\n      <td>0.163283</td>\n      <td>0.026445</td>\n      <td>0.011682</td>\n      <td>0.020680</td>\n      <td>0.01</td>\n      <td>True</td>\n      <td>0.8</td>\n      <td>&lt;class 'torch.optim.sgd.SGD'&gt;</td>\n      <td>3</td>\n      <td>25</td>\n      <td>...</td>\n      <td>128</td>\n      <td>{'optimizer__weight_decay': 0.01, 'optimizer__...</td>\n      <td>0.28</td>\n      <td>0.52</td>\n      <td>0.40</td>\n      <td>0.48</td>\n      <td>0.500000</td>\n      <td>0.436000</td>\n      <td>0.088000</td>\n      <td>50</td>\n    </tr>\n    <tr>\n      <th>20</th>\n      <td>0.155458</td>\n      <td>0.022441</td>\n      <td>0.001512</td>\n      <td>0.000069</td>\n      <td>0.1</td>\n      <td>True</td>\n      <td>0.9</td>\n      <td>&lt;class 'torch.optim.sgd.SGD'&gt;</td>\n      <td>4</td>\n      <td>25</td>\n      <td>...</td>\n      <td>124</td>\n      <td>{'optimizer__weight_decay': 0.1, 'optimizer__n...</td>\n      <td>0.52</td>\n      <td>0.72</td>\n      <td>0.48</td>\n      <td>0.52</td>\n      <td>0.500000</td>\n      <td>0.548000</td>\n      <td>0.087270</td>\n      <td>20</td>\n    </tr>\n    <tr>\n      <th>21</th>\n      <td>0.150291</td>\n      <td>0.026906</td>\n      <td>0.001446</td>\n      <td>0.000057</td>\n      <td>0.001</td>\n      <td>False</td>\n      <td>0.95</td>\n      <td>&lt;class 'torch.optim.sgd.SGD'&gt;</td>\n      <td>2</td>\n      <td>25</td>\n      <td>...</td>\n      <td>124</td>\n      <td>{'optimizer__weight_decay': 0.001, 'optimizer_...</td>\n      <td>0.48</td>\n      <td>0.52</td>\n      <td>0.52</td>\n      <td>0.52</td>\n      <td>0.500000</td>\n      <td>0.508000</td>\n      <td>0.016000</td>\n      <td>33</td>\n    </tr>\n    <tr>\n      <th>22</th>\n      <td>0.362028</td>\n      <td>0.025814</td>\n      <td>0.011821</td>\n      <td>0.020628</td>\n      <td>0.1</td>\n      <td>False</td>\n      <td>0.9</td>\n      <td>&lt;class 'torch.optim.sgd.SGD'&gt;</td>\n      <td>4</td>\n      <td>60</td>\n      <td>...</td>\n      <td>128</td>\n      <td>{'optimizer__weight_decay': 0.1, 'optimizer__n...</td>\n      <td>0.52</td>\n      <td>0.48</td>\n      <td>0.48</td>\n      <td>0.48</td>\n      <td>0.500000</td>\n      <td>0.492000</td>\n      <td>0.016000</td>\n      <td>42</td>\n    </tr>\n    <tr>\n      <th>23</th>\n      <td>0.162309</td>\n      <td>0.024651</td>\n      <td>0.001446</td>\n      <td>0.000035</td>\n      <td>0.001</td>\n      <td>False</td>\n      <td>0.8</td>\n      <td>&lt;class 'torch.optim.sgd.SGD'&gt;</td>\n      <td>3</td>\n      <td>25</td>\n      <td>...</td>\n      <td>124</td>\n      <td>{'optimizer__weight_decay': 0.001, 'optimizer_...</td>\n      <td>0.48</td>\n      <td>0.44</td>\n      <td>0.52</td>\n      <td>0.48</td>\n      <td>0.500000</td>\n      <td>0.484000</td>\n      <td>0.026533</td>\n      <td>45</td>\n    </tr>\n    <tr>\n      <th>24</th>\n      <td>0.174386</td>\n      <td>0.020598</td>\n      <td>0.001552</td>\n      <td>0.000110</td>\n      <td>0.001</td>\n      <td>True</td>\n      <td>0.95</td>\n      <td>&lt;class 'torch.optim.sgd.SGD'&gt;</td>\n      <td>100</td>\n      <td>25</td>\n      <td>...</td>\n      <td>124</td>\n      <td>{'optimizer__weight_decay': 0.001, 'optimizer_...</td>\n      <td>0.68</td>\n      <td>0.52</td>\n      <td>0.52</td>\n      <td>0.52</td>\n      <td>0.750000</td>\n      <td>0.598000</td>\n      <td>0.098061</td>\n      <td>15</td>\n    </tr>\n    <tr>\n      <th>25</th>\n      <td>0.885552</td>\n      <td>0.044248</td>\n      <td>0.011775</td>\n      <td>0.020629</td>\n      <td>0.1</td>\n      <td>True</td>\n      <td>0.9</td>\n      <td>&lt;class 'torch.optim.sgd.SGD'&gt;</td>\n      <td>2</td>\n      <td>75</td>\n      <td>...</td>\n      <td>32</td>\n      <td>{'optimizer__weight_decay': 0.1, 'optimizer__n...</td>\n      <td>0.52</td>\n      <td>0.36</td>\n      <td>0.44</td>\n      <td>0.52</td>\n      <td>0.500000</td>\n      <td>0.468000</td>\n      <td>0.061449</td>\n      <td>48</td>\n    </tr>\n    <tr>\n      <th>26</th>\n      <td>0.355603</td>\n      <td>0.050773</td>\n      <td>0.001381</td>\n      <td>0.000167</td>\n      <td>0.001</td>\n      <td>False</td>\n      <td>0.9</td>\n      <td>&lt;class 'torch.optim.sgd.SGD'&gt;</td>\n      <td>50</td>\n      <td>60</td>\n      <td>...</td>\n      <td>128</td>\n      <td>{'optimizer__weight_decay': 0.001, 'optimizer_...</td>\n      <td>0.48</td>\n      <td>0.48</td>\n      <td>0.52</td>\n      <td>0.52</td>\n      <td>0.500000</td>\n      <td>0.500000</td>\n      <td>0.017889</td>\n      <td>37</td>\n    </tr>\n    <tr>\n      <th>27</th>\n      <td>0.792273</td>\n      <td>0.136752</td>\n      <td>0.001351</td>\n      <td>0.000301</td>\n      <td>0.001</td>\n      <td>False</td>\n      <td>0.9</td>\n      <td>&lt;class 'torch.optim.sgd.SGD'&gt;</td>\n      <td>3</td>\n      <td>80</td>\n      <td>...</td>\n      <td>32</td>\n      <td>{'optimizer__weight_decay': 0.001, 'optimizer_...</td>\n      <td>0.60</td>\n      <td>0.72</td>\n      <td>0.80</td>\n      <td>0.88</td>\n      <td>0.541667</td>\n      <td>0.708333</td>\n      <td>0.124517</td>\n      <td>1</td>\n    </tr>\n    <tr>\n      <th>28</th>\n      <td>0.110910</td>\n      <td>0.045427</td>\n      <td>0.001381</td>\n      <td>0.000246</td>\n      <td>0.1</td>\n      <td>False</td>\n      <td>0.8</td>\n      <td>&lt;class 'torch.optim.sgd.SGD'&gt;</td>\n      <td>2</td>\n      <td>10</td>\n      <td>...</td>\n      <td>32</td>\n      <td>{'optimizer__weight_decay': 0.1, 'optimizer__n...</td>\n      <td>0.48</td>\n      <td>0.52</td>\n      <td>0.60</td>\n      <td>0.60</td>\n      <td>0.500000</td>\n      <td>0.540000</td>\n      <td>0.050596</td>\n      <td>21</td>\n    </tr>\n    <tr>\n      <th>29</th>\n      <td>0.312861</td>\n      <td>0.054872</td>\n      <td>0.001245</td>\n      <td>0.000270</td>\n      <td>0.1</td>\n      <td>True</td>\n      <td>0.8</td>\n      <td>&lt;class 'torch.optim.sgd.SGD'&gt;</td>\n      <td>100</td>\n      <td>30</td>\n      <td>...</td>\n      <td>32</td>\n      <td>{'optimizer__weight_decay': 0.1, 'optimizer__n...</td>\n      <td>0.64</td>\n      <td>0.64</td>\n      <td>0.48</td>\n      <td>0.76</td>\n      <td>0.541667</td>\n      <td>0.612333</td>\n      <td>0.095752</td>\n      <td>11</td>\n    </tr>\n    <tr>\n      <th>30</th>\n      <td>0.458051</td>\n      <td>0.079203</td>\n      <td>0.001335</td>\n      <td>0.000260</td>\n      <td>0.1</td>\n      <td>False</td>\n      <td>0.95</td>\n      <td>&lt;class 'torch.optim.sgd.SGD'&gt;</td>\n      <td>100</td>\n      <td>90</td>\n      <td>...</td>\n      <td>124</td>\n      <td>{'optimizer__weight_decay': 0.1, 'optimizer__n...</td>\n      <td>0.52</td>\n      <td>0.68</td>\n      <td>0.72</td>\n      <td>0.68</td>\n      <td>0.458333</td>\n      <td>0.611667</td>\n      <td>0.102946</td>\n      <td>13</td>\n    </tr>\n    <tr>\n      <th>31</th>\n      <td>0.094409</td>\n      <td>0.034355</td>\n      <td>0.001461</td>\n      <td>0.000232</td>\n      <td>0.001</td>\n      <td>False</td>\n      <td>0.95</td>\n      <td>&lt;class 'torch.optim.sgd.SGD'&gt;</td>\n      <td>100</td>\n      <td>10</td>\n      <td>...</td>\n      <td>64</td>\n      <td>{'optimizer__weight_decay': 0.001, 'optimizer_...</td>\n      <td>0.52</td>\n      <td>0.48</td>\n      <td>0.44</td>\n      <td>0.72</td>\n      <td>0.500000</td>\n      <td>0.532000</td>\n      <td>0.097652</td>\n      <td>24</td>\n    </tr>\n    <tr>\n      <th>32</th>\n      <td>0.740598</td>\n      <td>0.028304</td>\n      <td>0.001555</td>\n      <td>0.000071</td>\n      <td>0.001</td>\n      <td>False</td>\n      <td>0.8</td>\n      <td>&lt;class 'torch.optim.sgd.SGD'&gt;</td>\n      <td>2</td>\n      <td>60</td>\n      <td>...</td>\n      <td>32</td>\n      <td>{'optimizer__weight_decay': 0.001, 'optimizer_...</td>\n      <td>0.60</td>\n      <td>0.48</td>\n      <td>0.68</td>\n      <td>0.76</td>\n      <td>0.458333</td>\n      <td>0.595667</td>\n      <td>0.115218</td>\n      <td>17</td>\n    </tr>\n    <tr>\n      <th>33</th>\n      <td>0.521401</td>\n      <td>0.020789</td>\n      <td>0.001567</td>\n      <td>0.000120</td>\n      <td>0.1</td>\n      <td>True</td>\n      <td>0.95</td>\n      <td>&lt;class 'torch.optim.sgd.SGD'&gt;</td>\n      <td>100</td>\n      <td>80</td>\n      <td>...</td>\n      <td>128</td>\n      <td>{'optimizer__weight_decay': 0.1, 'optimizer__n...</td>\n      <td>0.64</td>\n      <td>0.68</td>\n      <td>0.72</td>\n      <td>0.52</td>\n      <td>0.500000</td>\n      <td>0.612000</td>\n      <td>0.087270</td>\n      <td>12</td>\n    </tr>\n    <tr>\n      <th>34</th>\n      <td>0.082067</td>\n      <td>0.021939</td>\n      <td>0.001373</td>\n      <td>0.000247</td>\n      <td>0.001</td>\n      <td>False</td>\n      <td>0.95</td>\n      <td>&lt;class 'torch.optim.sgd.SGD'&gt;</td>\n      <td>3</td>\n      <td>10</td>\n      <td>...</td>\n      <td>64</td>\n      <td>{'optimizer__weight_decay': 0.001, 'optimizer_...</td>\n      <td>0.56</td>\n      <td>0.52</td>\n      <td>0.52</td>\n      <td>0.52</td>\n      <td>0.500000</td>\n      <td>0.524000</td>\n      <td>0.019596</td>\n      <td>27</td>\n    </tr>\n    <tr>\n      <th>35</th>\n      <td>0.188197</td>\n      <td>0.021465</td>\n      <td>0.011839</td>\n      <td>0.020584</td>\n      <td>0.1</td>\n      <td>False</td>\n      <td>0.9</td>\n      <td>&lt;class 'torch.optim.sgd.SGD'&gt;</td>\n      <td>100</td>\n      <td>30</td>\n      <td>...</td>\n      <td>128</td>\n      <td>{'optimizer__weight_decay': 0.1, 'optimizer__n...</td>\n      <td>0.60</td>\n      <td>0.68</td>\n      <td>0.60</td>\n      <td>0.52</td>\n      <td>0.458333</td>\n      <td>0.571667</td>\n      <td>0.075968</td>\n      <td>18</td>\n    </tr>\n    <tr>\n      <th>36</th>\n      <td>0.499593</td>\n      <td>0.006185</td>\n      <td>0.001509</td>\n      <td>0.000131</td>\n      <td>0.1</td>\n      <td>True</td>\n      <td>0.95</td>\n      <td>&lt;class 'torch.optim.sgd.SGD'&gt;</td>\n      <td>50</td>\n      <td>75</td>\n      <td>...</td>\n      <td>124</td>\n      <td>{'optimizer__weight_decay': 0.1, 'optimizer__n...</td>\n      <td>0.60</td>\n      <td>0.64</td>\n      <td>0.44</td>\n      <td>0.76</td>\n      <td>0.541667</td>\n      <td>0.596333</td>\n      <td>0.105958</td>\n      <td>16</td>\n    </tr>\n    <tr>\n      <th>37</th>\n      <td>0.269913</td>\n      <td>0.021956</td>\n      <td>0.001542</td>\n      <td>0.000163</td>\n      <td>0.01</td>\n      <td>True</td>\n      <td>0.95</td>\n      <td>&lt;class 'torch.optim.sgd.SGD'&gt;</td>\n      <td>2</td>\n      <td>30</td>\n      <td>...</td>\n      <td>64</td>\n      <td>{'optimizer__weight_decay': 0.01, 'optimizer__...</td>\n      <td>0.52</td>\n      <td>0.52</td>\n      <td>0.52</td>\n      <td>0.52</td>\n      <td>0.500000</td>\n      <td>0.516000</td>\n      <td>0.008000</td>\n      <td>30</td>\n    </tr>\n    <tr>\n      <th>38</th>\n      <td>0.612298</td>\n      <td>0.052407</td>\n      <td>0.001395</td>\n      <td>0.000234</td>\n      <td>0.001</td>\n      <td>True</td>\n      <td>0.8</td>\n      <td>&lt;class 'torch.optim.sgd.SGD'&gt;</td>\n      <td>50</td>\n      <td>100</td>\n      <td>...</td>\n      <td>124</td>\n      <td>{'optimizer__weight_decay': 0.001, 'optimizer_...</td>\n      <td>0.64</td>\n      <td>0.72</td>\n      <td>0.76</td>\n      <td>0.80</td>\n      <td>0.500000</td>\n      <td>0.684000</td>\n      <td>0.106132</td>\n      <td>3</td>\n    </tr>\n    <tr>\n      <th>39</th>\n      <td>0.612749</td>\n      <td>0.093061</td>\n      <td>0.001342</td>\n      <td>0.000222</td>\n      <td>0.001</td>\n      <td>True</td>\n      <td>0.9</td>\n      <td>&lt;class 'torch.optim.sgd.SGD'&gt;</td>\n      <td>4</td>\n      <td>80</td>\n      <td>...</td>\n      <td>64</td>\n      <td>{'optimizer__weight_decay': 0.001, 'optimizer_...</td>\n      <td>0.56</td>\n      <td>0.64</td>\n      <td>0.80</td>\n      <td>0.80</td>\n      <td>0.541667</td>\n      <td>0.668333</td>\n      <td>0.112477</td>\n      <td>5</td>\n    </tr>\n    <tr>\n      <th>40</th>\n      <td>0.063635</td>\n      <td>0.025483</td>\n      <td>0.001474</td>\n      <td>0.000046</td>\n      <td>0.01</td>\n      <td>False</td>\n      <td>0.9</td>\n      <td>&lt;class 'torch.optim.sgd.SGD'&gt;</td>\n      <td>5</td>\n      <td>10</td>\n      <td>...</td>\n      <td>128</td>\n      <td>{'optimizer__weight_decay': 0.01, 'optimizer__...</td>\n      <td>0.48</td>\n      <td>0.52</td>\n      <td>0.48</td>\n      <td>0.52</td>\n      <td>0.625000</td>\n      <td>0.525000</td>\n      <td>0.053104</td>\n      <td>26</td>\n    </tr>\n    <tr>\n      <th>41</th>\n      <td>0.635003</td>\n      <td>0.030549</td>\n      <td>0.001490</td>\n      <td>0.000083</td>\n      <td>0.01</td>\n      <td>False</td>\n      <td>0.8</td>\n      <td>&lt;class 'torch.optim.sgd.SGD'&gt;</td>\n      <td>2</td>\n      <td>100</td>\n      <td>...</td>\n      <td>124</td>\n      <td>{'optimizer__weight_decay': 0.01, 'optimizer__...</td>\n      <td>0.48</td>\n      <td>0.48</td>\n      <td>0.56</td>\n      <td>0.68</td>\n      <td>0.500000</td>\n      <td>0.540000</td>\n      <td>0.075895</td>\n      <td>21</td>\n    </tr>\n    <tr>\n      <th>42</th>\n      <td>0.541321</td>\n      <td>0.028389</td>\n      <td>0.001585</td>\n      <td>0.000207</td>\n      <td>0.1</td>\n      <td>False</td>\n      <td>0.8</td>\n      <td>&lt;class 'torch.optim.sgd.SGD'&gt;</td>\n      <td>4</td>\n      <td>90</td>\n      <td>...</td>\n      <td>124</td>\n      <td>{'optimizer__weight_decay': 0.1, 'optimizer__n...</td>\n      <td>0.48</td>\n      <td>0.48</td>\n      <td>0.48</td>\n      <td>0.48</td>\n      <td>0.500000</td>\n      <td>0.484000</td>\n      <td>0.008000</td>\n      <td>45</td>\n    </tr>\n    <tr>\n      <th>43</th>\n      <td>0.527187</td>\n      <td>0.025506</td>\n      <td>0.001464</td>\n      <td>0.000261</td>\n      <td>0.01</td>\n      <td>False</td>\n      <td>0.95</td>\n      <td>&lt;class 'torch.optim.sgd.SGD'&gt;</td>\n      <td>3</td>\n      <td>60</td>\n      <td>...</td>\n      <td>64</td>\n      <td>{'optimizer__weight_decay': 0.01, 'optimizer__...</td>\n      <td>0.52</td>\n      <td>0.52</td>\n      <td>0.48</td>\n      <td>0.48</td>\n      <td>0.500000</td>\n      <td>0.500000</td>\n      <td>0.017889</td>\n      <td>37</td>\n    </tr>\n    <tr>\n      <th>44</th>\n      <td>0.061199</td>\n      <td>0.026504</td>\n      <td>0.000987</td>\n      <td>0.000054</td>\n      <td>0.001</td>\n      <td>False</td>\n      <td>0.95</td>\n      <td>&lt;class 'torch.optim.sgd.SGD'&gt;</td>\n      <td>2</td>\n      <td>10</td>\n      <td>...</td>\n      <td>64</td>\n      <td>{'optimizer__weight_decay': 0.001, 'optimizer_...</td>\n      <td>0.52</td>\n      <td>0.48</td>\n      <td>0.52</td>\n      <td>0.52</td>\n      <td>0.500000</td>\n      <td>0.508000</td>\n      <td>0.016000</td>\n      <td>33</td>\n    </tr>\n    <tr>\n      <th>45</th>\n      <td>0.125368</td>\n      <td>0.028785</td>\n      <td>0.001192</td>\n      <td>0.000237</td>\n      <td>0.01</td>\n      <td>True</td>\n      <td>0.9</td>\n      <td>&lt;class 'torch.optim.sgd.SGD'&gt;</td>\n      <td>100</td>\n      <td>25</td>\n      <td>...</td>\n      <td>124</td>\n      <td>{'optimizer__weight_decay': 0.01, 'optimizer__...</td>\n      <td>0.64</td>\n      <td>0.68</td>\n      <td>0.72</td>\n      <td>0.80</td>\n      <td>0.500000</td>\n      <td>0.668000</td>\n      <td>0.099277</td>\n      <td>6</td>\n    </tr>\n    <tr>\n      <th>46</th>\n      <td>0.234193</td>\n      <td>0.043211</td>\n      <td>0.001249</td>\n      <td>0.000221</td>\n      <td>0.1</td>\n      <td>True</td>\n      <td>0.95</td>\n      <td>&lt;class 'torch.optim.sgd.SGD'&gt;</td>\n      <td>100</td>\n      <td>30</td>\n      <td>...</td>\n      <td>64</td>\n      <td>{'optimizer__weight_decay': 0.1, 'optimizer__n...</td>\n      <td>0.52</td>\n      <td>0.48</td>\n      <td>0.48</td>\n      <td>0.48</td>\n      <td>0.500000</td>\n      <td>0.492000</td>\n      <td>0.016000</td>\n      <td>42</td>\n    </tr>\n    <tr>\n      <th>47</th>\n      <td>0.753056</td>\n      <td>0.125388</td>\n      <td>0.001361</td>\n      <td>0.000344</td>\n      <td>0.001</td>\n      <td>False</td>\n      <td>0.9</td>\n      <td>&lt;class 'torch.optim.sgd.SGD'&gt;</td>\n      <td>50</td>\n      <td>100</td>\n      <td>...</td>\n      <td>64</td>\n      <td>{'optimizer__weight_decay': 0.001, 'optimizer_...</td>\n      <td>0.52</td>\n      <td>0.68</td>\n      <td>0.76</td>\n      <td>0.72</td>\n      <td>0.458333</td>\n      <td>0.627667</td>\n      <td>0.117509</td>\n      <td>9</td>\n    </tr>\n    <tr>\n      <th>48</th>\n      <td>0.444257</td>\n      <td>0.068177</td>\n      <td>0.011714</td>\n      <td>0.020619</td>\n      <td>0.001</td>\n      <td>True</td>\n      <td>0.9</td>\n      <td>&lt;class 'torch.optim.sgd.SGD'&gt;</td>\n      <td>100</td>\n      <td>75</td>\n      <td>...</td>\n      <td>124</td>\n      <td>{'optimizer__weight_decay': 0.001, 'optimizer_...</td>\n      <td>0.64</td>\n      <td>0.68</td>\n      <td>0.76</td>\n      <td>0.80</td>\n      <td>0.541667</td>\n      <td>0.684333</td>\n      <td>0.091041</td>\n      <td>2</td>\n    </tr>\n    <tr>\n      <th>49</th>\n      <td>0.426857</td>\n      <td>0.059963</td>\n      <td>0.001347</td>\n      <td>0.000206</td>\n      <td>0.01</td>\n      <td>True</td>\n      <td>0.8</td>\n      <td>&lt;class 'torch.optim.sgd.SGD'&gt;</td>\n      <td>5</td>\n      <td>75</td>\n      <td>...</td>\n      <td>124</td>\n      <td>{'optimizer__weight_decay': 0.01, 'optimizer__...</td>\n      <td>0.56</td>\n      <td>0.48</td>\n      <td>0.60</td>\n      <td>0.48</td>\n      <td>0.500000</td>\n      <td>0.524000</td>\n      <td>0.048000</td>\n      <td>27</td>\n    </tr>\n  </tbody>\n</table>\n<p>50 rows × 21 columns</p>\n</div>"
     },
     "metadata": {}
    }
   ]
  },
  {
   "cell_type": "markdown",
   "source": "## Testing model",
   "metadata": {
    "tags": [],
    "cell_id": "00026-7f453bef-ded0-4732-810b-20d3c0a65f61",
    "deepnote_cell_type": "markdown"
   }
  },
  {
   "cell_type": "code",
   "metadata": {
    "tags": [],
    "cell_id": "00015-7f654a12-910e-44d1-8bbe-60efa1d0e164",
    "deepnote_to_be_reexecuted": false,
    "source_hash": "daf4b890",
    "execution_start": 1641835601864,
    "execution_millis": 409,
    "deepnote_output_heights": [
     174.796875
    ],
    "deepnote_cell_type": "code"
   },
   "source": "#define the model\nmodel = BinaryClassification(X_train_M1.shape[1], 100)\nmodel.to(device)\nprint(model)",
   "execution_count": null,
   "outputs": [
    {
     "output_type": "error",
     "ename": "NameError",
     "evalue": "name 'X_train' is not defined",
     "traceback": [
      "\u001b[0;31m---------------------------------------------------------------------------\u001b[0m",
      "\u001b[0;31mNameError\u001b[0m                                 Traceback (most recent call last)",
      "\u001b[0;32m<ipython-input-70-1058b47289c9>\u001b[0m in \u001b[0;36m<module>\u001b[0;34m\u001b[0m\n\u001b[1;32m      1\u001b[0m \u001b[0;31m#define the model\u001b[0m\u001b[0;34m\u001b[0m\u001b[0;34m\u001b[0m\u001b[0;34m\u001b[0m\u001b[0m\n\u001b[0;32m----> 2\u001b[0;31m \u001b[0mmodel\u001b[0m \u001b[0;34m=\u001b[0m \u001b[0mBinaryClassification\u001b[0m\u001b[0;34m(\u001b[0m\u001b[0mX_train\u001b[0m\u001b[0;34m.\u001b[0m\u001b[0mshape\u001b[0m\u001b[0;34m[\u001b[0m\u001b[0;36m1\u001b[0m\u001b[0;34m]\u001b[0m\u001b[0;34m,\u001b[0m \u001b[0;36m100\u001b[0m\u001b[0;34m)\u001b[0m\u001b[0;34m\u001b[0m\u001b[0;34m\u001b[0m\u001b[0m\n\u001b[0m\u001b[1;32m      3\u001b[0m \u001b[0mmodel\u001b[0m\u001b[0;34m.\u001b[0m\u001b[0mto\u001b[0m\u001b[0;34m(\u001b[0m\u001b[0mdevice\u001b[0m\u001b[0;34m)\u001b[0m\u001b[0;34m\u001b[0m\u001b[0;34m\u001b[0m\u001b[0m\n\u001b[1;32m      4\u001b[0m \u001b[0mprint\u001b[0m\u001b[0;34m(\u001b[0m\u001b[0mmodel\u001b[0m\u001b[0;34m)\u001b[0m\u001b[0;34m\u001b[0m\u001b[0;34m\u001b[0m\u001b[0m\n",
      "\u001b[0;31mNameError\u001b[0m: name 'X_train' is not defined"
     ],
     "data": {}
    }
   ]
  },
  {
   "cell_type": "code",
   "metadata": {
    "tags": [],
    "cell_id": "00016-d76470aa-dc34-4fbc-b8f5-59d37b22c425",
    "deepnote_to_be_reexecuted": true,
    "source_hash": "bbc8ae9a",
    "execution_start": 1641827368022,
    "execution_millis": 3,
    "deepnote_cell_type": "code"
   },
   "source": "#define the loss function \nloss_function = nn.BCELoss(reduction='mean')\n#loss_function = nn.MSELoss(reduction='mean')\n#define the optimizer\n#optimizer = torch.optim.SGD(model.parameters(), lr=LEARNING_RATE, momentum=MOMENTUM, weight_decay=L2, dampening=DAMPENING, nesterov=NESTEROV)\noptimizer = torch.optim.Adam(model.parameters(), lr=0.1)",
   "execution_count": null,
   "outputs": []
  },
  {
   "cell_type": "markdown",
   "source": "After that defined the model, we start the training and evaluating process with prefixed number of epochs. Each epoch, we save the results on lists for plotting the train and evaluate trends.  ",
   "metadata": {
    "tags": [],
    "cell_id": "00021-69ccbd5a-7a6d-4a58-8715-f614d751494a",
    "deepnote_cell_type": "markdown"
   }
  },
  {
   "cell_type": "markdown",
   "source": "#prepare empty lists to store accuracy and loss results\nlosses_train = []\naccuracies_train = []\nlosses_test = []\naccuracies_test = []\naccuracy = 0\n\nstudy = optuna.create_study(direction=\"maximize\")\nstudy.optimize(objective, n_trials=100, timeout=600)\n\npruned_trials = study.get_trials(deepcopy=False, states=[TrialState.PRUNED])\ncomplete_trials = study.get_trials(deepcopy=False, states=[TrialState.COMPLETE])\n\nprint(\"Study statistics: \")\nprint(\"  Number of finished trials: \", len(study.trials))\nprint(\"  Number of pruned trials: \", len(pruned_trials))\nprint(\"  Number of complete trials: \", len(complete_trials))\n\nprint(\"Best trial:\")\ntrial = study.best_trial\n\nprint(\"  Value: \", trial.value)\n\nprint(\"  Params: \")\nfor key, value in trial.params.items():\n    print(\"    {}: {}\".format(key, value))\n    \nlosses_train, losses_test, accuracy = tuningHP(trial, model, train_loader, val_loader, EPOCHS, loss_function)\nprint(\"ACCURACY: \", accuracy)",
   "metadata": {
    "tags": [],
    "cell_id": "00027-87fd33d0-12c0-4278-ac9b-65abf93f5555",
    "deepnote_to_be_reexecuted": false,
    "source_hash": "ae124a33",
    "execution_start": 1641825720514,
    "execution_millis": 809,
    "deepnote_cell_type": "markdown"
   }
  },
  {
   "cell_type": "code",
   "metadata": {
    "tags": [],
    "cell_id": "00020-f789de47-d003-4b91-87b4-6645244bd68b",
    "deepnote_to_be_reexecuted": true,
    "source_hash": "443efa0d",
    "execution_start": 1641827368023,
    "execution_millis": 388,
    "deepnote_output_heights": [
     null,
     328.390625
    ],
    "is_code_hidden": false,
    "deepnote_cell_type": "code"
   },
   "source": "#prepare empty lists to store accuracy and loss results\nlosses_train = []\naccuracies_train = []\nlosses_test = []\naccuracies_test = []\n\n#train and evaluate for each epoch\nfor epoch in range(1,EPOCHS+1): \n  # Early stopping\n  last_loss = 1\n  patience = 2\n  trigger_times = 0\n\n  model, losses_train, accuracies_train = TrainPhase(epoch, model, losses_train, accuracies_train, train_loader, loss_function, optimizer)\n  #y_pred_test, losses_test, accuracies_test = Evaluate(epoch, model, losses_test, accuracies_test, test_loader, loss_function)\n  y_pred_test, losses_test, accuracies_test = Evaluate(epoch, model, losses_test, accuracies_test, val_loader, loss_function)\n\n  # Early stopping\n  if losses_test[epoch - 1] > last_loss:\n      trigger_times += 1\n\n      if trigger_times >= patience:\n          print('Early stopping!\\nStart to test process.')\n          break\n  else:\n      trigger_times = 0\n  \n  print(\"##############################\")\n",
   "execution_count": null,
   "outputs": [
    {
     "name": "stdout",
     "text": "TRAIN - Epoch 001: | Loss: 0.73460 | Acc: 53.000\nVALIDATION - Epoch 001: | Loss: 0.69355 | Acc: 50.000\n##############################\nTRAIN - Epoch 002: | Loss: 0.68334 | Acc: 52.500\nVALIDATION - Epoch 002: | Loss: 0.68122 | Acc: 53.000\n##############################\nTRAIN - Epoch 003: | Loss: 0.67967 | Acc: 61.500\nVALIDATION - Epoch 003: | Loss: 0.64935 | Acc: 71.000\n##############################\nTRAIN - Epoch 004: | Loss: 0.59971 | Acc: 70.000\nVALIDATION - Epoch 004: | Loss: 0.60349 | Acc: 66.000\n##############################\nTRAIN - Epoch 005: | Loss: 0.63354 | Acc: 64.500\nVALIDATION - Epoch 005: | Loss: 0.60724 | Acc: 61.000\n##############################\nTRAIN - Epoch 006: | Loss: 0.52248 | Acc: 78.000\nVALIDATION - Epoch 006: | Loss: 0.59101 | Acc: 66.000\n##############################\nTRAIN - Epoch 007: | Loss: 0.57519 | Acc: 69.500\nVALIDATION - Epoch 007: | Loss: 0.56260 | Acc: 71.000\n##############################\nTRAIN - Epoch 008: | Loss: 0.53832 | Acc: 75.000\nVALIDATION - Epoch 008: | Loss: 0.54313 | Acc: 74.000\n##############################\nTRAIN - Epoch 009: | Loss: 0.52780 | Acc: 71.000\nVALIDATION - Epoch 009: | Loss: 0.50927 | Acc: 66.000\n##############################\nTRAIN - Epoch 010: | Loss: 0.49846 | Acc: 76.000\nVALIDATION - Epoch 010: | Loss: 0.46677 | Acc: 74.000\n##############################\nTRAIN - Epoch 011: | Loss: 0.49968 | Acc: 72.500\nVALIDATION - Epoch 011: | Loss: 0.43353 | Acc: 74.000\n##############################\nTRAIN - Epoch 012: | Loss: 0.45529 | Acc: 72.500\nVALIDATION - Epoch 012: | Loss: 0.41378 | Acc: 76.000\n##############################\nTRAIN - Epoch 013: | Loss: 0.48555 | Acc: 76.000\nVALIDATION - Epoch 013: | Loss: 0.39643 | Acc: 76.000\n##############################\nTRAIN - Epoch 014: | Loss: 0.54028 | Acc: 72.500\nVALIDATION - Epoch 014: | Loss: 0.40856 | Acc: 76.000\n##############################\nTRAIN - Epoch 015: | Loss: 0.54347 | Acc: 75.000\nVALIDATION - Epoch 015: | Loss: 0.39412 | Acc: 79.000\n##############################\nTRAIN - Epoch 016: | Loss: 0.46526 | Acc: 71.000\nVALIDATION - Epoch 016: | Loss: 0.40989 | Acc: 76.000\n##############################\nTRAIN - Epoch 017: | Loss: 0.48908 | Acc: 73.000\nVALIDATION - Epoch 017: | Loss: 0.42413 | Acc: 76.000\n##############################\nTRAIN - Epoch 018: | Loss: 0.55422 | Acc: 71.000\nVALIDATION - Epoch 018: | Loss: 0.41253 | Acc: 79.000\n##############################\nTRAIN - Epoch 019: | Loss: 0.46751 | Acc: 76.500\nVALIDATION - Epoch 019: | Loss: 0.39197 | Acc: 79.000\n##############################\nTRAIN - Epoch 020: | Loss: 0.42531 | Acc: 84.000\nVALIDATION - Epoch 020: | Loss: 0.39102 | Acc: 79.000\n##############################\nTRAIN - Epoch 021: | Loss: 0.43613 | Acc: 78.500\nVALIDATION - Epoch 021: | Loss: 0.41262 | Acc: 76.000\n##############################\nTRAIN - Epoch 022: | Loss: 0.47587 | Acc: 75.500\nVALIDATION - Epoch 022: | Loss: 0.40949 | Acc: 76.000\n##############################\nTRAIN - Epoch 023: | Loss: 0.41827 | Acc: 80.500\nVALIDATION - Epoch 023: | Loss: 0.39637 | Acc: 76.000\n##############################\nTRAIN - Epoch 024: | Loss: 0.53682 | Acc: 75.500\nVALIDATION - Epoch 024: | Loss: 0.37251 | Acc: 79.000\n##############################\nTRAIN - Epoch 025: | Loss: 0.47991 | Acc: 76.500\nVALIDATION - Epoch 025: | Loss: 0.35187 | Acc: 79.000\n##############################\nTRAIN - Epoch 026: | Loss: 0.38782 | Acc: 80.000\nVALIDATION - Epoch 026: | Loss: 0.34076 | Acc: 84.000\n##############################\nTRAIN - Epoch 027: | Loss: 0.45133 | Acc: 80.500\nVALIDATION - Epoch 027: | Loss: 0.32858 | Acc: 84.000\n##############################\nTRAIN - Epoch 028: | Loss: 0.32407 | Acc: 82.500\nVALIDATION - Epoch 028: | Loss: 0.31839 | Acc: 89.000\n##############################\nTRAIN - Epoch 029: | Loss: 0.39048 | Acc: 85.000\nVALIDATION - Epoch 029: | Loss: 0.31689 | Acc: 87.000\n##############################\nTRAIN - Epoch 030: | Loss: 0.34297 | Acc: 84.500\nVALIDATION - Epoch 030: | Loss: 0.32830 | Acc: 84.000\n##############################\nTRAIN - Epoch 031: | Loss: 0.37587 | Acc: 83.000\nVALIDATION - Epoch 031: | Loss: 0.30764 | Acc: 87.000\n##############################\nTRAIN - Epoch 032: | Loss: 0.32002 | Acc: 84.500\nVALIDATION - Epoch 032: | Loss: 0.26827 | Acc: 92.000\n##############################\nTRAIN - Epoch 033: | Loss: 0.34427 | Acc: 89.000\nVALIDATION - Epoch 033: | Loss: 0.24570 | Acc: 92.000\n##############################\nTRAIN - Epoch 034: | Loss: 0.30571 | Acc: 87.500\nVALIDATION - Epoch 034: | Loss: 0.24499 | Acc: 92.000\n##############################\nTRAIN - Epoch 035: | Loss: 0.21574 | Acc: 93.500\nVALIDATION - Epoch 035: | Loss: 0.24005 | Acc: 92.000\n##############################\nTRAIN - Epoch 036: | Loss: 0.32283 | Acc: 89.500\nVALIDATION - Epoch 036: | Loss: 0.21424 | Acc: 95.000\n##############################\nTRAIN - Epoch 037: | Loss: 0.24814 | Acc: 93.000\nVALIDATION - Epoch 037: | Loss: 0.17397 | Acc: 95.000\n##############################\nTRAIN - Epoch 038: | Loss: 0.30942 | Acc: 85.500\nVALIDATION - Epoch 038: | Loss: 0.15833 | Acc: 95.000\n##############################\nTRAIN - Epoch 039: | Loss: 0.36100 | Acc: 82.500\nVALIDATION - Epoch 039: | Loss: 0.15509 | Acc: 97.000\n##############################\nTRAIN - Epoch 040: | Loss: 0.19988 | Acc: 95.500\nVALIDATION - Epoch 040: | Loss: 0.18204 | Acc: 97.000\n##############################\nTRAIN - Epoch 041: | Loss: 0.22216 | Acc: 90.000\nVALIDATION - Epoch 041: | Loss: 0.19444 | Acc: 97.000\n##############################\nTRAIN - Epoch 042: | Loss: 0.37504 | Acc: 82.500\nVALIDATION - Epoch 042: | Loss: 0.21992 | Acc: 95.000\n##############################\nTRAIN - Epoch 043: | Loss: 0.20715 | Acc: 93.000\nVALIDATION - Epoch 043: | Loss: 0.22486 | Acc: 95.000\n##############################\nTRAIN - Epoch 044: | Loss: 0.20652 | Acc: 93.500\nVALIDATION - Epoch 044: | Loss: 0.21546 | Acc: 97.000\n##############################\nTRAIN - Epoch 045: | Loss: 0.37780 | Acc: 81.500\nVALIDATION - Epoch 045: | Loss: 0.23199 | Acc: 97.000\n##############################\nTRAIN - Epoch 046: | Loss: 0.27405 | Acc: 86.000\nVALIDATION - Epoch 046: | Loss: 0.24645 | Acc: 97.000\n##############################\nTRAIN - Epoch 047: | Loss: 0.32134 | Acc: 84.500\nVALIDATION - Epoch 047: | Loss: 0.18521 | Acc: 97.000\n##############################\nTRAIN - Epoch 048: | Loss: 0.27550 | Acc: 91.000\nVALIDATION - Epoch 048: | Loss: 0.13003 | Acc: 97.000\n##############################\nTRAIN - Epoch 049: | Loss: 0.41566 | Acc: 85.500\nVALIDATION - Epoch 049: | Loss: 0.10090 | Acc: 97.000\n##############################\nTRAIN - Epoch 050: | Loss: 0.34712 | Acc: 82.500\nVALIDATION - Epoch 050: | Loss: 0.15037 | Acc: 95.000\n##############################\nTRAIN - Epoch 051: | Loss: 0.24044 | Acc: 92.500\nVALIDATION - Epoch 051: | Loss: 0.17054 | Acc: 95.000\n##############################\nTRAIN - Epoch 052: | Loss: 0.29597 | Acc: 85.000\nVALIDATION - Epoch 052: | Loss: 0.19281 | Acc: 95.000\n##############################\nTRAIN - Epoch 053: | Loss: 0.31942 | Acc: 84.500\nVALIDATION - Epoch 053: | Loss: 0.20198 | Acc: 95.000\n##############################\nTRAIN - Epoch 054: | Loss: 0.35180 | Acc: 85.000\nVALIDATION - Epoch 054: | Loss: 0.19570 | Acc: 95.000\n##############################\nTRAIN - Epoch 055: | Loss: 0.59569 | Acc: 79.500\nVALIDATION - Epoch 055: | Loss: 0.17892 | Acc: 95.000\n##############################\nTRAIN - Epoch 056: | Loss: 0.32189 | Acc: 84.000\nVALIDATION - Epoch 056: | Loss: 0.19047 | Acc: 95.000\n##############################\nTRAIN - Epoch 057: | Loss: 0.26994 | Acc: 88.500\nVALIDATION - Epoch 057: | Loss: 0.23503 | Acc: 92.000\n##############################\nTRAIN - Epoch 058: | Loss: 0.32777 | Acc: 85.500\nVALIDATION - Epoch 058: | Loss: 0.28416 | Acc: 92.000\n##############################\nTRAIN - Epoch 059: | Loss: 0.29832 | Acc: 89.500\nVALIDATION - Epoch 059: | Loss: 0.29713 | Acc: 92.000\n##############################\nTRAIN - Epoch 060: | Loss: 0.37538 | Acc: 83.000\nVALIDATION - Epoch 060: | Loss: 0.31693 | Acc: 89.000\n##############################\n",
     "output_type": "stream",
     "data": {}
    }
   ]
  },
  {
   "cell_type": "code",
   "metadata": {
    "tags": [],
    "cell_id": "00028-ff099cc7-b817-4a4e-813f-f070b44b2b13",
    "deepnote_to_be_reexecuted": true,
    "source_hash": "6d5aa883",
    "execution_start": 1641827368412,
    "execution_millis": 4,
    "deepnote_output_heights": [
     558.796875
    ],
    "deepnote_cell_type": "code"
   },
   "source": "#control the accuracy between true and predict values on test data\n#y_true_test = y_test.values.ravel()\n#print(classification_report(y_true_test, y_pred_test))",
   "execution_count": null,
   "outputs": []
  },
  {
   "cell_type": "code",
   "metadata": {
    "tags": [],
    "cell_id": "00029-c65b4294-5f74-491b-88f9-84f59ab8f3b7",
    "deepnote_to_be_reexecuted": true,
    "source_hash": "8b7dd875",
    "execution_start": 1641827368423,
    "execution_millis": 289,
    "deepnote_output_heights": [
     497.96875
    ],
    "deepnote_cell_type": "code"
   },
   "source": "#create a loss plot\nplt.plot(losses_train,'-')\nplt.plot(losses_test,'-.')\nplt.xlabel('Epochs')\nplt.ylabel('Loss')\nplt.legend(['Train','Test'])\nplt.title('Train vs Test Losses')\n \nplt.show()",
   "execution_count": null,
   "outputs": [
    {
     "data": {
      "text/plain": "<Figure size 720x576 with 1 Axes>",
      "image/png": "[encoded data removed]"
     },
     "metadata": {
      "needs_background": "light",
      "image/png": {
       "width": 609,
       "height": 496
      }
     },
     "output_type": "display_data"
    }
   ]
  },
  {
   "cell_type": "code",
   "metadata": {
    "tags": [],
    "cell_id": "00030-d8f3b9bf-df8b-4954-b5f9-3823df788a47",
    "deepnote_to_be_reexecuted": true,
    "source_hash": "4f7d8f58",
    "execution_start": 1641827368815,
    "execution_millis": 260,
    "deepnote_output_heights": [
     497.96875
    ],
    "deepnote_cell_type": "code"
   },
   "source": "#create an accuracy plot\nplt.plot(accuracies_train,'-')\nplt.plot(accuracies_test,'-.')\nplt.xlabel('Epochs')\nplt.ylabel('Accuracy')\nplt.legend(['Train','Test'])\nplt.title('Train vs Test Accuracy')\n \nplt.show()",
   "execution_count": null,
   "outputs": [
    {
     "data": {
      "text/plain": "<Figure size 720x576 with 1 Axes>",
      "image/png": "[encoded data removed]"
     },
     "metadata": {
      "needs_background": "light",
      "image/png": {
       "width": 609,
       "height": 496
      }
     },
     "output_type": "display_data"
    }
   ]
  },
  {
   "cell_type": "code",
   "metadata": {
    "tags": [],
    "cell_id": "00028-8fc78ac4-4813-4007-9a60-e6d559b92058",
    "deepnote_to_be_reexecuted": true,
    "source_hash": "f7b49f7f",
    "execution_start": 1641827369078,
    "execution_millis": 414,
    "deepnote_output_heights": [
     328.390625,
     290
    ],
    "deepnote_cell_type": "code"
   },
   "source": "y_pred_test, losses_test, accuracies_test = Evaluate_Test(model, losses_test, accuracies_test, test_loader, loss_function)\n#control the accuracy between true and predict values on test data\n\ny_true_test = y_test.values.ravel()\nprint(classification_report(y_true_test, y_pred_test))",
   "execution_count": null,
   "outputs": [
    {
     "name": "stdout",
     "text": "TEST - Loss: 0.18134 | Acc: 100.000\n              precision    recall  f1-score   support\n\n           0       0.88      0.95      0.91       216\n           1       0.94      0.87      0.90       216\n\n    accuracy                           0.91       432\n   macro avg       0.91      0.91      0.91       432\nweighted avg       0.91      0.91      0.91       432\n\n",
     "output_type": "stream",
     "data": {}
    }
   ]
  },
  {
   "cell_type": "markdown",
   "source": "### One hot encoding",
   "metadata": {
    "tags": [],
    "cell_id": "00023-86bd7eca-2ace-4dd4-9ebc-80fab39edd07",
    "deepnote_cell_type": "markdown"
   }
  },
  {
   "cell_type": "code",
   "metadata": {
    "tags": [],
    "cell_id": "00023-77fc8d80-79ba-4be6-a235-c8d13efe1f06",
    "deepnote_to_be_reexecuted": true,
    "source_hash": "380ee455",
    "execution_start": 1641827369208,
    "execution_millis": 309,
    "deepnote_cell_type": "code"
   },
   "source": "enc_train = OneHotEncoder()\nenc_train.fit(X_train)\nX_train = enc_train.transform(X_train).toarray()\nprint(X_train.shape)\n\nenc_test = OneHotEncoder()\nenc_test.fit(X_test)\nX_test = enc_test.transform(X_test).toarray()\nprint(X_test.shape)",
   "execution_count": null,
   "outputs": [
    {
     "name": "stdout",
     "text": "(86, 17)\n(432, 17)\n",
     "output_type": "stream",
     "data": {}
    }
   ]
  },
  {
   "cell_type": "markdown",
   "source": "### Loading MONK-2 dataset",
   "metadata": {
    "tags": [],
    "cell_id": "00033-cbb4dbdd-918f-46fe-b1b5-6e76a6a653b8",
    "deepnote_cell_type": "markdown"
   }
  },
  {
   "cell_type": "code",
   "metadata": {
    "tags": [],
    "cell_id": "00034-e0ea567d-b6e5-4b5f-be28-3b11386d3631",
    "deepnote_to_be_reexecuted": true,
    "source_hash": "656b45fe",
    "execution_start": 1641827369218,
    "execution_millis": 9,
    "deepnote_cell_type": "code"
   },
   "source": "df_monk2_train = pd.read_csv('./data/MONK/monks-2.train', sep=\" \", skipinitialspace=True, names=['class','a1','a2','a3','a4','a5','a6','id'])\ndf_monk2_train.drop(labels='id', axis=1, inplace=True)\n\ndf_monk2_test = pd.read_csv('./data/MONK/monks-2.test', sep=\" \", skipinitialspace=True,  names=['class','a1','a2','a3','a4','a5','a6','id'])\ndf_monk2_test.drop(labels='id', axis=1, inplace=True)",
   "execution_count": null,
   "outputs": []
  },
  {
   "cell_type": "code",
   "metadata": {
    "tags": [],
    "cell_id": "00035-1051cf92-6a65-49dd-af16-99bffe59bd4f",
    "deepnote_to_be_reexecuted": true,
    "source_hash": "55cc4d97",
    "execution_start": 1641827369230,
    "execution_millis": 288,
    "deepnote_cell_type": "code"
   },
   "source": "df_monk2_test.head() #first column is the target (can be either 0 or 1)",
   "execution_count": null,
   "outputs": [
    {
     "output_type": "execute_result",
     "execution_count": 30,
     "data": {
      "application/vnd.deepnote.dataframe.v3+json": {
       "column_count": 7,
       "row_count": 5,
       "columns": [
        {
         "name": "class",
         "dtype": "int64",
         "stats": {
          "unique_count": 1,
          "nan_count": 0,
          "min": "0",
          "max": "0",
          "histogram": [
           {
            "bin_start": -0.5,
            "bin_end": -0.4,
            "count": 0
           },
           {
            "bin_start": -0.4,
            "bin_end": -0.3,
            "count": 0
           },
           {
            "bin_start": -0.3,
            "bin_end": -0.19999999999999996,
            "count": 0
           },
           {
            "bin_start": -0.19999999999999996,
            "bin_end": -0.09999999999999998,
            "count": 0
           },
           {
            "bin_start": -0.09999999999999998,
            "bin_end": 0,
            "count": 0
           },
           {
            "bin_start": 0,
            "bin_end": 0.10000000000000009,
            "count": 5
           },
           {
            "bin_start": 0.10000000000000009,
            "bin_end": 0.20000000000000007,
            "count": 0
           },
           {
            "bin_start": 0.20000000000000007,
            "bin_end": 0.30000000000000004,
            "count": 0
           },
           {
            "bin_start": 0.30000000000000004,
            "bin_end": 0.4,
            "count": 0
           },
           {
            "bin_start": 0.4,
            "bin_end": 0.5,
            "count": 0
           }
          ]
         }
        },
        {
         "name": "a1",
         "dtype": "int64",
         "stats": {
          "unique_count": 1,
          "nan_count": 0,
          "min": "1",
          "max": "1",
          "histogram": [
           {
            "bin_start": 0.5,
            "bin_end": 0.6,
            "count": 0
           },
           {
            "bin_start": 0.6,
            "bin_end": 0.7,
            "count": 0
           },
           {
            "bin_start": 0.7,
            "bin_end": 0.8,
            "count": 0
           },
           {
            "bin_start": 0.8,
            "bin_end": 0.9,
            "count": 0
           },
           {
            "bin_start": 0.9,
            "bin_end": 1,
            "count": 0
           },
           {
            "bin_start": 1,
            "bin_end": 1.1,
            "count": 5
           },
           {
            "bin_start": 1.1,
            "bin_end": 1.2000000000000002,
            "count": 0
           },
           {
            "bin_start": 1.2000000000000002,
            "bin_end": 1.3,
            "count": 0
           },
           {
            "bin_start": 1.3,
            "bin_end": 1.4,
            "count": 0
           },
           {
            "bin_start": 1.4,
            "bin_end": 1.5,
            "count": 0
           }
          ]
         }
        },
        {
         "name": "a2",
         "dtype": "int64",
         "stats": {
          "unique_count": 1,
          "nan_count": 0,
          "min": "1",
          "max": "1",
          "histogram": [
           {
            "bin_start": 0.5,
            "bin_end": 0.6,
            "count": 0
           },
           {
            "bin_start": 0.6,
            "bin_end": 0.7,
            "count": 0
           },
           {
            "bin_start": 0.7,
            "bin_end": 0.8,
            "count": 0
           },
           {
            "bin_start": 0.8,
            "bin_end": 0.9,
            "count": 0
           },
           {
            "bin_start": 0.9,
            "bin_end": 1,
            "count": 0
           },
           {
            "bin_start": 1,
            "bin_end": 1.1,
            "count": 5
           },
           {
            "bin_start": 1.1,
            "bin_end": 1.2000000000000002,
            "count": 0
           },
           {
            "bin_start": 1.2000000000000002,
            "bin_end": 1.3,
            "count": 0
           },
           {
            "bin_start": 1.3,
            "bin_end": 1.4,
            "count": 0
           },
           {
            "bin_start": 1.4,
            "bin_end": 1.5,
            "count": 0
           }
          ]
         }
        },
        {
         "name": "a3",
         "dtype": "int64",
         "stats": {
          "unique_count": 1,
          "nan_count": 0,
          "min": "1",
          "max": "1",
          "histogram": [
           {
            "bin_start": 0.5,
            "bin_end": 0.6,
            "count": 0
           },
           {
            "bin_start": 0.6,
            "bin_end": 0.7,
            "count": 0
           },
           {
            "bin_start": 0.7,
            "bin_end": 0.8,
            "count": 0
           },
           {
            "bin_start": 0.8,
            "bin_end": 0.9,
            "count": 0
           },
           {
            "bin_start": 0.9,
            "bin_end": 1,
            "count": 0
           },
           {
            "bin_start": 1,
            "bin_end": 1.1,
            "count": 5
           },
           {
            "bin_start": 1.1,
            "bin_end": 1.2000000000000002,
            "count": 0
           },
           {
            "bin_start": 1.2000000000000002,
            "bin_end": 1.3,
            "count": 0
           },
           {
            "bin_start": 1.3,
            "bin_end": 1.4,
            "count": 0
           },
           {
            "bin_start": 1.4,
            "bin_end": 1.5,
            "count": 0
           }
          ]
         }
        },
        {
         "name": "a4",
         "dtype": "int64",
         "stats": {
          "unique_count": 1,
          "nan_count": 0,
          "min": "1",
          "max": "1",
          "histogram": [
           {
            "bin_start": 0.5,
            "bin_end": 0.6,
            "count": 0
           },
           {
            "bin_start": 0.6,
            "bin_end": 0.7,
            "count": 0
           },
           {
            "bin_start": 0.7,
            "bin_end": 0.8,
            "count": 0
           },
           {
            "bin_start": 0.8,
            "bin_end": 0.9,
            "count": 0
           },
           {
            "bin_start": 0.9,
            "bin_end": 1,
            "count": 0
           },
           {
            "bin_start": 1,
            "bin_end": 1.1,
            "count": 5
           },
           {
            "bin_start": 1.1,
            "bin_end": 1.2000000000000002,
            "count": 0
           },
           {
            "bin_start": 1.2000000000000002,
            "bin_end": 1.3,
            "count": 0
           },
           {
            "bin_start": 1.3,
            "bin_end": 1.4,
            "count": 0
           },
           {
            "bin_start": 1.4,
            "bin_end": 1.5,
            "count": 0
           }
          ]
         }
        },
        {
         "name": "a5",
         "dtype": "int64",
         "stats": {
          "unique_count": 3,
          "nan_count": 0,
          "min": "1",
          "max": "3",
          "histogram": [
           {
            "bin_start": 1,
            "bin_end": 1.2,
            "count": 2
           },
           {
            "bin_start": 1.2,
            "bin_end": 1.4,
            "count": 0
           },
           {
            "bin_start": 1.4,
            "bin_end": 1.6,
            "count": 0
           },
           {
            "bin_start": 1.6,
            "bin_end": 1.8,
            "count": 0
           },
           {
            "bin_start": 1.8,
            "bin_end": 2,
            "count": 0
           },
           {
            "bin_start": 2,
            "bin_end": 2.2,
            "count": 2
           },
           {
            "bin_start": 2.2,
            "bin_end": 2.4000000000000004,
            "count": 0
           },
           {
            "bin_start": 2.4000000000000004,
            "bin_end": 2.6,
            "count": 0
           },
           {
            "bin_start": 2.6,
            "bin_end": 2.8,
            "count": 0
           },
           {
            "bin_start": 2.8,
            "bin_end": 3,
            "count": 1
           }
          ]
         }
        },
        {
         "name": "a6",
         "dtype": "int64",
         "stats": {
          "unique_count": 2,
          "nan_count": 0,
          "min": "1",
          "max": "2",
          "histogram": [
           {
            "bin_start": 1,
            "bin_end": 1.1,
            "count": 3
           },
           {
            "bin_start": 1.1,
            "bin_end": 1.2,
            "count": 0
           },
           {
            "bin_start": 1.2,
            "bin_end": 1.3,
            "count": 0
           },
           {
            "bin_start": 1.3,
            "bin_end": 1.4,
            "count": 0
           },
           {
            "bin_start": 1.4,
            "bin_end": 1.5,
            "count": 0
           },
           {
            "bin_start": 1.5,
            "bin_end": 1.6,
            "count": 0
           },
           {
            "bin_start": 1.6,
            "bin_end": 1.7000000000000002,
            "count": 0
           },
           {
            "bin_start": 1.7000000000000002,
            "bin_end": 1.8,
            "count": 0
           },
           {
            "bin_start": 1.8,
            "bin_end": 1.9,
            "count": 0
           },
           {
            "bin_start": 1.9,
            "bin_end": 2,
            "count": 2
           }
          ]
         }
        },
        {
         "name": "_deepnote_index_column",
         "dtype": "int64"
        }
       ],
       "rows": [
        {
         "class": 0,
         "a1": 1,
         "a2": 1,
         "a3": 1,
         "a4": 1,
         "a5": 1,
         "a6": 1,
         "_deepnote_index_column": 0
        },
        {
         "class": 0,
         "a1": 1,
         "a2": 1,
         "a3": 1,
         "a4": 1,
         "a5": 1,
         "a6": 2,
         "_deepnote_index_column": 1
        },
        {
         "class": 0,
         "a1": 1,
         "a2": 1,
         "a3": 1,
         "a4": 1,
         "a5": 2,
         "a6": 1,
         "_deepnote_index_column": 2
        },
        {
         "class": 0,
         "a1": 1,
         "a2": 1,
         "a3": 1,
         "a4": 1,
         "a5": 2,
         "a6": 2,
         "_deepnote_index_column": 3
        },
        {
         "class": 0,
         "a1": 1,
         "a2": 1,
         "a3": 1,
         "a4": 1,
         "a5": 3,
         "a6": 1,
         "_deepnote_index_column": 4
        }
       ]
      },
      "text/plain": "   class  a1  a2  a3  a4  a5  a6\n0      0   1   1   1   1   1   1\n1      0   1   1   1   1   1   2\n2      0   1   1   1   1   2   1\n3      0   1   1   1   1   2   2\n4      0   1   1   1   1   3   1",
      "text/html": "<div>\n<style scoped>\n    .dataframe tbody tr th:only-of-type {\n        vertical-align: middle;\n    }\n\n    .dataframe tbody tr th {\n        vertical-align: top;\n    }\n\n    .dataframe thead th {\n        text-align: right;\n    }\n</style>\n<table border=\"1\" class=\"dataframe\">\n  <thead>\n    <tr style=\"text-align: right;\">\n      <th></th>\n      <th>class</th>\n      <th>a1</th>\n      <th>a2</th>\n      <th>a3</th>\n      <th>a4</th>\n      <th>a5</th>\n      <th>a6</th>\n    </tr>\n  </thead>\n  <tbody>\n    <tr>\n      <th>0</th>\n      <td>0</td>\n      <td>1</td>\n      <td>1</td>\n      <td>1</td>\n      <td>1</td>\n      <td>1</td>\n      <td>1</td>\n    </tr>\n    <tr>\n      <th>1</th>\n      <td>0</td>\n      <td>1</td>\n      <td>1</td>\n      <td>1</td>\n      <td>1</td>\n      <td>1</td>\n      <td>2</td>\n    </tr>\n    <tr>\n      <th>2</th>\n      <td>0</td>\n      <td>1</td>\n      <td>1</td>\n      <td>1</td>\n      <td>1</td>\n      <td>2</td>\n      <td>1</td>\n    </tr>\n    <tr>\n      <th>3</th>\n      <td>0</td>\n      <td>1</td>\n      <td>1</td>\n      <td>1</td>\n      <td>1</td>\n      <td>2</td>\n      <td>2</td>\n    </tr>\n    <tr>\n      <th>4</th>\n      <td>0</td>\n      <td>1</td>\n      <td>1</td>\n      <td>1</td>\n      <td>1</td>\n      <td>3</td>\n      <td>1</td>\n    </tr>\n  </tbody>\n</table>\n</div>"
     },
     "metadata": {}
    }
   ]
  },
  {
   "cell_type": "code",
   "metadata": {
    "tags": [],
    "cell_id": "00036-13ff0462-e24a-47b9-959f-348a1b518096",
    "deepnote_to_be_reexecuted": true,
    "source_hash": "34bb22a0",
    "execution_start": 1641827369268,
    "execution_millis": 48,
    "deepnote_cell_type": "code"
   },
   "source": "df_monk2_train",
   "execution_count": null,
   "outputs": [
    {
     "output_type": "execute_result",
     "execution_count": 31,
     "data": {
      "application/vnd.deepnote.dataframe.v3+json": {
       "column_count": 7,
       "row_count": 169,
       "columns": [
        {
         "name": "class",
         "dtype": "int64",
         "stats": {
          "unique_count": 2,
          "nan_count": 0,
          "min": "0",
          "max": "1",
          "histogram": [
           {
            "bin_start": 0,
            "bin_end": 0.1,
            "count": 105
           },
           {
            "bin_start": 0.1,
            "bin_end": 0.2,
            "count": 0
           },
           {
            "bin_start": 0.2,
            "bin_end": 0.30000000000000004,
            "count": 0
           },
           {
            "bin_start": 0.30000000000000004,
            "bin_end": 0.4,
            "count": 0
           },
           {
            "bin_start": 0.4,
            "bin_end": 0.5,
            "count": 0
           },
           {
            "bin_start": 0.5,
            "bin_end": 0.6000000000000001,
            "count": 0
           },
           {
            "bin_start": 0.6000000000000001,
            "bin_end": 0.7000000000000001,
            "count": 0
           },
           {
            "bin_start": 0.7000000000000001,
            "bin_end": 0.8,
            "count": 0
           },
           {
            "bin_start": 0.8,
            "bin_end": 0.9,
            "count": 0
           },
           {
            "bin_start": 0.9,
            "bin_end": 1,
            "count": 64
           }
          ]
         }
        },
        {
         "name": "a1",
         "dtype": "int64",
         "stats": {
          "unique_count": 3,
          "nan_count": 0,
          "min": "1",
          "max": "3",
          "histogram": [
           {
            "bin_start": 1,
            "bin_end": 1.2,
            "count": 57
           },
           {
            "bin_start": 1.2,
            "bin_end": 1.4,
            "count": 0
           },
           {
            "bin_start": 1.4,
            "bin_end": 1.6,
            "count": 0
           },
           {
            "bin_start": 1.6,
            "bin_end": 1.8,
            "count": 0
           },
           {
            "bin_start": 1.8,
            "bin_end": 2,
            "count": 0
           },
           {
            "bin_start": 2,
            "bin_end": 2.2,
            "count": 57
           },
           {
            "bin_start": 2.2,
            "bin_end": 2.4000000000000004,
            "count": 0
           },
           {
            "bin_start": 2.4000000000000004,
            "bin_end": 2.6,
            "count": 0
           },
           {
            "bin_start": 2.6,
            "bin_end": 2.8,
            "count": 0
           },
           {
            "bin_start": 2.8,
            "bin_end": 3,
            "count": 55
           }
          ]
         }
        },
        {
         "name": "a2",
         "dtype": "int64",
         "stats": {
          "unique_count": 3,
          "nan_count": 0,
          "min": "1",
          "max": "3",
          "histogram": [
           {
            "bin_start": 1,
            "bin_end": 1.2,
            "count": 55
           },
           {
            "bin_start": 1.2,
            "bin_end": 1.4,
            "count": 0
           },
           {
            "bin_start": 1.4,
            "bin_end": 1.6,
            "count": 0
           },
           {
            "bin_start": 1.6,
            "bin_end": 1.8,
            "count": 0
           },
           {
            "bin_start": 1.8,
            "bin_end": 2,
            "count": 0
           },
           {
            "bin_start": 2,
            "bin_end": 2.2,
            "count": 63
           },
           {
            "bin_start": 2.2,
            "bin_end": 2.4000000000000004,
            "count": 0
           },
           {
            "bin_start": 2.4000000000000004,
            "bin_end": 2.6,
            "count": 0
           },
           {
            "bin_start": 2.6,
            "bin_end": 2.8,
            "count": 0
           },
           {
            "bin_start": 2.8,
            "bin_end": 3,
            "count": 51
           }
          ]
         }
        },
        {
         "name": "a3",
         "dtype": "int64",
         "stats": {
          "unique_count": 2,
          "nan_count": 0,
          "min": "1",
          "max": "2",
          "histogram": [
           {
            "bin_start": 1,
            "bin_end": 1.1,
            "count": 83
           },
           {
            "bin_start": 1.1,
            "bin_end": 1.2,
            "count": 0
           },
           {
            "bin_start": 1.2,
            "bin_end": 1.3,
            "count": 0
           },
           {
            "bin_start": 1.3,
            "bin_end": 1.4,
            "count": 0
           },
           {
            "bin_start": 1.4,
            "bin_end": 1.5,
            "count": 0
           },
           {
            "bin_start": 1.5,
            "bin_end": 1.6,
            "count": 0
           },
           {
            "bin_start": 1.6,
            "bin_end": 1.7000000000000002,
            "count": 0
           },
           {
            "bin_start": 1.7000000000000002,
            "bin_end": 1.8,
            "count": 0
           },
           {
            "bin_start": 1.8,
            "bin_end": 1.9,
            "count": 0
           },
           {
            "bin_start": 1.9,
            "bin_end": 2,
            "count": 86
           }
          ]
         }
        },
        {
         "name": "a4",
         "dtype": "int64",
         "stats": {
          "unique_count": 3,
          "nan_count": 0,
          "min": "1",
          "max": "3",
          "histogram": [
           {
            "bin_start": 1,
            "bin_end": 1.2,
            "count": 54
           },
           {
            "bin_start": 1.2,
            "bin_end": 1.4,
            "count": 0
           },
           {
            "bin_start": 1.4,
            "bin_end": 1.6,
            "count": 0
           },
           {
            "bin_start": 1.6,
            "bin_end": 1.8,
            "count": 0
           },
           {
            "bin_start": 1.8,
            "bin_end": 2,
            "count": 0
           },
           {
            "bin_start": 2,
            "bin_end": 2.2,
            "count": 54
           },
           {
            "bin_start": 2.2,
            "bin_end": 2.4000000000000004,
            "count": 0
           },
           {
            "bin_start": 2.4000000000000004,
            "bin_end": 2.6,
            "count": 0
           },
           {
            "bin_start": 2.6,
            "bin_end": 2.8,
            "count": 0
           },
           {
            "bin_start": 2.8,
            "bin_end": 3,
            "count": 61
           }
          ]
         }
        },
        {
         "name": "a5",
         "dtype": "int64",
         "stats": {
          "unique_count": 4,
          "nan_count": 0,
          "min": "1",
          "max": "4",
          "histogram": [
           {
            "bin_start": 1,
            "bin_end": 1.3,
            "count": 43
           },
           {
            "bin_start": 1.3,
            "bin_end": 1.6,
            "count": 0
           },
           {
            "bin_start": 1.6,
            "bin_end": 1.9,
            "count": 0
           },
           {
            "bin_start": 1.9,
            "bin_end": 2.2,
            "count": 40
           },
           {
            "bin_start": 2.2,
            "bin_end": 2.5,
            "count": 0
           },
           {
            "bin_start": 2.5,
            "bin_end": 2.8,
            "count": 0
           },
           {
            "bin_start": 2.8,
            "bin_end": 3.1,
            "count": 49
           },
           {
            "bin_start": 3.1,
            "bin_end": 3.4,
            "count": 0
           },
           {
            "bin_start": 3.4,
            "bin_end": 3.6999999999999997,
            "count": 0
           },
           {
            "bin_start": 3.6999999999999997,
            "bin_end": 4,
            "count": 37
           }
          ]
         }
        },
        {
         "name": "a6",
         "dtype": "int64",
         "stats": {
          "unique_count": 2,
          "nan_count": 0,
          "min": "1",
          "max": "2",
          "histogram": [
           {
            "bin_start": 1,
            "bin_end": 1.1,
            "count": 84
           },
           {
            "bin_start": 1.1,
            "bin_end": 1.2,
            "count": 0
           },
           {
            "bin_start": 1.2,
            "bin_end": 1.3,
            "count": 0
           },
           {
            "bin_start": 1.3,
            "bin_end": 1.4,
            "count": 0
           },
           {
            "bin_start": 1.4,
            "bin_end": 1.5,
            "count": 0
           },
           {
            "bin_start": 1.5,
            "bin_end": 1.6,
            "count": 0
           },
           {
            "bin_start": 1.6,
            "bin_end": 1.7000000000000002,
            "count": 0
           },
           {
            "bin_start": 1.7000000000000002,
            "bin_end": 1.8,
            "count": 0
           },
           {
            "bin_start": 1.8,
            "bin_end": 1.9,
            "count": 0
           },
           {
            "bin_start": 1.9,
            "bin_end": 2,
            "count": 85
           }
          ]
         }
        },
        {
         "name": "_deepnote_index_column",
         "dtype": "int64"
        }
       ],
       "rows": [
        {
         "class": 0,
         "a1": 1,
         "a2": 1,
         "a3": 1,
         "a4": 1,
         "a5": 2,
         "a6": 2,
         "_deepnote_index_column": 0
        },
        {
         "class": 0,
         "a1": 1,
         "a2": 1,
         "a3": 1,
         "a4": 1,
         "a5": 4,
         "a6": 1,
         "_deepnote_index_column": 1
        },
        {
         "class": 0,
         "a1": 1,
         "a2": 1,
         "a3": 1,
         "a4": 2,
         "a5": 1,
         "a6": 1,
         "_deepnote_index_column": 2
        },
        {
         "class": 0,
         "a1": 1,
         "a2": 1,
         "a3": 1,
         "a4": 2,
         "a5": 1,
         "a6": 2,
         "_deepnote_index_column": 3
        },
        {
         "class": 0,
         "a1": 1,
         "a2": 1,
         "a3": 1,
         "a4": 2,
         "a5": 2,
         "a6": 1,
         "_deepnote_index_column": 4
        },
        {
         "class": 0,
         "a1": 1,
         "a2": 1,
         "a3": 1,
         "a4": 2,
         "a5": 3,
         "a6": 1,
         "_deepnote_index_column": 5
        },
        {
         "class": 0,
         "a1": 1,
         "a2": 1,
         "a3": 1,
         "a4": 2,
         "a5": 4,
         "a6": 1,
         "_deepnote_index_column": 6
        },
        {
         "class": 0,
         "a1": 1,
         "a2": 1,
         "a3": 1,
         "a4": 3,
         "a5": 2,
         "a6": 1,
         "_deepnote_index_column": 7
        },
        {
         "class": 0,
         "a1": 1,
         "a2": 1,
         "a3": 1,
         "a4": 3,
         "a5": 4,
         "a6": 1,
         "_deepnote_index_column": 8
        },
        {
         "class": 0,
         "a1": 1,
         "a2": 1,
         "a3": 2,
         "a4": 1,
         "a5": 1,
         "a6": 1,
         "_deepnote_index_column": 9
        }
       ]
      },
      "text/plain": "     class  a1  a2  a3  a4  a5  a6\n0        0   1   1   1   1   2   2\n1        0   1   1   1   1   4   1\n2        0   1   1   1   2   1   1\n3        0   1   1   1   2   1   2\n4        0   1   1   1   2   2   1\n..     ...  ..  ..  ..  ..  ..  ..\n164      0   3   3   2   2   3   1\n165      0   3   3   2   2   3   2\n166      1   3   3   2   3   1   1\n167      0   3   3   2   3   2   1\n168      0   3   3   2   3   4   2\n\n[169 rows x 7 columns]",
      "text/html": "<div>\n<style scoped>\n    .dataframe tbody tr th:only-of-type {\n        vertical-align: middle;\n    }\n\n    .dataframe tbody tr th {\n        vertical-align: top;\n    }\n\n    .dataframe thead th {\n        text-align: right;\n    }\n</style>\n<table border=\"1\" class=\"dataframe\">\n  <thead>\n    <tr style=\"text-align: right;\">\n      <th></th>\n      <th>class</th>\n      <th>a1</th>\n      <th>a2</th>\n      <th>a3</th>\n      <th>a4</th>\n      <th>a5</th>\n      <th>a6</th>\n    </tr>\n  </thead>\n  <tbody>\n    <tr>\n      <th>0</th>\n      <td>0</td>\n      <td>1</td>\n      <td>1</td>\n      <td>1</td>\n      <td>1</td>\n      <td>2</td>\n      <td>2</td>\n    </tr>\n    <tr>\n      <th>1</th>\n      <td>0</td>\n      <td>1</td>\n      <td>1</td>\n      <td>1</td>\n      <td>1</td>\n      <td>4</td>\n      <td>1</td>\n    </tr>\n    <tr>\n      <th>2</th>\n      <td>0</td>\n      <td>1</td>\n      <td>1</td>\n      <td>1</td>\n      <td>2</td>\n      <td>1</td>\n      <td>1</td>\n    </tr>\n    <tr>\n      <th>3</th>\n      <td>0</td>\n      <td>1</td>\n      <td>1</td>\n      <td>1</td>\n      <td>2</td>\n      <td>1</td>\n      <td>2</td>\n    </tr>\n    <tr>\n      <th>4</th>\n      <td>0</td>\n      <td>1</td>\n      <td>1</td>\n      <td>1</td>\n      <td>2</td>\n      <td>2</td>\n      <td>1</td>\n    </tr>\n    <tr>\n      <th>...</th>\n      <td>...</td>\n      <td>...</td>\n      <td>...</td>\n      <td>...</td>\n      <td>...</td>\n      <td>...</td>\n      <td>...</td>\n    </tr>\n    <tr>\n      <th>164</th>\n      <td>0</td>\n      <td>3</td>\n      <td>3</td>\n      <td>2</td>\n      <td>2</td>\n      <td>3</td>\n      <td>1</td>\n    </tr>\n    <tr>\n      <th>165</th>\n      <td>0</td>\n      <td>3</td>\n      <td>3</td>\n      <td>2</td>\n      <td>2</td>\n      <td>3</td>\n      <td>2</td>\n    </tr>\n    <tr>\n      <th>166</th>\n      <td>1</td>\n      <td>3</td>\n      <td>3</td>\n      <td>2</td>\n      <td>3</td>\n      <td>1</td>\n      <td>1</td>\n    </tr>\n    <tr>\n      <th>167</th>\n      <td>0</td>\n      <td>3</td>\n      <td>3</td>\n      <td>2</td>\n      <td>3</td>\n      <td>2</td>\n      <td>1</td>\n    </tr>\n    <tr>\n      <th>168</th>\n      <td>0</td>\n      <td>3</td>\n      <td>3</td>\n      <td>2</td>\n      <td>3</td>\n      <td>4</td>\n      <td>2</td>\n    </tr>\n  </tbody>\n</table>\n<p>169 rows × 7 columns</p>\n</div>"
     },
     "metadata": {}
    }
   ]
  },
  {
   "cell_type": "code",
   "metadata": {
    "tags": [],
    "cell_id": "00037-e06fef60-36f5-4b4f-9c6c-69104e332421",
    "deepnote_to_be_reexecuted": true,
    "source_hash": "14fbab8f",
    "execution_start": 1641827369324,
    "execution_millis": 235,
    "deepnote_output_heights": [
     null,
     450.96875
    ],
    "deepnote_cell_type": "code"
   },
   "source": "fig_size = plt.rcParams[\"figure.figsize\"]\nfig_size[0] = 10\nfig_size[1] = 8\nplt.rcParams[\"figure.figsize\"] = fig_size\n\ndf_monk2_train['class'].value_counts().plot(kind='pie', autopct='%1.0f%%', colors=['blue', 'yellow'], explode=(0.05, 0.05))",
   "execution_count": null,
   "outputs": [
    {
     "output_type": "execute_result",
     "execution_count": 32,
     "data": {
      "text/plain": "<AxesSubplot:ylabel='class'>"
     },
     "metadata": {}
    },
    {
     "data": {
      "text/plain": "<Figure size 720x576 with 1 Axes>",
      "image/png": "[encoded data removed]"
     },
     "metadata": {
      "image/png": {
       "width": 463,
       "height": 449
      }
     },
     "output_type": "display_data"
    }
   ]
  },
  {
   "cell_type": "code",
   "metadata": {
    "tags": [],
    "cell_id": "00038-b6c65065-78df-467f-9169-1c9224a1fecd",
    "deepnote_to_be_reexecuted": true,
    "source_hash": "dcfcea8c",
    "execution_start": 1641827369559,
    "execution_millis": 126,
    "deepnote_output_heights": [
     21.171875,
     450.96875
    ],
    "deepnote_cell_type": "code"
   },
   "source": "df_monk2_test['class'].value_counts().plot(kind='pie', autopct='%1.0f%%', colors=['blue', 'yellow'], explode=(0.05, 0.05))",
   "execution_count": null,
   "outputs": [
    {
     "output_type": "execute_result",
     "execution_count": 33,
     "data": {
      "text/plain": "<AxesSubplot:ylabel='class'>"
     },
     "metadata": {}
    },
    {
     "data": {
      "text/plain": "<Figure size 720x576 with 1 Axes>",
      "image/png": "[encoded data removed]"
     },
     "metadata": {
      "image/png": {
       "width": 463,
       "height": 449
      }
     },
     "output_type": "display_data"
    }
   ]
  },
  {
   "cell_type": "code",
   "metadata": {
    "tags": [],
    "cell_id": "00039-a9297afc-ce5c-46b3-9344-42efee64e538",
    "deepnote_to_be_reexecuted": true,
    "source_hash": "d8c4c8cf",
    "execution_start": 1641827369704,
    "execution_millis": 0,
    "deepnote_cell_type": "code"
   },
   "source": "target_train = df_monk2_train.pop('class')\ntarget_test = df_monk2_test.pop('class')\nX_train = df_monk2_train\ny_train = target_train\nX_test = df_monk2_test\ny_test = target_test",
   "execution_count": null,
   "outputs": []
  },
  {
   "cell_type": "code",
   "metadata": {
    "tags": [],
    "cell_id": "00040-8ba9586a-e12a-496b-be4c-b20b0d5c7ebf",
    "deepnote_to_be_reexecuted": true,
    "source_hash": "cd4650fc",
    "execution_start": 1641827369705,
    "execution_millis": 0,
    "deepnote_cell_type": "code"
   },
   "source": "X_train = X_train.values #returns a ndarray\nX_test = X_test.values\nx_tensor =  torch.from_numpy(X_train).float()\ny_tensor =  torch.from_numpy(y_train.values.ravel()).float()\nxtest_tensor =  torch.from_numpy(X_test).float()\nytest_tensor =  torch.from_numpy(y_test.values.ravel()).float()",
   "execution_count": null,
   "outputs": []
  },
  {
   "cell_type": "code",
   "metadata": {
    "tags": [],
    "cell_id": "00041-a6b42bfc-e3c8-4b2e-9cc2-5d5fdd053b10",
    "deepnote_to_be_reexecuted": true,
    "source_hash": "8182dfbe",
    "execution_start": 1641827369705,
    "execution_millis": 1,
    "deepnote_output_heights": [
     98
    ],
    "deepnote_cell_type": "code"
   },
   "source": "y_tensor = y_tensor.unsqueeze(1)\ntrain_ds = TensorDataset(x_tensor, y_tensor)\ntrain_loader = DataLoader(train_ds, batch_size=BATCH_SIZE)",
   "execution_count": null,
   "outputs": []
  },
  {
   "cell_type": "code",
   "metadata": {
    "tags": [],
    "cell_id": "00042-aad59af1-4966-4ffa-b88b-e099bc75f767",
    "deepnote_to_be_reexecuted": true,
    "source_hash": "a463a890",
    "execution_start": 1641827369706,
    "execution_millis": 1,
    "deepnote_output_heights": [
     98
    ],
    "deepnote_cell_type": "code"
   },
   "source": "ytest_tensor = ytest_tensor.unsqueeze(1)\ntest_ds = TensorDataset(xtest_tensor, ytest_tensor)\ntest_loader = DataLoader(test_ds, batch_size=64)",
   "execution_count": null,
   "outputs": []
  },
  {
   "cell_type": "code",
   "metadata": {
    "tags": [],
    "cell_id": "00045-ef30cda7-4e7a-44e4-9c7b-037df9c84963",
    "deepnote_to_be_reexecuted": true,
    "source_hash": "4819fb2c",
    "execution_start": 1641827369710,
    "execution_millis": 1,
    "deepnote_cell_type": "code"
   },
   "source": "model = BinaryClassification(X_train.shape[1], 100)",
   "execution_count": null,
   "outputs": []
  },
  {
   "cell_type": "code",
   "metadata": {
    "tags": [],
    "cell_id": "00046-1978e7ed-78dc-4b38-bafc-af2aac1c16cd",
    "deepnote_to_be_reexecuted": true,
    "source_hash": "9a6fcb96",
    "execution_start": 1641827369715,
    "execution_millis": 4,
    "deepnote_cell_type": "code"
   },
   "source": "loss_function = nn.BCELoss()\noptimizer = torch.optim.Adam(model.parameters(), lr=LEARNING_RATE)",
   "execution_count": null,
   "outputs": []
  },
  {
   "cell_type": "code",
   "metadata": {
    "tags": [],
    "cell_id": "00047-6d762c23-4915-4455-870f-eadb19e9214a",
    "deepnote_to_be_reexecuted": true,
    "source_hash": "d6faddd9",
    "execution_start": 1641827369719,
    "execution_millis": 1049,
    "deepnote_cell_type": "code"
   },
   "source": "losses_train = []\naccuracies_train = []\nlosses_test = []\naccuracies_test = []\n\nfor epoch in range(1,EPOCHS+1): \n  model, losses_train, accuracies_train = TrainPhase(epoch, model, losses_train, accuracies_train, train_loader, loss_function, optimizer)\n  y_pred_test, losses_test, accuracies_test = Evaluate(epoch, model, losses_test, accuracies_test, test_loader, loss_function)\n  print(\"##############################\")",
   "execution_count": null,
   "outputs": [
    {
     "name": "stdout",
     "text": "TRAIN - Epoch 001: | Loss: 0.79590 | Acc: 39.667\nVALIDATION - Epoch 001: | Loss: 0.76760 | Acc: 33.000\n##############################\nTRAIN - Epoch 002: | Loss: 0.76880 | Acc: 37.333\nVALIDATION - Epoch 002: | Loss: 0.76498 | Acc: 33.000\n##############################\nTRAIN - Epoch 003: | Loss: 0.74635 | Acc: 40.000\nVALIDATION - Epoch 003: | Loss: 0.76359 | Acc: 33.000\n##############################\nTRAIN - Epoch 004: | Loss: 0.77428 | Acc: 38.333\nVALIDATION - Epoch 004: | Loss: 0.76221 | Acc: 33.000\n##############################\nTRAIN - Epoch 005: | Loss: 0.75678 | Acc: 40.667\nVALIDATION - Epoch 005: | Loss: 0.76075 | Acc: 33.000\n##############################\nTRAIN - Epoch 006: | Loss: 0.75328 | Acc: 39.667\nVALIDATION - Epoch 006: | Loss: 0.75950 | Acc: 33.000\n##############################\nTRAIN - Epoch 007: | Loss: 0.74286 | Acc: 41.667\nVALIDATION - Epoch 007: | Loss: 0.75826 | Acc: 34.000\n##############################\nTRAIN - Epoch 008: | Loss: 0.73807 | Acc: 42.000\nVALIDATION - Epoch 008: | Loss: 0.75714 | Acc: 34.571\n##############################\nTRAIN - Epoch 009: | Loss: 0.74782 | Acc: 40.333\nVALIDATION - Epoch 009: | Loss: 0.75599 | Acc: 34.143\n##############################\nTRAIN - Epoch 010: | Loss: 0.74298 | Acc: 41.333\nVALIDATION - Epoch 010: | Loss: 0.75452 | Acc: 34.429\n##############################\nTRAIN - Epoch 011: | Loss: 0.73384 | Acc: 41.333\nVALIDATION - Epoch 011: | Loss: 0.75289 | Acc: 35.429\n##############################\nTRAIN - Epoch 012: | Loss: 0.71184 | Acc: 47.667\nVALIDATION - Epoch 012: | Loss: 0.74959 | Acc: 36.857\n##############################\nTRAIN - Epoch 013: | Loss: 0.73110 | Acc: 41.667\nVALIDATION - Epoch 013: | Loss: 0.74605 | Acc: 38.429\n##############################\nTRAIN - Epoch 014: | Loss: 0.72448 | Acc: 41.000\nVALIDATION - Epoch 014: | Loss: 0.74313 | Acc: 39.571\n##############################\nTRAIN - Epoch 015: | Loss: 0.71441 | Acc: 46.667\nVALIDATION - Epoch 015: | Loss: 0.74003 | Acc: 40.143\n##############################\nTRAIN - Epoch 016: | Loss: 0.70769 | Acc: 46.667\nVALIDATION - Epoch 016: | Loss: 0.73779 | Acc: 40.571\n##############################\nTRAIN - Epoch 017: | Loss: 0.71782 | Acc: 42.333\nVALIDATION - Epoch 017: | Loss: 0.73572 | Acc: 40.000\n##############################\nTRAIN - Epoch 018: | Loss: 0.70216 | Acc: 45.333\nVALIDATION - Epoch 018: | Loss: 0.73346 | Acc: 40.714\n##############################\nTRAIN - Epoch 019: | Loss: 0.69321 | Acc: 46.000\nVALIDATION - Epoch 019: | Loss: 0.73157 | Acc: 42.000\n##############################\nTRAIN - Epoch 020: | Loss: 0.68472 | Acc: 50.000\nVALIDATION - Epoch 020: | Loss: 0.73018 | Acc: 41.857\n##############################\nTRAIN - Epoch 021: | Loss: 0.69450 | Acc: 47.000\nVALIDATION - Epoch 021: | Loss: 0.72932 | Acc: 42.429\n##############################\nTRAIN - Epoch 022: | Loss: 0.69375 | Acc: 48.000\nVALIDATION - Epoch 022: | Loss: 0.72780 | Acc: 43.429\n##############################\nTRAIN - Epoch 023: | Loss: 0.69384 | Acc: 47.000\nVALIDATION - Epoch 023: | Loss: 0.72601 | Acc: 43.571\n##############################\nTRAIN - Epoch 024: | Loss: 0.68883 | Acc: 50.333\nVALIDATION - Epoch 024: | Loss: 0.72447 | Acc: 43.714\n##############################\nTRAIN - Epoch 025: | Loss: 0.69551 | Acc: 45.333\nVALIDATION - Epoch 025: | Loss: 0.72401 | Acc: 43.714\n##############################\nTRAIN - Epoch 026: | Loss: 0.69736 | Acc: 46.000\nVALIDATION - Epoch 026: | Loss: 0.72359 | Acc: 43.143\n##############################\nTRAIN - Epoch 027: | Loss: 0.68322 | Acc: 46.333\nVALIDATION - Epoch 027: | Loss: 0.72382 | Acc: 44.286\n##############################\nTRAIN - Epoch 028: | Loss: 0.66993 | Acc: 50.667\nVALIDATION - Epoch 028: | Loss: 0.72350 | Acc: 44.714\n##############################\nTRAIN - Epoch 029: | Loss: 0.68477 | Acc: 48.667\nVALIDATION - Epoch 029: | Loss: 0.72200 | Acc: 44.857\n##############################\nTRAIN - Epoch 030: | Loss: 0.68115 | Acc: 46.333\nVALIDATION - Epoch 030: | Loss: 0.71945 | Acc: 43.857\n##############################\nTRAIN - Epoch 031: | Loss: 0.69568 | Acc: 43.333\nVALIDATION - Epoch 031: | Loss: 0.71737 | Acc: 44.286\n##############################\nTRAIN - Epoch 032: | Loss: 0.66836 | Acc: 49.333\nVALIDATION - Epoch 032: | Loss: 0.71582 | Acc: 45.143\n##############################\nTRAIN - Epoch 033: | Loss: 0.68528 | Acc: 46.667\nVALIDATION - Epoch 033: | Loss: 0.71428 | Acc: 45.143\n##############################\nTRAIN - Epoch 034: | Loss: 0.67843 | Acc: 46.667\nVALIDATION - Epoch 034: | Loss: 0.71309 | Acc: 45.429\n##############################\nTRAIN - Epoch 035: | Loss: 0.67503 | Acc: 49.667\nVALIDATION - Epoch 035: | Loss: 0.71175 | Acc: 44.857\n##############################\nTRAIN - Epoch 036: | Loss: 0.66946 | Acc: 50.333\nVALIDATION - Epoch 036: | Loss: 0.71036 | Acc: 45.286\n##############################\nTRAIN - Epoch 037: | Loss: 0.67561 | Acc: 46.333\nVALIDATION - Epoch 037: | Loss: 0.70910 | Acc: 45.429\n##############################\nTRAIN - Epoch 038: | Loss: 0.65568 | Acc: 51.667\nVALIDATION - Epoch 038: | Loss: 0.70827 | Acc: 45.429\n##############################\nTRAIN - Epoch 039: | Loss: 0.66937 | Acc: 47.333\nVALIDATION - Epoch 039: | Loss: 0.70803 | Acc: 45.286\n##############################\nTRAIN - Epoch 040: | Loss: 0.64767 | Acc: 51.000\nVALIDATION - Epoch 040: | Loss: 0.70715 | Acc: 45.857\n##############################\nTRAIN - Epoch 041: | Loss: 0.66192 | Acc: 48.667\nVALIDATION - Epoch 041: | Loss: 0.70610 | Acc: 45.571\n##############################\nTRAIN - Epoch 042: | Loss: 0.65826 | Acc: 50.000\nVALIDATION - Epoch 042: | Loss: 0.70503 | Acc: 44.857\n##############################\nTRAIN - Epoch 043: | Loss: 0.67447 | Acc: 44.667\nVALIDATION - Epoch 043: | Loss: 0.70373 | Acc: 45.000\n##############################\nTRAIN - Epoch 044: | Loss: 0.65644 | Acc: 49.667\nVALIDATION - Epoch 044: | Loss: 0.70225 | Acc: 44.571\n##############################\nTRAIN - Epoch 045: | Loss: 0.65978 | Acc: 49.000\nVALIDATION - Epoch 045: | Loss: 0.70094 | Acc: 43.857\n##############################\nTRAIN - Epoch 046: | Loss: 0.62875 | Acc: 58.667\nVALIDATION - Epoch 046: | Loss: 0.69995 | Acc: 43.857\n##############################\nTRAIN - Epoch 047: | Loss: 0.65220 | Acc: 48.667\nVALIDATION - Epoch 047: | Loss: 0.69867 | Acc: 44.714\n##############################\nTRAIN - Epoch 048: | Loss: 0.64760 | Acc: 49.333\nVALIDATION - Epoch 048: | Loss: 0.69745 | Acc: 46.429\n##############################\nTRAIN - Epoch 049: | Loss: 0.62957 | Acc: 53.000\nVALIDATION - Epoch 049: | Loss: 0.69661 | Acc: 47.429\n##############################\nTRAIN - Epoch 050: | Loss: 0.66199 | Acc: 48.667\nVALIDATION - Epoch 050: | Loss: 0.69688 | Acc: 47.143\n##############################\nTRAIN - Epoch 051: | Loss: 0.66728 | Acc: 49.667\nVALIDATION - Epoch 051: | Loss: 0.69705 | Acc: 45.571\n##############################\nTRAIN - Epoch 052: | Loss: 0.64159 | Acc: 52.667\nVALIDATION - Epoch 052: | Loss: 0.69619 | Acc: 44.429\n##############################\nTRAIN - Epoch 053: | Loss: 0.64957 | Acc: 52.000\nVALIDATION - Epoch 053: | Loss: 0.69677 | Acc: 45.000\n##############################\nTRAIN - Epoch 054: | Loss: 0.62099 | Acc: 57.667\nVALIDATION - Epoch 054: | Loss: 0.69794 | Acc: 46.286\n##############################\nTRAIN - Epoch 055: | Loss: 0.62364 | Acc: 54.667\nVALIDATION - Epoch 055: | Loss: 0.69779 | Acc: 47.714\n##############################\nTRAIN - Epoch 056: | Loss: 0.62149 | Acc: 58.000\nVALIDATION - Epoch 056: | Loss: 0.69710 | Acc: 47.857\n##############################\nTRAIN - Epoch 057: | Loss: 0.63120 | Acc: 55.000\nVALIDATION - Epoch 057: | Loss: 0.69619 | Acc: 47.857\n##############################\nTRAIN - Epoch 058: | Loss: 0.62507 | Acc: 56.000\nVALIDATION - Epoch 058: | Loss: 0.69477 | Acc: 46.857\n##############################\nTRAIN - Epoch 059: | Loss: 0.63510 | Acc: 53.333\nVALIDATION - Epoch 059: | Loss: 0.69345 | Acc: 47.286\n##############################\nTRAIN - Epoch 060: | Loss: 0.63417 | Acc: 52.333\nVALIDATION - Epoch 060: | Loss: 0.69251 | Acc: 48.429\n##############################\n",
     "output_type": "stream",
     "data": {}
    }
   ]
  },
  {
   "cell_type": "code",
   "metadata": {
    "tags": [],
    "cell_id": "00050-c5c83117-a877-4df6-9f96-49b4fc555da9",
    "deepnote_to_be_reexecuted": true,
    "source_hash": "7e5d85bd",
    "execution_start": 1641827370772,
    "execution_millis": 8,
    "deepnote_cell_type": "code"
   },
   "source": "y_true_test = y_test.values.ravel()\nprint(classification_report(y_true_test, y_pred_test))",
   "execution_count": null,
   "outputs": [
    {
     "name": "stdout",
     "text": "              precision    recall  f1-score   support\n\n           0       0.69      0.42      0.53       290\n           1       0.35      0.62      0.44       142\n\n    accuracy                           0.49       432\n   macro avg       0.52      0.52      0.49       432\nweighted avg       0.58      0.49      0.50       432\n\n",
     "output_type": "stream",
     "data": {}
    }
   ]
  },
  {
   "cell_type": "code",
   "metadata": {
    "tags": [],
    "cell_id": "00044-8399b7df-053e-4060-9292-34e7aeb7715c",
    "deepnote_to_be_reexecuted": true,
    "source_hash": "bf15212c",
    "execution_start": 1641827370785,
    "execution_millis": 296,
    "deepnote_output_heights": [
     497.96875
    ],
    "deepnote_cell_type": "code"
   },
   "source": "plt.plot(losses_train,'-')\nplt.plot(losses_test,'-.')\nplt.xlabel('Epochs')\nplt.ylabel('Loss')\nplt.legend(['Train','Test'])\nplt.title('Train vs Test Losses')\n \nplt.show()",
   "execution_count": null,
   "outputs": [
    {
     "data": {
      "text/plain": "<Figure size 720x576 with 1 Axes>",
      "image/png": "[encoded data removed]"
     },
     "metadata": {
      "needs_background": "light",
      "image/png": {
       "width": 622,
       "height": 496
      }
     },
     "output_type": "display_data"
    }
   ]
  },
  {
   "cell_type": "code",
   "metadata": {
    "tags": [],
    "cell_id": "00045-06a2851b-245f-4abe-ad17-b94ecefda0e1",
    "deepnote_to_be_reexecuted": true,
    "source_hash": "3c4373f7",
    "execution_start": 1641827371087,
    "execution_millis": 278,
    "deepnote_output_heights": [
     497.96875
    ],
    "deepnote_cell_type": "code"
   },
   "source": "plt.plot(accuracies_train,'-')\nplt.plot(accuracies_test,'-.')\nplt.xlabel('Epochs')\nplt.ylabel('Accuracy')\nplt.legend(['Train','Test'])\nplt.title('Train vs Test Accuracy')\n \nplt.show()",
   "execution_count": null,
   "outputs": [
    {
     "data": {
      "text/plain": "<Figure size 720x576 with 1 Axes>",
      "image/png": "[encoded data removed]"
     },
     "metadata": {
      "needs_background": "light",
      "image/png": {
       "width": 615,
       "height": 496
      }
     },
     "output_type": "display_data"
    }
   ]
  },
  {
   "cell_type": "markdown",
   "source": "## Loading MONK-3 dataset",
   "metadata": {
    "tags": [],
    "cell_id": "00044-64c876f1-77b0-40c7-a308-cfce87e5636a",
    "deepnote_cell_type": "markdown"
   }
  },
  {
   "cell_type": "code",
   "metadata": {
    "tags": [],
    "cell_id": "00044-2ee9b7c9-0e51-4fc9-8997-a4ff5ef1c5ce",
    "deepnote_to_be_reexecuted": true,
    "source_hash": "c72e9b65",
    "execution_start": 1641827371410,
    "execution_millis": 1,
    "deepnote_cell_type": "code"
   },
   "source": "#read train dataset\ndf_monk3_train = pd.read_csv('./data/MONK/monks-3.train', sep=\" \", skipinitialspace=True, names=['class','a1','a2','a3','a4','a5','a6','id'])\ndf_monk3_train.drop(labels='id', axis=1, inplace=True)\n\n#read test dataset\ndf_monk3_test = pd.read_csv('./data/MONK/monks-3.test', sep=\" \", skipinitialspace=True,  names=['class','a1','a2','a3','a4','a5','a6','id'])\ndf_monk3_test.drop(labels='id', axis=1, inplace=True)",
   "execution_count": null,
   "outputs": []
  },
  {
   "cell_type": "code",
   "metadata": {
    "tags": [],
    "cell_id": "00046-ba8d6b5d-5e22-4e88-9150-c683245f3a59",
    "deepnote_to_be_reexecuted": true,
    "source_hash": "f697c2a7",
    "execution_start": 1641827371411,
    "execution_millis": 5,
    "deepnote_cell_type": "code"
   },
   "source": "df_monk3_train.head()",
   "execution_count": null,
   "outputs": [
    {
     "output_type": "execute_result",
     "execution_count": 45,
     "data": {
      "application/vnd.deepnote.dataframe.v3+json": {
       "column_count": 7,
       "row_count": 5,
       "columns": [
        {
         "name": "class",
         "dtype": "int64",
         "stats": {
          "unique_count": 2,
          "nan_count": 0,
          "min": "0",
          "max": "1",
          "histogram": [
           {
            "bin_start": 0,
            "bin_end": 0.1,
            "count": 2
           },
           {
            "bin_start": 0.1,
            "bin_end": 0.2,
            "count": 0
           },
           {
            "bin_start": 0.2,
            "bin_end": 0.30000000000000004,
            "count": 0
           },
           {
            "bin_start": 0.30000000000000004,
            "bin_end": 0.4,
            "count": 0
           },
           {
            "bin_start": 0.4,
            "bin_end": 0.5,
            "count": 0
           },
           {
            "bin_start": 0.5,
            "bin_end": 0.6000000000000001,
            "count": 0
           },
           {
            "bin_start": 0.6000000000000001,
            "bin_end": 0.7000000000000001,
            "count": 0
           },
           {
            "bin_start": 0.7000000000000001,
            "bin_end": 0.8,
            "count": 0
           },
           {
            "bin_start": 0.8,
            "bin_end": 0.9,
            "count": 0
           },
           {
            "bin_start": 0.9,
            "bin_end": 1,
            "count": 3
           }
          ]
         }
        },
        {
         "name": "a1",
         "dtype": "int64",
         "stats": {
          "unique_count": 1,
          "nan_count": 0,
          "min": "1",
          "max": "1",
          "histogram": [
           {
            "bin_start": 0.5,
            "bin_end": 0.6,
            "count": 0
           },
           {
            "bin_start": 0.6,
            "bin_end": 0.7,
            "count": 0
           },
           {
            "bin_start": 0.7,
            "bin_end": 0.8,
            "count": 0
           },
           {
            "bin_start": 0.8,
            "bin_end": 0.9,
            "count": 0
           },
           {
            "bin_start": 0.9,
            "bin_end": 1,
            "count": 0
           },
           {
            "bin_start": 1,
            "bin_end": 1.1,
            "count": 5
           },
           {
            "bin_start": 1.1,
            "bin_end": 1.2000000000000002,
            "count": 0
           },
           {
            "bin_start": 1.2000000000000002,
            "bin_end": 1.3,
            "count": 0
           },
           {
            "bin_start": 1.3,
            "bin_end": 1.4,
            "count": 0
           },
           {
            "bin_start": 1.4,
            "bin_end": 1.5,
            "count": 0
           }
          ]
         }
        },
        {
         "name": "a2",
         "dtype": "int64",
         "stats": {
          "unique_count": 1,
          "nan_count": 0,
          "min": "1",
          "max": "1",
          "histogram": [
           {
            "bin_start": 0.5,
            "bin_end": 0.6,
            "count": 0
           },
           {
            "bin_start": 0.6,
            "bin_end": 0.7,
            "count": 0
           },
           {
            "bin_start": 0.7,
            "bin_end": 0.8,
            "count": 0
           },
           {
            "bin_start": 0.8,
            "bin_end": 0.9,
            "count": 0
           },
           {
            "bin_start": 0.9,
            "bin_end": 1,
            "count": 0
           },
           {
            "bin_start": 1,
            "bin_end": 1.1,
            "count": 5
           },
           {
            "bin_start": 1.1,
            "bin_end": 1.2000000000000002,
            "count": 0
           },
           {
            "bin_start": 1.2000000000000002,
            "bin_end": 1.3,
            "count": 0
           },
           {
            "bin_start": 1.3,
            "bin_end": 1.4,
            "count": 0
           },
           {
            "bin_start": 1.4,
            "bin_end": 1.5,
            "count": 0
           }
          ]
         }
        },
        {
         "name": "a3",
         "dtype": "int64",
         "stats": {
          "unique_count": 1,
          "nan_count": 0,
          "min": "1",
          "max": "1",
          "histogram": [
           {
            "bin_start": 0.5,
            "bin_end": 0.6,
            "count": 0
           },
           {
            "bin_start": 0.6,
            "bin_end": 0.7,
            "count": 0
           },
           {
            "bin_start": 0.7,
            "bin_end": 0.8,
            "count": 0
           },
           {
            "bin_start": 0.8,
            "bin_end": 0.9,
            "count": 0
           },
           {
            "bin_start": 0.9,
            "bin_end": 1,
            "count": 0
           },
           {
            "bin_start": 1,
            "bin_end": 1.1,
            "count": 5
           },
           {
            "bin_start": 1.1,
            "bin_end": 1.2000000000000002,
            "count": 0
           },
           {
            "bin_start": 1.2000000000000002,
            "bin_end": 1.3,
            "count": 0
           },
           {
            "bin_start": 1.3,
            "bin_end": 1.4,
            "count": 0
           },
           {
            "bin_start": 1.4,
            "bin_end": 1.5,
            "count": 0
           }
          ]
         }
        },
        {
         "name": "a4",
         "dtype": "int64",
         "stats": {
          "unique_count": 1,
          "nan_count": 0,
          "min": "1",
          "max": "1",
          "histogram": [
           {
            "bin_start": 0.5,
            "bin_end": 0.6,
            "count": 0
           },
           {
            "bin_start": 0.6,
            "bin_end": 0.7,
            "count": 0
           },
           {
            "bin_start": 0.7,
            "bin_end": 0.8,
            "count": 0
           },
           {
            "bin_start": 0.8,
            "bin_end": 0.9,
            "count": 0
           },
           {
            "bin_start": 0.9,
            "bin_end": 1,
            "count": 0
           },
           {
            "bin_start": 1,
            "bin_end": 1.1,
            "count": 5
           },
           {
            "bin_start": 1.1,
            "bin_end": 1.2000000000000002,
            "count": 0
           },
           {
            "bin_start": 1.2000000000000002,
            "bin_end": 1.3,
            "count": 0
           },
           {
            "bin_start": 1.3,
            "bin_end": 1.4,
            "count": 0
           },
           {
            "bin_start": 1.4,
            "bin_end": 1.5,
            "count": 0
           }
          ]
         }
        },
        {
         "name": "a5",
         "dtype": "int64",
         "stats": {
          "unique_count": 4,
          "nan_count": 0,
          "min": "1",
          "max": "4",
          "histogram": [
           {
            "bin_start": 1,
            "bin_end": 1.3,
            "count": 1
           },
           {
            "bin_start": 1.3,
            "bin_end": 1.6,
            "count": 0
           },
           {
            "bin_start": 1.6,
            "bin_end": 1.9,
            "count": 0
           },
           {
            "bin_start": 1.9,
            "bin_end": 2.2,
            "count": 2
           },
           {
            "bin_start": 2.2,
            "bin_end": 2.5,
            "count": 0
           },
           {
            "bin_start": 2.5,
            "bin_end": 2.8,
            "count": 0
           },
           {
            "bin_start": 2.8,
            "bin_end": 3.1,
            "count": 1
           },
           {
            "bin_start": 3.1,
            "bin_end": 3.4,
            "count": 0
           },
           {
            "bin_start": 3.4,
            "bin_end": 3.6999999999999997,
            "count": 0
           },
           {
            "bin_start": 3.6999999999999997,
            "bin_end": 4,
            "count": 1
           }
          ]
         }
        },
        {
         "name": "a6",
         "dtype": "int64",
         "stats": {
          "unique_count": 2,
          "nan_count": 0,
          "min": "1",
          "max": "2",
          "histogram": [
           {
            "bin_start": 1,
            "bin_end": 1.1,
            "count": 3
           },
           {
            "bin_start": 1.1,
            "bin_end": 1.2,
            "count": 0
           },
           {
            "bin_start": 1.2,
            "bin_end": 1.3,
            "count": 0
           },
           {
            "bin_start": 1.3,
            "bin_end": 1.4,
            "count": 0
           },
           {
            "bin_start": 1.4,
            "bin_end": 1.5,
            "count": 0
           },
           {
            "bin_start": 1.5,
            "bin_end": 1.6,
            "count": 0
           },
           {
            "bin_start": 1.6,
            "bin_end": 1.7000000000000002,
            "count": 0
           },
           {
            "bin_start": 1.7000000000000002,
            "bin_end": 1.8,
            "count": 0
           },
           {
            "bin_start": 1.8,
            "bin_end": 1.9,
            "count": 0
           },
           {
            "bin_start": 1.9,
            "bin_end": 2,
            "count": 2
           }
          ]
         }
        },
        {
         "name": "_deepnote_index_column",
         "dtype": "int64"
        }
       ],
       "rows": [
        {
         "class": 1,
         "a1": 1,
         "a2": 1,
         "a3": 1,
         "a4": 1,
         "a5": 1,
         "a6": 2,
         "_deepnote_index_column": 0
        },
        {
         "class": 1,
         "a1": 1,
         "a2": 1,
         "a3": 1,
         "a4": 1,
         "a5": 2,
         "a6": 1,
         "_deepnote_index_column": 1
        },
        {
         "class": 1,
         "a1": 1,
         "a2": 1,
         "a3": 1,
         "a4": 1,
         "a5": 2,
         "a6": 2,
         "_deepnote_index_column": 2
        },
        {
         "class": 0,
         "a1": 1,
         "a2": 1,
         "a3": 1,
         "a4": 1,
         "a5": 3,
         "a6": 1,
         "_deepnote_index_column": 3
        },
        {
         "class": 0,
         "a1": 1,
         "a2": 1,
         "a3": 1,
         "a4": 1,
         "a5": 4,
         "a6": 1,
         "_deepnote_index_column": 4
        }
       ]
      },
      "text/plain": "   class  a1  a2  a3  a4  a5  a6\n0      1   1   1   1   1   1   2\n1      1   1   1   1   1   2   1\n2      1   1   1   1   1   2   2\n3      0   1   1   1   1   3   1\n4      0   1   1   1   1   4   1",
      "text/html": "<div>\n<style scoped>\n    .dataframe tbody tr th:only-of-type {\n        vertical-align: middle;\n    }\n\n    .dataframe tbody tr th {\n        vertical-align: top;\n    }\n\n    .dataframe thead th {\n        text-align: right;\n    }\n</style>\n<table border=\"1\" class=\"dataframe\">\n  <thead>\n    <tr style=\"text-align: right;\">\n      <th></th>\n      <th>class</th>\n      <th>a1</th>\n      <th>a2</th>\n      <th>a3</th>\n      <th>a4</th>\n      <th>a5</th>\n      <th>a6</th>\n    </tr>\n  </thead>\n  <tbody>\n    <tr>\n      <th>0</th>\n      <td>1</td>\n      <td>1</td>\n      <td>1</td>\n      <td>1</td>\n      <td>1</td>\n      <td>1</td>\n      <td>2</td>\n    </tr>\n    <tr>\n      <th>1</th>\n      <td>1</td>\n      <td>1</td>\n      <td>1</td>\n      <td>1</td>\n      <td>1</td>\n      <td>2</td>\n      <td>1</td>\n    </tr>\n    <tr>\n      <th>2</th>\n      <td>1</td>\n      <td>1</td>\n      <td>1</td>\n      <td>1</td>\n      <td>1</td>\n      <td>2</td>\n      <td>2</td>\n    </tr>\n    <tr>\n      <th>3</th>\n      <td>0</td>\n      <td>1</td>\n      <td>1</td>\n      <td>1</td>\n      <td>1</td>\n      <td>3</td>\n      <td>1</td>\n    </tr>\n    <tr>\n      <th>4</th>\n      <td>0</td>\n      <td>1</td>\n      <td>1</td>\n      <td>1</td>\n      <td>1</td>\n      <td>4</td>\n      <td>1</td>\n    </tr>\n  </tbody>\n</table>\n</div>"
     },
     "metadata": {}
    }
   ]
  },
  {
   "cell_type": "code",
   "metadata": {
    "tags": [],
    "cell_id": "00047-434a1e4e-40a2-48f4-ac39-c4726e00c473",
    "deepnote_to_be_reexecuted": true,
    "source_hash": "ee54eef9",
    "execution_start": 1641827371423,
    "execution_millis": 23,
    "deepnote_cell_type": "code"
   },
   "source": "df_monk3_test.head()",
   "execution_count": null,
   "outputs": [
    {
     "output_type": "execute_result",
     "execution_count": 46,
     "data": {
      "application/vnd.deepnote.dataframe.v3+json": {
       "column_count": 7,
       "row_count": 5,
       "columns": [
        {
         "name": "class",
         "dtype": "int64",
         "stats": {
          "unique_count": 1,
          "nan_count": 0,
          "min": "1",
          "max": "1",
          "histogram": [
           {
            "bin_start": 0.5,
            "bin_end": 0.6,
            "count": 0
           },
           {
            "bin_start": 0.6,
            "bin_end": 0.7,
            "count": 0
           },
           {
            "bin_start": 0.7,
            "bin_end": 0.8,
            "count": 0
           },
           {
            "bin_start": 0.8,
            "bin_end": 0.9,
            "count": 0
           },
           {
            "bin_start": 0.9,
            "bin_end": 1,
            "count": 0
           },
           {
            "bin_start": 1,
            "bin_end": 1.1,
            "count": 5
           },
           {
            "bin_start": 1.1,
            "bin_end": 1.2000000000000002,
            "count": 0
           },
           {
            "bin_start": 1.2000000000000002,
            "bin_end": 1.3,
            "count": 0
           },
           {
            "bin_start": 1.3,
            "bin_end": 1.4,
            "count": 0
           },
           {
            "bin_start": 1.4,
            "bin_end": 1.5,
            "count": 0
           }
          ]
         }
        },
        {
         "name": "a1",
         "dtype": "int64",
         "stats": {
          "unique_count": 1,
          "nan_count": 0,
          "min": "1",
          "max": "1",
          "histogram": [
           {
            "bin_start": 0.5,
            "bin_end": 0.6,
            "count": 0
           },
           {
            "bin_start": 0.6,
            "bin_end": 0.7,
            "count": 0
           },
           {
            "bin_start": 0.7,
            "bin_end": 0.8,
            "count": 0
           },
           {
            "bin_start": 0.8,
            "bin_end": 0.9,
            "count": 0
           },
           {
            "bin_start": 0.9,
            "bin_end": 1,
            "count": 0
           },
           {
            "bin_start": 1,
            "bin_end": 1.1,
            "count": 5
           },
           {
            "bin_start": 1.1,
            "bin_end": 1.2000000000000002,
            "count": 0
           },
           {
            "bin_start": 1.2000000000000002,
            "bin_end": 1.3,
            "count": 0
           },
           {
            "bin_start": 1.3,
            "bin_end": 1.4,
            "count": 0
           },
           {
            "bin_start": 1.4,
            "bin_end": 1.5,
            "count": 0
           }
          ]
         }
        },
        {
         "name": "a2",
         "dtype": "int64",
         "stats": {
          "unique_count": 1,
          "nan_count": 0,
          "min": "1",
          "max": "1",
          "histogram": [
           {
            "bin_start": 0.5,
            "bin_end": 0.6,
            "count": 0
           },
           {
            "bin_start": 0.6,
            "bin_end": 0.7,
            "count": 0
           },
           {
            "bin_start": 0.7,
            "bin_end": 0.8,
            "count": 0
           },
           {
            "bin_start": 0.8,
            "bin_end": 0.9,
            "count": 0
           },
           {
            "bin_start": 0.9,
            "bin_end": 1,
            "count": 0
           },
           {
            "bin_start": 1,
            "bin_end": 1.1,
            "count": 5
           },
           {
            "bin_start": 1.1,
            "bin_end": 1.2000000000000002,
            "count": 0
           },
           {
            "bin_start": 1.2000000000000002,
            "bin_end": 1.3,
            "count": 0
           },
           {
            "bin_start": 1.3,
            "bin_end": 1.4,
            "count": 0
           },
           {
            "bin_start": 1.4,
            "bin_end": 1.5,
            "count": 0
           }
          ]
         }
        },
        {
         "name": "a3",
         "dtype": "int64",
         "stats": {
          "unique_count": 1,
          "nan_count": 0,
          "min": "1",
          "max": "1",
          "histogram": [
           {
            "bin_start": 0.5,
            "bin_end": 0.6,
            "count": 0
           },
           {
            "bin_start": 0.6,
            "bin_end": 0.7,
            "count": 0
           },
           {
            "bin_start": 0.7,
            "bin_end": 0.8,
            "count": 0
           },
           {
            "bin_start": 0.8,
            "bin_end": 0.9,
            "count": 0
           },
           {
            "bin_start": 0.9,
            "bin_end": 1,
            "count": 0
           },
           {
            "bin_start": 1,
            "bin_end": 1.1,
            "count": 5
           },
           {
            "bin_start": 1.1,
            "bin_end": 1.2000000000000002,
            "count": 0
           },
           {
            "bin_start": 1.2000000000000002,
            "bin_end": 1.3,
            "count": 0
           },
           {
            "bin_start": 1.3,
            "bin_end": 1.4,
            "count": 0
           },
           {
            "bin_start": 1.4,
            "bin_end": 1.5,
            "count": 0
           }
          ]
         }
        },
        {
         "name": "a4",
         "dtype": "int64",
         "stats": {
          "unique_count": 1,
          "nan_count": 0,
          "min": "1",
          "max": "1",
          "histogram": [
           {
            "bin_start": 0.5,
            "bin_end": 0.6,
            "count": 0
           },
           {
            "bin_start": 0.6,
            "bin_end": 0.7,
            "count": 0
           },
           {
            "bin_start": 0.7,
            "bin_end": 0.8,
            "count": 0
           },
           {
            "bin_start": 0.8,
            "bin_end": 0.9,
            "count": 0
           },
           {
            "bin_start": 0.9,
            "bin_end": 1,
            "count": 0
           },
           {
            "bin_start": 1,
            "bin_end": 1.1,
            "count": 5
           },
           {
            "bin_start": 1.1,
            "bin_end": 1.2000000000000002,
            "count": 0
           },
           {
            "bin_start": 1.2000000000000002,
            "bin_end": 1.3,
            "count": 0
           },
           {
            "bin_start": 1.3,
            "bin_end": 1.4,
            "count": 0
           },
           {
            "bin_start": 1.4,
            "bin_end": 1.5,
            "count": 0
           }
          ]
         }
        },
        {
         "name": "a5",
         "dtype": "int64",
         "stats": {
          "unique_count": 3,
          "nan_count": 0,
          "min": "1",
          "max": "3",
          "histogram": [
           {
            "bin_start": 1,
            "bin_end": 1.2,
            "count": 2
           },
           {
            "bin_start": 1.2,
            "bin_end": 1.4,
            "count": 0
           },
           {
            "bin_start": 1.4,
            "bin_end": 1.6,
            "count": 0
           },
           {
            "bin_start": 1.6,
            "bin_end": 1.8,
            "count": 0
           },
           {
            "bin_start": 1.8,
            "bin_end": 2,
            "count": 0
           },
           {
            "bin_start": 2,
            "bin_end": 2.2,
            "count": 2
           },
           {
            "bin_start": 2.2,
            "bin_end": 2.4000000000000004,
            "count": 0
           },
           {
            "bin_start": 2.4000000000000004,
            "bin_end": 2.6,
            "count": 0
           },
           {
            "bin_start": 2.6,
            "bin_end": 2.8,
            "count": 0
           },
           {
            "bin_start": 2.8,
            "bin_end": 3,
            "count": 1
           }
          ]
         }
        },
        {
         "name": "a6",
         "dtype": "int64",
         "stats": {
          "unique_count": 2,
          "nan_count": 0,
          "min": "1",
          "max": "2",
          "histogram": [
           {
            "bin_start": 1,
            "bin_end": 1.1,
            "count": 3
           },
           {
            "bin_start": 1.1,
            "bin_end": 1.2,
            "count": 0
           },
           {
            "bin_start": 1.2,
            "bin_end": 1.3,
            "count": 0
           },
           {
            "bin_start": 1.3,
            "bin_end": 1.4,
            "count": 0
           },
           {
            "bin_start": 1.4,
            "bin_end": 1.5,
            "count": 0
           },
           {
            "bin_start": 1.5,
            "bin_end": 1.6,
            "count": 0
           },
           {
            "bin_start": 1.6,
            "bin_end": 1.7000000000000002,
            "count": 0
           },
           {
            "bin_start": 1.7000000000000002,
            "bin_end": 1.8,
            "count": 0
           },
           {
            "bin_start": 1.8,
            "bin_end": 1.9,
            "count": 0
           },
           {
            "bin_start": 1.9,
            "bin_end": 2,
            "count": 2
           }
          ]
         }
        },
        {
         "name": "_deepnote_index_column",
         "dtype": "int64"
        }
       ],
       "rows": [
        {
         "class": 1,
         "a1": 1,
         "a2": 1,
         "a3": 1,
         "a4": 1,
         "a5": 1,
         "a6": 1,
         "_deepnote_index_column": 0
        },
        {
         "class": 1,
         "a1": 1,
         "a2": 1,
         "a3": 1,
         "a4": 1,
         "a5": 1,
         "a6": 2,
         "_deepnote_index_column": 1
        },
        {
         "class": 1,
         "a1": 1,
         "a2": 1,
         "a3": 1,
         "a4": 1,
         "a5": 2,
         "a6": 1,
         "_deepnote_index_column": 2
        },
        {
         "class": 1,
         "a1": 1,
         "a2": 1,
         "a3": 1,
         "a4": 1,
         "a5": 2,
         "a6": 2,
         "_deepnote_index_column": 3
        },
        {
         "class": 1,
         "a1": 1,
         "a2": 1,
         "a3": 1,
         "a4": 1,
         "a5": 3,
         "a6": 1,
         "_deepnote_index_column": 4
        }
       ]
      },
      "text/plain": "   class  a1  a2  a3  a4  a5  a6\n0      1   1   1   1   1   1   1\n1      1   1   1   1   1   1   2\n2      1   1   1   1   1   2   1\n3      1   1   1   1   1   2   2\n4      1   1   1   1   1   3   1",
      "text/html": "<div>\n<style scoped>\n    .dataframe tbody tr th:only-of-type {\n        vertical-align: middle;\n    }\n\n    .dataframe tbody tr th {\n        vertical-align: top;\n    }\n\n    .dataframe thead th {\n        text-align: right;\n    }\n</style>\n<table border=\"1\" class=\"dataframe\">\n  <thead>\n    <tr style=\"text-align: right;\">\n      <th></th>\n      <th>class</th>\n      <th>a1</th>\n      <th>a2</th>\n      <th>a3</th>\n      <th>a4</th>\n      <th>a5</th>\n      <th>a6</th>\n    </tr>\n  </thead>\n  <tbody>\n    <tr>\n      <th>0</th>\n      <td>1</td>\n      <td>1</td>\n      <td>1</td>\n      <td>1</td>\n      <td>1</td>\n      <td>1</td>\n      <td>1</td>\n    </tr>\n    <tr>\n      <th>1</th>\n      <td>1</td>\n      <td>1</td>\n      <td>1</td>\n      <td>1</td>\n      <td>1</td>\n      <td>1</td>\n      <td>2</td>\n    </tr>\n    <tr>\n      <th>2</th>\n      <td>1</td>\n      <td>1</td>\n      <td>1</td>\n      <td>1</td>\n      <td>1</td>\n      <td>2</td>\n      <td>1</td>\n    </tr>\n    <tr>\n      <th>3</th>\n      <td>1</td>\n      <td>1</td>\n      <td>1</td>\n      <td>1</td>\n      <td>1</td>\n      <td>2</td>\n      <td>2</td>\n    </tr>\n    <tr>\n      <th>4</th>\n      <td>1</td>\n      <td>1</td>\n      <td>1</td>\n      <td>1</td>\n      <td>1</td>\n      <td>3</td>\n      <td>1</td>\n    </tr>\n  </tbody>\n</table>\n</div>"
     },
     "metadata": {}
    }
   ]
  },
  {
   "cell_type": "code",
   "metadata": {
    "tags": [],
    "cell_id": "00048-976b8ce9-9d2a-4e15-af94-6f3d7e5cf5bc",
    "deepnote_to_be_reexecuted": true,
    "source_hash": "232e4eb4",
    "execution_start": 1641827371494,
    "execution_millis": 329,
    "deepnote_output_heights": [
     21.171875,
     450.96875
    ],
    "deepnote_cell_type": "code"
   },
   "source": "#plot class distribution in train data\nfig_size = plt.rcParams[\"figure.figsize\"]\nfig_size[0] = 10\nfig_size[1] = 8\nplt.rcParams[\"figure.figsize\"] = fig_size\n\ndf_monk3_train['class'].value_counts().plot(kind='pie', autopct='%1.0f%%', colors=['skyblue', 'orange'], explode=(0.05, 0.05))",
   "execution_count": null,
   "outputs": [
    {
     "output_type": "execute_result",
     "execution_count": 47,
     "data": {
      "text/plain": "<AxesSubplot:ylabel='class'>"
     },
     "metadata": {}
    },
    {
     "data": {
      "text/plain": "<Figure size 720x576 with 1 Axes>",
      "image/png": "[encoded data removed]"
     },
     "metadata": {
      "image/png": {
       "width": 463,
       "height": 449
      }
     },
     "output_type": "display_data"
    }
   ]
  },
  {
   "cell_type": "code",
   "metadata": {
    "tags": [],
    "cell_id": "00049-cea85522-a529-4290-a1a1-da9de63c1afe",
    "deepnote_to_be_reexecuted": true,
    "source_hash": "aab28e19",
    "execution_start": 1641827371679,
    "execution_millis": 174,
    "deepnote_output_heights": [
     21.171875,
     450.96875
    ],
    "deepnote_cell_type": "code"
   },
   "source": "#plot class distribution in test data\ndf_monk3_test['class'].value_counts().plot(kind='pie', autopct='%1.0f%%', colors=['skyblue', 'orange'], explode=(0.05, 0.05))",
   "execution_count": null,
   "outputs": [
    {
     "output_type": "execute_result",
     "execution_count": 48,
     "data": {
      "text/plain": "<AxesSubplot:ylabel='class'>"
     },
     "metadata": {}
    },
    {
     "data": {
      "text/plain": "<Figure size 720x576 with 1 Axes>",
      "image/png": "[encoded data removed]"
     },
     "metadata": {
      "image/png": {
       "width": 463,
       "height": 449
      }
     },
     "output_type": "display_data"
    }
   ]
  },
  {
   "cell_type": "code",
   "metadata": {
    "tags": [],
    "cell_id": "00050-41bab7bb-c931-4bf5-9a6c-730c30b4cca9",
    "deepnote_to_be_reexecuted": true,
    "source_hash": "2d21808",
    "execution_start": 1641827371869,
    "execution_millis": 3,
    "deepnote_cell_type": "code"
   },
   "source": "#prepare train and test data\ntarget_train = df_monk3_train.pop('class')\ntarget_test = df_monk3_test.pop('class')\nX_train = df_monk3_train\ny_train = target_train\nX_test = df_monk3_test\ny_test = target_test",
   "execution_count": null,
   "outputs": []
  },
  {
   "cell_type": "code",
   "metadata": {
    "tags": [],
    "cell_id": "00051-ae6be9ff-5437-4878-a290-0527a2dd1fdd",
    "deepnote_to_be_reexecuted": true,
    "source_hash": "db007649",
    "execution_start": 1641827371874,
    "execution_millis": 4,
    "deepnote_cell_type": "code"
   },
   "source": "#create tensor for train and test data \nX_train = X_train.values #returns a ndarray\nX_test = X_test.values\nx_tensor =  torch.from_numpy(X_train).float()\ny_tensor =  torch.from_numpy(y_train.values.ravel()).float()\nxtest_tensor =  torch.from_numpy(X_test).float()\nytest_tensor =  torch.from_numpy(y_test.values.ravel()).float()",
   "execution_count": null,
   "outputs": []
  },
  {
   "cell_type": "code",
   "metadata": {
    "tags": [],
    "cell_id": "00052-93748273-d5e5-4112-947e-40de9e0b30ff",
    "deepnote_to_be_reexecuted": true,
    "source_hash": "ec6779cd",
    "execution_start": 1641827371879,
    "execution_millis": 4,
    "deepnote_cell_type": "code"
   },
   "source": "#prepare dataloader for training\ny_tensor = y_tensor.unsqueeze(1)\ntrain_ds = TensorDataset(x_tensor, y_tensor)\ntrain_loader = DataLoader(train_ds, batch_size=BATCH_SIZE)",
   "execution_count": null,
   "outputs": []
  },
  {
   "cell_type": "code",
   "metadata": {
    "tags": [],
    "cell_id": "00053-40e89f31-6d30-41ea-b14b-44b50bb2a7f5",
    "deepnote_to_be_reexecuted": true,
    "source_hash": "1f399bb4",
    "execution_start": 1641827371884,
    "execution_millis": 1,
    "deepnote_cell_type": "code"
   },
   "source": "#prepare dataloader for evaluating \nytest_tensor = ytest_tensor.unsqueeze(1)\ntest_ds = TensorDataset(xtest_tensor, ytest_tensor)\ntest_loader = DataLoader(test_ds, batch_size=64)",
   "execution_count": null,
   "outputs": []
  },
  {
   "cell_type": "code",
   "metadata": {
    "tags": [],
    "cell_id": "00054-8c17f9c3-ce5f-420c-b451-33f28c8528ca",
    "deepnote_to_be_reexecuted": true,
    "source_hash": "d98e1330",
    "execution_start": 1641827371931,
    "execution_millis": 0,
    "deepnote_cell_type": "code"
   },
   "source": "#define the model\nmodel = BinaryClassification(X_train.shape[1], 100)",
   "execution_count": null,
   "outputs": []
  },
  {
   "cell_type": "code",
   "metadata": {
    "tags": [],
    "cell_id": "00055-63698190-da41-4778-b07a-94baa60ad162",
    "deepnote_to_be_reexecuted": true,
    "source_hash": "e80a856e",
    "execution_start": 1641827371931,
    "execution_millis": 1,
    "deepnote_cell_type": "code"
   },
   "source": "#define the loss function \nloss_function = nn.BCELoss()\n#define the optimizer\noptimizer = torch.optim.SGD(model.parameters(), lr=LEARNING_RATE, momentum=MOMENTUM, weight_decay=L2, dampening=DAMPENING, nesterov=NESTEROV)",
   "execution_count": null,
   "outputs": []
  },
  {
   "cell_type": "code",
   "metadata": {
    "tags": [],
    "cell_id": "00056-81872e56-d4ce-442e-9a4d-2d4713afb1a9",
    "deepnote_to_be_reexecuted": true,
    "source_hash": "166c5776",
    "execution_start": 1641827371932,
    "execution_millis": 797,
    "deepnote_cell_type": "code"
   },
   "source": "#prepare empty lists to store accuracy and loss results\nlosses_train = []\naccuracies_train = []\nlosses_test = []\naccuracies_test = []\n\n#train and evaluate for each epoch\nfor epoch in range(1,EPOCHS+1): \n  model, losses_train, accuracies_train = TrainPhase(epoch, model, losses_train, accuracies_train, train_loader, loss_function, optimizer)\n  y_pred_test, losses_test, accuracies_test = Evaluate(epoch, model, losses_test, accuracies_test, test_loader, loss_function)\n  print(\"##############################\")\n",
   "execution_count": null,
   "outputs": [
    {
     "name": "stdout",
     "text": "TRAIN - Epoch 001: | Loss: 0.72658 | Acc: 37.000\nVALIDATION - Epoch 001: | Loss: 0.69261 | Acc: 51.571\n##############################\nTRAIN - Epoch 002: | Loss: 0.71986 | Acc: 35.000\nVALIDATION - Epoch 002: | Loss: 0.69262 | Acc: 52.286\n##############################\nTRAIN - Epoch 003: | Loss: 0.73417 | Acc: 39.000\nVALIDATION - Epoch 003: | Loss: 0.69306 | Acc: 52.286\n##############################\nTRAIN - Epoch 004: | Loss: 0.73214 | Acc: 39.500\nVALIDATION - Epoch 004: | Loss: 0.69377 | Acc: 50.714\n##############################\nTRAIN - Epoch 005: | Loss: 0.72971 | Acc: 36.500\nVALIDATION - Epoch 005: | Loss: 0.69461 | Acc: 47.571\n##############################\nTRAIN - Epoch 006: | Loss: 0.72263 | Acc: 41.000\nVALIDATION - Epoch 006: | Loss: 0.69551 | Acc: 44.429\n##############################\nTRAIN - Epoch 007: | Loss: 0.72823 | Acc: 36.000\nVALIDATION - Epoch 007: | Loss: 0.69675 | Acc: 43.571\n##############################\nTRAIN - Epoch 008: | Loss: 0.71628 | Acc: 40.000\nVALIDATION - Epoch 008: | Loss: 0.69824 | Acc: 42.429\n##############################\nTRAIN - Epoch 009: | Loss: 0.71410 | Acc: 40.500\nVALIDATION - Epoch 009: | Loss: 0.69986 | Acc: 40.857\n##############################\nTRAIN - Epoch 010: | Loss: 0.72205 | Acc: 42.500\nVALIDATION - Epoch 010: | Loss: 0.70155 | Acc: 39.857\n##############################\nTRAIN - Epoch 011: | Loss: 0.72699 | Acc: 41.000\nVALIDATION - Epoch 011: | Loss: 0.70311 | Acc: 39.429\n##############################\nTRAIN - Epoch 012: | Loss: 0.70636 | Acc: 44.000\nVALIDATION - Epoch 012: | Loss: 0.70481 | Acc: 37.429\n##############################\nTRAIN - Epoch 013: | Loss: 0.71310 | Acc: 43.500\nVALIDATION - Epoch 013: | Loss: 0.70644 | Acc: 38.286\n##############################\nTRAIN - Epoch 014: | Loss: 0.70668 | Acc: 45.000\nVALIDATION - Epoch 014: | Loss: 0.70800 | Acc: 37.714\n##############################\nTRAIN - Epoch 015: | Loss: 0.70807 | Acc: 42.500\nVALIDATION - Epoch 015: | Loss: 0.70949 | Acc: 37.714\n##############################\nTRAIN - Epoch 016: | Loss: 0.71509 | Acc: 39.000\nVALIDATION - Epoch 016: | Loss: 0.71078 | Acc: 37.857\n##############################\nTRAIN - Epoch 017: | Loss: 0.71082 | Acc: 40.000\nVALIDATION - Epoch 017: | Loss: 0.71187 | Acc: 38.000\n##############################\nTRAIN - Epoch 018: | Loss: 0.70567 | Acc: 42.500\nVALIDATION - Epoch 018: | Loss: 0.71281 | Acc: 38.286\n##############################\nTRAIN - Epoch 019: | Loss: 0.71372 | Acc: 36.500\nVALIDATION - Epoch 019: | Loss: 0.71358 | Acc: 38.000\n##############################\nTRAIN - Epoch 020: | Loss: 0.71380 | Acc: 43.000\nVALIDATION - Epoch 020: | Loss: 0.71420 | Acc: 38.714\n##############################\nTRAIN - Epoch 021: | Loss: 0.71593 | Acc: 39.500\nVALIDATION - Epoch 021: | Loss: 0.71457 | Acc: 39.143\n##############################\nTRAIN - Epoch 022: | Loss: 0.71011 | Acc: 43.500\nVALIDATION - Epoch 022: | Loss: 0.71488 | Acc: 39.143\n##############################\nTRAIN - Epoch 023: | Loss: 0.69270 | Acc: 50.500\nVALIDATION - Epoch 023: | Loss: 0.71505 | Acc: 39.286\n##############################\nTRAIN - Epoch 024: | Loss: 0.71838 | Acc: 42.500\nVALIDATION - Epoch 024: | Loss: 0.71510 | Acc: 39.286\n##############################\nTRAIN - Epoch 025: | Loss: 0.70469 | Acc: 48.500\nVALIDATION - Epoch 025: | Loss: 0.71513 | Acc: 39.286\n##############################\nTRAIN - Epoch 026: | Loss: 0.72344 | Acc: 42.000\nVALIDATION - Epoch 026: | Loss: 0.71495 | Acc: 39.571\n##############################\nTRAIN - Epoch 027: | Loss: 0.71226 | Acc: 37.500\nVALIDATION - Epoch 027: | Loss: 0.71479 | Acc: 39.571\n##############################\nTRAIN - Epoch 028: | Loss: 0.71861 | Acc: 39.500\nVALIDATION - Epoch 028: | Loss: 0.71464 | Acc: 39.571\n##############################\nTRAIN - Epoch 029: | Loss: 0.70709 | Acc: 43.500\nVALIDATION - Epoch 029: | Loss: 0.71445 | Acc: 39.571\n##############################\nTRAIN - Epoch 030: | Loss: 0.70884 | Acc: 42.000\nVALIDATION - Epoch 030: | Loss: 0.71423 | Acc: 39.571\n##############################\nTRAIN - Epoch 031: | Loss: 0.71735 | Acc: 44.000\nVALIDATION - Epoch 031: | Loss: 0.71379 | Acc: 39.429\n##############################\nTRAIN - Epoch 032: | Loss: 0.70007 | Acc: 46.500\nVALIDATION - Epoch 032: | Loss: 0.71347 | Acc: 39.429\n##############################\nTRAIN - Epoch 033: | Loss: 0.70345 | Acc: 46.500\nVALIDATION - Epoch 033: | Loss: 0.71312 | Acc: 39.429\n##############################\nTRAIN - Epoch 034: | Loss: 0.70259 | Acc: 45.000\nVALIDATION - Epoch 034: | Loss: 0.71271 | Acc: 39.429\n##############################\nTRAIN - Epoch 035: | Loss: 0.69743 | Acc: 48.000\nVALIDATION - Epoch 035: | Loss: 0.71240 | Acc: 39.714\n##############################\nTRAIN - Epoch 036: | Loss: 0.69348 | Acc: 47.000\nVALIDATION - Epoch 036: | Loss: 0.71215 | Acc: 40.000\n##############################\nTRAIN - Epoch 037: | Loss: 0.71301 | Acc: 44.500\nVALIDATION - Epoch 037: | Loss: 0.71187 | Acc: 40.143\n##############################\nTRAIN - Epoch 038: | Loss: 0.70674 | Acc: 46.000\nVALIDATION - Epoch 038: | Loss: 0.71147 | Acc: 40.286\n##############################\nTRAIN - Epoch 039: | Loss: 0.68124 | Acc: 52.000\nVALIDATION - Epoch 039: | Loss: 0.71122 | Acc: 40.286\n##############################\nTRAIN - Epoch 040: | Loss: 0.72282 | Acc: 36.500\nVALIDATION - Epoch 040: | Loss: 0.71075 | Acc: 40.571\n##############################\nTRAIN - Epoch 041: | Loss: 0.69080 | Acc: 52.500\nVALIDATION - Epoch 041: | Loss: 0.71030 | Acc: 40.714\n##############################\nTRAIN - Epoch 042: | Loss: 0.70899 | Acc: 46.000\nVALIDATION - Epoch 042: | Loss: 0.70983 | Acc: 40.714\n##############################\nTRAIN - Epoch 043: | Loss: 0.71591 | Acc: 38.000\nVALIDATION - Epoch 043: | Loss: 0.70946 | Acc: 40.714\n##############################\nTRAIN - Epoch 044: | Loss: 0.70884 | Acc: 43.000\nVALIDATION - Epoch 044: | Loss: 0.70905 | Acc: 41.000\n##############################\nTRAIN - Epoch 045: | Loss: 0.69594 | Acc: 46.000\nVALIDATION - Epoch 045: | Loss: 0.70860 | Acc: 41.286\n##############################\nTRAIN - Epoch 046: | Loss: 0.70283 | Acc: 49.000\nVALIDATION - Epoch 046: | Loss: 0.70827 | Acc: 41.286\n##############################\nTRAIN - Epoch 047: | Loss: 0.70511 | Acc: 45.500\nVALIDATION - Epoch 047: | Loss: 0.70785 | Acc: 41.286\n##############################\nTRAIN - Epoch 048: | Loss: 0.68214 | Acc: 51.500\nVALIDATION - Epoch 048: | Loss: 0.70746 | Acc: 41.714\n##############################\nTRAIN - Epoch 049: | Loss: 0.70329 | Acc: 47.000\nVALIDATION - Epoch 049: | Loss: 0.70713 | Acc: 41.714\n##############################\nTRAIN - Epoch 050: | Loss: 0.69491 | Acc: 50.000\nVALIDATION - Epoch 050: | Loss: 0.70683 | Acc: 42.000\n##############################\nTRAIN - Epoch 051: | Loss: 0.69684 | Acc: 48.500\nVALIDATION - Epoch 051: | Loss: 0.70657 | Acc: 42.000\n##############################\nTRAIN - Epoch 052: | Loss: 0.69989 | Acc: 51.000\nVALIDATION - Epoch 052: | Loss: 0.70616 | Acc: 42.571\n##############################\nTRAIN - Epoch 053: | Loss: 0.71262 | Acc: 37.000\nVALIDATION - Epoch 053: | Loss: 0.70580 | Acc: 43.286\n##############################\nTRAIN - Epoch 054: | Loss: 0.68558 | Acc: 51.500\nVALIDATION - Epoch 054: | Loss: 0.70548 | Acc: 43.286\n##############################\nTRAIN - Epoch 055: | Loss: 0.71757 | Acc: 42.500\nVALIDATION - Epoch 055: | Loss: 0.70508 | Acc: 43.286\n##############################\nTRAIN - Epoch 056: | Loss: 0.68201 | Acc: 50.500\nVALIDATION - Epoch 056: | Loss: 0.70477 | Acc: 43.286\n##############################\nTRAIN - Epoch 057: | Loss: 0.69021 | Acc: 49.500\nVALIDATION - Epoch 057: | Loss: 0.70440 | Acc: 43.286\n##############################\nTRAIN - Epoch 058: | Loss: 0.70337 | Acc: 47.000\nVALIDATION - Epoch 058: | Loss: 0.70406 | Acc: 43.571\n##############################\nTRAIN - Epoch 059: | Loss: 0.69384 | Acc: 50.000\nVALIDATION - Epoch 059: | Loss: 0.70377 | Acc: 43.571\n##############################\nTRAIN - Epoch 060: | Loss: 0.67878 | Acc: 51.500\nVALIDATION - Epoch 060: | Loss: 0.70348 | Acc: 43.571\n##############################\n",
     "output_type": "stream",
     "data": {}
    }
   ]
  },
  {
   "cell_type": "code",
   "metadata": {
    "tags": [],
    "cell_id": "00057-9c3474b8-4ecb-4856-8c3c-047d980fbad8",
    "deepnote_to_be_reexecuted": true,
    "source_hash": "671b8c03",
    "execution_start": 1641827372770,
    "execution_millis": 2,
    "deepnote_cell_type": "code"
   },
   "source": "#control the accuracy between true and predict values on test data\ny_true_test = y_test.values.ravel()\nprint(classification_report(y_true_test, y_pred_test))",
   "execution_count": null,
   "outputs": [
    {
     "name": "stdout",
     "text": "              precision    recall  f1-score   support\n\n           0       0.44      0.59      0.50       204\n           1       0.47      0.32      0.38       228\n\n    accuracy                           0.45       432\n   macro avg       0.45      0.46      0.44       432\nweighted avg       0.45      0.45      0.44       432\n\n",
     "output_type": "stream",
     "data": {}
    }
   ]
  },
  {
   "cell_type": "code",
   "metadata": {
    "tags": [],
    "cell_id": "00058-78764b02-9d16-4b03-8c8c-def5619ac1a9",
    "deepnote_to_be_reexecuted": true,
    "source_hash": "bf15212c",
    "execution_start": 1641827372814,
    "execution_millis": 221,
    "deepnote_output_heights": [
     497.96875
    ],
    "deepnote_cell_type": "code"
   },
   "source": "plt.plot(losses_train,'-')\nplt.plot(losses_test,'-.')\nplt.xlabel('Epochs')\nplt.ylabel('Loss')\nplt.legend(['Train','Test'])\nplt.title('Train vs Test Losses')\n \nplt.show()",
   "execution_count": null,
   "outputs": [
    {
     "data": {
      "text/plain": "<Figure size 720x576 with 1 Axes>",
      "image/png": "[encoded data removed]"
     },
     "metadata": {
      "needs_background": "light",
      "image/png": {
       "width": 615,
       "height": 496
      }
     },
     "output_type": "display_data"
    }
   ]
  },
  {
   "cell_type": "code",
   "metadata": {
    "tags": [],
    "cell_id": "00059-d806e608-4161-4a62-87a1-b94dd94ca3d9",
    "deepnote_to_be_reexecuted": true,
    "source_hash": "4f7d8f58",
    "execution_start": 1641827373040,
    "execution_millis": 288,
    "deepnote_output_heights": [
     497.96875
    ],
    "deepnote_cell_type": "code"
   },
   "source": "#create an accuracy plot\nplt.plot(accuracies_train,'-')\nplt.plot(accuracies_test,'-.')\nplt.xlabel('Epochs')\nplt.ylabel('Accuracy')\nplt.legend(['Train','Test'])\nplt.title('Train vs Test Accuracy')\n \nplt.show()",
   "execution_count": null,
   "outputs": [
    {
     "data": {
      "text/plain": "<Figure size 720x576 with 1 Axes>",
      "image/png": "[encoded data removed]"
     },
     "metadata": {
      "needs_background": "light",
      "image/png": {
       "width": 622,
       "height": 496
      }
     },
     "output_type": "display_data"
    }
   ]
  },
  {
   "cell_type": "markdown",
   "source": "## Defining model for regression task",
   "metadata": {
    "tags": [],
    "cell_id": "00064-add03f45-83e3-45cc-aa20-398093837579",
    "deepnote_cell_type": "markdown"
   }
  },
  {
   "cell_type": "code",
   "metadata": {
    "tags": [],
    "cell_id": "00065-41274349-97d0-4115-9b44-c9fcdb87fec5",
    "deepnote_to_be_reexecuted": true,
    "source_hash": "3afbb4cb",
    "execution_start": 1641827373331,
    "execution_millis": 0,
    "deepnote_cell_type": "code"
   },
   "source": "def mee(true_target, predicted_target): #assuming target is 2-dim matrix with x and y as columns\n    l = true_target.shape[0]\n    res = 0\n    \n    for p in range(l): #for p-th pattern in l (number of samples)\n        x_diff = np.square(true_target[p,0] - predicted_target[p,0]) #difference between the x value of the true and predicted target\n        y_diff = np.square(true_target[p,1] - predicted_target[p,1]) #difference between the y values of true and predicted target\n        sum_term = x_diff + y_diff\n        res = res + np.sqrt(sum_term)\n    res = res / l\n    \n    #return np.average([np.sqrt(np.square(true_target[p,0] - predicted_target[p,0]) + np.square(true_target[p,1] - predicted_target[p,1])) for p in range(l)]) #compact form\n    return res",
   "execution_count": null,
   "outputs": []
  },
  {
   "cell_type": "code",
   "metadata": {
    "tags": [],
    "cell_id": "00065-692a711a-d9b5-4482-b4aa-dce0c33f1d40",
    "deepnote_to_be_reexecuted": true,
    "source_hash": "77cfaef3",
    "execution_start": 1641827373334,
    "execution_millis": 3,
    "deepnote_cell_type": "code"
   },
   "source": "from sklearn.preprocessing import StandardScaler\n\nclass MultiOutputDataset(Dataset):\n    def __init__(self, X, y1, y2, scale_data=True):\n        #self.X = X\n        #self.y1 = y1\n        #self.y2 = y2\n        if not torch.is_tensor(X) and not torch.is_tensor(y):\n            # Apply scaling if necessary\n            if scale_data:\n                X = StandardScaler().fit_transform(X)\n                self.X = torch.from_numpy(X).float()\n                y1 = torch.from_numpy(y1).float()\n                y2 = torch.from_numpy(y2).float()\n                self.y1 = y1.unsqueeze(1)\n                self.y2 = y2.unsqueeze(1)\n        \n    def __len__(self):\n        return len(self.X)\n    \n    def __getitem__(self, idx):\n        return self.X[idx], self.y1[idx], self.y2[idx]",
   "execution_count": null,
   "outputs": []
  },
  {
   "cell_type": "code",
   "metadata": {
    "tags": [],
    "cell_id": "00064-330190a4-7a63-47b3-87cb-ffda998254ea",
    "deepnote_to_be_reexecuted": true,
    "source_hash": "7344267f",
    "execution_start": 1641827373340,
    "execution_millis": 4,
    "deepnote_cell_type": "code"
   },
   "source": "#define a neural network\nclass RegressionNet(nn.Module):\n    def __init__(self, n_input, n_hidden1, n_hidden2, n_output):\n        super(RegressionNet, self).__init__()\n        self.layer_in = nn.Linear(n_input, n_hidden1)\n        self.layer_1 = nn.Linear(n_hidden1, n_hidden2) \n        self.last_fc = nn.Linear(n_hidden2, 1)\n        #self.layer_out = nn.Linear(n_hidden2, n_output) \n        \n        self.relu = nn.ReLU(inplace=True)\n        self.sigmoid =  nn.Sigmoid()\n        self.dropout = nn.Dropout(p=0.5)\n        self.batchnorm1 = nn.BatchNorm1d(n_hidden1)\n        self.batchnorm2 = nn.BatchNorm1d(n_hidden2)\n\n    def forward(self, inputs):\n        x = self.relu(self.layer_in(inputs))\n        x = self.batchnorm1(x)\n        x = self.relu(self.layer_1(x))\n        x = self.batchnorm2(x)\n        x = self.dropout(x)\n\n        out1 = self.last_fc(x)\n        x2 = self.last_fc(x)\n        #x = self.layer_out(x)\n        #x = self.sigmoid(self.layer_out(x))\n        out2 = self.sigmoid(nn.ReLU()(x2))\n        \n        #return x\n        return out1, out2",
   "execution_count": null,
   "outputs": []
  },
  {
   "cell_type": "code",
   "metadata": {
    "tags": [],
    "cell_id": "00006-c17f7883-4cbb-46c4-a640-27e7f2ebf598",
    "deepnote_to_be_reexecuted": true,
    "source_hash": "467f25a2",
    "deepnote_output_heights": [
     78.796875
    ],
    "allow_embed": false,
    "execution_start": 1641827373347,
    "execution_millis": 3,
    "deepnote_cell_type": "code"
   },
   "source": "#function to define the train phase\ndef TrainPhase_Cup(epochs, model, aggregated_losses, aggregated_accuracy, data_train, loss1, loss2, optimizer):\n    model.train()\n    i = epochs\n\n    epoch_loss = 0\n    epoch_acc = 0\n    \n    for X_batch, y_batch1, y_batch2 in data_train:\n        X_batch, y_batch1, y_batch2 = X_batch.to(device), y_batch1.to(device), y_batch2.to(device)\n        optimizer.zero_grad()\n       \n        #y_pred = model(X_batch)\n        y_pred1, y_pred2 = model(X_batch)\n        \n        #single_loss = loss(y_pred, y_batch)\n        single_loss1 = loss1(y_pred1, y_batch1)\n        single_loss2 = loss2(y_pred2, y_batch2)\n        single_loss = torch.add(single_loss1, single_loss2)\n\n        #acc = binary_acc(y_pred, y_batch)\n        acc = 0\n             \n        single_loss.backward()\n        optimizer.step()\n        \n        epoch_loss += single_loss.item()*X_batch.size(0)\n        #epoch_acc += acc.item()\n        \n    aggregated_losses.append(epoch_loss/len(data_train))\n    aggregated_accuracy.append((epoch_acc/len(data_train))/100)\n    print(f'TRAIN - Epoch {i+0:03}: | Loss: {epoch_loss/len(data_train):.5f} | Acc: {epoch_acc/len(data_train):.3f}')\n\n    #aggregated_losses.append(single_loss.item())\n    #aggregated_accuracy.append(acc/100)\n    #print(f'TRAIN - Epoch {i+0:03}: | Loss: {single_loss.item():.5f} | Acc: {acc:.3f}')\n    \n    return model, aggregated_losses, aggregated_accuracy",
   "execution_count": null,
   "outputs": []
  },
  {
   "cell_type": "code",
   "metadata": {
    "tags": [],
    "cell_id": "00007-71361c5c-030e-453b-9491-aadacd2ffb02",
    "deepnote_to_be_reexecuted": true,
    "source_hash": "84eb46a2",
    "deepnote_output_heights": [
     78.796875
    ],
    "allow_embed": false,
    "execution_start": 1641827373356,
    "execution_millis": 3,
    "deepnote_cell_type": "code"
   },
   "source": "#function to define the evaluate phase\ndef Evaluate_Cup(epochs, model, aggregated_losses, aggregated_accuracy, data_test, loss_f1, loss_f2):\n    \n    i = epochs\n    y_pred_list = []\n    model.eval()\n        \n    epoch_loss = 0\n    epoch_acc = 0\n\n    with torch.no_grad():\n        for X_batch, y_batch1, y_batch2 in data_test:\n            X_batch, y_batch1, y_batch2 = X_batch.to(device), y_batch1.to(device). y_batch2.to(device)\n\n            #y_test_pred = model(X_batch)\n            y_pred1, y_pred2 = model(X_batch)\n\n            #loss = loss_f(y_test_pred, y_batch)\n            loss1 = loss_f1(y_pred1, y_batch1)\n            loss2 = loss_f2(y_pred2, y_batch2)\n            loss = torch.add(loss1, loss2)\n            \n            #acc = binary_acc(y_test_pred, y_batch)\n            acc = 0\n                \n            #epoch_loss += loss.item()\n            epoch_loss += loss.item()*X_batch.size(0)\n            #epoch_acc += acc.item()\n\n            #y_test_pred = torch.sigmoid(y_test_pred)\n            #y_pred_tag = torch.round(y_test_pred)\n            #y_pred_list.append(y_pred_tag.detach().numpy())\n\n    #y_pred_list = [a.squeeze().tolist() for a in y_pred_list]\n    #flattens the lists in sequence\n    #ytest_pred = list(itertools.chain.from_iterable(y_pred_list))\n\n    aggregated_losses.append(epoch_loss/len(data_test))\n    aggregated_accuracy.append((epoch_acc/len(data_test))/100)\n    #print(f'TEST - Epoch {i+0:03}: | Loss: {epoch_loss/len(data_test):.5f} | Acc: {epoch_acc/len(data_test):.3f}')\n    print(f'VALIDATION - Epoch {i+0:03}: | Loss: {epoch_loss/len(data_test):.5f} | Acc: {epoch_acc/len(data_test):.3f}')\n\n    #aggregated_losses.append(loss.item())\n    #aggregated_accuracy.append(acc/100)\n    #print(f'VALIDATION - Epoch {i+0:03}: | Loss: {loss.item():.5f} | Acc: {acc:.3f}')\n    \n    return aggregated_losses, aggregated_accuracy\n    ",
   "execution_count": null,
   "outputs": []
  },
  {
   "cell_type": "markdown",
   "source": "## ML-Cup dataset",
   "metadata": {
    "tags": [],
    "cell_id": "00064-8f412851-229b-43fa-9fbe-b53e7ee9d525",
    "deepnote_cell_type": "markdown"
   }
  },
  {
   "cell_type": "markdown",
   "source": "### Loading the training and blind test dataset",
   "metadata": {
    "tags": [],
    "cell_id": "00066-ede8a63d-a700-4a7e-b6af-4cddab2e388a",
    "deepnote_cell_type": "markdown"
   }
  },
  {
   "cell_type": "code",
   "metadata": {
    "tags": [],
    "cell_id": "00065-463d3967-b915-4c16-af59-3e013c0f9f2d",
    "deepnote_to_be_reexecuted": true,
    "source_hash": "6cfa231b",
    "execution_start": 1641827373361,
    "execution_millis": 15,
    "deepnote_cell_type": "code"
   },
   "source": "df_visual = pd.read_csv('./data/ML-CUP21-TR.csv', usecols=[11,12], names=['idx','f1','f2','f3','f4','f5','f6','f7','f8','f9','f10', 'x','y'])\ndf_task_tr = pd.read_csv('./data/ML-CUP21-TR.csv', names=['idx','f1','f2','f3','f4','f5','f6','f7','f8','f9','f10', 'x','y'])\ndf_task_tr = df_task_tr[7:] # remove first 7 rows of comments\ndf_visual = df_visual[7:]\n\ndf_blind_ts = pd.read_csv('./data/ML-CUP21-TS.csv', names=['idx','f1','f2','f3','f4','f5','f6','f7','f8','f9','f10'])\ndf_blind_ts = df_blind_ts[7:]\ndf_blind_ts.drop(labels=\"idx\", axis=1, inplace=True)\n#blind_ts = df_blind_ts.values",
   "execution_count": null,
   "outputs": []
  },
  {
   "cell_type": "code",
   "metadata": {
    "tags": [],
    "cell_id": "00067-16357b97-03be-4f4c-8c52-1ed9c92021f8",
    "deepnote_to_be_reexecuted": true,
    "source_hash": "192dcf",
    "execution_start": 1641827373396,
    "execution_millis": 1,
    "deepnote_cell_type": "code"
   },
   "source": "df_task_tr.drop(labels=\"idx\", axis=1, inplace=True)",
   "execution_count": null,
   "outputs": []
  },
  {
   "cell_type": "code",
   "metadata": {
    "tags": [],
    "cell_id": "00068-881ff4a9-fed1-4062-8c31-1376b6a90c75",
    "deepnote_to_be_reexecuted": true,
    "source_hash": "3deb8984",
    "execution_start": 1641827373397,
    "execution_millis": 2,
    "deepnote_cell_type": "code"
   },
   "source": "y = df_task_tr[['x','y']]\nX = df_task_tr.drop(labels=['x','y'], axis=1)\nX_test = df_blind_ts\n\nprint(y.shape)",
   "execution_count": null,
   "outputs": [
    {
     "name": "stdout",
     "text": "(1477, 2)\n",
     "output_type": "stream",
     "data": {}
    }
   ]
  },
  {
   "cell_type": "markdown",
   "source": "### Internal Test set\nWe split the training set obtaining an internal test set composed of the 20% of the training set, we will use this internal test set to test the generalization error",
   "metadata": {
    "tags": [],
    "cell_id": "00069-49a89f14-96df-40ac-82a5-ca980b9166b0",
    "deepnote_to_be_reexecuted": false,
    "source_hash": "192ce9ee",
    "execution_start": 1640859056745,
    "execution_millis": 8,
    "deepnote_cell_type": "markdown"
   }
  },
  {
   "cell_type": "code",
   "metadata": {
    "tags": [],
    "cell_id": "00070-6b05c6e5-568e-47cc-9e6a-9762ce8c7d38",
    "deepnote_to_be_reexecuted": true,
    "source_hash": "1a0e1af1",
    "execution_start": 1641827373398,
    "execution_millis": 3,
    "deepnote_output_heights": [
     597.1875
    ],
    "deepnote_cell_type": "code"
   },
   "source": "#prepare validation set\nX_train, X_validation, y_train, y_validation = train_test_split(X, y, test_size=0.1, random_state=420)\nprint(f\"X shape: {X_train.shape}\")\nprint(f\"X validation shape: {X_validation.shape}\")\nprint(f\"y shape: {y_train.shape}\")\nprint(f\"y validation shape: {y_validation.shape}\")",
   "execution_count": null,
   "outputs": [
    {
     "name": "stdout",
     "text": "X shape: (1329, 10)\nX validation shape: (148, 10)\ny shape: (1329, 2)\ny validation shape: (148, 2)\n",
     "output_type": "stream",
     "data": {}
    }
   ]
  },
  {
   "cell_type": "code",
   "metadata": {
    "tags": [],
    "cell_id": "00076-dc65ff05-f39b-41a6-b617-e9839384342e",
    "deepnote_to_be_reexecuted": true,
    "source_hash": "5054aba7",
    "execution_start": 1641827373402,
    "execution_millis": 5,
    "deepnote_cell_type": "code"
   },
   "source": "y1_train = y_train[['x']]\ny2_train = y_train[['y']]\n\ny1_validation = y_validation[['x']]\ny2_validation = y_validation[['y']]\n\nprint(f\"First output train shape: {y1_train.shape}\")\nprint(f\"Second output train shape: {y2_train.shape}\")\n\nprint(f\"First output validation shape: {y1_validation.shape}\")\nprint(f\"Second output validation shape: {y2_validation.shape}\")",
   "execution_count": null,
   "outputs": [
    {
     "name": "stdout",
     "text": "First output train shape: (1329, 1)\nSecond output train shape: (1329, 1)\nFirst output validation shape: (148, 1)\nSecond output validation shape: (148, 1)\n",
     "output_type": "stream",
     "data": {}
    }
   ]
  },
  {
   "cell_type": "code",
   "metadata": {
    "tags": [],
    "cell_id": "00070-bec68122-9bb0-4b8a-8b72-e2171a1f91a4",
    "deepnote_to_be_reexecuted": true,
    "source_hash": "3aa1cbbd",
    "execution_start": 1641827373407,
    "execution_millis": 2,
    "deepnote_cell_type": "code"
   },
   "source": "#create tensor for train and test data \nX_train = X_train.values #returns a ndarray\nX_test = X_test.values\nX_validation = X_validation.values\n\n#x_tensor =  torch.from_numpy(X_train).float()\n#y1_tensor =  torch.from_numpy(y1_train.values).float()\n#y2_tensor =  torch.from_numpy(y2_train.values).float()\n#xval_tensor =  torch.from_numpy(X_validation).float()\n#yval1_tensor =  torch.from_numpy(y1_validation.values).float()\n#yval2_tensor =  torch.from_numpy(y2_validation.values).float()\n\nxtest_tensor =  torch.from_numpy(X_test).float()\n#ytest_tensor =  torch.from_numpy(y_test.values).float()",
   "execution_count": null,
   "outputs": []
  },
  {
   "cell_type": "code",
   "metadata": {
    "tags": [],
    "cell_id": "00072-b8c93b50-4529-4093-83ba-f495bac56d58",
    "deepnote_to_be_reexecuted": true,
    "source_hash": "d041b6ab",
    "execution_start": 1641827373412,
    "execution_millis": 7,
    "deepnote_output_heights": [
     null,
     309.1875
    ],
    "deepnote_cell_type": "code"
   },
   "source": "#prepare dataloader for training\n#y1_tensor = y1_tensor.unsqueeze(1)\n#y2_tensor = y2_tensor.unsqueeze(1)\n\nprint(x_tensor.shape)\n#print(yval1_tensor.shape)\n#print(yval2_tensor.shape)\n\n#train_ds = TensorDataset(x_tensor, y_tensor)\ntrain_ds = MultiOutputDataset(X_train, y1_train.values, y2_train.values)\ntrain_loader = DataLoader(train_ds, batch_size=BATCH_SIZE, shuffle=True)",
   "execution_count": null,
   "outputs": [
    {
     "name": "stdout",
     "text": "torch.Size([122, 6])\n",
     "output_type": "stream",
     "data": {}
    }
   ]
  },
  {
   "cell_type": "code",
   "metadata": {
    "tags": [],
    "cell_id": "00073-f22280d1-f815-4ee5-b663-90560af04611",
    "deepnote_to_be_reexecuted": true,
    "source_hash": "ddd9fe78",
    "execution_start": 1641827373420,
    "execution_millis": 3,
    "deepnote_output_heights": [
     309.1875
    ],
    "deepnote_cell_type": "code"
   },
   "source": "#prepare dataloader for validation \n#yval1_tensor = yval1_tensor.unsqueeze(1)\n#yval2_tensor = yval2_tensor.unsqueeze(1)\n\n#val_ds = TensorDataset(xval_tensor, yval_tensor)\nval_ds = MultiOutputDataset(xval_tensor, y1_validation.values, y2_validation.values)\nval_loader = DataLoader(val_ds, batch_size=BATCH_SIZE, shuffle=False)",
   "execution_count": null,
   "outputs": []
  },
  {
   "cell_type": "code",
   "metadata": {
    "tags": [],
    "cell_id": "00074-5e70281b-f56c-46b6-9daa-76714cc6381b",
    "deepnote_to_be_reexecuted": true,
    "source_hash": "4e1abf36",
    "execution_start": 1641827373424,
    "execution_millis": 3,
    "deepnote_cell_type": "code"
   },
   "source": "#prepare dataloader for evaluating \nytest_tensor = ytest_tensor.unsqueeze(1)\ntest_ds = TensorDataset(xtest_tensor)\ntest_loader = DataLoader(test_ds, batch_size=1, shuffle=False)",
   "execution_count": null,
   "outputs": []
  },
  {
   "cell_type": "markdown",
   "source": "### Training and evaluate",
   "metadata": {
    "tags": [],
    "cell_id": "00076-f865e5ac-6559-424c-aa18-88937f98f068",
    "deepnote_cell_type": "markdown"
   }
  },
  {
   "cell_type": "code",
   "metadata": {
    "tags": [],
    "cell_id": "00075-6ba97549-8809-4d2c-b9e7-2323350188d5",
    "deepnote_to_be_reexecuted": true,
    "source_hash": "fd0f26b6",
    "execution_start": 1641827373429,
    "execution_millis": 6,
    "deepnote_output_heights": [
     309.1875
    ],
    "deepnote_cell_type": "code"
   },
   "source": "#define the model\nmodel = RegressionNet(X_train.shape[1], 100, 50, 2)\nmodel.to(device)\nprint(model)",
   "execution_count": null,
   "outputs": [
    {
     "name": "stdout",
     "text": "RegressionNet(\n  (layer_in): Linear(in_features=10, out_features=100, bias=True)\n  (layer_1): Linear(in_features=100, out_features=50, bias=True)\n  (last_fc): Linear(in_features=50, out_features=1, bias=True)\n  (relu): ReLU(inplace=True)\n  (sigmoid): Sigmoid()\n  (dropout): Dropout(p=0.5, inplace=False)\n  (batchnorm1): BatchNorm1d(100, eps=1e-05, momentum=0.1, affine=True, track_running_stats=True)\n  (batchnorm2): BatchNorm1d(50, eps=1e-05, momentum=0.1, affine=True, track_running_stats=True)\n)\n",
     "output_type": "stream",
     "data": {}
    }
   ]
  },
  {
   "cell_type": "code",
   "metadata": {
    "tags": [],
    "cell_id": "00079-20f052a8-3127-494c-86ae-21595607aaec",
    "deepnote_to_be_reexecuted": true,
    "source_hash": "8930b113",
    "execution_start": 1641827373436,
    "execution_millis": 3,
    "deepnote_cell_type": "code"
   },
   "source": "#define the loss function \nloss_function1 = nn.MSELoss(reduction='mean')\nloss_function2 = nn.MSELoss(reduction='mean')\n#define the optimizer\n#optimizer = torch.optim.SGD(model.parameters(), lr=LEARNING_RATE, momentum=MOMENTUM, weight_decay=L2, dampening=DAMPENING, nesterov=NESTEROV)\noptimizer = torch.optim.Adam(model.parameters(), lr=LEARNING_RATE)",
   "execution_count": null,
   "outputs": []
  },
  {
   "cell_type": "code",
   "metadata": {
    "tags": [],
    "cell_id": "00080-47553de8-36ca-40fc-8164-ef3f345bac7a",
    "deepnote_to_be_reexecuted": true,
    "source_hash": "e86db83f",
    "execution_start": 1641827373442,
    "execution_millis": 279,
    "deepnote_output_heights": [
     null,
     606.1875
    ],
    "deepnote_cell_type": "code"
   },
   "source": "#prepare empty lists to store accuracy and loss results\nlosses_train = []\naccuracies_train = []\nlosses_test = []\naccuracies_test = []\n\n#train and evaluate for each epoch\nfor epoch in range(1,EPOCHS+1): \n  # Early stopping\n  last_loss = 1\n  patience = 2\n  trigger_times = 0\n\n  model, losses_train, accuracies_train = TrainPhase_Cup(epoch, model, losses_train, accuracies_train, train_loader, loss_function1, loss_function2, optimizer)\n  #y_pred_test, losses_test, accuracies_test = Evaluate(epoch, model, losses_test, accuracies_test, test_loader, loss_function)\n  losses_test, accuracies_test = Evaluate_Cup(epoch, model, losses_test, accuracies_test, val_loader, loss_function1, loss_function2)\n\n  # Early stopping\n  if losses_test[epoch - 1] > last_loss:\n      trigger_times += 1\n\n      if trigger_times >= patience:\n          print('Early stopping!\\nStart to test process.')\n          break\n  else:\n      trigger_times = 0\n  \n  print(\"##############################\")",
   "execution_count": null,
   "outputs": [
    {
     "name": "stdout",
     "text": "TRAIN - Epoch 001: | Loss: 31283.78385 | Acc: 0.000\n",
     "output_type": "stream",
     "data": {}
    },
    {
     "output_type": "error",
     "ename": "AttributeError",
     "evalue": "",
     "traceback": [
      "\u001b[0;31m---------------------------------------------------------------------------\u001b[0m",
      "\u001b[0;31mAttributeError\u001b[0m                            Traceback (most recent call last)",
      "\u001b[0;32m<ipython-input-75-942cd341ab12>\u001b[0m in \u001b[0;36m<module>\u001b[0;34m\u001b[0m\n\u001b[1;32m     14\u001b[0m   \u001b[0mmodel\u001b[0m\u001b[0;34m,\u001b[0m \u001b[0mlosses_train\u001b[0m\u001b[0;34m,\u001b[0m \u001b[0maccuracies_train\u001b[0m \u001b[0;34m=\u001b[0m \u001b[0mTrainPhase_Cup\u001b[0m\u001b[0;34m(\u001b[0m\u001b[0mepoch\u001b[0m\u001b[0;34m,\u001b[0m \u001b[0mmodel\u001b[0m\u001b[0;34m,\u001b[0m \u001b[0mlosses_train\u001b[0m\u001b[0;34m,\u001b[0m \u001b[0maccuracies_train\u001b[0m\u001b[0;34m,\u001b[0m \u001b[0mtrain_loader\u001b[0m\u001b[0;34m,\u001b[0m \u001b[0mloss_function1\u001b[0m\u001b[0;34m,\u001b[0m \u001b[0mloss_function2\u001b[0m\u001b[0;34m,\u001b[0m \u001b[0moptimizer\u001b[0m\u001b[0;34m)\u001b[0m\u001b[0;34m\u001b[0m\u001b[0;34m\u001b[0m\u001b[0m\n\u001b[1;32m     15\u001b[0m   \u001b[0;31m#y_pred_test, losses_test, accuracies_test = Evaluate(epoch, model, losses_test, accuracies_test, test_loader, loss_function)\u001b[0m\u001b[0;34m\u001b[0m\u001b[0;34m\u001b[0m\u001b[0;34m\u001b[0m\u001b[0m\n\u001b[0;32m---> 16\u001b[0;31m   \u001b[0mlosses_test\u001b[0m\u001b[0;34m,\u001b[0m \u001b[0maccuracies_test\u001b[0m \u001b[0;34m=\u001b[0m \u001b[0mEvaluate_Cup\u001b[0m\u001b[0;34m(\u001b[0m\u001b[0mepoch\u001b[0m\u001b[0;34m,\u001b[0m \u001b[0mmodel\u001b[0m\u001b[0;34m,\u001b[0m \u001b[0mlosses_test\u001b[0m\u001b[0;34m,\u001b[0m \u001b[0maccuracies_test\u001b[0m\u001b[0;34m,\u001b[0m \u001b[0mval_loader\u001b[0m\u001b[0;34m,\u001b[0m \u001b[0mloss_function1\u001b[0m\u001b[0;34m,\u001b[0m \u001b[0mloss_function2\u001b[0m\u001b[0;34m)\u001b[0m\u001b[0;34m\u001b[0m\u001b[0;34m\u001b[0m\u001b[0m\n\u001b[0m\u001b[1;32m     17\u001b[0m \u001b[0;34m\u001b[0m\u001b[0m\n\u001b[1;32m     18\u001b[0m   \u001b[0;31m# Early stopping\u001b[0m\u001b[0;34m\u001b[0m\u001b[0;34m\u001b[0m\u001b[0;34m\u001b[0m\u001b[0m\n",
      "\u001b[0;32m<ipython-input-63-4750bf51ae20>\u001b[0m in \u001b[0;36mEvaluate_Cup\u001b[0;34m(epochs, model, aggregated_losses, aggregated_accuracy, data_test, loss_f1, loss_f2)\u001b[0m\n\u001b[1;32m     10\u001b[0m \u001b[0;34m\u001b[0m\u001b[0m\n\u001b[1;32m     11\u001b[0m     \u001b[0;32mwith\u001b[0m \u001b[0mtorch\u001b[0m\u001b[0;34m.\u001b[0m\u001b[0mno_grad\u001b[0m\u001b[0;34m(\u001b[0m\u001b[0;34m)\u001b[0m\u001b[0;34m:\u001b[0m\u001b[0;34m\u001b[0m\u001b[0;34m\u001b[0m\u001b[0m\n\u001b[0;32m---> 12\u001b[0;31m         \u001b[0;32mfor\u001b[0m \u001b[0mX_batch\u001b[0m\u001b[0;34m,\u001b[0m \u001b[0my_batch1\u001b[0m\u001b[0;34m,\u001b[0m \u001b[0my_batch2\u001b[0m \u001b[0;32min\u001b[0m \u001b[0mdata_test\u001b[0m\u001b[0;34m:\u001b[0m\u001b[0;34m\u001b[0m\u001b[0;34m\u001b[0m\u001b[0m\n\u001b[0m\u001b[1;32m     13\u001b[0m             \u001b[0mX_batch\u001b[0m\u001b[0;34m,\u001b[0m \u001b[0my_batch1\u001b[0m\u001b[0;34m,\u001b[0m \u001b[0my_batch2\u001b[0m \u001b[0;34m=\u001b[0m \u001b[0mX_batch\u001b[0m\u001b[0;34m.\u001b[0m\u001b[0mto\u001b[0m\u001b[0;34m(\u001b[0m\u001b[0mdevice\u001b[0m\u001b[0;34m)\u001b[0m\u001b[0;34m,\u001b[0m \u001b[0my_batch1\u001b[0m\u001b[0;34m.\u001b[0m\u001b[0mto\u001b[0m\u001b[0;34m(\u001b[0m\u001b[0mdevice\u001b[0m\u001b[0;34m)\u001b[0m\u001b[0;34m.\u001b[0m \u001b[0my_batch2\u001b[0m\u001b[0;34m.\u001b[0m\u001b[0mto\u001b[0m\u001b[0;34m(\u001b[0m\u001b[0mdevice\u001b[0m\u001b[0;34m)\u001b[0m\u001b[0;34m\u001b[0m\u001b[0;34m\u001b[0m\u001b[0m\n\u001b[1;32m     14\u001b[0m \u001b[0;34m\u001b[0m\u001b[0m\n",
      "\u001b[0;32m/shared-libs/python3.7/py/lib/python3.7/site-packages/torch/utils/data/dataloader.py\u001b[0m in \u001b[0;36m__next__\u001b[0;34m(self)\u001b[0m\n\u001b[1;32m    519\u001b[0m             \u001b[0;32mif\u001b[0m \u001b[0mself\u001b[0m\u001b[0;34m.\u001b[0m\u001b[0m_sampler_iter\u001b[0m \u001b[0;32mis\u001b[0m \u001b[0;32mNone\u001b[0m\u001b[0;34m:\u001b[0m\u001b[0;34m\u001b[0m\u001b[0;34m\u001b[0m\u001b[0m\n\u001b[1;32m    520\u001b[0m                 \u001b[0mself\u001b[0m\u001b[0;34m.\u001b[0m\u001b[0m_reset\u001b[0m\u001b[0;34m(\u001b[0m\u001b[0;34m)\u001b[0m\u001b[0;34m\u001b[0m\u001b[0;34m\u001b[0m\u001b[0m\n\u001b[0;32m--> 521\u001b[0;31m             \u001b[0mdata\u001b[0m \u001b[0;34m=\u001b[0m \u001b[0mself\u001b[0m\u001b[0;34m.\u001b[0m\u001b[0m_next_data\u001b[0m\u001b[0;34m(\u001b[0m\u001b[0;34m)\u001b[0m\u001b[0;34m\u001b[0m\u001b[0;34m\u001b[0m\u001b[0m\n\u001b[0m\u001b[1;32m    522\u001b[0m             \u001b[0mself\u001b[0m\u001b[0;34m.\u001b[0m\u001b[0m_num_yielded\u001b[0m \u001b[0;34m+=\u001b[0m \u001b[0;36m1\u001b[0m\u001b[0;34m\u001b[0m\u001b[0;34m\u001b[0m\u001b[0m\n\u001b[1;32m    523\u001b[0m             \u001b[0;32mif\u001b[0m \u001b[0mself\u001b[0m\u001b[0;34m.\u001b[0m\u001b[0m_dataset_kind\u001b[0m \u001b[0;34m==\u001b[0m \u001b[0m_DatasetKind\u001b[0m\u001b[0;34m.\u001b[0m\u001b[0mIterable\u001b[0m \u001b[0;32mand\u001b[0m\u001b[0;31m \u001b[0m\u001b[0;31m\\\u001b[0m\u001b[0;34m\u001b[0m\u001b[0;34m\u001b[0m\u001b[0m\n",
      "\u001b[0;32m/shared-libs/python3.7/py/lib/python3.7/site-packages/torch/utils/data/dataloader.py\u001b[0m in \u001b[0;36m_next_data\u001b[0;34m(self)\u001b[0m\n\u001b[1;32m    558\u001b[0m \u001b[0;34m\u001b[0m\u001b[0m\n\u001b[1;32m    559\u001b[0m     \u001b[0;32mdef\u001b[0m \u001b[0m_next_data\u001b[0m\u001b[0;34m(\u001b[0m\u001b[0mself\u001b[0m\u001b[0;34m)\u001b[0m\u001b[0;34m:\u001b[0m\u001b[0;34m\u001b[0m\u001b[0;34m\u001b[0m\u001b[0m\n\u001b[0;32m--> 560\u001b[0;31m         \u001b[0mindex\u001b[0m \u001b[0;34m=\u001b[0m \u001b[0mself\u001b[0m\u001b[0;34m.\u001b[0m\u001b[0m_next_index\u001b[0m\u001b[0;34m(\u001b[0m\u001b[0;34m)\u001b[0m  \u001b[0;31m# may raise StopIteration\u001b[0m\u001b[0;34m\u001b[0m\u001b[0;34m\u001b[0m\u001b[0m\n\u001b[0m\u001b[1;32m    561\u001b[0m         \u001b[0mdata\u001b[0m \u001b[0;34m=\u001b[0m \u001b[0mself\u001b[0m\u001b[0;34m.\u001b[0m\u001b[0m_dataset_fetcher\u001b[0m\u001b[0;34m.\u001b[0m\u001b[0mfetch\u001b[0m\u001b[0;34m(\u001b[0m\u001b[0mindex\u001b[0m\u001b[0;34m)\u001b[0m  \u001b[0;31m# may raise StopIteration\u001b[0m\u001b[0;34m\u001b[0m\u001b[0;34m\u001b[0m\u001b[0m\n\u001b[1;32m    562\u001b[0m         \u001b[0;32mif\u001b[0m \u001b[0mself\u001b[0m\u001b[0;34m.\u001b[0m\u001b[0m_pin_memory\u001b[0m\u001b[0;34m:\u001b[0m\u001b[0;34m\u001b[0m\u001b[0;34m\u001b[0m\u001b[0m\n",
      "\u001b[0;32m/shared-libs/python3.7/py/lib/python3.7/site-packages/torch/utils/data/dataloader.py\u001b[0m in \u001b[0;36m_next_index\u001b[0;34m(self)\u001b[0m\n\u001b[1;32m    510\u001b[0m \u001b[0;34m\u001b[0m\u001b[0m\n\u001b[1;32m    511\u001b[0m     \u001b[0;32mdef\u001b[0m \u001b[0m_next_index\u001b[0m\u001b[0;34m(\u001b[0m\u001b[0mself\u001b[0m\u001b[0;34m)\u001b[0m\u001b[0;34m:\u001b[0m\u001b[0;34m\u001b[0m\u001b[0;34m\u001b[0m\u001b[0m\n\u001b[0;32m--> 512\u001b[0;31m         \u001b[0;32mreturn\u001b[0m \u001b[0mnext\u001b[0m\u001b[0;34m(\u001b[0m\u001b[0mself\u001b[0m\u001b[0;34m.\u001b[0m\u001b[0m_sampler_iter\u001b[0m\u001b[0;34m)\u001b[0m  \u001b[0;31m# may raise StopIteration\u001b[0m\u001b[0;34m\u001b[0m\u001b[0;34m\u001b[0m\u001b[0m\n\u001b[0m\u001b[1;32m    513\u001b[0m \u001b[0;34m\u001b[0m\u001b[0m\n\u001b[1;32m    514\u001b[0m     \u001b[0;32mdef\u001b[0m \u001b[0m_next_data\u001b[0m\u001b[0;34m(\u001b[0m\u001b[0mself\u001b[0m\u001b[0;34m)\u001b[0m\u001b[0;34m:\u001b[0m\u001b[0;34m\u001b[0m\u001b[0;34m\u001b[0m\u001b[0m\n",
      "\u001b[0;32m/shared-libs/python3.7/py/lib/python3.7/site-packages/torch/utils/data/sampler.py\u001b[0m in \u001b[0;36m__iter__\u001b[0;34m(self)\u001b[0m\n\u001b[1;32m    227\u001b[0m     \u001b[0;32mdef\u001b[0m \u001b[0m__iter__\u001b[0m\u001b[0;34m(\u001b[0m\u001b[0mself\u001b[0m\u001b[0;34m)\u001b[0m \u001b[0;34m->\u001b[0m \u001b[0mIterator\u001b[0m\u001b[0;34m[\u001b[0m\u001b[0mList\u001b[0m\u001b[0;34m[\u001b[0m\u001b[0mint\u001b[0m\u001b[0;34m]\u001b[0m\u001b[0;34m]\u001b[0m\u001b[0;34m:\u001b[0m\u001b[0;34m\u001b[0m\u001b[0;34m\u001b[0m\u001b[0m\n\u001b[1;32m    228\u001b[0m         \u001b[0mbatch\u001b[0m \u001b[0;34m=\u001b[0m \u001b[0;34m[\u001b[0m\u001b[0;34m]\u001b[0m\u001b[0;34m\u001b[0m\u001b[0;34m\u001b[0m\u001b[0m\n\u001b[0;32m--> 229\u001b[0;31m         \u001b[0;32mfor\u001b[0m \u001b[0midx\u001b[0m \u001b[0;32min\u001b[0m \u001b[0mself\u001b[0m\u001b[0;34m.\u001b[0m\u001b[0msampler\u001b[0m\u001b[0;34m:\u001b[0m\u001b[0;34m\u001b[0m\u001b[0;34m\u001b[0m\u001b[0m\n\u001b[0m\u001b[1;32m    230\u001b[0m             \u001b[0mbatch\u001b[0m\u001b[0;34m.\u001b[0m\u001b[0mappend\u001b[0m\u001b[0;34m(\u001b[0m\u001b[0midx\u001b[0m\u001b[0;34m)\u001b[0m\u001b[0;34m\u001b[0m\u001b[0;34m\u001b[0m\u001b[0m\n\u001b[1;32m    231\u001b[0m             \u001b[0;32mif\u001b[0m \u001b[0mlen\u001b[0m\u001b[0;34m(\u001b[0m\u001b[0mbatch\u001b[0m\u001b[0;34m)\u001b[0m \u001b[0;34m==\u001b[0m \u001b[0mself\u001b[0m\u001b[0;34m.\u001b[0m\u001b[0mbatch_size\u001b[0m\u001b[0;34m:\u001b[0m\u001b[0;34m\u001b[0m\u001b[0;34m\u001b[0m\u001b[0m\n",
      "\u001b[0;32m/shared-libs/python3.7/py/lib/python3.7/site-packages/torch/utils/data/sampler.py\u001b[0m in \u001b[0;36m__iter__\u001b[0;34m(self)\u001b[0m\n\u001b[1;32m     64\u001b[0m \u001b[0;34m\u001b[0m\u001b[0m\n\u001b[1;32m     65\u001b[0m     \u001b[0;32mdef\u001b[0m \u001b[0m__iter__\u001b[0m\u001b[0;34m(\u001b[0m\u001b[0mself\u001b[0m\u001b[0;34m)\u001b[0m \u001b[0;34m->\u001b[0m \u001b[0mIterator\u001b[0m\u001b[0;34m[\u001b[0m\u001b[0mint\u001b[0m\u001b[0;34m]\u001b[0m\u001b[0;34m:\u001b[0m\u001b[0;34m\u001b[0m\u001b[0;34m\u001b[0m\u001b[0m\n\u001b[0;32m---> 66\u001b[0;31m         \u001b[0;32mreturn\u001b[0m \u001b[0miter\u001b[0m\u001b[0;34m(\u001b[0m\u001b[0mrange\u001b[0m\u001b[0;34m(\u001b[0m\u001b[0mlen\u001b[0m\u001b[0;34m(\u001b[0m\u001b[0mself\u001b[0m\u001b[0;34m.\u001b[0m\u001b[0mdata_source\u001b[0m\u001b[0;34m)\u001b[0m\u001b[0;34m)\u001b[0m\u001b[0;34m)\u001b[0m\u001b[0;34m\u001b[0m\u001b[0;34m\u001b[0m\u001b[0m\n\u001b[0m\u001b[1;32m     67\u001b[0m \u001b[0;34m\u001b[0m\u001b[0m\n\u001b[1;32m     68\u001b[0m     \u001b[0;32mdef\u001b[0m \u001b[0m__len__\u001b[0m\u001b[0;34m(\u001b[0m\u001b[0mself\u001b[0m\u001b[0;34m)\u001b[0m \u001b[0;34m->\u001b[0m \u001b[0mint\u001b[0m\u001b[0;34m:\u001b[0m\u001b[0;34m\u001b[0m\u001b[0;34m\u001b[0m\u001b[0m\n",
      "\u001b[0;32m<ipython-input-60-42a002f496d0>\u001b[0m in \u001b[0;36m__len__\u001b[0;34m(self)\u001b[0m\n\u001b[1;32m     17\u001b[0m \u001b[0;34m\u001b[0m\u001b[0m\n\u001b[1;32m     18\u001b[0m     \u001b[0;32mdef\u001b[0m \u001b[0m__len__\u001b[0m\u001b[0;34m(\u001b[0m\u001b[0mself\u001b[0m\u001b[0;34m)\u001b[0m\u001b[0;34m:\u001b[0m\u001b[0;34m\u001b[0m\u001b[0;34m\u001b[0m\u001b[0m\n\u001b[0;32m---> 19\u001b[0;31m         \u001b[0;32mreturn\u001b[0m \u001b[0mlen\u001b[0m\u001b[0;34m(\u001b[0m\u001b[0mself\u001b[0m\u001b[0;34m.\u001b[0m\u001b[0mX\u001b[0m\u001b[0;34m)\u001b[0m\u001b[0;34m\u001b[0m\u001b[0;34m\u001b[0m\u001b[0m\n\u001b[0m\u001b[1;32m     20\u001b[0m \u001b[0;34m\u001b[0m\u001b[0m\n\u001b[1;32m     21\u001b[0m     \u001b[0;32mdef\u001b[0m \u001b[0m__getitem__\u001b[0m\u001b[0;34m(\u001b[0m\u001b[0mself\u001b[0m\u001b[0;34m,\u001b[0m \u001b[0midx\u001b[0m\u001b[0;34m)\u001b[0m\u001b[0;34m:\u001b[0m\u001b[0;34m\u001b[0m\u001b[0;34m\u001b[0m\u001b[0m\n",
      "\u001b[0;32m/shared-libs/python3.7/py/lib/python3.7/site-packages/torch/utils/data/dataset.py\u001b[0m in \u001b[0;36m__getattr__\u001b[0;34m(self, attribute_name)\u001b[0m\n\u001b[1;32m     81\u001b[0m             \u001b[0;32mreturn\u001b[0m \u001b[0mfunction\u001b[0m\u001b[0;34m\u001b[0m\u001b[0;34m\u001b[0m\u001b[0m\n\u001b[1;32m     82\u001b[0m         \u001b[0;32melse\u001b[0m\u001b[0;34m:\u001b[0m\u001b[0;34m\u001b[0m\u001b[0;34m\u001b[0m\u001b[0m\n\u001b[0;32m---> 83\u001b[0;31m             \u001b[0;32mraise\u001b[0m \u001b[0mAttributeError\u001b[0m\u001b[0;34m\u001b[0m\u001b[0;34m\u001b[0m\u001b[0m\n\u001b[0m\u001b[1;32m     84\u001b[0m \u001b[0;34m\u001b[0m\u001b[0m\n\u001b[1;32m     85\u001b[0m     \u001b[0;34m@\u001b[0m\u001b[0mclassmethod\u001b[0m\u001b[0;34m\u001b[0m\u001b[0;34m\u001b[0m\u001b[0m\n",
      "\u001b[0;31mAttributeError\u001b[0m: "
     ],
     "data": {}
    }
   ]
  },
  {
   "cell_type": "code",
   "metadata": {
    "tags": [],
    "cell_id": "00081-d69bdac8-172d-47b5-b7e8-c96cebfe20d4",
    "deepnote_to_be_reexecuted": true,
    "source_hash": "8b7dd875",
    "execution_start": 1641147696292,
    "execution_millis": 621,
    "deepnote_output_heights": [
     494.1000061035156
    ],
    "deepnote_cell_type": "code"
   },
   "source": "#create a loss plot\nplt.plot(losses_train,'-')\nplt.plot(losses_test,'-.')\nplt.xlabel('Epochs')\nplt.ylabel('Loss')\nplt.legend(['Train','Test'])\nplt.title('Train vs Test Losses')\n \nplt.show()",
   "execution_count": null,
   "outputs": [
    {
     "data": {
      "text/plain": "<Figure size 720x576 with 1 Axes>",
      "image/png": "[encoded data removed]"
     },
     "metadata": {
      "needs_background": "light",
      "image/png": {
       "width": 612,
       "height": 496
      }
     },
     "output_type": "display_data"
    }
   ]
  },
  {
   "cell_type": "code",
   "metadata": {
    "tags": [],
    "cell_id": "00082-7314691c-b6e4-4ed9-9237-d20929f5f580",
    "deepnote_to_be_reexecuted": true,
    "source_hash": "4f7d8f58",
    "execution_start": 1641147696905,
    "execution_millis": 529,
    "deepnote_output_heights": [
     497.96875
    ],
    "deepnote_cell_type": "code"
   },
   "source": "#create an accuracy plot\nplt.plot(accuracies_train,'-')\nplt.plot(accuracies_test,'-.')\nplt.xlabel('Epochs')\nplt.ylabel('Accuracy')\nplt.legend(['Train','Test'])\nplt.title('Train vs Test Accuracy')\n \nplt.show()",
   "execution_count": null,
   "outputs": [
    {
     "data": {
      "text/plain": "<Figure size 720x576 with 1 Axes>",
      "image/png": "[encoded data removed]"
     },
     "metadata": {
      "needs_background": "light",
      "image/png": {
       "width": 623,
       "height": 496
      }
     },
     "output_type": "display_data"
    }
   ]
  },
  {
   "cell_type": "markdown",
   "source": "<a style='text-decoration:none;line-height:16px;display:flex;color:#5B5B62;padding:10px;justify-content:end;' href='https://deepnote.com?utm_source=created-in-deepnote-cell&projectId=d9d840c9-75b3-4185-bb01-105f5cca8d83' target=\"_blank\">\n<img alt='Created in deepnote.com' style='display:inline;max-height:16px;margin:0px;margin-right:7.5px;' src='data:image/svg+xml;base64,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' > </img>\nCreated in <span style='font-weight:600;margin-left:4px;'>Deepnote</span></a>",
   "metadata": {
    "tags": [],
    "created_in_deepnote_cell": true,
    "deepnote_cell_type": "markdown"
   }
  }
 ],
 "nbformat": 4,
 "nbformat_minor": 2,
 "metadata": {
  "orig_nbformat": 2,
  "deepnote": {
   "is_reactive": false
  },
  "deepnote_notebook_id": "29e5ab88-e848-42f4-9b93-01e2cb324e6f",
  "deepnote_execution_queue": []
 }
}