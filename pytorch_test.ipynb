{
 "cells": [
  {
   "cell_type": "code",
   "metadata": {
    "tags": [],
    "cell_id": "00000-feb3ee80-e873-4ef4-a1b5-a0d721e44191",
    "deepnote_to_be_reexecuted": false,
    "source_hash": "ff04af9d",
    "execution_start": 1641738036066,
    "execution_millis": 2041,
    "deepnote_output_heights": [
     21.1875
    ],
    "deepnote_cell_type": "code"
   },
   "source": "import itertools\nimport torch\nimport torch.nn as nn\nimport numpy as np\nimport math\nimport matplotlib.pyplot as plt\nimport pandas as pd\nfrom sklearn.preprocessing import OneHotEncoder\nfrom torch.utils.data import Dataset, DataLoader, TensorDataset\nfrom sklearn.metrics import confusion_matrix, classification_report\nfrom sklearn import preprocessing\nfrom sklearn.model_selection import train_test_split\nimport seaborn as sns\nimport warnings\n#import optuna\n#from optuna.trial import TrialState\nfrom skorch import NeuralNetBinaryClassifier\nfrom sklearn.model_selection import GridSearchCV\nwarnings.filterwarnings(\"ignore\")\n%matplotlib inline\n\ndtype = torch.float\ndevice = torch.device(\"cpu\")",
   "outputs": [],
   "execution_count": null
  },
  {
   "cell_type": "markdown",
   "source": "## Defining resources\nWe define some relevant functions and costant variables to use in this notebook.",
   "metadata": {
    "tags": [],
    "cell_id": "00001-1b8716b6-6d34-4e7d-98ba-d564d8d00602",
    "deepnote_cell_type": "markdown"
   }
  },
  {
   "cell_type": "code",
   "metadata": {
    "tags": [],
    "cell_id": "00001-11c4d000-aa9e-4ed6-81e8-ae6f5e457f24",
    "deepnote_to_be_reexecuted": false,
    "source_hash": "7fd1e8fe",
    "execution_start": 1641738038111,
    "execution_millis": 3,
    "deepnote_cell_type": "code"
   },
   "source": "BATCH_SIZE = 64\nLEARNING_RATE = 0.001\nMOMENTUM = 0.0\nDAMPENING = 0\nNESTEROV = False\nL2 = 0.0\nEPOCHS = 100\n\nN_TRAIN_EXAMPLES = BATCH_SIZE * 30\nN_VALID_EXAMPLES = BATCH_SIZE * 10",
   "outputs": [],
   "execution_count": null
  },
  {
   "cell_type": "code",
   "metadata": {
    "tags": [],
    "cell_id": "00004-8c25520e-de6a-4685-ab0a-e93716fe7c65",
    "deepnote_to_be_reexecuted": false,
    "source_hash": "38655d7",
    "execution_start": 1641738038120,
    "execution_millis": 2,
    "deepnote_cell_type": "code"
   },
   "source": "#function to compute the accuracy\ndef binary_acc(y_pred, y_test):\n    y_pred_tag = torch.round(y_pred)\n\n    correct_results_sum = (y_pred_tag == y_test).sum().float()\n    acc = correct_results_sum/y_test.shape[0]\n    acc = torch.round(acc * 100)\n    \n    return acc",
   "outputs": [],
   "execution_count": null
  },
  {
   "cell_type": "code",
   "metadata": {
    "tags": [],
    "cell_id": "00005-03c56bb6-42fa-4cf9-a8a7-00fe1bcaa81c",
    "deepnote_to_be_reexecuted": false,
    "source_hash": "4d1ef288",
    "execution_start": 1641738038128,
    "execution_millis": 4,
    "deepnote_cell_type": "code"
   },
   "source": "def modelSelection(trial):\n    # We optimize the number of layers, hidden units and dropout ratio in each layer.\n    n_layers = trial.suggest_int(\"n_layers\", 1, 6)\n    layers = []\n\n    in_features = 6\n    for i in range(n_layers):\n        out_features = trial.suggest_int(\"n_units_l{}\".format(i), 2, 5)\n        layers.append(nn.Linear(in_features, out_features))\n        layers.append(nn.ReLU(inplace=True))\n        layers.append(nn.BatchNorm1d(out_features))\n        p = trial.suggest_float(\"dropout_l{}\".format(i), 0.1, 0.5)\n        layers.append(nn.Dropout(p))\n        \n        in_features = out_features\n    layers.append(nn.Linear(in_features, 1))\n    #layers.append(nn.LogSoftmax(dim=1))\n    layers.append(nn.Sigmoid())\n\n    return nn.Sequential(*layers)",
   "outputs": [],
   "execution_count": null
  },
  {
   "cell_type": "code",
   "metadata": {
    "tags": [],
    "cell_id": "00002-2a5bec1d-9fea-490a-8952-e78202ec55c8",
    "deepnote_to_be_reexecuted": false,
    "source_hash": "706f023b",
    "execution_start": 1641738038141,
    "execution_millis": 1,
    "deepnote_cell_type": "code"
   },
   "source": "#define a neural network\nclass BinaryClassification(nn.Module):\n    def __init__(self, n_input = 6, hidden_unit1 = 4):\n        super(BinaryClassification, self).__init__()\n        self.layer_in = nn.Linear(n_input, hidden_unit1)\n        #self.layer_1 = nn.Linear(2, 2) \n        #self.layer_2 = nn.Linear(2, 2) \n        #self.layer_3 = nn.Linear(2, 2) \n        self.layer_out = nn.Linear(hidden_unit1, 1) \n        \n        self.relu = nn.ReLU(inplace=True)\n        self.sigmoid =  nn.Sigmoid()\n        self.dropout_1 = nn.Dropout(p=0.5)\n        #self.dropout_2 = nn.Dropout(p=0.4024019529822511)\n        #self.dropout_3 = nn.Dropout(p=0.487238276333397)\n        self.batchnorm1 = nn.BatchNorm1d(4)\n        #self.batchnorm2 = nn.BatchNorm1d(127)\n\n    def forward(self, inputs, **kwargs):\n        x = self.layer_in(inputs)\n        x = self.batchnorm1(x)\n        x = self.relu(x)\n   \n        #x = self.layer_1(x)\n        #x = self.batchnorm1(x)\n        #x = self.relu(x)\n        x = self.dropout_1(x)\n\n        #x = self.layer_2(x)\n        #x = self.batchnorm1(x)\n        #x = self.relu(x)\n        #x = self.dropout_2(x)\n\n        #x = self.layer_3(x)\n        #x = self.batchnorm1(x)\n        #x = self.relu(x)\n        #x = self.dropout_3(x)\n\n        x = self.sigmoid(self.layer_out(x))\n        \n        return x",
   "outputs": [],
   "execution_count": null
  },
  {
   "cell_type": "code",
   "metadata": {
    "tags": [],
    "cell_id": "00001-6d2402a8-019e-4696-ad6b-1d223410aa3a",
    "deepnote_to_be_reexecuted": false,
    "source_hash": "47251514",
    "execution_start": 1641738038166,
    "execution_millis": 0,
    "deepnote_output_heights": [
     78.796875
    ],
    "deepnote_cell_type": "code"
   },
   "source": "class TuningHP(object):\n    def __init__(self, tl, vl):\n        self.train_loader = tl\n        self.valid_loader = vl\n\n    def __call__(self, trial):\n        loss_f = nn.BCELoss(reduction='mean')\n        # Generate the model.\n        model = modelSelection(trial).to(device)\n\n        # Generate the optimizers.\n        optimizer_name = trial.suggest_categorical(\"optimizer\", [\"Adam\", \"SGD\"])\n        lr = trial.suggest_float(\"lr\", 1e-5, 1e-1, log=True)\n        optimizer = getattr(torch.optim, optimizer_name)(model.parameters(), lr=lr)\n\n        # Training of the model.\n        for epoch in range(EPOCHS):\n            model.train()\n            for batch_idx, (data, target) in enumerate(self.train_loader):\n                # Limiting training data for faster epochs.\n                #if batch_idx * BATCH_SIZE >= N_TRAIN_EXAMPLES:\n                 #   break\n\n                data, target = data.view(data.size(0), -1).to(device), target.to(device)\n\n                optimizer.zero_grad()\n                output = model(data)\n                loss = loss_f(output, target)\n                loss.backward()\n                optimizer.step()\n\n            # Validation of the model.\n            model.eval()\n            correct = 0\n            with torch.no_grad():\n                for batch_idx, (data, target) in enumerate(self.valid_loader):\n                    # Limiting validation data.\n                    #if batch_idx * BATCH_SIZE >= N_VALID_EXAMPLES:\n                     #   break\n                    data, target = data.view(data.size(0), -1).to(device), target.to(device)\n                    output = model(data)\n                    # Get the index of the max log-probability.\n                    pred = output.argmax(dim=1, keepdim=True)\n                    correct += pred.eq(target.view_as(pred)).sum().item()\n\n            accuracy = correct / min(len(self.valid_loader), N_VALID_EXAMPLES)\n\n            trial.report(accuracy, epoch)\n\n            # Handle pruning based on the intermediate value.\n            if trial.should_prune():\n                raise optuna.exceptions.TrialPruned()\n\n        return accuracy#function to define the train phase\n\n#def tuningHP(trial, train_loader, valid_loader):      ",
   "outputs": [],
   "execution_count": null
  },
  {
   "cell_type": "code",
   "metadata": {
    "tags": [],
    "cell_id": "00008-46548bcd-1668-494a-be8a-8fd4a55c3387",
    "deepnote_to_be_reexecuted": false,
    "source_hash": "4bfddc7c",
    "execution_start": 1641738038185,
    "execution_millis": 1,
    "deepnote_cell_type": "code"
   },
   "source": "def TrainPhase(epochs, model, aggregated_losses, aggregated_accuracy, data_train, loss, optimizer):\n    model.train()\n    i = epochs\n\n    epoch_loss = 0\n    epoch_acc = 0\n    \n    for X_batch, y_batch in data_train:\n        X_batch, y_batch = X_batch.to(device), y_batch.to(device)\n        optimizer.zero_grad()\n       \n        y_pred = model(X_batch)\n        \n        single_loss = loss(y_pred, y_batch)\n        acc = binary_acc(y_pred, y_batch)\n            \n        \n        single_loss.backward()\n        optimizer.step()\n        \n        epoch_loss += single_loss.item()\n        epoch_acc += acc.item()\n        \n    aggregated_losses.append(epoch_loss/len(data_train))\n    aggregated_accuracy.append((epoch_acc/len(data_train))/100)\n    print(f'TRAIN - Epoch {i+0:03}: | Loss: {epoch_loss/len(data_train):.5f} | Acc: {epoch_acc/len(data_train):.3f}')\n\n    #aggregated_losses.append(single_loss.item())\n    #aggregated_accuracy.append(acc/100)\n    #print(f'TRAIN - Epoch {i+0:03}: | Loss: {single_loss.item():.5f} | Acc: {acc:.3f}')\n    \n    return model, aggregated_losses, aggregated_accuracy",
   "outputs": [],
   "execution_count": null
  },
  {
   "cell_type": "code",
   "metadata": {
    "tags": [],
    "cell_id": "00002-a19b1be6-1674-4666-b468-423693c7e356",
    "deepnote_to_be_reexecuted": false,
    "source_hash": "9b761082",
    "execution_start": 1641738038186,
    "execution_millis": 0,
    "deepnote_output_heights": [
     78.796875
    ],
    "deepnote_cell_type": "code"
   },
   "source": "#function to define the evaluate phase\ndef Evaluate(epochs, model, aggregated_losses, aggregated_accuracy, data_test, loss_f):\n    \n    i = epochs\n    y_pred_list = []\n    model.eval()\n        \n    epoch_loss = 0\n    epoch_acc = 0\n\n    with torch.no_grad():\n        for X_batch, y_batch in data_test:\n            X_batch, y_batch = X_batch.to(device), y_batch.to(device)\n            y_test_pred = model(X_batch)\n            loss = loss_f(y_test_pred, y_batch)\n            acc = binary_acc(y_test_pred, y_batch)\n                \n            epoch_loss += loss.item()\n            epoch_acc += acc.item()\n\n            #y_test_pred = torch.sigmoid(y_test_pred)\n            y_pred_tag = torch.round(y_test_pred)\n            y_pred_list.append(y_pred_tag.detach().numpy())\n\n    y_pred_list = [a.squeeze().tolist() for a in y_pred_list]\n    #flattens the lists in sequence\n    ytest_pred = list(itertools.chain.from_iterable(y_pred_list))\n\n    aggregated_losses.append(epoch_loss/len(data_test))\n    aggregated_accuracy.append((epoch_acc/len(data_test))/100)\n    #print(f'TEST - Epoch {i+0:03}: | Loss: {epoch_loss/len(data_test):.5f} | Acc: {epoch_acc/len(data_test):.3f}')\n    print(f'VALIDATION - Epoch {i+0:03}: | Loss: {epoch_loss/len(data_test):.5f} | Acc: {epoch_acc/len(data_test):.3f}')\n\n    #aggregated_losses.append(loss.item())\n    #aggregated_accuracy.append(acc/100)\n    #print(f'VALIDATION - Epoch {i+0:03}: | Loss: {loss.item():.5f} | Acc: {acc:.3f}')\n    \n    return ytest_pred, aggregated_losses, aggregated_accuracy\n    ",
   "outputs": [],
   "execution_count": null
  },
  {
   "cell_type": "code",
   "metadata": {
    "tags": [],
    "cell_id": "00007-2a493ffb-e0ef-4fed-b4fd-58e4268d8343",
    "deepnote_to_be_reexecuted": false,
    "source_hash": "d4d1efe6",
    "execution_start": 1641738038187,
    "execution_millis": 1,
    "deepnote_cell_type": "code"
   },
   "source": "#function to define the evaluate phase\ndef Evaluate_Test(model, aggregated_losses, aggregated_accuracy, data_test, loss_f):\n\n    y_pred_list = []\n    model.eval()\n\n    with torch.no_grad():\n        for X_batch, y_batch in data_test:\n            X_batch, y_batch = X_batch.to(device), y_batch.to(device)\n            y_test_pred = model(X_batch)\n            loss = loss_f(y_test_pred, y_batch)\n            acc = binary_acc(y_test_pred, y_batch)\n      \n            y_pred_tag = torch.round(y_test_pred)\n            y_pred_list.append(y_pred_tag.detach().numpy())\n\n    y_pred_list = [a.squeeze().tolist() for a in y_pred_list]\n    #flattens the lists in sequence\n    #ytest_pred = list(itertools.chain.from_iterable(y_pred_list))\n\n    print(f'TEST - Loss: {loss.item():.5f} | Acc: {acc:.3f}')\n    \n    return y_pred_list, aggregated_losses, aggregated_accuracy",
   "outputs": [],
   "execution_count": null
  },
  {
   "cell_type": "markdown",
   "source": "## Loading MONK-1 dataset\nNow we load the first MONK dataset.",
   "metadata": {
    "tags": [],
    "cell_id": "00000-3c151ff9-9d1e-45e5-aaa2-5ad7d942f1af",
    "deepnote_cell_type": "markdown"
   }
  },
  {
   "cell_type": "code",
   "metadata": {
    "tags": [],
    "cell_id": "00001-fd0a2f32-f2f3-4a89-94dc-9175c5f69468",
    "deepnote_to_be_reexecuted": false,
    "source_hash": "1a5b69e",
    "execution_start": 1641738038194,
    "execution_millis": 11,
    "deepnote_cell_type": "code"
   },
   "source": "#read train dataset\ndf_monk1_train = pd.read_csv('./data/MONK/monks-1.train', sep=\" \", skipinitialspace=True, names=['class','a1','a2','a3','a4','a5','a6','id'])\ndf_monk1_train.drop(labels='id', axis=1, inplace=True)\n\n#read test dataset\ndf_monk1_test = pd.read_csv('./data/MONK/monks-1.test', sep=\" \", skipinitialspace=True,  names=['class','a1','a2','a3','a4','a5','a6','id'])\ndf_monk1_test.drop(labels='id', axis=1, inplace=True)",
   "outputs": [],
   "execution_count": null
  },
  {
   "cell_type": "code",
   "metadata": {
    "tags": [],
    "cell_id": "00000-2f3640fb-95bb-4c37-b4f3-7b54a312e8e5",
    "deepnote_to_be_reexecuted": false,
    "source_hash": "e3bac8c0",
    "execution_start": 1641738038253,
    "execution_millis": 14,
    "deepnote_table_state": {
     "pageSize": 10,
     "pageIndex": 0,
     "filters": [],
     "sortBy": []
    },
    "deepnote_table_loading": false,
    "deepnote_cell_type": "code"
   },
   "source": "df_monk1_test #first column is the target (can be either 0 or 1)",
   "outputs": [
    {
     "output_type": "execute_result",
     "execution_count": 11,
     "data": {
      "application/vnd.deepnote.dataframe.v3+json": {
       "column_count": 7,
       "row_count": 432,
       "columns": [
        {
         "name": "class",
         "dtype": "int64",
         "stats": {
          "unique_count": 2,
          "nan_count": 0,
          "min": "0",
          "max": "1",
          "histogram": [
           {
            "bin_start": 0,
            "bin_end": 0.1,
            "count": 216
           },
           {
            "bin_start": 0.1,
            "bin_end": 0.2,
            "count": 0
           },
           {
            "bin_start": 0.2,
            "bin_end": 0.30000000000000004,
            "count": 0
           },
           {
            "bin_start": 0.30000000000000004,
            "bin_end": 0.4,
            "count": 0
           },
           {
            "bin_start": 0.4,
            "bin_end": 0.5,
            "count": 0
           },
           {
            "bin_start": 0.5,
            "bin_end": 0.6000000000000001,
            "count": 0
           },
           {
            "bin_start": 0.6000000000000001,
            "bin_end": 0.7000000000000001,
            "count": 0
           },
           {
            "bin_start": 0.7000000000000001,
            "bin_end": 0.8,
            "count": 0
           },
           {
            "bin_start": 0.8,
            "bin_end": 0.9,
            "count": 0
           },
           {
            "bin_start": 0.9,
            "bin_end": 1,
            "count": 216
           }
          ]
         }
        },
        {
         "name": "a1",
         "dtype": "int64",
         "stats": {
          "unique_count": 3,
          "nan_count": 0,
          "min": "1",
          "max": "3",
          "histogram": [
           {
            "bin_start": 1,
            "bin_end": 1.2,
            "count": 144
           },
           {
            "bin_start": 1.2,
            "bin_end": 1.4,
            "count": 0
           },
           {
            "bin_start": 1.4,
            "bin_end": 1.6,
            "count": 0
           },
           {
            "bin_start": 1.6,
            "bin_end": 1.8,
            "count": 0
           },
           {
            "bin_start": 1.8,
            "bin_end": 2,
            "count": 0
           },
           {
            "bin_start": 2,
            "bin_end": 2.2,
            "count": 144
           },
           {
            "bin_start": 2.2,
            "bin_end": 2.4000000000000004,
            "count": 0
           },
           {
            "bin_start": 2.4000000000000004,
            "bin_end": 2.6,
            "count": 0
           },
           {
            "bin_start": 2.6,
            "bin_end": 2.8,
            "count": 0
           },
           {
            "bin_start": 2.8,
            "bin_end": 3,
            "count": 144
           }
          ]
         }
        },
        {
         "name": "a2",
         "dtype": "int64",
         "stats": {
          "unique_count": 3,
          "nan_count": 0,
          "min": "1",
          "max": "3",
          "histogram": [
           {
            "bin_start": 1,
            "bin_end": 1.2,
            "count": 144
           },
           {
            "bin_start": 1.2,
            "bin_end": 1.4,
            "count": 0
           },
           {
            "bin_start": 1.4,
            "bin_end": 1.6,
            "count": 0
           },
           {
            "bin_start": 1.6,
            "bin_end": 1.8,
            "count": 0
           },
           {
            "bin_start": 1.8,
            "bin_end": 2,
            "count": 0
           },
           {
            "bin_start": 2,
            "bin_end": 2.2,
            "count": 144
           },
           {
            "bin_start": 2.2,
            "bin_end": 2.4000000000000004,
            "count": 0
           },
           {
            "bin_start": 2.4000000000000004,
            "bin_end": 2.6,
            "count": 0
           },
           {
            "bin_start": 2.6,
            "bin_end": 2.8,
            "count": 0
           },
           {
            "bin_start": 2.8,
            "bin_end": 3,
            "count": 144
           }
          ]
         }
        },
        {
         "name": "a3",
         "dtype": "int64",
         "stats": {
          "unique_count": 2,
          "nan_count": 0,
          "min": "1",
          "max": "2",
          "histogram": [
           {
            "bin_start": 1,
            "bin_end": 1.1,
            "count": 216
           },
           {
            "bin_start": 1.1,
            "bin_end": 1.2,
            "count": 0
           },
           {
            "bin_start": 1.2,
            "bin_end": 1.3,
            "count": 0
           },
           {
            "bin_start": 1.3,
            "bin_end": 1.4,
            "count": 0
           },
           {
            "bin_start": 1.4,
            "bin_end": 1.5,
            "count": 0
           },
           {
            "bin_start": 1.5,
            "bin_end": 1.6,
            "count": 0
           },
           {
            "bin_start": 1.6,
            "bin_end": 1.7000000000000002,
            "count": 0
           },
           {
            "bin_start": 1.7000000000000002,
            "bin_end": 1.8,
            "count": 0
           },
           {
            "bin_start": 1.8,
            "bin_end": 1.9,
            "count": 0
           },
           {
            "bin_start": 1.9,
            "bin_end": 2,
            "count": 216
           }
          ]
         }
        },
        {
         "name": "a4",
         "dtype": "int64",
         "stats": {
          "unique_count": 3,
          "nan_count": 0,
          "min": "1",
          "max": "3",
          "histogram": [
           {
            "bin_start": 1,
            "bin_end": 1.2,
            "count": 144
           },
           {
            "bin_start": 1.2,
            "bin_end": 1.4,
            "count": 0
           },
           {
            "bin_start": 1.4,
            "bin_end": 1.6,
            "count": 0
           },
           {
            "bin_start": 1.6,
            "bin_end": 1.8,
            "count": 0
           },
           {
            "bin_start": 1.8,
            "bin_end": 2,
            "count": 0
           },
           {
            "bin_start": 2,
            "bin_end": 2.2,
            "count": 144
           },
           {
            "bin_start": 2.2,
            "bin_end": 2.4000000000000004,
            "count": 0
           },
           {
            "bin_start": 2.4000000000000004,
            "bin_end": 2.6,
            "count": 0
           },
           {
            "bin_start": 2.6,
            "bin_end": 2.8,
            "count": 0
           },
           {
            "bin_start": 2.8,
            "bin_end": 3,
            "count": 144
           }
          ]
         }
        },
        {
         "name": "a5",
         "dtype": "int64",
         "stats": {
          "unique_count": 4,
          "nan_count": 0,
          "min": "1",
          "max": "4",
          "histogram": [
           {
            "bin_start": 1,
            "bin_end": 1.3,
            "count": 108
           },
           {
            "bin_start": 1.3,
            "bin_end": 1.6,
            "count": 0
           },
           {
            "bin_start": 1.6,
            "bin_end": 1.9,
            "count": 0
           },
           {
            "bin_start": 1.9,
            "bin_end": 2.2,
            "count": 108
           },
           {
            "bin_start": 2.2,
            "bin_end": 2.5,
            "count": 0
           },
           {
            "bin_start": 2.5,
            "bin_end": 2.8,
            "count": 0
           },
           {
            "bin_start": 2.8,
            "bin_end": 3.1,
            "count": 108
           },
           {
            "bin_start": 3.1,
            "bin_end": 3.4,
            "count": 0
           },
           {
            "bin_start": 3.4,
            "bin_end": 3.6999999999999997,
            "count": 0
           },
           {
            "bin_start": 3.6999999999999997,
            "bin_end": 4,
            "count": 108
           }
          ]
         }
        },
        {
         "name": "a6",
         "dtype": "int64",
         "stats": {
          "unique_count": 2,
          "nan_count": 0,
          "min": "1",
          "max": "2",
          "histogram": [
           {
            "bin_start": 1,
            "bin_end": 1.1,
            "count": 216
           },
           {
            "bin_start": 1.1,
            "bin_end": 1.2,
            "count": 0
           },
           {
            "bin_start": 1.2,
            "bin_end": 1.3,
            "count": 0
           },
           {
            "bin_start": 1.3,
            "bin_end": 1.4,
            "count": 0
           },
           {
            "bin_start": 1.4,
            "bin_end": 1.5,
            "count": 0
           },
           {
            "bin_start": 1.5,
            "bin_end": 1.6,
            "count": 0
           },
           {
            "bin_start": 1.6,
            "bin_end": 1.7000000000000002,
            "count": 0
           },
           {
            "bin_start": 1.7000000000000002,
            "bin_end": 1.8,
            "count": 0
           },
           {
            "bin_start": 1.8,
            "bin_end": 1.9,
            "count": 0
           },
           {
            "bin_start": 1.9,
            "bin_end": 2,
            "count": 216
           }
          ]
         }
        },
        {
         "name": "_deepnote_index_column",
         "dtype": "int64"
        }
       ],
       "rows": [
        {
         "class": 1,
         "a1": 1,
         "a2": 1,
         "a3": 1,
         "a4": 1,
         "a5": 1,
         "a6": 1,
         "_deepnote_index_column": 0
        },
        {
         "class": 1,
         "a1": 1,
         "a2": 1,
         "a3": 1,
         "a4": 1,
         "a5": 1,
         "a6": 2,
         "_deepnote_index_column": 1
        },
        {
         "class": 1,
         "a1": 1,
         "a2": 1,
         "a3": 1,
         "a4": 1,
         "a5": 2,
         "a6": 1,
         "_deepnote_index_column": 2
        },
        {
         "class": 1,
         "a1": 1,
         "a2": 1,
         "a3": 1,
         "a4": 1,
         "a5": 2,
         "a6": 2,
         "_deepnote_index_column": 3
        },
        {
         "class": 1,
         "a1": 1,
         "a2": 1,
         "a3": 1,
         "a4": 1,
         "a5": 3,
         "a6": 1,
         "_deepnote_index_column": 4
        },
        {
         "class": 1,
         "a1": 1,
         "a2": 1,
         "a3": 1,
         "a4": 1,
         "a5": 3,
         "a6": 2,
         "_deepnote_index_column": 5
        },
        {
         "class": 1,
         "a1": 1,
         "a2": 1,
         "a3": 1,
         "a4": 1,
         "a5": 4,
         "a6": 1,
         "_deepnote_index_column": 6
        },
        {
         "class": 1,
         "a1": 1,
         "a2": 1,
         "a3": 1,
         "a4": 1,
         "a5": 4,
         "a6": 2,
         "_deepnote_index_column": 7
        },
        {
         "class": 1,
         "a1": 1,
         "a2": 1,
         "a3": 1,
         "a4": 2,
         "a5": 1,
         "a6": 1,
         "_deepnote_index_column": 8
        },
        {
         "class": 1,
         "a1": 1,
         "a2": 1,
         "a3": 1,
         "a4": 2,
         "a5": 1,
         "a6": 2,
         "_deepnote_index_column": 9
        }
       ]
      },
      "text/plain": "     class  a1  a2  a3  a4  a5  a6\n0        1   1   1   1   1   1   1\n1        1   1   1   1   1   1   2\n2        1   1   1   1   1   2   1\n3        1   1   1   1   1   2   2\n4        1   1   1   1   1   3   1\n..     ...  ..  ..  ..  ..  ..  ..\n427      1   3   3   2   3   2   2\n428      1   3   3   2   3   3   1\n429      1   3   3   2   3   3   2\n430      1   3   3   2   3   4   1\n431      1   3   3   2   3   4   2\n\n[432 rows x 7 columns]",
      "text/html": "<div>\n<style scoped>\n    .dataframe tbody tr th:only-of-type {\n        vertical-align: middle;\n    }\n\n    .dataframe tbody tr th {\n        vertical-align: top;\n    }\n\n    .dataframe thead th {\n        text-align: right;\n    }\n</style>\n<table border=\"1\" class=\"dataframe\">\n  <thead>\n    <tr style=\"text-align: right;\">\n      <th></th>\n      <th>class</th>\n      <th>a1</th>\n      <th>a2</th>\n      <th>a3</th>\n      <th>a4</th>\n      <th>a5</th>\n      <th>a6</th>\n    </tr>\n  </thead>\n  <tbody>\n    <tr>\n      <th>0</th>\n      <td>1</td>\n      <td>1</td>\n      <td>1</td>\n      <td>1</td>\n      <td>1</td>\n      <td>1</td>\n      <td>1</td>\n    </tr>\n    <tr>\n      <th>1</th>\n      <td>1</td>\n      <td>1</td>\n      <td>1</td>\n      <td>1</td>\n      <td>1</td>\n      <td>1</td>\n      <td>2</td>\n    </tr>\n    <tr>\n      <th>2</th>\n      <td>1</td>\n      <td>1</td>\n      <td>1</td>\n      <td>1</td>\n      <td>1</td>\n      <td>2</td>\n      <td>1</td>\n    </tr>\n    <tr>\n      <th>3</th>\n      <td>1</td>\n      <td>1</td>\n      <td>1</td>\n      <td>1</td>\n      <td>1</td>\n      <td>2</td>\n      <td>2</td>\n    </tr>\n    <tr>\n      <th>4</th>\n      <td>1</td>\n      <td>1</td>\n      <td>1</td>\n      <td>1</td>\n      <td>1</td>\n      <td>3</td>\n      <td>1</td>\n    </tr>\n    <tr>\n      <th>...</th>\n      <td>...</td>\n      <td>...</td>\n      <td>...</td>\n      <td>...</td>\n      <td>...</td>\n      <td>...</td>\n      <td>...</td>\n    </tr>\n    <tr>\n      <th>427</th>\n      <td>1</td>\n      <td>3</td>\n      <td>3</td>\n      <td>2</td>\n      <td>3</td>\n      <td>2</td>\n      <td>2</td>\n    </tr>\n    <tr>\n      <th>428</th>\n      <td>1</td>\n      <td>3</td>\n      <td>3</td>\n      <td>2</td>\n      <td>3</td>\n      <td>3</td>\n      <td>1</td>\n    </tr>\n    <tr>\n      <th>429</th>\n      <td>1</td>\n      <td>3</td>\n      <td>3</td>\n      <td>2</td>\n      <td>3</td>\n      <td>3</td>\n      <td>2</td>\n    </tr>\n    <tr>\n      <th>430</th>\n      <td>1</td>\n      <td>3</td>\n      <td>3</td>\n      <td>2</td>\n      <td>3</td>\n      <td>4</td>\n      <td>1</td>\n    </tr>\n    <tr>\n      <th>431</th>\n      <td>1</td>\n      <td>3</td>\n      <td>3</td>\n      <td>2</td>\n      <td>3</td>\n      <td>4</td>\n      <td>2</td>\n    </tr>\n  </tbody>\n</table>\n<p>432 rows × 7 columns</p>\n</div>"
     },
     "metadata": {}
    }
   ],
   "execution_count": null
  },
  {
   "cell_type": "code",
   "metadata": {
    "tags": [],
    "cell_id": "00004-3aae5316-d4b7-4113-9b05-0440a3a3f494",
    "deepnote_to_be_reexecuted": false,
    "source_hash": "a26e411c",
    "execution_start": 1641738038288,
    "execution_millis": 57,
    "deepnote_table_state": {
     "pageSize": 10,
     "pageIndex": 0,
     "filters": [],
     "sortBy": []
    },
    "deepnote_table_loading": false,
    "deepnote_cell_type": "code"
   },
   "source": "df_monk1_train",
   "outputs": [
    {
     "output_type": "execute_result",
     "execution_count": 12,
     "data": {
      "application/vnd.deepnote.dataframe.v3+json": {
       "column_count": 7,
       "row_count": 124,
       "columns": [
        {
         "name": "class",
         "dtype": "int64",
         "stats": {
          "unique_count": 2,
          "nan_count": 0,
          "min": "0",
          "max": "1",
          "histogram": [
           {
            "bin_start": 0,
            "bin_end": 0.1,
            "count": 62
           },
           {
            "bin_start": 0.1,
            "bin_end": 0.2,
            "count": 0
           },
           {
            "bin_start": 0.2,
            "bin_end": 0.30000000000000004,
            "count": 0
           },
           {
            "bin_start": 0.30000000000000004,
            "bin_end": 0.4,
            "count": 0
           },
           {
            "bin_start": 0.4,
            "bin_end": 0.5,
            "count": 0
           },
           {
            "bin_start": 0.5,
            "bin_end": 0.6000000000000001,
            "count": 0
           },
           {
            "bin_start": 0.6000000000000001,
            "bin_end": 0.7000000000000001,
            "count": 0
           },
           {
            "bin_start": 0.7000000000000001,
            "bin_end": 0.8,
            "count": 0
           },
           {
            "bin_start": 0.8,
            "bin_end": 0.9,
            "count": 0
           },
           {
            "bin_start": 0.9,
            "bin_end": 1,
            "count": 62
           }
          ]
         }
        },
        {
         "name": "a1",
         "dtype": "int64",
         "stats": {
          "unique_count": 3,
          "nan_count": 0,
          "min": "1",
          "max": "3",
          "histogram": [
           {
            "bin_start": 1,
            "bin_end": 1.2,
            "count": 45
           },
           {
            "bin_start": 1.2,
            "bin_end": 1.4,
            "count": 0
           },
           {
            "bin_start": 1.4,
            "bin_end": 1.6,
            "count": 0
           },
           {
            "bin_start": 1.6,
            "bin_end": 1.8,
            "count": 0
           },
           {
            "bin_start": 1.8,
            "bin_end": 2,
            "count": 0
           },
           {
            "bin_start": 2,
            "bin_end": 2.2,
            "count": 42
           },
           {
            "bin_start": 2.2,
            "bin_end": 2.4000000000000004,
            "count": 0
           },
           {
            "bin_start": 2.4000000000000004,
            "bin_end": 2.6,
            "count": 0
           },
           {
            "bin_start": 2.6,
            "bin_end": 2.8,
            "count": 0
           },
           {
            "bin_start": 2.8,
            "bin_end": 3,
            "count": 37
           }
          ]
         }
        },
        {
         "name": "a2",
         "dtype": "int64",
         "stats": {
          "unique_count": 3,
          "nan_count": 0,
          "min": "1",
          "max": "3",
          "histogram": [
           {
            "bin_start": 1,
            "bin_end": 1.2,
            "count": 35
           },
           {
            "bin_start": 1.2,
            "bin_end": 1.4,
            "count": 0
           },
           {
            "bin_start": 1.4,
            "bin_end": 1.6,
            "count": 0
           },
           {
            "bin_start": 1.6,
            "bin_end": 1.8,
            "count": 0
           },
           {
            "bin_start": 1.8,
            "bin_end": 2,
            "count": 0
           },
           {
            "bin_start": 2,
            "bin_end": 2.2,
            "count": 42
           },
           {
            "bin_start": 2.2,
            "bin_end": 2.4000000000000004,
            "count": 0
           },
           {
            "bin_start": 2.4000000000000004,
            "bin_end": 2.6,
            "count": 0
           },
           {
            "bin_start": 2.6,
            "bin_end": 2.8,
            "count": 0
           },
           {
            "bin_start": 2.8,
            "bin_end": 3,
            "count": 47
           }
          ]
         }
        },
        {
         "name": "a3",
         "dtype": "int64",
         "stats": {
          "unique_count": 2,
          "nan_count": 0,
          "min": "1",
          "max": "2",
          "histogram": [
           {
            "bin_start": 1,
            "bin_end": 1.1,
            "count": 65
           },
           {
            "bin_start": 1.1,
            "bin_end": 1.2,
            "count": 0
           },
           {
            "bin_start": 1.2,
            "bin_end": 1.3,
            "count": 0
           },
           {
            "bin_start": 1.3,
            "bin_end": 1.4,
            "count": 0
           },
           {
            "bin_start": 1.4,
            "bin_end": 1.5,
            "count": 0
           },
           {
            "bin_start": 1.5,
            "bin_end": 1.6,
            "count": 0
           },
           {
            "bin_start": 1.6,
            "bin_end": 1.7000000000000002,
            "count": 0
           },
           {
            "bin_start": 1.7000000000000002,
            "bin_end": 1.8,
            "count": 0
           },
           {
            "bin_start": 1.8,
            "bin_end": 1.9,
            "count": 0
           },
           {
            "bin_start": 1.9,
            "bin_end": 2,
            "count": 59
           }
          ]
         }
        },
        {
         "name": "a4",
         "dtype": "int64",
         "stats": {
          "unique_count": 3,
          "nan_count": 0,
          "min": "1",
          "max": "3",
          "histogram": [
           {
            "bin_start": 1,
            "bin_end": 1.2,
            "count": 42
           },
           {
            "bin_start": 1.2,
            "bin_end": 1.4,
            "count": 0
           },
           {
            "bin_start": 1.4,
            "bin_end": 1.6,
            "count": 0
           },
           {
            "bin_start": 1.6,
            "bin_end": 1.8,
            "count": 0
           },
           {
            "bin_start": 1.8,
            "bin_end": 2,
            "count": 0
           },
           {
            "bin_start": 2,
            "bin_end": 2.2,
            "count": 39
           },
           {
            "bin_start": 2.2,
            "bin_end": 2.4000000000000004,
            "count": 0
           },
           {
            "bin_start": 2.4000000000000004,
            "bin_end": 2.6,
            "count": 0
           },
           {
            "bin_start": 2.6,
            "bin_end": 2.8,
            "count": 0
           },
           {
            "bin_start": 2.8,
            "bin_end": 3,
            "count": 43
           }
          ]
         }
        },
        {
         "name": "a5",
         "dtype": "int64",
         "stats": {
          "unique_count": 4,
          "nan_count": 0,
          "min": "1",
          "max": "4",
          "histogram": [
           {
            "bin_start": 1,
            "bin_end": 1.3,
            "count": 29
           },
           {
            "bin_start": 1.3,
            "bin_end": 1.6,
            "count": 0
           },
           {
            "bin_start": 1.6,
            "bin_end": 1.9,
            "count": 0
           },
           {
            "bin_start": 1.9,
            "bin_end": 2.2,
            "count": 31
           },
           {
            "bin_start": 2.2,
            "bin_end": 2.5,
            "count": 0
           },
           {
            "bin_start": 2.5,
            "bin_end": 2.8,
            "count": 0
           },
           {
            "bin_start": 2.8,
            "bin_end": 3.1,
            "count": 30
           },
           {
            "bin_start": 3.1,
            "bin_end": 3.4,
            "count": 0
           },
           {
            "bin_start": 3.4,
            "bin_end": 3.6999999999999997,
            "count": 0
           },
           {
            "bin_start": 3.6999999999999997,
            "bin_end": 4,
            "count": 34
           }
          ]
         }
        },
        {
         "name": "a6",
         "dtype": "int64",
         "stats": {
          "unique_count": 2,
          "nan_count": 0,
          "min": "1",
          "max": "2",
          "histogram": [
           {
            "bin_start": 1,
            "bin_end": 1.1,
            "count": 56
           },
           {
            "bin_start": 1.1,
            "bin_end": 1.2,
            "count": 0
           },
           {
            "bin_start": 1.2,
            "bin_end": 1.3,
            "count": 0
           },
           {
            "bin_start": 1.3,
            "bin_end": 1.4,
            "count": 0
           },
           {
            "bin_start": 1.4,
            "bin_end": 1.5,
            "count": 0
           },
           {
            "bin_start": 1.5,
            "bin_end": 1.6,
            "count": 0
           },
           {
            "bin_start": 1.6,
            "bin_end": 1.7000000000000002,
            "count": 0
           },
           {
            "bin_start": 1.7000000000000002,
            "bin_end": 1.8,
            "count": 0
           },
           {
            "bin_start": 1.8,
            "bin_end": 1.9,
            "count": 0
           },
           {
            "bin_start": 1.9,
            "bin_end": 2,
            "count": 68
           }
          ]
         }
        },
        {
         "name": "_deepnote_index_column",
         "dtype": "int64"
        }
       ],
       "rows": [
        {
         "class": 1,
         "a1": 1,
         "a2": 1,
         "a3": 1,
         "a4": 1,
         "a5": 3,
         "a6": 1,
         "_deepnote_index_column": 0
        },
        {
         "class": 1,
         "a1": 1,
         "a2": 1,
         "a3": 1,
         "a4": 1,
         "a5": 3,
         "a6": 2,
         "_deepnote_index_column": 1
        },
        {
         "class": 1,
         "a1": 1,
         "a2": 1,
         "a3": 1,
         "a4": 3,
         "a5": 2,
         "a6": 1,
         "_deepnote_index_column": 2
        },
        {
         "class": 1,
         "a1": 1,
         "a2": 1,
         "a3": 1,
         "a4": 3,
         "a5": 3,
         "a6": 2,
         "_deepnote_index_column": 3
        },
        {
         "class": 1,
         "a1": 1,
         "a2": 1,
         "a3": 2,
         "a4": 1,
         "a5": 2,
         "a6": 1,
         "_deepnote_index_column": 4
        },
        {
         "class": 1,
         "a1": 1,
         "a2": 1,
         "a3": 2,
         "a4": 1,
         "a5": 2,
         "a6": 2,
         "_deepnote_index_column": 5
        },
        {
         "class": 1,
         "a1": 1,
         "a2": 1,
         "a3": 2,
         "a4": 2,
         "a5": 3,
         "a6": 1,
         "_deepnote_index_column": 6
        },
        {
         "class": 1,
         "a1": 1,
         "a2": 1,
         "a3": 2,
         "a4": 2,
         "a5": 4,
         "a6": 1,
         "_deepnote_index_column": 7
        },
        {
         "class": 1,
         "a1": 1,
         "a2": 1,
         "a3": 2,
         "a4": 3,
         "a5": 1,
         "a6": 2,
         "_deepnote_index_column": 8
        },
        {
         "class": 1,
         "a1": 1,
         "a2": 2,
         "a3": 1,
         "a4": 1,
         "a5": 1,
         "a6": 2,
         "_deepnote_index_column": 9
        }
       ]
      },
      "text/plain": "     class  a1  a2  a3  a4  a5  a6\n0        1   1   1   1   1   3   1\n1        1   1   1   1   1   3   2\n2        1   1   1   1   3   2   1\n3        1   1   1   1   3   3   2\n4        1   1   1   2   1   2   1\n..     ...  ..  ..  ..  ..  ..  ..\n119      1   3   3   2   1   4   2\n120      1   3   3   2   3   1   2\n121      1   3   3   2   3   2   2\n122      1   3   3   2   3   3   2\n123      1   3   3   2   3   4   2\n\n[124 rows x 7 columns]",
      "text/html": "<div>\n<style scoped>\n    .dataframe tbody tr th:only-of-type {\n        vertical-align: middle;\n    }\n\n    .dataframe tbody tr th {\n        vertical-align: top;\n    }\n\n    .dataframe thead th {\n        text-align: right;\n    }\n</style>\n<table border=\"1\" class=\"dataframe\">\n  <thead>\n    <tr style=\"text-align: right;\">\n      <th></th>\n      <th>class</th>\n      <th>a1</th>\n      <th>a2</th>\n      <th>a3</th>\n      <th>a4</th>\n      <th>a5</th>\n      <th>a6</th>\n    </tr>\n  </thead>\n  <tbody>\n    <tr>\n      <th>0</th>\n      <td>1</td>\n      <td>1</td>\n      <td>1</td>\n      <td>1</td>\n      <td>1</td>\n      <td>3</td>\n      <td>1</td>\n    </tr>\n    <tr>\n      <th>1</th>\n      <td>1</td>\n      <td>1</td>\n      <td>1</td>\n      <td>1</td>\n      <td>1</td>\n      <td>3</td>\n      <td>2</td>\n    </tr>\n    <tr>\n      <th>2</th>\n      <td>1</td>\n      <td>1</td>\n      <td>1</td>\n      <td>1</td>\n      <td>3</td>\n      <td>2</td>\n      <td>1</td>\n    </tr>\n    <tr>\n      <th>3</th>\n      <td>1</td>\n      <td>1</td>\n      <td>1</td>\n      <td>1</td>\n      <td>3</td>\n      <td>3</td>\n      <td>2</td>\n    </tr>\n    <tr>\n      <th>4</th>\n      <td>1</td>\n      <td>1</td>\n      <td>1</td>\n      <td>2</td>\n      <td>1</td>\n      <td>2</td>\n      <td>1</td>\n    </tr>\n    <tr>\n      <th>...</th>\n      <td>...</td>\n      <td>...</td>\n      <td>...</td>\n      <td>...</td>\n      <td>...</td>\n      <td>...</td>\n      <td>...</td>\n    </tr>\n    <tr>\n      <th>119</th>\n      <td>1</td>\n      <td>3</td>\n      <td>3</td>\n      <td>2</td>\n      <td>1</td>\n      <td>4</td>\n      <td>2</td>\n    </tr>\n    <tr>\n      <th>120</th>\n      <td>1</td>\n      <td>3</td>\n      <td>3</td>\n      <td>2</td>\n      <td>3</td>\n      <td>1</td>\n      <td>2</td>\n    </tr>\n    <tr>\n      <th>121</th>\n      <td>1</td>\n      <td>3</td>\n      <td>3</td>\n      <td>2</td>\n      <td>3</td>\n      <td>2</td>\n      <td>2</td>\n    </tr>\n    <tr>\n      <th>122</th>\n      <td>1</td>\n      <td>3</td>\n      <td>3</td>\n      <td>2</td>\n      <td>3</td>\n      <td>3</td>\n      <td>2</td>\n    </tr>\n    <tr>\n      <th>123</th>\n      <td>1</td>\n      <td>3</td>\n      <td>3</td>\n      <td>2</td>\n      <td>3</td>\n      <td>4</td>\n      <td>2</td>\n    </tr>\n  </tbody>\n</table>\n<p>124 rows × 7 columns</p>\n</div>"
     },
     "metadata": {}
    }
   ],
   "execution_count": null
  },
  {
   "cell_type": "code",
   "metadata": {
    "tags": [],
    "cell_id": "00005-9871c03f-5475-45e7-b0bd-16fcb8946ab3",
    "deepnote_to_be_reexecuted": false,
    "source_hash": "b22c86e5",
    "execution_start": 1641738038349,
    "execution_millis": 223,
    "deepnote_output_heights": [
     21.1875,
     451
    ],
    "deepnote_cell_type": "code"
   },
   "source": "#plot class distribution in train data\nfig_size = plt.rcParams[\"figure.figsize\"]\nfig_size[0] = 10\nfig_size[1] = 8\nplt.rcParams[\"figure.figsize\"] = fig_size\n\ndf_monk1_train['class'].value_counts().plot(kind='pie', autopct='%1.0f%%', colors=['skyblue', 'orange'], explode=(0.05, 0.05))",
   "outputs": [
    {
     "output_type": "execute_result",
     "execution_count": 13,
     "data": {
      "text/plain": "<AxesSubplot:ylabel='class'>"
     },
     "metadata": {}
    },
    {
     "data": {
      "text/plain": "<Figure size 720x576 with 1 Axes>",
      "image/png": "[encoded data removed]"
     },
     "metadata": {
      "image/png": {
       "width": 463,
       "height": 449
      }
     },
     "output_type": "display_data"
    }
   ],
   "execution_count": null
  },
  {
   "cell_type": "code",
   "metadata": {
    "tags": [],
    "cell_id": "00006-cf57ec2c-783c-4fb6-b41c-1d6bb899e12d",
    "deepnote_to_be_reexecuted": false,
    "source_hash": "3b111b4e",
    "execution_start": 1641738038617,
    "execution_millis": 94,
    "deepnote_output_heights": [
     21.1875,
     451
    ],
    "deepnote_cell_type": "code"
   },
   "source": "#plot class distribution in test data\ndf_monk1_test['class'].value_counts().plot(kind='pie', autopct='%1.0f%%', colors=['skyblue', 'orange'], explode=(0.05, 0.05))",
   "outputs": [
    {
     "output_type": "execute_result",
     "execution_count": 14,
     "data": {
      "text/plain": "<AxesSubplot:ylabel='class'>"
     },
     "metadata": {}
    },
    {
     "data": {
      "text/plain": "<Figure size 720x576 with 1 Axes>",
      "image/png": "[encoded data removed]"
     },
     "metadata": {
      "image/png": {
       "width": 463,
       "height": 449
      }
     },
     "output_type": "display_data"
    }
   ],
   "execution_count": null
  },
  {
   "cell_type": "code",
   "metadata": {
    "tags": [],
    "cell_id": "00006-6d2e73e4-db72-4c8a-9318-661ff3448836",
    "deepnote_to_be_reexecuted": false,
    "source_hash": "4d1a8c29",
    "execution_start": 1641738038712,
    "execution_millis": 3,
    "deepnote_cell_type": "code"
   },
   "source": "#prepare train and test data\ntarget_train = df_monk1_train.pop('class')\ntarget_test = df_monk1_test.pop('class')\n#X_train = df_monk1_train\n#y_train = target_train\nX_test = df_monk1_test\ny_test = target_test",
   "outputs": [],
   "execution_count": null
  },
  {
   "cell_type": "code",
   "metadata": {
    "tags": [],
    "cell_id": "00014-59eeaa5a-7fb9-4036-afdb-97d3acc95337",
    "deepnote_to_be_reexecuted": false,
    "source_hash": "467aad57",
    "execution_start": 1641738038768,
    "execution_millis": 3,
    "deepnote_cell_type": "code"
   },
   "source": "#prepare validation set\nX_train, X_validation, y_train, y_validation = train_test_split(df_monk1_train, target_train, stratify=target_train, test_size=0.30)",
   "outputs": [],
   "execution_count": null
  },
  {
   "cell_type": "code",
   "metadata": {
    "tags": [],
    "cell_id": "00016-1565151b-448e-473f-ba7c-02e7c62f1dc0",
    "deepnote_to_be_reexecuted": false,
    "source_hash": "2ba56de1",
    "execution_start": 1641738038774,
    "execution_millis": 5,
    "deepnote_output_heights": [
     78.796875
    ],
    "deepnote_cell_type": "code"
   },
   "source": "print(\"Length train data: \", X_train.shape[0])\nprint(\"Length validation data: \", X_validation.shape[0])",
   "outputs": [
    {
     "name": "stdout",
     "text": "Length train data:  86\nLength validation data:  38\n",
     "output_type": "stream",
     "data": {}
    }
   ],
   "execution_count": null
  },
  {
   "cell_type": "markdown",
   "metadata": {
    "tags": [],
    "cell_id": "00008-5bdc0389-f2c2-471e-bcbb-bd041eb78f5e",
    "deepnote_to_be_reexecuted": true,
    "source_hash": "af8f8099",
    "execution_start": 1641685417575,
    "execution_millis": 22,
    "deepnote_cell_type": "markdown"
   },
   "source": "#create tensor for train and test data \nX_train = X_train.values #returns a ndarray\nX_test = X_test.values\nX_validation = X_validation.values\n\nx_tensor =  torch.from_numpy(X_train).float()\ny_tensor =  torch.from_numpy(y_train.values.ravel()).float()\nxval_tensor =  torch.from_numpy(X_validation).float()\nyval_tensor =  torch.from_numpy(y_validation.values.ravel()).float()\nxtest_tensor =  torch.from_numpy(X_test).float()\nytest_tensor =  torch.from_numpy(y_test.values.ravel()).float()\n\n#prepare dataloader for training\ny_tensor = y_tensor.unsqueeze(1)\ntrain_ds = TensorDataset(x_tensor, y_tensor)\ntrain_loader = DataLoader(train_ds, batch_size=BATCH_SIZE, shuffle=True)\n\n#prepare dataloader for validation \nyval_tensor = yval_tensor.unsqueeze(1)\nval_ds = TensorDataset(xval_tensor, yval_tensor)\nval_loader = DataLoader(val_ds, batch_size=BATCH_SIZE, shuffle=False)\n\n#prepare dataloader for evaluating \nytest_tensor = ytest_tensor.unsqueeze(1)\ntest_ds = TensorDataset(xtest_tensor, ytest_tensor)\ntest_loader = DataLoader(test_ds, batch_size=1, shuffle=False)",
   "execution_count": null
  },
  {
   "cell_type": "markdown",
   "source": "## Training and evaluate\nIn this section, we train the network and control the results.",
   "metadata": {
    "tags": [],
    "cell_id": "00018-b86cbd9a-690b-4b65-90dd-53319cf3100d",
    "deepnote_cell_type": "markdown"
   }
  },
  {
   "cell_type": "markdown",
   "source": "study = optuna.create_study(direction=\"minimize\")\nstudy.optimize(TuningHP(train_loader, val_loader), n_trials=1000, timeout=1000)\n\npruned_trials = study.get_trials(deepcopy=False, states=[TrialState.PRUNED])\ncomplete_trials = study.get_trials(deepcopy=False, states=[TrialState.COMPLETE])\n\nprint(\"Study statistics: \")\nprint(\"  Number of finished trials: \", len(study.trials))\nprint(\"  Number of pruned trials: \", len(pruned_trials))\nprint(\"  Number of complete trials: \", len(complete_trials))\n\nprint(\"Best trial:\")\ntrial = study.best_trial\n\nprint(\"  Value: \", trial.value)\n\nprint(\"  Params: \")\nfor key, value in trial.params.items():\n    print(\"    {}: {}\".format(key, value))\n    \n#losses_train, losses_test, accuracy = tuningHP(trial, model, train_loader, val_loader, EPOCHS, loss_function)\n#print(\"ACCURACY: \", accuracy)",
   "metadata": {
    "tags": [],
    "cell_id": "00027-87fd33d0-12c0-4278-ac9b-65abf93f5555",
    "deepnote_to_be_reexecuted": false,
    "source_hash": "8c38d68e",
    "execution_start": 1641683064129,
    "execution_millis": 836120,
    "deepnote_cell_type": "markdown"
   }
  },
  {
   "cell_type": "code",
   "source": "net = NeuralNetBinaryClassifier(\n    BinaryClassification,\n    max_epochs=10,\n    lr=0.1,\n    # Shuffle training data on each epoch\n    iterator_train__shuffle=True,\n)\n\n# deactivate skorch-internal train-valid split and verbose logging\nnet.set_params(train_split=False, verbose=0)\nparams = {\n    'lr': [0.01, 0.1],\n    'max_epochs': [10, 100],\n    'module__hidden_unit1': [2, 5],\n}\ngs = GridSearchCV(net, params, refit=True, cv=3, scoring='accuracy', verbose=2)\n\ngs.fit(X_train, y_train)\nprint(\"best score: {:.3f}, best params: {}\".format(gs.best_score_, gs.best_params_))\n\ngrid_predictions = gs.predict(X_validation) \n# print classification report \nprint(classification_report(y_validation, grid_predictions)) ",
   "metadata": {
    "tags": [],
    "cell_id": "00025-cd8f9865-5f16-48c1-afbc-409a7043eaea",
    "deepnote_to_be_reexecuted": false,
    "source_hash": "a41c798d",
    "execution_start": 1641738038825,
    "execution_millis": 358,
    "deepnote_output_heights": [
     194,
     606.1875
    ],
    "deepnote_cell_type": "code"
   },
   "outputs": [
    {
     "name": "stdout",
     "text": "Fitting 3 folds for each of 8 candidates, totalling 24 fits\n[CV] END .....lr=0.01, max_epochs=10, module__hidden_unit1=2; total time=   0.0s\n[CV] END .....lr=0.01, max_epochs=10, module__hidden_unit1=2; total time=   0.0s\n[CV] END .....lr=0.01, max_epochs=10, module__hidden_unit1=2; total time=   0.0s\n[CV] END .....lr=0.01, max_epochs=10, module__hidden_unit1=5; total time=   0.0s\n[CV] END .....lr=0.01, max_epochs=10, module__hidden_unit1=5; total time=   0.0s\n[CV] END .....lr=0.01, max_epochs=10, module__hidden_unit1=5; total time=   0.0s\n[CV] END ....lr=0.01, max_epochs=100, module__hidden_unit1=2; total time=   0.0s\n[CV] END ....lr=0.01, max_epochs=100, module__hidden_unit1=2; total time=   0.0s\n[CV] END ....lr=0.01, max_epochs=100, module__hidden_unit1=2; total time=   0.0s\n[CV] END ....lr=0.01, max_epochs=100, module__hidden_unit1=5; total time=   0.0s\n[CV] END ....lr=0.01, max_epochs=100, module__hidden_unit1=5; total time=   0.0s\n[CV] END ....lr=0.01, max_epochs=100, module__hidden_unit1=5; total time=   0.0s\n[CV] END ......lr=0.1, max_epochs=10, module__hidden_unit1=2; total time=   0.0s\n[CV] END ......lr=0.1, max_epochs=10, module__hidden_unit1=2; total time=   0.0s\n[CV] END ......lr=0.1, max_epochs=10, module__hidden_unit1=2; total time=   0.0s\n[CV] END ......lr=0.1, max_epochs=10, module__hidden_unit1=5; total time=   0.0s\n[CV] END ......lr=0.1, max_epochs=10, module__hidden_unit1=5; total time=   0.0s\n[CV] END ......lr=0.1, max_epochs=10, module__hidden_unit1=5; total time=   0.0s\n[CV] END .....lr=0.1, max_epochs=100, module__hidden_unit1=2; total time=   0.0s\n[CV] END .....lr=0.1, max_epochs=100, module__hidden_unit1=2; total time=   0.0s\n[CV] END .....lr=0.1, max_epochs=100, module__hidden_unit1=2; total time=   0.0s\n[CV] END .....lr=0.1, max_epochs=100, module__hidden_unit1=5; total time=   0.0s\n[CV] END .....lr=0.1, max_epochs=100, module__hidden_unit1=5; total time=   0.0s\n[CV] END .....lr=0.1, max_epochs=100, module__hidden_unit1=5; total time=   0.0s\n",
     "output_type": "stream",
     "data": {}
    },
    {
     "output_type": "error",
     "ename": "TypeError",
     "evalue": "forward() missing 1 required positional argument: 'inputs'",
     "traceback": [
      "\u001b[0;31m---------------------------------------------------------------------------\u001b[0m",
      "\u001b[0;31mTypeError\u001b[0m                                 Traceback (most recent call last)",
      "\u001b[0;32m<ipython-input-18-c3b9f8833365>\u001b[0m in \u001b[0;36m<module>\u001b[0;34m\u001b[0m\n\u001b[1;32m     16\u001b[0m \u001b[0mgs\u001b[0m \u001b[0;34m=\u001b[0m \u001b[0mGridSearchCV\u001b[0m\u001b[0;34m(\u001b[0m\u001b[0mnet\u001b[0m\u001b[0;34m,\u001b[0m \u001b[0mparams\u001b[0m\u001b[0;34m,\u001b[0m \u001b[0mrefit\u001b[0m\u001b[0;34m=\u001b[0m\u001b[0;32mTrue\u001b[0m\u001b[0;34m,\u001b[0m \u001b[0mcv\u001b[0m\u001b[0;34m=\u001b[0m\u001b[0;36m3\u001b[0m\u001b[0;34m,\u001b[0m \u001b[0mscoring\u001b[0m\u001b[0;34m=\u001b[0m\u001b[0;34m'accuracy'\u001b[0m\u001b[0;34m,\u001b[0m \u001b[0mverbose\u001b[0m\u001b[0;34m=\u001b[0m\u001b[0;36m2\u001b[0m\u001b[0;34m)\u001b[0m\u001b[0;34m\u001b[0m\u001b[0;34m\u001b[0m\u001b[0m\n\u001b[1;32m     17\u001b[0m \u001b[0;34m\u001b[0m\u001b[0m\n\u001b[0;32m---> 18\u001b[0;31m \u001b[0mgs\u001b[0m\u001b[0;34m.\u001b[0m\u001b[0mfit\u001b[0m\u001b[0;34m(\u001b[0m\u001b[0mX_train\u001b[0m\u001b[0;34m,\u001b[0m \u001b[0my_train\u001b[0m\u001b[0;34m)\u001b[0m\u001b[0;34m\u001b[0m\u001b[0;34m\u001b[0m\u001b[0m\n\u001b[0m\u001b[1;32m     19\u001b[0m \u001b[0mprint\u001b[0m\u001b[0;34m(\u001b[0m\u001b[0;34m\"best score: {:.3f}, best params: {}\"\u001b[0m\u001b[0;34m.\u001b[0m\u001b[0mformat\u001b[0m\u001b[0;34m(\u001b[0m\u001b[0mgs\u001b[0m\u001b[0;34m.\u001b[0m\u001b[0mbest_score_\u001b[0m\u001b[0;34m,\u001b[0m \u001b[0mgs\u001b[0m\u001b[0;34m.\u001b[0m\u001b[0mbest_params_\u001b[0m\u001b[0;34m)\u001b[0m\u001b[0;34m)\u001b[0m\u001b[0;34m\u001b[0m\u001b[0;34m\u001b[0m\u001b[0m\n\u001b[1;32m     20\u001b[0m \u001b[0;34m\u001b[0m\u001b[0m\n",
      "\u001b[0;32m/shared-libs/python3.7/py/lib/python3.7/site-packages/sklearn/model_selection/_search.py\u001b[0m in \u001b[0;36mfit\u001b[0;34m(self, X, y, groups, **fit_params)\u001b[0m\n\u001b[1;32m    924\u001b[0m             \u001b[0mrefit_start_time\u001b[0m \u001b[0;34m=\u001b[0m \u001b[0mtime\u001b[0m\u001b[0;34m.\u001b[0m\u001b[0mtime\u001b[0m\u001b[0;34m(\u001b[0m\u001b[0;34m)\u001b[0m\u001b[0;34m\u001b[0m\u001b[0;34m\u001b[0m\u001b[0m\n\u001b[1;32m    925\u001b[0m             \u001b[0;32mif\u001b[0m \u001b[0my\u001b[0m \u001b[0;32mis\u001b[0m \u001b[0;32mnot\u001b[0m \u001b[0;32mNone\u001b[0m\u001b[0;34m:\u001b[0m\u001b[0;34m\u001b[0m\u001b[0;34m\u001b[0m\u001b[0m\n\u001b[0;32m--> 926\u001b[0;31m                 \u001b[0mself\u001b[0m\u001b[0;34m.\u001b[0m\u001b[0mbest_estimator_\u001b[0m\u001b[0;34m.\u001b[0m\u001b[0mfit\u001b[0m\u001b[0;34m(\u001b[0m\u001b[0mX\u001b[0m\u001b[0;34m,\u001b[0m \u001b[0my\u001b[0m\u001b[0;34m,\u001b[0m \u001b[0;34m**\u001b[0m\u001b[0mfit_params\u001b[0m\u001b[0;34m)\u001b[0m\u001b[0;34m\u001b[0m\u001b[0;34m\u001b[0m\u001b[0m\n\u001b[0m\u001b[1;32m    927\u001b[0m             \u001b[0;32melse\u001b[0m\u001b[0;34m:\u001b[0m\u001b[0;34m\u001b[0m\u001b[0;34m\u001b[0m\u001b[0m\n\u001b[1;32m    928\u001b[0m                 \u001b[0mself\u001b[0m\u001b[0;34m.\u001b[0m\u001b[0mbest_estimator_\u001b[0m\u001b[0;34m.\u001b[0m\u001b[0mfit\u001b[0m\u001b[0;34m(\u001b[0m\u001b[0mX\u001b[0m\u001b[0;34m,\u001b[0m \u001b[0;34m**\u001b[0m\u001b[0mfit_params\u001b[0m\u001b[0;34m)\u001b[0m\u001b[0;34m\u001b[0m\u001b[0;34m\u001b[0m\u001b[0m\n",
      "\u001b[0;32m~/venv/lib/python3.7/site-packages/skorch/classifier.py\u001b[0m in \u001b[0;36mfit\u001b[0;34m(self, X, y, **fit_params)\u001b[0m\n\u001b[1;32m    322\u001b[0m         \u001b[0;31m# this is actually a pylint bug:\u001b[0m\u001b[0;34m\u001b[0m\u001b[0;34m\u001b[0m\u001b[0;34m\u001b[0m\u001b[0m\n\u001b[1;32m    323\u001b[0m         \u001b[0;31m# https://github.com/PyCQA/pylint/issues/1085\u001b[0m\u001b[0;34m\u001b[0m\u001b[0;34m\u001b[0m\u001b[0;34m\u001b[0m\u001b[0m\n\u001b[0;32m--> 324\u001b[0;31m         \u001b[0;32mreturn\u001b[0m \u001b[0msuper\u001b[0m\u001b[0;34m(\u001b[0m\u001b[0;34m)\u001b[0m\u001b[0;34m.\u001b[0m\u001b[0mfit\u001b[0m\u001b[0;34m(\u001b[0m\u001b[0mX\u001b[0m\u001b[0;34m,\u001b[0m \u001b[0my\u001b[0m\u001b[0;34m,\u001b[0m \u001b[0;34m**\u001b[0m\u001b[0mfit_params\u001b[0m\u001b[0;34m)\u001b[0m\u001b[0;34m\u001b[0m\u001b[0;34m\u001b[0m\u001b[0m\n\u001b[0m\u001b[1;32m    325\u001b[0m \u001b[0;34m\u001b[0m\u001b[0m\n\u001b[1;32m    326\u001b[0m     \u001b[0;32mdef\u001b[0m \u001b[0mpredict\u001b[0m\u001b[0;34m(\u001b[0m\u001b[0mself\u001b[0m\u001b[0;34m,\u001b[0m \u001b[0mX\u001b[0m\u001b[0;34m)\u001b[0m\u001b[0;34m:\u001b[0m\u001b[0;34m\u001b[0m\u001b[0;34m\u001b[0m\u001b[0m\n",
      "\u001b[0;32m~/venv/lib/python3.7/site-packages/skorch/net.py\u001b[0m in \u001b[0;36mfit\u001b[0;34m(self, X, y, **fit_params)\u001b[0m\n\u001b[1;32m   1213\u001b[0m             \u001b[0mself\u001b[0m\u001b[0;34m.\u001b[0m\u001b[0minitialize\u001b[0m\u001b[0;34m(\u001b[0m\u001b[0;34m)\u001b[0m\u001b[0;34m\u001b[0m\u001b[0;34m\u001b[0m\u001b[0m\n\u001b[1;32m   1214\u001b[0m \u001b[0;34m\u001b[0m\u001b[0m\n\u001b[0;32m-> 1215\u001b[0;31m         \u001b[0mself\u001b[0m\u001b[0;34m.\u001b[0m\u001b[0mpartial_fit\u001b[0m\u001b[0;34m(\u001b[0m\u001b[0mX\u001b[0m\u001b[0;34m,\u001b[0m \u001b[0my\u001b[0m\u001b[0;34m,\u001b[0m \u001b[0;34m**\u001b[0m\u001b[0mfit_params\u001b[0m\u001b[0;34m)\u001b[0m\u001b[0;34m\u001b[0m\u001b[0;34m\u001b[0m\u001b[0m\n\u001b[0m\u001b[1;32m   1216\u001b[0m         \u001b[0;32mreturn\u001b[0m \u001b[0mself\u001b[0m\u001b[0;34m\u001b[0m\u001b[0;34m\u001b[0m\u001b[0m\n\u001b[1;32m   1217\u001b[0m \u001b[0;34m\u001b[0m\u001b[0m\n",
      "\u001b[0;32m~/venv/lib/python3.7/site-packages/skorch/net.py\u001b[0m in \u001b[0;36mpartial_fit\u001b[0;34m(self, X, y, classes, **fit_params)\u001b[0m\n\u001b[1;32m   1172\u001b[0m         \u001b[0mself\u001b[0m\u001b[0;34m.\u001b[0m\u001b[0mnotify\u001b[0m\u001b[0;34m(\u001b[0m\u001b[0;34m'on_train_begin'\u001b[0m\u001b[0;34m,\u001b[0m \u001b[0mX\u001b[0m\u001b[0;34m=\u001b[0m\u001b[0mX\u001b[0m\u001b[0;34m,\u001b[0m \u001b[0my\u001b[0m\u001b[0;34m=\u001b[0m\u001b[0my\u001b[0m\u001b[0;34m)\u001b[0m\u001b[0;34m\u001b[0m\u001b[0;34m\u001b[0m\u001b[0m\n\u001b[1;32m   1173\u001b[0m         \u001b[0;32mtry\u001b[0m\u001b[0;34m:\u001b[0m\u001b[0;34m\u001b[0m\u001b[0;34m\u001b[0m\u001b[0m\n\u001b[0;32m-> 1174\u001b[0;31m             \u001b[0mself\u001b[0m\u001b[0;34m.\u001b[0m\u001b[0mfit_loop\u001b[0m\u001b[0;34m(\u001b[0m\u001b[0mX\u001b[0m\u001b[0;34m,\u001b[0m \u001b[0my\u001b[0m\u001b[0;34m,\u001b[0m \u001b[0;34m**\u001b[0m\u001b[0mfit_params\u001b[0m\u001b[0;34m)\u001b[0m\u001b[0;34m\u001b[0m\u001b[0;34m\u001b[0m\u001b[0m\n\u001b[0m\u001b[1;32m   1175\u001b[0m         \u001b[0;32mexcept\u001b[0m \u001b[0mKeyboardInterrupt\u001b[0m\u001b[0;34m:\u001b[0m\u001b[0;34m\u001b[0m\u001b[0;34m\u001b[0m\u001b[0m\n\u001b[1;32m   1176\u001b[0m             \u001b[0;32mpass\u001b[0m\u001b[0;34m\u001b[0m\u001b[0;34m\u001b[0m\u001b[0m\n",
      "\u001b[0;32m~/venv/lib/python3.7/site-packages/skorch/net.py\u001b[0m in \u001b[0;36mfit_loop\u001b[0;34m(self, X, y, epochs, **fit_params)\u001b[0m\n\u001b[1;32m   1086\u001b[0m \u001b[0;34m\u001b[0m\u001b[0m\n\u001b[1;32m   1087\u001b[0m             self.run_single_epoch(dataset_train, training=True, prefix=\"train\",\n\u001b[0;32m-> 1088\u001b[0;31m                                   step_fn=self.train_step, **fit_params)\n\u001b[0m\u001b[1;32m   1089\u001b[0m \u001b[0;34m\u001b[0m\u001b[0m\n\u001b[1;32m   1090\u001b[0m             self.run_single_epoch(dataset_valid, training=False, prefix=\"valid\",\n",
      "\u001b[0;32m~/venv/lib/python3.7/site-packages/skorch/net.py\u001b[0m in \u001b[0;36mrun_single_epoch\u001b[0;34m(self, dataset, training, prefix, step_fn, **fit_params)\u001b[0m\n\u001b[1;32m   1120\u001b[0m         \u001b[0;32mfor\u001b[0m \u001b[0mbatch\u001b[0m \u001b[0;32min\u001b[0m \u001b[0mself\u001b[0m\u001b[0;34m.\u001b[0m\u001b[0mget_iterator\u001b[0m\u001b[0;34m(\u001b[0m\u001b[0mdataset\u001b[0m\u001b[0;34m,\u001b[0m \u001b[0mtraining\u001b[0m\u001b[0;34m=\u001b[0m\u001b[0mtraining\u001b[0m\u001b[0;34m)\u001b[0m\u001b[0;34m:\u001b[0m\u001b[0;34m\u001b[0m\u001b[0;34m\u001b[0m\u001b[0m\n\u001b[1;32m   1121\u001b[0m             \u001b[0mself\u001b[0m\u001b[0;34m.\u001b[0m\u001b[0mnotify\u001b[0m\u001b[0;34m(\u001b[0m\u001b[0;34m\"on_batch_begin\"\u001b[0m\u001b[0;34m,\u001b[0m \u001b[0mbatch\u001b[0m\u001b[0;34m=\u001b[0m\u001b[0mbatch\u001b[0m\u001b[0;34m,\u001b[0m \u001b[0mtraining\u001b[0m\u001b[0;34m=\u001b[0m\u001b[0mtraining\u001b[0m\u001b[0;34m)\u001b[0m\u001b[0;34m\u001b[0m\u001b[0;34m\u001b[0m\u001b[0m\n\u001b[0;32m-> 1122\u001b[0;31m             \u001b[0mstep\u001b[0m \u001b[0;34m=\u001b[0m \u001b[0mstep_fn\u001b[0m\u001b[0;34m(\u001b[0m\u001b[0mbatch\u001b[0m\u001b[0;34m,\u001b[0m \u001b[0;34m**\u001b[0m\u001b[0mfit_params\u001b[0m\u001b[0;34m)\u001b[0m\u001b[0;34m\u001b[0m\u001b[0;34m\u001b[0m\u001b[0m\n\u001b[0m\u001b[1;32m   1123\u001b[0m             \u001b[0mself\u001b[0m\u001b[0;34m.\u001b[0m\u001b[0mhistory\u001b[0m\u001b[0;34m.\u001b[0m\u001b[0mrecord_batch\u001b[0m\u001b[0;34m(\u001b[0m\u001b[0mprefix\u001b[0m \u001b[0;34m+\u001b[0m \u001b[0;34m\"_loss\"\u001b[0m\u001b[0;34m,\u001b[0m \u001b[0mstep\u001b[0m\u001b[0;34m[\u001b[0m\u001b[0;34m\"loss\"\u001b[0m\u001b[0;34m]\u001b[0m\u001b[0;34m.\u001b[0m\u001b[0mitem\u001b[0m\u001b[0;34m(\u001b[0m\u001b[0;34m)\u001b[0m\u001b[0;34m)\u001b[0m\u001b[0;34m\u001b[0m\u001b[0;34m\u001b[0m\u001b[0m\n\u001b[1;32m   1124\u001b[0m             batch_size = (get_len(batch[0]) if isinstance(batch, (tuple, list))\n",
      "\u001b[0;32m~/venv/lib/python3.7/site-packages/skorch/net.py\u001b[0m in \u001b[0;36mtrain_step\u001b[0;34m(self, batch, **fit_params)\u001b[0m\n\u001b[1;32m   1005\u001b[0m             \u001b[0;32mreturn\u001b[0m \u001b[0mstep\u001b[0m\u001b[0;34m[\u001b[0m\u001b[0;34m'loss'\u001b[0m\u001b[0;34m]\u001b[0m\u001b[0;34m\u001b[0m\u001b[0;34m\u001b[0m\u001b[0m\n\u001b[1;32m   1006\u001b[0m \u001b[0;34m\u001b[0m\u001b[0m\n\u001b[0;32m-> 1007\u001b[0;31m         \u001b[0mself\u001b[0m\u001b[0;34m.\u001b[0m\u001b[0m_step_optimizer\u001b[0m\u001b[0;34m(\u001b[0m\u001b[0mstep_fn\u001b[0m\u001b[0;34m)\u001b[0m\u001b[0;34m\u001b[0m\u001b[0;34m\u001b[0m\u001b[0m\n\u001b[0m\u001b[1;32m   1008\u001b[0m         \u001b[0;32mreturn\u001b[0m \u001b[0mstep_accumulator\u001b[0m\u001b[0;34m.\u001b[0m\u001b[0mget_step\u001b[0m\u001b[0;34m(\u001b[0m\u001b[0;34m)\u001b[0m\u001b[0;34m\u001b[0m\u001b[0;34m\u001b[0m\u001b[0m\n\u001b[1;32m   1009\u001b[0m \u001b[0;34m\u001b[0m\u001b[0m\n",
      "\u001b[0;32m~/venv/lib/python3.7/site-packages/skorch/net.py\u001b[0m in \u001b[0;36m_step_optimizer\u001b[0;34m(self, step_fn)\u001b[0m\n\u001b[1;32m    961\u001b[0m                 \u001b[0moptimizer\u001b[0m\u001b[0;34m.\u001b[0m\u001b[0mstep\u001b[0m\u001b[0;34m(\u001b[0m\u001b[0;34m)\u001b[0m\u001b[0;34m\u001b[0m\u001b[0;34m\u001b[0m\u001b[0m\n\u001b[1;32m    962\u001b[0m             \u001b[0;32melse\u001b[0m\u001b[0;34m:\u001b[0m\u001b[0;34m\u001b[0m\u001b[0;34m\u001b[0m\u001b[0m\n\u001b[0;32m--> 963\u001b[0;31m                 \u001b[0moptimizer\u001b[0m\u001b[0;34m.\u001b[0m\u001b[0mstep\u001b[0m\u001b[0;34m(\u001b[0m\u001b[0mstep_fn\u001b[0m\u001b[0;34m)\u001b[0m\u001b[0;34m\u001b[0m\u001b[0;34m\u001b[0m\u001b[0m\n\u001b[0m\u001b[1;32m    964\u001b[0m \u001b[0;34m\u001b[0m\u001b[0m\n\u001b[1;32m    965\u001b[0m     \u001b[0;32mdef\u001b[0m \u001b[0mtrain_step\u001b[0m\u001b[0;34m(\u001b[0m\u001b[0mself\u001b[0m\u001b[0;34m,\u001b[0m \u001b[0mbatch\u001b[0m\u001b[0;34m,\u001b[0m \u001b[0;34m**\u001b[0m\u001b[0mfit_params\u001b[0m\u001b[0;34m)\u001b[0m\u001b[0;34m:\u001b[0m\u001b[0;34m\u001b[0m\u001b[0;34m\u001b[0m\u001b[0m\n",
      "\u001b[0;32m/shared-libs/python3.7/py/lib/python3.7/site-packages/torch/optim/optimizer.py\u001b[0m in \u001b[0;36mwrapper\u001b[0;34m(*args, **kwargs)\u001b[0m\n\u001b[1;32m     86\u001b[0m                 \u001b[0mprofile_name\u001b[0m \u001b[0;34m=\u001b[0m \u001b[0;34m\"Optimizer.step#{}.step\"\u001b[0m\u001b[0;34m.\u001b[0m\u001b[0mformat\u001b[0m\u001b[0;34m(\u001b[0m\u001b[0mobj\u001b[0m\u001b[0;34m.\u001b[0m\u001b[0m__class__\u001b[0m\u001b[0;34m.\u001b[0m\u001b[0m__name__\u001b[0m\u001b[0;34m)\u001b[0m\u001b[0;34m\u001b[0m\u001b[0;34m\u001b[0m\u001b[0m\n\u001b[1;32m     87\u001b[0m                 \u001b[0;32mwith\u001b[0m \u001b[0mtorch\u001b[0m\u001b[0;34m.\u001b[0m\u001b[0mautograd\u001b[0m\u001b[0;34m.\u001b[0m\u001b[0mprofiler\u001b[0m\u001b[0;34m.\u001b[0m\u001b[0mrecord_function\u001b[0m\u001b[0;34m(\u001b[0m\u001b[0mprofile_name\u001b[0m\u001b[0;34m)\u001b[0m\u001b[0;34m:\u001b[0m\u001b[0;34m\u001b[0m\u001b[0;34m\u001b[0m\u001b[0m\n\u001b[0;32m---> 88\u001b[0;31m                     \u001b[0;32mreturn\u001b[0m \u001b[0mfunc\u001b[0m\u001b[0;34m(\u001b[0m\u001b[0;34m*\u001b[0m\u001b[0margs\u001b[0m\u001b[0;34m,\u001b[0m \u001b[0;34m**\u001b[0m\u001b[0mkwargs\u001b[0m\u001b[0;34m)\u001b[0m\u001b[0;34m\u001b[0m\u001b[0;34m\u001b[0m\u001b[0m\n\u001b[0m\u001b[1;32m     89\u001b[0m             \u001b[0;32mreturn\u001b[0m \u001b[0mwrapper\u001b[0m\u001b[0;34m\u001b[0m\u001b[0;34m\u001b[0m\u001b[0m\n\u001b[1;32m     90\u001b[0m \u001b[0;34m\u001b[0m\u001b[0m\n",
      "\u001b[0;32m/shared-libs/python3.7/py/lib/python3.7/site-packages/torch/autograd/grad_mode.py\u001b[0m in \u001b[0;36mdecorate_context\u001b[0;34m(*args, **kwargs)\u001b[0m\n\u001b[1;32m     26\u001b[0m         \u001b[0;32mdef\u001b[0m \u001b[0mdecorate_context\u001b[0m\u001b[0;34m(\u001b[0m\u001b[0;34m*\u001b[0m\u001b[0margs\u001b[0m\u001b[0;34m,\u001b[0m \u001b[0;34m**\u001b[0m\u001b[0mkwargs\u001b[0m\u001b[0;34m)\u001b[0m\u001b[0;34m:\u001b[0m\u001b[0;34m\u001b[0m\u001b[0;34m\u001b[0m\u001b[0m\n\u001b[1;32m     27\u001b[0m             \u001b[0;32mwith\u001b[0m \u001b[0mself\u001b[0m\u001b[0;34m.\u001b[0m\u001b[0m__class__\u001b[0m\u001b[0;34m(\u001b[0m\u001b[0;34m)\u001b[0m\u001b[0;34m:\u001b[0m\u001b[0;34m\u001b[0m\u001b[0;34m\u001b[0m\u001b[0m\n\u001b[0;32m---> 28\u001b[0;31m                 \u001b[0;32mreturn\u001b[0m \u001b[0mfunc\u001b[0m\u001b[0;34m(\u001b[0m\u001b[0;34m*\u001b[0m\u001b[0margs\u001b[0m\u001b[0;34m,\u001b[0m \u001b[0;34m**\u001b[0m\u001b[0mkwargs\u001b[0m\u001b[0;34m)\u001b[0m\u001b[0;34m\u001b[0m\u001b[0;34m\u001b[0m\u001b[0m\n\u001b[0m\u001b[1;32m     29\u001b[0m         \u001b[0;32mreturn\u001b[0m \u001b[0mcast\u001b[0m\u001b[0;34m(\u001b[0m\u001b[0mF\u001b[0m\u001b[0;34m,\u001b[0m \u001b[0mdecorate_context\u001b[0m\u001b[0;34m)\u001b[0m\u001b[0;34m\u001b[0m\u001b[0;34m\u001b[0m\u001b[0m\n\u001b[1;32m     30\u001b[0m \u001b[0;34m\u001b[0m\u001b[0m\n",
      "\u001b[0;32m/shared-libs/python3.7/py/lib/python3.7/site-packages/torch/optim/sgd.py\u001b[0m in \u001b[0;36mstep\u001b[0;34m(self, closure)\u001b[0m\n\u001b[1;32m    111\u001b[0m         \u001b[0;32mif\u001b[0m \u001b[0mclosure\u001b[0m \u001b[0;32mis\u001b[0m \u001b[0;32mnot\u001b[0m \u001b[0;32mNone\u001b[0m\u001b[0;34m:\u001b[0m\u001b[0;34m\u001b[0m\u001b[0;34m\u001b[0m\u001b[0m\n\u001b[1;32m    112\u001b[0m             \u001b[0;32mwith\u001b[0m \u001b[0mtorch\u001b[0m\u001b[0;34m.\u001b[0m\u001b[0menable_grad\u001b[0m\u001b[0;34m(\u001b[0m\u001b[0;34m)\u001b[0m\u001b[0;34m:\u001b[0m\u001b[0;34m\u001b[0m\u001b[0;34m\u001b[0m\u001b[0m\n\u001b[0;32m--> 113\u001b[0;31m                 \u001b[0mloss\u001b[0m \u001b[0;34m=\u001b[0m \u001b[0mclosure\u001b[0m\u001b[0;34m(\u001b[0m\u001b[0;34m)\u001b[0m\u001b[0;34m\u001b[0m\u001b[0;34m\u001b[0m\u001b[0m\n\u001b[0m\u001b[1;32m    114\u001b[0m \u001b[0;34m\u001b[0m\u001b[0m\n\u001b[1;32m    115\u001b[0m         \u001b[0;32mfor\u001b[0m \u001b[0mgroup\u001b[0m \u001b[0;32min\u001b[0m \u001b[0mself\u001b[0m\u001b[0;34m.\u001b[0m\u001b[0mparam_groups\u001b[0m\u001b[0;34m:\u001b[0m\u001b[0;34m\u001b[0m\u001b[0;34m\u001b[0m\u001b[0m\n",
      "\u001b[0;32m~/venv/lib/python3.7/site-packages/skorch/net.py\u001b[0m in \u001b[0;36mstep_fn\u001b[0;34m()\u001b[0m\n\u001b[1;32m    995\u001b[0m         \u001b[0;32mdef\u001b[0m \u001b[0mstep_fn\u001b[0m\u001b[0;34m(\u001b[0m\u001b[0;34m)\u001b[0m\u001b[0;34m:\u001b[0m\u001b[0;34m\u001b[0m\u001b[0;34m\u001b[0m\u001b[0m\n\u001b[1;32m    996\u001b[0m             \u001b[0mself\u001b[0m\u001b[0;34m.\u001b[0m\u001b[0m_zero_grad_optimizer\u001b[0m\u001b[0;34m(\u001b[0m\u001b[0;34m)\u001b[0m\u001b[0;34m\u001b[0m\u001b[0;34m\u001b[0m\u001b[0m\n\u001b[0;32m--> 997\u001b[0;31m             \u001b[0mstep\u001b[0m \u001b[0;34m=\u001b[0m \u001b[0mself\u001b[0m\u001b[0;34m.\u001b[0m\u001b[0mtrain_step_single\u001b[0m\u001b[0;34m(\u001b[0m\u001b[0mbatch\u001b[0m\u001b[0;34m,\u001b[0m \u001b[0;34m**\u001b[0m\u001b[0mfit_params\u001b[0m\u001b[0;34m)\u001b[0m\u001b[0;34m\u001b[0m\u001b[0;34m\u001b[0m\u001b[0m\n\u001b[0m\u001b[1;32m    998\u001b[0m             \u001b[0mstep_accumulator\u001b[0m\u001b[0;34m.\u001b[0m\u001b[0mstore_step\u001b[0m\u001b[0;34m(\u001b[0m\u001b[0mstep\u001b[0m\u001b[0;34m)\u001b[0m\u001b[0;34m\u001b[0m\u001b[0;34m\u001b[0m\u001b[0m\n\u001b[1;32m    999\u001b[0m \u001b[0;34m\u001b[0m\u001b[0m\n",
      "\u001b[0;32m~/venv/lib/python3.7/site-packages/skorch/net.py\u001b[0m in \u001b[0;36mtrain_step_single\u001b[0;34m(self, batch, **fit_params)\u001b[0m\n\u001b[1;32m    894\u001b[0m         \u001b[0mself\u001b[0m\u001b[0;34m.\u001b[0m\u001b[0m_set_training\u001b[0m\u001b[0;34m(\u001b[0m\u001b[0;32mTrue\u001b[0m\u001b[0;34m)\u001b[0m\u001b[0;34m\u001b[0m\u001b[0;34m\u001b[0m\u001b[0m\n\u001b[1;32m    895\u001b[0m         \u001b[0mXi\u001b[0m\u001b[0;34m,\u001b[0m \u001b[0myi\u001b[0m \u001b[0;34m=\u001b[0m \u001b[0munpack_data\u001b[0m\u001b[0;34m(\u001b[0m\u001b[0mbatch\u001b[0m\u001b[0;34m)\u001b[0m\u001b[0;34m\u001b[0m\u001b[0;34m\u001b[0m\u001b[0m\n\u001b[0;32m--> 896\u001b[0;31m         \u001b[0my_pred\u001b[0m \u001b[0;34m=\u001b[0m \u001b[0mself\u001b[0m\u001b[0;34m.\u001b[0m\u001b[0minfer\u001b[0m\u001b[0;34m(\u001b[0m\u001b[0mXi\u001b[0m\u001b[0;34m,\u001b[0m \u001b[0;34m**\u001b[0m\u001b[0mfit_params\u001b[0m\u001b[0;34m)\u001b[0m\u001b[0;34m\u001b[0m\u001b[0;34m\u001b[0m\u001b[0m\n\u001b[0m\u001b[1;32m    897\u001b[0m         \u001b[0mloss\u001b[0m \u001b[0;34m=\u001b[0m \u001b[0mself\u001b[0m\u001b[0;34m.\u001b[0m\u001b[0mget_loss\u001b[0m\u001b[0;34m(\u001b[0m\u001b[0my_pred\u001b[0m\u001b[0;34m,\u001b[0m \u001b[0myi\u001b[0m\u001b[0;34m,\u001b[0m \u001b[0mX\u001b[0m\u001b[0;34m=\u001b[0m\u001b[0mXi\u001b[0m\u001b[0;34m,\u001b[0m \u001b[0mtraining\u001b[0m\u001b[0;34m=\u001b[0m\u001b[0;32mTrue\u001b[0m\u001b[0;34m)\u001b[0m\u001b[0;34m\u001b[0m\u001b[0;34m\u001b[0m\u001b[0m\n\u001b[1;32m    898\u001b[0m         \u001b[0mloss\u001b[0m\u001b[0;34m.\u001b[0m\u001b[0mbackward\u001b[0m\u001b[0;34m(\u001b[0m\u001b[0;34m)\u001b[0m\u001b[0;34m\u001b[0m\u001b[0;34m\u001b[0m\u001b[0m\n",
      "\u001b[0;32m~/venv/lib/python3.7/site-packages/skorch/classifier.py\u001b[0m in \u001b[0;36minfer\u001b[0;34m(self, x, **fit_params)\u001b[0m\n\u001b[1;32m    294\u001b[0m \u001b[0;34m\u001b[0m\u001b[0m\n\u001b[1;32m    295\u001b[0m         \"\"\"\n\u001b[0;32m--> 296\u001b[0;31m         \u001b[0my_infer\u001b[0m \u001b[0;34m=\u001b[0m \u001b[0msuper\u001b[0m\u001b[0;34m(\u001b[0m\u001b[0;34m)\u001b[0m\u001b[0;34m.\u001b[0m\u001b[0minfer\u001b[0m\u001b[0;34m(\u001b[0m\u001b[0mx\u001b[0m\u001b[0;34m,\u001b[0m \u001b[0;34m**\u001b[0m\u001b[0mfit_params\u001b[0m\u001b[0;34m)\u001b[0m\u001b[0;34m\u001b[0m\u001b[0;34m\u001b[0m\u001b[0m\n\u001b[0m\u001b[1;32m    297\u001b[0m         \u001b[0mrest\u001b[0m \u001b[0;34m=\u001b[0m \u001b[0;32mNone\u001b[0m\u001b[0;34m\u001b[0m\u001b[0;34m\u001b[0m\u001b[0m\n\u001b[1;32m    298\u001b[0m         \u001b[0;32mif\u001b[0m \u001b[0misinstance\u001b[0m\u001b[0;34m(\u001b[0m\u001b[0my_infer\u001b[0m\u001b[0;34m,\u001b[0m \u001b[0mtuple\u001b[0m\u001b[0;34m)\u001b[0m\u001b[0;34m:\u001b[0m\u001b[0;34m\u001b[0m\u001b[0;34m\u001b[0m\u001b[0m\n",
      "\u001b[0;32m~/venv/lib/python3.7/site-packages/skorch/net.py\u001b[0m in \u001b[0;36minfer\u001b[0;34m(self, x, **fit_params)\u001b[0m\n\u001b[1;32m   1356\u001b[0m         \u001b[0;32mif\u001b[0m \u001b[0misinstance\u001b[0m\u001b[0;34m(\u001b[0m\u001b[0mx\u001b[0m\u001b[0;34m,\u001b[0m \u001b[0mdict\u001b[0m\u001b[0;34m)\u001b[0m\u001b[0;34m:\u001b[0m\u001b[0;34m\u001b[0m\u001b[0;34m\u001b[0m\u001b[0m\n\u001b[1;32m   1357\u001b[0m             \u001b[0mx_dict\u001b[0m \u001b[0;34m=\u001b[0m \u001b[0mself\u001b[0m\u001b[0;34m.\u001b[0m\u001b[0m_merge_x_and_fit_params\u001b[0m\u001b[0;34m(\u001b[0m\u001b[0mx\u001b[0m\u001b[0;34m,\u001b[0m \u001b[0mfit_params\u001b[0m\u001b[0;34m)\u001b[0m\u001b[0;34m\u001b[0m\u001b[0;34m\u001b[0m\u001b[0m\n\u001b[0;32m-> 1358\u001b[0;31m             \u001b[0;32mreturn\u001b[0m \u001b[0mself\u001b[0m\u001b[0;34m.\u001b[0m\u001b[0mmodule_\u001b[0m\u001b[0;34m(\u001b[0m\u001b[0;34m**\u001b[0m\u001b[0mx_dict\u001b[0m\u001b[0;34m)\u001b[0m\u001b[0;34m\u001b[0m\u001b[0;34m\u001b[0m\u001b[0m\n\u001b[0m\u001b[1;32m   1359\u001b[0m         \u001b[0;32mreturn\u001b[0m \u001b[0mself\u001b[0m\u001b[0;34m.\u001b[0m\u001b[0mmodule_\u001b[0m\u001b[0;34m(\u001b[0m\u001b[0mx\u001b[0m\u001b[0;34m,\u001b[0m \u001b[0;34m**\u001b[0m\u001b[0mfit_params\u001b[0m\u001b[0;34m)\u001b[0m\u001b[0;34m\u001b[0m\u001b[0;34m\u001b[0m\u001b[0m\n\u001b[1;32m   1360\u001b[0m \u001b[0;34m\u001b[0m\u001b[0m\n",
      "\u001b[0;32m/shared-libs/python3.7/py/lib/python3.7/site-packages/torch/nn/modules/module.py\u001b[0m in \u001b[0;36m_call_impl\u001b[0;34m(self, *input, **kwargs)\u001b[0m\n\u001b[1;32m   1100\u001b[0m         if not (self._backward_hooks or self._forward_hooks or self._forward_pre_hooks or _global_backward_hooks\n\u001b[1;32m   1101\u001b[0m                 or _global_forward_hooks or _global_forward_pre_hooks):\n\u001b[0;32m-> 1102\u001b[0;31m             \u001b[0;32mreturn\u001b[0m \u001b[0mforward_call\u001b[0m\u001b[0;34m(\u001b[0m\u001b[0;34m*\u001b[0m\u001b[0minput\u001b[0m\u001b[0;34m,\u001b[0m \u001b[0;34m**\u001b[0m\u001b[0mkwargs\u001b[0m\u001b[0;34m)\u001b[0m\u001b[0;34m\u001b[0m\u001b[0;34m\u001b[0m\u001b[0m\n\u001b[0m\u001b[1;32m   1103\u001b[0m         \u001b[0;31m# Do not call functions when jit is used\u001b[0m\u001b[0;34m\u001b[0m\u001b[0;34m\u001b[0m\u001b[0;34m\u001b[0m\u001b[0m\n\u001b[1;32m   1104\u001b[0m         \u001b[0mfull_backward_hooks\u001b[0m\u001b[0;34m,\u001b[0m \u001b[0mnon_full_backward_hooks\u001b[0m \u001b[0;34m=\u001b[0m \u001b[0;34m[\u001b[0m\u001b[0;34m]\u001b[0m\u001b[0;34m,\u001b[0m \u001b[0;34m[\u001b[0m\u001b[0;34m]\u001b[0m\u001b[0;34m\u001b[0m\u001b[0;34m\u001b[0m\u001b[0m\n",
      "\u001b[0;31mTypeError\u001b[0m: forward() missing 1 required positional argument: 'inputs'"
     ],
     "data": {}
    }
   ],
   "execution_count": null
  },
  {
   "cell_type": "code",
   "metadata": {
    "tags": [],
    "cell_id": "00015-7f654a12-910e-44d1-8bbe-60efa1d0e164",
    "deepnote_to_be_reexecuted": true,
    "source_hash": "1e371e7f",
    "execution_start": 1641685417620,
    "execution_millis": 4,
    "deepnote_output_heights": [
     251.59375
    ],
    "deepnote_cell_type": "code"
   },
   "source": "#define the model\nmodel = BinaryClassification(X_train.shape[1], 4)\nmodel.to(device)\nprint(model)",
   "execution_count": null,
   "outputs": [
    {
     "name": "stdout",
     "text": "BinaryClassification(\n  (layer_in): Linear(in_features=6, out_features=2, bias=True)\n  (layer_1): Linear(in_features=2, out_features=2, bias=True)\n  (layer_2): Linear(in_features=2, out_features=2, bias=True)\n  (layer_3): Linear(in_features=2, out_features=2, bias=True)\n  (layer_out): Linear(in_features=2, out_features=1, bias=True)\n  (relu): ReLU(inplace=True)\n  (sigmoid): Sigmoid()\n  (dropout_1): Dropout(p=0.2393338030248272, inplace=False)\n  (dropout_2): Dropout(p=0.4024019529822511, inplace=False)\n  (dropout_3): Dropout(p=0.487238276333397, inplace=False)\n  (batchnorm1): BatchNorm1d(2, eps=1e-05, momentum=0.1, affine=True, track_running_stats=True)\n)\n",
     "output_type": "stream",
     "data": {}
    }
   ]
  },
  {
   "cell_type": "code",
   "metadata": {
    "tags": [],
    "cell_id": "00016-d76470aa-dc34-4fbc-b8f5-59d37b22c425",
    "deepnote_to_be_reexecuted": true,
    "source_hash": "ae98f4a7",
    "execution_start": 1641685417626,
    "execution_millis": 5,
    "deepnote_cell_type": "code"
   },
   "source": "#define the loss function \nloss_function = nn.BCELoss(reduction='mean')\n#loss_function = nn.MSELoss(reduction='mean')\n#define the optimizer\noptimizer = torch.optim.SGD(model.parameters(), lr=0.006411078961385632, momentum=MOMENTUM, weight_decay=L2, dampening=DAMPENING, nesterov=NESTEROV)\n#optimizer = torch.optim.Adam(model.parameters(), lr=0.0006500583504037308)",
   "execution_count": null,
   "outputs": []
  },
  {
   "cell_type": "markdown",
   "source": "After that defined the model, we start the training and evaluating process with prefixed number of epochs. Each epoch, we save the results on lists for plotting the train and evaluate trends.  ",
   "metadata": {
    "tags": [],
    "cell_id": "00021-69ccbd5a-7a6d-4a58-8715-f614d751494a",
    "deepnote_cell_type": "markdown"
   }
  },
  {
   "cell_type": "markdown",
   "metadata": {
    "tags": [],
    "cell_id": "00020-f789de47-d003-4b91-87b4-6645244bd68b",
    "deepnote_to_be_reexecuted": true,
    "source_hash": "443efa0d",
    "execution_start": 1641685417634,
    "execution_millis": 766,
    "deepnote_output_heights": [
     606.1875
    ],
    "is_code_hidden": false,
    "deepnote_cell_type": "markdown"
   },
   "source": "#prepare empty lists to store accuracy and loss results\nlosses_train = []\naccuracies_train = []\nlosses_test = []\naccuracies_test = []\n\n#train and evaluate for each epoch\nfor epoch in range(1,EPOCHS+1): \n  # Early stopping\n  last_loss = 1\n  patience = 2\n  trigger_times = 0\n\n  model, losses_train, accuracies_train = TrainPhase(epoch, model, losses_train, accuracies_train, train_loader, loss_function, optimizer)\n  #y_pred_test, losses_test, accuracies_test = Evaluate(epoch, model, losses_test, accuracies_test, test_loader, loss_function)\n  y_pred_test, losses_test, accuracies_test = Evaluate(epoch, model, losses_test, accuracies_test, val_loader, loss_function)\n\n  # Early stopping\n  if losses_test[epoch - 1] > last_loss:\n      trigger_times += 1\n\n      if trigger_times >= patience:\n          print('Early stopping!\\nStart to test process.')\n          break\n  else:\n      trigger_times = 0\n  \n  print(\"##############################\")\n",
   "execution_count": null
  },
  {
   "cell_type": "code",
   "metadata": {
    "tags": [],
    "cell_id": "00028-ff099cc7-b817-4a4e-813f-f070b44b2b13",
    "deepnote_to_be_reexecuted": true,
    "source_hash": "6d5aa883",
    "execution_start": 1641685418404,
    "execution_millis": 3,
    "deepnote_output_heights": [
     155.59375
    ],
    "deepnote_cell_type": "code"
   },
   "source": "#control the accuracy between true and predict values on test data\n#y_true_test = y_test.values.ravel()\n#print(classification_report(y_true_test, y_pred_test))",
   "execution_count": null,
   "outputs": []
  },
  {
   "cell_type": "code",
   "metadata": {
    "tags": [],
    "cell_id": "00029-c65b4294-5f74-491b-88f9-84f59ab8f3b7",
    "deepnote_to_be_reexecuted": true,
    "source_hash": "8b7dd875",
    "execution_start": 1641685418426,
    "execution_millis": 525,
    "deepnote_output_heights": [
     498
    ],
    "deepnote_cell_type": "code"
   },
   "source": "#create a loss plot\nplt.plot(losses_train,'-')\nplt.plot(losses_test,'-.')\nplt.xlabel('Epochs')\nplt.ylabel('Loss')\nplt.legend(['Train','Test'])\nplt.title('Train vs Test Losses')\n \nplt.show()",
   "execution_count": null,
   "outputs": [
    {
     "data": {
      "text/plain": "<Figure size 720x576 with 1 Axes>",
      "image/png": "[encoded data removed]"
     },
     "metadata": {
      "needs_background": "light",
      "image/png": {
       "width": 615,
       "height": 496
      }
     },
     "output_type": "display_data"
    }
   ]
  },
  {
   "cell_type": "code",
   "metadata": {
    "tags": [],
    "cell_id": "00030-d8f3b9bf-df8b-4954-b5f9-3823df788a47",
    "deepnote_to_be_reexecuted": true,
    "source_hash": "4f7d8f58",
    "execution_start": 1641685418726,
    "execution_millis": 280,
    "deepnote_output_heights": [
     498
    ],
    "deepnote_cell_type": "code"
   },
   "source": "#create an accuracy plot\nplt.plot(accuracies_train,'-')\nplt.plot(accuracies_test,'-.')\nplt.xlabel('Epochs')\nplt.ylabel('Accuracy')\nplt.legend(['Train','Test'])\nplt.title('Train vs Test Accuracy')\n \nplt.show()",
   "execution_count": null,
   "outputs": [
    {
     "data": {
      "text/plain": "<Figure size 720x576 with 1 Axes>",
      "image/png": "[encoded data removed]"
     },
     "metadata": {
      "needs_background": "light",
      "image/png": {
       "width": 615,
       "height": 496
      }
     },
     "output_type": "display_data"
    }
   ]
  },
  {
   "cell_type": "code",
   "metadata": {
    "tags": [],
    "cell_id": "00028-8fc78ac4-4813-4007-9a60-e6d559b92058",
    "deepnote_to_be_reexecuted": true,
    "source_hash": "f7b49f7f",
    "execution_start": 1641685419006,
    "execution_millis": 254,
    "deepnote_output_heights": [
     328.390625,
     290
    ],
    "deepnote_cell_type": "code"
   },
   "source": "y_pred_test, losses_test, accuracies_test = Evaluate_Test(model, losses_test, accuracies_test, test_loader, loss_function)\n#control the accuracy between true and predict values on test data\n\ny_true_test = y_test.values.ravel()\nprint(classification_report(y_true_test, y_pred_test))",
   "execution_count": null,
   "outputs": [
    {
     "name": "stdout",
     "text": "TEST - Loss: 0.69412 | Acc: 0.000\n              precision    recall  f1-score   support\n\n           0       0.59      0.49      0.53       216\n           1       0.56      0.65      0.60       216\n\n    accuracy                           0.57       432\n   macro avg       0.57      0.57      0.57       432\nweighted avg       0.57      0.57      0.57       432\n\n",
     "output_type": "stream",
     "data": {}
    }
   ]
  },
  {
   "cell_type": "markdown",
   "source": "### One hot encoding",
   "metadata": {
    "tags": [],
    "cell_id": "00023-86bd7eca-2ace-4dd4-9ebc-80fab39edd07",
    "deepnote_cell_type": "markdown"
   }
  },
  {
   "cell_type": "code",
   "metadata": {
    "tags": [],
    "cell_id": "00023-77fc8d80-79ba-4be6-a235-c8d13efe1f06",
    "deepnote_to_be_reexecuted": true,
    "source_hash": "380ee455",
    "execution_start": 1641685419261,
    "execution_millis": 9,
    "deepnote_cell_type": "code"
   },
   "source": "enc_train = OneHotEncoder()\nenc_train.fit(X_train)\nX_train = enc_train.transform(X_train).toarray()\nprint(X_train.shape)\n\nenc_test = OneHotEncoder()\nenc_test.fit(X_test)\nX_test = enc_test.transform(X_test).toarray()\nprint(X_test.shape)",
   "execution_count": null,
   "outputs": [
    {
     "name": "stdout",
     "text": "(86, 17)\n(432, 17)\n",
     "output_type": "stream",
     "data": {}
    }
   ]
  },
  {
   "cell_type": "markdown",
   "source": "### Loading MONK-2 dataset",
   "metadata": {
    "tags": [],
    "cell_id": "00033-cbb4dbdd-918f-46fe-b1b5-6e76a6a653b8",
    "deepnote_cell_type": "markdown"
   }
  },
  {
   "cell_type": "code",
   "metadata": {
    "tags": [],
    "cell_id": "00034-e0ea567d-b6e5-4b5f-be28-3b11386d3631",
    "deepnote_to_be_reexecuted": true,
    "source_hash": "656b45fe",
    "execution_start": 1641685419270,
    "execution_millis": 7,
    "deepnote_cell_type": "code"
   },
   "source": "df_monk2_train = pd.read_csv('./data/MONK/monks-2.train', sep=\" \", skipinitialspace=True, names=['class','a1','a2','a3','a4','a5','a6','id'])\ndf_monk2_train.drop(labels='id', axis=1, inplace=True)\n\ndf_monk2_test = pd.read_csv('./data/MONK/monks-2.test', sep=\" \", skipinitialspace=True,  names=['class','a1','a2','a3','a4','a5','a6','id'])\ndf_monk2_test.drop(labels='id', axis=1, inplace=True)",
   "execution_count": null,
   "outputs": []
  },
  {
   "cell_type": "code",
   "metadata": {
    "tags": [],
    "cell_id": "00035-1051cf92-6a65-49dd-af16-99bffe59bd4f",
    "deepnote_to_be_reexecuted": true,
    "source_hash": "55cc4d97",
    "execution_start": 1641685419283,
    "execution_millis": 33,
    "deepnote_cell_type": "code"
   },
   "source": "df_monk2_test.head() #first column is the target (can be either 0 or 1)",
   "execution_count": null,
   "outputs": [
    {
     "output_type": "execute_result",
     "execution_count": 32,
     "data": {
      "application/vnd.deepnote.dataframe.v3+json": {
       "column_count": 7,
       "row_count": 5,
       "columns": [
        {
         "name": "class",
         "dtype": "int64",
         "stats": {
          "unique_count": 1,
          "nan_count": 0,
          "min": "0",
          "max": "0",
          "histogram": [
           {
            "bin_start": -0.5,
            "bin_end": -0.4,
            "count": 0
           },
           {
            "bin_start": -0.4,
            "bin_end": -0.3,
            "count": 0
           },
           {
            "bin_start": -0.3,
            "bin_end": -0.19999999999999996,
            "count": 0
           },
           {
            "bin_start": -0.19999999999999996,
            "bin_end": -0.09999999999999998,
            "count": 0
           },
           {
            "bin_start": -0.09999999999999998,
            "bin_end": 0,
            "count": 0
           },
           {
            "bin_start": 0,
            "bin_end": 0.10000000000000009,
            "count": 5
           },
           {
            "bin_start": 0.10000000000000009,
            "bin_end": 0.20000000000000007,
            "count": 0
           },
           {
            "bin_start": 0.20000000000000007,
            "bin_end": 0.30000000000000004,
            "count": 0
           },
           {
            "bin_start": 0.30000000000000004,
            "bin_end": 0.4,
            "count": 0
           },
           {
            "bin_start": 0.4,
            "bin_end": 0.5,
            "count": 0
           }
          ]
         }
        },
        {
         "name": "a1",
         "dtype": "int64",
         "stats": {
          "unique_count": 1,
          "nan_count": 0,
          "min": "1",
          "max": "1",
          "histogram": [
           {
            "bin_start": 0.5,
            "bin_end": 0.6,
            "count": 0
           },
           {
            "bin_start": 0.6,
            "bin_end": 0.7,
            "count": 0
           },
           {
            "bin_start": 0.7,
            "bin_end": 0.8,
            "count": 0
           },
           {
            "bin_start": 0.8,
            "bin_end": 0.9,
            "count": 0
           },
           {
            "bin_start": 0.9,
            "bin_end": 1,
            "count": 0
           },
           {
            "bin_start": 1,
            "bin_end": 1.1,
            "count": 5
           },
           {
            "bin_start": 1.1,
            "bin_end": 1.2000000000000002,
            "count": 0
           },
           {
            "bin_start": 1.2000000000000002,
            "bin_end": 1.3,
            "count": 0
           },
           {
            "bin_start": 1.3,
            "bin_end": 1.4,
            "count": 0
           },
           {
            "bin_start": 1.4,
            "bin_end": 1.5,
            "count": 0
           }
          ]
         }
        },
        {
         "name": "a2",
         "dtype": "int64",
         "stats": {
          "unique_count": 1,
          "nan_count": 0,
          "min": "1",
          "max": "1",
          "histogram": [
           {
            "bin_start": 0.5,
            "bin_end": 0.6,
            "count": 0
           },
           {
            "bin_start": 0.6,
            "bin_end": 0.7,
            "count": 0
           },
           {
            "bin_start": 0.7,
            "bin_end": 0.8,
            "count": 0
           },
           {
            "bin_start": 0.8,
            "bin_end": 0.9,
            "count": 0
           },
           {
            "bin_start": 0.9,
            "bin_end": 1,
            "count": 0
           },
           {
            "bin_start": 1,
            "bin_end": 1.1,
            "count": 5
           },
           {
            "bin_start": 1.1,
            "bin_end": 1.2000000000000002,
            "count": 0
           },
           {
            "bin_start": 1.2000000000000002,
            "bin_end": 1.3,
            "count": 0
           },
           {
            "bin_start": 1.3,
            "bin_end": 1.4,
            "count": 0
           },
           {
            "bin_start": 1.4,
            "bin_end": 1.5,
            "count": 0
           }
          ]
         }
        },
        {
         "name": "a3",
         "dtype": "int64",
         "stats": {
          "unique_count": 1,
          "nan_count": 0,
          "min": "1",
          "max": "1",
          "histogram": [
           {
            "bin_start": 0.5,
            "bin_end": 0.6,
            "count": 0
           },
           {
            "bin_start": 0.6,
            "bin_end": 0.7,
            "count": 0
           },
           {
            "bin_start": 0.7,
            "bin_end": 0.8,
            "count": 0
           },
           {
            "bin_start": 0.8,
            "bin_end": 0.9,
            "count": 0
           },
           {
            "bin_start": 0.9,
            "bin_end": 1,
            "count": 0
           },
           {
            "bin_start": 1,
            "bin_end": 1.1,
            "count": 5
           },
           {
            "bin_start": 1.1,
            "bin_end": 1.2000000000000002,
            "count": 0
           },
           {
            "bin_start": 1.2000000000000002,
            "bin_end": 1.3,
            "count": 0
           },
           {
            "bin_start": 1.3,
            "bin_end": 1.4,
            "count": 0
           },
           {
            "bin_start": 1.4,
            "bin_end": 1.5,
            "count": 0
           }
          ]
         }
        },
        {
         "name": "a4",
         "dtype": "int64",
         "stats": {
          "unique_count": 1,
          "nan_count": 0,
          "min": "1",
          "max": "1",
          "histogram": [
           {
            "bin_start": 0.5,
            "bin_end": 0.6,
            "count": 0
           },
           {
            "bin_start": 0.6,
            "bin_end": 0.7,
            "count": 0
           },
           {
            "bin_start": 0.7,
            "bin_end": 0.8,
            "count": 0
           },
           {
            "bin_start": 0.8,
            "bin_end": 0.9,
            "count": 0
           },
           {
            "bin_start": 0.9,
            "bin_end": 1,
            "count": 0
           },
           {
            "bin_start": 1,
            "bin_end": 1.1,
            "count": 5
           },
           {
            "bin_start": 1.1,
            "bin_end": 1.2000000000000002,
            "count": 0
           },
           {
            "bin_start": 1.2000000000000002,
            "bin_end": 1.3,
            "count": 0
           },
           {
            "bin_start": 1.3,
            "bin_end": 1.4,
            "count": 0
           },
           {
            "bin_start": 1.4,
            "bin_end": 1.5,
            "count": 0
           }
          ]
         }
        },
        {
         "name": "a5",
         "dtype": "int64",
         "stats": {
          "unique_count": 3,
          "nan_count": 0,
          "min": "1",
          "max": "3",
          "histogram": [
           {
            "bin_start": 1,
            "bin_end": 1.2,
            "count": 2
           },
           {
            "bin_start": 1.2,
            "bin_end": 1.4,
            "count": 0
           },
           {
            "bin_start": 1.4,
            "bin_end": 1.6,
            "count": 0
           },
           {
            "bin_start": 1.6,
            "bin_end": 1.8,
            "count": 0
           },
           {
            "bin_start": 1.8,
            "bin_end": 2,
            "count": 0
           },
           {
            "bin_start": 2,
            "bin_end": 2.2,
            "count": 2
           },
           {
            "bin_start": 2.2,
            "bin_end": 2.4000000000000004,
            "count": 0
           },
           {
            "bin_start": 2.4000000000000004,
            "bin_end": 2.6,
            "count": 0
           },
           {
            "bin_start": 2.6,
            "bin_end": 2.8,
            "count": 0
           },
           {
            "bin_start": 2.8,
            "bin_end": 3,
            "count": 1
           }
          ]
         }
        },
        {
         "name": "a6",
         "dtype": "int64",
         "stats": {
          "unique_count": 2,
          "nan_count": 0,
          "min": "1",
          "max": "2",
          "histogram": [
           {
            "bin_start": 1,
            "bin_end": 1.1,
            "count": 3
           },
           {
            "bin_start": 1.1,
            "bin_end": 1.2,
            "count": 0
           },
           {
            "bin_start": 1.2,
            "bin_end": 1.3,
            "count": 0
           },
           {
            "bin_start": 1.3,
            "bin_end": 1.4,
            "count": 0
           },
           {
            "bin_start": 1.4,
            "bin_end": 1.5,
            "count": 0
           },
           {
            "bin_start": 1.5,
            "bin_end": 1.6,
            "count": 0
           },
           {
            "bin_start": 1.6,
            "bin_end": 1.7000000000000002,
            "count": 0
           },
           {
            "bin_start": 1.7000000000000002,
            "bin_end": 1.8,
            "count": 0
           },
           {
            "bin_start": 1.8,
            "bin_end": 1.9,
            "count": 0
           },
           {
            "bin_start": 1.9,
            "bin_end": 2,
            "count": 2
           }
          ]
         }
        },
        {
         "name": "_deepnote_index_column",
         "dtype": "int64"
        }
       ],
       "rows": [
        {
         "class": 0,
         "a1": 1,
         "a2": 1,
         "a3": 1,
         "a4": 1,
         "a5": 1,
         "a6": 1,
         "_deepnote_index_column": 0
        },
        {
         "class": 0,
         "a1": 1,
         "a2": 1,
         "a3": 1,
         "a4": 1,
         "a5": 1,
         "a6": 2,
         "_deepnote_index_column": 1
        },
        {
         "class": 0,
         "a1": 1,
         "a2": 1,
         "a3": 1,
         "a4": 1,
         "a5": 2,
         "a6": 1,
         "_deepnote_index_column": 2
        },
        {
         "class": 0,
         "a1": 1,
         "a2": 1,
         "a3": 1,
         "a4": 1,
         "a5": 2,
         "a6": 2,
         "_deepnote_index_column": 3
        },
        {
         "class": 0,
         "a1": 1,
         "a2": 1,
         "a3": 1,
         "a4": 1,
         "a5": 3,
         "a6": 1,
         "_deepnote_index_column": 4
        }
       ]
      },
      "text/plain": "   class  a1  a2  a3  a4  a5  a6\n0      0   1   1   1   1   1   1\n1      0   1   1   1   1   1   2\n2      0   1   1   1   1   2   1\n3      0   1   1   1   1   2   2\n4      0   1   1   1   1   3   1",
      "text/html": "<div>\n<style scoped>\n    .dataframe tbody tr th:only-of-type {\n        vertical-align: middle;\n    }\n\n    .dataframe tbody tr th {\n        vertical-align: top;\n    }\n\n    .dataframe thead th {\n        text-align: right;\n    }\n</style>\n<table border=\"1\" class=\"dataframe\">\n  <thead>\n    <tr style=\"text-align: right;\">\n      <th></th>\n      <th>class</th>\n      <th>a1</th>\n      <th>a2</th>\n      <th>a3</th>\n      <th>a4</th>\n      <th>a5</th>\n      <th>a6</th>\n    </tr>\n  </thead>\n  <tbody>\n    <tr>\n      <th>0</th>\n      <td>0</td>\n      <td>1</td>\n      <td>1</td>\n      <td>1</td>\n      <td>1</td>\n      <td>1</td>\n      <td>1</td>\n    </tr>\n    <tr>\n      <th>1</th>\n      <td>0</td>\n      <td>1</td>\n      <td>1</td>\n      <td>1</td>\n      <td>1</td>\n      <td>1</td>\n      <td>2</td>\n    </tr>\n    <tr>\n      <th>2</th>\n      <td>0</td>\n      <td>1</td>\n      <td>1</td>\n      <td>1</td>\n      <td>1</td>\n      <td>2</td>\n      <td>1</td>\n    </tr>\n    <tr>\n      <th>3</th>\n      <td>0</td>\n      <td>1</td>\n      <td>1</td>\n      <td>1</td>\n      <td>1</td>\n      <td>2</td>\n      <td>2</td>\n    </tr>\n    <tr>\n      <th>4</th>\n      <td>0</td>\n      <td>1</td>\n      <td>1</td>\n      <td>1</td>\n      <td>1</td>\n      <td>3</td>\n      <td>1</td>\n    </tr>\n  </tbody>\n</table>\n</div>"
     },
     "metadata": {}
    }
   ]
  },
  {
   "cell_type": "code",
   "metadata": {
    "tags": [],
    "cell_id": "00036-13ff0462-e24a-47b9-959f-348a1b518096",
    "deepnote_to_be_reexecuted": true,
    "source_hash": "34bb22a0",
    "execution_start": 1641685419327,
    "execution_millis": 33,
    "deepnote_cell_type": "code"
   },
   "source": "df_monk2_train",
   "execution_count": null,
   "outputs": [
    {
     "output_type": "execute_result",
     "execution_count": 33,
     "data": {
      "application/vnd.deepnote.dataframe.v3+json": {
       "column_count": 7,
       "row_count": 169,
       "columns": [
        {
         "name": "class",
         "dtype": "int64",
         "stats": {
          "unique_count": 2,
          "nan_count": 0,
          "min": "0",
          "max": "1",
          "histogram": [
           {
            "bin_start": 0,
            "bin_end": 0.1,
            "count": 105
           },
           {
            "bin_start": 0.1,
            "bin_end": 0.2,
            "count": 0
           },
           {
            "bin_start": 0.2,
            "bin_end": 0.30000000000000004,
            "count": 0
           },
           {
            "bin_start": 0.30000000000000004,
            "bin_end": 0.4,
            "count": 0
           },
           {
            "bin_start": 0.4,
            "bin_end": 0.5,
            "count": 0
           },
           {
            "bin_start": 0.5,
            "bin_end": 0.6000000000000001,
            "count": 0
           },
           {
            "bin_start": 0.6000000000000001,
            "bin_end": 0.7000000000000001,
            "count": 0
           },
           {
            "bin_start": 0.7000000000000001,
            "bin_end": 0.8,
            "count": 0
           },
           {
            "bin_start": 0.8,
            "bin_end": 0.9,
            "count": 0
           },
           {
            "bin_start": 0.9,
            "bin_end": 1,
            "count": 64
           }
          ]
         }
        },
        {
         "name": "a1",
         "dtype": "int64",
         "stats": {
          "unique_count": 3,
          "nan_count": 0,
          "min": "1",
          "max": "3",
          "histogram": [
           {
            "bin_start": 1,
            "bin_end": 1.2,
            "count": 57
           },
           {
            "bin_start": 1.2,
            "bin_end": 1.4,
            "count": 0
           },
           {
            "bin_start": 1.4,
            "bin_end": 1.6,
            "count": 0
           },
           {
            "bin_start": 1.6,
            "bin_end": 1.8,
            "count": 0
           },
           {
            "bin_start": 1.8,
            "bin_end": 2,
            "count": 0
           },
           {
            "bin_start": 2,
            "bin_end": 2.2,
            "count": 57
           },
           {
            "bin_start": 2.2,
            "bin_end": 2.4000000000000004,
            "count": 0
           },
           {
            "bin_start": 2.4000000000000004,
            "bin_end": 2.6,
            "count": 0
           },
           {
            "bin_start": 2.6,
            "bin_end": 2.8,
            "count": 0
           },
           {
            "bin_start": 2.8,
            "bin_end": 3,
            "count": 55
           }
          ]
         }
        },
        {
         "name": "a2",
         "dtype": "int64",
         "stats": {
          "unique_count": 3,
          "nan_count": 0,
          "min": "1",
          "max": "3",
          "histogram": [
           {
            "bin_start": 1,
            "bin_end": 1.2,
            "count": 55
           },
           {
            "bin_start": 1.2,
            "bin_end": 1.4,
            "count": 0
           },
           {
            "bin_start": 1.4,
            "bin_end": 1.6,
            "count": 0
           },
           {
            "bin_start": 1.6,
            "bin_end": 1.8,
            "count": 0
           },
           {
            "bin_start": 1.8,
            "bin_end": 2,
            "count": 0
           },
           {
            "bin_start": 2,
            "bin_end": 2.2,
            "count": 63
           },
           {
            "bin_start": 2.2,
            "bin_end": 2.4000000000000004,
            "count": 0
           },
           {
            "bin_start": 2.4000000000000004,
            "bin_end": 2.6,
            "count": 0
           },
           {
            "bin_start": 2.6,
            "bin_end": 2.8,
            "count": 0
           },
           {
            "bin_start": 2.8,
            "bin_end": 3,
            "count": 51
           }
          ]
         }
        },
        {
         "name": "a3",
         "dtype": "int64",
         "stats": {
          "unique_count": 2,
          "nan_count": 0,
          "min": "1",
          "max": "2",
          "histogram": [
           {
            "bin_start": 1,
            "bin_end": 1.1,
            "count": 83
           },
           {
            "bin_start": 1.1,
            "bin_end": 1.2,
            "count": 0
           },
           {
            "bin_start": 1.2,
            "bin_end": 1.3,
            "count": 0
           },
           {
            "bin_start": 1.3,
            "bin_end": 1.4,
            "count": 0
           },
           {
            "bin_start": 1.4,
            "bin_end": 1.5,
            "count": 0
           },
           {
            "bin_start": 1.5,
            "bin_end": 1.6,
            "count": 0
           },
           {
            "bin_start": 1.6,
            "bin_end": 1.7000000000000002,
            "count": 0
           },
           {
            "bin_start": 1.7000000000000002,
            "bin_end": 1.8,
            "count": 0
           },
           {
            "bin_start": 1.8,
            "bin_end": 1.9,
            "count": 0
           },
           {
            "bin_start": 1.9,
            "bin_end": 2,
            "count": 86
           }
          ]
         }
        },
        {
         "name": "a4",
         "dtype": "int64",
         "stats": {
          "unique_count": 3,
          "nan_count": 0,
          "min": "1",
          "max": "3",
          "histogram": [
           {
            "bin_start": 1,
            "bin_end": 1.2,
            "count": 54
           },
           {
            "bin_start": 1.2,
            "bin_end": 1.4,
            "count": 0
           },
           {
            "bin_start": 1.4,
            "bin_end": 1.6,
            "count": 0
           },
           {
            "bin_start": 1.6,
            "bin_end": 1.8,
            "count": 0
           },
           {
            "bin_start": 1.8,
            "bin_end": 2,
            "count": 0
           },
           {
            "bin_start": 2,
            "bin_end": 2.2,
            "count": 54
           },
           {
            "bin_start": 2.2,
            "bin_end": 2.4000000000000004,
            "count": 0
           },
           {
            "bin_start": 2.4000000000000004,
            "bin_end": 2.6,
            "count": 0
           },
           {
            "bin_start": 2.6,
            "bin_end": 2.8,
            "count": 0
           },
           {
            "bin_start": 2.8,
            "bin_end": 3,
            "count": 61
           }
          ]
         }
        },
        {
         "name": "a5",
         "dtype": "int64",
         "stats": {
          "unique_count": 4,
          "nan_count": 0,
          "min": "1",
          "max": "4",
          "histogram": [
           {
            "bin_start": 1,
            "bin_end": 1.3,
            "count": 43
           },
           {
            "bin_start": 1.3,
            "bin_end": 1.6,
            "count": 0
           },
           {
            "bin_start": 1.6,
            "bin_end": 1.9,
            "count": 0
           },
           {
            "bin_start": 1.9,
            "bin_end": 2.2,
            "count": 40
           },
           {
            "bin_start": 2.2,
            "bin_end": 2.5,
            "count": 0
           },
           {
            "bin_start": 2.5,
            "bin_end": 2.8,
            "count": 0
           },
           {
            "bin_start": 2.8,
            "bin_end": 3.1,
            "count": 49
           },
           {
            "bin_start": 3.1,
            "bin_end": 3.4,
            "count": 0
           },
           {
            "bin_start": 3.4,
            "bin_end": 3.6999999999999997,
            "count": 0
           },
           {
            "bin_start": 3.6999999999999997,
            "bin_end": 4,
            "count": 37
           }
          ]
         }
        },
        {
         "name": "a6",
         "dtype": "int64",
         "stats": {
          "unique_count": 2,
          "nan_count": 0,
          "min": "1",
          "max": "2",
          "histogram": [
           {
            "bin_start": 1,
            "bin_end": 1.1,
            "count": 84
           },
           {
            "bin_start": 1.1,
            "bin_end": 1.2,
            "count": 0
           },
           {
            "bin_start": 1.2,
            "bin_end": 1.3,
            "count": 0
           },
           {
            "bin_start": 1.3,
            "bin_end": 1.4,
            "count": 0
           },
           {
            "bin_start": 1.4,
            "bin_end": 1.5,
            "count": 0
           },
           {
            "bin_start": 1.5,
            "bin_end": 1.6,
            "count": 0
           },
           {
            "bin_start": 1.6,
            "bin_end": 1.7000000000000002,
            "count": 0
           },
           {
            "bin_start": 1.7000000000000002,
            "bin_end": 1.8,
            "count": 0
           },
           {
            "bin_start": 1.8,
            "bin_end": 1.9,
            "count": 0
           },
           {
            "bin_start": 1.9,
            "bin_end": 2,
            "count": 85
           }
          ]
         }
        },
        {
         "name": "_deepnote_index_column",
         "dtype": "int64"
        }
       ],
       "rows": [
        {
         "class": 0,
         "a1": 1,
         "a2": 1,
         "a3": 1,
         "a4": 1,
         "a5": 2,
         "a6": 2,
         "_deepnote_index_column": 0
        },
        {
         "class": 0,
         "a1": 1,
         "a2": 1,
         "a3": 1,
         "a4": 1,
         "a5": 4,
         "a6": 1,
         "_deepnote_index_column": 1
        },
        {
         "class": 0,
         "a1": 1,
         "a2": 1,
         "a3": 1,
         "a4": 2,
         "a5": 1,
         "a6": 1,
         "_deepnote_index_column": 2
        },
        {
         "class": 0,
         "a1": 1,
         "a2": 1,
         "a3": 1,
         "a4": 2,
         "a5": 1,
         "a6": 2,
         "_deepnote_index_column": 3
        },
        {
         "class": 0,
         "a1": 1,
         "a2": 1,
         "a3": 1,
         "a4": 2,
         "a5": 2,
         "a6": 1,
         "_deepnote_index_column": 4
        },
        {
         "class": 0,
         "a1": 1,
         "a2": 1,
         "a3": 1,
         "a4": 2,
         "a5": 3,
         "a6": 1,
         "_deepnote_index_column": 5
        },
        {
         "class": 0,
         "a1": 1,
         "a2": 1,
         "a3": 1,
         "a4": 2,
         "a5": 4,
         "a6": 1,
         "_deepnote_index_column": 6
        },
        {
         "class": 0,
         "a1": 1,
         "a2": 1,
         "a3": 1,
         "a4": 3,
         "a5": 2,
         "a6": 1,
         "_deepnote_index_column": 7
        },
        {
         "class": 0,
         "a1": 1,
         "a2": 1,
         "a3": 1,
         "a4": 3,
         "a5": 4,
         "a6": 1,
         "_deepnote_index_column": 8
        },
        {
         "class": 0,
         "a1": 1,
         "a2": 1,
         "a3": 2,
         "a4": 1,
         "a5": 1,
         "a6": 1,
         "_deepnote_index_column": 9
        }
       ]
      },
      "text/plain": "     class  a1  a2  a3  a4  a5  a6\n0        0   1   1   1   1   2   2\n1        0   1   1   1   1   4   1\n2        0   1   1   1   2   1   1\n3        0   1   1   1   2   1   2\n4        0   1   1   1   2   2   1\n..     ...  ..  ..  ..  ..  ..  ..\n164      0   3   3   2   2   3   1\n165      0   3   3   2   2   3   2\n166      1   3   3   2   3   1   1\n167      0   3   3   2   3   2   1\n168      0   3   3   2   3   4   2\n\n[169 rows x 7 columns]",
      "text/html": "<div>\n<style scoped>\n    .dataframe tbody tr th:only-of-type {\n        vertical-align: middle;\n    }\n\n    .dataframe tbody tr th {\n        vertical-align: top;\n    }\n\n    .dataframe thead th {\n        text-align: right;\n    }\n</style>\n<table border=\"1\" class=\"dataframe\">\n  <thead>\n    <tr style=\"text-align: right;\">\n      <th></th>\n      <th>class</th>\n      <th>a1</th>\n      <th>a2</th>\n      <th>a3</th>\n      <th>a4</th>\n      <th>a5</th>\n      <th>a6</th>\n    </tr>\n  </thead>\n  <tbody>\n    <tr>\n      <th>0</th>\n      <td>0</td>\n      <td>1</td>\n      <td>1</td>\n      <td>1</td>\n      <td>1</td>\n      <td>2</td>\n      <td>2</td>\n    </tr>\n    <tr>\n      <th>1</th>\n      <td>0</td>\n      <td>1</td>\n      <td>1</td>\n      <td>1</td>\n      <td>1</td>\n      <td>4</td>\n      <td>1</td>\n    </tr>\n    <tr>\n      <th>2</th>\n      <td>0</td>\n      <td>1</td>\n      <td>1</td>\n      <td>1</td>\n      <td>2</td>\n      <td>1</td>\n      <td>1</td>\n    </tr>\n    <tr>\n      <th>3</th>\n      <td>0</td>\n      <td>1</td>\n      <td>1</td>\n      <td>1</td>\n      <td>2</td>\n      <td>1</td>\n      <td>2</td>\n    </tr>\n    <tr>\n      <th>4</th>\n      <td>0</td>\n      <td>1</td>\n      <td>1</td>\n      <td>1</td>\n      <td>2</td>\n      <td>2</td>\n      <td>1</td>\n    </tr>\n    <tr>\n      <th>...</th>\n      <td>...</td>\n      <td>...</td>\n      <td>...</td>\n      <td>...</td>\n      <td>...</td>\n      <td>...</td>\n      <td>...</td>\n    </tr>\n    <tr>\n      <th>164</th>\n      <td>0</td>\n      <td>3</td>\n      <td>3</td>\n      <td>2</td>\n      <td>2</td>\n      <td>3</td>\n      <td>1</td>\n    </tr>\n    <tr>\n      <th>165</th>\n      <td>0</td>\n      <td>3</td>\n      <td>3</td>\n      <td>2</td>\n      <td>2</td>\n      <td>3</td>\n      <td>2</td>\n    </tr>\n    <tr>\n      <th>166</th>\n      <td>1</td>\n      <td>3</td>\n      <td>3</td>\n      <td>2</td>\n      <td>3</td>\n      <td>1</td>\n      <td>1</td>\n    </tr>\n    <tr>\n      <th>167</th>\n      <td>0</td>\n      <td>3</td>\n      <td>3</td>\n      <td>2</td>\n      <td>3</td>\n      <td>2</td>\n      <td>1</td>\n    </tr>\n    <tr>\n      <th>168</th>\n      <td>0</td>\n      <td>3</td>\n      <td>3</td>\n      <td>2</td>\n      <td>3</td>\n      <td>4</td>\n      <td>2</td>\n    </tr>\n  </tbody>\n</table>\n<p>169 rows × 7 columns</p>\n</div>"
     },
     "metadata": {}
    }
   ]
  },
  {
   "cell_type": "code",
   "metadata": {
    "tags": [],
    "cell_id": "00037-e06fef60-36f5-4b4f-9c6c-69104e332421",
    "deepnote_to_be_reexecuted": true,
    "source_hash": "14fbab8f",
    "execution_start": 1641685419366,
    "execution_millis": 147,
    "deepnote_output_heights": [
     21.1875,
     451
    ],
    "deepnote_cell_type": "code"
   },
   "source": "fig_size = plt.rcParams[\"figure.figsize\"]\nfig_size[0] = 10\nfig_size[1] = 8\nplt.rcParams[\"figure.figsize\"] = fig_size\n\ndf_monk2_train['class'].value_counts().plot(kind='pie', autopct='%1.0f%%', colors=['blue', 'yellow'], explode=(0.05, 0.05))",
   "execution_count": null,
   "outputs": [
    {
     "output_type": "execute_result",
     "execution_count": 34,
     "data": {
      "text/plain": "<AxesSubplot:ylabel='class'>"
     },
     "metadata": {}
    },
    {
     "data": {
      "text/plain": "<Figure size 720x576 with 1 Axes>",
      "image/png": "[encoded data removed]"
     },
     "metadata": {
      "image/png": {
       "width": 463,
       "height": 449
      }
     },
     "output_type": "display_data"
    }
   ]
  },
  {
   "cell_type": "code",
   "metadata": {
    "tags": [],
    "cell_id": "00038-b6c65065-78df-467f-9169-1c9224a1fecd",
    "deepnote_to_be_reexecuted": true,
    "source_hash": "dcfcea8c",
    "execution_start": 1641685419568,
    "execution_millis": 201,
    "deepnote_output_heights": [
     21.1875,
     451
    ],
    "deepnote_cell_type": "code"
   },
   "source": "df_monk2_test['class'].value_counts().plot(kind='pie', autopct='%1.0f%%', colors=['blue', 'yellow'], explode=(0.05, 0.05))",
   "execution_count": null,
   "outputs": [
    {
     "output_type": "execute_result",
     "execution_count": 35,
     "data": {
      "text/plain": "<AxesSubplot:ylabel='class'>"
     },
     "metadata": {}
    },
    {
     "data": {
      "text/plain": "<Figure size 720x576 with 1 Axes>",
      "image/png": "[encoded data removed]"
     },
     "metadata": {
      "image/png": {
       "width": 463,
       "height": 449
      }
     },
     "output_type": "display_data"
    }
   ]
  },
  {
   "cell_type": "code",
   "metadata": {
    "tags": [],
    "cell_id": "00039-a9297afc-ce5c-46b3-9344-42efee64e538",
    "deepnote_to_be_reexecuted": true,
    "source_hash": "d8c4c8cf",
    "execution_start": 1641685419771,
    "execution_millis": 3,
    "deepnote_cell_type": "code"
   },
   "source": "target_train = df_monk2_train.pop('class')\ntarget_test = df_monk2_test.pop('class')\nX_train = df_monk2_train\ny_train = target_train\nX_test = df_monk2_test\ny_test = target_test",
   "execution_count": null,
   "outputs": []
  },
  {
   "cell_type": "code",
   "metadata": {
    "tags": [],
    "cell_id": "00040-8ba9586a-e12a-496b-be4c-b20b0d5c7ebf",
    "deepnote_to_be_reexecuted": true,
    "source_hash": "cd4650fc",
    "execution_start": 1641685419777,
    "execution_millis": 1,
    "deepnote_cell_type": "code"
   },
   "source": "X_train = X_train.values #returns a ndarray\nX_test = X_test.values\nx_tensor =  torch.from_numpy(X_train).float()\ny_tensor =  torch.from_numpy(y_train.values.ravel()).float()\nxtest_tensor =  torch.from_numpy(X_test).float()\nytest_tensor =  torch.from_numpy(y_test.values.ravel()).float()",
   "execution_count": null,
   "outputs": []
  },
  {
   "cell_type": "code",
   "metadata": {
    "tags": [],
    "cell_id": "00041-a6b42bfc-e3c8-4b2e-9cc2-5d5fdd053b10",
    "deepnote_to_be_reexecuted": true,
    "source_hash": "8182dfbe",
    "execution_start": 1641685419797,
    "execution_millis": 1,
    "deepnote_output_heights": [
     98
    ],
    "deepnote_cell_type": "code"
   },
   "source": "y_tensor = y_tensor.unsqueeze(1)\ntrain_ds = TensorDataset(x_tensor, y_tensor)\ntrain_loader = DataLoader(train_ds, batch_size=BATCH_SIZE)",
   "execution_count": null,
   "outputs": []
  },
  {
   "cell_type": "code",
   "metadata": {
    "tags": [],
    "cell_id": "00042-aad59af1-4966-4ffa-b88b-e099bc75f767",
    "deepnote_to_be_reexecuted": true,
    "source_hash": "a463a890",
    "execution_start": 1641685419798,
    "execution_millis": 0,
    "deepnote_output_heights": [
     98
    ],
    "deepnote_cell_type": "code"
   },
   "source": "ytest_tensor = ytest_tensor.unsqueeze(1)\ntest_ds = TensorDataset(xtest_tensor, ytest_tensor)\ntest_loader = DataLoader(test_ds, batch_size=64)",
   "execution_count": null,
   "outputs": []
  },
  {
   "cell_type": "code",
   "metadata": {
    "tags": [],
    "cell_id": "00045-ef30cda7-4e7a-44e4-9c7b-037df9c84963",
    "deepnote_to_be_reexecuted": true,
    "source_hash": "4819fb2c",
    "execution_start": 1641685419798,
    "execution_millis": 1,
    "deepnote_cell_type": "code"
   },
   "source": "model = BinaryClassification(X_train.shape[1], 100)",
   "execution_count": null,
   "outputs": []
  },
  {
   "cell_type": "code",
   "metadata": {
    "tags": [],
    "cell_id": "00046-1978e7ed-78dc-4b38-bafc-af2aac1c16cd",
    "deepnote_to_be_reexecuted": true,
    "source_hash": "9a6fcb96",
    "execution_start": 1641685419799,
    "execution_millis": 1,
    "deepnote_cell_type": "code"
   },
   "source": "loss_function = nn.BCELoss()\noptimizer = torch.optim.Adam(model.parameters(), lr=LEARNING_RATE)",
   "execution_count": null,
   "outputs": []
  },
  {
   "cell_type": "code",
   "metadata": {
    "tags": [],
    "cell_id": "00047-6d762c23-4915-4455-870f-eadb19e9214a",
    "deepnote_to_be_reexecuted": true,
    "source_hash": "d6faddd9",
    "execution_start": 1641685419807,
    "execution_millis": 2092,
    "deepnote_cell_type": "code"
   },
   "source": "losses_train = []\naccuracies_train = []\nlosses_test = []\naccuracies_test = []\n\nfor epoch in range(1,EPOCHS+1): \n  model, losses_train, accuracies_train = TrainPhase(epoch, model, losses_train, accuracies_train, train_loader, loss_function, optimizer)\n  y_pred_test, losses_test, accuracies_test = Evaluate(epoch, model, losses_test, accuracies_test, test_loader, loss_function)\n  print(\"##############################\")",
   "execution_count": null,
   "outputs": [
    {
     "name": "stdout",
     "text": "TRAIN - Epoch 001: | Loss: 0.68248 | Acc: 51.667\nVALIDATION - Epoch 001: | Loss: 0.74603 | Acc: 33.000\n##############################\nTRAIN - Epoch 002: | Loss: 0.71085 | Acc: 52.333\nVALIDATION - Epoch 002: | Loss: 0.74535 | Acc: 33.000\n##############################\nTRAIN - Epoch 003: | Loss: 0.68723 | Acc: 53.667\nVALIDATION - Epoch 003: | Loss: 0.74468 | Acc: 33.000\n##############################\nTRAIN - Epoch 004: | Loss: 0.68660 | Acc: 52.000\nVALIDATION - Epoch 004: | Loss: 0.74402 | Acc: 33.000\n##############################\nTRAIN - Epoch 005: | Loss: 0.71193 | Acc: 50.667\nVALIDATION - Epoch 005: | Loss: 0.74336 | Acc: 33.000\n##############################\nTRAIN - Epoch 006: | Loss: 0.69802 | Acc: 53.000\nVALIDATION - Epoch 006: | Loss: 0.74270 | Acc: 33.000\n##############################\nTRAIN - Epoch 007: | Loss: 0.70520 | Acc: 53.000\nVALIDATION - Epoch 007: | Loss: 0.74205 | Acc: 33.000\n##############################\nTRAIN - Epoch 008: | Loss: 0.69543 | Acc: 48.333\nVALIDATION - Epoch 008: | Loss: 0.74140 | Acc: 33.000\n##############################\nTRAIN - Epoch 009: | Loss: 0.70431 | Acc: 51.333\nVALIDATION - Epoch 009: | Loss: 0.74075 | Acc: 33.000\n##############################\nTRAIN - Epoch 010: | Loss: 0.69579 | Acc: 51.667\nVALIDATION - Epoch 010: | Loss: 0.74010 | Acc: 33.000\n##############################\nTRAIN - Epoch 011: | Loss: 0.71094 | Acc: 52.000\nVALIDATION - Epoch 011: | Loss: 0.73945 | Acc: 33.000\n##############################\nTRAIN - Epoch 012: | Loss: 0.70616 | Acc: 49.667\nVALIDATION - Epoch 012: | Loss: 0.73881 | Acc: 33.000\n##############################\nTRAIN - Epoch 013: | Loss: 0.70658 | Acc: 45.667\nVALIDATION - Epoch 013: | Loss: 0.73818 | Acc: 33.000\n##############################\nTRAIN - Epoch 014: | Loss: 0.69227 | Acc: 54.333\nVALIDATION - Epoch 014: | Loss: 0.73756 | Acc: 33.000\n##############################\nTRAIN - Epoch 015: | Loss: 0.70596 | Acc: 45.667\nVALIDATION - Epoch 015: | Loss: 0.73695 | Acc: 33.000\n##############################\nTRAIN - Epoch 016: | Loss: 0.67584 | Acc: 52.333\nVALIDATION - Epoch 016: | Loss: 0.73633 | Acc: 33.000\n##############################\nTRAIN - Epoch 017: | Loss: 0.71303 | Acc: 48.000\nVALIDATION - Epoch 017: | Loss: 0.73574 | Acc: 33.000\n##############################\nTRAIN - Epoch 018: | Loss: 0.72301 | Acc: 46.667\nVALIDATION - Epoch 018: | Loss: 0.73515 | Acc: 33.000\n##############################\nTRAIN - Epoch 019: | Loss: 0.67936 | Acc: 51.667\nVALIDATION - Epoch 019: | Loss: 0.73455 | Acc: 33.000\n##############################\nTRAIN - Epoch 020: | Loss: 0.71082 | Acc: 50.667\nVALIDATION - Epoch 020: | Loss: 0.73395 | Acc: 33.000\n##############################\nTRAIN - Epoch 021: | Loss: 0.70120 | Acc: 48.333\nVALIDATION - Epoch 021: | Loss: 0.73336 | Acc: 33.000\n##############################\nTRAIN - Epoch 022: | Loss: 0.70521 | Acc: 46.333\nVALIDATION - Epoch 022: | Loss: 0.73276 | Acc: 33.000\n##############################\nTRAIN - Epoch 023: | Loss: 0.67669 | Acc: 52.000\nVALIDATION - Epoch 023: | Loss: 0.73216 | Acc: 33.000\n##############################\nTRAIN - Epoch 024: | Loss: 0.70913 | Acc: 46.667\nVALIDATION - Epoch 024: | Loss: 0.73156 | Acc: 33.000\n##############################\nTRAIN - Epoch 025: | Loss: 0.67967 | Acc: 49.333\nVALIDATION - Epoch 025: | Loss: 0.73098 | Acc: 33.000\n##############################\nTRAIN - Epoch 026: | Loss: 0.69381 | Acc: 50.333\nVALIDATION - Epoch 026: | Loss: 0.73040 | Acc: 33.000\n##############################\nTRAIN - Epoch 027: | Loss: 0.67026 | Acc: 55.000\nVALIDATION - Epoch 027: | Loss: 0.72983 | Acc: 33.000\n##############################\nTRAIN - Epoch 028: | Loss: 0.67271 | Acc: 53.000\nVALIDATION - Epoch 028: | Loss: 0.72927 | Acc: 33.000\n##############################\nTRAIN - Epoch 029: | Loss: 0.69535 | Acc: 51.333\nVALIDATION - Epoch 029: | Loss: 0.72869 | Acc: 33.000\n##############################\nTRAIN - Epoch 030: | Loss: 0.67032 | Acc: 56.333\nVALIDATION - Epoch 030: | Loss: 0.72813 | Acc: 33.000\n##############################\nTRAIN - Epoch 031: | Loss: 0.69330 | Acc: 51.333\nVALIDATION - Epoch 031: | Loss: 0.72758 | Acc: 33.000\n##############################\nTRAIN - Epoch 032: | Loss: 0.69098 | Acc: 52.333\nVALIDATION - Epoch 032: | Loss: 0.72706 | Acc: 33.000\n##############################\nTRAIN - Epoch 033: | Loss: 0.69677 | Acc: 55.000\nVALIDATION - Epoch 033: | Loss: 0.72655 | Acc: 33.000\n##############################\nTRAIN - Epoch 034: | Loss: 0.67410 | Acc: 52.333\nVALIDATION - Epoch 034: | Loss: 0.72604 | Acc: 33.000\n##############################\nTRAIN - Epoch 035: | Loss: 0.68078 | Acc: 50.000\nVALIDATION - Epoch 035: | Loss: 0.72552 | Acc: 33.000\n##############################\nTRAIN - Epoch 036: | Loss: 0.67812 | Acc: 53.000\nVALIDATION - Epoch 036: | Loss: 0.72499 | Acc: 33.000\n##############################\nTRAIN - Epoch 037: | Loss: 0.70383 | Acc: 48.333\nVALIDATION - Epoch 037: | Loss: 0.72446 | Acc: 33.000\n##############################\nTRAIN - Epoch 038: | Loss: 0.70961 | Acc: 45.667\nVALIDATION - Epoch 038: | Loss: 0.72393 | Acc: 33.000\n##############################\nTRAIN - Epoch 039: | Loss: 0.68913 | Acc: 55.333\nVALIDATION - Epoch 039: | Loss: 0.72341 | Acc: 33.000\n##############################\nTRAIN - Epoch 040: | Loss: 0.70623 | Acc: 43.000\nVALIDATION - Epoch 040: | Loss: 0.72290 | Acc: 33.000\n##############################\nTRAIN - Epoch 041: | Loss: 0.69671 | Acc: 49.333\nVALIDATION - Epoch 041: | Loss: 0.72239 | Acc: 33.000\n##############################\nTRAIN - Epoch 042: | Loss: 0.68691 | Acc: 50.333\nVALIDATION - Epoch 042: | Loss: 0.72187 | Acc: 33.000\n##############################\nTRAIN - Epoch 043: | Loss: 0.70577 | Acc: 45.000\nVALIDATION - Epoch 043: | Loss: 0.72138 | Acc: 33.000\n##############################\nTRAIN - Epoch 044: | Loss: 0.68960 | Acc: 47.000\nVALIDATION - Epoch 044: | Loss: 0.72090 | Acc: 33.000\n##############################\nTRAIN - Epoch 045: | Loss: 0.68466 | Acc: 53.000\nVALIDATION - Epoch 045: | Loss: 0.72042 | Acc: 33.000\n##############################\nTRAIN - Epoch 046: | Loss: 0.69909 | Acc: 50.667\nVALIDATION - Epoch 046: | Loss: 0.71995 | Acc: 33.000\n##############################\nTRAIN - Epoch 047: | Loss: 0.68453 | Acc: 47.667\nVALIDATION - Epoch 047: | Loss: 0.71948 | Acc: 33.000\n##############################\nTRAIN - Epoch 048: | Loss: 0.69607 | Acc: 49.000\nVALIDATION - Epoch 048: | Loss: 0.71900 | Acc: 33.000\n##############################\nTRAIN - Epoch 049: | Loss: 0.69105 | Acc: 50.333\nVALIDATION - Epoch 049: | Loss: 0.71853 | Acc: 33.000\n##############################\nTRAIN - Epoch 050: | Loss: 0.67353 | Acc: 55.333\nVALIDATION - Epoch 050: | Loss: 0.71806 | Acc: 33.000\n##############################\nTRAIN - Epoch 051: | Loss: 0.67147 | Acc: 53.333\nVALIDATION - Epoch 051: | Loss: 0.71760 | Acc: 33.000\n##############################\nTRAIN - Epoch 052: | Loss: 0.66529 | Acc: 53.667\nVALIDATION - Epoch 052: | Loss: 0.71714 | Acc: 33.000\n##############################\nTRAIN - Epoch 053: | Loss: 0.68669 | Acc: 50.667\nVALIDATION - Epoch 053: | Loss: 0.71669 | Acc: 33.000\n##############################\nTRAIN - Epoch 054: | Loss: 0.67952 | Acc: 52.667\nVALIDATION - Epoch 054: | Loss: 0.71625 | Acc: 33.000\n##############################\nTRAIN - Epoch 055: | Loss: 0.67079 | Acc: 56.000\nVALIDATION - Epoch 055: | Loss: 0.71581 | Acc: 33.000\n##############################\nTRAIN - Epoch 056: | Loss: 0.66077 | Acc: 58.667\nVALIDATION - Epoch 056: | Loss: 0.71536 | Acc: 33.000\n##############################\nTRAIN - Epoch 057: | Loss: 0.66565 | Acc: 55.667\nVALIDATION - Epoch 057: | Loss: 0.71491 | Acc: 33.000\n##############################\nTRAIN - Epoch 058: | Loss: 0.69127 | Acc: 50.333\nVALIDATION - Epoch 058: | Loss: 0.71447 | Acc: 33.000\n##############################\nTRAIN - Epoch 059: | Loss: 0.68978 | Acc: 48.333\nVALIDATION - Epoch 059: | Loss: 0.71403 | Acc: 33.000\n##############################\nTRAIN - Epoch 060: | Loss: 0.67155 | Acc: 52.667\nVALIDATION - Epoch 060: | Loss: 0.71358 | Acc: 33.000\n##############################\nTRAIN - Epoch 061: | Loss: 0.70040 | Acc: 54.000\nVALIDATION - Epoch 061: | Loss: 0.71315 | Acc: 33.000\n##############################\nTRAIN - Epoch 062: | Loss: 0.68649 | Acc: 50.000\nVALIDATION - Epoch 062: | Loss: 0.71274 | Acc: 33.000\n##############################\nTRAIN - Epoch 063: | Loss: 0.69212 | Acc: 48.000\nVALIDATION - Epoch 063: | Loss: 0.71233 | Acc: 33.000\n##############################\nTRAIN - Epoch 064: | Loss: 0.67355 | Acc: 50.333\nVALIDATION - Epoch 064: | Loss: 0.71191 | Acc: 33.000\n##############################\nTRAIN - Epoch 065: | Loss: 0.68088 | Acc: 51.000\nVALIDATION - Epoch 065: | Loss: 0.71149 | Acc: 33.000\n##############################\nTRAIN - Epoch 066: | Loss: 0.70269 | Acc: 47.667\nVALIDATION - Epoch 066: | Loss: 0.71106 | Acc: 33.000\n##############################\nTRAIN - Epoch 067: | Loss: 0.68573 | Acc: 50.667\nVALIDATION - Epoch 067: | Loss: 0.71063 | Acc: 33.000\n##############################\nTRAIN - Epoch 068: | Loss: 0.68219 | Acc: 51.000\nVALIDATION - Epoch 068: | Loss: 0.71020 | Acc: 33.000\n##############################\nTRAIN - Epoch 069: | Loss: 0.69646 | Acc: 47.333\nVALIDATION - Epoch 069: | Loss: 0.70978 | Acc: 33.000\n##############################\nTRAIN - Epoch 070: | Loss: 0.69140 | Acc: 46.333\nVALIDATION - Epoch 070: | Loss: 0.70936 | Acc: 33.000\n##############################\nTRAIN - Epoch 071: | Loss: 0.66564 | Acc: 54.333\nVALIDATION - Epoch 071: | Loss: 0.70896 | Acc: 33.000\n##############################\nTRAIN - Epoch 072: | Loss: 0.67674 | Acc: 52.000\nVALIDATION - Epoch 072: | Loss: 0.70857 | Acc: 33.000\n##############################\nTRAIN - Epoch 073: | Loss: 0.68784 | Acc: 50.333\nVALIDATION - Epoch 073: | Loss: 0.70818 | Acc: 33.000\n##############################\nTRAIN - Epoch 074: | Loss: 0.68780 | Acc: 49.333\nVALIDATION - Epoch 074: | Loss: 0.70778 | Acc: 33.000\n##############################\nTRAIN - Epoch 075: | Loss: 0.67631 | Acc: 52.000\nVALIDATION - Epoch 075: | Loss: 0.70737 | Acc: 33.000\n##############################\nTRAIN - Epoch 076: | Loss: 0.67529 | Acc: 52.000\nVALIDATION - Epoch 076: | Loss: 0.70697 | Acc: 33.000\n##############################\nTRAIN - Epoch 077: | Loss: 0.68456 | Acc: 49.333\nVALIDATION - Epoch 077: | Loss: 0.70656 | Acc: 33.000\n##############################\nTRAIN - Epoch 078: | Loss: 0.66663 | Acc: 53.333\nVALIDATION - Epoch 078: | Loss: 0.70617 | Acc: 33.000\n##############################\nTRAIN - Epoch 079: | Loss: 0.69529 | Acc: 47.667\nVALIDATION - Epoch 079: | Loss: 0.70577 | Acc: 33.000\n##############################\nTRAIN - Epoch 080: | Loss: 0.66479 | Acc: 56.667\nVALIDATION - Epoch 080: | Loss: 0.70539 | Acc: 33.000\n##############################\nTRAIN - Epoch 081: | Loss: 0.70835 | Acc: 45.333\nVALIDATION - Epoch 081: | Loss: 0.70502 | Acc: 33.000\n##############################\nTRAIN - Epoch 082: | Loss: 0.71788 | Acc: 37.667\nVALIDATION - Epoch 082: | Loss: 0.70463 | Acc: 33.000\n##############################\nTRAIN - Epoch 083: | Loss: 0.67472 | Acc: 53.333\nVALIDATION - Epoch 083: | Loss: 0.70425 | Acc: 33.000\n##############################\nTRAIN - Epoch 084: | Loss: 0.69870 | Acc: 45.333\nVALIDATION - Epoch 084: | Loss: 0.70387 | Acc: 33.000\n##############################\nTRAIN - Epoch 085: | Loss: 0.68458 | Acc: 48.333\nVALIDATION - Epoch 085: | Loss: 0.70349 | Acc: 33.000\n##############################\nTRAIN - Epoch 086: | Loss: 0.66779 | Acc: 52.667\nVALIDATION - Epoch 086: | Loss: 0.70310 | Acc: 33.000\n##############################\nTRAIN - Epoch 087: | Loss: 0.67768 | Acc: 50.333\nVALIDATION - Epoch 087: | Loss: 0.70271 | Acc: 33.000\n##############################\nTRAIN - Epoch 088: | Loss: 0.65391 | Acc: 60.333\nVALIDATION - Epoch 088: | Loss: 0.70233 | Acc: 33.000\n##############################\nTRAIN - Epoch 089: | Loss: 0.66716 | Acc: 54.333\nVALIDATION - Epoch 089: | Loss: 0.70195 | Acc: 33.000\n##############################\nTRAIN - Epoch 090: | Loss: 0.67329 | Acc: 54.333\nVALIDATION - Epoch 090: | Loss: 0.70157 | Acc: 33.000\n##############################\nTRAIN - Epoch 091: | Loss: 0.68136 | Acc: 52.667\nVALIDATION - Epoch 091: | Loss: 0.70121 | Acc: 33.000\n##############################\nTRAIN - Epoch 092: | Loss: 0.70580 | Acc: 44.000\nVALIDATION - Epoch 092: | Loss: 0.70083 | Acc: 33.000\n##############################\nTRAIN - Epoch 093: | Loss: 0.65059 | Acc: 57.000\nVALIDATION - Epoch 093: | Loss: 0.70047 | Acc: 33.000\n##############################\nTRAIN - Epoch 094: | Loss: 0.67314 | Acc: 49.000\nVALIDATION - Epoch 094: | Loss: 0.70011 | Acc: 33.000\n##############################\nTRAIN - Epoch 095: | Loss: 0.65855 | Acc: 57.000\nVALIDATION - Epoch 095: | Loss: 0.69975 | Acc: 33.000\n##############################\nTRAIN - Epoch 096: | Loss: 0.68553 | Acc: 50.333\nVALIDATION - Epoch 096: | Loss: 0.69940 | Acc: 33.000\n##############################\nTRAIN - Epoch 097: | Loss: 0.67703 | Acc: 49.667\nVALIDATION - Epoch 097: | Loss: 0.69905 | Acc: 33.000\n##############################\nTRAIN - Epoch 098: | Loss: 0.66786 | Acc: 53.000\nVALIDATION - Epoch 098: | Loss: 0.69869 | Acc: 33.000\n##############################\nTRAIN - Epoch 099: | Loss: 0.66436 | Acc: 54.000\nVALIDATION - Epoch 099: | Loss: 0.69835 | Acc: 33.000\n##############################\nTRAIN - Epoch 100: | Loss: 0.67326 | Acc: 52.333\nVALIDATION - Epoch 100: | Loss: 0.69802 | Acc: 33.000\n##############################\n",
     "output_type": "stream",
     "data": {}
    }
   ]
  },
  {
   "cell_type": "code",
   "metadata": {
    "tags": [],
    "cell_id": "00050-c5c83117-a877-4df6-9f96-49b4fc555da9",
    "deepnote_to_be_reexecuted": true,
    "source_hash": "7e5d85bd",
    "execution_start": 1641685421902,
    "execution_millis": 10,
    "deepnote_cell_type": "code"
   },
   "source": "y_true_test = y_test.values.ravel()\nprint(classification_report(y_true_test, y_pred_test))",
   "execution_count": null,
   "outputs": [
    {
     "name": "stdout",
     "text": "              precision    recall  f1-score   support\n\n           0       0.00      0.00      0.00       290\n           1       0.33      1.00      0.49       142\n\n    accuracy                           0.33       432\n   macro avg       0.16      0.50      0.25       432\nweighted avg       0.11      0.33      0.16       432\n\n",
     "output_type": "stream",
     "data": {}
    }
   ]
  },
  {
   "cell_type": "code",
   "metadata": {
    "tags": [],
    "cell_id": "00044-8399b7df-053e-4060-9292-34e7aeb7715c",
    "deepnote_to_be_reexecuted": true,
    "source_hash": "bf15212c",
    "execution_start": 1641685421919,
    "execution_millis": 279,
    "deepnote_output_heights": [
     498
    ],
    "deepnote_cell_type": "code"
   },
   "source": "plt.plot(losses_train,'-')\nplt.plot(losses_test,'-.')\nplt.xlabel('Epochs')\nplt.ylabel('Loss')\nplt.legend(['Train','Test'])\nplt.title('Train vs Test Losses')\n \nplt.show()",
   "execution_count": null,
   "outputs": [
    {
     "data": {
      "text/plain": "<Figure size 720x576 with 1 Axes>",
      "image/png": "[encoded data removed]"
     },
     "metadata": {
      "needs_background": "light",
      "image/png": {
       "width": 615,
       "height": 496
      }
     },
     "output_type": "display_data"
    }
   ]
  },
  {
   "cell_type": "code",
   "metadata": {
    "tags": [],
    "cell_id": "00045-06a2851b-245f-4abe-ad17-b94ecefda0e1",
    "deepnote_to_be_reexecuted": true,
    "source_hash": "3c4373f7",
    "execution_start": 1641685422206,
    "execution_millis": 289,
    "deepnote_output_heights": [
     498
    ],
    "deepnote_cell_type": "code"
   },
   "source": "plt.plot(accuracies_train,'-')\nplt.plot(accuracies_test,'-.')\nplt.xlabel('Epochs')\nplt.ylabel('Accuracy')\nplt.legend(['Train','Test'])\nplt.title('Train vs Test Accuracy')\n \nplt.show()",
   "execution_count": null,
   "outputs": [
    {
     "data": {
      "text/plain": "<Figure size 720x576 with 1 Axes>",
      "image/png": "[encoded data removed]"
     },
     "metadata": {
      "needs_background": "light",
      "image/png": {
       "width": 615,
       "height": 496
      }
     },
     "output_type": "display_data"
    }
   ]
  },
  {
   "cell_type": "markdown",
   "source": "## Loading MONK-3 dataset",
   "metadata": {
    "tags": [],
    "cell_id": "00044-64c876f1-77b0-40c7-a308-cfce87e5636a",
    "deepnote_cell_type": "markdown"
   }
  },
  {
   "cell_type": "code",
   "metadata": {
    "tags": [],
    "cell_id": "00044-2ee9b7c9-0e51-4fc9-8997-a4ff5ef1c5ce",
    "deepnote_to_be_reexecuted": true,
    "source_hash": "c72e9b65",
    "execution_start": 1641685422499,
    "execution_millis": 7,
    "deepnote_cell_type": "code"
   },
   "source": "#read train dataset\ndf_monk3_train = pd.read_csv('./data/MONK/monks-3.train', sep=\" \", skipinitialspace=True, names=['class','a1','a2','a3','a4','a5','a6','id'])\ndf_monk3_train.drop(labels='id', axis=1, inplace=True)\n\n#read test dataset\ndf_monk3_test = pd.read_csv('./data/MONK/monks-3.test', sep=\" \", skipinitialspace=True,  names=['class','a1','a2','a3','a4','a5','a6','id'])\ndf_monk3_test.drop(labels='id', axis=1, inplace=True)",
   "execution_count": null,
   "outputs": []
  },
  {
   "cell_type": "code",
   "metadata": {
    "tags": [],
    "cell_id": "00046-ba8d6b5d-5e22-4e88-9150-c683245f3a59",
    "deepnote_to_be_reexecuted": true,
    "source_hash": "f697c2a7",
    "execution_start": 1641685422523,
    "execution_millis": 20,
    "deepnote_cell_type": "code"
   },
   "source": "df_monk3_train.head()",
   "execution_count": null,
   "outputs": [
    {
     "output_type": "execute_result",
     "execution_count": 47,
     "data": {
      "application/vnd.deepnote.dataframe.v3+json": {
       "column_count": 7,
       "row_count": 5,
       "columns": [
        {
         "name": "class",
         "dtype": "int64",
         "stats": {
          "unique_count": 2,
          "nan_count": 0,
          "min": "0",
          "max": "1",
          "histogram": [
           {
            "bin_start": 0,
            "bin_end": 0.1,
            "count": 2
           },
           {
            "bin_start": 0.1,
            "bin_end": 0.2,
            "count": 0
           },
           {
            "bin_start": 0.2,
            "bin_end": 0.30000000000000004,
            "count": 0
           },
           {
            "bin_start": 0.30000000000000004,
            "bin_end": 0.4,
            "count": 0
           },
           {
            "bin_start": 0.4,
            "bin_end": 0.5,
            "count": 0
           },
           {
            "bin_start": 0.5,
            "bin_end": 0.6000000000000001,
            "count": 0
           },
           {
            "bin_start": 0.6000000000000001,
            "bin_end": 0.7000000000000001,
            "count": 0
           },
           {
            "bin_start": 0.7000000000000001,
            "bin_end": 0.8,
            "count": 0
           },
           {
            "bin_start": 0.8,
            "bin_end": 0.9,
            "count": 0
           },
           {
            "bin_start": 0.9,
            "bin_end": 1,
            "count": 3
           }
          ]
         }
        },
        {
         "name": "a1",
         "dtype": "int64",
         "stats": {
          "unique_count": 1,
          "nan_count": 0,
          "min": "1",
          "max": "1",
          "histogram": [
           {
            "bin_start": 0.5,
            "bin_end": 0.6,
            "count": 0
           },
           {
            "bin_start": 0.6,
            "bin_end": 0.7,
            "count": 0
           },
           {
            "bin_start": 0.7,
            "bin_end": 0.8,
            "count": 0
           },
           {
            "bin_start": 0.8,
            "bin_end": 0.9,
            "count": 0
           },
           {
            "bin_start": 0.9,
            "bin_end": 1,
            "count": 0
           },
           {
            "bin_start": 1,
            "bin_end": 1.1,
            "count": 5
           },
           {
            "bin_start": 1.1,
            "bin_end": 1.2000000000000002,
            "count": 0
           },
           {
            "bin_start": 1.2000000000000002,
            "bin_end": 1.3,
            "count": 0
           },
           {
            "bin_start": 1.3,
            "bin_end": 1.4,
            "count": 0
           },
           {
            "bin_start": 1.4,
            "bin_end": 1.5,
            "count": 0
           }
          ]
         }
        },
        {
         "name": "a2",
         "dtype": "int64",
         "stats": {
          "unique_count": 1,
          "nan_count": 0,
          "min": "1",
          "max": "1",
          "histogram": [
           {
            "bin_start": 0.5,
            "bin_end": 0.6,
            "count": 0
           },
           {
            "bin_start": 0.6,
            "bin_end": 0.7,
            "count": 0
           },
           {
            "bin_start": 0.7,
            "bin_end": 0.8,
            "count": 0
           },
           {
            "bin_start": 0.8,
            "bin_end": 0.9,
            "count": 0
           },
           {
            "bin_start": 0.9,
            "bin_end": 1,
            "count": 0
           },
           {
            "bin_start": 1,
            "bin_end": 1.1,
            "count": 5
           },
           {
            "bin_start": 1.1,
            "bin_end": 1.2000000000000002,
            "count": 0
           },
           {
            "bin_start": 1.2000000000000002,
            "bin_end": 1.3,
            "count": 0
           },
           {
            "bin_start": 1.3,
            "bin_end": 1.4,
            "count": 0
           },
           {
            "bin_start": 1.4,
            "bin_end": 1.5,
            "count": 0
           }
          ]
         }
        },
        {
         "name": "a3",
         "dtype": "int64",
         "stats": {
          "unique_count": 1,
          "nan_count": 0,
          "min": "1",
          "max": "1",
          "histogram": [
           {
            "bin_start": 0.5,
            "bin_end": 0.6,
            "count": 0
           },
           {
            "bin_start": 0.6,
            "bin_end": 0.7,
            "count": 0
           },
           {
            "bin_start": 0.7,
            "bin_end": 0.8,
            "count": 0
           },
           {
            "bin_start": 0.8,
            "bin_end": 0.9,
            "count": 0
           },
           {
            "bin_start": 0.9,
            "bin_end": 1,
            "count": 0
           },
           {
            "bin_start": 1,
            "bin_end": 1.1,
            "count": 5
           },
           {
            "bin_start": 1.1,
            "bin_end": 1.2000000000000002,
            "count": 0
           },
           {
            "bin_start": 1.2000000000000002,
            "bin_end": 1.3,
            "count": 0
           },
           {
            "bin_start": 1.3,
            "bin_end": 1.4,
            "count": 0
           },
           {
            "bin_start": 1.4,
            "bin_end": 1.5,
            "count": 0
           }
          ]
         }
        },
        {
         "name": "a4",
         "dtype": "int64",
         "stats": {
          "unique_count": 1,
          "nan_count": 0,
          "min": "1",
          "max": "1",
          "histogram": [
           {
            "bin_start": 0.5,
            "bin_end": 0.6,
            "count": 0
           },
           {
            "bin_start": 0.6,
            "bin_end": 0.7,
            "count": 0
           },
           {
            "bin_start": 0.7,
            "bin_end": 0.8,
            "count": 0
           },
           {
            "bin_start": 0.8,
            "bin_end": 0.9,
            "count": 0
           },
           {
            "bin_start": 0.9,
            "bin_end": 1,
            "count": 0
           },
           {
            "bin_start": 1,
            "bin_end": 1.1,
            "count": 5
           },
           {
            "bin_start": 1.1,
            "bin_end": 1.2000000000000002,
            "count": 0
           },
           {
            "bin_start": 1.2000000000000002,
            "bin_end": 1.3,
            "count": 0
           },
           {
            "bin_start": 1.3,
            "bin_end": 1.4,
            "count": 0
           },
           {
            "bin_start": 1.4,
            "bin_end": 1.5,
            "count": 0
           }
          ]
         }
        },
        {
         "name": "a5",
         "dtype": "int64",
         "stats": {
          "unique_count": 4,
          "nan_count": 0,
          "min": "1",
          "max": "4",
          "histogram": [
           {
            "bin_start": 1,
            "bin_end": 1.3,
            "count": 1
           },
           {
            "bin_start": 1.3,
            "bin_end": 1.6,
            "count": 0
           },
           {
            "bin_start": 1.6,
            "bin_end": 1.9,
            "count": 0
           },
           {
            "bin_start": 1.9,
            "bin_end": 2.2,
            "count": 2
           },
           {
            "bin_start": 2.2,
            "bin_end": 2.5,
            "count": 0
           },
           {
            "bin_start": 2.5,
            "bin_end": 2.8,
            "count": 0
           },
           {
            "bin_start": 2.8,
            "bin_end": 3.1,
            "count": 1
           },
           {
            "bin_start": 3.1,
            "bin_end": 3.4,
            "count": 0
           },
           {
            "bin_start": 3.4,
            "bin_end": 3.6999999999999997,
            "count": 0
           },
           {
            "bin_start": 3.6999999999999997,
            "bin_end": 4,
            "count": 1
           }
          ]
         }
        },
        {
         "name": "a6",
         "dtype": "int64",
         "stats": {
          "unique_count": 2,
          "nan_count": 0,
          "min": "1",
          "max": "2",
          "histogram": [
           {
            "bin_start": 1,
            "bin_end": 1.1,
            "count": 3
           },
           {
            "bin_start": 1.1,
            "bin_end": 1.2,
            "count": 0
           },
           {
            "bin_start": 1.2,
            "bin_end": 1.3,
            "count": 0
           },
           {
            "bin_start": 1.3,
            "bin_end": 1.4,
            "count": 0
           },
           {
            "bin_start": 1.4,
            "bin_end": 1.5,
            "count": 0
           },
           {
            "bin_start": 1.5,
            "bin_end": 1.6,
            "count": 0
           },
           {
            "bin_start": 1.6,
            "bin_end": 1.7000000000000002,
            "count": 0
           },
           {
            "bin_start": 1.7000000000000002,
            "bin_end": 1.8,
            "count": 0
           },
           {
            "bin_start": 1.8,
            "bin_end": 1.9,
            "count": 0
           },
           {
            "bin_start": 1.9,
            "bin_end": 2,
            "count": 2
           }
          ]
         }
        },
        {
         "name": "_deepnote_index_column",
         "dtype": "int64"
        }
       ],
       "rows": [
        {
         "class": 1,
         "a1": 1,
         "a2": 1,
         "a3": 1,
         "a4": 1,
         "a5": 1,
         "a6": 2,
         "_deepnote_index_column": 0
        },
        {
         "class": 1,
         "a1": 1,
         "a2": 1,
         "a3": 1,
         "a4": 1,
         "a5": 2,
         "a6": 1,
         "_deepnote_index_column": 1
        },
        {
         "class": 1,
         "a1": 1,
         "a2": 1,
         "a3": 1,
         "a4": 1,
         "a5": 2,
         "a6": 2,
         "_deepnote_index_column": 2
        },
        {
         "class": 0,
         "a1": 1,
         "a2": 1,
         "a3": 1,
         "a4": 1,
         "a5": 3,
         "a6": 1,
         "_deepnote_index_column": 3
        },
        {
         "class": 0,
         "a1": 1,
         "a2": 1,
         "a3": 1,
         "a4": 1,
         "a5": 4,
         "a6": 1,
         "_deepnote_index_column": 4
        }
       ]
      },
      "text/plain": "   class  a1  a2  a3  a4  a5  a6\n0      1   1   1   1   1   1   2\n1      1   1   1   1   1   2   1\n2      1   1   1   1   1   2   2\n3      0   1   1   1   1   3   1\n4      0   1   1   1   1   4   1",
      "text/html": "<div>\n<style scoped>\n    .dataframe tbody tr th:only-of-type {\n        vertical-align: middle;\n    }\n\n    .dataframe tbody tr th {\n        vertical-align: top;\n    }\n\n    .dataframe thead th {\n        text-align: right;\n    }\n</style>\n<table border=\"1\" class=\"dataframe\">\n  <thead>\n    <tr style=\"text-align: right;\">\n      <th></th>\n      <th>class</th>\n      <th>a1</th>\n      <th>a2</th>\n      <th>a3</th>\n      <th>a4</th>\n      <th>a5</th>\n      <th>a6</th>\n    </tr>\n  </thead>\n  <tbody>\n    <tr>\n      <th>0</th>\n      <td>1</td>\n      <td>1</td>\n      <td>1</td>\n      <td>1</td>\n      <td>1</td>\n      <td>1</td>\n      <td>2</td>\n    </tr>\n    <tr>\n      <th>1</th>\n      <td>1</td>\n      <td>1</td>\n      <td>1</td>\n      <td>1</td>\n      <td>1</td>\n      <td>2</td>\n      <td>1</td>\n    </tr>\n    <tr>\n      <th>2</th>\n      <td>1</td>\n      <td>1</td>\n      <td>1</td>\n      <td>1</td>\n      <td>1</td>\n      <td>2</td>\n      <td>2</td>\n    </tr>\n    <tr>\n      <th>3</th>\n      <td>0</td>\n      <td>1</td>\n      <td>1</td>\n      <td>1</td>\n      <td>1</td>\n      <td>3</td>\n      <td>1</td>\n    </tr>\n    <tr>\n      <th>4</th>\n      <td>0</td>\n      <td>1</td>\n      <td>1</td>\n      <td>1</td>\n      <td>1</td>\n      <td>4</td>\n      <td>1</td>\n    </tr>\n  </tbody>\n</table>\n</div>"
     },
     "metadata": {}
    }
   ]
  },
  {
   "cell_type": "code",
   "metadata": {
    "tags": [],
    "cell_id": "00047-434a1e4e-40a2-48f4-ac39-c4726e00c473",
    "deepnote_to_be_reexecuted": true,
    "source_hash": "ee54eef9",
    "execution_start": 1641685422553,
    "execution_millis": 39,
    "deepnote_cell_type": "code"
   },
   "source": "df_monk3_test.head()",
   "execution_count": null,
   "outputs": [
    {
     "output_type": "execute_result",
     "execution_count": 48,
     "data": {
      "application/vnd.deepnote.dataframe.v3+json": {
       "column_count": 7,
       "row_count": 5,
       "columns": [
        {
         "name": "class",
         "dtype": "int64",
         "stats": {
          "unique_count": 1,
          "nan_count": 0,
          "min": "1",
          "max": "1",
          "histogram": [
           {
            "bin_start": 0.5,
            "bin_end": 0.6,
            "count": 0
           },
           {
            "bin_start": 0.6,
            "bin_end": 0.7,
            "count": 0
           },
           {
            "bin_start": 0.7,
            "bin_end": 0.8,
            "count": 0
           },
           {
            "bin_start": 0.8,
            "bin_end": 0.9,
            "count": 0
           },
           {
            "bin_start": 0.9,
            "bin_end": 1,
            "count": 0
           },
           {
            "bin_start": 1,
            "bin_end": 1.1,
            "count": 5
           },
           {
            "bin_start": 1.1,
            "bin_end": 1.2000000000000002,
            "count": 0
           },
           {
            "bin_start": 1.2000000000000002,
            "bin_end": 1.3,
            "count": 0
           },
           {
            "bin_start": 1.3,
            "bin_end": 1.4,
            "count": 0
           },
           {
            "bin_start": 1.4,
            "bin_end": 1.5,
            "count": 0
           }
          ]
         }
        },
        {
         "name": "a1",
         "dtype": "int64",
         "stats": {
          "unique_count": 1,
          "nan_count": 0,
          "min": "1",
          "max": "1",
          "histogram": [
           {
            "bin_start": 0.5,
            "bin_end": 0.6,
            "count": 0
           },
           {
            "bin_start": 0.6,
            "bin_end": 0.7,
            "count": 0
           },
           {
            "bin_start": 0.7,
            "bin_end": 0.8,
            "count": 0
           },
           {
            "bin_start": 0.8,
            "bin_end": 0.9,
            "count": 0
           },
           {
            "bin_start": 0.9,
            "bin_end": 1,
            "count": 0
           },
           {
            "bin_start": 1,
            "bin_end": 1.1,
            "count": 5
           },
           {
            "bin_start": 1.1,
            "bin_end": 1.2000000000000002,
            "count": 0
           },
           {
            "bin_start": 1.2000000000000002,
            "bin_end": 1.3,
            "count": 0
           },
           {
            "bin_start": 1.3,
            "bin_end": 1.4,
            "count": 0
           },
           {
            "bin_start": 1.4,
            "bin_end": 1.5,
            "count": 0
           }
          ]
         }
        },
        {
         "name": "a2",
         "dtype": "int64",
         "stats": {
          "unique_count": 1,
          "nan_count": 0,
          "min": "1",
          "max": "1",
          "histogram": [
           {
            "bin_start": 0.5,
            "bin_end": 0.6,
            "count": 0
           },
           {
            "bin_start": 0.6,
            "bin_end": 0.7,
            "count": 0
           },
           {
            "bin_start": 0.7,
            "bin_end": 0.8,
            "count": 0
           },
           {
            "bin_start": 0.8,
            "bin_end": 0.9,
            "count": 0
           },
           {
            "bin_start": 0.9,
            "bin_end": 1,
            "count": 0
           },
           {
            "bin_start": 1,
            "bin_end": 1.1,
            "count": 5
           },
           {
            "bin_start": 1.1,
            "bin_end": 1.2000000000000002,
            "count": 0
           },
           {
            "bin_start": 1.2000000000000002,
            "bin_end": 1.3,
            "count": 0
           },
           {
            "bin_start": 1.3,
            "bin_end": 1.4,
            "count": 0
           },
           {
            "bin_start": 1.4,
            "bin_end": 1.5,
            "count": 0
           }
          ]
         }
        },
        {
         "name": "a3",
         "dtype": "int64",
         "stats": {
          "unique_count": 1,
          "nan_count": 0,
          "min": "1",
          "max": "1",
          "histogram": [
           {
            "bin_start": 0.5,
            "bin_end": 0.6,
            "count": 0
           },
           {
            "bin_start": 0.6,
            "bin_end": 0.7,
            "count": 0
           },
           {
            "bin_start": 0.7,
            "bin_end": 0.8,
            "count": 0
           },
           {
            "bin_start": 0.8,
            "bin_end": 0.9,
            "count": 0
           },
           {
            "bin_start": 0.9,
            "bin_end": 1,
            "count": 0
           },
           {
            "bin_start": 1,
            "bin_end": 1.1,
            "count": 5
           },
           {
            "bin_start": 1.1,
            "bin_end": 1.2000000000000002,
            "count": 0
           },
           {
            "bin_start": 1.2000000000000002,
            "bin_end": 1.3,
            "count": 0
           },
           {
            "bin_start": 1.3,
            "bin_end": 1.4,
            "count": 0
           },
           {
            "bin_start": 1.4,
            "bin_end": 1.5,
            "count": 0
           }
          ]
         }
        },
        {
         "name": "a4",
         "dtype": "int64",
         "stats": {
          "unique_count": 1,
          "nan_count": 0,
          "min": "1",
          "max": "1",
          "histogram": [
           {
            "bin_start": 0.5,
            "bin_end": 0.6,
            "count": 0
           },
           {
            "bin_start": 0.6,
            "bin_end": 0.7,
            "count": 0
           },
           {
            "bin_start": 0.7,
            "bin_end": 0.8,
            "count": 0
           },
           {
            "bin_start": 0.8,
            "bin_end": 0.9,
            "count": 0
           },
           {
            "bin_start": 0.9,
            "bin_end": 1,
            "count": 0
           },
           {
            "bin_start": 1,
            "bin_end": 1.1,
            "count": 5
           },
           {
            "bin_start": 1.1,
            "bin_end": 1.2000000000000002,
            "count": 0
           },
           {
            "bin_start": 1.2000000000000002,
            "bin_end": 1.3,
            "count": 0
           },
           {
            "bin_start": 1.3,
            "bin_end": 1.4,
            "count": 0
           },
           {
            "bin_start": 1.4,
            "bin_end": 1.5,
            "count": 0
           }
          ]
         }
        },
        {
         "name": "a5",
         "dtype": "int64",
         "stats": {
          "unique_count": 3,
          "nan_count": 0,
          "min": "1",
          "max": "3",
          "histogram": [
           {
            "bin_start": 1,
            "bin_end": 1.2,
            "count": 2
           },
           {
            "bin_start": 1.2,
            "bin_end": 1.4,
            "count": 0
           },
           {
            "bin_start": 1.4,
            "bin_end": 1.6,
            "count": 0
           },
           {
            "bin_start": 1.6,
            "bin_end": 1.8,
            "count": 0
           },
           {
            "bin_start": 1.8,
            "bin_end": 2,
            "count": 0
           },
           {
            "bin_start": 2,
            "bin_end": 2.2,
            "count": 2
           },
           {
            "bin_start": 2.2,
            "bin_end": 2.4000000000000004,
            "count": 0
           },
           {
            "bin_start": 2.4000000000000004,
            "bin_end": 2.6,
            "count": 0
           },
           {
            "bin_start": 2.6,
            "bin_end": 2.8,
            "count": 0
           },
           {
            "bin_start": 2.8,
            "bin_end": 3,
            "count": 1
           }
          ]
         }
        },
        {
         "name": "a6",
         "dtype": "int64",
         "stats": {
          "unique_count": 2,
          "nan_count": 0,
          "min": "1",
          "max": "2",
          "histogram": [
           {
            "bin_start": 1,
            "bin_end": 1.1,
            "count": 3
           },
           {
            "bin_start": 1.1,
            "bin_end": 1.2,
            "count": 0
           },
           {
            "bin_start": 1.2,
            "bin_end": 1.3,
            "count": 0
           },
           {
            "bin_start": 1.3,
            "bin_end": 1.4,
            "count": 0
           },
           {
            "bin_start": 1.4,
            "bin_end": 1.5,
            "count": 0
           },
           {
            "bin_start": 1.5,
            "bin_end": 1.6,
            "count": 0
           },
           {
            "bin_start": 1.6,
            "bin_end": 1.7000000000000002,
            "count": 0
           },
           {
            "bin_start": 1.7000000000000002,
            "bin_end": 1.8,
            "count": 0
           },
           {
            "bin_start": 1.8,
            "bin_end": 1.9,
            "count": 0
           },
           {
            "bin_start": 1.9,
            "bin_end": 2,
            "count": 2
           }
          ]
         }
        },
        {
         "name": "_deepnote_index_column",
         "dtype": "int64"
        }
       ],
       "rows": [
        {
         "class": 1,
         "a1": 1,
         "a2": 1,
         "a3": 1,
         "a4": 1,
         "a5": 1,
         "a6": 1,
         "_deepnote_index_column": 0
        },
        {
         "class": 1,
         "a1": 1,
         "a2": 1,
         "a3": 1,
         "a4": 1,
         "a5": 1,
         "a6": 2,
         "_deepnote_index_column": 1
        },
        {
         "class": 1,
         "a1": 1,
         "a2": 1,
         "a3": 1,
         "a4": 1,
         "a5": 2,
         "a6": 1,
         "_deepnote_index_column": 2
        },
        {
         "class": 1,
         "a1": 1,
         "a2": 1,
         "a3": 1,
         "a4": 1,
         "a5": 2,
         "a6": 2,
         "_deepnote_index_column": 3
        },
        {
         "class": 1,
         "a1": 1,
         "a2": 1,
         "a3": 1,
         "a4": 1,
         "a5": 3,
         "a6": 1,
         "_deepnote_index_column": 4
        }
       ]
      },
      "text/plain": "   class  a1  a2  a3  a4  a5  a6\n0      1   1   1   1   1   1   1\n1      1   1   1   1   1   1   2\n2      1   1   1   1   1   2   1\n3      1   1   1   1   1   2   2\n4      1   1   1   1   1   3   1",
      "text/html": "<div>\n<style scoped>\n    .dataframe tbody tr th:only-of-type {\n        vertical-align: middle;\n    }\n\n    .dataframe tbody tr th {\n        vertical-align: top;\n    }\n\n    .dataframe thead th {\n        text-align: right;\n    }\n</style>\n<table border=\"1\" class=\"dataframe\">\n  <thead>\n    <tr style=\"text-align: right;\">\n      <th></th>\n      <th>class</th>\n      <th>a1</th>\n      <th>a2</th>\n      <th>a3</th>\n      <th>a4</th>\n      <th>a5</th>\n      <th>a6</th>\n    </tr>\n  </thead>\n  <tbody>\n    <tr>\n      <th>0</th>\n      <td>1</td>\n      <td>1</td>\n      <td>1</td>\n      <td>1</td>\n      <td>1</td>\n      <td>1</td>\n      <td>1</td>\n    </tr>\n    <tr>\n      <th>1</th>\n      <td>1</td>\n      <td>1</td>\n      <td>1</td>\n      <td>1</td>\n      <td>1</td>\n      <td>1</td>\n      <td>2</td>\n    </tr>\n    <tr>\n      <th>2</th>\n      <td>1</td>\n      <td>1</td>\n      <td>1</td>\n      <td>1</td>\n      <td>1</td>\n      <td>2</td>\n      <td>1</td>\n    </tr>\n    <tr>\n      <th>3</th>\n      <td>1</td>\n      <td>1</td>\n      <td>1</td>\n      <td>1</td>\n      <td>1</td>\n      <td>2</td>\n      <td>2</td>\n    </tr>\n    <tr>\n      <th>4</th>\n      <td>1</td>\n      <td>1</td>\n      <td>1</td>\n      <td>1</td>\n      <td>1</td>\n      <td>3</td>\n      <td>1</td>\n    </tr>\n  </tbody>\n</table>\n</div>"
     },
     "metadata": {}
    }
   ]
  },
  {
   "cell_type": "code",
   "metadata": {
    "tags": [],
    "cell_id": "00048-976b8ce9-9d2a-4e15-af94-6f3d7e5cf5bc",
    "deepnote_to_be_reexecuted": true,
    "source_hash": "232e4eb4",
    "execution_start": 1641685422592,
    "execution_millis": 208,
    "deepnote_output_heights": [
     21.1875,
     451
    ],
    "deepnote_cell_type": "code"
   },
   "source": "#plot class distribution in train data\nfig_size = plt.rcParams[\"figure.figsize\"]\nfig_size[0] = 10\nfig_size[1] = 8\nplt.rcParams[\"figure.figsize\"] = fig_size\n\ndf_monk3_train['class'].value_counts().plot(kind='pie', autopct='%1.0f%%', colors=['skyblue', 'orange'], explode=(0.05, 0.05))",
   "execution_count": null,
   "outputs": [
    {
     "output_type": "execute_result",
     "execution_count": 49,
     "data": {
      "text/plain": "<AxesSubplot:ylabel='class'>"
     },
     "metadata": {}
    },
    {
     "data": {
      "text/plain": "<Figure size 720x576 with 1 Axes>",
      "image/png": "[encoded data removed]"
     },
     "metadata": {
      "image/png": {
       "width": 463,
       "height": 449
      }
     },
     "output_type": "display_data"
    }
   ]
  },
  {
   "cell_type": "code",
   "metadata": {
    "tags": [],
    "cell_id": "00049-cea85522-a529-4290-a1a1-da9de63c1afe",
    "deepnote_to_be_reexecuted": true,
    "source_hash": "aab28e19",
    "execution_start": 1641685422822,
    "execution_millis": 70,
    "deepnote_output_heights": [
     21.1875,
     451
    ],
    "deepnote_cell_type": "code"
   },
   "source": "#plot class distribution in test data\ndf_monk3_test['class'].value_counts().plot(kind='pie', autopct='%1.0f%%', colors=['skyblue', 'orange'], explode=(0.05, 0.05))",
   "execution_count": null,
   "outputs": [
    {
     "output_type": "execute_result",
     "execution_count": 50,
     "data": {
      "text/plain": "<AxesSubplot:ylabel='class'>"
     },
     "metadata": {}
    },
    {
     "data": {
      "text/plain": "<Figure size 720x576 with 1 Axes>",
      "image/png": "[encoded data removed]"
     },
     "metadata": {
      "image/png": {
       "width": 463,
       "height": 449
      }
     },
     "output_type": "display_data"
    }
   ]
  },
  {
   "cell_type": "code",
   "metadata": {
    "tags": [],
    "cell_id": "00050-41bab7bb-c931-4bf5-9a6c-730c30b4cca9",
    "deepnote_to_be_reexecuted": true,
    "source_hash": "2d21808",
    "execution_start": 1641685422894,
    "execution_millis": 135813,
    "deepnote_cell_type": "code"
   },
   "source": "#prepare train and test data\ntarget_train = df_monk3_train.pop('class')\ntarget_test = df_monk3_test.pop('class')\nX_train = df_monk3_train\ny_train = target_train\nX_test = df_monk3_test\ny_test = target_test",
   "execution_count": null,
   "outputs": []
  },
  {
   "cell_type": "code",
   "metadata": {
    "tags": [],
    "cell_id": "00051-ae6be9ff-5437-4878-a290-0527a2dd1fdd",
    "deepnote_to_be_reexecuted": true,
    "source_hash": "db007649",
    "execution_start": 1641685422941,
    "execution_millis": 135813,
    "deepnote_cell_type": "code"
   },
   "source": "#create tensor for train and test data \nX_train = X_train.values #returns a ndarray\nX_test = X_test.values\nx_tensor =  torch.from_numpy(X_train).float()\ny_tensor =  torch.from_numpy(y_train.values.ravel()).float()\nxtest_tensor =  torch.from_numpy(X_test).float()\nytest_tensor =  torch.from_numpy(y_test.values.ravel()).float()",
   "execution_count": null,
   "outputs": []
  },
  {
   "cell_type": "code",
   "metadata": {
    "tags": [],
    "cell_id": "00052-93748273-d5e5-4112-947e-40de9e0b30ff",
    "deepnote_to_be_reexecuted": true,
    "source_hash": "ec6779cd",
    "execution_start": 1641685422942,
    "execution_millis": 135859,
    "deepnote_cell_type": "code"
   },
   "source": "#prepare dataloader for training\ny_tensor = y_tensor.unsqueeze(1)\ntrain_ds = TensorDataset(x_tensor, y_tensor)\ntrain_loader = DataLoader(train_ds, batch_size=BATCH_SIZE)",
   "execution_count": null,
   "outputs": []
  },
  {
   "cell_type": "code",
   "metadata": {
    "tags": [],
    "cell_id": "00053-40e89f31-6d30-41ea-b14b-44b50bb2a7f5",
    "deepnote_to_be_reexecuted": true,
    "source_hash": "1f399bb4",
    "execution_start": 1641685422982,
    "execution_millis": 135859,
    "deepnote_cell_type": "code"
   },
   "source": "#prepare dataloader for evaluating \nytest_tensor = ytest_tensor.unsqueeze(1)\ntest_ds = TensorDataset(xtest_tensor, ytest_tensor)\ntest_loader = DataLoader(test_ds, batch_size=64)",
   "execution_count": null,
   "outputs": []
  },
  {
   "cell_type": "code",
   "metadata": {
    "tags": [],
    "cell_id": "00054-8c17f9c3-ce5f-420c-b451-33f28c8528ca",
    "deepnote_to_be_reexecuted": true,
    "source_hash": "d98e1330",
    "execution_start": 1641685422983,
    "execution_millis": 135897,
    "deepnote_cell_type": "code"
   },
   "source": "#define the model\nmodel = BinaryClassification(X_train.shape[1], 100)",
   "execution_count": null,
   "outputs": []
  },
  {
   "cell_type": "code",
   "metadata": {
    "tags": [],
    "cell_id": "00055-63698190-da41-4778-b07a-94baa60ad162",
    "deepnote_to_be_reexecuted": true,
    "source_hash": "e80a856e",
    "execution_start": 1641685422983,
    "execution_millis": 135850,
    "deepnote_cell_type": "code"
   },
   "source": "#define the loss function \nloss_function = nn.BCELoss()\n#define the optimizer\noptimizer = torch.optim.SGD(model.parameters(), lr=LEARNING_RATE, momentum=MOMENTUM, weight_decay=L2, dampening=DAMPENING, nesterov=NESTEROV)",
   "execution_count": null,
   "outputs": []
  },
  {
   "cell_type": "code",
   "metadata": {
    "tags": [],
    "cell_id": "00056-81872e56-d4ce-442e-9a4d-2d4713afb1a9",
    "deepnote_to_be_reexecuted": true,
    "source_hash": "166c5776",
    "execution_start": 1641685422984,
    "execution_millis": 1527,
    "deepnote_cell_type": "code"
   },
   "source": "#prepare empty lists to store accuracy and loss results\nlosses_train = []\naccuracies_train = []\nlosses_test = []\naccuracies_test = []\n\n#train and evaluate for each epoch\nfor epoch in range(1,EPOCHS+1): \n  model, losses_train, accuracies_train = TrainPhase(epoch, model, losses_train, accuracies_train, train_loader, loss_function, optimizer)\n  y_pred_test, losses_test, accuracies_test = Evaluate(epoch, model, losses_test, accuracies_test, test_loader, loss_function)\n  print(\"##############################\")\n",
   "execution_count": null,
   "outputs": [
    {
     "name": "stdout",
     "text": "TRAIN - Epoch 001: | Loss: 0.74443 | Acc: 52.500\nVALIDATION - Epoch 001: | Loss: 0.69534 | Acc: 51.143\n##############################\nTRAIN - Epoch 002: | Loss: 0.73440 | Acc: 56.000\nVALIDATION - Epoch 002: | Loss: 0.69594 | Acc: 51.143\n##############################\nTRAIN - Epoch 003: | Loss: 0.73739 | Acc: 54.500\nVALIDATION - Epoch 003: | Loss: 0.69625 | Acc: 51.143\n##############################\nTRAIN - Epoch 004: | Loss: 0.71134 | Acc: 55.500\nVALIDATION - Epoch 004: | Loss: 0.69526 | Acc: 51.143\n##############################\nTRAIN - Epoch 005: | Loss: 0.67105 | Acc: 57.000\nVALIDATION - Epoch 005: | Loss: 0.69503 | Acc: 51.143\n##############################\nTRAIN - Epoch 006: | Loss: 0.74109 | Acc: 54.000\nVALIDATION - Epoch 006: | Loss: 0.69519 | Acc: 51.143\n##############################\nTRAIN - Epoch 007: | Loss: 0.75658 | Acc: 47.500\nVALIDATION - Epoch 007: | Loss: 0.69526 | Acc: 51.143\n##############################\nTRAIN - Epoch 008: | Loss: 0.71097 | Acc: 57.000\nVALIDATION - Epoch 008: | Loss: 0.69533 | Acc: 51.143\n##############################\nTRAIN - Epoch 009: | Loss: 0.72953 | Acc: 52.500\nVALIDATION - Epoch 009: | Loss: 0.69529 | Acc: 51.143\n##############################\nTRAIN - Epoch 010: | Loss: 0.71506 | Acc: 52.500\nVALIDATION - Epoch 010: | Loss: 0.69534 | Acc: 51.143\n##############################\nTRAIN - Epoch 011: | Loss: 0.75716 | Acc: 48.500\nVALIDATION - Epoch 011: | Loss: 0.69525 | Acc: 51.143\n##############################\nTRAIN - Epoch 012: | Loss: 0.68634 | Acc: 55.000\nVALIDATION - Epoch 012: | Loss: 0.69526 | Acc: 51.143\n##############################\nTRAIN - Epoch 013: | Loss: 0.68309 | Acc: 54.500\nVALIDATION - Epoch 013: | Loss: 0.69522 | Acc: 51.143\n##############################\nTRAIN - Epoch 014: | Loss: 0.72350 | Acc: 51.500\nVALIDATION - Epoch 014: | Loss: 0.69518 | Acc: 51.143\n##############################\nTRAIN - Epoch 015: | Loss: 0.71216 | Acc: 50.000\nVALIDATION - Epoch 015: | Loss: 0.69532 | Acc: 51.143\n##############################\nTRAIN - Epoch 016: | Loss: 0.70579 | Acc: 53.000\nVALIDATION - Epoch 016: | Loss: 0.69529 | Acc: 51.143\n##############################\nTRAIN - Epoch 017: | Loss: 0.73861 | Acc: 52.500\nVALIDATION - Epoch 017: | Loss: 0.69528 | Acc: 51.143\n##############################\nTRAIN - Epoch 018: | Loss: 0.71776 | Acc: 48.000\nVALIDATION - Epoch 018: | Loss: 0.69538 | Acc: 51.143\n##############################\nTRAIN - Epoch 019: | Loss: 0.69775 | Acc: 49.500\nVALIDATION - Epoch 019: | Loss: 0.69542 | Acc: 51.143\n##############################\nTRAIN - Epoch 020: | Loss: 0.73370 | Acc: 50.000\nVALIDATION - Epoch 020: | Loss: 0.69528 | Acc: 51.143\n##############################\nTRAIN - Epoch 021: | Loss: 0.77349 | Acc: 50.000\nVALIDATION - Epoch 021: | Loss: 0.69530 | Acc: 51.143\n##############################\nTRAIN - Epoch 022: | Loss: 0.71282 | Acc: 51.500\nVALIDATION - Epoch 022: | Loss: 0.69525 | Acc: 51.143\n##############################\nTRAIN - Epoch 023: | Loss: 0.72770 | Acc: 53.000\nVALIDATION - Epoch 023: | Loss: 0.69521 | Acc: 51.143\n##############################\nTRAIN - Epoch 024: | Loss: 0.68299 | Acc: 58.000\nVALIDATION - Epoch 024: | Loss: 0.69517 | Acc: 51.143\n##############################\nTRAIN - Epoch 025: | Loss: 0.70326 | Acc: 56.000\nVALIDATION - Epoch 025: | Loss: 0.69530 | Acc: 51.143\n##############################\nTRAIN - Epoch 026: | Loss: 0.66754 | Acc: 55.500\nVALIDATION - Epoch 026: | Loss: 0.69535 | Acc: 51.143\n##############################\nTRAIN - Epoch 027: | Loss: 0.68755 | Acc: 55.500\nVALIDATION - Epoch 027: | Loss: 0.69536 | Acc: 51.143\n##############################\nTRAIN - Epoch 028: | Loss: 0.69383 | Acc: 54.000\nVALIDATION - Epoch 028: | Loss: 0.69536 | Acc: 51.143\n##############################\nTRAIN - Epoch 029: | Loss: 0.73393 | Acc: 50.000\nVALIDATION - Epoch 029: | Loss: 0.69537 | Acc: 51.143\n##############################\nTRAIN - Epoch 030: | Loss: 0.73882 | Acc: 53.000\nVALIDATION - Epoch 030: | Loss: 0.69533 | Acc: 51.143\n##############################\nTRAIN - Epoch 031: | Loss: 0.76115 | Acc: 49.500\nVALIDATION - Epoch 031: | Loss: 0.69542 | Acc: 51.143\n##############################\nTRAIN - Epoch 032: | Loss: 0.69345 | Acc: 57.000\nVALIDATION - Epoch 032: | Loss: 0.69531 | Acc: 51.143\n##############################\nTRAIN - Epoch 033: | Loss: 0.71208 | Acc: 49.000\nVALIDATION - Epoch 033: | Loss: 0.69537 | Acc: 51.143\n##############################\nTRAIN - Epoch 034: | Loss: 0.71077 | Acc: 57.000\nVALIDATION - Epoch 034: | Loss: 0.69537 | Acc: 51.143\n##############################\nTRAIN - Epoch 035: | Loss: 0.69172 | Acc: 56.500\nVALIDATION - Epoch 035: | Loss: 0.69535 | Acc: 51.143\n##############################\nTRAIN - Epoch 036: | Loss: 0.70050 | Acc: 54.000\nVALIDATION - Epoch 036: | Loss: 0.69542 | Acc: 51.143\n##############################\nTRAIN - Epoch 037: | Loss: 0.74451 | Acc: 53.500\nVALIDATION - Epoch 037: | Loss: 0.69539 | Acc: 51.143\n##############################\nTRAIN - Epoch 038: | Loss: 0.73182 | Acc: 50.000\nVALIDATION - Epoch 038: | Loss: 0.69544 | Acc: 51.143\n##############################\nTRAIN - Epoch 039: | Loss: 0.74035 | Acc: 47.000\nVALIDATION - Epoch 039: | Loss: 0.69543 | Acc: 51.143\n##############################\nTRAIN - Epoch 040: | Loss: 0.70087 | Acc: 55.500\nVALIDATION - Epoch 040: | Loss: 0.69537 | Acc: 51.143\n##############################\nTRAIN - Epoch 041: | Loss: 0.70677 | Acc: 56.500\nVALIDATION - Epoch 041: | Loss: 0.69524 | Acc: 51.143\n##############################\nTRAIN - Epoch 042: | Loss: 0.71620 | Acc: 50.500\nVALIDATION - Epoch 042: | Loss: 0.69535 | Acc: 51.143\n##############################\nTRAIN - Epoch 043: | Loss: 0.71756 | Acc: 54.500\nVALIDATION - Epoch 043: | Loss: 0.69526 | Acc: 51.143\n##############################\nTRAIN - Epoch 044: | Loss: 0.72500 | Acc: 54.500\nVALIDATION - Epoch 044: | Loss: 0.69546 | Acc: 51.143\n##############################\nTRAIN - Epoch 045: | Loss: 0.71791 | Acc: 50.000\nVALIDATION - Epoch 045: | Loss: 0.69540 | Acc: 51.143\n##############################\nTRAIN - Epoch 046: | Loss: 0.70855 | Acc: 56.500\nVALIDATION - Epoch 046: | Loss: 0.69533 | Acc: 51.143\n##############################\nTRAIN - Epoch 047: | Loss: 0.76289 | Acc: 47.500\nVALIDATION - Epoch 047: | Loss: 0.69534 | Acc: 51.143\n##############################\nTRAIN - Epoch 048: | Loss: 0.71856 | Acc: 53.500\nVALIDATION - Epoch 048: | Loss: 0.69537 | Acc: 51.143\n##############################\nTRAIN - Epoch 049: | Loss: 0.72449 | Acc: 54.500\nVALIDATION - Epoch 049: | Loss: 0.69540 | Acc: 51.143\n##############################\nTRAIN - Epoch 050: | Loss: 0.69383 | Acc: 51.000\nVALIDATION - Epoch 050: | Loss: 0.69538 | Acc: 51.143\n##############################\nTRAIN - Epoch 051: | Loss: 0.75126 | Acc: 46.000\nVALIDATION - Epoch 051: | Loss: 0.69550 | Acc: 51.143\n##############################\nTRAIN - Epoch 052: | Loss: 0.69761 | Acc: 54.000\nVALIDATION - Epoch 052: | Loss: 0.69533 | Acc: 51.143\n##############################\nTRAIN - Epoch 053: | Loss: 0.71763 | Acc: 57.000\nVALIDATION - Epoch 053: | Loss: 0.69533 | Acc: 51.143\n##############################\nTRAIN - Epoch 054: | Loss: 0.73765 | Acc: 50.500\nVALIDATION - Epoch 054: | Loss: 0.69534 | Acc: 51.143\n##############################\nTRAIN - Epoch 055: | Loss: 0.70273 | Acc: 54.500\nVALIDATION - Epoch 055: | Loss: 0.69525 | Acc: 51.143\n##############################\nTRAIN - Epoch 056: | Loss: 0.66717 | Acc: 56.000\nVALIDATION - Epoch 056: | Loss: 0.69531 | Acc: 51.143\n##############################\nTRAIN - Epoch 057: | Loss: 0.67282 | Acc: 58.500\nVALIDATION - Epoch 057: | Loss: 0.69533 | Acc: 51.143\n##############################\nTRAIN - Epoch 058: | Loss: 0.73601 | Acc: 50.500\nVALIDATION - Epoch 058: | Loss: 0.69538 | Acc: 51.143\n##############################\nTRAIN - Epoch 059: | Loss: 0.71051 | Acc: 51.000\nVALIDATION - Epoch 059: | Loss: 0.69546 | Acc: 51.143\n##############################\nTRAIN - Epoch 060: | Loss: 0.69465 | Acc: 53.000\nVALIDATION - Epoch 060: | Loss: 0.69548 | Acc: 51.143\n##############################\nTRAIN - Epoch 061: | Loss: 0.70486 | Acc: 50.500\nVALIDATION - Epoch 061: | Loss: 0.69539 | Acc: 51.143\n##############################\nTRAIN - Epoch 062: | Loss: 0.72252 | Acc: 50.500\nVALIDATION - Epoch 062: | Loss: 0.69532 | Acc: 51.143\n##############################\nTRAIN - Epoch 063: | Loss: 0.69964 | Acc: 52.500\nVALIDATION - Epoch 063: | Loss: 0.69545 | Acc: 51.143\n##############################\nTRAIN - Epoch 064: | Loss: 0.71388 | Acc: 55.500\nVALIDATION - Epoch 064: | Loss: 0.69544 | Acc: 51.143\n##############################\nTRAIN - Epoch 065: | Loss: 0.67804 | Acc: 55.500\nVALIDATION - Epoch 065: | Loss: 0.69546 | Acc: 51.143\n##############################\nTRAIN - Epoch 066: | Loss: 0.74718 | Acc: 52.000\nVALIDATION - Epoch 066: | Loss: 0.69537 | Acc: 51.143\n##############################\nTRAIN - Epoch 067: | Loss: 0.68560 | Acc: 55.000\nVALIDATION - Epoch 067: | Loss: 0.69540 | Acc: 51.143\n##############################\nTRAIN - Epoch 068: | Loss: 0.73240 | Acc: 50.500\nVALIDATION - Epoch 068: | Loss: 0.69546 | Acc: 51.143\n##############################\nTRAIN - Epoch 069: | Loss: 0.72997 | Acc: 49.000\nVALIDATION - Epoch 069: | Loss: 0.69535 | Acc: 51.143\n##############################\nTRAIN - Epoch 070: | Loss: 0.69841 | Acc: 55.000\nVALIDATION - Epoch 070: | Loss: 0.69544 | Acc: 51.143\n##############################\nTRAIN - Epoch 071: | Loss: 0.77573 | Acc: 49.000\nVALIDATION - Epoch 071: | Loss: 0.69542 | Acc: 51.143\n##############################\nTRAIN - Epoch 072: | Loss: 0.71341 | Acc: 54.500\nVALIDATION - Epoch 072: | Loss: 0.69541 | Acc: 51.143\n##############################\nTRAIN - Epoch 073: | Loss: 0.72486 | Acc: 52.500\nVALIDATION - Epoch 073: | Loss: 0.69543 | Acc: 51.143\n##############################\nTRAIN - Epoch 074: | Loss: 0.69978 | Acc: 51.000\nVALIDATION - Epoch 074: | Loss: 0.69528 | Acc: 51.143\n##############################\nTRAIN - Epoch 075: | Loss: 0.72730 | Acc: 51.500\nVALIDATION - Epoch 075: | Loss: 0.69535 | Acc: 51.143\n##############################\nTRAIN - Epoch 076: | Loss: 0.69086 | Acc: 51.500\nVALIDATION - Epoch 076: | Loss: 0.69544 | Acc: 51.143\n##############################\nTRAIN - Epoch 077: | Loss: 0.72407 | Acc: 56.000\nVALIDATION - Epoch 077: | Loss: 0.69537 | Acc: 51.143\n##############################\nTRAIN - Epoch 078: | Loss: 0.71482 | Acc: 51.000\nVALIDATION - Epoch 078: | Loss: 0.69535 | Acc: 51.143\n##############################\nTRAIN - Epoch 079: | Loss: 0.72399 | Acc: 54.500\nVALIDATION - Epoch 079: | Loss: 0.69539 | Acc: 51.143\n##############################\nTRAIN - Epoch 080: | Loss: 0.71770 | Acc: 49.500\nVALIDATION - Epoch 080: | Loss: 0.69539 | Acc: 51.143\n##############################\nTRAIN - Epoch 081: | Loss: 0.67792 | Acc: 55.000\nVALIDATION - Epoch 081: | Loss: 0.69537 | Acc: 51.143\n##############################\nTRAIN - Epoch 082: | Loss: 0.73394 | Acc: 52.500\nVALIDATION - Epoch 082: | Loss: 0.69539 | Acc: 51.143\n##############################\nTRAIN - Epoch 083: | Loss: 0.66061 | Acc: 59.000\nVALIDATION - Epoch 083: | Loss: 0.69546 | Acc: 51.143\n##############################\nTRAIN - Epoch 084: | Loss: 0.70090 | Acc: 52.500\nVALIDATION - Epoch 084: | Loss: 0.69543 | Acc: 51.143\n##############################\nTRAIN - Epoch 085: | Loss: 0.72766 | Acc: 48.000\nVALIDATION - Epoch 085: | Loss: 0.69555 | Acc: 51.143\n##############################\nTRAIN - Epoch 086: | Loss: 0.70358 | Acc: 51.500\nVALIDATION - Epoch 086: | Loss: 0.69543 | Acc: 51.143\n##############################\nTRAIN - Epoch 087: | Loss: 0.67929 | Acc: 58.500\nVALIDATION - Epoch 087: | Loss: 0.69543 | Acc: 51.143\n##############################\nTRAIN - Epoch 088: | Loss: 0.64869 | Acc: 57.500\nVALIDATION - Epoch 088: | Loss: 0.69545 | Acc: 51.143\n##############################\nTRAIN - Epoch 089: | Loss: 0.71721 | Acc: 51.500\nVALIDATION - Epoch 089: | Loss: 0.69542 | Acc: 51.143\n##############################\nTRAIN - Epoch 090: | Loss: 0.76492 | Acc: 50.500\nVALIDATION - Epoch 090: | Loss: 0.69529 | Acc: 51.143\n##############################\nTRAIN - Epoch 091: | Loss: 0.70361 | Acc: 51.500\nVALIDATION - Epoch 091: | Loss: 0.69528 | Acc: 51.143\n##############################\nTRAIN - Epoch 092: | Loss: 0.68939 | Acc: 53.000\nVALIDATION - Epoch 092: | Loss: 0.69532 | Acc: 51.143\n##############################\nTRAIN - Epoch 093: | Loss: 0.69533 | Acc: 53.500\nVALIDATION - Epoch 093: | Loss: 0.69541 | Acc: 51.143\n##############################\nTRAIN - Epoch 094: | Loss: 0.75602 | Acc: 50.000\nVALIDATION - Epoch 094: | Loss: 0.69530 | Acc: 51.143\n##############################\nTRAIN - Epoch 095: | Loss: 0.70749 | Acc: 52.500\nVALIDATION - Epoch 095: | Loss: 0.69535 | Acc: 51.143\n##############################\nTRAIN - Epoch 096: | Loss: 0.68414 | Acc: 54.500\nVALIDATION - Epoch 096: | Loss: 0.69533 | Acc: 51.143\n##############################\nTRAIN - Epoch 097: | Loss: 0.70506 | Acc: 56.500\nVALIDATION - Epoch 097: | Loss: 0.69544 | Acc: 51.143\n##############################\nTRAIN - Epoch 098: | Loss: 0.66871 | Acc: 56.000\nVALIDATION - Epoch 098: | Loss: 0.69549 | Acc: 51.143\n##############################\nTRAIN - Epoch 099: | Loss: 0.69277 | Acc: 53.000\nVALIDATION - Epoch 099: | Loss: 0.69549 | Acc: 51.143\n##############################\nTRAIN - Epoch 100: | Loss: 0.77118 | Acc: 49.500\nVALIDATION - Epoch 100: | Loss: 0.69550 | Acc: 51.143\n##############################\n",
     "output_type": "stream",
     "data": {}
    }
   ]
  },
  {
   "cell_type": "code",
   "metadata": {
    "tags": [],
    "cell_id": "00057-9c3474b8-4ecb-4856-8c3c-047d980fbad8",
    "deepnote_to_be_reexecuted": true,
    "source_hash": "671b8c03",
    "execution_start": 1641685424515,
    "execution_millis": 9,
    "deepnote_cell_type": "code"
   },
   "source": "#control the accuracy between true and predict values on test data\ny_true_test = y_test.values.ravel()\nprint(classification_report(y_true_test, y_pred_test))",
   "execution_count": null,
   "outputs": [
    {
     "name": "stdout",
     "text": "              precision    recall  f1-score   support\n\n           0       0.00      0.00      0.00       204\n           1       0.53      1.00      0.69       228\n\n    accuracy                           0.53       432\n   macro avg       0.26      0.50      0.35       432\nweighted avg       0.28      0.53      0.36       432\n\n",
     "output_type": "stream",
     "data": {}
    }
   ]
  },
  {
   "cell_type": "code",
   "metadata": {
    "tags": [],
    "cell_id": "00058-78764b02-9d16-4b03-8c8c-def5619ac1a9",
    "deepnote_to_be_reexecuted": true,
    "source_hash": "bf15212c",
    "execution_start": 1641685424539,
    "execution_millis": 291,
    "deepnote_output_heights": [
     498
    ],
    "deepnote_cell_type": "code"
   },
   "source": "plt.plot(losses_train,'-')\nplt.plot(losses_test,'-.')\nplt.xlabel('Epochs')\nplt.ylabel('Loss')\nplt.legend(['Train','Test'])\nplt.title('Train vs Test Losses')\n \nplt.show()",
   "execution_count": null,
   "outputs": [
    {
     "data": {
      "text/plain": "<Figure size 720x576 with 1 Axes>",
      "image/png": "[encoded data removed]"
     },
     "metadata": {
      "needs_background": "light",
      "image/png": {
       "width": 615,
       "height": 496
      }
     },
     "output_type": "display_data"
    }
   ]
  },
  {
   "cell_type": "code",
   "metadata": {
    "tags": [],
    "cell_id": "00059-d806e608-4161-4a62-87a1-b94dd94ca3d9",
    "deepnote_to_be_reexecuted": true,
    "source_hash": "4f7d8f58",
    "execution_start": 1641685424839,
    "execution_millis": 253,
    "deepnote_output_heights": [
     498
    ],
    "deepnote_cell_type": "code"
   },
   "source": "#create an accuracy plot\nplt.plot(accuracies_train,'-')\nplt.plot(accuracies_test,'-.')\nplt.xlabel('Epochs')\nplt.ylabel('Accuracy')\nplt.legend(['Train','Test'])\nplt.title('Train vs Test Accuracy')\n \nplt.show()",
   "execution_count": null,
   "outputs": [
    {
     "data": {
      "text/plain": "<Figure size 720x576 with 1 Axes>",
      "image/png": "[encoded data removed]"
     },
     "metadata": {
      "needs_background": "light",
      "image/png": {
       "width": 615,
       "height": 496
      }
     },
     "output_type": "display_data"
    }
   ]
  },
  {
   "cell_type": "markdown",
   "source": "## Defining model for regression task",
   "metadata": {
    "tags": [],
    "cell_id": "00064-add03f45-83e3-45cc-aa20-398093837579",
    "deepnote_cell_type": "markdown"
   }
  },
  {
   "cell_type": "code",
   "metadata": {
    "tags": [],
    "cell_id": "00065-41274349-97d0-4115-9b44-c9fcdb87fec5",
    "deepnote_to_be_reexecuted": true,
    "source_hash": "3afbb4cb",
    "execution_start": 1641685425093,
    "execution_millis": 6,
    "deepnote_cell_type": "code"
   },
   "source": "def mee(true_target, predicted_target): #assuming target is 2-dim matrix with x and y as columns\n    l = true_target.shape[0]\n    res = 0\n    \n    for p in range(l): #for p-th pattern in l (number of samples)\n        x_diff = np.square(true_target[p,0] - predicted_target[p,0]) #difference between the x value of the true and predicted target\n        y_diff = np.square(true_target[p,1] - predicted_target[p,1]) #difference between the y values of true and predicted target\n        sum_term = x_diff + y_diff\n        res = res + np.sqrt(sum_term)\n    res = res / l\n    \n    #return np.average([np.sqrt(np.square(true_target[p,0] - predicted_target[p,0]) + np.square(true_target[p,1] - predicted_target[p,1])) for p in range(l)]) #compact form\n    return res",
   "execution_count": null,
   "outputs": []
  },
  {
   "cell_type": "code",
   "metadata": {
    "tags": [],
    "cell_id": "00065-692a711a-d9b5-4482-b4aa-dce0c33f1d40",
    "deepnote_to_be_reexecuted": true,
    "source_hash": "77cfaef3",
    "execution_start": 1641685425101,
    "execution_millis": 1,
    "deepnote_cell_type": "code"
   },
   "source": "from sklearn.preprocessing import StandardScaler\n\nclass MultiOutputDataset(Dataset):\n    def __init__(self, X, y1, y2, scale_data=True):\n        #self.X = X\n        #self.y1 = y1\n        #self.y2 = y2\n        if not torch.is_tensor(X) and not torch.is_tensor(y):\n            # Apply scaling if necessary\n            if scale_data:\n                X = StandardScaler().fit_transform(X)\n                self.X = torch.from_numpy(X).float()\n                y1 = torch.from_numpy(y1).float()\n                y2 = torch.from_numpy(y2).float()\n                self.y1 = y1.unsqueeze(1)\n                self.y2 = y2.unsqueeze(1)\n        \n    def __len__(self):\n        return len(self.X)\n    \n    def __getitem__(self, idx):\n        return self.X[idx], self.y1[idx], self.y2[idx]",
   "execution_count": null,
   "outputs": []
  },
  {
   "cell_type": "code",
   "metadata": {
    "tags": [],
    "cell_id": "00064-330190a4-7a63-47b3-87cb-ffda998254ea",
    "deepnote_to_be_reexecuted": true,
    "source_hash": "7344267f",
    "execution_start": 1641685425109,
    "execution_millis": 3,
    "deepnote_cell_type": "code"
   },
   "source": "#define a neural network\nclass RegressionNet(nn.Module):\n    def __init__(self, n_input, n_hidden1, n_hidden2, n_output):\n        super(RegressionNet, self).__init__()\n        self.layer_in = nn.Linear(n_input, n_hidden1)\n        self.layer_1 = nn.Linear(n_hidden1, n_hidden2) \n        self.last_fc = nn.Linear(n_hidden2, 1)\n        #self.layer_out = nn.Linear(n_hidden2, n_output) \n        \n        self.relu = nn.ReLU(inplace=True)\n        self.sigmoid =  nn.Sigmoid()\n        self.dropout = nn.Dropout(p=0.5)\n        self.batchnorm1 = nn.BatchNorm1d(n_hidden1)\n        self.batchnorm2 = nn.BatchNorm1d(n_hidden2)\n\n    def forward(self, inputs):\n        x = self.relu(self.layer_in(inputs))\n        x = self.batchnorm1(x)\n        x = self.relu(self.layer_1(x))\n        x = self.batchnorm2(x)\n        x = self.dropout(x)\n\n        out1 = self.last_fc(x)\n        x2 = self.last_fc(x)\n        #x = self.layer_out(x)\n        #x = self.sigmoid(self.layer_out(x))\n        out2 = self.sigmoid(nn.ReLU()(x2))\n        \n        #return x\n        return out1, out2",
   "execution_count": null,
   "outputs": []
  },
  {
   "cell_type": "code",
   "metadata": {
    "tags": [],
    "cell_id": "00006-c17f7883-4cbb-46c4-a640-27e7f2ebf598",
    "deepnote_to_be_reexecuted": true,
    "source_hash": "467f25a2",
    "deepnote_output_heights": [
     78.796875
    ],
    "allow_embed": false,
    "execution_start": 1641685425117,
    "execution_millis": 30,
    "deepnote_cell_type": "code"
   },
   "source": "#function to define the train phase\ndef TrainPhase_Cup(epochs, model, aggregated_losses, aggregated_accuracy, data_train, loss1, loss2, optimizer):\n    model.train()\n    i = epochs\n\n    epoch_loss = 0\n    epoch_acc = 0\n    \n    for X_batch, y_batch1, y_batch2 in data_train:\n        X_batch, y_batch1, y_batch2 = X_batch.to(device), y_batch1.to(device), y_batch2.to(device)\n        optimizer.zero_grad()\n       \n        #y_pred = model(X_batch)\n        y_pred1, y_pred2 = model(X_batch)\n        \n        #single_loss = loss(y_pred, y_batch)\n        single_loss1 = loss1(y_pred1, y_batch1)\n        single_loss2 = loss2(y_pred2, y_batch2)\n        single_loss = torch.add(single_loss1, single_loss2)\n\n        #acc = binary_acc(y_pred, y_batch)\n        acc = 0\n             \n        single_loss.backward()\n        optimizer.step()\n        \n        epoch_loss += single_loss.item()*X_batch.size(0)\n        #epoch_acc += acc.item()\n        \n    aggregated_losses.append(epoch_loss/len(data_train))\n    aggregated_accuracy.append((epoch_acc/len(data_train))/100)\n    print(f'TRAIN - Epoch {i+0:03}: | Loss: {epoch_loss/len(data_train):.5f} | Acc: {epoch_acc/len(data_train):.3f}')\n\n    #aggregated_losses.append(single_loss.item())\n    #aggregated_accuracy.append(acc/100)\n    #print(f'TRAIN - Epoch {i+0:03}: | Loss: {single_loss.item():.5f} | Acc: {acc:.3f}')\n    \n    return model, aggregated_losses, aggregated_accuracy",
   "execution_count": null,
   "outputs": []
  },
  {
   "cell_type": "code",
   "metadata": {
    "tags": [],
    "cell_id": "00007-71361c5c-030e-453b-9491-aadacd2ffb02",
    "deepnote_to_be_reexecuted": true,
    "source_hash": "84eb46a2",
    "deepnote_output_heights": [
     78.796875
    ],
    "allow_embed": false,
    "execution_start": 1641685425148,
    "execution_millis": 0,
    "deepnote_cell_type": "code"
   },
   "source": "#function to define the evaluate phase\ndef Evaluate_Cup(epochs, model, aggregated_losses, aggregated_accuracy, data_test, loss_f1, loss_f2):\n    \n    i = epochs\n    y_pred_list = []\n    model.eval()\n        \n    epoch_loss = 0\n    epoch_acc = 0\n\n    with torch.no_grad():\n        for X_batch, y_batch1, y_batch2 in data_test:\n            X_batch, y_batch1, y_batch2 = X_batch.to(device), y_batch1.to(device). y_batch2.to(device)\n\n            #y_test_pred = model(X_batch)\n            y_pred1, y_pred2 = model(X_batch)\n\n            #loss = loss_f(y_test_pred, y_batch)\n            loss1 = loss_f1(y_pred1, y_batch1)\n            loss2 = loss_f2(y_pred2, y_batch2)\n            loss = torch.add(loss1, loss2)\n            \n            #acc = binary_acc(y_test_pred, y_batch)\n            acc = 0\n                \n            #epoch_loss += loss.item()\n            epoch_loss += loss.item()*X_batch.size(0)\n            #epoch_acc += acc.item()\n\n            #y_test_pred = torch.sigmoid(y_test_pred)\n            #y_pred_tag = torch.round(y_test_pred)\n            #y_pred_list.append(y_pred_tag.detach().numpy())\n\n    #y_pred_list = [a.squeeze().tolist() for a in y_pred_list]\n    #flattens the lists in sequence\n    #ytest_pred = list(itertools.chain.from_iterable(y_pred_list))\n\n    aggregated_losses.append(epoch_loss/len(data_test))\n    aggregated_accuracy.append((epoch_acc/len(data_test))/100)\n    #print(f'TEST - Epoch {i+0:03}: | Loss: {epoch_loss/len(data_test):.5f} | Acc: {epoch_acc/len(data_test):.3f}')\n    print(f'VALIDATION - Epoch {i+0:03}: | Loss: {epoch_loss/len(data_test):.5f} | Acc: {epoch_acc/len(data_test):.3f}')\n\n    #aggregated_losses.append(loss.item())\n    #aggregated_accuracy.append(acc/100)\n    #print(f'VALIDATION - Epoch {i+0:03}: | Loss: {loss.item():.5f} | Acc: {acc:.3f}')\n    \n    return aggregated_losses, aggregated_accuracy\n    ",
   "execution_count": null,
   "outputs": []
  },
  {
   "cell_type": "markdown",
   "source": "## ML-Cup dataset",
   "metadata": {
    "tags": [],
    "cell_id": "00064-8f412851-229b-43fa-9fbe-b53e7ee9d525",
    "deepnote_cell_type": "markdown"
   }
  },
  {
   "cell_type": "markdown",
   "source": "### Loading the training and blind test dataset",
   "metadata": {
    "tags": [],
    "cell_id": "00066-ede8a63d-a700-4a7e-b6af-4cddab2e388a",
    "deepnote_cell_type": "markdown"
   }
  },
  {
   "cell_type": "code",
   "metadata": {
    "tags": [],
    "cell_id": "00065-463d3967-b915-4c16-af59-3e013c0f9f2d",
    "deepnote_to_be_reexecuted": true,
    "source_hash": "6cfa231b",
    "execution_start": 1641685425149,
    "execution_millis": 0,
    "deepnote_cell_type": "code"
   },
   "source": "df_visual = pd.read_csv('./data/ML-CUP21-TR.csv', usecols=[11,12], names=['idx','f1','f2','f3','f4','f5','f6','f7','f8','f9','f10', 'x','y'])\ndf_task_tr = pd.read_csv('./data/ML-CUP21-TR.csv', names=['idx','f1','f2','f3','f4','f5','f6','f7','f8','f9','f10', 'x','y'])\ndf_task_tr = df_task_tr[7:] # remove first 7 rows of comments\ndf_visual = df_visual[7:]\n\ndf_blind_ts = pd.read_csv('./data/ML-CUP21-TS.csv', names=['idx','f1','f2','f3','f4','f5','f6','f7','f8','f9','f10'])\ndf_blind_ts = df_blind_ts[7:]\ndf_blind_ts.drop(labels=\"idx\", axis=1, inplace=True)\n#blind_ts = df_blind_ts.values",
   "execution_count": null,
   "outputs": []
  },
  {
   "cell_type": "code",
   "metadata": {
    "tags": [],
    "cell_id": "00067-16357b97-03be-4f4c-8c52-1ed9c92021f8",
    "deepnote_to_be_reexecuted": true,
    "source_hash": "192dcf",
    "execution_start": 1641685425152,
    "execution_millis": 0,
    "deepnote_cell_type": "code"
   },
   "source": "df_task_tr.drop(labels=\"idx\", axis=1, inplace=True)",
   "execution_count": null,
   "outputs": []
  },
  {
   "cell_type": "code",
   "metadata": {
    "tags": [],
    "cell_id": "00068-881ff4a9-fed1-4062-8c31-1376b6a90c75",
    "deepnote_to_be_reexecuted": true,
    "source_hash": "3deb8984",
    "execution_start": 1641685425158,
    "execution_millis": 3,
    "deepnote_cell_type": "code"
   },
   "source": "y = df_task_tr[['x','y']]\nX = df_task_tr.drop(labels=['x','y'], axis=1)\nX_test = df_blind_ts\n\nprint(y.shape)",
   "execution_count": null,
   "outputs": [
    {
     "name": "stdout",
     "text": "(1477, 2)\n",
     "output_type": "stream",
     "data": {}
    }
   ]
  },
  {
   "cell_type": "markdown",
   "source": "### Internal Test set\nWe split the training set obtaining an internal test set composed of the 20% of the training set, we will use this internal test set to test the generalization error",
   "metadata": {
    "tags": [],
    "cell_id": "00069-49a89f14-96df-40ac-82a5-ca980b9166b0",
    "deepnote_to_be_reexecuted": false,
    "source_hash": "192ce9ee",
    "execution_start": 1640859056745,
    "execution_millis": 8,
    "deepnote_cell_type": "markdown"
   }
  },
  {
   "cell_type": "code",
   "metadata": {
    "tags": [],
    "cell_id": "00070-6b05c6e5-568e-47cc-9e6a-9762ce8c7d38",
    "deepnote_to_be_reexecuted": true,
    "source_hash": "1a0e1af1",
    "execution_start": 1641685425183,
    "execution_millis": 3,
    "deepnote_output_heights": [
     597.1875
    ],
    "deepnote_cell_type": "code"
   },
   "source": "#prepare validation set\nX_train, X_validation, y_train, y_validation = train_test_split(X, y, test_size=0.1, random_state=420)\nprint(f\"X shape: {X_train.shape}\")\nprint(f\"X validation shape: {X_validation.shape}\")\nprint(f\"y shape: {y_train.shape}\")\nprint(f\"y validation shape: {y_validation.shape}\")",
   "execution_count": null,
   "outputs": [
    {
     "name": "stdout",
     "text": "X shape: (1329, 10)\nX validation shape: (148, 10)\ny shape: (1329, 2)\ny validation shape: (148, 2)\n",
     "output_type": "stream",
     "data": {}
    }
   ]
  },
  {
   "cell_type": "code",
   "metadata": {
    "tags": [],
    "cell_id": "00076-dc65ff05-f39b-41a6-b617-e9839384342e",
    "deepnote_to_be_reexecuted": true,
    "source_hash": "5054aba7",
    "execution_start": 1641685425184,
    "execution_millis": 3,
    "deepnote_cell_type": "code"
   },
   "source": "y1_train = y_train[['x']]\ny2_train = y_train[['y']]\n\ny1_validation = y_validation[['x']]\ny2_validation = y_validation[['y']]\n\nprint(f\"First output train shape: {y1_train.shape}\")\nprint(f\"Second output train shape: {y2_train.shape}\")\n\nprint(f\"First output validation shape: {y1_validation.shape}\")\nprint(f\"Second output validation shape: {y2_validation.shape}\")",
   "execution_count": null,
   "outputs": [
    {
     "name": "stdout",
     "text": "First output train shape: (1329, 1)\nSecond output train shape: (1329, 1)\nFirst output validation shape: (148, 1)\nSecond output validation shape: (148, 1)\n",
     "output_type": "stream",
     "data": {}
    }
   ]
  },
  {
   "cell_type": "code",
   "metadata": {
    "tags": [],
    "cell_id": "00070-bec68122-9bb0-4b8a-8b72-e2171a1f91a4",
    "deepnote_to_be_reexecuted": true,
    "source_hash": "3aa1cbbd",
    "execution_start": 1641685425184,
    "execution_millis": 2,
    "deepnote_cell_type": "code"
   },
   "source": "#create tensor for train and test data \nX_train = X_train.values #returns a ndarray\nX_test = X_test.values\nX_validation = X_validation.values\n\n#x_tensor =  torch.from_numpy(X_train).float()\n#y1_tensor =  torch.from_numpy(y1_train.values).float()\n#y2_tensor =  torch.from_numpy(y2_train.values).float()\n#xval_tensor =  torch.from_numpy(X_validation).float()\n#yval1_tensor =  torch.from_numpy(y1_validation.values).float()\n#yval2_tensor =  torch.from_numpy(y2_validation.values).float()\n\nxtest_tensor =  torch.from_numpy(X_test).float()\n#ytest_tensor =  torch.from_numpy(y_test.values).float()",
   "execution_count": null,
   "outputs": []
  },
  {
   "cell_type": "code",
   "metadata": {
    "tags": [],
    "cell_id": "00072-b8c93b50-4529-4093-83ba-f495bac56d58",
    "deepnote_to_be_reexecuted": true,
    "source_hash": "d041b6ab",
    "execution_start": 1641685425188,
    "execution_millis": 6,
    "deepnote_output_heights": [
     null,
     309.1875
    ],
    "deepnote_cell_type": "code"
   },
   "source": "#prepare dataloader for training\n#y1_tensor = y1_tensor.unsqueeze(1)\n#y2_tensor = y2_tensor.unsqueeze(1)\n\nprint(x_tensor.shape)\n#print(yval1_tensor.shape)\n#print(yval2_tensor.shape)\n\n#train_ds = TensorDataset(x_tensor, y_tensor)\ntrain_ds = MultiOutputDataset(X_train, y1_train.values, y2_train.values)\ntrain_loader = DataLoader(train_ds, batch_size=BATCH_SIZE, shuffle=True)",
   "execution_count": null,
   "outputs": [
    {
     "name": "stdout",
     "text": "torch.Size([122, 6])\n",
     "output_type": "stream",
     "data": {}
    }
   ]
  },
  {
   "cell_type": "code",
   "metadata": {
    "tags": [],
    "cell_id": "00073-f22280d1-f815-4ee5-b663-90560af04611",
    "deepnote_to_be_reexecuted": true,
    "source_hash": "ddd9fe78",
    "execution_start": 1641685425209,
    "execution_millis": 0,
    "deepnote_output_heights": [
     309.1875
    ],
    "deepnote_cell_type": "code"
   },
   "source": "#prepare dataloader for validation \n#yval1_tensor = yval1_tensor.unsqueeze(1)\n#yval2_tensor = yval2_tensor.unsqueeze(1)\n\n#val_ds = TensorDataset(xval_tensor, yval_tensor)\nval_ds = MultiOutputDataset(xval_tensor, y1_validation.values, y2_validation.values)\nval_loader = DataLoader(val_ds, batch_size=BATCH_SIZE, shuffle=False)",
   "execution_count": null,
   "outputs": []
  },
  {
   "cell_type": "code",
   "metadata": {
    "tags": [],
    "cell_id": "00074-5e70281b-f56c-46b6-9daa-76714cc6381b",
    "deepnote_to_be_reexecuted": true,
    "source_hash": "4e1abf36",
    "execution_start": 1641685425210,
    "execution_millis": 0,
    "deepnote_cell_type": "code"
   },
   "source": "#prepare dataloader for evaluating \nytest_tensor = ytest_tensor.unsqueeze(1)\ntest_ds = TensorDataset(xtest_tensor)\ntest_loader = DataLoader(test_ds, batch_size=1, shuffle=False)",
   "execution_count": null,
   "outputs": []
  },
  {
   "cell_type": "markdown",
   "source": "### Training and evaluate",
   "metadata": {
    "tags": [],
    "cell_id": "00076-f865e5ac-6559-424c-aa18-88937f98f068",
    "deepnote_cell_type": "markdown"
   }
  },
  {
   "cell_type": "code",
   "metadata": {
    "tags": [],
    "cell_id": "00075-6ba97549-8809-4d2c-b9e7-2323350188d5",
    "deepnote_to_be_reexecuted": true,
    "source_hash": "fd0f26b6",
    "execution_start": 1641685425210,
    "execution_millis": 4,
    "deepnote_output_heights": [
     309.1875
    ],
    "deepnote_cell_type": "code"
   },
   "source": "#define the model\nmodel = RegressionNet(X_train.shape[1], 100, 50, 2)\nmodel.to(device)\nprint(model)",
   "execution_count": null,
   "outputs": [
    {
     "name": "stdout",
     "text": "RegressionNet(\n  (layer_in): Linear(in_features=10, out_features=100, bias=True)\n  (layer_1): Linear(in_features=100, out_features=50, bias=True)\n  (last_fc): Linear(in_features=50, out_features=1, bias=True)\n  (relu): ReLU(inplace=True)\n  (sigmoid): Sigmoid()\n  (dropout): Dropout(p=0.5, inplace=False)\n  (batchnorm1): BatchNorm1d(100, eps=1e-05, momentum=0.1, affine=True, track_running_stats=True)\n  (batchnorm2): BatchNorm1d(50, eps=1e-05, momentum=0.1, affine=True, track_running_stats=True)\n)\n",
     "output_type": "stream",
     "data": {}
    }
   ]
  },
  {
   "cell_type": "code",
   "metadata": {
    "tags": [],
    "cell_id": "00079-20f052a8-3127-494c-86ae-21595607aaec",
    "deepnote_to_be_reexecuted": true,
    "source_hash": "8930b113",
    "execution_start": 1641685425215,
    "execution_millis": 1,
    "deepnote_cell_type": "code"
   },
   "source": "#define the loss function \nloss_function1 = nn.MSELoss(reduction='mean')\nloss_function2 = nn.MSELoss(reduction='mean')\n#define the optimizer\n#optimizer = torch.optim.SGD(model.parameters(), lr=LEARNING_RATE, momentum=MOMENTUM, weight_decay=L2, dampening=DAMPENING, nesterov=NESTEROV)\noptimizer = torch.optim.Adam(model.parameters(), lr=LEARNING_RATE)",
   "execution_count": null,
   "outputs": []
  },
  {
   "cell_type": "code",
   "metadata": {
    "tags": [],
    "cell_id": "00080-47553de8-36ca-40fc-8164-ef3f345bac7a",
    "deepnote_to_be_reexecuted": true,
    "source_hash": "e86db83f",
    "execution_start": 1641685425219,
    "execution_millis": 285,
    "deepnote_output_heights": [
     null,
     606.1875
    ],
    "deepnote_cell_type": "code"
   },
   "source": "#prepare empty lists to store accuracy and loss results\nlosses_train = []\naccuracies_train = []\nlosses_test = []\naccuracies_test = []\n\n#train and evaluate for each epoch\nfor epoch in range(1,EPOCHS+1): \n  # Early stopping\n  last_loss = 1\n  patience = 2\n  trigger_times = 0\n\n  model, losses_train, accuracies_train = TrainPhase_Cup(epoch, model, losses_train, accuracies_train, train_loader, loss_function1, loss_function2, optimizer)\n  #y_pred_test, losses_test, accuracies_test = Evaluate(epoch, model, losses_test, accuracies_test, test_loader, loss_function)\n  losses_test, accuracies_test = Evaluate_Cup(epoch, model, losses_test, accuracies_test, val_loader, loss_function1, loss_function2)\n\n  # Early stopping\n  if losses_test[epoch - 1] > last_loss:\n      trigger_times += 1\n\n      if trigger_times >= patience:\n          print('Early stopping!\\nStart to test process.')\n          break\n  else:\n      trigger_times = 0\n  \n  print(\"##############################\")",
   "execution_count": null,
   "outputs": [
    {
     "name": "stdout",
     "text": "TRAIN - Epoch 001: | Loss: 31306.32247 | Acc: 0.000\n",
     "output_type": "stream",
     "data": {}
    },
    {
     "output_type": "error",
     "ename": "AttributeError",
     "evalue": "",
     "traceback": [
      "\u001b[0;31m---------------------------------------------------------------------------\u001b[0m",
      "\u001b[0;31mAttributeError\u001b[0m                            Traceback (most recent call last)",
      "\u001b[0;32m<ipython-input-77-942cd341ab12>\u001b[0m in \u001b[0;36m<module>\u001b[0;34m\u001b[0m\n\u001b[1;32m     14\u001b[0m   \u001b[0mmodel\u001b[0m\u001b[0;34m,\u001b[0m \u001b[0mlosses_train\u001b[0m\u001b[0;34m,\u001b[0m \u001b[0maccuracies_train\u001b[0m \u001b[0;34m=\u001b[0m \u001b[0mTrainPhase_Cup\u001b[0m\u001b[0;34m(\u001b[0m\u001b[0mepoch\u001b[0m\u001b[0;34m,\u001b[0m \u001b[0mmodel\u001b[0m\u001b[0;34m,\u001b[0m \u001b[0mlosses_train\u001b[0m\u001b[0;34m,\u001b[0m \u001b[0maccuracies_train\u001b[0m\u001b[0;34m,\u001b[0m \u001b[0mtrain_loader\u001b[0m\u001b[0;34m,\u001b[0m \u001b[0mloss_function1\u001b[0m\u001b[0;34m,\u001b[0m \u001b[0mloss_function2\u001b[0m\u001b[0;34m,\u001b[0m \u001b[0moptimizer\u001b[0m\u001b[0;34m)\u001b[0m\u001b[0;34m\u001b[0m\u001b[0;34m\u001b[0m\u001b[0m\n\u001b[1;32m     15\u001b[0m   \u001b[0;31m#y_pred_test, losses_test, accuracies_test = Evaluate(epoch, model, losses_test, accuracies_test, test_loader, loss_function)\u001b[0m\u001b[0;34m\u001b[0m\u001b[0;34m\u001b[0m\u001b[0;34m\u001b[0m\u001b[0m\n\u001b[0;32m---> 16\u001b[0;31m   \u001b[0mlosses_test\u001b[0m\u001b[0;34m,\u001b[0m \u001b[0maccuracies_test\u001b[0m \u001b[0;34m=\u001b[0m \u001b[0mEvaluate_Cup\u001b[0m\u001b[0;34m(\u001b[0m\u001b[0mepoch\u001b[0m\u001b[0;34m,\u001b[0m \u001b[0mmodel\u001b[0m\u001b[0;34m,\u001b[0m \u001b[0mlosses_test\u001b[0m\u001b[0;34m,\u001b[0m \u001b[0maccuracies_test\u001b[0m\u001b[0;34m,\u001b[0m \u001b[0mval_loader\u001b[0m\u001b[0;34m,\u001b[0m \u001b[0mloss_function1\u001b[0m\u001b[0;34m,\u001b[0m \u001b[0mloss_function2\u001b[0m\u001b[0;34m)\u001b[0m\u001b[0;34m\u001b[0m\u001b[0;34m\u001b[0m\u001b[0m\n\u001b[0m\u001b[1;32m     17\u001b[0m \u001b[0;34m\u001b[0m\u001b[0m\n\u001b[1;32m     18\u001b[0m   \u001b[0;31m# Early stopping\u001b[0m\u001b[0;34m\u001b[0m\u001b[0;34m\u001b[0m\u001b[0;34m\u001b[0m\u001b[0m\n",
      "\u001b[0;32m<ipython-input-65-4750bf51ae20>\u001b[0m in \u001b[0;36mEvaluate_Cup\u001b[0;34m(epochs, model, aggregated_losses, aggregated_accuracy, data_test, loss_f1, loss_f2)\u001b[0m\n\u001b[1;32m     10\u001b[0m \u001b[0;34m\u001b[0m\u001b[0m\n\u001b[1;32m     11\u001b[0m     \u001b[0;32mwith\u001b[0m \u001b[0mtorch\u001b[0m\u001b[0;34m.\u001b[0m\u001b[0mno_grad\u001b[0m\u001b[0;34m(\u001b[0m\u001b[0;34m)\u001b[0m\u001b[0;34m:\u001b[0m\u001b[0;34m\u001b[0m\u001b[0;34m\u001b[0m\u001b[0m\n\u001b[0;32m---> 12\u001b[0;31m         \u001b[0;32mfor\u001b[0m \u001b[0mX_batch\u001b[0m\u001b[0;34m,\u001b[0m \u001b[0my_batch1\u001b[0m\u001b[0;34m,\u001b[0m \u001b[0my_batch2\u001b[0m \u001b[0;32min\u001b[0m \u001b[0mdata_test\u001b[0m\u001b[0;34m:\u001b[0m\u001b[0;34m\u001b[0m\u001b[0;34m\u001b[0m\u001b[0m\n\u001b[0m\u001b[1;32m     13\u001b[0m             \u001b[0mX_batch\u001b[0m\u001b[0;34m,\u001b[0m \u001b[0my_batch1\u001b[0m\u001b[0;34m,\u001b[0m \u001b[0my_batch2\u001b[0m \u001b[0;34m=\u001b[0m \u001b[0mX_batch\u001b[0m\u001b[0;34m.\u001b[0m\u001b[0mto\u001b[0m\u001b[0;34m(\u001b[0m\u001b[0mdevice\u001b[0m\u001b[0;34m)\u001b[0m\u001b[0;34m,\u001b[0m \u001b[0my_batch1\u001b[0m\u001b[0;34m.\u001b[0m\u001b[0mto\u001b[0m\u001b[0;34m(\u001b[0m\u001b[0mdevice\u001b[0m\u001b[0;34m)\u001b[0m\u001b[0;34m.\u001b[0m \u001b[0my_batch2\u001b[0m\u001b[0;34m.\u001b[0m\u001b[0mto\u001b[0m\u001b[0;34m(\u001b[0m\u001b[0mdevice\u001b[0m\u001b[0;34m)\u001b[0m\u001b[0;34m\u001b[0m\u001b[0;34m\u001b[0m\u001b[0m\n\u001b[1;32m     14\u001b[0m \u001b[0;34m\u001b[0m\u001b[0m\n",
      "\u001b[0;32m/shared-libs/python3.7/py/lib/python3.7/site-packages/torch/utils/data/dataloader.py\u001b[0m in \u001b[0;36m__next__\u001b[0;34m(self)\u001b[0m\n\u001b[1;32m    519\u001b[0m             \u001b[0;32mif\u001b[0m \u001b[0mself\u001b[0m\u001b[0;34m.\u001b[0m\u001b[0m_sampler_iter\u001b[0m \u001b[0;32mis\u001b[0m \u001b[0;32mNone\u001b[0m\u001b[0;34m:\u001b[0m\u001b[0;34m\u001b[0m\u001b[0;34m\u001b[0m\u001b[0m\n\u001b[1;32m    520\u001b[0m                 \u001b[0mself\u001b[0m\u001b[0;34m.\u001b[0m\u001b[0m_reset\u001b[0m\u001b[0;34m(\u001b[0m\u001b[0;34m)\u001b[0m\u001b[0;34m\u001b[0m\u001b[0;34m\u001b[0m\u001b[0m\n\u001b[0;32m--> 521\u001b[0;31m             \u001b[0mdata\u001b[0m \u001b[0;34m=\u001b[0m \u001b[0mself\u001b[0m\u001b[0;34m.\u001b[0m\u001b[0m_next_data\u001b[0m\u001b[0;34m(\u001b[0m\u001b[0;34m)\u001b[0m\u001b[0;34m\u001b[0m\u001b[0;34m\u001b[0m\u001b[0m\n\u001b[0m\u001b[1;32m    522\u001b[0m             \u001b[0mself\u001b[0m\u001b[0;34m.\u001b[0m\u001b[0m_num_yielded\u001b[0m \u001b[0;34m+=\u001b[0m \u001b[0;36m1\u001b[0m\u001b[0;34m\u001b[0m\u001b[0;34m\u001b[0m\u001b[0m\n\u001b[1;32m    523\u001b[0m             \u001b[0;32mif\u001b[0m \u001b[0mself\u001b[0m\u001b[0;34m.\u001b[0m\u001b[0m_dataset_kind\u001b[0m \u001b[0;34m==\u001b[0m \u001b[0m_DatasetKind\u001b[0m\u001b[0;34m.\u001b[0m\u001b[0mIterable\u001b[0m \u001b[0;32mand\u001b[0m\u001b[0;31m \u001b[0m\u001b[0;31m\\\u001b[0m\u001b[0;34m\u001b[0m\u001b[0;34m\u001b[0m\u001b[0m\n",
      "\u001b[0;32m/shared-libs/python3.7/py/lib/python3.7/site-packages/torch/utils/data/dataloader.py\u001b[0m in \u001b[0;36m_next_data\u001b[0;34m(self)\u001b[0m\n\u001b[1;32m    558\u001b[0m \u001b[0;34m\u001b[0m\u001b[0m\n\u001b[1;32m    559\u001b[0m     \u001b[0;32mdef\u001b[0m \u001b[0m_next_data\u001b[0m\u001b[0;34m(\u001b[0m\u001b[0mself\u001b[0m\u001b[0;34m)\u001b[0m\u001b[0;34m:\u001b[0m\u001b[0;34m\u001b[0m\u001b[0;34m\u001b[0m\u001b[0m\n\u001b[0;32m--> 560\u001b[0;31m         \u001b[0mindex\u001b[0m \u001b[0;34m=\u001b[0m \u001b[0mself\u001b[0m\u001b[0;34m.\u001b[0m\u001b[0m_next_index\u001b[0m\u001b[0;34m(\u001b[0m\u001b[0;34m)\u001b[0m  \u001b[0;31m# may raise StopIteration\u001b[0m\u001b[0;34m\u001b[0m\u001b[0;34m\u001b[0m\u001b[0m\n\u001b[0m\u001b[1;32m    561\u001b[0m         \u001b[0mdata\u001b[0m \u001b[0;34m=\u001b[0m \u001b[0mself\u001b[0m\u001b[0;34m.\u001b[0m\u001b[0m_dataset_fetcher\u001b[0m\u001b[0;34m.\u001b[0m\u001b[0mfetch\u001b[0m\u001b[0;34m(\u001b[0m\u001b[0mindex\u001b[0m\u001b[0;34m)\u001b[0m  \u001b[0;31m# may raise StopIteration\u001b[0m\u001b[0;34m\u001b[0m\u001b[0;34m\u001b[0m\u001b[0m\n\u001b[1;32m    562\u001b[0m         \u001b[0;32mif\u001b[0m \u001b[0mself\u001b[0m\u001b[0;34m.\u001b[0m\u001b[0m_pin_memory\u001b[0m\u001b[0;34m:\u001b[0m\u001b[0;34m\u001b[0m\u001b[0;34m\u001b[0m\u001b[0m\n",
      "\u001b[0;32m/shared-libs/python3.7/py/lib/python3.7/site-packages/torch/utils/data/dataloader.py\u001b[0m in \u001b[0;36m_next_index\u001b[0;34m(self)\u001b[0m\n\u001b[1;32m    510\u001b[0m \u001b[0;34m\u001b[0m\u001b[0m\n\u001b[1;32m    511\u001b[0m     \u001b[0;32mdef\u001b[0m \u001b[0m_next_index\u001b[0m\u001b[0;34m(\u001b[0m\u001b[0mself\u001b[0m\u001b[0;34m)\u001b[0m\u001b[0;34m:\u001b[0m\u001b[0;34m\u001b[0m\u001b[0;34m\u001b[0m\u001b[0m\n\u001b[0;32m--> 512\u001b[0;31m         \u001b[0;32mreturn\u001b[0m \u001b[0mnext\u001b[0m\u001b[0;34m(\u001b[0m\u001b[0mself\u001b[0m\u001b[0;34m.\u001b[0m\u001b[0m_sampler_iter\u001b[0m\u001b[0;34m)\u001b[0m  \u001b[0;31m# may raise StopIteration\u001b[0m\u001b[0;34m\u001b[0m\u001b[0;34m\u001b[0m\u001b[0m\n\u001b[0m\u001b[1;32m    513\u001b[0m \u001b[0;34m\u001b[0m\u001b[0m\n\u001b[1;32m    514\u001b[0m     \u001b[0;32mdef\u001b[0m \u001b[0m_next_data\u001b[0m\u001b[0;34m(\u001b[0m\u001b[0mself\u001b[0m\u001b[0;34m)\u001b[0m\u001b[0;34m:\u001b[0m\u001b[0;34m\u001b[0m\u001b[0;34m\u001b[0m\u001b[0m\n",
      "\u001b[0;32m/shared-libs/python3.7/py/lib/python3.7/site-packages/torch/utils/data/sampler.py\u001b[0m in \u001b[0;36m__iter__\u001b[0;34m(self)\u001b[0m\n\u001b[1;32m    227\u001b[0m     \u001b[0;32mdef\u001b[0m \u001b[0m__iter__\u001b[0m\u001b[0;34m(\u001b[0m\u001b[0mself\u001b[0m\u001b[0;34m)\u001b[0m \u001b[0;34m->\u001b[0m \u001b[0mIterator\u001b[0m\u001b[0;34m[\u001b[0m\u001b[0mList\u001b[0m\u001b[0;34m[\u001b[0m\u001b[0mint\u001b[0m\u001b[0;34m]\u001b[0m\u001b[0;34m]\u001b[0m\u001b[0;34m:\u001b[0m\u001b[0;34m\u001b[0m\u001b[0;34m\u001b[0m\u001b[0m\n\u001b[1;32m    228\u001b[0m         \u001b[0mbatch\u001b[0m \u001b[0;34m=\u001b[0m \u001b[0;34m[\u001b[0m\u001b[0;34m]\u001b[0m\u001b[0;34m\u001b[0m\u001b[0;34m\u001b[0m\u001b[0m\n\u001b[0;32m--> 229\u001b[0;31m         \u001b[0;32mfor\u001b[0m \u001b[0midx\u001b[0m \u001b[0;32min\u001b[0m \u001b[0mself\u001b[0m\u001b[0;34m.\u001b[0m\u001b[0msampler\u001b[0m\u001b[0;34m:\u001b[0m\u001b[0;34m\u001b[0m\u001b[0;34m\u001b[0m\u001b[0m\n\u001b[0m\u001b[1;32m    230\u001b[0m             \u001b[0mbatch\u001b[0m\u001b[0;34m.\u001b[0m\u001b[0mappend\u001b[0m\u001b[0;34m(\u001b[0m\u001b[0midx\u001b[0m\u001b[0;34m)\u001b[0m\u001b[0;34m\u001b[0m\u001b[0;34m\u001b[0m\u001b[0m\n\u001b[1;32m    231\u001b[0m             \u001b[0;32mif\u001b[0m \u001b[0mlen\u001b[0m\u001b[0;34m(\u001b[0m\u001b[0mbatch\u001b[0m\u001b[0;34m)\u001b[0m \u001b[0;34m==\u001b[0m \u001b[0mself\u001b[0m\u001b[0;34m.\u001b[0m\u001b[0mbatch_size\u001b[0m\u001b[0;34m:\u001b[0m\u001b[0;34m\u001b[0m\u001b[0;34m\u001b[0m\u001b[0m\n",
      "\u001b[0;32m/shared-libs/python3.7/py/lib/python3.7/site-packages/torch/utils/data/sampler.py\u001b[0m in \u001b[0;36m__iter__\u001b[0;34m(self)\u001b[0m\n\u001b[1;32m     64\u001b[0m \u001b[0;34m\u001b[0m\u001b[0m\n\u001b[1;32m     65\u001b[0m     \u001b[0;32mdef\u001b[0m \u001b[0m__iter__\u001b[0m\u001b[0;34m(\u001b[0m\u001b[0mself\u001b[0m\u001b[0;34m)\u001b[0m \u001b[0;34m->\u001b[0m \u001b[0mIterator\u001b[0m\u001b[0;34m[\u001b[0m\u001b[0mint\u001b[0m\u001b[0;34m]\u001b[0m\u001b[0;34m:\u001b[0m\u001b[0;34m\u001b[0m\u001b[0;34m\u001b[0m\u001b[0m\n\u001b[0;32m---> 66\u001b[0;31m         \u001b[0;32mreturn\u001b[0m \u001b[0miter\u001b[0m\u001b[0;34m(\u001b[0m\u001b[0mrange\u001b[0m\u001b[0;34m(\u001b[0m\u001b[0mlen\u001b[0m\u001b[0;34m(\u001b[0m\u001b[0mself\u001b[0m\u001b[0;34m.\u001b[0m\u001b[0mdata_source\u001b[0m\u001b[0;34m)\u001b[0m\u001b[0;34m)\u001b[0m\u001b[0;34m)\u001b[0m\u001b[0;34m\u001b[0m\u001b[0;34m\u001b[0m\u001b[0m\n\u001b[0m\u001b[1;32m     67\u001b[0m \u001b[0;34m\u001b[0m\u001b[0m\n\u001b[1;32m     68\u001b[0m     \u001b[0;32mdef\u001b[0m \u001b[0m__len__\u001b[0m\u001b[0;34m(\u001b[0m\u001b[0mself\u001b[0m\u001b[0;34m)\u001b[0m \u001b[0;34m->\u001b[0m \u001b[0mint\u001b[0m\u001b[0;34m:\u001b[0m\u001b[0;34m\u001b[0m\u001b[0;34m\u001b[0m\u001b[0m\n",
      "\u001b[0;32m<ipython-input-62-42a002f496d0>\u001b[0m in \u001b[0;36m__len__\u001b[0;34m(self)\u001b[0m\n\u001b[1;32m     17\u001b[0m \u001b[0;34m\u001b[0m\u001b[0m\n\u001b[1;32m     18\u001b[0m     \u001b[0;32mdef\u001b[0m \u001b[0m__len__\u001b[0m\u001b[0;34m(\u001b[0m\u001b[0mself\u001b[0m\u001b[0;34m)\u001b[0m\u001b[0;34m:\u001b[0m\u001b[0;34m\u001b[0m\u001b[0;34m\u001b[0m\u001b[0m\n\u001b[0;32m---> 19\u001b[0;31m         \u001b[0;32mreturn\u001b[0m \u001b[0mlen\u001b[0m\u001b[0;34m(\u001b[0m\u001b[0mself\u001b[0m\u001b[0;34m.\u001b[0m\u001b[0mX\u001b[0m\u001b[0;34m)\u001b[0m\u001b[0;34m\u001b[0m\u001b[0;34m\u001b[0m\u001b[0m\n\u001b[0m\u001b[1;32m     20\u001b[0m \u001b[0;34m\u001b[0m\u001b[0m\n\u001b[1;32m     21\u001b[0m     \u001b[0;32mdef\u001b[0m \u001b[0m__getitem__\u001b[0m\u001b[0;34m(\u001b[0m\u001b[0mself\u001b[0m\u001b[0;34m,\u001b[0m \u001b[0midx\u001b[0m\u001b[0;34m)\u001b[0m\u001b[0;34m:\u001b[0m\u001b[0;34m\u001b[0m\u001b[0;34m\u001b[0m\u001b[0m\n",
      "\u001b[0;32m/shared-libs/python3.7/py/lib/python3.7/site-packages/torch/utils/data/dataset.py\u001b[0m in \u001b[0;36m__getattr__\u001b[0;34m(self, attribute_name)\u001b[0m\n\u001b[1;32m     81\u001b[0m             \u001b[0;32mreturn\u001b[0m \u001b[0mfunction\u001b[0m\u001b[0;34m\u001b[0m\u001b[0;34m\u001b[0m\u001b[0m\n\u001b[1;32m     82\u001b[0m         \u001b[0;32melse\u001b[0m\u001b[0;34m:\u001b[0m\u001b[0;34m\u001b[0m\u001b[0;34m\u001b[0m\u001b[0m\n\u001b[0;32m---> 83\u001b[0;31m             \u001b[0;32mraise\u001b[0m \u001b[0mAttributeError\u001b[0m\u001b[0;34m\u001b[0m\u001b[0;34m\u001b[0m\u001b[0m\n\u001b[0m\u001b[1;32m     84\u001b[0m \u001b[0;34m\u001b[0m\u001b[0m\n\u001b[1;32m     85\u001b[0m     \u001b[0;34m@\u001b[0m\u001b[0mclassmethod\u001b[0m\u001b[0;34m\u001b[0m\u001b[0;34m\u001b[0m\u001b[0m\n",
      "\u001b[0;31mAttributeError\u001b[0m: "
     ],
     "data": {}
    }
   ]
  },
  {
   "cell_type": "code",
   "metadata": {
    "tags": [],
    "cell_id": "00081-d69bdac8-172d-47b5-b7e8-c96cebfe20d4",
    "deepnote_to_be_reexecuted": true,
    "source_hash": "8b7dd875",
    "execution_start": 1641147696292,
    "execution_millis": 621,
    "deepnote_output_heights": [
     498
    ],
    "deepnote_cell_type": "code"
   },
   "source": "#create a loss plot\nplt.plot(losses_train,'-')\nplt.plot(losses_test,'-.')\nplt.xlabel('Epochs')\nplt.ylabel('Loss')\nplt.legend(['Train','Test'])\nplt.title('Train vs Test Losses')\n \nplt.show()",
   "execution_count": null,
   "outputs": [
    {
     "data": {
      "text/plain": "<Figure size 720x576 with 1 Axes>",
      "image/png": "[encoded data removed]"
     },
     "metadata": {
      "needs_background": "light",
      "image/png": {
       "width": 612,
       "height": 496
      }
     },
     "output_type": "display_data"
    }
   ]
  },
  {
   "cell_type": "code",
   "metadata": {
    "tags": [],
    "cell_id": "00082-7314691c-b6e4-4ed9-9237-d20929f5f580",
    "deepnote_to_be_reexecuted": true,
    "source_hash": "4f7d8f58",
    "execution_start": 1641147696905,
    "execution_millis": 529,
    "deepnote_output_heights": [
     498
    ],
    "deepnote_cell_type": "code"
   },
   "source": "#create an accuracy plot\nplt.plot(accuracies_train,'-')\nplt.plot(accuracies_test,'-.')\nplt.xlabel('Epochs')\nplt.ylabel('Accuracy')\nplt.legend(['Train','Test'])\nplt.title('Train vs Test Accuracy')\n \nplt.show()",
   "execution_count": null,
   "outputs": [
    {
     "data": {
      "text/plain": "<Figure size 720x576 with 1 Axes>",
      "image/png": "[encoded data removed]"
     },
     "metadata": {
      "needs_background": "light",
      "image/png": {
       "width": 623,
       "height": 496
      }
     },
     "output_type": "display_data"
    }
   ]
  },
  {
   "cell_type": "markdown",
   "source": "<a style='text-decoration:none;line-height:16px;display:flex;color:#5B5B62;padding:10px;justify-content:end;' href='https://deepnote.com?utm_source=created-in-deepnote-cell&projectId=d9d840c9-75b3-4185-bb01-105f5cca8d83' target=\"_blank\">\n<img alt='Created in deepnote.com' style='display:inline;max-height:16px;margin:0px;margin-right:7.5px;' src='data:image/svg+xml;base64,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' > </img>\nCreated in <span style='font-weight:600;margin-left:4px;'>Deepnote</span></a>",
   "metadata": {
    "tags": [],
    "created_in_deepnote_cell": true,
    "deepnote_cell_type": "markdown"
   }
  }
 ],
 "nbformat": 4,
 "nbformat_minor": 2,
 "metadata": {
  "orig_nbformat": 2,
  "deepnote": {
   "is_reactive": false
  },
  "deepnote_notebook_id": "29e5ab88-e848-42f4-9b93-01e2cb324e6f",
  "deepnote_execution_queue": []
 }
}