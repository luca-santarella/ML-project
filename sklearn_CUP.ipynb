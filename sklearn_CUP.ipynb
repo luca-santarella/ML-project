{
 "cells": [
  {
   "cell_type": "markdown",
   "source": "# Machine Learning project a.y. 2021/2022",
   "metadata": {
    "cell_id": "866d5261-65f5-451c-89d3-65ff7cab3bcd",
    "deepnote_cell_type": "markdown"
   }
  },
  {
   "cell_type": "markdown",
   "source": "## Scikit-learn MLP model",
   "metadata": {
    "cell_id": "00001-2aba9e59-2eb1-40b4-8d25-4f2d84338a7b",
    "deepnote_cell_type": "markdown"
   }
  },
  {
   "cell_type": "markdown",
   "source": "## Importing libraries",
   "metadata": {
    "cell_id": "00002-d3953b8e-e2cb-44cd-b14b-fb1a55cd43b9",
    "deepnote_cell_type": "markdown"
   }
  },
  {
   "cell_type": "code",
   "metadata": {
    "cell_id": "00003-1a905703-18b1-43b9-93fd-d6f4b2f2de3a",
    "deepnote_to_be_reexecuted": false,
    "execution_millis": 8101,
    "execution_start": 1642936841142,
    "output_cleared": true,
    "source_hash": "98f33825",
    "deepnote_cell_type": "code"
   },
   "source": "import pandas as pd\nimport matplotlib.pyplot as plt\nimport numpy as np\nimport ast\n\nfrom sklearn.base import clone as clone_model\nfrom sklearn.model_selection import RandomizedSearchCV\nfrom sklearn.model_selection import GridSearchCV\nfrom scipy.stats import uniform\nfrom scipy.stats import randint\nfrom sklearn.metrics import make_scorer\nfrom sklearn.metrics import mean_squared_error\nfrom sklearn.preprocessing import OneHotEncoder\nfrom sklearn.neural_network import MLPRegressor\nfrom sklearn.model_selection import train_test_split\nfrom sklearn.ensemble import BaggingRegressor\nfrom dataclasses import dataclass",
   "execution_count": 1,
   "outputs": []
  },
  {
   "cell_type": "markdown",
   "source": "## Loading training set and blind test set",
   "metadata": {
    "cell_id": "00004-e548d8d6-1237-4e99-b829-8a4f417e5c5f",
    "deepnote_cell_type": "markdown"
   }
  },
  {
   "cell_type": "code",
   "metadata": {
    "cell_id": "00005-b87bacfb-9479-4d66-b250-1604f72d02e6",
    "deepnote_to_be_reexecuted": false,
    "execution_millis": 108,
    "execution_start": 1642936849252,
    "output_cleared": true,
    "source_hash": "47b90439",
    "deepnote_cell_type": "code"
   },
   "source": "df_visual = pd.read_csv('./data/ML-CUP21-TR.csv', usecols=[11,12], names=['idx','f1','f2','f3','f4','f5','f6','f7','f8','f9','f10', 'x','y'])\ndf_task_tr = pd.read_csv('./data/ML-CUP21-TR.csv', names=['idx','f1','f2','f3','f4','f5','f6','f7','f8','f9','f10', 'x','y'])\ndf_task_tr = df_task_tr[7:] # remove first 7 rows of comments\ndf_visual = df_visual[7:]\n\ndf_blind_ts = pd.read_csv('./data/ML-CUP21-TS.csv', names=['idx','f1','f2','f3','f4','f5','f6','f7','f8','f9','f10'])\ndf_blind_ts = df_blind_ts[7:]\ndf_blind_ts.drop(labels=\"idx\", axis=1, inplace=True)\nblind_ts = df_blind_ts.values",
   "execution_count": 2,
   "outputs": []
  },
  {
   "cell_type": "markdown",
   "source": "## Evaluation metrics and tools",
   "metadata": {
    "cell_id": "00006-151450c5-9a04-4fe5-b2c2-6eeb104a7d9b",
    "tags": [],
    "deepnote_cell_type": "markdown"
   }
  },
  {
   "cell_type": "markdown",
   "source": "We define the <b>MEE (Mean Euclidean Error)</b> function which is used to evaluate the mean euclidean distance between two points with x and y coordinates.\nThe function takes in input the true target and the predicted target and yields a floating point number which represents the performance. ",
   "metadata": {
    "cell_id": "00007-ddff7e4d-7571-4ba4-9570-28bd00d2cd99",
    "tags": [],
    "deepnote_cell_type": "markdown"
   }
  },
  {
   "cell_type": "code",
   "metadata": {
    "cell_id": "00008-340d7c6b-f5af-4b2c-b133-3648b01d182a",
    "deepnote_to_be_reexecuted": false,
    "execution_millis": 79,
    "execution_start": 1642936849363,
    "output_cleared": true,
    "source_hash": "3afbb4cb",
    "tags": [],
    "deepnote_cell_type": "code"
   },
   "source": "def mee(true_target, predicted_target): #assuming target is 2-dim matrix with x and y as columns\n    l = true_target.shape[0]\n    res = 0\n    \n    for p in range(l): #for p-th pattern in l (number of samples)\n        x_diff = np.square(true_target[p,0] - predicted_target[p,0]) #difference between the x value of the true and predicted target\n        y_diff = np.square(true_target[p,1] - predicted_target[p,1]) #difference between the y values of true and predicted target\n        sum_term = x_diff + y_diff\n        res = res + np.sqrt(sum_term)\n    res = res / l\n    \n    #return np.average([np.sqrt(np.square(true_target[p,0] - predicted_target[p,0]) + np.square(true_target[p,1] - predicted_target[p,1])) for p in range(l)]) #compact form\n    return res",
   "execution_count": 3,
   "outputs": []
  },
  {
   "cell_type": "code",
   "metadata": {
    "cell_id": "b7d73eea-2cd5-44f7-af4a-123da2e0877a",
    "deepnote_to_be_reexecuted": false,
    "execution_millis": 0,
    "execution_start": 1642936849477,
    "source_hash": "a91b8e4",
    "tags": [],
    "deepnote_cell_type": "code"
   },
   "source": "def plot_learning_curves(train_scores, test_scores, epochs, y_label, ax, i):\n    ax.set_title(f\"Model {i+1}\")\n    ax.set_ylabel(y_label)\n    ax.set_xlabel('Epoch');\n    ax.plot(range(0,epochs), train_scores, label = \"Training error\", linestyle='dashed')\n    ax.plot(range(0,epochs), test_scores, label = \"Test error\")\n    ax.legend()\n\n    return ax",
   "execution_count": 4,
   "outputs": []
  },
  {
   "cell_type": "markdown",
   "source": "We also define a random state (seed) to allow reproducibility on our experiments",
   "metadata": {
    "cell_id": "00009-44be928f-4c00-4b3f-ad7a-d6488544e043",
    "tags": [],
    "deepnote_cell_type": "markdown"
   }
  },
  {
   "cell_type": "code",
   "metadata": {
    "cell_id": "00010-1e049613-6a85-4aa4-a1ba-5a3a62517420",
    "deepnote_to_be_reexecuted": false,
    "execution_millis": 0,
    "execution_start": 1642936849478,
    "source_hash": "596ccc7b",
    "tags": [],
    "deepnote_cell_type": "code"
   },
   "source": "RS_NUMBER = 69",
   "execution_count": 5,
   "outputs": []
  },
  {
   "cell_type": "markdown",
   "source": "## Regression task",
   "metadata": {
    "cell_id": "00065-df984e4c-4153-4489-a59f-c0bdcb42e96a",
    "tags": [],
    "deepnote_cell_type": "markdown"
   }
  },
  {
   "cell_type": "markdown",
   "source": "### Preparing the training set",
   "metadata": {
    "cell_id": "00066-1ca49962-27d4-43c4-8dac-7826757ba7a0",
    "tags": [],
    "deepnote_cell_type": "markdown"
   }
  },
  {
   "cell_type": "code",
   "metadata": {
    "cell_id": "00067-92bf4cec-cb6c-4827-9f33-c4d74082cb9f",
    "deepnote_to_be_reexecuted": false,
    "execution_millis": 1,
    "execution_start": 1642936849478,
    "output_cleared": true,
    "source_hash": "192dcf",
    "tags": [],
    "deepnote_cell_type": "code"
   },
   "source": "df_task_tr.drop(labels=\"idx\", axis=1, inplace=True)",
   "execution_count": 6,
   "outputs": []
  },
  {
   "cell_type": "code",
   "metadata": {
    "cell_id": "00068-37abe94c-f2b9-47a9-b74a-b45655aeb1aa",
    "deepnote_to_be_reexecuted": false,
    "execution_millis": 73,
    "execution_start": 1642936849479,
    "output_cleared": true,
    "source_hash": "8b598d07",
    "tags": [],
    "deepnote_cell_type": "code"
   },
   "source": "y = df_task_tr[['x','y']].values\nX = df_task_tr.drop(labels=['x','y'], axis=1).values\nX_all = X\ny_all = y",
   "execution_count": 7,
   "outputs": []
  },
  {
   "cell_type": "code",
   "metadata": {
    "cell_id": "00069-6767f5fe-6356-44f6-af09-d2d3fbfcf5fe",
    "deepnote_to_be_reexecuted": false,
    "execution_millis": 60979,
    "execution_start": 1642936849555,
    "output_cleared": false,
    "source_hash": "473a37ed",
    "tags": [],
    "deepnote_cell_type": "code"
   },
   "source": "print(X.shape)\nprint(y.shape)",
   "execution_count": 8,
   "outputs": [
    {
     "name": "stdout",
     "text": "(1477, 10)\n(1477, 2)\n",
     "output_type": "stream"
    }
   ]
  },
  {
   "cell_type": "markdown",
   "source": "### Internal Test set\nWe split the data set obtaining an internal test set (10%), we will use this internal test at the end to test internally the generalization error",
   "metadata": {
    "cell_id": "00070-725d3cb0-dfad-4c2c-b7c3-71f0c3f9aff8",
    "tags": [],
    "deepnote_cell_type": "markdown"
   }
  },
  {
   "cell_type": "code",
   "metadata": {
    "cell_id": "00071-a4121cb3-52be-4a45-9e3f-bd04d7707e26",
    "deepnote_to_be_reexecuted": false,
    "execution_millis": 363,
    "execution_start": 1642936849572,
    "output_cleared": false,
    "source_hash": "853e95fc",
    "tags": [],
    "deepnote_cell_type": "code"
   },
   "source": "X, X_test, y, y_test = train_test_split(X, y, test_size=0.1, random_state=RS_NUMBER)\nprint(f\"X shape: {X.shape}\")\nprint(f\"X internal test shape: {X_test.shape}\")\nprint(f\"y shape: {y.shape}\")\nprint(f\"y internal test shape: {y_test.shape}\")",
   "execution_count": 9,
   "outputs": [
    {
     "name": "stdout",
     "text": "X shape: (1329, 10)\nX internal test shape: (148, 10)\ny shape: (1329, 2)\ny internal test shape: (148, 2)\n",
     "output_type": "stream"
    }
   ]
  },
  {
   "cell_type": "code",
   "metadata": {
    "cell_id": "00072-13a2524c-00f1-403d-b362-b638f6f6a886",
    "deepnote_to_be_reexecuted": false,
    "execution_millis": 60877,
    "execution_start": 1642936849685,
    "output_cleared": true,
    "source_hash": "58f426c6",
    "tags": [],
    "deepnote_cell_type": "code"
   },
   "source": "#trains the model with one iteration (epoch) and computes in output a list of train and test scores using MEE\ndef fit_and_score(epochs, eval_model, X_train, y_train, X_test, y_test):\n    train_scores = []\n    test_scores = []\n    train_loss = []\n    test_loss = []\n    for i in range(epochs):\n        eval_model = eval_model.partial_fit(X_train,y_train)\n        y_train_predicted = eval_model.predict(X_train)\n        y_test_predicted = eval_model.predict(X_test)\n        #results on train set\n        train_scores.append(mean_squared_error(y_train, y_train_predicted))\n        test_scores.append(mean_squared_error(y_test, y_test_predicted))\n        #result on test set\n        train_loss.append(mee(y_train, y_train_predicted))\n        test_loss.append(mee(y_test, y_test_predicted))\n    return train_scores, test_scores, train_loss, test_loss\n",
   "execution_count": 10,
   "outputs": []
  },
  {
   "cell_type": "markdown",
   "source": "## Randomized Search",
   "metadata": {
    "cell_id": "00073-d4db01cf-1e48-4de0-8f63-280380d67142",
    "tags": [],
    "deepnote_cell_type": "markdown"
   }
  },
  {
   "cell_type": "code",
   "metadata": {
    "cell_id": "00074-7f2f7779-f3fd-425c-8514-9bd878c39ee3",
    "deepnote_to_be_reexecuted": false,
    "execution_millis": 60988,
    "execution_start": 1642936849686,
    "output_cleared": true,
    "source_hash": "1b127074",
    "tags": [],
    "deepnote_cell_type": "code"
   },
   "source": "# define the number of iterations\nn_iter_search = 1000\n# define number of k-folds\nk = 10",
   "execution_count": 11,
   "outputs": []
  },
  {
   "cell_type": "code",
   "metadata": {
    "cell_id": "00075-2ed00a73-ec53-42cf-a3b1-cb4eaef36923",
    "deepnote_output_heights": [
     null,
     328.296875
    ],
    "deepnote_to_be_reexecuted": false,
    "execution_millis": 252,
    "execution_start": 1642936849686,
    "output_cleared": false,
    "source_hash": "a45e4863",
    "tags": [],
    "deepnote_cell_type": "code"
   },
   "source": "%%time\n%%script false --no-raise-error\n\n# to find the best set of parameter setting, we can run a randomized search\n\n# define the parameters' values\nparams = {\n    \"hidden_layer_sizes\": [\n        (5,),(10,),(25,),(50,),(100,),\n        (5, 5),(10, 10),(25, 25),(50, 50),(100, 100),],\n    \"activation\" : [\"logistic\", \"tanh\", \"relu\"],\n    \"solver\": [\"sgd\"],\n    \"learning_rate\": [\"constant\"],\n    \"learning_rate_init\": uniform(0.001, 0.5),\n    \"alpha\": uniform(0.0001, 0.1),\n    \"momentum\": [0.9, 0.95],\n    \"batch_size\": randint(600, X.shape[0]),\n    \"n_iter_no_change\": [5,15,25],\n    \"random_state\": [RS_NUMBER],\n    \"tol\": uniform(0.001,0.0001),\n    \"early_stopping\": [True],\n    \"validation_fraction\": [0.2],\n    \"max_iter\": [500],\n}\n\n# define the grid search\nrand_gs = RandomizedSearchCV(\n    MLPRegressor(),\n    param_distributions=params,\n    n_iter=n_iter_search,\n    n_jobs=-1,\n    scoring=make_scorer(mee), #scoring is based on the highest value\n    cv=k,\n    random_state=RS_NUMBER,\n    verbose=10\n)\n# run the grid search\nrand_gs.fit(X, y)\n",
   "execution_count": 12,
   "outputs": [
    {
     "name": "stdout",
     "text": "CPU times: user 1.48 ms, sys: 8 ms, total: 9.49 ms\nWall time: 96.5 ms\n",
     "output_type": "stream"
    }
   ]
  },
  {
   "cell_type": "code",
   "metadata": {
    "cell_id": "00076-1460bdab-c092-4cf0-80e7-fcc606b0fcca",
    "deepnote_to_be_reexecuted": false,
    "execution_millis": 47,
    "execution_start": 1642936849800,
    "source_hash": "ad4ee3e4",
    "tags": [],
    "deepnote_cell_type": "code"
   },
   "source": "%%script false --no-raise-error\n\ndf_results = pd.DataFrame(data=rand_gs.cv_results_) #trasform into a pandas dataframe\ndf_results.sort_values(by=\"rank_test_score\", axis=0, ascending=False, inplace=True) #sort rank values in decreasing order \ndf_results.dropna(inplace=True) #delete nan values \ndf_results = df_results[:50] #keep only top 50 models\npd.DataFrame.to_csv(df_results, \"sklearn_results/rand1_search.csv\")",
   "execution_count": 13,
   "outputs": []
  },
  {
   "cell_type": "code",
   "metadata": {
    "cell_id": "00077-b8f53132-bb5a-4159-9708-b931d8979761",
    "deepnote_to_be_reexecuted": false,
    "execution_millis": 1291,
    "execution_start": 1642936849893,
    "output_cleared": false,
    "source_hash": "597f1dd",
    "deepnote_cell_type": "code"
   },
   "source": "df_results = pd.read_csv(\"sklearn_results/rand1_search.csv\")\ndf_results.head()\n",
   "execution_count": 14,
   "outputs": [
    {
     "output_type": "execute_result",
     "execution_count": 14,
     "data": {
      "application/vnd.deepnote.dataframe.v3+json": {
       "column_count": 33,
       "row_count": 5,
       "columns": [
        {
         "name": "Unnamed: 0",
         "dtype": "int64",
         "stats": {
          "unique_count": 5,
          "nan_count": 0,
          "min": "102",
          "max": "765",
          "histogram": [
           {
            "bin_start": 102,
            "bin_end": 168.3,
            "count": 2
           },
           {
            "bin_start": 168.3,
            "bin_end": 234.6,
            "count": 0
           },
           {
            "bin_start": 234.6,
            "bin_end": 300.9,
            "count": 0
           },
           {
            "bin_start": 300.9,
            "bin_end": 367.2,
            "count": 0
           },
           {
            "bin_start": 367.2,
            "bin_end": 433.5,
            "count": 0
           },
           {
            "bin_start": 433.5,
            "bin_end": 499.79999999999995,
            "count": 0
           },
           {
            "bin_start": 499.79999999999995,
            "bin_end": 566.0999999999999,
            "count": 0
           },
           {
            "bin_start": 566.0999999999999,
            "bin_end": 632.4,
            "count": 1
           },
           {
            "bin_start": 632.4,
            "bin_end": 698.6999999999999,
            "count": 1
           },
           {
            "bin_start": 698.6999999999999,
            "bin_end": 765,
            "count": 1
           }
          ]
         }
        },
        {
         "name": "mean_fit_time",
         "dtype": "float64",
         "stats": {
          "unique_count": 5,
          "nan_count": 0,
          "min": "0.6287803649902344",
          "max": "1.18116135597229",
          "histogram": [
           {
            "bin_start": 0.6287803649902344,
            "bin_end": 0.6840184640884399,
            "count": 1
           },
           {
            "bin_start": 0.6840184640884399,
            "bin_end": 0.7392565631866455,
            "count": 0
           },
           {
            "bin_start": 0.7392565631866455,
            "bin_end": 0.794494662284851,
            "count": 0
           },
           {
            "bin_start": 0.794494662284851,
            "bin_end": 0.8497327613830566,
            "count": 1
           },
           {
            "bin_start": 0.8497327613830566,
            "bin_end": 0.9049708604812622,
            "count": 1
           },
           {
            "bin_start": 0.9049708604812622,
            "bin_end": 0.9602089595794677,
            "count": 1
           },
           {
            "bin_start": 0.9602089595794677,
            "bin_end": 1.0154470586776734,
            "count": 0
           },
           {
            "bin_start": 1.0154470586776734,
            "bin_end": 1.070685157775879,
            "count": 0
           },
           {
            "bin_start": 1.070685157775879,
            "bin_end": 1.1259232568740845,
            "count": 0
           },
           {
            "bin_start": 1.1259232568740845,
            "bin_end": 1.18116135597229,
            "count": 1
           }
          ]
         }
        },
        {
         "name": "std_fit_time",
         "dtype": "float64",
         "stats": {
          "unique_count": 5,
          "nan_count": 0,
          "min": "0.0532991171744429",
          "max": "0.2512134188251058",
          "histogram": [
           {
            "bin_start": 0.0532991171744429,
            "bin_end": 0.07309054733950918,
            "count": 1
           },
           {
            "bin_start": 0.07309054733950918,
            "bin_end": 0.09288197750457547,
            "count": 0
           },
           {
            "bin_start": 0.09288197750457547,
            "bin_end": 0.11267340766964176,
            "count": 0
           },
           {
            "bin_start": 0.11267340766964176,
            "bin_end": 0.13246483783470803,
            "count": 1
           },
           {
            "bin_start": 0.13246483783470803,
            "bin_end": 0.15225626799977432,
            "count": 1
           },
           {
            "bin_start": 0.15225626799977432,
            "bin_end": 0.1720476981648406,
            "count": 0
           },
           {
            "bin_start": 0.1720476981648406,
            "bin_end": 0.1918391283299069,
            "count": 1
           },
           {
            "bin_start": 0.1918391283299069,
            "bin_end": 0.2116305584949732,
            "count": 0
           },
           {
            "bin_start": 0.2116305584949732,
            "bin_end": 0.2314219886600395,
            "count": 0
           },
           {
            "bin_start": 0.2314219886600395,
            "bin_end": 0.2512134188251058,
            "count": 1
           }
          ]
         }
        },
        {
         "name": "mean_score_time",
         "dtype": "float64",
         "stats": {
          "unique_count": 5,
          "nan_count": 0,
          "min": "0.002099061012268",
          "max": "0.0089469194412231",
          "histogram": [
           {
            "bin_start": 0.002099061012268,
            "bin_end": 0.0027838468551635103,
            "count": 3
           },
           {
            "bin_start": 0.0027838468551635103,
            "bin_end": 0.0034686326980590204,
            "count": 0
           },
           {
            "bin_start": 0.0034686326980590204,
            "bin_end": 0.00415341854095453,
            "count": 0
           },
           {
            "bin_start": 0.00415341854095453,
            "bin_end": 0.004838204383850041,
            "count": 0
           },
           {
            "bin_start": 0.004838204383850041,
            "bin_end": 0.0055229902267455505,
            "count": 0
           },
           {
            "bin_start": 0.0055229902267455505,
            "bin_end": 0.00620777606964106,
            "count": 0
           },
           {
            "bin_start": 0.00620777606964106,
            "bin_end": 0.006892561912536571,
            "count": 0
           },
           {
            "bin_start": 0.006892561912536571,
            "bin_end": 0.0075773477554320805,
            "count": 0
           },
           {
            "bin_start": 0.0075773477554320805,
            "bin_end": 0.00826213359832759,
            "count": 0
           },
           {
            "bin_start": 0.00826213359832759,
            "bin_end": 0.0089469194412231,
            "count": 2
           }
          ]
         }
        },
        {
         "name": "std_score_time",
         "dtype": "float64",
         "stats": {
          "unique_count": 5,
          "nan_count": 0,
          "min": "0.0002027609005599",
          "max": "0.0182153204408931",
          "histogram": [
           {
            "bin_start": 0.0002027609005599,
            "bin_end": 0.00200401685459322,
            "count": 2
           },
           {
            "bin_start": 0.00200401685459322,
            "bin_end": 0.0038052728086265396,
            "count": 1
           },
           {
            "bin_start": 0.0038052728086265396,
            "bin_end": 0.005606528762659859,
            "count": 0
           },
           {
            "bin_start": 0.005606528762659859,
            "bin_end": 0.007407784716693179,
            "count": 0
           },
           {
            "bin_start": 0.007407784716693179,
            "bin_end": 0.0092090406707265,
            "count": 0
           },
           {
            "bin_start": 0.0092090406707265,
            "bin_end": 0.01101029662475982,
            "count": 0
           },
           {
            "bin_start": 0.01101029662475982,
            "bin_end": 0.01281155257879314,
            "count": 0
           },
           {
            "bin_start": 0.01281155257879314,
            "bin_end": 0.01461280853282646,
            "count": 0
           },
           {
            "bin_start": 0.01461280853282646,
            "bin_end": 0.01641406448685978,
            "count": 0
           },
           {
            "bin_start": 0.01641406448685978,
            "bin_end": 0.0182153204408931,
            "count": 2
           }
          ]
         }
        },
        {
         "name": "param_activation",
         "dtype": "object",
         "stats": {
          "unique_count": 1,
          "nan_count": 0,
          "categories": [
           {
            "name": "logistic",
            "count": 5
           }
          ]
         }
        },
        {
         "name": "param_alpha",
         "dtype": "float64",
         "stats": {
          "unique_count": 5,
          "nan_count": 0,
          "min": "0.0079312633076743",
          "max": "0.0747707827703349",
          "histogram": [
           {
            "bin_start": 0.0079312633076743,
            "bin_end": 0.014615215253940361,
            "count": 2
           },
           {
            "bin_start": 0.014615215253940361,
            "bin_end": 0.02129916720020642,
            "count": 0
           },
           {
            "bin_start": 0.02129916720020642,
            "bin_end": 0.027983119146472484,
            "count": 0
           },
           {
            "bin_start": 0.027983119146472484,
            "bin_end": 0.03466707109273855,
            "count": 0
           },
           {
            "bin_start": 0.03466707109273855,
            "bin_end": 0.041351023039004606,
            "count": 0
           },
           {
            "bin_start": 0.041351023039004606,
            "bin_end": 0.048034974985270665,
            "count": 0
           },
           {
            "bin_start": 0.048034974985270665,
            "bin_end": 0.054718926931536724,
            "count": 0
           },
           {
            "bin_start": 0.054718926931536724,
            "bin_end": 0.06140287887780278,
            "count": 0
           },
           {
            "bin_start": 0.06140287887780278,
            "bin_end": 0.06808683082406884,
            "count": 1
           },
           {
            "bin_start": 0.06808683082406884,
            "bin_end": 0.0747707827703349,
            "count": 2
           }
          ]
         }
        },
        {
         "name": "param_batch_size",
         "dtype": "int64",
         "stats": {
          "unique_count": 5,
          "nan_count": 0,
          "min": "649",
          "max": "923",
          "histogram": [
           {
            "bin_start": 649,
            "bin_end": 676.4,
            "count": 1
           },
           {
            "bin_start": 676.4,
            "bin_end": 703.8,
            "count": 0
           },
           {
            "bin_start": 703.8,
            "bin_end": 731.2,
            "count": 0
           },
           {
            "bin_start": 731.2,
            "bin_end": 758.6,
            "count": 0
           },
           {
            "bin_start": 758.6,
            "bin_end": 786,
            "count": 0
           },
           {
            "bin_start": 786,
            "bin_end": 813.4,
            "count": 2
           },
           {
            "bin_start": 813.4,
            "bin_end": 840.8,
            "count": 0
           },
           {
            "bin_start": 840.8,
            "bin_end": 868.2,
            "count": 0
           },
           {
            "bin_start": 868.2,
            "bin_end": 895.6,
            "count": 1
           },
           {
            "bin_start": 895.6,
            "bin_end": 923,
            "count": 1
           }
          ]
         }
        },
        {
         "name": "param_early_stopping",
         "dtype": "bool",
         "stats": {
          "unique_count": 1,
          "nan_count": 0,
          "categories": [
           {
            "name": "True",
            "count": 5
           }
          ]
         }
        },
        {
         "name": "param_hidden_layer_sizes",
         "dtype": "object",
         "stats": {
          "unique_count": 2,
          "nan_count": 0,
          "categories": [
           {
            "name": "(25, 25)",
            "count": 3
           },
           {
            "name": "(10, 10)",
            "count": 2
           }
          ]
         }
        },
        {
         "name": "param_learning_rate",
         "dtype": "object",
         "stats": {
          "unique_count": 1,
          "nan_count": 0,
          "categories": [
           {
            "name": "constant",
            "count": 5
           }
          ]
         }
        },
        {
         "name": "param_learning_rate_init",
         "dtype": "float64",
         "stats": {
          "unique_count": 5,
          "nan_count": 0,
          "min": "0.0339405811413266",
          "max": "0.119129672516707",
          "histogram": [
           {
            "bin_start": 0.0339405811413266,
            "bin_end": 0.04245949027886464,
            "count": 1
           },
           {
            "bin_start": 0.04245949027886464,
            "bin_end": 0.050978399416402684,
            "count": 0
           },
           {
            "bin_start": 0.050978399416402684,
            "bin_end": 0.05949730855394072,
            "count": 0
           },
           {
            "bin_start": 0.05949730855394072,
            "bin_end": 0.06801621769147875,
            "count": 3
           },
           {
            "bin_start": 0.06801621769147875,
            "bin_end": 0.07653512682901681,
            "count": 0
           },
           {
            "bin_start": 0.07653512682901681,
            "bin_end": 0.08505403596655484,
            "count": 0
           },
           {
            "bin_start": 0.08505403596655484,
            "bin_end": 0.09357294510409288,
            "count": 0
           },
           {
            "bin_start": 0.09357294510409288,
            "bin_end": 0.10209185424163092,
            "count": 0
           },
           {
            "bin_start": 0.10209185424163092,
            "bin_end": 0.11061076337916896,
            "count": 0
           },
           {
            "bin_start": 0.11061076337916896,
            "bin_end": 0.119129672516707,
            "count": 1
           }
          ]
         }
        },
        {
         "name": "param_max_iter",
         "dtype": "int64",
         "stats": {
          "unique_count": 1,
          "nan_count": 0,
          "min": "500",
          "max": "500",
          "histogram": [
           {
            "bin_start": 499.5,
            "bin_end": 499.6,
            "count": 0
           },
           {
            "bin_start": 499.6,
            "bin_end": 499.7,
            "count": 0
           },
           {
            "bin_start": 499.7,
            "bin_end": 499.8,
            "count": 0
           },
           {
            "bin_start": 499.8,
            "bin_end": 499.9,
            "count": 0
           },
           {
            "bin_start": 499.9,
            "bin_end": 500,
            "count": 0
           },
           {
            "bin_start": 500,
            "bin_end": 500.1,
            "count": 5
           },
           {
            "bin_start": 500.1,
            "bin_end": 500.2,
            "count": 0
           },
           {
            "bin_start": 500.2,
            "bin_end": 500.3,
            "count": 0
           },
           {
            "bin_start": 500.3,
            "bin_end": 500.4,
            "count": 0
           },
           {
            "bin_start": 500.4,
            "bin_end": 500.5,
            "count": 0
           }
          ]
         }
        },
        {
         "name": "param_momentum",
         "dtype": "float64",
         "stats": {
          "unique_count": 2,
          "nan_count": 0,
          "min": "0.9",
          "max": "0.95",
          "histogram": [
           {
            "bin_start": 0.9,
            "bin_end": 0.905,
            "count": 3
           },
           {
            "bin_start": 0.905,
            "bin_end": 0.91,
            "count": 0
           },
           {
            "bin_start": 0.91,
            "bin_end": 0.915,
            "count": 0
           },
           {
            "bin_start": 0.915,
            "bin_end": 0.92,
            "count": 0
           },
           {
            "bin_start": 0.92,
            "bin_end": 0.925,
            "count": 0
           },
           {
            "bin_start": 0.925,
            "bin_end": 0.9299999999999999,
            "count": 0
           },
           {
            "bin_start": 0.9299999999999999,
            "bin_end": 0.9349999999999999,
            "count": 0
           },
           {
            "bin_start": 0.9349999999999999,
            "bin_end": 0.94,
            "count": 0
           },
           {
            "bin_start": 0.94,
            "bin_end": 0.945,
            "count": 0
           },
           {
            "bin_start": 0.945,
            "bin_end": 0.95,
            "count": 2
           }
          ]
         }
        },
        {
         "name": "param_n_iter_no_change",
         "dtype": "int64",
         "stats": {
          "unique_count": 3,
          "nan_count": 0,
          "min": "5",
          "max": "25",
          "histogram": [
           {
            "bin_start": 5,
            "bin_end": 7,
            "count": 1
           },
           {
            "bin_start": 7,
            "bin_end": 9,
            "count": 0
           },
           {
            "bin_start": 9,
            "bin_end": 11,
            "count": 0
           },
           {
            "bin_start": 11,
            "bin_end": 13,
            "count": 0
           },
           {
            "bin_start": 13,
            "bin_end": 15,
            "count": 0
           },
           {
            "bin_start": 15,
            "bin_end": 17,
            "count": 1
           },
           {
            "bin_start": 17,
            "bin_end": 19,
            "count": 0
           },
           {
            "bin_start": 19,
            "bin_end": 21,
            "count": 0
           },
           {
            "bin_start": 21,
            "bin_end": 23,
            "count": 0
           },
           {
            "bin_start": 23,
            "bin_end": 25,
            "count": 3
           }
          ]
         }
        },
        {
         "name": "param_random_state",
         "dtype": "int64",
         "stats": {
          "unique_count": 1,
          "nan_count": 0,
          "min": "69",
          "max": "69",
          "histogram": [
           {
            "bin_start": 68.5,
            "bin_end": 68.6,
            "count": 0
           },
           {
            "bin_start": 68.6,
            "bin_end": 68.7,
            "count": 0
           },
           {
            "bin_start": 68.7,
            "bin_end": 68.8,
            "count": 0
           },
           {
            "bin_start": 68.8,
            "bin_end": 68.9,
            "count": 0
           },
           {
            "bin_start": 68.9,
            "bin_end": 69,
            "count": 0
           },
           {
            "bin_start": 69,
            "bin_end": 69.1,
            "count": 5
           },
           {
            "bin_start": 69.1,
            "bin_end": 69.2,
            "count": 0
           },
           {
            "bin_start": 69.2,
            "bin_end": 69.3,
            "count": 0
           },
           {
            "bin_start": 69.3,
            "bin_end": 69.4,
            "count": 0
           },
           {
            "bin_start": 69.4,
            "bin_end": 69.5,
            "count": 0
           }
          ]
         }
        },
        {
         "name": "param_solver",
         "dtype": "object",
         "stats": {
          "unique_count": 1,
          "nan_count": 0,
          "categories": [
           {
            "name": "sgd",
            "count": 5
           }
          ]
         }
        },
        {
         "name": "param_tol",
         "dtype": "float64",
         "stats": {
          "unique_count": 5,
          "nan_count": 0,
          "min": "0.00106735390541",
          "max": "0.0010999353488398",
          "histogram": [
           {
            "bin_start": 0.00106735390541,
            "bin_end": 0.00107061204975298,
            "count": 1
           },
           {
            "bin_start": 0.00107061204975298,
            "bin_end": 0.00107387019409596,
            "count": 0
           },
           {
            "bin_start": 0.00107387019409596,
            "bin_end": 0.00107712833843894,
            "count": 0
           },
           {
            "bin_start": 0.00107712833843894,
            "bin_end": 0.00108038648278192,
            "count": 0
           },
           {
            "bin_start": 0.00108038648278192,
            "bin_end": 0.0010836446271249001,
            "count": 0
           },
           {
            "bin_start": 0.0010836446271249001,
            "bin_end": 0.00108690277146788,
            "count": 0
           },
           {
            "bin_start": 0.00108690277146788,
            "bin_end": 0.00109016091581086,
            "count": 1
           },
           {
            "bin_start": 0.00109016091581086,
            "bin_end": 0.00109341906015384,
            "count": 2
           },
           {
            "bin_start": 0.00109341906015384,
            "bin_end": 0.00109667720449682,
            "count": 0
           },
           {
            "bin_start": 0.00109667720449682,
            "bin_end": 0.0010999353488398,
            "count": 1
           }
          ]
         }
        },
        {
         "name": "param_validation_fraction",
         "dtype": "float64",
         "stats": {
          "unique_count": 1,
          "nan_count": 0,
          "min": "0.2",
          "max": "0.2",
          "histogram": [
           {
            "bin_start": -0.3,
            "bin_end": -0.19999999999999998,
            "count": 0
           },
           {
            "bin_start": -0.19999999999999998,
            "bin_end": -0.09999999999999998,
            "count": 0
           },
           {
            "bin_start": -0.09999999999999998,
            "bin_end": 5.551115123125783e-17,
            "count": 0
           },
           {
            "bin_start": 5.551115123125783e-17,
            "bin_end": 0.10000000000000003,
            "count": 0
           },
           {
            "bin_start": 0.10000000000000003,
            "bin_end": 0.2,
            "count": 0
           },
           {
            "bin_start": 0.2,
            "bin_end": 0.3000000000000001,
            "count": 5
           },
           {
            "bin_start": 0.3000000000000001,
            "bin_end": 0.4000000000000001,
            "count": 0
           },
           {
            "bin_start": 0.4000000000000001,
            "bin_end": 0.5,
            "count": 0
           },
           {
            "bin_start": 0.5,
            "bin_end": 0.6000000000000001,
            "count": 0
           },
           {
            "bin_start": 0.6000000000000001,
            "bin_end": 0.7,
            "count": 0
           }
          ]
         }
        },
        {
         "name": "params",
         "dtype": "object",
         "stats": {
          "unique_count": 5,
          "nan_count": 0,
          "categories": [
           {
            "name": "{'activation': 'logistic', 'alpha': 0.010233918006029375, 'batch_size': 789, 'early_stopping': True, 'hidden_layer_sizes': (25, 25), 'learning_rate': 'constant', 'learning_rate_init': 0.03394058114132664, 'max_iter': 500, 'momentum': 0.95, 'n_iter_no_change': 25, 'random_state': 69, 'solver': 'sgd', 'tol': 0.001093109886475308, 'validation_fraction': 0.2}",
            "count": 1
           },
           {
            "name": "{'activation': 'logistic', 'alpha': 0.007931263307674375, 'batch_size': 649, 'early_stopping': True, 'hidden_layer_sizes': (25, 25), 'learning_rate': 'constant', 'learning_rate_init': 0.06589055670595123, 'max_iter': 500, 'momentum': 0.95, 'n_iter_no_change': 15, 'random_state': 69, 'solver': 'sgd', 'tol': 0.0010999353488398622, 'validation_fraction': 0.2}",
            "count": 1
           },
           {
            "name": "3 others",
            "count": 3
           }
          ]
         }
        },
        {
         "name": "split0_test_score",
         "dtype": "float64",
         "stats": {
          "unique_count": 5,
          "nan_count": 0,
          "min": "1.0356648844698084",
          "max": "1.1492025279579583",
          "histogram": [
           {
            "bin_start": 1.0356648844698084,
            "bin_end": 1.0470186488186235,
            "count": 1
           },
           {
            "bin_start": 1.0470186488186235,
            "bin_end": 1.0583724131674384,
            "count": 0
           },
           {
            "bin_start": 1.0583724131674384,
            "bin_end": 1.0697261775162534,
            "count": 0
           },
           {
            "bin_start": 1.0697261775162534,
            "bin_end": 1.0810799418650683,
            "count": 0
           },
           {
            "bin_start": 1.0810799418650683,
            "bin_end": 1.0924337062138834,
            "count": 2
           },
           {
            "bin_start": 1.0924337062138834,
            "bin_end": 1.1037874705626984,
            "count": 0
           },
           {
            "bin_start": 1.1037874705626984,
            "bin_end": 1.1151412349115133,
            "count": 0
           },
           {
            "bin_start": 1.1151412349115133,
            "bin_end": 1.1264949992603284,
            "count": 0
           },
           {
            "bin_start": 1.1264949992603284,
            "bin_end": 1.1378487636091432,
            "count": 0
           },
           {
            "bin_start": 1.1378487636091432,
            "bin_end": 1.1492025279579583,
            "count": 2
           }
          ]
         }
        },
        {
         "name": "split1_test_score",
         "dtype": "float64",
         "stats": {
          "unique_count": 5,
          "nan_count": 0,
          "min": "1.0283320704939227",
          "max": "1.1565417821104902",
          "histogram": [
           {
            "bin_start": 1.0283320704939227,
            "bin_end": 1.0411530416555794,
            "count": 1
           },
           {
            "bin_start": 1.0411530416555794,
            "bin_end": 1.0539740128172361,
            "count": 0
           },
           {
            "bin_start": 1.0539740128172361,
            "bin_end": 1.066794983978893,
            "count": 0
           },
           {
            "bin_start": 1.066794983978893,
            "bin_end": 1.0796159551405498,
            "count": 1
           },
           {
            "bin_start": 1.0796159551405498,
            "bin_end": 1.0924369263022065,
            "count": 1
           },
           {
            "bin_start": 1.0924369263022065,
            "bin_end": 1.1052578974638632,
            "count": 0
           },
           {
            "bin_start": 1.1052578974638632,
            "bin_end": 1.1180788686255199,
            "count": 0
           },
           {
            "bin_start": 1.1180788686255199,
            "bin_end": 1.1308998397871768,
            "count": 1
           },
           {
            "bin_start": 1.1308998397871768,
            "bin_end": 1.1437208109488335,
            "count": 0
           },
           {
            "bin_start": 1.1437208109488335,
            "bin_end": 1.1565417821104902,
            "count": 1
           }
          ]
         }
        },
        {
         "name": "split2_test_score",
         "dtype": "float64",
         "stats": {
          "unique_count": 5,
          "nan_count": 0,
          "min": "1.1728304767161368",
          "max": "1.225371600222209",
          "histogram": [
           {
            "bin_start": 1.1728304767161368,
            "bin_end": 1.178084589066744,
            "count": 1
           },
           {
            "bin_start": 1.178084589066744,
            "bin_end": 1.1833387014173513,
            "count": 0
           },
           {
            "bin_start": 1.1833387014173513,
            "bin_end": 1.1885928137679584,
            "count": 0
           },
           {
            "bin_start": 1.1885928137679584,
            "bin_end": 1.1938469261185658,
            "count": 1
           },
           {
            "bin_start": 1.1938469261185658,
            "bin_end": 1.199101038469173,
            "count": 0
           },
           {
            "bin_start": 1.199101038469173,
            "bin_end": 1.20435515081978,
            "count": 0
           },
           {
            "bin_start": 1.20435515081978,
            "bin_end": 1.2096092631703874,
            "count": 0
           },
           {
            "bin_start": 1.2096092631703874,
            "bin_end": 1.2148633755209945,
            "count": 1
           },
           {
            "bin_start": 1.2148633755209945,
            "bin_end": 1.220117487871602,
            "count": 0
           },
           {
            "bin_start": 1.220117487871602,
            "bin_end": 1.225371600222209,
            "count": 2
           }
          ]
         }
        },
        {
         "name": "split3_test_score",
         "dtype": "float64",
         "stats": {
          "unique_count": 5,
          "nan_count": 0,
          "min": "1.2362671264788545",
          "max": "1.2734905253548032",
          "histogram": [
           {
            "bin_start": 1.2362671264788545,
            "bin_end": 1.2399894663664495,
            "count": 2
           },
           {
            "bin_start": 1.2399894663664495,
            "bin_end": 1.2437118062540442,
            "count": 0
           },
           {
            "bin_start": 1.2437118062540442,
            "bin_end": 1.2474341461416392,
            "count": 1
           },
           {
            "bin_start": 1.2474341461416392,
            "bin_end": 1.251156486029234,
            "count": 0
           },
           {
            "bin_start": 1.251156486029234,
            "bin_end": 1.2548788259168289,
            "count": 0
           },
           {
            "bin_start": 1.2548788259168289,
            "bin_end": 1.2586011658044238,
            "count": 1
           },
           {
            "bin_start": 1.2586011658044238,
            "bin_end": 1.2623235056920186,
            "count": 0
           },
           {
            "bin_start": 1.2623235056920186,
            "bin_end": 1.2660458455796135,
            "count": 0
           },
           {
            "bin_start": 1.2660458455796135,
            "bin_end": 1.2697681854672083,
            "count": 0
           },
           {
            "bin_start": 1.2697681854672083,
            "bin_end": 1.2734905253548032,
            "count": 1
           }
          ]
         }
        },
        {
         "name": "split4_test_score",
         "dtype": "float64",
         "stats": {
          "unique_count": 5,
          "nan_count": 0,
          "min": "1.2668508131587075",
          "max": "1.312988155755564",
          "histogram": [
           {
            "bin_start": 1.2668508131587075,
            "bin_end": 1.2714645474183932,
            "count": 2
           },
           {
            "bin_start": 1.2714645474183932,
            "bin_end": 1.276078281678079,
            "count": 0
           },
           {
            "bin_start": 1.276078281678079,
            "bin_end": 1.2806920159377644,
            "count": 0
           },
           {
            "bin_start": 1.2806920159377644,
            "bin_end": 1.28530575019745,
            "count": 0
           },
           {
            "bin_start": 1.28530575019745,
            "bin_end": 1.2899194844571358,
            "count": 2
           },
           {
            "bin_start": 1.2899194844571358,
            "bin_end": 1.2945332187168215,
            "count": 0
           },
           {
            "bin_start": 1.2945332187168215,
            "bin_end": 1.2991469529765072,
            "count": 0
           },
           {
            "bin_start": 1.2991469529765072,
            "bin_end": 1.3037606872361927,
            "count": 0
           },
           {
            "bin_start": 1.3037606872361927,
            "bin_end": 1.3083744214958783,
            "count": 0
           },
           {
            "bin_start": 1.3083744214958783,
            "bin_end": 1.312988155755564,
            "count": 1
           }
          ]
         }
        },
        {
         "name": "split5_test_score",
         "dtype": "float64",
         "stats": {
          "unique_count": 5,
          "nan_count": 0,
          "min": "1.2565750405184055",
          "max": "1.326840274461677",
          "histogram": [
           {
            "bin_start": 1.2565750405184055,
            "bin_end": 1.2636015639127327,
            "count": 2
           },
           {
            "bin_start": 1.2636015639127327,
            "bin_end": 1.27062808730706,
            "count": 0
           },
           {
            "bin_start": 1.27062808730706,
            "bin_end": 1.2776546107013869,
            "count": 0
           },
           {
            "bin_start": 1.2776546107013869,
            "bin_end": 1.284681134095714,
            "count": 0
           },
           {
            "bin_start": 1.284681134095714,
            "bin_end": 1.2917076574900412,
            "count": 1
           },
           {
            "bin_start": 1.2917076574900412,
            "bin_end": 1.2987341808843684,
            "count": 0
           },
           {
            "bin_start": 1.2987341808843684,
            "bin_end": 1.3057607042786956,
            "count": 0
           },
           {
            "bin_start": 1.3057607042786956,
            "bin_end": 1.3127872276730226,
            "count": 0
           },
           {
            "bin_start": 1.3127872276730226,
            "bin_end": 1.3198137510673498,
            "count": 0
           },
           {
            "bin_start": 1.3198137510673498,
            "bin_end": 1.326840274461677,
            "count": 2
           }
          ]
         }
        },
        {
         "name": "split6_test_score",
         "dtype": "float64",
         "stats": {
          "unique_count": 5,
          "nan_count": 0,
          "min": "1.1261851704269468",
          "max": "1.2140106125794523",
          "histogram": [
           {
            "bin_start": 1.1261851704269468,
            "bin_end": 1.1349677146421973,
            "count": 1
           },
           {
            "bin_start": 1.1349677146421973,
            "bin_end": 1.143750258857448,
            "count": 1
           },
           {
            "bin_start": 1.143750258857448,
            "bin_end": 1.1525328030726985,
            "count": 0
           },
           {
            "bin_start": 1.1525328030726985,
            "bin_end": 1.161315347287949,
            "count": 1
           },
           {
            "bin_start": 1.161315347287949,
            "bin_end": 1.1700978915031994,
            "count": 0
           },
           {
            "bin_start": 1.1700978915031994,
            "bin_end": 1.1788804357184501,
            "count": 1
           },
           {
            "bin_start": 1.1788804357184501,
            "bin_end": 1.1876629799337006,
            "count": 0
           },
           {
            "bin_start": 1.1876629799337006,
            "bin_end": 1.1964455241489511,
            "count": 0
           },
           {
            "bin_start": 1.1964455241489511,
            "bin_end": 1.2052280683642018,
            "count": 0
           },
           {
            "bin_start": 1.2052280683642018,
            "bin_end": 1.2140106125794523,
            "count": 1
           }
          ]
         }
        },
        {
         "name": "split7_test_score",
         "dtype": "float64",
         "stats": {
          "unique_count": 5,
          "nan_count": 0,
          "min": "1.0643542930303025",
          "max": "1.155088283781463",
          "histogram": [
           {
            "bin_start": 1.0643542930303025,
            "bin_end": 1.0734276921054184,
            "count": 1
           },
           {
            "bin_start": 1.0734276921054184,
            "bin_end": 1.0825010911805346,
            "count": 0
           },
           {
            "bin_start": 1.0825010911805346,
            "bin_end": 1.0915744902556508,
            "count": 1
           },
           {
            "bin_start": 1.0915744902556508,
            "bin_end": 1.1006478893307667,
            "count": 0
           },
           {
            "bin_start": 1.1006478893307667,
            "bin_end": 1.1097212884058827,
            "count": 1
           },
           {
            "bin_start": 1.1097212884058827,
            "bin_end": 1.1187946874809989,
            "count": 0
           },
           {
            "bin_start": 1.1187946874809989,
            "bin_end": 1.127868086556115,
            "count": 0
           },
           {
            "bin_start": 1.127868086556115,
            "bin_end": 1.136941485631231,
            "count": 0
           },
           {
            "bin_start": 1.136941485631231,
            "bin_end": 1.146014884706347,
            "count": 0
           },
           {
            "bin_start": 1.146014884706347,
            "bin_end": 1.155088283781463,
            "count": 2
           }
          ]
         }
        },
        {
         "name": "split8_test_score",
         "dtype": "float64",
         "stats": {
          "unique_count": 5,
          "nan_count": 0,
          "min": "1.23383198684684",
          "max": "1.3335031822450198",
          "histogram": [
           {
            "bin_start": 1.23383198684684,
            "bin_end": 1.2437991063866578,
            "count": 2
           },
           {
            "bin_start": 1.2437991063866578,
            "bin_end": 1.253766225926476,
            "count": 0
           },
           {
            "bin_start": 1.253766225926476,
            "bin_end": 1.263733345466294,
            "count": 0
           },
           {
            "bin_start": 1.263733345466294,
            "bin_end": 1.273700465006112,
            "count": 0
           },
           {
            "bin_start": 1.273700465006112,
            "bin_end": 1.2836675845459298,
            "count": 0
           },
           {
            "bin_start": 1.2836675845459298,
            "bin_end": 1.2936347040857479,
            "count": 0
           },
           {
            "bin_start": 1.2936347040857479,
            "bin_end": 1.303601823625566,
            "count": 2
           },
           {
            "bin_start": 1.303601823625566,
            "bin_end": 1.3135689431653839,
            "count": 0
           },
           {
            "bin_start": 1.3135689431653839,
            "bin_end": 1.3235360627052017,
            "count": 0
           },
           {
            "bin_start": 1.3235360627052017,
            "bin_end": 1.3335031822450198,
            "count": 1
           }
          ]
         }
        },
        {
         "name": "split9_test_score",
         "dtype": "float64",
         "stats": {
          "unique_count": 5,
          "nan_count": 0,
          "min": "1.03548959908948",
          "max": "1.1278185328958723",
          "histogram": [
           {
            "bin_start": 1.03548959908948,
            "bin_end": 1.044722492470119,
            "count": 1
           },
           {
            "bin_start": 1.044722492470119,
            "bin_end": 1.0539553858507584,
            "count": 0
           },
           {
            "bin_start": 1.0539553858507584,
            "bin_end": 1.0631882792313976,
            "count": 0
           },
           {
            "bin_start": 1.0631882792313976,
            "bin_end": 1.072421172612037,
            "count": 0
           },
           {
            "bin_start": 1.072421172612037,
            "bin_end": 1.081654065992676,
            "count": 1
           },
           {
            "bin_start": 1.081654065992676,
            "bin_end": 1.0908869593733153,
            "count": 0
           },
           {
            "bin_start": 1.0908869593733153,
            "bin_end": 1.1001198527539546,
            "count": 2
           },
           {
            "bin_start": 1.1001198527539546,
            "bin_end": 1.1093527461345938,
            "count": 0
           },
           {
            "bin_start": 1.1093527461345938,
            "bin_end": 1.1185856395152332,
            "count": 0
           },
           {
            "bin_start": 1.1185856395152332,
            "bin_end": 1.1278185328958723,
            "count": 1
           }
          ]
         }
        },
        {
         "name": "mean_test_score",
         "dtype": "float64",
         "stats": {
          "unique_count": 5,
          "nan_count": 0,
          "min": "1.1647505295924838",
          "max": "1.1996844160316016",
          "histogram": [
           {
            "bin_start": 1.1647505295924838,
            "bin_end": 1.1682439182363955,
            "count": 1
           },
           {
            "bin_start": 1.1682439182363955,
            "bin_end": 1.1717373068803074,
            "count": 0
           },
           {
            "bin_start": 1.1717373068803074,
            "bin_end": 1.175230695524219,
            "count": 0
           },
           {
            "bin_start": 1.175230695524219,
            "bin_end": 1.178724084168131,
            "count": 0
           },
           {
            "bin_start": 1.178724084168131,
            "bin_end": 1.1822174728120427,
            "count": 0
           },
           {
            "bin_start": 1.1822174728120427,
            "bin_end": 1.1857108614559544,
            "count": 1
           },
           {
            "bin_start": 1.1857108614559544,
            "bin_end": 1.1892042500998663,
            "count": 0
           },
           {
            "bin_start": 1.1892042500998663,
            "bin_end": 1.192697638743778,
            "count": 0
           },
           {
            "bin_start": 1.192697638743778,
            "bin_end": 1.19619102738769,
            "count": 2
           },
           {
            "bin_start": 1.19619102738769,
            "bin_end": 1.1996844160316016,
            "count": 1
           }
          ]
         }
        },
        {
         "name": "std_test_score",
         "dtype": "float64",
         "stats": {
          "unique_count": 5,
          "nan_count": 0,
          "min": "0.0721564263035574",
          "max": "0.108045522617847",
          "histogram": [
           {
            "bin_start": 0.0721564263035574,
            "bin_end": 0.07574533593498636,
            "count": 2
           },
           {
            "bin_start": 0.07574533593498636,
            "bin_end": 0.07933424556641532,
            "count": 1
           },
           {
            "bin_start": 0.07933424556641532,
            "bin_end": 0.08292315519784428,
            "count": 0
           },
           {
            "bin_start": 0.08292315519784428,
            "bin_end": 0.08651206482927323,
            "count": 0
           },
           {
            "bin_start": 0.08651206482927323,
            "bin_end": 0.0901009744607022,
            "count": 0
           },
           {
            "bin_start": 0.0901009744607022,
            "bin_end": 0.09368988409213116,
            "count": 1
           },
           {
            "bin_start": 0.09368988409213116,
            "bin_end": 0.09727879372356012,
            "count": 0
           },
           {
            "bin_start": 0.09727879372356012,
            "bin_end": 0.10086770335498908,
            "count": 0
           },
           {
            "bin_start": 0.10086770335498908,
            "bin_end": 0.10445661298641803,
            "count": 0
           },
           {
            "bin_start": 0.10445661298641803,
            "bin_end": 0.108045522617847,
            "count": 1
           }
          ]
         }
        },
        {
         "name": "rank_test_score",
         "dtype": "int64",
         "stats": {
          "unique_count": 5,
          "nan_count": 0,
          "min": "769",
          "max": "773",
          "histogram": [
           {
            "bin_start": 769,
            "bin_end": 769.4,
            "count": 1
           },
           {
            "bin_start": 769.4,
            "bin_end": 769.8,
            "count": 0
           },
           {
            "bin_start": 769.8,
            "bin_end": 770.2,
            "count": 1
           },
           {
            "bin_start": 770.2,
            "bin_end": 770.6,
            "count": 0
           },
           {
            "bin_start": 770.6,
            "bin_end": 771,
            "count": 0
           },
           {
            "bin_start": 771,
            "bin_end": 771.4,
            "count": 1
           },
           {
            "bin_start": 771.4,
            "bin_end": 771.8,
            "count": 0
           },
           {
            "bin_start": 771.8,
            "bin_end": 772.2,
            "count": 1
           },
           {
            "bin_start": 772.2,
            "bin_end": 772.6,
            "count": 0
           },
           {
            "bin_start": 772.6,
            "bin_end": 773,
            "count": 1
           }
          ]
         }
        },
        {
         "name": "_deepnote_index_column",
         "dtype": "int64"
        }
       ],
       "rows": [
        {
         "Unnamed: 0": 102,
         "mean_fit_time": 1.18116135597229,
         "std_fit_time": 0.1464624163653412,
         "mean_score_time": 0.002099061012268,
         "std_score_time": 0.0004578750004347,
         "param_activation": "logistic",
         "param_alpha": 0.0102339180060293,
         "param_batch_size": 789,
         "param_early_stopping": true,
         "param_hidden_layer_sizes": "(25, 25)",
         "param_learning_rate": "constant",
         "param_learning_rate_init": 0.0339405811413266,
         "param_max_iter": 500,
         "param_momentum": 0.95,
         "param_n_iter_no_change": 25,
         "param_random_state": 69,
         "param_solver": "sgd",
         "param_tol": 0.0010931098864753,
         "param_validation_fraction": 0.2,
         "params": "{'activation': 'logistic', 'alpha': 0.010233918006029375, 'batch_size': 789, 'early_stopping': True…",
         "split0_test_score": 1.0356648844698084,
         "split1_test_score": 1.0893297139105744,
         "split2_test_score": 1.1728304767161368,
         "split3_test_score": 1.2392876180066117,
         "split4_test_score": 1.267935007818174,
         "split5_test_score": 1.2594369530587597,
         "split6_test_score": 1.158725947718504,
         "split7_test_score": 1.0911761127481436,
         "split8_test_score": 1.297628982388645,
         "split9_test_score": 1.03548959908948,
         "mean_test_score": 1.1647505295924838,
         "std_test_score": 0.0934877443400611,
         "rank_test_score": 773,
         "_deepnote_index_column": 0
        },
        {
         "Unnamed: 0": 165,
         "mean_fit_time": 0.9130001544952392,
         "std_fit_time": 0.1265368569149931,
         "mean_score_time": 0.0021916627883911,
         "std_score_time": 0.0002027609005599,
         "param_activation": "logistic",
         "param_alpha": 0.0079312633076743,
         "param_batch_size": 649,
         "param_early_stopping": true,
         "param_hidden_layer_sizes": "(25, 25)",
         "param_learning_rate": "constant",
         "param_learning_rate_init": 0.0658905567059512,
         "param_max_iter": 500,
         "param_momentum": 0.95,
         "param_n_iter_no_change": 15,
         "param_random_state": 69,
         "param_solver": "sgd",
         "param_tol": 0.0010999353488398,
         "param_validation_fraction": 0.2,
         "params": "{'activation': 'logistic', 'alpha': 0.007931263307674375, 'batch_size': 649, 'early_stopping': True…",
         "split0_test_score": 1.0921680179700035,
         "split1_test_score": 1.0283320704939227,
         "split2_test_score": 1.2108951491569406,
         "split3_test_score": 1.2734905253548032,
         "split4_test_score": 1.312988155755564,
         "split5_test_score": 1.326840274461677,
         "split6_test_score": 1.1399398705555432,
         "split7_test_score": 1.0643542930303025,
         "split8_test_score": 1.3023384370197395,
         "split9_test_score": 1.0943206989567509,
         "mean_test_score": 1.1845667492755243,
         "std_test_score": 0.108045522617847,
         "rank_test_score": 772,
         "_deepnote_index_column": 1
        },
        {
         "Unnamed: 0": 765,
         "mean_fit_time": 0.8277134656906128,
         "std_fit_time": 0.1737590582682593,
         "mean_score_time": 0.0089469194412231,
         "std_score_time": 0.0177752648299014,
         "param_activation": "logistic",
         "param_alpha": 0.0747707827703349,
         "param_batch_size": 796,
         "param_early_stopping": true,
         "param_hidden_layer_sizes": "(10, 10)",
         "param_learning_rate": "constant",
         "param_learning_rate_init": 0.0635723158689807,
         "param_max_iter": 500,
         "param_momentum": 0.9,
         "param_n_iter_no_change": 25,
         "param_random_state": 69,
         "param_solver": "sgd",
         "param_tol": 0.0010878070862116,
         "param_validation_fraction": 0.2,
         "params": "{'activation': 'logistic', 'alpha': 0.0747707827703349, 'batch_size': 796, 'early_stopping': True, …",
         "split0_test_score": 1.0917327951064213,
         "split1_test_score": 1.1282602655958562,
         "split2_test_score": 1.2214954988751603,
         "split3_test_score": 1.2362671264788545,
         "split4_test_score": 1.2866359871329618,
         "split5_test_score": 1.2873231607307192,
         "split6_test_score": 1.2140106125794523,
         "split7_test_score": 1.1474882728070184,
         "split8_test_score": 1.2408284706375652,
         "split9_test_score": 1.0740975386431308,
         "mean_test_score": 1.192813972858714,
         "std_test_score": 0.0733025575518926,
         "rank_test_score": 771,
         "_deepnote_index_column": 2
        },
        {
         "Unnamed: 0": 641,
         "mean_fit_time": 0.6287803649902344,
         "std_fit_time": 0.0532991171744429,
         "mean_score_time": 0.0084153890609741,
         "std_score_time": 0.0182153204408931,
         "param_activation": "logistic",
         "param_alpha": 0.0651830131119403,
         "param_batch_size": 873,
         "param_early_stopping": true,
         "param_hidden_layer_sizes": "(25, 25)",
         "param_learning_rate": "constant",
         "param_learning_rate_init": 0.0671810343823607,
         "param_max_iter": 500,
         "param_momentum": 0.9,
         "param_n_iter_no_change": 5,
         "param_random_state": 69,
         "param_solver": "sgd",
         "param_tol": 0.0010932413970817,
         "param_validation_fraction": 0.2,
         "params": "{'activation': 'logistic', 'alpha': 0.06518301311194032, 'batch_size': 873, 'early_stopping': True,…",
         "split0_test_score": 1.1430275776903334,
         "split1_test_score": 1.0776337427342015,
         "split2_test_score": 1.193085670443345,
         "split3_test_score": 1.244920384734837,
         "split4_test_score": 1.2668508131587075,
         "split5_test_score": 1.2565750405184055,
         "split6_test_score": 1.1773085235698943,
         "split7_test_score": 1.155088283781463,
         "split8_test_score": 1.3335031822450198,
         "split9_test_score": 1.0971671920432609,
         "mean_test_score": 1.1945160410919466,
         "std_test_score": 0.0765399807510355,
         "rank_test_score": 770,
         "_deepnote_index_column": 3
        },
        {
         "Unnamed: 0": 579,
         "mean_fit_time": 0.891967511177063,
         "std_fit_time": 0.2512134188251058,
         "mean_score_time": 0.0026988983154296,
         "std_score_time": 0.0023893825400102,
         "param_activation": "logistic",
         "param_alpha": 0.0680968740778568,
         "param_batch_size": 923,
         "param_early_stopping": true,
         "param_hidden_layer_sizes": "(10, 10)",
         "param_learning_rate": "constant",
         "param_learning_rate_init": 0.119129672516707,
         "param_max_iter": 500,
         "param_momentum": 0.9,
         "param_n_iter_no_change": 25,
         "param_random_state": 69,
         "param_solver": "sgd",
         "param_tol": 0.00106735390541,
         "param_validation_fraction": 0.2,
         "params": "{'activation': 'logistic', 'alpha': 0.06809687407785685, 'batch_size': 923, 'early_stopping': True,…",
         "split0_test_score": 1.1492025279579583,
         "split1_test_score": 1.1565417821104902,
         "split2_test_score": 1.225371600222209,
         "split3_test_score": 1.2561232917753071,
         "split4_test_score": 1.289747215096778,
         "split5_test_score": 1.3242544731927828,
         "split6_test_score": 1.1261851704269468,
         "split7_test_score": 1.1077675797908293,
         "split8_test_score": 1.23383198684684,
         "split9_test_score": 1.1278185328958723,
         "mean_test_score": 1.1996844160316016,
         "std_test_score": 0.0721564263035574,
         "rank_test_score": 769,
         "_deepnote_index_column": 4
        }
       ]
      },
      "text/plain": "   Unnamed: 0  mean_fit_time  std_fit_time  mean_score_time  std_score_time  \\\n0         102       1.181161      0.146462         0.002099        0.000458   \n1         165       0.913000      0.126537         0.002192        0.000203   \n2         765       0.827713      0.173759         0.008947        0.017775   \n3         641       0.628780      0.053299         0.008415        0.018215   \n4         579       0.891968      0.251213         0.002699        0.002389   \n\n  param_activation  param_alpha  param_batch_size  param_early_stopping  \\\n0         logistic     0.010234               789                  True   \n1         logistic     0.007931               649                  True   \n2         logistic     0.074771               796                  True   \n3         logistic     0.065183               873                  True   \n4         logistic     0.068097               923                  True   \n\n  param_hidden_layer_sizes  ... split3_test_score  split4_test_score  \\\n0                 (25, 25)  ...          1.239288           1.267935   \n1                 (25, 25)  ...          1.273491           1.312988   \n2                 (10, 10)  ...          1.236267           1.286636   \n3                 (25, 25)  ...          1.244920           1.266851   \n4                 (10, 10)  ...          1.256123           1.289747   \n\n   split5_test_score  split6_test_score  split7_test_score  split8_test_score  \\\n0           1.259437           1.158726           1.091176           1.297629   \n1           1.326840           1.139940           1.064354           1.302338   \n2           1.287323           1.214011           1.147488           1.240828   \n3           1.256575           1.177309           1.155088           1.333503   \n4           1.324254           1.126185           1.107768           1.233832   \n\n  split9_test_score  mean_test_score  std_test_score rank_test_score  \n0          1.035490         1.164751        0.093488             773  \n1          1.094321         1.184567        0.108046             772  \n2          1.074098         1.192814        0.073303             771  \n3          1.097167         1.194516        0.076540             770  \n4          1.127819         1.199684        0.072156             769  \n\n[5 rows x 33 columns]",
      "text/html": "<div>\n<style scoped>\n    .dataframe tbody tr th:only-of-type {\n        vertical-align: middle;\n    }\n\n    .dataframe tbody tr th {\n        vertical-align: top;\n    }\n\n    .dataframe thead th {\n        text-align: right;\n    }\n</style>\n<table border=\"1\" class=\"dataframe\">\n  <thead>\n    <tr style=\"text-align: right;\">\n      <th></th>\n      <th>Unnamed: 0</th>\n      <th>mean_fit_time</th>\n      <th>std_fit_time</th>\n      <th>mean_score_time</th>\n      <th>std_score_time</th>\n      <th>param_activation</th>\n      <th>param_alpha</th>\n      <th>param_batch_size</th>\n      <th>param_early_stopping</th>\n      <th>param_hidden_layer_sizes</th>\n      <th>...</th>\n      <th>split3_test_score</th>\n      <th>split4_test_score</th>\n      <th>split5_test_score</th>\n      <th>split6_test_score</th>\n      <th>split7_test_score</th>\n      <th>split8_test_score</th>\n      <th>split9_test_score</th>\n      <th>mean_test_score</th>\n      <th>std_test_score</th>\n      <th>rank_test_score</th>\n    </tr>\n  </thead>\n  <tbody>\n    <tr>\n      <th>0</th>\n      <td>102</td>\n      <td>1.181161</td>\n      <td>0.146462</td>\n      <td>0.002099</td>\n      <td>0.000458</td>\n      <td>logistic</td>\n      <td>0.010234</td>\n      <td>789</td>\n      <td>True</td>\n      <td>(25, 25)</td>\n      <td>...</td>\n      <td>1.239288</td>\n      <td>1.267935</td>\n      <td>1.259437</td>\n      <td>1.158726</td>\n      <td>1.091176</td>\n      <td>1.297629</td>\n      <td>1.035490</td>\n      <td>1.164751</td>\n      <td>0.093488</td>\n      <td>773</td>\n    </tr>\n    <tr>\n      <th>1</th>\n      <td>165</td>\n      <td>0.913000</td>\n      <td>0.126537</td>\n      <td>0.002192</td>\n      <td>0.000203</td>\n      <td>logistic</td>\n      <td>0.007931</td>\n      <td>649</td>\n      <td>True</td>\n      <td>(25, 25)</td>\n      <td>...</td>\n      <td>1.273491</td>\n      <td>1.312988</td>\n      <td>1.326840</td>\n      <td>1.139940</td>\n      <td>1.064354</td>\n      <td>1.302338</td>\n      <td>1.094321</td>\n      <td>1.184567</td>\n      <td>0.108046</td>\n      <td>772</td>\n    </tr>\n    <tr>\n      <th>2</th>\n      <td>765</td>\n      <td>0.827713</td>\n      <td>0.173759</td>\n      <td>0.008947</td>\n      <td>0.017775</td>\n      <td>logistic</td>\n      <td>0.074771</td>\n      <td>796</td>\n      <td>True</td>\n      <td>(10, 10)</td>\n      <td>...</td>\n      <td>1.236267</td>\n      <td>1.286636</td>\n      <td>1.287323</td>\n      <td>1.214011</td>\n      <td>1.147488</td>\n      <td>1.240828</td>\n      <td>1.074098</td>\n      <td>1.192814</td>\n      <td>0.073303</td>\n      <td>771</td>\n    </tr>\n    <tr>\n      <th>3</th>\n      <td>641</td>\n      <td>0.628780</td>\n      <td>0.053299</td>\n      <td>0.008415</td>\n      <td>0.018215</td>\n      <td>logistic</td>\n      <td>0.065183</td>\n      <td>873</td>\n      <td>True</td>\n      <td>(25, 25)</td>\n      <td>...</td>\n      <td>1.244920</td>\n      <td>1.266851</td>\n      <td>1.256575</td>\n      <td>1.177309</td>\n      <td>1.155088</td>\n      <td>1.333503</td>\n      <td>1.097167</td>\n      <td>1.194516</td>\n      <td>0.076540</td>\n      <td>770</td>\n    </tr>\n    <tr>\n      <th>4</th>\n      <td>579</td>\n      <td>0.891968</td>\n      <td>0.251213</td>\n      <td>0.002699</td>\n      <td>0.002389</td>\n      <td>logistic</td>\n      <td>0.068097</td>\n      <td>923</td>\n      <td>True</td>\n      <td>(10, 10)</td>\n      <td>...</td>\n      <td>1.256123</td>\n      <td>1.289747</td>\n      <td>1.324254</td>\n      <td>1.126185</td>\n      <td>1.107768</td>\n      <td>1.233832</td>\n      <td>1.127819</td>\n      <td>1.199684</td>\n      <td>0.072156</td>\n      <td>769</td>\n    </tr>\n  </tbody>\n</table>\n<p>5 rows × 33 columns</p>\n</div>"
     },
     "metadata": {}
    }
   ]
  },
  {
   "cell_type": "code",
   "metadata": {
    "cell_id": "00078-2a895e47-b23e-4146-9a87-6d353021b6d6",
    "deepnote_to_be_reexecuted": false,
    "execution_millis": 2143496,
    "execution_start": 1642936851179,
    "output_cleared": false,
    "source_hash": "9dd11431",
    "tags": [],
    "deepnote_cell_type": "code"
   },
   "source": "#get the best params for the grid search (cannot use rand_gs.best_estimator directly since it will yield the worst estimator based on MEE)\nbest_params = df_results['params'][0]\nprint(f\"Mean error on the {k}-folds (MEE) on best model: {df_results['mean_test_score'][0]}\\n\")\nprint(f\"Best params: {best_params}\")",
   "execution_count": 15,
   "outputs": [
    {
     "name": "stdout",
     "text": "Mean error on the 10-folds (MEE) on best model: 1.1647505295924838\n\nBest params: {'activation': 'logistic', 'alpha': 0.010233918006029375, 'batch_size': 789, 'early_stopping': True, 'hidden_layer_sizes': (25, 25), 'learning_rate': 'constant', 'learning_rate_init': 0.03394058114132664, 'max_iter': 500, 'momentum': 0.95, 'n_iter_no_change': 25, 'random_state': 69, 'solver': 'sgd', 'tol': 0.001093109886475308, 'validation_fraction': 0.2}\n",
     "output_type": "stream"
    }
   ]
  },
  {
   "cell_type": "code",
   "metadata": {
    "cell_id": "00079-ed4a64e6-72fa-4843-be42-854bb434b60a",
    "deepnote_to_be_reexecuted": false,
    "execution_millis": 16,
    "execution_start": 1642936851239,
    "output_cleared": true,
    "source_hash": "67a41554",
    "tags": [],
    "deepnote_cell_type": "code"
   },
   "source": "@dataclass\nclass GridSearchRanges:\n    '''Class of keeping track of the min and max values for the hyperparameters tuning'''\n    \n    hidden_range = []\n    min_lr_init = 0\n    max_lr_init = 0\n    min_alpha = 0\n    max_alpha = 0\n    min_bs = 0\n    max_bs = 0\n    n_iter_no_change = []\n    min_tol = 0\n    max_tol = 0\n    min_momentum = 0\n    max_momentum = 0\n    \n    def set_ranges(self):\n\n        self.hidden_range = np.unique(df_results['param_hidden_layer_sizes'])\n        self.hidden_range = self.hidden_range.ravel() #convert to array\n        print(self.hidden_range)\n\n        self.min_lr_init = np.min(df_results['param_learning_rate_init'])\n        self.max_lr_init = np.max(df_results['param_learning_rate_init'])\n        print(f\"LR: [{self.min_lr_init}, {self.max_lr_init}]\")\n\n        self.min_alpha = np.min(df_results['param_alpha'])\n        self.max_alpha = np.max(df_results['param_alpha'])\n        print(f\"alpha: [{self.min_alpha}, {self.max_alpha}]\")\n\n        self.min_bs = np.min(df_results['param_batch_size'])\n        self.max_bs = np.max(df_results['param_batch_size'])\n        print(f\"BATCH: [{self.min_bs}, {self.max_bs}]\")\n\n        self.n_iter_no_change_range = np.unique(df_results['param_n_iter_no_change'])\n        self.n_iter_no_change_range = self.n_iter_no_change_range.ravel()\n        print(f\"n_iter_no_change: {self.n_iter_no_change_range}\")\n\n        self.min_tol = np.min(df_results['param_tol'])\n        self.max_tol = np.max(df_results['param_tol'])\n        print(f\"TOL: [{self.min_tol}, {self.max_tol}]\")\n    \n        self.min_momentum = np.min(df_results['param_momentum'])\n        self.max_momentum = np.max(df_results['param_momentum'])\n        print(f\"MOMENTUM: [{self.min_momentum}, {self.max_momentum}]\")\n    \n    ",
   "execution_count": 16,
   "outputs": []
  },
  {
   "cell_type": "code",
   "metadata": {
    "cell_id": "00080-9509be58-a986-4668-b879-f9b45a1b9b81",
    "deepnote_to_be_reexecuted": false,
    "execution_millis": 10,
    "execution_start": 1642936851257,
    "output_cleared": false,
    "source_hash": "a520897",
    "tags": [],
    "deepnote_cell_type": "code"
   },
   "source": "gs = GridSearchRanges()\ngs.set_ranges()\ngs.hidden_range = [ast.literal_eval(x) for x in gs.hidden_range]",
   "execution_count": 17,
   "outputs": [
    {
     "name": "stdout",
     "text": "['(10, 10)' '(10,)' '(100, 100)' '(100,)' '(25, 25)' '(25,)' '(5, 5)'\n '(50, 50)' '(50,)']\nLR: [0.0070651336762898, 0.1270912207454804]\nalpha: [0.0017125914842413, 0.0950509240248058]\nBATCH: [609, 1320]\nn_iter_no_change: [ 5 15 25]\nTOL: [0.0010007779806204, 0.0010999353488398]\nMOMENTUM: [0.9, 0.95]\n",
     "output_type": "stream"
    }
   ]
  },
  {
   "cell_type": "markdown",
   "source": "### Second Randomized Search using min e max values",
   "metadata": {
    "cell_id": "00081-0d21e4f3-8ccd-49ab-94d7-8f9f35a46c6e",
    "tags": [],
    "deepnote_cell_type": "markdown"
   }
  },
  {
   "cell_type": "code",
   "metadata": {
    "cell_id": "00082-a077d801-b482-4525-9965-579840263491",
    "deepnote_output_heights": [
     null,
     289.90625
    ],
    "deepnote_to_be_reexecuted": false,
    "execution_millis": 62,
    "execution_start": 1642936851312,
    "output_cleared": false,
    "source_hash": "775e3dc4",
    "tags": [],
    "deepnote_cell_type": "code"
   },
   "source": "%%time\n%%script false --no-raise-error\n\n# define the parameters values\nparams = {\n    \"hidden_layer_sizes\": gs.hidden_range,\n    \"activation\" : [\"logistic\", \"tanh\"],\n    \"solver\": [\"sgd\"],\n    \"learning_rate\": [\"adaptive\", \"invscaling\"],\n    \"learning_rate_init\": uniform(gs.min_lr_init, gs.max_lr_init),\n    \"alpha\": uniform(gs.min_alpha, gs.max_alpha),\n    \"batch_size\": randint(gs.min_bs, gs.max_bs),\n    \"n_iter_no_change\": [5, 15, 25],\n    \"momentum\": uniform(gs.min_momentum, gs.max_momentum),\n    \"random_state\": [RS_NUMBER],\n    \"tol\": uniform(gs.min_tol,gs.max_tol),\n    \"early_stopping\": [True],\n    \"validation_fraction\": [0.2],\n    \"max_iter\": [500],\n}\n\n# define the grid search\nrand_gs = RandomizedSearchCV(\n    MLPRegressor(),\n    param_distributions=params,\n    n_iter=n_iter_search,\n    n_jobs=-1,\n    scoring=make_scorer(mee), #scoring is based on the highest value\n    cv=k,\n    random_state = RS_NUMBER,\n    verbose=10,\n)\n# run the grid search\nrand_gs.fit(X, y)\n",
   "execution_count": 18,
   "outputs": [
    {
     "name": "stdout",
     "text": "CPU times: user 963 µs, sys: 7.94 ms, total: 8.9 ms\nWall time: 96.2 ms\n",
     "output_type": "stream"
    }
   ]
  },
  {
   "cell_type": "code",
   "metadata": {
    "cell_id": "00083-f936a019-eb5d-4273-89a6-5a8a7f5454d4",
    "deepnote_to_be_reexecuted": false,
    "execution_millis": 49,
    "execution_start": 1642936851420,
    "output_cleared": true,
    "source_hash": "2cdd49a7",
    "tags": [],
    "deepnote_cell_type": "code"
   },
   "source": "%%script false --no-raise-error\n\ndf_results = pd.DataFrame(data=rand_gs.cv_results_) #trasform into a pandas dataframe\ndf_results.sort_values(by=\"rank_test_score\", axis=0, ascending=False, inplace=True) #sort rank values in decreasing order \ndf_results.dropna(inplace=True) #delete nan values \ndf_results = df_results[:50] #keep only top 50 models\npd.DataFrame.to_csv(df_results, \"sklearn_results/rand2_search.csv\")",
   "execution_count": 19,
   "outputs": []
  },
  {
   "cell_type": "code",
   "metadata": {
    "cell_id": "00084-f761c9e1-2fc3-4510-bd14-7f25eda61514",
    "deepnote_output_heights": [
     611
    ],
    "deepnote_to_be_reexecuted": false,
    "execution_millis": 1061,
    "execution_start": 1642936851517,
    "output_cleared": false,
    "source_hash": "89537475",
    "tags": [],
    "deepnote_cell_type": "code"
   },
   "source": "df_results = pd.read_csv(\"sklearn_results/rand2_search.csv\")\ndf_results.head()",
   "execution_count": 20,
   "outputs": [
    {
     "output_type": "execute_result",
     "execution_count": 20,
     "data": {
      "application/vnd.deepnote.dataframe.v3+json": {
       "column_count": 33,
       "row_count": 5,
       "columns": [
        {
         "name": "Unnamed: 0",
         "dtype": "int64",
         "stats": {
          "unique_count": 5,
          "nan_count": 0,
          "min": "14",
          "max": "614",
          "histogram": [
           {
            "bin_start": 14,
            "bin_end": 74,
            "count": 1
           },
           {
            "bin_start": 74,
            "bin_end": 134,
            "count": 0
           },
           {
            "bin_start": 134,
            "bin_end": 194,
            "count": 1
           },
           {
            "bin_start": 194,
            "bin_end": 254,
            "count": 1
           },
           {
            "bin_start": 254,
            "bin_end": 314,
            "count": 1
           },
           {
            "bin_start": 314,
            "bin_end": 374,
            "count": 0
           },
           {
            "bin_start": 374,
            "bin_end": 434,
            "count": 0
           },
           {
            "bin_start": 434,
            "bin_end": 494,
            "count": 0
           },
           {
            "bin_start": 494,
            "bin_end": 554,
            "count": 0
           },
           {
            "bin_start": 554,
            "bin_end": 614,
            "count": 1
           }
          ]
         }
        },
        {
         "name": "mean_fit_time",
         "dtype": "float64",
         "stats": {
          "unique_count": 5,
          "nan_count": 0,
          "min": "1.9171498775482176",
          "max": "6.210365033149719",
          "histogram": [
           {
            "bin_start": 1.9171498775482176,
            "bin_end": 2.346471393108368,
            "count": 1
           },
           {
            "bin_start": 2.346471393108368,
            "bin_end": 2.775792908668518,
            "count": 1
           },
           {
            "bin_start": 2.775792908668518,
            "bin_end": 3.205114424228668,
            "count": 0
           },
           {
            "bin_start": 3.205114424228668,
            "bin_end": 3.634435939788818,
            "count": 1
           },
           {
            "bin_start": 3.634435939788818,
            "bin_end": 4.063757455348968,
            "count": 0
           },
           {
            "bin_start": 4.063757455348968,
            "bin_end": 4.493078970909118,
            "count": 0
           },
           {
            "bin_start": 4.493078970909118,
            "bin_end": 4.922400486469269,
            "count": 0
           },
           {
            "bin_start": 4.922400486469269,
            "bin_end": 5.351722002029419,
            "count": 0
           },
           {
            "bin_start": 5.351722002029419,
            "bin_end": 5.781043517589569,
            "count": 1
           },
           {
            "bin_start": 5.781043517589569,
            "bin_end": 6.210365033149719,
            "count": 1
           }
          ]
         }
        },
        {
         "name": "std_fit_time",
         "dtype": "float64",
         "stats": {
          "unique_count": 5,
          "nan_count": 0,
          "min": "0.1083647410677844",
          "max": "1.272456493707846",
          "histogram": [
           {
            "bin_start": 0.1083647410677844,
            "bin_end": 0.22477391633179056,
            "count": 1
           },
           {
            "bin_start": 0.22477391633179056,
            "bin_end": 0.34118309159579674,
            "count": 1
           },
           {
            "bin_start": 0.34118309159579674,
            "bin_end": 0.4575922668598028,
            "count": 1
           },
           {
            "bin_start": 0.4575922668598028,
            "bin_end": 0.574001442123809,
            "count": 0
           },
           {
            "bin_start": 0.574001442123809,
            "bin_end": 0.6904106173878152,
            "count": 0
           },
           {
            "bin_start": 0.6904106173878152,
            "bin_end": 0.8068197926518212,
            "count": 0
           },
           {
            "bin_start": 0.8068197926518212,
            "bin_end": 0.9232289679158274,
            "count": 1
           },
           {
            "bin_start": 0.9232289679158274,
            "bin_end": 1.0396381431798336,
            "count": 0
           },
           {
            "bin_start": 1.0396381431798336,
            "bin_end": 1.1560473184438398,
            "count": 0
           },
           {
            "bin_start": 1.1560473184438398,
            "bin_end": 1.272456493707846,
            "count": 1
           }
          ]
         }
        },
        {
         "name": "mean_score_time",
         "dtype": "float64",
         "stats": {
          "unique_count": 5,
          "nan_count": 0,
          "min": "0.0025073528289794",
          "max": "0.024622631072998",
          "histogram": [
           {
            "bin_start": 0.0025073528289794,
            "bin_end": 0.00471888065338126,
            "count": 3
           },
           {
            "bin_start": 0.00471888065338126,
            "bin_end": 0.006930408477783119,
            "count": 0
           },
           {
            "bin_start": 0.006930408477783119,
            "bin_end": 0.009141936302184978,
            "count": 0
           },
           {
            "bin_start": 0.009141936302184978,
            "bin_end": 0.011353464126586839,
            "count": 0
           },
           {
            "bin_start": 0.011353464126586839,
            "bin_end": 0.0135649919509887,
            "count": 0
           },
           {
            "bin_start": 0.0135649919509887,
            "bin_end": 0.01577651977539056,
            "count": 1
           },
           {
            "bin_start": 0.01577651977539056,
            "bin_end": 0.017988047599792417,
            "count": 0
           },
           {
            "bin_start": 0.017988047599792417,
            "bin_end": 0.020199575424194278,
            "count": 0
           },
           {
            "bin_start": 0.020199575424194278,
            "bin_end": 0.02241110324859614,
            "count": 0
           },
           {
            "bin_start": 0.02241110324859614,
            "bin_end": 0.024622631072998,
            "count": 1
           }
          ]
         }
        },
        {
         "name": "std_score_time",
         "dtype": "float64",
         "stats": {
          "unique_count": 5,
          "nan_count": 0,
          "min": "0.0001024905872323",
          "max": "0.0304424931985142",
          "histogram": [
           {
            "bin_start": 0.0001024905872323,
            "bin_end": 0.0031364908483604895,
            "count": 3
           },
           {
            "bin_start": 0.0031364908483604895,
            "bin_end": 0.00617049110948868,
            "count": 0
           },
           {
            "bin_start": 0.00617049110948868,
            "bin_end": 0.009204491370616867,
            "count": 0
           },
           {
            "bin_start": 0.009204491370616867,
            "bin_end": 0.012238491631745058,
            "count": 0
           },
           {
            "bin_start": 0.012238491631745058,
            "bin_end": 0.015272491892873248,
            "count": 0
           },
           {
            "bin_start": 0.015272491892873248,
            "bin_end": 0.018306492154001437,
            "count": 0
           },
           {
            "bin_start": 0.018306492154001437,
            "bin_end": 0.021340492415129628,
            "count": 0
           },
           {
            "bin_start": 0.021340492415129628,
            "bin_end": 0.024374492676257818,
            "count": 1
           },
           {
            "bin_start": 0.024374492676257818,
            "bin_end": 0.02740849293738601,
            "count": 0
           },
           {
            "bin_start": 0.02740849293738601,
            "bin_end": 0.0304424931985142,
            "count": 1
           }
          ]
         }
        },
        {
         "name": "param_activation",
         "dtype": "object",
         "stats": {
          "unique_count": 2,
          "nan_count": 0,
          "categories": [
           {
            "name": "logistic",
            "count": 3
           },
           {
            "name": "tanh",
            "count": 2
           }
          ]
         }
        },
        {
         "name": "param_alpha",
         "dtype": "float64",
         "stats": {
          "unique_count": 5,
          "nan_count": 0,
          "min": "0.0232920035488129",
          "max": "0.0866506166810653",
          "histogram": [
           {
            "bin_start": 0.0232920035488129,
            "bin_end": 0.02962786486203814,
            "count": 2
           },
           {
            "bin_start": 0.02962786486203814,
            "bin_end": 0.03596372617526338,
            "count": 0
           },
           {
            "bin_start": 0.03596372617526338,
            "bin_end": 0.042299587488488624,
            "count": 0
           },
           {
            "bin_start": 0.042299587488488624,
            "bin_end": 0.04863544880171386,
            "count": 0
           },
           {
            "bin_start": 0.04863544880171386,
            "bin_end": 0.054971310114939095,
            "count": 0
           },
           {
            "bin_start": 0.054971310114939095,
            "bin_end": 0.061307171428164345,
            "count": 1
           },
           {
            "bin_start": 0.061307171428164345,
            "bin_end": 0.06764303274138958,
            "count": 0
           },
           {
            "bin_start": 0.06764303274138958,
            "bin_end": 0.07397889405461482,
            "count": 0
           },
           {
            "bin_start": 0.07397889405461482,
            "bin_end": 0.08031475536784007,
            "count": 0
           },
           {
            "bin_start": 0.08031475536784007,
            "bin_end": 0.0866506166810653,
            "count": 2
           }
          ]
         }
        },
        {
         "name": "param_batch_size",
         "dtype": "int64",
         "stats": {
          "unique_count": 5,
          "nan_count": 0,
          "min": "637",
          "max": "1286",
          "histogram": [
           {
            "bin_start": 637,
            "bin_end": 701.9,
            "count": 1
           },
           {
            "bin_start": 701.9,
            "bin_end": 766.8,
            "count": 1
           },
           {
            "bin_start": 766.8,
            "bin_end": 831.7,
            "count": 1
           },
           {
            "bin_start": 831.7,
            "bin_end": 896.6,
            "count": 0
           },
           {
            "bin_start": 896.6,
            "bin_end": 961.5,
            "count": 0
           },
           {
            "bin_start": 961.5,
            "bin_end": 1026.4,
            "count": 0
           },
           {
            "bin_start": 1026.4,
            "bin_end": 1091.3000000000002,
            "count": 0
           },
           {
            "bin_start": 1091.3000000000002,
            "bin_end": 1156.2,
            "count": 0
           },
           {
            "bin_start": 1156.2,
            "bin_end": 1221.1,
            "count": 0
           },
           {
            "bin_start": 1221.1,
            "bin_end": 1286,
            "count": 2
           }
          ]
         }
        },
        {
         "name": "param_early_stopping",
         "dtype": "bool",
         "stats": {
          "unique_count": 1,
          "nan_count": 0,
          "categories": [
           {
            "name": "True",
            "count": 5
           }
          ]
         }
        },
        {
         "name": "param_hidden_layer_sizes",
         "dtype": "object",
         "stats": {
          "unique_count": 3,
          "nan_count": 0,
          "categories": [
           {
            "name": "(50,)",
            "count": 2
           },
           {
            "name": "(50, 50)",
            "count": 2
           },
           {
            "name": "(10, 10)",
            "count": 1
           }
          ]
         }
        },
        {
         "name": "param_learning_rate",
         "dtype": "object",
         "stats": {
          "unique_count": 1,
          "nan_count": 0,
          "categories": [
           {
            "name": "adaptive",
            "count": 5
           }
          ]
         }
        },
        {
         "name": "param_learning_rate_init",
         "dtype": "float64",
         "stats": {
          "unique_count": 5,
          "nan_count": 0,
          "min": "0.0083276475589842",
          "max": "0.0805964269626481",
          "histogram": [
           {
            "bin_start": 0.0083276475589842,
            "bin_end": 0.01555452549935059,
            "count": 2
           },
           {
            "bin_start": 0.01555452549935059,
            "bin_end": 0.02278140343971698,
            "count": 1
           },
           {
            "bin_start": 0.02278140343971698,
            "bin_end": 0.030008281380083372,
            "count": 0
           },
           {
            "bin_start": 0.030008281380083372,
            "bin_end": 0.03723515932044976,
            "count": 0
           },
           {
            "bin_start": 0.03723515932044976,
            "bin_end": 0.04446203726081615,
            "count": 0
           },
           {
            "bin_start": 0.04446203726081615,
            "bin_end": 0.051688915201182545,
            "count": 1
           },
           {
            "bin_start": 0.051688915201182545,
            "bin_end": 0.05891579314154893,
            "count": 0
           },
           {
            "bin_start": 0.05891579314154893,
            "bin_end": 0.06614267108191532,
            "count": 0
           },
           {
            "bin_start": 0.06614267108191532,
            "bin_end": 0.07336954902228171,
            "count": 0
           },
           {
            "bin_start": 0.07336954902228171,
            "bin_end": 0.0805964269626481,
            "count": 1
           }
          ]
         }
        },
        {
         "name": "param_max_iter",
         "dtype": "int64",
         "stats": {
          "unique_count": 1,
          "nan_count": 0,
          "min": "500",
          "max": "500",
          "histogram": [
           {
            "bin_start": 499.5,
            "bin_end": 499.6,
            "count": 0
           },
           {
            "bin_start": 499.6,
            "bin_end": 499.7,
            "count": 0
           },
           {
            "bin_start": 499.7,
            "bin_end": 499.8,
            "count": 0
           },
           {
            "bin_start": 499.8,
            "bin_end": 499.9,
            "count": 0
           },
           {
            "bin_start": 499.9,
            "bin_end": 500,
            "count": 0
           },
           {
            "bin_start": 500,
            "bin_end": 500.1,
            "count": 5
           },
           {
            "bin_start": 500.1,
            "bin_end": 500.2,
            "count": 0
           },
           {
            "bin_start": 500.2,
            "bin_end": 500.3,
            "count": 0
           },
           {
            "bin_start": 500.3,
            "bin_end": 500.4,
            "count": 0
           },
           {
            "bin_start": 500.4,
            "bin_end": 500.5,
            "count": 0
           }
          ]
         }
        },
        {
         "name": "param_momentum",
         "dtype": "float64",
         "stats": {
          "unique_count": 5,
          "nan_count": 0,
          "min": "0.900909720491844",
          "max": "0.9820359157263444",
          "histogram": [
           {
            "bin_start": 0.900909720491844,
            "bin_end": 0.909022340015294,
            "count": 1
           },
           {
            "bin_start": 0.909022340015294,
            "bin_end": 0.9171349595387441,
            "count": 1
           },
           {
            "bin_start": 0.9171349595387441,
            "bin_end": 0.9252475790621941,
            "count": 0
           },
           {
            "bin_start": 0.9252475790621941,
            "bin_end": 0.9333601985856442,
            "count": 0
           },
           {
            "bin_start": 0.9333601985856442,
            "bin_end": 0.9414728181090942,
            "count": 1
           },
           {
            "bin_start": 0.9414728181090942,
            "bin_end": 0.9495854376325442,
            "count": 0
           },
           {
            "bin_start": 0.9495854376325442,
            "bin_end": 0.9576980571559943,
            "count": 0
           },
           {
            "bin_start": 0.9576980571559943,
            "bin_end": 0.9658106766794443,
            "count": 1
           },
           {
            "bin_start": 0.9658106766794443,
            "bin_end": 0.9739232962028944,
            "count": 0
           },
           {
            "bin_start": 0.9739232962028944,
            "bin_end": 0.9820359157263444,
            "count": 1
           }
          ]
         }
        },
        {
         "name": "param_n_iter_no_change",
         "dtype": "int64",
         "stats": {
          "unique_count": 2,
          "nan_count": 0,
          "min": "15",
          "max": "25",
          "histogram": [
           {
            "bin_start": 15,
            "bin_end": 16,
            "count": 3
           },
           {
            "bin_start": 16,
            "bin_end": 17,
            "count": 0
           },
           {
            "bin_start": 17,
            "bin_end": 18,
            "count": 0
           },
           {
            "bin_start": 18,
            "bin_end": 19,
            "count": 0
           },
           {
            "bin_start": 19,
            "bin_end": 20,
            "count": 0
           },
           {
            "bin_start": 20,
            "bin_end": 21,
            "count": 0
           },
           {
            "bin_start": 21,
            "bin_end": 22,
            "count": 0
           },
           {
            "bin_start": 22,
            "bin_end": 23,
            "count": 0
           },
           {
            "bin_start": 23,
            "bin_end": 24,
            "count": 0
           },
           {
            "bin_start": 24,
            "bin_end": 25,
            "count": 2
           }
          ]
         }
        },
        {
         "name": "param_random_state",
         "dtype": "int64",
         "stats": {
          "unique_count": 1,
          "nan_count": 0,
          "min": "69",
          "max": "69",
          "histogram": [
           {
            "bin_start": 68.5,
            "bin_end": 68.6,
            "count": 0
           },
           {
            "bin_start": 68.6,
            "bin_end": 68.7,
            "count": 0
           },
           {
            "bin_start": 68.7,
            "bin_end": 68.8,
            "count": 0
           },
           {
            "bin_start": 68.8,
            "bin_end": 68.9,
            "count": 0
           },
           {
            "bin_start": 68.9,
            "bin_end": 69,
            "count": 0
           },
           {
            "bin_start": 69,
            "bin_end": 69.1,
            "count": 5
           },
           {
            "bin_start": 69.1,
            "bin_end": 69.2,
            "count": 0
           },
           {
            "bin_start": 69.2,
            "bin_end": 69.3,
            "count": 0
           },
           {
            "bin_start": 69.3,
            "bin_end": 69.4,
            "count": 0
           },
           {
            "bin_start": 69.4,
            "bin_end": 69.5,
            "count": 0
           }
          ]
         }
        },
        {
         "name": "param_solver",
         "dtype": "object",
         "stats": {
          "unique_count": 1,
          "nan_count": 0,
          "categories": [
           {
            "name": "sgd",
            "count": 5
           }
          ]
         }
        },
        {
         "name": "param_tol",
         "dtype": "float64",
         "stats": {
          "unique_count": 5,
          "nan_count": 0,
          "min": "0.0011594391781989",
          "max": "0.0020546628801992",
          "histogram": [
           {
            "bin_start": 0.0011594391781989,
            "bin_end": 0.00124896154839893,
            "count": 1
           },
           {
            "bin_start": 0.00124896154839893,
            "bin_end": 0.00133848391859896,
            "count": 0
           },
           {
            "bin_start": 0.00133848391859896,
            "bin_end": 0.00142800628879899,
            "count": 0
           },
           {
            "bin_start": 0.00142800628879899,
            "bin_end": 0.00151752865899902,
            "count": 0
           },
           {
            "bin_start": 0.00151752865899902,
            "bin_end": 0.00160705102919905,
            "count": 0
           },
           {
            "bin_start": 0.00160705102919905,
            "bin_end": 0.00169657339939908,
            "count": 1
           },
           {
            "bin_start": 0.00169657339939908,
            "bin_end": 0.00178609576959911,
            "count": 1
           },
           {
            "bin_start": 0.00178609576959911,
            "bin_end": 0.00187561813979914,
            "count": 0
           },
           {
            "bin_start": 0.00187561813979914,
            "bin_end": 0.0019651405099991703,
            "count": 0
           },
           {
            "bin_start": 0.0019651405099991703,
            "bin_end": 0.0020546628801992,
            "count": 2
           }
          ]
         }
        },
        {
         "name": "param_validation_fraction",
         "dtype": "float64",
         "stats": {
          "unique_count": 1,
          "nan_count": 0,
          "min": "0.2",
          "max": "0.2",
          "histogram": [
           {
            "bin_start": -0.3,
            "bin_end": -0.19999999999999998,
            "count": 0
           },
           {
            "bin_start": -0.19999999999999998,
            "bin_end": -0.09999999999999998,
            "count": 0
           },
           {
            "bin_start": -0.09999999999999998,
            "bin_end": 5.551115123125783e-17,
            "count": 0
           },
           {
            "bin_start": 5.551115123125783e-17,
            "bin_end": 0.10000000000000003,
            "count": 0
           },
           {
            "bin_start": 0.10000000000000003,
            "bin_end": 0.2,
            "count": 0
           },
           {
            "bin_start": 0.2,
            "bin_end": 0.3000000000000001,
            "count": 5
           },
           {
            "bin_start": 0.3000000000000001,
            "bin_end": 0.4000000000000001,
            "count": 0
           },
           {
            "bin_start": 0.4000000000000001,
            "bin_end": 0.5,
            "count": 0
           },
           {
            "bin_start": 0.5,
            "bin_end": 0.6000000000000001,
            "count": 0
           },
           {
            "bin_start": 0.6000000000000001,
            "bin_end": 0.7,
            "count": 0
           }
          ]
         }
        },
        {
         "name": "params",
         "dtype": "object",
         "stats": {
          "unique_count": 5,
          "nan_count": 0,
          "categories": [
           {
            "name": "{'activation': 'logistic', 'alpha': 0.0565141252155968, 'batch_size': 743, 'early_stopping': True, 'hidden_layer_sizes': (50,), 'learning_rate': 'adaptive', 'learning_rate_init': 0.04555430306790266, 'max_iter': 500, 'momentum': 0.9342701516072042, 'n_iter_no_change': 25, 'random_state': 69, 'solver': 'sgd', 'tol': 0.0020546628801992204, 'validation_fraction': 0.2}",
            "count": 1
           },
           {
            "name": "{'activation': 'logistic', 'alpha': 0.0232920035488129, 'batch_size': 637, 'early_stopping': True, 'hidden_layer_sizes': (50,), 'learning_rate': 'adaptive', 'learning_rate_init': 0.008327647558984257, 'max_iter': 500, 'momentum': 0.9820359157263445, 'n_iter_no_change': 25, 'random_state': 69, 'solver': 'sgd', 'tol': 0.0011594391781989245, 'validation_fraction': 0.2}",
            "count": 1
           },
           {
            "name": "3 others",
            "count": 3
           }
          ]
         }
        },
        {
         "name": "split0_test_score",
         "dtype": "float64",
         "stats": {
          "unique_count": 5,
          "nan_count": 0,
          "min": "1.1193486607758656",
          "max": "1.381427973827556",
          "histogram": [
           {
            "bin_start": 1.1193486607758656,
            "bin_end": 1.1455565920810347,
            "count": 2
           },
           {
            "bin_start": 1.1455565920810347,
            "bin_end": 1.1717645233862037,
            "count": 0
           },
           {
            "bin_start": 1.1717645233862037,
            "bin_end": 1.1979724546913728,
            "count": 0
           },
           {
            "bin_start": 1.1979724546913728,
            "bin_end": 1.2241803859965419,
            "count": 1
           },
           {
            "bin_start": 1.2241803859965419,
            "bin_end": 1.2503883173017107,
            "count": 0
           },
           {
            "bin_start": 1.2503883173017107,
            "bin_end": 1.27659624860688,
            "count": 1
           },
           {
            "bin_start": 1.27659624860688,
            "bin_end": 1.3028041799120489,
            "count": 0
           },
           {
            "bin_start": 1.3028041799120489,
            "bin_end": 1.329012111217218,
            "count": 0
           },
           {
            "bin_start": 1.329012111217218,
            "bin_end": 1.355220042522387,
            "count": 0
           },
           {
            "bin_start": 1.355220042522387,
            "bin_end": 1.381427973827556,
            "count": 1
           }
          ]
         }
        },
        {
         "name": "split1_test_score",
         "dtype": "float64",
         "stats": {
          "unique_count": 5,
          "nan_count": 0,
          "min": "1.1221232805480688",
          "max": "1.2877888447566486",
          "histogram": [
           {
            "bin_start": 1.1221232805480688,
            "bin_end": 1.1386898369689267,
            "count": 1
           },
           {
            "bin_start": 1.1386898369689267,
            "bin_end": 1.1552563933897848,
            "count": 1
           },
           {
            "bin_start": 1.1552563933897848,
            "bin_end": 1.1718229498106427,
            "count": 1
           },
           {
            "bin_start": 1.1718229498106427,
            "bin_end": 1.1883895062315006,
            "count": 1
           },
           {
            "bin_start": 1.1883895062315006,
            "bin_end": 1.2049560626523586,
            "count": 0
           },
           {
            "bin_start": 1.2049560626523586,
            "bin_end": 1.2215226190732167,
            "count": 0
           },
           {
            "bin_start": 1.2215226190732167,
            "bin_end": 1.2380891754940746,
            "count": 0
           },
           {
            "bin_start": 1.2380891754940746,
            "bin_end": 1.2546557319149325,
            "count": 0
           },
           {
            "bin_start": 1.2546557319149325,
            "bin_end": 1.2712222883357907,
            "count": 0
           },
           {
            "bin_start": 1.2712222883357907,
            "bin_end": 1.2877888447566486,
            "count": 1
           }
          ]
         }
        },
        {
         "name": "split2_test_score",
         "dtype": "float64",
         "stats": {
          "unique_count": 5,
          "nan_count": 0,
          "min": "1.2298090680982423",
          "max": "1.3763100330035871",
          "histogram": [
           {
            "bin_start": 1.2298090680982423,
            "bin_end": 1.2444591645887768,
            "count": 1
           },
           {
            "bin_start": 1.2444591645887768,
            "bin_end": 1.2591092610793113,
            "count": 0
           },
           {
            "bin_start": 1.2591092610793113,
            "bin_end": 1.2737593575698458,
            "count": 1
           },
           {
            "bin_start": 1.2737593575698458,
            "bin_end": 1.2884094540603803,
            "count": 1
           },
           {
            "bin_start": 1.2884094540603803,
            "bin_end": 1.3030595505509148,
            "count": 1
           },
           {
            "bin_start": 1.3030595505509148,
            "bin_end": 1.317709647041449,
            "count": 0
           },
           {
            "bin_start": 1.317709647041449,
            "bin_end": 1.3323597435319836,
            "count": 0
           },
           {
            "bin_start": 1.3323597435319836,
            "bin_end": 1.3470098400225181,
            "count": 0
           },
           {
            "bin_start": 1.3470098400225181,
            "bin_end": 1.3616599365130526,
            "count": 0
           },
           {
            "bin_start": 1.3616599365130526,
            "bin_end": 1.3763100330035871,
            "count": 1
           }
          ]
         }
        },
        {
         "name": "split3_test_score",
         "dtype": "float64",
         "stats": {
          "unique_count": 5,
          "nan_count": 0,
          "min": "1.3391068775166857",
          "max": "1.375468329278899",
          "histogram": [
           {
            "bin_start": 1.3391068775166857,
            "bin_end": 1.342743022692907,
            "count": 2
           },
           {
            "bin_start": 1.342743022692907,
            "bin_end": 1.3463791678691284,
            "count": 1
           },
           {
            "bin_start": 1.3463791678691284,
            "bin_end": 1.3500153130453496,
            "count": 0
           },
           {
            "bin_start": 1.3500153130453496,
            "bin_end": 1.353651458221571,
            "count": 0
           },
           {
            "bin_start": 1.353651458221571,
            "bin_end": 1.3572876033977923,
            "count": 0
           },
           {
            "bin_start": 1.3572876033977923,
            "bin_end": 1.3609237485740135,
            "count": 1
           },
           {
            "bin_start": 1.3609237485740135,
            "bin_end": 1.364559893750235,
            "count": 0
           },
           {
            "bin_start": 1.364559893750235,
            "bin_end": 1.3681960389264562,
            "count": 0
           },
           {
            "bin_start": 1.3681960389264562,
            "bin_end": 1.3718321841026777,
            "count": 0
           },
           {
            "bin_start": 1.3718321841026777,
            "bin_end": 1.375468329278899,
            "count": 1
           }
          ]
         }
        },
        {
         "name": "split4_test_score",
         "dtype": "float64",
         "stats": {
          "unique_count": 5,
          "nan_count": 0,
          "min": "1.29739674365957",
          "max": "1.4136324630082704",
          "histogram": [
           {
            "bin_start": 1.29739674365957,
            "bin_end": 1.30902031559444,
            "count": 1
           },
           {
            "bin_start": 1.30902031559444,
            "bin_end": 1.32064388752931,
            "count": 0
           },
           {
            "bin_start": 1.32064388752931,
            "bin_end": 1.3322674594641801,
            "count": 0
           },
           {
            "bin_start": 1.3322674594641801,
            "bin_end": 1.3438910313990502,
            "count": 1
           },
           {
            "bin_start": 1.3438910313990502,
            "bin_end": 1.35551460333392,
            "count": 2
           },
           {
            "bin_start": 1.35551460333392,
            "bin_end": 1.3671381752687901,
            "count": 0
           },
           {
            "bin_start": 1.3671381752687901,
            "bin_end": 1.3787617472036602,
            "count": 0
           },
           {
            "bin_start": 1.3787617472036602,
            "bin_end": 1.3903853191385303,
            "count": 0
           },
           {
            "bin_start": 1.3903853191385303,
            "bin_end": 1.4020088910734003,
            "count": 0
           },
           {
            "bin_start": 1.4020088910734003,
            "bin_end": 1.4136324630082704,
            "count": 1
           }
          ]
         }
        },
        {
         "name": "split5_test_score",
         "dtype": "float64",
         "stats": {
          "unique_count": 5,
          "nan_count": 0,
          "min": "1.2753760455324623",
          "max": "1.399066671782763",
          "histogram": [
           {
            "bin_start": 1.2753760455324623,
            "bin_end": 1.2877451081574924,
            "count": 1
           },
           {
            "bin_start": 1.2877451081574924,
            "bin_end": 1.3001141707825223,
            "count": 0
           },
           {
            "bin_start": 1.3001141707825223,
            "bin_end": 1.3124832334075525,
            "count": 1
           },
           {
            "bin_start": 1.3124832334075525,
            "bin_end": 1.3248522960325826,
            "count": 0
           },
           {
            "bin_start": 1.3248522960325826,
            "bin_end": 1.3372213586576125,
            "count": 1
           },
           {
            "bin_start": 1.3372213586576125,
            "bin_end": 1.3495904212826426,
            "count": 0
           },
           {
            "bin_start": 1.3495904212826426,
            "bin_end": 1.3619594839076727,
            "count": 0
           },
           {
            "bin_start": 1.3619594839076727,
            "bin_end": 1.3743285465327029,
            "count": 1
           },
           {
            "bin_start": 1.3743285465327029,
            "bin_end": 1.3866976091577328,
            "count": 0
           },
           {
            "bin_start": 1.3866976091577328,
            "bin_end": 1.399066671782763,
            "count": 1
           }
          ]
         }
        },
        {
         "name": "split6_test_score",
         "dtype": "float64",
         "stats": {
          "unique_count": 5,
          "nan_count": 0,
          "min": "1.225993529634042",
          "max": "1.329574081756813",
          "histogram": [
           {
            "bin_start": 1.225993529634042,
            "bin_end": 1.2363515848463191,
            "count": 2
           },
           {
            "bin_start": 1.2363515848463191,
            "bin_end": 1.2467096400585962,
            "count": 0
           },
           {
            "bin_start": 1.2467096400585962,
            "bin_end": 1.2570676952708733,
            "count": 0
           },
           {
            "bin_start": 1.2570676952708733,
            "bin_end": 1.2674257504831503,
            "count": 0
           },
           {
            "bin_start": 1.2674257504831503,
            "bin_end": 1.2777838056954276,
            "count": 0
           },
           {
            "bin_start": 1.2777838056954276,
            "bin_end": 1.2881418609077047,
            "count": 0
           },
           {
            "bin_start": 1.2881418609077047,
            "bin_end": 1.2984999161199817,
            "count": 0
           },
           {
            "bin_start": 1.2984999161199817,
            "bin_end": 1.3088579713322588,
            "count": 0
           },
           {
            "bin_start": 1.3088579713322588,
            "bin_end": 1.3192160265445358,
            "count": 1
           },
           {
            "bin_start": 1.3192160265445358,
            "bin_end": 1.329574081756813,
            "count": 2
           }
          ]
         }
        },
        {
         "name": "split7_test_score",
         "dtype": "float64",
         "stats": {
          "unique_count": 5,
          "nan_count": 0,
          "min": "1.13580668177018",
          "max": "1.248291367298004",
          "histogram": [
           {
            "bin_start": 1.13580668177018,
            "bin_end": 1.1470551503229625,
            "count": 1
           },
           {
            "bin_start": 1.1470551503229625,
            "bin_end": 1.1583036188757447,
            "count": 0
           },
           {
            "bin_start": 1.1583036188757447,
            "bin_end": 1.1695520874285272,
            "count": 0
           },
           {
            "bin_start": 1.1695520874285272,
            "bin_end": 1.1808005559813095,
            "count": 1
           },
           {
            "bin_start": 1.1808005559813095,
            "bin_end": 1.192049024534092,
            "count": 0
           },
           {
            "bin_start": 1.192049024534092,
            "bin_end": 1.2032974930868745,
            "count": 1
           },
           {
            "bin_start": 1.2032974930868745,
            "bin_end": 1.2145459616396568,
            "count": 0
           },
           {
            "bin_start": 1.2145459616396568,
            "bin_end": 1.2257944301924393,
            "count": 0
           },
           {
            "bin_start": 1.2257944301924393,
            "bin_end": 1.2370428987452216,
            "count": 0
           },
           {
            "bin_start": 1.2370428987452216,
            "bin_end": 1.248291367298004,
            "count": 2
           }
          ]
         }
        },
        {
         "name": "split8_test_score",
         "dtype": "float64",
         "stats": {
          "unique_count": 5,
          "nan_count": 0,
          "min": "1.2998773129431327",
          "max": "1.4014822313967314",
          "histogram": [
           {
            "bin_start": 1.2998773129431327,
            "bin_end": 1.3100378047884926,
            "count": 1
           },
           {
            "bin_start": 1.3100378047884926,
            "bin_end": 1.3201982966338524,
            "count": 0
           },
           {
            "bin_start": 1.3201982966338524,
            "bin_end": 1.3303587884792123,
            "count": 2
           },
           {
            "bin_start": 1.3303587884792123,
            "bin_end": 1.3405192803245722,
            "count": 0
           },
           {
            "bin_start": 1.3405192803245722,
            "bin_end": 1.350679772169932,
            "count": 0
           },
           {
            "bin_start": 1.350679772169932,
            "bin_end": 1.360840264015292,
            "count": 0
           },
           {
            "bin_start": 1.360840264015292,
            "bin_end": 1.3710007558606518,
            "count": 1
           },
           {
            "bin_start": 1.3710007558606518,
            "bin_end": 1.3811612477060118,
            "count": 0
           },
           {
            "bin_start": 1.3811612477060118,
            "bin_end": 1.3913217395513715,
            "count": 0
           },
           {
            "bin_start": 1.3913217395513715,
            "bin_end": 1.4014822313967314,
            "count": 1
           }
          ]
         }
        },
        {
         "name": "split9_test_score",
         "dtype": "float64",
         "stats": {
          "unique_count": 5,
          "nan_count": 0,
          "min": "1.1136039729383609",
          "max": "1.2442165632568276",
          "histogram": [
           {
            "bin_start": 1.1136039729383609,
            "bin_end": 1.1266652319702075,
            "count": 1
           },
           {
            "bin_start": 1.1266652319702075,
            "bin_end": 1.1397264910020541,
            "count": 0
           },
           {
            "bin_start": 1.1397264910020541,
            "bin_end": 1.152787750033901,
            "count": 2
           },
           {
            "bin_start": 1.152787750033901,
            "bin_end": 1.1658490090657476,
            "count": 1
           },
           {
            "bin_start": 1.1658490090657476,
            "bin_end": 1.1789102680975942,
            "count": 0
           },
           {
            "bin_start": 1.1789102680975942,
            "bin_end": 1.1919715271294409,
            "count": 0
           },
           {
            "bin_start": 1.1919715271294409,
            "bin_end": 1.2050327861612875,
            "count": 0
           },
           {
            "bin_start": 1.2050327861612875,
            "bin_end": 1.2180940451931344,
            "count": 0
           },
           {
            "bin_start": 1.2180940451931344,
            "bin_end": 1.231155304224981,
            "count": 0
           },
           {
            "bin_start": 1.231155304224981,
            "bin_end": 1.2442165632568276,
            "count": 1
           }
          ]
         }
        },
        {
         "name": "mean_test_score",
         "dtype": "float64",
         "stats": {
          "unique_count": 5,
          "nan_count": 0,
          "min": "1.22144789706713",
          "max": "1.3153926176579525",
          "histogram": [
           {
            "bin_start": 1.22144789706713,
            "bin_end": 1.2308423691262123,
            "count": 1
           },
           {
            "bin_start": 1.2308423691262123,
            "bin_end": 1.2402368411852946,
            "count": 0
           },
           {
            "bin_start": 1.2402368411852946,
            "bin_end": 1.2496313132443768,
            "count": 1
           },
           {
            "bin_start": 1.2496313132443768,
            "bin_end": 1.259025785303459,
            "count": 0
           },
           {
            "bin_start": 1.259025785303459,
            "bin_end": 1.2684202573625414,
            "count": 0
           },
           {
            "bin_start": 1.2684202573625414,
            "bin_end": 1.2778147294216236,
            "count": 1
           },
           {
            "bin_start": 1.2778147294216236,
            "bin_end": 1.2872092014807057,
            "count": 0
           },
           {
            "bin_start": 1.2872092014807057,
            "bin_end": 1.296603673539788,
            "count": 0
           },
           {
            "bin_start": 1.296603673539788,
            "bin_end": 1.3059981455988703,
            "count": 1
           },
           {
            "bin_start": 1.3059981455988703,
            "bin_end": 1.3153926176579525,
            "count": 1
           }
          ]
         }
        },
        {
         "name": "std_test_score",
         "dtype": "float64",
         "stats": {
          "unique_count": 5,
          "nan_count": 0,
          "min": "0.046872383757845",
          "max": "0.0878767268732809",
          "histogram": [
           {
            "bin_start": 0.046872383757845,
            "bin_end": 0.05097281806938859,
            "count": 1
           },
           {
            "bin_start": 0.05097281806938859,
            "bin_end": 0.05507325238093218,
            "count": 0
           },
           {
            "bin_start": 0.05507325238093218,
            "bin_end": 0.05917368669247577,
            "count": 0
           },
           {
            "bin_start": 0.05917368669247577,
            "bin_end": 0.06327412100401936,
            "count": 0
           },
           {
            "bin_start": 0.06327412100401936,
            "bin_end": 0.06737455531556294,
            "count": 0
           },
           {
            "bin_start": 0.06737455531556294,
            "bin_end": 0.07147498962710654,
            "count": 0
           },
           {
            "bin_start": 0.07147498962710654,
            "bin_end": 0.07557542393865013,
            "count": 0
           },
           {
            "bin_start": 0.07557542393865013,
            "bin_end": 0.07967585825019372,
            "count": 0
           },
           {
            "bin_start": 0.07967585825019372,
            "bin_end": 0.0837762925617373,
            "count": 1
           },
           {
            "bin_start": 0.0837762925617373,
            "bin_end": 0.0878767268732809,
            "count": 3
           }
          ]
         }
        },
        {
         "name": "rank_test_score",
         "dtype": "int64",
         "stats": {
          "unique_count": 5,
          "nan_count": 0,
          "min": "93",
          "max": "97",
          "histogram": [
           {
            "bin_start": 93,
            "bin_end": 93.4,
            "count": 1
           },
           {
            "bin_start": 93.4,
            "bin_end": 93.8,
            "count": 0
           },
           {
            "bin_start": 93.8,
            "bin_end": 94.2,
            "count": 1
           },
           {
            "bin_start": 94.2,
            "bin_end": 94.6,
            "count": 0
           },
           {
            "bin_start": 94.6,
            "bin_end": 95,
            "count": 0
           },
           {
            "bin_start": 95,
            "bin_end": 95.4,
            "count": 1
           },
           {
            "bin_start": 95.4,
            "bin_end": 95.8,
            "count": 0
           },
           {
            "bin_start": 95.8,
            "bin_end": 96.2,
            "count": 1
           },
           {
            "bin_start": 96.2,
            "bin_end": 96.6,
            "count": 0
           },
           {
            "bin_start": 96.6,
            "bin_end": 97,
            "count": 1
           }
          ]
         }
        },
        {
         "name": "_deepnote_index_column",
         "dtype": "int64"
        }
       ],
       "rows": [
        {
         "Unnamed: 0": 254,
         "mean_fit_time": 2.674081873893738,
         "std_fit_time": 0.1083647410677844,
         "mean_score_time": 0.0139776945114135,
         "std_score_time": 0.0236863463102411,
         "param_activation": "logistic",
         "param_alpha": 0.0565141252155968,
         "param_batch_size": 743,
         "param_early_stopping": true,
         "param_hidden_layer_sizes": "(50,)",
         "param_learning_rate": "adaptive",
         "param_learning_rate_init": 0.0455543030679026,
         "param_max_iter": 500,
         "param_momentum": 0.9342701516072042,
         "param_n_iter_no_change": 25,
         "param_random_state": 69,
         "param_solver": "sgd",
         "param_tol": 0.0020546628801992,
         "param_validation_fraction": 0.2,
         "params": "{'activation': 'logistic', 'alpha': 0.0565141252155968, 'batch_size': 743, 'early_stopping': True, …",
         "split0_test_score": 1.1193486607758656,
         "split1_test_score": 1.1221232805480688,
         "split2_test_score": 1.2298090680982423,
         "split3_test_score": 1.340384780659568,
         "split4_test_score": 1.29739674365957,
         "split5_test_score": 1.3301349396442694,
         "split6_test_score": 1.225993529634042,
         "split7_test_score": 1.13580668177018,
         "split8_test_score": 1.2998773129431327,
         "split9_test_score": 1.1136039729383609,
         "mean_test_score": 1.22144789706713,
         "std_test_score": 0.0878767268732809,
         "rank_test_score": 97,
         "_deepnote_index_column": 0
        },
        {
         "Unnamed: 0": 177,
         "mean_fit_time": 3.3854400634765627,
         "std_fit_time": 0.27172646412869,
         "mean_score_time": 0.0031263351440429,
         "std_score_time": 0.0025754353812343,
         "param_activation": "logistic",
         "param_alpha": 0.0232920035488129,
         "param_batch_size": 637,
         "param_early_stopping": true,
         "param_hidden_layer_sizes": "(50,)",
         "param_learning_rate": "adaptive",
         "param_learning_rate_init": 0.0083276475589842,
         "param_max_iter": 500,
         "param_momentum": 0.9820359157263444,
         "param_n_iter_no_change": 25,
         "param_random_state": 69,
         "param_solver": "sgd",
         "param_tol": 0.0011594391781989,
         "param_validation_fraction": 0.2,
         "params": "{'activation': 'logistic', 'alpha': 0.0232920035488129, 'batch_size': 637, 'early_stopping': True, …",
         "split0_test_score": 1.127607264771899,
         "split1_test_score": 1.1428822036747734,
         "split2_test_score": 1.278178188471314,
         "split3_test_score": 1.3582581857386735,
         "split4_test_score": 1.3487820298941895,
         "split5_test_score": 1.301729131759625,
         "split6_test_score": 1.2330638556507825,
         "split7_test_score": 1.1696019487442195,
         "split8_test_score": 1.3215384754226418,
         "split9_test_score": 1.1415545286183426,
         "mean_test_score": 1.2423195812746464,
         "std_test_score": 0.0862790858527874,
         "rank_test_score": 96,
         "_deepnote_index_column": 1
        },
        {
         "Unnamed: 0": 614,
         "mean_fit_time": 5.685147857666015,
         "std_fit_time": 0.8563893533006511,
         "mean_score_time": 0.0027068138122558,
         "std_score_time": 0.0001024905872323,
         "param_activation": "tanh",
         "param_alpha": 0.0808742280593288,
         "param_batch_size": 1284,
         "param_early_stopping": true,
         "param_hidden_layer_sizes": "(50, 50)",
         "param_learning_rate": "adaptive",
         "param_learning_rate_init": 0.0120166265989252,
         "param_max_iter": 500,
         "param_momentum": 0.900909720491844,
         "param_n_iter_no_change": 15,
         "param_random_state": 69,
         "param_solver": "sgd",
         "param_tol": 0.001676402006627,
         "param_validation_fraction": 0.2,
         "params": "{'activation': 'tanh', 'alpha': 0.08087422805932887, 'batch_size': 1284, 'early_stopping': True, 'h…",
         "split0_test_score": 1.209809854484161,
         "split1_test_score": 1.1677457352490568,
         "split2_test_score": 1.265820487205913,
         "split3_test_score": 1.375468329278899,
         "split4_test_score": 1.34010920879555,
         "split5_test_score": 1.3628491981805655,
         "split6_test_score": 1.3268323080622293,
         "split7_test_score": 1.198644859884514,
         "split8_test_score": 1.364144290442498,
         "split9_test_score": 1.1556262568672386,
         "mean_test_score": 1.2767050528450623,
         "std_test_score": 0.0828085082047215,
         "rank_test_score": 95,
         "_deepnote_index_column": 2
        },
        {
         "Unnamed: 0": 216,
         "mean_fit_time": 6.210365033149719,
         "std_fit_time": 1.272456493707846,
         "mean_score_time": 0.024622631072998,
         "std_score_time": 0.0304424931985142,
         "param_activation": "tanh",
         "param_alpha": 0.0866506166810653,
         "param_batch_size": 1286,
         "param_early_stopping": true,
         "param_hidden_layer_sizes": "(50, 50)",
         "param_learning_rate": "adaptive",
         "param_learning_rate_init": 0.0189838002655724,
         "param_max_iter": 500,
         "param_momentum": 0.9107815924112392,
         "param_n_iter_no_change": 15,
         "param_random_state": 69,
         "param_solver": "sgd",
         "param_tol": 0.0017207363291725,
         "param_validation_fraction": 0.2,
         "params": "{'activation': 'tanh', 'alpha': 0.08665061668106533, 'batch_size': 1286, 'early_stopping': True, 'h…",
         "split0_test_score": 1.2549715010505078,
         "split1_test_score": 1.1817912342392962,
         "split2_test_score": 1.2913612419792064,
         "split3_test_score": 1.344353926919584,
         "split4_test_score": 1.4136324630082704,
         "split5_test_score": 1.399066671782763,
         "split6_test_score": 1.3098977399505645,
         "split7_test_score": 1.2424545959263065,
         "split8_test_score": 1.4014822313967314,
         "split9_test_score": 1.1513435359359945,
         "mean_test_score": 1.2990355142189225,
         "std_test_score": 0.0875024817683875,
         "rank_test_score": 94,
         "_deepnote_index_column": 3
        },
        {
         "Unnamed: 0": 14,
         "mean_fit_time": 1.9171498775482176,
         "std_fit_time": 0.3913241232799735,
         "mean_score_time": 0.0025073528289794,
         "std_score_time": 0.0016578613367596,
         "param_activation": "logistic",
         "param_alpha": 0.0255835090620544,
         "param_batch_size": 821,
         "param_early_stopping": true,
         "param_hidden_layer_sizes": "(10, 10)",
         "param_learning_rate": "adaptive",
         "param_learning_rate_init": 0.0805964269626481,
         "param_max_iter": 500,
         "param_momentum": 0.964392963870334,
         "param_n_iter_no_change": 15,
         "param_random_state": 69,
         "param_solver": "sgd",
         "param_tol": 0.0019875217329301,
         "param_validation_fraction": 0.2,
         "params": "{'activation': 'logistic', 'alpha': 0.025583509062054432, 'batch_size': 821, 'early_stopping': True…",
         "split0_test_score": 1.381427973827556,
         "split1_test_score": 1.2877888447566486,
         "split2_test_score": 1.3763100330035871,
         "split3_test_score": 1.3391068775166857,
         "split4_test_score": 1.3493467222070368,
         "split5_test_score": 1.2753760455324623,
         "split6_test_score": 1.329574081756813,
         "split7_test_score": 1.248291367298004,
         "split8_test_score": 1.3224876674239028,
         "split9_test_score": 1.2442165632568276,
         "mean_test_score": 1.3153926176579525,
         "std_test_score": 0.046872383757845,
         "rank_test_score": 93,
         "_deepnote_index_column": 4
        }
       ]
      },
      "text/plain": "   Unnamed: 0  mean_fit_time  std_fit_time  mean_score_time  std_score_time  \\\n0         254       2.674082      0.108365         0.013978        0.023686   \n1         177       3.385440      0.271726         0.003126        0.002575   \n2         614       5.685148      0.856389         0.002707        0.000102   \n3         216       6.210365      1.272456         0.024623        0.030442   \n4          14       1.917150      0.391324         0.002507        0.001658   \n\n  param_activation  param_alpha  param_batch_size  param_early_stopping  \\\n0         logistic     0.056514               743                  True   \n1         logistic     0.023292               637                  True   \n2             tanh     0.080874              1284                  True   \n3             tanh     0.086651              1286                  True   \n4         logistic     0.025584               821                  True   \n\n  param_hidden_layer_sizes  ... split3_test_score  split4_test_score  \\\n0                    (50,)  ...          1.340385           1.297397   \n1                    (50,)  ...          1.358258           1.348782   \n2                 (50, 50)  ...          1.375468           1.340109   \n3                 (50, 50)  ...          1.344354           1.413632   \n4                 (10, 10)  ...          1.339107           1.349347   \n\n   split5_test_score  split6_test_score  split7_test_score  split8_test_score  \\\n0           1.330135           1.225994           1.135807           1.299877   \n1           1.301729           1.233064           1.169602           1.321538   \n2           1.362849           1.326832           1.198645           1.364144   \n3           1.399067           1.309898           1.242455           1.401482   \n4           1.275376           1.329574           1.248291           1.322488   \n\n  split9_test_score  mean_test_score  std_test_score rank_test_score  \n0          1.113604         1.221448        0.087877              97  \n1          1.141555         1.242320        0.086279              96  \n2          1.155626         1.276705        0.082809              95  \n3          1.151344         1.299036        0.087502              94  \n4          1.244217         1.315393        0.046872              93  \n\n[5 rows x 33 columns]",
      "text/html": "<div>\n<style scoped>\n    .dataframe tbody tr th:only-of-type {\n        vertical-align: middle;\n    }\n\n    .dataframe tbody tr th {\n        vertical-align: top;\n    }\n\n    .dataframe thead th {\n        text-align: right;\n    }\n</style>\n<table border=\"1\" class=\"dataframe\">\n  <thead>\n    <tr style=\"text-align: right;\">\n      <th></th>\n      <th>Unnamed: 0</th>\n      <th>mean_fit_time</th>\n      <th>std_fit_time</th>\n      <th>mean_score_time</th>\n      <th>std_score_time</th>\n      <th>param_activation</th>\n      <th>param_alpha</th>\n      <th>param_batch_size</th>\n      <th>param_early_stopping</th>\n      <th>param_hidden_layer_sizes</th>\n      <th>...</th>\n      <th>split3_test_score</th>\n      <th>split4_test_score</th>\n      <th>split5_test_score</th>\n      <th>split6_test_score</th>\n      <th>split7_test_score</th>\n      <th>split8_test_score</th>\n      <th>split9_test_score</th>\n      <th>mean_test_score</th>\n      <th>std_test_score</th>\n      <th>rank_test_score</th>\n    </tr>\n  </thead>\n  <tbody>\n    <tr>\n      <th>0</th>\n      <td>254</td>\n      <td>2.674082</td>\n      <td>0.108365</td>\n      <td>0.013978</td>\n      <td>0.023686</td>\n      <td>logistic</td>\n      <td>0.056514</td>\n      <td>743</td>\n      <td>True</td>\n      <td>(50,)</td>\n      <td>...</td>\n      <td>1.340385</td>\n      <td>1.297397</td>\n      <td>1.330135</td>\n      <td>1.225994</td>\n      <td>1.135807</td>\n      <td>1.299877</td>\n      <td>1.113604</td>\n      <td>1.221448</td>\n      <td>0.087877</td>\n      <td>97</td>\n    </tr>\n    <tr>\n      <th>1</th>\n      <td>177</td>\n      <td>3.385440</td>\n      <td>0.271726</td>\n      <td>0.003126</td>\n      <td>0.002575</td>\n      <td>logistic</td>\n      <td>0.023292</td>\n      <td>637</td>\n      <td>True</td>\n      <td>(50,)</td>\n      <td>...</td>\n      <td>1.358258</td>\n      <td>1.348782</td>\n      <td>1.301729</td>\n      <td>1.233064</td>\n      <td>1.169602</td>\n      <td>1.321538</td>\n      <td>1.141555</td>\n      <td>1.242320</td>\n      <td>0.086279</td>\n      <td>96</td>\n    </tr>\n    <tr>\n      <th>2</th>\n      <td>614</td>\n      <td>5.685148</td>\n      <td>0.856389</td>\n      <td>0.002707</td>\n      <td>0.000102</td>\n      <td>tanh</td>\n      <td>0.080874</td>\n      <td>1284</td>\n      <td>True</td>\n      <td>(50, 50)</td>\n      <td>...</td>\n      <td>1.375468</td>\n      <td>1.340109</td>\n      <td>1.362849</td>\n      <td>1.326832</td>\n      <td>1.198645</td>\n      <td>1.364144</td>\n      <td>1.155626</td>\n      <td>1.276705</td>\n      <td>0.082809</td>\n      <td>95</td>\n    </tr>\n    <tr>\n      <th>3</th>\n      <td>216</td>\n      <td>6.210365</td>\n      <td>1.272456</td>\n      <td>0.024623</td>\n      <td>0.030442</td>\n      <td>tanh</td>\n      <td>0.086651</td>\n      <td>1286</td>\n      <td>True</td>\n      <td>(50, 50)</td>\n      <td>...</td>\n      <td>1.344354</td>\n      <td>1.413632</td>\n      <td>1.399067</td>\n      <td>1.309898</td>\n      <td>1.242455</td>\n      <td>1.401482</td>\n      <td>1.151344</td>\n      <td>1.299036</td>\n      <td>0.087502</td>\n      <td>94</td>\n    </tr>\n    <tr>\n      <th>4</th>\n      <td>14</td>\n      <td>1.917150</td>\n      <td>0.391324</td>\n      <td>0.002507</td>\n      <td>0.001658</td>\n      <td>logistic</td>\n      <td>0.025584</td>\n      <td>821</td>\n      <td>True</td>\n      <td>(10, 10)</td>\n      <td>...</td>\n      <td>1.339107</td>\n      <td>1.349347</td>\n      <td>1.275376</td>\n      <td>1.329574</td>\n      <td>1.248291</td>\n      <td>1.322488</td>\n      <td>1.244217</td>\n      <td>1.315393</td>\n      <td>0.046872</td>\n      <td>93</td>\n    </tr>\n  </tbody>\n</table>\n<p>5 rows × 33 columns</p>\n</div>"
     },
     "metadata": {}
    }
   ]
  },
  {
   "cell_type": "code",
   "metadata": {
    "cell_id": "a79480c6-1852-40c7-85ea-72105c5c7992",
    "deepnote_to_be_reexecuted": false,
    "execution_millis": 87,
    "execution_start": 1642936852580,
    "source_hash": "b98c4a2e",
    "tags": [],
    "deepnote_output_heights": [
     null,
     232.328125
    ],
    "deepnote_cell_type": "code"
   },
   "source": "%%script false --no-raise-error\n\n# define the parameters values\nparams = {\n    \"hidden_layer_sizes\": [(8,8), (10,10), (12, 12)],\n    \"activation\" : [\"logistic\"],\n    \"solver\": [\"sgd\"],\n    \"learning_rate\": [\"constant\"],\n    \"learning_rate_init\": [0.2, 0.22, 0.24],\n    \"alpha\": [0.06, 0.065, 0.07],\n    \"batch_size\": [1000],\n    \"n_iter_no_change\": [15],\n    \"momentum\": [0.45, 0.49, 0.55],\n    \"random_state\": [RS_NUMBER],\n    \"tol\": [0.001],\n    \"early_stopping\": [True],\n    \"validation_fraction\": [0.2],\n    \"max_iter\": [500],\n}\n\n# define the grid search\ngs = GridSearchCV(\n    MLPRegressor(),\n    param_grid=params,\n    n_jobs=-1,\n    scoring=make_scorer(mee), #scoring is based on the highest value\n    cv=k,\n    verbose=10,\n)\n# run the grid search\ngs.fit(X, y)\n",
   "execution_count": 21,
   "outputs": []
  },
  {
   "cell_type": "code",
   "metadata": {
    "cell_id": "a6a090da-1d3e-4f90-b5e8-b7a9328b36b8",
    "deepnote_to_be_reexecuted": false,
    "source_hash": "ba8caa72",
    "tags": [],
    "execution_start": 1642936852721,
    "execution_millis": 51,
    "deepnote_cell_type": "code"
   },
   "source": "%%script false --no-raise-error\n\ndf_results = pd.DataFrame(data=gs.cv_results_) #trasform into a pandas dataframe\ndf_results.sort_values(by=\"rank_test_score\", axis=0, ascending=False, inplace=True) #sort rank values in decreasing order \ndf_results.dropna(inplace=True) #delete nan values \ndf_results = df_results[:50] #keep only top 50 models\npd.DataFrame.to_csv(df_results, \"sklearn_results/grid_search.csv\")",
   "execution_count": 22,
   "outputs": []
  },
  {
   "cell_type": "code",
   "metadata": {
    "cell_id": "33fe2868-60e3-477b-9f29-f6f935550e1f",
    "tags": [],
    "deepnote_to_be_reexecuted": false,
    "source_hash": "449e22d8",
    "execution_start": 1642936852822,
    "execution_millis": 49,
    "deepnote_cell_type": "code"
   },
   "source": "%%script false --no-raise-error\ndf_results = pd.read_csv(\"sklearn_results/grid_search.csv\")\ndf_results.head()",
   "execution_count": 23,
   "outputs": []
  },
  {
   "cell_type": "code",
   "metadata": {
    "cell_id": "00085-78256440-2deb-481b-a2d0-17f6d99adbf3",
    "deepnote_to_be_reexecuted": false,
    "execution_millis": 43,
    "execution_start": 1642936852916,
    "output_cleared": false,
    "source_hash": "9dd11431",
    "tags": [],
    "deepnote_cell_type": "code"
   },
   "source": "#get the best params for the grid search (cannot use rand_gs.best_estimator directly since it will yield the worst estimator based on MEE)\nbest_params = df_results['params'][0]\nprint(f\"Mean error on the {k}-folds (MEE) on best model: {df_results['mean_test_score'][0]}\\n\")\nprint(f\"Best params: {best_params}\")",
   "execution_count": 24,
   "outputs": [
    {
     "name": "stdout",
     "text": "Mean error on the 10-folds (MEE) on best model: 1.22144789706713\n\nBest params: {'activation': 'logistic', 'alpha': 0.0565141252155968, 'batch_size': 743, 'early_stopping': True, 'hidden_layer_sizes': (50,), 'learning_rate': 'adaptive', 'learning_rate_init': 0.04555430306790266, 'max_iter': 500, 'momentum': 0.9342701516072042, 'n_iter_no_change': 25, 'random_state': 69, 'solver': 'sgd', 'tol': 0.0020546628801992204, 'validation_fraction': 0.2}\n",
     "output_type": "stream"
    }
   ]
  },
  {
   "cell_type": "markdown",
   "source": "We save the top 10 best models for later",
   "metadata": {
    "cell_id": "00086-3e71456e-17d9-424a-906c-949cc2112355",
    "tags": [],
    "deepnote_cell_type": "markdown"
   }
  },
  {
   "cell_type": "code",
   "metadata": {
    "cell_id": "00087-bc5b154e-2743-4dcd-967c-91bd9c919a0a",
    "deepnote_to_be_reexecuted": false,
    "execution_millis": 4,
    "execution_start": 1642936852958,
    "source_hash": "b0361680",
    "tags": [],
    "deepnote_cell_type": "code"
   },
   "source": "best_models = list() #list of the top ten models of the final randomized search\neval_best_models = list()\n\nfor i in range(10):\n    best_params_i = df_results['params'][i]\n    best_params_i = ast.literal_eval(best_params_i)\n    print(best_params_i)\n    best_params_i['early_stopping'] = False\n    model_i = MLPRegressor(**best_params_i)\n    model_i_eval = MLPRegressor(**best_params_i)\n    best_models.append(model_i)\n    eval_best_models.append(model_i_eval)",
   "execution_count": 25,
   "outputs": [
    {
     "name": "stdout",
     "text": "{'activation': 'logistic', 'alpha': 0.0565141252155968, 'batch_size': 743, 'early_stopping': True, 'hidden_layer_sizes': (50,), 'learning_rate': 'adaptive', 'learning_rate_init': 0.04555430306790266, 'max_iter': 500, 'momentum': 0.9342701516072042, 'n_iter_no_change': 25, 'random_state': 69, 'solver': 'sgd', 'tol': 0.0020546628801992204, 'validation_fraction': 0.2}\n{'activation': 'logistic', 'alpha': 0.0232920035488129, 'batch_size': 637, 'early_stopping': True, 'hidden_layer_sizes': (50,), 'learning_rate': 'adaptive', 'learning_rate_init': 0.008327647558984257, 'max_iter': 500, 'momentum': 0.9820359157263445, 'n_iter_no_change': 25, 'random_state': 69, 'solver': 'sgd', 'tol': 0.0011594391781989245, 'validation_fraction': 0.2}\n{'activation': 'tanh', 'alpha': 0.08087422805932887, 'batch_size': 1284, 'early_stopping': True, 'hidden_layer_sizes': (50, 50), 'learning_rate': 'adaptive', 'learning_rate_init': 0.012016626598925273, 'max_iter': 500, 'momentum': 0.900909720491844, 'n_iter_no_change': 15, 'random_state': 69, 'solver': 'sgd', 'tol': 0.0016764020066270297, 'validation_fraction': 0.2}\n{'activation': 'tanh', 'alpha': 0.08665061668106533, 'batch_size': 1286, 'early_stopping': True, 'hidden_layer_sizes': (50, 50), 'learning_rate': 'adaptive', 'learning_rate_init': 0.018983800265572434, 'max_iter': 500, 'momentum': 0.9107815924112391, 'n_iter_no_change': 15, 'random_state': 69, 'solver': 'sgd', 'tol': 0.0017207363291725359, 'validation_fraction': 0.2}\n{'activation': 'logistic', 'alpha': 0.025583509062054432, 'batch_size': 821, 'early_stopping': True, 'hidden_layer_sizes': (10, 10), 'learning_rate': 'adaptive', 'learning_rate_init': 0.08059642696264817, 'max_iter': 500, 'momentum': 0.9643929638703339, 'n_iter_no_change': 15, 'random_state': 69, 'solver': 'sgd', 'tol': 0.0019875217329301947, 'validation_fraction': 0.2}\n{'activation': 'logistic', 'alpha': 0.06499273512024924, 'batch_size': 734, 'early_stopping': True, 'hidden_layer_sizes': (5, 5), 'learning_rate': 'adaptive', 'learning_rate_init': 0.08110359719990258, 'max_iter': 500, 'momentum': 0.9332771523598622, 'n_iter_no_change': 25, 'random_state': 69, 'solver': 'sgd', 'tol': 0.0014690728531806003, 'validation_fraction': 0.2}\n{'activation': 'logistic', 'alpha': 0.084952132900588, 'batch_size': 1310, 'early_stopping': True, 'hidden_layer_sizes': (10,), 'learning_rate': 'adaptive', 'learning_rate_init': 0.06750580901175061, 'max_iter': 500, 'momentum': 0.9467705391434927, 'n_iter_no_change': 15, 'random_state': 69, 'solver': 'sgd', 'tol': 0.0018614832887614214, 'validation_fraction': 0.2}\n{'activation': 'tanh', 'alpha': 0.059462853135547146, 'batch_size': 704, 'early_stopping': True, 'hidden_layer_sizes': (5, 5), 'learning_rate': 'adaptive', 'learning_rate_init': 0.019177020135221677, 'max_iter': 500, 'momentum': 0.9337041043295002, 'n_iter_no_change': 15, 'random_state': 69, 'solver': 'sgd', 'tol': 0.0014502324920054842, 'validation_fraction': 0.2}\n{'activation': 'logistic', 'alpha': 0.09498238149556185, 'batch_size': 1025, 'early_stopping': True, 'hidden_layer_sizes': (10,), 'learning_rate': 'adaptive', 'learning_rate_init': 0.12185202195685904, 'max_iter': 500, 'momentum': 0.9107470844025597, 'n_iter_no_change': 25, 'random_state': 69, 'solver': 'sgd', 'tol': 0.0010407726715491337, 'validation_fraction': 0.2}\n{'activation': 'logistic', 'alpha': 0.04597252320372068, 'batch_size': 649, 'early_stopping': True, 'hidden_layer_sizes': (25,), 'learning_rate': 'adaptive', 'learning_rate_init': 0.09972088450366323, 'max_iter': 500, 'momentum': 0.9861688041946912, 'n_iter_no_change': 25, 'random_state': 69, 'solver': 'sgd', 'tol': 0.0010928281642074145, 'validation_fraction': 0.2}\n",
     "output_type": "stream"
    }
   ]
  },
  {
   "cell_type": "code",
   "metadata": {
    "cell_id": "9f139698-0795-4535-944b-e30ae691e9c3",
    "deepnote_to_be_reexecuted": false,
    "execution_millis": 59692,
    "execution_start": 1642936852963,
    "source_hash": "f01aac80",
    "tags": [],
    "deepnote_cell_type": "code"
   },
   "source": "epochs_best_models = list()\n\n#fit every model\nfor model in best_models:\n    model.fit(X,y)\n    epochs_best_models.append(model.n_iter_)",
   "execution_count": 26,
   "outputs": [
    {
     "name": "stderr",
     "text": "/shared-libs/python3.7/py/lib/python3.7/site-packages/sklearn/neural_network/_multilayer_perceptron.py:696: ConvergenceWarning: Stochastic Optimizer: Maximum iterations (500) reached and the optimization hasn't converged yet.\n  ConvergenceWarning,\n/shared-libs/python3.7/py/lib/python3.7/site-packages/sklearn/neural_network/_multilayer_perceptron.py:696: ConvergenceWarning: Stochastic Optimizer: Maximum iterations (500) reached and the optimization hasn't converged yet.\n  ConvergenceWarning,\n",
     "output_type": "stream"
    }
   ]
  },
  {
   "cell_type": "code",
   "metadata": {
    "cell_id": "4657f071-48d6-47eb-9865-809f5ed665ed",
    "deepnote_to_be_reexecuted": false,
    "execution_millis": 197,
    "execution_start": 1642936912659,
    "source_hash": "77a89b52",
    "tags": [],
    "deepnote_cell_type": "code"
   },
   "source": "y_predictions_train = list()\ny_predictions_internal_test = list()\ny_predictions_blind_test = list()\n\n#predictions on every model is averaged\nfor model in best_models:\n    #prediction on TRAINING SET\n    y_pred = model.predict(X)\n    y_predictions_train.append(y_pred)\n    \n    #prediction on INTERNAL TEST SET\n    y_pred = model.predict(X_test)\n    y_predictions_internal_test.append(y_pred)\n\n    #prediction on BLIND TEST SET\n    y_pred = model.predict(blind_ts)\n    y_predictions_blind_test.append(y_pred)",
   "execution_count": 27,
   "outputs": []
  },
  {
   "cell_type": "code",
   "metadata": {
    "cell_id": "97f83cfa-9754-40b1-9b2b-a04c27748553",
    "deepnote_to_be_reexecuted": false,
    "execution_millis": 382355,
    "execution_start": 1642936912857,
    "source_hash": "ad7cd049",
    "tags": [],
    "deepnote_cell_type": "code"
   },
   "source": "loss_train_best_models = list()\nloss_test_best_models = list()\n\nfor i in range(len(eval_best_models)):\n    epochs = epochs_best_models[i]\n    eval_model = eval_best_models[i]\n    score_train, score_test, loss_train, loss_test = fit_and_score(epochs, eval_model, X, y, X_test, y_test)\n    loss_train_best_models.append(loss_train)\n    loss_test_best_models.append(loss_test)",
   "execution_count": 28,
   "outputs": []
  },
  {
   "cell_type": "markdown",
   "source": "## Learning Curves",
   "metadata": {
    "cell_id": "00095-765ec867-bdc2-419a-ba23-a489a71e27ed",
    "tags": [],
    "deepnote_cell_type": "markdown"
   }
  },
  {
   "cell_type": "code",
   "metadata": {
    "cell_id": "00096-38bf5ae9-c594-4799-bb3e-460cdbec1633",
    "deepnote_output_heights": [
     611
    ],
    "deepnote_to_be_reexecuted": false,
    "execution_millis": 9519,
    "execution_start": 1642937295239,
    "output_cleared": false,
    "source_hash": "d09f595f",
    "tags": [],
    "deepnote_cell_type": "code"
   },
   "source": "fig, axes = plt.subplots(4, 3, figsize=(14,16))\naxes = axes.flatten()\nfig.tight_layout()\n\nfor i in range(len(eval_best_models)):\n    epochs = epochs_best_models[i]\n    loss_train = loss_train_best_models[i]\n    loss_test = loss_test_best_models[i]\n    plot_learning_curves(loss_train, loss_test, epochs, \"Loss (MEE)\", axes[i], i)\n\nfig.subplots_adjust(hspace=0.3)\nfig.subplots_adjust(wspace=0.3)\nfig.delaxes(axes[10])\nfig.delaxes(axes[11])",
   "execution_count": 29,
   "outputs": [
    {
     "data": {
      "text/plain": "<Figure size 1008x1152 with 10 Axes>",
      "image/png": "[encoded data removed]"
     },
     "metadata": {
      "needs_background": "light",
      "image/png": {
       "width": 1008,
       "height": 1170
      }
     },
     "output_type": "display_data"
    }
   ]
  },
  {
   "cell_type": "code",
   "metadata": {
    "cell_id": "4b0dea8d-441a-491e-941d-dd444f7b42ce",
    "deepnote_to_be_reexecuted": false,
    "execution_millis": 11,
    "execution_start": 1642937304759,
    "source_hash": "29cae774",
    "tags": [],
    "deepnote_cell_type": "code"
   },
   "source": "y_pred_voting_ens_train_test = np.average(y_predictions_train, axis=0)\ny_pred_voting_ens_internal_test = np.average(y_predictions_internal_test, axis=0)\ny_pred_voting_ens_blind_test = np.average(y_predictions_blind_test, axis=0)\n\nprint(f\"MEE: {mee(y_test, y_pred_voting_ens_internal_test)}\")",
   "execution_count": 30,
   "outputs": [
    {
     "name": "stdout",
     "text": "MEE: 1.0747868942723149\n",
     "output_type": "stream"
    }
   ]
  },
  {
   "cell_type": "code",
   "metadata": {
    "cell_id": "29fade09-ccfa-4676-8b74-202a9e61ccea",
    "deepnote_to_be_reexecuted": false,
    "execution_millis": 1031728,
    "execution_start": 1642937304779,
    "source_hash": "b623e53d",
    "tags": [],
    "deepnote_cell_type": "code"
   },
   "source": "",
   "execution_count": 30,
   "outputs": []
  },
  {
   "cell_type": "code",
   "metadata": {
    "cell_id": "bbbb890e-8cb6-4120-9191-c68ddc831b25",
    "deepnote_to_be_reexecuted": false,
    "execution_start": 1642937304843,
    "source_hash": "b623e53d",
    "tags": [],
    "execution_millis": 1031785,
    "deepnote_cell_type": "code"
   },
   "source": "",
   "execution_count": 30,
   "outputs": []
  },
  {
   "cell_type": "markdown",
   "source": "### Plot of coordinates x and y from the training set",
   "metadata": {
    "cell_id": "00097-e5a397f3-a55c-4bcc-85b5-683cbae060c3",
    "tags": [],
    "deepnote_cell_type": "markdown"
   }
  },
  {
   "cell_type": "code",
   "metadata": {
    "cell_id": "00098-7f31bb15-8b09-4130-955d-1c31a56416e9",
    "deepnote_output_heights": [
     1,
     264
    ],
    "deepnote_to_be_reexecuted": false,
    "execution_millis": 592,
    "execution_start": 1642937304861,
    "output_cleared": false,
    "source_hash": "c1117b61",
    "deepnote_cell_type": "code"
   },
   "source": "plt.xlabel(\"x\")\nplt.ylabel(\"y\")\nplt.scatter(df_visual['x'], df_visual['y'])",
   "execution_count": 31,
   "outputs": [
    {
     "output_type": "execute_result",
     "execution_count": 31,
     "data": {
      "text/plain": "<matplotlib.collections.PathCollection at 0x7ff65486f190>"
     },
     "metadata": {}
    },
    {
     "data": {
      "text/plain": "<Figure size 432x288 with 1 Axes>",
      "image/png": "[encoded data removed]"
     },
     "metadata": {
      "needs_background": "light",
      "image/png": {
       "width": 391,
       "height": 262
      }
     },
     "output_type": "display_data"
    }
   ]
  },
  {
   "cell_type": "code",
   "metadata": {
    "cell_id": "00099-48cb3478-042b-4781-8f6d-c71c5a6d5510",
    "deepnote_to_be_reexecuted": false,
    "execution_millis": 12,
    "execution_start": 1642937305457,
    "output_cleared": true,
    "source_hash": "a4dc9d4f",
    "tags": [],
    "deepnote_cell_type": "code"
   },
   "source": "def plot_coordinates(model, X, true_y = None):\n    y_predicted = model.predict(X)\n    y_predicted = pd.DataFrame(data=y_predicted, columns=[\"x\", \"y\"])\n    if not None:\n        true_y = pd.DataFrame(data=true_y, columns=[\"x\", \"y\"])\n        plt.scatter(true_y['x'], true_y['y'], c='r', marker='*')\n    plt.xlabel(\"x\")\n    plt.ylabel(\"y\")\n    plt.scatter(y_predicted['x'], y_predicted['y'], c='#1f77b4')\n",
   "execution_count": 32,
   "outputs": []
  },
  {
   "cell_type": "markdown",
   "source": "### Predicted points on internal test set",
   "metadata": {
    "cell_id": "00100-0bf0ce5d-86de-4884-98c3-0a93bdb61793",
    "tags": [],
    "deepnote_cell_type": "markdown"
   }
  },
  {
   "cell_type": "code",
   "metadata": {
    "cell_id": "00101-d3bd8b05-9db9-435e-8fe1-8f8f72c50647",
    "deepnote_output_heights": [
     264
    ],
    "deepnote_to_be_reexecuted": false,
    "execution_millis": 823,
    "execution_start": 1642937305474,
    "output_cleared": false,
    "source_hash": "309b4459",
    "tags": [],
    "deepnote_cell_type": "code"
   },
   "source": "plot_coordinates(model, X_test, y_test)",
   "execution_count": 33,
   "outputs": [
    {
     "data": {
      "text/plain": "<Figure size 432x288 with 1 Axes>",
      "image/png": "[encoded data removed]"
     },
     "metadata": {
      "needs_background": "light",
      "image/png": {
       "width": 391,
       "height": 262
      }
     },
     "output_type": "display_data"
    }
   ]
  },
  {
   "cell_type": "code",
   "metadata": {
    "cell_id": "00102-b5e6e0b3-cd64-49da-b8f3-d72c60d6d514",
    "deepnote_output_heights": [
     264
    ],
    "deepnote_to_be_reexecuted": false,
    "execution_millis": 1183,
    "execution_start": 1642937306173,
    "output_cleared": false,
    "source_hash": "795a2625",
    "tags": [],
    "deepnote_cell_type": "code"
   },
   "source": "plot_coordinates(model, X_all, y_all)",
   "execution_count": 34,
   "outputs": [
    {
     "data": {
      "text/plain": "<Figure size 432x288 with 1 Axes>",
      "image/png": "[encoded data removed]"
     },
     "metadata": {
      "needs_background": "light",
      "image/png": {
       "width": 391,
       "height": 262
      }
     },
     "output_type": "display_data"
    }
   ]
  },
  {
   "cell_type": "markdown",
   "source": "### Predicted points on blind test set",
   "metadata": {
    "cell_id": "00103-85e3c6eb-1b6d-4ee6-920a-0f739fb59667",
    "tags": [],
    "deepnote_cell_type": "markdown"
   }
  },
  {
   "cell_type": "code",
   "metadata": {
    "cell_id": "00104-3cae6ec0-a91e-4c46-b0fd-1ac73bb96cf3",
    "deepnote_output_heights": [
     264
    ],
    "deepnote_to_be_reexecuted": false,
    "execution_millis": 712,
    "execution_start": 1642937307357,
    "output_cleared": false,
    "source_hash": "dd65ae1c",
    "deepnote_cell_type": "code"
   },
   "source": "plot_coordinates(model, blind_ts)",
   "execution_count": 35,
   "outputs": [
    {
     "data": {
      "text/plain": "<Figure size 432x288 with 1 Axes>",
      "image/png": "[encoded data removed]"
     },
     "metadata": {
      "needs_background": "light",
      "image/png": {
       "width": 391,
       "height": 262
      }
     },
     "output_type": "display_data"
    }
   ]
  },
  {
   "cell_type": "markdown",
   "source": "## Ensemble ",
   "metadata": {
    "cell_id": "00105-30373e78-637d-4e2a-ab93-d98602ebe312",
    "tags": [],
    "deepnote_cell_type": "markdown"
   }
  },
  {
   "cell_type": "markdown",
   "source": "First we try using the bagging method with 10 estimators.",
   "metadata": {
    "cell_id": "00106-11eef0b0-8acd-4418-ac43-80479d215105",
    "tags": [],
    "deepnote_cell_type": "markdown"
   }
  },
  {
   "cell_type": "code",
   "metadata": {
    "cell_id": "00107-27f4c40b-a344-41f4-8da1-9365d66af8cb",
    "deepnote_to_be_reexecuted": false,
    "execution_millis": 27619,
    "execution_start": 1642937308138,
    "output_cleared": true,
    "source_hash": "f7682dd1",
    "tags": [],
    "deepnote_cell_type": "code"
   },
   "source": "bagging_ens = BaggingRegressor(model, n_estimators=10, n_jobs=-1, random_state=RS_NUMBER).fit(X, y)",
   "execution_count": 36,
   "outputs": []
  },
  {
   "cell_type": "code",
   "metadata": {
    "cell_id": "00108-e625c4dc-affe-4b8c-8d73-52d96b20a754",
    "deepnote_to_be_reexecuted": false,
    "execution_millis": 488,
    "execution_start": 1642937335764,
    "output_cleared": false,
    "source_hash": "822a9033",
    "tags": [],
    "deepnote_cell_type": "code"
   },
   "source": "y_predicted_ensemble = bagging_ens.predict(X_test)\nprint(f\"Accuracy: {model.score(X_test, y_test)}\")\nprint(f\"MEE: {mee(y_test, y_predicted_ensemble)}\")",
   "execution_count": 37,
   "outputs": [
    {
     "name": "stdout",
     "text": "Accuracy: 0.9395784067216093\nMEE: 1.2460825023003446\n",
     "output_type": "stream"
    }
   ]
  },
  {
   "cell_type": "markdown",
   "source": "Then we try the voting method using the 10 best models from the randomized search. ",
   "metadata": {
    "cell_id": "00109-9cfd111b-f990-4f60-89a5-843b006db774",
    "deepnote_to_be_reexecuted": false,
    "execution_millis": 5,
    "execution_start": 1641916793012,
    "source_hash": "b623e53d",
    "tags": [],
    "deepnote_cell_type": "markdown"
   }
  },
  {
   "cell_type": "code",
   "metadata": {
    "cell_id": "00110-8243761b-c582-4e3c-85e8-007922d77cff",
    "deepnote_output_heights": [
     155.546875
    ],
    "deepnote_to_be_reexecuted": false,
    "execution_millis": 58295,
    "execution_start": 1642937336258,
    "source_hash": "8393db56",
    "tags": [],
    "deepnote_cell_type": "code"
   },
   "source": "y_predictions_internal_test = list()\ny_predictions_blind_test = list()\nepochs_best_models = list()\n\n#fit every model\nfor model in best_models:\n    model.fit(X,y)\n    epochs_best_models.append(model.n_iter_)\n\n\n#predictions on every model is averaged\nfor model in best_models:\n    y_pred = model.predict(X_test)\n    y_predictions_internal_test.append(y_pred)\n    y_pred = model.predict(blind_ts)\n    y_predictions_blind_test.append(y_pred)\n",
   "execution_count": 38,
   "outputs": [
    {
     "name": "stderr",
     "text": "/shared-libs/python3.7/py/lib/python3.7/site-packages/sklearn/neural_network/_multilayer_perceptron.py:696: ConvergenceWarning: Stochastic Optimizer: Maximum iterations (500) reached and the optimization hasn't converged yet.\n  ConvergenceWarning,\n/shared-libs/python3.7/py/lib/python3.7/site-packages/sklearn/neural_network/_multilayer_perceptron.py:696: ConvergenceWarning: Stochastic Optimizer: Maximum iterations (500) reached and the optimization hasn't converged yet.\n  ConvergenceWarning,\n",
     "output_type": "stream"
    }
   ]
  },
  {
   "cell_type": "code",
   "metadata": {
    "cell_id": "00111-f401b9aa-88eb-48c8-b5ab-42c28c7538c3",
    "deepnote_output_heights": [
     611
    ],
    "deepnote_to_be_reexecuted": false,
    "execution_millis": 2822,
    "execution_start": 1642937394553,
    "source_hash": "5acf98ef",
    "tags": [],
    "deepnote_cell_type": "code"
   },
   "source": "y_pred_voting_ens_internal_test = np.average(y_predictions_internal_test, axis=0)\ny_pred_voting_ens_blind_test = np.average(y_predictions_blind_test, axis=0)\n\nprint(f\"MEE: {mee(y_internal_test, y_pred_voting_ens_internal_test)}\")",
   "execution_count": 39,
   "outputs": [
    {
     "output_type": "error",
     "ename": "NameError",
     "evalue": "name 'y_internal_test' is not defined",
     "traceback": [
      "\u001b[0;31m---------------------------------------------------------------------------\u001b[0m",
      "\u001b[0;31mNameError\u001b[0m                                 Traceback (most recent call last)",
      "\u001b[0;32m<ipython-input-39-dcf723f833e8>\u001b[0m in \u001b[0;36m<module>\u001b[0;34m\u001b[0m\n\u001b[1;32m      2\u001b[0m \u001b[0my_pred_voting_ens_blind_test\u001b[0m \u001b[0;34m=\u001b[0m \u001b[0mnp\u001b[0m\u001b[0;34m.\u001b[0m\u001b[0maverage\u001b[0m\u001b[0;34m(\u001b[0m\u001b[0my_predictions_blind_test\u001b[0m\u001b[0;34m,\u001b[0m \u001b[0maxis\u001b[0m\u001b[0;34m=\u001b[0m\u001b[0;36m0\u001b[0m\u001b[0;34m)\u001b[0m\u001b[0;34m\u001b[0m\u001b[0;34m\u001b[0m\u001b[0m\n\u001b[1;32m      3\u001b[0m \u001b[0;34m\u001b[0m\u001b[0m\n\u001b[0;32m----> 4\u001b[0;31m \u001b[0mprint\u001b[0m\u001b[0;34m(\u001b[0m\u001b[0;34mf\"MEE: {mee(y_internal_test, y_pred_voting_ens_internal_test)}\"\u001b[0m\u001b[0;34m)\u001b[0m\u001b[0;34m\u001b[0m\u001b[0;34m\u001b[0m\u001b[0m\n\u001b[0m",
      "\u001b[0;31mNameError\u001b[0m: name 'y_internal_test' is not defined"
     ]
    }
   ]
  },
  {
   "cell_type": "markdown",
   "source": "### Predicted points on internal test set using ensemble",
   "metadata": {
    "cell_id": "00116-844ceccd-dd4c-4ec9-84a8-60ab47b30ff2",
    "tags": [],
    "deepnote_cell_type": "markdown"
   }
  },
  {
   "cell_type": "markdown",
   "source": "#### BAGGING ENSEMBLE",
   "metadata": {
    "cell_id": "00117-2f6047db-bbbd-442e-9335-d2ed87b248f1",
    "tags": [],
    "deepnote_cell_type": "markdown"
   }
  },
  {
   "cell_type": "code",
   "metadata": {
    "cell_id": "00118-a438f85a-1ce4-46d0-b705-7faa94ac5cbf",
    "deepnote_output_heights": [
     264
    ],
    "deepnote_to_be_reexecuted": true,
    "execution_millis": 573,
    "execution_start": 1642767347360,
    "output_cleared": false,
    "source_hash": "ea58b798",
    "tags": [],
    "deepnote_cell_type": "code"
   },
   "source": "#BAGGING ENSEMBLE\nplot_coordinates(bagging_ens, X_test, y_test)",
   "execution_count": null,
   "outputs": [
    {
     "data": {
      "text/plain": "<Figure size 432x288 with 1 Axes>",
      "image/png": "[encoded data removed]"
     },
     "metadata": {
      "needs_background": "light",
      "image/png": {
       "width": 391,
       "height": 262
      }
     },
     "output_type": "display_data"
    }
   ]
  },
  {
   "cell_type": "markdown",
   "source": "#### VOTING COMMITEE OF 10 BEST MODELS",
   "metadata": {
    "cell_id": "00119-55122427-e865-4457-b5a3-fa342dcb687d",
    "tags": [],
    "deepnote_cell_type": "markdown"
   }
  },
  {
   "cell_type": "code",
   "metadata": {
    "cell_id": "00120-c4ffe4f7-df28-4e04-b80f-470fbb70e792",
    "deepnote_output_heights": [
     264
    ],
    "deepnote_to_be_reexecuted": true,
    "execution_millis": 173,
    "execution_start": 1642767347794,
    "source_hash": "b09ac1d",
    "tags": [],
    "deepnote_cell_type": "code"
   },
   "source": "y_predicted = pd.DataFrame(data=y_pred_voting_ens_internal_test, columns=[\"x\", \"y\"])\ntrue_y = pd.DataFrame(data=y_internal_test, columns=[\"x\", \"y\"])\nplt.scatter(true_y['x'], true_y['y'], c='r', marker='*')\nplt.xlabel(\"x\")\nplt.ylabel(\"y\")\nplt.scatter(y_predicted['x'], y_predicted['y'], c='#1f77b4');",
   "execution_count": null,
   "outputs": [
    {
     "data": {
      "text/plain": "<Figure size 432x288 with 1 Axes>",
      "image/png": "[encoded data removed]"
     },
     "metadata": {
      "needs_background": "light",
      "image/png": {
       "width": 391,
       "height": 262
      }
     },
     "output_type": "display_data"
    }
   ]
  },
  {
   "cell_type": "markdown",
   "source": "### Predicted points on blind test set using Ensemble",
   "metadata": {
    "cell_id": "00121-9a3cb117-d2a2-4e98-9bd3-dfd155f7e394",
    "tags": [],
    "deepnote_cell_type": "markdown"
   }
  },
  {
   "cell_type": "markdown",
   "source": "#### BAGGING ENSEMBLE",
   "metadata": {
    "cell_id": "00122-d118a9f3-834e-4a18-8336-40aa86da928f",
    "tags": [],
    "deepnote_cell_type": "markdown"
   }
  },
  {
   "cell_type": "code",
   "metadata": {
    "cell_id": "00123-8038251e-7545-46a6-bc44-a9ea58ee09c4",
    "deepnote_output_heights": [
     264
    ],
    "deepnote_to_be_reexecuted": true,
    "execution_millis": 322,
    "execution_start": 1642767347965,
    "output_cleared": false,
    "source_hash": "6ccc2280",
    "tags": [],
    "deepnote_cell_type": "code"
   },
   "source": "#BAGGING ENSEMBLE\nplot_coordinates(bagging_ens, blind_ts)",
   "execution_count": null,
   "outputs": [
    {
     "data": {
      "text/plain": "<Figure size 432x288 with 1 Axes>",
      "image/png": "[encoded data removed]"
     },
     "metadata": {
      "needs_background": "light",
      "image/png": {
       "width": 391,
       "height": 262
      }
     },
     "output_type": "display_data"
    }
   ]
  },
  {
   "cell_type": "markdown",
   "source": "#### VOTING COMMITEE OF 10 BEST MODELS",
   "metadata": {
    "cell_id": "00124-23b11313-930c-4995-851f-e4f78120c001",
    "tags": [],
    "deepnote_cell_type": "markdown"
   }
  },
  {
   "cell_type": "code",
   "metadata": {
    "cell_id": "00125-cdd44630-3ca6-4349-bad4-72c4daba762b",
    "deepnote_output_heights": [
     264
    ],
    "deepnote_to_be_reexecuted": true,
    "execution_millis": 136,
    "execution_start": 1642767348308,
    "source_hash": "15d71ae0",
    "tags": [],
    "deepnote_cell_type": "code"
   },
   "source": "y_predicted = pd.DataFrame(data=y_pred_voting_ens_blind_test, columns=[\"x\", \"y\"])\nplt.xlabel(\"x\")\nplt.ylabel(\"y\")\nplt.scatter(y_predicted['x'], y_predicted['y'], c='#1f77b4');",
   "execution_count": null,
   "outputs": [
    {
     "data": {
      "text/plain": "<Figure size 432x288 with 1 Axes>",
      "image/png": "[encoded data removed]"
     },
     "metadata": {
      "needs_background": "light",
      "image/png": {
       "width": 391,
       "height": 262
      }
     },
     "output_type": "display_data"
    }
   ]
  },
  {
   "cell_type": "markdown",
   "source": "<a style='text-decoration:none;line-height:16px;display:flex;color:#5B5B62;padding:10px;justify-content:end;' href='https://deepnote.com?utm_source=created-in-deepnote-cell&projectId=d9d840c9-75b3-4185-bb01-105f5cca8d83' target=\"_blank\">\n<img alt='Created in deepnote.com' style='display:inline;max-height:16px;margin:0px;margin-right:7.5px;' src='data:image/svg+xml;base64,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' > </img>\nCreated in <span style='font-weight:600;margin-left:4px;'>Deepnote</span></a>",
   "metadata": {
    "tags": [],
    "created_in_deepnote_cell": true,
    "deepnote_cell_type": "markdown"
   }
  }
 ],
 "nbformat": 4,
 "nbformat_minor": 5,
 "metadata": {
  "deepnote": {},
  "deepnote_execution_queue": [],
  "deepnote_notebook_id": "cbfbc94c-7136-497d-a6ba-3db2f7221311",
  "kernelspec": {
   "display_name": "Python 3",
   "language": "python",
   "name": "python3"
  },
  "language_info": {
   "codemirror_mode": {
    "name": "ipython",
    "version": 3
   },
   "file_extension": ".py",
   "mimetype": "text/x-python",
   "name": "python",
   "nbconvert_exporter": "python",
   "pygments_lexer": "ipython3",
   "version": "3.9.7"
  }
 }
}