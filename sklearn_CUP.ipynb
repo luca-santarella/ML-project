{
 "cells": [
  {
   "cell_type": "markdown",
   "source": "# Machine Learning project a.y. 2021/2022",
   "metadata": {
    "cell_id": "866d5261-65f5-451c-89d3-65ff7cab3bcd",
    "deepnote_cell_type": "markdown"
   }
  },
  {
   "cell_type": "markdown",
   "source": "## Scikit-learn MLP model",
   "metadata": {
    "cell_id": "00001-2aba9e59-2eb1-40b4-8d25-4f2d84338a7b",
    "deepnote_cell_type": "markdown"
   }
  },
  {
   "cell_type": "markdown",
   "source": "## Importing libraries",
   "metadata": {
    "cell_id": "00002-d3953b8e-e2cb-44cd-b14b-fb1a55cd43b9",
    "deepnote_cell_type": "markdown"
   }
  },
  {
   "cell_type": "code",
   "metadata": {
    "deepnote_to_be_reexecuted": false,
    "execution_millis": 1883,
    "execution_start": 1642852122349,
    "source_hash": "98f33825",
    "output_cleared": true,
    "cell_id": "00003-1a905703-18b1-43b9-93fd-d6f4b2f2de3a",
    "deepnote_cell_type": "code"
   },
   "source": "import pandas as pd\nimport matplotlib.pyplot as plt\nimport numpy as np\nimport ast\n\nfrom sklearn.base import clone as clone_model\nfrom sklearn.model_selection import RandomizedSearchCV\nfrom sklearn.model_selection import GridSearchCV\nfrom scipy.stats import uniform\nfrom scipy.stats import randint\nfrom sklearn.metrics import make_scorer\nfrom sklearn.metrics import mean_squared_error\nfrom sklearn.preprocessing import OneHotEncoder\nfrom sklearn.neural_network import MLPRegressor\nfrom sklearn.model_selection import train_test_split\nfrom sklearn.ensemble import BaggingRegressor\nfrom dataclasses import dataclass",
   "execution_count": 1,
   "outputs": []
  },
  {
   "cell_type": "markdown",
   "source": "## Loading training set and blind test set",
   "metadata": {
    "cell_id": "00004-e548d8d6-1237-4e99-b829-8a4f417e5c5f",
    "deepnote_cell_type": "markdown"
   }
  },
  {
   "cell_type": "code",
   "metadata": {
    "deepnote_to_be_reexecuted": false,
    "execution_millis": 24,
    "execution_start": 1642852124240,
    "source_hash": "47b90439",
    "output_cleared": true,
    "cell_id": "00005-b87bacfb-9479-4d66-b250-1604f72d02e6",
    "deepnote_cell_type": "code"
   },
   "source": "df_visual = pd.read_csv('./data/ML-CUP21-TR.csv', usecols=[11,12], names=['idx','f1','f2','f3','f4','f5','f6','f7','f8','f9','f10', 'x','y'])\ndf_task_tr = pd.read_csv('./data/ML-CUP21-TR.csv', names=['idx','f1','f2','f3','f4','f5','f6','f7','f8','f9','f10', 'x','y'])\ndf_task_tr = df_task_tr[7:] # remove first 7 rows of comments\ndf_visual = df_visual[7:]\n\ndf_blind_ts = pd.read_csv('./data/ML-CUP21-TS.csv', names=['idx','f1','f2','f3','f4','f5','f6','f7','f8','f9','f10'])\ndf_blind_ts = df_blind_ts[7:]\ndf_blind_ts.drop(labels=\"idx\", axis=1, inplace=True)\nblind_ts = df_blind_ts.values",
   "execution_count": 2,
   "outputs": []
  },
  {
   "cell_type": "markdown",
   "source": "## Evaluation metrics and tools",
   "metadata": {
    "tags": [],
    "cell_id": "00006-151450c5-9a04-4fe5-b2c2-6eeb104a7d9b",
    "deepnote_cell_type": "markdown"
   }
  },
  {
   "cell_type": "markdown",
   "source": "We define the <b>MEE (Mean Euclidean Error)</b> function which is used to evaluate the mean euclidean distance between two points with x and y coordinates.\nThe function takes in input the true target and the predicted target and yields a floating point number which represents the performance. ",
   "metadata": {
    "tags": [],
    "cell_id": "00007-ddff7e4d-7571-4ba4-9570-28bd00d2cd99",
    "deepnote_cell_type": "markdown"
   }
  },
  {
   "cell_type": "code",
   "metadata": {
    "deepnote_to_be_reexecuted": false,
    "execution_millis": 2,
    "execution_start": 1642852124270,
    "source_hash": "3afbb4cb",
    "tags": [],
    "output_cleared": true,
    "cell_id": "00008-340d7c6b-f5af-4b2c-b133-3648b01d182a",
    "deepnote_cell_type": "code"
   },
   "source": "def mee(true_target, predicted_target): #assuming target is 2-dim matrix with x and y as columns\n    l = true_target.shape[0]\n    res = 0\n    \n    for p in range(l): #for p-th pattern in l (number of samples)\n        x_diff = np.square(true_target[p,0] - predicted_target[p,0]) #difference between the x value of the true and predicted target\n        y_diff = np.square(true_target[p,1] - predicted_target[p,1]) #difference between the y values of true and predicted target\n        sum_term = x_diff + y_diff\n        res = res + np.sqrt(sum_term)\n    res = res / l\n    \n    #return np.average([np.sqrt(np.square(true_target[p,0] - predicted_target[p,0]) + np.square(true_target[p,1] - predicted_target[p,1])) for p in range(l)]) #compact form\n    return res",
   "execution_count": 3,
   "outputs": []
  },
  {
   "cell_type": "code",
   "metadata": {
    "cell_id": "b7d73eea-2cd5-44f7-af4a-123da2e0877a",
    "tags": [],
    "deepnote_to_be_reexecuted": false,
    "source_hash": "a91b8e4",
    "execution_start": 1642852124275,
    "execution_millis": 3,
    "deepnote_cell_type": "code"
   },
   "source": "def plot_learning_curves(train_scores, test_scores, epochs, y_label, ax, i):\n    ax.set_title(f\"Model {i+1}\")\n    ax.set_ylabel(y_label)\n    ax.set_xlabel('Epoch');\n    ax.plot(range(0,epochs), train_scores, label = \"Training error\", linestyle='dashed')\n    ax.plot(range(0,epochs), test_scores, label = \"Test error\")\n    ax.legend()\n\n    return ax",
   "execution_count": 4,
   "outputs": []
  },
  {
   "cell_type": "markdown",
   "source": "We also define a random state (seed) to allow reproducibility on our experiments",
   "metadata": {
    "tags": [],
    "cell_id": "00009-44be928f-4c00-4b3f-ad7a-d6488544e043",
    "deepnote_cell_type": "markdown"
   }
  },
  {
   "cell_type": "code",
   "metadata": {
    "tags": [],
    "deepnote_to_be_reexecuted": false,
    "source_hash": "596ccc7b",
    "execution_start": 1642852124280,
    "execution_millis": 1,
    "cell_id": "00010-1e049613-6a85-4aa4-a1ba-5a3a62517420",
    "deepnote_cell_type": "code"
   },
   "source": "RS_NUMBER = 69",
   "execution_count": 5,
   "outputs": []
  },
  {
   "cell_type": "markdown",
   "source": "## Regression task",
   "metadata": {
    "tags": [],
    "cell_id": "00065-df984e4c-4153-4489-a59f-c0bdcb42e96a",
    "deepnote_cell_type": "markdown"
   }
  },
  {
   "cell_type": "markdown",
   "source": "### Preparing the training set",
   "metadata": {
    "tags": [],
    "cell_id": "00066-1ca49962-27d4-43c4-8dac-7826757ba7a0",
    "deepnote_cell_type": "markdown"
   }
  },
  {
   "cell_type": "code",
   "metadata": {
    "deepnote_to_be_reexecuted": false,
    "execution_millis": 0,
    "execution_start": 1642852124312,
    "source_hash": "192dcf",
    "tags": [],
    "output_cleared": true,
    "cell_id": "00067-92bf4cec-cb6c-4827-9f33-c4d74082cb9f",
    "deepnote_cell_type": "code"
   },
   "source": "df_task_tr.drop(labels=\"idx\", axis=1, inplace=True)",
   "execution_count": 6,
   "outputs": []
  },
  {
   "cell_type": "code",
   "metadata": {
    "deepnote_to_be_reexecuted": false,
    "execution_millis": 0,
    "execution_start": 1642852124314,
    "source_hash": "8b598d07",
    "tags": [],
    "output_cleared": true,
    "cell_id": "00068-37abe94c-f2b9-47a9-b74a-b45655aeb1aa",
    "deepnote_cell_type": "code"
   },
   "source": "y = df_task_tr[['x','y']].values\nX = df_task_tr.drop(labels=['x','y'], axis=1).values\nX_all = X\ny_all = y",
   "execution_count": 7,
   "outputs": []
  },
  {
   "cell_type": "code",
   "metadata": {
    "deepnote_to_be_reexecuted": false,
    "execution_millis": 32,
    "execution_start": 1642852124315,
    "source_hash": "473a37ed",
    "tags": [],
    "output_cleared": false,
    "cell_id": "00069-6767f5fe-6356-44f6-af09-d2d3fbfcf5fe",
    "deepnote_cell_type": "code"
   },
   "source": "print(X.shape)\nprint(y.shape)",
   "execution_count": 8,
   "outputs": [
    {
     "name": "stdout",
     "text": "(1477, 10)\n(1477, 2)\n",
     "output_type": "stream"
    }
   ]
  },
  {
   "cell_type": "markdown",
   "source": "### Internal Test set\nWe split the data set obtaining an internal test set (10%), we will use this internal test at the end to test internally the generalization error",
   "metadata": {
    "tags": [],
    "cell_id": "00070-725d3cb0-dfad-4c2c-b7c3-71f0c3f9aff8",
    "deepnote_cell_type": "markdown"
   }
  },
  {
   "cell_type": "code",
   "metadata": {
    "deepnote_to_be_reexecuted": false,
    "execution_millis": 42,
    "execution_start": 1642852124343,
    "source_hash": "853e95fc",
    "tags": [],
    "output_cleared": false,
    "cell_id": "00071-a4121cb3-52be-4a45-9e3f-bd04d7707e26",
    "deepnote_cell_type": "code"
   },
   "source": "X, X_test, y, y_test = train_test_split(X, y, test_size=0.1, random_state=RS_NUMBER)\nprint(f\"X shape: {X.shape}\")\nprint(f\"X internal test shape: {X_test.shape}\")\nprint(f\"y shape: {y.shape}\")\nprint(f\"y internal test shape: {y_test.shape}\")",
   "execution_count": 9,
   "outputs": [
    {
     "name": "stdout",
     "text": "X shape: (1329, 10)\nX internal test shape: (148, 10)\ny shape: (1329, 2)\ny internal test shape: (148, 2)\n",
     "output_type": "stream"
    }
   ]
  },
  {
   "cell_type": "code",
   "metadata": {
    "deepnote_to_be_reexecuted": false,
    "execution_millis": 0,
    "execution_start": 1642852124344,
    "source_hash": "58f426c6",
    "tags": [],
    "output_cleared": true,
    "cell_id": "00072-13a2524c-00f1-403d-b362-b638f6f6a886",
    "deepnote_cell_type": "code"
   },
   "source": "#trains the model with one iteration (epoch) and computes in output a list of train and test scores using MEE\ndef fit_and_score(epochs, eval_model, X_train, y_train, X_test, y_test):\n    train_scores = []\n    test_scores = []\n    train_loss = []\n    test_loss = []\n    for i in range(epochs):\n        eval_model = eval_model.partial_fit(X_train,y_train)\n        y_train_predicted = eval_model.predict(X_train)\n        y_test_predicted = eval_model.predict(X_test)\n        #results on train set\n        train_scores.append(mean_squared_error(y_train, y_train_predicted))\n        test_scores.append(mean_squared_error(y_test, y_test_predicted))\n        #result on test set\n        train_loss.append(mee(y_train, y_train_predicted))\n        test_loss.append(mee(y_test, y_test_predicted))\n    return train_scores, test_scores, train_loss, test_loss\n",
   "execution_count": 10,
   "outputs": []
  },
  {
   "cell_type": "markdown",
   "source": "## Randomized Search",
   "metadata": {
    "tags": [],
    "cell_id": "00073-d4db01cf-1e48-4de0-8f63-280380d67142",
    "deepnote_cell_type": "markdown"
   }
  },
  {
   "cell_type": "code",
   "metadata": {
    "tags": [],
    "output_cleared": true,
    "deepnote_to_be_reexecuted": false,
    "source_hash": "1b127074",
    "execution_start": 1642852124345,
    "execution_millis": 0,
    "cell_id": "00074-7f2f7779-f3fd-425c-8514-9bd878c39ee3",
    "deepnote_cell_type": "code"
   },
   "source": "# define the number of iterations\nn_iter_search = 1000\n# define number of k-folds\nk = 10",
   "execution_count": 11,
   "outputs": []
  },
  {
   "cell_type": "code",
   "metadata": {
    "deepnote_output_heights": [
     null,
     328.109375
    ],
    "deepnote_to_be_reexecuted": false,
    "execution_millis": 2322931,
    "execution_start": 1642852124346,
    "source_hash": "a97c00df",
    "tags": [],
    "output_cleared": false,
    "cell_id": "00075-2ed00a73-ec53-42cf-a3b1-cb4eaef36923",
    "deepnote_cell_type": "code"
   },
   "source": "#%%script false --no-raise-error\n\n# to find the best set of parameter setting, we can run a randomized search\n\n# define the parameters' values\nparams = {\n    \"hidden_layer_sizes\": [\n        (5,),(10,),(25,),(50,),(100,),\n        (5, 5),(10, 10),(25, 25),(50, 50),(100, 100),],\n    \"activation\" : [\"logistic\", \"tanh\", \"relu\"],\n    \"solver\": [\"sgd\"],\n    \"learning_rate\": [\"constant\", \"adaptive\", \"invscaling\"],\n    \"learning_rate_init\": uniform(0.005, 0.5),\n    \"alpha\": uniform(0.0001, 0.1),\n    \"momentum\": [0.1, 0.3, 0.5, 0.7, 0.9, 1],\n    \"batch_size\": randint(600, X.shape[0]),\n    \"n_iter_no_change\": [5,15,25],\n    \"random_state\": [RS_NUMBER],\n    \"tol\": uniform(0.001,0.0001),\n    \"early_stopping\": [True],\n    \"validation_fraction\": [0.2],\n    \"max_iter\": [1000],\n}\n\n# define the grid search\nrand_gs = RandomizedSearchCV(\n    MLPRegressor(),\n    param_distributions=params,\n    n_iter=n_iter_search,\n    n_jobs=-1,\n    scoring=make_scorer(mee), #scoring is based on the highest value\n    cv=k,\n    random_state=RS_NUMBER,\n    verbose=10\n)\n# run the grid search\nrand_gs.fit(X, y)\n",
   "execution_count": 12,
   "outputs": [
    {
     "name": "stdout",
     "text": "Fitting 10 folds for each of 1000 candidates, totalling 10000 fits\n/shared-libs/python3.7/py/lib/python3.7/site-packages/sklearn/model_selection/_validation.py:372: FitFailedWarning: \n1748 fits failed out of a total of 10000.\nThe score on these train-test partitions for these parameters will be set to nan.\nIf these failures are not expected, you can try to debug them by setting error_score='raise'.\n\nBelow are more details about the failures:\n--------------------------------------------------------------------------------\n1748 fits failed with the following error:\nTraceback (most recent call last):\n  File \"/shared-libs/python3.7/py/lib/python3.7/site-packages/sklearn/model_selection/_validation.py\", line 681, in _fit_and_score\n    estimator.fit(X_train, y_train, **fit_params)\n  File \"/shared-libs/python3.7/py/lib/python3.7/site-packages/sklearn/neural_network/_multilayer_perceptron.py\", line 752, in fit\n    return self._fit(X, y, incremental=False)\n  File \"/shared-libs/python3.7/py/lib/python3.7/site-packages/sklearn/neural_network/_multilayer_perceptron.py\", line 435, in _fit\n    incremental,\n  File \"/shared-libs/python3.7/py/lib/python3.7/site-packages/sklearn/neural_network/_multilayer_perceptron.py\", line 661, in _fit_stochastic\n    self._update_no_improvement_count(early_stopping, X_val, y_val)\n  File \"/shared-libs/python3.7/py/lib/python3.7/site-packages/sklearn/neural_network/_multilayer_perceptron.py\", line 709, in _update_no_improvement_count\n    self.validation_scores_.append(self.score(X_val, y_val))\n  File \"/shared-libs/python3.7/py/lib/python3.7/site-packages/sklearn/base.py\", line 701, in score\n    return r2_score(y, y_pred, sample_weight=sample_weight)\n  File \"/shared-libs/python3.7/py/lib/python3.7/site-packages/sklearn/metrics/_regression.py\", line 775, in r2_score\n    y_true, y_pred, multioutput\n  File \"/shared-libs/python3.7/py/lib/python3.7/site-packages/sklearn/metrics/_regression.py\", line 91, in _check_reg_targets\n    y_pred = check_array(y_pred, ensure_2d=False, dtype=dtype)\n  File \"/shared-libs/python3.7/py/lib/python3.7/site-packages/sklearn/utils/validation.py\", line 792, in check_array\n    _assert_all_finite(array, allow_nan=force_all_finite == \"allow-nan\")\n  File \"/shared-libs/python3.7/py/lib/python3.7/site-packages/sklearn/utils/validation.py\", line 116, in _assert_all_finite\n    type_err, msg_dtype if msg_dtype is not None else X.dtype\nValueError: Input contains NaN, infinity or a value too large for dtype('float64').\n\n  warnings.warn(some_fits_failed_message, FitFailedWarning)\n/shared-libs/python3.7/py/lib/python3.7/site-packages/sklearn/model_selection/_search.py:972: UserWarning: One or more of the test scores are non-finite: [7.67170955e+02 1.94562541e+00 8.63174202e+00 1.27460166e+00\n            nan 2.08231715e+00            nan 4.31777792e+00\n 7.36016219e+00            nan            nan 3.23820158e+00\n 1.50795266e+00 1.27688752e+01 1.91430745e+00            nan\n 8.04984408e+01            nan 8.92499220e+01 4.95651777e+01\n 1.41796933e+00            nan 2.82611744e+00 2.57518257e+00\n 7.34546509e+00 3.68495514e+00 1.32066080e+00            nan\n 2.40366798e+01 2.78776468e+00 6.56684191e+01 7.37707727e+00\n            nan            nan 1.01765755e+01 7.36063865e+00\n 2.88752512e+00 2.80026044e+00 7.31233430e+00            nan\n 5.09337970e+00 9.27667846e+00 1.10875689e+01 2.08519180e+02\n 8.83184829e+01            nan 3.86903306e+01            nan\n 7.59533299e+00            nan 1.95972437e+00            nan\n 1.67563947e+00 4.04874637e+00            nan 9.67545544e+00\n 7.49619894e+00 2.31926764e+03 1.67134626e+00 1.99610852e+00\n 3.36035438e+00 1.18766089e+01            nan 9.93230301e+00\n 1.47196325e+00 7.34874506e+00            nan 6.94674787e+00\n            nan 8.07716882e+00 1.84104429e+01            nan\n 7.34175851e+00 7.36212378e+00 3.44367879e+00            nan\n 1.47916848e+00 1.66035831e+00 7.99664336e+01 4.03107955e+02\n 2.12154586e+00 1.86809246e+01 6.61139089e+01 1.62077768e+01\n 6.93861498e+00 1.86489680e+00 3.32942264e+01            nan\n            nan 7.33022144e+00 5.97866694e+01 4.24047862e+00\n 1.05774711e+01 3.50920376e+02            nan 1.13314702e+01\n 1.62183828e+01            nan 1.17584676e+01 7.35080207e+00\n 7.36243913e+00            nan 7.33526222e+00 2.50157804e+00\n 4.82477074e+00 1.82627448e+02 4.35492597e+00 1.17266551e+00\n 2.71079954e+00            nan 3.53248520e+00 1.28190011e+00\n 7.34082371e+00 7.28008852e+00 1.48215801e+00 1.64942327e+00\n 6.09025892e+00 7.34358938e+00 3.98881753e+00 3.89751779e+00\n 3.87154363e+00 9.05331530e+00            nan 2.12267971e+01\n 1.37567357e+01            nan 1.63698325e+00 3.17756242e+00\n 8.74337043e+00 5.64958744e+00 1.50714119e+01 3.94850596e+00\n 7.35835378e+00 9.04908837e+00 1.94373212e+00 1.62314577e+00\n 9.16536936e+00 2.96410308e+00 4.41152292e+00 1.46774803e+02\n 1.50673340e+01 1.87534610e+02 2.88494421e+01 5.02836515e+00\n 2.21516527e+01 3.90033367e+00            nan 9.85219619e+00\n 4.03153448e+00 3.71423792e+00            nan 5.58275071e+02\n 5.57177184e+01 5.01081545e+00 1.97492588e+02 6.89032415e+00\n 9.65733965e+00 1.31564537e+00 5.01861661e+00 1.44469435e+00\n 7.36473455e+00 3.50004514e+05 2.89860585e+00 2.57392742e+00\n 7.33640632e+00            nan            nan            nan\n 1.94106366e+00            nan 9.65347187e+01            nan\n 4.29539658e+02            nan 4.42048920e+01 3.53819734e+00\n 3.32222252e+00 3.80967971e+02 4.42924662e+00 4.36454418e+00\n            nan 2.27703954e+00 1.00319145e+02 1.37775274e+00\n 3.97740784e+00 1.25502403e+01 1.41121472e+00 1.52438789e+00\n 5.11415983e+00            nan 6.19810409e+00            nan\n            nan            nan 1.64214298e+00 1.35203545e+04\n 1.39046063e+00 7.36271781e+00            nan 7.38093590e+00\n            nan 6.48671342e+00 1.35967335e+00 7.05356600e+12\n            nan 7.34217648e+00 1.91199930e+00 4.43064043e+00\n 3.38759960e+00            nan 3.65833854e+00            nan\n 4.43832709e+00 1.56729396e+03            nan 1.39879414e+01\n 1.35007516e+02 6.46604401e+01 8.63850866e+00 1.45222731e+00\n 7.72779564e+02            nan            nan 2.02288160e+02\n 6.40347964e+02 1.16467029e+01 1.38272808e+00 2.12789254e+00\n 1.92101988e+00 7.87263047e+01            nan 7.32801721e+00\n 1.60001953e+00 2.54438678e+01            nan 2.21530062e+00\n 7.34633709e+00            nan 5.79139584e+00            nan\n 6.15043776e+01 4.42570131e+01 2.83714638e+00 1.56628663e+00\n 2.45046655e+00            nan 2.42653858e+02 1.66469083e+00\n 1.04522624e+01 7.32132960e+01 3.33875869e+00            nan\n            nan 4.85103118e+12 3.64460786e+00 1.82858990e+00\n 7.35794839e+00 9.55941777e+00 2.59643652e+00 5.32722856e+01\n 1.53227770e+00            nan 1.39026231e+00            nan\n 4.84849774e+00 1.88825553e+00            nan 4.31028955e+00\n 3.09900654e+00 4.37830494e+00 1.32500628e+01            nan\n            nan 3.84920071e+00 7.32418854e+00 2.02994001e+00\n 2.10961303e+01 3.46208387e+01 7.34707252e+00 7.34775993e+00\n 1.00361957e+01 2.96035055e+02 3.36252060e+00 1.89843999e+00\n            nan            nan 3.99735004e+00 2.05946727e+02\n            nan 3.44081424e+00 8.09650056e+01            nan\n            nan 3.28718627e+00 7.35231406e+00 4.72418269e+00\n 3.83977969e+00 1.27655862e+01 8.84928423e+00 1.13979541e+01\n 7.35483660e+00 1.06721067e+02 3.52847021e+00 2.59900015e+01\n 7.32982922e+00 7.34023777e+00 1.79680860e+00 1.60439661e+00\n 6.02021878e+00 4.48219668e+00 1.21515987e+00 6.11885854e+00\n 1.52688267e+00 7.34931691e+00 7.36860667e+00 7.42617666e+00\n 2.02726565e+02 1.44075055e+01 3.64529539e+00 1.27296029e+00\n 2.69795990e+02 1.28060997e+02 7.30849414e+00 3.01234921e+00\n            nan            nan 2.84215179e+00 2.67968202e+02\n            nan 1.24226895e+01 2.74746052e+00 6.14276632e+02\n            nan            nan            nan 9.06351427e+00\n 1.41126207e+00 5.52371221e+00            nan 6.95126183e+00\n 7.36564430e+00 7.50728972e+00 7.28031060e+00 2.28435929e+00\n 9.38650930e+00 1.08014176e+01 1.03128174e+01 7.36788772e+00\n 3.27454519e+00 7.56483688e+00 3.57373472e+01 1.95112869e+01\n 3.85966197e+00 1.52376036e+00 2.22616197e+01 1.33806572e+00\n            nan 6.62856046e+02            nan            nan\n 7.41523090e+00            nan 3.57481306e+00 3.08479719e+02\n 5.74494911e+01 1.52567689e+01            nan 3.88539737e+00\n            nan 1.22331277e+01 1.39582141e+02 1.31603227e+01\n 1.45511118e+00 1.17241227e+01 7.34857230e+00 6.66509679e+00\n            nan 7.36511590e+00 6.01835610e+00 9.97478980e+00\n            nan 3.75267935e+00 1.21411041e+02 7.35907451e+00\n 1.13465595e+01 1.56757133e+00 7.47048781e+00 2.10792569e+00\n 1.88294457e+01            nan 1.35304635e+00            nan\n 1.33148861e+00 2.31488830e+00            nan 1.16327315e+02\n 6.68420218e+01            nan 7.37181617e+00 6.94661476e+00\n 4.52279324e+00 1.95651755e+02 1.09050702e+01 6.26806120e+01\n            nan 1.42435860e+00            nan 4.46799251e+00\n 6.62788519e+00            nan            nan            nan\n 6.58204961e+00 2.94311167e+00 1.28734422e+01 1.18740258e+01\n 4.65508723e+00            nan 8.11216424e+00 1.06581895e+01\n 1.64093816e+01 4.12663428e+00 1.87204520e+00            nan\n 1.25445022e+00 1.23230525e+00 6.59377452e+01            nan\n 7.35921656e+00 2.56082672e+00            nan 1.26358706e+00\n 7.36919491e+00 3.39471647e+01 1.67785592e+01 6.65312671e+00\n            nan 1.64363718e+00 6.75202768e+01 9.60384563e+00\n 4.42010675e+00 7.41280517e+01 6.02690904e+00 4.25509841e+00\n 1.84400654e+00 2.04799421e+00 3.52609395e+00 5.63449531e+00\n            nan 5.08785359e+00 3.43542550e+01 2.31150251e+00\n 2.08934451e+00 7.37441519e+00 3.03502206e+01            nan\n 8.50100693e+00 6.56090923e+00            nan 1.22490407e+01\n            nan 3.33124104e+00            nan            nan\n 7.33235387e+00 7.32793658e+00 7.33586459e+00 3.00294860e+00\n 3.85344323e+01 8.61967512e+00 3.32507154e+00 1.82567748e+01\n            nan            nan 1.55834226e+00            nan\n 1.11191557e+01 7.36953954e+00 5.57221099e+00 6.36096401e+00\n 1.43942192e+08 1.16235938e+01 3.99706750e+00 1.57066782e+02\n 2.35897979e+00 1.41116552e+00 1.13671153e+01 2.07866580e+00\n            nan 4.91984463e+00 1.54642780e+00 4.30228876e+00\n 7.00996729e+01 8.46703254e+01 7.35106304e+00 1.86244471e+00\n 5.26256142e+00 2.05214844e+00            nan 1.44905803e+01\n 6.03649158e+01 6.70302860e+00 1.01869704e+01 7.35265770e+00\n            nan 2.52961052e+01 7.43842819e+00 3.56745682e+00\n 1.73019750e+00 6.24021556e+00            nan 7.34527317e+00\n 7.33964252e+00 3.87178484e+00 1.60754914e+00 1.04480522e+01\n 7.40667767e+00            nan            nan 9.32445792e+00\n 1.17899149e+01 6.90693451e+01 1.97069481e+01            nan\n 3.61276666e+01 1.44597253e+01 1.48202812e+00 1.90173879e+00\n 8.89027393e+00 9.67932537e+00 4.44282598e+00 8.61089186e+01\n 5.26767438e+00 3.92246488e+00 3.92799489e+00            nan\n 1.46659539e+00 1.25298282e+00 1.65239172e+03            nan\n 2.01754044e+00 1.48091940e+00 1.28567154e+02 6.48678896e+00\n 3.22669110e+00 4.96680516e+00            nan 1.57683990e+01\n            nan 3.38656457e+01 7.64281937e+00 9.88406823e+00\n 4.86665735e+00 1.84398862e+00 1.49814243e+00            nan\n 1.44450497e+00            nan 7.35268065e+00 4.06507040e+00\n            nan 4.08545148e+00 6.39459899e+00 2.90989118e+00\n            nan 7.98113103e+01 4.98231800e+02 4.43477153e+00\n 7.34335682e+00 7.72493654e+02 6.93129827e+00 2.25529826e+00\n 5.63306088e+00 8.42264389e+01 4.23251522e+00 1.28951425e+00\n            nan 9.40222024e+01 1.87378090e+03 7.33090107e+00\n 4.40528711e+02 8.74376259e+01 2.86754061e+00 1.70252953e+00\n            nan 1.66330298e+00 5.81023318e+00 4.81092676e+01\n            nan            nan 1.20474895e+00 3.60723835e+00\n 3.50167998e+02            nan 2.37521981e+01 2.99157140e+00\n 5.35930766e+02 2.41074909e+01 7.37163006e+00 2.81628346e+00\n 1.32590176e+00 4.27421574e+00 2.25784345e+01            nan\n 3.88356371e+00 7.35681142e+00 3.62191955e+01 1.35378521e+01\n 7.36940112e+00 4.05008933e+01 5.95046527e+00 7.32830639e+00\n            nan            nan 6.63920491e+00 7.33557299e+00\n 1.85270685e+00            nan 3.93594220e+00 7.35819534e+00\n 3.56085049e+00 9.51387961e+01 3.90206293e+01 2.08389003e+00\n            nan            nan 6.73382786e+02 9.39392159e+00\n 7.33567370e+00 1.15238254e+02 7.22950853e+00            nan\n 5.09625524e+03 5.10250642e+00 7.42683088e+00 1.63066846e+01\n 6.26247766e+00 4.30441812e+00            nan 1.14641317e+01\n 2.17026312e+00 7.03624621e+00 1.82490257e+00 3.09439915e+00\n 4.44243015e+00            nan 4.52655822e+00 3.60940463e+04\n 1.72484650e+00            nan 3.13646586e+00 4.15107222e+02\n 3.98060196e+00 3.62813703e+00            nan 4.19068256e+00\n 7.36580759e+00 1.42377533e+01            nan 1.10370497e+01\n 2.44001488e+00 1.02013012e+01 1.90396760e+00            nan\n 1.58454588e+00 1.75978990e+03 2.63569319e+00 6.49985082e+00\n 3.95422409e+00 1.95429297e+01 7.36143336e+00 7.85805035e+00\n            nan 1.64402292e+00 3.49627192e+00 6.01404114e+00\n            nan 9.81704839e+00            nan 2.91131805e+00\n            nan 2.25985112e+00 4.58071154e+00 8.55763260e+01\n 1.77628965e+01 1.24800868e+00 3.89832836e+00 5.03775261e+00\n 2.03734408e+00 2.36852787e+00 1.35101237e+00 7.20521529e+02\n 7.07346111e+02 7.29353330e+00 4.22478511e+00 2.35226555e+02\n 1.23490042e+00 1.14326688e+01            nan 9.27678508e+00\n            nan 8.19187597e+00            nan            nan\n 3.43473518e+02 2.08072800e+01 7.37193229e+00            nan\n 5.48784116e+00 5.46205368e+01 3.70776769e+00            nan\n 1.62961871e+00 4.07130029e+00 3.34706496e+00 9.07108912e+01\n            nan 1.90935591e+00 1.70075660e+00 7.66597068e+00\n            nan            nan 1.30499783e+01            nan\n            nan 2.22611209e+01 7.24837283e+00 9.24351954e+00\n 6.33003634e+01 7.56153561e+00 8.41603052e+01 1.39405879e+01\n 2.49349442e+01 5.15145045e+00 1.20032023e+01 1.01880967e+02\n            nan 7.36926145e+00 6.34121358e+00 7.16566649e+00\n 4.29409757e+00 2.04943556e+00 1.80007586e+00 5.41313116e+00\n 3.79725656e+00 7.33281218e+00            nan 2.61921245e+02\n 9.02959451e+00 2.44525708e+00 1.68681924e+01 1.52492187e+01\n            nan 2.96213953e+00 5.03301782e+00 9.87107154e+00\n            nan 1.71399665e+00 4.51564218e+00            nan\n 1.20274393e+02            nan 7.34432432e+00 1.44881209e+01\n 1.14122638e+01 1.37208401e+02 1.86485828e+00 9.68519251e+00\n 1.40571558e+00 1.49702135e+00 2.66682006e+00 7.34501052e+00\n            nan 8.90523498e+00 7.34986085e+00 1.62723655e+00\n 1.08492045e+01 7.09983529e+00            nan 3.17917303e+00\n 7.34601201e+00 1.05865226e+01 2.06431148e+01 5.28061529e+00\n 1.17361768e+01 7.33790829e+00 7.36910043e+00 4.30054539e+00\n 2.90278921e+00 9.85116021e+01 1.39816814e+00 7.33751031e+00\n 7.49421743e+00 4.89512676e+00            nan            nan\n 1.65355955e+00 8.73582946e+00 7.33986219e+00 2.56467684e+01\n 1.71055325e+00 6.64235471e+00 3.90748676e+02 1.42931050e+01\n 9.87526047e+00 7.30385219e+00 7.36770824e+00 1.79371252e+01\n 1.48066128e+01 3.34286595e+01            nan 7.33465520e+00\n            nan 1.24881237e+01 1.60358733e+00 1.99728628e+02\n 2.60261889e+02 1.32163225e+01 1.52124871e+03 5.57250673e+02\n 1.05914241e+01            nan 3.28963369e+02 3.05560863e+01\n            nan            nan            nan            nan\n 2.33178594e+01 2.08422382e+00 7.34615427e+00 1.80032573e+01\n 7.34364495e+00            nan 3.33487103e+00            nan\n            nan 1.40596274e+01 2.04628967e+00            nan\n            nan 1.10690746e+02 4.22642106e+01 3.88270450e+00\n 1.19392380e+01 2.32790439e+03 1.40370305e+00 9.34884138e+00\n 1.26347132e+01 3.48325666e+00 1.61349162e+01 3.96952700e+00\n 8.99065494e+00            nan 3.73782630e+00 1.36996294e+00\n 9.13086467e+01            nan            nan 2.88062499e+00\n            nan            nan 7.59437775e+06            nan\n 7.58119038e+00 3.74557535e+00 7.33531549e+00            nan\n 4.05421955e+00 3.66956992e+00 4.75790835e+00            nan\n 7.36749173e+00            nan 1.03665541e+02 8.08482708e+00\n 7.35683580e+00 1.47806509e+00            nan 7.33761052e+00\n 3.57763857e+02 2.09159690e+00 1.51183868e+00 7.35037478e+00\n            nan 1.73498214e+00 3.55819070e+00 1.64545742e+03\n 7.35139635e+00            nan 9.10185459e+01 1.46556335e+00\n            nan 2.31924011e+00 5.78369643e+00 9.71981438e+00\n            nan 2.97982132e+00 3.31646497e+00 9.53214612e+01\n 3.54144783e+00 1.31705012e+00 7.60846087e+00            nan\n 1.29927086e+00 3.01830863e+01 1.10326919e+02 3.28269568e+00\n 1.84566320e+01            nan 1.21062623e+00 1.58345445e+00\n 7.35622887e+00            nan 1.24164296e+01 1.78005466e+00\n 4.35304295e+00            nan 1.51458497e+00 8.96810658e+00\n            nan 3.03313183e+00 3.12492221e+00            nan\n 3.92890487e+00            nan 7.33745471e+00 1.49351198e+00\n 2.78969555e+01 7.34045307e+00 7.37543650e+00 5.89570417e+00\n 4.42076269e+02 2.65535936e+00 3.07009893e+00 2.03739702e+00\n 8.86871092e+00 9.58881589e+00 7.93850367e+00 1.41953902e+00\n 7.80493209e+00 3.29371781e+03            nan 4.33911004e+01\n 7.32738305e+00 2.14896792e+01            nan 7.36479670e+00\n 9.89753457e+00            nan 1.49488429e+02 1.64703678e+00\n            nan 1.42611624e+00            nan 6.51457515e+00\n 3.59192660e+02 7.33990238e+00            nan 1.27284925e+00\n 1.66101359e+01 1.87035364e+00 4.73699201e+00 1.23920002e+00\n 1.96433034e+00 8.70933694e+00 7.56206775e+00 3.67806079e+02\n 9.36378386e+00 5.79759826e+00            nan 3.41513375e+04\n 1.24896040e+00 7.70187054e+01            nan 4.52934611e+00\n            nan 1.43796487e+01 6.86510613e+00 2.77867484e+01\n 1.14470771e+01 7.34609601e+00 2.06736834e+00 7.31135976e+00\n 1.07407718e+01            nan 3.13047255e+00            nan\n 3.19011527e+00            nan 1.35231166e+00 4.20333552e+00\n 1.03957334e+01 2.44800560e+00            nan 4.81622142e+00\n 2.15783252e+00            nan 1.85351369e+00            nan]\n  category=UserWarning,\n/shared-libs/python3.7/py/lib/python3.7/site-packages/sklearn/utils/extmath.py:153: RuntimeWarning: overflow encountered in matmul\n  ret = a @ b\n/shared-libs/python3.7/py/lib/python3.7/site-packages/sklearn/utils/extmath.py:153: RuntimeWarning: overflow encountered in matmul\n  ret = a @ b\n/shared-libs/python3.7/py/lib/python3.7/site-packages/sklearn/utils/extmath.py:153: RuntimeWarning: overflow encountered in matmul\n  ret = a @ b\n/shared-libs/python3.7/py/lib/python3.7/site-packages/sklearn/utils/extmath.py:153: RuntimeWarning: overflow encountered in matmul\n  ret = a @ b\n/shared-libs/python3.7/py/lib/python3.7/site-packages/sklearn/utils/extmath.py:153: RuntimeWarning: overflow encountered in matmul\n  ret = a @ b\n/shared-libs/python3.7/py/lib/python3.7/site-packages/sklearn/utils/extmath.py:153: RuntimeWarning: overflow encountered in matmul\n  ret = a @ b\n/shared-libs/python3.7/py/lib/python3.7/site-packages/sklearn/utils/extmath.py:153: RuntimeWarning: overflow encountered in matmul\n  ret = a @ b\n/shared-libs/python3.7/py/lib/python3.7/site-packages/sklearn/utils/extmath.py:153: RuntimeWarning: overflow encountered in matmul\n  ret = a @ b\n/shared-libs/python3.7/py/lib/python3.7/site-packages/sklearn/utils/extmath.py:153: RuntimeWarning: overflow encountered in matmul\n  ret = a @ b\n/shared-libs/python3.7/py/lib/python3.7/site-packages/sklearn/utils/extmath.py:153: RuntimeWarning: overflow encountered in matmul\n  ret = a @ b\n/shared-libs/python3.7/py/lib/python3.7/site-packages/sklearn/utils/extmath.py:153: RuntimeWarning: overflow encountered in matmul\n  ret = a @ b\n/shared-libs/python3.7/py/lib/python3.7/site-packages/sklearn/utils/extmath.py:153: RuntimeWarning: overflow encountered in matmul\n  ret = a @ b\n/shared-libs/python3.7/py/lib/python3.7/site-packages/sklearn/utils/extmath.py:153: RuntimeWarning: overflow encountered in matmul\n  ret = a @ b\n/shared-libs/python3.7/py/lib/python3.7/site-packages/sklearn/utils/extmath.py:153: RuntimeWarning: overflow encountered in matmul\n  ret = a @ b\n/shared-libs/python3.7/py/lib/python3.7/site-packages/sklearn/utils/extmath.py:153: RuntimeWarning: overflow encountered in matmul\n  ret = a @ b\n/shared-libs/python3.7/py/lib/python3.7/site-packages/sklearn/utils/extmath.py:153: RuntimeWarning: overflow encountered in matmul\n  ret = a @ b\n/shared-libs/python3.7/py/lib/python3.7/site-packages/sklearn/utils/extmath.py:153: RuntimeWarning: overflow encountered in matmul\n  ret = a @ b\n/shared-libs/python3.7/py/lib/python3.7/site-packages/sklearn/utils/extmath.py:153: RuntimeWarning: overflow encountered in matmul\n  ret = a @ b\n/shared-libs/python3.7/py/lib/python3.7/site-packages/sklearn/utils/extmath.py:153: RuntimeWarning: overflow encountered in matmul\n  ret = a @ b\n/shared-libs/python3.7/py/lib/python3.7/site-packages/sklearn/utils/extmath.py:153: RuntimeWarning: overflow encountered in matmul\n  ret = a @ b\n/shared-libs/python3.7/py/lib/python3.7/site-packages/sklearn/utils/extmath.py:153: RuntimeWarning: overflow encountered in matmul\n  ret = a @ b\n/shared-libs/python3.7/py/lib/python3.7/site-packages/sklearn/utils/extmath.py:153: RuntimeWarning: overflow encountered in matmul\n  ret = a @ b\n/shared-libs/python3.7/py/lib/python3.7/site-packages/sklearn/utils/extmath.py:153: RuntimeWarning: overflow encountered in matmul\n  ret = a @ b\n/shared-libs/python3.7/py/lib/python3.7/site-packages/sklearn/utils/extmath.py:153: RuntimeWarning: overflow encountered in matmul\n  ret = a @ b\n/shared-libs/python3.7/py/lib/python3.7/site-packages/sklearn/utils/extmath.py:153: RuntimeWarning: overflow encountered in matmul\n  ret = a @ b\n",
     "output_type": "stream"
    },
    {
     "output_type": "execute_result",
     "execution_count": 12,
     "data": {
      "text/plain": "RandomizedSearchCV(cv=10, estimator=MLPRegressor(), n_iter=1000, n_jobs=-1,\n                   param_distributions={'activation': ['logistic', 'tanh',\n                                                       'relu'],\n                                        'alpha': <scipy.stats._distn_infrastructure.rv_frozen object at 0x7efcffd83050>,\n                                        'batch_size': <scipy.stats._distn_infrastructure.rv_frozen object at 0x7efcffd83350>,\n                                        'early_stopping': [True],\n                                        'hidden_layer_sizes': [(5,), (10,),\n                                                               (25...\n                                        'learning_rate_init': <scipy.stats._distn_infrastructure.rv_frozen object at 0x7efd1ff96e90>,\n                                        'max_iter': [5000],\n                                        'momentum': [0.1, 0.3, 0.5, 0.7, 0.9,\n                                                     1],\n                                        'n_iter_no_change': [5, 15, 25],\n                                        'random_state': [69], 'solver': ['sgd'],\n                                        'tol': <scipy.stats._distn_infrastructure.rv_frozen object at 0x7efcffd83250>,\n                                        'validation_fraction': [0.2]},\n                   random_state=69, scoring=make_scorer(mee), verbose=10)"
     },
     "metadata": {}
    }
   ]
  },
  {
   "cell_type": "code",
   "metadata": {
    "tags": [],
    "deepnote_to_be_reexecuted": false,
    "source_hash": "cb8ff0bc",
    "execution_start": 1642854447277,
    "execution_millis": 208,
    "cell_id": "00076-1460bdab-c092-4cf0-80e7-fcc606b0fcca",
    "deepnote_cell_type": "code"
   },
   "source": "#%%script false --no-raise-error\n\ndf_results = pd.DataFrame(data=rand_gs.cv_results_) #trasform into a pandas dataframe\ndf_results.sort_values(by=\"rank_test_score\", axis=0, ascending=False, inplace=True) #sort rank values in decreasing order \ndf_results.dropna(inplace=True) #delete nan values \ndf_results = df_results[:50] #keep only top 50 models\npd.DataFrame.to_csv(df_results, \"sklearn_results/rand1_search.csv\")",
   "execution_count": 13,
   "outputs": []
  },
  {
   "cell_type": "code",
   "metadata": {
    "deepnote_to_be_reexecuted": false,
    "source_hash": "597f1dd",
    "execution_start": 1642858308293,
    "execution_millis": 635,
    "output_cleared": false,
    "cell_id": "00077-b8f53132-bb5a-4159-9708-b931d8979761",
    "deepnote_cell_type": "code"
   },
   "source": "df_results = pd.read_csv(\"sklearn_results/rand1_search.csv\")\ndf_results.head()\n",
   "execution_count": 14,
   "outputs": [
    {
     "output_type": "execute_result",
     "execution_count": 14,
     "data": {
      "application/vnd.deepnote.dataframe.v3+json": {
       "column_count": 33,
       "row_count": 5,
       "columns": [
        {
         "name": "Unnamed: 0",
         "dtype": "int64",
         "stats": {
          "unique_count": 5,
          "nan_count": 0,
          "min": "107",
          "max": "910",
          "histogram": [
           {
            "bin_start": 107,
            "bin_end": 187.3,
            "count": 1
           },
           {
            "bin_start": 187.3,
            "bin_end": 267.6,
            "count": 0
           },
           {
            "bin_start": 267.6,
            "bin_end": 347.9,
            "count": 1
           },
           {
            "bin_start": 347.9,
            "bin_end": 428.2,
            "count": 1
           },
           {
            "bin_start": 428.2,
            "bin_end": 508.5,
            "count": 0
           },
           {
            "bin_start": 508.5,
            "bin_end": 588.8,
            "count": 0
           },
           {
            "bin_start": 588.8,
            "bin_end": 669.1,
            "count": 1
           },
           {
            "bin_start": 669.1,
            "bin_end": 749.4,
            "count": 0
           },
           {
            "bin_start": 749.4,
            "bin_end": 829.6999999999999,
            "count": 0
           },
           {
            "bin_start": 829.6999999999999,
            "bin_end": 910,
            "count": 1
           }
          ]
         }
        },
        {
         "name": "mean_fit_time",
         "dtype": "float64",
         "stats": {
          "unique_count": 5,
          "nan_count": 0,
          "min": "0.2055944681167602",
          "max": "0.6940480470657349",
          "histogram": [
           {
            "bin_start": 0.2055944681167602,
            "bin_end": 0.25443982601165765,
            "count": 1
           },
           {
            "bin_start": 0.25443982601165765,
            "bin_end": 0.3032851839065551,
            "count": 0
           },
           {
            "bin_start": 0.3032851839065551,
            "bin_end": 0.3521305418014526,
            "count": 0
           },
           {
            "bin_start": 0.3521305418014526,
            "bin_end": 0.40097589969635006,
            "count": 0
           },
           {
            "bin_start": 0.40097589969635006,
            "bin_end": 0.4498212575912475,
            "count": 1
           },
           {
            "bin_start": 0.4498212575912475,
            "bin_end": 0.498666615486145,
            "count": 0
           },
           {
            "bin_start": 0.498666615486145,
            "bin_end": 0.5475119733810425,
            "count": 0
           },
           {
            "bin_start": 0.5475119733810425,
            "bin_end": 0.5963573312759399,
            "count": 1
           },
           {
            "bin_start": 0.5963573312759399,
            "bin_end": 0.6452026891708373,
            "count": 0
           },
           {
            "bin_start": 0.6452026891708373,
            "bin_end": 0.6940480470657349,
            "count": 2
           }
          ]
         }
        },
        {
         "name": "std_fit_time",
         "dtype": "float64",
         "stats": {
          "unique_count": 5,
          "nan_count": 0,
          "min": "0.0396614550400268",
          "max": "0.1360349359141376",
          "histogram": [
           {
            "bin_start": 0.0396614550400268,
            "bin_end": 0.04929880312743788,
            "count": 2
           },
           {
            "bin_start": 0.04929880312743788,
            "bin_end": 0.05893615121484896,
            "count": 0
           },
           {
            "bin_start": 0.05893615121484896,
            "bin_end": 0.06857349930226003,
            "count": 0
           },
           {
            "bin_start": 0.06857349930226003,
            "bin_end": 0.07821084738967111,
            "count": 0
           },
           {
            "bin_start": 0.07821084738967111,
            "bin_end": 0.0878481954770822,
            "count": 1
           },
           {
            "bin_start": 0.0878481954770822,
            "bin_end": 0.09748554356449327,
            "count": 1
           },
           {
            "bin_start": 0.09748554356449327,
            "bin_end": 0.10712289165190435,
            "count": 0
           },
           {
            "bin_start": 0.10712289165190435,
            "bin_end": 0.11676023973931543,
            "count": 0
           },
           {
            "bin_start": 0.11676023973931543,
            "bin_end": 0.1263975878267265,
            "count": 0
           },
           {
            "bin_start": 0.1263975878267265,
            "bin_end": 0.1360349359141376,
            "count": 1
           }
          ]
         }
        },
        {
         "name": "mean_score_time",
         "dtype": "float64",
         "stats": {
          "unique_count": 5,
          "nan_count": 0,
          "min": "0.0011815547943115",
          "max": "0.0039679288864135",
          "histogram": [
           {
            "bin_start": 0.0011815547943115,
            "bin_end": 0.0014601922035217,
            "count": 1
           },
           {
            "bin_start": 0.0014601922035217,
            "bin_end": 0.0017388296127319,
            "count": 2
           },
           {
            "bin_start": 0.0017388296127319,
            "bin_end": 0.0020174670219421003,
            "count": 0
           },
           {
            "bin_start": 0.0020174670219421003,
            "bin_end": 0.0022961044311523,
            "count": 0
           },
           {
            "bin_start": 0.0022961044311523,
            "bin_end": 0.0025747418403625003,
            "count": 0
           },
           {
            "bin_start": 0.0025747418403625003,
            "bin_end": 0.0028533792495727,
            "count": 0
           },
           {
            "bin_start": 0.0028533792495727,
            "bin_end": 0.0031320166587829002,
            "count": 0
           },
           {
            "bin_start": 0.0031320166587829002,
            "bin_end": 0.0034106540679931,
            "count": 0
           },
           {
            "bin_start": 0.0034106540679931,
            "bin_end": 0.0036892914772033002,
            "count": 1
           },
           {
            "bin_start": 0.0036892914772033002,
            "bin_end": 0.0039679288864135,
            "count": 1
           }
          ]
         }
        },
        {
         "name": "std_score_time",
         "dtype": "float64",
         "stats": {
          "unique_count": 5,
          "nan_count": 0,
          "min": "4.877897299517255e-05",
          "max": "0.0084214274627493",
          "histogram": [
           {
            "bin_start": 0.00004877897299517255,
            "bin_end": 0.0008860438219705852,
            "count": 3
           },
           {
            "bin_start": 0.0008860438219705852,
            "bin_end": 0.0017233086709459978,
            "count": 0
           },
           {
            "bin_start": 0.0017233086709459978,
            "bin_end": 0.0025605735199214106,
            "count": 0
           },
           {
            "bin_start": 0.0025605735199214106,
            "bin_end": 0.003397838368896823,
            "count": 0
           },
           {
            "bin_start": 0.003397838368896823,
            "bin_end": 0.0042351032178722355,
            "count": 0
           },
           {
            "bin_start": 0.0042351032178722355,
            "bin_end": 0.005072368066847649,
            "count": 0
           },
           {
            "bin_start": 0.005072368066847649,
            "bin_end": 0.005909632915823061,
            "count": 0
           },
           {
            "bin_start": 0.005909632915823061,
            "bin_end": 0.006746897764798474,
            "count": 1
           },
           {
            "bin_start": 0.006746897764798474,
            "bin_end": 0.007584162613773886,
            "count": 0
           },
           {
            "bin_start": 0.007584162613773886,
            "bin_end": 0.0084214274627493,
            "count": 1
           }
          ]
         }
        },
        {
         "name": "param_activation",
         "dtype": "object",
         "stats": {
          "unique_count": 2,
          "nan_count": 0,
          "categories": [
           {
            "name": "tanh",
            "count": 3
           },
           {
            "name": "logistic",
            "count": 2
           }
          ]
         }
        },
        {
         "name": "param_alpha",
         "dtype": "float64",
         "stats": {
          "unique_count": 5,
          "nan_count": 0,
          "min": "0.0015340182022603",
          "max": "0.0952526405599177",
          "histogram": [
           {
            "bin_start": 0.0015340182022603,
            "bin_end": 0.010905880438026039,
            "count": 1
           },
           {
            "bin_start": 0.010905880438026039,
            "bin_end": 0.020277742673791777,
            "count": 0
           },
           {
            "bin_start": 0.020277742673791777,
            "bin_end": 0.029649604909557516,
            "count": 0
           },
           {
            "bin_start": 0.029649604909557516,
            "bin_end": 0.03902146714532325,
            "count": 0
           },
           {
            "bin_start": 0.03902146714532325,
            "bin_end": 0.048393329381088986,
            "count": 1
           },
           {
            "bin_start": 0.048393329381088986,
            "bin_end": 0.05776519161685473,
            "count": 1
           },
           {
            "bin_start": 0.05776519161685473,
            "bin_end": 0.06713705385262048,
            "count": 0
           },
           {
            "bin_start": 0.06713705385262048,
            "bin_end": 0.07650891608838621,
            "count": 0
           },
           {
            "bin_start": 0.07650891608838621,
            "bin_end": 0.08588077832415195,
            "count": 0
           },
           {
            "bin_start": 0.08588077832415195,
            "bin_end": 0.0952526405599177,
            "count": 2
           }
          ]
         }
        },
        {
         "name": "param_batch_size",
         "dtype": "int64",
         "stats": {
          "unique_count": 5,
          "nan_count": 0,
          "min": "634",
          "max": "720",
          "histogram": [
           {
            "bin_start": 634,
            "bin_end": 642.6,
            "count": 1
           },
           {
            "bin_start": 642.6,
            "bin_end": 651.2,
            "count": 0
           },
           {
            "bin_start": 651.2,
            "bin_end": 659.8,
            "count": 0
           },
           {
            "bin_start": 659.8,
            "bin_end": 668.4,
            "count": 1
           },
           {
            "bin_start": 668.4,
            "bin_end": 677,
            "count": 1
           },
           {
            "bin_start": 677,
            "bin_end": 685.6,
            "count": 1
           },
           {
            "bin_start": 685.6,
            "bin_end": 694.2,
            "count": 0
           },
           {
            "bin_start": 694.2,
            "bin_end": 702.8,
            "count": 0
           },
           {
            "bin_start": 702.8,
            "bin_end": 711.4,
            "count": 0
           },
           {
            "bin_start": 711.4,
            "bin_end": 720,
            "count": 1
           }
          ]
         }
        },
        {
         "name": "param_early_stopping",
         "dtype": "bool",
         "stats": {
          "unique_count": 1,
          "nan_count": 0,
          "categories": [
           {
            "name": "True",
            "count": 5
           }
          ]
         }
        },
        {
         "name": "param_hidden_layer_sizes",
         "dtype": "object",
         "stats": {
          "unique_count": 4,
          "nan_count": 0,
          "categories": [
           {
            "name": "(10, 10)",
            "count": 2
           },
           {
            "name": "(25, 25)",
            "count": 1
           },
           {
            "name": "2 others",
            "count": 2
           }
          ]
         }
        },
        {
         "name": "param_learning_rate",
         "dtype": "object",
         "stats": {
          "unique_count": 2,
          "nan_count": 0,
          "categories": [
           {
            "name": "adaptive",
            "count": 3
           },
           {
            "name": "constant",
            "count": 2
           }
          ]
         }
        },
        {
         "name": "param_learning_rate_init",
         "dtype": "float64",
         "stats": {
          "unique_count": 5,
          "nan_count": 0,
          "min": "0.0123633347947055",
          "max": "0.1344985140500114",
          "histogram": [
           {
            "bin_start": 0.0123633347947055,
            "bin_end": 0.02457685272023609,
            "count": 1
           },
           {
            "bin_start": 0.02457685272023609,
            "bin_end": 0.03679037064576668,
            "count": 1
           },
           {
            "bin_start": 0.03679037064576668,
            "bin_end": 0.04900388857129727,
            "count": 0
           },
           {
            "bin_start": 0.04900388857129727,
            "bin_end": 0.06121740649682786,
            "count": 0
           },
           {
            "bin_start": 0.06121740649682786,
            "bin_end": 0.07343092442235845,
            "count": 0
           },
           {
            "bin_start": 0.07343092442235845,
            "bin_end": 0.08564444234788904,
            "count": 1
           },
           {
            "bin_start": 0.08564444234788904,
            "bin_end": 0.09785796027341963,
            "count": 1
           },
           {
            "bin_start": 0.09785796027341963,
            "bin_end": 0.11007147819895022,
            "count": 0
           },
           {
            "bin_start": 0.11007147819895022,
            "bin_end": 0.12228499612448081,
            "count": 0
           },
           {
            "bin_start": 0.12228499612448081,
            "bin_end": 0.1344985140500114,
            "count": 1
           }
          ]
         }
        },
        {
         "name": "param_max_iter",
         "dtype": "int64",
         "stats": {
          "unique_count": 1,
          "nan_count": 0,
          "min": "5000",
          "max": "5000",
          "histogram": [
           {
            "bin_start": 4999.5,
            "bin_end": 4999.6,
            "count": 0
           },
           {
            "bin_start": 4999.6,
            "bin_end": 4999.7,
            "count": 0
           },
           {
            "bin_start": 4999.7,
            "bin_end": 4999.8,
            "count": 0
           },
           {
            "bin_start": 4999.8,
            "bin_end": 4999.9,
            "count": 0
           },
           {
            "bin_start": 4999.9,
            "bin_end": 5000,
            "count": 0
           },
           {
            "bin_start": 5000,
            "bin_end": 5000.1,
            "count": 5
           },
           {
            "bin_start": 5000.1,
            "bin_end": 5000.2,
            "count": 0
           },
           {
            "bin_start": 5000.2,
            "bin_end": 5000.3,
            "count": 0
           },
           {
            "bin_start": 5000.3,
            "bin_end": 5000.4,
            "count": 0
           },
           {
            "bin_start": 5000.4,
            "bin_end": 5000.5,
            "count": 0
           }
          ]
         }
        },
        {
         "name": "param_momentum",
         "dtype": "float64",
         "stats": {
          "unique_count": 4,
          "nan_count": 0,
          "min": "0.1",
          "max": "0.9",
          "histogram": [
           {
            "bin_start": 0.1,
            "bin_end": 0.18,
            "count": 1
           },
           {
            "bin_start": 0.18,
            "bin_end": 0.26,
            "count": 0
           },
           {
            "bin_start": 0.26,
            "bin_end": 0.33999999999999997,
            "count": 0
           },
           {
            "bin_start": 0.33999999999999997,
            "bin_end": 0.42000000000000004,
            "count": 0
           },
           {
            "bin_start": 0.42000000000000004,
            "bin_end": 0.5,
            "count": 0
           },
           {
            "bin_start": 0.5,
            "bin_end": 0.58,
            "count": 1
           },
           {
            "bin_start": 0.58,
            "bin_end": 0.66,
            "count": 0
           },
           {
            "bin_start": 0.66,
            "bin_end": 0.74,
            "count": 1
           },
           {
            "bin_start": 0.74,
            "bin_end": 0.82,
            "count": 0
           },
           {
            "bin_start": 0.82,
            "bin_end": 0.9,
            "count": 2
           }
          ]
         }
        },
        {
         "name": "param_n_iter_no_change",
         "dtype": "int64",
         "stats": {
          "unique_count": 2,
          "nan_count": 0,
          "min": "5",
          "max": "15",
          "histogram": [
           {
            "bin_start": 5,
            "bin_end": 6,
            "count": 1
           },
           {
            "bin_start": 6,
            "bin_end": 7,
            "count": 0
           },
           {
            "bin_start": 7,
            "bin_end": 8,
            "count": 0
           },
           {
            "bin_start": 8,
            "bin_end": 9,
            "count": 0
           },
           {
            "bin_start": 9,
            "bin_end": 10,
            "count": 0
           },
           {
            "bin_start": 10,
            "bin_end": 11,
            "count": 0
           },
           {
            "bin_start": 11,
            "bin_end": 12,
            "count": 0
           },
           {
            "bin_start": 12,
            "bin_end": 13,
            "count": 0
           },
           {
            "bin_start": 13,
            "bin_end": 14,
            "count": 0
           },
           {
            "bin_start": 14,
            "bin_end": 15,
            "count": 4
           }
          ]
         }
        },
        {
         "name": "param_random_state",
         "dtype": "int64",
         "stats": {
          "unique_count": 1,
          "nan_count": 0,
          "min": "69",
          "max": "69",
          "histogram": [
           {
            "bin_start": 68.5,
            "bin_end": 68.6,
            "count": 0
           },
           {
            "bin_start": 68.6,
            "bin_end": 68.7,
            "count": 0
           },
           {
            "bin_start": 68.7,
            "bin_end": 68.8,
            "count": 0
           },
           {
            "bin_start": 68.8,
            "bin_end": 68.9,
            "count": 0
           },
           {
            "bin_start": 68.9,
            "bin_end": 69,
            "count": 0
           },
           {
            "bin_start": 69,
            "bin_end": 69.1,
            "count": 5
           },
           {
            "bin_start": 69.1,
            "bin_end": 69.2,
            "count": 0
           },
           {
            "bin_start": 69.2,
            "bin_end": 69.3,
            "count": 0
           },
           {
            "bin_start": 69.3,
            "bin_end": 69.4,
            "count": 0
           },
           {
            "bin_start": 69.4,
            "bin_end": 69.5,
            "count": 0
           }
          ]
         }
        },
        {
         "name": "param_solver",
         "dtype": "object",
         "stats": {
          "unique_count": 1,
          "nan_count": 0,
          "categories": [
           {
            "name": "sgd",
            "count": 5
           }
          ]
         }
        },
        {
         "name": "param_tol",
         "dtype": "float64",
         "stats": {
          "unique_count": 5,
          "nan_count": 0,
          "min": "0.0010103466472269",
          "max": "0.00107743216062",
          "histogram": [
           {
            "bin_start": 0.0010103466472269,
            "bin_end": 0.00101705519856621,
            "count": 2
           },
           {
            "bin_start": 0.00101705519856621,
            "bin_end": 0.00102376374990552,
            "count": 0
           },
           {
            "bin_start": 0.00102376374990552,
            "bin_end": 0.00103047230124483,
            "count": 0
           },
           {
            "bin_start": 0.00103047230124483,
            "bin_end": 0.00103718085258414,
            "count": 0
           },
           {
            "bin_start": 0.00103718085258414,
            "bin_end": 0.00104388940392345,
            "count": 0
           },
           {
            "bin_start": 0.00104388940392345,
            "bin_end": 0.00105059795526276,
            "count": 1
           },
           {
            "bin_start": 0.00105059795526276,
            "bin_end": 0.00105730650660207,
            "count": 0
           },
           {
            "bin_start": 0.00105730650660207,
            "bin_end": 0.00106401505794138,
            "count": 0
           },
           {
            "bin_start": 0.00106401505794138,
            "bin_end": 0.0010707236092806901,
            "count": 1
           },
           {
            "bin_start": 0.0010707236092806901,
            "bin_end": 0.00107743216062,
            "count": 1
           }
          ]
         }
        },
        {
         "name": "param_validation_fraction",
         "dtype": "float64",
         "stats": {
          "unique_count": 1,
          "nan_count": 0,
          "min": "0.2",
          "max": "0.2",
          "histogram": [
           {
            "bin_start": -0.3,
            "bin_end": -0.19999999999999998,
            "count": 0
           },
           {
            "bin_start": -0.19999999999999998,
            "bin_end": -0.09999999999999998,
            "count": 0
           },
           {
            "bin_start": -0.09999999999999998,
            "bin_end": 5.551115123125783e-17,
            "count": 0
           },
           {
            "bin_start": 5.551115123125783e-17,
            "bin_end": 0.10000000000000003,
            "count": 0
           },
           {
            "bin_start": 0.10000000000000003,
            "bin_end": 0.2,
            "count": 0
           },
           {
            "bin_start": 0.2,
            "bin_end": 0.3000000000000001,
            "count": 5
           },
           {
            "bin_start": 0.3000000000000001,
            "bin_end": 0.4000000000000001,
            "count": 0
           },
           {
            "bin_start": 0.4000000000000001,
            "bin_end": 0.5,
            "count": 0
           },
           {
            "bin_start": 0.5,
            "bin_end": 0.6000000000000001,
            "count": 0
           },
           {
            "bin_start": 0.6000000000000001,
            "bin_end": 0.7,
            "count": 0
           }
          ]
         }
        },
        {
         "name": "params",
         "dtype": "object",
         "stats": {
          "unique_count": 5,
          "nan_count": 0,
          "categories": [
           {
            "name": "{'activation': 'logistic', 'alpha': 0.044331640264133026, 'batch_size': 634, 'early_stopping': True, 'hidden_layer_sizes': (10, 10), 'learning_rate': 'adaptive', 'learning_rate_init': 0.09054404773061386, 'max_iter': 5000, 'momentum': 0.9, 'n_iter_no_change': 15, 'random_state': 69, 'solver': 'sgd', 'tol': 0.0010129163384842077, 'validation_fraction': 0.2}",
            "count": 1
           },
           {
            "name": "{'activation': 'tanh', 'alpha': 0.08861894504525754, 'batch_size': 666, 'early_stopping': True, 'hidden_layer_sizes': (25, 25), 'learning_rate': 'constant', 'learning_rate_init': 0.08096285418045468, 'max_iter': 5000, 'momentum': 0.1, 'n_iter_no_change': 15, 'random_state': 69, 'solver': 'sgd', 'tol': 0.0010103466472269063, 'validation_fraction': 0.2}",
            "count": 1
           },
           {
            "name": "3 others",
            "count": 3
           }
          ]
         }
        },
        {
         "name": "split0_test_score",
         "dtype": "float64",
         "stats": {
          "unique_count": 5,
          "nan_count": 0,
          "min": "1.091741362628592",
          "max": "1.1853563327763366",
          "histogram": [
           {
            "bin_start": 1.091741362628592,
            "bin_end": 1.1011028596433663,
            "count": 2
           },
           {
            "bin_start": 1.1011028596433663,
            "bin_end": 1.110464356658141,
            "count": 0
           },
           {
            "bin_start": 1.110464356658141,
            "bin_end": 1.1198258536729153,
            "count": 0
           },
           {
            "bin_start": 1.1198258536729153,
            "bin_end": 1.1291873506876897,
            "count": 0
           },
           {
            "bin_start": 1.1291873506876897,
            "bin_end": 1.1385488477024643,
            "count": 0
           },
           {
            "bin_start": 1.1385488477024643,
            "bin_end": 1.1479103447172387,
            "count": 0
           },
           {
            "bin_start": 1.1479103447172387,
            "bin_end": 1.1572718417320131,
            "count": 1
           },
           {
            "bin_start": 1.1572718417320131,
            "bin_end": 1.1666333387467875,
            "count": 0
           },
           {
            "bin_start": 1.1666333387467875,
            "bin_end": 1.1759948357615622,
            "count": 1
           },
           {
            "bin_start": 1.1759948357615622,
            "bin_end": 1.1853563327763366,
            "count": 1
           }
          ]
         }
        },
        {
         "name": "split1_test_score",
         "dtype": "float64",
         "stats": {
          "unique_count": 5,
          "nan_count": 0,
          "min": "1.0725664914248532",
          "max": "1.111892547304577",
          "histogram": [
           {
            "bin_start": 1.0725664914248532,
            "bin_end": 1.0764990970128256,
            "count": 1
           },
           {
            "bin_start": 1.0764990970128256,
            "bin_end": 1.080431702600798,
            "count": 0
           },
           {
            "bin_start": 1.080431702600798,
            "bin_end": 1.0843643081887704,
            "count": 1
           },
           {
            "bin_start": 1.0843643081887704,
            "bin_end": 1.0882969137767426,
            "count": 0
           },
           {
            "bin_start": 1.0882969137767426,
            "bin_end": 1.0922295193647151,
            "count": 1
           },
           {
            "bin_start": 1.0922295193647151,
            "bin_end": 1.0961621249526876,
            "count": 0
           },
           {
            "bin_start": 1.0961621249526876,
            "bin_end": 1.1000947305406599,
            "count": 0
           },
           {
            "bin_start": 1.1000947305406599,
            "bin_end": 1.1040273361286324,
            "count": 1
           },
           {
            "bin_start": 1.1040273361286324,
            "bin_end": 1.1079599417166046,
            "count": 0
           },
           {
            "bin_start": 1.1079599417166046,
            "bin_end": 1.111892547304577,
            "count": 1
           }
          ]
         }
        },
        {
         "name": "split2_test_score",
         "dtype": "float64",
         "stats": {
          "unique_count": 5,
          "nan_count": 0,
          "min": "1.2225082982493023",
          "max": "1.2730830832374165",
          "histogram": [
           {
            "bin_start": 1.2225082982493023,
            "bin_end": 1.2275657767481136,
            "count": 3
           },
           {
            "bin_start": 1.2275657767481136,
            "bin_end": 1.2326232552469252,
            "count": 0
           },
           {
            "bin_start": 1.2326232552469252,
            "bin_end": 1.2376807337457365,
            "count": 0
           },
           {
            "bin_start": 1.2376807337457365,
            "bin_end": 1.242738212244548,
            "count": 0
           },
           {
            "bin_start": 1.242738212244548,
            "bin_end": 1.2477956907433594,
            "count": 0
           },
           {
            "bin_start": 1.2477956907433594,
            "bin_end": 1.2528531692421707,
            "count": 0
           },
           {
            "bin_start": 1.2528531692421707,
            "bin_end": 1.2579106477409823,
            "count": 1
           },
           {
            "bin_start": 1.2579106477409823,
            "bin_end": 1.2629681262397936,
            "count": 0
           },
           {
            "bin_start": 1.2629681262397936,
            "bin_end": 1.2680256047386051,
            "count": 0
           },
           {
            "bin_start": 1.2680256047386051,
            "bin_end": 1.2730830832374165,
            "count": 1
           }
          ]
         }
        },
        {
         "name": "split3_test_score",
         "dtype": "float64",
         "stats": {
          "unique_count": 5,
          "nan_count": 0,
          "min": "1.2013567471507691",
          "max": "1.3248704075419775",
          "histogram": [
           {
            "bin_start": 1.2013567471507691,
            "bin_end": 1.21370811318989,
            "count": 1
           },
           {
            "bin_start": 1.21370811318989,
            "bin_end": 1.2260594792290107,
            "count": 0
           },
           {
            "bin_start": 1.2260594792290107,
            "bin_end": 1.2384108452681317,
            "count": 0
           },
           {
            "bin_start": 1.2384108452681317,
            "bin_end": 1.2507622113072525,
            "count": 1
           },
           {
            "bin_start": 1.2507622113072525,
            "bin_end": 1.2631135773463733,
            "count": 0
           },
           {
            "bin_start": 1.2631135773463733,
            "bin_end": 1.275464943385494,
            "count": 1
           },
           {
            "bin_start": 1.275464943385494,
            "bin_end": 1.287816309424615,
            "count": 1
           },
           {
            "bin_start": 1.287816309424615,
            "bin_end": 1.300167675463736,
            "count": 0
           },
           {
            "bin_start": 1.300167675463736,
            "bin_end": 1.3125190415028567,
            "count": 0
           },
           {
            "bin_start": 1.3125190415028567,
            "bin_end": 1.3248704075419775,
            "count": 1
           }
          ]
         }
        },
        {
         "name": "split4_test_score",
         "dtype": "float64",
         "stats": {
          "unique_count": 5,
          "nan_count": 0,
          "min": "1.2461550303177262",
          "max": "1.3281686191393425",
          "histogram": [
           {
            "bin_start": 1.2461550303177262,
            "bin_end": 1.254356389199888,
            "count": 1
           },
           {
            "bin_start": 1.254356389199888,
            "bin_end": 1.2625577480820496,
            "count": 1
           },
           {
            "bin_start": 1.2625577480820496,
            "bin_end": 1.270759106964211,
            "count": 0
           },
           {
            "bin_start": 1.270759106964211,
            "bin_end": 1.2789604658463727,
            "count": 0
           },
           {
            "bin_start": 1.2789604658463727,
            "bin_end": 1.2871618247285344,
            "count": 0
           },
           {
            "bin_start": 1.2871618247285344,
            "bin_end": 1.295363183610696,
            "count": 1
           },
           {
            "bin_start": 1.295363183610696,
            "bin_end": 1.3035645424928577,
            "count": 0
           },
           {
            "bin_start": 1.3035645424928577,
            "bin_end": 1.3117659013750191,
            "count": 0
           },
           {
            "bin_start": 1.3117659013750191,
            "bin_end": 1.3199672602571808,
            "count": 1
           },
           {
            "bin_start": 1.3199672602571808,
            "bin_end": 1.3281686191393425,
            "count": 1
           }
          ]
         }
        },
        {
         "name": "split5_test_score",
         "dtype": "float64",
         "stats": {
          "unique_count": 5,
          "nan_count": 0,
          "min": "1.2523779604414538",
          "max": "1.2858985550805486",
          "histogram": [
           {
            "bin_start": 1.2523779604414538,
            "bin_end": 1.2557300199053634,
            "count": 1
           },
           {
            "bin_start": 1.2557300199053634,
            "bin_end": 1.2590820793692727,
            "count": 0
           },
           {
            "bin_start": 1.2590820793692727,
            "bin_end": 1.2624341388331821,
            "count": 0
           },
           {
            "bin_start": 1.2624341388331821,
            "bin_end": 1.2657861982970917,
            "count": 0
           },
           {
            "bin_start": 1.2657861982970917,
            "bin_end": 1.2691382577610013,
            "count": 1
           },
           {
            "bin_start": 1.2691382577610013,
            "bin_end": 1.2724903172249107,
            "count": 0
           },
           {
            "bin_start": 1.2724903172249107,
            "bin_end": 1.27584237668882,
            "count": 0
           },
           {
            "bin_start": 1.27584237668882,
            "bin_end": 1.2791944361527297,
            "count": 1
           },
           {
            "bin_start": 1.2791944361527297,
            "bin_end": 1.2825464956166392,
            "count": 0
           },
           {
            "bin_start": 1.2825464956166392,
            "bin_end": 1.2858985550805486,
            "count": 2
           }
          ]
         }
        },
        {
         "name": "split6_test_score",
         "dtype": "float64",
         "stats": {
          "unique_count": 5,
          "nan_count": 0,
          "min": "1.160284778345356",
          "max": "1.2325404022396036",
          "histogram": [
           {
            "bin_start": 1.160284778345356,
            "bin_end": 1.1675103407347809,
            "count": 2
           },
           {
            "bin_start": 1.1675103407347809,
            "bin_end": 1.1747359031242055,
            "count": 0
           },
           {
            "bin_start": 1.1747359031242055,
            "bin_end": 1.1819614655136303,
            "count": 0
           },
           {
            "bin_start": 1.1819614655136303,
            "bin_end": 1.189187027903055,
            "count": 1
           },
           {
            "bin_start": 1.189187027903055,
            "bin_end": 1.1964125902924798,
            "count": 0
           },
           {
            "bin_start": 1.1964125902924798,
            "bin_end": 1.2036381526819047,
            "count": 0
           },
           {
            "bin_start": 1.2036381526819047,
            "bin_end": 1.2108637150713293,
            "count": 0
           },
           {
            "bin_start": 1.2108637150713293,
            "bin_end": 1.2180892774607541,
            "count": 1
           },
           {
            "bin_start": 1.2180892774607541,
            "bin_end": 1.2253148398501787,
            "count": 0
           },
           {
            "bin_start": 1.2253148398501787,
            "bin_end": 1.2325404022396036,
            "count": 1
           }
          ]
         }
        },
        {
         "name": "split7_test_score",
         "dtype": "float64",
         "stats": {
          "unique_count": 5,
          "nan_count": 0,
          "min": "1.1101530267629856",
          "max": "1.2167926952955068",
          "histogram": [
           {
            "bin_start": 1.1101530267629856,
            "bin_end": 1.1208169936162378,
            "count": 1
           },
           {
            "bin_start": 1.1208169936162378,
            "bin_end": 1.1314809604694898,
            "count": 0
           },
           {
            "bin_start": 1.1314809604694898,
            "bin_end": 1.142144927322742,
            "count": 1
           },
           {
            "bin_start": 1.142144927322742,
            "bin_end": 1.152808894175994,
            "count": 0
           },
           {
            "bin_start": 1.152808894175994,
            "bin_end": 1.1634728610292462,
            "count": 1
           },
           {
            "bin_start": 1.1634728610292462,
            "bin_end": 1.1741368278824984,
            "count": 0
           },
           {
            "bin_start": 1.1741368278824984,
            "bin_end": 1.1848007947357504,
            "count": 0
           },
           {
            "bin_start": 1.1848007947357504,
            "bin_end": 1.1954647615890026,
            "count": 1
           },
           {
            "bin_start": 1.1954647615890026,
            "bin_end": 1.2061287284422546,
            "count": 0
           },
           {
            "bin_start": 1.2061287284422546,
            "bin_end": 1.2167926952955068,
            "count": 1
           }
          ]
         }
        },
        {
         "name": "split8_test_score",
         "dtype": "float64",
         "stats": {
          "unique_count": 5,
          "nan_count": 0,
          "min": "1.219896442101449",
          "max": "1.405835326850989",
          "histogram": [
           {
            "bin_start": 1.219896442101449,
            "bin_end": 1.238490330576403,
            "count": 1
           },
           {
            "bin_start": 1.238490330576403,
            "bin_end": 1.2570842190513571,
            "count": 0
           },
           {
            "bin_start": 1.2570842190513571,
            "bin_end": 1.275678107526311,
            "count": 0
           },
           {
            "bin_start": 1.275678107526311,
            "bin_end": 1.2942719960012652,
            "count": 0
           },
           {
            "bin_start": 1.2942719960012652,
            "bin_end": 1.312865884476219,
            "count": 0
           },
           {
            "bin_start": 1.312865884476219,
            "bin_end": 1.331459772951173,
            "count": 3
           },
           {
            "bin_start": 1.331459772951173,
            "bin_end": 1.3500536614261271,
            "count": 0
           },
           {
            "bin_start": 1.3500536614261271,
            "bin_end": 1.368647549901081,
            "count": 0
           },
           {
            "bin_start": 1.368647549901081,
            "bin_end": 1.3872414383760352,
            "count": 0
           },
           {
            "bin_start": 1.3872414383760352,
            "bin_end": 1.405835326850989,
            "count": 1
           }
          ]
         }
        },
        {
         "name": "split9_test_score",
         "dtype": "float64",
         "stats": {
          "unique_count": 5,
          "nan_count": 0,
          "min": "1.0305683332049904",
          "max": "1.1820310529043776",
          "histogram": [
           {
            "bin_start": 1.0305683332049904,
            "bin_end": 1.045714605174929,
            "count": 1
           },
           {
            "bin_start": 1.045714605174929,
            "bin_end": 1.0608608771448678,
            "count": 0
           },
           {
            "bin_start": 1.0608608771448678,
            "bin_end": 1.0760071491148067,
            "count": 0
           },
           {
            "bin_start": 1.0760071491148067,
            "bin_end": 1.0911534210847453,
            "count": 1
           },
           {
            "bin_start": 1.0911534210847453,
            "bin_end": 1.106299693054684,
            "count": 1
           },
           {
            "bin_start": 1.106299693054684,
            "bin_end": 1.1214459650246227,
            "count": 0
           },
           {
            "bin_start": 1.1214459650246227,
            "bin_end": 1.1365922369945614,
            "count": 1
           },
           {
            "bin_start": 1.1365922369945614,
            "bin_end": 1.1517385089645003,
            "count": 0
           },
           {
            "bin_start": 1.1517385089645003,
            "bin_end": 1.166884780934439,
            "count": 0
           },
           {
            "bin_start": 1.166884780934439,
            "bin_end": 1.1820310529043776,
            "count": 1
           }
          ]
         }
        },
        {
         "name": "mean_test_score",
         "dtype": "float64",
         "stats": {
          "unique_count": 5,
          "nan_count": 0,
          "min": "1.1726655114641888",
          "max": "1.2323052485224903",
          "histogram": [
           {
            "bin_start": 1.1726655114641888,
            "bin_end": 1.178629485170019,
            "count": 1
           },
           {
            "bin_start": 1.178629485170019,
            "bin_end": 1.184593458875849,
            "count": 0
           },
           {
            "bin_start": 1.184593458875849,
            "bin_end": 1.1905574325816792,
            "count": 0
           },
           {
            "bin_start": 1.1905574325816792,
            "bin_end": 1.1965214062875094,
            "count": 0
           },
           {
            "bin_start": 1.1965214062875094,
            "bin_end": 1.2024853799933397,
            "count": 0
           },
           {
            "bin_start": 1.2024853799933397,
            "bin_end": 1.2084493536991698,
            "count": 1
           },
           {
            "bin_start": 1.2084493536991698,
            "bin_end": 1.214413327405,
            "count": 1
           },
           {
            "bin_start": 1.214413327405,
            "bin_end": 1.22037730111083,
            "count": 1
           },
           {
            "bin_start": 1.22037730111083,
            "bin_end": 1.2263412748166602,
            "count": 0
           },
           {
            "bin_start": 1.2263412748166602,
            "bin_end": 1.2323052485224903,
            "count": 1
           }
          ]
         }
        },
        {
         "name": "std_test_score",
         "dtype": "float64",
         "stats": {
          "unique_count": 5,
          "nan_count": 0,
          "min": "0.0688388120814568",
          "max": "0.1103645217439659",
          "histogram": [
           {
            "bin_start": 0.0688388120814568,
            "bin_end": 0.0729913830477077,
            "count": 3
           },
           {
            "bin_start": 0.0729913830477077,
            "bin_end": 0.07714395401395861,
            "count": 0
           },
           {
            "bin_start": 0.07714395401395861,
            "bin_end": 0.08129652498020953,
            "count": 1
           },
           {
            "bin_start": 0.08129652498020953,
            "bin_end": 0.08544909594646044,
            "count": 0
           },
           {
            "bin_start": 0.08544909594646044,
            "bin_end": 0.08960166691271135,
            "count": 0
           },
           {
            "bin_start": 0.08960166691271135,
            "bin_end": 0.09375423787896225,
            "count": 0
           },
           {
            "bin_start": 0.09375423787896225,
            "bin_end": 0.09790680884521316,
            "count": 0
           },
           {
            "bin_start": 0.09790680884521316,
            "bin_end": 0.10205937981146407,
            "count": 0
           },
           {
            "bin_start": 0.10205937981146407,
            "bin_end": 0.10621195077771498,
            "count": 0
           },
           {
            "bin_start": 0.10621195077771498,
            "bin_end": 0.1103645217439659,
            "count": 1
           }
          ]
         }
        },
        {
         "name": "rank_test_score",
         "dtype": "int64",
         "stats": {
          "unique_count": 5,
          "nan_count": 0,
          "min": "785",
          "max": "789",
          "histogram": [
           {
            "bin_start": 785,
            "bin_end": 785.4,
            "count": 1
           },
           {
            "bin_start": 785.4,
            "bin_end": 785.8,
            "count": 0
           },
           {
            "bin_start": 785.8,
            "bin_end": 786.2,
            "count": 1
           },
           {
            "bin_start": 786.2,
            "bin_end": 786.6,
            "count": 0
           },
           {
            "bin_start": 786.6,
            "bin_end": 787,
            "count": 0
           },
           {
            "bin_start": 787,
            "bin_end": 787.4,
            "count": 1
           },
           {
            "bin_start": 787.4,
            "bin_end": 787.8,
            "count": 0
           },
           {
            "bin_start": 787.8,
            "bin_end": 788.2,
            "count": 1
           },
           {
            "bin_start": 788.2,
            "bin_end": 788.6,
            "count": 0
           },
           {
            "bin_start": 788.6,
            "bin_end": 789,
            "count": 1
           }
          ]
         }
        },
        {
         "name": "_deepnote_index_column",
         "dtype": "int64"
        }
       ],
       "rows": [
        {
         "Unnamed: 0": 107,
         "mean_fit_time": 0.673540997505188,
         "std_fit_time": 0.1360349359141376,
         "mean_score_time": 0.0016157865524291,
         "std_score_time": 0.0004526616731358,
         "param_activation": "logistic",
         "param_alpha": 0.044331640264133,
         "param_batch_size": 634,
         "param_early_stopping": true,
         "param_hidden_layer_sizes": "(10, 10)",
         "param_learning_rate": "adaptive",
         "param_learning_rate_init": 0.0905440477306138,
         "param_max_iter": 5000,
         "param_momentum": 0.9,
         "param_n_iter_no_change": 15,
         "param_random_state": 69,
         "param_solver": "sgd",
         "param_tol": 0.0010129163384842,
         "param_validation_fraction": 0.2,
         "params": "{'activation': 'logistic', 'alpha': 0.044331640264133026, 'batch_size': 634, 'early_stopping': True…",
         "split0_test_score": 1.092746451134756,
         "split1_test_score": 1.0820191380575097,
         "split2_test_score": 1.2529661858283965,
         "split3_test_score": 1.2013567471507691,
         "split4_test_score": 1.2461550303177262,
         "split5_test_score": 1.2523779604414538,
         "split6_test_score": 1.182993791626504,
         "split7_test_score": 1.1101530267629856,
         "split8_test_score": 1.219896442101449,
         "split9_test_score": 1.085990341220338,
         "mean_test_score": 1.1726655114641888,
         "std_test_score": 0.0688388120814568,
         "rank_test_score": 789,
         "_deepnote_index_column": 0
        },
        {
         "Unnamed: 0": 590,
         "mean_fit_time": 0.4110019207000732,
         "std_fit_time": 0.0968139061395733,
         "mean_score_time": 0.0034826040267944,
         "std_score_time": 0.0059725242106074,
         "param_activation": "tanh",
         "param_alpha": 0.0886189450452575,
         "param_batch_size": 666,
         "param_early_stopping": true,
         "param_hidden_layer_sizes": "(25, 25)",
         "param_learning_rate": "constant",
         "param_learning_rate_init": 0.0809628541804546,
         "param_max_iter": 5000,
         "param_momentum": 0.1,
         "param_n_iter_no_change": 15,
         "param_random_state": 69,
         "param_solver": "sgd",
         "param_tol": 0.0010103466472269,
         "param_validation_fraction": 0.2,
         "params": "{'activation': 'tanh', 'alpha': 0.08861894504525754, 'batch_size': 666, 'early_stopping': True, 'hi…",
         "split0_test_score": 1.091741362628592,
         "split1_test_score": 1.0725664914248532,
         "split2_test_score": 1.2225082982493023,
         "split3_test_score": 1.273114684011089,
         "split4_test_score": 1.2951358705472509,
         "split5_test_score": 1.278941695011301,
         "split6_test_score": 1.160284778345356,
         "split7_test_score": 1.2167926952955068,
         "split8_test_score": 1.405835326850989,
         "split9_test_score": 1.0305683332049904,
         "mean_test_score": 1.2047489535569231,
         "std_test_score": 0.1103645217439659,
         "rank_test_score": 788,
         "_deepnote_index_column": 1
        },
        {
         "Unnamed: 0": 910,
         "mean_fit_time": 0.2055944681167602,
         "std_fit_time": 0.0396614550400268,
         "mean_score_time": 0.0039679288864135,
         "std_score_time": 0.0084214274627493,
         "param_activation": "tanh",
         "param_alpha": 0.0015340182022603,
         "param_batch_size": 670,
         "param_early_stopping": true,
         "param_hidden_layer_sizes": "(10, 10)",
         "param_learning_rate": "constant",
         "param_learning_rate_init": 0.0365406840777123,
         "param_max_iter": 5000,
         "param_momentum": 0.7,
         "param_n_iter_no_change": 15,
         "param_random_state": 69,
         "param_solver": "sgd",
         "param_tol": 0.001068106631117,
         "param_validation_fraction": 0.2,
         "params": "{'activation': 'tanh', 'alpha': 0.0015340182022603344, 'batch_size': 670, 'early_stopping': True, '…",
         "split0_test_score": 1.1701082079663014,
         "split1_test_score": 1.091163713740522,
         "split2_test_score": 1.225445796589972,
         "split3_test_score": 1.2803787330364609,
         "split4_test_score": 1.2562809215332154,
         "split5_test_score": 1.2854782733331682,
         "split6_test_score": 1.16123849959884,
         "split7_test_score": 1.1894201349659983,
         "split8_test_score": 1.3149669450462844,
         "split9_test_score": 1.1317811168679055,
         "mean_test_score": 1.2106262342678669,
         "std_test_score": 0.0697693316912454,
         "rank_test_score": 787,
         "_deepnote_index_column": 2
        },
        {
         "Unnamed: 0": 310,
         "mean_fit_time": 0.6940480470657349,
         "std_fit_time": 0.0821441058854704,
         "mean_score_time": 0.0015963554382324,
         "std_score_time": 0.00004877897299517255,
         "param_activation": "tanh",
         "param_alpha": 0.0952526405599177,
         "param_batch_size": 683,
         "param_early_stopping": true,
         "param_hidden_layer_sizes": "(50, 50)",
         "param_learning_rate": "adaptive",
         "param_learning_rate_init": 0.0123633347947055,
         "param_max_iter": 5000,
         "param_momentum": 0.9,
         "param_n_iter_no_change": 5,
         "param_random_state": 69,
         "param_solver": "sgd",
         "param_tol": 0.00107743216062,
         "param_validation_fraction": 0.2,
         "params": "{'activation': 'tanh', 'alpha': 0.09525264055991774, 'batch_size': 683, 'early_stopping': True, 'hi…",
         "split0_test_score": 1.1480646776645826,
         "split1_test_score": 1.1031515397373155,
         "split2_test_score": 1.2730830832374165,
         "split3_test_score": 1.242564124429932,
         "split4_test_score": 1.3281686191393425,
         "split5_test_score": 1.2678296914093323,
         "split6_test_score": 1.2325404022396036,
         "split7_test_score": 1.139423833222792,
         "split8_test_score": 1.313830099704924,
         "split9_test_score": 1.1029426192008644,
         "mean_test_score": 1.2151598689986105,
         "std_test_score": 0.0806631055187485,
         "rank_test_score": 786,
         "_deepnote_index_column": 3
        },
        {
         "Unnamed: 0": 425,
         "mean_fit_time": 0.5483315467834473,
         "std_fit_time": 0.0414598667253683,
         "mean_score_time": 0.0011815547943115,
         "std_score_time": 0.0002376346766409,
         "param_activation": "logistic",
         "param_alpha": 0.0506217269179377,
         "param_batch_size": 720,
         "param_early_stopping": true,
         "param_hidden_layer_sizes": "(5, 5)",
         "param_learning_rate": "adaptive",
         "param_learning_rate_init": 0.1344985140500114,
         "param_max_iter": 5000,
         "param_momentum": 0.5,
         "param_n_iter_no_change": 15,
         "param_random_state": 69,
         "param_solver": "sgd",
         "param_tol": 0.0010495426114881,
         "param_validation_fraction": 0.2,
         "params": "{'activation': 'logistic', 'alpha': 0.0506217269179377, 'batch_size': 720, 'early_stopping': True, …",
         "split0_test_score": 1.1853563327763366,
         "split1_test_score": 1.111892547304577,
         "split2_test_score": 1.2234475345096842,
         "split3_test_score": 1.3248704075419775,
         "split4_test_score": 1.3149658656172696,
         "split5_test_score": 1.2858985550805486,
         "split6_test_score": 1.2178369969391225,
         "split7_test_score": 1.162271754470595,
         "split8_test_score": 1.3144814380804126,
         "split9_test_score": 1.1820310529043776,
         "mean_test_score": 1.2323052485224903,
         "std_test_score": 0.0703204441544488,
         "rank_test_score": 785,
         "_deepnote_index_column": 4
        }
       ]
      },
      "text/plain": "   Unnamed: 0  mean_fit_time  std_fit_time  mean_score_time  std_score_time  \\\n0         107       0.673541      0.136035         0.001616        0.000453   \n1         590       0.411002      0.096814         0.003483        0.005973   \n2         910       0.205594      0.039661         0.003968        0.008421   \n3         310       0.694048      0.082144         0.001596        0.000049   \n4         425       0.548332      0.041460         0.001182        0.000238   \n\n  param_activation  param_alpha  param_batch_size  param_early_stopping  \\\n0         logistic     0.044332               634                  True   \n1             tanh     0.088619               666                  True   \n2             tanh     0.001534               670                  True   \n3             tanh     0.095253               683                  True   \n4         logistic     0.050622               720                  True   \n\n  param_hidden_layer_sizes  ... split3_test_score  split4_test_score  \\\n0                 (10, 10)  ...          1.201357           1.246155   \n1                 (25, 25)  ...          1.273115           1.295136   \n2                 (10, 10)  ...          1.280379           1.256281   \n3                 (50, 50)  ...          1.242564           1.328169   \n4                   (5, 5)  ...          1.324870           1.314966   \n\n   split5_test_score  split6_test_score  split7_test_score  split8_test_score  \\\n0           1.252378           1.182994           1.110153           1.219896   \n1           1.278942           1.160285           1.216793           1.405835   \n2           1.285478           1.161238           1.189420           1.314967   \n3           1.267830           1.232540           1.139424           1.313830   \n4           1.285899           1.217837           1.162272           1.314481   \n\n  split9_test_score  mean_test_score  std_test_score rank_test_score  \n0          1.085990         1.172666        0.068839             789  \n1          1.030568         1.204749        0.110365             788  \n2          1.131781         1.210626        0.069769             787  \n3          1.102943         1.215160        0.080663             786  \n4          1.182031         1.232305        0.070320             785  \n\n[5 rows x 33 columns]",
      "text/html": "<div>\n<style scoped>\n    .dataframe tbody tr th:only-of-type {\n        vertical-align: middle;\n    }\n\n    .dataframe tbody tr th {\n        vertical-align: top;\n    }\n\n    .dataframe thead th {\n        text-align: right;\n    }\n</style>\n<table border=\"1\" class=\"dataframe\">\n  <thead>\n    <tr style=\"text-align: right;\">\n      <th></th>\n      <th>Unnamed: 0</th>\n      <th>mean_fit_time</th>\n      <th>std_fit_time</th>\n      <th>mean_score_time</th>\n      <th>std_score_time</th>\n      <th>param_activation</th>\n      <th>param_alpha</th>\n      <th>param_batch_size</th>\n      <th>param_early_stopping</th>\n      <th>param_hidden_layer_sizes</th>\n      <th>...</th>\n      <th>split3_test_score</th>\n      <th>split4_test_score</th>\n      <th>split5_test_score</th>\n      <th>split6_test_score</th>\n      <th>split7_test_score</th>\n      <th>split8_test_score</th>\n      <th>split9_test_score</th>\n      <th>mean_test_score</th>\n      <th>std_test_score</th>\n      <th>rank_test_score</th>\n    </tr>\n  </thead>\n  <tbody>\n    <tr>\n      <th>0</th>\n      <td>107</td>\n      <td>0.673541</td>\n      <td>0.136035</td>\n      <td>0.001616</td>\n      <td>0.000453</td>\n      <td>logistic</td>\n      <td>0.044332</td>\n      <td>634</td>\n      <td>True</td>\n      <td>(10, 10)</td>\n      <td>...</td>\n      <td>1.201357</td>\n      <td>1.246155</td>\n      <td>1.252378</td>\n      <td>1.182994</td>\n      <td>1.110153</td>\n      <td>1.219896</td>\n      <td>1.085990</td>\n      <td>1.172666</td>\n      <td>0.068839</td>\n      <td>789</td>\n    </tr>\n    <tr>\n      <th>1</th>\n      <td>590</td>\n      <td>0.411002</td>\n      <td>0.096814</td>\n      <td>0.003483</td>\n      <td>0.005973</td>\n      <td>tanh</td>\n      <td>0.088619</td>\n      <td>666</td>\n      <td>True</td>\n      <td>(25, 25)</td>\n      <td>...</td>\n      <td>1.273115</td>\n      <td>1.295136</td>\n      <td>1.278942</td>\n      <td>1.160285</td>\n      <td>1.216793</td>\n      <td>1.405835</td>\n      <td>1.030568</td>\n      <td>1.204749</td>\n      <td>0.110365</td>\n      <td>788</td>\n    </tr>\n    <tr>\n      <th>2</th>\n      <td>910</td>\n      <td>0.205594</td>\n      <td>0.039661</td>\n      <td>0.003968</td>\n      <td>0.008421</td>\n      <td>tanh</td>\n      <td>0.001534</td>\n      <td>670</td>\n      <td>True</td>\n      <td>(10, 10)</td>\n      <td>...</td>\n      <td>1.280379</td>\n      <td>1.256281</td>\n      <td>1.285478</td>\n      <td>1.161238</td>\n      <td>1.189420</td>\n      <td>1.314967</td>\n      <td>1.131781</td>\n      <td>1.210626</td>\n      <td>0.069769</td>\n      <td>787</td>\n    </tr>\n    <tr>\n      <th>3</th>\n      <td>310</td>\n      <td>0.694048</td>\n      <td>0.082144</td>\n      <td>0.001596</td>\n      <td>0.000049</td>\n      <td>tanh</td>\n      <td>0.095253</td>\n      <td>683</td>\n      <td>True</td>\n      <td>(50, 50)</td>\n      <td>...</td>\n      <td>1.242564</td>\n      <td>1.328169</td>\n      <td>1.267830</td>\n      <td>1.232540</td>\n      <td>1.139424</td>\n      <td>1.313830</td>\n      <td>1.102943</td>\n      <td>1.215160</td>\n      <td>0.080663</td>\n      <td>786</td>\n    </tr>\n    <tr>\n      <th>4</th>\n      <td>425</td>\n      <td>0.548332</td>\n      <td>0.041460</td>\n      <td>0.001182</td>\n      <td>0.000238</td>\n      <td>logistic</td>\n      <td>0.050622</td>\n      <td>720</td>\n      <td>True</td>\n      <td>(5, 5)</td>\n      <td>...</td>\n      <td>1.324870</td>\n      <td>1.314966</td>\n      <td>1.285899</td>\n      <td>1.217837</td>\n      <td>1.162272</td>\n      <td>1.314481</td>\n      <td>1.182031</td>\n      <td>1.232305</td>\n      <td>0.070320</td>\n      <td>785</td>\n    </tr>\n  </tbody>\n</table>\n<p>5 rows × 33 columns</p>\n</div>"
     },
     "metadata": {}
    }
   ]
  },
  {
   "cell_type": "code",
   "metadata": {
    "tags": [],
    "deepnote_to_be_reexecuted": false,
    "source_hash": "9dd11431",
    "execution_start": 1642858311642,
    "output_cleared": false,
    "execution_millis": 2,
    "cell_id": "00078-2a895e47-b23e-4146-9a87-6d353021b6d6",
    "deepnote_cell_type": "code"
   },
   "source": "#get the best params for the grid search (cannot use rand_gs.best_estimator directly since it will yield the worst estimator based on MEE)\nbest_params = df_results['params'][0]\nprint(f\"Mean error on the {k}-folds (MEE) on best model: {df_results['mean_test_score'][0]}\\n\")\nprint(f\"Best params: {best_params}\")",
   "execution_count": 15,
   "outputs": [
    {
     "name": "stdout",
     "text": "Mean error on the 10-folds (MEE) on best model: 1.1726655114641888\n\nBest params: {'activation': 'logistic', 'alpha': 0.044331640264133026, 'batch_size': 634, 'early_stopping': True, 'hidden_layer_sizes': (10, 10), 'learning_rate': 'adaptive', 'learning_rate_init': 0.09054404773061386, 'max_iter': 5000, 'momentum': 0.9, 'n_iter_no_change': 15, 'random_state': 69, 'solver': 'sgd', 'tol': 0.0010129163384842077, 'validation_fraction': 0.2}\n",
     "output_type": "stream"
    }
   ]
  },
  {
   "cell_type": "code",
   "metadata": {
    "tags": [],
    "deepnote_to_be_reexecuted": false,
    "source_hash": "67a41554",
    "execution_start": 1642858315580,
    "execution_millis": 3,
    "output_cleared": true,
    "cell_id": "00079-ed4a64e6-72fa-4843-be42-854bb434b60a",
    "deepnote_cell_type": "code"
   },
   "source": "@dataclass\nclass GridSearchRanges:\n    '''Class of keeping track of the min and max values for the hyperparameters tuning'''\n    \n    hidden_range = []\n    min_lr_init = 0\n    max_lr_init = 0\n    min_alpha = 0\n    max_alpha = 0\n    min_bs = 0\n    max_bs = 0\n    n_iter_no_change = []\n    min_tol = 0\n    max_tol = 0\n    min_momentum = 0\n    max_momentum = 0\n    \n    def set_ranges(self):\n\n        self.hidden_range = np.unique(df_results['param_hidden_layer_sizes'])\n        self.hidden_range = self.hidden_range.ravel() #convert to array\n        print(self.hidden_range)\n\n        self.min_lr_init = np.min(df_results['param_learning_rate_init'])\n        self.max_lr_init = np.max(df_results['param_learning_rate_init'])\n        print(f\"LR: [{self.min_lr_init}, {self.max_lr_init}]\")\n\n        self.min_alpha = np.min(df_results['param_alpha'])\n        self.max_alpha = np.max(df_results['param_alpha'])\n        print(f\"alpha: [{self.min_alpha}, {self.max_alpha}]\")\n\n        self.min_bs = np.min(df_results['param_batch_size'])\n        self.max_bs = np.max(df_results['param_batch_size'])\n        print(f\"BATCH: [{self.min_bs}, {self.max_bs}]\")\n\n        self.n_iter_no_change_range = np.unique(df_results['param_n_iter_no_change'])\n        self.n_iter_no_change_range = self.n_iter_no_change_range.ravel()\n        print(f\"n_iter_no_change: {self.n_iter_no_change_range}\")\n\n        self.min_tol = np.min(df_results['param_tol'])\n        self.max_tol = np.max(df_results['param_tol'])\n        print(f\"TOL: [{self.min_tol}, {self.max_tol}]\")\n    \n        self.min_momentum = np.min(df_results['param_momentum'])\n        self.max_momentum = np.max(df_results['param_momentum'])\n        print(f\"MOMENTUM: [{self.min_momentum}, {self.max_momentum}]\")\n    \n    ",
   "execution_count": 16,
   "outputs": []
  },
  {
   "cell_type": "code",
   "metadata": {
    "deepnote_to_be_reexecuted": false,
    "execution_millis": 2,
    "execution_start": 1642858316921,
    "source_hash": "a520897",
    "tags": [],
    "output_cleared": false,
    "cell_id": "00080-9509be58-a986-4668-b879-f9b45a1b9b81",
    "deepnote_cell_type": "code"
   },
   "source": "gs = GridSearchRanges()\ngs.set_ranges()\ngs.hidden_range = [ast.literal_eval(x) for x in gs.hidden_range]",
   "execution_count": 17,
   "outputs": [
    {
     "name": "stdout",
     "text": "['(10, 10)' '(10,)' '(100, 100)' '(100,)' '(25, 25)' '(25,)' '(5, 5)'\n '(5,)' '(50, 50)']\nLR: [0.0069838073605681, 0.4361878051703535]\nalpha: [0.0015340182022603, 0.0993306462664403]\nBATCH: [604, 1322]\nn_iter_no_change: [ 5 15 25]\nTOL: [0.0010004205803042, 0.0010996364046587]\nMOMENTUM: [0.1, 0.9]\n",
     "output_type": "stream"
    }
   ]
  },
  {
   "cell_type": "markdown",
   "source": "### Second Randomized Search using min e max values",
   "metadata": {
    "tags": [],
    "cell_id": "00081-0d21e4f3-8ccd-49ab-94d7-8f9f35a46c6e",
    "deepnote_cell_type": "markdown"
   }
  },
  {
   "cell_type": "code",
   "metadata": {
    "deepnote_output_heights": [
     null,
     308.921875
    ],
    "deepnote_to_be_reexecuted": false,
    "execution_millis": 4976024,
    "execution_start": 1642858321163,
    "source_hash": "a1029e2c",
    "tags": [],
    "output_cleared": false,
    "cell_id": "00082-a077d801-b482-4525-9965-579840263491",
    "deepnote_cell_type": "code"
   },
   "source": "#%%script false --no-raise-error\n\n# define the parameters values\nparams = {\n    \"hidden_layer_sizes\": gs.hidden_range,\n    \"activation\" : [\"logistic\", \"tanh\"],\n    \"solver\": [\"sgd\"],\n    \"learning_rate\": [\"adaptive\", \"invscaling\"],\n    \"learning_rate_init\": uniform(gs.min_lr_init, gs.max_lr_init),\n    \"alpha\": uniform(gs.min_alpha, gs.max_alpha),\n    \"batch_size\": randint(gs.min_bs, gs.max_bs),\n    \"n_iter_no_change\": [5, 15, 25],\n    \"momentum\": uniform(gs.min_momentum, gs.max_momentum),\n    \"random_state\": [RS_NUMBER],\n    \"tol\": uniform(gs.min_tol,gs.max_tol),\n    \"early_stopping\": [True],\n    \"validation_fraction\": [0.2],\n    \"max_iter\": [5000],\n}\n\n# define the grid search\nrand_gs = RandomizedSearchCV(\n    MLPRegressor(),\n    param_distributions=params,\n    n_iter=n_iter_search,\n    n_jobs=-1,\n    scoring=make_scorer(mee), #scoring is based on the highest value\n    cv=k,\n    random_state = RS_NUMBER,\n    verbose=10,\n)\n# run the grid search\nrand_gs.fit(X, y)\n",
   "execution_count": 18,
   "outputs": [
    {
     "name": "stdout",
     "text": "Fitting 10 folds for each of 1000 candidates, totalling 10000 fits\n",
     "output_type": "stream"
    },
    {
     "output_type": "execute_result",
     "execution_count": 18,
     "data": {
      "text/plain": "RandomizedSearchCV(cv=10, estimator=MLPRegressor(), n_iter=1000, n_jobs=-1,\n                   param_distributions={'activation': ['logistic', 'tanh'],\n                                        'alpha': <scipy.stats._distn_infrastructure.rv_frozen object at 0x7efd0031ef90>,\n                                        'batch_size': <scipy.stats._distn_infrastructure.rv_frozen object at 0x7efd0031ee10>,\n                                        'early_stopping': [True],\n                                        'hidden_layer_sizes': [(10, 10), (10,),\n                                                               (100, 10...\n                                        'learning_rate_init': <scipy.stats._distn_infrastructure.rv_frozen object at 0x7efd0031ef50>,\n                                        'max_iter': [5000],\n                                        'momentum': <scipy.stats._distn_infrastructure.rv_frozen object at 0x7efd1ff96210>,\n                                        'n_iter_no_change': [5, 15, 25],\n                                        'random_state': [69],\n                                        'solver': ['sgd', 'adam'],\n                                        'tol': <scipy.stats._distn_infrastructure.rv_frozen object at 0x7efcffd9acd0>,\n                                        'validation_fraction': [0.2]},\n                   random_state=69, scoring=make_scorer(mee), verbose=10)"
     },
     "metadata": {}
    }
   ]
  },
  {
   "cell_type": "code",
   "metadata": {
    "deepnote_to_be_reexecuted": false,
    "execution_millis": 158,
    "execution_start": 1642863297186,
    "source_hash": "6de5a801",
    "tags": [],
    "output_cleared": true,
    "cell_id": "00083-f936a019-eb5d-4273-89a6-5a8a7f5454d4",
    "deepnote_cell_type": "code"
   },
   "source": "#%%script false --no-raise-error\n\ndf_results = pd.DataFrame(data=rand_gs.cv_results_) #trasform into a pandas dataframe\ndf_results.sort_values(by=\"rank_test_score\", axis=0, ascending=False, inplace=True) #sort rank values in decreasing order \ndf_results.dropna(inplace=True) #delete nan values \ndf_results = df_results[:50] #keep only top 50 models\npd.DataFrame.to_csv(df_results, \"sklearn_results/rand2_search.csv\")",
   "execution_count": 19,
   "outputs": []
  },
  {
   "cell_type": "code",
   "metadata": {
    "deepnote_to_be_reexecuted": false,
    "execution_millis": 149,
    "execution_start": 1642863297349,
    "source_hash": "89537475",
    "tags": [],
    "output_cleared": false,
    "deepnote_output_heights": [
     208.859375
    ],
    "cell_id": "00084-f761c9e1-2fc3-4510-bd14-7f25eda61514",
    "deepnote_cell_type": "code"
   },
   "source": "df_results = pd.read_csv(\"sklearn_results/rand2_search.csv\")\ndf_results.head()",
   "execution_count": 20,
   "outputs": [
    {
     "output_type": "execute_result",
     "execution_count": 20,
     "data": {
      "text/plain": "   Unnamed: 0  mean_fit_time  std_fit_time  mean_score_time  std_score_time  \\\n0         672       0.570138      0.084119         0.003995        0.008377   \n1         120       0.431352      0.037372         0.003720        0.007066   \n2         997       0.296068      0.030336         0.001251        0.000107   \n3         524       0.706179      0.121536         0.001441        0.000300   \n4          80       0.455462      0.055017         0.001243        0.000084   \n\n  param_activation  param_alpha  param_batch_size  param_early_stopping  \\\n0         logistic     0.069912               854                  True   \n1         logistic     0.087508               138                  True   \n2         logistic     0.089680               260                  True   \n3         logistic     0.074875               512                  True   \n4         logistic     0.014247               667                  True   \n\n  param_hidden_layer_sizes  ... split3_test_score  split4_test_score  \\\n0                 (25, 25)  ...          1.177998           1.163557   \n1                 (25, 25)  ...          1.176305           1.218488   \n2                 (25, 25)  ...          1.208696           1.215252   \n3                 (50, 50)  ...          1.263384           1.229693   \n4                 (25, 25)  ...          1.277072           1.243844   \n\n   split5_test_score  split6_test_score  split7_test_score  split8_test_score  \\\n0           1.249796           1.158815           1.081662           1.217832   \n1           1.248914           1.111385           1.089464           1.234966   \n2           1.266178           1.154304           1.106841           1.204711   \n3           1.244069           1.114423           1.124070           1.227517   \n4           1.259500           1.156721           1.092252           1.240421   \n\n  split9_test_score  mean_test_score  std_test_score rank_test_score  \n0          1.074917         1.129181        0.076160             993  \n1          1.040058         1.138351        0.088791             992  \n2          1.014951         1.142147        0.086179             991  \n3          1.085174         1.148766        0.080462             990  \n4          1.076738         1.154516        0.092620             989  \n\n[5 rows x 33 columns]",
      "text/html": "<div>\n<style scoped>\n    .dataframe tbody tr th:only-of-type {\n        vertical-align: middle;\n    }\n\n    .dataframe tbody tr th {\n        vertical-align: top;\n    }\n\n    .dataframe thead th {\n        text-align: right;\n    }\n</style>\n<table border=\"1\" class=\"dataframe\">\n  <thead>\n    <tr style=\"text-align: right;\">\n      <th></th>\n      <th>Unnamed: 0</th>\n      <th>mean_fit_time</th>\n      <th>std_fit_time</th>\n      <th>mean_score_time</th>\n      <th>std_score_time</th>\n      <th>param_activation</th>\n      <th>param_alpha</th>\n      <th>param_batch_size</th>\n      <th>param_early_stopping</th>\n      <th>param_hidden_layer_sizes</th>\n      <th>...</th>\n      <th>split3_test_score</th>\n      <th>split4_test_score</th>\n      <th>split5_test_score</th>\n      <th>split6_test_score</th>\n      <th>split7_test_score</th>\n      <th>split8_test_score</th>\n      <th>split9_test_score</th>\n      <th>mean_test_score</th>\n      <th>std_test_score</th>\n      <th>rank_test_score</th>\n    </tr>\n  </thead>\n  <tbody>\n    <tr>\n      <th>0</th>\n      <td>672</td>\n      <td>0.570138</td>\n      <td>0.084119</td>\n      <td>0.003995</td>\n      <td>0.008377</td>\n      <td>logistic</td>\n      <td>0.069912</td>\n      <td>854</td>\n      <td>True</td>\n      <td>(25, 25)</td>\n      <td>...</td>\n      <td>1.177998</td>\n      <td>1.163557</td>\n      <td>1.249796</td>\n      <td>1.158815</td>\n      <td>1.081662</td>\n      <td>1.217832</td>\n      <td>1.074917</td>\n      <td>1.129181</td>\n      <td>0.076160</td>\n      <td>993</td>\n    </tr>\n    <tr>\n      <th>1</th>\n      <td>120</td>\n      <td>0.431352</td>\n      <td>0.037372</td>\n      <td>0.003720</td>\n      <td>0.007066</td>\n      <td>logistic</td>\n      <td>0.087508</td>\n      <td>138</td>\n      <td>True</td>\n      <td>(25, 25)</td>\n      <td>...</td>\n      <td>1.176305</td>\n      <td>1.218488</td>\n      <td>1.248914</td>\n      <td>1.111385</td>\n      <td>1.089464</td>\n      <td>1.234966</td>\n      <td>1.040058</td>\n      <td>1.138351</td>\n      <td>0.088791</td>\n      <td>992</td>\n    </tr>\n    <tr>\n      <th>2</th>\n      <td>997</td>\n      <td>0.296068</td>\n      <td>0.030336</td>\n      <td>0.001251</td>\n      <td>0.000107</td>\n      <td>logistic</td>\n      <td>0.089680</td>\n      <td>260</td>\n      <td>True</td>\n      <td>(25, 25)</td>\n      <td>...</td>\n      <td>1.208696</td>\n      <td>1.215252</td>\n      <td>1.266178</td>\n      <td>1.154304</td>\n      <td>1.106841</td>\n      <td>1.204711</td>\n      <td>1.014951</td>\n      <td>1.142147</td>\n      <td>0.086179</td>\n      <td>991</td>\n    </tr>\n    <tr>\n      <th>3</th>\n      <td>524</td>\n      <td>0.706179</td>\n      <td>0.121536</td>\n      <td>0.001441</td>\n      <td>0.000300</td>\n      <td>logistic</td>\n      <td>0.074875</td>\n      <td>512</td>\n      <td>True</td>\n      <td>(50, 50)</td>\n      <td>...</td>\n      <td>1.263384</td>\n      <td>1.229693</td>\n      <td>1.244069</td>\n      <td>1.114423</td>\n      <td>1.124070</td>\n      <td>1.227517</td>\n      <td>1.085174</td>\n      <td>1.148766</td>\n      <td>0.080462</td>\n      <td>990</td>\n    </tr>\n    <tr>\n      <th>4</th>\n      <td>80</td>\n      <td>0.455462</td>\n      <td>0.055017</td>\n      <td>0.001243</td>\n      <td>0.000084</td>\n      <td>logistic</td>\n      <td>0.014247</td>\n      <td>667</td>\n      <td>True</td>\n      <td>(25, 25)</td>\n      <td>...</td>\n      <td>1.277072</td>\n      <td>1.243844</td>\n      <td>1.259500</td>\n      <td>1.156721</td>\n      <td>1.092252</td>\n      <td>1.240421</td>\n      <td>1.076738</td>\n      <td>1.154516</td>\n      <td>0.092620</td>\n      <td>989</td>\n    </tr>\n  </tbody>\n</table>\n<p>5 rows × 33 columns</p>\n</div>"
     },
     "metadata": {}
    },
    {
     "output_type": "execute_result",
     "execution_count": 20,
     "data": {
      "application/vnd.deepnote.dataframe.v3+json": {
       "column_count": 33,
       "row_count": 5,
       "columns": [
        {
         "name": "Unnamed: 0",
         "dtype": "int64",
         "stats": {
          "unique_count": 5,
          "nan_count": 0,
          "min": "275",
          "max": "976",
          "histogram": [
           {
            "bin_start": 275,
            "bin_end": 345.1,
            "count": 1
           },
           {
            "bin_start": 345.1,
            "bin_end": 415.2,
            "count": 0
           },
           {
            "bin_start": 415.2,
            "bin_end": 485.29999999999995,
            "count": 0
           },
           {
            "bin_start": 485.29999999999995,
            "bin_end": 555.4,
            "count": 0
           },
           {
            "bin_start": 555.4,
            "bin_end": 625.5,
            "count": 0
           },
           {
            "bin_start": 625.5,
            "bin_end": 695.5999999999999,
            "count": 2
           },
           {
            "bin_start": 695.5999999999999,
            "bin_end": 765.6999999999999,
            "count": 0
           },
           {
            "bin_start": 765.6999999999999,
            "bin_end": 835.8,
            "count": 0
           },
           {
            "bin_start": 835.8,
            "bin_end": 905.9,
            "count": 0
           },
           {
            "bin_start": 905.9,
            "bin_end": 976,
            "count": 2
           }
          ]
         }
        },
        {
         "name": "mean_fit_time",
         "dtype": "float64",
         "stats": {
          "unique_count": 5,
          "nan_count": 0,
          "min": "0.498419451713562",
          "max": "2.248888230323792",
          "histogram": [
           {
            "bin_start": 0.498419451713562,
            "bin_end": 0.673466329574585,
            "count": 1
           },
           {
            "bin_start": 0.673466329574585,
            "bin_end": 0.848513207435608,
            "count": 1
           },
           {
            "bin_start": 0.848513207435608,
            "bin_end": 1.023560085296631,
            "count": 0
           },
           {
            "bin_start": 1.023560085296631,
            "bin_end": 1.198606963157654,
            "count": 0
           },
           {
            "bin_start": 1.198606963157654,
            "bin_end": 1.373653841018677,
            "count": 0
           },
           {
            "bin_start": 1.373653841018677,
            "bin_end": 1.5487007188797,
            "count": 1
           },
           {
            "bin_start": 1.5487007188797,
            "bin_end": 1.723747596740723,
            "count": 1
           },
           {
            "bin_start": 1.723747596740723,
            "bin_end": 1.898794474601746,
            "count": 0
           },
           {
            "bin_start": 1.898794474601746,
            "bin_end": 2.073841352462769,
            "count": 0
           },
           {
            "bin_start": 2.073841352462769,
            "bin_end": 2.248888230323792,
            "count": 1
           }
          ]
         }
        },
        {
         "name": "std_fit_time",
         "dtype": "float64",
         "stats": {
          "unique_count": 5,
          "nan_count": 0,
          "min": "0.0854638001528324",
          "max": "0.2220936797633705",
          "histogram": [
           {
            "bin_start": 0.0854638001528324,
            "bin_end": 0.09912678811388621,
            "count": 3
           },
           {
            "bin_start": 0.09912678811388621,
            "bin_end": 0.11278977607494002,
            "count": 0
           },
           {
            "bin_start": 0.11278977607494002,
            "bin_end": 0.12645276403599381,
            "count": 0
           },
           {
            "bin_start": 0.12645276403599381,
            "bin_end": 0.14011575199704762,
            "count": 0
           },
           {
            "bin_start": 0.14011575199704762,
            "bin_end": 0.15377873995810143,
            "count": 0
           },
           {
            "bin_start": 0.15377873995810143,
            "bin_end": 0.16744172791915524,
            "count": 0
           },
           {
            "bin_start": 0.16744172791915524,
            "bin_end": 0.18110471588020904,
            "count": 0
           },
           {
            "bin_start": 0.18110471588020904,
            "bin_end": 0.19476770384126285,
            "count": 0
           },
           {
            "bin_start": 0.19476770384126285,
            "bin_end": 0.20843069180231666,
            "count": 1
           },
           {
            "bin_start": 0.20843069180231666,
            "bin_end": 0.2220936797633705,
            "count": 1
           }
          ]
         }
        },
        {
         "name": "mean_score_time",
         "dtype": "float64",
         "stats": {
          "unique_count": 5,
          "nan_count": 0,
          "min": "0.0018198490142822",
          "max": "0.0115747690200805",
          "histogram": [
           {
            "bin_start": 0.0018198490142822,
            "bin_end": 0.00279534101486203,
            "count": 4
           },
           {
            "bin_start": 0.00279534101486203,
            "bin_end": 0.00377083301544186,
            "count": 0
           },
           {
            "bin_start": 0.00377083301544186,
            "bin_end": 0.00474632501602169,
            "count": 0
           },
           {
            "bin_start": 0.00474632501602169,
            "bin_end": 0.005721817016601519,
            "count": 0
           },
           {
            "bin_start": 0.005721817016601519,
            "bin_end": 0.00669730901718135,
            "count": 0
           },
           {
            "bin_start": 0.00669730901718135,
            "bin_end": 0.00767280101776118,
            "count": 0
           },
           {
            "bin_start": 0.00767280101776118,
            "bin_end": 0.008648293018341009,
            "count": 0
           },
           {
            "bin_start": 0.008648293018341009,
            "bin_end": 0.00962378501892084,
            "count": 0
           },
           {
            "bin_start": 0.00962378501892084,
            "bin_end": 0.01059927701950067,
            "count": 0
           },
           {
            "bin_start": 0.01059927701950067,
            "bin_end": 0.0115747690200805,
            "count": 1
           }
          ]
         }
        },
        {
         "name": "std_score_time",
         "dtype": "float64",
         "stats": {
          "unique_count": 5,
          "nan_count": 0,
          "min": "0.0001308456736553",
          "max": "0.0183894582058308",
          "histogram": [
           {
            "bin_start": 0.0001308456736553,
            "bin_end": 0.00195670692687285,
            "count": 4
           },
           {
            "bin_start": 0.00195670692687285,
            "bin_end": 0.0037825681800904005,
            "count": 0
           },
           {
            "bin_start": 0.0037825681800904005,
            "bin_end": 0.005608429433307951,
            "count": 0
           },
           {
            "bin_start": 0.005608429433307951,
            "bin_end": 0.007434290686525501,
            "count": 0
           },
           {
            "bin_start": 0.007434290686525501,
            "bin_end": 0.00926015193974305,
            "count": 0
           },
           {
            "bin_start": 0.00926015193974305,
            "bin_end": 0.011086013192960601,
            "count": 0
           },
           {
            "bin_start": 0.011086013192960601,
            "bin_end": 0.01291187444617815,
            "count": 0
           },
           {
            "bin_start": 0.01291187444617815,
            "bin_end": 0.014737735699395701,
            "count": 0
           },
           {
            "bin_start": 0.014737735699395701,
            "bin_end": 0.016563596952613252,
            "count": 0
           },
           {
            "bin_start": 0.016563596952613252,
            "bin_end": 0.0183894582058308,
            "count": 1
           }
          ]
         }
        },
        {
         "name": "param_activation",
         "dtype": "object",
         "stats": {
          "unique_count": 2,
          "nan_count": 0,
          "categories": [
           {
            "name": "logistic",
            "count": 4
           },
           {
            "name": "tanh",
            "count": 1
           }
          ]
         }
        },
        {
         "name": "param_alpha",
         "dtype": "float64",
         "stats": {
          "unique_count": 5,
          "nan_count": 0,
          "min": "0.0380036680899865",
          "max": "0.1004878201592805",
          "histogram": [
           {
            "bin_start": 0.0380036680899865,
            "bin_end": 0.0442520832969159,
            "count": 1
           },
           {
            "bin_start": 0.0442520832969159,
            "bin_end": 0.050500498503845304,
            "count": 1
           },
           {
            "bin_start": 0.050500498503845304,
            "bin_end": 0.0567489137107747,
            "count": 0
           },
           {
            "bin_start": 0.0567489137107747,
            "bin_end": 0.0629973289177041,
            "count": 0
           },
           {
            "bin_start": 0.0629973289177041,
            "bin_end": 0.0692457441246335,
            "count": 0
           },
           {
            "bin_start": 0.0692457441246335,
            "bin_end": 0.0754941593315629,
            "count": 0
           },
           {
            "bin_start": 0.0754941593315629,
            "bin_end": 0.08174257453849229,
            "count": 0
           },
           {
            "bin_start": 0.08174257453849229,
            "bin_end": 0.08799098974542169,
            "count": 1
           },
           {
            "bin_start": 0.08799098974542169,
            "bin_end": 0.09423940495235109,
            "count": 0
           },
           {
            "bin_start": 0.09423940495235109,
            "bin_end": 0.1004878201592805,
            "count": 2
           }
          ]
         }
        },
        {
         "name": "param_batch_size",
         "dtype": "int64",
         "stats": {
          "unique_count": 5,
          "nan_count": 0,
          "min": "692",
          "max": "835",
          "histogram": [
           {
            "bin_start": 692,
            "bin_end": 706.3,
            "count": 1
           },
           {
            "bin_start": 706.3,
            "bin_end": 720.6,
            "count": 0
           },
           {
            "bin_start": 720.6,
            "bin_end": 734.9,
            "count": 1
           },
           {
            "bin_start": 734.9,
            "bin_end": 749.2,
            "count": 0
           },
           {
            "bin_start": 749.2,
            "bin_end": 763.5,
            "count": 0
           },
           {
            "bin_start": 763.5,
            "bin_end": 777.8,
            "count": 0
           },
           {
            "bin_start": 777.8,
            "bin_end": 792.1,
            "count": 1
           },
           {
            "bin_start": 792.1,
            "bin_end": 806.4,
            "count": 1
           },
           {
            "bin_start": 806.4,
            "bin_end": 820.7,
            "count": 0
           },
           {
            "bin_start": 820.7,
            "bin_end": 835,
            "count": 1
           }
          ]
         }
        },
        {
         "name": "param_early_stopping",
         "dtype": "bool",
         "stats": {
          "unique_count": 1,
          "nan_count": 0,
          "categories": [
           {
            "name": "True",
            "count": 5
           }
          ]
         }
        },
        {
         "name": "param_hidden_layer_sizes",
         "dtype": "object",
         "stats": {
          "unique_count": 3,
          "nan_count": 0,
          "categories": [
           {
            "name": "(25, 25)",
            "count": 2
           },
           {
            "name": "(50, 50)",
            "count": 2
           },
           {
            "name": "(100,)",
            "count": 1
           }
          ]
         }
        },
        {
         "name": "param_learning_rate",
         "dtype": "object",
         "stats": {
          "unique_count": 2,
          "nan_count": 0,
          "categories": [
           {
            "name": "adaptive",
            "count": 3
           },
           {
            "name": "invscaling",
            "count": 2
           }
          ]
         }
        },
        {
         "name": "param_learning_rate_init",
         "dtype": "float64",
         "stats": {
          "unique_count": 5,
          "nan_count": 0,
          "min": "0.0584075533385296",
          "max": "0.2881838541010805",
          "histogram": [
           {
            "bin_start": 0.0584075533385296,
            "bin_end": 0.08138518341478469,
            "count": 2
           },
           {
            "bin_start": 0.08138518341478469,
            "bin_end": 0.10436281349103979,
            "count": 1
           },
           {
            "bin_start": 0.10436281349103979,
            "bin_end": 0.12734044356729488,
            "count": 0
           },
           {
            "bin_start": 0.12734044356729488,
            "bin_end": 0.15031807364354996,
            "count": 0
           },
           {
            "bin_start": 0.15031807364354996,
            "bin_end": 0.17329570371980504,
            "count": 0
           },
           {
            "bin_start": 0.17329570371980504,
            "bin_end": 0.19627333379606016,
            "count": 0
           },
           {
            "bin_start": 0.19627333379606016,
            "bin_end": 0.21925096387231524,
            "count": 1
           },
           {
            "bin_start": 0.21925096387231524,
            "bin_end": 0.24222859394857033,
            "count": 0
           },
           {
            "bin_start": 0.24222859394857033,
            "bin_end": 0.2652062240248254,
            "count": 0
           },
           {
            "bin_start": 0.2652062240248254,
            "bin_end": 0.2881838541010805,
            "count": 1
           }
          ]
         }
        },
        {
         "name": "param_max_iter",
         "dtype": "int64",
         "stats": {
          "unique_count": 1,
          "nan_count": 0,
          "min": "5000",
          "max": "5000",
          "histogram": [
           {
            "bin_start": 4999.5,
            "bin_end": 4999.6,
            "count": 0
           },
           {
            "bin_start": 4999.6,
            "bin_end": 4999.7,
            "count": 0
           },
           {
            "bin_start": 4999.7,
            "bin_end": 4999.8,
            "count": 0
           },
           {
            "bin_start": 4999.8,
            "bin_end": 4999.9,
            "count": 0
           },
           {
            "bin_start": 4999.9,
            "bin_end": 5000,
            "count": 0
           },
           {
            "bin_start": 5000,
            "bin_end": 5000.1,
            "count": 5
           },
           {
            "bin_start": 5000.1,
            "bin_end": 5000.2,
            "count": 0
           },
           {
            "bin_start": 5000.2,
            "bin_end": 5000.3,
            "count": 0
           },
           {
            "bin_start": 5000.3,
            "bin_end": 5000.4,
            "count": 0
           },
           {
            "bin_start": 5000.4,
            "bin_end": 5000.5,
            "count": 0
           }
          ]
         }
        },
        {
         "name": "param_momentum",
         "dtype": "float64",
         "stats": {
          "unique_count": 5,
          "nan_count": 0,
          "min": "0.2180004570505902",
          "max": "0.7387199495018347",
          "histogram": [
           {
            "bin_start": 0.2180004570505902,
            "bin_end": 0.27007240629571466,
            "count": 1
           },
           {
            "bin_start": 0.27007240629571466,
            "bin_end": 0.3221443555408391,
            "count": 0
           },
           {
            "bin_start": 0.3221443555408391,
            "bin_end": 0.37421630478596357,
            "count": 1
           },
           {
            "bin_start": 0.37421630478596357,
            "bin_end": 0.426288254031088,
            "count": 0
           },
           {
            "bin_start": 0.426288254031088,
            "bin_end": 0.4783602032762124,
            "count": 0
           },
           {
            "bin_start": 0.4783602032762124,
            "bin_end": 0.5304321525213369,
            "count": 0
           },
           {
            "bin_start": 0.5304321525213369,
            "bin_end": 0.5825041017664614,
            "count": 0
           },
           {
            "bin_start": 0.5825041017664614,
            "bin_end": 0.6345760510115858,
            "count": 1
           },
           {
            "bin_start": 0.6345760510115858,
            "bin_end": 0.6866480002567102,
            "count": 0
           },
           {
            "bin_start": 0.6866480002567102,
            "bin_end": 0.7387199495018347,
            "count": 2
           }
          ]
         }
        },
        {
         "name": "param_n_iter_no_change",
         "dtype": "int64",
         "stats": {
          "unique_count": 2,
          "nan_count": 0,
          "min": "15",
          "max": "25",
          "histogram": [
           {
            "bin_start": 15,
            "bin_end": 16,
            "count": 1
           },
           {
            "bin_start": 16,
            "bin_end": 17,
            "count": 0
           },
           {
            "bin_start": 17,
            "bin_end": 18,
            "count": 0
           },
           {
            "bin_start": 18,
            "bin_end": 19,
            "count": 0
           },
           {
            "bin_start": 19,
            "bin_end": 20,
            "count": 0
           },
           {
            "bin_start": 20,
            "bin_end": 21,
            "count": 0
           },
           {
            "bin_start": 21,
            "bin_end": 22,
            "count": 0
           },
           {
            "bin_start": 22,
            "bin_end": 23,
            "count": 0
           },
           {
            "bin_start": 23,
            "bin_end": 24,
            "count": 0
           },
           {
            "bin_start": 24,
            "bin_end": 25,
            "count": 4
           }
          ]
         }
        },
        {
         "name": "param_random_state",
         "dtype": "int64",
         "stats": {
          "unique_count": 1,
          "nan_count": 0,
          "min": "69",
          "max": "69",
          "histogram": [
           {
            "bin_start": 68.5,
            "bin_end": 68.6,
            "count": 0
           },
           {
            "bin_start": 68.6,
            "bin_end": 68.7,
            "count": 0
           },
           {
            "bin_start": 68.7,
            "bin_end": 68.8,
            "count": 0
           },
           {
            "bin_start": 68.8,
            "bin_end": 68.9,
            "count": 0
           },
           {
            "bin_start": 68.9,
            "bin_end": 69,
            "count": 0
           },
           {
            "bin_start": 69,
            "bin_end": 69.1,
            "count": 5
           },
           {
            "bin_start": 69.1,
            "bin_end": 69.2,
            "count": 0
           },
           {
            "bin_start": 69.2,
            "bin_end": 69.3,
            "count": 0
           },
           {
            "bin_start": 69.3,
            "bin_end": 69.4,
            "count": 0
           },
           {
            "bin_start": 69.4,
            "bin_end": 69.5,
            "count": 0
           }
          ]
         }
        },
        {
         "name": "param_solver",
         "dtype": "object",
         "stats": {
          "unique_count": 2,
          "nan_count": 0,
          "categories": [
           {
            "name": "adam",
            "count": 4
           },
           {
            "name": "sgd",
            "count": 1
           }
          ]
         }
        },
        {
         "name": "param_tol",
         "dtype": "float64",
         "stats": {
          "unique_count": 5,
          "nan_count": 0,
          "min": "0.0011143139767866",
          "max": "0.0020812163864384",
          "histogram": [
           {
            "bin_start": 0.0011143139767866,
            "bin_end": 0.00121100421775178,
            "count": 3
           },
           {
            "bin_start": 0.00121100421775178,
            "bin_end": 0.00130769445871696,
            "count": 0
           },
           {
            "bin_start": 0.00130769445871696,
            "bin_end": 0.00140438469968214,
            "count": 0
           },
           {
            "bin_start": 0.00140438469968214,
            "bin_end": 0.0015010749406473198,
            "count": 0
           },
           {
            "bin_start": 0.0015010749406473198,
            "bin_end": 0.0015977651816125,
            "count": 1
           },
           {
            "bin_start": 0.0015977651816125,
            "bin_end": 0.00169445542257768,
            "count": 0
           },
           {
            "bin_start": 0.00169445542257768,
            "bin_end": 0.00179114566354286,
            "count": 0
           },
           {
            "bin_start": 0.00179114566354286,
            "bin_end": 0.00188783590450804,
            "count": 0
           },
           {
            "bin_start": 0.00188783590450804,
            "bin_end": 0.0019845261454732198,
            "count": 0
           },
           {
            "bin_start": 0.0019845261454732198,
            "bin_end": 0.0020812163864384,
            "count": 1
           }
          ]
         }
        },
        {
         "name": "param_validation_fraction",
         "dtype": "float64",
         "stats": {
          "unique_count": 1,
          "nan_count": 0,
          "min": "0.2",
          "max": "0.2",
          "histogram": [
           {
            "bin_start": -0.3,
            "bin_end": -0.19999999999999998,
            "count": 0
           },
           {
            "bin_start": -0.19999999999999998,
            "bin_end": -0.09999999999999998,
            "count": 0
           },
           {
            "bin_start": -0.09999999999999998,
            "bin_end": 5.551115123125783e-17,
            "count": 0
           },
           {
            "bin_start": 5.551115123125783e-17,
            "bin_end": 0.10000000000000003,
            "count": 0
           },
           {
            "bin_start": 0.10000000000000003,
            "bin_end": 0.2,
            "count": 0
           },
           {
            "bin_start": 0.2,
            "bin_end": 0.3000000000000001,
            "count": 5
           },
           {
            "bin_start": 0.3000000000000001,
            "bin_end": 0.4000000000000001,
            "count": 0
           },
           {
            "bin_start": 0.4000000000000001,
            "bin_end": 0.5,
            "count": 0
           },
           {
            "bin_start": 0.5,
            "bin_end": 0.6000000000000001,
            "count": 0
           },
           {
            "bin_start": 0.6000000000000001,
            "bin_end": 0.7,
            "count": 0
           }
          ]
         }
        },
        {
         "name": "params",
         "dtype": "object",
         "stats": {
          "unique_count": 5,
          "nan_count": 0,
          "categories": [
           {
            "name": "{'activation': 'logistic', 'alpha': 0.08597341891665966, 'batch_size': 723, 'early_stopping': True, 'hidden_layer_sizes': (25, 25), 'learning_rate': 'invscaling', 'learning_rate_init': 0.10036149308230885, 'max_iter': 5000, 'momentum': 0.7180983019584821, 'n_iter_no_change': 25, 'random_state': 69, 'solver': 'adam', 'tol': 0.0011143139767866557, 'validation_fraction': 0.2}",
            "count": 1
           },
           {
            "name": "{'activation': 'logistic', 'alpha': 0.10048782015928051, 'batch_size': 835, 'early_stopping': True, 'hidden_layer_sizes': (50, 50), 'learning_rate': 'adaptive', 'learning_rate_init': 0.2098747764834137, 'max_iter': 5000, 'momentum': 0.3582144887703722, 'n_iter_no_change': 25, 'random_state': 69, 'solver': 'adam', 'tol': 0.0020812163864384805, 'validation_fraction': 0.2}",
            "count": 1
           },
           {
            "name": "3 others",
            "count": 3
           }
          ]
         }
        },
        {
         "name": "split0_test_score",
         "dtype": "float64",
         "stats": {
          "unique_count": 5,
          "nan_count": 0,
          "min": "1.0529647951906695",
          "max": "1.1117584813828405",
          "histogram": [
           {
            "bin_start": 1.0529647951906695,
            "bin_end": 1.0588441638098867,
            "count": 1
           },
           {
            "bin_start": 1.0588441638098867,
            "bin_end": 1.0647235324291038,
            "count": 0
           },
           {
            "bin_start": 1.0647235324291038,
            "bin_end": 1.070602901048321,
            "count": 1
           },
           {
            "bin_start": 1.070602901048321,
            "bin_end": 1.076482269667538,
            "count": 1
           },
           {
            "bin_start": 1.076482269667538,
            "bin_end": 1.0823616382867551,
            "count": 1
           },
           {
            "bin_start": 1.0823616382867551,
            "bin_end": 1.088241006905972,
            "count": 0
           },
           {
            "bin_start": 1.088241006905972,
            "bin_end": 1.0941203755251891,
            "count": 0
           },
           {
            "bin_start": 1.0941203755251891,
            "bin_end": 1.0999997441444063,
            "count": 0
           },
           {
            "bin_start": 1.0999997441444063,
            "bin_end": 1.1058791127636234,
            "count": 0
           },
           {
            "bin_start": 1.1058791127636234,
            "bin_end": 1.1117584813828405,
            "count": 1
           }
          ]
         }
        },
        {
         "name": "split1_test_score",
         "dtype": "float64",
         "stats": {
          "unique_count": 5,
          "nan_count": 0,
          "min": "1.002077383670282",
          "max": "1.089970954270688",
          "histogram": [
           {
            "bin_start": 1.002077383670282,
            "bin_end": 1.0108667407303227,
            "count": 1
           },
           {
            "bin_start": 1.0108667407303227,
            "bin_end": 1.0196560977903633,
            "count": 0
           },
           {
            "bin_start": 1.0196560977903633,
            "bin_end": 1.0284454548504038,
            "count": 0
           },
           {
            "bin_start": 1.0284454548504038,
            "bin_end": 1.0372348119104444,
            "count": 0
           },
           {
            "bin_start": 1.0372348119104444,
            "bin_end": 1.046024168970485,
            "count": 1
           },
           {
            "bin_start": 1.046024168970485,
            "bin_end": 1.0548135260305256,
            "count": 1
           },
           {
            "bin_start": 1.0548135260305256,
            "bin_end": 1.0636028830905662,
            "count": 0
           },
           {
            "bin_start": 1.0636028830905662,
            "bin_end": 1.0723922401506067,
            "count": 0
           },
           {
            "bin_start": 1.0723922401506067,
            "bin_end": 1.0811815972106473,
            "count": 1
           },
           {
            "bin_start": 1.0811815972106473,
            "bin_end": 1.089970954270688,
            "count": 1
           }
          ]
         }
        },
        {
         "name": "split2_test_score",
         "dtype": "float64",
         "stats": {
          "unique_count": 5,
          "nan_count": 0,
          "min": "1.1580467977470832",
          "max": "1.2917137301947907",
          "histogram": [
           {
            "bin_start": 1.1580467977470832,
            "bin_end": 1.1714134909918539,
            "count": 2
           },
           {
            "bin_start": 1.1714134909918539,
            "bin_end": 1.1847801842366248,
            "count": 1
           },
           {
            "bin_start": 1.1847801842366248,
            "bin_end": 1.1981468774813955,
            "count": 1
           },
           {
            "bin_start": 1.1981468774813955,
            "bin_end": 1.2115135707261662,
            "count": 0
           },
           {
            "bin_start": 1.2115135707261662,
            "bin_end": 1.2248802639709369,
            "count": 0
           },
           {
            "bin_start": 1.2248802639709369,
            "bin_end": 1.2382469572157078,
            "count": 0
           },
           {
            "bin_start": 1.2382469572157078,
            "bin_end": 1.2516136504604785,
            "count": 0
           },
           {
            "bin_start": 1.2516136504604785,
            "bin_end": 1.2649803437052491,
            "count": 0
           },
           {
            "bin_start": 1.2649803437052491,
            "bin_end": 1.27834703695002,
            "count": 0
           },
           {
            "bin_start": 1.27834703695002,
            "bin_end": 1.2917137301947907,
            "count": 1
           }
          ]
         }
        },
        {
         "name": "split3_test_score",
         "dtype": "float64",
         "stats": {
          "unique_count": 5,
          "nan_count": 0,
          "min": "1.184541482184121",
          "max": "1.3970511034118325",
          "histogram": [
           {
            "bin_start": 1.184541482184121,
            "bin_end": 1.2057924443068921,
            "count": 1
           },
           {
            "bin_start": 1.2057924443068921,
            "bin_end": 1.2270434064296631,
            "count": 0
           },
           {
            "bin_start": 1.2270434064296631,
            "bin_end": 1.2482943685524344,
            "count": 1
           },
           {
            "bin_start": 1.2482943685524344,
            "bin_end": 1.2695453306752056,
            "count": 0
           },
           {
            "bin_start": 1.2695453306752056,
            "bin_end": 1.2907962927979768,
            "count": 0
           },
           {
            "bin_start": 1.2907962927979768,
            "bin_end": 1.3120472549207478,
            "count": 2
           },
           {
            "bin_start": 1.3120472549207478,
            "bin_end": 1.333298217043519,
            "count": 0
           },
           {
            "bin_start": 1.333298217043519,
            "bin_end": 1.3545491791662903,
            "count": 0
           },
           {
            "bin_start": 1.3545491791662903,
            "bin_end": 1.3758001412890613,
            "count": 0
           },
           {
            "bin_start": 1.3758001412890613,
            "bin_end": 1.3970511034118325,
            "count": 1
           }
          ]
         }
        },
        {
         "name": "split4_test_score",
         "dtype": "float64",
         "stats": {
          "unique_count": 5,
          "nan_count": 0,
          "min": "1.1872498584545383",
          "max": "1.2690933262240134",
          "histogram": [
           {
            "bin_start": 1.1872498584545383,
            "bin_end": 1.195434205231486,
            "count": 1
           },
           {
            "bin_start": 1.195434205231486,
            "bin_end": 1.2036185520084333,
            "count": 0
           },
           {
            "bin_start": 1.2036185520084333,
            "bin_end": 1.2118028987853808,
            "count": 0
           },
           {
            "bin_start": 1.2118028987853808,
            "bin_end": 1.2199872455623284,
            "count": 0
           },
           {
            "bin_start": 1.2199872455623284,
            "bin_end": 1.228171592339276,
            "count": 0
           },
           {
            "bin_start": 1.228171592339276,
            "bin_end": 1.2363559391162233,
            "count": 0
           },
           {
            "bin_start": 1.2363559391162233,
            "bin_end": 1.244540285893171,
            "count": 0
           },
           {
            "bin_start": 1.244540285893171,
            "bin_end": 1.2527246326701185,
            "count": 0
           },
           {
            "bin_start": 1.2527246326701185,
            "bin_end": 1.2609089794470658,
            "count": 2
           },
           {
            "bin_start": 1.2609089794470658,
            "bin_end": 1.2690933262240134,
            "count": 2
           }
          ]
         }
        },
        {
         "name": "split5_test_score",
         "dtype": "float64",
         "stats": {
          "unique_count": 5,
          "nan_count": 0,
          "min": "1.238155151116531",
          "max": "1.2912568088606913",
          "histogram": [
           {
            "bin_start": 1.238155151116531,
            "bin_end": 1.243465316890947,
            "count": 1
           },
           {
            "bin_start": 1.243465316890947,
            "bin_end": 1.248775482665363,
            "count": 1
           },
           {
            "bin_start": 1.248775482665363,
            "bin_end": 1.254085648439779,
            "count": 1
           },
           {
            "bin_start": 1.254085648439779,
            "bin_end": 1.259395814214195,
            "count": 1
           },
           {
            "bin_start": 1.259395814214195,
            "bin_end": 1.2647059799886111,
            "count": 0
           },
           {
            "bin_start": 1.2647059799886111,
            "bin_end": 1.2700161457630272,
            "count": 0
           },
           {
            "bin_start": 1.2700161457630272,
            "bin_end": 1.2753263115374431,
            "count": 0
           },
           {
            "bin_start": 1.2753263115374431,
            "bin_end": 1.2806364773118593,
            "count": 0
           },
           {
            "bin_start": 1.2806364773118593,
            "bin_end": 1.2859466430862752,
            "count": 0
           },
           {
            "bin_start": 1.2859466430862752,
            "bin_end": 1.2912568088606913,
            "count": 1
           }
          ]
         }
        },
        {
         "name": "split6_test_score",
         "dtype": "float64",
         "stats": {
          "unique_count": 5,
          "nan_count": 0,
          "min": "1.089280547967578",
          "max": "1.2069921395066994",
          "histogram": [
           {
            "bin_start": 1.089280547967578,
            "bin_end": 1.1010517071214903,
            "count": 1
           },
           {
            "bin_start": 1.1010517071214903,
            "bin_end": 1.1128228662754023,
            "count": 0
           },
           {
            "bin_start": 1.1128228662754023,
            "bin_end": 1.1245940254293143,
            "count": 1
           },
           {
            "bin_start": 1.1245940254293143,
            "bin_end": 1.1363651845832266,
            "count": 0
           },
           {
            "bin_start": 1.1363651845832266,
            "bin_end": 1.1481363437371388,
            "count": 0
           },
           {
            "bin_start": 1.1481363437371388,
            "bin_end": 1.1599075028910508,
            "count": 0
           },
           {
            "bin_start": 1.1599075028910508,
            "bin_end": 1.1716786620449628,
            "count": 0
           },
           {
            "bin_start": 1.1716786620449628,
            "bin_end": 1.183449821198875,
            "count": 1
           },
           {
            "bin_start": 1.183449821198875,
            "bin_end": 1.1952209803527873,
            "count": 1
           },
           {
            "bin_start": 1.1952209803527873,
            "bin_end": 1.2069921395066994,
            "count": 1
           }
          ]
         }
        },
        {
         "name": "split7_test_score",
         "dtype": "float64",
         "stats": {
          "unique_count": 5,
          "nan_count": 0,
          "min": "1.0826738919145504",
          "max": "1.1190305595480994",
          "histogram": [
           {
            "bin_start": 1.0826738919145504,
            "bin_end": 1.0863095586779052,
            "count": 1
           },
           {
            "bin_start": 1.0863095586779052,
            "bin_end": 1.0899452254412603,
            "count": 0
           },
           {
            "bin_start": 1.0899452254412603,
            "bin_end": 1.093580892204615,
            "count": 0
           },
           {
            "bin_start": 1.093580892204615,
            "bin_end": 1.09721655896797,
            "count": 0
           },
           {
            "bin_start": 1.09721655896797,
            "bin_end": 1.100852225731325,
            "count": 1
           },
           {
            "bin_start": 1.100852225731325,
            "bin_end": 1.1044878924946797,
            "count": 1
           },
           {
            "bin_start": 1.1044878924946797,
            "bin_end": 1.1081235592580347,
            "count": 1
           },
           {
            "bin_start": 1.1081235592580347,
            "bin_end": 1.1117592260213895,
            "count": 0
           },
           {
            "bin_start": 1.1117592260213895,
            "bin_end": 1.1153948927847446,
            "count": 0
           },
           {
            "bin_start": 1.1153948927847446,
            "bin_end": 1.1190305595480994,
            "count": 1
           }
          ]
         }
        },
        {
         "name": "split8_test_score",
         "dtype": "float64",
         "stats": {
          "unique_count": 5,
          "nan_count": 0,
          "min": "1.2518125756290372",
          "max": "1.3423488645398804",
          "histogram": [
           {
            "bin_start": 1.2518125756290372,
            "bin_end": 1.2608662045201215,
            "count": 1
           },
           {
            "bin_start": 1.2608662045201215,
            "bin_end": 1.2699198334112058,
            "count": 1
           },
           {
            "bin_start": 1.2699198334112058,
            "bin_end": 1.2789734623022901,
            "count": 1
           },
           {
            "bin_start": 1.2789734623022901,
            "bin_end": 1.2880270911933744,
            "count": 0
           },
           {
            "bin_start": 1.2880270911933744,
            "bin_end": 1.297080720084459,
            "count": 0
           },
           {
            "bin_start": 1.297080720084459,
            "bin_end": 1.3061343489755433,
            "count": 0
           },
           {
            "bin_start": 1.3061343489755433,
            "bin_end": 1.3151879778666276,
            "count": 1
           },
           {
            "bin_start": 1.3151879778666276,
            "bin_end": 1.3242416067577119,
            "count": 0
           },
           {
            "bin_start": 1.3242416067577119,
            "bin_end": 1.3332952356487962,
            "count": 0
           },
           {
            "bin_start": 1.3332952356487962,
            "bin_end": 1.3423488645398804,
            "count": 1
           }
          ]
         }
        },
        {
         "name": "split9_test_score",
         "dtype": "float64",
         "stats": {
          "unique_count": 5,
          "nan_count": 0,
          "min": "1.044223651022002",
          "max": "1.1051015294356812",
          "histogram": [
           {
            "bin_start": 1.044223651022002,
            "bin_end": 1.0503114388633699,
            "count": 2
           },
           {
            "bin_start": 1.0503114388633699,
            "bin_end": 1.0563992267047377,
            "count": 0
           },
           {
            "bin_start": 1.0563992267047377,
            "bin_end": 1.0624870145461058,
            "count": 0
           },
           {
            "bin_start": 1.0624870145461058,
            "bin_end": 1.0685748023874737,
            "count": 0
           },
           {
            "bin_start": 1.0685748023874737,
            "bin_end": 1.0746625902288416,
            "count": 0
           },
           {
            "bin_start": 1.0746625902288416,
            "bin_end": 1.0807503780702095,
            "count": 1
           },
           {
            "bin_start": 1.0807503780702095,
            "bin_end": 1.0868381659115773,
            "count": 0
           },
           {
            "bin_start": 1.0868381659115773,
            "bin_end": 1.0929259537529454,
            "count": 1
           },
           {
            "bin_start": 1.0929259537529454,
            "bin_end": 1.0990137415943133,
            "count": 0
           },
           {
            "bin_start": 1.0990137415943133,
            "bin_end": 1.1051015294356812,
            "count": 1
           }
          ]
         }
        },
        {
         "name": "mean_test_score",
         "dtype": "float64",
         "stats": {
          "unique_count": 5,
          "nan_count": 0,
          "min": "1.1439548459951736",
          "max": "1.184837406794378",
          "histogram": [
           {
            "bin_start": 1.1439548459951736,
            "bin_end": 1.148043102075094,
            "count": 1
           },
           {
            "bin_start": 1.148043102075094,
            "bin_end": 1.1521313581550146,
            "count": 0
           },
           {
            "bin_start": 1.1521313581550146,
            "bin_end": 1.156219614234935,
            "count": 0
           },
           {
            "bin_start": 1.156219614234935,
            "bin_end": 1.1603078703148555,
            "count": 0
           },
           {
            "bin_start": 1.1603078703148555,
            "bin_end": 1.164396126394776,
            "count": 0
           },
           {
            "bin_start": 1.164396126394776,
            "bin_end": 1.1684843824746962,
            "count": 0
           },
           {
            "bin_start": 1.1684843824746962,
            "bin_end": 1.1725726385546167,
            "count": 0
           },
           {
            "bin_start": 1.1725726385546167,
            "bin_end": 1.1766608946345372,
            "count": 0
           },
           {
            "bin_start": 1.1766608946345372,
            "bin_end": 1.1807491507144576,
            "count": 3
           },
           {
            "bin_start": 1.1807491507144576,
            "bin_end": 1.184837406794378,
            "count": 1
           }
          ]
         }
        },
        {
         "name": "std_test_score",
         "dtype": "float64",
         "stats": {
          "unique_count": 5,
          "nan_count": 0,
          "min": "0.0818132306996786",
          "max": "0.1058508758102275",
          "histogram": [
           {
            "bin_start": 0.0818132306996786,
            "bin_end": 0.08421699521073349,
            "count": 1
           },
           {
            "bin_start": 0.08421699521073349,
            "bin_end": 0.08662075972178837,
            "count": 0
           },
           {
            "bin_start": 0.08662075972178837,
            "bin_end": 0.08902452423284327,
            "count": 0
           },
           {
            "bin_start": 0.08902452423284327,
            "bin_end": 0.09142828874389815,
            "count": 0
           },
           {
            "bin_start": 0.09142828874389815,
            "bin_end": 0.09383205325495304,
            "count": 1
           },
           {
            "bin_start": 0.09383205325495304,
            "bin_end": 0.09623581776600793,
            "count": 1
           },
           {
            "bin_start": 0.09623581776600793,
            "bin_end": 0.09863958227706282,
            "count": 1
           },
           {
            "bin_start": 0.09863958227706282,
            "bin_end": 0.10104334678811772,
            "count": 0
           },
           {
            "bin_start": 0.10104334678811772,
            "bin_end": 0.1034471112991726,
            "count": 0
           },
           {
            "bin_start": 0.1034471112991726,
            "bin_end": 0.1058508758102275,
            "count": 1
           }
          ]
         }
        },
        {
         "name": "rank_test_score",
         "dtype": "int64",
         "stats": {
          "unique_count": 5,
          "nan_count": 0,
          "min": "996",
          "max": "1000",
          "histogram": [
           {
            "bin_start": 996,
            "bin_end": 996.4,
            "count": 1
           },
           {
            "bin_start": 996.4,
            "bin_end": 996.8,
            "count": 0
           },
           {
            "bin_start": 996.8,
            "bin_end": 997.2,
            "count": 1
           },
           {
            "bin_start": 997.2,
            "bin_end": 997.6,
            "count": 0
           },
           {
            "bin_start": 997.6,
            "bin_end": 998,
            "count": 0
           },
           {
            "bin_start": 998,
            "bin_end": 998.4,
            "count": 1
           },
           {
            "bin_start": 998.4,
            "bin_end": 998.8,
            "count": 0
           },
           {
            "bin_start": 998.8,
            "bin_end": 999.2,
            "count": 1
           },
           {
            "bin_start": 999.2,
            "bin_end": 999.6,
            "count": 0
           },
           {
            "bin_start": 999.6,
            "bin_end": 1000,
            "count": 1
           }
          ]
         }
        },
        {
         "name": "_deepnote_index_column",
         "dtype": "int64"
        }
       ],
       "rows": [
        {
         "Unnamed: 0": 647,
         "mean_fit_time": 0.7061670064926148,
         "std_fit_time": 0.2220936797633705,
         "mean_score_time": 0.0018198490142822,
         "std_score_time": 0.0004737844861639,
         "param_activation": "logistic",
         "param_alpha": 0.0859734189166596,
         "param_batch_size": 723,
         "param_early_stopping": true,
         "param_hidden_layer_sizes": "(25, 25)",
         "param_learning_rate": "invscaling",
         "param_learning_rate_init": 0.1003614930823088,
         "param_max_iter": 5000,
         "param_momentum": 0.7180983019584821,
         "param_n_iter_no_change": 25,
         "param_random_state": 69,
         "param_solver": "adam",
         "param_tol": 0.0011143139767866,
         "param_validation_fraction": 0.2,
         "params": "{'activation': 'logistic', 'alpha': 0.08597341891665966, 'batch_size': 723, 'early_stopping': True,…",
         "split0_test_score": 1.074117715149712,
         "split1_test_score": 1.002077383670282,
         "split2_test_score": 1.1601683968430003,
         "split3_test_score": 1.184541482184121,
         "split4_test_score": 1.1872498584545383,
         "split5_test_score": 1.2495065587608205,
         "split6_test_score": 1.089280547967578,
         "split7_test_score": 1.1060340013598005,
         "split8_test_score": 1.3423488645398804,
         "split9_test_score": 1.044223651022002,
         "mean_test_score": 1.1439548459951736,
         "std_test_score": 0.0967811876183016,
         "rank_test_score": 1000,
         "_deepnote_index_column": 0
        },
        {
         "Unnamed: 0": 976,
         "mean_fit_time": 1.471854829788208,
         "std_fit_time": 0.1952258068504756,
         "mean_score_time": 0.0027552127838134,
         "std_score_time": 0.0003971388991362,
         "param_activation": "logistic",
         "param_alpha": 0.1004878201592805,
         "param_batch_size": 835,
         "param_early_stopping": true,
         "param_hidden_layer_sizes": "(50, 50)",
         "param_learning_rate": "adaptive",
         "param_learning_rate_init": 0.2098747764834137,
         "param_max_iter": 5000,
         "param_momentum": 0.3582144887703722,
         "param_n_iter_no_change": 25,
         "param_random_state": 69,
         "param_solver": "adam",
         "param_tol": 0.0020812163864384,
         "param_validation_fraction": 0.2,
         "params": "{'activation': 'logistic', 'alpha': 0.10048782015928051, 'batch_size': 835, 'early_stopping': True,…",
         "split0_test_score": 1.06920409948861,
         "split1_test_score": 1.0525803368521416,
         "split2_test_score": 1.1962033918255657,
         "split3_test_score": 1.3015181657971262,
         "split4_test_score": 1.2690933262240134,
         "split5_test_score": 1.2912568088606913,
         "split6_test_score": 1.113562274263645,
         "split7_test_score": 1.1190305595480994,
         "split8_test_score": 1.2663684604912546,
         "split9_test_score": 1.1051015294356812,
         "mean_test_score": 1.1783918952786827,
         "std_test_score": 0.0922123044231681,
         "rank_test_score": 999,
         "_deepnote_index_column": 1
        },
        {
         "Unnamed: 0": 275,
         "mean_fit_time": 1.674017310142517,
         "std_fit_time": 0.0862465194825707,
         "mean_score_time": 0.0115747690200805,
         "std_score_time": 0.0183894582058308,
         "param_activation": "logistic",
         "param_alpha": 0.0380036680899865,
         "param_batch_size": 800,
         "param_early_stopping": true,
         "param_hidden_layer_sizes": "(50, 50)",
         "param_learning_rate": "adaptive",
         "param_learning_rate_init": 0.0797820133282343,
         "param_max_iter": 5000,
         "param_momentum": 0.6030233152804695,
         "param_n_iter_no_change": 15,
         "param_random_state": 69,
         "param_solver": "adam",
         "param_tol": 0.0011790472159986,
         "param_validation_fraction": 0.2,
         "params": "{'activation': 'logistic', 'alpha': 0.03800366808998659, 'batch_size': 800, 'early_stopping': True,…",
         "split0_test_score": 1.0529647951906695,
         "split1_test_score": 1.073795995371707,
         "split2_test_score": 1.1580467977470832,
         "split3_test_score": 1.3970511034118325,
         "split4_test_score": 1.2569776499996488,
         "split5_test_score": 1.2565364450757692,
         "split6_test_score": 1.1864075586439151,
         "split7_test_score": 1.0826738919145504,
         "split8_test_score": 1.2518125756290372,
         "split9_test_score": 1.0771202958608377,
         "mean_test_score": 1.179338710884505,
         "std_test_score": 0.1058508758102275,
         "rank_test_score": 998,
         "_deepnote_index_column": 2
        },
        {
         "Unnamed: 0": 676,
         "mean_fit_time": 0.498419451713562,
         "std_fit_time": 0.0854638001528324,
         "mean_score_time": 0.0020482540130615,
         "std_score_time": 0.0004361930164112,
         "param_activation": "logistic",
         "param_alpha": 0.096038166539039,
         "param_batch_size": 692,
         "param_early_stopping": true,
         "param_hidden_layer_sizes": "(100,)",
         "param_learning_rate": "invscaling",
         "param_learning_rate_init": 0.2881838541010805,
         "param_max_iter": 5000,
         "param_momentum": 0.7387199495018347,
         "param_n_iter_no_change": 25,
         "param_random_state": 69,
         "param_solver": "adam",
         "param_tol": 0.0011354360723399,
         "param_validation_fraction": 0.2,
         "params": "{'activation': 'logistic', 'alpha': 0.09603816653903909, 'batch_size': 692, 'early_stopping': True,…",
         "split0_test_score": 1.080736568986744,
         "split1_test_score": 1.089970954270688,
         "split2_test_score": 1.17936205377024,
         "split3_test_score": 1.3033450770516612,
         "split4_test_score": 1.2621876578203128,
         "split5_test_score": 1.238155151116531,
         "split6_test_score": 1.1829757054861074,
         "split7_test_score": 1.102464668573412,
         "split8_test_score": 1.2751871054500503,
         "split9_test_score": 1.0875686426635098,
         "mean_test_score": 1.1801953585189255,
         "std_test_score": 0.0818132306996786,
         "rank_test_score": 997,
         "_deepnote_index_column": 3
        },
        {
         "Unnamed: 0": 954,
         "mean_fit_time": 2.248888230323792,
         "std_fit_time": 0.0967462149956389,
         "mean_score_time": 0.0023838758468627,
         "std_score_time": 0.0001308456736553,
         "param_activation": "tanh",
         "param_alpha": 0.0481178720972736,
         "param_batch_size": 791,
         "param_early_stopping": true,
         "param_hidden_layer_sizes": "(25, 25)",
         "param_learning_rate": "adaptive",
         "param_learning_rate_init": 0.0584075533385296,
         "param_max_iter": 5000,
         "param_momentum": 0.2180004570505902,
         "param_n_iter_no_change": 25,
         "param_random_state": 69,
         "param_solver": "sgd",
         "param_tol": 0.0015020063312444,
         "param_validation_fraction": 0.2,
         "params": "{'activation': 'tanh', 'alpha': 0.048117872097273647, 'batch_size': 791, 'early_stopping': True, 'h…",
         "split0_test_score": 1.1117584813828405,
         "split1_test_score": 1.0422612585030782,
         "split2_test_score": 1.2917137301947907,
         "split3_test_score": 1.23872508203429,
         "split4_test_score": 1.2585909647743887,
         "split5_test_score": 1.245871272543335,
         "split6_test_score": 1.2069921395066994,
         "split7_test_score": 1.0978608008775823,
         "split8_test_score": 1.310091608353108,
         "split9_test_score": 1.0445087297736653,
         "mean_test_score": 1.184837406794378,
         "std_test_score": 0.0962268945207474,
         "rank_test_score": 996,
         "_deepnote_index_column": 4
        }
       ]
      },
      "text/plain": "   Unnamed: 0  mean_fit_time  std_fit_time  mean_score_time  std_score_time  \\\n0         647       0.706167      0.222094         0.001820        0.000474   \n1         976       1.471855      0.195226         0.002755        0.000397   \n2         275       1.674017      0.086247         0.011575        0.018389   \n3         676       0.498419      0.085464         0.002048        0.000436   \n4         954       2.248888      0.096746         0.002384        0.000131   \n\n  param_activation  param_alpha  param_batch_size  param_early_stopping  \\\n0         logistic     0.085973               723                  True   \n1         logistic     0.100488               835                  True   \n2         logistic     0.038004               800                  True   \n3         logistic     0.096038               692                  True   \n4             tanh     0.048118               791                  True   \n\n  param_hidden_layer_sizes  ... split3_test_score  split4_test_score  \\\n0                 (25, 25)  ...          1.184541           1.187250   \n1                 (50, 50)  ...          1.301518           1.269093   \n2                 (50, 50)  ...          1.397051           1.256978   \n3                   (100,)  ...          1.303345           1.262188   \n4                 (25, 25)  ...          1.238725           1.258591   \n\n   split5_test_score  split6_test_score  split7_test_score  split8_test_score  \\\n0           1.249507           1.089281           1.106034           1.342349   \n1           1.291257           1.113562           1.119031           1.266368   \n2           1.256536           1.186408           1.082674           1.251813   \n3           1.238155           1.182976           1.102465           1.275187   \n4           1.245871           1.206992           1.097861           1.310092   \n\n  split9_test_score  mean_test_score  std_test_score rank_test_score  \n0          1.044224         1.143955        0.096781            1000  \n1          1.105102         1.178392        0.092212             999  \n2          1.077120         1.179339        0.105851             998  \n3          1.087569         1.180195        0.081813             997  \n4          1.044509         1.184837        0.096227             996  \n\n[5 rows x 33 columns]",
      "text/html": "<div>\n<style scoped>\n    .dataframe tbody tr th:only-of-type {\n        vertical-align: middle;\n    }\n\n    .dataframe tbody tr th {\n        vertical-align: top;\n    }\n\n    .dataframe thead th {\n        text-align: right;\n    }\n</style>\n<table border=\"1\" class=\"dataframe\">\n  <thead>\n    <tr style=\"text-align: right;\">\n      <th></th>\n      <th>Unnamed: 0</th>\n      <th>mean_fit_time</th>\n      <th>std_fit_time</th>\n      <th>mean_score_time</th>\n      <th>std_score_time</th>\n      <th>param_activation</th>\n      <th>param_alpha</th>\n      <th>param_batch_size</th>\n      <th>param_early_stopping</th>\n      <th>param_hidden_layer_sizes</th>\n      <th>...</th>\n      <th>split3_test_score</th>\n      <th>split4_test_score</th>\n      <th>split5_test_score</th>\n      <th>split6_test_score</th>\n      <th>split7_test_score</th>\n      <th>split8_test_score</th>\n      <th>split9_test_score</th>\n      <th>mean_test_score</th>\n      <th>std_test_score</th>\n      <th>rank_test_score</th>\n    </tr>\n  </thead>\n  <tbody>\n    <tr>\n      <th>0</th>\n      <td>647</td>\n      <td>0.706167</td>\n      <td>0.222094</td>\n      <td>0.001820</td>\n      <td>0.000474</td>\n      <td>logistic</td>\n      <td>0.085973</td>\n      <td>723</td>\n      <td>True</td>\n      <td>(25, 25)</td>\n      <td>...</td>\n      <td>1.184541</td>\n      <td>1.187250</td>\n      <td>1.249507</td>\n      <td>1.089281</td>\n      <td>1.106034</td>\n      <td>1.342349</td>\n      <td>1.044224</td>\n      <td>1.143955</td>\n      <td>0.096781</td>\n      <td>1000</td>\n    </tr>\n    <tr>\n      <th>1</th>\n      <td>976</td>\n      <td>1.471855</td>\n      <td>0.195226</td>\n      <td>0.002755</td>\n      <td>0.000397</td>\n      <td>logistic</td>\n      <td>0.100488</td>\n      <td>835</td>\n      <td>True</td>\n      <td>(50, 50)</td>\n      <td>...</td>\n      <td>1.301518</td>\n      <td>1.269093</td>\n      <td>1.291257</td>\n      <td>1.113562</td>\n      <td>1.119031</td>\n      <td>1.266368</td>\n      <td>1.105102</td>\n      <td>1.178392</td>\n      <td>0.092212</td>\n      <td>999</td>\n    </tr>\n    <tr>\n      <th>2</th>\n      <td>275</td>\n      <td>1.674017</td>\n      <td>0.086247</td>\n      <td>0.011575</td>\n      <td>0.018389</td>\n      <td>logistic</td>\n      <td>0.038004</td>\n      <td>800</td>\n      <td>True</td>\n      <td>(50, 50)</td>\n      <td>...</td>\n      <td>1.397051</td>\n      <td>1.256978</td>\n      <td>1.256536</td>\n      <td>1.186408</td>\n      <td>1.082674</td>\n      <td>1.251813</td>\n      <td>1.077120</td>\n      <td>1.179339</td>\n      <td>0.105851</td>\n      <td>998</td>\n    </tr>\n    <tr>\n      <th>3</th>\n      <td>676</td>\n      <td>0.498419</td>\n      <td>0.085464</td>\n      <td>0.002048</td>\n      <td>0.000436</td>\n      <td>logistic</td>\n      <td>0.096038</td>\n      <td>692</td>\n      <td>True</td>\n      <td>(100,)</td>\n      <td>...</td>\n      <td>1.303345</td>\n      <td>1.262188</td>\n      <td>1.238155</td>\n      <td>1.182976</td>\n      <td>1.102465</td>\n      <td>1.275187</td>\n      <td>1.087569</td>\n      <td>1.180195</td>\n      <td>0.081813</td>\n      <td>997</td>\n    </tr>\n    <tr>\n      <th>4</th>\n      <td>954</td>\n      <td>2.248888</td>\n      <td>0.096746</td>\n      <td>0.002384</td>\n      <td>0.000131</td>\n      <td>tanh</td>\n      <td>0.048118</td>\n      <td>791</td>\n      <td>True</td>\n      <td>(25, 25)</td>\n      <td>...</td>\n      <td>1.238725</td>\n      <td>1.258591</td>\n      <td>1.245871</td>\n      <td>1.206992</td>\n      <td>1.097861</td>\n      <td>1.310092</td>\n      <td>1.044509</td>\n      <td>1.184837</td>\n      <td>0.096227</td>\n      <td>996</td>\n    </tr>\n  </tbody>\n</table>\n<p>5 rows × 33 columns</p>\n</div>"
     },
     "metadata": {}
    }
   ]
  },
  {
   "cell_type": "code",
   "source": "#%%script false --no-raise-error\n\n# define the parameters values\nparams = {\n    \"hidden_layer_sizes\": [(20,20), (25,25), (30,30)],\n    \"activation\" : [\"logistic\"],\n    \"solver\": [\"sgd\"],\n    \"learning_rate\": [\"adaptive\", \"invscaling\"],\n    \"learning_rate_init\": [0.095, 0.10036, 0.105, 0.11],\n    \"alpha\": [0.075, 0.08, 0.085, 0.09, 0.095, 0.1],\n    \"batch_size\": [700, 723, 750, 770, 800],\n    \"n_iter_no_change\": [25],\n    \"momentum\": [0.69, 0.7, 0.7180983, 0.72, 0.73, 0.74, 0.75],\n    \"random_state\": [RS_NUMBER],\n    \"tol\": [0.0011143139767866],\n    \"early_stopping\": [True],\n    \"validation_fraction\": [0.2],\n    \"max_iter\": [1000],\n}\n\n# define the grid search\ngs = GridSearchCV(\n    MLPRegressor(),\n    param_grid=params,\n    n_jobs=-1,\n    scoring=make_scorer(mee), #scoring is based on the highest value\n    cv=k,\n    verbose=10,\n)\n# run the grid search\ngs.fit(X, y)\n",
   "metadata": {
    "cell_id": "a79480c6-1852-40c7-85ea-72105c5c7992",
    "tags": [],
    "deepnote_to_be_reexecuted": false,
    "source_hash": "60fc9115",
    "execution_start": 1642867007324,
    "execution_millis": 8402,
    "deepnote_cell_type": "code"
   },
   "outputs": [
    {
     "name": "stdout",
     "text": "Fitting 10 folds for each of 5040 candidates, totalling 50400 fits\n",
     "output_type": "stream"
    }
   ],
   "execution_count": 30
  },
  {
   "cell_type": "code",
   "source": "#%%script false --no-raise-error\n\ndf_results = pd.DataFrame(data=gs.cv_results_) #trasform into a pandas dataframe\ndf_results.sort_values(by=\"rank_test_score\", axis=0, ascending=False, inplace=True) #sort rank values in decreasing order \ndf_results.dropna(inplace=True) #delete nan values \ndf_results = df_results[:50] #keep only top 50 models\npd.DataFrame.to_csv(df_results, \"sklearn_results/grid_search.csv\")",
   "metadata": {
    "cell_id": "a6a090da-1d3e-4f90-b5e8-b7a9328b36b8",
    "tags": [],
    "deepnote_to_be_reexecuted": true,
    "source_hash": "4f3e0194",
    "deepnote_cell_type": "code"
   },
   "outputs": [],
   "execution_count": null
  },
  {
   "cell_type": "code",
   "source": "df_results = pd.read_csv(\"sklearn_results/grid_search.csv\")\ndf_results.head()",
   "metadata": {
    "cell_id": "33fe2868-60e3-477b-9f29-f6f935550e1f",
    "tags": [],
    "deepnote_cell_type": "code"
   },
   "outputs": [],
   "execution_count": null
  },
  {
   "cell_type": "code",
   "metadata": {
    "deepnote_to_be_reexecuted": false,
    "execution_millis": 3,
    "execution_start": 1642864451549,
    "source_hash": "9dd11431",
    "tags": [],
    "output_cleared": false,
    "cell_id": "00085-78256440-2deb-481b-a2d0-17f6d99adbf3",
    "deepnote_cell_type": "code"
   },
   "source": "#get the best params for the grid search (cannot use rand_gs.best_estimator directly since it will yield the worst estimator based on MEE)\nbest_params = df_results['params'][0]\nprint(f\"Mean error on the {k}-folds (MEE) on best model: {df_results['mean_test_score'][0]}\\n\")\nprint(f\"Best params: {best_params}\")",
   "execution_count": 21,
   "outputs": [
    {
     "name": "stdout",
     "text": "Mean error on the 10-folds (MEE) on best model: 1.1439548459951736\n\nBest params: {'activation': 'logistic', 'alpha': 0.08597341891665966, 'batch_size': 723, 'early_stopping': True, 'hidden_layer_sizes': (25, 25), 'learning_rate': 'invscaling', 'learning_rate_init': 0.10036149308230885, 'max_iter': 5000, 'momentum': 0.7180983019584821, 'n_iter_no_change': 25, 'random_state': 69, 'solver': 'adam', 'tol': 0.0011143139767866557, 'validation_fraction': 0.2}\n",
     "output_type": "stream"
    }
   ]
  },
  {
   "cell_type": "markdown",
   "source": "We save the top 10 best models for later",
   "metadata": {
    "tags": [],
    "cell_id": "00086-3e71456e-17d9-424a-906c-949cc2112355",
    "deepnote_cell_type": "markdown"
   }
  },
  {
   "cell_type": "code",
   "metadata": {
    "tags": [],
    "deepnote_to_be_reexecuted": false,
    "source_hash": "b0361680",
    "execution_start": 1642864456290,
    "execution_millis": 9,
    "cell_id": "00087-bc5b154e-2743-4dcd-967c-91bd9c919a0a",
    "deepnote_cell_type": "code"
   },
   "source": "best_models = list() #list of the top ten models of the final randomized search\neval_best_models = list()\n\nfor i in range(10):\n    best_params_i = df_results['params'][i]\n    best_params_i = ast.literal_eval(best_params_i)\n    print(best_params_i)\n    best_params_i['early_stopping'] = False\n    model_i = MLPRegressor(**best_params_i)\n    model_i_eval = MLPRegressor(**best_params_i)\n    best_models.append(model_i)\n    eval_best_models.append(model_i_eval)",
   "execution_count": 22,
   "outputs": [
    {
     "name": "stdout",
     "text": "{'activation': 'logistic', 'alpha': 0.08597341891665966, 'batch_size': 723, 'early_stopping': True, 'hidden_layer_sizes': (25, 25), 'learning_rate': 'invscaling', 'learning_rate_init': 0.10036149308230885, 'max_iter': 5000, 'momentum': 0.7180983019584821, 'n_iter_no_change': 25, 'random_state': 69, 'solver': 'adam', 'tol': 0.0011143139767866557, 'validation_fraction': 0.2}\n{'activation': 'logistic', 'alpha': 0.10048782015928051, 'batch_size': 835, 'early_stopping': True, 'hidden_layer_sizes': (50, 50), 'learning_rate': 'adaptive', 'learning_rate_init': 0.2098747764834137, 'max_iter': 5000, 'momentum': 0.3582144887703722, 'n_iter_no_change': 25, 'random_state': 69, 'solver': 'adam', 'tol': 0.0020812163864384805, 'validation_fraction': 0.2}\n{'activation': 'logistic', 'alpha': 0.03800366808998659, 'batch_size': 800, 'early_stopping': True, 'hidden_layer_sizes': (50, 50), 'learning_rate': 'adaptive', 'learning_rate_init': 0.07978201332823437, 'max_iter': 5000, 'momentum': 0.6030233152804695, 'n_iter_no_change': 15, 'random_state': 69, 'solver': 'adam', 'tol': 0.0011790472159986759, 'validation_fraction': 0.2}\n{'activation': 'logistic', 'alpha': 0.09603816653903909, 'batch_size': 692, 'early_stopping': True, 'hidden_layer_sizes': (100,), 'learning_rate': 'invscaling', 'learning_rate_init': 0.28818385410108055, 'max_iter': 5000, 'momentum': 0.7387199495018347, 'n_iter_no_change': 25, 'random_state': 69, 'solver': 'adam', 'tol': 0.0011354360723399156, 'validation_fraction': 0.2}\n{'activation': 'tanh', 'alpha': 0.048117872097273647, 'batch_size': 791, 'early_stopping': True, 'hidden_layer_sizes': (25, 25), 'learning_rate': 'adaptive', 'learning_rate_init': 0.058407553338529615, 'max_iter': 5000, 'momentum': 0.21800045705059024, 'n_iter_no_change': 25, 'random_state': 69, 'solver': 'sgd', 'tol': 0.0015020063312444461, 'validation_fraction': 0.2}\n{'activation': 'logistic', 'alpha': 0.08099944110683042, 'batch_size': 733, 'early_stopping': True, 'hidden_layer_sizes': (50, 50), 'learning_rate': 'adaptive', 'learning_rate_init': 0.05369743068023217, 'max_iter': 5000, 'momentum': 0.8528646404128623, 'n_iter_no_change': 15, 'random_state': 69, 'solver': 'adam', 'tol': 0.001234333050326221, 'validation_fraction': 0.2}\n{'activation': 'logistic', 'alpha': 0.0581294085993983, 'batch_size': 887, 'early_stopping': True, 'hidden_layer_sizes': (25, 25), 'learning_rate': 'adaptive', 'learning_rate_init': 0.09662305584266151, 'max_iter': 5000, 'momentum': 0.9663267499859572, 'n_iter_no_change': 25, 'random_state': 69, 'solver': 'adam', 'tol': 0.0018282765577169679, 'validation_fraction': 0.2}\n{'activation': 'tanh', 'alpha': 0.05626839373892632, 'batch_size': 885, 'early_stopping': True, 'hidden_layer_sizes': (100, 100), 'learning_rate': 'invscaling', 'learning_rate_init': 0.030101533958005848, 'max_iter': 5000, 'momentum': 0.6979975352626049, 'n_iter_no_change': 25, 'random_state': 69, 'solver': 'adam', 'tol': 0.0018699932194759779, 'validation_fraction': 0.2}\n{'activation': 'logistic', 'alpha': 0.08919978797716005, 'batch_size': 829, 'early_stopping': True, 'hidden_layer_sizes': (50, 50), 'learning_rate': 'invscaling', 'learning_rate_init': 0.0808339247990508, 'max_iter': 5000, 'momentum': 0.5217175799962834, 'n_iter_no_change': 15, 'random_state': 69, 'solver': 'adam', 'tol': 0.0018726333148625473, 'validation_fraction': 0.2}\n{'activation': 'logistic', 'alpha': 0.08827073354272767, 'batch_size': 657, 'early_stopping': True, 'hidden_layer_sizes': (50, 50), 'learning_rate': 'adaptive', 'learning_rate_init': 0.06259472101829307, 'max_iter': 5000, 'momentum': 0.5441344670717054, 'n_iter_no_change': 15, 'random_state': 69, 'solver': 'adam', 'tol': 0.001698625378501433, 'validation_fraction': 0.2}\n",
     "output_type": "stream"
    }
   ]
  },
  {
   "cell_type": "code",
   "metadata": {
    "cell_id": "9f139698-0795-4535-944b-e30ae691e9c3",
    "tags": [],
    "deepnote_to_be_reexecuted": false,
    "source_hash": "f01aac80",
    "execution_start": 1642864457507,
    "execution_millis": 71777,
    "deepnote_cell_type": "code"
   },
   "source": "epochs_best_models = list()\n\n#fit every model\nfor model in best_models:\n    model.fit(X,y)\n    epochs_best_models.append(model.n_iter_)",
   "execution_count": 23,
   "outputs": []
  },
  {
   "cell_type": "code",
   "metadata": {
    "cell_id": "4657f071-48d6-47eb-9865-809f5ed665ed",
    "tags": [],
    "deepnote_to_be_reexecuted": false,
    "source_hash": "77a89b52",
    "execution_start": 1642864529342,
    "execution_millis": 198,
    "deepnote_cell_type": "code"
   },
   "source": "y_predictions_train = list()\ny_predictions_internal_test = list()\ny_predictions_blind_test = list()\n\n#predictions on every model is averaged\nfor model in best_models:\n    #prediction on TRAINING SET\n    y_pred = model.predict(X)\n    y_predictions_train.append(y_pred)\n    \n    #prediction on INTERNAL TEST SET\n    y_pred = model.predict(X_test)\n    y_predictions_internal_test.append(y_pred)\n\n    #prediction on BLIND TEST SET\n    y_pred = model.predict(blind_ts)\n    y_predictions_blind_test.append(y_pred)",
   "execution_count": 24,
   "outputs": []
  },
  {
   "cell_type": "code",
   "metadata": {
    "cell_id": "97f83cfa-9754-40b1-9b2b-a04c27748553",
    "tags": [],
    "deepnote_to_be_reexecuted": false,
    "source_hash": "ad7cd049",
    "execution_start": 1642864529551,
    "execution_millis": 288846,
    "deepnote_cell_type": "code"
   },
   "source": "loss_train_best_models = list()\nloss_test_best_models = list()\n\nfor i in range(len(eval_best_models)):\n    epochs = epochs_best_models[i]\n    eval_model = eval_best_models[i]\n    score_train, score_test, loss_train, loss_test = fit_and_score(epochs, eval_model, X, y, X_test, y_test)\n    loss_train_best_models.append(loss_train)\n    loss_test_best_models.append(loss_test)",
   "execution_count": 25,
   "outputs": []
  },
  {
   "cell_type": "markdown",
   "source": "## Learning Curves",
   "metadata": {
    "tags": [],
    "cell_id": "00095-765ec867-bdc2-419a-ba23-a489a71e27ed",
    "deepnote_cell_type": "markdown"
   }
  },
  {
   "cell_type": "code",
   "metadata": {
    "deepnote_output_heights": [
     611
    ],
    "deepnote_to_be_reexecuted": false,
    "execution_millis": 2843,
    "execution_start": 1642864818397,
    "source_hash": "b33a293d",
    "tags": [],
    "output_cleared": false,
    "cell_id": "00096-38bf5ae9-c594-4799-bb3e-460cdbec1633",
    "deepnote_cell_type": "code"
   },
   "source": "fig, axes = plt.subplots(4, 3, figsize=(14,16))\naxes = axes.flatten()\nfig.tight_layout()\n\nfor i in range(len(eval_best_models)):\n    epochs = epochs_best_models[i]\n    loss_train = loss_train_best_models[i]\n    loss_test = loss_test_best_models[i]\n    plot_learning_curves(loss_train, loss_test, epochs, \"Loss (MEE)\", axes[i], i)\n\nfig.subplots_adjust(hspace=0.3)\nfig.subplots_adjust(wspace=0.3)\nfig.delaxes(axes[10])\nfig.delaxes(axes[11])",
   "execution_count": 26,
   "outputs": [
    {
     "data": {
      "text/plain": "<Figure size 1008x1152 with 10 Axes>",
      "image/png": "[encoded data removed]"
     },
     "metadata": {
      "needs_background": "light",
      "image/png": {
       "width": 1004,
       "height": 1170
      }
     },
     "output_type": "display_data"
    }
   ]
  },
  {
   "cell_type": "code",
   "metadata": {
    "cell_id": "4b0dea8d-441a-491e-941d-dd444f7b42ce",
    "tags": [],
    "deepnote_to_be_reexecuted": true,
    "source_hash": "29cae774",
    "execution_start": 1642786866810,
    "execution_millis": 5,
    "deepnote_cell_type": "code"
   },
   "source": "y_pred_voting_ens_train_test = np.average(y_predictions_train, axis=0)\ny_pred_voting_ens_internal_test = np.average(y_predictions_internal_test, axis=0)\ny_pred_voting_ens_blind_test = np.average(y_predictions_blind_test, axis=0)\n\nprint(f\"MEE: {mee(y_test, y_pred_voting_ens_internal_test)}\")",
   "execution_count": null,
   "outputs": [
    {
     "name": "stdout",
     "text": "MEE: 1.0715401961400552\n",
     "output_type": "stream"
    }
   ]
  },
  {
   "cell_type": "code",
   "metadata": {
    "cell_id": "29fade09-ccfa-4676-8b74-202a9e61ccea",
    "tags": [],
    "deepnote_to_be_reexecuted": true,
    "source_hash": "b623e53d",
    "execution_start": 1642786866811,
    "execution_millis": 0,
    "deepnote_cell_type": "code"
   },
   "source": "",
   "execution_count": null,
   "outputs": []
  },
  {
   "cell_type": "code",
   "metadata": {
    "cell_id": "bbbb890e-8cb6-4120-9191-c68ddc831b25",
    "tags": [],
    "deepnote_to_be_reexecuted": true,
    "source_hash": "b623e53d",
    "execution_start": 1642786866827,
    "deepnote_cell_type": "code"
   },
   "source": "",
   "execution_count": null,
   "outputs": []
  },
  {
   "cell_type": "markdown",
   "source": "### Plot of coordinates x and y from the training set",
   "metadata": {
    "tags": [],
    "cell_id": "00097-e5a397f3-a55c-4bcc-85b5-683cbae060c3",
    "deepnote_cell_type": "markdown"
   }
  },
  {
   "cell_type": "code",
   "metadata": {
    "deepnote_output_heights": [
     21.171875,
     263.984375
    ],
    "deepnote_to_be_reexecuted": true,
    "execution_millis": 466,
    "execution_start": 1642786866838,
    "output_cleared": false,
    "source_hash": "c1117b61",
    "cell_id": "00098-7f31bb15-8b09-4130-955d-1c31a56416e9",
    "deepnote_cell_type": "code"
   },
   "source": "plt.xlabel(\"x\")\nplt.ylabel(\"y\")\nplt.scatter(df_visual['x'], df_visual['y'])",
   "execution_count": null,
   "outputs": [
    {
     "output_type": "execute_result",
     "execution_count": 28,
     "data": {
      "text/plain": "<matplotlib.collections.PathCollection at 0x7f90f5f5fa10>"
     },
     "metadata": {}
    },
    {
     "data": {
      "text/plain": "<Figure size 432x288 with 1 Axes>",
      "image/png": "[encoded data removed]"
     },
     "metadata": {
      "needs_background": "light",
      "image/png": {
       "width": 391,
       "height": 262
      }
     },
     "output_type": "display_data"
    }
   ]
  },
  {
   "cell_type": "code",
   "metadata": {
    "deepnote_to_be_reexecuted": true,
    "execution_millis": 11,
    "execution_start": 1642786867294,
    "source_hash": "a4dc9d4f",
    "tags": [],
    "output_cleared": true,
    "cell_id": "00099-48cb3478-042b-4781-8f6d-c71c5a6d5510",
    "deepnote_cell_type": "code"
   },
   "source": "def plot_coordinates(model, X, true_y = None):\n    y_predicted = model.predict(X)\n    y_predicted = pd.DataFrame(data=y_predicted, columns=[\"x\", \"y\"])\n    if not None:\n        true_y = pd.DataFrame(data=true_y, columns=[\"x\", \"y\"])\n        plt.scatter(true_y['x'], true_y['y'], c='r', marker='*')\n    plt.xlabel(\"x\")\n    plt.ylabel(\"y\")\n    plt.scatter(y_predicted['x'], y_predicted['y'], c='#1f77b4')\n",
   "execution_count": null,
   "outputs": []
  },
  {
   "cell_type": "markdown",
   "source": "### Predicted points on internal test set",
   "metadata": {
    "tags": [],
    "cell_id": "00100-0bf0ce5d-86de-4884-98c3-0a93bdb61793",
    "deepnote_cell_type": "markdown"
   }
  },
  {
   "cell_type": "code",
   "metadata": {
    "deepnote_output_heights": [
     263.984375
    ],
    "deepnote_to_be_reexecuted": true,
    "execution_millis": 343,
    "execution_start": 1642786867306,
    "source_hash": "309b4459",
    "tags": [],
    "output_cleared": false,
    "cell_id": "00101-d3bd8b05-9db9-435e-8fe1-8f8f72c50647",
    "deepnote_cell_type": "code"
   },
   "source": "plot_coordinates(model, X_test, y_test)",
   "execution_count": null,
   "outputs": [
    {
     "data": {
      "text/plain": "<Figure size 432x288 with 1 Axes>",
      "image/png": "[encoded data removed]"
     },
     "metadata": {
      "needs_background": "light",
      "image/png": {
       "width": 391,
       "height": 262
      }
     },
     "output_type": "display_data"
    }
   ]
  },
  {
   "cell_type": "code",
   "metadata": {
    "tags": [],
    "deepnote_to_be_reexecuted": true,
    "source_hash": "795a2625",
    "output_cleared": false,
    "execution_start": 1642786867636,
    "execution_millis": 682,
    "deepnote_output_heights": [
     264
    ],
    "cell_id": "00102-b5e6e0b3-cd64-49da-b8f3-d72c60d6d514",
    "deepnote_cell_type": "code"
   },
   "source": "plot_coordinates(model, X_all, y_all)",
   "execution_count": null,
   "outputs": [
    {
     "data": {
      "text/plain": "<Figure size 432x288 with 1 Axes>",
      "image/png": "[encoded data removed]"
     },
     "metadata": {
      "needs_background": "light",
      "image/png": {
       "width": 391,
       "height": 262
      }
     },
     "output_type": "display_data"
    }
   ]
  },
  {
   "cell_type": "markdown",
   "source": "### Predicted points on blind test set",
   "metadata": {
    "tags": [],
    "cell_id": "00103-85e3c6eb-1b6d-4ee6-920a-0f739fb59667",
    "deepnote_cell_type": "markdown"
   }
  },
  {
   "cell_type": "code",
   "metadata": {
    "deepnote_output_heights": [
     264
    ],
    "deepnote_to_be_reexecuted": true,
    "execution_millis": 416,
    "execution_start": 1642786868321,
    "source_hash": "dd65ae1c",
    "output_cleared": false,
    "cell_id": "00104-3cae6ec0-a91e-4c46-b0fd-1ac73bb96cf3",
    "deepnote_cell_type": "code"
   },
   "source": "plot_coordinates(model, blind_ts)",
   "execution_count": null,
   "outputs": [
    {
     "data": {
      "text/plain": "<Figure size 432x288 with 1 Axes>",
      "image/png": "[encoded data removed]"
     },
     "metadata": {
      "needs_background": "light",
      "image/png": {
       "width": 391,
       "height": 262
      }
     },
     "output_type": "display_data"
    }
   ]
  },
  {
   "cell_type": "markdown",
   "source": "## Ensemble ",
   "metadata": {
    "tags": [],
    "cell_id": "00105-30373e78-637d-4e2a-ab93-d98602ebe312",
    "deepnote_cell_type": "markdown"
   }
  },
  {
   "cell_type": "markdown",
   "source": "First we try using the bagging method with 10 estimators.",
   "metadata": {
    "tags": [],
    "cell_id": "00106-11eef0b0-8acd-4418-ac43-80479d215105",
    "deepnote_cell_type": "markdown"
   }
  },
  {
   "cell_type": "code",
   "metadata": {
    "deepnote_to_be_reexecuted": true,
    "execution_millis": 10958,
    "execution_start": 1642786868737,
    "source_hash": "f7682dd1",
    "tags": [],
    "output_cleared": true,
    "cell_id": "00107-27f4c40b-a344-41f4-8da1-9365d66af8cb",
    "deepnote_cell_type": "code"
   },
   "source": "bagging_ens = BaggingRegressor(model, n_estimators=10, n_jobs=-1, random_state=RS_NUMBER).fit(X, y)",
   "execution_count": null,
   "outputs": []
  },
  {
   "cell_type": "code",
   "metadata": {
    "deepnote_to_be_reexecuted": true,
    "execution_millis": 103,
    "execution_start": 1642786879715,
    "source_hash": "822a9033",
    "tags": [],
    "output_cleared": false,
    "cell_id": "00108-e625c4dc-affe-4b8c-8d73-52d96b20a754",
    "deepnote_cell_type": "code"
   },
   "source": "y_predicted_ensemble = bagging_ens.predict(X_test)\nprint(f\"Accuracy: {model.score(X_test, y_test)}\")\nprint(f\"MEE: {mee(y_test, y_predicted_ensemble)}\")",
   "execution_count": null,
   "outputs": [
    {
     "name": "stdout",
     "text": "Accuracy: 0.9352152730243479\nMEE: 1.0704110444794752\n",
     "output_type": "stream"
    }
   ]
  },
  {
   "cell_type": "markdown",
   "source": "Then we try the voting method using the 10 best models from the randomized search. ",
   "metadata": {
    "tags": [],
    "deepnote_to_be_reexecuted": false,
    "source_hash": "b623e53d",
    "execution_start": 1641916793012,
    "execution_millis": 5,
    "cell_id": "00109-9cfd111b-f990-4f60-89a5-843b006db774",
    "deepnote_cell_type": "markdown"
   }
  },
  {
   "cell_type": "code",
   "metadata": {
    "tags": [],
    "deepnote_to_be_reexecuted": true,
    "source_hash": "8393db56",
    "execution_start": 1642786879831,
    "execution_millis": 64072,
    "deepnote_output_heights": [
     155.546875
    ],
    "cell_id": "00110-8243761b-c582-4e3c-85e8-007922d77cff",
    "deepnote_cell_type": "code"
   },
   "source": "y_predictions_internal_test = list()\ny_predictions_blind_test = list()\nepochs_best_models = list()\n\n#fit every model\nfor model in best_models:\n    model.fit(X,y)\n    epochs_best_models.append(model.n_iter_)\n\n\n#predictions on every model is averaged\nfor model in best_models:\n    y_pred = model.predict(X_test)\n    y_predictions_internal_test.append(y_pred)\n    y_pred = model.predict(blind_ts)\n    y_predictions_blind_test.append(y_pred)\n",
   "execution_count": null,
   "outputs": []
  },
  {
   "cell_type": "code",
   "metadata": {
    "tags": [],
    "deepnote_to_be_reexecuted": true,
    "source_hash": "5acf98ef",
    "execution_start": 1642786943946,
    "execution_millis": 973,
    "deepnote_output_heights": [
     611
    ],
    "cell_id": "00111-f401b9aa-88eb-48c8-b5ab-42c28c7538c3",
    "deepnote_cell_type": "code"
   },
   "source": "y_pred_voting_ens_internal_test = np.average(y_predictions_internal_test, axis=0)\ny_pred_voting_ens_blind_test = np.average(y_predictions_blind_test, axis=0)\n\nprint(f\"MEE: {mee(y_internal_test, y_pred_voting_ens_internal_test)}\")",
   "execution_count": null,
   "outputs": [
    {
     "output_type": "error",
     "ename": "NameError",
     "evalue": "name 'y_internal_test' is not defined",
     "traceback": [
      "\u001b[0;31m---------------------------------------------------------------------------\u001b[0m",
      "\u001b[0;31mNameError\u001b[0m                                 Traceback (most recent call last)",
      "\u001b[0;32m<ipython-input-36-dcf723f833e8>\u001b[0m in \u001b[0;36m<module>\u001b[0;34m\u001b[0m\n\u001b[1;32m      2\u001b[0m \u001b[0my_pred_voting_ens_blind_test\u001b[0m \u001b[0;34m=\u001b[0m \u001b[0mnp\u001b[0m\u001b[0;34m.\u001b[0m\u001b[0maverage\u001b[0m\u001b[0;34m(\u001b[0m\u001b[0my_predictions_blind_test\u001b[0m\u001b[0;34m,\u001b[0m \u001b[0maxis\u001b[0m\u001b[0;34m=\u001b[0m\u001b[0;36m0\u001b[0m\u001b[0;34m)\u001b[0m\u001b[0;34m\u001b[0m\u001b[0;34m\u001b[0m\u001b[0m\n\u001b[1;32m      3\u001b[0m \u001b[0;34m\u001b[0m\u001b[0m\n\u001b[0;32m----> 4\u001b[0;31m \u001b[0mprint\u001b[0m\u001b[0;34m(\u001b[0m\u001b[0;34mf\"MEE: {mee(y_internal_test, y_pred_voting_ens_internal_test)}\"\u001b[0m\u001b[0;34m)\u001b[0m\u001b[0;34m\u001b[0m\u001b[0;34m\u001b[0m\u001b[0m\n\u001b[0m",
      "\u001b[0;31mNameError\u001b[0m: name 'y_internal_test' is not defined"
     ]
    }
   ]
  },
  {
   "cell_type": "markdown",
   "source": "### Predicted points on internal test set using ensemble",
   "metadata": {
    "tags": [],
    "cell_id": "00116-844ceccd-dd4c-4ec9-84a8-60ab47b30ff2",
    "deepnote_cell_type": "markdown"
   }
  },
  {
   "cell_type": "markdown",
   "source": "#### BAGGING ENSEMBLE",
   "metadata": {
    "tags": [],
    "cell_id": "00117-2f6047db-bbbd-442e-9335-d2ed87b248f1",
    "deepnote_cell_type": "markdown"
   }
  },
  {
   "cell_type": "code",
   "metadata": {
    "deepnote_output_heights": [
     264
    ],
    "deepnote_to_be_reexecuted": true,
    "execution_millis": 573,
    "execution_start": 1642767347360,
    "source_hash": "ea58b798",
    "tags": [],
    "output_cleared": false,
    "cell_id": "00118-a438f85a-1ce4-46d0-b705-7faa94ac5cbf",
    "deepnote_cell_type": "code"
   },
   "source": "#BAGGING ENSEMBLE\nplot_coordinates(bagging_ens, X_test, y_test)",
   "execution_count": null,
   "outputs": [
    {
     "data": {
      "text/plain": "<Figure size 432x288 with 1 Axes>",
      "image/png": "[encoded data removed]"
     },
     "metadata": {
      "needs_background": "light",
      "image/png": {
       "width": 391,
       "height": 262
      }
     },
     "output_type": "display_data"
    }
   ]
  },
  {
   "cell_type": "markdown",
   "source": "#### VOTING COMMITEE OF 10 BEST MODELS",
   "metadata": {
    "tags": [],
    "cell_id": "00119-55122427-e865-4457-b5a3-fa342dcb687d",
    "deepnote_cell_type": "markdown"
   }
  },
  {
   "cell_type": "code",
   "metadata": {
    "tags": [],
    "deepnote_to_be_reexecuted": true,
    "source_hash": "b09ac1d",
    "execution_start": 1642767347794,
    "execution_millis": 173,
    "deepnote_output_heights": [
     264
    ],
    "cell_id": "00120-c4ffe4f7-df28-4e04-b80f-470fbb70e792",
    "deepnote_cell_type": "code"
   },
   "source": "y_predicted = pd.DataFrame(data=y_pred_voting_ens_internal_test, columns=[\"x\", \"y\"])\ntrue_y = pd.DataFrame(data=y_internal_test, columns=[\"x\", \"y\"])\nplt.scatter(true_y['x'], true_y['y'], c='r', marker='*')\nplt.xlabel(\"x\")\nplt.ylabel(\"y\")\nplt.scatter(y_predicted['x'], y_predicted['y'], c='#1f77b4');",
   "execution_count": null,
   "outputs": [
    {
     "data": {
      "text/plain": "<Figure size 432x288 with 1 Axes>",
      "image/png": "[encoded data removed]"
     },
     "metadata": {
      "needs_background": "light",
      "image/png": {
       "width": 391,
       "height": 262
      }
     },
     "output_type": "display_data"
    }
   ]
  },
  {
   "cell_type": "markdown",
   "source": "### Predicted points on blind test set using Ensemble",
   "metadata": {
    "tags": [],
    "cell_id": "00121-9a3cb117-d2a2-4e98-9bd3-dfd155f7e394",
    "deepnote_cell_type": "markdown"
   }
  },
  {
   "cell_type": "markdown",
   "source": "#### BAGGING ENSEMBLE",
   "metadata": {
    "tags": [],
    "cell_id": "00122-d118a9f3-834e-4a18-8336-40aa86da928f",
    "deepnote_cell_type": "markdown"
   }
  },
  {
   "cell_type": "code",
   "metadata": {
    "deepnote_output_heights": [
     264
    ],
    "deepnote_to_be_reexecuted": true,
    "execution_millis": 322,
    "execution_start": 1642767347965,
    "source_hash": "6ccc2280",
    "tags": [],
    "output_cleared": false,
    "cell_id": "00123-8038251e-7545-46a6-bc44-a9ea58ee09c4",
    "deepnote_cell_type": "code"
   },
   "source": "#BAGGING ENSEMBLE\nplot_coordinates(bagging_ens, blind_ts)",
   "execution_count": null,
   "outputs": [
    {
     "data": {
      "text/plain": "<Figure size 432x288 with 1 Axes>",
      "image/png": "[encoded data removed]"
     },
     "metadata": {
      "needs_background": "light",
      "image/png": {
       "width": 391,
       "height": 262
      }
     },
     "output_type": "display_data"
    }
   ]
  },
  {
   "cell_type": "markdown",
   "source": "#### VOTING COMMITEE OF 10 BEST MODELS",
   "metadata": {
    "tags": [],
    "cell_id": "00124-23b11313-930c-4995-851f-e4f78120c001",
    "deepnote_cell_type": "markdown"
   }
  },
  {
   "cell_type": "code",
   "metadata": {
    "tags": [],
    "deepnote_to_be_reexecuted": true,
    "source_hash": "15d71ae0",
    "execution_start": 1642767348308,
    "execution_millis": 136,
    "deepnote_output_heights": [
     264
    ],
    "cell_id": "00125-cdd44630-3ca6-4349-bad4-72c4daba762b",
    "deepnote_cell_type": "code"
   },
   "source": "y_predicted = pd.DataFrame(data=y_pred_voting_ens_blind_test, columns=[\"x\", \"y\"])\nplt.xlabel(\"x\")\nplt.ylabel(\"y\")\nplt.scatter(y_predicted['x'], y_predicted['y'], c='#1f77b4');",
   "execution_count": null,
   "outputs": [
    {
     "data": {
      "text/plain": "<Figure size 432x288 with 1 Axes>",
      "image/png": "[encoded data removed]"
     },
     "metadata": {
      "needs_background": "light",
      "image/png": {
       "width": 391,
       "height": 262
      }
     },
     "output_type": "display_data"
    }
   ]
  },
  {
   "cell_type": "markdown",
   "source": "<a style='text-decoration:none;line-height:16px;display:flex;color:#5B5B62;padding:10px;justify-content:end;' href='https://deepnote.com?utm_source=created-in-deepnote-cell&projectId=d9d840c9-75b3-4185-bb01-105f5cca8d83' target=\"_blank\">\n<img alt='Created in deepnote.com' style='display:inline;max-height:16px;margin:0px;margin-right:7.5px;' src='data:image/svg+xml;base64,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' > </img>\nCreated in <span style='font-weight:600;margin-left:4px;'>Deepnote</span></a>",
   "metadata": {
    "tags": [],
    "created_in_deepnote_cell": true,
    "deepnote_cell_type": "markdown"
   }
  }
 ],
 "nbformat": 4,
 "nbformat_minor": 5,
 "metadata": {
  "deepnote": {},
  "deepnote_execution_queue": [
   {
    "cellId": "a79480c6-1852-40c7-85ea-72105c5c7992",
    "sessionId": "bb929fd2-eb01-42fb-b7e8-7054e44bb7e1",
    "msgId": "ed3b68d5-9cec-4420-9641-b8a9648e492b"
   }
  ],
  "deepnote_notebook_id": "cbfbc94c-7136-497d-a6ba-3db2f7221311",
  "kernelspec": {
   "display_name": "Python 3",
   "language": "python",
   "name": "python3"
  },
  "language_info": {
   "codemirror_mode": {
    "name": "ipython",
    "version": 3
   },
   "file_extension": ".py",
   "mimetype": "text/x-python",
   "name": "python",
   "nbconvert_exporter": "python",
   "pygments_lexer": "ipython3",
   "version": "3.9.7"
  }
 }
}