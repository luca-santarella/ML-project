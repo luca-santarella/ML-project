{
 "cells": [
  {
   "cell_type": "markdown",
   "source": "# Machine Learning project a.y. 2021/2022",
   "metadata": {
    "cell_id": "866d5261-65f5-451c-89d3-65ff7cab3bcd",
    "deepnote_cell_type": "markdown"
   }
  },
  {
   "cell_type": "markdown",
   "source": "## Scikit-learn MLP model",
   "metadata": {
    "cell_id": "00001-2aba9e59-2eb1-40b4-8d25-4f2d84338a7b",
    "deepnote_cell_type": "markdown"
   }
  },
  {
   "cell_type": "markdown",
   "source": "## Importing libraries",
   "metadata": {
    "cell_id": "00002-d3953b8e-e2cb-44cd-b14b-fb1a55cd43b9",
    "deepnote_cell_type": "markdown"
   }
  },
  {
   "cell_type": "code",
   "metadata": {
    "cell_id": "00003-1a905703-18b1-43b9-93fd-d6f4b2f2de3a",
    "deepnote_to_be_reexecuted": false,
    "execution_millis": 1528,
    "execution_start": 1642976514919,
    "output_cleared": true,
    "source_hash": "98f33825",
    "deepnote_cell_type": "code"
   },
   "source": "import pandas as pd\nimport matplotlib.pyplot as plt\nimport numpy as np\nimport ast\n\nfrom sklearn.base import clone as clone_model\nfrom sklearn.model_selection import RandomizedSearchCV\nfrom sklearn.model_selection import GridSearchCV\nfrom scipy.stats import uniform\nfrom scipy.stats import randint\nfrom sklearn.metrics import make_scorer\nfrom sklearn.metrics import mean_squared_error\nfrom sklearn.preprocessing import OneHotEncoder\nfrom sklearn.neural_network import MLPRegressor\nfrom sklearn.model_selection import train_test_split\nfrom sklearn.ensemble import BaggingRegressor\nfrom dataclasses import dataclass",
   "outputs": [],
   "execution_count": null
  },
  {
   "cell_type": "markdown",
   "source": "## Loading training set and blind test set",
   "metadata": {
    "cell_id": "00004-e548d8d6-1237-4e99-b829-8a4f417e5c5f",
    "deepnote_cell_type": "markdown"
   }
  },
  {
   "cell_type": "code",
   "metadata": {
    "cell_id": "00005-b87bacfb-9479-4d66-b250-1604f72d02e6",
    "deepnote_to_be_reexecuted": false,
    "execution_millis": 16,
    "execution_start": 1642976516453,
    "output_cleared": true,
    "source_hash": "47b90439",
    "deepnote_cell_type": "code"
   },
   "source": "df_visual = pd.read_csv('./data/ML-CUP21-TR.csv', usecols=[11,12], names=['idx','f1','f2','f3','f4','f5','f6','f7','f8','f9','f10', 'x','y'])\ndf_task_tr = pd.read_csv('./data/ML-CUP21-TR.csv', names=['idx','f1','f2','f3','f4','f5','f6','f7','f8','f9','f10', 'x','y'])\ndf_task_tr = df_task_tr[7:] # remove first 7 rows of comments\ndf_visual = df_visual[7:]\n\ndf_blind_ts = pd.read_csv('./data/ML-CUP21-TS.csv', names=['idx','f1','f2','f3','f4','f5','f6','f7','f8','f9','f10'])\ndf_blind_ts = df_blind_ts[7:]\ndf_blind_ts.drop(labels=\"idx\", axis=1, inplace=True)\nblind_ts = df_blind_ts.values",
   "outputs": [],
   "execution_count": null
  },
  {
   "cell_type": "markdown",
   "source": "## Evaluation metrics and tools",
   "metadata": {
    "cell_id": "00006-151450c5-9a04-4fe5-b2c2-6eeb104a7d9b",
    "tags": [],
    "deepnote_cell_type": "markdown"
   }
  },
  {
   "cell_type": "markdown",
   "source": "We define the <b>MEE (Mean Euclidean Error)</b> function which is used to evaluate the mean euclidean distance between two points with x and y coordinates.\nThe function takes in input the true target and the predicted target and yields a floating point number which represents the performance. ",
   "metadata": {
    "cell_id": "00007-ddff7e4d-7571-4ba4-9570-28bd00d2cd99",
    "tags": [],
    "deepnote_cell_type": "markdown"
   }
  },
  {
   "cell_type": "code",
   "metadata": {
    "cell_id": "00008-340d7c6b-f5af-4b2c-b133-3648b01d182a",
    "deepnote_to_be_reexecuted": false,
    "execution_millis": 6,
    "execution_start": 1642976516474,
    "output_cleared": true,
    "source_hash": "3afbb4cb",
    "tags": [],
    "deepnote_cell_type": "code"
   },
   "source": "def mee(true_target, predicted_target): #assuming target is 2-dim matrix with x and y as columns\n    l = true_target.shape[0]\n    res = 0\n    \n    for p in range(l): #for p-th pattern in l (number of samples)\n        x_diff = np.square(true_target[p,0] - predicted_target[p,0]) #difference between the x value of the true and predicted target\n        y_diff = np.square(true_target[p,1] - predicted_target[p,1]) #difference between the y values of true and predicted target\n        sum_term = x_diff + y_diff\n        res = res + np.sqrt(sum_term)\n    res = res / l\n    \n    #return np.average([np.sqrt(np.square(true_target[p,0] - predicted_target[p,0]) + np.square(true_target[p,1] - predicted_target[p,1])) for p in range(l)]) #compact form\n    return res",
   "outputs": [],
   "execution_count": null
  },
  {
   "cell_type": "code",
   "metadata": {
    "cell_id": "b7d73eea-2cd5-44f7-af4a-123da2e0877a",
    "deepnote_to_be_reexecuted": false,
    "execution_millis": 2,
    "execution_start": 1642976516481,
    "source_hash": "a91b8e4",
    "tags": [],
    "deepnote_cell_type": "code"
   },
   "source": "def plot_learning_curves(train_scores, test_scores, epochs, y_label, ax, i):\n    ax.set_title(f\"Model {i+1}\")\n    ax.set_ylabel(y_label)\n    ax.set_xlabel('Epoch');\n    ax.plot(range(0,epochs), train_scores, label = \"Training error\", linestyle='dashed')\n    ax.plot(range(0,epochs), test_scores, label = \"Test error\")\n    ax.legend()\n\n    return ax",
   "outputs": [],
   "execution_count": null
  },
  {
   "cell_type": "markdown",
   "source": "We also define a random state (seed) to allow reproducibility on our experiments",
   "metadata": {
    "cell_id": "00009-44be928f-4c00-4b3f-ad7a-d6488544e043",
    "tags": [],
    "deepnote_cell_type": "markdown"
   }
  },
  {
   "cell_type": "code",
   "metadata": {
    "cell_id": "00010-1e049613-6a85-4aa4-a1ba-5a3a62517420",
    "deepnote_to_be_reexecuted": false,
    "execution_millis": 0,
    "execution_start": 1642976516488,
    "source_hash": "596ccc7b",
    "tags": [],
    "deepnote_cell_type": "code"
   },
   "source": "RS_NUMBER = 69",
   "outputs": [],
   "execution_count": null
  },
  {
   "cell_type": "markdown",
   "source": "## Regression task",
   "metadata": {
    "cell_id": "00065-df984e4c-4153-4489-a59f-c0bdcb42e96a",
    "tags": [],
    "deepnote_cell_type": "markdown"
   }
  },
  {
   "cell_type": "markdown",
   "source": "### Preparing the training set",
   "metadata": {
    "cell_id": "00066-1ca49962-27d4-43c4-8dac-7826757ba7a0",
    "tags": [],
    "deepnote_cell_type": "markdown"
   }
  },
  {
   "cell_type": "code",
   "metadata": {
    "cell_id": "00067-92bf4cec-cb6c-4827-9f33-c4d74082cb9f",
    "deepnote_to_be_reexecuted": false,
    "execution_millis": 0,
    "execution_start": 1642976516513,
    "output_cleared": true,
    "source_hash": "192dcf",
    "tags": [],
    "deepnote_cell_type": "code"
   },
   "source": "df_task_tr.drop(labels=\"idx\", axis=1, inplace=True)",
   "outputs": [],
   "execution_count": null
  },
  {
   "cell_type": "code",
   "metadata": {
    "cell_id": "00068-37abe94c-f2b9-47a9-b74a-b45655aeb1aa",
    "deepnote_to_be_reexecuted": false,
    "execution_millis": 1,
    "execution_start": 1642976516514,
    "output_cleared": true,
    "source_hash": "8b598d07",
    "tags": [],
    "deepnote_cell_type": "code"
   },
   "source": "y = df_task_tr[['x','y']].values\nX = df_task_tr.drop(labels=['x','y'], axis=1).values\nX_all = X\ny_all = y",
   "outputs": [],
   "execution_count": null
  },
  {
   "cell_type": "code",
   "metadata": {
    "cell_id": "00069-6767f5fe-6356-44f6-af09-d2d3fbfcf5fe",
    "deepnote_to_be_reexecuted": false,
    "execution_millis": 4,
    "execution_start": 1642976516516,
    "output_cleared": false,
    "source_hash": "473a37ed",
    "tags": [],
    "deepnote_cell_type": "code"
   },
   "source": "print(X.shape)\nprint(y.shape)",
   "outputs": [
    {
     "name": "stdout",
     "text": "(1477, 10)\n(1477, 2)\n",
     "output_type": "stream"
    }
   ],
   "execution_count": null
  },
  {
   "cell_type": "markdown",
   "source": "### Internal Test set\nWe split the data set obtaining an internal test set (10%), we will use this internal test at the end to test internally the generalization error",
   "metadata": {
    "cell_id": "00070-725d3cb0-dfad-4c2c-b7c3-71f0c3f9aff8",
    "tags": [],
    "deepnote_cell_type": "markdown"
   }
  },
  {
   "cell_type": "code",
   "metadata": {
    "cell_id": "00071-a4121cb3-52be-4a45-9e3f-bd04d7707e26",
    "deepnote_to_be_reexecuted": false,
    "execution_millis": 7,
    "execution_start": 1642976516517,
    "output_cleared": false,
    "source_hash": "853e95fc",
    "tags": [],
    "deepnote_cell_type": "code"
   },
   "source": "X, X_test, y, y_test = train_test_split(X, y, test_size=0.1, random_state=RS_NUMBER)\nprint(f\"X shape: {X.shape}\")\nprint(f\"X internal test shape: {X_test.shape}\")\nprint(f\"y shape: {y.shape}\")\nprint(f\"y internal test shape: {y_test.shape}\")",
   "outputs": [
    {
     "name": "stdout",
     "text": "X shape: (1329, 10)\nX internal test shape: (148, 10)\ny shape: (1329, 2)\ny internal test shape: (148, 2)\n",
     "output_type": "stream"
    }
   ],
   "execution_count": null
  },
  {
   "cell_type": "code",
   "metadata": {
    "cell_id": "00072-13a2524c-00f1-403d-b362-b638f6f6a886",
    "deepnote_to_be_reexecuted": false,
    "execution_millis": 0,
    "execution_start": 1642976516533,
    "output_cleared": true,
    "source_hash": "58f426c6",
    "tags": [],
    "deepnote_cell_type": "code"
   },
   "source": "#trains the model with one iteration (epoch) and computes in output a list of train and test scores using MEE\ndef fit_and_score(epochs, eval_model, X_train, y_train, X_test, y_test):\n    train_scores = []\n    test_scores = []\n    train_loss = []\n    test_loss = []\n    for i in range(epochs):\n        eval_model = eval_model.partial_fit(X_train,y_train)\n        y_train_predicted = eval_model.predict(X_train)\n        y_test_predicted = eval_model.predict(X_test)\n        #results on train set\n        train_scores.append(mean_squared_error(y_train, y_train_predicted))\n        test_scores.append(mean_squared_error(y_test, y_test_predicted))\n        #result on test set\n        train_loss.append(mee(y_train, y_train_predicted))\n        test_loss.append(mee(y_test, y_test_predicted))\n    return train_scores, test_scores, train_loss, test_loss\n",
   "outputs": [],
   "execution_count": null
  },
  {
   "cell_type": "markdown",
   "source": "## Randomized Search",
   "metadata": {
    "cell_id": "00073-d4db01cf-1e48-4de0-8f63-280380d67142",
    "tags": [],
    "deepnote_cell_type": "markdown"
   }
  },
  {
   "cell_type": "code",
   "metadata": {
    "cell_id": "00074-7f2f7779-f3fd-425c-8514-9bd878c39ee3",
    "deepnote_to_be_reexecuted": false,
    "execution_millis": 1,
    "execution_start": 1642976516534,
    "output_cleared": true,
    "source_hash": "1b127074",
    "tags": [],
    "deepnote_cell_type": "code"
   },
   "source": "# define the number of iterations\nn_iter_search = 1000\n# define number of k-folds\nk = 10",
   "outputs": [],
   "execution_count": null
  },
  {
   "cell_type": "code",
   "metadata": {
    "cell_id": "00075-2ed00a73-ec53-42cf-a3b1-cb4eaef36923",
    "deepnote_output_heights": [
     null,
     328.296875
    ],
    "deepnote_to_be_reexecuted": false,
    "execution_millis": 14,
    "execution_start": 1642976516537,
    "output_cleared": false,
    "source_hash": "36678f20",
    "tags": [],
    "deepnote_cell_type": "code"
   },
   "source": "%%time\n%%script false --no-raise-error\n\n# to find the best set of parameter setting, we can run a randomized search\n\n# define the parameters' values\nparams = {\n    \"hidden_layer_sizes\": [\n        (10,),(25,),(50,),(75,),(100,),\n        (10, 10),(25, 25),(50, 50),(75,75),(100, 100),],\n    \"activation\" : [\"logistic\", \"tanh\", \"relu\"],\n    \"solver\": [\"sgd\"],\n    \"learning_rate\": [\"constant\"],\n    \"learning_rate_init\": uniform(0.001, 0.5),\n    \"alpha\": uniform(0.0001, 0.1),\n    \"momentum\": [0.8, 0.85, 0.9],\n    \"batch_size\": randint(1, X.shape[0]),\n    \"n_iter_no_change\": [5,15,25],\n    \"random_state\": [RS_NUMBER],\n    \"tol\": uniform(0.001,0.0001),\n    \"early_stopping\": [True],\n    \"validation_fraction\": [0.2],\n    \"max_iter\": [1000],\n}\n\n# define the grid search\nrand_gs = RandomizedSearchCV(\n    MLPRegressor(),\n    param_distributions=params,\n    n_iter=n_iter_search,\n    n_jobs=-1,\n    scoring=make_scorer(mee), #scoring is based on the highest value\n    cv=k,\n    random_state=RS_NUMBER,\n    verbose=10\n)\n# run the grid search\nrand_gs.fit(X, y)\n",
   "outputs": [
    {
     "name": "stdout",
     "text": "CPU times: user 0 ns, sys: 8.03 ms, total: 8.03 ms\nWall time: 9.84 ms\n",
     "output_type": "stream"
    }
   ],
   "execution_count": null
  },
  {
   "cell_type": "code",
   "metadata": {
    "cell_id": "00076-1460bdab-c092-4cf0-80e7-fcc606b0fcca",
    "deepnote_to_be_reexecuted": false,
    "execution_millis": 4,
    "execution_start": 1642976516553,
    "source_hash": "ad4ee3e4",
    "tags": [],
    "deepnote_cell_type": "code"
   },
   "source": "%%script false --no-raise-error\n\ndf_results = pd.DataFrame(data=rand_gs.cv_results_) #trasform into a pandas dataframe\ndf_results.sort_values(by=\"rank_test_score\", axis=0, ascending=False, inplace=True) #sort rank values in decreasing order \ndf_results.dropna(inplace=True) #delete nan values \ndf_results = df_results[:50] #keep only top 50 models\npd.DataFrame.to_csv(df_results, \"sklearn_results/rand1_search.csv\")",
   "outputs": [],
   "execution_count": null
  },
  {
   "cell_type": "code",
   "metadata": {
    "cell_id": "00077-b8f53132-bb5a-4159-9708-b931d8979761",
    "deepnote_to_be_reexecuted": false,
    "execution_millis": 222,
    "execution_start": 1642976516561,
    "output_cleared": false,
    "source_hash": "597f1dd",
    "deepnote_cell_type": "code"
   },
   "source": "df_results = pd.read_csv(\"sklearn_results/rand1_search.csv\")\ndf_results.head()\n",
   "outputs": [
    {
     "output_type": "execute_result",
     "execution_count": 14,
     "data": {
      "application/vnd.deepnote.dataframe.v3+json": {
       "column_count": 33,
       "row_count": 5,
       "columns": [
        {
         "name": "Unnamed: 0",
         "dtype": "int64",
         "stats": {
          "unique_count": 5,
          "nan_count": 0,
          "min": "34",
          "max": "898",
          "histogram": [
           {
            "bin_start": 34,
            "bin_end": 120.4,
            "count": 1
           },
           {
            "bin_start": 120.4,
            "bin_end": 206.8,
            "count": 0
           },
           {
            "bin_start": 206.8,
            "bin_end": 293.20000000000005,
            "count": 0
           },
           {
            "bin_start": 293.20000000000005,
            "bin_end": 379.6,
            "count": 1
           },
           {
            "bin_start": 379.6,
            "bin_end": 466,
            "count": 0
           },
           {
            "bin_start": 466,
            "bin_end": 552.4000000000001,
            "count": 2
           },
           {
            "bin_start": 552.4000000000001,
            "bin_end": 638.8000000000001,
            "count": 0
           },
           {
            "bin_start": 638.8000000000001,
            "bin_end": 725.2,
            "count": 0
           },
           {
            "bin_start": 725.2,
            "bin_end": 811.6,
            "count": 0
           },
           {
            "bin_start": 811.6,
            "bin_end": 898,
            "count": 1
           }
          ]
         }
        },
        {
         "name": "mean_fit_time",
         "dtype": "float64",
         "stats": {
          "unique_count": 5,
          "nan_count": 0,
          "min": "0.5952043056488037",
          "max": "8.412137222290038",
          "histogram": [
           {
            "bin_start": 0.5952043056488037,
            "bin_end": 1.3768975973129272,
            "count": 3
           },
           {
            "bin_start": 1.3768975973129272,
            "bin_end": 2.1585908889770504,
            "count": 1
           },
           {
            "bin_start": 2.1585908889770504,
            "bin_end": 2.940284180641174,
            "count": 0
           },
           {
            "bin_start": 2.940284180641174,
            "bin_end": 3.721977472305298,
            "count": 0
           },
           {
            "bin_start": 3.721977472305298,
            "bin_end": 4.503670763969422,
            "count": 0
           },
           {
            "bin_start": 4.503670763969422,
            "bin_end": 5.285364055633544,
            "count": 0
           },
           {
            "bin_start": 5.285364055633544,
            "bin_end": 6.067057347297668,
            "count": 0
           },
           {
            "bin_start": 6.067057347297668,
            "bin_end": 6.848750638961792,
            "count": 0
           },
           {
            "bin_start": 6.848750638961792,
            "bin_end": 7.6304439306259155,
            "count": 0
           },
           {
            "bin_start": 7.6304439306259155,
            "bin_end": 8.412137222290038,
            "count": 1
           }
          ]
         }
        },
        {
         "name": "std_fit_time",
         "dtype": "float64",
         "stats": {
          "unique_count": 5,
          "nan_count": 0,
          "min": "0.0917168149605431",
          "max": "2.513097746897232",
          "histogram": [
           {
            "bin_start": 0.0917168149605431,
            "bin_end": 0.33385490815421204,
            "count": 4
           },
           {
            "bin_start": 0.33385490815421204,
            "bin_end": 0.5759930013478809,
            "count": 0
           },
           {
            "bin_start": 0.5759930013478809,
            "bin_end": 0.8181310945415498,
            "count": 0
           },
           {
            "bin_start": 0.8181310945415498,
            "bin_end": 1.0602691877352188,
            "count": 0
           },
           {
            "bin_start": 1.0602691877352188,
            "bin_end": 1.3024072809288878,
            "count": 0
           },
           {
            "bin_start": 1.3024072809288878,
            "bin_end": 1.5445453741225565,
            "count": 0
           },
           {
            "bin_start": 1.5445453741225565,
            "bin_end": 1.7866834673162255,
            "count": 0
           },
           {
            "bin_start": 1.7866834673162255,
            "bin_end": 2.0288215605098943,
            "count": 0
           },
           {
            "bin_start": 2.0288215605098943,
            "bin_end": 2.2709596537035632,
            "count": 0
           },
           {
            "bin_start": 2.2709596537035632,
            "bin_end": 2.513097746897232,
            "count": 1
           }
          ]
         }
        },
        {
         "name": "mean_score_time",
         "dtype": "float64",
         "stats": {
          "unique_count": 5,
          "nan_count": 0,
          "min": "0.0013600826263427",
          "max": "0.0069558858871459",
          "histogram": [
           {
            "bin_start": 0.0013600826263427,
            "bin_end": 0.0019196629524230202,
            "count": 1
           },
           {
            "bin_start": 0.0019196629524230202,
            "bin_end": 0.00247924327850334,
            "count": 0
           },
           {
            "bin_start": 0.00247924327850334,
            "bin_end": 0.0030388236045836604,
            "count": 0
           },
           {
            "bin_start": 0.0030388236045836604,
            "bin_end": 0.00359840393066398,
            "count": 0
           },
           {
            "bin_start": 0.00359840393066398,
            "bin_end": 0.0041579842567443,
            "count": 2
           },
           {
            "bin_start": 0.0041579842567443,
            "bin_end": 0.004717564582824621,
            "count": 0
           },
           {
            "bin_start": 0.004717564582824621,
            "bin_end": 0.00527714490890494,
            "count": 1
           },
           {
            "bin_start": 0.00527714490890494,
            "bin_end": 0.0058367252349852605,
            "count": 0
           },
           {
            "bin_start": 0.0058367252349852605,
            "bin_end": 0.006396305561065581,
            "count": 0
           },
           {
            "bin_start": 0.006396305561065581,
            "bin_end": 0.0069558858871459,
            "count": 1
           }
          ]
         }
        },
        {
         "name": "std_score_time",
         "dtype": "float64",
         "stats": {
          "unique_count": 5,
          "nan_count": 0,
          "min": "0.000450509140546",
          "max": "0.0067619006595841",
          "histogram": [
           {
            "bin_start": 0.000450509140546,
            "bin_end": 0.00108164829244981,
            "count": 1
           },
           {
            "bin_start": 0.00108164829244981,
            "bin_end": 0.00171278744435362,
            "count": 0
           },
           {
            "bin_start": 0.00171278744435362,
            "bin_end": 0.0023439265962574302,
            "count": 0
           },
           {
            "bin_start": 0.0023439265962574302,
            "bin_end": 0.0029750657481612403,
            "count": 0
           },
           {
            "bin_start": 0.0029750657481612403,
            "bin_end": 0.0036062049000650503,
            "count": 1
           },
           {
            "bin_start": 0.0036062049000650503,
            "bin_end": 0.00423734405196886,
            "count": 0
           },
           {
            "bin_start": 0.00423734405196886,
            "bin_end": 0.00486848320387267,
            "count": 0
           },
           {
            "bin_start": 0.00486848320387267,
            "bin_end": 0.00549962235577648,
            "count": 2
           },
           {
            "bin_start": 0.00549962235577648,
            "bin_end": 0.00613076150768029,
            "count": 0
           },
           {
            "bin_start": 0.00613076150768029,
            "bin_end": 0.0067619006595841,
            "count": 1
           }
          ]
         }
        },
        {
         "name": "param_activation",
         "dtype": "object",
         "stats": {
          "unique_count": 2,
          "nan_count": 0,
          "categories": [
           {
            "name": "logistic",
            "count": 3
           },
           {
            "name": "tanh",
            "count": 2
           }
          ]
         }
        },
        {
         "name": "param_alpha",
         "dtype": "float64",
         "stats": {
          "unique_count": 5,
          "nan_count": 0,
          "min": "0.0099803944593744",
          "max": "0.0978768380352627",
          "histogram": [
           {
            "bin_start": 0.0099803944593744,
            "bin_end": 0.01877003881696323,
            "count": 2
           },
           {
            "bin_start": 0.01877003881696323,
            "bin_end": 0.02755968317455206,
            "count": 0
           },
           {
            "bin_start": 0.02755968317455206,
            "bin_end": 0.03634932753214089,
            "count": 0
           },
           {
            "bin_start": 0.03634932753214089,
            "bin_end": 0.04513897188972972,
            "count": 0
           },
           {
            "bin_start": 0.04513897188972972,
            "bin_end": 0.05392861624731855,
            "count": 1
           },
           {
            "bin_start": 0.05392861624731855,
            "bin_end": 0.06271826060490737,
            "count": 0
           },
           {
            "bin_start": 0.06271826060490737,
            "bin_end": 0.0715079049624962,
            "count": 0
           },
           {
            "bin_start": 0.0715079049624962,
            "bin_end": 0.08029754932008504,
            "count": 1
           },
           {
            "bin_start": 0.08029754932008504,
            "bin_end": 0.08908719367767387,
            "count": 0
           },
           {
            "bin_start": 0.08908719367767387,
            "bin_end": 0.0978768380352627,
            "count": 1
           }
          ]
         }
        },
        {
         "name": "param_batch_size",
         "dtype": "int64",
         "stats": {
          "unique_count": 4,
          "nan_count": 0,
          "min": "11",
          "max": "617",
          "histogram": [
           {
            "bin_start": 11,
            "bin_end": 71.6,
            "count": 1
           },
           {
            "bin_start": 71.6,
            "bin_end": 132.2,
            "count": 0
           },
           {
            "bin_start": 132.2,
            "bin_end": 192.8,
            "count": 0
           },
           {
            "bin_start": 192.8,
            "bin_end": 253.4,
            "count": 1
           },
           {
            "bin_start": 253.4,
            "bin_end": 314,
            "count": 2
           },
           {
            "bin_start": 314,
            "bin_end": 374.6,
            "count": 0
           },
           {
            "bin_start": 374.6,
            "bin_end": 435.2,
            "count": 0
           },
           {
            "bin_start": 435.2,
            "bin_end": 495.8,
            "count": 0
           },
           {
            "bin_start": 495.8,
            "bin_end": 556.4,
            "count": 0
           },
           {
            "bin_start": 556.4,
            "bin_end": 617,
            "count": 1
           }
          ]
         }
        },
        {
         "name": "param_early_stopping",
         "dtype": "bool",
         "stats": {
          "unique_count": 1,
          "nan_count": 0,
          "categories": [
           {
            "name": "True",
            "count": 5
           }
          ]
         }
        },
        {
         "name": "param_hidden_layer_sizes",
         "dtype": "object",
         "stats": {
          "unique_count": 4,
          "nan_count": 0,
          "categories": [
           {
            "name": "(100,)",
            "count": 2
           },
           {
            "name": "(10, 10)",
            "count": 1
           },
           {
            "name": "2 others",
            "count": 2
           }
          ]
         }
        },
        {
         "name": "param_learning_rate",
         "dtype": "object",
         "stats": {
          "unique_count": 1,
          "nan_count": 0,
          "categories": [
           {
            "name": "constant",
            "count": 5
           }
          ]
         }
        },
        {
         "name": "param_learning_rate_init",
         "dtype": "float64",
         "stats": {
          "unique_count": 5,
          "nan_count": 0,
          "min": "0.0161511487031403",
          "max": "0.105086172704188",
          "histogram": [
           {
            "bin_start": 0.0161511487031403,
            "bin_end": 0.02504465110324507,
            "count": 1
           },
           {
            "bin_start": 0.02504465110324507,
            "bin_end": 0.03393815350334984,
            "count": 1
           },
           {
            "bin_start": 0.03393815350334984,
            "bin_end": 0.04283165590345461,
            "count": 0
           },
           {
            "bin_start": 0.04283165590345461,
            "bin_end": 0.05172515830355938,
            "count": 0
           },
           {
            "bin_start": 0.05172515830355938,
            "bin_end": 0.060618660703664146,
            "count": 0
           },
           {
            "bin_start": 0.060618660703664146,
            "bin_end": 0.06951216310376893,
            "count": 1
           },
           {
            "bin_start": 0.06951216310376893,
            "bin_end": 0.07840566550387369,
            "count": 1
           },
           {
            "bin_start": 0.07840566550387369,
            "bin_end": 0.08729916790397846,
            "count": 0
           },
           {
            "bin_start": 0.08729916790397846,
            "bin_end": 0.09619267030408322,
            "count": 0
           },
           {
            "bin_start": 0.09619267030408322,
            "bin_end": 0.105086172704188,
            "count": 1
           }
          ]
         }
        },
        {
         "name": "param_max_iter",
         "dtype": "int64",
         "stats": {
          "unique_count": 1,
          "nan_count": 0,
          "min": "1000",
          "max": "1000",
          "histogram": [
           {
            "bin_start": 999.5,
            "bin_end": 999.6,
            "count": 0
           },
           {
            "bin_start": 999.6,
            "bin_end": 999.7,
            "count": 0
           },
           {
            "bin_start": 999.7,
            "bin_end": 999.8,
            "count": 0
           },
           {
            "bin_start": 999.8,
            "bin_end": 999.9,
            "count": 0
           },
           {
            "bin_start": 999.9,
            "bin_end": 1000,
            "count": 0
           },
           {
            "bin_start": 1000,
            "bin_end": 1000.1,
            "count": 5
           },
           {
            "bin_start": 1000.1,
            "bin_end": 1000.2,
            "count": 0
           },
           {
            "bin_start": 1000.2,
            "bin_end": 1000.3,
            "count": 0
           },
           {
            "bin_start": 1000.3,
            "bin_end": 1000.4,
            "count": 0
           },
           {
            "bin_start": 1000.4,
            "bin_end": 1000.5,
            "count": 0
           }
          ]
         }
        },
        {
         "name": "param_momentum",
         "dtype": "float64",
         "stats": {
          "unique_count": 2,
          "nan_count": 0,
          "min": "0.8",
          "max": "0.85",
          "histogram": [
           {
            "bin_start": 0.8,
            "bin_end": 0.805,
            "count": 1
           },
           {
            "bin_start": 0.805,
            "bin_end": 0.81,
            "count": 0
           },
           {
            "bin_start": 0.81,
            "bin_end": 0.8150000000000001,
            "count": 0
           },
           {
            "bin_start": 0.8150000000000001,
            "bin_end": 0.8200000000000001,
            "count": 0
           },
           {
            "bin_start": 0.8200000000000001,
            "bin_end": 0.825,
            "count": 0
           },
           {
            "bin_start": 0.825,
            "bin_end": 0.83,
            "count": 0
           },
           {
            "bin_start": 0.83,
            "bin_end": 0.835,
            "count": 0
           },
           {
            "bin_start": 0.835,
            "bin_end": 0.84,
            "count": 0
           },
           {
            "bin_start": 0.84,
            "bin_end": 0.845,
            "count": 0
           },
           {
            "bin_start": 0.845,
            "bin_end": 0.85,
            "count": 4
           }
          ]
         }
        },
        {
         "name": "param_n_iter_no_change",
         "dtype": "int64",
         "stats": {
          "unique_count": 1,
          "nan_count": 0,
          "min": "25",
          "max": "25",
          "histogram": [
           {
            "bin_start": 24.5,
            "bin_end": 24.6,
            "count": 0
           },
           {
            "bin_start": 24.6,
            "bin_end": 24.7,
            "count": 0
           },
           {
            "bin_start": 24.7,
            "bin_end": 24.8,
            "count": 0
           },
           {
            "bin_start": 24.8,
            "bin_end": 24.9,
            "count": 0
           },
           {
            "bin_start": 24.9,
            "bin_end": 25,
            "count": 0
           },
           {
            "bin_start": 25,
            "bin_end": 25.1,
            "count": 5
           },
           {
            "bin_start": 25.1,
            "bin_end": 25.2,
            "count": 0
           },
           {
            "bin_start": 25.2,
            "bin_end": 25.3,
            "count": 0
           },
           {
            "bin_start": 25.3,
            "bin_end": 25.4,
            "count": 0
           },
           {
            "bin_start": 25.4,
            "bin_end": 25.5,
            "count": 0
           }
          ]
         }
        },
        {
         "name": "param_random_state",
         "dtype": "int64",
         "stats": {
          "unique_count": 1,
          "nan_count": 0,
          "min": "69",
          "max": "69",
          "histogram": [
           {
            "bin_start": 68.5,
            "bin_end": 68.6,
            "count": 0
           },
           {
            "bin_start": 68.6,
            "bin_end": 68.7,
            "count": 0
           },
           {
            "bin_start": 68.7,
            "bin_end": 68.8,
            "count": 0
           },
           {
            "bin_start": 68.8,
            "bin_end": 68.9,
            "count": 0
           },
           {
            "bin_start": 68.9,
            "bin_end": 69,
            "count": 0
           },
           {
            "bin_start": 69,
            "bin_end": 69.1,
            "count": 5
           },
           {
            "bin_start": 69.1,
            "bin_end": 69.2,
            "count": 0
           },
           {
            "bin_start": 69.2,
            "bin_end": 69.3,
            "count": 0
           },
           {
            "bin_start": 69.3,
            "bin_end": 69.4,
            "count": 0
           },
           {
            "bin_start": 69.4,
            "bin_end": 69.5,
            "count": 0
           }
          ]
         }
        },
        {
         "name": "param_solver",
         "dtype": "object",
         "stats": {
          "unique_count": 1,
          "nan_count": 0,
          "categories": [
           {
            "name": "sgd",
            "count": 5
           }
          ]
         }
        },
        {
         "name": "param_tol",
         "dtype": "float64",
         "stats": {
          "unique_count": 5,
          "nan_count": 0,
          "min": "0.0010177767784272",
          "max": "0.0010797304855892",
          "histogram": [
           {
            "bin_start": 0.0010177767784272,
            "bin_end": 0.0010239721491434,
            "count": 2
           },
           {
            "bin_start": 0.0010239721491434,
            "bin_end": 0.0010301675198596,
            "count": 1
           },
           {
            "bin_start": 0.0010301675198596,
            "bin_end": 0.0010363628905758,
            "count": 0
           },
           {
            "bin_start": 0.0010363628905758,
            "bin_end": 0.001042558261292,
            "count": 1
           },
           {
            "bin_start": 0.001042558261292,
            "bin_end": 0.0010487536320082,
            "count": 0
           },
           {
            "bin_start": 0.0010487536320082,
            "bin_end": 0.0010549490027244,
            "count": 0
           },
           {
            "bin_start": 0.0010549490027244,
            "bin_end": 0.0010611443734406,
            "count": 0
           },
           {
            "bin_start": 0.0010611443734406,
            "bin_end": 0.0010673397441568,
            "count": 0
           },
           {
            "bin_start": 0.0010673397441568,
            "bin_end": 0.001073535114873,
            "count": 0
           },
           {
            "bin_start": 0.001073535114873,
            "bin_end": 0.0010797304855892,
            "count": 1
           }
          ]
         }
        },
        {
         "name": "param_validation_fraction",
         "dtype": "float64",
         "stats": {
          "unique_count": 1,
          "nan_count": 0,
          "min": "0.2",
          "max": "0.2",
          "histogram": [
           {
            "bin_start": -0.3,
            "bin_end": -0.19999999999999998,
            "count": 0
           },
           {
            "bin_start": -0.19999999999999998,
            "bin_end": -0.09999999999999998,
            "count": 0
           },
           {
            "bin_start": -0.09999999999999998,
            "bin_end": 5.551115123125783e-17,
            "count": 0
           },
           {
            "bin_start": 5.551115123125783e-17,
            "bin_end": 0.10000000000000003,
            "count": 0
           },
           {
            "bin_start": 0.10000000000000003,
            "bin_end": 0.2,
            "count": 0
           },
           {
            "bin_start": 0.2,
            "bin_end": 0.3000000000000001,
            "count": 5
           },
           {
            "bin_start": 0.3000000000000001,
            "bin_end": 0.4000000000000001,
            "count": 0
           },
           {
            "bin_start": 0.4000000000000001,
            "bin_end": 0.5,
            "count": 0
           },
           {
            "bin_start": 0.5,
            "bin_end": 0.6000000000000001,
            "count": 0
           },
           {
            "bin_start": 0.6000000000000001,
            "bin_end": 0.7,
            "count": 0
           }
          ]
         }
        },
        {
         "name": "params",
         "dtype": "object",
         "stats": {
          "unique_count": 5,
          "nan_count": 0,
          "categories": [
           {
            "name": "{'activation': 'logistic', 'alpha': 0.09787683803526277, 'batch_size': 617, 'early_stopping': True, 'hidden_layer_sizes': (10, 10), 'learning_rate': 'constant', 'learning_rate_init': 0.10508617270418807, 'max_iter': 1000, 'momentum': 0.85, 'n_iter_no_change': 25, 'random_state': 69, 'solver': 'sgd', 'tol': 0.0010191286317139513, 'validation_fraction': 0.2}",
            "count": 1
           },
           {
            "name": "{'activation': 'tanh', 'alpha': 0.01021480673683034, 'batch_size': 207, 'early_stopping': True, 'hidden_layer_sizes': (100,), 'learning_rate': 'constant', 'learning_rate_init': 0.03061336886970939, 'max_iter': 1000, 'momentum': 0.85, 'n_iter_no_change': 25, 'random_state': 69, 'solver': 'sgd', 'tol': 0.0010797304855892987, 'validation_fraction': 0.2}",
            "count": 1
           },
           {
            "name": "3 others",
            "count": 3
           }
          ]
         }
        },
        {
         "name": "split0_test_score",
         "dtype": "float64",
         "stats": {
          "unique_count": 5,
          "nan_count": 0,
          "min": "1.0695466832742933",
          "max": "1.1672217671822462",
          "histogram": [
           {
            "bin_start": 1.0695466832742933,
            "bin_end": 1.0793141916650886,
            "count": 2
           },
           {
            "bin_start": 1.0793141916650886,
            "bin_end": 1.089081700055884,
            "count": 0
           },
           {
            "bin_start": 1.089081700055884,
            "bin_end": 1.0988492084466792,
            "count": 0
           },
           {
            "bin_start": 1.0988492084466792,
            "bin_end": 1.1086167168374745,
            "count": 1
           },
           {
            "bin_start": 1.1086167168374745,
            "bin_end": 1.1183842252282696,
            "count": 0
           },
           {
            "bin_start": 1.1183842252282696,
            "bin_end": 1.128151733619065,
            "count": 0
           },
           {
            "bin_start": 1.128151733619065,
            "bin_end": 1.1379192420098603,
            "count": 0
           },
           {
            "bin_start": 1.1379192420098603,
            "bin_end": 1.1476867504006556,
            "count": 0
           },
           {
            "bin_start": 1.1476867504006556,
            "bin_end": 1.157454258791451,
            "count": 1
           },
           {
            "bin_start": 1.157454258791451,
            "bin_end": 1.1672217671822462,
            "count": 1
           }
          ]
         }
        },
        {
         "name": "split1_test_score",
         "dtype": "float64",
         "stats": {
          "unique_count": 5,
          "nan_count": 0,
          "min": "1.0229726087503357",
          "max": "1.107530745472571",
          "histogram": [
           {
            "bin_start": 1.0229726087503357,
            "bin_end": 1.0314284224225592,
            "count": 1
           },
           {
            "bin_start": 1.0314284224225592,
            "bin_end": 1.0398842360947826,
            "count": 0
           },
           {
            "bin_start": 1.0398842360947826,
            "bin_end": 1.0483400497670063,
            "count": 0
           },
           {
            "bin_start": 1.0483400497670063,
            "bin_end": 1.0567958634392298,
            "count": 1
           },
           {
            "bin_start": 1.0567958634392298,
            "bin_end": 1.0652516771114533,
            "count": 0
           },
           {
            "bin_start": 1.0652516771114533,
            "bin_end": 1.0737074907836768,
            "count": 0
           },
           {
            "bin_start": 1.0737074907836768,
            "bin_end": 1.0821633044559003,
            "count": 1
           },
           {
            "bin_start": 1.0821633044559003,
            "bin_end": 1.090619118128124,
            "count": 0
           },
           {
            "bin_start": 1.090619118128124,
            "bin_end": 1.0990749318003474,
            "count": 0
           },
           {
            "bin_start": 1.0990749318003474,
            "bin_end": 1.107530745472571,
            "count": 2
           }
          ]
         }
        },
        {
         "name": "split2_test_score",
         "dtype": "float64",
         "stats": {
          "unique_count": 5,
          "nan_count": 0,
          "min": "1.1435153979869397",
          "max": "1.220449802671388",
          "histogram": [
           {
            "bin_start": 1.1435153979869397,
            "bin_end": 1.1512088384553845,
            "count": 1
           },
           {
            "bin_start": 1.1512088384553845,
            "bin_end": 1.1589022789238292,
            "count": 0
           },
           {
            "bin_start": 1.1589022789238292,
            "bin_end": 1.1665957193922742,
            "count": 1
           },
           {
            "bin_start": 1.1665957193922742,
            "bin_end": 1.174289159860719,
            "count": 0
           },
           {
            "bin_start": 1.174289159860719,
            "bin_end": 1.1819826003291638,
            "count": 1
           },
           {
            "bin_start": 1.1819826003291638,
            "bin_end": 1.1896760407976086,
            "count": 0
           },
           {
            "bin_start": 1.1896760407976086,
            "bin_end": 1.1973694812660534,
            "count": 0
           },
           {
            "bin_start": 1.1973694812660534,
            "bin_end": 1.2050629217344984,
            "count": 0
           },
           {
            "bin_start": 1.2050629217344984,
            "bin_end": 1.2127563622029431,
            "count": 1
           },
           {
            "bin_start": 1.2127563622029431,
            "bin_end": 1.220449802671388,
            "count": 1
           }
          ]
         }
        },
        {
         "name": "split3_test_score",
         "dtype": "float64",
         "stats": {
          "unique_count": 5,
          "nan_count": 0,
          "min": "1.1879622953107938",
          "max": "1.3108430126157995",
          "histogram": [
           {
            "bin_start": 1.1879622953107938,
            "bin_end": 1.2002503670412943,
            "count": 1
           },
           {
            "bin_start": 1.2002503670412943,
            "bin_end": 1.212538438771795,
            "count": 0
           },
           {
            "bin_start": 1.212538438771795,
            "bin_end": 1.2248265105022955,
            "count": 0
           },
           {
            "bin_start": 1.2248265105022955,
            "bin_end": 1.237114582232796,
            "count": 0
           },
           {
            "bin_start": 1.237114582232796,
            "bin_end": 1.2494026539632967,
            "count": 1
           },
           {
            "bin_start": 1.2494026539632967,
            "bin_end": 1.2616907256937973,
            "count": 0
           },
           {
            "bin_start": 1.2616907256937973,
            "bin_end": 1.2739787974242978,
            "count": 1
           },
           {
            "bin_start": 1.2739787974242978,
            "bin_end": 1.2862668691547983,
            "count": 1
           },
           {
            "bin_start": 1.2862668691547983,
            "bin_end": 1.298554940885299,
            "count": 0
           },
           {
            "bin_start": 1.298554940885299,
            "bin_end": 1.3108430126157995,
            "count": 1
           }
          ]
         }
        },
        {
         "name": "split4_test_score",
         "dtype": "float64",
         "stats": {
          "unique_count": 5,
          "nan_count": 0,
          "min": "1.1916039242865435",
          "max": "1.2607093900013342",
          "histogram": [
           {
            "bin_start": 1.1916039242865435,
            "bin_end": 1.1985144708580227,
            "count": 1
           },
           {
            "bin_start": 1.1985144708580227,
            "bin_end": 1.2054250174295016,
            "count": 0
           },
           {
            "bin_start": 1.2054250174295016,
            "bin_end": 1.2123355640009807,
            "count": 0
           },
           {
            "bin_start": 1.2123355640009807,
            "bin_end": 1.2192461105724597,
            "count": 0
           },
           {
            "bin_start": 1.2192461105724597,
            "bin_end": 1.2261566571439388,
            "count": 1
           },
           {
            "bin_start": 1.2261566571439388,
            "bin_end": 1.233067203715418,
            "count": 1
           },
           {
            "bin_start": 1.233067203715418,
            "bin_end": 1.239977750286897,
            "count": 0
           },
           {
            "bin_start": 1.239977750286897,
            "bin_end": 1.246888296858376,
            "count": 1
           },
           {
            "bin_start": 1.246888296858376,
            "bin_end": 1.253798843429855,
            "count": 0
           },
           {
            "bin_start": 1.253798843429855,
            "bin_end": 1.2607093900013342,
            "count": 1
           }
          ]
         }
        },
        {
         "name": "split5_test_score",
         "dtype": "float64",
         "stats": {
          "unique_count": 5,
          "nan_count": 0,
          "min": "1.214154414220678",
          "max": "1.2928791807703",
          "histogram": [
           {
            "bin_start": 1.214154414220678,
            "bin_end": 1.2220268908756402,
            "count": 1
           },
           {
            "bin_start": 1.2220268908756402,
            "bin_end": 1.2298993675306022,
            "count": 0
           },
           {
            "bin_start": 1.2298993675306022,
            "bin_end": 1.2377718441855645,
            "count": 1
           },
           {
            "bin_start": 1.2377718441855645,
            "bin_end": 1.2456443208405268,
            "count": 1
           },
           {
            "bin_start": 1.2456443208405268,
            "bin_end": 1.253516797495489,
            "count": 1
           },
           {
            "bin_start": 1.253516797495489,
            "bin_end": 1.261389274150451,
            "count": 0
           },
           {
            "bin_start": 1.261389274150451,
            "bin_end": 1.2692617508054134,
            "count": 0
           },
           {
            "bin_start": 1.2692617508054134,
            "bin_end": 1.2771342274603756,
            "count": 0
           },
           {
            "bin_start": 1.2771342274603756,
            "bin_end": 1.2850067041153377,
            "count": 0
           },
           {
            "bin_start": 1.2850067041153377,
            "bin_end": 1.2928791807703,
            "count": 1
           }
          ]
         }
        },
        {
         "name": "split6_test_score",
         "dtype": "float64",
         "stats": {
          "unique_count": 5,
          "nan_count": 0,
          "min": "1.1362417183428155",
          "max": "1.18303869160198",
          "histogram": [
           {
            "bin_start": 1.1362417183428155,
            "bin_end": 1.140921415668732,
            "count": 1
           },
           {
            "bin_start": 1.140921415668732,
            "bin_end": 1.1456011129946484,
            "count": 1
           },
           {
            "bin_start": 1.1456011129946484,
            "bin_end": 1.1502808103205648,
            "count": 1
           },
           {
            "bin_start": 1.1502808103205648,
            "bin_end": 1.1549605076464813,
            "count": 0
           },
           {
            "bin_start": 1.1549605076464813,
            "bin_end": 1.1596402049723977,
            "count": 0
           },
           {
            "bin_start": 1.1596402049723977,
            "bin_end": 1.1643199022983142,
            "count": 0
           },
           {
            "bin_start": 1.1643199022983142,
            "bin_end": 1.1689995996242306,
            "count": 0
           },
           {
            "bin_start": 1.1689995996242306,
            "bin_end": 1.173679296950147,
            "count": 0
           },
           {
            "bin_start": 1.173679296950147,
            "bin_end": 1.1783589942760635,
            "count": 1
           },
           {
            "bin_start": 1.1783589942760635,
            "bin_end": 1.18303869160198,
            "count": 1
           }
          ]
         }
        },
        {
         "name": "split7_test_score",
         "dtype": "float64",
         "stats": {
          "unique_count": 5,
          "nan_count": 0,
          "min": "1.0463688573796568",
          "max": "1.135889823923424",
          "histogram": [
           {
            "bin_start": 1.0463688573796568,
            "bin_end": 1.0553209540340336,
            "count": 1
           },
           {
            "bin_start": 1.0553209540340336,
            "bin_end": 1.0642730506884102,
            "count": 0
           },
           {
            "bin_start": 1.0642730506884102,
            "bin_end": 1.073225147342787,
            "count": 0
           },
           {
            "bin_start": 1.073225147342787,
            "bin_end": 1.0821772439971638,
            "count": 1
           },
           {
            "bin_start": 1.0821772439971638,
            "bin_end": 1.0911293406515403,
            "count": 0
           },
           {
            "bin_start": 1.0911293406515403,
            "bin_end": 1.1000814373059171,
            "count": 0
           },
           {
            "bin_start": 1.1000814373059171,
            "bin_end": 1.109033533960294,
            "count": 1
           },
           {
            "bin_start": 1.109033533960294,
            "bin_end": 1.1179856306146707,
            "count": 0
           },
           {
            "bin_start": 1.1179856306146707,
            "bin_end": 1.1269377272690473,
            "count": 1
           },
           {
            "bin_start": 1.1269377272690473,
            "bin_end": 1.135889823923424,
            "count": 1
           }
          ]
         }
        },
        {
         "name": "split8_test_score",
         "dtype": "float64",
         "stats": {
          "unique_count": 5,
          "nan_count": 0,
          "min": "1.1898527980530489",
          "max": "1.2703484068470887",
          "histogram": [
           {
            "bin_start": 1.1898527980530489,
            "bin_end": 1.197902358932453,
            "count": 1
           },
           {
            "bin_start": 1.197902358932453,
            "bin_end": 1.205951919811857,
            "count": 0
           },
           {
            "bin_start": 1.205951919811857,
            "bin_end": 1.214001480691261,
            "count": 1
           },
           {
            "bin_start": 1.214001480691261,
            "bin_end": 1.222051041570665,
            "count": 1
           },
           {
            "bin_start": 1.222051041570665,
            "bin_end": 1.2301006024500687,
            "count": 0
           },
           {
            "bin_start": 1.2301006024500687,
            "bin_end": 1.2381501633294727,
            "count": 0
           },
           {
            "bin_start": 1.2381501633294727,
            "bin_end": 1.2461997242088767,
            "count": 0
           },
           {
            "bin_start": 1.2461997242088767,
            "bin_end": 1.2542492850882807,
            "count": 1
           },
           {
            "bin_start": 1.2542492850882807,
            "bin_end": 1.2622988459676847,
            "count": 0
           },
           {
            "bin_start": 1.2622988459676847,
            "bin_end": 1.2703484068470887,
            "count": 1
           }
          ]
         }
        },
        {
         "name": "split9_test_score",
         "dtype": "float64",
         "stats": {
          "unique_count": 5,
          "nan_count": 0,
          "min": "1.0188909320892623",
          "max": "1.1953488753910373",
          "histogram": [
           {
            "bin_start": 1.0188909320892623,
            "bin_end": 1.0365367264194398,
            "count": 1
           },
           {
            "bin_start": 1.0365367264194398,
            "bin_end": 1.0541825207496174,
            "count": 0
           },
           {
            "bin_start": 1.0541825207496174,
            "bin_end": 1.0718283150797947,
            "count": 0
           },
           {
            "bin_start": 1.0718283150797947,
            "bin_end": 1.0894741094099722,
            "count": 3
           },
           {
            "bin_start": 1.0894741094099722,
            "bin_end": 1.1071199037401498,
            "count": 0
           },
           {
            "bin_start": 1.1071199037401498,
            "bin_end": 1.1247656980703273,
            "count": 0
           },
           {
            "bin_start": 1.1247656980703273,
            "bin_end": 1.1424114924005049,
            "count": 0
           },
           {
            "bin_start": 1.1424114924005049,
            "bin_end": 1.1600572867306822,
            "count": 0
           },
           {
            "bin_start": 1.1600572867306822,
            "bin_end": 1.1777030810608597,
            "count": 0
           },
           {
            "bin_start": 1.1777030810608597,
            "bin_end": 1.1953488753910373,
            "count": 1
           }
          ]
         }
        },
        {
         "name": "mean_test_score",
         "dtype": "float64",
         "stats": {
          "unique_count": 5,
          "nan_count": 0,
          "min": "1.159245340891908",
          "max": "1.173294626129863",
          "histogram": [
           {
            "bin_start": 1.159245340891908,
            "bin_end": 1.1606502694157035,
            "count": 1
           },
           {
            "bin_start": 1.1606502694157035,
            "bin_end": 1.1620551979394989,
            "count": 0
           },
           {
            "bin_start": 1.1620551979394989,
            "bin_end": 1.1634601264632944,
            "count": 1
           },
           {
            "bin_start": 1.1634601264632944,
            "bin_end": 1.1648650549870898,
            "count": 0
           },
           {
            "bin_start": 1.1648650549870898,
            "bin_end": 1.1662699835108854,
            "count": 0
           },
           {
            "bin_start": 1.1662699835108854,
            "bin_end": 1.167674912034681,
            "count": 0
           },
           {
            "bin_start": 1.167674912034681,
            "bin_end": 1.1690798405584764,
            "count": 0
           },
           {
            "bin_start": 1.1690798405584764,
            "bin_end": 1.170484769082272,
            "count": 1
           },
           {
            "bin_start": 1.170484769082272,
            "bin_end": 1.1718896976060673,
            "count": 0
           },
           {
            "bin_start": 1.1718896976060673,
            "bin_end": 1.173294626129863,
            "count": 2
           }
          ]
         }
        },
        {
         "name": "std_test_score",
         "dtype": "float64",
         "stats": {
          "unique_count": 5,
          "nan_count": 0,
          "min": "0.06657696114658",
          "max": "0.0865023871864553",
          "histogram": [
           {
            "bin_start": 0.06657696114658,
            "bin_end": 0.06856950375056753,
            "count": 1
           },
           {
            "bin_start": 0.06856950375056753,
            "bin_end": 0.07056204635455506,
            "count": 1
           },
           {
            "bin_start": 0.07056204635455506,
            "bin_end": 0.0725545889585426,
            "count": 1
           },
           {
            "bin_start": 0.0725545889585426,
            "bin_end": 0.07454713156253012,
            "count": 0
           },
           {
            "bin_start": 0.07454713156253012,
            "bin_end": 0.07653967416651765,
            "count": 0
           },
           {
            "bin_start": 0.07653967416651765,
            "bin_end": 0.07853221677050518,
            "count": 0
           },
           {
            "bin_start": 0.07853221677050518,
            "bin_end": 0.0805247593744927,
            "count": 1
           },
           {
            "bin_start": 0.0805247593744927,
            "bin_end": 0.08251730197848023,
            "count": 0
           },
           {
            "bin_start": 0.08251730197848023,
            "bin_end": 0.08450984458246777,
            "count": 0
           },
           {
            "bin_start": 0.08450984458246777,
            "bin_end": 0.0865023871864553,
            "count": 1
           }
          ]
         }
        },
        {
         "name": "rank_test_score",
         "dtype": "int64",
         "stats": {
          "unique_count": 5,
          "nan_count": 0,
          "min": "704",
          "max": "708",
          "histogram": [
           {
            "bin_start": 704,
            "bin_end": 704.4,
            "count": 1
           },
           {
            "bin_start": 704.4,
            "bin_end": 704.8,
            "count": 0
           },
           {
            "bin_start": 704.8,
            "bin_end": 705.2,
            "count": 1
           },
           {
            "bin_start": 705.2,
            "bin_end": 705.6,
            "count": 0
           },
           {
            "bin_start": 705.6,
            "bin_end": 706,
            "count": 0
           },
           {
            "bin_start": 706,
            "bin_end": 706.4,
            "count": 1
           },
           {
            "bin_start": 706.4,
            "bin_end": 706.8,
            "count": 0
           },
           {
            "bin_start": 706.8,
            "bin_end": 707.2,
            "count": 1
           },
           {
            "bin_start": 707.2,
            "bin_end": 707.6,
            "count": 0
           },
           {
            "bin_start": 707.6,
            "bin_end": 708,
            "count": 1
           }
          ]
         }
        },
        {
         "name": "_deepnote_index_column",
         "dtype": "int64"
        }
       ],
       "rows": [
        {
         "Unnamed: 0": 34,
         "mean_fit_time": 0.5952043056488037,
         "std_fit_time": 0.0917168149605431,
         "mean_score_time": 0.0013600826263427,
         "std_score_time": 0.000450509140546,
         "param_activation": "logistic",
         "param_alpha": 0.0978768380352627,
         "param_batch_size": 617,
         "param_early_stopping": true,
         "param_hidden_layer_sizes": "(10, 10)",
         "param_learning_rate": "constant",
         "param_learning_rate_init": 0.105086172704188,
         "param_max_iter": 1000,
         "param_momentum": 0.85,
         "param_n_iter_no_change": 25,
         "param_random_state": 69,
         "param_solver": "sgd",
         "param_tol": 0.0010191286317139,
         "param_validation_fraction": 0.2,
         "params": "{'activation': 'logistic', 'alpha': 0.09787683803526277, 'batch_size': 617, 'early_stopping': True,…",
         "split0_test_score": 1.0743459675141234,
         "split1_test_score": 1.0525126657959316,
         "split2_test_score": 1.220449802671388,
         "split3_test_score": 1.1879622953107938,
         "split4_test_score": 1.2435137482269705,
         "split5_test_score": 1.2483550253823172,
         "split6_test_score": 1.175462354130436,
         "split7_test_score": 1.1037525458142148,
         "split8_test_score": 1.2098657725806792,
         "split9_test_score": 1.0762332314922265,
         "mean_test_score": 1.159245340891908,
         "std_test_score": 0.0714198835940804,
         "rank_test_score": 708,
         "_deepnote_index_column": 0
        },
        {
         "Unnamed: 0": 376,
         "mean_fit_time": 1.9592424154281616,
         "std_fit_time": 0.3323577423272463,
         "mean_score_time": 0.0041357517242431,
         "std_score_time": 0.0052159030298579,
         "param_activation": "tanh",
         "param_alpha": 0.0102148067368303,
         "param_batch_size": 207,
         "param_early_stopping": true,
         "param_hidden_layer_sizes": "(100,)",
         "param_learning_rate": "constant",
         "param_learning_rate_init": 0.0306133688697093,
         "param_max_iter": 1000,
         "param_momentum": 0.85,
         "param_n_iter_no_change": 25,
         "param_random_state": 69,
         "param_solver": "sgd",
         "param_tol": 0.0010797304855892,
         "param_validation_fraction": 0.2,
         "params": "{'activation': 'tanh', 'alpha': 0.01021480673683034, 'batch_size': 207, 'early_stopping': True, 'hi…",
         "split0_test_score": 1.1555235840729443,
         "split1_test_score": 1.078909392030568,
         "split2_test_score": 1.1773575619398884,
         "split3_test_score": 1.281780340451681,
         "split4_test_score": 1.231567340808085,
         "split5_test_score": 1.2406100400659617,
         "split6_test_score": 1.1478278370085928,
         "split7_test_score": 1.0793527980140094,
         "split8_test_score": 1.216299844348642,
         "split9_test_score": 1.0188909320892623,
         "mean_test_score": 1.1628119670829633,
         "std_test_score": 0.0793736900860891,
         "rank_test_score": 707,
         "_deepnote_index_column": 1
        },
        {
         "Unnamed: 0": 479,
         "mean_fit_time": 8.412137222290038,
         "std_fit_time": 2.513097746897232,
         "mean_score_time": 0.0036446094512939,
         "std_score_time": 0.0035607548914792,
         "param_activation": "tanh",
         "param_alpha": 0.0099803944593744,
         "param_batch_size": 11,
         "param_early_stopping": true,
         "param_hidden_layer_sizes": "(50, 50)",
         "param_learning_rate": "constant",
         "param_learning_rate_init": 0.0161511487031403,
         "param_max_iter": 1000,
         "param_momentum": 0.8,
         "param_n_iter_no_change": 25,
         "param_random_state": 69,
         "param_solver": "sgd",
         "param_tol": 0.0010177767784272,
         "param_validation_fraction": 0.2,
         "params": "{'activation': 'tanh', 'alpha': 0.009980394459374497, 'batch_size': 11, 'early_stopping': True, 'hi…",
         "split0_test_score": 1.1672217671822462,
         "split1_test_score": 1.107530745472571,
         "split2_test_score": 1.1435153979869397,
         "split3_test_score": 1.3108430126157995,
         "split4_test_score": 1.1916039242865435,
         "split5_test_score": 1.214154414220678,
         "split6_test_score": 1.1362417183428155,
         "split7_test_score": 1.0463688573796568,
         "split8_test_score": 1.1898527980530489,
         "split9_test_score": 1.1953488753910373,
         "mean_test_score": 1.1702681510931336,
         "std_test_score": 0.06657696114658,
         "rank_test_score": 706,
         "_deepnote_index_column": 2
        },
        {
         "Unnamed: 0": 489,
         "mean_fit_time": 0.8673222780227661,
         "std_fit_time": 0.1466754897312534,
         "mean_score_time": 0.0048569202423095,
         "std_score_time": 0.0054260408516053,
         "param_activation": "logistic",
         "param_alpha": 0.0716875587855579,
         "param_batch_size": 266,
         "param_early_stopping": true,
         "param_hidden_layer_sizes": "(25, 25)",
         "param_learning_rate": "constant",
         "param_learning_rate_init": 0.0741036225934592,
         "param_max_iter": 1000,
         "param_momentum": 0.85,
         "param_n_iter_no_change": 25,
         "param_random_state": 69,
         "param_solver": "sgd",
         "param_tol": 0.001024238114112,
         "param_validation_fraction": 0.2,
         "params": "{'activation': 'logistic', 'alpha': 0.0716875587855579, 'batch_size': 266, 'early_stopping': True, …",
         "split0_test_score": 1.0695466832742933,
         "split1_test_score": 1.0229726087503357,
         "split2_test_score": 1.2078050561435536,
         "split3_test_score": 1.24038185690804,
         "split4_test_score": 1.2205615654079025,
         "split5_test_score": 1.2928791807703,
         "split6_test_score": 1.18303869160198,
         "split7_test_score": 1.135889823923424,
         "split8_test_score": 1.2703484068470887,
         "split9_test_score": 1.0820141532446543,
         "mean_test_score": 1.1725438026871573,
         "std_test_score": 0.0865023871864553,
         "rank_test_score": 705,
         "_deepnote_index_column": 3
        },
        {
         "Unnamed: 0": 898,
         "mean_fit_time": 1.0347725868225095,
         "std_fit_time": 0.1913809411124748,
         "mean_score_time": 0.0069558858871459,
         "std_score_time": 0.0067619006595841,
         "param_activation": "logistic",
         "param_alpha": 0.0484953479704785,
         "param_batch_size": 266,
         "param_early_stopping": true,
         "param_hidden_layer_sizes": "(100,)",
         "param_learning_rate": "constant",
         "param_learning_rate_init": 0.0629757201296331,
         "param_max_iter": 1000,
         "param_momentum": 0.85,
         "param_n_iter_no_change": 25,
         "param_random_state": 69,
         "param_solver": "sgd",
         "param_tol": 0.00104035886268,
         "param_validation_fraction": 0.2,
         "params": "{'activation': 'logistic', 'alpha': 0.04849534797047857, 'batch_size': 266, 'early_stopping': True,…",
         "split0_test_score": 1.1067996852185906,
         "split1_test_score": 1.099190104496626,
         "split2_test_score": 1.1665145696958266,
         "split3_test_score": 1.2632320033062503,
         "split4_test_score": 1.2607093900013342,
         "split5_test_score": 1.237733917902789,
         "split6_test_score": 1.1449941792945022,
         "split7_test_score": 1.1197544645282156,
         "split8_test_score": 1.2496286357580693,
         "split9_test_score": 1.0843893110964224,
         "mean_test_score": 1.173294626129863,
         "std_test_score": 0.0687313769695678,
         "rank_test_score": 704,
         "_deepnote_index_column": 4
        }
       ]
      },
      "text/plain": "   Unnamed: 0  mean_fit_time  std_fit_time  mean_score_time  std_score_time  \\\n0          34       0.595204      0.091717         0.001360        0.000451   \n1         376       1.959242      0.332358         0.004136        0.005216   \n2         479       8.412137      2.513098         0.003645        0.003561   \n3         489       0.867322      0.146675         0.004857        0.005426   \n4         898       1.034773      0.191381         0.006956        0.006762   \n\n  param_activation  param_alpha  param_batch_size  param_early_stopping  \\\n0         logistic     0.097877               617                  True   \n1             tanh     0.010215               207                  True   \n2             tanh     0.009980                11                  True   \n3         logistic     0.071688               266                  True   \n4         logistic     0.048495               266                  True   \n\n  param_hidden_layer_sizes  ... split3_test_score  split4_test_score  \\\n0                 (10, 10)  ...          1.187962           1.243514   \n1                   (100,)  ...          1.281780           1.231567   \n2                 (50, 50)  ...          1.310843           1.191604   \n3                 (25, 25)  ...          1.240382           1.220562   \n4                   (100,)  ...          1.263232           1.260709   \n\n   split5_test_score  split6_test_score  split7_test_score  split8_test_score  \\\n0           1.248355           1.175462           1.103753           1.209866   \n1           1.240610           1.147828           1.079353           1.216300   \n2           1.214154           1.136242           1.046369           1.189853   \n3           1.292879           1.183039           1.135890           1.270348   \n4           1.237734           1.144994           1.119754           1.249629   \n\n  split9_test_score  mean_test_score  std_test_score rank_test_score  \n0          1.076233         1.159245        0.071420             708  \n1          1.018891         1.162812        0.079374             707  \n2          1.195349         1.170268        0.066577             706  \n3          1.082014         1.172544        0.086502             705  \n4          1.084389         1.173295        0.068731             704  \n\n[5 rows x 33 columns]",
      "text/html": "<div>\n<style scoped>\n    .dataframe tbody tr th:only-of-type {\n        vertical-align: middle;\n    }\n\n    .dataframe tbody tr th {\n        vertical-align: top;\n    }\n\n    .dataframe thead th {\n        text-align: right;\n    }\n</style>\n<table border=\"1\" class=\"dataframe\">\n  <thead>\n    <tr style=\"text-align: right;\">\n      <th></th>\n      <th>Unnamed: 0</th>\n      <th>mean_fit_time</th>\n      <th>std_fit_time</th>\n      <th>mean_score_time</th>\n      <th>std_score_time</th>\n      <th>param_activation</th>\n      <th>param_alpha</th>\n      <th>param_batch_size</th>\n      <th>param_early_stopping</th>\n      <th>param_hidden_layer_sizes</th>\n      <th>...</th>\n      <th>split3_test_score</th>\n      <th>split4_test_score</th>\n      <th>split5_test_score</th>\n      <th>split6_test_score</th>\n      <th>split7_test_score</th>\n      <th>split8_test_score</th>\n      <th>split9_test_score</th>\n      <th>mean_test_score</th>\n      <th>std_test_score</th>\n      <th>rank_test_score</th>\n    </tr>\n  </thead>\n  <tbody>\n    <tr>\n      <th>0</th>\n      <td>34</td>\n      <td>0.595204</td>\n      <td>0.091717</td>\n      <td>0.001360</td>\n      <td>0.000451</td>\n      <td>logistic</td>\n      <td>0.097877</td>\n      <td>617</td>\n      <td>True</td>\n      <td>(10, 10)</td>\n      <td>...</td>\n      <td>1.187962</td>\n      <td>1.243514</td>\n      <td>1.248355</td>\n      <td>1.175462</td>\n      <td>1.103753</td>\n      <td>1.209866</td>\n      <td>1.076233</td>\n      <td>1.159245</td>\n      <td>0.071420</td>\n      <td>708</td>\n    </tr>\n    <tr>\n      <th>1</th>\n      <td>376</td>\n      <td>1.959242</td>\n      <td>0.332358</td>\n      <td>0.004136</td>\n      <td>0.005216</td>\n      <td>tanh</td>\n      <td>0.010215</td>\n      <td>207</td>\n      <td>True</td>\n      <td>(100,)</td>\n      <td>...</td>\n      <td>1.281780</td>\n      <td>1.231567</td>\n      <td>1.240610</td>\n      <td>1.147828</td>\n      <td>1.079353</td>\n      <td>1.216300</td>\n      <td>1.018891</td>\n      <td>1.162812</td>\n      <td>0.079374</td>\n      <td>707</td>\n    </tr>\n    <tr>\n      <th>2</th>\n      <td>479</td>\n      <td>8.412137</td>\n      <td>2.513098</td>\n      <td>0.003645</td>\n      <td>0.003561</td>\n      <td>tanh</td>\n      <td>0.009980</td>\n      <td>11</td>\n      <td>True</td>\n      <td>(50, 50)</td>\n      <td>...</td>\n      <td>1.310843</td>\n      <td>1.191604</td>\n      <td>1.214154</td>\n      <td>1.136242</td>\n      <td>1.046369</td>\n      <td>1.189853</td>\n      <td>1.195349</td>\n      <td>1.170268</td>\n      <td>0.066577</td>\n      <td>706</td>\n    </tr>\n    <tr>\n      <th>3</th>\n      <td>489</td>\n      <td>0.867322</td>\n      <td>0.146675</td>\n      <td>0.004857</td>\n      <td>0.005426</td>\n      <td>logistic</td>\n      <td>0.071688</td>\n      <td>266</td>\n      <td>True</td>\n      <td>(25, 25)</td>\n      <td>...</td>\n      <td>1.240382</td>\n      <td>1.220562</td>\n      <td>1.292879</td>\n      <td>1.183039</td>\n      <td>1.135890</td>\n      <td>1.270348</td>\n      <td>1.082014</td>\n      <td>1.172544</td>\n      <td>0.086502</td>\n      <td>705</td>\n    </tr>\n    <tr>\n      <th>4</th>\n      <td>898</td>\n      <td>1.034773</td>\n      <td>0.191381</td>\n      <td>0.006956</td>\n      <td>0.006762</td>\n      <td>logistic</td>\n      <td>0.048495</td>\n      <td>266</td>\n      <td>True</td>\n      <td>(100,)</td>\n      <td>...</td>\n      <td>1.263232</td>\n      <td>1.260709</td>\n      <td>1.237734</td>\n      <td>1.144994</td>\n      <td>1.119754</td>\n      <td>1.249629</td>\n      <td>1.084389</td>\n      <td>1.173295</td>\n      <td>0.068731</td>\n      <td>704</td>\n    </tr>\n  </tbody>\n</table>\n<p>5 rows × 33 columns</p>\n</div>"
     },
     "metadata": {}
    }
   ],
   "execution_count": null
  },
  {
   "cell_type": "code",
   "metadata": {
    "cell_id": "00078-2a895e47-b23e-4146-9a87-6d353021b6d6",
    "deepnote_to_be_reexecuted": false,
    "execution_millis": 352398,
    "execution_start": 1642976516704,
    "output_cleared": false,
    "source_hash": "9dd11431",
    "tags": [],
    "deepnote_cell_type": "code"
   },
   "source": "#get the best params for the grid search (cannot use rand_gs.best_estimator directly since it will yield the worst estimator based on MEE)\nbest_params = df_results['params'][0]\nprint(f\"Mean error on the {k}-folds (MEE) on best model: {df_results['mean_test_score'][0]}\\n\")\nprint(f\"Best params: {best_params}\")",
   "outputs": [
    {
     "name": "stdout",
     "text": "Mean error on the 10-folds (MEE) on best model: 1.159245340891908\n\nBest params: {'activation': 'logistic', 'alpha': 0.09787683803526277, 'batch_size': 617, 'early_stopping': True, 'hidden_layer_sizes': (10, 10), 'learning_rate': 'constant', 'learning_rate_init': 0.10508617270418807, 'max_iter': 1000, 'momentum': 0.85, 'n_iter_no_change': 25, 'random_state': 69, 'solver': 'sgd', 'tol': 0.0010191286317139513, 'validation_fraction': 0.2}\n",
     "output_type": "stream"
    }
   ],
   "execution_count": null
  },
  {
   "cell_type": "code",
   "metadata": {
    "cell_id": "00079-ed4a64e6-72fa-4843-be42-854bb434b60a",
    "deepnote_to_be_reexecuted": false,
    "execution_millis": 56,
    "execution_start": 1642976516727,
    "output_cleared": true,
    "source_hash": "67a41554",
    "tags": [],
    "deepnote_cell_type": "code"
   },
   "source": "@dataclass\nclass GridSearchRanges:\n    '''Class of keeping track of the min and max values for the hyperparameters tuning'''\n    \n    hidden_range = []\n    min_lr_init = 0\n    max_lr_init = 0\n    min_alpha = 0\n    max_alpha = 0\n    min_bs = 0\n    max_bs = 0\n    n_iter_no_change = []\n    min_tol = 0\n    max_tol = 0\n    min_momentum = 0\n    max_momentum = 0\n    \n    def set_ranges(self):\n\n        self.hidden_range = np.unique(df_results['param_hidden_layer_sizes'])\n        self.hidden_range = self.hidden_range.ravel() #convert to array\n        print(self.hidden_range)\n\n        self.min_lr_init = np.min(df_results['param_learning_rate_init'])\n        self.max_lr_init = np.max(df_results['param_learning_rate_init'])\n        print(f\"LR: [{self.min_lr_init}, {self.max_lr_init}]\")\n\n        self.min_alpha = np.min(df_results['param_alpha'])\n        self.max_alpha = np.max(df_results['param_alpha'])\n        print(f\"alpha: [{self.min_alpha}, {self.max_alpha}]\")\n\n        self.min_bs = np.min(df_results['param_batch_size'])\n        self.max_bs = np.max(df_results['param_batch_size'])\n        print(f\"BATCH: [{self.min_bs}, {self.max_bs}]\")\n\n        self.n_iter_no_change_range = np.unique(df_results['param_n_iter_no_change'])\n        self.n_iter_no_change_range = self.n_iter_no_change_range.ravel()\n        print(f\"n_iter_no_change: {self.n_iter_no_change_range}\")\n\n        self.min_tol = np.min(df_results['param_tol'])\n        self.max_tol = np.max(df_results['param_tol'])\n        print(f\"TOL: [{self.min_tol}, {self.max_tol}]\")\n    \n        self.min_momentum = np.min(df_results['param_momentum'])\n        self.max_momentum = np.max(df_results['param_momentum'])\n        print(f\"MOMENTUM: [{self.min_momentum}, {self.max_momentum}]\")\n    \n    ",
   "outputs": [],
   "execution_count": null
  },
  {
   "cell_type": "code",
   "metadata": {
    "cell_id": "00080-9509be58-a986-4668-b879-f9b45a1b9b81",
    "deepnote_to_be_reexecuted": false,
    "execution_millis": 56,
    "execution_start": 1642976516728,
    "output_cleared": false,
    "source_hash": "a520897",
    "tags": [],
    "deepnote_cell_type": "code"
   },
   "source": "gs = GridSearchRanges()\ngs.set_ranges()\ngs.hidden_range = [ast.literal_eval(x) for x in gs.hidden_range]",
   "outputs": [
    {
     "name": "stdout",
     "text": "['(10, 10)' '(10,)' '(100,)' '(25, 25)' '(25,)' '(50, 50)' '(50,)'\n '(75, 75)' '(75,)']\nLR: [0.0098335487774382, 0.266267712436829]\nalpha: [0.0014457204293714, 0.0997555754216904]\nBATCH: [3, 1307]\nn_iter_no_change: [ 5 15 25]\nTOL: [0.0010017022228043, 0.0010995758202881]\nMOMENTUM: [0.8, 0.9]\n",
     "output_type": "stream"
    }
   ],
   "execution_count": null
  },
  {
   "cell_type": "markdown",
   "source": "### Second Randomized Search using min e max values",
   "metadata": {
    "cell_id": "00081-0d21e4f3-8ccd-49ab-94d7-8f9f35a46c6e",
    "tags": [],
    "deepnote_cell_type": "markdown"
   }
  },
  {
   "cell_type": "code",
   "metadata": {
    "cell_id": "00082-a077d801-b482-4525-9965-579840263491",
    "deepnote_output_heights": [
     null,
     289.90625
    ],
    "deepnote_to_be_reexecuted": false,
    "execution_millis": 55,
    "execution_start": 1642976516729,
    "output_cleared": false,
    "source_hash": "194be1bf",
    "tags": [],
    "deepnote_cell_type": "code"
   },
   "source": "%%time\n%%script false --no-raise-error\n\n# define the parameters values\nparams = {\n    \"hidden_layer_sizes\": gs.hidden_range,\n    \"activation\" : [\"logistic\", \"tanh\"],\n    \"solver\": [\"sgd\"],\n    \"learning_rate\": [\"constant\", \"adaptive\", \"invscaling\"],\n    \"learning_rate_init\": uniform(gs.min_lr_init, gs.max_lr_init),\n    \"alpha\": uniform(gs.min_alpha, gs.max_alpha),\n    \"batch_size\": randint(gs.min_bs, gs.max_bs),\n    \"n_iter_no_change\": [5, 15, 25],\n    \"momentum\": [0.8, 0.85, 0.9],\n    \"random_state\": [RS_NUMBER],\n    \"tol\": uniform(gs.min_tol,gs.max_tol),\n    \"early_stopping\": [True],\n    \"validation_fraction\": [0.2],\n    \"max_iter\": [1000],\n}\n\n# define the grid search\nrand_gs = RandomizedSearchCV(\n    MLPRegressor(),\n    param_distributions=params,\n    n_iter=n_iter_search,\n    n_jobs=-1,\n    scoring=make_scorer(mee), #scoring is based on the highest value\n    cv=k,\n    random_state = RS_NUMBER,\n    verbose=10,\n)\n# run the grid search\nrand_gs.fit(X, y)\n",
   "outputs": [
    {
     "name": "stdout",
     "text": "CPU times: user 0 ns, sys: 7.7 ms, total: 7.7 ms\nWall time: 8.71 ms\n",
     "output_type": "stream"
    }
   ],
   "execution_count": null
  },
  {
   "cell_type": "code",
   "metadata": {
    "cell_id": "00083-f936a019-eb5d-4273-89a6-5a8a7f5454d4",
    "deepnote_to_be_reexecuted": false,
    "execution_millis": 1,
    "execution_start": 1642976516754,
    "output_cleared": true,
    "source_hash": "2cdd49a7",
    "tags": [],
    "deepnote_cell_type": "code"
   },
   "source": "%%script false --no-raise-error\n\ndf_results = pd.DataFrame(data=rand_gs.cv_results_) #trasform into a pandas dataframe\ndf_results.sort_values(by=\"rank_test_score\", axis=0, ascending=False, inplace=True) #sort rank values in decreasing order \ndf_results.dropna(inplace=True) #delete nan values \ndf_results = df_results[:50] #keep only top 50 models\npd.DataFrame.to_csv(df_results, \"sklearn_results/rand2_search.csv\")",
   "outputs": [],
   "execution_count": null
  },
  {
   "cell_type": "code",
   "metadata": {
    "cell_id": "00084-f761c9e1-2fc3-4510-bd14-7f25eda61514",
    "deepnote_output_heights": [
     611
    ],
    "deepnote_to_be_reexecuted": false,
    "execution_millis": 183,
    "execution_start": 1642978141032,
    "output_cleared": false,
    "source_hash": "eac94d23",
    "tags": [],
    "deepnote_cell_type": "code"
   },
   "source": "df_results = pd.read_csv(\"sklearn_results/rand2_search.csv\")\ndf_results",
   "outputs": [
    {
     "output_type": "execute_result",
     "execution_count": 37,
     "data": {
      "application/vnd.deepnote.dataframe.v3+json": {
       "column_count": 33,
       "row_count": 49,
       "columns": [
        {
         "name": "Unnamed: 0",
         "dtype": "int64",
         "stats": {
          "unique_count": 49,
          "nan_count": 0,
          "min": "16",
          "max": "985",
          "histogram": [
           {
            "bin_start": 16,
            "bin_end": 112.9,
            "count": 4
           },
           {
            "bin_start": 112.9,
            "bin_end": 209.8,
            "count": 3
           },
           {
            "bin_start": 209.8,
            "bin_end": 306.70000000000005,
            "count": 3
           },
           {
            "bin_start": 306.70000000000005,
            "bin_end": 403.6,
            "count": 6
           },
           {
            "bin_start": 403.6,
            "bin_end": 500.5,
            "count": 5
           },
           {
            "bin_start": 500.5,
            "bin_end": 597.4000000000001,
            "count": 3
           },
           {
            "bin_start": 597.4000000000001,
            "bin_end": 694.3000000000001,
            "count": 8
           },
           {
            "bin_start": 694.3000000000001,
            "bin_end": 791.2,
            "count": 3
           },
           {
            "bin_start": 791.2,
            "bin_end": 888.1,
            "count": 9
           },
           {
            "bin_start": 888.1,
            "bin_end": 985,
            "count": 5
           }
          ]
         }
        },
        {
         "name": "mean_fit_time",
         "dtype": "float64",
         "stats": {
          "unique_count": 49,
          "nan_count": 0,
          "min": "0.294120001792908",
          "max": "10.5114069700241",
          "histogram": [
           {
            "bin_start": 0.294120001792908,
            "bin_end": 1.3158486986160272,
            "count": 23
           },
           {
            "bin_start": 1.3158486986160272,
            "bin_end": 2.3375773954391463,
            "count": 10
           },
           {
            "bin_start": 2.3375773954391463,
            "bin_end": 3.3593060922622655,
            "count": 7
           },
           {
            "bin_start": 3.3593060922622655,
            "bin_end": 4.381034789085385,
            "count": 3
           },
           {
            "bin_start": 4.381034789085385,
            "bin_end": 5.402763485908505,
            "count": 2
           },
           {
            "bin_start": 5.402763485908505,
            "bin_end": 6.424492182731623,
            "count": 0
           },
           {
            "bin_start": 6.424492182731623,
            "bin_end": 7.446220879554742,
            "count": 3
           },
           {
            "bin_start": 7.446220879554742,
            "bin_end": 8.467949576377862,
            "count": 0
           },
           {
            "bin_start": 8.467949576377862,
            "bin_end": 9.489678273200981,
            "count": 0
           },
           {
            "bin_start": 9.489678273200981,
            "bin_end": 10.5114069700241,
            "count": 1
           }
          ]
         }
        },
        {
         "name": "std_fit_time",
         "dtype": "float64",
         "stats": {
          "unique_count": 49,
          "nan_count": 0,
          "min": "0.0414620087856826",
          "max": "0.998754504100443",
          "histogram": [
           {
            "bin_start": 0.0414620087856826,
            "bin_end": 0.13719125831715862,
            "count": 17
           },
           {
            "bin_start": 0.13719125831715862,
            "bin_end": 0.23292050784863466,
            "count": 12
           },
           {
            "bin_start": 0.23292050784863466,
            "bin_end": 0.3286497573801107,
            "count": 7
           },
           {
            "bin_start": 0.3286497573801107,
            "bin_end": 0.4243790069115867,
            "count": 3
           },
           {
            "bin_start": 0.4243790069115867,
            "bin_end": 0.5201082564430628,
            "count": 5
           },
           {
            "bin_start": 0.5201082564430628,
            "bin_end": 0.6158375059745388,
            "count": 1
           },
           {
            "bin_start": 0.6158375059745388,
            "bin_end": 0.7115667555060149,
            "count": 0
           },
           {
            "bin_start": 0.7115667555060149,
            "bin_end": 0.8072960050374909,
            "count": 2
           },
           {
            "bin_start": 0.8072960050374909,
            "bin_end": 0.9030252545689669,
            "count": 0
           },
           {
            "bin_start": 0.9030252545689669,
            "bin_end": 0.998754504100443,
            "count": 2
           }
          ]
         }
        },
        {
         "name": "mean_score_time",
         "dtype": "float64",
         "stats": {
          "unique_count": 49,
          "nan_count": 0,
          "min": "0.0012146949768066",
          "max": "0.009983491897583",
          "histogram": [
           {
            "bin_start": 0.0012146949768066,
            "bin_end": 0.00209157466888424,
            "count": 10
           },
           {
            "bin_start": 0.00209157466888424,
            "bin_end": 0.00296845436096188,
            "count": 7
           },
           {
            "bin_start": 0.00296845436096188,
            "bin_end": 0.0038453340530395196,
            "count": 9
           },
           {
            "bin_start": 0.0038453340530395196,
            "bin_end": 0.00472221374511716,
            "count": 7
           },
           {
            "bin_start": 0.00472221374511716,
            "bin_end": 0.0055990934371948,
            "count": 4
           },
           {
            "bin_start": 0.0055990934371948,
            "bin_end": 0.006475973129272439,
            "count": 5
           },
           {
            "bin_start": 0.006475973129272439,
            "bin_end": 0.00735285282135008,
            "count": 2
           },
           {
            "bin_start": 0.00735285282135008,
            "bin_end": 0.00822973251342772,
            "count": 2
           },
           {
            "bin_start": 0.00822973251342772,
            "bin_end": 0.00910661220550536,
            "count": 2
           },
           {
            "bin_start": 0.00910661220550536,
            "bin_end": 0.009983491897583,
            "count": 1
           }
          ]
         }
        },
        {
         "name": "std_score_time",
         "dtype": "float64",
         "stats": {
          "unique_count": 49,
          "nan_count": 0,
          "min": "0.0003791823533431",
          "max": "0.0121179202967269",
          "histogram": [
           {
            "bin_start": 0.0003791823533431,
            "bin_end": 0.00155305614768148,
            "count": 8
           },
           {
            "bin_start": 0.00155305614768148,
            "bin_end": 0.00272692994201986,
            "count": 4
           },
           {
            "bin_start": 0.00272692994201986,
            "bin_end": 0.00390080373635824,
            "count": 6
           },
           {
            "bin_start": 0.00390080373635824,
            "bin_end": 0.00507467753069662,
            "count": 12
           },
           {
            "bin_start": 0.00507467753069662,
            "bin_end": 0.006248551325035,
            "count": 8
           },
           {
            "bin_start": 0.006248551325035,
            "bin_end": 0.00742242511937338,
            "count": 5
           },
           {
            "bin_start": 0.00742242511937338,
            "bin_end": 0.00859629891371176,
            "count": 3
           },
           {
            "bin_start": 0.00859629891371176,
            "bin_end": 0.00977017270805014,
            "count": 2
           },
           {
            "bin_start": 0.00977017270805014,
            "bin_end": 0.01094404650238852,
            "count": 0
           },
           {
            "bin_start": 0.01094404650238852,
            "bin_end": 0.0121179202967269,
            "count": 1
           }
          ]
         }
        },
        {
         "name": "param_activation",
         "dtype": "object",
         "stats": {
          "unique_count": 2,
          "nan_count": 0,
          "categories": [
           {
            "name": "logistic",
            "count": 35
           },
           {
            "name": "tanh",
            "count": 14
           }
          ]
         }
        },
        {
         "name": "param_alpha",
         "dtype": "float64",
         "stats": {
          "unique_count": 49,
          "nan_count": 0,
          "min": "0.008867700108531",
          "max": "0.101197903228498",
          "histogram": [
           {
            "bin_start": 0.008867700108531,
            "bin_end": 0.0181007204205277,
            "count": 4
           },
           {
            "bin_start": 0.0181007204205277,
            "bin_end": 0.0273337407325244,
            "count": 3
           },
           {
            "bin_start": 0.0273337407325244,
            "bin_end": 0.0365667610445211,
            "count": 6
           },
           {
            "bin_start": 0.0365667610445211,
            "bin_end": 0.0457997813565178,
            "count": 6
           },
           {
            "bin_start": 0.0457997813565178,
            "bin_end": 0.0550328016685145,
            "count": 7
           },
           {
            "bin_start": 0.0550328016685145,
            "bin_end": 0.0642658219805112,
            "count": 3
           },
           {
            "bin_start": 0.0642658219805112,
            "bin_end": 0.0734988422925079,
            "count": 4
           },
           {
            "bin_start": 0.0734988422925079,
            "bin_end": 0.0827318626045046,
            "count": 4
           },
           {
            "bin_start": 0.0827318626045046,
            "bin_end": 0.0919648829165013,
            "count": 6
           },
           {
            "bin_start": 0.0919648829165013,
            "bin_end": 0.101197903228498,
            "count": 6
           }
          ]
         }
        },
        {
         "name": "param_batch_size",
         "dtype": "int64",
         "stats": {
          "unique_count": 48,
          "nan_count": 0,
          "min": "37",
          "max": "1166",
          "histogram": [
           {
            "bin_start": 37,
            "bin_end": 149.9,
            "count": 15
           },
           {
            "bin_start": 149.9,
            "bin_end": 262.8,
            "count": 5
           },
           {
            "bin_start": 262.8,
            "bin_end": 375.70000000000005,
            "count": 5
           },
           {
            "bin_start": 375.70000000000005,
            "bin_end": 488.6,
            "count": 5
           },
           {
            "bin_start": 488.6,
            "bin_end": 601.5,
            "count": 6
           },
           {
            "bin_start": 601.5,
            "bin_end": 714.4000000000001,
            "count": 4
           },
           {
            "bin_start": 714.4000000000001,
            "bin_end": 827.3000000000001,
            "count": 2
           },
           {
            "bin_start": 827.3000000000001,
            "bin_end": 940.2,
            "count": 6
           },
           {
            "bin_start": 940.2,
            "bin_end": 1053.1,
            "count": 0
           },
           {
            "bin_start": 1053.1,
            "bin_end": 1166,
            "count": 1
           }
          ]
         }
        },
        {
         "name": "param_early_stopping",
         "dtype": "bool",
         "stats": {
          "unique_count": 1,
          "nan_count": 0,
          "categories": [
           {
            "name": "True",
            "count": 49
           }
          ]
         }
        },
        {
         "name": "param_hidden_layer_sizes",
         "dtype": "object",
         "stats": {
          "unique_count": 9,
          "nan_count": 0,
          "categories": [
           {
            "name": "(10, 10)",
            "count": 15
           },
           {
            "name": "(25, 25)",
            "count": 8
           },
           {
            "name": "7 others",
            "count": 26
           }
          ]
         }
        },
        {
         "name": "param_learning_rate",
         "dtype": "object",
         "stats": {
          "unique_count": 2,
          "nan_count": 0,
          "categories": [
           {
            "name": "adaptive",
            "count": 27
           },
           {
            "name": "constant",
            "count": 22
           }
          ]
         }
        },
        {
         "name": "param_learning_rate_init",
         "dtype": "float64",
         "stats": {
          "unique_count": 49,
          "nan_count": 0,
          "min": "0.0101618820855961",
          "max": "0.140808739843454",
          "histogram": [
           {
            "bin_start": 0.0101618820855961,
            "bin_end": 0.02322656786138189,
            "count": 7
           },
           {
            "bin_start": 0.02322656786138189,
            "bin_end": 0.036291253637167675,
            "count": 6
           },
           {
            "bin_start": 0.036291253637167675,
            "bin_end": 0.049355939412953465,
            "count": 8
           },
           {
            "bin_start": 0.049355939412953465,
            "bin_end": 0.062420625188739254,
            "count": 3
           },
           {
            "bin_start": 0.062420625188739254,
            "bin_end": 0.07548531096452504,
            "count": 6
           },
           {
            "bin_start": 0.07548531096452504,
            "bin_end": 0.08854999674031083,
            "count": 5
           },
           {
            "bin_start": 0.08854999674031083,
            "bin_end": 0.10161468251609662,
            "count": 3
           },
           {
            "bin_start": 0.10161468251609662,
            "bin_end": 0.11467936829188241,
            "count": 6
           },
           {
            "bin_start": 0.11467936829188241,
            "bin_end": 0.1277440540676682,
            "count": 3
           },
           {
            "bin_start": 0.1277440540676682,
            "bin_end": 0.140808739843454,
            "count": 2
           }
          ]
         }
        },
        {
         "name": "param_max_iter",
         "dtype": "int64",
         "stats": {
          "unique_count": 1,
          "nan_count": 0,
          "min": "1000",
          "max": "1000",
          "histogram": [
           {
            "bin_start": 999.5,
            "bin_end": 999.6,
            "count": 0
           },
           {
            "bin_start": 999.6,
            "bin_end": 999.7,
            "count": 0
           },
           {
            "bin_start": 999.7,
            "bin_end": 999.8,
            "count": 0
           },
           {
            "bin_start": 999.8,
            "bin_end": 999.9,
            "count": 0
           },
           {
            "bin_start": 999.9,
            "bin_end": 1000,
            "count": 0
           },
           {
            "bin_start": 1000,
            "bin_end": 1000.1,
            "count": 49
           },
           {
            "bin_start": 1000.1,
            "bin_end": 1000.2,
            "count": 0
           },
           {
            "bin_start": 1000.2,
            "bin_end": 1000.3,
            "count": 0
           },
           {
            "bin_start": 1000.3,
            "bin_end": 1000.4,
            "count": 0
           },
           {
            "bin_start": 1000.4,
            "bin_end": 1000.5,
            "count": 0
           }
          ]
         }
        },
        {
         "name": "param_momentum",
         "dtype": "float64",
         "stats": {
          "unique_count": 3,
          "nan_count": 0,
          "min": "0.8",
          "max": "0.9",
          "histogram": [
           {
            "bin_start": 0.8,
            "bin_end": 0.81,
            "count": 15
           },
           {
            "bin_start": 0.81,
            "bin_end": 0.8200000000000001,
            "count": 0
           },
           {
            "bin_start": 0.8200000000000001,
            "bin_end": 0.8300000000000001,
            "count": 0
           },
           {
            "bin_start": 0.8300000000000001,
            "bin_end": 0.8400000000000001,
            "count": 0
           },
           {
            "bin_start": 0.8400000000000001,
            "bin_end": 0.8500000000000001,
            "count": 20
           },
           {
            "bin_start": 0.8500000000000001,
            "bin_end": 0.86,
            "count": 0
           },
           {
            "bin_start": 0.86,
            "bin_end": 0.87,
            "count": 0
           },
           {
            "bin_start": 0.87,
            "bin_end": 0.88,
            "count": 0
           },
           {
            "bin_start": 0.88,
            "bin_end": 0.89,
            "count": 0
           },
           {
            "bin_start": 0.89,
            "bin_end": 0.9,
            "count": 14
           }
          ]
         }
        },
        {
         "name": "param_n_iter_no_change",
         "dtype": "int64",
         "stats": {
          "unique_count": 3,
          "nan_count": 0,
          "min": "5",
          "max": "25",
          "histogram": [
           {
            "bin_start": 5,
            "bin_end": 7,
            "count": 10
           },
           {
            "bin_start": 7,
            "bin_end": 9,
            "count": 0
           },
           {
            "bin_start": 9,
            "bin_end": 11,
            "count": 0
           },
           {
            "bin_start": 11,
            "bin_end": 13,
            "count": 0
           },
           {
            "bin_start": 13,
            "bin_end": 15,
            "count": 0
           },
           {
            "bin_start": 15,
            "bin_end": 17,
            "count": 24
           },
           {
            "bin_start": 17,
            "bin_end": 19,
            "count": 0
           },
           {
            "bin_start": 19,
            "bin_end": 21,
            "count": 0
           },
           {
            "bin_start": 21,
            "bin_end": 23,
            "count": 0
           },
           {
            "bin_start": 23,
            "bin_end": 25,
            "count": 15
           }
          ]
         }
        },
        {
         "name": "param_random_state",
         "dtype": "int64",
         "stats": {
          "unique_count": 1,
          "nan_count": 0,
          "min": "69",
          "max": "69",
          "histogram": [
           {
            "bin_start": 68.5,
            "bin_end": 68.6,
            "count": 0
           },
           {
            "bin_start": 68.6,
            "bin_end": 68.7,
            "count": 0
           },
           {
            "bin_start": 68.7,
            "bin_end": 68.8,
            "count": 0
           },
           {
            "bin_start": 68.8,
            "bin_end": 68.9,
            "count": 0
           },
           {
            "bin_start": 68.9,
            "bin_end": 69,
            "count": 0
           },
           {
            "bin_start": 69,
            "bin_end": 69.1,
            "count": 49
           },
           {
            "bin_start": 69.1,
            "bin_end": 69.2,
            "count": 0
           },
           {
            "bin_start": 69.2,
            "bin_end": 69.3,
            "count": 0
           },
           {
            "bin_start": 69.3,
            "bin_end": 69.4,
            "count": 0
           },
           {
            "bin_start": 69.4,
            "bin_end": 69.5,
            "count": 0
           }
          ]
         }
        },
        {
         "name": "param_solver",
         "dtype": "object",
         "stats": {
          "unique_count": 1,
          "nan_count": 0,
          "categories": [
           {
            "name": "sgd",
            "count": 49
           }
          ]
         }
        },
        {
         "name": "param_tol",
         "dtype": "float64",
         "stats": {
          "unique_count": 49,
          "nan_count": 0,
          "min": "0.0010179159962144",
          "max": "0.0020696184578437",
          "histogram": [
           {
            "bin_start": 0.0010179159962144,
            "bin_end": 0.00112308624237733,
            "count": 3
           },
           {
            "bin_start": 0.00112308624237733,
            "bin_end": 0.00122825648854026,
            "count": 7
           },
           {
            "bin_start": 0.00122825648854026,
            "bin_end": 0.00133342673470319,
            "count": 6
           },
           {
            "bin_start": 0.00133342673470319,
            "bin_end": 0.00143859698086612,
            "count": 3
           },
           {
            "bin_start": 0.00143859698086612,
            "bin_end": 0.00154376722702905,
            "count": 2
           },
           {
            "bin_start": 0.00154376722702905,
            "bin_end": 0.00164893747319198,
            "count": 4
           },
           {
            "bin_start": 0.00164893747319198,
            "bin_end": 0.00175410771935491,
            "count": 4
           },
           {
            "bin_start": 0.00175410771935491,
            "bin_end": 0.00185927796551784,
            "count": 4
           },
           {
            "bin_start": 0.00185927796551784,
            "bin_end": 0.00196444821168077,
            "count": 7
           },
           {
            "bin_start": 0.00196444821168077,
            "bin_end": 0.0020696184578437,
            "count": 9
           }
          ]
         }
        },
        {
         "name": "param_validation_fraction",
         "dtype": "float64",
         "stats": {
          "unique_count": 1,
          "nan_count": 0,
          "min": "0.2",
          "max": "0.2",
          "histogram": [
           {
            "bin_start": -0.3,
            "bin_end": -0.19999999999999998,
            "count": 0
           },
           {
            "bin_start": -0.19999999999999998,
            "bin_end": -0.09999999999999998,
            "count": 0
           },
           {
            "bin_start": -0.09999999999999998,
            "bin_end": 5.551115123125783e-17,
            "count": 0
           },
           {
            "bin_start": 5.551115123125783e-17,
            "bin_end": 0.10000000000000003,
            "count": 0
           },
           {
            "bin_start": 0.10000000000000003,
            "bin_end": 0.2,
            "count": 0
           },
           {
            "bin_start": 0.2,
            "bin_end": 0.3000000000000001,
            "count": 49
           },
           {
            "bin_start": 0.3000000000000001,
            "bin_end": 0.4000000000000001,
            "count": 0
           },
           {
            "bin_start": 0.4000000000000001,
            "bin_end": 0.5,
            "count": 0
           },
           {
            "bin_start": 0.5,
            "bin_end": 0.6000000000000001,
            "count": 0
           },
           {
            "bin_start": 0.6000000000000001,
            "bin_end": 0.7,
            "count": 0
           }
          ]
         }
        },
        {
         "name": "params",
         "dtype": "object",
         "stats": {
          "unique_count": 49,
          "nan_count": 0,
          "categories": [
           {
            "name": "{'activation': 'tanh', 'alpha': 0.05411658766187596, 'batch_size': 123, 'early_stopping': True, 'hidden_layer_sizes': (75, 75), 'learning_rate': 'adaptive', 'learning_rate_init': 0.01492564455111515, 'max_iter': 1000, 'momentum': 0.85, 'n_iter_no_change': 15, 'random_state': 69, 'solver': 'sgd', 'tol': 0.0010965248580978662, 'validation_fraction': 0.2}",
            "count": 1
           },
           {
            "name": "{'activation': 'logistic', 'alpha': 0.07118331505308412, 'batch_size': 67, 'early_stopping': True, 'hidden_layer_sizes': (25,), 'learning_rate': 'adaptive', 'learning_rate_init': 0.06957707631735699, 'max_iter': 1000, 'momentum': 0.85, 'n_iter_no_change': 15, 'random_state': 69, 'solver': 'sgd', 'tol': 0.0019326355889529127, 'validation_fraction': 0.2}",
            "count": 1
           },
           {
            "name": "47 others",
            "count": 47
           }
          ]
         }
        },
        {
         "name": "split0_test_score",
         "dtype": "float64",
         "stats": {
          "unique_count": 49,
          "nan_count": 0,
          "min": "1.05755318370245",
          "max": "1.21442607474678",
          "histogram": [
           {
            "bin_start": 1.05755318370245,
            "bin_end": 1.0732404728068832,
            "count": 5
           },
           {
            "bin_start": 1.0732404728068832,
            "bin_end": 1.088927761911316,
            "count": 2
           },
           {
            "bin_start": 1.088927761911316,
            "bin_end": 1.104615051015749,
            "count": 7
           },
           {
            "bin_start": 1.104615051015749,
            "bin_end": 1.1203023401201821,
            "count": 8
           },
           {
            "bin_start": 1.1203023401201821,
            "bin_end": 1.135989629224615,
            "count": 7
           },
           {
            "bin_start": 1.135989629224615,
            "bin_end": 1.151676918329048,
            "count": 8
           },
           {
            "bin_start": 1.151676918329048,
            "bin_end": 1.1673642074334811,
            "count": 7
           },
           {
            "bin_start": 1.1673642074334811,
            "bin_end": 1.1830514965379142,
            "count": 3
           },
           {
            "bin_start": 1.1830514965379142,
            "bin_end": 1.198738785642347,
            "count": 0
           },
           {
            "bin_start": 1.198738785642347,
            "bin_end": 1.21442607474678,
            "count": 2
           }
          ]
         }
        },
        {
         "name": "split1_test_score",
         "dtype": "float64",
         "stats": {
          "unique_count": 49,
          "nan_count": 0,
          "min": "1.02444194922377",
          "max": "1.18150036093991",
          "histogram": [
           {
            "bin_start": 1.02444194922377,
            "bin_end": 1.040147790395384,
            "count": 2
           },
           {
            "bin_start": 1.040147790395384,
            "bin_end": 1.055853631566998,
            "count": 5
           },
           {
            "bin_start": 1.055853631566998,
            "bin_end": 1.071559472738612,
            "count": 5
           },
           {
            "bin_start": 1.071559472738612,
            "bin_end": 1.087265313910226,
            "count": 9
           },
           {
            "bin_start": 1.087265313910226,
            "bin_end": 1.10297115508184,
            "count": 11
           },
           {
            "bin_start": 1.10297115508184,
            "bin_end": 1.118676996253454,
            "count": 9
           },
           {
            "bin_start": 1.118676996253454,
            "bin_end": 1.134382837425068,
            "count": 4
           },
           {
            "bin_start": 1.134382837425068,
            "bin_end": 1.150088678596682,
            "count": 1
           },
           {
            "bin_start": 1.150088678596682,
            "bin_end": 1.165794519768296,
            "count": 0
           },
           {
            "bin_start": 1.165794519768296,
            "bin_end": 1.18150036093991,
            "count": 3
           }
          ]
         }
        },
        {
         "name": "split2_test_score",
         "dtype": "float64",
         "stats": {
          "unique_count": 49,
          "nan_count": 0,
          "min": "1.15679622016431",
          "max": "1.34545082927444",
          "histogram": [
           {
            "bin_start": 1.15679622016431,
            "bin_end": 1.175661681075323,
            "count": 3
           },
           {
            "bin_start": 1.175661681075323,
            "bin_end": 1.1945271419863361,
            "count": 3
           },
           {
            "bin_start": 1.1945271419863361,
            "bin_end": 1.213392602897349,
            "count": 7
           },
           {
            "bin_start": 1.213392602897349,
            "bin_end": 1.232258063808362,
            "count": 10
           },
           {
            "bin_start": 1.232258063808362,
            "bin_end": 1.251123524719375,
            "count": 9
           },
           {
            "bin_start": 1.251123524719375,
            "bin_end": 1.269988985630388,
            "count": 8
           },
           {
            "bin_start": 1.269988985630388,
            "bin_end": 1.2888544465414011,
            "count": 6
           },
           {
            "bin_start": 1.2888544465414011,
            "bin_end": 1.307719907452414,
            "count": 2
           },
           {
            "bin_start": 1.307719907452414,
            "bin_end": 1.326585368363427,
            "count": 0
           },
           {
            "bin_start": 1.326585368363427,
            "bin_end": 1.34545082927444,
            "count": 1
           }
          ]
         }
        },
        {
         "name": "split3_test_score",
         "dtype": "float64",
         "stats": {
          "unique_count": 49,
          "nan_count": 0,
          "min": "1.19114016322016",
          "max": "1.38493710772513",
          "histogram": [
           {
            "bin_start": 1.19114016322016,
            "bin_end": 1.2105198576706568,
            "count": 5
           },
           {
            "bin_start": 1.2105198576706568,
            "bin_end": 1.229899552121154,
            "count": 6
           },
           {
            "bin_start": 1.229899552121154,
            "bin_end": 1.249279246571651,
            "count": 7
           },
           {
            "bin_start": 1.249279246571651,
            "bin_end": 1.268658941022148,
            "count": 6
           },
           {
            "bin_start": 1.268658941022148,
            "bin_end": 1.288038635472645,
            "count": 8
           },
           {
            "bin_start": 1.288038635472645,
            "bin_end": 1.3074183299231419,
            "count": 5
           },
           {
            "bin_start": 1.3074183299231419,
            "bin_end": 1.326798024373639,
            "count": 3
           },
           {
            "bin_start": 1.326798024373639,
            "bin_end": 1.346177718824136,
            "count": 6
           },
           {
            "bin_start": 1.346177718824136,
            "bin_end": 1.365557413274633,
            "count": 1
           },
           {
            "bin_start": 1.365557413274633,
            "bin_end": 1.38493710772513,
            "count": 2
           }
          ]
         }
        },
        {
         "name": "split4_test_score",
         "dtype": "float64",
         "stats": {
          "unique_count": 49,
          "nan_count": 0,
          "min": "1.21241882727898",
          "max": "1.44575763316936",
          "histogram": [
           {
            "bin_start": 1.21241882727898,
            "bin_end": 1.235752707868018,
            "count": 7
           },
           {
            "bin_start": 1.235752707868018,
            "bin_end": 1.259086588457056,
            "count": 14
           },
           {
            "bin_start": 1.259086588457056,
            "bin_end": 1.282420469046094,
            "count": 13
           },
           {
            "bin_start": 1.282420469046094,
            "bin_end": 1.305754349635132,
            "count": 9
           },
           {
            "bin_start": 1.305754349635132,
            "bin_end": 1.32908823022417,
            "count": 2
           },
           {
            "bin_start": 1.32908823022417,
            "bin_end": 1.352422110813208,
            "count": 1
           },
           {
            "bin_start": 1.352422110813208,
            "bin_end": 1.375755991402246,
            "count": 2
           },
           {
            "bin_start": 1.375755991402246,
            "bin_end": 1.399089871991284,
            "count": 0
           },
           {
            "bin_start": 1.399089871991284,
            "bin_end": 1.422423752580322,
            "count": 0
           },
           {
            "bin_start": 1.422423752580322,
            "bin_end": 1.44575763316936,
            "count": 1
           }
          ]
         }
        },
        {
         "name": "split5_test_score",
         "dtype": "float64",
         "stats": {
          "unique_count": 49,
          "nan_count": 0,
          "min": "1.22189600711685",
          "max": "1.34315348661822",
          "histogram": [
           {
            "bin_start": 1.22189600711685,
            "bin_end": 1.234021755066987,
            "count": 1
           },
           {
            "bin_start": 1.234021755066987,
            "bin_end": 1.246147503017124,
            "count": 3
           },
           {
            "bin_start": 1.246147503017124,
            "bin_end": 1.2582732509672612,
            "count": 3
           },
           {
            "bin_start": 1.2582732509672612,
            "bin_end": 1.270398998917398,
            "count": 5
           },
           {
            "bin_start": 1.270398998917398,
            "bin_end": 1.282524746867535,
            "count": 10
           },
           {
            "bin_start": 1.282524746867535,
            "bin_end": 1.294650494817672,
            "count": 8
           },
           {
            "bin_start": 1.294650494817672,
            "bin_end": 1.3067762427678091,
            "count": 6
           },
           {
            "bin_start": 1.3067762427678091,
            "bin_end": 1.318901990717946,
            "count": 5
           },
           {
            "bin_start": 1.318901990717946,
            "bin_end": 1.3310277386680829,
            "count": 4
           },
           {
            "bin_start": 1.3310277386680829,
            "bin_end": 1.34315348661822,
            "count": 4
           }
          ]
         }
        },
        {
         "name": "split6_test_score",
         "dtype": "float64",
         "stats": {
          "unique_count": 49,
          "nan_count": 0,
          "min": "1.13453630505688",
          "max": "1.38881421239597",
          "histogram": [
           {
            "bin_start": 1.13453630505688,
            "bin_end": 1.159964095790789,
            "count": 6
           },
           {
            "bin_start": 1.159964095790789,
            "bin_end": 1.185391886524698,
            "count": 10
           },
           {
            "bin_start": 1.185391886524698,
            "bin_end": 1.2108196772586068,
            "count": 8
           },
           {
            "bin_start": 1.2108196772586068,
            "bin_end": 1.236247467992516,
            "count": 11
           },
           {
            "bin_start": 1.236247467992516,
            "bin_end": 1.261675258726425,
            "count": 6
           },
           {
            "bin_start": 1.261675258726425,
            "bin_end": 1.287103049460334,
            "count": 6
           },
           {
            "bin_start": 1.287103049460334,
            "bin_end": 1.3125308401942428,
            "count": 0
           },
           {
            "bin_start": 1.3125308401942428,
            "bin_end": 1.337958630928152,
            "count": 0
           },
           {
            "bin_start": 1.337958630928152,
            "bin_end": 1.363386421662061,
            "count": 1
           },
           {
            "bin_start": 1.363386421662061,
            "bin_end": 1.38881421239597,
            "count": 1
           }
          ]
         }
        },
        {
         "name": "split7_test_score",
         "dtype": "float64",
         "stats": {
          "unique_count": 49,
          "nan_count": 0,
          "min": "1.05101540792569",
          "max": "1.24297332225081",
          "histogram": [
           {
            "bin_start": 1.05101540792569,
            "bin_end": 1.070211199358202,
            "count": 1
           },
           {
            "bin_start": 1.070211199358202,
            "bin_end": 1.089406990790714,
            "count": 7
           },
           {
            "bin_start": 1.089406990790714,
            "bin_end": 1.1086027822232258,
            "count": 5
           },
           {
            "bin_start": 1.1086027822232258,
            "bin_end": 1.1277985736557379,
            "count": 7
           },
           {
            "bin_start": 1.1277985736557379,
            "bin_end": 1.14699436508825,
            "count": 15
           },
           {
            "bin_start": 1.14699436508825,
            "bin_end": 1.166190156520762,
            "count": 7
           },
           {
            "bin_start": 1.166190156520762,
            "bin_end": 1.185385947953274,
            "count": 5
           },
           {
            "bin_start": 1.185385947953274,
            "bin_end": 1.2045817393857858,
            "count": 1
           },
           {
            "bin_start": 1.2045817393857858,
            "bin_end": 1.2237775308182979,
            "count": 0
           },
           {
            "bin_start": 1.2237775308182979,
            "bin_end": 1.24297332225081,
            "count": 1
           }
          ]
         }
        },
        {
         "name": "split8_test_score",
         "dtype": "float64",
         "stats": {
          "unique_count": 49,
          "nan_count": 0,
          "min": "1.19632099138879",
          "max": "1.39128094700768",
          "histogram": [
           {
            "bin_start": 1.19632099138879,
            "bin_end": 1.215816986950679,
            "count": 4
           },
           {
            "bin_start": 1.215816986950679,
            "bin_end": 1.235312982512568,
            "count": 2
           },
           {
            "bin_start": 1.235312982512568,
            "bin_end": 1.254808978074457,
            "count": 2
           },
           {
            "bin_start": 1.254808978074457,
            "bin_end": 1.2743049736363459,
            "count": 11
           },
           {
            "bin_start": 1.2743049736363459,
            "bin_end": 1.293800969198235,
            "count": 11
           },
           {
            "bin_start": 1.293800969198235,
            "bin_end": 1.313296964760124,
            "count": 8
           },
           {
            "bin_start": 1.313296964760124,
            "bin_end": 1.332792960322013,
            "count": 7
           },
           {
            "bin_start": 1.332792960322013,
            "bin_end": 1.352288955883902,
            "count": 2
           },
           {
            "bin_start": 1.352288955883902,
            "bin_end": 1.371784951445791,
            "count": 1
           },
           {
            "bin_start": 1.371784951445791,
            "bin_end": 1.39128094700768,
            "count": 1
           }
          ]
         }
        },
        {
         "name": "split9_test_score",
         "dtype": "float64",
         "stats": {
          "unique_count": 49,
          "nan_count": 0,
          "min": "0.992316583613539",
          "max": "1.35812101045335",
          "histogram": [
           {
            "bin_start": 0.992316583613539,
            "bin_end": 1.0288970262975201,
            "count": 3
           },
           {
            "bin_start": 1.0288970262975201,
            "bin_end": 1.0654774689815012,
            "count": 6
           },
           {
            "bin_start": 1.0654774689815012,
            "bin_end": 1.1020579116654823,
            "count": 15
           },
           {
            "bin_start": 1.1020579116654823,
            "bin_end": 1.1386383543494634,
            "count": 15
           },
           {
            "bin_start": 1.1386383543494634,
            "bin_end": 1.1752187970334447,
            "count": 6
           },
           {
            "bin_start": 1.1752187970334447,
            "bin_end": 1.2117992397174255,
            "count": 3
           },
           {
            "bin_start": 1.2117992397174255,
            "bin_end": 1.2483796824014068,
            "count": 0
           },
           {
            "bin_start": 1.2483796824014068,
            "bin_end": 1.284960125085388,
            "count": 0
           },
           {
            "bin_start": 1.284960125085388,
            "bin_end": 1.321540567769369,
            "count": 0
           },
           {
            "bin_start": 1.321540567769369,
            "bin_end": 1.35812101045335,
            "count": 1
           }
          ]
         }
        },
        {
         "name": "mean_test_score",
         "dtype": "float64",
         "stats": {
          "unique_count": 49,
          "nan_count": 0,
          "min": "1.13405033190412",
          "max": "1.24379039384061",
          "histogram": [
           {
            "bin_start": 1.13405033190412,
            "bin_end": 1.145024338097769,
            "count": 1
           },
           {
            "bin_start": 1.145024338097769,
            "bin_end": 1.155998344291418,
            "count": 0
           },
           {
            "bin_start": 1.155998344291418,
            "bin_end": 1.166972350485067,
            "count": 6
           },
           {
            "bin_start": 1.166972350485067,
            "bin_end": 1.177946356678716,
            "count": 5
           },
           {
            "bin_start": 1.177946356678716,
            "bin_end": 1.188920362872365,
            "count": 2
           },
           {
            "bin_start": 1.188920362872365,
            "bin_end": 1.199894369066014,
            "count": 5
           },
           {
            "bin_start": 1.199894369066014,
            "bin_end": 1.210868375259663,
            "count": 7
           },
           {
            "bin_start": 1.210868375259663,
            "bin_end": 1.2218423814533121,
            "count": 12
           },
           {
            "bin_start": 1.2218423814533121,
            "bin_end": 1.232816387646961,
            "count": 5
           },
           {
            "bin_start": 1.232816387646961,
            "bin_end": 1.24379039384061,
            "count": 6
           }
          ]
         }
        },
        {
         "name": "std_test_score",
         "dtype": "float64",
         "stats": {
          "unique_count": 49,
          "nan_count": 0,
          "min": "0.0612622722125284",
          "max": "0.111168153864257",
          "histogram": [
           {
            "bin_start": 0.0612622722125284,
            "bin_end": 0.06625286037770126,
            "count": 3
           },
           {
            "bin_start": 0.06625286037770126,
            "bin_end": 0.07124344854287412,
            "count": 6
           },
           {
            "bin_start": 0.07124344854287412,
            "bin_end": 0.07623403670804697,
            "count": 7
           },
           {
            "bin_start": 0.07623403670804697,
            "bin_end": 0.08122462487321984,
            "count": 10
           },
           {
            "bin_start": 0.08122462487321984,
            "bin_end": 0.08621521303839269,
            "count": 6
           },
           {
            "bin_start": 0.08621521303839269,
            "bin_end": 0.09120580120356556,
            "count": 6
           },
           {
            "bin_start": 0.09120580120356556,
            "bin_end": 0.09619638936873842,
            "count": 8
           },
           {
            "bin_start": 0.09619638936873842,
            "bin_end": 0.10118697753391129,
            "count": 1
           },
           {
            "bin_start": 0.10118697753391129,
            "bin_end": 0.10617756569908414,
            "count": 1
           },
           {
            "bin_start": 0.10617756569908414,
            "bin_end": 0.111168153864257,
            "count": 1
           }
          ]
         }
        },
        {
         "name": "rank_test_score",
         "dtype": "int64",
         "stats": {
          "unique_count": 49,
          "nan_count": 0,
          "min": "922",
          "max": "971",
          "histogram": [
           {
            "bin_start": 922,
            "bin_end": 926.9,
            "count": 5
           },
           {
            "bin_start": 926.9,
            "bin_end": 931.8,
            "count": 5
           },
           {
            "bin_start": 931.8,
            "bin_end": 936.7,
            "count": 5
           },
           {
            "bin_start": 936.7,
            "bin_end": 941.6,
            "count": 5
           },
           {
            "bin_start": 941.6,
            "bin_end": 946.5,
            "count": 5
           },
           {
            "bin_start": 946.5,
            "bin_end": 951.4,
            "count": 5
           },
           {
            "bin_start": 951.4,
            "bin_end": 956.3,
            "count": 5
           },
           {
            "bin_start": 956.3,
            "bin_end": 961.2,
            "count": 5
           },
           {
            "bin_start": 961.2,
            "bin_end": 966.1,
            "count": 5
           },
           {
            "bin_start": 966.1,
            "bin_end": 971,
            "count": 4
           }
          ]
         }
        },
        {
         "name": "_deepnote_index_column",
         "dtype": "int64"
        }
       ],
       "rows": [
        {
         "Unnamed: 0": 393,
         "mean_fit_time": 7.12746224403381,
         "std_fit_time": 0.741473377717368,
         "mean_score_time": 0.0058835983276367,
         "std_score_time": 0.0052046058462426,
         "param_activation": "tanh",
         "param_alpha": 0.054116587661876,
         "param_batch_size": 123,
         "param_early_stopping": true,
         "param_hidden_layer_sizes": "(75, 75)",
         "param_learning_rate": "adaptive",
         "param_learning_rate_init": 0.0149256445511151,
         "param_max_iter": 1000,
         "param_momentum": 0.85,
         "param_n_iter_no_change": 15,
         "param_random_state": 69,
         "param_solver": "sgd",
         "param_tol": 0.0010965248580978,
         "param_validation_fraction": 0.2,
         "params": "{'activation': 'tanh', 'alpha': 0.05411658766187596, 'batch_size': 123, 'early_stopping': True, 'hi…",
         "split0_test_score": 1.06501229395571,
         "split1_test_score": 1.02444194922377,
         "split2_test_score": 1.1598204589483,
         "split3_test_score": 1.21415644821433,
         "split4_test_score": 1.21241882727898,
         "split5_test_score": 1.22189600711685,
         "split6_test_score": 1.166388699736,
         "split7_test_score": 1.05101540792569,
         "split8_test_score": 1.2057688288234,
         "split9_test_score": 1.0195843978182,
         "mean_test_score": 1.13405033190412,
         "std_test_score": 0.0799414678232159,
         "rank_test_score": 971,
         "_deepnote_index_column": 0
        },
        {
         "Unnamed: 0": 952,
         "mean_fit_time": 3.05920207500458,
         "std_fit_time": 0.270122133487602,
         "mean_score_time": 0.001215124130249,
         "std_score_time": 0.0003791823533431,
         "param_activation": "logistic",
         "param_alpha": 0.0711833150530841,
         "param_batch_size": 67,
         "param_early_stopping": true,
         "param_hidden_layer_sizes": "(25,)",
         "param_learning_rate": "adaptive",
         "param_learning_rate_init": 0.069577076317357,
         "param_max_iter": 1000,
         "param_momentum": 0.85,
         "param_n_iter_no_change": 15,
         "param_random_state": 69,
         "param_solver": "sgd",
         "param_tol": 0.0019326355889529,
         "param_validation_fraction": 0.2,
         "params": "{'activation': 'logistic', 'alpha': 0.07118331505308412, 'batch_size': 67, 'early_stopping': True, …",
         "split0_test_score": 1.09562880034747,
         "split1_test_score": 1.07859463670402,
         "split2_test_score": 1.1738783018951,
         "split3_test_score": 1.25028766847804,
         "split4_test_score": 1.21715709952311,
         "split5_test_score": 1.25377468648777,
         "split6_test_score": 1.14967306100725,
         "split7_test_score": 1.09989369137456,
         "split8_test_score": 1.25869428989179,
         "split9_test_score": 1.03961877884407,
         "mean_test_score": 1.16172010145532,
         "std_test_score": 0.0768749689379666,
         "rank_test_score": 969,
         "_deepnote_index_column": 1
        },
        {
         "Unnamed: 0": 620,
         "mean_fit_time": 0.623800897598267,
         "std_fit_time": 0.107581130127332,
         "mean_score_time": 0.0039766073226928,
         "std_score_time": 0.0051409712498552,
         "param_activation": "logistic",
         "param_alpha": 0.081039758255103,
         "param_batch_size": 88,
         "param_early_stopping": true,
         "param_hidden_layer_sizes": "(10, 10)",
         "param_learning_rate": "constant",
         "param_learning_rate_init": 0.0818596208528977,
         "param_max_iter": 1000,
         "param_momentum": 0.8,
         "param_n_iter_no_change": 15,
         "param_random_state": 69,
         "param_solver": "sgd",
         "param_tol": 0.0013898160758368,
         "param_validation_fraction": 0.2,
         "params": "{'activation': 'logistic', 'alpha': 0.08103975825510298, 'batch_size': 88, 'early_stopping': True, …",
         "split0_test_score": 1.10443996734416,
         "split1_test_score": 1.07121654228249,
         "split2_test_score": 1.21429122153789,
         "split3_test_score": 1.19842827488485,
         "split4_test_score": 1.23271983568146,
         "split5_test_score": 1.25936037310876,
         "split6_test_score": 1.14541038915533,
         "split7_test_score": 1.0828194774082,
         "split8_test_score": 1.24361496473158,
         "split9_test_score": 1.06902879171966,
         "mean_test_score": 1.16213298378544,
         "std_test_score": 0.0720734094950751,
         "rank_test_score": 968,
         "_deepnote_index_column": 2
        },
        {
         "Unnamed: 0": 169,
         "mean_fit_time": 1.63680346012115,
         "std_fit_time": 0.387340222104796,
         "mean_score_time": 0.0038470983505249,
         "std_score_time": 0.0047976106116965,
         "param_activation": "logistic",
         "param_alpha": 0.0599741036101111,
         "param_batch_size": 386,
         "param_early_stopping": true,
         "param_hidden_layer_sizes": "(10, 10)",
         "param_learning_rate": "adaptive",
         "param_learning_rate_init": 0.0829570474729656,
         "param_max_iter": 1000,
         "param_momentum": 0.9,
         "param_n_iter_no_change": 15,
         "param_random_state": 69,
         "param_solver": "sgd",
         "param_tol": 0.0013883127378521,
         "param_validation_fraction": 0.2,
         "params": "{'activation': 'logistic', 'alpha': 0.059974103610111136, 'batch_size': 386, 'early_stopping': True…",
         "split0_test_score": 1.06570719220251,
         "split1_test_score": 1.06618184448693,
         "split2_test_score": 1.24221416106256,
         "split3_test_score": 1.19114016322016,
         "split4_test_score": 1.24516387840725,
         "split5_test_score": 1.23968693228865,
         "split6_test_score": 1.20672729818303,
         "split7_test_score": 1.08316882035811,
         "split8_test_score": 1.21911136861505,
         "split9_test_score": 1.07650061027577,
         "mean_test_score": 1.16356022691,
         "std_test_score": 0.0757962873112875,
         "rank_test_score": 967,
         "_deepnote_index_column": 3
        },
        {
         "Unnamed: 0": 604,
         "mean_fit_time": 3.99652264118195,
         "std_fit_time": 0.23491797061332,
         "mean_score_time": 0.002843427658081,
         "std_score_time": 0.0046607275541761,
         "param_activation": "logistic",
         "param_alpha": 0.0612000490846983,
         "param_batch_size": 63,
         "param_early_stopping": true,
         "param_hidden_layer_sizes": "(75,)",
         "param_learning_rate": "adaptive",
         "param_learning_rate_init": 0.065067180932852,
         "param_max_iter": 1000,
         "param_momentum": 0.85,
         "param_n_iter_no_change": 15,
         "param_random_state": 69,
         "param_solver": "sgd",
         "param_tol": 0.001908963798589,
         "param_validation_fraction": 0.2,
         "params": "{'activation': 'logistic', 'alpha': 0.06120004908469834, 'batch_size': 63, 'early_stopping': True, …",
         "split0_test_score": 1.07788573682559,
         "split1_test_score": 1.09502087373898,
         "split2_test_score": 1.19457403620353,
         "split3_test_score": 1.22576781048605,
         "split4_test_score": 1.21715618722102,
         "split5_test_score": 1.26847635112078,
         "split6_test_score": 1.24624747624232,
         "split7_test_score": 1.08118413643965,
         "split8_test_score": 1.2552461356646,
         "split9_test_score": 0.992316583613539,
         "mean_test_score": 1.16538753275561,
         "std_test_score": 0.0905922862814805,
         "rank_test_score": 966,
         "_deepnote_index_column": 4
        },
        {
         "Unnamed: 0": 600,
         "mean_fit_time": 10.5114069700241,
         "std_fit_time": 0.801544893261005,
         "mean_score_time": 0.0064715862274169,
         "std_score_time": 0.0051960285057775,
         "param_activation": "tanh",
         "param_alpha": 0.0929363829312609,
         "param_batch_size": 547,
         "param_early_stopping": true,
         "param_hidden_layer_sizes": "(75, 75)",
         "param_learning_rate": "adaptive",
         "param_learning_rate_init": 0.0168099937269797,
         "param_max_iter": 1000,
         "param_momentum": 0.85,
         "param_n_iter_no_change": 25,
         "param_random_state": 69,
         "param_solver": "sgd",
         "param_tol": 0.0010739738108819,
         "param_validation_fraction": 0.2,
         "params": "{'activation': 'tanh', 'alpha': 0.09293638293126087, 'batch_size': 547, 'early_stopping': True, 'hi…",
         "split0_test_score": 1.1017447760834,
         "split1_test_score": 1.06800603916196,
         "split2_test_score": 1.15679622016431,
         "split3_test_score": 1.25975300937022,
         "split4_test_score": 1.25399384463909,
         "split5_test_score": 1.24003333123936,
         "split6_test_score": 1.21374413965047,
         "split7_test_score": 1.07153435234781,
         "split8_test_score": 1.2411364427379,
         "split9_test_score": 1.04762824857058,
         "mean_test_score": 1.16543704039651,
         "std_test_score": 0.0816622226646053,
         "rank_test_score": 965,
         "_deepnote_index_column": 5
        },
        {
         "Unnamed: 0": 985,
         "mean_fit_time": 0.679341101646423,
         "std_fit_time": 0.156635210804666,
         "mean_score_time": 0.0063419818878173,
         "std_score_time": 0.0067185879884,
         "param_activation": "logistic",
         "param_alpha": 0.0920564451899695,
         "param_batch_size": 216,
         "param_early_stopping": true,
         "param_hidden_layer_sizes": "(10, 10)",
         "param_learning_rate": "constant",
         "param_learning_rate_init": 0.111807844375027,
         "param_max_iter": 1000,
         "param_momentum": 0.8,
         "param_n_iter_no_change": 25,
         "param_random_state": 69,
         "param_solver": "sgd",
         "param_tol": 0.0013137897487471,
         "param_validation_fraction": 0.2,
         "params": "{'activation': 'logistic', 'alpha': 0.09205644518996947, 'batch_size': 216, 'early_stopping': True,…",
         "split0_test_score": 1.07073103545407,
         "split1_test_score": 1.04860603955461,
         "split2_test_score": 1.26768567086726,
         "split3_test_score": 1.22957263848958,
         "split4_test_score": 1.28343238854532,
         "split5_test_score": 1.28381301095829,
         "split6_test_score": 1.13453630505688,
         "split7_test_score": 1.08123676426331,
         "split8_test_score": 1.19632099138879,
         "split9_test_score": 1.05983430843844,
         "mean_test_score": 1.16557691530165,
         "std_test_score": 0.0923432411270172,
         "rank_test_score": 964,
         "_deepnote_index_column": 6
        },
        {
         "Unnamed: 0": 396,
         "mean_fit_time": 0.973763799667358,
         "std_fit_time": 0.146067633926161,
         "mean_score_time": 0.0034329652786254,
         "std_score_time": 0.0062018130937861,
         "param_activation": "logistic",
         "param_alpha": 0.0191262951565833,
         "param_batch_size": 176,
         "param_early_stopping": true,
         "param_hidden_layer_sizes": "(10, 10)",
         "param_learning_rate": "adaptive",
         "param_learning_rate_init": 0.119028783999641,
         "param_max_iter": 1000,
         "param_momentum": 0.85,
         "param_n_iter_no_change": 5,
         "param_random_state": 69,
         "param_solver": "sgd",
         "param_tol": 0.0013142985196599,
         "param_validation_fraction": 0.2,
         "params": "{'activation': 'logistic', 'alpha': 0.019126295156583335, 'batch_size': 176, 'early_stopping': True…",
         "split0_test_score": 1.07335797250366,
         "split1_test_score": 1.09587645634814,
         "split2_test_score": 1.22788204250303,
         "split3_test_score": 1.19798553890055,
         "split4_test_score": 1.24527009651539,
         "split5_test_score": 1.25079206560288,
         "split6_test_score": 1.16535021068556,
         "split7_test_score": 1.0963885458459,
         "split8_test_score": 1.20485067284661,
         "split9_test_score": 1.11526203805929,
         "mean_test_score": 1.1673015639811,
         "std_test_score": 0.0638268852106687,
         "rank_test_score": 963,
         "_deepnote_index_column": 7
        },
        {
         "Unnamed: 0": 863,
         "mean_fit_time": 3.15962228775024,
         "std_fit_time": 0.467820474624701,
         "mean_score_time": 0.0076250314712524,
         "std_score_time": 0.0070442414704733,
         "param_activation": "logistic",
         "param_alpha": 0.0547383019351661,
         "param_batch_size": 60,
         "param_early_stopping": true,
         "param_hidden_layer_sizes": "(50, 50)",
         "param_learning_rate": "adaptive",
         "param_learning_rate_init": 0.0463513743028402,
         "param_max_iter": 1000,
         "param_momentum": 0.9,
         "param_n_iter_no_change": 5,
         "param_random_state": 69,
         "param_solver": "sgd",
         "param_tol": 0.001915550917648,
         "param_validation_fraction": 0.2,
         "params": "{'activation': 'logistic', 'alpha': 0.05473830193516611, 'batch_size': 60, 'early_stopping': True, …",
         "split0_test_score": 1.10181470436252,
         "split1_test_score": 1.04780168247702,
         "split2_test_score": 1.20133504004684,
         "split3_test_score": 1.24654266456268,
         "split4_test_score": 1.24759673094663,
         "split5_test_score": 1.23501450202139,
         "split6_test_score": 1.19671394126339,
         "split7_test_score": 1.07753315873784,
         "split8_test_score": 1.25844360593392,
         "split9_test_score": 1.07285330137418,
         "mean_test_score": 1.16856493317264,
         "std_test_score": 0.0794816805394338,
         "rank_test_score": 962,
         "_deepnote_index_column": 8
        },
        {
         "Unnamed: 0": 172,
         "mean_fit_time": 0.569085931777954,
         "std_fit_time": 0.125800521259914,
         "mean_score_time": 0.0015345335006713,
         "std_score_time": 0.0011833172416399,
         "param_activation": "logistic",
         "param_alpha": 0.0322582690094388,
         "param_batch_size": 300,
         "param_early_stopping": true,
         "param_hidden_layer_sizes": "(25, 25)",
         "param_learning_rate": "constant",
         "param_learning_rate_init": 0.056367790046051,
         "param_max_iter": 1000,
         "param_momentum": 0.9,
         "param_n_iter_no_change": 15,
         "param_random_state": 69,
         "param_solver": "sgd",
         "param_tol": 0.0018843631241826,
         "param_validation_fraction": 0.2,
         "params": "{'activation': 'logistic', 'alpha': 0.03225826900943882, 'batch_size': 300, 'early_stopping': True,…",
         "split0_test_score": 1.05755318370245,
         "split1_test_score": 1.05065277029075,
         "split2_test_score": 1.22689290066009,
         "split3_test_score": 1.21690736368201,
         "split4_test_score": 1.22990665788792,
         "split5_test_score": 1.27512355474407,
         "split6_test_score": 1.18086439856694,
         "split7_test_score": 1.11183913629298,
         "split8_test_score": 1.31629301947738,
         "split9_test_score": 1.03842072197519,
         "mean_test_score": 1.17044537072798,
         "std_test_score": 0.094434321988895,
         "rank_test_score": 961,
         "_deepnote_index_column": 9
        }
       ]
      },
      "text/plain": "    Unnamed: 0  mean_fit_time  std_fit_time  mean_score_time  std_score_time  \\\n0          393       7.127462      0.741473         0.005884        0.005205   \n1          952       3.059202      0.270122         0.001215        0.000379   \n2          620       0.623801      0.107581         0.003977        0.005141   \n3          169       1.636803      0.387340         0.003847        0.004798   \n4          604       3.996523      0.234918         0.002843        0.004661   \n5          600      10.511407      0.801545         0.006472        0.005196   \n6          985       0.679341      0.156635         0.006342        0.006719   \n7          396       0.973764      0.146068         0.003433        0.006202   \n8          863       3.159622      0.467820         0.007625        0.007044   \n9          172       0.569086      0.125801         0.001535        0.001183   \n10         286       4.967809      0.998755         0.009983        0.012118   \n11         940       2.777949      0.258519         0.004125        0.004312   \n12         108       5.074987      0.519794         0.005292        0.004657   \n13         673       6.434981      0.384525         0.008255        0.005580   \n14         386       0.729029      0.111936         0.002954        0.004948   \n15         402       1.635274      0.095009         0.004199        0.004848   \n16         814       0.598241      0.143616         0.001571        0.001383   \n17         533       1.381824      0.325770         0.004894        0.007545   \n18         302       2.158724      0.425022         0.006035        0.006554   \n19         306       2.625078      0.289068         0.003055        0.003227   \n20         644       2.053608      0.166143         0.001265        0.000409   \n21          29       0.578049      0.108299         0.003358        0.006464   \n22         758       0.319643      0.060046         0.003244        0.006146   \n23         648       0.796330      0.150255         0.003567        0.003572   \n24         765       0.369095      0.073621         0.007410        0.009551   \n25         753       0.434755      0.122778         0.005953        0.006280   \n26         796       0.819067      0.111172         0.002816        0.003234   \n27          16       0.669267      0.122369         0.006928        0.008530   \n28         681       0.294120      0.041462         0.002865        0.004992   \n29         408       0.718107      0.081123         0.001863        0.002663   \n30         833       0.594057      0.133314         0.002982        0.003394   \n31         853       2.363253      0.170028         0.005193        0.005090   \n32         887       6.932030      0.980455         0.004167        0.004967   \n33         524       1.786800      0.402800         0.002923        0.002221   \n34          47       1.673552      0.171488         0.001840        0.001708   \n35         928       3.859437      0.481050         0.003571        0.004790   \n36         856       2.788420      0.445731         0.003839        0.004479   \n37         826       3.925518      0.189748         0.003450        0.002602   \n38         375       0.892667      0.096101         0.002912        0.002791   \n39         908       1.422543      0.182519         0.002752        0.003151   \n40         413       0.623845      0.061574         0.004450        0.004687   \n41         199       2.453053      0.571502         0.008384        0.009441   \n42         653       1.532381      0.190960         0.001642        0.000496   \n43         400       1.606033      0.304478         0.004516        0.004725   \n44         541       0.643264      0.122209         0.001921        0.001479   \n45         482       0.899689      0.234243         0.001215        0.000380   \n46         431       0.539681      0.080876         0.007045        0.008227   \n47         812       0.762934      0.180669         0.005509        0.005436   \n48         424       0.688704      0.143171         0.001512        0.000525   \n\n   param_activation  param_alpha  param_batch_size  param_early_stopping  \\\n0              tanh     0.054117               123                  True   \n1          logistic     0.071183                67                  True   \n2          logistic     0.081040                88                  True   \n3          logistic     0.059974               386                  True   \n4          logistic     0.061200                63                  True   \n5              tanh     0.092936               547                  True   \n6          logistic     0.092056               216                  True   \n7          logistic     0.019126               176                  True   \n8          logistic     0.054738                60                  True   \n9          logistic     0.032258               300                  True   \n10         logistic     0.073874                99                  True   \n11             tanh     0.035780               115                  True   \n12         logistic     0.045569                37                  True   \n13             tanh     0.081409               283                  True   \n14         logistic     0.087653               860                  True   \n15         logistic     0.101198               341                  True   \n16         logistic     0.008968                65                  True   \n17             tanh     0.065003               278                  True   \n18             tanh     0.035798               351                  True   \n19             tanh     0.019937               520                  True   \n20         logistic     0.088760               448                  True   \n21         logistic     0.095160                65                  True   \n22         logistic     0.035229               240                  True   \n23         logistic     0.034473               874                  True   \n24         logistic     0.092862               168                  True   \n25         logistic     0.041745               587                  True   \n26         logistic     0.049534              1166                  True   \n27         logistic     0.090862               663                  True   \n28         logistic     0.080302               419                  True   \n29         logistic     0.083113               813                  True   \n30         logistic     0.064569               891                  True   \n31         logistic     0.053937               137                  True   \n32         logistic     0.098106               681                  True   \n33         logistic     0.039124                87                  True   \n34         logistic     0.038073               484                  True   \n35             tanh     0.043030                79                  True   \n36         logistic     0.048168               831                  True   \n37             tanh     0.008868               530                  True   \n38             tanh     0.014653               172                  True   \n39         logistic     0.066305                73                  True   \n40         logistic     0.050656               909                  True   \n41             tanh     0.055046               676                  True   \n42             tanh     0.037575               510                  True   \n43         logistic     0.090501                75                  True   \n44             tanh     0.090260               796                  True   \n45             tanh     0.020598               933                  True   \n46         logistic     0.054947               622                  True   \n47         logistic     0.010638               570                  True   \n48         logistic     0.033161               422                  True   \n\n   param_hidden_layer_sizes  ... split3_test_score  split4_test_score  \\\n0                  (75, 75)  ...          1.214156           1.212419   \n1                     (25,)  ...          1.250288           1.217157   \n2                  (10, 10)  ...          1.198428           1.232720   \n3                  (10, 10)  ...          1.191140           1.245164   \n4                     (75,)  ...          1.225768           1.217156   \n5                  (75, 75)  ...          1.259753           1.253994   \n6                  (10, 10)  ...          1.229573           1.283432   \n7                  (10, 10)  ...          1.197986           1.245270   \n8                  (50, 50)  ...          1.246543           1.247597   \n9                  (25, 25)  ...          1.216907           1.229907   \n10                 (25, 25)  ...          1.234649           1.229047   \n11                 (10, 10)  ...          1.238821           1.248965   \n12                    (50,)  ...          1.273250           1.241848   \n13                 (50, 50)  ...          1.260780           1.244950   \n14                 (10, 10)  ...          1.240936           1.260384   \n15                 (10, 10)  ...          1.263437           1.237881   \n16                    (25,)  ...          1.271555           1.268320   \n17                 (25, 25)  ...          1.260320           1.259217   \n18                 (75, 75)  ...          1.270430           1.250471   \n19                 (25, 25)  ...          1.207039           1.257236   \n20                    (10,)  ...          1.344538           1.252253   \n21                    (10,)  ...          1.244451           1.269986   \n22                    (10,)  ...          1.292146           1.245575   \n23                 (10, 10)  ...          1.231605           1.281415   \n24                    (10,)  ...          1.306622           1.249160   \n25                    (25,)  ...          1.292455           1.266012   \n26                 (10, 10)  ...          1.242053           1.293956   \n27                 (10, 10)  ...          1.219437           1.237837   \n28                    (10,)  ...          1.325875           1.275797   \n29                 (10, 10)  ...          1.192746           1.290213   \n30                 (10, 10)  ...          1.269846           1.273148   \n31                    (50,)  ...          1.352734           1.303901   \n32                 (75, 75)  ...          1.328325           1.291182   \n33                 (25, 25)  ...          1.278740           1.369569   \n34                    (10,)  ...          1.301820           1.271692   \n35                 (10, 10)  ...          1.277467           1.342649   \n36                    (50,)  ...          1.340914           1.281588   \n37                   (100,)  ...          1.274157           1.293870   \n38                    (25,)  ...          1.312156           1.261840   \n39                    (50,)  ...          1.327548           1.299425   \n40                    (25,)  ...          1.295079           1.285272   \n41                 (50, 50)  ...          1.222689           1.231841   \n42                 (25, 25)  ...          1.384937           1.271392   \n43                    (75,)  ...          1.312243           1.266084   \n44                 (10, 10)  ...          1.371589           1.295304   \n45                 (10, 10)  ...          1.277244           1.355027   \n46                 (25, 25)  ...          1.261864           1.445758   \n47                    (50,)  ...          1.332445           1.319197   \n48                 (25, 25)  ...          1.337394           1.315406   \n\n    split5_test_score  split6_test_score  split7_test_score  \\\n0            1.221896           1.166389           1.051015   \n1            1.253775           1.149673           1.099894   \n2            1.259360           1.145410           1.082819   \n3            1.239687           1.206727           1.083169   \n4            1.268476           1.246247           1.081184   \n5            1.240033           1.213744           1.071534   \n6            1.283813           1.134536           1.081237   \n7            1.250792           1.165350           1.096389   \n8            1.235015           1.196714           1.077533   \n9            1.275124           1.180864           1.111839   \n10           1.271234           1.180470           1.096691   \n11           1.263735           1.135132           1.113577   \n12           1.280448           1.175385           1.129918   \n13           1.269981           1.207713           1.097294   \n14           1.275404           1.219920           1.158303   \n15           1.295597           1.279825           1.097063   \n16           1.271944           1.190951           1.169006   \n17           1.247187           1.168767           1.172443   \n18           1.283541           1.211204           1.140479   \n19           1.305781           1.163508           1.121536   \n20           1.271191           1.215343           1.110116   \n21           1.281912           1.150251           1.163895   \n22           1.283905           1.202937           1.132619   \n23           1.287510           1.224423           1.130067   \n24           1.274676           1.229821           1.139251   \n25           1.303029           1.233842           1.128069   \n26           1.308861           1.236440           1.130889   \n27           1.311708           1.274619           1.138501   \n28           1.279266           1.174803           1.184719   \n29           1.301094           1.248689           1.154799   \n30           1.301841           1.244967           1.155450   \n31           1.323156           1.228939           1.135269   \n32           1.283962           1.262340           1.126367   \n33           1.312084           1.145233           1.144471   \n34           1.283660           1.221308           1.164663   \n35           1.321416           1.186512           1.123527   \n36           1.337356           1.273062           1.085941   \n37           1.316700           1.232240           1.138121   \n38           1.316487           1.202206           1.128757   \n39           1.339493           1.244910           1.171238   \n40           1.326514           1.207915           1.135787   \n41           1.289549           1.228391           1.170218   \n42           1.287708           1.287008           1.189690   \n43           1.343153           1.254093           1.161565   \n44           1.273663           1.183349           1.242973   \n45           1.263203           1.160069           1.144157   \n46           1.300324           1.349021           1.121741   \n47           1.325749           1.388814           1.137454   \n48           1.335910           1.264594           1.154636   \n\n    split8_test_score split9_test_score  mean_test_score  std_test_score  \\\n0            1.205769          1.019584         1.134050        0.079941   \n1            1.258694          1.039619         1.161720        0.076875   \n2            1.243615          1.069029         1.162133        0.072073   \n3            1.219111          1.076501         1.163560        0.075796   \n4            1.255246          0.992317         1.165388        0.090592   \n5            1.241136          1.047628         1.165437        0.081662   \n6            1.196321          1.059834         1.165577        0.092343   \n7            1.204851          1.115262         1.167302        0.063827   \n8            1.258444          1.072853         1.168565        0.079482   \n9            1.316293          1.038421         1.170445        0.094434   \n10           1.310385          1.018611         1.173569        0.088764   \n11           1.220739          1.090042         1.174659        0.067673   \n12           1.291074          1.056690         1.181321        0.083598   \n13           1.270482          1.075756         1.183322        0.077885   \n14           1.209184          1.102101         1.189270        0.061262   \n15           1.268254          1.097033         1.191363        0.091962   \n16           1.286062          1.074441         1.192805        0.078507   \n17           1.260966          1.199053         1.196553        0.064452   \n18           1.278974          1.106320         1.197045        0.073276   \n19           1.311612          1.135899         1.200195        0.087508   \n20           1.274370          1.117296         1.200797        0.083278   \n21           1.319635          1.150361         1.200960        0.077217   \n22           1.265586          1.107103         1.201595        0.070312   \n23           1.290262          1.109623         1.201773        0.079350   \n24           1.283158          1.122900         1.205994        0.074191   \n25           1.278125          1.095152         1.207634        0.076663   \n26           1.289610          1.145969         1.213740        0.075153   \n27           1.318714          1.099013         1.214638        0.077921   \n28           1.271679          1.161671         1.215573        0.069315   \n29           1.290309          1.124637         1.216583        0.070487   \n30           1.299803          1.154979         1.216705        0.070092   \n31           1.297103          1.073787         1.217282        0.093512   \n32           1.292157          1.090699         1.217463        0.089145   \n33           1.267591          1.210808         1.217584        0.084228   \n34           1.300911          1.158495         1.217742        0.067607   \n35           1.285061          1.158931         1.218675        0.092505   \n36           1.295866          1.070821         1.218983        0.098130   \n37           1.343957          1.094879         1.219161        0.088729   \n38           1.331922          1.119691         1.222320        0.083292   \n39           1.304237          1.042605         1.227570        0.094683   \n40           1.315331          1.104791         1.229283        0.076274   \n41           1.262436          1.358121         1.229994        0.086182   \n42           1.329683          1.083955         1.230936        0.095211   \n43           1.391281          1.105314         1.232840        0.093558   \n44           1.257786          1.134587         1.234948        0.072312   \n45           1.339683          1.183775         1.238483        0.071712   \n46           1.317673          1.109067         1.240462        0.111168   \n47           1.308869          1.102805         1.241986        0.102588   \n48           1.356077          1.098336         1.243790        0.087709   \n\n   rank_test_score  \n0              971  \n1              969  \n2              968  \n3              967  \n4              966  \n5              965  \n6              964  \n7              963  \n8              962  \n9              961  \n10             960  \n11             959  \n12             958  \n13             957  \n14             956  \n15             955  \n16             954  \n17             953  \n18             952  \n19             951  \n20             950  \n21             949  \n22             948  \n23             947  \n24             946  \n25             945  \n26             944  \n27             943  \n28             942  \n29             941  \n30             940  \n31             939  \n32             938  \n33             937  \n34             936  \n35             935  \n36             934  \n37             933  \n38             932  \n39             931  \n40             930  \n41             929  \n42             928  \n43             927  \n44             926  \n45             925  \n46             924  \n47             923  \n48             922  \n\n[49 rows x 33 columns]",
      "text/html": "<div>\n<style scoped>\n    .dataframe tbody tr th:only-of-type {\n        vertical-align: middle;\n    }\n\n    .dataframe tbody tr th {\n        vertical-align: top;\n    }\n\n    .dataframe thead th {\n        text-align: right;\n    }\n</style>\n<table border=\"1\" class=\"dataframe\">\n  <thead>\n    <tr style=\"text-align: right;\">\n      <th></th>\n      <th>Unnamed: 0</th>\n      <th>mean_fit_time</th>\n      <th>std_fit_time</th>\n      <th>mean_score_time</th>\n      <th>std_score_time</th>\n      <th>param_activation</th>\n      <th>param_alpha</th>\n      <th>param_batch_size</th>\n      <th>param_early_stopping</th>\n      <th>param_hidden_layer_sizes</th>\n      <th>...</th>\n      <th>split3_test_score</th>\n      <th>split4_test_score</th>\n      <th>split5_test_score</th>\n      <th>split6_test_score</th>\n      <th>split7_test_score</th>\n      <th>split8_test_score</th>\n      <th>split9_test_score</th>\n      <th>mean_test_score</th>\n      <th>std_test_score</th>\n      <th>rank_test_score</th>\n    </tr>\n  </thead>\n  <tbody>\n    <tr>\n      <th>0</th>\n      <td>393</td>\n      <td>7.127462</td>\n      <td>0.741473</td>\n      <td>0.005884</td>\n      <td>0.005205</td>\n      <td>tanh</td>\n      <td>0.054117</td>\n      <td>123</td>\n      <td>True</td>\n      <td>(75, 75)</td>\n      <td>...</td>\n      <td>1.214156</td>\n      <td>1.212419</td>\n      <td>1.221896</td>\n      <td>1.166389</td>\n      <td>1.051015</td>\n      <td>1.205769</td>\n      <td>1.019584</td>\n      <td>1.134050</td>\n      <td>0.079941</td>\n      <td>971</td>\n    </tr>\n    <tr>\n      <th>1</th>\n      <td>952</td>\n      <td>3.059202</td>\n      <td>0.270122</td>\n      <td>0.001215</td>\n      <td>0.000379</td>\n      <td>logistic</td>\n      <td>0.071183</td>\n      <td>67</td>\n      <td>True</td>\n      <td>(25,)</td>\n      <td>...</td>\n      <td>1.250288</td>\n      <td>1.217157</td>\n      <td>1.253775</td>\n      <td>1.149673</td>\n      <td>1.099894</td>\n      <td>1.258694</td>\n      <td>1.039619</td>\n      <td>1.161720</td>\n      <td>0.076875</td>\n      <td>969</td>\n    </tr>\n    <tr>\n      <th>2</th>\n      <td>620</td>\n      <td>0.623801</td>\n      <td>0.107581</td>\n      <td>0.003977</td>\n      <td>0.005141</td>\n      <td>logistic</td>\n      <td>0.081040</td>\n      <td>88</td>\n      <td>True</td>\n      <td>(10, 10)</td>\n      <td>...</td>\n      <td>1.198428</td>\n      <td>1.232720</td>\n      <td>1.259360</td>\n      <td>1.145410</td>\n      <td>1.082819</td>\n      <td>1.243615</td>\n      <td>1.069029</td>\n      <td>1.162133</td>\n      <td>0.072073</td>\n      <td>968</td>\n    </tr>\n    <tr>\n      <th>3</th>\n      <td>169</td>\n      <td>1.636803</td>\n      <td>0.387340</td>\n      <td>0.003847</td>\n      <td>0.004798</td>\n      <td>logistic</td>\n      <td>0.059974</td>\n      <td>386</td>\n      <td>True</td>\n      <td>(10, 10)</td>\n      <td>...</td>\n      <td>1.191140</td>\n      <td>1.245164</td>\n      <td>1.239687</td>\n      <td>1.206727</td>\n      <td>1.083169</td>\n      <td>1.219111</td>\n      <td>1.076501</td>\n      <td>1.163560</td>\n      <td>0.075796</td>\n      <td>967</td>\n    </tr>\n    <tr>\n      <th>4</th>\n      <td>604</td>\n      <td>3.996523</td>\n      <td>0.234918</td>\n      <td>0.002843</td>\n      <td>0.004661</td>\n      <td>logistic</td>\n      <td>0.061200</td>\n      <td>63</td>\n      <td>True</td>\n      <td>(75,)</td>\n      <td>...</td>\n      <td>1.225768</td>\n      <td>1.217156</td>\n      <td>1.268476</td>\n      <td>1.246247</td>\n      <td>1.081184</td>\n      <td>1.255246</td>\n      <td>0.992317</td>\n      <td>1.165388</td>\n      <td>0.090592</td>\n      <td>966</td>\n    </tr>\n    <tr>\n      <th>5</th>\n      <td>600</td>\n      <td>10.511407</td>\n      <td>0.801545</td>\n      <td>0.006472</td>\n      <td>0.005196</td>\n      <td>tanh</td>\n      <td>0.092936</td>\n      <td>547</td>\n      <td>True</td>\n      <td>(75, 75)</td>\n      <td>...</td>\n      <td>1.259753</td>\n      <td>1.253994</td>\n      <td>1.240033</td>\n      <td>1.213744</td>\n      <td>1.071534</td>\n      <td>1.241136</td>\n      <td>1.047628</td>\n      <td>1.165437</td>\n      <td>0.081662</td>\n      <td>965</td>\n    </tr>\n    <tr>\n      <th>6</th>\n      <td>985</td>\n      <td>0.679341</td>\n      <td>0.156635</td>\n      <td>0.006342</td>\n      <td>0.006719</td>\n      <td>logistic</td>\n      <td>0.092056</td>\n      <td>216</td>\n      <td>True</td>\n      <td>(10, 10)</td>\n      <td>...</td>\n      <td>1.229573</td>\n      <td>1.283432</td>\n      <td>1.283813</td>\n      <td>1.134536</td>\n      <td>1.081237</td>\n      <td>1.196321</td>\n      <td>1.059834</td>\n      <td>1.165577</td>\n      <td>0.092343</td>\n      <td>964</td>\n    </tr>\n    <tr>\n      <th>7</th>\n      <td>396</td>\n      <td>0.973764</td>\n      <td>0.146068</td>\n      <td>0.003433</td>\n      <td>0.006202</td>\n      <td>logistic</td>\n      <td>0.019126</td>\n      <td>176</td>\n      <td>True</td>\n      <td>(10, 10)</td>\n      <td>...</td>\n      <td>1.197986</td>\n      <td>1.245270</td>\n      <td>1.250792</td>\n      <td>1.165350</td>\n      <td>1.096389</td>\n      <td>1.204851</td>\n      <td>1.115262</td>\n      <td>1.167302</td>\n      <td>0.063827</td>\n      <td>963</td>\n    </tr>\n    <tr>\n      <th>8</th>\n      <td>863</td>\n      <td>3.159622</td>\n      <td>0.467820</td>\n      <td>0.007625</td>\n      <td>0.007044</td>\n      <td>logistic</td>\n      <td>0.054738</td>\n      <td>60</td>\n      <td>True</td>\n      <td>(50, 50)</td>\n      <td>...</td>\n      <td>1.246543</td>\n      <td>1.247597</td>\n      <td>1.235015</td>\n      <td>1.196714</td>\n      <td>1.077533</td>\n      <td>1.258444</td>\n      <td>1.072853</td>\n      <td>1.168565</td>\n      <td>0.079482</td>\n      <td>962</td>\n    </tr>\n    <tr>\n      <th>9</th>\n      <td>172</td>\n      <td>0.569086</td>\n      <td>0.125801</td>\n      <td>0.001535</td>\n      <td>0.001183</td>\n      <td>logistic</td>\n      <td>0.032258</td>\n      <td>300</td>\n      <td>True</td>\n      <td>(25, 25)</td>\n      <td>...</td>\n      <td>1.216907</td>\n      <td>1.229907</td>\n      <td>1.275124</td>\n      <td>1.180864</td>\n      <td>1.111839</td>\n      <td>1.316293</td>\n      <td>1.038421</td>\n      <td>1.170445</td>\n      <td>0.094434</td>\n      <td>961</td>\n    </tr>\n    <tr>\n      <th>10</th>\n      <td>286</td>\n      <td>4.967809</td>\n      <td>0.998755</td>\n      <td>0.009983</td>\n      <td>0.012118</td>\n      <td>logistic</td>\n      <td>0.073874</td>\n      <td>99</td>\n      <td>True</td>\n      <td>(25, 25)</td>\n      <td>...</td>\n      <td>1.234649</td>\n      <td>1.229047</td>\n      <td>1.271234</td>\n      <td>1.180470</td>\n      <td>1.096691</td>\n      <td>1.310385</td>\n      <td>1.018611</td>\n      <td>1.173569</td>\n      <td>0.088764</td>\n      <td>960</td>\n    </tr>\n    <tr>\n      <th>11</th>\n      <td>940</td>\n      <td>2.777949</td>\n      <td>0.258519</td>\n      <td>0.004125</td>\n      <td>0.004312</td>\n      <td>tanh</td>\n      <td>0.035780</td>\n      <td>115</td>\n      <td>True</td>\n      <td>(10, 10)</td>\n      <td>...</td>\n      <td>1.238821</td>\n      <td>1.248965</td>\n      <td>1.263735</td>\n      <td>1.135132</td>\n      <td>1.113577</td>\n      <td>1.220739</td>\n      <td>1.090042</td>\n      <td>1.174659</td>\n      <td>0.067673</td>\n      <td>959</td>\n    </tr>\n    <tr>\n      <th>12</th>\n      <td>108</td>\n      <td>5.074987</td>\n      <td>0.519794</td>\n      <td>0.005292</td>\n      <td>0.004657</td>\n      <td>logistic</td>\n      <td>0.045569</td>\n      <td>37</td>\n      <td>True</td>\n      <td>(50,)</td>\n      <td>...</td>\n      <td>1.273250</td>\n      <td>1.241848</td>\n      <td>1.280448</td>\n      <td>1.175385</td>\n      <td>1.129918</td>\n      <td>1.291074</td>\n      <td>1.056690</td>\n      <td>1.181321</td>\n      <td>0.083598</td>\n      <td>958</td>\n    </tr>\n    <tr>\n      <th>13</th>\n      <td>673</td>\n      <td>6.434981</td>\n      <td>0.384525</td>\n      <td>0.008255</td>\n      <td>0.005580</td>\n      <td>tanh</td>\n      <td>0.081409</td>\n      <td>283</td>\n      <td>True</td>\n      <td>(50, 50)</td>\n      <td>...</td>\n      <td>1.260780</td>\n      <td>1.244950</td>\n      <td>1.269981</td>\n      <td>1.207713</td>\n      <td>1.097294</td>\n      <td>1.270482</td>\n      <td>1.075756</td>\n      <td>1.183322</td>\n      <td>0.077885</td>\n      <td>957</td>\n    </tr>\n    <tr>\n      <th>14</th>\n      <td>386</td>\n      <td>0.729029</td>\n      <td>0.111936</td>\n      <td>0.002954</td>\n      <td>0.004948</td>\n      <td>logistic</td>\n      <td>0.087653</td>\n      <td>860</td>\n      <td>True</td>\n      <td>(10, 10)</td>\n      <td>...</td>\n      <td>1.240936</td>\n      <td>1.260384</td>\n      <td>1.275404</td>\n      <td>1.219920</td>\n      <td>1.158303</td>\n      <td>1.209184</td>\n      <td>1.102101</td>\n      <td>1.189270</td>\n      <td>0.061262</td>\n      <td>956</td>\n    </tr>\n    <tr>\n      <th>15</th>\n      <td>402</td>\n      <td>1.635274</td>\n      <td>0.095009</td>\n      <td>0.004199</td>\n      <td>0.004848</td>\n      <td>logistic</td>\n      <td>0.101198</td>\n      <td>341</td>\n      <td>True</td>\n      <td>(10, 10)</td>\n      <td>...</td>\n      <td>1.263437</td>\n      <td>1.237881</td>\n      <td>1.295597</td>\n      <td>1.279825</td>\n      <td>1.097063</td>\n      <td>1.268254</td>\n      <td>1.097033</td>\n      <td>1.191363</td>\n      <td>0.091962</td>\n      <td>955</td>\n    </tr>\n    <tr>\n      <th>16</th>\n      <td>814</td>\n      <td>0.598241</td>\n      <td>0.143616</td>\n      <td>0.001571</td>\n      <td>0.001383</td>\n      <td>logistic</td>\n      <td>0.008968</td>\n      <td>65</td>\n      <td>True</td>\n      <td>(25,)</td>\n      <td>...</td>\n      <td>1.271555</td>\n      <td>1.268320</td>\n      <td>1.271944</td>\n      <td>1.190951</td>\n      <td>1.169006</td>\n      <td>1.286062</td>\n      <td>1.074441</td>\n      <td>1.192805</td>\n      <td>0.078507</td>\n      <td>954</td>\n    </tr>\n    <tr>\n      <th>17</th>\n      <td>533</td>\n      <td>1.381824</td>\n      <td>0.325770</td>\n      <td>0.004894</td>\n      <td>0.007545</td>\n      <td>tanh</td>\n      <td>0.065003</td>\n      <td>278</td>\n      <td>True</td>\n      <td>(25, 25)</td>\n      <td>...</td>\n      <td>1.260320</td>\n      <td>1.259217</td>\n      <td>1.247187</td>\n      <td>1.168767</td>\n      <td>1.172443</td>\n      <td>1.260966</td>\n      <td>1.199053</td>\n      <td>1.196553</td>\n      <td>0.064452</td>\n      <td>953</td>\n    </tr>\n    <tr>\n      <th>18</th>\n      <td>302</td>\n      <td>2.158724</td>\n      <td>0.425022</td>\n      <td>0.006035</td>\n      <td>0.006554</td>\n      <td>tanh</td>\n      <td>0.035798</td>\n      <td>351</td>\n      <td>True</td>\n      <td>(75, 75)</td>\n      <td>...</td>\n      <td>1.270430</td>\n      <td>1.250471</td>\n      <td>1.283541</td>\n      <td>1.211204</td>\n      <td>1.140479</td>\n      <td>1.278974</td>\n      <td>1.106320</td>\n      <td>1.197045</td>\n      <td>0.073276</td>\n      <td>952</td>\n    </tr>\n    <tr>\n      <th>19</th>\n      <td>306</td>\n      <td>2.625078</td>\n      <td>0.289068</td>\n      <td>0.003055</td>\n      <td>0.003227</td>\n      <td>tanh</td>\n      <td>0.019937</td>\n      <td>520</td>\n      <td>True</td>\n      <td>(25, 25)</td>\n      <td>...</td>\n      <td>1.207039</td>\n      <td>1.257236</td>\n      <td>1.305781</td>\n      <td>1.163508</td>\n      <td>1.121536</td>\n      <td>1.311612</td>\n      <td>1.135899</td>\n      <td>1.200195</td>\n      <td>0.087508</td>\n      <td>951</td>\n    </tr>\n    <tr>\n      <th>20</th>\n      <td>644</td>\n      <td>2.053608</td>\n      <td>0.166143</td>\n      <td>0.001265</td>\n      <td>0.000409</td>\n      <td>logistic</td>\n      <td>0.088760</td>\n      <td>448</td>\n      <td>True</td>\n      <td>(10,)</td>\n      <td>...</td>\n      <td>1.344538</td>\n      <td>1.252253</td>\n      <td>1.271191</td>\n      <td>1.215343</td>\n      <td>1.110116</td>\n      <td>1.274370</td>\n      <td>1.117296</td>\n      <td>1.200797</td>\n      <td>0.083278</td>\n      <td>950</td>\n    </tr>\n    <tr>\n      <th>21</th>\n      <td>29</td>\n      <td>0.578049</td>\n      <td>0.108299</td>\n      <td>0.003358</td>\n      <td>0.006464</td>\n      <td>logistic</td>\n      <td>0.095160</td>\n      <td>65</td>\n      <td>True</td>\n      <td>(10,)</td>\n      <td>...</td>\n      <td>1.244451</td>\n      <td>1.269986</td>\n      <td>1.281912</td>\n      <td>1.150251</td>\n      <td>1.163895</td>\n      <td>1.319635</td>\n      <td>1.150361</td>\n      <td>1.200960</td>\n      <td>0.077217</td>\n      <td>949</td>\n    </tr>\n    <tr>\n      <th>22</th>\n      <td>758</td>\n      <td>0.319643</td>\n      <td>0.060046</td>\n      <td>0.003244</td>\n      <td>0.006146</td>\n      <td>logistic</td>\n      <td>0.035229</td>\n      <td>240</td>\n      <td>True</td>\n      <td>(10,)</td>\n      <td>...</td>\n      <td>1.292146</td>\n      <td>1.245575</td>\n      <td>1.283905</td>\n      <td>1.202937</td>\n      <td>1.132619</td>\n      <td>1.265586</td>\n      <td>1.107103</td>\n      <td>1.201595</td>\n      <td>0.070312</td>\n      <td>948</td>\n    </tr>\n    <tr>\n      <th>23</th>\n      <td>648</td>\n      <td>0.796330</td>\n      <td>0.150255</td>\n      <td>0.003567</td>\n      <td>0.003572</td>\n      <td>logistic</td>\n      <td>0.034473</td>\n      <td>874</td>\n      <td>True</td>\n      <td>(10, 10)</td>\n      <td>...</td>\n      <td>1.231605</td>\n      <td>1.281415</td>\n      <td>1.287510</td>\n      <td>1.224423</td>\n      <td>1.130067</td>\n      <td>1.290262</td>\n      <td>1.109623</td>\n      <td>1.201773</td>\n      <td>0.079350</td>\n      <td>947</td>\n    </tr>\n    <tr>\n      <th>24</th>\n      <td>765</td>\n      <td>0.369095</td>\n      <td>0.073621</td>\n      <td>0.007410</td>\n      <td>0.009551</td>\n      <td>logistic</td>\n      <td>0.092862</td>\n      <td>168</td>\n      <td>True</td>\n      <td>(10,)</td>\n      <td>...</td>\n      <td>1.306622</td>\n      <td>1.249160</td>\n      <td>1.274676</td>\n      <td>1.229821</td>\n      <td>1.139251</td>\n      <td>1.283158</td>\n      <td>1.122900</td>\n      <td>1.205994</td>\n      <td>0.074191</td>\n      <td>946</td>\n    </tr>\n    <tr>\n      <th>25</th>\n      <td>753</td>\n      <td>0.434755</td>\n      <td>0.122778</td>\n      <td>0.005953</td>\n      <td>0.006280</td>\n      <td>logistic</td>\n      <td>0.041745</td>\n      <td>587</td>\n      <td>True</td>\n      <td>(25,)</td>\n      <td>...</td>\n      <td>1.292455</td>\n      <td>1.266012</td>\n      <td>1.303029</td>\n      <td>1.233842</td>\n      <td>1.128069</td>\n      <td>1.278125</td>\n      <td>1.095152</td>\n      <td>1.207634</td>\n      <td>0.076663</td>\n      <td>945</td>\n    </tr>\n    <tr>\n      <th>26</th>\n      <td>796</td>\n      <td>0.819067</td>\n      <td>0.111172</td>\n      <td>0.002816</td>\n      <td>0.003234</td>\n      <td>logistic</td>\n      <td>0.049534</td>\n      <td>1166</td>\n      <td>True</td>\n      <td>(10, 10)</td>\n      <td>...</td>\n      <td>1.242053</td>\n      <td>1.293956</td>\n      <td>1.308861</td>\n      <td>1.236440</td>\n      <td>1.130889</td>\n      <td>1.289610</td>\n      <td>1.145969</td>\n      <td>1.213740</td>\n      <td>0.075153</td>\n      <td>944</td>\n    </tr>\n    <tr>\n      <th>27</th>\n      <td>16</td>\n      <td>0.669267</td>\n      <td>0.122369</td>\n      <td>0.006928</td>\n      <td>0.008530</td>\n      <td>logistic</td>\n      <td>0.090862</td>\n      <td>663</td>\n      <td>True</td>\n      <td>(10, 10)</td>\n      <td>...</td>\n      <td>1.219437</td>\n      <td>1.237837</td>\n      <td>1.311708</td>\n      <td>1.274619</td>\n      <td>1.138501</td>\n      <td>1.318714</td>\n      <td>1.099013</td>\n      <td>1.214638</td>\n      <td>0.077921</td>\n      <td>943</td>\n    </tr>\n    <tr>\n      <th>28</th>\n      <td>681</td>\n      <td>0.294120</td>\n      <td>0.041462</td>\n      <td>0.002865</td>\n      <td>0.004992</td>\n      <td>logistic</td>\n      <td>0.080302</td>\n      <td>419</td>\n      <td>True</td>\n      <td>(10,)</td>\n      <td>...</td>\n      <td>1.325875</td>\n      <td>1.275797</td>\n      <td>1.279266</td>\n      <td>1.174803</td>\n      <td>1.184719</td>\n      <td>1.271679</td>\n      <td>1.161671</td>\n      <td>1.215573</td>\n      <td>0.069315</td>\n      <td>942</td>\n    </tr>\n    <tr>\n      <th>29</th>\n      <td>408</td>\n      <td>0.718107</td>\n      <td>0.081123</td>\n      <td>0.001863</td>\n      <td>0.002663</td>\n      <td>logistic</td>\n      <td>0.083113</td>\n      <td>813</td>\n      <td>True</td>\n      <td>(10, 10)</td>\n      <td>...</td>\n      <td>1.192746</td>\n      <td>1.290213</td>\n      <td>1.301094</td>\n      <td>1.248689</td>\n      <td>1.154799</td>\n      <td>1.290309</td>\n      <td>1.124637</td>\n      <td>1.216583</td>\n      <td>0.070487</td>\n      <td>941</td>\n    </tr>\n    <tr>\n      <th>30</th>\n      <td>833</td>\n      <td>0.594057</td>\n      <td>0.133314</td>\n      <td>0.002982</td>\n      <td>0.003394</td>\n      <td>logistic</td>\n      <td>0.064569</td>\n      <td>891</td>\n      <td>True</td>\n      <td>(10, 10)</td>\n      <td>...</td>\n      <td>1.269846</td>\n      <td>1.273148</td>\n      <td>1.301841</td>\n      <td>1.244967</td>\n      <td>1.155450</td>\n      <td>1.299803</td>\n      <td>1.154979</td>\n      <td>1.216705</td>\n      <td>0.070092</td>\n      <td>940</td>\n    </tr>\n    <tr>\n      <th>31</th>\n      <td>853</td>\n      <td>2.363253</td>\n      <td>0.170028</td>\n      <td>0.005193</td>\n      <td>0.005090</td>\n      <td>logistic</td>\n      <td>0.053937</td>\n      <td>137</td>\n      <td>True</td>\n      <td>(50,)</td>\n      <td>...</td>\n      <td>1.352734</td>\n      <td>1.303901</td>\n      <td>1.323156</td>\n      <td>1.228939</td>\n      <td>1.135269</td>\n      <td>1.297103</td>\n      <td>1.073787</td>\n      <td>1.217282</td>\n      <td>0.093512</td>\n      <td>939</td>\n    </tr>\n    <tr>\n      <th>32</th>\n      <td>887</td>\n      <td>6.932030</td>\n      <td>0.980455</td>\n      <td>0.004167</td>\n      <td>0.004967</td>\n      <td>logistic</td>\n      <td>0.098106</td>\n      <td>681</td>\n      <td>True</td>\n      <td>(75, 75)</td>\n      <td>...</td>\n      <td>1.328325</td>\n      <td>1.291182</td>\n      <td>1.283962</td>\n      <td>1.262340</td>\n      <td>1.126367</td>\n      <td>1.292157</td>\n      <td>1.090699</td>\n      <td>1.217463</td>\n      <td>0.089145</td>\n      <td>938</td>\n    </tr>\n    <tr>\n      <th>33</th>\n      <td>524</td>\n      <td>1.786800</td>\n      <td>0.402800</td>\n      <td>0.002923</td>\n      <td>0.002221</td>\n      <td>logistic</td>\n      <td>0.039124</td>\n      <td>87</td>\n      <td>True</td>\n      <td>(25, 25)</td>\n      <td>...</td>\n      <td>1.278740</td>\n      <td>1.369569</td>\n      <td>1.312084</td>\n      <td>1.145233</td>\n      <td>1.144471</td>\n      <td>1.267591</td>\n      <td>1.210808</td>\n      <td>1.217584</td>\n      <td>0.084228</td>\n      <td>937</td>\n    </tr>\n    <tr>\n      <th>34</th>\n      <td>47</td>\n      <td>1.673552</td>\n      <td>0.171488</td>\n      <td>0.001840</td>\n      <td>0.001708</td>\n      <td>logistic</td>\n      <td>0.038073</td>\n      <td>484</td>\n      <td>True</td>\n      <td>(10,)</td>\n      <td>...</td>\n      <td>1.301820</td>\n      <td>1.271692</td>\n      <td>1.283660</td>\n      <td>1.221308</td>\n      <td>1.164663</td>\n      <td>1.300911</td>\n      <td>1.158495</td>\n      <td>1.217742</td>\n      <td>0.067607</td>\n      <td>936</td>\n    </tr>\n    <tr>\n      <th>35</th>\n      <td>928</td>\n      <td>3.859437</td>\n      <td>0.481050</td>\n      <td>0.003571</td>\n      <td>0.004790</td>\n      <td>tanh</td>\n      <td>0.043030</td>\n      <td>79</td>\n      <td>True</td>\n      <td>(10, 10)</td>\n      <td>...</td>\n      <td>1.277467</td>\n      <td>1.342649</td>\n      <td>1.321416</td>\n      <td>1.186512</td>\n      <td>1.123527</td>\n      <td>1.285061</td>\n      <td>1.158931</td>\n      <td>1.218675</td>\n      <td>0.092505</td>\n      <td>935</td>\n    </tr>\n    <tr>\n      <th>36</th>\n      <td>856</td>\n      <td>2.788420</td>\n      <td>0.445731</td>\n      <td>0.003839</td>\n      <td>0.004479</td>\n      <td>logistic</td>\n      <td>0.048168</td>\n      <td>831</td>\n      <td>True</td>\n      <td>(50,)</td>\n      <td>...</td>\n      <td>1.340914</td>\n      <td>1.281588</td>\n      <td>1.337356</td>\n      <td>1.273062</td>\n      <td>1.085941</td>\n      <td>1.295866</td>\n      <td>1.070821</td>\n      <td>1.218983</td>\n      <td>0.098130</td>\n      <td>934</td>\n    </tr>\n    <tr>\n      <th>37</th>\n      <td>826</td>\n      <td>3.925518</td>\n      <td>0.189748</td>\n      <td>0.003450</td>\n      <td>0.002602</td>\n      <td>tanh</td>\n      <td>0.008868</td>\n      <td>530</td>\n      <td>True</td>\n      <td>(100,)</td>\n      <td>...</td>\n      <td>1.274157</td>\n      <td>1.293870</td>\n      <td>1.316700</td>\n      <td>1.232240</td>\n      <td>1.138121</td>\n      <td>1.343957</td>\n      <td>1.094879</td>\n      <td>1.219161</td>\n      <td>0.088729</td>\n      <td>933</td>\n    </tr>\n    <tr>\n      <th>38</th>\n      <td>375</td>\n      <td>0.892667</td>\n      <td>0.096101</td>\n      <td>0.002912</td>\n      <td>0.002791</td>\n      <td>tanh</td>\n      <td>0.014653</td>\n      <td>172</td>\n      <td>True</td>\n      <td>(25,)</td>\n      <td>...</td>\n      <td>1.312156</td>\n      <td>1.261840</td>\n      <td>1.316487</td>\n      <td>1.202206</td>\n      <td>1.128757</td>\n      <td>1.331922</td>\n      <td>1.119691</td>\n      <td>1.222320</td>\n      <td>0.083292</td>\n      <td>932</td>\n    </tr>\n    <tr>\n      <th>39</th>\n      <td>908</td>\n      <td>1.422543</td>\n      <td>0.182519</td>\n      <td>0.002752</td>\n      <td>0.003151</td>\n      <td>logistic</td>\n      <td>0.066305</td>\n      <td>73</td>\n      <td>True</td>\n      <td>(50,)</td>\n      <td>...</td>\n      <td>1.327548</td>\n      <td>1.299425</td>\n      <td>1.339493</td>\n      <td>1.244910</td>\n      <td>1.171238</td>\n      <td>1.304237</td>\n      <td>1.042605</td>\n      <td>1.227570</td>\n      <td>0.094683</td>\n      <td>931</td>\n    </tr>\n    <tr>\n      <th>40</th>\n      <td>413</td>\n      <td>0.623845</td>\n      <td>0.061574</td>\n      <td>0.004450</td>\n      <td>0.004687</td>\n      <td>logistic</td>\n      <td>0.050656</td>\n      <td>909</td>\n      <td>True</td>\n      <td>(25,)</td>\n      <td>...</td>\n      <td>1.295079</td>\n      <td>1.285272</td>\n      <td>1.326514</td>\n      <td>1.207915</td>\n      <td>1.135787</td>\n      <td>1.315331</td>\n      <td>1.104791</td>\n      <td>1.229283</td>\n      <td>0.076274</td>\n      <td>930</td>\n    </tr>\n    <tr>\n      <th>41</th>\n      <td>199</td>\n      <td>2.453053</td>\n      <td>0.571502</td>\n      <td>0.008384</td>\n      <td>0.009441</td>\n      <td>tanh</td>\n      <td>0.055046</td>\n      <td>676</td>\n      <td>True</td>\n      <td>(50, 50)</td>\n      <td>...</td>\n      <td>1.222689</td>\n      <td>1.231841</td>\n      <td>1.289549</td>\n      <td>1.228391</td>\n      <td>1.170218</td>\n      <td>1.262436</td>\n      <td>1.358121</td>\n      <td>1.229994</td>\n      <td>0.086182</td>\n      <td>929</td>\n    </tr>\n    <tr>\n      <th>42</th>\n      <td>653</td>\n      <td>1.532381</td>\n      <td>0.190960</td>\n      <td>0.001642</td>\n      <td>0.000496</td>\n      <td>tanh</td>\n      <td>0.037575</td>\n      <td>510</td>\n      <td>True</td>\n      <td>(25, 25)</td>\n      <td>...</td>\n      <td>1.384937</td>\n      <td>1.271392</td>\n      <td>1.287708</td>\n      <td>1.287008</td>\n      <td>1.189690</td>\n      <td>1.329683</td>\n      <td>1.083955</td>\n      <td>1.230936</td>\n      <td>0.095211</td>\n      <td>928</td>\n    </tr>\n    <tr>\n      <th>43</th>\n      <td>400</td>\n      <td>1.606033</td>\n      <td>0.304478</td>\n      <td>0.004516</td>\n      <td>0.004725</td>\n      <td>logistic</td>\n      <td>0.090501</td>\n      <td>75</td>\n      <td>True</td>\n      <td>(75,)</td>\n      <td>...</td>\n      <td>1.312243</td>\n      <td>1.266084</td>\n      <td>1.343153</td>\n      <td>1.254093</td>\n      <td>1.161565</td>\n      <td>1.391281</td>\n      <td>1.105314</td>\n      <td>1.232840</td>\n      <td>0.093558</td>\n      <td>927</td>\n    </tr>\n    <tr>\n      <th>44</th>\n      <td>541</td>\n      <td>0.643264</td>\n      <td>0.122209</td>\n      <td>0.001921</td>\n      <td>0.001479</td>\n      <td>tanh</td>\n      <td>0.090260</td>\n      <td>796</td>\n      <td>True</td>\n      <td>(10, 10)</td>\n      <td>...</td>\n      <td>1.371589</td>\n      <td>1.295304</td>\n      <td>1.273663</td>\n      <td>1.183349</td>\n      <td>1.242973</td>\n      <td>1.257786</td>\n      <td>1.134587</td>\n      <td>1.234948</td>\n      <td>0.072312</td>\n      <td>926</td>\n    </tr>\n    <tr>\n      <th>45</th>\n      <td>482</td>\n      <td>0.899689</td>\n      <td>0.234243</td>\n      <td>0.001215</td>\n      <td>0.000380</td>\n      <td>tanh</td>\n      <td>0.020598</td>\n      <td>933</td>\n      <td>True</td>\n      <td>(10, 10)</td>\n      <td>...</td>\n      <td>1.277244</td>\n      <td>1.355027</td>\n      <td>1.263203</td>\n      <td>1.160069</td>\n      <td>1.144157</td>\n      <td>1.339683</td>\n      <td>1.183775</td>\n      <td>1.238483</td>\n      <td>0.071712</td>\n      <td>925</td>\n    </tr>\n    <tr>\n      <th>46</th>\n      <td>431</td>\n      <td>0.539681</td>\n      <td>0.080876</td>\n      <td>0.007045</td>\n      <td>0.008227</td>\n      <td>logistic</td>\n      <td>0.054947</td>\n      <td>622</td>\n      <td>True</td>\n      <td>(25, 25)</td>\n      <td>...</td>\n      <td>1.261864</td>\n      <td>1.445758</td>\n      <td>1.300324</td>\n      <td>1.349021</td>\n      <td>1.121741</td>\n      <td>1.317673</td>\n      <td>1.109067</td>\n      <td>1.240462</td>\n      <td>0.111168</td>\n      <td>924</td>\n    </tr>\n    <tr>\n      <th>47</th>\n      <td>812</td>\n      <td>0.762934</td>\n      <td>0.180669</td>\n      <td>0.005509</td>\n      <td>0.005436</td>\n      <td>logistic</td>\n      <td>0.010638</td>\n      <td>570</td>\n      <td>True</td>\n      <td>(50,)</td>\n      <td>...</td>\n      <td>1.332445</td>\n      <td>1.319197</td>\n      <td>1.325749</td>\n      <td>1.388814</td>\n      <td>1.137454</td>\n      <td>1.308869</td>\n      <td>1.102805</td>\n      <td>1.241986</td>\n      <td>0.102588</td>\n      <td>923</td>\n    </tr>\n    <tr>\n      <th>48</th>\n      <td>424</td>\n      <td>0.688704</td>\n      <td>0.143171</td>\n      <td>0.001512</td>\n      <td>0.000525</td>\n      <td>logistic</td>\n      <td>0.033161</td>\n      <td>422</td>\n      <td>True</td>\n      <td>(25, 25)</td>\n      <td>...</td>\n      <td>1.337394</td>\n      <td>1.315406</td>\n      <td>1.335910</td>\n      <td>1.264594</td>\n      <td>1.154636</td>\n      <td>1.356077</td>\n      <td>1.098336</td>\n      <td>1.243790</td>\n      <td>0.087709</td>\n      <td>922</td>\n    </tr>\n  </tbody>\n</table>\n<p>49 rows × 33 columns</p>\n</div>"
     },
     "metadata": {}
    }
   ],
   "execution_count": null
  },
  {
   "cell_type": "code",
   "metadata": {
    "cell_id": "00085-78256440-2deb-481b-a2d0-17f6d99adbf3",
    "deepnote_to_be_reexecuted": false,
    "execution_millis": 352392,
    "execution_start": 1642976516897,
    "output_cleared": false,
    "source_hash": "9dd11431",
    "tags": [],
    "deepnote_cell_type": "code"
   },
   "source": "#get the best params for the grid search (cannot use rand_gs.best_estimator directly since it will yield the worst estimator based on MEE)\nbest_params = df_results['params'][0]\nprint(f\"Mean error on the {k}-folds (MEE) on best model: {df_results['mean_test_score'][0]}\\n\")\nprint(f\"Best params: {best_params}\")",
   "outputs": [
    {
     "name": "stdout",
     "text": "Mean error on the 10-folds (MEE) on best model: 1.13405033190412\n\nBest params: {'activation': 'tanh', 'alpha': 0.05411658766187596, 'batch_size': 123, 'early_stopping': True, 'hidden_layer_sizes': (75, 75), 'learning_rate': 'adaptive', 'learning_rate_init': 0.01492564455111515, 'max_iter': 1000, 'momentum': 0.85, 'n_iter_no_change': 15, 'random_state': 69, 'solver': 'sgd', 'tol': 0.0010965248580978662, 'validation_fraction': 0.2}\n",
     "output_type": "stream"
    }
   ],
   "execution_count": null
  },
  {
   "cell_type": "markdown",
   "source": "## Model assessment ",
   "metadata": {
    "cell_id": "0c7c082d-2065-4a66-a4ac-a335f1eafb2c",
    "tags": [],
    "deepnote_cell_type": "markdown"
   }
  },
  {
   "cell_type": "markdown",
   "source": "We store the top 10 models in order to compose the final model (average voting committee).",
   "metadata": {
    "cell_id": "443a5b25-835d-48f7-b118-c7e761130b74",
    "tags": [],
    "deepnote_cell_type": "markdown"
   }
  },
  {
   "cell_type": "code",
   "metadata": {
    "cell_id": "00087-bc5b154e-2743-4dcd-967c-91bd9c919a0a",
    "deepnote_to_be_reexecuted": false,
    "execution_millis": 7,
    "execution_start": 1642976516901,
    "source_hash": "42caa3f7",
    "tags": [],
    "deepnote_cell_type": "code"
   },
   "source": "best_models = list() #list of the top ten models of the final randomized search\neval_best_models = list()\n\nfor i in range(10):\n    best_params_i = df_results['params'][i]\n    best_params_i = ast.literal_eval(best_params_i)\n    print(best_params_i)\n    \n    model_i = MLPRegressor(**best_params_i)\n    best_params_i['early_stopping'] = False\n    model_i_eval = MLPRegressor(**best_params_i)\n    best_models.append(model_i)\n    eval_best_models.append(model_i_eval)",
   "outputs": [
    {
     "name": "stdout",
     "text": "{'activation': 'tanh', 'alpha': 0.05411658766187596, 'batch_size': 123, 'early_stopping': True, 'hidden_layer_sizes': (75, 75), 'learning_rate': 'adaptive', 'learning_rate_init': 0.01492564455111515, 'max_iter': 1000, 'momentum': 0.85, 'n_iter_no_change': 15, 'random_state': 69, 'solver': 'sgd', 'tol': 0.0010965248580978662, 'validation_fraction': 0.2}\n{'activation': 'logistic', 'alpha': 0.07118331505308412, 'batch_size': 67, 'early_stopping': True, 'hidden_layer_sizes': (25,), 'learning_rate': 'adaptive', 'learning_rate_init': 0.06957707631735699, 'max_iter': 1000, 'momentum': 0.85, 'n_iter_no_change': 15, 'random_state': 69, 'solver': 'sgd', 'tol': 0.0019326355889529127, 'validation_fraction': 0.2}\n{'activation': 'logistic', 'alpha': 0.08103975825510298, 'batch_size': 88, 'early_stopping': True, 'hidden_layer_sizes': (10, 10), 'learning_rate': 'constant', 'learning_rate_init': 0.08185962085289768, 'max_iter': 1000, 'momentum': 0.8, 'n_iter_no_change': 15, 'random_state': 69, 'solver': 'sgd', 'tol': 0.0013898160758368818, 'validation_fraction': 0.2}\n{'activation': 'logistic', 'alpha': 0.059974103610111136, 'batch_size': 386, 'early_stopping': True, 'hidden_layer_sizes': (10, 10), 'learning_rate': 'adaptive', 'learning_rate_init': 0.08295704747296556, 'max_iter': 1000, 'momentum': 0.9, 'n_iter_no_change': 15, 'random_state': 69, 'solver': 'sgd', 'tol': 0.0013883127378521646, 'validation_fraction': 0.2}\n{'activation': 'logistic', 'alpha': 0.06120004908469834, 'batch_size': 63, 'early_stopping': True, 'hidden_layer_sizes': (75,), 'learning_rate': 'adaptive', 'learning_rate_init': 0.06506718093285199, 'max_iter': 1000, 'momentum': 0.85, 'n_iter_no_change': 15, 'random_state': 69, 'solver': 'sgd', 'tol': 0.001908963798589072, 'validation_fraction': 0.2}\n{'activation': 'tanh', 'alpha': 0.09293638293126087, 'batch_size': 547, 'early_stopping': True, 'hidden_layer_sizes': (75, 75), 'learning_rate': 'adaptive', 'learning_rate_init': 0.016809993726979663, 'max_iter': 1000, 'momentum': 0.85, 'n_iter_no_change': 25, 'random_state': 69, 'solver': 'sgd', 'tol': 0.0010739738108819803, 'validation_fraction': 0.2}\n{'activation': 'logistic', 'alpha': 0.09205644518996947, 'batch_size': 216, 'early_stopping': True, 'hidden_layer_sizes': (10, 10), 'learning_rate': 'constant', 'learning_rate_init': 0.11180784437502708, 'max_iter': 1000, 'momentum': 0.8, 'n_iter_no_change': 25, 'random_state': 69, 'solver': 'sgd', 'tol': 0.0013137897487471037, 'validation_fraction': 0.2}\n{'activation': 'logistic', 'alpha': 0.019126295156583335, 'batch_size': 176, 'early_stopping': True, 'hidden_layer_sizes': (10, 10), 'learning_rate': 'adaptive', 'learning_rate_init': 0.11902878399964069, 'max_iter': 1000, 'momentum': 0.85, 'n_iter_no_change': 5, 'random_state': 69, 'solver': 'sgd', 'tol': 0.0013142985196599325, 'validation_fraction': 0.2}\n{'activation': 'logistic', 'alpha': 0.05473830193516611, 'batch_size': 60, 'early_stopping': True, 'hidden_layer_sizes': (50, 50), 'learning_rate': 'adaptive', 'learning_rate_init': 0.046351374302840184, 'max_iter': 1000, 'momentum': 0.9, 'n_iter_no_change': 5, 'random_state': 69, 'solver': 'sgd', 'tol': 0.0019155509176480778, 'validation_fraction': 0.2}\n{'activation': 'logistic', 'alpha': 0.03225826900943882, 'batch_size': 300, 'early_stopping': True, 'hidden_layer_sizes': (25, 25), 'learning_rate': 'constant', 'learning_rate_init': 0.05636779004605101, 'max_iter': 1000, 'momentum': 0.9, 'n_iter_no_change': 15, 'random_state': 69, 'solver': 'sgd', 'tol': 0.0018843631241826867, 'validation_fraction': 0.2}\n",
     "output_type": "stream"
    }
   ],
   "execution_count": null
  },
  {
   "cell_type": "markdown",
   "source": "We fit each one of the model and we also save the number of epochs which is used later to plot the learning curves.",
   "metadata": {
    "cell_id": "3d8579df-6272-4895-932a-fb13280b4fab",
    "tags": [],
    "deepnote_cell_type": "markdown"
   },
   "outputs": [],
   "execution_count": null
  },
  {
   "cell_type": "code",
   "metadata": {
    "cell_id": "9f139698-0795-4535-944b-e30ae691e9c3",
    "deepnote_to_be_reexecuted": false,
    "execution_millis": 28187,
    "execution_start": 1642976516907,
    "source_hash": "f01aac80",
    "tags": [],
    "deepnote_cell_type": "code"
   },
   "source": "epochs_best_models = list()\n\n#fit every model\nfor model in best_models:\n    model.fit(X,y)\n    epochs_best_models.append(model.n_iter_)",
   "outputs": [],
   "execution_count": null
  },
  {
   "cell_type": "markdown",
   "source": "We compute the predictions on the development set (X), the internal test set (X_test) and on the blind test set (blind_ts) of each model.",
   "metadata": {
    "cell_id": "70a8699e-13f0-4c93-a35d-d02597a8c870",
    "tags": [],
    "deepnote_cell_type": "markdown"
   }
  },
  {
   "cell_type": "code",
   "metadata": {
    "cell_id": "4657f071-48d6-47eb-9865-809f5ed665ed",
    "deepnote_to_be_reexecuted": false,
    "execution_millis": 149,
    "execution_start": 1642976545138,
    "source_hash": "77a89b52",
    "tags": [],
    "deepnote_cell_type": "code"
   },
   "source": "y_predictions_train = list()\ny_predictions_internal_test = list()\ny_predictions_blind_test = list()\n\n#predictions on every model is averaged\nfor model in best_models:\n    #prediction on TRAINING SET\n    y_pred = model.predict(X)\n    y_predictions_train.append(y_pred)\n    \n    #prediction on INTERNAL TEST SET\n    y_pred = model.predict(X_test)\n    y_predictions_internal_test.append(y_pred)\n\n    #prediction on BLIND TEST SET\n    y_pred = model.predict(blind_ts)\n    y_predictions_blind_test.append(y_pred)",
   "outputs": [],
   "execution_count": null
  },
  {
   "cell_type": "markdown",
   "source": "We finally compute the average of the predictions for training set, internal test set and blind test set.",
   "metadata": {
    "cell_id": "9daa18af-d88e-4bd1-970a-3cf8623cb24c",
    "tags": [],
    "deepnote_cell_type": "markdown"
   }
  },
  {
   "cell_type": "code",
   "source": "y_pred_voting_ens_train_set = np.average(y_predictions_train, axis=0)\ny_pred_voting_ens_internal_test = np.average(y_predictions_internal_test, axis=0)\n\nprint(f\"MEE on train set: {mee(y, y_pred_voting_ens_train_set)}\")\nprint(f\"MEE on internal test set: {mee(y_test, y_pred_voting_ens_internal_test)}\")",
   "metadata": {
    "cell_id": "c0cc70ac-73aa-4688-8b75-d4567d5092c4",
    "tags": [],
    "deepnote_to_be_reexecuted": false,
    "source_hash": "8dbb6b92",
    "execution_start": 1642976545293,
    "execution_millis": 16,
    "deepnote_cell_type": "code"
   },
   "outputs": [
    {
     "name": "stdout",
     "text": "MEE on train set: 1.0925512138619808\nMEE on internal test set: 1.0750268410826826\n",
     "output_type": "stream"
    }
   ],
   "execution_count": null
  },
  {
   "cell_type": "markdown",
   "source": "The evaluation models are used to store and then plot the loss values.",
   "metadata": {
    "cell_id": "ad7682b5-3c2b-4f48-94bd-f2472b20df64",
    "tags": [],
    "deepnote_cell_type": "markdown"
   }
  },
  {
   "cell_type": "code",
   "metadata": {
    "cell_id": "97f83cfa-9754-40b1-9b2b-a04c27748553",
    "deepnote_to_be_reexecuted": false,
    "execution_millis": 98246,
    "execution_start": 1642976545310,
    "source_hash": "ad7cd049",
    "tags": [],
    "deepnote_cell_type": "code"
   },
   "source": "loss_train_best_models = list()\nloss_test_best_models = list()\n\nfor i in range(len(eval_best_models)):\n    epochs = epochs_best_models[i]\n    eval_model = eval_best_models[i]\n    score_train, score_test, loss_train, loss_test = fit_and_score(epochs, eval_model, X, y, X_test, y_test)\n    loss_train_best_models.append(loss_train)\n    loss_test_best_models.append(loss_test)",
   "outputs": [],
   "execution_count": null
  },
  {
   "cell_type": "markdown",
   "source": "## Learning Curves",
   "metadata": {
    "cell_id": "00095-765ec867-bdc2-419a-ba23-a489a71e27ed",
    "tags": [],
    "deepnote_cell_type": "markdown"
   }
  },
  {
   "cell_type": "code",
   "metadata": {
    "cell_id": "00096-38bf5ae9-c594-4799-bb3e-460cdbec1633",
    "deepnote_output_heights": [
     611
    ],
    "deepnote_to_be_reexecuted": false,
    "execution_millis": 1897,
    "execution_start": 1642976643556,
    "output_cleared": false,
    "source_hash": "d09f595f",
    "tags": [],
    "deepnote_cell_type": "code"
   },
   "source": "fig, axes = plt.subplots(4, 3, figsize=(14,16))\naxes = axes.flatten()\nfig.tight_layout()\n\nfor i in range(len(eval_best_models)):\n    epochs = epochs_best_models[i]\n    loss_train = loss_train_best_models[i]\n    loss_test = loss_test_best_models[i]\n    plot_learning_curves(loss_train, loss_test, epochs, \"Loss (MEE)\", axes[i], i)\n\nfig.subplots_adjust(hspace=0.3)\nfig.subplots_adjust(wspace=0.3)\nfig.delaxes(axes[10])\nfig.delaxes(axes[11])",
   "outputs": [
    {
     "data": {
      "text/plain": "<Figure size 1008x1152 with 10 Axes>",
      "image/png": "[encoded data removed]"
     },
     "metadata": {
      "needs_background": "light",
      "image/png": {
       "width": 1006,
       "height": 1170
      }
     },
     "output_type": "display_data"
    }
   ],
   "execution_count": null
  },
  {
   "cell_type": "markdown",
   "source": "### Multiple runs on the internal test set and training set",
   "metadata": {
    "cell_id": "dcd2e19c-ec55-4e58-b17e-361bdcfb677a",
    "tags": [],
    "deepnote_cell_type": "markdown"
   }
  },
  {
   "cell_type": "markdown",
   "source": "We make sure that we did not pick a lucky case by running the model on ten different initializations of the weights.",
   "metadata": {
    "cell_id": "5a965807-86de-4aaa-9e53-b8a366a35a5d",
    "tags": [],
    "deepnote_cell_type": "markdown"
   }
  },
  {
   "cell_type": "code",
   "source": "from random import randint as random_number\n\ny_pred_train_list = list()\ny_pred_test_list = list()\n\nfor i in range(10):\n    best_models = list() #list of the top ten models of the final randomized search\n\n    for i in range(10):\n        best_params_i = df_results['params'][i]\n        best_params_i = ast.literal_eval(best_params_i)\n        best_params_i['random_state'] = random_number(1,1000)\n        model_i = MLPRegressor(**best_params_i)\n        best_models.append(model_i)\n    \n    y_predictions_train = list()\n    y_predictions_internal_test = list()\n\n    #predictions on every model is averaged\n    for model in best_models:\n        model.fit(X,y)\n        #prediction on TRAINING SET\n        y_pred = model.predict(X)\n        y_predictions_train.append(y_pred)\n        \n        #prediction on INTERNAL TEST SET\n        y_pred = model.predict(X_test)\n        y_predictions_internal_test.append(y_pred)\n\n\n    y_pred_voting_ens_train_set = np.average(y_predictions_train, axis=0)\n    y_pred_voting_ens_internal_test = np.average(y_predictions_internal_test, axis=0)\n\n    y_pred_train_list.append(mee(y, y_pred_voting_ens_train_set))\n    y_pred_test_list.append(mee(y_test, y_pred_voting_ens_internal_test))\n\n",
   "metadata": {
    "cell_id": "e5418272-03ee-459b-8605-b08dbdd1be57",
    "tags": [],
    "deepnote_to_be_reexecuted": false,
    "source_hash": "21b91a3d",
    "execution_start": 1642977237622,
    "execution_millis": 284259,
    "deepnote_cell_type": "code"
   },
   "outputs": [],
   "execution_count": null
  },
  {
   "cell_type": "markdown",
   "source": "#### Internal Test Set",
   "metadata": {
    "cell_id": "494c290f-5ed7-48ff-bb75-8f6a9116488a",
    "tags": [],
    "deepnote_cell_type": "markdown"
   }
  },
  {
   "cell_type": "code",
   "source": "avg = sum(y_pred_test_list)/len(y_pred_test_list)\nvar = sum((x-avg)**2 for x in y_pred_test_list) / len(y_pred_test_list)\nprint(f\"average MEE: {avg}\")\nprint(f\"variance MEE: {var}\")",
   "metadata": {
    "cell_id": "7f45d8db-a138-4bdd-8238-6b110bcd670a",
    "tags": [],
    "deepnote_to_be_reexecuted": false,
    "source_hash": "b3f18997",
    "execution_start": 1642977521892,
    "execution_millis": 1,
    "deepnote_cell_type": "code"
   },
   "outputs": [
    {
     "name": "stdout",
     "text": "average MEE: 1.092425014392471\nvariance MEE: 5.793035056099513e-05\n",
     "output_type": "stream"
    }
   ],
   "execution_count": null
  },
  {
   "cell_type": "markdown",
   "source": "#### Training Set",
   "metadata": {
    "cell_id": "42a5dfa9-1c8e-4f94-a048-39a7e231a130",
    "tags": [],
    "deepnote_cell_type": "markdown"
   }
  },
  {
   "cell_type": "code",
   "source": "avg = sum(y_pred_train_list)/len(y_pred_train_list)\nvar = sum((x-avg)**2 for x in y_pred_train_list) / len(y_pred_train_list)\nprint(f\"average MEE: {avg}\")\nprint(f\"variance MEE: {var}\")",
   "metadata": {
    "cell_id": "1b7f97d3-284a-4ea0-95bd-32ac057107fe",
    "tags": [],
    "deepnote_to_be_reexecuted": false,
    "source_hash": "956443f5",
    "execution_start": 1642977521897,
    "execution_millis": 10,
    "deepnote_cell_type": "code"
   },
   "outputs": [
    {
     "name": "stdout",
     "text": "average MEE: 1.0975878778958577\nvariance MEE: 2.867980977306271e-05\n",
     "output_type": "stream"
    }
   ],
   "execution_count": null
  },
  {
   "cell_type": "markdown",
   "source": "### Final predictions on the blind test set",
   "metadata": {
    "cell_id": "211295fb-d722-4338-b621-a0ddd3b4788e",
    "tags": [],
    "deepnote_cell_type": "markdown"
   }
  },
  {
   "cell_type": "code",
   "source": "y_pred_voting_ens_blind_test = np.average(y_predictions_blind_test, axis=0)",
   "metadata": {
    "cell_id": "331bccba-555d-47e4-b725-44b2e0cf131a",
    "tags": [],
    "deepnote_to_be_reexecuted": false,
    "source_hash": "8950e3ca",
    "execution_start": 1642976972338,
    "execution_millis": 1,
    "deepnote_cell_type": "code"
   },
   "outputs": [],
   "execution_count": null
  },
  {
   "cell_type": "markdown",
   "source": "<a style='text-decoration:none;line-height:16px;display:flex;color:#5B5B62;padding:10px;justify-content:end;' href='https://deepnote.com?utm_source=created-in-deepnote-cell&projectId=d9d840c9-75b3-4185-bb01-105f5cca8d83' target=\"_blank\">\n<img alt='Created in deepnote.com' style='display:inline;max-height:16px;margin:0px;margin-right:7.5px;' src='data:image/svg+xml;base64,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' > </img>\nCreated in <span style='font-weight:600;margin-left:4px;'>Deepnote</span></a>",
   "metadata": {
    "tags": [],
    "created_in_deepnote_cell": true,
    "deepnote_cell_type": "markdown"
   }
  }
 ],
 "nbformat": 4,
 "nbformat_minor": 5,
 "metadata": {
  "deepnote": {},
  "deepnote_execution_queue": [],
  "deepnote_notebook_id": "cbfbc94c-7136-497d-a6ba-3db2f7221311",
  "kernelspec": {
   "display_name": "Python 3",
   "language": "python",
   "name": "python3"
  },
  "language_info": {
   "codemirror_mode": {
    "name": "ipython",
    "version": 3
   },
   "file_extension": ".py",
   "mimetype": "text/x-python",
   "name": "python",
   "nbconvert_exporter": "python",
   "pygments_lexer": "ipython3",
   "version": "3.9.7"
  }
 }
}