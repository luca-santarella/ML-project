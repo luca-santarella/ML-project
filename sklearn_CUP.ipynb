{
 "cells": [
  {
   "cell_type": "markdown",
   "source": "# Machine Learning project a.y. 2021/2022",
   "metadata": {
    "cell_id": "866d5261-65f5-451c-89d3-65ff7cab3bcd",
    "deepnote_cell_type": "markdown"
   }
  },
  {
   "cell_type": "markdown",
   "source": "## Scikit-learn MLP model",
   "metadata": {
    "cell_id": "00001-2aba9e59-2eb1-40b4-8d25-4f2d84338a7b",
    "deepnote_cell_type": "markdown"
   }
  },
  {
   "cell_type": "markdown",
   "source": "## Importing libraries",
   "metadata": {
    "cell_id": "00002-d3953b8e-e2cb-44cd-b14b-fb1a55cd43b9",
    "deepnote_cell_type": "markdown"
   }
  },
  {
   "cell_type": "code",
   "metadata": {
    "deepnote_to_be_reexecuted": false,
    "execution_millis": 2062,
    "execution_start": 1642767077526,
    "source_hash": "98f33825",
    "output_cleared": true,
    "cell_id": "00003-1a905703-18b1-43b9-93fd-d6f4b2f2de3a",
    "deepnote_cell_type": "code"
   },
   "source": "import pandas as pd\nimport matplotlib.pyplot as plt\nimport numpy as np\nimport ast\n\nfrom sklearn.base import clone as clone_model\nfrom sklearn.model_selection import RandomizedSearchCV\nfrom sklearn.model_selection import GridSearchCV\nfrom scipy.stats import uniform\nfrom scipy.stats import randint\nfrom sklearn.metrics import make_scorer\nfrom sklearn.metrics import mean_squared_error\nfrom sklearn.preprocessing import OneHotEncoder\nfrom sklearn.neural_network import MLPRegressor\nfrom sklearn.model_selection import train_test_split\nfrom sklearn.ensemble import BaggingRegressor\nfrom dataclasses import dataclass",
   "outputs": [],
   "execution_count": 1
  },
  {
   "cell_type": "markdown",
   "source": "## Loading training set and blind test set",
   "metadata": {
    "cell_id": "00004-e548d8d6-1237-4e99-b829-8a4f417e5c5f",
    "deepnote_cell_type": "markdown"
   }
  },
  {
   "cell_type": "code",
   "metadata": {
    "deepnote_to_be_reexecuted": false,
    "execution_millis": 22,
    "execution_start": 1642767079599,
    "source_hash": "47b90439",
    "output_cleared": true,
    "cell_id": "00005-b87bacfb-9479-4d66-b250-1604f72d02e6",
    "deepnote_cell_type": "code"
   },
   "source": "df_visual = pd.read_csv('./data/ML-CUP21-TR.csv', usecols=[11,12], names=['idx','f1','f2','f3','f4','f5','f6','f7','f8','f9','f10', 'x','y'])\ndf_task_tr = pd.read_csv('./data/ML-CUP21-TR.csv', names=['idx','f1','f2','f3','f4','f5','f6','f7','f8','f9','f10', 'x','y'])\ndf_task_tr = df_task_tr[7:] # remove first 7 rows of comments\ndf_visual = df_visual[7:]\n\ndf_blind_ts = pd.read_csv('./data/ML-CUP21-TS.csv', names=['idx','f1','f2','f3','f4','f5','f6','f7','f8','f9','f10'])\ndf_blind_ts = df_blind_ts[7:]\ndf_blind_ts.drop(labels=\"idx\", axis=1, inplace=True)\nblind_ts = df_blind_ts.values",
   "outputs": [],
   "execution_count": 2
  },
  {
   "cell_type": "markdown",
   "source": "## Evaluation metrics",
   "metadata": {
    "tags": [],
    "cell_id": "00006-151450c5-9a04-4fe5-b2c2-6eeb104a7d9b",
    "deepnote_cell_type": "markdown"
   }
  },
  {
   "cell_type": "markdown",
   "source": "We define the <b>MEE (Mean Euclidean Error)</b> function which is used to evaluate the mean euclidean distance between two points with x and y coordinates.\nThe function takes in input the true target and the predicted target and yields a floating point number which represents the performance. ",
   "metadata": {
    "tags": [],
    "cell_id": "00007-ddff7e4d-7571-4ba4-9570-28bd00d2cd99",
    "deepnote_cell_type": "markdown"
   }
  },
  {
   "cell_type": "code",
   "metadata": {
    "deepnote_to_be_reexecuted": false,
    "execution_millis": 19,
    "execution_start": 1642767079625,
    "source_hash": "3afbb4cb",
    "tags": [],
    "output_cleared": true,
    "cell_id": "00008-340d7c6b-f5af-4b2c-b133-3648b01d182a",
    "deepnote_cell_type": "code"
   },
   "source": "def mee(true_target, predicted_target): #assuming target is 2-dim matrix with x and y as columns\n    l = true_target.shape[0]\n    res = 0\n    \n    for p in range(l): #for p-th pattern in l (number of samples)\n        x_diff = np.square(true_target[p,0] - predicted_target[p,0]) #difference between the x value of the true and predicted target\n        y_diff = np.square(true_target[p,1] - predicted_target[p,1]) #difference between the y values of true and predicted target\n        sum_term = x_diff + y_diff\n        res = res + np.sqrt(sum_term)\n    res = res / l\n    \n    #return np.average([np.sqrt(np.square(true_target[p,0] - predicted_target[p,0]) + np.square(true_target[p,1] - predicted_target[p,1])) for p in range(l)]) #compact form\n    return res",
   "outputs": [],
   "execution_count": 3
  },
  {
   "cell_type": "markdown",
   "source": "We also define a random state (seed) to allow reproducibility on our experiments",
   "metadata": {
    "tags": [],
    "cell_id": "00009-44be928f-4c00-4b3f-ad7a-d6488544e043",
    "deepnote_cell_type": "markdown"
   }
  },
  {
   "cell_type": "code",
   "metadata": {
    "tags": [],
    "deepnote_to_be_reexecuted": false,
    "source_hash": "596ccc7b",
    "execution_start": 1642767079644,
    "execution_millis": 1,
    "cell_id": "00010-1e049613-6a85-4aa4-a1ba-5a3a62517420",
    "deepnote_cell_type": "code"
   },
   "source": "RS_NUMBER = 69",
   "outputs": [],
   "execution_count": 4
  },
  {
   "cell_type": "markdown",
   "source": "## Regression task",
   "metadata": {
    "tags": [],
    "cell_id": "00065-df984e4c-4153-4489-a59f-c0bdcb42e96a",
    "deepnote_cell_type": "markdown"
   }
  },
  {
   "cell_type": "markdown",
   "source": "### Preparing the training set",
   "metadata": {
    "tags": [],
    "cell_id": "00066-1ca49962-27d4-43c4-8dac-7826757ba7a0",
    "deepnote_cell_type": "markdown"
   }
  },
  {
   "cell_type": "code",
   "metadata": {
    "deepnote_to_be_reexecuted": false,
    "execution_millis": 5,
    "execution_start": 1642767079646,
    "source_hash": "192dcf",
    "tags": [],
    "output_cleared": true,
    "cell_id": "00067-92bf4cec-cb6c-4827-9f33-c4d74082cb9f",
    "deepnote_cell_type": "code"
   },
   "source": "df_task_tr.drop(labels=\"idx\", axis=1, inplace=True)",
   "outputs": [],
   "execution_count": 5
  },
  {
   "cell_type": "code",
   "metadata": {
    "deepnote_to_be_reexecuted": false,
    "execution_millis": 1,
    "execution_start": 1642767079651,
    "source_hash": "8b598d07",
    "tags": [],
    "output_cleared": true,
    "cell_id": "00068-37abe94c-f2b9-47a9-b74a-b45655aeb1aa",
    "deepnote_cell_type": "code"
   },
   "source": "y = df_task_tr[['x','y']].values\nX = df_task_tr.drop(labels=['x','y'], axis=1).values\nX_all = X\ny_all = y",
   "outputs": [],
   "execution_count": 6
  },
  {
   "cell_type": "code",
   "metadata": {
    "deepnote_to_be_reexecuted": false,
    "execution_millis": 33,
    "execution_start": 1642767079652,
    "source_hash": "473a37ed",
    "tags": [],
    "output_cleared": false,
    "cell_id": "00069-6767f5fe-6356-44f6-af09-d2d3fbfcf5fe",
    "deepnote_cell_type": "code"
   },
   "source": "print(X.shape)\nprint(y.shape)",
   "outputs": [
    {
     "name": "stdout",
     "text": "(1477, 10)\n(1477, 2)\n",
     "output_type": "stream"
    }
   ],
   "execution_count": 7
  },
  {
   "cell_type": "markdown",
   "source": "### Internal Test set\nWe split the data set obtaining an internal test set (10%), we will use this internal test at the end to test internally the generalization error",
   "metadata": {
    "tags": [],
    "cell_id": "00070-725d3cb0-dfad-4c2c-b7c3-71f0c3f9aff8",
    "deepnote_cell_type": "markdown"
   }
  },
  {
   "cell_type": "code",
   "metadata": {
    "deepnote_to_be_reexecuted": false,
    "execution_millis": 13,
    "execution_start": 1642767079672,
    "source_hash": "d1f07bc2",
    "tags": [],
    "output_cleared": false,
    "cell_id": "00071-a4121cb3-52be-4a45-9e3f-bd04d7707e26",
    "deepnote_cell_type": "code"
   },
   "source": "X, X_internal_test, y, y_internal_test = train_test_split(X, y, test_size=0.1, random_state=RS_NUMBER)\nprint(f\"X shape: {X.shape}\")\nprint(f\"X internal test shape: {X_internal_test.shape}\")\nprint(f\"y shape: {y.shape}\")\nprint(f\"y internal test shape: {y_internal_test.shape}\")",
   "outputs": [
    {
     "name": "stdout",
     "text": "X shape: (1329, 10)\nX internal test shape: (148, 10)\ny shape: (1329, 2)\ny internal test shape: (148, 2)\n",
     "output_type": "stream"
    }
   ],
   "execution_count": 8
  },
  {
   "cell_type": "code",
   "metadata": {
    "deepnote_to_be_reexecuted": false,
    "execution_millis": 1,
    "execution_start": 1642767079673,
    "source_hash": "58f426c6",
    "tags": [],
    "output_cleared": true,
    "cell_id": "00072-13a2524c-00f1-403d-b362-b638f6f6a886",
    "deepnote_cell_type": "code"
   },
   "source": "#trains the model with one iteration (epoch) and computes in output a list of train and test scores using MEE\ndef fit_and_score(epochs, eval_model, X_train, y_train, X_test, y_test):\n    train_scores = []\n    test_scores = []\n    train_loss = []\n    test_loss = []\n    for i in range(epochs):\n        eval_model = eval_model.partial_fit(X_train,y_train)\n        y_train_predicted = eval_model.predict(X_train)\n        y_test_predicted = eval_model.predict(X_test)\n        #results on train set\n        train_scores.append(mean_squared_error(y_train, y_train_predicted))\n        test_scores.append(mean_squared_error(y_test, y_test_predicted))\n        #result on test set\n        train_loss.append(mee(y_train, y_train_predicted))\n        test_loss.append(mee(y_test, y_test_predicted))\n    return train_scores, test_scores, train_loss, test_loss\n",
   "outputs": [],
   "execution_count": 9
  },
  {
   "cell_type": "markdown",
   "source": "## Randomized Search",
   "metadata": {
    "tags": [],
    "cell_id": "00073-d4db01cf-1e48-4de0-8f63-280380d67142",
    "deepnote_cell_type": "markdown"
   }
  },
  {
   "cell_type": "code",
   "metadata": {
    "tags": [],
    "output_cleared": true,
    "deepnote_to_be_reexecuted": false,
    "source_hash": "1b127074",
    "execution_start": 1642767079687,
    "execution_millis": 1,
    "cell_id": "00074-7f2f7779-f3fd-425c-8514-9bd878c39ee3",
    "deepnote_cell_type": "code"
   },
   "source": "# define the number of iterations\nn_iter_search = 1000\n# define number of k-folds\nk = 10",
   "outputs": [],
   "execution_count": 10
  },
  {
   "cell_type": "code",
   "metadata": {
    "deepnote_output_heights": [
     null,
     358.1875
    ],
    "deepnote_to_be_reexecuted": false,
    "execution_millis": 48,
    "execution_start": 1642767079688,
    "source_hash": "eb4ddd8d",
    "tags": [],
    "output_cleared": false,
    "cell_id": "00075-2ed00a73-ec53-42cf-a3b1-cb4eaef36923",
    "deepnote_cell_type": "code"
   },
   "source": "%%script false --no-raise-error\n\n# to find the best set of parameter setting, we can run a randomized search\n\n# define the parameters' values\nparams = {\n    \"hidden_layer_sizes\": [\n        (5,),(10,),(25,),(50,),(100,),\n        (5, 5),(10, 10),(25, 25),(50, 50),(100, 100),],\n    \"activation\" : [\"logistic\", \"tanh\", \"relu\"],\n    \"solver\": [\"sgd\"],\n    \"learning_rate\": [\"constant\", \"adaptive\", \"invscaling\"],\n    \"learning_rate_init\": uniform(0.01, 0.5),\n    \"alpha\": uniform(0.0001, 0.1),\n    \"momentum\": [0.1, 0.3, 0.5, 0.7, 0.9, 1],\n    \"batch_size\": randint(1, X.shape[0]),\n    \"n_iter_no_change\": [5,15,25],\n    \"random_state\": [RS_NUMBER],\n    \"tol\": uniform(0.001,0.0001),\n    \"early_stopping\": [True],\n    \"validation_fraction\": [0.2],\n    \"max_iter\": [5000],\n}\n\n# define the grid search\nrand_gs = RandomizedSearchCV(\n    MLPRegressor(),\n    param_distributions=params,\n    n_iter=n_iter_search,\n    n_jobs=-1,\n    scoring=make_scorer(mee), #scoring is based on the highest value\n    cv=k,\n    random_state=RS_NUMBER,\n    verbose=10\n)\n# run the grid search\nrand_gs.fit(X, y)\n",
   "outputs": [],
   "execution_count": 11
  },
  {
   "cell_type": "code",
   "metadata": {
    "tags": [],
    "deepnote_to_be_reexecuted": false,
    "source_hash": "ad4ee3e4",
    "execution_start": 1642767079736,
    "execution_millis": 1,
    "cell_id": "00076-1460bdab-c092-4cf0-80e7-fcc606b0fcca",
    "deepnote_cell_type": "code"
   },
   "source": "%%script false --no-raise-error\n\ndf_results = pd.DataFrame(data=rand_gs.cv_results_) #trasform into a pandas dataframe\ndf_results.sort_values(by=\"rank_test_score\", axis=0, ascending=False, inplace=True) #sort rank values in decreasing order \ndf_results.dropna(inplace=True) #delete nan values \ndf_results = df_results[:50] #keep only top 50 models\npd.DataFrame.to_csv(df_results, \"sklearn_results/rand1_search.csv\")",
   "outputs": [],
   "execution_count": 12
  },
  {
   "cell_type": "code",
   "metadata": {
    "deepnote_to_be_reexecuted": false,
    "source_hash": "597f1dd",
    "execution_start": 1642767079737,
    "execution_millis": 133,
    "output_cleared": false,
    "cell_id": "00077-b8f53132-bb5a-4159-9708-b931d8979761",
    "deepnote_cell_type": "code"
   },
   "source": "df_results = pd.read_csv(\"sklearn_results/rand1_search.csv\")\ndf_results.head()\n",
   "outputs": [
    {
     "output_type": "execute_result",
     "execution_count": 13,
     "data": {
      "application/vnd.deepnote.dataframe.v3+json": {
       "column_count": 33,
       "row_count": 5,
       "columns": [
        {
         "name": "Unnamed: 0",
         "dtype": "int64",
         "stats": {
          "unique_count": 5,
          "nan_count": 0,
          "min": "379",
          "max": "957",
          "histogram": [
           {
            "bin_start": 379,
            "bin_end": 436.8,
            "count": 3
           },
           {
            "bin_start": 436.8,
            "bin_end": 494.6,
            "count": 0
           },
           {
            "bin_start": 494.6,
            "bin_end": 552.4,
            "count": 0
           },
           {
            "bin_start": 552.4,
            "bin_end": 610.2,
            "count": 0
           },
           {
            "bin_start": 610.2,
            "bin_end": 668,
            "count": 1
           },
           {
            "bin_start": 668,
            "bin_end": 725.8,
            "count": 0
           },
           {
            "bin_start": 725.8,
            "bin_end": 783.5999999999999,
            "count": 0
           },
           {
            "bin_start": 783.5999999999999,
            "bin_end": 841.4,
            "count": 0
           },
           {
            "bin_start": 841.4,
            "bin_end": 899.1999999999999,
            "count": 0
           },
           {
            "bin_start": 899.1999999999999,
            "bin_end": 957,
            "count": 1
           }
          ]
         }
        },
        {
         "name": "mean_fit_time",
         "dtype": "float64",
         "stats": {
          "unique_count": 5,
          "nan_count": 0,
          "min": "0.8431626796722412",
          "max": "6.348538947105408",
          "histogram": [
           {
            "bin_start": 0.8431626796722412,
            "bin_end": 1.3937003064155578,
            "count": 2
           },
           {
            "bin_start": 1.3937003064155578,
            "bin_end": 1.9442379331588744,
            "count": 0
           },
           {
            "bin_start": 1.9442379331588744,
            "bin_end": 2.494775559902191,
            "count": 0
           },
           {
            "bin_start": 2.494775559902191,
            "bin_end": 3.0453131866455077,
            "count": 1
           },
           {
            "bin_start": 3.0453131866455077,
            "bin_end": 3.5958508133888243,
            "count": 1
           },
           {
            "bin_start": 3.5958508133888243,
            "bin_end": 4.146388440132141,
            "count": 0
           },
           {
            "bin_start": 4.146388440132141,
            "bin_end": 4.6969260668754576,
            "count": 0
           },
           {
            "bin_start": 4.6969260668754576,
            "bin_end": 5.247463693618775,
            "count": 0
           },
           {
            "bin_start": 5.247463693618775,
            "bin_end": 5.798001320362092,
            "count": 0
           },
           {
            "bin_start": 5.798001320362092,
            "bin_end": 6.348538947105408,
            "count": 1
           }
          ]
         }
        },
        {
         "name": "std_fit_time",
         "dtype": "float64",
         "stats": {
          "unique_count": 5,
          "nan_count": 0,
          "min": "0.1012781439569969",
          "max": "1.32422842684846",
          "histogram": [
           {
            "bin_start": 0.1012781439569969,
            "bin_end": 0.2235731722461432,
            "count": 2
           },
           {
            "bin_start": 0.2235731722461432,
            "bin_end": 0.34586820053528955,
            "count": 0
           },
           {
            "bin_start": 0.34586820053528955,
            "bin_end": 0.4681632288244359,
            "count": 1
           },
           {
            "bin_start": 0.4681632288244359,
            "bin_end": 0.5904582571135821,
            "count": 0
           },
           {
            "bin_start": 0.5904582571135821,
            "bin_end": 0.7127532854027284,
            "count": 0
           },
           {
            "bin_start": 0.7127532854027284,
            "bin_end": 0.8350483136918748,
            "count": 0
           },
           {
            "bin_start": 0.8350483136918748,
            "bin_end": 0.9573433419810211,
            "count": 1
           },
           {
            "bin_start": 0.9573433419810211,
            "bin_end": 1.0796383702701675,
            "count": 0
           },
           {
            "bin_start": 1.0796383702701675,
            "bin_end": 1.201933398559314,
            "count": 0
           },
           {
            "bin_start": 1.201933398559314,
            "bin_end": 1.32422842684846,
            "count": 1
           }
          ]
         }
        },
        {
         "name": "mean_score_time",
         "dtype": "float64",
         "stats": {
          "unique_count": 5,
          "nan_count": 0,
          "min": "0.001600956916809",
          "max": "0.0073499679565429",
          "histogram": [
           {
            "bin_start": 0.001600956916809,
            "bin_end": 0.00217585802078239,
            "count": 3
           },
           {
            "bin_start": 0.00217585802078239,
            "bin_end": 0.00275075912475578,
            "count": 0
           },
           {
            "bin_start": 0.00275075912475578,
            "bin_end": 0.0033256602287291704,
            "count": 0
           },
           {
            "bin_start": 0.0033256602287291704,
            "bin_end": 0.0039005613327025603,
            "count": 0
           },
           {
            "bin_start": 0.0039005613327025603,
            "bin_end": 0.00447546243667595,
            "count": 0
           },
           {
            "bin_start": 0.00447546243667595,
            "bin_end": 0.00505036354064934,
            "count": 0
           },
           {
            "bin_start": 0.00505036354064934,
            "bin_end": 0.005625264644622731,
            "count": 0
           },
           {
            "bin_start": 0.005625264644622731,
            "bin_end": 0.0062001657485961205,
            "count": 0
           },
           {
            "bin_start": 0.0062001657485961205,
            "bin_end": 0.00677506685256951,
            "count": 0
           },
           {
            "bin_start": 0.00677506685256951,
            "bin_end": 0.0073499679565429,
            "count": 2
           }
          ]
         }
        },
        {
         "name": "std_score_time",
         "dtype": "float64",
         "stats": {
          "unique_count": 5,
          "nan_count": 0,
          "min": "0.0004137143505123",
          "max": "0.0156589815362613",
          "histogram": [
           {
            "bin_start": 0.0004137143505123,
            "bin_end": 0.0019382410690872002,
            "count": 3
           },
           {
            "bin_start": 0.0019382410690872002,
            "bin_end": 0.0034627677876621003,
            "count": 0
           },
           {
            "bin_start": 0.0034627677876621003,
            "bin_end": 0.004987294506237,
            "count": 0
           },
           {
            "bin_start": 0.004987294506237,
            "bin_end": 0.0065118212248119,
            "count": 0
           },
           {
            "bin_start": 0.0065118212248119,
            "bin_end": 0.0080363479433868,
            "count": 0
           },
           {
            "bin_start": 0.0080363479433868,
            "bin_end": 0.009560874661961701,
            "count": 0
           },
           {
            "bin_start": 0.009560874661961701,
            "bin_end": 0.011085401380536602,
            "count": 0
           },
           {
            "bin_start": 0.011085401380536602,
            "bin_end": 0.012609928099111501,
            "count": 0
           },
           {
            "bin_start": 0.012609928099111501,
            "bin_end": 0.0141344548176864,
            "count": 0
           },
           {
            "bin_start": 0.0141344548176864,
            "bin_end": 0.0156589815362613,
            "count": 2
           }
          ]
         }
        },
        {
         "name": "param_activation",
         "dtype": "object",
         "stats": {
          "unique_count": 2,
          "nan_count": 0,
          "categories": [
           {
            "name": "logistic",
            "count": 4
           },
           {
            "name": "tanh",
            "count": 1
           }
          ]
         }
        },
        {
         "name": "param_alpha",
         "dtype": "float64",
         "stats": {
          "unique_count": 5,
          "nan_count": 0,
          "min": "0.0528999232221881",
          "max": "0.0775249469305298",
          "histogram": [
           {
            "bin_start": 0.0528999232221881,
            "bin_end": 0.05536242559302227,
            "count": 1
           },
           {
            "bin_start": 0.05536242559302227,
            "bin_end": 0.057824927963856444,
            "count": 0
           },
           {
            "bin_start": 0.057824927963856444,
            "bin_end": 0.06028743033469061,
            "count": 0
           },
           {
            "bin_start": 0.06028743033469061,
            "bin_end": 0.06274993270552479,
            "count": 0
           },
           {
            "bin_start": 0.06274993270552479,
            "bin_end": 0.06521243507635896,
            "count": 0
           },
           {
            "bin_start": 0.06521243507635896,
            "bin_end": 0.06767493744719312,
            "count": 1
           },
           {
            "bin_start": 0.06767493744719312,
            "bin_end": 0.0701374398180273,
            "count": 1
           },
           {
            "bin_start": 0.0701374398180273,
            "bin_end": 0.07259994218886145,
            "count": 0
           },
           {
            "bin_start": 0.07259994218886145,
            "bin_end": 0.07506244455969563,
            "count": 1
           },
           {
            "bin_start": 0.07506244455969563,
            "bin_end": 0.0775249469305298,
            "count": 1
           }
          ]
         }
        },
        {
         "name": "param_batch_size",
         "dtype": "int64",
         "stats": {
          "unique_count": 5,
          "nan_count": 0,
          "min": "18",
          "max": "130",
          "histogram": [
           {
            "bin_start": 18,
            "bin_end": 29.2,
            "count": 1
           },
           {
            "bin_start": 29.2,
            "bin_end": 40.4,
            "count": 0
           },
           {
            "bin_start": 40.4,
            "bin_end": 51.599999999999994,
            "count": 0
           },
           {
            "bin_start": 51.599999999999994,
            "bin_end": 62.8,
            "count": 0
           },
           {
            "bin_start": 62.8,
            "bin_end": 74,
            "count": 1
           },
           {
            "bin_start": 74,
            "bin_end": 85.19999999999999,
            "count": 1
           },
           {
            "bin_start": 85.19999999999999,
            "bin_end": 96.39999999999999,
            "count": 0
           },
           {
            "bin_start": 96.39999999999999,
            "bin_end": 107.6,
            "count": 0
           },
           {
            "bin_start": 107.6,
            "bin_end": 118.8,
            "count": 0
           },
           {
            "bin_start": 118.8,
            "bin_end": 130,
            "count": 2
           }
          ]
         }
        },
        {
         "name": "param_early_stopping",
         "dtype": "bool",
         "stats": {
          "unique_count": 1,
          "nan_count": 0,
          "categories": [
           {
            "name": "True",
            "count": 5
           }
          ]
         }
        },
        {
         "name": "param_hidden_layer_sizes",
         "dtype": "object",
         "stats": {
          "unique_count": 4,
          "nan_count": 0,
          "categories": [
           {
            "name": "(10, 10)",
            "count": 2
           },
           {
            "name": "(5, 5)",
            "count": 1
           },
           {
            "name": "2 others",
            "count": 2
           }
          ]
         }
        },
        {
         "name": "param_learning_rate",
         "dtype": "object",
         "stats": {
          "unique_count": 2,
          "nan_count": 0,
          "categories": [
           {
            "name": "adaptive",
            "count": 3
           },
           {
            "name": "constant",
            "count": 2
           }
          ]
         }
        },
        {
         "name": "param_learning_rate_init",
         "dtype": "float64",
         "stats": {
          "unique_count": 5,
          "nan_count": 0,
          "min": "0.0195619850545811",
          "max": "0.1836037477139374",
          "histogram": [
           {
            "bin_start": 0.0195619850545811,
            "bin_end": 0.035966161320516735,
            "count": 2
           },
           {
            "bin_start": 0.035966161320516735,
            "bin_end": 0.05237033758645236,
            "count": 1
           },
           {
            "bin_start": 0.05237033758645236,
            "bin_end": 0.068774513852388,
            "count": 1
           },
           {
            "bin_start": 0.068774513852388,
            "bin_end": 0.08517869011832363,
            "count": 0
           },
           {
            "bin_start": 0.08517869011832363,
            "bin_end": 0.10158286638425926,
            "count": 0
           },
           {
            "bin_start": 0.10158286638425926,
            "bin_end": 0.11798704265019488,
            "count": 0
           },
           {
            "bin_start": 0.11798704265019488,
            "bin_end": 0.1343912189161305,
            "count": 0
           },
           {
            "bin_start": 0.1343912189161305,
            "bin_end": 0.15079539518206614,
            "count": 0
           },
           {
            "bin_start": 0.15079539518206614,
            "bin_end": 0.16719957144800177,
            "count": 0
           },
           {
            "bin_start": 0.16719957144800177,
            "bin_end": 0.1836037477139374,
            "count": 1
           }
          ]
         }
        },
        {
         "name": "param_max_iter",
         "dtype": "int64",
         "stats": {
          "unique_count": 1,
          "nan_count": 0,
          "min": "5000",
          "max": "5000",
          "histogram": [
           {
            "bin_start": 4999.5,
            "bin_end": 4999.6,
            "count": 0
           },
           {
            "bin_start": 4999.6,
            "bin_end": 4999.7,
            "count": 0
           },
           {
            "bin_start": 4999.7,
            "bin_end": 4999.8,
            "count": 0
           },
           {
            "bin_start": 4999.8,
            "bin_end": 4999.9,
            "count": 0
           },
           {
            "bin_start": 4999.9,
            "bin_end": 5000,
            "count": 0
           },
           {
            "bin_start": 5000,
            "bin_end": 5000.1,
            "count": 5
           },
           {
            "bin_start": 5000.1,
            "bin_end": 5000.2,
            "count": 0
           },
           {
            "bin_start": 5000.2,
            "bin_end": 5000.3,
            "count": 0
           },
           {
            "bin_start": 5000.3,
            "bin_end": 5000.4,
            "count": 0
           },
           {
            "bin_start": 5000.4,
            "bin_end": 5000.5,
            "count": 0
           }
          ]
         }
        },
        {
         "name": "param_momentum",
         "dtype": "float64",
         "stats": {
          "unique_count": 3,
          "nan_count": 0,
          "min": "0.3",
          "max": "0.7",
          "histogram": [
           {
            "bin_start": 0.3,
            "bin_end": 0.33999999999999997,
            "count": 2
           },
           {
            "bin_start": 0.33999999999999997,
            "bin_end": 0.38,
            "count": 0
           },
           {
            "bin_start": 0.38,
            "bin_end": 0.42,
            "count": 0
           },
           {
            "bin_start": 0.42,
            "bin_end": 0.45999999999999996,
            "count": 0
           },
           {
            "bin_start": 0.45999999999999996,
            "bin_end": 0.49999999999999994,
            "count": 0
           },
           {
            "bin_start": 0.49999999999999994,
            "bin_end": 0.5399999999999999,
            "count": 1
           },
           {
            "bin_start": 0.5399999999999999,
            "bin_end": 0.58,
            "count": 0
           },
           {
            "bin_start": 0.58,
            "bin_end": 0.6199999999999999,
            "count": 0
           },
           {
            "bin_start": 0.6199999999999999,
            "bin_end": 0.6599999999999999,
            "count": 0
           },
           {
            "bin_start": 0.6599999999999999,
            "bin_end": 0.7,
            "count": 2
           }
          ]
         }
        },
        {
         "name": "param_n_iter_no_change",
         "dtype": "int64",
         "stats": {
          "unique_count": 2,
          "nan_count": 0,
          "min": "15",
          "max": "25",
          "histogram": [
           {
            "bin_start": 15,
            "bin_end": 16,
            "count": 2
           },
           {
            "bin_start": 16,
            "bin_end": 17,
            "count": 0
           },
           {
            "bin_start": 17,
            "bin_end": 18,
            "count": 0
           },
           {
            "bin_start": 18,
            "bin_end": 19,
            "count": 0
           },
           {
            "bin_start": 19,
            "bin_end": 20,
            "count": 0
           },
           {
            "bin_start": 20,
            "bin_end": 21,
            "count": 0
           },
           {
            "bin_start": 21,
            "bin_end": 22,
            "count": 0
           },
           {
            "bin_start": 22,
            "bin_end": 23,
            "count": 0
           },
           {
            "bin_start": 23,
            "bin_end": 24,
            "count": 0
           },
           {
            "bin_start": 24,
            "bin_end": 25,
            "count": 3
           }
          ]
         }
        },
        {
         "name": "param_random_state",
         "dtype": "int64",
         "stats": {
          "unique_count": 1,
          "nan_count": 0,
          "min": "69",
          "max": "69",
          "histogram": [
           {
            "bin_start": 68.5,
            "bin_end": 68.6,
            "count": 0
           },
           {
            "bin_start": 68.6,
            "bin_end": 68.7,
            "count": 0
           },
           {
            "bin_start": 68.7,
            "bin_end": 68.8,
            "count": 0
           },
           {
            "bin_start": 68.8,
            "bin_end": 68.9,
            "count": 0
           },
           {
            "bin_start": 68.9,
            "bin_end": 69,
            "count": 0
           },
           {
            "bin_start": 69,
            "bin_end": 69.1,
            "count": 5
           },
           {
            "bin_start": 69.1,
            "bin_end": 69.2,
            "count": 0
           },
           {
            "bin_start": 69.2,
            "bin_end": 69.3,
            "count": 0
           },
           {
            "bin_start": 69.3,
            "bin_end": 69.4,
            "count": 0
           },
           {
            "bin_start": 69.4,
            "bin_end": 69.5,
            "count": 0
           }
          ]
         }
        },
        {
         "name": "param_solver",
         "dtype": "object",
         "stats": {
          "unique_count": 1,
          "nan_count": 0,
          "categories": [
           {
            "name": "sgd",
            "count": 5
           }
          ]
         }
        },
        {
         "name": "param_tol",
         "dtype": "float64",
         "stats": {
          "unique_count": 5,
          "nan_count": 0,
          "min": "0.0010086235649733",
          "max": "0.0010940800112094",
          "histogram": [
           {
            "bin_start": 0.0010086235649733,
            "bin_end": 0.00101716920959691,
            "count": 2
           },
           {
            "bin_start": 0.00101716920959691,
            "bin_end": 0.0010257148542205201,
            "count": 0
           },
           {
            "bin_start": 0.0010257148542205201,
            "bin_end": 0.00103426049884413,
            "count": 0
           },
           {
            "bin_start": 0.00103426049884413,
            "bin_end": 0.0010428061434677401,
            "count": 1
           },
           {
            "bin_start": 0.0010428061434677401,
            "bin_end": 0.00105135178809135,
            "count": 1
           },
           {
            "bin_start": 0.00105135178809135,
            "bin_end": 0.00105989743271496,
            "count": 0
           },
           {
            "bin_start": 0.00105989743271496,
            "bin_end": 0.00106844307733857,
            "count": 0
           },
           {
            "bin_start": 0.00106844307733857,
            "bin_end": 0.00107698872196218,
            "count": 0
           },
           {
            "bin_start": 0.00107698872196218,
            "bin_end": 0.0010855343665857901,
            "count": 0
           },
           {
            "bin_start": 0.0010855343665857901,
            "bin_end": 0.0010940800112094,
            "count": 1
           }
          ]
         }
        },
        {
         "name": "param_validation_fraction",
         "dtype": "float64",
         "stats": {
          "unique_count": 1,
          "nan_count": 0,
          "min": "0.2",
          "max": "0.2",
          "histogram": [
           {
            "bin_start": -0.3,
            "bin_end": -0.19999999999999998,
            "count": 0
           },
           {
            "bin_start": -0.19999999999999998,
            "bin_end": -0.09999999999999998,
            "count": 0
           },
           {
            "bin_start": -0.09999999999999998,
            "bin_end": 5.551115123125783e-17,
            "count": 0
           },
           {
            "bin_start": 5.551115123125783e-17,
            "bin_end": 0.10000000000000003,
            "count": 0
           },
           {
            "bin_start": 0.10000000000000003,
            "bin_end": 0.2,
            "count": 0
           },
           {
            "bin_start": 0.2,
            "bin_end": 0.3000000000000001,
            "count": 5
           },
           {
            "bin_start": 0.3000000000000001,
            "bin_end": 0.4000000000000001,
            "count": 0
           },
           {
            "bin_start": 0.4000000000000001,
            "bin_end": 0.5,
            "count": 0
           },
           {
            "bin_start": 0.5,
            "bin_end": 0.6000000000000001,
            "count": 0
           },
           {
            "bin_start": 0.6000000000000001,
            "bin_end": 0.7,
            "count": 0
           }
          ]
         }
        },
        {
         "name": "params",
         "dtype": "object",
         "stats": {
          "unique_count": 5,
          "nan_count": 0,
          "categories": [
           {
            "name": "{'activation': 'logistic', 'alpha': 0.06638057704087998, 'batch_size': 65, 'early_stopping': True, 'hidden_layer_sizes': (10, 10), 'learning_rate': 'constant', 'learning_rate_init': 0.06110060201246525, 'max_iter': 5000, 'momentum': 0.5, 'n_iter_no_change': 25, 'random_state': 69, 'solver': 'sgd', 'tol': 0.001011116996715985, 'validation_fraction': 0.2}",
            "count": 1
           },
           {
            "name": "{'activation': 'logistic', 'alpha': 0.07752494693052983, 'batch_size': 78, 'early_stopping': True, 'hidden_layer_sizes': (5, 5), 'learning_rate': 'adaptive', 'learning_rate_init': 0.04214419023003529, 'max_iter': 5000, 'momentum': 0.7, 'n_iter_no_change': 25, 'random_state': 69, 'solver': 'sgd', 'tol': 0.0010387744631169403, 'validation_fraction': 0.2}",
            "count": 1
           },
           {
            "name": "3 others",
            "count": 3
           }
          ]
         }
        },
        {
         "name": "split0_test_score",
         "dtype": "float64",
         "stats": {
          "unique_count": 5,
          "nan_count": 0,
          "min": "1.08922477196209",
          "max": "1.1440839293150655",
          "histogram": [
           {
            "bin_start": 1.08922477196209,
            "bin_end": 1.0947106876973876,
            "count": 1
           },
           {
            "bin_start": 1.0947106876973876,
            "bin_end": 1.100196603432685,
            "count": 1
           },
           {
            "bin_start": 1.100196603432685,
            "bin_end": 1.1056825191679827,
            "count": 0
           },
           {
            "bin_start": 1.1056825191679827,
            "bin_end": 1.1111684349032802,
            "count": 2
           },
           {
            "bin_start": 1.1111684349032802,
            "bin_end": 1.1166543506385778,
            "count": 0
           },
           {
            "bin_start": 1.1166543506385778,
            "bin_end": 1.1221402663738753,
            "count": 0
           },
           {
            "bin_start": 1.1221402663738753,
            "bin_end": 1.1276261821091729,
            "count": 0
           },
           {
            "bin_start": 1.1276261821091729,
            "bin_end": 1.1331120978444704,
            "count": 0
           },
           {
            "bin_start": 1.1331120978444704,
            "bin_end": 1.138598013579768,
            "count": 0
           },
           {
            "bin_start": 1.138598013579768,
            "bin_end": 1.1440839293150655,
            "count": 1
           }
          ]
         }
        },
        {
         "name": "split1_test_score",
         "dtype": "float64",
         "stats": {
          "unique_count": 5,
          "nan_count": 0,
          "min": "1.058982235428954",
          "max": "1.0966717579295493",
          "histogram": [
           {
            "bin_start": 1.058982235428954,
            "bin_end": 1.0627511876790134,
            "count": 2
           },
           {
            "bin_start": 1.0627511876790134,
            "bin_end": 1.0665201399290731,
            "count": 0
           },
           {
            "bin_start": 1.0665201399290731,
            "bin_end": 1.0702890921791326,
            "count": 0
           },
           {
            "bin_start": 1.0702890921791326,
            "bin_end": 1.074058044429192,
            "count": 1
           },
           {
            "bin_start": 1.074058044429192,
            "bin_end": 1.0778269966792515,
            "count": 0
           },
           {
            "bin_start": 1.0778269966792515,
            "bin_end": 1.0815959489293112,
            "count": 1
           },
           {
            "bin_start": 1.0815959489293112,
            "bin_end": 1.0853649011793707,
            "count": 0
           },
           {
            "bin_start": 1.0853649011793707,
            "bin_end": 1.0891338534294301,
            "count": 0
           },
           {
            "bin_start": 1.0891338534294301,
            "bin_end": 1.0929028056794898,
            "count": 0
           },
           {
            "bin_start": 1.0929028056794898,
            "bin_end": 1.0966717579295493,
            "count": 1
           }
          ]
         }
        },
        {
         "name": "split2_test_score",
         "dtype": "float64",
         "stats": {
          "unique_count": 5,
          "nan_count": 0,
          "min": "1.173077103796439",
          "max": "1.213922221117428",
          "histogram": [
           {
            "bin_start": 1.173077103796439,
            "bin_end": 1.1771616155285378,
            "count": 1
           },
           {
            "bin_start": 1.1771616155285378,
            "bin_end": 1.1812461272606367,
            "count": 0
           },
           {
            "bin_start": 1.1812461272606367,
            "bin_end": 1.1853306389927356,
            "count": 0
           },
           {
            "bin_start": 1.1853306389927356,
            "bin_end": 1.1894151507248345,
            "count": 0
           },
           {
            "bin_start": 1.1894151507248345,
            "bin_end": 1.1934996624569334,
            "count": 0
           },
           {
            "bin_start": 1.1934996624569334,
            "bin_end": 1.1975841741890325,
            "count": 0
           },
           {
            "bin_start": 1.1975841741890325,
            "bin_end": 1.2016686859211314,
            "count": 0
           },
           {
            "bin_start": 1.2016686859211314,
            "bin_end": 1.2057531976532303,
            "count": 1
           },
           {
            "bin_start": 1.2057531976532303,
            "bin_end": 1.2098377093853292,
            "count": 1
           },
           {
            "bin_start": 1.2098377093853292,
            "bin_end": 1.213922221117428,
            "count": 2
           }
          ]
         }
        },
        {
         "name": "split3_test_score",
         "dtype": "float64",
         "stats": {
          "unique_count": 5,
          "nan_count": 0,
          "min": "1.2252363496687655",
          "max": "1.262292180067725",
          "histogram": [
           {
            "bin_start": 1.2252363496687655,
            "bin_end": 1.2289419327086615,
            "count": 2
           },
           {
            "bin_start": 1.2289419327086615,
            "bin_end": 1.2326475157485575,
            "count": 0
           },
           {
            "bin_start": 1.2326475157485575,
            "bin_end": 1.2363530987884532,
            "count": 0
           },
           {
            "bin_start": 1.2363530987884532,
            "bin_end": 1.2400586818283492,
            "count": 0
           },
           {
            "bin_start": 1.2400586818283492,
            "bin_end": 1.2437642648682452,
            "count": 0
           },
           {
            "bin_start": 1.2437642648682452,
            "bin_end": 1.2474698479081412,
            "count": 0
           },
           {
            "bin_start": 1.2474698479081412,
            "bin_end": 1.2511754309480372,
            "count": 0
           },
           {
            "bin_start": 1.2511754309480372,
            "bin_end": 1.254881013987933,
            "count": 1
           },
           {
            "bin_start": 1.254881013987933,
            "bin_end": 1.258586597027829,
            "count": 0
           },
           {
            "bin_start": 1.258586597027829,
            "bin_end": 1.262292180067725,
            "count": 2
           }
          ]
         }
        },
        {
         "name": "split4_test_score",
         "dtype": "float64",
         "stats": {
          "unique_count": 5,
          "nan_count": 0,
          "min": "1.2140047924880768",
          "max": "1.2431195506802564",
          "histogram": [
           {
            "bin_start": 1.2140047924880768,
            "bin_end": 1.2169162683072947,
            "count": 1
           },
           {
            "bin_start": 1.2169162683072947,
            "bin_end": 1.2198277441265126,
            "count": 0
           },
           {
            "bin_start": 1.2198277441265126,
            "bin_end": 1.2227392199457308,
            "count": 0
           },
           {
            "bin_start": 1.2227392199457308,
            "bin_end": 1.2256506957649487,
            "count": 0
           },
           {
            "bin_start": 1.2256506957649487,
            "bin_end": 1.2285621715841666,
            "count": 2
           },
           {
            "bin_start": 1.2285621715841666,
            "bin_end": 1.2314736474033845,
            "count": 1
           },
           {
            "bin_start": 1.2314736474033845,
            "bin_end": 1.2343851232226024,
            "count": 0
           },
           {
            "bin_start": 1.2343851232226024,
            "bin_end": 1.2372965990418205,
            "count": 0
           },
           {
            "bin_start": 1.2372965990418205,
            "bin_end": 1.2402080748610385,
            "count": 0
           },
           {
            "bin_start": 1.2402080748610385,
            "bin_end": 1.2431195506802564,
            "count": 1
           }
          ]
         }
        },
        {
         "name": "split5_test_score",
         "dtype": "float64",
         "stats": {
          "unique_count": 5,
          "nan_count": 0,
          "min": "1.2582318855262462",
          "max": "1.2772924192130102",
          "histogram": [
           {
            "bin_start": 1.2582318855262462,
            "bin_end": 1.2601379388949225,
            "count": 2
           },
           {
            "bin_start": 1.2601379388949225,
            "bin_end": 1.262043992263599,
            "count": 0
           },
           {
            "bin_start": 1.262043992263599,
            "bin_end": 1.2639500456322754,
            "count": 0
           },
           {
            "bin_start": 1.2639500456322754,
            "bin_end": 1.2658560990009518,
            "count": 0
           },
           {
            "bin_start": 1.2658560990009518,
            "bin_end": 1.2677621523696283,
            "count": 0
           },
           {
            "bin_start": 1.2677621523696283,
            "bin_end": 1.2696682057383046,
            "count": 1
           },
           {
            "bin_start": 1.2696682057383046,
            "bin_end": 1.271574259106981,
            "count": 0
           },
           {
            "bin_start": 1.271574259106981,
            "bin_end": 1.2734803124756573,
            "count": 0
           },
           {
            "bin_start": 1.2734803124756573,
            "bin_end": 1.2753863658443338,
            "count": 0
           },
           {
            "bin_start": 1.2753863658443338,
            "bin_end": 1.2772924192130102,
            "count": 2
           }
          ]
         }
        },
        {
         "name": "split6_test_score",
         "dtype": "float64",
         "stats": {
          "unique_count": 5,
          "nan_count": 0,
          "min": "1.1651104743048857",
          "max": "1.2068722609243898",
          "histogram": [
           {
            "bin_start": 1.1651104743048857,
            "bin_end": 1.1692866529668362,
            "count": 1
           },
           {
            "bin_start": 1.1692866529668362,
            "bin_end": 1.1734628316287865,
            "count": 1
           },
           {
            "bin_start": 1.1734628316287865,
            "bin_end": 1.1776390102907368,
            "count": 0
           },
           {
            "bin_start": 1.1776390102907368,
            "bin_end": 1.1818151889526873,
            "count": 0
           },
           {
            "bin_start": 1.1818151889526873,
            "bin_end": 1.1859913676146379,
            "count": 0
           },
           {
            "bin_start": 1.1859913676146379,
            "bin_end": 1.1901675462765882,
            "count": 1
           },
           {
            "bin_start": 1.1901675462765882,
            "bin_end": 1.1943437249385385,
            "count": 1
           },
           {
            "bin_start": 1.1943437249385385,
            "bin_end": 1.198519903600489,
            "count": 0
           },
           {
            "bin_start": 1.198519903600489,
            "bin_end": 1.2026960822624395,
            "count": 0
           },
           {
            "bin_start": 1.2026960822624395,
            "bin_end": 1.2068722609243898,
            "count": 1
           }
          ]
         }
        },
        {
         "name": "split7_test_score",
         "dtype": "float64",
         "stats": {
          "unique_count": 5,
          "nan_count": 0,
          "min": "1.0938525044215155",
          "max": "1.1238461615255837",
          "histogram": [
           {
            "bin_start": 1.0938525044215155,
            "bin_end": 1.0968518701319223,
            "count": 1
           },
           {
            "bin_start": 1.0968518701319223,
            "bin_end": 1.0998512358423291,
            "count": 0
           },
           {
            "bin_start": 1.0998512358423291,
            "bin_end": 1.102850601552736,
            "count": 0
           },
           {
            "bin_start": 1.102850601552736,
            "bin_end": 1.1058499672631428,
            "count": 0
           },
           {
            "bin_start": 1.1058499672631428,
            "bin_end": 1.1088493329735496,
            "count": 2
           },
           {
            "bin_start": 1.1088493329735496,
            "bin_end": 1.1118486986839564,
            "count": 1
           },
           {
            "bin_start": 1.1118486986839564,
            "bin_end": 1.1148480643943632,
            "count": 0
           },
           {
            "bin_start": 1.1148480643943632,
            "bin_end": 1.11784743010477,
            "count": 0
           },
           {
            "bin_start": 1.11784743010477,
            "bin_end": 1.1208467958151769,
            "count": 0
           },
           {
            "bin_start": 1.1208467958151769,
            "bin_end": 1.1238461615255837,
            "count": 1
           }
          ]
         }
        },
        {
         "name": "split8_test_score",
         "dtype": "float64",
         "stats": {
          "unique_count": 5,
          "nan_count": 0,
          "min": "1.19694259592751",
          "max": "1.2940385140748694",
          "histogram": [
           {
            "bin_start": 1.19694259592751,
            "bin_end": 1.2066521877422458,
            "count": 1
           },
           {
            "bin_start": 1.2066521877422458,
            "bin_end": 1.2163617795569819,
            "count": 0
           },
           {
            "bin_start": 1.2163617795569819,
            "bin_end": 1.2260713713717177,
            "count": 0
           },
           {
            "bin_start": 1.2260713713717177,
            "bin_end": 1.2357809631864538,
            "count": 0
           },
           {
            "bin_start": 1.2357809631864538,
            "bin_end": 1.2454905550011897,
            "count": 2
           },
           {
            "bin_start": 1.2454905550011897,
            "bin_end": 1.2552001468159255,
            "count": 0
           },
           {
            "bin_start": 1.2552001468159255,
            "bin_end": 1.2649097386306616,
            "count": 1
           },
           {
            "bin_start": 1.2649097386306616,
            "bin_end": 1.2746193304453974,
            "count": 0
           },
           {
            "bin_start": 1.2746193304453974,
            "bin_end": 1.2843289222601335,
            "count": 0
           },
           {
            "bin_start": 1.2843289222601335,
            "bin_end": 1.2940385140748694,
            "count": 1
           }
          ]
         }
        },
        {
         "name": "split9_test_score",
         "dtype": "float64",
         "stats": {
          "unique_count": 5,
          "nan_count": 0,
          "min": "1.0429497134898082",
          "max": "1.1314672694793968",
          "histogram": [
           {
            "bin_start": 1.0429497134898082,
            "bin_end": 1.0518014690887671,
            "count": 1
           },
           {
            "bin_start": 1.0518014690887671,
            "bin_end": 1.060653224687726,
            "count": 0
           },
           {
            "bin_start": 1.060653224687726,
            "bin_end": 1.0695049802866847,
            "count": 2
           },
           {
            "bin_start": 1.0695049802866847,
            "bin_end": 1.0783567358856436,
            "count": 0
           },
           {
            "bin_start": 1.0783567358856436,
            "bin_end": 1.0872084914846025,
            "count": 0
           },
           {
            "bin_start": 1.0872084914846025,
            "bin_end": 1.0960602470835614,
            "count": 0
           },
           {
            "bin_start": 1.0960602470835614,
            "bin_end": 1.1049120026825203,
            "count": 0
           },
           {
            "bin_start": 1.1049120026825203,
            "bin_end": 1.113763758281479,
            "count": 1
           },
           {
            "bin_start": 1.113763758281479,
            "bin_end": 1.122615513880438,
            "count": 0
           },
           {
            "bin_start": 1.122615513880438,
            "bin_end": 1.1314672694793968,
            "count": 1
           }
          ]
         }
        },
        {
         "name": "mean_test_score",
         "dtype": "float64",
         "stats": {
          "unique_count": 5,
          "nan_count": 0,
          "min": "1.1693608922512977",
          "max": "1.181656616337032",
          "histogram": [
           {
            "bin_start": 1.1693608922512977,
            "bin_end": 1.170590464659871,
            "count": 1
           },
           {
            "bin_start": 1.170590464659871,
            "bin_end": 1.1718200370684446,
            "count": 0
           },
           {
            "bin_start": 1.1718200370684446,
            "bin_end": 1.173049609477018,
            "count": 1
           },
           {
            "bin_start": 1.173049609477018,
            "bin_end": 1.1742791818855913,
            "count": 1
           },
           {
            "bin_start": 1.1742791818855913,
            "bin_end": 1.1755087542941647,
            "count": 0
           },
           {
            "bin_start": 1.1755087542941647,
            "bin_end": 1.1767383267027383,
            "count": 0
           },
           {
            "bin_start": 1.1767383267027383,
            "bin_end": 1.1779678991113116,
            "count": 0
           },
           {
            "bin_start": 1.1779678991113116,
            "bin_end": 1.179197471519885,
            "count": 1
           },
           {
            "bin_start": 1.179197471519885,
            "bin_end": 1.1804270439284585,
            "count": 0
           },
           {
            "bin_start": 1.1804270439284585,
            "bin_end": 1.181656616337032,
            "count": 1
           }
          ]
         }
        },
        {
         "name": "std_test_score",
         "dtype": "float64",
         "stats": {
          "unique_count": 5,
          "nan_count": 0,
          "min": "0.065177820492161",
          "max": "0.0860182869500262",
          "histogram": [
           {
            "bin_start": 0.065177820492161,
            "bin_end": 0.06726186713794752,
            "count": 2
           },
           {
            "bin_start": 0.06726186713794752,
            "bin_end": 0.06934591378373405,
            "count": 1
           },
           {
            "bin_start": 0.06934591378373405,
            "bin_end": 0.07142996042952056,
            "count": 0
           },
           {
            "bin_start": 0.07142996042952056,
            "bin_end": 0.07351400707530709,
            "count": 0
           },
           {
            "bin_start": 0.07351400707530709,
            "bin_end": 0.0755980537210936,
            "count": 0
           },
           {
            "bin_start": 0.0755980537210936,
            "bin_end": 0.07768210036688011,
            "count": 1
           },
           {
            "bin_start": 0.07768210036688011,
            "bin_end": 0.07976614701266664,
            "count": 0
           },
           {
            "bin_start": 0.07976614701266664,
            "bin_end": 0.08185019365845315,
            "count": 0
           },
           {
            "bin_start": 0.08185019365845315,
            "bin_end": 0.08393424030423968,
            "count": 0
           },
           {
            "bin_start": 0.08393424030423968,
            "bin_end": 0.0860182869500262,
            "count": 1
           }
          ]
         }
        },
        {
         "name": "rank_test_score",
         "dtype": "int64",
         "stats": {
          "unique_count": 5,
          "nan_count": 0,
          "min": "745",
          "max": "749",
          "histogram": [
           {
            "bin_start": 745,
            "bin_end": 745.4,
            "count": 1
           },
           {
            "bin_start": 745.4,
            "bin_end": 745.8,
            "count": 0
           },
           {
            "bin_start": 745.8,
            "bin_end": 746.2,
            "count": 1
           },
           {
            "bin_start": 746.2,
            "bin_end": 746.6,
            "count": 0
           },
           {
            "bin_start": 746.6,
            "bin_end": 747,
            "count": 0
           },
           {
            "bin_start": 747,
            "bin_end": 747.4,
            "count": 1
           },
           {
            "bin_start": 747.4,
            "bin_end": 747.8,
            "count": 0
           },
           {
            "bin_start": 747.8,
            "bin_end": 748.2,
            "count": 1
           },
           {
            "bin_start": 748.2,
            "bin_end": 748.6,
            "count": 0
           },
           {
            "bin_start": 748.6,
            "bin_end": 749,
            "count": 1
           }
          ]
         }
        },
        {
         "name": "_deepnote_index_column",
         "dtype": "int64"
        }
       ],
       "rows": [
        {
         "Unnamed: 0": 409,
         "mean_fit_time": 1.3064192295074464,
         "std_fit_time": 0.1012781439569969,
         "mean_score_time": 0.0021483421325683,
         "std_score_time": 0.0007899632541808,
         "param_activation": "logistic",
         "param_alpha": 0.0663805770408799,
         "param_batch_size": 65,
         "param_early_stopping": true,
         "param_hidden_layer_sizes": "(10, 10)",
         "param_learning_rate": "constant",
         "param_learning_rate_init": 0.0611006020124652,
         "param_max_iter": 5000,
         "param_momentum": 0.5,
         "param_n_iter_no_change": 25,
         "param_random_state": 69,
         "param_solver": "sgd",
         "param_tol": 0.0010111169967159,
         "param_validation_fraction": 0.2,
         "params": "{'activation': 'logistic', 'alpha': 0.06638057704087998, 'batch_size': 65, 'early_stopping': True, …",
         "split0_test_score": 1.08922477196209,
         "split1_test_score": 1.0740114072198723,
         "split2_test_score": 1.173077103796439,
         "split3_test_score": 1.2534111646903978,
         "split4_test_score": 1.2140047924880768,
         "split5_test_score": 1.2582318855262462,
         "split6_test_score": 1.1727447059135698,
         "split7_test_score": 1.1067963860356702,
         "split8_test_score": 1.2391425764426367,
         "split9_test_score": 1.1129641284379777,
         "mean_test_score": 1.1693608922512977,
         "std_test_score": 0.0666772509333044,
         "rank_test_score": 749,
         "_deepnote_index_column": 0
        },
        {
         "Unnamed: 0": 379,
         "mean_fit_time": 3.5271794319152834,
         "std_fit_time": 0.9293241365005788,
         "mean_score_time": 0.001600956916809,
         "std_score_time": 0.0004137143505123,
         "param_activation": "logistic",
         "param_alpha": 0.0775249469305298,
         "param_batch_size": 78,
         "param_early_stopping": true,
         "param_hidden_layer_sizes": "(5, 5)",
         "param_learning_rate": "adaptive",
         "param_learning_rate_init": 0.0421441902300352,
         "param_max_iter": 5000,
         "param_momentum": 0.7,
         "param_n_iter_no_change": 25,
         "param_random_state": 69,
         "param_solver": "sgd",
         "param_tol": 0.0010387744631169,
         "param_validation_fraction": 0.2,
         "params": "{'activation': 'logistic', 'alpha': 0.07752494693052983, 'batch_size': 78, 'early_stopping': True, …",
         "split0_test_score": 1.0996856178751468,
         "split1_test_score": 1.058982235428954,
         "split2_test_score": 1.2072781211163974,
         "split3_test_score": 1.22749394165182,
         "split4_test_score": 1.2431195506802564,
         "split5_test_score": 1.2596058173923133,
         "split6_test_score": 1.1651104743048857,
         "split7_test_score": 1.0938525044215155,
         "split8_test_score": 1.2402274199766157,
         "split9_test_score": 1.1314672694793968,
         "mean_test_score": 1.1726822952327305,
         "std_test_score": 0.0689253237438893,
         "rank_test_score": 748,
         "_deepnote_index_column": 1
        },
        {
         "Unnamed: 0": 629,
         "mean_fit_time": 0.8431626796722412,
         "std_fit_time": 0.1886653547043751,
         "mean_score_time": 0.0017613887786865,
         "std_score_time": 0.0004157924842401,
         "param_activation": "logistic",
         "param_alpha": 0.0739765689931138,
         "param_batch_size": 130,
         "param_early_stopping": true,
         "param_hidden_layer_sizes": "(10, 10)",
         "param_learning_rate": "constant",
         "param_learning_rate_init": 0.1836037477139374,
         "param_max_iter": 5000,
         "param_momentum": 0.3,
         "param_n_iter_no_change": 25,
         "param_random_state": 69,
         "param_solver": "sgd",
         "param_tol": 0.0010494169044248,
         "param_validation_fraction": 0.2,
         "params": "{'activation': 'logistic', 'alpha': 0.07397656899311389, 'batch_size': 130, 'early_stopping': True,…",
         "split0_test_score": 1.1440839293150655,
         "split1_test_score": 1.08100974493801,
         "split2_test_score": 1.203950837903656,
         "split3_test_score": 1.2252363496687655,
         "split4_test_score": 1.2293862384718683,
         "split5_test_score": 1.2772924192130102,
         "split6_test_score": 1.1866685261800405,
         "split7_test_score": 1.1238461615255837,
         "split8_test_score": 1.19694259592751,
         "split9_test_score": 1.062256609737049,
         "mean_test_score": 1.173067341288056,
         "std_test_score": 0.065177820492161,
         "rank_test_score": 747,
         "_deepnote_index_column": 2
        },
        {
         "Unnamed: 0": 389,
         "mean_fit_time": 3.011470985412598,
         "std_fit_time": 0.3595484231707243,
         "mean_score_time": 0.0073499679565429,
         "std_score_time": 0.0156246059539051,
         "param_activation": "tanh",
         "param_alpha": 0.0528999232221881,
         "param_batch_size": 121,
         "param_early_stopping": true,
         "param_hidden_layer_sizes": "(25, 25)",
         "param_learning_rate": "adaptive",
         "param_learning_rate_init": 0.0195619850545811,
         "param_max_iter": 5000,
         "param_momentum": 0.3,
         "param_n_iter_no_change": 15,
         "param_random_state": 69,
         "param_solver": "sgd",
         "param_tol": 0.0010086235649733,
         "param_validation_fraction": 0.2,
         "params": "{'activation': 'tanh', 'alpha': 0.052899923222188186, 'batch_size': 121, 'early_stopping': True, 'h…",
         "split0_test_score": 1.110697901924918,
         "split1_test_score": 1.0607745262783768,
         "split2_test_score": 1.2117272142484712,
         "split3_test_score": 1.262292180067725,
         "split4_test_score": 1.2279562935560038,
         "split5_test_score": 1.2687924178828136,
         "split6_test_score": 1.1928645151114925,
         "split7_test_score": 1.108616560092915,
         "split8_test_score": 1.2940385140748694,
         "split9_test_score": 1.0429497134898082,
         "mean_test_score": 1.1780709836727392,
         "std_test_score": 0.0860182869500262,
         "rank_test_score": 746,
         "_deepnote_index_column": 3
        },
        {
         "Unnamed: 0": 957,
         "mean_fit_time": 6.348538947105408,
         "std_fit_time": 1.32422842684846,
         "mean_score_time": 0.0070370912551879,
         "std_score_time": 0.0156589815362613,
         "param_activation": "logistic",
         "param_alpha": 0.0701349860489234,
         "param_batch_size": 18,
         "param_early_stopping": true,
         "param_hidden_layer_sizes": "(25,)",
         "param_learning_rate": "adaptive",
         "param_learning_rate_init": 0.0237305418094428,
         "param_max_iter": 5000,
         "param_momentum": 0.7,
         "param_n_iter_no_change": 15,
         "param_random_state": 69,
         "param_solver": "sgd",
         "param_tol": 0.0010940800112094,
         "param_validation_fraction": 0.2,
         "params": "{'activation': 'logistic', 'alpha': 0.07013498604892349, 'batch_size': 18, 'early_stopping': True, …",
         "split0_test_score": 1.1062601727080408,
         "split1_test_score": 1.0966717579295493,
         "split2_test_score": 1.213922221117428,
         "split3_test_score": 1.2599871773587816,
         "split4_test_score": 1.226635788592946,
         "split5_test_score": 1.276441498817478,
         "split6_test_score": 1.2068722609243898,
         "split7_test_score": 1.1097642916459955,
         "split8_test_score": 1.258348509788216,
         "split9_test_score": 1.0616624844874916,
         "mean_test_score": 1.181656616337032,
         "std_test_score": 0.0756145945415403,
         "rank_test_score": 745,
         "_deepnote_index_column": 4
        }
       ]
      },
      "text/plain": "   Unnamed: 0  mean_fit_time  std_fit_time  mean_score_time  std_score_time  \\\n0         409       1.306419      0.101278         0.002148        0.000790   \n1         379       3.527179      0.929324         0.001601        0.000414   \n2         629       0.843163      0.188665         0.001761        0.000416   \n3         389       3.011471      0.359548         0.007350        0.015625   \n4         957       6.348539      1.324228         0.007037        0.015659   \n\n  param_activation  param_alpha  param_batch_size  param_early_stopping  \\\n0         logistic     0.066381                65                  True   \n1         logistic     0.077525                78                  True   \n2         logistic     0.073977               130                  True   \n3             tanh     0.052900               121                  True   \n4         logistic     0.070135                18                  True   \n\n  param_hidden_layer_sizes  ... split3_test_score  split4_test_score  \\\n0                 (10, 10)  ...          1.253411           1.214005   \n1                   (5, 5)  ...          1.227494           1.243120   \n2                 (10, 10)  ...          1.225236           1.229386   \n3                 (25, 25)  ...          1.262292           1.227956   \n4                    (25,)  ...          1.259987           1.226636   \n\n   split5_test_score  split6_test_score  split7_test_score  split8_test_score  \\\n0           1.258232           1.172745           1.106796           1.239143   \n1           1.259606           1.165110           1.093853           1.240227   \n2           1.277292           1.186669           1.123846           1.196943   \n3           1.268792           1.192865           1.108617           1.294039   \n4           1.276441           1.206872           1.109764           1.258349   \n\n  split9_test_score  mean_test_score  std_test_score rank_test_score  \n0          1.112964         1.169361        0.066677             749  \n1          1.131467         1.172682        0.068925             748  \n2          1.062257         1.173067        0.065178             747  \n3          1.042950         1.178071        0.086018             746  \n4          1.061662         1.181657        0.075615             745  \n\n[5 rows x 33 columns]",
      "text/html": "<div>\n<style scoped>\n    .dataframe tbody tr th:only-of-type {\n        vertical-align: middle;\n    }\n\n    .dataframe tbody tr th {\n        vertical-align: top;\n    }\n\n    .dataframe thead th {\n        text-align: right;\n    }\n</style>\n<table border=\"1\" class=\"dataframe\">\n  <thead>\n    <tr style=\"text-align: right;\">\n      <th></th>\n      <th>Unnamed: 0</th>\n      <th>mean_fit_time</th>\n      <th>std_fit_time</th>\n      <th>mean_score_time</th>\n      <th>std_score_time</th>\n      <th>param_activation</th>\n      <th>param_alpha</th>\n      <th>param_batch_size</th>\n      <th>param_early_stopping</th>\n      <th>param_hidden_layer_sizes</th>\n      <th>...</th>\n      <th>split3_test_score</th>\n      <th>split4_test_score</th>\n      <th>split5_test_score</th>\n      <th>split6_test_score</th>\n      <th>split7_test_score</th>\n      <th>split8_test_score</th>\n      <th>split9_test_score</th>\n      <th>mean_test_score</th>\n      <th>std_test_score</th>\n      <th>rank_test_score</th>\n    </tr>\n  </thead>\n  <tbody>\n    <tr>\n      <th>0</th>\n      <td>409</td>\n      <td>1.306419</td>\n      <td>0.101278</td>\n      <td>0.002148</td>\n      <td>0.000790</td>\n      <td>logistic</td>\n      <td>0.066381</td>\n      <td>65</td>\n      <td>True</td>\n      <td>(10, 10)</td>\n      <td>...</td>\n      <td>1.253411</td>\n      <td>1.214005</td>\n      <td>1.258232</td>\n      <td>1.172745</td>\n      <td>1.106796</td>\n      <td>1.239143</td>\n      <td>1.112964</td>\n      <td>1.169361</td>\n      <td>0.066677</td>\n      <td>749</td>\n    </tr>\n    <tr>\n      <th>1</th>\n      <td>379</td>\n      <td>3.527179</td>\n      <td>0.929324</td>\n      <td>0.001601</td>\n      <td>0.000414</td>\n      <td>logistic</td>\n      <td>0.077525</td>\n      <td>78</td>\n      <td>True</td>\n      <td>(5, 5)</td>\n      <td>...</td>\n      <td>1.227494</td>\n      <td>1.243120</td>\n      <td>1.259606</td>\n      <td>1.165110</td>\n      <td>1.093853</td>\n      <td>1.240227</td>\n      <td>1.131467</td>\n      <td>1.172682</td>\n      <td>0.068925</td>\n      <td>748</td>\n    </tr>\n    <tr>\n      <th>2</th>\n      <td>629</td>\n      <td>0.843163</td>\n      <td>0.188665</td>\n      <td>0.001761</td>\n      <td>0.000416</td>\n      <td>logistic</td>\n      <td>0.073977</td>\n      <td>130</td>\n      <td>True</td>\n      <td>(10, 10)</td>\n      <td>...</td>\n      <td>1.225236</td>\n      <td>1.229386</td>\n      <td>1.277292</td>\n      <td>1.186669</td>\n      <td>1.123846</td>\n      <td>1.196943</td>\n      <td>1.062257</td>\n      <td>1.173067</td>\n      <td>0.065178</td>\n      <td>747</td>\n    </tr>\n    <tr>\n      <th>3</th>\n      <td>389</td>\n      <td>3.011471</td>\n      <td>0.359548</td>\n      <td>0.007350</td>\n      <td>0.015625</td>\n      <td>tanh</td>\n      <td>0.052900</td>\n      <td>121</td>\n      <td>True</td>\n      <td>(25, 25)</td>\n      <td>...</td>\n      <td>1.262292</td>\n      <td>1.227956</td>\n      <td>1.268792</td>\n      <td>1.192865</td>\n      <td>1.108617</td>\n      <td>1.294039</td>\n      <td>1.042950</td>\n      <td>1.178071</td>\n      <td>0.086018</td>\n      <td>746</td>\n    </tr>\n    <tr>\n      <th>4</th>\n      <td>957</td>\n      <td>6.348539</td>\n      <td>1.324228</td>\n      <td>0.007037</td>\n      <td>0.015659</td>\n      <td>logistic</td>\n      <td>0.070135</td>\n      <td>18</td>\n      <td>True</td>\n      <td>(25,)</td>\n      <td>...</td>\n      <td>1.259987</td>\n      <td>1.226636</td>\n      <td>1.276441</td>\n      <td>1.206872</td>\n      <td>1.109764</td>\n      <td>1.258349</td>\n      <td>1.061662</td>\n      <td>1.181657</td>\n      <td>0.075615</td>\n      <td>745</td>\n    </tr>\n  </tbody>\n</table>\n<p>5 rows × 33 columns</p>\n</div>"
     },
     "metadata": {}
    }
   ],
   "execution_count": 13
  },
  {
   "cell_type": "code",
   "metadata": {
    "tags": [],
    "deepnote_to_be_reexecuted": false,
    "source_hash": "9dd11431",
    "execution_start": 1642767079872,
    "output_cleared": false,
    "execution_millis": 47712274,
    "cell_id": "00078-2a895e47-b23e-4146-9a87-6d353021b6d6",
    "deepnote_cell_type": "code"
   },
   "source": "#get the best params for the grid search (cannot use rand_gs.best_estimator directly since it will yield the worst estimator based on MEE)\nbest_params = df_results['params'][0]\nprint(f\"Mean error on the {k}-folds (MEE) on best model: {df_results['mean_test_score'][0]}\\n\")\nprint(f\"Best params: {best_params}\")",
   "outputs": [
    {
     "name": "stdout",
     "text": "Mean error on the 10-folds (MEE) on best model: 1.1693608922512977\n\nBest params: {'activation': 'logistic', 'alpha': 0.06638057704087998, 'batch_size': 65, 'early_stopping': True, 'hidden_layer_sizes': (10, 10), 'learning_rate': 'constant', 'learning_rate_init': 0.06110060201246525, 'max_iter': 5000, 'momentum': 0.5, 'n_iter_no_change': 25, 'random_state': 69, 'solver': 'sgd', 'tol': 0.001011116996715985, 'validation_fraction': 0.2}\n",
     "output_type": "stream"
    }
   ],
   "execution_count": 14
  },
  {
   "cell_type": "code",
   "metadata": {
    "tags": [],
    "deepnote_to_be_reexecuted": false,
    "source_hash": "67a41554",
    "execution_start": 1642767079872,
    "execution_millis": 22,
    "output_cleared": true,
    "cell_id": "00079-ed4a64e6-72fa-4843-be42-854bb434b60a",
    "deepnote_cell_type": "code"
   },
   "source": "@dataclass\nclass GridSearchRanges:\n    '''Class of keeping track of the min and max values for the hyperparameters tuning'''\n    \n    hidden_range = []\n    min_lr_init = 0\n    max_lr_init = 0\n    min_alpha = 0\n    max_alpha = 0\n    min_bs = 0\n    max_bs = 0\n    n_iter_no_change = []\n    min_tol = 0\n    max_tol = 0\n    min_momentum = 0\n    max_momentum = 0\n    \n    def set_ranges(self):\n\n        self.hidden_range = np.unique(df_results['param_hidden_layer_sizes'])\n        self.hidden_range = self.hidden_range.ravel() #convert to array\n        print(self.hidden_range)\n\n        self.min_lr_init = np.min(df_results['param_learning_rate_init'])\n        self.max_lr_init = np.max(df_results['param_learning_rate_init'])\n        print(f\"LR: [{self.min_lr_init}, {self.max_lr_init}]\")\n\n        self.min_alpha = np.min(df_results['param_alpha'])\n        self.max_alpha = np.max(df_results['param_alpha'])\n        print(f\"alpha: [{self.min_alpha}, {self.max_alpha}]\")\n\n        self.min_bs = np.min(df_results['param_batch_size'])\n        self.max_bs = np.max(df_results['param_batch_size'])\n        print(f\"BATCH: [{self.min_bs}, {self.max_bs}]\")\n\n        self.n_iter_no_change_range = np.unique(df_results['param_n_iter_no_change'])\n        self.n_iter_no_change_range = self.n_iter_no_change_range.ravel()\n        print(f\"n_iter_no_change: {self.n_iter_no_change_range}\")\n\n        self.min_tol = np.min(df_results['param_tol'])\n        self.max_tol = np.max(df_results['param_tol'])\n        print(f\"TOL: [{self.min_tol}, {self.max_tol}]\")\n    \n        self.min_momentum = np.min(df_results['param_momentum'])\n        self.max_momentum = np.max(df_results['param_momentum'])\n        print(f\"MOMENTUM: [{self.min_momentum}, {self.max_momentum}]\")\n    \n    ",
   "outputs": [],
   "execution_count": 15
  },
  {
   "cell_type": "code",
   "metadata": {
    "deepnote_to_be_reexecuted": false,
    "execution_millis": 10,
    "execution_start": 1642767079886,
    "source_hash": "a520897",
    "tags": [],
    "output_cleared": false,
    "cell_id": "00080-9509be58-a986-4668-b879-f9b45a1b9b81",
    "deepnote_cell_type": "code"
   },
   "source": "gs = GridSearchRanges()\ngs.set_ranges()\ngs.hidden_range = [ast.literal_eval(x) for x in gs.hidden_range]",
   "outputs": [
    {
     "name": "stdout",
     "text": "['(10, 10)' '(10,)' '(25, 25)' '(25,)' '(5, 5)' '(5,)' '(50, 50)' '(50,)']\nLR: [0.0106165473559543, 0.3874715705725129]\nalpha: [0.0002297504583553, 0.0973957203436703]\nBATCH: [18, 1272]\nn_iter_no_change: [ 5 15 25]\nTOL: [0.0010007827399257, 0.0010940800112094]\nMOMENTUM: [0.1, 0.9]\n",
     "output_type": "stream"
    }
   ],
   "execution_count": 16
  },
  {
   "cell_type": "markdown",
   "source": "### Second Randomized Search using min e max values",
   "metadata": {
    "tags": [],
    "cell_id": "00081-0d21e4f3-8ccd-49ab-94d7-8f9f35a46c6e",
    "deepnote_cell_type": "markdown"
   }
  },
  {
   "cell_type": "code",
   "metadata": {
    "deepnote_output_heights": [
     611,
     339
    ],
    "deepnote_to_be_reexecuted": false,
    "execution_millis": 12,
    "execution_start": 1642767079895,
    "source_hash": "aaf53c16",
    "tags": [],
    "output_cleared": false,
    "cell_id": "00082-a077d801-b482-4525-9965-579840263491",
    "deepnote_cell_type": "code"
   },
   "source": "%%script false --no-raise-error\n\n# define the parameters values\nparams = {\n    \"hidden_layer_sizes\": gs.hidden_range,\n    \"activation\" : [\"logistic\", \"tanh\"],\n    \"solver\": [\"sgd\", \"adam\"],\n    \"learning_rate\": [\"adaptive\", \"invscaling\"],\n    \"learning_rate_init\": uniform(gs.min_lr_init, gs.max_lr_init),\n    \"alpha\": uniform(gs.min_alpha, gs.max_alpha),\n    \"batch_size\": randint(gs.min_bs, gs.max_bs),\n    \"n_iter_no_change\": [5, 15, 25],\n    \"momentum\": uniform(gs.min_momentum, gs.max_momentum),\n    \"random_state\": [RS_NUMBER],\n    \"tol\": uniform(gs.min_tol,gs.max_tol),\n    \"early_stopping\": [True],\n    \"validation_fraction\": [0.2],\n    \"max_iter\": [5000],\n}\n\n# define the grid search\nrand_gs = RandomizedSearchCV(\n    MLPRegressor(),\n    param_distributions=params,\n    n_iter=n_iter_search,\n    n_jobs=-1,\n    scoring=make_scorer(mee), #scoring is based on the highest value\n    cv=k,\n    random_state = RS_NUMBER,\n    verbose=10,\n)\n# run the grid search\nrand_gs.fit(X, y)\n",
   "outputs": [],
   "execution_count": 17
  },
  {
   "cell_type": "code",
   "metadata": {
    "deepnote_to_be_reexecuted": false,
    "execution_millis": 13,
    "execution_start": 1642767079908,
    "source_hash": "2cdd49a7",
    "tags": [],
    "output_cleared": true,
    "cell_id": "00083-f936a019-eb5d-4273-89a6-5a8a7f5454d4",
    "deepnote_cell_type": "code"
   },
   "source": "%%script false --no-raise-error\n\ndf_results = pd.DataFrame(data=rand_gs.cv_results_) #trasform into a pandas dataframe\ndf_results.sort_values(by=\"rank_test_score\", axis=0, ascending=False, inplace=True) #sort rank values in decreasing order \ndf_results.dropna(inplace=True) #delete nan values \ndf_results = df_results[:50] #keep only top 50 models\npd.DataFrame.to_csv(df_results, \"sklearn_results/rand2_search.csv\")",
   "outputs": [],
   "execution_count": 18
  },
  {
   "cell_type": "code",
   "metadata": {
    "deepnote_to_be_reexecuted": false,
    "execution_millis": 137,
    "execution_start": 1642767079922,
    "source_hash": "89537475",
    "tags": [],
    "output_cleared": false,
    "deepnote_output_heights": [
     208.1875
    ],
    "cell_id": "00084-f761c9e1-2fc3-4510-bd14-7f25eda61514",
    "deepnote_cell_type": "code"
   },
   "source": "df_results = pd.read_csv(\"sklearn_results/rand2_search.csv\")\ndf_results.head()",
   "outputs": [
    {
     "output_type": "execute_result",
     "execution_count": 19,
     "data": {
      "application/vnd.deepnote.dataframe.v3+json": {
       "column_count": 33,
       "row_count": 5,
       "columns": [
        {
         "name": "Unnamed: 0",
         "dtype": "int64",
         "stats": {
          "unique_count": 5,
          "nan_count": 0,
          "min": "80",
          "max": "997",
          "histogram": [
           {
            "bin_start": 80,
            "bin_end": 171.7,
            "count": 2
           },
           {
            "bin_start": 171.7,
            "bin_end": 263.4,
            "count": 0
           },
           {
            "bin_start": 263.4,
            "bin_end": 355.1,
            "count": 0
           },
           {
            "bin_start": 355.1,
            "bin_end": 446.8,
            "count": 0
           },
           {
            "bin_start": 446.8,
            "bin_end": 538.5,
            "count": 1
           },
           {
            "bin_start": 538.5,
            "bin_end": 630.2,
            "count": 0
           },
           {
            "bin_start": 630.2,
            "bin_end": 721.9,
            "count": 1
           },
           {
            "bin_start": 721.9,
            "bin_end": 813.6,
            "count": 0
           },
           {
            "bin_start": 813.6,
            "bin_end": 905.3000000000001,
            "count": 0
           },
           {
            "bin_start": 905.3000000000001,
            "bin_end": 997,
            "count": 1
           }
          ]
         }
        },
        {
         "name": "mean_fit_time",
         "dtype": "float64",
         "stats": {
          "unique_count": 5,
          "nan_count": 0,
          "min": "0.2960684537887573",
          "max": "0.706179165840149",
          "histogram": [
           {
            "bin_start": 0.2960684537887573,
            "bin_end": 0.3370795249938965,
            "count": 1
           },
           {
            "bin_start": 0.3370795249938965,
            "bin_end": 0.3780905961990356,
            "count": 0
           },
           {
            "bin_start": 0.3780905961990356,
            "bin_end": 0.41910166740417476,
            "count": 0
           },
           {
            "bin_start": 0.41910166740417476,
            "bin_end": 0.46011273860931395,
            "count": 2
           },
           {
            "bin_start": 0.46011273860931395,
            "bin_end": 0.5011238098144531,
            "count": 0
           },
           {
            "bin_start": 0.5011238098144531,
            "bin_end": 0.5421348810195923,
            "count": 0
           },
           {
            "bin_start": 0.5421348810195923,
            "bin_end": 0.5831459522247315,
            "count": 1
           },
           {
            "bin_start": 0.5831459522247315,
            "bin_end": 0.6241570234298706,
            "count": 0
           },
           {
            "bin_start": 0.6241570234298706,
            "bin_end": 0.6651680946350098,
            "count": 0
           },
           {
            "bin_start": 0.6651680946350098,
            "bin_end": 0.706179165840149,
            "count": 1
           }
          ]
         }
        },
        {
         "name": "std_fit_time",
         "dtype": "float64",
         "stats": {
          "unique_count": 5,
          "nan_count": 0,
          "min": "0.0303362440243758",
          "max": "0.1215362156570872",
          "histogram": [
           {
            "bin_start": 0.0303362440243758,
            "bin_end": 0.03945624118764694,
            "count": 2
           },
           {
            "bin_start": 0.03945624118764694,
            "bin_end": 0.04857623835091808,
            "count": 0
           },
           {
            "bin_start": 0.04857623835091808,
            "bin_end": 0.05769623551418922,
            "count": 1
           },
           {
            "bin_start": 0.05769623551418922,
            "bin_end": 0.06681623267746037,
            "count": 0
           },
           {
            "bin_start": 0.06681623267746037,
            "bin_end": 0.0759362298407315,
            "count": 0
           },
           {
            "bin_start": 0.0759362298407315,
            "bin_end": 0.08505622700400264,
            "count": 1
           },
           {
            "bin_start": 0.08505622700400264,
            "bin_end": 0.09417622416727378,
            "count": 0
           },
           {
            "bin_start": 0.09417622416727378,
            "bin_end": 0.10329622133054492,
            "count": 0
           },
           {
            "bin_start": 0.10329622133054492,
            "bin_end": 0.11241621849381606,
            "count": 0
           },
           {
            "bin_start": 0.11241621849381606,
            "bin_end": 0.1215362156570872,
            "count": 1
           }
          ]
         }
        },
        {
         "name": "mean_score_time",
         "dtype": "float64",
         "stats": {
          "unique_count": 5,
          "nan_count": 0,
          "min": "0.0012425661087036",
          "max": "0.0039949655532836",
          "histogram": [
           {
            "bin_start": 0.0012425661087036,
            "bin_end": 0.0015178060531616001,
            "count": 3
           },
           {
            "bin_start": 0.0015178060531616001,
            "bin_end": 0.0017930459976196,
            "count": 0
           },
           {
            "bin_start": 0.0017930459976196,
            "bin_end": 0.0020682859420776,
            "count": 0
           },
           {
            "bin_start": 0.0020682859420776,
            "bin_end": 0.0023435258865356,
            "count": 0
           },
           {
            "bin_start": 0.0023435258865356,
            "bin_end": 0.0026187658309936,
            "count": 0
           },
           {
            "bin_start": 0.0026187658309936,
            "bin_end": 0.0028940057754516003,
            "count": 0
           },
           {
            "bin_start": 0.0028940057754516003,
            "bin_end": 0.0031692457199096,
            "count": 0
           },
           {
            "bin_start": 0.0031692457199096,
            "bin_end": 0.0034444856643676,
            "count": 0
           },
           {
            "bin_start": 0.0034444856643676,
            "bin_end": 0.0037197256088256003,
            "count": 0
           },
           {
            "bin_start": 0.0037197256088256003,
            "bin_end": 0.0039949655532836,
            "count": 2
           }
          ]
         }
        },
        {
         "name": "std_score_time",
         "dtype": "float64",
         "stats": {
          "unique_count": 5,
          "nan_count": 0,
          "min": "8.374752857214671e-05",
          "max": "0.0083765278185916",
          "histogram": [
           {
            "bin_start": 0.00008374752857214671,
            "bin_end": 0.0009130255575740921,
            "count": 3
           },
           {
            "bin_start": 0.0009130255575740921,
            "bin_end": 0.0017423035865760375,
            "count": 0
           },
           {
            "bin_start": 0.0017423035865760375,
            "bin_end": 0.002571581615577983,
            "count": 0
           },
           {
            "bin_start": 0.002571581615577983,
            "bin_end": 0.0034008596445799285,
            "count": 0
           },
           {
            "bin_start": 0.0034008596445799285,
            "bin_end": 0.004230137673581874,
            "count": 0
           },
           {
            "bin_start": 0.004230137673581874,
            "bin_end": 0.005059415702583819,
            "count": 0
           },
           {
            "bin_start": 0.005059415702583819,
            "bin_end": 0.005888693731585765,
            "count": 0
           },
           {
            "bin_start": 0.005888693731585765,
            "bin_end": 0.00671797176058771,
            "count": 0
           },
           {
            "bin_start": 0.00671797176058771,
            "bin_end": 0.007547249789589655,
            "count": 1
           },
           {
            "bin_start": 0.007547249789589655,
            "bin_end": 0.0083765278185916,
            "count": 1
           }
          ]
         }
        },
        {
         "name": "param_activation",
         "dtype": "object",
         "stats": {
          "unique_count": 1,
          "nan_count": 0,
          "categories": [
           {
            "name": "logistic",
            "count": 5
           }
          ]
         }
        },
        {
         "name": "param_alpha",
         "dtype": "float64",
         "stats": {
          "unique_count": 5,
          "nan_count": 0,
          "min": "0.0142466572829556",
          "max": "0.0896795915567839",
          "histogram": [
           {
            "bin_start": 0.0142466572829556,
            "bin_end": 0.02178995071033843,
            "count": 1
           },
           {
            "bin_start": 0.02178995071033843,
            "bin_end": 0.02933324413772126,
            "count": 0
           },
           {
            "bin_start": 0.02933324413772126,
            "bin_end": 0.03687653756510409,
            "count": 0
           },
           {
            "bin_start": 0.03687653756510409,
            "bin_end": 0.04441983099248692,
            "count": 0
           },
           {
            "bin_start": 0.04441983099248692,
            "bin_end": 0.05196312441986975,
            "count": 0
           },
           {
            "bin_start": 0.05196312441986975,
            "bin_end": 0.05950641784725258,
            "count": 0
           },
           {
            "bin_start": 0.05950641784725258,
            "bin_end": 0.06704971127463541,
            "count": 0
           },
           {
            "bin_start": 0.06704971127463541,
            "bin_end": 0.07459300470201824,
            "count": 1
           },
           {
            "bin_start": 0.07459300470201824,
            "bin_end": 0.08213629812940107,
            "count": 1
           },
           {
            "bin_start": 0.08213629812940107,
            "bin_end": 0.0896795915567839,
            "count": 2
           }
          ]
         }
        },
        {
         "name": "param_batch_size",
         "dtype": "int64",
         "stats": {
          "unique_count": 5,
          "nan_count": 0,
          "min": "138",
          "max": "854",
          "histogram": [
           {
            "bin_start": 138,
            "bin_end": 209.6,
            "count": 1
           },
           {
            "bin_start": 209.6,
            "bin_end": 281.2,
            "count": 1
           },
           {
            "bin_start": 281.2,
            "bin_end": 352.79999999999995,
            "count": 0
           },
           {
            "bin_start": 352.79999999999995,
            "bin_end": 424.4,
            "count": 0
           },
           {
            "bin_start": 424.4,
            "bin_end": 496,
            "count": 0
           },
           {
            "bin_start": 496,
            "bin_end": 567.5999999999999,
            "count": 1
           },
           {
            "bin_start": 567.5999999999999,
            "bin_end": 639.1999999999999,
            "count": 0
           },
           {
            "bin_start": 639.1999999999999,
            "bin_end": 710.8,
            "count": 1
           },
           {
            "bin_start": 710.8,
            "bin_end": 782.4,
            "count": 0
           },
           {
            "bin_start": 782.4,
            "bin_end": 854,
            "count": 1
           }
          ]
         }
        },
        {
         "name": "param_early_stopping",
         "dtype": "bool",
         "stats": {
          "unique_count": 1,
          "nan_count": 0,
          "categories": [
           {
            "name": "True",
            "count": 5
           }
          ]
         }
        },
        {
         "name": "param_hidden_layer_sizes",
         "dtype": "object",
         "stats": {
          "unique_count": 2,
          "nan_count": 0,
          "categories": [
           {
            "name": "(25, 25)",
            "count": 4
           },
           {
            "name": "(50, 50)",
            "count": 1
           }
          ]
         }
        },
        {
         "name": "param_learning_rate",
         "dtype": "object",
         "stats": {
          "unique_count": 2,
          "nan_count": 0,
          "categories": [
           {
            "name": "invscaling",
            "count": 3
           },
           {
            "name": "adaptive",
            "count": 2
           }
          ]
         }
        },
        {
         "name": "param_learning_rate_init",
         "dtype": "float64",
         "stats": {
          "unique_count": 5,
          "nan_count": 0,
          "min": "0.0394891773654128",
          "max": "0.0848343374593601",
          "histogram": [
           {
            "bin_start": 0.0394891773654128,
            "bin_end": 0.04402369337480753,
            "count": 1
           },
           {
            "bin_start": 0.04402369337480753,
            "bin_end": 0.04855820938420226,
            "count": 0
           },
           {
            "bin_start": 0.04855820938420226,
            "bin_end": 0.05309272539359699,
            "count": 0
           },
           {
            "bin_start": 0.05309272539359699,
            "bin_end": 0.05762724140299172,
            "count": 0
           },
           {
            "bin_start": 0.05762724140299172,
            "bin_end": 0.06216175741238645,
            "count": 1
           },
           {
            "bin_start": 0.06216175741238645,
            "bin_end": 0.06669627342178118,
            "count": 1
           },
           {
            "bin_start": 0.06669627342178118,
            "bin_end": 0.07123078943117592,
            "count": 0
           },
           {
            "bin_start": 0.07123078943117592,
            "bin_end": 0.07576530544057064,
            "count": 0
           },
           {
            "bin_start": 0.07576530544057064,
            "bin_end": 0.08029982144996536,
            "count": 1
           },
           {
            "bin_start": 0.08029982144996536,
            "bin_end": 0.0848343374593601,
            "count": 1
           }
          ]
         }
        },
        {
         "name": "param_max_iter",
         "dtype": "int64",
         "stats": {
          "unique_count": 1,
          "nan_count": 0,
          "min": "5000",
          "max": "5000",
          "histogram": [
           {
            "bin_start": 4999.5,
            "bin_end": 4999.6,
            "count": 0
           },
           {
            "bin_start": 4999.6,
            "bin_end": 4999.7,
            "count": 0
           },
           {
            "bin_start": 4999.7,
            "bin_end": 4999.8,
            "count": 0
           },
           {
            "bin_start": 4999.8,
            "bin_end": 4999.9,
            "count": 0
           },
           {
            "bin_start": 4999.9,
            "bin_end": 5000,
            "count": 0
           },
           {
            "bin_start": 5000,
            "bin_end": 5000.1,
            "count": 5
           },
           {
            "bin_start": 5000.1,
            "bin_end": 5000.2,
            "count": 0
           },
           {
            "bin_start": 5000.2,
            "bin_end": 5000.3,
            "count": 0
           },
           {
            "bin_start": 5000.3,
            "bin_end": 5000.4,
            "count": 0
           },
           {
            "bin_start": 5000.4,
            "bin_end": 5000.5,
            "count": 0
           }
          ]
         }
        },
        {
         "name": "param_momentum",
         "dtype": "float64",
         "stats": {
          "unique_count": 5,
          "nan_count": 0,
          "min": "0.1656531047864966",
          "max": "0.9298658176900316",
          "histogram": [
           {
            "bin_start": 0.1656531047864966,
            "bin_end": 0.24207437607685012,
            "count": 3
           },
           {
            "bin_start": 0.24207437607685012,
            "bin_end": 0.3184956473672036,
            "count": 0
           },
           {
            "bin_start": 0.3184956473672036,
            "bin_end": 0.3949169186575571,
            "count": 1
           },
           {
            "bin_start": 0.3949169186575571,
            "bin_end": 0.47133818994791066,
            "count": 0
           },
           {
            "bin_start": 0.47133818994791066,
            "bin_end": 0.5477594612382641,
            "count": 0
           },
           {
            "bin_start": 0.5477594612382641,
            "bin_end": 0.6241807325286176,
            "count": 0
           },
           {
            "bin_start": 0.6241807325286176,
            "bin_end": 0.7006020038189712,
            "count": 0
           },
           {
            "bin_start": 0.7006020038189712,
            "bin_end": 0.7770232751093247,
            "count": 0
           },
           {
            "bin_start": 0.7770232751093247,
            "bin_end": 0.8534445463996782,
            "count": 0
           },
           {
            "bin_start": 0.8534445463996782,
            "bin_end": 0.9298658176900316,
            "count": 1
           }
          ]
         }
        },
        {
         "name": "param_n_iter_no_change",
         "dtype": "int64",
         "stats": {
          "unique_count": 2,
          "nan_count": 0,
          "min": "15",
          "max": "25",
          "histogram": [
           {
            "bin_start": 15,
            "bin_end": 16,
            "count": 4
           },
           {
            "bin_start": 16,
            "bin_end": 17,
            "count": 0
           },
           {
            "bin_start": 17,
            "bin_end": 18,
            "count": 0
           },
           {
            "bin_start": 18,
            "bin_end": 19,
            "count": 0
           },
           {
            "bin_start": 19,
            "bin_end": 20,
            "count": 0
           },
           {
            "bin_start": 20,
            "bin_end": 21,
            "count": 0
           },
           {
            "bin_start": 21,
            "bin_end": 22,
            "count": 0
           },
           {
            "bin_start": 22,
            "bin_end": 23,
            "count": 0
           },
           {
            "bin_start": 23,
            "bin_end": 24,
            "count": 0
           },
           {
            "bin_start": 24,
            "bin_end": 25,
            "count": 1
           }
          ]
         }
        },
        {
         "name": "param_random_state",
         "dtype": "int64",
         "stats": {
          "unique_count": 1,
          "nan_count": 0,
          "min": "69",
          "max": "69",
          "histogram": [
           {
            "bin_start": 68.5,
            "bin_end": 68.6,
            "count": 0
           },
           {
            "bin_start": 68.6,
            "bin_end": 68.7,
            "count": 0
           },
           {
            "bin_start": 68.7,
            "bin_end": 68.8,
            "count": 0
           },
           {
            "bin_start": 68.8,
            "bin_end": 68.9,
            "count": 0
           },
           {
            "bin_start": 68.9,
            "bin_end": 69,
            "count": 0
           },
           {
            "bin_start": 69,
            "bin_end": 69.1,
            "count": 5
           },
           {
            "bin_start": 69.1,
            "bin_end": 69.2,
            "count": 0
           },
           {
            "bin_start": 69.2,
            "bin_end": 69.3,
            "count": 0
           },
           {
            "bin_start": 69.3,
            "bin_end": 69.4,
            "count": 0
           },
           {
            "bin_start": 69.4,
            "bin_end": 69.5,
            "count": 0
           }
          ]
         }
        },
        {
         "name": "param_solver",
         "dtype": "object",
         "stats": {
          "unique_count": 1,
          "nan_count": 0,
          "categories": [
           {
            "name": "adam",
            "count": 5
           }
          ]
         }
        },
        {
         "name": "param_tol",
         "dtype": "float64",
         "stats": {
          "unique_count": 5,
          "nan_count": 0,
          "min": "0.0011161854044497",
          "max": "0.0020823526853176",
          "histogram": [
           {
            "bin_start": 0.0011161854044497,
            "bin_end": 0.00121280213253649,
            "count": 2
           },
           {
            "bin_start": 0.00121280213253649,
            "bin_end": 0.00130941886062328,
            "count": 1
           },
           {
            "bin_start": 0.00130941886062328,
            "bin_end": 0.0014060355887100702,
            "count": 0
           },
           {
            "bin_start": 0.0014060355887100702,
            "bin_end": 0.0015026523167968602,
            "count": 1
           },
           {
            "bin_start": 0.0015026523167968602,
            "bin_end": 0.0015992690448836501,
            "count": 0
           },
           {
            "bin_start": 0.0015992690448836501,
            "bin_end": 0.00169588577297044,
            "count": 0
           },
           {
            "bin_start": 0.00169588577297044,
            "bin_end": 0.00179250250105723,
            "count": 0
           },
           {
            "bin_start": 0.00179250250105723,
            "bin_end": 0.00188911922914402,
            "count": 0
           },
           {
            "bin_start": 0.00188911922914402,
            "bin_end": 0.00198573595723081,
            "count": 0
           },
           {
            "bin_start": 0.00198573595723081,
            "bin_end": 0.0020823526853176,
            "count": 1
           }
          ]
         }
        },
        {
         "name": "param_validation_fraction",
         "dtype": "float64",
         "stats": {
          "unique_count": 1,
          "nan_count": 0,
          "min": "0.2",
          "max": "0.2",
          "histogram": [
           {
            "bin_start": -0.3,
            "bin_end": -0.19999999999999998,
            "count": 0
           },
           {
            "bin_start": -0.19999999999999998,
            "bin_end": -0.09999999999999998,
            "count": 0
           },
           {
            "bin_start": -0.09999999999999998,
            "bin_end": 5.551115123125783e-17,
            "count": 0
           },
           {
            "bin_start": 5.551115123125783e-17,
            "bin_end": 0.10000000000000003,
            "count": 0
           },
           {
            "bin_start": 0.10000000000000003,
            "bin_end": 0.2,
            "count": 0
           },
           {
            "bin_start": 0.2,
            "bin_end": 0.3000000000000001,
            "count": 5
           },
           {
            "bin_start": 0.3000000000000001,
            "bin_end": 0.4000000000000001,
            "count": 0
           },
           {
            "bin_start": 0.4000000000000001,
            "bin_end": 0.5,
            "count": 0
           },
           {
            "bin_start": 0.5,
            "bin_end": 0.6000000000000001,
            "count": 0
           },
           {
            "bin_start": 0.6000000000000001,
            "bin_end": 0.7,
            "count": 0
           }
          ]
         }
        },
        {
         "name": "params",
         "dtype": "object",
         "stats": {
          "unique_count": 5,
          "nan_count": 0,
          "categories": [
           {
            "name": "{'activation': 'logistic', 'alpha': 0.06991153037944176, 'batch_size': 854, 'early_stopping': True, 'hidden_layer_sizes': (25, 25), 'learning_rate': 'adaptive', 'learning_rate_init': 0.07787730717590882, 'max_iter': 5000, 'momentum': 0.2175465877496915, 'n_iter_no_change': 25, 'random_state': 69, 'solver': 'adam', 'tol': 0.001306792017296597, 'validation_fraction': 0.2}",
            "count": 1
           },
           {
            "name": "{'activation': 'logistic', 'alpha': 0.0875077894538853, 'batch_size': 138, 'early_stopping': True, 'hidden_layer_sizes': (25, 25), 'learning_rate': 'invscaling', 'learning_rate_init': 0.03948917736541289, 'max_iter': 5000, 'momentum': 0.3333901160808802, 'n_iter_no_change': 15, 'random_state': 69, 'solver': 'adam', 'tol': 0.0014098503573613597, 'validation_fraction': 0.2}",
            "count": 1
           },
           {
            "name": "3 others",
            "count": 3
           }
          ]
         }
        },
        {
         "name": "split0_test_score",
         "dtype": "float64",
         "stats": {
          "unique_count": 5,
          "nan_count": 0,
          "min": "1.029131746545377",
          "max": "1.0833638216462085",
          "histogram": [
           {
            "bin_start": 1.029131746545377,
            "bin_end": 1.0345549540554602,
            "count": 1
           },
           {
            "bin_start": 1.0345549540554602,
            "bin_end": 1.0399781615655435,
            "count": 1
           },
           {
            "bin_start": 1.0399781615655435,
            "bin_end": 1.0454013690756265,
            "count": 0
           },
           {
            "bin_start": 1.0454013690756265,
            "bin_end": 1.0508245765857096,
            "count": 1
           },
           {
            "bin_start": 1.0508245765857096,
            "bin_end": 1.0562477840957927,
            "count": 0
           },
           {
            "bin_start": 1.0562477840957927,
            "bin_end": 1.061670991605876,
            "count": 0
           },
           {
            "bin_start": 1.061670991605876,
            "bin_end": 1.067094199115959,
            "count": 0
           },
           {
            "bin_start": 1.067094199115959,
            "bin_end": 1.0725174066260421,
            "count": 1
           },
           {
            "bin_start": 1.0725174066260421,
            "bin_end": 1.0779406141361254,
            "count": 0
           },
           {
            "bin_start": 1.0779406141361254,
            "bin_end": 1.0833638216462085,
            "count": 1
           }
          ]
         }
        },
        {
         "name": "split1_test_score",
         "dtype": "float64",
         "stats": {
          "unique_count": 5,
          "nan_count": 0,
          "min": "0.9899099091011015",
          "max": "1.0181366299442178",
          "histogram": [
           {
            "bin_start": 0.9899099091011015,
            "bin_end": 0.9927325811854132,
            "count": 1
           },
           {
            "bin_start": 0.9927325811854132,
            "bin_end": 0.9955552532697248,
            "count": 0
           },
           {
            "bin_start": 0.9955552532697248,
            "bin_end": 0.9983779253540365,
            "count": 0
           },
           {
            "bin_start": 0.9983779253540365,
            "bin_end": 1.001200597438348,
            "count": 1
           },
           {
            "bin_start": 1.001200597438348,
            "bin_end": 1.0040232695226596,
            "count": 0
           },
           {
            "bin_start": 1.0040232695226596,
            "bin_end": 1.0068459416069713,
            "count": 0
           },
           {
            "bin_start": 1.0068459416069713,
            "bin_end": 1.009668613691283,
            "count": 1
           },
           {
            "bin_start": 1.009668613691283,
            "bin_end": 1.0124912857755946,
            "count": 0
           },
           {
            "bin_start": 1.0124912857755946,
            "bin_end": 1.0153139578599062,
            "count": 1
           },
           {
            "bin_start": 1.0153139578599062,
            "bin_end": 1.0181366299442178,
            "count": 1
           }
          ]
         }
        },
        {
         "name": "split2_test_score",
         "dtype": "float64",
         "stats": {
          "unique_count": 5,
          "nan_count": 0,
          "min": "1.097824487903657",
          "max": "1.2265597803334414",
          "histogram": [
           {
            "bin_start": 1.097824487903657,
            "bin_end": 1.1106980171466354,
            "count": 1
           },
           {
            "bin_start": 1.1106980171466354,
            "bin_end": 1.1235715463896139,
            "count": 0
           },
           {
            "bin_start": 1.1235715463896139,
            "bin_end": 1.1364450756325923,
            "count": 1
           },
           {
            "bin_start": 1.1364450756325923,
            "bin_end": 1.1493186048755708,
            "count": 1
           },
           {
            "bin_start": 1.1493186048755708,
            "bin_end": 1.1621921341185493,
            "count": 0
           },
           {
            "bin_start": 1.1621921341185493,
            "bin_end": 1.1750656633615275,
            "count": 0
           },
           {
            "bin_start": 1.1750656633615275,
            "bin_end": 1.187939192604506,
            "count": 0
           },
           {
            "bin_start": 1.187939192604506,
            "bin_end": 1.2008127218474844,
            "count": 1
           },
           {
            "bin_start": 1.2008127218474844,
            "bin_end": 1.213686251090463,
            "count": 0
           },
           {
            "bin_start": 1.213686251090463,
            "bin_end": 1.2265597803334414,
            "count": 1
           }
          ]
         }
        },
        {
         "name": "split3_test_score",
         "dtype": "float64",
         "stats": {
          "unique_count": 5,
          "nan_count": 0,
          "min": "1.1763053122250022",
          "max": "1.2770722018590874",
          "histogram": [
           {
            "bin_start": 1.1763053122250022,
            "bin_end": 1.1863820011884108,
            "count": 2
           },
           {
            "bin_start": 1.1863820011884108,
            "bin_end": 1.1964586901518193,
            "count": 0
           },
           {
            "bin_start": 1.1964586901518193,
            "bin_end": 1.2065353791152278,
            "count": 0
           },
           {
            "bin_start": 1.2065353791152278,
            "bin_end": 1.2166120680786363,
            "count": 1
           },
           {
            "bin_start": 1.2166120680786363,
            "bin_end": 1.2266887570420448,
            "count": 0
           },
           {
            "bin_start": 1.2266887570420448,
            "bin_end": 1.2367654460054534,
            "count": 0
           },
           {
            "bin_start": 1.2367654460054534,
            "bin_end": 1.2468421349688619,
            "count": 0
           },
           {
            "bin_start": 1.2468421349688619,
            "bin_end": 1.2569188239322704,
            "count": 0
           },
           {
            "bin_start": 1.2569188239322704,
            "bin_end": 1.266995512895679,
            "count": 1
           },
           {
            "bin_start": 1.266995512895679,
            "bin_end": 1.2770722018590874,
            "count": 1
           }
          ]
         }
        },
        {
         "name": "split4_test_score",
         "dtype": "float64",
         "stats": {
          "unique_count": 5,
          "nan_count": 0,
          "min": "1.1635567076372564",
          "max": "1.2438439078864847",
          "histogram": [
           {
            "bin_start": 1.1635567076372564,
            "bin_end": 1.1715854276621793,
            "count": 1
           },
           {
            "bin_start": 1.1715854276621793,
            "bin_end": 1.179614147687102,
            "count": 0
           },
           {
            "bin_start": 1.179614147687102,
            "bin_end": 1.1876428677120248,
            "count": 0
           },
           {
            "bin_start": 1.1876428677120248,
            "bin_end": 1.1956715877369477,
            "count": 0
           },
           {
            "bin_start": 1.1956715877369477,
            "bin_end": 1.2037003077618706,
            "count": 0
           },
           {
            "bin_start": 1.2037003077618706,
            "bin_end": 1.2117290277867934,
            "count": 0
           },
           {
            "bin_start": 1.2117290277867934,
            "bin_end": 1.219757747811716,
            "count": 2
           },
           {
            "bin_start": 1.219757747811716,
            "bin_end": 1.227786467836639,
            "count": 0
           },
           {
            "bin_start": 1.227786467836639,
            "bin_end": 1.235815187861562,
            "count": 1
           },
           {
            "bin_start": 1.235815187861562,
            "bin_end": 1.2438439078864847,
            "count": 1
           }
          ]
         }
        },
        {
         "name": "split5_test_score",
         "dtype": "float64",
         "stats": {
          "unique_count": 5,
          "nan_count": 0,
          "min": "1.2440694385379725",
          "max": "1.2661779388018113",
          "histogram": [
           {
            "bin_start": 1.2440694385379725,
            "bin_end": 1.2462802885643565,
            "count": 1
           },
           {
            "bin_start": 1.2462802885643565,
            "bin_end": 1.2484911385907402,
            "count": 0
           },
           {
            "bin_start": 1.2484911385907402,
            "bin_end": 1.250701988617124,
            "count": 2
           },
           {
            "bin_start": 1.250701988617124,
            "bin_end": 1.252912838643508,
            "count": 0
           },
           {
            "bin_start": 1.252912838643508,
            "bin_end": 1.255123688669892,
            "count": 0
           },
           {
            "bin_start": 1.255123688669892,
            "bin_end": 1.2573345386962758,
            "count": 0
           },
           {
            "bin_start": 1.2573345386962758,
            "bin_end": 1.2595453887226595,
            "count": 1
           },
           {
            "bin_start": 1.2595453887226595,
            "bin_end": 1.2617562387490435,
            "count": 0
           },
           {
            "bin_start": 1.2617562387490435,
            "bin_end": 1.2639670887754275,
            "count": 0
           },
           {
            "bin_start": 1.2639670887754275,
            "bin_end": 1.2661779388018113,
            "count": 1
           }
          ]
         }
        },
        {
         "name": "split6_test_score",
         "dtype": "float64",
         "stats": {
          "unique_count": 5,
          "nan_count": 0,
          "min": "1.111385158641344",
          "max": "1.1588148455801677",
          "histogram": [
           {
            "bin_start": 1.111385158641344,
            "bin_end": 1.1161281273352264,
            "count": 2
           },
           {
            "bin_start": 1.1161281273352264,
            "bin_end": 1.1208710960291086,
            "count": 0
           },
           {
            "bin_start": 1.1208710960291086,
            "bin_end": 1.125614064722991,
            "count": 0
           },
           {
            "bin_start": 1.125614064722991,
            "bin_end": 1.1303570334168733,
            "count": 0
           },
           {
            "bin_start": 1.1303570334168733,
            "bin_end": 1.1351000021107558,
            "count": 0
           },
           {
            "bin_start": 1.1351000021107558,
            "bin_end": 1.1398429708046383,
            "count": 0
           },
           {
            "bin_start": 1.1398429708046383,
            "bin_end": 1.1445859394985205,
            "count": 0
           },
           {
            "bin_start": 1.1445859394985205,
            "bin_end": 1.149328908192403,
            "count": 0
           },
           {
            "bin_start": 1.149328908192403,
            "bin_end": 1.1540718768862852,
            "count": 0
           },
           {
            "bin_start": 1.1540718768862852,
            "bin_end": 1.1588148455801677,
            "count": 3
           }
          ]
         }
        },
        {
         "name": "split7_test_score",
         "dtype": "float64",
         "stats": {
          "unique_count": 5,
          "nan_count": 0,
          "min": "1.081661945052667",
          "max": "1.1240701213563211",
          "histogram": [
           {
            "bin_start": 1.081661945052667,
            "bin_end": 1.0859027626830324,
            "count": 1
           },
           {
            "bin_start": 1.0859027626830324,
            "bin_end": 1.0901435803133979,
            "count": 1
           },
           {
            "bin_start": 1.0901435803133979,
            "bin_end": 1.0943843979437633,
            "count": 1
           },
           {
            "bin_start": 1.0943843979437633,
            "bin_end": 1.0986252155741287,
            "count": 0
           },
           {
            "bin_start": 1.0986252155741287,
            "bin_end": 1.102866033204494,
            "count": 0
           },
           {
            "bin_start": 1.102866033204494,
            "bin_end": 1.1071068508348594,
            "count": 1
           },
           {
            "bin_start": 1.1071068508348594,
            "bin_end": 1.1113476684652248,
            "count": 0
           },
           {
            "bin_start": 1.1113476684652248,
            "bin_end": 1.1155884860955902,
            "count": 0
           },
           {
            "bin_start": 1.1155884860955902,
            "bin_end": 1.1198293037259557,
            "count": 0
           },
           {
            "bin_start": 1.1198293037259557,
            "bin_end": 1.1240701213563211,
            "count": 1
           }
          ]
         }
        },
        {
         "name": "split8_test_score",
         "dtype": "float64",
         "stats": {
          "unique_count": 5,
          "nan_count": 0,
          "min": "1.2047113757934056",
          "max": "1.2404213619511568",
          "histogram": [
           {
            "bin_start": 1.2047113757934056,
            "bin_end": 1.2082823744091806,
            "count": 1
           },
           {
            "bin_start": 1.2082823744091806,
            "bin_end": 1.2118533730249559,
            "count": 0
           },
           {
            "bin_start": 1.2118533730249559,
            "bin_end": 1.215424371640731,
            "count": 0
           },
           {
            "bin_start": 1.215424371640731,
            "bin_end": 1.2189953702565062,
            "count": 1
           },
           {
            "bin_start": 1.2189953702565062,
            "bin_end": 1.2225663688722812,
            "count": 0
           },
           {
            "bin_start": 1.2225663688722812,
            "bin_end": 1.2261373674880562,
            "count": 0
           },
           {
            "bin_start": 1.2261373674880562,
            "bin_end": 1.2297083661038315,
            "count": 1
           },
           {
            "bin_start": 1.2297083661038315,
            "bin_end": 1.2332793647196065,
            "count": 0
           },
           {
            "bin_start": 1.2332793647196065,
            "bin_end": 1.2368503633353818,
            "count": 1
           },
           {
            "bin_start": 1.2368503633353818,
            "bin_end": 1.2404213619511568,
            "count": 1
           }
          ]
         }
        },
        {
         "name": "split9_test_score",
         "dtype": "float64",
         "stats": {
          "unique_count": 5,
          "nan_count": 0,
          "min": "1.0149512326469703",
          "max": "1.085174355263457",
          "histogram": [
           {
            "bin_start": 1.0149512326469703,
            "bin_end": 1.021973544908619,
            "count": 1
           },
           {
            "bin_start": 1.021973544908619,
            "bin_end": 1.0289958571702675,
            "count": 0
           },
           {
            "bin_start": 1.0289958571702675,
            "bin_end": 1.0360181694319164,
            "count": 0
           },
           {
            "bin_start": 1.0360181694319164,
            "bin_end": 1.043040481693565,
            "count": 1
           },
           {
            "bin_start": 1.043040481693565,
            "bin_end": 1.0500627939552136,
            "count": 0
           },
           {
            "bin_start": 1.0500627939552136,
            "bin_end": 1.0570851062168622,
            "count": 0
           },
           {
            "bin_start": 1.0570851062168622,
            "bin_end": 1.0641074184785109,
            "count": 0
           },
           {
            "bin_start": 1.0641074184785109,
            "bin_end": 1.0711297307401597,
            "count": 0
           },
           {
            "bin_start": 1.0711297307401597,
            "bin_end": 1.0781520430018083,
            "count": 2
           },
           {
            "bin_start": 1.0781520430018083,
            "bin_end": 1.085174355263457,
            "count": 1
           }
          ]
         }
        },
        {
         "name": "mean_test_score",
         "dtype": "float64",
         "stats": {
          "unique_count": 5,
          "nan_count": 0,
          "min": "1.1291809654972635",
          "max": "1.1545156483073094",
          "histogram": [
           {
            "bin_start": 1.1291809654972635,
            "bin_end": 1.131714433778268,
            "count": 1
           },
           {
            "bin_start": 1.131714433778268,
            "bin_end": 1.1342479020592726,
            "count": 0
           },
           {
            "bin_start": 1.1342479020592726,
            "bin_end": 1.1367813703402774,
            "count": 0
           },
           {
            "bin_start": 1.1367813703402774,
            "bin_end": 1.139314838621282,
            "count": 1
           },
           {
            "bin_start": 1.139314838621282,
            "bin_end": 1.1418483069022864,
            "count": 0
           },
           {
            "bin_start": 1.1418483069022864,
            "bin_end": 1.144381775183291,
            "count": 1
           },
           {
            "bin_start": 1.144381775183291,
            "bin_end": 1.1469152434642955,
            "count": 0
           },
           {
            "bin_start": 1.1469152434642955,
            "bin_end": 1.1494487117453003,
            "count": 1
           },
           {
            "bin_start": 1.1494487117453003,
            "bin_end": 1.1519821800263048,
            "count": 0
           },
           {
            "bin_start": 1.1519821800263048,
            "bin_end": 1.1545156483073094,
            "count": 1
           }
          ]
         }
        },
        {
         "name": "std_test_score",
         "dtype": "float64",
         "stats": {
          "unique_count": 5,
          "nan_count": 0,
          "min": "0.0761600313267914",
          "max": "0.092619874378024",
          "histogram": [
           {
            "bin_start": 0.0761600313267914,
            "bin_end": 0.07780601563191467,
            "count": 1
           },
           {
            "bin_start": 0.07780601563191467,
            "bin_end": 0.07945199993703793,
            "count": 0
           },
           {
            "bin_start": 0.07945199993703793,
            "bin_end": 0.08109798424216118,
            "count": 1
           },
           {
            "bin_start": 0.08109798424216118,
            "bin_end": 0.08274396854728444,
            "count": 0
           },
           {
            "bin_start": 0.08274396854728444,
            "bin_end": 0.0843899528524077,
            "count": 0
           },
           {
            "bin_start": 0.0843899528524077,
            "bin_end": 0.08603593715753097,
            "count": 0
           },
           {
            "bin_start": 0.08603593715753097,
            "bin_end": 0.08768192146265423,
            "count": 1
           },
           {
            "bin_start": 0.08768192146265423,
            "bin_end": 0.08932790576777748,
            "count": 1
           },
           {
            "bin_start": 0.08932790576777748,
            "bin_end": 0.09097389007290074,
            "count": 0
           },
           {
            "bin_start": 0.09097389007290074,
            "bin_end": 0.092619874378024,
            "count": 1
           }
          ]
         }
        },
        {
         "name": "rank_test_score",
         "dtype": "int64",
         "stats": {
          "unique_count": 5,
          "nan_count": 0,
          "min": "989",
          "max": "993",
          "histogram": [
           {
            "bin_start": 989,
            "bin_end": 989.4,
            "count": 1
           },
           {
            "bin_start": 989.4,
            "bin_end": 989.8,
            "count": 0
           },
           {
            "bin_start": 989.8,
            "bin_end": 990.2,
            "count": 1
           },
           {
            "bin_start": 990.2,
            "bin_end": 990.6,
            "count": 0
           },
           {
            "bin_start": 990.6,
            "bin_end": 991,
            "count": 0
           },
           {
            "bin_start": 991,
            "bin_end": 991.4,
            "count": 1
           },
           {
            "bin_start": 991.4,
            "bin_end": 991.8,
            "count": 0
           },
           {
            "bin_start": 991.8,
            "bin_end": 992.2,
            "count": 1
           },
           {
            "bin_start": 992.2,
            "bin_end": 992.6,
            "count": 0
           },
           {
            "bin_start": 992.6,
            "bin_end": 993,
            "count": 1
           }
          ]
         }
        },
        {
         "name": "_deepnote_index_column",
         "dtype": "int64"
        }
       ],
       "rows": [
        {
         "Unnamed: 0": 672,
         "mean_fit_time": 0.57013840675354,
         "std_fit_time": 0.0841189591645542,
         "mean_score_time": 0.0039949655532836,
         "std_score_time": 0.0083765278185916,
         "param_activation": "logistic",
         "param_alpha": 0.0699115303794417,
         "param_batch_size": 854,
         "param_early_stopping": true,
         "param_hidden_layer_sizes": "(25, 25)",
         "param_learning_rate": "adaptive",
         "param_learning_rate_init": 0.0778773071759088,
         "param_max_iter": 5000,
         "param_momentum": 0.2175465877496915,
         "param_n_iter_no_change": 25,
         "param_random_state": 69,
         "param_solver": "adam",
         "param_tol": 0.0013067920172965,
         "param_validation_fraction": 0.2,
         "params": "{'activation': 'logistic', 'alpha': 0.06991153037944176, 'batch_size': 854, 'early_stopping': True,…",
         "split0_test_score": 1.0345655275031875,
         "split1_test_score": 0.9988824832833814,
         "split2_test_score": 1.1337851894520306,
         "split3_test_score": 1.1779978416771557,
         "split4_test_score": 1.1635567076372564,
         "split5_test_score": 1.2497955488201893,
         "split6_test_score": 1.1588148455801677,
         "split7_test_score": 1.081661945052667,
         "split8_test_score": 1.217832440496793,
         "split9_test_score": 1.0749171254698069,
         "mean_test_score": 1.1291809654972635,
         "std_test_score": 0.0761600313267914,
         "rank_test_score": 993,
         "_deepnote_index_column": 0
        },
        {
         "Unnamed: 0": 120,
         "mean_fit_time": 0.4313522815704346,
         "std_fit_time": 0.0373716093212336,
         "mean_score_time": 0.0037204980850219,
         "std_score_time": 0.0070659406473946,
         "param_activation": "logistic",
         "param_alpha": 0.0875077894538853,
         "param_batch_size": 138,
         "param_early_stopping": true,
         "param_hidden_layer_sizes": "(25, 25)",
         "param_learning_rate": "invscaling",
         "param_learning_rate_init": 0.0394891773654128,
         "param_max_iter": 5000,
         "param_momentum": 0.3333901160808802,
         "param_n_iter_no_change": 15,
         "param_random_state": 69,
         "param_solver": "adam",
         "param_tol": 0.0014098503573613,
         "param_validation_fraction": 0.2,
         "params": "{'activation': 'logistic', 'alpha': 0.0875077894538853, 'batch_size': 138, 'early_stopping': True, …",
         "split0_test_score": 1.029131746545377,
         "split1_test_score": 1.0082402002623043,
         "split2_test_score": 1.2265597803334414,
         "split3_test_score": 1.1763053122250022,
         "split4_test_score": 1.218488361737004,
         "split5_test_score": 1.248914223602006,
         "split6_test_score": 1.111385158641344,
         "split7_test_score": 1.089463847294728,
         "split8_test_score": 1.2349661540053412,
         "split9_test_score": 1.040058274634632,
         "mean_test_score": 1.138351305928118,
         "std_test_score": 0.0887909148390132,
         "rank_test_score": 992,
         "_deepnote_index_column": 1
        },
        {
         "Unnamed: 0": 997,
         "mean_fit_time": 0.2960684537887573,
         "std_fit_time": 0.0303362440243758,
         "mean_score_time": 0.0012507200241088,
         "std_score_time": 0.000106720078974,
         "param_activation": "logistic",
         "param_alpha": 0.0896795915567839,
         "param_batch_size": 260,
         "param_early_stopping": true,
         "param_hidden_layer_sizes": "(25, 25)",
         "param_learning_rate": "adaptive",
         "param_learning_rate_init": 0.0621243751913912,
         "param_max_iter": 5000,
         "param_momentum": 0.1656531047864966,
         "param_n_iter_no_change": 15,
         "param_random_state": 69,
         "param_solver": "adam",
         "param_tol": 0.0020823526853176,
         "param_validation_fraction": 0.2,
         "params": "{'activation': 'logistic', 'alpha': 0.08967959155678394, 'batch_size': 260, 'early_stopping': True,…",
         "split0_test_score": 1.0479129904953066,
         "split1_test_score": 1.013534606701386,
         "split2_test_score": 1.189086914737104,
         "split3_test_score": 1.208696109992671,
         "split4_test_score": 1.215251883596358,
         "split5_test_score": 1.2661779388018113,
         "split6_test_score": 1.1543036036769112,
         "split7_test_score": 1.1068413493389788,
         "split8_test_score": 1.2047113757934056,
         "split9_test_score": 1.0149512326469703,
         "mean_test_score": 1.14214680057809,
         "std_test_score": 0.0861792724565886,
         "rank_test_score": 991,
         "_deepnote_index_column": 2
        },
        {
         "Unnamed: 0": 524,
         "mean_fit_time": 0.706179165840149,
         "std_fit_time": 0.1215362156570872,
         "mean_score_time": 0.0014407396316528,
         "std_score_time": 0.0003000804175437,
         "param_activation": "logistic",
         "param_alpha": 0.0748748551003955,
         "param_batch_size": 512,
         "param_early_stopping": true,
         "param_hidden_layer_sizes": "(50, 50)",
         "param_learning_rate": "invscaling",
         "param_learning_rate_init": 0.0848343374593601,
         "param_max_iter": 5000,
         "param_momentum": 0.9298658176900316,
         "param_n_iter_no_change": 15,
         "param_random_state": 69,
         "param_solver": "adam",
         "param_tol": 0.0011161854044497,
         "param_validation_fraction": 0.2,
         "params": "{'activation': 'logistic', 'alpha': 0.07487485510039557, 'batch_size': 512, 'early_stopping': True,…",
         "split0_test_score": 1.0833638216462085,
         "split1_test_score": 1.0181366299442178,
         "split2_test_score": 1.097824487903657,
         "split3_test_score": 1.2633844921088158,
         "split4_test_score": 1.2296930941884867,
         "split5_test_score": 1.2440694385379725,
         "split6_test_score": 1.114422929999345,
         "split7_test_score": 1.1240701213563211,
         "split8_test_score": 1.2275166074805255,
         "split9_test_score": 1.085174355263457,
         "mean_test_score": 1.1487655978429008,
         "std_test_score": 0.0804616318190178,
         "rank_test_score": 990,
         "_deepnote_index_column": 3
        },
        {
         "Unnamed: 0": 80,
         "mean_fit_time": 0.4554617881774902,
         "std_fit_time": 0.0550166139411253,
         "mean_score_time": 0.0012425661087036,
         "std_score_time": 0.00008374752857214671,
         "param_activation": "logistic",
         "param_alpha": 0.0142466572829556,
         "param_batch_size": 667,
         "param_early_stopping": true,
         "param_hidden_layer_sizes": "(25, 25)",
         "param_learning_rate": "invscaling",
         "param_learning_rate_init": 0.0631363898756868,
         "param_max_iter": 5000,
         "param_momentum": 0.1675555617448793,
         "param_n_iter_no_change": 15,
         "param_random_state": 69,
         "param_solver": "adam",
         "param_tol": 0.0011347842164491,
         "param_validation_fraction": 0.2,
         "params": "{'activation': 'logistic', 'alpha': 0.014246657282955679, 'batch_size': 667, 'early_stopping': True…",
         "split0_test_score": 1.0702615641612283,
         "split1_test_score": 0.9899099091011015,
         "split2_test_score": 1.138436281003753,
         "split3_test_score": 1.2770722018590874,
         "split4_test_score": 1.2438439078864847,
         "split5_test_score": 1.2595000667161342,
         "split6_test_score": 1.1567205864852632,
         "split7_test_score": 1.0922522049400971,
         "split8_test_score": 1.2404213619511568,
         "split9_test_score": 1.076738398968785,
         "mean_test_score": 1.1545156483073094,
         "std_test_score": 0.092619874378024,
         "rank_test_score": 989,
         "_deepnote_index_column": 4
        }
       ]
      },
      "text/plain": "   Unnamed: 0  mean_fit_time  std_fit_time  mean_score_time  std_score_time  \\\n0         672       0.570138      0.084119         0.003995        0.008377   \n1         120       0.431352      0.037372         0.003720        0.007066   \n2         997       0.296068      0.030336         0.001251        0.000107   \n3         524       0.706179      0.121536         0.001441        0.000300   \n4          80       0.455462      0.055017         0.001243        0.000084   \n\n  param_activation  param_alpha  param_batch_size  param_early_stopping  \\\n0         logistic     0.069912               854                  True   \n1         logistic     0.087508               138                  True   \n2         logistic     0.089680               260                  True   \n3         logistic     0.074875               512                  True   \n4         logistic     0.014247               667                  True   \n\n  param_hidden_layer_sizes  ... split3_test_score  split4_test_score  \\\n0                 (25, 25)  ...          1.177998           1.163557   \n1                 (25, 25)  ...          1.176305           1.218488   \n2                 (25, 25)  ...          1.208696           1.215252   \n3                 (50, 50)  ...          1.263384           1.229693   \n4                 (25, 25)  ...          1.277072           1.243844   \n\n   split5_test_score  split6_test_score  split7_test_score  split8_test_score  \\\n0           1.249796           1.158815           1.081662           1.217832   \n1           1.248914           1.111385           1.089464           1.234966   \n2           1.266178           1.154304           1.106841           1.204711   \n3           1.244069           1.114423           1.124070           1.227517   \n4           1.259500           1.156721           1.092252           1.240421   \n\n  split9_test_score  mean_test_score  std_test_score rank_test_score  \n0          1.074917         1.129181        0.076160             993  \n1          1.040058         1.138351        0.088791             992  \n2          1.014951         1.142147        0.086179             991  \n3          1.085174         1.148766        0.080462             990  \n4          1.076738         1.154516        0.092620             989  \n\n[5 rows x 33 columns]",
      "text/html": "<div>\n<style scoped>\n    .dataframe tbody tr th:only-of-type {\n        vertical-align: middle;\n    }\n\n    .dataframe tbody tr th {\n        vertical-align: top;\n    }\n\n    .dataframe thead th {\n        text-align: right;\n    }\n</style>\n<table border=\"1\" class=\"dataframe\">\n  <thead>\n    <tr style=\"text-align: right;\">\n      <th></th>\n      <th>Unnamed: 0</th>\n      <th>mean_fit_time</th>\n      <th>std_fit_time</th>\n      <th>mean_score_time</th>\n      <th>std_score_time</th>\n      <th>param_activation</th>\n      <th>param_alpha</th>\n      <th>param_batch_size</th>\n      <th>param_early_stopping</th>\n      <th>param_hidden_layer_sizes</th>\n      <th>...</th>\n      <th>split3_test_score</th>\n      <th>split4_test_score</th>\n      <th>split5_test_score</th>\n      <th>split6_test_score</th>\n      <th>split7_test_score</th>\n      <th>split8_test_score</th>\n      <th>split9_test_score</th>\n      <th>mean_test_score</th>\n      <th>std_test_score</th>\n      <th>rank_test_score</th>\n    </tr>\n  </thead>\n  <tbody>\n    <tr>\n      <th>0</th>\n      <td>672</td>\n      <td>0.570138</td>\n      <td>0.084119</td>\n      <td>0.003995</td>\n      <td>0.008377</td>\n      <td>logistic</td>\n      <td>0.069912</td>\n      <td>854</td>\n      <td>True</td>\n      <td>(25, 25)</td>\n      <td>...</td>\n      <td>1.177998</td>\n      <td>1.163557</td>\n      <td>1.249796</td>\n      <td>1.158815</td>\n      <td>1.081662</td>\n      <td>1.217832</td>\n      <td>1.074917</td>\n      <td>1.129181</td>\n      <td>0.076160</td>\n      <td>993</td>\n    </tr>\n    <tr>\n      <th>1</th>\n      <td>120</td>\n      <td>0.431352</td>\n      <td>0.037372</td>\n      <td>0.003720</td>\n      <td>0.007066</td>\n      <td>logistic</td>\n      <td>0.087508</td>\n      <td>138</td>\n      <td>True</td>\n      <td>(25, 25)</td>\n      <td>...</td>\n      <td>1.176305</td>\n      <td>1.218488</td>\n      <td>1.248914</td>\n      <td>1.111385</td>\n      <td>1.089464</td>\n      <td>1.234966</td>\n      <td>1.040058</td>\n      <td>1.138351</td>\n      <td>0.088791</td>\n      <td>992</td>\n    </tr>\n    <tr>\n      <th>2</th>\n      <td>997</td>\n      <td>0.296068</td>\n      <td>0.030336</td>\n      <td>0.001251</td>\n      <td>0.000107</td>\n      <td>logistic</td>\n      <td>0.089680</td>\n      <td>260</td>\n      <td>True</td>\n      <td>(25, 25)</td>\n      <td>...</td>\n      <td>1.208696</td>\n      <td>1.215252</td>\n      <td>1.266178</td>\n      <td>1.154304</td>\n      <td>1.106841</td>\n      <td>1.204711</td>\n      <td>1.014951</td>\n      <td>1.142147</td>\n      <td>0.086179</td>\n      <td>991</td>\n    </tr>\n    <tr>\n      <th>3</th>\n      <td>524</td>\n      <td>0.706179</td>\n      <td>0.121536</td>\n      <td>0.001441</td>\n      <td>0.000300</td>\n      <td>logistic</td>\n      <td>0.074875</td>\n      <td>512</td>\n      <td>True</td>\n      <td>(50, 50)</td>\n      <td>...</td>\n      <td>1.263384</td>\n      <td>1.229693</td>\n      <td>1.244069</td>\n      <td>1.114423</td>\n      <td>1.124070</td>\n      <td>1.227517</td>\n      <td>1.085174</td>\n      <td>1.148766</td>\n      <td>0.080462</td>\n      <td>990</td>\n    </tr>\n    <tr>\n      <th>4</th>\n      <td>80</td>\n      <td>0.455462</td>\n      <td>0.055017</td>\n      <td>0.001243</td>\n      <td>0.000084</td>\n      <td>logistic</td>\n      <td>0.014247</td>\n      <td>667</td>\n      <td>True</td>\n      <td>(25, 25)</td>\n      <td>...</td>\n      <td>1.277072</td>\n      <td>1.243844</td>\n      <td>1.259500</td>\n      <td>1.156721</td>\n      <td>1.092252</td>\n      <td>1.240421</td>\n      <td>1.076738</td>\n      <td>1.154516</td>\n      <td>0.092620</td>\n      <td>989</td>\n    </tr>\n  </tbody>\n</table>\n<p>5 rows × 33 columns</p>\n</div>"
     },
     "metadata": {}
    }
   ],
   "execution_count": 19
  },
  {
   "cell_type": "code",
   "metadata": {
    "deepnote_to_be_reexecuted": false,
    "execution_millis": 75077984,
    "execution_start": 1642767080059,
    "source_hash": "9dd11431",
    "tags": [],
    "output_cleared": false,
    "cell_id": "00085-78256440-2deb-481b-a2d0-17f6d99adbf3",
    "deepnote_cell_type": "code"
   },
   "source": "#get the best params for the grid search (cannot use rand_gs.best_estimator directly since it will yield the worst estimator based on MEE)\nbest_params = df_results['params'][0]\nprint(f\"Mean error on the {k}-folds (MEE) on best model: {df_results['mean_test_score'][0]}\\n\")\nprint(f\"Best params: {best_params}\")",
   "outputs": [
    {
     "name": "stdout",
     "text": "Mean error on the 10-folds (MEE) on best model: 1.1291809654972635\n\nBest params: {'activation': 'logistic', 'alpha': 0.06991153037944176, 'batch_size': 854, 'early_stopping': True, 'hidden_layer_sizes': (25, 25), 'learning_rate': 'adaptive', 'learning_rate_init': 0.07787730717590882, 'max_iter': 5000, 'momentum': 0.2175465877496915, 'n_iter_no_change': 25, 'random_state': 69, 'solver': 'adam', 'tol': 0.001306792017296597, 'validation_fraction': 0.2}\n",
     "output_type": "stream"
    }
   ],
   "execution_count": 20
  },
  {
   "cell_type": "markdown",
   "source": "We save the top 10 best models for later",
   "metadata": {
    "tags": [],
    "cell_id": "00086-3e71456e-17d9-424a-906c-949cc2112355",
    "deepnote_cell_type": "markdown"
   }
  },
  {
   "cell_type": "code",
   "metadata": {
    "tags": [],
    "deepnote_to_be_reexecuted": false,
    "source_hash": "27df5a41",
    "execution_start": 1642767080072,
    "execution_millis": 4,
    "cell_id": "00087-bc5b154e-2743-4dcd-967c-91bd9c919a0a",
    "deepnote_cell_type": "code"
   },
   "source": "best_models = list() #list of the top ten models of the final randomized search\n\nfor i in range(10):\n    best_params_i = df_results['params'][i]\n    best_params_i = ast.literal_eval(best_params_i)\n    best_params_i['early_stopping'] = False\n    model_i = MLPRegressor(**best_params_i)\n    model_i_eval = MLPRegressor(**best_params_i)\n    best_models.append(model_i)",
   "outputs": [],
   "execution_count": 21
  },
  {
   "cell_type": "code",
   "metadata": {
    "tags": [],
    "deepnote_to_be_reexecuted": false,
    "source_hash": "f7129cbd",
    "execution_start": 1642767080074,
    "execution_millis": 0,
    "cell_id": "00088-375bbe2d-1c86-4242-b378-63971869b30b",
    "deepnote_cell_type": "code"
   },
   "source": "best_params = ast.literal_eval(best_params)",
   "outputs": [],
   "execution_count": 22
  },
  {
   "cell_type": "code",
   "metadata": {
    "deepnote_output_heights": [
     117
    ],
    "deepnote_to_be_reexecuted": false,
    "execution_millis": 1727,
    "execution_start": 1642767080075,
    "source_hash": "29022037",
    "tags": [],
    "output_cleared": false,
    "cell_id": "00089-330dd474-2078-4628-859b-acae056227f3",
    "deepnote_cell_type": "code"
   },
   "source": "model = MLPRegressor(**best_params)\nbest_params['early_stopping'] = False\neval_model = MLPRegressor(**best_params) #unfitted model used for evaluation\nmodel.fit(X, y)",
   "outputs": [
    {
     "output_type": "execute_result",
     "execution_count": 23,
     "data": {
      "text/plain": "MLPRegressor(activation='logistic', alpha=0.06991153037944176, batch_size=854,\n             early_stopping=True, hidden_layer_sizes=(25, 25),\n             learning_rate='adaptive', learning_rate_init=0.07787730717590882,\n             max_iter=5000, momentum=0.2175465877496915, n_iter_no_change=25,\n             random_state=69, tol=0.001306792017296597,\n             validation_fraction=0.2)"
     },
     "metadata": {}
    }
   ],
   "execution_count": 23
  },
  {
   "cell_type": "code",
   "metadata": {
    "deepnote_output_heights": [
     21.1875
    ],
    "deepnote_to_be_reexecuted": false,
    "execution_millis": 97,
    "execution_start": 1642767081804,
    "source_hash": "9e9de3f4",
    "tags": [],
    "output_cleared": false,
    "cell_id": "00090-1f841213-3b7a-4d36-86ee-d5850f5975e4",
    "deepnote_cell_type": "code"
   },
   "source": "y_predicted = model.predict(X)\nprint(f\"Accuracy: {model.score(X, y)}\")\nprint(f\"MEE: {mee(y, y_predicted)}\")",
   "outputs": [
    {
     "name": "stdout",
     "text": "Accuracy: 0.947087691512623\nMEE: 1.0896898075653432\n",
     "output_type": "stream"
    }
   ],
   "execution_count": 24
  },
  {
   "cell_type": "code",
   "metadata": {
    "deepnote_output_heights": [
     40.390625
    ],
    "deepnote_to_be_reexecuted": false,
    "execution_millis": 10,
    "execution_start": 1642767081901,
    "source_hash": "c0f59177",
    "tags": [],
    "output_cleared": false,
    "cell_id": "00091-80303495-b0c0-4a08-8f6c-0ea65474b9a1",
    "deepnote_cell_type": "code"
   },
   "source": "y_predicted_internal = model.predict(X_internal_test)\nprint(f\"Accuracy: {model.score(X_internal_test, y_internal_test)}\")\nprint(f\"MEE: {mee(y_internal_test, y_predicted_internal)}\")",
   "outputs": [
    {
     "name": "stdout",
     "text": "Accuracy: 0.9355211375930804\nMEE: 1.112846896635994\n",
     "output_type": "stream"
    }
   ],
   "execution_count": 25
  },
  {
   "cell_type": "code",
   "metadata": {
    "tags": [],
    "deepnote_to_be_reexecuted": false,
    "source_hash": "e101cc15",
    "output_cleared": false,
    "execution_start": 1642767081913,
    "execution_millis": 8008,
    "cell_id": "00092-1ecf70d3-ef21-4b3f-8089-a111fa57f175",
    "deepnote_cell_type": "code"
   },
   "source": "train_scores, test_scores, train_loss, test_loss = fit_and_score(model.n_iter_, eval_model, X, y, X_internal_test, y_internal_test)",
   "outputs": [],
   "execution_count": 26
  },
  {
   "cell_type": "code",
   "source": "def plot_learning_curves(train_scores, test_scores, epochs, y_label):\n    plt.figure(figsize=(10,8))\n    plt.plot(range(0,epochs), train_scores, label = \"Training error\", linestyle='dashed')\n    plt.plot(range(0,epochs), test_scores, label = \"Test error\")\n    plt.legend()\n    plt.ylabel(y_label)\n    plt.xlabel('Epoch');",
   "metadata": {
    "cell_id": "11d13465-04f7-4330-ab60-647963da0351",
    "tags": [],
    "deepnote_to_be_reexecuted": false,
    "source_hash": "fe0bd595",
    "execution_start": 1642767241529,
    "execution_millis": 0,
    "deepnote_cell_type": "code"
   },
   "outputs": [],
   "execution_count": 28
  },
  {
   "cell_type": "markdown",
   "source": " ## Loss Curves on best model",
   "metadata": {
    "tags": [],
    "cell_id": "00093-fe68bdb3-0614-4446-912a-d82cf0a116f9",
    "deepnote_cell_type": "markdown"
   }
  },
  {
   "cell_type": "code",
   "metadata": {
    "deepnote_output_heights": [
     482
    ],
    "deepnote_to_be_reexecuted": false,
    "execution_millis": 606,
    "execution_start": 1642767244577,
    "source_hash": "2a28b3cd",
    "tags": [],
    "output_cleared": false,
    "cell_id": "00094-5bb008ee-a4ca-43eb-b01d-a68733ee6b2b",
    "deepnote_cell_type": "code"
   },
   "source": "plot_learning_curves(train_loss, test_loss, model.n_iter_, \"Loss (MSE)\")",
   "outputs": [
    {
     "data": {
      "text/plain": "<Figure size 720x576 with 1 Axes>",
      "image/png": "[encoded data removed]"
     },
     "metadata": {
      "needs_background": "light",
      "image/png": {
       "width": 606,
       "height": 480
      }
     },
     "output_type": "display_data"
    }
   ],
   "execution_count": 29
  },
  {
   "cell_type": "markdown",
   "source": "## Learning Curves on best model",
   "metadata": {
    "tags": [],
    "cell_id": "00095-765ec867-bdc2-419a-ba23-a489a71e27ed",
    "deepnote_cell_type": "markdown"
   }
  },
  {
   "cell_type": "code",
   "metadata": {
    "deepnote_output_heights": [
     482
    ],
    "deepnote_to_be_reexecuted": false,
    "execution_millis": 253,
    "execution_start": 1642767251967,
    "source_hash": "b6d9a11b",
    "tags": [],
    "output_cleared": false,
    "cell_id": "00096-38bf5ae9-c594-4799-bb3e-460cdbec1633",
    "deepnote_cell_type": "code"
   },
   "source": "plot_learning_curves(train_scores, test_scores, model.n_iter_, \"Error (MEE)\")",
   "outputs": [
    {
     "data": {
      "text/plain": "<Figure size 720x576 with 1 Axes>",
      "image/png": "[encoded data removed]"
     },
     "metadata": {
      "needs_background": "light",
      "image/png": {
       "width": 612,
       "height": 480
      }
     },
     "output_type": "display_data"
    }
   ],
   "execution_count": 30
  },
  {
   "cell_type": "markdown",
   "source": "### Plot of coordinates x and y from the training set",
   "metadata": {
    "tags": [],
    "cell_id": "00097-e5a397f3-a55c-4bcc-85b5-683cbae060c3",
    "deepnote_cell_type": "markdown"
   }
  },
  {
   "cell_type": "code",
   "metadata": {
    "deepnote_output_heights": [
     21,
     264
    ],
    "deepnote_to_be_reexecuted": false,
    "execution_millis": 208,
    "execution_start": 1642767258054,
    "output_cleared": false,
    "source_hash": "c1117b61",
    "cell_id": "00098-7f31bb15-8b09-4130-955d-1c31a56416e9",
    "deepnote_cell_type": "code"
   },
   "source": "plt.xlabel(\"x\")\nplt.ylabel(\"y\")\nplt.scatter(df_visual['x'], df_visual['y'])",
   "outputs": [
    {
     "output_type": "execute_result",
     "execution_count": 31,
     "data": {
      "text/plain": "<matplotlib.collections.PathCollection at 0x7fce38971590>"
     },
     "metadata": {}
    },
    {
     "data": {
      "text/plain": "<Figure size 432x288 with 1 Axes>",
      "image/png": "[encoded data removed]"
     },
     "metadata": {
      "needs_background": "light",
      "image/png": {
       "width": 391,
       "height": 262
      }
     },
     "output_type": "display_data"
    }
   ],
   "execution_count": 31
  },
  {
   "cell_type": "code",
   "metadata": {
    "deepnote_to_be_reexecuted": false,
    "execution_millis": 0,
    "execution_start": 1642767259241,
    "source_hash": "a4dc9d4f",
    "tags": [],
    "output_cleared": true,
    "cell_id": "00099-48cb3478-042b-4781-8f6d-c71c5a6d5510",
    "deepnote_cell_type": "code"
   },
   "source": "def plot_coordinates(model, X, true_y = None):\n    y_predicted = model.predict(X)\n    y_predicted = pd.DataFrame(data=y_predicted, columns=[\"x\", \"y\"])\n    if not None:\n        true_y = pd.DataFrame(data=true_y, columns=[\"x\", \"y\"])\n        plt.scatter(true_y['x'], true_y['y'], c='r', marker='*')\n    plt.xlabel(\"x\")\n    plt.ylabel(\"y\")\n    plt.scatter(y_predicted['x'], y_predicted['y'], c='#1f77b4')\n",
   "outputs": [],
   "execution_count": 32
  },
  {
   "cell_type": "markdown",
   "source": "### Predicted points on internal test set",
   "metadata": {
    "tags": [],
    "cell_id": "00100-0bf0ce5d-86de-4884-98c3-0a93bdb61793",
    "deepnote_cell_type": "markdown"
   }
  },
  {
   "cell_type": "code",
   "metadata": {
    "deepnote_output_heights": [
     264
    ],
    "deepnote_to_be_reexecuted": false,
    "execution_millis": 215,
    "execution_start": 1642767261648,
    "source_hash": "9422e3bd",
    "tags": [],
    "output_cleared": false,
    "cell_id": "00101-d3bd8b05-9db9-435e-8fe1-8f8f72c50647",
    "deepnote_cell_type": "code"
   },
   "source": "plot_coordinates(model, X_internal_test, y_internal_test)",
   "outputs": [
    {
     "data": {
      "text/plain": "<Figure size 432x288 with 1 Axes>",
      "image/png": "[encoded data removed]"
     },
     "metadata": {
      "needs_background": "light",
      "image/png": {
       "width": 391,
       "height": 262
      }
     },
     "output_type": "display_data"
    }
   ],
   "execution_count": 33
  },
  {
   "cell_type": "code",
   "metadata": {
    "tags": [],
    "deepnote_to_be_reexecuted": false,
    "source_hash": "795a2625",
    "output_cleared": false,
    "execution_start": 1642767264834,
    "execution_millis": 278,
    "deepnote_output_heights": [
     264
    ],
    "cell_id": "00102-b5e6e0b3-cd64-49da-b8f3-d72c60d6d514",
    "deepnote_cell_type": "code"
   },
   "source": "plot_coordinates(model, X_all, y_all)",
   "outputs": [
    {
     "data": {
      "text/plain": "<Figure size 432x288 with 1 Axes>",
      "image/png": "[encoded data removed]"
     },
     "metadata": {
      "needs_background": "light",
      "image/png": {
       "width": 391,
       "height": 262
      }
     },
     "output_type": "display_data"
    }
   ],
   "execution_count": 34
  },
  {
   "cell_type": "markdown",
   "source": "### Predicted points on blind test set",
   "metadata": {
    "tags": [],
    "cell_id": "00103-85e3c6eb-1b6d-4ee6-920a-0f739fb59667",
    "deepnote_cell_type": "markdown"
   }
  },
  {
   "cell_type": "code",
   "metadata": {
    "deepnote_output_heights": [
     264
    ],
    "deepnote_to_be_reexecuted": false,
    "execution_millis": 324,
    "execution_start": 1642767271262,
    "source_hash": "dd65ae1c",
    "output_cleared": false,
    "cell_id": "00104-3cae6ec0-a91e-4c46-b0fd-1ac73bb96cf3",
    "deepnote_cell_type": "code"
   },
   "source": "plot_coordinates(model, blind_ts)",
   "outputs": [
    {
     "data": {
      "text/plain": "<Figure size 432x288 with 1 Axes>",
      "image/png": "[encoded data removed]"
     },
     "metadata": {
      "needs_background": "light",
      "image/png": {
       "width": 391,
       "height": 262
      }
     },
     "output_type": "display_data"
    }
   ],
   "execution_count": 35
  },
  {
   "cell_type": "markdown",
   "source": "## Ensemble ",
   "metadata": {
    "tags": [],
    "cell_id": "00105-30373e78-637d-4e2a-ab93-d98602ebe312",
    "deepnote_cell_type": "markdown"
   }
  },
  {
   "cell_type": "markdown",
   "source": "First we try using the bagging method with 10 estimators.",
   "metadata": {
    "tags": [],
    "cell_id": "00106-11eef0b0-8acd-4418-ac43-80479d215105",
    "deepnote_cell_type": "markdown"
   }
  },
  {
   "cell_type": "code",
   "metadata": {
    "deepnote_to_be_reexecuted": false,
    "execution_millis": 4033,
    "execution_start": 1642767313465,
    "source_hash": "f7682dd1",
    "tags": [],
    "output_cleared": true,
    "cell_id": "00107-27f4c40b-a344-41f4-8da1-9365d66af8cb",
    "deepnote_cell_type": "code"
   },
   "source": "bagging_ens = BaggingRegressor(model, n_estimators=10, n_jobs=-1, random_state=RS_NUMBER).fit(X, y)",
   "outputs": [],
   "execution_count": 36
  },
  {
   "cell_type": "code",
   "metadata": {
    "deepnote_to_be_reexecuted": false,
    "execution_millis": 58,
    "execution_start": 1642767317512,
    "source_hash": "26336f72",
    "tags": [],
    "output_cleared": false,
    "cell_id": "00108-e625c4dc-affe-4b8c-8d73-52d96b20a754",
    "deepnote_cell_type": "code"
   },
   "source": "y_predicted_internal_ensemble = bagging_ens.predict(X_internal_test)\nprint(f\"Accuracy: {model.score(X_internal_test, y_internal_test)}\")\nprint(f\"MEE: {mee(y_internal_test, y_predicted_internal_ensemble)}\")",
   "outputs": [
    {
     "name": "stdout",
     "text": "Accuracy: 0.9355211375930804\nMEE: 1.1382838619048485\n",
     "output_type": "stream"
    }
   ],
   "execution_count": 37
  },
  {
   "cell_type": "markdown",
   "source": "Then we try the voting method using the 10 best models from the randomized search. ",
   "metadata": {
    "tags": [],
    "deepnote_to_be_reexecuted": false,
    "source_hash": "b623e53d",
    "execution_start": 1641916793012,
    "execution_millis": 5,
    "cell_id": "00109-9cfd111b-f990-4f60-89a5-843b006db774",
    "deepnote_cell_type": "markdown"
   }
  },
  {
   "cell_type": "code",
   "metadata": {
    "tags": [],
    "deepnote_to_be_reexecuted": false,
    "source_hash": "31be1977",
    "execution_start": 1642767317580,
    "execution_millis": 29778,
    "deepnote_output_heights": [
     155.546875
    ],
    "cell_id": "00110-8243761b-c582-4e3c-85e8-007922d77cff",
    "deepnote_cell_type": "code"
   },
   "source": "y_predictions_internal_test = list()\ny_predictions_blind_test = list()\nepochs_best_models = list()\n\n#fit every model\nfor model in best_models:\n    model.fit(X,y)\n    epochs_best_models.append(model.n_iter_)\n\n\n#predictions on every model is averaged\nfor model in best_models:\n    y_pred = model.predict(X_internal_test)\n    y_predictions_internal_test.append(y_pred)\n    y_pred = model.predict(blind_ts)\n    y_predictions_blind_test.append(y_pred)\n",
   "outputs": [],
   "execution_count": 38
  },
  {
   "cell_type": "code",
   "metadata": {
    "tags": [],
    "deepnote_to_be_reexecuted": false,
    "source_hash": "5acf98ef",
    "execution_start": 1642767347358,
    "execution_millis": 3,
    "deepnote_output_heights": [
     611
    ],
    "cell_id": "00111-f401b9aa-88eb-48c8-b5ab-42c28c7538c3",
    "deepnote_cell_type": "code"
   },
   "source": "y_pred_voting_ens_internal_test = np.average(y_predictions_internal_test, axis=0)\ny_pred_voting_ens_blind_test = np.average(y_predictions_blind_test, axis=0)\n\nprint(f\"MEE: {mee(y_internal_test, y_pred_voting_ens_internal_test)}\")",
   "outputs": [
    {
     "name": "stdout",
     "text": "MEE: 1.0715401961400552\n",
     "output_type": "stream"
    }
   ],
   "execution_count": 39
  },
  {
   "cell_type": "markdown",
   "source": "### Predicted points on internal test set using ensemble",
   "metadata": {
    "tags": [],
    "cell_id": "00116-844ceccd-dd4c-4ec9-84a8-60ab47b30ff2",
    "deepnote_cell_type": "markdown"
   }
  },
  {
   "cell_type": "markdown",
   "source": "#### BAGGING ENSEMBLE",
   "metadata": {
    "tags": [],
    "cell_id": "00117-2f6047db-bbbd-442e-9335-d2ed87b248f1",
    "deepnote_cell_type": "markdown"
   }
  },
  {
   "cell_type": "code",
   "metadata": {
    "deepnote_output_heights": [
     264
    ],
    "deepnote_to_be_reexecuted": false,
    "execution_millis": 573,
    "execution_start": 1642767347360,
    "source_hash": "4af1efcf",
    "tags": [],
    "output_cleared": false,
    "cell_id": "00118-a438f85a-1ce4-46d0-b705-7faa94ac5cbf",
    "deepnote_cell_type": "code"
   },
   "source": "#BAGGING ENSEMBLE\nplot_coordinates(bagging_ens, X_internal_test, y_internal_test)",
   "outputs": [
    {
     "data": {
      "text/plain": "<Figure size 432x288 with 1 Axes>",
      "image/png": "[encoded data removed]"
     },
     "metadata": {
      "needs_background": "light",
      "image/png": {
       "width": 391,
       "height": 262
      }
     },
     "output_type": "display_data"
    }
   ],
   "execution_count": 40
  },
  {
   "cell_type": "markdown",
   "source": "#### VOTING COMMITEE OF 10 BEST MODELS",
   "metadata": {
    "tags": [],
    "cell_id": "00119-55122427-e865-4457-b5a3-fa342dcb687d",
    "deepnote_cell_type": "markdown"
   }
  },
  {
   "cell_type": "code",
   "metadata": {
    "tags": [],
    "deepnote_to_be_reexecuted": false,
    "source_hash": "b09ac1d",
    "execution_start": 1642767347794,
    "execution_millis": 173,
    "deepnote_output_heights": [
     264
    ],
    "cell_id": "00120-c4ffe4f7-df28-4e04-b80f-470fbb70e792",
    "deepnote_cell_type": "code"
   },
   "source": "y_predicted = pd.DataFrame(data=y_pred_voting_ens_internal_test, columns=[\"x\", \"y\"])\ntrue_y = pd.DataFrame(data=y_internal_test, columns=[\"x\", \"y\"])\nplt.scatter(true_y['x'], true_y['y'], c='r', marker='*')\nplt.xlabel(\"x\")\nplt.ylabel(\"y\")\nplt.scatter(y_predicted['x'], y_predicted['y'], c='#1f77b4');",
   "outputs": [
    {
     "data": {
      "text/plain": "<Figure size 432x288 with 1 Axes>",
      "image/png": "[encoded data removed]"
     },
     "metadata": {
      "needs_background": "light",
      "image/png": {
       "width": 391,
       "height": 262
      }
     },
     "output_type": "display_data"
    }
   ],
   "execution_count": 41
  },
  {
   "cell_type": "markdown",
   "source": "### Predicted points on blind test set using Ensemble",
   "metadata": {
    "tags": [],
    "cell_id": "00121-9a3cb117-d2a2-4e98-9bd3-dfd155f7e394",
    "deepnote_cell_type": "markdown"
   }
  },
  {
   "cell_type": "markdown",
   "source": "#### BAGGING ENSEMBLE",
   "metadata": {
    "tags": [],
    "cell_id": "00122-d118a9f3-834e-4a18-8336-40aa86da928f",
    "deepnote_cell_type": "markdown"
   }
  },
  {
   "cell_type": "code",
   "metadata": {
    "deepnote_output_heights": [
     264
    ],
    "deepnote_to_be_reexecuted": false,
    "execution_millis": 322,
    "execution_start": 1642767347965,
    "source_hash": "6ccc2280",
    "tags": [],
    "output_cleared": false,
    "cell_id": "00123-8038251e-7545-46a6-bc44-a9ea58ee09c4",
    "deepnote_cell_type": "code"
   },
   "source": "#BAGGING ENSEMBLE\nplot_coordinates(bagging_ens, blind_ts)",
   "outputs": [
    {
     "data": {
      "text/plain": "<Figure size 432x288 with 1 Axes>",
      "image/png": "[encoded data removed]"
     },
     "metadata": {
      "needs_background": "light",
      "image/png": {
       "width": 391,
       "height": 262
      }
     },
     "output_type": "display_data"
    }
   ],
   "execution_count": 42
  },
  {
   "cell_type": "markdown",
   "source": "#### VOTING COMMITEE OF 10 BEST MODELS",
   "metadata": {
    "tags": [],
    "cell_id": "00124-23b11313-930c-4995-851f-e4f78120c001",
    "deepnote_cell_type": "markdown"
   }
  },
  {
   "cell_type": "code",
   "metadata": {
    "tags": [],
    "deepnote_to_be_reexecuted": false,
    "source_hash": "15d71ae0",
    "execution_start": 1642767348308,
    "execution_millis": 136,
    "deepnote_output_heights": [
     264
    ],
    "cell_id": "00125-cdd44630-3ca6-4349-bad4-72c4daba762b",
    "deepnote_cell_type": "code"
   },
   "source": "y_predicted = pd.DataFrame(data=y_pred_voting_ens_blind_test, columns=[\"x\", \"y\"])\nplt.xlabel(\"x\")\nplt.ylabel(\"y\")\nplt.scatter(y_predicted['x'], y_predicted['y'], c='#1f77b4');",
   "outputs": [
    {
     "data": {
      "text/plain": "<Figure size 432x288 with 1 Axes>",
      "image/png": "[encoded data removed]"
     },
     "metadata": {
      "needs_background": "light",
      "image/png": {
       "width": 391,
       "height": 262
      }
     },
     "output_type": "display_data"
    }
   ],
   "execution_count": 43
  },
  {
   "cell_type": "markdown",
   "source": "<a style='text-decoration:none;line-height:16px;display:flex;color:#5B5B62;padding:10px;justify-content:end;' href='https://deepnote.com?utm_source=created-in-deepnote-cell&projectId=d9d840c9-75b3-4185-bb01-105f5cca8d83' target=\"_blank\">\n<img alt='Created in deepnote.com' style='display:inline;max-height:16px;margin:0px;margin-right:7.5px;' src='data:image/svg+xml;base64,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' > </img>\nCreated in <span style='font-weight:600;margin-left:4px;'>Deepnote</span></a>",
   "metadata": {
    "tags": [],
    "created_in_deepnote_cell": true,
    "deepnote_cell_type": "markdown"
   }
  }
 ],
 "nbformat": 4,
 "nbformat_minor": 5,
 "metadata": {
  "deepnote": {},
  "deepnote_execution_queue": [],
  "deepnote_notebook_id": "cbfbc94c-7136-497d-a6ba-3db2f7221311",
  "kernelspec": {
   "display_name": "Python 3",
   "language": "python",
   "name": "python3"
  },
  "language_info": {
   "codemirror_mode": {
    "name": "ipython",
    "version": 3
   },
   "file_extension": ".py",
   "mimetype": "text/x-python",
   "name": "python",
   "nbconvert_exporter": "python",
   "pygments_lexer": "ipython3",
   "version": "3.9.7"
  }
 }
}