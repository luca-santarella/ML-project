{
 "cells": [
  {
   "cell_type": "code",
   "metadata": {
    "id": "Mdfk5onZoz6z",
    "cell_id": "86161581-1c1f-4d5d-9bbc-36cd7231b544",
    "deepnote_cell_type": "code"
   },
   "source": "!pip install -q -U keras-tuner",
   "outputs": [],
   "execution_count": null
  },
  {
   "cell_type": "code",
   "metadata": {
    "id": "q9Ri5Y0MoaKX",
    "cell_id": "00001-2a5e976b-06ab-476f-bfdb-267b76ef5746",
    "deepnote_cell_type": "code"
   },
   "source": "import pandas as pd\nimport numpy as np\nimport matplotlib.pyplot as plt\nimport tensorflow as tf\nimport keras_tuner as kt\nfrom tensorflow.keras.models import Sequential\nfrom tensorflow.keras import layers, activations\nfrom tensorflow.keras import initializers\nfrom tensorflow.keras import regularizers\nfrom tensorflow.keras import backend as K\nfrom tensorflow.keras import optimizers\nfrom tensorflow.keras import utils\nfrom tensorflow.keras import callbacks\n\nfrom sklearn.preprocessing import OneHotEncoder\nfrom sklearn import model_selection ",
   "outputs": [],
   "execution_count": null
  },
  {
   "cell_type": "markdown",
   "source": "# ML-CUP ",
   "metadata": {
    "id": "bdqHe9UZoaKb",
    "cell_id": "00002-5fedbc4b-198b-4b28-962a-f0a98dfbda5a",
    "deepnote_cell_type": "markdown"
   }
  },
  {
   "cell_type": "code",
   "metadata": {
    "id": "Wd3xcwpdoaKc",
    "cell_id": "00003-d9d46435-78a7-41ee-b354-97121ca33da4",
    "deepnote_cell_type": "code"
   },
   "source": "#define mee loss function \ndef mee(true_target, predicted_target):  # assuming target is 2-dim matrix with x and y as columns\n    l = true_target.shape[0]\n    res = 0\n\n    for p in range(l):  # for p-th pattern in l (number of samples)\n        x_diff = np.square(true_target[p, 0] - predicted_target[p, 0])  # difference between the x value of the true and predicted target\n        y_diff = np.square(\n            true_target[p, 1] - predicted_target[p, 1])  # difference between the y values of true and predicted target\n        sum_term = x_diff + y_diff\n        res = res + np.sqrt(sum_term)\n    res = res / l\n\n    return res",
   "outputs": [],
   "execution_count": null
  },
  {
   "cell_type": "code",
   "metadata": {
    "id": "izS-RTQl1dZK",
    "cell_id": "00004-855b716d-a00d-4554-8542-4e29e1b47a97",
    "deepnote_cell_type": "code"
   },
   "source": "def plot_learning_curves(train_scores, test_scores, epochs, y_label, ax, i):\n    ax.set_title(f\"Model {i+1}\")\n    ax.set_ylabel(y_label)\n    ax.set_xlabel('Epoch');\n    ax.plot(range(0,epochs), train_scores, label = \"Training error\", linestyle='dashed')\n    ax.plot(range(0,epochs), test_scores, label = \"Test error\")\n    ax.legend()\n\n    return ax",
   "outputs": [],
   "execution_count": null
  },
  {
   "cell_type": "code",
   "metadata": {
    "colab": {
     "base_uri": "https://localhost:8080/",
     "height": 206
    },
    "id": "-BubddIhUSG_",
    "outputId": "e51d1cf7-3533-49cd-845f-e9c3f29fb636",
    "cell_id": "00005-4fd228d8-4bff-4731-b8b5-9f227c663104",
    "deepnote_output_heights": [
     177
    ],
    "deepnote_cell_type": "code"
   },
   "source": "#load blind test set\ndf_blind_ts = pd.read_csv('ML-CUP21-TS.csv', names=['idx','f1','f2','f3','f4','f5','f6','f7','f8','f9','f10'])\ndf_blind_ts = df_blind_ts[7:]\ndf_blind_ts.drop(labels=\"idx\", axis=1, inplace=True)\ndf_blind_ts.head()",
   "outputs": [
    {
     "output_type": "execute_result",
     "data": {
      "text/html": "\n  <div id=\"df-e7ad33dc-e8a9-450f-8616-7217cf7c8b6c\">\n    <div class=\"colab-df-container\">\n      <div>\n<style scoped>\n    .dataframe tbody tr th:only-of-type {\n        vertical-align: middle;\n    }\n\n    .dataframe tbody tr th {\n        vertical-align: top;\n    }\n\n    .dataframe thead th {\n        text-align: right;\n    }\n</style>\n<table border=\"1\" class=\"dataframe\">\n  <thead>\n    <tr style=\"text-align: right;\">\n      <th></th>\n      <th>f1</th>\n      <th>f2</th>\n      <th>f3</th>\n      <th>f4</th>\n      <th>f5</th>\n      <th>f6</th>\n      <th>f7</th>\n      <th>f8</th>\n      <th>f9</th>\n      <th>f10</th>\n    </tr>\n  </thead>\n  <tbody>\n    <tr>\n      <th>7</th>\n      <td>1.577819</td>\n      <td>0.597727</td>\n      <td>-0.026380</td>\n      <td>-0.005808</td>\n      <td>0.475764</td>\n      <td>0.056203</td>\n      <td>0.159570</td>\n      <td>-0.413268</td>\n      <td>0.653287</td>\n      <td>1.612816</td>\n    </tr>\n    <tr>\n      <th>8</th>\n      <td>0.737984</td>\n      <td>-0.704763</td>\n      <td>-0.868602</td>\n      <td>1.154612</td>\n      <td>-0.487413</td>\n      <td>-0.312284</td>\n      <td>0.868577</td>\n      <td>1.045744</td>\n      <td>1.032865</td>\n      <td>0.051719</td>\n    </tr>\n    <tr>\n      <th>9</th>\n      <td>1.567391</td>\n      <td>0.362776</td>\n      <td>0.606780</td>\n      <td>0.403633</td>\n      <td>0.678777</td>\n      <td>0.158574</td>\n      <td>0.391751</td>\n      <td>0.264881</td>\n      <td>0.952260</td>\n      <td>1.261377</td>\n    </tr>\n    <tr>\n      <th>10</th>\n      <td>0.455167</td>\n      <td>0.480958</td>\n      <td>1.108296</td>\n      <td>-0.227147</td>\n      <td>0.360324</td>\n      <td>0.943303</td>\n      <td>-0.274003</td>\n      <td>-0.914491</td>\n      <td>-0.709475</td>\n      <td>1.605887</td>\n    </tr>\n    <tr>\n      <th>11</th>\n      <td>0.078614</td>\n      <td>0.080993</td>\n      <td>0.878460</td>\n      <td>0.266493</td>\n      <td>-0.132942</td>\n      <td>0.777209</td>\n      <td>0.398668</td>\n      <td>-0.655300</td>\n      <td>0.573389</td>\n      <td>0.433837</td>\n    </tr>\n  </tbody>\n</table>\n</div>\n      <button class=\"colab-df-convert\" onclick=\"convertToInteractive('df-e7ad33dc-e8a9-450f-8616-7217cf7c8b6c')\"\n              title=\"Convert this dataframe to an interactive table.\"\n              style=\"display:none;\">\n        \n  <svg xmlns=\"http://www.w3.org/2000/svg\" height=\"24px\"viewBox=\"0 0 24 24\"\n       width=\"24px\">\n    <path d=\"M0 0h24v24H0V0z\" fill=\"none\"/>\n    <path d=\"M18.56 5.44l.94 2.06.94-2.06 2.06-.94-2.06-.94-.94-2.06-.94 2.06-2.06.94zm-11 1L8.5 8.5l.94-2.06 2.06-.94-2.06-.94L8.5 2.5l-.94 2.06-2.06.94zm10 10l.94 2.06.94-2.06 2.06-.94-2.06-.94-.94-2.06-.94 2.06-2.06.94z\"/><path d=\"M17.41 7.96l-1.37-1.37c-.4-.4-.92-.59-1.43-.59-.52 0-1.04.2-1.43.59L10.3 9.45l-7.72 7.72c-.78.78-.78 2.05 0 2.83L4 21.41c.39.39.9.59 1.41.59.51 0 1.02-.2 1.41-.59l7.78-7.78 2.81-2.81c.8-.78.8-2.07 0-2.86zM5.41 20L4 18.59l7.72-7.72 1.47 1.35L5.41 20z\"/>\n  </svg>\n      </button>\n      \n  <style>\n    .colab-df-container {\n      display:flex;\n      flex-wrap:wrap;\n      gap: 12px;\n    }\n\n    .colab-df-convert {\n      background-color: #E8F0FE;\n      border: none;\n      border-radius: 50%;\n      cursor: pointer;\n      display: none;\n      fill: #1967D2;\n      height: 32px;\n      padding: 0 0 0 0;\n      width: 32px;\n    }\n\n    .colab-df-convert:hover {\n      background-color: #E2EBFA;\n      box-shadow: 0px 1px 2px rgba(60, 64, 67, 0.3), 0px 1px 3px 1px rgba(60, 64, 67, 0.15);\n      fill: #174EA6;\n    }\n\n    [theme=dark] .colab-df-convert {\n      background-color: #3B4455;\n      fill: #D2E3FC;\n    }\n\n    [theme=dark] .colab-df-convert:hover {\n      background-color: #434B5C;\n      box-shadow: 0px 1px 3px 1px rgba(0, 0, 0, 0.15);\n      filter: drop-shadow(0px 1px 2px rgba(0, 0, 0, 0.3));\n      fill: #FFFFFF;\n    }\n  </style>\n\n      <script>\n        const buttonEl =\n          document.querySelector('#df-e7ad33dc-e8a9-450f-8616-7217cf7c8b6c button.colab-df-convert');\n        buttonEl.style.display =\n          google.colab.kernel.accessAllowed ? 'block' : 'none';\n\n        async function convertToInteractive(key) {\n          const element = document.querySelector('#df-e7ad33dc-e8a9-450f-8616-7217cf7c8b6c');\n          const dataTable =\n            await google.colab.kernel.invokeFunction('convertToInteractive',\n                                                     [key], {});\n          if (!dataTable) return;\n\n          const docLinkHtml = 'Like what you see? Visit the ' +\n            '<a target=\"_blank\" href=https://colab.research.google.com/notebooks/data_table.ipynb>data table notebook</a>'\n            + ' to learn more about interactive tables.';\n          element.innerHTML = '';\n          dataTable['output_type'] = 'display_data';\n          await google.colab.output.renderOutput(dataTable, element);\n          const docLink = document.createElement('div');\n          docLink.innerHTML = docLinkHtml;\n          element.appendChild(docLink);\n        }\n      </script>\n    </div>\n  </div>\n  ",
      "text/plain": "          f1        f2        f3  ...        f8        f9       f10\n7   1.577819  0.597727 -0.026380  ... -0.413268  0.653287  1.612816\n8   0.737984 -0.704763 -0.868602  ...  1.045744  1.032865  0.051719\n9   1.567391  0.362776  0.606780  ...  0.264881  0.952260  1.261377\n10  0.455167  0.480958  1.108296  ... -0.914491 -0.709475  1.605887\n11  0.078614  0.080993  0.878460  ... -0.655300  0.573389  0.433837\n\n[5 rows x 10 columns]"
     },
     "metadata": {},
     "execution_count": 37
    }
   ],
   "execution_count": null
  },
  {
   "cell_type": "code",
   "metadata": {
    "id": "-M-WHu0dUm9t",
    "cell_id": "00006-43c4b38f-e24e-4728-a641-eaecd3caf983",
    "deepnote_cell_type": "code"
   },
   "source": "X_blind = df_blind_ts.iloc[:, 0:11].values",
   "outputs": [],
   "execution_count": null
  },
  {
   "cell_type": "code",
   "metadata": {
    "colab": {
     "base_uri": "https://localhost:8080/",
     "height": 206
    },
    "id": "EsTMS1S3oaKd",
    "outputId": "981c849c-a11f-44dd-a81d-4ee9aa3cf576",
    "cell_id": "00007-1d1cfbd4-dc88-4475-a42f-63ff6501d818",
    "deepnote_output_heights": [
     1
    ],
    "deepnote_cell_type": "code"
   },
   "source": "#load training dataset\ncolnames = ['id', 'a1', 'a2', 'a3', 'a4', 'a5', 'a6', 'a7', 'a8', 'a9', 'a10', 'y1', 'y2']\ndf_ml_cup_train = pd.read_csv(\"ML-CUP21-TR.csv\", sep = \",\", skipinitialspace=True, names = colnames)\ndf_ml_cup_train.drop(df_ml_cup_train.index[0:7], axis=0, inplace=True)\ndf_ml_cup_train.head()",
   "outputs": [
    {
     "output_type": "execute_result",
     "data": {
      "text/html": "\n  <div id=\"df-007c72a1-36a3-4939-bb30-eb46f875e2a5\">\n    <div class=\"colab-df-container\">\n      <div>\n<style scoped>\n    .dataframe tbody tr th:only-of-type {\n        vertical-align: middle;\n    }\n\n    .dataframe tbody tr th {\n        vertical-align: top;\n    }\n\n    .dataframe thead th {\n        text-align: right;\n    }\n</style>\n<table border=\"1\" class=\"dataframe\">\n  <thead>\n    <tr style=\"text-align: right;\">\n      <th></th>\n      <th>id</th>\n      <th>a1</th>\n      <th>a2</th>\n      <th>a3</th>\n      <th>a4</th>\n      <th>a5</th>\n      <th>a6</th>\n      <th>a7</th>\n      <th>a8</th>\n      <th>a9</th>\n      <th>a10</th>\n      <th>y1</th>\n      <th>y2</th>\n    </tr>\n  </thead>\n  <tbody>\n    <tr>\n      <th>7</th>\n      <td>1</td>\n      <td>0.248433</td>\n      <td>-1.801874</td>\n      <td>-1.116485</td>\n      <td>1.255230</td>\n      <td>-1.021899</td>\n      <td>-1.425146</td>\n      <td>1.029583</td>\n      <td>1.261154</td>\n      <td>-0.185208</td>\n      <td>-0.618970</td>\n      <td>7.187592</td>\n      <td>-8.768943</td>\n    </tr>\n    <tr>\n      <th>8</th>\n      <td>2</td>\n      <td>0.612246</td>\n      <td>0.369337</td>\n      <td>1.119434</td>\n      <td>-0.689106</td>\n      <td>0.451776</td>\n      <td>1.308115</td>\n      <td>-0.518925</td>\n      <td>0.129025</td>\n      <td>-0.558788</td>\n      <td>1.588863</td>\n      <td>0.170888</td>\n      <td>-25.895562</td>\n    </tr>\n    <tr>\n      <th>9</th>\n      <td>3</td>\n      <td>-0.974871</td>\n      <td>0.275613</td>\n      <td>1.106435</td>\n      <td>-0.867804</td>\n      <td>0.230839</td>\n      <td>1.870421</td>\n      <td>-0.794584</td>\n      <td>-1.712529</td>\n      <td>-0.935208</td>\n      <td>0.109706</td>\n      <td>4.167006</td>\n      <td>-29.062891</td>\n    </tr>\n    <tr>\n      <th>10</th>\n      <td>4</td>\n      <td>-1.493339</td>\n      <td>1.992164</td>\n      <td>0.609691</td>\n      <td>-1.001476</td>\n      <td>1.268201</td>\n      <td>0.516364</td>\n      <td>-0.984814</td>\n      <td>-1.169440</td>\n      <td>-0.765422</td>\n      <td>-0.487069</td>\n      <td>7.259387</td>\n      <td>-31.529549</td>\n    </tr>\n    <tr>\n      <th>11</th>\n      <td>5</td>\n      <td>-0.432028</td>\n      <td>1.592409</td>\n      <td>0.853561</td>\n      <td>-1.365528</td>\n      <td>1.310392</td>\n      <td>0.954528</td>\n      <td>-0.946305</td>\n      <td>-1.269243</td>\n      <td>-2.031158</td>\n      <td>-0.227847</td>\n      <td>5.941430</td>\n      <td>-30.540759</td>\n    </tr>\n  </tbody>\n</table>\n</div>\n      <button class=\"colab-df-convert\" onclick=\"convertToInteractive('df-007c72a1-36a3-4939-bb30-eb46f875e2a5')\"\n              title=\"Convert this dataframe to an interactive table.\"\n              style=\"display:none;\">\n        \n  <svg xmlns=\"http://www.w3.org/2000/svg\" height=\"24px\"viewBox=\"0 0 24 24\"\n       width=\"24px\">\n    <path d=\"M0 0h24v24H0V0z\" fill=\"none\"/>\n    <path d=\"M18.56 5.44l.94 2.06.94-2.06 2.06-.94-2.06-.94-.94-2.06-.94 2.06-2.06.94zm-11 1L8.5 8.5l.94-2.06 2.06-.94-2.06-.94L8.5 2.5l-.94 2.06-2.06.94zm10 10l.94 2.06.94-2.06 2.06-.94-2.06-.94-.94-2.06-.94 2.06-2.06.94z\"/><path d=\"M17.41 7.96l-1.37-1.37c-.4-.4-.92-.59-1.43-.59-.52 0-1.04.2-1.43.59L10.3 9.45l-7.72 7.72c-.78.78-.78 2.05 0 2.83L4 21.41c.39.39.9.59 1.41.59.51 0 1.02-.2 1.41-.59l7.78-7.78 2.81-2.81c.8-.78.8-2.07 0-2.86zM5.41 20L4 18.59l7.72-7.72 1.47 1.35L5.41 20z\"/>\n  </svg>\n      </button>\n      \n  <style>\n    .colab-df-container {\n      display:flex;\n      flex-wrap:wrap;\n      gap: 12px;\n    }\n\n    .colab-df-convert {\n      background-color: #E8F0FE;\n      border: none;\n      border-radius: 50%;\n      cursor: pointer;\n      display: none;\n      fill: #1967D2;\n      height: 32px;\n      padding: 0 0 0 0;\n      width: 32px;\n    }\n\n    .colab-df-convert:hover {\n      background-color: #E2EBFA;\n      box-shadow: 0px 1px 2px rgba(60, 64, 67, 0.3), 0px 1px 3px 1px rgba(60, 64, 67, 0.15);\n      fill: #174EA6;\n    }\n\n    [theme=dark] .colab-df-convert {\n      background-color: #3B4455;\n      fill: #D2E3FC;\n    }\n\n    [theme=dark] .colab-df-convert:hover {\n      background-color: #434B5C;\n      box-shadow: 0px 1px 3px 1px rgba(0, 0, 0, 0.15);\n      filter: drop-shadow(0px 1px 2px rgba(0, 0, 0, 0.3));\n      fill: #FFFFFF;\n    }\n  </style>\n\n      <script>\n        const buttonEl =\n          document.querySelector('#df-007c72a1-36a3-4939-bb30-eb46f875e2a5 button.colab-df-convert');\n        buttonEl.style.display =\n          google.colab.kernel.accessAllowed ? 'block' : 'none';\n\n        async function convertToInteractive(key) {\n          const element = document.querySelector('#df-007c72a1-36a3-4939-bb30-eb46f875e2a5');\n          const dataTable =\n            await google.colab.kernel.invokeFunction('convertToInteractive',\n                                                     [key], {});\n          if (!dataTable) return;\n\n          const docLinkHtml = 'Like what you see? Visit the ' +\n            '<a target=\"_blank\" href=https://colab.research.google.com/notebooks/data_table.ipynb>data table notebook</a>'\n            + ' to learn more about interactive tables.';\n          element.innerHTML = '';\n          dataTable['output_type'] = 'display_data';\n          await google.colab.output.renderOutput(dataTable, element);\n          const docLink = document.createElement('div');\n          docLink.innerHTML = docLinkHtml;\n          element.appendChild(docLink);\n        }\n      </script>\n    </div>\n  </div>\n  ",
      "text/plain": "   id        a1        a2        a3  ...        a9       a10        y1         y2\n7   1  0.248433 -1.801874 -1.116485  ... -0.185208 -0.618970  7.187592  -8.768943\n8   2  0.612246  0.369337  1.119434  ... -0.558788  1.588863  0.170888 -25.895562\n9   3 -0.974871  0.275613  1.106435  ... -0.935208  0.109706  4.167006 -29.062891\n10  4 -1.493339  1.992164  0.609691  ... -0.765422 -0.487069  7.259387 -31.529549\n11  5 -0.432028  1.592409  0.853561  ... -2.031158 -0.227847  5.941430 -30.540759\n\n[5 rows x 13 columns]"
     },
     "metadata": {},
     "execution_count": 39
    }
   ],
   "execution_count": null
  },
  {
   "cell_type": "code",
   "metadata": {
    "colab": {
     "base_uri": "https://localhost:8080/"
    },
    "id": "EUKbFUvloaKf",
    "outputId": "168386ec-0497-480b-ead8-3fc900d689f8",
    "cell_id": "00008-ee0b3edb-8155-4c20-aef3-a6c08ff8bc15",
    "deepnote_output_heights": [
     1
    ],
    "deepnote_cell_type": "code"
   },
   "source": "#check for mull values \npd.isnull(df_ml_cup_train).sum()",
   "outputs": [
    {
     "output_type": "execute_result",
     "data": {
      "text/plain": "id     0\na1     0\na2     0\na3     0\na4     0\na5     0\na6     0\na7     0\na8     0\na9     0\na10    0\ny1     0\ny2     0\ndtype: int64"
     },
     "metadata": {},
     "execution_count": 40
    }
   ],
   "execution_count": null
  },
  {
   "cell_type": "code",
   "metadata": {
    "colab": {
     "base_uri": "https://localhost:8080/",
     "height": 439
    },
    "id": "omSYacVyoaKf",
    "outputId": "9f83b1d0-9a44-44af-9461-6cf0096e840b",
    "cell_id": "00009-f9a8f54b-5f7b-4f60-95ee-42d452526e44",
    "deepnote_output_heights": [
     1
    ],
    "deepnote_cell_type": "code"
   },
   "source": "df_ml_cup_train.describe(include='all')",
   "outputs": [
    {
     "output_type": "execute_result",
     "data": {
      "text/html": "\n  <div id=\"df-f5c25ba8-c5fd-4528-b193-62a3537bc945\">\n    <div class=\"colab-df-container\">\n      <div>\n<style scoped>\n    .dataframe tbody tr th:only-of-type {\n        vertical-align: middle;\n    }\n\n    .dataframe tbody tr th {\n        vertical-align: top;\n    }\n\n    .dataframe thead th {\n        text-align: right;\n    }\n</style>\n<table border=\"1\" class=\"dataframe\">\n  <thead>\n    <tr style=\"text-align: right;\">\n      <th></th>\n      <th>id</th>\n      <th>a1</th>\n      <th>a2</th>\n      <th>a3</th>\n      <th>a4</th>\n      <th>a5</th>\n      <th>a6</th>\n      <th>a7</th>\n      <th>a8</th>\n      <th>a9</th>\n      <th>a10</th>\n      <th>y1</th>\n      <th>y2</th>\n    </tr>\n  </thead>\n  <tbody>\n    <tr>\n      <th>count</th>\n      <td>1477</td>\n      <td>1477.000000</td>\n      <td>1477.000000</td>\n      <td>1477.000000</td>\n      <td>1477.000000</td>\n      <td>1477.000000</td>\n      <td>1477.000000</td>\n      <td>1477.000000</td>\n      <td>1477.000000</td>\n      <td>1477.000000</td>\n      <td>1477.000000</td>\n      <td>1477.000000</td>\n      <td>1477.000000</td>\n    </tr>\n    <tr>\n      <th>unique</th>\n      <td>1477</td>\n      <td>NaN</td>\n      <td>NaN</td>\n      <td>NaN</td>\n      <td>NaN</td>\n      <td>NaN</td>\n      <td>NaN</td>\n      <td>NaN</td>\n      <td>NaN</td>\n      <td>NaN</td>\n      <td>NaN</td>\n      <td>NaN</td>\n      <td>NaN</td>\n    </tr>\n    <tr>\n      <th>top</th>\n      <td>1225</td>\n      <td>NaN</td>\n      <td>NaN</td>\n      <td>NaN</td>\n      <td>NaN</td>\n      <td>NaN</td>\n      <td>NaN</td>\n      <td>NaN</td>\n      <td>NaN</td>\n      <td>NaN</td>\n      <td>NaN</td>\n      <td>NaN</td>\n      <td>NaN</td>\n    </tr>\n    <tr>\n      <th>freq</th>\n      <td>1</td>\n      <td>NaN</td>\n      <td>NaN</td>\n      <td>NaN</td>\n      <td>NaN</td>\n      <td>NaN</td>\n      <td>NaN</td>\n      <td>NaN</td>\n      <td>NaN</td>\n      <td>NaN</td>\n      <td>NaN</td>\n      <td>NaN</td>\n      <td>NaN</td>\n    </tr>\n    <tr>\n      <th>mean</th>\n      <td>NaN</td>\n      <td>0.255579</td>\n      <td>0.002654</td>\n      <td>0.133184</td>\n      <td>0.034346</td>\n      <td>-0.073823</td>\n      <td>0.130990</td>\n      <td>0.030048</td>\n      <td>0.099646</td>\n      <td>0.130991</td>\n      <td>0.210294</td>\n      <td>2.795525</td>\n      <td>-20.028458</td>\n    </tr>\n    <tr>\n      <th>std</th>\n      <td>NaN</td>\n      <td>0.956072</td>\n      <td>0.939628</td>\n      <td>1.052660</td>\n      <td>0.986982</td>\n      <td>0.830759</td>\n      <td>1.030170</td>\n      <td>0.969467</td>\n      <td>0.984523</td>\n      <td>0.999224</td>\n      <td>0.997632</td>\n      <td>2.985242</td>\n      <td>7.339448</td>\n    </tr>\n    <tr>\n      <th>min</th>\n      <td>NaN</td>\n      <td>-2.526427</td>\n      <td>-1.918939</td>\n      <td>-2.420890</td>\n      <td>-1.946351</td>\n      <td>-1.897417</td>\n      <td>-2.040401</td>\n      <td>-1.919660</td>\n      <td>-2.095531</td>\n      <td>-2.242666</td>\n      <td>-2.847029</td>\n      <td>-2.100573</td>\n      <td>-31.773589</td>\n    </tr>\n    <tr>\n      <th>25%</th>\n      <td>NaN</td>\n      <td>-0.402794</td>\n      <td>-0.861932</td>\n      <td>-0.766079</td>\n      <td>-0.908341</td>\n      <td>-0.802577</td>\n      <td>-0.823261</td>\n      <td>-0.916722</td>\n      <td>-0.804613</td>\n      <td>-0.804494</td>\n      <td>-0.490529</td>\n      <td>0.041258</td>\n      <td>-26.885766</td>\n    </tr>\n    <tr>\n      <th>50%</th>\n      <td>NaN</td>\n      <td>0.198597</td>\n      <td>0.058046</td>\n      <td>0.193591</td>\n      <td>0.140195</td>\n      <td>-0.022032</td>\n      <td>0.195010</td>\n      <td>0.130275</td>\n      <td>0.282215</td>\n      <td>0.326109</td>\n      <td>0.003434</td>\n      <td>2.739887</td>\n      <td>-19.944627</td>\n    </tr>\n    <tr>\n      <th>75%</th>\n      <td>NaN</td>\n      <td>0.880185</td>\n      <td>0.755629</td>\n      <td>1.064669</td>\n      <td>0.878915</td>\n      <td>0.605930</td>\n      <td>1.035666</td>\n      <td>0.855680</td>\n      <td>0.924605</td>\n      <td>0.891953</td>\n      <td>1.046291</td>\n      <td>5.415537</td>\n      <td>-13.588640</td>\n    </tr>\n    <tr>\n      <th>max</th>\n      <td>NaN</td>\n      <td>2.501544</td>\n      <td>2.464911</td>\n      <td>2.329639</td>\n      <td>2.327658</td>\n      <td>1.885105</td>\n      <td>2.282652</td>\n      <td>2.110213</td>\n      <td>2.048281</td>\n      <td>2.258689</td>\n      <td>2.819043</td>\n      <td>8.593776</td>\n      <td>-7.389552</td>\n    </tr>\n  </tbody>\n</table>\n</div>\n      <button class=\"colab-df-convert\" onclick=\"convertToInteractive('df-f5c25ba8-c5fd-4528-b193-62a3537bc945')\"\n              title=\"Convert this dataframe to an interactive table.\"\n              style=\"display:none;\">\n        \n  <svg xmlns=\"http://www.w3.org/2000/svg\" height=\"24px\"viewBox=\"0 0 24 24\"\n       width=\"24px\">\n    <path d=\"M0 0h24v24H0V0z\" fill=\"none\"/>\n    <path d=\"M18.56 5.44l.94 2.06.94-2.06 2.06-.94-2.06-.94-.94-2.06-.94 2.06-2.06.94zm-11 1L8.5 8.5l.94-2.06 2.06-.94-2.06-.94L8.5 2.5l-.94 2.06-2.06.94zm10 10l.94 2.06.94-2.06 2.06-.94-2.06-.94-.94-2.06-.94 2.06-2.06.94z\"/><path d=\"M17.41 7.96l-1.37-1.37c-.4-.4-.92-.59-1.43-.59-.52 0-1.04.2-1.43.59L10.3 9.45l-7.72 7.72c-.78.78-.78 2.05 0 2.83L4 21.41c.39.39.9.59 1.41.59.51 0 1.02-.2 1.41-.59l7.78-7.78 2.81-2.81c.8-.78.8-2.07 0-2.86zM5.41 20L4 18.59l7.72-7.72 1.47 1.35L5.41 20z\"/>\n  </svg>\n      </button>\n      \n  <style>\n    .colab-df-container {\n      display:flex;\n      flex-wrap:wrap;\n      gap: 12px;\n    }\n\n    .colab-df-convert {\n      background-color: #E8F0FE;\n      border: none;\n      border-radius: 50%;\n      cursor: pointer;\n      display: none;\n      fill: #1967D2;\n      height: 32px;\n      padding: 0 0 0 0;\n      width: 32px;\n    }\n\n    .colab-df-convert:hover {\n      background-color: #E2EBFA;\n      box-shadow: 0px 1px 2px rgba(60, 64, 67, 0.3), 0px 1px 3px 1px rgba(60, 64, 67, 0.15);\n      fill: #174EA6;\n    }\n\n    [theme=dark] .colab-df-convert {\n      background-color: #3B4455;\n      fill: #D2E3FC;\n    }\n\n    [theme=dark] .colab-df-convert:hover {\n      background-color: #434B5C;\n      box-shadow: 0px 1px 3px 1px rgba(0, 0, 0, 0.15);\n      filter: drop-shadow(0px 1px 2px rgba(0, 0, 0, 0.3));\n      fill: #FFFFFF;\n    }\n  </style>\n\n      <script>\n        const buttonEl =\n          document.querySelector('#df-f5c25ba8-c5fd-4528-b193-62a3537bc945 button.colab-df-convert');\n        buttonEl.style.display =\n          google.colab.kernel.accessAllowed ? 'block' : 'none';\n\n        async function convertToInteractive(key) {\n          const element = document.querySelector('#df-f5c25ba8-c5fd-4528-b193-62a3537bc945');\n          const dataTable =\n            await google.colab.kernel.invokeFunction('convertToInteractive',\n                                                     [key], {});\n          if (!dataTable) return;\n\n          const docLinkHtml = 'Like what you see? Visit the ' +\n            '<a target=\"_blank\" href=https://colab.research.google.com/notebooks/data_table.ipynb>data table notebook</a>'\n            + ' to learn more about interactive tables.';\n          element.innerHTML = '';\n          dataTable['output_type'] = 'display_data';\n          await google.colab.output.renderOutput(dataTable, element);\n          const docLink = document.createElement('div');\n          docLink.innerHTML = docLinkHtml;\n          element.appendChild(docLink);\n        }\n      </script>\n    </div>\n  </div>\n  ",
      "text/plain": "          id           a1           a2  ...          a10           y1           y2\ncount   1477  1477.000000  1477.000000  ...  1477.000000  1477.000000  1477.000000\nunique  1477          NaN          NaN  ...          NaN          NaN          NaN\ntop     1225          NaN          NaN  ...          NaN          NaN          NaN\nfreq       1          NaN          NaN  ...          NaN          NaN          NaN\nmean     NaN     0.255579     0.002654  ...     0.210294     2.795525   -20.028458\nstd      NaN     0.956072     0.939628  ...     0.997632     2.985242     7.339448\nmin      NaN    -2.526427    -1.918939  ...    -2.847029    -2.100573   -31.773589\n25%      NaN    -0.402794    -0.861932  ...    -0.490529     0.041258   -26.885766\n50%      NaN     0.198597     0.058046  ...     0.003434     2.739887   -19.944627\n75%      NaN     0.880185     0.755629  ...     1.046291     5.415537   -13.588640\nmax      NaN     2.501544     2.464911  ...     2.819043     8.593776    -7.389552\n\n[11 rows x 13 columns]"
     },
     "metadata": {},
     "execution_count": 41
    }
   ],
   "execution_count": null
  },
  {
   "cell_type": "code",
   "metadata": {
    "id": "vuhArC0EoaKh",
    "cell_id": "00010-147d1444-1f10-4b94-b32d-27e7829fca08",
    "deepnote_cell_type": "code"
   },
   "source": "X_all = df_ml_cup_train.iloc[:, 1:11].values\ny_all = df_ml_cup_train.iloc[:, 11:13].values",
   "outputs": [],
   "execution_count": null
  },
  {
   "cell_type": "code",
   "metadata": {
    "colab": {
     "base_uri": "https://localhost:8080/"
    },
    "id": "egTZ8Rf6oaKj",
    "outputId": "a8ffadfb-48ae-468b-b532-57441493faee",
    "cell_id": "00011-c79cc7cb-cc4f-455b-9392-c81086dd3f75",
    "deepnote_cell_type": "code"
   },
   "source": "#shuffle and split data \nfrom sklearn.utils import shuffle \nX_all, y_all = shuffle(X_all, y_all)\n#keep 90% of data for training\ntrain_size = int(0.9 * len(X_all))\nX_train = X_all[:train_size]\ny_train = y_all[:train_size]\nprint(X_train.shape, y_train.shape)\nX_test = X_all[train_size:]\ny_test = y_all[train_size:]",
   "outputs": [
    {
     "output_type": "stream",
     "name": "stdout",
     "text": "(1329, 10) (1329, 2)\n"
    }
   ],
   "execution_count": null
  },
  {
   "cell_type": "code",
   "metadata": {
    "id": "B6a_YHQQoaKk",
    "cell_id": "00012-3424efe1-721e-4632-8a9d-9c30be6bd7e6",
    "deepnote_cell_type": "code"
   },
   "source": "#definition of an early stopping calback and an eucledian distance metric \nes = callbacks.EarlyStopping(monitor='val_loss', mode='min', min_delta=0.005, verbose=0, patience=20\n                             )\ndef euc_dist_keras(y_true, y_pred):\n    return float(K.mean(K.sqrt(K.sum(K.square(y_true - y_pred), axis = -1, keepdims=True))))",
   "outputs": [],
   "execution_count": null
  },
  {
   "cell_type": "code",
   "metadata": {
    "id": "dqJsCDNZoaKk",
    "cell_id": "00013-67d85c80-ba94-498b-a63e-b6934f0fe4ca",
    "deepnote_cell_type": "code"
   },
   "source": "def create_model(hp):\n    model = Sequential()\n    for i in range(hp.Int('layers', 1, 3)):\n        if i == 1:\n            model.add(layers.Dense(units=hp.Int(f\"units_{i}\", 10, 100, step=5), activation=hp.Choice('activation', values=['relu', 'tanh', 'sigmoid']), input_shape=(10,), kernel_initializer='he_uniform', kernel_regularizer=regularizers.l2(hp.Float('regularizer', 0.0001, 0.1, step=0.0005))))\n            continue\n        model.add(layers.Dense(units=hp.Int(f'units_{i}', 10, 100, step=5), activation=hp.Choice('activation', values=['relu', 'tanh', 'sigmoid']), kernel_regularizer=regularizers.l2(hp.Float('regularizer', 0.0001, 0.1, step=0.0005))))\n\n    model.add(layers.Dense(2))\n    hp_batch_size = hp.Int('bs', 10, 1000, step=20)\n    hp_learning_rate  =hp.Float('learning_rate', min_value=0.00001, max_value=0.1, step=0.0005)\n    hp_momentum = hp.Choice('momentum', values=[0.0, 0.1, 0.25, 0.5, 0.75, 0.8, 0.85, 0.9,])\n\n    model.compile(optimizer=optimizers.SGD(learning_rate=hp_learning_rate, momentum=hp_momentum, decay=hp_learning_rate/100), loss=euc_dist_keras)\n    return model",
   "outputs": [],
   "execution_count": null
  },
  {
   "cell_type": "markdown",
   "source": "# Create a custom tuner that supports K-fold",
   "metadata": {
    "id": "P2j4bPf3oaKl",
    "cell_id": "00014-90c0dbd8-392e-4d8e-97c0-9d19ea30c374",
    "deepnote_cell_type": "markdown"
   }
  },
  {
   "cell_type": "code",
   "metadata": {
    "id": "PeuZtPgFoaKl",
    "cell_id": "00015-4695cd95-a9e9-4d2e-a183-8e7080b142f1",
    "deepnote_cell_type": "code"
   },
   "source": "class CVTuner(kt.engine.tuner.Tuner):\n    def run_trial(self, trial, X, y, batch_size, epochs):\n        cv = model_selection.KFold(10)\n        val_losses = []\n        for train_indices, test_indices in cv.split(X):\n            X_train, X_test = X[train_indices], X[test_indices]\n            y_train, y_test = y[train_indices], y[test_indices]\n            model = self.hypermodel.build(trial.hyperparameters)\n            bs = trial.hyperparameters['bs']\n            model.fit(X_train, y_train, batch_size=bs, epochs=epochs, verbose=0, callbacks=[es], validation_data=(X_test, y_test))\n            val_losses.append(model.evaluate(X_test, y_test, verbose=0))\n        self.oracle.update_trial(trial.trial_id, {'val_loss': np.mean(val_losses)})\n        try:\n            self.save_model(trial.trial_id, model)\n        except:\n            pass",
   "outputs": [],
   "execution_count": null
  },
  {
   "cell_type": "code",
   "metadata": {
    "id": "hB2OPoyvoaKl",
    "cell_id": "00016-d4452572-3ca2-4992-aae0-cf43a29d7111",
    "deepnote_cell_type": "code"
   },
   "source": "tuner = CVTuner(\n\n    oracle=kt.oracles.RandomSearch(\n        objective='val_loss',\n        max_trials=1000,\n    ),\n    hypermodel=create_model,\n    overwrite=True,\n    project_name='keras_results',\n)\n\ntuner.search_space_summary()",
   "outputs": [],
   "execution_count": null
  },
  {
   "cell_type": "code",
   "metadata": {
    "id": "sTS5OVcPoaKm",
    "cell_id": "00017-af2940a6-8091-4445-a23f-2b20567182ce",
    "deepnote_cell_type": "code"
   },
   "source": "tuner.search(X_train, y_train, batch_size=128, epochs=100)\n#keep the 30 best model of the fist random search to use their hyperparameters as ranges for the second one \nhyperparameters = tuner.get_best_hyperparameters(num_trials=25)",
   "outputs": [],
   "execution_count": null
  },
  {
   "cell_type": "markdown",
   "source": "# Second random search",
   "metadata": {
    "id": "Be3Dn94poaKm",
    "cell_id": "00018-202c321d-f447-460c-8186-e52fb80106f5",
    "deepnote_cell_type": "markdown"
   }
  },
  {
   "cell_type": "code",
   "metadata": {
    "id": "Qt_I-Q4GoaKn",
    "cell_id": "00019-15256bae-4efb-4843-9ef9-4f6fe4531fcf",
    "deepnote_cell_type": "code"
   },
   "source": "#get the min and max of the best hyperparameters so far\nmin_lr = 1\nmax_lr = 0\nmin_mom = 1\nmax_mom = 0\nmin_layers = 4\nmax_layers = 0\nmin_reg = 1\nmax_reg = 0\nmin_batch = 1000\nmax_batch = 0\nfor hp in hyperparameters:\n    if hp.get('regularizer') < min_reg:\n        min_reg = hp.get('regularizer')\n    if hp.get('regularizer') > max_reg:\n        max_reg = hp.get('regularizer')\n    if hp.get('learning_rate') < min_lr:\n        min_lr = hp.get('learning_rate')\n    if hp.get('learning_rate') > max_lr:\n        max_lr = hp.get('learning_rate')\n    if hp.get('momentum') < min_mom:\n        min_mom = hp.get('momentum')\n    if hp.get('momentum') > max_mom:\n        max_mom = hp.get('momentum')\n    if hp.get('layers') < min_layers:\n        min_layers = hp.get('layers')\n    if hp.get('layers') > max_layers:\n        max_layers = hp.get('layers')\n    if hp.get('bs') < min_batch:\n        min_batch = hp.get('bs')\n    if hp.get('bs') > max_batch:\n        max_batch = hp.get('bs')\nprint(\"lr:\", min_lr, max_lr)\nprint(\"momentum:\", min_mom, max_mom)\nprint(\"layers:\", min_layers, max_layers)\nprint(\"batch sieze\", min_batch, max_batch)\nprint(\"regularizer\", min_reg, max_reg)",
   "outputs": [],
   "execution_count": null
  },
  {
   "cell_type": "code",
   "metadata": {
    "id": "hGeghuWroaKn",
    "cell_id": "00020-a224c569-47dc-47fb-8661-6921fbadbe2f",
    "deepnote_cell_type": "code"
   },
   "source": "#do a second random search with the hyperparameters selected before as range\ndef create_model2(hp):\n    model = Sequential()\n    for i in range(hp.Int('layers', min_layers, max_layers)):\n        if i == 1:\n            model.add(layers.Dense(units=hp.Int(f'units_{i}', 10, 100, step=5), activation=hp.Choice('activation', values=['relu', 'tanh', 'sigmoid']), input_shape=(10,), kernel_initializer='he_uniform', kernel_regularizer=regularizers.l2(hp.Float('regularizer', min_reg, max_reg, step=0.0001))))\n            continue\n        model.add(layers.Dense(units=hp.Int(f'units_{i}', 10, 100, step=5), activation=hp.Choice('activation', values=['relu', 'tanh', 'sigmoid']), kernel_regularizer=regularizers.l2(hp.Float('regularizer', min_reg, max_reg, step=0.0001))))\n\n    model.add(layers.Dense(2))\n    hp_learning_rate  =hp.Float('learning_rate', min_value=min_lr, max_value=max_lr, step=0.001)\n    hp_momentum = hp.Float('momentum', min_value=min_mom, max_value=max_mom, step=0.02)\n    hp_batch_size = hp.Int('bs', min_batch, max_batch, step=5)\n    model.compile(optimizer=optimizers.SGD(learning_rate=hp_learning_rate, momentum=hp_momentum, decay=hp_learning_rate/100), loss=euc_dist_keras)\n    return model",
   "outputs": [],
   "execution_count": null
  },
  {
   "cell_type": "code",
   "metadata": {
    "id": "aR7P7anfoaKn",
    "cell_id": "00021-38dd395e-2744-47b5-b478-c92579c40170",
    "deepnote_cell_type": "code"
   },
   "source": "tuner2 = CVTuner(\n    oracle=kt.oracles.RandomSearch(\n        objective='val_loss',\n        max_trials=1000,\n    ),\n    hypermodel=create_model2,\n    overwrite=True,\n    project_name='keras_results2'\n)",
   "outputs": [],
   "execution_count": null
  },
  {
   "cell_type": "code",
   "metadata": {
    "id": "VYem-1ZdoaKn",
    "cell_id": "00022-a7ecb876-2a2c-4459-a204-c95e0263f3dc",
    "deepnote_cell_type": "code"
   },
   "source": "tuner2.search(X_train, y_train, batch_size=128, epochs=100)\n#keep the best 10 models to be used for ensemble\nhyperparameters = tuner2.get_best_hyperparameters(num_trials=10)",
   "outputs": [],
   "execution_count": null
  },
  {
   "cell_type": "code",
   "metadata": {
    "id": "1vKLlZ8CoaKo",
    "cell_id": "00023-fc16f8fc-95df-45a9-8761-785bb51603af",
    "deepnote_cell_type": "code"
   },
   "source": "i = 0\ny_total = []\nmee_models = []\ny_blinds = []\nfig, axes = plt.subplots(4,3, figsize=(14,16))\naxes = axes.flatten()\nfig.tight_layout()\nfor hp in hyperparameters:\n    model = create_model(hp)\n    train_loss = []\n    test_loss = []\n    history = model.fit(X_train, y_train, batch_size=hp.get('bs'), epochs=500, verbose=0, validation_split=0.1, callbacks=[es])\n    model.summary()\n    y_pred = model.predict(X_test)\n    plot_learning_curves(history.history['loss'], history.history['val_loss'], len(history.history['loss']), \"loss (MEE)\", axes[i], i)\n    i+=1\n    res = mee(y_test, y_pred)\n    print(\"mee loss model:\", res)\n    mee_models.append(res)\n    y_total.append(y_pred)\n    model.save(\"model\" + str(i))\n    y_blind = model.predict(X_blind)\n    y_blinds.append(y_blind)\n\nfig.subplots_adjust(hspace=0.3)\nfig.subplots_adjust(wspace=0.3)\nfig.delaxes(axes[10])\nfig.delaxes(axes[11])\ny_mean = []\ny_mean_blind = []\n\nfor i in  range(len(y_blinds[0])):\n    temp = 0\n    for x in y_blinds:\n        temp += x[i]\n    y_mean_blind.append(temp / len(y_blinds))\n\nfor i in  range(len(y_total[0])):\n    temp = 0\n    for x in y_total:\n        temp += x[i]\n    y_mean.append(temp / len(y_total))\n\ny_mean = np.array(y_mean)\ny_mean_blind = np.array(y_mean_blind)\nerror = mee(y_test, y_mean)",
   "outputs": [],
   "execution_count": null
  },
  {
   "cell_type": "markdown",
   "source": "# Ensemble by prediction average",
   "metadata": {
    "id": "iQx4qPVHoaKo",
    "cell_id": "00024-7868a196-a471-4fee-9f3f-d5978bd37e8d",
    "deepnote_cell_type": "markdown"
   }
  },
  {
   "cell_type": "code",
   "metadata": {
    "id": "ukxA3a5poaKo",
    "cell_id": "00025-8d799e00-b845-4063-9e20-d308cd05951c",
    "deepnote_cell_type": "code"
   },
   "source": "for i in range(len(mee_models)):\n    print(mee_models[i])\n\nprint('ensemble error: ', error)\n",
   "outputs": [],
   "execution_count": null
  },
  {
   "cell_type": "markdown",
   "source": "<a style='text-decoration:none;line-height:16px;display:flex;color:#5B5B62;padding:10px;justify-content:end;' href='https://deepnote.com?utm_source=created-in-deepnote-cell&projectId=d9d840c9-75b3-4185-bb01-105f5cca8d83' target=\"_blank\">\n<img alt='Created in deepnote.com' style='display:inline;max-height:16px;margin:0px;margin-right:7.5px;' src='data:image/svg+xml;base64,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' > </img>\nCreated in <span style='font-weight:600;margin-left:4px;'>Deepnote</span></a>",
   "metadata": {
    "id": "b4dwqesloaKo",
    "cell_id": "00026-295175bd-452d-4fe2-9a5d-ad6a8ee31f6f",
    "deepnote_cell_type": "markdown"
   }
  },
  {
   "cell_type": "markdown",
   "source": "<a style='text-decoration:none;line-height:16px;display:flex;color:#5B5B62;padding:10px;justify-content:end;' href='https://deepnote.com?utm_source=created-in-deepnote-cell&projectId=d9d840c9-75b3-4185-bb01-105f5cca8d83' target=\"_blank\">\n<img alt='Created in deepnote.com' style='display:inline;max-height:16px;margin:0px;margin-right:7.5px;' src='data:image/svg+xml;base64,PD94bWwgdmVyc2lvbj0iMS4wIiBlbmNvZGluZz0iVVRGLTgiPz4KPHN2ZyB3aWR0aD0iODBweCIgaGVpZ2h0PSI4MHB4IiB2aWV3Qm94PSIwIDAgODAgODAiIHZlcnNpb249IjEuMSIgeG1sbnM9Imh0dHA6Ly93d3cudzMub3JnLzIwMDAvc3ZnIiB4bWxuczp4bGluaz0iaHR0cDovL3d3dy53My5vcmcvMTk5OS94bGluayI+CiAgICA8IS0tIEdlbmVyYXRvcjogU2tldGNoIDU0LjEgKDc2NDkwKSAtIGh0dHBzOi8vc2tldGNoYXBwLmNvbSAtLT4KICAgIDx0aXRsZT5Hcm91cCAzPC90aXRsZT4KICAgIDxkZXNjPkNyZWF0ZWQgd2l0aCBTa2V0Y2guPC9kZXNjPgogICAgPGcgaWQ9IkxhbmRpbmciIHN0cm9rZT0ibm9uZSIgc3Ryb2tlLXdpZHRoPSIxIiBmaWxsPSJub25lIiBmaWxsLXJ1bGU9ImV2ZW5vZGQiPgogICAgICAgIDxnIGlkPSJBcnRib2FyZCIgdHJhbnNmb3JtPSJ0cmFuc2xhdGUoLTEyMzUuMDAwMDAwLCAtNzkuMDAwMDAwKSI+CiAgICAgICAgICAgIDxnIGlkPSJHcm91cC0zIiB0cmFuc2Zvcm09InRyYW5zbGF0ZSgxMjM1LjAwMDAwMCwgNzkuMDAwMDAwKSI+CiAgICAgICAgICAgICAgICA8cG9seWdvbiBpZD0iUGF0aC0yMCIgZmlsbD0iIzAyNjVCNCIgcG9pbnRzPSIyLjM3NjIzNzYyIDgwIDM4LjA0NzY2NjcgODAgNTcuODIxNzgyMiA3My44MDU3NTkyIDU3LjgyMTc4MjIgMzIuNzU5MjczOSAzOS4xNDAyMjc4IDMxLjY4MzE2ODMiPjwvcG9seWdvbj4KICAgICAgICAgICAgICAgIDxwYXRoIGQ9Ik0zNS4wMDc3MTgsODAgQzQyLjkwNjIwMDcsNzYuNDU0OTM1OCA0Ny41NjQ5MTY3LDcxLjU0MjI2NzEgNDguOTgzODY2LDY1LjI2MTk5MzkgQzUxLjExMjI4OTksNTUuODQxNTg0MiA0MS42NzcxNzk1LDQ5LjIxMjIyODQgMjUuNjIzOTg0Niw0OS4yMTIyMjg0IEMyNS40ODQ5Mjg5LDQ5LjEyNjg0NDggMjkuODI2MTI5Niw0My4yODM4MjQ4IDM4LjY0NzU4NjksMzEuNjgzMTY4MyBMNzIuODcxMjg3MSwzMi41NTQ0MjUgTDY1LjI4MDk3Myw2Ny42NzYzNDIxIEw1MS4xMTIyODk5LDc3LjM3NjE0NCBMMzUuMDA3NzE4LDgwIFoiIGlkPSJQYXRoLTIyIiBmaWxsPSIjMDAyODY4Ij48L3BhdGg+CiAgICAgICAgICAgICAgICA8cGF0aCBkPSJNMCwzNy43MzA0NDA1IEwyNy4xMTQ1MzcsMC4yNTcxMTE0MzYgQzYyLjM3MTUxMjMsLTEuOTkwNzE3MDEgODAsMTAuNTAwMzkyNyA4MCwzNy43MzA0NDA1IEM4MCw2NC45NjA0ODgyIDY0Ljc3NjUwMzgsNzkuMDUwMzQxNCAzNC4zMjk1MTEzLDgwIEM0Ny4wNTUzNDg5LDc3LjU2NzA4MDggNTMuNDE4MjY3Nyw3MC4zMTM2MTAzIDUzLjQxODI2NzcsNTguMjM5NTg4NSBDNTMuNDE4MjY3Nyw0MC4xMjg1NTU3IDM2LjMwMzk1NDQsMzcuNzMwNDQwNSAyNS4yMjc0MTcsMzcuNzMwNDQwNSBDMTcuODQzMDU4NiwzNy43MzA0NDA1IDkuNDMzOTE5NjYsMzcuNzMwNDQwNSAwLDM3LjczMDQ0MDUgWiIgaWQ9IlBhdGgtMTkiIGZpbGw9IiMzNzkzRUYiPjwvcGF0aD4KICAgICAgICAgICAgPC9nPgogICAgICAgIDwvZz4KICAgIDwvZz4KPC9zdmc+' > </img>\nCreated in <span style='font-weight:600;margin-left:4px;'>Deepnote</span></a>",
   "metadata": {
    "tags": [],
    "created_in_deepnote_cell": true,
    "deepnote_cell_type": "markdown"
   }
  }
 ],
 "nbformat": 4,
 "nbformat_minor": 0,
 "metadata": {
  "colab": {
   "name": "Keras_cup.ipynb",
   "provenance": [],
   "collapsed_sections": []
  },
  "deepnote": {
   "is_reactive": false
  },
  "deepnote_execution_queue": [],
  "deepnote_notebook_id": "4bc9a6a2-e9eb-482c-a3a8-3914ce54a796",
  "kernelspec": {
   "display_name": "Python 3",
   "name": "python3"
  },
  "language_info": {
   "name": "python"
  },
  "accelerator": "GPU"
 }
}