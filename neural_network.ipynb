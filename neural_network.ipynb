{
 "cells": [
  {
   "cell_type": "markdown",
   "source": "# Machine Learning project a.y. 2021/2022",
   "metadata": {
    "cell_id": "00000-20b425aa-ea48-417e-8de8-80b798a56627",
    "deepnote_cell_type": "markdown"
   }
  },
  {
   "cell_type": "markdown",
   "source": "## Scikit-learn MLP model",
   "metadata": {
    "cell_id": "00001-0b4766be-7481-4245-b46b-e62d89f13e8e",
    "deepnote_cell_type": "markdown"
   }
  },
  {
   "cell_type": "markdown",
   "source": "## Importing libraries",
   "metadata": {
    "cell_id": "00002-df7e2378-8b40-4303-a2e1-ed002e501fc7",
    "deepnote_cell_type": "markdown"
   }
  },
  {
   "cell_type": "code",
   "metadata": {
    "cell_id": "00003-61dc5a13-3cd8-445b-b8de-c471ff2498d2",
    "deepnote_to_be_reexecuted": false,
    "execution_millis": 3190,
    "execution_start": 1642253990791,
    "source_hash": "65cbb9bb",
    "output_cleared": true,
    "deepnote_cell_type": "code"
   },
   "source": "import pandas as pd\nimport matplotlib.pyplot as plt\nimport numpy as np\nimport ast\n\nfrom sklearn.model_selection import RandomizedSearchCV\nfrom sklearn.model_selection import GridSearchCV\nfrom scipy.stats import uniform\nfrom scipy.stats import randint\nfrom sklearn.metrics import make_scorer\nfrom sklearn.metrics import mean_squared_error\nfrom sklearn.metrics import log_loss\nfrom sklearn.metrics import accuracy_score\nfrom sklearn.preprocessing import OneHotEncoder\nfrom sklearn.neural_network import MLPRegressor\nfrom sklearn.neural_network import MLPClassifier\nfrom sklearn.model_selection import train_test_split\nfrom sklearn.ensemble import BaggingRegressor\nfrom dataclasses import dataclass",
   "execution_count": null,
   "outputs": []
  },
  {
   "cell_type": "markdown",
   "source": "## Loading training set and blind test set",
   "metadata": {
    "cell_id": "00004-04491b00-26f4-4580-8468-20e4c04795c7",
    "deepnote_cell_type": "markdown"
   }
  },
  {
   "cell_type": "code",
   "metadata": {
    "cell_id": "00005-0b8f7c5b-8577-4b82-b67f-ece4b4ff2886",
    "deepnote_to_be_reexecuted": false,
    "execution_millis": 33,
    "execution_start": 1642253993984,
    "source_hash": "47b90439",
    "output_cleared": true,
    "deepnote_cell_type": "code"
   },
   "source": "df_visual = pd.read_csv('./data/ML-CUP21-TR.csv', usecols=[11,12], names=['idx','f1','f2','f3','f4','f5','f6','f7','f8','f9','f10', 'x','y'])\ndf_task_tr = pd.read_csv('./data/ML-CUP21-TR.csv', names=['idx','f1','f2','f3','f4','f5','f6','f7','f8','f9','f10', 'x','y'])\ndf_task_tr = df_task_tr[7:] # remove first 7 rows of comments\ndf_visual = df_visual[7:]\n\ndf_blind_ts = pd.read_csv('./data/ML-CUP21-TS.csv', names=['idx','f1','f2','f3','f4','f5','f6','f7','f8','f9','f10'])\ndf_blind_ts = df_blind_ts[7:]\ndf_blind_ts.drop(labels=\"idx\", axis=1, inplace=True)\nblind_ts = df_blind_ts.values",
   "execution_count": null,
   "outputs": []
  },
  {
   "cell_type": "markdown",
   "source": "## Evaluation metrics",
   "metadata": {
    "cell_id": "00006-fc39440c-f97d-48b6-9a6f-04e25869dd3c",
    "tags": [],
    "deepnote_cell_type": "markdown"
   }
  },
  {
   "cell_type": "markdown",
   "source": "We define the <b>MEE (Mean Euclidean Error)</b> function which is used to evaluate the mean euclidean distance between two points with x and y coordinates.\nThe function takes in input the true target and the predicted target and yields a floating point number which represents the performance. ",
   "metadata": {
    "cell_id": "00007-312152ea-73a2-4516-97fc-e5f48223942c",
    "tags": [],
    "deepnote_cell_type": "markdown"
   }
  },
  {
   "cell_type": "code",
   "metadata": {
    "cell_id": "00007-a6b9a678-2524-4d79-9ec4-9d60d31af723",
    "deepnote_to_be_reexecuted": false,
    "execution_millis": 28,
    "execution_start": 1642253994023,
    "source_hash": "3afbb4cb",
    "tags": [],
    "output_cleared": true,
    "deepnote_cell_type": "code"
   },
   "source": "def mee(true_target, predicted_target): #assuming target is 2-dim matrix with x and y as columns\n    l = true_target.shape[0]\n    res = 0\n    \n    for p in range(l): #for p-th pattern in l (number of samples)\n        x_diff = np.square(true_target[p,0] - predicted_target[p,0]) #difference between the x value of the true and predicted target\n        y_diff = np.square(true_target[p,1] - predicted_target[p,1]) #difference between the y values of true and predicted target\n        sum_term = x_diff + y_diff\n        res = res + np.sqrt(sum_term)\n    res = res / l\n    \n    #return np.average([np.sqrt(np.square(true_target[p,0] - predicted_target[p,0]) + np.square(true_target[p,1] - predicted_target[p,1])) for p in range(l)]) #compact form\n    return res",
   "execution_count": null,
   "outputs": []
  },
  {
   "cell_type": "markdown",
   "source": "We also define a random state (seed) to allow reproducibility on our experiments",
   "metadata": {
    "tags": [],
    "cell_id": "00009-72e3da48-6f6c-49e7-9f92-f42c261751d7",
    "deepnote_cell_type": "markdown"
   }
  },
  {
   "cell_type": "code",
   "metadata": {
    "tags": [],
    "cell_id": "00010-650537af-6359-44cf-9faf-20e7f2e8fb02",
    "deepnote_to_be_reexecuted": false,
    "source_hash": "596ccc7b",
    "execution_start": 1642253994059,
    "execution_millis": 1,
    "deepnote_cell_type": "code"
   },
   "source": "RS_NUMBER = 69",
   "outputs": [],
   "execution_count": null
  },
  {
   "cell_type": "markdown",
   "source": "## MONK Dataset\n### MONK1",
   "metadata": {
    "cell_id": "00007-59c038d7-e2fc-4096-a98b-40251fd46776",
    "tags": [],
    "deepnote_cell_type": "markdown"
   }
  },
  {
   "cell_type": "code",
   "metadata": {
    "cell_id": "00007-c3b356df-c502-47fc-8d23-3fcff863da5c",
    "deepnote_to_be_reexecuted": false,
    "execution_millis": 2,
    "execution_start": 1642253994069,
    "source_hash": "ea6e0f83",
    "tags": [],
    "output_cleared": true,
    "deepnote_cell_type": "code"
   },
   "source": "def load_monk(path_train, path_test):\n    df_monk_train = pd.read_csv(path_train, sep=\" \", skipinitialspace=True, names=['class','a1','a2','a3','a4','a5','a6','id'])\n    df_monk_train.drop(labels='id', axis=1, inplace=True)\n\n    df_monk_test = pd.read_csv(path_test, sep=\" \", skipinitialspace=True,  names=['class','a1','a2','a3','a4','a5','a6','id'])\n    df_monk_test.drop(labels='id', axis=1, inplace=True)\n\n    return df_monk_train, df_monk_test",
   "execution_count": null,
   "outputs": []
  },
  {
   "cell_type": "markdown",
   "source": "### Loading MONK1 dataset",
   "metadata": {
    "cell_id": "00008-746c454e-4088-4707-aa50-3d6bdfd11301",
    "tags": [],
    "deepnote_cell_type": "markdown"
   }
  },
  {
   "cell_type": "code",
   "metadata": {
    "cell_id": "00008-2fddf6b4-7e3c-4ebb-bfec-6fd970b822d3",
    "deepnote_to_be_reexecuted": false,
    "execution_millis": 0,
    "execution_start": 1642253994119,
    "source_hash": "22e36aaa",
    "tags": [],
    "output_cleared": true,
    "deepnote_cell_type": "code"
   },
   "source": "df_monk1_train, df_monk1_test = load_monk('./data/MONK/monks-1.train', './data/MONK/monks-1.test')",
   "execution_count": null,
   "outputs": []
  },
  {
   "cell_type": "code",
   "metadata": {
    "cell_id": "00009-c89d2e6c-43bb-48e8-aeb3-a2392afb9980",
    "deepnote_to_be_reexecuted": false,
    "execution_millis": 59,
    "execution_start": 1642253994120,
    "source_hash": "fd91453c",
    "tags": [],
    "output_cleared": false,
    "deepnote_cell_type": "code"
   },
   "source": "df_monk1_train.head() #first column is the target (can be either 0 or 1)",
   "outputs": [
    {
     "output_type": "execute_result",
     "execution_count": 7,
     "data": {
      "application/vnd.deepnote.dataframe.v3+json": {
       "column_count": 7,
       "row_count": 5,
       "columns": [
        {
         "name": "class",
         "dtype": "int64",
         "stats": {
          "unique_count": 1,
          "nan_count": 0,
          "min": "1",
          "max": "1",
          "histogram": [
           {
            "bin_start": 0.5,
            "bin_end": 0.6,
            "count": 0
           },
           {
            "bin_start": 0.6,
            "bin_end": 0.7,
            "count": 0
           },
           {
            "bin_start": 0.7,
            "bin_end": 0.8,
            "count": 0
           },
           {
            "bin_start": 0.8,
            "bin_end": 0.9,
            "count": 0
           },
           {
            "bin_start": 0.9,
            "bin_end": 1,
            "count": 0
           },
           {
            "bin_start": 1,
            "bin_end": 1.1,
            "count": 5
           },
           {
            "bin_start": 1.1,
            "bin_end": 1.2000000000000002,
            "count": 0
           },
           {
            "bin_start": 1.2000000000000002,
            "bin_end": 1.3,
            "count": 0
           },
           {
            "bin_start": 1.3,
            "bin_end": 1.4,
            "count": 0
           },
           {
            "bin_start": 1.4,
            "bin_end": 1.5,
            "count": 0
           }
          ]
         }
        },
        {
         "name": "a1",
         "dtype": "int64",
         "stats": {
          "unique_count": 1,
          "nan_count": 0,
          "min": "1",
          "max": "1",
          "histogram": [
           {
            "bin_start": 0.5,
            "bin_end": 0.6,
            "count": 0
           },
           {
            "bin_start": 0.6,
            "bin_end": 0.7,
            "count": 0
           },
           {
            "bin_start": 0.7,
            "bin_end": 0.8,
            "count": 0
           },
           {
            "bin_start": 0.8,
            "bin_end": 0.9,
            "count": 0
           },
           {
            "bin_start": 0.9,
            "bin_end": 1,
            "count": 0
           },
           {
            "bin_start": 1,
            "bin_end": 1.1,
            "count": 5
           },
           {
            "bin_start": 1.1,
            "bin_end": 1.2000000000000002,
            "count": 0
           },
           {
            "bin_start": 1.2000000000000002,
            "bin_end": 1.3,
            "count": 0
           },
           {
            "bin_start": 1.3,
            "bin_end": 1.4,
            "count": 0
           },
           {
            "bin_start": 1.4,
            "bin_end": 1.5,
            "count": 0
           }
          ]
         }
        },
        {
         "name": "a2",
         "dtype": "int64",
         "stats": {
          "unique_count": 1,
          "nan_count": 0,
          "min": "1",
          "max": "1",
          "histogram": [
           {
            "bin_start": 0.5,
            "bin_end": 0.6,
            "count": 0
           },
           {
            "bin_start": 0.6,
            "bin_end": 0.7,
            "count": 0
           },
           {
            "bin_start": 0.7,
            "bin_end": 0.8,
            "count": 0
           },
           {
            "bin_start": 0.8,
            "bin_end": 0.9,
            "count": 0
           },
           {
            "bin_start": 0.9,
            "bin_end": 1,
            "count": 0
           },
           {
            "bin_start": 1,
            "bin_end": 1.1,
            "count": 5
           },
           {
            "bin_start": 1.1,
            "bin_end": 1.2000000000000002,
            "count": 0
           },
           {
            "bin_start": 1.2000000000000002,
            "bin_end": 1.3,
            "count": 0
           },
           {
            "bin_start": 1.3,
            "bin_end": 1.4,
            "count": 0
           },
           {
            "bin_start": 1.4,
            "bin_end": 1.5,
            "count": 0
           }
          ]
         }
        },
        {
         "name": "a3",
         "dtype": "int64",
         "stats": {
          "unique_count": 2,
          "nan_count": 0,
          "min": "1",
          "max": "2",
          "histogram": [
           {
            "bin_start": 1,
            "bin_end": 1.1,
            "count": 4
           },
           {
            "bin_start": 1.1,
            "bin_end": 1.2,
            "count": 0
           },
           {
            "bin_start": 1.2,
            "bin_end": 1.3,
            "count": 0
           },
           {
            "bin_start": 1.3,
            "bin_end": 1.4,
            "count": 0
           },
           {
            "bin_start": 1.4,
            "bin_end": 1.5,
            "count": 0
           },
           {
            "bin_start": 1.5,
            "bin_end": 1.6,
            "count": 0
           },
           {
            "bin_start": 1.6,
            "bin_end": 1.7000000000000002,
            "count": 0
           },
           {
            "bin_start": 1.7000000000000002,
            "bin_end": 1.8,
            "count": 0
           },
           {
            "bin_start": 1.8,
            "bin_end": 1.9,
            "count": 0
           },
           {
            "bin_start": 1.9,
            "bin_end": 2,
            "count": 1
           }
          ]
         }
        },
        {
         "name": "a4",
         "dtype": "int64",
         "stats": {
          "unique_count": 2,
          "nan_count": 0,
          "min": "1",
          "max": "3",
          "histogram": [
           {
            "bin_start": 1,
            "bin_end": 1.2,
            "count": 3
           },
           {
            "bin_start": 1.2,
            "bin_end": 1.4,
            "count": 0
           },
           {
            "bin_start": 1.4,
            "bin_end": 1.6,
            "count": 0
           },
           {
            "bin_start": 1.6,
            "bin_end": 1.8,
            "count": 0
           },
           {
            "bin_start": 1.8,
            "bin_end": 2,
            "count": 0
           },
           {
            "bin_start": 2,
            "bin_end": 2.2,
            "count": 0
           },
           {
            "bin_start": 2.2,
            "bin_end": 2.4000000000000004,
            "count": 0
           },
           {
            "bin_start": 2.4000000000000004,
            "bin_end": 2.6,
            "count": 0
           },
           {
            "bin_start": 2.6,
            "bin_end": 2.8,
            "count": 0
           },
           {
            "bin_start": 2.8,
            "bin_end": 3,
            "count": 2
           }
          ]
         }
        },
        {
         "name": "a5",
         "dtype": "int64",
         "stats": {
          "unique_count": 2,
          "nan_count": 0,
          "min": "2",
          "max": "3",
          "histogram": [
           {
            "bin_start": 2,
            "bin_end": 2.1,
            "count": 2
           },
           {
            "bin_start": 2.1,
            "bin_end": 2.2,
            "count": 0
           },
           {
            "bin_start": 2.2,
            "bin_end": 2.3,
            "count": 0
           },
           {
            "bin_start": 2.3,
            "bin_end": 2.4,
            "count": 0
           },
           {
            "bin_start": 2.4,
            "bin_end": 2.5,
            "count": 0
           },
           {
            "bin_start": 2.5,
            "bin_end": 2.6,
            "count": 0
           },
           {
            "bin_start": 2.6,
            "bin_end": 2.7,
            "count": 0
           },
           {
            "bin_start": 2.7,
            "bin_end": 2.8,
            "count": 0
           },
           {
            "bin_start": 2.8,
            "bin_end": 2.9,
            "count": 0
           },
           {
            "bin_start": 2.9,
            "bin_end": 3,
            "count": 3
           }
          ]
         }
        },
        {
         "name": "a6",
         "dtype": "int64",
         "stats": {
          "unique_count": 2,
          "nan_count": 0,
          "min": "1",
          "max": "2",
          "histogram": [
           {
            "bin_start": 1,
            "bin_end": 1.1,
            "count": 3
           },
           {
            "bin_start": 1.1,
            "bin_end": 1.2,
            "count": 0
           },
           {
            "bin_start": 1.2,
            "bin_end": 1.3,
            "count": 0
           },
           {
            "bin_start": 1.3,
            "bin_end": 1.4,
            "count": 0
           },
           {
            "bin_start": 1.4,
            "bin_end": 1.5,
            "count": 0
           },
           {
            "bin_start": 1.5,
            "bin_end": 1.6,
            "count": 0
           },
           {
            "bin_start": 1.6,
            "bin_end": 1.7000000000000002,
            "count": 0
           },
           {
            "bin_start": 1.7000000000000002,
            "bin_end": 1.8,
            "count": 0
           },
           {
            "bin_start": 1.8,
            "bin_end": 1.9,
            "count": 0
           },
           {
            "bin_start": 1.9,
            "bin_end": 2,
            "count": 2
           }
          ]
         }
        },
        {
         "name": "_deepnote_index_column",
         "dtype": "int64"
        }
       ],
       "rows": [
        {
         "class": 1,
         "a1": 1,
         "a2": 1,
         "a3": 1,
         "a4": 1,
         "a5": 3,
         "a6": 1,
         "_deepnote_index_column": 0
        },
        {
         "class": 1,
         "a1": 1,
         "a2": 1,
         "a3": 1,
         "a4": 1,
         "a5": 3,
         "a6": 2,
         "_deepnote_index_column": 1
        },
        {
         "class": 1,
         "a1": 1,
         "a2": 1,
         "a3": 1,
         "a4": 3,
         "a5": 2,
         "a6": 1,
         "_deepnote_index_column": 2
        },
        {
         "class": 1,
         "a1": 1,
         "a2": 1,
         "a3": 1,
         "a4": 3,
         "a5": 3,
         "a6": 2,
         "_deepnote_index_column": 3
        },
        {
         "class": 1,
         "a1": 1,
         "a2": 1,
         "a3": 2,
         "a4": 1,
         "a5": 2,
         "a6": 1,
         "_deepnote_index_column": 4
        }
       ]
      },
      "text/plain": "   class  a1  a2  a3  a4  a5  a6\n0      1   1   1   1   1   3   1\n1      1   1   1   1   1   3   2\n2      1   1   1   1   3   2   1\n3      1   1   1   1   3   3   2\n4      1   1   1   2   1   2   1",
      "text/html": "<div>\n<style scoped>\n    .dataframe tbody tr th:only-of-type {\n        vertical-align: middle;\n    }\n\n    .dataframe tbody tr th {\n        vertical-align: top;\n    }\n\n    .dataframe thead th {\n        text-align: right;\n    }\n</style>\n<table border=\"1\" class=\"dataframe\">\n  <thead>\n    <tr style=\"text-align: right;\">\n      <th></th>\n      <th>class</th>\n      <th>a1</th>\n      <th>a2</th>\n      <th>a3</th>\n      <th>a4</th>\n      <th>a5</th>\n      <th>a6</th>\n    </tr>\n  </thead>\n  <tbody>\n    <tr>\n      <th>0</th>\n      <td>1</td>\n      <td>1</td>\n      <td>1</td>\n      <td>1</td>\n      <td>1</td>\n      <td>3</td>\n      <td>1</td>\n    </tr>\n    <tr>\n      <th>1</th>\n      <td>1</td>\n      <td>1</td>\n      <td>1</td>\n      <td>1</td>\n      <td>1</td>\n      <td>3</td>\n      <td>2</td>\n    </tr>\n    <tr>\n      <th>2</th>\n      <td>1</td>\n      <td>1</td>\n      <td>1</td>\n      <td>1</td>\n      <td>3</td>\n      <td>2</td>\n      <td>1</td>\n    </tr>\n    <tr>\n      <th>3</th>\n      <td>1</td>\n      <td>1</td>\n      <td>1</td>\n      <td>1</td>\n      <td>3</td>\n      <td>3</td>\n      <td>2</td>\n    </tr>\n    <tr>\n      <th>4</th>\n      <td>1</td>\n      <td>1</td>\n      <td>1</td>\n      <td>2</td>\n      <td>1</td>\n      <td>2</td>\n      <td>1</td>\n    </tr>\n  </tbody>\n</table>\n</div>"
     },
     "metadata": {}
    }
   ],
   "execution_count": null
  },
  {
   "cell_type": "code",
   "metadata": {
    "cell_id": "00011-1bc9168b-9ca9-4067-baa9-e66238655971",
    "deepnote_to_be_reexecuted": false,
    "execution_millis": 3,
    "execution_start": 1642253994194,
    "source_hash": "e12ddd86",
    "tags": [],
    "output_cleared": true,
    "deepnote_cell_type": "code"
   },
   "source": "def split_train_test(df_monk_train, df_monk_test):\n    target_train = df_monk_train[['class']]\n    df_monk_train.drop(labels='class', axis=1, inplace=True)\n    target_test = df_monk_test[['class']]\n    df_monk_test.drop(labels='class', axis=1, inplace=True)\n    X_train = df_monk_train.values #returns a ndarray\n    y_train = target_train.values.ravel() #flattens the array into a 1-dimensional array\n    X_test = df_monk_test.values\n    y_test = target_test.values.ravel()\n\n    return X_train, y_train, X_test, y_test",
   "execution_count": null,
   "outputs": []
  },
  {
   "cell_type": "markdown",
   "source": "### Splitting the MONK1 dataset into train and test set",
   "metadata": {
    "cell_id": "00012-3c38b317-e420-4e0c-88cd-c12833336f87",
    "tags": [],
    "deepnote_cell_type": "markdown"
   }
  },
  {
   "cell_type": "code",
   "metadata": {
    "cell_id": "00012-23d2d223-d052-45a0-9827-af2e7f10aa47",
    "deepnote_output_heights": [
     611
    ],
    "deepnote_to_be_reexecuted": false,
    "execution_millis": 0,
    "execution_start": 1642253994243,
    "source_hash": "ea61b89e",
    "tags": [],
    "output_cleared": true,
    "deepnote_cell_type": "code"
   },
   "source": "X_train_M1, y_train_M1, X_test_M1, y_test_M1 = split_train_test(df_monk1_train, df_monk1_test)",
   "execution_count": null,
   "outputs": []
  },
  {
   "cell_type": "markdown",
   "source": "### One hot encoding of MONK1\nIn the MONK dataset we have the categories encoded using label encoding (e.g. 0,1,2,..), we need to use one hot encoding in order to have better results (e.g. 001, 010, ..). ",
   "metadata": {
    "cell_id": "00013-e9ed08e1-8231-46ab-8e39-4033e01f6195",
    "tags": [],
    "deepnote_cell_type": "markdown"
   }
  },
  {
   "cell_type": "code",
   "metadata": {
    "cell_id": "00013-60208cfc-c403-487e-ab14-9b3f9ac379a8",
    "deepnote_output_heights": [
     21.1875
    ],
    "deepnote_to_be_reexecuted": false,
    "execution_millis": 46,
    "execution_start": 1642253994243,
    "source_hash": "7d1623e9",
    "tags": [],
    "output_cleared": false,
    "deepnote_cell_type": "code"
   },
   "source": "enc_train = OneHotEncoder()\nenc_train.fit(X_train_M1)\nX_train_M1 = enc_train.transform(X_train_M1).toarray()\nprint(X_train_M1.shape)\n\nenc_test = OneHotEncoder()\nenc_test.fit(X_test_M1)\nX_test_M1 = enc_test.transform(X_test_M1).toarray()\nprint(X_test_M1.shape)",
   "outputs": [
    {
     "name": "stdout",
     "text": "(124, 17)\n(432, 17)\n",
     "output_type": "stream"
    }
   ],
   "execution_count": null
  },
  {
   "cell_type": "markdown",
   "source": "### Training phase for MONK1\nWe train a simple classifier using batch size = 1 (for the MONK dataset it is not necessary to do the hyperparameter tuning)",
   "metadata": {
    "cell_id": "00016-1839d0e0-439a-40f8-b782-352342d774c9",
    "tags": [],
    "deepnote_cell_type": "markdown"
   }
  },
  {
   "cell_type": "code",
   "metadata": {
    "cell_id": "00011-555aae2c-d384-41de-8a28-9d3dd534d2eb",
    "deepnote_to_be_reexecuted": false,
    "execution_millis": 5106,
    "execution_start": 1642253994288,
    "source_hash": "eb5789bf",
    "tags": [],
    "output_cleared": true,
    "deepnote_cell_type": "code"
   },
   "source": "classifier_M1 = MLPClassifier(random_state=RS_NUMBER, batch_size=1).fit(X_train_M1, y_train_M1)\neval_model = MLPClassifier(random_state=RS_NUMBER, batch_size=1)",
   "execution_count": null,
   "outputs": []
  },
  {
   "cell_type": "code",
   "metadata": {
    "cell_id": "00021-1266891b-0a23-4d51-8051-b17044645778",
    "deepnote_to_be_reexecuted": false,
    "execution_millis": 5,
    "execution_start": 1642253999400,
    "source_hash": "ced77cd9",
    "tags": [],
    "output_cleared": true,
    "deepnote_cell_type": "code"
   },
   "source": "#trains the model with one iteration (epoch) and computes in output a list of train and test scores using MEE\ndef fit_and_score_monk(epochs, eval_model, X_train, y_train, X_test, y_test):\n    train_scores = []\n    test_scores = []\n    train_loss = []\n    test_loss = []\n\n    for i in range(epochs):\n        eval_model = eval_model.partial_fit(X_train,y_train, classes = np.unique(y_train))\n        y_train_predicted = eval_model.predict(X_train)\n        y_test_predicted = eval_model.predict(X_test)\n        #results on train set\n        train_loss.append(log_loss(y_train, y_train_predicted))\n        train_scores.append(accuracy_score(y_train, y_train_predicted))\n        #result on test set\n        test_loss.append(log_loss(y_test, y_test_predicted))\n        test_scores.append(accuracy_score(y_test, y_test_predicted))\n    return train_scores, test_scores, train_loss, test_loss\n",
   "execution_count": null,
   "outputs": []
  },
  {
   "cell_type": "code",
   "metadata": {
    "cell_id": "00022-d81f85c3-0e19-4662-a0a2-53bf9d2af796",
    "deepnote_output_heights": [
     40.375
    ],
    "deepnote_to_be_reexecuted": false,
    "execution_millis": 10310,
    "execution_start": 1642253999450,
    "source_hash": "5b6c1681",
    "tags": [],
    "output_cleared": false,
    "deepnote_cell_type": "code"
   },
   "source": "train_scores_M1, test_scores_M1, train_loss_M1, test_loss_M1 = fit_and_score_monk(classifier_M1.n_iter_, eval_model, X_train_M1, y_train_M1, X_test_M1, y_test_M1)",
   "outputs": [],
   "execution_count": null
  },
  {
   "cell_type": "markdown",
   "source": "### Loss curve for MONK1",
   "metadata": {
    "cell_id": "00021-ee4aa643-bff9-4588-b237-c5902a562637",
    "tags": [],
    "deepnote_cell_type": "markdown"
   }
  },
  {
   "cell_type": "code",
   "metadata": {
    "cell_id": "00024-f7669179-4d4a-4820-89e1-10c5be1db94b",
    "deepnote_to_be_reexecuted": false,
    "execution_millis": 6,
    "execution_start": 1642254009764,
    "source_hash": "fe0bd595",
    "tags": [],
    "output_cleared": true,
    "deepnote_cell_type": "code"
   },
   "source": "def plot_learning_curves(train_scores, test_scores, epochs, y_label):\n    plt.figure(figsize=(10,8))\n    plt.plot(range(0,epochs), train_scores, label = \"Training error\", linestyle='dashed')\n    plt.plot(range(0,epochs), test_scores, label = \"Test error\")\n    plt.legend()\n    plt.ylabel(y_label)\n    plt.xlabel('Epoch');",
   "execution_count": null,
   "outputs": []
  },
  {
   "cell_type": "code",
   "metadata": {
    "cell_id": "00015-6a9921fd-01c5-49e2-a2b3-bda9f06099d8",
    "deepnote_output_heights": [
     482
    ],
    "deepnote_to_be_reexecuted": false,
    "execution_millis": 717,
    "execution_start": 1642254009777,
    "source_hash": "dbcd3471",
    "tags": [],
    "output_cleared": false,
    "deepnote_cell_type": "code"
   },
   "source": "plot_learning_curves(train_loss_M1, test_loss_M1, classifier_M1.n_iter_, 'Loss (BCE)')",
   "outputs": [
    {
     "data": {
      "text/plain": "<Figure size 720x576 with 1 Axes>",
      "image/png": "[encoded data removed]"
     },
     "metadata": {
      "needs_background": "light",
      "image/png": {
       "width": 606,
       "height": 480
      }
     },
     "output_type": "display_data"
    }
   ],
   "execution_count": null
  },
  {
   "cell_type": "markdown",
   "source": "### Learning curves for MONK1",
   "metadata": {
    "cell_id": "00023-5cefb34c-77d9-4b0d-a5ab-12e36354284c",
    "tags": [],
    "deepnote_cell_type": "markdown"
   }
  },
  {
   "cell_type": "code",
   "metadata": {
    "cell_id": "00027-03d612eb-a123-43d4-899b-825c10fe275b",
    "deepnote_output_heights": [
     482
    ],
    "deepnote_to_be_reexecuted": false,
    "execution_millis": 478,
    "execution_start": 1642254010514,
    "source_hash": "84ff1bd8",
    "tags": [],
    "output_cleared": false,
    "deepnote_cell_type": "code"
   },
   "source": "plot_learning_curves(train_scores_M1, test_scores_M1, classifier_M1.n_iter_, 'Accuracy')",
   "outputs": [
    {
     "data": {
      "text/plain": "<Figure size 720x576 with 1 Axes>",
      "image/png": "[encoded data removed]"
     },
     "metadata": {
      "needs_background": "light",
      "image/png": {
       "width": 615,
       "height": 480
      }
     },
     "output_type": "display_data"
    }
   ],
   "execution_count": null
  },
  {
   "cell_type": "markdown",
   "source": "### Accuracy and MEE for MONK1",
   "metadata": {
    "cell_id": "00028-6de75766-a961-4493-8c75-6873af40ed1b",
    "tags": [],
    "deepnote_cell_type": "markdown"
   }
  },
  {
   "cell_type": "code",
   "metadata": {
    "cell_id": "00016-6f9c75ff-8e4d-4aa6-8614-426998a3229d",
    "deepnote_output_heights": [
     264,
     264
    ],
    "deepnote_to_be_reexecuted": false,
    "execution_millis": 2,
    "execution_start": 1642254011031,
    "source_hash": "234d2bb0",
    "tags": [],
    "output_cleared": false,
    "deepnote_cell_type": "code"
   },
   "source": "y_predicted_M1 = classifier_M1.predict(X_test_M1)\nprint(f\"Accuracy on MONK1: {classifier_M1.score(X_test_M1, y_test_M1)}\")\nprint(f\"MEE on MONK1: {(np.linalg.norm(y_predicted_M1-y_test_M1))}\") # MEE distance (a.k.a. norm 2)",
   "outputs": [
    {
     "name": "stdout",
     "text": "Accuracy on MONK1: 1.0\nMEE on MONK1: 0.0\n",
     "output_type": "stream"
    }
   ],
   "execution_count": null
  },
  {
   "cell_type": "markdown",
   "source": "### MONK2",
   "metadata": {
    "cell_id": "00018-ed3499e4-5fe7-477b-8af4-729f9be5b5e8",
    "tags": [],
    "deepnote_cell_type": "markdown"
   }
  },
  {
   "cell_type": "markdown",
   "source": "### Loading MONK2 dataset",
   "metadata": {
    "cell_id": "00030-b8a8f664-3925-45d9-8c8d-d44e8e1f15ed",
    "tags": [],
    "deepnote_cell_type": "markdown"
   }
  },
  {
   "cell_type": "code",
   "metadata": {
    "cell_id": "00019-bf7f4cdf-04cd-4d7c-a9d7-700f5d067cc7",
    "deepnote_to_be_reexecuted": false,
    "execution_millis": 43,
    "execution_start": 1642254011032,
    "source_hash": "ef7d28c4",
    "tags": [],
    "output_cleared": true,
    "deepnote_cell_type": "code"
   },
   "source": "df_monk2_train, df_monk2_test = load_monk('./data/MONK/monks-2.train', './data/MONK/monks-2.test')",
   "execution_count": null,
   "outputs": []
  },
  {
   "cell_type": "code",
   "metadata": {
    "cell_id": "00019-657c5239-6512-4cfc-bd63-75ad9850f856",
    "deepnote_output_heights": [
     21.1875
    ],
    "deepnote_to_be_reexecuted": false,
    "execution_millis": 104,
    "execution_start": 1642254011085,
    "source_hash": "7cc753f1",
    "tags": [],
    "output_cleared": false,
    "deepnote_cell_type": "code"
   },
   "source": "df_monk2_train.head() #first column is the target (can be either 0 or 1)",
   "outputs": [
    {
     "output_type": "execute_result",
     "execution_count": 19,
     "data": {
      "application/vnd.deepnote.dataframe.v3+json": {
       "column_count": 7,
       "row_count": 5,
       "columns": [
        {
         "name": "class",
         "dtype": "int64",
         "stats": {
          "unique_count": 1,
          "nan_count": 0,
          "min": "0",
          "max": "0",
          "histogram": [
           {
            "bin_start": -0.5,
            "bin_end": -0.4,
            "count": 0
           },
           {
            "bin_start": -0.4,
            "bin_end": -0.3,
            "count": 0
           },
           {
            "bin_start": -0.3,
            "bin_end": -0.19999999999999996,
            "count": 0
           },
           {
            "bin_start": -0.19999999999999996,
            "bin_end": -0.09999999999999998,
            "count": 0
           },
           {
            "bin_start": -0.09999999999999998,
            "bin_end": 0,
            "count": 0
           },
           {
            "bin_start": 0,
            "bin_end": 0.10000000000000009,
            "count": 5
           },
           {
            "bin_start": 0.10000000000000009,
            "bin_end": 0.20000000000000007,
            "count": 0
           },
           {
            "bin_start": 0.20000000000000007,
            "bin_end": 0.30000000000000004,
            "count": 0
           },
           {
            "bin_start": 0.30000000000000004,
            "bin_end": 0.4,
            "count": 0
           },
           {
            "bin_start": 0.4,
            "bin_end": 0.5,
            "count": 0
           }
          ]
         }
        },
        {
         "name": "a1",
         "dtype": "int64",
         "stats": {
          "unique_count": 1,
          "nan_count": 0,
          "min": "1",
          "max": "1",
          "histogram": [
           {
            "bin_start": 0.5,
            "bin_end": 0.6,
            "count": 0
           },
           {
            "bin_start": 0.6,
            "bin_end": 0.7,
            "count": 0
           },
           {
            "bin_start": 0.7,
            "bin_end": 0.8,
            "count": 0
           },
           {
            "bin_start": 0.8,
            "bin_end": 0.9,
            "count": 0
           },
           {
            "bin_start": 0.9,
            "bin_end": 1,
            "count": 0
           },
           {
            "bin_start": 1,
            "bin_end": 1.1,
            "count": 5
           },
           {
            "bin_start": 1.1,
            "bin_end": 1.2000000000000002,
            "count": 0
           },
           {
            "bin_start": 1.2000000000000002,
            "bin_end": 1.3,
            "count": 0
           },
           {
            "bin_start": 1.3,
            "bin_end": 1.4,
            "count": 0
           },
           {
            "bin_start": 1.4,
            "bin_end": 1.5,
            "count": 0
           }
          ]
         }
        },
        {
         "name": "a2",
         "dtype": "int64",
         "stats": {
          "unique_count": 1,
          "nan_count": 0,
          "min": "1",
          "max": "1",
          "histogram": [
           {
            "bin_start": 0.5,
            "bin_end": 0.6,
            "count": 0
           },
           {
            "bin_start": 0.6,
            "bin_end": 0.7,
            "count": 0
           },
           {
            "bin_start": 0.7,
            "bin_end": 0.8,
            "count": 0
           },
           {
            "bin_start": 0.8,
            "bin_end": 0.9,
            "count": 0
           },
           {
            "bin_start": 0.9,
            "bin_end": 1,
            "count": 0
           },
           {
            "bin_start": 1,
            "bin_end": 1.1,
            "count": 5
           },
           {
            "bin_start": 1.1,
            "bin_end": 1.2000000000000002,
            "count": 0
           },
           {
            "bin_start": 1.2000000000000002,
            "bin_end": 1.3,
            "count": 0
           },
           {
            "bin_start": 1.3,
            "bin_end": 1.4,
            "count": 0
           },
           {
            "bin_start": 1.4,
            "bin_end": 1.5,
            "count": 0
           }
          ]
         }
        },
        {
         "name": "a3",
         "dtype": "int64",
         "stats": {
          "unique_count": 1,
          "nan_count": 0,
          "min": "1",
          "max": "1",
          "histogram": [
           {
            "bin_start": 0.5,
            "bin_end": 0.6,
            "count": 0
           },
           {
            "bin_start": 0.6,
            "bin_end": 0.7,
            "count": 0
           },
           {
            "bin_start": 0.7,
            "bin_end": 0.8,
            "count": 0
           },
           {
            "bin_start": 0.8,
            "bin_end": 0.9,
            "count": 0
           },
           {
            "bin_start": 0.9,
            "bin_end": 1,
            "count": 0
           },
           {
            "bin_start": 1,
            "bin_end": 1.1,
            "count": 5
           },
           {
            "bin_start": 1.1,
            "bin_end": 1.2000000000000002,
            "count": 0
           },
           {
            "bin_start": 1.2000000000000002,
            "bin_end": 1.3,
            "count": 0
           },
           {
            "bin_start": 1.3,
            "bin_end": 1.4,
            "count": 0
           },
           {
            "bin_start": 1.4,
            "bin_end": 1.5,
            "count": 0
           }
          ]
         }
        },
        {
         "name": "a4",
         "dtype": "int64",
         "stats": {
          "unique_count": 2,
          "nan_count": 0,
          "min": "1",
          "max": "2",
          "histogram": [
           {
            "bin_start": 1,
            "bin_end": 1.1,
            "count": 2
           },
           {
            "bin_start": 1.1,
            "bin_end": 1.2,
            "count": 0
           },
           {
            "bin_start": 1.2,
            "bin_end": 1.3,
            "count": 0
           },
           {
            "bin_start": 1.3,
            "bin_end": 1.4,
            "count": 0
           },
           {
            "bin_start": 1.4,
            "bin_end": 1.5,
            "count": 0
           },
           {
            "bin_start": 1.5,
            "bin_end": 1.6,
            "count": 0
           },
           {
            "bin_start": 1.6,
            "bin_end": 1.7000000000000002,
            "count": 0
           },
           {
            "bin_start": 1.7000000000000002,
            "bin_end": 1.8,
            "count": 0
           },
           {
            "bin_start": 1.8,
            "bin_end": 1.9,
            "count": 0
           },
           {
            "bin_start": 1.9,
            "bin_end": 2,
            "count": 3
           }
          ]
         }
        },
        {
         "name": "a5",
         "dtype": "int64",
         "stats": {
          "unique_count": 3,
          "nan_count": 0,
          "min": "1",
          "max": "4",
          "histogram": [
           {
            "bin_start": 1,
            "bin_end": 1.3,
            "count": 2
           },
           {
            "bin_start": 1.3,
            "bin_end": 1.6,
            "count": 0
           },
           {
            "bin_start": 1.6,
            "bin_end": 1.9,
            "count": 0
           },
           {
            "bin_start": 1.9,
            "bin_end": 2.2,
            "count": 2
           },
           {
            "bin_start": 2.2,
            "bin_end": 2.5,
            "count": 0
           },
           {
            "bin_start": 2.5,
            "bin_end": 2.8,
            "count": 0
           },
           {
            "bin_start": 2.8,
            "bin_end": 3.1,
            "count": 0
           },
           {
            "bin_start": 3.1,
            "bin_end": 3.4,
            "count": 0
           },
           {
            "bin_start": 3.4,
            "bin_end": 3.6999999999999997,
            "count": 0
           },
           {
            "bin_start": 3.6999999999999997,
            "bin_end": 4,
            "count": 1
           }
          ]
         }
        },
        {
         "name": "a6",
         "dtype": "int64",
         "stats": {
          "unique_count": 2,
          "nan_count": 0,
          "min": "1",
          "max": "2",
          "histogram": [
           {
            "bin_start": 1,
            "bin_end": 1.1,
            "count": 3
           },
           {
            "bin_start": 1.1,
            "bin_end": 1.2,
            "count": 0
           },
           {
            "bin_start": 1.2,
            "bin_end": 1.3,
            "count": 0
           },
           {
            "bin_start": 1.3,
            "bin_end": 1.4,
            "count": 0
           },
           {
            "bin_start": 1.4,
            "bin_end": 1.5,
            "count": 0
           },
           {
            "bin_start": 1.5,
            "bin_end": 1.6,
            "count": 0
           },
           {
            "bin_start": 1.6,
            "bin_end": 1.7000000000000002,
            "count": 0
           },
           {
            "bin_start": 1.7000000000000002,
            "bin_end": 1.8,
            "count": 0
           },
           {
            "bin_start": 1.8,
            "bin_end": 1.9,
            "count": 0
           },
           {
            "bin_start": 1.9,
            "bin_end": 2,
            "count": 2
           }
          ]
         }
        },
        {
         "name": "_deepnote_index_column",
         "dtype": "int64"
        }
       ],
       "rows": [
        {
         "class": 0,
         "a1": 1,
         "a2": 1,
         "a3": 1,
         "a4": 1,
         "a5": 2,
         "a6": 2,
         "_deepnote_index_column": 0
        },
        {
         "class": 0,
         "a1": 1,
         "a2": 1,
         "a3": 1,
         "a4": 1,
         "a5": 4,
         "a6": 1,
         "_deepnote_index_column": 1
        },
        {
         "class": 0,
         "a1": 1,
         "a2": 1,
         "a3": 1,
         "a4": 2,
         "a5": 1,
         "a6": 1,
         "_deepnote_index_column": 2
        },
        {
         "class": 0,
         "a1": 1,
         "a2": 1,
         "a3": 1,
         "a4": 2,
         "a5": 1,
         "a6": 2,
         "_deepnote_index_column": 3
        },
        {
         "class": 0,
         "a1": 1,
         "a2": 1,
         "a3": 1,
         "a4": 2,
         "a5": 2,
         "a6": 1,
         "_deepnote_index_column": 4
        }
       ]
      },
      "text/plain": "   class  a1  a2  a3  a4  a5  a6\n0      0   1   1   1   1   2   2\n1      0   1   1   1   1   4   1\n2      0   1   1   1   2   1   1\n3      0   1   1   1   2   1   2\n4      0   1   1   1   2   2   1",
      "text/html": "<div>\n<style scoped>\n    .dataframe tbody tr th:only-of-type {\n        vertical-align: middle;\n    }\n\n    .dataframe tbody tr th {\n        vertical-align: top;\n    }\n\n    .dataframe thead th {\n        text-align: right;\n    }\n</style>\n<table border=\"1\" class=\"dataframe\">\n  <thead>\n    <tr style=\"text-align: right;\">\n      <th></th>\n      <th>class</th>\n      <th>a1</th>\n      <th>a2</th>\n      <th>a3</th>\n      <th>a4</th>\n      <th>a5</th>\n      <th>a6</th>\n    </tr>\n  </thead>\n  <tbody>\n    <tr>\n      <th>0</th>\n      <td>0</td>\n      <td>1</td>\n      <td>1</td>\n      <td>1</td>\n      <td>1</td>\n      <td>2</td>\n      <td>2</td>\n    </tr>\n    <tr>\n      <th>1</th>\n      <td>0</td>\n      <td>1</td>\n      <td>1</td>\n      <td>1</td>\n      <td>1</td>\n      <td>4</td>\n      <td>1</td>\n    </tr>\n    <tr>\n      <th>2</th>\n      <td>0</td>\n      <td>1</td>\n      <td>1</td>\n      <td>1</td>\n      <td>2</td>\n      <td>1</td>\n      <td>1</td>\n    </tr>\n    <tr>\n      <th>3</th>\n      <td>0</td>\n      <td>1</td>\n      <td>1</td>\n      <td>1</td>\n      <td>2</td>\n      <td>1</td>\n      <td>2</td>\n    </tr>\n    <tr>\n      <th>4</th>\n      <td>0</td>\n      <td>1</td>\n      <td>1</td>\n      <td>1</td>\n      <td>2</td>\n      <td>2</td>\n      <td>1</td>\n    </tr>\n  </tbody>\n</table>\n</div>"
     },
     "metadata": {}
    }
   ],
   "execution_count": null
  },
  {
   "cell_type": "markdown",
   "source": "### Splitting MONK2 dataset",
   "metadata": {
    "cell_id": "00033-216bf6bc-4e9b-4c3f-beeb-0d9b0ee9c586",
    "tags": [],
    "deepnote_cell_type": "markdown"
   }
  },
  {
   "cell_type": "code",
   "metadata": {
    "cell_id": "00020-8853060c-1985-4bb1-81ed-f81e6dfba175",
    "deepnote_to_be_reexecuted": false,
    "execution_millis": 1,
    "execution_start": 1642254011239,
    "source_hash": "91aea900",
    "tags": [],
    "output_cleared": true,
    "deepnote_cell_type": "code"
   },
   "source": "X_train_M2, y_train_M2, X_test_M2, y_test_M2 = split_train_test(df_monk2_train, df_monk2_test)",
   "execution_count": null,
   "outputs": []
  },
  {
   "cell_type": "markdown",
   "source": "### One hot encoding on MONK2",
   "metadata": {
    "cell_id": "00035-e876aced-2d81-4822-bb04-e19b371d4736",
    "tags": [],
    "deepnote_cell_type": "markdown"
   }
  },
  {
   "cell_type": "code",
   "metadata": {
    "cell_id": "00021-f5c3c5ed-af3f-4331-b81b-6b2f4d50b9fe",
    "deepnote_to_be_reexecuted": false,
    "execution_millis": 2,
    "execution_start": 1642254011240,
    "source_hash": "25b72f0c",
    "tags": [],
    "output_cleared": false,
    "deepnote_cell_type": "code"
   },
   "source": "enc_train = OneHotEncoder()\nenc_train.fit(X_train_M2)\nX_train_M2 = enc_train.transform(X_train_M2).toarray()\nprint(X_train_M2.shape)\n\nenc_test = OneHotEncoder()\nenc_test.fit(X_test_M2)\nX_test_M2 = enc_test.transform(X_test_M2).toarray()\nprint(X_test_M2.shape)",
   "outputs": [
    {
     "name": "stdout",
     "text": "(169, 17)\n(432, 17)\n",
     "output_type": "stream"
    }
   ],
   "execution_count": null
  },
  {
   "cell_type": "markdown",
   "source": "### Training phase for MONK2",
   "metadata": {
    "cell_id": "00037-d53fd99c-8e5d-4206-b838-b62b475e4721",
    "tags": [],
    "deepnote_cell_type": "markdown"
   }
  },
  {
   "cell_type": "code",
   "metadata": {
    "cell_id": "00021-fdf6d727-ff1a-4928-a0df-25e0ae477b0f",
    "deepnote_to_be_reexecuted": false,
    "execution_millis": 7189,
    "execution_start": 1642254011283,
    "source_hash": "5c4f891",
    "tags": [],
    "output_cleared": true,
    "deepnote_cell_type": "code"
   },
   "source": "classifier_M2 = MLPClassifier(random_state=RS_NUMBER, batch_size=1).fit(X_train_M2, y_train_M2)\neval_model = MLPClassifier(random_state=RS_NUMBER, batch_size=1)",
   "execution_count": null,
   "outputs": []
  },
  {
   "cell_type": "code",
   "metadata": {
    "cell_id": "00039-e7579a0a-c9c8-4b6b-a3d2-db3395d84d43",
    "deepnote_to_be_reexecuted": false,
    "execution_millis": 12891,
    "execution_start": 1642254018476,
    "source_hash": "ab9f4bb6",
    "tags": [],
    "output_cleared": true,
    "deepnote_cell_type": "code"
   },
   "source": "train_scores_M2, test_scores_M2, train_loss_M2, test_loss_M2 = fit_and_score_monk(classifier_M2.n_iter_, eval_model, X_train_M2, y_train_M2, X_test_M2, y_test_M2)",
   "execution_count": null,
   "outputs": []
  },
  {
   "cell_type": "markdown",
   "source": "### Loss curve for MONK2",
   "metadata": {
    "cell_id": "00039-85f3702a-6c13-488d-a26c-5d04f92af0ba",
    "tags": [],
    "deepnote_cell_type": "markdown"
   }
  },
  {
   "cell_type": "code",
   "metadata": {
    "cell_id": "00023-50ad5fe8-db26-4564-8036-19d50db125b2",
    "deepnote_output_heights": [
     482
    ],
    "deepnote_to_be_reexecuted": false,
    "execution_millis": 520,
    "execution_start": 1642254031371,
    "source_hash": "c6965e",
    "tags": [],
    "output_cleared": false,
    "deepnote_cell_type": "code"
   },
   "source": "plot_learning_curves(train_loss_M2, test_loss_M2, classifier_M2.n_iter_, \"Loss (BCE)\")",
   "outputs": [
    {
     "data": {
      "text/plain": "<Figure size 720x576 with 1 Axes>",
      "image/png": "[encoded data removed]"
     },
     "metadata": {
      "needs_background": "light",
      "image/png": {
       "width": 606,
       "height": 480
      }
     },
     "output_type": "display_data"
    }
   ],
   "execution_count": null
  },
  {
   "cell_type": "markdown",
   "source": "### Learning curves for MONK2",
   "metadata": {
    "cell_id": "00042-6cac84dd-c96c-41ea-923c-ceb57d9ce67f",
    "tags": [],
    "deepnote_cell_type": "markdown"
   }
  },
  {
   "cell_type": "code",
   "metadata": {
    "cell_id": "00043-9e5831eb-a051-4720-ba5f-ab37632655c0",
    "deepnote_output_heights": [
     482
    ],
    "deepnote_to_be_reexecuted": false,
    "execution_millis": 445,
    "execution_start": 1642254031940,
    "source_hash": "5d3fa740",
    "tags": [],
    "output_cleared": false,
    "deepnote_cell_type": "code"
   },
   "source": "plot_learning_curves(train_scores_M2, test_scores_M2, classifier_M2.n_iter_, 'Accuracy')",
   "outputs": [
    {
     "data": {
      "text/plain": "<Figure size 720x576 with 1 Axes>",
      "image/png": "[encoded data removed]"
     },
     "metadata": {
      "needs_background": "light",
      "image/png": {
       "width": 615,
       "height": 480
      }
     },
     "output_type": "display_data"
    }
   ],
   "execution_count": null
  },
  {
   "cell_type": "markdown",
   "source": "### Accuracy and MEE on MONK2",
   "metadata": {
    "cell_id": "00045-43d0463a-986f-4df7-b016-bb3cc1c4eb52",
    "tags": [],
    "deepnote_cell_type": "markdown"
   }
  },
  {
   "cell_type": "code",
   "metadata": {
    "cell_id": "00024-f8b6e506-a611-4590-b950-3e716908c099",
    "deepnote_to_be_reexecuted": false,
    "execution_millis": 20,
    "execution_start": 1642254032397,
    "source_hash": "ae4af243",
    "tags": [],
    "output_cleared": false,
    "deepnote_cell_type": "code"
   },
   "source": "y_predicted_M2 = classifier_M2.predict(X_test_M2)\nprint(f\"Accuracy on MONK2: {classifier_M2.score(X_test_M2, y_test_M2)}\")\nprint(f\"MEE on MONK2: {(np.linalg.norm(y_predicted_M2-y_test_M2))}\") # MEE distance (a.k.a. norm 2)",
   "outputs": [
    {
     "name": "stdout",
     "text": "Accuracy on MONK2: 1.0\nMEE on MONK2: 0.0\n",
     "output_type": "stream"
    }
   ],
   "execution_count": null
  },
  {
   "cell_type": "markdown",
   "source": "### MONK3",
   "metadata": {
    "cell_id": "00025-c03a1235-9d36-460b-91a7-a142c8aea2d4",
    "tags": [],
    "deepnote_cell_type": "markdown"
   }
  },
  {
   "cell_type": "markdown",
   "source": "### Loading MONK3 dataset",
   "metadata": {
    "cell_id": "00048-4cc2725e-8093-4652-ba50-2a9bb7685578",
    "tags": [],
    "deepnote_cell_type": "markdown"
   }
  },
  {
   "cell_type": "code",
   "metadata": {
    "cell_id": "00026-7f0ac247-7df1-471d-86ad-4b33e3e799c9",
    "deepnote_to_be_reexecuted": false,
    "execution_millis": 61,
    "execution_start": 1642254032461,
    "source_hash": "882eb776",
    "tags": [],
    "output_cleared": true,
    "deepnote_cell_type": "code"
   },
   "source": "df_monk3_train, df_monk3_test = load_monk('./data/MONK/monks-3.train', './data/MONK/monks-3.test')",
   "execution_count": null,
   "outputs": []
  },
  {
   "cell_type": "code",
   "metadata": {
    "cell_id": "00027-056a023a-4f29-40fa-a994-1f0d63338ea9",
    "deepnote_to_be_reexecuted": false,
    "execution_millis": 78,
    "execution_start": 1642254032522,
    "source_hash": "628175ae",
    "tags": [],
    "output_cleared": false,
    "deepnote_cell_type": "code"
   },
   "source": "df_monk3_train.head() #first column is the target (can be either 0 or 1)",
   "outputs": [
    {
     "output_type": "execute_result",
     "execution_count": 28,
     "data": {
      "application/vnd.deepnote.dataframe.v3+json": {
       "column_count": 7,
       "row_count": 5,
       "columns": [
        {
         "name": "class",
         "dtype": "int64",
         "stats": {
          "unique_count": 2,
          "nan_count": 0,
          "min": "0",
          "max": "1",
          "histogram": [
           {
            "bin_start": 0,
            "bin_end": 0.1,
            "count": 2
           },
           {
            "bin_start": 0.1,
            "bin_end": 0.2,
            "count": 0
           },
           {
            "bin_start": 0.2,
            "bin_end": 0.30000000000000004,
            "count": 0
           },
           {
            "bin_start": 0.30000000000000004,
            "bin_end": 0.4,
            "count": 0
           },
           {
            "bin_start": 0.4,
            "bin_end": 0.5,
            "count": 0
           },
           {
            "bin_start": 0.5,
            "bin_end": 0.6000000000000001,
            "count": 0
           },
           {
            "bin_start": 0.6000000000000001,
            "bin_end": 0.7000000000000001,
            "count": 0
           },
           {
            "bin_start": 0.7000000000000001,
            "bin_end": 0.8,
            "count": 0
           },
           {
            "bin_start": 0.8,
            "bin_end": 0.9,
            "count": 0
           },
           {
            "bin_start": 0.9,
            "bin_end": 1,
            "count": 3
           }
          ]
         }
        },
        {
         "name": "a1",
         "dtype": "int64",
         "stats": {
          "unique_count": 1,
          "nan_count": 0,
          "min": "1",
          "max": "1",
          "histogram": [
           {
            "bin_start": 0.5,
            "bin_end": 0.6,
            "count": 0
           },
           {
            "bin_start": 0.6,
            "bin_end": 0.7,
            "count": 0
           },
           {
            "bin_start": 0.7,
            "bin_end": 0.8,
            "count": 0
           },
           {
            "bin_start": 0.8,
            "bin_end": 0.9,
            "count": 0
           },
           {
            "bin_start": 0.9,
            "bin_end": 1,
            "count": 0
           },
           {
            "bin_start": 1,
            "bin_end": 1.1,
            "count": 5
           },
           {
            "bin_start": 1.1,
            "bin_end": 1.2000000000000002,
            "count": 0
           },
           {
            "bin_start": 1.2000000000000002,
            "bin_end": 1.3,
            "count": 0
           },
           {
            "bin_start": 1.3,
            "bin_end": 1.4,
            "count": 0
           },
           {
            "bin_start": 1.4,
            "bin_end": 1.5,
            "count": 0
           }
          ]
         }
        },
        {
         "name": "a2",
         "dtype": "int64",
         "stats": {
          "unique_count": 1,
          "nan_count": 0,
          "min": "1",
          "max": "1",
          "histogram": [
           {
            "bin_start": 0.5,
            "bin_end": 0.6,
            "count": 0
           },
           {
            "bin_start": 0.6,
            "bin_end": 0.7,
            "count": 0
           },
           {
            "bin_start": 0.7,
            "bin_end": 0.8,
            "count": 0
           },
           {
            "bin_start": 0.8,
            "bin_end": 0.9,
            "count": 0
           },
           {
            "bin_start": 0.9,
            "bin_end": 1,
            "count": 0
           },
           {
            "bin_start": 1,
            "bin_end": 1.1,
            "count": 5
           },
           {
            "bin_start": 1.1,
            "bin_end": 1.2000000000000002,
            "count": 0
           },
           {
            "bin_start": 1.2000000000000002,
            "bin_end": 1.3,
            "count": 0
           },
           {
            "bin_start": 1.3,
            "bin_end": 1.4,
            "count": 0
           },
           {
            "bin_start": 1.4,
            "bin_end": 1.5,
            "count": 0
           }
          ]
         }
        },
        {
         "name": "a3",
         "dtype": "int64",
         "stats": {
          "unique_count": 1,
          "nan_count": 0,
          "min": "1",
          "max": "1",
          "histogram": [
           {
            "bin_start": 0.5,
            "bin_end": 0.6,
            "count": 0
           },
           {
            "bin_start": 0.6,
            "bin_end": 0.7,
            "count": 0
           },
           {
            "bin_start": 0.7,
            "bin_end": 0.8,
            "count": 0
           },
           {
            "bin_start": 0.8,
            "bin_end": 0.9,
            "count": 0
           },
           {
            "bin_start": 0.9,
            "bin_end": 1,
            "count": 0
           },
           {
            "bin_start": 1,
            "bin_end": 1.1,
            "count": 5
           },
           {
            "bin_start": 1.1,
            "bin_end": 1.2000000000000002,
            "count": 0
           },
           {
            "bin_start": 1.2000000000000002,
            "bin_end": 1.3,
            "count": 0
           },
           {
            "bin_start": 1.3,
            "bin_end": 1.4,
            "count": 0
           },
           {
            "bin_start": 1.4,
            "bin_end": 1.5,
            "count": 0
           }
          ]
         }
        },
        {
         "name": "a4",
         "dtype": "int64",
         "stats": {
          "unique_count": 1,
          "nan_count": 0,
          "min": "1",
          "max": "1",
          "histogram": [
           {
            "bin_start": 0.5,
            "bin_end": 0.6,
            "count": 0
           },
           {
            "bin_start": 0.6,
            "bin_end": 0.7,
            "count": 0
           },
           {
            "bin_start": 0.7,
            "bin_end": 0.8,
            "count": 0
           },
           {
            "bin_start": 0.8,
            "bin_end": 0.9,
            "count": 0
           },
           {
            "bin_start": 0.9,
            "bin_end": 1,
            "count": 0
           },
           {
            "bin_start": 1,
            "bin_end": 1.1,
            "count": 5
           },
           {
            "bin_start": 1.1,
            "bin_end": 1.2000000000000002,
            "count": 0
           },
           {
            "bin_start": 1.2000000000000002,
            "bin_end": 1.3,
            "count": 0
           },
           {
            "bin_start": 1.3,
            "bin_end": 1.4,
            "count": 0
           },
           {
            "bin_start": 1.4,
            "bin_end": 1.5,
            "count": 0
           }
          ]
         }
        },
        {
         "name": "a5",
         "dtype": "int64",
         "stats": {
          "unique_count": 4,
          "nan_count": 0,
          "min": "1",
          "max": "4",
          "histogram": [
           {
            "bin_start": 1,
            "bin_end": 1.3,
            "count": 1
           },
           {
            "bin_start": 1.3,
            "bin_end": 1.6,
            "count": 0
           },
           {
            "bin_start": 1.6,
            "bin_end": 1.9,
            "count": 0
           },
           {
            "bin_start": 1.9,
            "bin_end": 2.2,
            "count": 2
           },
           {
            "bin_start": 2.2,
            "bin_end": 2.5,
            "count": 0
           },
           {
            "bin_start": 2.5,
            "bin_end": 2.8,
            "count": 0
           },
           {
            "bin_start": 2.8,
            "bin_end": 3.1,
            "count": 1
           },
           {
            "bin_start": 3.1,
            "bin_end": 3.4,
            "count": 0
           },
           {
            "bin_start": 3.4,
            "bin_end": 3.6999999999999997,
            "count": 0
           },
           {
            "bin_start": 3.6999999999999997,
            "bin_end": 4,
            "count": 1
           }
          ]
         }
        },
        {
         "name": "a6",
         "dtype": "int64",
         "stats": {
          "unique_count": 2,
          "nan_count": 0,
          "min": "1",
          "max": "2",
          "histogram": [
           {
            "bin_start": 1,
            "bin_end": 1.1,
            "count": 3
           },
           {
            "bin_start": 1.1,
            "bin_end": 1.2,
            "count": 0
           },
           {
            "bin_start": 1.2,
            "bin_end": 1.3,
            "count": 0
           },
           {
            "bin_start": 1.3,
            "bin_end": 1.4,
            "count": 0
           },
           {
            "bin_start": 1.4,
            "bin_end": 1.5,
            "count": 0
           },
           {
            "bin_start": 1.5,
            "bin_end": 1.6,
            "count": 0
           },
           {
            "bin_start": 1.6,
            "bin_end": 1.7000000000000002,
            "count": 0
           },
           {
            "bin_start": 1.7000000000000002,
            "bin_end": 1.8,
            "count": 0
           },
           {
            "bin_start": 1.8,
            "bin_end": 1.9,
            "count": 0
           },
           {
            "bin_start": 1.9,
            "bin_end": 2,
            "count": 2
           }
          ]
         }
        },
        {
         "name": "_deepnote_index_column",
         "dtype": "int64"
        }
       ],
       "rows": [
        {
         "class": 1,
         "a1": 1,
         "a2": 1,
         "a3": 1,
         "a4": 1,
         "a5": 1,
         "a6": 2,
         "_deepnote_index_column": 0
        },
        {
         "class": 1,
         "a1": 1,
         "a2": 1,
         "a3": 1,
         "a4": 1,
         "a5": 2,
         "a6": 1,
         "_deepnote_index_column": 1
        },
        {
         "class": 1,
         "a1": 1,
         "a2": 1,
         "a3": 1,
         "a4": 1,
         "a5": 2,
         "a6": 2,
         "_deepnote_index_column": 2
        },
        {
         "class": 0,
         "a1": 1,
         "a2": 1,
         "a3": 1,
         "a4": 1,
         "a5": 3,
         "a6": 1,
         "_deepnote_index_column": 3
        },
        {
         "class": 0,
         "a1": 1,
         "a2": 1,
         "a3": 1,
         "a4": 1,
         "a5": 4,
         "a6": 1,
         "_deepnote_index_column": 4
        }
       ]
      },
      "text/plain": "   class  a1  a2  a3  a4  a5  a6\n0      1   1   1   1   1   1   2\n1      1   1   1   1   1   2   1\n2      1   1   1   1   1   2   2\n3      0   1   1   1   1   3   1\n4      0   1   1   1   1   4   1",
      "text/html": "<div>\n<style scoped>\n    .dataframe tbody tr th:only-of-type {\n        vertical-align: middle;\n    }\n\n    .dataframe tbody tr th {\n        vertical-align: top;\n    }\n\n    .dataframe thead th {\n        text-align: right;\n    }\n</style>\n<table border=\"1\" class=\"dataframe\">\n  <thead>\n    <tr style=\"text-align: right;\">\n      <th></th>\n      <th>class</th>\n      <th>a1</th>\n      <th>a2</th>\n      <th>a3</th>\n      <th>a4</th>\n      <th>a5</th>\n      <th>a6</th>\n    </tr>\n  </thead>\n  <tbody>\n    <tr>\n      <th>0</th>\n      <td>1</td>\n      <td>1</td>\n      <td>1</td>\n      <td>1</td>\n      <td>1</td>\n      <td>1</td>\n      <td>2</td>\n    </tr>\n    <tr>\n      <th>1</th>\n      <td>1</td>\n      <td>1</td>\n      <td>1</td>\n      <td>1</td>\n      <td>1</td>\n      <td>2</td>\n      <td>1</td>\n    </tr>\n    <tr>\n      <th>2</th>\n      <td>1</td>\n      <td>1</td>\n      <td>1</td>\n      <td>1</td>\n      <td>1</td>\n      <td>2</td>\n      <td>2</td>\n    </tr>\n    <tr>\n      <th>3</th>\n      <td>0</td>\n      <td>1</td>\n      <td>1</td>\n      <td>1</td>\n      <td>1</td>\n      <td>3</td>\n      <td>1</td>\n    </tr>\n    <tr>\n      <th>4</th>\n      <td>0</td>\n      <td>1</td>\n      <td>1</td>\n      <td>1</td>\n      <td>1</td>\n      <td>4</td>\n      <td>1</td>\n    </tr>\n  </tbody>\n</table>\n</div>"
     },
     "metadata": {}
    }
   ],
   "execution_count": null
  },
  {
   "cell_type": "markdown",
   "source": "### Splitting MONK3 dataset",
   "metadata": {
    "cell_id": "00051-7d727c90-0273-44f5-9795-9860cd9bb36b",
    "tags": [],
    "deepnote_cell_type": "markdown"
   }
  },
  {
   "cell_type": "code",
   "metadata": {
    "cell_id": "00028-8ca44002-3174-4694-ba93-deacf418f54c",
    "deepnote_to_be_reexecuted": false,
    "execution_millis": 10,
    "execution_start": 1642254032603,
    "source_hash": "a1418039",
    "tags": [],
    "output_cleared": true,
    "deepnote_cell_type": "code"
   },
   "source": "X_train_M3, y_train_M3, X_test_M3, y_test_M3 = split_train_test(df_monk3_train, df_monk3_test)",
   "execution_count": null,
   "outputs": []
  },
  {
   "cell_type": "markdown",
   "source": "### One hot encoding on MONK3",
   "metadata": {
    "cell_id": "00053-79b113d1-28a9-42f1-a60d-f4046f036549",
    "tags": [],
    "deepnote_cell_type": "markdown"
   }
  },
  {
   "cell_type": "code",
   "metadata": {
    "cell_id": "00029-ed3ccbdb-aa56-4112-b01a-2d8f8a4876be",
    "deepnote_to_be_reexecuted": false,
    "execution_millis": 39,
    "execution_start": 1642254032618,
    "source_hash": "7b938f1f",
    "tags": [],
    "output_cleared": false,
    "deepnote_cell_type": "code"
   },
   "source": "enc_train = OneHotEncoder()\nenc_train.fit(X_train_M3)\nX_train_M3 = enc_train.transform(X_train_M3).toarray()\nprint(X_train_M3.shape)\n\nenc_test = OneHotEncoder()\nenc_test.fit(X_test_M3)\nX_test_M3 = enc_test.transform(X_test_M3).toarray()\nprint(X_test_M3.shape)",
   "outputs": [
    {
     "name": "stdout",
     "text": "(122, 17)\n(432, 17)\n",
     "output_type": "stream"
    }
   ],
   "execution_count": null
  },
  {
   "cell_type": "markdown",
   "source": "### Training phase on MONK3",
   "metadata": {
    "cell_id": "00055-767c45fa-ae9a-442c-891a-84a43a15e8a3",
    "tags": [],
    "deepnote_cell_type": "markdown"
   }
  },
  {
   "cell_type": "code",
   "metadata": {
    "cell_id": "00030-91805f62-b6cb-48ea-bc5f-6c07105f70a6",
    "deepnote_to_be_reexecuted": false,
    "execution_millis": 5403,
    "execution_start": 1642254032658,
    "source_hash": "d1e69f0b",
    "tags": [],
    "output_cleared": true,
    "deepnote_cell_type": "code"
   },
   "source": "classifier_M3 = MLPClassifier(random_state=RS_NUMBER, batch_size=1, alpha=0.015).fit(X_train_M3, y_train_M3)\neval_model = MLPClassifier(random_state=RS_NUMBER, batch_size=1, alpha = 0.015)",
   "execution_count": null,
   "outputs": []
  },
  {
   "cell_type": "code",
   "metadata": {
    "cell_id": "00057-e7c838fa-08a3-48da-8950-df6b7825fb9b",
    "deepnote_to_be_reexecuted": false,
    "execution_millis": 11002,
    "execution_start": 1642254038068,
    "source_hash": "c99473c1",
    "tags": [],
    "output_cleared": true,
    "deepnote_cell_type": "code"
   },
   "source": "train_scores_M3, test_scores_M3, train_loss_M3, test_loss_M3 = fit_and_score_monk(classifier_M3.n_iter_, eval_model, X_train_M3, y_train_M3, X_test_M3, y_test_M3)",
   "execution_count": null,
   "outputs": []
  },
  {
   "cell_type": "markdown",
   "source": "### Loss curve for MONK3",
   "metadata": {
    "cell_id": "00058-20db3155-0a03-45cc-b9a1-06fa3c4219b8",
    "tags": [],
    "deepnote_cell_type": "markdown"
   }
  },
  {
   "cell_type": "code",
   "metadata": {
    "cell_id": "00031-388f766f-4a89-4297-b010-a29e512920a4",
    "deepnote_output_heights": [
     482
    ],
    "deepnote_to_be_reexecuted": false,
    "execution_millis": 624,
    "execution_start": 1642254049084,
    "source_hash": "d4858002",
    "tags": [],
    "output_cleared": false,
    "deepnote_cell_type": "code"
   },
   "source": "plot_learning_curves(train_loss_M3, test_loss_M3, classifier_M3.n_iter_, \"Loss (BCE)\")",
   "outputs": [
    {
     "data": {
      "text/plain": "<Figure size 720x576 with 1 Axes>",
      "image/png": "[encoded data removed]"
     },
     "metadata": {
      "needs_background": "light",
      "image/png": {
       "width": 609,
       "height": 480
      }
     },
     "output_type": "display_data"
    }
   ],
   "execution_count": null
  },
  {
   "cell_type": "markdown",
   "source": "### Learning curves for MONK3",
   "metadata": {
    "cell_id": "00060-0f1f4796-2b6d-4a25-8ce1-a9d08fca1d7d",
    "tags": [],
    "deepnote_cell_type": "markdown"
   }
  },
  {
   "cell_type": "code",
   "metadata": {
    "cell_id": "00061-60043da1-0b2d-4698-955f-98100f679b08",
    "deepnote_output_heights": [
     482
    ],
    "deepnote_to_be_reexecuted": false,
    "execution_millis": 378,
    "execution_start": 1642254049707,
    "source_hash": "ff5f65d9",
    "tags": [],
    "output_cleared": false,
    "deepnote_cell_type": "code"
   },
   "source": "plot_learning_curves(train_scores_M3, test_scores_M3, classifier_M3.n_iter_, 'Accuracy')\n#normal settings tends to overfit, alpha was increased in order to regularize the model ",
   "outputs": [
    {
     "data": {
      "text/plain": "<Figure size 720x576 with 1 Axes>",
      "image/png": "[encoded data removed]"
     },
     "metadata": {
      "needs_background": "light",
      "image/png": {
       "width": 615,
       "height": 480
      }
     },
     "output_type": "display_data"
    }
   ],
   "execution_count": null
  },
  {
   "cell_type": "code",
   "metadata": {
    "cell_id": "00032-be8eff03-9a6c-4415-a3d7-ea43a53603c0",
    "deepnote_to_be_reexecuted": false,
    "execution_millis": 7,
    "execution_start": 1642254050085,
    "source_hash": "afa418d",
    "tags": [],
    "output_cleared": false,
    "deepnote_cell_type": "code"
   },
   "source": "y_predicted_M3 = classifier_M3.predict(X_test_M3)\nprint(f\"Accuracy on MONK3: {classifier_M3.score(X_test_M3, y_test_M3)}\")\nprint(f\"MEE on MONK3: {(np.linalg.norm(y_predicted_M3-y_test_M3))}\") # MEE distance (a.k.a. norm 2)",
   "outputs": [
    {
     "name": "stdout",
     "text": "Accuracy on MONK3: 0.9768518518518519\nMEE on MONK3: 3.1622776601683795\n",
     "output_type": "stream"
    }
   ],
   "execution_count": null
  },
  {
   "cell_type": "markdown",
   "source": "## Regression task",
   "metadata": {
    "cell_id": "00033-f377e8a8-d346-4c60-835a-b6b9f2df7021",
    "tags": [],
    "deepnote_cell_type": "markdown"
   }
  },
  {
   "cell_type": "markdown",
   "source": "### Preparing the training set",
   "metadata": {
    "cell_id": "00064-2058d5d5-7564-4bea-932b-0c17b1a3c160",
    "tags": [],
    "deepnote_cell_type": "markdown"
   }
  },
  {
   "cell_type": "code",
   "metadata": {
    "cell_id": "00034-07744eb7-186a-48ca-b217-0d7b58cd58b7",
    "deepnote_to_be_reexecuted": false,
    "execution_millis": 609358,
    "execution_start": 1642254050166,
    "source_hash": "192dcf",
    "tags": [],
    "output_cleared": true,
    "deepnote_cell_type": "code"
   },
   "source": "df_task_tr.drop(labels=\"idx\", axis=1, inplace=True)",
   "execution_count": null,
   "outputs": []
  },
  {
   "cell_type": "code",
   "metadata": {
    "cell_id": "00035-8acb3216-3652-45bf-91f4-a801eaba46ac",
    "deepnote_to_be_reexecuted": false,
    "execution_millis": 609367,
    "execution_start": 1642254050185,
    "source_hash": "8b598d07",
    "tags": [],
    "output_cleared": true,
    "deepnote_cell_type": "code"
   },
   "source": "y = df_task_tr[['x','y']].values\nX = df_task_tr.drop(labels=['x','y'], axis=1).values\nX_all = X\ny_all = y",
   "execution_count": null,
   "outputs": []
  },
  {
   "cell_type": "code",
   "metadata": {
    "cell_id": "00036-cd5f441c-e9e8-4aae-9ae2-35f1423cf422",
    "deepnote_to_be_reexecuted": false,
    "execution_millis": 609375,
    "execution_start": 1642254050207,
    "source_hash": "473a37ed",
    "tags": [],
    "output_cleared": false,
    "deepnote_cell_type": "code"
   },
   "source": "print(X.shape)\nprint(y.shape)",
   "outputs": [
    {
     "name": "stdout",
     "text": "(1477, 10)\n(1477, 2)\n",
     "output_type": "stream"
    }
   ],
   "execution_count": null
  },
  {
   "cell_type": "markdown",
   "source": "### Internal Test set\nWe split the data set obtaining an internal test set (10%), we will use this internal test at the end to test internally the generalization error",
   "metadata": {
    "cell_id": "00037-3313112a-3b16-420f-a0ae-c8178583d319",
    "tags": [],
    "deepnote_cell_type": "markdown"
   }
  },
  {
   "cell_type": "code",
   "metadata": {
    "cell_id": "00035-e835800e-5aa7-4b2e-af85-c104d99255f3",
    "deepnote_to_be_reexecuted": false,
    "execution_millis": 609385,
    "execution_start": 1642254050208,
    "source_hash": "d1f07bc2",
    "tags": [],
    "output_cleared": false,
    "deepnote_cell_type": "code"
   },
   "source": "X, X_internal_test, y, y_internal_test = train_test_split(X, y, test_size=0.1, random_state=RS_NUMBER)\nprint(f\"X shape: {X.shape}\")\nprint(f\"X internal test shape: {X_internal_test.shape}\")\nprint(f\"y shape: {y.shape}\")\nprint(f\"y internal test shape: {y_internal_test.shape}\")",
   "outputs": [
    {
     "name": "stdout",
     "text": "X shape: (1329, 10)\nX internal test shape: (148, 10)\ny shape: (1329, 2)\ny internal test shape: (148, 2)\n",
     "output_type": "stream"
    }
   ],
   "execution_count": null
  },
  {
   "cell_type": "code",
   "metadata": {
    "cell_id": "00052-5cffdfe0-8f87-4957-abcc-15ff679d9b9c",
    "deepnote_to_be_reexecuted": false,
    "execution_millis": 609350,
    "execution_start": 1642254050208,
    "source_hash": "368f9bc8",
    "tags": [],
    "output_cleared": true,
    "deepnote_cell_type": "code"
   },
   "source": "#trains the model with one iteration (epoch) and computes in output a list of train and test scores using MEE\ndef fit_and_score(epochs, eval_model, X_train, y_train, X_test, y_test):\n    train_scores = []\n    test_scores = []\n    train_loss = []\n    test_loss = []\n    for i in range(epochs):\n        eval_model = eval_model.partial_fit(X_train,y_train)\n        y_train_predicted = eval_model.predict(X_train)\n        y_test_predicted = eval_model.predict(X_test)\n        #results on train set\n        train_scores.append(mee(y_train, y_train_predicted))\n        test_scores.append(mean_squared_error(y_test, y_test_predicted))\n        #result on test set\n        train_loss.append(mee(y_train, y_train_predicted))\n        test_loss.append(mean_squared_error(y_test, y_test_predicted))\n    return train_scores, test_scores, train_loss, test_loss\n",
   "execution_count": null,
   "outputs": []
  },
  {
   "cell_type": "markdown",
   "source": "## Randomized Search",
   "metadata": {
    "cell_id": "00073-00634e3e-7aa5-4df0-88bd-6dcd2ac6f441",
    "tags": [],
    "deepnote_cell_type": "markdown"
   }
  },
  {
   "cell_type": "code",
   "metadata": {
    "tags": [],
    "cell_id": "00073-c57366cc-ea96-4696-b7a1-cb1173b69f00",
    "output_cleared": true,
    "deepnote_to_be_reexecuted": false,
    "source_hash": "e159b803",
    "execution_start": 1642254050209,
    "execution_millis": 609351,
    "deepnote_cell_type": "code"
   },
   "source": "# define the number of iterations\nn_iter_search = 2500\n# define number of k-folds\nk = 10",
   "execution_count": null,
   "outputs": []
  },
  {
   "cell_type": "code",
   "metadata": {
    "cell_id": "00074-634a3d0e-014c-4ea9-817f-231f64a5896b",
    "deepnote_output_heights": [
     null,
     347.5
    ],
    "deepnote_to_be_reexecuted": false,
    "execution_millis": 2,
    "execution_start": 1642254050213,
    "source_hash": "f59df5ae",
    "tags": [],
    "output_cleared": false,
    "deepnote_cell_type": "code"
   },
   "source": "%%script false --no-raise-error\n\n# to find the best set of parameter setting, we can run a randomized search\n\n# define the parameters' values\nparams = {\n    \"hidden_layer_sizes\": [\n        (5,),(10,),(25,),(50,),(100,),\n        (5, 5),(10, 10),(25, 25),(50, 50),(100, 100),],\n    \"activation\" : [\"logistic\", \"tanh\", \"relu\"],\n    \"solver\": [\"sgd\", \"adam\"],\n    \"learning_rate\": [\"constant\", \"adaptive\", \"invscaling\"],\n    \"learning_rate_init\": uniform(0.01, 0.5),\n    \"alpha\": uniform(0.0001, 0.1),\n    \"momentum\": [0.1, 0.3, 0.5, 0.7, 0.9, 1],\n    \"batch_size\": randint(1, X.shape[0]),\n    \"n_iter_no_change\": [5,15,25],\n    \"random_state\": [RS_NUMBER],\n    \"tol\": uniform(0.001,0.0001),\n    \"early_stopping\": [True],\n    \"validation_fraction\": [0.2],\n    \"max_iter\": [5000],\n}\n\n# define the grid search\nrand_gs = RandomizedSearchCV(\n    MLPRegressor(),\n    param_distributions=params,\n    n_iter=n_iter_search,\n    n_jobs=-1,\n    scoring=make_scorer(mee), #scoring is based on the highest value\n    cv=k,\n    random_state=RS_NUMBER,\n    verbose=10\n)\n# run the grid search\nrand_gs.fit(X, y)\n",
   "outputs": [],
   "execution_count": null
  },
  {
   "cell_type": "code",
   "metadata": {
    "tags": [],
    "cell_id": "00075-966a1466-9e9c-455b-a1ec-07365ce66984",
    "deepnote_to_be_reexecuted": false,
    "source_hash": "ad4ee3e4",
    "execution_start": 1642254050259,
    "execution_millis": 44,
    "deepnote_cell_type": "code"
   },
   "source": "%%script false --no-raise-error\n\ndf_results = pd.DataFrame(data=rand_gs.cv_results_) #trasform into a pandas dataframe\ndf_results.sort_values(by=\"rank_test_score\", axis=0, ascending=False, inplace=True) #sort rank values in decreasing order \ndf_results.dropna(inplace=True) #delete nan values \ndf_results = df_results[:50] #keep only top 50 models\npd.DataFrame.to_csv(df_results, \"sklearn_results/rand1_search.csv\")",
   "outputs": [],
   "execution_count": null
  },
  {
   "cell_type": "code",
   "metadata": {
    "cell_id": "00076-f458920b-df72-4aed-8cf0-4008e8633a15",
    "deepnote_to_be_reexecuted": false,
    "source_hash": "597f1dd",
    "execution_start": 1642254050303,
    "execution_millis": 172,
    "output_cleared": false,
    "deepnote_cell_type": "code"
   },
   "source": "df_results = pd.read_csv(\"sklearn_results/rand1_search.csv\")\ndf_results.head()\n",
   "outputs": [
    {
     "output_type": "execute_result",
     "execution_count": 44,
     "data": {
      "application/vnd.deepnote.dataframe.v3+json": {
       "column_count": 33,
       "row_count": 5,
       "columns": [
        {
         "name": "Unnamed: 0",
         "dtype": "int64",
         "stats": {
          "unique_count": 5,
          "nan_count": 0,
          "min": "1161",
          "max": "2438",
          "histogram": [
           {
            "bin_start": 1161,
            "bin_end": 1288.7,
            "count": 2
           },
           {
            "bin_start": 1288.7,
            "bin_end": 1416.4,
            "count": 0
           },
           {
            "bin_start": 1416.4,
            "bin_end": 1544.1,
            "count": 0
           },
           {
            "bin_start": 1544.1,
            "bin_end": 1671.8,
            "count": 0
           },
           {
            "bin_start": 1671.8,
            "bin_end": 1799.5,
            "count": 0
           },
           {
            "bin_start": 1799.5,
            "bin_end": 1927.2,
            "count": 1
           },
           {
            "bin_start": 1927.2,
            "bin_end": 2054.9,
            "count": 1
           },
           {
            "bin_start": 2054.9,
            "bin_end": 2182.6,
            "count": 0
           },
           {
            "bin_start": 2182.6,
            "bin_end": 2310.3,
            "count": 0
           },
           {
            "bin_start": 2310.3,
            "bin_end": 2438,
            "count": 1
           }
          ]
         }
        },
        {
         "name": "mean_fit_time",
         "dtype": "float64",
         "stats": {
          "unique_count": 5,
          "nan_count": 0,
          "min": "0.3234375715255737",
          "max": "3.045948791503906",
          "histogram": [
           {
            "bin_start": 0.3234375715255737,
            "bin_end": 0.5956886935234069,
            "count": 1
           },
           {
            "bin_start": 0.5956886935234069,
            "bin_end": 0.8679398155212401,
            "count": 1
           },
           {
            "bin_start": 0.8679398155212401,
            "bin_end": 1.1401909375190735,
            "count": 1
           },
           {
            "bin_start": 1.1401909375190735,
            "bin_end": 1.4124420595169067,
            "count": 0
           },
           {
            "bin_start": 1.4124420595169067,
            "bin_end": 1.68469318151474,
            "count": 0
           },
           {
            "bin_start": 1.68469318151474,
            "bin_end": 1.9569443035125733,
            "count": 1
           },
           {
            "bin_start": 1.9569443035125733,
            "bin_end": 2.2291954255104063,
            "count": 0
           },
           {
            "bin_start": 2.2291954255104063,
            "bin_end": 2.5014465475082397,
            "count": 0
           },
           {
            "bin_start": 2.5014465475082397,
            "bin_end": 2.773697669506073,
            "count": 0
           },
           {
            "bin_start": 2.773697669506073,
            "bin_end": 3.045948791503906,
            "count": 1
           }
          ]
         }
        },
        {
         "name": "std_fit_time",
         "dtype": "float64",
         "stats": {
          "unique_count": 5,
          "nan_count": 0,
          "min": "0.0474280841505423",
          "max": "0.5348578470653044",
          "histogram": [
           {
            "bin_start": 0.0474280841505423,
            "bin_end": 0.09617106044201851,
            "count": 1
           },
           {
            "bin_start": 0.09617106044201851,
            "bin_end": 0.14491403673349473,
            "count": 1
           },
           {
            "bin_start": 0.14491403673349473,
            "bin_end": 0.19365701302497093,
            "count": 0
           },
           {
            "bin_start": 0.19365701302497093,
            "bin_end": 0.24239998931644716,
            "count": 2
           },
           {
            "bin_start": 0.24239998931644716,
            "bin_end": 0.29114296560792335,
            "count": 0
           },
           {
            "bin_start": 0.29114296560792335,
            "bin_end": 0.3398859418993995,
            "count": 0
           },
           {
            "bin_start": 0.3398859418993995,
            "bin_end": 0.38862891819087575,
            "count": 0
           },
           {
            "bin_start": 0.38862891819087575,
            "bin_end": 0.437371894482352,
            "count": 0
           },
           {
            "bin_start": 0.437371894482352,
            "bin_end": 0.4861148707738282,
            "count": 0
           },
           {
            "bin_start": 0.4861148707738282,
            "bin_end": 0.5348578470653044,
            "count": 1
           }
          ]
         }
        },
        {
         "name": "mean_score_time",
         "dtype": "float64",
         "stats": {
          "unique_count": 5,
          "nan_count": 0,
          "min": "0.0012895584106445",
          "max": "0.0034681797027587",
          "histogram": [
           {
            "bin_start": 0.0012895584106445,
            "bin_end": 0.00150742053985592,
            "count": 2
           },
           {
            "bin_start": 0.00150742053985592,
            "bin_end": 0.00172528266906734,
            "count": 2
           },
           {
            "bin_start": 0.00172528266906734,
            "bin_end": 0.0019431447982787599,
            "count": 0
           },
           {
            "bin_start": 0.0019431447982787599,
            "bin_end": 0.0021610069274901797,
            "count": 0
           },
           {
            "bin_start": 0.0021610069274901797,
            "bin_end": 0.0023788690567015996,
            "count": 0
           },
           {
            "bin_start": 0.0023788690567015996,
            "bin_end": 0.00259673118591302,
            "count": 0
           },
           {
            "bin_start": 0.00259673118591302,
            "bin_end": 0.0028145933151244398,
            "count": 0
           },
           {
            "bin_start": 0.0028145933151244398,
            "bin_end": 0.0030324554443358596,
            "count": 0
           },
           {
            "bin_start": 0.0030324554443358596,
            "bin_end": 0.00325031757354728,
            "count": 0
           },
           {
            "bin_start": 0.00325031757354728,
            "bin_end": 0.0034681797027587,
            "count": 1
           }
          ]
         }
        },
        {
         "name": "std_score_time",
         "dtype": "float64",
         "stats": {
          "unique_count": 5,
          "nan_count": 0,
          "min": "0.0003785229773241",
          "max": "0.0008384971084537",
          "histogram": [
           {
            "bin_start": 0.0003785229773241,
            "bin_end": 0.00042452039043706,
            "count": 2
           },
           {
            "bin_start": 0.00042452039043706,
            "bin_end": 0.00047051780355002003,
            "count": 1
           },
           {
            "bin_start": 0.00047051780355002003,
            "bin_end": 0.00051651521666298,
            "count": 1
           },
           {
            "bin_start": 0.00051651521666298,
            "bin_end": 0.00056251262977594,
            "count": 0
           },
           {
            "bin_start": 0.00056251262977594,
            "bin_end": 0.0006085100428889,
            "count": 0
           },
           {
            "bin_start": 0.0006085100428889,
            "bin_end": 0.00065450745600186,
            "count": 0
           },
           {
            "bin_start": 0.00065450745600186,
            "bin_end": 0.0007005048691148201,
            "count": 0
           },
           {
            "bin_start": 0.0007005048691148201,
            "bin_end": 0.00074650228222778,
            "count": 0
           },
           {
            "bin_start": 0.00074650228222778,
            "bin_end": 0.00079249969534074,
            "count": 0
           },
           {
            "bin_start": 0.00079249969534074,
            "bin_end": 0.0008384971084537,
            "count": 1
           }
          ]
         }
        },
        {
         "name": "param_activation",
         "dtype": "object",
         "stats": {
          "unique_count": 2,
          "nan_count": 0,
          "categories": [
           {
            "name": "logistic",
            "count": 4
           },
           {
            "name": "tanh",
            "count": 1
           }
          ]
         }
        },
        {
         "name": "param_alpha",
         "dtype": "float64",
         "stats": {
          "unique_count": 5,
          "nan_count": 0,
          "min": "0.0199036642974723",
          "max": "0.0737435193597652",
          "histogram": [
           {
            "bin_start": 0.0199036642974723,
            "bin_end": 0.025287649803701594,
            "count": 1
           },
           {
            "bin_start": 0.025287649803701594,
            "bin_end": 0.030671635309930882,
            "count": 1
           },
           {
            "bin_start": 0.030671635309930882,
            "bin_end": 0.03605562081616018,
            "count": 1
           },
           {
            "bin_start": 0.03605562081616018,
            "bin_end": 0.041439606322389466,
            "count": 0
           },
           {
            "bin_start": 0.041439606322389466,
            "bin_end": 0.046823591828618755,
            "count": 0
           },
           {
            "bin_start": 0.046823591828618755,
            "bin_end": 0.05220757733484804,
            "count": 0
           },
           {
            "bin_start": 0.05220757733484804,
            "bin_end": 0.05759156284107733,
            "count": 1
           },
           {
            "bin_start": 0.05759156284107733,
            "bin_end": 0.06297554834730662,
            "count": 0
           },
           {
            "bin_start": 0.06297554834730662,
            "bin_end": 0.06835953385353591,
            "count": 0
           },
           {
            "bin_start": 0.06835953385353591,
            "bin_end": 0.0737435193597652,
            "count": 1
           }
          ]
         }
        },
        {
         "name": "param_batch_size",
         "dtype": "int64",
         "stats": {
          "unique_count": 5,
          "nan_count": 0,
          "min": "38",
          "max": "369",
          "histogram": [
           {
            "bin_start": 38,
            "bin_end": 71.1,
            "count": 1
           },
           {
            "bin_start": 71.1,
            "bin_end": 104.2,
            "count": 1
           },
           {
            "bin_start": 104.2,
            "bin_end": 137.3,
            "count": 0
           },
           {
            "bin_start": 137.3,
            "bin_end": 170.4,
            "count": 0
           },
           {
            "bin_start": 170.4,
            "bin_end": 203.5,
            "count": 1
           },
           {
            "bin_start": 203.5,
            "bin_end": 236.60000000000002,
            "count": 0
           },
           {
            "bin_start": 236.60000000000002,
            "bin_end": 269.70000000000005,
            "count": 0
           },
           {
            "bin_start": 269.70000000000005,
            "bin_end": 302.8,
            "count": 0
           },
           {
            "bin_start": 302.8,
            "bin_end": 335.90000000000003,
            "count": 1
           },
           {
            "bin_start": 335.90000000000003,
            "bin_end": 369,
            "count": 1
           }
          ]
         }
        },
        {
         "name": "param_early_stopping",
         "dtype": "bool",
         "stats": {
          "unique_count": 1,
          "nan_count": 0,
          "categories": [
           {
            "name": "True",
            "count": 5
           }
          ]
         }
        },
        {
         "name": "param_hidden_layer_sizes",
         "dtype": "object",
         "stats": {
          "unique_count": 4,
          "nan_count": 0,
          "categories": [
           {
            "name": "(25, 25)",
            "count": 2
           },
           {
            "name": "(100, 100)",
            "count": 1
           },
           {
            "name": "2 others",
            "count": 2
           }
          ]
         }
        },
        {
         "name": "param_learning_rate",
         "dtype": "object",
         "stats": {
          "unique_count": 3,
          "nan_count": 0,
          "categories": [
           {
            "name": "adaptive",
            "count": 2
           },
           {
            "name": "constant",
            "count": 2
           },
           {
            "name": "invscaling",
            "count": 1
           }
          ]
         }
        },
        {
         "name": "param_learning_rate_init",
         "dtype": "float64",
         "stats": {
          "unique_count": 5,
          "nan_count": 0,
          "min": "0.0310307082614756",
          "max": "0.173812585934427",
          "histogram": [
           {
            "bin_start": 0.0310307082614756,
            "bin_end": 0.04530889602877074,
            "count": 2
           },
           {
            "bin_start": 0.04530889602877074,
            "bin_end": 0.05958708379606588,
            "count": 0
           },
           {
            "bin_start": 0.05958708379606588,
            "bin_end": 0.073865271563361,
            "count": 1
           },
           {
            "bin_start": 0.073865271563361,
            "bin_end": 0.08814345933065615,
            "count": 0
           },
           {
            "bin_start": 0.08814345933065615,
            "bin_end": 0.10242164709795129,
            "count": 0
           },
           {
            "bin_start": 0.10242164709795129,
            "bin_end": 0.11669983486524642,
            "count": 0
           },
           {
            "bin_start": 0.11669983486524642,
            "bin_end": 0.13097802263254157,
            "count": 1
           },
           {
            "bin_start": 0.13097802263254157,
            "bin_end": 0.14525621039983672,
            "count": 0
           },
           {
            "bin_start": 0.14525621039983672,
            "bin_end": 0.15953439816713186,
            "count": 0
           },
           {
            "bin_start": 0.15953439816713186,
            "bin_end": 0.173812585934427,
            "count": 1
           }
          ]
         }
        },
        {
         "name": "param_max_iter",
         "dtype": "int64",
         "stats": {
          "unique_count": 1,
          "nan_count": 0,
          "min": "5000",
          "max": "5000",
          "histogram": [
           {
            "bin_start": 4999.5,
            "bin_end": 4999.6,
            "count": 0
           },
           {
            "bin_start": 4999.6,
            "bin_end": 4999.7,
            "count": 0
           },
           {
            "bin_start": 4999.7,
            "bin_end": 4999.8,
            "count": 0
           },
           {
            "bin_start": 4999.8,
            "bin_end": 4999.9,
            "count": 0
           },
           {
            "bin_start": 4999.9,
            "bin_end": 5000,
            "count": 0
           },
           {
            "bin_start": 5000,
            "bin_end": 5000.1,
            "count": 5
           },
           {
            "bin_start": 5000.1,
            "bin_end": 5000.2,
            "count": 0
           },
           {
            "bin_start": 5000.2,
            "bin_end": 5000.3,
            "count": 0
           },
           {
            "bin_start": 5000.3,
            "bin_end": 5000.4,
            "count": 0
           },
           {
            "bin_start": 5000.4,
            "bin_end": 5000.5,
            "count": 0
           }
          ]
         }
        },
        {
         "name": "param_momentum",
         "dtype": "float64",
         "stats": {
          "unique_count": 3,
          "nan_count": 0,
          "min": "0.1",
          "max": "1.0",
          "histogram": [
           {
            "bin_start": 0.1,
            "bin_end": 0.19,
            "count": 1
           },
           {
            "bin_start": 0.19,
            "bin_end": 0.28,
            "count": 0
           },
           {
            "bin_start": 0.28,
            "bin_end": 0.37,
            "count": 0
           },
           {
            "bin_start": 0.37,
            "bin_end": 0.45999999999999996,
            "count": 0
           },
           {
            "bin_start": 0.45999999999999996,
            "bin_end": 0.5499999999999999,
            "count": 2
           },
           {
            "bin_start": 0.5499999999999999,
            "bin_end": 0.64,
            "count": 0
           },
           {
            "bin_start": 0.64,
            "bin_end": 0.73,
            "count": 0
           },
           {
            "bin_start": 0.73,
            "bin_end": 0.82,
            "count": 0
           },
           {
            "bin_start": 0.82,
            "bin_end": 0.9099999999999999,
            "count": 0
           },
           {
            "bin_start": 0.9099999999999999,
            "bin_end": 1,
            "count": 2
           }
          ]
         }
        },
        {
         "name": "param_n_iter_no_change",
         "dtype": "int64",
         "stats": {
          "unique_count": 2,
          "nan_count": 0,
          "min": "15",
          "max": "25",
          "histogram": [
           {
            "bin_start": 15,
            "bin_end": 16,
            "count": 2
           },
           {
            "bin_start": 16,
            "bin_end": 17,
            "count": 0
           },
           {
            "bin_start": 17,
            "bin_end": 18,
            "count": 0
           },
           {
            "bin_start": 18,
            "bin_end": 19,
            "count": 0
           },
           {
            "bin_start": 19,
            "bin_end": 20,
            "count": 0
           },
           {
            "bin_start": 20,
            "bin_end": 21,
            "count": 0
           },
           {
            "bin_start": 21,
            "bin_end": 22,
            "count": 0
           },
           {
            "bin_start": 22,
            "bin_end": 23,
            "count": 0
           },
           {
            "bin_start": 23,
            "bin_end": 24,
            "count": 0
           },
           {
            "bin_start": 24,
            "bin_end": 25,
            "count": 3
           }
          ]
         }
        },
        {
         "name": "param_random_state",
         "dtype": "int64",
         "stats": {
          "unique_count": 1,
          "nan_count": 0,
          "min": "69",
          "max": "69",
          "histogram": [
           {
            "bin_start": 68.5,
            "bin_end": 68.6,
            "count": 0
           },
           {
            "bin_start": 68.6,
            "bin_end": 68.7,
            "count": 0
           },
           {
            "bin_start": 68.7,
            "bin_end": 68.8,
            "count": 0
           },
           {
            "bin_start": 68.8,
            "bin_end": 68.9,
            "count": 0
           },
           {
            "bin_start": 68.9,
            "bin_end": 69,
            "count": 0
           },
           {
            "bin_start": 69,
            "bin_end": 69.1,
            "count": 5
           },
           {
            "bin_start": 69.1,
            "bin_end": 69.2,
            "count": 0
           },
           {
            "bin_start": 69.2,
            "bin_end": 69.3,
            "count": 0
           },
           {
            "bin_start": 69.3,
            "bin_end": 69.4,
            "count": 0
           },
           {
            "bin_start": 69.4,
            "bin_end": 69.5,
            "count": 0
           }
          ]
         }
        },
        {
         "name": "param_solver",
         "dtype": "object",
         "stats": {
          "unique_count": 2,
          "nan_count": 0,
          "categories": [
           {
            "name": "adam",
            "count": 4
           },
           {
            "name": "sgd",
            "count": 1
           }
          ]
         }
        },
        {
         "name": "param_tol",
         "dtype": "float64",
         "stats": {
          "unique_count": 5,
          "nan_count": 0,
          "min": "0.0010123146699968",
          "max": "0.0010821289542964",
          "histogram": [
           {
            "bin_start": 0.0010123146699968,
            "bin_end": 0.00101929609842676,
            "count": 1
           },
           {
            "bin_start": 0.00101929609842676,
            "bin_end": 0.00102627752685672,
            "count": 0
           },
           {
            "bin_start": 0.00102627752685672,
            "bin_end": 0.00103325895528668,
            "count": 0
           },
           {
            "bin_start": 0.00103325895528668,
            "bin_end": 0.00104024038371664,
            "count": 1
           },
           {
            "bin_start": 0.00104024038371664,
            "bin_end": 0.0010472218121466,
            "count": 0
           },
           {
            "bin_start": 0.0010472218121466,
            "bin_end": 0.00105420324057656,
            "count": 0
           },
           {
            "bin_start": 0.00105420324057656,
            "bin_end": 0.00106118466900652,
            "count": 0
           },
           {
            "bin_start": 0.00106118466900652,
            "bin_end": 0.00106816609743648,
            "count": 1
           },
           {
            "bin_start": 0.00106816609743648,
            "bin_end": 0.00107514752586644,
            "count": 0
           },
           {
            "bin_start": 0.00107514752586644,
            "bin_end": 0.0010821289542964,
            "count": 2
           }
          ]
         }
        },
        {
         "name": "param_validation_fraction",
         "dtype": "float64",
         "stats": {
          "unique_count": 1,
          "nan_count": 0,
          "min": "0.2",
          "max": "0.2",
          "histogram": [
           {
            "bin_start": -0.3,
            "bin_end": -0.19999999999999998,
            "count": 0
           },
           {
            "bin_start": -0.19999999999999998,
            "bin_end": -0.09999999999999998,
            "count": 0
           },
           {
            "bin_start": -0.09999999999999998,
            "bin_end": 5.551115123125783e-17,
            "count": 0
           },
           {
            "bin_start": 5.551115123125783e-17,
            "bin_end": 0.10000000000000003,
            "count": 0
           },
           {
            "bin_start": 0.10000000000000003,
            "bin_end": 0.2,
            "count": 0
           },
           {
            "bin_start": 0.2,
            "bin_end": 0.3000000000000001,
            "count": 5
           },
           {
            "bin_start": 0.3000000000000001,
            "bin_end": 0.4000000000000001,
            "count": 0
           },
           {
            "bin_start": 0.4000000000000001,
            "bin_end": 0.5,
            "count": 0
           },
           {
            "bin_start": 0.5,
            "bin_end": 0.6000000000000001,
            "count": 0
           },
           {
            "bin_start": 0.6000000000000001,
            "bin_end": 0.7,
            "count": 0
           }
          ]
         }
        },
        {
         "name": "params",
         "dtype": "object",
         "stats": {
          "unique_count": 5,
          "nan_count": 0,
          "categories": [
           {
            "name": "{'activation': 'logistic', 'alpha': 0.057493403584900335, 'batch_size': 369, 'early_stopping': True, 'hidden_layer_sizes': (25, 25), 'learning_rate': 'adaptive', 'learning_rate_init': 0.06930818775723423, 'max_iter': 5000, 'momentum': 0.5, 'n_iter_no_change': 25, 'random_state': 69, 'solver': 'adam', 'tol': 0.0010756264781396601, 'validation_fraction': 0.2}",
            "count": 1
           },
           {
            "name": "{'activation': 'tanh', 'alpha': 0.03139361409166556, 'batch_size': 89, 'early_stopping': True, 'hidden_layer_sizes': (100, 100), 'learning_rate': 'invscaling', 'learning_rate_init': 0.03103070826147563, 'max_iter': 5000, 'momentum': 0.1, 'n_iter_no_change': 25, 'random_state': 69, 'solver': 'adam', 'tol': 0.0010123146699968445, 'validation_fraction': 0.2}",
            "count": 1
           },
           {
            "name": "3 others",
            "count": 3
           }
          ]
         }
        },
        {
         "name": "split0_test_score",
         "dtype": "float64",
         "stats": {
          "unique_count": 5,
          "nan_count": 0,
          "min": "1.011299007223545",
          "max": "1.1242729589077336",
          "histogram": [
           {
            "bin_start": 1.011299007223545,
            "bin_end": 1.0225964023919638,
            "count": 1
           },
           {
            "bin_start": 1.0225964023919638,
            "bin_end": 1.0338937975603828,
            "count": 0
           },
           {
            "bin_start": 1.0338937975603828,
            "bin_end": 1.0451911927288016,
            "count": 0
           },
           {
            "bin_start": 1.0451911927288016,
            "bin_end": 1.0564885878972206,
            "count": 0
           },
           {
            "bin_start": 1.0564885878972206,
            "bin_end": 1.0677859830656393,
            "count": 1
           },
           {
            "bin_start": 1.0677859830656393,
            "bin_end": 1.079083378234058,
            "count": 0
           },
           {
            "bin_start": 1.079083378234058,
            "bin_end": 1.090380773402477,
            "count": 2
           },
           {
            "bin_start": 1.090380773402477,
            "bin_end": 1.1016781685708958,
            "count": 0
           },
           {
            "bin_start": 1.1016781685708958,
            "bin_end": 1.1129755637393148,
            "count": 0
           },
           {
            "bin_start": 1.1129755637393148,
            "bin_end": 1.1242729589077336,
            "count": 1
           }
          ]
         }
        },
        {
         "name": "split1_test_score",
         "dtype": "float64",
         "stats": {
          "unique_count": 5,
          "nan_count": 0,
          "min": "0.994074457750869",
          "max": "1.085093308821929",
          "histogram": [
           {
            "bin_start": 0.994074457750869,
            "bin_end": 1.003176342857975,
            "count": 2
           },
           {
            "bin_start": 1.003176342857975,
            "bin_end": 1.012278227965081,
            "count": 0
           },
           {
            "bin_start": 1.012278227965081,
            "bin_end": 1.021380113072187,
            "count": 0
           },
           {
            "bin_start": 1.021380113072187,
            "bin_end": 1.030481998179293,
            "count": 0
           },
           {
            "bin_start": 1.030481998179293,
            "bin_end": 1.039583883286399,
            "count": 0
           },
           {
            "bin_start": 1.039583883286399,
            "bin_end": 1.048685768393505,
            "count": 1
           },
           {
            "bin_start": 1.048685768393505,
            "bin_end": 1.057787653500611,
            "count": 1
           },
           {
            "bin_start": 1.057787653500611,
            "bin_end": 1.066889538607717,
            "count": 0
           },
           {
            "bin_start": 1.066889538607717,
            "bin_end": 1.075991423714823,
            "count": 0
           },
           {
            "bin_start": 1.075991423714823,
            "bin_end": 1.085093308821929,
            "count": 1
           }
          ]
         }
        },
        {
         "name": "split2_test_score",
         "dtype": "float64",
         "stats": {
          "unique_count": 5,
          "nan_count": 0,
          "min": "1.0946475278016543",
          "max": "1.1826002782974276",
          "histogram": [
           {
            "bin_start": 1.0946475278016543,
            "bin_end": 1.1034428028512315,
            "count": 1
           },
           {
            "bin_start": 1.1034428028512315,
            "bin_end": 1.112238077900809,
            "count": 0
           },
           {
            "bin_start": 1.112238077900809,
            "bin_end": 1.1210333529503864,
            "count": 0
           },
           {
            "bin_start": 1.1210333529503864,
            "bin_end": 1.1298286279999636,
            "count": 2
           },
           {
            "bin_start": 1.1298286279999636,
            "bin_end": 1.1386239030495409,
            "count": 0
           },
           {
            "bin_start": 1.1386239030495409,
            "bin_end": 1.1474191780991183,
            "count": 0
           },
           {
            "bin_start": 1.1474191780991183,
            "bin_end": 1.1562144531486958,
            "count": 1
           },
           {
            "bin_start": 1.1562144531486958,
            "bin_end": 1.165009728198273,
            "count": 0
           },
           {
            "bin_start": 1.165009728198273,
            "bin_end": 1.1738050032478502,
            "count": 0
           },
           {
            "bin_start": 1.1738050032478502,
            "bin_end": 1.1826002782974276,
            "count": 1
           }
          ]
         }
        },
        {
         "name": "split3_test_score",
         "dtype": "float64",
         "stats": {
          "unique_count": 5,
          "nan_count": 0,
          "min": "1.1747497444953383",
          "max": "1.3049025992602028",
          "histogram": [
           {
            "bin_start": 1.1747497444953383,
            "bin_end": 1.1877650299718248,
            "count": 1
           },
           {
            "bin_start": 1.1877650299718248,
            "bin_end": 1.2007803154483112,
            "count": 0
           },
           {
            "bin_start": 1.2007803154483112,
            "bin_end": 1.2137956009247977,
            "count": 1
           },
           {
            "bin_start": 1.2137956009247977,
            "bin_end": 1.226810886401284,
            "count": 0
           },
           {
            "bin_start": 1.226810886401284,
            "bin_end": 1.2398261718777706,
            "count": 0
           },
           {
            "bin_start": 1.2398261718777706,
            "bin_end": 1.252841457354257,
            "count": 1
           },
           {
            "bin_start": 1.252841457354257,
            "bin_end": 1.2658567428307435,
            "count": 1
           },
           {
            "bin_start": 1.2658567428307435,
            "bin_end": 1.27887202830723,
            "count": 0
           },
           {
            "bin_start": 1.27887202830723,
            "bin_end": 1.2918873137837164,
            "count": 0
           },
           {
            "bin_start": 1.2918873137837164,
            "bin_end": 1.3049025992602028,
            "count": 1
           }
          ]
         }
        },
        {
         "name": "split4_test_score",
         "dtype": "float64",
         "stats": {
          "unique_count": 5,
          "nan_count": 0,
          "min": "1.2054276620349174",
          "max": "1.2597019505862932",
          "histogram": [
           {
            "bin_start": 1.2054276620349174,
            "bin_end": 1.210855090890055,
            "count": 1
           },
           {
            "bin_start": 1.210855090890055,
            "bin_end": 1.2162825197451925,
            "count": 0
           },
           {
            "bin_start": 1.2162825197451925,
            "bin_end": 1.22170994860033,
            "count": 0
           },
           {
            "bin_start": 1.22170994860033,
            "bin_end": 1.2271373774554677,
            "count": 0
           },
           {
            "bin_start": 1.2271373774554677,
            "bin_end": 1.2325648063106054,
            "count": 2
           },
           {
            "bin_start": 1.2325648063106054,
            "bin_end": 1.2379922351657429,
            "count": 0
           },
           {
            "bin_start": 1.2379922351657429,
            "bin_end": 1.2434196640208803,
            "count": 1
           },
           {
            "bin_start": 1.2434196640208803,
            "bin_end": 1.248847092876018,
            "count": 0
           },
           {
            "bin_start": 1.248847092876018,
            "bin_end": 1.2542745217311557,
            "count": 0
           },
           {
            "bin_start": 1.2542745217311557,
            "bin_end": 1.2597019505862932,
            "count": 1
           }
          ]
         }
        },
        {
         "name": "split5_test_score",
         "dtype": "float64",
         "stats": {
          "unique_count": 5,
          "nan_count": 0,
          "min": "1.201839178298187",
          "max": "1.2414962079372438",
          "histogram": [
           {
            "bin_start": 1.201839178298187,
            "bin_end": 1.2058048812620927,
            "count": 2
           },
           {
            "bin_start": 1.2058048812620927,
            "bin_end": 1.2097705842259983,
            "count": 0
           },
           {
            "bin_start": 1.2097705842259983,
            "bin_end": 1.213736287189904,
            "count": 0
           },
           {
            "bin_start": 1.213736287189904,
            "bin_end": 1.2177019901538098,
            "count": 0
           },
           {
            "bin_start": 1.2177019901538098,
            "bin_end": 1.2216676931177153,
            "count": 0
           },
           {
            "bin_start": 1.2216676931177153,
            "bin_end": 1.225633396081621,
            "count": 0
           },
           {
            "bin_start": 1.225633396081621,
            "bin_end": 1.2295990990455268,
            "count": 0
           },
           {
            "bin_start": 1.2295990990455268,
            "bin_end": 1.2335648020094325,
            "count": 1
           },
           {
            "bin_start": 1.2335648020094325,
            "bin_end": 1.237530504973338,
            "count": 0
           },
           {
            "bin_start": 1.237530504973338,
            "bin_end": 1.2414962079372438,
            "count": 2
           }
          ]
         }
        },
        {
         "name": "split6_test_score",
         "dtype": "float64",
         "stats": {
          "unique_count": 5,
          "nan_count": 0,
          "min": "1.0956092272986528",
          "max": "1.162274906485877",
          "histogram": [
           {
            "bin_start": 1.0956092272986528,
            "bin_end": 1.1022757952173752,
            "count": 1
           },
           {
            "bin_start": 1.1022757952173752,
            "bin_end": 1.1089423631360977,
            "count": 0
           },
           {
            "bin_start": 1.1089423631360977,
            "bin_end": 1.11560893105482,
            "count": 0
           },
           {
            "bin_start": 1.11560893105482,
            "bin_end": 1.1222754989735426,
            "count": 0
           },
           {
            "bin_start": 1.1222754989735426,
            "bin_end": 1.128942066892265,
            "count": 0
           },
           {
            "bin_start": 1.128942066892265,
            "bin_end": 1.1356086348109873,
            "count": 0
           },
           {
            "bin_start": 1.1356086348109873,
            "bin_end": 1.1422752027297098,
            "count": 1
           },
           {
            "bin_start": 1.1422752027297098,
            "bin_end": 1.1489417706484322,
            "count": 1
           },
           {
            "bin_start": 1.1489417706484322,
            "bin_end": 1.1556083385671547,
            "count": 0
           },
           {
            "bin_start": 1.1556083385671547,
            "bin_end": 1.162274906485877,
            "count": 2
           }
          ]
         }
        },
        {
         "name": "split7_test_score",
         "dtype": "float64",
         "stats": {
          "unique_count": 5,
          "nan_count": 0,
          "min": "1.053841098979697",
          "max": "1.091507043126859",
          "histogram": [
           {
            "bin_start": 1.053841098979697,
            "bin_end": 1.0576076933944132,
            "count": 3
           },
           {
            "bin_start": 1.0576076933944132,
            "bin_end": 1.0613742878091292,
            "count": 0
           },
           {
            "bin_start": 1.0613742878091292,
            "bin_end": 1.0651408822238455,
            "count": 0
           },
           {
            "bin_start": 1.0651408822238455,
            "bin_end": 1.0689074766385618,
            "count": 0
           },
           {
            "bin_start": 1.0689074766385618,
            "bin_end": 1.072674071053278,
            "count": 0
           },
           {
            "bin_start": 1.072674071053278,
            "bin_end": 1.076440665467994,
            "count": 0
           },
           {
            "bin_start": 1.076440665467994,
            "bin_end": 1.0802072598827104,
            "count": 1
           },
           {
            "bin_start": 1.0802072598827104,
            "bin_end": 1.0839738542974267,
            "count": 0
           },
           {
            "bin_start": 1.0839738542974267,
            "bin_end": 1.0877404487121427,
            "count": 0
           },
           {
            "bin_start": 1.0877404487121427,
            "bin_end": 1.091507043126859,
            "count": 1
           }
          ]
         }
        },
        {
         "name": "split8_test_score",
         "dtype": "float64",
         "stats": {
          "unique_count": 5,
          "nan_count": 0,
          "min": "1.138300822921122",
          "max": "1.257512005639866",
          "histogram": [
           {
            "bin_start": 1.138300822921122,
            "bin_end": 1.1502219411929964,
            "count": 1
           },
           {
            "bin_start": 1.1502219411929964,
            "bin_end": 1.1621430594648707,
            "count": 0
           },
           {
            "bin_start": 1.1621430594648707,
            "bin_end": 1.1740641777367453,
            "count": 0
           },
           {
            "bin_start": 1.1740641777367453,
            "bin_end": 1.1859852960086197,
            "count": 0
           },
           {
            "bin_start": 1.1859852960086197,
            "bin_end": 1.197906414280494,
            "count": 0
           },
           {
            "bin_start": 1.197906414280494,
            "bin_end": 1.2098275325523684,
            "count": 0
           },
           {
            "bin_start": 1.2098275325523684,
            "bin_end": 1.2217486508242428,
            "count": 1
           },
           {
            "bin_start": 1.2217486508242428,
            "bin_end": 1.2336697690961174,
            "count": 1
           },
           {
            "bin_start": 1.2336697690961174,
            "bin_end": 1.2455908873679917,
            "count": 1
           },
           {
            "bin_start": 1.2455908873679917,
            "bin_end": 1.257512005639866,
            "count": 1
           }
          ]
         }
        },
        {
         "name": "split9_test_score",
         "dtype": "float64",
         "stats": {
          "unique_count": 5,
          "nan_count": 0,
          "min": "1.0162170512475943",
          "max": "1.1042881828823063",
          "histogram": [
           {
            "bin_start": 1.0162170512475943,
            "bin_end": 1.0250241644110656,
            "count": 1
           },
           {
            "bin_start": 1.0250241644110656,
            "bin_end": 1.0338312775745366,
            "count": 1
           },
           {
            "bin_start": 1.0338312775745366,
            "bin_end": 1.042638390738008,
            "count": 1
           },
           {
            "bin_start": 1.042638390738008,
            "bin_end": 1.0514455039014792,
            "count": 0
           },
           {
            "bin_start": 1.0514455039014792,
            "bin_end": 1.0602526170649504,
            "count": 0
           },
           {
            "bin_start": 1.0602526170649504,
            "bin_end": 1.0690597302284215,
            "count": 1
           },
           {
            "bin_start": 1.0690597302284215,
            "bin_end": 1.0778668433918928,
            "count": 0
           },
           {
            "bin_start": 1.0778668433918928,
            "bin_end": 1.086673956555364,
            "count": 0
           },
           {
            "bin_start": 1.086673956555364,
            "bin_end": 1.095481069718835,
            "count": 0
           },
           {
            "bin_start": 1.095481069718835,
            "bin_end": 1.1042881828823063,
            "count": 1
           }
          ]
         }
        },
        {
         "name": "mean_test_score",
         "dtype": "float64",
         "stats": {
          "unique_count": 5,
          "nan_count": 0,
          "min": "1.1174439906541251",
          "max": "1.14880863672709",
          "histogram": [
           {
            "bin_start": 1.1174439906541251,
            "bin_end": 1.1205804552614216,
            "count": 1
           },
           {
            "bin_start": 1.1205804552614216,
            "bin_end": 1.123716919868718,
            "count": 0
           },
           {
            "bin_start": 1.123716919868718,
            "bin_end": 1.1268533844760147,
            "count": 0
           },
           {
            "bin_start": 1.1268533844760147,
            "bin_end": 1.1299898490833111,
            "count": 0
           },
           {
            "bin_start": 1.1299898490833111,
            "bin_end": 1.1331263136906076,
            "count": 0
           },
           {
            "bin_start": 1.1331263136906076,
            "bin_end": 1.136262778297904,
            "count": 0
           },
           {
            "bin_start": 1.136262778297904,
            "bin_end": 1.1393992429052004,
            "count": 0
           },
           {
            "bin_start": 1.1393992429052004,
            "bin_end": 1.1425357075124971,
            "count": 0
           },
           {
            "bin_start": 1.1425357075124971,
            "bin_end": 1.1456721721197936,
            "count": 0
           },
           {
            "bin_start": 1.1456721721197936,
            "bin_end": 1.14880863672709,
            "count": 4
           }
          ]
         }
        },
        {
         "name": "std_test_score",
         "dtype": "float64",
         "stats": {
          "unique_count": 5,
          "nan_count": 0,
          "min": "0.0694901792732248",
          "max": "0.0965400483797765",
          "histogram": [
           {
            "bin_start": 0.0694901792732248,
            "bin_end": 0.07219516618387997,
            "count": 1
           },
           {
            "bin_start": 0.07219516618387997,
            "bin_end": 0.07490015309453514,
            "count": 0
           },
           {
            "bin_start": 0.07490015309453514,
            "bin_end": 0.07760514000519031,
            "count": 0
           },
           {
            "bin_start": 0.07760514000519031,
            "bin_end": 0.08031012691584548,
            "count": 1
           },
           {
            "bin_start": 0.08031012691584548,
            "bin_end": 0.08301511382650065,
            "count": 1
           },
           {
            "bin_start": 0.08301511382650065,
            "bin_end": 0.08572010073715583,
            "count": 1
           },
           {
            "bin_start": 0.08572010073715583,
            "bin_end": 0.088425087647811,
            "count": 0
           },
           {
            "bin_start": 0.088425087647811,
            "bin_end": 0.09113007455846617,
            "count": 0
           },
           {
            "bin_start": 0.09113007455846617,
            "bin_end": 0.09383506146912134,
            "count": 0
           },
           {
            "bin_start": 0.09383506146912134,
            "bin_end": 0.0965400483797765,
            "count": 1
           }
          ]
         }
        },
        {
         "name": "rank_test_score",
         "dtype": "int64",
         "stats": {
          "unique_count": 5,
          "nan_count": 0,
          "min": "2148",
          "max": "2152",
          "histogram": [
           {
            "bin_start": 2148,
            "bin_end": 2148.4,
            "count": 1
           },
           {
            "bin_start": 2148.4,
            "bin_end": 2148.8,
            "count": 0
           },
           {
            "bin_start": 2148.8,
            "bin_end": 2149.2,
            "count": 1
           },
           {
            "bin_start": 2149.2,
            "bin_end": 2149.6,
            "count": 0
           },
           {
            "bin_start": 2149.6,
            "bin_end": 2150,
            "count": 0
           },
           {
            "bin_start": 2150,
            "bin_end": 2150.4,
            "count": 1
           },
           {
            "bin_start": 2150.4,
            "bin_end": 2150.8,
            "count": 0
           },
           {
            "bin_start": 2150.8,
            "bin_end": 2151.2,
            "count": 1
           },
           {
            "bin_start": 2151.2,
            "bin_end": 2151.6,
            "count": 0
           },
           {
            "bin_start": 2151.6,
            "bin_end": 2152,
            "count": 1
           }
          ]
         }
        },
        {
         "name": "_deepnote_index_column",
         "dtype": "int64"
        }
       ],
       "rows": [
        {
         "Unnamed: 0": 2438,
         "mean_fit_time": 0.9245973110198976,
         "std_fit_time": 0.2142982687123137,
         "mean_score_time": 0.0016169548034667,
         "std_score_time": 0.0004869732366378,
         "param_activation": "logistic",
         "param_alpha": 0.0574934035849003,
         "param_batch_size": 369,
         "param_early_stopping": true,
         "param_hidden_layer_sizes": "(25, 25)",
         "param_learning_rate": "adaptive",
         "param_learning_rate_init": 0.0693081877572342,
         "param_max_iter": 5000,
         "param_momentum": 0.5,
         "param_n_iter_no_change": 25,
         "param_random_state": 69,
         "param_solver": "adam",
         "param_tol": 0.0010756264781396,
         "param_validation_fraction": 0.2,
         "params": "{'activation': 'logistic', 'alpha': 0.057493403584900335, 'batch_size': 369, 'early_stopping': True…",
         "split0_test_score": 1.0650556287935646,
         "split1_test_score": 0.996036095696731,
         "split2_test_score": 1.1281272042642554,
         "split3_test_score": 1.1747497444953383,
         "split4_test_score": 1.241281069705536,
         "split5_test_score": 1.2414962079372438,
         "split6_test_score": 1.0956092272986528,
         "split7_test_score": 1.0542315906325193,
         "split8_test_score": 1.138300822921122,
         "split9_test_score": 1.0395523147962882,
         "mean_test_score": 1.1174439906541251,
         "std_test_score": 0.0791086327027894,
         "rank_test_score": 2152,
         "_deepnote_index_column": 0
        },
        {
         "Unnamed: 0": 1824,
         "mean_fit_time": 1.7714261293411255,
         "std_fit_time": 0.5348578470653044,
         "mean_score_time": 0.0034681797027587,
         "std_score_time": 0.0008384971084537,
         "param_activation": "tanh",
         "param_alpha": 0.0313936140916655,
         "param_batch_size": 89,
         "param_early_stopping": true,
         "param_hidden_layer_sizes": "(100, 100)",
         "param_learning_rate": "invscaling",
         "param_learning_rate_init": 0.0310307082614756,
         "param_max_iter": 5000,
         "param_momentum": 0.1,
         "param_n_iter_no_change": 25,
         "param_random_state": 69,
         "param_solver": "adam",
         "param_tol": 0.0010123146699968,
         "param_validation_fraction": 0.2,
         "params": "{'activation': 'tanh', 'alpha': 0.03139361409166556, 'batch_size': 89, 'early_stopping': True, 'hid…",
         "split0_test_score": 1.1242729589077336,
         "split1_test_score": 1.085093308821929,
         "split2_test_score": 1.127459862313829,
         "split3_test_score": 1.20111930850712,
         "split4_test_score": 1.2597019505862932,
         "split5_test_score": 1.201839178298187,
         "split6_test_score": 1.138097094122446,
         "split7_test_score": 1.091507043126859,
         "split8_test_score": 1.215308184327516,
         "split9_test_score": 1.0162170512475943,
         "mean_test_score": 1.1460615940259506,
         "std_test_score": 0.0694901792732248,
         "rank_test_score": 2151,
         "_deepnote_index_column": 1
        },
        {
         "Unnamed: 0": 1161,
         "mean_fit_time": 0.6602627515792847,
         "std_fit_time": 0.1351564447217396,
         "mean_score_time": 0.0016475439071655,
         "std_score_time": 0.0004299212058449,
         "param_activation": "logistic",
         "param_alpha": 0.0253222322112038,
         "param_batch_size": 172,
         "param_early_stopping": true,
         "param_hidden_layer_sizes": "(50, 50)",
         "param_learning_rate": "constant",
         "param_learning_rate_init": 0.0452226485930509,
         "param_max_iter": 5000,
         "param_momentum": 1,
         "param_n_iter_no_change": 15,
         "param_random_state": 69,
         "param_solver": "adam",
         "param_tol": 0.0010663204575654,
         "param_validation_fraction": 0.2,
         "params": "{'activation': 'logistic', 'alpha': 0.0253222322112038, 'batch_size': 172, 'early_stopping': True, …",
         "split0_test_score": 1.011299007223545,
         "split1_test_score": 1.0467661435625646,
         "split2_test_score": 1.0946475278016543,
         "split3_test_score": 1.3049025992602028,
         "split4_test_score": 1.230153301946485,
         "split5_test_score": 1.2314046029656176,
         "split6_test_score": 1.1430323446218356,
         "split7_test_score": 1.0796650943689483,
         "split8_test_score": 1.257512005639866,
         "split9_test_score": 1.0678562678164212,
         "mean_test_score": 1.146723889520714,
         "std_test_score": 0.0965400483797765,
         "rank_test_score": 2150,
         "_deepnote_index_column": 2
        },
        {
         "Unnamed: 0": 1245,
         "mean_fit_time": 0.3234375715255737,
         "std_fit_time": 0.0474280841505423,
         "mean_score_time": 0.0014849662780761,
         "std_score_time": 0.0003936801076716,
         "param_activation": "logistic",
         "param_alpha": 0.0199036642974723,
         "param_batch_size": 326,
         "param_early_stopping": true,
         "param_hidden_layer_sizes": "(25, 25)",
         "param_learning_rate": "constant",
         "param_learning_rate_init": 0.1262835765088071,
         "param_max_iter": 5000,
         "param_momentum": 1,
         "param_n_iter_no_change": 15,
         "param_random_state": 69,
         "param_solver": "adam",
         "param_tol": 0.0010821289542964,
         "param_validation_fraction": 0.2,
         "params": "{'activation': 'logistic', 'alpha': 0.019903664297472336, 'batch_size': 326, 'early_stopping': True…",
         "split0_test_score": 1.0799147887136544,
         "split1_test_score": 0.994074457750869,
         "split2_test_score": 1.15528797288823,
         "split3_test_score": 1.2505111947448664,
         "split4_test_score": 1.230600806629212,
         "split5_test_score": 1.2041935712132612,
         "split6_test_score": 1.162274906485877,
         "split7_test_score": 1.055677011113758,
         "split8_test_score": 1.2455676196970522,
         "split9_test_score": 1.1042881828823063,
         "mean_test_score": 1.1482390512119085,
         "std_test_score": 0.0830829934446641,
         "rank_test_score": 2149,
         "_deepnote_index_column": 3
        },
        {
         "Unnamed: 0": 1946,
         "mean_fit_time": 3.045948791503906,
         "std_fit_time": 0.1947891475346481,
         "mean_score_time": 0.0012895584106445,
         "std_score_time": 0.0003785229773241,
         "param_activation": "logistic",
         "param_alpha": 0.0737435193597652,
         "param_batch_size": 38,
         "param_early_stopping": true,
         "param_hidden_layer_sizes": "(25,)",
         "param_learning_rate": "adaptive",
         "param_learning_rate_init": 0.173812585934427,
         "param_max_iter": 5000,
         "param_momentum": 0.5,
         "param_n_iter_no_change": 25,
         "param_random_state": 69,
         "param_solver": "sgd",
         "param_tol": 0.0010341026855837,
         "param_validation_fraction": 0.2,
         "params": "{'activation': 'logistic', 'alpha': 0.0737435193597652, 'batch_size': 38, 'early_stopping': True, '…",
         "split0_test_score": 1.0863083928498056,
         "split1_test_score": 1.0503522804871803,
         "split2_test_score": 1.1826002782974276,
         "split3_test_score": 1.2536846415165273,
         "split4_test_score": 1.2054276620349174,
         "split5_test_score": 1.2390732183590474,
         "split6_test_score": 1.1607706873082235,
         "split7_test_score": 1.053841098979697,
         "split8_test_score": 1.2285923693593603,
         "split9_test_score": 1.0274357380787131,
         "mean_test_score": 1.14880863672709,
         "std_test_score": 0.0820688388563697,
         "rank_test_score": 2148,
         "_deepnote_index_column": 4
        }
       ]
      },
      "text/plain": "   Unnamed: 0  mean_fit_time  std_fit_time  mean_score_time  std_score_time  \\\n0        2438       0.924597      0.214298         0.001617        0.000487   \n1        1824       1.771426      0.534858         0.003468        0.000838   \n2        1161       0.660263      0.135156         0.001648        0.000430   \n3        1245       0.323438      0.047428         0.001485        0.000394   \n4        1946       3.045949      0.194789         0.001290        0.000379   \n\n  param_activation  param_alpha  param_batch_size  param_early_stopping  \\\n0         logistic     0.057493               369                  True   \n1             tanh     0.031394                89                  True   \n2         logistic     0.025322               172                  True   \n3         logistic     0.019904               326                  True   \n4         logistic     0.073744                38                  True   \n\n  param_hidden_layer_sizes  ... split3_test_score  split4_test_score  \\\n0                 (25, 25)  ...          1.174750           1.241281   \n1               (100, 100)  ...          1.201119           1.259702   \n2                 (50, 50)  ...          1.304903           1.230153   \n3                 (25, 25)  ...          1.250511           1.230601   \n4                    (25,)  ...          1.253685           1.205428   \n\n   split5_test_score  split6_test_score  split7_test_score  split8_test_score  \\\n0           1.241496           1.095609           1.054232           1.138301   \n1           1.201839           1.138097           1.091507           1.215308   \n2           1.231405           1.143032           1.079665           1.257512   \n3           1.204194           1.162275           1.055677           1.245568   \n4           1.239073           1.160771           1.053841           1.228592   \n\n  split9_test_score  mean_test_score  std_test_score rank_test_score  \n0          1.039552         1.117444        0.079109            2152  \n1          1.016217         1.146062        0.069490            2151  \n2          1.067856         1.146724        0.096540            2150  \n3          1.104288         1.148239        0.083083            2149  \n4          1.027436         1.148809        0.082069            2148  \n\n[5 rows x 33 columns]",
      "text/html": "<div>\n<style scoped>\n    .dataframe tbody tr th:only-of-type {\n        vertical-align: middle;\n    }\n\n    .dataframe tbody tr th {\n        vertical-align: top;\n    }\n\n    .dataframe thead th {\n        text-align: right;\n    }\n</style>\n<table border=\"1\" class=\"dataframe\">\n  <thead>\n    <tr style=\"text-align: right;\">\n      <th></th>\n      <th>Unnamed: 0</th>\n      <th>mean_fit_time</th>\n      <th>std_fit_time</th>\n      <th>mean_score_time</th>\n      <th>std_score_time</th>\n      <th>param_activation</th>\n      <th>param_alpha</th>\n      <th>param_batch_size</th>\n      <th>param_early_stopping</th>\n      <th>param_hidden_layer_sizes</th>\n      <th>...</th>\n      <th>split3_test_score</th>\n      <th>split4_test_score</th>\n      <th>split5_test_score</th>\n      <th>split6_test_score</th>\n      <th>split7_test_score</th>\n      <th>split8_test_score</th>\n      <th>split9_test_score</th>\n      <th>mean_test_score</th>\n      <th>std_test_score</th>\n      <th>rank_test_score</th>\n    </tr>\n  </thead>\n  <tbody>\n    <tr>\n      <th>0</th>\n      <td>2438</td>\n      <td>0.924597</td>\n      <td>0.214298</td>\n      <td>0.001617</td>\n      <td>0.000487</td>\n      <td>logistic</td>\n      <td>0.057493</td>\n      <td>369</td>\n      <td>True</td>\n      <td>(25, 25)</td>\n      <td>...</td>\n      <td>1.174750</td>\n      <td>1.241281</td>\n      <td>1.241496</td>\n      <td>1.095609</td>\n      <td>1.054232</td>\n      <td>1.138301</td>\n      <td>1.039552</td>\n      <td>1.117444</td>\n      <td>0.079109</td>\n      <td>2152</td>\n    </tr>\n    <tr>\n      <th>1</th>\n      <td>1824</td>\n      <td>1.771426</td>\n      <td>0.534858</td>\n      <td>0.003468</td>\n      <td>0.000838</td>\n      <td>tanh</td>\n      <td>0.031394</td>\n      <td>89</td>\n      <td>True</td>\n      <td>(100, 100)</td>\n      <td>...</td>\n      <td>1.201119</td>\n      <td>1.259702</td>\n      <td>1.201839</td>\n      <td>1.138097</td>\n      <td>1.091507</td>\n      <td>1.215308</td>\n      <td>1.016217</td>\n      <td>1.146062</td>\n      <td>0.069490</td>\n      <td>2151</td>\n    </tr>\n    <tr>\n      <th>2</th>\n      <td>1161</td>\n      <td>0.660263</td>\n      <td>0.135156</td>\n      <td>0.001648</td>\n      <td>0.000430</td>\n      <td>logistic</td>\n      <td>0.025322</td>\n      <td>172</td>\n      <td>True</td>\n      <td>(50, 50)</td>\n      <td>...</td>\n      <td>1.304903</td>\n      <td>1.230153</td>\n      <td>1.231405</td>\n      <td>1.143032</td>\n      <td>1.079665</td>\n      <td>1.257512</td>\n      <td>1.067856</td>\n      <td>1.146724</td>\n      <td>0.096540</td>\n      <td>2150</td>\n    </tr>\n    <tr>\n      <th>3</th>\n      <td>1245</td>\n      <td>0.323438</td>\n      <td>0.047428</td>\n      <td>0.001485</td>\n      <td>0.000394</td>\n      <td>logistic</td>\n      <td>0.019904</td>\n      <td>326</td>\n      <td>True</td>\n      <td>(25, 25)</td>\n      <td>...</td>\n      <td>1.250511</td>\n      <td>1.230601</td>\n      <td>1.204194</td>\n      <td>1.162275</td>\n      <td>1.055677</td>\n      <td>1.245568</td>\n      <td>1.104288</td>\n      <td>1.148239</td>\n      <td>0.083083</td>\n      <td>2149</td>\n    </tr>\n    <tr>\n      <th>4</th>\n      <td>1946</td>\n      <td>3.045949</td>\n      <td>0.194789</td>\n      <td>0.001290</td>\n      <td>0.000379</td>\n      <td>logistic</td>\n      <td>0.073744</td>\n      <td>38</td>\n      <td>True</td>\n      <td>(25,)</td>\n      <td>...</td>\n      <td>1.253685</td>\n      <td>1.205428</td>\n      <td>1.239073</td>\n      <td>1.160771</td>\n      <td>1.053841</td>\n      <td>1.228592</td>\n      <td>1.027436</td>\n      <td>1.148809</td>\n      <td>0.082069</td>\n      <td>2148</td>\n    </tr>\n  </tbody>\n</table>\n<p>5 rows × 33 columns</p>\n</div>"
     },
     "metadata": {}
    }
   ],
   "execution_count": null
  },
  {
   "cell_type": "code",
   "metadata": {
    "tags": [],
    "cell_id": "00077-3fe09005-663d-44f9-8487-a23d7cde2893",
    "deepnote_to_be_reexecuted": false,
    "source_hash": "9dd11431",
    "execution_start": 1642254050504,
    "output_cleared": false,
    "execution_millis": 257626802,
    "deepnote_cell_type": "code"
   },
   "source": "#get the best params for the grid search (cannot use rand_gs.best_estimator directly since it will yield the worst estimator based on MEE)\nbest_params = df_results['params'][0]\nprint(f\"Mean error on the {k}-folds (MEE) on best model: {df_results['mean_test_score'][0]}\\n\")\nprint(f\"Best params: {best_params}\")",
   "outputs": [
    {
     "name": "stdout",
     "text": "Mean error on the 10-folds (MEE) on best model: 1.1174439906541251\n\nBest params: {'activation': 'logistic', 'alpha': 0.057493403584900335, 'batch_size': 369, 'early_stopping': True, 'hidden_layer_sizes': (25, 25), 'learning_rate': 'adaptive', 'learning_rate_init': 0.06930818775723423, 'max_iter': 5000, 'momentum': 0.5, 'n_iter_no_change': 25, 'random_state': 69, 'solver': 'adam', 'tol': 0.0010756264781396601, 'validation_fraction': 0.2}\n",
     "output_type": "stream"
    }
   ],
   "execution_count": null
  },
  {
   "cell_type": "code",
   "metadata": {
    "tags": [],
    "cell_id": "00081-6f2c6d87-563c-4996-8b1b-c7c8e3878112",
    "deepnote_to_be_reexecuted": false,
    "source_hash": "aeea0f8f",
    "execution_start": 1642254050513,
    "execution_millis": 257626804,
    "output_cleared": true,
    "deepnote_cell_type": "code"
   },
   "source": "@dataclass\nclass GridSearchRanges:\n    '''Class of keeping track of the min and max values for the hyperparameters tuning'''\n    \n    hidden_range = []\n    min_lr_init = 0\n    max_lr_init = 0\n    min_alpha = 0\n    max_alpha = 0\n    min_bs = 0\n    max_bs = 0\n    n_iter_no_change = 0\n    min_tol = 0\n    max_tol = 0\n    min_momentum = 0\n    max_momentum = 0\n    \n    def set_ranges(self):\n\n        self.hidden_range = np.unique(df_results['param_hidden_layer_sizes'])\n        self.hidden_range = self.hidden_range.ravel() #convert to array\n        print(self.hidden_range)\n\n        self.min_lr_init = np.min(df_results['param_learning_rate_init'])\n        self.max_lr_init = np.max(df_results['param_learning_rate_init'])\n        print(f\"LR: [{self.min_lr_init}, {self.max_lr_init}]\")\n\n        self.min_alpha = np.min(df_results['param_alpha'])\n        self.max_alpha = np.max(df_results['param_alpha'])\n        print(f\"alpha: [{self.min_alpha}, {self.max_alpha}]\")\n\n        self.min_bs = np.min(df_results['param_batch_size'])\n        self.max_bs = np.max(df_results['param_batch_size'])\n        print(f\"BATCH: [{self.min_bs}, {self.max_bs}]\")\n\n        self.n_iter_no_change_range = np.unique(df_results['param_n_iter_no_change'])\n        self.n_iter_no_change_range = self.n_iter_no_change_range.ravel()\n        print(f\"n_iter_no_change: {self.n_iter_no_change_range}\")\n\n        self.min_tol = np.min(df_results['param_tol'])\n        self.max_tol = np.max(df_results['param_tol'])\n        print(f\"TOL: [{self.min_tol}, {self.max_tol}]\")\n    \n        self.min_momentum = np.min(df_results['param_momentum'])\n        self.max_momentum = np.max(df_results['param_momentum'])\n        print(f\"MOMENTUM: [{self.min_momentum}, {self.max_momentum}]\")\n    \n    ",
   "execution_count": null,
   "outputs": []
  },
  {
   "cell_type": "code",
   "metadata": {
    "cell_id": "00076-23174bd2-4a5d-4359-b1bd-c76ac582f750",
    "deepnote_to_be_reexecuted": false,
    "execution_millis": 4,
    "execution_start": 1642254050518,
    "source_hash": "a520897",
    "tags": [],
    "output_cleared": false,
    "deepnote_cell_type": "code"
   },
   "source": "gs = GridSearchRanges()\ngs.set_ranges()\ngs.hidden_range = [ast.literal_eval(x) for x in gs.hidden_range]",
   "outputs": [
    {
     "name": "stdout",
     "text": "['(10, 10)' '(100, 100)' '(100,)' '(25, 25)' '(25,)' '(50, 50)' '(50,)']\nLR: [0.0192386038015907, 0.505114892181715]\nalpha: [0.0008978442638145, 0.0996658555604874]\nBATCH: [26, 882]\nn_iter_no_change: [ 5 15 25]\nTOL: [0.0010033859594673, 0.0010982682330194]\nMOMENTUM: [0.1, 1.0]\n",
     "output_type": "stream"
    }
   ],
   "execution_count": null
  },
  {
   "cell_type": "markdown",
   "source": "### Second Randomized Search using min e max values",
   "metadata": {
    "cell_id": "00078-af584a9c-5ee2-44d4-add3-01152ab35545",
    "tags": [],
    "deepnote_cell_type": "markdown"
   }
  },
  {
   "cell_type": "code",
   "metadata": {
    "cell_id": "00078-49c10074-50c3-4cb1-812b-bdc4da8e5307",
    "deepnote_output_heights": [
     null,
     null,
     309.109375
    ],
    "deepnote_to_be_reexecuted": false,
    "execution_millis": 15,
    "execution_start": 1642254050562,
    "source_hash": "401de1ea",
    "tags": [],
    "output_cleared": false,
    "deepnote_cell_type": "code"
   },
   "source": "%%script false --no-raise-error\n\n# define the parameters values\nparams = {\n    \"hidden_layer_sizes\": gs.hidden_range,\n    \"activation\" : [\"logistic\", \"tanh\"],\n    \"solver\": [\"sgd\", \"adam\"],\n    \"learning_rate\": [\"adaptive\", \"invscaling\"],\n    \"learning_rate_init\": uniform(gs.min_lr_init, gs.max_lr_init),\n    \"alpha\": uniform(gs.min_alpha, gs.max_alpha),\n    \"batch_size\": randint(gs.min_bs, gs.max_bs),\n    \"n_iter_no_change\": gs.n_iter_no_change_range,\n    \"momentum\": randint(gs.min_momentum, gs.max_momentum),\n    \"random_state\": [RS_NUMBER],\n    \"tol\": uniform(gs.min_tol,gs.max_tol),\n    \"early_stopping\": [True],\n    \"validation_fraction\": [0.2],\n    \"max_iter\": [5000],\n}\n\n# define the grid search\nrand_gs = RandomizedSearchCV(\n    MLPRegressor(),\n    param_distributions=params,\n    n_iter=n_iter_search,\n    n_jobs=-1,\n    scoring=make_scorer(mee), #scoring is based on the highest value\n    cv=k,\n    random_state = RS_NUMBER,\n    verbose=10,\n)\n# run the grid search\nrand_gs.fit(X, y)\n",
   "outputs": [],
   "execution_count": null
  },
  {
   "cell_type": "code",
   "metadata": {
    "cell_id": "00080-b47f038e-ba05-465e-9238-926f9564dc06",
    "deepnote_to_be_reexecuted": false,
    "execution_millis": 16,
    "execution_start": 1642254050581,
    "source_hash": "2cdd49a7",
    "tags": [],
    "output_cleared": true,
    "deepnote_cell_type": "code"
   },
   "source": "%%script false --no-raise-error\n\ndf_results = pd.DataFrame(data=rand_gs.cv_results_) #trasform into a pandas dataframe\ndf_results.sort_values(by=\"rank_test_score\", axis=0, ascending=False, inplace=True) #sort rank values in decreasing order \ndf_results.dropna(inplace=True) #delete nan values \ndf_results = df_results[:50] #keep only top 50 models\npd.DataFrame.to_csv(df_results, \"sklearn_results/rand2_search.csv\")",
   "execution_count": null,
   "outputs": []
  },
  {
   "cell_type": "code",
   "metadata": {
    "cell_id": "00081-5034a7eb-4ed8-43d8-b5f7-0b8da6617b7a",
    "deepnote_to_be_reexecuted": false,
    "execution_millis": 334,
    "execution_start": 1642254050602,
    "source_hash": "89537475",
    "tags": [],
    "output_cleared": false,
    "deepnote_output_heights": [
     208.1875
    ],
    "deepnote_cell_type": "code"
   },
   "source": "df_results = pd.read_csv(\"sklearn_results/rand2_search.csv\")\ndf_results.head()",
   "outputs": [
    {
     "output_type": "execute_result",
     "execution_count": 50,
     "data": {
      "application/vnd.deepnote.dataframe.v3+json": {
       "column_count": 33,
       "row_count": 5,
       "columns": [
        {
         "name": "Unnamed: 0",
         "dtype": "int64",
         "stats": {
          "unique_count": 5,
          "nan_count": 0,
          "min": "29",
          "max": "2025",
          "histogram": [
           {
            "bin_start": 29,
            "bin_end": 228.6,
            "count": 1
           },
           {
            "bin_start": 228.6,
            "bin_end": 428.2,
            "count": 1
           },
           {
            "bin_start": 428.2,
            "bin_end": 627.8,
            "count": 0
           },
           {
            "bin_start": 627.8,
            "bin_end": 827.4,
            "count": 0
           },
           {
            "bin_start": 827.4,
            "bin_end": 1027,
            "count": 0
           },
           {
            "bin_start": 1027,
            "bin_end": 1226.6,
            "count": 0
           },
           {
            "bin_start": 1226.6,
            "bin_end": 1426.2,
            "count": 0
           },
           {
            "bin_start": 1426.2,
            "bin_end": 1625.8,
            "count": 1
           },
           {
            "bin_start": 1625.8,
            "bin_end": 1825.3999999999999,
            "count": 1
           },
           {
            "bin_start": 1825.3999999999999,
            "bin_end": 2025,
            "count": 1
           }
          ]
         }
        },
        {
         "name": "mean_fit_time",
         "dtype": "float64",
         "stats": {
          "unique_count": 5,
          "nan_count": 0,
          "min": "0.3159765720367432",
          "max": "1.7047838926315309",
          "histogram": [
           {
            "bin_start": 0.3159765720367432,
            "bin_end": 0.45485730409622194,
            "count": 3
           },
           {
            "bin_start": 0.45485730409622194,
            "bin_end": 0.5937380361557008,
            "count": 0
           },
           {
            "bin_start": 0.5937380361557008,
            "bin_end": 0.7326187682151795,
            "count": 1
           },
           {
            "bin_start": 0.7326187682151795,
            "bin_end": 0.8714995002746582,
            "count": 0
           },
           {
            "bin_start": 0.8714995002746582,
            "bin_end": 1.0103802323341369,
            "count": 0
           },
           {
            "bin_start": 1.0103802323341369,
            "bin_end": 1.1492609643936158,
            "count": 0
           },
           {
            "bin_start": 1.1492609643936158,
            "bin_end": 1.2881416964530945,
            "count": 0
           },
           {
            "bin_start": 1.2881416964530945,
            "bin_end": 1.4270224285125732,
            "count": 0
           },
           {
            "bin_start": 1.4270224285125732,
            "bin_end": 1.565903160572052,
            "count": 0
           },
           {
            "bin_start": 1.565903160572052,
            "bin_end": 1.7047838926315309,
            "count": 1
           }
          ]
         }
        },
        {
         "name": "std_fit_time",
         "dtype": "float64",
         "stats": {
          "unique_count": 5,
          "nan_count": 0,
          "min": "0.0313689353773598",
          "max": "0.1523424123568731",
          "histogram": [
           {
            "bin_start": 0.0313689353773598,
            "bin_end": 0.04346628307531113,
            "count": 3
           },
           {
            "bin_start": 0.04346628307531113,
            "bin_end": 0.05556363077326246,
            "count": 0
           },
           {
            "bin_start": 0.05556363077326246,
            "bin_end": 0.06766097847121379,
            "count": 0
           },
           {
            "bin_start": 0.06766097847121379,
            "bin_end": 0.07975832616916512,
            "count": 0
           },
           {
            "bin_start": 0.07975832616916512,
            "bin_end": 0.09185567386711645,
            "count": 0
           },
           {
            "bin_start": 0.09185567386711645,
            "bin_end": 0.10395302156506778,
            "count": 0
           },
           {
            "bin_start": 0.10395302156506778,
            "bin_end": 0.1160503692630191,
            "count": 0
           },
           {
            "bin_start": 0.1160503692630191,
            "bin_end": 0.12814771696097044,
            "count": 0
           },
           {
            "bin_start": 0.12814771696097044,
            "bin_end": 0.14024506465892178,
            "count": 1
           },
           {
            "bin_start": 0.14024506465892178,
            "bin_end": 0.1523424123568731,
            "count": 1
           }
          ]
         }
        },
        {
         "name": "mean_score_time",
         "dtype": "float64",
         "stats": {
          "unique_count": 5,
          "nan_count": 0,
          "min": "0.0009126424789428",
          "max": "0.0023162603378295",
          "histogram": [
           {
            "bin_start": 0.0009126424789428,
            "bin_end": 0.00105300426483147,
            "count": 3
           },
           {
            "bin_start": 0.00105300426483147,
            "bin_end": 0.00119336605072014,
            "count": 0
           },
           {
            "bin_start": 0.00119336605072014,
            "bin_end": 0.00133372783660881,
            "count": 1
           },
           {
            "bin_start": 0.00133372783660881,
            "bin_end": 0.0014740896224974803,
            "count": 0
           },
           {
            "bin_start": 0.0014740896224974803,
            "bin_end": 0.0016144514083861502,
            "count": 0
           },
           {
            "bin_start": 0.0016144514083861502,
            "bin_end": 0.0017548131942748202,
            "count": 0
           },
           {
            "bin_start": 0.0017548131942748202,
            "bin_end": 0.0018951749801634902,
            "count": 0
           },
           {
            "bin_start": 0.0018951749801634902,
            "bin_end": 0.00203553676605216,
            "count": 0
           },
           {
            "bin_start": 0.00203553676605216,
            "bin_end": 0.00217589855194083,
            "count": 0
           },
           {
            "bin_start": 0.00217589855194083,
            "bin_end": 0.0023162603378295,
            "count": 1
           }
          ]
         }
        },
        {
         "name": "std_score_time",
         "dtype": "float64",
         "stats": {
          "unique_count": 5,
          "nan_count": 0,
          "min": "0.0002078000983634",
          "max": "0.0006192402060535",
          "histogram": [
           {
            "bin_start": 0.0002078000983634,
            "bin_end": 0.00024894410913241,
            "count": 2
           },
           {
            "bin_start": 0.00024894410913241,
            "bin_end": 0.00029008811990142,
            "count": 1
           },
           {
            "bin_start": 0.00029008811990142,
            "bin_end": 0.00033123213067043,
            "count": 0
           },
           {
            "bin_start": 0.00033123213067043,
            "bin_end": 0.00037237614143944,
            "count": 1
           },
           {
            "bin_start": 0.00037237614143944,
            "bin_end": 0.00041352015220844996,
            "count": 0
           },
           {
            "bin_start": 0.00041352015220844996,
            "bin_end": 0.00045466416297746,
            "count": 0
           },
           {
            "bin_start": 0.00045466416297746,
            "bin_end": 0.00049580817374647,
            "count": 0
           },
           {
            "bin_start": 0.00049580817374647,
            "bin_end": 0.00053695218451548,
            "count": 0
           },
           {
            "bin_start": 0.00053695218451548,
            "bin_end": 0.0005780961952844899,
            "count": 0
           },
           {
            "bin_start": 0.0005780961952844899,
            "bin_end": 0.0006192402060535,
            "count": 1
           }
          ]
         }
        },
        {
         "name": "param_activation",
         "dtype": "object",
         "stats": {
          "unique_count": 1,
          "nan_count": 0,
          "categories": [
           {
            "name": "logistic",
            "count": 5
           }
          ]
         }
        },
        {
         "name": "param_alpha",
         "dtype": "float64",
         "stats": {
          "unique_count": 5,
          "nan_count": 0,
          "min": "0.0058736016457447",
          "max": "0.0808958403234935",
          "histogram": [
           {
            "bin_start": 0.0058736016457447,
            "bin_end": 0.01337582551351958,
            "count": 2
           },
           {
            "bin_start": 0.01337582551351958,
            "bin_end": 0.02087804938129446,
            "count": 0
           },
           {
            "bin_start": 0.02087804938129446,
            "bin_end": 0.02838027324906934,
            "count": 0
           },
           {
            "bin_start": 0.02838027324906934,
            "bin_end": 0.03588249711684422,
            "count": 0
           },
           {
            "bin_start": 0.03588249711684422,
            "bin_end": 0.0433847209846191,
            "count": 0
           },
           {
            "bin_start": 0.0433847209846191,
            "bin_end": 0.05088694485239398,
            "count": 1
           },
           {
            "bin_start": 0.05088694485239398,
            "bin_end": 0.05838916872016886,
            "count": 0
           },
           {
            "bin_start": 0.05838916872016886,
            "bin_end": 0.06589139258794374,
            "count": 1
           },
           {
            "bin_start": 0.06589139258794374,
            "bin_end": 0.07339361645571862,
            "count": 0
           },
           {
            "bin_start": 0.07339361645571862,
            "bin_end": 0.0808958403234935,
            "count": 1
           }
          ]
         }
        },
        {
         "name": "param_batch_size",
         "dtype": "int64",
         "stats": {
          "unique_count": 5,
          "nan_count": 0,
          "min": "129",
          "max": "321",
          "histogram": [
           {
            "bin_start": 129,
            "bin_end": 148.2,
            "count": 2
           },
           {
            "bin_start": 148.2,
            "bin_end": 167.4,
            "count": 0
           },
           {
            "bin_start": 167.4,
            "bin_end": 186.6,
            "count": 1
           },
           {
            "bin_start": 186.6,
            "bin_end": 205.8,
            "count": 0
           },
           {
            "bin_start": 205.8,
            "bin_end": 225,
            "count": 0
           },
           {
            "bin_start": 225,
            "bin_end": 244.2,
            "count": 0
           },
           {
            "bin_start": 244.2,
            "bin_end": 263.4,
            "count": 0
           },
           {
            "bin_start": 263.4,
            "bin_end": 282.6,
            "count": 0
           },
           {
            "bin_start": 282.6,
            "bin_end": 301.79999999999995,
            "count": 1
           },
           {
            "bin_start": 301.79999999999995,
            "bin_end": 321,
            "count": 1
           }
          ]
         }
        },
        {
         "name": "param_early_stopping",
         "dtype": "bool",
         "stats": {
          "unique_count": 1,
          "nan_count": 0,
          "categories": [
           {
            "name": "True",
            "count": 5
           }
          ]
         }
        },
        {
         "name": "param_hidden_layer_sizes",
         "dtype": "object",
         "stats": {
          "unique_count": 4,
          "nan_count": 0,
          "categories": [
           {
            "name": "(25, 25)",
            "count": 2
           },
           {
            "name": "(100, 100)",
            "count": 1
           },
           {
            "name": "2 others",
            "count": 2
           }
          ]
         }
        },
        {
         "name": "param_learning_rate",
         "dtype": "object",
         "stats": {
          "unique_count": 2,
          "nan_count": 0,
          "categories": [
           {
            "name": "adaptive",
            "count": 3
           },
           {
            "name": "invscaling",
            "count": 2
           }
          ]
         }
        },
        {
         "name": "param_learning_rate_init",
         "dtype": "float64",
         "stats": {
          "unique_count": 5,
          "nan_count": 0,
          "min": "0.0519865187779873",
          "max": "0.0687082894317427",
          "histogram": [
           {
            "bin_start": 0.0519865187779873,
            "bin_end": 0.053658695843362844,
            "count": 1
           },
           {
            "bin_start": 0.053658695843362844,
            "bin_end": 0.05533087290873838,
            "count": 0
           },
           {
            "bin_start": 0.05533087290873838,
            "bin_end": 0.05700304997411392,
            "count": 1
           },
           {
            "bin_start": 0.05700304997411392,
            "bin_end": 0.058675227039489464,
            "count": 0
           },
           {
            "bin_start": 0.058675227039489464,
            "bin_end": 0.060347404104865,
            "count": 0
           },
           {
            "bin_start": 0.060347404104865,
            "bin_end": 0.06201958117024054,
            "count": 0
           },
           {
            "bin_start": 0.06201958117024054,
            "bin_end": 0.06369175823561608,
            "count": 1
           },
           {
            "bin_start": 0.06369175823561608,
            "bin_end": 0.06536393530099162,
            "count": 0
           },
           {
            "bin_start": 0.06536393530099162,
            "bin_end": 0.06703611236636717,
            "count": 1
           },
           {
            "bin_start": 0.06703611236636717,
            "bin_end": 0.0687082894317427,
            "count": 1
           }
          ]
         }
        },
        {
         "name": "param_max_iter",
         "dtype": "int64",
         "stats": {
          "unique_count": 1,
          "nan_count": 0,
          "min": "5000",
          "max": "5000",
          "histogram": [
           {
            "bin_start": 4999.5,
            "bin_end": 4999.6,
            "count": 0
           },
           {
            "bin_start": 4999.6,
            "bin_end": 4999.7,
            "count": 0
           },
           {
            "bin_start": 4999.7,
            "bin_end": 4999.8,
            "count": 0
           },
           {
            "bin_start": 4999.8,
            "bin_end": 4999.9,
            "count": 0
           },
           {
            "bin_start": 4999.9,
            "bin_end": 5000,
            "count": 0
           },
           {
            "bin_start": 5000,
            "bin_end": 5000.1,
            "count": 5
           },
           {
            "bin_start": 5000.1,
            "bin_end": 5000.2,
            "count": 0
           },
           {
            "bin_start": 5000.2,
            "bin_end": 5000.3,
            "count": 0
           },
           {
            "bin_start": 5000.3,
            "bin_end": 5000.4,
            "count": 0
           },
           {
            "bin_start": 5000.4,
            "bin_end": 5000.5,
            "count": 0
           }
          ]
         }
        },
        {
         "name": "param_momentum",
         "dtype": "int64",
         "stats": {
          "unique_count": 1,
          "nan_count": 0,
          "min": "0",
          "max": "0",
          "histogram": [
           {
            "bin_start": -0.5,
            "bin_end": -0.4,
            "count": 0
           },
           {
            "bin_start": -0.4,
            "bin_end": -0.3,
            "count": 0
           },
           {
            "bin_start": -0.3,
            "bin_end": -0.19999999999999996,
            "count": 0
           },
           {
            "bin_start": -0.19999999999999996,
            "bin_end": -0.09999999999999998,
            "count": 0
           },
           {
            "bin_start": -0.09999999999999998,
            "bin_end": 0,
            "count": 0
           },
           {
            "bin_start": 0,
            "bin_end": 0.10000000000000009,
            "count": 5
           },
           {
            "bin_start": 0.10000000000000009,
            "bin_end": 0.20000000000000007,
            "count": 0
           },
           {
            "bin_start": 0.20000000000000007,
            "bin_end": 0.30000000000000004,
            "count": 0
           },
           {
            "bin_start": 0.30000000000000004,
            "bin_end": 0.4,
            "count": 0
           },
           {
            "bin_start": 0.4,
            "bin_end": 0.5,
            "count": 0
           }
          ]
         }
        },
        {
         "name": "param_n_iter_no_change",
         "dtype": "int64",
         "stats": {
          "unique_count": 2,
          "nan_count": 0,
          "min": "15",
          "max": "25",
          "histogram": [
           {
            "bin_start": 15,
            "bin_end": 16,
            "count": 2
           },
           {
            "bin_start": 16,
            "bin_end": 17,
            "count": 0
           },
           {
            "bin_start": 17,
            "bin_end": 18,
            "count": 0
           },
           {
            "bin_start": 18,
            "bin_end": 19,
            "count": 0
           },
           {
            "bin_start": 19,
            "bin_end": 20,
            "count": 0
           },
           {
            "bin_start": 20,
            "bin_end": 21,
            "count": 0
           },
           {
            "bin_start": 21,
            "bin_end": 22,
            "count": 0
           },
           {
            "bin_start": 22,
            "bin_end": 23,
            "count": 0
           },
           {
            "bin_start": 23,
            "bin_end": 24,
            "count": 0
           },
           {
            "bin_start": 24,
            "bin_end": 25,
            "count": 3
           }
          ]
         }
        },
        {
         "name": "param_random_state",
         "dtype": "int64",
         "stats": {
          "unique_count": 1,
          "nan_count": 0,
          "min": "69",
          "max": "69",
          "histogram": [
           {
            "bin_start": 68.5,
            "bin_end": 68.6,
            "count": 0
           },
           {
            "bin_start": 68.6,
            "bin_end": 68.7,
            "count": 0
           },
           {
            "bin_start": 68.7,
            "bin_end": 68.8,
            "count": 0
           },
           {
            "bin_start": 68.8,
            "bin_end": 68.9,
            "count": 0
           },
           {
            "bin_start": 68.9,
            "bin_end": 69,
            "count": 0
           },
           {
            "bin_start": 69,
            "bin_end": 69.1,
            "count": 5
           },
           {
            "bin_start": 69.1,
            "bin_end": 69.2,
            "count": 0
           },
           {
            "bin_start": 69.2,
            "bin_end": 69.3,
            "count": 0
           },
           {
            "bin_start": 69.3,
            "bin_end": 69.4,
            "count": 0
           },
           {
            "bin_start": 69.4,
            "bin_end": 69.5,
            "count": 0
           }
          ]
         }
        },
        {
         "name": "param_solver",
         "dtype": "object",
         "stats": {
          "unique_count": 1,
          "nan_count": 0,
          "categories": [
           {
            "name": "adam",
            "count": 5
           }
          ]
         }
        },
        {
         "name": "param_tol",
         "dtype": "float64",
         "stats": {
          "unique_count": 5,
          "nan_count": 0,
          "min": "0.0010300342050429",
          "max": "0.0017638391320799",
          "histogram": [
           {
            "bin_start": 0.0010300342050429,
            "bin_end": 0.0011034146977466,
            "count": 2
           },
           {
            "bin_start": 0.0011034146977466,
            "bin_end": 0.0011767951904503,
            "count": 0
           },
           {
            "bin_start": 0.0011767951904503,
            "bin_end": 0.001250175683154,
            "count": 0
           },
           {
            "bin_start": 0.001250175683154,
            "bin_end": 0.0013235561758577,
            "count": 1
           },
           {
            "bin_start": 0.0013235561758577,
            "bin_end": 0.0013969366685614,
            "count": 0
           },
           {
            "bin_start": 0.0013969366685614,
            "bin_end": 0.0014703171612651,
            "count": 0
           },
           {
            "bin_start": 0.0014703171612651,
            "bin_end": 0.0015436976539688,
            "count": 0
           },
           {
            "bin_start": 0.0015436976539688,
            "bin_end": 0.0016170781466725002,
            "count": 0
           },
           {
            "bin_start": 0.0016170781466725002,
            "bin_end": 0.0016904586393762001,
            "count": 1
           },
           {
            "bin_start": 0.0016904586393762001,
            "bin_end": 0.0017638391320799,
            "count": 1
           }
          ]
         }
        },
        {
         "name": "param_validation_fraction",
         "dtype": "float64",
         "stats": {
          "unique_count": 1,
          "nan_count": 0,
          "min": "0.2",
          "max": "0.2",
          "histogram": [
           {
            "bin_start": -0.3,
            "bin_end": -0.19999999999999998,
            "count": 0
           },
           {
            "bin_start": -0.19999999999999998,
            "bin_end": -0.09999999999999998,
            "count": 0
           },
           {
            "bin_start": -0.09999999999999998,
            "bin_end": 5.551115123125783e-17,
            "count": 0
           },
           {
            "bin_start": 5.551115123125783e-17,
            "bin_end": 0.10000000000000003,
            "count": 0
           },
           {
            "bin_start": 0.10000000000000003,
            "bin_end": 0.2,
            "count": 0
           },
           {
            "bin_start": 0.2,
            "bin_end": 0.3000000000000001,
            "count": 5
           },
           {
            "bin_start": 0.3000000000000001,
            "bin_end": 0.4000000000000001,
            "count": 0
           },
           {
            "bin_start": 0.4000000000000001,
            "bin_end": 0.5,
            "count": 0
           },
           {
            "bin_start": 0.5,
            "bin_end": 0.6000000000000001,
            "count": 0
           },
           {
            "bin_start": 0.6000000000000001,
            "bin_end": 0.7,
            "count": 0
           }
          ]
         }
        },
        {
         "name": "params",
         "dtype": "object",
         "stats": {
          "unique_count": 5,
          "nan_count": 0,
          "categories": [
           {
            "name": "{'activation': 'logistic', 'alpha': 0.0434521506286926, 'batch_size': 294, 'early_stopping': True, 'hidden_layer_sizes': (25, 25), 'learning_rate': 'adaptive', 'learning_rate_init': 0.05670010901640851, 'max_iter': 5000, 'momentum': 0, 'n_iter_no_change': 15, 'random_state': 69, 'solver': 'adam', 'tol': 0.0010510803946533257, 'validation_fraction': 0.2}",
            "count": 1
           },
           {
            "name": "{'activation': 'logistic', 'alpha': 0.08089584032349353, 'batch_size': 169, 'early_stopping': True, 'hidden_layer_sizes': (25, 25), 'learning_rate': 'adaptive', 'learning_rate_init': 0.0687082894317427, 'max_iter': 5000, 'momentum': 0, 'n_iter_no_change': 15, 'random_state': 69, 'solver': 'adam', 'tol': 0.0010300342050429934, 'validation_fraction': 0.2}",
            "count": 1
           },
           {
            "name": "3 others",
            "count": 3
           }
          ]
         }
        },
        {
         "name": "split0_test_score",
         "dtype": "float64",
         "stats": {
          "unique_count": 5,
          "nan_count": 0,
          "min": "1.0391073911600386",
          "max": "1.0650709219969212",
          "histogram": [
           {
            "bin_start": 1.0391073911600386,
            "bin_end": 1.041703744243727,
            "count": 1
           },
           {
            "bin_start": 1.041703744243727,
            "bin_end": 1.044300097327415,
            "count": 0
           },
           {
            "bin_start": 1.044300097327415,
            "bin_end": 1.0468964504111034,
            "count": 0
           },
           {
            "bin_start": 1.0468964504111034,
            "bin_end": 1.0494928034947917,
            "count": 0
           },
           {
            "bin_start": 1.0494928034947917,
            "bin_end": 1.05208915657848,
            "count": 1
           },
           {
            "bin_start": 1.05208915657848,
            "bin_end": 1.0546855096621681,
            "count": 0
           },
           {
            "bin_start": 1.0546855096621681,
            "bin_end": 1.0572818627458564,
            "count": 0
           },
           {
            "bin_start": 1.0572818627458564,
            "bin_end": 1.0598782158295448,
            "count": 1
           },
           {
            "bin_start": 1.0598782158295448,
            "bin_end": 1.0624745689132329,
            "count": 0
           },
           {
            "bin_start": 1.0624745689132329,
            "bin_end": 1.0650709219969212,
            "count": 2
           }
          ]
         }
        },
        {
         "name": "split1_test_score",
         "dtype": "float64",
         "stats": {
          "unique_count": 5,
          "nan_count": 0,
          "min": "0.9891534950436832",
          "max": "1.0072608918401915",
          "histogram": [
           {
            "bin_start": 0.9891534950436832,
            "bin_end": 0.9909642347233341,
            "count": 2
           },
           {
            "bin_start": 0.9909642347233341,
            "bin_end": 0.9927749744029849,
            "count": 0
           },
           {
            "bin_start": 0.9927749744029849,
            "bin_end": 0.9945857140826357,
            "count": 0
           },
           {
            "bin_start": 0.9945857140826357,
            "bin_end": 0.9963964537622866,
            "count": 0
           },
           {
            "bin_start": 0.9963964537622866,
            "bin_end": 0.9982071934419374,
            "count": 0
           },
           {
            "bin_start": 0.9982071934419374,
            "bin_end": 1.0000179331215882,
            "count": 0
           },
           {
            "bin_start": 1.0000179331215882,
            "bin_end": 1.001828672801239,
            "count": 0
           },
           {
            "bin_start": 1.001828672801239,
            "bin_end": 1.0036394124808898,
            "count": 0
           },
           {
            "bin_start": 1.0036394124808898,
            "bin_end": 1.0054501521605408,
            "count": 2
           },
           {
            "bin_start": 1.0054501521605408,
            "bin_end": 1.0072608918401915,
            "count": 1
           }
          ]
         }
        },
        {
         "name": "split2_test_score",
         "dtype": "float64",
         "stats": {
          "unique_count": 5,
          "nan_count": 0,
          "min": "1.0829964943891994",
          "max": "1.1868453963930543",
          "histogram": [
           {
            "bin_start": 1.0829964943891994,
            "bin_end": 1.093381384589585,
            "count": 1
           },
           {
            "bin_start": 1.093381384589585,
            "bin_end": 1.1037662747899704,
            "count": 0
           },
           {
            "bin_start": 1.1037662747899704,
            "bin_end": 1.114151164990356,
            "count": 0
           },
           {
            "bin_start": 1.114151164990356,
            "bin_end": 1.1245360551907413,
            "count": 0
           },
           {
            "bin_start": 1.1245360551907413,
            "bin_end": 1.1349209453911269,
            "count": 0
           },
           {
            "bin_start": 1.1349209453911269,
            "bin_end": 1.1453058355915124,
            "count": 0
           },
           {
            "bin_start": 1.1453058355915124,
            "bin_end": 1.1556907257918978,
            "count": 0
           },
           {
            "bin_start": 1.1556907257918978,
            "bin_end": 1.1660756159922834,
            "count": 2
           },
           {
            "bin_start": 1.1660756159922834,
            "bin_end": 1.1764605061926687,
            "count": 0
           },
           {
            "bin_start": 1.1764605061926687,
            "bin_end": 1.1868453963930543,
            "count": 2
           }
          ]
         }
        },
        {
         "name": "split3_test_score",
         "dtype": "float64",
         "stats": {
          "unique_count": 5,
          "nan_count": 0,
          "min": "1.1942241027988494",
          "max": "1.2721858533482102",
          "histogram": [
           {
            "bin_start": 1.1942241027988494,
            "bin_end": 1.2020202778537854,
            "count": 2
           },
           {
            "bin_start": 1.2020202778537854,
            "bin_end": 1.2098164529087216,
            "count": 0
           },
           {
            "bin_start": 1.2098164529087216,
            "bin_end": 1.2176126279636577,
            "count": 0
           },
           {
            "bin_start": 1.2176126279636577,
            "bin_end": 1.2254088030185937,
            "count": 0
           },
           {
            "bin_start": 1.2254088030185937,
            "bin_end": 1.23320497807353,
            "count": 0
           },
           {
            "bin_start": 1.23320497807353,
            "bin_end": 1.241001153128466,
            "count": 0
           },
           {
            "bin_start": 1.241001153128466,
            "bin_end": 1.248797328183402,
            "count": 0
           },
           {
            "bin_start": 1.248797328183402,
            "bin_end": 1.256593503238338,
            "count": 2
           },
           {
            "bin_start": 1.256593503238338,
            "bin_end": 1.2643896782932742,
            "count": 0
           },
           {
            "bin_start": 1.2643896782932742,
            "bin_end": 1.2721858533482102,
            "count": 1
           }
          ]
         }
        },
        {
         "name": "split4_test_score",
         "dtype": "float64",
         "stats": {
          "unique_count": 5,
          "nan_count": 0,
          "min": "1.1938085457195065",
          "max": "1.2818630575415533",
          "histogram": [
           {
            "bin_start": 1.1938085457195065,
            "bin_end": 1.2026139969017111,
            "count": 1
           },
           {
            "bin_start": 1.2026139969017111,
            "bin_end": 1.2114194480839158,
            "count": 1
           },
           {
            "bin_start": 1.2114194480839158,
            "bin_end": 1.2202248992661204,
            "count": 1
           },
           {
            "bin_start": 1.2202248992661204,
            "bin_end": 1.229030350448325,
            "count": 0
           },
           {
            "bin_start": 1.229030350448325,
            "bin_end": 1.23783580163053,
            "count": 1
           },
           {
            "bin_start": 1.23783580163053,
            "bin_end": 1.2466412528127346,
            "count": 0
           },
           {
            "bin_start": 1.2466412528127346,
            "bin_end": 1.2554467039949393,
            "count": 0
           },
           {
            "bin_start": 1.2554467039949393,
            "bin_end": 1.264252155177144,
            "count": 0
           },
           {
            "bin_start": 1.264252155177144,
            "bin_end": 1.2730576063593486,
            "count": 0
           },
           {
            "bin_start": 1.2730576063593486,
            "bin_end": 1.2818630575415533,
            "count": 1
           }
          ]
         }
        },
        {
         "name": "split5_test_score",
         "dtype": "float64",
         "stats": {
          "unique_count": 5,
          "nan_count": 0,
          "min": "1.2008733793684243",
          "max": "1.2626946584800642",
          "histogram": [
           {
            "bin_start": 1.2008733793684243,
            "bin_end": 1.2070555072795883,
            "count": 1
           },
           {
            "bin_start": 1.2070555072795883,
            "bin_end": 1.2132376351907523,
            "count": 0
           },
           {
            "bin_start": 1.2132376351907523,
            "bin_end": 1.2194197631019164,
            "count": 0
           },
           {
            "bin_start": 1.2194197631019164,
            "bin_end": 1.2256018910130804,
            "count": 1
           },
           {
            "bin_start": 1.2256018910130804,
            "bin_end": 1.2317840189242442,
            "count": 0
           },
           {
            "bin_start": 1.2317840189242442,
            "bin_end": 1.2379661468354082,
            "count": 0
           },
           {
            "bin_start": 1.2379661468354082,
            "bin_end": 1.2441482747465722,
            "count": 1
           },
           {
            "bin_start": 1.2441482747465722,
            "bin_end": 1.2503304026577362,
            "count": 0
           },
           {
            "bin_start": 1.2503304026577362,
            "bin_end": 1.2565125305689002,
            "count": 0
           },
           {
            "bin_start": 1.2565125305689002,
            "bin_end": 1.2626946584800642,
            "count": 2
           }
          ]
         }
        },
        {
         "name": "split6_test_score",
         "dtype": "float64",
         "stats": {
          "unique_count": 5,
          "nan_count": 0,
          "min": "1.0537288796510462",
          "max": "1.1488827498005982",
          "histogram": [
           {
            "bin_start": 1.0537288796510462,
            "bin_end": 1.0632442666660014,
            "count": 1
           },
           {
            "bin_start": 1.0632442666660014,
            "bin_end": 1.0727596536809567,
            "count": 0
           },
           {
            "bin_start": 1.0727596536809567,
            "bin_end": 1.0822750406959118,
            "count": 0
           },
           {
            "bin_start": 1.0822750406959118,
            "bin_end": 1.091790427710867,
            "count": 0
           },
           {
            "bin_start": 1.091790427710867,
            "bin_end": 1.1013058147258223,
            "count": 0
           },
           {
            "bin_start": 1.1013058147258223,
            "bin_end": 1.1108212017407775,
            "count": 1
           },
           {
            "bin_start": 1.1108212017407775,
            "bin_end": 1.1203365887557326,
            "count": 1
           },
           {
            "bin_start": 1.1203365887557326,
            "bin_end": 1.1298519757706877,
            "count": 1
           },
           {
            "bin_start": 1.1298519757706877,
            "bin_end": 1.139367362785643,
            "count": 0
           },
           {
            "bin_start": 1.139367362785643,
            "bin_end": 1.1488827498005982,
            "count": 1
           }
          ]
         }
        },
        {
         "name": "split7_test_score",
         "dtype": "float64",
         "stats": {
          "unique_count": 5,
          "nan_count": 0,
          "min": "1.0316682261444194",
          "max": "1.1040091857617924",
          "histogram": [
           {
            "bin_start": 1.0316682261444194,
            "bin_end": 1.0389023221061566,
            "count": 1
           },
           {
            "bin_start": 1.0389023221061566,
            "bin_end": 1.046136418067894,
            "count": 0
           },
           {
            "bin_start": 1.046136418067894,
            "bin_end": 1.0533705140296314,
            "count": 0
           },
           {
            "bin_start": 1.0533705140296314,
            "bin_end": 1.0606046099913686,
            "count": 0
           },
           {
            "bin_start": 1.0606046099913686,
            "bin_end": 1.0678387059531058,
            "count": 0
           },
           {
            "bin_start": 1.0678387059531058,
            "bin_end": 1.0750728019148432,
            "count": 0
           },
           {
            "bin_start": 1.0750728019148432,
            "bin_end": 1.0823068978765806,
            "count": 1
           },
           {
            "bin_start": 1.0823068978765806,
            "bin_end": 1.0895409938383178,
            "count": 2
           },
           {
            "bin_start": 1.0895409938383178,
            "bin_end": 1.096775089800055,
            "count": 0
           },
           {
            "bin_start": 1.096775089800055,
            "bin_end": 1.1040091857617924,
            "count": 1
           }
          ]
         }
        },
        {
         "name": "split8_test_score",
         "dtype": "float64",
         "stats": {
          "unique_count": 5,
          "nan_count": 0,
          "min": "1.1730029281850338",
          "max": "1.2665361148916852",
          "histogram": [
           {
            "bin_start": 1.1730029281850338,
            "bin_end": 1.182356246855699,
            "count": 1
           },
           {
            "bin_start": 1.182356246855699,
            "bin_end": 1.191709565526364,
            "count": 0
           },
           {
            "bin_start": 1.191709565526364,
            "bin_end": 1.2010628841970292,
            "count": 1
           },
           {
            "bin_start": 1.2010628841970292,
            "bin_end": 1.2104162028676944,
            "count": 1
           },
           {
            "bin_start": 1.2104162028676944,
            "bin_end": 1.2197695215383595,
            "count": 1
           },
           {
            "bin_start": 1.2197695215383595,
            "bin_end": 1.2291228402090246,
            "count": 0
           },
           {
            "bin_start": 1.2291228402090246,
            "bin_end": 1.2384761588796898,
            "count": 0
           },
           {
            "bin_start": 1.2384761588796898,
            "bin_end": 1.247829477550355,
            "count": 0
           },
           {
            "bin_start": 1.247829477550355,
            "bin_end": 1.25718279622102,
            "count": 0
           },
           {
            "bin_start": 1.25718279622102,
            "bin_end": 1.2665361148916852,
            "count": 1
           }
          ]
         }
        },
        {
         "name": "split9_test_score",
         "dtype": "float64",
         "stats": {
          "unique_count": 5,
          "nan_count": 0,
          "min": "0.9868201645671852",
          "max": "1.057561518465124",
          "histogram": [
           {
            "bin_start": 0.9868201645671852,
            "bin_end": 0.9938942999569791,
            "count": 1
           },
           {
            "bin_start": 0.9938942999569791,
            "bin_end": 1.000968435346773,
            "count": 0
           },
           {
            "bin_start": 1.000968435346773,
            "bin_end": 1.0080425707365668,
            "count": 1
           },
           {
            "bin_start": 1.0080425707365668,
            "bin_end": 1.0151167061263606,
            "count": 0
           },
           {
            "bin_start": 1.0151167061263606,
            "bin_end": 1.0221908415161547,
            "count": 0
           },
           {
            "bin_start": 1.0221908415161547,
            "bin_end": 1.0292649769059485,
            "count": 0
           },
           {
            "bin_start": 1.0292649769059485,
            "bin_end": 1.0363391122957424,
            "count": 0
           },
           {
            "bin_start": 1.0363391122957424,
            "bin_end": 1.0434132476855362,
            "count": 0
           },
           {
            "bin_start": 1.0434132476855362,
            "bin_end": 1.05048738307533,
            "count": 2
           },
           {
            "bin_start": 1.05048738307533,
            "bin_end": 1.057561518465124,
            "count": 1
           }
          ]
         }
        },
        {
         "name": "mean_test_score",
         "dtype": "float64",
         "stats": {
          "unique_count": 5,
          "nan_count": 0,
          "min": "1.1227429400609368",
          "max": "1.1411333263580563",
          "histogram": [
           {
            "bin_start": 1.1227429400609368,
            "bin_end": 1.1245819786906488,
            "count": 1
           },
           {
            "bin_start": 1.1245819786906488,
            "bin_end": 1.1264210173203606,
            "count": 1
           },
           {
            "bin_start": 1.1264210173203606,
            "bin_end": 1.1282600559500726,
            "count": 0
           },
           {
            "bin_start": 1.1282600559500726,
            "bin_end": 1.1300990945797846,
            "count": 0
           },
           {
            "bin_start": 1.1300990945797846,
            "bin_end": 1.1319381332094967,
            "count": 0
           },
           {
            "bin_start": 1.1319381332094967,
            "bin_end": 1.1337771718392085,
            "count": 0
           },
           {
            "bin_start": 1.1337771718392085,
            "bin_end": 1.1356162104689205,
            "count": 0
           },
           {
            "bin_start": 1.1356162104689205,
            "bin_end": 1.1374552490986325,
            "count": 0
           },
           {
            "bin_start": 1.1374552490986325,
            "bin_end": 1.1392942877283443,
            "count": 2
           },
           {
            "bin_start": 1.1392942877283443,
            "bin_end": 1.1411333263580563,
            "count": 1
           }
          ]
         }
        },
        {
         "name": "std_test_score",
         "dtype": "float64",
         "stats": {
          "unique_count": 5,
          "nan_count": 0,
          "min": "0.084081072794549",
          "max": "0.0957940460944688",
          "histogram": [
           {
            "bin_start": 0.084081072794549,
            "bin_end": 0.08525237012454098,
            "count": 1
           },
           {
            "bin_start": 0.08525237012454098,
            "bin_end": 0.08642366745453296,
            "count": 0
           },
           {
            "bin_start": 0.08642366745453296,
            "bin_end": 0.08759496478452494,
            "count": 0
           },
           {
            "bin_start": 0.08759496478452494,
            "bin_end": 0.08876626211451692,
            "count": 0
           },
           {
            "bin_start": 0.08876626211451692,
            "bin_end": 0.0899375594445089,
            "count": 1
           },
           {
            "bin_start": 0.0899375594445089,
            "bin_end": 0.09110885677450088,
            "count": 1
           },
           {
            "bin_start": 0.09110885677450088,
            "bin_end": 0.09228015410449286,
            "count": 0
           },
           {
            "bin_start": 0.09228015410449286,
            "bin_end": 0.09345145143448484,
            "count": 1
           },
           {
            "bin_start": 0.09345145143448484,
            "bin_end": 0.09462274876447682,
            "count": 0
           },
           {
            "bin_start": 0.09462274876447682,
            "bin_end": 0.0957940460944688,
            "count": 1
           }
          ]
         }
        },
        {
         "name": "rank_test_score",
         "dtype": "int64",
         "stats": {
          "unique_count": 5,
          "nan_count": 0,
          "min": "2465",
          "max": "2469",
          "histogram": [
           {
            "bin_start": 2465,
            "bin_end": 2465.4,
            "count": 1
           },
           {
            "bin_start": 2465.4,
            "bin_end": 2465.8,
            "count": 0
           },
           {
            "bin_start": 2465.8,
            "bin_end": 2466.2,
            "count": 1
           },
           {
            "bin_start": 2466.2,
            "bin_end": 2466.6,
            "count": 0
           },
           {
            "bin_start": 2466.6,
            "bin_end": 2467,
            "count": 0
           },
           {
            "bin_start": 2467,
            "bin_end": 2467.4,
            "count": 1
           },
           {
            "bin_start": 2467.4,
            "bin_end": 2467.8,
            "count": 0
           },
           {
            "bin_start": 2467.8,
            "bin_end": 2468.2,
            "count": 1
           },
           {
            "bin_start": 2468.2,
            "bin_end": 2468.6,
            "count": 0
           },
           {
            "bin_start": 2468.6,
            "bin_end": 2469,
            "count": 1
           }
          ]
         }
        },
        {
         "name": "_deepnote_index_column",
         "dtype": "int64"
        }
       ],
       "rows": [
        {
         "Unnamed: 0": 336,
         "mean_fit_time": 0.36659996509552,
         "std_fit_time": 0.0313689353773598,
         "mean_score_time": 0.0009727716445922,
         "std_score_time": 0.0002404039794049,
         "param_activation": "logistic",
         "param_alpha": 0.0434521506286926,
         "param_batch_size": 294,
         "param_early_stopping": true,
         "param_hidden_layer_sizes": "(25, 25)",
         "param_learning_rate": "adaptive",
         "param_learning_rate_init": 0.0567001090164085,
         "param_max_iter": 5000,
         "param_momentum": 0,
         "param_n_iter_no_change": 15,
         "param_random_state": 69,
         "param_solver": "adam",
         "param_tol": 0.0010510803946533,
         "param_validation_fraction": 0.2,
         "params": "{'activation': 'logistic', 'alpha': 0.0434521506286926, 'batch_size': 294, 'early_stopping': True, …",
         "split0_test_score": 1.0391073911600386,
         "split1_test_score": 0.9891534950436832,
         "split2_test_score": 1.156547088744177,
         "split3_test_score": 1.1942241027988494,
         "split4_test_score": 1.2334517579013116,
         "split5_test_score": 1.2413003639694191,
         "split6_test_score": 1.105345647609352,
         "split7_test_score": 1.0754597778124122,
         "split8_test_score": 1.2060196110029415,
         "split9_test_score": 0.9868201645671852,
         "mean_test_score": 1.1227429400609368,
         "std_test_score": 0.0923872259048499,
         "rank_test_score": 2469,
         "_deepnote_index_column": 0
        },
        {
         "Unnamed: 0": 2025,
         "mean_fit_time": 0.3159765720367432,
         "std_fit_time": 0.0419272457167261,
         "mean_score_time": 0.0009860277175903,
         "std_score_time": 0.0002550532391669,
         "param_activation": "logistic",
         "param_alpha": 0.0808958403234935,
         "param_batch_size": 169,
         "param_early_stopping": true,
         "param_hidden_layer_sizes": "(25, 25)",
         "param_learning_rate": "adaptive",
         "param_learning_rate_init": 0.0687082894317427,
         "param_max_iter": 5000,
         "param_momentum": 0,
         "param_n_iter_no_change": 15,
         "param_random_state": 69,
         "param_solver": "adam",
         "param_tol": 0.0010300342050429,
         "param_validation_fraction": 0.2,
         "params": "{'activation': 'logistic', 'alpha': 0.08089584032349353, 'batch_size': 169, 'early_stopping': True,…",
         "split0_test_score": 1.0577494172400654,
         "split1_test_score": 1.0039650343548585,
         "split2_test_score": 1.1868453963930543,
         "split3_test_score": 1.2014744383442415,
         "split4_test_score": 1.2134491065243709,
         "split5_test_score": 1.2622599393257612,
         "split6_test_score": 1.0537288796510462,
         "split7_test_score": 1.0316682261444194,
         "split8_test_score": 1.1995347622461368,
         "split9_test_score": 1.0463725530129198,
         "mean_test_score": 1.1257047753236875,
         "std_test_score": 0.0900177558490954,
         "rank_test_score": 2468,
         "_deepnote_index_column": 1
        },
        {
         "Unnamed: 0": 29,
         "mean_fit_time": 1.7047838926315309,
         "std_fit_time": 0.1523424123568731,
         "mean_score_time": 0.0023162603378295,
         "std_score_time": 0.0006192402060535,
         "param_activation": "logistic",
         "param_alpha": 0.0058736016457447,
         "param_batch_size": 321,
         "param_early_stopping": true,
         "param_hidden_layer_sizes": "(100, 100)",
         "param_learning_rate": "invscaling",
         "param_learning_rate_init": 0.0519865187779873,
         "param_max_iter": 5000,
         "param_momentum": 0,
         "param_n_iter_no_change": 25,
         "param_random_state": 69,
         "param_solver": "adam",
         "param_tol": 0.0017638391320799,
         "param_validation_fraction": 0.2,
         "params": "{'activation': 'logistic', 'alpha': 0.005873601645744778, 'batch_size': 321, 'early_stopping': True…",
         "split0_test_score": 1.051322117971208,
         "split1_test_score": 1.0049668809069994,
         "split2_test_score": 1.160116583127452,
         "split3_test_score": 1.2721858533482102,
         "split4_test_score": 1.1938085457195065,
         "split5_test_score": 1.2240561350151216,
         "split6_test_score": 1.118354880305364,
         "split7_test_score": 1.0829525965579163,
         "split8_test_score": 1.2665361148916852,
         "split9_test_score": 1.0053304046795626,
         "mean_test_score": 1.1379630112523027,
         "std_test_score": 0.0957940460944688,
         "rank_test_score": 2467,
         "_deepnote_index_column": 2
        },
        {
         "Unnamed: 0": 1800,
         "mean_fit_time": 0.6197494029998779,
         "std_fit_time": 0.1366784440483039,
         "mean_score_time": 0.001234483718872,
         "std_score_time": 0.0003681767558076,
         "param_activation": "logistic",
         "param_alpha": 0.0125282017494997,
         "param_batch_size": 129,
         "param_early_stopping": true,
         "param_hidden_layer_sizes": "(50, 50)",
         "param_learning_rate": "invscaling",
         "param_learning_rate_init": 0.0661465433207377,
         "param_max_iter": 5000,
         "param_momentum": 0,
         "param_n_iter_no_change": 25,
         "param_random_state": 69,
         "param_solver": "adam",
         "param_tol": 0.0016393796930011,
         "param_validation_fraction": 0.2,
         "params": "{'activation': 'logistic', 'alpha': 0.012528201749499736, 'batch_size': 129, 'early_stopping': True…",
         "split0_test_score": 1.0650709219969212,
         "split1_test_score": 1.0072608918401915,
         "split2_test_score": 1.0829964943891994,
         "split3_test_score": 1.25245318771435,
         "split4_test_score": 1.2818630575415533,
         "split5_test_score": 1.2008733793684243,
         "split6_test_score": 1.1488827498005982,
         "split7_test_score": 1.0837016098330856,
         "split8_test_score": 1.213549145841936,
         "split9_test_score": 1.0488264591530652,
         "mean_test_score": 1.1385477897479326,
         "std_test_score": 0.0893919830259696,
         "rank_test_score": 2466,
         "_deepnote_index_column": 3
        },
        {
         "Unnamed: 0": 1463,
         "mean_fit_time": 0.3524300813674926,
         "std_fit_time": 0.0340452240577308,
         "mean_score_time": 0.0009126424789428,
         "std_score_time": 0.0002078000983634,
         "param_activation": "logistic",
         "param_alpha": 0.0610557502380187,
         "param_batch_size": 134,
         "param_early_stopping": true,
         "param_hidden_layer_sizes": "(10, 10)",
         "param_learning_rate": "adaptive",
         "param_learning_rate_init": 0.0630957538892355,
         "param_max_iter": 5000,
         "param_momentum": 0,
         "param_n_iter_no_change": 25,
         "param_random_state": 69,
         "param_solver": "adam",
         "param_tol": 0.0013186629253998,
         "param_validation_fraction": 0.2,
         "params": "{'activation': 'logistic', 'alpha': 0.06105575023801871, 'batch_size': 134, 'early_stopping': True,…",
         "split0_test_score": 1.0629946664546246,
         "split1_test_score": 0.9908276427964846,
         "split2_test_score": 1.176939305619375,
         "split3_test_score": 1.2526617606620123,
         "split4_test_score": 1.203744840720141,
         "split5_test_score": 1.2626946584800642,
         "split6_test_score": 1.1268967564359134,
         "split7_test_score": 1.1040091857617924,
         "split8_test_score": 1.1730029281850338,
         "split9_test_score": 1.057561518465124,
         "mean_test_score": 1.1411333263580563,
         "std_test_score": 0.084081072794549,
         "rank_test_score": 2465,
         "_deepnote_index_column": 4
        }
       ]
      },
      "text/plain": "   Unnamed: 0  mean_fit_time  std_fit_time  mean_score_time  std_score_time  \\\n0         336       0.366600      0.031369         0.000973        0.000240   \n1        2025       0.315977      0.041927         0.000986        0.000255   \n2          29       1.704784      0.152342         0.002316        0.000619   \n3        1800       0.619749      0.136678         0.001234        0.000368   \n4        1463       0.352430      0.034045         0.000913        0.000208   \n\n  param_activation  param_alpha  param_batch_size  param_early_stopping  \\\n0         logistic     0.043452               294                  True   \n1         logistic     0.080896               169                  True   \n2         logistic     0.005874               321                  True   \n3         logistic     0.012528               129                  True   \n4         logistic     0.061056               134                  True   \n\n  param_hidden_layer_sizes  ... split3_test_score  split4_test_score  \\\n0                 (25, 25)  ...          1.194224           1.233452   \n1                 (25, 25)  ...          1.201474           1.213449   \n2               (100, 100)  ...          1.272186           1.193809   \n3                 (50, 50)  ...          1.252453           1.281863   \n4                 (10, 10)  ...          1.252662           1.203745   \n\n   split5_test_score  split6_test_score  split7_test_score  split8_test_score  \\\n0           1.241300           1.105346           1.075460           1.206020   \n1           1.262260           1.053729           1.031668           1.199535   \n2           1.224056           1.118355           1.082953           1.266536   \n3           1.200873           1.148883           1.083702           1.213549   \n4           1.262695           1.126897           1.104009           1.173003   \n\n  split9_test_score  mean_test_score  std_test_score rank_test_score  \n0          0.986820         1.122743        0.092387            2469  \n1          1.046373         1.125705        0.090018            2468  \n2          1.005330         1.137963        0.095794            2467  \n3          1.048826         1.138548        0.089392            2466  \n4          1.057562         1.141133        0.084081            2465  \n\n[5 rows x 33 columns]",
      "text/html": "<div>\n<style scoped>\n    .dataframe tbody tr th:only-of-type {\n        vertical-align: middle;\n    }\n\n    .dataframe tbody tr th {\n        vertical-align: top;\n    }\n\n    .dataframe thead th {\n        text-align: right;\n    }\n</style>\n<table border=\"1\" class=\"dataframe\">\n  <thead>\n    <tr style=\"text-align: right;\">\n      <th></th>\n      <th>Unnamed: 0</th>\n      <th>mean_fit_time</th>\n      <th>std_fit_time</th>\n      <th>mean_score_time</th>\n      <th>std_score_time</th>\n      <th>param_activation</th>\n      <th>param_alpha</th>\n      <th>param_batch_size</th>\n      <th>param_early_stopping</th>\n      <th>param_hidden_layer_sizes</th>\n      <th>...</th>\n      <th>split3_test_score</th>\n      <th>split4_test_score</th>\n      <th>split5_test_score</th>\n      <th>split6_test_score</th>\n      <th>split7_test_score</th>\n      <th>split8_test_score</th>\n      <th>split9_test_score</th>\n      <th>mean_test_score</th>\n      <th>std_test_score</th>\n      <th>rank_test_score</th>\n    </tr>\n  </thead>\n  <tbody>\n    <tr>\n      <th>0</th>\n      <td>336</td>\n      <td>0.366600</td>\n      <td>0.031369</td>\n      <td>0.000973</td>\n      <td>0.000240</td>\n      <td>logistic</td>\n      <td>0.043452</td>\n      <td>294</td>\n      <td>True</td>\n      <td>(25, 25)</td>\n      <td>...</td>\n      <td>1.194224</td>\n      <td>1.233452</td>\n      <td>1.241300</td>\n      <td>1.105346</td>\n      <td>1.075460</td>\n      <td>1.206020</td>\n      <td>0.986820</td>\n      <td>1.122743</td>\n      <td>0.092387</td>\n      <td>2469</td>\n    </tr>\n    <tr>\n      <th>1</th>\n      <td>2025</td>\n      <td>0.315977</td>\n      <td>0.041927</td>\n      <td>0.000986</td>\n      <td>0.000255</td>\n      <td>logistic</td>\n      <td>0.080896</td>\n      <td>169</td>\n      <td>True</td>\n      <td>(25, 25)</td>\n      <td>...</td>\n      <td>1.201474</td>\n      <td>1.213449</td>\n      <td>1.262260</td>\n      <td>1.053729</td>\n      <td>1.031668</td>\n      <td>1.199535</td>\n      <td>1.046373</td>\n      <td>1.125705</td>\n      <td>0.090018</td>\n      <td>2468</td>\n    </tr>\n    <tr>\n      <th>2</th>\n      <td>29</td>\n      <td>1.704784</td>\n      <td>0.152342</td>\n      <td>0.002316</td>\n      <td>0.000619</td>\n      <td>logistic</td>\n      <td>0.005874</td>\n      <td>321</td>\n      <td>True</td>\n      <td>(100, 100)</td>\n      <td>...</td>\n      <td>1.272186</td>\n      <td>1.193809</td>\n      <td>1.224056</td>\n      <td>1.118355</td>\n      <td>1.082953</td>\n      <td>1.266536</td>\n      <td>1.005330</td>\n      <td>1.137963</td>\n      <td>0.095794</td>\n      <td>2467</td>\n    </tr>\n    <tr>\n      <th>3</th>\n      <td>1800</td>\n      <td>0.619749</td>\n      <td>0.136678</td>\n      <td>0.001234</td>\n      <td>0.000368</td>\n      <td>logistic</td>\n      <td>0.012528</td>\n      <td>129</td>\n      <td>True</td>\n      <td>(50, 50)</td>\n      <td>...</td>\n      <td>1.252453</td>\n      <td>1.281863</td>\n      <td>1.200873</td>\n      <td>1.148883</td>\n      <td>1.083702</td>\n      <td>1.213549</td>\n      <td>1.048826</td>\n      <td>1.138548</td>\n      <td>0.089392</td>\n      <td>2466</td>\n    </tr>\n    <tr>\n      <th>4</th>\n      <td>1463</td>\n      <td>0.352430</td>\n      <td>0.034045</td>\n      <td>0.000913</td>\n      <td>0.000208</td>\n      <td>logistic</td>\n      <td>0.061056</td>\n      <td>134</td>\n      <td>True</td>\n      <td>(10, 10)</td>\n      <td>...</td>\n      <td>1.252662</td>\n      <td>1.203745</td>\n      <td>1.262695</td>\n      <td>1.126897</td>\n      <td>1.104009</td>\n      <td>1.173003</td>\n      <td>1.057562</td>\n      <td>1.141133</td>\n      <td>0.084081</td>\n      <td>2465</td>\n    </tr>\n  </tbody>\n</table>\n<p>5 rows × 33 columns</p>\n</div>"
     },
     "metadata": {}
    }
   ],
   "execution_count": null
  },
  {
   "cell_type": "code",
   "metadata": {
    "cell_id": "00081-fc3ed589-20d2-40fb-8c96-60e7fcc4a5c5",
    "deepnote_to_be_reexecuted": false,
    "execution_millis": 2,
    "execution_start": 1642254297456,
    "source_hash": "9dd11431",
    "tags": [],
    "output_cleared": false,
    "deepnote_cell_type": "code"
   },
   "source": "#get the best params for the grid search (cannot use rand_gs.best_estimator directly since it will yield the worst estimator based on MEE)\nbest_params = df_results['params'][0]\nprint(f\"Mean error on the {k}-folds (MEE) on best model: {df_results['mean_test_score'][0]}\\n\")\nprint(f\"Best params: {best_params}\")",
   "outputs": [
    {
     "name": "stdout",
     "text": "Mean error on the 10-folds (MEE) on best model: 1.1227429400609368\n\nBest params: {'activation': 'logistic', 'alpha': 0.0434521506286926, 'batch_size': 294, 'early_stopping': True, 'hidden_layer_sizes': (25, 25), 'learning_rate': 'adaptive', 'learning_rate_init': 0.05670010901640851, 'max_iter': 5000, 'momentum': 0, 'n_iter_no_change': 15, 'random_state': 69, 'solver': 'adam', 'tol': 0.0010510803946533257, 'validation_fraction': 0.2}\n",
     "output_type": "stream"
    }
   ],
   "execution_count": null
  },
  {
   "cell_type": "markdown",
   "source": "We save the top 10 best models for later",
   "metadata": {
    "tags": [],
    "cell_id": "00086-c859ba93-3e8d-49a1-909c-7153903ac9ef",
    "deepnote_cell_type": "markdown"
   }
  },
  {
   "cell_type": "code",
   "metadata": {
    "tags": [],
    "cell_id": "00087-6d5a7000-ffcd-4bc3-a5a3-a26a435ba502",
    "deepnote_to_be_reexecuted": false,
    "source_hash": "4c5e512e",
    "execution_start": 1642254305779,
    "execution_millis": 5,
    "deepnote_cell_type": "code"
   },
   "source": "best_models = list() #list of the top ten models of the final randomized search\nfor i in range(10):\n    best_params_i = df_results['params'][i]\n    best_params_i = ast.literal_eval(best_params_i)\n    model_i = MLPRegressor(**best_params_i)\n    best_models.append(model_i)",
   "outputs": [],
   "execution_count": null
  },
  {
   "cell_type": "code",
   "metadata": {
    "tags": [],
    "cell_id": "00086-13d1470e-3789-41d2-b033-3b38ddb9fe27",
    "deepnote_to_be_reexecuted": false,
    "source_hash": "f7129cbd",
    "execution_start": 1642254310958,
    "execution_millis": 4,
    "deepnote_cell_type": "code"
   },
   "source": "best_params = ast.literal_eval(best_params)",
   "outputs": [],
   "execution_count": null
  },
  {
   "cell_type": "code",
   "metadata": {
    "cell_id": "00079-4dfa7b71-4c50-4561-9cb2-f357883c1efa",
    "deepnote_output_heights": [
     97.9375,
     97.9375
    ],
    "deepnote_to_be_reexecuted": false,
    "execution_millis": 602,
    "execution_start": 1642254315183,
    "source_hash": "34edbdf5",
    "tags": [],
    "output_cleared": false,
    "deepnote_cell_type": "code"
   },
   "source": "model = MLPRegressor(**best_params)\nmodel.fit(X, y)\nbest_params['early_stopping'] = False\neval_model = MLPRegressor(**best_params)",
   "outputs": [],
   "execution_count": null
  },
  {
   "cell_type": "code",
   "metadata": {
    "cell_id": "00082-3033d12b-469c-40d7-a046-5093c1b196ec",
    "deepnote_output_heights": [
     21.1875
    ],
    "deepnote_to_be_reexecuted": false,
    "execution_millis": 65,
    "execution_start": 1642254320036,
    "source_hash": "9e9de3f4",
    "tags": [],
    "output_cleared": false,
    "deepnote_cell_type": "code"
   },
   "source": "y_predicted = model.predict(X)\nprint(f\"Accuracy: {model.score(X, y)}\")\nprint(f\"MEE: {mee(y, y_predicted)}\")",
   "outputs": [
    {
     "name": "stdout",
     "text": "Accuracy: 0.9487366012680531\nMEE: 1.0512935569372814\n",
     "output_type": "stream"
    }
   ],
   "execution_count": null
  },
  {
   "cell_type": "code",
   "metadata": {
    "cell_id": "00082-8a47b9fe-9cab-4b6c-b0e3-7202eecb19ee",
    "deepnote_output_heights": [
     40.390625
    ],
    "deepnote_to_be_reexecuted": false,
    "execution_millis": 129,
    "execution_start": 1642254321397,
    "source_hash": "c0f59177",
    "tags": [],
    "output_cleared": false,
    "deepnote_cell_type": "code"
   },
   "source": "y_predicted_internal = model.predict(X_internal_test)\nprint(f\"Accuracy: {model.score(X_internal_test, y_internal_test)}\")\nprint(f\"MEE: {mee(y_internal_test, y_predicted_internal)}\")",
   "outputs": [
    {
     "name": "stdout",
     "text": "Accuracy: 0.931042189429351\nMEE: 1.1156016505999315\n",
     "output_type": "stream"
    }
   ],
   "execution_count": null
  },
  {
   "cell_type": "code",
   "metadata": {
    "tags": [],
    "cell_id": "00094-0b66efb1-babb-49a6-84db-2b60c8d5a71e",
    "deepnote_to_be_reexecuted": false,
    "source_hash": "e101cc15",
    "output_cleared": true,
    "execution_start": 1642254325780,
    "execution_millis": 6405,
    "deepnote_cell_type": "code"
   },
   "source": "train_scores, test_scores, train_loss, test_loss = fit_and_score(model.n_iter_, eval_model, X, y, X_internal_test, y_internal_test)",
   "execution_count": null,
   "outputs": []
  },
  {
   "cell_type": "markdown",
   "source": " ## Loss Curves",
   "metadata": {
    "cell_id": "00083-038798c9-56a8-4130-bba3-44bd7b859fc7",
    "tags": [],
    "deepnote_cell_type": "markdown"
   }
  },
  {
   "cell_type": "code",
   "metadata": {
    "cell_id": "00083-7b45a2ea-d5c6-4715-ac7b-f81d15f131e7",
    "deepnote_output_heights": [
     482
    ],
    "deepnote_to_be_reexecuted": false,
    "execution_millis": 505,
    "execution_start": 1642254332194,
    "source_hash": "2a28b3cd",
    "tags": [],
    "output_cleared": false,
    "deepnote_cell_type": "code"
   },
   "source": "plot_learning_curves(train_loss, test_loss, model.n_iter_, \"Loss (MSE)\")",
   "outputs": [
    {
     "data": {
      "text/plain": "<Figure size 720x576 with 1 Axes>",
      "image/png": "[encoded data removed]"
     },
     "metadata": {
      "needs_background": "light",
      "image/png": {
       "width": 612,
       "height": 480
      }
     },
     "output_type": "display_data"
    }
   ],
   "execution_count": null
  },
  {
   "cell_type": "markdown",
   "source": "## Learning Curves",
   "metadata": {
    "cell_id": "00085-7a7150fe-17f7-4e2f-b8fd-e0ff668dc37a",
    "tags": [],
    "deepnote_cell_type": "markdown"
   }
  },
  {
   "cell_type": "code",
   "metadata": {
    "cell_id": "00086-ed2d7972-98a0-4381-9a9c-f29d9b4fc448",
    "deepnote_output_heights": [
     482
    ],
    "deepnote_to_be_reexecuted": false,
    "execution_millis": 395,
    "execution_start": 1642254332715,
    "source_hash": "b6d9a11b",
    "tags": [],
    "output_cleared": false,
    "deepnote_cell_type": "code"
   },
   "source": "plot_learning_curves(train_scores, test_scores, model.n_iter_, \"Error (MEE)\")",
   "outputs": [
    {
     "data": {
      "text/plain": "<Figure size 720x576 with 1 Axes>",
      "image/png": "[encoded data removed]"
     },
     "metadata": {
      "needs_background": "light",
      "image/png": {
       "width": 612,
       "height": 480
      }
     },
     "output_type": "display_data"
    }
   ],
   "execution_count": null
  },
  {
   "cell_type": "markdown",
   "source": "### Plot of coordinates x and y from the training set",
   "metadata": {
    "cell_id": "00086-1d278b81-4dfb-481b-bd2d-6ecb54124bcb",
    "tags": [],
    "deepnote_cell_type": "markdown"
   }
  },
  {
   "cell_type": "code",
   "metadata": {
    "cell_id": "00008-ecc25ec9-9105-4377-9f71-5d9f2924ad85",
    "deepnote_output_heights": [
     21.1875,
     264
    ],
    "deepnote_to_be_reexecuted": false,
    "execution_millis": 340,
    "execution_start": 1642254337434,
    "output_cleared": false,
    "source_hash": "c1117b61",
    "deepnote_cell_type": "code"
   },
   "source": "plt.xlabel(\"x\")\nplt.ylabel(\"y\")\nplt.scatter(df_visual['x'], df_visual['y'])",
   "outputs": [
    {
     "output_type": "execute_result",
     "execution_count": 83,
     "data": {
      "text/plain": "<matplotlib.collections.PathCollection at 0x7fdc1a959e90>"
     },
     "metadata": {}
    },
    {
     "data": {
      "text/plain": "<Figure size 432x288 with 1 Axes>",
      "image/png": "[encoded data removed]"
     },
     "metadata": {
      "needs_background": "light",
      "image/png": {
       "width": 391,
       "height": 262
      }
     },
     "output_type": "display_data"
    }
   ],
   "execution_count": null
  },
  {
   "cell_type": "code",
   "metadata": {
    "cell_id": "00088-15885ca0-5699-40a2-b898-4d70e5c66228",
    "deepnote_to_be_reexecuted": false,
    "execution_millis": 4,
    "execution_start": 1642254341718,
    "source_hash": "a4dc9d4f",
    "tags": [],
    "output_cleared": true,
    "deepnote_cell_type": "code"
   },
   "source": "def plot_coordinates(model, X, true_y = None):\n    y_predicted = model.predict(X)\n    y_predicted = pd.DataFrame(data=y_predicted, columns=[\"x\", \"y\"])\n    if not None:\n        true_y = pd.DataFrame(data=true_y, columns=[\"x\", \"y\"])\n        plt.scatter(true_y['x'], true_y['y'], c='r', marker='*')\n    plt.xlabel(\"x\")\n    plt.ylabel(\"y\")\n    plt.scatter(y_predicted['x'], y_predicted['y'], c='#1f77b4')\n",
   "execution_count": null,
   "outputs": []
  },
  {
   "cell_type": "markdown",
   "source": "### Predicted points on internal test set",
   "metadata": {
    "cell_id": "00089-9abf5498-eafd-4118-a3de-3d97c0c02e22",
    "tags": [],
    "deepnote_cell_type": "markdown"
   }
  },
  {
   "cell_type": "code",
   "metadata": {
    "cell_id": "00087-f28f6cbd-3066-4ba3-a284-0fde9f54668d",
    "deepnote_output_heights": [
     263.984375
    ],
    "deepnote_to_be_reexecuted": false,
    "execution_millis": 349,
    "execution_start": 1642254343559,
    "source_hash": "9422e3bd",
    "tags": [],
    "output_cleared": false,
    "deepnote_cell_type": "code"
   },
   "source": "plot_coordinates(model, X_internal_test, y_internal_test)",
   "outputs": [
    {
     "data": {
      "text/plain": "<Figure size 432x288 with 1 Axes>",
      "image/png": "[encoded data removed]"
     },
     "metadata": {
      "needs_background": "light",
      "image/png": {
       "width": 391,
       "height": 262
      }
     },
     "output_type": "display_data"
    }
   ],
   "execution_count": null
  },
  {
   "cell_type": "code",
   "metadata": {
    "cell_id": "00091-b568584b-91e1-4366-8787-cbe43e52c5ec",
    "tags": [],
    "deepnote_to_be_reexecuted": false,
    "source_hash": "795a2625",
    "output_cleared": false,
    "execution_start": 1642254345060,
    "execution_millis": 503,
    "deepnote_output_heights": [
     263.984375
    ],
    "deepnote_cell_type": "code"
   },
   "source": "plot_coordinates(model, X_all, y_all)",
   "outputs": [
    {
     "data": {
      "text/plain": "<Figure size 432x288 with 1 Axes>",
      "image/png": "[encoded data removed]"
     },
     "metadata": {
      "needs_background": "light",
      "image/png": {
       "width": 391,
       "height": 262
      }
     },
     "output_type": "display_data"
    }
   ],
   "execution_count": null
  },
  {
   "cell_type": "markdown",
   "source": "### Predicted points on blind test set",
   "metadata": {
    "tags": [],
    "cell_id": "00105-5aeb8571-533b-4313-9f1e-051dae5a6cd2",
    "deepnote_cell_type": "markdown"
   }
  },
  {
   "cell_type": "code",
   "metadata": {
    "cell_id": "00018-c3e0eaa8-5cb8-4442-959c-1a731da2ca8c",
    "deepnote_output_heights": [
     263.984375
    ],
    "deepnote_to_be_reexecuted": false,
    "execution_millis": 406,
    "execution_start": 1642254349647,
    "source_hash": "dd65ae1c",
    "output_cleared": false,
    "deepnote_cell_type": "code"
   },
   "source": "plot_coordinates(model, blind_ts)",
   "outputs": [
    {
     "data": {
      "text/plain": "<Figure size 432x288 with 1 Axes>",
      "image/png": "[encoded data removed]"
     },
     "metadata": {
      "needs_background": "light",
      "image/png": {
       "width": 393,
       "height": 262
      }
     },
     "output_type": "display_data"
    }
   ],
   "execution_count": null
  },
  {
   "cell_type": "markdown",
   "source": "## Ensemble ",
   "metadata": {
    "cell_id": "00093-f93332e9-e7a3-4cbf-83bd-c8500ee574cc",
    "tags": [],
    "deepnote_cell_type": "markdown"
   }
  },
  {
   "cell_type": "markdown",
   "source": "First we try using the bagging method with 10 estimators.",
   "metadata": {
    "tags": [],
    "cell_id": "00104-4419fc58-d239-45c2-a44a-bfdccfd8df2f",
    "deepnote_cell_type": "markdown"
   }
  },
  {
   "cell_type": "code",
   "metadata": {
    "cell_id": "00093-dde78d36-f0d3-4bb8-be88-50d88c6465bd",
    "deepnote_to_be_reexecuted": false,
    "execution_millis": 6392,
    "execution_start": 1642254356001,
    "source_hash": "f7682dd1",
    "tags": [],
    "output_cleared": true,
    "deepnote_cell_type": "code"
   },
   "source": "bagging_ens = BaggingRegressor(model, n_estimators=10, n_jobs=-1, random_state=RS_NUMBER).fit(X, y)",
   "execution_count": null,
   "outputs": []
  },
  {
   "cell_type": "code",
   "metadata": {
    "cell_id": "00094-53b977c3-d07e-46bb-8b27-6bf2ae6c4d56",
    "deepnote_to_be_reexecuted": false,
    "execution_millis": 199,
    "execution_start": 1642254362401,
    "source_hash": "26336f72",
    "tags": [],
    "output_cleared": false,
    "deepnote_cell_type": "code"
   },
   "source": "y_predicted_internal_ensemble = bagging_ens.predict(X_internal_test)\nprint(f\"Accuracy: {model.score(X_internal_test, y_internal_test)}\")\nprint(f\"MEE: {mee(y_internal_test, y_predicted_internal_ensemble)}\")",
   "outputs": [
    {
     "name": "stdout",
     "text": "Accuracy: 0.931042189429351\nMEE: 1.0988026961908495\n",
     "output_type": "stream"
    }
   ],
   "execution_count": null
  },
  {
   "cell_type": "markdown",
   "source": "Then we try the voting method using the 10 best models from the randomized search. ",
   "metadata": {
    "tags": [],
    "cell_id": "00106-746bc8d1-9e37-45ba-98b0-b1b6932855b3",
    "deepnote_to_be_reexecuted": false,
    "source_hash": "b623e53d",
    "execution_start": 1641916793012,
    "execution_millis": 5,
    "deepnote_cell_type": "markdown"
   }
  },
  {
   "cell_type": "code",
   "metadata": {
    "tags": [],
    "cell_id": "00108-7aca346e-f510-49cf-9360-0ac0a387bf1f",
    "deepnote_to_be_reexecuted": false,
    "source_hash": "2a1727d5",
    "execution_start": 1642254362588,
    "execution_millis": 16072,
    "deepnote_output_heights": [
     155.546875
    ],
    "deepnote_cell_type": "code"
   },
   "source": "y_predictions_internal_test = list()\ny_predictions_blind_test = list()\n\n#fit every model\nfor model in best_models:\n    model.fit(X,y)\n\n\n#predictions on every model is averaged\nfor model in best_models:\n    y_pred = model.predict(X_internal_test)\n    y_predictions_internal_test.append(y_pred)\n    y_pred = model.predict(blind_ts)\n    y_predictions_blind_test.append(y_pred)\n",
   "outputs": [],
   "execution_count": null
  },
  {
   "cell_type": "code",
   "metadata": {
    "tags": [],
    "cell_id": "00111-baf13dd6-4cd6-4471-9b02-656e29f3ee65",
    "deepnote_to_be_reexecuted": false,
    "source_hash": "5acf98ef",
    "execution_start": 1642254378661,
    "execution_millis": 248,
    "deepnote_output_heights": [
     611
    ],
    "deepnote_cell_type": "code"
   },
   "source": "y_pred_voting_ens_internal_test = np.average(y_predictions_internal_test, axis=0)\ny_pred_voting_ens_blind_test = np.average(y_predictions_blind_test, axis=0)\n\nprint(f\"MEE: {mee(y_internal_test, y_pred_voting_ens_internal_test)}\")",
   "outputs": [
    {
     "name": "stdout",
     "text": "MEE: 1.0618897712376818\n",
     "output_type": "stream"
    }
   ],
   "execution_count": null
  },
  {
   "cell_type": "markdown",
   "source": "### Predicted points on internal test set using ensemble",
   "metadata": {
    "cell_id": "00097-5228796c-20df-48f7-b805-512d228ef30f",
    "tags": [],
    "deepnote_cell_type": "markdown"
   }
  },
  {
   "cell_type": "markdown",
   "source": "#### BAGGING ENSEMBLE",
   "metadata": {
    "tags": [],
    "cell_id": "00113-55befa4f-4ba5-4fef-8119-51838ad6f584",
    "deepnote_cell_type": "markdown"
   }
  },
  {
   "cell_type": "code",
   "metadata": {
    "cell_id": "00095-29178bf8-e53b-49f2-9b9f-6bc993f430ba",
    "deepnote_output_heights": [
     263.984375
    ],
    "deepnote_to_be_reexecuted": false,
    "execution_millis": 428,
    "execution_start": 1642254378679,
    "source_hash": "4af1efcf",
    "tags": [],
    "output_cleared": false,
    "deepnote_cell_type": "code"
   },
   "source": "#BAGGING ENSEMBLE\nplot_coordinates(bagging_ens, X_internal_test, y_internal_test)",
   "outputs": [
    {
     "data": {
      "text/plain": "<Figure size 432x288 with 1 Axes>",
      "image/png": "[encoded data removed]"
     },
     "metadata": {
      "needs_background": "light",
      "image/png": {
       "width": 391,
       "height": 262
      }
     },
     "output_type": "display_data"
    }
   ],
   "execution_count": null
  },
  {
   "cell_type": "markdown",
   "source": "#### VOTING COMMITEE OF 10 BEST MODELS",
   "metadata": {
    "tags": [],
    "cell_id": "00115-702f78f2-a20b-4758-af72-38a975969243",
    "deepnote_cell_type": "markdown"
   }
  },
  {
   "cell_type": "code",
   "metadata": {
    "tags": [],
    "cell_id": "00114-6a695924-135f-4e6a-8f4f-a620331787e7",
    "deepnote_to_be_reexecuted": false,
    "source_hash": "b09ac1d",
    "execution_start": 1642254379155,
    "execution_millis": 309,
    "deepnote_output_heights": [
     263.984375
    ],
    "deepnote_cell_type": "code"
   },
   "source": "y_predicted = pd.DataFrame(data=y_pred_voting_ens_internal_test, columns=[\"x\", \"y\"])\ntrue_y = pd.DataFrame(data=y_internal_test, columns=[\"x\", \"y\"])\nplt.scatter(true_y['x'], true_y['y'], c='r', marker='*')\nplt.xlabel(\"x\")\nplt.ylabel(\"y\")\nplt.scatter(y_predicted['x'], y_predicted['y'], c='#1f77b4');",
   "outputs": [
    {
     "data": {
      "text/plain": "<Figure size 432x288 with 1 Axes>",
      "image/png": "[encoded data removed]"
     },
     "metadata": {
      "needs_background": "light",
      "image/png": {
       "width": 391,
       "height": 262
      }
     },
     "output_type": "display_data"
    }
   ],
   "execution_count": null
  },
  {
   "cell_type": "markdown",
   "source": "### Predicted points on blind test set using Ensemble",
   "metadata": {
    "cell_id": "00099-a003a56a-ada4-43f9-9685-22118d6682cd",
    "tags": [],
    "deepnote_cell_type": "markdown"
   }
  },
  {
   "cell_type": "markdown",
   "source": "#### BAGGING ENSEMBLE",
   "metadata": {
    "tags": [],
    "cell_id": "00118-ad8658ba-8308-482d-a390-bd8f4241d5c7",
    "deepnote_cell_type": "markdown"
   }
  },
  {
   "cell_type": "code",
   "metadata": {
    "cell_id": "00096-5a316c05-fb63-44eb-9a33-25e78e40f89a",
    "deepnote_output_heights": [
     263.984375
    ],
    "deepnote_to_be_reexecuted": false,
    "execution_millis": 317,
    "execution_start": 1642254379463,
    "source_hash": "6ccc2280",
    "tags": [],
    "output_cleared": false,
    "deepnote_cell_type": "code"
   },
   "source": "#BAGGING ENSEMBLE\nplot_coordinates(bagging_ens, blind_ts)",
   "outputs": [
    {
     "data": {
      "text/plain": "<Figure size 432x288 with 1 Axes>",
      "image/png": "[encoded data removed]"
     },
     "metadata": {
      "needs_background": "light",
      "image/png": {
       "width": 391,
       "height": 262
      }
     },
     "output_type": "display_data"
    }
   ],
   "execution_count": null
  },
  {
   "cell_type": "markdown",
   "source": "#### VOTING COMMITEE OF 10 BEST MODELS",
   "metadata": {
    "tags": [],
    "cell_id": "00120-551f4c56-d9e8-441f-b681-1225a698906c",
    "deepnote_cell_type": "markdown"
   }
  },
  {
   "cell_type": "code",
   "metadata": {
    "tags": [],
    "cell_id": "00117-4c5b8697-82d2-44f6-a7cc-10b3e1dbe972",
    "deepnote_to_be_reexecuted": false,
    "source_hash": "15d71ae0",
    "execution_start": 1642254384663,
    "execution_millis": 358,
    "deepnote_output_heights": [
     263.984375
    ],
    "deepnote_cell_type": "code"
   },
   "source": "y_predicted = pd.DataFrame(data=y_pred_voting_ens_blind_test, columns=[\"x\", \"y\"])\nplt.xlabel(\"x\")\nplt.ylabel(\"y\")\nplt.scatter(y_predicted['x'], y_predicted['y'], c='#1f77b4');",
   "outputs": [
    {
     "data": {
      "text/plain": "<Figure size 432x288 with 1 Axes>",
      "image/png": "[encoded data removed]"
     },
     "metadata": {
      "needs_background": "light",
      "image/png": {
       "width": 391,
       "height": 262
      }
     },
     "output_type": "display_data"
    }
   ],
   "execution_count": null
  },
  {
   "cell_type": "code",
   "source": "",
   "metadata": {
    "cell_id": "4ca6f87c-1c15-4fae-92d3-b46361e71b17",
    "tags": [],
    "deepnote_cell_type": "code"
   },
   "outputs": [],
   "execution_count": null
  },
  {
   "cell_type": "markdown",
   "source": "<a style='text-decoration:none;line-height:16px;display:flex;color:#5B5B62;padding:10px;justify-content:end;' href='https://deepnote.com?utm_source=created-in-deepnote-cell&projectId=d9d840c9-75b3-4185-bb01-105f5cca8d83' target=\"_blank\">\n<img alt='Created in deepnote.com' style='display:inline;max-height:16px;margin:0px;margin-right:7.5px;' src='data:image/svg+xml;base64,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' > </img>\nCreated in <span style='font-weight:600;margin-left:4px;'>Deepnote</span></a>",
   "metadata": {
    "tags": [],
    "created_in_deepnote_cell": true,
    "deepnote_cell_type": "markdown"
   }
  }
 ],
 "nbformat": 4,
 "nbformat_minor": 5,
 "metadata": {
  "deepnote": {},
  "deepnote_execution_queue": [],
  "deepnote_notebook_id": "e6b16fc5-d82c-42a1-becc-b3e3eb4c046e",
  "kernelspec": {
   "display_name": "Python 3",
   "language": "python",
   "name": "python3"
  },
  "language_info": {
   "codemirror_mode": {
    "name": "ipython",
    "version": 3
   },
   "file_extension": ".py",
   "mimetype": "text/x-python",
   "name": "python",
   "nbconvert_exporter": "python",
   "pygments_lexer": "ipython3",
   "version": "3.9.7"
  }
 }
}