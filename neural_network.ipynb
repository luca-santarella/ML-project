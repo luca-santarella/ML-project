{
 "cells": [
  {
   "cell_type": "markdown",
   "source": "# Machine Learning project a.y. 2021/2022",
   "metadata": {
    "cell_id": "00000-20b425aa-ea48-417e-8de8-80b798a56627",
    "deepnote_cell_type": "markdown"
   }
  },
  {
   "cell_type": "markdown",
   "source": "## Scikit-learn MLPRegressor model",
   "metadata": {
    "cell_id": "00001-0b4766be-7481-4245-b46b-e62d89f13e8e",
    "deepnote_cell_type": "markdown"
   }
  },
  {
   "cell_type": "markdown",
   "source": "## Importing libraries",
   "metadata": {
    "cell_id": "00002-df7e2378-8b40-4303-a2e1-ed002e501fc7",
    "deepnote_cell_type": "markdown"
   }
  },
  {
   "cell_type": "code",
   "metadata": {
    "cell_id": "00003-61dc5a13-3cd8-445b-b8de-c471ff2498d2",
    "deepnote_to_be_reexecuted": false,
    "source_hash": "3a2e0eab",
    "execution_start": 1638914667108,
    "execution_millis": 1051,
    "deepnote_cell_type": "code"
   },
   "source": "import pandas as pd\nimport matplotlib.pyplot as plt\nimport numpy as np\n\nfrom sklearn.neural_network import MLPRegressor\nfrom sklearn.model_selection import train_test_split",
   "execution_count": null,
   "outputs": []
  },
  {
   "cell_type": "markdown",
   "source": "## Loading training set and blind test set",
   "metadata": {
    "cell_id": "00004-04491b00-26f4-4580-8468-20e4c04795c7",
    "deepnote_cell_type": "markdown"
   }
  },
  {
   "cell_type": "code",
   "metadata": {
    "cell_id": "00005-0b8f7c5b-8577-4b82-b67f-ece4b4ff2886",
    "deepnote_to_be_reexecuted": false,
    "source_hash": "42bcd954",
    "execution_start": 1638914668162,
    "execution_millis": 19,
    "deepnote_cell_type": "code"
   },
   "source": "df_visual = pd.read_csv('./data/ML-CUP21-TR.csv', usecols=[11,12], names=['idx','f1','f2','f3','f4','f5','f6','f7','f8','f9','f10', 'x','y'])\ndf_task_tr = pd.read_csv('./data/ML-CUP21-TR.csv', names=['idx','f1','f2','f3','f4','f5','f6','f7','f8','f9','f10', 'x','y'])\ndf_task_tr = df_task_tr[7:] # remove first 7 rows of comments\ndf_visual = df_visual[7:]\n\ndf_blind_ts = pd.read_csv('./data/ML-CUP21-TS.csv', names=['idx','f1','f2','f3','f4','f5','f6','f7','f8','f9','f10'])\ndf_blind_ts = df_blind_ts[7:]",
   "execution_count": null,
   "outputs": []
  },
  {
   "cell_type": "markdown",
   "source": "## Loading MONK dataset ",
   "metadata": {
    "tags": [],
    "cell_id": "00007-59c038d7-e2fc-4096-a98b-40251fd46776",
    "deepnote_cell_type": "markdown"
   }
  },
  {
   "cell_type": "code",
   "metadata": {
    "tags": [],
    "cell_id": "00008-2fddf6b4-7e3c-4ebb-bfec-6fd970b822d3",
    "deepnote_to_be_reexecuted": false,
    "source_hash": "cf496629",
    "execution_start": 1638914668185,
    "execution_millis": 11,
    "deepnote_cell_type": "code"
   },
   "source": "df_monk1_train = pd.read_csv('./data/MONK/monks-1.train', sep=\" \", skipinitialspace=True, names=['class','a1','a2','a3','a4','a5','a6','id'])\ndf_monk1_train.drop(labels='id', axis=1, inplace=True)\n\ndf_monk1_test = pd.read_csv('./data/MONK/monks-1.test', sep=\" \", skipinitialspace=True,  names=['class','a1','a2','a3','a4','a5','a6','id'])\ndf_monk1_test.drop(labels='id', axis=1, inplace=True)",
   "execution_count": null,
   "outputs": []
  },
  {
   "cell_type": "code",
   "metadata": {
    "tags": [],
    "cell_id": "00009-c89d2e6c-43bb-48e8-aeb3-a2392afb9980",
    "deepnote_to_be_reexecuted": false,
    "source_hash": "b9292661",
    "execution_start": 1638914668206,
    "execution_millis": 277,
    "deepnote_cell_type": "code"
   },
   "source": "df_monk1_test.head() #first column is the target (can be either 0 or 1)",
   "execution_count": null,
   "outputs": [
    {
     "output_type": "execute_result",
     "execution_count": 4,
     "data": {
      "application/vnd.deepnote.dataframe.v2+json": {
       "row_count": 5,
       "column_count": 7,
       "columns": [
        {
         "name": "class",
         "dtype": "int64",
         "stats": {
          "unique_count": 1,
          "nan_count": 0,
          "min": "1",
          "max": "1",
          "histogram": [
           {
            "bin_start": 0.5,
            "bin_end": 0.6,
            "count": 0
           },
           {
            "bin_start": 0.6,
            "bin_end": 0.7,
            "count": 0
           },
           {
            "bin_start": 0.7,
            "bin_end": 0.8,
            "count": 0
           },
           {
            "bin_start": 0.8,
            "bin_end": 0.9,
            "count": 0
           },
           {
            "bin_start": 0.9,
            "bin_end": 1,
            "count": 0
           },
           {
            "bin_start": 1,
            "bin_end": 1.1,
            "count": 5
           },
           {
            "bin_start": 1.1,
            "bin_end": 1.2000000000000002,
            "count": 0
           },
           {
            "bin_start": 1.2000000000000002,
            "bin_end": 1.3,
            "count": 0
           },
           {
            "bin_start": 1.3,
            "bin_end": 1.4,
            "count": 0
           },
           {
            "bin_start": 1.4,
            "bin_end": 1.5,
            "count": 0
           }
          ]
         }
        },
        {
         "name": "a1",
         "dtype": "int64",
         "stats": {
          "unique_count": 1,
          "nan_count": 0,
          "min": "1",
          "max": "1",
          "histogram": [
           {
            "bin_start": 0.5,
            "bin_end": 0.6,
            "count": 0
           },
           {
            "bin_start": 0.6,
            "bin_end": 0.7,
            "count": 0
           },
           {
            "bin_start": 0.7,
            "bin_end": 0.8,
            "count": 0
           },
           {
            "bin_start": 0.8,
            "bin_end": 0.9,
            "count": 0
           },
           {
            "bin_start": 0.9,
            "bin_end": 1,
            "count": 0
           },
           {
            "bin_start": 1,
            "bin_end": 1.1,
            "count": 5
           },
           {
            "bin_start": 1.1,
            "bin_end": 1.2000000000000002,
            "count": 0
           },
           {
            "bin_start": 1.2000000000000002,
            "bin_end": 1.3,
            "count": 0
           },
           {
            "bin_start": 1.3,
            "bin_end": 1.4,
            "count": 0
           },
           {
            "bin_start": 1.4,
            "bin_end": 1.5,
            "count": 0
           }
          ]
         }
        },
        {
         "name": "a2",
         "dtype": "int64",
         "stats": {
          "unique_count": 1,
          "nan_count": 0,
          "min": "1",
          "max": "1",
          "histogram": [
           {
            "bin_start": 0.5,
            "bin_end": 0.6,
            "count": 0
           },
           {
            "bin_start": 0.6,
            "bin_end": 0.7,
            "count": 0
           },
           {
            "bin_start": 0.7,
            "bin_end": 0.8,
            "count": 0
           },
           {
            "bin_start": 0.8,
            "bin_end": 0.9,
            "count": 0
           },
           {
            "bin_start": 0.9,
            "bin_end": 1,
            "count": 0
           },
           {
            "bin_start": 1,
            "bin_end": 1.1,
            "count": 5
           },
           {
            "bin_start": 1.1,
            "bin_end": 1.2000000000000002,
            "count": 0
           },
           {
            "bin_start": 1.2000000000000002,
            "bin_end": 1.3,
            "count": 0
           },
           {
            "bin_start": 1.3,
            "bin_end": 1.4,
            "count": 0
           },
           {
            "bin_start": 1.4,
            "bin_end": 1.5,
            "count": 0
           }
          ]
         }
        },
        {
         "name": "a3",
         "dtype": "int64",
         "stats": {
          "unique_count": 1,
          "nan_count": 0,
          "min": "1",
          "max": "1",
          "histogram": [
           {
            "bin_start": 0.5,
            "bin_end": 0.6,
            "count": 0
           },
           {
            "bin_start": 0.6,
            "bin_end": 0.7,
            "count": 0
           },
           {
            "bin_start": 0.7,
            "bin_end": 0.8,
            "count": 0
           },
           {
            "bin_start": 0.8,
            "bin_end": 0.9,
            "count": 0
           },
           {
            "bin_start": 0.9,
            "bin_end": 1,
            "count": 0
           },
           {
            "bin_start": 1,
            "bin_end": 1.1,
            "count": 5
           },
           {
            "bin_start": 1.1,
            "bin_end": 1.2000000000000002,
            "count": 0
           },
           {
            "bin_start": 1.2000000000000002,
            "bin_end": 1.3,
            "count": 0
           },
           {
            "bin_start": 1.3,
            "bin_end": 1.4,
            "count": 0
           },
           {
            "bin_start": 1.4,
            "bin_end": 1.5,
            "count": 0
           }
          ]
         }
        },
        {
         "name": "a4",
         "dtype": "int64",
         "stats": {
          "unique_count": 1,
          "nan_count": 0,
          "min": "1",
          "max": "1",
          "histogram": [
           {
            "bin_start": 0.5,
            "bin_end": 0.6,
            "count": 0
           },
           {
            "bin_start": 0.6,
            "bin_end": 0.7,
            "count": 0
           },
           {
            "bin_start": 0.7,
            "bin_end": 0.8,
            "count": 0
           },
           {
            "bin_start": 0.8,
            "bin_end": 0.9,
            "count": 0
           },
           {
            "bin_start": 0.9,
            "bin_end": 1,
            "count": 0
           },
           {
            "bin_start": 1,
            "bin_end": 1.1,
            "count": 5
           },
           {
            "bin_start": 1.1,
            "bin_end": 1.2000000000000002,
            "count": 0
           },
           {
            "bin_start": 1.2000000000000002,
            "bin_end": 1.3,
            "count": 0
           },
           {
            "bin_start": 1.3,
            "bin_end": 1.4,
            "count": 0
           },
           {
            "bin_start": 1.4,
            "bin_end": 1.5,
            "count": 0
           }
          ]
         }
        },
        {
         "name": "a5",
         "dtype": "int64",
         "stats": {
          "unique_count": 3,
          "nan_count": 0,
          "min": "1",
          "max": "3",
          "histogram": [
           {
            "bin_start": 1,
            "bin_end": 1.2,
            "count": 2
           },
           {
            "bin_start": 1.2,
            "bin_end": 1.4,
            "count": 0
           },
           {
            "bin_start": 1.4,
            "bin_end": 1.6,
            "count": 0
           },
           {
            "bin_start": 1.6,
            "bin_end": 1.8,
            "count": 0
           },
           {
            "bin_start": 1.8,
            "bin_end": 2,
            "count": 0
           },
           {
            "bin_start": 2,
            "bin_end": 2.2,
            "count": 2
           },
           {
            "bin_start": 2.2,
            "bin_end": 2.4000000000000004,
            "count": 0
           },
           {
            "bin_start": 2.4000000000000004,
            "bin_end": 2.6,
            "count": 0
           },
           {
            "bin_start": 2.6,
            "bin_end": 2.8,
            "count": 0
           },
           {
            "bin_start": 2.8,
            "bin_end": 3,
            "count": 1
           }
          ]
         }
        },
        {
         "name": "a6",
         "dtype": "int64",
         "stats": {
          "unique_count": 2,
          "nan_count": 0,
          "min": "1",
          "max": "2",
          "histogram": [
           {
            "bin_start": 1,
            "bin_end": 1.1,
            "count": 3
           },
           {
            "bin_start": 1.1,
            "bin_end": 1.2,
            "count": 0
           },
           {
            "bin_start": 1.2,
            "bin_end": 1.3,
            "count": 0
           },
           {
            "bin_start": 1.3,
            "bin_end": 1.4,
            "count": 0
           },
           {
            "bin_start": 1.4,
            "bin_end": 1.5,
            "count": 0
           },
           {
            "bin_start": 1.5,
            "bin_end": 1.6,
            "count": 0
           },
           {
            "bin_start": 1.6,
            "bin_end": 1.7000000000000002,
            "count": 0
           },
           {
            "bin_start": 1.7000000000000002,
            "bin_end": 1.8,
            "count": 0
           },
           {
            "bin_start": 1.8,
            "bin_end": 1.9,
            "count": 0
           },
           {
            "bin_start": 1.9,
            "bin_end": 2,
            "count": 2
           }
          ]
         }
        },
        {
         "name": "_deepnote_index_column",
         "dtype": "int64"
        }
       ],
       "rows_top": [
        {
         "class": 1,
         "a1": 1,
         "a2": 1,
         "a3": 1,
         "a4": 1,
         "a5": 1,
         "a6": 1,
         "_deepnote_index_column": 0
        },
        {
         "class": 1,
         "a1": 1,
         "a2": 1,
         "a3": 1,
         "a4": 1,
         "a5": 1,
         "a6": 2,
         "_deepnote_index_column": 1
        },
        {
         "class": 1,
         "a1": 1,
         "a2": 1,
         "a3": 1,
         "a4": 1,
         "a5": 2,
         "a6": 1,
         "_deepnote_index_column": 2
        },
        {
         "class": 1,
         "a1": 1,
         "a2": 1,
         "a3": 1,
         "a4": 1,
         "a5": 2,
         "a6": 2,
         "_deepnote_index_column": 3
        },
        {
         "class": 1,
         "a1": 1,
         "a2": 1,
         "a3": 1,
         "a4": 1,
         "a5": 3,
         "a6": 1,
         "_deepnote_index_column": 4
        }
       ],
       "rows_bottom": null
      },
      "text/plain": "   class  a1  a2  a3  a4  a5  a6\n0      1   1   1   1   1   1   1\n1      1   1   1   1   1   1   2\n2      1   1   1   1   1   2   1\n3      1   1   1   1   1   2   2\n4      1   1   1   1   1   3   1",
      "text/html": "<div>\n<style scoped>\n    .dataframe tbody tr th:only-of-type {\n        vertical-align: middle;\n    }\n\n    .dataframe tbody tr th {\n        vertical-align: top;\n    }\n\n    .dataframe thead th {\n        text-align: right;\n    }\n</style>\n<table border=\"1\" class=\"dataframe\">\n  <thead>\n    <tr style=\"text-align: right;\">\n      <th></th>\n      <th>class</th>\n      <th>a1</th>\n      <th>a2</th>\n      <th>a3</th>\n      <th>a4</th>\n      <th>a5</th>\n      <th>a6</th>\n    </tr>\n  </thead>\n  <tbody>\n    <tr>\n      <th>0</th>\n      <td>1</td>\n      <td>1</td>\n      <td>1</td>\n      <td>1</td>\n      <td>1</td>\n      <td>1</td>\n      <td>1</td>\n    </tr>\n    <tr>\n      <th>1</th>\n      <td>1</td>\n      <td>1</td>\n      <td>1</td>\n      <td>1</td>\n      <td>1</td>\n      <td>1</td>\n      <td>2</td>\n    </tr>\n    <tr>\n      <th>2</th>\n      <td>1</td>\n      <td>1</td>\n      <td>1</td>\n      <td>1</td>\n      <td>1</td>\n      <td>2</td>\n      <td>1</td>\n    </tr>\n    <tr>\n      <th>3</th>\n      <td>1</td>\n      <td>1</td>\n      <td>1</td>\n      <td>1</td>\n      <td>1</td>\n      <td>2</td>\n      <td>2</td>\n    </tr>\n    <tr>\n      <th>4</th>\n      <td>1</td>\n      <td>1</td>\n      <td>1</td>\n      <td>1</td>\n      <td>1</td>\n      <td>3</td>\n      <td>1</td>\n    </tr>\n  </tbody>\n</table>\n</div>"
     },
     "metadata": {}
    }
   ]
  },
  {
   "cell_type": "code",
   "metadata": {
    "tags": [],
    "cell_id": "00009-4ab7324b-2e56-435f-9330-90ef11aa9fc5",
    "deepnote_to_be_reexecuted": false,
    "source_hash": "a26e411c",
    "execution_start": 1638914668255,
    "execution_millis": 235,
    "deepnote_cell_type": "code"
   },
   "source": "df_monk1_train",
   "execution_count": null,
   "outputs": [
    {
     "output_type": "execute_result",
     "execution_count": 5,
     "data": {
      "application/vnd.deepnote.dataframe.v2+json": {
       "row_count": 124,
       "column_count": 7,
       "columns": [
        {
         "name": "class",
         "dtype": "int64",
         "stats": {
          "unique_count": 2,
          "nan_count": 0,
          "min": "0",
          "max": "1",
          "histogram": [
           {
            "bin_start": 0,
            "bin_end": 0.1,
            "count": 62
           },
           {
            "bin_start": 0.1,
            "bin_end": 0.2,
            "count": 0
           },
           {
            "bin_start": 0.2,
            "bin_end": 0.30000000000000004,
            "count": 0
           },
           {
            "bin_start": 0.30000000000000004,
            "bin_end": 0.4,
            "count": 0
           },
           {
            "bin_start": 0.4,
            "bin_end": 0.5,
            "count": 0
           },
           {
            "bin_start": 0.5,
            "bin_end": 0.6000000000000001,
            "count": 0
           },
           {
            "bin_start": 0.6000000000000001,
            "bin_end": 0.7000000000000001,
            "count": 0
           },
           {
            "bin_start": 0.7000000000000001,
            "bin_end": 0.8,
            "count": 0
           },
           {
            "bin_start": 0.8,
            "bin_end": 0.9,
            "count": 0
           },
           {
            "bin_start": 0.9,
            "bin_end": 1,
            "count": 62
           }
          ]
         }
        },
        {
         "name": "a1",
         "dtype": "int64",
         "stats": {
          "unique_count": 3,
          "nan_count": 0,
          "min": "1",
          "max": "3",
          "histogram": [
           {
            "bin_start": 1,
            "bin_end": 1.2,
            "count": 45
           },
           {
            "bin_start": 1.2,
            "bin_end": 1.4,
            "count": 0
           },
           {
            "bin_start": 1.4,
            "bin_end": 1.6,
            "count": 0
           },
           {
            "bin_start": 1.6,
            "bin_end": 1.8,
            "count": 0
           },
           {
            "bin_start": 1.8,
            "bin_end": 2,
            "count": 0
           },
           {
            "bin_start": 2,
            "bin_end": 2.2,
            "count": 42
           },
           {
            "bin_start": 2.2,
            "bin_end": 2.4000000000000004,
            "count": 0
           },
           {
            "bin_start": 2.4000000000000004,
            "bin_end": 2.6,
            "count": 0
           },
           {
            "bin_start": 2.6,
            "bin_end": 2.8,
            "count": 0
           },
           {
            "bin_start": 2.8,
            "bin_end": 3,
            "count": 37
           }
          ]
         }
        },
        {
         "name": "a2",
         "dtype": "int64",
         "stats": {
          "unique_count": 3,
          "nan_count": 0,
          "min": "1",
          "max": "3",
          "histogram": [
           {
            "bin_start": 1,
            "bin_end": 1.2,
            "count": 35
           },
           {
            "bin_start": 1.2,
            "bin_end": 1.4,
            "count": 0
           },
           {
            "bin_start": 1.4,
            "bin_end": 1.6,
            "count": 0
           },
           {
            "bin_start": 1.6,
            "bin_end": 1.8,
            "count": 0
           },
           {
            "bin_start": 1.8,
            "bin_end": 2,
            "count": 0
           },
           {
            "bin_start": 2,
            "bin_end": 2.2,
            "count": 42
           },
           {
            "bin_start": 2.2,
            "bin_end": 2.4000000000000004,
            "count": 0
           },
           {
            "bin_start": 2.4000000000000004,
            "bin_end": 2.6,
            "count": 0
           },
           {
            "bin_start": 2.6,
            "bin_end": 2.8,
            "count": 0
           },
           {
            "bin_start": 2.8,
            "bin_end": 3,
            "count": 47
           }
          ]
         }
        },
        {
         "name": "a3",
         "dtype": "int64",
         "stats": {
          "unique_count": 2,
          "nan_count": 0,
          "min": "1",
          "max": "2",
          "histogram": [
           {
            "bin_start": 1,
            "bin_end": 1.1,
            "count": 65
           },
           {
            "bin_start": 1.1,
            "bin_end": 1.2,
            "count": 0
           },
           {
            "bin_start": 1.2,
            "bin_end": 1.3,
            "count": 0
           },
           {
            "bin_start": 1.3,
            "bin_end": 1.4,
            "count": 0
           },
           {
            "bin_start": 1.4,
            "bin_end": 1.5,
            "count": 0
           },
           {
            "bin_start": 1.5,
            "bin_end": 1.6,
            "count": 0
           },
           {
            "bin_start": 1.6,
            "bin_end": 1.7000000000000002,
            "count": 0
           },
           {
            "bin_start": 1.7000000000000002,
            "bin_end": 1.8,
            "count": 0
           },
           {
            "bin_start": 1.8,
            "bin_end": 1.9,
            "count": 0
           },
           {
            "bin_start": 1.9,
            "bin_end": 2,
            "count": 59
           }
          ]
         }
        },
        {
         "name": "a4",
         "dtype": "int64",
         "stats": {
          "unique_count": 3,
          "nan_count": 0,
          "min": "1",
          "max": "3",
          "histogram": [
           {
            "bin_start": 1,
            "bin_end": 1.2,
            "count": 42
           },
           {
            "bin_start": 1.2,
            "bin_end": 1.4,
            "count": 0
           },
           {
            "bin_start": 1.4,
            "bin_end": 1.6,
            "count": 0
           },
           {
            "bin_start": 1.6,
            "bin_end": 1.8,
            "count": 0
           },
           {
            "bin_start": 1.8,
            "bin_end": 2,
            "count": 0
           },
           {
            "bin_start": 2,
            "bin_end": 2.2,
            "count": 39
           },
           {
            "bin_start": 2.2,
            "bin_end": 2.4000000000000004,
            "count": 0
           },
           {
            "bin_start": 2.4000000000000004,
            "bin_end": 2.6,
            "count": 0
           },
           {
            "bin_start": 2.6,
            "bin_end": 2.8,
            "count": 0
           },
           {
            "bin_start": 2.8,
            "bin_end": 3,
            "count": 43
           }
          ]
         }
        },
        {
         "name": "a5",
         "dtype": "int64",
         "stats": {
          "unique_count": 4,
          "nan_count": 0,
          "min": "1",
          "max": "4",
          "histogram": [
           {
            "bin_start": 1,
            "bin_end": 1.3,
            "count": 29
           },
           {
            "bin_start": 1.3,
            "bin_end": 1.6,
            "count": 0
           },
           {
            "bin_start": 1.6,
            "bin_end": 1.9,
            "count": 0
           },
           {
            "bin_start": 1.9,
            "bin_end": 2.2,
            "count": 31
           },
           {
            "bin_start": 2.2,
            "bin_end": 2.5,
            "count": 0
           },
           {
            "bin_start": 2.5,
            "bin_end": 2.8,
            "count": 0
           },
           {
            "bin_start": 2.8,
            "bin_end": 3.1,
            "count": 30
           },
           {
            "bin_start": 3.1,
            "bin_end": 3.4,
            "count": 0
           },
           {
            "bin_start": 3.4,
            "bin_end": 3.6999999999999997,
            "count": 0
           },
           {
            "bin_start": 3.6999999999999997,
            "bin_end": 4,
            "count": 34
           }
          ]
         }
        },
        {
         "name": "a6",
         "dtype": "int64",
         "stats": {
          "unique_count": 2,
          "nan_count": 0,
          "min": "1",
          "max": "2",
          "histogram": [
           {
            "bin_start": 1,
            "bin_end": 1.1,
            "count": 56
           },
           {
            "bin_start": 1.1,
            "bin_end": 1.2,
            "count": 0
           },
           {
            "bin_start": 1.2,
            "bin_end": 1.3,
            "count": 0
           },
           {
            "bin_start": 1.3,
            "bin_end": 1.4,
            "count": 0
           },
           {
            "bin_start": 1.4,
            "bin_end": 1.5,
            "count": 0
           },
           {
            "bin_start": 1.5,
            "bin_end": 1.6,
            "count": 0
           },
           {
            "bin_start": 1.6,
            "bin_end": 1.7000000000000002,
            "count": 0
           },
           {
            "bin_start": 1.7000000000000002,
            "bin_end": 1.8,
            "count": 0
           },
           {
            "bin_start": 1.8,
            "bin_end": 1.9,
            "count": 0
           },
           {
            "bin_start": 1.9,
            "bin_end": 2,
            "count": 68
           }
          ]
         }
        },
        {
         "name": "_deepnote_index_column",
         "dtype": "int64"
        }
       ],
       "rows_top": [
        {
         "class": 1,
         "a1": 1,
         "a2": 1,
         "a3": 1,
         "a4": 1,
         "a5": 3,
         "a6": 1,
         "_deepnote_index_column": 0
        },
        {
         "class": 1,
         "a1": 1,
         "a2": 1,
         "a3": 1,
         "a4": 1,
         "a5": 3,
         "a6": 2,
         "_deepnote_index_column": 1
        },
        {
         "class": 1,
         "a1": 1,
         "a2": 1,
         "a3": 1,
         "a4": 3,
         "a5": 2,
         "a6": 1,
         "_deepnote_index_column": 2
        },
        {
         "class": 1,
         "a1": 1,
         "a2": 1,
         "a3": 1,
         "a4": 3,
         "a5": 3,
         "a6": 2,
         "_deepnote_index_column": 3
        },
        {
         "class": 1,
         "a1": 1,
         "a2": 1,
         "a3": 2,
         "a4": 1,
         "a5": 2,
         "a6": 1,
         "_deepnote_index_column": 4
        },
        {
         "class": 1,
         "a1": 1,
         "a2": 1,
         "a3": 2,
         "a4": 1,
         "a5": 2,
         "a6": 2,
         "_deepnote_index_column": 5
        },
        {
         "class": 1,
         "a1": 1,
         "a2": 1,
         "a3": 2,
         "a4": 2,
         "a5": 3,
         "a6": 1,
         "_deepnote_index_column": 6
        },
        {
         "class": 1,
         "a1": 1,
         "a2": 1,
         "a3": 2,
         "a4": 2,
         "a5": 4,
         "a6": 1,
         "_deepnote_index_column": 7
        },
        {
         "class": 1,
         "a1": 1,
         "a2": 1,
         "a3": 2,
         "a4": 3,
         "a5": 1,
         "a6": 2,
         "_deepnote_index_column": 8
        },
        {
         "class": 1,
         "a1": 1,
         "a2": 2,
         "a3": 1,
         "a4": 1,
         "a5": 1,
         "a6": 2,
         "_deepnote_index_column": 9
        },
        {
         "class": 0,
         "a1": 1,
         "a2": 2,
         "a3": 1,
         "a4": 1,
         "a5": 2,
         "a6": 1,
         "_deepnote_index_column": 10
        },
        {
         "class": 0,
         "a1": 1,
         "a2": 2,
         "a3": 1,
         "a4": 1,
         "a5": 3,
         "a6": 1,
         "_deepnote_index_column": 11
        },
        {
         "class": 0,
         "a1": 1,
         "a2": 2,
         "a3": 1,
         "a4": 1,
         "a5": 4,
         "a6": 2,
         "_deepnote_index_column": 12
        },
        {
         "class": 1,
         "a1": 1,
         "a2": 2,
         "a3": 1,
         "a4": 2,
         "a5": 1,
         "a6": 1,
         "_deepnote_index_column": 13
        },
        {
         "class": 0,
         "a1": 1,
         "a2": 2,
         "a3": 1,
         "a4": 2,
         "a5": 3,
         "a6": 1,
         "_deepnote_index_column": 14
        },
        {
         "class": 0,
         "a1": 1,
         "a2": 2,
         "a3": 1,
         "a4": 2,
         "a5": 3,
         "a6": 2,
         "_deepnote_index_column": 15
        },
        {
         "class": 0,
         "a1": 1,
         "a2": 2,
         "a3": 1,
         "a4": 2,
         "a5": 4,
         "a6": 2,
         "_deepnote_index_column": 16
        },
        {
         "class": 0,
         "a1": 1,
         "a2": 2,
         "a3": 1,
         "a4": 3,
         "a5": 2,
         "a6": 1,
         "_deepnote_index_column": 17
        },
        {
         "class": 0,
         "a1": 1,
         "a2": 2,
         "a3": 1,
         "a4": 3,
         "a5": 4,
         "a6": 2,
         "_deepnote_index_column": 18
        },
        {
         "class": 0,
         "a1": 1,
         "a2": 2,
         "a3": 2,
         "a4": 1,
         "a5": 2,
         "a6": 2,
         "_deepnote_index_column": 19
        },
        {
         "class": 0,
         "a1": 1,
         "a2": 2,
         "a3": 2,
         "a4": 2,
         "a5": 3,
         "a6": 2,
         "_deepnote_index_column": 20
        },
        {
         "class": 0,
         "a1": 1,
         "a2": 2,
         "a3": 2,
         "a4": 2,
         "a5": 4,
         "a6": 1,
         "_deepnote_index_column": 21
        },
        {
         "class": 0,
         "a1": 1,
         "a2": 2,
         "a3": 2,
         "a4": 2,
         "a5": 4,
         "a6": 2,
         "_deepnote_index_column": 22
        },
        {
         "class": 0,
         "a1": 1,
         "a2": 2,
         "a3": 2,
         "a4": 3,
         "a5": 2,
         "a6": 2,
         "_deepnote_index_column": 23
        },
        {
         "class": 0,
         "a1": 1,
         "a2": 2,
         "a3": 2,
         "a4": 3,
         "a5": 3,
         "a6": 1,
         "_deepnote_index_column": 24
        },
        {
         "class": 0,
         "a1": 1,
         "a2": 2,
         "a3": 2,
         "a4": 3,
         "a5": 3,
         "a6": 2,
         "_deepnote_index_column": 25
        },
        {
         "class": 0,
         "a1": 1,
         "a2": 3,
         "a3": 1,
         "a4": 1,
         "a5": 2,
         "a6": 1,
         "_deepnote_index_column": 26
        },
        {
         "class": 0,
         "a1": 1,
         "a2": 3,
         "a3": 1,
         "a4": 1,
         "a5": 4,
         "a6": 1,
         "_deepnote_index_column": 27
        },
        {
         "class": 0,
         "a1": 1,
         "a2": 3,
         "a3": 1,
         "a4": 2,
         "a5": 2,
         "a6": 1,
         "_deepnote_index_column": 28
        },
        {
         "class": 0,
         "a1": 1,
         "a2": 3,
         "a3": 1,
         "a4": 2,
         "a5": 4,
         "a6": 1,
         "_deepnote_index_column": 29
        },
        {
         "class": 1,
         "a1": 1,
         "a2": 3,
         "a3": 1,
         "a4": 3,
         "a5": 1,
         "a6": 2,
         "_deepnote_index_column": 30
        },
        {
         "class": 0,
         "a1": 1,
         "a2": 3,
         "a3": 1,
         "a4": 3,
         "a5": 2,
         "a6": 2,
         "_deepnote_index_column": 31
        },
        {
         "class": 0,
         "a1": 1,
         "a2": 3,
         "a3": 1,
         "a4": 3,
         "a5": 3,
         "a6": 1,
         "_deepnote_index_column": 32
        },
        {
         "class": 0,
         "a1": 1,
         "a2": 3,
         "a3": 1,
         "a4": 3,
         "a5": 4,
         "a6": 1,
         "_deepnote_index_column": 33
        },
        {
         "class": 0,
         "a1": 1,
         "a2": 3,
         "a3": 1,
         "a4": 3,
         "a5": 4,
         "a6": 2,
         "_deepnote_index_column": 34
        },
        {
         "class": 0,
         "a1": 1,
         "a2": 3,
         "a3": 2,
         "a4": 1,
         "a5": 2,
         "a6": 2,
         "_deepnote_index_column": 35
        },
        {
         "class": 1,
         "a1": 1,
         "a2": 3,
         "a3": 2,
         "a4": 2,
         "a5": 1,
         "a6": 2,
         "_deepnote_index_column": 36
        },
        {
         "class": 0,
         "a1": 1,
         "a2": 3,
         "a3": 2,
         "a4": 2,
         "a5": 2,
         "a6": 2,
         "_deepnote_index_column": 37
        },
        {
         "class": 0,
         "a1": 1,
         "a2": 3,
         "a3": 2,
         "a4": 2,
         "a5": 3,
         "a6": 2,
         "_deepnote_index_column": 38
        },
        {
         "class": 0,
         "a1": 1,
         "a2": 3,
         "a3": 2,
         "a4": 2,
         "a5": 4,
         "a6": 1,
         "_deepnote_index_column": 39
        },
        {
         "class": 0,
         "a1": 1,
         "a2": 3,
         "a3": 2,
         "a4": 2,
         "a5": 4,
         "a6": 2,
         "_deepnote_index_column": 40
        },
        {
         "class": 1,
         "a1": 1,
         "a2": 3,
         "a3": 2,
         "a4": 3,
         "a5": 1,
         "a6": 1,
         "_deepnote_index_column": 41
        },
        {
         "class": 0,
         "a1": 1,
         "a2": 3,
         "a3": 2,
         "a4": 3,
         "a5": 2,
         "a6": 1,
         "_deepnote_index_column": 42
        },
        {
         "class": 0,
         "a1": 1,
         "a2": 3,
         "a3": 2,
         "a4": 3,
         "a5": 4,
         "a6": 1,
         "_deepnote_index_column": 43
        },
        {
         "class": 0,
         "a1": 1,
         "a2": 3,
         "a3": 2,
         "a4": 3,
         "a5": 4,
         "a6": 2,
         "_deepnote_index_column": 44
        },
        {
         "class": 0,
         "a1": 2,
         "a2": 1,
         "a3": 1,
         "a4": 1,
         "a5": 3,
         "a6": 1,
         "_deepnote_index_column": 45
        },
        {
         "class": 0,
         "a1": 2,
         "a2": 1,
         "a3": 1,
         "a4": 1,
         "a5": 3,
         "a6": 2,
         "_deepnote_index_column": 46
        },
        {
         "class": 1,
         "a1": 2,
         "a2": 1,
         "a3": 1,
         "a4": 2,
         "a5": 1,
         "a6": 1,
         "_deepnote_index_column": 47
        },
        {
         "class": 1,
         "a1": 2,
         "a2": 1,
         "a3": 1,
         "a4": 2,
         "a5": 1,
         "a6": 2,
         "_deepnote_index_column": 48
        },
        {
         "class": 0,
         "a1": 2,
         "a2": 1,
         "a3": 1,
         "a4": 2,
         "a5": 2,
         "a6": 2,
         "_deepnote_index_column": 49
        },
        {
         "class": 0,
         "a1": 2,
         "a2": 1,
         "a3": 1,
         "a4": 2,
         "a5": 3,
         "a6": 1,
         "_deepnote_index_column": 50
        },
        {
         "class": 0,
         "a1": 2,
         "a2": 1,
         "a3": 1,
         "a4": 2,
         "a5": 4,
         "a6": 1,
         "_deepnote_index_column": 51
        },
        {
         "class": 0,
         "a1": 2,
         "a2": 1,
         "a3": 1,
         "a4": 2,
         "a5": 4,
         "a6": 2,
         "_deepnote_index_column": 52
        },
        {
         "class": 0,
         "a1": 2,
         "a2": 1,
         "a3": 1,
         "a4": 3,
         "a5": 4,
         "a6": 1,
         "_deepnote_index_column": 53
        },
        {
         "class": 0,
         "a1": 2,
         "a2": 1,
         "a3": 2,
         "a4": 1,
         "a5": 2,
         "a6": 2,
         "_deepnote_index_column": 54
        },
        {
         "class": 0,
         "a1": 2,
         "a2": 1,
         "a3": 2,
         "a4": 1,
         "a5": 3,
         "a6": 1,
         "_deepnote_index_column": 55
        },
        {
         "class": 0,
         "a1": 2,
         "a2": 1,
         "a3": 2,
         "a4": 1,
         "a5": 4,
         "a6": 2,
         "_deepnote_index_column": 56
        },
        {
         "class": 0,
         "a1": 2,
         "a2": 1,
         "a3": 2,
         "a4": 2,
         "a5": 3,
         "a6": 1,
         "_deepnote_index_column": 57
        },
        {
         "class": 0,
         "a1": 2,
         "a2": 1,
         "a3": 2,
         "a4": 2,
         "a5": 4,
         "a6": 2,
         "_deepnote_index_column": 58
        },
        {
         "class": 0,
         "a1": 2,
         "a2": 1,
         "a3": 2,
         "a4": 3,
         "a5": 2,
         "a6": 2,
         "_deepnote_index_column": 59
        },
        {
         "class": 0,
         "a1": 2,
         "a2": 1,
         "a3": 2,
         "a4": 3,
         "a5": 4,
         "a6": 1,
         "_deepnote_index_column": 60
        },
        {
         "class": 1,
         "a1": 2,
         "a2": 2,
         "a3": 1,
         "a4": 1,
         "a5": 2,
         "a6": 1,
         "_deepnote_index_column": 61
        },
        {
         "class": 1,
         "a1": 2,
         "a2": 2,
         "a3": 1,
         "a4": 1,
         "a5": 2,
         "a6": 2,
         "_deepnote_index_column": 62
        },
        {
         "class": 1,
         "a1": 2,
         "a2": 2,
         "a3": 1,
         "a4": 1,
         "a5": 3,
         "a6": 1,
         "_deepnote_index_column": 63
        },
        {
         "class": 1,
         "a1": 2,
         "a2": 2,
         "a3": 1,
         "a4": 2,
         "a5": 3,
         "a6": 2,
         "_deepnote_index_column": 64
        },
        {
         "class": 1,
         "a1": 2,
         "a2": 2,
         "a3": 1,
         "a4": 3,
         "a5": 1,
         "a6": 1,
         "_deepnote_index_column": 65
        },
        {
         "class": 1,
         "a1": 2,
         "a2": 2,
         "a3": 1,
         "a4": 3,
         "a5": 1,
         "a6": 2,
         "_deepnote_index_column": 66
        },
        {
         "class": 1,
         "a1": 2,
         "a2": 2,
         "a3": 1,
         "a4": 3,
         "a5": 2,
         "a6": 2,
         "_deepnote_index_column": 67
        },
        {
         "class": 1,
         "a1": 2,
         "a2": 2,
         "a3": 1,
         "a4": 3,
         "a5": 3,
         "a6": 2,
         "_deepnote_index_column": 68
        },
        {
         "class": 1,
         "a1": 2,
         "a2": 2,
         "a3": 1,
         "a4": 3,
         "a5": 4,
         "a6": 2,
         "_deepnote_index_column": 69
        },
        {
         "class": 1,
         "a1": 2,
         "a2": 2,
         "a3": 2,
         "a4": 1,
         "a5": 1,
         "a6": 1,
         "_deepnote_index_column": 70
        },
        {
         "class": 1,
         "a1": 2,
         "a2": 2,
         "a3": 2,
         "a4": 1,
         "a5": 3,
         "a6": 2,
         "_deepnote_index_column": 71
        },
        {
         "class": 1,
         "a1": 2,
         "a2": 2,
         "a3": 2,
         "a4": 1,
         "a5": 4,
         "a6": 1,
         "_deepnote_index_column": 72
        },
        {
         "class": 1,
         "a1": 2,
         "a2": 2,
         "a3": 2,
         "a4": 1,
         "a5": 4,
         "a6": 2,
         "_deepnote_index_column": 73
        },
        {
         "class": 1,
         "a1": 2,
         "a2": 2,
         "a3": 2,
         "a4": 2,
         "a5": 2,
         "a6": 1,
         "_deepnote_index_column": 74
        },
        {
         "class": 1,
         "a1": 2,
         "a2": 2,
         "a3": 2,
         "a4": 3,
         "a5": 4,
         "a6": 1,
         "_deepnote_index_column": 75
        },
        {
         "class": 1,
         "a1": 2,
         "a2": 3,
         "a3": 1,
         "a4": 1,
         "a5": 1,
         "a6": 1,
         "_deepnote_index_column": 76
        },
        {
         "class": 1,
         "a1": 2,
         "a2": 3,
         "a3": 1,
         "a4": 2,
         "a5": 1,
         "a6": 1,
         "_deepnote_index_column": 77
        },
        {
         "class": 0,
         "a1": 2,
         "a2": 3,
         "a3": 1,
         "a4": 2,
         "a5": 3,
         "a6": 1,
         "_deepnote_index_column": 78
        },
        {
         "class": 1,
         "a1": 2,
         "a2": 3,
         "a3": 1,
         "a4": 3,
         "a5": 1,
         "a6": 2,
         "_deepnote_index_column": 79
        },
        {
         "class": 0,
         "a1": 2,
         "a2": 3,
         "a3": 1,
         "a4": 3,
         "a5": 3,
         "a6": 1,
         "_deepnote_index_column": 80
        },
        {
         "class": 0,
         "a1": 2,
         "a2": 3,
         "a3": 1,
         "a4": 3,
         "a5": 4,
         "a6": 2,
         "_deepnote_index_column": 81
        },
        {
         "class": 0,
         "a1": 2,
         "a2": 3,
         "a3": 2,
         "a4": 1,
         "a5": 3,
         "a6": 2,
         "_deepnote_index_column": 82
        },
        {
         "class": 1,
         "a1": 2,
         "a2": 3,
         "a3": 2,
         "a4": 2,
         "a5": 1,
         "a6": 1,
         "_deepnote_index_column": 83
        },
        {
         "class": 1,
         "a1": 2,
         "a2": 3,
         "a3": 2,
         "a4": 2,
         "a5": 1,
         "a6": 2,
         "_deepnote_index_column": 84
        },
        {
         "class": 0,
         "a1": 2,
         "a2": 3,
         "a3": 2,
         "a4": 2,
         "a5": 2,
         "a6": 1,
         "_deepnote_index_column": 85
        },
        {
         "class": 0,
         "a1": 2,
         "a2": 3,
         "a3": 2,
         "a4": 3,
         "a5": 3,
         "a6": 2,
         "_deepnote_index_column": 86
        },
        {
         "class": 1,
         "a1": 3,
         "a2": 1,
         "a3": 1,
         "a4": 1,
         "a5": 1,
         "a6": 1,
         "_deepnote_index_column": 87
        },
        {
         "class": 1,
         "a1": 3,
         "a2": 1,
         "a3": 1,
         "a4": 1,
         "a5": 1,
         "a6": 2,
         "_deepnote_index_column": 88
        },
        {
         "class": 1,
         "a1": 3,
         "a2": 1,
         "a3": 1,
         "a4": 2,
         "a5": 1,
         "a6": 1,
         "_deepnote_index_column": 89
        },
        {
         "class": 0,
         "a1": 3,
         "a2": 1,
         "a3": 1,
         "a4": 2,
         "a5": 2,
         "a6": 2,
         "_deepnote_index_column": 90
        },
        {
         "class": 0,
         "a1": 3,
         "a2": 1,
         "a3": 1,
         "a4": 3,
         "a5": 2,
         "a6": 2,
         "_deepnote_index_column": 91
        },
        {
         "class": 1,
         "a1": 3,
         "a2": 1,
         "a3": 2,
         "a4": 1,
         "a5": 1,
         "a6": 1,
         "_deepnote_index_column": 92
        },
        {
         "class": 0,
         "a1": 3,
         "a2": 1,
         "a3": 2,
         "a4": 1,
         "a5": 2,
         "a6": 2,
         "_deepnote_index_column": 93
        },
        {
         "class": 0,
         "a1": 3,
         "a2": 1,
         "a3": 2,
         "a4": 2,
         "a5": 2,
         "a6": 2,
         "_deepnote_index_column": 94
        },
        {
         "class": 0,
         "a1": 3,
         "a2": 1,
         "a3": 2,
         "a4": 2,
         "a5": 3,
         "a6": 2,
         "_deepnote_index_column": 95
        },
        {
         "class": 0,
         "a1": 3,
         "a2": 1,
         "a3": 2,
         "a4": 3,
         "a5": 2,
         "a6": 2,
         "_deepnote_index_column": 96
        },
        {
         "class": 1,
         "a1": 3,
         "a2": 2,
         "a3": 1,
         "a4": 1,
         "a5": 1,
         "a6": 1,
         "_deepnote_index_column": 97
        },
        {
         "class": 0,
         "a1": 3,
         "a2": 2,
         "a3": 1,
         "a4": 1,
         "a5": 4,
         "a6": 2,
         "_deepnote_index_column": 98
        },
        {
         "class": 1,
         "a1": 3,
         "a2": 2,
         "a3": 1,
         "a4": 2,
         "a5": 1,
         "a6": 2,
         "_deepnote_index_column": 99
        },
        {
         "class": 0,
         "a1": 3,
         "a2": 2,
         "a3": 1,
         "a4": 2,
         "a5": 4,
         "a6": 2,
         "_deepnote_index_column": 100
        },
        {
         "class": 1,
         "a1": 3,
         "a2": 2,
         "a3": 2,
         "a4": 1,
         "a5": 1,
         "a6": 1,
         "_deepnote_index_column": 101
        },
        {
         "class": 1,
         "a1": 3,
         "a2": 2,
         "a3": 2,
         "a4": 1,
         "a5": 1,
         "a6": 2,
         "_deepnote_index_column": 102
        },
        {
         "class": 0,
         "a1": 3,
         "a2": 2,
         "a3": 2,
         "a4": 1,
         "a5": 3,
         "a6": 2,
         "_deepnote_index_column": 103
        },
        {
         "class": 1,
         "a1": 3,
         "a2": 2,
         "a3": 2,
         "a4": 3,
         "a5": 1,
         "a6": 1,
         "_deepnote_index_column": 104
        },
        {
         "class": 0,
         "a1": 3,
         "a2": 2,
         "a3": 2,
         "a4": 3,
         "a5": 2,
         "a6": 1,
         "_deepnote_index_column": 105
        },
        {
         "class": 0,
         "a1": 3,
         "a2": 2,
         "a3": 2,
         "a4": 3,
         "a5": 4,
         "a6": 1,
         "_deepnote_index_column": 106
        },
        {
         "class": 1,
         "a1": 3,
         "a2": 3,
         "a3": 1,
         "a4": 1,
         "a5": 1,
         "a6": 1,
         "_deepnote_index_column": 107
        },
        {
         "class": 1,
         "a1": 3,
         "a2": 3,
         "a3": 1,
         "a4": 1,
         "a5": 2,
         "a6": 1,
         "_deepnote_index_column": 108
        },
        {
         "class": 1,
         "a1": 3,
         "a2": 3,
         "a3": 1,
         "a4": 1,
         "a5": 4,
         "a6": 2,
         "_deepnote_index_column": 109
        },
        {
         "class": 1,
         "a1": 3,
         "a2": 3,
         "a3": 1,
         "a4": 2,
         "a5": 3,
         "a6": 2,
         "_deepnote_index_column": 110
        },
        {
         "class": 1,
         "a1": 3,
         "a2": 3,
         "a3": 1,
         "a4": 2,
         "a5": 4,
         "a6": 2,
         "_deepnote_index_column": 111
        },
        {
         "class": 1,
         "a1": 3,
         "a2": 3,
         "a3": 1,
         "a4": 3,
         "a5": 1,
         "a6": 2,
         "_deepnote_index_column": 112
        },
        {
         "class": 1,
         "a1": 3,
         "a2": 3,
         "a3": 1,
         "a4": 3,
         "a5": 2,
         "a6": 1,
         "_deepnote_index_column": 113
        },
        {
         "class": 1,
         "a1": 3,
         "a2": 3,
         "a3": 1,
         "a4": 3,
         "a5": 2,
         "a6": 2,
         "_deepnote_index_column": 114
        },
        {
         "class": 1,
         "a1": 3,
         "a2": 3,
         "a3": 1,
         "a4": 3,
         "a5": 4,
         "a6": 2,
         "_deepnote_index_column": 115
        },
        {
         "class": 1,
         "a1": 3,
         "a2": 3,
         "a3": 2,
         "a4": 1,
         "a5": 1,
         "a6": 1,
         "_deepnote_index_column": 116
        },
        {
         "class": 1,
         "a1": 3,
         "a2": 3,
         "a3": 2,
         "a4": 1,
         "a5": 3,
         "a6": 2,
         "_deepnote_index_column": 117
        },
        {
         "class": 1,
         "a1": 3,
         "a2": 3,
         "a3": 2,
         "a4": 1,
         "a5": 4,
         "a6": 1,
         "_deepnote_index_column": 118
        },
        {
         "class": 1,
         "a1": 3,
         "a2": 3,
         "a3": 2,
         "a4": 1,
         "a5": 4,
         "a6": 2,
         "_deepnote_index_column": 119
        },
        {
         "class": 1,
         "a1": 3,
         "a2": 3,
         "a3": 2,
         "a4": 3,
         "a5": 1,
         "a6": 2,
         "_deepnote_index_column": 120
        },
        {
         "class": 1,
         "a1": 3,
         "a2": 3,
         "a3": 2,
         "a4": 3,
         "a5": 2,
         "a6": 2,
         "_deepnote_index_column": 121
        },
        {
         "class": 1,
         "a1": 3,
         "a2": 3,
         "a3": 2,
         "a4": 3,
         "a5": 3,
         "a6": 2,
         "_deepnote_index_column": 122
        },
        {
         "class": 1,
         "a1": 3,
         "a2": 3,
         "a3": 2,
         "a4": 3,
         "a5": 4,
         "a6": 2,
         "_deepnote_index_column": 123
        }
       ],
       "rows_bottom": null
      },
      "text/plain": "     class  a1  a2  a3  a4  a5  a6\n0        1   1   1   1   1   3   1\n1        1   1   1   1   1   3   2\n2        1   1   1   1   3   2   1\n3        1   1   1   1   3   3   2\n4        1   1   1   2   1   2   1\n..     ...  ..  ..  ..  ..  ..  ..\n119      1   3   3   2   1   4   2\n120      1   3   3   2   3   1   2\n121      1   3   3   2   3   2   2\n122      1   3   3   2   3   3   2\n123      1   3   3   2   3   4   2\n\n[124 rows x 7 columns]",
      "text/html": "<div>\n<style scoped>\n    .dataframe tbody tr th:only-of-type {\n        vertical-align: middle;\n    }\n\n    .dataframe tbody tr th {\n        vertical-align: top;\n    }\n\n    .dataframe thead th {\n        text-align: right;\n    }\n</style>\n<table border=\"1\" class=\"dataframe\">\n  <thead>\n    <tr style=\"text-align: right;\">\n      <th></th>\n      <th>class</th>\n      <th>a1</th>\n      <th>a2</th>\n      <th>a3</th>\n      <th>a4</th>\n      <th>a5</th>\n      <th>a6</th>\n    </tr>\n  </thead>\n  <tbody>\n    <tr>\n      <th>0</th>\n      <td>1</td>\n      <td>1</td>\n      <td>1</td>\n      <td>1</td>\n      <td>1</td>\n      <td>3</td>\n      <td>1</td>\n    </tr>\n    <tr>\n      <th>1</th>\n      <td>1</td>\n      <td>1</td>\n      <td>1</td>\n      <td>1</td>\n      <td>1</td>\n      <td>3</td>\n      <td>2</td>\n    </tr>\n    <tr>\n      <th>2</th>\n      <td>1</td>\n      <td>1</td>\n      <td>1</td>\n      <td>1</td>\n      <td>3</td>\n      <td>2</td>\n      <td>1</td>\n    </tr>\n    <tr>\n      <th>3</th>\n      <td>1</td>\n      <td>1</td>\n      <td>1</td>\n      <td>1</td>\n      <td>3</td>\n      <td>3</td>\n      <td>2</td>\n    </tr>\n    <tr>\n      <th>4</th>\n      <td>1</td>\n      <td>1</td>\n      <td>1</td>\n      <td>2</td>\n      <td>1</td>\n      <td>2</td>\n      <td>1</td>\n    </tr>\n    <tr>\n      <th>...</th>\n      <td>...</td>\n      <td>...</td>\n      <td>...</td>\n      <td>...</td>\n      <td>...</td>\n      <td>...</td>\n      <td>...</td>\n    </tr>\n    <tr>\n      <th>119</th>\n      <td>1</td>\n      <td>3</td>\n      <td>3</td>\n      <td>2</td>\n      <td>1</td>\n      <td>4</td>\n      <td>2</td>\n    </tr>\n    <tr>\n      <th>120</th>\n      <td>1</td>\n      <td>3</td>\n      <td>3</td>\n      <td>2</td>\n      <td>3</td>\n      <td>1</td>\n      <td>2</td>\n    </tr>\n    <tr>\n      <th>121</th>\n      <td>1</td>\n      <td>3</td>\n      <td>3</td>\n      <td>2</td>\n      <td>3</td>\n      <td>2</td>\n      <td>2</td>\n    </tr>\n    <tr>\n      <th>122</th>\n      <td>1</td>\n      <td>3</td>\n      <td>3</td>\n      <td>2</td>\n      <td>3</td>\n      <td>3</td>\n      <td>2</td>\n    </tr>\n    <tr>\n      <th>123</th>\n      <td>1</td>\n      <td>3</td>\n      <td>3</td>\n      <td>2</td>\n      <td>3</td>\n      <td>4</td>\n      <td>2</td>\n    </tr>\n  </tbody>\n</table>\n<p>124 rows × 7 columns</p>\n</div>"
     },
     "metadata": {}
    }
   ]
  },
  {
   "cell_type": "code",
   "metadata": {
    "tags": [],
    "cell_id": "00010-16d1807e-b41e-437a-a01d-75d9cfb9fd66",
    "deepnote_to_be_reexecuted": false,
    "source_hash": "95164829",
    "execution_start": 1638914668288,
    "execution_millis": 0,
    "deepnote_cell_type": "code"
   },
   "source": "target_train = df_monk1_train[['class']]\ndf_monk1_train.drop(labels='class', axis=1, inplace=True)\ntarget_test = df_monk1_test[['class']]\ndf_monk1_test.drop(labels='class', axis=1, inplace=True)\n#X_train, X_test, y_train, y_test = train_test_split(df_monk1_train, target, stratify = target, test_size = 0.30, random_state = 42)\nX_train = df_monk1_train\ny_train = target_train\nX_test = df_monk1_test\ny_test = target_test",
   "execution_count": null,
   "outputs": []
  },
  {
   "cell_type": "code",
   "metadata": {
    "tags": [],
    "cell_id": "00011-50692f4f-93b8-4f4d-966e-7e13c2dffa15",
    "deepnote_to_be_reexecuted": false,
    "source_hash": "d387164a",
    "execution_start": 1638914668289,
    "execution_millis": 0,
    "deepnote_output_heights": [
     21.1875
    ],
    "deepnote_cell_type": "code"
   },
   "source": "y_train = y_train.values #returns a ndarray \nX_train = X_train.values #returns a ndarray\ny_test = y_test.values\nX_test = X_test.values\ny_train = y_train.ravel() #flattens the array into a 1-dimensional array\ny_test = y_test.ravel() #flattens the array into a 1-dimensional array",
   "execution_count": null,
   "outputs": []
  },
  {
   "cell_type": "markdown",
   "source": "### One hot encoding \nIn the MONK dataset we have the categories encoded using label encoding, we need to use one hot encoding in order to have better results. ",
   "metadata": {
    "tags": [],
    "cell_id": "00013-e9ed08e1-8231-46ab-8e39-4033e01f6195",
    "deepnote_cell_type": "markdown"
   }
  },
  {
   "cell_type": "code",
   "metadata": {
    "tags": [],
    "cell_id": "00013-60208cfc-c403-487e-ab14-9b3f9ac379a8",
    "deepnote_to_be_reexecuted": false,
    "source_hash": "886bd81e",
    "execution_start": 1638914668290,
    "execution_millis": 200,
    "deepnote_output_heights": [
     21.1875
    ],
    "deepnote_cell_type": "code"
   },
   "source": "from sklearn.preprocessing import OneHotEncoder\n\nenc_train = OneHotEncoder()\nenc_train.fit(X_train)\nX_train = enc_train.transform(X_train).toarray()\nprint(X_train.shape)\n\nenc_test = OneHotEncoder()\nenc_test.fit(X_test)\nX_test = enc_test.transform(X_test).toarray()\nprint(X_test.shape)",
   "execution_count": null,
   "outputs": [
    {
     "name": "stdout",
     "text": "(124, 17)\n(432, 17)\n",
     "output_type": "stream"
    }
   ]
  },
  {
   "cell_type": "code",
   "metadata": {
    "tags": [],
    "cell_id": "00011-555aae2c-d384-41de-8a28-9d3dd534d2eb",
    "deepnote_to_be_reexecuted": false,
    "source_hash": "1453fdfa",
    "execution_start": 1638914916841,
    "execution_millis": 1234,
    "deepnote_cell_type": "code"
   },
   "source": "regressor = MLPRegressor(random_state=42, batch_size=1, max_iter=1000).fit(X_train, y_train)",
   "execution_count": null,
   "outputs": []
  },
  {
   "cell_type": "code",
   "metadata": {
    "tags": [],
    "cell_id": "00012-addce7cc-b5c9-46bb-bc3f-ea83db58cfe5",
    "deepnote_to_be_reexecuted": false,
    "source_hash": "f82937e0",
    "execution_start": 1638914918080,
    "execution_millis": 43,
    "deepnote_output_heights": [
     21.1875
    ],
    "deepnote_cell_type": "code"
   },
   "source": "regressor.score(X_test, y_test)",
   "execution_count": null,
   "outputs": [
    {
     "output_type": "execute_result",
     "execution_count": 40,
     "data": {
      "text/plain": "0.9407379353401937"
     },
     "metadata": {}
    }
   ]
  },
  {
   "cell_type": "code",
   "metadata": {
    "tags": [],
    "cell_id": "00016-6f9c75ff-8e4d-4aa6-8614-426998a3229d",
    "deepnote_to_be_reexecuted": false,
    "source_hash": "c0e610b9",
    "execution_start": 1638898931083,
    "execution_millis": 2,
    "deepnote_output_heights": [
     611
    ],
    "deepnote_cell_type": "code"
   },
   "source": "import numpy as np\nimport matplotlib.pyplot as plt\nfrom sklearn.naive_bayes import GaussianNB\nfrom sklearn.svm import SVC\nfrom sklearn.datasets import load_digits\nfrom sklearn.model_selection import learning_curve\nfrom sklearn.model_selection import ShuffleSplit\n\n\ndef plot_learning_curve(\n    estimator,\n    title,\n    X,\n    y,\n    axes=None,\n    ylim=None,\n    cv=None,\n    n_jobs=None,\n    train_sizes=np.linspace(0.1, 1.0, 5),\n):\n    \"\"\"\n    Generate 3 plots: the test and training learning curve, the training\n    samples vs fit times curve, the fit times vs score curve.\n\n    Parameters\n    ----------\n    estimator : estimator instance\n        An estimator instance implementing `fit` and `predict` methods which\n        will be cloned for each validation.\n\n    title : str\n        Title for the chart.\n\n    X : array-like of shape (n_samples, n_features)\n        Training vector, where ``n_samples`` is the number of samples and\n        ``n_features`` is the number of features.\n\n    y : array-like of shape (n_samples) or (n_samples, n_features)\n        Target relative to ``X`` for classification or regression;\n        None for unsupervised learning.\n\n    axes : array-like of shape (3,), default=None\n        Axes to use for plotting the curves.\n\n    ylim : tuple of shape (2,), default=None\n        Defines minimum and maximum y-values plotted, e.g. (ymin, ymax).\n\n    cv : int, cross-validation generator or an iterable, default=None\n        Determines the cross-validation splitting strategy.\n        Possible inputs for cv are:\n\n          - None, to use the default 5-fold cross-validation,\n          - integer, to specify the number of folds.\n          - :term:`CV splitter`,\n          - An iterable yielding (train, test) splits as arrays of indices.\n\n        For integer/None inputs, if ``y`` is binary or multiclass,\n        :class:`StratifiedKFold` used. If the estimator is not a classifier\n        or if ``y`` is neither binary nor multiclass, :class:`KFold` is used.\n\n        Refer :ref:`User Guide <cross_validation>` for the various\n        cross-validators that can be used here.\n\n    n_jobs : int or None, default=None\n        Number of jobs to run in parallel.\n        ``None`` means 1 unless in a :obj:`joblib.parallel_backend` context.\n        ``-1`` means using all processors. See :term:`Glossary <n_jobs>`\n        for more details.\n\n    train_sizes : array-like of shape (n_ticks,)\n        Relative or absolute numbers of training examples that will be used to\n        generate the learning curve. If the ``dtype`` is float, it is regarded\n        as a fraction of the maximum size of the training set (that is\n        determined by the selected validation method), i.e. it has to be within\n        (0, 1]. Otherwise it is interpreted as absolute sizes of the training\n        sets. Note that for classification the number of samples usually have\n        to be big enough to contain at least one sample from each class.\n        (default: np.linspace(0.1, 1.0, 5))\n    \"\"\"\n    if axes is None:\n        _, axes = plt.subplots(1, 3, figsize=(20, 5))\n\n    axes[0].set_title(title)\n    if ylim is not None:\n        axes[0].set_ylim(*ylim)\n    axes[0].set_xlabel(\"Training examples\")\n    axes[0].set_ylabel(\"Score\")\n\n    train_sizes, train_scores, test_scores, fit_times, _ = learning_curve(\n        estimator,\n        X,\n        y,\n        cv=cv,\n        n_jobs=n_jobs,\n        train_sizes=train_sizes,\n        return_times=True,\n    )\n    train_scores_mean = np.mean(train_scores, axis=1)\n    train_scores_std = np.std(train_scores, axis=1)\n    test_scores_mean = np.mean(test_scores, axis=1)\n    test_scores_std = np.std(test_scores, axis=1)\n    fit_times_mean = np.mean(fit_times, axis=1)\n    fit_times_std = np.std(fit_times, axis=1)\n\n    # Plot learning curve\n    axes[0].grid()\n    axes[0].fill_between(\n        train_sizes,\n        train_scores_mean - train_scores_std,\n        train_scores_mean + train_scores_std,\n        alpha=0.1,\n        color=\"r\",\n    )\n    axes[0].fill_between(\n        train_sizes,\n        test_scores_mean - test_scores_std,\n        test_scores_mean + test_scores_std,\n        alpha=0.1,\n        color=\"g\",\n    )\n    axes[0].plot(\n        train_sizes, train_scores_mean, \"o-\", color=\"r\", label=\"Training score\"\n    )\n    axes[0].plot(\n        train_sizes, test_scores_mean, \"o-\", color=\"g\", label=\"Cross-validation score\"\n    )\n    axes[0].legend(loc=\"best\")\n\n    # Plot n_samples vs fit_times\n    axes[1].grid()\n    axes[1].plot(train_sizes, fit_times_mean, \"o-\")\n    axes[1].fill_between(\n        train_sizes,\n        fit_times_mean - fit_times_std,\n        fit_times_mean + fit_times_std,\n        alpha=0.1,\n    )\n    axes[1].set_xlabel(\"Training examples\")\n    axes[1].set_ylabel(\"fit_times\")\n    axes[1].set_title(\"Scalability of the model\")\n\n    # Plot fit_time vs score\n    axes[2].grid()\n    axes[2].plot(fit_times_mean, test_scores_mean, \"o-\")\n    axes[2].fill_between(\n        fit_times_mean,\n        test_scores_mean - test_scores_std,\n        test_scores_mean + test_scores_std,\n        alpha=0.1,\n    )\n    axes[2].set_xlabel(\"fit_times\")\n    axes[2].set_ylabel(\"Score\")\n    axes[2].set_title(\"Performance of the model\")\n\n    return plt",
   "execution_count": null,
   "outputs": []
  },
  {
   "cell_type": "code",
   "metadata": {
    "tags": [],
    "cell_id": "00017-d686d4e7-7442-4774-8751-14a98d9c3087",
    "deepnote_to_be_reexecuted": false,
    "source_hash": "41a94880",
    "execution_start": 1638899083592,
    "execution_millis": 18724,
    "deepnote_output_heights": [
     21.1875,
     266.203125
    ],
    "deepnote_cell_type": "code"
   },
   "source": "title = \"Learning curves\"\n\nplot_learning_curve(regressor,title, X_test, y_test)",
   "execution_count": null,
   "outputs": [
    {
     "output_type": "execute_result",
     "execution_count": 21,
     "data": {
      "text/plain": "<module 'matplotlib.pyplot' from '/shared-libs/python3.7/py/lib/python3.7/site-packages/matplotlib/pyplot.py'>"
     },
     "metadata": {}
    },
    {
     "data": {
      "text/plain": "<Figure size 1440x360 with 3 Axes>",
      "image/png": "[encoded data removed]"
     },
     "metadata": {
      "needs_background": "light",
      "image/png": {
       "width": 1166,
       "height": 334
      }
     },
     "output_type": "display_data"
    }
   ]
  },
  {
   "cell_type": "code",
   "metadata": {
    "tags": [],
    "cell_id": "00014-cae0c28d-e2f3-4753-b965-eb392b199a8b",
    "deepnote_to_be_reexecuted": false,
    "source_hash": "54069f37",
    "execution_start": 1638897588602,
    "execution_millis": 69781,
    "deepnote_output_heights": [
     606.1875,
     251.59375
    ],
    "deepnote_cell_type": "code"
   },
   "source": "#in order to find the best set of parameter setting, we can run a grid search\nfrom sklearn.model_selection import RandomizedSearchCV\nfrom scipy.stats import uniform, randint\nfrom sklearn.metrics import make_scorer\nfrom sklearn.metrics import accuracy_score\n\n#define the parameters' values you want to try\nparam_dist = {\"hidden_layer_sizes\": [(3,), (5,), (10,),(100,), (50,), ],\n              \"activation\": ['identity', 'logistic', 'tanh', 'relu'],\n              \"solver\": ['lbfgs', 'sgd', 'adam'],\n              \"learning_rate\": ['constant', 'adaptive'],\n              \"learning_rate_init\": uniform(0.01,0.5),\n              \"alpha\": uniform(0.0001, 0.01),\n              \"batch_size\": randint(1,X_train.shape[0]),\n              \"n_iter_no_change\": [10, 25, 50],\n             }\n#define the number of iterations\nn_iter_search = 100\n#define the model\nregressor = MLPRegressor()\n#define the grid search\ngrid_search = RandomizedSearchCV(regressor, param_distributions=param_dist, \n                            n_iter=n_iter_search, \n                            n_jobs=-1, \n                            scoring=make_scorer(accuracy_score))\n#run the grid search\ngrid_search.fit(X_train, y_train)",
   "execution_count": null,
   "outputs": [
    {
     "name": "stderr",
     "text": "/shared-libs/python3.7/py/lib/python3.7/site-packages/sklearn/model_selection/_search.py:972: UserWarning: One or more of the test scores are non-finite: [nan nan nan nan nan nan nan nan nan nan nan nan nan nan nan nan nan nan\n nan nan nan nan nan nan nan nan nan nan nan nan nan nan nan nan nan nan\n nan nan nan nan nan nan nan nan nan nan nan nan nan nan nan nan nan nan\n nan nan nan nan nan nan nan nan nan nan nan nan nan nan nan nan nan nan\n nan nan nan nan nan nan nan nan nan nan nan nan nan nan nan nan nan nan\n nan nan nan nan nan nan nan nan nan nan]\n  category=UserWarning,\n",
     "output_type": "stream"
    },
    {
     "output_type": "execute_result",
     "execution_count": 34,
     "data": {
      "text/plain": "RandomizedSearchCV(estimator=MLPRegressor(), n_iter=100, n_jobs=-1,\n                   param_distributions={'activation': ['identity', 'logistic',\n                                                       'tanh', 'relu'],\n                                        'alpha': <scipy.stats._distn_infrastructure.rv_frozen object at 0x7ff3b874b6d0>,\n                                        'batch_size': <scipy.stats._distn_infrastructure.rv_frozen object at 0x7ff3b874b810>,\n                                        'hidden_layer_sizes': [(3,), (5,),\n                                                               (10,), (100,),\n                                                               (50,)],\n                                        'learning_rate': ['constant',\n                                                          'adaptive'],\n                                        'learning_rate_init': <scipy.stats._distn_infrastructure.rv_frozen object at 0x7ff3b8759990>,\n                                        'solver': ['lbfgs', 'sgd', 'adam']},\n                   scoring=make_scorer(accuracy_score))"
     },
     "metadata": {}
    }
   ]
  },
  {
   "cell_type": "code",
   "metadata": {
    "tags": [],
    "cell_id": "00015-8a2ec77d-a1cc-40fb-9b1b-5ae457f809ae",
    "deepnote_to_be_reexecuted": false,
    "source_hash": "cb7702a4",
    "execution_start": 1638897662874,
    "execution_millis": 5,
    "deepnote_cell_type": "code"
   },
   "source": "print('Best setting parameters ', grid_search.cv_results_['params'][0])",
   "execution_count": null,
   "outputs": [
    {
     "name": "stdout",
     "text": "Best setting parameters  {'activation': 'relu', 'alpha': 0.0014822389811434133, 'batch_size': 17, 'hidden_layer_sizes': (3,), 'learning_rate': 'constant', 'learning_rate_init': 0.0630141512036249, 'solver': 'adam'}\n",
     "output_type": "stream"
    }
   ]
  },
  {
   "cell_type": "code",
   "metadata": {
    "tags": [],
    "cell_id": "00016-9aba66d1-af67-4ac8-805c-2a55bf438dd2",
    "deepnote_to_be_reexecuted": false,
    "source_hash": "26ca80c8",
    "execution_start": 1638898553069,
    "execution_millis": 111,
    "deepnote_output_heights": [
     78.796875
    ],
    "deepnote_cell_type": "code"
   },
   "source": "gs_regressor = MLPRegressor(random_state=42, activation = 'relu', alpha = 0.0014822389811434133, batch_size = 65, hidden_layer_sizes = (3,), learning_rate = 'constant', learning_rate_init = 0.0630141512036249,  solver='adam', max_iter = 1000).fit(X_train, y_train)",
   "execution_count": null,
   "outputs": []
  },
  {
   "cell_type": "code",
   "metadata": {
    "tags": [],
    "cell_id": "00017-31e59121-f532-41f5-b633-a0b1d8c7d224",
    "deepnote_to_be_reexecuted": false,
    "source_hash": "cb101bb2",
    "execution_start": 1638898553623,
    "execution_millis": 149,
    "deepnote_output_heights": [
     21.1875
    ],
    "deepnote_cell_type": "code"
   },
   "source": "gs_regressor.score(X_test, y_test)",
   "execution_count": null,
   "outputs": [
    {
     "output_type": "execute_result",
     "execution_count": 104,
     "data": {
      "text/plain": "0.7786714847587235"
     },
     "metadata": {}
    }
   ]
  },
  {
   "cell_type": "code",
   "metadata": {
    "cell_id": "00008-ecc25ec9-9105-4377-9f71-5d9f2924ad85",
    "deepnote_to_be_reexecuted": true,
    "source_hash": "480b1850",
    "execution_start": 1638893241616,
    "execution_millis": 292,
    "deepnote_output_heights": [
     21.1875,
     250
    ],
    "output_cleared": false,
    "deepnote_cell_type": "code"
   },
   "source": "plt.scatter(df_visual['x'], df_visual['y'])",
   "execution_count": null,
   "outputs": [
    {
     "output_type": "execute_result",
     "execution_count": 23,
     "data": {
      "text/plain": "<matplotlib.collections.PathCollection at 0x7fce0b156550>"
     },
     "metadata": {}
    },
    {
     "data": {
      "text/plain": "<Figure size 432x288 with 1 Axes>",
      "image/png": "[encoded data removed]"
     },
     "metadata": {
      "needs_background": "light",
      "image/png": {
       "width": 377,
       "height": 248
      }
     },
     "output_type": "display_data"
    }
   ]
  },
  {
   "cell_type": "code",
   "metadata": {
    "cell_id": "00010-39835903-227d-46cf-a8aa-d7617bdc5f80",
    "deepnote_to_be_reexecuted": true,
    "source_hash": "5da2e0c5",
    "execution_start": 1638869637377,
    "execution_millis": 32,
    "deepnote_cell_type": "code"
   },
   "source": "label = df[['x','y']]\ndf.drop(labels=['x','y'], axis=1, inplace=True)\n#train_set, test_set, train_label, test_label = train_test_split(adult, label, stratify =label, test_size=0.30)",
   "execution_count": null,
   "outputs": []
  },
  {
   "cell_type": "code",
   "metadata": {
    "cell_id": "00013-8f97641a-2b06-480e-bbc7-754ed1ddd421",
    "deepnote_to_be_reexecuted": true,
    "source_hash": "5c31b19b",
    "execution_start": 1638869637484,
    "execution_millis": 0,
    "deepnote_cell_type": "code"
   },
   "source": "X_train, X_test, y_train, y_test = train_test_split(df, label, random_state=42, test_size=0.30)",
   "execution_count": null,
   "outputs": []
  },
  {
   "cell_type": "code",
   "metadata": {
    "cell_id": "00014-fe6a17a9-e1c5-4f09-949f-0bae118bb592",
    "deepnote_to_be_reexecuted": true,
    "source_hash": "b103f1ec",
    "execution_start": 1638869637487,
    "execution_millis": 596,
    "deepnote_cell_type": "code"
   },
   "source": "regressor = MLPRegressor(random_state=42, max_iter=500).fit(X_train, y_train)",
   "execution_count": null,
   "outputs": []
  },
  {
   "cell_type": "code",
   "metadata": {
    "cell_id": "00015-facb9a1a-11fe-4e3e-9c5d-a4feeca53a73",
    "deepnote_to_be_reexecuted": true,
    "source_hash": "f82937e0",
    "execution_start": 1638869638087,
    "execution_millis": 95,
    "deepnote_output_heights": [
     21.1875
    ],
    "deepnote_cell_type": "code"
   },
   "source": "regressor.score(X_test, y_test)",
   "execution_count": null,
   "outputs": [
    {
     "output_type": "execute_result",
     "execution_count": 12,
     "data": {
      "text/plain": "0.8696963705237135"
     },
     "metadata": {}
    }
   ]
  },
  {
   "cell_type": "code",
   "metadata": {
    "cell_id": "00016-8f5511b0-bbd6-4d23-9656-d988f33dd540",
    "deepnote_to_be_reexecuted": true,
    "source_hash": "574330ec",
    "execution_start": 1638869638100,
    "execution_millis": 7,
    "deepnote_cell_type": "code"
   },
   "source": "y_pred = regressor.predict(df_blind_ts)",
   "execution_count": null,
   "outputs": []
  },
  {
   "cell_type": "code",
   "metadata": {
    "cell_id": "00017-62bcb46f-1bf3-4097-a832-6808204fa8b1",
    "deepnote_to_be_reexecuted": true,
    "source_hash": "dec8f8fc",
    "execution_start": 1638869638111,
    "execution_millis": 0,
    "deepnote_cell_type": "code"
   },
   "source": "y_pred = pd.DataFrame(data=y_pred, columns=[\"x\", \"y\"])",
   "execution_count": null,
   "outputs": []
  },
  {
   "cell_type": "code",
   "metadata": {
    "cell_id": "00018-c3e0eaa8-5cb8-4442-959c-1a731da2ca8c",
    "deepnote_to_be_reexecuted": true,
    "source_hash": "813915d0",
    "execution_start": 1638869638158,
    "execution_millis": 175,
    "deepnote_output_heights": [
     21.1875,
     252
    ],
    "deepnote_cell_type": "code"
   },
   "source": "plt.scatter(y_pred['x'], y_pred['y'])",
   "execution_count": null,
   "outputs": [
    {
     "output_type": "execute_result",
     "execution_count": 15,
     "data": {
      "text/plain": "<matplotlib.collections.PathCollection at 0x7f1d94ba1b90>"
     },
     "metadata": {}
    },
    {
     "data": {
      "text/plain": "<Figure size 432x288 with 1 Axes>",
      "image/png": "[encoded data removed]"
     },
     "metadata": {
      "needs_background": "light",
      "image/png": {
       "width": 377,
       "height": 250
      }
     },
     "output_type": "display_data"
    }
   ]
  },
  {
   "cell_type": "markdown",
   "source": "## Grid Search",
   "metadata": {
    "cell_id": "00019-5ae02981-9fa3-448f-ba80-cdcdb81b6000",
    "deepnote_cell_type": "markdown"
   }
  },
  {
   "cell_type": "code",
   "metadata": {
    "scrolled": false,
    "cell_id": "00020-5c464ccd-b789-4bf8-9f9c-e7505ee05ed5",
    "deepnote_to_be_reexecuted": true,
    "source_hash": "2d2809c8",
    "execution_start": 1638869638338,
    "execution_millis": 93628,
    "deepnote_output_heights": [
     null,
     174.796875
    ],
    "deepnote_cell_type": "code"
   },
   "source": "#to find the best set of parameter setting, we can run a grid search\nfrom sklearn.model_selection import RandomizedSearchCV\nfrom scipy.stats import randint as sp_randint\nfrom sklearn.metrics import make_scorer\nfrom sklearn.metrics import accuracy_score\n\n#define the parameters' values you want to try\nparam_dist = {\"hidden_layer_sizes\": [(100,), (50,), (100, 100), (50,50)],\n              \"activation\": ['identity', 'logistic', 'tanh', 'relu'],\n              \"solver\": ['lbfgs', 'sgd', 'adam'],\n              \"max_iter\": [1000],\n             }\n#define the number of iterations\nn_iter_search = 5\n#define the model\nregressor = MLPRegressor()\n#define the grid search\ngrid_search = RandomizedSearchCV(regressor, param_distributions=param_dist, \n                            n_iter=n_iter_search, \n                            n_jobs=10, \n                            scoring=make_scorer(accuracy_score))\n#run the grid search\ngrid_search.fit(X_train, y_train)",
   "execution_count": null,
   "outputs": [
    {
     "name": "stderr",
     "text": "/shared-libs/python3.7/py/lib/python3.7/site-packages/sklearn/model_selection/_search.py:972: UserWarning: One or more of the test scores are non-finite: [nan nan nan nan nan]\n  category=UserWarning,\n/shared-libs/python3.7/py/lib/python3.7/site-packages/sklearn/neural_network/_multilayer_perceptron.py:549: ConvergenceWarning: lbfgs failed to converge (status=1):\nSTOP: TOTAL NO. of ITERATIONS REACHED LIMIT.\n\nIncrease the number of iterations (max_iter) or scale the data as shown in:\n    https://scikit-learn.org/stable/modules/preprocessing.html\n  self.n_iter_ = _check_optimize_result(\"lbfgs\", opt_res, self.max_iter)\n",
     "output_type": "stream"
    },
    {
     "output_type": "execute_result",
     "execution_count": 16,
     "data": {
      "text/plain": "RandomizedSearchCV(estimator=MLPRegressor(), n_iter=5, n_jobs=10,\n                   param_distributions={'activation': ['identity', 'logistic',\n                                                       'tanh', 'relu'],\n                                        'hidden_layer_sizes': [(100,), (50,),\n                                                               (100, 100),\n                                                               (50, 50)],\n                                        'max_iter': [1000],\n                                        'solver': ['lbfgs', 'sgd', 'adam']},\n                   scoring=make_scorer(accuracy_score))"
     },
     "metadata": {}
    }
   ]
  },
  {
   "cell_type": "code",
   "metadata": {
    "cell_id": "00021-db710abf-232e-4bdb-99c6-192a752a2359",
    "deepnote_to_be_reexecuted": true,
    "source_hash": "cb7702a4",
    "execution_start": 1638869731971,
    "execution_millis": 70,
    "deepnote_cell_type": "code"
   },
   "source": "print('Best setting parameters ', grid_search.cv_results_['params'][0])",
   "execution_count": null,
   "outputs": [
    {
     "name": "stdout",
     "text": "Best setting parameters  {'solver': 'lbfgs', 'max_iter': 1000, 'hidden_layer_sizes': (50, 50), 'activation': 'tanh'}\n",
     "output_type": "stream"
    }
   ]
  },
  {
   "cell_type": "code",
   "metadata": {
    "cell_id": "00022-50ca552b-add2-45f1-865c-d07c24234397",
    "deepnote_to_be_reexecuted": true,
    "source_hash": "c8c88c55",
    "execution_start": 1638869732050,
    "execution_millis": 13213,
    "deepnote_cell_type": "code"
   },
   "source": "gs_regressor = MLPRegressor(solver='adam', max_iter = 1000, hidden_layer_sizes = (100, 100), activation = 'tanh').fit(X_train, y_train)",
   "execution_count": null,
   "outputs": []
  },
  {
   "cell_type": "code",
   "metadata": {
    "cell_id": "00023-ad77694c-717a-42ae-ac8e-cd187fa7b596",
    "deepnote_to_be_reexecuted": true,
    "source_hash": "cb101bb2",
    "execution_start": 1638869745267,
    "execution_millis": 84,
    "deepnote_output_heights": [
     21.1875
    ],
    "deepnote_cell_type": "code"
   },
   "source": "gs_regressor.score(X_test, y_test)",
   "execution_count": null,
   "outputs": [
    {
     "output_type": "execute_result",
     "execution_count": 19,
     "data": {
      "text/plain": "0.908432158442845"
     },
     "metadata": {}
    }
   ]
  },
  {
   "cell_type": "code",
   "metadata": {
    "cell_id": "00024-4f48d4aa-a9c2-445e-ad04-55e16d67e292",
    "deepnote_to_be_reexecuted": true,
    "source_hash": "958cdfa2",
    "execution_start": 1638869745356,
    "execution_millis": 9,
    "deepnote_cell_type": "code"
   },
   "source": "y_pred = gs_regressor.predict(df_blind_ts)",
   "execution_count": null,
   "outputs": []
  },
  {
   "cell_type": "code",
   "metadata": {
    "cell_id": "00025-5de86216-18de-4bb6-883e-a45c41343ff1",
    "deepnote_to_be_reexecuted": true,
    "source_hash": "dec8f8fc",
    "execution_start": 1638869745369,
    "execution_millis": 64,
    "deepnote_cell_type": "code"
   },
   "source": "y_pred = pd.DataFrame(data=y_pred, columns=[\"x\", \"y\"])",
   "execution_count": null,
   "outputs": []
  },
  {
   "cell_type": "code",
   "metadata": {
    "cell_id": "00026-bce5178c-4810-4ec4-921f-263c05e6b68e",
    "deepnote_to_be_reexecuted": true,
    "source_hash": "813915d0",
    "execution_start": 1638869745440,
    "execution_millis": 258,
    "deepnote_output_heights": [
     21.1875,
     250
    ],
    "deepnote_cell_type": "code"
   },
   "source": "plt.scatter(y_pred['x'], y_pred['y'])",
   "execution_count": null,
   "outputs": [
    {
     "output_type": "execute_result",
     "execution_count": 22,
     "data": {
      "text/plain": "<matplotlib.collections.PathCollection at 0x7f1d94b3bc10>"
     },
     "metadata": {}
    },
    {
     "data": {
      "text/plain": "<Figure size 432x288 with 1 Axes>",
      "image/png": "[encoded data removed]"
     },
     "metadata": {
      "needs_background": "light",
      "image/png": {
       "width": 377,
       "height": 248
      }
     },
     "output_type": "display_data"
    }
   ]
  },
  {
   "cell_type": "markdown",
   "source": "<a style='text-decoration:none;line-height:16px;display:flex;color:#5B5B62;padding:10px;justify-content:end;' href='https://deepnote.com?utm_source=created-in-deepnote-cell&projectId=d9d840c9-75b3-4185-bb01-105f5cca8d83' target=\"_blank\">\n<img alt='Created in deepnote.com' style='display:inline;max-height:16px;margin:0px;margin-right:7.5px;' src='data:image/svg+xml;base64,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' > </img>\nCreated in <span style='font-weight:600;margin-left:4px;'>Deepnote</span></a>",
   "metadata": {
    "tags": [],
    "created_in_deepnote_cell": true,
    "deepnote_cell_type": "markdown"
   }
  }
 ],
 "nbformat": 4,
 "nbformat_minor": 5,
 "metadata": {
  "kernelspec": {
   "display_name": "Python 3",
   "language": "python",
   "name": "python3"
  },
  "language_info": {
   "codemirror_mode": {
    "name": "ipython",
    "version": 3
   },
   "file_extension": ".py",
   "mimetype": "text/x-python",
   "name": "python",
   "nbconvert_exporter": "python",
   "pygments_lexer": "ipython3",
   "version": "3.9.5"
  },
  "deepnote_notebook_id": "e6b16fc5-d82c-42a1-becc-b3e3eb4c046e",
  "deepnote": {},
  "deepnote_execution_queue": []
 }
}