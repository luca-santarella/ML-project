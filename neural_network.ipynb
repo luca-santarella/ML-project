{
 "cells": [
  {
   "cell_type": "markdown",
   "source": "# Machine Learning project a.y. 2021/2022",
   "metadata": {
    "cell_id": "00000-20b425aa-ea48-417e-8de8-80b798a56627",
    "deepnote_cell_type": "markdown"
   }
  },
  {
   "cell_type": "markdown",
   "source": "## Scikit-learn MLP model",
   "metadata": {
    "cell_id": "00001-0b4766be-7481-4245-b46b-e62d89f13e8e",
    "deepnote_cell_type": "markdown"
   }
  },
  {
   "cell_type": "markdown",
   "source": "## Importing libraries",
   "metadata": {
    "cell_id": "00002-df7e2378-8b40-4303-a2e1-ed002e501fc7",
    "deepnote_cell_type": "markdown"
   }
  },
  {
   "cell_type": "code",
   "metadata": {
    "cell_id": "00003-61dc5a13-3cd8-445b-b8de-c471ff2498d2",
    "deepnote_to_be_reexecuted": false,
    "execution_millis": 1616,
    "execution_start": 1641826054512,
    "source_hash": "35186b27",
    "output_cleared": true,
    "deepnote_cell_type": "code"
   },
   "source": "import pandas as pd\nimport matplotlib.pyplot as plt\nimport numpy as np\n\nfrom sklearn.metrics import mean_squared_error\nfrom sklearn.metrics import accuracy_score\nfrom sklearn.preprocessing import OneHotEncoder\nfrom sklearn.neural_network import MLPRegressor\nfrom sklearn.neural_network import MLPClassifier\nfrom sklearn.model_selection import train_test_split",
   "execution_count": null,
   "outputs": []
  },
  {
   "cell_type": "markdown",
   "source": "## Loading training set and blind test set",
   "metadata": {
    "cell_id": "00004-04491b00-26f4-4580-8468-20e4c04795c7",
    "deepnote_cell_type": "markdown"
   }
  },
  {
   "cell_type": "code",
   "metadata": {
    "cell_id": "00005-0b8f7c5b-8577-4b82-b67f-ece4b4ff2886",
    "deepnote_to_be_reexecuted": false,
    "execution_millis": 26,
    "execution_start": 1641826056137,
    "source_hash": "47b90439",
    "output_cleared": true,
    "deepnote_cell_type": "code"
   },
   "source": "df_visual = pd.read_csv('./data/ML-CUP21-TR.csv', usecols=[11,12], names=['idx','f1','f2','f3','f4','f5','f6','f7','f8','f9','f10', 'x','y'])\ndf_task_tr = pd.read_csv('./data/ML-CUP21-TR.csv', names=['idx','f1','f2','f3','f4','f5','f6','f7','f8','f9','f10', 'x','y'])\ndf_task_tr = df_task_tr[7:] # remove first 7 rows of comments\ndf_visual = df_visual[7:]\n\ndf_blind_ts = pd.read_csv('./data/ML-CUP21-TS.csv', names=['idx','f1','f2','f3','f4','f5','f6','f7','f8','f9','f10'])\ndf_blind_ts = df_blind_ts[7:]\ndf_blind_ts.drop(labels=\"idx\", axis=1, inplace=True)\nblind_ts = df_blind_ts.values",
   "execution_count": null,
   "outputs": []
  },
  {
   "cell_type": "markdown",
   "source": "## Evaluation metrics",
   "metadata": {
    "cell_id": "00006-fc39440c-f97d-48b6-9a6f-04e25869dd3c",
    "tags": [],
    "deepnote_cell_type": "markdown"
   }
  },
  {
   "cell_type": "markdown",
   "source": "We define the <b>MEE (Mean Euclidean Error)</b> function which is used to evaluate the mean euclidean distance between two points with x and y coordinates.\nThe function takes in input the true target and the predicted target and yields a floating point number which represents the performance. ",
   "metadata": {
    "cell_id": "00007-312152ea-73a2-4516-97fc-e5f48223942c",
    "tags": [],
    "deepnote_cell_type": "markdown"
   }
  },
  {
   "cell_type": "code",
   "metadata": {
    "cell_id": "00007-a6b9a678-2524-4d79-9ec4-9d60d31af723",
    "deepnote_to_be_reexecuted": false,
    "execution_millis": 2,
    "execution_start": 1641826056168,
    "source_hash": "3afbb4cb",
    "tags": [],
    "output_cleared": true,
    "deepnote_cell_type": "code"
   },
   "source": "def mee(true_target, predicted_target): #assuming target is 2-dim matrix with x and y as columns\n    l = true_target.shape[0]\n    res = 0\n    \n    for p in range(l): #for p-th pattern in l (number of samples)\n        x_diff = np.square(true_target[p,0] - predicted_target[p,0]) #difference between the x value of the true and predicted target\n        y_diff = np.square(true_target[p,1] - predicted_target[p,1]) #difference between the y values of true and predicted target\n        sum_term = x_diff + y_diff\n        res = res + np.sqrt(sum_term)\n    res = res / l\n    \n    #return np.average([np.sqrt(np.square(true_target[p,0] - predicted_target[p,0]) + np.square(true_target[p,1] - predicted_target[p,1])) for p in range(l)]) #compact form\n    return res",
   "execution_count": null,
   "outputs": []
  },
  {
   "cell_type": "markdown",
   "source": "## MONK Dataset\n### MONK1",
   "metadata": {
    "cell_id": "00007-59c038d7-e2fc-4096-a98b-40251fd46776",
    "tags": [],
    "deepnote_cell_type": "markdown"
   }
  },
  {
   "cell_type": "code",
   "metadata": {
    "cell_id": "00007-c3b356df-c502-47fc-8d23-3fcff863da5c",
    "deepnote_to_be_reexecuted": false,
    "execution_millis": 7,
    "execution_start": 1641826056172,
    "source_hash": "ea6e0f83",
    "tags": [],
    "output_cleared": true,
    "deepnote_cell_type": "code"
   },
   "source": "def load_monk(path_train, path_test):\n    df_monk_train = pd.read_csv(path_train, sep=\" \", skipinitialspace=True, names=['class','a1','a2','a3','a4','a5','a6','id'])\n    df_monk_train.drop(labels='id', axis=1, inplace=True)\n\n    df_monk_test = pd.read_csv(path_test, sep=\" \", skipinitialspace=True,  names=['class','a1','a2','a3','a4','a5','a6','id'])\n    df_monk_test.drop(labels='id', axis=1, inplace=True)\n\n    return df_monk_train, df_monk_test",
   "execution_count": null,
   "outputs": []
  },
  {
   "cell_type": "markdown",
   "source": "### Loading MONK1 dataset",
   "metadata": {
    "cell_id": "00008-746c454e-4088-4707-aa50-3d6bdfd11301",
    "tags": [],
    "deepnote_cell_type": "markdown"
   }
  },
  {
   "cell_type": "code",
   "metadata": {
    "cell_id": "00008-2fddf6b4-7e3c-4ebb-bfec-6fd970b822d3",
    "deepnote_to_be_reexecuted": false,
    "execution_millis": 7,
    "execution_start": 1641826056183,
    "source_hash": "22e36aaa",
    "tags": [],
    "output_cleared": true,
    "deepnote_cell_type": "code"
   },
   "source": "df_monk1_train, df_monk1_test = load_monk('./data/MONK/monks-1.train', './data/MONK/monks-1.test')",
   "execution_count": null,
   "outputs": []
  },
  {
   "cell_type": "code",
   "metadata": {
    "cell_id": "00009-c89d2e6c-43bb-48e8-aeb3-a2392afb9980",
    "deepnote_to_be_reexecuted": false,
    "execution_millis": 61,
    "execution_start": 1641826056235,
    "source_hash": "fd91453c",
    "tags": [],
    "output_cleared": false,
    "deepnote_cell_type": "code"
   },
   "source": "df_monk1_train.head() #first column is the target (can be either 0 or 1)",
   "execution_count": null,
   "outputs": [
    {
     "output_type": "execute_result",
     "execution_count": 6,
     "data": {
      "application/vnd.deepnote.dataframe.v3+json": {
       "column_count": 7,
       "row_count": 5,
       "columns": [
        {
         "name": "class",
         "dtype": "int64",
         "stats": {
          "unique_count": 1,
          "nan_count": 0,
          "min": "1",
          "max": "1",
          "histogram": [
           {
            "bin_start": 0.5,
            "bin_end": 0.6,
            "count": 0
           },
           {
            "bin_start": 0.6,
            "bin_end": 0.7,
            "count": 0
           },
           {
            "bin_start": 0.7,
            "bin_end": 0.8,
            "count": 0
           },
           {
            "bin_start": 0.8,
            "bin_end": 0.9,
            "count": 0
           },
           {
            "bin_start": 0.9,
            "bin_end": 1,
            "count": 0
           },
           {
            "bin_start": 1,
            "bin_end": 1.1,
            "count": 5
           },
           {
            "bin_start": 1.1,
            "bin_end": 1.2000000000000002,
            "count": 0
           },
           {
            "bin_start": 1.2000000000000002,
            "bin_end": 1.3,
            "count": 0
           },
           {
            "bin_start": 1.3,
            "bin_end": 1.4,
            "count": 0
           },
           {
            "bin_start": 1.4,
            "bin_end": 1.5,
            "count": 0
           }
          ]
         }
        },
        {
         "name": "a1",
         "dtype": "int64",
         "stats": {
          "unique_count": 1,
          "nan_count": 0,
          "min": "1",
          "max": "1",
          "histogram": [
           {
            "bin_start": 0.5,
            "bin_end": 0.6,
            "count": 0
           },
           {
            "bin_start": 0.6,
            "bin_end": 0.7,
            "count": 0
           },
           {
            "bin_start": 0.7,
            "bin_end": 0.8,
            "count": 0
           },
           {
            "bin_start": 0.8,
            "bin_end": 0.9,
            "count": 0
           },
           {
            "bin_start": 0.9,
            "bin_end": 1,
            "count": 0
           },
           {
            "bin_start": 1,
            "bin_end": 1.1,
            "count": 5
           },
           {
            "bin_start": 1.1,
            "bin_end": 1.2000000000000002,
            "count": 0
           },
           {
            "bin_start": 1.2000000000000002,
            "bin_end": 1.3,
            "count": 0
           },
           {
            "bin_start": 1.3,
            "bin_end": 1.4,
            "count": 0
           },
           {
            "bin_start": 1.4,
            "bin_end": 1.5,
            "count": 0
           }
          ]
         }
        },
        {
         "name": "a2",
         "dtype": "int64",
         "stats": {
          "unique_count": 1,
          "nan_count": 0,
          "min": "1",
          "max": "1",
          "histogram": [
           {
            "bin_start": 0.5,
            "bin_end": 0.6,
            "count": 0
           },
           {
            "bin_start": 0.6,
            "bin_end": 0.7,
            "count": 0
           },
           {
            "bin_start": 0.7,
            "bin_end": 0.8,
            "count": 0
           },
           {
            "bin_start": 0.8,
            "bin_end": 0.9,
            "count": 0
           },
           {
            "bin_start": 0.9,
            "bin_end": 1,
            "count": 0
           },
           {
            "bin_start": 1,
            "bin_end": 1.1,
            "count": 5
           },
           {
            "bin_start": 1.1,
            "bin_end": 1.2000000000000002,
            "count": 0
           },
           {
            "bin_start": 1.2000000000000002,
            "bin_end": 1.3,
            "count": 0
           },
           {
            "bin_start": 1.3,
            "bin_end": 1.4,
            "count": 0
           },
           {
            "bin_start": 1.4,
            "bin_end": 1.5,
            "count": 0
           }
          ]
         }
        },
        {
         "name": "a3",
         "dtype": "int64",
         "stats": {
          "unique_count": 2,
          "nan_count": 0,
          "min": "1",
          "max": "2",
          "histogram": [
           {
            "bin_start": 1,
            "bin_end": 1.1,
            "count": 4
           },
           {
            "bin_start": 1.1,
            "bin_end": 1.2,
            "count": 0
           },
           {
            "bin_start": 1.2,
            "bin_end": 1.3,
            "count": 0
           },
           {
            "bin_start": 1.3,
            "bin_end": 1.4,
            "count": 0
           },
           {
            "bin_start": 1.4,
            "bin_end": 1.5,
            "count": 0
           },
           {
            "bin_start": 1.5,
            "bin_end": 1.6,
            "count": 0
           },
           {
            "bin_start": 1.6,
            "bin_end": 1.7000000000000002,
            "count": 0
           },
           {
            "bin_start": 1.7000000000000002,
            "bin_end": 1.8,
            "count": 0
           },
           {
            "bin_start": 1.8,
            "bin_end": 1.9,
            "count": 0
           },
           {
            "bin_start": 1.9,
            "bin_end": 2,
            "count": 1
           }
          ]
         }
        },
        {
         "name": "a4",
         "dtype": "int64",
         "stats": {
          "unique_count": 2,
          "nan_count": 0,
          "min": "1",
          "max": "3",
          "histogram": [
           {
            "bin_start": 1,
            "bin_end": 1.2,
            "count": 3
           },
           {
            "bin_start": 1.2,
            "bin_end": 1.4,
            "count": 0
           },
           {
            "bin_start": 1.4,
            "bin_end": 1.6,
            "count": 0
           },
           {
            "bin_start": 1.6,
            "bin_end": 1.8,
            "count": 0
           },
           {
            "bin_start": 1.8,
            "bin_end": 2,
            "count": 0
           },
           {
            "bin_start": 2,
            "bin_end": 2.2,
            "count": 0
           },
           {
            "bin_start": 2.2,
            "bin_end": 2.4000000000000004,
            "count": 0
           },
           {
            "bin_start": 2.4000000000000004,
            "bin_end": 2.6,
            "count": 0
           },
           {
            "bin_start": 2.6,
            "bin_end": 2.8,
            "count": 0
           },
           {
            "bin_start": 2.8,
            "bin_end": 3,
            "count": 2
           }
          ]
         }
        },
        {
         "name": "a5",
         "dtype": "int64",
         "stats": {
          "unique_count": 2,
          "nan_count": 0,
          "min": "2",
          "max": "3",
          "histogram": [
           {
            "bin_start": 2,
            "bin_end": 2.1,
            "count": 2
           },
           {
            "bin_start": 2.1,
            "bin_end": 2.2,
            "count": 0
           },
           {
            "bin_start": 2.2,
            "bin_end": 2.3,
            "count": 0
           },
           {
            "bin_start": 2.3,
            "bin_end": 2.4,
            "count": 0
           },
           {
            "bin_start": 2.4,
            "bin_end": 2.5,
            "count": 0
           },
           {
            "bin_start": 2.5,
            "bin_end": 2.6,
            "count": 0
           },
           {
            "bin_start": 2.6,
            "bin_end": 2.7,
            "count": 0
           },
           {
            "bin_start": 2.7,
            "bin_end": 2.8,
            "count": 0
           },
           {
            "bin_start": 2.8,
            "bin_end": 2.9,
            "count": 0
           },
           {
            "bin_start": 2.9,
            "bin_end": 3,
            "count": 3
           }
          ]
         }
        },
        {
         "name": "a6",
         "dtype": "int64",
         "stats": {
          "unique_count": 2,
          "nan_count": 0,
          "min": "1",
          "max": "2",
          "histogram": [
           {
            "bin_start": 1,
            "bin_end": 1.1,
            "count": 3
           },
           {
            "bin_start": 1.1,
            "bin_end": 1.2,
            "count": 0
           },
           {
            "bin_start": 1.2,
            "bin_end": 1.3,
            "count": 0
           },
           {
            "bin_start": 1.3,
            "bin_end": 1.4,
            "count": 0
           },
           {
            "bin_start": 1.4,
            "bin_end": 1.5,
            "count": 0
           },
           {
            "bin_start": 1.5,
            "bin_end": 1.6,
            "count": 0
           },
           {
            "bin_start": 1.6,
            "bin_end": 1.7000000000000002,
            "count": 0
           },
           {
            "bin_start": 1.7000000000000002,
            "bin_end": 1.8,
            "count": 0
           },
           {
            "bin_start": 1.8,
            "bin_end": 1.9,
            "count": 0
           },
           {
            "bin_start": 1.9,
            "bin_end": 2,
            "count": 2
           }
          ]
         }
        },
        {
         "name": "_deepnote_index_column",
         "dtype": "int64"
        }
       ],
       "rows": [
        {
         "class": 1,
         "a1": 1,
         "a2": 1,
         "a3": 1,
         "a4": 1,
         "a5": 3,
         "a6": 1,
         "_deepnote_index_column": 0
        },
        {
         "class": 1,
         "a1": 1,
         "a2": 1,
         "a3": 1,
         "a4": 1,
         "a5": 3,
         "a6": 2,
         "_deepnote_index_column": 1
        },
        {
         "class": 1,
         "a1": 1,
         "a2": 1,
         "a3": 1,
         "a4": 3,
         "a5": 2,
         "a6": 1,
         "_deepnote_index_column": 2
        },
        {
         "class": 1,
         "a1": 1,
         "a2": 1,
         "a3": 1,
         "a4": 3,
         "a5": 3,
         "a6": 2,
         "_deepnote_index_column": 3
        },
        {
         "class": 1,
         "a1": 1,
         "a2": 1,
         "a3": 2,
         "a4": 1,
         "a5": 2,
         "a6": 1,
         "_deepnote_index_column": 4
        }
       ]
      },
      "text/plain": "   class  a1  a2  a3  a4  a5  a6\n0      1   1   1   1   1   3   1\n1      1   1   1   1   1   3   2\n2      1   1   1   1   3   2   1\n3      1   1   1   1   3   3   2\n4      1   1   1   2   1   2   1",
      "text/html": "<div>\n<style scoped>\n    .dataframe tbody tr th:only-of-type {\n        vertical-align: middle;\n    }\n\n    .dataframe tbody tr th {\n        vertical-align: top;\n    }\n\n    .dataframe thead th {\n        text-align: right;\n    }\n</style>\n<table border=\"1\" class=\"dataframe\">\n  <thead>\n    <tr style=\"text-align: right;\">\n      <th></th>\n      <th>class</th>\n      <th>a1</th>\n      <th>a2</th>\n      <th>a3</th>\n      <th>a4</th>\n      <th>a5</th>\n      <th>a6</th>\n    </tr>\n  </thead>\n  <tbody>\n    <tr>\n      <th>0</th>\n      <td>1</td>\n      <td>1</td>\n      <td>1</td>\n      <td>1</td>\n      <td>1</td>\n      <td>3</td>\n      <td>1</td>\n    </tr>\n    <tr>\n      <th>1</th>\n      <td>1</td>\n      <td>1</td>\n      <td>1</td>\n      <td>1</td>\n      <td>1</td>\n      <td>3</td>\n      <td>2</td>\n    </tr>\n    <tr>\n      <th>2</th>\n      <td>1</td>\n      <td>1</td>\n      <td>1</td>\n      <td>1</td>\n      <td>3</td>\n      <td>2</td>\n      <td>1</td>\n    </tr>\n    <tr>\n      <th>3</th>\n      <td>1</td>\n      <td>1</td>\n      <td>1</td>\n      <td>1</td>\n      <td>3</td>\n      <td>3</td>\n      <td>2</td>\n    </tr>\n    <tr>\n      <th>4</th>\n      <td>1</td>\n      <td>1</td>\n      <td>1</td>\n      <td>2</td>\n      <td>1</td>\n      <td>2</td>\n      <td>1</td>\n    </tr>\n  </tbody>\n</table>\n</div>"
     },
     "metadata": {}
    }
   ]
  },
  {
   "cell_type": "code",
   "metadata": {
    "cell_id": "00011-1bc9168b-9ca9-4067-baa9-e66238655971",
    "deepnote_to_be_reexecuted": false,
    "execution_millis": 2,
    "execution_start": 1641826056290,
    "source_hash": "e12ddd86",
    "tags": [],
    "output_cleared": true,
    "deepnote_cell_type": "code"
   },
   "source": "def split_train_test(df_monk_train, df_monk_test):\n    target_train = df_monk_train[['class']]\n    df_monk_train.drop(labels='class', axis=1, inplace=True)\n    target_test = df_monk_test[['class']]\n    df_monk_test.drop(labels='class', axis=1, inplace=True)\n    X_train = df_monk_train.values #returns a ndarray\n    y_train = target_train.values.ravel() #flattens the array into a 1-dimensional array\n    X_test = df_monk_test.values\n    y_test = target_test.values.ravel()\n\n    return X_train, y_train, X_test, y_test",
   "execution_count": null,
   "outputs": []
  },
  {
   "cell_type": "markdown",
   "source": "### Splitting the MONK1 dataset into train and test set",
   "metadata": {
    "cell_id": "00012-3c38b317-e420-4e0c-88cd-c12833336f87",
    "tags": [],
    "deepnote_cell_type": "markdown"
   }
  },
  {
   "cell_type": "code",
   "metadata": {
    "cell_id": "00012-23d2d223-d052-45a0-9827-af2e7f10aa47",
    "deepnote_output_heights": [
     611
    ],
    "deepnote_to_be_reexecuted": false,
    "execution_millis": 1,
    "execution_start": 1641826056338,
    "source_hash": "ea61b89e",
    "tags": [],
    "output_cleared": true,
    "deepnote_cell_type": "code"
   },
   "source": "X_train_M1, y_train_M1, X_test_M1, y_test_M1 = split_train_test(df_monk1_train, df_monk1_test)",
   "execution_count": null,
   "outputs": []
  },
  {
   "cell_type": "markdown",
   "source": "### One hot encoding of MONK1\nIn the MONK dataset we have the categories encoded using label encoding (e.g. 0,1,2,..), we need to use one hot encoding in order to have better results (e.g. 001, 010, ..). ",
   "metadata": {
    "cell_id": "00013-e9ed08e1-8231-46ab-8e39-4033e01f6195",
    "tags": [],
    "deepnote_cell_type": "markdown"
   }
  },
  {
   "cell_type": "code",
   "metadata": {
    "cell_id": "00013-60208cfc-c403-487e-ab14-9b3f9ac379a8",
    "deepnote_output_heights": [
     21.1875
    ],
    "deepnote_to_be_reexecuted": false,
    "execution_millis": 8,
    "execution_start": 1641826056339,
    "source_hash": "7d1623e9",
    "tags": [],
    "output_cleared": false,
    "deepnote_cell_type": "code"
   },
   "source": "enc_train = OneHotEncoder()\nenc_train.fit(X_train_M1)\nX_train_M1 = enc_train.transform(X_train_M1).toarray()\nprint(X_train_M1.shape)\n\nenc_test = OneHotEncoder()\nenc_test.fit(X_test_M1)\nX_test_M1 = enc_test.transform(X_test_M1).toarray()\nprint(X_test_M1.shape)",
   "execution_count": null,
   "outputs": [
    {
     "name": "stdout",
     "text": "(124, 17)\n(432, 17)\n",
     "output_type": "stream",
     "data": {}
    }
   ]
  },
  {
   "cell_type": "markdown",
   "source": "### Training phase for MONK1\nWe train a simple classifier using batch size = 1 (for the MONK dataset it is not necessary to do the hyperparameter tuning)",
   "metadata": {
    "cell_id": "00016-1839d0e0-439a-40f8-b782-352342d774c9",
    "tags": [],
    "deepnote_cell_type": "markdown"
   }
  },
  {
   "cell_type": "code",
   "metadata": {
    "cell_id": "00011-555aae2c-d384-41de-8a28-9d3dd534d2eb",
    "deepnote_to_be_reexecuted": false,
    "execution_millis": 2684,
    "execution_start": 1641826056340,
    "source_hash": "4978757f",
    "tags": [],
    "output_cleared": true,
    "deepnote_cell_type": "code"
   },
   "source": "classifier_M1 = MLPClassifier(random_state=69, batch_size=1).fit(X_train_M1, y_train_M1)\neval_model = MLPClassifier(random_state=69, batch_size=1)",
   "execution_count": null,
   "outputs": []
  },
  {
   "cell_type": "code",
   "metadata": {
    "cell_id": "00021-1266891b-0a23-4d51-8051-b17044645778",
    "deepnote_to_be_reexecuted": false,
    "execution_millis": 10,
    "execution_start": 1641826059032,
    "source_hash": "f0867d64",
    "tags": [],
    "output_cleared": true,
    "deepnote_cell_type": "code"
   },
   "source": "#trains the model with one iteration (epoch) and computes in output a list of train and test scores using MEE\ndef fit_and_score_monk(epochs, eval_model, X_train, y_train, X_test, y_test):\n    train_scores = []\n    test_scores = []\n    train_loss = []\n    test_loss = []\n\n    for i in range(epochs):\n        eval_model = eval_model.partial_fit(X_train,y_train, classes = np.unique(y_train))\n        y_train_predicted = eval_model.predict(X_train)\n        y_test_predicted = eval_model.predict(X_test)\n        #results on train set\n        train_loss.append(mean_squared_error(y_train, y_train_predicted))\n        train_scores.append(accuracy_score(y_train, y_train_predicted))\n        #result on test set\n        test_loss.append(mean_squared_error(y_test, y_test_predicted))\n        test_scores.append(accuracy_score(y_test, y_test_predicted))\n    return train_scores, test_scores, train_loss, test_loss\n",
   "execution_count": null,
   "outputs": []
  },
  {
   "cell_type": "code",
   "metadata": {
    "cell_id": "00022-d81f85c3-0e19-4662-a0a2-53bf9d2af796",
    "deepnote_output_heights": [
     40.375
    ],
    "deepnote_to_be_reexecuted": false,
    "execution_millis": 8929,
    "execution_start": 1641826059045,
    "source_hash": "5b6c1681",
    "tags": [],
    "output_cleared": true,
    "deepnote_cell_type": "code"
   },
   "source": "train_scores_M1, test_scores_M1, train_loss_M1, test_loss_M1 = fit_and_score_monk(classifier_M1.n_iter_, eval_model, X_train_M1, y_train_M1, X_test_M1, y_test_M1)",
   "execution_count": null,
   "outputs": []
  },
  {
   "cell_type": "markdown",
   "source": "### Loss curve for MONK1",
   "metadata": {
    "cell_id": "00021-ee4aa643-bff9-4588-b237-c5902a562637",
    "tags": [],
    "deepnote_cell_type": "markdown"
   }
  },
  {
   "cell_type": "code",
   "metadata": {
    "cell_id": "00024-f7669179-4d4a-4820-89e1-10c5be1db94b",
    "deepnote_to_be_reexecuted": false,
    "execution_millis": 11,
    "execution_start": 1641826067982,
    "source_hash": "fe0bd595",
    "tags": [],
    "output_cleared": true,
    "deepnote_cell_type": "code"
   },
   "source": "def plot_learning_curves(train_scores, test_scores, epochs, y_label):\n    plt.figure(figsize=(10,8))\n    plt.plot(range(0,epochs), train_scores, label = \"Training error\", linestyle='dashed')\n    plt.plot(range(0,epochs), test_scores, label = \"Test error\")\n    plt.legend()\n    plt.ylabel(y_label)\n    plt.xlabel('Epoch');",
   "execution_count": null,
   "outputs": []
  },
  {
   "cell_type": "code",
   "metadata": {
    "cell_id": "00015-6a9921fd-01c5-49e2-a2b3-bda9f06099d8",
    "deepnote_output_heights": [
     482
    ],
    "deepnote_to_be_reexecuted": false,
    "execution_millis": 394,
    "execution_start": 1641826067998,
    "source_hash": "517787aa",
    "tags": [],
    "output_cleared": false,
    "deepnote_cell_type": "code"
   },
   "source": "plot_learning_curves(train_loss_M1, test_loss_M1, classifier_M1.n_iter_, 'Loss (MSE)')",
   "execution_count": null,
   "outputs": [
    {
     "data": {
      "text/plain": "<Figure size 720x576 with 1 Axes>",
      "image/png": "[encoded data removed]"
     },
     "metadata": {
      "needs_background": "light",
      "image/png": {
       "width": 615,
       "height": 480
      }
     },
     "output_type": "display_data"
    }
   ]
  },
  {
   "cell_type": "markdown",
   "source": "### Learning curves for MONK1",
   "metadata": {
    "cell_id": "00023-5cefb34c-77d9-4b0d-a5ab-12e36354284c",
    "tags": [],
    "deepnote_cell_type": "markdown"
   }
  },
  {
   "cell_type": "code",
   "metadata": {
    "cell_id": "00027-03d612eb-a123-43d4-899b-825c10fe275b",
    "deepnote_output_heights": [
     482
    ],
    "deepnote_to_be_reexecuted": false,
    "execution_millis": 301,
    "execution_start": 1641826068367,
    "source_hash": "84ff1bd8",
    "tags": [],
    "output_cleared": false,
    "deepnote_cell_type": "code"
   },
   "source": "plot_learning_curves(train_scores_M1, test_scores_M1, classifier_M1.n_iter_, 'Accuracy')",
   "execution_count": null,
   "outputs": [
    {
     "data": {
      "text/plain": "<Figure size 720x576 with 1 Axes>",
      "image/png": "[encoded data removed]"
     },
     "metadata": {
      "needs_background": "light",
      "image/png": {
       "width": 615,
       "height": 480
      }
     },
     "output_type": "display_data"
    }
   ]
  },
  {
   "cell_type": "markdown",
   "source": "### Accuracy and MEE for MONK1",
   "metadata": {
    "cell_id": "00028-6de75766-a961-4493-8c75-6873af40ed1b",
    "tags": [],
    "deepnote_cell_type": "markdown"
   }
  },
  {
   "cell_type": "code",
   "metadata": {
    "cell_id": "00016-6f9c75ff-8e4d-4aa6-8614-426998a3229d",
    "deepnote_output_heights": [
     264,
     264
    ],
    "deepnote_to_be_reexecuted": false,
    "execution_millis": 45,
    "execution_start": 1641826068623,
    "source_hash": "234d2bb0",
    "tags": [],
    "output_cleared": false,
    "deepnote_cell_type": "code"
   },
   "source": "y_predicted_M1 = classifier_M1.predict(X_test_M1)\nprint(f\"Accuracy on MONK1: {classifier_M1.score(X_test_M1, y_test_M1)}\")\nprint(f\"MEE on MONK1: {(np.linalg.norm(y_predicted_M1-y_test_M1))}\") # MEE distance (a.k.a. norm 2)",
   "execution_count": null,
   "outputs": [
    {
     "name": "stdout",
     "text": "Accuracy on MONK1: 1.0\nMEE on MONK1: 0.0\n",
     "output_type": "stream",
     "data": {}
    }
   ]
  },
  {
   "cell_type": "markdown",
   "source": "### MONK2",
   "metadata": {
    "cell_id": "00018-ed3499e4-5fe7-477b-8af4-729f9be5b5e8",
    "tags": [],
    "deepnote_cell_type": "markdown"
   }
  },
  {
   "cell_type": "markdown",
   "source": "### Loading MONK2 dataset",
   "metadata": {
    "cell_id": "00030-b8a8f664-3925-45d9-8c8d-d44e8e1f15ed",
    "tags": [],
    "deepnote_cell_type": "markdown"
   }
  },
  {
   "cell_type": "code",
   "metadata": {
    "cell_id": "00019-bf7f4cdf-04cd-4d7c-a9d7-700f5d067cc7",
    "deepnote_to_be_reexecuted": false,
    "execution_millis": 350,
    "execution_start": 1641826068624,
    "source_hash": "ef7d28c4",
    "tags": [],
    "output_cleared": true,
    "deepnote_cell_type": "code"
   },
   "source": "df_monk2_train, df_monk2_test = load_monk('./data/MONK/monks-2.train', './data/MONK/monks-2.test')",
   "execution_count": null,
   "outputs": []
  },
  {
   "cell_type": "code",
   "metadata": {
    "cell_id": "00019-657c5239-6512-4cfc-bd63-75ad9850f856",
    "deepnote_output_heights": [
     21.1875
    ],
    "deepnote_to_be_reexecuted": false,
    "execution_millis": 53,
    "execution_start": 1641826069007,
    "source_hash": "7cc753f1",
    "tags": [],
    "output_cleared": false,
    "deepnote_cell_type": "code"
   },
   "source": "df_monk2_train.head() #first column is the target (can be either 0 or 1)",
   "execution_count": null,
   "outputs": [
    {
     "output_type": "execute_result",
     "execution_count": 18,
     "data": {
      "application/vnd.deepnote.dataframe.v3+json": {
       "column_count": 7,
       "row_count": 5,
       "columns": [
        {
         "name": "class",
         "dtype": "int64",
         "stats": {
          "unique_count": 1,
          "nan_count": 0,
          "min": "0",
          "max": "0",
          "histogram": [
           {
            "bin_start": -0.5,
            "bin_end": -0.4,
            "count": 0
           },
           {
            "bin_start": -0.4,
            "bin_end": -0.3,
            "count": 0
           },
           {
            "bin_start": -0.3,
            "bin_end": -0.19999999999999996,
            "count": 0
           },
           {
            "bin_start": -0.19999999999999996,
            "bin_end": -0.09999999999999998,
            "count": 0
           },
           {
            "bin_start": -0.09999999999999998,
            "bin_end": 0,
            "count": 0
           },
           {
            "bin_start": 0,
            "bin_end": 0.10000000000000009,
            "count": 5
           },
           {
            "bin_start": 0.10000000000000009,
            "bin_end": 0.20000000000000007,
            "count": 0
           },
           {
            "bin_start": 0.20000000000000007,
            "bin_end": 0.30000000000000004,
            "count": 0
           },
           {
            "bin_start": 0.30000000000000004,
            "bin_end": 0.4,
            "count": 0
           },
           {
            "bin_start": 0.4,
            "bin_end": 0.5,
            "count": 0
           }
          ]
         }
        },
        {
         "name": "a1",
         "dtype": "int64",
         "stats": {
          "unique_count": 1,
          "nan_count": 0,
          "min": "1",
          "max": "1",
          "histogram": [
           {
            "bin_start": 0.5,
            "bin_end": 0.6,
            "count": 0
           },
           {
            "bin_start": 0.6,
            "bin_end": 0.7,
            "count": 0
           },
           {
            "bin_start": 0.7,
            "bin_end": 0.8,
            "count": 0
           },
           {
            "bin_start": 0.8,
            "bin_end": 0.9,
            "count": 0
           },
           {
            "bin_start": 0.9,
            "bin_end": 1,
            "count": 0
           },
           {
            "bin_start": 1,
            "bin_end": 1.1,
            "count": 5
           },
           {
            "bin_start": 1.1,
            "bin_end": 1.2000000000000002,
            "count": 0
           },
           {
            "bin_start": 1.2000000000000002,
            "bin_end": 1.3,
            "count": 0
           },
           {
            "bin_start": 1.3,
            "bin_end": 1.4,
            "count": 0
           },
           {
            "bin_start": 1.4,
            "bin_end": 1.5,
            "count": 0
           }
          ]
         }
        },
        {
         "name": "a2",
         "dtype": "int64",
         "stats": {
          "unique_count": 1,
          "nan_count": 0,
          "min": "1",
          "max": "1",
          "histogram": [
           {
            "bin_start": 0.5,
            "bin_end": 0.6,
            "count": 0
           },
           {
            "bin_start": 0.6,
            "bin_end": 0.7,
            "count": 0
           },
           {
            "bin_start": 0.7,
            "bin_end": 0.8,
            "count": 0
           },
           {
            "bin_start": 0.8,
            "bin_end": 0.9,
            "count": 0
           },
           {
            "bin_start": 0.9,
            "bin_end": 1,
            "count": 0
           },
           {
            "bin_start": 1,
            "bin_end": 1.1,
            "count": 5
           },
           {
            "bin_start": 1.1,
            "bin_end": 1.2000000000000002,
            "count": 0
           },
           {
            "bin_start": 1.2000000000000002,
            "bin_end": 1.3,
            "count": 0
           },
           {
            "bin_start": 1.3,
            "bin_end": 1.4,
            "count": 0
           },
           {
            "bin_start": 1.4,
            "bin_end": 1.5,
            "count": 0
           }
          ]
         }
        },
        {
         "name": "a3",
         "dtype": "int64",
         "stats": {
          "unique_count": 1,
          "nan_count": 0,
          "min": "1",
          "max": "1",
          "histogram": [
           {
            "bin_start": 0.5,
            "bin_end": 0.6,
            "count": 0
           },
           {
            "bin_start": 0.6,
            "bin_end": 0.7,
            "count": 0
           },
           {
            "bin_start": 0.7,
            "bin_end": 0.8,
            "count": 0
           },
           {
            "bin_start": 0.8,
            "bin_end": 0.9,
            "count": 0
           },
           {
            "bin_start": 0.9,
            "bin_end": 1,
            "count": 0
           },
           {
            "bin_start": 1,
            "bin_end": 1.1,
            "count": 5
           },
           {
            "bin_start": 1.1,
            "bin_end": 1.2000000000000002,
            "count": 0
           },
           {
            "bin_start": 1.2000000000000002,
            "bin_end": 1.3,
            "count": 0
           },
           {
            "bin_start": 1.3,
            "bin_end": 1.4,
            "count": 0
           },
           {
            "bin_start": 1.4,
            "bin_end": 1.5,
            "count": 0
           }
          ]
         }
        },
        {
         "name": "a4",
         "dtype": "int64",
         "stats": {
          "unique_count": 2,
          "nan_count": 0,
          "min": "1",
          "max": "2",
          "histogram": [
           {
            "bin_start": 1,
            "bin_end": 1.1,
            "count": 2
           },
           {
            "bin_start": 1.1,
            "bin_end": 1.2,
            "count": 0
           },
           {
            "bin_start": 1.2,
            "bin_end": 1.3,
            "count": 0
           },
           {
            "bin_start": 1.3,
            "bin_end": 1.4,
            "count": 0
           },
           {
            "bin_start": 1.4,
            "bin_end": 1.5,
            "count": 0
           },
           {
            "bin_start": 1.5,
            "bin_end": 1.6,
            "count": 0
           },
           {
            "bin_start": 1.6,
            "bin_end": 1.7000000000000002,
            "count": 0
           },
           {
            "bin_start": 1.7000000000000002,
            "bin_end": 1.8,
            "count": 0
           },
           {
            "bin_start": 1.8,
            "bin_end": 1.9,
            "count": 0
           },
           {
            "bin_start": 1.9,
            "bin_end": 2,
            "count": 3
           }
          ]
         }
        },
        {
         "name": "a5",
         "dtype": "int64",
         "stats": {
          "unique_count": 3,
          "nan_count": 0,
          "min": "1",
          "max": "4",
          "histogram": [
           {
            "bin_start": 1,
            "bin_end": 1.3,
            "count": 2
           },
           {
            "bin_start": 1.3,
            "bin_end": 1.6,
            "count": 0
           },
           {
            "bin_start": 1.6,
            "bin_end": 1.9,
            "count": 0
           },
           {
            "bin_start": 1.9,
            "bin_end": 2.2,
            "count": 2
           },
           {
            "bin_start": 2.2,
            "bin_end": 2.5,
            "count": 0
           },
           {
            "bin_start": 2.5,
            "bin_end": 2.8,
            "count": 0
           },
           {
            "bin_start": 2.8,
            "bin_end": 3.1,
            "count": 0
           },
           {
            "bin_start": 3.1,
            "bin_end": 3.4,
            "count": 0
           },
           {
            "bin_start": 3.4,
            "bin_end": 3.6999999999999997,
            "count": 0
           },
           {
            "bin_start": 3.6999999999999997,
            "bin_end": 4,
            "count": 1
           }
          ]
         }
        },
        {
         "name": "a6",
         "dtype": "int64",
         "stats": {
          "unique_count": 2,
          "nan_count": 0,
          "min": "1",
          "max": "2",
          "histogram": [
           {
            "bin_start": 1,
            "bin_end": 1.1,
            "count": 3
           },
           {
            "bin_start": 1.1,
            "bin_end": 1.2,
            "count": 0
           },
           {
            "bin_start": 1.2,
            "bin_end": 1.3,
            "count": 0
           },
           {
            "bin_start": 1.3,
            "bin_end": 1.4,
            "count": 0
           },
           {
            "bin_start": 1.4,
            "bin_end": 1.5,
            "count": 0
           },
           {
            "bin_start": 1.5,
            "bin_end": 1.6,
            "count": 0
           },
           {
            "bin_start": 1.6,
            "bin_end": 1.7000000000000002,
            "count": 0
           },
           {
            "bin_start": 1.7000000000000002,
            "bin_end": 1.8,
            "count": 0
           },
           {
            "bin_start": 1.8,
            "bin_end": 1.9,
            "count": 0
           },
           {
            "bin_start": 1.9,
            "bin_end": 2,
            "count": 2
           }
          ]
         }
        },
        {
         "name": "_deepnote_index_column",
         "dtype": "int64"
        }
       ],
       "rows": [
        {
         "class": 0,
         "a1": 1,
         "a2": 1,
         "a3": 1,
         "a4": 1,
         "a5": 2,
         "a6": 2,
         "_deepnote_index_column": 0
        },
        {
         "class": 0,
         "a1": 1,
         "a2": 1,
         "a3": 1,
         "a4": 1,
         "a5": 4,
         "a6": 1,
         "_deepnote_index_column": 1
        },
        {
         "class": 0,
         "a1": 1,
         "a2": 1,
         "a3": 1,
         "a4": 2,
         "a5": 1,
         "a6": 1,
         "_deepnote_index_column": 2
        },
        {
         "class": 0,
         "a1": 1,
         "a2": 1,
         "a3": 1,
         "a4": 2,
         "a5": 1,
         "a6": 2,
         "_deepnote_index_column": 3
        },
        {
         "class": 0,
         "a1": 1,
         "a2": 1,
         "a3": 1,
         "a4": 2,
         "a5": 2,
         "a6": 1,
         "_deepnote_index_column": 4
        }
       ]
      },
      "text/plain": "   class  a1  a2  a3  a4  a5  a6\n0      0   1   1   1   1   2   2\n1      0   1   1   1   1   4   1\n2      0   1   1   1   2   1   1\n3      0   1   1   1   2   1   2\n4      0   1   1   1   2   2   1",
      "text/html": "<div>\n<style scoped>\n    .dataframe tbody tr th:only-of-type {\n        vertical-align: middle;\n    }\n\n    .dataframe tbody tr th {\n        vertical-align: top;\n    }\n\n    .dataframe thead th {\n        text-align: right;\n    }\n</style>\n<table border=\"1\" class=\"dataframe\">\n  <thead>\n    <tr style=\"text-align: right;\">\n      <th></th>\n      <th>class</th>\n      <th>a1</th>\n      <th>a2</th>\n      <th>a3</th>\n      <th>a4</th>\n      <th>a5</th>\n      <th>a6</th>\n    </tr>\n  </thead>\n  <tbody>\n    <tr>\n      <th>0</th>\n      <td>0</td>\n      <td>1</td>\n      <td>1</td>\n      <td>1</td>\n      <td>1</td>\n      <td>2</td>\n      <td>2</td>\n    </tr>\n    <tr>\n      <th>1</th>\n      <td>0</td>\n      <td>1</td>\n      <td>1</td>\n      <td>1</td>\n      <td>1</td>\n      <td>4</td>\n      <td>1</td>\n    </tr>\n    <tr>\n      <th>2</th>\n      <td>0</td>\n      <td>1</td>\n      <td>1</td>\n      <td>1</td>\n      <td>2</td>\n      <td>1</td>\n      <td>1</td>\n    </tr>\n    <tr>\n      <th>3</th>\n      <td>0</td>\n      <td>1</td>\n      <td>1</td>\n      <td>1</td>\n      <td>2</td>\n      <td>1</td>\n      <td>2</td>\n    </tr>\n    <tr>\n      <th>4</th>\n      <td>0</td>\n      <td>1</td>\n      <td>1</td>\n      <td>1</td>\n      <td>2</td>\n      <td>2</td>\n      <td>1</td>\n    </tr>\n  </tbody>\n</table>\n</div>"
     },
     "metadata": {}
    }
   ]
  },
  {
   "cell_type": "markdown",
   "source": "### Splitting MONK2 dataset",
   "metadata": {
    "cell_id": "00033-216bf6bc-4e9b-4c3f-beeb-0d9b0ee9c586",
    "tags": [],
    "deepnote_cell_type": "markdown"
   }
  },
  {
   "cell_type": "code",
   "metadata": {
    "cell_id": "00020-8853060c-1985-4bb1-81ed-f81e6dfba175",
    "deepnote_to_be_reexecuted": false,
    "execution_millis": 4,
    "execution_start": 1641826069020,
    "source_hash": "91aea900",
    "tags": [],
    "output_cleared": true,
    "deepnote_cell_type": "code"
   },
   "source": "X_train_M2, y_train_M2, X_test_M2, y_test_M2 = split_train_test(df_monk2_train, df_monk2_test)",
   "execution_count": null,
   "outputs": []
  },
  {
   "cell_type": "markdown",
   "source": "### One hot encoding on MONK2",
   "metadata": {
    "cell_id": "00035-e876aced-2d81-4822-bb04-e19b371d4736",
    "tags": [],
    "deepnote_cell_type": "markdown"
   }
  },
  {
   "cell_type": "code",
   "metadata": {
    "cell_id": "00021-f5c3c5ed-af3f-4331-b81b-6b2f4d50b9fe",
    "deepnote_to_be_reexecuted": false,
    "execution_millis": 38,
    "execution_start": 1641826069027,
    "source_hash": "25b72f0c",
    "tags": [],
    "output_cleared": false,
    "deepnote_cell_type": "code"
   },
   "source": "enc_train = OneHotEncoder()\nenc_train.fit(X_train_M2)\nX_train_M2 = enc_train.transform(X_train_M2).toarray()\nprint(X_train_M2.shape)\n\nenc_test = OneHotEncoder()\nenc_test.fit(X_test_M2)\nX_test_M2 = enc_test.transform(X_test_M2).toarray()\nprint(X_test_M2.shape)",
   "execution_count": null,
   "outputs": [
    {
     "name": "stdout",
     "text": "(169, 17)\n(432, 17)\n",
     "output_type": "stream",
     "data": {}
    }
   ]
  },
  {
   "cell_type": "markdown",
   "source": "### Training phase for MONK2",
   "metadata": {
    "cell_id": "00037-d53fd99c-8e5d-4206-b838-b62b475e4721",
    "tags": [],
    "deepnote_cell_type": "markdown"
   }
  },
  {
   "cell_type": "code",
   "metadata": {
    "cell_id": "00021-fdf6d727-ff1a-4928-a0df-25e0ae477b0f",
    "deepnote_to_be_reexecuted": false,
    "execution_millis": 3714,
    "execution_start": 1641826069044,
    "source_hash": "ee856055",
    "tags": [],
    "output_cleared": true,
    "deepnote_cell_type": "code"
   },
   "source": "classifier_M2 = MLPClassifier(random_state=69, batch_size=1).fit(X_train_M2, y_train_M2)\neval_model = MLPClassifier(random_state=69, batch_size=1)",
   "execution_count": null,
   "outputs": []
  },
  {
   "cell_type": "code",
   "metadata": {
    "cell_id": "00039-e7579a0a-c9c8-4b6b-a3d2-db3395d84d43",
    "deepnote_to_be_reexecuted": false,
    "execution_millis": 10311,
    "execution_start": 1641826072763,
    "source_hash": "ab9f4bb6",
    "tags": [],
    "output_cleared": true,
    "deepnote_cell_type": "code"
   },
   "source": "train_scores_M2, test_scores_M2, train_loss_M2, test_loss_M2 = fit_and_score_monk(classifier_M2.n_iter_, eval_model, X_train_M2, y_train_M2, X_test_M2, y_test_M2)",
   "execution_count": null,
   "outputs": []
  },
  {
   "cell_type": "markdown",
   "source": "### Loss curve for MONK2",
   "metadata": {
    "cell_id": "00039-85f3702a-6c13-488d-a26c-5d04f92af0ba",
    "tags": [],
    "deepnote_cell_type": "markdown"
   }
  },
  {
   "cell_type": "code",
   "metadata": {
    "cell_id": "00023-50ad5fe8-db26-4564-8036-19d50db125b2",
    "deepnote_output_heights": [
     482
    ],
    "deepnote_to_be_reexecuted": false,
    "execution_millis": 384,
    "execution_start": 1641826083075,
    "source_hash": "187ec63a",
    "tags": [],
    "output_cleared": false,
    "deepnote_cell_type": "code"
   },
   "source": "plot_learning_curves(train_loss_M2, test_loss_M2, classifier_M2.n_iter_, \"Loss (MSE)\")",
   "execution_count": null,
   "outputs": [
    {
     "data": {
      "text/plain": "<Figure size 720x576 with 1 Axes>",
      "image/png": "[encoded data removed]"
     },
     "metadata": {
      "needs_background": "light",
      "image/png": {
       "width": 615,
       "height": 480
      }
     },
     "output_type": "display_data"
    }
   ]
  },
  {
   "cell_type": "markdown",
   "source": "### Learning curves for MONK2",
   "metadata": {
    "cell_id": "00042-6cac84dd-c96c-41ea-923c-ceb57d9ce67f",
    "tags": [],
    "deepnote_cell_type": "markdown"
   }
  },
  {
   "cell_type": "code",
   "metadata": {
    "cell_id": "00043-9e5831eb-a051-4720-ba5f-ab37632655c0",
    "deepnote_output_heights": [
     482
    ],
    "deepnote_to_be_reexecuted": false,
    "execution_millis": 252,
    "execution_start": 1641826083452,
    "source_hash": "5d3fa740",
    "tags": [],
    "output_cleared": false,
    "deepnote_cell_type": "code"
   },
   "source": "plot_learning_curves(train_scores_M2, test_scores_M2, classifier_M2.n_iter_, 'Accuracy')",
   "execution_count": null,
   "outputs": [
    {
     "data": {
      "text/plain": "<Figure size 720x576 with 1 Axes>",
      "image/png": "[encoded data removed]"
     },
     "metadata": {
      "needs_background": "light",
      "image/png": {
       "width": 615,
       "height": 480
      }
     },
     "output_type": "display_data"
    }
   ]
  },
  {
   "cell_type": "markdown",
   "source": "### Accuracy and MEE on MONK2",
   "metadata": {
    "cell_id": "00045-43d0463a-986f-4df7-b016-bb3cc1c4eb52",
    "tags": [],
    "deepnote_cell_type": "markdown"
   }
  },
  {
   "cell_type": "code",
   "metadata": {
    "cell_id": "00024-f8b6e506-a611-4590-b950-3e716908c099",
    "deepnote_to_be_reexecuted": false,
    "execution_millis": 56,
    "execution_start": 1641826083695,
    "source_hash": "ae4af243",
    "tags": [],
    "output_cleared": false,
    "deepnote_cell_type": "code"
   },
   "source": "y_predicted_M2 = classifier_M2.predict(X_test_M2)\nprint(f\"Accuracy on MONK2: {classifier_M2.score(X_test_M2, y_test_M2)}\")\nprint(f\"MEE on MONK2: {(np.linalg.norm(y_predicted_M2-y_test_M2))}\") # MEE distance (a.k.a. norm 2)",
   "execution_count": null,
   "outputs": [
    {
     "name": "stdout",
     "text": "Accuracy on MONK2: 1.0\nMEE on MONK2: 0.0\n",
     "output_type": "stream",
     "data": {}
    }
   ]
  },
  {
   "cell_type": "markdown",
   "source": "### MONK3",
   "metadata": {
    "cell_id": "00025-c03a1235-9d36-460b-91a7-a142c8aea2d4",
    "tags": [],
    "deepnote_cell_type": "markdown"
   }
  },
  {
   "cell_type": "markdown",
   "source": "### Loading MONK3 dataset",
   "metadata": {
    "cell_id": "00048-4cc2725e-8093-4652-ba50-2a9bb7685578",
    "tags": [],
    "deepnote_cell_type": "markdown"
   }
  },
  {
   "cell_type": "code",
   "metadata": {
    "cell_id": "00026-7f0ac247-7df1-471d-86ad-4b33e3e799c9",
    "deepnote_to_be_reexecuted": false,
    "execution_millis": 0,
    "execution_start": 1641826083743,
    "source_hash": "882eb776",
    "tags": [],
    "output_cleared": true,
    "deepnote_cell_type": "code"
   },
   "source": "df_monk3_train, df_monk3_test = load_monk('./data/MONK/monks-3.train', './data/MONK/monks-3.test')",
   "execution_count": null,
   "outputs": []
  },
  {
   "cell_type": "code",
   "metadata": {
    "cell_id": "00027-056a023a-4f29-40fa-a994-1f0d63338ea9",
    "deepnote_to_be_reexecuted": false,
    "execution_millis": 109,
    "execution_start": 1641826083786,
    "source_hash": "628175ae",
    "tags": [],
    "output_cleared": false,
    "deepnote_cell_type": "code"
   },
   "source": "df_monk3_train.head() #first column is the target (can be either 0 or 1)",
   "execution_count": null,
   "outputs": [
    {
     "output_type": "execute_result",
     "execution_count": 27,
     "data": {
      "application/vnd.deepnote.dataframe.v3+json": {
       "column_count": 7,
       "row_count": 5,
       "columns": [
        {
         "name": "class",
         "dtype": "int64",
         "stats": {
          "unique_count": 2,
          "nan_count": 0,
          "min": "0",
          "max": "1",
          "histogram": [
           {
            "bin_start": 0,
            "bin_end": 0.1,
            "count": 2
           },
           {
            "bin_start": 0.1,
            "bin_end": 0.2,
            "count": 0
           },
           {
            "bin_start": 0.2,
            "bin_end": 0.30000000000000004,
            "count": 0
           },
           {
            "bin_start": 0.30000000000000004,
            "bin_end": 0.4,
            "count": 0
           },
           {
            "bin_start": 0.4,
            "bin_end": 0.5,
            "count": 0
           },
           {
            "bin_start": 0.5,
            "bin_end": 0.6000000000000001,
            "count": 0
           },
           {
            "bin_start": 0.6000000000000001,
            "bin_end": 0.7000000000000001,
            "count": 0
           },
           {
            "bin_start": 0.7000000000000001,
            "bin_end": 0.8,
            "count": 0
           },
           {
            "bin_start": 0.8,
            "bin_end": 0.9,
            "count": 0
           },
           {
            "bin_start": 0.9,
            "bin_end": 1,
            "count": 3
           }
          ]
         }
        },
        {
         "name": "a1",
         "dtype": "int64",
         "stats": {
          "unique_count": 1,
          "nan_count": 0,
          "min": "1",
          "max": "1",
          "histogram": [
           {
            "bin_start": 0.5,
            "bin_end": 0.6,
            "count": 0
           },
           {
            "bin_start": 0.6,
            "bin_end": 0.7,
            "count": 0
           },
           {
            "bin_start": 0.7,
            "bin_end": 0.8,
            "count": 0
           },
           {
            "bin_start": 0.8,
            "bin_end": 0.9,
            "count": 0
           },
           {
            "bin_start": 0.9,
            "bin_end": 1,
            "count": 0
           },
           {
            "bin_start": 1,
            "bin_end": 1.1,
            "count": 5
           },
           {
            "bin_start": 1.1,
            "bin_end": 1.2000000000000002,
            "count": 0
           },
           {
            "bin_start": 1.2000000000000002,
            "bin_end": 1.3,
            "count": 0
           },
           {
            "bin_start": 1.3,
            "bin_end": 1.4,
            "count": 0
           },
           {
            "bin_start": 1.4,
            "bin_end": 1.5,
            "count": 0
           }
          ]
         }
        },
        {
         "name": "a2",
         "dtype": "int64",
         "stats": {
          "unique_count": 1,
          "nan_count": 0,
          "min": "1",
          "max": "1",
          "histogram": [
           {
            "bin_start": 0.5,
            "bin_end": 0.6,
            "count": 0
           },
           {
            "bin_start": 0.6,
            "bin_end": 0.7,
            "count": 0
           },
           {
            "bin_start": 0.7,
            "bin_end": 0.8,
            "count": 0
           },
           {
            "bin_start": 0.8,
            "bin_end": 0.9,
            "count": 0
           },
           {
            "bin_start": 0.9,
            "bin_end": 1,
            "count": 0
           },
           {
            "bin_start": 1,
            "bin_end": 1.1,
            "count": 5
           },
           {
            "bin_start": 1.1,
            "bin_end": 1.2000000000000002,
            "count": 0
           },
           {
            "bin_start": 1.2000000000000002,
            "bin_end": 1.3,
            "count": 0
           },
           {
            "bin_start": 1.3,
            "bin_end": 1.4,
            "count": 0
           },
           {
            "bin_start": 1.4,
            "bin_end": 1.5,
            "count": 0
           }
          ]
         }
        },
        {
         "name": "a3",
         "dtype": "int64",
         "stats": {
          "unique_count": 1,
          "nan_count": 0,
          "min": "1",
          "max": "1",
          "histogram": [
           {
            "bin_start": 0.5,
            "bin_end": 0.6,
            "count": 0
           },
           {
            "bin_start": 0.6,
            "bin_end": 0.7,
            "count": 0
           },
           {
            "bin_start": 0.7,
            "bin_end": 0.8,
            "count": 0
           },
           {
            "bin_start": 0.8,
            "bin_end": 0.9,
            "count": 0
           },
           {
            "bin_start": 0.9,
            "bin_end": 1,
            "count": 0
           },
           {
            "bin_start": 1,
            "bin_end": 1.1,
            "count": 5
           },
           {
            "bin_start": 1.1,
            "bin_end": 1.2000000000000002,
            "count": 0
           },
           {
            "bin_start": 1.2000000000000002,
            "bin_end": 1.3,
            "count": 0
           },
           {
            "bin_start": 1.3,
            "bin_end": 1.4,
            "count": 0
           },
           {
            "bin_start": 1.4,
            "bin_end": 1.5,
            "count": 0
           }
          ]
         }
        },
        {
         "name": "a4",
         "dtype": "int64",
         "stats": {
          "unique_count": 1,
          "nan_count": 0,
          "min": "1",
          "max": "1",
          "histogram": [
           {
            "bin_start": 0.5,
            "bin_end": 0.6,
            "count": 0
           },
           {
            "bin_start": 0.6,
            "bin_end": 0.7,
            "count": 0
           },
           {
            "bin_start": 0.7,
            "bin_end": 0.8,
            "count": 0
           },
           {
            "bin_start": 0.8,
            "bin_end": 0.9,
            "count": 0
           },
           {
            "bin_start": 0.9,
            "bin_end": 1,
            "count": 0
           },
           {
            "bin_start": 1,
            "bin_end": 1.1,
            "count": 5
           },
           {
            "bin_start": 1.1,
            "bin_end": 1.2000000000000002,
            "count": 0
           },
           {
            "bin_start": 1.2000000000000002,
            "bin_end": 1.3,
            "count": 0
           },
           {
            "bin_start": 1.3,
            "bin_end": 1.4,
            "count": 0
           },
           {
            "bin_start": 1.4,
            "bin_end": 1.5,
            "count": 0
           }
          ]
         }
        },
        {
         "name": "a5",
         "dtype": "int64",
         "stats": {
          "unique_count": 4,
          "nan_count": 0,
          "min": "1",
          "max": "4",
          "histogram": [
           {
            "bin_start": 1,
            "bin_end": 1.3,
            "count": 1
           },
           {
            "bin_start": 1.3,
            "bin_end": 1.6,
            "count": 0
           },
           {
            "bin_start": 1.6,
            "bin_end": 1.9,
            "count": 0
           },
           {
            "bin_start": 1.9,
            "bin_end": 2.2,
            "count": 2
           },
           {
            "bin_start": 2.2,
            "bin_end": 2.5,
            "count": 0
           },
           {
            "bin_start": 2.5,
            "bin_end": 2.8,
            "count": 0
           },
           {
            "bin_start": 2.8,
            "bin_end": 3.1,
            "count": 1
           },
           {
            "bin_start": 3.1,
            "bin_end": 3.4,
            "count": 0
           },
           {
            "bin_start": 3.4,
            "bin_end": 3.6999999999999997,
            "count": 0
           },
           {
            "bin_start": 3.6999999999999997,
            "bin_end": 4,
            "count": 1
           }
          ]
         }
        },
        {
         "name": "a6",
         "dtype": "int64",
         "stats": {
          "unique_count": 2,
          "nan_count": 0,
          "min": "1",
          "max": "2",
          "histogram": [
           {
            "bin_start": 1,
            "bin_end": 1.1,
            "count": 3
           },
           {
            "bin_start": 1.1,
            "bin_end": 1.2,
            "count": 0
           },
           {
            "bin_start": 1.2,
            "bin_end": 1.3,
            "count": 0
           },
           {
            "bin_start": 1.3,
            "bin_end": 1.4,
            "count": 0
           },
           {
            "bin_start": 1.4,
            "bin_end": 1.5,
            "count": 0
           },
           {
            "bin_start": 1.5,
            "bin_end": 1.6,
            "count": 0
           },
           {
            "bin_start": 1.6,
            "bin_end": 1.7000000000000002,
            "count": 0
           },
           {
            "bin_start": 1.7000000000000002,
            "bin_end": 1.8,
            "count": 0
           },
           {
            "bin_start": 1.8,
            "bin_end": 1.9,
            "count": 0
           },
           {
            "bin_start": 1.9,
            "bin_end": 2,
            "count": 2
           }
          ]
         }
        },
        {
         "name": "_deepnote_index_column",
         "dtype": "int64"
        }
       ],
       "rows": [
        {
         "class": 1,
         "a1": 1,
         "a2": 1,
         "a3": 1,
         "a4": 1,
         "a5": 1,
         "a6": 2,
         "_deepnote_index_column": 0
        },
        {
         "class": 1,
         "a1": 1,
         "a2": 1,
         "a3": 1,
         "a4": 1,
         "a5": 2,
         "a6": 1,
         "_deepnote_index_column": 1
        },
        {
         "class": 1,
         "a1": 1,
         "a2": 1,
         "a3": 1,
         "a4": 1,
         "a5": 2,
         "a6": 2,
         "_deepnote_index_column": 2
        },
        {
         "class": 0,
         "a1": 1,
         "a2": 1,
         "a3": 1,
         "a4": 1,
         "a5": 3,
         "a6": 1,
         "_deepnote_index_column": 3
        },
        {
         "class": 0,
         "a1": 1,
         "a2": 1,
         "a3": 1,
         "a4": 1,
         "a5": 4,
         "a6": 1,
         "_deepnote_index_column": 4
        }
       ]
      },
      "text/plain": "   class  a1  a2  a3  a4  a5  a6\n0      1   1   1   1   1   1   2\n1      1   1   1   1   1   2   1\n2      1   1   1   1   1   2   2\n3      0   1   1   1   1   3   1\n4      0   1   1   1   1   4   1",
      "text/html": "<div>\n<style scoped>\n    .dataframe tbody tr th:only-of-type {\n        vertical-align: middle;\n    }\n\n    .dataframe tbody tr th {\n        vertical-align: top;\n    }\n\n    .dataframe thead th {\n        text-align: right;\n    }\n</style>\n<table border=\"1\" class=\"dataframe\">\n  <thead>\n    <tr style=\"text-align: right;\">\n      <th></th>\n      <th>class</th>\n      <th>a1</th>\n      <th>a2</th>\n      <th>a3</th>\n      <th>a4</th>\n      <th>a5</th>\n      <th>a6</th>\n    </tr>\n  </thead>\n  <tbody>\n    <tr>\n      <th>0</th>\n      <td>1</td>\n      <td>1</td>\n      <td>1</td>\n      <td>1</td>\n      <td>1</td>\n      <td>1</td>\n      <td>2</td>\n    </tr>\n    <tr>\n      <th>1</th>\n      <td>1</td>\n      <td>1</td>\n      <td>1</td>\n      <td>1</td>\n      <td>1</td>\n      <td>2</td>\n      <td>1</td>\n    </tr>\n    <tr>\n      <th>2</th>\n      <td>1</td>\n      <td>1</td>\n      <td>1</td>\n      <td>1</td>\n      <td>1</td>\n      <td>2</td>\n      <td>2</td>\n    </tr>\n    <tr>\n      <th>3</th>\n      <td>0</td>\n      <td>1</td>\n      <td>1</td>\n      <td>1</td>\n      <td>1</td>\n      <td>3</td>\n      <td>1</td>\n    </tr>\n    <tr>\n      <th>4</th>\n      <td>0</td>\n      <td>1</td>\n      <td>1</td>\n      <td>1</td>\n      <td>1</td>\n      <td>4</td>\n      <td>1</td>\n    </tr>\n  </tbody>\n</table>\n</div>"
     },
     "metadata": {}
    }
   ]
  },
  {
   "cell_type": "markdown",
   "source": "### Splitting MONK3 dataset",
   "metadata": {
    "cell_id": "00051-7d727c90-0273-44f5-9795-9860cd9bb36b",
    "tags": [],
    "deepnote_cell_type": "markdown"
   }
  },
  {
   "cell_type": "code",
   "metadata": {
    "cell_id": "00028-8ca44002-3174-4694-ba93-deacf418f54c",
    "deepnote_to_be_reexecuted": false,
    "execution_millis": 7,
    "execution_start": 1641826083882,
    "source_hash": "a1418039",
    "tags": [],
    "output_cleared": true,
    "deepnote_cell_type": "code"
   },
   "source": "X_train_M3, y_train_M3, X_test_M3, y_test_M3 = split_train_test(df_monk3_train, df_monk3_test)",
   "execution_count": null,
   "outputs": []
  },
  {
   "cell_type": "markdown",
   "source": "### One hot encoding on MONK3",
   "metadata": {
    "cell_id": "00053-79b113d1-28a9-42f1-a60d-f4046f036549",
    "tags": [],
    "deepnote_cell_type": "markdown"
   }
  },
  {
   "cell_type": "code",
   "metadata": {
    "cell_id": "00029-ed3ccbdb-aa56-4112-b01a-2d8f8a4876be",
    "deepnote_to_be_reexecuted": false,
    "execution_millis": 13,
    "execution_start": 1641826083891,
    "source_hash": "7b938f1f",
    "tags": [],
    "output_cleared": false,
    "deepnote_cell_type": "code"
   },
   "source": "enc_train = OneHotEncoder()\nenc_train.fit(X_train_M3)\nX_train_M3 = enc_train.transform(X_train_M3).toarray()\nprint(X_train_M3.shape)\n\nenc_test = OneHotEncoder()\nenc_test.fit(X_test_M3)\nX_test_M3 = enc_test.transform(X_test_M3).toarray()\nprint(X_test_M3.shape)",
   "execution_count": null,
   "outputs": [
    {
     "name": "stdout",
     "text": "(122, 17)\n(432, 17)\n",
     "output_type": "stream",
     "data": {}
    }
   ]
  },
  {
   "cell_type": "markdown",
   "source": "### Training phase on MONK3",
   "metadata": {
    "cell_id": "00055-767c45fa-ae9a-442c-891a-84a43a15e8a3",
    "tags": [],
    "deepnote_cell_type": "markdown"
   }
  },
  {
   "cell_type": "code",
   "metadata": {
    "cell_id": "00030-91805f62-b6cb-48ea-bc5f-6c07105f70a6",
    "deepnote_to_be_reexecuted": false,
    "execution_millis": 2745,
    "execution_start": 1641826083942,
    "source_hash": "d95f863c",
    "tags": [],
    "output_cleared": true,
    "deepnote_cell_type": "code"
   },
   "source": "classifier_M3 = MLPClassifier(random_state=69, batch_size=1, alpha=0.01).fit(X_train_M3, y_train_M3)\neval_model = MLPClassifier(random_state=69, batch_size=1, alpha = 0.01)",
   "execution_count": null,
   "outputs": []
  },
  {
   "cell_type": "code",
   "metadata": {
    "cell_id": "00057-e7c838fa-08a3-48da-8950-df6b7825fb9b",
    "deepnote_to_be_reexecuted": false,
    "execution_millis": 8482,
    "execution_start": 1641826086691,
    "source_hash": "c99473c1",
    "tags": [],
    "output_cleared": true,
    "deepnote_cell_type": "code"
   },
   "source": "train_scores_M3, test_scores_M3, train_loss_M3, test_loss_M3 = fit_and_score_monk(classifier_M3.n_iter_, eval_model, X_train_M3, y_train_M3, X_test_M3, y_test_M3)",
   "execution_count": null,
   "outputs": []
  },
  {
   "cell_type": "markdown",
   "source": "### Loss curve for MONK3",
   "metadata": {
    "cell_id": "00058-20db3155-0a03-45cc-b9a1-06fa3c4219b8",
    "tags": [],
    "deepnote_cell_type": "markdown"
   }
  },
  {
   "cell_type": "code",
   "metadata": {
    "cell_id": "00031-388f766f-4a89-4297-b010-a29e512920a4",
    "deepnote_output_heights": [
     482
    ],
    "deepnote_to_be_reexecuted": false,
    "execution_millis": 358,
    "execution_start": 1641826095173,
    "source_hash": "35bc25d2",
    "tags": [],
    "output_cleared": false,
    "deepnote_cell_type": "code"
   },
   "source": "plot_learning_curves(train_loss_M3, test_loss_M3, classifier_M3.n_iter_, \"Loss (MSE)\")",
   "execution_count": null,
   "outputs": [
    {
     "data": {
      "text/plain": "<Figure size 720x576 with 1 Axes>",
      "image/png": "[encoded data removed]"
     },
     "metadata": {
      "needs_background": "light",
      "image/png": {
       "width": 615,
       "height": 480
      }
     },
     "output_type": "display_data"
    }
   ]
  },
  {
   "cell_type": "markdown",
   "source": "### Learning curves for MONK3",
   "metadata": {
    "cell_id": "00060-0f1f4796-2b6d-4a25-8ce1-a9d08fca1d7d",
    "tags": [],
    "deepnote_cell_type": "markdown"
   }
  },
  {
   "cell_type": "code",
   "metadata": {
    "cell_id": "00061-60043da1-0b2d-4698-955f-98100f679b08",
    "deepnote_output_heights": [
     482
    ],
    "deepnote_to_be_reexecuted": false,
    "execution_millis": 287,
    "execution_start": 1641826095491,
    "source_hash": "ff5f65d9",
    "tags": [],
    "output_cleared": false,
    "deepnote_cell_type": "code"
   },
   "source": "plot_learning_curves(train_scores_M3, test_scores_M3, classifier_M3.n_iter_, 'Accuracy')\n#normal settings tends to overfit, alpha was increased in order to regularize the model ",
   "execution_count": null,
   "outputs": [
    {
     "data": {
      "text/plain": "<Figure size 720x576 with 1 Axes>",
      "image/png": "[encoded data removed]"
     },
     "metadata": {
      "needs_background": "light",
      "image/png": {
       "width": 615,
       "height": 480
      }
     },
     "output_type": "display_data"
    }
   ]
  },
  {
   "cell_type": "code",
   "metadata": {
    "cell_id": "00032-be8eff03-9a6c-4415-a3d7-ea43a53603c0",
    "deepnote_to_be_reexecuted": false,
    "execution_millis": 31,
    "execution_start": 1641826095774,
    "source_hash": "afa418d",
    "tags": [],
    "output_cleared": false,
    "deepnote_cell_type": "code"
   },
   "source": "y_predicted_M3 = classifier_M3.predict(X_test_M3)\nprint(f\"Accuracy on MONK3: {classifier_M3.score(X_test_M3, y_test_M3)}\")\nprint(f\"MEE on MONK3: {(np.linalg.norm(y_predicted_M3-y_test_M3))}\") # MEE distance (a.k.a. norm 2)",
   "execution_count": null,
   "outputs": [
    {
     "name": "stdout",
     "text": "Accuracy on MONK3: 0.9699074074074074\nMEE on MONK3: 3.605551275463989\n",
     "output_type": "stream",
     "data": {}
    }
   ]
  },
  {
   "cell_type": "markdown",
   "source": "## Regression task",
   "metadata": {
    "cell_id": "00033-f377e8a8-d346-4c60-835a-b6b9f2df7021",
    "tags": [],
    "deepnote_cell_type": "markdown"
   }
  },
  {
   "cell_type": "markdown",
   "source": "### Preparing the training set",
   "metadata": {
    "cell_id": "00064-2058d5d5-7564-4bea-932b-0c17b1a3c160",
    "tags": [],
    "deepnote_cell_type": "markdown"
   }
  },
  {
   "cell_type": "code",
   "metadata": {
    "cell_id": "00034-07744eb7-186a-48ca-b217-0d7b58cd58b7",
    "deepnote_to_be_reexecuted": false,
    "execution_millis": 19,
    "execution_start": 1641826095798,
    "source_hash": "192dcf",
    "tags": [],
    "output_cleared": true,
    "deepnote_cell_type": "code"
   },
   "source": "df_task_tr.drop(labels=\"idx\", axis=1, inplace=True)",
   "execution_count": null,
   "outputs": []
  },
  {
   "cell_type": "code",
   "metadata": {
    "cell_id": "00035-8acb3216-3652-45bf-91f4-a801eaba46ac",
    "deepnote_to_be_reexecuted": false,
    "execution_millis": 15,
    "execution_start": 1641826095864,
    "source_hash": "8b598d07",
    "tags": [],
    "output_cleared": true,
    "deepnote_cell_type": "code"
   },
   "source": "y = df_task_tr[['x','y']].values\nX = df_task_tr.drop(labels=['x','y'], axis=1).values\nX_all = X\ny_all = y",
   "execution_count": null,
   "outputs": []
  },
  {
   "cell_type": "code",
   "metadata": {
    "cell_id": "00036-cd5f441c-e9e8-4aae-9ae2-35f1423cf422",
    "deepnote_to_be_reexecuted": false,
    "execution_millis": 2,
    "execution_start": 1641826095886,
    "source_hash": "473a37ed",
    "tags": [],
    "output_cleared": false,
    "deepnote_cell_type": "code"
   },
   "source": "print(X.shape)\nprint(y.shape)",
   "execution_count": null,
   "outputs": [
    {
     "name": "stdout",
     "text": "(1477, 10)\n(1477, 2)\n",
     "output_type": "stream",
     "data": {}
    }
   ]
  },
  {
   "cell_type": "markdown",
   "source": "### Internal Test set\nWe split the data set obtaining an internal test set (15%), we will use this internal test at the end to test internally the generalization error",
   "metadata": {
    "cell_id": "00037-3313112a-3b16-420f-a0ae-c8178583d319",
    "tags": [],
    "deepnote_cell_type": "markdown"
   }
  },
  {
   "cell_type": "code",
   "metadata": {
    "cell_id": "00035-e835800e-5aa7-4b2e-af85-c104d99255f3",
    "deepnote_to_be_reexecuted": false,
    "execution_millis": 9,
    "execution_start": 1641826095895,
    "source_hash": "26bfe5a3",
    "tags": [],
    "output_cleared": false,
    "deepnote_cell_type": "code"
   },
   "source": "X, X_internal_test, y, y_internal_test = train_test_split(X, y, test_size=0.15, random_state=420)\nprint(f\"X shape: {X.shape}\")\nprint(f\"X internal test shape: {X_internal_test.shape}\")\nprint(f\"y shape: {y.shape}\")\nprint(f\"y internal test shape: {y_internal_test.shape}\")",
   "execution_count": null,
   "outputs": [
    {
     "name": "stdout",
     "text": "X shape: (1255, 10)\nX internal test shape: (222, 10)\ny shape: (1255, 2)\ny internal test shape: (222, 2)\n",
     "output_type": "stream",
     "data": {}
    }
   ]
  },
  {
   "cell_type": "code",
   "metadata": {
    "cell_id": "00052-5cffdfe0-8f87-4957-abcc-15ff679d9b9c",
    "deepnote_to_be_reexecuted": false,
    "execution_millis": 1,
    "execution_start": 1641826095942,
    "source_hash": "368f9bc8",
    "tags": [],
    "output_cleared": true,
    "deepnote_cell_type": "code"
   },
   "source": "#trains the model with one iteration (epoch) and computes in output a list of train and test scores using MEE\ndef fit_and_score(epochs, eval_model, X_train, y_train, X_test, y_test):\n    train_scores = []\n    test_scores = []\n    train_loss = []\n    test_loss = []\n    for i in range(epochs):\n        eval_model = eval_model.partial_fit(X_train,y_train)\n        y_train_predicted = eval_model.predict(X_train)\n        y_test_predicted = eval_model.predict(X_test)\n        #results on train set\n        train_scores.append(mee(y_train, y_train_predicted))\n        test_scores.append(mean_squared_error(y_test, y_test_predicted))\n        #result on test set\n        train_loss.append(mee(y_train, y_train_predicted))\n        test_loss.append(mean_squared_error(y_test, y_test_predicted))\n    return train_scores, test_scores, train_loss, test_loss\n",
   "execution_count": null,
   "outputs": []
  },
  {
   "cell_type": "code",
   "metadata": {
    "cell_id": "00073-551d1b5a-34ea-438f-8836-496e3678516f",
    "deepnote_to_be_reexecuted": false,
    "execution_millis": 0,
    "execution_start": 1641826095943,
    "source_hash": "236d7250",
    "tags": [],
    "output_cleared": true,
    "deepnote_cell_type": "code"
   },
   "source": "def inv_mee(true_target, predicted_target):\n    return 1/mee(true_target, predicted_target)",
   "execution_count": null,
   "outputs": []
  },
  {
   "cell_type": "markdown",
   "source": "## Randomized Search",
   "metadata": {
    "cell_id": "00073-00634e3e-7aa5-4df0-88bd-6dcd2ac6f441",
    "tags": [],
    "deepnote_cell_type": "markdown"
   }
  },
  {
   "cell_type": "code",
   "metadata": {
    "tags": [],
    "cell_id": "00073-c57366cc-ea96-4696-b7a1-cb1173b69f00",
    "output_cleared": true,
    "deepnote_to_be_reexecuted": false,
    "source_hash": "7abc9356",
    "execution_start": 1641826095944,
    "execution_millis": 0,
    "deepnote_cell_type": "code"
   },
   "source": "# define the number of iterations\nn_iter_search = 2000\n# define number of k-folds\nk = 10\nrandom_state = 69",
   "execution_count": null,
   "outputs": []
  },
  {
   "cell_type": "code",
   "metadata": {
    "cell_id": "00074-634a3d0e-014c-4ea9-817f-231f64a5896b",
    "deepnote_output_heights": [
     null,
     328.109375
    ],
    "deepnote_to_be_reexecuted": false,
    "execution_millis": 11,
    "execution_start": 1641826095945,
    "source_hash": "edb75f9b",
    "tags": [],
    "output_cleared": true,
    "deepnote_cell_type": "code"
   },
   "source": "%%script false --no-raise-error\n\n# to find the best set of parameter setting, we can run a randomized search\nfrom sklearn.model_selection import RandomizedSearchCV\nfrom scipy.stats import uniform\nfrom scipy.stats import randint\nfrom sklearn.metrics import make_scorer\n\n# define the parameters' values\nparams = {\n    \"hidden_layer_sizes\": [\n        (5,),(10,),(25,),(50,),(100,),\n        (5, 5),(10, 10),(25, 25),(50, 50),(100, 100),],\n    \"activation\" : [\"logistic\", \"tanh\", \"relu\"],\n    \"solver\": [\"sgd\", \"adam\"],\n    \"learning_rate\": [\"constant\", \"adaptive\", \"invscaling\"],\n    \"learning_rate_init\": uniform(0.01, 0.5),\n    \"alpha\": uniform(0.0001, 0.1),\n    \"momentum\": [0.1, 0.3, 0.5, 0.7, 0.9, 1],\n    \"batch_size\": randint(1, X.shape[0]),\n    \"n_iter_no_change\": [\n        10,\n        25,\n        50,\n    ],\n    \"random_state\": [random_state],\n    \"tol\": uniform(0.001,0.0001),\n    \"early_stopping\": [True],\n    \"validation_fraction\": [0.3],\n    \"max_iter\": [5000],\n}\n\n# define the grid search\nrand_gs = RandomizedSearchCV(\n    MLPRegressor(),\n    param_distributions=params,\n    n_iter=n_iter_search,\n    n_jobs=-1,\n    scoring=make_scorer(mee), #scoring is based on the highest value\n    cv=k,\n    random_state=random_state,\n    verbose=10\n)\n# run the grid search\nrand_gs.fit(X, y)\n",
   "execution_count": null,
   "outputs": []
  },
  {
   "cell_type": "code",
   "metadata": {
    "cell_id": "00078-45a1e674-58c1-4e66-ac38-2e9f8c40730d",
    "deepnote_output_heights": [
     21.1875
    ],
    "deepnote_table_loading": false,
    "deepnote_table_state": {
     "filters": [],
     "pageIndex": 0,
     "pageSize": 10,
     "sortBy": [
      {
       "id": "mean_test_score",
       "type": "desc"
      }
     ]
    },
    "deepnote_to_be_reexecuted": false,
    "execution_millis": 331,
    "execution_start": 1641827756518,
    "source_hash": "ad4ee3e4",
    "tags": [],
    "output_cleared": false,
    "deepnote_cell_type": "code"
   },
   "source": "%%script false --no-raise-error\n\ndf_results = pd.DataFrame(data=rand_gs.cv_results_) #trasform into a pandas dataframe\ndf_results.sort_values(by=\"rank_test_score\", axis=0, ascending=False, inplace=True) #sort rank values in decreasing order \ndf_results.dropna(inplace=True) #delete nan values \ndf_results = df_results[:50] #keep only top 50 models\npd.DataFrame.to_csv(df_results, \"sklearn_results/rand1_search.csv\")",
   "execution_count": null,
   "outputs": [
    {
     "name": "stderr",
     "text": "UsageError: Line magic function `%%script` not found.\n",
     "output_type": "stream",
     "data": {}
    }
   ]
  },
  {
   "cell_type": "code",
   "metadata": {
    "cell_id": "00076-f458920b-df72-4aed-8cf0-4008e8633a15",
    "deepnote_to_be_reexecuted": false,
    "source_hash": "597f1dd",
    "execution_start": 1641828535914,
    "execution_millis": 109,
    "output_cleared": false,
    "deepnote_cell_type": "code"
   },
   "source": "df_results = pd.read_csv(\"sklearn_results/rand1_search.csv\")\ndf_results.head()\n",
   "execution_count": null,
   "outputs": [
    {
     "output_type": "execute_result",
     "execution_count": 46,
     "data": {
      "application/vnd.deepnote.dataframe.v3+json": {
       "column_count": 33,
       "row_count": 5,
       "columns": [
        {
         "name": "Unnamed: 0",
         "dtype": "int64",
         "stats": {
          "unique_count": 5,
          "nan_count": 0,
          "min": "24",
          "max": "1704",
          "histogram": [
           {
            "bin_start": 24,
            "bin_end": 192,
            "count": 1
           },
           {
            "bin_start": 192,
            "bin_end": 360,
            "count": 0
           },
           {
            "bin_start": 360,
            "bin_end": 528,
            "count": 1
           },
           {
            "bin_start": 528,
            "bin_end": 696,
            "count": 0
           },
           {
            "bin_start": 696,
            "bin_end": 864,
            "count": 0
           },
           {
            "bin_start": 864,
            "bin_end": 1032,
            "count": 0
           },
           {
            "bin_start": 1032,
            "bin_end": 1200,
            "count": 1
           },
           {
            "bin_start": 1200,
            "bin_end": 1368,
            "count": 0
           },
           {
            "bin_start": 1368,
            "bin_end": 1536,
            "count": 1
           },
           {
            "bin_start": 1536,
            "bin_end": 1704,
            "count": 1
           }
          ]
         }
        },
        {
         "name": "mean_fit_time",
         "dtype": "float64",
         "stats": {
          "unique_count": 5,
          "nan_count": 0,
          "min": "0.7757086992263794",
          "max": "2.1580245733261108",
          "histogram": [
           {
            "bin_start": 0.7757086992263794,
            "bin_end": 0.9139402866363526,
            "count": 1
           },
           {
            "bin_start": 0.9139402866363526,
            "bin_end": 1.0521718740463257,
            "count": 0
           },
           {
            "bin_start": 1.0521718740463257,
            "bin_end": 1.1904034614562988,
            "count": 0
           },
           {
            "bin_start": 1.1904034614562988,
            "bin_end": 1.3286350488662722,
            "count": 1
           },
           {
            "bin_start": 1.3286350488662722,
            "bin_end": 1.466866636276245,
            "count": 1
           },
           {
            "bin_start": 1.466866636276245,
            "bin_end": 1.6050982236862184,
            "count": 0
           },
           {
            "bin_start": 1.6050982236862184,
            "bin_end": 1.7433298110961917,
            "count": 0
           },
           {
            "bin_start": 1.7433298110961917,
            "bin_end": 1.8815613985061646,
            "count": 0
           },
           {
            "bin_start": 1.8815613985061646,
            "bin_end": 2.019792985916138,
            "count": 0
           },
           {
            "bin_start": 2.019792985916138,
            "bin_end": 2.1580245733261108,
            "count": 2
           }
          ]
         }
        },
        {
         "name": "std_fit_time",
         "dtype": "float64",
         "stats": {
          "unique_count": 5,
          "nan_count": 0,
          "min": "0.1074542064531853",
          "max": "0.3350327783233155",
          "histogram": [
           {
            "bin_start": 0.1074542064531853,
            "bin_end": 0.13021206364019833,
            "count": 1
           },
           {
            "bin_start": 0.13021206364019833,
            "bin_end": 0.15296992082721134,
            "count": 1
           },
           {
            "bin_start": 0.15296992082721134,
            "bin_end": 0.17572777801422435,
            "count": 1
           },
           {
            "bin_start": 0.17572777801422435,
            "bin_end": 0.19848563520123738,
            "count": 0
           },
           {
            "bin_start": 0.19848563520123738,
            "bin_end": 0.22124349238825042,
            "count": 0
           },
           {
            "bin_start": 0.22124349238825042,
            "bin_end": 0.24400134957526343,
            "count": 0
           },
           {
            "bin_start": 0.24400134957526343,
            "bin_end": 0.26675920676227644,
            "count": 0
           },
           {
            "bin_start": 0.26675920676227644,
            "bin_end": 0.28951706394928944,
            "count": 0
           },
           {
            "bin_start": 0.28951706394928944,
            "bin_end": 0.31227492113630245,
            "count": 0
           },
           {
            "bin_start": 0.31227492113630245,
            "bin_end": 0.3350327783233155,
            "count": 2
           }
          ]
         }
        },
        {
         "name": "mean_score_time",
         "dtype": "float64",
         "stats": {
          "unique_count": 5,
          "nan_count": 0,
          "min": "0.0009848356246948",
          "max": "0.0016878128051757",
          "histogram": [
           {
            "bin_start": 0.0009848356246948,
            "bin_end": 0.00105513334274289,
            "count": 1
           },
           {
            "bin_start": 0.00105513334274289,
            "bin_end": 0.0011254310607909802,
            "count": 1
           },
           {
            "bin_start": 0.0011254310607909802,
            "bin_end": 0.0011957287788390701,
            "count": 0
           },
           {
            "bin_start": 0.0011957287788390701,
            "bin_end": 0.00126602649688716,
            "count": 0
           },
           {
            "bin_start": 0.00126602649688716,
            "bin_end": 0.00133632421493525,
            "count": 0
           },
           {
            "bin_start": 0.00133632421493525,
            "bin_end": 0.0014066219329833402,
            "count": 0
           },
           {
            "bin_start": 0.0014066219329833402,
            "bin_end": 0.00147691965103143,
            "count": 1
           },
           {
            "bin_start": 0.00147691965103143,
            "bin_end": 0.00154721736907952,
            "count": 0
           },
           {
            "bin_start": 0.00154721736907952,
            "bin_end": 0.0016175150871276102,
            "count": 0
           },
           {
            "bin_start": 0.0016175150871276102,
            "bin_end": 0.0016878128051757,
            "count": 2
           }
          ]
         }
        },
        {
         "name": "std_score_time",
         "dtype": "float64",
         "stats": {
          "unique_count": 5,
          "nan_count": 0,
          "min": "5.16305933594305e-05",
          "max": "0.0004907063614484",
          "histogram": [
           {
            "bin_start": 0.0000516305933594305,
            "bin_end": 0.00009553817016832745,
            "count": 1
           },
           {
            "bin_start": 0.00009553817016832745,
            "bin_end": 0.0001394457469772244,
            "count": 0
           },
           {
            "bin_start": 0.0001394457469772244,
            "bin_end": 0.00018335332378612132,
            "count": 0
           },
           {
            "bin_start": 0.00018335332378612132,
            "bin_end": 0.00022726090059501828,
            "count": 0
           },
           {
            "bin_start": 0.00022726090059501828,
            "bin_end": 0.00027116847740391524,
            "count": 2
           },
           {
            "bin_start": 0.00027116847740391524,
            "bin_end": 0.00031507605421281215,
            "count": 0
           },
           {
            "bin_start": 0.00031507605421281215,
            "bin_end": 0.0003589836310217091,
            "count": 0
           },
           {
            "bin_start": 0.0003589836310217091,
            "bin_end": 0.0004028912078306061,
            "count": 1
           },
           {
            "bin_start": 0.0004028912078306061,
            "bin_end": 0.00044679878463950304,
            "count": 0
           },
           {
            "bin_start": 0.00044679878463950304,
            "bin_end": 0.0004907063614484,
            "count": 1
           }
          ]
         }
        },
        {
         "name": "param_activation",
         "dtype": "object",
         "stats": {
          "unique_count": 2,
          "nan_count": 0,
          "categories": [
           {
            "name": "tanh",
            "count": 3
           },
           {
            "name": "logistic",
            "count": 2
           }
          ]
         }
        },
        {
         "name": "param_alpha",
         "dtype": "float64",
         "stats": {
          "unique_count": 5,
          "nan_count": 0,
          "min": "0.0253222322112038",
          "max": "0.0802015265666357",
          "histogram": [
           {
            "bin_start": 0.0253222322112038,
            "bin_end": 0.030810161646746992,
            "count": 1
           },
           {
            "bin_start": 0.030810161646746992,
            "bin_end": 0.03629809108229018,
            "count": 0
           },
           {
            "bin_start": 0.03629809108229018,
            "bin_end": 0.04178602051783337,
            "count": 0
           },
           {
            "bin_start": 0.04178602051783337,
            "bin_end": 0.04727394995337656,
            "count": 1
           },
           {
            "bin_start": 0.04727394995337656,
            "bin_end": 0.052761879388919755,
            "count": 1
           },
           {
            "bin_start": 0.052761879388919755,
            "bin_end": 0.05824980882446294,
            "count": 0
           },
           {
            "bin_start": 0.05824980882446294,
            "bin_end": 0.06373773826000613,
            "count": 0
           },
           {
            "bin_start": 0.06373773826000613,
            "bin_end": 0.06922566769554932,
            "count": 0
           },
           {
            "bin_start": 0.06922566769554932,
            "bin_end": 0.0747135971310925,
            "count": 1
           },
           {
            "bin_start": 0.0747135971310925,
            "bin_end": 0.0802015265666357,
            "count": 1
           }
          ]
         }
        },
        {
         "name": "param_batch_size",
         "dtype": "int64",
         "stats": {
          "unique_count": 5,
          "nan_count": 0,
          "min": "39",
          "max": "641",
          "histogram": [
           {
            "bin_start": 39,
            "bin_end": 99.2,
            "count": 2
           },
           {
            "bin_start": 99.2,
            "bin_end": 159.4,
            "count": 0
           },
           {
            "bin_start": 159.4,
            "bin_end": 219.60000000000002,
            "count": 1
           },
           {
            "bin_start": 219.60000000000002,
            "bin_end": 279.8,
            "count": 1
           },
           {
            "bin_start": 279.8,
            "bin_end": 340,
            "count": 0
           },
           {
            "bin_start": 340,
            "bin_end": 400.20000000000005,
            "count": 0
           },
           {
            "bin_start": 400.20000000000005,
            "bin_end": 460.40000000000003,
            "count": 0
           },
           {
            "bin_start": 460.40000000000003,
            "bin_end": 520.6,
            "count": 0
           },
           {
            "bin_start": 520.6,
            "bin_end": 580.8000000000001,
            "count": 0
           },
           {
            "bin_start": 580.8000000000001,
            "bin_end": 641,
            "count": 1
           }
          ]
         }
        },
        {
         "name": "param_early_stopping",
         "dtype": "bool",
         "stats": {
          "unique_count": 1,
          "nan_count": 0,
          "categories": [
           {
            "name": "True",
            "count": 5
           }
          ]
         }
        },
        {
         "name": "param_hidden_layer_sizes",
         "dtype": "object",
         "stats": {
          "unique_count": 3,
          "nan_count": 0,
          "categories": [
           {
            "name": "(50, 50)",
            "count": 2
           },
           {
            "name": "(25, 25)",
            "count": 2
           },
           {
            "name": "(100, 100)",
            "count": 1
           }
          ]
         }
        },
        {
         "name": "param_learning_rate",
         "dtype": "object",
         "stats": {
          "unique_count": 2,
          "nan_count": 0,
          "categories": [
           {
            "name": "constant",
            "count": 3
           },
           {
            "name": "adaptive",
            "count": 2
           }
          ]
         }
        },
        {
         "name": "param_learning_rate_init",
         "dtype": "float64",
         "stats": {
          "unique_count": 5,
          "nan_count": 0,
          "min": "0.0431832163959616",
          "max": "0.0831412540833912",
          "histogram": [
           {
            "bin_start": 0.0431832163959616,
            "bin_end": 0.04717902016470456,
            "count": 2
           },
           {
            "bin_start": 0.04717902016470456,
            "bin_end": 0.05117482393344752,
            "count": 0
           },
           {
            "bin_start": 0.05117482393344752,
            "bin_end": 0.05517062770219048,
            "count": 2
           },
           {
            "bin_start": 0.05517062770219048,
            "bin_end": 0.05916643147093344,
            "count": 0
           },
           {
            "bin_start": 0.05916643147093344,
            "bin_end": 0.0631622352396764,
            "count": 0
           },
           {
            "bin_start": 0.0631622352396764,
            "bin_end": 0.06715803900841935,
            "count": 0
           },
           {
            "bin_start": 0.06715803900841935,
            "bin_end": 0.07115384277716232,
            "count": 0
           },
           {
            "bin_start": 0.07115384277716232,
            "bin_end": 0.07514964654590528,
            "count": 0
           },
           {
            "bin_start": 0.07514964654590528,
            "bin_end": 0.07914545031464823,
            "count": 0
           },
           {
            "bin_start": 0.07914545031464823,
            "bin_end": 0.0831412540833912,
            "count": 1
           }
          ]
         }
        },
        {
         "name": "param_max_iter",
         "dtype": "int64",
         "stats": {
          "unique_count": 1,
          "nan_count": 0,
          "min": "5000",
          "max": "5000",
          "histogram": [
           {
            "bin_start": 4999.5,
            "bin_end": 4999.6,
            "count": 0
           },
           {
            "bin_start": 4999.6,
            "bin_end": 4999.7,
            "count": 0
           },
           {
            "bin_start": 4999.7,
            "bin_end": 4999.8,
            "count": 0
           },
           {
            "bin_start": 4999.8,
            "bin_end": 4999.9,
            "count": 0
           },
           {
            "bin_start": 4999.9,
            "bin_end": 5000,
            "count": 0
           },
           {
            "bin_start": 5000,
            "bin_end": 5000.1,
            "count": 5
           },
           {
            "bin_start": 5000.1,
            "bin_end": 5000.2,
            "count": 0
           },
           {
            "bin_start": 5000.2,
            "bin_end": 5000.3,
            "count": 0
           },
           {
            "bin_start": 5000.3,
            "bin_end": 5000.4,
            "count": 0
           },
           {
            "bin_start": 5000.4,
            "bin_end": 5000.5,
            "count": 0
           }
          ]
         }
        },
        {
         "name": "param_momentum",
         "dtype": "float64",
         "stats": {
          "unique_count": 4,
          "nan_count": 0,
          "min": "0.1",
          "max": "1.0",
          "histogram": [
           {
            "bin_start": 0.1,
            "bin_end": 0.19,
            "count": 1
           },
           {
            "bin_start": 0.19,
            "bin_end": 0.28,
            "count": 0
           },
           {
            "bin_start": 0.28,
            "bin_end": 0.37,
            "count": 2
           },
           {
            "bin_start": 0.37,
            "bin_end": 0.45999999999999996,
            "count": 0
           },
           {
            "bin_start": 0.45999999999999996,
            "bin_end": 0.5499999999999999,
            "count": 1
           },
           {
            "bin_start": 0.5499999999999999,
            "bin_end": 0.64,
            "count": 0
           },
           {
            "bin_start": 0.64,
            "bin_end": 0.73,
            "count": 0
           },
           {
            "bin_start": 0.73,
            "bin_end": 0.82,
            "count": 0
           },
           {
            "bin_start": 0.82,
            "bin_end": 0.9099999999999999,
            "count": 0
           },
           {
            "bin_start": 0.9099999999999999,
            "bin_end": 1,
            "count": 1
           }
          ]
         }
        },
        {
         "name": "param_n_iter_no_change",
         "dtype": "int64",
         "stats": {
          "unique_count": 3,
          "nan_count": 0,
          "min": "10",
          "max": "50",
          "histogram": [
           {
            "bin_start": 10,
            "bin_end": 14,
            "count": 1
           },
           {
            "bin_start": 14,
            "bin_end": 18,
            "count": 0
           },
           {
            "bin_start": 18,
            "bin_end": 22,
            "count": 0
           },
           {
            "bin_start": 22,
            "bin_end": 26,
            "count": 1
           },
           {
            "bin_start": 26,
            "bin_end": 30,
            "count": 0
           },
           {
            "bin_start": 30,
            "bin_end": 34,
            "count": 0
           },
           {
            "bin_start": 34,
            "bin_end": 38,
            "count": 0
           },
           {
            "bin_start": 38,
            "bin_end": 42,
            "count": 0
           },
           {
            "bin_start": 42,
            "bin_end": 46,
            "count": 0
           },
           {
            "bin_start": 46,
            "bin_end": 50,
            "count": 3
           }
          ]
         }
        },
        {
         "name": "param_random_state",
         "dtype": "int64",
         "stats": {
          "unique_count": 1,
          "nan_count": 0,
          "min": "69",
          "max": "69",
          "histogram": [
           {
            "bin_start": 68.5,
            "bin_end": 68.6,
            "count": 0
           },
           {
            "bin_start": 68.6,
            "bin_end": 68.7,
            "count": 0
           },
           {
            "bin_start": 68.7,
            "bin_end": 68.8,
            "count": 0
           },
           {
            "bin_start": 68.8,
            "bin_end": 68.9,
            "count": 0
           },
           {
            "bin_start": 68.9,
            "bin_end": 69,
            "count": 0
           },
           {
            "bin_start": 69,
            "bin_end": 69.1,
            "count": 5
           },
           {
            "bin_start": 69.1,
            "bin_end": 69.2,
            "count": 0
           },
           {
            "bin_start": 69.2,
            "bin_end": 69.3,
            "count": 0
           },
           {
            "bin_start": 69.3,
            "bin_end": 69.4,
            "count": 0
           },
           {
            "bin_start": 69.4,
            "bin_end": 69.5,
            "count": 0
           }
          ]
         }
        },
        {
         "name": "param_solver",
         "dtype": "object",
         "stats": {
          "unique_count": 2,
          "nan_count": 0,
          "categories": [
           {
            "name": "adam",
            "count": 3
           },
           {
            "name": "sgd",
            "count": 2
           }
          ]
         }
        },
        {
         "name": "param_tol",
         "dtype": "float64",
         "stats": {
          "unique_count": 5,
          "nan_count": 0,
          "min": "0.0010106421680876",
          "max": "0.0010663204575654",
          "histogram": [
           {
            "bin_start": 0.0010106421680876,
            "bin_end": 0.00101620999703538,
            "count": 2
           },
           {
            "bin_start": 0.00101620999703538,
            "bin_end": 0.00102177782598316,
            "count": 0
           },
           {
            "bin_start": 0.00102177782598316,
            "bin_end": 0.00102734565493094,
            "count": 0
           },
           {
            "bin_start": 0.00102734565493094,
            "bin_end": 0.00103291348387872,
            "count": 1
           },
           {
            "bin_start": 0.00103291348387872,
            "bin_end": 0.0010384813128265,
            "count": 0
           },
           {
            "bin_start": 0.0010384813128265,
            "bin_end": 0.00104404914177428,
            "count": 0
           },
           {
            "bin_start": 0.00104404914177428,
            "bin_end": 0.00104961697072206,
            "count": 0
           },
           {
            "bin_start": 0.00104961697072206,
            "bin_end": 0.00105518479966984,
            "count": 0
           },
           {
            "bin_start": 0.00105518479966984,
            "bin_end": 0.00106075262861762,
            "count": 0
           },
           {
            "bin_start": 0.00106075262861762,
            "bin_end": 0.0010663204575654,
            "count": 2
           }
          ]
         }
        },
        {
         "name": "param_validation_fraction",
         "dtype": "float64",
         "stats": {
          "unique_count": 1,
          "nan_count": 0,
          "min": "0.3",
          "max": "0.3",
          "histogram": [
           {
            "bin_start": -0.2,
            "bin_end": -0.1,
            "count": 0
           },
           {
            "bin_start": -0.1,
            "bin_end": 0,
            "count": 0
           },
           {
            "bin_start": 0,
            "bin_end": 0.10000000000000003,
            "count": 0
           },
           {
            "bin_start": 0.10000000000000003,
            "bin_end": 0.2,
            "count": 0
           },
           {
            "bin_start": 0.2,
            "bin_end": 0.3,
            "count": 0
           },
           {
            "bin_start": 0.3,
            "bin_end": 0.4000000000000001,
            "count": 5
           },
           {
            "bin_start": 0.4000000000000001,
            "bin_end": 0.5,
            "count": 0
           },
           {
            "bin_start": 0.5,
            "bin_end": 0.6000000000000001,
            "count": 0
           },
           {
            "bin_start": 0.6000000000000001,
            "bin_end": 0.7,
            "count": 0
           },
           {
            "bin_start": 0.7,
            "bin_end": 0.8,
            "count": 0
           }
          ]
         }
        },
        {
         "name": "params",
         "dtype": "object",
         "stats": {
          "unique_count": 5,
          "nan_count": 0,
          "categories": [
           {
            "name": "{'activation': 'tanh', 'alpha': 0.06934111521663792, 'batch_size': 93, 'early_stopping': True, 'hidden_layer_sizes': (50, 50), 'learning_rate': 'constant', 'learning_rate_init': 0.055044122426660395, 'max_iter': 5000, 'momentum': 0.3, 'n_iter_no_change': 50, 'random_state': 69, 'solver': 'adam', 'tol': 0.001010642168087602, 'validation_fraction': 0.3}",
            "count": 1
           },
           {
            "name": "{'activation': 'logistic', 'alpha': 0.0253222322112038, 'batch_size': 172, 'early_stopping': True, 'hidden_layer_sizes': (50, 50), 'learning_rate': 'constant', 'learning_rate_init': 0.04522264859305097, 'max_iter': 5000, 'momentum': 1, 'n_iter_no_change': 25, 'random_state': 69, 'solver': 'adam', 'tol': 0.001066320457565434, 'validation_fraction': 0.3}",
            "count": 1
           },
           {
            "name": "3 others",
            "count": 3
           }
          ]
         }
        },
        {
         "name": "split0_test_score",
         "dtype": "float64",
         "stats": {
          "unique_count": 5,
          "nan_count": 0,
          "min": "1.1359261429995549",
          "max": "1.230759711868826",
          "histogram": [
           {
            "bin_start": 1.1359261429995549,
            "bin_end": 1.1454094998864819,
            "count": 2
           },
           {
            "bin_start": 1.1454094998864819,
            "bin_end": 1.1548928567734091,
            "count": 0
           },
           {
            "bin_start": 1.1548928567734091,
            "bin_end": 1.1643762136603362,
            "count": 0
           },
           {
            "bin_start": 1.1643762136603362,
            "bin_end": 1.1738595705472634,
            "count": 0
           },
           {
            "bin_start": 1.1738595705472634,
            "bin_end": 1.1833429274341905,
            "count": 0
           },
           {
            "bin_start": 1.1833429274341905,
            "bin_end": 1.1928262843211175,
            "count": 1
           },
           {
            "bin_start": 1.1928262843211175,
            "bin_end": 1.2023096412080447,
            "count": 0
           },
           {
            "bin_start": 1.2023096412080447,
            "bin_end": 1.2117929980949718,
            "count": 0
           },
           {
            "bin_start": 1.2117929980949718,
            "bin_end": 1.221276354981899,
            "count": 1
           },
           {
            "bin_start": 1.221276354981899,
            "bin_end": 1.230759711868826,
            "count": 1
           }
          ]
         }
        },
        {
         "name": "split1_test_score",
         "dtype": "float64",
         "stats": {
          "unique_count": 5,
          "nan_count": 0,
          "min": "1.2248246460543253",
          "max": "1.3476334218455646",
          "histogram": [
           {
            "bin_start": 1.2248246460543253,
            "bin_end": 1.2371055236334492,
            "count": 2
           },
           {
            "bin_start": 1.2371055236334492,
            "bin_end": 1.249386401212573,
            "count": 0
           },
           {
            "bin_start": 1.249386401212573,
            "bin_end": 1.2616672787916972,
            "count": 0
           },
           {
            "bin_start": 1.2616672787916972,
            "bin_end": 1.273948156370821,
            "count": 0
           },
           {
            "bin_start": 1.273948156370821,
            "bin_end": 1.286229033949945,
            "count": 1
           },
           {
            "bin_start": 1.286229033949945,
            "bin_end": 1.2985099115290688,
            "count": 0
           },
           {
            "bin_start": 1.2985099115290688,
            "bin_end": 1.3107907891081927,
            "count": 0
           },
           {
            "bin_start": 1.3107907891081927,
            "bin_end": 1.3230716666873168,
            "count": 0
           },
           {
            "bin_start": 1.3230716666873168,
            "bin_end": 1.3353525442664407,
            "count": 1
           },
           {
            "bin_start": 1.3353525442664407,
            "bin_end": 1.3476334218455646,
            "count": 1
           }
          ]
         }
        },
        {
         "name": "split2_test_score",
         "dtype": "float64",
         "stats": {
          "unique_count": 5,
          "nan_count": 0,
          "min": "1.1486806147726982",
          "max": "1.32306039810071",
          "histogram": [
           {
            "bin_start": 1.1486806147726982,
            "bin_end": 1.1661185931054994,
            "count": 1
           },
           {
            "bin_start": 1.1661185931054994,
            "bin_end": 1.1835565714383005,
            "count": 1
           },
           {
            "bin_start": 1.1835565714383005,
            "bin_end": 1.2009945497711019,
            "count": 0
           },
           {
            "bin_start": 1.2009945497711019,
            "bin_end": 1.218432528103903,
            "count": 1
           },
           {
            "bin_start": 1.218432528103903,
            "bin_end": 1.2358705064367042,
            "count": 0
           },
           {
            "bin_start": 1.2358705064367042,
            "bin_end": 1.2533084847695053,
            "count": 0
           },
           {
            "bin_start": 1.2533084847695053,
            "bin_end": 1.2707464631023064,
            "count": 0
           },
           {
            "bin_start": 1.2707464631023064,
            "bin_end": 1.2881844414351078,
            "count": 1
           },
           {
            "bin_start": 1.2881844414351078,
            "bin_end": 1.305622419767909,
            "count": 0
           },
           {
            "bin_start": 1.305622419767909,
            "bin_end": 1.32306039810071,
            "count": 1
           }
          ]
         }
        },
        {
         "name": "split3_test_score",
         "dtype": "float64",
         "stats": {
          "unique_count": 5,
          "nan_count": 0,
          "min": "0.9923908675535256",
          "max": "1.078478100751621",
          "histogram": [
           {
            "bin_start": 0.9923908675535256,
            "bin_end": 1.0009995908733351,
            "count": 1
           },
           {
            "bin_start": 1.0009995908733351,
            "bin_end": 1.0096083141931447,
            "count": 0
           },
           {
            "bin_start": 1.0096083141931447,
            "bin_end": 1.0182170375129542,
            "count": 0
           },
           {
            "bin_start": 1.0182170375129542,
            "bin_end": 1.0268257608327638,
            "count": 1
           },
           {
            "bin_start": 1.0268257608327638,
            "bin_end": 1.0354344841525733,
            "count": 2
           },
           {
            "bin_start": 1.0354344841525733,
            "bin_end": 1.0440432074723829,
            "count": 0
           },
           {
            "bin_start": 1.0440432074723829,
            "bin_end": 1.0526519307921924,
            "count": 0
           },
           {
            "bin_start": 1.0526519307921924,
            "bin_end": 1.061260654112002,
            "count": 0
           },
           {
            "bin_start": 1.061260654112002,
            "bin_end": 1.0698693774318115,
            "count": 0
           },
           {
            "bin_start": 1.0698693774318115,
            "bin_end": 1.078478100751621,
            "count": 1
           }
          ]
         }
        },
        {
         "name": "split4_test_score",
         "dtype": "float64",
         "stats": {
          "unique_count": 5,
          "nan_count": 0,
          "min": "1.0079464299425032",
          "max": "1.1215880762575394",
          "histogram": [
           {
            "bin_start": 1.0079464299425032,
            "bin_end": 1.0193105945740069,
            "count": 1
           },
           {
            "bin_start": 1.0193105945740069,
            "bin_end": 1.0306747592055103,
            "count": 0
           },
           {
            "bin_start": 1.0306747592055103,
            "bin_end": 1.042038923837014,
            "count": 1
           },
           {
            "bin_start": 1.042038923837014,
            "bin_end": 1.0534030884685177,
            "count": 1
           },
           {
            "bin_start": 1.0534030884685177,
            "bin_end": 1.0647672531000212,
            "count": 0
           },
           {
            "bin_start": 1.0647672531000212,
            "bin_end": 1.0761314177315249,
            "count": 1
           },
           {
            "bin_start": 1.0761314177315249,
            "bin_end": 1.0874955823630286,
            "count": 0
           },
           {
            "bin_start": 1.0874955823630286,
            "bin_end": 1.0988597469945323,
            "count": 0
           },
           {
            "bin_start": 1.0988597469945323,
            "bin_end": 1.1102239116260357,
            "count": 0
           },
           {
            "bin_start": 1.1102239116260357,
            "bin_end": 1.1215880762575394,
            "count": 1
           }
          ]
         }
        },
        {
         "name": "split5_test_score",
         "dtype": "float64",
         "stats": {
          "unique_count": 5,
          "nan_count": 0,
          "min": "1.0260476676284356",
          "max": "1.1434823353398549",
          "histogram": [
           {
            "bin_start": 1.0260476676284356,
            "bin_end": 1.0377911343995776,
            "count": 1
           },
           {
            "bin_start": 1.0377911343995776,
            "bin_end": 1.0495346011707194,
            "count": 1
           },
           {
            "bin_start": 1.0495346011707194,
            "bin_end": 1.0612780679418614,
            "count": 0
           },
           {
            "bin_start": 1.0612780679418614,
            "bin_end": 1.0730215347130032,
            "count": 0
           },
           {
            "bin_start": 1.0730215347130032,
            "bin_end": 1.0847650014841452,
            "count": 1
           },
           {
            "bin_start": 1.0847650014841452,
            "bin_end": 1.0965084682552872,
            "count": 1
           },
           {
            "bin_start": 1.0965084682552872,
            "bin_end": 1.108251935026429,
            "count": 0
           },
           {
            "bin_start": 1.108251935026429,
            "bin_end": 1.119995401797571,
            "count": 0
           },
           {
            "bin_start": 1.119995401797571,
            "bin_end": 1.1317388685687129,
            "count": 0
           },
           {
            "bin_start": 1.1317388685687129,
            "bin_end": 1.1434823353398549,
            "count": 1
           }
          ]
         }
        },
        {
         "name": "split6_test_score",
         "dtype": "float64",
         "stats": {
          "unique_count": 5,
          "nan_count": 0,
          "min": "1.2013345290100428",
          "max": "1.2648259785378015",
          "histogram": [
           {
            "bin_start": 1.2013345290100428,
            "bin_end": 1.2076836739628187,
            "count": 2
           },
           {
            "bin_start": 1.2076836739628187,
            "bin_end": 1.2140328189155944,
            "count": 0
           },
           {
            "bin_start": 1.2140328189155944,
            "bin_end": 1.2203819638683704,
            "count": 1
           },
           {
            "bin_start": 1.2203819638683704,
            "bin_end": 1.2267311088211463,
            "count": 1
           },
           {
            "bin_start": 1.2267311088211463,
            "bin_end": 1.233080253773922,
            "count": 0
           },
           {
            "bin_start": 1.233080253773922,
            "bin_end": 1.239429398726698,
            "count": 0
           },
           {
            "bin_start": 1.239429398726698,
            "bin_end": 1.245778543679474,
            "count": 0
           },
           {
            "bin_start": 1.245778543679474,
            "bin_end": 1.2521276886322499,
            "count": 0
           },
           {
            "bin_start": 1.2521276886322499,
            "bin_end": 1.2584768335850256,
            "count": 0
           },
           {
            "bin_start": 1.2584768335850256,
            "bin_end": 1.2648259785378015,
            "count": 1
           }
          ]
         }
        },
        {
         "name": "split7_test_score",
         "dtype": "float64",
         "stats": {
          "unique_count": 5,
          "nan_count": 0,
          "min": "1.1230603393608385",
          "max": "1.1921222736436932",
          "histogram": [
           {
            "bin_start": 1.1230603393608385,
            "bin_end": 1.129966532789124,
            "count": 2
           },
           {
            "bin_start": 1.129966532789124,
            "bin_end": 1.1368727262174094,
            "count": 1
           },
           {
            "bin_start": 1.1368727262174094,
            "bin_end": 1.143778919645695,
            "count": 0
           },
           {
            "bin_start": 1.143778919645695,
            "bin_end": 1.1506851130739804,
            "count": 0
           },
           {
            "bin_start": 1.1506851130739804,
            "bin_end": 1.1575913065022658,
            "count": 0
           },
           {
            "bin_start": 1.1575913065022658,
            "bin_end": 1.1644974999305513,
            "count": 0
           },
           {
            "bin_start": 1.1644974999305513,
            "bin_end": 1.1714036933588368,
            "count": 0
           },
           {
            "bin_start": 1.1714036933588368,
            "bin_end": 1.1783098867871222,
            "count": 0
           },
           {
            "bin_start": 1.1783098867871222,
            "bin_end": 1.1852160802154077,
            "count": 0
           },
           {
            "bin_start": 1.1852160802154077,
            "bin_end": 1.1921222736436932,
            "count": 2
           }
          ]
         }
        },
        {
         "name": "split8_test_score",
         "dtype": "float64",
         "stats": {
          "unique_count": 5,
          "nan_count": 0,
          "min": "1.105047414628063",
          "max": "1.1552285392627453",
          "histogram": [
           {
            "bin_start": 1.105047414628063,
            "bin_end": 1.1100655270915314,
            "count": 1
           },
           {
            "bin_start": 1.1100655270915314,
            "bin_end": 1.1150836395549995,
            "count": 0
           },
           {
            "bin_start": 1.1150836395549995,
            "bin_end": 1.1201017520184677,
            "count": 0
           },
           {
            "bin_start": 1.1201017520184677,
            "bin_end": 1.125119864481936,
            "count": 1
           },
           {
            "bin_start": 1.125119864481936,
            "bin_end": 1.130137976945404,
            "count": 1
           },
           {
            "bin_start": 1.130137976945404,
            "bin_end": 1.1351560894088724,
            "count": 0
           },
           {
            "bin_start": 1.1351560894088724,
            "bin_end": 1.1401742018723406,
            "count": 1
           },
           {
            "bin_start": 1.1401742018723406,
            "bin_end": 1.145192314335809,
            "count": 0
           },
           {
            "bin_start": 1.145192314335809,
            "bin_end": 1.150210426799277,
            "count": 0
           },
           {
            "bin_start": 1.150210426799277,
            "bin_end": 1.1552285392627453,
            "count": 1
           }
          ]
         }
        },
        {
         "name": "split9_test_score",
         "dtype": "float64",
         "stats": {
          "unique_count": 5,
          "nan_count": 0,
          "min": "1.089179850966559",
          "max": "1.170792763668842",
          "histogram": [
           {
            "bin_start": 1.089179850966559,
            "bin_end": 1.0973411422367871,
            "count": 1
           },
           {
            "bin_start": 1.0973411422367871,
            "bin_end": 1.1055024335070156,
            "count": 0
           },
           {
            "bin_start": 1.1055024335070156,
            "bin_end": 1.1136637247772438,
            "count": 0
           },
           {
            "bin_start": 1.1136637247772438,
            "bin_end": 1.121825016047472,
            "count": 0
           },
           {
            "bin_start": 1.121825016047472,
            "bin_end": 1.1299863073177003,
            "count": 0
           },
           {
            "bin_start": 1.1299863073177003,
            "bin_end": 1.1381475985879288,
            "count": 0
           },
           {
            "bin_start": 1.1381475985879288,
            "bin_end": 1.146308889858157,
            "count": 2
           },
           {
            "bin_start": 1.146308889858157,
            "bin_end": 1.1544701811283853,
            "count": 0
           },
           {
            "bin_start": 1.1544701811283853,
            "bin_end": 1.1626314723986138,
            "count": 0
           },
           {
            "bin_start": 1.1626314723986138,
            "bin_end": 1.170792763668842,
            "count": 2
           }
          ]
         }
        },
        {
         "name": "mean_test_score",
         "dtype": "float64",
         "stats": {
          "unique_count": 5,
          "nan_count": 0,
          "min": "1.1250801038376537",
          "max": "1.1588418123436868",
          "histogram": [
           {
            "bin_start": 1.1250801038376537,
            "bin_end": 1.128456274688257,
            "count": 1
           },
           {
            "bin_start": 1.128456274688257,
            "bin_end": 1.1318324455388602,
            "count": 0
           },
           {
            "bin_start": 1.1318324455388602,
            "bin_end": 1.1352086163894637,
            "count": 0
           },
           {
            "bin_start": 1.1352086163894637,
            "bin_end": 1.138584787240067,
            "count": 0
           },
           {
            "bin_start": 1.138584787240067,
            "bin_end": 1.1419609580906702,
            "count": 0
           },
           {
            "bin_start": 1.1419609580906702,
            "bin_end": 1.1453371289412735,
            "count": 0
           },
           {
            "bin_start": 1.1453371289412735,
            "bin_end": 1.1487132997918768,
            "count": 0
           },
           {
            "bin_start": 1.1487132997918768,
            "bin_end": 1.1520894706424802,
            "count": 0
           },
           {
            "bin_start": 1.1520894706424802,
            "bin_end": 1.1554656414930835,
            "count": 1
           },
           {
            "bin_start": 1.1554656414930835,
            "bin_end": 1.1588418123436868,
            "count": 3
           }
          ]
         }
        },
        {
         "name": "std_test_score",
         "dtype": "float64",
         "stats": {
          "unique_count": 5,
          "nan_count": 0,
          "min": "0.0686324611988252",
          "max": "0.0951429143282983",
          "histogram": [
           {
            "bin_start": 0.0686324611988252,
            "bin_end": 0.07128350651177251,
            "count": 1
           },
           {
            "bin_start": 0.07128350651177251,
            "bin_end": 0.07393455182471982,
            "count": 0
           },
           {
            "bin_start": 0.07393455182471982,
            "bin_end": 0.07658559713766713,
            "count": 0
           },
           {
            "bin_start": 0.07658559713766713,
            "bin_end": 0.07923664245061444,
            "count": 1
           },
           {
            "bin_start": 0.07923664245061444,
            "bin_end": 0.08188768776356176,
            "count": 0
           },
           {
            "bin_start": 0.08188768776356176,
            "bin_end": 0.08453873307650905,
            "count": 1
           },
           {
            "bin_start": 0.08453873307650905,
            "bin_end": 0.08718977838945637,
            "count": 0
           },
           {
            "bin_start": 0.08718977838945637,
            "bin_end": 0.08984082370240368,
            "count": 0
           },
           {
            "bin_start": 0.08984082370240368,
            "bin_end": 0.09249186901535099,
            "count": 0
           },
           {
            "bin_start": 0.09249186901535099,
            "bin_end": 0.0951429143282983,
            "count": 2
           }
          ]
         }
        },
        {
         "name": "rank_test_score",
         "dtype": "int64",
         "stats": {
          "unique_count": 5,
          "nan_count": 0,
          "min": "1708",
          "max": "1712",
          "histogram": [
           {
            "bin_start": 1708,
            "bin_end": 1708.4,
            "count": 1
           },
           {
            "bin_start": 1708.4,
            "bin_end": 1708.8,
            "count": 0
           },
           {
            "bin_start": 1708.8,
            "bin_end": 1709.2,
            "count": 1
           },
           {
            "bin_start": 1709.2,
            "bin_end": 1709.6,
            "count": 0
           },
           {
            "bin_start": 1709.6,
            "bin_end": 1710,
            "count": 0
           },
           {
            "bin_start": 1710,
            "bin_end": 1710.4,
            "count": 1
           },
           {
            "bin_start": 1710.4,
            "bin_end": 1710.8,
            "count": 0
           },
           {
            "bin_start": 1710.8,
            "bin_end": 1711.2,
            "count": 1
           },
           {
            "bin_start": 1711.2,
            "bin_end": 1711.6,
            "count": 0
           },
           {
            "bin_start": 1711.6,
            "bin_end": 1712,
            "count": 1
           }
          ]
         }
        },
        {
         "name": "_deepnote_index_column",
         "dtype": "int64"
        }
       ],
       "rows": [
        {
         "Unnamed: 0": 24,
         "mean_fit_time": 1.3704657316207889,
         "std_fit_time": 0.3350327783233155,
         "mean_score_time": 0.0016782760620117,
         "std_score_time": 0.0004907063614484,
         "param_activation": "tanh",
         "param_alpha": 0.0693411152166379,
         "param_batch_size": 93,
         "param_early_stopping": true,
         "param_hidden_layer_sizes": "(50, 50)",
         "param_learning_rate": "constant",
         "param_learning_rate_init": 0.0550441224266603,
         "param_max_iter": 5000,
         "param_momentum": 0.3,
         "param_n_iter_no_change": 50,
         "param_random_state": 69,
         "param_solver": "adam",
         "param_tol": 0.0010106421680876,
         "param_validation_fraction": 0.3,
         "params": "{'activation': 'tanh', 'alpha': 0.06934111521663792, 'batch_size': 93, 'early_stopping': True, 'hid…",
         "split0_test_score": 1.1925715403255628,
         "split1_test_score": 1.2248246460543253,
         "split2_test_score": 1.2810489741033415,
         "split3_test_score": 1.0281886862823175,
         "split4_test_score": 1.1215880762575394,
         "split5_test_score": 1.0794464824643082,
         "split6_test_score": 1.2648259785378015,
         "split7_test_score": 1.1246133053794656,
         "split8_test_score": 1.105047414628063,
         "split9_test_score": 1.166263019404141,
         "mean_test_score": 1.1588418123436868,
         "std_test_score": 0.0778080096139783,
         "rank_test_score": 1708,
         "_deepnote_index_column": 4
        },
        {
         "Unnamed: 0": 1156,
         "mean_fit_time": 0.7757086992263794,
         "std_fit_time": 0.1618503534210174,
         "mean_score_time": 0.0014269113540649,
         "std_score_time": 0.0002703347609881,
         "param_activation": "logistic",
         "param_alpha": 0.0253222322112038,
         "param_batch_size": 172,
         "param_early_stopping": true,
         "param_hidden_layer_sizes": "(50, 50)",
         "param_learning_rate": "constant",
         "param_learning_rate_init": 0.0452226485930509,
         "param_max_iter": 5000,
         "param_momentum": 1,
         "param_n_iter_no_change": 25,
         "param_random_state": 69,
         "param_solver": "adam",
         "param_tol": 0.0010663204575654,
         "param_validation_fraction": 0.3,
         "params": "{'activation': 'logistic', 'alpha': 0.0253222322112038, 'batch_size': 172, 'early_stopping': True, …",
         "split0_test_score": 1.140570787591355,
         "split1_test_score": 1.2838236554562803,
         "split2_test_score": 1.32306039810071,
         "split3_test_score": 0.9923908675535256,
         "split4_test_score": 1.0385985049408812,
         "split5_test_score": 1.1434823353398549,
         "split6_test_score": 1.2171211531382422,
         "split7_test_score": 1.136447683402753,
         "split8_test_score": 1.1243416498306724,
         "split9_test_score": 1.170792763668842,
         "mean_test_score": 1.1570629799023116,
         "std_test_score": 0.0951429143282983,
         "rank_test_score": 1709,
         "_deepnote_index_column": 3
        },
        {
         "Unnamed: 0": 1525,
         "mean_fit_time": 2.1580245733261108,
         "std_fit_time": 0.1074542064531853,
         "mean_score_time": 0.0010814428329467,
         "std_score_time": 0.0002658333681947,
         "param_activation": "tanh",
         "param_alpha": 0.0802015265666357,
         "param_batch_size": 641,
         "param_early_stopping": true,
         "param_hidden_layer_sizes": "(25, 25)",
         "param_learning_rate": "adaptive",
         "param_learning_rate_init": 0.0831412540833912,
         "param_max_iter": 5000,
         "param_momentum": 0.1,
         "param_n_iter_no_change": 50,
         "param_random_state": 69,
         "param_solver": "sgd",
         "param_tol": 0.0010136701561815,
         "param_validation_fraction": 0.3,
         "params": "{'activation': 'tanh', 'alpha': 0.0802015265666357, 'batch_size': 641, 'early_stopping': True, 'hid…",
         "split0_test_score": 1.2124033056776344,
         "split1_test_score": 1.3476334218455646,
         "split2_test_score": 1.2057872594816224,
         "split3_test_score": 1.0342184558322256,
         "split4_test_score": 1.0467296587692714,
         "split5_test_score": 1.0260476676284356,
         "split6_test_score": 1.2013345290100428,
         "split7_test_score": 1.1921222736436932,
         "split8_test_score": 1.1552285392627453,
         "split9_test_score": 1.145800069237474,
         "mean_test_score": 1.156730518038871,
         "std_test_score": 0.0946050571981237,
         "rank_test_score": 1710,
         "_deepnote_index_column": 2
        },
        {
         "Unnamed: 0": 1704,
         "mean_fit_time": 1.2770045280456543,
         "std_fit_time": 0.1467174692687509,
         "mean_score_time": 0.0009848356246948,
         "std_score_time": 0.0000516305933594305,
         "param_activation": "tanh",
         "param_alpha": 0.0463784239933166,
         "param_batch_size": 39,
         "param_early_stopping": true,
         "param_hidden_layer_sizes": "(25, 25)",
         "param_learning_rate": "adaptive",
         "param_learning_rate_init": 0.0431832163959616,
         "param_max_iter": 5000,
         "param_momentum": 0.3,
         "param_n_iter_no_change": 10,
         "param_random_state": 69,
         "param_solver": "sgd",
         "param_tol": 0.001030507839396,
         "param_validation_fraction": 0.3,
         "params": "{'activation': 'tanh', 'alpha': 0.04637842399331664, 'batch_size': 39, 'early_stopping': True, 'hid…",
         "split0_test_score": 1.230759711868826,
         "split1_test_score": 1.3286810052454845,
         "split2_test_score": 1.1679243172716285,
         "split3_test_score": 1.078478100751621,
         "split4_test_score": 1.0662715898490382,
         "split5_test_score": 1.0408195707517405,
         "split6_test_score": 1.2037260015064253,
         "split7_test_score": 1.1907472394851977,
         "split8_test_score": 1.139642459034386,
         "split9_test_score": 1.089179850966559,
         "mean_test_score": 1.1536229846730903,
         "std_test_score": 0.0842843036888162,
         "rank_test_score": 1711,
         "_deepnote_index_column": 1
        },
        {
         "Unnamed: 0": 522,
         "mean_fit_time": 2.094804787635803,
         "std_fit_time": 0.3269388563171093,
         "mean_score_time": 0.0016878128051757,
         "std_score_time": 0.0003774102217084,
         "param_activation": "logistic",
         "param_alpha": 0.0503632890648787,
         "param_batch_size": 268,
         "param_early_stopping": true,
         "param_hidden_layer_sizes": "(100, 100)",
         "param_learning_rate": "constant",
         "param_learning_rate_init": 0.0528090396151556,
         "param_max_iter": 5000,
         "param_momentum": 0.5,
         "param_n_iter_no_change": 50,
         "param_random_state": 69,
         "param_solver": "adam",
         "param_tol": 0.0010629910758294,
         "param_validation_fraction": 0.3,
         "params": "{'activation': 'logistic', 'alpha': 0.05036328906487874, 'batch_size': 268, 'early_stopping': True,…",
         "split0_test_score": 1.1359261429995549,
         "split1_test_score": 1.230386025895568,
         "split2_test_score": 1.1486806147726982,
         "split3_test_score": 1.0230668136434098,
         "split4_test_score": 1.0079464299425032,
         "split5_test_score": 1.0874619424399308,
         "split6_test_score": 1.2220778271832378,
         "split7_test_score": 1.1230603393608385,
         "split8_test_score": 1.1276519571961885,
         "split9_test_score": 1.1445429449426063,
         "mean_test_score": 1.1250801038376537,
         "std_test_score": 0.0686324611988252,
         "rank_test_score": 1712,
         "_deepnote_index_column": 0
        }
       ]
      },
      "text/plain": "   Unnamed: 0  mean_fit_time  std_fit_time  mean_score_time  std_score_time  \\\n0         522       2.094805      0.326939         0.001688        0.000377   \n1        1704       1.277005      0.146717         0.000985        0.000052   \n2        1525       2.158025      0.107454         0.001081        0.000266   \n3        1156       0.775709      0.161850         0.001427        0.000270   \n4          24       1.370466      0.335033         0.001678        0.000491   \n\n  param_activation  param_alpha  param_batch_size  param_early_stopping  \\\n0         logistic     0.050363               268                  True   \n1             tanh     0.046378                39                  True   \n2             tanh     0.080202               641                  True   \n3         logistic     0.025322               172                  True   \n4             tanh     0.069341                93                  True   \n\n  param_hidden_layer_sizes  ... split3_test_score  split4_test_score  \\\n0               (100, 100)  ...          1.023067           1.007946   \n1                 (25, 25)  ...          1.078478           1.066272   \n2                 (25, 25)  ...          1.034218           1.046730   \n3                 (50, 50)  ...          0.992391           1.038599   \n4                 (50, 50)  ...          1.028189           1.121588   \n\n   split5_test_score  split6_test_score  split7_test_score  split8_test_score  \\\n0           1.087462           1.222078           1.123060           1.127652   \n1           1.040820           1.203726           1.190747           1.139642   \n2           1.026048           1.201335           1.192122           1.155229   \n3           1.143482           1.217121           1.136448           1.124342   \n4           1.079446           1.264826           1.124613           1.105047   \n\n  split9_test_score  mean_test_score  std_test_score rank_test_score  \n0          1.144543         1.125080        0.068632            1712  \n1          1.089180         1.153623        0.084284            1711  \n2          1.145800         1.156731        0.094605            1710  \n3          1.170793         1.157063        0.095143            1709  \n4          1.166263         1.158842        0.077808            1708  \n\n[5 rows x 33 columns]",
      "text/html": "<div>\n<style scoped>\n    .dataframe tbody tr th:only-of-type {\n        vertical-align: middle;\n    }\n\n    .dataframe tbody tr th {\n        vertical-align: top;\n    }\n\n    .dataframe thead th {\n        text-align: right;\n    }\n</style>\n<table border=\"1\" class=\"dataframe\">\n  <thead>\n    <tr style=\"text-align: right;\">\n      <th></th>\n      <th>Unnamed: 0</th>\n      <th>mean_fit_time</th>\n      <th>std_fit_time</th>\n      <th>mean_score_time</th>\n      <th>std_score_time</th>\n      <th>param_activation</th>\n      <th>param_alpha</th>\n      <th>param_batch_size</th>\n      <th>param_early_stopping</th>\n      <th>param_hidden_layer_sizes</th>\n      <th>...</th>\n      <th>split3_test_score</th>\n      <th>split4_test_score</th>\n      <th>split5_test_score</th>\n      <th>split6_test_score</th>\n      <th>split7_test_score</th>\n      <th>split8_test_score</th>\n      <th>split9_test_score</th>\n      <th>mean_test_score</th>\n      <th>std_test_score</th>\n      <th>rank_test_score</th>\n    </tr>\n  </thead>\n  <tbody>\n    <tr>\n      <th>0</th>\n      <td>522</td>\n      <td>2.094805</td>\n      <td>0.326939</td>\n      <td>0.001688</td>\n      <td>0.000377</td>\n      <td>logistic</td>\n      <td>0.050363</td>\n      <td>268</td>\n      <td>True</td>\n      <td>(100, 100)</td>\n      <td>...</td>\n      <td>1.023067</td>\n      <td>1.007946</td>\n      <td>1.087462</td>\n      <td>1.222078</td>\n      <td>1.123060</td>\n      <td>1.127652</td>\n      <td>1.144543</td>\n      <td>1.125080</td>\n      <td>0.068632</td>\n      <td>1712</td>\n    </tr>\n    <tr>\n      <th>1</th>\n      <td>1704</td>\n      <td>1.277005</td>\n      <td>0.146717</td>\n      <td>0.000985</td>\n      <td>0.000052</td>\n      <td>tanh</td>\n      <td>0.046378</td>\n      <td>39</td>\n      <td>True</td>\n      <td>(25, 25)</td>\n      <td>...</td>\n      <td>1.078478</td>\n      <td>1.066272</td>\n      <td>1.040820</td>\n      <td>1.203726</td>\n      <td>1.190747</td>\n      <td>1.139642</td>\n      <td>1.089180</td>\n      <td>1.153623</td>\n      <td>0.084284</td>\n      <td>1711</td>\n    </tr>\n    <tr>\n      <th>2</th>\n      <td>1525</td>\n      <td>2.158025</td>\n      <td>0.107454</td>\n      <td>0.001081</td>\n      <td>0.000266</td>\n      <td>tanh</td>\n      <td>0.080202</td>\n      <td>641</td>\n      <td>True</td>\n      <td>(25, 25)</td>\n      <td>...</td>\n      <td>1.034218</td>\n      <td>1.046730</td>\n      <td>1.026048</td>\n      <td>1.201335</td>\n      <td>1.192122</td>\n      <td>1.155229</td>\n      <td>1.145800</td>\n      <td>1.156731</td>\n      <td>0.094605</td>\n      <td>1710</td>\n    </tr>\n    <tr>\n      <th>3</th>\n      <td>1156</td>\n      <td>0.775709</td>\n      <td>0.161850</td>\n      <td>0.001427</td>\n      <td>0.000270</td>\n      <td>logistic</td>\n      <td>0.025322</td>\n      <td>172</td>\n      <td>True</td>\n      <td>(50, 50)</td>\n      <td>...</td>\n      <td>0.992391</td>\n      <td>1.038599</td>\n      <td>1.143482</td>\n      <td>1.217121</td>\n      <td>1.136448</td>\n      <td>1.124342</td>\n      <td>1.170793</td>\n      <td>1.157063</td>\n      <td>0.095143</td>\n      <td>1709</td>\n    </tr>\n    <tr>\n      <th>4</th>\n      <td>24</td>\n      <td>1.370466</td>\n      <td>0.335033</td>\n      <td>0.001678</td>\n      <td>0.000491</td>\n      <td>tanh</td>\n      <td>0.069341</td>\n      <td>93</td>\n      <td>True</td>\n      <td>(50, 50)</td>\n      <td>...</td>\n      <td>1.028189</td>\n      <td>1.121588</td>\n      <td>1.079446</td>\n      <td>1.264826</td>\n      <td>1.124613</td>\n      <td>1.105047</td>\n      <td>1.166263</td>\n      <td>1.158842</td>\n      <td>0.077808</td>\n      <td>1708</td>\n    </tr>\n  </tbody>\n</table>\n<p>5 rows × 33 columns</p>\n</div>"
     },
     "metadata": {}
    }
   ]
  },
  {
   "cell_type": "code",
   "metadata": {
    "tags": [],
    "cell_id": "00077-3fe09005-663d-44f9-8487-a23d7cde2893",
    "deepnote_to_be_reexecuted": false,
    "source_hash": "9dd11431",
    "execution_start": 1641828539055,
    "output_cleared": false,
    "execution_millis": 22,
    "deepnote_cell_type": "code"
   },
   "source": "#get the best params for the grid search (cannot use rand_gs.best_estimator directly since it will yield the worst estimator based on MEE)\nbest_params = df_results['params'][0]\nprint(f\"Mean error on the {k}-folds (MEE) on best model: {df_results['mean_test_score'][0]}\\n\")\nprint(f\"Best params: {best_params}\")",
   "execution_count": null,
   "outputs": [
    {
     "name": "stdout",
     "text": "Mean error on the 10-folds (MEE) on best model: 1.1250801038376537\n\nBest params: {'activation': 'logistic', 'alpha': 0.05036328906487874, 'batch_size': 268, 'early_stopping': True, 'hidden_layer_sizes': (100, 100), 'learning_rate': 'constant', 'learning_rate_init': 0.052809039615155644, 'max_iter': 5000, 'momentum': 0.5, 'n_iter_no_change': 50, 'random_state': 69, 'solver': 'adam', 'tol': 0.0010629910758294106, 'validation_fraction': 0.3}\n",
     "output_type": "stream",
     "data": {}
    }
   ]
  },
  {
   "cell_type": "code",
   "metadata": {
    "tags": [],
    "cell_id": "00081-6f2c6d87-563c-4996-8b1b-c7c8e3878112",
    "deepnote_to_be_reexecuted": false,
    "source_hash": "ad8d83eb",
    "execution_start": 1641828541282,
    "execution_millis": 0,
    "output_cleared": true,
    "deepnote_cell_type": "code"
   },
   "source": "from dataclasses import dataclass\n\n@dataclass\nclass GridSearchRanges:\n    '''Class of keeping track of the min and max values for the hyperparameters tuning'''\n    \n    hidden_range = []\n    min_lr_init = 0\n    max_lr_init = 0\n    min_alpha = 0\n    max_alpha = 0\n    min_bs = 0\n    max_bs = 0\n    n_iter_no_change = 0\n    min_tol = 0\n    max_tol = 0\n    \n    def set_ranges(self):\n\n        self.hidden_range = np.unique(df_results['param_hidden_layer_sizes'])\n        self.hidden_range = self.hidden_range.ravel() #convert to array\n        print(self.hidden_range)\n\n        self.min_lr_init = np.min(df_results['param_learning_rate_init'])\n        self.max_lr_init = np.max(df_results['param_learning_rate_init'])\n        print(f\"LR: [{self.min_lr_init}, {self.max_lr_init}]\")\n\n        self.min_alpha = np.min(df_results['param_alpha'])\n        self.max_alpha = np.max(df_results['param_alpha'])\n        print(f\"alpha: [{self.min_alpha}, {self.max_alpha}]\")\n\n        self.min_bs = np.min(df_results['param_batch_size'])\n        self.max_bs = np.max(df_results['param_batch_size'])\n        print(f\"BATCH: [{self.min_bs}, {self.max_bs}]\")\n\n        self.n_iter_no_change_range = np.unique(df_results['param_n_iter_no_change'])\n        self.n_iter_no_change_range = self.n_iter_no_change_range.ravel()\n        print(f\"n_iter_no_change: {self.n_iter_no_change_range}\")\n\n        self.min_tol = np.min(df_results['param_tol'])\n        self.max_tol = np.max(df_results['param_tol'])\n        print(f\"TOL: [{self.min_tol}, {self.max_tol}]\")\n    \n    \n    ",
   "execution_count": null,
   "outputs": []
  },
  {
   "cell_type": "code",
   "metadata": {
    "cell_id": "00076-23174bd2-4a5d-4359-b1bd-c76ac582f750",
    "deepnote_to_be_reexecuted": false,
    "execution_millis": 8,
    "execution_start": 1641828543667,
    "source_hash": "9ccb58bf",
    "tags": [],
    "output_cleared": false,
    "deepnote_cell_type": "code"
   },
   "source": "gs = GridSearchRanges()\ngs.set_ranges()",
   "execution_count": null,
   "outputs": [
    {
     "name": "stdout",
     "text": "['(10, 10)' '(10,)' '(100, 100)' '(100,)' '(25, 25)' '(25,)' '(5, 5)'\n '(50, 50)' '(50,)']\nLR: [0.0196935361172037, 0.4660878588294645]\nalpha: [0.0026209180824011, 0.0996658555604874]\nBATCH: [38, 916]\nn_iter_no_change: [10 25 50]\nTOL: [0.0010017356899845, 0.0010982682330194]\n",
     "output_type": "stream",
     "data": {}
    }
   ]
  },
  {
   "cell_type": "code",
   "metadata": {
    "tags": [],
    "cell_id": "00084-7b47d54f-d732-4ba3-8a61-abb3b80a8cee",
    "deepnote_to_be_reexecuted": false,
    "source_hash": "afb31db",
    "execution_start": 1641828566274,
    "execution_millis": 36,
    "deepnote_output_heights": [
     40.390625
    ],
    "output_cleared": false,
    "deepnote_cell_type": "code"
   },
   "source": "gs.hidden_range",
   "execution_count": null,
   "outputs": [
    {
     "output_type": "execute_result",
     "execution_count": 50,
     "data": {
      "text/plain": "array(['(10, 10)', '(10,)', '(100, 100)', '(100,)', '(25, 25)', '(25,)',\n       '(5, 5)', '(50, 50)', '(50,)'], dtype=object)"
     },
     "metadata": {}
    }
   ]
  },
  {
   "cell_type": "markdown",
   "source": "### Second Randomized Search using min e max values",
   "metadata": {
    "cell_id": "00078-af584a9c-5ee2-44d4-add3-01152ab35545",
    "tags": [],
    "deepnote_cell_type": "markdown"
   }
  },
  {
   "cell_type": "code",
   "metadata": {
    "cell_id": "00078-49c10074-50c3-4cb1-812b-bdc4da8e5307",
    "deepnote_output_heights": [
     null,
     328.109375
    ],
    "deepnote_to_be_reexecuted": true,
    "execution_millis": 2699317,
    "execution_start": 1641578397026,
    "source_hash": "8645bf7f",
    "tags": [],
    "output_cleared": true,
    "deepnote_cell_type": "code"
   },
   "source": "%%script false --no-raise-error\n\n# define the parameters values\nparams = {\n    \"hidden_layer_sizes\": [(10, 10), (10,), (100, 100), (100,), (25, 25), (25,),\n       (5, 5), (50, 50), (50,)],\n    \"activation\" : [\"logistic\", \"tanh\"],\n    \"solver\": [\"sgd\", \"adam\"],\n    \"learning_rate\": [\"adaptive\", \"invscaling\"],\n    \"learning_rate_init\": uniform(gs.min_lr_init, gs.max_lr_init),\n    \"alpha\": uniform(gs.min_alpha, gs.max_alpha),\n    \"batch_size\": randint(gs.min_bs, gs.max_bs),\n    \"n_iter_no_change\": gs.n_iter_no_change_range,\n    \"momentum\":[0.1, 0.3, 0.5, 0.7, 0.9, 1],\n    \"random_state\": [random_state],\n    \"tol\": uniform(gs.min_tol,gs.max_tol),\n    \"early_stopping\": [True],\n    \"validation_fraction\": [0.2],\n    \"max_iter\": [5000],\n}\n\n# define the grid search\nrand_gs = RandomizedSearchCV(\n    MLPRegressor(),\n    param_distributions=params,\n    n_iter=n_iter_search,\n    n_jobs=-1,\n    scoring=make_scorer(mee), #scoring is based on the highest value\n    cv=k,\n    random_state = random_state,\n    verbose=10,\n)\n# run the grid search\nrand_gs.fit(X, y)\n",
   "execution_count": null,
   "outputs": []
  },
  {
   "cell_type": "code",
   "metadata": {
    "cell_id": "00080-b47f038e-ba05-465e-9238-926f9564dc06",
    "deepnote_to_be_reexecuted": true,
    "execution_millis": 329,
    "execution_start": 1641581551382,
    "source_hash": "2cdd49a7",
    "tags": [],
    "output_cleared": true,
    "deepnote_cell_type": "code"
   },
   "source": "%%script false --no-raise-error\n\ndf_results = pd.DataFrame(data=rand_gs.cv_results_) #trasform into a pandas dataframe\ndf_results.sort_values(by=\"rank_test_score\", axis=0, ascending=False, inplace=True) #sort rank values in decreasing order \ndf_results.dropna(inplace=True) #delete nan values \ndf_results = df_results[:50] #keep only top 50 models\npd.DataFrame.to_csv(df_results, \"sklearn_results/rand2_search.csv\")",
   "execution_count": null,
   "outputs": []
  },
  {
   "cell_type": "code",
   "metadata": {
    "cell_id": "00081-5034a7eb-4ed8-43d8-b5f7-0b8da6617b7a",
    "deepnote_to_be_reexecuted": false,
    "execution_millis": 538,
    "execution_start": 1641828588177,
    "source_hash": "89537475",
    "tags": [],
    "output_cleared": false,
    "deepnote_cell_type": "code"
   },
   "source": "df_results = pd.read_csv(\"sklearn_results/rand2_search.csv\")\ndf_results.head()",
   "execution_count": null,
   "outputs": [
    {
     "output_type": "execute_result",
     "execution_count": 51,
     "data": {
      "application/vnd.deepnote.dataframe.v3+json": {
       "column_count": 33,
       "row_count": 5,
       "columns": [
        {
         "name": "Unnamed: 0",
         "dtype": "int64",
         "stats": {
          "unique_count": 5,
          "nan_count": 0,
          "min": "1055",
          "max": "1902",
          "histogram": [
           {
            "bin_start": 1055,
            "bin_end": 1139.7,
            "count": 2
           },
           {
            "bin_start": 1139.7,
            "bin_end": 1224.4,
            "count": 1
           },
           {
            "bin_start": 1224.4,
            "bin_end": 1309.1,
            "count": 0
           },
           {
            "bin_start": 1309.1,
            "bin_end": 1393.8,
            "count": 0
           },
           {
            "bin_start": 1393.8,
            "bin_end": 1478.5,
            "count": 1
           },
           {
            "bin_start": 1478.5,
            "bin_end": 1563.2,
            "count": 0
           },
           {
            "bin_start": 1563.2,
            "bin_end": 1647.9,
            "count": 0
           },
           {
            "bin_start": 1647.9,
            "bin_end": 1732.6,
            "count": 0
           },
           {
            "bin_start": 1732.6,
            "bin_end": 1817.3000000000002,
            "count": 0
           },
           {
            "bin_start": 1817.3000000000002,
            "bin_end": 1902,
            "count": 1
           }
          ]
         }
        },
        {
         "name": "mean_fit_time",
         "dtype": "float64",
         "stats": {
          "unique_count": 5,
          "nan_count": 0,
          "min": "0.4911443471908569",
          "max": "2.9275713682174684",
          "histogram": [
           {
            "bin_start": 0.4911443471908569,
            "bin_end": 0.7347870492935181,
            "count": 2
           },
           {
            "bin_start": 0.7347870492935181,
            "bin_end": 0.9784297513961793,
            "count": 0
           },
           {
            "bin_start": 0.9784297513961793,
            "bin_end": 1.2220724534988405,
            "count": 0
           },
           {
            "bin_start": 1.2220724534988405,
            "bin_end": 1.4657151556015016,
            "count": 0
           },
           {
            "bin_start": 1.4657151556015016,
            "bin_end": 1.7093578577041628,
            "count": 0
           },
           {
            "bin_start": 1.7093578577041628,
            "bin_end": 1.953000559806824,
            "count": 1
           },
           {
            "bin_start": 1.953000559806824,
            "bin_end": 2.196643261909485,
            "count": 1
           },
           {
            "bin_start": 2.196643261909485,
            "bin_end": 2.4402859640121464,
            "count": 0
           },
           {
            "bin_start": 2.4402859640121464,
            "bin_end": 2.683928666114807,
            "count": 0
           },
           {
            "bin_start": 2.683928666114807,
            "bin_end": 2.9275713682174684,
            "count": 1
           }
          ]
         }
        },
        {
         "name": "std_fit_time",
         "dtype": "float64",
         "stats": {
          "unique_count": 5,
          "nan_count": 0,
          "min": "0.0635964493615545",
          "max": "0.6249988695295419",
          "histogram": [
           {
            "bin_start": 0.0635964493615545,
            "bin_end": 0.11973669137835323,
            "count": 2
           },
           {
            "bin_start": 0.11973669137835323,
            "bin_end": 0.17587693339515198,
            "count": 1
           },
           {
            "bin_start": 0.17587693339515198,
            "bin_end": 0.23201717541195072,
            "count": 0
           },
           {
            "bin_start": 0.23201717541195072,
            "bin_end": 0.28815741742874945,
            "count": 1
           },
           {
            "bin_start": 0.28815741742874945,
            "bin_end": 0.3442976594455482,
            "count": 0
           },
           {
            "bin_start": 0.3442976594455482,
            "bin_end": 0.4004379014623469,
            "count": 0
           },
           {
            "bin_start": 0.4004379014623469,
            "bin_end": 0.45657814347914566,
            "count": 0
           },
           {
            "bin_start": 0.45657814347914566,
            "bin_end": 0.5127183854959444,
            "count": 0
           },
           {
            "bin_start": 0.5127183854959444,
            "bin_end": 0.5688586275127431,
            "count": 0
           },
           {
            "bin_start": 0.5688586275127431,
            "bin_end": 0.6249988695295419,
            "count": 1
           }
          ]
         }
        },
        {
         "name": "mean_score_time",
         "dtype": "float64",
         "stats": {
          "unique_count": 5,
          "nan_count": 0,
          "min": "0.0011072397232055",
          "max": "0.0019450664520263",
          "histogram": [
           {
            "bin_start": 0.0011072397232055,
            "bin_end": 0.00119102239608758,
            "count": 1
           },
           {
            "bin_start": 0.00119102239608758,
            "bin_end": 0.00127480506896966,
            "count": 0
           },
           {
            "bin_start": 0.00127480506896966,
            "bin_end": 0.0013585877418517398,
            "count": 1
           },
           {
            "bin_start": 0.0013585877418517398,
            "bin_end": 0.0014423704147338199,
            "count": 0
           },
           {
            "bin_start": 0.0014423704147338199,
            "bin_end": 0.0015261530876159,
            "count": 1
           },
           {
            "bin_start": 0.0015261530876159,
            "bin_end": 0.00160993576049798,
            "count": 0
           },
           {
            "bin_start": 0.00160993576049798,
            "bin_end": 0.00169371843338006,
            "count": 0
           },
           {
            "bin_start": 0.00169371843338006,
            "bin_end": 0.00177750110626214,
            "count": 0
           },
           {
            "bin_start": 0.00177750110626214,
            "bin_end": 0.00186128377914422,
            "count": 0
           },
           {
            "bin_start": 0.00186128377914422,
            "bin_end": 0.0019450664520263,
            "count": 2
           }
          ]
         }
        },
        {
         "name": "std_score_time",
         "dtype": "float64",
         "stats": {
          "unique_count": 5,
          "nan_count": 0,
          "min": "5.39822837868716e-05",
          "max": "0.0005397876011867",
          "histogram": [
           {
            "bin_start": 0.0000539822837868716,
            "bin_end": 0.00010256281552685443,
            "count": 2
           },
           {
            "bin_start": 0.00010256281552685443,
            "bin_end": 0.0001511433472668373,
            "count": 0
           },
           {
            "bin_start": 0.0001511433472668373,
            "bin_end": 0.00019972387900682014,
            "count": 0
           },
           {
            "bin_start": 0.00019972387900682014,
            "bin_end": 0.00024830441074680297,
            "count": 0
           },
           {
            "bin_start": 0.00024830441074680297,
            "bin_end": 0.0002968849424867858,
            "count": 1
           },
           {
            "bin_start": 0.0002968849424867858,
            "bin_end": 0.0003454654742267687,
            "count": 0
           },
           {
            "bin_start": 0.0003454654742267687,
            "bin_end": 0.0003940460059667515,
            "count": 0
           },
           {
            "bin_start": 0.0003940460059667515,
            "bin_end": 0.00044262653770673434,
            "count": 1
           },
           {
            "bin_start": 0.00044262653770673434,
            "bin_end": 0.0004912070694467172,
            "count": 0
           },
           {
            "bin_start": 0.0004912070694467172,
            "bin_end": 0.0005397876011867,
            "count": 1
           }
          ]
         }
        },
        {
         "name": "param_activation",
         "dtype": "object",
         "stats": {
          "unique_count": 2,
          "nan_count": 0,
          "categories": [
           {
            "name": "logistic",
            "count": 4
           },
           {
            "name": "tanh",
            "count": 1
           }
          ]
         }
        },
        {
         "name": "param_alpha",
         "dtype": "float64",
         "stats": {
          "unique_count": 5,
          "nan_count": 0,
          "min": "0.0227925244457229",
          "max": "0.0774300904005132",
          "histogram": [
           {
            "bin_start": 0.0227925244457229,
            "bin_end": 0.028256281041201932,
            "count": 1
           },
           {
            "bin_start": 0.028256281041201932,
            "bin_end": 0.03372003763668096,
            "count": 0
           },
           {
            "bin_start": 0.03372003763668096,
            "bin_end": 0.039183794232159994,
            "count": 0
           },
           {
            "bin_start": 0.039183794232159994,
            "bin_end": 0.04464755082763902,
            "count": 1
           },
           {
            "bin_start": 0.04464755082763902,
            "bin_end": 0.05011130742311805,
            "count": 0
           },
           {
            "bin_start": 0.05011130742311805,
            "bin_end": 0.055575064018597076,
            "count": 0
           },
           {
            "bin_start": 0.055575064018597076,
            "bin_end": 0.06103882061407612,
            "count": 0
           },
           {
            "bin_start": 0.06103882061407612,
            "bin_end": 0.06650257720955514,
            "count": 1
           },
           {
            "bin_start": 0.06650257720955514,
            "bin_end": 0.07196633380503417,
            "count": 1
           },
           {
            "bin_start": 0.07196633380503417,
            "bin_end": 0.0774300904005132,
            "count": 1
           }
          ]
         }
        },
        {
         "name": "param_batch_size",
         "dtype": "int64",
         "stats": {
          "unique_count": 5,
          "nan_count": 0,
          "min": "239",
          "max": "778",
          "histogram": [
           {
            "bin_start": 239,
            "bin_end": 292.9,
            "count": 4
           },
           {
            "bin_start": 292.9,
            "bin_end": 346.8,
            "count": 0
           },
           {
            "bin_start": 346.8,
            "bin_end": 400.7,
            "count": 0
           },
           {
            "bin_start": 400.7,
            "bin_end": 454.6,
            "count": 0
           },
           {
            "bin_start": 454.6,
            "bin_end": 508.5,
            "count": 0
           },
           {
            "bin_start": 508.5,
            "bin_end": 562.4,
            "count": 0
           },
           {
            "bin_start": 562.4,
            "bin_end": 616.3,
            "count": 0
           },
           {
            "bin_start": 616.3,
            "bin_end": 670.2,
            "count": 0
           },
           {
            "bin_start": 670.2,
            "bin_end": 724.0999999999999,
            "count": 0
           },
           {
            "bin_start": 724.0999999999999,
            "bin_end": 778,
            "count": 1
           }
          ]
         }
        },
        {
         "name": "param_early_stopping",
         "dtype": "bool",
         "stats": {
          "unique_count": 1,
          "nan_count": 0,
          "categories": [
           {
            "name": "True",
            "count": 5
           }
          ]
         }
        },
        {
         "name": "param_hidden_layer_sizes",
         "dtype": "object",
         "stats": {
          "unique_count": 3,
          "nan_count": 0,
          "categories": [
           {
            "name": "(100, 100)",
            "count": 3
           },
           {
            "name": "(25, 25)",
            "count": 1
           },
           {
            "name": "(10, 10)",
            "count": 1
           }
          ]
         }
        },
        {
         "name": "param_learning_rate",
         "dtype": "object",
         "stats": {
          "unique_count": 2,
          "nan_count": 0,
          "categories": [
           {
            "name": "adaptive",
            "count": 3
           },
           {
            "name": "invscaling",
            "count": 2
           }
          ]
         }
        },
        {
         "name": "param_learning_rate_init",
         "dtype": "float64",
         "stats": {
          "unique_count": 5,
          "nan_count": 0,
          "min": "0.0205987714944439",
          "max": "0.0860636106201756",
          "histogram": [
           {
            "bin_start": 0.0205987714944439,
            "bin_end": 0.027145255407017073,
            "count": 2
           },
           {
            "bin_start": 0.027145255407017073,
            "bin_end": 0.03369173931959024,
            "count": 0
           },
           {
            "bin_start": 0.03369173931959024,
            "bin_end": 0.04023822323216342,
            "count": 0
           },
           {
            "bin_start": 0.04023822323216342,
            "bin_end": 0.04678470714473658,
            "count": 0
           },
           {
            "bin_start": 0.04678470714473658,
            "bin_end": 0.053331191057309754,
            "count": 0
           },
           {
            "bin_start": 0.053331191057309754,
            "bin_end": 0.05987767496988293,
            "count": 0
           },
           {
            "bin_start": 0.05987767496988293,
            "bin_end": 0.06642415888245609,
            "count": 1
           },
           {
            "bin_start": 0.06642415888245609,
            "bin_end": 0.07297064279502927,
            "count": 0
           },
           {
            "bin_start": 0.07297064279502927,
            "bin_end": 0.07951712670760243,
            "count": 1
           },
           {
            "bin_start": 0.07951712670760243,
            "bin_end": 0.0860636106201756,
            "count": 1
           }
          ]
         }
        },
        {
         "name": "param_max_iter",
         "dtype": "int64",
         "stats": {
          "unique_count": 1,
          "nan_count": 0,
          "min": "5000",
          "max": "5000",
          "histogram": [
           {
            "bin_start": 4999.5,
            "bin_end": 4999.6,
            "count": 0
           },
           {
            "bin_start": 4999.6,
            "bin_end": 4999.7,
            "count": 0
           },
           {
            "bin_start": 4999.7,
            "bin_end": 4999.8,
            "count": 0
           },
           {
            "bin_start": 4999.8,
            "bin_end": 4999.9,
            "count": 0
           },
           {
            "bin_start": 4999.9,
            "bin_end": 5000,
            "count": 0
           },
           {
            "bin_start": 5000,
            "bin_end": 5000.1,
            "count": 5
           },
           {
            "bin_start": 5000.1,
            "bin_end": 5000.2,
            "count": 0
           },
           {
            "bin_start": 5000.2,
            "bin_end": 5000.3,
            "count": 0
           },
           {
            "bin_start": 5000.3,
            "bin_end": 5000.4,
            "count": 0
           },
           {
            "bin_start": 5000.4,
            "bin_end": 5000.5,
            "count": 0
           }
          ]
         }
        },
        {
         "name": "param_momentum",
         "dtype": "float64",
         "stats": {
          "unique_count": 3,
          "nan_count": 0,
          "min": "0.1",
          "max": "1.0",
          "histogram": [
           {
            "bin_start": 0.1,
            "bin_end": 0.19,
            "count": 1
           },
           {
            "bin_start": 0.19,
            "bin_end": 0.28,
            "count": 0
           },
           {
            "bin_start": 0.28,
            "bin_end": 0.37,
            "count": 0
           },
           {
            "bin_start": 0.37,
            "bin_end": 0.45999999999999996,
            "count": 0
           },
           {
            "bin_start": 0.45999999999999996,
            "bin_end": 0.5499999999999999,
            "count": 0
           },
           {
            "bin_start": 0.5499999999999999,
            "bin_end": 0.64,
            "count": 0
           },
           {
            "bin_start": 0.64,
            "bin_end": 0.73,
            "count": 3
           },
           {
            "bin_start": 0.73,
            "bin_end": 0.82,
            "count": 0
           },
           {
            "bin_start": 0.82,
            "bin_end": 0.9099999999999999,
            "count": 0
           },
           {
            "bin_start": 0.9099999999999999,
            "bin_end": 1,
            "count": 1
           }
          ]
         }
        },
        {
         "name": "param_n_iter_no_change",
         "dtype": "int64",
         "stats": {
          "unique_count": 1,
          "nan_count": 0,
          "min": "50",
          "max": "50",
          "histogram": [
           {
            "bin_start": 49.5,
            "bin_end": 49.6,
            "count": 0
           },
           {
            "bin_start": 49.6,
            "bin_end": 49.7,
            "count": 0
           },
           {
            "bin_start": 49.7,
            "bin_end": 49.8,
            "count": 0
           },
           {
            "bin_start": 49.8,
            "bin_end": 49.9,
            "count": 0
           },
           {
            "bin_start": 49.9,
            "bin_end": 50,
            "count": 0
           },
           {
            "bin_start": 50,
            "bin_end": 50.1,
            "count": 5
           },
           {
            "bin_start": 50.1,
            "bin_end": 50.2,
            "count": 0
           },
           {
            "bin_start": 50.2,
            "bin_end": 50.3,
            "count": 0
           },
           {
            "bin_start": 50.3,
            "bin_end": 50.4,
            "count": 0
           },
           {
            "bin_start": 50.4,
            "bin_end": 50.5,
            "count": 0
           }
          ]
         }
        },
        {
         "name": "param_random_state",
         "dtype": "int64",
         "stats": {
          "unique_count": 1,
          "nan_count": 0,
          "min": "69",
          "max": "69",
          "histogram": [
           {
            "bin_start": 68.5,
            "bin_end": 68.6,
            "count": 0
           },
           {
            "bin_start": 68.6,
            "bin_end": 68.7,
            "count": 0
           },
           {
            "bin_start": 68.7,
            "bin_end": 68.8,
            "count": 0
           },
           {
            "bin_start": 68.8,
            "bin_end": 68.9,
            "count": 0
           },
           {
            "bin_start": 68.9,
            "bin_end": 69,
            "count": 0
           },
           {
            "bin_start": 69,
            "bin_end": 69.1,
            "count": 5
           },
           {
            "bin_start": 69.1,
            "bin_end": 69.2,
            "count": 0
           },
           {
            "bin_start": 69.2,
            "bin_end": 69.3,
            "count": 0
           },
           {
            "bin_start": 69.3,
            "bin_end": 69.4,
            "count": 0
           },
           {
            "bin_start": 69.4,
            "bin_end": 69.5,
            "count": 0
           }
          ]
         }
        },
        {
         "name": "param_solver",
         "dtype": "object",
         "stats": {
          "unique_count": 1,
          "nan_count": 0,
          "categories": [
           {
            "name": "adam",
            "count": 5
           }
          ]
         }
        },
        {
         "name": "param_tol",
         "dtype": "float64",
         "stats": {
          "unique_count": 5,
          "nan_count": 0,
          "min": "0.001165173126989",
          "max": "0.0019892882007665",
          "histogram": [
           {
            "bin_start": 0.001165173126989,
            "bin_end": 0.00124758463436675,
            "count": 1
           },
           {
            "bin_start": 0.00124758463436675,
            "bin_end": 0.0013299961417445,
            "count": 1
           },
           {
            "bin_start": 0.0013299961417445,
            "bin_end": 0.00141240764912225,
            "count": 0
           },
           {
            "bin_start": 0.00141240764912225,
            "bin_end": 0.0014948191565000001,
            "count": 0
           },
           {
            "bin_start": 0.0014948191565000001,
            "bin_end": 0.0015772306638777499,
            "count": 0
           },
           {
            "bin_start": 0.0015772306638777499,
            "bin_end": 0.0016596421712555,
            "count": 1
           },
           {
            "bin_start": 0.0016596421712555,
            "bin_end": 0.00174205367863325,
            "count": 1
           },
           {
            "bin_start": 0.00174205367863325,
            "bin_end": 0.001824465186011,
            "count": 0
           },
           {
            "bin_start": 0.001824465186011,
            "bin_end": 0.00190687669338875,
            "count": 0
           },
           {
            "bin_start": 0.00190687669338875,
            "bin_end": 0.0019892882007665,
            "count": 1
           }
          ]
         }
        },
        {
         "name": "param_validation_fraction",
         "dtype": "float64",
         "stats": {
          "unique_count": 1,
          "nan_count": 0,
          "min": "0.2",
          "max": "0.2",
          "histogram": [
           {
            "bin_start": -0.3,
            "bin_end": -0.19999999999999998,
            "count": 0
           },
           {
            "bin_start": -0.19999999999999998,
            "bin_end": -0.09999999999999998,
            "count": 0
           },
           {
            "bin_start": -0.09999999999999998,
            "bin_end": 5.551115123125783e-17,
            "count": 0
           },
           {
            "bin_start": 5.551115123125783e-17,
            "bin_end": 0.10000000000000003,
            "count": 0
           },
           {
            "bin_start": 0.10000000000000003,
            "bin_end": 0.2,
            "count": 0
           },
           {
            "bin_start": 0.2,
            "bin_end": 0.3000000000000001,
            "count": 5
           },
           {
            "bin_start": 0.3000000000000001,
            "bin_end": 0.4000000000000001,
            "count": 0
           },
           {
            "bin_start": 0.4000000000000001,
            "bin_end": 0.5,
            "count": 0
           },
           {
            "bin_start": 0.5,
            "bin_end": 0.6000000000000001,
            "count": 0
           },
           {
            "bin_start": 0.6000000000000001,
            "bin_end": 0.7,
            "count": 0
           }
          ]
         }
        },
        {
         "name": "params",
         "dtype": "object",
         "stats": {
          "unique_count": 5,
          "nan_count": 0,
          "categories": [
           {
            "name": "{'activation': 'logistic', 'alpha': 0.07743009040051323, 'batch_size': 239, 'early_stopping': True, 'hidden_layer_sizes': (100, 100), 'learning_rate': 'adaptive', 'learning_rate_init': 0.023844455833523643, 'max_iter': 5000, 'momentum': 0.7, 'n_iter_no_change': 50, 'random_state': 69, 'solver': 'adam', 'tol': 0.0017418462017072395, 'validation_fraction': 0.2}",
            "count": 1
           },
           {
            "name": "{'activation': 'logistic', 'alpha': 0.022792524445722932, 'batch_size': 264, 'early_stopping': True, 'hidden_layer_sizes': (100, 100), 'learning_rate': 'invscaling', 'learning_rate_init': 0.020598771494443915, 'max_iter': 5000, 'momentum': 0.7, 'n_iter_no_change': 50, 'random_state': 69, 'solver': 'adam', 'tol': 0.001643845426460767, 'validation_fraction': 0.2}",
            "count": 1
           },
           {
            "name": "3 others",
            "count": 3
           }
          ]
         }
        },
        {
         "name": "split0_test_score",
         "dtype": "float64",
         "stats": {
          "unique_count": 5,
          "nan_count": 0,
          "min": "1.121364064198505",
          "max": "1.2067842866744996",
          "histogram": [
           {
            "bin_start": 1.121364064198505,
            "bin_end": 1.1299060864461044,
            "count": 2
           },
           {
            "bin_start": 1.1299060864461044,
            "bin_end": 1.138448108693704,
            "count": 0
           },
           {
            "bin_start": 1.138448108693704,
            "bin_end": 1.1469901309413033,
            "count": 0
           },
           {
            "bin_start": 1.1469901309413033,
            "bin_end": 1.155532153188903,
            "count": 1
           },
           {
            "bin_start": 1.155532153188903,
            "bin_end": 1.1640741754365023,
            "count": 1
           },
           {
            "bin_start": 1.1640741754365023,
            "bin_end": 1.1726161976841016,
            "count": 0
           },
           {
            "bin_start": 1.1726161976841016,
            "bin_end": 1.1811582199317012,
            "count": 0
           },
           {
            "bin_start": 1.1811582199317012,
            "bin_end": 1.1897002421793006,
            "count": 0
           },
           {
            "bin_start": 1.1897002421793006,
            "bin_end": 1.1982422644269002,
            "count": 0
           },
           {
            "bin_start": 1.1982422644269002,
            "bin_end": 1.2067842866744996,
            "count": 1
           }
          ]
         }
        },
        {
         "name": "split1_test_score",
         "dtype": "float64",
         "stats": {
          "unique_count": 5,
          "nan_count": 0,
          "min": "1.231962396587056",
          "max": "1.2916516751903933",
          "histogram": [
           {
            "bin_start": 1.231962396587056,
            "bin_end": 1.2379313244473897,
            "count": 1
           },
           {
            "bin_start": 1.2379313244473897,
            "bin_end": 1.2439002523077236,
            "count": 0
           },
           {
            "bin_start": 1.2439002523077236,
            "bin_end": 1.2498691801680573,
            "count": 1
           },
           {
            "bin_start": 1.2498691801680573,
            "bin_end": 1.255838108028391,
            "count": 1
           },
           {
            "bin_start": 1.255838108028391,
            "bin_end": 1.2618070358887246,
            "count": 0
           },
           {
            "bin_start": 1.2618070358887246,
            "bin_end": 1.2677759637490584,
            "count": 0
           },
           {
            "bin_start": 1.2677759637490584,
            "bin_end": 1.273744891609392,
            "count": 0
           },
           {
            "bin_start": 1.273744891609392,
            "bin_end": 1.2797138194697257,
            "count": 1
           },
           {
            "bin_start": 1.2797138194697257,
            "bin_end": 1.2856827473300596,
            "count": 0
           },
           {
            "bin_start": 1.2856827473300596,
            "bin_end": 1.2916516751903933,
            "count": 1
           }
          ]
         }
        },
        {
         "name": "split2_test_score",
         "dtype": "float64",
         "stats": {
          "unique_count": 5,
          "nan_count": 0,
          "min": "1.2100129718208743",
          "max": "1.2451368979373283",
          "histogram": [
           {
            "bin_start": 1.2100129718208743,
            "bin_end": 1.2135253644325197,
            "count": 2
           },
           {
            "bin_start": 1.2135253644325197,
            "bin_end": 1.217037757044165,
            "count": 0
           },
           {
            "bin_start": 1.217037757044165,
            "bin_end": 1.2205501496558104,
            "count": 1
           },
           {
            "bin_start": 1.2205501496558104,
            "bin_end": 1.2240625422674558,
            "count": 0
           },
           {
            "bin_start": 1.2240625422674558,
            "bin_end": 1.2275749348791014,
            "count": 0
           },
           {
            "bin_start": 1.2275749348791014,
            "bin_end": 1.2310873274907468,
            "count": 0
           },
           {
            "bin_start": 1.2310873274907468,
            "bin_end": 1.2345997201023922,
            "count": 1
           },
           {
            "bin_start": 1.2345997201023922,
            "bin_end": 1.2381121127140375,
            "count": 0
           },
           {
            "bin_start": 1.2381121127140375,
            "bin_end": 1.241624505325683,
            "count": 0
           },
           {
            "bin_start": 1.241624505325683,
            "bin_end": 1.2451368979373283,
            "count": 1
           }
          ]
         }
        },
        {
         "name": "split3_test_score",
         "dtype": "float64",
         "stats": {
          "unique_count": 5,
          "nan_count": 0,
          "min": "1.0047637968407257",
          "max": "1.0403761298245169",
          "histogram": [
           {
            "bin_start": 1.0047637968407257,
            "bin_end": 1.008325030139105,
            "count": 1
           },
           {
            "bin_start": 1.008325030139105,
            "bin_end": 1.011886263437484,
            "count": 0
           },
           {
            "bin_start": 1.011886263437484,
            "bin_end": 1.015447496735863,
            "count": 1
           },
           {
            "bin_start": 1.015447496735863,
            "bin_end": 1.019008730034242,
            "count": 0
           },
           {
            "bin_start": 1.019008730034242,
            "bin_end": 1.0225699633326213,
            "count": 0
           },
           {
            "bin_start": 1.0225699633326213,
            "bin_end": 1.0261311966310005,
            "count": 0
           },
           {
            "bin_start": 1.0261311966310005,
            "bin_end": 1.0296924299293795,
            "count": 0
           },
           {
            "bin_start": 1.0296924299293795,
            "bin_end": 1.0332536632277587,
            "count": 0
           },
           {
            "bin_start": 1.0332536632277587,
            "bin_end": 1.0368148965261377,
            "count": 1
           },
           {
            "bin_start": 1.0368148965261377,
            "bin_end": 1.0403761298245169,
            "count": 2
           }
          ]
         }
        },
        {
         "name": "split4_test_score",
         "dtype": "float64",
         "stats": {
          "unique_count": 5,
          "nan_count": 0,
          "min": "1.0374453124525425",
          "max": "1.1061195524847087",
          "histogram": [
           {
            "bin_start": 1.0374453124525425,
            "bin_end": 1.0443127364557592,
            "count": 1
           },
           {
            "bin_start": 1.0443127364557592,
            "bin_end": 1.0511801604589757,
            "count": 0
           },
           {
            "bin_start": 1.0511801604589757,
            "bin_end": 1.0580475844621924,
            "count": 1
           },
           {
            "bin_start": 1.0580475844621924,
            "bin_end": 1.0649150084654089,
            "count": 0
           },
           {
            "bin_start": 1.0649150084654089,
            "bin_end": 1.0717824324686256,
            "count": 0
           },
           {
            "bin_start": 1.0717824324686256,
            "bin_end": 1.0786498564718423,
            "count": 1
           },
           {
            "bin_start": 1.0786498564718423,
            "bin_end": 1.0855172804750588,
            "count": 0
           },
           {
            "bin_start": 1.0855172804750588,
            "bin_end": 1.0923847044782755,
            "count": 0
           },
           {
            "bin_start": 1.0923847044782755,
            "bin_end": 1.099252128481492,
            "count": 0
           },
           {
            "bin_start": 1.099252128481492,
            "bin_end": 1.1061195524847087,
            "count": 2
           }
          ]
         }
        },
        {
         "name": "split5_test_score",
         "dtype": "float64",
         "stats": {
          "unique_count": 5,
          "nan_count": 0,
          "min": "1.0406628129829725",
          "max": "1.0846332781639922",
          "histogram": [
           {
            "bin_start": 1.0406628129829725,
            "bin_end": 1.0450598595010745,
            "count": 1
           },
           {
            "bin_start": 1.0450598595010745,
            "bin_end": 1.0494569060191765,
            "count": 1
           },
           {
            "bin_start": 1.0494569060191765,
            "bin_end": 1.0538539525372783,
            "count": 0
           },
           {
            "bin_start": 1.0538539525372783,
            "bin_end": 1.0582509990553803,
            "count": 0
           },
           {
            "bin_start": 1.0582509990553803,
            "bin_end": 1.0626480455734824,
            "count": 0
           },
           {
            "bin_start": 1.0626480455734824,
            "bin_end": 1.0670450920915844,
            "count": 0
           },
           {
            "bin_start": 1.0670450920915844,
            "bin_end": 1.0714421386096864,
            "count": 1
           },
           {
            "bin_start": 1.0714421386096864,
            "bin_end": 1.0758391851277882,
            "count": 0
           },
           {
            "bin_start": 1.0758391851277882,
            "bin_end": 1.0802362316458902,
            "count": 1
           },
           {
            "bin_start": 1.0802362316458902,
            "bin_end": 1.0846332781639922,
            "count": 1
           }
          ]
         }
        },
        {
         "name": "split6_test_score",
         "dtype": "float64",
         "stats": {
          "unique_count": 5,
          "nan_count": 0,
          "min": "1.1239742976888358",
          "max": "1.2254399400692388",
          "histogram": [
           {
            "bin_start": 1.1239742976888358,
            "bin_end": 1.1341208619268761,
            "count": 1
           },
           {
            "bin_start": 1.1341208619268761,
            "bin_end": 1.1442674261649164,
            "count": 0
           },
           {
            "bin_start": 1.1442674261649164,
            "bin_end": 1.1544139904029567,
            "count": 0
           },
           {
            "bin_start": 1.1544139904029567,
            "bin_end": 1.164560554640997,
            "count": 0
           },
           {
            "bin_start": 1.164560554640997,
            "bin_end": 1.1747071188790374,
            "count": 1
           },
           {
            "bin_start": 1.1747071188790374,
            "bin_end": 1.1848536831170777,
            "count": 0
           },
           {
            "bin_start": 1.1848536831170777,
            "bin_end": 1.195000247355118,
            "count": 1
           },
           {
            "bin_start": 1.195000247355118,
            "bin_end": 1.2051468115931583,
            "count": 0
           },
           {
            "bin_start": 1.2051468115931583,
            "bin_end": 1.2152933758311986,
            "count": 1
           },
           {
            "bin_start": 1.2152933758311986,
            "bin_end": 1.2254399400692388,
            "count": 1
           }
          ]
         }
        },
        {
         "name": "split7_test_score",
         "dtype": "float64",
         "stats": {
          "unique_count": 5,
          "nan_count": 0,
          "min": "1.129106270931254",
          "max": "1.1720803755058071",
          "histogram": [
           {
            "bin_start": 1.129106270931254,
            "bin_end": 1.1334036813887094,
            "count": 1
           },
           {
            "bin_start": 1.1334036813887094,
            "bin_end": 1.1377010918461647,
            "count": 0
           },
           {
            "bin_start": 1.1377010918461647,
            "bin_end": 1.1419985023036199,
            "count": 1
           },
           {
            "bin_start": 1.1419985023036199,
            "bin_end": 1.1462959127610752,
            "count": 1
           },
           {
            "bin_start": 1.1462959127610752,
            "bin_end": 1.1505933232185306,
            "count": 0
           },
           {
            "bin_start": 1.1505933232185306,
            "bin_end": 1.154890733675986,
            "count": 0
           },
           {
            "bin_start": 1.154890733675986,
            "bin_end": 1.1591881441334413,
            "count": 0
           },
           {
            "bin_start": 1.1591881441334413,
            "bin_end": 1.1634855545908964,
            "count": 1
           },
           {
            "bin_start": 1.1634855545908964,
            "bin_end": 1.1677829650483518,
            "count": 0
           },
           {
            "bin_start": 1.1677829650483518,
            "bin_end": 1.1720803755058071,
            "count": 1
           }
          ]
         }
        },
        {
         "name": "split8_test_score",
         "dtype": "float64",
         "stats": {
          "unique_count": 5,
          "nan_count": 0,
          "min": "1.101886783296296",
          "max": "1.1795634431377169",
          "histogram": [
           {
            "bin_start": 1.101886783296296,
            "bin_end": 1.109654449280438,
            "count": 1
           },
           {
            "bin_start": 1.109654449280438,
            "bin_end": 1.1174221152645802,
            "count": 0
           },
           {
            "bin_start": 1.1174221152645802,
            "bin_end": 1.1251897812487222,
            "count": 0
           },
           {
            "bin_start": 1.1251897812487222,
            "bin_end": 1.1329574472328643,
            "count": 0
           },
           {
            "bin_start": 1.1329574472328643,
            "bin_end": 1.1407251132170064,
            "count": 1
           },
           {
            "bin_start": 1.1407251132170064,
            "bin_end": 1.1484927792011486,
            "count": 0
           },
           {
            "bin_start": 1.1484927792011486,
            "bin_end": 1.1562604451852907,
            "count": 0
           },
           {
            "bin_start": 1.1562604451852907,
            "bin_end": 1.1640281111694326,
            "count": 2
           },
           {
            "bin_start": 1.1640281111694326,
            "bin_end": 1.1717957771535747,
            "count": 0
           },
           {
            "bin_start": 1.1717957771535747,
            "bin_end": 1.1795634431377169,
            "count": 1
           }
          ]
         }
        },
        {
         "name": "split9_test_score",
         "dtype": "float64",
         "stats": {
          "unique_count": 5,
          "nan_count": 0,
          "min": "1.0965344961578445",
          "max": "1.1602313283394037",
          "histogram": [
           {
            "bin_start": 1.0965344961578445,
            "bin_end": 1.1029041793760004,
            "count": 1
           },
           {
            "bin_start": 1.1029041793760004,
            "bin_end": 1.1092738625941563,
            "count": 0
           },
           {
            "bin_start": 1.1092738625941563,
            "bin_end": 1.1156435458123122,
            "count": 0
           },
           {
            "bin_start": 1.1156435458123122,
            "bin_end": 1.122013229030468,
            "count": 0
           },
           {
            "bin_start": 1.122013229030468,
            "bin_end": 1.128382912248624,
            "count": 0
           },
           {
            "bin_start": 1.128382912248624,
            "bin_end": 1.13475259546678,
            "count": 1
           },
           {
            "bin_start": 1.13475259546678,
            "bin_end": 1.141122278684936,
            "count": 1
           },
           {
            "bin_start": 1.141122278684936,
            "bin_end": 1.1474919619030919,
            "count": 1
           },
           {
            "bin_start": 1.1474919619030919,
            "bin_end": 1.1538616451212478,
            "count": 0
           },
           {
            "bin_start": 1.1538616451212478,
            "bin_end": 1.1602313283394037,
            "count": 1
           }
          ]
         }
        },
        {
         "name": "mean_test_score",
         "dtype": "float64",
         "stats": {
          "unique_count": 5,
          "nan_count": 0,
          "min": "1.1390136636603725",
          "max": "1.1448600075492474",
          "histogram": [
           {
            "bin_start": 1.1390136636603725,
            "bin_end": 1.13959829804926,
            "count": 1
           },
           {
            "bin_start": 1.13959829804926,
            "bin_end": 1.1401829324381474,
            "count": 0
           },
           {
            "bin_start": 1.1401829324381474,
            "bin_end": 1.140767566827035,
            "count": 1
           },
           {
            "bin_start": 1.140767566827035,
            "bin_end": 1.1413522012159225,
            "count": 0
           },
           {
            "bin_start": 1.1413522012159225,
            "bin_end": 1.14193683560481,
            "count": 0
           },
           {
            "bin_start": 1.14193683560481,
            "bin_end": 1.1425214699936974,
            "count": 1
           },
           {
            "bin_start": 1.1425214699936974,
            "bin_end": 1.143106104382585,
            "count": 1
           },
           {
            "bin_start": 1.143106104382585,
            "bin_end": 1.1436907387714725,
            "count": 0
           },
           {
            "bin_start": 1.1436907387714725,
            "bin_end": 1.1442753731603599,
            "count": 0
           },
           {
            "bin_start": 1.1442753731603599,
            "bin_end": 1.1448600075492474,
            "count": 1
           }
          ]
         }
        },
        {
         "name": "std_test_score",
         "dtype": "float64",
         "stats": {
          "unique_count": 5,
          "nan_count": 0,
          "min": "0.0696498375507239",
          "max": "0.0746800568122679",
          "histogram": [
           {
            "bin_start": 0.0696498375507239,
            "bin_end": 0.0701528594768783,
            "count": 1
           },
           {
            "bin_start": 0.0701528594768783,
            "bin_end": 0.07065588140303271,
            "count": 1
           },
           {
            "bin_start": 0.07065588140303271,
            "bin_end": 0.0711589033291871,
            "count": 1
           },
           {
            "bin_start": 0.0711589033291871,
            "bin_end": 0.0716619252553415,
            "count": 0
           },
           {
            "bin_start": 0.0716619252553415,
            "bin_end": 0.07216494718149591,
            "count": 0
           },
           {
            "bin_start": 0.07216494718149591,
            "bin_end": 0.0726679691076503,
            "count": 0
           },
           {
            "bin_start": 0.0726679691076503,
            "bin_end": 0.0731709910338047,
            "count": 0
           },
           {
            "bin_start": 0.0731709910338047,
            "bin_end": 0.0736740129599591,
            "count": 0
           },
           {
            "bin_start": 0.0736740129599591,
            "bin_end": 0.0741770348861135,
            "count": 0
           },
           {
            "bin_start": 0.0741770348861135,
            "bin_end": 0.0746800568122679,
            "count": 2
           }
          ]
         }
        },
        {
         "name": "rank_test_score",
         "dtype": "int64",
         "stats": {
          "unique_count": 5,
          "nan_count": 0,
          "min": "1949",
          "max": "1953",
          "histogram": [
           {
            "bin_start": 1949,
            "bin_end": 1949.4,
            "count": 1
           },
           {
            "bin_start": 1949.4,
            "bin_end": 1949.8,
            "count": 0
           },
           {
            "bin_start": 1949.8,
            "bin_end": 1950.2,
            "count": 1
           },
           {
            "bin_start": 1950.2,
            "bin_end": 1950.6,
            "count": 0
           },
           {
            "bin_start": 1950.6,
            "bin_end": 1951,
            "count": 0
           },
           {
            "bin_start": 1951,
            "bin_end": 1951.4,
            "count": 1
           },
           {
            "bin_start": 1951.4,
            "bin_end": 1951.8,
            "count": 0
           },
           {
            "bin_start": 1951.8,
            "bin_end": 1952.2,
            "count": 1
           },
           {
            "bin_start": 1952.2,
            "bin_end": 1952.6,
            "count": 0
           },
           {
            "bin_start": 1952.6,
            "bin_end": 1953,
            "count": 1
           }
          ]
         }
        },
        {
         "name": "_deepnote_index_column",
         "dtype": "int64"
        }
       ],
       "rows": [
        {
         "Unnamed: 0": 1086,
         "mean_fit_time": 1.787253999710083,
         "std_fit_time": 0.2716012514799995,
         "mean_score_time": 0.0015164136886596,
         "std_score_time": 0.00008806125371429547,
         "param_activation": "logistic",
         "param_alpha": 0.0774300904005132,
         "param_batch_size": 239,
         "param_early_stopping": true,
         "param_hidden_layer_sizes": "(100, 100)",
         "param_learning_rate": "adaptive",
         "param_learning_rate_init": 0.0238444558335236,
         "param_max_iter": 5000,
         "param_momentum": 0.7,
         "param_n_iter_no_change": 50,
         "param_random_state": 69,
         "param_solver": "adam",
         "param_tol": 0.0017418462017072,
         "param_validation_fraction": 0.2,
         "params": "{'activation': 'logistic', 'alpha': 0.07743009040051323, 'batch_size': 239, 'early_stopping': True,…",
         "split0_test_score": 1.121364064198505,
         "split1_test_score": 1.2523787902165622,
         "split2_test_score": 1.2100129718208743,
         "split3_test_score": 1.0399117672873208,
         "split4_test_score": 1.0374453124525425,
         "split5_test_score": 1.047970980159328,
         "split6_test_score": 1.2254399400692388,
         "split7_test_score": 1.1415756505312715,
         "split8_test_score": 1.1795634431377169,
         "split9_test_score": 1.1344737167303665,
         "mean_test_score": 1.1390136636603725,
         "std_test_score": 0.0746800568122679,
         "rank_test_score": 1953,
         "_deepnote_index_column": 0
        },
        {
         "Unnamed: 0": 1467,
         "mean_fit_time": 2.0611416578292845,
         "std_fit_time": 0.162213115577472,
         "mean_score_time": 0.0019360065460205,
         "std_score_time": 0.0005397876011867,
         "param_activation": "logistic",
         "param_alpha": 0.0227925244457229,
         "param_batch_size": 264,
         "param_early_stopping": true,
         "param_hidden_layer_sizes": "(100, 100)",
         "param_learning_rate": "invscaling",
         "param_learning_rate_init": 0.0205987714944439,
         "param_max_iter": 5000,
         "param_momentum": 0.7,
         "param_n_iter_no_change": 50,
         "param_random_state": 69,
         "param_solver": "adam",
         "param_tol": 0.0016438454264607,
         "param_validation_fraction": 0.2,
         "params": "{'activation': 'logistic', 'alpha': 0.022792524445722932, 'batch_size': 264, 'early_stopping': True…",
         "split0_test_score": 1.1275251857225317,
         "split1_test_score": 1.2483650850598558,
         "split2_test_score": 1.212692101521496,
         "split3_test_score": 1.0403761298245169,
         "split4_test_score": 1.0552386053677811,
         "split5_test_score": 1.0406628129829725,
         "split6_test_score": 1.2100029207596268,
         "split7_test_score": 1.1720803755058071,
         "split8_test_score": 1.1591921338370472,
         "split9_test_score": 1.1368452068235395,
         "mean_test_score": 1.1402980557405176,
         "std_test_score": 0.0710401311123,
         "rank_test_score": 1952,
         "_deepnote_index_column": 1
        },
        {
         "Unnamed: 0": 1184,
         "mean_fit_time": 2.9275713682174684,
         "std_fit_time": 0.6249988695295419,
         "mean_score_time": 0.0019450664520263,
         "std_score_time": 0.0000539822837868716,
         "param_activation": "tanh",
         "param_alpha": 0.0418975677428445,
         "param_batch_size": 778,
         "param_early_stopping": true,
         "param_hidden_layer_sizes": "(100, 100)",
         "param_learning_rate": "adaptive",
         "param_learning_rate_init": 0.0860636106201756,
         "param_max_iter": 5000,
         "param_momentum": 0.1,
         "param_n_iter_no_change": 50,
         "param_random_state": 69,
         "param_solver": "adam",
         "param_tol": 0.001165173126989,
         "param_validation_fraction": 0.2,
         "params": "{'activation': 'tanh', 'alpha': 0.04189756774284456, 'batch_size': 778, 'early_stopping': True, 'hi…",
         "split0_test_score": 1.2067842866744996,
         "split1_test_score": 1.231962396587056,
         "split2_test_score": 1.234347654405591,
         "split3_test_score": 1.0047637968407257,
         "split4_test_score": 1.0737644395928914,
         "split5_test_score": 1.0846332781639922,
         "split6_test_score": 1.1239742976888358,
         "split7_test_score": 1.1598523230582645,
         "split8_test_score": 1.158369617368293,
         "split9_test_score": 1.1414807753169387,
         "mean_test_score": 1.1419932865697089,
         "std_test_score": 0.0696498375507239,
         "rank_test_score": 1951,
         "_deepnote_index_column": 2
        },
        {
         "Unnamed: 0": 1902,
         "mean_fit_time": 0.6231588363647461,
         "std_fit_time": 0.0831699418668392,
         "mean_score_time": 0.0013421058654785,
         "std_score_time": 0.0004094927736847,
         "param_activation": "logistic",
         "param_alpha": 0.0619929922924395,
         "param_batch_size": 254,
         "param_early_stopping": true,
         "param_hidden_layer_sizes": "(25, 25)",
         "param_learning_rate": "invscaling",
         "param_learning_rate_init": 0.0749901980281037,
         "param_max_iter": 5000,
         "param_momentum": 0.7,
         "param_n_iter_no_change": 50,
         "param_random_state": 69,
         "param_solver": "adam",
         "param_tol": 0.0019892882007665,
         "param_validation_fraction": 0.2,
         "params": "{'activation': 'logistic', 'alpha': 0.06199299229243954, 'batch_size': 254, 'early_stopping': True,…",
         "split0_test_score": 1.1574734577823154,
         "split1_test_score": 1.279074001321964,
         "split2_test_score": 1.2182013926829016,
         "split3_test_score": 1.0127029874036573,
         "split4_test_score": 1.1057418650176043,
         "split5_test_score": 1.078041992231838,
         "split6_test_score": 1.1701223270654486,
         "split7_test_score": 1.142205485396688,
         "split8_test_score": 1.101886783296296,
         "split9_test_score": 1.1602313283394037,
         "mean_test_score": 1.1425681620538115,
         "std_test_score": 0.0704893534282655,
         "rank_test_score": 1950,
         "_deepnote_index_column": 3
        },
        {
         "Unnamed: 0": 1055,
         "mean_fit_time": 0.4911443471908569,
         "std_fit_time": 0.0635964493615545,
         "mean_score_time": 0.0011072397232055,
         "std_score_time": 0.0002513599137496,
         "param_activation": "logistic",
         "param_alpha": 0.0696951498336013,
         "param_batch_size": 268,
         "param_early_stopping": true,
         "param_hidden_layer_sizes": "(10, 10)",
         "param_learning_rate": "adaptive",
         "param_learning_rate_init": 0.0623682419894633,
         "param_max_iter": 5000,
         "param_momentum": 1,
         "param_n_iter_no_change": 50,
         "param_random_state": 69,
         "param_solver": "adam",
         "param_tol": 0.0013150266339342,
         "param_validation_fraction": 0.2,
         "params": "{'activation': 'logistic', 'alpha': 0.06969514983360138, 'batch_size': 268, 'early_stopping': True,…",
         "split0_test_score": 1.1530958583913935,
         "split1_test_score": 1.2916516751903933,
         "split2_test_score": 1.2451368979373283,
         "split3_test_score": 1.0353428159172675,
         "split4_test_score": 1.1061195524847087,
         "split5_test_score": 1.0695897205538196,
         "split6_test_score": 1.1857598690468536,
         "split7_test_score": 1.129106270931254,
         "split8_test_score": 1.136262918881613,
         "split9_test_score": 1.0965344961578445,
         "mean_test_score": 1.1448600075492474,
         "std_test_score": 0.074270973988871,
         "rank_test_score": 1949,
         "_deepnote_index_column": 4
        }
       ]
      },
      "text/plain": "   Unnamed: 0  mean_fit_time  std_fit_time  mean_score_time  std_score_time  \\\n0        1086       1.787254      0.271601         0.001516        0.000088   \n1        1467       2.061142      0.162213         0.001936        0.000540   \n2        1184       2.927571      0.624999         0.001945        0.000054   \n3        1902       0.623159      0.083170         0.001342        0.000409   \n4        1055       0.491144      0.063596         0.001107        0.000251   \n\n  param_activation  param_alpha  param_batch_size  param_early_stopping  \\\n0         logistic     0.077430               239                  True   \n1         logistic     0.022793               264                  True   \n2             tanh     0.041898               778                  True   \n3         logistic     0.061993               254                  True   \n4         logistic     0.069695               268                  True   \n\n  param_hidden_layer_sizes  ... split3_test_score  split4_test_score  \\\n0               (100, 100)  ...          1.039912           1.037445   \n1               (100, 100)  ...          1.040376           1.055239   \n2               (100, 100)  ...          1.004764           1.073764   \n3                 (25, 25)  ...          1.012703           1.105742   \n4                 (10, 10)  ...          1.035343           1.106120   \n\n   split5_test_score  split6_test_score  split7_test_score  split8_test_score  \\\n0           1.047971           1.225440           1.141576           1.179563   \n1           1.040663           1.210003           1.172080           1.159192   \n2           1.084633           1.123974           1.159852           1.158370   \n3           1.078042           1.170122           1.142205           1.101887   \n4           1.069590           1.185760           1.129106           1.136263   \n\n  split9_test_score  mean_test_score  std_test_score rank_test_score  \n0          1.134474         1.139014        0.074680            1953  \n1          1.136845         1.140298        0.071040            1952  \n2          1.141481         1.141993        0.069650            1951  \n3          1.160231         1.142568        0.070489            1950  \n4          1.096534         1.144860        0.074271            1949  \n\n[5 rows x 33 columns]",
      "text/html": "<div>\n<style scoped>\n    .dataframe tbody tr th:only-of-type {\n        vertical-align: middle;\n    }\n\n    .dataframe tbody tr th {\n        vertical-align: top;\n    }\n\n    .dataframe thead th {\n        text-align: right;\n    }\n</style>\n<table border=\"1\" class=\"dataframe\">\n  <thead>\n    <tr style=\"text-align: right;\">\n      <th></th>\n      <th>Unnamed: 0</th>\n      <th>mean_fit_time</th>\n      <th>std_fit_time</th>\n      <th>mean_score_time</th>\n      <th>std_score_time</th>\n      <th>param_activation</th>\n      <th>param_alpha</th>\n      <th>param_batch_size</th>\n      <th>param_early_stopping</th>\n      <th>param_hidden_layer_sizes</th>\n      <th>...</th>\n      <th>split3_test_score</th>\n      <th>split4_test_score</th>\n      <th>split5_test_score</th>\n      <th>split6_test_score</th>\n      <th>split7_test_score</th>\n      <th>split8_test_score</th>\n      <th>split9_test_score</th>\n      <th>mean_test_score</th>\n      <th>std_test_score</th>\n      <th>rank_test_score</th>\n    </tr>\n  </thead>\n  <tbody>\n    <tr>\n      <th>0</th>\n      <td>1086</td>\n      <td>1.787254</td>\n      <td>0.271601</td>\n      <td>0.001516</td>\n      <td>0.000088</td>\n      <td>logistic</td>\n      <td>0.077430</td>\n      <td>239</td>\n      <td>True</td>\n      <td>(100, 100)</td>\n      <td>...</td>\n      <td>1.039912</td>\n      <td>1.037445</td>\n      <td>1.047971</td>\n      <td>1.225440</td>\n      <td>1.141576</td>\n      <td>1.179563</td>\n      <td>1.134474</td>\n      <td>1.139014</td>\n      <td>0.074680</td>\n      <td>1953</td>\n    </tr>\n    <tr>\n      <th>1</th>\n      <td>1467</td>\n      <td>2.061142</td>\n      <td>0.162213</td>\n      <td>0.001936</td>\n      <td>0.000540</td>\n      <td>logistic</td>\n      <td>0.022793</td>\n      <td>264</td>\n      <td>True</td>\n      <td>(100, 100)</td>\n      <td>...</td>\n      <td>1.040376</td>\n      <td>1.055239</td>\n      <td>1.040663</td>\n      <td>1.210003</td>\n      <td>1.172080</td>\n      <td>1.159192</td>\n      <td>1.136845</td>\n      <td>1.140298</td>\n      <td>0.071040</td>\n      <td>1952</td>\n    </tr>\n    <tr>\n      <th>2</th>\n      <td>1184</td>\n      <td>2.927571</td>\n      <td>0.624999</td>\n      <td>0.001945</td>\n      <td>0.000054</td>\n      <td>tanh</td>\n      <td>0.041898</td>\n      <td>778</td>\n      <td>True</td>\n      <td>(100, 100)</td>\n      <td>...</td>\n      <td>1.004764</td>\n      <td>1.073764</td>\n      <td>1.084633</td>\n      <td>1.123974</td>\n      <td>1.159852</td>\n      <td>1.158370</td>\n      <td>1.141481</td>\n      <td>1.141993</td>\n      <td>0.069650</td>\n      <td>1951</td>\n    </tr>\n    <tr>\n      <th>3</th>\n      <td>1902</td>\n      <td>0.623159</td>\n      <td>0.083170</td>\n      <td>0.001342</td>\n      <td>0.000409</td>\n      <td>logistic</td>\n      <td>0.061993</td>\n      <td>254</td>\n      <td>True</td>\n      <td>(25, 25)</td>\n      <td>...</td>\n      <td>1.012703</td>\n      <td>1.105742</td>\n      <td>1.078042</td>\n      <td>1.170122</td>\n      <td>1.142205</td>\n      <td>1.101887</td>\n      <td>1.160231</td>\n      <td>1.142568</td>\n      <td>0.070489</td>\n      <td>1950</td>\n    </tr>\n    <tr>\n      <th>4</th>\n      <td>1055</td>\n      <td>0.491144</td>\n      <td>0.063596</td>\n      <td>0.001107</td>\n      <td>0.000251</td>\n      <td>logistic</td>\n      <td>0.069695</td>\n      <td>268</td>\n      <td>True</td>\n      <td>(10, 10)</td>\n      <td>...</td>\n      <td>1.035343</td>\n      <td>1.106120</td>\n      <td>1.069590</td>\n      <td>1.185760</td>\n      <td>1.129106</td>\n      <td>1.136263</td>\n      <td>1.096534</td>\n      <td>1.144860</td>\n      <td>0.074271</td>\n      <td>1949</td>\n    </tr>\n  </tbody>\n</table>\n<p>5 rows × 33 columns</p>\n</div>"
     },
     "metadata": {}
    }
   ]
  },
  {
   "cell_type": "code",
   "metadata": {
    "cell_id": "00081-fc3ed589-20d2-40fb-8c96-60e7fcc4a5c5",
    "deepnote_to_be_reexecuted": false,
    "execution_millis": 241,
    "execution_start": 1641828589974,
    "source_hash": "9dd11431",
    "tags": [],
    "output_cleared": false,
    "deepnote_cell_type": "code"
   },
   "source": "#get the best params for the grid search (cannot use rand_gs.best_estimator directly since it will yield the worst estimator based on MEE)\nbest_params = df_results['params'][0]\nprint(f\"Mean error on the {k}-folds (MEE) on best model: {df_results['mean_test_score'][0]}\\n\")\nprint(f\"Best params: {best_params}\")",
   "execution_count": null,
   "outputs": [
    {
     "name": "stdout",
     "text": "Mean error on the 10-folds (MEE) on best model: 1.1390136636603725\n\nBest params: {'activation': 'logistic', 'alpha': 0.07743009040051323, 'batch_size': 239, 'early_stopping': True, 'hidden_layer_sizes': (100, 100), 'learning_rate': 'adaptive', 'learning_rate_init': 0.023844455833523643, 'max_iter': 5000, 'momentum': 0.7, 'n_iter_no_change': 50, 'random_state': 69, 'solver': 'adam', 'tol': 0.0017418462017072395, 'validation_fraction': 0.2}\n",
     "output_type": "stream",
     "data": {}
    }
   ]
  },
  {
   "cell_type": "code",
   "metadata": {
    "cell_id": "00079-a4d981a9-7f96-42fd-b68f-95173547520a",
    "deepnote_to_be_reexecuted": false,
    "execution_millis": 1,
    "execution_start": 1641828590171,
    "source_hash": "d73f95c1",
    "tags": [],
    "output_cleared": true,
    "deepnote_cell_type": "code"
   },
   "source": "import ast\nbest_params = ast.literal_eval(best_params)",
   "execution_count": null,
   "outputs": []
  },
  {
   "cell_type": "code",
   "metadata": {
    "cell_id": "00079-4dfa7b71-4c50-4561-9cb2-f357883c1efa",
    "deepnote_output_heights": [
     97.9375,
     97.9375
    ],
    "deepnote_to_be_reexecuted": false,
    "execution_millis": 7314,
    "execution_start": 1641828595375,
    "source_hash": "34edbdf5",
    "tags": [],
    "output_cleared": true,
    "deepnote_cell_type": "code"
   },
   "source": "model = MLPRegressor(**best_params)\nmodel.fit(X, y)\nbest_params['early_stopping'] = False\neval_model = MLPRegressor(**best_params)",
   "execution_count": null,
   "outputs": []
  },
  {
   "cell_type": "code",
   "metadata": {
    "cell_id": "00082-3033d12b-469c-40d7-a046-5093c1b196ec",
    "deepnote_output_heights": [
     21.1875
    ],
    "deepnote_to_be_reexecuted": false,
    "execution_millis": 182,
    "execution_start": 1641828602697,
    "source_hash": "9e9de3f4",
    "tags": [],
    "output_cleared": false,
    "deepnote_cell_type": "code"
   },
   "source": "y_predicted = model.predict(X)\nprint(f\"Accuracy: {model.score(X, y)}\")\nprint(f\"MEE: {mee(y, y_predicted)}\")",
   "execution_count": null,
   "outputs": [
    {
     "name": "stdout",
     "text": "Accuracy: 0.9440457658642413\nMEE: 1.0932123661661548\n",
     "output_type": "stream",
     "data": {}
    }
   ]
  },
  {
   "cell_type": "code",
   "metadata": {
    "cell_id": "00082-8a47b9fe-9cab-4b6c-b0e3-7202eecb19ee",
    "deepnote_output_heights": [
     40.390625
    ],
    "deepnote_to_be_reexecuted": false,
    "execution_millis": 26,
    "execution_start": 1641828602876,
    "source_hash": "c0f59177",
    "tags": [],
    "output_cleared": false,
    "deepnote_cell_type": "code"
   },
   "source": "y_predicted_internal = model.predict(X_internal_test)\nprint(f\"Accuracy: {model.score(X_internal_test, y_internal_test)}\")\nprint(f\"MEE: {mee(y_internal_test, y_predicted_internal)}\")",
   "execution_count": null,
   "outputs": [
    {
     "name": "stdout",
     "text": "Accuracy: 0.9513288757170515\nMEE: 1.070214670754976\n",
     "output_type": "stream",
     "data": {}
    }
   ]
  },
  {
   "cell_type": "code",
   "metadata": {
    "tags": [],
    "cell_id": "00094-0b66efb1-babb-49a6-84db-2b60c8d5a71e",
    "deepnote_to_be_reexecuted": false,
    "source_hash": "e101cc15",
    "output_cleared": true,
    "execution_start": 1641828612111,
    "execution_millis": 22181,
    "deepnote_cell_type": "code"
   },
   "source": "train_scores, test_scores, train_loss, test_loss = fit_and_score(model.n_iter_, eval_model, X, y, X_internal_test, y_internal_test)",
   "execution_count": null,
   "outputs": []
  },
  {
   "cell_type": "markdown",
   "source": " ## Loss Curves",
   "metadata": {
    "cell_id": "00083-038798c9-56a8-4130-bba3-44bd7b859fc7",
    "tags": [],
    "deepnote_cell_type": "markdown"
   }
  },
  {
   "cell_type": "code",
   "metadata": {
    "cell_id": "00083-7b45a2ea-d5c6-4715-ac7b-f81d15f131e7",
    "deepnote_output_heights": [
     482
    ],
    "deepnote_to_be_reexecuted": false,
    "execution_millis": 300,
    "execution_start": 1641828634298,
    "source_hash": "2a28b3cd",
    "tags": [],
    "output_cleared": false,
    "deepnote_cell_type": "code"
   },
   "source": "plot_learning_curves(train_loss, test_loss, model.n_iter_, \"Loss (MSE)\")",
   "execution_count": null,
   "outputs": [
    {
     "data": {
      "text/plain": "<Figure size 720x576 with 1 Axes>",
      "image/png": "[encoded data removed]"
     },
     "metadata": {
      "needs_background": "light",
      "image/png": {
       "width": 606,
       "height": 480
      }
     },
     "output_type": "display_data"
    }
   ]
  },
  {
   "cell_type": "markdown",
   "source": "## Learning Curves",
   "metadata": {
    "cell_id": "00085-7a7150fe-17f7-4e2f-b8fd-e0ff668dc37a",
    "tags": [],
    "deepnote_cell_type": "markdown"
   }
  },
  {
   "cell_type": "code",
   "metadata": {
    "cell_id": "00086-ed2d7972-98a0-4381-9a9c-f29d9b4fc448",
    "deepnote_output_heights": [
     482
    ],
    "deepnote_to_be_reexecuted": false,
    "execution_millis": 254,
    "execution_start": 1641828634602,
    "source_hash": "b6d9a11b",
    "tags": [],
    "output_cleared": false,
    "deepnote_cell_type": "code"
   },
   "source": "plot_learning_curves(train_scores, test_scores, model.n_iter_, \"Error (MEE)\")",
   "execution_count": null,
   "outputs": [
    {
     "data": {
      "text/plain": "<Figure size 720x576 with 1 Axes>",
      "image/png": "[encoded data removed]"
     },
     "metadata": {
      "needs_background": "light",
      "image/png": {
       "width": 606,
       "height": 480
      }
     },
     "output_type": "display_data"
    }
   ]
  },
  {
   "cell_type": "markdown",
   "source": "### Plot of coordinates x and y from the training set",
   "metadata": {
    "cell_id": "00086-1d278b81-4dfb-481b-bd2d-6ecb54124bcb",
    "tags": [],
    "deepnote_cell_type": "markdown"
   }
  },
  {
   "cell_type": "code",
   "metadata": {
    "cell_id": "00008-ecc25ec9-9105-4377-9f71-5d9f2924ad85",
    "deepnote_output_heights": [
     21.1875,
     264
    ],
    "deepnote_to_be_reexecuted": false,
    "execution_millis": 201,
    "execution_start": 1641828634856,
    "output_cleared": false,
    "source_hash": "c1117b61",
    "deepnote_cell_type": "code"
   },
   "source": "plt.xlabel(\"x\")\nplt.ylabel(\"y\")\nplt.scatter(df_visual['x'], df_visual['y'])",
   "execution_count": null,
   "outputs": [
    {
     "output_type": "execute_result",
     "execution_count": 60,
     "data": {
      "text/plain": "<matplotlib.collections.PathCollection at 0x7fc5feb0e7d0>"
     },
     "metadata": {}
    },
    {
     "data": {
      "text/plain": "<Figure size 432x288 with 1 Axes>",
      "image/png": "[encoded data removed]"
     },
     "metadata": {
      "needs_background": "light",
      "image/png": {
       "width": 391,
       "height": 262
      }
     },
     "output_type": "display_data"
    }
   ]
  },
  {
   "cell_type": "code",
   "metadata": {
    "cell_id": "00088-15885ca0-5699-40a2-b898-4d70e5c66228",
    "deepnote_to_be_reexecuted": false,
    "execution_millis": 2,
    "execution_start": 1641828635059,
    "source_hash": "a4dc9d4f",
    "tags": [],
    "output_cleared": true,
    "deepnote_cell_type": "code"
   },
   "source": "def plot_coordinates(model, X, true_y = None):\n    y_predicted = model.predict(X)\n    y_predicted = pd.DataFrame(data=y_predicted, columns=[\"x\", \"y\"])\n    if not None:\n        true_y = pd.DataFrame(data=true_y, columns=[\"x\", \"y\"])\n        plt.scatter(true_y['x'], true_y['y'], c='r', marker='*')\n    plt.xlabel(\"x\")\n    plt.ylabel(\"y\")\n    plt.scatter(y_predicted['x'], y_predicted['y'], c='#1f77b4')\n",
   "execution_count": null,
   "outputs": []
  },
  {
   "cell_type": "markdown",
   "source": "### Predicted points on internal test set",
   "metadata": {
    "cell_id": "00089-9abf5498-eafd-4118-a3de-3d97c0c02e22",
    "tags": [],
    "deepnote_cell_type": "markdown"
   }
  },
  {
   "cell_type": "code",
   "metadata": {
    "cell_id": "00087-f28f6cbd-3066-4ba3-a284-0fde9f54668d",
    "deepnote_output_heights": [
     264
    ],
    "deepnote_to_be_reexecuted": false,
    "execution_millis": 640,
    "execution_start": 1641828635065,
    "source_hash": "9422e3bd",
    "tags": [],
    "output_cleared": false,
    "deepnote_cell_type": "code"
   },
   "source": "plot_coordinates(model, X_internal_test, y_internal_test)",
   "execution_count": null,
   "outputs": [
    {
     "data": {
      "text/plain": "<Figure size 432x288 with 1 Axes>",
      "image/png": "[encoded data removed]"
     },
     "metadata": {
      "needs_background": "light",
      "image/png": {
       "width": 391,
       "height": 262
      }
     },
     "output_type": "display_data"
    }
   ]
  },
  {
   "cell_type": "code",
   "metadata": {
    "cell_id": "00091-b568584b-91e1-4366-8787-cbe43e52c5ec",
    "tags": [],
    "deepnote_to_be_reexecuted": false,
    "source_hash": "795a2625",
    "output_cleared": false,
    "execution_start": 1641828641768,
    "execution_millis": 304,
    "deepnote_output_heights": [
     264
    ],
    "deepnote_cell_type": "code"
   },
   "source": "plot_coordinates(model, X_all, y_all)",
   "execution_count": null,
   "outputs": [
    {
     "data": {
      "text/plain": "<Figure size 432x288 with 1 Axes>",
      "image/png": "[encoded data removed]"
     },
     "metadata": {
      "needs_background": "light",
      "image/png": {
       "width": 391,
       "height": 262
      }
     },
     "output_type": "display_data"
    }
   ]
  },
  {
   "cell_type": "markdown",
   "source": "### Predicted points on blind test set",
   "metadata": {
    "tags": [],
    "cell_id": "00105-5aeb8571-533b-4313-9f1e-051dae5a6cd2",
    "deepnote_cell_type": "markdown"
   }
  },
  {
   "cell_type": "code",
   "metadata": {
    "cell_id": "00018-c3e0eaa8-5cb8-4442-959c-1a731da2ca8c",
    "deepnote_output_heights": [
     264
    ],
    "deepnote_to_be_reexecuted": false,
    "execution_millis": 532,
    "execution_start": 1641828649270,
    "source_hash": "dd65ae1c",
    "output_cleared": false,
    "deepnote_cell_type": "code"
   },
   "source": "plot_coordinates(model, blind_ts)",
   "execution_count": null,
   "outputs": [
    {
     "data": {
      "text/plain": "<Figure size 432x288 with 1 Axes>",
      "image/png": "[encoded data removed]"
     },
     "metadata": {
      "needs_background": "light",
      "image/png": {
       "width": 391,
       "height": 262
      }
     },
     "output_type": "display_data"
    }
   ]
  },
  {
   "cell_type": "markdown",
   "source": "## Ensemble ",
   "metadata": {
    "cell_id": "00093-f93332e9-e7a3-4cbf-83bd-c8500ee574cc",
    "tags": [],
    "deepnote_cell_type": "markdown"
   }
  },
  {
   "cell_type": "code",
   "metadata": {
    "cell_id": "00092-d05d51a0-5f9c-46a2-bdeb-3b3c4141f9e2",
    "deepnote_to_be_reexecuted": false,
    "execution_millis": 221,
    "execution_start": 1641828652282,
    "source_hash": "bc23f9b2",
    "tags": [],
    "output_cleared": true,
    "deepnote_cell_type": "code"
   },
   "source": "from sklearn.ensemble import BaggingRegressor",
   "execution_count": null,
   "outputs": []
  },
  {
   "cell_type": "code",
   "metadata": {
    "cell_id": "00093-dde78d36-f0d3-4bb8-be88-50d88c6465bd",
    "deepnote_to_be_reexecuted": false,
    "execution_millis": 9874,
    "execution_start": 1641828655060,
    "source_hash": "70aaf321",
    "tags": [],
    "output_cleared": true,
    "deepnote_cell_type": "code"
   },
   "source": "ensembler = BaggingRegressor(model, n_estimators=10, n_jobs=-1, random_state=69).fit(X, y)",
   "execution_count": null,
   "outputs": []
  },
  {
   "cell_type": "code",
   "metadata": {
    "cell_id": "00094-53b977c3-d07e-46bb-8b27-6bf2ae6c4d56",
    "deepnote_to_be_reexecuted": false,
    "execution_millis": 99,
    "execution_start": 1641828664940,
    "source_hash": "a125b1f4",
    "tags": [],
    "output_cleared": false,
    "deepnote_cell_type": "code"
   },
   "source": "y_predicted_internal_ensemble = ensembler.predict(X_internal_test)\nprint(f\"Accuracy: {model.score(X_internal_test, y_internal_test)}\")\nprint(f\"MEE: {mee(y_internal_test, y_predicted_internal_ensemble)}\")",
   "execution_count": null,
   "outputs": [
    {
     "name": "stdout",
     "text": "Accuracy: 0.9513288757170515\nMEE: 1.0946367835991382\n",
     "output_type": "stream",
     "data": {}
    }
   ]
  },
  {
   "cell_type": "markdown",
   "source": "### Predicted points on internal test set using ensemble",
   "metadata": {
    "cell_id": "00097-5228796c-20df-48f7-b805-512d228ef30f",
    "tags": [],
    "deepnote_cell_type": "markdown"
   }
  },
  {
   "cell_type": "code",
   "metadata": {
    "cell_id": "00095-29178bf8-e53b-49f2-9b9f-6bc993f430ba",
    "deepnote_output_heights": [
     264
    ],
    "deepnote_to_be_reexecuted": false,
    "execution_millis": 378,
    "execution_start": 1641828665064,
    "source_hash": "6deb6da2",
    "tags": [],
    "output_cleared": false,
    "deepnote_cell_type": "code"
   },
   "source": "plot_coordinates(ensembler, X_internal_test, y_internal_test)",
   "execution_count": null,
   "outputs": [
    {
     "data": {
      "text/plain": "<Figure size 432x288 with 1 Axes>",
      "image/png": "[encoded data removed]"
     },
     "metadata": {
      "needs_background": "light",
      "image/png": {
       "width": 391,
       "height": 262
      }
     },
     "output_type": "display_data"
    }
   ]
  },
  {
   "cell_type": "markdown",
   "source": "### Predicted points on blind test set using Ensemble",
   "metadata": {
    "cell_id": "00099-a003a56a-ada4-43f9-9685-22118d6682cd",
    "tags": [],
    "deepnote_cell_type": "markdown"
   }
  },
  {
   "cell_type": "code",
   "metadata": {
    "cell_id": "00096-5a316c05-fb63-44eb-9a33-25e78e40f89a",
    "deepnote_output_heights": [
     264
    ],
    "deepnote_to_be_reexecuted": false,
    "execution_millis": 279,
    "execution_start": 1641828674583,
    "source_hash": "b31df7a1",
    "tags": [],
    "output_cleared": false,
    "deepnote_cell_type": "code"
   },
   "source": "plot_coordinates(ensembler, blind_ts)",
   "execution_count": null,
   "outputs": [
    {
     "data": {
      "text/plain": "<Figure size 432x288 with 1 Axes>",
      "image/png": "[encoded data removed]"
     },
     "metadata": {
      "needs_background": "light",
      "image/png": {
       "width": 392,
       "height": 262
      }
     },
     "output_type": "display_data"
    }
   ]
  },
  {
   "cell_type": "markdown",
   "source": "### Grid Search using K-fold cross validation\nAn exhaustive search will be performed using the parameters defined, to choose the best model a k-fold cross validation will be used.",
   "metadata": {
    "cell_id": "00041-72803b78-b30b-4b53-a6a2-9024e59b7c1a",
    "tags": [],
    "deepnote_cell_type": "markdown"
   }
  },
  {
   "cell_type": "code",
   "metadata": {
    "cell_id": "00033-cc6be975-b698-4b57-af7e-95b2a405a092",
    "deepnote_output_heights": [
     213.125
    ],
    "deepnote_to_be_reexecuted": true,
    "execution_millis": 19884,
    "execution_start": 1639935720524,
    "source_hash": "7f5fdf47",
    "tags": [],
    "output_cleared": true,
    "deepnote_cell_type": "code"
   },
   "source": "#in order to find the best set of parameter setting, we can run a grid search\nfrom sklearn.model_selection import GridSearchCV\nfrom sklearn.metrics import make_scorer\n\n#define the parameters' values you want to try\nparams = {'activation': ['tanh'], \n            'alpha': [0.001, 0.002,0.0032723479710304857], \n            'batch_size': [676], \n            'early_stopping': [True], \n            'hidden_layer_sizes': [(50, 50)], \n            'learning_rate': ['invscaling'], \n            'learning_rate_init': [0.07000559724451492], \n            'n_iter_no_change': [25], \n            'random_state': [69], \n            'solver': ['adam'], \n            'tol': [0.0010351423029625658], \n            'validation_fraction': [0.2]\n        }\n# define the model\nregressor = MLPRegressor()\n# define number of k-folds\nk = 5\n# define the grid search\ngs = GridSearchCV(\n    regressor,\n    param_grid=params,\n    n_jobs=-1,\n    scoring=make_scorer(inv_mee), #scoring is based on the highest value\n    cv=k,\n)\n# run the grid search\ngs.fit(X, y)",
   "execution_count": null,
   "outputs": []
  },
  {
   "cell_type": "code",
   "metadata": {
    "cell_id": "00015-8a2ec77d-a1cc-40fb-9b1b-5ae457f809ae",
    "deepnote_to_be_reexecuted": true,
    "execution_millis": 19,
    "execution_start": 1639935740415,
    "source_hash": "e470277",
    "tags": [],
    "output_cleared": true,
    "deepnote_cell_type": "code"
   },
   "source": "print('Best setting parameters ', gs.best_params_)",
   "execution_count": null,
   "outputs": []
  },
  {
   "cell_type": "code",
   "metadata": {
    "cell_id": "00103-1818aa06-78d4-4fd6-b853-b41797a4aff7",
    "deepnote_to_be_reexecuted": true,
    "execution_millis": 28,
    "execution_start": 1639935740437,
    "source_hash": "2017d242",
    "tags": [],
    "output_cleared": true,
    "deepnote_cell_type": "code"
   },
   "source": "df_results = pd.DataFrame(data=gs.cv_results_)",
   "execution_count": null,
   "outputs": []
  },
  {
   "cell_type": "code",
   "metadata": {
    "cell_id": "00104-c7a1639c-48ad-46dd-996c-9792d7afe180",
    "deepnote_to_be_reexecuted": true,
    "execution_millis": 16,
    "execution_start": 1639935740652,
    "source_hash": "3fe0ef45",
    "tags": [],
    "output_cleared": true,
    "deepnote_cell_type": "code"
   },
   "source": "df_esults",
   "execution_count": null,
   "outputs": []
  },
  {
   "cell_type": "code",
   "metadata": {
    "cell_id": "00105-0720cdfc-554d-4220-bd28-9ca22f0a7bd5",
    "deepnote_to_be_reexecuted": true,
    "execution_millis": 2997,
    "execution_start": 1639936342467,
    "source_hash": "8716970f",
    "tags": [],
    "output_cleared": true,
    "deepnote_cell_type": "code"
   },
   "source": "model = gs.best_estimator_\nbest_params['early_stopping'] = True\nbest_params['max_iter'] = 500\nmodel = MLPRegressor(**best_params)\nmodel.fit(X, y)\nbest_params['early_stopping'] = False\neval_model = MLPRegressor(**best_params)",
   "execution_count": null,
   "outputs": []
  },
  {
   "cell_type": "code",
   "metadata": {
    "cell_id": "00106-da8ebd38-d3ef-42f5-9966-a7942780802b",
    "deepnote_to_be_reexecuted": true,
    "execution_millis": 25,
    "execution_start": 1639936345512,
    "source_hash": "c0f59177",
    "tags": [],
    "output_cleared": true,
    "deepnote_cell_type": "code"
   },
   "source": "y_predicted_internal = model.predict(X_internal_test)\nprint(f\"Accuracy: {model.score(X_internal_test, y_internal_test)}\")\nprint(f\"MEE: {mee(y_internal_test, y_predicted_internal)}\")",
   "execution_count": null,
   "outputs": []
  },
  {
   "cell_type": "code",
   "metadata": {
    "cell_id": "00107-00ef44f4-75ee-41ed-ad01-3dd5478c5535",
    "deepnote_output_heights": [
     264
    ],
    "deepnote_to_be_reexecuted": true,
    "execution_millis": 222,
    "execution_start": 1639936354616,
    "source_hash": "b07fbe0a",
    "tags": [],
    "output_cleared": true,
    "deepnote_cell_type": "code"
   },
   "source": "plot_coordinates(model, X_internal_test)",
   "execution_count": null,
   "outputs": []
  },
  {
   "cell_type": "code",
   "metadata": {
    "cell_id": "00108-98e2f7d3-a92a-4ba6-86d1-07297b74907a",
    "deepnote_output_heights": [
     264
    ],
    "deepnote_to_be_reexecuted": true,
    "execution_millis": 330,
    "execution_start": 1639936358083,
    "source_hash": "dd65ae1c",
    "tags": [],
    "output_cleared": true,
    "deepnote_cell_type": "code"
   },
   "source": "plot_coordinates(model, blind_ts)",
   "execution_count": null,
   "outputs": []
  },
  {
   "cell_type": "code",
   "metadata": {
    "cell_id": "00109-f3cccfb0-5b27-4d96-8713-c1b0b674bfae",
    "tags": [],
    "deepnote_to_be_reexecuted": true,
    "source_hash": "b623e53d",
    "output_cleared": true,
    "deepnote_cell_type": "code"
   },
   "source": "",
   "execution_count": null,
   "outputs": []
  },
  {
   "cell_type": "markdown",
   "source": "<a style='text-decoration:none;line-height:16px;display:flex;color:#5B5B62;padding:10px;justify-content:end;' href='https://deepnote.com?utm_source=created-in-deepnote-cell&projectId=d9d840c9-75b3-4185-bb01-105f5cca8d83' target=\"_blank\">\n<img alt='Created in deepnote.com' style='display:inline;max-height:16px;margin:0px;margin-right:7.5px;' src='data:image/svg+xml;base64,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' > </img>\nCreated in <span style='font-weight:600;margin-left:4px;'>Deepnote</span></a>",
   "metadata": {
    "tags": [],
    "created_in_deepnote_cell": true,
    "deepnote_cell_type": "markdown"
   }
  }
 ],
 "nbformat": 4,
 "nbformat_minor": 5,
 "metadata": {
  "deepnote": {},
  "deepnote_execution_queue": [],
  "deepnote_notebook_id": "e6b16fc5-d82c-42a1-becc-b3e3eb4c046e",
  "kernelspec": {
   "display_name": "Python 3",
   "language": "python",
   "name": "python3"
  },
  "language_info": {
   "codemirror_mode": {
    "name": "ipython",
    "version": 3
   },
   "file_extension": ".py",
   "mimetype": "text/x-python",
   "name": "python",
   "nbconvert_exporter": "python",
   "pygments_lexer": "ipython3",
   "version": "3.9.7"
  }
 }
}