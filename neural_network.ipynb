{
 "cells": [
  {
   "cell_type": "markdown",
   "id": "assured-physiology",
   "metadata": {
    "cell_id": "00000-20b425aa-ea48-417e-8de8-80b798a56627",
    "deepnote_cell_type": "markdown"
   },
   "source": [
    "# Machine Learning project a.y. 2021/2022"
   ]
  },
  {
   "cell_type": "markdown",
   "id": "driving-stevens",
   "metadata": {
    "cell_id": "00001-0b4766be-7481-4245-b46b-e62d89f13e8e",
    "deepnote_cell_type": "markdown"
   },
   "source": [
    "## Scikit-learn MLP model"
   ]
  },
  {
   "cell_type": "markdown",
   "id": "valid-cartridge",
   "metadata": {
    "cell_id": "00002-df7e2378-8b40-4303-a2e1-ed002e501fc7",
    "deepnote_cell_type": "markdown"
   },
   "source": [
    "## Importing libraries"
   ]
  },
  {
   "cell_type": "code",
   "execution_count": 3,
   "id": "unknown-cigarette",
   "metadata": {
    "cell_id": "00003-61dc5a13-3cd8-445b-b8de-c471ff2498d2",
    "deepnote_cell_type": "code",
    "deepnote_to_be_reexecuted": false,
    "execution_millis": 2662,
    "execution_start": 1639949780328,
    "source_hash": "35186b27"
   },
   "outputs": [],
   "source": [
    "import pandas as pd\n",
    "import matplotlib.pyplot as plt\n",
    "import numpy as np\n",
    "\n",
    "from sklearn.metrics import mean_squared_error\n",
    "from sklearn.metrics import accuracy_score\n",
    "from sklearn.preprocessing import OneHotEncoder\n",
    "from sklearn.neural_network import MLPRegressor\n",
    "from sklearn.neural_network import MLPClassifier\n",
    "from sklearn.model_selection import train_test_split"
   ]
  },
  {
   "cell_type": "markdown",
   "id": "instructional-surgeon",
   "metadata": {
    "cell_id": "00004-04491b00-26f4-4580-8468-20e4c04795c7",
    "deepnote_cell_type": "markdown"
   },
   "source": [
    "## Loading training set and blind test set"
   ]
  },
  {
   "cell_type": "code",
   "execution_count": 4,
   "id": "interesting-month",
   "metadata": {
    "cell_id": "00005-0b8f7c5b-8577-4b82-b67f-ece4b4ff2886",
    "deepnote_cell_type": "code",
    "deepnote_to_be_reexecuted": false,
    "execution_millis": 23,
    "execution_start": 1639949782996,
    "source_hash": "47b90439"
   },
   "outputs": [],
   "source": [
    "df_visual = pd.read_csv('./data/ML-CUP21-TR.csv', usecols=[11,12], names=['idx','f1','f2','f3','f4','f5','f6','f7','f8','f9','f10', 'x','y'])\n",
    "df_task_tr = pd.read_csv('./data/ML-CUP21-TR.csv', names=['idx','f1','f2','f3','f4','f5','f6','f7','f8','f9','f10', 'x','y'])\n",
    "df_task_tr = df_task_tr[7:] # remove first 7 rows of comments\n",
    "df_visual = df_visual[7:]\n",
    "\n",
    "df_blind_ts = pd.read_csv('./data/ML-CUP21-TS.csv', names=['idx','f1','f2','f3','f4','f5','f6','f7','f8','f9','f10'])\n",
    "df_blind_ts = df_blind_ts[7:]\n",
    "df_blind_ts.drop(labels=\"idx\", axis=1, inplace=True)\n",
    "blind_ts = df_blind_ts.values"
   ]
  },
  {
   "cell_type": "markdown",
   "id": "realistic-juvenile",
   "metadata": {
    "cell_id": "00006-fc39440c-f97d-48b6-9a6f-04e25869dd3c",
    "deepnote_cell_type": "markdown",
    "tags": []
   },
   "source": [
    "## Evaluation metrics"
   ]
  },
  {
   "cell_type": "markdown",
   "id": "located-jacksonville",
   "metadata": {
    "cell_id": "00007-312152ea-73a2-4516-97fc-e5f48223942c",
    "deepnote_cell_type": "markdown",
    "tags": []
   },
   "source": [
    "We define the <b>MEE (Mean Euclidean Error)</b> function which is used to evaluate the mean euclidean distance between two points with x and y coordinates.\n",
    "The function takes in input the true target and the predicted target and yields a floating point number which represents the performance. "
   ]
  },
  {
   "cell_type": "code",
   "execution_count": 5,
   "id": "seventh-islam",
   "metadata": {
    "cell_id": "00007-a6b9a678-2524-4d79-9ec4-9d60d31af723",
    "deepnote_cell_type": "code",
    "deepnote_to_be_reexecuted": false,
    "execution_millis": 2,
    "execution_start": 1639949783027,
    "source_hash": "3afbb4cb",
    "tags": []
   },
   "outputs": [],
   "source": [
    "def mee(true_target, predicted_target): #assuming target is 2-dim matrix with x and y as columns\n",
    "    l = true_target.shape[0]\n",
    "    res = 0\n",
    "    \n",
    "    for p in range(l): #for p-th pattern in l (number of samples)\n",
    "        x_diff = np.square(true_target[p,0] - predicted_target[p,0]) #difference between the x value of the true and predicted target\n",
    "        y_diff = np.square(true_target[p,1] - predicted_target[p,1]) #difference between the y values of true and predicted target\n",
    "        sum_term = x_diff + y_diff\n",
    "        res = res + np.sqrt(sum_term)\n",
    "    res = res / l\n",
    "    \n",
    "    #return np.average([np.sqrt(np.square(true_target[p,0] - predicted_target[p,0]) + np.square(true_target[p,1] - predicted_target[p,1])) for p in range(l)]) #compact form\n",
    "    return res"
   ]
  },
  {
   "cell_type": "markdown",
   "id": "honey-wrapping",
   "metadata": {
    "cell_id": "00007-59c038d7-e2fc-4096-a98b-40251fd46776",
    "deepnote_cell_type": "markdown",
    "tags": []
   },
   "source": [
    "## MONK Dataset\n",
    "### MONK1"
   ]
  },
  {
   "cell_type": "code",
   "execution_count": 6,
   "id": "colored-corrections",
   "metadata": {
    "cell_id": "00007-c3b356df-c502-47fc-8d23-3fcff863da5c",
    "deepnote_cell_type": "code",
    "deepnote_to_be_reexecuted": false,
    "execution_millis": 9,
    "execution_start": 1639949783029,
    "source_hash": "ea6e0f83",
    "tags": []
   },
   "outputs": [],
   "source": [
    "def load_monk(path_train, path_test):\n",
    "    df_monk_train = pd.read_csv(path_train, sep=\" \", skipinitialspace=True, names=['class','a1','a2','a3','a4','a5','a6','id'])\n",
    "    df_monk_train.drop(labels='id', axis=1, inplace=True)\n",
    "\n",
    "    df_monk_test = pd.read_csv(path_test, sep=\" \", skipinitialspace=True,  names=['class','a1','a2','a3','a4','a5','a6','id'])\n",
    "    df_monk_test.drop(labels='id', axis=1, inplace=True)\n",
    "\n",
    "    return df_monk_train, df_monk_test"
   ]
  },
  {
   "cell_type": "markdown",
   "id": "parallel-lightweight",
   "metadata": {
    "cell_id": "00008-746c454e-4088-4707-aa50-3d6bdfd11301",
    "deepnote_cell_type": "markdown",
    "tags": []
   },
   "source": [
    "### Loading MONK1 dataset"
   ]
  },
  {
   "cell_type": "code",
   "execution_count": 7,
   "id": "contrary-auckland",
   "metadata": {
    "cell_id": "00008-2fddf6b4-7e3c-4ebb-bfec-6fd970b822d3",
    "deepnote_cell_type": "code",
    "deepnote_to_be_reexecuted": false,
    "execution_millis": 12,
    "execution_start": 1639949783040,
    "source_hash": "22e36aaa",
    "tags": []
   },
   "outputs": [],
   "source": [
    "df_monk1_train, df_monk1_test = load_monk('./data/MONK/monks-1.train', './data/MONK/monks-1.test')"
   ]
  },
  {
   "cell_type": "code",
   "execution_count": 8,
   "id": "bearing-intent",
   "metadata": {
    "cell_id": "00009-c89d2e6c-43bb-48e8-aeb3-a2392afb9980",
    "deepnote_cell_type": "code",
    "deepnote_to_be_reexecuted": false,
    "execution_millis": 25,
    "execution_start": 1639949783085,
    "source_hash": "fd91453c",
    "tags": []
   },
   "outputs": [
    {
     "data": {
      "text/html": [
       "<div>\n",
       "<style scoped>\n",
       "    .dataframe tbody tr th:only-of-type {\n",
       "        vertical-align: middle;\n",
       "    }\n",
       "\n",
       "    .dataframe tbody tr th {\n",
       "        vertical-align: top;\n",
       "    }\n",
       "\n",
       "    .dataframe thead th {\n",
       "        text-align: right;\n",
       "    }\n",
       "</style>\n",
       "<table border=\"1\" class=\"dataframe\">\n",
       "  <thead>\n",
       "    <tr style=\"text-align: right;\">\n",
       "      <th></th>\n",
       "      <th>class</th>\n",
       "      <th>a1</th>\n",
       "      <th>a2</th>\n",
       "      <th>a3</th>\n",
       "      <th>a4</th>\n",
       "      <th>a5</th>\n",
       "      <th>a6</th>\n",
       "    </tr>\n",
       "  </thead>\n",
       "  <tbody>\n",
       "    <tr>\n",
       "      <th>0</th>\n",
       "      <td>1</td>\n",
       "      <td>1</td>\n",
       "      <td>1</td>\n",
       "      <td>1</td>\n",
       "      <td>1</td>\n",
       "      <td>3</td>\n",
       "      <td>1</td>\n",
       "    </tr>\n",
       "    <tr>\n",
       "      <th>1</th>\n",
       "      <td>1</td>\n",
       "      <td>1</td>\n",
       "      <td>1</td>\n",
       "      <td>1</td>\n",
       "      <td>1</td>\n",
       "      <td>3</td>\n",
       "      <td>2</td>\n",
       "    </tr>\n",
       "    <tr>\n",
       "      <th>2</th>\n",
       "      <td>1</td>\n",
       "      <td>1</td>\n",
       "      <td>1</td>\n",
       "      <td>1</td>\n",
       "      <td>3</td>\n",
       "      <td>2</td>\n",
       "      <td>1</td>\n",
       "    </tr>\n",
       "    <tr>\n",
       "      <th>3</th>\n",
       "      <td>1</td>\n",
       "      <td>1</td>\n",
       "      <td>1</td>\n",
       "      <td>1</td>\n",
       "      <td>3</td>\n",
       "      <td>3</td>\n",
       "      <td>2</td>\n",
       "    </tr>\n",
       "    <tr>\n",
       "      <th>4</th>\n",
       "      <td>1</td>\n",
       "      <td>1</td>\n",
       "      <td>1</td>\n",
       "      <td>2</td>\n",
       "      <td>1</td>\n",
       "      <td>2</td>\n",
       "      <td>1</td>\n",
       "    </tr>\n",
       "  </tbody>\n",
       "</table>\n",
       "</div>"
      ],
      "text/plain": [
       "   class  a1  a2  a3  a4  a5  a6\n",
       "0      1   1   1   1   1   3   1\n",
       "1      1   1   1   1   1   3   2\n",
       "2      1   1   1   1   3   2   1\n",
       "3      1   1   1   1   3   3   2\n",
       "4      1   1   1   2   1   2   1"
      ]
     },
     "execution_count": 8,
     "metadata": {},
     "output_type": "execute_result"
    }
   ],
   "source": [
    "df_monk1_train.head() #first column is the target (can be either 0 or 1)"
   ]
  },
  {
   "cell_type": "code",
   "execution_count": 9,
   "id": "announced-zealand",
   "metadata": {
    "cell_id": "00011-1bc9168b-9ca9-4067-baa9-e66238655971",
    "deepnote_cell_type": "code",
    "deepnote_to_be_reexecuted": false,
    "execution_millis": 1,
    "execution_start": 1639949783142,
    "source_hash": "e12ddd86",
    "tags": []
   },
   "outputs": [],
   "source": [
    "def split_train_test(df_monk_train, df_monk_test):\n",
    "    target_train = df_monk_train[['class']]\n",
    "    df_monk_train.drop(labels='class', axis=1, inplace=True)\n",
    "    target_test = df_monk_test[['class']]\n",
    "    df_monk_test.drop(labels='class', axis=1, inplace=True)\n",
    "    X_train = df_monk_train.values #returns a ndarray\n",
    "    y_train = target_train.values.ravel() #flattens the array into a 1-dimensional array\n",
    "    X_test = df_monk_test.values\n",
    "    y_test = target_test.values.ravel()\n",
    "\n",
    "    return X_train, y_train, X_test, y_test"
   ]
  },
  {
   "cell_type": "markdown",
   "id": "intensive-nightlife",
   "metadata": {
    "cell_id": "00012-3c38b317-e420-4e0c-88cd-c12833336f87",
    "deepnote_cell_type": "markdown",
    "tags": []
   },
   "source": [
    "### Splitting the MONK1 dataset into train and test set"
   ]
  },
  {
   "cell_type": "code",
   "execution_count": 10,
   "id": "capable-humor",
   "metadata": {
    "cell_id": "00012-23d2d223-d052-45a0-9827-af2e7f10aa47",
    "deepnote_cell_type": "code",
    "deepnote_output_heights": [
     611
    ],
    "deepnote_to_be_reexecuted": false,
    "execution_millis": 0,
    "execution_start": 1639949783143,
    "source_hash": "ea61b89e",
    "tags": []
   },
   "outputs": [],
   "source": [
    "X_train_M1, y_train_M1, X_test_M1, y_test_M1 = split_train_test(df_monk1_train, df_monk1_test)"
   ]
  },
  {
   "cell_type": "markdown",
   "id": "incredible-charger",
   "metadata": {
    "cell_id": "00013-e9ed08e1-8231-46ab-8e39-4033e01f6195",
    "deepnote_cell_type": "markdown",
    "tags": []
   },
   "source": [
    "### One hot encoding of MONK1\n",
    "In the MONK dataset we have the categories encoded using label encoding (e.g. 0,1,2,..), we need to use one hot encoding in order to have better results (e.g. 001, 010, ..). "
   ]
  },
  {
   "cell_type": "code",
   "execution_count": 11,
   "id": "complete-dress",
   "metadata": {
    "cell_id": "00013-60208cfc-c403-487e-ab14-9b3f9ac379a8",
    "deepnote_cell_type": "code",
    "deepnote_output_heights": [
     21.1875
    ],
    "deepnote_to_be_reexecuted": false,
    "execution_millis": 1,
    "execution_start": 1639949783144,
    "source_hash": "7d1623e9",
    "tags": []
   },
   "outputs": [
    {
     "name": "stdout",
     "output_type": "stream",
     "text": [
      "(124, 17)\n",
      "(432, 17)\n"
     ]
    }
   ],
   "source": [
    "enc_train = OneHotEncoder()\n",
    "enc_train.fit(X_train_M1)\n",
    "X_train_M1 = enc_train.transform(X_train_M1).toarray()\n",
    "print(X_train_M1.shape)\n",
    "\n",
    "enc_test = OneHotEncoder()\n",
    "enc_test.fit(X_test_M1)\n",
    "X_test_M1 = enc_test.transform(X_test_M1).toarray()\n",
    "print(X_test_M1.shape)"
   ]
  },
  {
   "cell_type": "markdown",
   "id": "hazardous-apache",
   "metadata": {
    "cell_id": "00016-1839d0e0-439a-40f8-b782-352342d774c9",
    "deepnote_cell_type": "markdown",
    "tags": []
   },
   "source": [
    "### Training phase for MONK1\n",
    "We train a simple classifier using batch size = 1 (for the MONK dataset it is not necessary to do the hyperparameter tuning)"
   ]
  },
  {
   "cell_type": "code",
   "execution_count": 12,
   "id": "psychological-graduation",
   "metadata": {
    "cell_id": "00011-555aae2c-d384-41de-8a28-9d3dd534d2eb",
    "deepnote_cell_type": "code",
    "deepnote_to_be_reexecuted": false,
    "execution_millis": 3873,
    "execution_start": 1639949783147,
    "source_hash": "4978757f",
    "tags": []
   },
   "outputs": [],
   "source": [
    "classifier_M1 = MLPClassifier(random_state=69, batch_size=1).fit(X_train_M1, y_train_M1)\n",
    "eval_model = MLPClassifier(random_state=69, batch_size=1)"
   ]
  },
  {
   "cell_type": "code",
   "execution_count": 13,
   "id": "catholic-delicious",
   "metadata": {
    "cell_id": "00021-1266891b-0a23-4d51-8051-b17044645778",
    "deepnote_cell_type": "code",
    "deepnote_to_be_reexecuted": false,
    "execution_millis": 44,
    "execution_start": 1639949787026,
    "source_hash": "f0867d64",
    "tags": []
   },
   "outputs": [],
   "source": [
    "#trains the model with one iteration (epoch) and computes in output a list of train and test scores using MEE\n",
    "def fit_and_score_monk(epochs, eval_model, X_train, y_train, X_test, y_test):\n",
    "    train_scores = []\n",
    "    test_scores = []\n",
    "    train_loss = []\n",
    "    test_loss = []\n",
    "\n",
    "    for i in range(epochs):\n",
    "        eval_model = eval_model.partial_fit(X_train,y_train, classes = np.unique(y_train))\n",
    "        y_train_predicted = eval_model.predict(X_train)\n",
    "        y_test_predicted = eval_model.predict(X_test)\n",
    "        #results on train set\n",
    "        train_loss.append(mean_squared_error(y_train, y_train_predicted))\n",
    "        train_scores.append(accuracy_score(y_train, y_train_predicted))\n",
    "        #result on test set\n",
    "        test_loss.append(mean_squared_error(y_test, y_test_predicted))\n",
    "        test_scores.append(accuracy_score(y_test, y_test_predicted))\n",
    "    return train_scores, test_scores, train_loss, test_loss\n"
   ]
  },
  {
   "cell_type": "code",
   "execution_count": 14,
   "id": "minute-opinion",
   "metadata": {
    "cell_id": "00022-d81f85c3-0e19-4662-a0a2-53bf9d2af796",
    "deepnote_cell_type": "code",
    "deepnote_output_heights": [
     40.375
    ],
    "deepnote_to_be_reexecuted": false,
    "execution_millis": 8296,
    "execution_start": 1639949787070,
    "source_hash": "5b6c1681",
    "tags": []
   },
   "outputs": [],
   "source": [
    "train_scores_M1, test_scores_M1, train_loss_M1, test_loss_M1 = fit_and_score_monk(classifier_M1.n_iter_, eval_model, X_train_M1, y_train_M1, X_test_M1, y_test_M1)"
   ]
  },
  {
   "cell_type": "markdown",
   "id": "extra-miller",
   "metadata": {
    "cell_id": "00021-ee4aa643-bff9-4588-b237-c5902a562637",
    "deepnote_cell_type": "markdown",
    "tags": []
   },
   "source": [
    "### Loss curve for MONK1"
   ]
  },
  {
   "cell_type": "code",
   "execution_count": 15,
   "id": "bridal-example",
   "metadata": {
    "cell_id": "00024-f7669179-4d4a-4820-89e1-10c5be1db94b",
    "deepnote_cell_type": "code",
    "deepnote_to_be_reexecuted": false,
    "execution_millis": 5,
    "execution_start": 1639949795370,
    "source_hash": "fe0bd595",
    "tags": []
   },
   "outputs": [],
   "source": [
    "def plot_learning_curves(train_scores, test_scores, epochs, y_label):\n",
    "    plt.figure(figsize=(10,8))\n",
    "    plt.plot(range(0,epochs), train_scores, label = \"Training error\", linestyle='dashed')\n",
    "    plt.plot(range(0,epochs), test_scores, label = \"Test error\")\n",
    "    plt.legend()\n",
    "    plt.ylabel(y_label)\n",
    "    plt.xlabel('Epoch');"
   ]
  },
  {
   "cell_type": "code",
   "execution_count": 16,
   "id": "driven-artist",
   "metadata": {
    "cell_id": "00015-6a9921fd-01c5-49e2-a2b3-bda9f06099d8",
    "deepnote_cell_type": "code",
    "deepnote_output_heights": [
     482
    ],
    "deepnote_to_be_reexecuted": false,
    "execution_millis": 407,
    "execution_start": 1639949795381,
    "source_hash": "517787aa",
    "tags": []
   },
   "outputs": [
    {
     "data": {
      "image/png": "[encoded data removed]",
      "text/plain": [
       "<Figure size 720x576 with 1 Axes>"
      ]
     },
     "metadata": {
      "needs_background": "light"
     },
     "output_type": "display_data"
    }
   ],
   "source": [
    "plot_learning_curves(train_loss_M1, test_loss_M1, classifier_M1.n_iter_, 'Loss (MSE)')"
   ]
  },
  {
   "cell_type": "markdown",
   "id": "minus-sender",
   "metadata": {
    "cell_id": "00023-5cefb34c-77d9-4b0d-a5ab-12e36354284c",
    "deepnote_cell_type": "markdown",
    "tags": []
   },
   "source": [
    "### Learning curves for MONK1"
   ]
  },
  {
   "cell_type": "code",
   "execution_count": 17,
   "id": "grand-second",
   "metadata": {
    "cell_id": "00027-03d612eb-a123-43d4-899b-825c10fe275b",
    "deepnote_cell_type": "code",
    "deepnote_output_heights": [
     482
    ],
    "deepnote_to_be_reexecuted": false,
    "execution_millis": 286,
    "execution_start": 1639949795831,
    "source_hash": "84ff1bd8",
    "tags": []
   },
   "outputs": [
    {
     "data": {
      "image/png": "[encoded data removed]",
      "text/plain": [
       "<Figure size 720x576 with 1 Axes>"
      ]
     },
     "metadata": {
      "needs_background": "light"
     },
     "output_type": "display_data"
    }
   ],
   "source": [
    "plot_learning_curves(train_scores_M1, test_scores_M1, classifier_M1.n_iter_, 'Accuracy')"
   ]
  },
  {
   "cell_type": "markdown",
   "id": "blank-screw",
   "metadata": {
    "cell_id": "00028-6de75766-a961-4493-8c75-6873af40ed1b",
    "deepnote_cell_type": "markdown",
    "tags": []
   },
   "source": [
    "### Accuracy and MEE for MONK1"
   ]
  },
  {
   "cell_type": "code",
   "execution_count": 18,
   "id": "victorian-calvin",
   "metadata": {
    "cell_id": "00016-6f9c75ff-8e4d-4aa6-8614-426998a3229d",
    "deepnote_cell_type": "code",
    "deepnote_output_heights": [
     264,
     264
    ],
    "deepnote_to_be_reexecuted": false,
    "execution_millis": 9,
    "execution_start": 1639949796125,
    "source_hash": "234d2bb0",
    "tags": []
   },
   "outputs": [
    {
     "name": "stdout",
     "output_type": "stream",
     "text": [
      "Accuracy on MONK1: 1.0\n",
      "MEE on MONK1: 0.0\n"
     ]
    }
   ],
   "source": [
    "y_predicted_M1 = classifier_M1.predict(X_test_M1)\n",
    "print(f\"Accuracy on MONK1: {classifier_M1.score(X_test_M1, y_test_M1)}\")\n",
    "print(f\"MEE on MONK1: {(np.linalg.norm(y_predicted_M1-y_test_M1))}\") # MEE distance (a.k.a. norm 2)"
   ]
  },
  {
   "cell_type": "markdown",
   "id": "animal-swiss",
   "metadata": {
    "cell_id": "00018-ed3499e4-5fe7-477b-8af4-729f9be5b5e8",
    "deepnote_cell_type": "markdown",
    "tags": []
   },
   "source": [
    "### MONK2"
   ]
  },
  {
   "cell_type": "markdown",
   "id": "athletic-basis",
   "metadata": {
    "cell_id": "00030-b8a8f664-3925-45d9-8c8d-d44e8e1f15ed",
    "deepnote_cell_type": "markdown",
    "tags": []
   },
   "source": [
    "### Loading MONK2 dataset"
   ]
  },
  {
   "cell_type": "code",
   "execution_count": 19,
   "id": "potential-wound",
   "metadata": {
    "cell_id": "00019-bf7f4cdf-04cd-4d7c-a9d7-700f5d067cc7",
    "deepnote_cell_type": "code",
    "deepnote_to_be_reexecuted": false,
    "execution_millis": 0,
    "execution_start": 1639949796181,
    "source_hash": "ef7d28c4",
    "tags": []
   },
   "outputs": [],
   "source": [
    "df_monk2_train, df_monk2_test = load_monk('./data/MONK/monks-2.train', './data/MONK/monks-2.test')"
   ]
  },
  {
   "cell_type": "code",
   "execution_count": 20,
   "id": "amateur-church",
   "metadata": {
    "cell_id": "00019-657c5239-6512-4cfc-bd63-75ad9850f856",
    "deepnote_cell_type": "code",
    "deepnote_output_heights": [
     21.1875
    ],
    "deepnote_to_be_reexecuted": false,
    "execution_millis": 55,
    "execution_start": 1639949796182,
    "source_hash": "7cc753f1",
    "tags": []
   },
   "outputs": [
    {
     "data": {
      "text/html": [
       "<div>\n",
       "<style scoped>\n",
       "    .dataframe tbody tr th:only-of-type {\n",
       "        vertical-align: middle;\n",
       "    }\n",
       "\n",
       "    .dataframe tbody tr th {\n",
       "        vertical-align: top;\n",
       "    }\n",
       "\n",
       "    .dataframe thead th {\n",
       "        text-align: right;\n",
       "    }\n",
       "</style>\n",
       "<table border=\"1\" class=\"dataframe\">\n",
       "  <thead>\n",
       "    <tr style=\"text-align: right;\">\n",
       "      <th></th>\n",
       "      <th>class</th>\n",
       "      <th>a1</th>\n",
       "      <th>a2</th>\n",
       "      <th>a3</th>\n",
       "      <th>a4</th>\n",
       "      <th>a5</th>\n",
       "      <th>a6</th>\n",
       "    </tr>\n",
       "  </thead>\n",
       "  <tbody>\n",
       "    <tr>\n",
       "      <th>0</th>\n",
       "      <td>0</td>\n",
       "      <td>1</td>\n",
       "      <td>1</td>\n",
       "      <td>1</td>\n",
       "      <td>1</td>\n",
       "      <td>2</td>\n",
       "      <td>2</td>\n",
       "    </tr>\n",
       "    <tr>\n",
       "      <th>1</th>\n",
       "      <td>0</td>\n",
       "      <td>1</td>\n",
       "      <td>1</td>\n",
       "      <td>1</td>\n",
       "      <td>1</td>\n",
       "      <td>4</td>\n",
       "      <td>1</td>\n",
       "    </tr>\n",
       "    <tr>\n",
       "      <th>2</th>\n",
       "      <td>0</td>\n",
       "      <td>1</td>\n",
       "      <td>1</td>\n",
       "      <td>1</td>\n",
       "      <td>2</td>\n",
       "      <td>1</td>\n",
       "      <td>1</td>\n",
       "    </tr>\n",
       "    <tr>\n",
       "      <th>3</th>\n",
       "      <td>0</td>\n",
       "      <td>1</td>\n",
       "      <td>1</td>\n",
       "      <td>1</td>\n",
       "      <td>2</td>\n",
       "      <td>1</td>\n",
       "      <td>2</td>\n",
       "    </tr>\n",
       "    <tr>\n",
       "      <th>4</th>\n",
       "      <td>0</td>\n",
       "      <td>1</td>\n",
       "      <td>1</td>\n",
       "      <td>1</td>\n",
       "      <td>2</td>\n",
       "      <td>2</td>\n",
       "      <td>1</td>\n",
       "    </tr>\n",
       "  </tbody>\n",
       "</table>\n",
       "</div>"
      ],
      "text/plain": [
       "   class  a1  a2  a3  a4  a5  a6\n",
       "0      0   1   1   1   1   2   2\n",
       "1      0   1   1   1   1   4   1\n",
       "2      0   1   1   1   2   1   1\n",
       "3      0   1   1   1   2   1   2\n",
       "4      0   1   1   1   2   2   1"
      ]
     },
     "execution_count": 20,
     "metadata": {},
     "output_type": "execute_result"
    }
   ],
   "source": [
    "df_monk2_train.head() #first column is the target (can be either 0 or 1)"
   ]
  },
  {
   "cell_type": "markdown",
   "id": "varied-cutting",
   "metadata": {
    "cell_id": "00033-216bf6bc-4e9b-4c3f-beeb-0d9b0ee9c586",
    "deepnote_cell_type": "markdown",
    "tags": []
   },
   "source": [
    "### Splitting MONK2 dataset"
   ]
  },
  {
   "cell_type": "code",
   "execution_count": 21,
   "id": "parental-swing",
   "metadata": {
    "cell_id": "00020-8853060c-1985-4bb1-81ed-f81e6dfba175",
    "deepnote_cell_type": "code",
    "deepnote_to_be_reexecuted": false,
    "execution_millis": 0,
    "execution_start": 1639949796284,
    "source_hash": "91aea900",
    "tags": []
   },
   "outputs": [],
   "source": [
    "X_train_M2, y_train_M2, X_test_M2, y_test_M2 = split_train_test(df_monk2_train, df_monk2_test)"
   ]
  },
  {
   "cell_type": "markdown",
   "id": "suited-division",
   "metadata": {
    "cell_id": "00035-e876aced-2d81-4822-bb04-e19b371d4736",
    "deepnote_cell_type": "markdown",
    "tags": []
   },
   "source": [
    "### One hot encoding on MONK2"
   ]
  },
  {
   "cell_type": "code",
   "execution_count": 22,
   "id": "protecting-diary",
   "metadata": {
    "cell_id": "00021-f5c3c5ed-af3f-4331-b81b-6b2f4d50b9fe",
    "deepnote_cell_type": "code",
    "deepnote_to_be_reexecuted": false,
    "execution_millis": 3,
    "execution_start": 1639949796285,
    "source_hash": "25b72f0c",
    "tags": []
   },
   "outputs": [
    {
     "name": "stdout",
     "output_type": "stream",
     "text": [
      "(169, 17)\n",
      "(432, 17)\n"
     ]
    }
   ],
   "source": [
    "enc_train = OneHotEncoder()\n",
    "enc_train.fit(X_train_M2)\n",
    "X_train_M2 = enc_train.transform(X_train_M2).toarray()\n",
    "print(X_train_M2.shape)\n",
    "\n",
    "enc_test = OneHotEncoder()\n",
    "enc_test.fit(X_test_M2)\n",
    "X_test_M2 = enc_test.transform(X_test_M2).toarray()\n",
    "print(X_test_M2.shape)"
   ]
  },
  {
   "cell_type": "markdown",
   "id": "portuguese-harvest",
   "metadata": {
    "cell_id": "00037-d53fd99c-8e5d-4206-b838-b62b475e4721",
    "deepnote_cell_type": "markdown",
    "tags": []
   },
   "source": [
    "### Training phase for MONK2"
   ]
  },
  {
   "cell_type": "code",
   "execution_count": 23,
   "id": "closing-basic",
   "metadata": {
    "cell_id": "00021-fdf6d727-ff1a-4928-a0df-25e0ae477b0f",
    "deepnote_cell_type": "code",
    "deepnote_to_be_reexecuted": false,
    "execution_millis": 3775,
    "execution_start": 1639949796285,
    "source_hash": "ee856055",
    "tags": []
   },
   "outputs": [],
   "source": [
    "classifier_M2 = MLPClassifier(random_state=69, batch_size=1).fit(X_train_M2, y_train_M2)\n",
    "eval_model = MLPClassifier(random_state=69, batch_size=1)"
   ]
  },
  {
   "cell_type": "code",
   "execution_count": 24,
   "id": "basic-jonathan",
   "metadata": {
    "cell_id": "00039-e7579a0a-c9c8-4b6b-a3d2-db3395d84d43",
    "deepnote_cell_type": "code",
    "deepnote_to_be_reexecuted": false,
    "execution_millis": 9882,
    "execution_start": 1639949800065,
    "source_hash": "ab9f4bb6",
    "tags": []
   },
   "outputs": [],
   "source": [
    "train_scores_M2, test_scores_M2, train_loss_M2, test_loss_M2 = fit_and_score_monk(classifier_M2.n_iter_, eval_model, X_train_M2, y_train_M2, X_test_M2, y_test_M2)"
   ]
  },
  {
   "cell_type": "markdown",
   "id": "sorted-observer",
   "metadata": {
    "cell_id": "00039-85f3702a-6c13-488d-a26c-5d04f92af0ba",
    "deepnote_cell_type": "markdown",
    "tags": []
   },
   "source": [
    "### Loss curve for MONK2"
   ]
  },
  {
   "cell_type": "code",
   "execution_count": 25,
   "id": "cellular-assignment",
   "metadata": {
    "cell_id": "00023-50ad5fe8-db26-4564-8036-19d50db125b2",
    "deepnote_cell_type": "code",
    "deepnote_output_heights": [
     482
    ],
    "deepnote_to_be_reexecuted": false,
    "execution_millis": 315,
    "execution_start": 1639949809955,
    "source_hash": "187ec63a",
    "tags": []
   },
   "outputs": [
    {
     "data": {
      "image/png": "[encoded data removed]",
      "text/plain": [
       "<Figure size 720x576 with 1 Axes>"
      ]
     },
     "metadata": {
      "needs_background": "light"
     },
     "output_type": "display_data"
    }
   ],
   "source": [
    "plot_learning_curves(train_loss_M2, test_loss_M2, classifier_M2.n_iter_, \"Loss (MSE)\")"
   ]
  },
  {
   "cell_type": "markdown",
   "id": "technical-washington",
   "metadata": {
    "cell_id": "00042-6cac84dd-c96c-41ea-923c-ceb57d9ce67f",
    "deepnote_cell_type": "markdown",
    "tags": []
   },
   "source": [
    "### Learning curves for MONK2"
   ]
  },
  {
   "cell_type": "code",
   "execution_count": 26,
   "id": "widespread-message",
   "metadata": {
    "cell_id": "00043-9e5831eb-a051-4720-ba5f-ab37632655c0",
    "deepnote_cell_type": "code",
    "deepnote_output_heights": [
     482
    ],
    "deepnote_to_be_reexecuted": false,
    "execution_millis": 281,
    "execution_start": 1639949810270,
    "source_hash": "5d3fa740",
    "tags": []
   },
   "outputs": [
    {
     "data": {
      "image/png": "[encoded data removed]",
      "text/plain": [
       "<Figure size 720x576 with 1 Axes>"
      ]
     },
     "metadata": {
      "needs_background": "light"
     },
     "output_type": "display_data"
    }
   ],
   "source": [
    "plot_learning_curves(train_scores_M2, test_scores_M2, classifier_M2.n_iter_, 'Accuracy')"
   ]
  },
  {
   "cell_type": "markdown",
   "id": "recent-paper",
   "metadata": {
    "cell_id": "00045-43d0463a-986f-4df7-b016-bb3cc1c4eb52",
    "deepnote_cell_type": "markdown",
    "tags": []
   },
   "source": [
    "### Accuracy and MEE on MONK2"
   ]
  },
  {
   "cell_type": "code",
   "execution_count": 27,
   "id": "martial-animation",
   "metadata": {
    "cell_id": "00024-f8b6e506-a611-4590-b950-3e716908c099",
    "deepnote_cell_type": "code",
    "deepnote_to_be_reexecuted": false,
    "execution_millis": 12,
    "execution_start": 1639949810557,
    "source_hash": "ae4af243",
    "tags": []
   },
   "outputs": [
    {
     "name": "stdout",
     "output_type": "stream",
     "text": [
      "Accuracy on MONK2: 1.0\n",
      "MEE on MONK2: 0.0\n"
     ]
    }
   ],
   "source": [
    "y_predicted_M2 = classifier_M2.predict(X_test_M2)\n",
    "print(f\"Accuracy on MONK2: {classifier_M2.score(X_test_M2, y_test_M2)}\")\n",
    "print(f\"MEE on MONK2: {(np.linalg.norm(y_predicted_M2-y_test_M2))}\") # MEE distance (a.k.a. norm 2)"
   ]
  },
  {
   "cell_type": "markdown",
   "id": "legal-assist",
   "metadata": {
    "cell_id": "00025-c03a1235-9d36-460b-91a7-a142c8aea2d4",
    "deepnote_cell_type": "markdown",
    "tags": []
   },
   "source": [
    "### MONK3"
   ]
  },
  {
   "cell_type": "markdown",
   "id": "unlikely-biotechnology",
   "metadata": {
    "cell_id": "00048-4cc2725e-8093-4652-ba50-2a9bb7685578",
    "deepnote_cell_type": "markdown",
    "tags": []
   },
   "source": [
    "### Loading MONK3 dataset"
   ]
  },
  {
   "cell_type": "code",
   "execution_count": 28,
   "id": "sitting-submission",
   "metadata": {
    "cell_id": "00026-7f0ac247-7df1-471d-86ad-4b33e3e799c9",
    "deepnote_cell_type": "code",
    "deepnote_to_be_reexecuted": false,
    "execution_millis": 25,
    "execution_start": 1639949810572,
    "source_hash": "882eb776",
    "tags": []
   },
   "outputs": [],
   "source": [
    "df_monk3_train, df_monk3_test = load_monk('./data/MONK/monks-3.train', './data/MONK/monks-3.test')"
   ]
  },
  {
   "cell_type": "code",
   "execution_count": 29,
   "id": "horizontal-hostel",
   "metadata": {
    "cell_id": "00027-056a023a-4f29-40fa-a994-1f0d63338ea9",
    "deepnote_cell_type": "code",
    "deepnote_to_be_reexecuted": false,
    "execution_millis": 22,
    "execution_start": 1639949810670,
    "source_hash": "628175ae",
    "tags": []
   },
   "outputs": [
    {
     "data": {
      "text/html": [
       "<div>\n",
       "<style scoped>\n",
       "    .dataframe tbody tr th:only-of-type {\n",
       "        vertical-align: middle;\n",
       "    }\n",
       "\n",
       "    .dataframe tbody tr th {\n",
       "        vertical-align: top;\n",
       "    }\n",
       "\n",
       "    .dataframe thead th {\n",
       "        text-align: right;\n",
       "    }\n",
       "</style>\n",
       "<table border=\"1\" class=\"dataframe\">\n",
       "  <thead>\n",
       "    <tr style=\"text-align: right;\">\n",
       "      <th></th>\n",
       "      <th>class</th>\n",
       "      <th>a1</th>\n",
       "      <th>a2</th>\n",
       "      <th>a3</th>\n",
       "      <th>a4</th>\n",
       "      <th>a5</th>\n",
       "      <th>a6</th>\n",
       "    </tr>\n",
       "  </thead>\n",
       "  <tbody>\n",
       "    <tr>\n",
       "      <th>0</th>\n",
       "      <td>1</td>\n",
       "      <td>1</td>\n",
       "      <td>1</td>\n",
       "      <td>1</td>\n",
       "      <td>1</td>\n",
       "      <td>1</td>\n",
       "      <td>2</td>\n",
       "    </tr>\n",
       "    <tr>\n",
       "      <th>1</th>\n",
       "      <td>1</td>\n",
       "      <td>1</td>\n",
       "      <td>1</td>\n",
       "      <td>1</td>\n",
       "      <td>1</td>\n",
       "      <td>2</td>\n",
       "      <td>1</td>\n",
       "    </tr>\n",
       "    <tr>\n",
       "      <th>2</th>\n",
       "      <td>1</td>\n",
       "      <td>1</td>\n",
       "      <td>1</td>\n",
       "      <td>1</td>\n",
       "      <td>1</td>\n",
       "      <td>2</td>\n",
       "      <td>2</td>\n",
       "    </tr>\n",
       "    <tr>\n",
       "      <th>3</th>\n",
       "      <td>0</td>\n",
       "      <td>1</td>\n",
       "      <td>1</td>\n",
       "      <td>1</td>\n",
       "      <td>1</td>\n",
       "      <td>3</td>\n",
       "      <td>1</td>\n",
       "    </tr>\n",
       "    <tr>\n",
       "      <th>4</th>\n",
       "      <td>0</td>\n",
       "      <td>1</td>\n",
       "      <td>1</td>\n",
       "      <td>1</td>\n",
       "      <td>1</td>\n",
       "      <td>4</td>\n",
       "      <td>1</td>\n",
       "    </tr>\n",
       "  </tbody>\n",
       "</table>\n",
       "</div>"
      ],
      "text/plain": [
       "   class  a1  a2  a3  a4  a5  a6\n",
       "0      1   1   1   1   1   1   2\n",
       "1      1   1   1   1   1   2   1\n",
       "2      1   1   1   1   1   2   2\n",
       "3      0   1   1   1   1   3   1\n",
       "4      0   1   1   1   1   4   1"
      ]
     },
     "execution_count": 29,
     "metadata": {},
     "output_type": "execute_result"
    }
   ],
   "source": [
    "df_monk3_train.head() #first column is the target (can be either 0 or 1)"
   ]
  },
  {
   "cell_type": "markdown",
   "id": "prospective-beauty",
   "metadata": {
    "cell_id": "00051-7d727c90-0273-44f5-9795-9860cd9bb36b",
    "deepnote_cell_type": "markdown",
    "tags": []
   },
   "source": [
    "### Splitting MONK3 dataset"
   ]
  },
  {
   "cell_type": "code",
   "execution_count": 30,
   "id": "raised-glossary",
   "metadata": {
    "cell_id": "00028-8ca44002-3174-4694-ba93-deacf418f54c",
    "deepnote_cell_type": "code",
    "deepnote_to_be_reexecuted": false,
    "execution_millis": 0,
    "execution_start": 1639949810739,
    "source_hash": "a1418039",
    "tags": []
   },
   "outputs": [],
   "source": [
    "X_train_M3, y_train_M3, X_test_M3, y_test_M3 = split_train_test(df_monk3_train, df_monk3_test)"
   ]
  },
  {
   "cell_type": "markdown",
   "id": "homeless-allen",
   "metadata": {
    "cell_id": "00053-79b113d1-28a9-42f1-a60d-f4046f036549",
    "deepnote_cell_type": "markdown",
    "tags": []
   },
   "source": [
    "### One hot encoding on MONK3"
   ]
  },
  {
   "cell_type": "code",
   "execution_count": 31,
   "id": "integrated-cooperation",
   "metadata": {
    "cell_id": "00029-ed3ccbdb-aa56-4112-b01a-2d8f8a4876be",
    "deepnote_cell_type": "code",
    "deepnote_to_be_reexecuted": false,
    "execution_millis": 271,
    "execution_start": 1639949810783,
    "source_hash": "7b938f1f",
    "tags": []
   },
   "outputs": [
    {
     "name": "stdout",
     "output_type": "stream",
     "text": [
      "(122, 17)\n",
      "(432, 17)\n"
     ]
    }
   ],
   "source": [
    "enc_train = OneHotEncoder()\n",
    "enc_train.fit(X_train_M3)\n",
    "X_train_M3 = enc_train.transform(X_train_M3).toarray()\n",
    "print(X_train_M3.shape)\n",
    "\n",
    "enc_test = OneHotEncoder()\n",
    "enc_test.fit(X_test_M3)\n",
    "X_test_M3 = enc_test.transform(X_test_M3).toarray()\n",
    "print(X_test_M3.shape)"
   ]
  },
  {
   "cell_type": "markdown",
   "id": "indonesian-universe",
   "metadata": {
    "cell_id": "00055-767c45fa-ae9a-442c-891a-84a43a15e8a3",
    "deepnote_cell_type": "markdown",
    "tags": []
   },
   "source": [
    "### Training phase on MONK3"
   ]
  },
  {
   "cell_type": "code",
   "execution_count": 32,
   "id": "elementary-finland",
   "metadata": {
    "cell_id": "00030-91805f62-b6cb-48ea-bc5f-6c07105f70a6",
    "deepnote_cell_type": "code",
    "deepnote_to_be_reexecuted": false,
    "execution_millis": 2874,
    "execution_start": 1639949810785,
    "source_hash": "d95f863c",
    "tags": []
   },
   "outputs": [],
   "source": [
    "classifier_M3 = MLPClassifier(random_state=69, batch_size=1, alpha=0.01).fit(X_train_M3, y_train_M3)\n",
    "eval_model = MLPClassifier(random_state=69, batch_size=1, alpha = 0.01)"
   ]
  },
  {
   "cell_type": "code",
   "execution_count": 33,
   "id": "postal-appraisal",
   "metadata": {
    "cell_id": "00057-e7c838fa-08a3-48da-8950-df6b7825fb9b",
    "deepnote_cell_type": "code",
    "deepnote_to_be_reexecuted": false,
    "execution_millis": 8824,
    "execution_start": 1639949813659,
    "source_hash": "c99473c1",
    "tags": []
   },
   "outputs": [],
   "source": [
    "train_scores_M3, test_scores_M3, train_loss_M3, test_loss_M3 = fit_and_score_monk(classifier_M3.n_iter_, eval_model, X_train_M3, y_train_M3, X_test_M3, y_test_M3)"
   ]
  },
  {
   "cell_type": "markdown",
   "id": "latest-creek",
   "metadata": {
    "cell_id": "00058-20db3155-0a03-45cc-b9a1-06fa3c4219b8",
    "deepnote_cell_type": "markdown",
    "tags": []
   },
   "source": [
    "### Loss curve for MONK3"
   ]
  },
  {
   "cell_type": "code",
   "execution_count": 34,
   "id": "collective-blocking",
   "metadata": {
    "cell_id": "00031-388f766f-4a89-4297-b010-a29e512920a4",
    "deepnote_cell_type": "code",
    "deepnote_output_heights": [
     482
    ],
    "deepnote_to_be_reexecuted": false,
    "execution_millis": 314,
    "execution_start": 1639949822483,
    "source_hash": "35bc25d2",
    "tags": []
   },
   "outputs": [
    {
     "data": {
      "image/png": "[encoded data removed]",
      "text/plain": [
       "<Figure size 720x576 with 1 Axes>"
      ]
     },
     "metadata": {
      "needs_background": "light"
     },
     "output_type": "display_data"
    }
   ],
   "source": [
    "plot_learning_curves(train_loss_M3, test_loss_M3, classifier_M3.n_iter_, \"Loss (MSE)\")"
   ]
  },
  {
   "cell_type": "markdown",
   "id": "standard-peace",
   "metadata": {
    "cell_id": "00060-0f1f4796-2b6d-4a25-8ce1-a9d08fca1d7d",
    "deepnote_cell_type": "markdown",
    "tags": []
   },
   "source": [
    "### Learning curves for MONK3"
   ]
  },
  {
   "cell_type": "code",
   "execution_count": 35,
   "id": "broke-barbados",
   "metadata": {
    "cell_id": "00061-60043da1-0b2d-4698-955f-98100f679b08",
    "deepnote_cell_type": "code",
    "deepnote_output_heights": [
     482
    ],
    "deepnote_to_be_reexecuted": false,
    "execution_millis": 264,
    "execution_start": 1639949822802,
    "source_hash": "ff5f65d9",
    "tags": []
   },
   "outputs": [
    {
     "data": {
      "image/png": "[encoded data removed]",
      "text/plain": [
       "<Figure size 720x576 with 1 Axes>"
      ]
     },
     "metadata": {
      "needs_background": "light"
     },
     "output_type": "display_data"
    }
   ],
   "source": [
    "plot_learning_curves(train_scores_M3, test_scores_M3, classifier_M3.n_iter_, 'Accuracy')\n",
    "#normal settings tends to overfit, alpha was increased in order to regularize the model "
   ]
  },
  {
   "cell_type": "code",
   "execution_count": 36,
   "id": "dried-enemy",
   "metadata": {
    "cell_id": "00032-be8eff03-9a6c-4415-a3d7-ea43a53603c0",
    "deepnote_cell_type": "code",
    "deepnote_to_be_reexecuted": false,
    "execution_millis": 13,
    "execution_start": 1639949823074,
    "source_hash": "afa418d",
    "tags": []
   },
   "outputs": [
    {
     "name": "stdout",
     "output_type": "stream",
     "text": [
      "Accuracy on MONK3: 0.9699074074074074\n",
      "MEE on MONK3: 3.605551275463989\n"
     ]
    }
   ],
   "source": [
    "y_predicted_M3 = classifier_M3.predict(X_test_M3)\n",
    "print(f\"Accuracy on MONK3: {classifier_M3.score(X_test_M3, y_test_M3)}\")\n",
    "print(f\"MEE on MONK3: {(np.linalg.norm(y_predicted_M3-y_test_M3))}\") # MEE distance (a.k.a. norm 2)"
   ]
  },
  {
   "cell_type": "markdown",
   "id": "superb-tonight",
   "metadata": {
    "cell_id": "00033-f377e8a8-d346-4c60-835a-b6b9f2df7021",
    "deepnote_cell_type": "markdown",
    "tags": []
   },
   "source": [
    "## Regression task"
   ]
  },
  {
   "cell_type": "markdown",
   "id": "incoming-obligation",
   "metadata": {
    "cell_id": "00064-2058d5d5-7564-4bea-932b-0c17b1a3c160",
    "deepnote_cell_type": "markdown",
    "tags": []
   },
   "source": [
    "### Preparing the training set"
   ]
  },
  {
   "cell_type": "code",
   "execution_count": 37,
   "id": "future-exhibit",
   "metadata": {
    "cell_id": "00034-07744eb7-186a-48ca-b217-0d7b58cd58b7",
    "deepnote_cell_type": "code",
    "deepnote_to_be_reexecuted": false,
    "execution_millis": 3,
    "execution_start": 1639949823091,
    "source_hash": "192dcf",
    "tags": []
   },
   "outputs": [],
   "source": [
    "df_task_tr.drop(labels=\"idx\", axis=1, inplace=True)"
   ]
  },
  {
   "cell_type": "code",
   "execution_count": 38,
   "id": "demonstrated-circumstances",
   "metadata": {
    "cell_id": "00035-8acb3216-3652-45bf-91f4-a801eaba46ac",
    "deepnote_cell_type": "code",
    "deepnote_to_be_reexecuted": false,
    "execution_millis": 0,
    "execution_start": 1639949823143,
    "source_hash": "adef5ee0",
    "tags": []
   },
   "outputs": [],
   "source": [
    "y = df_task_tr[['x','y']].values\n",
    "X = df_task_tr.drop(labels=['x','y'], axis=1).values"
   ]
  },
  {
   "cell_type": "code",
   "execution_count": 39,
   "id": "intimate-measurement",
   "metadata": {
    "cell_id": "00036-cd5f441c-e9e8-4aae-9ae2-35f1423cf422",
    "deepnote_cell_type": "code",
    "deepnote_to_be_reexecuted": false,
    "execution_millis": 7892148,
    "execution_start": 1639949823187,
    "source_hash": "473a37ed",
    "tags": []
   },
   "outputs": [
    {
     "name": "stdout",
     "output_type": "stream",
     "text": [
      "(1477, 10)\n",
      "(1477, 2)\n"
     ]
    }
   ],
   "source": [
    "print(X.shape)\n",
    "print(y.shape)"
   ]
  },
  {
   "cell_type": "markdown",
   "id": "thirty-interview",
   "metadata": {
    "cell_id": "00037-3313112a-3b16-420f-a0ae-c8178583d319",
    "deepnote_cell_type": "markdown",
    "tags": []
   },
   "source": [
    "### Internal Test set\n",
    "We split the training set obtaining an internal test set composed of the 20% of the training set, we will use this internal test set to test the generalization error"
   ]
  },
  {
   "cell_type": "code",
   "execution_count": 40,
   "id": "realistic-sequence",
   "metadata": {
    "cell_id": "00035-e835800e-5aa7-4b2e-af85-c104d99255f3",
    "deepnote_cell_type": "code",
    "deepnote_to_be_reexecuted": false,
    "execution_millis": 2,
    "execution_start": 1639949823188,
    "source_hash": "dd22124d",
    "tags": []
   },
   "outputs": [
    {
     "name": "stdout",
     "output_type": "stream",
     "text": [
      "X shape: (1329, 10)\n",
      "X internal test shape: (148, 10)\n",
      "y shape: (1329, 2)\n",
      "y internal test shape: (148, 2)\n"
     ]
    }
   ],
   "source": [
    "X, X_internal_test, y, y_internal_test = train_test_split(X, y, test_size=0.1, random_state=420)\n",
    "print(f\"X shape: {X.shape}\")\n",
    "print(f\"X internal test shape: {X_internal_test.shape}\")\n",
    "print(f\"y shape: {y.shape}\")\n",
    "print(f\"y internal test shape: {y_internal_test.shape}\")"
   ]
  },
  {
   "cell_type": "code",
   "execution_count": 41,
   "id": "accompanied-exclusion",
   "metadata": {
    "cell_id": "00052-5cffdfe0-8f87-4957-abcc-15ff679d9b9c",
    "deepnote_cell_type": "code",
    "deepnote_to_be_reexecuted": false,
    "execution_millis": 7892149,
    "execution_start": 1639949823193,
    "source_hash": "368f9bc8",
    "tags": []
   },
   "outputs": [],
   "source": [
    "#trains the model with one iteration (epoch) and computes in output a list of train and test scores using MEE\n",
    "def fit_and_score(epochs, eval_model, X_train, y_train, X_test, y_test):\n",
    "    train_scores = []\n",
    "    test_scores = []\n",
    "    train_loss = []\n",
    "    test_loss = []\n",
    "    for i in range(epochs):\n",
    "        eval_model = eval_model.partial_fit(X_train,y_train)\n",
    "        y_train_predicted = eval_model.predict(X_train)\n",
    "        y_test_predicted = eval_model.predict(X_test)\n",
    "        #results on train set\n",
    "        train_scores.append(mee(y_train, y_train_predicted))\n",
    "        test_scores.append(mean_squared_error(y_test, y_test_predicted))\n",
    "        #result on test set\n",
    "        train_loss.append(mee(y_train, y_train_predicted))\n",
    "        test_loss.append(mean_squared_error(y_test, y_test_predicted))\n",
    "    return train_scores, test_scores, train_loss, test_loss\n"
   ]
  },
  {
   "cell_type": "code",
   "execution_count": 42,
   "id": "trying-clarity",
   "metadata": {
    "cell_id": "00073-551d1b5a-34ea-438f-8836-496e3678516f",
    "deepnote_cell_type": "code",
    "deepnote_to_be_reexecuted": false,
    "execution_millis": 0,
    "execution_start": 1639949945739,
    "source_hash": "236d7250",
    "tags": []
   },
   "outputs": [],
   "source": [
    "def inv_mee(true_target, predicted_target):\n",
    "    return 1/mee(true_target, predicted_target)"
   ]
  },
  {
   "cell_type": "markdown",
   "id": "young-belarus",
   "metadata": {
    "cell_id": "00073-00634e3e-7aa5-4df0-88bd-6dcd2ac6f441",
    "deepnote_cell_type": "markdown",
    "tags": []
   },
   "source": [
    "## Randomized Search"
   ]
  },
  {
   "cell_type": "code",
   "execution_count": null,
   "id": "vanilla-korean",
   "metadata": {
    "cell_id": "00074-634a3d0e-014c-4ea9-817f-231f64a5896b",
    "deepnote_cell_type": "code",
    "deepnote_output_heights": [
     null,
     347.5
    ],
    "deepnote_to_be_reexecuted": false,
    "execution_millis": 1514989,
    "execution_start": 1639941931103,
    "source_hash": "80838b86",
    "tags": []
   },
   "outputs": [],
   "source": [
    "# to find the best set of parameter setting, we can run a grid search\n",
    "from sklearn.model_selection import RandomizedSearchCV\n",
    "from scipy.stats import uniform\n",
    "from scipy.stats import randint\n",
    "from sklearn.metrics import make_scorer\n",
    "\n",
    "# define the parameters' values\n",
    "params = {\n",
    "    \"hidden_layer_sizes\": [\n",
    "        (5,),\n",
    "        (10,),\n",
    "        (25,),\n",
    "        (50,),\n",
    "        (100,),\n",
    "        (5, 5),\n",
    "        (10, 10),\n",
    "        (25, 25),\n",
    "        (50, 50),\n",
    "        (100, 100),\n",
    "    ],\n",
    "    \"activation\" : [\"logistic\", \"tanh\", \"relu\"],\n",
    "    \"solver\": [\"sgd\", \"adam\"],\n",
    "    \"learning_rate\": [\"constant\", \"adaptive\", \"invscaling\"],\n",
    "    \"learning_rate_init\": uniform(0.01, 0.5),\n",
    "    \"alpha\": uniform(0.0001, 0.1),\n",
    "    \"batch_size\": randint(1, X.shape[0]),\n",
    "    \"n_iter_no_change\": [\n",
    "        10,\n",
    "        25,\n",
    "        50,\n",
    "    ],\n",
    "    \"random_state\": [69],\n",
    "    \"tol\": uniform(0.001,0.0001),\n",
    "    \"early_stopping\": [True],\n",
    "    \"validation_fraction\": [0.2],\n",
    "}\n",
    "# define the number of iterations\n",
    "n_iter_search = 1000\n",
    "# define the model\n",
    "regressor = MLPRegressor()\n",
    "# define number of k-folds\n",
    "k = 5\n",
    "# define the grid search\n",
    "rand_gs = RandomizedSearchCV(\n",
    "    regressor,\n",
    "    param_distributions=params,\n",
    "    n_iter=n_iter_search,\n",
    "    n_jobs=-1,\n",
    "    scoring=make_scorer(inv_mee), #scoring is based on the highest value\n",
    "    cv=k,\n",
    "    random_state=69,\n",
    ")\n",
    "# run the grid search\n",
    "rand_gs.fit(X, y)\n"
   ]
  },
  {
   "cell_type": "code",
   "execution_count": null,
   "id": "filled-viking",
   "metadata": {
    "cell_id": "00075-9ebaadf9-357d-4a86-a442-84851331e324",
    "deepnote_cell_type": "code",
    "deepnote_to_be_reexecuted": false,
    "execution_millis": 363,
    "execution_start": 1639949999395,
    "source_hash": "9b812e78",
    "tags": []
   },
   "outputs": [],
   "source": [
    "df_results = pd.DataFrame(data=rand_gs.cv_results_)\n",
    "pd.DataFrame.to_csv(df_results, \"sklearn_results/rand1_search.csv\")"
   ]
  },
  {
   "cell_type": "code",
   "execution_count": 43,
   "id": "dried-newark",
   "metadata": {
    "cell_id": "00078-45a1e674-58c1-4e66-ac38-2e9f8c40730d",
    "deepnote_cell_type": "code",
    "deepnote_output_heights": [
     21.1875
    ],
    "deepnote_table_loading": false,
    "deepnote_table_state": {
     "filters": [],
     "pageIndex": 0,
     "pageSize": 10,
     "sortBy": [
      {
       "id": "mean_test_score",
       "type": "desc"
      }
     ]
    },
    "deepnote_to_be_reexecuted": false,
    "execution_millis": 182,
    "execution_start": 1639943446372,
    "source_hash": "78a17a36",
    "tags": []
   },
   "outputs": [
    {
     "data": {
      "text/html": [
       "<div>\n",
       "<style scoped>\n",
       "    .dataframe tbody tr th:only-of-type {\n",
       "        vertical-align: middle;\n",
       "    }\n",
       "\n",
       "    .dataframe tbody tr th {\n",
       "        vertical-align: top;\n",
       "    }\n",
       "\n",
       "    .dataframe thead th {\n",
       "        text-align: right;\n",
       "    }\n",
       "</style>\n",
       "<table border=\"1\" class=\"dataframe\">\n",
       "  <thead>\n",
       "    <tr style=\"text-align: right;\">\n",
       "      <th></th>\n",
       "      <th>Unnamed: 0</th>\n",
       "      <th>mean_fit_time</th>\n",
       "      <th>std_fit_time</th>\n",
       "      <th>mean_score_time</th>\n",
       "      <th>std_score_time</th>\n",
       "      <th>param_activation</th>\n",
       "      <th>param_alpha</th>\n",
       "      <th>param_batch_size</th>\n",
       "      <th>param_early_stopping</th>\n",
       "      <th>param_hidden_layer_sizes</th>\n",
       "      <th>...</th>\n",
       "      <th>param_validation_fraction</th>\n",
       "      <th>params</th>\n",
       "      <th>split0_test_score</th>\n",
       "      <th>split1_test_score</th>\n",
       "      <th>split2_test_score</th>\n",
       "      <th>split3_test_score</th>\n",
       "      <th>split4_test_score</th>\n",
       "      <th>mean_test_score</th>\n",
       "      <th>std_test_score</th>\n",
       "      <th>rank_test_score</th>\n",
       "    </tr>\n",
       "  </thead>\n",
       "  <tbody>\n",
       "    <tr>\n",
       "      <th>0</th>\n",
       "      <td>0</td>\n",
       "      <td>0.078272</td>\n",
       "      <td>0.022680</td>\n",
       "      <td>0.009268</td>\n",
       "      <td>0.013332</td>\n",
       "      <td>relu</td>\n",
       "      <td>0.040258</td>\n",
       "      <td>620</td>\n",
       "      <td>True</td>\n",
       "      <td>(25, 25)</td>\n",
       "      <td>...</td>\n",
       "      <td>0.2</td>\n",
       "      <td>{'activation': 'relu', 'alpha': 0.040257871551...</td>\n",
       "      <td>0.000010</td>\n",
       "      <td>3.015314e-06</td>\n",
       "      <td>0.000412</td>\n",
       "      <td>0.000415</td>\n",
       "      <td>0.000460</td>\n",
       "      <td>0.000260</td>\n",
       "      <td>0.000208</td>\n",
       "      <td>858</td>\n",
       "    </tr>\n",
       "    <tr>\n",
       "      <th>1</th>\n",
       "      <td>1</td>\n",
       "      <td>0.826285</td>\n",
       "      <td>0.067064</td>\n",
       "      <td>0.003862</td>\n",
       "      <td>0.000989</td>\n",
       "      <td>logistic</td>\n",
       "      <td>0.005946</td>\n",
       "      <td>934</td>\n",
       "      <td>True</td>\n",
       "      <td>(100,)</td>\n",
       "      <td>...</td>\n",
       "      <td>0.2</td>\n",
       "      <td>{'activation': 'logistic', 'alpha': 0.00594607...</td>\n",
       "      <td>0.503839</td>\n",
       "      <td>4.997366e-01</td>\n",
       "      <td>0.541944</td>\n",
       "      <td>0.514527</td>\n",
       "      <td>0.527342</td>\n",
       "      <td>0.517478</td>\n",
       "      <td>0.015527</td>\n",
       "      <td>424</td>\n",
       "    </tr>\n",
       "    <tr>\n",
       "      <th>2</th>\n",
       "      <td>2</td>\n",
       "      <td>0.232082</td>\n",
       "      <td>0.038249</td>\n",
       "      <td>0.008691</td>\n",
       "      <td>0.011453</td>\n",
       "      <td>logistic</td>\n",
       "      <td>0.065970</td>\n",
       "      <td>1146</td>\n",
       "      <td>True</td>\n",
       "      <td>(25, 25)</td>\n",
       "      <td>...</td>\n",
       "      <td>0.2</td>\n",
       "      <td>{'activation': 'logistic', 'alpha': 0.06597006...</td>\n",
       "      <td>0.135755</td>\n",
       "      <td>1.405091e-01</td>\n",
       "      <td>0.135702</td>\n",
       "      <td>0.135196</td>\n",
       "      <td>0.139626</td>\n",
       "      <td>0.137358</td>\n",
       "      <td>0.002239</td>\n",
       "      <td>623</td>\n",
       "    </tr>\n",
       "    <tr>\n",
       "      <th>3</th>\n",
       "      <td>3</td>\n",
       "      <td>0.222298</td>\n",
       "      <td>0.072412</td>\n",
       "      <td>0.007075</td>\n",
       "      <td>0.009030</td>\n",
       "      <td>logistic</td>\n",
       "      <td>0.067915</td>\n",
       "      <td>783</td>\n",
       "      <td>True</td>\n",
       "      <td>(25, 25)</td>\n",
       "      <td>...</td>\n",
       "      <td>0.2</td>\n",
       "      <td>{'activation': 'logistic', 'alpha': 0.06791530...</td>\n",
       "      <td>0.134704</td>\n",
       "      <td>1.392802e-01</td>\n",
       "      <td>0.134467</td>\n",
       "      <td>0.135040</td>\n",
       "      <td>0.138695</td>\n",
       "      <td>0.136437</td>\n",
       "      <td>0.002098</td>\n",
       "      <td>651</td>\n",
       "    </tr>\n",
       "    <tr>\n",
       "      <th>4</th>\n",
       "      <td>4</td>\n",
       "      <td>0.012527</td>\n",
       "      <td>0.012561</td>\n",
       "      <td>0.000000</td>\n",
       "      <td>0.000000</td>\n",
       "      <td>relu</td>\n",
       "      <td>0.053191</td>\n",
       "      <td>114</td>\n",
       "      <td>True</td>\n",
       "      <td>(25,)</td>\n",
       "      <td>...</td>\n",
       "      <td>0.2</td>\n",
       "      <td>{'activation': 'relu', 'alpha': 0.053191437128...</td>\n",
       "      <td>NaN</td>\n",
       "      <td>NaN</td>\n",
       "      <td>NaN</td>\n",
       "      <td>NaN</td>\n",
       "      <td>NaN</td>\n",
       "      <td>NaN</td>\n",
       "      <td>NaN</td>\n",
       "      <td>932</td>\n",
       "    </tr>\n",
       "    <tr>\n",
       "      <th>5</th>\n",
       "      <td>5</td>\n",
       "      <td>0.800790</td>\n",
       "      <td>0.103963</td>\n",
       "      <td>0.003233</td>\n",
       "      <td>0.000613</td>\n",
       "      <td>tanh</td>\n",
       "      <td>0.045703</td>\n",
       "      <td>242</td>\n",
       "      <td>True</td>\n",
       "      <td>(50,)</td>\n",
       "      <td>...</td>\n",
       "      <td>0.2</td>\n",
       "      <td>{'activation': 'tanh', 'alpha': 0.045703303207...</td>\n",
       "      <td>0.000279</td>\n",
       "      <td>1.929501e-04</td>\n",
       "      <td>0.000281</td>\n",
       "      <td>0.000270</td>\n",
       "      <td>0.000250</td>\n",
       "      <td>0.000254</td>\n",
       "      <td>0.000033</td>\n",
       "      <td>859</td>\n",
       "    </tr>\n",
       "    <tr>\n",
       "      <th>6</th>\n",
       "      <td>6</td>\n",
       "      <td>1.297640</td>\n",
       "      <td>0.476333</td>\n",
       "      <td>0.003509</td>\n",
       "      <td>0.001121</td>\n",
       "      <td>relu</td>\n",
       "      <td>0.007688</td>\n",
       "      <td>197</td>\n",
       "      <td>True</td>\n",
       "      <td>(100, 100)</td>\n",
       "      <td>...</td>\n",
       "      <td>0.2</td>\n",
       "      <td>{'activation': 'relu', 'alpha': 0.007688166476...</td>\n",
       "      <td>0.134281</td>\n",
       "      <td>2.635843e-01</td>\n",
       "      <td>0.273547</td>\n",
       "      <td>0.284968</td>\n",
       "      <td>0.275579</td>\n",
       "      <td>0.246392</td>\n",
       "      <td>0.056466</td>\n",
       "      <td>568</td>\n",
       "    </tr>\n",
       "    <tr>\n",
       "      <th>7</th>\n",
       "      <td>7</td>\n",
       "      <td>0.470677</td>\n",
       "      <td>0.109982</td>\n",
       "      <td>0.003283</td>\n",
       "      <td>0.000632</td>\n",
       "      <td>logistic</td>\n",
       "      <td>0.096830</td>\n",
       "      <td>762</td>\n",
       "      <td>True</td>\n",
       "      <td>(50,)</td>\n",
       "      <td>...</td>\n",
       "      <td>0.2</td>\n",
       "      <td>{'activation': 'logistic', 'alpha': 0.09682960...</td>\n",
       "      <td>0.797484</td>\n",
       "      <td>8.237849e-01</td>\n",
       "      <td>0.892186</td>\n",
       "      <td>0.847628</td>\n",
       "      <td>0.872592</td>\n",
       "      <td>0.846735</td>\n",
       "      <td>0.033727</td>\n",
       "      <td>9</td>\n",
       "    </tr>\n",
       "    <tr>\n",
       "      <th>8</th>\n",
       "      <td>8</td>\n",
       "      <td>0.070460</td>\n",
       "      <td>0.025343</td>\n",
       "      <td>0.003746</td>\n",
       "      <td>0.000108</td>\n",
       "      <td>relu</td>\n",
       "      <td>0.053380</td>\n",
       "      <td>577</td>\n",
       "      <td>True</td>\n",
       "      <td>(5, 5)</td>\n",
       "      <td>...</td>\n",
       "      <td>0.2</td>\n",
       "      <td>{'activation': 'relu', 'alpha': 0.053380210836...</td>\n",
       "      <td>0.132652</td>\n",
       "      <td>1.391852e-01</td>\n",
       "      <td>0.134390</td>\n",
       "      <td>0.134791</td>\n",
       "      <td>0.139276</td>\n",
       "      <td>0.136059</td>\n",
       "      <td>0.002688</td>\n",
       "      <td>691</td>\n",
       "    </tr>\n",
       "    <tr>\n",
       "      <th>9</th>\n",
       "      <td>9</td>\n",
       "      <td>0.383381</td>\n",
       "      <td>0.651723</td>\n",
       "      <td>0.000494</td>\n",
       "      <td>0.000989</td>\n",
       "      <td>relu</td>\n",
       "      <td>0.064527</td>\n",
       "      <td>1265</td>\n",
       "      <td>True</td>\n",
       "      <td>(100, 100)</td>\n",
       "      <td>...</td>\n",
       "      <td>0.2</td>\n",
       "      <td>{'activation': 'relu', 'alpha': 0.064526573194...</td>\n",
       "      <td>NaN</td>\n",
       "      <td>2.115677e-04</td>\n",
       "      <td>NaN</td>\n",
       "      <td>NaN</td>\n",
       "      <td>NaN</td>\n",
       "      <td>NaN</td>\n",
       "      <td>NaN</td>\n",
       "      <td>909</td>\n",
       "    </tr>\n",
       "    <tr>\n",
       "      <th>10</th>\n",
       "      <td>10</td>\n",
       "      <td>0.049584</td>\n",
       "      <td>0.012738</td>\n",
       "      <td>0.000000</td>\n",
       "      <td>0.000000</td>\n",
       "      <td>relu</td>\n",
       "      <td>0.078618</td>\n",
       "      <td>719</td>\n",
       "      <td>True</td>\n",
       "      <td>(100, 100)</td>\n",
       "      <td>...</td>\n",
       "      <td>0.2</td>\n",
       "      <td>{'activation': 'relu', 'alpha': 0.078618408232...</td>\n",
       "      <td>NaN</td>\n",
       "      <td>NaN</td>\n",
       "      <td>NaN</td>\n",
       "      <td>NaN</td>\n",
       "      <td>NaN</td>\n",
       "      <td>NaN</td>\n",
       "      <td>NaN</td>\n",
       "      <td>911</td>\n",
       "    </tr>\n",
       "    <tr>\n",
       "      <th>11</th>\n",
       "      <td>11</td>\n",
       "      <td>0.228878</td>\n",
       "      <td>0.017161</td>\n",
       "      <td>0.003449</td>\n",
       "      <td>0.000413</td>\n",
       "      <td>logistic</td>\n",
       "      <td>0.045528</td>\n",
       "      <td>1186</td>\n",
       "      <td>True</td>\n",
       "      <td>(10,)</td>\n",
       "      <td>...</td>\n",
       "      <td>0.2</td>\n",
       "      <td>{'activation': 'logistic', 'alpha': 0.04552770...</td>\n",
       "      <td>0.709542</td>\n",
       "      <td>6.576747e-01</td>\n",
       "      <td>0.727828</td>\n",
       "      <td>0.701726</td>\n",
       "      <td>0.682236</td>\n",
       "      <td>0.695801</td>\n",
       "      <td>0.024030</td>\n",
       "      <td>270</td>\n",
       "    </tr>\n",
       "    <tr>\n",
       "      <th>12</th>\n",
       "      <td>12</td>\n",
       "      <td>0.080397</td>\n",
       "      <td>0.040700</td>\n",
       "      <td>0.001647</td>\n",
       "      <td>0.002024</td>\n",
       "      <td>relu</td>\n",
       "      <td>0.091531</td>\n",
       "      <td>1152</td>\n",
       "      <td>True</td>\n",
       "      <td>(100, 100)</td>\n",
       "      <td>...</td>\n",
       "      <td>0.2</td>\n",
       "      <td>{'activation': 'relu', 'alpha': 0.091531440413...</td>\n",
       "      <td>NaN</td>\n",
       "      <td>1.841034e-04</td>\n",
       "      <td>NaN</td>\n",
       "      <td>NaN</td>\n",
       "      <td>0.000167</td>\n",
       "      <td>NaN</td>\n",
       "      <td>NaN</td>\n",
       "      <td>913</td>\n",
       "    </tr>\n",
       "    <tr>\n",
       "      <th>13</th>\n",
       "      <td>13</td>\n",
       "      <td>0.225731</td>\n",
       "      <td>0.152199</td>\n",
       "      <td>0.009698</td>\n",
       "      <td>0.010290</td>\n",
       "      <td>logistic</td>\n",
       "      <td>0.026643</td>\n",
       "      <td>934</td>\n",
       "      <td>True</td>\n",
       "      <td>(50, 50)</td>\n",
       "      <td>...</td>\n",
       "      <td>0.2</td>\n",
       "      <td>{'activation': 'logistic', 'alpha': 0.02664290...</td>\n",
       "      <td>0.134257</td>\n",
       "      <td>1.347558e-01</td>\n",
       "      <td>0.131533</td>\n",
       "      <td>0.134854</td>\n",
       "      <td>0.133872</td>\n",
       "      <td>0.133854</td>\n",
       "      <td>0.001213</td>\n",
       "      <td>729</td>\n",
       "    </tr>\n",
       "    <tr>\n",
       "      <th>14</th>\n",
       "      <td>14</td>\n",
       "      <td>1.124019</td>\n",
       "      <td>0.478481</td>\n",
       "      <td>0.004749</td>\n",
       "      <td>0.001221</td>\n",
       "      <td>tanh</td>\n",
       "      <td>0.054135</td>\n",
       "      <td>881</td>\n",
       "      <td>True</td>\n",
       "      <td>(100, 100)</td>\n",
       "      <td>...</td>\n",
       "      <td>0.2</td>\n",
       "      <td>{'activation': 'tanh', 'alpha': 0.054135142362...</td>\n",
       "      <td>0.462330</td>\n",
       "      <td>3.774439e-01</td>\n",
       "      <td>0.437261</td>\n",
       "      <td>0.366226</td>\n",
       "      <td>0.209428</td>\n",
       "      <td>0.370538</td>\n",
       "      <td>0.088205</td>\n",
       "      <td>504</td>\n",
       "    </tr>\n",
       "    <tr>\n",
       "      <th>15</th>\n",
       "      <td>15</td>\n",
       "      <td>0.262726</td>\n",
       "      <td>0.041705</td>\n",
       "      <td>0.003479</td>\n",
       "      <td>0.000829</td>\n",
       "      <td>tanh</td>\n",
       "      <td>0.002675</td>\n",
       "      <td>1264</td>\n",
       "      <td>True</td>\n",
       "      <td>(5,)</td>\n",
       "      <td>...</td>\n",
       "      <td>0.2</td>\n",
       "      <td>{'activation': 'tanh', 'alpha': 0.002674943427...</td>\n",
       "      <td>0.442315</td>\n",
       "      <td>4.001957e-01</td>\n",
       "      <td>0.500543</td>\n",
       "      <td>0.441661</td>\n",
       "      <td>0.493245</td>\n",
       "      <td>0.455592</td>\n",
       "      <td>0.037088</td>\n",
       "      <td>464</td>\n",
       "    </tr>\n",
       "    <tr>\n",
       "      <th>16</th>\n",
       "      <td>16</td>\n",
       "      <td>0.636640</td>\n",
       "      <td>0.162190</td>\n",
       "      <td>0.002688</td>\n",
       "      <td>0.000796</td>\n",
       "      <td>tanh</td>\n",
       "      <td>0.020330</td>\n",
       "      <td>766</td>\n",
       "      <td>True</td>\n",
       "      <td>(10, 10)</td>\n",
       "      <td>...</td>\n",
       "      <td>0.2</td>\n",
       "      <td>{'activation': 'tanh', 'alpha': 0.020329747459...</td>\n",
       "      <td>0.640812</td>\n",
       "      <td>5.910181e-01</td>\n",
       "      <td>0.781284</td>\n",
       "      <td>0.685326</td>\n",
       "      <td>0.711903</td>\n",
       "      <td>0.682068</td>\n",
       "      <td>0.064400</td>\n",
       "      <td>296</td>\n",
       "    </tr>\n",
       "    <tr>\n",
       "      <th>17</th>\n",
       "      <td>17</td>\n",
       "      <td>0.391255</td>\n",
       "      <td>0.043797</td>\n",
       "      <td>0.003451</td>\n",
       "      <td>0.000808</td>\n",
       "      <td>relu</td>\n",
       "      <td>0.059144</td>\n",
       "      <td>854</td>\n",
       "      <td>True</td>\n",
       "      <td>(50,)</td>\n",
       "      <td>...</td>\n",
       "      <td>0.2</td>\n",
       "      <td>{'activation': 'relu', 'alpha': 0.059144025260...</td>\n",
       "      <td>0.795775</td>\n",
       "      <td>7.917689e-01</td>\n",
       "      <td>0.875227</td>\n",
       "      <td>0.770929</td>\n",
       "      <td>0.779295</td>\n",
       "      <td>0.802599</td>\n",
       "      <td>0.037376</td>\n",
       "      <td>95</td>\n",
       "    </tr>\n",
       "    <tr>\n",
       "      <th>18</th>\n",
       "      <td>18</td>\n",
       "      <td>0.541716</td>\n",
       "      <td>0.080315</td>\n",
       "      <td>0.003638</td>\n",
       "      <td>0.000939</td>\n",
       "      <td>logistic</td>\n",
       "      <td>0.033240</td>\n",
       "      <td>812</td>\n",
       "      <td>True</td>\n",
       "      <td>(5,)</td>\n",
       "      <td>...</td>\n",
       "      <td>0.2</td>\n",
       "      <td>{'activation': 'logistic', 'alpha': 0.03324024...</td>\n",
       "      <td>0.686351</td>\n",
       "      <td>6.486313e-01</td>\n",
       "      <td>0.765309</td>\n",
       "      <td>0.658958</td>\n",
       "      <td>0.654019</td>\n",
       "      <td>0.682654</td>\n",
       "      <td>0.043323</td>\n",
       "      <td>292</td>\n",
       "    </tr>\n",
       "    <tr>\n",
       "      <th>19</th>\n",
       "      <td>19</td>\n",
       "      <td>0.067783</td>\n",
       "      <td>0.014437</td>\n",
       "      <td>0.003881</td>\n",
       "      <td>0.000256</td>\n",
       "      <td>tanh</td>\n",
       "      <td>0.077486</td>\n",
       "      <td>176</td>\n",
       "      <td>True</td>\n",
       "      <td>(50,)</td>\n",
       "      <td>...</td>\n",
       "      <td>0.2</td>\n",
       "      <td>{'activation': 'tanh', 'alpha': 0.077485894762...</td>\n",
       "      <td>0.000010</td>\n",
       "      <td>1.186787e-05</td>\n",
       "      <td>0.000009</td>\n",
       "      <td>0.000013</td>\n",
       "      <td>0.000018</td>\n",
       "      <td>0.000013</td>\n",
       "      <td>0.000003</td>\n",
       "      <td>870</td>\n",
       "    </tr>\n",
       "    <tr>\n",
       "      <th>20</th>\n",
       "      <td>20</td>\n",
       "      <td>2.355983</td>\n",
       "      <td>0.562987</td>\n",
       "      <td>0.003940</td>\n",
       "      <td>0.001034</td>\n",
       "      <td>logistic</td>\n",
       "      <td>0.087812</td>\n",
       "      <td>554</td>\n",
       "      <td>True</td>\n",
       "      <td>(100, 100)</td>\n",
       "      <td>...</td>\n",
       "      <td>0.2</td>\n",
       "      <td>{'activation': 'logistic', 'alpha': 0.08781192...</td>\n",
       "      <td>0.749459</td>\n",
       "      <td>8.483166e-01</td>\n",
       "      <td>0.847772</td>\n",
       "      <td>0.807916</td>\n",
       "      <td>0.838804</td>\n",
       "      <td>0.818453</td>\n",
       "      <td>0.037515</td>\n",
       "      <td>65</td>\n",
       "    </tr>\n",
       "    <tr>\n",
       "      <th>21</th>\n",
       "      <td>21</td>\n",
       "      <td>1.175598</td>\n",
       "      <td>0.140039</td>\n",
       "      <td>0.008705</td>\n",
       "      <td>0.009171</td>\n",
       "      <td>logistic</td>\n",
       "      <td>0.045420</td>\n",
       "      <td>1210</td>\n",
       "      <td>True</td>\n",
       "      <td>(50, 50)</td>\n",
       "      <td>...</td>\n",
       "      <td>0.2</td>\n",
       "      <td>{'activation': 'logistic', 'alpha': 0.04542042...</td>\n",
       "      <td>0.800653</td>\n",
       "      <td>8.042660e-01</td>\n",
       "      <td>0.869667</td>\n",
       "      <td>0.811322</td>\n",
       "      <td>0.747349</td>\n",
       "      <td>0.806651</td>\n",
       "      <td>0.038862</td>\n",
       "      <td>85</td>\n",
       "    </tr>\n",
       "    <tr>\n",
       "      <th>22</th>\n",
       "      <td>22</td>\n",
       "      <td>0.433523</td>\n",
       "      <td>0.376550</td>\n",
       "      <td>0.007419</td>\n",
       "      <td>0.012217</td>\n",
       "      <td>relu</td>\n",
       "      <td>0.012297</td>\n",
       "      <td>664</td>\n",
       "      <td>True</td>\n",
       "      <td>(50, 50)</td>\n",
       "      <td>...</td>\n",
       "      <td>0.2</td>\n",
       "      <td>{'activation': 'relu', 'alpha': 0.012297387023...</td>\n",
       "      <td>0.133751</td>\n",
       "      <td>7.042092e-13</td>\n",
       "      <td>NaN</td>\n",
       "      <td>NaN</td>\n",
       "      <td>0.138191</td>\n",
       "      <td>NaN</td>\n",
       "      <td>NaN</td>\n",
       "      <td>922</td>\n",
       "    </tr>\n",
       "    <tr>\n",
       "      <th>23</th>\n",
       "      <td>23</td>\n",
       "      <td>0.554438</td>\n",
       "      <td>0.046559</td>\n",
       "      <td>0.003660</td>\n",
       "      <td>0.000461</td>\n",
       "      <td>logistic</td>\n",
       "      <td>0.050355</td>\n",
       "      <td>730</td>\n",
       "      <td>True</td>\n",
       "      <td>(5,)</td>\n",
       "      <td>...</td>\n",
       "      <td>0.2</td>\n",
       "      <td>{'activation': 'logistic', 'alpha': 0.05035527...</td>\n",
       "      <td>0.710562</td>\n",
       "      <td>6.674362e-01</td>\n",
       "      <td>0.794813</td>\n",
       "      <td>0.686818</td>\n",
       "      <td>0.667563</td>\n",
       "      <td>0.705439</td>\n",
       "      <td>0.047412</td>\n",
       "      <td>253</td>\n",
       "    </tr>\n",
       "    <tr>\n",
       "      <th>24</th>\n",
       "      <td>24</td>\n",
       "      <td>0.019295</td>\n",
       "      <td>0.011327</td>\n",
       "      <td>0.000000</td>\n",
       "      <td>0.000000</td>\n",
       "      <td>relu</td>\n",
       "      <td>0.059233</td>\n",
       "      <td>875</td>\n",
       "      <td>True</td>\n",
       "      <td>(25,)</td>\n",
       "      <td>...</td>\n",
       "      <td>0.2</td>\n",
       "      <td>{'activation': 'relu', 'alpha': 0.059233086877...</td>\n",
       "      <td>NaN</td>\n",
       "      <td>NaN</td>\n",
       "      <td>NaN</td>\n",
       "      <td>NaN</td>\n",
       "      <td>NaN</td>\n",
       "      <td>NaN</td>\n",
       "      <td>NaN</td>\n",
       "      <td>924</td>\n",
       "    </tr>\n",
       "    <tr>\n",
       "      <th>25</th>\n",
       "      <td>25</td>\n",
       "      <td>0.747930</td>\n",
       "      <td>0.421908</td>\n",
       "      <td>0.004134</td>\n",
       "      <td>0.000063</td>\n",
       "      <td>relu</td>\n",
       "      <td>0.095030</td>\n",
       "      <td>1058</td>\n",
       "      <td>True</td>\n",
       "      <td>(50, 50)</td>\n",
       "      <td>...</td>\n",
       "      <td>0.2</td>\n",
       "      <td>{'activation': 'relu', 'alpha': 0.095030059422...</td>\n",
       "      <td>0.135642</td>\n",
       "      <td>1.377176e-01</td>\n",
       "      <td>0.054412</td>\n",
       "      <td>0.055786</td>\n",
       "      <td>0.138403</td>\n",
       "      <td>0.104392</td>\n",
       "      <td>0.040260</td>\n",
       "      <td>749</td>\n",
       "    </tr>\n",
       "    <tr>\n",
       "      <th>26</th>\n",
       "      <td>26</td>\n",
       "      <td>0.096301</td>\n",
       "      <td>0.003589</td>\n",
       "      <td>0.004253</td>\n",
       "      <td>0.000070</td>\n",
       "      <td>tanh</td>\n",
       "      <td>0.093436</td>\n",
       "      <td>765</td>\n",
       "      <td>True</td>\n",
       "      <td>(25,)</td>\n",
       "      <td>...</td>\n",
       "      <td>0.2</td>\n",
       "      <td>{'activation': 'tanh', 'alpha': 0.093436057643...</td>\n",
       "      <td>0.016172</td>\n",
       "      <td>1.722939e-02</td>\n",
       "      <td>0.017828</td>\n",
       "      <td>0.021310</td>\n",
       "      <td>0.016314</td>\n",
       "      <td>0.017771</td>\n",
       "      <td>0.001871</td>\n",
       "      <td>801</td>\n",
       "    </tr>\n",
       "    <tr>\n",
       "      <th>27</th>\n",
       "      <td>27</td>\n",
       "      <td>0.247886</td>\n",
       "      <td>0.036311</td>\n",
       "      <td>0.003825</td>\n",
       "      <td>0.000044</td>\n",
       "      <td>relu</td>\n",
       "      <td>0.028376</td>\n",
       "      <td>133</td>\n",
       "      <td>True</td>\n",
       "      <td>(5,)</td>\n",
       "      <td>...</td>\n",
       "      <td>0.2</td>\n",
       "      <td>{'activation': 'relu', 'alpha': 0.028376357570...</td>\n",
       "      <td>0.720538</td>\n",
       "      <td>6.903176e-01</td>\n",
       "      <td>0.754551</td>\n",
       "      <td>0.687338</td>\n",
       "      <td>0.701289</td>\n",
       "      <td>0.710807</td>\n",
       "      <td>0.024777</td>\n",
       "      <td>247</td>\n",
       "    </tr>\n",
       "    <tr>\n",
       "      <th>28</th>\n",
       "      <td>28</td>\n",
       "      <td>1.327828</td>\n",
       "      <td>0.084206</td>\n",
       "      <td>0.003849</td>\n",
       "      <td>0.000646</td>\n",
       "      <td>logistic</td>\n",
       "      <td>0.059879</td>\n",
       "      <td>114</td>\n",
       "      <td>True</td>\n",
       "      <td>(25,)</td>\n",
       "      <td>...</td>\n",
       "      <td>0.2</td>\n",
       "      <td>{'activation': 'logistic', 'alpha': 0.05987916...</td>\n",
       "      <td>0.858565</td>\n",
       "      <td>8.501046e-01</td>\n",
       "      <td>0.925394</td>\n",
       "      <td>0.841448</td>\n",
       "      <td>0.848040</td>\n",
       "      <td>0.864710</td>\n",
       "      <td>0.030831</td>\n",
       "      <td>4</td>\n",
       "    </tr>\n",
       "    <tr>\n",
       "      <th>29</th>\n",
       "      <td>29</td>\n",
       "      <td>1.094400</td>\n",
       "      <td>0.157230</td>\n",
       "      <td>0.003639</td>\n",
       "      <td>0.001158</td>\n",
       "      <td>tanh</td>\n",
       "      <td>0.092721</td>\n",
       "      <td>763</td>\n",
       "      <td>True</td>\n",
       "      <td>(50, 50)</td>\n",
       "      <td>...</td>\n",
       "      <td>0.2</td>\n",
       "      <td>{'activation': 'tanh', 'alpha': 0.092720692472...</td>\n",
       "      <td>0.008839</td>\n",
       "      <td>1.243748e-02</td>\n",
       "      <td>0.011463</td>\n",
       "      <td>0.012648</td>\n",
       "      <td>0.011943</td>\n",
       "      <td>0.011466</td>\n",
       "      <td>0.001376</td>\n",
       "      <td>810</td>\n",
       "    </tr>\n",
       "    <tr>\n",
       "      <th>30</th>\n",
       "      <td>30</td>\n",
       "      <td>0.015265</td>\n",
       "      <td>0.016634</td>\n",
       "      <td>0.000000</td>\n",
       "      <td>0.000000</td>\n",
       "      <td>relu</td>\n",
       "      <td>0.078714</td>\n",
       "      <td>412</td>\n",
       "      <td>True</td>\n",
       "      <td>(10,)</td>\n",
       "      <td>...</td>\n",
       "      <td>0.2</td>\n",
       "      <td>{'activation': 'relu', 'alpha': 0.078713564838...</td>\n",
       "      <td>NaN</td>\n",
       "      <td>NaN</td>\n",
       "      <td>NaN</td>\n",
       "      <td>NaN</td>\n",
       "      <td>NaN</td>\n",
       "      <td>NaN</td>\n",
       "      <td>NaN</td>\n",
       "      <td>930</td>\n",
       "    </tr>\n",
       "    <tr>\n",
       "      <th>31</th>\n",
       "      <td>31</td>\n",
       "      <td>0.082240</td>\n",
       "      <td>0.015641</td>\n",
       "      <td>0.001851</td>\n",
       "      <td>0.000037</td>\n",
       "      <td>tanh</td>\n",
       "      <td>0.095208</td>\n",
       "      <td>1088</td>\n",
       "      <td>True</td>\n",
       "      <td>(10,)</td>\n",
       "      <td>...</td>\n",
       "      <td>0.2</td>\n",
       "      <td>{'activation': 'tanh', 'alpha': 0.095208449998...</td>\n",
       "      <td>0.575196</td>\n",
       "      <td>5.596489e-01</td>\n",
       "      <td>0.680716</td>\n",
       "      <td>0.513164</td>\n",
       "      <td>0.679516</td>\n",
       "      <td>0.601648</td>\n",
       "      <td>0.067243</td>\n",
       "      <td>375</td>\n",
       "    </tr>\n",
       "    <tr>\n",
       "      <th>32</th>\n",
       "      <td>32</td>\n",
       "      <td>0.104455</td>\n",
       "      <td>0.007973</td>\n",
       "      <td>0.003561</td>\n",
       "      <td>0.000329</td>\n",
       "      <td>logistic</td>\n",
       "      <td>0.049289</td>\n",
       "      <td>957</td>\n",
       "      <td>True</td>\n",
       "      <td>(5, 5)</td>\n",
       "      <td>...</td>\n",
       "      <td>0.2</td>\n",
       "      <td>{'activation': 'logistic', 'alpha': 0.04928928...</td>\n",
       "      <td>0.130835</td>\n",
       "      <td>1.387230e-01</td>\n",
       "      <td>0.135050</td>\n",
       "      <td>0.134789</td>\n",
       "      <td>0.138965</td>\n",
       "      <td>0.135672</td>\n",
       "      <td>0.002991</td>\n",
       "      <td>718</td>\n",
       "    </tr>\n",
       "    <tr>\n",
       "      <th>33</th>\n",
       "      <td>33</td>\n",
       "      <td>1.044386</td>\n",
       "      <td>0.115465</td>\n",
       "      <td>0.008053</td>\n",
       "      <td>0.009006</td>\n",
       "      <td>logistic</td>\n",
       "      <td>0.085441</td>\n",
       "      <td>680</td>\n",
       "      <td>True</td>\n",
       "      <td>(50,)</td>\n",
       "      <td>...</td>\n",
       "      <td>0.2</td>\n",
       "      <td>{'activation': 'logistic', 'alpha': 0.08544121...</td>\n",
       "      <td>0.005540</td>\n",
       "      <td>5.678166e-03</td>\n",
       "      <td>0.016578</td>\n",
       "      <td>0.410533</td>\n",
       "      <td>0.239599</td>\n",
       "      <td>0.135586</td>\n",
       "      <td>0.163930</td>\n",
       "      <td>722</td>\n",
       "    </tr>\n",
       "    <tr>\n",
       "      <th>34</th>\n",
       "      <td>34</td>\n",
       "      <td>0.005773</td>\n",
       "      <td>0.000108</td>\n",
       "      <td>0.000000</td>\n",
       "      <td>0.000000</td>\n",
       "      <td>relu</td>\n",
       "      <td>0.020153</td>\n",
       "      <td>290</td>\n",
       "      <td>True</td>\n",
       "      <td>(10,)</td>\n",
       "      <td>...</td>\n",
       "      <td>0.2</td>\n",
       "      <td>{'activation': 'relu', 'alpha': 0.020152936131...</td>\n",
       "      <td>NaN</td>\n",
       "      <td>NaN</td>\n",
       "      <td>NaN</td>\n",
       "      <td>NaN</td>\n",
       "      <td>NaN</td>\n",
       "      <td>NaN</td>\n",
       "      <td>NaN</td>\n",
       "      <td>903</td>\n",
       "    </tr>\n",
       "    <tr>\n",
       "      <th>35</th>\n",
       "      <td>35</td>\n",
       "      <td>1.233255</td>\n",
       "      <td>0.501582</td>\n",
       "      <td>0.003546</td>\n",
       "      <td>0.000953</td>\n",
       "      <td>logistic</td>\n",
       "      <td>0.022958</td>\n",
       "      <td>292</td>\n",
       "      <td>True</td>\n",
       "      <td>(50, 50)</td>\n",
       "      <td>...</td>\n",
       "      <td>0.2</td>\n",
       "      <td>{'activation': 'logistic', 'alpha': 0.02295818...</td>\n",
       "      <td>0.134351</td>\n",
       "      <td>7.835186e-01</td>\n",
       "      <td>0.864145</td>\n",
       "      <td>0.630381</td>\n",
       "      <td>0.739917</td>\n",
       "      <td>0.630463</td>\n",
       "      <td>0.259284</td>\n",
       "      <td>351</td>\n",
       "    </tr>\n",
       "    <tr>\n",
       "      <th>36</th>\n",
       "      <td>36</td>\n",
       "      <td>0.308891</td>\n",
       "      <td>0.055649</td>\n",
       "      <td>0.002980</td>\n",
       "      <td>0.000578</td>\n",
       "      <td>relu</td>\n",
       "      <td>0.094538</td>\n",
       "      <td>282</td>\n",
       "      <td>True</td>\n",
       "      <td>(10, 10)</td>\n",
       "      <td>...</td>\n",
       "      <td>0.2</td>\n",
       "      <td>{'activation': 'relu', 'alpha': 0.094538271374...</td>\n",
       "      <td>0.332560</td>\n",
       "      <td>4.589989e-01</td>\n",
       "      <td>0.323339</td>\n",
       "      <td>0.514978</td>\n",
       "      <td>0.659975</td>\n",
       "      <td>0.457970</td>\n",
       "      <td>0.124828</td>\n",
       "      <td>460</td>\n",
       "    </tr>\n",
       "    <tr>\n",
       "      <th>37</th>\n",
       "      <td>37</td>\n",
       "      <td>0.480562</td>\n",
       "      <td>0.073470</td>\n",
       "      <td>0.003113</td>\n",
       "      <td>0.000732</td>\n",
       "      <td>tanh</td>\n",
       "      <td>0.075224</td>\n",
       "      <td>1112</td>\n",
       "      <td>True</td>\n",
       "      <td>(50,)</td>\n",
       "      <td>...</td>\n",
       "      <td>0.2</td>\n",
       "      <td>{'activation': 'tanh', 'alpha': 0.075224190470...</td>\n",
       "      <td>0.734641</td>\n",
       "      <td>6.660999e-01</td>\n",
       "      <td>0.777822</td>\n",
       "      <td>0.722939</td>\n",
       "      <td>0.761566</td>\n",
       "      <td>0.732614</td>\n",
       "      <td>0.038481</td>\n",
       "      <td>214</td>\n",
       "    </tr>\n",
       "    <tr>\n",
       "      <th>38</th>\n",
       "      <td>38</td>\n",
       "      <td>1.380829</td>\n",
       "      <td>0.126759</td>\n",
       "      <td>0.010096</td>\n",
       "      <td>0.009538</td>\n",
       "      <td>tanh</td>\n",
       "      <td>0.080407</td>\n",
       "      <td>1300</td>\n",
       "      <td>True</td>\n",
       "      <td>(50, 50)</td>\n",
       "      <td>...</td>\n",
       "      <td>0.2</td>\n",
       "      <td>{'activation': 'tanh', 'alpha': 0.080407095637...</td>\n",
       "      <td>0.811047</td>\n",
       "      <td>8.042852e-01</td>\n",
       "      <td>0.855300</td>\n",
       "      <td>0.812158</td>\n",
       "      <td>0.808303</td>\n",
       "      <td>0.818218</td>\n",
       "      <td>0.018738</td>\n",
       "      <td>66</td>\n",
       "    </tr>\n",
       "    <tr>\n",
       "      <th>39</th>\n",
       "      <td>39</td>\n",
       "      <td>1.621365</td>\n",
       "      <td>0.354388</td>\n",
       "      <td>0.004854</td>\n",
       "      <td>0.000339</td>\n",
       "      <td>tanh</td>\n",
       "      <td>0.041219</td>\n",
       "      <td>912</td>\n",
       "      <td>True</td>\n",
       "      <td>(50, 50)</td>\n",
       "      <td>...</td>\n",
       "      <td>0.2</td>\n",
       "      <td>{'activation': 'tanh', 'alpha': 0.041219322069...</td>\n",
       "      <td>0.738334</td>\n",
       "      <td>7.388903e-01</td>\n",
       "      <td>0.672099</td>\n",
       "      <td>0.713068</td>\n",
       "      <td>0.687842</td>\n",
       "      <td>0.710047</td>\n",
       "      <td>0.026737</td>\n",
       "      <td>250</td>\n",
       "    </tr>\n",
       "    <tr>\n",
       "      <th>40</th>\n",
       "      <td>40</td>\n",
       "      <td>1.089323</td>\n",
       "      <td>0.101651</td>\n",
       "      <td>0.005343</td>\n",
       "      <td>0.000153</td>\n",
       "      <td>tanh</td>\n",
       "      <td>0.098159</td>\n",
       "      <td>1075</td>\n",
       "      <td>True</td>\n",
       "      <td>(50, 50)</td>\n",
       "      <td>...</td>\n",
       "      <td>0.2</td>\n",
       "      <td>{'activation': 'tanh', 'alpha': 0.098159297682...</td>\n",
       "      <td>0.411382</td>\n",
       "      <td>4.069907e-01</td>\n",
       "      <td>0.427781</td>\n",
       "      <td>0.388700</td>\n",
       "      <td>0.424045</td>\n",
       "      <td>0.411780</td>\n",
       "      <td>0.013873</td>\n",
       "      <td>482</td>\n",
       "    </tr>\n",
       "    <tr>\n",
       "      <th>41</th>\n",
       "      <td>41</td>\n",
       "      <td>0.582893</td>\n",
       "      <td>0.104214</td>\n",
       "      <td>0.003881</td>\n",
       "      <td>0.000146</td>\n",
       "      <td>relu</td>\n",
       "      <td>0.036082</td>\n",
       "      <td>309</td>\n",
       "      <td>True</td>\n",
       "      <td>(50,)</td>\n",
       "      <td>...</td>\n",
       "      <td>0.2</td>\n",
       "      <td>{'activation': 'relu', 'alpha': 0.036082041177...</td>\n",
       "      <td>0.772613</td>\n",
       "      <td>7.039188e-01</td>\n",
       "      <td>0.822634</td>\n",
       "      <td>0.705830</td>\n",
       "      <td>0.715190</td>\n",
       "      <td>0.744037</td>\n",
       "      <td>0.046681</td>\n",
       "      <td>193</td>\n",
       "    </tr>\n",
       "    <tr>\n",
       "      <th>42</th>\n",
       "      <td>42</td>\n",
       "      <td>0.069606</td>\n",
       "      <td>0.010625</td>\n",
       "      <td>0.003690</td>\n",
       "      <td>0.000355</td>\n",
       "      <td>logistic</td>\n",
       "      <td>0.034068</td>\n",
       "      <td>1089</td>\n",
       "      <td>True</td>\n",
       "      <td>(5,)</td>\n",
       "      <td>...</td>\n",
       "      <td>0.2</td>\n",
       "      <td>{'activation': 'logistic', 'alpha': 0.03406798...</td>\n",
       "      <td>0.105337</td>\n",
       "      <td>1.108377e-01</td>\n",
       "      <td>0.111660</td>\n",
       "      <td>0.115367</td>\n",
       "      <td>0.106113</td>\n",
       "      <td>0.109863</td>\n",
       "      <td>0.003715</td>\n",
       "      <td>744</td>\n",
       "    </tr>\n",
       "    <tr>\n",
       "      <th>43</th>\n",
       "      <td>43</td>\n",
       "      <td>0.647962</td>\n",
       "      <td>0.058419</td>\n",
       "      <td>0.004078</td>\n",
       "      <td>0.000031</td>\n",
       "      <td>logistic</td>\n",
       "      <td>0.021248</td>\n",
       "      <td>49</td>\n",
       "      <td>True</td>\n",
       "      <td>(10, 10)</td>\n",
       "      <td>...</td>\n",
       "      <td>0.2</td>\n",
       "      <td>{'activation': 'logistic', 'alpha': 0.02124758...</td>\n",
       "      <td>0.741168</td>\n",
       "      <td>6.549713e-01</td>\n",
       "      <td>0.808514</td>\n",
       "      <td>0.724283</td>\n",
       "      <td>0.714417</td>\n",
       "      <td>0.728670</td>\n",
       "      <td>0.049366</td>\n",
       "      <td>219</td>\n",
       "    </tr>\n",
       "    <tr>\n",
       "      <th>44</th>\n",
       "      <td>44</td>\n",
       "      <td>0.455411</td>\n",
       "      <td>0.764748</td>\n",
       "      <td>0.000894</td>\n",
       "      <td>0.001787</td>\n",
       "      <td>relu</td>\n",
       "      <td>0.080101</td>\n",
       "      <td>130</td>\n",
       "      <td>True</td>\n",
       "      <td>(100, 100)</td>\n",
       "      <td>...</td>\n",
       "      <td>0.2</td>\n",
       "      <td>{'activation': 'relu', 'alpha': 0.080100911995...</td>\n",
       "      <td>NaN</td>\n",
       "      <td>NaN</td>\n",
       "      <td>NaN</td>\n",
       "      <td>0.134825</td>\n",
       "      <td>NaN</td>\n",
       "      <td>NaN</td>\n",
       "      <td>NaN</td>\n",
       "      <td>884</td>\n",
       "    </tr>\n",
       "    <tr>\n",
       "      <th>45</th>\n",
       "      <td>45</td>\n",
       "      <td>0.646647</td>\n",
       "      <td>0.024966</td>\n",
       "      <td>0.004141</td>\n",
       "      <td>0.000049</td>\n",
       "      <td>tanh</td>\n",
       "      <td>0.021372</td>\n",
       "      <td>803</td>\n",
       "      <td>True</td>\n",
       "      <td>(25,)</td>\n",
       "      <td>...</td>\n",
       "      <td>0.2</td>\n",
       "      <td>{'activation': 'tanh', 'alpha': 0.021371801209...</td>\n",
       "      <td>0.006823</td>\n",
       "      <td>6.788806e-03</td>\n",
       "      <td>0.007370</td>\n",
       "      <td>0.007866</td>\n",
       "      <td>0.006586</td>\n",
       "      <td>0.007087</td>\n",
       "      <td>0.000469</td>\n",
       "      <td>818</td>\n",
       "    </tr>\n",
       "    <tr>\n",
       "      <th>46</th>\n",
       "      <td>46</td>\n",
       "      <td>1.036081</td>\n",
       "      <td>0.116804</td>\n",
       "      <td>0.002694</td>\n",
       "      <td>0.000722</td>\n",
       "      <td>tanh</td>\n",
       "      <td>0.067951</td>\n",
       "      <td>405</td>\n",
       "      <td>True</td>\n",
       "      <td>(100,)</td>\n",
       "      <td>...</td>\n",
       "      <td>0.2</td>\n",
       "      <td>{'activation': 'tanh', 'alpha': 0.067951262064...</td>\n",
       "      <td>0.001286</td>\n",
       "      <td>1.029615e-03</td>\n",
       "      <td>0.001107</td>\n",
       "      <td>0.001093</td>\n",
       "      <td>0.001102</td>\n",
       "      <td>0.001123</td>\n",
       "      <td>0.000086</td>\n",
       "      <td>844</td>\n",
       "    </tr>\n",
       "    <tr>\n",
       "      <th>47</th>\n",
       "      <td>47</td>\n",
       "      <td>0.105350</td>\n",
       "      <td>0.015093</td>\n",
       "      <td>0.002971</td>\n",
       "      <td>0.000757</td>\n",
       "      <td>logistic</td>\n",
       "      <td>0.060965</td>\n",
       "      <td>505</td>\n",
       "      <td>True</td>\n",
       "      <td>(5, 5)</td>\n",
       "      <td>...</td>\n",
       "      <td>0.2</td>\n",
       "      <td>{'activation': 'logistic', 'alpha': 0.06096538...</td>\n",
       "      <td>0.133615</td>\n",
       "      <td>1.389700e-01</td>\n",
       "      <td>0.134954</td>\n",
       "      <td>0.135105</td>\n",
       "      <td>0.138726</td>\n",
       "      <td>0.136274</td>\n",
       "      <td>0.002166</td>\n",
       "      <td>673</td>\n",
       "    </tr>\n",
       "    <tr>\n",
       "      <th>48</th>\n",
       "      <td>48</td>\n",
       "      <td>0.018667</td>\n",
       "      <td>0.016095</td>\n",
       "      <td>0.000000</td>\n",
       "      <td>0.000000</td>\n",
       "      <td>relu</td>\n",
       "      <td>0.084944</td>\n",
       "      <td>1063</td>\n",
       "      <td>True</td>\n",
       "      <td>(10,)</td>\n",
       "      <td>...</td>\n",
       "      <td>0.2</td>\n",
       "      <td>{'activation': 'relu', 'alpha': 0.084944316581...</td>\n",
       "      <td>NaN</td>\n",
       "      <td>NaN</td>\n",
       "      <td>NaN</td>\n",
       "      <td>NaN</td>\n",
       "      <td>NaN</td>\n",
       "      <td>NaN</td>\n",
       "      <td>NaN</td>\n",
       "      <td>894</td>\n",
       "    </tr>\n",
       "    <tr>\n",
       "      <th>49</th>\n",
       "      <td>49</td>\n",
       "      <td>0.143814</td>\n",
       "      <td>0.130032</td>\n",
       "      <td>0.001379</td>\n",
       "      <td>0.001689</td>\n",
       "      <td>relu</td>\n",
       "      <td>0.058894</td>\n",
       "      <td>468</td>\n",
       "      <td>True</td>\n",
       "      <td>(50, 50)</td>\n",
       "      <td>...</td>\n",
       "      <td>0.2</td>\n",
       "      <td>{'activation': 'relu', 'alpha': 0.058893900474...</td>\n",
       "      <td>NaN</td>\n",
       "      <td>NaN</td>\n",
       "      <td>0.131563</td>\n",
       "      <td>NaN</td>\n",
       "      <td>0.040582</td>\n",
       "      <td>NaN</td>\n",
       "      <td>NaN</td>\n",
       "      <td>895</td>\n",
       "    </tr>\n",
       "  </tbody>\n",
       "</table>\n",
       "<p>50 rows × 26 columns</p>\n",
       "</div>"
      ],
      "text/plain": [
       "    Unnamed: 0  mean_fit_time  std_fit_time  mean_score_time  std_score_time  \\\n",
       "0            0       0.078272      0.022680         0.009268        0.013332   \n",
       "1            1       0.826285      0.067064         0.003862        0.000989   \n",
       "2            2       0.232082      0.038249         0.008691        0.011453   \n",
       "3            3       0.222298      0.072412         0.007075        0.009030   \n",
       "4            4       0.012527      0.012561         0.000000        0.000000   \n",
       "5            5       0.800790      0.103963         0.003233        0.000613   \n",
       "6            6       1.297640      0.476333         0.003509        0.001121   \n",
       "7            7       0.470677      0.109982         0.003283        0.000632   \n",
       "8            8       0.070460      0.025343         0.003746        0.000108   \n",
       "9            9       0.383381      0.651723         0.000494        0.000989   \n",
       "10          10       0.049584      0.012738         0.000000        0.000000   \n",
       "11          11       0.228878      0.017161         0.003449        0.000413   \n",
       "12          12       0.080397      0.040700         0.001647        0.002024   \n",
       "13          13       0.225731      0.152199         0.009698        0.010290   \n",
       "14          14       1.124019      0.478481         0.004749        0.001221   \n",
       "15          15       0.262726      0.041705         0.003479        0.000829   \n",
       "16          16       0.636640      0.162190         0.002688        0.000796   \n",
       "17          17       0.391255      0.043797         0.003451        0.000808   \n",
       "18          18       0.541716      0.080315         0.003638        0.000939   \n",
       "19          19       0.067783      0.014437         0.003881        0.000256   \n",
       "20          20       2.355983      0.562987         0.003940        0.001034   \n",
       "21          21       1.175598      0.140039         0.008705        0.009171   \n",
       "22          22       0.433523      0.376550         0.007419        0.012217   \n",
       "23          23       0.554438      0.046559         0.003660        0.000461   \n",
       "24          24       0.019295      0.011327         0.000000        0.000000   \n",
       "25          25       0.747930      0.421908         0.004134        0.000063   \n",
       "26          26       0.096301      0.003589         0.004253        0.000070   \n",
       "27          27       0.247886      0.036311         0.003825        0.000044   \n",
       "28          28       1.327828      0.084206         0.003849        0.000646   \n",
       "29          29       1.094400      0.157230         0.003639        0.001158   \n",
       "30          30       0.015265      0.016634         0.000000        0.000000   \n",
       "31          31       0.082240      0.015641         0.001851        0.000037   \n",
       "32          32       0.104455      0.007973         0.003561        0.000329   \n",
       "33          33       1.044386      0.115465         0.008053        0.009006   \n",
       "34          34       0.005773      0.000108         0.000000        0.000000   \n",
       "35          35       1.233255      0.501582         0.003546        0.000953   \n",
       "36          36       0.308891      0.055649         0.002980        0.000578   \n",
       "37          37       0.480562      0.073470         0.003113        0.000732   \n",
       "38          38       1.380829      0.126759         0.010096        0.009538   \n",
       "39          39       1.621365      0.354388         0.004854        0.000339   \n",
       "40          40       1.089323      0.101651         0.005343        0.000153   \n",
       "41          41       0.582893      0.104214         0.003881        0.000146   \n",
       "42          42       0.069606      0.010625         0.003690        0.000355   \n",
       "43          43       0.647962      0.058419         0.004078        0.000031   \n",
       "44          44       0.455411      0.764748         0.000894        0.001787   \n",
       "45          45       0.646647      0.024966         0.004141        0.000049   \n",
       "46          46       1.036081      0.116804         0.002694        0.000722   \n",
       "47          47       0.105350      0.015093         0.002971        0.000757   \n",
       "48          48       0.018667      0.016095         0.000000        0.000000   \n",
       "49          49       0.143814      0.130032         0.001379        0.001689   \n",
       "\n",
       "   param_activation  param_alpha  param_batch_size  param_early_stopping  \\\n",
       "0              relu     0.040258               620                  True   \n",
       "1          logistic     0.005946               934                  True   \n",
       "2          logistic     0.065970              1146                  True   \n",
       "3          logistic     0.067915               783                  True   \n",
       "4              relu     0.053191               114                  True   \n",
       "5              tanh     0.045703               242                  True   \n",
       "6              relu     0.007688               197                  True   \n",
       "7          logistic     0.096830               762                  True   \n",
       "8              relu     0.053380               577                  True   \n",
       "9              relu     0.064527              1265                  True   \n",
       "10             relu     0.078618               719                  True   \n",
       "11         logistic     0.045528              1186                  True   \n",
       "12             relu     0.091531              1152                  True   \n",
       "13         logistic     0.026643               934                  True   \n",
       "14             tanh     0.054135               881                  True   \n",
       "15             tanh     0.002675              1264                  True   \n",
       "16             tanh     0.020330               766                  True   \n",
       "17             relu     0.059144               854                  True   \n",
       "18         logistic     0.033240               812                  True   \n",
       "19             tanh     0.077486               176                  True   \n",
       "20         logistic     0.087812               554                  True   \n",
       "21         logistic     0.045420              1210                  True   \n",
       "22             relu     0.012297               664                  True   \n",
       "23         logistic     0.050355               730                  True   \n",
       "24             relu     0.059233               875                  True   \n",
       "25             relu     0.095030              1058                  True   \n",
       "26             tanh     0.093436               765                  True   \n",
       "27             relu     0.028376               133                  True   \n",
       "28         logistic     0.059879               114                  True   \n",
       "29             tanh     0.092721               763                  True   \n",
       "30             relu     0.078714               412                  True   \n",
       "31             tanh     0.095208              1088                  True   \n",
       "32         logistic     0.049289               957                  True   \n",
       "33         logistic     0.085441               680                  True   \n",
       "34             relu     0.020153               290                  True   \n",
       "35         logistic     0.022958               292                  True   \n",
       "36             relu     0.094538               282                  True   \n",
       "37             tanh     0.075224              1112                  True   \n",
       "38             tanh     0.080407              1300                  True   \n",
       "39             tanh     0.041219               912                  True   \n",
       "40             tanh     0.098159              1075                  True   \n",
       "41             relu     0.036082               309                  True   \n",
       "42         logistic     0.034068              1089                  True   \n",
       "43         logistic     0.021248                49                  True   \n",
       "44             relu     0.080101               130                  True   \n",
       "45             tanh     0.021372               803                  True   \n",
       "46             tanh     0.067951               405                  True   \n",
       "47         logistic     0.060965               505                  True   \n",
       "48             relu     0.084944              1063                  True   \n",
       "49             relu     0.058894               468                  True   \n",
       "\n",
       "   param_hidden_layer_sizes  ... param_validation_fraction  \\\n",
       "0                  (25, 25)  ...                       0.2   \n",
       "1                    (100,)  ...                       0.2   \n",
       "2                  (25, 25)  ...                       0.2   \n",
       "3                  (25, 25)  ...                       0.2   \n",
       "4                     (25,)  ...                       0.2   \n",
       "5                     (50,)  ...                       0.2   \n",
       "6                (100, 100)  ...                       0.2   \n",
       "7                     (50,)  ...                       0.2   \n",
       "8                    (5, 5)  ...                       0.2   \n",
       "9                (100, 100)  ...                       0.2   \n",
       "10               (100, 100)  ...                       0.2   \n",
       "11                    (10,)  ...                       0.2   \n",
       "12               (100, 100)  ...                       0.2   \n",
       "13                 (50, 50)  ...                       0.2   \n",
       "14               (100, 100)  ...                       0.2   \n",
       "15                     (5,)  ...                       0.2   \n",
       "16                 (10, 10)  ...                       0.2   \n",
       "17                    (50,)  ...                       0.2   \n",
       "18                     (5,)  ...                       0.2   \n",
       "19                    (50,)  ...                       0.2   \n",
       "20               (100, 100)  ...                       0.2   \n",
       "21                 (50, 50)  ...                       0.2   \n",
       "22                 (50, 50)  ...                       0.2   \n",
       "23                     (5,)  ...                       0.2   \n",
       "24                    (25,)  ...                       0.2   \n",
       "25                 (50, 50)  ...                       0.2   \n",
       "26                    (25,)  ...                       0.2   \n",
       "27                     (5,)  ...                       0.2   \n",
       "28                    (25,)  ...                       0.2   \n",
       "29                 (50, 50)  ...                       0.2   \n",
       "30                    (10,)  ...                       0.2   \n",
       "31                    (10,)  ...                       0.2   \n",
       "32                   (5, 5)  ...                       0.2   \n",
       "33                    (50,)  ...                       0.2   \n",
       "34                    (10,)  ...                       0.2   \n",
       "35                 (50, 50)  ...                       0.2   \n",
       "36                 (10, 10)  ...                       0.2   \n",
       "37                    (50,)  ...                       0.2   \n",
       "38                 (50, 50)  ...                       0.2   \n",
       "39                 (50, 50)  ...                       0.2   \n",
       "40                 (50, 50)  ...                       0.2   \n",
       "41                    (50,)  ...                       0.2   \n",
       "42                     (5,)  ...                       0.2   \n",
       "43                 (10, 10)  ...                       0.2   \n",
       "44               (100, 100)  ...                       0.2   \n",
       "45                    (25,)  ...                       0.2   \n",
       "46                   (100,)  ...                       0.2   \n",
       "47                   (5, 5)  ...                       0.2   \n",
       "48                    (10,)  ...                       0.2   \n",
       "49                 (50, 50)  ...                       0.2   \n",
       "\n",
       "                                               params  split0_test_score  \\\n",
       "0   {'activation': 'relu', 'alpha': 0.040257871551...           0.000010   \n",
       "1   {'activation': 'logistic', 'alpha': 0.00594607...           0.503839   \n",
       "2   {'activation': 'logistic', 'alpha': 0.06597006...           0.135755   \n",
       "3   {'activation': 'logistic', 'alpha': 0.06791530...           0.134704   \n",
       "4   {'activation': 'relu', 'alpha': 0.053191437128...                NaN   \n",
       "5   {'activation': 'tanh', 'alpha': 0.045703303207...           0.000279   \n",
       "6   {'activation': 'relu', 'alpha': 0.007688166476...           0.134281   \n",
       "7   {'activation': 'logistic', 'alpha': 0.09682960...           0.797484   \n",
       "8   {'activation': 'relu', 'alpha': 0.053380210836...           0.132652   \n",
       "9   {'activation': 'relu', 'alpha': 0.064526573194...                NaN   \n",
       "10  {'activation': 'relu', 'alpha': 0.078618408232...                NaN   \n",
       "11  {'activation': 'logistic', 'alpha': 0.04552770...           0.709542   \n",
       "12  {'activation': 'relu', 'alpha': 0.091531440413...                NaN   \n",
       "13  {'activation': 'logistic', 'alpha': 0.02664290...           0.134257   \n",
       "14  {'activation': 'tanh', 'alpha': 0.054135142362...           0.462330   \n",
       "15  {'activation': 'tanh', 'alpha': 0.002674943427...           0.442315   \n",
       "16  {'activation': 'tanh', 'alpha': 0.020329747459...           0.640812   \n",
       "17  {'activation': 'relu', 'alpha': 0.059144025260...           0.795775   \n",
       "18  {'activation': 'logistic', 'alpha': 0.03324024...           0.686351   \n",
       "19  {'activation': 'tanh', 'alpha': 0.077485894762...           0.000010   \n",
       "20  {'activation': 'logistic', 'alpha': 0.08781192...           0.749459   \n",
       "21  {'activation': 'logistic', 'alpha': 0.04542042...           0.800653   \n",
       "22  {'activation': 'relu', 'alpha': 0.012297387023...           0.133751   \n",
       "23  {'activation': 'logistic', 'alpha': 0.05035527...           0.710562   \n",
       "24  {'activation': 'relu', 'alpha': 0.059233086877...                NaN   \n",
       "25  {'activation': 'relu', 'alpha': 0.095030059422...           0.135642   \n",
       "26  {'activation': 'tanh', 'alpha': 0.093436057643...           0.016172   \n",
       "27  {'activation': 'relu', 'alpha': 0.028376357570...           0.720538   \n",
       "28  {'activation': 'logistic', 'alpha': 0.05987916...           0.858565   \n",
       "29  {'activation': 'tanh', 'alpha': 0.092720692472...           0.008839   \n",
       "30  {'activation': 'relu', 'alpha': 0.078713564838...                NaN   \n",
       "31  {'activation': 'tanh', 'alpha': 0.095208449998...           0.575196   \n",
       "32  {'activation': 'logistic', 'alpha': 0.04928928...           0.130835   \n",
       "33  {'activation': 'logistic', 'alpha': 0.08544121...           0.005540   \n",
       "34  {'activation': 'relu', 'alpha': 0.020152936131...                NaN   \n",
       "35  {'activation': 'logistic', 'alpha': 0.02295818...           0.134351   \n",
       "36  {'activation': 'relu', 'alpha': 0.094538271374...           0.332560   \n",
       "37  {'activation': 'tanh', 'alpha': 0.075224190470...           0.734641   \n",
       "38  {'activation': 'tanh', 'alpha': 0.080407095637...           0.811047   \n",
       "39  {'activation': 'tanh', 'alpha': 0.041219322069...           0.738334   \n",
       "40  {'activation': 'tanh', 'alpha': 0.098159297682...           0.411382   \n",
       "41  {'activation': 'relu', 'alpha': 0.036082041177...           0.772613   \n",
       "42  {'activation': 'logistic', 'alpha': 0.03406798...           0.105337   \n",
       "43  {'activation': 'logistic', 'alpha': 0.02124758...           0.741168   \n",
       "44  {'activation': 'relu', 'alpha': 0.080100911995...                NaN   \n",
       "45  {'activation': 'tanh', 'alpha': 0.021371801209...           0.006823   \n",
       "46  {'activation': 'tanh', 'alpha': 0.067951262064...           0.001286   \n",
       "47  {'activation': 'logistic', 'alpha': 0.06096538...           0.133615   \n",
       "48  {'activation': 'relu', 'alpha': 0.084944316581...                NaN   \n",
       "49  {'activation': 'relu', 'alpha': 0.058893900474...                NaN   \n",
       "\n",
       "    split1_test_score split2_test_score  split3_test_score  split4_test_score  \\\n",
       "0        3.015314e-06          0.000412           0.000415           0.000460   \n",
       "1        4.997366e-01          0.541944           0.514527           0.527342   \n",
       "2        1.405091e-01          0.135702           0.135196           0.139626   \n",
       "3        1.392802e-01          0.134467           0.135040           0.138695   \n",
       "4                 NaN               NaN                NaN                NaN   \n",
       "5        1.929501e-04          0.000281           0.000270           0.000250   \n",
       "6        2.635843e-01          0.273547           0.284968           0.275579   \n",
       "7        8.237849e-01          0.892186           0.847628           0.872592   \n",
       "8        1.391852e-01          0.134390           0.134791           0.139276   \n",
       "9        2.115677e-04               NaN                NaN                NaN   \n",
       "10                NaN               NaN                NaN                NaN   \n",
       "11       6.576747e-01          0.727828           0.701726           0.682236   \n",
       "12       1.841034e-04               NaN                NaN           0.000167   \n",
       "13       1.347558e-01          0.131533           0.134854           0.133872   \n",
       "14       3.774439e-01          0.437261           0.366226           0.209428   \n",
       "15       4.001957e-01          0.500543           0.441661           0.493245   \n",
       "16       5.910181e-01          0.781284           0.685326           0.711903   \n",
       "17       7.917689e-01          0.875227           0.770929           0.779295   \n",
       "18       6.486313e-01          0.765309           0.658958           0.654019   \n",
       "19       1.186787e-05          0.000009           0.000013           0.000018   \n",
       "20       8.483166e-01          0.847772           0.807916           0.838804   \n",
       "21       8.042660e-01          0.869667           0.811322           0.747349   \n",
       "22       7.042092e-13               NaN                NaN           0.138191   \n",
       "23       6.674362e-01          0.794813           0.686818           0.667563   \n",
       "24                NaN               NaN                NaN                NaN   \n",
       "25       1.377176e-01          0.054412           0.055786           0.138403   \n",
       "26       1.722939e-02          0.017828           0.021310           0.016314   \n",
       "27       6.903176e-01          0.754551           0.687338           0.701289   \n",
       "28       8.501046e-01          0.925394           0.841448           0.848040   \n",
       "29       1.243748e-02          0.011463           0.012648           0.011943   \n",
       "30                NaN               NaN                NaN                NaN   \n",
       "31       5.596489e-01          0.680716           0.513164           0.679516   \n",
       "32       1.387230e-01          0.135050           0.134789           0.138965   \n",
       "33       5.678166e-03          0.016578           0.410533           0.239599   \n",
       "34                NaN               NaN                NaN                NaN   \n",
       "35       7.835186e-01          0.864145           0.630381           0.739917   \n",
       "36       4.589989e-01          0.323339           0.514978           0.659975   \n",
       "37       6.660999e-01          0.777822           0.722939           0.761566   \n",
       "38       8.042852e-01          0.855300           0.812158           0.808303   \n",
       "39       7.388903e-01          0.672099           0.713068           0.687842   \n",
       "40       4.069907e-01          0.427781           0.388700           0.424045   \n",
       "41       7.039188e-01          0.822634           0.705830           0.715190   \n",
       "42       1.108377e-01          0.111660           0.115367           0.106113   \n",
       "43       6.549713e-01          0.808514           0.724283           0.714417   \n",
       "44                NaN               NaN           0.134825                NaN   \n",
       "45       6.788806e-03          0.007370           0.007866           0.006586   \n",
       "46       1.029615e-03          0.001107           0.001093           0.001102   \n",
       "47       1.389700e-01          0.134954           0.135105           0.138726   \n",
       "48                NaN               NaN                NaN                NaN   \n",
       "49                NaN          0.131563                NaN           0.040582   \n",
       "\n",
       "   mean_test_score  std_test_score  rank_test_score  \n",
       "0         0.000260        0.000208              858  \n",
       "1         0.517478        0.015527              424  \n",
       "2         0.137358        0.002239              623  \n",
       "3         0.136437        0.002098              651  \n",
       "4              NaN             NaN              932  \n",
       "5         0.000254        0.000033              859  \n",
       "6         0.246392        0.056466              568  \n",
       "7         0.846735        0.033727                9  \n",
       "8         0.136059        0.002688              691  \n",
       "9              NaN             NaN              909  \n",
       "10             NaN             NaN              911  \n",
       "11        0.695801        0.024030              270  \n",
       "12             NaN             NaN              913  \n",
       "13        0.133854        0.001213              729  \n",
       "14        0.370538        0.088205              504  \n",
       "15        0.455592        0.037088              464  \n",
       "16        0.682068        0.064400              296  \n",
       "17        0.802599        0.037376               95  \n",
       "18        0.682654        0.043323              292  \n",
       "19        0.000013        0.000003              870  \n",
       "20        0.818453        0.037515               65  \n",
       "21        0.806651        0.038862               85  \n",
       "22             NaN             NaN              922  \n",
       "23        0.705439        0.047412              253  \n",
       "24             NaN             NaN              924  \n",
       "25        0.104392        0.040260              749  \n",
       "26        0.017771        0.001871              801  \n",
       "27        0.710807        0.024777              247  \n",
       "28        0.864710        0.030831                4  \n",
       "29        0.011466        0.001376              810  \n",
       "30             NaN             NaN              930  \n",
       "31        0.601648        0.067243              375  \n",
       "32        0.135672        0.002991              718  \n",
       "33        0.135586        0.163930              722  \n",
       "34             NaN             NaN              903  \n",
       "35        0.630463        0.259284              351  \n",
       "36        0.457970        0.124828              460  \n",
       "37        0.732614        0.038481              214  \n",
       "38        0.818218        0.018738               66  \n",
       "39        0.710047        0.026737              250  \n",
       "40        0.411780        0.013873              482  \n",
       "41        0.744037        0.046681              193  \n",
       "42        0.109863        0.003715              744  \n",
       "43        0.728670        0.049366              219  \n",
       "44             NaN             NaN              884  \n",
       "45        0.007087        0.000469              818  \n",
       "46        0.001123        0.000086              844  \n",
       "47        0.136274        0.002166              673  \n",
       "48             NaN             NaN              894  \n",
       "49             NaN             NaN              895  \n",
       "\n",
       "[50 rows x 26 columns]"
      ]
     },
     "execution_count": 43,
     "metadata": {},
     "output_type": "execute_result"
    }
   ],
   "source": [
    "df_results = pd.read_csv(\"sklearn_results/rand1_search.csv\")\n",
    "df_results = df_results[:50]\n",
    "df_results"
   ]
  },
  {
   "cell_type": "code",
   "execution_count": 55,
   "id": "sublime-novel",
   "metadata": {},
   "outputs": [],
   "source": [
    "from dataclasses import dataclass\n",
    "\n",
    "@dataclass\n",
    "class GridSearchRanges:\n",
    "    '''Class of keeping track of the min and max values for the hyperparameters tuning'''\n",
    "    \n",
    "    hidden_range = []\n",
    "    min_lr_init = 0\n",
    "    max_lr_init = 0\n",
    "    min_alpha = 0\n",
    "    max_alpha = 0\n",
    "    min_bs = 0\n",
    "    max_bs = 0\n",
    "    n_iter_no_change = 0\n",
    "    min_tol = 0\n",
    "    max_tol = 0\n",
    "    \n",
    "    def set_ranges(self):\n",
    "\n",
    "        hidden_range = np.unique(df_results['param_hidden_layer_sizes'])\n",
    "        hidden_range = hidden_range.ravel() #convert to array\n",
    "        print(hidden_range)\n",
    "\n",
    "        min_lr_init = np.min(df_results['param_learning_rate_init'])\n",
    "        max_lr_init = np.max(df_results['param_learning_rate_init'])\n",
    "        print(f\"LR: [{min_lr_init}, {max_lr_init}]\")\n",
    "\n",
    "        min_alpha = np.min(df_results['param_alpha'])\n",
    "        max_alpha = np.max(df_results['param_alpha'])\n",
    "        print(f\"alpha: [{min_alpha}, {max_alpha}]\")\n",
    "\n",
    "        min_bs = np.min(df_results['param_batch_size'])\n",
    "        max_bs = np.max(df_results['param_batch_size'])\n",
    "        print(f\"BATCH: [{min_bs}, {max_bs}]\")\n",
    "\n",
    "        n_iter_no_change_range = np.unique(df_results['param_n_iter_no_change'])\n",
    "        n_iter_no_change_range = n_iter_no_change_range.ravel()\n",
    "        print(f\"n_iter_no_change: {n_iter_no_change_range}\")\n",
    "\n",
    "        min_tol = np.min(df_results['param_tol'])\n",
    "        max_tol = np.max(df_results['param_tol'])\n",
    "        print(f\"TOL: [{min_tol}, {max_tol}]\")\n",
    "    \n",
    "    \n",
    "    "
   ]
  },
  {
   "cell_type": "code",
   "execution_count": 56,
   "id": "organized-currency",
   "metadata": {
    "cell_id": "00076-23174bd2-4a5d-4359-b1bd-c76ac582f750",
    "deepnote_cell_type": "code",
    "deepnote_to_be_reexecuted": false,
    "execution_millis": 2,
    "execution_start": 1639943446553,
    "source_hash": "bcb32507",
    "tags": []
   },
   "outputs": [],
   "source": [
    "gs_ranges = GridSearchRanges()"
   ]
  },
  {
   "cell_type": "code",
   "execution_count": 57,
   "id": "found-locator",
   "metadata": {
    "cell_id": "00077-9cc1a6f8-963b-46ec-91c2-89ad70474ea0",
    "deepnote_cell_type": "code",
    "deepnote_to_be_reexecuted": false,
    "execution_millis": 44,
    "execution_start": 1639943446560,
    "source_hash": "a511ee60",
    "tags": []
   },
   "outputs": [
    {
     "name": "stdout",
     "output_type": "stream",
     "text": [
      "['(10, 10)' '(10,)' '(100, 100)' '(100,)' '(25, 25)' '(25,)' '(5, 5)'\n",
      " '(5,)' '(50, 50)' '(50,)']\n",
      "LR: [0.0182725235323224, 0.505114892181715]\n",
      "alpha: [0.0026749434275806, 0.0981592976825805]\n",
      "BATCH: [49, 1300]\n",
      "n_iter_no_change: [10 25 50]\n",
      "TOL: [0.0010004217857715, 0.001098261236852]\n"
     ]
    }
   ],
   "source": [
    "gs_ranges.set_ranges()"
   ]
  },
  {
   "cell_type": "markdown",
   "id": "quality-operations",
   "metadata": {
    "cell_id": "00078-af584a9c-5ee2-44d4-add3-01152ab35545",
    "deepnote_cell_type": "markdown",
    "tags": []
   },
   "source": [
    "### Second Randomized Search using min e max values"
   ]
  },
  {
   "cell_type": "code",
   "execution_count": null,
   "id": "lucky-referral",
   "metadata": {
    "cell_id": "00078-49c10074-50c3-4cb1-812b-bdc4da8e5307",
    "deepnote_cell_type": "code",
    "deepnote_output_heights": [
     611,
     309.109375
    ],
    "deepnote_to_be_reexecuted": false,
    "execution_millis": 4716465,
    "execution_start": 1639943446603,
    "source_hash": "4a4e3bc",
    "tags": []
   },
   "outputs": [],
   "source": [
    "# to find the best set of parameter setting, we can run a grid search\n",
    "from sklearn.model_selection import RandomizedSearchCV\n",
    "from scipy.stats import uniform\n",
    "from scipy.stats import randint\n",
    "from sklearn.metrics import make_scorer\n",
    "\n",
    "# define the parameters' values\n",
    "params = {\n",
    "    #\"hidden_layer_sizes\": hidden_range,\n",
    "    \"activation\" : [\"logistic\", \"tanh\", \"relu\"],\n",
    "    \"solver\": [\"sgd\", \"adam\"],\n",
    "    \"learning_rate\": [\"constant\", \"adaptive\", \"invscaling\"],\n",
    "    \"learning_rate_init\": uniform(min_lr_init, max_lr_init),\n",
    "    \"alpha\": uniform(min_alpha, max_alpha),\n",
    "    \"batch_size\": randint(min_bs, max_bs),\n",
    "    \"n_iter_no_change\": n_iter_no_change_range,\n",
    "    \"random_state\": [69],\n",
    "    \"tol\": uniform(min_tol,max_tol),\n",
    "    \"early_stopping\": [True],\n",
    "    \"validation_fraction\": [0.2],\n",
    "}\n",
    "# define the number of iterations\n",
    "n_iter_search = 10\n",
    "# define the model\n",
    "regressor = MLPRegressor()\n",
    "# define number of k-folds\n",
    "k = 1000\n",
    "# define the grid search\n",
    "rand_gs = RandomizedSearchCV(\n",
    "    regressor,\n",
    "    param_distributions=params,\n",
    "    n_iter=n_iter_search,\n",
    "    n_jobs=-1,\n",
    "    scoring=make_scorer(inv_mee), #scoring is based on the highest value\n",
    "    cv=k,\n",
    ")\n",
    "# run the grid search\n",
    "rand_gs.fit(X, y)\n"
   ]
  },
  {
   "cell_type": "code",
   "execution_count": null,
   "id": "graphic-terrace",
   "metadata": {
    "cell_id": "00080-b47f038e-ba05-465e-9238-926f9564dc06",
    "deepnote_cell_type": "code",
    "deepnote_to_be_reexecuted": false,
    "execution_millis": 301,
    "execution_start": 1639948163069,
    "source_hash": "b73611bd",
    "tags": []
   },
   "outputs": [],
   "source": [
    "df_results = pd.DataFrame(data=rand_gs.cv_results_)\n",
    "pd.DataFrame.to_csv(df_results, \"sklearn_results/rand2_search.csv\")"
   ]
  },
  {
   "cell_type": "code",
   "execution_count": null,
   "id": "checked-starter",
   "metadata": {
    "cell_id": "00081-5034a7eb-4ed8-43d8-b5f7-0b8da6617b7a",
    "deepnote_cell_type": "code",
    "deepnote_to_be_reexecuted": false,
    "execution_millis": 2016,
    "execution_start": 1639948163375,
    "source_hash": "56735aab",
    "tags": []
   },
   "outputs": [],
   "source": [
    "df_results = pd.read_csv(\"sklearn_results/rand2_search.csv\")\n",
    "df_results = df_results[:50]\n",
    "df_results"
   ]
  },
  {
   "cell_type": "code",
   "execution_count": null,
   "id": "danish-internship",
   "metadata": {
    "cell_id": "00081-fc3ed589-20d2-40fb-8c96-60e7fcc4a5c5",
    "deepnote_cell_type": "code",
    "deepnote_to_be_reexecuted": false,
    "execution_millis": 170,
    "execution_start": 1639948705275,
    "source_hash": "ea88e41a",
    "tags": []
   },
   "outputs": [],
   "source": [
    "#get the index of the best model from the dataframe (or just use the rand_gs.best_estimator directly)\n",
    "idx_best_model = int(df_results[df_results['rank_test_score'] == 1].index[0])\n",
    "best_params = df_results['params'][idx_best_model]\n",
    "print(f\"Best params: {best_params}\")"
   ]
  },
  {
   "cell_type": "code",
   "execution_count": null,
   "id": "global-bristol",
   "metadata": {
    "cell_id": "00079-a4d981a9-7f96-42fd-b68f-95173547520a",
    "deepnote_cell_type": "code",
    "deepnote_to_be_reexecuted": false,
    "execution_millis": 1,
    "execution_start": 1639948710402,
    "source_hash": "d73f95c1",
    "tags": []
   },
   "outputs": [],
   "source": [
    "import ast\n",
    "best_params = ast.literal_eval(best_params)"
   ]
  },
  {
   "cell_type": "code",
   "execution_count": null,
   "id": "laden-plate",
   "metadata": {
    "cell_id": "00079-4dfa7b71-4c50-4561-9cb2-f357883c1efa",
    "deepnote_cell_type": "code",
    "deepnote_output_heights": [
     97.9375,
     97.9375
    ],
    "deepnote_to_be_reexecuted": false,
    "execution_millis": 5544,
    "execution_start": 1639949366672,
    "source_hash": "12a0fd75",
    "tags": []
   },
   "outputs": [],
   "source": [
    "best_params['learning_rate_init'] = 0.10\n",
    "best_params['max_iter'] = 1000\n",
    "model = MLPRegressor(**best_params)\n",
    "model.fit(X, y)\n",
    "best_params['early_stopping'] = False\n",
    "eval_model = MLPRegressor(**best_params)"
   ]
  },
  {
   "cell_type": "code",
   "execution_count": null,
   "id": "neural-kenya",
   "metadata": {
    "cell_id": "00082-3033d12b-469c-40d7-a046-5093c1b196ec",
    "deepnote_cell_type": "code",
    "deepnote_output_heights": [
     21.1875
    ],
    "deepnote_to_be_reexecuted": false,
    "execution_millis": 22,
    "execution_start": 1639949384910,
    "source_hash": "c0f59177",
    "tags": []
   },
   "outputs": [],
   "source": [
    "y_predicted_internal = model.predict(X_internal_test)\n",
    "print(f\"Accuracy: {model.score(X_internal_test, y_internal_test)}\")\n",
    "print(f\"MEE: {mee(y_internal_test, y_predicted_internal)}\")"
   ]
  },
  {
   "cell_type": "code",
   "execution_count": null,
   "id": "indoor-picnic",
   "metadata": {
    "cell_id": "00082-8a47b9fe-9cab-4b6c-b0e3-7202eecb19ee",
    "deepnote_cell_type": "code",
    "deepnote_output_heights": [
     40.390625
    ],
    "deepnote_to_be_reexecuted": false,
    "execution_millis": 19563,
    "execution_start": 1639949107927,
    "source_hash": "e101cc15",
    "tags": []
   },
   "outputs": [],
   "source": [
    "train_scores, test_scores, train_loss, test_loss = fit_and_score(model.n_iter_, eval_model, X, y, X_internal_test, y_internal_test)"
   ]
  },
  {
   "cell_type": "markdown",
   "id": "elect-programmer",
   "metadata": {
    "cell_id": "00083-038798c9-56a8-4130-bba3-44bd7b859fc7",
    "deepnote_cell_type": "markdown",
    "tags": []
   },
   "source": [
    " ## Loss Curves"
   ]
  },
  {
   "cell_type": "code",
   "execution_count": null,
   "id": "angry-ensemble",
   "metadata": {
    "cell_id": "00083-7b45a2ea-d5c6-4715-ac7b-f81d15f131e7",
    "deepnote_cell_type": "code",
    "deepnote_output_heights": [
     482
    ],
    "deepnote_to_be_reexecuted": false,
    "execution_millis": 275,
    "execution_start": 1639949127554,
    "source_hash": "2a28b3cd",
    "tags": []
   },
   "outputs": [],
   "source": [
    "plot_learning_curves(train_loss, test_loss, model.n_iter_, \"Loss (MSE)\")"
   ]
  },
  {
   "cell_type": "markdown",
   "id": "compound-pharmaceutical",
   "metadata": {
    "cell_id": "00085-7a7150fe-17f7-4e2f-b8fd-e0ff668dc37a",
    "deepnote_cell_type": "markdown",
    "tags": []
   },
   "source": [
    "## Learning Curves"
   ]
  },
  {
   "cell_type": "code",
   "execution_count": null,
   "id": "electric-graduation",
   "metadata": {
    "cell_id": "00086-ed2d7972-98a0-4381-9a9c-f29d9b4fc448",
    "deepnote_cell_type": "code",
    "deepnote_output_heights": [
     482
    ],
    "deepnote_to_be_reexecuted": false,
    "execution_millis": 267,
    "execution_start": 1639949127846,
    "source_hash": "b6d9a11b",
    "tags": []
   },
   "outputs": [],
   "source": [
    "plot_learning_curves(train_scores, test_scores, model.n_iter_, \"Error (MEE)\")"
   ]
  },
  {
   "cell_type": "markdown",
   "id": "beautiful-hundred",
   "metadata": {
    "cell_id": "00086-1d278b81-4dfb-481b-bd2d-6ecb54124bcb",
    "deepnote_cell_type": "markdown",
    "tags": []
   },
   "source": [
    "### Plot of coordinates x and y from the training set"
   ]
  },
  {
   "cell_type": "code",
   "execution_count": 2,
   "id": "rocky-remainder",
   "metadata": {
    "cell_id": "00008-ecc25ec9-9105-4377-9f71-5d9f2924ad85",
    "deepnote_cell_type": "code",
    "deepnote_output_heights": [
     21.1875,
     264
    ],
    "deepnote_to_be_reexecuted": false,
    "execution_millis": 312,
    "execution_start": 1639934864351,
    "output_cleared": false,
    "source_hash": "c1117b61"
   },
   "outputs": [
    {
     "ename": "NameError",
     "evalue": "name 'plt' is not defined",
     "output_type": "error",
     "traceback": [
      "\u001b[0;31m---------------------------------------------------------------------------\u001b[0m",
      "\u001b[0;31mNameError\u001b[0m                                 Traceback (most recent call last)",
      "\u001b[0;32m<ipython-input-2-6e43602b7759>\u001b[0m in \u001b[0;36m<module>\u001b[0;34m\u001b[0m\n\u001b[0;32m----> 1\u001b[0;31m \u001b[0mplt\u001b[0m\u001b[0;34m.\u001b[0m\u001b[0mxlabel\u001b[0m\u001b[0;34m(\u001b[0m\u001b[0;34m\"x\"\u001b[0m\u001b[0;34m)\u001b[0m\u001b[0;34m\u001b[0m\u001b[0;34m\u001b[0m\u001b[0m\n\u001b[0m\u001b[1;32m      2\u001b[0m \u001b[0mplt\u001b[0m\u001b[0;34m.\u001b[0m\u001b[0mylabel\u001b[0m\u001b[0;34m(\u001b[0m\u001b[0;34m\"y\"\u001b[0m\u001b[0;34m)\u001b[0m\u001b[0;34m\u001b[0m\u001b[0;34m\u001b[0m\u001b[0m\n\u001b[1;32m      3\u001b[0m \u001b[0mplt\u001b[0m\u001b[0;34m.\u001b[0m\u001b[0mscatter\u001b[0m\u001b[0;34m(\u001b[0m\u001b[0mdf_visual\u001b[0m\u001b[0;34m[\u001b[0m\u001b[0;34m'x'\u001b[0m\u001b[0;34m]\u001b[0m\u001b[0;34m,\u001b[0m \u001b[0mdf_visual\u001b[0m\u001b[0;34m[\u001b[0m\u001b[0;34m'y'\u001b[0m\u001b[0;34m]\u001b[0m\u001b[0;34m)\u001b[0m\u001b[0;34m\u001b[0m\u001b[0;34m\u001b[0m\u001b[0m\n",
      "\u001b[0;31mNameError\u001b[0m: name 'plt' is not defined"
     ]
    }
   ],
   "source": [
    "plt.xlabel(\"x\")\n",
    "plt.ylabel(\"y\")\n",
    "plt.scatter(df_visual['x'], df_visual['y'])"
   ]
  },
  {
   "cell_type": "code",
   "execution_count": 83,
   "id": "actual-lease",
   "metadata": {
    "cell_id": "00088-15885ca0-5699-40a2-b898-4d70e5c66228",
    "deepnote_cell_type": "code",
    "deepnote_to_be_reexecuted": false,
    "execution_millis": 4751658,
    "execution_start": 1639934864712,
    "source_hash": "f1e69f93",
    "tags": []
   },
   "outputs": [],
   "source": [
    "def plot_coordinates(model, X):\n",
    "    y_predicted = model.predict(X)\n",
    "    y_predicted = pd.DataFrame(data=y_predicted, columns=[\"x\", \"y\"])\n",
    "    plt.xlabel(\"x\")\n",
    "    plt.ylabel(\"y\")\n",
    "    plt.scatter(y_predicted['x'], y_predicted['y'])\n"
   ]
  },
  {
   "cell_type": "markdown",
   "id": "hearing-brooks",
   "metadata": {
    "cell_id": "00089-9abf5498-eafd-4118-a3de-3d97c0c02e22",
    "deepnote_cell_type": "markdown",
    "tags": []
   },
   "source": [
    "### Predicted points on internal test set"
   ]
  },
  {
   "cell_type": "code",
   "execution_count": 84,
   "id": "dense-correction",
   "metadata": {
    "cell_id": "00087-f28f6cbd-3066-4ba3-a284-0fde9f54668d",
    "deepnote_cell_type": "code",
    "deepnote_output_heights": [
     264
    ],
    "deepnote_to_be_reexecuted": false,
    "execution_millis": 327,
    "execution_start": 1639934864749,
    "source_hash": "b07fbe0a",
    "tags": []
   },
   "outputs": [
    {
     "data": {
      "image/png": "[encoded data removed]",
      "text/plain": [
       "<Figure size 432x288 with 1 Axes>"
      ]
     },
     "metadata": {
      "needs_background": "light"
     },
     "output_type": "display_data"
    }
   ],
   "source": [
    "plot_coordinates(model, X_internal_test)"
   ]
  },
  {
   "cell_type": "markdown",
   "id": "nasty-while",
   "metadata": {
    "cell_id": "00091-b568584b-91e1-4366-8787-cbe43e52c5ec",
    "deepnote_cell_type": "markdown",
    "tags": []
   },
   "source": [
    "### Predicted points on blind test set"
   ]
  },
  {
   "cell_type": "code",
   "execution_count": 85,
   "id": "portable-bouquet",
   "metadata": {
    "cell_id": "00018-c3e0eaa8-5cb8-4442-959c-1a731da2ca8c",
    "deepnote_cell_type": "code",
    "deepnote_output_heights": [
     264,
     250
    ],
    "deepnote_to_be_reexecuted": false,
    "execution_millis": 594,
    "execution_start": 1639934865080,
    "source_hash": "dd65ae1c"
   },
   "outputs": [
    {
     "data": {
      "image/png": "[encoded data removed]",
      "text/plain": [
       "<Figure size 432x288 with 1 Axes>"
      ]
     },
     "metadata": {
      "needs_background": "light"
     },
     "output_type": "display_data"
    }
   ],
   "source": [
    "plot_coordinates(model, blind_ts)"
   ]
  },
  {
   "cell_type": "markdown",
   "id": "therapeutic-pierre",
   "metadata": {
    "cell_id": "00093-f93332e9-e7a3-4cbf-83bd-c8500ee574cc",
    "deepnote_cell_type": "markdown",
    "tags": []
   },
   "source": [
    "## Ensemble "
   ]
  },
  {
   "cell_type": "code",
   "execution_count": 86,
   "id": "greek-handbook",
   "metadata": {
    "cell_id": "00092-d05d51a0-5f9c-46a2-bdeb-3b3c4141f9e2",
    "deepnote_cell_type": "code",
    "deepnote_to_be_reexecuted": false,
    "execution_millis": 356,
    "execution_start": 1639934865431,
    "source_hash": "bc23f9b2",
    "tags": []
   },
   "outputs": [],
   "source": [
    "from sklearn.ensemble import BaggingRegressor"
   ]
  },
  {
   "cell_type": "code",
   "execution_count": 87,
   "id": "married-marina",
   "metadata": {
    "cell_id": "00093-dde78d36-f0d3-4bb8-be88-50d88c6465bd",
    "deepnote_cell_type": "code",
    "deepnote_to_be_reexecuted": false,
    "execution_millis": 11812,
    "execution_start": 1639934865799,
    "source_hash": "70aaf321",
    "tags": []
   },
   "outputs": [],
   "source": [
    "ensembler = BaggingRegressor(model, n_estimators=10, n_jobs=-1, random_state=69).fit(X, y)"
   ]
  },
  {
   "cell_type": "code",
   "execution_count": 88,
   "id": "supposed-boring",
   "metadata": {
    "cell_id": "00094-53b977c3-d07e-46bb-8b27-6bf2ae6c4d56",
    "deepnote_cell_type": "code",
    "deepnote_to_be_reexecuted": false,
    "execution_millis": 130,
    "execution_start": 1639934877699,
    "source_hash": "a125b1f4",
    "tags": []
   },
   "outputs": [
    {
     "name": "stdout",
     "output_type": "stream",
     "text": [
      "Accuracy: 0.9550197429725471\n",
      "MEE: 1.0005128850297922\n"
     ]
    }
   ],
   "source": [
    "y_predicted_internal_ensemble = ensembler.predict(X_internal_test)\n",
    "print(f\"Accuracy: {model.score(X_internal_test, y_internal_test)}\")\n",
    "print(f\"MEE: {mee(y_internal_test, y_predicted_internal_ensemble)}\")"
   ]
  },
  {
   "cell_type": "markdown",
   "id": "wooden-robertson",
   "metadata": {
    "cell_id": "00097-5228796c-20df-48f7-b805-512d228ef30f",
    "deepnote_cell_type": "markdown",
    "tags": []
   },
   "source": [
    "### Predicted points on internal test set using ensemble"
   ]
  },
  {
   "cell_type": "code",
   "execution_count": 89,
   "id": "genuine-american",
   "metadata": {
    "cell_id": "00095-29178bf8-e53b-49f2-9b9f-6bc993f430ba",
    "deepnote_cell_type": "code",
    "deepnote_output_heights": [
     264
    ],
    "deepnote_to_be_reexecuted": false,
    "execution_millis": 476,
    "execution_start": 1639934877865,
    "source_hash": "9bb8561",
    "tags": []
   },
   "outputs": [
    {
     "data": {
      "image/png": "[encoded data removed]",
      "text/plain": [
       "<Figure size 432x288 with 1 Axes>"
      ]
     },
     "metadata": {
      "needs_background": "light"
     },
     "output_type": "display_data"
    }
   ],
   "source": [
    "plot_coordinates(ensembler, X_internal_test)"
   ]
  },
  {
   "cell_type": "markdown",
   "id": "infectious-brisbane",
   "metadata": {
    "cell_id": "00099-a003a56a-ada4-43f9-9685-22118d6682cd",
    "deepnote_cell_type": "markdown",
    "tags": []
   },
   "source": [
    "### Predicted points on blind test set using Ensemble"
   ]
  },
  {
   "cell_type": "code",
   "execution_count": 90,
   "id": "exclusive-heath",
   "metadata": {
    "cell_id": "00096-5a316c05-fb63-44eb-9a33-25e78e40f89a",
    "deepnote_cell_type": "code",
    "deepnote_output_heights": [
     264,
     250
    ],
    "deepnote_to_be_reexecuted": false,
    "execution_millis": 492,
    "execution_start": 1639934878346,
    "source_hash": "b31df7a1",
    "tags": []
   },
   "outputs": [
    {
     "data": {
      "image/png": "[encoded data removed]",
      "text/plain": [
       "<Figure size 432x288 with 1 Axes>"
      ]
     },
     "metadata": {
      "needs_background": "light"
     },
     "output_type": "display_data"
    }
   ],
   "source": [
    "plot_coordinates(ensembler, blind_ts)"
   ]
  },
  {
   "cell_type": "markdown",
   "id": "inside-america",
   "metadata": {
    "cell_id": "00041-72803b78-b30b-4b53-a6a2-9024e59b7c1a",
    "deepnote_cell_type": "markdown",
    "tags": []
   },
   "source": [
    "### Grid Search using K-fold cross validation\n",
    "An exhaustive search will be performed using the parameters defined, to choose the best model a k-fold cross validation will be used."
   ]
  },
  {
   "cell_type": "code",
   "execution_count": null,
   "id": "martial-constant",
   "metadata": {
    "cell_id": "00033-cc6be975-b698-4b57-af7e-95b2a405a092",
    "deepnote_cell_type": "code",
    "deepnote_output_heights": [
     213.1875
    ],
    "deepnote_to_be_reexecuted": false,
    "execution_millis": 19884,
    "execution_start": 1639935720524,
    "source_hash": "7f5fdf47",
    "tags": []
   },
   "outputs": [],
   "source": [
    "#in order to find the best set of parameter setting, we can run a grid search\n",
    "from sklearn.model_selection import GridSearchCV\n",
    "from sklearn.metrics import make_scorer\n",
    "\n",
    "#define the parameters' values you want to try\n",
    "params = {'activation': ['tanh'], \n",
    "            'alpha': [0.001, 0.002,0.0032723479710304857], \n",
    "            'batch_size': [676], \n",
    "            'early_stopping': [True], \n",
    "            'hidden_layer_sizes': [(50, 50)], \n",
    "            'learning_rate': ['invscaling'], \n",
    "            'learning_rate_init': [0.07000559724451492], \n",
    "            'n_iter_no_change': [25], \n",
    "            'random_state': [69], \n",
    "            'solver': ['adam'], \n",
    "            'tol': [0.0010351423029625658], \n",
    "            'validation_fraction': [0.2]\n",
    "        }\n",
    "# define the model\n",
    "regressor = MLPRegressor()\n",
    "# define number of k-folds\n",
    "k = 5\n",
    "# define the grid search\n",
    "gs = GridSearchCV(\n",
    "    regressor,\n",
    "    param_grid=params,\n",
    "    n_jobs=-1,\n",
    "    scoring=make_scorer(inv_mee), #scoring is based on the highest value\n",
    "    cv=k,\n",
    ")\n",
    "# run the grid search\n",
    "gs.fit(X, y)"
   ]
  },
  {
   "cell_type": "code",
   "execution_count": null,
   "id": "collaborative-bahrain",
   "metadata": {
    "cell_id": "00015-8a2ec77d-a1cc-40fb-9b1b-5ae457f809ae",
    "deepnote_cell_type": "code",
    "deepnote_to_be_reexecuted": false,
    "execution_millis": 19,
    "execution_start": 1639935740415,
    "source_hash": "e470277",
    "tags": []
   },
   "outputs": [],
   "source": [
    "print('Best setting parameters ', gs.best_params_)"
   ]
  },
  {
   "cell_type": "code",
   "execution_count": null,
   "id": "limited-concord",
   "metadata": {
    "cell_id": "00103-1818aa06-78d4-4fd6-b853-b41797a4aff7",
    "deepnote_cell_type": "code",
    "deepnote_to_be_reexecuted": false,
    "execution_millis": 28,
    "execution_start": 1639935740437,
    "source_hash": "7103fe27",
    "tags": []
   },
   "outputs": [],
   "source": [
    "df_results = pd.DataFrame(data=gs.cv_results_)"
   ]
  },
  {
   "cell_type": "code",
   "execution_count": null,
   "id": "fixed-threat",
   "metadata": {
    "cell_id": "00104-c7a1639c-48ad-46dd-996c-9792d7afe180",
    "deepnote_cell_type": "code",
    "deepnote_to_be_reexecuted": false,
    "execution_millis": 16,
    "execution_start": 1639935740652,
    "source_hash": "1be22ceb",
    "tags": []
   },
   "outputs": [],
   "source": [
    "df_esults"
   ]
  },
  {
   "cell_type": "code",
   "execution_count": null,
   "id": "perceived-roommate",
   "metadata": {
    "cell_id": "00105-0720cdfc-554d-4220-bd28-9ca22f0a7bd5",
    "deepnote_cell_type": "code",
    "deepnote_to_be_reexecuted": false,
    "execution_millis": 2997,
    "execution_start": 1639936342467,
    "source_hash": "8716970f",
    "tags": []
   },
   "outputs": [],
   "source": [
    "model = gs.best_estimator_\n",
    "best_params['early_stopping'] = True\n",
    "best_params['max_iter'] = 500\n",
    "model = MLPRegressor(**best_params)\n",
    "model.fit(X, y)\n",
    "best_params['early_stopping'] = False\n",
    "eval_model = MLPRegressor(**best_params)"
   ]
  },
  {
   "cell_type": "code",
   "execution_count": null,
   "id": "blank-calendar",
   "metadata": {
    "cell_id": "00106-da8ebd38-d3ef-42f5-9966-a7942780802b",
    "deepnote_cell_type": "code",
    "deepnote_to_be_reexecuted": false,
    "execution_millis": 25,
    "execution_start": 1639936345512,
    "source_hash": "c0f59177",
    "tags": []
   },
   "outputs": [],
   "source": [
    "y_predicted_internal = model.predict(X_internal_test)\n",
    "print(f\"Accuracy: {model.score(X_internal_test, y_internal_test)}\")\n",
    "print(f\"MEE: {mee(y_internal_test, y_predicted_internal)}\")"
   ]
  },
  {
   "cell_type": "code",
   "execution_count": null,
   "id": "framed-sherman",
   "metadata": {
    "cell_id": "00107-00ef44f4-75ee-41ed-ad01-3dd5478c5535",
    "deepnote_cell_type": "code",
    "deepnote_output_heights": [
     264
    ],
    "deepnote_to_be_reexecuted": false,
    "execution_millis": 222,
    "execution_start": 1639936354616,
    "source_hash": "b07fbe0a",
    "tags": []
   },
   "outputs": [],
   "source": [
    "plot_coordinates(model, X_internal_test)"
   ]
  },
  {
   "cell_type": "code",
   "execution_count": null,
   "id": "transsexual-conspiracy",
   "metadata": {
    "cell_id": "00108-98e2f7d3-a92a-4ba6-86d1-07297b74907a",
    "deepnote_cell_type": "code",
    "deepnote_output_heights": [
     264
    ],
    "deepnote_to_be_reexecuted": false,
    "execution_millis": 330,
    "execution_start": 1639936358083,
    "source_hash": "dd65ae1c",
    "tags": []
   },
   "outputs": [],
   "source": [
    "plot_coordinates(model, blind_ts)"
   ]
  },
  {
   "cell_type": "code",
   "execution_count": null,
   "id": "hazardous-oasis",
   "metadata": {
    "cell_id": "00109-f3cccfb0-5b27-4d96-8713-c1b0b674bfae",
    "deepnote_cell_type": "code",
    "tags": []
   },
   "outputs": [],
   "source": []
  },
  {
   "cell_type": "markdown",
   "id": "linear-peter",
   "metadata": {
    "created_in_deepnote_cell": true,
    "deepnote_cell_type": "markdown",
    "tags": []
   },
   "source": [
    "<a style='text-decoration:none;line-height:16px;display:flex;color:#5B5B62;padding:10px;justify-content:end;' href='https://deepnote.com?utm_source=created-in-deepnote-cell&projectId=d9d840c9-75b3-4185-bb01-105f5cca8d83' target=\"_blank\">\n",
    "<img alt='Created in deepnote.com' style='display:inline;max-height:16px;margin:0px;margin-right:7.5px;' src='data:image/svg+xml;base64,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' > </img>\n",
    "Created in <span style='font-weight:600;margin-left:4px;'>Deepnote</span></a>"
   ]
  }
 ],
 "metadata": {
  "deepnote": {},
  "deepnote_execution_queue": [],
  "deepnote_notebook_id": "e6b16fc5-d82c-42a1-becc-b3e3eb4c046e",
  "kernelspec": {
   "display_name": "Python 3",
   "language": "python",
   "name": "python3"
  },
  "language_info": {
   "codemirror_mode": {
    "name": "ipython",
    "version": 3
   },
   "file_extension": ".py",
   "mimetype": "text/x-python",
   "name": "python",
   "nbconvert_exporter": "python",
   "pygments_lexer": "ipython3",
   "version": "3.9.7"
  }
 },
 "nbformat": 4,
 "nbformat_minor": 5
}
