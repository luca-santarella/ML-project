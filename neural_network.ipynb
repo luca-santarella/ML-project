{
 "cells": [
  {
   "cell_type": "markdown",
   "source": "# Machine Learning project a.y. 2021/2022",
   "metadata": {
    "cell_id": "00000-20b425aa-ea48-417e-8de8-80b798a56627",
    "deepnote_cell_type": "markdown"
   }
  },
  {
   "cell_type": "markdown",
   "source": "## Scikit-learn MLP model",
   "metadata": {
    "cell_id": "00001-0b4766be-7481-4245-b46b-e62d89f13e8e",
    "deepnote_cell_type": "markdown"
   }
  },
  {
   "cell_type": "markdown",
   "source": "## Importing libraries",
   "metadata": {
    "cell_id": "00002-df7e2378-8b40-4303-a2e1-ed002e501fc7",
    "deepnote_cell_type": "markdown"
   }
  },
  {
   "cell_type": "code",
   "metadata": {
    "cell_id": "00003-61dc5a13-3cd8-445b-b8de-c471ff2498d2",
    "deepnote_to_be_reexecuted": false,
    "execution_millis": 2447,
    "execution_start": 1641996380818,
    "source_hash": "65cbb9bb",
    "output_cleared": true,
    "deepnote_cell_type": "code"
   },
   "source": "import pandas as pd\nimport matplotlib.pyplot as plt\nimport numpy as np\nimport ast\n\nfrom sklearn.model_selection import RandomizedSearchCV\nfrom sklearn.model_selection import GridSearchCV\nfrom scipy.stats import uniform\nfrom scipy.stats import randint\nfrom sklearn.metrics import make_scorer\nfrom sklearn.metrics import mean_squared_error\nfrom sklearn.metrics import log_loss\nfrom sklearn.metrics import accuracy_score\nfrom sklearn.preprocessing import OneHotEncoder\nfrom sklearn.neural_network import MLPRegressor\nfrom sklearn.neural_network import MLPClassifier\nfrom sklearn.model_selection import train_test_split\nfrom sklearn.ensemble import BaggingRegressor\nfrom dataclasses import dataclass",
   "execution_count": 1,
   "outputs": []
  },
  {
   "cell_type": "markdown",
   "source": "## Loading training set and blind test set",
   "metadata": {
    "cell_id": "00004-04491b00-26f4-4580-8468-20e4c04795c7",
    "deepnote_cell_type": "markdown"
   }
  },
  {
   "cell_type": "code",
   "metadata": {
    "cell_id": "00005-0b8f7c5b-8577-4b82-b67f-ece4b4ff2886",
    "deepnote_to_be_reexecuted": false,
    "execution_millis": 25,
    "execution_start": 1641996383272,
    "source_hash": "47b90439",
    "output_cleared": true,
    "deepnote_cell_type": "code"
   },
   "source": "df_visual = pd.read_csv('./data/ML-CUP21-TR.csv', usecols=[11,12], names=['idx','f1','f2','f3','f4','f5','f6','f7','f8','f9','f10', 'x','y'])\ndf_task_tr = pd.read_csv('./data/ML-CUP21-TR.csv', names=['idx','f1','f2','f3','f4','f5','f6','f7','f8','f9','f10', 'x','y'])\ndf_task_tr = df_task_tr[7:] # remove first 7 rows of comments\ndf_visual = df_visual[7:]\n\ndf_blind_ts = pd.read_csv('./data/ML-CUP21-TS.csv', names=['idx','f1','f2','f3','f4','f5','f6','f7','f8','f9','f10'])\ndf_blind_ts = df_blind_ts[7:]\ndf_blind_ts.drop(labels=\"idx\", axis=1, inplace=True)\nblind_ts = df_blind_ts.values",
   "execution_count": 2,
   "outputs": []
  },
  {
   "cell_type": "markdown",
   "source": "## Evaluation metrics",
   "metadata": {
    "cell_id": "00006-fc39440c-f97d-48b6-9a6f-04e25869dd3c",
    "tags": [],
    "deepnote_cell_type": "markdown"
   }
  },
  {
   "cell_type": "markdown",
   "source": "We define the <b>MEE (Mean Euclidean Error)</b> function which is used to evaluate the mean euclidean distance between two points with x and y coordinates.\nThe function takes in input the true target and the predicted target and yields a floating point number which represents the performance. ",
   "metadata": {
    "cell_id": "00007-312152ea-73a2-4516-97fc-e5f48223942c",
    "tags": [],
    "deepnote_cell_type": "markdown"
   }
  },
  {
   "cell_type": "code",
   "metadata": {
    "cell_id": "00007-a6b9a678-2524-4d79-9ec4-9d60d31af723",
    "deepnote_to_be_reexecuted": false,
    "execution_millis": 3,
    "execution_start": 1641996383302,
    "source_hash": "3afbb4cb",
    "tags": [],
    "output_cleared": true,
    "deepnote_cell_type": "code"
   },
   "source": "def mee(true_target, predicted_target): #assuming target is 2-dim matrix with x and y as columns\n    l = true_target.shape[0]\n    res = 0\n    \n    for p in range(l): #for p-th pattern in l (number of samples)\n        x_diff = np.square(true_target[p,0] - predicted_target[p,0]) #difference between the x value of the true and predicted target\n        y_diff = np.square(true_target[p,1] - predicted_target[p,1]) #difference between the y values of true and predicted target\n        sum_term = x_diff + y_diff\n        res = res + np.sqrt(sum_term)\n    res = res / l\n    \n    #return np.average([np.sqrt(np.square(true_target[p,0] - predicted_target[p,0]) + np.square(true_target[p,1] - predicted_target[p,1])) for p in range(l)]) #compact form\n    return res",
   "execution_count": 3,
   "outputs": []
  },
  {
   "cell_type": "markdown",
   "source": "We also define a random state (seed) to allow reproducibility on our experiments",
   "metadata": {
    "tags": [],
    "cell_id": "00009-72e3da48-6f6c-49e7-9f92-f42c261751d7",
    "deepnote_cell_type": "markdown"
   }
  },
  {
   "cell_type": "code",
   "metadata": {
    "tags": [],
    "cell_id": "00010-650537af-6359-44cf-9faf-20e7f2e8fb02",
    "deepnote_to_be_reexecuted": false,
    "source_hash": "596ccc7b",
    "execution_start": 1641996383308,
    "execution_millis": 1,
    "deepnote_cell_type": "code"
   },
   "source": "RS_NUMBER = 69",
   "execution_count": 4,
   "outputs": []
  },
  {
   "cell_type": "markdown",
   "source": "## MONK Dataset\n### MONK1",
   "metadata": {
    "cell_id": "00007-59c038d7-e2fc-4096-a98b-40251fd46776",
    "tags": [],
    "deepnote_cell_type": "markdown"
   }
  },
  {
   "cell_type": "code",
   "metadata": {
    "cell_id": "00007-c3b356df-c502-47fc-8d23-3fcff863da5c",
    "deepnote_to_be_reexecuted": false,
    "execution_millis": 2,
    "execution_start": 1641996383314,
    "source_hash": "ea6e0f83",
    "tags": [],
    "output_cleared": true,
    "deepnote_cell_type": "code"
   },
   "source": "def load_monk(path_train, path_test):\n    df_monk_train = pd.read_csv(path_train, sep=\" \", skipinitialspace=True, names=['class','a1','a2','a3','a4','a5','a6','id'])\n    df_monk_train.drop(labels='id', axis=1, inplace=True)\n\n    df_monk_test = pd.read_csv(path_test, sep=\" \", skipinitialspace=True,  names=['class','a1','a2','a3','a4','a5','a6','id'])\n    df_monk_test.drop(labels='id', axis=1, inplace=True)\n\n    return df_monk_train, df_monk_test",
   "execution_count": 5,
   "outputs": []
  },
  {
   "cell_type": "markdown",
   "source": "### Loading MONK1 dataset",
   "metadata": {
    "cell_id": "00008-746c454e-4088-4707-aa50-3d6bdfd11301",
    "tags": [],
    "deepnote_cell_type": "markdown"
   }
  },
  {
   "cell_type": "code",
   "metadata": {
    "cell_id": "00008-2fddf6b4-7e3c-4ebb-bfec-6fd970b822d3",
    "deepnote_to_be_reexecuted": false,
    "execution_millis": 0,
    "execution_start": 1641996383364,
    "source_hash": "22e36aaa",
    "tags": [],
    "output_cleared": true,
    "deepnote_cell_type": "code"
   },
   "source": "df_monk1_train, df_monk1_test = load_monk('./data/MONK/monks-1.train', './data/MONK/monks-1.test')",
   "execution_count": 6,
   "outputs": []
  },
  {
   "cell_type": "code",
   "metadata": {
    "cell_id": "00009-c89d2e6c-43bb-48e8-aeb3-a2392afb9980",
    "deepnote_to_be_reexecuted": false,
    "execution_millis": 108,
    "execution_start": 1641996383365,
    "source_hash": "fd91453c",
    "tags": [],
    "output_cleared": false,
    "deepnote_cell_type": "code"
   },
   "source": "df_monk1_train.head() #first column is the target (can be either 0 or 1)",
   "execution_count": 7,
   "outputs": [
    {
     "output_type": "execute_result",
     "execution_count": 7,
     "data": {
      "application/vnd.deepnote.dataframe.v3+json": {
       "column_count": 7,
       "row_count": 5,
       "columns": [
        {
         "name": "class",
         "dtype": "int64",
         "stats": {
          "unique_count": 1,
          "nan_count": 0,
          "min": "1",
          "max": "1",
          "histogram": [
           {
            "bin_start": 0.5,
            "bin_end": 0.6,
            "count": 0
           },
           {
            "bin_start": 0.6,
            "bin_end": 0.7,
            "count": 0
           },
           {
            "bin_start": 0.7,
            "bin_end": 0.8,
            "count": 0
           },
           {
            "bin_start": 0.8,
            "bin_end": 0.9,
            "count": 0
           },
           {
            "bin_start": 0.9,
            "bin_end": 1,
            "count": 0
           },
           {
            "bin_start": 1,
            "bin_end": 1.1,
            "count": 5
           },
           {
            "bin_start": 1.1,
            "bin_end": 1.2000000000000002,
            "count": 0
           },
           {
            "bin_start": 1.2000000000000002,
            "bin_end": 1.3,
            "count": 0
           },
           {
            "bin_start": 1.3,
            "bin_end": 1.4,
            "count": 0
           },
           {
            "bin_start": 1.4,
            "bin_end": 1.5,
            "count": 0
           }
          ]
         }
        },
        {
         "name": "a1",
         "dtype": "int64",
         "stats": {
          "unique_count": 1,
          "nan_count": 0,
          "min": "1",
          "max": "1",
          "histogram": [
           {
            "bin_start": 0.5,
            "bin_end": 0.6,
            "count": 0
           },
           {
            "bin_start": 0.6,
            "bin_end": 0.7,
            "count": 0
           },
           {
            "bin_start": 0.7,
            "bin_end": 0.8,
            "count": 0
           },
           {
            "bin_start": 0.8,
            "bin_end": 0.9,
            "count": 0
           },
           {
            "bin_start": 0.9,
            "bin_end": 1,
            "count": 0
           },
           {
            "bin_start": 1,
            "bin_end": 1.1,
            "count": 5
           },
           {
            "bin_start": 1.1,
            "bin_end": 1.2000000000000002,
            "count": 0
           },
           {
            "bin_start": 1.2000000000000002,
            "bin_end": 1.3,
            "count": 0
           },
           {
            "bin_start": 1.3,
            "bin_end": 1.4,
            "count": 0
           },
           {
            "bin_start": 1.4,
            "bin_end": 1.5,
            "count": 0
           }
          ]
         }
        },
        {
         "name": "a2",
         "dtype": "int64",
         "stats": {
          "unique_count": 1,
          "nan_count": 0,
          "min": "1",
          "max": "1",
          "histogram": [
           {
            "bin_start": 0.5,
            "bin_end": 0.6,
            "count": 0
           },
           {
            "bin_start": 0.6,
            "bin_end": 0.7,
            "count": 0
           },
           {
            "bin_start": 0.7,
            "bin_end": 0.8,
            "count": 0
           },
           {
            "bin_start": 0.8,
            "bin_end": 0.9,
            "count": 0
           },
           {
            "bin_start": 0.9,
            "bin_end": 1,
            "count": 0
           },
           {
            "bin_start": 1,
            "bin_end": 1.1,
            "count": 5
           },
           {
            "bin_start": 1.1,
            "bin_end": 1.2000000000000002,
            "count": 0
           },
           {
            "bin_start": 1.2000000000000002,
            "bin_end": 1.3,
            "count": 0
           },
           {
            "bin_start": 1.3,
            "bin_end": 1.4,
            "count": 0
           },
           {
            "bin_start": 1.4,
            "bin_end": 1.5,
            "count": 0
           }
          ]
         }
        },
        {
         "name": "a3",
         "dtype": "int64",
         "stats": {
          "unique_count": 2,
          "nan_count": 0,
          "min": "1",
          "max": "2",
          "histogram": [
           {
            "bin_start": 1,
            "bin_end": 1.1,
            "count": 4
           },
           {
            "bin_start": 1.1,
            "bin_end": 1.2,
            "count": 0
           },
           {
            "bin_start": 1.2,
            "bin_end": 1.3,
            "count": 0
           },
           {
            "bin_start": 1.3,
            "bin_end": 1.4,
            "count": 0
           },
           {
            "bin_start": 1.4,
            "bin_end": 1.5,
            "count": 0
           },
           {
            "bin_start": 1.5,
            "bin_end": 1.6,
            "count": 0
           },
           {
            "bin_start": 1.6,
            "bin_end": 1.7000000000000002,
            "count": 0
           },
           {
            "bin_start": 1.7000000000000002,
            "bin_end": 1.8,
            "count": 0
           },
           {
            "bin_start": 1.8,
            "bin_end": 1.9,
            "count": 0
           },
           {
            "bin_start": 1.9,
            "bin_end": 2,
            "count": 1
           }
          ]
         }
        },
        {
         "name": "a4",
         "dtype": "int64",
         "stats": {
          "unique_count": 2,
          "nan_count": 0,
          "min": "1",
          "max": "3",
          "histogram": [
           {
            "bin_start": 1,
            "bin_end": 1.2,
            "count": 3
           },
           {
            "bin_start": 1.2,
            "bin_end": 1.4,
            "count": 0
           },
           {
            "bin_start": 1.4,
            "bin_end": 1.6,
            "count": 0
           },
           {
            "bin_start": 1.6,
            "bin_end": 1.8,
            "count": 0
           },
           {
            "bin_start": 1.8,
            "bin_end": 2,
            "count": 0
           },
           {
            "bin_start": 2,
            "bin_end": 2.2,
            "count": 0
           },
           {
            "bin_start": 2.2,
            "bin_end": 2.4000000000000004,
            "count": 0
           },
           {
            "bin_start": 2.4000000000000004,
            "bin_end": 2.6,
            "count": 0
           },
           {
            "bin_start": 2.6,
            "bin_end": 2.8,
            "count": 0
           },
           {
            "bin_start": 2.8,
            "bin_end": 3,
            "count": 2
           }
          ]
         }
        },
        {
         "name": "a5",
         "dtype": "int64",
         "stats": {
          "unique_count": 2,
          "nan_count": 0,
          "min": "2",
          "max": "3",
          "histogram": [
           {
            "bin_start": 2,
            "bin_end": 2.1,
            "count": 2
           },
           {
            "bin_start": 2.1,
            "bin_end": 2.2,
            "count": 0
           },
           {
            "bin_start": 2.2,
            "bin_end": 2.3,
            "count": 0
           },
           {
            "bin_start": 2.3,
            "bin_end": 2.4,
            "count": 0
           },
           {
            "bin_start": 2.4,
            "bin_end": 2.5,
            "count": 0
           },
           {
            "bin_start": 2.5,
            "bin_end": 2.6,
            "count": 0
           },
           {
            "bin_start": 2.6,
            "bin_end": 2.7,
            "count": 0
           },
           {
            "bin_start": 2.7,
            "bin_end": 2.8,
            "count": 0
           },
           {
            "bin_start": 2.8,
            "bin_end": 2.9,
            "count": 0
           },
           {
            "bin_start": 2.9,
            "bin_end": 3,
            "count": 3
           }
          ]
         }
        },
        {
         "name": "a6",
         "dtype": "int64",
         "stats": {
          "unique_count": 2,
          "nan_count": 0,
          "min": "1",
          "max": "2",
          "histogram": [
           {
            "bin_start": 1,
            "bin_end": 1.1,
            "count": 3
           },
           {
            "bin_start": 1.1,
            "bin_end": 1.2,
            "count": 0
           },
           {
            "bin_start": 1.2,
            "bin_end": 1.3,
            "count": 0
           },
           {
            "bin_start": 1.3,
            "bin_end": 1.4,
            "count": 0
           },
           {
            "bin_start": 1.4,
            "bin_end": 1.5,
            "count": 0
           },
           {
            "bin_start": 1.5,
            "bin_end": 1.6,
            "count": 0
           },
           {
            "bin_start": 1.6,
            "bin_end": 1.7000000000000002,
            "count": 0
           },
           {
            "bin_start": 1.7000000000000002,
            "bin_end": 1.8,
            "count": 0
           },
           {
            "bin_start": 1.8,
            "bin_end": 1.9,
            "count": 0
           },
           {
            "bin_start": 1.9,
            "bin_end": 2,
            "count": 2
           }
          ]
         }
        },
        {
         "name": "_deepnote_index_column",
         "dtype": "int64"
        }
       ],
       "rows": [
        {
         "class": 1,
         "a1": 1,
         "a2": 1,
         "a3": 1,
         "a4": 1,
         "a5": 3,
         "a6": 1,
         "_deepnote_index_column": 0
        },
        {
         "class": 1,
         "a1": 1,
         "a2": 1,
         "a3": 1,
         "a4": 1,
         "a5": 3,
         "a6": 2,
         "_deepnote_index_column": 1
        },
        {
         "class": 1,
         "a1": 1,
         "a2": 1,
         "a3": 1,
         "a4": 3,
         "a5": 2,
         "a6": 1,
         "_deepnote_index_column": 2
        },
        {
         "class": 1,
         "a1": 1,
         "a2": 1,
         "a3": 1,
         "a4": 3,
         "a5": 3,
         "a6": 2,
         "_deepnote_index_column": 3
        },
        {
         "class": 1,
         "a1": 1,
         "a2": 1,
         "a3": 2,
         "a4": 1,
         "a5": 2,
         "a6": 1,
         "_deepnote_index_column": 4
        }
       ]
      },
      "text/plain": "   class  a1  a2  a3  a4  a5  a6\n0      1   1   1   1   1   3   1\n1      1   1   1   1   1   3   2\n2      1   1   1   1   3   2   1\n3      1   1   1   1   3   3   2\n4      1   1   1   2   1   2   1",
      "text/html": "<div>\n<style scoped>\n    .dataframe tbody tr th:only-of-type {\n        vertical-align: middle;\n    }\n\n    .dataframe tbody tr th {\n        vertical-align: top;\n    }\n\n    .dataframe thead th {\n        text-align: right;\n    }\n</style>\n<table border=\"1\" class=\"dataframe\">\n  <thead>\n    <tr style=\"text-align: right;\">\n      <th></th>\n      <th>class</th>\n      <th>a1</th>\n      <th>a2</th>\n      <th>a3</th>\n      <th>a4</th>\n      <th>a5</th>\n      <th>a6</th>\n    </tr>\n  </thead>\n  <tbody>\n    <tr>\n      <th>0</th>\n      <td>1</td>\n      <td>1</td>\n      <td>1</td>\n      <td>1</td>\n      <td>1</td>\n      <td>3</td>\n      <td>1</td>\n    </tr>\n    <tr>\n      <th>1</th>\n      <td>1</td>\n      <td>1</td>\n      <td>1</td>\n      <td>1</td>\n      <td>1</td>\n      <td>3</td>\n      <td>2</td>\n    </tr>\n    <tr>\n      <th>2</th>\n      <td>1</td>\n      <td>1</td>\n      <td>1</td>\n      <td>1</td>\n      <td>3</td>\n      <td>2</td>\n      <td>1</td>\n    </tr>\n    <tr>\n      <th>3</th>\n      <td>1</td>\n      <td>1</td>\n      <td>1</td>\n      <td>1</td>\n      <td>3</td>\n      <td>3</td>\n      <td>2</td>\n    </tr>\n    <tr>\n      <th>4</th>\n      <td>1</td>\n      <td>1</td>\n      <td>1</td>\n      <td>2</td>\n      <td>1</td>\n      <td>2</td>\n      <td>1</td>\n    </tr>\n  </tbody>\n</table>\n</div>"
     },
     "metadata": {}
    }
   ]
  },
  {
   "cell_type": "code",
   "metadata": {
    "cell_id": "00011-1bc9168b-9ca9-4067-baa9-e66238655971",
    "deepnote_to_be_reexecuted": false,
    "execution_millis": 1,
    "execution_start": 1641996383459,
    "source_hash": "e12ddd86",
    "tags": [],
    "output_cleared": true,
    "deepnote_cell_type": "code"
   },
   "source": "def split_train_test(df_monk_train, df_monk_test):\n    target_train = df_monk_train[['class']]\n    df_monk_train.drop(labels='class', axis=1, inplace=True)\n    target_test = df_monk_test[['class']]\n    df_monk_test.drop(labels='class', axis=1, inplace=True)\n    X_train = df_monk_train.values #returns a ndarray\n    y_train = target_train.values.ravel() #flattens the array into a 1-dimensional array\n    X_test = df_monk_test.values\n    y_test = target_test.values.ravel()\n\n    return X_train, y_train, X_test, y_test",
   "execution_count": 8,
   "outputs": []
  },
  {
   "cell_type": "markdown",
   "source": "### Splitting the MONK1 dataset into train and test set",
   "metadata": {
    "cell_id": "00012-3c38b317-e420-4e0c-88cd-c12833336f87",
    "tags": [],
    "deepnote_cell_type": "markdown"
   }
  },
  {
   "cell_type": "code",
   "metadata": {
    "cell_id": "00012-23d2d223-d052-45a0-9827-af2e7f10aa47",
    "deepnote_output_heights": [
     611
    ],
    "deepnote_to_be_reexecuted": false,
    "execution_millis": 0,
    "execution_start": 1641996383460,
    "source_hash": "ea61b89e",
    "tags": [],
    "output_cleared": true,
    "deepnote_cell_type": "code"
   },
   "source": "X_train_M1, y_train_M1, X_test_M1, y_test_M1 = split_train_test(df_monk1_train, df_monk1_test)",
   "execution_count": 9,
   "outputs": []
  },
  {
   "cell_type": "markdown",
   "source": "### One hot encoding of MONK1\nIn the MONK dataset we have the categories encoded using label encoding (e.g. 0,1,2,..), we need to use one hot encoding in order to have better results (e.g. 001, 010, ..). ",
   "metadata": {
    "cell_id": "00013-e9ed08e1-8231-46ab-8e39-4033e01f6195",
    "tags": [],
    "deepnote_cell_type": "markdown"
   }
  },
  {
   "cell_type": "code",
   "metadata": {
    "cell_id": "00013-60208cfc-c403-487e-ab14-9b3f9ac379a8",
    "deepnote_output_heights": [
     21.1875
    ],
    "deepnote_to_be_reexecuted": false,
    "execution_millis": 12,
    "execution_start": 1641996383461,
    "source_hash": "7d1623e9",
    "tags": [],
    "output_cleared": false,
    "deepnote_cell_type": "code"
   },
   "source": "enc_train = OneHotEncoder()\nenc_train.fit(X_train_M1)\nX_train_M1 = enc_train.transform(X_train_M1).toarray()\nprint(X_train_M1.shape)\n\nenc_test = OneHotEncoder()\nenc_test.fit(X_test_M1)\nX_test_M1 = enc_test.transform(X_test_M1).toarray()\nprint(X_test_M1.shape)",
   "execution_count": 10,
   "outputs": [
    {
     "name": "stdout",
     "text": "(124, 17)\n(432, 17)\n",
     "output_type": "stream"
    }
   ]
  },
  {
   "cell_type": "markdown",
   "source": "### Training phase for MONK1\nWe train a simple classifier using batch size = 1 (for the MONK dataset it is not necessary to do the hyperparameter tuning)",
   "metadata": {
    "cell_id": "00016-1839d0e0-439a-40f8-b782-352342d774c9",
    "tags": [],
    "deepnote_cell_type": "markdown"
   }
  },
  {
   "cell_type": "code",
   "metadata": {
    "cell_id": "00011-555aae2c-d384-41de-8a28-9d3dd534d2eb",
    "deepnote_to_be_reexecuted": false,
    "execution_millis": 2512,
    "execution_start": 1641996383461,
    "source_hash": "eb5789bf",
    "tags": [],
    "output_cleared": true,
    "deepnote_cell_type": "code"
   },
   "source": "classifier_M1 = MLPClassifier(random_state=RS_NUMBER, batch_size=1).fit(X_train_M1, y_train_M1)\neval_model = MLPClassifier(random_state=RS_NUMBER, batch_size=1)",
   "execution_count": 11,
   "outputs": []
  },
  {
   "cell_type": "code",
   "metadata": {
    "cell_id": "00021-1266891b-0a23-4d51-8051-b17044645778",
    "deepnote_to_be_reexecuted": false,
    "execution_millis": 1,
    "execution_start": 1641996386022,
    "source_hash": "ced77cd9",
    "tags": [],
    "output_cleared": true,
    "deepnote_cell_type": "code"
   },
   "source": "#trains the model with one iteration (epoch) and computes in output a list of train and test scores using MEE\ndef fit_and_score_monk(epochs, eval_model, X_train, y_train, X_test, y_test):\n    train_scores = []\n    test_scores = []\n    train_loss = []\n    test_loss = []\n\n    for i in range(epochs):\n        eval_model = eval_model.partial_fit(X_train,y_train, classes = np.unique(y_train))\n        y_train_predicted = eval_model.predict(X_train)\n        y_test_predicted = eval_model.predict(X_test)\n        #results on train set\n        train_loss.append(log_loss(y_train, y_train_predicted))\n        train_scores.append(accuracy_score(y_train, y_train_predicted))\n        #result on test set\n        test_loss.append(log_loss(y_test, y_test_predicted))\n        test_scores.append(accuracy_score(y_test, y_test_predicted))\n    return train_scores, test_scores, train_loss, test_loss\n",
   "execution_count": 12,
   "outputs": []
  },
  {
   "cell_type": "code",
   "metadata": {
    "cell_id": "00022-d81f85c3-0e19-4662-a0a2-53bf9d2af796",
    "deepnote_output_heights": [
     40.375
    ],
    "deepnote_to_be_reexecuted": false,
    "execution_millis": 9031,
    "execution_start": 1641996386023,
    "source_hash": "5b6c1681",
    "tags": [],
    "output_cleared": false,
    "deepnote_cell_type": "code"
   },
   "source": "train_scores_M1, test_scores_M1, train_loss_M1, test_loss_M1 = fit_and_score_monk(classifier_M1.n_iter_, eval_model, X_train_M1, y_train_M1, X_test_M1, y_test_M1)",
   "execution_count": 13,
   "outputs": []
  },
  {
   "cell_type": "markdown",
   "source": "### Loss curve for MONK1",
   "metadata": {
    "cell_id": "00021-ee4aa643-bff9-4588-b237-c5902a562637",
    "tags": [],
    "deepnote_cell_type": "markdown"
   }
  },
  {
   "cell_type": "code",
   "metadata": {
    "cell_id": "00024-f7669179-4d4a-4820-89e1-10c5be1db94b",
    "deepnote_to_be_reexecuted": false,
    "execution_millis": 4,
    "execution_start": 1641996395057,
    "source_hash": "fe0bd595",
    "tags": [],
    "output_cleared": true,
    "deepnote_cell_type": "code"
   },
   "source": "def plot_learning_curves(train_scores, test_scores, epochs, y_label):\n    plt.figure(figsize=(10,8))\n    plt.plot(range(0,epochs), train_scores, label = \"Training error\", linestyle='dashed')\n    plt.plot(range(0,epochs), test_scores, label = \"Test error\")\n    plt.legend()\n    plt.ylabel(y_label)\n    plt.xlabel('Epoch');",
   "execution_count": 14,
   "outputs": []
  },
  {
   "cell_type": "code",
   "metadata": {
    "cell_id": "00015-6a9921fd-01c5-49e2-a2b3-bda9f06099d8",
    "deepnote_output_heights": [
     482
    ],
    "deepnote_to_be_reexecuted": false,
    "execution_millis": 299,
    "execution_start": 1641996395114,
    "source_hash": "dbcd3471",
    "tags": [],
    "output_cleared": false,
    "deepnote_cell_type": "code"
   },
   "source": "plot_learning_curves(train_loss_M1, test_loss_M1, classifier_M1.n_iter_, 'Loss (BCE)')",
   "execution_count": 15,
   "outputs": [
    {
     "data": {
      "text/plain": "<Figure size 720x576 with 1 Axes>",
      "image/png": "[encoded data removed]"
     },
     "metadata": {
      "needs_background": "light",
      "image/png": {
       "width": 606,
       "height": 480
      }
     },
     "output_type": "display_data"
    }
   ]
  },
  {
   "cell_type": "markdown",
   "source": "### Learning curves for MONK1",
   "metadata": {
    "cell_id": "00023-5cefb34c-77d9-4b0d-a5ab-12e36354284c",
    "tags": [],
    "deepnote_cell_type": "markdown"
   }
  },
  {
   "cell_type": "code",
   "metadata": {
    "cell_id": "00027-03d612eb-a123-43d4-899b-825c10fe275b",
    "deepnote_output_heights": [
     482
    ],
    "deepnote_to_be_reexecuted": false,
    "execution_millis": 277,
    "execution_start": 1641996395415,
    "source_hash": "84ff1bd8",
    "tags": [],
    "output_cleared": false,
    "deepnote_cell_type": "code"
   },
   "source": "plot_learning_curves(train_scores_M1, test_scores_M1, classifier_M1.n_iter_, 'Accuracy')",
   "execution_count": 16,
   "outputs": [
    {
     "data": {
      "text/plain": "<Figure size 720x576 with 1 Axes>",
      "image/png": "[encoded data removed]"
     },
     "metadata": {
      "needs_background": "light",
      "image/png": {
       "width": 615,
       "height": 480
      }
     },
     "output_type": "display_data"
    }
   ]
  },
  {
   "cell_type": "markdown",
   "source": "### Accuracy and MEE for MONK1",
   "metadata": {
    "cell_id": "00028-6de75766-a961-4493-8c75-6873af40ed1b",
    "tags": [],
    "deepnote_cell_type": "markdown"
   }
  },
  {
   "cell_type": "code",
   "metadata": {
    "cell_id": "00016-6f9c75ff-8e4d-4aa6-8614-426998a3229d",
    "deepnote_output_heights": [
     264,
     264
    ],
    "deepnote_to_be_reexecuted": false,
    "execution_millis": 2,
    "execution_start": 1641996395743,
    "source_hash": "234d2bb0",
    "tags": [],
    "output_cleared": false,
    "deepnote_cell_type": "code"
   },
   "source": "y_predicted_M1 = classifier_M1.predict(X_test_M1)\nprint(f\"Accuracy on MONK1: {classifier_M1.score(X_test_M1, y_test_M1)}\")\nprint(f\"MEE on MONK1: {(np.linalg.norm(y_predicted_M1-y_test_M1))}\") # MEE distance (a.k.a. norm 2)",
   "execution_count": 17,
   "outputs": [
    {
     "name": "stdout",
     "text": "Accuracy on MONK1: 1.0\nMEE on MONK1: 0.0\n",
     "output_type": "stream"
    }
   ]
  },
  {
   "cell_type": "markdown",
   "source": "### MONK2",
   "metadata": {
    "cell_id": "00018-ed3499e4-5fe7-477b-8af4-729f9be5b5e8",
    "tags": [],
    "deepnote_cell_type": "markdown"
   }
  },
  {
   "cell_type": "markdown",
   "source": "### Loading MONK2 dataset",
   "metadata": {
    "cell_id": "00030-b8a8f664-3925-45d9-8c8d-d44e8e1f15ed",
    "tags": [],
    "deepnote_cell_type": "markdown"
   }
  },
  {
   "cell_type": "code",
   "metadata": {
    "cell_id": "00019-bf7f4cdf-04cd-4d7c-a9d7-700f5d067cc7",
    "deepnote_to_be_reexecuted": false,
    "execution_millis": 43,
    "execution_start": 1641996395744,
    "source_hash": "ef7d28c4",
    "tags": [],
    "output_cleared": true,
    "deepnote_cell_type": "code"
   },
   "source": "df_monk2_train, df_monk2_test = load_monk('./data/MONK/monks-2.train', './data/MONK/monks-2.test')",
   "execution_count": 18,
   "outputs": []
  },
  {
   "cell_type": "code",
   "metadata": {
    "cell_id": "00019-657c5239-6512-4cfc-bd63-75ad9850f856",
    "deepnote_output_heights": [
     21.1875
    ],
    "deepnote_to_be_reexecuted": false,
    "execution_millis": 86,
    "execution_start": 1641996395788,
    "source_hash": "7cc753f1",
    "tags": [],
    "output_cleared": false,
    "deepnote_cell_type": "code"
   },
   "source": "df_monk2_train.head() #first column is the target (can be either 0 or 1)",
   "execution_count": 19,
   "outputs": [
    {
     "output_type": "execute_result",
     "execution_count": 19,
     "data": {
      "application/vnd.deepnote.dataframe.v3+json": {
       "column_count": 7,
       "row_count": 5,
       "columns": [
        {
         "name": "class",
         "dtype": "int64",
         "stats": {
          "unique_count": 1,
          "nan_count": 0,
          "min": "0",
          "max": "0",
          "histogram": [
           {
            "bin_start": -0.5,
            "bin_end": -0.4,
            "count": 0
           },
           {
            "bin_start": -0.4,
            "bin_end": -0.3,
            "count": 0
           },
           {
            "bin_start": -0.3,
            "bin_end": -0.19999999999999996,
            "count": 0
           },
           {
            "bin_start": -0.19999999999999996,
            "bin_end": -0.09999999999999998,
            "count": 0
           },
           {
            "bin_start": -0.09999999999999998,
            "bin_end": 0,
            "count": 0
           },
           {
            "bin_start": 0,
            "bin_end": 0.10000000000000009,
            "count": 5
           },
           {
            "bin_start": 0.10000000000000009,
            "bin_end": 0.20000000000000007,
            "count": 0
           },
           {
            "bin_start": 0.20000000000000007,
            "bin_end": 0.30000000000000004,
            "count": 0
           },
           {
            "bin_start": 0.30000000000000004,
            "bin_end": 0.4,
            "count": 0
           },
           {
            "bin_start": 0.4,
            "bin_end": 0.5,
            "count": 0
           }
          ]
         }
        },
        {
         "name": "a1",
         "dtype": "int64",
         "stats": {
          "unique_count": 1,
          "nan_count": 0,
          "min": "1",
          "max": "1",
          "histogram": [
           {
            "bin_start": 0.5,
            "bin_end": 0.6,
            "count": 0
           },
           {
            "bin_start": 0.6,
            "bin_end": 0.7,
            "count": 0
           },
           {
            "bin_start": 0.7,
            "bin_end": 0.8,
            "count": 0
           },
           {
            "bin_start": 0.8,
            "bin_end": 0.9,
            "count": 0
           },
           {
            "bin_start": 0.9,
            "bin_end": 1,
            "count": 0
           },
           {
            "bin_start": 1,
            "bin_end": 1.1,
            "count": 5
           },
           {
            "bin_start": 1.1,
            "bin_end": 1.2000000000000002,
            "count": 0
           },
           {
            "bin_start": 1.2000000000000002,
            "bin_end": 1.3,
            "count": 0
           },
           {
            "bin_start": 1.3,
            "bin_end": 1.4,
            "count": 0
           },
           {
            "bin_start": 1.4,
            "bin_end": 1.5,
            "count": 0
           }
          ]
         }
        },
        {
         "name": "a2",
         "dtype": "int64",
         "stats": {
          "unique_count": 1,
          "nan_count": 0,
          "min": "1",
          "max": "1",
          "histogram": [
           {
            "bin_start": 0.5,
            "bin_end": 0.6,
            "count": 0
           },
           {
            "bin_start": 0.6,
            "bin_end": 0.7,
            "count": 0
           },
           {
            "bin_start": 0.7,
            "bin_end": 0.8,
            "count": 0
           },
           {
            "bin_start": 0.8,
            "bin_end": 0.9,
            "count": 0
           },
           {
            "bin_start": 0.9,
            "bin_end": 1,
            "count": 0
           },
           {
            "bin_start": 1,
            "bin_end": 1.1,
            "count": 5
           },
           {
            "bin_start": 1.1,
            "bin_end": 1.2000000000000002,
            "count": 0
           },
           {
            "bin_start": 1.2000000000000002,
            "bin_end": 1.3,
            "count": 0
           },
           {
            "bin_start": 1.3,
            "bin_end": 1.4,
            "count": 0
           },
           {
            "bin_start": 1.4,
            "bin_end": 1.5,
            "count": 0
           }
          ]
         }
        },
        {
         "name": "a3",
         "dtype": "int64",
         "stats": {
          "unique_count": 1,
          "nan_count": 0,
          "min": "1",
          "max": "1",
          "histogram": [
           {
            "bin_start": 0.5,
            "bin_end": 0.6,
            "count": 0
           },
           {
            "bin_start": 0.6,
            "bin_end": 0.7,
            "count": 0
           },
           {
            "bin_start": 0.7,
            "bin_end": 0.8,
            "count": 0
           },
           {
            "bin_start": 0.8,
            "bin_end": 0.9,
            "count": 0
           },
           {
            "bin_start": 0.9,
            "bin_end": 1,
            "count": 0
           },
           {
            "bin_start": 1,
            "bin_end": 1.1,
            "count": 5
           },
           {
            "bin_start": 1.1,
            "bin_end": 1.2000000000000002,
            "count": 0
           },
           {
            "bin_start": 1.2000000000000002,
            "bin_end": 1.3,
            "count": 0
           },
           {
            "bin_start": 1.3,
            "bin_end": 1.4,
            "count": 0
           },
           {
            "bin_start": 1.4,
            "bin_end": 1.5,
            "count": 0
           }
          ]
         }
        },
        {
         "name": "a4",
         "dtype": "int64",
         "stats": {
          "unique_count": 2,
          "nan_count": 0,
          "min": "1",
          "max": "2",
          "histogram": [
           {
            "bin_start": 1,
            "bin_end": 1.1,
            "count": 2
           },
           {
            "bin_start": 1.1,
            "bin_end": 1.2,
            "count": 0
           },
           {
            "bin_start": 1.2,
            "bin_end": 1.3,
            "count": 0
           },
           {
            "bin_start": 1.3,
            "bin_end": 1.4,
            "count": 0
           },
           {
            "bin_start": 1.4,
            "bin_end": 1.5,
            "count": 0
           },
           {
            "bin_start": 1.5,
            "bin_end": 1.6,
            "count": 0
           },
           {
            "bin_start": 1.6,
            "bin_end": 1.7000000000000002,
            "count": 0
           },
           {
            "bin_start": 1.7000000000000002,
            "bin_end": 1.8,
            "count": 0
           },
           {
            "bin_start": 1.8,
            "bin_end": 1.9,
            "count": 0
           },
           {
            "bin_start": 1.9,
            "bin_end": 2,
            "count": 3
           }
          ]
         }
        },
        {
         "name": "a5",
         "dtype": "int64",
         "stats": {
          "unique_count": 3,
          "nan_count": 0,
          "min": "1",
          "max": "4",
          "histogram": [
           {
            "bin_start": 1,
            "bin_end": 1.3,
            "count": 2
           },
           {
            "bin_start": 1.3,
            "bin_end": 1.6,
            "count": 0
           },
           {
            "bin_start": 1.6,
            "bin_end": 1.9,
            "count": 0
           },
           {
            "bin_start": 1.9,
            "bin_end": 2.2,
            "count": 2
           },
           {
            "bin_start": 2.2,
            "bin_end": 2.5,
            "count": 0
           },
           {
            "bin_start": 2.5,
            "bin_end": 2.8,
            "count": 0
           },
           {
            "bin_start": 2.8,
            "bin_end": 3.1,
            "count": 0
           },
           {
            "bin_start": 3.1,
            "bin_end": 3.4,
            "count": 0
           },
           {
            "bin_start": 3.4,
            "bin_end": 3.6999999999999997,
            "count": 0
           },
           {
            "bin_start": 3.6999999999999997,
            "bin_end": 4,
            "count": 1
           }
          ]
         }
        },
        {
         "name": "a6",
         "dtype": "int64",
         "stats": {
          "unique_count": 2,
          "nan_count": 0,
          "min": "1",
          "max": "2",
          "histogram": [
           {
            "bin_start": 1,
            "bin_end": 1.1,
            "count": 3
           },
           {
            "bin_start": 1.1,
            "bin_end": 1.2,
            "count": 0
           },
           {
            "bin_start": 1.2,
            "bin_end": 1.3,
            "count": 0
           },
           {
            "bin_start": 1.3,
            "bin_end": 1.4,
            "count": 0
           },
           {
            "bin_start": 1.4,
            "bin_end": 1.5,
            "count": 0
           },
           {
            "bin_start": 1.5,
            "bin_end": 1.6,
            "count": 0
           },
           {
            "bin_start": 1.6,
            "bin_end": 1.7000000000000002,
            "count": 0
           },
           {
            "bin_start": 1.7000000000000002,
            "bin_end": 1.8,
            "count": 0
           },
           {
            "bin_start": 1.8,
            "bin_end": 1.9,
            "count": 0
           },
           {
            "bin_start": 1.9,
            "bin_end": 2,
            "count": 2
           }
          ]
         }
        },
        {
         "name": "_deepnote_index_column",
         "dtype": "int64"
        }
       ],
       "rows": [
        {
         "class": 0,
         "a1": 1,
         "a2": 1,
         "a3": 1,
         "a4": 1,
         "a5": 2,
         "a6": 2,
         "_deepnote_index_column": 0
        },
        {
         "class": 0,
         "a1": 1,
         "a2": 1,
         "a3": 1,
         "a4": 1,
         "a5": 4,
         "a6": 1,
         "_deepnote_index_column": 1
        },
        {
         "class": 0,
         "a1": 1,
         "a2": 1,
         "a3": 1,
         "a4": 2,
         "a5": 1,
         "a6": 1,
         "_deepnote_index_column": 2
        },
        {
         "class": 0,
         "a1": 1,
         "a2": 1,
         "a3": 1,
         "a4": 2,
         "a5": 1,
         "a6": 2,
         "_deepnote_index_column": 3
        },
        {
         "class": 0,
         "a1": 1,
         "a2": 1,
         "a3": 1,
         "a4": 2,
         "a5": 2,
         "a6": 1,
         "_deepnote_index_column": 4
        }
       ]
      },
      "text/plain": "   class  a1  a2  a3  a4  a5  a6\n0      0   1   1   1   1   2   2\n1      0   1   1   1   1   4   1\n2      0   1   1   1   2   1   1\n3      0   1   1   1   2   1   2\n4      0   1   1   1   2   2   1",
      "text/html": "<div>\n<style scoped>\n    .dataframe tbody tr th:only-of-type {\n        vertical-align: middle;\n    }\n\n    .dataframe tbody tr th {\n        vertical-align: top;\n    }\n\n    .dataframe thead th {\n        text-align: right;\n    }\n</style>\n<table border=\"1\" class=\"dataframe\">\n  <thead>\n    <tr style=\"text-align: right;\">\n      <th></th>\n      <th>class</th>\n      <th>a1</th>\n      <th>a2</th>\n      <th>a3</th>\n      <th>a4</th>\n      <th>a5</th>\n      <th>a6</th>\n    </tr>\n  </thead>\n  <tbody>\n    <tr>\n      <th>0</th>\n      <td>0</td>\n      <td>1</td>\n      <td>1</td>\n      <td>1</td>\n      <td>1</td>\n      <td>2</td>\n      <td>2</td>\n    </tr>\n    <tr>\n      <th>1</th>\n      <td>0</td>\n      <td>1</td>\n      <td>1</td>\n      <td>1</td>\n      <td>1</td>\n      <td>4</td>\n      <td>1</td>\n    </tr>\n    <tr>\n      <th>2</th>\n      <td>0</td>\n      <td>1</td>\n      <td>1</td>\n      <td>1</td>\n      <td>2</td>\n      <td>1</td>\n      <td>1</td>\n    </tr>\n    <tr>\n      <th>3</th>\n      <td>0</td>\n      <td>1</td>\n      <td>1</td>\n      <td>1</td>\n      <td>2</td>\n      <td>1</td>\n      <td>2</td>\n    </tr>\n    <tr>\n      <th>4</th>\n      <td>0</td>\n      <td>1</td>\n      <td>1</td>\n      <td>1</td>\n      <td>2</td>\n      <td>2</td>\n      <td>1</td>\n    </tr>\n  </tbody>\n</table>\n</div>"
     },
     "metadata": {}
    }
   ]
  },
  {
   "cell_type": "markdown",
   "source": "### Splitting MONK2 dataset",
   "metadata": {
    "cell_id": "00033-216bf6bc-4e9b-4c3f-beeb-0d9b0ee9c586",
    "tags": [],
    "deepnote_cell_type": "markdown"
   }
  },
  {
   "cell_type": "code",
   "metadata": {
    "cell_id": "00020-8853060c-1985-4bb1-81ed-f81e6dfba175",
    "deepnote_to_be_reexecuted": false,
    "execution_millis": 2,
    "execution_start": 1641996395877,
    "source_hash": "91aea900",
    "tags": [],
    "output_cleared": true,
    "deepnote_cell_type": "code"
   },
   "source": "X_train_M2, y_train_M2, X_test_M2, y_test_M2 = split_train_test(df_monk2_train, df_monk2_test)",
   "execution_count": 20,
   "outputs": []
  },
  {
   "cell_type": "markdown",
   "source": "### One hot encoding on MONK2",
   "metadata": {
    "cell_id": "00035-e876aced-2d81-4822-bb04-e19b371d4736",
    "tags": [],
    "deepnote_cell_type": "markdown"
   }
  },
  {
   "cell_type": "code",
   "metadata": {
    "cell_id": "00021-f5c3c5ed-af3f-4331-b81b-6b2f4d50b9fe",
    "deepnote_to_be_reexecuted": false,
    "execution_millis": 11,
    "execution_start": 1641996395882,
    "source_hash": "25b72f0c",
    "tags": [],
    "output_cleared": false,
    "deepnote_cell_type": "code"
   },
   "source": "enc_train = OneHotEncoder()\nenc_train.fit(X_train_M2)\nX_train_M2 = enc_train.transform(X_train_M2).toarray()\nprint(X_train_M2.shape)\n\nenc_test = OneHotEncoder()\nenc_test.fit(X_test_M2)\nX_test_M2 = enc_test.transform(X_test_M2).toarray()\nprint(X_test_M2.shape)",
   "execution_count": 21,
   "outputs": [
    {
     "name": "stdout",
     "text": "(169, 17)\n(432, 17)\n",
     "output_type": "stream"
    }
   ]
  },
  {
   "cell_type": "markdown",
   "source": "### Training phase for MONK2",
   "metadata": {
    "cell_id": "00037-d53fd99c-8e5d-4206-b838-b62b475e4721",
    "tags": [],
    "deepnote_cell_type": "markdown"
   }
  },
  {
   "cell_type": "code",
   "metadata": {
    "cell_id": "00021-fdf6d727-ff1a-4928-a0df-25e0ae477b0f",
    "deepnote_to_be_reexecuted": false,
    "execution_millis": 3563,
    "execution_start": 1641996395893,
    "source_hash": "5c4f891",
    "tags": [],
    "output_cleared": true,
    "deepnote_cell_type": "code"
   },
   "source": "classifier_M2 = MLPClassifier(random_state=RS_NUMBER, batch_size=1).fit(X_train_M2, y_train_M2)\neval_model = MLPClassifier(random_state=RS_NUMBER, batch_size=1)",
   "execution_count": 22,
   "outputs": []
  },
  {
   "cell_type": "code",
   "metadata": {
    "cell_id": "00039-e7579a0a-c9c8-4b6b-a3d2-db3395d84d43",
    "deepnote_to_be_reexecuted": false,
    "execution_millis": 10406,
    "execution_start": 1641996399457,
    "source_hash": "ab9f4bb6",
    "tags": [],
    "output_cleared": true,
    "deepnote_cell_type": "code"
   },
   "source": "train_scores_M2, test_scores_M2, train_loss_M2, test_loss_M2 = fit_and_score_monk(classifier_M2.n_iter_, eval_model, X_train_M2, y_train_M2, X_test_M2, y_test_M2)",
   "execution_count": 23,
   "outputs": []
  },
  {
   "cell_type": "markdown",
   "source": "### Loss curve for MONK2",
   "metadata": {
    "cell_id": "00039-85f3702a-6c13-488d-a26c-5d04f92af0ba",
    "tags": [],
    "deepnote_cell_type": "markdown"
   }
  },
  {
   "cell_type": "code",
   "metadata": {
    "cell_id": "00023-50ad5fe8-db26-4564-8036-19d50db125b2",
    "deepnote_output_heights": [
     482
    ],
    "deepnote_to_be_reexecuted": false,
    "execution_millis": 338,
    "execution_start": 1641996409868,
    "source_hash": "c6965e",
    "tags": [],
    "output_cleared": false,
    "deepnote_cell_type": "code"
   },
   "source": "plot_learning_curves(train_loss_M2, test_loss_M2, classifier_M2.n_iter_, \"Loss (BCE)\")",
   "execution_count": 24,
   "outputs": [
    {
     "data": {
      "text/plain": "<Figure size 720x576 with 1 Axes>",
      "image/png": "[encoded data removed]"
     },
     "metadata": {
      "needs_background": "light",
      "image/png": {
       "width": 606,
       "height": 480
      }
     },
     "output_type": "display_data"
    }
   ]
  },
  {
   "cell_type": "markdown",
   "source": "### Learning curves for MONK2",
   "metadata": {
    "cell_id": "00042-6cac84dd-c96c-41ea-923c-ceb57d9ce67f",
    "tags": [],
    "deepnote_cell_type": "markdown"
   }
  },
  {
   "cell_type": "code",
   "metadata": {
    "cell_id": "00043-9e5831eb-a051-4720-ba5f-ab37632655c0",
    "deepnote_output_heights": [
     482
    ],
    "deepnote_to_be_reexecuted": false,
    "execution_millis": 239,
    "execution_start": 1641996410238,
    "source_hash": "5d3fa740",
    "tags": [],
    "output_cleared": false,
    "deepnote_cell_type": "code"
   },
   "source": "plot_learning_curves(train_scores_M2, test_scores_M2, classifier_M2.n_iter_, 'Accuracy')",
   "execution_count": 25,
   "outputs": [
    {
     "data": {
      "text/plain": "<Figure size 720x576 with 1 Axes>",
      "image/png": "[encoded data removed]"
     },
     "metadata": {
      "needs_background": "light",
      "image/png": {
       "width": 615,
       "height": 480
      }
     },
     "output_type": "display_data"
    }
   ]
  },
  {
   "cell_type": "markdown",
   "source": "### Accuracy and MEE on MONK2",
   "metadata": {
    "cell_id": "00045-43d0463a-986f-4df7-b016-bb3cc1c4eb52",
    "tags": [],
    "deepnote_cell_type": "markdown"
   }
  },
  {
   "cell_type": "code",
   "metadata": {
    "cell_id": "00024-f8b6e506-a611-4590-b950-3e716908c099",
    "deepnote_to_be_reexecuted": false,
    "execution_millis": 6,
    "execution_start": 1641996410485,
    "source_hash": "ae4af243",
    "tags": [],
    "output_cleared": false,
    "deepnote_cell_type": "code"
   },
   "source": "y_predicted_M2 = classifier_M2.predict(X_test_M2)\nprint(f\"Accuracy on MONK2: {classifier_M2.score(X_test_M2, y_test_M2)}\")\nprint(f\"MEE on MONK2: {(np.linalg.norm(y_predicted_M2-y_test_M2))}\") # MEE distance (a.k.a. norm 2)",
   "execution_count": 26,
   "outputs": [
    {
     "name": "stdout",
     "text": "Accuracy on MONK2: 1.0\nMEE on MONK2: 0.0\n",
     "output_type": "stream"
    }
   ]
  },
  {
   "cell_type": "markdown",
   "source": "### MONK3",
   "metadata": {
    "cell_id": "00025-c03a1235-9d36-460b-91a7-a142c8aea2d4",
    "tags": [],
    "deepnote_cell_type": "markdown"
   }
  },
  {
   "cell_type": "markdown",
   "source": "### Loading MONK3 dataset",
   "metadata": {
    "cell_id": "00048-4cc2725e-8093-4652-ba50-2a9bb7685578",
    "tags": [],
    "deepnote_cell_type": "markdown"
   }
  },
  {
   "cell_type": "code",
   "metadata": {
    "cell_id": "00026-7f0ac247-7df1-471d-86ad-4b33e3e799c9",
    "deepnote_to_be_reexecuted": false,
    "execution_millis": 308,
    "execution_start": 1641996410542,
    "source_hash": "882eb776",
    "tags": [],
    "output_cleared": true,
    "deepnote_cell_type": "code"
   },
   "source": "df_monk3_train, df_monk3_test = load_monk('./data/MONK/monks-3.train', './data/MONK/monks-3.test')",
   "execution_count": 27,
   "outputs": []
  },
  {
   "cell_type": "code",
   "metadata": {
    "cell_id": "00027-056a023a-4f29-40fa-a994-1f0d63338ea9",
    "deepnote_to_be_reexecuted": false,
    "execution_millis": 6,
    "execution_start": 1641996410887,
    "source_hash": "628175ae",
    "tags": [],
    "output_cleared": false,
    "deepnote_cell_type": "code"
   },
   "source": "df_monk3_train.head() #first column is the target (can be either 0 or 1)",
   "execution_count": 28,
   "outputs": [
    {
     "output_type": "execute_result",
     "execution_count": 28,
     "data": {
      "application/vnd.deepnote.dataframe.v3+json": {
       "column_count": 7,
       "row_count": 5,
       "columns": [
        {
         "name": "class",
         "dtype": "int64",
         "stats": {
          "unique_count": 2,
          "nan_count": 0,
          "min": "0",
          "max": "1",
          "histogram": [
           {
            "bin_start": 0,
            "bin_end": 0.1,
            "count": 2
           },
           {
            "bin_start": 0.1,
            "bin_end": 0.2,
            "count": 0
           },
           {
            "bin_start": 0.2,
            "bin_end": 0.30000000000000004,
            "count": 0
           },
           {
            "bin_start": 0.30000000000000004,
            "bin_end": 0.4,
            "count": 0
           },
           {
            "bin_start": 0.4,
            "bin_end": 0.5,
            "count": 0
           },
           {
            "bin_start": 0.5,
            "bin_end": 0.6000000000000001,
            "count": 0
           },
           {
            "bin_start": 0.6000000000000001,
            "bin_end": 0.7000000000000001,
            "count": 0
           },
           {
            "bin_start": 0.7000000000000001,
            "bin_end": 0.8,
            "count": 0
           },
           {
            "bin_start": 0.8,
            "bin_end": 0.9,
            "count": 0
           },
           {
            "bin_start": 0.9,
            "bin_end": 1,
            "count": 3
           }
          ]
         }
        },
        {
         "name": "a1",
         "dtype": "int64",
         "stats": {
          "unique_count": 1,
          "nan_count": 0,
          "min": "1",
          "max": "1",
          "histogram": [
           {
            "bin_start": 0.5,
            "bin_end": 0.6,
            "count": 0
           },
           {
            "bin_start": 0.6,
            "bin_end": 0.7,
            "count": 0
           },
           {
            "bin_start": 0.7,
            "bin_end": 0.8,
            "count": 0
           },
           {
            "bin_start": 0.8,
            "bin_end": 0.9,
            "count": 0
           },
           {
            "bin_start": 0.9,
            "bin_end": 1,
            "count": 0
           },
           {
            "bin_start": 1,
            "bin_end": 1.1,
            "count": 5
           },
           {
            "bin_start": 1.1,
            "bin_end": 1.2000000000000002,
            "count": 0
           },
           {
            "bin_start": 1.2000000000000002,
            "bin_end": 1.3,
            "count": 0
           },
           {
            "bin_start": 1.3,
            "bin_end": 1.4,
            "count": 0
           },
           {
            "bin_start": 1.4,
            "bin_end": 1.5,
            "count": 0
           }
          ]
         }
        },
        {
         "name": "a2",
         "dtype": "int64",
         "stats": {
          "unique_count": 1,
          "nan_count": 0,
          "min": "1",
          "max": "1",
          "histogram": [
           {
            "bin_start": 0.5,
            "bin_end": 0.6,
            "count": 0
           },
           {
            "bin_start": 0.6,
            "bin_end": 0.7,
            "count": 0
           },
           {
            "bin_start": 0.7,
            "bin_end": 0.8,
            "count": 0
           },
           {
            "bin_start": 0.8,
            "bin_end": 0.9,
            "count": 0
           },
           {
            "bin_start": 0.9,
            "bin_end": 1,
            "count": 0
           },
           {
            "bin_start": 1,
            "bin_end": 1.1,
            "count": 5
           },
           {
            "bin_start": 1.1,
            "bin_end": 1.2000000000000002,
            "count": 0
           },
           {
            "bin_start": 1.2000000000000002,
            "bin_end": 1.3,
            "count": 0
           },
           {
            "bin_start": 1.3,
            "bin_end": 1.4,
            "count": 0
           },
           {
            "bin_start": 1.4,
            "bin_end": 1.5,
            "count": 0
           }
          ]
         }
        },
        {
         "name": "a3",
         "dtype": "int64",
         "stats": {
          "unique_count": 1,
          "nan_count": 0,
          "min": "1",
          "max": "1",
          "histogram": [
           {
            "bin_start": 0.5,
            "bin_end": 0.6,
            "count": 0
           },
           {
            "bin_start": 0.6,
            "bin_end": 0.7,
            "count": 0
           },
           {
            "bin_start": 0.7,
            "bin_end": 0.8,
            "count": 0
           },
           {
            "bin_start": 0.8,
            "bin_end": 0.9,
            "count": 0
           },
           {
            "bin_start": 0.9,
            "bin_end": 1,
            "count": 0
           },
           {
            "bin_start": 1,
            "bin_end": 1.1,
            "count": 5
           },
           {
            "bin_start": 1.1,
            "bin_end": 1.2000000000000002,
            "count": 0
           },
           {
            "bin_start": 1.2000000000000002,
            "bin_end": 1.3,
            "count": 0
           },
           {
            "bin_start": 1.3,
            "bin_end": 1.4,
            "count": 0
           },
           {
            "bin_start": 1.4,
            "bin_end": 1.5,
            "count": 0
           }
          ]
         }
        },
        {
         "name": "a4",
         "dtype": "int64",
         "stats": {
          "unique_count": 1,
          "nan_count": 0,
          "min": "1",
          "max": "1",
          "histogram": [
           {
            "bin_start": 0.5,
            "bin_end": 0.6,
            "count": 0
           },
           {
            "bin_start": 0.6,
            "bin_end": 0.7,
            "count": 0
           },
           {
            "bin_start": 0.7,
            "bin_end": 0.8,
            "count": 0
           },
           {
            "bin_start": 0.8,
            "bin_end": 0.9,
            "count": 0
           },
           {
            "bin_start": 0.9,
            "bin_end": 1,
            "count": 0
           },
           {
            "bin_start": 1,
            "bin_end": 1.1,
            "count": 5
           },
           {
            "bin_start": 1.1,
            "bin_end": 1.2000000000000002,
            "count": 0
           },
           {
            "bin_start": 1.2000000000000002,
            "bin_end": 1.3,
            "count": 0
           },
           {
            "bin_start": 1.3,
            "bin_end": 1.4,
            "count": 0
           },
           {
            "bin_start": 1.4,
            "bin_end": 1.5,
            "count": 0
           }
          ]
         }
        },
        {
         "name": "a5",
         "dtype": "int64",
         "stats": {
          "unique_count": 4,
          "nan_count": 0,
          "min": "1",
          "max": "4",
          "histogram": [
           {
            "bin_start": 1,
            "bin_end": 1.3,
            "count": 1
           },
           {
            "bin_start": 1.3,
            "bin_end": 1.6,
            "count": 0
           },
           {
            "bin_start": 1.6,
            "bin_end": 1.9,
            "count": 0
           },
           {
            "bin_start": 1.9,
            "bin_end": 2.2,
            "count": 2
           },
           {
            "bin_start": 2.2,
            "bin_end": 2.5,
            "count": 0
           },
           {
            "bin_start": 2.5,
            "bin_end": 2.8,
            "count": 0
           },
           {
            "bin_start": 2.8,
            "bin_end": 3.1,
            "count": 1
           },
           {
            "bin_start": 3.1,
            "bin_end": 3.4,
            "count": 0
           },
           {
            "bin_start": 3.4,
            "bin_end": 3.6999999999999997,
            "count": 0
           },
           {
            "bin_start": 3.6999999999999997,
            "bin_end": 4,
            "count": 1
           }
          ]
         }
        },
        {
         "name": "a6",
         "dtype": "int64",
         "stats": {
          "unique_count": 2,
          "nan_count": 0,
          "min": "1",
          "max": "2",
          "histogram": [
           {
            "bin_start": 1,
            "bin_end": 1.1,
            "count": 3
           },
           {
            "bin_start": 1.1,
            "bin_end": 1.2,
            "count": 0
           },
           {
            "bin_start": 1.2,
            "bin_end": 1.3,
            "count": 0
           },
           {
            "bin_start": 1.3,
            "bin_end": 1.4,
            "count": 0
           },
           {
            "bin_start": 1.4,
            "bin_end": 1.5,
            "count": 0
           },
           {
            "bin_start": 1.5,
            "bin_end": 1.6,
            "count": 0
           },
           {
            "bin_start": 1.6,
            "bin_end": 1.7000000000000002,
            "count": 0
           },
           {
            "bin_start": 1.7000000000000002,
            "bin_end": 1.8,
            "count": 0
           },
           {
            "bin_start": 1.8,
            "bin_end": 1.9,
            "count": 0
           },
           {
            "bin_start": 1.9,
            "bin_end": 2,
            "count": 2
           }
          ]
         }
        },
        {
         "name": "_deepnote_index_column",
         "dtype": "int64"
        }
       ],
       "rows": [
        {
         "class": 1,
         "a1": 1,
         "a2": 1,
         "a3": 1,
         "a4": 1,
         "a5": 1,
         "a6": 2,
         "_deepnote_index_column": 0
        },
        {
         "class": 1,
         "a1": 1,
         "a2": 1,
         "a3": 1,
         "a4": 1,
         "a5": 2,
         "a6": 1,
         "_deepnote_index_column": 1
        },
        {
         "class": 1,
         "a1": 1,
         "a2": 1,
         "a3": 1,
         "a4": 1,
         "a5": 2,
         "a6": 2,
         "_deepnote_index_column": 2
        },
        {
         "class": 0,
         "a1": 1,
         "a2": 1,
         "a3": 1,
         "a4": 1,
         "a5": 3,
         "a6": 1,
         "_deepnote_index_column": 3
        },
        {
         "class": 0,
         "a1": 1,
         "a2": 1,
         "a3": 1,
         "a4": 1,
         "a5": 4,
         "a6": 1,
         "_deepnote_index_column": 4
        }
       ]
      },
      "text/plain": "   class  a1  a2  a3  a4  a5  a6\n0      1   1   1   1   1   1   2\n1      1   1   1   1   1   2   1\n2      1   1   1   1   1   2   2\n3      0   1   1   1   1   3   1\n4      0   1   1   1   1   4   1",
      "text/html": "<div>\n<style scoped>\n    .dataframe tbody tr th:only-of-type {\n        vertical-align: middle;\n    }\n\n    .dataframe tbody tr th {\n        vertical-align: top;\n    }\n\n    .dataframe thead th {\n        text-align: right;\n    }\n</style>\n<table border=\"1\" class=\"dataframe\">\n  <thead>\n    <tr style=\"text-align: right;\">\n      <th></th>\n      <th>class</th>\n      <th>a1</th>\n      <th>a2</th>\n      <th>a3</th>\n      <th>a4</th>\n      <th>a5</th>\n      <th>a6</th>\n    </tr>\n  </thead>\n  <tbody>\n    <tr>\n      <th>0</th>\n      <td>1</td>\n      <td>1</td>\n      <td>1</td>\n      <td>1</td>\n      <td>1</td>\n      <td>1</td>\n      <td>2</td>\n    </tr>\n    <tr>\n      <th>1</th>\n      <td>1</td>\n      <td>1</td>\n      <td>1</td>\n      <td>1</td>\n      <td>1</td>\n      <td>2</td>\n      <td>1</td>\n    </tr>\n    <tr>\n      <th>2</th>\n      <td>1</td>\n      <td>1</td>\n      <td>1</td>\n      <td>1</td>\n      <td>1</td>\n      <td>2</td>\n      <td>2</td>\n    </tr>\n    <tr>\n      <th>3</th>\n      <td>0</td>\n      <td>1</td>\n      <td>1</td>\n      <td>1</td>\n      <td>1</td>\n      <td>3</td>\n      <td>1</td>\n    </tr>\n    <tr>\n      <th>4</th>\n      <td>0</td>\n      <td>1</td>\n      <td>1</td>\n      <td>1</td>\n      <td>1</td>\n      <td>4</td>\n      <td>1</td>\n    </tr>\n  </tbody>\n</table>\n</div>"
     },
     "metadata": {}
    }
   ]
  },
  {
   "cell_type": "markdown",
   "source": "### Splitting MONK3 dataset",
   "metadata": {
    "cell_id": "00051-7d727c90-0273-44f5-9795-9860cd9bb36b",
    "tags": [],
    "deepnote_cell_type": "markdown"
   }
  },
  {
   "cell_type": "code",
   "metadata": {
    "cell_id": "00028-8ca44002-3174-4694-ba93-deacf418f54c",
    "deepnote_to_be_reexecuted": false,
    "execution_millis": 1,
    "execution_start": 1641996410892,
    "source_hash": "a1418039",
    "tags": [],
    "output_cleared": true,
    "deepnote_cell_type": "code"
   },
   "source": "X_train_M3, y_train_M3, X_test_M3, y_test_M3 = split_train_test(df_monk3_train, df_monk3_test)",
   "execution_count": 29,
   "outputs": []
  },
  {
   "cell_type": "markdown",
   "source": "### One hot encoding on MONK3",
   "metadata": {
    "cell_id": "00053-79b113d1-28a9-42f1-a60d-f4046f036549",
    "tags": [],
    "deepnote_cell_type": "markdown"
   }
  },
  {
   "cell_type": "code",
   "metadata": {
    "cell_id": "00029-ed3ccbdb-aa56-4112-b01a-2d8f8a4876be",
    "deepnote_to_be_reexecuted": false,
    "execution_millis": 24,
    "execution_start": 1641996410903,
    "source_hash": "7b938f1f",
    "tags": [],
    "output_cleared": false,
    "deepnote_cell_type": "code"
   },
   "source": "enc_train = OneHotEncoder()\nenc_train.fit(X_train_M3)\nX_train_M3 = enc_train.transform(X_train_M3).toarray()\nprint(X_train_M3.shape)\n\nenc_test = OneHotEncoder()\nenc_test.fit(X_test_M3)\nX_test_M3 = enc_test.transform(X_test_M3).toarray()\nprint(X_test_M3.shape)",
   "execution_count": 30,
   "outputs": [
    {
     "name": "stdout",
     "text": "(122, 17)\n(432, 17)\n",
     "output_type": "stream"
    }
   ]
  },
  {
   "cell_type": "markdown",
   "source": "### Training phase on MONK3",
   "metadata": {
    "cell_id": "00055-767c45fa-ae9a-442c-891a-84a43a15e8a3",
    "tags": [],
    "deepnote_cell_type": "markdown"
   }
  },
  {
   "cell_type": "code",
   "metadata": {
    "cell_id": "00030-91805f62-b6cb-48ea-bc5f-6c07105f70a6",
    "deepnote_to_be_reexecuted": false,
    "execution_millis": 2660,
    "execution_start": 1641996410929,
    "source_hash": "d1e69f0b",
    "tags": [],
    "output_cleared": true,
    "deepnote_cell_type": "code"
   },
   "source": "classifier_M3 = MLPClassifier(random_state=RS_NUMBER, batch_size=1, alpha=0.015).fit(X_train_M3, y_train_M3)\neval_model = MLPClassifier(random_state=RS_NUMBER, batch_size=1, alpha = 0.015)",
   "execution_count": 31,
   "outputs": []
  },
  {
   "cell_type": "code",
   "metadata": {
    "cell_id": "00057-e7c838fa-08a3-48da-8950-df6b7825fb9b",
    "deepnote_to_be_reexecuted": false,
    "execution_millis": 9181,
    "execution_start": 1641996413590,
    "source_hash": "c99473c1",
    "tags": [],
    "output_cleared": true,
    "deepnote_cell_type": "code"
   },
   "source": "train_scores_M3, test_scores_M3, train_loss_M3, test_loss_M3 = fit_and_score_monk(classifier_M3.n_iter_, eval_model, X_train_M3, y_train_M3, X_test_M3, y_test_M3)",
   "execution_count": 32,
   "outputs": []
  },
  {
   "cell_type": "markdown",
   "source": "### Loss curve for MONK3",
   "metadata": {
    "cell_id": "00058-20db3155-0a03-45cc-b9a1-06fa3c4219b8",
    "tags": [],
    "deepnote_cell_type": "markdown"
   }
  },
  {
   "cell_type": "code",
   "metadata": {
    "cell_id": "00031-388f766f-4a89-4297-b010-a29e512920a4",
    "deepnote_output_heights": [
     482
    ],
    "deepnote_to_be_reexecuted": false,
    "execution_millis": 603,
    "execution_start": 1641996422778,
    "source_hash": "d4858002",
    "tags": [],
    "output_cleared": false,
    "deepnote_cell_type": "code"
   },
   "source": "plot_learning_curves(train_loss_M3, test_loss_M3, classifier_M3.n_iter_, \"Loss (BCE)\")",
   "execution_count": 33,
   "outputs": [
    {
     "data": {
      "text/plain": "<Figure size 720x576 with 1 Axes>",
      "image/png": "[encoded data removed]"
     },
     "metadata": {
      "needs_background": "light",
      "image/png": {
       "width": 609,
       "height": 480
      }
     },
     "output_type": "display_data"
    }
   ]
  },
  {
   "cell_type": "markdown",
   "source": "### Learning curves for MONK3",
   "metadata": {
    "cell_id": "00060-0f1f4796-2b6d-4a25-8ce1-a9d08fca1d7d",
    "tags": [],
    "deepnote_cell_type": "markdown"
   }
  },
  {
   "cell_type": "code",
   "metadata": {
    "cell_id": "00061-60043da1-0b2d-4698-955f-98100f679b08",
    "deepnote_output_heights": [
     482
    ],
    "deepnote_to_be_reexecuted": false,
    "execution_millis": 274,
    "execution_start": 1641996423109,
    "source_hash": "ff5f65d9",
    "tags": [],
    "output_cleared": false,
    "deepnote_cell_type": "code"
   },
   "source": "plot_learning_curves(train_scores_M3, test_scores_M3, classifier_M3.n_iter_, 'Accuracy')\n#normal settings tends to overfit, alpha was increased in order to regularize the model ",
   "execution_count": 34,
   "outputs": [
    {
     "data": {
      "text/plain": "<Figure size 720x576 with 1 Axes>",
      "image/png": "[encoded data removed]"
     },
     "metadata": {
      "needs_background": "light",
      "image/png": {
       "width": 615,
       "height": 480
      }
     },
     "output_type": "display_data"
    }
   ]
  },
  {
   "cell_type": "code",
   "metadata": {
    "cell_id": "00032-be8eff03-9a6c-4415-a3d7-ea43a53603c0",
    "deepnote_to_be_reexecuted": false,
    "execution_millis": 17,
    "execution_start": 1641996423379,
    "source_hash": "afa418d",
    "tags": [],
    "output_cleared": false,
    "deepnote_cell_type": "code"
   },
   "source": "y_predicted_M3 = classifier_M3.predict(X_test_M3)\nprint(f\"Accuracy on MONK3: {classifier_M3.score(X_test_M3, y_test_M3)}\")\nprint(f\"MEE on MONK3: {(np.linalg.norm(y_predicted_M3-y_test_M3))}\") # MEE distance (a.k.a. norm 2)",
   "execution_count": 35,
   "outputs": [
    {
     "name": "stdout",
     "text": "Accuracy on MONK3: 0.9768518518518519\nMEE on MONK3: 3.1622776601683795\n",
     "output_type": "stream"
    }
   ]
  },
  {
   "cell_type": "markdown",
   "source": "## Regression task",
   "metadata": {
    "cell_id": "00033-f377e8a8-d346-4c60-835a-b6b9f2df7021",
    "tags": [],
    "deepnote_cell_type": "markdown"
   }
  },
  {
   "cell_type": "markdown",
   "source": "### Preparing the training set",
   "metadata": {
    "cell_id": "00064-2058d5d5-7564-4bea-932b-0c17b1a3c160",
    "tags": [],
    "deepnote_cell_type": "markdown"
   }
  },
  {
   "cell_type": "code",
   "metadata": {
    "cell_id": "00034-07744eb7-186a-48ca-b217-0d7b58cd58b7",
    "deepnote_to_be_reexecuted": false,
    "execution_millis": 0,
    "execution_start": 1641996423387,
    "source_hash": "192dcf",
    "tags": [],
    "output_cleared": true,
    "deepnote_cell_type": "code"
   },
   "source": "df_task_tr.drop(labels=\"idx\", axis=1, inplace=True)",
   "execution_count": 36,
   "outputs": []
  },
  {
   "cell_type": "code",
   "metadata": {
    "cell_id": "00035-8acb3216-3652-45bf-91f4-a801eaba46ac",
    "deepnote_to_be_reexecuted": false,
    "execution_millis": 10,
    "execution_start": 1641996423388,
    "source_hash": "8b598d07",
    "tags": [],
    "output_cleared": true,
    "deepnote_cell_type": "code"
   },
   "source": "y = df_task_tr[['x','y']].values\nX = df_task_tr.drop(labels=['x','y'], axis=1).values\nX_all = X\ny_all = y",
   "execution_count": 37,
   "outputs": []
  },
  {
   "cell_type": "code",
   "metadata": {
    "cell_id": "00036-cd5f441c-e9e8-4aae-9ae2-35f1423cf422",
    "deepnote_to_be_reexecuted": false,
    "execution_millis": 7,
    "execution_start": 1641996423400,
    "source_hash": "473a37ed",
    "tags": [],
    "output_cleared": false,
    "deepnote_cell_type": "code"
   },
   "source": "print(X.shape)\nprint(y.shape)",
   "execution_count": 38,
   "outputs": [
    {
     "name": "stdout",
     "text": "(1477, 10)\n(1477, 2)\n",
     "output_type": "stream"
    }
   ]
  },
  {
   "cell_type": "markdown",
   "source": "### Internal Test set\nWe split the data set obtaining an internal test set (10%), we will use this internal test at the end to test internally the generalization error",
   "metadata": {
    "cell_id": "00037-3313112a-3b16-420f-a0ae-c8178583d319",
    "tags": [],
    "deepnote_cell_type": "markdown"
   }
  },
  {
   "cell_type": "code",
   "metadata": {
    "cell_id": "00035-e835800e-5aa7-4b2e-af85-c104d99255f3",
    "deepnote_to_be_reexecuted": false,
    "execution_millis": 4,
    "execution_start": 1641996423456,
    "source_hash": "d1f07bc2",
    "tags": [],
    "output_cleared": false,
    "deepnote_cell_type": "code"
   },
   "source": "X, X_internal_test, y, y_internal_test = train_test_split(X, y, test_size=0.1, random_state=RS_NUMBER)\nprint(f\"X shape: {X.shape}\")\nprint(f\"X internal test shape: {X_internal_test.shape}\")\nprint(f\"y shape: {y.shape}\")\nprint(f\"y internal test shape: {y_internal_test.shape}\")",
   "execution_count": 39,
   "outputs": [
    {
     "name": "stdout",
     "text": "X shape: (1329, 10)\nX internal test shape: (148, 10)\ny shape: (1329, 2)\ny internal test shape: (148, 2)\n",
     "output_type": "stream"
    }
   ]
  },
  {
   "cell_type": "code",
   "metadata": {
    "cell_id": "00052-5cffdfe0-8f87-4957-abcc-15ff679d9b9c",
    "deepnote_to_be_reexecuted": false,
    "execution_millis": 1,
    "execution_start": 1641996423503,
    "source_hash": "368f9bc8",
    "tags": [],
    "output_cleared": true,
    "deepnote_cell_type": "code"
   },
   "source": "#trains the model with one iteration (epoch) and computes in output a list of train and test scores using MEE\ndef fit_and_score(epochs, eval_model, X_train, y_train, X_test, y_test):\n    train_scores = []\n    test_scores = []\n    train_loss = []\n    test_loss = []\n    for i in range(epochs):\n        eval_model = eval_model.partial_fit(X_train,y_train)\n        y_train_predicted = eval_model.predict(X_train)\n        y_test_predicted = eval_model.predict(X_test)\n        #results on train set\n        train_scores.append(mee(y_train, y_train_predicted))\n        test_scores.append(mean_squared_error(y_test, y_test_predicted))\n        #result on test set\n        train_loss.append(mee(y_train, y_train_predicted))\n        test_loss.append(mean_squared_error(y_test, y_test_predicted))\n    return train_scores, test_scores, train_loss, test_loss\n",
   "execution_count": 40,
   "outputs": []
  },
  {
   "cell_type": "markdown",
   "source": "## Randomized Search",
   "metadata": {
    "cell_id": "00073-00634e3e-7aa5-4df0-88bd-6dcd2ac6f441",
    "tags": [],
    "deepnote_cell_type": "markdown"
   }
  },
  {
   "cell_type": "code",
   "metadata": {
    "tags": [],
    "cell_id": "00073-c57366cc-ea96-4696-b7a1-cb1173b69f00",
    "output_cleared": true,
    "deepnote_to_be_reexecuted": false,
    "source_hash": "acac1d3f",
    "execution_start": 1641996423504,
    "execution_millis": 46642883,
    "deepnote_cell_type": "code"
   },
   "source": "# define the number of iterations\nn_iter_search = 2000\n# define number of k-folds\nk = 10",
   "execution_count": 41,
   "outputs": []
  },
  {
   "cell_type": "code",
   "metadata": {
    "cell_id": "00074-634a3d0e-014c-4ea9-817f-231f64a5896b",
    "deepnote_output_heights": [
     null,
     347.5
    ],
    "deepnote_to_be_reexecuted": false,
    "execution_millis": 42,
    "execution_start": 1641996423505,
    "source_hash": "c9d1e0cf",
    "tags": [],
    "output_cleared": false,
    "deepnote_cell_type": "code"
   },
   "source": "%%script false --no-raise-error\n\n# to find the best set of parameter setting, we can run a randomized search\n\n# define the parameters' values\nparams = {\n    \"hidden_layer_sizes\": [\n        (5,),(10,),(25,),(50,),(100,),\n        (5, 5),(10, 10),(25, 25),(50, 50),(100, 100),\n        (5, 5, 5),(10, 10, 10),(25, 25, 25),(50, 50, 50),(100, 100, 100),],\n    \"activation\" : [\"logistic\", \"tanh\", \"relu\"],\n    \"solver\": [\"sgd\", \"adam\"],\n    \"learning_rate\": [\"constant\", \"adaptive\", \"invscaling\"],\n    \"learning_rate_init\": uniform(0.01, 0.5),\n    \"alpha\": uniform(0.0001, 0.1),\n    \"momentum\": [0.1, 0.3, 0.5, 0.7, 0.9, 1],\n    \"batch_size\": randint(1, X.shape[0]),\n    \"n_iter_no_change\": [\n        10,\n        25,\n        50,\n    ],\n    \"random_state\": [RS_NUMBER],\n    \"tol\": uniform(0.001,0.0001),\n    \"early_stopping\": [True],\n    \"validation_fraction\": [0.2],\n    \"max_iter\": [5000],\n}\n\n# define the grid search\nrand_gs = RandomizedSearchCV(\n    MLPRegressor(),\n    param_distributions=params,\n    n_iter=n_iter_search,\n    n_jobs=-1,\n    scoring=make_scorer(mee), #scoring is based on the highest value\n    cv=k,\n    random_state=RS_NUMBER,\n    verbose=10\n)\n# run the grid search\nrand_gs.fit(X, y)\n",
   "execution_count": 42,
   "outputs": []
  },
  {
   "cell_type": "code",
   "metadata": {
    "tags": [],
    "cell_id": "00075-966a1466-9e9c-455b-a1ec-07365ce66984",
    "deepnote_to_be_reexecuted": false,
    "source_hash": "ad4ee3e4",
    "execution_start": 1641996423547,
    "execution_millis": 0,
    "deepnote_cell_type": "code"
   },
   "source": "%%script false --no-raise-error\n\ndf_results = pd.DataFrame(data=rand_gs.cv_results_) #trasform into a pandas dataframe\ndf_results.sort_values(by=\"rank_test_score\", axis=0, ascending=False, inplace=True) #sort rank values in decreasing order \ndf_results.dropna(inplace=True) #delete nan values \ndf_results = df_results[:50] #keep only top 50 models\npd.DataFrame.to_csv(df_results, \"sklearn_results/rand1_search.csv\")",
   "execution_count": 43,
   "outputs": []
  },
  {
   "cell_type": "code",
   "metadata": {
    "cell_id": "00076-f458920b-df72-4aed-8cf0-4008e8633a15",
    "deepnote_to_be_reexecuted": false,
    "source_hash": "597f1dd",
    "execution_start": 1641996423548,
    "execution_millis": 166,
    "output_cleared": false,
    "deepnote_cell_type": "code"
   },
   "source": "df_results = pd.read_csv(\"sklearn_results/rand1_search.csv\")\ndf_results.head()\n",
   "execution_count": 44,
   "outputs": [
    {
     "output_type": "execute_result",
     "execution_count": 44,
     "data": {
      "application/vnd.deepnote.dataframe.v3+json": {
       "column_count": 33,
       "row_count": 5,
       "columns": [
        {
         "name": "Unnamed: 0",
         "dtype": "int64",
         "stats": {
          "unique_count": 5,
          "nan_count": 0,
          "min": "843",
          "max": "1931",
          "histogram": [
           {
            "bin_start": 843,
            "bin_end": 951.8,
            "count": 1
           },
           {
            "bin_start": 951.8,
            "bin_end": 1060.6,
            "count": 0
           },
           {
            "bin_start": 1060.6,
            "bin_end": 1169.4,
            "count": 0
           },
           {
            "bin_start": 1169.4,
            "bin_end": 1278.2,
            "count": 1
           },
           {
            "bin_start": 1278.2,
            "bin_end": 1387,
            "count": 0
           },
           {
            "bin_start": 1387,
            "bin_end": 1495.8,
            "count": 0
           },
           {
            "bin_start": 1495.8,
            "bin_end": 1604.6,
            "count": 0
           },
           {
            "bin_start": 1604.6,
            "bin_end": 1713.4,
            "count": 0
           },
           {
            "bin_start": 1713.4,
            "bin_end": 1822.1999999999998,
            "count": 1
           },
           {
            "bin_start": 1822.1999999999998,
            "bin_end": 1931,
            "count": 2
           }
          ]
         }
        },
        {
         "name": "mean_fit_time",
         "dtype": "float64",
         "stats": {
          "unique_count": 5,
          "nan_count": 0,
          "min": "1.0865364789962768",
          "max": "2.944502353668213",
          "histogram": [
           {
            "bin_start": 1.0865364789962768,
            "bin_end": 1.2723330664634704,
            "count": 2
           },
           {
            "bin_start": 1.2723330664634704,
            "bin_end": 1.458129653930664,
            "count": 1
           },
           {
            "bin_start": 1.458129653930664,
            "bin_end": 1.6439262413978577,
            "count": 0
           },
           {
            "bin_start": 1.6439262413978577,
            "bin_end": 1.829722828865051,
            "count": 0
           },
           {
            "bin_start": 1.829722828865051,
            "bin_end": 2.015519416332245,
            "count": 0
           },
           {
            "bin_start": 2.015519416332245,
            "bin_end": 2.2013160037994384,
            "count": 0
           },
           {
            "bin_start": 2.2013160037994384,
            "bin_end": 2.3871125912666322,
            "count": 0
           },
           {
            "bin_start": 2.3871125912666322,
            "bin_end": 2.5729091787338256,
            "count": 0
           },
           {
            "bin_start": 2.5729091787338256,
            "bin_end": 2.758705766201019,
            "count": 1
           },
           {
            "bin_start": 2.758705766201019,
            "bin_end": 2.944502353668213,
            "count": 1
           }
          ]
         }
        },
        {
         "name": "std_fit_time",
         "dtype": "float64",
         "stats": {
          "unique_count": 5,
          "nan_count": 0,
          "min": "0.2180609647169935",
          "max": "0.6319666637723287",
          "histogram": [
           {
            "bin_start": 0.2180609647169935,
            "bin_end": 0.259451534622527,
            "count": 3
           },
           {
            "bin_start": 0.259451534622527,
            "bin_end": 0.30084210452806054,
            "count": 0
           },
           {
            "bin_start": 0.30084210452806054,
            "bin_end": 0.34223267443359406,
            "count": 0
           },
           {
            "bin_start": 0.34223267443359406,
            "bin_end": 0.38362324433912753,
            "count": 0
           },
           {
            "bin_start": 0.38362324433912753,
            "bin_end": 0.4250138142446611,
            "count": 0
           },
           {
            "bin_start": 0.4250138142446611,
            "bin_end": 0.4664043841501946,
            "count": 0
           },
           {
            "bin_start": 0.4664043841501946,
            "bin_end": 0.507794954055728,
            "count": 0
           },
           {
            "bin_start": 0.507794954055728,
            "bin_end": 0.5491855239612616,
            "count": 0
           },
           {
            "bin_start": 0.5491855239612616,
            "bin_end": 0.5905760938667952,
            "count": 0
           },
           {
            "bin_start": 0.5905760938667952,
            "bin_end": 0.6319666637723287,
            "count": 2
           }
          ]
         }
        },
        {
         "name": "mean_score_time",
         "dtype": "float64",
         "stats": {
          "unique_count": 5,
          "nan_count": 0,
          "min": "0.0015564203262329",
          "max": "0.0055206537246704",
          "histogram": [
           {
            "bin_start": 0.0015564203262329,
            "bin_end": 0.0019528436660766501,
            "count": 2
           },
           {
            "bin_start": 0.0019528436660766501,
            "bin_end": 0.0023492670059204,
            "count": 0
           },
           {
            "bin_start": 0.0023492670059204,
            "bin_end": 0.0027456903457641502,
            "count": 0
           },
           {
            "bin_start": 0.0027456903457641502,
            "bin_end": 0.0031421136856078996,
            "count": 0
           },
           {
            "bin_start": 0.0031421136856078996,
            "bin_end": 0.00353853702545165,
            "count": 0
           },
           {
            "bin_start": 0.00353853702545165,
            "bin_end": 0.0039349603652954,
            "count": 0
           },
           {
            "bin_start": 0.0039349603652954,
            "bin_end": 0.00433138370513915,
            "count": 0
           },
           {
            "bin_start": 0.00433138370513915,
            "bin_end": 0.0047278070449829,
            "count": 0
           },
           {
            "bin_start": 0.0047278070449829,
            "bin_end": 0.005124230384826649,
            "count": 1
           },
           {
            "bin_start": 0.005124230384826649,
            "bin_end": 0.0055206537246704,
            "count": 2
           }
          ]
         }
        },
        {
         "name": "std_score_time",
         "dtype": "float64",
         "stats": {
          "unique_count": 5,
          "nan_count": 0,
          "min": "0.0004671678117748",
          "max": "0.0088552095455256",
          "histogram": [
           {
            "bin_start": 0.0004671678117748,
            "bin_end": 0.00130597198514988,
            "count": 2
           },
           {
            "bin_start": 0.00130597198514988,
            "bin_end": 0.00214477615852496,
            "count": 0
           },
           {
            "bin_start": 0.00214477615852496,
            "bin_end": 0.0029835803319000396,
            "count": 0
           },
           {
            "bin_start": 0.0029835803319000396,
            "bin_end": 0.0038223845052751198,
            "count": 0
           },
           {
            "bin_start": 0.0038223845052751198,
            "bin_end": 0.0046611886786502,
            "count": 0
           },
           {
            "bin_start": 0.0046611886786502,
            "bin_end": 0.00549999285202528,
            "count": 0
           },
           {
            "bin_start": 0.00549999285202528,
            "bin_end": 0.00633879702540036,
            "count": 0
           },
           {
            "bin_start": 0.00633879702540036,
            "bin_end": 0.00717760119877544,
            "count": 0
           },
           {
            "bin_start": 0.00717760119877544,
            "bin_end": 0.00801640537215052,
            "count": 1
           },
           {
            "bin_start": 0.00801640537215052,
            "bin_end": 0.0088552095455256,
            "count": 2
           }
          ]
         }
        },
        {
         "name": "param_activation",
         "dtype": "object",
         "stats": {
          "unique_count": 2,
          "nan_count": 0,
          "categories": [
           {
            "name": "logistic",
            "count": 3
           },
           {
            "name": "tanh",
            "count": 2
           }
          ]
         }
        },
        {
         "name": "param_alpha",
         "dtype": "float64",
         "stats": {
          "unique_count": 5,
          "nan_count": 0,
          "min": "0.0214357617832925",
          "max": "0.0688831999215968",
          "histogram": [
           {
            "bin_start": 0.0214357617832925,
            "bin_end": 0.026180505597122934,
            "count": 2
           },
           {
            "bin_start": 0.026180505597122934,
            "bin_end": 0.030925249410953363,
            "count": 0
           },
           {
            "bin_start": 0.030925249410953363,
            "bin_end": 0.03566999322478379,
            "count": 1
           },
           {
            "bin_start": 0.03566999322478379,
            "bin_end": 0.04041473703861423,
            "count": 0
           },
           {
            "bin_start": 0.04041473703861423,
            "bin_end": 0.04515948085244466,
            "count": 0
           },
           {
            "bin_start": 0.04515948085244466,
            "bin_end": 0.04990422466627509,
            "count": 0
           },
           {
            "bin_start": 0.04990422466627509,
            "bin_end": 0.05464896848010552,
            "count": 0
           },
           {
            "bin_start": 0.05464896848010552,
            "bin_end": 0.059393712293935946,
            "count": 0
           },
           {
            "bin_start": 0.059393712293935946,
            "bin_end": 0.06413845610776638,
            "count": 0
           },
           {
            "bin_start": 0.06413845610776638,
            "bin_end": 0.0688831999215968,
            "count": 2
           }
          ]
         }
        },
        {
         "name": "param_batch_size",
         "dtype": "int64",
         "stats": {
          "unique_count": 5,
          "nan_count": 0,
          "min": "81",
          "max": "295",
          "histogram": [
           {
            "bin_start": 81,
            "bin_end": 102.4,
            "count": 2
           },
           {
            "bin_start": 102.4,
            "bin_end": 123.8,
            "count": 0
           },
           {
            "bin_start": 123.8,
            "bin_end": 145.2,
            "count": 0
           },
           {
            "bin_start": 145.2,
            "bin_end": 166.6,
            "count": 0
           },
           {
            "bin_start": 166.6,
            "bin_end": 188,
            "count": 2
           },
           {
            "bin_start": 188,
            "bin_end": 209.39999999999998,
            "count": 0
           },
           {
            "bin_start": 209.39999999999998,
            "bin_end": 230.79999999999998,
            "count": 0
           },
           {
            "bin_start": 230.79999999999998,
            "bin_end": 252.2,
            "count": 0
           },
           {
            "bin_start": 252.2,
            "bin_end": 273.6,
            "count": 0
           },
           {
            "bin_start": 273.6,
            "bin_end": 295,
            "count": 1
           }
          ]
         }
        },
        {
         "name": "param_early_stopping",
         "dtype": "bool",
         "stats": {
          "unique_count": 1,
          "nan_count": 0,
          "categories": [
           {
            "name": "True",
            "count": 5
           }
          ]
         }
        },
        {
         "name": "param_hidden_layer_sizes",
         "dtype": "object",
         "stats": {
          "unique_count": 3,
          "nan_count": 0,
          "categories": [
           {
            "name": "(50, 50)",
            "count": 2
           },
           {
            "name": "(100, 100)",
            "count": 2
           },
           {
            "name": "(10, 10, 10)",
            "count": 1
           }
          ]
         }
        },
        {
         "name": "param_learning_rate",
         "dtype": "object",
         "stats": {
          "unique_count": 3,
          "nan_count": 0,
          "categories": [
           {
            "name": "invscaling",
            "count": 3
           },
           {
            "name": "constant",
            "count": 1
           },
           {
            "name": "adaptive",
            "count": 1
           }
          ]
         }
        },
        {
         "name": "param_learning_rate_init",
         "dtype": "float64",
         "stats": {
          "unique_count": 5,
          "nan_count": 0,
          "min": "0.0263547467721465",
          "max": "0.0768004277670996",
          "histogram": [
           {
            "bin_start": 0.0263547467721465,
            "bin_end": 0.03139931487164181,
            "count": 2
           },
           {
            "bin_start": 0.03139931487164181,
            "bin_end": 0.03644388297113712,
            "count": 0
           },
           {
            "bin_start": 0.03644388297113712,
            "bin_end": 0.041488451070632426,
            "count": 0
           },
           {
            "bin_start": 0.041488451070632426,
            "bin_end": 0.04653301917012774,
            "count": 1
           },
           {
            "bin_start": 0.04653301917012774,
            "bin_end": 0.051577587269623054,
            "count": 0
           },
           {
            "bin_start": 0.051577587269623054,
            "bin_end": 0.056622155369118354,
            "count": 0
           },
           {
            "bin_start": 0.056622155369118354,
            "bin_end": 0.06166672346861367,
            "count": 1
           },
           {
            "bin_start": 0.06166672346861367,
            "bin_end": 0.06671129156810898,
            "count": 0
           },
           {
            "bin_start": 0.06671129156810898,
            "bin_end": 0.07175585966760428,
            "count": 0
           },
           {
            "bin_start": 0.07175585966760428,
            "bin_end": 0.0768004277670996,
            "count": 1
           }
          ]
         }
        },
        {
         "name": "param_max_iter",
         "dtype": "int64",
         "stats": {
          "unique_count": 1,
          "nan_count": 0,
          "min": "5000",
          "max": "5000",
          "histogram": [
           {
            "bin_start": 4999.5,
            "bin_end": 4999.6,
            "count": 0
           },
           {
            "bin_start": 4999.6,
            "bin_end": 4999.7,
            "count": 0
           },
           {
            "bin_start": 4999.7,
            "bin_end": 4999.8,
            "count": 0
           },
           {
            "bin_start": 4999.8,
            "bin_end": 4999.9,
            "count": 0
           },
           {
            "bin_start": 4999.9,
            "bin_end": 5000,
            "count": 0
           },
           {
            "bin_start": 5000,
            "bin_end": 5000.1,
            "count": 5
           },
           {
            "bin_start": 5000.1,
            "bin_end": 5000.2,
            "count": 0
           },
           {
            "bin_start": 5000.2,
            "bin_end": 5000.3,
            "count": 0
           },
           {
            "bin_start": 5000.3,
            "bin_end": 5000.4,
            "count": 0
           },
           {
            "bin_start": 5000.4,
            "bin_end": 5000.5,
            "count": 0
           }
          ]
         }
        },
        {
         "name": "param_momentum",
         "dtype": "float64",
         "stats": {
          "unique_count": 4,
          "nan_count": 0,
          "min": "0.1",
          "max": "1.0",
          "histogram": [
           {
            "bin_start": 0.1,
            "bin_end": 0.19,
            "count": 2
           },
           {
            "bin_start": 0.19,
            "bin_end": 0.28,
            "count": 0
           },
           {
            "bin_start": 0.28,
            "bin_end": 0.37,
            "count": 0
           },
           {
            "bin_start": 0.37,
            "bin_end": 0.45999999999999996,
            "count": 0
           },
           {
            "bin_start": 0.45999999999999996,
            "bin_end": 0.5499999999999999,
            "count": 1
           },
           {
            "bin_start": 0.5499999999999999,
            "bin_end": 0.64,
            "count": 0
           },
           {
            "bin_start": 0.64,
            "bin_end": 0.73,
            "count": 0
           },
           {
            "bin_start": 0.73,
            "bin_end": 0.82,
            "count": 0
           },
           {
            "bin_start": 0.82,
            "bin_end": 0.9099999999999999,
            "count": 1
           },
           {
            "bin_start": 0.9099999999999999,
            "bin_end": 1,
            "count": 1
           }
          ]
         }
        },
        {
         "name": "param_n_iter_no_change",
         "dtype": "int64",
         "stats": {
          "unique_count": 2,
          "nan_count": 0,
          "min": "25",
          "max": "50",
          "histogram": [
           {
            "bin_start": 25,
            "bin_end": 27.5,
            "count": 1
           },
           {
            "bin_start": 27.5,
            "bin_end": 30,
            "count": 0
           },
           {
            "bin_start": 30,
            "bin_end": 32.5,
            "count": 0
           },
           {
            "bin_start": 32.5,
            "bin_end": 35,
            "count": 0
           },
           {
            "bin_start": 35,
            "bin_end": 37.5,
            "count": 0
           },
           {
            "bin_start": 37.5,
            "bin_end": 40,
            "count": 0
           },
           {
            "bin_start": 40,
            "bin_end": 42.5,
            "count": 0
           },
           {
            "bin_start": 42.5,
            "bin_end": 45,
            "count": 0
           },
           {
            "bin_start": 45,
            "bin_end": 47.5,
            "count": 0
           },
           {
            "bin_start": 47.5,
            "bin_end": 50,
            "count": 4
           }
          ]
         }
        },
        {
         "name": "param_random_state",
         "dtype": "int64",
         "stats": {
          "unique_count": 1,
          "nan_count": 0,
          "min": "69",
          "max": "69",
          "histogram": [
           {
            "bin_start": 68.5,
            "bin_end": 68.6,
            "count": 0
           },
           {
            "bin_start": 68.6,
            "bin_end": 68.7,
            "count": 0
           },
           {
            "bin_start": 68.7,
            "bin_end": 68.8,
            "count": 0
           },
           {
            "bin_start": 68.8,
            "bin_end": 68.9,
            "count": 0
           },
           {
            "bin_start": 68.9,
            "bin_end": 69,
            "count": 0
           },
           {
            "bin_start": 69,
            "bin_end": 69.1,
            "count": 5
           },
           {
            "bin_start": 69.1,
            "bin_end": 69.2,
            "count": 0
           },
           {
            "bin_start": 69.2,
            "bin_end": 69.3,
            "count": 0
           },
           {
            "bin_start": 69.3,
            "bin_end": 69.4,
            "count": 0
           },
           {
            "bin_start": 69.4,
            "bin_end": 69.5,
            "count": 0
           }
          ]
         }
        },
        {
         "name": "param_solver",
         "dtype": "object",
         "stats": {
          "unique_count": 1,
          "nan_count": 0,
          "categories": [
           {
            "name": "adam",
            "count": 5
           }
          ]
         }
        },
        {
         "name": "param_tol",
         "dtype": "float64",
         "stats": {
          "unique_count": 5,
          "nan_count": 0,
          "min": "0.0010123146699968",
          "max": "0.0010663204575654",
          "histogram": [
           {
            "bin_start": 0.0010123146699968,
            "bin_end": 0.00101771524875366,
            "count": 2
           },
           {
            "bin_start": 0.00101771524875366,
            "bin_end": 0.00102311582751052,
            "count": 0
           },
           {
            "bin_start": 0.00102311582751052,
            "bin_end": 0.0010285164062673801,
            "count": 0
           },
           {
            "bin_start": 0.0010285164062673801,
            "bin_end": 0.00103391698502424,
            "count": 0
           },
           {
            "bin_start": 0.00103391698502424,
            "bin_end": 0.0010393175637811,
            "count": 0
           },
           {
            "bin_start": 0.0010393175637811,
            "bin_end": 0.00104471814253796,
            "count": 1
           },
           {
            "bin_start": 0.00104471814253796,
            "bin_end": 0.00105011872129482,
            "count": 0
           },
           {
            "bin_start": 0.00105011872129482,
            "bin_end": 0.00105551930005168,
            "count": 0
           },
           {
            "bin_start": 0.00105551930005168,
            "bin_end": 0.00106091987880854,
            "count": 0
           },
           {
            "bin_start": 0.00106091987880854,
            "bin_end": 0.0010663204575654,
            "count": 2
           }
          ]
         }
        },
        {
         "name": "param_validation_fraction",
         "dtype": "float64",
         "stats": {
          "unique_count": 1,
          "nan_count": 0,
          "min": "0.2",
          "max": "0.2",
          "histogram": [
           {
            "bin_start": -0.3,
            "bin_end": -0.19999999999999998,
            "count": 0
           },
           {
            "bin_start": -0.19999999999999998,
            "bin_end": -0.09999999999999998,
            "count": 0
           },
           {
            "bin_start": -0.09999999999999998,
            "bin_end": 5.551115123125783e-17,
            "count": 0
           },
           {
            "bin_start": 5.551115123125783e-17,
            "bin_end": 0.10000000000000003,
            "count": 0
           },
           {
            "bin_start": 0.10000000000000003,
            "bin_end": 0.2,
            "count": 0
           },
           {
            "bin_start": 0.2,
            "bin_end": 0.3000000000000001,
            "count": 5
           },
           {
            "bin_start": 0.3000000000000001,
            "bin_end": 0.4000000000000001,
            "count": 0
           },
           {
            "bin_start": 0.4000000000000001,
            "bin_end": 0.5,
            "count": 0
           },
           {
            "bin_start": 0.5,
            "bin_end": 0.6000000000000001,
            "count": 0
           },
           {
            "bin_start": 0.6000000000000001,
            "bin_end": 0.7,
            "count": 0
           }
          ]
         }
        },
        {
         "name": "params",
         "dtype": "object",
         "stats": {
          "unique_count": 5,
          "nan_count": 0,
          "categories": [
           {
            "name": "{'activation': 'logistic', 'alpha': 0.0253222322112038, 'batch_size': 172, 'early_stopping': True, 'hidden_layer_sizes': (50, 50), 'learning_rate': 'constant', 'learning_rate_init': 0.04522264859305097, 'max_iter': 5000, 'momentum': 1, 'n_iter_no_change': 25, 'random_state': 69, 'solver': 'adam', 'tol': 0.001066320457565434, 'validation_fraction': 0.2}",
            "count": 1
           },
           {
            "name": "{'activation': 'tanh', 'alpha': 0.06888319992159686, 'batch_size': 295, 'early_stopping': True, 'hidden_layer_sizes': (100, 100), 'learning_rate': 'adaptive', 'learning_rate_init': 0.05865695871349746, 'max_iter': 5000, 'momentum': 0.5, 'n_iter_no_change': 50, 'random_state': 69, 'solver': 'adam', 'tol': 0.001041575687363745, 'validation_fraction': 0.2}",
            "count": 1
           },
           {
            "name": "3 others",
            "count": 3
           }
          ]
         }
        },
        {
         "name": "split0_test_score",
         "dtype": "float64",
         "stats": {
          "unique_count": 5,
          "nan_count": 0,
          "min": "1.0091980052980232",
          "max": "1.0845007818434078",
          "histogram": [
           {
            "bin_start": 1.0091980052980232,
            "bin_end": 1.0167282829525617,
            "count": 1
           },
           {
            "bin_start": 1.0167282829525617,
            "bin_end": 1.0242585606071002,
            "count": 1
           },
           {
            "bin_start": 1.0242585606071002,
            "bin_end": 1.0317888382616385,
            "count": 1
           },
           {
            "bin_start": 1.0317888382616385,
            "bin_end": 1.039319115916177,
            "count": 0
           },
           {
            "bin_start": 1.039319115916177,
            "bin_end": 1.0468493935707155,
            "count": 0
           },
           {
            "bin_start": 1.0468493935707155,
            "bin_end": 1.054379671225254,
            "count": 1
           },
           {
            "bin_start": 1.054379671225254,
            "bin_end": 1.0619099488797925,
            "count": 0
           },
           {
            "bin_start": 1.0619099488797925,
            "bin_end": 1.0694402265343308,
            "count": 0
           },
           {
            "bin_start": 1.0694402265343308,
            "bin_end": 1.0769705041888693,
            "count": 0
           },
           {
            "bin_start": 1.0769705041888693,
            "bin_end": 1.0845007818434078,
            "count": 1
           }
          ]
         }
        },
        {
         "name": "split1_test_score",
         "dtype": "float64",
         "stats": {
          "unique_count": 5,
          "nan_count": 0,
          "min": "1.0296592138613871",
          "max": "1.1080188912172844",
          "histogram": [
           {
            "bin_start": 1.0296592138613871,
            "bin_end": 1.0374951815969768,
            "count": 2
           },
           {
            "bin_start": 1.0374951815969768,
            "bin_end": 1.0453311493325665,
            "count": 1
           },
           {
            "bin_start": 1.0453311493325665,
            "bin_end": 1.0531671170681562,
            "count": 0
           },
           {
            "bin_start": 1.0531671170681562,
            "bin_end": 1.061003084803746,
            "count": 0
           },
           {
            "bin_start": 1.061003084803746,
            "bin_end": 1.0688390525393356,
            "count": 0
           },
           {
            "bin_start": 1.0688390525393356,
            "bin_end": 1.0766750202749256,
            "count": 0
           },
           {
            "bin_start": 1.0766750202749256,
            "bin_end": 1.0845109880105153,
            "count": 0
           },
           {
            "bin_start": 1.0845109880105153,
            "bin_end": 1.092346955746105,
            "count": 1
           },
           {
            "bin_start": 1.092346955746105,
            "bin_end": 1.1001829234816947,
            "count": 0
           },
           {
            "bin_start": 1.1001829234816947,
            "bin_end": 1.1080188912172844,
            "count": 1
           }
          ]
         }
        },
        {
         "name": "split2_test_score",
         "dtype": "float64",
         "stats": {
          "unique_count": 5,
          "nan_count": 0,
          "min": "1.0761006690752375",
          "max": "1.1609731936224843",
          "histogram": [
           {
            "bin_start": 1.0761006690752375,
            "bin_end": 1.084587921529962,
            "count": 1
           },
           {
            "bin_start": 1.084587921529962,
            "bin_end": 1.093075173984687,
            "count": 0
           },
           {
            "bin_start": 1.093075173984687,
            "bin_end": 1.1015624264394115,
            "count": 0
           },
           {
            "bin_start": 1.1015624264394115,
            "bin_end": 1.1100496788941363,
            "count": 1
           },
           {
            "bin_start": 1.1100496788941363,
            "bin_end": 1.118536931348861,
            "count": 0
           },
           {
            "bin_start": 1.118536931348861,
            "bin_end": 1.1270241838035855,
            "count": 0
           },
           {
            "bin_start": 1.1270241838035855,
            "bin_end": 1.1355114362583103,
            "count": 1
           },
           {
            "bin_start": 1.1355114362583103,
            "bin_end": 1.143998688713035,
            "count": 0
           },
           {
            "bin_start": 1.143998688713035,
            "bin_end": 1.1524859411677597,
            "count": 0
           },
           {
            "bin_start": 1.1524859411677597,
            "bin_end": 1.1609731936224843,
            "count": 2
           }
          ]
         }
        },
        {
         "name": "split3_test_score",
         "dtype": "float64",
         "stats": {
          "unique_count": 5,
          "nan_count": 0,
          "min": "1.1480936888418911",
          "max": "1.2702351075704097",
          "histogram": [
           {
            "bin_start": 1.1480936888418911,
            "bin_end": 1.160307830714743,
            "count": 1
           },
           {
            "bin_start": 1.160307830714743,
            "bin_end": 1.1725219725875948,
            "count": 0
           },
           {
            "bin_start": 1.1725219725875948,
            "bin_end": 1.1847361144604467,
            "count": 0
           },
           {
            "bin_start": 1.1847361144604467,
            "bin_end": 1.1969502563332985,
            "count": 0
           },
           {
            "bin_start": 1.1969502563332985,
            "bin_end": 1.2091643982061504,
            "count": 1
           },
           {
            "bin_start": 1.2091643982061504,
            "bin_end": 1.2213785400790023,
            "count": 1
           },
           {
            "bin_start": 1.2213785400790023,
            "bin_end": 1.2335926819518541,
            "count": 1
           },
           {
            "bin_start": 1.2335926819518541,
            "bin_end": 1.245806823824706,
            "count": 0
           },
           {
            "bin_start": 1.245806823824706,
            "bin_end": 1.2580209656975578,
            "count": 0
           },
           {
            "bin_start": 1.2580209656975578,
            "bin_end": 1.2702351075704097,
            "count": 1
           }
          ]
         }
        },
        {
         "name": "split4_test_score",
         "dtype": "float64",
         "stats": {
          "unique_count": 5,
          "nan_count": 0,
          "min": "1.1307961800685855",
          "max": "1.2489661354909691",
          "histogram": [
           {
            "bin_start": 1.1307961800685855,
            "bin_end": 1.142613175610824,
            "count": 1
           },
           {
            "bin_start": 1.142613175610824,
            "bin_end": 1.1544301711530622,
            "count": 0
           },
           {
            "bin_start": 1.1544301711530622,
            "bin_end": 1.1662471666953005,
            "count": 0
           },
           {
            "bin_start": 1.1662471666953005,
            "bin_end": 1.178064162237539,
            "count": 0
           },
           {
            "bin_start": 1.178064162237539,
            "bin_end": 1.1898811577797774,
            "count": 1
           },
           {
            "bin_start": 1.1898811577797774,
            "bin_end": 1.2016981533220157,
            "count": 0
           },
           {
            "bin_start": 1.2016981533220157,
            "bin_end": 1.213515148864254,
            "count": 1
           },
           {
            "bin_start": 1.213515148864254,
            "bin_end": 1.2253321444064924,
            "count": 1
           },
           {
            "bin_start": 1.2253321444064924,
            "bin_end": 1.2371491399487309,
            "count": 0
           },
           {
            "bin_start": 1.2371491399487309,
            "bin_end": 1.2489661354909691,
            "count": 1
           }
          ]
         }
        },
        {
         "name": "split5_test_score",
         "dtype": "float64",
         "stats": {
          "unique_count": 5,
          "nan_count": 0,
          "min": "1.2056449493729664",
          "max": "1.2597029058466582",
          "histogram": [
           {
            "bin_start": 1.2056449493729664,
            "bin_end": 1.2110507450203356,
            "count": 3
           },
           {
            "bin_start": 1.2110507450203356,
            "bin_end": 1.2164565406677048,
            "count": 0
           },
           {
            "bin_start": 1.2164565406677048,
            "bin_end": 1.221862336315074,
            "count": 0
           },
           {
            "bin_start": 1.221862336315074,
            "bin_end": 1.2272681319624432,
            "count": 0
           },
           {
            "bin_start": 1.2272681319624432,
            "bin_end": 1.2326739276098122,
            "count": 1
           },
           {
            "bin_start": 1.2326739276098122,
            "bin_end": 1.2380797232571814,
            "count": 0
           },
           {
            "bin_start": 1.2380797232571814,
            "bin_end": 1.2434855189045506,
            "count": 0
           },
           {
            "bin_start": 1.2434855189045506,
            "bin_end": 1.2488913145519198,
            "count": 0
           },
           {
            "bin_start": 1.2488913145519198,
            "bin_end": 1.254297110199289,
            "count": 0
           },
           {
            "bin_start": 1.254297110199289,
            "bin_end": 1.2597029058466582,
            "count": 1
           }
          ]
         }
        },
        {
         "name": "split6_test_score",
         "dtype": "float64",
         "stats": {
          "unique_count": 5,
          "nan_count": 0,
          "min": "1.086346697017092",
          "max": "1.2267811056208815",
          "histogram": [
           {
            "bin_start": 1.086346697017092,
            "bin_end": 1.100390137877471,
            "count": 2
           },
           {
            "bin_start": 1.100390137877471,
            "bin_end": 1.1144335787378499,
            "count": 0
           },
           {
            "bin_start": 1.1144335787378499,
            "bin_end": 1.128477019598229,
            "count": 1
           },
           {
            "bin_start": 1.128477019598229,
            "bin_end": 1.142520460458608,
            "count": 1
           },
           {
            "bin_start": 1.142520460458608,
            "bin_end": 1.1565639013189868,
            "count": 0
           },
           {
            "bin_start": 1.1565639013189868,
            "bin_end": 1.1706073421793657,
            "count": 0
           },
           {
            "bin_start": 1.1706073421793657,
            "bin_end": 1.1846507830397446,
            "count": 0
           },
           {
            "bin_start": 1.1846507830397446,
            "bin_end": 1.1986942239001237,
            "count": 0
           },
           {
            "bin_start": 1.1986942239001237,
            "bin_end": 1.2127376647605026,
            "count": 0
           },
           {
            "bin_start": 1.2127376647605026,
            "bin_end": 1.2267811056208815,
            "count": 1
           }
          ]
         }
        },
        {
         "name": "split7_test_score",
         "dtype": "float64",
         "stats": {
          "unique_count": 5,
          "nan_count": 0,
          "min": "1.0194514011799298",
          "max": "1.0882402147131092",
          "histogram": [
           {
            "bin_start": 1.0194514011799298,
            "bin_end": 1.0263302825332477,
            "count": 2
           },
           {
            "bin_start": 1.0263302825332477,
            "bin_end": 1.0332091638865657,
            "count": 0
           },
           {
            "bin_start": 1.0332091638865657,
            "bin_end": 1.0400880452398837,
            "count": 0
           },
           {
            "bin_start": 1.0400880452398837,
            "bin_end": 1.0469669265932016,
            "count": 0
           },
           {
            "bin_start": 1.0469669265932016,
            "bin_end": 1.0538458079465194,
            "count": 0
           },
           {
            "bin_start": 1.0538458079465194,
            "bin_end": 1.0607246892998374,
            "count": 0
           },
           {
            "bin_start": 1.0607246892998374,
            "bin_end": 1.0676035706531555,
            "count": 1
           },
           {
            "bin_start": 1.0676035706531555,
            "bin_end": 1.0744824520064733,
            "count": 0
           },
           {
            "bin_start": 1.0744824520064733,
            "bin_end": 1.0813613333597911,
            "count": 1
           },
           {
            "bin_start": 1.0813613333597911,
            "bin_end": 1.0882402147131092,
            "count": 1
           }
          ]
         }
        },
        {
         "name": "split8_test_score",
         "dtype": "float64",
         "stats": {
          "unique_count": 5,
          "nan_count": 0,
          "min": "1.189251322161526",
          "max": "1.2257057844875334",
          "histogram": [
           {
            "bin_start": 1.189251322161526,
            "bin_end": 1.1928967683941267,
            "count": 1
           },
           {
            "bin_start": 1.1928967683941267,
            "bin_end": 1.1965422146267275,
            "count": 0
           },
           {
            "bin_start": 1.1965422146267275,
            "bin_end": 1.2001876608593283,
            "count": 2
           },
           {
            "bin_start": 1.2001876608593283,
            "bin_end": 1.203833107091929,
            "count": 1
           },
           {
            "bin_start": 1.203833107091929,
            "bin_end": 1.2074785533245298,
            "count": 0
           },
           {
            "bin_start": 1.2074785533245298,
            "bin_end": 1.2111239995571303,
            "count": 0
           },
           {
            "bin_start": 1.2111239995571303,
            "bin_end": 1.2147694457897311,
            "count": 0
           },
           {
            "bin_start": 1.2147694457897311,
            "bin_end": 1.2184148920223319,
            "count": 0
           },
           {
            "bin_start": 1.2184148920223319,
            "bin_end": 1.2220603382549327,
            "count": 0
           },
           {
            "bin_start": 1.2220603382549327,
            "bin_end": 1.2257057844875334,
            "count": 1
           }
          ]
         }
        },
        {
         "name": "split9_test_score",
         "dtype": "float64",
         "stats": {
          "unique_count": 5,
          "nan_count": 0,
          "min": "0.9888470317268508",
          "max": "1.0624769293519798",
          "histogram": [
           {
            "bin_start": 0.9888470317268508,
            "bin_end": 0.9962100214893638,
            "count": 1
           },
           {
            "bin_start": 0.9962100214893638,
            "bin_end": 1.0035730112518766,
            "count": 0
           },
           {
            "bin_start": 1.0035730112518766,
            "bin_end": 1.0109360010143895,
            "count": 0
           },
           {
            "bin_start": 1.0109360010143895,
            "bin_end": 1.0182989907769024,
            "count": 1
           },
           {
            "bin_start": 1.0182989907769024,
            "bin_end": 1.0256619805394154,
            "count": 0
           },
           {
            "bin_start": 1.0256619805394154,
            "bin_end": 1.0330249703019283,
            "count": 0
           },
           {
            "bin_start": 1.0330249703019283,
            "bin_end": 1.040387960064441,
            "count": 0
           },
           {
            "bin_start": 1.040387960064441,
            "bin_end": 1.047750949826954,
            "count": 1
           },
           {
            "bin_start": 1.047750949826954,
            "bin_end": 1.0551139395894669,
            "count": 1
           },
           {
            "bin_start": 1.0551139395894669,
            "bin_end": 1.0624769293519798,
            "count": 1
           }
          ]
         }
        },
        {
         "name": "mean_test_score",
         "dtype": "float64",
         "stats": {
          "unique_count": 5,
          "nan_count": 0,
          "min": "1.1250563927897397",
          "max": "1.1316086010814317",
          "histogram": [
           {
            "bin_start": 1.1250563927897397,
            "bin_end": 1.125711613618909,
            "count": 2
           },
           {
            "bin_start": 1.125711613618909,
            "bin_end": 1.1263668344480782,
            "count": 0
           },
           {
            "bin_start": 1.1263668344480782,
            "bin_end": 1.1270220552772472,
            "count": 1
           },
           {
            "bin_start": 1.1270220552772472,
            "bin_end": 1.1276772761064164,
            "count": 0
           },
           {
            "bin_start": 1.1276772761064164,
            "bin_end": 1.1283324969355857,
            "count": 0
           },
           {
            "bin_start": 1.1283324969355857,
            "bin_end": 1.128987717764755,
            "count": 0
           },
           {
            "bin_start": 1.128987717764755,
            "bin_end": 1.1296429385939242,
            "count": 0
           },
           {
            "bin_start": 1.1296429385939242,
            "bin_end": 1.1302981594230932,
            "count": 0
           },
           {
            "bin_start": 1.1302981594230932,
            "bin_end": 1.1309533802522624,
            "count": 0
           },
           {
            "bin_start": 1.1309533802522624,
            "bin_end": 1.1316086010814317,
            "count": 2
           }
          ]
         }
        },
        {
         "name": "std_test_score",
         "dtype": "float64",
         "stats": {
          "unique_count": 5,
          "nan_count": 0,
          "min": "0.0698246723009455",
          "max": "0.0889248362853884",
          "histogram": [
           {
            "bin_start": 0.0698246723009455,
            "bin_end": 0.07173468869938979,
            "count": 1
           },
           {
            "bin_start": 0.07173468869938979,
            "bin_end": 0.07364470509783408,
            "count": 0
           },
           {
            "bin_start": 0.07364470509783408,
            "bin_end": 0.07555472149627837,
            "count": 1
           },
           {
            "bin_start": 0.07555472149627837,
            "bin_end": 0.07746473789472266,
            "count": 0
           },
           {
            "bin_start": 0.07746473789472266,
            "bin_end": 0.07937475429316695,
            "count": 1
           },
           {
            "bin_start": 0.07937475429316695,
            "bin_end": 0.08128477069161125,
            "count": 0
           },
           {
            "bin_start": 0.08128477069161125,
            "bin_end": 0.08319478709005552,
            "count": 0
           },
           {
            "bin_start": 0.08319478709005552,
            "bin_end": 0.08510480348849982,
            "count": 0
           },
           {
            "bin_start": 0.08510480348849982,
            "bin_end": 0.08701481988694411,
            "count": 0
           },
           {
            "bin_start": 0.08701481988694411,
            "bin_end": 0.0889248362853884,
            "count": 2
           }
          ]
         }
        },
        {
         "name": "rank_test_score",
         "dtype": "int64",
         "stats": {
          "unique_count": 5,
          "nan_count": 0,
          "min": "1723",
          "max": "1727",
          "histogram": [
           {
            "bin_start": 1723,
            "bin_end": 1723.4,
            "count": 1
           },
           {
            "bin_start": 1723.4,
            "bin_end": 1723.8,
            "count": 0
           },
           {
            "bin_start": 1723.8,
            "bin_end": 1724.2,
            "count": 1
           },
           {
            "bin_start": 1724.2,
            "bin_end": 1724.6,
            "count": 0
           },
           {
            "bin_start": 1724.6,
            "bin_end": 1725,
            "count": 0
           },
           {
            "bin_start": 1725,
            "bin_end": 1725.4,
            "count": 1
           },
           {
            "bin_start": 1725.4,
            "bin_end": 1725.8,
            "count": 0
           },
           {
            "bin_start": 1725.8,
            "bin_end": 1726.2,
            "count": 1
           },
           {
            "bin_start": 1726.2,
            "bin_end": 1726.6,
            "count": 0
           },
           {
            "bin_start": 1726.6,
            "bin_end": 1727,
            "count": 1
           }
          ]
         }
        },
        {
         "name": "_deepnote_index_column",
         "dtype": "int64"
        }
       ],
       "rows": [
        {
         "Unnamed: 0": 1208,
         "mean_fit_time": 1.2590927839279176,
         "std_fit_time": 0.2322337452482568,
         "mean_score_time": 0.0050736427307128,
         "std_score_time": 0.0072260100153404,
         "param_activation": "logistic",
         "param_alpha": 0.0253222322112038,
         "param_batch_size": 172,
         "param_early_stopping": true,
         "param_hidden_layer_sizes": "(50, 50)",
         "param_learning_rate": "constant",
         "param_learning_rate_init": 0.0452226485930509,
         "param_max_iter": 5000,
         "param_momentum": 1,
         "param_n_iter_no_change": 25,
         "param_random_state": 69,
         "param_solver": "adam",
         "param_tol": 0.0010663204575654,
         "param_validation_fraction": 0.2,
         "params": "{'activation': 'logistic', 'alpha': 0.0253222322112038, 'batch_size': 172, 'early_stopping': True, …",
         "split0_test_score": 1.0296052648840537,
         "split1_test_score": 1.033556737067959,
         "split2_test_score": 1.0761006690752375,
         "split3_test_score": 1.2702351075704097,
         "split4_test_score": 1.2088369187898824,
         "split5_test_score": 1.2092340763764902,
         "split6_test_score": 1.086346697017092,
         "split7_test_score": 1.0644601661872983,
         "split8_test_score": 1.2257057844875334,
         "split9_test_score": 1.0464825064414391,
         "mean_test_score": 1.1250563927897397,
         "std_test_score": 0.0874849614314473,
         "rank_test_score": 1727,
         "_deepnote_index_column": 0
        },
        {
         "Unnamed: 0": 843,
         "mean_fit_time": 2.7561255216598517,
         "std_fit_time": 0.6260532459007626,
         "mean_score_time": 0.0051796197891235,
         "std_score_time": 0.0085431059552311,
         "param_activation": "tanh",
         "param_alpha": 0.0688831999215968,
         "param_batch_size": 295,
         "param_early_stopping": true,
         "param_hidden_layer_sizes": "(100, 100)",
         "param_learning_rate": "adaptive",
         "param_learning_rate_init": 0.0586569587134974,
         "param_max_iter": 5000,
         "param_momentum": 0.5,
         "param_n_iter_no_change": 50,
         "param_random_state": 69,
         "param_solver": "adam",
         "param_tol": 0.0010415756873637,
         "param_validation_fraction": 0.2,
         "params": "{'activation': 'tanh', 'alpha': 0.06888319992159686, 'batch_size': 295, 'early_stopping': True, 'hi…",
         "split0_test_score": 1.0091980052980232,
         "split1_test_score": 1.1080188912172844,
         "split2_test_score": 1.1609731936224843,
         "split3_test_score": 1.1480936888418911,
         "split4_test_score": 1.1307961800685855,
         "split5_test_score": 1.2597029058466582,
         "split6_test_score": 1.2267811056208815,
         "split7_test_score": 1.0210502518815296,
         "split8_test_score": 1.200304656056539,
         "split9_test_score": 0.9888470317268508,
         "mean_test_score": 1.1253765910180726,
         "std_test_score": 0.0889248362853884,
         "rank_test_score": 1726,
         "_deepnote_index_column": 1
        },
        {
         "Unnamed: 0": 1796,
         "mean_fit_time": 1.0865364789962768,
         "std_fit_time": 0.2180609647169935,
         "mean_score_time": 0.0017658233642578,
         "std_score_time": 0.0006108516473537,
         "param_activation": "logistic",
         "param_alpha": 0.0663729572404523,
         "param_batch_size": 168,
         "param_early_stopping": true,
         "param_hidden_layer_sizes": "(50, 50)",
         "param_learning_rate": "invscaling",
         "param_learning_rate_init": 0.0768004277670996,
         "param_max_iter": 5000,
         "param_momentum": 0.1,
         "param_n_iter_no_change": 50,
         "param_random_state": 69,
         "param_solver": "adam",
         "param_tol": 0.0010642129707114,
         "param_validation_fraction": 0.2,
         "params": "{'activation': 'logistic', 'alpha': 0.06637295724045239, 'batch_size': 168, 'early_stopping': True,…",
         "split0_test_score": 1.04762421219534,
         "split1_test_score": 1.0447824458050567,
         "split2_test_score": 1.102100771334162,
         "split3_test_score": 1.207079934924676,
         "split4_test_score": 1.216474298387533,
         "split5_test_score": 1.209420905273829,
         "split6_test_score": 1.1150927328407845,
         "split7_test_score": 1.0761569620213018,
         "split8_test_score": 1.198754687548364,
         "split9_test_score": 1.049615957360322,
         "mean_test_score": 1.1267102907691369,
         "std_test_score": 0.0698246723009455,
         "rank_test_score": 1725,
         "_deepnote_index_column": 2
        },
        {
         "Unnamed: 0": 1893,
         "mean_fit_time": 2.944502353668213,
         "std_fit_time": 0.6319666637723287,
         "mean_score_time": 0.0055206537246704,
         "std_score_time": 0.0088552095455256,
         "param_activation": "tanh",
         "param_alpha": 0.0313936140916655,
         "param_batch_size": 89,
         "param_early_stopping": true,
         "param_hidden_layer_sizes": "(100, 100)",
         "param_learning_rate": "invscaling",
         "param_learning_rate_init": 0.0310307082614756,
         "param_max_iter": 5000,
         "param_momentum": 0.1,
         "param_n_iter_no_change": 50,
         "param_random_state": 69,
         "param_solver": "adam",
         "param_tol": 0.0010123146699968,
         "param_validation_fraction": 0.2,
         "params": "{'activation': 'tanh', 'alpha': 0.03139361409166556, 'batch_size': 89, 'early_stopping': True, 'hid…",
         "split0_test_score": 1.0184277285498062,
         "split1_test_score": 1.085093308821956,
         "split2_test_score": 1.127459862313816,
         "split3_test_score": 1.2333052955182602,
         "split4_test_score": 1.1870889020705198,
         "split5_test_score": 1.230634012287035,
         "split6_test_score": 1.138097094122446,
         "split7_test_score": 1.0882402147131092,
         "split8_test_score": 1.189251322161526,
         "split9_test_score": 1.0162170512475972,
         "mean_test_score": 1.1313814791806072,
         "std_test_score": 0.0753507814008266,
         "rank_test_score": 1724,
         "_deepnote_index_column": 3
        },
        {
         "Unnamed: 0": 1931,
         "mean_fit_time": 1.4437922239303589,
         "std_fit_time": 0.250058316138738,
         "mean_score_time": 0.0015564203262329,
         "std_score_time": 0.0004671678117748,
         "param_activation": "logistic",
         "param_alpha": 0.0214357617832925,
         "param_batch_size": 81,
         "param_early_stopping": true,
         "param_hidden_layer_sizes": "(10, 10, 10)",
         "param_learning_rate": "invscaling",
         "param_learning_rate_init": 0.0263547467721465,
         "param_max_iter": 5000,
         "param_momentum": 0.9,
         "param_n_iter_no_change": 50,
         "param_random_state": 69,
         "param_solver": "adam",
         "param_tol": 0.0010173786160187,
         "param_validation_fraction": 0.2,
         "params": "{'activation': 'logistic', 'alpha': 0.021435761783292574, 'batch_size': 81, 'early_stopping': True,…",
         "split0_test_score": 1.0845007818434078,
         "split1_test_score": 1.0296592138613871,
         "split2_test_score": 1.1586894627986668,
         "split3_test_score": 1.2114681952273867,
         "split4_test_score": 1.2489661354909691,
         "split5_test_score": 1.2056449493729664,
         "split6_test_score": 1.096242124447066,
         "split7_test_score": 1.0194514011799298,
         "split8_test_score": 1.1989868172405582,
         "split9_test_score": 1.0624769293519798,
         "mean_test_score": 1.1316086010814317,
         "std_test_score": 0.0788206578224325,
         "rank_test_score": 1723,
         "_deepnote_index_column": 4
        }
       ]
      },
      "text/plain": "   Unnamed: 0  mean_fit_time  std_fit_time  mean_score_time  std_score_time  \\\n0        1208       1.259093      0.232234         0.005074        0.007226   \n1         843       2.756126      0.626053         0.005180        0.008543   \n2        1796       1.086536      0.218061         0.001766        0.000611   \n3        1893       2.944502      0.631967         0.005521        0.008855   \n4        1931       1.443792      0.250058         0.001556        0.000467   \n\n  param_activation  param_alpha  param_batch_size  param_early_stopping  \\\n0         logistic     0.025322               172                  True   \n1             tanh     0.068883               295                  True   \n2         logistic     0.066373               168                  True   \n3             tanh     0.031394                89                  True   \n4         logistic     0.021436                81                  True   \n\n  param_hidden_layer_sizes  ... split3_test_score  split4_test_score  \\\n0                 (50, 50)  ...          1.270235           1.208837   \n1               (100, 100)  ...          1.148094           1.130796   \n2                 (50, 50)  ...          1.207080           1.216474   \n3               (100, 100)  ...          1.233305           1.187089   \n4             (10, 10, 10)  ...          1.211468           1.248966   \n\n   split5_test_score  split6_test_score  split7_test_score  split8_test_score  \\\n0           1.209234           1.086347           1.064460           1.225706   \n1           1.259703           1.226781           1.021050           1.200305   \n2           1.209421           1.115093           1.076157           1.198755   \n3           1.230634           1.138097           1.088240           1.189251   \n4           1.205645           1.096242           1.019451           1.198987   \n\n  split9_test_score  mean_test_score  std_test_score rank_test_score  \n0          1.046483         1.125056        0.087485            1727  \n1          0.988847         1.125377        0.088925            1726  \n2          1.049616         1.126710        0.069825            1725  \n3          1.016217         1.131381        0.075351            1724  \n4          1.062477         1.131609        0.078821            1723  \n\n[5 rows x 33 columns]",
      "text/html": "<div>\n<style scoped>\n    .dataframe tbody tr th:only-of-type {\n        vertical-align: middle;\n    }\n\n    .dataframe tbody tr th {\n        vertical-align: top;\n    }\n\n    .dataframe thead th {\n        text-align: right;\n    }\n</style>\n<table border=\"1\" class=\"dataframe\">\n  <thead>\n    <tr style=\"text-align: right;\">\n      <th></th>\n      <th>Unnamed: 0</th>\n      <th>mean_fit_time</th>\n      <th>std_fit_time</th>\n      <th>mean_score_time</th>\n      <th>std_score_time</th>\n      <th>param_activation</th>\n      <th>param_alpha</th>\n      <th>param_batch_size</th>\n      <th>param_early_stopping</th>\n      <th>param_hidden_layer_sizes</th>\n      <th>...</th>\n      <th>split3_test_score</th>\n      <th>split4_test_score</th>\n      <th>split5_test_score</th>\n      <th>split6_test_score</th>\n      <th>split7_test_score</th>\n      <th>split8_test_score</th>\n      <th>split9_test_score</th>\n      <th>mean_test_score</th>\n      <th>std_test_score</th>\n      <th>rank_test_score</th>\n    </tr>\n  </thead>\n  <tbody>\n    <tr>\n      <th>0</th>\n      <td>1208</td>\n      <td>1.259093</td>\n      <td>0.232234</td>\n      <td>0.005074</td>\n      <td>0.007226</td>\n      <td>logistic</td>\n      <td>0.025322</td>\n      <td>172</td>\n      <td>True</td>\n      <td>(50, 50)</td>\n      <td>...</td>\n      <td>1.270235</td>\n      <td>1.208837</td>\n      <td>1.209234</td>\n      <td>1.086347</td>\n      <td>1.064460</td>\n      <td>1.225706</td>\n      <td>1.046483</td>\n      <td>1.125056</td>\n      <td>0.087485</td>\n      <td>1727</td>\n    </tr>\n    <tr>\n      <th>1</th>\n      <td>843</td>\n      <td>2.756126</td>\n      <td>0.626053</td>\n      <td>0.005180</td>\n      <td>0.008543</td>\n      <td>tanh</td>\n      <td>0.068883</td>\n      <td>295</td>\n      <td>True</td>\n      <td>(100, 100)</td>\n      <td>...</td>\n      <td>1.148094</td>\n      <td>1.130796</td>\n      <td>1.259703</td>\n      <td>1.226781</td>\n      <td>1.021050</td>\n      <td>1.200305</td>\n      <td>0.988847</td>\n      <td>1.125377</td>\n      <td>0.088925</td>\n      <td>1726</td>\n    </tr>\n    <tr>\n      <th>2</th>\n      <td>1796</td>\n      <td>1.086536</td>\n      <td>0.218061</td>\n      <td>0.001766</td>\n      <td>0.000611</td>\n      <td>logistic</td>\n      <td>0.066373</td>\n      <td>168</td>\n      <td>True</td>\n      <td>(50, 50)</td>\n      <td>...</td>\n      <td>1.207080</td>\n      <td>1.216474</td>\n      <td>1.209421</td>\n      <td>1.115093</td>\n      <td>1.076157</td>\n      <td>1.198755</td>\n      <td>1.049616</td>\n      <td>1.126710</td>\n      <td>0.069825</td>\n      <td>1725</td>\n    </tr>\n    <tr>\n      <th>3</th>\n      <td>1893</td>\n      <td>2.944502</td>\n      <td>0.631967</td>\n      <td>0.005521</td>\n      <td>0.008855</td>\n      <td>tanh</td>\n      <td>0.031394</td>\n      <td>89</td>\n      <td>True</td>\n      <td>(100, 100)</td>\n      <td>...</td>\n      <td>1.233305</td>\n      <td>1.187089</td>\n      <td>1.230634</td>\n      <td>1.138097</td>\n      <td>1.088240</td>\n      <td>1.189251</td>\n      <td>1.016217</td>\n      <td>1.131381</td>\n      <td>0.075351</td>\n      <td>1724</td>\n    </tr>\n    <tr>\n      <th>4</th>\n      <td>1931</td>\n      <td>1.443792</td>\n      <td>0.250058</td>\n      <td>0.001556</td>\n      <td>0.000467</td>\n      <td>logistic</td>\n      <td>0.021436</td>\n      <td>81</td>\n      <td>True</td>\n      <td>(10, 10, 10)</td>\n      <td>...</td>\n      <td>1.211468</td>\n      <td>1.248966</td>\n      <td>1.205645</td>\n      <td>1.096242</td>\n      <td>1.019451</td>\n      <td>1.198987</td>\n      <td>1.062477</td>\n      <td>1.131609</td>\n      <td>0.078821</td>\n      <td>1723</td>\n    </tr>\n  </tbody>\n</table>\n<p>5 rows × 33 columns</p>\n</div>"
     },
     "metadata": {}
    }
   ]
  },
  {
   "cell_type": "code",
   "metadata": {
    "tags": [],
    "cell_id": "00077-3fe09005-663d-44f9-8487-a23d7cde2893",
    "deepnote_to_be_reexecuted": false,
    "source_hash": "9dd11431",
    "execution_start": 1641996423700,
    "output_cleared": false,
    "execution_millis": 15,
    "deepnote_cell_type": "code"
   },
   "source": "#get the best params for the grid search (cannot use rand_gs.best_estimator directly since it will yield the worst estimator based on MEE)\nbest_params = df_results['params'][0]\nprint(f\"Mean error on the {k}-folds (MEE) on best model: {df_results['mean_test_score'][0]}\\n\")\nprint(f\"Best params: {best_params}\")",
   "execution_count": 45,
   "outputs": [
    {
     "name": "stdout",
     "text": "Mean error on the 10-folds (MEE) on best model: 1.1250563927897397\n\nBest params: {'activation': 'logistic', 'alpha': 0.0253222322112038, 'batch_size': 172, 'early_stopping': True, 'hidden_layer_sizes': (50, 50), 'learning_rate': 'constant', 'learning_rate_init': 0.04522264859305097, 'max_iter': 5000, 'momentum': 1, 'n_iter_no_change': 25, 'random_state': 69, 'solver': 'adam', 'tol': 0.001066320457565434, 'validation_fraction': 0.2}\n",
     "output_type": "stream"
    }
   ]
  },
  {
   "cell_type": "code",
   "metadata": {
    "tags": [],
    "cell_id": "00081-6f2c6d87-563c-4996-8b1b-c7c8e3878112",
    "deepnote_to_be_reexecuted": false,
    "source_hash": "aeea0f8f",
    "execution_start": 1641996423701,
    "execution_millis": 4,
    "output_cleared": true,
    "deepnote_cell_type": "code"
   },
   "source": "@dataclass\nclass GridSearchRanges:\n    '''Class of keeping track of the min and max values for the hyperparameters tuning'''\n    \n    hidden_range = []\n    min_lr_init = 0\n    max_lr_init = 0\n    min_alpha = 0\n    max_alpha = 0\n    min_bs = 0\n    max_bs = 0\n    n_iter_no_change = 0\n    min_tol = 0\n    max_tol = 0\n    min_momentum = 0\n    max_momentum = 0\n    \n    def set_ranges(self):\n\n        self.hidden_range = np.unique(df_results['param_hidden_layer_sizes'])\n        self.hidden_range = self.hidden_range.ravel() #convert to array\n        print(self.hidden_range)\n\n        self.min_lr_init = np.min(df_results['param_learning_rate_init'])\n        self.max_lr_init = np.max(df_results['param_learning_rate_init'])\n        print(f\"LR: [{self.min_lr_init}, {self.max_lr_init}]\")\n\n        self.min_alpha = np.min(df_results['param_alpha'])\n        self.max_alpha = np.max(df_results['param_alpha'])\n        print(f\"alpha: [{self.min_alpha}, {self.max_alpha}]\")\n\n        self.min_bs = np.min(df_results['param_batch_size'])\n        self.max_bs = np.max(df_results['param_batch_size'])\n        print(f\"BATCH: [{self.min_bs}, {self.max_bs}]\")\n\n        self.n_iter_no_change_range = np.unique(df_results['param_n_iter_no_change'])\n        self.n_iter_no_change_range = self.n_iter_no_change_range.ravel()\n        print(f\"n_iter_no_change: {self.n_iter_no_change_range}\")\n\n        self.min_tol = np.min(df_results['param_tol'])\n        self.max_tol = np.max(df_results['param_tol'])\n        print(f\"TOL: [{self.min_tol}, {self.max_tol}]\")\n    \n        self.min_momentum = np.min(df_results['param_momentum'])\n        self.max_momentum = np.max(df_results['param_momentum'])\n        print(f\"MOMENTUM: [{self.min_momentum}, {self.max_momentum}]\")\n    \n    ",
   "execution_count": 46,
   "outputs": []
  },
  {
   "cell_type": "code",
   "metadata": {
    "cell_id": "00076-23174bd2-4a5d-4359-b1bd-c76ac582f750",
    "deepnote_to_be_reexecuted": false,
    "execution_millis": 19,
    "execution_start": 1641996423722,
    "source_hash": "9ccb58bf",
    "tags": [],
    "output_cleared": false,
    "deepnote_cell_type": "code"
   },
   "source": "gs = GridSearchRanges()\ngs.set_ranges()",
   "execution_count": 47,
   "outputs": [
    {
     "name": "stdout",
     "text": "['(10, 10)' '(10, 10, 10)' '(100, 100)' '(100,)' '(25, 25)' '(25, 25, 25)'\n '(25,)' '(5, 5)' '(50, 50)' '(50, 50, 50)' '(50,)']\nLR: [0.0169407003037347, 0.4660878588294645]\nalpha: [0.0003650663048691, 0.0996658555604874]\nBATCH: [1, 889]\nn_iter_no_change: [10 25 50]\nTOL: [0.0010009211813161, 0.0010982682330194]\nMOMENTUM: [0.1, 1.0]\n",
     "output_type": "stream"
    }
   ]
  },
  {
   "cell_type": "code",
   "metadata": {
    "tags": [],
    "cell_id": "00084-7b47d54f-d732-4ba3-8a61-abb3b80a8cee",
    "deepnote_to_be_reexecuted": false,
    "source_hash": "afb31db",
    "execution_start": 1641996423738,
    "execution_millis": 5,
    "deepnote_output_heights": [
     59.578125
    ],
    "output_cleared": false,
    "deepnote_cell_type": "code"
   },
   "source": "gs.hidden_range",
   "execution_count": 48,
   "outputs": [
    {
     "output_type": "execute_result",
     "execution_count": 48,
     "data": {
      "text/plain": "array(['(10, 10)', '(10, 10, 10)', '(100, 100)', '(100,)', '(25, 25)',\n       '(25, 25, 25)', '(25,)', '(5, 5)', '(50, 50)', '(50, 50, 50)',\n       '(50,)'], dtype=object)"
     },
     "metadata": {}
    }
   ]
  },
  {
   "cell_type": "markdown",
   "source": "### Second Randomized Search using min e max values",
   "metadata": {
    "cell_id": "00078-af584a9c-5ee2-44d4-add3-01152ab35545",
    "tags": [],
    "deepnote_cell_type": "markdown"
   }
  },
  {
   "cell_type": "code",
   "metadata": {
    "cell_id": "00078-49c10074-50c3-4cb1-812b-bdc4da8e5307",
    "deepnote_output_heights": [
     null,
     null,
     309.109375
    ],
    "deepnote_to_be_reexecuted": false,
    "execution_millis": 1,
    "execution_start": 1641996423739,
    "source_hash": "25482c81",
    "tags": [],
    "output_cleared": false,
    "deepnote_cell_type": "code"
   },
   "source": "%%script false --no-raise-error\n\n# define the parameters values\nparams = {\n    \"hidden_layer_sizes\": [\n        (5,),(10,),(25,),(50,),(100,),\n        (5, 5),(10, 10),(25, 25),(50, 50),(100, 100),\n        (5, 5, 5),(10, 10, 10),(25, 25, 25),(50, 50, 50),(100, 100, 100),],\n    \"activation\" : [\"logistic\", \"tanh\"],\n    \"solver\": [\"sgd\", \"adam\"],\n    \"learning_rate\": [\"adaptive\", \"invscaling\"],\n    \"learning_rate_init\": uniform(gs.min_lr_init, gs.max_lr_init),\n    \"alpha\": uniform(gs.min_alpha, gs.max_alpha),\n    \"batch_size\": randint(gs.min_bs, gs.max_bs),\n    \"n_iter_no_change\": gs.n_iter_no_change_range,\n    \"momentum\": randint(gs.min_momentum, gs.max_momentum),\n    \"random_state\": [RS_NUMBER],\n    \"tol\": uniform(gs.min_tol,gs.max_tol),\n    \"early_stopping\": [True],\n    \"validation_fraction\": [0.2],\n    \"max_iter\": [5000],\n}\n\n# define the grid search\nrand_gs = RandomizedSearchCV(\n    MLPRegressor(),\n    param_distributions=params,\n    n_iter=n_iter_search,\n    n_jobs=-1,\n    scoring=make_scorer(mee), #scoring is based on the highest value\n    cv=k,\n    random_state = RS_NUMBER,\n    verbose=10,\n)\n# run the grid search\nrand_gs.fit(X, y)\n",
   "execution_count": 49,
   "outputs": []
  },
  {
   "cell_type": "code",
   "metadata": {
    "cell_id": "00080-b47f038e-ba05-465e-9238-926f9564dc06",
    "deepnote_to_be_reexecuted": false,
    "execution_millis": 3,
    "execution_start": 1641996423741,
    "source_hash": "2cdd49a7",
    "tags": [],
    "output_cleared": true,
    "deepnote_cell_type": "code"
   },
   "source": "%%script false --no-raise-error\n\ndf_results = pd.DataFrame(data=rand_gs.cv_results_) #trasform into a pandas dataframe\ndf_results.sort_values(by=\"rank_test_score\", axis=0, ascending=False, inplace=True) #sort rank values in decreasing order \ndf_results.dropna(inplace=True) #delete nan values \ndf_results = df_results[:50] #keep only top 50 models\npd.DataFrame.to_csv(df_results, \"sklearn_results/rand2_search.csv\")",
   "execution_count": 50,
   "outputs": []
  },
  {
   "cell_type": "code",
   "metadata": {
    "cell_id": "00081-5034a7eb-4ed8-43d8-b5f7-0b8da6617b7a",
    "deepnote_to_be_reexecuted": false,
    "execution_millis": 534,
    "execution_start": 1641997687289,
    "source_hash": "89537475",
    "tags": [],
    "output_cleared": false,
    "deepnote_output_heights": [
     208.1875
    ],
    "deepnote_cell_type": "code"
   },
   "source": "df_results = pd.read_csv(\"sklearn_results/rand2_search.csv\")\ndf_results.head()",
   "execution_count": 112,
   "outputs": [
    {
     "output_type": "execute_result",
     "execution_count": 112,
     "data": {
      "application/vnd.deepnote.dataframe.v3+json": {
       "column_count": 33,
       "row_count": 5,
       "columns": [
        {
         "name": "Unnamed: 0",
         "dtype": "int64",
         "stats": {
          "unique_count": 5,
          "nan_count": 0,
          "min": "206",
          "max": "1689",
          "histogram": [
           {
            "bin_start": 206,
            "bin_end": 354.3,
            "count": 1
           },
           {
            "bin_start": 354.3,
            "bin_end": 502.6,
            "count": 1
           },
           {
            "bin_start": 502.6,
            "bin_end": 650.9000000000001,
            "count": 0
           },
           {
            "bin_start": 650.9000000000001,
            "bin_end": 799.2,
            "count": 0
           },
           {
            "bin_start": 799.2,
            "bin_end": 947.5,
            "count": 1
           },
           {
            "bin_start": 947.5,
            "bin_end": 1095.8000000000002,
            "count": 0
           },
           {
            "bin_start": 1095.8000000000002,
            "bin_end": 1244.1000000000001,
            "count": 0
           },
           {
            "bin_start": 1244.1000000000001,
            "bin_end": 1392.4,
            "count": 0
           },
           {
            "bin_start": 1392.4,
            "bin_end": 1540.7,
            "count": 1
           },
           {
            "bin_start": 1540.7,
            "bin_end": 1689,
            "count": 1
           }
          ]
         }
        },
        {
         "name": "mean_fit_time",
         "dtype": "float64",
         "stats": {
          "unique_count": 5,
          "nan_count": 0,
          "min": "0.4007868528366088",
          "max": "2.5619169950485228",
          "histogram": [
           {
            "bin_start": 0.4007868528366088,
            "bin_end": 0.6168998670578002,
            "count": 2
           },
           {
            "bin_start": 0.6168998670578002,
            "bin_end": 0.8330128812789916,
            "count": 1
           },
           {
            "bin_start": 0.8330128812789916,
            "bin_end": 1.049125895500183,
            "count": 1
           },
           {
            "bin_start": 1.049125895500183,
            "bin_end": 1.2652389097213743,
            "count": 0
           },
           {
            "bin_start": 1.2652389097213743,
            "bin_end": 1.4813519239425657,
            "count": 0
           },
           {
            "bin_start": 1.4813519239425657,
            "bin_end": 1.6974649381637572,
            "count": 0
           },
           {
            "bin_start": 1.6974649381637572,
            "bin_end": 1.9135779523849485,
            "count": 0
           },
           {
            "bin_start": 1.9135779523849485,
            "bin_end": 2.12969096660614,
            "count": 0
           },
           {
            "bin_start": 2.12969096660614,
            "bin_end": 2.3458039808273314,
            "count": 0
           },
           {
            "bin_start": 2.3458039808273314,
            "bin_end": 2.5619169950485228,
            "count": 1
           }
          ]
         }
        },
        {
         "name": "std_fit_time",
         "dtype": "float64",
         "stats": {
          "unique_count": 5,
          "nan_count": 0,
          "min": "0.0548525325380766",
          "max": "0.4446195661172711",
          "histogram": [
           {
            "bin_start": 0.0548525325380766,
            "bin_end": 0.09382923589599605,
            "count": 2
           },
           {
            "bin_start": 0.09382923589599605,
            "bin_end": 0.1328059392539155,
            "count": 0
           },
           {
            "bin_start": 0.1328059392539155,
            "bin_end": 0.17178264261183496,
            "count": 1
           },
           {
            "bin_start": 0.17178264261183496,
            "bin_end": 0.2107593459697544,
            "count": 1
           },
           {
            "bin_start": 0.2107593459697544,
            "bin_end": 0.24973604932767385,
            "count": 0
           },
           {
            "bin_start": 0.24973604932767385,
            "bin_end": 0.2887127526855933,
            "count": 0
           },
           {
            "bin_start": 0.2887127526855933,
            "bin_end": 0.32768945604351274,
            "count": 0
           },
           {
            "bin_start": 0.32768945604351274,
            "bin_end": 0.3666661594014322,
            "count": 0
           },
           {
            "bin_start": 0.3666661594014322,
            "bin_end": 0.4056428627593517,
            "count": 0
           },
           {
            "bin_start": 0.4056428627593517,
            "bin_end": 0.4446195661172711,
            "count": 1
           }
          ]
         }
        },
        {
         "name": "mean_score_time",
         "dtype": "float64",
         "stats": {
          "unique_count": 5,
          "nan_count": 0,
          "min": "0.0012315273284912",
          "max": "0.004395318031311",
          "histogram": [
           {
            "bin_start": 0.0012315273284912,
            "bin_end": 0.00154790639877318,
            "count": 2
           },
           {
            "bin_start": 0.00154790639877318,
            "bin_end": 0.00186428546905516,
            "count": 1
           },
           {
            "bin_start": 0.00186428546905516,
            "bin_end": 0.00218066453933714,
            "count": 0
           },
           {
            "bin_start": 0.00218066453933714,
            "bin_end": 0.00249704360961912,
            "count": 1
           },
           {
            "bin_start": 0.00249704360961912,
            "bin_end": 0.0028134226799011,
            "count": 0
           },
           {
            "bin_start": 0.0028134226799011,
            "bin_end": 0.0031298017501830803,
            "count": 0
           },
           {
            "bin_start": 0.0031298017501830803,
            "bin_end": 0.00344618082046506,
            "count": 0
           },
           {
            "bin_start": 0.00344618082046506,
            "bin_end": 0.0037625598907470403,
            "count": 0
           },
           {
            "bin_start": 0.0037625598907470403,
            "bin_end": 0.004078938961029021,
            "count": 0
           },
           {
            "bin_start": 0.004078938961029021,
            "bin_end": 0.004395318031311,
            "count": 1
           }
          ]
         }
        },
        {
         "name": "std_score_time",
         "dtype": "float64",
         "stats": {
          "unique_count": 5,
          "nan_count": 0,
          "min": "6.556547338211209e-05",
          "max": "0.0079128288654985",
          "histogram": [
           {
            "bin_start": 0.00006556547338211209,
            "bin_end": 0.000850291812593751,
            "count": 4
           },
           {
            "bin_start": 0.000850291812593751,
            "bin_end": 0.0016350181518053897,
            "count": 0
           },
           {
            "bin_start": 0.0016350181518053897,
            "bin_end": 0.002419744491017029,
            "count": 0
           },
           {
            "bin_start": 0.002419744491017029,
            "bin_end": 0.0032044708302286676,
            "count": 0
           },
           {
            "bin_start": 0.0032044708302286676,
            "bin_end": 0.003989197169440306,
            "count": 0
           },
           {
            "bin_start": 0.003989197169440306,
            "bin_end": 0.0047739235086519454,
            "count": 0
           },
           {
            "bin_start": 0.0047739235086519454,
            "bin_end": 0.005558649847863584,
            "count": 0
           },
           {
            "bin_start": 0.005558649847863584,
            "bin_end": 0.006343376187075223,
            "count": 0
           },
           {
            "bin_start": 0.006343376187075223,
            "bin_end": 0.007128102526286862,
            "count": 0
           },
           {
            "bin_start": 0.007128102526286862,
            "bin_end": 0.0079128288654985,
            "count": 1
           }
          ]
         }
        },
        {
         "name": "param_activation",
         "dtype": "object",
         "stats": {
          "unique_count": 1,
          "nan_count": 0,
          "categories": [
           {
            "name": "logistic",
            "count": 5
           }
          ]
         }
        },
        {
         "name": "param_alpha",
         "dtype": "float64",
         "stats": {
          "unique_count": 5,
          "nan_count": 0,
          "min": "0.0592085005896181",
          "max": "0.0991139819168088",
          "histogram": [
           {
            "bin_start": 0.0592085005896181,
            "bin_end": 0.06319904872233717,
            "count": 2
           },
           {
            "bin_start": 0.06319904872233717,
            "bin_end": 0.06718959685505624,
            "count": 0
           },
           {
            "bin_start": 0.06718959685505624,
            "bin_end": 0.0711801449877753,
            "count": 0
           },
           {
            "bin_start": 0.0711801449877753,
            "bin_end": 0.07517069312049438,
            "count": 0
           },
           {
            "bin_start": 0.07517069312049438,
            "bin_end": 0.07916124125321344,
            "count": 0
           },
           {
            "bin_start": 0.07916124125321344,
            "bin_end": 0.08315178938593253,
            "count": 0
           },
           {
            "bin_start": 0.08315178938593253,
            "bin_end": 0.0871423375186516,
            "count": 0
           },
           {
            "bin_start": 0.0871423375186516,
            "bin_end": 0.09113288565137066,
            "count": 0
           },
           {
            "bin_start": 0.09113288565137066,
            "bin_end": 0.09512343378408973,
            "count": 1
           },
           {
            "bin_start": 0.09512343378408973,
            "bin_end": 0.0991139819168088,
            "count": 2
           }
          ]
         }
        },
        {
         "name": "param_batch_size",
         "dtype": "int64",
         "stats": {
          "unique_count": 5,
          "nan_count": 0,
          "min": "51",
          "max": "335",
          "histogram": [
           {
            "bin_start": 51,
            "bin_end": 79.4,
            "count": 1
           },
           {
            "bin_start": 79.4,
            "bin_end": 107.8,
            "count": 0
           },
           {
            "bin_start": 107.8,
            "bin_end": 136.2,
            "count": 1
           },
           {
            "bin_start": 136.2,
            "bin_end": 164.6,
            "count": 1
           },
           {
            "bin_start": 164.6,
            "bin_end": 193,
            "count": 0
           },
           {
            "bin_start": 193,
            "bin_end": 221.39999999999998,
            "count": 0
           },
           {
            "bin_start": 221.39999999999998,
            "bin_end": 249.79999999999998,
            "count": 0
           },
           {
            "bin_start": 249.79999999999998,
            "bin_end": 278.2,
            "count": 1
           },
           {
            "bin_start": 278.2,
            "bin_end": 306.6,
            "count": 0
           },
           {
            "bin_start": 306.6,
            "bin_end": 335,
            "count": 1
           }
          ]
         }
        },
        {
         "name": "param_early_stopping",
         "dtype": "bool",
         "stats": {
          "unique_count": 1,
          "nan_count": 0,
          "categories": [
           {
            "name": "True",
            "count": 5
           }
          ]
         }
        },
        {
         "name": "param_hidden_layer_sizes",
         "dtype": "object",
         "stats": {
          "unique_count": 2,
          "nan_count": 0,
          "categories": [
           {
            "name": "(25, 25)",
            "count": 4
           },
           {
            "name": "(100, 100)",
            "count": 1
           }
          ]
         }
        },
        {
         "name": "param_learning_rate",
         "dtype": "object",
         "stats": {
          "unique_count": 2,
          "nan_count": 0,
          "categories": [
           {
            "name": "adaptive",
            "count": 3
           },
           {
            "name": "invscaling",
            "count": 2
           }
          ]
         }
        },
        {
         "name": "param_learning_rate_init",
         "dtype": "float64",
         "stats": {
          "unique_count": 5,
          "nan_count": 0,
          "min": "0.05552933963716",
          "max": "0.0971765895823087",
          "histogram": [
           {
            "bin_start": 0.05552933963716,
            "bin_end": 0.05969406463167487,
            "count": 2
           },
           {
            "bin_start": 0.05969406463167487,
            "bin_end": 0.06385878962618974,
            "count": 0
           },
           {
            "bin_start": 0.06385878962618974,
            "bin_end": 0.0680235146207046,
            "count": 0
           },
           {
            "bin_start": 0.0680235146207046,
            "bin_end": 0.07218823961521947,
            "count": 0
           },
           {
            "bin_start": 0.07218823961521947,
            "bin_end": 0.07635296460973434,
            "count": 1
           },
           {
            "bin_start": 0.07635296460973434,
            "bin_end": 0.08051768960424922,
            "count": 0
           },
           {
            "bin_start": 0.08051768960424922,
            "bin_end": 0.08468241459876409,
            "count": 1
           },
           {
            "bin_start": 0.08468241459876409,
            "bin_end": 0.08884713959327896,
            "count": 0
           },
           {
            "bin_start": 0.08884713959327896,
            "bin_end": 0.09301186458779383,
            "count": 0
           },
           {
            "bin_start": 0.09301186458779383,
            "bin_end": 0.0971765895823087,
            "count": 1
           }
          ]
         }
        },
        {
         "name": "param_max_iter",
         "dtype": "int64",
         "stats": {
          "unique_count": 1,
          "nan_count": 0,
          "min": "5000",
          "max": "5000",
          "histogram": [
           {
            "bin_start": 4999.5,
            "bin_end": 4999.6,
            "count": 0
           },
           {
            "bin_start": 4999.6,
            "bin_end": 4999.7,
            "count": 0
           },
           {
            "bin_start": 4999.7,
            "bin_end": 4999.8,
            "count": 0
           },
           {
            "bin_start": 4999.8,
            "bin_end": 4999.9,
            "count": 0
           },
           {
            "bin_start": 4999.9,
            "bin_end": 5000,
            "count": 0
           },
           {
            "bin_start": 5000,
            "bin_end": 5000.1,
            "count": 5
           },
           {
            "bin_start": 5000.1,
            "bin_end": 5000.2,
            "count": 0
           },
           {
            "bin_start": 5000.2,
            "bin_end": 5000.3,
            "count": 0
           },
           {
            "bin_start": 5000.3,
            "bin_end": 5000.4,
            "count": 0
           },
           {
            "bin_start": 5000.4,
            "bin_end": 5000.5,
            "count": 0
           }
          ]
         }
        },
        {
         "name": "param_momentum",
         "dtype": "int64",
         "stats": {
          "unique_count": 1,
          "nan_count": 0,
          "min": "0",
          "max": "0",
          "histogram": [
           {
            "bin_start": -0.5,
            "bin_end": -0.4,
            "count": 0
           },
           {
            "bin_start": -0.4,
            "bin_end": -0.3,
            "count": 0
           },
           {
            "bin_start": -0.3,
            "bin_end": -0.19999999999999996,
            "count": 0
           },
           {
            "bin_start": -0.19999999999999996,
            "bin_end": -0.09999999999999998,
            "count": 0
           },
           {
            "bin_start": -0.09999999999999998,
            "bin_end": 0,
            "count": 0
           },
           {
            "bin_start": 0,
            "bin_end": 0.10000000000000009,
            "count": 5
           },
           {
            "bin_start": 0.10000000000000009,
            "bin_end": 0.20000000000000007,
            "count": 0
           },
           {
            "bin_start": 0.20000000000000007,
            "bin_end": 0.30000000000000004,
            "count": 0
           },
           {
            "bin_start": 0.30000000000000004,
            "bin_end": 0.4,
            "count": 0
           },
           {
            "bin_start": 0.4,
            "bin_end": 0.5,
            "count": 0
           }
          ]
         }
        },
        {
         "name": "param_n_iter_no_change",
         "dtype": "int64",
         "stats": {
          "unique_count": 2,
          "nan_count": 0,
          "min": "25",
          "max": "50",
          "histogram": [
           {
            "bin_start": 25,
            "bin_end": 27.5,
            "count": 2
           },
           {
            "bin_start": 27.5,
            "bin_end": 30,
            "count": 0
           },
           {
            "bin_start": 30,
            "bin_end": 32.5,
            "count": 0
           },
           {
            "bin_start": 32.5,
            "bin_end": 35,
            "count": 0
           },
           {
            "bin_start": 35,
            "bin_end": 37.5,
            "count": 0
           },
           {
            "bin_start": 37.5,
            "bin_end": 40,
            "count": 0
           },
           {
            "bin_start": 40,
            "bin_end": 42.5,
            "count": 0
           },
           {
            "bin_start": 42.5,
            "bin_end": 45,
            "count": 0
           },
           {
            "bin_start": 45,
            "bin_end": 47.5,
            "count": 0
           },
           {
            "bin_start": 47.5,
            "bin_end": 50,
            "count": 3
           }
          ]
         }
        },
        {
         "name": "param_random_state",
         "dtype": "int64",
         "stats": {
          "unique_count": 1,
          "nan_count": 0,
          "min": "69",
          "max": "69",
          "histogram": [
           {
            "bin_start": 68.5,
            "bin_end": 68.6,
            "count": 0
           },
           {
            "bin_start": 68.6,
            "bin_end": 68.7,
            "count": 0
           },
           {
            "bin_start": 68.7,
            "bin_end": 68.8,
            "count": 0
           },
           {
            "bin_start": 68.8,
            "bin_end": 68.9,
            "count": 0
           },
           {
            "bin_start": 68.9,
            "bin_end": 69,
            "count": 0
           },
           {
            "bin_start": 69,
            "bin_end": 69.1,
            "count": 5
           },
           {
            "bin_start": 69.1,
            "bin_end": 69.2,
            "count": 0
           },
           {
            "bin_start": 69.2,
            "bin_end": 69.3,
            "count": 0
           },
           {
            "bin_start": 69.3,
            "bin_end": 69.4,
            "count": 0
           },
           {
            "bin_start": 69.4,
            "bin_end": 69.5,
            "count": 0
           }
          ]
         }
        },
        {
         "name": "param_solver",
         "dtype": "object",
         "stats": {
          "unique_count": 1,
          "nan_count": 0,
          "categories": [
           {
            "name": "adam",
            "count": 5
           }
          ]
         }
        },
        {
         "name": "param_tol",
         "dtype": "float64",
         "stats": {
          "unique_count": 5,
          "nan_count": 0,
          "min": "0.0012800456680962",
          "max": "0.0020515303382066",
          "histogram": [
           {
            "bin_start": 0.0012800456680962,
            "bin_end": 0.00135719413510724,
            "count": 1
           },
           {
            "bin_start": 0.00135719413510724,
            "bin_end": 0.00143434260211828,
            "count": 0
           },
           {
            "bin_start": 0.00143434260211828,
            "bin_end": 0.0015114910691293201,
            "count": 0
           },
           {
            "bin_start": 0.0015114910691293201,
            "bin_end": 0.00158863953614036,
            "count": 1
           },
           {
            "bin_start": 0.00158863953614036,
            "bin_end": 0.0016657880031514,
            "count": 0
           },
           {
            "bin_start": 0.0016657880031514,
            "bin_end": 0.00174293647016244,
            "count": 0
           },
           {
            "bin_start": 0.00174293647016244,
            "bin_end": 0.00182008493717348,
            "count": 1
           },
           {
            "bin_start": 0.00182008493717348,
            "bin_end": 0.00189723340418452,
            "count": 0
           },
           {
            "bin_start": 0.00189723340418452,
            "bin_end": 0.00197438187119556,
            "count": 1
           },
           {
            "bin_start": 0.00197438187119556,
            "bin_end": 0.0020515303382066,
            "count": 1
           }
          ]
         }
        },
        {
         "name": "param_validation_fraction",
         "dtype": "float64",
         "stats": {
          "unique_count": 1,
          "nan_count": 0,
          "min": "0.2",
          "max": "0.2",
          "histogram": [
           {
            "bin_start": -0.3,
            "bin_end": -0.19999999999999998,
            "count": 0
           },
           {
            "bin_start": -0.19999999999999998,
            "bin_end": -0.09999999999999998,
            "count": 0
           },
           {
            "bin_start": -0.09999999999999998,
            "bin_end": 5.551115123125783e-17,
            "count": 0
           },
           {
            "bin_start": 5.551115123125783e-17,
            "bin_end": 0.10000000000000003,
            "count": 0
           },
           {
            "bin_start": 0.10000000000000003,
            "bin_end": 0.2,
            "count": 0
           },
           {
            "bin_start": 0.2,
            "bin_end": 0.3000000000000001,
            "count": 5
           },
           {
            "bin_start": 0.3000000000000001,
            "bin_end": 0.4000000000000001,
            "count": 0
           },
           {
            "bin_start": 0.4000000000000001,
            "bin_end": 0.5,
            "count": 0
           },
           {
            "bin_start": 0.5,
            "bin_end": 0.6000000000000001,
            "count": 0
           },
           {
            "bin_start": 0.6000000000000001,
            "bin_end": 0.7,
            "count": 0
           }
          ]
         }
        },
        {
         "name": "params",
         "dtype": "object",
         "stats": {
          "unique_count": 5,
          "nan_count": 0,
          "categories": [
           {
            "name": "{'activation': 'logistic', 'alpha': 0.05996095804457196, 'batch_size': 113, 'early_stopping': True, 'hidden_layer_sizes': (25, 25), 'learning_rate': 'adaptive', 'learning_rate_init': 0.055529339637160065, 'max_iter': 5000, 'momentum': 0, 'n_iter_no_change': 50, 'random_state': 69, 'solver': 'adam', 'tol': 0.0015529504212539093, 'validation_fraction': 0.2}",
            "count": 1
           },
           {
            "name": "{'activation': 'logistic', 'alpha': 0.0933033105419144, 'batch_size': 274, 'early_stopping': True, 'hidden_layer_sizes': (25, 25), 'learning_rate': 'invscaling', 'learning_rate_init': 0.08226161368345924, 'max_iter': 5000, 'momentum': 0, 'n_iter_no_change': 50, 'random_state': 69, 'solver': 'adam', 'tol': 0.0012800456680962954, 'validation_fraction': 0.2}",
            "count": 1
           },
           {
            "name": "3 others",
            "count": 3
           }
          ]
         }
        },
        {
         "name": "split0_test_score",
         "dtype": "float64",
         "stats": {
          "unique_count": 5,
          "nan_count": 0,
          "min": "0.994685572313504",
          "max": "1.0548623155265753",
          "histogram": [
           {
            "bin_start": 0.994685572313504,
            "bin_end": 1.0007032466348111,
            "count": 1
           },
           {
            "bin_start": 1.0007032466348111,
            "bin_end": 1.0067209209561183,
            "count": 0
           },
           {
            "bin_start": 1.0067209209561183,
            "bin_end": 1.0127385952774253,
            "count": 0
           },
           {
            "bin_start": 1.0127385952774253,
            "bin_end": 1.0187562695987324,
            "count": 0
           },
           {
            "bin_start": 1.0187562695987324,
            "bin_end": 1.0247739439200396,
            "count": 0
           },
           {
            "bin_start": 1.0247739439200396,
            "bin_end": 1.0307916182413468,
            "count": 1
           },
           {
            "bin_start": 1.0307916182413468,
            "bin_end": 1.036809292562654,
            "count": 0
           },
           {
            "bin_start": 1.036809292562654,
            "bin_end": 1.042826966883961,
            "count": 0
           },
           {
            "bin_start": 1.042826966883961,
            "bin_end": 1.048844641205268,
            "count": 1
           },
           {
            "bin_start": 1.048844641205268,
            "bin_end": 1.0548623155265753,
            "count": 2
           }
          ]
         }
        },
        {
         "name": "split1_test_score",
         "dtype": "float64",
         "stats": {
          "unique_count": 5,
          "nan_count": 0,
          "min": "0.968670428685139",
          "max": "1.0362245572990527",
          "histogram": [
           {
            "bin_start": 0.968670428685139,
            "bin_end": 0.9754258415465303,
            "count": 1
           },
           {
            "bin_start": 0.9754258415465303,
            "bin_end": 0.9821812544079217,
            "count": 0
           },
           {
            "bin_start": 0.9821812544079217,
            "bin_end": 0.9889366672693131,
            "count": 0
           },
           {
            "bin_start": 0.9889366672693131,
            "bin_end": 0.9956920801307044,
            "count": 1
           },
           {
            "bin_start": 0.9956920801307044,
            "bin_end": 1.002447492992096,
            "count": 0
           },
           {
            "bin_start": 1.002447492992096,
            "bin_end": 1.0092029058534873,
            "count": 1
           },
           {
            "bin_start": 1.0092029058534873,
            "bin_end": 1.0159583187148786,
            "count": 1
           },
           {
            "bin_start": 1.0159583187148786,
            "bin_end": 1.02271373157627,
            "count": 0
           },
           {
            "bin_start": 1.02271373157627,
            "bin_end": 1.0294691444376614,
            "count": 0
           },
           {
            "bin_start": 1.0294691444376614,
            "bin_end": 1.0362245572990527,
            "count": 1
           }
          ]
         }
        },
        {
         "name": "split2_test_score",
         "dtype": "float64",
         "stats": {
          "unique_count": 5,
          "nan_count": 0,
          "min": "1.1019383117118338",
          "max": "1.133320831007993",
          "histogram": [
           {
            "bin_start": 1.1019383117118338,
            "bin_end": 1.1050765636414497,
            "count": 1
           },
           {
            "bin_start": 1.1050765636414497,
            "bin_end": 1.1082148155710656,
            "count": 0
           },
           {
            "bin_start": 1.1082148155710656,
            "bin_end": 1.1113530675006815,
            "count": 1
           },
           {
            "bin_start": 1.1113530675006815,
            "bin_end": 1.1144913194302974,
            "count": 0
           },
           {
            "bin_start": 1.1144913194302974,
            "bin_end": 1.1176295713599134,
            "count": 0
           },
           {
            "bin_start": 1.1176295713599134,
            "bin_end": 1.1207678232895293,
            "count": 0
           },
           {
            "bin_start": 1.1207678232895293,
            "bin_end": 1.1239060752191452,
            "count": 2
           },
           {
            "bin_start": 1.1239060752191452,
            "bin_end": 1.1270443271487611,
            "count": 0
           },
           {
            "bin_start": 1.1270443271487611,
            "bin_end": 1.130182579078377,
            "count": 0
           },
           {
            "bin_start": 1.130182579078377,
            "bin_end": 1.133320831007993,
            "count": 1
           }
          ]
         }
        },
        {
         "name": "split3_test_score",
         "dtype": "float64",
         "stats": {
          "unique_count": 5,
          "nan_count": 0,
          "min": "1.1440062263736763",
          "max": "1.2000955423814972",
          "histogram": [
           {
            "bin_start": 1.1440062263736763,
            "bin_end": 1.1496151579744585,
            "count": 1
           },
           {
            "bin_start": 1.1496151579744585,
            "bin_end": 1.1552240895752406,
            "count": 1
           },
           {
            "bin_start": 1.1552240895752406,
            "bin_end": 1.1608330211760225,
            "count": 1
           },
           {
            "bin_start": 1.1608330211760225,
            "bin_end": 1.1664419527768046,
            "count": 0
           },
           {
            "bin_start": 1.1664419527768046,
            "bin_end": 1.1720508843775868,
            "count": 0
           },
           {
            "bin_start": 1.1720508843775868,
            "bin_end": 1.1776598159783689,
            "count": 0
           },
           {
            "bin_start": 1.1776598159783689,
            "bin_end": 1.183268747579151,
            "count": 1
           },
           {
            "bin_start": 1.183268747579151,
            "bin_end": 1.188877679179933,
            "count": 0
           },
           {
            "bin_start": 1.188877679179933,
            "bin_end": 1.194486610780715,
            "count": 0
           },
           {
            "bin_start": 1.194486610780715,
            "bin_end": 1.2000955423814972,
            "count": 1
           }
          ]
         }
        },
        {
         "name": "split4_test_score",
         "dtype": "float64",
         "stats": {
          "unique_count": 5,
          "nan_count": 0,
          "min": "1.174854819772448",
          "max": "1.225020465074044",
          "histogram": [
           {
            "bin_start": 1.174854819772448,
            "bin_end": 1.1798713843026076,
            "count": 2
           },
           {
            "bin_start": 1.1798713843026076,
            "bin_end": 1.1848879488327673,
            "count": 0
           },
           {
            "bin_start": 1.1848879488327673,
            "bin_end": 1.1899045133629267,
            "count": 0
           },
           {
            "bin_start": 1.1899045133629267,
            "bin_end": 1.1949210778930863,
            "count": 0
           },
           {
            "bin_start": 1.1949210778930863,
            "bin_end": 1.199937642423246,
            "count": 0
           },
           {
            "bin_start": 1.199937642423246,
            "bin_end": 1.2049542069534056,
            "count": 1
           },
           {
            "bin_start": 1.2049542069534056,
            "bin_end": 1.2099707714835652,
            "count": 0
           },
           {
            "bin_start": 1.2099707714835652,
            "bin_end": 1.2149873360137247,
            "count": 0
           },
           {
            "bin_start": 1.2149873360137247,
            "bin_end": 1.2200039005438843,
            "count": 1
           },
           {
            "bin_start": 1.2200039005438843,
            "bin_end": 1.225020465074044,
            "count": 1
           }
          ]
         }
        },
        {
         "name": "split5_test_score",
         "dtype": "float64",
         "stats": {
          "unique_count": 5,
          "nan_count": 0,
          "min": "1.1628348056424047",
          "max": "1.2220198716691173",
          "histogram": [
           {
            "bin_start": 1.1628348056424047,
            "bin_end": 1.168753312245076,
            "count": 1
           },
           {
            "bin_start": 1.168753312245076,
            "bin_end": 1.1746718188477472,
            "count": 0
           },
           {
            "bin_start": 1.1746718188477472,
            "bin_end": 1.1805903254504184,
            "count": 0
           },
           {
            "bin_start": 1.1805903254504184,
            "bin_end": 1.1865088320530897,
            "count": 0
           },
           {
            "bin_start": 1.1865088320530897,
            "bin_end": 1.1924273386557611,
            "count": 0
           },
           {
            "bin_start": 1.1924273386557611,
            "bin_end": 1.1983458452584324,
            "count": 2
           },
           {
            "bin_start": 1.1983458452584324,
            "bin_end": 1.2042643518611036,
            "count": 1
           },
           {
            "bin_start": 1.2042643518611036,
            "bin_end": 1.2101828584637748,
            "count": 0
           },
           {
            "bin_start": 1.2101828584637748,
            "bin_end": 1.216101365066446,
            "count": 0
           },
           {
            "bin_start": 1.216101365066446,
            "bin_end": 1.2220198716691173,
            "count": 1
           }
          ]
         }
        },
        {
         "name": "split6_test_score",
         "dtype": "float64",
         "stats": {
          "unique_count": 5,
          "nan_count": 0,
          "min": "1.0501834741248846",
          "max": "1.1130016042277209",
          "histogram": [
           {
            "bin_start": 1.0501834741248846,
            "bin_end": 1.0564652871351683,
            "count": 2
           },
           {
            "bin_start": 1.0564652871351683,
            "bin_end": 1.0627471001454518,
            "count": 0
           },
           {
            "bin_start": 1.0627471001454518,
            "bin_end": 1.0690289131557353,
            "count": 0
           },
           {
            "bin_start": 1.0690289131557353,
            "bin_end": 1.075310726166019,
            "count": 0
           },
           {
            "bin_start": 1.075310726166019,
            "bin_end": 1.0815925391763028,
            "count": 1
           },
           {
            "bin_start": 1.0815925391763028,
            "bin_end": 1.0878743521865863,
            "count": 0
           },
           {
            "bin_start": 1.0878743521865863,
            "bin_end": 1.0941561651968699,
            "count": 0
           },
           {
            "bin_start": 1.0941561651968699,
            "bin_end": 1.1004379782071536,
            "count": 1
           },
           {
            "bin_start": 1.1004379782071536,
            "bin_end": 1.1067197912174374,
            "count": 0
           },
           {
            "bin_start": 1.1067197912174374,
            "bin_end": 1.1130016042277209,
            "count": 1
           }
          ]
         }
        },
        {
         "name": "split7_test_score",
         "dtype": "float64",
         "stats": {
          "unique_count": 5,
          "nan_count": 0,
          "min": "1.0086401993719911",
          "max": "1.085327862969795",
          "histogram": [
           {
            "bin_start": 1.0086401993719911,
            "bin_end": 1.0163089657317714,
            "count": 2
           },
           {
            "bin_start": 1.0163089657317714,
            "bin_end": 1.023977732091552,
            "count": 0
           },
           {
            "bin_start": 1.023977732091552,
            "bin_end": 1.0316464984513323,
            "count": 0
           },
           {
            "bin_start": 1.0316464984513323,
            "bin_end": 1.0393152648111128,
            "count": 0
           },
           {
            "bin_start": 1.0393152648111128,
            "bin_end": 1.0469840311708931,
            "count": 0
           },
           {
            "bin_start": 1.0469840311708931,
            "bin_end": 1.0546527975306734,
            "count": 0
           },
           {
            "bin_start": 1.0546527975306734,
            "bin_end": 1.062321563890454,
            "count": 1
           },
           {
            "bin_start": 1.062321563890454,
            "bin_end": 1.0699903302502343,
            "count": 1
           },
           {
            "bin_start": 1.0699903302502343,
            "bin_end": 1.0776590966100148,
            "count": 0
           },
           {
            "bin_start": 1.0776590966100148,
            "bin_end": 1.085327862969795,
            "count": 1
           }
          ]
         }
        },
        {
         "name": "split8_test_score",
         "dtype": "float64",
         "stats": {
          "unique_count": 5,
          "nan_count": 0,
          "min": "1.1756508958215943",
          "max": "1.224676355895556",
          "histogram": [
           {
            "bin_start": 1.1756508958215943,
            "bin_end": 1.1805534418289905,
            "count": 2
           },
           {
            "bin_start": 1.1805534418289905,
            "bin_end": 1.1854559878363866,
            "count": 0
           },
           {
            "bin_start": 1.1854559878363866,
            "bin_end": 1.1903585338437828,
            "count": 1
           },
           {
            "bin_start": 1.1903585338437828,
            "bin_end": 1.195261079851179,
            "count": 0
           },
           {
            "bin_start": 1.195261079851179,
            "bin_end": 1.200163625858575,
            "count": 0
           },
           {
            "bin_start": 1.200163625858575,
            "bin_end": 1.2050661718659714,
            "count": 0
           },
           {
            "bin_start": 1.2050661718659714,
            "bin_end": 1.2099687178733676,
            "count": 0
           },
           {
            "bin_start": 1.2099687178733676,
            "bin_end": 1.2148712638807637,
            "count": 0
           },
           {
            "bin_start": 1.2148712638807637,
            "bin_end": 1.2197738098881599,
            "count": 0
           },
           {
            "bin_start": 1.2197738098881599,
            "bin_end": 1.224676355895556,
            "count": 2
           }
          ]
         }
        },
        {
         "name": "split9_test_score",
         "dtype": "float64",
         "stats": {
          "unique_count": 5,
          "nan_count": 0,
          "min": "0.975498571378884",
          "max": "1.0786218075320229",
          "histogram": [
           {
            "bin_start": 0.975498571378884,
            "bin_end": 0.9858108949941978,
            "count": 1
           },
           {
            "bin_start": 0.9858108949941978,
            "bin_end": 0.9961232186095117,
            "count": 0
           },
           {
            "bin_start": 0.9961232186095117,
            "bin_end": 1.0064355422248257,
            "count": 0
           },
           {
            "bin_start": 1.0064355422248257,
            "bin_end": 1.0167478658401394,
            "count": 0
           },
           {
            "bin_start": 1.0167478658401394,
            "bin_end": 1.0270601894554534,
            "count": 2
           },
           {
            "bin_start": 1.0270601894554534,
            "bin_end": 1.0373725130707674,
            "count": 1
           },
           {
            "bin_start": 1.0373725130707674,
            "bin_end": 1.0476848366860811,
            "count": 0
           },
           {
            "bin_start": 1.0476848366860811,
            "bin_end": 1.0579971603013951,
            "count": 0
           },
           {
            "bin_start": 1.0579971603013951,
            "bin_end": 1.0683094839167089,
            "count": 0
           },
           {
            "bin_start": 1.0683094839167089,
            "bin_end": 1.0786218075320229,
            "count": 1
           }
          ]
         }
        },
        {
         "name": "mean_test_score",
         "dtype": "float64",
         "stats": {
          "unique_count": 5,
          "nan_count": 0,
          "min": "1.098833362566181",
          "max": "1.1142747615393949",
          "histogram": [
           {
            "bin_start": 1.098833362566181,
            "bin_end": 1.1003775024635023,
            "count": 1
           },
           {
            "bin_start": 1.1003775024635023,
            "bin_end": 1.1019216423608238,
            "count": 0
           },
           {
            "bin_start": 1.1019216423608238,
            "bin_end": 1.1034657822581453,
            "count": 1
           },
           {
            "bin_start": 1.1034657822581453,
            "bin_end": 1.1050099221554666,
            "count": 0
           },
           {
            "bin_start": 1.1050099221554666,
            "bin_end": 1.1065540620527878,
            "count": 0
           },
           {
            "bin_start": 1.1065540620527878,
            "bin_end": 1.1080982019501093,
            "count": 0
           },
           {
            "bin_start": 1.1080982019501093,
            "bin_end": 1.1096423418474308,
            "count": 1
           },
           {
            "bin_start": 1.1096423418474308,
            "bin_end": 1.111186481744752,
            "count": 1
           },
           {
            "bin_start": 1.111186481744752,
            "bin_end": 1.1127306216420734,
            "count": 0
           },
           {
            "bin_start": 1.1127306216420734,
            "bin_end": 1.1142747615393949,
            "count": 1
           }
          ]
         }
        },
        {
         "name": "std_test_score",
         "dtype": "float64",
         "stats": {
          "unique_count": 5,
          "nan_count": 0,
          "min": "0.0697213489791201",
          "max": "0.0852880532151461",
          "histogram": [
           {
            "bin_start": 0.0697213489791201,
            "bin_end": 0.0712780194027227,
            "count": 1
           },
           {
            "bin_start": 0.0712780194027227,
            "bin_end": 0.07283468982632531,
            "count": 0
           },
           {
            "bin_start": 0.07283468982632531,
            "bin_end": 0.0743913602499279,
            "count": 2
           },
           {
            "bin_start": 0.0743913602499279,
            "bin_end": 0.07594803067353051,
            "count": 0
           },
           {
            "bin_start": 0.07594803067353051,
            "bin_end": 0.0775047010971331,
            "count": 0
           },
           {
            "bin_start": 0.0775047010971331,
            "bin_end": 0.0790613715207357,
            "count": 0
           },
           {
            "bin_start": 0.0790613715207357,
            "bin_end": 0.0806180419443383,
            "count": 0
           },
           {
            "bin_start": 0.0806180419443383,
            "bin_end": 0.0821747123679409,
            "count": 0
           },
           {
            "bin_start": 0.0821747123679409,
            "bin_end": 0.0837313827915435,
            "count": 0
           },
           {
            "bin_start": 0.0837313827915435,
            "bin_end": 0.0852880532151461,
            "count": 2
           }
          ]
         }
        },
        {
         "name": "rank_test_score",
         "dtype": "int64",
         "stats": {
          "unique_count": 5,
          "nan_count": 0,
          "min": "1952",
          "max": "1956",
          "histogram": [
           {
            "bin_start": 1952,
            "bin_end": 1952.4,
            "count": 1
           },
           {
            "bin_start": 1952.4,
            "bin_end": 1952.8,
            "count": 0
           },
           {
            "bin_start": 1952.8,
            "bin_end": 1953.2,
            "count": 1
           },
           {
            "bin_start": 1953.2,
            "bin_end": 1953.6,
            "count": 0
           },
           {
            "bin_start": 1953.6,
            "bin_end": 1954,
            "count": 0
           },
           {
            "bin_start": 1954,
            "bin_end": 1954.4,
            "count": 1
           },
           {
            "bin_start": 1954.4,
            "bin_end": 1954.8,
            "count": 0
           },
           {
            "bin_start": 1954.8,
            "bin_end": 1955.2,
            "count": 1
           },
           {
            "bin_start": 1955.2,
            "bin_end": 1955.6,
            "count": 0
           },
           {
            "bin_start": 1955.6,
            "bin_end": 1956,
            "count": 1
           }
          ]
         }
        },
        {
         "name": "_deepnote_index_column",
         "dtype": "int64"
        }
       ],
       "rows": [
        {
         "Unnamed: 0": 1689,
         "mean_fit_time": 0.8995811223983765,
         "std_fit_time": 0.1502332370459386,
         "mean_score_time": 0.004395318031311,
         "std_score_time": 0.0079128288654985,
         "param_activation": "logistic",
         "param_alpha": 0.0599609580445719,
         "param_batch_size": 113,
         "param_early_stopping": true,
         "param_hidden_layer_sizes": "(25, 25)",
         "param_learning_rate": "adaptive",
         "param_learning_rate_init": 0.05552933963716,
         "param_max_iter": 5000,
         "param_momentum": 0,
         "param_n_iter_no_change": 50,
         "param_random_state": 69,
         "param_solver": "adam",
         "param_tol": 0.0015529504212539,
         "param_validation_fraction": 0.2,
         "params": "{'activation': 'logistic', 'alpha': 0.05996095804457196, 'batch_size': 113, 'early_stopping': True,…",
         "split0_test_score": 1.0307128896111049,
         "split1_test_score": 0.968670428685139,
         "split2_test_score": 1.133320831007993,
         "split3_test_score": 1.157978151035478,
         "split4_test_score": 1.225020465074044,
         "split5_test_score": 1.1950575320378265,
         "split6_test_score": 1.0528146096977096,
         "split7_test_score": 1.0114966328098336,
         "split8_test_score": 1.1776019282834864,
         "split9_test_score": 1.0356601574191966,
         "mean_test_score": 1.098833362566181,
         "std_test_score": 0.0844945714696462,
         "rank_test_score": 1956,
         "_deepnote_index_column": 0
        },
        {
         "Unnamed: 0": 455,
         "mean_fit_time": 0.5634898900985718,
         "std_fit_time": 0.0911077445865701,
         "mean_score_time": 0.0012430906295776,
         "std_score_time": 0.00009843641380376044,
         "param_activation": "logistic",
         "param_alpha": 0.0933033105419144,
         "param_batch_size": 274,
         "param_early_stopping": true,
         "param_hidden_layer_sizes": "(25, 25)",
         "param_learning_rate": "invscaling",
         "param_learning_rate_init": 0.0822616136834592,
         "param_max_iter": 5000,
         "param_momentum": 0,
         "param_n_iter_no_change": 50,
         "param_random_state": 69,
         "param_solver": "adam",
         "param_tol": 0.0012800456680962,
         "param_validation_fraction": 0.2,
         "params": "{'activation': 'logistic', 'alpha': 0.0933033105419144, 'batch_size': 274, 'early_stopping': True, …",
         "split0_test_score": 1.0492982085167872,
         "split1_test_score": 1.0121293282434405,
         "split2_test_score": 1.121270614443629,
         "split3_test_score": 1.1440062263736763,
         "split4_test_score": 1.2017207338078555,
         "split5_test_score": 1.2014827602328009,
         "split6_test_score": 1.0813337412439574,
         "split7_test_score": 1.0086401993719911,
         "split8_test_score": 1.1756508958215943,
         "split9_test_score": 1.0241311977214569,
         "mean_test_score": 1.101966390577719,
         "std_test_score": 0.0731179051870195,
         "rank_test_score": 1955,
         "_deepnote_index_column": 1
        },
        {
         "Unnamed: 0": 1498,
         "mean_fit_time": 2.5619169950485228,
         "std_fit_time": 0.4446195661172711,
         "mean_score_time": 0.0023565053939819,
         "std_score_time": 0.0005972762053142,
         "param_activation": "logistic",
         "param_alpha": 0.09713471827137,
         "param_batch_size": 335,
         "param_early_stopping": true,
         "param_hidden_layer_sizes": "(100, 100)",
         "param_learning_rate": "adaptive",
         "param_learning_rate_init": 0.0730820345383021,
         "param_max_iter": 5000,
         "param_momentum": 0,
         "param_n_iter_no_change": 50,
         "param_random_state": 69,
         "param_solver": "adam",
         "param_tol": 0.0017472495593841,
         "param_validation_fraction": 0.2,
         "params": "{'activation': 'logistic', 'alpha': 0.09713471827137003, 'batch_size': 335, 'early_stopping': True,…",
         "split0_test_score": 0.994685572313504,
         "split1_test_score": 1.0362245572990527,
         "split2_test_score": 1.109243073085582,
         "split3_test_score": 1.2000955423814972,
         "split4_test_score": 1.174854819772448,
         "split5_test_score": 1.1628348056424047,
         "split6_test_score": 1.1130016042277209,
         "split7_test_score": 1.085327862969795,
         "split8_test_score": 1.1903201671925496,
         "split9_test_score": 1.0222596323575484,
         "mean_test_score": 1.1088847637242103,
         "std_test_score": 0.0697213489791201,
         "rank_test_score": 1954,
         "_deepnote_index_column": 2
        },
        {
         "Unnamed: 0": 206,
         "mean_fit_time": 0.7065656900405883,
         "std_fit_time": 0.203462185771941,
         "mean_score_time": 0.0016386747360229,
         "std_score_time": 0.0005189263866531,
         "param_activation": "logistic",
         "param_alpha": 0.0592085005896181,
         "param_batch_size": 51,
         "param_early_stopping": true,
         "param_hidden_layer_sizes": "(25, 25)",
         "param_learning_rate": "invscaling",
         "param_learning_rate_init": 0.0575815136568919,
         "param_max_iter": 5000,
         "param_momentum": 0,
         "param_n_iter_no_change": 25,
         "param_random_state": 69,
         "param_solver": "adam",
         "param_tol": 0.0020515303382066,
         "param_validation_fraction": 0.2,
         "params": "{'activation': 'logistic', 'alpha': 0.059208500589618136, 'batch_size': 51, 'early_stopping': True,…",
         "split0_test_score": 1.045957544434981,
         "split1_test_score": 1.0050235755964887,
         "split2_test_score": 1.1019383117118338,
         "split3_test_score": 1.181511165525917,
         "split4_test_score": 1.218404122793805,
         "split5_test_score": 1.1926366989008232,
         "split6_test_score": 1.0981261876326196,
         "split7_test_score": 1.0602082805508095,
         "split8_test_score": 1.224676355895556,
         "split9_test_score": 0.975498571378884,
         "mean_test_score": 1.1103980814421717,
         "std_test_score": 0.0852880532151461,
         "rank_test_score": 1953,
         "_deepnote_index_column": 3
        },
        {
         "Unnamed: 0": 890,
         "mean_fit_time": 0.4007868528366088,
         "std_fit_time": 0.0548525325380766,
         "mean_score_time": 0.0012315273284912,
         "std_score_time": 0.00006556547338211209,
         "param_activation": "logistic",
         "param_alpha": 0.0991139819168088,
         "param_batch_size": 138,
         "param_early_stopping": true,
         "param_hidden_layer_sizes": "(25, 25)",
         "param_learning_rate": "adaptive",
         "param_learning_rate_init": 0.0971765895823087,
         "param_max_iter": 5000,
         "param_momentum": 0,
         "param_n_iter_no_change": 25,
         "param_random_state": 69,
         "param_solver": "adam",
         "param_tol": 0.0019103100269526,
         "param_validation_fraction": 0.2,
         "params": "{'activation': 'logistic', 'alpha': 0.0991139819168088, 'batch_size': 138, 'early_stopping': True, …",
         "split0_test_score": 1.0548623155265753,
         "split1_test_score": 0.9953691315662596,
         "split2_test_score": 1.122345669522506,
         "split3_test_score": 1.1509972878828756,
         "split4_test_score": 1.176561664582844,
         "split5_test_score": 1.2220198716691173,
         "split6_test_score": 1.0501834741248846,
         "split7_test_score": 1.068214671107235,
         "split8_test_score": 1.2235717218796276,
         "split9_test_score": 1.0786218075320229,
         "mean_test_score": 1.1142747615393949,
         "std_test_score": 0.0734962052401334,
         "rank_test_score": 1952,
         "_deepnote_index_column": 4
        }
       ]
      },
      "text/plain": "   Unnamed: 0  mean_fit_time  std_fit_time  mean_score_time  std_score_time  \\\n0        1689       0.899581      0.150233         0.004395        0.007913   \n1         455       0.563490      0.091108         0.001243        0.000098   \n2        1498       2.561917      0.444620         0.002357        0.000597   \n3         206       0.706566      0.203462         0.001639        0.000519   \n4         890       0.400787      0.054853         0.001232        0.000066   \n\n  param_activation  param_alpha  param_batch_size  param_early_stopping  \\\n0         logistic     0.059961               113                  True   \n1         logistic     0.093303               274                  True   \n2         logistic     0.097135               335                  True   \n3         logistic     0.059209                51                  True   \n4         logistic     0.099114               138                  True   \n\n  param_hidden_layer_sizes  ... split3_test_score  split4_test_score  \\\n0                 (25, 25)  ...          1.157978           1.225020   \n1                 (25, 25)  ...          1.144006           1.201721   \n2               (100, 100)  ...          1.200096           1.174855   \n3                 (25, 25)  ...          1.181511           1.218404   \n4                 (25, 25)  ...          1.150997           1.176562   \n\n   split5_test_score  split6_test_score  split7_test_score  split8_test_score  \\\n0           1.195058           1.052815           1.011497           1.177602   \n1           1.201483           1.081334           1.008640           1.175651   \n2           1.162835           1.113002           1.085328           1.190320   \n3           1.192637           1.098126           1.060208           1.224676   \n4           1.222020           1.050183           1.068215           1.223572   \n\n  split9_test_score  mean_test_score  std_test_score rank_test_score  \n0          1.035660         1.098833        0.084495            1956  \n1          1.024131         1.101966        0.073118            1955  \n2          1.022260         1.108885        0.069721            1954  \n3          0.975499         1.110398        0.085288            1953  \n4          1.078622         1.114275        0.073496            1952  \n\n[5 rows x 33 columns]",
      "text/html": "<div>\n<style scoped>\n    .dataframe tbody tr th:only-of-type {\n        vertical-align: middle;\n    }\n\n    .dataframe tbody tr th {\n        vertical-align: top;\n    }\n\n    .dataframe thead th {\n        text-align: right;\n    }\n</style>\n<table border=\"1\" class=\"dataframe\">\n  <thead>\n    <tr style=\"text-align: right;\">\n      <th></th>\n      <th>Unnamed: 0</th>\n      <th>mean_fit_time</th>\n      <th>std_fit_time</th>\n      <th>mean_score_time</th>\n      <th>std_score_time</th>\n      <th>param_activation</th>\n      <th>param_alpha</th>\n      <th>param_batch_size</th>\n      <th>param_early_stopping</th>\n      <th>param_hidden_layer_sizes</th>\n      <th>...</th>\n      <th>split3_test_score</th>\n      <th>split4_test_score</th>\n      <th>split5_test_score</th>\n      <th>split6_test_score</th>\n      <th>split7_test_score</th>\n      <th>split8_test_score</th>\n      <th>split9_test_score</th>\n      <th>mean_test_score</th>\n      <th>std_test_score</th>\n      <th>rank_test_score</th>\n    </tr>\n  </thead>\n  <tbody>\n    <tr>\n      <th>0</th>\n      <td>1689</td>\n      <td>0.899581</td>\n      <td>0.150233</td>\n      <td>0.004395</td>\n      <td>0.007913</td>\n      <td>logistic</td>\n      <td>0.059961</td>\n      <td>113</td>\n      <td>True</td>\n      <td>(25, 25)</td>\n      <td>...</td>\n      <td>1.157978</td>\n      <td>1.225020</td>\n      <td>1.195058</td>\n      <td>1.052815</td>\n      <td>1.011497</td>\n      <td>1.177602</td>\n      <td>1.035660</td>\n      <td>1.098833</td>\n      <td>0.084495</td>\n      <td>1956</td>\n    </tr>\n    <tr>\n      <th>1</th>\n      <td>455</td>\n      <td>0.563490</td>\n      <td>0.091108</td>\n      <td>0.001243</td>\n      <td>0.000098</td>\n      <td>logistic</td>\n      <td>0.093303</td>\n      <td>274</td>\n      <td>True</td>\n      <td>(25, 25)</td>\n      <td>...</td>\n      <td>1.144006</td>\n      <td>1.201721</td>\n      <td>1.201483</td>\n      <td>1.081334</td>\n      <td>1.008640</td>\n      <td>1.175651</td>\n      <td>1.024131</td>\n      <td>1.101966</td>\n      <td>0.073118</td>\n      <td>1955</td>\n    </tr>\n    <tr>\n      <th>2</th>\n      <td>1498</td>\n      <td>2.561917</td>\n      <td>0.444620</td>\n      <td>0.002357</td>\n      <td>0.000597</td>\n      <td>logistic</td>\n      <td>0.097135</td>\n      <td>335</td>\n      <td>True</td>\n      <td>(100, 100)</td>\n      <td>...</td>\n      <td>1.200096</td>\n      <td>1.174855</td>\n      <td>1.162835</td>\n      <td>1.113002</td>\n      <td>1.085328</td>\n      <td>1.190320</td>\n      <td>1.022260</td>\n      <td>1.108885</td>\n      <td>0.069721</td>\n      <td>1954</td>\n    </tr>\n    <tr>\n      <th>3</th>\n      <td>206</td>\n      <td>0.706566</td>\n      <td>0.203462</td>\n      <td>0.001639</td>\n      <td>0.000519</td>\n      <td>logistic</td>\n      <td>0.059209</td>\n      <td>51</td>\n      <td>True</td>\n      <td>(25, 25)</td>\n      <td>...</td>\n      <td>1.181511</td>\n      <td>1.218404</td>\n      <td>1.192637</td>\n      <td>1.098126</td>\n      <td>1.060208</td>\n      <td>1.224676</td>\n      <td>0.975499</td>\n      <td>1.110398</td>\n      <td>0.085288</td>\n      <td>1953</td>\n    </tr>\n    <tr>\n      <th>4</th>\n      <td>890</td>\n      <td>0.400787</td>\n      <td>0.054853</td>\n      <td>0.001232</td>\n      <td>0.000066</td>\n      <td>logistic</td>\n      <td>0.099114</td>\n      <td>138</td>\n      <td>True</td>\n      <td>(25, 25)</td>\n      <td>...</td>\n      <td>1.150997</td>\n      <td>1.176562</td>\n      <td>1.222020</td>\n      <td>1.050183</td>\n      <td>1.068215</td>\n      <td>1.223572</td>\n      <td>1.078622</td>\n      <td>1.114275</td>\n      <td>0.073496</td>\n      <td>1952</td>\n    </tr>\n  </tbody>\n</table>\n<p>5 rows × 33 columns</p>\n</div>"
     },
     "metadata": {}
    }
   ]
  },
  {
   "cell_type": "code",
   "metadata": {
    "cell_id": "00081-fc3ed589-20d2-40fb-8c96-60e7fcc4a5c5",
    "deepnote_to_be_reexecuted": false,
    "execution_millis": 7,
    "execution_start": 1641997690503,
    "source_hash": "9dd11431",
    "tags": [],
    "output_cleared": false,
    "deepnote_cell_type": "code"
   },
   "source": "#get the best params for the grid search (cannot use rand_gs.best_estimator directly since it will yield the worst estimator based on MEE)\nbest_params = df_results['params'][0]\nprint(f\"Mean error on the {k}-folds (MEE) on best model: {df_results['mean_test_score'][0]}\\n\")\nprint(f\"Best params: {best_params}\")",
   "execution_count": 113,
   "outputs": [
    {
     "name": "stdout",
     "text": "Mean error on the 10-folds (MEE) on best model: 1.098833362566181\n\nBest params: {'activation': 'logistic', 'alpha': 0.05996095804457196, 'batch_size': 113, 'early_stopping': True, 'hidden_layer_sizes': (25, 25), 'learning_rate': 'adaptive', 'learning_rate_init': 0.055529339637160065, 'max_iter': 5000, 'momentum': 0, 'n_iter_no_change': 50, 'random_state': 69, 'solver': 'adam', 'tol': 0.0015529504212539093, 'validation_fraction': 0.2}\n",
     "output_type": "stream"
    }
   ]
  },
  {
   "cell_type": "markdown",
   "source": "We save the top 10 best models for later",
   "metadata": {
    "tags": [],
    "cell_id": "00086-c859ba93-3e8d-49a1-909c-7153903ac9ef",
    "deepnote_cell_type": "markdown"
   }
  },
  {
   "cell_type": "code",
   "metadata": {
    "tags": [],
    "cell_id": "00087-6d5a7000-ffcd-4bc3-a5a3-a26a435ba502",
    "deepnote_to_be_reexecuted": false,
    "source_hash": "4c5e512e",
    "execution_start": 1641997707320,
    "execution_millis": 2,
    "deepnote_cell_type": "code"
   },
   "source": "best_models = list() #list of the top ten models of the final randomized search\nfor i in range(10):\n    best_params_i = df_results['params'][i]\n    best_params_i = ast.literal_eval(best_params_i)\n    model_i = MLPRegressor(**best_params_i)\n    best_models.append(model_i)",
   "execution_count": 114,
   "outputs": []
  },
  {
   "cell_type": "code",
   "metadata": {
    "tags": [],
    "cell_id": "00086-13d1470e-3789-41d2-b033-3b38ddb9fe27",
    "deepnote_to_be_reexecuted": false,
    "source_hash": "f7129cbd",
    "execution_start": 1641997712451,
    "execution_millis": 4,
    "deepnote_cell_type": "code"
   },
   "source": "best_params = ast.literal_eval(best_params)",
   "execution_count": 115,
   "outputs": []
  },
  {
   "cell_type": "code",
   "metadata": {
    "cell_id": "00079-4dfa7b71-4c50-4561-9cb2-f357883c1efa",
    "deepnote_output_heights": [
     97.9375,
     97.9375
    ],
    "deepnote_to_be_reexecuted": false,
    "execution_millis": 353,
    "execution_start": 1641997713562,
    "source_hash": "986f254f",
    "tags": [],
    "output_cleared": false,
    "deepnote_cell_type": "code"
   },
   "source": "best_params['n_iter_no_change'] = 20\nmodel = MLPRegressor(**best_params)\nmodel.fit(X, y)\nbest_params['early_stopping'] = False\neval_model = MLPRegressor(**best_params)",
   "execution_count": 116,
   "outputs": []
  },
  {
   "cell_type": "code",
   "metadata": {
    "cell_id": "00082-3033d12b-469c-40d7-a046-5093c1b196ec",
    "deepnote_output_heights": [
     21.1875
    ],
    "deepnote_to_be_reexecuted": false,
    "execution_millis": 105,
    "execution_start": 1641997715452,
    "source_hash": "9e9de3f4",
    "tags": [],
    "output_cleared": false,
    "deepnote_cell_type": "code"
   },
   "source": "y_predicted = model.predict(X)\nprint(f\"Accuracy: {model.score(X, y)}\")\nprint(f\"MEE: {mee(y, y_predicted)}\")",
   "execution_count": 117,
   "outputs": [
    {
     "name": "stdout",
     "text": "Accuracy: 0.9523163274600883\nMEE: 1.0171833867181517\n",
     "output_type": "stream"
    }
   ]
  },
  {
   "cell_type": "code",
   "metadata": {
    "cell_id": "00082-8a47b9fe-9cab-4b6c-b0e3-7202eecb19ee",
    "deepnote_output_heights": [
     40.390625
    ],
    "deepnote_to_be_reexecuted": false,
    "execution_millis": 7,
    "execution_start": 1641997717473,
    "source_hash": "c0f59177",
    "tags": [],
    "output_cleared": false,
    "deepnote_cell_type": "code"
   },
   "source": "y_predicted_internal = model.predict(X_internal_test)\nprint(f\"Accuracy: {model.score(X_internal_test, y_internal_test)}\")\nprint(f\"MEE: {mee(y_internal_test, y_predicted_internal)}\")",
   "execution_count": 118,
   "outputs": [
    {
     "name": "stdout",
     "text": "Accuracy: 0.9337285818251078\nMEE: 1.0957646384218342\n",
     "output_type": "stream"
    }
   ]
  },
  {
   "cell_type": "code",
   "metadata": {
    "tags": [],
    "cell_id": "00094-0b66efb1-babb-49a6-84db-2b60c8d5a71e",
    "deepnote_to_be_reexecuted": false,
    "source_hash": "e101cc15",
    "output_cleared": true,
    "execution_start": 1641997721016,
    "execution_millis": 6563,
    "deepnote_cell_type": "code"
   },
   "source": "train_scores, test_scores, train_loss, test_loss = fit_and_score(model.n_iter_, eval_model, X, y, X_internal_test, y_internal_test)",
   "execution_count": 119,
   "outputs": []
  },
  {
   "cell_type": "markdown",
   "source": " ## Loss Curves",
   "metadata": {
    "cell_id": "00083-038798c9-56a8-4130-bba3-44bd7b859fc7",
    "tags": [],
    "deepnote_cell_type": "markdown"
   }
  },
  {
   "cell_type": "code",
   "metadata": {
    "cell_id": "00083-7b45a2ea-d5c6-4715-ac7b-f81d15f131e7",
    "deepnote_output_heights": [
     482
    ],
    "deepnote_to_be_reexecuted": false,
    "execution_millis": 296,
    "execution_start": 1641997727582,
    "source_hash": "2a28b3cd",
    "tags": [],
    "output_cleared": false,
    "deepnote_cell_type": "code"
   },
   "source": "plot_learning_curves(train_loss, test_loss, model.n_iter_, \"Loss (MSE)\")",
   "execution_count": 120,
   "outputs": [
    {
     "data": {
      "text/plain": "<Figure size 720x576 with 1 Axes>",
      "image/png": "[encoded data removed]"
     },
     "metadata": {
      "needs_background": "light",
      "image/png": {
       "width": 606,
       "height": 480
      }
     },
     "output_type": "display_data"
    }
   ]
  },
  {
   "cell_type": "markdown",
   "source": "## Learning Curves",
   "metadata": {
    "cell_id": "00085-7a7150fe-17f7-4e2f-b8fd-e0ff668dc37a",
    "tags": [],
    "deepnote_cell_type": "markdown"
   }
  },
  {
   "cell_type": "code",
   "metadata": {
    "cell_id": "00086-ed2d7972-98a0-4381-9a9c-f29d9b4fc448",
    "deepnote_output_heights": [
     482
    ],
    "deepnote_to_be_reexecuted": false,
    "execution_millis": 299,
    "execution_start": 1641997728984,
    "source_hash": "b6d9a11b",
    "tags": [],
    "output_cleared": false,
    "deepnote_cell_type": "code"
   },
   "source": "plot_learning_curves(train_scores, test_scores, model.n_iter_, \"Error (MEE)\")",
   "execution_count": 121,
   "outputs": [
    {
     "data": {
      "text/plain": "<Figure size 720x576 with 1 Axes>",
      "image/png": "[encoded data removed]"
     },
     "metadata": {
      "needs_background": "light",
      "image/png": {
       "width": 606,
       "height": 480
      }
     },
     "output_type": "display_data"
    }
   ]
  },
  {
   "cell_type": "markdown",
   "source": "### Plot of coordinates x and y from the training set",
   "metadata": {
    "cell_id": "00086-1d278b81-4dfb-481b-bd2d-6ecb54124bcb",
    "tags": [],
    "deepnote_cell_type": "markdown"
   }
  },
  {
   "cell_type": "code",
   "metadata": {
    "cell_id": "00008-ecc25ec9-9105-4377-9f71-5d9f2924ad85",
    "deepnote_output_heights": [
     21.1875,
     264
    ],
    "deepnote_to_be_reexecuted": false,
    "execution_millis": 246,
    "execution_start": 1641997741376,
    "output_cleared": false,
    "source_hash": "c1117b61",
    "deepnote_cell_type": "code"
   },
   "source": "plt.xlabel(\"x\")\nplt.ylabel(\"y\")\nplt.scatter(df_visual['x'], df_visual['y'])",
   "execution_count": 122,
   "outputs": [
    {
     "output_type": "execute_result",
     "execution_count": 122,
     "data": {
      "text/plain": "<matplotlib.collections.PathCollection at 0x7f7b97a4e790>"
     },
     "metadata": {}
    },
    {
     "data": {
      "text/plain": "<Figure size 432x288 with 1 Axes>",
      "image/png": "[encoded data removed]"
     },
     "metadata": {
      "needs_background": "light",
      "image/png": {
       "width": 391,
       "height": 262
      }
     },
     "output_type": "display_data"
    }
   ]
  },
  {
   "cell_type": "code",
   "metadata": {
    "cell_id": "00088-15885ca0-5699-40a2-b898-4d70e5c66228",
    "deepnote_to_be_reexecuted": false,
    "execution_millis": 3,
    "execution_start": 1641997742903,
    "source_hash": "a4dc9d4f",
    "tags": [],
    "output_cleared": true,
    "deepnote_cell_type": "code"
   },
   "source": "def plot_coordinates(model, X, true_y = None):\n    y_predicted = model.predict(X)\n    y_predicted = pd.DataFrame(data=y_predicted, columns=[\"x\", \"y\"])\n    if not None:\n        true_y = pd.DataFrame(data=true_y, columns=[\"x\", \"y\"])\n        plt.scatter(true_y['x'], true_y['y'], c='r', marker='*')\n    plt.xlabel(\"x\")\n    plt.ylabel(\"y\")\n    plt.scatter(y_predicted['x'], y_predicted['y'], c='#1f77b4')\n",
   "execution_count": 123,
   "outputs": []
  },
  {
   "cell_type": "markdown",
   "source": "### Predicted points on internal test set",
   "metadata": {
    "cell_id": "00089-9abf5498-eafd-4118-a3de-3d97c0c02e22",
    "tags": [],
    "deepnote_cell_type": "markdown"
   }
  },
  {
   "cell_type": "code",
   "metadata": {
    "cell_id": "00087-f28f6cbd-3066-4ba3-a284-0fde9f54668d",
    "deepnote_output_heights": [
     264
    ],
    "deepnote_to_be_reexecuted": false,
    "execution_millis": 311,
    "execution_start": 1641997744914,
    "source_hash": "9422e3bd",
    "tags": [],
    "output_cleared": false,
    "deepnote_cell_type": "code"
   },
   "source": "plot_coordinates(model, X_internal_test, y_internal_test)",
   "execution_count": 124,
   "outputs": [
    {
     "data": {
      "text/plain": "<Figure size 432x288 with 1 Axes>",
      "image/png": "[encoded data removed]"
     },
     "metadata": {
      "needs_background": "light",
      "image/png": {
       "width": 391,
       "height": 262
      }
     },
     "output_type": "display_data"
    }
   ]
  },
  {
   "cell_type": "code",
   "metadata": {
    "cell_id": "00091-b568584b-91e1-4366-8787-cbe43e52c5ec",
    "tags": [],
    "deepnote_to_be_reexecuted": false,
    "source_hash": "795a2625",
    "output_cleared": false,
    "execution_start": 1641997750918,
    "execution_millis": 291,
    "deepnote_output_heights": [
     264
    ],
    "deepnote_cell_type": "code"
   },
   "source": "plot_coordinates(model, X_all, y_all)",
   "execution_count": 125,
   "outputs": [
    {
     "data": {
      "text/plain": "<Figure size 432x288 with 1 Axes>",
      "image/png": "[encoded data removed]"
     },
     "metadata": {
      "needs_background": "light",
      "image/png": {
       "width": 391,
       "height": 262
      }
     },
     "output_type": "display_data"
    }
   ]
  },
  {
   "cell_type": "markdown",
   "source": "### Predicted points on blind test set",
   "metadata": {
    "tags": [],
    "cell_id": "00105-5aeb8571-533b-4313-9f1e-051dae5a6cd2",
    "deepnote_cell_type": "markdown"
   }
  },
  {
   "cell_type": "code",
   "metadata": {
    "cell_id": "00018-c3e0eaa8-5cb8-4442-959c-1a731da2ca8c",
    "deepnote_output_heights": [
     264
    ],
    "deepnote_to_be_reexecuted": false,
    "execution_millis": 188,
    "execution_start": 1641997758745,
    "source_hash": "dd65ae1c",
    "output_cleared": false,
    "deepnote_cell_type": "code"
   },
   "source": "plot_coordinates(model, blind_ts)",
   "execution_count": 126,
   "outputs": [
    {
     "data": {
      "text/plain": "<Figure size 432x288 with 1 Axes>",
      "image/png": "[encoded data removed]"
     },
     "metadata": {
      "needs_background": "light",
      "image/png": {
       "width": 391,
       "height": 262
      }
     },
     "output_type": "display_data"
    }
   ]
  },
  {
   "cell_type": "markdown",
   "source": "## Ensemble ",
   "metadata": {
    "cell_id": "00093-f93332e9-e7a3-4cbf-83bd-c8500ee574cc",
    "tags": [],
    "deepnote_cell_type": "markdown"
   }
  },
  {
   "cell_type": "markdown",
   "source": "First we try using the bagging method with 10 estimators.",
   "metadata": {
    "tags": [],
    "cell_id": "00104-4419fc58-d239-45c2-a44a-bfdccfd8df2f",
    "deepnote_cell_type": "markdown"
   }
  },
  {
   "cell_type": "code",
   "metadata": {
    "cell_id": "00093-dde78d36-f0d3-4bb8-be88-50d88c6465bd",
    "deepnote_to_be_reexecuted": false,
    "execution_millis": 4314,
    "execution_start": 1641997806172,
    "source_hash": "f7682dd1",
    "tags": [],
    "output_cleared": true,
    "deepnote_cell_type": "code"
   },
   "source": "bagging_ens = BaggingRegressor(model, n_estimators=10, n_jobs=-1, random_state=RS_NUMBER).fit(X, y)",
   "execution_count": 127,
   "outputs": []
  },
  {
   "cell_type": "code",
   "metadata": {
    "cell_id": "00094-53b977c3-d07e-46bb-8b27-6bf2ae6c4d56",
    "deepnote_to_be_reexecuted": false,
    "execution_millis": 85,
    "execution_start": 1641997810489,
    "source_hash": "26336f72",
    "tags": [],
    "output_cleared": false,
    "deepnote_cell_type": "code"
   },
   "source": "y_predicted_internal_ensemble = bagging_ens.predict(X_internal_test)\nprint(f\"Accuracy: {model.score(X_internal_test, y_internal_test)}\")\nprint(f\"MEE: {mee(y_internal_test, y_predicted_internal_ensemble)}\")",
   "execution_count": 128,
   "outputs": [
    {
     "name": "stdout",
     "text": "Accuracy: 0.9337285818251078\nMEE: 1.084784295525133\n",
     "output_type": "stream"
    }
   ]
  },
  {
   "cell_type": "markdown",
   "source": "Then we try the voting method using the 10 best models from the randomized search. ",
   "metadata": {
    "tags": [],
    "cell_id": "00106-746bc8d1-9e37-45ba-98b0-b1b6932855b3",
    "deepnote_to_be_reexecuted": false,
    "source_hash": "b623e53d",
    "execution_start": 1641916793012,
    "execution_millis": 5,
    "deepnote_cell_type": "markdown"
   }
  },
  {
   "cell_type": "code",
   "metadata": {
    "tags": [],
    "cell_id": "00108-7aca346e-f510-49cf-9360-0ac0a387bf1f",
    "deepnote_to_be_reexecuted": false,
    "source_hash": "2a1727d5",
    "execution_start": 1641997815433,
    "execution_millis": 30426,
    "deepnote_output_heights": [
     155.546875
    ],
    "deepnote_cell_type": "code"
   },
   "source": "y_predictions_internal_test = list()\ny_predictions_blind_test = list()\n\n#fit every model\nfor model in best_models:\n    model.fit(X,y)\n\n\n#predictions on every model is averaged\nfor model in best_models:\n    y_pred = model.predict(X_internal_test)\n    y_predictions_internal_test.append(y_pred)\n    y_pred = model.predict(blind_ts)\n    y_predictions_blind_test.append(y_pred)\n",
   "execution_count": 129,
   "outputs": []
  },
  {
   "cell_type": "code",
   "metadata": {
    "tags": [],
    "cell_id": "00111-baf13dd6-4cd6-4471-9b02-656e29f3ee65",
    "deepnote_to_be_reexecuted": false,
    "source_hash": "5acf98ef",
    "execution_start": 1641997845859,
    "execution_millis": 39,
    "deepnote_output_heights": [
     611
    ],
    "deepnote_cell_type": "code"
   },
   "source": "y_pred_voting_ens_internal_test = np.average(y_predictions_internal_test, axis=0)\ny_pred_voting_ens_blind_test = np.average(y_predictions_blind_test, axis=0)\n\nprint(f\"MEE: {mee(y_internal_test, y_pred_voting_ens_internal_test)}\")",
   "execution_count": 130,
   "outputs": [
    {
     "name": "stdout",
     "text": "MEE: 1.0509981049091084\n",
     "output_type": "stream"
    }
   ]
  },
  {
   "cell_type": "markdown",
   "source": "### Predicted points on internal test set using ensemble",
   "metadata": {
    "cell_id": "00097-5228796c-20df-48f7-b805-512d228ef30f",
    "tags": [],
    "deepnote_cell_type": "markdown"
   }
  },
  {
   "cell_type": "markdown",
   "source": "#### BAGGING ENSEMBLE",
   "metadata": {
    "tags": [],
    "cell_id": "00113-55befa4f-4ba5-4fef-8119-51838ad6f584",
    "deepnote_cell_type": "markdown"
   }
  },
  {
   "cell_type": "code",
   "metadata": {
    "cell_id": "00095-29178bf8-e53b-49f2-9b9f-6bc993f430ba",
    "deepnote_output_heights": [
     264
    ],
    "deepnote_to_be_reexecuted": false,
    "execution_millis": 353,
    "execution_start": 1641997845870,
    "source_hash": "4af1efcf",
    "tags": [],
    "output_cleared": false,
    "deepnote_cell_type": "code"
   },
   "source": "#BAGGING ENSEMBLE\nplot_coordinates(bagging_ens, X_internal_test, y_internal_test)",
   "execution_count": 131,
   "outputs": [
    {
     "data": {
      "text/plain": "<Figure size 432x288 with 1 Axes>",
      "image/png": "[encoded data removed]"
     },
     "metadata": {
      "needs_background": "light",
      "image/png": {
       "width": 391,
       "height": 262
      }
     },
     "output_type": "display_data"
    }
   ]
  },
  {
   "cell_type": "markdown",
   "source": "#### VOTING COMMITEE OF 10 BEST MODELS",
   "metadata": {
    "tags": [],
    "cell_id": "00115-702f78f2-a20b-4758-af72-38a975969243",
    "deepnote_cell_type": "markdown"
   }
  },
  {
   "cell_type": "code",
   "metadata": {
    "tags": [],
    "cell_id": "00114-6a695924-135f-4e6a-8f4f-a620331787e7",
    "deepnote_to_be_reexecuted": false,
    "source_hash": "b09ac1d",
    "execution_start": 1641997846231,
    "execution_millis": 190,
    "deepnote_output_heights": [
     264
    ],
    "deepnote_cell_type": "code"
   },
   "source": "y_predicted = pd.DataFrame(data=y_pred_voting_ens_internal_test, columns=[\"x\", \"y\"])\ntrue_y = pd.DataFrame(data=y_internal_test, columns=[\"x\", \"y\"])\nplt.scatter(true_y['x'], true_y['y'], c='r', marker='*')\nplt.xlabel(\"x\")\nplt.ylabel(\"y\")\nplt.scatter(y_predicted['x'], y_predicted['y'], c='#1f77b4');",
   "execution_count": 132,
   "outputs": [
    {
     "data": {
      "text/plain": "<Figure size 432x288 with 1 Axes>",
      "image/png": "[encoded data removed]"
     },
     "metadata": {
      "needs_background": "light",
      "image/png": {
       "width": 391,
       "height": 262
      }
     },
     "output_type": "display_data"
    }
   ]
  },
  {
   "cell_type": "markdown",
   "source": "### Predicted points on blind test set using Ensemble",
   "metadata": {
    "cell_id": "00099-a003a56a-ada4-43f9-9685-22118d6682cd",
    "tags": [],
    "deepnote_cell_type": "markdown"
   }
  },
  {
   "cell_type": "markdown",
   "source": "#### BAGGING ENSEMBLE",
   "metadata": {
    "tags": [],
    "cell_id": "00118-ad8658ba-8308-482d-a390-bd8f4241d5c7",
    "deepnote_cell_type": "markdown"
   }
  },
  {
   "cell_type": "code",
   "metadata": {
    "cell_id": "00096-5a316c05-fb63-44eb-9a33-25e78e40f89a",
    "deepnote_output_heights": [
     264
    ],
    "deepnote_to_be_reexecuted": false,
    "execution_millis": 248,
    "execution_start": 1641997846423,
    "source_hash": "6ccc2280",
    "tags": [],
    "output_cleared": false,
    "deepnote_cell_type": "code"
   },
   "source": "#BAGGING ENSEMBLE\nplot_coordinates(bagging_ens, blind_ts)",
   "execution_count": 133,
   "outputs": [
    {
     "data": {
      "text/plain": "<Figure size 432x288 with 1 Axes>",
      "image/png": "[encoded data removed]"
     },
     "metadata": {
      "needs_background": "light",
      "image/png": {
       "width": 391,
       "height": 262
      }
     },
     "output_type": "display_data"
    }
   ]
  },
  {
   "cell_type": "markdown",
   "source": "#### VOTING COMMITEE OF 10 BEST MODELS",
   "metadata": {
    "tags": [],
    "cell_id": "00120-551f4c56-d9e8-441f-b681-1225a698906c",
    "deepnote_cell_type": "markdown"
   }
  },
  {
   "cell_type": "code",
   "metadata": {
    "tags": [],
    "cell_id": "00117-4c5b8697-82d2-44f6-a7cc-10b3e1dbe972",
    "deepnote_to_be_reexecuted": false,
    "source_hash": "15d71ae0",
    "execution_start": 1641997846682,
    "execution_millis": 180,
    "deepnote_output_heights": [
     264
    ],
    "deepnote_cell_type": "code"
   },
   "source": "y_predicted = pd.DataFrame(data=y_pred_voting_ens_blind_test, columns=[\"x\", \"y\"])\nplt.xlabel(\"x\")\nplt.ylabel(\"y\")\nplt.scatter(y_predicted['x'], y_predicted['y'], c='#1f77b4');",
   "execution_count": 134,
   "outputs": [
    {
     "data": {
      "text/plain": "<Figure size 432x288 with 1 Axes>",
      "image/png": "[encoded data removed]"
     },
     "metadata": {
      "needs_background": "light",
      "image/png": {
       "width": 391,
       "height": 262
      }
     },
     "output_type": "display_data"
    }
   ]
  },
  {
   "cell_type": "markdown",
   "source": "<a style='text-decoration:none;line-height:16px;display:flex;color:#5B5B62;padding:10px;justify-content:end;' href='https://deepnote.com?utm_source=created-in-deepnote-cell&projectId=d9d840c9-75b3-4185-bb01-105f5cca8d83' target=\"_blank\">\n<img alt='Created in deepnote.com' style='display:inline;max-height:16px;margin:0px;margin-right:7.5px;' src='data:image/svg+xml;base64,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' > </img>\nCreated in <span style='font-weight:600;margin-left:4px;'>Deepnote</span></a>",
   "metadata": {
    "tags": [],
    "created_in_deepnote_cell": true,
    "deepnote_cell_type": "markdown"
   }
  }
 ],
 "nbformat": 4,
 "nbformat_minor": 5,
 "metadata": {
  "deepnote": {},
  "deepnote_execution_queue": [],
  "deepnote_notebook_id": "e6b16fc5-d82c-42a1-becc-b3e3eb4c046e",
  "kernelspec": {
   "display_name": "Python 3",
   "language": "python",
   "name": "python3"
  },
  "language_info": {
   "codemirror_mode": {
    "name": "ipython",
    "version": 3
   },
   "file_extension": ".py",
   "mimetype": "text/x-python",
   "name": "python",
   "nbconvert_exporter": "python",
   "pygments_lexer": "ipython3",
   "version": "3.9.7"
  }
 }
}