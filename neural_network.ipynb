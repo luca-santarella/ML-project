{
 "cells": [
  {
   "cell_type": "markdown",
   "source": "# Machine Learning project a.y. 2021/2022",
   "metadata": {
    "cell_id": "00000-20b425aa-ea48-417e-8de8-80b798a56627",
    "deepnote_cell_type": "markdown"
   }
  },
  {
   "cell_type": "markdown",
   "source": "## Scikit-learn MLPRegressor model",
   "metadata": {
    "cell_id": "00001-0b4766be-7481-4245-b46b-e62d89f13e8e",
    "deepnote_cell_type": "markdown"
   }
  },
  {
   "cell_type": "markdown",
   "source": "## Importing libraries",
   "metadata": {
    "cell_id": "00002-df7e2378-8b40-4303-a2e1-ed002e501fc7",
    "deepnote_cell_type": "markdown"
   }
  },
  {
   "cell_type": "code",
   "metadata": {
    "cell_id": "00003-61dc5a13-3cd8-445b-b8de-c471ff2498d2",
    "deepnote_to_be_reexecuted": false,
    "source_hash": "2c6f8d73",
    "execution_start": 1638869635619,
    "execution_millis": 690,
    "deepnote_cell_type": "code"
   },
   "source": "import pandas as pd\nimport matplotlib.pyplot as plt\nimport numpy as np",
   "execution_count": null,
   "outputs": []
  },
  {
   "cell_type": "markdown",
   "source": "## Loading training set and blind test set",
   "metadata": {
    "cell_id": "00004-04491b00-26f4-4580-8468-20e4c04795c7",
    "deepnote_cell_type": "markdown"
   }
  },
  {
   "cell_type": "code",
   "metadata": {
    "cell_id": "00005-0b8f7c5b-8577-4b82-b67f-ece4b4ff2886",
    "deepnote_to_be_reexecuted": false,
    "source_hash": "83d03d78",
    "execution_start": 1638869636394,
    "execution_millis": 0,
    "deepnote_cell_type": "code"
   },
   "source": "df_visual = pd.read_csv('./data/ML-CUP21-TR.csv', usecols=[11,12], names=['idx','f1','f2','f3','f4','f5','f6','f7','f8','f9','f10', 'x','y'])\ndf = pd.read_csv('./data/ML-CUP21-TR.csv', names=['idx','f1','f2','f3','f4','f5','f6','f7','f8','f9','f10', 'x','y'])\ndf = df[7:] # remove first 7 rows of comments\ndf_visual = df_visual[7:]\n\ndf_blind_ts = pd.read_csv('./data/ML-CUP21-TS.csv', names=['idx','f1','f2','f3','f4','f5','f6','f7','f8','f9','f10'])\ndf_blind_ts = df_blind_ts[7:]",
   "execution_count": null,
   "outputs": []
  },
  {
   "cell_type": "code",
   "metadata": {
    "cell_id": "00006-68a5fd53-6fbb-4b50-9107-a4cc5955bae4",
    "deepnote_to_be_reexecuted": false,
    "source_hash": "2026fffa",
    "execution_start": 1638869636395,
    "execution_millis": 30,
    "deepnote_output_heights": [
     382.1875
    ],
    "deepnote_cell_type": "code"
   },
   "source": "df_visual",
   "execution_count": null,
   "outputs": [
    {
     "output_type": "execute_result",
     "execution_count": 3,
     "data": {
      "application/vnd.deepnote.dataframe.v2+json": {
       "row_count": 1477,
       "column_count": 2,
       "columns": [
        {
         "name": "x",
         "dtype": "float64",
         "stats": {
          "unique_count": 1477,
          "nan_count": 0,
          "min": "-2.100573",
          "max": "8.593776",
          "histogram": [
           {
            "bin_start": -2.100573,
            "bin_end": -1.0311381,
            "count": 191
           },
           {
            "bin_start": -1.0311381,
            "bin_end": 0.03829679999999991,
            "count": 176
           },
           {
            "bin_start": 0.03829679999999991,
            "bin_end": 1.1077316999999995,
            "count": 157
           },
           {
            "bin_start": 1.1077316999999995,
            "bin_end": 2.1771665999999996,
            "count": 145
           },
           {
            "bin_start": 2.1771665999999996,
            "bin_end": 3.2466014999999997,
            "count": 142
           },
           {
            "bin_start": 3.2466014999999997,
            "bin_end": 4.316036399999999,
            "count": 156
           },
           {
            "bin_start": 4.316036399999999,
            "bin_end": 5.385471299999999,
            "count": 134
           },
           {
            "bin_start": 5.385471299999999,
            "bin_end": 6.454906199999999,
            "count": 157
           },
           {
            "bin_start": 6.454906199999999,
            "bin_end": 7.524341099999998,
            "count": 140
           },
           {
            "bin_start": 7.524341099999998,
            "bin_end": 8.593776,
            "count": 79
           }
          ]
         }
        },
        {
         "name": "y",
         "dtype": "float64",
         "stats": {
          "unique_count": 1477,
          "nan_count": 0,
          "min": "-31.773589",
          "max": "-7.389552",
          "histogram": [
           {
            "bin_start": -31.773589,
            "bin_end": -29.335185300000003,
            "count": 186
           },
           {
            "bin_start": -29.335185300000003,
            "bin_end": -26.8967816,
            "count": 181
           },
           {
            "bin_start": -26.8967816,
            "bin_end": -24.458377900000002,
            "count": 177
           },
           {
            "bin_start": -24.458377900000002,
            "bin_end": -22.0199742,
            "count": 62
           },
           {
            "bin_start": -22.0199742,
            "bin_end": -19.5815705,
            "count": 153
           },
           {
            "bin_start": -19.5815705,
            "bin_end": -17.143166800000003,
            "count": 145
           },
           {
            "bin_start": -17.143166800000003,
            "bin_end": -14.704763100000001,
            "count": 137
           },
           {
            "bin_start": -14.704763100000001,
            "bin_end": -12.266359400000002,
            "count": 148
           },
           {
            "bin_start": -12.266359400000002,
            "bin_end": -9.827955700000004,
            "count": 140
           },
           {
            "bin_start": -9.827955700000004,
            "bin_end": -7.389552,
            "count": 148
           }
          ]
         }
        },
        {
         "name": "_deepnote_index_column",
         "dtype": "int64"
        }
       ],
       "rows_top": [
        {
         "x": 7.187592,
         "y": -8.768943,
         "_deepnote_index_column": 7
        },
        {
         "x": 0.170888,
         "y": -25.895562,
         "_deepnote_index_column": 8
        },
        {
         "x": 4.167006,
         "y": -29.062891,
         "_deepnote_index_column": 9
        },
        {
         "x": 7.259387,
         "y": -31.529549,
         "_deepnote_index_column": 10
        },
        {
         "x": 5.94143,
         "y": -30.540759,
         "_deepnote_index_column": 11
        },
        {
         "x": 7.411681,
         "y": -8.042986,
         "_deepnote_index_column": 12
        },
        {
         "x": -0.13233,
         "y": -25.367187,
         "_deepnote_index_column": 13
        },
        {
         "x": 3.1225,
         "y": -28.22778,
         "_deepnote_index_column": 14
        },
        {
         "x": 0.279545,
         "y": -17.914489,
         "_deepnote_index_column": 15
        },
        {
         "x": 1.687099,
         "y": -16.230912,
         "_deepnote_index_column": 16
        },
        {
         "x": 6.63171,
         "y": -30.793279,
         "_deepnote_index_column": 17
        },
        {
         "x": 5.101943,
         "y": -29.906874,
         "_deepnote_index_column": 18
        },
        {
         "x": 7.023751,
         "y": -8.930348,
         "_deepnote_index_column": 19
        },
        {
         "x": 6.125674,
         "y": -9.879066,
         "_deepnote_index_column": 20
        },
        {
         "x": -1.05666,
         "y": -22.702961,
         "_deepnote_index_column": 21
        },
        {
         "x": -1.125585,
         "y": -23.98926,
         "_deepnote_index_column": 22
        },
        {
         "x": 5.501051,
         "y": -10.457624,
         "_deepnote_index_column": 23
        },
        {
         "x": 1.352841,
         "y": -16.495448,
         "_deepnote_index_column": 24
        },
        {
         "x": 6.653216,
         "y": -31.241312,
         "_deepnote_index_column": 25
        },
        {
         "x": 7.775698,
         "y": -7.933846,
         "_deepnote_index_column": 26
        },
        {
         "x": 3.373255,
         "y": -28.55964,
         "_deepnote_index_column": 27
        },
        {
         "x": -0.185486,
         "y": -25.784378,
         "_deepnote_index_column": 28
        },
        {
         "x": 1.981421,
         "y": -15.842557,
         "_deepnote_index_column": 29
        },
        {
         "x": 7.684384,
         "y": -8.623076,
         "_deepnote_index_column": 30
        },
        {
         "x": 6.995742,
         "y": -9.475791,
         "_deepnote_index_column": 31
        },
        {
         "x": 5.466437,
         "y": -10.94194,
         "_deepnote_index_column": 32
        },
        {
         "x": 6.179077,
         "y": -10.454446,
         "_deepnote_index_column": 33
        },
        {
         "x": 4.341275,
         "y": -29.508254,
         "_deepnote_index_column": 34
        },
        {
         "x": 0.728727,
         "y": -26.559876,
         "_deepnote_index_column": 35
        },
        {
         "x": -1.507591,
         "y": -20.298558,
         "_deepnote_index_column": 36
        },
        {
         "x": 0.894603,
         "y": -26.525764,
         "_deepnote_index_column": 37
        },
        {
         "x": 6.326161,
         "y": -30.666586,
         "_deepnote_index_column": 38
        },
        {
         "x": 3.993573,
         "y": -13.618671,
         "_deepnote_index_column": 39
        },
        {
         "x": 1.223807,
         "y": -16.720017,
         "_deepnote_index_column": 40
        },
        {
         "x": 3.000139,
         "y": -28.084313,
         "_deepnote_index_column": 41
        },
        {
         "x": 5.869953,
         "y": -30.53564,
         "_deepnote_index_column": 42
        },
        {
         "x": 5.37984,
         "y": -11.532169,
         "_deepnote_index_column": 43
        },
        {
         "x": -1.81399,
         "y": -21.522785,
         "_deepnote_index_column": 44
        },
        {
         "x": 8.094672,
         "y": -7.502124,
         "_deepnote_index_column": 45
        },
        {
         "x": -0.149222,
         "y": -26.149683,
         "_deepnote_index_column": 46
        },
        {
         "x": 6.592415,
         "y": -9.709499,
         "_deepnote_index_column": 47
        },
        {
         "x": 6.713085,
         "y": -9.41253,
         "_deepnote_index_column": 48
        },
        {
         "x": 2.497463,
         "y": -15.372603,
         "_deepnote_index_column": 49
        },
        {
         "x": 3.098582,
         "y": -14.677858,
         "_deepnote_index_column": 50
        },
        {
         "x": -0.107984,
         "y": -25.335401,
         "_deepnote_index_column": 51
        },
        {
         "x": -0.91897,
         "y": -20.258715,
         "_deepnote_index_column": 52
        },
        {
         "x": 2.417123,
         "y": -15.27275,
         "_deepnote_index_column": 53
        },
        {
         "x": 7.401958,
         "y": -31.441938,
         "_deepnote_index_column": 54
        },
        {
         "x": -0.827349,
         "y": -21.798684,
         "_deepnote_index_column": 55
        },
        {
         "x": -0.675055,
         "y": -25.05749,
         "_deepnote_index_column": 56
        },
        {
         "x": 6.733443,
         "y": -30.910636,
         "_deepnote_index_column": 57
        },
        {
         "x": 6.809633,
         "y": -30.871661,
         "_deepnote_index_column": 58
        },
        {
         "x": 3.413877,
         "y": -13.694249,
         "_deepnote_index_column": 59
        },
        {
         "x": 8.212335,
         "y": -7.526421,
         "_deepnote_index_column": 60
        },
        {
         "x": -1.374993,
         "y": -20.660765,
         "_deepnote_index_column": 61
        },
        {
         "x": -0.958943,
         "y": -21.70179,
         "_deepnote_index_column": 62
        },
        {
         "x": 8.04104,
         "y": -7.905007,
         "_deepnote_index_column": 63
        },
        {
         "x": 0.32948,
         "y": -18.159863,
         "_deepnote_index_column": 64
        },
        {
         "x": 1.552971,
         "y": -16.493718,
         "_deepnote_index_column": 65
        },
        {
         "x": -0.526843,
         "y": -25.52557,
         "_deepnote_index_column": 66
        },
        {
         "x": 6.517777,
         "y": -9.169847,
         "_deepnote_index_column": 67
        },
        {
         "x": -0.987073,
         "y": -23.595256,
         "_deepnote_index_column": 68
        },
        {
         "x": 7.295164,
         "y": -31.285844,
         "_deepnote_index_column": 69
        },
        {
         "x": 5.231285,
         "y": -11.456595,
         "_deepnote_index_column": 70
        },
        {
         "x": 4.433971,
         "y": -29.199456,
         "_deepnote_index_column": 71
        },
        {
         "x": 4.246202,
         "y": -12.614016,
         "_deepnote_index_column": 72
        },
        {
         "x": 4.370232,
         "y": -29.282995,
         "_deepnote_index_column": 73
        },
        {
         "x": -1.40959,
         "y": -24.042312,
         "_deepnote_index_column": 74
        },
        {
         "x": 1.279825,
         "y": -17.044096,
         "_deepnote_index_column": 75
        },
        {
         "x": 2.185415,
         "y": -15.68429,
         "_deepnote_index_column": 76
        },
        {
         "x": 1.183981,
         "y": -26.552076,
         "_deepnote_index_column": 77
        },
        {
         "x": 0.490056,
         "y": -26.079364,
         "_deepnote_index_column": 78
        },
        {
         "x": 1.630188,
         "y": -16.411639,
         "_deepnote_index_column": 79
        },
        {
         "x": -1.348057,
         "y": -21.240699,
         "_deepnote_index_column": 80
        },
        {
         "x": 8.038094,
         "y": -7.792688,
         "_deepnote_index_column": 81
        },
        {
         "x": 1.67607,
         "y": -16.694745,
         "_deepnote_index_column": 82
        },
        {
         "x": 1.385421,
         "y": -26.751944,
         "_deepnote_index_column": 83
        },
        {
         "x": 3.120314,
         "y": -14.518203,
         "_deepnote_index_column": 84
        },
        {
         "x": 5.946162,
         "y": -10.267957,
         "_deepnote_index_column": 85
        },
        {
         "x": -1.301514,
         "y": -21.080989,
         "_deepnote_index_column": 86
        },
        {
         "x": -0.756439,
         "y": -22.836663,
         "_deepnote_index_column": 87
        },
        {
         "x": -1.204505,
         "y": -20.027593,
         "_deepnote_index_column": 88
        },
        {
         "x": 0.682334,
         "y": -17.60235,
         "_deepnote_index_column": 89
        },
        {
         "x": 1.444976,
         "y": -26.967959,
         "_deepnote_index_column": 90
        },
        {
         "x": 7.119093,
         "y": -31.264193,
         "_deepnote_index_column": 91
        },
        {
         "x": 7.989346,
         "y": -7.679523,
         "_deepnote_index_column": 92
        },
        {
         "x": 3.279333,
         "y": -14.592864,
         "_deepnote_index_column": 93
        },
        {
         "x": 6.788572,
         "y": -8.785937,
         "_deepnote_index_column": 94
        },
        {
         "x": 6.757832,
         "y": -31.200735,
         "_deepnote_index_column": 95
        },
        {
         "x": 2.863215,
         "y": -28.171486,
         "_deepnote_index_column": 96
        },
        {
         "x": 1.146876,
         "y": -26.597271,
         "_deepnote_index_column": 97
        },
        {
         "x": 4.814389,
         "y": -12.153689,
         "_deepnote_index_column": 98
        },
        {
         "x": 2.116764,
         "y": -27.182437,
         "_deepnote_index_column": 99
        },
        {
         "x": 8.133951,
         "y": -7.676706,
         "_deepnote_index_column": 100
        },
        {
         "x": 0.255729,
         "y": -25.915915,
         "_deepnote_index_column": 101
        },
        {
         "x": 2.327213,
         "y": -15.621476,
         "_deepnote_index_column": 102
        },
        {
         "x": 3.961631,
         "y": -13.614455,
         "_deepnote_index_column": 103
        },
        {
         "x": 1.01548,
         "y": -17.219378,
         "_deepnote_index_column": 104
        },
        {
         "x": 6.000414,
         "y": -11.080295,
         "_deepnote_index_column": 105
        },
        {
         "x": 7.022921,
         "y": -31.181871,
         "_deepnote_index_column": 106
        },
        {
         "x": 5.84991,
         "y": -30.508718,
         "_deepnote_index_column": 107
        },
        {
         "x": 0.184829,
         "y": -18.366185,
         "_deepnote_index_column": 108
        },
        {
         "x": 0.253927,
         "y": -26.121887,
         "_deepnote_index_column": 109
        },
        {
         "x": 6.721546,
         "y": -30.819057,
         "_deepnote_index_column": 110
        },
        {
         "x": -0.895153,
         "y": -25.127356,
         "_deepnote_index_column": 111
        },
        {
         "x": 0.818008,
         "y": -17.355423,
         "_deepnote_index_column": 112
        },
        {
         "x": 8.12385,
         "y": -7.407058,
         "_deepnote_index_column": 113
        },
        {
         "x": -0.453741,
         "y": -18.852953,
         "_deepnote_index_column": 114
        },
        {
         "x": 7.437145,
         "y": -8.465239,
         "_deepnote_index_column": 115
        },
        {
         "x": 7.890369,
         "y": -31.758657,
         "_deepnote_index_column": 116
        },
        {
         "x": 7.702553,
         "y": -8.105167,
         "_deepnote_index_column": 117
        },
        {
         "x": 1.319216,
         "y": -27.083043,
         "_deepnote_index_column": 118
        },
        {
         "x": 7.895779,
         "y": -31.756539,
         "_deepnote_index_column": 119
        },
        {
         "x": 4.177759,
         "y": -29.249819,
         "_deepnote_index_column": 120
        },
        {
         "x": 1.481853,
         "y": -16.066061,
         "_deepnote_index_column": 121
        },
        {
         "x": 6.15641,
         "y": -10.238794,
         "_deepnote_index_column": 122
        },
        {
         "x": 6.144298,
         "y": -30.482849,
         "_deepnote_index_column": 123
        },
        {
         "x": -1.157576,
         "y": -24.631831,
         "_deepnote_index_column": 124
        },
        {
         "x": -1.266982,
         "y": -24.193692,
         "_deepnote_index_column": 125
        },
        {
         "x": 4.650889,
         "y": -29.694883,
         "_deepnote_index_column": 126
        },
        {
         "x": 4.959169,
         "y": -29.806106,
         "_deepnote_index_column": 127
        },
        {
         "x": -1.15938,
         "y": -24.460096,
         "_deepnote_index_column": 128
        },
        {
         "x": -1.476857,
         "y": -22.033383,
         "_deepnote_index_column": 129
        },
        {
         "x": 5.943233,
         "y": -10.166157,
         "_deepnote_index_column": 130
        },
        {
         "x": 3.690771,
         "y": -28.393507,
         "_deepnote_index_column": 131
        },
        {
         "x": -1.072593,
         "y": -24.280264,
         "_deepnote_index_column": 132
        },
        {
         "x": 0.744749,
         "y": -17.284695,
         "_deepnote_index_column": 133
        },
        {
         "x": 7.103144,
         "y": -31.454189,
         "_deepnote_index_column": 134
        },
        {
         "x": 4.234086,
         "y": -29.339835,
         "_deepnote_index_column": 135
        },
        {
         "x": 5.330854,
         "y": -29.916018,
         "_deepnote_index_column": 136
        },
        {
         "x": 0.767453,
         "y": -26.344452,
         "_deepnote_index_column": 137
        },
        {
         "x": 2.527935,
         "y": -27.800063,
         "_deepnote_index_column": 138
        },
        {
         "x": 5.169142,
         "y": -29.844549,
         "_deepnote_index_column": 139
        },
        {
         "x": 7.63502,
         "y": -8.212791,
         "_deepnote_index_column": 140
        },
        {
         "x": 6.182023,
         "y": -10.558989,
         "_deepnote_index_column": 141
        },
        {
         "x": -1.746902,
         "y": -21.063469,
         "_deepnote_index_column": 142
        },
        {
         "x": -0.439002,
         "y": -19.287207,
         "_deepnote_index_column": 143
        },
        {
         "x": 0.089297,
         "y": -18.276525,
         "_deepnote_index_column": 144
        },
        {
         "x": 7.240875,
         "y": -31.329039,
         "_deepnote_index_column": 145
        },
        {
         "x": 3.154007,
         "y": -14.176703,
         "_deepnote_index_column": 146
        },
        {
         "x": -0.7927,
         "y": -24.987294,
         "_deepnote_index_column": 147
        },
        {
         "x": 1.659807,
         "y": -16.619655,
         "_deepnote_index_column": 148
        },
        {
         "x": 3.741809,
         "y": -13.148957,
         "_deepnote_index_column": 149
        },
        {
         "x": 5.716421,
         "y": -29.955546,
         "_deepnote_index_column": 150
        },
        {
         "x": 1.270493,
         "y": -26.868882,
         "_deepnote_index_column": 151
        },
        {
         "x": 0.244361,
         "y": -17.977629,
         "_deepnote_index_column": 152
        },
        {
         "x": 2.947465,
         "y": -28.058483,
         "_deepnote_index_column": 153
        },
        {
         "x": -0.988513,
         "y": -25.041495,
         "_deepnote_index_column": 154
        },
        {
         "x": 3.94576,
         "y": -13.206083,
         "_deepnote_index_column": 155
        },
        {
         "x": 4.792947,
         "y": -29.707383,
         "_deepnote_index_column": 156
        },
        {
         "x": -0.598924,
         "y": -25.115152,
         "_deepnote_index_column": 157
        },
        {
         "x": -1.471535,
         "y": -20.331117,
         "_deepnote_index_column": 158
        },
        {
         "x": 0.445417,
         "y": -26.040559,
         "_deepnote_index_column": 159
        },
        {
         "x": 7.573887,
         "y": -31.625882,
         "_deepnote_index_column": 160
        },
        {
         "x": -1.283658,
         "y": -19.837271,
         "_deepnote_index_column": 161
        },
        {
         "x": 2.416501,
         "y": -15.19077,
         "_deepnote_index_column": 162
        },
        {
         "x": 4.623335,
         "y": -12.03133,
         "_deepnote_index_column": 163
        },
        {
         "x": -1.735358,
         "y": -20.926401,
         "_deepnote_index_column": 164
        },
        {
         "x": -0.844121,
         "y": -25.178788,
         "_deepnote_index_column": 165
        },
        {
         "x": -0.999714,
         "y": -24.276086,
         "_deepnote_index_column": 166
        },
        {
         "x": 3.216787,
         "y": -13.935982,
         "_deepnote_index_column": 167
        },
        {
         "x": 0.250727,
         "y": -18.397521,
         "_deepnote_index_column": 168
        },
        {
         "x": -0.166184,
         "y": -18.979753,
         "_deepnote_index_column": 169
        },
        {
         "x": 3.919231,
         "y": -28.642916,
         "_deepnote_index_column": 170
        },
        {
         "x": -1.023477,
         "y": -19.633633,
         "_deepnote_index_column": 171
        },
        {
         "x": 2.355642,
         "y": -15.852505,
         "_deepnote_index_column": 172
        },
        {
         "x": 0.038579,
         "y": -18.45746,
         "_deepnote_index_column": 173
        },
        {
         "x": 7.553128,
         "y": -8.32504,
         "_deepnote_index_column": 174
        },
        {
         "x": 0.862429,
         "y": -17.001286,
         "_deepnote_index_column": 175
        },
        {
         "x": 5.282651,
         "y": -11.952563,
         "_deepnote_index_column": 176
        },
        {
         "x": 5.644451,
         "y": -30.373782,
         "_deepnote_index_column": 177
        },
        {
         "x": 2.589394,
         "y": -15.439613,
         "_deepnote_index_column": 178
        },
        {
         "x": 1.856814,
         "y": -27.315206,
         "_deepnote_index_column": 179
        },
        {
         "x": 5.637979,
         "y": -11.013053,
         "_deepnote_index_column": 180
        },
        {
         "x": 2.049589,
         "y": -15.965582,
         "_deepnote_index_column": 181
        },
        {
         "x": -0.467297,
         "y": -25.46038,
         "_deepnote_index_column": 182
        },
        {
         "x": 8.474439,
         "y": -7.718555,
         "_deepnote_index_column": 183
        },
        {
         "x": 0.582756,
         "y": -26.627741,
         "_deepnote_index_column": 184
        },
        {
         "x": -1.016488,
         "y": -24.76349,
         "_deepnote_index_column": 185
        },
        {
         "x": 2.356987,
         "y": -27.83938,
         "_deepnote_index_column": 186
        },
        {
         "x": -0.018321,
         "y": -25.642477,
         "_deepnote_index_column": 187
        },
        {
         "x": 5.043613,
         "y": -11.429781,
         "_deepnote_index_column": 188
        },
        {
         "x": -1.769024,
         "y": -21.286731,
         "_deepnote_index_column": 189
        },
        {
         "x": -1.316197,
         "y": -22.216944,
         "_deepnote_index_column": 190
        },
        {
         "x": 6.183205,
         "y": -10.327897,
         "_deepnote_index_column": 191
        },
        {
         "x": 6.721147,
         "y": -9.321699,
         "_deepnote_index_column": 192
        },
        {
         "x": 7.6959,
         "y": -31.462777,
         "_deepnote_index_column": 193
        },
        {
         "x": 5.380384,
         "y": -30.132597,
         "_deepnote_index_column": 194
        },
        {
         "x": -1.358246,
         "y": -21.436519,
         "_deepnote_index_column": 195
        },
        {
         "x": -0.823389,
         "y": -21.857248,
         "_deepnote_index_column": 196
        },
        {
         "x": 0.17101,
         "y": -25.456435,
         "_deepnote_index_column": 197
        },
        {
         "x": 7.189183,
         "y": -9.075333,
         "_deepnote_index_column": 198
        },
        {
         "x": 2.325204,
         "y": -15.459287,
         "_deepnote_index_column": 199
        },
        {
         "x": 4.351632,
         "y": -12.915758,
         "_deepnote_index_column": 200
        },
        {
         "x": 4.078937,
         "y": -13.356187,
         "_deepnote_index_column": 201
        },
        {
         "x": -0.991546,
         "y": -19.448136,
         "_deepnote_index_column": 202
        },
        {
         "x": 4.582244,
         "y": -29.40105,
         "_deepnote_index_column": 203
        },
        {
         "x": 1.382545,
         "y": -16.364488,
         "_deepnote_index_column": 204
        },
        {
         "x": 0.471889,
         "y": -18.115724,
         "_deepnote_index_column": 205
        },
        {
         "x": 0.651561,
         "y": -26.452484,
         "_deepnote_index_column": 206
        },
        {
         "x": 4.267453,
         "y": -12.429035,
         "_deepnote_index_column": 207
        },
        {
         "x": 0.198212,
         "y": -25.920143,
         "_deepnote_index_column": 208
        },
        {
         "x": 4.436573,
         "y": -12.88802,
         "_deepnote_index_column": 209
        },
        {
         "x": -1.176281,
         "y": -23.157294,
         "_deepnote_index_column": 210
        },
        {
         "x": -0.5597,
         "y": -19.314255,
         "_deepnote_index_column": 211
        },
        {
         "x": 0.394755,
         "y": -26.135023,
         "_deepnote_index_column": 212
        },
        {
         "x": -1.29237,
         "y": -24.137025,
         "_deepnote_index_column": 213
        },
        {
         "x": 7.17675,
         "y": -8.505011,
         "_deepnote_index_column": 214
        },
        {
         "x": -1.135433,
         "y": -23.57899,
         "_deepnote_index_column": 215
        },
        {
         "x": 2.658846,
         "y": -27.834155,
         "_deepnote_index_column": 216
        },
        {
         "x": -1.20912,
         "y": -24.061048,
         "_deepnote_index_column": 217
        },
        {
         "x": -1.399773,
         "y": -21.282423,
         "_deepnote_index_column": 218
        },
        {
         "x": -1.044856,
         "y": -24.784494,
         "_deepnote_index_column": 219
        },
        {
         "x": 2.020412,
         "y": -27.532302,
         "_deepnote_index_column": 220
        },
        {
         "x": 7.114853,
         "y": -9.053742,
         "_deepnote_index_column": 221
        },
        {
         "x": 3.767872,
         "y": -28.670627,
         "_deepnote_index_column": 222
        },
        {
         "x": -0.857282,
         "y": -22.049779,
         "_deepnote_index_column": 223
        },
        {
         "x": 5.479717,
         "y": -11.669664,
         "_deepnote_index_column": 224
        },
        {
         "x": 0.79252,
         "y": -26.286088,
         "_deepnote_index_column": 225
        },
        {
         "x": 1.470881,
         "y": -16.156775,
         "_deepnote_index_column": 226
        },
        {
         "x": 5.575333,
         "y": -10.853002,
         "_deepnote_index_column": 227
        },
        {
         "x": -0.124671,
         "y": -25.678397,
         "_deepnote_index_column": 228
        },
        {
         "x": -1.350769,
         "y": -20.082686,
         "_deepnote_index_column": 229
        },
        {
         "x": 7.103661,
         "y": -8.874584,
         "_deepnote_index_column": 230
        },
        {
         "x": 2.076862,
         "y": -15.899471,
         "_deepnote_index_column": 231
        },
        {
         "x": -0.512214,
         "y": -19.580807,
         "_deepnote_index_column": 232
        },
        {
         "x": -1.443593,
         "y": -20.11467,
         "_deepnote_index_column": 233
        },
        {
         "x": 4.846035,
         "y": -12.237463,
         "_deepnote_index_column": 234
        },
        {
         "x": -1.71278,
         "y": -21.095654,
         "_deepnote_index_column": 235
        },
        {
         "x": 2.204463,
         "y": -27.693282,
         "_deepnote_index_column": 236
        },
        {
         "x": 0.993162,
         "y": -26.405583,
         "_deepnote_index_column": 237
        },
        {
         "x": -1.36906,
         "y": -20.077003,
         "_deepnote_index_column": 238
        },
        {
         "x": 0.179566,
         "y": -25.718472,
         "_deepnote_index_column": 239
        },
        {
         "x": 8.19613,
         "y": -7.463373,
         "_deepnote_index_column": 240
        },
        {
         "x": -1.135197,
         "y": -21.987606,
         "_deepnote_index_column": 241
        },
        {
         "x": 5.350428,
         "y": -30.155989,
         "_deepnote_index_column": 242
        },
        {
         "x": 6.732127,
         "y": -9.323238,
         "_deepnote_index_column": 243
        },
        {
         "x": 4.66906,
         "y": -29.335903,
         "_deepnote_index_column": 244
        },
        {
         "x": 5.20676,
         "y": -11.874921,
         "_deepnote_index_column": 245
        },
        {
         "x": 1.907317,
         "y": -27.302766,
         "_deepnote_index_column": 246
        },
        {
         "x": 1.922248,
         "y": -16.063049,
         "_deepnote_index_column": 247
        },
        {
         "x": -1.086083,
         "y": -20.244487,
         "_deepnote_index_column": 248
        },
        {
         "x": 8.047737,
         "y": -7.80865,
         "_deepnote_index_column": 249
        },
        {
         "x": 1.080474,
         "y": -26.329033,
         "_deepnote_index_column": 250
        },
        {
         "x": -0.479325,
         "y": -19.05552,
         "_deepnote_index_column": 251
        },
        {
         "x": 0.934811,
         "y": -26.489995,
         "_deepnote_index_column": 252
        },
        {
         "x": -0.260211,
         "y": -25.717629,
         "_deepnote_index_column": 253
        },
        {
         "x": 1.070484,
         "y": -26.662889,
         "_deepnote_index_column": 254
        },
        {
         "x": 4.592058,
         "y": -12.522222,
         "_deepnote_index_column": 255
        },
        {
         "x": 7.42526,
         "y": -31.365227,
         "_deepnote_index_column": 256
        }
       ],
       "rows_bottom": [
        {
         "x": 7.050347,
         "y": -9.450412,
         "_deepnote_index_column": 1234
        },
        {
         "x": -1.27729,
         "y": -20.000542,
         "_deepnote_index_column": 1235
        },
        {
         "x": 6.606358,
         "y": -9.723392,
         "_deepnote_index_column": 1236
        },
        {
         "x": 3.750054,
         "y": -28.768541,
         "_deepnote_index_column": 1237
        },
        {
         "x": 5.764865,
         "y": -10.740558,
         "_deepnote_index_column": 1238
        },
        {
         "x": 6.325263,
         "y": -10.151004,
         "_deepnote_index_column": 1239
        },
        {
         "x": 5.029772,
         "y": -29.666627,
         "_deepnote_index_column": 1240
        },
        {
         "x": -1.763545,
         "y": -21.039843,
         "_deepnote_index_column": 1241
        },
        {
         "x": 0.212338,
         "y": -17.981032,
         "_deepnote_index_column": 1242
        },
        {
         "x": 0.075927,
         "y": -25.923132,
         "_deepnote_index_column": 1243
        },
        {
         "x": 0.446021,
         "y": -17.764442,
         "_deepnote_index_column": 1244
        },
        {
         "x": 1.137574,
         "y": -16.761315,
         "_deepnote_index_column": 1245
        },
        {
         "x": 6.264945,
         "y": -9.957473,
         "_deepnote_index_column": 1246
        },
        {
         "x": 4.247095,
         "y": -29.056391,
         "_deepnote_index_column": 1247
        },
        {
         "x": 2.554442,
         "y": -15.162399,
         "_deepnote_index_column": 1248
        },
        {
         "x": 7.30169,
         "y": -8.753531,
         "_deepnote_index_column": 1249
        },
        {
         "x": 1.900477,
         "y": -27.389159,
         "_deepnote_index_column": 1250
        },
        {
         "x": 0.900169,
         "y": -26.886181,
         "_deepnote_index_column": 1251
        },
        {
         "x": 4.459832,
         "y": -13.300278,
         "_deepnote_index_column": 1252
        },
        {
         "x": -0.668085,
         "y": -19.765391,
         "_deepnote_index_column": 1253
        },
        {
         "x": 5.833467,
         "y": -10.552202,
         "_deepnote_index_column": 1254
        },
        {
         "x": 3.7502,
         "y": -28.534107,
         "_deepnote_index_column": 1255
        },
        {
         "x": 7.388983,
         "y": -31.500828,
         "_deepnote_index_column": 1256
        },
        {
         "x": 6.5521,
         "y": -9.86036,
         "_deepnote_index_column": 1257
        },
        {
         "x": 2.858269,
         "y": -14.572669,
         "_deepnote_index_column": 1258
        },
        {
         "x": 5.459302,
         "y": -30.060625,
         "_deepnote_index_column": 1259
        },
        {
         "x": 2.529762,
         "y": -15.574453,
         "_deepnote_index_column": 1260
        },
        {
         "x": 4.491718,
         "y": -12.69627,
         "_deepnote_index_column": 1261
        },
        {
         "x": 6.516293,
         "y": -31.042257,
         "_deepnote_index_column": 1262
        },
        {
         "x": 1.978595,
         "y": -15.374898,
         "_deepnote_index_column": 1263
        },
        {
         "x": 5.395414,
         "y": -30.170643,
         "_deepnote_index_column": 1264
        },
        {
         "x": 3.248212,
         "y": -28.286703,
         "_deepnote_index_column": 1265
        },
        {
         "x": 0.941271,
         "y": -16.630858,
         "_deepnote_index_column": 1266
        },
        {
         "x": 4.192149,
         "y": -29.059339,
         "_deepnote_index_column": 1267
        },
        {
         "x": 0.213734,
         "y": -18.230532,
         "_deepnote_index_column": 1268
        },
        {
         "x": 4.788037,
         "y": -12.296968,
         "_deepnote_index_column": 1269
        },
        {
         "x": -1.473255,
         "y": -21.509873,
         "_deepnote_index_column": 1270
        },
        {
         "x": 5.743294,
         "y": -30.345648,
         "_deepnote_index_column": 1271
        },
        {
         "x": 4.82495,
         "y": -11.459059,
         "_deepnote_index_column": 1272
        },
        {
         "x": 0.780075,
         "y": -17.729859,
         "_deepnote_index_column": 1273
        },
        {
         "x": 2.796805,
         "y": -14.755353,
         "_deepnote_index_column": 1274
        },
        {
         "x": 3.850811,
         "y": -13.476703,
         "_deepnote_index_column": 1275
        },
        {
         "x": 7.734854,
         "y": -7.773813,
         "_deepnote_index_column": 1276
        },
        {
         "x": 3.701516,
         "y": -13.48049,
         "_deepnote_index_column": 1277
        },
        {
         "x": 4.249739,
         "y": -13.090339,
         "_deepnote_index_column": 1278
        },
        {
         "x": 0.507408,
         "y": -25.917899,
         "_deepnote_index_column": 1279
        },
        {
         "x": 5.637088,
         "y": -11.203793,
         "_deepnote_index_column": 1280
        },
        {
         "x": 8.226583,
         "y": -7.437321,
         "_deepnote_index_column": 1281
        },
        {
         "x": 3.511947,
         "y": -28.677615,
         "_deepnote_index_column": 1282
        },
        {
         "x": 1.299723,
         "y": -26.885766,
         "_deepnote_index_column": 1283
        },
        {
         "x": 4.644593,
         "y": -12.750806,
         "_deepnote_index_column": 1284
        },
        {
         "x": 8.024896,
         "y": -31.773589,
         "_deepnote_index_column": 1285
        },
        {
         "x": -0.935458,
         "y": -19.746898,
         "_deepnote_index_column": 1286
        },
        {
         "x": 1.534612,
         "y": -16.772701,
         "_deepnote_index_column": 1287
        },
        {
         "x": 1.360059,
         "y": -16.825614,
         "_deepnote_index_column": 1288
        },
        {
         "x": 0.871142,
         "y": -16.988743,
         "_deepnote_index_column": 1289
        },
        {
         "x": 3.336336,
         "y": -28.290816,
         "_deepnote_index_column": 1290
        },
        {
         "x": 6.209547,
         "y": -30.885106,
         "_deepnote_index_column": 1291
        },
        {
         "x": 5.329543,
         "y": -11.707493,
         "_deepnote_index_column": 1292
        },
        {
         "x": -1.276656,
         "y": -20.361455,
         "_deepnote_index_column": 1293
        },
        {
         "x": 0.579757,
         "y": -26.226496,
         "_deepnote_index_column": 1294
        },
        {
         "x": 3.973653,
         "y": -13.160725,
         "_deepnote_index_column": 1295
        },
        {
         "x": 5.987061,
         "y": -10.76117,
         "_deepnote_index_column": 1296
        },
        {
         "x": 0.63297,
         "y": -18.230227,
         "_deepnote_index_column": 1297
        },
        {
         "x": -1.897523,
         "y": -20.348771,
         "_deepnote_index_column": 1298
        },
        {
         "x": 7.883015,
         "y": -8.199198,
         "_deepnote_index_column": 1299
        },
        {
         "x": 1.418787,
         "y": -16.693913,
         "_deepnote_index_column": 1300
        },
        {
         "x": 0.041186,
         "y": -18.555954,
         "_deepnote_index_column": 1301
        },
        {
         "x": -1.228176,
         "y": -22.297924,
         "_deepnote_index_column": 1302
        },
        {
         "x": 3.250972,
         "y": -28.480957,
         "_deepnote_index_column": 1303
        },
        {
         "x": 5.632804,
         "y": -11.260273,
         "_deepnote_index_column": 1304
        },
        {
         "x": 7.134645,
         "y": -8.89351,
         "_deepnote_index_column": 1305
        },
        {
         "x": -2.100573,
         "y": -20.904462,
         "_deepnote_index_column": 1306
        },
        {
         "x": -0.446075,
         "y": -19.416515,
         "_deepnote_index_column": 1307
        },
        {
         "x": 3.426644,
         "y": -13.83698,
         "_deepnote_index_column": 1308
        },
        {
         "x": 6.30673,
         "y": -10.009416,
         "_deepnote_index_column": 1309
        },
        {
         "x": 1.420802,
         "y": -16.224163,
         "_deepnote_index_column": 1310
        },
        {
         "x": 3.317032,
         "y": -28.4239,
         "_deepnote_index_column": 1311
        },
        {
         "x": 1.086544,
         "y": -26.330419,
         "_deepnote_index_column": 1312
        },
        {
         "x": -0.015475,
         "y": -25.685208,
         "_deepnote_index_column": 1313
        },
        {
         "x": 7.018572,
         "y": -9.301112,
         "_deepnote_index_column": 1314
        },
        {
         "x": 3.780775,
         "y": -13.58864,
         "_deepnote_index_column": 1315
        },
        {
         "x": 0.715269,
         "y": -17.798934,
         "_deepnote_index_column": 1316
        },
        {
         "x": 1.131763,
         "y": -17.159846,
         "_deepnote_index_column": 1317
        },
        {
         "x": 3.835525,
         "y": -28.705838,
         "_deepnote_index_column": 1318
        },
        {
         "x": 4.319027,
         "y": -12.539724,
         "_deepnote_index_column": 1319
        },
        {
         "x": 6.906039,
         "y": -31.120735,
         "_deepnote_index_column": 1320
        },
        {
         "x": 1.319973,
         "y": -16.923438,
         "_deepnote_index_column": 1321
        },
        {
         "x": 0.049001,
         "y": -18.448077,
         "_deepnote_index_column": 1322
        },
        {
         "x": 5.795832,
         "y": -11.274166,
         "_deepnote_index_column": 1323
        },
        {
         "x": 7.091376,
         "y": -9.040884,
         "_deepnote_index_column": 1324
        },
        {
         "x": 1.690808,
         "y": -27.444691,
         "_deepnote_index_column": 1325
        },
        {
         "x": 6.759268,
         "y": -30.946771,
         "_deepnote_index_column": 1326
        },
        {
         "x": -0.988531,
         "y": -24.469533,
         "_deepnote_index_column": 1327
        },
        {
         "x": 5.910475,
         "y": -30.4937,
         "_deepnote_index_column": 1328
        },
        {
         "x": 7.443592,
         "y": -8.594432,
         "_deepnote_index_column": 1329
        },
        {
         "x": 4.764602,
         "y": -29.378974,
         "_deepnote_index_column": 1330
        },
        {
         "x": 0.578011,
         "y": -26.264894,
         "_deepnote_index_column": 1331
        },
        {
         "x": -0.399178,
         "y": -25.519196,
         "_deepnote_index_column": 1332
        },
        {
         "x": 2.424761,
         "y": -15.169532,
         "_deepnote_index_column": 1333
        },
        {
         "x": -1.495859,
         "y": -20.718019,
         "_deepnote_index_column": 1334
        },
        {
         "x": 0.801179,
         "y": -17.465253,
         "_deepnote_index_column": 1335
        },
        {
         "x": 0.81488,
         "y": -17.315782,
         "_deepnote_index_column": 1336
        },
        {
         "x": 1.15256,
         "y": -27.074408,
         "_deepnote_index_column": 1337
        },
        {
         "x": -0.259981,
         "y": -18.612466,
         "_deepnote_index_column": 1338
        },
        {
         "x": 6.104503,
         "y": -10.177714,
         "_deepnote_index_column": 1339
        },
        {
         "x": 5.69019,
         "y": -10.84834,
         "_deepnote_index_column": 1340
        },
        {
         "x": 4.891149,
         "y": -11.920932,
         "_deepnote_index_column": 1341
        },
        {
         "x": 6.804214,
         "y": -9.630442,
         "_deepnote_index_column": 1342
        },
        {
         "x": 7.978989,
         "y": -7.679825,
         "_deepnote_index_column": 1343
        },
        {
         "x": 3.155658,
         "y": -14.257953,
         "_deepnote_index_column": 1344
        },
        {
         "x": 7.78865,
         "y": -8.270883,
         "_deepnote_index_column": 1345
        },
        {
         "x": -1.305251,
         "y": -21.581303,
         "_deepnote_index_column": 1346
        },
        {
         "x": 7.570858,
         "y": -8.411421,
         "_deepnote_index_column": 1347
        },
        {
         "x": 1.627359,
         "y": -16.375934,
         "_deepnote_index_column": 1348
        },
        {
         "x": 2.743056,
         "y": -15.069159,
         "_deepnote_index_column": 1349
        },
        {
         "x": 3.868733,
         "y": -28.773461,
         "_deepnote_index_column": 1350
        },
        {
         "x": 5.1106,
         "y": -29.765917,
         "_deepnote_index_column": 1351
        },
        {
         "x": 1.446111,
         "y": -16.576593,
         "_deepnote_index_column": 1352
        },
        {
         "x": -1.876871,
         "y": -21.171443,
         "_deepnote_index_column": 1353
        },
        {
         "x": 7.063758,
         "y": -31.148566,
         "_deepnote_index_column": 1354
        },
        {
         "x": 2.077299,
         "y": -27.374149,
         "_deepnote_index_column": 1355
        },
        {
         "x": 3.169242,
         "y": -28.22566,
         "_deepnote_index_column": 1356
        },
        {
         "x": 7.95575,
         "y": -7.789629,
         "_deepnote_index_column": 1357
        },
        {
         "x": 5.509821,
         "y": -30.325154,
         "_deepnote_index_column": 1358
        },
        {
         "x": 3.438586,
         "y": -28.436321,
         "_deepnote_index_column": 1359
        },
        {
         "x": 5.121286,
         "y": -29.950819,
         "_deepnote_index_column": 1360
        },
        {
         "x": 4.789164,
         "y": -11.729194,
         "_deepnote_index_column": 1361
        },
        {
         "x": 5.173917,
         "y": -11.592828,
         "_deepnote_index_column": 1362
        },
        {
         "x": 2.388948,
         "y": -15.695383,
         "_deepnote_index_column": 1363
        },
        {
         "x": 4.252304,
         "y": -12.945758,
         "_deepnote_index_column": 1364
        },
        {
         "x": 4.994005,
         "y": -11.782713,
         "_deepnote_index_column": 1365
        },
        {
         "x": 3.612969,
         "y": -13.83288,
         "_deepnote_index_column": 1366
        },
        {
         "x": 6.300541,
         "y": -10.377767,
         "_deepnote_index_column": 1367
        },
        {
         "x": 6.122457,
         "y": -10.557587,
         "_deepnote_index_column": 1368
        },
        {
         "x": 3.513258,
         "y": -14.293118,
         "_deepnote_index_column": 1369
        },
        {
         "x": -0.77126,
         "y": -19.419925,
         "_deepnote_index_column": 1370
        },
        {
         "x": -0.320861,
         "y": -18.795224,
         "_deepnote_index_column": 1371
        },
        {
         "x": 3.729438,
         "y": -28.655348,
         "_deepnote_index_column": 1372
        },
        {
         "x": 0.48684,
         "y": -26.109263,
         "_deepnote_index_column": 1373
        },
        {
         "x": 5.787431,
         "y": -10.980089,
         "_deepnote_index_column": 1374
        },
        {
         "x": 5.764575,
         "y": -30.382334,
         "_deepnote_index_column": 1375
        },
        {
         "x": 7.43365,
         "y": -8.572454,
         "_deepnote_index_column": 1376
        },
        {
         "x": 0.850036,
         "y": -26.375483,
         "_deepnote_index_column": 1377
        },
        {
         "x": -0.645761,
         "y": -19.876424,
         "_deepnote_index_column": 1378
        },
        {
         "x": -1.064326,
         "y": -22.513811,
         "_deepnote_index_column": 1379
        },
        {
         "x": 2.140038,
         "y": -27.701122,
         "_deepnote_index_column": 1380
        },
        {
         "x": 6.727242,
         "y": -9.322785,
         "_deepnote_index_column": 1381
        },
        {
         "x": 0.284312,
         "y": -26.213356,
         "_deepnote_index_column": 1382
        },
        {
         "x": 3.570603,
         "y": -13.398453,
         "_deepnote_index_column": 1383
        },
        {
         "x": 8.133912,
         "y": -7.65617,
         "_deepnote_index_column": 1384
        },
        {
         "x": 3.841025,
         "y": -13.294132,
         "_deepnote_index_column": 1385
        },
        {
         "x": 4.034522,
         "y": -13.010365,
         "_deepnote_index_column": 1386
        },
        {
         "x": 7.766747,
         "y": -7.792214,
         "_deepnote_index_column": 1387
        },
        {
         "x": 2.930942,
         "y": -14.744976,
         "_deepnote_index_column": 1388
        },
        {
         "x": 4.575308,
         "y": -29.208292,
         "_deepnote_index_column": 1389
        },
        {
         "x": -0.584138,
         "y": -19.60275,
         "_deepnote_index_column": 1390
        },
        {
         "x": -0.483557,
         "y": -25.522055,
         "_deepnote_index_column": 1391
        },
        {
         "x": -1.122199,
         "y": -19.996128,
         "_deepnote_index_column": 1392
        },
        {
         "x": 4.807068,
         "y": -11.842392,
         "_deepnote_index_column": 1393
        },
        {
         "x": 0.885167,
         "y": -26.22231,
         "_deepnote_index_column": 1394
        },
        {
         "x": 0.938102,
         "y": -17.464286,
         "_deepnote_index_column": 1395
        },
        {
         "x": -0.210633,
         "y": -18.764242,
         "_deepnote_index_column": 1396
        },
        {
         "x": -0.594296,
         "y": -24.997263,
         "_deepnote_index_column": 1397
        },
        {
         "x": 5.476622,
         "y": -30.104115,
         "_deepnote_index_column": 1398
        },
        {
         "x": -1.294148,
         "y": -20.322049,
         "_deepnote_index_column": 1399
        },
        {
         "x": 7.066572,
         "y": -8.87747,
         "_deepnote_index_column": 1400
        },
        {
         "x": 5.922964,
         "y": -11.010345,
         "_deepnote_index_column": 1401
        },
        {
         "x": 4.139082,
         "y": -13.208596,
         "_deepnote_index_column": 1402
        },
        {
         "x": 2.268089,
         "y": -27.926893,
         "_deepnote_index_column": 1403
        },
        {
         "x": 6.40445,
         "y": -9.880898,
         "_deepnote_index_column": 1404
        },
        {
         "x": 7.615708,
         "y": -8.04389,
         "_deepnote_index_column": 1405
        },
        {
         "x": -1.131013,
         "y": -21.789095,
         "_deepnote_index_column": 1406
        },
        {
         "x": 0.392572,
         "y": -17.979365,
         "_deepnote_index_column": 1407
        },
        {
         "x": 5.532623,
         "y": -10.997476,
         "_deepnote_index_column": 1408
        },
        {
         "x": -1.61166,
         "y": -20.035064,
         "_deepnote_index_column": 1409
        },
        {
         "x": 7.44004,
         "y": -8.791622,
         "_deepnote_index_column": 1410
        },
        {
         "x": -1.621985,
         "y": -20.999908,
         "_deepnote_index_column": 1411
        },
        {
         "x": 7.803512,
         "y": -7.910395,
         "_deepnote_index_column": 1412
        },
        {
         "x": -1.776699,
         "y": -20.618424,
         "_deepnote_index_column": 1413
        },
        {
         "x": 2.783611,
         "y": -27.966956,
         "_deepnote_index_column": 1414
        },
        {
         "x": 4.302496,
         "y": -12.804836,
         "_deepnote_index_column": 1415
        },
        {
         "x": 3.059787,
         "y": -14.626728,
         "_deepnote_index_column": 1416
        },
        {
         "x": 2.465314,
         "y": -27.629739,
         "_deepnote_index_column": 1417
        },
        {
         "x": -1.589535,
         "y": -20.835673,
         "_deepnote_index_column": 1418
        },
        {
         "x": -1.069553,
         "y": -21.882327,
         "_deepnote_index_column": 1419
        },
        {
         "x": 5.895656,
         "y": -30.486787,
         "_deepnote_index_column": 1420
        },
        {
         "x": -0.060785,
         "y": -25.761822,
         "_deepnote_index_column": 1421
        },
        {
         "x": 7.136961,
         "y": -9.012938,
         "_deepnote_index_column": 1422
        },
        {
         "x": -1.306772,
         "y": -22.494342,
         "_deepnote_index_column": 1423
        },
        {
         "x": -1.422829,
         "y": -22.961739,
         "_deepnote_index_column": 1424
        },
        {
         "x": 3.887898,
         "y": -28.662415,
         "_deepnote_index_column": 1425
        },
        {
         "x": 3.616159,
         "y": -13.716565,
         "_deepnote_index_column": 1426
        },
        {
         "x": -0.202946,
         "y": -18.780732,
         "_deepnote_index_column": 1427
        },
        {
         "x": 1.372883,
         "y": -26.747544,
         "_deepnote_index_column": 1428
        },
        {
         "x": 0.852371,
         "y": -17.704908,
         "_deepnote_index_column": 1429
        },
        {
         "x": -0.056994,
         "y": -25.801359,
         "_deepnote_index_column": 1430
        },
        {
         "x": 4.46923,
         "y": -13.020044,
         "_deepnote_index_column": 1431
        },
        {
         "x": 0.537029,
         "y": -17.885689,
         "_deepnote_index_column": 1432
        },
        {
         "x": 4.587355,
         "y": -12.704966,
         "_deepnote_index_column": 1433
        },
        {
         "x": -1.464524,
         "y": -21.540325,
         "_deepnote_index_column": 1434
        },
        {
         "x": 7.579391,
         "y": -8.451532,
         "_deepnote_index_column": 1435
        },
        {
         "x": 4.792694,
         "y": -29.411195,
         "_deepnote_index_column": 1436
        },
        {
         "x": 4.483801,
         "y": -12.387433,
         "_deepnote_index_column": 1437
        },
        {
         "x": -1.037623,
         "y": -23.954318,
         "_deepnote_index_column": 1438
        },
        {
         "x": 6.002163,
         "y": -10.450867,
         "_deepnote_index_column": 1439
        },
        {
         "x": 7.103893,
         "y": -31.162483,
         "_deepnote_index_column": 1440
        },
        {
         "x": -1.711105,
         "y": -23.760971,
         "_deepnote_index_column": 1441
        },
        {
         "x": 3.380092,
         "y": -28.418381,
         "_deepnote_index_column": 1442
        },
        {
         "x": 6.230908,
         "y": -30.677252,
         "_deepnote_index_column": 1443
        },
        {
         "x": 3.199494,
         "y": -14.459853,
         "_deepnote_index_column": 1444
        },
        {
         "x": 7.179025,
         "y": -31.530941,
         "_deepnote_index_column": 1445
        },
        {
         "x": 3.405571,
         "y": -13.90233,
         "_deepnote_index_column": 1446
        },
        {
         "x": 7.539325,
         "y": -8.737763,
         "_deepnote_index_column": 1447
        },
        {
         "x": 1.628667,
         "y": -27.264039,
         "_deepnote_index_column": 1448
        },
        {
         "x": 3.536261,
         "y": -14.089104,
         "_deepnote_index_column": 1449
        },
        {
         "x": 3.94079,
         "y": -14.007004,
         "_deepnote_index_column": 1450
        },
        {
         "x": 3.931287,
         "y": -13.33391,
         "_deepnote_index_column": 1451
        },
        {
         "x": -0.008339,
         "y": -25.636546,
         "_deepnote_index_column": 1452
        },
        {
         "x": 4.280597,
         "y": -12.654841,
         "_deepnote_index_column": 1453
        },
        {
         "x": 2.000444,
         "y": -15.407474,
         "_deepnote_index_column": 1454
        },
        {
         "x": 5.922609,
         "y": -11.019454,
         "_deepnote_index_column": 1455
        },
        {
         "x": 6.216924,
         "y": -9.898958,
         "_deepnote_index_column": 1456
        },
        {
         "x": -0.430964,
         "y": -19.098442,
         "_deepnote_index_column": 1457
        },
        {
         "x": 6.940963,
         "y": -9.44065,
         "_deepnote_index_column": 1458
        },
        {
         "x": -0.568219,
         "y": -19.217315,
         "_deepnote_index_column": 1459
        },
        {
         "x": 1.417946,
         "y": -27.225021,
         "_deepnote_index_column": 1460
        },
        {
         "x": 3.147682,
         "y": -14.182717,
         "_deepnote_index_column": 1461
        },
        {
         "x": 4.277245,
         "y": -28.988714,
         "_deepnote_index_column": 1462
        },
        {
         "x": -0.490943,
         "y": -19.150876,
         "_deepnote_index_column": 1463
        },
        {
         "x": 0.01771,
         "y": -25.79824,
         "_deepnote_index_column": 1464
        },
        {
         "x": 2.747962,
         "y": -14.990202,
         "_deepnote_index_column": 1465
        },
        {
         "x": 1.136756,
         "y": -17.058411,
         "_deepnote_index_column": 1466
        },
        {
         "x": 6.475922,
         "y": -30.856942,
         "_deepnote_index_column": 1467
        },
        {
         "x": 0.517376,
         "y": -26.338423,
         "_deepnote_index_column": 1468
        },
        {
         "x": 4.276272,
         "y": -13.494504,
         "_deepnote_index_column": 1469
        },
        {
         "x": -0.459987,
         "y": -18.87725,
         "_deepnote_index_column": 1470
        },
        {
         "x": 7.91137,
         "y": -8.073921,
         "_deepnote_index_column": 1471
        },
        {
         "x": 3.09335,
         "y": -14.192742,
         "_deepnote_index_column": 1472
        },
        {
         "x": -1.278724,
         "y": -21.049334,
         "_deepnote_index_column": 1473
        },
        {
         "x": 4.231259,
         "y": -12.819464,
         "_deepnote_index_column": 1474
        },
        {
         "x": 0.194739,
         "y": -25.710983,
         "_deepnote_index_column": 1475
        },
        {
         "x": 4.243681,
         "y": -12.754707,
         "_deepnote_index_column": 1476
        },
        {
         "x": -0.52659,
         "y": -24.52859,
         "_deepnote_index_column": 1477
        },
        {
         "x": 4.011767,
         "y": -28.93716,
         "_deepnote_index_column": 1478
        },
        {
         "x": 4.587862,
         "y": -29.743108,
         "_deepnote_index_column": 1479
        },
        {
         "x": -0.961247,
         "y": -19.418516,
         "_deepnote_index_column": 1480
        },
        {
         "x": 4.247799,
         "y": -29.460539,
         "_deepnote_index_column": 1481
        },
        {
         "x": -1.417041,
         "y": -21.391002,
         "_deepnote_index_column": 1482
        },
        {
         "x": 5.768213,
         "y": -10.987004,
         "_deepnote_index_column": 1483
        }
       ]
      },
      "text/plain": "             x          y\n7     7.187592  -8.768943\n8     0.170888 -25.895562\n9     4.167006 -29.062891\n10    7.259387 -31.529549\n11    5.941430 -30.540759\n...        ...        ...\n1479  4.587862 -29.743108\n1480 -0.961247 -19.418516\n1481  4.247799 -29.460539\n1482 -1.417041 -21.391002\n1483  5.768213 -10.987004\n\n[1477 rows x 2 columns]",
      "text/html": "<div>\n<style scoped>\n    .dataframe tbody tr th:only-of-type {\n        vertical-align: middle;\n    }\n\n    .dataframe tbody tr th {\n        vertical-align: top;\n    }\n\n    .dataframe thead th {\n        text-align: right;\n    }\n</style>\n<table border=\"1\" class=\"dataframe\">\n  <thead>\n    <tr style=\"text-align: right;\">\n      <th></th>\n      <th>x</th>\n      <th>y</th>\n    </tr>\n  </thead>\n  <tbody>\n    <tr>\n      <th>7</th>\n      <td>7.187592</td>\n      <td>-8.768943</td>\n    </tr>\n    <tr>\n      <th>8</th>\n      <td>0.170888</td>\n      <td>-25.895562</td>\n    </tr>\n    <tr>\n      <th>9</th>\n      <td>4.167006</td>\n      <td>-29.062891</td>\n    </tr>\n    <tr>\n      <th>10</th>\n      <td>7.259387</td>\n      <td>-31.529549</td>\n    </tr>\n    <tr>\n      <th>11</th>\n      <td>5.941430</td>\n      <td>-30.540759</td>\n    </tr>\n    <tr>\n      <th>...</th>\n      <td>...</td>\n      <td>...</td>\n    </tr>\n    <tr>\n      <th>1479</th>\n      <td>4.587862</td>\n      <td>-29.743108</td>\n    </tr>\n    <tr>\n      <th>1480</th>\n      <td>-0.961247</td>\n      <td>-19.418516</td>\n    </tr>\n    <tr>\n      <th>1481</th>\n      <td>4.247799</td>\n      <td>-29.460539</td>\n    </tr>\n    <tr>\n      <th>1482</th>\n      <td>-1.417041</td>\n      <td>-21.391002</td>\n    </tr>\n    <tr>\n      <th>1483</th>\n      <td>5.768213</td>\n      <td>-10.987004</td>\n    </tr>\n  </tbody>\n</table>\n<p>1477 rows × 2 columns</p>\n</div>"
     },
     "metadata": {}
    }
   ]
  },
  {
   "cell_type": "code",
   "metadata": {
    "cell_id": "00007-62ac19f2-efb0-4421-ad3e-eedfbfee428e",
    "deepnote_to_be_reexecuted": false,
    "source_hash": "f804c160",
    "execution_start": 1638869636423,
    "execution_millis": 69,
    "deepnote_output_heights": [
     382.1875
    ],
    "deepnote_cell_type": "code"
   },
   "source": "df",
   "execution_count": null,
   "outputs": [
    {
     "output_type": "execute_result",
     "execution_count": 4,
     "data": {
      "application/vnd.deepnote.dataframe.v2+json": {
       "row_count": 1477,
       "column_count": 13,
       "columns": [
        {
         "name": "idx",
         "dtype": "object",
         "stats": {
          "unique_count": 1477,
          "nan_count": 0,
          "categories": [
           {
            "name": "1",
            "count": 1
           },
           {
            "name": "2",
            "count": 1
           },
           {
            "name": "1475 others",
            "count": 1475
           }
          ]
         }
        },
        {
         "name": "f1",
         "dtype": "float64",
         "stats": {
          "unique_count": 1477,
          "nan_count": 0,
          "min": "-2.526427",
          "max": "2.501544",
          "histogram": [
           {
            "bin_start": -2.526427,
            "bin_end": -2.0236299,
            "count": 8
           },
           {
            "bin_start": -2.0236299,
            "bin_end": -1.5208328,
            "count": 30
           },
           {
            "bin_start": -1.5208328,
            "bin_end": -1.0180357,
            "count": 94
           },
           {
            "bin_start": -1.0180357,
            "bin_end": -0.5152386,
            "count": 174
           },
           {
            "bin_start": -0.5152386,
            "bin_end": -0.012441499999999994,
            "count": 292
           },
           {
            "bin_start": -0.012441499999999994,
            "bin_end": 0.4903556,
            "count": 311
           },
           {
            "bin_start": 0.4903556,
            "bin_end": 0.9931527,
            "count": 238
           },
           {
            "bin_start": 0.9931527,
            "bin_end": 1.4959498,
            "count": 139
           },
           {
            "bin_start": 1.4959498,
            "bin_end": 1.9987469000000004,
            "count": 137
           },
           {
            "bin_start": 1.9987469000000004,
            "bin_end": 2.501544,
            "count": 54
           }
          ]
         }
        },
        {
         "name": "f2",
         "dtype": "float64",
         "stats": {
          "unique_count": 1477,
          "nan_count": 0,
          "min": "-1.918939",
          "max": "2.464911",
          "histogram": [
           {
            "bin_start": -1.918939,
            "bin_end": -1.480554,
            "count": 36
           },
           {
            "bin_start": -1.480554,
            "bin_end": -1.042169,
            "count": 211
           },
           {
            "bin_start": -1.042169,
            "bin_end": -0.6037840000000001,
            "count": 283
           },
           {
            "bin_start": -0.6037840000000001,
            "bin_end": -0.16539900000000007,
            "count": 144
           },
           {
            "bin_start": -0.16539900000000007,
            "bin_end": 0.27298599999999995,
            "count": 138
           },
           {
            "bin_start": 0.27298599999999995,
            "bin_end": 0.7113709999999998,
            "count": 271
           },
           {
            "bin_start": 0.7113709999999998,
            "bin_end": 1.149756,
            "count": 194
           },
           {
            "bin_start": 1.149756,
            "bin_end": 1.5881409999999998,
            "count": 157
           },
           {
            "bin_start": 1.5881409999999998,
            "bin_end": 2.0265259999999996,
            "count": 39
           },
           {
            "bin_start": 2.0265259999999996,
            "bin_end": 2.464911,
            "count": 4
           }
          ]
         }
        },
        {
         "name": "f3",
         "dtype": "float64",
         "stats": {
          "unique_count": 1477,
          "nan_count": 0,
          "min": "-2.42089",
          "max": "2.329639",
          "histogram": [
           {
            "bin_start": -2.42089,
            "bin_end": -1.9458370999999999,
            "count": 16
           },
           {
            "bin_start": -1.9458370999999999,
            "bin_end": -1.4707842,
            "count": 67
           },
           {
            "bin_start": -1.4707842,
            "bin_end": -0.9957313000000001,
            "count": 185
           },
           {
            "bin_start": -0.9957313000000001,
            "bin_end": -0.5206784,
            "count": 203
           },
           {
            "bin_start": -0.5206784,
            "bin_end": -0.045625499999999874,
            "count": 180
           },
           {
            "bin_start": -0.045625499999999874,
            "bin_end": 0.4294273999999998,
            "count": 188
           },
           {
            "bin_start": 0.4294273999999998,
            "bin_end": 0.9044802999999999,
            "count": 206
           },
           {
            "bin_start": 0.9044802999999999,
            "bin_end": 1.3795332,
            "count": 224
           },
           {
            "bin_start": 1.3795332,
            "bin_end": 1.8545860999999997,
            "count": 173
           },
           {
            "bin_start": 1.8545860999999997,
            "bin_end": 2.329639,
            "count": 35
           }
          ]
         }
        },
        {
         "name": "f4",
         "dtype": "float64",
         "stats": {
          "unique_count": 1477,
          "nan_count": 0,
          "min": "-1.946351",
          "max": "2.327658",
          "histogram": [
           {
            "bin_start": -1.946351,
            "bin_end": -1.5189501,
            "count": 48
           },
           {
            "bin_start": -1.5189501,
            "bin_end": -1.0915492,
            "count": 216
           },
           {
            "bin_start": -1.0915492,
            "bin_end": -0.6641482999999999,
            "count": 205
           },
           {
            "bin_start": -0.6641482999999999,
            "bin_end": -0.23674740000000005,
            "count": 147
           },
           {
            "bin_start": -0.23674740000000005,
            "bin_end": 0.1906534999999998,
            "count": 138
           },
           {
            "bin_start": 0.1906534999999998,
            "bin_end": 0.6180544000000001,
            "count": 204
           },
           {
            "bin_start": 0.6180544000000001,
            "bin_end": 1.0454553,
            "count": 234
           },
           {
            "bin_start": 1.0454553,
            "bin_end": 1.4728561999999998,
            "count": 206
           },
           {
            "bin_start": 1.4728561999999998,
            "bin_end": 1.9002570999999997,
            "count": 75
           },
           {
            "bin_start": 1.9002570999999997,
            "bin_end": 2.327658,
            "count": 4
           }
          ]
         }
        },
        {
         "name": "f5",
         "dtype": "float64",
         "stats": {
          "unique_count": 1476,
          "nan_count": 0,
          "min": "-1.897417",
          "max": "1.885105",
          "histogram": [
           {
            "bin_start": -1.897417,
            "bin_end": -1.5191648,
            "count": 24
           },
           {
            "bin_start": -1.5191648,
            "bin_end": -1.1409125999999998,
            "count": 129
           },
           {
            "bin_start": -1.1409125999999998,
            "bin_end": -0.7626603999999997,
            "count": 242
           },
           {
            "bin_start": -0.7626603999999997,
            "bin_end": -0.38440819999999976,
            "count": 224
           },
           {
            "bin_start": -0.38440819999999976,
            "bin_end": -0.006155999999999828,
            "count": 126
           },
           {
            "bin_start": -0.006155999999999828,
            "bin_end": 0.37209620000000054,
            "count": 185
           },
           {
            "bin_start": 0.37209620000000054,
            "bin_end": 0.7503484000000005,
            "count": 266
           },
           {
            "bin_start": 0.7503484000000005,
            "bin_end": 1.1286006000000004,
            "count": 188
           },
           {
            "bin_start": 1.1286006000000004,
            "bin_end": 1.5068528000000003,
            "count": 74
           },
           {
            "bin_start": 1.5068528000000003,
            "bin_end": 1.885105,
            "count": 19
           }
          ]
         }
        },
        {
         "name": "f6",
         "dtype": "float64",
         "stats": {
          "unique_count": 1477,
          "nan_count": 0,
          "min": "-2.040401",
          "max": "2.282652",
          "histogram": [
           {
            "bin_start": -2.040401,
            "bin_end": -1.6080957000000002,
            "count": 34
           },
           {
            "bin_start": -1.6080957000000002,
            "bin_end": -1.1757904000000001,
            "count": 131
           },
           {
            "bin_start": -1.1757904000000001,
            "bin_end": -0.7434851,
            "count": 245
           },
           {
            "bin_start": -0.7434851,
            "bin_end": -0.3111798000000001,
            "count": 168
           },
           {
            "bin_start": -0.3111798000000001,
            "bin_end": 0.12112549999999978,
            "count": 143
           },
           {
            "bin_start": 0.12112549999999978,
            "bin_end": 0.5534308000000001,
            "count": 152
           },
           {
            "bin_start": 0.5534308000000001,
            "bin_end": 0.9857361,
            "count": 197
           },
           {
            "bin_start": 0.9857361,
            "bin_end": 1.4180414,
            "count": 251
           },
           {
            "bin_start": 1.4180414,
            "bin_end": 1.8503466999999998,
            "count": 114
           },
           {
            "bin_start": 1.8503466999999998,
            "bin_end": 2.282652,
            "count": 42
           }
          ]
         }
        },
        {
         "name": "f7",
         "dtype": "float64",
         "stats": {
          "unique_count": 1477,
          "nan_count": 0,
          "min": "-1.91966",
          "max": "2.110213",
          "histogram": [
           {
            "bin_start": -1.91966,
            "bin_end": -1.5166727,
            "count": 37
           },
           {
            "bin_start": -1.5166727,
            "bin_end": -1.1136853999999998,
            "count": 195
           },
           {
            "bin_start": -1.1136853999999998,
            "bin_end": -0.7106980999999997,
            "count": 231
           },
           {
            "bin_start": -0.7106980999999997,
            "bin_end": -0.30771079999999973,
            "count": 137
           },
           {
            "bin_start": -0.30771079999999973,
            "bin_end": 0.09527650000000021,
            "count": 125
           },
           {
            "bin_start": 0.09527650000000021,
            "bin_end": 0.4982638000000006,
            "count": 175
           },
           {
            "bin_start": 0.4982638000000006,
            "bin_end": 0.9012511000000005,
            "count": 240
           },
           {
            "bin_start": 0.9012511000000005,
            "bin_end": 1.3042384000000005,
            "count": 191
           },
           {
            "bin_start": 1.3042384000000005,
            "bin_end": 1.7072257000000004,
            "count": 118
           },
           {
            "bin_start": 1.7072257000000004,
            "bin_end": 2.110213,
            "count": 28
           }
          ]
         }
        },
        {
         "name": "f8",
         "dtype": "float64",
         "stats": {
          "unique_count": 1477,
          "nan_count": 0,
          "min": "-2.095531",
          "max": "2.048281",
          "histogram": [
           {
            "bin_start": -2.095531,
            "bin_end": -1.6811497999999998,
            "count": 36
           },
           {
            "bin_start": -1.6811497999999998,
            "bin_end": -1.2667685999999998,
            "count": 117
           },
           {
            "bin_start": -1.2667685999999998,
            "bin_end": -0.8523874,
            "count": 197
           },
           {
            "bin_start": -0.8523874,
            "bin_end": -0.4380062,
            "count": 161
           },
           {
            "bin_start": -0.4380062,
            "bin_end": -0.023625000000000007,
            "count": 105
           },
           {
            "bin_start": -0.023625000000000007,
            "bin_end": 0.3907561999999998,
            "count": 178
           },
           {
            "bin_start": 0.3907561999999998,
            "bin_end": 0.8051374,
            "count": 256
           },
           {
            "bin_start": 0.8051374,
            "bin_end": 1.2195185999999998,
            "count": 210
           },
           {
            "bin_start": 1.2195185999999998,
            "bin_end": 1.6338997999999996,
            "count": 184
           },
           {
            "bin_start": 1.6338997999999996,
            "bin_end": 2.048281,
            "count": 33
           }
          ]
         }
        },
        {
         "name": "f9",
         "dtype": "float64",
         "stats": {
          "unique_count": 1477,
          "nan_count": 0,
          "min": "-2.242666",
          "max": "2.258689",
          "histogram": [
           {
            "bin_start": -2.242666,
            "bin_end": -1.7925304999999998,
            "count": 22
           },
           {
            "bin_start": -1.7925304999999998,
            "bin_end": -1.3423949999999998,
            "count": 98
           },
           {
            "bin_start": -1.3423949999999998,
            "bin_end": -0.8922594999999998,
            "count": 206
           },
           {
            "bin_start": -0.8922594999999998,
            "bin_end": -0.44212399999999974,
            "count": 163
           },
           {
            "bin_start": -0.44212399999999974,
            "bin_end": 0.008011500000000282,
            "count": 107
           },
           {
            "bin_start": 0.008011500000000282,
            "bin_end": 0.4581470000000003,
            "count": 233
           },
           {
            "bin_start": 0.4581470000000003,
            "bin_end": 0.9082825000000003,
            "count": 290
           },
           {
            "bin_start": 0.9082825000000003,
            "bin_end": 1.3584180000000003,
            "count": 182
           },
           {
            "bin_start": 1.3584180000000003,
            "bin_end": 1.8085535000000004,
            "count": 163
           },
           {
            "bin_start": 1.8085535000000004,
            "bin_end": 2.258689,
            "count": 13
           }
          ]
         }
        },
        {
         "name": "f10",
         "dtype": "float64",
         "stats": {
          "unique_count": 1477,
          "nan_count": 0,
          "min": "-2.847029",
          "max": "2.819043",
          "histogram": [
           {
            "bin_start": -2.847029,
            "bin_end": -2.2804218,
            "count": 6
           },
           {
            "bin_start": -2.2804218,
            "bin_end": -1.7138146,
            "count": 17
           },
           {
            "bin_start": -1.7138146,
            "bin_end": -1.1472074,
            "count": 55
           },
           {
            "bin_start": -1.1472074,
            "bin_end": -0.5806002000000001,
            "count": 239
           },
           {
            "bin_start": -0.5806002000000001,
            "bin_end": -0.013993000000000144,
            "count": 404
           },
           {
            "bin_start": -0.013993000000000144,
            "bin_end": 0.5526141999999998,
            "count": 265
           },
           {
            "bin_start": 0.5526141999999998,
            "bin_end": 1.1192213999999998,
            "count": 147
           },
           {
            "bin_start": 1.1192213999999998,
            "bin_end": 1.6858285999999998,
            "count": 204
           },
           {
            "bin_start": 1.6858285999999998,
            "bin_end": 2.2524357999999998,
            "count": 108
           },
           {
            "bin_start": 2.2524357999999998,
            "bin_end": 2.819043,
            "count": 32
           }
          ]
         }
        },
        {
         "name": "x",
         "dtype": "float64",
         "stats": {
          "unique_count": 1477,
          "nan_count": 0,
          "min": "-2.100573",
          "max": "8.593776",
          "histogram": [
           {
            "bin_start": -2.100573,
            "bin_end": -1.0311381,
            "count": 191
           },
           {
            "bin_start": -1.0311381,
            "bin_end": 0.03829679999999991,
            "count": 176
           },
           {
            "bin_start": 0.03829679999999991,
            "bin_end": 1.1077316999999995,
            "count": 157
           },
           {
            "bin_start": 1.1077316999999995,
            "bin_end": 2.1771665999999996,
            "count": 145
           },
           {
            "bin_start": 2.1771665999999996,
            "bin_end": 3.2466014999999997,
            "count": 142
           },
           {
            "bin_start": 3.2466014999999997,
            "bin_end": 4.316036399999999,
            "count": 156
           },
           {
            "bin_start": 4.316036399999999,
            "bin_end": 5.385471299999999,
            "count": 134
           },
           {
            "bin_start": 5.385471299999999,
            "bin_end": 6.454906199999999,
            "count": 157
           },
           {
            "bin_start": 6.454906199999999,
            "bin_end": 7.524341099999998,
            "count": 140
           },
           {
            "bin_start": 7.524341099999998,
            "bin_end": 8.593776,
            "count": 79
           }
          ]
         }
        },
        {
         "name": "y",
         "dtype": "float64",
         "stats": {
          "unique_count": 1477,
          "nan_count": 0,
          "min": "-31.773589",
          "max": "-7.389552",
          "histogram": [
           {
            "bin_start": -31.773589,
            "bin_end": -29.335185300000003,
            "count": 186
           },
           {
            "bin_start": -29.335185300000003,
            "bin_end": -26.8967816,
            "count": 181
           },
           {
            "bin_start": -26.8967816,
            "bin_end": -24.458377900000002,
            "count": 177
           },
           {
            "bin_start": -24.458377900000002,
            "bin_end": -22.0199742,
            "count": 62
           },
           {
            "bin_start": -22.0199742,
            "bin_end": -19.5815705,
            "count": 153
           },
           {
            "bin_start": -19.5815705,
            "bin_end": -17.143166800000003,
            "count": 145
           },
           {
            "bin_start": -17.143166800000003,
            "bin_end": -14.704763100000001,
            "count": 137
           },
           {
            "bin_start": -14.704763100000001,
            "bin_end": -12.266359400000002,
            "count": 148
           },
           {
            "bin_start": -12.266359400000002,
            "bin_end": -9.827955700000004,
            "count": 140
           },
           {
            "bin_start": -9.827955700000004,
            "bin_end": -7.389552,
            "count": 148
           }
          ]
         }
        },
        {
         "name": "_deepnote_index_column",
         "dtype": "int64"
        }
       ],
       "rows_top": [
        {
         "idx": "1",
         "f1": 0.248433,
         "f2": -1.801874,
         "f3": -1.116485,
         "f4": 1.25523,
         "f5": -1.021899,
         "f6": -1.425146,
         "f7": 1.029583,
         "f8": 1.261154,
         "f9": -0.185208,
         "f10": -0.61897,
         "x": 7.187592,
         "y": -8.768943,
         "_deepnote_index_column": 7
        },
        {
         "idx": "2",
         "f1": 0.612246,
         "f2": 0.369337,
         "f3": 1.119434,
         "f4": -0.689106,
         "f5": 0.451776,
         "f6": 1.308115,
         "f7": -0.518925,
         "f8": 0.129025,
         "f9": -0.558788,
         "f10": 1.588863,
         "x": 0.170888,
         "y": -25.895562,
         "_deepnote_index_column": 8
        },
        {
         "idx": "3",
         "f1": -0.974871,
         "f2": 0.275613,
         "f3": 1.106435,
         "f4": -0.867804,
         "f5": 0.230839,
         "f6": 1.870421,
         "f7": -0.794584,
         "f8": -1.712529,
         "f9": -0.935208,
         "f10": 0.109706,
         "x": 4.167006,
         "y": -29.062891,
         "_deepnote_index_column": 9
        },
        {
         "idx": "4",
         "f1": -1.493339,
         "f2": 1.992164,
         "f3": 0.609691,
         "f4": -1.001476,
         "f5": 1.268201,
         "f6": 0.516364,
         "f7": -0.984814,
         "f8": -1.16944,
         "f9": -0.765422,
         "f10": -0.487069,
         "x": 7.259387,
         "y": -31.529549,
         "_deepnote_index_column": 10
        },
        {
         "idx": "5",
         "f1": -0.432028,
         "f2": 1.592409,
         "f3": 0.853561,
         "f4": -1.365528,
         "f5": 1.310392,
         "f6": 0.954528,
         "f7": -0.946305,
         "f8": -1.269243,
         "f9": -2.031158,
         "f10": -0.227847,
         "x": 5.94143,
         "y": -30.540759,
         "_deepnote_index_column": 11
        },
        {
         "idx": "6",
         "f1": -0.457769,
         "f2": -1.274877,
         "f3": -1.278964,
         "f4": 1.218044,
         "f5": -1.084448,
         "f6": -1.335288,
         "f7": 1.558226,
         "f8": 1.922927,
         "f9": 0.350112,
         "f10": -1.800676,
         "x": 7.411681,
         "y": -8.042986,
         "_deepnote_index_column": 12
        },
        {
         "idx": "7",
         "f1": -0.601187,
         "f2": 0.604264,
         "f3": 1.308459,
         "f4": -0.574974,
         "f5": 0.59625,
         "f6": 1.151715,
         "f7": 0.244839,
         "f8": -0.015721,
         "f9": -1.506754,
         "f10": 1.858233,
         "x": -0.13233,
         "y": -25.367187,
         "_deepnote_index_column": 13
        },
        {
         "idx": "8",
         "f1": -1.005062,
         "f2": 0.410997,
         "f3": 1.568293,
         "f4": -1.128671,
         "f5": -0.843388,
         "f6": 1.494365,
         "f7": -0.787263,
         "f8": -0.655806,
         "f9": -1.121765,
         "f10": -0.427253,
         "x": 3.1225,
         "y": -28.22778,
         "_deepnote_index_column": 14
        },
        {
         "idx": "9",
         "f1": 2.063762,
         "f2": -0.237232,
         "f3": -0.267166,
         "f4": -0.966792,
         "f5": -0.237925,
         "f6": -0.507043,
         "f7": 0.368914,
         "f8": 1.130329,
         "f9": 1.593293,
         "f10": 0.203097,
         "x": 0.279545,
         "y": -17.914489,
         "_deepnote_index_column": 15
        },
        {
         "idx": "10",
         "f1": 1.594987,
         "f2": -0.922199,
         "f3": -1.615858,
         "f4": 1.24596,
         "f5": -0.466516,
         "f6": -0.050447,
         "f7": 1.210092,
         "f8": 0.425638,
         "f9": 1.43586,
         "f10": 0.529808,
         "x": 1.687099,
         "y": -16.230912,
         "_deepnote_index_column": 16
        },
        {
         "idx": "11",
         "f1": -0.763371,
         "f2": 1.444792,
         "f3": -0.667418,
         "f4": -0.887114,
         "f5": 1.592276,
         "f6": 0.477427,
         "f7": -1.403809,
         "f8": -1.38143,
         "f9": -1.702208,
         "f10": 0.031717,
         "x": 6.63171,
         "y": -30.793279,
         "_deepnote_index_column": 17
        },
        {
         "idx": "12",
         "f1": -0.571235,
         "f2": 1.122207,
         "f3": 0.939817,
         "f4": -1.255051,
         "f5": 0.985033,
         "f6": 1.955394,
         "f7": -1.399996,
         "f8": -1.082875,
         "f9": -0.538879,
         "f10": -1.026345,
         "x": 5.101943,
         "y": -29.906874,
         "_deepnote_index_column": 18
        },
        {
         "idx": "13",
         "f1": -0.181691,
         "f2": -0.962738,
         "f3": -1.102829,
         "f4": 0.599151,
         "f5": -1.230148,
         "f6": -1.136148,
         "f7": 0.96852,
         "f8": 1.461663,
         "f9": -0.157032,
         "f10": -0.67649,
         "x": 7.023751,
         "y": -8.930348,
         "_deepnote_index_column": 19
        },
        {
         "idx": "14",
         "f1": 0.41489,
         "f2": -1.475381,
         "f3": -1.115128,
         "f4": 0.601368,
         "f5": -0.964977,
         "f6": -1.11116,
         "f7": 1.496906,
         "f8": 0.546714,
         "f9": 0.550823,
         "f10": -0.852025,
         "x": 6.125674,
         "y": -9.879066,
         "_deepnote_index_column": 20
        },
        {
         "idx": "15",
         "f1": 0.685147,
         "f2": 0.062739,
         "f3": 0.268972,
         "f4": 0.29151,
         "f5": 0.535087,
         "f6": 0.96439,
         "f7": -0.53873,
         "f8": -0.711449,
         "f9": -0.886395,
         "f10": 1.357356,
         "x": -1.05666,
         "y": -22.702961,
         "_deepnote_index_column": 21
        },
        {
         "idx": "16",
         "f1": 0.835733,
         "f2": 1.050727,
         "f3": 0.983537,
         "f4": -0.369345,
         "f5": 0.381985,
         "f6": 1.04225,
         "f7": -0.507092,
         "f8": 0.03415,
         "f9": 0.25725,
         "f10": 2.44736,
         "x": -1.125585,
         "y": -23.98926,
         "_deepnote_index_column": 22
        },
        {
         "idx": "17",
         "f1": -0.364142,
         "f2": -0.78836,
         "f3": -1.131426,
         "f4": 1.085911,
         "f5": -0.707592,
         "f6": -0.910544,
         "f7": 1.151256,
         "f8": 0.569193,
         "f9": 0.342218,
         "f10": -0.792868,
         "x": 5.501051,
         "y": -10.457624,
         "_deepnote_index_column": 23
        },
        {
         "idx": "18",
         "f1": 0.824635,
         "f2": -0.872116,
         "f3": -0.351446,
         "f4": 1.313566,
         "f5": -0.342965,
         "f6": -0.795991,
         "f7": 0.886879,
         "f8": 0.946765,
         "f9": 0.691703,
         "f10": 0.11991,
         "x": 1.352841,
         "y": -16.495448,
         "_deepnote_index_column": 24
        },
        {
         "idx": "19",
         "f1": -1.194583,
         "f2": 2.022795,
         "f3": 0.123461,
         "f4": -1.312231,
         "f5": 1.239347,
         "f6": 0.084504,
         "f7": -1.239851,
         "f8": -1.28966,
         "f9": -0.943274,
         "f10": -1.550521,
         "x": 6.653216,
         "y": -31.241312,
         "_deepnote_index_column": 25
        },
        {
         "idx": "20",
         "f1": -1.334598,
         "f2": -1.022303,
         "f3": -1.357209,
         "f4": 1.672648,
         "f5": -0.766522,
         "f6": -1.165372,
         "f7": 1.670077,
         "f8": 0.924172,
         "f9": 0.483971,
         "f10": -0.325489,
         "x": 7.775698,
         "y": -7.933846,
         "_deepnote_index_column": 26
        },
        {
         "idx": "21",
         "f1": -0.707724,
         "f2": 0.784051,
         "f3": 0.741873,
         "f4": -1.610646,
         "f5": 0.733574,
         "f6": 1.322904,
         "f7": -0.907136,
         "f8": -1.518263,
         "f9": -0.851401,
         "f10": 0.486164,
         "x": 3.373255,
         "y": -28.55964,
         "_deepnote_index_column": 27
        },
        {
         "idx": "22",
         "f1": 0.556676,
         "f2": 0.37593,
         "f3": 1.215702,
         "f4": -0.863109,
         "f5": 0.55068,
         "f6": 1.045755,
         "f7": -0.953071,
         "f8": -0.685397,
         "f9": -0.688682,
         "f10": 1.463836,
         "x": -0.185486,
         "y": -25.784378,
         "_deepnote_index_column": 28
        },
        {
         "idx": "23",
         "f1": 0.814931,
         "f2": -0.761926,
         "f3": -0.1275,
         "f4": 1.06282,
         "f5": -0.454788,
         "f6": -0.536269,
         "f7": 0.374748,
         "f8": 0.951816,
         "f9": 1.785989,
         "f10": -0.230777,
         "x": 1.981421,
         "y": -15.842557,
         "_deepnote_index_column": 29
        },
        {
         "idx": "24",
         "f1": -0.001573,
         "f2": -1.373026,
         "f3": -1.060462,
         "f4": 1.432102,
         "f5": -1.22091,
         "f6": -0.974984,
         "f7": 1.129523,
         "f8": 1.382705,
         "f9": 0.816753,
         "f10": -2.296628,
         "x": 7.684384,
         "y": -8.623076,
         "_deepnote_index_column": 30
        },
        {
         "idx": "25",
         "f1": 0.411112,
         "f2": -0.818464,
         "f3": -0.644391,
         "f4": 1.317738,
         "f5": -1.095131,
         "f6": -0.807456,
         "f7": 0.834296,
         "f8": 1.186585,
         "f9": 0.786648,
         "f10": -1.409886,
         "x": 6.995742,
         "y": -9.475791,
         "_deepnote_index_column": 31
        },
        {
         "idx": "26",
         "f1": 0.238102,
         "f2": -1.007271,
         "f3": -0.804951,
         "f4": 1.371312,
         "f5": -1.017847,
         "f6": -1.507375,
         "f7": 0.517461,
         "f8": 0.682916,
         "f9": 0.560647,
         "f10": 0.116435,
         "x": 5.466437,
         "y": -10.94194,
         "_deepnote_index_column": 32
        },
        {
         "idx": "27",
         "f1": -0.123823,
         "f2": -1.003478,
         "f3": -1.088175,
         "f4": 1.321129,
         "f5": -0.88359,
         "f6": -0.990542,
         "f7": 0.990543,
         "f8": 1.013741,
         "f9": 0.868561,
         "f10": -0.923599,
         "x": 6.179077,
         "y": -10.454446,
         "_deepnote_index_column": 33
        },
        {
         "idx": "28",
         "f1": -1.154966,
         "f2": 1.497271,
         "f3": 0.805917,
         "f4": -1.077506,
         "f5": 0.790392,
         "f6": 1.752247,
         "f7": -0.862368,
         "f8": -1.119481,
         "f9": -1.457309,
         "f10": -0.827626,
         "x": 4.341275,
         "y": -29.508254,
         "_deepnote_index_column": 34
        },
        {
         "idx": "29",
         "f1": -0.362172,
         "f2": 0.608676,
         "f3": 1.45236,
         "f4": -0.611385,
         "f5": 0.521777,
         "f6": 1.028026,
         "f7": -0.752329,
         "f8": -0.896335,
         "f9": -0.410284,
         "f10": 1.303685,
         "x": 0.728727,
         "y": -26.559876,
         "_deepnote_index_column": 35
        },
        {
         "idx": "30",
         "f1": 1.909826,
         "f2": 0.080479,
         "f3": 0.623776,
         "f4": 0.622772,
         "f5": 0.278753,
         "f6": 0.449957,
         "f7": 0.179908,
         "f8": 0.135925,
         "f9": 0.96963,
         "f10": 0.308805,
         "x": -1.507591,
         "y": -20.298558,
         "_deepnote_index_column": 36
        },
        {
         "idx": "31",
         "f1": -0.303872,
         "f2": 0.416107,
         "f3": 1.375104,
         "f4": -0.610976,
         "f5": 0.583748,
         "f6": 0.978734,
         "f7": -0.850477,
         "f8": -0.670994,
         "f9": -0.752801,
         "f10": 1.667546,
         "x": 0.894603,
         "y": -26.525764,
         "_deepnote_index_column": 37
        },
        {
         "idx": "32",
         "f1": -0.223982,
         "f2": 1.110263,
         "f3": 0.639112,
         "f4": -0.450427,
         "f5": 1.468006,
         "f6": 1.123795,
         "f7": -1.580967,
         "f8": -1.752609,
         "f9": -0.894315,
         "f10": -0.726599,
         "x": 6.326161,
         "y": -30.666586,
         "_deepnote_index_column": 38
        },
        {
         "idx": "33",
         "f1": 0.441998,
         "f2": -1.570313,
         "f3": -1.539523,
         "f4": 1.151912,
         "f5": -1.139326,
         "f6": -1.265759,
         "f7": 0.656417,
         "f8": 1.899157,
         "f9": 1.385774,
         "f10": -0.349192,
         "x": 3.993573,
         "y": -13.618671,
         "_deepnote_index_column": 39
        },
        {
         "idx": "34",
         "f1": 0.303296,
         "f2": 0.091663,
         "f3": 0.117555,
         "f4": 0.159264,
         "f5": 0.061779,
         "f6": -0.987373,
         "f7": 0.416338,
         "f8": 0.593236,
         "f9": 1.627221,
         "f10": 1.315129,
         "x": 1.223807,
         "y": -16.720017,
         "_deepnote_index_column": 40
        },
        {
         "idx": "35",
         "f1": -0.830664,
         "f2": 0.41053,
         "f3": 0.937031,
         "f4": -0.679098,
         "f5": 0.028486,
         "f6": 1.551291,
         "f7": -1.044716,
         "f8": -1.110866,
         "f9": -2.028678,
         "f10": -0.665105,
         "x": 3.000139,
         "y": -28.084313,
         "_deepnote_index_column": 41
        },
        {
         "idx": "36",
         "f1": -0.710496,
         "f2": 1.081428,
         "f3": 1.232235,
         "f4": -0.797906,
         "f5": 1.373624,
         "f6": 1.217206,
         "f7": -1.044898,
         "f8": -1.022382,
         "f9": -1.484719,
         "f10": -1.734771,
         "x": 5.869953,
         "y": -30.53564,
         "_deepnote_index_column": 42
        },
        {
         "idx": "37",
         "f1": 0.075255,
         "f2": -1.129307,
         "f3": -0.751492,
         "f4": 0.525539,
         "f5": -1.282327,
         "f6": -0.897664,
         "f7": 0.453759,
         "f8": 0.207257,
         "f9": 0.182324,
         "f10": -0.049939,
         "x": 5.37984,
         "y": -11.532169,
         "_deepnote_index_column": 43
        },
        {
         "idx": "38",
         "f1": 0.570392,
         "f2": 0.581917,
         "f3": 0.868097,
         "f4": -0.236914,
         "f5": 0.263552,
         "f6": 0.461355,
         "f7": -0.992824,
         "f8": 0.105371,
         "f9": 0.018401,
         "f10": 1.813082,
         "x": -1.81399,
         "y": -21.522785,
         "_deepnote_index_column": 44
        }
       ],
       "rows_bottom": [
        {
         "idx": "1440",
         "f1": 0.207889,
         "f2": -1.382754,
         "f3": -0.68859,
         "f4": 0.825997,
         "f5": -0.898081,
         "f6": -0.512043,
         "f7": 1.120603,
         "f8": 1.222409,
         "f9": 1.631081,
         "f10": -1.131609,
         "x": 3.405571,
         "y": -13.90233,
         "_deepnote_index_column": 1446
        },
        {
         "idx": "1441",
         "f1": -0.477512,
         "f2": -0.97025,
         "f3": -0.888638,
         "f4": 1.771127,
         "f5": -1.526595,
         "f6": -1.792501,
         "f7": 0.744442,
         "f8": 1.720276,
         "f9": 0.191005,
         "f10": -0.82216,
         "x": 7.539325,
         "y": -8.737763,
         "_deepnote_index_column": 1447
        },
        {
         "idx": "1442",
         "f1": -1.045257,
         "f2": 0.892206,
         "f3": 1.847196,
         "f4": -0.899015,
         "f5": 1.709968,
         "f6": 0.859755,
         "f7": -1.010734,
         "f8": -0.664261,
         "f9": -0.948134,
         "f10": 0.818555,
         "x": 1.628667,
         "y": -27.264039,
         "_deepnote_index_column": 1448
        },
        {
         "idx": "1443",
         "f1": 0.876373,
         "f2": -1.106435,
         "f3": -0.295347,
         "f4": 1.546232,
         "f5": -1.130634,
         "f6": -1.846863,
         "f7": 0.29359,
         "f8": 0.291648,
         "f9": 1.652249,
         "f10": -0.20021,
         "x": 3.536261,
         "y": -14.089104,
         "_deepnote_index_column": 1449
        },
        {
         "idx": "1444",
         "f1": 0.899725,
         "f2": -0.851427,
         "f3": -0.797741,
         "f4": 0.454154,
         "f5": -0.847385,
         "f6": -1.304054,
         "f7": 1.701524,
         "f8": 1.165007,
         "f9": 0.403386,
         "f10": 0.111278,
         "x": 3.94079,
         "y": -14.007004,
         "_deepnote_index_column": 1450
        },
        {
         "idx": "1445",
         "f1": 0.589788,
         "f2": -1.308902,
         "f3": -0.206364,
         "f4": 1.353291,
         "f5": -1.20407,
         "f6": -0.930665,
         "f7": 1.355712,
         "f8": 1.209954,
         "f9": 1.475499,
         "f10": -0.334918,
         "x": 3.931287,
         "y": -13.33391,
         "_deepnote_index_column": 1451
        },
        {
         "idx": "1446",
         "f1": 0.236221,
         "f2": 0.51958,
         "f3": 1.369543,
         "f4": -0.828077,
         "f5": -0.10171,
         "f6": 0.814715,
         "f7": -0.264597,
         "f8": -1.146501,
         "f9": 0.193314,
         "f10": 1.751473,
         "x": -0.008339,
         "y": -25.636546,
         "_deepnote_index_column": 1452
        },
        {
         "idx": "1447",
         "f1": 0.670787,
         "f2": -1.507287,
         "f3": -0.65589,
         "f4": 0.673335,
         "f5": -0.980998,
         "f6": -0.816638,
         "f7": 1.01497,
         "f8": 1.550181,
         "f9": 0.920681,
         "f10": -0.112392,
         "x": 4.280597,
         "y": -12.654841,
         "_deepnote_index_column": 1453
        },
        {
         "idx": "1448",
         "f1": 1.194702,
         "f2": -0.82119,
         "f3": -0.88614,
         "f4": 1.218092,
         "f5": -0.462556,
         "f6": 0.187844,
         "f7": 0.839047,
         "f8": 1.472111,
         "f9": 1.070678,
         "f10": 0.784539,
         "x": 2.000444,
         "y": -15.407474,
         "_deepnote_index_column": 1454
        },
        {
         "idx": "1449",
         "f1": -0.137027,
         "f2": -0.783922,
         "f3": -1.223775,
         "f4": 1.277612,
         "f5": -0.94843,
         "f6": -0.961207,
         "f7": 1.325553,
         "f8": 0.912087,
         "f9": 0.670508,
         "f10": -0.687083,
         "x": 5.922609,
         "y": -11.019454,
         "_deepnote_index_column": 1455
        },
        {
         "idx": "1450",
         "f1": -1.254625,
         "f2": -0.741747,
         "f3": -1.141809,
         "f4": 0.649718,
         "f5": -1.042631,
         "f6": -0.634694,
         "f7": 1.48761,
         "f8": 1.216401,
         "f9": 0.334782,
         "f10": -0.897394,
         "x": 6.216924,
         "y": -9.898958,
         "_deepnote_index_column": 1456
        },
        {
         "idx": "1451",
         "f1": 1.862134,
         "f2": -0.165077,
         "f3": -1.466163,
         "f4": 0.442403,
         "f5": -0.177118,
         "f6": -0.195872,
         "f7": 0.553794,
         "f8": 0.416313,
         "f9": 0.448131,
         "f10": 0.91733,
         "x": -0.430964,
         "y": -19.098442,
         "_deepnote_index_column": 1457
        },
        {
         "idx": "1452",
         "f1": 0.532835,
         "f2": -0.955519,
         "f3": -0.815842,
         "f4": 1.309973,
         "f5": -1.028355,
         "f6": -0.793591,
         "f7": 1.413324,
         "f8": 1.157079,
         "f9": 0.809996,
         "f10": -0.178475,
         "x": 6.940963,
         "y": -9.44065,
         "_deepnote_index_column": 1458
        },
        {
         "idx": "1453",
         "f1": 1.697432,
         "f2": 0.03736,
         "f3": 0.474853,
         "f4": 0.000688,
         "f5": 0.801959,
         "f6": 1.140051,
         "f7": 0.303521,
         "f8": 0.220201,
         "f9": 0.947417,
         "f10": 0.408463,
         "x": -0.568219,
         "y": -19.217315,
         "_deepnote_index_column": 1459
        },
        {
         "idx": "1454",
         "f1": 0.085286,
         "f2": 0.577777,
         "f3": 1.739725,
         "f4": -1.500949,
         "f5": 0.790099,
         "f6": 1.285127,
         "f7": -0.767759,
         "f8": -1.20638,
         "f9": -1.119887,
         "f10": 0.128542,
         "x": 1.417946,
         "y": -27.225021,
         "_deepnote_index_column": 1460
        },
        {
         "idx": "1455",
         "f1": 0.325649,
         "f2": -1.416864,
         "f3": -0.768791,
         "f4": 0.414429,
         "f5": -0.587218,
         "f6": -1.22532,
         "f7": 0.875192,
         "f8": 0.791739,
         "f9": 1.579225,
         "f10": -0.525034,
         "x": 3.147682,
         "y": -14.182717,
         "_deepnote_index_column": 1461
        },
        {
         "idx": "1456",
         "f1": -0.846271,
         "f2": 0.881227,
         "f3": 1.251304,
         "f4": -1.397079,
         "f5": 0.86223,
         "f6": 2.250963,
         "f7": -0.94965,
         "f8": -1.084273,
         "f9": -0.455233,
         "f10": -0.937809,
         "x": 4.277245,
         "y": -28.988714,
         "_deepnote_index_column": 1462
        },
        {
         "idx": "1457",
         "f1": 2.155252,
         "f2": -0.346572,
         "f3": -0.030739,
         "f4": 0.475465,
         "f5": -0.621932,
         "f6": -0.377868,
         "f7": 0.285394,
         "f8": 0.535258,
         "f9": 0.838664,
         "f10": 1.451105,
         "x": -0.490943,
         "y": -19.150876,
         "_deepnote_index_column": 1463
        },
        {
         "idx": "1458",
         "f1": 0.106549,
         "f2": 1.461157,
         "f3": 1.630186,
         "f4": -1.068208,
         "f5": 0.404157,
         "f6": 0.654148,
         "f7": -1.220976,
         "f8": -0.888631,
         "f9": -0.243284,
         "f10": 0.734172,
         "x": 0.01771,
         "y": -25.79824,
         "_deepnote_index_column": 1464
        },
        {
         "idx": "1459",
         "f1": 1.053736,
         "f2": -0.625141,
         "f3": 0.230201,
         "f4": 1.201616,
         "f5": -0.977798,
         "f6": -0.809369,
         "f7": 0.065001,
         "f8": 1.464576,
         "f9": 1.465531,
         "f10": 0.014111,
         "x": 2.747962,
         "y": -14.990202,
         "_deepnote_index_column": 1465
        },
        {
         "idx": "1460",
         "f1": 0.507543,
         "f2": -0.509692,
         "f3": -0.749626,
         "f4": 0.118634,
         "f5": -0.512089,
         "f6": -0.328556,
         "f7": 0.532367,
         "f8": 1.355724,
         "f9": 0.983006,
         "f10": -0.107149,
         "x": 1.136756,
         "y": -17.058411,
         "_deepnote_index_column": 1466
        },
        {
         "idx": "1461",
         "f1": -1.234122,
         "f2": 1.498219,
         "f3": 0.918932,
         "f4": -1.552068,
         "f5": 1.718982,
         "f6": 1.321265,
         "f7": -1.014557,
         "f8": -1.136369,
         "f9": -1.412044,
         "f10": 0.07603,
         "x": 6.475922,
         "y": -30.856942,
         "_deepnote_index_column": 1467
        },
        {
         "idx": "1462",
         "f1": -0.266169,
         "f2": 0.57361,
         "f3": 1.227864,
         "f4": -1.630794,
         "f5": 0.732634,
         "f6": 1.565761,
         "f7": -0.763671,
         "f8": -0.540716,
         "f9": -1.143017,
         "f10": 0.179415,
         "x": 0.517376,
         "y": -26.338423,
         "_deepnote_index_column": 1468
        },
        {
         "idx": "1463",
         "f1": 0.425174,
         "f2": -0.803593,
         "f3": -1.324179,
         "f4": 0.910504,
         "f5": -1.241234,
         "f6": -1.254059,
         "f7": 1.290734,
         "f8": 1.556663,
         "f9": -0.254455,
         "f10": -0.156194,
         "x": 4.276272,
         "y": -13.494504,
         "_deepnote_index_column": 1469
        },
        {
         "idx": "1464",
         "f1": 1.842577,
         "f2": -0.268246,
         "f3": -0.889417,
         "f4": 0.691672,
         "f5": -0.65029,
         "f6": -0.424214,
         "f7": -0.835063,
         "f8": 1.228655,
         "f9": 1.234391,
         "f10": 0.781111,
         "x": -0.459987,
         "y": -18.87725,
         "_deepnote_index_column": 1470
        },
        {
         "idx": "1465",
         "f1": -0.498264,
         "f2": -0.631015,
         "f3": -0.945925,
         "f4": 1.184528,
         "f5": -1.660333,
         "f6": -0.937475,
         "f7": 1.034979,
         "f8": 1.538324,
         "f9": -0.236143,
         "f10": -0.712129,
         "x": 7.91137,
         "y": -8.073921,
         "_deepnote_index_column": 1471
        },
        {
         "idx": "1466",
         "f1": 1.135168,
         "f2": -0.936535,
         "f3": -0.101461,
         "f4": 0.715737,
         "f5": -1.273646,
         "f6": -0.519584,
         "f7": 0.959359,
         "f8": 1.165489,
         "f9": 0.816863,
         "f10": -0.331738,
         "x": 3.09335,
         "y": -14.192742,
         "_deepnote_index_column": 1472
        },
        {
         "idx": "1467",
         "f1": 0.89385,
         "f2": 0.575404,
         "f3": 0.245935,
         "f4": -0.007142,
         "f5": 0.327031,
         "f6": 0.480405,
         "f7": -0.710385,
         "f8": 0.462986,
         "f9": 0.666549,
         "f10": 1.394397,
         "x": -1.278724,
         "y": -21.049334,
         "_deepnote_index_column": 1473
        },
        {
         "idx": "1468",
         "f1": 1.272231,
         "f2": -1.085467,
         "f3": -1.192451,
         "f4": 0.818033,
         "f5": -0.663333,
         "f6": -1.210521,
         "f7": 1.53177,
         "f8": 1.283489,
         "f9": 1.738905,
         "f10": -0.3899,
         "x": 4.231259,
         "y": -12.819464,
         "_deepnote_index_column": 1474
        },
        {
         "idx": "1469",
         "f1": -1.036232,
         "f2": 0.489236,
         "f3": 1.439805,
         "f4": -1.355483,
         "f5": 0.941404,
         "f6": 1.373928,
         "f7": -0.975978,
         "f8": -0.931369,
         "f9": -1.145156,
         "f10": 1.350184,
         "x": 0.194739,
         "y": -25.710983,
         "_deepnote_index_column": 1475
        },
        {
         "idx": "1470",
         "f1": -0.42061,
         "f2": -1.077501,
         "f3": -0.955997,
         "f4": 0.848211,
         "f5": -0.8143,
         "f6": -1.046605,
         "f7": 1.067482,
         "f8": 1.10186,
         "f9": 1.18146,
         "f10": 0.197313,
         "x": 4.243681,
         "y": -12.754707,
         "_deepnote_index_column": 1476
        },
        {
         "idx": "1471",
         "f1": -0.563026,
         "f2": -0.016139,
         "f3": 1.100344,
         "f4": -0.117863,
         "f5": 0.262922,
         "f6": 0.990477,
         "f7": -0.284844,
         "f8": -0.41804,
         "f9": -0.273904,
         "f10": 2.459611,
         "x": -0.52659,
         "y": -24.52859,
         "_deepnote_index_column": 1477
        },
        {
         "idx": "1472",
         "f1": -0.654342,
         "f2": 1.264561,
         "f3": 1.079811,
         "f4": -1.080062,
         "f5": 0.856418,
         "f6": 1.59082,
         "f7": -1.294555,
         "f8": -1.553171,
         "f9": -1.151466,
         "f10": -0.586049,
         "x": 4.011767,
         "y": -28.93716,
         "_deepnote_index_column": 1478
        },
        {
         "idx": "1473",
         "f1": -0.694724,
         "f2": 1.184451,
         "f3": 1.42653,
         "f4": -1.260271,
         "f5": 0.254272,
         "f6": 1.588396,
         "f7": -1.015617,
         "f8": -1.269062,
         "f9": -0.738645,
         "f10": 0.246257,
         "x": 4.587862,
         "y": -29.743108,
         "_deepnote_index_column": 1479
        },
        {
         "idx": "1474",
         "f1": 2.088156,
         "f2": 0.160464,
         "f3": -1.101186,
         "f4": 0.864773,
         "f5": -0.002852,
         "f6": -0.650301,
         "f7": -0.311431,
         "f8": 0.152538,
         "f9": 0.548056,
         "f10": 0.978403,
         "x": -0.961247,
         "y": -19.418516,
         "_deepnote_index_column": 1480
        },
        {
         "idx": "1475",
         "f1": -0.096369,
         "f2": 1.599799,
         "f3": 0.160111,
         "f4": -1.473405,
         "f5": 0.191667,
         "f6": 1.389114,
         "f7": -1.265515,
         "f8": -0.833097,
         "f9": -0.747211,
         "f10": 0.014422,
         "x": 4.247799,
         "y": -29.460539,
         "_deepnote_index_column": 1481
        },
        {
         "idx": "1476",
         "f1": 0.417788,
         "f2": -0.062619,
         "f3": 0.995768,
         "f4": -0.216366,
         "f5": 0.054374,
         "f6": 0.822223,
         "f7": -1.585737,
         "f8": -0.182712,
         "f9": 0.271711,
         "f10": 2.163382,
         "x": -1.417041,
         "y": -21.391002,
         "_deepnote_index_column": 1482
        },
        {
         "idx": "1477",
         "f1": -0.063529,
         "f2": -1.148433,
         "f3": -1.797669,
         "f4": 1.744704,
         "f5": -0.591143,
         "f6": -1.455659,
         "f7": 1.161416,
         "f8": 0.705538,
         "f9": 0.377713,
         "f10": -0.590566,
         "x": 5.768213,
         "y": -10.987004,
         "_deepnote_index_column": 1483
        }
       ]
      },
      "text/plain": "       idx        f1        f2        f3        f4        f5        f6  \\\n7        1  0.248433 -1.801874 -1.116485  1.255230 -1.021899 -1.425146   \n8        2  0.612246  0.369337  1.119434 -0.689106  0.451776  1.308115   \n9        3 -0.974871  0.275613  1.106435 -0.867804  0.230839  1.870421   \n10       4 -1.493339  1.992164  0.609691 -1.001476  1.268201  0.516364   \n11       5 -0.432028  1.592409  0.853561 -1.365528  1.310392  0.954528   \n...    ...       ...       ...       ...       ...       ...       ...   \n1479  1473 -0.694724  1.184451  1.426530 -1.260271  0.254272  1.588396   \n1480  1474  2.088156  0.160464 -1.101186  0.864773 -0.002852 -0.650301   \n1481  1475 -0.096369  1.599799  0.160111 -1.473405  0.191667  1.389114   \n1482  1476  0.417788 -0.062619  0.995768 -0.216366  0.054374  0.822223   \n1483  1477 -0.063529 -1.148433 -1.797669  1.744704 -0.591143 -1.455659   \n\n            f7        f8        f9       f10         x          y  \n7     1.029583  1.261154 -0.185208 -0.618970  7.187592  -8.768943  \n8    -0.518925  0.129025 -0.558788  1.588863  0.170888 -25.895562  \n9    -0.794584 -1.712529 -0.935208  0.109706  4.167006 -29.062891  \n10   -0.984814 -1.169440 -0.765422 -0.487069  7.259387 -31.529549  \n11   -0.946305 -1.269243 -2.031158 -0.227847  5.941430 -30.540759  \n...        ...       ...       ...       ...       ...        ...  \n1479 -1.015617 -1.269062 -0.738645  0.246257  4.587862 -29.743108  \n1480 -0.311431  0.152538  0.548056  0.978403 -0.961247 -19.418516  \n1481 -1.265515 -0.833097 -0.747211  0.014422  4.247799 -29.460539  \n1482 -1.585737 -0.182712  0.271711  2.163382 -1.417041 -21.391002  \n1483  1.161416  0.705538  0.377713 -0.590566  5.768213 -10.987004  \n\n[1477 rows x 13 columns]",
      "text/html": "<div>\n<style scoped>\n    .dataframe tbody tr th:only-of-type {\n        vertical-align: middle;\n    }\n\n    .dataframe tbody tr th {\n        vertical-align: top;\n    }\n\n    .dataframe thead th {\n        text-align: right;\n    }\n</style>\n<table border=\"1\" class=\"dataframe\">\n  <thead>\n    <tr style=\"text-align: right;\">\n      <th></th>\n      <th>idx</th>\n      <th>f1</th>\n      <th>f2</th>\n      <th>f3</th>\n      <th>f4</th>\n      <th>f5</th>\n      <th>f6</th>\n      <th>f7</th>\n      <th>f8</th>\n      <th>f9</th>\n      <th>f10</th>\n      <th>x</th>\n      <th>y</th>\n    </tr>\n  </thead>\n  <tbody>\n    <tr>\n      <th>7</th>\n      <td>1</td>\n      <td>0.248433</td>\n      <td>-1.801874</td>\n      <td>-1.116485</td>\n      <td>1.255230</td>\n      <td>-1.021899</td>\n      <td>-1.425146</td>\n      <td>1.029583</td>\n      <td>1.261154</td>\n      <td>-0.185208</td>\n      <td>-0.618970</td>\n      <td>7.187592</td>\n      <td>-8.768943</td>\n    </tr>\n    <tr>\n      <th>8</th>\n      <td>2</td>\n      <td>0.612246</td>\n      <td>0.369337</td>\n      <td>1.119434</td>\n      <td>-0.689106</td>\n      <td>0.451776</td>\n      <td>1.308115</td>\n      <td>-0.518925</td>\n      <td>0.129025</td>\n      <td>-0.558788</td>\n      <td>1.588863</td>\n      <td>0.170888</td>\n      <td>-25.895562</td>\n    </tr>\n    <tr>\n      <th>9</th>\n      <td>3</td>\n      <td>-0.974871</td>\n      <td>0.275613</td>\n      <td>1.106435</td>\n      <td>-0.867804</td>\n      <td>0.230839</td>\n      <td>1.870421</td>\n      <td>-0.794584</td>\n      <td>-1.712529</td>\n      <td>-0.935208</td>\n      <td>0.109706</td>\n      <td>4.167006</td>\n      <td>-29.062891</td>\n    </tr>\n    <tr>\n      <th>10</th>\n      <td>4</td>\n      <td>-1.493339</td>\n      <td>1.992164</td>\n      <td>0.609691</td>\n      <td>-1.001476</td>\n      <td>1.268201</td>\n      <td>0.516364</td>\n      <td>-0.984814</td>\n      <td>-1.169440</td>\n      <td>-0.765422</td>\n      <td>-0.487069</td>\n      <td>7.259387</td>\n      <td>-31.529549</td>\n    </tr>\n    <tr>\n      <th>11</th>\n      <td>5</td>\n      <td>-0.432028</td>\n      <td>1.592409</td>\n      <td>0.853561</td>\n      <td>-1.365528</td>\n      <td>1.310392</td>\n      <td>0.954528</td>\n      <td>-0.946305</td>\n      <td>-1.269243</td>\n      <td>-2.031158</td>\n      <td>-0.227847</td>\n      <td>5.941430</td>\n      <td>-30.540759</td>\n    </tr>\n    <tr>\n      <th>...</th>\n      <td>...</td>\n      <td>...</td>\n      <td>...</td>\n      <td>...</td>\n      <td>...</td>\n      <td>...</td>\n      <td>...</td>\n      <td>...</td>\n      <td>...</td>\n      <td>...</td>\n      <td>...</td>\n      <td>...</td>\n      <td>...</td>\n    </tr>\n    <tr>\n      <th>1479</th>\n      <td>1473</td>\n      <td>-0.694724</td>\n      <td>1.184451</td>\n      <td>1.426530</td>\n      <td>-1.260271</td>\n      <td>0.254272</td>\n      <td>1.588396</td>\n      <td>-1.015617</td>\n      <td>-1.269062</td>\n      <td>-0.738645</td>\n      <td>0.246257</td>\n      <td>4.587862</td>\n      <td>-29.743108</td>\n    </tr>\n    <tr>\n      <th>1480</th>\n      <td>1474</td>\n      <td>2.088156</td>\n      <td>0.160464</td>\n      <td>-1.101186</td>\n      <td>0.864773</td>\n      <td>-0.002852</td>\n      <td>-0.650301</td>\n      <td>-0.311431</td>\n      <td>0.152538</td>\n      <td>0.548056</td>\n      <td>0.978403</td>\n      <td>-0.961247</td>\n      <td>-19.418516</td>\n    </tr>\n    <tr>\n      <th>1481</th>\n      <td>1475</td>\n      <td>-0.096369</td>\n      <td>1.599799</td>\n      <td>0.160111</td>\n      <td>-1.473405</td>\n      <td>0.191667</td>\n      <td>1.389114</td>\n      <td>-1.265515</td>\n      <td>-0.833097</td>\n      <td>-0.747211</td>\n      <td>0.014422</td>\n      <td>4.247799</td>\n      <td>-29.460539</td>\n    </tr>\n    <tr>\n      <th>1482</th>\n      <td>1476</td>\n      <td>0.417788</td>\n      <td>-0.062619</td>\n      <td>0.995768</td>\n      <td>-0.216366</td>\n      <td>0.054374</td>\n      <td>0.822223</td>\n      <td>-1.585737</td>\n      <td>-0.182712</td>\n      <td>0.271711</td>\n      <td>2.163382</td>\n      <td>-1.417041</td>\n      <td>-21.391002</td>\n    </tr>\n    <tr>\n      <th>1483</th>\n      <td>1477</td>\n      <td>-0.063529</td>\n      <td>-1.148433</td>\n      <td>-1.797669</td>\n      <td>1.744704</td>\n      <td>-0.591143</td>\n      <td>-1.455659</td>\n      <td>1.161416</td>\n      <td>0.705538</td>\n      <td>0.377713</td>\n      <td>-0.590566</td>\n      <td>5.768213</td>\n      <td>-10.987004</td>\n    </tr>\n  </tbody>\n</table>\n<p>1477 rows × 13 columns</p>\n</div>"
     },
     "metadata": {}
    }
   ]
  },
  {
   "cell_type": "code",
   "metadata": {
    "cell_id": "00008-ecc25ec9-9105-4377-9f71-5d9f2924ad85",
    "deepnote_to_be_reexecuted": false,
    "source_hash": "480b1850",
    "execution_start": 1638869636500,
    "execution_millis": 226,
    "deepnote_output_heights": [
     21.1875,
     250
    ],
    "deepnote_cell_type": "code"
   },
   "source": "plt.scatter(df_visual['x'], df_visual['y'])",
   "execution_count": null,
   "outputs": [
    {
     "output_type": "execute_result",
     "execution_count": 5,
     "data": {
      "text/plain": "<matplotlib.collections.PathCollection at 0x7f1de183dad0>"
     },
     "metadata": {}
    },
    {
     "data": {
      "text/plain": "<Figure size 432x288 with 1 Axes>",
      "image/png": "[encoded data removed]"
     },
     "metadata": {
      "needs_background": "light",
      "image/png": {
       "width": 377,
       "height": 248
      }
     },
     "output_type": "display_data"
    }
   ]
  },
  {
   "cell_type": "code",
   "metadata": {
    "cell_id": "00009-e76e9d76-563d-4c98-9f64-ff4bfe074e31",
    "deepnote_to_be_reexecuted": false,
    "source_hash": "1c369add",
    "execution_start": 1638869636728,
    "execution_millis": 642,
    "deepnote_cell_type": "code"
   },
   "source": "from sklearn.neural_network import MLPRegressor\nfrom sklearn.model_selection import train_test_split",
   "execution_count": null,
   "outputs": []
  },
  {
   "cell_type": "code",
   "metadata": {
    "cell_id": "00010-39835903-227d-46cf-a8aa-d7617bdc5f80",
    "deepnote_to_be_reexecuted": false,
    "source_hash": "5da2e0c5",
    "execution_start": 1638869637377,
    "execution_millis": 32,
    "deepnote_cell_type": "code"
   },
   "source": "label = df[['x','y']]\ndf.drop(labels=['x','y'], axis=1, inplace=True)\n#train_set, test_set, train_label, test_label = train_test_split(adult, label, stratify =label, test_size=0.30)",
   "execution_count": null,
   "outputs": []
  },
  {
   "cell_type": "code",
   "metadata": {
    "cell_id": "00011-188ae37d-6ccc-43ad-aa9a-1a0a00846e0f",
    "deepnote_to_be_reexecuted": false,
    "source_hash": "82ef483e",
    "execution_start": 1638869637410,
    "execution_millis": 5,
    "deepnote_output_heights": [
     382.1875
    ],
    "deepnote_cell_type": "code"
   },
   "source": "label",
   "execution_count": null,
   "outputs": [
    {
     "output_type": "execute_result",
     "execution_count": 8,
     "data": {
      "application/vnd.deepnote.dataframe.v2+json": {
       "row_count": 1477,
       "column_count": 2,
       "columns": [
        {
         "name": "x",
         "dtype": "float64",
         "stats": {
          "unique_count": 1477,
          "nan_count": 0,
          "min": "-2.100573",
          "max": "8.593776",
          "histogram": [
           {
            "bin_start": -2.100573,
            "bin_end": -1.0311381,
            "count": 191
           },
           {
            "bin_start": -1.0311381,
            "bin_end": 0.03829679999999991,
            "count": 176
           },
           {
            "bin_start": 0.03829679999999991,
            "bin_end": 1.1077316999999995,
            "count": 157
           },
           {
            "bin_start": 1.1077316999999995,
            "bin_end": 2.1771665999999996,
            "count": 145
           },
           {
            "bin_start": 2.1771665999999996,
            "bin_end": 3.2466014999999997,
            "count": 142
           },
           {
            "bin_start": 3.2466014999999997,
            "bin_end": 4.316036399999999,
            "count": 156
           },
           {
            "bin_start": 4.316036399999999,
            "bin_end": 5.385471299999999,
            "count": 134
           },
           {
            "bin_start": 5.385471299999999,
            "bin_end": 6.454906199999999,
            "count": 157
           },
           {
            "bin_start": 6.454906199999999,
            "bin_end": 7.524341099999998,
            "count": 140
           },
           {
            "bin_start": 7.524341099999998,
            "bin_end": 8.593776,
            "count": 79
           }
          ]
         }
        },
        {
         "name": "y",
         "dtype": "float64",
         "stats": {
          "unique_count": 1477,
          "nan_count": 0,
          "min": "-31.773589",
          "max": "-7.389552",
          "histogram": [
           {
            "bin_start": -31.773589,
            "bin_end": -29.335185300000003,
            "count": 186
           },
           {
            "bin_start": -29.335185300000003,
            "bin_end": -26.8967816,
            "count": 181
           },
           {
            "bin_start": -26.8967816,
            "bin_end": -24.458377900000002,
            "count": 177
           },
           {
            "bin_start": -24.458377900000002,
            "bin_end": -22.0199742,
            "count": 62
           },
           {
            "bin_start": -22.0199742,
            "bin_end": -19.5815705,
            "count": 153
           },
           {
            "bin_start": -19.5815705,
            "bin_end": -17.143166800000003,
            "count": 145
           },
           {
            "bin_start": -17.143166800000003,
            "bin_end": -14.704763100000001,
            "count": 137
           },
           {
            "bin_start": -14.704763100000001,
            "bin_end": -12.266359400000002,
            "count": 148
           },
           {
            "bin_start": -12.266359400000002,
            "bin_end": -9.827955700000004,
            "count": 140
           },
           {
            "bin_start": -9.827955700000004,
            "bin_end": -7.389552,
            "count": 148
           }
          ]
         }
        },
        {
         "name": "_deepnote_index_column",
         "dtype": "int64"
        }
       ],
       "rows_top": [
        {
         "x": 7.187592,
         "y": -8.768943,
         "_deepnote_index_column": 7
        },
        {
         "x": 0.170888,
         "y": -25.895562,
         "_deepnote_index_column": 8
        },
        {
         "x": 4.167006,
         "y": -29.062891,
         "_deepnote_index_column": 9
        },
        {
         "x": 7.259387,
         "y": -31.529549,
         "_deepnote_index_column": 10
        },
        {
         "x": 5.94143,
         "y": -30.540759,
         "_deepnote_index_column": 11
        },
        {
         "x": 7.411681,
         "y": -8.042986,
         "_deepnote_index_column": 12
        },
        {
         "x": -0.13233,
         "y": -25.367187,
         "_deepnote_index_column": 13
        },
        {
         "x": 3.1225,
         "y": -28.22778,
         "_deepnote_index_column": 14
        },
        {
         "x": 0.279545,
         "y": -17.914489,
         "_deepnote_index_column": 15
        },
        {
         "x": 1.687099,
         "y": -16.230912,
         "_deepnote_index_column": 16
        },
        {
         "x": 6.63171,
         "y": -30.793279,
         "_deepnote_index_column": 17
        },
        {
         "x": 5.101943,
         "y": -29.906874,
         "_deepnote_index_column": 18
        },
        {
         "x": 7.023751,
         "y": -8.930348,
         "_deepnote_index_column": 19
        },
        {
         "x": 6.125674,
         "y": -9.879066,
         "_deepnote_index_column": 20
        },
        {
         "x": -1.05666,
         "y": -22.702961,
         "_deepnote_index_column": 21
        },
        {
         "x": -1.125585,
         "y": -23.98926,
         "_deepnote_index_column": 22
        },
        {
         "x": 5.501051,
         "y": -10.457624,
         "_deepnote_index_column": 23
        },
        {
         "x": 1.352841,
         "y": -16.495448,
         "_deepnote_index_column": 24
        },
        {
         "x": 6.653216,
         "y": -31.241312,
         "_deepnote_index_column": 25
        },
        {
         "x": 7.775698,
         "y": -7.933846,
         "_deepnote_index_column": 26
        },
        {
         "x": 3.373255,
         "y": -28.55964,
         "_deepnote_index_column": 27
        },
        {
         "x": -0.185486,
         "y": -25.784378,
         "_deepnote_index_column": 28
        },
        {
         "x": 1.981421,
         "y": -15.842557,
         "_deepnote_index_column": 29
        },
        {
         "x": 7.684384,
         "y": -8.623076,
         "_deepnote_index_column": 30
        },
        {
         "x": 6.995742,
         "y": -9.475791,
         "_deepnote_index_column": 31
        },
        {
         "x": 5.466437,
         "y": -10.94194,
         "_deepnote_index_column": 32
        },
        {
         "x": 6.179077,
         "y": -10.454446,
         "_deepnote_index_column": 33
        },
        {
         "x": 4.341275,
         "y": -29.508254,
         "_deepnote_index_column": 34
        },
        {
         "x": 0.728727,
         "y": -26.559876,
         "_deepnote_index_column": 35
        },
        {
         "x": -1.507591,
         "y": -20.298558,
         "_deepnote_index_column": 36
        },
        {
         "x": 0.894603,
         "y": -26.525764,
         "_deepnote_index_column": 37
        },
        {
         "x": 6.326161,
         "y": -30.666586,
         "_deepnote_index_column": 38
        },
        {
         "x": 3.993573,
         "y": -13.618671,
         "_deepnote_index_column": 39
        },
        {
         "x": 1.223807,
         "y": -16.720017,
         "_deepnote_index_column": 40
        },
        {
         "x": 3.000139,
         "y": -28.084313,
         "_deepnote_index_column": 41
        },
        {
         "x": 5.869953,
         "y": -30.53564,
         "_deepnote_index_column": 42
        },
        {
         "x": 5.37984,
         "y": -11.532169,
         "_deepnote_index_column": 43
        },
        {
         "x": -1.81399,
         "y": -21.522785,
         "_deepnote_index_column": 44
        },
        {
         "x": 8.094672,
         "y": -7.502124,
         "_deepnote_index_column": 45
        },
        {
         "x": -0.149222,
         "y": -26.149683,
         "_deepnote_index_column": 46
        },
        {
         "x": 6.592415,
         "y": -9.709499,
         "_deepnote_index_column": 47
        },
        {
         "x": 6.713085,
         "y": -9.41253,
         "_deepnote_index_column": 48
        },
        {
         "x": 2.497463,
         "y": -15.372603,
         "_deepnote_index_column": 49
        },
        {
         "x": 3.098582,
         "y": -14.677858,
         "_deepnote_index_column": 50
        },
        {
         "x": -0.107984,
         "y": -25.335401,
         "_deepnote_index_column": 51
        },
        {
         "x": -0.91897,
         "y": -20.258715,
         "_deepnote_index_column": 52
        },
        {
         "x": 2.417123,
         "y": -15.27275,
         "_deepnote_index_column": 53
        },
        {
         "x": 7.401958,
         "y": -31.441938,
         "_deepnote_index_column": 54
        },
        {
         "x": -0.827349,
         "y": -21.798684,
         "_deepnote_index_column": 55
        },
        {
         "x": -0.675055,
         "y": -25.05749,
         "_deepnote_index_column": 56
        },
        {
         "x": 6.733443,
         "y": -30.910636,
         "_deepnote_index_column": 57
        },
        {
         "x": 6.809633,
         "y": -30.871661,
         "_deepnote_index_column": 58
        },
        {
         "x": 3.413877,
         "y": -13.694249,
         "_deepnote_index_column": 59
        },
        {
         "x": 8.212335,
         "y": -7.526421,
         "_deepnote_index_column": 60
        },
        {
         "x": -1.374993,
         "y": -20.660765,
         "_deepnote_index_column": 61
        },
        {
         "x": -0.958943,
         "y": -21.70179,
         "_deepnote_index_column": 62
        },
        {
         "x": 8.04104,
         "y": -7.905007,
         "_deepnote_index_column": 63
        },
        {
         "x": 0.32948,
         "y": -18.159863,
         "_deepnote_index_column": 64
        },
        {
         "x": 1.552971,
         "y": -16.493718,
         "_deepnote_index_column": 65
        },
        {
         "x": -0.526843,
         "y": -25.52557,
         "_deepnote_index_column": 66
        },
        {
         "x": 6.517777,
         "y": -9.169847,
         "_deepnote_index_column": 67
        },
        {
         "x": -0.987073,
         "y": -23.595256,
         "_deepnote_index_column": 68
        },
        {
         "x": 7.295164,
         "y": -31.285844,
         "_deepnote_index_column": 69
        },
        {
         "x": 5.231285,
         "y": -11.456595,
         "_deepnote_index_column": 70
        },
        {
         "x": 4.433971,
         "y": -29.199456,
         "_deepnote_index_column": 71
        },
        {
         "x": 4.246202,
         "y": -12.614016,
         "_deepnote_index_column": 72
        },
        {
         "x": 4.370232,
         "y": -29.282995,
         "_deepnote_index_column": 73
        },
        {
         "x": -1.40959,
         "y": -24.042312,
         "_deepnote_index_column": 74
        },
        {
         "x": 1.279825,
         "y": -17.044096,
         "_deepnote_index_column": 75
        },
        {
         "x": 2.185415,
         "y": -15.68429,
         "_deepnote_index_column": 76
        },
        {
         "x": 1.183981,
         "y": -26.552076,
         "_deepnote_index_column": 77
        },
        {
         "x": 0.490056,
         "y": -26.079364,
         "_deepnote_index_column": 78
        },
        {
         "x": 1.630188,
         "y": -16.411639,
         "_deepnote_index_column": 79
        },
        {
         "x": -1.348057,
         "y": -21.240699,
         "_deepnote_index_column": 80
        },
        {
         "x": 8.038094,
         "y": -7.792688,
         "_deepnote_index_column": 81
        },
        {
         "x": 1.67607,
         "y": -16.694745,
         "_deepnote_index_column": 82
        },
        {
         "x": 1.385421,
         "y": -26.751944,
         "_deepnote_index_column": 83
        },
        {
         "x": 3.120314,
         "y": -14.518203,
         "_deepnote_index_column": 84
        },
        {
         "x": 5.946162,
         "y": -10.267957,
         "_deepnote_index_column": 85
        },
        {
         "x": -1.301514,
         "y": -21.080989,
         "_deepnote_index_column": 86
        },
        {
         "x": -0.756439,
         "y": -22.836663,
         "_deepnote_index_column": 87
        },
        {
         "x": -1.204505,
         "y": -20.027593,
         "_deepnote_index_column": 88
        },
        {
         "x": 0.682334,
         "y": -17.60235,
         "_deepnote_index_column": 89
        },
        {
         "x": 1.444976,
         "y": -26.967959,
         "_deepnote_index_column": 90
        },
        {
         "x": 7.119093,
         "y": -31.264193,
         "_deepnote_index_column": 91
        },
        {
         "x": 7.989346,
         "y": -7.679523,
         "_deepnote_index_column": 92
        },
        {
         "x": 3.279333,
         "y": -14.592864,
         "_deepnote_index_column": 93
        },
        {
         "x": 6.788572,
         "y": -8.785937,
         "_deepnote_index_column": 94
        },
        {
         "x": 6.757832,
         "y": -31.200735,
         "_deepnote_index_column": 95
        },
        {
         "x": 2.863215,
         "y": -28.171486,
         "_deepnote_index_column": 96
        },
        {
         "x": 1.146876,
         "y": -26.597271,
         "_deepnote_index_column": 97
        },
        {
         "x": 4.814389,
         "y": -12.153689,
         "_deepnote_index_column": 98
        },
        {
         "x": 2.116764,
         "y": -27.182437,
         "_deepnote_index_column": 99
        },
        {
         "x": 8.133951,
         "y": -7.676706,
         "_deepnote_index_column": 100
        },
        {
         "x": 0.255729,
         "y": -25.915915,
         "_deepnote_index_column": 101
        },
        {
         "x": 2.327213,
         "y": -15.621476,
         "_deepnote_index_column": 102
        },
        {
         "x": 3.961631,
         "y": -13.614455,
         "_deepnote_index_column": 103
        },
        {
         "x": 1.01548,
         "y": -17.219378,
         "_deepnote_index_column": 104
        },
        {
         "x": 6.000414,
         "y": -11.080295,
         "_deepnote_index_column": 105
        },
        {
         "x": 7.022921,
         "y": -31.181871,
         "_deepnote_index_column": 106
        },
        {
         "x": 5.84991,
         "y": -30.508718,
         "_deepnote_index_column": 107
        },
        {
         "x": 0.184829,
         "y": -18.366185,
         "_deepnote_index_column": 108
        },
        {
         "x": 0.253927,
         "y": -26.121887,
         "_deepnote_index_column": 109
        },
        {
         "x": 6.721546,
         "y": -30.819057,
         "_deepnote_index_column": 110
        },
        {
         "x": -0.895153,
         "y": -25.127356,
         "_deepnote_index_column": 111
        },
        {
         "x": 0.818008,
         "y": -17.355423,
         "_deepnote_index_column": 112
        },
        {
         "x": 8.12385,
         "y": -7.407058,
         "_deepnote_index_column": 113
        },
        {
         "x": -0.453741,
         "y": -18.852953,
         "_deepnote_index_column": 114
        },
        {
         "x": 7.437145,
         "y": -8.465239,
         "_deepnote_index_column": 115
        },
        {
         "x": 7.890369,
         "y": -31.758657,
         "_deepnote_index_column": 116
        },
        {
         "x": 7.702553,
         "y": -8.105167,
         "_deepnote_index_column": 117
        },
        {
         "x": 1.319216,
         "y": -27.083043,
         "_deepnote_index_column": 118
        },
        {
         "x": 7.895779,
         "y": -31.756539,
         "_deepnote_index_column": 119
        },
        {
         "x": 4.177759,
         "y": -29.249819,
         "_deepnote_index_column": 120
        },
        {
         "x": 1.481853,
         "y": -16.066061,
         "_deepnote_index_column": 121
        },
        {
         "x": 6.15641,
         "y": -10.238794,
         "_deepnote_index_column": 122
        },
        {
         "x": 6.144298,
         "y": -30.482849,
         "_deepnote_index_column": 123
        },
        {
         "x": -1.157576,
         "y": -24.631831,
         "_deepnote_index_column": 124
        },
        {
         "x": -1.266982,
         "y": -24.193692,
         "_deepnote_index_column": 125
        },
        {
         "x": 4.650889,
         "y": -29.694883,
         "_deepnote_index_column": 126
        },
        {
         "x": 4.959169,
         "y": -29.806106,
         "_deepnote_index_column": 127
        },
        {
         "x": -1.15938,
         "y": -24.460096,
         "_deepnote_index_column": 128
        },
        {
         "x": -1.476857,
         "y": -22.033383,
         "_deepnote_index_column": 129
        },
        {
         "x": 5.943233,
         "y": -10.166157,
         "_deepnote_index_column": 130
        },
        {
         "x": 3.690771,
         "y": -28.393507,
         "_deepnote_index_column": 131
        },
        {
         "x": -1.072593,
         "y": -24.280264,
         "_deepnote_index_column": 132
        },
        {
         "x": 0.744749,
         "y": -17.284695,
         "_deepnote_index_column": 133
        },
        {
         "x": 7.103144,
         "y": -31.454189,
         "_deepnote_index_column": 134
        },
        {
         "x": 4.234086,
         "y": -29.339835,
         "_deepnote_index_column": 135
        },
        {
         "x": 5.330854,
         "y": -29.916018,
         "_deepnote_index_column": 136
        },
        {
         "x": 0.767453,
         "y": -26.344452,
         "_deepnote_index_column": 137
        },
        {
         "x": 2.527935,
         "y": -27.800063,
         "_deepnote_index_column": 138
        },
        {
         "x": 5.169142,
         "y": -29.844549,
         "_deepnote_index_column": 139
        },
        {
         "x": 7.63502,
         "y": -8.212791,
         "_deepnote_index_column": 140
        },
        {
         "x": 6.182023,
         "y": -10.558989,
         "_deepnote_index_column": 141
        },
        {
         "x": -1.746902,
         "y": -21.063469,
         "_deepnote_index_column": 142
        },
        {
         "x": -0.439002,
         "y": -19.287207,
         "_deepnote_index_column": 143
        },
        {
         "x": 0.089297,
         "y": -18.276525,
         "_deepnote_index_column": 144
        },
        {
         "x": 7.240875,
         "y": -31.329039,
         "_deepnote_index_column": 145
        },
        {
         "x": 3.154007,
         "y": -14.176703,
         "_deepnote_index_column": 146
        },
        {
         "x": -0.7927,
         "y": -24.987294,
         "_deepnote_index_column": 147
        },
        {
         "x": 1.659807,
         "y": -16.619655,
         "_deepnote_index_column": 148
        },
        {
         "x": 3.741809,
         "y": -13.148957,
         "_deepnote_index_column": 149
        },
        {
         "x": 5.716421,
         "y": -29.955546,
         "_deepnote_index_column": 150
        },
        {
         "x": 1.270493,
         "y": -26.868882,
         "_deepnote_index_column": 151
        },
        {
         "x": 0.244361,
         "y": -17.977629,
         "_deepnote_index_column": 152
        },
        {
         "x": 2.947465,
         "y": -28.058483,
         "_deepnote_index_column": 153
        },
        {
         "x": -0.988513,
         "y": -25.041495,
         "_deepnote_index_column": 154
        },
        {
         "x": 3.94576,
         "y": -13.206083,
         "_deepnote_index_column": 155
        },
        {
         "x": 4.792947,
         "y": -29.707383,
         "_deepnote_index_column": 156
        },
        {
         "x": -0.598924,
         "y": -25.115152,
         "_deepnote_index_column": 157
        },
        {
         "x": -1.471535,
         "y": -20.331117,
         "_deepnote_index_column": 158
        },
        {
         "x": 0.445417,
         "y": -26.040559,
         "_deepnote_index_column": 159
        },
        {
         "x": 7.573887,
         "y": -31.625882,
         "_deepnote_index_column": 160
        },
        {
         "x": -1.283658,
         "y": -19.837271,
         "_deepnote_index_column": 161
        },
        {
         "x": 2.416501,
         "y": -15.19077,
         "_deepnote_index_column": 162
        },
        {
         "x": 4.623335,
         "y": -12.03133,
         "_deepnote_index_column": 163
        },
        {
         "x": -1.735358,
         "y": -20.926401,
         "_deepnote_index_column": 164
        },
        {
         "x": -0.844121,
         "y": -25.178788,
         "_deepnote_index_column": 165
        },
        {
         "x": -0.999714,
         "y": -24.276086,
         "_deepnote_index_column": 166
        },
        {
         "x": 3.216787,
         "y": -13.935982,
         "_deepnote_index_column": 167
        },
        {
         "x": 0.250727,
         "y": -18.397521,
         "_deepnote_index_column": 168
        },
        {
         "x": -0.166184,
         "y": -18.979753,
         "_deepnote_index_column": 169
        },
        {
         "x": 3.919231,
         "y": -28.642916,
         "_deepnote_index_column": 170
        },
        {
         "x": -1.023477,
         "y": -19.633633,
         "_deepnote_index_column": 171
        },
        {
         "x": 2.355642,
         "y": -15.852505,
         "_deepnote_index_column": 172
        },
        {
         "x": 0.038579,
         "y": -18.45746,
         "_deepnote_index_column": 173
        },
        {
         "x": 7.553128,
         "y": -8.32504,
         "_deepnote_index_column": 174
        },
        {
         "x": 0.862429,
         "y": -17.001286,
         "_deepnote_index_column": 175
        },
        {
         "x": 5.282651,
         "y": -11.952563,
         "_deepnote_index_column": 176
        },
        {
         "x": 5.644451,
         "y": -30.373782,
         "_deepnote_index_column": 177
        },
        {
         "x": 2.589394,
         "y": -15.439613,
         "_deepnote_index_column": 178
        },
        {
         "x": 1.856814,
         "y": -27.315206,
         "_deepnote_index_column": 179
        },
        {
         "x": 5.637979,
         "y": -11.013053,
         "_deepnote_index_column": 180
        },
        {
         "x": 2.049589,
         "y": -15.965582,
         "_deepnote_index_column": 181
        },
        {
         "x": -0.467297,
         "y": -25.46038,
         "_deepnote_index_column": 182
        },
        {
         "x": 8.474439,
         "y": -7.718555,
         "_deepnote_index_column": 183
        },
        {
         "x": 0.582756,
         "y": -26.627741,
         "_deepnote_index_column": 184
        },
        {
         "x": -1.016488,
         "y": -24.76349,
         "_deepnote_index_column": 185
        },
        {
         "x": 2.356987,
         "y": -27.83938,
         "_deepnote_index_column": 186
        },
        {
         "x": -0.018321,
         "y": -25.642477,
         "_deepnote_index_column": 187
        },
        {
         "x": 5.043613,
         "y": -11.429781,
         "_deepnote_index_column": 188
        },
        {
         "x": -1.769024,
         "y": -21.286731,
         "_deepnote_index_column": 189
        },
        {
         "x": -1.316197,
         "y": -22.216944,
         "_deepnote_index_column": 190
        },
        {
         "x": 6.183205,
         "y": -10.327897,
         "_deepnote_index_column": 191
        },
        {
         "x": 6.721147,
         "y": -9.321699,
         "_deepnote_index_column": 192
        },
        {
         "x": 7.6959,
         "y": -31.462777,
         "_deepnote_index_column": 193
        },
        {
         "x": 5.380384,
         "y": -30.132597,
         "_deepnote_index_column": 194
        },
        {
         "x": -1.358246,
         "y": -21.436519,
         "_deepnote_index_column": 195
        },
        {
         "x": -0.823389,
         "y": -21.857248,
         "_deepnote_index_column": 196
        },
        {
         "x": 0.17101,
         "y": -25.456435,
         "_deepnote_index_column": 197
        },
        {
         "x": 7.189183,
         "y": -9.075333,
         "_deepnote_index_column": 198
        },
        {
         "x": 2.325204,
         "y": -15.459287,
         "_deepnote_index_column": 199
        },
        {
         "x": 4.351632,
         "y": -12.915758,
         "_deepnote_index_column": 200
        },
        {
         "x": 4.078937,
         "y": -13.356187,
         "_deepnote_index_column": 201
        },
        {
         "x": -0.991546,
         "y": -19.448136,
         "_deepnote_index_column": 202
        },
        {
         "x": 4.582244,
         "y": -29.40105,
         "_deepnote_index_column": 203
        },
        {
         "x": 1.382545,
         "y": -16.364488,
         "_deepnote_index_column": 204
        },
        {
         "x": 0.471889,
         "y": -18.115724,
         "_deepnote_index_column": 205
        },
        {
         "x": 0.651561,
         "y": -26.452484,
         "_deepnote_index_column": 206
        },
        {
         "x": 4.267453,
         "y": -12.429035,
         "_deepnote_index_column": 207
        },
        {
         "x": 0.198212,
         "y": -25.920143,
         "_deepnote_index_column": 208
        },
        {
         "x": 4.436573,
         "y": -12.88802,
         "_deepnote_index_column": 209
        },
        {
         "x": -1.176281,
         "y": -23.157294,
         "_deepnote_index_column": 210
        },
        {
         "x": -0.5597,
         "y": -19.314255,
         "_deepnote_index_column": 211
        },
        {
         "x": 0.394755,
         "y": -26.135023,
         "_deepnote_index_column": 212
        },
        {
         "x": -1.29237,
         "y": -24.137025,
         "_deepnote_index_column": 213
        },
        {
         "x": 7.17675,
         "y": -8.505011,
         "_deepnote_index_column": 214
        },
        {
         "x": -1.135433,
         "y": -23.57899,
         "_deepnote_index_column": 215
        },
        {
         "x": 2.658846,
         "y": -27.834155,
         "_deepnote_index_column": 216
        },
        {
         "x": -1.20912,
         "y": -24.061048,
         "_deepnote_index_column": 217
        },
        {
         "x": -1.399773,
         "y": -21.282423,
         "_deepnote_index_column": 218
        },
        {
         "x": -1.044856,
         "y": -24.784494,
         "_deepnote_index_column": 219
        },
        {
         "x": 2.020412,
         "y": -27.532302,
         "_deepnote_index_column": 220
        },
        {
         "x": 7.114853,
         "y": -9.053742,
         "_deepnote_index_column": 221
        },
        {
         "x": 3.767872,
         "y": -28.670627,
         "_deepnote_index_column": 222
        },
        {
         "x": -0.857282,
         "y": -22.049779,
         "_deepnote_index_column": 223
        },
        {
         "x": 5.479717,
         "y": -11.669664,
         "_deepnote_index_column": 224
        },
        {
         "x": 0.79252,
         "y": -26.286088,
         "_deepnote_index_column": 225
        },
        {
         "x": 1.470881,
         "y": -16.156775,
         "_deepnote_index_column": 226
        },
        {
         "x": 5.575333,
         "y": -10.853002,
         "_deepnote_index_column": 227
        },
        {
         "x": -0.124671,
         "y": -25.678397,
         "_deepnote_index_column": 228
        },
        {
         "x": -1.350769,
         "y": -20.082686,
         "_deepnote_index_column": 229
        },
        {
         "x": 7.103661,
         "y": -8.874584,
         "_deepnote_index_column": 230
        },
        {
         "x": 2.076862,
         "y": -15.899471,
         "_deepnote_index_column": 231
        },
        {
         "x": -0.512214,
         "y": -19.580807,
         "_deepnote_index_column": 232
        },
        {
         "x": -1.443593,
         "y": -20.11467,
         "_deepnote_index_column": 233
        },
        {
         "x": 4.846035,
         "y": -12.237463,
         "_deepnote_index_column": 234
        },
        {
         "x": -1.71278,
         "y": -21.095654,
         "_deepnote_index_column": 235
        },
        {
         "x": 2.204463,
         "y": -27.693282,
         "_deepnote_index_column": 236
        },
        {
         "x": 0.993162,
         "y": -26.405583,
         "_deepnote_index_column": 237
        },
        {
         "x": -1.36906,
         "y": -20.077003,
         "_deepnote_index_column": 238
        },
        {
         "x": 0.179566,
         "y": -25.718472,
         "_deepnote_index_column": 239
        },
        {
         "x": 8.19613,
         "y": -7.463373,
         "_deepnote_index_column": 240
        },
        {
         "x": -1.135197,
         "y": -21.987606,
         "_deepnote_index_column": 241
        },
        {
         "x": 5.350428,
         "y": -30.155989,
         "_deepnote_index_column": 242
        },
        {
         "x": 6.732127,
         "y": -9.323238,
         "_deepnote_index_column": 243
        },
        {
         "x": 4.66906,
         "y": -29.335903,
         "_deepnote_index_column": 244
        },
        {
         "x": 5.20676,
         "y": -11.874921,
         "_deepnote_index_column": 245
        },
        {
         "x": 1.907317,
         "y": -27.302766,
         "_deepnote_index_column": 246
        },
        {
         "x": 1.922248,
         "y": -16.063049,
         "_deepnote_index_column": 247
        },
        {
         "x": -1.086083,
         "y": -20.244487,
         "_deepnote_index_column": 248
        },
        {
         "x": 8.047737,
         "y": -7.80865,
         "_deepnote_index_column": 249
        },
        {
         "x": 1.080474,
         "y": -26.329033,
         "_deepnote_index_column": 250
        },
        {
         "x": -0.479325,
         "y": -19.05552,
         "_deepnote_index_column": 251
        },
        {
         "x": 0.934811,
         "y": -26.489995,
         "_deepnote_index_column": 252
        },
        {
         "x": -0.260211,
         "y": -25.717629,
         "_deepnote_index_column": 253
        },
        {
         "x": 1.070484,
         "y": -26.662889,
         "_deepnote_index_column": 254
        },
        {
         "x": 4.592058,
         "y": -12.522222,
         "_deepnote_index_column": 255
        },
        {
         "x": 7.42526,
         "y": -31.365227,
         "_deepnote_index_column": 256
        }
       ],
       "rows_bottom": [
        {
         "x": 7.050347,
         "y": -9.450412,
         "_deepnote_index_column": 1234
        },
        {
         "x": -1.27729,
         "y": -20.000542,
         "_deepnote_index_column": 1235
        },
        {
         "x": 6.606358,
         "y": -9.723392,
         "_deepnote_index_column": 1236
        },
        {
         "x": 3.750054,
         "y": -28.768541,
         "_deepnote_index_column": 1237
        },
        {
         "x": 5.764865,
         "y": -10.740558,
         "_deepnote_index_column": 1238
        },
        {
         "x": 6.325263,
         "y": -10.151004,
         "_deepnote_index_column": 1239
        },
        {
         "x": 5.029772,
         "y": -29.666627,
         "_deepnote_index_column": 1240
        },
        {
         "x": -1.763545,
         "y": -21.039843,
         "_deepnote_index_column": 1241
        },
        {
         "x": 0.212338,
         "y": -17.981032,
         "_deepnote_index_column": 1242
        },
        {
         "x": 0.075927,
         "y": -25.923132,
         "_deepnote_index_column": 1243
        },
        {
         "x": 0.446021,
         "y": -17.764442,
         "_deepnote_index_column": 1244
        },
        {
         "x": 1.137574,
         "y": -16.761315,
         "_deepnote_index_column": 1245
        },
        {
         "x": 6.264945,
         "y": -9.957473,
         "_deepnote_index_column": 1246
        },
        {
         "x": 4.247095,
         "y": -29.056391,
         "_deepnote_index_column": 1247
        },
        {
         "x": 2.554442,
         "y": -15.162399,
         "_deepnote_index_column": 1248
        },
        {
         "x": 7.30169,
         "y": -8.753531,
         "_deepnote_index_column": 1249
        },
        {
         "x": 1.900477,
         "y": -27.389159,
         "_deepnote_index_column": 1250
        },
        {
         "x": 0.900169,
         "y": -26.886181,
         "_deepnote_index_column": 1251
        },
        {
         "x": 4.459832,
         "y": -13.300278,
         "_deepnote_index_column": 1252
        },
        {
         "x": -0.668085,
         "y": -19.765391,
         "_deepnote_index_column": 1253
        },
        {
         "x": 5.833467,
         "y": -10.552202,
         "_deepnote_index_column": 1254
        },
        {
         "x": 3.7502,
         "y": -28.534107,
         "_deepnote_index_column": 1255
        },
        {
         "x": 7.388983,
         "y": -31.500828,
         "_deepnote_index_column": 1256
        },
        {
         "x": 6.5521,
         "y": -9.86036,
         "_deepnote_index_column": 1257
        },
        {
         "x": 2.858269,
         "y": -14.572669,
         "_deepnote_index_column": 1258
        },
        {
         "x": 5.459302,
         "y": -30.060625,
         "_deepnote_index_column": 1259
        },
        {
         "x": 2.529762,
         "y": -15.574453,
         "_deepnote_index_column": 1260
        },
        {
         "x": 4.491718,
         "y": -12.69627,
         "_deepnote_index_column": 1261
        },
        {
         "x": 6.516293,
         "y": -31.042257,
         "_deepnote_index_column": 1262
        },
        {
         "x": 1.978595,
         "y": -15.374898,
         "_deepnote_index_column": 1263
        },
        {
         "x": 5.395414,
         "y": -30.170643,
         "_deepnote_index_column": 1264
        },
        {
         "x": 3.248212,
         "y": -28.286703,
         "_deepnote_index_column": 1265
        },
        {
         "x": 0.941271,
         "y": -16.630858,
         "_deepnote_index_column": 1266
        },
        {
         "x": 4.192149,
         "y": -29.059339,
         "_deepnote_index_column": 1267
        },
        {
         "x": 0.213734,
         "y": -18.230532,
         "_deepnote_index_column": 1268
        },
        {
         "x": 4.788037,
         "y": -12.296968,
         "_deepnote_index_column": 1269
        },
        {
         "x": -1.473255,
         "y": -21.509873,
         "_deepnote_index_column": 1270
        },
        {
         "x": 5.743294,
         "y": -30.345648,
         "_deepnote_index_column": 1271
        },
        {
         "x": 4.82495,
         "y": -11.459059,
         "_deepnote_index_column": 1272
        },
        {
         "x": 0.780075,
         "y": -17.729859,
         "_deepnote_index_column": 1273
        },
        {
         "x": 2.796805,
         "y": -14.755353,
         "_deepnote_index_column": 1274
        },
        {
         "x": 3.850811,
         "y": -13.476703,
         "_deepnote_index_column": 1275
        },
        {
         "x": 7.734854,
         "y": -7.773813,
         "_deepnote_index_column": 1276
        },
        {
         "x": 3.701516,
         "y": -13.48049,
         "_deepnote_index_column": 1277
        },
        {
         "x": 4.249739,
         "y": -13.090339,
         "_deepnote_index_column": 1278
        },
        {
         "x": 0.507408,
         "y": -25.917899,
         "_deepnote_index_column": 1279
        },
        {
         "x": 5.637088,
         "y": -11.203793,
         "_deepnote_index_column": 1280
        },
        {
         "x": 8.226583,
         "y": -7.437321,
         "_deepnote_index_column": 1281
        },
        {
         "x": 3.511947,
         "y": -28.677615,
         "_deepnote_index_column": 1282
        },
        {
         "x": 1.299723,
         "y": -26.885766,
         "_deepnote_index_column": 1283
        },
        {
         "x": 4.644593,
         "y": -12.750806,
         "_deepnote_index_column": 1284
        },
        {
         "x": 8.024896,
         "y": -31.773589,
         "_deepnote_index_column": 1285
        },
        {
         "x": -0.935458,
         "y": -19.746898,
         "_deepnote_index_column": 1286
        },
        {
         "x": 1.534612,
         "y": -16.772701,
         "_deepnote_index_column": 1287
        },
        {
         "x": 1.360059,
         "y": -16.825614,
         "_deepnote_index_column": 1288
        },
        {
         "x": 0.871142,
         "y": -16.988743,
         "_deepnote_index_column": 1289
        },
        {
         "x": 3.336336,
         "y": -28.290816,
         "_deepnote_index_column": 1290
        },
        {
         "x": 6.209547,
         "y": -30.885106,
         "_deepnote_index_column": 1291
        },
        {
         "x": 5.329543,
         "y": -11.707493,
         "_deepnote_index_column": 1292
        },
        {
         "x": -1.276656,
         "y": -20.361455,
         "_deepnote_index_column": 1293
        },
        {
         "x": 0.579757,
         "y": -26.226496,
         "_deepnote_index_column": 1294
        },
        {
         "x": 3.973653,
         "y": -13.160725,
         "_deepnote_index_column": 1295
        },
        {
         "x": 5.987061,
         "y": -10.76117,
         "_deepnote_index_column": 1296
        },
        {
         "x": 0.63297,
         "y": -18.230227,
         "_deepnote_index_column": 1297
        },
        {
         "x": -1.897523,
         "y": -20.348771,
         "_deepnote_index_column": 1298
        },
        {
         "x": 7.883015,
         "y": -8.199198,
         "_deepnote_index_column": 1299
        },
        {
         "x": 1.418787,
         "y": -16.693913,
         "_deepnote_index_column": 1300
        },
        {
         "x": 0.041186,
         "y": -18.555954,
         "_deepnote_index_column": 1301
        },
        {
         "x": -1.228176,
         "y": -22.297924,
         "_deepnote_index_column": 1302
        },
        {
         "x": 3.250972,
         "y": -28.480957,
         "_deepnote_index_column": 1303
        },
        {
         "x": 5.632804,
         "y": -11.260273,
         "_deepnote_index_column": 1304
        },
        {
         "x": 7.134645,
         "y": -8.89351,
         "_deepnote_index_column": 1305
        },
        {
         "x": -2.100573,
         "y": -20.904462,
         "_deepnote_index_column": 1306
        },
        {
         "x": -0.446075,
         "y": -19.416515,
         "_deepnote_index_column": 1307
        },
        {
         "x": 3.426644,
         "y": -13.83698,
         "_deepnote_index_column": 1308
        },
        {
         "x": 6.30673,
         "y": -10.009416,
         "_deepnote_index_column": 1309
        },
        {
         "x": 1.420802,
         "y": -16.224163,
         "_deepnote_index_column": 1310
        },
        {
         "x": 3.317032,
         "y": -28.4239,
         "_deepnote_index_column": 1311
        },
        {
         "x": 1.086544,
         "y": -26.330419,
         "_deepnote_index_column": 1312
        },
        {
         "x": -0.015475,
         "y": -25.685208,
         "_deepnote_index_column": 1313
        },
        {
         "x": 7.018572,
         "y": -9.301112,
         "_deepnote_index_column": 1314
        },
        {
         "x": 3.780775,
         "y": -13.58864,
         "_deepnote_index_column": 1315
        },
        {
         "x": 0.715269,
         "y": -17.798934,
         "_deepnote_index_column": 1316
        },
        {
         "x": 1.131763,
         "y": -17.159846,
         "_deepnote_index_column": 1317
        },
        {
         "x": 3.835525,
         "y": -28.705838,
         "_deepnote_index_column": 1318
        },
        {
         "x": 4.319027,
         "y": -12.539724,
         "_deepnote_index_column": 1319
        },
        {
         "x": 6.906039,
         "y": -31.120735,
         "_deepnote_index_column": 1320
        },
        {
         "x": 1.319973,
         "y": -16.923438,
         "_deepnote_index_column": 1321
        },
        {
         "x": 0.049001,
         "y": -18.448077,
         "_deepnote_index_column": 1322
        },
        {
         "x": 5.795832,
         "y": -11.274166,
         "_deepnote_index_column": 1323
        },
        {
         "x": 7.091376,
         "y": -9.040884,
         "_deepnote_index_column": 1324
        },
        {
         "x": 1.690808,
         "y": -27.444691,
         "_deepnote_index_column": 1325
        },
        {
         "x": 6.759268,
         "y": -30.946771,
         "_deepnote_index_column": 1326
        },
        {
         "x": -0.988531,
         "y": -24.469533,
         "_deepnote_index_column": 1327
        },
        {
         "x": 5.910475,
         "y": -30.4937,
         "_deepnote_index_column": 1328
        },
        {
         "x": 7.443592,
         "y": -8.594432,
         "_deepnote_index_column": 1329
        },
        {
         "x": 4.764602,
         "y": -29.378974,
         "_deepnote_index_column": 1330
        },
        {
         "x": 0.578011,
         "y": -26.264894,
         "_deepnote_index_column": 1331
        },
        {
         "x": -0.399178,
         "y": -25.519196,
         "_deepnote_index_column": 1332
        },
        {
         "x": 2.424761,
         "y": -15.169532,
         "_deepnote_index_column": 1333
        },
        {
         "x": -1.495859,
         "y": -20.718019,
         "_deepnote_index_column": 1334
        },
        {
         "x": 0.801179,
         "y": -17.465253,
         "_deepnote_index_column": 1335
        },
        {
         "x": 0.81488,
         "y": -17.315782,
         "_deepnote_index_column": 1336
        },
        {
         "x": 1.15256,
         "y": -27.074408,
         "_deepnote_index_column": 1337
        },
        {
         "x": -0.259981,
         "y": -18.612466,
         "_deepnote_index_column": 1338
        },
        {
         "x": 6.104503,
         "y": -10.177714,
         "_deepnote_index_column": 1339
        },
        {
         "x": 5.69019,
         "y": -10.84834,
         "_deepnote_index_column": 1340
        },
        {
         "x": 4.891149,
         "y": -11.920932,
         "_deepnote_index_column": 1341
        },
        {
         "x": 6.804214,
         "y": -9.630442,
         "_deepnote_index_column": 1342
        },
        {
         "x": 7.978989,
         "y": -7.679825,
         "_deepnote_index_column": 1343
        },
        {
         "x": 3.155658,
         "y": -14.257953,
         "_deepnote_index_column": 1344
        },
        {
         "x": 7.78865,
         "y": -8.270883,
         "_deepnote_index_column": 1345
        },
        {
         "x": -1.305251,
         "y": -21.581303,
         "_deepnote_index_column": 1346
        },
        {
         "x": 7.570858,
         "y": -8.411421,
         "_deepnote_index_column": 1347
        },
        {
         "x": 1.627359,
         "y": -16.375934,
         "_deepnote_index_column": 1348
        },
        {
         "x": 2.743056,
         "y": -15.069159,
         "_deepnote_index_column": 1349
        },
        {
         "x": 3.868733,
         "y": -28.773461,
         "_deepnote_index_column": 1350
        },
        {
         "x": 5.1106,
         "y": -29.765917,
         "_deepnote_index_column": 1351
        },
        {
         "x": 1.446111,
         "y": -16.576593,
         "_deepnote_index_column": 1352
        },
        {
         "x": -1.876871,
         "y": -21.171443,
         "_deepnote_index_column": 1353
        },
        {
         "x": 7.063758,
         "y": -31.148566,
         "_deepnote_index_column": 1354
        },
        {
         "x": 2.077299,
         "y": -27.374149,
         "_deepnote_index_column": 1355
        },
        {
         "x": 3.169242,
         "y": -28.22566,
         "_deepnote_index_column": 1356
        },
        {
         "x": 7.95575,
         "y": -7.789629,
         "_deepnote_index_column": 1357
        },
        {
         "x": 5.509821,
         "y": -30.325154,
         "_deepnote_index_column": 1358
        },
        {
         "x": 3.438586,
         "y": -28.436321,
         "_deepnote_index_column": 1359
        },
        {
         "x": 5.121286,
         "y": -29.950819,
         "_deepnote_index_column": 1360
        },
        {
         "x": 4.789164,
         "y": -11.729194,
         "_deepnote_index_column": 1361
        },
        {
         "x": 5.173917,
         "y": -11.592828,
         "_deepnote_index_column": 1362
        },
        {
         "x": 2.388948,
         "y": -15.695383,
         "_deepnote_index_column": 1363
        },
        {
         "x": 4.252304,
         "y": -12.945758,
         "_deepnote_index_column": 1364
        },
        {
         "x": 4.994005,
         "y": -11.782713,
         "_deepnote_index_column": 1365
        },
        {
         "x": 3.612969,
         "y": -13.83288,
         "_deepnote_index_column": 1366
        },
        {
         "x": 6.300541,
         "y": -10.377767,
         "_deepnote_index_column": 1367
        },
        {
         "x": 6.122457,
         "y": -10.557587,
         "_deepnote_index_column": 1368
        },
        {
         "x": 3.513258,
         "y": -14.293118,
         "_deepnote_index_column": 1369
        },
        {
         "x": -0.77126,
         "y": -19.419925,
         "_deepnote_index_column": 1370
        },
        {
         "x": -0.320861,
         "y": -18.795224,
         "_deepnote_index_column": 1371
        },
        {
         "x": 3.729438,
         "y": -28.655348,
         "_deepnote_index_column": 1372
        },
        {
         "x": 0.48684,
         "y": -26.109263,
         "_deepnote_index_column": 1373
        },
        {
         "x": 5.787431,
         "y": -10.980089,
         "_deepnote_index_column": 1374
        },
        {
         "x": 5.764575,
         "y": -30.382334,
         "_deepnote_index_column": 1375
        },
        {
         "x": 7.43365,
         "y": -8.572454,
         "_deepnote_index_column": 1376
        },
        {
         "x": 0.850036,
         "y": -26.375483,
         "_deepnote_index_column": 1377
        },
        {
         "x": -0.645761,
         "y": -19.876424,
         "_deepnote_index_column": 1378
        },
        {
         "x": -1.064326,
         "y": -22.513811,
         "_deepnote_index_column": 1379
        },
        {
         "x": 2.140038,
         "y": -27.701122,
         "_deepnote_index_column": 1380
        },
        {
         "x": 6.727242,
         "y": -9.322785,
         "_deepnote_index_column": 1381
        },
        {
         "x": 0.284312,
         "y": -26.213356,
         "_deepnote_index_column": 1382
        },
        {
         "x": 3.570603,
         "y": -13.398453,
         "_deepnote_index_column": 1383
        },
        {
         "x": 8.133912,
         "y": -7.65617,
         "_deepnote_index_column": 1384
        },
        {
         "x": 3.841025,
         "y": -13.294132,
         "_deepnote_index_column": 1385
        },
        {
         "x": 4.034522,
         "y": -13.010365,
         "_deepnote_index_column": 1386
        },
        {
         "x": 7.766747,
         "y": -7.792214,
         "_deepnote_index_column": 1387
        },
        {
         "x": 2.930942,
         "y": -14.744976,
         "_deepnote_index_column": 1388
        },
        {
         "x": 4.575308,
         "y": -29.208292,
         "_deepnote_index_column": 1389
        },
        {
         "x": -0.584138,
         "y": -19.60275,
         "_deepnote_index_column": 1390
        },
        {
         "x": -0.483557,
         "y": -25.522055,
         "_deepnote_index_column": 1391
        },
        {
         "x": -1.122199,
         "y": -19.996128,
         "_deepnote_index_column": 1392
        },
        {
         "x": 4.807068,
         "y": -11.842392,
         "_deepnote_index_column": 1393
        },
        {
         "x": 0.885167,
         "y": -26.22231,
         "_deepnote_index_column": 1394
        },
        {
         "x": 0.938102,
         "y": -17.464286,
         "_deepnote_index_column": 1395
        },
        {
         "x": -0.210633,
         "y": -18.764242,
         "_deepnote_index_column": 1396
        },
        {
         "x": -0.594296,
         "y": -24.997263,
         "_deepnote_index_column": 1397
        },
        {
         "x": 5.476622,
         "y": -30.104115,
         "_deepnote_index_column": 1398
        },
        {
         "x": -1.294148,
         "y": -20.322049,
         "_deepnote_index_column": 1399
        },
        {
         "x": 7.066572,
         "y": -8.87747,
         "_deepnote_index_column": 1400
        },
        {
         "x": 5.922964,
         "y": -11.010345,
         "_deepnote_index_column": 1401
        },
        {
         "x": 4.139082,
         "y": -13.208596,
         "_deepnote_index_column": 1402
        },
        {
         "x": 2.268089,
         "y": -27.926893,
         "_deepnote_index_column": 1403
        },
        {
         "x": 6.40445,
         "y": -9.880898,
         "_deepnote_index_column": 1404
        },
        {
         "x": 7.615708,
         "y": -8.04389,
         "_deepnote_index_column": 1405
        },
        {
         "x": -1.131013,
         "y": -21.789095,
         "_deepnote_index_column": 1406
        },
        {
         "x": 0.392572,
         "y": -17.979365,
         "_deepnote_index_column": 1407
        },
        {
         "x": 5.532623,
         "y": -10.997476,
         "_deepnote_index_column": 1408
        },
        {
         "x": -1.61166,
         "y": -20.035064,
         "_deepnote_index_column": 1409
        },
        {
         "x": 7.44004,
         "y": -8.791622,
         "_deepnote_index_column": 1410
        },
        {
         "x": -1.621985,
         "y": -20.999908,
         "_deepnote_index_column": 1411
        },
        {
         "x": 7.803512,
         "y": -7.910395,
         "_deepnote_index_column": 1412
        },
        {
         "x": -1.776699,
         "y": -20.618424,
         "_deepnote_index_column": 1413
        },
        {
         "x": 2.783611,
         "y": -27.966956,
         "_deepnote_index_column": 1414
        },
        {
         "x": 4.302496,
         "y": -12.804836,
         "_deepnote_index_column": 1415
        },
        {
         "x": 3.059787,
         "y": -14.626728,
         "_deepnote_index_column": 1416
        },
        {
         "x": 2.465314,
         "y": -27.629739,
         "_deepnote_index_column": 1417
        },
        {
         "x": -1.589535,
         "y": -20.835673,
         "_deepnote_index_column": 1418
        },
        {
         "x": -1.069553,
         "y": -21.882327,
         "_deepnote_index_column": 1419
        },
        {
         "x": 5.895656,
         "y": -30.486787,
         "_deepnote_index_column": 1420
        },
        {
         "x": -0.060785,
         "y": -25.761822,
         "_deepnote_index_column": 1421
        },
        {
         "x": 7.136961,
         "y": -9.012938,
         "_deepnote_index_column": 1422
        },
        {
         "x": -1.306772,
         "y": -22.494342,
         "_deepnote_index_column": 1423
        },
        {
         "x": -1.422829,
         "y": -22.961739,
         "_deepnote_index_column": 1424
        },
        {
         "x": 3.887898,
         "y": -28.662415,
         "_deepnote_index_column": 1425
        },
        {
         "x": 3.616159,
         "y": -13.716565,
         "_deepnote_index_column": 1426
        },
        {
         "x": -0.202946,
         "y": -18.780732,
         "_deepnote_index_column": 1427
        },
        {
         "x": 1.372883,
         "y": -26.747544,
         "_deepnote_index_column": 1428
        },
        {
         "x": 0.852371,
         "y": -17.704908,
         "_deepnote_index_column": 1429
        },
        {
         "x": -0.056994,
         "y": -25.801359,
         "_deepnote_index_column": 1430
        },
        {
         "x": 4.46923,
         "y": -13.020044,
         "_deepnote_index_column": 1431
        },
        {
         "x": 0.537029,
         "y": -17.885689,
         "_deepnote_index_column": 1432
        },
        {
         "x": 4.587355,
         "y": -12.704966,
         "_deepnote_index_column": 1433
        },
        {
         "x": -1.464524,
         "y": -21.540325,
         "_deepnote_index_column": 1434
        },
        {
         "x": 7.579391,
         "y": -8.451532,
         "_deepnote_index_column": 1435
        },
        {
         "x": 4.792694,
         "y": -29.411195,
         "_deepnote_index_column": 1436
        },
        {
         "x": 4.483801,
         "y": -12.387433,
         "_deepnote_index_column": 1437
        },
        {
         "x": -1.037623,
         "y": -23.954318,
         "_deepnote_index_column": 1438
        },
        {
         "x": 6.002163,
         "y": -10.450867,
         "_deepnote_index_column": 1439
        },
        {
         "x": 7.103893,
         "y": -31.162483,
         "_deepnote_index_column": 1440
        },
        {
         "x": -1.711105,
         "y": -23.760971,
         "_deepnote_index_column": 1441
        },
        {
         "x": 3.380092,
         "y": -28.418381,
         "_deepnote_index_column": 1442
        },
        {
         "x": 6.230908,
         "y": -30.677252,
         "_deepnote_index_column": 1443
        },
        {
         "x": 3.199494,
         "y": -14.459853,
         "_deepnote_index_column": 1444
        },
        {
         "x": 7.179025,
         "y": -31.530941,
         "_deepnote_index_column": 1445
        },
        {
         "x": 3.405571,
         "y": -13.90233,
         "_deepnote_index_column": 1446
        },
        {
         "x": 7.539325,
         "y": -8.737763,
         "_deepnote_index_column": 1447
        },
        {
         "x": 1.628667,
         "y": -27.264039,
         "_deepnote_index_column": 1448
        },
        {
         "x": 3.536261,
         "y": -14.089104,
         "_deepnote_index_column": 1449
        },
        {
         "x": 3.94079,
         "y": -14.007004,
         "_deepnote_index_column": 1450
        },
        {
         "x": 3.931287,
         "y": -13.33391,
         "_deepnote_index_column": 1451
        },
        {
         "x": -0.008339,
         "y": -25.636546,
         "_deepnote_index_column": 1452
        },
        {
         "x": 4.280597,
         "y": -12.654841,
         "_deepnote_index_column": 1453
        },
        {
         "x": 2.000444,
         "y": -15.407474,
         "_deepnote_index_column": 1454
        },
        {
         "x": 5.922609,
         "y": -11.019454,
         "_deepnote_index_column": 1455
        },
        {
         "x": 6.216924,
         "y": -9.898958,
         "_deepnote_index_column": 1456
        },
        {
         "x": -0.430964,
         "y": -19.098442,
         "_deepnote_index_column": 1457
        },
        {
         "x": 6.940963,
         "y": -9.44065,
         "_deepnote_index_column": 1458
        },
        {
         "x": -0.568219,
         "y": -19.217315,
         "_deepnote_index_column": 1459
        },
        {
         "x": 1.417946,
         "y": -27.225021,
         "_deepnote_index_column": 1460
        },
        {
         "x": 3.147682,
         "y": -14.182717,
         "_deepnote_index_column": 1461
        },
        {
         "x": 4.277245,
         "y": -28.988714,
         "_deepnote_index_column": 1462
        },
        {
         "x": -0.490943,
         "y": -19.150876,
         "_deepnote_index_column": 1463
        },
        {
         "x": 0.01771,
         "y": -25.79824,
         "_deepnote_index_column": 1464
        },
        {
         "x": 2.747962,
         "y": -14.990202,
         "_deepnote_index_column": 1465
        },
        {
         "x": 1.136756,
         "y": -17.058411,
         "_deepnote_index_column": 1466
        },
        {
         "x": 6.475922,
         "y": -30.856942,
         "_deepnote_index_column": 1467
        },
        {
         "x": 0.517376,
         "y": -26.338423,
         "_deepnote_index_column": 1468
        },
        {
         "x": 4.276272,
         "y": -13.494504,
         "_deepnote_index_column": 1469
        },
        {
         "x": -0.459987,
         "y": -18.87725,
         "_deepnote_index_column": 1470
        },
        {
         "x": 7.91137,
         "y": -8.073921,
         "_deepnote_index_column": 1471
        },
        {
         "x": 3.09335,
         "y": -14.192742,
         "_deepnote_index_column": 1472
        },
        {
         "x": -1.278724,
         "y": -21.049334,
         "_deepnote_index_column": 1473
        },
        {
         "x": 4.231259,
         "y": -12.819464,
         "_deepnote_index_column": 1474
        },
        {
         "x": 0.194739,
         "y": -25.710983,
         "_deepnote_index_column": 1475
        },
        {
         "x": 4.243681,
         "y": -12.754707,
         "_deepnote_index_column": 1476
        },
        {
         "x": -0.52659,
         "y": -24.52859,
         "_deepnote_index_column": 1477
        },
        {
         "x": 4.011767,
         "y": -28.93716,
         "_deepnote_index_column": 1478
        },
        {
         "x": 4.587862,
         "y": -29.743108,
         "_deepnote_index_column": 1479
        },
        {
         "x": -0.961247,
         "y": -19.418516,
         "_deepnote_index_column": 1480
        },
        {
         "x": 4.247799,
         "y": -29.460539,
         "_deepnote_index_column": 1481
        },
        {
         "x": -1.417041,
         "y": -21.391002,
         "_deepnote_index_column": 1482
        },
        {
         "x": 5.768213,
         "y": -10.987004,
         "_deepnote_index_column": 1483
        }
       ]
      },
      "text/plain": "             x          y\n7     7.187592  -8.768943\n8     0.170888 -25.895562\n9     4.167006 -29.062891\n10    7.259387 -31.529549\n11    5.941430 -30.540759\n...        ...        ...\n1479  4.587862 -29.743108\n1480 -0.961247 -19.418516\n1481  4.247799 -29.460539\n1482 -1.417041 -21.391002\n1483  5.768213 -10.987004\n\n[1477 rows x 2 columns]",
      "text/html": "<div>\n<style scoped>\n    .dataframe tbody tr th:only-of-type {\n        vertical-align: middle;\n    }\n\n    .dataframe tbody tr th {\n        vertical-align: top;\n    }\n\n    .dataframe thead th {\n        text-align: right;\n    }\n</style>\n<table border=\"1\" class=\"dataframe\">\n  <thead>\n    <tr style=\"text-align: right;\">\n      <th></th>\n      <th>x</th>\n      <th>y</th>\n    </tr>\n  </thead>\n  <tbody>\n    <tr>\n      <th>7</th>\n      <td>7.187592</td>\n      <td>-8.768943</td>\n    </tr>\n    <tr>\n      <th>8</th>\n      <td>0.170888</td>\n      <td>-25.895562</td>\n    </tr>\n    <tr>\n      <th>9</th>\n      <td>4.167006</td>\n      <td>-29.062891</td>\n    </tr>\n    <tr>\n      <th>10</th>\n      <td>7.259387</td>\n      <td>-31.529549</td>\n    </tr>\n    <tr>\n      <th>11</th>\n      <td>5.941430</td>\n      <td>-30.540759</td>\n    </tr>\n    <tr>\n      <th>...</th>\n      <td>...</td>\n      <td>...</td>\n    </tr>\n    <tr>\n      <th>1479</th>\n      <td>4.587862</td>\n      <td>-29.743108</td>\n    </tr>\n    <tr>\n      <th>1480</th>\n      <td>-0.961247</td>\n      <td>-19.418516</td>\n    </tr>\n    <tr>\n      <th>1481</th>\n      <td>4.247799</td>\n      <td>-29.460539</td>\n    </tr>\n    <tr>\n      <th>1482</th>\n      <td>-1.417041</td>\n      <td>-21.391002</td>\n    </tr>\n    <tr>\n      <th>1483</th>\n      <td>5.768213</td>\n      <td>-10.987004</td>\n    </tr>\n  </tbody>\n</table>\n<p>1477 rows × 2 columns</p>\n</div>"
     },
     "metadata": {}
    }
   ]
  },
  {
   "cell_type": "code",
   "metadata": {
    "cell_id": "00012-179a319b-f070-4904-902d-ae4b7e24625b",
    "deepnote_to_be_reexecuted": false,
    "source_hash": "f804c160",
    "execution_start": 1638869637416,
    "execution_millis": 63,
    "deepnote_output_heights": [
     382.1875
    ],
    "deepnote_cell_type": "code"
   },
   "source": "df",
   "execution_count": null,
   "outputs": [
    {
     "output_type": "execute_result",
     "execution_count": 9,
     "data": {
      "application/vnd.deepnote.dataframe.v2+json": {
       "row_count": 1477,
       "column_count": 11,
       "columns": [
        {
         "name": "idx",
         "dtype": "object",
         "stats": {
          "unique_count": 1477,
          "nan_count": 0,
          "categories": [
           {
            "name": "1",
            "count": 1
           },
           {
            "name": "2",
            "count": 1
           },
           {
            "name": "1475 others",
            "count": 1475
           }
          ]
         }
        },
        {
         "name": "f1",
         "dtype": "float64",
         "stats": {
          "unique_count": 1477,
          "nan_count": 0,
          "min": "-2.526427",
          "max": "2.501544",
          "histogram": [
           {
            "bin_start": -2.526427,
            "bin_end": -2.0236299,
            "count": 8
           },
           {
            "bin_start": -2.0236299,
            "bin_end": -1.5208328,
            "count": 30
           },
           {
            "bin_start": -1.5208328,
            "bin_end": -1.0180357,
            "count": 94
           },
           {
            "bin_start": -1.0180357,
            "bin_end": -0.5152386,
            "count": 174
           },
           {
            "bin_start": -0.5152386,
            "bin_end": -0.012441499999999994,
            "count": 292
           },
           {
            "bin_start": -0.012441499999999994,
            "bin_end": 0.4903556,
            "count": 311
           },
           {
            "bin_start": 0.4903556,
            "bin_end": 0.9931527,
            "count": 238
           },
           {
            "bin_start": 0.9931527,
            "bin_end": 1.4959498,
            "count": 139
           },
           {
            "bin_start": 1.4959498,
            "bin_end": 1.9987469000000004,
            "count": 137
           },
           {
            "bin_start": 1.9987469000000004,
            "bin_end": 2.501544,
            "count": 54
           }
          ]
         }
        },
        {
         "name": "f2",
         "dtype": "float64",
         "stats": {
          "unique_count": 1477,
          "nan_count": 0,
          "min": "-1.918939",
          "max": "2.464911",
          "histogram": [
           {
            "bin_start": -1.918939,
            "bin_end": -1.480554,
            "count": 36
           },
           {
            "bin_start": -1.480554,
            "bin_end": -1.042169,
            "count": 211
           },
           {
            "bin_start": -1.042169,
            "bin_end": -0.6037840000000001,
            "count": 283
           },
           {
            "bin_start": -0.6037840000000001,
            "bin_end": -0.16539900000000007,
            "count": 144
           },
           {
            "bin_start": -0.16539900000000007,
            "bin_end": 0.27298599999999995,
            "count": 138
           },
           {
            "bin_start": 0.27298599999999995,
            "bin_end": 0.7113709999999998,
            "count": 271
           },
           {
            "bin_start": 0.7113709999999998,
            "bin_end": 1.149756,
            "count": 194
           },
           {
            "bin_start": 1.149756,
            "bin_end": 1.5881409999999998,
            "count": 157
           },
           {
            "bin_start": 1.5881409999999998,
            "bin_end": 2.0265259999999996,
            "count": 39
           },
           {
            "bin_start": 2.0265259999999996,
            "bin_end": 2.464911,
            "count": 4
           }
          ]
         }
        },
        {
         "name": "f3",
         "dtype": "float64",
         "stats": {
          "unique_count": 1477,
          "nan_count": 0,
          "min": "-2.42089",
          "max": "2.329639",
          "histogram": [
           {
            "bin_start": -2.42089,
            "bin_end": -1.9458370999999999,
            "count": 16
           },
           {
            "bin_start": -1.9458370999999999,
            "bin_end": -1.4707842,
            "count": 67
           },
           {
            "bin_start": -1.4707842,
            "bin_end": -0.9957313000000001,
            "count": 185
           },
           {
            "bin_start": -0.9957313000000001,
            "bin_end": -0.5206784,
            "count": 203
           },
           {
            "bin_start": -0.5206784,
            "bin_end": -0.045625499999999874,
            "count": 180
           },
           {
            "bin_start": -0.045625499999999874,
            "bin_end": 0.4294273999999998,
            "count": 188
           },
           {
            "bin_start": 0.4294273999999998,
            "bin_end": 0.9044802999999999,
            "count": 206
           },
           {
            "bin_start": 0.9044802999999999,
            "bin_end": 1.3795332,
            "count": 224
           },
           {
            "bin_start": 1.3795332,
            "bin_end": 1.8545860999999997,
            "count": 173
           },
           {
            "bin_start": 1.8545860999999997,
            "bin_end": 2.329639,
            "count": 35
           }
          ]
         }
        },
        {
         "name": "f4",
         "dtype": "float64",
         "stats": {
          "unique_count": 1477,
          "nan_count": 0,
          "min": "-1.946351",
          "max": "2.327658",
          "histogram": [
           {
            "bin_start": -1.946351,
            "bin_end": -1.5189501,
            "count": 48
           },
           {
            "bin_start": -1.5189501,
            "bin_end": -1.0915492,
            "count": 216
           },
           {
            "bin_start": -1.0915492,
            "bin_end": -0.6641482999999999,
            "count": 205
           },
           {
            "bin_start": -0.6641482999999999,
            "bin_end": -0.23674740000000005,
            "count": 147
           },
           {
            "bin_start": -0.23674740000000005,
            "bin_end": 0.1906534999999998,
            "count": 138
           },
           {
            "bin_start": 0.1906534999999998,
            "bin_end": 0.6180544000000001,
            "count": 204
           },
           {
            "bin_start": 0.6180544000000001,
            "bin_end": 1.0454553,
            "count": 234
           },
           {
            "bin_start": 1.0454553,
            "bin_end": 1.4728561999999998,
            "count": 206
           },
           {
            "bin_start": 1.4728561999999998,
            "bin_end": 1.9002570999999997,
            "count": 75
           },
           {
            "bin_start": 1.9002570999999997,
            "bin_end": 2.327658,
            "count": 4
           }
          ]
         }
        },
        {
         "name": "f5",
         "dtype": "float64",
         "stats": {
          "unique_count": 1476,
          "nan_count": 0,
          "min": "-1.897417",
          "max": "1.885105",
          "histogram": [
           {
            "bin_start": -1.897417,
            "bin_end": -1.5191648,
            "count": 24
           },
           {
            "bin_start": -1.5191648,
            "bin_end": -1.1409125999999998,
            "count": 129
           },
           {
            "bin_start": -1.1409125999999998,
            "bin_end": -0.7626603999999997,
            "count": 242
           },
           {
            "bin_start": -0.7626603999999997,
            "bin_end": -0.38440819999999976,
            "count": 224
           },
           {
            "bin_start": -0.38440819999999976,
            "bin_end": -0.006155999999999828,
            "count": 126
           },
           {
            "bin_start": -0.006155999999999828,
            "bin_end": 0.37209620000000054,
            "count": 185
           },
           {
            "bin_start": 0.37209620000000054,
            "bin_end": 0.7503484000000005,
            "count": 266
           },
           {
            "bin_start": 0.7503484000000005,
            "bin_end": 1.1286006000000004,
            "count": 188
           },
           {
            "bin_start": 1.1286006000000004,
            "bin_end": 1.5068528000000003,
            "count": 74
           },
           {
            "bin_start": 1.5068528000000003,
            "bin_end": 1.885105,
            "count": 19
           }
          ]
         }
        },
        {
         "name": "f6",
         "dtype": "float64",
         "stats": {
          "unique_count": 1477,
          "nan_count": 0,
          "min": "-2.040401",
          "max": "2.282652",
          "histogram": [
           {
            "bin_start": -2.040401,
            "bin_end": -1.6080957000000002,
            "count": 34
           },
           {
            "bin_start": -1.6080957000000002,
            "bin_end": -1.1757904000000001,
            "count": 131
           },
           {
            "bin_start": -1.1757904000000001,
            "bin_end": -0.7434851,
            "count": 245
           },
           {
            "bin_start": -0.7434851,
            "bin_end": -0.3111798000000001,
            "count": 168
           },
           {
            "bin_start": -0.3111798000000001,
            "bin_end": 0.12112549999999978,
            "count": 143
           },
           {
            "bin_start": 0.12112549999999978,
            "bin_end": 0.5534308000000001,
            "count": 152
           },
           {
            "bin_start": 0.5534308000000001,
            "bin_end": 0.9857361,
            "count": 197
           },
           {
            "bin_start": 0.9857361,
            "bin_end": 1.4180414,
            "count": 251
           },
           {
            "bin_start": 1.4180414,
            "bin_end": 1.8503466999999998,
            "count": 114
           },
           {
            "bin_start": 1.8503466999999998,
            "bin_end": 2.282652,
            "count": 42
           }
          ]
         }
        },
        {
         "name": "f7",
         "dtype": "float64",
         "stats": {
          "unique_count": 1477,
          "nan_count": 0,
          "min": "-1.91966",
          "max": "2.110213",
          "histogram": [
           {
            "bin_start": -1.91966,
            "bin_end": -1.5166727,
            "count": 37
           },
           {
            "bin_start": -1.5166727,
            "bin_end": -1.1136853999999998,
            "count": 195
           },
           {
            "bin_start": -1.1136853999999998,
            "bin_end": -0.7106980999999997,
            "count": 231
           },
           {
            "bin_start": -0.7106980999999997,
            "bin_end": -0.30771079999999973,
            "count": 137
           },
           {
            "bin_start": -0.30771079999999973,
            "bin_end": 0.09527650000000021,
            "count": 125
           },
           {
            "bin_start": 0.09527650000000021,
            "bin_end": 0.4982638000000006,
            "count": 175
           },
           {
            "bin_start": 0.4982638000000006,
            "bin_end": 0.9012511000000005,
            "count": 240
           },
           {
            "bin_start": 0.9012511000000005,
            "bin_end": 1.3042384000000005,
            "count": 191
           },
           {
            "bin_start": 1.3042384000000005,
            "bin_end": 1.7072257000000004,
            "count": 118
           },
           {
            "bin_start": 1.7072257000000004,
            "bin_end": 2.110213,
            "count": 28
           }
          ]
         }
        },
        {
         "name": "f8",
         "dtype": "float64",
         "stats": {
          "unique_count": 1477,
          "nan_count": 0,
          "min": "-2.095531",
          "max": "2.048281",
          "histogram": [
           {
            "bin_start": -2.095531,
            "bin_end": -1.6811497999999998,
            "count": 36
           },
           {
            "bin_start": -1.6811497999999998,
            "bin_end": -1.2667685999999998,
            "count": 117
           },
           {
            "bin_start": -1.2667685999999998,
            "bin_end": -0.8523874,
            "count": 197
           },
           {
            "bin_start": -0.8523874,
            "bin_end": -0.4380062,
            "count": 161
           },
           {
            "bin_start": -0.4380062,
            "bin_end": -0.023625000000000007,
            "count": 105
           },
           {
            "bin_start": -0.023625000000000007,
            "bin_end": 0.3907561999999998,
            "count": 178
           },
           {
            "bin_start": 0.3907561999999998,
            "bin_end": 0.8051374,
            "count": 256
           },
           {
            "bin_start": 0.8051374,
            "bin_end": 1.2195185999999998,
            "count": 210
           },
           {
            "bin_start": 1.2195185999999998,
            "bin_end": 1.6338997999999996,
            "count": 184
           },
           {
            "bin_start": 1.6338997999999996,
            "bin_end": 2.048281,
            "count": 33
           }
          ]
         }
        },
        {
         "name": "f9",
         "dtype": "float64",
         "stats": {
          "unique_count": 1477,
          "nan_count": 0,
          "min": "-2.242666",
          "max": "2.258689",
          "histogram": [
           {
            "bin_start": -2.242666,
            "bin_end": -1.7925304999999998,
            "count": 22
           },
           {
            "bin_start": -1.7925304999999998,
            "bin_end": -1.3423949999999998,
            "count": 98
           },
           {
            "bin_start": -1.3423949999999998,
            "bin_end": -0.8922594999999998,
            "count": 206
           },
           {
            "bin_start": -0.8922594999999998,
            "bin_end": -0.44212399999999974,
            "count": 163
           },
           {
            "bin_start": -0.44212399999999974,
            "bin_end": 0.008011500000000282,
            "count": 107
           },
           {
            "bin_start": 0.008011500000000282,
            "bin_end": 0.4581470000000003,
            "count": 233
           },
           {
            "bin_start": 0.4581470000000003,
            "bin_end": 0.9082825000000003,
            "count": 290
           },
           {
            "bin_start": 0.9082825000000003,
            "bin_end": 1.3584180000000003,
            "count": 182
           },
           {
            "bin_start": 1.3584180000000003,
            "bin_end": 1.8085535000000004,
            "count": 163
           },
           {
            "bin_start": 1.8085535000000004,
            "bin_end": 2.258689,
            "count": 13
           }
          ]
         }
        },
        {
         "name": "f10",
         "dtype": "float64",
         "stats": {
          "unique_count": 1477,
          "nan_count": 0,
          "min": "-2.847029",
          "max": "2.819043",
          "histogram": [
           {
            "bin_start": -2.847029,
            "bin_end": -2.2804218,
            "count": 6
           },
           {
            "bin_start": -2.2804218,
            "bin_end": -1.7138146,
            "count": 17
           },
           {
            "bin_start": -1.7138146,
            "bin_end": -1.1472074,
            "count": 55
           },
           {
            "bin_start": -1.1472074,
            "bin_end": -0.5806002000000001,
            "count": 239
           },
           {
            "bin_start": -0.5806002000000001,
            "bin_end": -0.013993000000000144,
            "count": 404
           },
           {
            "bin_start": -0.013993000000000144,
            "bin_end": 0.5526141999999998,
            "count": 265
           },
           {
            "bin_start": 0.5526141999999998,
            "bin_end": 1.1192213999999998,
            "count": 147
           },
           {
            "bin_start": 1.1192213999999998,
            "bin_end": 1.6858285999999998,
            "count": 204
           },
           {
            "bin_start": 1.6858285999999998,
            "bin_end": 2.2524357999999998,
            "count": 108
           },
           {
            "bin_start": 2.2524357999999998,
            "bin_end": 2.819043,
            "count": 32
           }
          ]
         }
        },
        {
         "name": "_deepnote_index_column",
         "dtype": "int64"
        }
       ],
       "rows_top": [
        {
         "idx": "1",
         "f1": 0.248433,
         "f2": -1.801874,
         "f3": -1.116485,
         "f4": 1.25523,
         "f5": -1.021899,
         "f6": -1.425146,
         "f7": 1.029583,
         "f8": 1.261154,
         "f9": -0.185208,
         "f10": -0.61897,
         "_deepnote_index_column": 7
        },
        {
         "idx": "2",
         "f1": 0.612246,
         "f2": 0.369337,
         "f3": 1.119434,
         "f4": -0.689106,
         "f5": 0.451776,
         "f6": 1.308115,
         "f7": -0.518925,
         "f8": 0.129025,
         "f9": -0.558788,
         "f10": 1.588863,
         "_deepnote_index_column": 8
        },
        {
         "idx": "3",
         "f1": -0.974871,
         "f2": 0.275613,
         "f3": 1.106435,
         "f4": -0.867804,
         "f5": 0.230839,
         "f6": 1.870421,
         "f7": -0.794584,
         "f8": -1.712529,
         "f9": -0.935208,
         "f10": 0.109706,
         "_deepnote_index_column": 9
        },
        {
         "idx": "4",
         "f1": -1.493339,
         "f2": 1.992164,
         "f3": 0.609691,
         "f4": -1.001476,
         "f5": 1.268201,
         "f6": 0.516364,
         "f7": -0.984814,
         "f8": -1.16944,
         "f9": -0.765422,
         "f10": -0.487069,
         "_deepnote_index_column": 10
        },
        {
         "idx": "5",
         "f1": -0.432028,
         "f2": 1.592409,
         "f3": 0.853561,
         "f4": -1.365528,
         "f5": 1.310392,
         "f6": 0.954528,
         "f7": -0.946305,
         "f8": -1.269243,
         "f9": -2.031158,
         "f10": -0.227847,
         "_deepnote_index_column": 11
        },
        {
         "idx": "6",
         "f1": -0.457769,
         "f2": -1.274877,
         "f3": -1.278964,
         "f4": 1.218044,
         "f5": -1.084448,
         "f6": -1.335288,
         "f7": 1.558226,
         "f8": 1.922927,
         "f9": 0.350112,
         "f10": -1.800676,
         "_deepnote_index_column": 12
        },
        {
         "idx": "7",
         "f1": -0.601187,
         "f2": 0.604264,
         "f3": 1.308459,
         "f4": -0.574974,
         "f5": 0.59625,
         "f6": 1.151715,
         "f7": 0.244839,
         "f8": -0.015721,
         "f9": -1.506754,
         "f10": 1.858233,
         "_deepnote_index_column": 13
        },
        {
         "idx": "8",
         "f1": -1.005062,
         "f2": 0.410997,
         "f3": 1.568293,
         "f4": -1.128671,
         "f5": -0.843388,
         "f6": 1.494365,
         "f7": -0.787263,
         "f8": -0.655806,
         "f9": -1.121765,
         "f10": -0.427253,
         "_deepnote_index_column": 14
        },
        {
         "idx": "9",
         "f1": 2.063762,
         "f2": -0.237232,
         "f3": -0.267166,
         "f4": -0.966792,
         "f5": -0.237925,
         "f6": -0.507043,
         "f7": 0.368914,
         "f8": 1.130329,
         "f9": 1.593293,
         "f10": 0.203097,
         "_deepnote_index_column": 15
        },
        {
         "idx": "10",
         "f1": 1.594987,
         "f2": -0.922199,
         "f3": -1.615858,
         "f4": 1.24596,
         "f5": -0.466516,
         "f6": -0.050447,
         "f7": 1.210092,
         "f8": 0.425638,
         "f9": 1.43586,
         "f10": 0.529808,
         "_deepnote_index_column": 16
        },
        {
         "idx": "11",
         "f1": -0.763371,
         "f2": 1.444792,
         "f3": -0.667418,
         "f4": -0.887114,
         "f5": 1.592276,
         "f6": 0.477427,
         "f7": -1.403809,
         "f8": -1.38143,
         "f9": -1.702208,
         "f10": 0.031717,
         "_deepnote_index_column": 17
        },
        {
         "idx": "12",
         "f1": -0.571235,
         "f2": 1.122207,
         "f3": 0.939817,
         "f4": -1.255051,
         "f5": 0.985033,
         "f6": 1.955394,
         "f7": -1.399996,
         "f8": -1.082875,
         "f9": -0.538879,
         "f10": -1.026345,
         "_deepnote_index_column": 18
        },
        {
         "idx": "13",
         "f1": -0.181691,
         "f2": -0.962738,
         "f3": -1.102829,
         "f4": 0.599151,
         "f5": -1.230148,
         "f6": -1.136148,
         "f7": 0.96852,
         "f8": 1.461663,
         "f9": -0.157032,
         "f10": -0.67649,
         "_deepnote_index_column": 19
        },
        {
         "idx": "14",
         "f1": 0.41489,
         "f2": -1.475381,
         "f3": -1.115128,
         "f4": 0.601368,
         "f5": -0.964977,
         "f6": -1.11116,
         "f7": 1.496906,
         "f8": 0.546714,
         "f9": 0.550823,
         "f10": -0.852025,
         "_deepnote_index_column": 20
        },
        {
         "idx": "15",
         "f1": 0.685147,
         "f2": 0.062739,
         "f3": 0.268972,
         "f4": 0.29151,
         "f5": 0.535087,
         "f6": 0.96439,
         "f7": -0.53873,
         "f8": -0.711449,
         "f9": -0.886395,
         "f10": 1.357356,
         "_deepnote_index_column": 21
        },
        {
         "idx": "16",
         "f1": 0.835733,
         "f2": 1.050727,
         "f3": 0.983537,
         "f4": -0.369345,
         "f5": 0.381985,
         "f6": 1.04225,
         "f7": -0.507092,
         "f8": 0.03415,
         "f9": 0.25725,
         "f10": 2.44736,
         "_deepnote_index_column": 22
        },
        {
         "idx": "17",
         "f1": -0.364142,
         "f2": -0.78836,
         "f3": -1.131426,
         "f4": 1.085911,
         "f5": -0.707592,
         "f6": -0.910544,
         "f7": 1.151256,
         "f8": 0.569193,
         "f9": 0.342218,
         "f10": -0.792868,
         "_deepnote_index_column": 23
        },
        {
         "idx": "18",
         "f1": 0.824635,
         "f2": -0.872116,
         "f3": -0.351446,
         "f4": 1.313566,
         "f5": -0.342965,
         "f6": -0.795991,
         "f7": 0.886879,
         "f8": 0.946765,
         "f9": 0.691703,
         "f10": 0.11991,
         "_deepnote_index_column": 24
        },
        {
         "idx": "19",
         "f1": -1.194583,
         "f2": 2.022795,
         "f3": 0.123461,
         "f4": -1.312231,
         "f5": 1.239347,
         "f6": 0.084504,
         "f7": -1.239851,
         "f8": -1.28966,
         "f9": -0.943274,
         "f10": -1.550521,
         "_deepnote_index_column": 25
        },
        {
         "idx": "20",
         "f1": -1.334598,
         "f2": -1.022303,
         "f3": -1.357209,
         "f4": 1.672648,
         "f5": -0.766522,
         "f6": -1.165372,
         "f7": 1.670077,
         "f8": 0.924172,
         "f9": 0.483971,
         "f10": -0.325489,
         "_deepnote_index_column": 26
        },
        {
         "idx": "21",
         "f1": -0.707724,
         "f2": 0.784051,
         "f3": 0.741873,
         "f4": -1.610646,
         "f5": 0.733574,
         "f6": 1.322904,
         "f7": -0.907136,
         "f8": -1.518263,
         "f9": -0.851401,
         "f10": 0.486164,
         "_deepnote_index_column": 27
        },
        {
         "idx": "22",
         "f1": 0.556676,
         "f2": 0.37593,
         "f3": 1.215702,
         "f4": -0.863109,
         "f5": 0.55068,
         "f6": 1.045755,
         "f7": -0.953071,
         "f8": -0.685397,
         "f9": -0.688682,
         "f10": 1.463836,
         "_deepnote_index_column": 28
        },
        {
         "idx": "23",
         "f1": 0.814931,
         "f2": -0.761926,
         "f3": -0.1275,
         "f4": 1.06282,
         "f5": -0.454788,
         "f6": -0.536269,
         "f7": 0.374748,
         "f8": 0.951816,
         "f9": 1.785989,
         "f10": -0.230777,
         "_deepnote_index_column": 29
        },
        {
         "idx": "24",
         "f1": -0.001573,
         "f2": -1.373026,
         "f3": -1.060462,
         "f4": 1.432102,
         "f5": -1.22091,
         "f6": -0.974984,
         "f7": 1.129523,
         "f8": 1.382705,
         "f9": 0.816753,
         "f10": -2.296628,
         "_deepnote_index_column": 30
        },
        {
         "idx": "25",
         "f1": 0.411112,
         "f2": -0.818464,
         "f3": -0.644391,
         "f4": 1.317738,
         "f5": -1.095131,
         "f6": -0.807456,
         "f7": 0.834296,
         "f8": 1.186585,
         "f9": 0.786648,
         "f10": -1.409886,
         "_deepnote_index_column": 31
        },
        {
         "idx": "26",
         "f1": 0.238102,
         "f2": -1.007271,
         "f3": -0.804951,
         "f4": 1.371312,
         "f5": -1.017847,
         "f6": -1.507375,
         "f7": 0.517461,
         "f8": 0.682916,
         "f9": 0.560647,
         "f10": 0.116435,
         "_deepnote_index_column": 32
        },
        {
         "idx": "27",
         "f1": -0.123823,
         "f2": -1.003478,
         "f3": -1.088175,
         "f4": 1.321129,
         "f5": -0.88359,
         "f6": -0.990542,
         "f7": 0.990543,
         "f8": 1.013741,
         "f9": 0.868561,
         "f10": -0.923599,
         "_deepnote_index_column": 33
        },
        {
         "idx": "28",
         "f1": -1.154966,
         "f2": 1.497271,
         "f3": 0.805917,
         "f4": -1.077506,
         "f5": 0.790392,
         "f6": 1.752247,
         "f7": -0.862368,
         "f8": -1.119481,
         "f9": -1.457309,
         "f10": -0.827626,
         "_deepnote_index_column": 34
        },
        {
         "idx": "29",
         "f1": -0.362172,
         "f2": 0.608676,
         "f3": 1.45236,
         "f4": -0.611385,
         "f5": 0.521777,
         "f6": 1.028026,
         "f7": -0.752329,
         "f8": -0.896335,
         "f9": -0.410284,
         "f10": 1.303685,
         "_deepnote_index_column": 35
        },
        {
         "idx": "30",
         "f1": 1.909826,
         "f2": 0.080479,
         "f3": 0.623776,
         "f4": 0.622772,
         "f5": 0.278753,
         "f6": 0.449957,
         "f7": 0.179908,
         "f8": 0.135925,
         "f9": 0.96963,
         "f10": 0.308805,
         "_deepnote_index_column": 36
        },
        {
         "idx": "31",
         "f1": -0.303872,
         "f2": 0.416107,
         "f3": 1.375104,
         "f4": -0.610976,
         "f5": 0.583748,
         "f6": 0.978734,
         "f7": -0.850477,
         "f8": -0.670994,
         "f9": -0.752801,
         "f10": 1.667546,
         "_deepnote_index_column": 37
        },
        {
         "idx": "32",
         "f1": -0.223982,
         "f2": 1.110263,
         "f3": 0.639112,
         "f4": -0.450427,
         "f5": 1.468006,
         "f6": 1.123795,
         "f7": -1.580967,
         "f8": -1.752609,
         "f9": -0.894315,
         "f10": -0.726599,
         "_deepnote_index_column": 38
        },
        {
         "idx": "33",
         "f1": 0.441998,
         "f2": -1.570313,
         "f3": -1.539523,
         "f4": 1.151912,
         "f5": -1.139326,
         "f6": -1.265759,
         "f7": 0.656417,
         "f8": 1.899157,
         "f9": 1.385774,
         "f10": -0.349192,
         "_deepnote_index_column": 39
        },
        {
         "idx": "34",
         "f1": 0.303296,
         "f2": 0.091663,
         "f3": 0.117555,
         "f4": 0.159264,
         "f5": 0.061779,
         "f6": -0.987373,
         "f7": 0.416338,
         "f8": 0.593236,
         "f9": 1.627221,
         "f10": 1.315129,
         "_deepnote_index_column": 40
        },
        {
         "idx": "35",
         "f1": -0.830664,
         "f2": 0.41053,
         "f3": 0.937031,
         "f4": -0.679098,
         "f5": 0.028486,
         "f6": 1.551291,
         "f7": -1.044716,
         "f8": -1.110866,
         "f9": -2.028678,
         "f10": -0.665105,
         "_deepnote_index_column": 41
        },
        {
         "idx": "36",
         "f1": -0.710496,
         "f2": 1.081428,
         "f3": 1.232235,
         "f4": -0.797906,
         "f5": 1.373624,
         "f6": 1.217206,
         "f7": -1.044898,
         "f8": -1.022382,
         "f9": -1.484719,
         "f10": -1.734771,
         "_deepnote_index_column": 42
        },
        {
         "idx": "37",
         "f1": 0.075255,
         "f2": -1.129307,
         "f3": -0.751492,
         "f4": 0.525539,
         "f5": -1.282327,
         "f6": -0.897664,
         "f7": 0.453759,
         "f8": 0.207257,
         "f9": 0.182324,
         "f10": -0.049939,
         "_deepnote_index_column": 43
        },
        {
         "idx": "38",
         "f1": 0.570392,
         "f2": 0.581917,
         "f3": 0.868097,
         "f4": -0.236914,
         "f5": 0.263552,
         "f6": 0.461355,
         "f7": -0.992824,
         "f8": 0.105371,
         "f9": 0.018401,
         "f10": 1.813082,
         "_deepnote_index_column": 44
        },
        {
         "idx": "39",
         "f1": 0.365559,
         "f2": -1.290338,
         "f3": -1.814981,
         "f4": 1.670146,
         "f5": -1.315799,
         "f6": -0.73892,
         "f7": 1.685336,
         "f8": 0.461423,
         "f9": -1.038373,
         "f10": -0.490529,
         "_deepnote_index_column": 45
        },
        {
         "idx": "40",
         "f1": -0.282929,
         "f2": 0.859285,
         "f3": 1.473763,
         "f4": -1.355692,
         "f5": 0.888831,
         "f6": 1.023546,
         "f7": -1.163424,
         "f8": -0.391141,
         "f9": -1.28538,
         "f10": 0.134688,
         "_deepnote_index_column": 46
        },
        {
         "idx": "41",
         "f1": 0.040692,
         "f2": -1.051057,
         "f3": -2.119835,
         "f4": 0.813262,
         "f5": -0.948548,
         "f6": -0.872254,
         "f7": 1.423556,
         "f8": -0.14459,
         "f9": 0.367038,
         "f10": -0.187535,
         "_deepnote_index_column": 47
        },
        {
         "idx": "42",
         "f1": 0.197561,
         "f2": -0.624107,
         "f3": -1.204092,
         "f4": 0.484283,
         "f5": -0.811391,
         "f6": -1.247596,
         "f7": 1.499374,
         "f8": 0.221299,
         "f9": 0.628725,
         "f10": -0.607637,
         "_deepnote_index_column": 48
        },
        {
         "idx": "43",
         "f1": 0.99891,
         "f2": -0.797691,
         "f3": -0.484988,
         "f4": 0.883342,
         "f5": -0.790984,
         "f6": 0.115578,
         "f7": 0.552843,
         "f8": 1.008971,
         "f9": 1.536608,
         "f10": 0.675821,
         "_deepnote_index_column": 49
        },
        {
         "idx": "44",
         "f1": 0.171593,
         "f2": -0.51599,
         "f3": -0.630871,
         "f4": 0.942658,
         "f5": -0.547516,
         "f6": -1.226405,
         "f7": 0.715619,
         "f8": 0.464931,
         "f9": 1.766292,
         "f10": -0.855966,
         "_deepnote_index_column": 50
        },
        {
         "idx": "45",
         "f1": 0.40083,
         "f2": 0.979141,
         "f3": 1.751775,
         "f4": -0.681103,
         "f5": 0.044623,
         "f6": 1.193165,
         "f7": -0.365411,
         "f8": -0.24055,
         "f9": -0.223043,
         "f10": 2.461258,
         "_deepnote_index_column": 51
        }
       ],
       "rows_bottom": [
        {
         "idx": "1433",
         "f1": 0.263286,
         "f2": -1.18396,
         "f3": -0.545457,
         "f4": 1.294507,
         "f5": -0.704107,
         "f6": -1.2485,
         "f7": 0.571636,
         "f8": 0.357069,
         "f9": 0.520182,
         "f10": -0.547845,
         "_deepnote_index_column": 1439
        },
        {
         "idx": "1434",
         "f1": -0.481568,
         "f2": 1.240219,
         "f3": 0.784383,
         "f4": -0.891681,
         "f5": 1.124755,
         "f6": 1.568054,
         "f7": -1.001684,
         "f8": -1.235869,
         "f9": -0.865918,
         "f10": 0.207612,
         "_deepnote_index_column": 1440
        },
        {
         "idx": "1435",
         "f1": 0.923612,
         "f2": 1.097092,
         "f3": 0.903649,
         "f4": -0.746335,
         "f5": 0.286482,
         "f6": 0.281814,
         "f7": -0.603858,
         "f8": -1.105373,
         "f9": 0.215572,
         "f10": 1.819979,
         "_deepnote_index_column": 1441
        },
        {
         "idx": "1436",
         "f1": -0.649564,
         "f2": 0.605442,
         "f3": 1.484472,
         "f4": -1.289801,
         "f5": 0.547472,
         "f6": 2.127449,
         "f7": -1.008929,
         "f8": -0.99352,
         "f9": -1.57411,
         "f10": 0.352085,
         "_deepnote_index_column": 1442
        },
        {
         "idx": "1437",
         "f1": -0.416049,
         "f2": 1.252792,
         "f3": 0.038993,
         "f4": -1.237646,
         "f5": 0.632927,
         "f6": 1.035853,
         "f7": -1.317418,
         "f8": -1.085949,
         "f9": -1.545849,
         "f10": -0.393762,
         "_deepnote_index_column": 1443
        },
        {
         "idx": "1438",
         "f1": 0.385267,
         "f2": -1.577329,
         "f3": -0.174046,
         "f4": 1.500557,
         "f5": -0.78575,
         "f6": -1.229689,
         "f7": 0.267562,
         "f8": 1.117212,
         "f9": 0.863919,
         "f10": -0.084637,
         "_deepnote_index_column": 1444
        },
        {
         "idx": "1439",
         "f1": -1.216529,
         "f2": 1.735788,
         "f3": 0.259983,
         "f4": -1.151602,
         "f5": 1.351043,
         "f6": 0.560403,
         "f7": -1.167738,
         "f8": -1.269408,
         "f9": -0.873041,
         "f10": -0.484156,
         "_deepnote_index_column": 1445
        },
        {
         "idx": "1440",
         "f1": 0.207889,
         "f2": -1.382754,
         "f3": -0.68859,
         "f4": 0.825997,
         "f5": -0.898081,
         "f6": -0.512043,
         "f7": 1.120603,
         "f8": 1.222409,
         "f9": 1.631081,
         "f10": -1.131609,
         "_deepnote_index_column": 1446
        },
        {
         "idx": "1441",
         "f1": -0.477512,
         "f2": -0.97025,
         "f3": -0.888638,
         "f4": 1.771127,
         "f5": -1.526595,
         "f6": -1.792501,
         "f7": 0.744442,
         "f8": 1.720276,
         "f9": 0.191005,
         "f10": -0.82216,
         "_deepnote_index_column": 1447
        },
        {
         "idx": "1442",
         "f1": -1.045257,
         "f2": 0.892206,
         "f3": 1.847196,
         "f4": -0.899015,
         "f5": 1.709968,
         "f6": 0.859755,
         "f7": -1.010734,
         "f8": -0.664261,
         "f9": -0.948134,
         "f10": 0.818555,
         "_deepnote_index_column": 1448
        },
        {
         "idx": "1443",
         "f1": 0.876373,
         "f2": -1.106435,
         "f3": -0.295347,
         "f4": 1.546232,
         "f5": -1.130634,
         "f6": -1.846863,
         "f7": 0.29359,
         "f8": 0.291648,
         "f9": 1.652249,
         "f10": -0.20021,
         "_deepnote_index_column": 1449
        },
        {
         "idx": "1444",
         "f1": 0.899725,
         "f2": -0.851427,
         "f3": -0.797741,
         "f4": 0.454154,
         "f5": -0.847385,
         "f6": -1.304054,
         "f7": 1.701524,
         "f8": 1.165007,
         "f9": 0.403386,
         "f10": 0.111278,
         "_deepnote_index_column": 1450
        },
        {
         "idx": "1445",
         "f1": 0.589788,
         "f2": -1.308902,
         "f3": -0.206364,
         "f4": 1.353291,
         "f5": -1.20407,
         "f6": -0.930665,
         "f7": 1.355712,
         "f8": 1.209954,
         "f9": 1.475499,
         "f10": -0.334918,
         "_deepnote_index_column": 1451
        },
        {
         "idx": "1446",
         "f1": 0.236221,
         "f2": 0.51958,
         "f3": 1.369543,
         "f4": -0.828077,
         "f5": -0.10171,
         "f6": 0.814715,
         "f7": -0.264597,
         "f8": -1.146501,
         "f9": 0.193314,
         "f10": 1.751473,
         "_deepnote_index_column": 1452
        },
        {
         "idx": "1447",
         "f1": 0.670787,
         "f2": -1.507287,
         "f3": -0.65589,
         "f4": 0.673335,
         "f5": -0.980998,
         "f6": -0.816638,
         "f7": 1.01497,
         "f8": 1.550181,
         "f9": 0.920681,
         "f10": -0.112392,
         "_deepnote_index_column": 1453
        },
        {
         "idx": "1448",
         "f1": 1.194702,
         "f2": -0.82119,
         "f3": -0.88614,
         "f4": 1.218092,
         "f5": -0.462556,
         "f6": 0.187844,
         "f7": 0.839047,
         "f8": 1.472111,
         "f9": 1.070678,
         "f10": 0.784539,
         "_deepnote_index_column": 1454
        },
        {
         "idx": "1449",
         "f1": -0.137027,
         "f2": -0.783922,
         "f3": -1.223775,
         "f4": 1.277612,
         "f5": -0.94843,
         "f6": -0.961207,
         "f7": 1.325553,
         "f8": 0.912087,
         "f9": 0.670508,
         "f10": -0.687083,
         "_deepnote_index_column": 1455
        },
        {
         "idx": "1450",
         "f1": -1.254625,
         "f2": -0.741747,
         "f3": -1.141809,
         "f4": 0.649718,
         "f5": -1.042631,
         "f6": -0.634694,
         "f7": 1.48761,
         "f8": 1.216401,
         "f9": 0.334782,
         "f10": -0.897394,
         "_deepnote_index_column": 1456
        },
        {
         "idx": "1451",
         "f1": 1.862134,
         "f2": -0.165077,
         "f3": -1.466163,
         "f4": 0.442403,
         "f5": -0.177118,
         "f6": -0.195872,
         "f7": 0.553794,
         "f8": 0.416313,
         "f9": 0.448131,
         "f10": 0.91733,
         "_deepnote_index_column": 1457
        },
        {
         "idx": "1452",
         "f1": 0.532835,
         "f2": -0.955519,
         "f3": -0.815842,
         "f4": 1.309973,
         "f5": -1.028355,
         "f6": -0.793591,
         "f7": 1.413324,
         "f8": 1.157079,
         "f9": 0.809996,
         "f10": -0.178475,
         "_deepnote_index_column": 1458
        },
        {
         "idx": "1453",
         "f1": 1.697432,
         "f2": 0.03736,
         "f3": 0.474853,
         "f4": 0.000688,
         "f5": 0.801959,
         "f6": 1.140051,
         "f7": 0.303521,
         "f8": 0.220201,
         "f9": 0.947417,
         "f10": 0.408463,
         "_deepnote_index_column": 1459
        },
        {
         "idx": "1454",
         "f1": 0.085286,
         "f2": 0.577777,
         "f3": 1.739725,
         "f4": -1.500949,
         "f5": 0.790099,
         "f6": 1.285127,
         "f7": -0.767759,
         "f8": -1.20638,
         "f9": -1.119887,
         "f10": 0.128542,
         "_deepnote_index_column": 1460
        },
        {
         "idx": "1455",
         "f1": 0.325649,
         "f2": -1.416864,
         "f3": -0.768791,
         "f4": 0.414429,
         "f5": -0.587218,
         "f6": -1.22532,
         "f7": 0.875192,
         "f8": 0.791739,
         "f9": 1.579225,
         "f10": -0.525034,
         "_deepnote_index_column": 1461
        },
        {
         "idx": "1456",
         "f1": -0.846271,
         "f2": 0.881227,
         "f3": 1.251304,
         "f4": -1.397079,
         "f5": 0.86223,
         "f6": 2.250963,
         "f7": -0.94965,
         "f8": -1.084273,
         "f9": -0.455233,
         "f10": -0.937809,
         "_deepnote_index_column": 1462
        },
        {
         "idx": "1457",
         "f1": 2.155252,
         "f2": -0.346572,
         "f3": -0.030739,
         "f4": 0.475465,
         "f5": -0.621932,
         "f6": -0.377868,
         "f7": 0.285394,
         "f8": 0.535258,
         "f9": 0.838664,
         "f10": 1.451105,
         "_deepnote_index_column": 1463
        },
        {
         "idx": "1458",
         "f1": 0.106549,
         "f2": 1.461157,
         "f3": 1.630186,
         "f4": -1.068208,
         "f5": 0.404157,
         "f6": 0.654148,
         "f7": -1.220976,
         "f8": -0.888631,
         "f9": -0.243284,
         "f10": 0.734172,
         "_deepnote_index_column": 1464
        },
        {
         "idx": "1459",
         "f1": 1.053736,
         "f2": -0.625141,
         "f3": 0.230201,
         "f4": 1.201616,
         "f5": -0.977798,
         "f6": -0.809369,
         "f7": 0.065001,
         "f8": 1.464576,
         "f9": 1.465531,
         "f10": 0.014111,
         "_deepnote_index_column": 1465
        },
        {
         "idx": "1460",
         "f1": 0.507543,
         "f2": -0.509692,
         "f3": -0.749626,
         "f4": 0.118634,
         "f5": -0.512089,
         "f6": -0.328556,
         "f7": 0.532367,
         "f8": 1.355724,
         "f9": 0.983006,
         "f10": -0.107149,
         "_deepnote_index_column": 1466
        },
        {
         "idx": "1461",
         "f1": -1.234122,
         "f2": 1.498219,
         "f3": 0.918932,
         "f4": -1.552068,
         "f5": 1.718982,
         "f6": 1.321265,
         "f7": -1.014557,
         "f8": -1.136369,
         "f9": -1.412044,
         "f10": 0.07603,
         "_deepnote_index_column": 1467
        },
        {
         "idx": "1462",
         "f1": -0.266169,
         "f2": 0.57361,
         "f3": 1.227864,
         "f4": -1.630794,
         "f5": 0.732634,
         "f6": 1.565761,
         "f7": -0.763671,
         "f8": -0.540716,
         "f9": -1.143017,
         "f10": 0.179415,
         "_deepnote_index_column": 1468
        },
        {
         "idx": "1463",
         "f1": 0.425174,
         "f2": -0.803593,
         "f3": -1.324179,
         "f4": 0.910504,
         "f5": -1.241234,
         "f6": -1.254059,
         "f7": 1.290734,
         "f8": 1.556663,
         "f9": -0.254455,
         "f10": -0.156194,
         "_deepnote_index_column": 1469
        },
        {
         "idx": "1464",
         "f1": 1.842577,
         "f2": -0.268246,
         "f3": -0.889417,
         "f4": 0.691672,
         "f5": -0.65029,
         "f6": -0.424214,
         "f7": -0.835063,
         "f8": 1.228655,
         "f9": 1.234391,
         "f10": 0.781111,
         "_deepnote_index_column": 1470
        },
        {
         "idx": "1465",
         "f1": -0.498264,
         "f2": -0.631015,
         "f3": -0.945925,
         "f4": 1.184528,
         "f5": -1.660333,
         "f6": -0.937475,
         "f7": 1.034979,
         "f8": 1.538324,
         "f9": -0.236143,
         "f10": -0.712129,
         "_deepnote_index_column": 1471
        },
        {
         "idx": "1466",
         "f1": 1.135168,
         "f2": -0.936535,
         "f3": -0.101461,
         "f4": 0.715737,
         "f5": -1.273646,
         "f6": -0.519584,
         "f7": 0.959359,
         "f8": 1.165489,
         "f9": 0.816863,
         "f10": -0.331738,
         "_deepnote_index_column": 1472
        },
        {
         "idx": "1467",
         "f1": 0.89385,
         "f2": 0.575404,
         "f3": 0.245935,
         "f4": -0.007142,
         "f5": 0.327031,
         "f6": 0.480405,
         "f7": -0.710385,
         "f8": 0.462986,
         "f9": 0.666549,
         "f10": 1.394397,
         "_deepnote_index_column": 1473
        },
        {
         "idx": "1468",
         "f1": 1.272231,
         "f2": -1.085467,
         "f3": -1.192451,
         "f4": 0.818033,
         "f5": -0.663333,
         "f6": -1.210521,
         "f7": 1.53177,
         "f8": 1.283489,
         "f9": 1.738905,
         "f10": -0.3899,
         "_deepnote_index_column": 1474
        },
        {
         "idx": "1469",
         "f1": -1.036232,
         "f2": 0.489236,
         "f3": 1.439805,
         "f4": -1.355483,
         "f5": 0.941404,
         "f6": 1.373928,
         "f7": -0.975978,
         "f8": -0.931369,
         "f9": -1.145156,
         "f10": 1.350184,
         "_deepnote_index_column": 1475
        },
        {
         "idx": "1470",
         "f1": -0.42061,
         "f2": -1.077501,
         "f3": -0.955997,
         "f4": 0.848211,
         "f5": -0.8143,
         "f6": -1.046605,
         "f7": 1.067482,
         "f8": 1.10186,
         "f9": 1.18146,
         "f10": 0.197313,
         "_deepnote_index_column": 1476
        },
        {
         "idx": "1471",
         "f1": -0.563026,
         "f2": -0.016139,
         "f3": 1.100344,
         "f4": -0.117863,
         "f5": 0.262922,
         "f6": 0.990477,
         "f7": -0.284844,
         "f8": -0.41804,
         "f9": -0.273904,
         "f10": 2.459611,
         "_deepnote_index_column": 1477
        },
        {
         "idx": "1472",
         "f1": -0.654342,
         "f2": 1.264561,
         "f3": 1.079811,
         "f4": -1.080062,
         "f5": 0.856418,
         "f6": 1.59082,
         "f7": -1.294555,
         "f8": -1.553171,
         "f9": -1.151466,
         "f10": -0.586049,
         "_deepnote_index_column": 1478
        },
        {
         "idx": "1473",
         "f1": -0.694724,
         "f2": 1.184451,
         "f3": 1.42653,
         "f4": -1.260271,
         "f5": 0.254272,
         "f6": 1.588396,
         "f7": -1.015617,
         "f8": -1.269062,
         "f9": -0.738645,
         "f10": 0.246257,
         "_deepnote_index_column": 1479
        },
        {
         "idx": "1474",
         "f1": 2.088156,
         "f2": 0.160464,
         "f3": -1.101186,
         "f4": 0.864773,
         "f5": -0.002852,
         "f6": -0.650301,
         "f7": -0.311431,
         "f8": 0.152538,
         "f9": 0.548056,
         "f10": 0.978403,
         "_deepnote_index_column": 1480
        },
        {
         "idx": "1475",
         "f1": -0.096369,
         "f2": 1.599799,
         "f3": 0.160111,
         "f4": -1.473405,
         "f5": 0.191667,
         "f6": 1.389114,
         "f7": -1.265515,
         "f8": -0.833097,
         "f9": -0.747211,
         "f10": 0.014422,
         "_deepnote_index_column": 1481
        },
        {
         "idx": "1476",
         "f1": 0.417788,
         "f2": -0.062619,
         "f3": 0.995768,
         "f4": -0.216366,
         "f5": 0.054374,
         "f6": 0.822223,
         "f7": -1.585737,
         "f8": -0.182712,
         "f9": 0.271711,
         "f10": 2.163382,
         "_deepnote_index_column": 1482
        },
        {
         "idx": "1477",
         "f1": -0.063529,
         "f2": -1.148433,
         "f3": -1.797669,
         "f4": 1.744704,
         "f5": -0.591143,
         "f6": -1.455659,
         "f7": 1.161416,
         "f8": 0.705538,
         "f9": 0.377713,
         "f10": -0.590566,
         "_deepnote_index_column": 1483
        }
       ]
      },
      "text/plain": "       idx        f1        f2        f3        f4        f5        f6  \\\n7        1  0.248433 -1.801874 -1.116485  1.255230 -1.021899 -1.425146   \n8        2  0.612246  0.369337  1.119434 -0.689106  0.451776  1.308115   \n9        3 -0.974871  0.275613  1.106435 -0.867804  0.230839  1.870421   \n10       4 -1.493339  1.992164  0.609691 -1.001476  1.268201  0.516364   \n11       5 -0.432028  1.592409  0.853561 -1.365528  1.310392  0.954528   \n...    ...       ...       ...       ...       ...       ...       ...   \n1479  1473 -0.694724  1.184451  1.426530 -1.260271  0.254272  1.588396   \n1480  1474  2.088156  0.160464 -1.101186  0.864773 -0.002852 -0.650301   \n1481  1475 -0.096369  1.599799  0.160111 -1.473405  0.191667  1.389114   \n1482  1476  0.417788 -0.062619  0.995768 -0.216366  0.054374  0.822223   \n1483  1477 -0.063529 -1.148433 -1.797669  1.744704 -0.591143 -1.455659   \n\n            f7        f8        f9       f10  \n7     1.029583  1.261154 -0.185208 -0.618970  \n8    -0.518925  0.129025 -0.558788  1.588863  \n9    -0.794584 -1.712529 -0.935208  0.109706  \n10   -0.984814 -1.169440 -0.765422 -0.487069  \n11   -0.946305 -1.269243 -2.031158 -0.227847  \n...        ...       ...       ...       ...  \n1479 -1.015617 -1.269062 -0.738645  0.246257  \n1480 -0.311431  0.152538  0.548056  0.978403  \n1481 -1.265515 -0.833097 -0.747211  0.014422  \n1482 -1.585737 -0.182712  0.271711  2.163382  \n1483  1.161416  0.705538  0.377713 -0.590566  \n\n[1477 rows x 11 columns]",
      "text/html": "<div>\n<style scoped>\n    .dataframe tbody tr th:only-of-type {\n        vertical-align: middle;\n    }\n\n    .dataframe tbody tr th {\n        vertical-align: top;\n    }\n\n    .dataframe thead th {\n        text-align: right;\n    }\n</style>\n<table border=\"1\" class=\"dataframe\">\n  <thead>\n    <tr style=\"text-align: right;\">\n      <th></th>\n      <th>idx</th>\n      <th>f1</th>\n      <th>f2</th>\n      <th>f3</th>\n      <th>f4</th>\n      <th>f5</th>\n      <th>f6</th>\n      <th>f7</th>\n      <th>f8</th>\n      <th>f9</th>\n      <th>f10</th>\n    </tr>\n  </thead>\n  <tbody>\n    <tr>\n      <th>7</th>\n      <td>1</td>\n      <td>0.248433</td>\n      <td>-1.801874</td>\n      <td>-1.116485</td>\n      <td>1.255230</td>\n      <td>-1.021899</td>\n      <td>-1.425146</td>\n      <td>1.029583</td>\n      <td>1.261154</td>\n      <td>-0.185208</td>\n      <td>-0.618970</td>\n    </tr>\n    <tr>\n      <th>8</th>\n      <td>2</td>\n      <td>0.612246</td>\n      <td>0.369337</td>\n      <td>1.119434</td>\n      <td>-0.689106</td>\n      <td>0.451776</td>\n      <td>1.308115</td>\n      <td>-0.518925</td>\n      <td>0.129025</td>\n      <td>-0.558788</td>\n      <td>1.588863</td>\n    </tr>\n    <tr>\n      <th>9</th>\n      <td>3</td>\n      <td>-0.974871</td>\n      <td>0.275613</td>\n      <td>1.106435</td>\n      <td>-0.867804</td>\n      <td>0.230839</td>\n      <td>1.870421</td>\n      <td>-0.794584</td>\n      <td>-1.712529</td>\n      <td>-0.935208</td>\n      <td>0.109706</td>\n    </tr>\n    <tr>\n      <th>10</th>\n      <td>4</td>\n      <td>-1.493339</td>\n      <td>1.992164</td>\n      <td>0.609691</td>\n      <td>-1.001476</td>\n      <td>1.268201</td>\n      <td>0.516364</td>\n      <td>-0.984814</td>\n      <td>-1.169440</td>\n      <td>-0.765422</td>\n      <td>-0.487069</td>\n    </tr>\n    <tr>\n      <th>11</th>\n      <td>5</td>\n      <td>-0.432028</td>\n      <td>1.592409</td>\n      <td>0.853561</td>\n      <td>-1.365528</td>\n      <td>1.310392</td>\n      <td>0.954528</td>\n      <td>-0.946305</td>\n      <td>-1.269243</td>\n      <td>-2.031158</td>\n      <td>-0.227847</td>\n    </tr>\n    <tr>\n      <th>...</th>\n      <td>...</td>\n      <td>...</td>\n      <td>...</td>\n      <td>...</td>\n      <td>...</td>\n      <td>...</td>\n      <td>...</td>\n      <td>...</td>\n      <td>...</td>\n      <td>...</td>\n      <td>...</td>\n    </tr>\n    <tr>\n      <th>1479</th>\n      <td>1473</td>\n      <td>-0.694724</td>\n      <td>1.184451</td>\n      <td>1.426530</td>\n      <td>-1.260271</td>\n      <td>0.254272</td>\n      <td>1.588396</td>\n      <td>-1.015617</td>\n      <td>-1.269062</td>\n      <td>-0.738645</td>\n      <td>0.246257</td>\n    </tr>\n    <tr>\n      <th>1480</th>\n      <td>1474</td>\n      <td>2.088156</td>\n      <td>0.160464</td>\n      <td>-1.101186</td>\n      <td>0.864773</td>\n      <td>-0.002852</td>\n      <td>-0.650301</td>\n      <td>-0.311431</td>\n      <td>0.152538</td>\n      <td>0.548056</td>\n      <td>0.978403</td>\n    </tr>\n    <tr>\n      <th>1481</th>\n      <td>1475</td>\n      <td>-0.096369</td>\n      <td>1.599799</td>\n      <td>0.160111</td>\n      <td>-1.473405</td>\n      <td>0.191667</td>\n      <td>1.389114</td>\n      <td>-1.265515</td>\n      <td>-0.833097</td>\n      <td>-0.747211</td>\n      <td>0.014422</td>\n    </tr>\n    <tr>\n      <th>1482</th>\n      <td>1476</td>\n      <td>0.417788</td>\n      <td>-0.062619</td>\n      <td>0.995768</td>\n      <td>-0.216366</td>\n      <td>0.054374</td>\n      <td>0.822223</td>\n      <td>-1.585737</td>\n      <td>-0.182712</td>\n      <td>0.271711</td>\n      <td>2.163382</td>\n    </tr>\n    <tr>\n      <th>1483</th>\n      <td>1477</td>\n      <td>-0.063529</td>\n      <td>-1.148433</td>\n      <td>-1.797669</td>\n      <td>1.744704</td>\n      <td>-0.591143</td>\n      <td>-1.455659</td>\n      <td>1.161416</td>\n      <td>0.705538</td>\n      <td>0.377713</td>\n      <td>-0.590566</td>\n    </tr>\n  </tbody>\n</table>\n<p>1477 rows × 11 columns</p>\n</div>"
     },
     "metadata": {}
    }
   ]
  },
  {
   "cell_type": "code",
   "metadata": {
    "cell_id": "00013-8f97641a-2b06-480e-bbc7-754ed1ddd421",
    "deepnote_to_be_reexecuted": false,
    "source_hash": "5c31b19b",
    "execution_start": 1638869637484,
    "execution_millis": 0,
    "deepnote_cell_type": "code"
   },
   "source": "X_train, X_test, y_train, y_test = train_test_split(df, label, random_state=42, test_size=0.30)",
   "execution_count": null,
   "outputs": []
  },
  {
   "cell_type": "code",
   "metadata": {
    "cell_id": "00014-fe6a17a9-e1c5-4f09-949f-0bae118bb592",
    "deepnote_to_be_reexecuted": false,
    "source_hash": "b103f1ec",
    "execution_start": 1638869637487,
    "execution_millis": 596,
    "deepnote_cell_type": "code"
   },
   "source": "regressor = MLPRegressor(random_state=42, max_iter=500).fit(X_train, y_train)",
   "execution_count": null,
   "outputs": []
  },
  {
   "cell_type": "code",
   "metadata": {
    "cell_id": "00015-facb9a1a-11fe-4e3e-9c5d-a4feeca53a73",
    "deepnote_to_be_reexecuted": false,
    "source_hash": "f82937e0",
    "execution_start": 1638869638087,
    "execution_millis": 95,
    "deepnote_output_heights": [
     21.1875
    ],
    "deepnote_cell_type": "code"
   },
   "source": "regressor.score(X_test, y_test)",
   "execution_count": null,
   "outputs": [
    {
     "output_type": "execute_result",
     "execution_count": 12,
     "data": {
      "text/plain": "0.8696963705237135"
     },
     "metadata": {}
    }
   ]
  },
  {
   "cell_type": "code",
   "metadata": {
    "cell_id": "00016-8f5511b0-bbd6-4d23-9656-d988f33dd540",
    "deepnote_to_be_reexecuted": false,
    "source_hash": "574330ec",
    "execution_start": 1638869638100,
    "execution_millis": 7,
    "deepnote_cell_type": "code"
   },
   "source": "y_pred = regressor.predict(df_blind_ts)",
   "execution_count": null,
   "outputs": []
  },
  {
   "cell_type": "code",
   "metadata": {
    "cell_id": "00017-62bcb46f-1bf3-4097-a832-6808204fa8b1",
    "deepnote_to_be_reexecuted": false,
    "source_hash": "dec8f8fc",
    "execution_start": 1638869638111,
    "execution_millis": 0,
    "deepnote_cell_type": "code"
   },
   "source": "y_pred = pd.DataFrame(data=y_pred, columns=[\"x\", \"y\"])",
   "execution_count": null,
   "outputs": []
  },
  {
   "cell_type": "code",
   "metadata": {
    "cell_id": "00018-c3e0eaa8-5cb8-4442-959c-1a731da2ca8c",
    "deepnote_to_be_reexecuted": false,
    "source_hash": "813915d0",
    "execution_start": 1638869638158,
    "execution_millis": 175,
    "deepnote_output_heights": [
     21.1875,
     252
    ],
    "deepnote_cell_type": "code"
   },
   "source": "plt.scatter(y_pred['x'], y_pred['y'])",
   "execution_count": null,
   "outputs": [
    {
     "output_type": "execute_result",
     "execution_count": 15,
     "data": {
      "text/plain": "<matplotlib.collections.PathCollection at 0x7f1d94ba1b90>"
     },
     "metadata": {}
    },
    {
     "data": {
      "text/plain": "<Figure size 432x288 with 1 Axes>",
      "image/png": "[encoded data removed]"
     },
     "metadata": {
      "needs_background": "light",
      "image/png": {
       "width": 377,
       "height": 250
      }
     },
     "output_type": "display_data"
    }
   ]
  },
  {
   "cell_type": "markdown",
   "source": "## Grid Search",
   "metadata": {
    "cell_id": "00019-5ae02981-9fa3-448f-ba80-cdcdb81b6000",
    "deepnote_cell_type": "markdown"
   }
  },
  {
   "cell_type": "code",
   "metadata": {
    "scrolled": false,
    "cell_id": "00020-5c464ccd-b789-4bf8-9f9c-e7505ee05ed5",
    "deepnote_to_be_reexecuted": false,
    "source_hash": "2d2809c8",
    "execution_start": 1638869638338,
    "execution_millis": 93628,
    "deepnote_output_heights": [
     null,
     174.796875
    ],
    "deepnote_cell_type": "code"
   },
   "source": "#to find the best set of parameter setting, we can run a grid search\nfrom sklearn.model_selection import RandomizedSearchCV\nfrom scipy.stats import randint as sp_randint\nfrom sklearn.metrics import make_scorer\nfrom sklearn.metrics import accuracy_score\n\n#define the parameters' values you want to try\nparam_dist = {\"hidden_layer_sizes\": [(100,), (50,), (100, 100), (50,50)],\n              \"activation\": ['identity', 'logistic', 'tanh', 'relu'],\n              \"solver\": ['lbfgs', 'sgd', 'adam'],\n              \"max_iter\": [1000],\n             }\n#define the number of iterations\nn_iter_search = 5\n#define the model\nregressor = MLPRegressor()\n#define the grid search\ngrid_search = RandomizedSearchCV(regressor, param_distributions=param_dist, \n                            n_iter=n_iter_search, \n                            n_jobs=10, \n                            scoring=make_scorer(accuracy_score))\n#run the grid search\ngrid_search.fit(X_train, y_train)",
   "execution_count": null,
   "outputs": [
    {
     "name": "stderr",
     "text": "/shared-libs/python3.7/py/lib/python3.7/site-packages/sklearn/model_selection/_search.py:972: UserWarning: One or more of the test scores are non-finite: [nan nan nan nan nan]\n  category=UserWarning,\n/shared-libs/python3.7/py/lib/python3.7/site-packages/sklearn/neural_network/_multilayer_perceptron.py:549: ConvergenceWarning: lbfgs failed to converge (status=1):\nSTOP: TOTAL NO. of ITERATIONS REACHED LIMIT.\n\nIncrease the number of iterations (max_iter) or scale the data as shown in:\n    https://scikit-learn.org/stable/modules/preprocessing.html\n  self.n_iter_ = _check_optimize_result(\"lbfgs\", opt_res, self.max_iter)\n",
     "output_type": "stream"
    },
    {
     "output_type": "execute_result",
     "execution_count": 16,
     "data": {
      "text/plain": "RandomizedSearchCV(estimator=MLPRegressor(), n_iter=5, n_jobs=10,\n                   param_distributions={'activation': ['identity', 'logistic',\n                                                       'tanh', 'relu'],\n                                        'hidden_layer_sizes': [(100,), (50,),\n                                                               (100, 100),\n                                                               (50, 50)],\n                                        'max_iter': [1000],\n                                        'solver': ['lbfgs', 'sgd', 'adam']},\n                   scoring=make_scorer(accuracy_score))"
     },
     "metadata": {}
    }
   ]
  },
  {
   "cell_type": "code",
   "metadata": {
    "cell_id": "00021-db710abf-232e-4bdb-99c6-192a752a2359",
    "deepnote_to_be_reexecuted": false,
    "source_hash": "cb7702a4",
    "execution_start": 1638869731971,
    "execution_millis": 70,
    "deepnote_cell_type": "code"
   },
   "source": "print('Best setting parameters ', grid_search.cv_results_['params'][0])",
   "execution_count": null,
   "outputs": [
    {
     "name": "stdout",
     "text": "Best setting parameters  {'solver': 'lbfgs', 'max_iter': 1000, 'hidden_layer_sizes': (50, 50), 'activation': 'tanh'}\n",
     "output_type": "stream"
    }
   ]
  },
  {
   "cell_type": "code",
   "metadata": {
    "cell_id": "00022-50ca552b-add2-45f1-865c-d07c24234397",
    "deepnote_to_be_reexecuted": false,
    "source_hash": "c8c88c55",
    "execution_start": 1638869732050,
    "execution_millis": 13213,
    "deepnote_cell_type": "code"
   },
   "source": "gs_regressor = MLPRegressor(solver='adam', max_iter = 1000, hidden_layer_sizes = (100, 100), activation = 'tanh').fit(X_train, y_train)",
   "execution_count": null,
   "outputs": []
  },
  {
   "cell_type": "code",
   "metadata": {
    "cell_id": "00023-ad77694c-717a-42ae-ac8e-cd187fa7b596",
    "deepnote_to_be_reexecuted": false,
    "source_hash": "cb101bb2",
    "execution_start": 1638869745267,
    "execution_millis": 84,
    "deepnote_output_heights": [
     21.1875
    ],
    "deepnote_cell_type": "code"
   },
   "source": "gs_regressor.score(X_test, y_test)",
   "execution_count": null,
   "outputs": [
    {
     "output_type": "execute_result",
     "execution_count": 19,
     "data": {
      "text/plain": "0.908432158442845"
     },
     "metadata": {}
    }
   ]
  },
  {
   "cell_type": "code",
   "metadata": {
    "cell_id": "00024-4f48d4aa-a9c2-445e-ad04-55e16d67e292",
    "deepnote_to_be_reexecuted": false,
    "source_hash": "958cdfa2",
    "execution_start": 1638869745356,
    "execution_millis": 9,
    "deepnote_cell_type": "code"
   },
   "source": "y_pred = gs_regressor.predict(df_blind_ts)",
   "execution_count": null,
   "outputs": []
  },
  {
   "cell_type": "code",
   "metadata": {
    "cell_id": "00025-5de86216-18de-4bb6-883e-a45c41343ff1",
    "deepnote_to_be_reexecuted": false,
    "source_hash": "dec8f8fc",
    "execution_start": 1638869745369,
    "execution_millis": 64,
    "deepnote_cell_type": "code"
   },
   "source": "y_pred = pd.DataFrame(data=y_pred, columns=[\"x\", \"y\"])",
   "execution_count": null,
   "outputs": []
  },
  {
   "cell_type": "code",
   "metadata": {
    "cell_id": "00026-bce5178c-4810-4ec4-921f-263c05e6b68e",
    "deepnote_to_be_reexecuted": false,
    "source_hash": "813915d0",
    "execution_start": 1638869745440,
    "execution_millis": 258,
    "deepnote_output_heights": [
     21.1875,
     250
    ],
    "deepnote_cell_type": "code"
   },
   "source": "plt.scatter(y_pred['x'], y_pred['y'])",
   "execution_count": null,
   "outputs": [
    {
     "output_type": "execute_result",
     "execution_count": 22,
     "data": {
      "text/plain": "<matplotlib.collections.PathCollection at 0x7f1d94b3bc10>"
     },
     "metadata": {}
    },
    {
     "data": {
      "text/plain": "<Figure size 432x288 with 1 Axes>",
      "image/png": "[encoded data removed]"
     },
     "metadata": {
      "needs_background": "light",
      "image/png": {
       "width": 377,
       "height": 248
      }
     },
     "output_type": "display_data"
    }
   ]
  },
  {
   "cell_type": "markdown",
   "source": "<a style='text-decoration:none;line-height:16px;display:flex;color:#5B5B62;padding:10px;justify-content:end;' href='https://deepnote.com?utm_source=created-in-deepnote-cell&projectId=d9d840c9-75b3-4185-bb01-105f5cca8d83' target=\"_blank\">\n<img alt='Created in deepnote.com' style='display:inline;max-height:16px;margin:0px;margin-right:7.5px;' src='data:image/svg+xml;base64,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' > </img>\nCreated in <span style='font-weight:600;margin-left:4px;'>Deepnote</span></a>",
   "metadata": {
    "tags": [],
    "created_in_deepnote_cell": true,
    "deepnote_cell_type": "markdown"
   }
  }
 ],
 "nbformat": 4,
 "nbformat_minor": 5,
 "metadata": {
  "kernelspec": {
   "display_name": "Python 3",
   "language": "python",
   "name": "python3"
  },
  "language_info": {
   "codemirror_mode": {
    "name": "ipython",
    "version": 3
   },
   "file_extension": ".py",
   "mimetype": "text/x-python",
   "name": "python",
   "nbconvert_exporter": "python",
   "pygments_lexer": "ipython3",
   "version": "3.9.5"
  },
  "deepnote_notebook_id": "e6b16fc5-d82c-42a1-becc-b3e3eb4c046e",
  "deepnote": {},
  "deepnote_execution_queue": []
 }
}