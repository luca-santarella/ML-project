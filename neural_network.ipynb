{
 "cells": [
  {
   "cell_type": "markdown",
   "id": "brutal-technology",
   "metadata": {},
   "source": [
    "# Machine Learning project a.y. 2021/2022"
   ]
  },
  {
   "cell_type": "markdown",
   "id": "arranged-debut",
   "metadata": {},
   "source": [
    "## Scikit-learn MLPRegressor model"
   ]
  },
  {
   "cell_type": "markdown",
   "id": "fewer-duncan",
   "metadata": {},
   "source": [
    "## Importing libraries"
   ]
  },
  {
   "cell_type": "code",
   "execution_count": 1,
   "id": "hybrid-poland",
   "metadata": {},
   "outputs": [],
   "source": [
    "import pandas as pd\n",
    "import matplotlib.pyplot as plt\n",
    "import numpy as np"
   ]
  },
  {
   "cell_type": "markdown",
   "id": "realistic-origin",
   "metadata": {},
   "source": [
    "## Loading training set and blind test set"
   ]
  },
  {
   "cell_type": "code",
   "execution_count": 2,
   "id": "committed-terminal",
   "metadata": {},
   "outputs": [],
   "source": [
    "df_visual = pd.read_csv('./data/ML-CUP21-TR.csv', usecols=[11,12], names=['idx','f1','f2','f3','f4','f5','f6','f7','f8','f9','f10', 'x','y'])\n",
    "df = pd.read_csv('./data/ML-CUP21-TR.csv', names=['idx','f1','f2','f3','f4','f5','f6','f7','f8','f9','f10', 'x','y'])\n",
    "df = df[7:] # remove first 7 rows of comments\n",
    "df_visual = df_visual[7:]\n",
    "\n",
    "df_blind_ts = pd.read_csv('./data/ML-CUP21-TS.csv', names=['idx','f1','f2','f3','f4','f5','f6','f7','f8','f9','f10'])\n",
    "df_blind_ts = df_blind_ts[7:]"
   ]
  },
  {
   "cell_type": "code",
   "execution_count": 3,
   "id": "consistent-economy",
   "metadata": {},
   "outputs": [
    {
     "data": {
      "text/html": [
       "<div>\n",
       "<style scoped>\n",
       "    .dataframe tbody tr th:only-of-type {\n",
       "        vertical-align: middle;\n",
       "    }\n",
       "\n",
       "    .dataframe tbody tr th {\n",
       "        vertical-align: top;\n",
       "    }\n",
       "\n",
       "    .dataframe thead th {\n",
       "        text-align: right;\n",
       "    }\n",
       "</style>\n",
       "<table border=\"1\" class=\"dataframe\">\n",
       "  <thead>\n",
       "    <tr style=\"text-align: right;\">\n",
       "      <th></th>\n",
       "      <th>x</th>\n",
       "      <th>y</th>\n",
       "    </tr>\n",
       "  </thead>\n",
       "  <tbody>\n",
       "    <tr>\n",
       "      <th>7</th>\n",
       "      <td>7.187592</td>\n",
       "      <td>-8.768943</td>\n",
       "    </tr>\n",
       "    <tr>\n",
       "      <th>8</th>\n",
       "      <td>0.170888</td>\n",
       "      <td>-25.895562</td>\n",
       "    </tr>\n",
       "    <tr>\n",
       "      <th>9</th>\n",
       "      <td>4.167006</td>\n",
       "      <td>-29.062891</td>\n",
       "    </tr>\n",
       "    <tr>\n",
       "      <th>10</th>\n",
       "      <td>7.259387</td>\n",
       "      <td>-31.529549</td>\n",
       "    </tr>\n",
       "    <tr>\n",
       "      <th>11</th>\n",
       "      <td>5.941430</td>\n",
       "      <td>-30.540759</td>\n",
       "    </tr>\n",
       "    <tr>\n",
       "      <th>...</th>\n",
       "      <td>...</td>\n",
       "      <td>...</td>\n",
       "    </tr>\n",
       "    <tr>\n",
       "      <th>1479</th>\n",
       "      <td>4.587862</td>\n",
       "      <td>-29.743108</td>\n",
       "    </tr>\n",
       "    <tr>\n",
       "      <th>1480</th>\n",
       "      <td>-0.961247</td>\n",
       "      <td>-19.418516</td>\n",
       "    </tr>\n",
       "    <tr>\n",
       "      <th>1481</th>\n",
       "      <td>4.247799</td>\n",
       "      <td>-29.460539</td>\n",
       "    </tr>\n",
       "    <tr>\n",
       "      <th>1482</th>\n",
       "      <td>-1.417041</td>\n",
       "      <td>-21.391002</td>\n",
       "    </tr>\n",
       "    <tr>\n",
       "      <th>1483</th>\n",
       "      <td>5.768213</td>\n",
       "      <td>-10.987004</td>\n",
       "    </tr>\n",
       "  </tbody>\n",
       "</table>\n",
       "<p>1477 rows × 2 columns</p>\n",
       "</div>"
      ],
      "text/plain": [
       "             x          y\n",
       "7     7.187592  -8.768943\n",
       "8     0.170888 -25.895562\n",
       "9     4.167006 -29.062891\n",
       "10    7.259387 -31.529549\n",
       "11    5.941430 -30.540759\n",
       "...        ...        ...\n",
       "1479  4.587862 -29.743108\n",
       "1480 -0.961247 -19.418516\n",
       "1481  4.247799 -29.460539\n",
       "1482 -1.417041 -21.391002\n",
       "1483  5.768213 -10.987004\n",
       "\n",
       "[1477 rows x 2 columns]"
      ]
     },
     "execution_count": 3,
     "metadata": {},
     "output_type": "execute_result"
    }
   ],
   "source": [
    "df_visual"
   ]
  },
  {
   "cell_type": "code",
   "execution_count": 4,
   "id": "constant-stationery",
   "metadata": {},
   "outputs": [
    {
     "data": {
      "text/html": [
       "<div>\n",
       "<style scoped>\n",
       "    .dataframe tbody tr th:only-of-type {\n",
       "        vertical-align: middle;\n",
       "    }\n",
       "\n",
       "    .dataframe tbody tr th {\n",
       "        vertical-align: top;\n",
       "    }\n",
       "\n",
       "    .dataframe thead th {\n",
       "        text-align: right;\n",
       "    }\n",
       "</style>\n",
       "<table border=\"1\" class=\"dataframe\">\n",
       "  <thead>\n",
       "    <tr style=\"text-align: right;\">\n",
       "      <th></th>\n",
       "      <th>idx</th>\n",
       "      <th>f1</th>\n",
       "      <th>f2</th>\n",
       "      <th>f3</th>\n",
       "      <th>f4</th>\n",
       "      <th>f5</th>\n",
       "      <th>f6</th>\n",
       "      <th>f7</th>\n",
       "      <th>f8</th>\n",
       "      <th>f9</th>\n",
       "      <th>f10</th>\n",
       "      <th>x</th>\n",
       "      <th>y</th>\n",
       "    </tr>\n",
       "  </thead>\n",
       "  <tbody>\n",
       "    <tr>\n",
       "      <th>7</th>\n",
       "      <td>1</td>\n",
       "      <td>0.248433</td>\n",
       "      <td>-1.801874</td>\n",
       "      <td>-1.116485</td>\n",
       "      <td>1.255230</td>\n",
       "      <td>-1.021899</td>\n",
       "      <td>-1.425146</td>\n",
       "      <td>1.029583</td>\n",
       "      <td>1.261154</td>\n",
       "      <td>-0.185208</td>\n",
       "      <td>-0.618970</td>\n",
       "      <td>7.187592</td>\n",
       "      <td>-8.768943</td>\n",
       "    </tr>\n",
       "    <tr>\n",
       "      <th>8</th>\n",
       "      <td>2</td>\n",
       "      <td>0.612246</td>\n",
       "      <td>0.369337</td>\n",
       "      <td>1.119434</td>\n",
       "      <td>-0.689106</td>\n",
       "      <td>0.451776</td>\n",
       "      <td>1.308115</td>\n",
       "      <td>-0.518925</td>\n",
       "      <td>0.129025</td>\n",
       "      <td>-0.558788</td>\n",
       "      <td>1.588863</td>\n",
       "      <td>0.170888</td>\n",
       "      <td>-25.895562</td>\n",
       "    </tr>\n",
       "    <tr>\n",
       "      <th>9</th>\n",
       "      <td>3</td>\n",
       "      <td>-0.974871</td>\n",
       "      <td>0.275613</td>\n",
       "      <td>1.106435</td>\n",
       "      <td>-0.867804</td>\n",
       "      <td>0.230839</td>\n",
       "      <td>1.870421</td>\n",
       "      <td>-0.794584</td>\n",
       "      <td>-1.712529</td>\n",
       "      <td>-0.935208</td>\n",
       "      <td>0.109706</td>\n",
       "      <td>4.167006</td>\n",
       "      <td>-29.062891</td>\n",
       "    </tr>\n",
       "    <tr>\n",
       "      <th>10</th>\n",
       "      <td>4</td>\n",
       "      <td>-1.493339</td>\n",
       "      <td>1.992164</td>\n",
       "      <td>0.609691</td>\n",
       "      <td>-1.001476</td>\n",
       "      <td>1.268201</td>\n",
       "      <td>0.516364</td>\n",
       "      <td>-0.984814</td>\n",
       "      <td>-1.169440</td>\n",
       "      <td>-0.765422</td>\n",
       "      <td>-0.487069</td>\n",
       "      <td>7.259387</td>\n",
       "      <td>-31.529549</td>\n",
       "    </tr>\n",
       "    <tr>\n",
       "      <th>11</th>\n",
       "      <td>5</td>\n",
       "      <td>-0.432028</td>\n",
       "      <td>1.592409</td>\n",
       "      <td>0.853561</td>\n",
       "      <td>-1.365528</td>\n",
       "      <td>1.310392</td>\n",
       "      <td>0.954528</td>\n",
       "      <td>-0.946305</td>\n",
       "      <td>-1.269243</td>\n",
       "      <td>-2.031158</td>\n",
       "      <td>-0.227847</td>\n",
       "      <td>5.941430</td>\n",
       "      <td>-30.540759</td>\n",
       "    </tr>\n",
       "    <tr>\n",
       "      <th>...</th>\n",
       "      <td>...</td>\n",
       "      <td>...</td>\n",
       "      <td>...</td>\n",
       "      <td>...</td>\n",
       "      <td>...</td>\n",
       "      <td>...</td>\n",
       "      <td>...</td>\n",
       "      <td>...</td>\n",
       "      <td>...</td>\n",
       "      <td>...</td>\n",
       "      <td>...</td>\n",
       "      <td>...</td>\n",
       "      <td>...</td>\n",
       "    </tr>\n",
       "    <tr>\n",
       "      <th>1479</th>\n",
       "      <td>1473</td>\n",
       "      <td>-0.694724</td>\n",
       "      <td>1.184451</td>\n",
       "      <td>1.426530</td>\n",
       "      <td>-1.260271</td>\n",
       "      <td>0.254272</td>\n",
       "      <td>1.588396</td>\n",
       "      <td>-1.015617</td>\n",
       "      <td>-1.269062</td>\n",
       "      <td>-0.738645</td>\n",
       "      <td>0.246257</td>\n",
       "      <td>4.587862</td>\n",
       "      <td>-29.743108</td>\n",
       "    </tr>\n",
       "    <tr>\n",
       "      <th>1480</th>\n",
       "      <td>1474</td>\n",
       "      <td>2.088156</td>\n",
       "      <td>0.160464</td>\n",
       "      <td>-1.101186</td>\n",
       "      <td>0.864773</td>\n",
       "      <td>-0.002852</td>\n",
       "      <td>-0.650301</td>\n",
       "      <td>-0.311431</td>\n",
       "      <td>0.152538</td>\n",
       "      <td>0.548056</td>\n",
       "      <td>0.978403</td>\n",
       "      <td>-0.961247</td>\n",
       "      <td>-19.418516</td>\n",
       "    </tr>\n",
       "    <tr>\n",
       "      <th>1481</th>\n",
       "      <td>1475</td>\n",
       "      <td>-0.096369</td>\n",
       "      <td>1.599799</td>\n",
       "      <td>0.160111</td>\n",
       "      <td>-1.473405</td>\n",
       "      <td>0.191667</td>\n",
       "      <td>1.389114</td>\n",
       "      <td>-1.265515</td>\n",
       "      <td>-0.833097</td>\n",
       "      <td>-0.747211</td>\n",
       "      <td>0.014422</td>\n",
       "      <td>4.247799</td>\n",
       "      <td>-29.460539</td>\n",
       "    </tr>\n",
       "    <tr>\n",
       "      <th>1482</th>\n",
       "      <td>1476</td>\n",
       "      <td>0.417788</td>\n",
       "      <td>-0.062619</td>\n",
       "      <td>0.995768</td>\n",
       "      <td>-0.216366</td>\n",
       "      <td>0.054374</td>\n",
       "      <td>0.822223</td>\n",
       "      <td>-1.585737</td>\n",
       "      <td>-0.182712</td>\n",
       "      <td>0.271711</td>\n",
       "      <td>2.163382</td>\n",
       "      <td>-1.417041</td>\n",
       "      <td>-21.391002</td>\n",
       "    </tr>\n",
       "    <tr>\n",
       "      <th>1483</th>\n",
       "      <td>1477</td>\n",
       "      <td>-0.063529</td>\n",
       "      <td>-1.148433</td>\n",
       "      <td>-1.797669</td>\n",
       "      <td>1.744704</td>\n",
       "      <td>-0.591143</td>\n",
       "      <td>-1.455659</td>\n",
       "      <td>1.161416</td>\n",
       "      <td>0.705538</td>\n",
       "      <td>0.377713</td>\n",
       "      <td>-0.590566</td>\n",
       "      <td>5.768213</td>\n",
       "      <td>-10.987004</td>\n",
       "    </tr>\n",
       "  </tbody>\n",
       "</table>\n",
       "<p>1477 rows × 13 columns</p>\n",
       "</div>"
      ],
      "text/plain": [
       "       idx        f1        f2        f3        f4        f5        f6  \\\n",
       "7        1  0.248433 -1.801874 -1.116485  1.255230 -1.021899 -1.425146   \n",
       "8        2  0.612246  0.369337  1.119434 -0.689106  0.451776  1.308115   \n",
       "9        3 -0.974871  0.275613  1.106435 -0.867804  0.230839  1.870421   \n",
       "10       4 -1.493339  1.992164  0.609691 -1.001476  1.268201  0.516364   \n",
       "11       5 -0.432028  1.592409  0.853561 -1.365528  1.310392  0.954528   \n",
       "...    ...       ...       ...       ...       ...       ...       ...   \n",
       "1479  1473 -0.694724  1.184451  1.426530 -1.260271  0.254272  1.588396   \n",
       "1480  1474  2.088156  0.160464 -1.101186  0.864773 -0.002852 -0.650301   \n",
       "1481  1475 -0.096369  1.599799  0.160111 -1.473405  0.191667  1.389114   \n",
       "1482  1476  0.417788 -0.062619  0.995768 -0.216366  0.054374  0.822223   \n",
       "1483  1477 -0.063529 -1.148433 -1.797669  1.744704 -0.591143 -1.455659   \n",
       "\n",
       "            f7        f8        f9       f10         x          y  \n",
       "7     1.029583  1.261154 -0.185208 -0.618970  7.187592  -8.768943  \n",
       "8    -0.518925  0.129025 -0.558788  1.588863  0.170888 -25.895562  \n",
       "9    -0.794584 -1.712529 -0.935208  0.109706  4.167006 -29.062891  \n",
       "10   -0.984814 -1.169440 -0.765422 -0.487069  7.259387 -31.529549  \n",
       "11   -0.946305 -1.269243 -2.031158 -0.227847  5.941430 -30.540759  \n",
       "...        ...       ...       ...       ...       ...        ...  \n",
       "1479 -1.015617 -1.269062 -0.738645  0.246257  4.587862 -29.743108  \n",
       "1480 -0.311431  0.152538  0.548056  0.978403 -0.961247 -19.418516  \n",
       "1481 -1.265515 -0.833097 -0.747211  0.014422  4.247799 -29.460539  \n",
       "1482 -1.585737 -0.182712  0.271711  2.163382 -1.417041 -21.391002  \n",
       "1483  1.161416  0.705538  0.377713 -0.590566  5.768213 -10.987004  \n",
       "\n",
       "[1477 rows x 13 columns]"
      ]
     },
     "execution_count": 4,
     "metadata": {},
     "output_type": "execute_result"
    }
   ],
   "source": [
    "df"
   ]
  },
  {
   "cell_type": "code",
   "execution_count": 5,
   "id": "tribal-ceremony",
   "metadata": {},
   "outputs": [
    {
     "data": {
      "text/plain": [
       "<matplotlib.collections.PathCollection at 0x7f5b9953e070>"
      ]
     },
     "execution_count": 5,
     "metadata": {},
     "output_type": "execute_result"
    },
    {
     "data": {
      "image/png": "[encoded data removed]",
      "text/plain": [
       "<Figure size 432x288 with 1 Axes>"
      ]
     },
     "metadata": {
      "needs_background": "light"
     },
     "output_type": "display_data"
    }
   ],
   "source": [
    "plt.scatter(df_visual['x'], df_visual['y'])"
   ]
  },
  {
   "cell_type": "code",
   "execution_count": 6,
   "id": "authorized-camping",
   "metadata": {},
   "outputs": [],
   "source": [
    "from sklearn.neural_network import MLPRegressor\n",
    "from sklearn.model_selection import train_test_split"
   ]
  },
  {
   "cell_type": "code",
   "execution_count": 7,
   "id": "comfortable-buffalo",
   "metadata": {},
   "outputs": [],
   "source": [
    "label = df[['x','y']]\n",
    "df.drop(labels=['x','y'], axis=1, inplace=True)\n",
    "#train_set, test_set, train_label, test_label = train_test_split(adult, label, stratify =label, test_size=0.30)"
   ]
  },
  {
   "cell_type": "code",
   "execution_count": 8,
   "id": "alleged-intellectual",
   "metadata": {},
   "outputs": [
    {
     "data": {
      "text/html": [
       "<div>\n",
       "<style scoped>\n",
       "    .dataframe tbody tr th:only-of-type {\n",
       "        vertical-align: middle;\n",
       "    }\n",
       "\n",
       "    .dataframe tbody tr th {\n",
       "        vertical-align: top;\n",
       "    }\n",
       "\n",
       "    .dataframe thead th {\n",
       "        text-align: right;\n",
       "    }\n",
       "</style>\n",
       "<table border=\"1\" class=\"dataframe\">\n",
       "  <thead>\n",
       "    <tr style=\"text-align: right;\">\n",
       "      <th></th>\n",
       "      <th>x</th>\n",
       "      <th>y</th>\n",
       "    </tr>\n",
       "  </thead>\n",
       "  <tbody>\n",
       "    <tr>\n",
       "      <th>7</th>\n",
       "      <td>7.187592</td>\n",
       "      <td>-8.768943</td>\n",
       "    </tr>\n",
       "    <tr>\n",
       "      <th>8</th>\n",
       "      <td>0.170888</td>\n",
       "      <td>-25.895562</td>\n",
       "    </tr>\n",
       "    <tr>\n",
       "      <th>9</th>\n",
       "      <td>4.167006</td>\n",
       "      <td>-29.062891</td>\n",
       "    </tr>\n",
       "    <tr>\n",
       "      <th>10</th>\n",
       "      <td>7.259387</td>\n",
       "      <td>-31.529549</td>\n",
       "    </tr>\n",
       "    <tr>\n",
       "      <th>11</th>\n",
       "      <td>5.941430</td>\n",
       "      <td>-30.540759</td>\n",
       "    </tr>\n",
       "    <tr>\n",
       "      <th>...</th>\n",
       "      <td>...</td>\n",
       "      <td>...</td>\n",
       "    </tr>\n",
       "    <tr>\n",
       "      <th>1479</th>\n",
       "      <td>4.587862</td>\n",
       "      <td>-29.743108</td>\n",
       "    </tr>\n",
       "    <tr>\n",
       "      <th>1480</th>\n",
       "      <td>-0.961247</td>\n",
       "      <td>-19.418516</td>\n",
       "    </tr>\n",
       "    <tr>\n",
       "      <th>1481</th>\n",
       "      <td>4.247799</td>\n",
       "      <td>-29.460539</td>\n",
       "    </tr>\n",
       "    <tr>\n",
       "      <th>1482</th>\n",
       "      <td>-1.417041</td>\n",
       "      <td>-21.391002</td>\n",
       "    </tr>\n",
       "    <tr>\n",
       "      <th>1483</th>\n",
       "      <td>5.768213</td>\n",
       "      <td>-10.987004</td>\n",
       "    </tr>\n",
       "  </tbody>\n",
       "</table>\n",
       "<p>1477 rows × 2 columns</p>\n",
       "</div>"
      ],
      "text/plain": [
       "             x          y\n",
       "7     7.187592  -8.768943\n",
       "8     0.170888 -25.895562\n",
       "9     4.167006 -29.062891\n",
       "10    7.259387 -31.529549\n",
       "11    5.941430 -30.540759\n",
       "...        ...        ...\n",
       "1479  4.587862 -29.743108\n",
       "1480 -0.961247 -19.418516\n",
       "1481  4.247799 -29.460539\n",
       "1482 -1.417041 -21.391002\n",
       "1483  5.768213 -10.987004\n",
       "\n",
       "[1477 rows x 2 columns]"
      ]
     },
     "execution_count": 8,
     "metadata": {},
     "output_type": "execute_result"
    }
   ],
   "source": [
    "label"
   ]
  },
  {
   "cell_type": "code",
   "execution_count": 9,
   "id": "subtle-program",
   "metadata": {},
   "outputs": [
    {
     "data": {
      "text/html": [
       "<div>\n",
       "<style scoped>\n",
       "    .dataframe tbody tr th:only-of-type {\n",
       "        vertical-align: middle;\n",
       "    }\n",
       "\n",
       "    .dataframe tbody tr th {\n",
       "        vertical-align: top;\n",
       "    }\n",
       "\n",
       "    .dataframe thead th {\n",
       "        text-align: right;\n",
       "    }\n",
       "</style>\n",
       "<table border=\"1\" class=\"dataframe\">\n",
       "  <thead>\n",
       "    <tr style=\"text-align: right;\">\n",
       "      <th></th>\n",
       "      <th>idx</th>\n",
       "      <th>f1</th>\n",
       "      <th>f2</th>\n",
       "      <th>f3</th>\n",
       "      <th>f4</th>\n",
       "      <th>f5</th>\n",
       "      <th>f6</th>\n",
       "      <th>f7</th>\n",
       "      <th>f8</th>\n",
       "      <th>f9</th>\n",
       "      <th>f10</th>\n",
       "    </tr>\n",
       "  </thead>\n",
       "  <tbody>\n",
       "    <tr>\n",
       "      <th>7</th>\n",
       "      <td>1</td>\n",
       "      <td>0.248433</td>\n",
       "      <td>-1.801874</td>\n",
       "      <td>-1.116485</td>\n",
       "      <td>1.255230</td>\n",
       "      <td>-1.021899</td>\n",
       "      <td>-1.425146</td>\n",
       "      <td>1.029583</td>\n",
       "      <td>1.261154</td>\n",
       "      <td>-0.185208</td>\n",
       "      <td>-0.618970</td>\n",
       "    </tr>\n",
       "    <tr>\n",
       "      <th>8</th>\n",
       "      <td>2</td>\n",
       "      <td>0.612246</td>\n",
       "      <td>0.369337</td>\n",
       "      <td>1.119434</td>\n",
       "      <td>-0.689106</td>\n",
       "      <td>0.451776</td>\n",
       "      <td>1.308115</td>\n",
       "      <td>-0.518925</td>\n",
       "      <td>0.129025</td>\n",
       "      <td>-0.558788</td>\n",
       "      <td>1.588863</td>\n",
       "    </tr>\n",
       "    <tr>\n",
       "      <th>9</th>\n",
       "      <td>3</td>\n",
       "      <td>-0.974871</td>\n",
       "      <td>0.275613</td>\n",
       "      <td>1.106435</td>\n",
       "      <td>-0.867804</td>\n",
       "      <td>0.230839</td>\n",
       "      <td>1.870421</td>\n",
       "      <td>-0.794584</td>\n",
       "      <td>-1.712529</td>\n",
       "      <td>-0.935208</td>\n",
       "      <td>0.109706</td>\n",
       "    </tr>\n",
       "    <tr>\n",
       "      <th>10</th>\n",
       "      <td>4</td>\n",
       "      <td>-1.493339</td>\n",
       "      <td>1.992164</td>\n",
       "      <td>0.609691</td>\n",
       "      <td>-1.001476</td>\n",
       "      <td>1.268201</td>\n",
       "      <td>0.516364</td>\n",
       "      <td>-0.984814</td>\n",
       "      <td>-1.169440</td>\n",
       "      <td>-0.765422</td>\n",
       "      <td>-0.487069</td>\n",
       "    </tr>\n",
       "    <tr>\n",
       "      <th>11</th>\n",
       "      <td>5</td>\n",
       "      <td>-0.432028</td>\n",
       "      <td>1.592409</td>\n",
       "      <td>0.853561</td>\n",
       "      <td>-1.365528</td>\n",
       "      <td>1.310392</td>\n",
       "      <td>0.954528</td>\n",
       "      <td>-0.946305</td>\n",
       "      <td>-1.269243</td>\n",
       "      <td>-2.031158</td>\n",
       "      <td>-0.227847</td>\n",
       "    </tr>\n",
       "    <tr>\n",
       "      <th>...</th>\n",
       "      <td>...</td>\n",
       "      <td>...</td>\n",
       "      <td>...</td>\n",
       "      <td>...</td>\n",
       "      <td>...</td>\n",
       "      <td>...</td>\n",
       "      <td>...</td>\n",
       "      <td>...</td>\n",
       "      <td>...</td>\n",
       "      <td>...</td>\n",
       "      <td>...</td>\n",
       "    </tr>\n",
       "    <tr>\n",
       "      <th>1479</th>\n",
       "      <td>1473</td>\n",
       "      <td>-0.694724</td>\n",
       "      <td>1.184451</td>\n",
       "      <td>1.426530</td>\n",
       "      <td>-1.260271</td>\n",
       "      <td>0.254272</td>\n",
       "      <td>1.588396</td>\n",
       "      <td>-1.015617</td>\n",
       "      <td>-1.269062</td>\n",
       "      <td>-0.738645</td>\n",
       "      <td>0.246257</td>\n",
       "    </tr>\n",
       "    <tr>\n",
       "      <th>1480</th>\n",
       "      <td>1474</td>\n",
       "      <td>2.088156</td>\n",
       "      <td>0.160464</td>\n",
       "      <td>-1.101186</td>\n",
       "      <td>0.864773</td>\n",
       "      <td>-0.002852</td>\n",
       "      <td>-0.650301</td>\n",
       "      <td>-0.311431</td>\n",
       "      <td>0.152538</td>\n",
       "      <td>0.548056</td>\n",
       "      <td>0.978403</td>\n",
       "    </tr>\n",
       "    <tr>\n",
       "      <th>1481</th>\n",
       "      <td>1475</td>\n",
       "      <td>-0.096369</td>\n",
       "      <td>1.599799</td>\n",
       "      <td>0.160111</td>\n",
       "      <td>-1.473405</td>\n",
       "      <td>0.191667</td>\n",
       "      <td>1.389114</td>\n",
       "      <td>-1.265515</td>\n",
       "      <td>-0.833097</td>\n",
       "      <td>-0.747211</td>\n",
       "      <td>0.014422</td>\n",
       "    </tr>\n",
       "    <tr>\n",
       "      <th>1482</th>\n",
       "      <td>1476</td>\n",
       "      <td>0.417788</td>\n",
       "      <td>-0.062619</td>\n",
       "      <td>0.995768</td>\n",
       "      <td>-0.216366</td>\n",
       "      <td>0.054374</td>\n",
       "      <td>0.822223</td>\n",
       "      <td>-1.585737</td>\n",
       "      <td>-0.182712</td>\n",
       "      <td>0.271711</td>\n",
       "      <td>2.163382</td>\n",
       "    </tr>\n",
       "    <tr>\n",
       "      <th>1483</th>\n",
       "      <td>1477</td>\n",
       "      <td>-0.063529</td>\n",
       "      <td>-1.148433</td>\n",
       "      <td>-1.797669</td>\n",
       "      <td>1.744704</td>\n",
       "      <td>-0.591143</td>\n",
       "      <td>-1.455659</td>\n",
       "      <td>1.161416</td>\n",
       "      <td>0.705538</td>\n",
       "      <td>0.377713</td>\n",
       "      <td>-0.590566</td>\n",
       "    </tr>\n",
       "  </tbody>\n",
       "</table>\n",
       "<p>1477 rows × 11 columns</p>\n",
       "</div>"
      ],
      "text/plain": [
       "       idx        f1        f2        f3        f4        f5        f6  \\\n",
       "7        1  0.248433 -1.801874 -1.116485  1.255230 -1.021899 -1.425146   \n",
       "8        2  0.612246  0.369337  1.119434 -0.689106  0.451776  1.308115   \n",
       "9        3 -0.974871  0.275613  1.106435 -0.867804  0.230839  1.870421   \n",
       "10       4 -1.493339  1.992164  0.609691 -1.001476  1.268201  0.516364   \n",
       "11       5 -0.432028  1.592409  0.853561 -1.365528  1.310392  0.954528   \n",
       "...    ...       ...       ...       ...       ...       ...       ...   \n",
       "1479  1473 -0.694724  1.184451  1.426530 -1.260271  0.254272  1.588396   \n",
       "1480  1474  2.088156  0.160464 -1.101186  0.864773 -0.002852 -0.650301   \n",
       "1481  1475 -0.096369  1.599799  0.160111 -1.473405  0.191667  1.389114   \n",
       "1482  1476  0.417788 -0.062619  0.995768 -0.216366  0.054374  0.822223   \n",
       "1483  1477 -0.063529 -1.148433 -1.797669  1.744704 -0.591143 -1.455659   \n",
       "\n",
       "            f7        f8        f9       f10  \n",
       "7     1.029583  1.261154 -0.185208 -0.618970  \n",
       "8    -0.518925  0.129025 -0.558788  1.588863  \n",
       "9    -0.794584 -1.712529 -0.935208  0.109706  \n",
       "10   -0.984814 -1.169440 -0.765422 -0.487069  \n",
       "11   -0.946305 -1.269243 -2.031158 -0.227847  \n",
       "...        ...       ...       ...       ...  \n",
       "1479 -1.015617 -1.269062 -0.738645  0.246257  \n",
       "1480 -0.311431  0.152538  0.548056  0.978403  \n",
       "1481 -1.265515 -0.833097 -0.747211  0.014422  \n",
       "1482 -1.585737 -0.182712  0.271711  2.163382  \n",
       "1483  1.161416  0.705538  0.377713 -0.590566  \n",
       "\n",
       "[1477 rows x 11 columns]"
      ]
     },
     "execution_count": 9,
     "metadata": {},
     "output_type": "execute_result"
    }
   ],
   "source": [
    "df"
   ]
  },
  {
   "cell_type": "code",
   "execution_count": 10,
   "id": "surprised-lightweight",
   "metadata": {},
   "outputs": [],
   "source": [
    "X_train, X_test, y_train, y_test = train_test_split(df, label, random_state=42, test_size=0.30)"
   ]
  },
  {
   "cell_type": "code",
   "execution_count": 11,
   "id": "english-meeting",
   "metadata": {},
   "outputs": [],
   "source": [
    "regressor = MLPRegressor(random_state=42, max_iter=500).fit(X_train, y_train)"
   ]
  },
  {
   "cell_type": "code",
   "execution_count": 19,
   "id": "visible-albany",
   "metadata": {},
   "outputs": [
    {
     "data": {
      "text/plain": [
       "0.8696963705237135"
      ]
     },
     "execution_count": 19,
     "metadata": {},
     "output_type": "execute_result"
    }
   ],
   "source": [
    "regressor.score(X_test, y_test)"
   ]
  },
  {
   "cell_type": "code",
   "execution_count": 13,
   "id": "critical-driver",
   "metadata": {},
   "outputs": [],
   "source": [
    "y_pred = regressor.predict(df_blind_ts)"
   ]
  },
  {
   "cell_type": "code",
   "execution_count": 17,
   "id": "promising-contamination",
   "metadata": {},
   "outputs": [],
   "source": [
    "y_pred = pd.DataFrame(data=y_pred, columns=[\"x\", \"y\"])"
   ]
  },
  {
   "cell_type": "code",
   "execution_count": 18,
   "id": "boring-police",
   "metadata": {},
   "outputs": [
    {
     "data": {
      "text/plain": [
       "<matplotlib.collections.PathCollection at 0x7f5b7aa9d730>"
      ]
     },
     "execution_count": 18,
     "metadata": {},
     "output_type": "execute_result"
    },
    {
     "data": {
      "image/png": "[encoded data removed]",
      "text/plain": [
       "<Figure size 432x288 with 1 Axes>"
      ]
     },
     "metadata": {
      "needs_background": "light"
     },
     "output_type": "display_data"
    }
   ],
   "source": [
    "plt.scatter(y_pred['x'], y_pred['y'])"
   ]
  },
  {
   "cell_type": "markdown",
   "id": "minor-trail",
   "metadata": {},
   "source": [
    "## Grid Search"
   ]
  },
  {
   "cell_type": "code",
   "execution_count": 30,
   "id": "continuing-counter",
   "metadata": {
    "scrolled": false
   },
   "outputs": [
    {
     "name": "stderr",
     "output_type": "stream",
     "text": [
      "/home/luca/.local/lib/python3.9/site-packages/sklearn/model_selection/_search.py:969: UserWarning: One or more of the test scores are non-finite: [nan nan nan nan nan]\n",
      "  warnings.warn(\n"
     ]
    },
    {
     "data": {
      "text/plain": [
       "RandomizedSearchCV(estimator=MLPRegressor(), n_iter=5, n_jobs=10,\n",
       "                   param_distributions={'activation': ['identity', 'logistic',\n",
       "                                                       'tanh', 'relu'],\n",
       "                                        'hidden_layer_sizes': [(100,), (50,),\n",
       "                                                               (100, 100),\n",
       "                                                               (50, 50)],\n",
       "                                        'max_iter': [1000],\n",
       "                                        'solver': ['lbfgs', 'sgd', 'adam']},\n",
       "                   scoring=make_scorer(accuracy_score))"
      ]
     },
     "execution_count": 30,
     "metadata": {},
     "output_type": "execute_result"
    }
   ],
   "source": [
    "#to find the best set of parameter setting, we can run a grid search\n",
    "from sklearn.model_selection import RandomizedSearchCV\n",
    "from scipy.stats import randint as sp_randint\n",
    "from sklearn.metrics import make_scorer\n",
    "from sklearn.metrics import accuracy_score\n",
    "\n",
    "#define the parameters' values you want to try\n",
    "param_dist = {\"hidden_layer_sizes\": [(100,), (50,), (100, 100), (50,50)],\n",
    "              \"activation\": ['identity', 'logistic', 'tanh', 'relu'],\n",
    "              \"solver\": ['lbfgs', 'sgd', 'adam'],\n",
    "              \"max_iter\": [1000],\n",
    "             }\n",
    "#define the number of iterations\n",
    "n_iter_search = 5\n",
    "#define the model\n",
    "regressor = MLPRegressor()\n",
    "#define the grid search\n",
    "grid_search = RandomizedSearchCV(regressor, param_distributions=param_dist, \n",
    "                            n_iter=n_iter_search, \n",
    "                            n_jobs=10, \n",
    "                            scoring=make_scorer(accuracy_score))\n",
    "#run the grid search\n",
    "grid_search.fit(X_train, y_train)"
   ]
  },
  {
   "cell_type": "code",
   "execution_count": 31,
   "id": "hazardous-fault",
   "metadata": {},
   "outputs": [
    {
     "name": "stdout",
     "output_type": "stream",
     "text": [
      "Best setting parameters  {'solver': 'adam', 'max_iter': 1000, 'hidden_layer_sizes': (100, 100), 'activation': 'tanh'}\n"
     ]
    }
   ],
   "source": [
    "print('Best setting parameters ', grid_search.cv_results_['params'][0])"
   ]
  },
  {
   "cell_type": "code",
   "execution_count": 33,
   "id": "embedded-handling",
   "metadata": {},
   "outputs": [],
   "source": [
    "gs_regressor = MLPRegressor(solver='adam', max_iter = 1000, hidden_layer_sizes = (100, 100), activation = 'tanh').fit(X_train, y_train)"
   ]
  },
  {
   "cell_type": "code",
   "execution_count": 34,
   "id": "qualified-stockholm",
   "metadata": {},
   "outputs": [
    {
     "data": {
      "text/plain": [
       "0.9196934059171845"
      ]
     },
     "execution_count": 34,
     "metadata": {},
     "output_type": "execute_result"
    }
   ],
   "source": [
    "gs_regressor.score(X_test, y_test)"
   ]
  },
  {
   "cell_type": "code",
   "execution_count": 36,
   "id": "tight-school",
   "metadata": {},
   "outputs": [],
   "source": [
    "y_pred = gs_regressor.predict(df_blind_ts)"
   ]
  },
  {
   "cell_type": "code",
   "execution_count": 37,
   "id": "sacred-going",
   "metadata": {},
   "outputs": [],
   "source": [
    "y_pred = pd.DataFrame(data=y_pred, columns=[\"x\", \"y\"])"
   ]
  },
  {
   "cell_type": "code",
   "execution_count": 38,
   "id": "changing-library",
   "metadata": {},
   "outputs": [
    {
     "data": {
      "text/plain": [
       "<matplotlib.collections.PathCollection at 0x7f5b8cbb1e20>"
      ]
     },
     "execution_count": 38,
     "metadata": {},
     "output_type": "execute_result"
    },
    {
     "data": {
      "image/png": "[encoded data removed]",
      "text/plain": [
       "<Figure size 432x288 with 1 Axes>"
      ]
     },
     "metadata": {
      "needs_background": "light"
     },
     "output_type": "display_data"
    }
   ],
   "source": [
    "plt.scatter(y_pred['x'], y_pred['y'])"
   ]
  }
 ],
 "metadata": {
  "kernelspec": {
   "display_name": "Python 3",
   "language": "python",
   "name": "python3"
  },
  "language_info": {
   "codemirror_mode": {
    "name": "ipython",
    "version": 3
   },
   "file_extension": ".py",
   "mimetype": "text/x-python",
   "name": "python",
   "nbconvert_exporter": "python",
   "pygments_lexer": "ipython3",
   "version": "3.9.5"
  }
 },
 "nbformat": 4,
 "nbformat_minor": 5
}
