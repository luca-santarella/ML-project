{
 "cells": [
  {
   "cell_type": "code",
   "metadata": {
    "cell_id": "3602b258-635e-4c73-a62f-fb606db6101a",
    "deepnote_to_be_reexecuted": false,
    "source_hash": "f7b5b794",
    "execution_start": 1642370462566,
    "execution_millis": 1711,
    "deepnote_cell_type": "code"
   },
   "source": "import numpy as np\nimport math\nimport matplotlib.pyplot as plt\nimport matplotlib.colors as colors\nimport pandas as pd\nfrom sklearn.preprocessing import OneHotEncoder\nfrom sklearn.metrics import confusion_matrix, classification_report\nfrom sklearn.preprocessing import StandardScaler\nfrom sklearn.model_selection import train_test_split\nfrom sklearn.model_selection import RandomizedSearchCV\n\nfrom sklearn.utils import resample #to downsample the dataset\nfrom sklearn.preprocessing import scale #Scale the dataset\nfrom sklearn.svm import SVC #Support vector machine for classification\nfrom sklearn.metrics import plot_confusion_matrix #Draws a Confusion Matrix\n\nimport seaborn as sns\nimport warnings\nwarnings.filterwarnings(\"ignore\")\n%matplotlib inline",
   "execution_count": null,
   "outputs": []
  },
  {
   "cell_type": "code",
   "metadata": {
    "cell_id": "00001-56ec783e-95a6-4054-ab76-80892ed516bb",
    "deepnote_to_be_reexecuted": false,
    "source_hash": "5c25c59a",
    "execution_start": 1642370464280,
    "execution_millis": 6,
    "deepnote_cell_type": "code"
   },
   "source": "def make_meshgrid(x, y, h=.02):\n    x_min, x_max = x.min() - 1, x.max() + 1\n    y_min, y_max = y.min() - 1, y.max() + 1\n    xx, yy = np.meshgrid(np.arange(x_min, x_max, h), np.arange(y_min, y_max, h))\n    return xx, yy\n\ndef plot_contours(ax, clf, xx, yy, **params):\n    Z = clf.predict(np.c_[xx.ravel(), yy.ravel()])\n    Z = Z.reshape(xx.shape)\n    out = ax.contourf(xx, yy, Z, **params)\n    return out",
   "execution_count": null,
   "outputs": []
  },
  {
   "cell_type": "code",
   "metadata": {
    "cell_id": "00002-6aae7340-e5b1-481b-99b2-dcb33409a5df",
    "deepnote_to_be_reexecuted": false,
    "source_hash": "a5b7cb83",
    "execution_start": 1642370464291,
    "execution_millis": 2,
    "deepnote_cell_type": "code"
   },
   "source": "#define mee loss function \ndef mee(true_target, predicted_target):  # assuming target is 2-dim matrix with x and y as columns\n    l = true_target.shape[0]\n    res = 0\n\n    for p in range(l):  # for p-th pattern in l (number of samples)\n        x_diff = np.square(true_target[p, 0] - predicted_target[p, 0])  # difference between the x value of the true and predicted target\n        y_diff = np.square(\n            true_target[p, 1] - predicted_target[p, 1])  # difference between the y values of true and predicted target\n        sum_term = x_diff + y_diff\n        res = res + np.sqrt(sum_term)\n    res = res / l\n\n    return res",
   "execution_count": null,
   "outputs": []
  },
  {
   "cell_type": "code",
   "metadata": {
    "cell_id": "b1b9e490-5f26-4b32-b142-c15dae54104e",
    "tags": [],
    "deepnote_to_be_reexecuted": false,
    "source_hash": "236d7250",
    "execution_start": 1642370464296,
    "execution_millis": 3,
    "deepnote_cell_type": "code"
   },
   "source": "def inv_mee(true_target, predicted_target):\n    return 1/mee(true_target, predicted_target)",
   "execution_count": null,
   "outputs": []
  },
  {
   "cell_type": "code",
   "metadata": {
    "cell_id": "00003-21321764-941d-490b-ad04-ddf1d57ac47e",
    "deepnote_to_be_reexecuted": false,
    "source_hash": "4f100b68",
    "execution_start": 1642370464302,
    "execution_millis": 5,
    "deepnote_cell_type": "code"
   },
   "source": "from sklearn.metrics import make_scorer\nfrom sklearn.metrics import mean_squared_error\nfrom sklearn.multioutput import MultiOutputRegressor\nfrom sklearn.svm import SVR\nfrom sklearn.pipeline import Pipeline\n\n#trains the model with one iteration (epoch) and computes in output a list of train and test scores using MEE\ndef fit_and_score(epochs, eval_model, X_train, y_train, X_test, y_test):\n    train_scores = []\n    test_scores = []\n    train_loss = []\n    test_loss = []\n    for i in range(epochs):\n        eval_model = eval_model.partial_fit(X_train,y_train)\n        y_train_predicted = eval_model.predict(X_train)\n        y_test_predicted = eval_model.predict(X_test)\n        #results on train set\n        train_scores.append(mee(y_train, y_train_predicted))\n        test_scores.append(mean_squared_error(y_test, y_test_predicted))\n        #result on test set\n        train_loss.append(mee(y_train, y_train_predicted))\n        test_loss.append(mean_squared_error(y_test, y_test_predicted))\n    return train_scores, test_scores, train_loss, test_loss",
   "execution_count": null,
   "outputs": []
  },
  {
   "cell_type": "code",
   "metadata": {
    "cell_id": "00004-5ff61f55-4c57-4186-8704-e5f35210281e",
    "deepnote_to_be_reexecuted": false,
    "source_hash": "2681486e",
    "execution_start": 1642370464312,
    "execution_millis": 18,
    "deepnote_cell_type": "code"
   },
   "source": "df_visual = pd.read_csv('./data/ML-CUP21-TR.csv', usecols=[11,12], names=['idx','f1','f2','f3','f4','f5','f6','f7','f8','f9','f10', 'x','y'])\ndf_task_tr = pd.read_csv('./data/ML-CUP21-TR.csv', names=['idx','f1','f2','f3','f4','f5','f6','f7','f8','f9','f10', 'x','y'])\ndf_task_tr = df_task_tr[7:] # remove first 7 rows of comments\ndf_visual = df_visual[7:]\n\ndf_blind_ts = pd.read_csv('./data/ML-CUP21-TS.csv', names=['idx','f1','f2','f3','f4','f5','f6','f7','f8','f9','f10'])\ndf_blind_ts = df_blind_ts[7:]\ndf_blind_ts.drop(labels=\"idx\", axis=1, inplace=True)",
   "execution_count": null,
   "outputs": []
  },
  {
   "cell_type": "code",
   "metadata": {
    "cell_id": "00005-de599f2c-a28d-4c3a-879a-f627e1bce0c4",
    "deepnote_to_be_reexecuted": false,
    "source_hash": "192dcf",
    "execution_start": 1642370464339,
    "execution_millis": 0,
    "deepnote_cell_type": "code"
   },
   "source": "df_task_tr.drop(labels=\"idx\", axis=1, inplace=True)",
   "execution_count": null,
   "outputs": []
  },
  {
   "cell_type": "code",
   "metadata": {
    "cell_id": "00006-dd4dc625-2d18-4693-8128-99dfa8f2fd2a",
    "deepnote_to_be_reexecuted": false,
    "source_hash": "3deb8984",
    "execution_start": 1642370464365,
    "execution_millis": 4,
    "deepnote_cell_type": "code"
   },
   "source": "y = df_task_tr[['x','y']]\nX = df_task_tr.drop(labels=['x','y'], axis=1)\nX_test = df_blind_ts\n\nprint(y.shape)",
   "execution_count": null,
   "outputs": [
    {
     "name": "stdout",
     "text": "(1477, 2)\n",
     "output_type": "stream"
    }
   ]
  },
  {
   "cell_type": "code",
   "metadata": {
    "cell_id": "00007-8f11775e-34ba-423d-b5f3-a20dc5d3d569",
    "deepnote_to_be_reexecuted": false,
    "source_hash": "abb06bed",
    "execution_start": 1642370464366,
    "execution_millis": 0,
    "deepnote_cell_type": "code"
   },
   "source": "X_all = X.values\ny_all = y.values",
   "execution_count": null,
   "outputs": []
  },
  {
   "cell_type": "code",
   "metadata": {
    "cell_id": "00008-38cf2beb-b6c1-474b-ae58-f20ef5fe0de2",
    "deepnote_to_be_reexecuted": false,
    "source_hash": "1a0e1af1",
    "execution_start": 1642370464366,
    "execution_millis": 4,
    "deepnote_cell_type": "code"
   },
   "source": "#prepare validation set\nX_train, X_validation, y_train, y_validation = train_test_split(X, y, test_size=0.1, random_state=420)\nprint(f\"X shape: {X_train.shape}\")\nprint(f\"X validation shape: {X_validation.shape}\")\nprint(f\"y shape: {y_train.shape}\")\nprint(f\"y validation shape: {y_validation.shape}\")",
   "execution_count": null,
   "outputs": [
    {
     "name": "stdout",
     "text": "X shape: (1329, 10)\nX validation shape: (148, 10)\ny shape: (1329, 2)\ny validation shape: (148, 2)\n",
     "output_type": "stream"
    }
   ]
  },
  {
   "cell_type": "code",
   "metadata": {
    "cell_id": "00009-38c8ac94-7b26-4818-9d33-0b3e3b8c7571",
    "deepnote_to_be_reexecuted": false,
    "source_hash": "60e347d5",
    "execution_start": 1642370464375,
    "execution_millis": 4,
    "deepnote_cell_type": "code"
   },
   "source": "#from sklearn.preprocessing import scale #Scale the dataset\n\n#X_train_scaled = scale(X_train)\n#X_val_scaled = scale(X_validation)\n#X_test_scaled = scale (X_test)",
   "execution_count": null,
   "outputs": []
  },
  {
   "cell_type": "code",
   "metadata": {
    "cell_id": "00010-92b092a5-d40d-4516-8594-5ec8e54027b8",
    "deepnote_to_be_reexecuted": false,
    "source_hash": "a324ecff",
    "execution_start": 1642370464407,
    "execution_millis": 0,
    "deepnote_cell_type": "code"
   },
   "source": "y_train = y_train[['x', 'y']]\ny_validation = y_validation[['x', 'y']]",
   "execution_count": null,
   "outputs": []
  },
  {
   "cell_type": "code",
   "metadata": {
    "cell_id": "00011-ea01cf49-5c2d-4a65-a758-e1ecae66b316",
    "deepnote_to_be_reexecuted": false,
    "source_hash": "e29b0cdc",
    "execution_start": 1642370464408,
    "execution_millis": 0,
    "deepnote_cell_type": "code"
   },
   "source": "X_train_C = np.ascontiguousarray(X_train, dtype=np.double) #np.ascontiguousarray(X_train_scaled, dtype=np.double)\nX_val_C = np.ascontiguousarray(X_validation, dtype=np.double) #np.ascontiguousarray(X_val_scaled, dtype=np.double)\nX_test_C = np.ascontiguousarray(X_test, dtype=np.double) #np.ascontiguousarray(X_test_scaled, dtype=np.double)",
   "execution_count": null,
   "outputs": []
  },
  {
   "cell_type": "code",
   "metadata": {
    "cell_id": "00012-7b4501d9-cd64-4d89-be80-8d6c9bc9b471",
    "deepnote_to_be_reexecuted": false,
    "source_hash": "9365a276",
    "execution_start": 1642370464409,
    "execution_millis": 0,
    "deepnote_cell_type": "code"
   },
   "source": "y_train_C = np.ascontiguousarray(y_train.values, dtype=np.double)\ny_validation_C = np.ascontiguousarray(y_validation.values, dtype=np.double)",
   "execution_count": null,
   "outputs": []
  },
  {
   "cell_type": "code",
   "metadata": {
    "cell_id": "c2e19ab4-8ead-4606-b28c-77e19f1d0389",
    "tags": [],
    "deepnote_to_be_reexecuted": false,
    "source_hash": "39b09867",
    "execution_start": 1642370464410,
    "execution_millis": 0,
    "deepnote_cell_type": "code"
   },
   "source": "pipe_svr = Pipeline([('reg', MultiOutputRegressor(SVR()))])\ngrid_param_svr = {\n    'reg__estimator__C':[0.1, 0.5, 0.8, 0.9, 1, 2, 5, 10],\n    'reg__estimator__epsilon': [0, 0.01, 0.1, 0.5, 1, 2],\n    'reg__estimator__gamma': ['scale', 1, 0.1, 0.01, 0.001, 0.0001, 0.00001],\n    'reg__estimator__kernel':  ['linear', 'rbf', 'sigmoid']\n}",
   "execution_count": null,
   "outputs": []
  },
  {
   "cell_type": "code",
   "metadata": {
    "cell_id": "00013-fc6dbf62-7bf6-433a-9af8-34b1763b266a",
    "deepnote_to_be_reexecuted": false,
    "source_hash": "80797620",
    "execution_start": 1642370464458,
    "execution_millis": 170655,
    "deepnote_cell_type": "code"
   },
   "source": "optimal_par = RandomizedSearchCV(\n    estimator=pipe_svr,\n    param_distributions=grid_param_svr,\n    n_iter=100,\n    cv=10,\n    scoring='neg_mean_squared_error',\n    verbose=0\n)\n\noptimal_par.fit(X_train, y_train) #optimal_par.fit(X_train_scaled, y_train)\nprint(optimal_par.best_params_)",
   "execution_count": null,
   "outputs": [
    {
     "name": "stdout",
     "text": "{'reg__estimator__kernel': 'rbf', 'reg__estimator__gamma': 'scale', 'reg__estimator__epsilon': 0.5, 'reg__estimator__C': 5}\n",
     "output_type": "stream"
    }
   ]
  },
  {
   "cell_type": "code",
   "metadata": {
    "cell_id": "00014-e7c6dbc3-614e-4c42-9d7c-575e1e410cb7",
    "deepnote_output_heights": [
     21.1875
    ],
    "deepnote_to_be_reexecuted": false,
    "source_hash": "131ac8cc",
    "execution_start": 1642370635104,
    "execution_millis": 153,
    "deepnote_cell_type": "code"
   },
   "source": "best_model = optimal_par.best_estimator_\nbest_model.fit(X_train, y_train) #best_model.fit(X_train_scaled, y_train)\nbest_model.score(X_validation, y_validation) #best_model.score(X_val_scaled, y_validation)",
   "execution_count": null,
   "outputs": [
    {
     "output_type": "execute_result",
     "execution_count": 17,
     "data": {
      "text/plain": "0.9596238585512655"
     },
     "metadata": {}
    }
   ]
  },
  {
   "cell_type": "code",
   "metadata": {
    "cell_id": "00015-7b737651-5f8d-4853-bd05-d3dbd9659a8f",
    "deepnote_output_heights": [
     382.1875
    ],
    "deepnote_to_be_reexecuted": false,
    "source_hash": "3550c220",
    "execution_start": 1642370635272,
    "execution_millis": 156,
    "deepnote_cell_type": "code"
   },
   "source": "df_results_cup = pd.DataFrame(data=optimal_par.cv_results_) #trasform into a pandas dataframe\ndf_results_cup\n\n#https://github.com/scikit-learn/scikit-learn/issues/2439 se è negativo controlla questo",
   "execution_count": null,
   "outputs": [
    {
     "output_type": "execute_result",
     "execution_count": 18,
     "data": {
      "application/vnd.deepnote.dataframe.v3+json": {
       "column_count": 22,
       "row_count": 100,
       "columns": [
        {
         "name": "mean_fit_time",
         "dtype": "float64",
         "stats": {
          "unique_count": 100,
          "nan_count": 0,
          "min": "0.02945055961608887",
          "max": "0.44869184494018555",
          "histogram": [
           {
            "bin_start": 0.02945055961608887,
            "bin_end": 0.07137468814849854,
            "count": 11
           },
           {
            "bin_start": 0.07137468814849854,
            "bin_end": 0.11329881668090819,
            "count": 10
           },
           {
            "bin_start": 0.11329881668090819,
            "bin_end": 0.15522294521331784,
            "count": 37
           },
           {
            "bin_start": 0.15522294521331784,
            "bin_end": 0.1971470737457275,
            "count": 23
           },
           {
            "bin_start": 0.1971470737457275,
            "bin_end": 0.2390712022781372,
            "count": 11
           },
           {
            "bin_start": 0.2390712022781372,
            "bin_end": 0.28099533081054684,
            "count": 1
           },
           {
            "bin_start": 0.28099533081054684,
            "bin_end": 0.3229194593429565,
            "count": 2
           },
           {
            "bin_start": 0.3229194593429565,
            "bin_end": 0.3648435878753662,
            "count": 2
           },
           {
            "bin_start": 0.3648435878753662,
            "bin_end": 0.40676771640777587,
            "count": 2
           },
           {
            "bin_start": 0.40676771640777587,
            "bin_end": 0.44869184494018555,
            "count": 1
           }
          ]
         }
        },
        {
         "name": "std_fit_time",
         "dtype": "float64",
         "stats": {
          "unique_count": 100,
          "nan_count": 0,
          "min": "0.0011023141852941995",
          "max": "0.026297565897280373",
          "histogram": [
           {
            "bin_start": 0.0011023141852941995,
            "bin_end": 0.003621839356492817,
            "count": 10
           },
           {
            "bin_start": 0.003621839356492817,
            "bin_end": 0.006141364527691434,
            "count": 23
           },
           {
            "bin_start": 0.006141364527691434,
            "bin_end": 0.008660889698890051,
            "count": 25
           },
           {
            "bin_start": 0.008660889698890051,
            "bin_end": 0.01118041487008867,
            "count": 13
           },
           {
            "bin_start": 0.01118041487008867,
            "bin_end": 0.013699940041287287,
            "count": 14
           },
           {
            "bin_start": 0.013699940041287287,
            "bin_end": 0.016219465212485903,
            "count": 6
           },
           {
            "bin_start": 0.016219465212485903,
            "bin_end": 0.018738990383684522,
            "count": 4
           },
           {
            "bin_start": 0.018738990383684522,
            "bin_end": 0.021258515554883138,
            "count": 3
           },
           {
            "bin_start": 0.021258515554883138,
            "bin_end": 0.023778040726081754,
            "count": 1
           },
           {
            "bin_start": 0.023778040726081754,
            "bin_end": 0.026297565897280373,
            "count": 1
           }
          ]
         }
        },
        {
         "name": "mean_score_time",
         "dtype": "float64",
         "stats": {
          "unique_count": 100,
          "nan_count": 0,
          "min": "0.0033263206481933595",
          "max": "0.022549009323120116",
          "histogram": [
           {
            "bin_start": 0.0033263206481933595,
            "bin_end": 0.005248589515686035,
            "count": 8
           },
           {
            "bin_start": 0.005248589515686035,
            "bin_end": 0.0071708583831787106,
            "count": 13
           },
           {
            "bin_start": 0.0071708583831787106,
            "bin_end": 0.009093127250671386,
            "count": 20
           },
           {
            "bin_start": 0.009093127250671386,
            "bin_end": 0.011015396118164062,
            "count": 3
           },
           {
            "bin_start": 0.011015396118164062,
            "bin_end": 0.012937664985656737,
            "count": 7
           },
           {
            "bin_start": 0.012937664985656737,
            "bin_end": 0.014859933853149413,
            "count": 6
           },
           {
            "bin_start": 0.014859933853149413,
            "bin_end": 0.016782202720642087,
            "count": 13
           },
           {
            "bin_start": 0.016782202720642087,
            "bin_end": 0.018704471588134763,
            "count": 16
           },
           {
            "bin_start": 0.018704471588134763,
            "bin_end": 0.02062674045562744,
            "count": 9
           },
           {
            "bin_start": 0.02062674045562744,
            "bin_end": 0.022549009323120116,
            "count": 5
           }
          ]
         }
        },
        {
         "name": "std_score_time",
         "dtype": "float64",
         "stats": {
          "unique_count": 100,
          "nan_count": 0,
          "min": "5.270247949081176e-05",
          "max": "0.0035863803618407875",
          "histogram": [
           {
            "bin_start": 0.00005270247949081176,
            "bin_end": 0.00040607026772580937,
            "count": 25
           },
           {
            "bin_start": 0.00040607026772580937,
            "bin_end": 0.000759438055960807,
            "count": 16
           },
           {
            "bin_start": 0.000759438055960807,
            "bin_end": 0.0011128058441958048,
            "count": 9
           },
           {
            "bin_start": 0.0011128058441958048,
            "bin_end": 0.0014661736324308023,
            "count": 11
           },
           {
            "bin_start": 0.0014661736324308023,
            "bin_end": 0.0018195414206657998,
            "count": 13
           },
           {
            "bin_start": 0.0018195414206657998,
            "bin_end": 0.0021729092089007975,
            "count": 9
           },
           {
            "bin_start": 0.0021729092089007975,
            "bin_end": 0.002526276997135795,
            "count": 6
           },
           {
            "bin_start": 0.002526276997135795,
            "bin_end": 0.0028796447853707925,
            "count": 5
           },
           {
            "bin_start": 0.0028796447853707925,
            "bin_end": 0.00323301257360579,
            "count": 4
           },
           {
            "bin_start": 0.00323301257360579,
            "bin_end": 0.0035863803618407875,
            "count": 2
           }
          ]
         }
        },
        {
         "name": "param_reg__estimator__kernel",
         "dtype": "object",
         "stats": {
          "unique_count": 3,
          "nan_count": 0,
          "categories": [
           {
            "name": "rbf",
            "count": 36
           },
           {
            "name": "linear",
            "count": 35
           },
           {
            "name": "sigmoid",
            "count": 29
           }
          ]
         }
        },
        {
         "name": "param_reg__estimator__gamma",
         "dtype": "object",
         "stats": {
          "unique_count": 7,
          "nan_count": 0,
          "categories": [
           {
            "name": "1e-05",
            "count": 21
           },
           {
            "name": "0.1",
            "count": 17
           },
           {
            "name": "5 others",
            "count": 62
           }
          ]
         }
        },
        {
         "name": "param_reg__estimator__epsilon",
         "dtype": "object",
         "stats": {
          "unique_count": 6,
          "nan_count": 0,
          "categories": [
           {
            "name": "1.0",
            "count": 21
           },
           {
            "name": "0.1",
            "count": 19
           },
           {
            "name": "4 others",
            "count": 60
           }
          ]
         }
        },
        {
         "name": "param_reg__estimator__C",
         "dtype": "object",
         "stats": {
          "unique_count": 8,
          "nan_count": 0,
          "categories": [
           {
            "name": "0.5",
            "count": 21
           },
           {
            "name": "10.0",
            "count": 16
           },
           {
            "name": "6 others",
            "count": 63
           }
          ]
         }
        },
        {
         "name": "params",
         "dtype": "object",
         "stats": {
          "unique_count": 100,
          "nan_count": 0,
          "categories": [
           {
            "name": "{'reg__estimator__kernel': 'rbf', 'reg__estimator__gamma': 0.001, 'reg__estimator__epsilon': 0.5, 'reg__estimator__C': 5}",
            "count": 1
           },
           {
            "name": "{'reg__estimator__kernel': 'rbf', 'reg__estimator__gamma': 0.001, 'reg__estimator__epsilon': 0.5, 'reg__estimator__C': 0.8}",
            "count": 1
           },
           {
            "name": "98 others",
            "count": 98
           }
          ]
         }
        },
        {
         "name": "split0_test_score",
         "dtype": "float64",
         "stats": {
          "unique_count": 90,
          "nan_count": 0,
          "min": "-2163.3197517484377",
          "max": "-1.2987266026249342",
          "histogram": [
           {
            "bin_start": -2163.3197517484377,
            "bin_end": -1947.1176492338564,
            "count": 3
           },
           {
            "bin_start": -1947.1176492338564,
            "bin_end": -1730.9155467192752,
            "count": 0
           },
           {
            "bin_start": -1730.9155467192752,
            "bin_end": -1514.7134442046938,
            "count": 0
           },
           {
            "bin_start": -1514.7134442046938,
            "bin_end": -1298.5113416901127,
            "count": 0
           },
           {
            "bin_start": -1298.5113416901127,
            "bin_end": -1082.3092391755313,
            "count": 0
           },
           {
            "bin_start": -1082.3092391755313,
            "bin_end": -866.1071366609499,
            "count": 0
           },
           {
            "bin_start": -866.1071366609499,
            "bin_end": -649.9050341463687,
            "count": 0
           },
           {
            "bin_start": -649.9050341463687,
            "bin_end": -433.70293163178735,
            "count": 0
           },
           {
            "bin_start": -433.70293163178735,
            "bin_end": -217.50082911720597,
            "count": 3
           },
           {
            "bin_start": -217.50082911720597,
            "bin_end": -1.2987266026249342,
            "count": 94
           }
          ]
         }
        },
        {
         "name": "split1_test_score",
         "dtype": "float64",
         "stats": {
          "unique_count": 90,
          "nan_count": 0,
          "min": "-4286.4640435618785",
          "max": "-0.8207865926635918",
          "histogram": [
           {
            "bin_start": -4286.4640435618785,
            "bin_end": -3857.899717864957,
            "count": 1
           },
           {
            "bin_start": -3857.899717864957,
            "bin_end": -3429.3353921680355,
            "count": 0
           },
           {
            "bin_start": -3429.3353921680355,
            "bin_end": -3000.771066471114,
            "count": 0
           },
           {
            "bin_start": -3000.771066471114,
            "bin_end": -2572.2067407741924,
            "count": 2
           },
           {
            "bin_start": -2572.2067407741924,
            "bin_end": -2143.642415077271,
            "count": 0
           },
           {
            "bin_start": -2143.642415077271,
            "bin_end": -1715.0780893803494,
            "count": 0
           },
           {
            "bin_start": -1715.0780893803494,
            "bin_end": -1286.513763683428,
            "count": 0
           },
           {
            "bin_start": -1286.513763683428,
            "bin_end": -857.9494379865064,
            "count": 0
           },
           {
            "bin_start": -857.9494379865064,
            "bin_end": -429.38511228958487,
            "count": 3
           },
           {
            "bin_start": -429.38511228958487,
            "bin_end": -0.8207865926635918,
            "count": 94
           }
          ]
         }
        },
        {
         "name": "split2_test_score",
         "dtype": "float64",
         "stats": {
          "unique_count": 90,
          "nan_count": 0,
          "min": "-3139.316785112184",
          "max": "-1.4487450630659118",
          "histogram": [
           {
            "bin_start": -3139.316785112184,
            "bin_end": -2825.529981107272,
            "count": 1
           },
           {
            "bin_start": -2825.529981107272,
            "bin_end": -2511.7431771023603,
            "count": 2
           },
           {
            "bin_start": -2511.7431771023603,
            "bin_end": -2197.9563730974487,
            "count": 0
           },
           {
            "bin_start": -2197.9563730974487,
            "bin_end": -1884.1695690925367,
            "count": 0
           },
           {
            "bin_start": -1884.1695690925367,
            "bin_end": -1570.3827650876249,
            "count": 0
           },
           {
            "bin_start": -1570.3827650876249,
            "bin_end": -1256.595961082713,
            "count": 0
           },
           {
            "bin_start": -1256.595961082713,
            "bin_end": -942.809157077801,
            "count": 0
           },
           {
            "bin_start": -942.809157077801,
            "bin_end": -629.0223530728895,
            "count": 0
           },
           {
            "bin_start": -629.0223530728895,
            "bin_end": -315.2355490679779,
            "count": 3
           },
           {
            "bin_start": -315.2355490679779,
            "bin_end": -1.4487450630659118,
            "count": 94
           }
          ]
         }
        },
        {
         "name": "split3_test_score",
         "dtype": "float64",
         "stats": {
          "unique_count": 90,
          "nan_count": 0,
          "min": "-4477.63935037215",
          "max": "-1.0682052312131698",
          "histogram": [
           {
            "bin_start": -4477.63935037215,
            "bin_end": -4029.9822358580564,
            "count": 1
           },
           {
            "bin_start": -4029.9822358580564,
            "bin_end": -3582.3251213439626,
            "count": 0
           },
           {
            "bin_start": -3582.3251213439626,
            "bin_end": -3134.6680068298692,
            "count": 0
           },
           {
            "bin_start": -3134.6680068298692,
            "bin_end": -2687.0108923157754,
            "count": 0
           },
           {
            "bin_start": -2687.0108923157754,
            "bin_end": -2239.3537778016816,
            "count": 2
           },
           {
            "bin_start": -2239.3537778016816,
            "bin_end": -1791.6966632875883,
            "count": 0
           },
           {
            "bin_start": -1791.6966632875883,
            "bin_end": -1344.0395487734945,
            "count": 0
           },
           {
            "bin_start": -1344.0395487734945,
            "bin_end": -896.3824342594007,
            "count": 0
           },
           {
            "bin_start": -896.3824342594007,
            "bin_end": -448.72531974530693,
            "count": 0
           },
           {
            "bin_start": -448.72531974530693,
            "bin_end": -1.0682052312131698,
            "count": 97
           }
          ]
         }
        },
        {
         "name": "split4_test_score",
         "dtype": "float64",
         "stats": {
          "unique_count": 90,
          "nan_count": 0,
          "min": "-4809.3453014047445",
          "max": "-0.8724475086502015",
          "histogram": [
           {
            "bin_start": -4809.3453014047445,
            "bin_end": -4328.498016015135,
            "count": 1
           },
           {
            "bin_start": -4328.498016015135,
            "bin_end": -3847.6507306255257,
            "count": 0
           },
           {
            "bin_start": -3847.6507306255257,
            "bin_end": -3366.803445235916,
            "count": 0
           },
           {
            "bin_start": -3366.803445235916,
            "bin_end": -2885.956159846307,
            "count": 0
           },
           {
            "bin_start": -2885.956159846307,
            "bin_end": -2405.1088744566973,
            "count": 0
           },
           {
            "bin_start": -2405.1088744566973,
            "bin_end": -1924.2615890670877,
            "count": 2
           },
           {
            "bin_start": -1924.2615890670877,
            "bin_end": -1443.4143036774785,
            "count": 0
           },
           {
            "bin_start": -1443.4143036774785,
            "bin_end": -962.5670182878689,
            "count": 0
           },
           {
            "bin_start": -962.5670182878689,
            "bin_end": -481.7197328982593,
            "count": 0
           },
           {
            "bin_start": -481.7197328982593,
            "bin_end": -0.8724475086502015,
            "count": 97
           }
          ]
         }
        },
        {
         "name": "split5_test_score",
         "dtype": "float64",
         "stats": {
          "unique_count": 90,
          "nan_count": 0,
          "min": "-3501.3569399026956",
          "max": "-0.9325862058636738",
          "histogram": [
           {
            "bin_start": -3501.3569399026956,
            "bin_end": -3151.3145045330125,
            "count": 1
           },
           {
            "bin_start": -3151.3145045330125,
            "bin_end": -2801.2720691633294,
            "count": 0
           },
           {
            "bin_start": -2801.2720691633294,
            "bin_end": -2451.229633793646,
            "count": 0
           },
           {
            "bin_start": -2451.229633793646,
            "bin_end": -2101.187198423963,
            "count": 2
           },
           {
            "bin_start": -2101.187198423963,
            "bin_end": -1751.1447630542798,
            "count": 0
           },
           {
            "bin_start": -1751.1447630542798,
            "bin_end": -1401.1023276845963,
            "count": 0
           },
           {
            "bin_start": -1401.1023276845963,
            "bin_end": -1051.0598923149132,
            "count": 0
           },
           {
            "bin_start": -1051.0598923149132,
            "bin_end": -701.0174569452302,
            "count": 0
           },
           {
            "bin_start": -701.0174569452302,
            "bin_end": -350.9750215755471,
            "count": 0
           },
           {
            "bin_start": -350.9750215755471,
            "bin_end": -0.9325862058636738,
            "count": 97
           }
          ]
         }
        },
        {
         "name": "split6_test_score",
         "dtype": "float64",
         "stats": {
          "unique_count": 90,
          "nan_count": 0,
          "min": "-4284.909315981301",
          "max": "-1.148497787643632",
          "histogram": [
           {
            "bin_start": -4284.909315981301,
            "bin_end": -3856.533234161935,
            "count": 1
           },
           {
            "bin_start": -3856.533234161935,
            "bin_end": -3428.1571523425696,
            "count": 0
           },
           {
            "bin_start": -3428.1571523425696,
            "bin_end": -2999.7810705232037,
            "count": 0
           },
           {
            "bin_start": -2999.7810705232037,
            "bin_end": -2571.404988703838,
            "count": 0
           },
           {
            "bin_start": -2571.404988703838,
            "bin_end": -2143.0289068844722,
            "count": 2
           },
           {
            "bin_start": -2143.0289068844722,
            "bin_end": -1714.6528250651063,
            "count": 0
           },
           {
            "bin_start": -1714.6528250651063,
            "bin_end": -1286.2767432457408,
            "count": 0
           },
           {
            "bin_start": -1286.2767432457408,
            "bin_end": -857.9006614263749,
            "count": 0
           },
           {
            "bin_start": -857.9006614263749,
            "bin_end": -429.52457960700895,
            "count": 0
           },
           {
            "bin_start": -429.52457960700895,
            "bin_end": -1.148497787643632,
            "count": 97
           }
          ]
         }
        },
        {
         "name": "split7_test_score",
         "dtype": "float64",
         "stats": {
          "unique_count": 90,
          "nan_count": 0,
          "min": "-4278.679335890985",
          "max": "-1.117495412983205",
          "histogram": [
           {
            "bin_start": -4278.679335890985,
            "bin_end": -3850.923151843185,
            "count": 1
           },
           {
            "bin_start": -3850.923151843185,
            "bin_end": -3423.166967795385,
            "count": 0
           },
           {
            "bin_start": -3423.166967795385,
            "bin_end": -2995.4107837475844,
            "count": 0
           },
           {
            "bin_start": -2995.4107837475844,
            "bin_end": -2567.6545996997843,
            "count": 0
           },
           {
            "bin_start": -2567.6545996997843,
            "bin_end": -2139.898415651984,
            "count": 2
           },
           {
            "bin_start": -2139.898415651984,
            "bin_end": -1712.1422316041835,
            "count": 0
           },
           {
            "bin_start": -1712.1422316041835,
            "bin_end": -1284.3860475563833,
            "count": 0
           },
           {
            "bin_start": -1284.3860475563833,
            "bin_end": -856.6298635085832,
            "count": 0
           },
           {
            "bin_start": -856.6298635085832,
            "bin_end": -428.873679460783,
            "count": 0
           },
           {
            "bin_start": -428.873679460783,
            "bin_end": -1.117495412983205,
            "count": 97
           }
          ]
         }
        },
        {
         "name": "split8_test_score",
         "dtype": "float64",
         "stats": {
          "unique_count": 90,
          "nan_count": 0,
          "min": "-4534.342169032652",
          "max": "-1.0574915260993611",
          "histogram": [
           {
            "bin_start": -4534.342169032652,
            "bin_end": -4081.013701281997,
            "count": 1
           },
           {
            "bin_start": -4081.013701281997,
            "bin_end": -3627.6852335313415,
            "count": 0
           },
           {
            "bin_start": -3627.6852335313415,
            "bin_end": -3174.3567657806866,
            "count": 0
           },
           {
            "bin_start": -3174.3567657806866,
            "bin_end": -2721.0282980300312,
            "count": 0
           },
           {
            "bin_start": -2721.0282980300312,
            "bin_end": -2267.699830279376,
            "count": 1
           },
           {
            "bin_start": -2267.699830279376,
            "bin_end": -1814.371362528721,
            "count": 1
           },
           {
            "bin_start": -1814.371362528721,
            "bin_end": -1361.0428947780656,
            "count": 0
           },
           {
            "bin_start": -1361.0428947780656,
            "bin_end": -907.7144270274102,
            "count": 0
           },
           {
            "bin_start": -907.7144270274102,
            "bin_end": -454.3859592767549,
            "count": 0
           },
           {
            "bin_start": -454.3859592767549,
            "bin_end": -1.0574915260993611,
            "count": 97
           }
          ]
         }
        },
        {
         "name": "split9_test_score",
         "dtype": "float64",
         "stats": {
          "unique_count": 90,
          "nan_count": 0,
          "min": "-5022.85156682498",
          "max": "-1.147730492219538",
          "histogram": [
           {
            "bin_start": -5022.85156682498,
            "bin_end": -4520.681183191704,
            "count": 1
           },
           {
            "bin_start": -4520.681183191704,
            "bin_end": -4018.510799558428,
            "count": 0
           },
           {
            "bin_start": -4018.510799558428,
            "bin_end": -3516.340415925152,
            "count": 0
           },
           {
            "bin_start": -3516.340415925152,
            "bin_end": -3014.170032291876,
            "count": 0
           },
           {
            "bin_start": -3014.170032291876,
            "bin_end": -2511.9996486585997,
            "count": 0
           },
           {
            "bin_start": -2511.9996486585997,
            "bin_end": -2009.8292650253234,
            "count": 2
           },
           {
            "bin_start": -2009.8292650253234,
            "bin_end": -1507.6588813920475,
            "count": 0
           },
           {
            "bin_start": -1507.6588813920475,
            "bin_end": -1005.4884977587712,
            "count": 0
           },
           {
            "bin_start": -1005.4884977587712,
            "bin_end": -503.3181141254954,
            "count": 0
           },
           {
            "bin_start": -503.3181141254954,
            "bin_end": -1.147730492219538,
            "count": 97
           }
          ]
         }
        },
        {
         "name": "mean_test_score",
         "dtype": "float64",
         "stats": {
          "unique_count": 90,
          "nan_count": 0,
          "min": "-4032.2069550522588",
          "max": "-1.0984372005506757",
          "histogram": [
           {
            "bin_start": -4032.2069550522588,
            "bin_end": -3629.096103267088,
            "count": 1
           },
           {
            "bin_start": -3629.096103267088,
            "bin_end": -3225.985251481917,
            "count": 0
           },
           {
            "bin_start": -3225.985251481917,
            "bin_end": -2822.874399696746,
            "count": 0
           },
           {
            "bin_start": -2822.874399696746,
            "bin_end": -2419.763547911575,
            "count": 0
           },
           {
            "bin_start": -2419.763547911575,
            "bin_end": -2016.6526961264046,
            "count": 2
           },
           {
            "bin_start": -2016.6526961264046,
            "bin_end": -1613.5418443412336,
            "count": 0
           },
           {
            "bin_start": -1613.5418443412336,
            "bin_end": -1210.4309925560628,
            "count": 0
           },
           {
            "bin_start": -1210.4309925560628,
            "bin_end": -807.3201407708921,
            "count": 0
           },
           {
            "bin_start": -807.3201407708921,
            "bin_end": -404.2092889857213,
            "count": 0
           },
           {
            "bin_start": -404.2092889857213,
            "bin_end": -1.0984372005506757,
            "count": 97
           }
          ]
         }
        },
        {
         "name": "std_test_score",
         "dtype": "float64",
         "stats": {
          "unique_count": 90,
          "nan_count": 0,
          "min": "0.1600684699385652",
          "max": "865.2384976668651",
          "histogram": [
           {
            "bin_start": 0.1600684699385652,
            "bin_end": 86.66791138963121,
            "count": 97
           },
           {
            "bin_start": 86.66791138963121,
            "bin_end": 173.17575430932385,
            "count": 2
           },
           {
            "bin_start": 173.17575430932385,
            "bin_end": 259.6835972290165,
            "count": 0
           },
           {
            "bin_start": 259.6835972290165,
            "bin_end": 346.19144014870915,
            "count": 0
           },
           {
            "bin_start": 346.19144014870915,
            "bin_end": 432.69928306840177,
            "count": 0
           },
           {
            "bin_start": 432.69928306840177,
            "bin_end": 519.2071259880945,
            "count": 0
           },
           {
            "bin_start": 519.2071259880945,
            "bin_end": 605.7149689077871,
            "count": 0
           },
           {
            "bin_start": 605.7149689077871,
            "bin_end": 692.2228118274797,
            "count": 0
           },
           {
            "bin_start": 692.2228118274797,
            "bin_end": 778.7306547471724,
            "count": 0
           },
           {
            "bin_start": 778.7306547471724,
            "bin_end": 865.2384976668651,
            "count": 1
           }
          ]
         }
        },
        {
         "name": "rank_test_score",
         "dtype": "int32",
         "stats": {
          "unique_count": 90,
          "nan_count": 0,
          "min": "1",
          "max": "100",
          "histogram": [
           {
            "bin_start": 1,
            "bin_end": 10.9,
            "count": 10
           },
           {
            "bin_start": 10.9,
            "bin_end": 20.8,
            "count": 10
           },
           {
            "bin_start": 20.8,
            "bin_end": 30.700000000000003,
            "count": 11
           },
           {
            "bin_start": 30.700000000000003,
            "bin_end": 40.6,
            "count": 9
           },
           {
            "bin_start": 40.6,
            "bin_end": 50.5,
            "count": 10
           },
           {
            "bin_start": 50.5,
            "bin_end": 60.400000000000006,
            "count": 10
           },
           {
            "bin_start": 60.400000000000006,
            "bin_end": 70.3,
            "count": 10
           },
           {
            "bin_start": 70.3,
            "bin_end": 80.2,
            "count": 10
           },
           {
            "bin_start": 80.2,
            "bin_end": 90.10000000000001,
            "count": 10
           },
           {
            "bin_start": 90.10000000000001,
            "bin_end": 100,
            "count": 10
           }
          ]
         }
        },
        {
         "name": "_deepnote_index_column",
         "dtype": "int64"
        }
       ],
       "rows": [
        {
         "mean_fit_time": 0.1249880313873291,
         "std_fit_time": 0.006614348160712174,
         "mean_score_time": 0.014784526824951173,
         "std_score_time": 0.0013482604494735367,
         "param_reg__estimator__kernel": "rbf",
         "param_reg__estimator__gamma": "0.001",
         "param_reg__estimator__epsilon": "0.5",
         "param_reg__estimator__C": "5",
         "params": "{'reg__estimator__kernel': 'rbf', 'reg__estimator__gamma': 0.001, 'reg__estimator__epsilon': 0.5, '…",
         "split0_test_score": -2.6741524769126914,
         "split1_test_score": -2.371562524906198,
         "split2_test_score": -2.5487000761960648,
         "split3_test_score": -2.419263322920164,
         "split4_test_score": -1.9025047811218583,
         "split5_test_score": -2.4264368942694787,
         "split6_test_score": -2.54907645924753,
         "split7_test_score": -2.589057347957575,
         "split8_test_score": -2.2545107240379636,
         "split9_test_score": -2.266067888202783,
         "mean_test_score": -2.400133249577231,
         "std_test_score": 0.2106472632144543,
         "rank_test_score": 49,
         "_deepnote_index_column": 0
        },
        {
         "mean_fit_time": 0.13599655628204346,
         "std_fit_time": 0.006003019582510472,
         "mean_score_time": 0.016401791572570802,
         "std_score_time": 0.002792245245948421,
         "param_reg__estimator__kernel": "rbf",
         "param_reg__estimator__gamma": "0.001",
         "param_reg__estimator__epsilon": "0.5",
         "param_reg__estimator__C": "0.8",
         "params": "{'reg__estimator__kernel': 'rbf', 'reg__estimator__gamma': 0.001, 'reg__estimator__epsilon': 0.5, '…",
         "split0_test_score": -5.009575005937808,
         "split1_test_score": -4.715613961776112,
         "split2_test_score": -4.306493939370306,
         "split3_test_score": -4.57464442365801,
         "split4_test_score": -3.6349749947704604,
         "split5_test_score": -4.879618296277018,
         "split6_test_score": -4.8923323817907045,
         "split7_test_score": -4.703883610579421,
         "split8_test_score": -4.332166796633733,
         "split9_test_score": -4.210181416568373,
         "mean_test_score": -4.5259484827361955,
         "std_test_score": 0.3927433698446682,
         "rank_test_score": 63,
         "_deepnote_index_column": 1
        },
        {
         "mean_fit_time": 0.15674548149108886,
         "std_fit_time": 0.006706667043542179,
         "mean_score_time": 0.01865110397338867,
         "std_score_time": 0.001001848828292476,
         "param_reg__estimator__kernel": "rbf",
         "param_reg__estimator__gamma": "0.1",
         "param_reg__estimator__epsilon": "0.1",
         "param_reg__estimator__C": "0.1",
         "params": "{'reg__estimator__kernel': 'rbf', 'reg__estimator__gamma': 0.1, 'reg__estimator__epsilon': 0.1, 're…",
         "split0_test_score": -2.0861641853761173,
         "split1_test_score": -1.752692245571458,
         "split2_test_score": -2.0577367923463075,
         "split3_test_score": -1.764609890151528,
         "split4_test_score": -1.3848073552520797,
         "split5_test_score": -1.6023221333934154,
         "split6_test_score": -1.8519750924327656,
         "split7_test_score": -1.6980113750265824,
         "split8_test_score": -1.6721921722546036,
         "split9_test_score": -1.7646285100172614,
         "mean_test_score": -1.763513975182212,
         "std_test_score": 0.19510174851802797,
         "rank_test_score": 12,
         "_deepnote_index_column": 2
        },
        {
         "mean_fit_time": 0.15450377464294435,
         "std_fit_time": 0.013217224690965184,
         "mean_score_time": 0.014911794662475586,
         "std_score_time": 0.0020451193648830268,
         "param_reg__estimator__kernel": "sigmoid",
         "param_reg__estimator__gamma": "1e-05",
         "param_reg__estimator__epsilon": "1",
         "param_reg__estimator__C": "0.1",
         "params": "{'reg__estimator__kernel': 'sigmoid', 'reg__estimator__gamma': 1e-05, 'reg__estimator__epsilon': 1,…",
         "split0_test_score": -33.75353091583175,
         "split1_test_score": -31.424011840990996,
         "split2_test_score": -30.228222496826632,
         "split3_test_score": -30.480162022568287,
         "split4_test_score": -29.067981824161265,
         "split5_test_score": -34.05316300467171,
         "split6_test_score": -31.945676006847314,
         "split7_test_score": -32.893732526617406,
         "split8_test_score": -30.27345595265034,
         "split9_test_score": -29.451672994206405,
         "mean_test_score": -31.357160958537214,
         "std_test_score": 1.667697766583204,
         "rank_test_score": 92,
         "_deepnote_index_column": 3
        },
        {
         "mean_fit_time": 0.07525396347045898,
         "std_fit_time": 0.005034907975738586,
         "mean_score_time": 0.005326986312866211,
         "std_score_time": 0.00007222941909668774,
         "param_reg__estimator__kernel": "linear",
         "param_reg__estimator__gamma": "1e-05",
         "param_reg__estimator__epsilon": "1",
         "param_reg__estimator__C": "0.1",
         "params": "{'reg__estimator__kernel': 'linear', 'reg__estimator__gamma': 1e-05, 'reg__estimator__epsilon': 1, …",
         "split0_test_score": -2.5604912823336816,
         "split1_test_score": -2.306656077862826,
         "split2_test_score": -2.5680676184381066,
         "split3_test_score": -2.326736016704602,
         "split4_test_score": -1.9775565020782198,
         "split5_test_score": -2.3822714082168965,
         "split6_test_score": -2.429899420858505,
         "split7_test_score": -2.5241006750557293,
         "split8_test_score": -2.2741221773482105,
         "split9_test_score": -2.250033413819838,
         "mean_test_score": -2.359993459271662,
         "std_test_score": 0.1689623064876879,
         "rank_test_score": 17,
         "_deepnote_index_column": 4
        },
        {
         "mean_fit_time": 0.1298893690109253,
         "std_fit_time": 0.011174553433520357,
         "mean_score_time": 0.013000035285949707,
         "std_score_time": 0.0024882522276045067,
         "param_reg__estimator__kernel": "sigmoid",
         "param_reg__estimator__gamma": "0.01",
         "param_reg__estimator__epsilon": "0.5",
         "param_reg__estimator__C": "0.5",
         "params": "{'reg__estimator__kernel': 'sigmoid', 'reg__estimator__gamma': 0.01, 'reg__estimator__epsilon': 0.5…",
         "split0_test_score": -3.0682094919381724,
         "split1_test_score": -2.7855766033745315,
         "split2_test_score": -2.84479995174877,
         "split3_test_score": -2.8069621705727297,
         "split4_test_score": -2.1491428485137978,
         "split5_test_score": -2.8964223944349765,
         "split6_test_score": -2.9737582586429974,
         "split7_test_score": -3.009004435099714,
         "split8_test_score": -2.607384988032906,
         "split9_test_score": -2.6022427065466647,
         "mean_test_score": -2.7743503848905258,
         "std_test_score": 0.2550718392836535,
         "rank_test_score": 54,
         "_deepnote_index_column": 5
        },
        {
         "mean_fit_time": 0.15301063060760497,
         "std_fit_time": 0.010063398474040253,
         "mean_score_time": 0.00811924934387207,
         "std_score_time": 0.00017712354209134195,
         "param_reg__estimator__kernel": "linear",
         "param_reg__estimator__gamma": "1e-05",
         "param_reg__estimator__epsilon": "0.1",
         "param_reg__estimator__C": "0.5",
         "params": "{'reg__estimator__kernel': 'linear', 'reg__estimator__gamma': 1e-05, 'reg__estimator__epsilon': 0.1…",
         "split0_test_score": -2.605054930901252,
         "split1_test_score": -2.306453353199584,
         "split2_test_score": -2.637233453500847,
         "split3_test_score": -2.316945343804894,
         "split4_test_score": -2.027076969802058,
         "split5_test_score": -2.3832445127425776,
         "split6_test_score": -2.410491438012633,
         "split7_test_score": -2.4925829195711664,
         "split8_test_score": -2.2681048890204067,
         "split9_test_score": -2.29235616379655,
         "mean_test_score": -2.373954397435197,
         "std_test_score": 0.16858531042370367,
         "rank_test_score": 39,
         "_deepnote_index_column": 6
        },
        {
         "mean_fit_time": 0.32598536014556884,
         "std_fit_time": 0.022095739446242855,
         "mean_score_time": 0.00593869686126709,
         "std_score_time": 0.0009546540595090792,
         "param_reg__estimator__kernel": "linear",
         "param_reg__estimator__gamma": "1e-05",
         "param_reg__estimator__epsilon": "1",
         "param_reg__estimator__C": "10",
         "params": "{'reg__estimator__kernel': 'linear', 'reg__estimator__gamma': 1e-05, 'reg__estimator__epsilon': 1, …",
         "split0_test_score": -2.540723172259392,
         "split1_test_score": -2.3171845929179113,
         "split2_test_score": -2.5938739031135296,
         "split3_test_score": -2.3145553759037942,
         "split4_test_score": -2.0063000154447233,
         "split5_test_score": -2.4011386668780514,
         "split6_test_score": -2.41054897221079,
         "split7_test_score": -2.5116903163543647,
         "split8_test_score": -2.293940091560756,
         "split9_test_score": -2.2654126142394184,
         "mean_test_score": -2.3655367720882734,
         "std_test_score": 0.160194128089176,
         "rank_test_score": 24,
         "_deepnote_index_column": 7
        },
        {
         "mean_fit_time": 0.13670403957366944,
         "std_fit_time": 0.01084065689638694,
         "mean_score_time": 0.016945242881774902,
         "std_score_time": 0.0005743531108875693,
         "param_reg__estimator__kernel": "rbf",
         "param_reg__estimator__gamma": "0.0001",
         "param_reg__estimator__epsilon": "0.01",
         "param_reg__estimator__C": "1",
         "params": "{'reg__estimator__kernel': 'rbf', 'reg__estimator__gamma': 0.0001, 'reg__estimator__epsilon': 0.01,…",
         "split0_test_score": -22.979081427351485,
         "split1_test_score": -21.443441712378082,
         "split2_test_score": -20.38410389795342,
         "split3_test_score": -20.682859714199136,
         "split4_test_score": -19.352536513786383,
         "split5_test_score": -23.11688152301057,
         "split6_test_score": -21.856565389717616,
         "split7_test_score": -22.15413905860661,
         "split8_test_score": -20.50646477312572,
         "split9_test_score": -19.959611957273594,
         "mean_test_score": -21.24356859674026,
         "std_test_score": 1.207770758816683,
         "rank_test_score": 74,
         "_deepnote_index_column": 8
        },
        {
         "mean_fit_time": 0.09210560321807862,
         "std_fit_time": 0.007780075591586314,
         "mean_score_time": 0.011349725723266601,
         "std_score_time": 0.0003393726601272695,
         "param_reg__estimator__kernel": "rbf",
         "param_reg__estimator__gamma": "0.001",
         "param_reg__estimator__epsilon": "1",
         "param_reg__estimator__C": "2",
         "params": "{'reg__estimator__kernel': 'rbf', 'reg__estimator__gamma': 0.001, 'reg__estimator__epsilon': 1, 're…",
         "split0_test_score": -3.2584565051539345,
         "split1_test_score": -2.9797862023141084,
         "split2_test_score": -2.997253608120937,
         "split3_test_score": -3.009481141415777,
         "split4_test_score": -2.3109752856825763,
         "split5_test_score": -3.0539010967509768,
         "split6_test_score": -3.194744467473479,
         "split7_test_score": -3.206153143240886,
         "split8_test_score": -2.796088468373154,
         "split9_test_score": -2.7430484398265014,
         "mean_test_score": -2.954988835835233,
         "std_test_score": 0.2669709116451244,
         "rank_test_score": 55,
         "_deepnote_index_column": 9
        }
       ]
      },
      "text/plain": "    mean_fit_time  std_fit_time  mean_score_time  std_score_time  \\\n0        0.124988      0.006614         0.014785        0.001348   \n1        0.135997      0.006003         0.016402        0.002792   \n2        0.156745      0.006707         0.018651        0.001002   \n3        0.154504      0.013217         0.014912        0.002045   \n4        0.075254      0.005035         0.005327        0.000072   \n..            ...           ...              ...             ...   \n95       0.048846      0.003397         0.006013        0.000304   \n96       0.270560      0.013721         0.020301        0.003367   \n97       0.169805      0.012051         0.015177        0.000149   \n98       0.074225      0.005386         0.005280        0.000053   \n99       0.115678      0.006164         0.014818        0.002144   \n\n   param_reg__estimator__kernel param_reg__estimator__gamma  \\\n0                           rbf                       0.001   \n1                           rbf                       0.001   \n2                           rbf                         0.1   \n3                       sigmoid                     0.00001   \n4                        linear                     0.00001   \n..                          ...                         ...   \n95                      sigmoid                       0.001   \n96                          rbf                         0.1   \n97                      sigmoid                     0.00001   \n98                       linear                      0.0001   \n99                          rbf                        0.01   \n\n   param_reg__estimator__epsilon param_reg__estimator__C  \\\n0                            0.5                       5   \n1                            0.5                     0.8   \n2                            0.1                     0.1   \n3                              1                     0.1   \n4                              1                     0.1   \n..                           ...                     ...   \n95                             2                       5   \n96                           0.1                      10   \n97                           0.1                       1   \n98                             1                     0.1   \n99                           0.5                     0.1   \n\n                                               params  split0_test_score  ...  \\\n0   {'reg__estimator__kernel': 'rbf', 'reg__estima...          -2.674152  ...   \n1   {'reg__estimator__kernel': 'rbf', 'reg__estima...          -5.009575  ...   \n2   {'reg__estimator__kernel': 'rbf', 'reg__estima...          -2.086164  ...   \n3   {'reg__estimator__kernel': 'sigmoid', 'reg__es...         -33.753531  ...   \n4   {'reg__estimator__kernel': 'linear', 'reg__est...          -2.560491  ...   \n..                                                ...                ...  ...   \n95  {'reg__estimator__kernel': 'sigmoid', 'reg__es...          -3.451977  ...   \n96  {'reg__estimator__kernel': 'rbf', 'reg__estima...          -1.298727  ...   \n97  {'reg__estimator__kernel': 'sigmoid', 'reg__es...         -33.263745  ...   \n98  {'reg__estimator__kernel': 'linear', 'reg__est...          -2.560491  ...   \n99  {'reg__estimator__kernel': 'rbf', 'reg__estima...          -4.717658  ...   \n\n    split3_test_score  split4_test_score  split5_test_score  \\\n0           -2.419263          -1.902505          -2.426437   \n1           -4.574644          -3.634975          -4.879618   \n2           -1.764610          -1.384807          -1.602322   \n3          -30.480162         -29.067982         -34.053163   \n4           -2.326736          -1.977557          -2.382271   \n..                ...                ...                ...   \n95          -3.265870          -2.581550          -3.230370   \n96          -1.077793          -0.887951          -0.997445   \n97         -30.000858         -28.539843         -33.434992   \n98          -2.326736          -1.977557          -2.382271   \n99          -4.252330          -3.343865          -4.538811   \n\n    split6_test_score  split7_test_score  split8_test_score  \\\n0           -2.549076          -2.589057          -2.254511   \n1           -4.892332          -4.703884          -4.332167   \n2           -1.851975          -1.698011          -1.672192   \n3          -31.945676         -32.893733         -30.273456   \n4           -2.429899          -2.524101          -2.274122   \n..                ...                ...                ...   \n95          -3.427254          -3.563258          -3.090157   \n96          -1.155837          -1.130830          -1.079915   \n97         -31.426318         -32.047773         -29.816222   \n98          -2.429899          -2.524101          -2.274122   \n99          -4.553220          -4.312640          -4.032323   \n\n    split9_test_score  mean_test_score  std_test_score  rank_test_score  \n0           -2.266068        -2.400133        0.210647               49  \n1           -4.210181        -4.525948        0.392743               63  \n2           -1.764629        -1.763514        0.195102               12  \n3          -29.451673       -31.357161        1.667698               92  \n4           -2.250033        -2.359993        0.168962               17  \n..                ...              ...             ...              ...  \n95          -3.007336        -3.207854        0.262064               56  \n96          -1.147730        -1.111202        0.177977                3  \n97         -28.964676       -30.808513        1.622805               86  \n98          -2.250033        -2.359993        0.168962               17  \n99          -3.884338        -4.200324        0.382331               61  \n\n[100 rows x 22 columns]",
      "text/html": "<div>\n<style scoped>\n    .dataframe tbody tr th:only-of-type {\n        vertical-align: middle;\n    }\n\n    .dataframe tbody tr th {\n        vertical-align: top;\n    }\n\n    .dataframe thead th {\n        text-align: right;\n    }\n</style>\n<table border=\"1\" class=\"dataframe\">\n  <thead>\n    <tr style=\"text-align: right;\">\n      <th></th>\n      <th>mean_fit_time</th>\n      <th>std_fit_time</th>\n      <th>mean_score_time</th>\n      <th>std_score_time</th>\n      <th>param_reg__estimator__kernel</th>\n      <th>param_reg__estimator__gamma</th>\n      <th>param_reg__estimator__epsilon</th>\n      <th>param_reg__estimator__C</th>\n      <th>params</th>\n      <th>split0_test_score</th>\n      <th>...</th>\n      <th>split3_test_score</th>\n      <th>split4_test_score</th>\n      <th>split5_test_score</th>\n      <th>split6_test_score</th>\n      <th>split7_test_score</th>\n      <th>split8_test_score</th>\n      <th>split9_test_score</th>\n      <th>mean_test_score</th>\n      <th>std_test_score</th>\n      <th>rank_test_score</th>\n    </tr>\n  </thead>\n  <tbody>\n    <tr>\n      <th>0</th>\n      <td>0.124988</td>\n      <td>0.006614</td>\n      <td>0.014785</td>\n      <td>0.001348</td>\n      <td>rbf</td>\n      <td>0.001</td>\n      <td>0.5</td>\n      <td>5</td>\n      <td>{'reg__estimator__kernel': 'rbf', 'reg__estima...</td>\n      <td>-2.674152</td>\n      <td>...</td>\n      <td>-2.419263</td>\n      <td>-1.902505</td>\n      <td>-2.426437</td>\n      <td>-2.549076</td>\n      <td>-2.589057</td>\n      <td>-2.254511</td>\n      <td>-2.266068</td>\n      <td>-2.400133</td>\n      <td>0.210647</td>\n      <td>49</td>\n    </tr>\n    <tr>\n      <th>1</th>\n      <td>0.135997</td>\n      <td>0.006003</td>\n      <td>0.016402</td>\n      <td>0.002792</td>\n      <td>rbf</td>\n      <td>0.001</td>\n      <td>0.5</td>\n      <td>0.8</td>\n      <td>{'reg__estimator__kernel': 'rbf', 'reg__estima...</td>\n      <td>-5.009575</td>\n      <td>...</td>\n      <td>-4.574644</td>\n      <td>-3.634975</td>\n      <td>-4.879618</td>\n      <td>-4.892332</td>\n      <td>-4.703884</td>\n      <td>-4.332167</td>\n      <td>-4.210181</td>\n      <td>-4.525948</td>\n      <td>0.392743</td>\n      <td>63</td>\n    </tr>\n    <tr>\n      <th>2</th>\n      <td>0.156745</td>\n      <td>0.006707</td>\n      <td>0.018651</td>\n      <td>0.001002</td>\n      <td>rbf</td>\n      <td>0.1</td>\n      <td>0.1</td>\n      <td>0.1</td>\n      <td>{'reg__estimator__kernel': 'rbf', 'reg__estima...</td>\n      <td>-2.086164</td>\n      <td>...</td>\n      <td>-1.764610</td>\n      <td>-1.384807</td>\n      <td>-1.602322</td>\n      <td>-1.851975</td>\n      <td>-1.698011</td>\n      <td>-1.672192</td>\n      <td>-1.764629</td>\n      <td>-1.763514</td>\n      <td>0.195102</td>\n      <td>12</td>\n    </tr>\n    <tr>\n      <th>3</th>\n      <td>0.154504</td>\n      <td>0.013217</td>\n      <td>0.014912</td>\n      <td>0.002045</td>\n      <td>sigmoid</td>\n      <td>0.00001</td>\n      <td>1</td>\n      <td>0.1</td>\n      <td>{'reg__estimator__kernel': 'sigmoid', 'reg__es...</td>\n      <td>-33.753531</td>\n      <td>...</td>\n      <td>-30.480162</td>\n      <td>-29.067982</td>\n      <td>-34.053163</td>\n      <td>-31.945676</td>\n      <td>-32.893733</td>\n      <td>-30.273456</td>\n      <td>-29.451673</td>\n      <td>-31.357161</td>\n      <td>1.667698</td>\n      <td>92</td>\n    </tr>\n    <tr>\n      <th>4</th>\n      <td>0.075254</td>\n      <td>0.005035</td>\n      <td>0.005327</td>\n      <td>0.000072</td>\n      <td>linear</td>\n      <td>0.00001</td>\n      <td>1</td>\n      <td>0.1</td>\n      <td>{'reg__estimator__kernel': 'linear', 'reg__est...</td>\n      <td>-2.560491</td>\n      <td>...</td>\n      <td>-2.326736</td>\n      <td>-1.977557</td>\n      <td>-2.382271</td>\n      <td>-2.429899</td>\n      <td>-2.524101</td>\n      <td>-2.274122</td>\n      <td>-2.250033</td>\n      <td>-2.359993</td>\n      <td>0.168962</td>\n      <td>17</td>\n    </tr>\n    <tr>\n      <th>...</th>\n      <td>...</td>\n      <td>...</td>\n      <td>...</td>\n      <td>...</td>\n      <td>...</td>\n      <td>...</td>\n      <td>...</td>\n      <td>...</td>\n      <td>...</td>\n      <td>...</td>\n      <td>...</td>\n      <td>...</td>\n      <td>...</td>\n      <td>...</td>\n      <td>...</td>\n      <td>...</td>\n      <td>...</td>\n      <td>...</td>\n      <td>...</td>\n      <td>...</td>\n      <td>...</td>\n    </tr>\n    <tr>\n      <th>95</th>\n      <td>0.048846</td>\n      <td>0.003397</td>\n      <td>0.006013</td>\n      <td>0.000304</td>\n      <td>sigmoid</td>\n      <td>0.001</td>\n      <td>2</td>\n      <td>5</td>\n      <td>{'reg__estimator__kernel': 'sigmoid', 'reg__es...</td>\n      <td>-3.451977</td>\n      <td>...</td>\n      <td>-3.265870</td>\n      <td>-2.581550</td>\n      <td>-3.230370</td>\n      <td>-3.427254</td>\n      <td>-3.563258</td>\n      <td>-3.090157</td>\n      <td>-3.007336</td>\n      <td>-3.207854</td>\n      <td>0.262064</td>\n      <td>56</td>\n    </tr>\n    <tr>\n      <th>96</th>\n      <td>0.270560</td>\n      <td>0.013721</td>\n      <td>0.020301</td>\n      <td>0.003367</td>\n      <td>rbf</td>\n      <td>0.1</td>\n      <td>0.1</td>\n      <td>10</td>\n      <td>{'reg__estimator__kernel': 'rbf', 'reg__estima...</td>\n      <td>-1.298727</td>\n      <td>...</td>\n      <td>-1.077793</td>\n      <td>-0.887951</td>\n      <td>-0.997445</td>\n      <td>-1.155837</td>\n      <td>-1.130830</td>\n      <td>-1.079915</td>\n      <td>-1.147730</td>\n      <td>-1.111202</td>\n      <td>0.177977</td>\n      <td>3</td>\n    </tr>\n    <tr>\n      <th>97</th>\n      <td>0.169805</td>\n      <td>0.012051</td>\n      <td>0.015177</td>\n      <td>0.000149</td>\n      <td>sigmoid</td>\n      <td>0.00001</td>\n      <td>0.1</td>\n      <td>1</td>\n      <td>{'reg__estimator__kernel': 'sigmoid', 'reg__es...</td>\n      <td>-33.263745</td>\n      <td>...</td>\n      <td>-30.000858</td>\n      <td>-28.539843</td>\n      <td>-33.434992</td>\n      <td>-31.426318</td>\n      <td>-32.047773</td>\n      <td>-29.816222</td>\n      <td>-28.964676</td>\n      <td>-30.808513</td>\n      <td>1.622805</td>\n      <td>86</td>\n    </tr>\n    <tr>\n      <th>98</th>\n      <td>0.074225</td>\n      <td>0.005386</td>\n      <td>0.005280</td>\n      <td>0.000053</td>\n      <td>linear</td>\n      <td>0.0001</td>\n      <td>1</td>\n      <td>0.1</td>\n      <td>{'reg__estimator__kernel': 'linear', 'reg__est...</td>\n      <td>-2.560491</td>\n      <td>...</td>\n      <td>-2.326736</td>\n      <td>-1.977557</td>\n      <td>-2.382271</td>\n      <td>-2.429899</td>\n      <td>-2.524101</td>\n      <td>-2.274122</td>\n      <td>-2.250033</td>\n      <td>-2.359993</td>\n      <td>0.168962</td>\n      <td>17</td>\n    </tr>\n    <tr>\n      <th>99</th>\n      <td>0.115678</td>\n      <td>0.006164</td>\n      <td>0.014818</td>\n      <td>0.002144</td>\n      <td>rbf</td>\n      <td>0.01</td>\n      <td>0.5</td>\n      <td>0.1</td>\n      <td>{'reg__estimator__kernel': 'rbf', 'reg__estima...</td>\n      <td>-4.717658</td>\n      <td>...</td>\n      <td>-4.252330</td>\n      <td>-3.343865</td>\n      <td>-4.538811</td>\n      <td>-4.553220</td>\n      <td>-4.312640</td>\n      <td>-4.032323</td>\n      <td>-3.884338</td>\n      <td>-4.200324</td>\n      <td>0.382331</td>\n      <td>61</td>\n    </tr>\n  </tbody>\n</table>\n<p>100 rows × 22 columns</p>\n</div>"
     },
     "metadata": {}
    }
   ]
  },
  {
   "cell_type": "code",
   "metadata": {
    "cell_id": "00016-10c240d5-0f04-463c-b63d-da4f7bdca2dc",
    "deepnote_to_be_reexecuted": false,
    "source_hash": "ce7b1537",
    "execution_start": 1642370635432,
    "execution_millis": 322,
    "deepnote_cell_type": "code"
   },
   "source": "C_BEST = optimal_par.best_params_['reg__estimator__C']\nGAMMA = optimal_par.best_params_['reg__estimator__gamma']\nKERNEL = optimal_par.best_params_['reg__estimator__kernel']\nEPSILON = optimal_par.best_params_['reg__estimator__epsilon']\n\nclf_svr_cup = SVR(C=C_BEST, gamma=GAMMA, kernel=KERNEL, epsilon=EPSILON)\nmor = MultiOutputRegressor(clf_svr_cup)\nmor.fit(X_train_scaled, y_train)\n\ntrain_pred = mor.predict(X_train_scaled)\nval_pred = mor.predict(X_val_scaled)",
   "execution_count": null,
   "outputs": []
  },
  {
   "cell_type": "code",
   "metadata": {
    "cell_id": "00017-30c30874-ad88-42b5-9110-cb61ede40415",
    "deepnote_to_be_reexecuted": false,
    "source_hash": "e82b7b53",
    "execution_start": 1642370635760,
    "execution_millis": 4,
    "deepnote_cell_type": "code"
   },
   "source": "mse_one = mean_squared_error(y_train, train_pred)\nprint(f'MSE for first regressor: {mse_one}')",
   "execution_count": null,
   "outputs": [
    {
     "name": "stdout",
     "text": "MSE for first regressor: 0.8658379552448361\n",
     "output_type": "stream"
    }
   ]
  },
  {
   "cell_type": "code",
   "metadata": {
    "cell_id": "00018-2716bc4c-4963-4a3d-9a4b-ccf1977e9fba",
    "deepnote_to_be_reexecuted": false,
    "source_hash": "24a18b7a",
    "execution_start": 1642370635768,
    "execution_millis": 3,
    "deepnote_cell_type": "code"
   },
   "source": "mse_two = mean_squared_error(y_validation, val_pred)\nprint(f'MSE for first regressor: {mse_two}')",
   "execution_count": null,
   "outputs": [
    {
     "name": "stdout",
     "text": "MSE for first regressor: 0.8183990181421179\n",
     "output_type": "stream"
    }
   ]
  },
  {
   "cell_type": "code",
   "metadata": {
    "cell_id": "00019-4d0c42b1-947e-46db-bf73-3921d39bbb06",
    "deepnote_output_heights": [
     21.1875,
     264
    ],
    "deepnote_to_be_reexecuted": false,
    "source_hash": "c1117b61",
    "execution_start": 1642370635775,
    "execution_millis": 586,
    "deepnote_cell_type": "code"
   },
   "source": "plt.xlabel(\"x\")\nplt.ylabel(\"y\")\nplt.scatter(df_visual['x'], df_visual['y'])",
   "execution_count": null,
   "outputs": [
    {
     "output_type": "execute_result",
     "execution_count": 22,
     "data": {
      "text/plain": "<matplotlib.collections.PathCollection at 0x7f9dc3354c10>"
     },
     "metadata": {}
    },
    {
     "data": {
      "text/plain": "<Figure size 432x288 with 1 Axes>",
      "image/png": "[encoded data removed]"
     },
     "metadata": {
      "needs_background": "light",
      "image/png": {
       "width": 391,
       "height": 262
      }
     },
     "output_type": "display_data"
    }
   ]
  },
  {
   "cell_type": "code",
   "metadata": {
    "cell_id": "00020-751c6890-20ce-45ac-9681-106bbb143b2d",
    "deepnote_to_be_reexecuted": false,
    "source_hash": "7d8752d4",
    "execution_start": 1642370636363,
    "execution_millis": 2,
    "deepnote_cell_type": "code"
   },
   "source": "def plot_coordinates(model, X, true_y = None):\n    y_predicted = model.predict(X)\n    y_predicted = pd.DataFrame(data=y_predicted, columns=[\"x\", \"y\"])\n    if not None:\n        true_y = pd.DataFrame(data=true_y, columns=[\"x\", \"y\"])\n        plt.scatter(true_y['x'], true_y['y'], c='r', marker='*')\n    plt.xlabel(\"x\")\n    plt.ylabel(\"y\")\n    plt.scatter(y_predicted['x'], y_predicted['y'], c='#1f77b4')",
   "execution_count": null,
   "outputs": []
  },
  {
   "cell_type": "code",
   "metadata": {
    "cell_id": "00021-1dd07d0c-c10f-4c06-9c23-b372cda8334a",
    "deepnote_output_heights": [
     264
    ],
    "deepnote_to_be_reexecuted": false,
    "source_hash": "8ee81e69",
    "execution_start": 1642370636371,
    "execution_millis": 267,
    "deepnote_cell_type": "code"
   },
   "source": "plot_coordinates(mor, X_val_scaled, y_validation)",
   "execution_count": null,
   "outputs": [
    {
     "data": {
      "text/plain": "<Figure size 432x288 with 1 Axes>",
      "image/png": "[encoded data removed]"
     },
     "metadata": {
      "needs_background": "light",
      "image/png": {
       "width": 391,
       "height": 262
      }
     },
     "output_type": "display_data"
    }
   ]
  },
  {
   "cell_type": "code",
   "metadata": {
    "cell_id": "00022-f40e3d0f-e94d-4980-964d-51af313bab9e",
    "deepnote_output_heights": [
     264
    ],
    "deepnote_to_be_reexecuted": false,
    "source_hash": "e15b1fe3",
    "execution_start": 1642370636648,
    "execution_millis": 217,
    "deepnote_cell_type": "code"
   },
   "source": "plot_coordinates(mor, X_val_scaled)",
   "execution_count": null,
   "outputs": [
    {
     "data": {
      "text/plain": "<Figure size 432x288 with 1 Axes>",
      "image/png": "[encoded data removed]"
     },
     "metadata": {
      "needs_background": "light",
      "image/png": {
       "width": 391,
       "height": 262
      }
     },
     "output_type": "display_data"
    }
   ]
  },
  {
   "cell_type": "code",
   "metadata": {
    "cell_id": "00023-21f599fc-013d-42b8-b9c5-5c2752b37977",
    "deepnote_output_heights": [
     264
    ],
    "deepnote_to_be_reexecuted": false,
    "source_hash": "d1ca145c",
    "execution_start": 1642370636873,
    "execution_millis": 609,
    "deepnote_cell_type": "code"
   },
   "source": "plot_coordinates(mor, X_all, y_all)",
   "execution_count": null,
   "outputs": [
    {
     "data": {
      "text/plain": "<Figure size 432x288 with 1 Axes>",
      "image/png": "[encoded data removed]"
     },
     "metadata": {
      "needs_background": "light",
      "image/png": {
       "width": 391,
       "height": 262
      }
     },
     "output_type": "display_data"
    }
   ]
  },
  {
   "cell_type": "code",
   "metadata": {
    "scrolled": true,
    "cell_id": "00024-99dff680-a6ce-46e4-af04-86b6207217c5",
    "deepnote_output_heights": [
     264
    ],
    "deepnote_to_be_reexecuted": false,
    "source_hash": "c8ca61f2",
    "execution_start": 1642370637244,
    "execution_millis": 296,
    "deepnote_cell_type": "code"
   },
   "source": "plot_coordinates(mor, X_test_scaled)",
   "execution_count": null,
   "outputs": [
    {
     "data": {
      "text/plain": "<Figure size 432x288 with 1 Axes>",
      "image/png": "[encoded data removed]"
     },
     "metadata": {
      "needs_background": "light",
      "image/png": {
       "width": 391,
       "height": 262
      }
     },
     "output_type": "display_data"
    }
   ]
  },
  {
   "cell_type": "code",
   "metadata": {
    "cell_id": "00025-1244dacd-42c4-44d4-a68b-792a11fde2c5",
    "deepnote_to_be_reexecuted": false,
    "source_hash": "45c54fcf",
    "execution_start": 1642370637547,
    "execution_millis": 19,
    "deepnote_cell_type": "code"
   },
   "source": "print(f\"Accuracy: {mor.score(X_val_scaled, y_validation)}\")\nprint(f\"MEE: {mee(y_validation.values, val_pred)}\")",
   "execution_count": null,
   "outputs": [
    {
     "name": "stdout",
     "text": "Accuracy: 0.9596238585512655\nMEE: 1.0374849414438883\n",
     "output_type": "stream"
    }
   ]
  },
  {
   "cell_type": "markdown",
   "source": "### MEE scoring\nNow, we made a RandomizedSearchCV with mee scoring.",
   "metadata": {
    "cell_id": "00026-d6079cea-62dc-4ad2-99a0-1f30e7e4c0c5",
    "deepnote_cell_type": "markdown"
   }
  },
  {
   "cell_type": "code",
   "metadata": {
    "cell_id": "00027-b3245b64-6e9f-4412-bd58-e0f376e051db",
    "deepnote_to_be_reexecuted": false,
    "source_hash": "d90967ba",
    "execution_start": 1642370637571,
    "execution_millis": 173320,
    "deepnote_cell_type": "code"
   },
   "source": "optimal_par_mee = RandomizedSearchCV(\n    estimator=pipe_svr,\n    param_distributions=grid_param_svr,\n    n_iter=100,\n    cv=10,\n    scoring=make_scorer(inv_mee),\n    verbose=0\n)\n\noptimal_par_mee.fit(X_train_scaled, y_train.values)\nprint(optimal_par_mee.best_params_)",
   "execution_count": null,
   "outputs": [
    {
     "name": "stdout",
     "text": "{'reg__estimator__kernel': 'rbf', 'reg__estimator__gamma': 'scale', 'reg__estimator__epsilon': 0.5, 'reg__estimator__C': 5}\n",
     "output_type": "stream"
    }
   ]
  },
  {
   "cell_type": "code",
   "metadata": {
    "cell_id": "00028-c920f334-95bd-473c-b2ac-f26d6005c5a2",
    "deepnote_output_heights": [
     21.1875
    ],
    "deepnote_to_be_reexecuted": false,
    "source_hash": "188bb6c0",
    "execution_start": 1642370810891,
    "execution_millis": 168,
    "deepnote_cell_type": "code"
   },
   "source": "best_model = optimal_par_mee.best_estimator_\nbest_model.fit(X_train_scaled, y_train)\nbest_model.score(X_val_scaled, y_validation)",
   "execution_count": null,
   "outputs": [
    {
     "output_type": "execute_result",
     "execution_count": 30,
     "data": {
      "text/plain": "0.9596238585512655"
     },
     "metadata": {}
    }
   ]
  },
  {
   "cell_type": "code",
   "metadata": {
    "cell_id": "00029-110ea4a3-3602-4b94-8685-2e9551db725b",
    "deepnote_output_heights": [
     382.1875
    ],
    "deepnote_to_be_reexecuted": false,
    "source_hash": "6c6c76b1",
    "execution_start": 1642370811073,
    "execution_millis": 163,
    "deepnote_cell_type": "code"
   },
   "source": "df_results_cup = pd.DataFrame(data=optimal_par_mee.cv_results_) #trasform into a pandas dataframe\ndf_results_cup",
   "execution_count": null,
   "outputs": [
    {
     "output_type": "execute_result",
     "execution_count": 31,
     "data": {
      "application/vnd.deepnote.dataframe.v3+json": {
       "column_count": 22,
       "row_count": 100,
       "columns": [
        {
         "name": "mean_fit_time",
         "dtype": "float64",
         "stats": {
          "unique_count": 100,
          "nan_count": 0,
          "min": "0.019362592697143556",
          "max": "0.5843881130218506",
          "histogram": [
           {
            "bin_start": 0.019362592697143556,
            "bin_end": 0.07586514472961425,
            "count": 12
           },
           {
            "bin_start": 0.07586514472961425,
            "bin_end": 0.13236769676208496,
            "count": 20
           },
           {
            "bin_start": 0.13236769676208496,
            "bin_end": 0.18887024879455563,
            "count": 46
           },
           {
            "bin_start": 0.18887024879455563,
            "bin_end": 0.24537280082702634,
            "count": 13
           },
           {
            "bin_start": 0.24537280082702634,
            "bin_end": 0.30187535285949707,
            "count": 4
           },
           {
            "bin_start": 0.30187535285949707,
            "bin_end": 0.35837790489196775,
            "count": 1
           },
           {
            "bin_start": 0.35837790489196775,
            "bin_end": 0.4148804569244385,
            "count": 3
           },
           {
            "bin_start": 0.4148804569244385,
            "bin_end": 0.47138300895690916,
            "count": 0
           },
           {
            "bin_start": 0.47138300895690916,
            "bin_end": 0.5278855609893799,
            "count": 0
           },
           {
            "bin_start": 0.5278855609893799,
            "bin_end": 0.5843881130218506,
            "count": 1
           }
          ]
         }
        },
        {
         "name": "std_fit_time",
         "dtype": "float64",
         "stats": {
          "unique_count": 100,
          "nan_count": 0,
          "min": "0.00037210792315389707",
          "max": "0.03140315295274264",
          "histogram": [
           {
            "bin_start": 0.00037210792315389707,
            "bin_end": 0.003475212426112771,
            "count": 11
           },
           {
            "bin_start": 0.003475212426112771,
            "bin_end": 0.006578316929071645,
            "count": 33
           },
           {
            "bin_start": 0.006578316929071645,
            "bin_end": 0.009681421432030518,
            "count": 27
           },
           {
            "bin_start": 0.009681421432030518,
            "bin_end": 0.012784525934989393,
            "count": 16
           },
           {
            "bin_start": 0.012784525934989393,
            "bin_end": 0.015887630437948268,
            "count": 6
           },
           {
            "bin_start": 0.015887630437948268,
            "bin_end": 0.01899073494090714,
            "count": 2
           },
           {
            "bin_start": 0.01899073494090714,
            "bin_end": 0.022093839443866014,
            "count": 3
           },
           {
            "bin_start": 0.022093839443866014,
            "bin_end": 0.02519694394682489,
            "count": 0
           },
           {
            "bin_start": 0.02519694394682489,
            "bin_end": 0.028300048449783764,
            "count": 1
           },
           {
            "bin_start": 0.028300048449783764,
            "bin_end": 0.03140315295274264,
            "count": 1
           }
          ]
         }
        },
        {
         "name": "mean_score_time",
         "dtype": "float64",
         "stats": {
          "unique_count": 100,
          "nan_count": 0,
          "min": "0.002652573585510254",
          "max": "0.02195131778717041",
          "histogram": [
           {
            "bin_start": 0.002652573585510254,
            "bin_end": 0.00458244800567627,
            "count": 9
           },
           {
            "bin_start": 0.00458244800567627,
            "bin_end": 0.006512322425842286,
            "count": 14
           },
           {
            "bin_start": 0.006512322425842286,
            "bin_end": 0.0084421968460083,
            "count": 17
           },
           {
            "bin_start": 0.0084421968460083,
            "bin_end": 0.010372071266174317,
            "count": 3
           },
           {
            "bin_start": 0.010372071266174317,
            "bin_end": 0.012301945686340333,
            "count": 5
           },
           {
            "bin_start": 0.012301945686340333,
            "bin_end": 0.014231820106506348,
            "count": 11
           },
           {
            "bin_start": 0.014231820106506348,
            "bin_end": 0.016161694526672363,
            "count": 17
           },
           {
            "bin_start": 0.016161694526672363,
            "bin_end": 0.01809156894683838,
            "count": 10
           },
           {
            "bin_start": 0.01809156894683838,
            "bin_end": 0.020021443367004396,
            "count": 8
           },
           {
            "bin_start": 0.020021443367004396,
            "bin_end": 0.02195131778717041,
            "count": 6
           }
          ]
         }
        },
        {
         "name": "std_score_time",
         "dtype": "float64",
         "stats": {
          "unique_count": 100,
          "nan_count": 0,
          "min": "4.741291397870015e-05",
          "max": "0.0027831091338689435",
          "histogram": [
           {
            "bin_start": 0.00004741291397870015,
            "bin_end": 0.0003209825359677245,
            "count": 19
           },
           {
            "bin_start": 0.0003209825359677245,
            "bin_end": 0.0005945521579567488,
            "count": 15
           },
           {
            "bin_start": 0.0005945521579567488,
            "bin_end": 0.0008681217799457732,
            "count": 18
           },
           {
            "bin_start": 0.0008681217799457732,
            "bin_end": 0.0011416914019347975,
            "count": 14
           },
           {
            "bin_start": 0.0011416914019347975,
            "bin_end": 0.0014152610239238218,
            "count": 7
           },
           {
            "bin_start": 0.0014152610239238218,
            "bin_end": 0.0016888306459128463,
            "count": 9
           },
           {
            "bin_start": 0.0016888306459128463,
            "bin_end": 0.0019624002679018704,
            "count": 7
           },
           {
            "bin_start": 0.0019624002679018704,
            "bin_end": 0.002235969889890895,
            "count": 3
           },
           {
            "bin_start": 0.002235969889890895,
            "bin_end": 0.0025095395118799194,
            "count": 4
           },
           {
            "bin_start": 0.0025095395118799194,
            "bin_end": 0.0027831091338689435,
            "count": 4
           }
          ]
         }
        },
        {
         "name": "param_reg__estimator__kernel",
         "dtype": "object",
         "stats": {
          "unique_count": 3,
          "nan_count": 0,
          "categories": [
           {
            "name": "rbf",
            "count": 36
           },
           {
            "name": "sigmoid",
            "count": 32
           },
           {
            "name": "linear",
            "count": 32
           }
          ]
         }
        },
        {
         "name": "param_reg__estimator__gamma",
         "dtype": "object",
         "stats": {
          "unique_count": 7,
          "nan_count": 0,
          "categories": [
           {
            "name": "0.001",
            "count": 18
           },
           {
            "name": "0.1",
            "count": 17
           },
           {
            "name": "5 others",
            "count": 65
           }
          ]
         }
        },
        {
         "name": "param_reg__estimator__epsilon",
         "dtype": "object",
         "stats": {
          "unique_count": 6,
          "nan_count": 0,
          "categories": [
           {
            "name": "0.0",
            "count": 21
           },
           {
            "name": "0.01",
            "count": 18
           },
           {
            "name": "4 others",
            "count": 61
           }
          ]
         }
        },
        {
         "name": "param_reg__estimator__C",
         "dtype": "object",
         "stats": {
          "unique_count": 8,
          "nan_count": 0,
          "categories": [
           {
            "name": "1.0",
            "count": 20
           },
           {
            "name": "0.1",
            "count": 14
           },
           {
            "name": "6 others",
            "count": 66
           }
          ]
         }
        },
        {
         "name": "params",
         "dtype": "object",
         "stats": {
          "unique_count": 100,
          "nan_count": 0,
          "categories": [
           {
            "name": "{'reg__estimator__kernel': 'sigmoid', 'reg__estimator__gamma': 0.0001, 'reg__estimator__epsilon': 0.01, 'reg__estimator__C': 0.8}",
            "count": 1
           },
           {
            "name": "{'reg__estimator__kernel': 'sigmoid', 'reg__estimator__gamma': 0.01, 'reg__estimator__epsilon': 0, 'reg__estimator__C': 1}",
            "count": 1
           },
           {
            "name": "98 others",
            "count": 98
           }
          ]
         }
        },
        {
         "name": "split0_test_score",
         "dtype": "float64",
         "stats": {
          "unique_count": 91,
          "nan_count": 0,
          "min": "0.008928082668381762",
          "max": "0.8257472838746526",
          "histogram": [
           {
            "bin_start": 0.008928082668381762,
            "bin_end": 0.09061000278900884,
            "count": 6
           },
           {
            "bin_start": 0.09061000278900884,
            "bin_end": 0.17229192290963594,
            "count": 24
           },
           {
            "bin_start": 0.17229192290963594,
            "bin_end": 0.253973843030263,
            "count": 3
           },
           {
            "bin_start": 0.253973843030263,
            "bin_end": 0.3356557631508901,
            "count": 4
           },
           {
            "bin_start": 0.3356557631508901,
            "bin_end": 0.41733768327151716,
            "count": 5
           },
           {
            "bin_start": 0.41733768327151716,
            "bin_end": 0.49901960339214424,
            "count": 10
           },
           {
            "bin_start": 0.49901960339214424,
            "bin_end": 0.5807015235127713,
            "count": 36
           },
           {
            "bin_start": 0.5807015235127713,
            "bin_end": 0.6623834436333984,
            "count": 8
           },
           {
            "bin_start": 0.6623834436333984,
            "bin_end": 0.7440653637540255,
            "count": 0
           },
           {
            "bin_start": 0.7440653637540255,
            "bin_end": 0.8257472838746526,
            "count": 4
           }
          ]
         }
        },
        {
         "name": "split1_test_score",
         "dtype": "float64",
         "stats": {
          "unique_count": 91,
          "nan_count": 0,
          "min": "0.008434963604897662",
          "max": "0.9832726130058691",
          "histogram": [
           {
            "bin_start": 0.008434963604897662,
            "bin_end": 0.1059187285449948,
            "count": 11
           },
           {
            "bin_start": 0.1059187285449948,
            "bin_end": 0.20340249348509193,
            "count": 21
           },
           {
            "bin_start": 0.20340249348509193,
            "bin_end": 0.30088625842518907,
            "count": 2
           },
           {
            "bin_start": 0.30088625842518907,
            "bin_end": 0.3983700233652862,
            "count": 4
           },
           {
            "bin_start": 0.3983700233652862,
            "bin_end": 0.49585378830538335,
            "count": 11
           },
           {
            "bin_start": 0.49585378830538335,
            "bin_end": 0.5933375532454805,
            "count": 38
           },
           {
            "bin_start": 0.5933375532454805,
            "bin_end": 0.6908213181855777,
            "count": 3
           },
           {
            "bin_start": 0.6908213181855777,
            "bin_end": 0.7883050831256748,
            "count": 6
           },
           {
            "bin_start": 0.7883050831256748,
            "bin_end": 0.885788848065772,
            "count": 0
           },
           {
            "bin_start": 0.885788848065772,
            "bin_end": 0.9832726130058691,
            "count": 4
           }
          ]
         }
        },
        {
         "name": "split2_test_score",
         "dtype": "float64",
         "stats": {
          "unique_count": 91,
          "nan_count": 0,
          "min": "0.008589828435123745",
          "max": "0.7400439387546803",
          "histogram": [
           {
            "bin_start": 0.008589828435123745,
            "bin_end": 0.0817352394670794,
            "count": 6
           },
           {
            "bin_start": 0.0817352394670794,
            "bin_end": 0.15488065049903504,
            "count": 21
           },
           {
            "bin_start": 0.15488065049903504,
            "bin_end": 0.2280260615309907,
            "count": 5
           },
           {
            "bin_start": 0.2280260615309907,
            "bin_end": 0.30117147256294635,
            "count": 2
           },
           {
            "bin_start": 0.30117147256294635,
            "bin_end": 0.374316883594902,
            "count": 4
           },
           {
            "bin_start": 0.374316883594902,
            "bin_end": 0.44746229462685766,
            "count": 6
           },
           {
            "bin_start": 0.44746229462685766,
            "bin_end": 0.5206077056588134,
            "count": 43
           },
           {
            "bin_start": 0.5206077056588134,
            "bin_end": 0.593753116690769,
            "count": 1
           },
           {
            "bin_start": 0.593753116690769,
            "bin_end": 0.6668985277227246,
            "count": 8
           },
           {
            "bin_start": 0.6668985277227246,
            "bin_end": 0.7400439387546803,
            "count": 4
           }
          ]
         }
        },
        {
         "name": "split3_test_score",
         "dtype": "float64",
         "stats": {
          "unique_count": 91,
          "nan_count": 0,
          "min": "0.008952695084031619",
          "max": "0.9146282612080809",
          "histogram": [
           {
            "bin_start": 0.008952695084031619,
            "bin_end": 0.09952025169643655,
            "count": 10
           },
           {
            "bin_start": 0.09952025169643655,
            "bin_end": 0.19008780830884148,
            "count": 21
           },
           {
            "bin_start": 0.19008780830884148,
            "bin_end": 0.28065536492124643,
            "count": 2
           },
           {
            "bin_start": 0.28065536492124643,
            "bin_end": 0.37122292153365133,
            "count": 5
           },
           {
            "bin_start": 0.37122292153365133,
            "bin_end": 0.4617904781460562,
            "count": 6
           },
           {
            "bin_start": 0.4617904781460562,
            "bin_end": 0.5523580347584612,
            "count": 40
           },
           {
            "bin_start": 0.5523580347584612,
            "bin_end": 0.6429255913708661,
            "count": 4
           },
           {
            "bin_start": 0.6429255913708661,
            "bin_end": 0.733493147983271,
            "count": 7
           },
           {
            "bin_start": 0.733493147983271,
            "bin_end": 0.8240607045956759,
            "count": 1
           },
           {
            "bin_start": 0.8240607045956759,
            "bin_end": 0.9146282612080809,
            "count": 4
           }
          ]
         }
        },
        {
         "name": "split4_test_score",
         "dtype": "float64",
         "stats": {
          "unique_count": 91,
          "nan_count": 0,
          "min": "0.00859630272170764",
          "max": "0.9788070099927332",
          "histogram": [
           {
            "bin_start": 0.00859630272170764,
            "bin_end": 0.1056173734488102,
            "count": 10
           },
           {
            "bin_start": 0.1056173734488102,
            "bin_end": 0.20263844417591276,
            "count": 22
           },
           {
            "bin_start": 0.20263844417591276,
            "bin_end": 0.29965951490301534,
            "count": 2
           },
           {
            "bin_start": 0.29965951490301534,
            "bin_end": 0.3966805856301179,
            "count": 4
           },
           {
            "bin_start": 0.3966805856301179,
            "bin_end": 0.4937016563572204,
            "count": 6
           },
           {
            "bin_start": 0.4937016563572204,
            "bin_end": 0.590722727084323,
            "count": 39
           },
           {
            "bin_start": 0.590722727084323,
            "bin_end": 0.6877437978114256,
            "count": 4
           },
           {
            "bin_start": 0.6877437978114256,
            "bin_end": 0.7847648685385281,
            "count": 9
           },
           {
            "bin_start": 0.7847648685385281,
            "bin_end": 0.8817859392656306,
            "count": 0
           },
           {
            "bin_start": 0.8817859392656306,
            "bin_end": 0.9788070099927332,
            "count": 4
           }
          ]
         }
        },
        {
         "name": "split5_test_score",
         "dtype": "float64",
         "stats": {
          "unique_count": 91,
          "nan_count": 0,
          "min": "0.009524165093388028",
          "max": "0.924313307412508",
          "histogram": [
           {
            "bin_start": 0.009524165093388028,
            "bin_end": 0.1010030793253,
            "count": 10
           },
           {
            "bin_start": 0.1010030793253,
            "bin_end": 0.192481993557212,
            "count": 22
           },
           {
            "bin_start": 0.192481993557212,
            "bin_end": 0.283960907789124,
            "count": 2
           },
           {
            "bin_start": 0.283960907789124,
            "bin_end": 0.375439822021036,
            "count": 5
           },
           {
            "bin_start": 0.375439822021036,
            "bin_end": 0.466918736252948,
            "count": 6
           },
           {
            "bin_start": 0.466918736252948,
            "bin_end": 0.5583976504848599,
            "count": 42
           },
           {
            "bin_start": 0.5583976504848599,
            "bin_end": 0.6498765647167719,
            "count": 1
           },
           {
            "bin_start": 0.6498765647167719,
            "bin_end": 0.7413554789486839,
            "count": 8
           },
           {
            "bin_start": 0.7413554789486839,
            "bin_end": 0.8328343931805959,
            "count": 0
           },
           {
            "bin_start": 0.8328343931805959,
            "bin_end": 0.924313307412508,
            "count": 4
           }
          ]
         }
        },
        {
         "name": "split6_test_score",
         "dtype": "float64",
         "stats": {
          "unique_count": 91,
          "nan_count": 0,
          "min": "0.00909676860479251",
          "max": "0.8220222630051566",
          "histogram": [
           {
            "bin_start": 0.00909676860479251,
            "bin_end": 0.09038931804482893,
            "count": 7
           },
           {
            "bin_start": 0.09038931804482893,
            "bin_end": 0.17168186748486533,
            "count": 23
           },
           {
            "bin_start": 0.17168186748486533,
            "bin_end": 0.25297441692490175,
            "count": 3
           },
           {
            "bin_start": 0.25297441692490175,
            "bin_end": 0.3342669663649382,
            "count": 4
           },
           {
            "bin_start": 0.3342669663649382,
            "bin_end": 0.4155595158049746,
            "count": 5
           },
           {
            "bin_start": 0.4155595158049746,
            "bin_end": 0.496852065245011,
            "count": 7
           },
           {
            "bin_start": 0.496852065245011,
            "bin_end": 0.5781446146850474,
            "count": 38
           },
           {
            "bin_start": 0.5781446146850474,
            "bin_end": 0.6594371641250838,
            "count": 8
           },
           {
            "bin_start": 0.6594371641250838,
            "bin_end": 0.7407297135651202,
            "count": 1
           },
           {
            "bin_start": 0.7407297135651202,
            "bin_end": 0.8220222630051566,
            "count": 4
           }
          ]
         }
        },
        {
         "name": "split7_test_score",
         "dtype": "float64",
         "stats": {
          "unique_count": 91,
          "nan_count": 0,
          "min": "0.008701780047899982",
          "max": "0.8699218070123387",
          "histogram": [
           {
            "bin_start": 0.008701780047899982,
            "bin_end": 0.09482378274434385,
            "count": 9
           },
           {
            "bin_start": 0.09482378274434385,
            "bin_end": 0.1809457854407877,
            "count": 21
           },
           {
            "bin_start": 0.1809457854407877,
            "bin_end": 0.26706778813723153,
            "count": 3
           },
           {
            "bin_start": 0.26706778813723153,
            "bin_end": 0.3531897908336754,
            "count": 5
           },
           {
            "bin_start": 0.3531897908336754,
            "bin_end": 0.4393117935301193,
            "count": 6
           },
           {
            "bin_start": 0.4393117935301193,
            "bin_end": 0.5254337962265632,
            "count": 41
           },
           {
            "bin_start": 0.5254337962265632,
            "bin_end": 0.611555798923007,
            "count": 2
           },
           {
            "bin_start": 0.611555798923007,
            "bin_end": 0.6976778016194509,
            "count": 9
           },
           {
            "bin_start": 0.6976778016194509,
            "bin_end": 0.7837998043158948,
            "count": 0
           },
           {
            "bin_start": 0.7837998043158948,
            "bin_end": 0.8699218070123387,
            "count": 4
           }
          ]
         }
        },
        {
         "name": "split8_test_score",
         "dtype": "float64",
         "stats": {
          "unique_count": 91,
          "nan_count": 0,
          "min": "0.008706745869700837",
          "max": "0.8437266698098231",
          "histogram": [
           {
            "bin_start": 0.008706745869700837,
            "bin_end": 0.09220873826371306,
            "count": 9
           },
           {
            "bin_start": 0.09220873826371306,
            "bin_end": 0.17571073065772527,
            "count": 22
           },
           {
            "bin_start": 0.17571073065772527,
            "bin_end": 0.2592127230517375,
            "count": 2
           },
           {
            "bin_start": 0.2592127230517375,
            "bin_end": 0.3427147154457497,
            "count": 3
           },
           {
            "bin_start": 0.3427147154457497,
            "bin_end": 0.42621670783976195,
            "count": 6
           },
           {
            "bin_start": 0.42621670783976195,
            "bin_end": 0.5097187002337742,
            "count": 7
           },
           {
            "bin_start": 0.5097187002337742,
            "bin_end": 0.5932206926277864,
            "count": 38
           },
           {
            "bin_start": 0.5932206926277864,
            "bin_end": 0.6767226850217987,
            "count": 6
           },
           {
            "bin_start": 0.6767226850217987,
            "bin_end": 0.7602246774158109,
            "count": 3
           },
           {
            "bin_start": 0.7602246774158109,
            "bin_end": 0.8437266698098231,
            "count": 4
           }
          ]
         }
        },
        {
         "name": "split9_test_score",
         "dtype": "float64",
         "stats": {
          "unique_count": 91,
          "nan_count": 0,
          "min": "0.008407888426480043",
          "max": "0.8212315852929563",
          "histogram": [
           {
            "bin_start": 0.008407888426480043,
            "bin_end": 0.08969025811312767,
            "count": 9
           },
           {
            "bin_start": 0.08969025811312767,
            "bin_end": 0.1709726277997753,
            "count": 18
           },
           {
            "bin_start": 0.1709726277997753,
            "bin_end": 0.2522549974864229,
            "count": 6
           },
           {
            "bin_start": 0.2522549974864229,
            "bin_end": 0.33353736717307053,
            "count": 3
           },
           {
            "bin_start": 0.33353736717307053,
            "bin_end": 0.4148197368597181,
            "count": 5
           },
           {
            "bin_start": 0.4148197368597181,
            "bin_end": 0.4961021065463658,
            "count": 7
           },
           {
            "bin_start": 0.4961021065463658,
            "bin_end": 0.5773844762330134,
            "count": 39
           },
           {
            "bin_start": 0.5773844762330134,
            "bin_end": 0.658666845919661,
            "count": 6
           },
           {
            "bin_start": 0.658666845919661,
            "bin_end": 0.7399492156063086,
            "count": 3
           },
           {
            "bin_start": 0.7399492156063086,
            "bin_end": 0.8212315852929563,
            "count": 4
           }
          ]
         }
        },
        {
         "name": "mean_test_score",
         "dtype": "float64",
         "stats": {
          "unique_count": 91,
          "nan_count": 0,
          "min": "0.009003077112219881",
          "max": "0.8722539251298445",
          "histogram": [
           {
            "bin_start": 0.009003077112219881,
            "bin_end": 0.09532816191398234,
            "count": 9
           },
           {
            "bin_start": 0.09532816191398234,
            "bin_end": 0.1816532467157448,
            "count": 22
           },
           {
            "bin_start": 0.1816532467157448,
            "bin_end": 0.2679783315175072,
            "count": 2
           },
           {
            "bin_start": 0.2679783315175072,
            "bin_end": 0.3543034163192697,
            "count": 5
           },
           {
            "bin_start": 0.3543034163192697,
            "bin_end": 0.4406285011210322,
            "count": 6
           },
           {
            "bin_start": 0.4406285011210322,
            "bin_end": 0.5269535859227946,
            "count": 38
           },
           {
            "bin_start": 0.5269535859227946,
            "bin_end": 0.6132786707245571,
            "count": 5
           },
           {
            "bin_start": 0.6132786707245571,
            "bin_end": 0.6996037555263196,
            "count": 9
           },
           {
            "bin_start": 0.6996037555263196,
            "bin_end": 0.7859288403280821,
            "count": 0
           },
           {
            "bin_start": 0.7859288403280821,
            "bin_end": 0.8722539251298445,
            "count": 4
           }
          ]
         }
        },
        {
         "name": "std_test_score",
         "dtype": "float64",
         "stats": {
          "unique_count": 91,
          "nan_count": 0,
          "min": "0.00034759323951015454",
          "max": "0.07354234642733276",
          "histogram": [
           {
            "bin_start": 0.00034759323951015454,
            "bin_end": 0.007667068558292415,
            "count": 32
           },
           {
            "bin_start": 0.007667068558292415,
            "bin_end": 0.014986543877074677,
            "count": 6
           },
           {
            "bin_start": 0.014986543877074677,
            "bin_end": 0.022306019195856938,
            "count": 41
           },
           {
            "bin_start": 0.022306019195856938,
            "bin_end": 0.029625494514639198,
            "count": 5
           },
           {
            "bin_start": 0.029625494514639198,
            "bin_end": 0.03694496983342146,
            "count": 5
           },
           {
            "bin_start": 0.03694496983342146,
            "bin_end": 0.04426444515220372,
            "count": 7
           },
           {
            "bin_start": 0.04426444515220372,
            "bin_end": 0.05158392047098598,
            "count": 0
           },
           {
            "bin_start": 0.05158392047098598,
            "bin_end": 0.05890339578976824,
            "count": 0
           },
           {
            "bin_start": 0.05890339578976824,
            "bin_end": 0.0662228711085505,
            "count": 2
           },
           {
            "bin_start": 0.0662228711085505,
            "bin_end": 0.07354234642733276,
            "count": 2
           }
          ]
         }
        },
        {
         "name": "rank_test_score",
         "dtype": "int32",
         "stats": {
          "unique_count": 91,
          "nan_count": 0,
          "min": "1",
          "max": "100",
          "histogram": [
           {
            "bin_start": 1,
            "bin_end": 10.9,
            "count": 10
           },
           {
            "bin_start": 10.9,
            "bin_end": 20.8,
            "count": 10
           },
           {
            "bin_start": 20.8,
            "bin_end": 30.700000000000003,
            "count": 11
           },
           {
            "bin_start": 30.700000000000003,
            "bin_end": 40.6,
            "count": 9
           },
           {
            "bin_start": 40.6,
            "bin_end": 50.5,
            "count": 10
           },
           {
            "bin_start": 50.5,
            "bin_end": 60.400000000000006,
            "count": 10
           },
           {
            "bin_start": 60.400000000000006,
            "bin_end": 70.3,
            "count": 10
           },
           {
            "bin_start": 70.3,
            "bin_end": 80.2,
            "count": 10
           },
           {
            "bin_start": 80.2,
            "bin_end": 90.10000000000001,
            "count": 10
           },
           {
            "bin_start": 90.10000000000001,
            "bin_end": 100,
            "count": 10
           }
          ]
         }
        },
        {
         "name": "_deepnote_index_column",
         "dtype": "int64"
        }
       ],
       "rows": [
        {
         "mean_fit_time": 0.17343780994415284,
         "std_fit_time": 0.011536090036544672,
         "mean_score_time": 0.015793037414550782,
         "std_score_time": 0.0023400031319147623,
         "param_reg__estimator__kernel": "sigmoid",
         "param_reg__estimator__gamma": "0.0001",
         "param_reg__estimator__epsilon": "0.01",
         "param_reg__estimator__C": "0.8",
         "params": "{'reg__estimator__kernel': 'sigmoid', 'reg__estimator__gamma': 0.0001, 'reg__estimator__epsilon': 0…",
         "split0_test_score": 0.1418816151999944,
         "split1_test_score": 0.1484412762483852,
         "split2_test_score": 0.15146754396642523,
         "split3_test_score": 0.15035976372232504,
         "split4_test_score": 0.152776026749069,
         "split5_test_score": 0.14059299844100706,
         "split6_test_score": 0.14667401362321908,
         "split7_test_score": 0.1441772677689626,
         "split8_test_score": 0.15015533415749244,
         "split9_test_score": 0.15243572957986154,
         "mean_test_score": 0.14789615694567415,
         "std_test_score": 0.004165100921871932,
         "rank_test_score": 76,
         "_deepnote_index_column": 0
        },
        {
         "mean_fit_time": 0.16992368698120117,
         "std_fit_time": 0.006198890098421059,
         "mean_score_time": 0.015053725242614746,
         "std_score_time": 0.0008582235630308935,
         "param_reg__estimator__kernel": "sigmoid",
         "param_reg__estimator__gamma": "0.01",
         "param_reg__estimator__epsilon": "0",
         "param_reg__estimator__C": "1",
         "params": "{'reg__estimator__kernel': 'sigmoid', 'reg__estimator__gamma': 0.01, 'reg__estimator__epsilon': 0, …",
         "split0_test_score": 0.4899302309877027,
         "split1_test_score": 0.5152250159688807,
         "split2_test_score": 0.4868012022551258,
         "split3_test_score": 0.5099692692079274,
         "split4_test_score": 0.5811776992196585,
         "split5_test_score": 0.5052514987452252,
         "split6_test_score": 0.5033056328394605,
         "split7_test_score": 0.49396307943507484,
         "split8_test_score": 0.5159877737109445,
         "split9_test_score": 0.5283730688236161,
         "mean_test_score": 0.5129984471193616,
         "std_test_score": 0.02577325808907852,
         "rank_test_score": 51,
         "_deepnote_index_column": 1
        },
        {
         "mean_fit_time": 0.0690166711807251,
         "std_fit_time": 0.0038762537462505666,
         "mean_score_time": 0.009230804443359376,
         "std_score_time": 0.0017434579833167543,
         "param_reg__estimator__kernel": "rbf",
         "param_reg__estimator__gamma": "0.1",
         "param_reg__estimator__epsilon": "1",
         "param_reg__estimator__C": "0.1",
         "params": "{'reg__estimator__kernel': 'rbf', 'reg__estimator__gamma': 0.1, 'reg__estimator__epsilon': 1, 'reg_…",
         "split0_test_score": 0.5802985583796362,
         "split1_test_score": 0.6365424065972141,
         "split2_test_score": 0.5649060087801033,
         "split3_test_score": 0.6376232744451286,
         "split4_test_score": 0.6968360396904274,
         "split5_test_score": 0.6338551151248137,
         "split6_test_score": 0.5989001013243964,
         "split7_test_score": 0.6220467600227162,
         "split8_test_score": 0.6049405867300224,
         "split9_test_score": 0.6035632045798841,
         "mean_test_score": 0.6179512055674341,
         "std_test_score": 0.03492262604682068,
         "rank_test_score": 13,
         "_deepnote_index_column": 2
        },
        {
         "mean_fit_time": 0.09201500415802003,
         "std_fit_time": 0.006210355226674168,
         "mean_score_time": 0.01298055648803711,
         "std_score_time": 0.00176247246919432,
         "param_reg__estimator__kernel": "rbf",
         "param_reg__estimator__gamma": "1e-05",
         "param_reg__estimator__epsilon": "2",
         "param_reg__estimator__C": "0.9",
         "params": "{'reg__estimator__kernel': 'rbf', 'reg__estimator__gamma': 1e-05, 'reg__estimator__epsilon': 2, 're…",
         "split0_test_score": 0.1332036179555252,
         "split1_test_score": 0.13978565992293152,
         "split2_test_score": 0.1423082381554815,
         "split3_test_score": 0.1414070698889639,
         "split4_test_score": 0.14341679034796606,
         "split5_test_score": 0.13217416327113315,
         "split6_test_score": 0.13791678425654233,
         "split7_test_score": 0.13520168965937962,
         "split8_test_score": 0.14112925420726766,
         "split9_test_score": 0.14364184987916273,
         "mean_test_score": 0.1390185117544354,
         "std_test_score": 0.003984110944874027,
         "rank_test_score": 82,
         "_deepnote_index_column": 3
        },
        {
         "mean_fit_time": 0.16746413707733154,
         "std_fit_time": 0.0052250663084944075,
         "mean_score_time": 0.00756678581237793,
         "std_score_time": 0.0009723351645871194,
         "param_reg__estimator__kernel": "linear",
         "param_reg__estimator__gamma": "0.01",
         "param_reg__estimator__epsilon": "0.1",
         "param_reg__estimator__C": "0.9",
         "params": "{'reg__estimator__kernel': 'linear', 'reg__estimator__gamma': 0.01, 'reg__estimator__epsilon': 0.1,…",
         "split0_test_score": 0.4991870143001752,
         "split1_test_score": 0.5244971955344464,
         "split2_test_score": 0.4934837086823289,
         "split3_test_score": 0.5263865079757133,
         "split4_test_score": 0.5735035689080196,
         "split5_test_score": 0.520491670200507,
         "split6_test_score": 0.5174946928036754,
         "split7_test_score": 0.5083380518033973,
         "split8_test_score": 0.5253439453075129,
         "split9_test_score": 0.5252271274262121,
         "mean_test_score": 0.5213953482941988,
         "std_test_score": 0.020588511845471943,
         "rank_test_score": 36,
         "_deepnote_index_column": 4
        },
        {
         "mean_fit_time": 0.17248423099517823,
         "std_fit_time": 0.012351715742108691,
         "mean_score_time": 0.007882285118103027,
         "std_score_time": 0.0015069950716640388,
         "param_reg__estimator__kernel": "linear",
         "param_reg__estimator__gamma": "0.001",
         "param_reg__estimator__epsilon": "0.1",
         "param_reg__estimator__C": "0.9",
         "params": "{'reg__estimator__kernel': 'linear', 'reg__estimator__gamma': 0.001, 'reg__estimator__epsilon': 0.1…",
         "split0_test_score": 0.4991870143001752,
         "split1_test_score": 0.5244971955344464,
         "split2_test_score": 0.4934837086823289,
         "split3_test_score": 0.5263865079757133,
         "split4_test_score": 0.5735035689080196,
         "split5_test_score": 0.520491670200507,
         "split6_test_score": 0.5174946928036754,
         "split7_test_score": 0.5083380518033973,
         "split8_test_score": 0.5253439453075129,
         "split9_test_score": 0.5252271274262121,
         "mean_test_score": 0.5213953482941988,
         "std_test_score": 0.020588511845471943,
         "rank_test_score": 36,
         "_deepnote_index_column": 5
        },
        {
         "mean_fit_time": 0.16654665470123292,
         "std_fit_time": 0.009198648133934102,
         "mean_score_time": 0.014560651779174805,
         "std_score_time": 0.00020666580674812702,
         "param_reg__estimator__kernel": "sigmoid",
         "param_reg__estimator__gamma": "0.001",
         "param_reg__estimator__epsilon": "0",
         "param_reg__estimator__C": "0.8",
         "params": "{'reg__estimator__kernel': 'sigmoid', 'reg__estimator__gamma': 0.001, 'reg__estimator__epsilon': 0,…",
         "split0_test_score": 0.30925081629343426,
         "split1_test_score": 0.30879016363627154,
         "split2_test_score": 0.32405593977071917,
         "split3_test_score": 0.3207456456340881,
         "split4_test_score": 0.34062313963773044,
         "split5_test_score": 0.2982165968572123,
         "split6_test_score": 0.3062778085943376,
         "split7_test_score": 0.30823625204463223,
         "split8_test_score": 0.31738581017327344,
         "split9_test_score": 0.3138855454889842,
         "mean_test_score": 0.31474677181306837,
         "std_test_score": 0.01119367383391935,
         "rank_test_score": 66,
         "_deepnote_index_column": 6
        },
        {
         "mean_fit_time": 0.10710155963897705,
         "std_fit_time": 0.005345043291976822,
         "mean_score_time": 0.004836726188659668,
         "std_score_time": 0.000923383682471721,
         "param_reg__estimator__kernel": "linear",
         "param_reg__estimator__gamma": "0.001",
         "param_reg__estimator__epsilon": "1",
         "param_reg__estimator__C": "1",
         "params": "{'reg__estimator__kernel': 'linear', 'reg__estimator__gamma': 0.001, 'reg__estimator__epsilon': 1, …",
         "split0_test_score": 0.5058538732215591,
         "split1_test_score": 0.5238699028321546,
         "split2_test_score": 0.4984905635547965,
         "split3_test_score": 0.5259654381608465,
         "split4_test_score": 0.5744327892477835,
         "split5_test_score": 0.517831966771988,
         "split6_test_score": 0.5159401589639737,
         "split7_test_score": 0.5043010676103902,
         "split8_test_score": 0.5256011992554854,
         "split9_test_score": 0.5291639405965682,
         "mean_test_score": 0.5221450900215545,
         "std_test_score": 0.02003306314205906,
         "rank_test_score": 28,
         "_deepnote_index_column": 7
        },
        {
         "mean_fit_time": 0.09038166999816895,
         "std_fit_time": 0.009006154128389447,
         "mean_score_time": 0.010953378677368165,
         "std_score_time": 0.0021027119794365424,
         "param_reg__estimator__kernel": "rbf",
         "param_reg__estimator__gamma": "0.01",
         "param_reg__estimator__epsilon": "1",
         "param_reg__estimator__C": "0.1",
         "params": "{'reg__estimator__kernel': 'rbf', 'reg__estimator__gamma': 0.01, 'reg__estimator__epsilon': 1, 'reg…",
         "split0_test_score": 0.4070607408433264,
         "split1_test_score": 0.40726825692640267,
         "split2_test_score": 0.40976687437423104,
         "split3_test_score": 0.41618195959289445,
         "split4_test_score": 0.45497799843024284,
         "split5_test_score": 0.39015505012382445,
         "split6_test_score": 0.39618744857253285,
         "split7_test_score": 0.3965316839387462,
         "split8_test_score": 0.409855993476675,
         "split9_test_score": 0.4088047965391436,
         "mean_test_score": 0.40967908028180194,
         "std_test_score": 0.01686361907762751,
         "rank_test_score": 60,
         "_deepnote_index_column": 8
        },
        {
         "mean_fit_time": 0.13062033653259278,
         "std_fit_time": 0.005229761516235663,
         "mean_score_time": 0.01607999801635742,
         "std_score_time": 0.000880036048557052,
         "param_reg__estimator__kernel": "rbf",
         "param_reg__estimator__gamma": "1e-05",
         "param_reg__estimator__epsilon": "0.01",
         "param_reg__estimator__C": "5",
         "params": "{'reg__estimator__kernel': 'rbf', 'reg__estimator__gamma': 1e-05, 'reg__estimator__epsilon': 0.01, …",
         "split0_test_score": 0.14490913346363032,
         "split1_test_score": 0.15149067608810268,
         "split2_test_score": 0.1546737394570645,
         "split3_test_score": 0.15347816582479096,
         "split4_test_score": 0.15604598562724106,
         "split5_test_score": 0.14348336273738432,
         "split6_test_score": 0.1497046703380959,
         "split7_test_score": 0.14718427909645646,
         "split8_test_score": 0.1532713662314695,
         "split9_test_score": 0.15549991465020066,
         "mean_test_score": 0.15097412935144366,
         "std_test_score": 0.004249448679389539,
         "rank_test_score": 74,
         "_deepnote_index_column": 9
        }
       ]
      },
      "text/plain": "    mean_fit_time  std_fit_time  mean_score_time  std_score_time  \\\n0        0.173438      0.011536         0.015793        0.002340   \n1        0.169924      0.006199         0.015054        0.000858   \n2        0.069017      0.003876         0.009231        0.001743   \n3        0.092015      0.006210         0.012981        0.001762   \n4        0.167464      0.005225         0.007567        0.000972   \n..            ...           ...              ...             ...   \n95       0.133168      0.010501         0.016014        0.000421   \n96       0.358945      0.016066         0.008042        0.000821   \n97       0.150878      0.004859         0.018160        0.002358   \n98       0.129302      0.004151         0.016065        0.000799   \n99       0.157043      0.003754         0.013985        0.000437   \n\n   param_reg__estimator__kernel param_reg__estimator__gamma  \\\n0                       sigmoid                      0.0001   \n1                       sigmoid                        0.01   \n2                           rbf                         0.1   \n3                           rbf                     0.00001   \n4                        linear                        0.01   \n..                          ...                         ...   \n95                          rbf                     0.00001   \n96                       linear                     0.00001   \n97                          rbf                           1   \n98                          rbf                      0.0001   \n99                      sigmoid                     0.00001   \n\n   param_reg__estimator__epsilon param_reg__estimator__C  \\\n0                           0.01                     0.8   \n1                              0                       1   \n2                              1                     0.1   \n3                              2                     0.9   \n4                            0.1                     0.9   \n..                           ...                     ...   \n95                          0.01                     0.1   \n96                          0.01                       5   \n97                             0                     0.1   \n98                          0.01                       1   \n99                           0.5                     0.1   \n\n                                               params  split0_test_score  ...  \\\n0   {'reg__estimator__kernel': 'sigmoid', 'reg__es...           0.141882  ...   \n1   {'reg__estimator__kernel': 'sigmoid', 'reg__es...           0.489930  ...   \n2   {'reg__estimator__kernel': 'rbf', 'reg__estima...           0.580299  ...   \n3   {'reg__estimator__kernel': 'rbf', 'reg__estima...           0.133204  ...   \n4   {'reg__estimator__kernel': 'linear', 'reg__est...           0.499187  ...   \n..                                                ...                ...  ...   \n95  {'reg__estimator__kernel': 'rbf', 'reg__estima...           0.131162  ...   \n96  {'reg__estimator__kernel': 'linear', 'reg__est...           0.499799  ...   \n97  {'reg__estimator__kernel': 'rbf', 'reg__estima...           0.178763  ...   \n98  {'reg__estimator__kernel': 'rbf', 'reg__estima...           0.161542  ...   \n99  {'reg__estimator__kernel': 'sigmoid', 'reg__es...           0.130962  ...   \n\n    split3_test_score  split4_test_score  split5_test_score  \\\n0            0.150360           0.152776           0.140593   \n1            0.509969           0.581178           0.505251   \n2            0.637623           0.696836           0.633855   \n3            0.141407           0.143417           0.132174   \n4            0.526387           0.573504           0.520492   \n..                ...                ...                ...   \n95           0.139116           0.141210           0.130288   \n96           0.524495           0.572181           0.519317   \n97           0.194951           0.197375           0.175847   \n98           0.170995           0.174351           0.159591   \n99           0.139110           0.141174           0.130213   \n\n    split6_test_score  split7_test_score  split8_test_score  \\\n0            0.146674           0.144177           0.150155   \n1            0.503306           0.493963           0.515988   \n2            0.598900           0.622047           0.604941   \n3            0.137917           0.135202           0.141129   \n4            0.517495           0.508338           0.525344   \n..                ...                ...                ...   \n95           0.135916           0.133619           0.138873   \n96           0.517524           0.509647           0.524475   \n97           0.183786           0.183333           0.196396   \n98           0.166352           0.163698           0.170803   \n99           0.135830           0.133429           0.139087   \n\n    split9_test_score  mean_test_score  std_test_score  rank_test_score  \n0            0.152436         0.147896        0.004165               76  \n1            0.528373         0.512998        0.025773               51  \n2            0.603563         0.617951        0.034923               13  \n3            0.143642         0.139019        0.003984               82  \n4            0.525227         0.521395        0.020589               36  \n..                ...              ...             ...              ...  \n95           0.141461         0.136932        0.003826               87  \n96           0.527123         0.521082        0.020235               50  \n97           0.193357         0.188496        0.007218               69  \n98           0.172408         0.168039        0.004804               72  \n99           0.141536         0.136910        0.003909               88  \n\n[100 rows x 22 columns]",
      "text/html": "<div>\n<style scoped>\n    .dataframe tbody tr th:only-of-type {\n        vertical-align: middle;\n    }\n\n    .dataframe tbody tr th {\n        vertical-align: top;\n    }\n\n    .dataframe thead th {\n        text-align: right;\n    }\n</style>\n<table border=\"1\" class=\"dataframe\">\n  <thead>\n    <tr style=\"text-align: right;\">\n      <th></th>\n      <th>mean_fit_time</th>\n      <th>std_fit_time</th>\n      <th>mean_score_time</th>\n      <th>std_score_time</th>\n      <th>param_reg__estimator__kernel</th>\n      <th>param_reg__estimator__gamma</th>\n      <th>param_reg__estimator__epsilon</th>\n      <th>param_reg__estimator__C</th>\n      <th>params</th>\n      <th>split0_test_score</th>\n      <th>...</th>\n      <th>split3_test_score</th>\n      <th>split4_test_score</th>\n      <th>split5_test_score</th>\n      <th>split6_test_score</th>\n      <th>split7_test_score</th>\n      <th>split8_test_score</th>\n      <th>split9_test_score</th>\n      <th>mean_test_score</th>\n      <th>std_test_score</th>\n      <th>rank_test_score</th>\n    </tr>\n  </thead>\n  <tbody>\n    <tr>\n      <th>0</th>\n      <td>0.173438</td>\n      <td>0.011536</td>\n      <td>0.015793</td>\n      <td>0.002340</td>\n      <td>sigmoid</td>\n      <td>0.0001</td>\n      <td>0.01</td>\n      <td>0.8</td>\n      <td>{'reg__estimator__kernel': 'sigmoid', 'reg__es...</td>\n      <td>0.141882</td>\n      <td>...</td>\n      <td>0.150360</td>\n      <td>0.152776</td>\n      <td>0.140593</td>\n      <td>0.146674</td>\n      <td>0.144177</td>\n      <td>0.150155</td>\n      <td>0.152436</td>\n      <td>0.147896</td>\n      <td>0.004165</td>\n      <td>76</td>\n    </tr>\n    <tr>\n      <th>1</th>\n      <td>0.169924</td>\n      <td>0.006199</td>\n      <td>0.015054</td>\n      <td>0.000858</td>\n      <td>sigmoid</td>\n      <td>0.01</td>\n      <td>0</td>\n      <td>1</td>\n      <td>{'reg__estimator__kernel': 'sigmoid', 'reg__es...</td>\n      <td>0.489930</td>\n      <td>...</td>\n      <td>0.509969</td>\n      <td>0.581178</td>\n      <td>0.505251</td>\n      <td>0.503306</td>\n      <td>0.493963</td>\n      <td>0.515988</td>\n      <td>0.528373</td>\n      <td>0.512998</td>\n      <td>0.025773</td>\n      <td>51</td>\n    </tr>\n    <tr>\n      <th>2</th>\n      <td>0.069017</td>\n      <td>0.003876</td>\n      <td>0.009231</td>\n      <td>0.001743</td>\n      <td>rbf</td>\n      <td>0.1</td>\n      <td>1</td>\n      <td>0.1</td>\n      <td>{'reg__estimator__kernel': 'rbf', 'reg__estima...</td>\n      <td>0.580299</td>\n      <td>...</td>\n      <td>0.637623</td>\n      <td>0.696836</td>\n      <td>0.633855</td>\n      <td>0.598900</td>\n      <td>0.622047</td>\n      <td>0.604941</td>\n      <td>0.603563</td>\n      <td>0.617951</td>\n      <td>0.034923</td>\n      <td>13</td>\n    </tr>\n    <tr>\n      <th>3</th>\n      <td>0.092015</td>\n      <td>0.006210</td>\n      <td>0.012981</td>\n      <td>0.001762</td>\n      <td>rbf</td>\n      <td>0.00001</td>\n      <td>2</td>\n      <td>0.9</td>\n      <td>{'reg__estimator__kernel': 'rbf', 'reg__estima...</td>\n      <td>0.133204</td>\n      <td>...</td>\n      <td>0.141407</td>\n      <td>0.143417</td>\n      <td>0.132174</td>\n      <td>0.137917</td>\n      <td>0.135202</td>\n      <td>0.141129</td>\n      <td>0.143642</td>\n      <td>0.139019</td>\n      <td>0.003984</td>\n      <td>82</td>\n    </tr>\n    <tr>\n      <th>4</th>\n      <td>0.167464</td>\n      <td>0.005225</td>\n      <td>0.007567</td>\n      <td>0.000972</td>\n      <td>linear</td>\n      <td>0.01</td>\n      <td>0.1</td>\n      <td>0.9</td>\n      <td>{'reg__estimator__kernel': 'linear', 'reg__est...</td>\n      <td>0.499187</td>\n      <td>...</td>\n      <td>0.526387</td>\n      <td>0.573504</td>\n      <td>0.520492</td>\n      <td>0.517495</td>\n      <td>0.508338</td>\n      <td>0.525344</td>\n      <td>0.525227</td>\n      <td>0.521395</td>\n      <td>0.020589</td>\n      <td>36</td>\n    </tr>\n    <tr>\n      <th>...</th>\n      <td>...</td>\n      <td>...</td>\n      <td>...</td>\n      <td>...</td>\n      <td>...</td>\n      <td>...</td>\n      <td>...</td>\n      <td>...</td>\n      <td>...</td>\n      <td>...</td>\n      <td>...</td>\n      <td>...</td>\n      <td>...</td>\n      <td>...</td>\n      <td>...</td>\n      <td>...</td>\n      <td>...</td>\n      <td>...</td>\n      <td>...</td>\n      <td>...</td>\n      <td>...</td>\n    </tr>\n    <tr>\n      <th>95</th>\n      <td>0.133168</td>\n      <td>0.010501</td>\n      <td>0.016014</td>\n      <td>0.000421</td>\n      <td>rbf</td>\n      <td>0.00001</td>\n      <td>0.01</td>\n      <td>0.1</td>\n      <td>{'reg__estimator__kernel': 'rbf', 'reg__estima...</td>\n      <td>0.131162</td>\n      <td>...</td>\n      <td>0.139116</td>\n      <td>0.141210</td>\n      <td>0.130288</td>\n      <td>0.135916</td>\n      <td>0.133619</td>\n      <td>0.138873</td>\n      <td>0.141461</td>\n      <td>0.136932</td>\n      <td>0.003826</td>\n      <td>87</td>\n    </tr>\n    <tr>\n      <th>96</th>\n      <td>0.358945</td>\n      <td>0.016066</td>\n      <td>0.008042</td>\n      <td>0.000821</td>\n      <td>linear</td>\n      <td>0.00001</td>\n      <td>0.01</td>\n      <td>5</td>\n      <td>{'reg__estimator__kernel': 'linear', 'reg__est...</td>\n      <td>0.499799</td>\n      <td>...</td>\n      <td>0.524495</td>\n      <td>0.572181</td>\n      <td>0.519317</td>\n      <td>0.517524</td>\n      <td>0.509647</td>\n      <td>0.524475</td>\n      <td>0.527123</td>\n      <td>0.521082</td>\n      <td>0.020235</td>\n      <td>50</td>\n    </tr>\n    <tr>\n      <th>97</th>\n      <td>0.150878</td>\n      <td>0.004859</td>\n      <td>0.018160</td>\n      <td>0.002358</td>\n      <td>rbf</td>\n      <td>1</td>\n      <td>0</td>\n      <td>0.1</td>\n      <td>{'reg__estimator__kernel': 'rbf', 'reg__estima...</td>\n      <td>0.178763</td>\n      <td>...</td>\n      <td>0.194951</td>\n      <td>0.197375</td>\n      <td>0.175847</td>\n      <td>0.183786</td>\n      <td>0.183333</td>\n      <td>0.196396</td>\n      <td>0.193357</td>\n      <td>0.188496</td>\n      <td>0.007218</td>\n      <td>69</td>\n    </tr>\n    <tr>\n      <th>98</th>\n      <td>0.129302</td>\n      <td>0.004151</td>\n      <td>0.016065</td>\n      <td>0.000799</td>\n      <td>rbf</td>\n      <td>0.0001</td>\n      <td>0.01</td>\n      <td>1</td>\n      <td>{'reg__estimator__kernel': 'rbf', 'reg__estima...</td>\n      <td>0.161542</td>\n      <td>...</td>\n      <td>0.170995</td>\n      <td>0.174351</td>\n      <td>0.159591</td>\n      <td>0.166352</td>\n      <td>0.163698</td>\n      <td>0.170803</td>\n      <td>0.172408</td>\n      <td>0.168039</td>\n      <td>0.004804</td>\n      <td>72</td>\n    </tr>\n    <tr>\n      <th>99</th>\n      <td>0.157043</td>\n      <td>0.003754</td>\n      <td>0.013985</td>\n      <td>0.000437</td>\n      <td>sigmoid</td>\n      <td>0.00001</td>\n      <td>0.5</td>\n      <td>0.1</td>\n      <td>{'reg__estimator__kernel': 'sigmoid', 'reg__es...</td>\n      <td>0.130962</td>\n      <td>...</td>\n      <td>0.139110</td>\n      <td>0.141174</td>\n      <td>0.130213</td>\n      <td>0.135830</td>\n      <td>0.133429</td>\n      <td>0.139087</td>\n      <td>0.141536</td>\n      <td>0.136910</td>\n      <td>0.003909</td>\n      <td>88</td>\n    </tr>\n  </tbody>\n</table>\n<p>100 rows × 22 columns</p>\n</div>"
     },
     "metadata": {}
    }
   ]
  },
  {
   "cell_type": "code",
   "metadata": {
    "cell_id": "00030-93a36e75-63ab-4b18-95e3-aa6e3270d07a",
    "deepnote_output_heights": [
     382.1875
    ],
    "deepnote_to_be_reexecuted": false,
    "source_hash": "1ca2cdb4",
    "execution_start": 1642370811235,
    "execution_millis": 395,
    "deepnote_cell_type": "code"
   },
   "source": "df_results = pd.DataFrame(data=optimal_par_mee.cv_results_) #trasform into a pandas dataframe\ndf_results.sort_values(by=\"rank_test_score\", axis=0, ascending=True, inplace=True) #sort rank values in decreasing order \ndf_results.dropna(inplace=True) #delete nan values \ndf_results = df_results[:100] #keep only top 50 models\ndf_results",
   "execution_count": null,
   "outputs": [
    {
     "output_type": "execute_result",
     "execution_count": 32,
     "data": {
      "application/vnd.deepnote.dataframe.v3+json": {
       "column_count": 22,
       "row_count": 100,
       "columns": [
        {
         "name": "mean_fit_time",
         "dtype": "float64",
         "stats": {
          "unique_count": 100,
          "nan_count": 0,
          "min": "0.019362592697143556",
          "max": "0.5843881130218506",
          "histogram": [
           {
            "bin_start": 0.019362592697143556,
            "bin_end": 0.07586514472961425,
            "count": 12
           },
           {
            "bin_start": 0.07586514472961425,
            "bin_end": 0.13236769676208496,
            "count": 20
           },
           {
            "bin_start": 0.13236769676208496,
            "bin_end": 0.18887024879455563,
            "count": 46
           },
           {
            "bin_start": 0.18887024879455563,
            "bin_end": 0.24537280082702634,
            "count": 13
           },
           {
            "bin_start": 0.24537280082702634,
            "bin_end": 0.30187535285949707,
            "count": 4
           },
           {
            "bin_start": 0.30187535285949707,
            "bin_end": 0.35837790489196775,
            "count": 1
           },
           {
            "bin_start": 0.35837790489196775,
            "bin_end": 0.4148804569244385,
            "count": 3
           },
           {
            "bin_start": 0.4148804569244385,
            "bin_end": 0.47138300895690916,
            "count": 0
           },
           {
            "bin_start": 0.47138300895690916,
            "bin_end": 0.5278855609893799,
            "count": 0
           },
           {
            "bin_start": 0.5278855609893799,
            "bin_end": 0.5843881130218506,
            "count": 1
           }
          ]
         }
        },
        {
         "name": "std_fit_time",
         "dtype": "float64",
         "stats": {
          "unique_count": 100,
          "nan_count": 0,
          "min": "0.00037210792315389707",
          "max": "0.03140315295274264",
          "histogram": [
           {
            "bin_start": 0.00037210792315389707,
            "bin_end": 0.003475212426112771,
            "count": 11
           },
           {
            "bin_start": 0.003475212426112771,
            "bin_end": 0.006578316929071645,
            "count": 33
           },
           {
            "bin_start": 0.006578316929071645,
            "bin_end": 0.009681421432030518,
            "count": 27
           },
           {
            "bin_start": 0.009681421432030518,
            "bin_end": 0.012784525934989393,
            "count": 16
           },
           {
            "bin_start": 0.012784525934989393,
            "bin_end": 0.015887630437948268,
            "count": 6
           },
           {
            "bin_start": 0.015887630437948268,
            "bin_end": 0.01899073494090714,
            "count": 2
           },
           {
            "bin_start": 0.01899073494090714,
            "bin_end": 0.022093839443866014,
            "count": 3
           },
           {
            "bin_start": 0.022093839443866014,
            "bin_end": 0.02519694394682489,
            "count": 0
           },
           {
            "bin_start": 0.02519694394682489,
            "bin_end": 0.028300048449783764,
            "count": 1
           },
           {
            "bin_start": 0.028300048449783764,
            "bin_end": 0.03140315295274264,
            "count": 1
           }
          ]
         }
        },
        {
         "name": "mean_score_time",
         "dtype": "float64",
         "stats": {
          "unique_count": 100,
          "nan_count": 0,
          "min": "0.002652573585510254",
          "max": "0.02195131778717041",
          "histogram": [
           {
            "bin_start": 0.002652573585510254,
            "bin_end": 0.00458244800567627,
            "count": 9
           },
           {
            "bin_start": 0.00458244800567627,
            "bin_end": 0.006512322425842286,
            "count": 14
           },
           {
            "bin_start": 0.006512322425842286,
            "bin_end": 0.0084421968460083,
            "count": 17
           },
           {
            "bin_start": 0.0084421968460083,
            "bin_end": 0.010372071266174317,
            "count": 3
           },
           {
            "bin_start": 0.010372071266174317,
            "bin_end": 0.012301945686340333,
            "count": 5
           },
           {
            "bin_start": 0.012301945686340333,
            "bin_end": 0.014231820106506348,
            "count": 11
           },
           {
            "bin_start": 0.014231820106506348,
            "bin_end": 0.016161694526672363,
            "count": 17
           },
           {
            "bin_start": 0.016161694526672363,
            "bin_end": 0.01809156894683838,
            "count": 10
           },
           {
            "bin_start": 0.01809156894683838,
            "bin_end": 0.020021443367004396,
            "count": 8
           },
           {
            "bin_start": 0.020021443367004396,
            "bin_end": 0.02195131778717041,
            "count": 6
           }
          ]
         }
        },
        {
         "name": "std_score_time",
         "dtype": "float64",
         "stats": {
          "unique_count": 100,
          "nan_count": 0,
          "min": "4.741291397870015e-05",
          "max": "0.0027831091338689435",
          "histogram": [
           {
            "bin_start": 0.00004741291397870015,
            "bin_end": 0.0003209825359677245,
            "count": 19
           },
           {
            "bin_start": 0.0003209825359677245,
            "bin_end": 0.0005945521579567488,
            "count": 15
           },
           {
            "bin_start": 0.0005945521579567488,
            "bin_end": 0.0008681217799457732,
            "count": 18
           },
           {
            "bin_start": 0.0008681217799457732,
            "bin_end": 0.0011416914019347975,
            "count": 14
           },
           {
            "bin_start": 0.0011416914019347975,
            "bin_end": 0.0014152610239238218,
            "count": 7
           },
           {
            "bin_start": 0.0014152610239238218,
            "bin_end": 0.0016888306459128463,
            "count": 9
           },
           {
            "bin_start": 0.0016888306459128463,
            "bin_end": 0.0019624002679018704,
            "count": 7
           },
           {
            "bin_start": 0.0019624002679018704,
            "bin_end": 0.002235969889890895,
            "count": 3
           },
           {
            "bin_start": 0.002235969889890895,
            "bin_end": 0.0025095395118799194,
            "count": 4
           },
           {
            "bin_start": 0.0025095395118799194,
            "bin_end": 0.0027831091338689435,
            "count": 4
           }
          ]
         }
        },
        {
         "name": "param_reg__estimator__kernel",
         "dtype": "object",
         "stats": {
          "unique_count": 3,
          "nan_count": 0,
          "categories": [
           {
            "name": "rbf",
            "count": 36
           },
           {
            "name": "linear",
            "count": 32
           },
           {
            "name": "sigmoid",
            "count": 32
           }
          ]
         }
        },
        {
         "name": "param_reg__estimator__gamma",
         "dtype": "object",
         "stats": {
          "unique_count": 7,
          "nan_count": 0,
          "categories": [
           {
            "name": "0.001",
            "count": 18
           },
           {
            "name": "0.1",
            "count": 17
           },
           {
            "name": "5 others",
            "count": 65
           }
          ]
         }
        },
        {
         "name": "param_reg__estimator__epsilon",
         "dtype": "object",
         "stats": {
          "unique_count": 6,
          "nan_count": 0,
          "categories": [
           {
            "name": "0.0",
            "count": 21
           },
           {
            "name": "0.01",
            "count": 18
           },
           {
            "name": "4 others",
            "count": 61
           }
          ]
         }
        },
        {
         "name": "param_reg__estimator__C",
         "dtype": "object",
         "stats": {
          "unique_count": 8,
          "nan_count": 0,
          "categories": [
           {
            "name": "1.0",
            "count": 20
           },
           {
            "name": "0.9",
            "count": 14
           },
           {
            "name": "6 others",
            "count": 66
           }
          ]
         }
        },
        {
         "name": "params",
         "dtype": "object",
         "stats": {
          "unique_count": 100,
          "nan_count": 0,
          "categories": [
           {
            "name": "{'reg__estimator__kernel': 'rbf', 'reg__estimator__gamma': 'scale', 'reg__estimator__epsilon': 0.5, 'reg__estimator__C': 5}",
            "count": 1
           },
           {
            "name": "{'reg__estimator__kernel': 'rbf', 'reg__estimator__gamma': 0.1, 'reg__estimator__epsilon': 0.01, 'reg__estimator__C': 10}",
            "count": 1
           },
           {
            "name": "98 others",
            "count": 98
           }
          ]
         }
        },
        {
         "name": "split0_test_score",
         "dtype": "float64",
         "stats": {
          "unique_count": 91,
          "nan_count": 0,
          "min": "0.008928082668381762",
          "max": "0.8257472838746526",
          "histogram": [
           {
            "bin_start": 0.008928082668381762,
            "bin_end": 0.09061000278900884,
            "count": 6
           },
           {
            "bin_start": 0.09061000278900884,
            "bin_end": 0.17229192290963594,
            "count": 24
           },
           {
            "bin_start": 0.17229192290963594,
            "bin_end": 0.253973843030263,
            "count": 3
           },
           {
            "bin_start": 0.253973843030263,
            "bin_end": 0.3356557631508901,
            "count": 4
           },
           {
            "bin_start": 0.3356557631508901,
            "bin_end": 0.41733768327151716,
            "count": 5
           },
           {
            "bin_start": 0.41733768327151716,
            "bin_end": 0.49901960339214424,
            "count": 10
           },
           {
            "bin_start": 0.49901960339214424,
            "bin_end": 0.5807015235127713,
            "count": 36
           },
           {
            "bin_start": 0.5807015235127713,
            "bin_end": 0.6623834436333984,
            "count": 8
           },
           {
            "bin_start": 0.6623834436333984,
            "bin_end": 0.7440653637540255,
            "count": 0
           },
           {
            "bin_start": 0.7440653637540255,
            "bin_end": 0.8257472838746526,
            "count": 4
           }
          ]
         }
        },
        {
         "name": "split1_test_score",
         "dtype": "float64",
         "stats": {
          "unique_count": 91,
          "nan_count": 0,
          "min": "0.008434963604897662",
          "max": "0.9832726130058691",
          "histogram": [
           {
            "bin_start": 0.008434963604897662,
            "bin_end": 0.1059187285449948,
            "count": 11
           },
           {
            "bin_start": 0.1059187285449948,
            "bin_end": 0.20340249348509193,
            "count": 21
           },
           {
            "bin_start": 0.20340249348509193,
            "bin_end": 0.30088625842518907,
            "count": 2
           },
           {
            "bin_start": 0.30088625842518907,
            "bin_end": 0.3983700233652862,
            "count": 4
           },
           {
            "bin_start": 0.3983700233652862,
            "bin_end": 0.49585378830538335,
            "count": 11
           },
           {
            "bin_start": 0.49585378830538335,
            "bin_end": 0.5933375532454805,
            "count": 38
           },
           {
            "bin_start": 0.5933375532454805,
            "bin_end": 0.6908213181855777,
            "count": 3
           },
           {
            "bin_start": 0.6908213181855777,
            "bin_end": 0.7883050831256748,
            "count": 6
           },
           {
            "bin_start": 0.7883050831256748,
            "bin_end": 0.885788848065772,
            "count": 0
           },
           {
            "bin_start": 0.885788848065772,
            "bin_end": 0.9832726130058691,
            "count": 4
           }
          ]
         }
        },
        {
         "name": "split2_test_score",
         "dtype": "float64",
         "stats": {
          "unique_count": 91,
          "nan_count": 0,
          "min": "0.008589828435123745",
          "max": "0.7400439387546803",
          "histogram": [
           {
            "bin_start": 0.008589828435123745,
            "bin_end": 0.0817352394670794,
            "count": 6
           },
           {
            "bin_start": 0.0817352394670794,
            "bin_end": 0.15488065049903504,
            "count": 21
           },
           {
            "bin_start": 0.15488065049903504,
            "bin_end": 0.2280260615309907,
            "count": 5
           },
           {
            "bin_start": 0.2280260615309907,
            "bin_end": 0.30117147256294635,
            "count": 2
           },
           {
            "bin_start": 0.30117147256294635,
            "bin_end": 0.374316883594902,
            "count": 4
           },
           {
            "bin_start": 0.374316883594902,
            "bin_end": 0.44746229462685766,
            "count": 6
           },
           {
            "bin_start": 0.44746229462685766,
            "bin_end": 0.5206077056588134,
            "count": 43
           },
           {
            "bin_start": 0.5206077056588134,
            "bin_end": 0.593753116690769,
            "count": 1
           },
           {
            "bin_start": 0.593753116690769,
            "bin_end": 0.6668985277227246,
            "count": 8
           },
           {
            "bin_start": 0.6668985277227246,
            "bin_end": 0.7400439387546803,
            "count": 4
           }
          ]
         }
        },
        {
         "name": "split3_test_score",
         "dtype": "float64",
         "stats": {
          "unique_count": 91,
          "nan_count": 0,
          "min": "0.008952695084031619",
          "max": "0.9146282612080809",
          "histogram": [
           {
            "bin_start": 0.008952695084031619,
            "bin_end": 0.09952025169643655,
            "count": 10
           },
           {
            "bin_start": 0.09952025169643655,
            "bin_end": 0.19008780830884148,
            "count": 21
           },
           {
            "bin_start": 0.19008780830884148,
            "bin_end": 0.28065536492124643,
            "count": 2
           },
           {
            "bin_start": 0.28065536492124643,
            "bin_end": 0.37122292153365133,
            "count": 5
           },
           {
            "bin_start": 0.37122292153365133,
            "bin_end": 0.4617904781460562,
            "count": 6
           },
           {
            "bin_start": 0.4617904781460562,
            "bin_end": 0.5523580347584612,
            "count": 40
           },
           {
            "bin_start": 0.5523580347584612,
            "bin_end": 0.6429255913708661,
            "count": 4
           },
           {
            "bin_start": 0.6429255913708661,
            "bin_end": 0.733493147983271,
            "count": 7
           },
           {
            "bin_start": 0.733493147983271,
            "bin_end": 0.8240607045956759,
            "count": 1
           },
           {
            "bin_start": 0.8240607045956759,
            "bin_end": 0.9146282612080809,
            "count": 4
           }
          ]
         }
        },
        {
         "name": "split4_test_score",
         "dtype": "float64",
         "stats": {
          "unique_count": 91,
          "nan_count": 0,
          "min": "0.00859630272170764",
          "max": "0.9788070099927332",
          "histogram": [
           {
            "bin_start": 0.00859630272170764,
            "bin_end": 0.1056173734488102,
            "count": 10
           },
           {
            "bin_start": 0.1056173734488102,
            "bin_end": 0.20263844417591276,
            "count": 22
           },
           {
            "bin_start": 0.20263844417591276,
            "bin_end": 0.29965951490301534,
            "count": 2
           },
           {
            "bin_start": 0.29965951490301534,
            "bin_end": 0.3966805856301179,
            "count": 4
           },
           {
            "bin_start": 0.3966805856301179,
            "bin_end": 0.4937016563572204,
            "count": 6
           },
           {
            "bin_start": 0.4937016563572204,
            "bin_end": 0.590722727084323,
            "count": 39
           },
           {
            "bin_start": 0.590722727084323,
            "bin_end": 0.6877437978114256,
            "count": 4
           },
           {
            "bin_start": 0.6877437978114256,
            "bin_end": 0.7847648685385281,
            "count": 9
           },
           {
            "bin_start": 0.7847648685385281,
            "bin_end": 0.8817859392656306,
            "count": 0
           },
           {
            "bin_start": 0.8817859392656306,
            "bin_end": 0.9788070099927332,
            "count": 4
           }
          ]
         }
        },
        {
         "name": "split5_test_score",
         "dtype": "float64",
         "stats": {
          "unique_count": 91,
          "nan_count": 0,
          "min": "0.009524165093388028",
          "max": "0.924313307412508",
          "histogram": [
           {
            "bin_start": 0.009524165093388028,
            "bin_end": 0.1010030793253,
            "count": 10
           },
           {
            "bin_start": 0.1010030793253,
            "bin_end": 0.192481993557212,
            "count": 22
           },
           {
            "bin_start": 0.192481993557212,
            "bin_end": 0.283960907789124,
            "count": 2
           },
           {
            "bin_start": 0.283960907789124,
            "bin_end": 0.375439822021036,
            "count": 5
           },
           {
            "bin_start": 0.375439822021036,
            "bin_end": 0.466918736252948,
            "count": 6
           },
           {
            "bin_start": 0.466918736252948,
            "bin_end": 0.5583976504848599,
            "count": 42
           },
           {
            "bin_start": 0.5583976504848599,
            "bin_end": 0.6498765647167719,
            "count": 1
           },
           {
            "bin_start": 0.6498765647167719,
            "bin_end": 0.7413554789486839,
            "count": 8
           },
           {
            "bin_start": 0.7413554789486839,
            "bin_end": 0.8328343931805959,
            "count": 0
           },
           {
            "bin_start": 0.8328343931805959,
            "bin_end": 0.924313307412508,
            "count": 4
           }
          ]
         }
        },
        {
         "name": "split6_test_score",
         "dtype": "float64",
         "stats": {
          "unique_count": 91,
          "nan_count": 0,
          "min": "0.00909676860479251",
          "max": "0.8220222630051566",
          "histogram": [
           {
            "bin_start": 0.00909676860479251,
            "bin_end": 0.09038931804482893,
            "count": 7
           },
           {
            "bin_start": 0.09038931804482893,
            "bin_end": 0.17168186748486533,
            "count": 23
           },
           {
            "bin_start": 0.17168186748486533,
            "bin_end": 0.25297441692490175,
            "count": 3
           },
           {
            "bin_start": 0.25297441692490175,
            "bin_end": 0.3342669663649382,
            "count": 4
           },
           {
            "bin_start": 0.3342669663649382,
            "bin_end": 0.4155595158049746,
            "count": 5
           },
           {
            "bin_start": 0.4155595158049746,
            "bin_end": 0.496852065245011,
            "count": 7
           },
           {
            "bin_start": 0.496852065245011,
            "bin_end": 0.5781446146850474,
            "count": 38
           },
           {
            "bin_start": 0.5781446146850474,
            "bin_end": 0.6594371641250838,
            "count": 8
           },
           {
            "bin_start": 0.6594371641250838,
            "bin_end": 0.7407297135651202,
            "count": 1
           },
           {
            "bin_start": 0.7407297135651202,
            "bin_end": 0.8220222630051566,
            "count": 4
           }
          ]
         }
        },
        {
         "name": "split7_test_score",
         "dtype": "float64",
         "stats": {
          "unique_count": 91,
          "nan_count": 0,
          "min": "0.008701780047899982",
          "max": "0.8699218070123387",
          "histogram": [
           {
            "bin_start": 0.008701780047899982,
            "bin_end": 0.09482378274434385,
            "count": 9
           },
           {
            "bin_start": 0.09482378274434385,
            "bin_end": 0.1809457854407877,
            "count": 21
           },
           {
            "bin_start": 0.1809457854407877,
            "bin_end": 0.26706778813723153,
            "count": 3
           },
           {
            "bin_start": 0.26706778813723153,
            "bin_end": 0.3531897908336754,
            "count": 5
           },
           {
            "bin_start": 0.3531897908336754,
            "bin_end": 0.4393117935301193,
            "count": 6
           },
           {
            "bin_start": 0.4393117935301193,
            "bin_end": 0.5254337962265632,
            "count": 41
           },
           {
            "bin_start": 0.5254337962265632,
            "bin_end": 0.611555798923007,
            "count": 2
           },
           {
            "bin_start": 0.611555798923007,
            "bin_end": 0.6976778016194509,
            "count": 9
           },
           {
            "bin_start": 0.6976778016194509,
            "bin_end": 0.7837998043158948,
            "count": 0
           },
           {
            "bin_start": 0.7837998043158948,
            "bin_end": 0.8699218070123387,
            "count": 4
           }
          ]
         }
        },
        {
         "name": "split8_test_score",
         "dtype": "float64",
         "stats": {
          "unique_count": 91,
          "nan_count": 0,
          "min": "0.008706745869700837",
          "max": "0.8437266698098231",
          "histogram": [
           {
            "bin_start": 0.008706745869700837,
            "bin_end": 0.09220873826371306,
            "count": 9
           },
           {
            "bin_start": 0.09220873826371306,
            "bin_end": 0.17571073065772527,
            "count": 22
           },
           {
            "bin_start": 0.17571073065772527,
            "bin_end": 0.2592127230517375,
            "count": 2
           },
           {
            "bin_start": 0.2592127230517375,
            "bin_end": 0.3427147154457497,
            "count": 3
           },
           {
            "bin_start": 0.3427147154457497,
            "bin_end": 0.42621670783976195,
            "count": 6
           },
           {
            "bin_start": 0.42621670783976195,
            "bin_end": 0.5097187002337742,
            "count": 7
           },
           {
            "bin_start": 0.5097187002337742,
            "bin_end": 0.5932206926277864,
            "count": 38
           },
           {
            "bin_start": 0.5932206926277864,
            "bin_end": 0.6767226850217987,
            "count": 6
           },
           {
            "bin_start": 0.6767226850217987,
            "bin_end": 0.7602246774158109,
            "count": 3
           },
           {
            "bin_start": 0.7602246774158109,
            "bin_end": 0.8437266698098231,
            "count": 4
           }
          ]
         }
        },
        {
         "name": "split9_test_score",
         "dtype": "float64",
         "stats": {
          "unique_count": 91,
          "nan_count": 0,
          "min": "0.008407888426480043",
          "max": "0.8212315852929563",
          "histogram": [
           {
            "bin_start": 0.008407888426480043,
            "bin_end": 0.08969025811312767,
            "count": 9
           },
           {
            "bin_start": 0.08969025811312767,
            "bin_end": 0.1709726277997753,
            "count": 18
           },
           {
            "bin_start": 0.1709726277997753,
            "bin_end": 0.2522549974864229,
            "count": 6
           },
           {
            "bin_start": 0.2522549974864229,
            "bin_end": 0.33353736717307053,
            "count": 3
           },
           {
            "bin_start": 0.33353736717307053,
            "bin_end": 0.4148197368597181,
            "count": 5
           },
           {
            "bin_start": 0.4148197368597181,
            "bin_end": 0.4961021065463658,
            "count": 7
           },
           {
            "bin_start": 0.4961021065463658,
            "bin_end": 0.5773844762330134,
            "count": 39
           },
           {
            "bin_start": 0.5773844762330134,
            "bin_end": 0.658666845919661,
            "count": 6
           },
           {
            "bin_start": 0.658666845919661,
            "bin_end": 0.7399492156063086,
            "count": 3
           },
           {
            "bin_start": 0.7399492156063086,
            "bin_end": 0.8212315852929563,
            "count": 4
           }
          ]
         }
        },
        {
         "name": "mean_test_score",
         "dtype": "float64",
         "stats": {
          "unique_count": 91,
          "nan_count": 0,
          "min": "0.009003077112219881",
          "max": "0.8722539251298445",
          "histogram": [
           {
            "bin_start": 0.009003077112219881,
            "bin_end": 0.09532816191398234,
            "count": 9
           },
           {
            "bin_start": 0.09532816191398234,
            "bin_end": 0.1816532467157448,
            "count": 22
           },
           {
            "bin_start": 0.1816532467157448,
            "bin_end": 0.2679783315175072,
            "count": 2
           },
           {
            "bin_start": 0.2679783315175072,
            "bin_end": 0.3543034163192697,
            "count": 5
           },
           {
            "bin_start": 0.3543034163192697,
            "bin_end": 0.4406285011210322,
            "count": 6
           },
           {
            "bin_start": 0.4406285011210322,
            "bin_end": 0.5269535859227946,
            "count": 38
           },
           {
            "bin_start": 0.5269535859227946,
            "bin_end": 0.6132786707245571,
            "count": 5
           },
           {
            "bin_start": 0.6132786707245571,
            "bin_end": 0.6996037555263196,
            "count": 9
           },
           {
            "bin_start": 0.6996037555263196,
            "bin_end": 0.7859288403280821,
            "count": 0
           },
           {
            "bin_start": 0.7859288403280821,
            "bin_end": 0.8722539251298445,
            "count": 4
           }
          ]
         }
        },
        {
         "name": "std_test_score",
         "dtype": "float64",
         "stats": {
          "unique_count": 91,
          "nan_count": 0,
          "min": "0.00034759323951015454",
          "max": "0.07354234642733276",
          "histogram": [
           {
            "bin_start": 0.00034759323951015454,
            "bin_end": 0.007667068558292415,
            "count": 32
           },
           {
            "bin_start": 0.007667068558292415,
            "bin_end": 0.014986543877074677,
            "count": 6
           },
           {
            "bin_start": 0.014986543877074677,
            "bin_end": 0.022306019195856938,
            "count": 41
           },
           {
            "bin_start": 0.022306019195856938,
            "bin_end": 0.029625494514639198,
            "count": 5
           },
           {
            "bin_start": 0.029625494514639198,
            "bin_end": 0.03694496983342146,
            "count": 5
           },
           {
            "bin_start": 0.03694496983342146,
            "bin_end": 0.04426444515220372,
            "count": 7
           },
           {
            "bin_start": 0.04426444515220372,
            "bin_end": 0.05158392047098598,
            "count": 0
           },
           {
            "bin_start": 0.05158392047098598,
            "bin_end": 0.05890339578976824,
            "count": 0
           },
           {
            "bin_start": 0.05890339578976824,
            "bin_end": 0.0662228711085505,
            "count": 2
           },
           {
            "bin_start": 0.0662228711085505,
            "bin_end": 0.07354234642733276,
            "count": 2
           }
          ]
         }
        },
        {
         "name": "rank_test_score",
         "dtype": "int32",
         "stats": {
          "unique_count": 91,
          "nan_count": 0,
          "min": "1",
          "max": "100",
          "histogram": [
           {
            "bin_start": 1,
            "bin_end": 10.9,
            "count": 10
           },
           {
            "bin_start": 10.9,
            "bin_end": 20.8,
            "count": 10
           },
           {
            "bin_start": 20.8,
            "bin_end": 30.700000000000003,
            "count": 11
           },
           {
            "bin_start": 30.700000000000003,
            "bin_end": 40.6,
            "count": 9
           },
           {
            "bin_start": 40.6,
            "bin_end": 50.5,
            "count": 10
           },
           {
            "bin_start": 50.5,
            "bin_end": 60.400000000000006,
            "count": 10
           },
           {
            "bin_start": 60.400000000000006,
            "bin_end": 70.3,
            "count": 10
           },
           {
            "bin_start": 70.3,
            "bin_end": 80.2,
            "count": 10
           },
           {
            "bin_start": 80.2,
            "bin_end": 90.10000000000001,
            "count": 10
           },
           {
            "bin_start": 90.10000000000001,
            "bin_end": 100,
            "count": 10
           }
          ]
         }
        },
        {
         "name": "_deepnote_index_column",
         "dtype": "int64"
        }
       ],
       "rows": [
        {
         "mean_fit_time": 0.14059696197509766,
         "std_fit_time": 0.012546462674025058,
         "mean_score_time": 0.012311792373657227,
         "std_score_time": 0.001967297813411492,
         "param_reg__estimator__kernel": "rbf",
         "param_reg__estimator__gamma": "scale",
         "param_reg__estimator__epsilon": "0.5",
         "param_reg__estimator__C": "5",
         "params": "{'reg__estimator__kernel': 'rbf', 'reg__estimator__gamma': 'scale', 'reg__estimator__epsilon': 0.5,…",
         "split0_test_score": 0.8257472838746526,
         "split1_test_score": 0.9832726130058691,
         "split2_test_score": 0.7388684506843272,
         "split3_test_score": 0.9146282612080809,
         "split4_test_score": 0.9788070099927332,
         "split5_test_score": 0.924313307412508,
         "split6_test_score": 0.8220222630051566,
         "split7_test_score": 0.8699218070123387,
         "split8_test_score": 0.8437266698098231,
         "split9_test_score": 0.8212315852929563,
         "mean_test_score": 0.8722539251298445,
         "std_test_score": 0.07354234642733276,
         "rank_test_score": 1,
         "_deepnote_index_column": 16
        },
        {
         "mean_fit_time": 0.28793041706085204,
         "std_fit_time": 0.012262444976755832,
         "mean_score_time": 0.018510723114013673,
         "std_score_time": 0.0005442869141565192,
         "param_reg__estimator__kernel": "rbf",
         "param_reg__estimator__gamma": "0.1",
         "param_reg__estimator__epsilon": "0.01",
         "param_reg__estimator__C": "10",
         "params": "{'reg__estimator__kernel': 'rbf', 'reg__estimator__gamma': 0.1, 'reg__estimator__epsilon': 0.01, 'r…",
         "split0_test_score": 0.8179317926264593,
         "split1_test_score": 0.9592626422957359,
         "split2_test_score": 0.7400439387546803,
         "split3_test_score": 0.9140104737785643,
         "split4_test_score": 0.9573770899276484,
         "split5_test_score": 0.8851341952168295,
         "split6_test_score": 0.8121908327765454,
         "split7_test_score": 0.8675842973823887,
         "split8_test_score": 0.8430227119744306,
         "split9_test_score": 0.8133408141743844,
         "mean_test_score": 0.8609898788907667,
         "std_test_score": 0.06621341775819964,
         "rank_test_score": 2,
         "_deepnote_index_column": 59
        },
        {
         "mean_fit_time": 0.17593278884887695,
         "std_fit_time": 0.007122967127272336,
         "mean_score_time": 0.017104244232177733,
         "std_score_time": 0.00047021002837564573,
         "param_reg__estimator__kernel": "rbf",
         "param_reg__estimator__gamma": "0.1",
         "param_reg__estimator__epsilon": "0.1",
         "param_reg__estimator__C": "1",
         "params": "{'reg__estimator__kernel': 'rbf', 'reg__estimator__gamma': 0.1, 'reg__estimator__epsilon': 0.1, 're…",
         "split0_test_score": 0.7783836799681566,
         "split1_test_score": 0.932169475325147,
         "split2_test_score": 0.732693625111205,
         "split3_test_score": 0.871532649650201,
         "split4_test_score": 0.9501146744916505,
         "split5_test_score": 0.8749537082604071,
         "split6_test_score": 0.8147786980911194,
         "split7_test_score": 0.8477185443551117,
         "split8_test_score": 0.8144782318926218,
         "split9_test_score": 0.7928068201640454,
         "mean_test_score": 0.8409630107309665,
         "std_test_score": 0.0645853895179776,
         "rank_test_score": 3,
         "_deepnote_index_column": 23
        },
        {
         "mean_fit_time": 0.07821295261383057,
         "std_fit_time": 0.007915688472497424,
         "mean_score_time": 0.006749367713928223,
         "std_score_time": 0.00023476602918132995,
         "param_reg__estimator__kernel": "rbf",
         "param_reg__estimator__gamma": "0.1",
         "param_reg__estimator__epsilon": "1",
         "param_reg__estimator__C": "2",
         "params": "{'reg__estimator__kernel': 'rbf', 'reg__estimator__gamma': 0.1, 'reg__estimator__epsilon': 1, 'reg_…",
         "split0_test_score": 0.7591054633088054,
         "split1_test_score": 0.9459453714856944,
         "split2_test_score": 0.7118358883463117,
         "split3_test_score": 0.8763823671042943,
         "split4_test_score": 0.9484019364115208,
         "split5_test_score": 0.8777029358500117,
         "split6_test_score": 0.7862878948142247,
         "split7_test_score": 0.8220593049256272,
         "split8_test_score": 0.8122114297805167,
         "split9_test_score": 0.8002695122919087,
         "mean_test_score": 0.8340202104318916,
         "std_test_score": 0.07341018416140214,
         "rank_test_score": 4,
         "_deepnote_index_column": 13
        },
        {
         "mean_fit_time": 0.020968413352966307,
         "std_fit_time": 0.0015172718696646334,
         "mean_score_time": 0.002965879440307617,
         "std_score_time": 0.0004166577030876615,
         "param_reg__estimator__kernel": "rbf",
         "param_reg__estimator__gamma": "0.1",
         "param_reg__estimator__epsilon": "2",
         "param_reg__estimator__C": "2",
         "params": "{'reg__estimator__kernel': 'rbf', 'reg__estimator__gamma': 0.1, 'reg__estimator__epsilon': 2, 'reg_…",
         "split0_test_score": 0.6456466443798915,
         "split1_test_score": 0.7405113096960533,
         "split2_test_score": 0.621764695262089,
         "split3_test_score": 0.7372932522943937,
         "split4_test_score": 0.7606437369705729,
         "split5_test_score": 0.731910181501918,
         "split6_test_score": 0.6574157141366909,
         "split7_test_score": 0.6805441173081597,
         "split8_test_score": 0.6829735550179249,
         "split9_test_score": 0.6800972127469735,
         "mean_test_score": 0.6938800419314667,
         "std_test_score": 0.0439390034561453,
         "rank_test_score": 5,
         "_deepnote_index_column": 35
        },
        {
         "mean_fit_time": 0.10821390151977539,
         "std_fit_time": 0.010529265028426327,
         "mean_score_time": 0.0120100736618042,
         "std_score_time": 0.0017783516019293651,
         "param_reg__estimator__kernel": "rbf",
         "param_reg__estimator__gamma": "0.01",
         "param_reg__estimator__epsilon": "0.5",
         "param_reg__estimator__C": "2",
         "params": "{'reg__estimator__kernel': 'rbf', 'reg__estimator__gamma': 0.01, 'reg__estimator__epsilon': 0.5, 'r…",
         "split0_test_score": 0.648920958851412,
         "split1_test_score": 0.7246749980614259,
         "split2_test_score": 0.6249505145871259,
         "split3_test_score": 0.7252848629750597,
         "split4_test_score": 0.7668414766873478,
         "split5_test_score": 0.693262382523645,
         "split6_test_score": 0.664751565148278,
         "split7_test_score": 0.6614736949424167,
         "split8_test_score": 0.69515631451702,
         "split9_test_score": 0.686197116479689,
         "mean_test_score": 0.689151388477342,
         "std_test_score": 0.03970722544968621,
         "rank_test_score": 6,
         "_deepnote_index_column": 81
        },
        {
         "mean_fit_time": 0.028698205947875977,
         "std_fit_time": 0.003802474567493854,
         "mean_score_time": 0.003570890426635742,
         "std_score_time": 0.0007204342946340471,
         "param_reg__estimator__kernel": "rbf",
         "param_reg__estimator__gamma": "0.01",
         "param_reg__estimator__epsilon": "2",
         "param_reg__estimator__C": "10",
         "params": "{'reg__estimator__kernel': 'rbf', 'reg__estimator__gamma': 0.01, 'reg__estimator__epsilon': 2, 'reg…",
         "split0_test_score": 0.6446397813278374,
         "split1_test_score": 0.7280636895832541,
         "split2_test_score": 0.6320082128882902,
         "split3_test_score": 0.7266794635004171,
         "split4_test_score": 0.7542685440179419,
         "split5_test_score": 0.6864489134432292,
         "split6_test_score": 0.6545737515843558,
         "split7_test_score": 0.6401774977220868,
         "split8_test_score": 0.6832408458023613,
         "split9_test_score": 0.671766082239725,
         "mean_test_score": 0.6821866782109498,
         "std_test_score": 0.03982820990490022,
         "rank_test_score": 7,
         "_deepnote_index_column": 51
        },
        {
         "mean_fit_time": 0.020079779624938964,
         "std_fit_time": 0.0015277959138184512,
         "mean_score_time": 0.003161120414733887,
         "std_score_time": 0.0002871091936280391,
         "param_reg__estimator__kernel": "rbf",
         "param_reg__estimator__gamma": "0.1",
         "param_reg__estimator__epsilon": "2",
         "param_reg__estimator__C": "1",
         "params": "{'reg__estimator__kernel': 'rbf', 'reg__estimator__gamma': 0.1, 'reg__estimator__epsilon': 2, 'reg_…",
         "split0_test_score": 0.6243354565219277,
         "split1_test_score": 0.7100228366116119,
         "split2_test_score": 0.605923992718776,
         "split3_test_score": 0.7041068031844268,
         "split4_test_score": 0.7496989191007009,
         "split5_test_score": 0.7068801034399496,
         "split6_test_score": 0.6395366473274999,
         "split7_test_score": 0.6562614102828156,
         "split8_test_score": 0.6595634135407421,
         "split9_test_score": 0.6541125126618252,
         "mean_test_score": 0.6710442095390277,
         "std_test_score": 0.04258561025548559,
         "rank_test_score": 8,
         "_deepnote_index_column": 10
        },
        {
         "mean_fit_time": 0.019362592697143556,
         "std_fit_time": 0.00037210792315389707,
         "mean_score_time": 0.0030428886413574217,
         "std_score_time": 0.00008865862147062104,
         "param_reg__estimator__kernel": "rbf",
         "param_reg__estimator__gamma": "0.1",
         "param_reg__estimator__epsilon": "2",
         "param_reg__estimator__C": "0.9",
         "params": "{'reg__estimator__kernel': 'rbf', 'reg__estimator__gamma': 0.1, 'reg__estimator__epsilon': 2, 'reg_…",
         "split0_test_score": 0.6218562005365389,
         "split1_test_score": 0.7034869654122919,
         "split2_test_score": 0.6028137219679564,
         "split3_test_score": 0.6975763504538771,
         "split4_test_score": 0.7462740461973697,
         "split5_test_score": 0.7033321415993095,
         "split6_test_score": 0.6371579505961456,
         "split7_test_score": 0.6526210089822003,
         "split8_test_score": 0.6557713516673571,
         "split9_test_score": 0.6505610879722205,
         "mean_test_score": 0.6671450825385267,
         "std_test_score": 0.04185912667661919,
         "rank_test_score": 9,
         "_deepnote_index_column": 31
        },
        {
         "mean_fit_time": 0.0207766056060791,
         "std_fit_time": 0.002117090882523858,
         "mean_score_time": 0.00330967903137207,
         "std_score_time": 0.0005311460809129705,
         "param_reg__estimator__kernel": "rbf",
         "param_reg__estimator__gamma": "0.1",
         "param_reg__estimator__epsilon": "2",
         "param_reg__estimator__C": "0.8",
         "params": "{'reg__estimator__kernel': 'rbf', 'reg__estimator__gamma': 0.1, 'reg__estimator__epsilon': 2, 'reg_…",
         "split0_test_score": 0.6162567799551448,
         "split1_test_score": 0.6989425788524454,
         "split2_test_score": 0.599459331984516,
         "split3_test_score": 0.6907804688674014,
         "split4_test_score": 0.7399618214045115,
         "split5_test_score": 0.6991287843444592,
         "split6_test_score": 0.6324906489483136,
         "split7_test_score": 0.6488473131364085,
         "split8_test_score": 0.6509925028252112,
         "split9_test_score": 0.6463723430382529,
         "mean_test_score": 0.6623232573356665,
         "std_test_score": 0.04130566275262716,
         "rank_test_score": 10,
         "_deepnote_index_column": 37
        }
       ]
      },
      "text/plain": "    mean_fit_time  std_fit_time  mean_score_time  std_score_time  \\\n16       0.140597      0.012546         0.012312        0.001967   \n59       0.287930      0.012262         0.018511        0.000544   \n23       0.175933      0.007123         0.017104        0.000470   \n13       0.078213      0.007916         0.006749        0.000235   \n35       0.020968      0.001517         0.002966        0.000417   \n..            ...           ...              ...             ...   \n56       0.220465      0.012271         0.020592        0.001759   \n54       0.227959      0.006438         0.021951        0.002614   \n63       0.228100      0.008706         0.020757        0.001560   \n43       0.225554      0.005702         0.020828        0.002596   \n28       0.220079      0.006148         0.019966        0.000971   \n\n   param_reg__estimator__kernel param_reg__estimator__gamma  \\\n16                          rbf                       scale   \n59                          rbf                         0.1   \n23                          rbf                         0.1   \n13                          rbf                         0.1   \n35                          rbf                         0.1   \n..                          ...                         ...   \n56                      sigmoid                       scale   \n54                      sigmoid                           1   \n63                      sigmoid                           1   \n43                      sigmoid                         0.1   \n28                      sigmoid                       scale   \n\n   param_reg__estimator__epsilon param_reg__estimator__C  \\\n16                           0.5                       5   \n59                          0.01                      10   \n23                           0.1                       1   \n13                             1                       2   \n35                             2                       2   \n..                           ...                     ...   \n56                             0                       5   \n54                          0.01                     0.9   \n63                             2                     0.9   \n43                             1                      10   \n28                             0                      10   \n\n                                               params  split0_test_score  ...  \\\n16  {'reg__estimator__kernel': 'rbf', 'reg__estima...           0.825747  ...   \n59  {'reg__estimator__kernel': 'rbf', 'reg__estima...           0.817932  ...   \n23  {'reg__estimator__kernel': 'rbf', 'reg__estima...           0.778384  ...   \n13  {'reg__estimator__kernel': 'rbf', 'reg__estima...           0.759105  ...   \n35  {'reg__estimator__kernel': 'rbf', 'reg__estima...           0.645647  ...   \n..                                                ...                ...  ...   \n56  {'reg__estimator__kernel': 'sigmoid', 'reg__es...           0.017796  ...   \n54  {'reg__estimator__kernel': 'sigmoid', 'reg__es...           0.012196  ...   \n63  {'reg__estimator__kernel': 'sigmoid', 'reg__es...           0.012163  ...   \n43  {'reg__estimator__kernel': 'sigmoid', 'reg__es...           0.009024  ...   \n28  {'reg__estimator__kernel': 'sigmoid', 'reg__es...           0.008928  ...   \n\n    split3_test_score  split4_test_score  split5_test_score  \\\n16           0.914628           0.978807           0.924313   \n59           0.914010           0.957377           0.885134   \n23           0.871533           0.950115           0.874954   \n13           0.876382           0.948402           0.877703   \n35           0.737293           0.760644           0.731910   \n..                ...                ...                ...   \n56           0.018075           0.018932           0.019096   \n54           0.008953           0.008596           0.009837   \n63           0.008956           0.008618           0.009858   \n43           0.009014           0.009445           0.009679   \n28           0.009055           0.009478           0.009524   \n\n    split6_test_score  split7_test_score  split8_test_score  \\\n16           0.822022           0.869922           0.843727   \n59           0.812191           0.867584           0.843023   \n23           0.814779           0.847719           0.814478   \n13           0.786288           0.822059           0.812211   \n35           0.657416           0.680544           0.682974   \n..                ...                ...                ...   \n56           0.018586           0.017368           0.018217   \n54           0.009097           0.009026           0.008708   \n63           0.009097           0.009027           0.008707   \n43           0.009370           0.008780           0.009067   \n28           0.009338           0.008702           0.009137   \n\n    split9_test_score  mean_test_score  std_test_score  rank_test_score  \n16           0.821232         0.872254        0.073542                1  \n59           0.813341         0.860990        0.066213                2  \n23           0.792807         0.840963        0.064585                3  \n13           0.800270         0.834020        0.073410                4  \n35           0.680097         0.693880        0.043939                5  \n..                ...              ...             ...              ...  \n56           0.017310         0.017942        0.000730               96  \n54           0.008408         0.009338        0.001034               97  \n63           0.008416         0.009337        0.001024               98  \n43           0.008640         0.009004        0.000383               99  \n28           0.008741         0.009003        0.000348              100  \n\n[100 rows x 22 columns]",
      "text/html": "<div>\n<style scoped>\n    .dataframe tbody tr th:only-of-type {\n        vertical-align: middle;\n    }\n\n    .dataframe tbody tr th {\n        vertical-align: top;\n    }\n\n    .dataframe thead th {\n        text-align: right;\n    }\n</style>\n<table border=\"1\" class=\"dataframe\">\n  <thead>\n    <tr style=\"text-align: right;\">\n      <th></th>\n      <th>mean_fit_time</th>\n      <th>std_fit_time</th>\n      <th>mean_score_time</th>\n      <th>std_score_time</th>\n      <th>param_reg__estimator__kernel</th>\n      <th>param_reg__estimator__gamma</th>\n      <th>param_reg__estimator__epsilon</th>\n      <th>param_reg__estimator__C</th>\n      <th>params</th>\n      <th>split0_test_score</th>\n      <th>...</th>\n      <th>split3_test_score</th>\n      <th>split4_test_score</th>\n      <th>split5_test_score</th>\n      <th>split6_test_score</th>\n      <th>split7_test_score</th>\n      <th>split8_test_score</th>\n      <th>split9_test_score</th>\n      <th>mean_test_score</th>\n      <th>std_test_score</th>\n      <th>rank_test_score</th>\n    </tr>\n  </thead>\n  <tbody>\n    <tr>\n      <th>16</th>\n      <td>0.140597</td>\n      <td>0.012546</td>\n      <td>0.012312</td>\n      <td>0.001967</td>\n      <td>rbf</td>\n      <td>scale</td>\n      <td>0.5</td>\n      <td>5</td>\n      <td>{'reg__estimator__kernel': 'rbf', 'reg__estima...</td>\n      <td>0.825747</td>\n      <td>...</td>\n      <td>0.914628</td>\n      <td>0.978807</td>\n      <td>0.924313</td>\n      <td>0.822022</td>\n      <td>0.869922</td>\n      <td>0.843727</td>\n      <td>0.821232</td>\n      <td>0.872254</td>\n      <td>0.073542</td>\n      <td>1</td>\n    </tr>\n    <tr>\n      <th>59</th>\n      <td>0.287930</td>\n      <td>0.012262</td>\n      <td>0.018511</td>\n      <td>0.000544</td>\n      <td>rbf</td>\n      <td>0.1</td>\n      <td>0.01</td>\n      <td>10</td>\n      <td>{'reg__estimator__kernel': 'rbf', 'reg__estima...</td>\n      <td>0.817932</td>\n      <td>...</td>\n      <td>0.914010</td>\n      <td>0.957377</td>\n      <td>0.885134</td>\n      <td>0.812191</td>\n      <td>0.867584</td>\n      <td>0.843023</td>\n      <td>0.813341</td>\n      <td>0.860990</td>\n      <td>0.066213</td>\n      <td>2</td>\n    </tr>\n    <tr>\n      <th>23</th>\n      <td>0.175933</td>\n      <td>0.007123</td>\n      <td>0.017104</td>\n      <td>0.000470</td>\n      <td>rbf</td>\n      <td>0.1</td>\n      <td>0.1</td>\n      <td>1</td>\n      <td>{'reg__estimator__kernel': 'rbf', 'reg__estima...</td>\n      <td>0.778384</td>\n      <td>...</td>\n      <td>0.871533</td>\n      <td>0.950115</td>\n      <td>0.874954</td>\n      <td>0.814779</td>\n      <td>0.847719</td>\n      <td>0.814478</td>\n      <td>0.792807</td>\n      <td>0.840963</td>\n      <td>0.064585</td>\n      <td>3</td>\n    </tr>\n    <tr>\n      <th>13</th>\n      <td>0.078213</td>\n      <td>0.007916</td>\n      <td>0.006749</td>\n      <td>0.000235</td>\n      <td>rbf</td>\n      <td>0.1</td>\n      <td>1</td>\n      <td>2</td>\n      <td>{'reg__estimator__kernel': 'rbf', 'reg__estima...</td>\n      <td>0.759105</td>\n      <td>...</td>\n      <td>0.876382</td>\n      <td>0.948402</td>\n      <td>0.877703</td>\n      <td>0.786288</td>\n      <td>0.822059</td>\n      <td>0.812211</td>\n      <td>0.800270</td>\n      <td>0.834020</td>\n      <td>0.073410</td>\n      <td>4</td>\n    </tr>\n    <tr>\n      <th>35</th>\n      <td>0.020968</td>\n      <td>0.001517</td>\n      <td>0.002966</td>\n      <td>0.000417</td>\n      <td>rbf</td>\n      <td>0.1</td>\n      <td>2</td>\n      <td>2</td>\n      <td>{'reg__estimator__kernel': 'rbf', 'reg__estima...</td>\n      <td>0.645647</td>\n      <td>...</td>\n      <td>0.737293</td>\n      <td>0.760644</td>\n      <td>0.731910</td>\n      <td>0.657416</td>\n      <td>0.680544</td>\n      <td>0.682974</td>\n      <td>0.680097</td>\n      <td>0.693880</td>\n      <td>0.043939</td>\n      <td>5</td>\n    </tr>\n    <tr>\n      <th>...</th>\n      <td>...</td>\n      <td>...</td>\n      <td>...</td>\n      <td>...</td>\n      <td>...</td>\n      <td>...</td>\n      <td>...</td>\n      <td>...</td>\n      <td>...</td>\n      <td>...</td>\n      <td>...</td>\n      <td>...</td>\n      <td>...</td>\n      <td>...</td>\n      <td>...</td>\n      <td>...</td>\n      <td>...</td>\n      <td>...</td>\n      <td>...</td>\n      <td>...</td>\n      <td>...</td>\n    </tr>\n    <tr>\n      <th>56</th>\n      <td>0.220465</td>\n      <td>0.012271</td>\n      <td>0.020592</td>\n      <td>0.001759</td>\n      <td>sigmoid</td>\n      <td>scale</td>\n      <td>0</td>\n      <td>5</td>\n      <td>{'reg__estimator__kernel': 'sigmoid', 'reg__es...</td>\n      <td>0.017796</td>\n      <td>...</td>\n      <td>0.018075</td>\n      <td>0.018932</td>\n      <td>0.019096</td>\n      <td>0.018586</td>\n      <td>0.017368</td>\n      <td>0.018217</td>\n      <td>0.017310</td>\n      <td>0.017942</td>\n      <td>0.000730</td>\n      <td>96</td>\n    </tr>\n    <tr>\n      <th>54</th>\n      <td>0.227959</td>\n      <td>0.006438</td>\n      <td>0.021951</td>\n      <td>0.002614</td>\n      <td>sigmoid</td>\n      <td>1</td>\n      <td>0.01</td>\n      <td>0.9</td>\n      <td>{'reg__estimator__kernel': 'sigmoid', 'reg__es...</td>\n      <td>0.012196</td>\n      <td>...</td>\n      <td>0.008953</td>\n      <td>0.008596</td>\n      <td>0.009837</td>\n      <td>0.009097</td>\n      <td>0.009026</td>\n      <td>0.008708</td>\n      <td>0.008408</td>\n      <td>0.009338</td>\n      <td>0.001034</td>\n      <td>97</td>\n    </tr>\n    <tr>\n      <th>63</th>\n      <td>0.228100</td>\n      <td>0.008706</td>\n      <td>0.020757</td>\n      <td>0.001560</td>\n      <td>sigmoid</td>\n      <td>1</td>\n      <td>2</td>\n      <td>0.9</td>\n      <td>{'reg__estimator__kernel': 'sigmoid', 'reg__es...</td>\n      <td>0.012163</td>\n      <td>...</td>\n      <td>0.008956</td>\n      <td>0.008618</td>\n      <td>0.009858</td>\n      <td>0.009097</td>\n      <td>0.009027</td>\n      <td>0.008707</td>\n      <td>0.008416</td>\n      <td>0.009337</td>\n      <td>0.001024</td>\n      <td>98</td>\n    </tr>\n    <tr>\n      <th>43</th>\n      <td>0.225554</td>\n      <td>0.005702</td>\n      <td>0.020828</td>\n      <td>0.002596</td>\n      <td>sigmoid</td>\n      <td>0.1</td>\n      <td>1</td>\n      <td>10</td>\n      <td>{'reg__estimator__kernel': 'sigmoid', 'reg__es...</td>\n      <td>0.009024</td>\n      <td>...</td>\n      <td>0.009014</td>\n      <td>0.009445</td>\n      <td>0.009679</td>\n      <td>0.009370</td>\n      <td>0.008780</td>\n      <td>0.009067</td>\n      <td>0.008640</td>\n      <td>0.009004</td>\n      <td>0.000383</td>\n      <td>99</td>\n    </tr>\n    <tr>\n      <th>28</th>\n      <td>0.220079</td>\n      <td>0.006148</td>\n      <td>0.019966</td>\n      <td>0.000971</td>\n      <td>sigmoid</td>\n      <td>scale</td>\n      <td>0</td>\n      <td>10</td>\n      <td>{'reg__estimator__kernel': 'sigmoid', 'reg__es...</td>\n      <td>0.008928</td>\n      <td>...</td>\n      <td>0.009055</td>\n      <td>0.009478</td>\n      <td>0.009524</td>\n      <td>0.009338</td>\n      <td>0.008702</td>\n      <td>0.009137</td>\n      <td>0.008741</td>\n      <td>0.009003</td>\n      <td>0.000348</td>\n      <td>100</td>\n    </tr>\n  </tbody>\n</table>\n<p>100 rows × 22 columns</p>\n</div>"
     },
     "metadata": {}
    }
   ]
  },
  {
   "cell_type": "code",
   "metadata": {
    "cell_id": "00031-4019f6fd-8480-4427-b512-0385e26846a8",
    "deepnote_to_be_reexecuted": false,
    "source_hash": "7a6f806b",
    "execution_start": 1642370811630,
    "execution_millis": 288,
    "deepnote_cell_type": "code"
   },
   "source": "C_BEST = optimal_par.best_params_['reg__estimator__C']\nGAMMA = optimal_par.best_params_['reg__estimator__gamma']\nKERNEL = optimal_par.best_params_['reg__estimator__kernel']\nEPSILON = optimal_par.best_params_['reg__estimator__epsilon']\n\nclf_svr_cup = SVR(C=C_BEST, gamma=GAMMA, kernel=KERNEL, epsilon=EPSILON)\nmor_mee = MultiOutputRegressor(clf_svr_cup)\nmor_mee.fit(X_train_scaled, y_train)\n\ntrain_pred = mor_mee.predict(X_train_scaled)\nval_pred = mor_mee.predict(X_val_scaled)",
   "execution_count": null,
   "outputs": []
  },
  {
   "cell_type": "code",
   "metadata": {
    "cell_id": "00032-8395af74-afc5-4e8e-8c11-94a286d3a782",
    "deepnote_to_be_reexecuted": false,
    "source_hash": "52c66e2",
    "execution_start": 1642370811923,
    "execution_millis": 130,
    "deepnote_cell_type": "code"
   },
   "source": "print(f\"Accuracy: {mor_mee.score(X_train_scaled, y_train.values)}\")\nprint(f\"MEE: {mee(y_train.values, train_pred)}\")",
   "execution_count": null,
   "outputs": [
    {
     "name": "stdout",
     "text": "Accuracy: 0.9515748153986898\nMEE: 1.007594899803706\n",
     "output_type": "stream"
    }
   ]
  },
  {
   "cell_type": "code",
   "metadata": {
    "cell_id": "00033-dcae3dba-7e96-49a8-bc38-be8ee5d210d2",
    "deepnote_output_heights": [
     264
    ],
    "deepnote_to_be_reexecuted": false,
    "source_hash": "5c05b41f",
    "execution_start": 1642370812057,
    "execution_millis": 569,
    "deepnote_cell_type": "code"
   },
   "source": "plot_coordinates(mor_mee, X_val_scaled, y_validation)",
   "execution_count": null,
   "outputs": [
    {
     "data": {
      "text/plain": "<Figure size 432x288 with 1 Axes>",
      "image/png": "[encoded data removed]"
     },
     "metadata": {
      "needs_background": "light",
      "image/png": {
       "width": 391,
       "height": 262
      }
     },
     "output_type": "display_data"
    }
   ]
  },
  {
   "cell_type": "code",
   "metadata": {
    "cell_id": "00034-150990ac-bb10-43ae-8202-5ebacf7f5e38",
    "deepnote_output_heights": [
     264
    ],
    "deepnote_to_be_reexecuted": false,
    "source_hash": "8841f8e9",
    "execution_start": 1642370812300,
    "execution_millis": 375,
    "deepnote_cell_type": "code"
   },
   "source": "plot_coordinates(mor_mee, X_all, y_all)",
   "execution_count": null,
   "outputs": [
    {
     "data": {
      "text/plain": "<Figure size 432x288 with 1 Axes>",
      "image/png": "[encoded data removed]"
     },
     "metadata": {
      "needs_background": "light",
      "image/png": {
       "width": 391,
       "height": 262
      }
     },
     "output_type": "display_data"
    }
   ]
  },
  {
   "cell_type": "code",
   "metadata": {
    "cell_id": "00035-f31e2a7c-818a-43e9-acbb-4769a228e35a",
    "deepnote_to_be_reexecuted": false,
    "source_hash": "e80c7ad3",
    "execution_start": 1642370812674,
    "execution_millis": 31,
    "deepnote_cell_type": "code"
   },
   "source": "print(f\"Accuracy: {mor_mee.score(X_val_scaled, y_validation)}\")\nprint(f\"MEE: {mee(y_validation.values, val_pred)}\")",
   "execution_count": null,
   "outputs": [
    {
     "name": "stdout",
     "text": "Accuracy: 0.9596238585512655\nMEE: 1.0374849414438883\n",
     "output_type": "stream"
    }
   ]
  },
  {
   "cell_type": "code",
   "metadata": {
    "cell_id": "00036-d3708ac2-0d08-4d39-b6dd-65c60da83105",
    "deepnote_output_heights": [
     264
    ],
    "deepnote_to_be_reexecuted": false,
    "source_hash": "6c67edf0",
    "execution_start": 1642370812707,
    "execution_millis": 371,
    "deepnote_cell_type": "code"
   },
   "source": "plot_coordinates(mor_mee, X_test_scaled)",
   "execution_count": null,
   "outputs": [
    {
     "data": {
      "text/plain": "<Figure size 432x288 with 1 Axes>",
      "image/png": "[encoded data removed]"
     },
     "metadata": {
      "needs_background": "light",
      "image/png": {
       "width": 391,
       "height": 262
      }
     },
     "output_type": "display_data"
    }
   ]
  },
  {
   "cell_type": "markdown",
   "source": "<a style='text-decoration:none;line-height:16px;display:flex;color:#5B5B62;padding:10px;justify-content:end;' href='https://deepnote.com?utm_source=created-in-deepnote-cell&projectId=d9d840c9-75b3-4185-bb01-105f5cca8d83' target=\"_blank\">\n<img alt='Created in deepnote.com' style='display:inline;max-height:16px;margin:0px;margin-right:7.5px;' src='data:image/svg+xml;base64,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' > </img>\nCreated in <span style='font-weight:600;margin-left:4px;'>Deepnote</span></a>",
   "metadata": {
    "tags": [],
    "created_in_deepnote_cell": true,
    "deepnote_cell_type": "markdown"
   }
  }
 ],
 "nbformat": 4,
 "nbformat_minor": 5,
 "metadata": {
  "kernelspec": {
   "display_name": "Python 3",
   "language": "python",
   "name": "python3"
  },
  "language_info": {
   "codemirror_mode": {
    "name": "ipython",
    "version": 3
   },
   "file_extension": ".py",
   "mimetype": "text/x-python",
   "name": "python",
   "nbconvert_exporter": "python",
   "pygments_lexer": "ipython3",
   "version": "3.8.8"
  },
  "deepnote_notebook_id": "7458a3f4-b8e7-4387-be0b-8cf72fa7cb31",
  "deepnote": {},
  "deepnote_execution_queue": []
 }
}