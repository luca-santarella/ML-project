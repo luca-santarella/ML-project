{
 "cells": [
  {
   "cell_type": "code",
   "metadata": {
    "cell_id": "3602b258-635e-4c73-a62f-fb606db6101a",
    "deepnote_to_be_reexecuted": false,
    "source_hash": "f7b5b794",
    "execution_start": 1642334335510,
    "execution_millis": 3063,
    "deepnote_cell_type": "code"
   },
   "source": "import numpy as np\nimport math\nimport matplotlib.pyplot as plt\nimport matplotlib.colors as colors\nimport pandas as pd\nfrom sklearn.preprocessing import OneHotEncoder\nfrom sklearn.metrics import confusion_matrix, classification_report\nfrom sklearn.preprocessing import StandardScaler\nfrom sklearn.model_selection import train_test_split\nfrom sklearn.model_selection import RandomizedSearchCV\n\nfrom sklearn.utils import resample #to downsample the dataset\nfrom sklearn.preprocessing import scale #Scale the dataset\nfrom sklearn.svm import SVC #Support vector machine for classification\nfrom sklearn.metrics import plot_confusion_matrix #Draws a Confusion Matrix\n\nimport seaborn as sns\nimport warnings\nwarnings.filterwarnings(\"ignore\")\n%matplotlib inline",
   "outputs": [],
   "execution_count": null
  },
  {
   "cell_type": "code",
   "metadata": {
    "cell_id": "00001-56ec783e-95a6-4054-ab76-80892ed516bb",
    "deepnote_to_be_reexecuted": false,
    "source_hash": "5c25c59a",
    "execution_start": 1642334338581,
    "execution_millis": 14,
    "deepnote_cell_type": "code"
   },
   "source": "def make_meshgrid(x, y, h=.02):\n    x_min, x_max = x.min() - 1, x.max() + 1\n    y_min, y_max = y.min() - 1, y.max() + 1\n    xx, yy = np.meshgrid(np.arange(x_min, x_max, h), np.arange(y_min, y_max, h))\n    return xx, yy\n\ndef plot_contours(ax, clf, xx, yy, **params):\n    Z = clf.predict(np.c_[xx.ravel(), yy.ravel()])\n    Z = Z.reshape(xx.shape)\n    out = ax.contourf(xx, yy, Z, **params)\n    return out",
   "outputs": [],
   "execution_count": null
  },
  {
   "cell_type": "code",
   "metadata": {
    "cell_id": "00002-6aae7340-e5b1-481b-99b2-dcb33409a5df",
    "deepnote_to_be_reexecuted": false,
    "source_hash": "a5b7cb83",
    "execution_start": 1642334338605,
    "execution_millis": 54,
    "deepnote_cell_type": "code"
   },
   "source": "#define mee loss function \ndef mee(true_target, predicted_target):  # assuming target is 2-dim matrix with x and y as columns\n    l = true_target.shape[0]\n    res = 0\n\n    for p in range(l):  # for p-th pattern in l (number of samples)\n        x_diff = np.square(true_target[p, 0] - predicted_target[p, 0])  # difference between the x value of the true and predicted target\n        y_diff = np.square(\n            true_target[p, 1] - predicted_target[p, 1])  # difference between the y values of true and predicted target\n        sum_term = x_diff + y_diff\n        res = res + np.sqrt(sum_term)\n    res = res / l\n\n    return res",
   "outputs": [],
   "execution_count": null
  },
  {
   "cell_type": "code",
   "metadata": {
    "cell_id": "00003-21321764-941d-490b-ad04-ddf1d57ac47e",
    "deepnote_to_be_reexecuted": false,
    "source_hash": "4f100b68",
    "execution_start": 1642334338659,
    "execution_millis": 1,
    "deepnote_cell_type": "code"
   },
   "source": "from sklearn.metrics import make_scorer\nfrom sklearn.metrics import mean_squared_error\nfrom sklearn.multioutput import MultiOutputRegressor\nfrom sklearn.svm import SVR\nfrom sklearn.pipeline import Pipeline\n\n#trains the model with one iteration (epoch) and computes in output a list of train and test scores using MEE\ndef fit_and_score(epochs, eval_model, X_train, y_train, X_test, y_test):\n    train_scores = []\n    test_scores = []\n    train_loss = []\n    test_loss = []\n    for i in range(epochs):\n        eval_model = eval_model.partial_fit(X_train,y_train)\n        y_train_predicted = eval_model.predict(X_train)\n        y_test_predicted = eval_model.predict(X_test)\n        #results on train set\n        train_scores.append(mee(y_train, y_train_predicted))\n        test_scores.append(mean_squared_error(y_test, y_test_predicted))\n        #result on test set\n        train_loss.append(mee(y_train, y_train_predicted))\n        test_loss.append(mean_squared_error(y_test, y_test_predicted))\n    return train_scores, test_scores, train_loss, test_loss",
   "outputs": [],
   "execution_count": null
  },
  {
   "cell_type": "code",
   "metadata": {
    "cell_id": "00004-5ff61f55-4c57-4186-8704-e5f35210281e",
    "deepnote_to_be_reexecuted": false,
    "source_hash": "2681486e",
    "execution_start": 1642334338660,
    "execution_millis": 43,
    "deepnote_cell_type": "code"
   },
   "source": "df_visual = pd.read_csv('./data/ML-CUP21-TR.csv', usecols=[11,12], names=['idx','f1','f2','f3','f4','f5','f6','f7','f8','f9','f10', 'x','y'])\ndf_task_tr = pd.read_csv('./data/ML-CUP21-TR.csv', names=['idx','f1','f2','f3','f4','f5','f6','f7','f8','f9','f10', 'x','y'])\ndf_task_tr = df_task_tr[7:] # remove first 7 rows of comments\ndf_visual = df_visual[7:]\n\ndf_blind_ts = pd.read_csv('./data/ML-CUP21-TS.csv', names=['idx','f1','f2','f3','f4','f5','f6','f7','f8','f9','f10'])\ndf_blind_ts = df_blind_ts[7:]\ndf_blind_ts.drop(labels=\"idx\", axis=1, inplace=True)",
   "outputs": [],
   "execution_count": null
  },
  {
   "cell_type": "code",
   "metadata": {
    "cell_id": "00005-de599f2c-a28d-4c3a-879a-f627e1bce0c4",
    "deepnote_to_be_reexecuted": false,
    "source_hash": "192dcf",
    "execution_start": 1642334338704,
    "execution_millis": 1,
    "deepnote_cell_type": "code"
   },
   "source": "df_task_tr.drop(labels=\"idx\", axis=1, inplace=True)",
   "outputs": [],
   "execution_count": null
  },
  {
   "cell_type": "code",
   "metadata": {
    "cell_id": "00006-dd4dc625-2d18-4693-8128-99dfa8f2fd2a",
    "deepnote_to_be_reexecuted": false,
    "source_hash": "3deb8984",
    "execution_start": 1642334338705,
    "execution_millis": 4,
    "deepnote_cell_type": "code"
   },
   "source": "y = df_task_tr[['x','y']]\nX = df_task_tr.drop(labels=['x','y'], axis=1)\nX_test = df_blind_ts\n\nprint(y.shape)",
   "outputs": [
    {
     "name": "stdout",
     "text": "(1477, 2)\n",
     "output_type": "stream"
    }
   ],
   "execution_count": null
  },
  {
   "cell_type": "code",
   "metadata": {
    "cell_id": "00007-8f11775e-34ba-423d-b5f3-a20dc5d3d569",
    "deepnote_to_be_reexecuted": false,
    "source_hash": "abb06bed",
    "execution_start": 1642334338707,
    "execution_millis": 9,
    "deepnote_cell_type": "code"
   },
   "source": "X_all = X.values\ny_all = y.values",
   "outputs": [],
   "execution_count": null
  },
  {
   "cell_type": "code",
   "metadata": {
    "cell_id": "00008-38cf2beb-b6c1-474b-ae58-f20ef5fe0de2",
    "deepnote_to_be_reexecuted": false,
    "source_hash": "1a0e1af1",
    "execution_start": 1642334338716,
    "execution_millis": 6,
    "deepnote_cell_type": "code"
   },
   "source": "#prepare validation set\nX_train, X_validation, y_train, y_validation = train_test_split(X, y, test_size=0.1, random_state=420)\nprint(f\"X shape: {X_train.shape}\")\nprint(f\"X validation shape: {X_validation.shape}\")\nprint(f\"y shape: {y_train.shape}\")\nprint(f\"y validation shape: {y_validation.shape}\")",
   "outputs": [
    {
     "name": "stdout",
     "text": "X shape: (1329, 10)\nX validation shape: (148, 10)\ny shape: (1329, 2)\ny validation shape: (148, 2)\n",
     "output_type": "stream"
    }
   ],
   "execution_count": null
  },
  {
   "cell_type": "code",
   "metadata": {
    "cell_id": "00009-38c8ac94-7b26-4818-9d33-0b3e3b8c7571",
    "deepnote_to_be_reexecuted": false,
    "source_hash": "60e347d5",
    "execution_start": 1642334338721,
    "execution_millis": 41,
    "deepnote_cell_type": "code"
   },
   "source": "from sklearn.preprocessing import scale #Scale the dataset\n\nX_train_scaled = scale(X_train)\nX_val_scaled = scale(X_validation)\nX_test_scaled = scale (X_test)",
   "outputs": [],
   "execution_count": null
  },
  {
   "cell_type": "code",
   "metadata": {
    "cell_id": "00010-92b092a5-d40d-4516-8594-5ec8e54027b8",
    "deepnote_to_be_reexecuted": false,
    "source_hash": "a324ecff",
    "execution_start": 1642334338765,
    "execution_millis": 9,
    "deepnote_cell_type": "code"
   },
   "source": "y_train = y_train[['x', 'y']]\ny_validation = y_validation[['x', 'y']]",
   "outputs": [],
   "execution_count": null
  },
  {
   "cell_type": "code",
   "metadata": {
    "cell_id": "00011-ea01cf49-5c2d-4a65-a758-e1ecae66b316",
    "deepnote_to_be_reexecuted": false,
    "source_hash": "e29b0cdc",
    "execution_start": 1642334338776,
    "execution_millis": 6,
    "deepnote_cell_type": "code"
   },
   "source": "X_train_C = np.ascontiguousarray(X_train_scaled, dtype=np.double)\nX_val_C = np.ascontiguousarray(X_val_scaled, dtype=np.double)\nX_test_C = np.ascontiguousarray(X_test_scaled, dtype=np.double)",
   "outputs": [],
   "execution_count": null
  },
  {
   "cell_type": "code",
   "metadata": {
    "cell_id": "00012-7b4501d9-cd64-4d89-be80-8d6c9bc9b471",
    "deepnote_to_be_reexecuted": false,
    "source_hash": "9365a276",
    "execution_start": 1642334338826,
    "execution_millis": 1,
    "deepnote_cell_type": "code"
   },
   "source": "y_train_C = np.ascontiguousarray(y_train.values, dtype=np.double)\ny_validation_C = np.ascontiguousarray(y_validation.values, dtype=np.double)",
   "outputs": [],
   "execution_count": null
  },
  {
   "cell_type": "code",
   "metadata": {
    "cell_id": "00013-fc6dbf62-7bf6-433a-9af8-34b1763b266a",
    "deepnote_to_be_reexecuted": false,
    "source_hash": "e75a8e76",
    "execution_start": 1642334338827,
    "execution_millis": 351529,
    "deepnote_cell_type": "code"
   },
   "source": "pipe_svr = Pipeline([('reg', MultiOutputRegressor(SVR()))])\ngrid_param_svr = {\n    'reg__estimator__C':[0.1, 0.5, 0.8, 0.9, 1, 2, 5, 10],\n    'reg__estimator__epsilon': [0, 0.01, 0.1, 0.5, 1, 2],\n    'reg__estimator__gamma': ['scale', 1, 0.1, 0.01, 0.001, 0.0001, 0.00001],\n    'reg__estimator__kernel':  ['linear', 'rbf', 'sigmoid']\n}\n\noptimal_par = RandomizedSearchCV(\n    estimator=pipe_svr,\n    param_distributions=grid_param_svr,\n    n_iter=100,\n    cv=10,\n    scoring='neg_mean_squared_error',\n    verbose=0\n)\n\noptimal_par.fit(X_train_scaled, y_train)\nprint(optimal_par.best_params_)",
   "outputs": [
    {
     "name": "stdout",
     "text": "{'reg__estimator__kernel': 'rbf', 'reg__estimator__gamma': 0.1, 'reg__estimator__epsilon': 0.1, 'reg__estimator__C': 10}\n",
     "output_type": "stream"
    }
   ],
   "execution_count": null
  },
  {
   "cell_type": "code",
   "metadata": {
    "cell_id": "00014-e7c6dbc3-614e-4c42-9d7c-575e1e410cb7",
    "deepnote_output_heights": [
     21.1875
    ],
    "deepnote_to_be_reexecuted": false,
    "source_hash": "131ac8cc",
    "execution_start": 1642334690355,
    "execution_millis": 463,
    "deepnote_cell_type": "code"
   },
   "source": "best_model = optimal_par.best_estimator_\nbest_model.fit(X_train_scaled, y_train)\nbest_model.score(X_val_scaled, y_validation)",
   "outputs": [
    {
     "output_type": "execute_result",
     "execution_count": 15,
     "data": {
      "text/plain": "0.9582132125208995"
     },
     "metadata": {}
    }
   ],
   "execution_count": null
  },
  {
   "cell_type": "code",
   "metadata": {
    "cell_id": "00015-7b737651-5f8d-4853-bd05-d3dbd9659a8f",
    "deepnote_output_heights": [
     382.1875
    ],
    "deepnote_to_be_reexecuted": false,
    "source_hash": "3550c220",
    "execution_start": 1642334690860,
    "execution_millis": 206,
    "deepnote_cell_type": "code"
   },
   "source": "df_results_cup = pd.DataFrame(data=optimal_par.cv_results_) #trasform into a pandas dataframe\ndf_results_cup\n\n#https://github.com/scikit-learn/scikit-learn/issues/2439 se è negativo controlla questo",
   "outputs": [
    {
     "output_type": "execute_result",
     "execution_count": 16,
     "data": {
      "application/vnd.deepnote.dataframe.v3+json": {
       "column_count": 22,
       "row_count": 100,
       "columns": [
        {
         "name": "mean_fit_time",
         "dtype": "float64",
         "stats": {
          "unique_count": 100,
          "nan_count": 0,
          "min": "0.03022480010986328",
          "max": "1.1262471675872803",
          "histogram": [
           {
            "bin_start": 0.03022480010986328,
            "bin_end": 0.13982703685760497,
            "count": 11
           },
           {
            "bin_start": 0.13982703685760497,
            "bin_end": 0.24942927360534667,
            "count": 24
           },
           {
            "bin_start": 0.24942927360534667,
            "bin_end": 0.35903151035308833,
            "count": 29
           },
           {
            "bin_start": 0.35903151035308833,
            "bin_end": 0.46863374710083006,
            "count": 24
           },
           {
            "bin_start": 0.46863374710083006,
            "bin_end": 0.5782359838485718,
            "count": 6
           },
           {
            "bin_start": 0.5782359838485718,
            "bin_end": 0.6878382205963134,
            "count": 2
           },
           {
            "bin_start": 0.6878382205963134,
            "bin_end": 0.7974404573440551,
            "count": 1
           },
           {
            "bin_start": 0.7974404573440551,
            "bin_end": 0.9070426940917968,
            "count": 1
           },
           {
            "bin_start": 0.9070426940917968,
            "bin_end": 1.0166449308395387,
            "count": 1
           },
           {
            "bin_start": 1.0166449308395387,
            "bin_end": 1.1262471675872803,
            "count": 1
           }
          ]
         }
        },
        {
         "name": "std_fit_time",
         "dtype": "float64",
         "stats": {
          "unique_count": 100,
          "nan_count": 0,
          "min": "0.004128966672837074",
          "max": "0.171853554140399",
          "histogram": [
           {
            "bin_start": 0.004128966672837074,
            "bin_end": 0.020901425419593264,
            "count": 42
           },
           {
            "bin_start": 0.020901425419593264,
            "bin_end": 0.03767388416634946,
            "count": 25
           },
           {
            "bin_start": 0.03767388416634946,
            "bin_end": 0.054446342913105655,
            "count": 10
           },
           {
            "bin_start": 0.054446342913105655,
            "bin_end": 0.07121880165986184,
            "count": 13
           },
           {
            "bin_start": 0.07121880165986184,
            "bin_end": 0.08799126040661803,
            "count": 5
           },
           {
            "bin_start": 0.08799126040661803,
            "bin_end": 0.10476371915337424,
            "count": 2
           },
           {
            "bin_start": 0.10476371915337424,
            "bin_end": 0.12153617790013042,
            "count": 2
           },
           {
            "bin_start": 0.12153617790013042,
            "bin_end": 0.1383086366468866,
            "count": 0
           },
           {
            "bin_start": 0.1383086366468866,
            "bin_end": 0.15508109539364281,
            "count": 0
           },
           {
            "bin_start": 0.15508109539364281,
            "bin_end": 0.171853554140399,
            "count": 1
           }
          ]
         }
        },
        {
         "name": "mean_score_time",
         "dtype": "float64",
         "stats": {
          "unique_count": 100,
          "nan_count": 0,
          "min": "0.006593918800354004",
          "max": "0.052362465858459474",
          "histogram": [
           {
            "bin_start": 0.006593918800354004,
            "bin_end": 0.011170773506164551,
            "count": 13
           },
           {
            "bin_start": 0.011170773506164551,
            "bin_end": 0.015747628211975097,
            "count": 12
           },
           {
            "bin_start": 0.015747628211975097,
            "bin_end": 0.020324482917785644,
            "count": 16
           },
           {
            "bin_start": 0.020324482917785644,
            "bin_end": 0.02490133762359619,
            "count": 9
           },
           {
            "bin_start": 0.02490133762359619,
            "bin_end": 0.02947819232940674,
            "count": 10
           },
           {
            "bin_start": 0.02947819232940674,
            "bin_end": 0.034055047035217285,
            "count": 17
           },
           {
            "bin_start": 0.034055047035217285,
            "bin_end": 0.03863190174102783,
            "count": 14
           },
           {
            "bin_start": 0.03863190174102783,
            "bin_end": 0.04320875644683838,
            "count": 4
           },
           {
            "bin_start": 0.04320875644683838,
            "bin_end": 0.04778561115264893,
            "count": 4
           },
           {
            "bin_start": 0.04778561115264893,
            "bin_end": 0.052362465858459474,
            "count": 1
           }
          ]
         }
        },
        {
         "name": "std_score_time",
         "dtype": "float64",
         "stats": {
          "unique_count": 100,
          "nan_count": 0,
          "min": "0.0007474008884122001",
          "max": "0.01727413770547075",
          "histogram": [
           {
            "bin_start": 0.0007474008884122001,
            "bin_end": 0.002400074570118055,
            "count": 7
           },
           {
            "bin_start": 0.002400074570118055,
            "bin_end": 0.00405274825182391,
            "count": 1
           },
           {
            "bin_start": 0.00405274825182391,
            "bin_end": 0.005705421933529764,
            "count": 2
           },
           {
            "bin_start": 0.005705421933529764,
            "bin_end": 0.00735809561523562,
            "count": 11
           },
           {
            "bin_start": 0.00735809561523562,
            "bin_end": 0.009010769296941475,
            "count": 9
           },
           {
            "bin_start": 0.009010769296941475,
            "bin_end": 0.010663442978647329,
            "count": 22
           },
           {
            "bin_start": 0.010663442978647329,
            "bin_end": 0.012316116660353184,
            "count": 23
           },
           {
            "bin_start": 0.012316116660353184,
            "bin_end": 0.013968790342059039,
            "count": 20
           },
           {
            "bin_start": 0.013968790342059039,
            "bin_end": 0.015621464023764894,
            "count": 3
           },
           {
            "bin_start": 0.015621464023764894,
            "bin_end": 0.01727413770547075,
            "count": 2
           }
          ]
         }
        },
        {
         "name": "param_reg__estimator__kernel",
         "dtype": "object",
         "stats": {
          "unique_count": 3,
          "nan_count": 0,
          "categories": [
           {
            "name": "rbf",
            "count": 42
           },
           {
            "name": "sigmoid",
            "count": 29
           },
           {
            "name": "linear",
            "count": 29
           }
          ]
         }
        },
        {
         "name": "param_reg__estimator__gamma",
         "dtype": "object",
         "stats": {
          "unique_count": 7,
          "nan_count": 0,
          "categories": [
           {
            "name": "scale",
            "count": 19
           },
           {
            "name": "0.001",
            "count": 17
           },
           {
            "name": "5 others",
            "count": 64
           }
          ]
         }
        },
        {
         "name": "param_reg__estimator__epsilon",
         "dtype": "object",
         "stats": {
          "unique_count": 6,
          "nan_count": 0,
          "categories": [
           {
            "name": "0.5",
            "count": 18
           },
           {
            "name": "0.01",
            "count": 18
           },
           {
            "name": "4 others",
            "count": 64
           }
          ]
         }
        },
        {
         "name": "param_reg__estimator__C",
         "dtype": "object",
         "stats": {
          "unique_count": 8,
          "nan_count": 0,
          "categories": [
           {
            "name": "1.0",
            "count": 18
           },
           {
            "name": "5.0",
            "count": 15
           },
           {
            "name": "6 others",
            "count": 67
           }
          ]
         }
        },
        {
         "name": "params",
         "dtype": "object",
         "stats": {
          "unique_count": 100,
          "nan_count": 0,
          "categories": [
           {
            "name": "{'reg__estimator__kernel': 'rbf', 'reg__estimator__gamma': 1, 'reg__estimator__epsilon': 0.5, 'reg__estimator__C': 0.8}",
            "count": 1
           },
           {
            "name": "{'reg__estimator__kernel': 'sigmoid', 'reg__estimator__gamma': 0.1, 'reg__estimator__epsilon': 0, 'reg__estimator__C': 2}",
            "count": 1
           },
           {
            "name": "98 others",
            "count": 98
           }
          ]
         }
        },
        {
         "name": "split0_test_score",
         "dtype": "float64",
         "stats": {
          "unique_count": 94,
          "nan_count": 0,
          "min": "-8637.37091953282",
          "max": "-1.2987266026249342",
          "histogram": [
           {
            "bin_start": -8637.37091953282,
            "bin_end": -7773.7637002398,
            "count": 2
           },
           {
            "bin_start": -7773.7637002398,
            "bin_end": -6910.15648094678,
            "count": 1
           },
           {
            "bin_start": -6910.15648094678,
            "bin_end": -6046.549261653761,
            "count": 0
           },
           {
            "bin_start": -6046.549261653761,
            "bin_end": -5182.942042360742,
            "count": 0
           },
           {
            "bin_start": -5182.942042360742,
            "bin_end": -4319.334823067722,
            "count": 0
           },
           {
            "bin_start": -4319.334823067722,
            "bin_end": -3455.7276037747033,
            "count": 0
           },
           {
            "bin_start": -3455.7276037747033,
            "bin_end": -2592.1203844816837,
            "count": 0
           },
           {
            "bin_start": -2592.1203844816837,
            "bin_end": -1728.513165188664,
            "count": 3
           },
           {
            "bin_start": -1728.513165188664,
            "bin_end": -864.9059458956444,
            "count": 0
           },
           {
            "bin_start": -864.9059458956444,
            "bin_end": -1.2987266026249342,
            "count": 94
           }
          ]
         }
        },
        {
         "name": "split1_test_score",
         "dtype": "float64",
         "stats": {
          "unique_count": 94,
          "nan_count": 0,
          "min": "-16588.551926868615",
          "max": "-0.8465109392454586",
          "histogram": [
           {
            "bin_start": -16588.551926868615,
            "bin_end": -14929.781385275677,
            "count": 1
           },
           {
            "bin_start": -14929.781385275677,
            "bin_end": -13271.010843682741,
            "count": 0
           },
           {
            "bin_start": -13271.010843682741,
            "bin_end": -11612.240302089804,
            "count": 0
           },
           {
            "bin_start": -11612.240302089804,
            "bin_end": -9953.469760496868,
            "count": 2
           },
           {
            "bin_start": -9953.469760496868,
            "bin_end": -8294.69921890393,
            "count": 0
           },
           {
            "bin_start": -8294.69921890393,
            "bin_end": -6635.9286773109925,
            "count": 0
           },
           {
            "bin_start": -6635.9286773109925,
            "bin_end": -4977.158135718057,
            "count": 0
           },
           {
            "bin_start": -4977.158135718057,
            "bin_end": -3318.387594125119,
            "count": 1
           },
           {
            "bin_start": -3318.387594125119,
            "bin_end": -1659.6170525321813,
            "count": 2
           },
           {
            "bin_start": -1659.6170525321813,
            "bin_end": -0.8465109392454586,
            "count": 94
           }
          ]
         }
        },
        {
         "name": "split2_test_score",
         "dtype": "float64",
         "stats": {
          "unique_count": 94,
          "nan_count": 0,
          "min": "-12406.235236979714",
          "max": "-1.4487450630659118",
          "histogram": [
           {
            "bin_start": -12406.235236979714,
            "bin_end": -11165.756587788048,
            "count": 1
           },
           {
            "bin_start": -11165.756587788048,
            "bin_end": -9925.277938596384,
            "count": 2
           },
           {
            "bin_start": -9925.277938596384,
            "bin_end": -8684.79928940472,
            "count": 0
           },
           {
            "bin_start": -8684.79928940472,
            "bin_end": -7444.3206402130545,
            "count": 0
           },
           {
            "bin_start": -7444.3206402130545,
            "bin_end": -6203.84199102139,
            "count": 0
           },
           {
            "bin_start": -6203.84199102139,
            "bin_end": -4963.363341829725,
            "count": 0
           },
           {
            "bin_start": -4963.363341829725,
            "bin_end": -3722.8846926380593,
            "count": 0
           },
           {
            "bin_start": -3722.8846926380593,
            "bin_end": -2482.4060434463954,
            "count": 3
           },
           {
            "bin_start": -2482.4060434463954,
            "bin_end": -1241.9273942547316,
            "count": 0
           },
           {
            "bin_start": -1241.9273942547316,
            "bin_end": -1.4487450630659118,
            "count": 94
           }
          ]
         }
        },
        {
         "name": "split3_test_score",
         "dtype": "float64",
         "stats": {
          "unique_count": 94,
          "nan_count": 0,
          "min": "-17736.98179415481",
          "max": "-1.0777933586784976",
          "histogram": [
           {
            "bin_start": -17736.98179415481,
            "bin_end": -15963.391394075197,
            "count": 1
           },
           {
            "bin_start": -15963.391394075197,
            "bin_end": -14189.800993995585,
            "count": 0
           },
           {
            "bin_start": -14189.800993995585,
            "bin_end": -12416.21059391597,
            "count": 0
           },
           {
            "bin_start": -12416.21059391597,
            "bin_end": -10642.620193836357,
            "count": 0
           },
           {
            "bin_start": -10642.620193836357,
            "bin_end": -8869.029793756745,
            "count": 2
           },
           {
            "bin_start": -8869.029793756745,
            "bin_end": -7095.43939367713,
            "count": 0
           },
           {
            "bin_start": -7095.43939367713,
            "bin_end": -5321.848993597518,
            "count": 0
           },
           {
            "bin_start": -5321.848993597518,
            "bin_end": -3548.258593517905,
            "count": 1
           },
           {
            "bin_start": -3548.258593517905,
            "bin_end": -1774.6681934382923,
            "count": 2
           },
           {
            "bin_start": -1774.6681934382923,
            "bin_end": -1.0777933586784976,
            "count": 94
           }
          ]
         }
        },
        {
         "name": "split4_test_score",
         "dtype": "float64",
         "stats": {
          "unique_count": 94,
          "nan_count": 0,
          "min": "-19549.86764270121",
          "max": "-0.8682720700536943",
          "histogram": [
           {
            "bin_start": -19549.86764270121,
            "bin_end": -17594.967705638093,
            "count": 1
           },
           {
            "bin_start": -17594.967705638093,
            "bin_end": -15640.06776857498,
            "count": 0
           },
           {
            "bin_start": -15640.06776857498,
            "bin_end": -13685.167831511862,
            "count": 0
           },
           {
            "bin_start": -13685.167831511862,
            "bin_end": -11730.267894448747,
            "count": 0
           },
           {
            "bin_start": -11730.267894448747,
            "bin_end": -9775.367957385632,
            "count": 0
           },
           {
            "bin_start": -9775.367957385632,
            "bin_end": -7820.468020322514,
            "count": 2
           },
           {
            "bin_start": -7820.468020322514,
            "bin_end": -5865.568083259399,
            "count": 0
           },
           {
            "bin_start": -5865.568083259399,
            "bin_end": -3910.6681461962835,
            "count": 1
           },
           {
            "bin_start": -3910.6681461962835,
            "bin_end": -1955.7682091331662,
            "count": 2
           },
           {
            "bin_start": -1955.7682091331662,
            "bin_end": -0.8682720700536943,
            "count": 94
           }
          ]
         }
        },
        {
         "name": "split5_test_score",
         "dtype": "float64",
         "stats": {
          "unique_count": 94,
          "nan_count": 0,
          "min": "-14260.190348186772",
          "max": "-0.9534396287933519",
          "histogram": [
           {
            "bin_start": -14260.190348186772,
            "bin_end": -12834.266657330974,
            "count": 1
           },
           {
            "bin_start": -12834.266657330974,
            "bin_end": -11408.342966475177,
            "count": 0
           },
           {
            "bin_start": -11408.342966475177,
            "bin_end": -9982.419275619377,
            "count": 0
           },
           {
            "bin_start": -9982.419275619377,
            "bin_end": -8556.49558476358,
            "count": 2
           },
           {
            "bin_start": -8556.49558476358,
            "bin_end": -7130.571893907782,
            "count": 0
           },
           {
            "bin_start": -7130.571893907782,
            "bin_end": -5704.648203051984,
            "count": 0
           },
           {
            "bin_start": -5704.648203051984,
            "bin_end": -4278.724512196186,
            "count": 0
           },
           {
            "bin_start": -4278.724512196186,
            "bin_end": -2852.800821340388,
            "count": 1
           },
           {
            "bin_start": -2852.800821340388,
            "bin_end": -1426.8771304845905,
            "count": 2
           },
           {
            "bin_start": -1426.8771304845905,
            "bin_end": -0.9534396287933519,
            "count": 94
           }
          ]
         }
        },
        {
         "name": "split6_test_score",
         "dtype": "float64",
         "stats": {
          "unique_count": 94,
          "nan_count": 0,
          "min": "-17050.273255385597",
          "max": "-1.1558370221452716",
          "histogram": [
           {
            "bin_start": -17050.273255385597,
            "bin_end": -15345.361513549251,
            "count": 1
           },
           {
            "bin_start": -15345.361513549251,
            "bin_end": -13640.449771712907,
            "count": 0
           },
           {
            "bin_start": -13640.449771712907,
            "bin_end": -11935.538029876561,
            "count": 0
           },
           {
            "bin_start": -11935.538029876561,
            "bin_end": -10230.626288040217,
            "count": 0
           },
           {
            "bin_start": -10230.626288040217,
            "bin_end": -8525.714546203872,
            "count": 2
           },
           {
            "bin_start": -8525.714546203872,
            "bin_end": -6820.802804367526,
            "count": 0
           },
           {
            "bin_start": -6820.802804367526,
            "bin_end": -5115.891062531182,
            "count": 0
           },
           {
            "bin_start": -5115.891062531182,
            "bin_end": -3410.979320694836,
            "count": 1
           },
           {
            "bin_start": -3410.979320694836,
            "bin_end": -1706.0675788584904,
            "count": 2
           },
           {
            "bin_start": -1706.0675788584904,
            "bin_end": -1.1558370221452716,
            "count": 94
           }
          ]
         }
        },
        {
         "name": "split7_test_score",
         "dtype": "float64",
         "stats": {
          "unique_count": 94,
          "nan_count": 0,
          "min": "-17097.53807982424",
          "max": "-1.1308297749508613",
          "histogram": [
           {
            "bin_start": -17097.53807982424,
            "bin_end": -15387.897354819312,
            "count": 1
           },
           {
            "bin_start": -15387.897354819312,
            "bin_end": -13678.256629814383,
            "count": 0
           },
           {
            "bin_start": -13678.256629814383,
            "bin_end": -11968.615904809452,
            "count": 0
           },
           {
            "bin_start": -11968.615904809452,
            "bin_end": -10258.975179804524,
            "count": 0
           },
           {
            "bin_start": -10258.975179804524,
            "bin_end": -8549.334454799595,
            "count": 2
           },
           {
            "bin_start": -8549.334454799595,
            "bin_end": -6839.693729794664,
            "count": 0
           },
           {
            "bin_start": -6839.693729794664,
            "bin_end": -5130.0530047897355,
            "count": 0
           },
           {
            "bin_start": -5130.0530047897355,
            "bin_end": -3420.4122797848067,
            "count": 1
           },
           {
            "bin_start": -3420.4122797848067,
            "bin_end": -1710.771554779878,
            "count": 2
           },
           {
            "bin_start": -1710.771554779878,
            "bin_end": -1.1308297749508613,
            "count": 94
           }
          ]
         }
        },
        {
         "name": "split8_test_score",
         "dtype": "float64",
         "stats": {
          "unique_count": 94,
          "nan_count": 0,
          "min": "-18212.17056738471",
          "max": "-1.0799150396162074",
          "histogram": [
           {
            "bin_start": -18212.17056738471,
            "bin_end": -16391.0615021502,
            "count": 1
           },
           {
            "bin_start": -16391.0615021502,
            "bin_end": -14569.952436915692,
            "count": 0
           },
           {
            "bin_start": -14569.952436915692,
            "bin_end": -12748.843371681181,
            "count": 0
           },
           {
            "bin_start": -12748.843371681181,
            "bin_end": -10927.734306446673,
            "count": 0
           },
           {
            "bin_start": -10927.734306446673,
            "bin_end": -9106.625241212163,
            "count": 0
           },
           {
            "bin_start": -9106.625241212163,
            "bin_end": -7285.516175977653,
            "count": 2
           },
           {
            "bin_start": -7285.516175977653,
            "bin_end": -5464.407110743145,
            "count": 0
           },
           {
            "bin_start": -5464.407110743145,
            "bin_end": -3643.2980455086345,
            "count": 1
           },
           {
            "bin_start": -3643.2980455086345,
            "bin_end": -1822.1889802741243,
            "count": 2
           },
           {
            "bin_start": -1822.1889802741243,
            "bin_end": -1.0799150396162074,
            "count": 94
           }
          ]
         }
        },
        {
         "name": "split9_test_score",
         "dtype": "float64",
         "stats": {
          "unique_count": 94,
          "nan_count": 0,
          "min": "-20287.233809161946",
          "max": "-1.147730492219538",
          "histogram": [
           {
            "bin_start": -20287.233809161946,
            "bin_end": -18258.625201294974,
            "count": 1
           },
           {
            "bin_start": -18258.625201294974,
            "bin_end": -16230.016593428001,
            "count": 0
           },
           {
            "bin_start": -16230.016593428001,
            "bin_end": -14201.407985561027,
            "count": 0
           },
           {
            "bin_start": -14201.407985561027,
            "bin_end": -12172.799377694055,
            "count": 0
           },
           {
            "bin_start": -12172.799377694055,
            "bin_end": -10144.190769827082,
            "count": 0
           },
           {
            "bin_start": -10144.190769827082,
            "bin_end": -8115.582161960108,
            "count": 2
           },
           {
            "bin_start": -8115.582161960108,
            "bin_end": -6086.973554093136,
            "count": 0
           },
           {
            "bin_start": -6086.973554093136,
            "bin_end": -4058.3649462261637,
            "count": 1
           },
           {
            "bin_start": -4058.3649462261637,
            "bin_end": -2029.7563383591914,
            "count": 2
           },
           {
            "bin_start": -2029.7563383591914,
            "bin_end": -1.147730492219538,
            "count": 94
           }
          ]
         }
        },
        {
         "name": "mean_test_score",
         "dtype": "float64",
         "stats": {
          "unique_count": 94,
          "nan_count": 0,
          "min": "-16095.530007247708",
          "max": "-1.1112020673369691",
          "histogram": [
           {
            "bin_start": -16095.530007247708,
            "bin_end": -14486.08812672967,
            "count": 1
           },
           {
            "bin_start": -14486.08812672967,
            "bin_end": -12876.646246211632,
            "count": 0
           },
           {
            "bin_start": -12876.646246211632,
            "bin_end": -11267.204365693597,
            "count": 0
           },
           {
            "bin_start": -11267.204365693597,
            "bin_end": -9657.762485175559,
            "count": 0
           },
           {
            "bin_start": -9657.762485175559,
            "bin_end": -8048.3206046575215,
            "count": 2
           },
           {
            "bin_start": -8048.3206046575215,
            "bin_end": -6438.878724139486,
            "count": 0
           },
           {
            "bin_start": -6438.878724139486,
            "bin_end": -4829.436843621448,
            "count": 0
           },
           {
            "bin_start": -4829.436843621448,
            "bin_end": -3219.9949631034106,
            "count": 1
           },
           {
            "bin_start": -3219.9949631034106,
            "bin_end": -1610.553082585373,
            "count": 2
           },
           {
            "bin_start": -1610.553082585373,
            "bin_end": -1.1112020673369691,
            "count": 94
           }
          ]
         }
        },
        {
         "name": "std_test_score",
         "dtype": "float64",
         "stats": {
          "unique_count": 94,
          "nan_count": 0,
          "min": "0.1598778423296116",
          "max": "3538.2500687159586",
          "histogram": [
           {
            "bin_start": 0.1598778423296116,
            "bin_end": 353.9688969296925,
            "count": 96
           },
           {
            "bin_start": 353.9688969296925,
            "bin_end": 707.7779160170554,
            "count": 1
           },
           {
            "bin_start": 707.7779160170554,
            "bin_end": 1061.5869351044184,
            "count": 2
           },
           {
            "bin_start": 1061.5869351044184,
            "bin_end": 1415.3959541917814,
            "count": 0
           },
           {
            "bin_start": 1415.3959541917814,
            "bin_end": 1769.2049732791443,
            "count": 0
           },
           {
            "bin_start": 1769.2049732791443,
            "bin_end": 2123.013992366507,
            "count": 0
           },
           {
            "bin_start": 2123.013992366507,
            "bin_end": 2476.82301145387,
            "count": 0
           },
           {
            "bin_start": 2476.82301145387,
            "bin_end": 2830.632030541233,
            "count": 0
           },
           {
            "bin_start": 2830.632030541233,
            "bin_end": 3184.4410496285955,
            "count": 0
           },
           {
            "bin_start": 3184.4410496285955,
            "bin_end": 3538.2500687159586,
            "count": 1
           }
          ]
         }
        },
        {
         "name": "rank_test_score",
         "dtype": "int32",
         "stats": {
          "unique_count": 94,
          "nan_count": 0,
          "min": "1",
          "max": "100",
          "histogram": [
           {
            "bin_start": 1,
            "bin_end": 10.9,
            "count": 10
           },
           {
            "bin_start": 10.9,
            "bin_end": 20.8,
            "count": 10
           },
           {
            "bin_start": 20.8,
            "bin_end": 30.700000000000003,
            "count": 10
           },
           {
            "bin_start": 30.700000000000003,
            "bin_end": 40.6,
            "count": 12
           },
           {
            "bin_start": 40.6,
            "bin_end": 50.5,
            "count": 8
           },
           {
            "bin_start": 50.5,
            "bin_end": 60.400000000000006,
            "count": 10
           },
           {
            "bin_start": 60.400000000000006,
            "bin_end": 70.3,
            "count": 10
           },
           {
            "bin_start": 70.3,
            "bin_end": 80.2,
            "count": 10
           },
           {
            "bin_start": 80.2,
            "bin_end": 90.10000000000001,
            "count": 10
           },
           {
            "bin_start": 90.10000000000001,
            "bin_end": 100,
            "count": 10
           }
          ]
         }
        },
        {
         "name": "_deepnote_index_column",
         "dtype": "int64"
        }
       ],
       "rows": [
        {
         "mean_fit_time": 0.31428303718566897,
         "std_fit_time": 0.029167249340732143,
         "mean_score_time": 0.03334400653839111,
         "std_score_time": 0.009376556282227203,
         "param_reg__estimator__kernel": "rbf",
         "param_reg__estimator__gamma": "1",
         "param_reg__estimator__epsilon": "0.5",
         "param_reg__estimator__C": "0.8",
         "params": "{'reg__estimator__kernel': 'rbf', 'reg__estimator__gamma': 1, 'reg__estimator__epsilon': 0.5, 'reg_…",
         "split0_test_score": -6.587775118703607,
         "split1_test_score": -5.586125749014849,
         "split2_test_score": -6.200526766943727,
         "split3_test_score": -5.390606303036781,
         "split4_test_score": -4.887807118938504,
         "split5_test_score": -6.06196604244231,
         "split6_test_score": -5.625449002223769,
         "split7_test_score": -5.134024299185782,
         "split8_test_score": -5.188961636795302,
         "split9_test_score": -6.222389110131607,
         "mean_test_score": -5.6885631147416245,
         "std_test_score": 0.528835429532774,
         "rank_test_score": 67,
         "_deepnote_index_column": 0
        },
        {
         "mean_fit_time": 0.44528796672821047,
         "std_fit_time": 0.04748558894423377,
         "mean_score_time": 0.03360714912414551,
         "std_score_time": 0.011873164061379888,
         "param_reg__estimator__kernel": "sigmoid",
         "param_reg__estimator__gamma": "0.1",
         "param_reg__estimator__epsilon": "0",
         "param_reg__estimator__C": "2",
         "params": "{'reg__estimator__kernel': 'sigmoid', 'reg__estimator__gamma': 0.1, 'reg__estimator__epsilon': 0, '…",
         "split0_test_score": -339.6883273035281,
         "split1_test_score": -430.95781696346046,
         "split2_test_score": -418.7899879348022,
         "split3_test_score": -378.8326063766681,
         "split4_test_score": -341.69525640269643,
         "split5_test_score": -345.4584155594706,
         "split6_test_score": -358.9531484327464,
         "split7_test_score": -373.7716520430505,
         "split8_test_score": -380.4634493486865,
         "split9_test_score": -389.00006371144093,
         "mean_test_score": -375.761072407655,
         "std_test_score": 29.616589295164463,
         "rank_test_score": 94,
         "_deepnote_index_column": 1
        },
        {
         "mean_fit_time": 0.40184047222137453,
         "std_fit_time": 0.03179216851663021,
         "mean_score_time": 0.016514039039611815,
         "std_score_time": 0.006321511208613494,
         "param_reg__estimator__kernel": "linear",
         "param_reg__estimator__gamma": "0.1",
         "param_reg__estimator__epsilon": "0.01",
         "param_reg__estimator__C": "1",
         "params": "{'reg__estimator__kernel': 'linear', 'reg__estimator__gamma': 0.1, 'reg__estimator__epsilon': 0.01,…",
         "split0_test_score": -2.6039375476395494,
         "split1_test_score": -2.3076432411799193,
         "split2_test_score": -2.6442064863365626,
         "split3_test_score": -2.3264484880400023,
         "split4_test_score": -2.032433951736393,
         "split5_test_score": -2.3910716890029,
         "split6_test_score": -2.4110001168486725,
         "split7_test_score": -2.4845798977164804,
         "split8_test_score": -2.276472313182713,
         "split9_test_score": -2.281646689383556,
         "mean_test_score": -2.375944042106675,
         "std_test_score": 0.1676621328153389,
         "rank_test_score": 36,
         "_deepnote_index_column": 2
        },
        {
         "mean_fit_time": 0.477794885635376,
         "std_fit_time": 0.04219409681406064,
         "mean_score_time": 0.03781864643096924,
         "std_score_time": 0.008588079393003501,
         "param_reg__estimator__kernel": "sigmoid",
         "param_reg__estimator__gamma": "1",
         "param_reg__estimator__epsilon": "1",
         "param_reg__estimator__C": "0.1",
         "params": "{'reg__estimator__kernel': 'sigmoid', 'reg__estimator__gamma': 1, 'reg__estimator__epsilon': 1, 're…",
         "split0_test_score": -96.67249882927689,
         "split1_test_score": -185.01833308979326,
         "split2_test_score": -140.53581863240737,
         "split3_test_score": -188.44979309204138,
         "split4_test_score": -182.6856303055826,
         "split5_test_score": -138.87035161356738,
         "split6_test_score": -169.10481587886915,
         "split7_test_score": -173.1974138401292,
         "split8_test_score": -185.14500643345588,
         "split9_test_score": -194.06342435125677,
         "mean_test_score": -165.37430860663798,
         "std_test_score": 29.234329209065788,
         "rank_test_score": 92,
         "_deepnote_index_column": 3
        },
        {
         "mean_fit_time": 0.16662681102752686,
         "std_fit_time": 0.019738927093021264,
         "mean_score_time": 0.015871596336364747,
         "std_score_time": 0.009182943765089607,
         "param_reg__estimator__kernel": "linear",
         "param_reg__estimator__gamma": "0.1",
         "param_reg__estimator__epsilon": "1",
         "param_reg__estimator__C": "0.1",
         "params": "{'reg__estimator__kernel': 'linear', 'reg__estimator__gamma': 0.1, 'reg__estimator__epsilon': 1, 'r…",
         "split0_test_score": -2.5604912823336816,
         "split1_test_score": -2.306656077862826,
         "split2_test_score": -2.5680676184381066,
         "split3_test_score": -2.326736016704602,
         "split4_test_score": -1.9775565020782198,
         "split5_test_score": -2.3822714082168965,
         "split6_test_score": -2.429899420858505,
         "split7_test_score": -2.5241006750557293,
         "split8_test_score": -2.2741221773482105,
         "split9_test_score": -2.250033413819838,
         "mean_test_score": -2.359993459271662,
         "std_test_score": 0.1689623064876879,
         "rank_test_score": 19,
         "_deepnote_index_column": 4
        },
        {
         "mean_fit_time": 0.8318893671035766,
         "std_fit_time": 0.07016198098045039,
         "mean_score_time": 0.04655735492706299,
         "std_score_time": 0.013892860211775077,
         "param_reg__estimator__kernel": "rbf",
         "param_reg__estimator__gamma": "1",
         "param_reg__estimator__epsilon": "0.01",
         "param_reg__estimator__C": "10",
         "params": "{'reg__estimator__kernel': 'rbf', 'reg__estimator__gamma': 1, 'reg__estimator__epsilon': 0.01, 'reg…",
         "split0_test_score": -3.068547902948289,
         "split1_test_score": -2.6069374040413793,
         "split2_test_score": -3.3213923419505993,
         "split3_test_score": -2.6421503181846475,
         "split4_test_score": -2.2916236833706476,
         "split5_test_score": -2.502191958194526,
         "split6_test_score": -2.603855336184147,
         "split7_test_score": -2.585008249864096,
         "split8_test_score": -2.8653491003522156,
         "split9_test_score": -3.0148595421803224,
         "mean_test_score": -2.7501915837270863,
         "std_test_score": 0.2938731484399927,
         "rank_test_score": 54,
         "_deepnote_index_column": 5
        },
        {
         "mean_fit_time": 0.4139640092849731,
         "std_fit_time": 0.030625347961950496,
         "mean_score_time": 0.019256973266601564,
         "std_score_time": 0.008389255066726553,
         "param_reg__estimator__kernel": "linear",
         "param_reg__estimator__gamma": "1e-05",
         "param_reg__estimator__epsilon": "0",
         "param_reg__estimator__C": "1",
         "params": "{'reg__estimator__kernel': 'linear', 'reg__estimator__gamma': 1e-05, 'reg__estimator__epsilon': 0, …",
         "split0_test_score": -2.6020610967700155,
         "split1_test_score": -2.309145568440796,
         "split2_test_score": -2.6453948149927884,
         "split3_test_score": -2.3262944239069223,
         "split4_test_score": -2.0298969182971907,
         "split5_test_score": -2.3940622659797874,
         "split6_test_score": -2.4129078696594144,
         "split7_test_score": -2.483469369905074,
         "split8_test_score": -2.275917318788515,
         "split9_test_score": -2.282668963065832,
         "mean_test_score": -2.3761818609806333,
         "std_test_score": 0.1680385922514022,
         "rank_test_score": 39,
         "_deepnote_index_column": 6
        },
        {
         "mean_fit_time": 0.21596016883850097,
         "std_fit_time": 0.015271104461047812,
         "mean_score_time": 0.027825546264648438,
         "std_score_time": 0.011412825710572769,
         "param_reg__estimator__kernel": "rbf",
         "param_reg__estimator__gamma": "0.001",
         "param_reg__estimator__epsilon": "1",
         "param_reg__estimator__C": "0.8",
         "params": "{'reg__estimator__kernel': 'rbf', 'reg__estimator__gamma': 0.001, 'reg__estimator__epsilon': 1, 're…",
         "split0_test_score": -5.101464418249343,
         "split1_test_score": -4.836177487312303,
         "split2_test_score": -4.444855631071948,
         "split3_test_score": -4.703792736045582,
         "split4_test_score": -3.759143276109803,
         "split5_test_score": -5.017729849240572,
         "split6_test_score": -5.048121952608049,
         "split7_test_score": -4.897312146824195,
         "split8_test_score": -4.465768040426213,
         "split9_test_score": -4.3814605070236325,
         "mean_test_score": -4.6655826044911635,
         "std_test_score": 0.39186758969178953,
         "rank_test_score": 63,
         "_deepnote_index_column": 7
        },
        {
         "mean_fit_time": 0.2594160795211792,
         "std_fit_time": 0.025164595942032474,
         "mean_score_time": 0.02991766929626465,
         "std_score_time": 0.011813990370675636,
         "param_reg__estimator__kernel": "rbf",
         "param_reg__estimator__gamma": "0.1",
         "param_reg__estimator__epsilon": "0.5",
         "param_reg__estimator__C": "0.8",
         "params": "{'reg__estimator__kernel': 'rbf', 'reg__estimator__gamma': 0.1, 'reg__estimator__epsilon': 0.5, 're…",
         "split0_test_score": -1.4596523073011578,
         "split1_test_score": -0.9270844123135522,
         "split2_test_score": -1.509629579691251,
         "split3_test_score": -1.1435676665685328,
         "split4_test_score": -0.8941665701543581,
         "split5_test_score": -0.993589416583962,
         "split6_test_score": -1.20374764687904,
         "split7_test_score": -1.2090055925062138,
         "split8_test_score": -1.146402532276113,
         "split9_test_score": -1.3166922680146238,
         "mean_test_score": -1.1803537992288804,
         "std_test_score": 0.1974390859960585,
         "rank_test_score": 9,
         "_deepnote_index_column": 8
        },
        {
         "mean_fit_time": 0.2719054460525513,
         "std_fit_time": 0.03446641866872884,
         "mean_score_time": 0.023636436462402342,
         "std_score_time": 0.005612541054024562,
         "param_reg__estimator__kernel": "rbf",
         "param_reg__estimator__gamma": "scale",
         "param_reg__estimator__epsilon": "0.5",
         "param_reg__estimator__C": "2",
         "params": "{'reg__estimator__kernel': 'rbf', 'reg__estimator__gamma': 'scale', 'reg__estimator__epsilon': 0.5,…",
         "split0_test_score": -1.3528141159947227,
         "split1_test_score": -0.8495918332431223,
         "split2_test_score": -1.4821242504519896,
         "split3_test_score": -1.0906573537609008,
         "split4_test_score": -0.8682720700536943,
         "split5_test_score": -0.9534396287933519,
         "split6_test_score": -1.1652926348693606,
         "split7_test_score": -1.1533598312308946,
         "split8_test_score": -1.0898400230635013,
         "split9_test_score": -1.235043593071727,
         "mean_test_score": -1.1240435334533267,
         "std_test_score": 0.1917218591818473,
         "rank_test_score": 2,
         "_deepnote_index_column": 9
        }
       ]
      },
      "text/plain": "    mean_fit_time  std_fit_time  mean_score_time  std_score_time  \\\n0        0.314283      0.029167         0.033344        0.009377   \n1        0.445288      0.047486         0.033607        0.011873   \n2        0.401840      0.031792         0.016514        0.006322   \n3        0.477795      0.042194         0.037819        0.008588   \n4        0.166627      0.019739         0.015872        0.009183   \n..            ...           ...              ...             ...   \n95       0.363024      0.054132         0.037809        0.013790   \n96       0.046744      0.012381         0.009035        0.007752   \n97       0.311305      0.090612         0.028943        0.011942   \n98       0.236294      0.013466         0.011044        0.007281   \n99       0.030225      0.011474         0.009328        0.009683   \n\n   param_reg__estimator__kernel param_reg__estimator__gamma  \\\n0                           rbf                           1   \n1                       sigmoid                         0.1   \n2                        linear                         0.1   \n3                       sigmoid                           1   \n4                        linear                         0.1   \n..                          ...                         ...   \n95                          rbf                           1   \n96                          rbf                       scale   \n97                      sigmoid                      0.0001   \n98                       linear                       0.001   \n99                          rbf                       scale   \n\n   param_reg__estimator__epsilon param_reg__estimator__C  \\\n0                            0.5                     0.8   \n1                              0                       2   \n2                           0.01                       1   \n3                              1                     0.1   \n4                              1                     0.1   \n..                           ...                     ...   \n95                             0                     0.9   \n96                             2                     0.5   \n97                          0.01                     0.5   \n98                           0.1                       1   \n99                             2                       1   \n\n                                               params  split0_test_score  ...  \\\n0   {'reg__estimator__kernel': 'rbf', 'reg__estima...          -6.587775  ...   \n1   {'reg__estimator__kernel': 'sigmoid', 'reg__es...        -339.688327  ...   \n2   {'reg__estimator__kernel': 'linear', 'reg__est...          -2.603938  ...   \n3   {'reg__estimator__kernel': 'sigmoid', 'reg__es...         -96.672499  ...   \n4   {'reg__estimator__kernel': 'linear', 'reg__est...          -2.560491  ...   \n..                                                ...                ...  ...   \n95  {'reg__estimator__kernel': 'rbf', 'reg__estima...          -6.159000  ...   \n96  {'reg__estimator__kernel': 'rbf', 'reg__estima...          -2.000855  ...   \n97  {'reg__estimator__kernel': 'sigmoid', 'reg__es...         -30.850422  ...   \n98  {'reg__estimator__kernel': 'linear', 'reg__est...          -2.602501  ...   \n99  {'reg__estimator__kernel': 'rbf', 'reg__estima...          -1.843314  ...   \n\n    split3_test_score  split4_test_score  split5_test_score  \\\n0           -5.390606          -4.887807          -6.061966   \n1         -378.832606        -341.695256        -345.458416   \n2           -2.326448          -2.032434          -2.391072   \n3         -188.449793        -182.685630        -138.870352   \n4           -2.326736          -1.977557          -2.382271   \n..                ...                ...                ...   \n95          -5.006779          -4.491135          -5.599712   \n96          -1.648558          -1.347663          -1.473622   \n97         -27.822164         -26.410435         -31.046835   \n98          -2.314353          -2.030210          -2.383227   \n99          -1.467007          -1.219166          -1.322349   \n\n    split6_test_score  split7_test_score  split8_test_score  \\\n0           -5.625449          -5.134024          -5.188962   \n1         -358.953148        -373.771652        -380.463449   \n2           -2.411000          -2.484580          -2.276472   \n3         -169.104816        -173.197414        -185.145006   \n4           -2.429899          -2.524101          -2.274122   \n..                ...                ...                ...   \n95          -5.242466          -4.717016          -4.773018   \n96          -1.823288          -1.789024          -1.672058   \n97         -29.201792         -29.789207         -27.629102   \n98          -2.408617          -2.490560          -2.269912   \n99          -1.663992          -1.618444          -1.495649   \n\n    split9_test_score  mean_test_score  std_test_score  rank_test_score  \n0           -6.222389        -5.688563        0.528835               67  \n1         -389.000064      -375.761072       29.616589               94  \n2           -2.281647        -2.375944        0.167662               36  \n3         -194.063424      -165.374309       29.234329               92  \n4           -2.250033        -2.359993        0.168962               19  \n..                ...              ...             ...              ...  \n95          -5.794432        -5.275697        0.523316               65  \n96          -1.781387        -1.712914        0.204205               15  \n97         -26.873110       -28.588302        1.526241               81  \n98          -2.291521        -2.373809        0.167938               31  \n99          -1.611942        -1.550724        0.199847               13  \n\n[100 rows x 22 columns]",
      "text/html": "<div>\n<style scoped>\n    .dataframe tbody tr th:only-of-type {\n        vertical-align: middle;\n    }\n\n    .dataframe tbody tr th {\n        vertical-align: top;\n    }\n\n    .dataframe thead th {\n        text-align: right;\n    }\n</style>\n<table border=\"1\" class=\"dataframe\">\n  <thead>\n    <tr style=\"text-align: right;\">\n      <th></th>\n      <th>mean_fit_time</th>\n      <th>std_fit_time</th>\n      <th>mean_score_time</th>\n      <th>std_score_time</th>\n      <th>param_reg__estimator__kernel</th>\n      <th>param_reg__estimator__gamma</th>\n      <th>param_reg__estimator__epsilon</th>\n      <th>param_reg__estimator__C</th>\n      <th>params</th>\n      <th>split0_test_score</th>\n      <th>...</th>\n      <th>split3_test_score</th>\n      <th>split4_test_score</th>\n      <th>split5_test_score</th>\n      <th>split6_test_score</th>\n      <th>split7_test_score</th>\n      <th>split8_test_score</th>\n      <th>split9_test_score</th>\n      <th>mean_test_score</th>\n      <th>std_test_score</th>\n      <th>rank_test_score</th>\n    </tr>\n  </thead>\n  <tbody>\n    <tr>\n      <th>0</th>\n      <td>0.314283</td>\n      <td>0.029167</td>\n      <td>0.033344</td>\n      <td>0.009377</td>\n      <td>rbf</td>\n      <td>1</td>\n      <td>0.5</td>\n      <td>0.8</td>\n      <td>{'reg__estimator__kernel': 'rbf', 'reg__estima...</td>\n      <td>-6.587775</td>\n      <td>...</td>\n      <td>-5.390606</td>\n      <td>-4.887807</td>\n      <td>-6.061966</td>\n      <td>-5.625449</td>\n      <td>-5.134024</td>\n      <td>-5.188962</td>\n      <td>-6.222389</td>\n      <td>-5.688563</td>\n      <td>0.528835</td>\n      <td>67</td>\n    </tr>\n    <tr>\n      <th>1</th>\n      <td>0.445288</td>\n      <td>0.047486</td>\n      <td>0.033607</td>\n      <td>0.011873</td>\n      <td>sigmoid</td>\n      <td>0.1</td>\n      <td>0</td>\n      <td>2</td>\n      <td>{'reg__estimator__kernel': 'sigmoid', 'reg__es...</td>\n      <td>-339.688327</td>\n      <td>...</td>\n      <td>-378.832606</td>\n      <td>-341.695256</td>\n      <td>-345.458416</td>\n      <td>-358.953148</td>\n      <td>-373.771652</td>\n      <td>-380.463449</td>\n      <td>-389.000064</td>\n      <td>-375.761072</td>\n      <td>29.616589</td>\n      <td>94</td>\n    </tr>\n    <tr>\n      <th>2</th>\n      <td>0.401840</td>\n      <td>0.031792</td>\n      <td>0.016514</td>\n      <td>0.006322</td>\n      <td>linear</td>\n      <td>0.1</td>\n      <td>0.01</td>\n      <td>1</td>\n      <td>{'reg__estimator__kernel': 'linear', 'reg__est...</td>\n      <td>-2.603938</td>\n      <td>...</td>\n      <td>-2.326448</td>\n      <td>-2.032434</td>\n      <td>-2.391072</td>\n      <td>-2.411000</td>\n      <td>-2.484580</td>\n      <td>-2.276472</td>\n      <td>-2.281647</td>\n      <td>-2.375944</td>\n      <td>0.167662</td>\n      <td>36</td>\n    </tr>\n    <tr>\n      <th>3</th>\n      <td>0.477795</td>\n      <td>0.042194</td>\n      <td>0.037819</td>\n      <td>0.008588</td>\n      <td>sigmoid</td>\n      <td>1</td>\n      <td>1</td>\n      <td>0.1</td>\n      <td>{'reg__estimator__kernel': 'sigmoid', 'reg__es...</td>\n      <td>-96.672499</td>\n      <td>...</td>\n      <td>-188.449793</td>\n      <td>-182.685630</td>\n      <td>-138.870352</td>\n      <td>-169.104816</td>\n      <td>-173.197414</td>\n      <td>-185.145006</td>\n      <td>-194.063424</td>\n      <td>-165.374309</td>\n      <td>29.234329</td>\n      <td>92</td>\n    </tr>\n    <tr>\n      <th>4</th>\n      <td>0.166627</td>\n      <td>0.019739</td>\n      <td>0.015872</td>\n      <td>0.009183</td>\n      <td>linear</td>\n      <td>0.1</td>\n      <td>1</td>\n      <td>0.1</td>\n      <td>{'reg__estimator__kernel': 'linear', 'reg__est...</td>\n      <td>-2.560491</td>\n      <td>...</td>\n      <td>-2.326736</td>\n      <td>-1.977557</td>\n      <td>-2.382271</td>\n      <td>-2.429899</td>\n      <td>-2.524101</td>\n      <td>-2.274122</td>\n      <td>-2.250033</td>\n      <td>-2.359993</td>\n      <td>0.168962</td>\n      <td>19</td>\n    </tr>\n    <tr>\n      <th>...</th>\n      <td>...</td>\n      <td>...</td>\n      <td>...</td>\n      <td>...</td>\n      <td>...</td>\n      <td>...</td>\n      <td>...</td>\n      <td>...</td>\n      <td>...</td>\n      <td>...</td>\n      <td>...</td>\n      <td>...</td>\n      <td>...</td>\n      <td>...</td>\n      <td>...</td>\n      <td>...</td>\n      <td>...</td>\n      <td>...</td>\n      <td>...</td>\n      <td>...</td>\n      <td>...</td>\n    </tr>\n    <tr>\n      <th>95</th>\n      <td>0.363024</td>\n      <td>0.054132</td>\n      <td>0.037809</td>\n      <td>0.013790</td>\n      <td>rbf</td>\n      <td>1</td>\n      <td>0</td>\n      <td>0.9</td>\n      <td>{'reg__estimator__kernel': 'rbf', 'reg__estima...</td>\n      <td>-6.159000</td>\n      <td>...</td>\n      <td>-5.006779</td>\n      <td>-4.491135</td>\n      <td>-5.599712</td>\n      <td>-5.242466</td>\n      <td>-4.717016</td>\n      <td>-4.773018</td>\n      <td>-5.794432</td>\n      <td>-5.275697</td>\n      <td>0.523316</td>\n      <td>65</td>\n    </tr>\n    <tr>\n      <th>96</th>\n      <td>0.046744</td>\n      <td>0.012381</td>\n      <td>0.009035</td>\n      <td>0.007752</td>\n      <td>rbf</td>\n      <td>scale</td>\n      <td>2</td>\n      <td>0.5</td>\n      <td>{'reg__estimator__kernel': 'rbf', 'reg__estima...</td>\n      <td>-2.000855</td>\n      <td>...</td>\n      <td>-1.648558</td>\n      <td>-1.347663</td>\n      <td>-1.473622</td>\n      <td>-1.823288</td>\n      <td>-1.789024</td>\n      <td>-1.672058</td>\n      <td>-1.781387</td>\n      <td>-1.712914</td>\n      <td>0.204205</td>\n      <td>15</td>\n    </tr>\n    <tr>\n      <th>97</th>\n      <td>0.311305</td>\n      <td>0.090612</td>\n      <td>0.028943</td>\n      <td>0.011942</td>\n      <td>sigmoid</td>\n      <td>0.0001</td>\n      <td>0.01</td>\n      <td>0.5</td>\n      <td>{'reg__estimator__kernel': 'sigmoid', 'reg__es...</td>\n      <td>-30.850422</td>\n      <td>...</td>\n      <td>-27.822164</td>\n      <td>-26.410435</td>\n      <td>-31.046835</td>\n      <td>-29.201792</td>\n      <td>-29.789207</td>\n      <td>-27.629102</td>\n      <td>-26.873110</td>\n      <td>-28.588302</td>\n      <td>1.526241</td>\n      <td>81</td>\n    </tr>\n    <tr>\n      <th>98</th>\n      <td>0.236294</td>\n      <td>0.013466</td>\n      <td>0.011044</td>\n      <td>0.007281</td>\n      <td>linear</td>\n      <td>0.001</td>\n      <td>0.1</td>\n      <td>1</td>\n      <td>{'reg__estimator__kernel': 'linear', 'reg__est...</td>\n      <td>-2.602501</td>\n      <td>...</td>\n      <td>-2.314353</td>\n      <td>-2.030210</td>\n      <td>-2.383227</td>\n      <td>-2.408617</td>\n      <td>-2.490560</td>\n      <td>-2.269912</td>\n      <td>-2.291521</td>\n      <td>-2.373809</td>\n      <td>0.167938</td>\n      <td>31</td>\n    </tr>\n    <tr>\n      <th>99</th>\n      <td>0.030225</td>\n      <td>0.011474</td>\n      <td>0.009328</td>\n      <td>0.009683</td>\n      <td>rbf</td>\n      <td>scale</td>\n      <td>2</td>\n      <td>1</td>\n      <td>{'reg__estimator__kernel': 'rbf', 'reg__estima...</td>\n      <td>-1.843314</td>\n      <td>...</td>\n      <td>-1.467007</td>\n      <td>-1.219166</td>\n      <td>-1.322349</td>\n      <td>-1.663992</td>\n      <td>-1.618444</td>\n      <td>-1.495649</td>\n      <td>-1.611942</td>\n      <td>-1.550724</td>\n      <td>0.199847</td>\n      <td>13</td>\n    </tr>\n  </tbody>\n</table>\n<p>100 rows × 22 columns</p>\n</div>"
     },
     "metadata": {}
    }
   ],
   "execution_count": null
  },
  {
   "cell_type": "code",
   "metadata": {
    "cell_id": "00016-10c240d5-0f04-463c-b63d-da4f7bdca2dc",
    "deepnote_to_be_reexecuted": false,
    "source_hash": "ce7b1537",
    "execution_start": 1642334691060,
    "execution_millis": 716,
    "deepnote_cell_type": "code"
   },
   "source": "C_BEST = optimal_par.best_params_['reg__estimator__C']\nGAMMA = optimal_par.best_params_['reg__estimator__gamma']\nKERNEL = optimal_par.best_params_['reg__estimator__kernel']\nEPSILON = optimal_par.best_params_['reg__estimator__epsilon']\n\nclf_svr_cup = SVR(C=C_BEST, gamma=GAMMA, kernel=KERNEL, epsilon=EPSILON)\nmor = MultiOutputRegressor(clf_svr_cup)\nmor.fit(X_train_scaled, y_train)\n\ntrain_pred = mor.predict(X_train_scaled)\nval_pred = mor.predict(X_val_scaled)",
   "outputs": [],
   "execution_count": null
  },
  {
   "cell_type": "code",
   "metadata": {
    "cell_id": "00017-30c30874-ad88-42b5-9110-cb61ede40415",
    "deepnote_to_be_reexecuted": false,
    "source_hash": "e82b7b53",
    "execution_start": 1642334691778,
    "execution_millis": 11,
    "deepnote_cell_type": "code"
   },
   "source": "mse_one = mean_squared_error(y_train, train_pred)\nprint(f'MSE for first regressor: {mse_one}')",
   "outputs": [
    {
     "name": "stdout",
     "text": "MSE for first regressor: 0.796452626908405\n",
     "output_type": "stream"
    }
   ],
   "execution_count": null
  },
  {
   "cell_type": "code",
   "metadata": {
    "cell_id": "00018-2716bc4c-4963-4a3d-9a4b-ccf1977e9fba",
    "deepnote_to_be_reexecuted": false,
    "source_hash": "24a18b7a",
    "execution_start": 1642334691796,
    "execution_millis": 6,
    "deepnote_cell_type": "code"
   },
   "source": "mse_two = mean_squared_error(y_validation, val_pred)\nprint(f'MSE for first regressor: {mse_two}')",
   "outputs": [
    {
     "name": "stdout",
     "text": "MSE for first regressor: 0.8491383204033143\n",
     "output_type": "stream"
    }
   ],
   "execution_count": null
  },
  {
   "cell_type": "code",
   "metadata": {
    "cell_id": "00019-4d0c42b1-947e-46db-bf73-3921d39bbb06",
    "deepnote_output_heights": [
     21.1875,
     264
    ],
    "deepnote_to_be_reexecuted": false,
    "source_hash": "c1117b61",
    "execution_start": 1642334691807,
    "execution_millis": 391,
    "deepnote_cell_type": "code"
   },
   "source": "plt.xlabel(\"x\")\nplt.ylabel(\"y\")\nplt.scatter(df_visual['x'], df_visual['y'])",
   "outputs": [
    {
     "output_type": "execute_result",
     "execution_count": 20,
     "data": {
      "text/plain": "<matplotlib.collections.PathCollection at 0x7fe4c5d8bed0>"
     },
     "metadata": {}
    },
    {
     "data": {
      "text/plain": "<Figure size 432x288 with 1 Axes>",
      "image/png": "[encoded data removed]"
     },
     "metadata": {
      "needs_background": "light",
      "image/png": {
       "width": 391,
       "height": 262
      }
     },
     "output_type": "display_data"
    }
   ],
   "execution_count": null
  },
  {
   "cell_type": "code",
   "metadata": {
    "cell_id": "00020-751c6890-20ce-45ac-9681-106bbb143b2d",
    "deepnote_to_be_reexecuted": false,
    "source_hash": "7d8752d4",
    "execution_start": 1642334692201,
    "execution_millis": 5,
    "deepnote_cell_type": "code"
   },
   "source": "def plot_coordinates(model, X, true_y = None):\n    y_predicted = model.predict(X)\n    y_predicted = pd.DataFrame(data=y_predicted, columns=[\"x\", \"y\"])\n    if not None:\n        true_y = pd.DataFrame(data=true_y, columns=[\"x\", \"y\"])\n        plt.scatter(true_y['x'], true_y['y'], c='r', marker='*')\n    plt.xlabel(\"x\")\n    plt.ylabel(\"y\")\n    plt.scatter(y_predicted['x'], y_predicted['y'], c='#1f77b4')",
   "outputs": [],
   "execution_count": null
  },
  {
   "cell_type": "code",
   "metadata": {
    "cell_id": "00021-1dd07d0c-c10f-4c06-9c23-b372cda8334a",
    "deepnote_output_heights": [
     264
    ],
    "deepnote_to_be_reexecuted": false,
    "source_hash": "8ee81e69",
    "execution_start": 1642334692208,
    "execution_millis": 376,
    "deepnote_cell_type": "code"
   },
   "source": "plot_coordinates(mor, X_val_scaled, y_validation)",
   "outputs": [
    {
     "data": {
      "text/plain": "<Figure size 432x288 with 1 Axes>",
      "image/png": "[encoded data removed]"
     },
     "metadata": {
      "needs_background": "light",
      "image/png": {
       "width": 391,
       "height": 262
      }
     },
     "output_type": "display_data"
    }
   ],
   "execution_count": null
  },
  {
   "cell_type": "code",
   "metadata": {
    "cell_id": "00022-f40e3d0f-e94d-4980-964d-51af313bab9e",
    "deepnote_output_heights": [
     264
    ],
    "deepnote_to_be_reexecuted": false,
    "source_hash": "e15b1fe3",
    "execution_start": 1642334692585,
    "execution_millis": 374,
    "deepnote_cell_type": "code"
   },
   "source": "plot_coordinates(mor, X_val_scaled)",
   "outputs": [
    {
     "data": {
      "text/plain": "<Figure size 432x288 with 1 Axes>",
      "image/png": "[encoded data removed]"
     },
     "metadata": {
      "needs_background": "light",
      "image/png": {
       "width": 391,
       "height": 262
      }
     },
     "output_type": "display_data"
    }
   ],
   "execution_count": null
  },
  {
   "cell_type": "code",
   "metadata": {
    "cell_id": "00023-21f599fc-013d-42b8-b9c5-5c2752b37977",
    "deepnote_output_heights": [
     264
    ],
    "deepnote_to_be_reexecuted": false,
    "source_hash": "d1ca145c",
    "execution_start": 1642334692960,
    "execution_millis": 596,
    "deepnote_cell_type": "code"
   },
   "source": "plot_coordinates(mor, X_all, y_all)",
   "outputs": [
    {
     "data": {
      "text/plain": "<Figure size 432x288 with 1 Axes>",
      "image/png": "[encoded data removed]"
     },
     "metadata": {
      "needs_background": "light",
      "image/png": {
       "width": 391,
       "height": 262
      }
     },
     "output_type": "display_data"
    }
   ],
   "execution_count": null
  },
  {
   "cell_type": "code",
   "metadata": {
    "scrolled": true,
    "cell_id": "00024-99dff680-a6ce-46e4-af04-86b6207217c5",
    "deepnote_output_heights": [
     264
    ],
    "deepnote_to_be_reexecuted": false,
    "source_hash": "c8ca61f2",
    "execution_start": 1642334693557,
    "execution_millis": 425,
    "deepnote_cell_type": "code"
   },
   "source": "plot_coordinates(mor, X_test_scaled)",
   "outputs": [
    {
     "data": {
      "text/plain": "<Figure size 432x288 with 1 Axes>",
      "image/png": "[encoded data removed]"
     },
     "metadata": {
      "needs_background": "light",
      "image/png": {
       "width": 391,
       "height": 262
      }
     },
     "output_type": "display_data"
    }
   ],
   "execution_count": null
  },
  {
   "cell_type": "code",
   "metadata": {
    "cell_id": "00025-1244dacd-42c4-44d4-a68b-792a11fde2c5",
    "deepnote_to_be_reexecuted": false,
    "source_hash": "45c54fcf",
    "execution_start": 1642334693987,
    "execution_millis": 27,
    "deepnote_cell_type": "code"
   },
   "source": "print(f\"Accuracy: {mor.score(X_val_scaled, y_validation)}\")\nprint(f\"MEE: {mee(y_validation.values, val_pred)}\")",
   "outputs": [
    {
     "name": "stdout",
     "text": "Accuracy: 0.9582132125208995\nMEE: 1.0426407156635356\n",
     "output_type": "stream"
    }
   ],
   "execution_count": null
  },
  {
   "cell_type": "markdown",
   "source": "### MEE scoring\nNow, we made a RandomizedSearchCV with mee scoring.",
   "metadata": {
    "cell_id": "00026-d6079cea-62dc-4ad2-99a0-1f30e7e4c0c5",
    "deepnote_cell_type": "markdown"
   }
  },
  {
   "cell_type": "code",
   "metadata": {
    "cell_id": "00027-b3245b64-6e9f-4412-bd58-e0f376e051db",
    "deepnote_to_be_reexecuted": false,
    "source_hash": "3051a0cd",
    "execution_start": 1642334694064,
    "execution_millis": 309048,
    "deepnote_cell_type": "code"
   },
   "source": "optimal_par_mee = RandomizedSearchCV(\n    estimator=pipe_svr,\n    param_distributions=grid_param_svr,\n    n_iter=100,\n    cv=10,\n    scoring=make_scorer(mee, greater_is_better=False),\n    verbose=0\n)\n\noptimal_par_mee.fit(X_train_scaled, y_train.values)\nprint(optimal_par_mee.best_params_)",
   "outputs": [
    {
     "name": "stdout",
     "text": "{'reg__estimator__kernel': 'rbf', 'reg__estimator__gamma': 0.1, 'reg__estimator__epsilon': 0.5, 'reg__estimator__C': 10}\n",
     "output_type": "stream"
    }
   ],
   "execution_count": null
  },
  {
   "cell_type": "code",
   "metadata": {
    "cell_id": "00028-c920f334-95bd-473c-b2ac-f26d6005c5a2",
    "deepnote_output_heights": [
     21.1875
    ],
    "deepnote_to_be_reexecuted": false,
    "source_hash": "188bb6c0",
    "execution_start": 1642335003111,
    "execution_millis": 258,
    "deepnote_cell_type": "code"
   },
   "source": "best_model = optimal_par_mee.best_estimator_\nbest_model.fit(X_train_scaled, y_train)\nbest_model.score(X_val_scaled, y_validation)",
   "outputs": [
    {
     "output_type": "execute_result",
     "execution_count": 28,
     "data": {
      "text/plain": "0.9589373356596956"
     },
     "metadata": {}
    }
   ],
   "execution_count": null
  },
  {
   "cell_type": "code",
   "metadata": {
    "cell_id": "00029-110ea4a3-3602-4b94-8685-2e9551db725b",
    "deepnote_output_heights": [
     382.1875
    ],
    "deepnote_to_be_reexecuted": false,
    "source_hash": "6c6c76b1",
    "execution_start": 1642335003379,
    "execution_millis": 223,
    "deepnote_cell_type": "code"
   },
   "source": "df_results_cup = pd.DataFrame(data=optimal_par_mee.cv_results_) #trasform into a pandas dataframe\ndf_results_cup",
   "outputs": [
    {
     "output_type": "execute_result",
     "execution_count": 29,
     "data": {
      "application/vnd.deepnote.dataframe.v3+json": {
       "column_count": 22,
       "row_count": 100,
       "columns": [
        {
         "name": "mean_fit_time",
         "dtype": "float64",
         "stats": {
          "unique_count": 100,
          "nan_count": 0,
          "min": "0.041064214706420896",
          "max": "1.2829740285873412",
          "histogram": [
           {
            "bin_start": 0.041064214706420896,
            "bin_end": 0.16525519609451295,
            "count": 25
           },
           {
            "bin_start": 0.16525519609451295,
            "bin_end": 0.289446177482605,
            "count": 34
           },
           {
            "bin_start": 0.289446177482605,
            "bin_end": 0.413637158870697,
            "count": 26
           },
           {
            "bin_start": 0.413637158870697,
            "bin_end": 0.537828140258789,
            "count": 8
           },
           {
            "bin_start": 0.537828140258789,
            "bin_end": 0.662019121646881,
            "count": 2
           },
           {
            "bin_start": 0.662019121646881,
            "bin_end": 0.7862101030349731,
            "count": 4
           },
           {
            "bin_start": 0.7862101030349731,
            "bin_end": 0.9104010844230651,
            "count": 0
           },
           {
            "bin_start": 0.9104010844230651,
            "bin_end": 1.0345920658111571,
            "count": 0
           },
           {
            "bin_start": 1.0345920658111571,
            "bin_end": 1.1587830471992493,
            "count": 0
           },
           {
            "bin_start": 1.1587830471992493,
            "bin_end": 1.2829740285873412,
            "count": 1
           }
          ]
         }
        },
        {
         "name": "std_fit_time",
         "dtype": "float64",
         "stats": {
          "unique_count": 100,
          "nan_count": 0,
          "min": "0.0018762833243795472",
          "max": "0.18489389921384486",
          "histogram": [
           {
            "bin_start": 0.0018762833243795472,
            "bin_end": 0.020178044913326077,
            "count": 47
           },
           {
            "bin_start": 0.020178044913326077,
            "bin_end": 0.03847980650227261,
            "count": 27
           },
           {
            "bin_start": 0.03847980650227261,
            "bin_end": 0.05678156809121914,
            "count": 8
           },
           {
            "bin_start": 0.05678156809121914,
            "bin_end": 0.07508332968016566,
            "count": 7
           },
           {
            "bin_start": 0.07508332968016566,
            "bin_end": 0.0933850912691122,
            "count": 5
           },
           {
            "bin_start": 0.0933850912691122,
            "bin_end": 0.11168685285805872,
            "count": 2
           },
           {
            "bin_start": 0.11168685285805872,
            "bin_end": 0.12998861444700527,
            "count": 2
           },
           {
            "bin_start": 0.12998861444700527,
            "bin_end": 0.1482903760359518,
            "count": 1
           },
           {
            "bin_start": 0.1482903760359518,
            "bin_end": 0.16659213762489833,
            "count": 0
           },
           {
            "bin_start": 0.16659213762489833,
            "bin_end": 0.18489389921384486,
            "count": 1
           }
          ]
         }
        },
        {
         "name": "mean_score_time",
         "dtype": "float64",
         "stats": {
          "unique_count": 100,
          "nan_count": 0,
          "min": "0.0030336380004882812",
          "max": "0.04513132572174072",
          "histogram": [
           {
            "bin_start": 0.0030336380004882812,
            "bin_end": 0.007243406772613525,
            "count": 10
           },
           {
            "bin_start": 0.007243406772613525,
            "bin_end": 0.01145317554473877,
            "count": 14
           },
           {
            "bin_start": 0.01145317554473877,
            "bin_end": 0.015662944316864012,
            "count": 12
           },
           {
            "bin_start": 0.015662944316864012,
            "bin_end": 0.019872713088989257,
            "count": 14
           },
           {
            "bin_start": 0.019872713088989257,
            "bin_end": 0.024082481861114502,
            "count": 8
           },
           {
            "bin_start": 0.024082481861114502,
            "bin_end": 0.028292250633239743,
            "count": 12
           },
           {
            "bin_start": 0.028292250633239743,
            "bin_end": 0.032502019405364985,
            "count": 14
           },
           {
            "bin_start": 0.032502019405364985,
            "bin_end": 0.03671178817749023,
            "count": 7
           },
           {
            "bin_start": 0.03671178817749023,
            "bin_end": 0.040921556949615474,
            "count": 6
           },
           {
            "bin_start": 0.040921556949615474,
            "bin_end": 0.04513132572174072,
            "count": 3
           }
          ]
         }
        },
        {
         "name": "std_score_time",
         "dtype": "float64",
         "stats": {
          "unique_count": 100,
          "nan_count": 0,
          "min": "0.00011684061453478653",
          "max": "0.016140462954662857",
          "histogram": [
           {
            "bin_start": 0.00011684061453478653,
            "bin_end": 0.0017192028485475935,
            "count": 15
           },
           {
            "bin_start": 0.0017192028485475935,
            "bin_end": 0.0033215650825604,
            "count": 0
           },
           {
            "bin_start": 0.0033215650825604,
            "bin_end": 0.004923927316573208,
            "count": 0
           },
           {
            "bin_start": 0.004923927316573208,
            "bin_end": 0.0065262895505860145,
            "count": 2
           },
           {
            "bin_start": 0.0065262895505860145,
            "bin_end": 0.00812865178459882,
            "count": 18
           },
           {
            "bin_start": 0.00812865178459882,
            "bin_end": 0.009731014018611628,
            "count": 11
           },
           {
            "bin_start": 0.009731014018611628,
            "bin_end": 0.011333376252624434,
            "count": 24
           },
           {
            "bin_start": 0.011333376252624434,
            "bin_end": 0.012935738486637241,
            "count": 15
           },
           {
            "bin_start": 0.012935738486637241,
            "bin_end": 0.014538100720650048,
            "count": 11
           },
           {
            "bin_start": 0.014538100720650048,
            "bin_end": 0.016140462954662857,
            "count": 4
           }
          ]
         }
        },
        {
         "name": "param_reg__estimator__kernel",
         "dtype": "object",
         "stats": {
          "unique_count": 3,
          "nan_count": 0,
          "categories": [
           {
            "name": "rbf",
            "count": 39
           },
           {
            "name": "sigmoid",
            "count": 32
           },
           {
            "name": "linear",
            "count": 29
           }
          ]
         }
        },
        {
         "name": "param_reg__estimator__gamma",
         "dtype": "object",
         "stats": {
          "unique_count": 7,
          "nan_count": 0,
          "categories": [
           {
            "name": "0.0001",
            "count": 16
           },
           {
            "name": "1e-05",
            "count": 16
           },
           {
            "name": "5 others",
            "count": 68
           }
          ]
         }
        },
        {
         "name": "param_reg__estimator__epsilon",
         "dtype": "object",
         "stats": {
          "unique_count": 6,
          "nan_count": 0,
          "categories": [
           {
            "name": "2.0",
            "count": 22
           },
           {
            "name": "1.0",
            "count": 20
           },
           {
            "name": "4 others",
            "count": 58
           }
          ]
         }
        },
        {
         "name": "param_reg__estimator__C",
         "dtype": "object",
         "stats": {
          "unique_count": 8,
          "nan_count": 0,
          "categories": [
           {
            "name": "0.9",
            "count": 19
           },
           {
            "name": "10.0",
            "count": 14
           },
           {
            "name": "6 others",
            "count": 67
           }
          ]
         }
        },
        {
         "name": "params",
         "dtype": "object",
         "stats": {
          "unique_count": 100,
          "nan_count": 0,
          "categories": [
           {
            "name": "{'reg__estimator__kernel': 'sigmoid', 'reg__estimator__gamma': 0.0001, 'reg__estimator__epsilon': 2, 'reg__estimator__C': 0.9}",
            "count": 1
           },
           {
            "name": "{'reg__estimator__kernel': 'sigmoid', 'reg__estimator__gamma': 1e-05, 'reg__estimator__epsilon': 0.1, 'reg__estimator__C': 0.5}",
            "count": 1
           },
           {
            "name": "98 others",
            "count": 98
           }
          ]
         }
        },
        {
         "name": "split0_test_score",
         "dtype": "float64",
         "stats": {
          "unique_count": 94,
          "nan_count": 0,
          "min": "-899.0101421627907",
          "max": "-1.1973644534354866",
          "histogram": [
           {
            "bin_start": -899.0101421627907,
            "bin_end": -809.2288643918552,
            "count": 1
           },
           {
            "bin_start": -809.2288643918552,
            "bin_end": -719.4475866209197,
            "count": 0
           },
           {
            "bin_start": -719.4475866209197,
            "bin_end": -629.666308849984,
            "count": 0
           },
           {
            "bin_start": -629.666308849984,
            "bin_end": -539.8850310790485,
            "count": 0
           },
           {
            "bin_start": -539.8850310790485,
            "bin_end": -450.1037533081131,
            "count": 1
           },
           {
            "bin_start": -450.1037533081131,
            "bin_end": -360.3224755371775,
            "count": 0
           },
           {
            "bin_start": -360.3224755371775,
            "bin_end": -270.541197766242,
            "count": 0
           },
           {
            "bin_start": -270.541197766242,
            "bin_end": -180.75991999530652,
            "count": 0
           },
           {
            "bin_start": -180.75991999530652,
            "bin_end": -90.97864222437101,
            "count": 1
           },
           {
            "bin_start": -90.97864222437101,
            "bin_end": -1.1973644534354866,
            "count": 97
           }
          ]
         }
        },
        {
         "name": "split1_test_score",
         "dtype": "float64",
         "stats": {
          "unique_count": 94,
          "nan_count": 0,
          "min": "-1208.5165101167513",
          "max": "-1.0143377898075456",
          "histogram": [
           {
            "bin_start": -1208.5165101167513,
            "bin_end": -1087.7662928840568,
            "count": 1
           },
           {
            "bin_start": -1087.7662928840568,
            "bin_end": -967.0160756513626,
            "count": 0
           },
           {
            "bin_start": -967.0160756513626,
            "bin_end": -846.2658584186681,
            "count": 0
           },
           {
            "bin_start": -846.2658584186681,
            "bin_end": -725.5156411859738,
            "count": 0
           },
           {
            "bin_start": -725.5156411859738,
            "bin_end": -604.7654239532794,
            "count": 1
           },
           {
            "bin_start": -604.7654239532794,
            "bin_end": -484.01520672058496,
            "count": 0
           },
           {
            "bin_start": -484.01520672058496,
            "bin_end": -363.2649894878906,
            "count": 0
           },
           {
            "bin_start": -363.2649894878906,
            "bin_end": -242.51477225519625,
            "count": 0
           },
           {
            "bin_start": -242.51477225519625,
            "bin_end": -121.76455502250178,
            "count": 0
           },
           {
            "bin_start": -121.76455502250178,
            "bin_end": -1.0143377898075456,
            "count": 98
           }
          ]
         }
        },
        {
         "name": "split2_test_score",
         "dtype": "float64",
         "stats": {
          "unique_count": 94,
          "nan_count": 0,
          "min": "-1148.4154590721987",
          "max": "-1.349122463375093",
          "histogram": [
           {
            "bin_start": -1148.4154590721987,
            "bin_end": -1033.7088254113164,
            "count": 1
           },
           {
            "bin_start": -1033.7088254113164,
            "bin_end": -919.002191750434,
            "count": 0
           },
           {
            "bin_start": -919.002191750434,
            "bin_end": -804.2955580895516,
            "count": 0
           },
           {
            "bin_start": -804.2955580895516,
            "bin_end": -689.5889244286693,
            "count": 0
           },
           {
            "bin_start": -689.5889244286693,
            "bin_end": -574.8822907677869,
            "count": 0
           },
           {
            "bin_start": -574.8822907677869,
            "bin_end": -460.1756571069045,
            "count": 1
           },
           {
            "bin_start": -460.1756571069045,
            "bin_end": -345.4690234460222,
            "count": 0
           },
           {
            "bin_start": -345.4690234460222,
            "bin_end": -230.76238978513982,
            "count": 0
           },
           {
            "bin_start": -230.76238978513982,
            "bin_end": -116.05575612425741,
            "count": 1
           },
           {
            "bin_start": -116.05575612425741,
            "bin_end": -1.349122463375093,
            "count": 97
           }
          ]
         }
        },
        {
         "name": "split3_test_score",
         "dtype": "float64",
         "stats": {
          "unique_count": 94,
          "nan_count": 0,
          "min": "-1224.179540575308",
          "max": "-1.0825053884741935",
          "histogram": [
           {
            "bin_start": -1224.179540575308,
            "bin_end": -1101.8698370566246,
            "count": 1
           },
           {
            "bin_start": -1101.8698370566246,
            "bin_end": -979.5601335379413,
            "count": 0
           },
           {
            "bin_start": -979.5601335379413,
            "bin_end": -857.2504300192578,
            "count": 0
           },
           {
            "bin_start": -857.2504300192578,
            "bin_end": -734.9407265005744,
            "count": 0
           },
           {
            "bin_start": -734.9407265005744,
            "bin_end": -612.6310229818911,
            "count": 1
           },
           {
            "bin_start": -612.6310229818911,
            "bin_end": -490.3213194632076,
            "count": 0
           },
           {
            "bin_start": -490.3213194632076,
            "bin_end": -368.01161594452424,
            "count": 0
           },
           {
            "bin_start": -368.01161594452424,
            "bin_end": -245.70191242584087,
            "count": 0
           },
           {
            "bin_start": -245.70191242584087,
            "bin_end": -123.39220890715751,
            "count": 0
           },
           {
            "bin_start": -123.39220890715751,
            "bin_end": -1.0825053884741935,
            "count": 98
           }
          ]
         }
        },
        {
         "name": "split4_test_score",
         "dtype": "float64",
         "stats": {
          "unique_count": 94,
          "nan_count": 0,
          "min": "-1282.0124054488797",
          "max": "-1.0144437770341501",
          "histogram": [
           {
            "bin_start": -1282.0124054488797,
            "bin_end": -1153.912609281695,
            "count": 1
           },
           {
            "bin_start": -1153.912609281695,
            "bin_end": -1025.8128131145106,
            "count": 0
           },
           {
            "bin_start": -1025.8128131145106,
            "bin_end": -897.713016947326,
            "count": 0
           },
           {
            "bin_start": -897.713016947326,
            "bin_end": -769.6132207801414,
            "count": 0
           },
           {
            "bin_start": -769.6132207801414,
            "bin_end": -641.5134246129569,
            "count": 1
           },
           {
            "bin_start": -641.5134246129569,
            "bin_end": -513.4136284457722,
            "count": 0
           },
           {
            "bin_start": -513.4136284457722,
            "bin_end": -385.3138322785877,
            "count": 0
           },
           {
            "bin_start": -385.3138322785877,
            "bin_end": -257.2140361114032,
            "count": 0
           },
           {
            "bin_start": -257.2140361114032,
            "bin_end": -129.11423994421853,
            "count": 0
           },
           {
            "bin_start": -129.11423994421853,
            "bin_end": -1.0144437770341501,
            "count": 98
           }
          ]
         }
        },
        {
         "name": "split5_test_score",
         "dtype": "float64",
         "stats": {
          "unique_count": 94,
          "nan_count": 0,
          "min": "-1121.1068043282235",
          "max": "-1.0841271858534507",
          "histogram": [
           {
            "bin_start": -1121.1068043282235,
            "bin_end": -1009.1045366139865,
            "count": 1
           },
           {
            "bin_start": -1009.1045366139865,
            "bin_end": -897.1022688997494,
            "count": 0
           },
           {
            "bin_start": -897.1022688997494,
            "bin_end": -785.1000011855125,
            "count": 0
           },
           {
            "bin_start": -785.1000011855125,
            "bin_end": -673.0977334712754,
            "count": 0
           },
           {
            "bin_start": -673.0977334712754,
            "bin_end": -561.0954657570385,
            "count": 0
           },
           {
            "bin_start": -561.0954657570385,
            "bin_end": -449.09319804280153,
            "count": 1
           },
           {
            "bin_start": -449.09319804280153,
            "bin_end": -337.09093032856447,
            "count": 0
           },
           {
            "bin_start": -337.09093032856447,
            "bin_end": -225.08866261432752,
            "count": 0
           },
           {
            "bin_start": -225.08866261432752,
            "bin_end": -113.08639490009057,
            "count": 0
           },
           {
            "bin_start": -113.08639490009057,
            "bin_end": -1.0841271858534507,
            "count": 98
           }
          ]
         }
        },
        {
         "name": "split6_test_score",
         "dtype": "float64",
         "stats": {
          "unique_count": 94,
          "nan_count": 0,
          "min": "-1208.5733100067678",
          "max": "-1.208319539120466",
          "histogram": [
           {
            "bin_start": -1208.5733100067678,
            "bin_end": -1087.836810960003,
            "count": 1
           },
           {
            "bin_start": -1087.836810960003,
            "bin_end": -967.1003119132383,
            "count": 0
           },
           {
            "bin_start": -967.1003119132383,
            "bin_end": -846.3638128664736,
            "count": 0
           },
           {
            "bin_start": -846.3638128664736,
            "bin_end": -725.6273138197089,
            "count": 0
           },
           {
            "bin_start": -725.6273138197089,
            "bin_end": -604.8908147729442,
            "count": 1
           },
           {
            "bin_start": -604.8908147729442,
            "bin_end": -484.15431572617945,
            "count": 0
           },
           {
            "bin_start": -484.15431572617945,
            "bin_end": -363.4178166794147,
            "count": 0
           },
           {
            "bin_start": -363.4178166794147,
            "bin_end": -242.68131763265,
            "count": 0
           },
           {
            "bin_start": -242.68131763265,
            "bin_end": -121.94481858588529,
            "count": 0
           },
           {
            "bin_start": -121.94481858588529,
            "bin_end": -1.208319539120466,
            "count": 98
           }
          ]
         }
        },
        {
         "name": "split7_test_score",
         "dtype": "float64",
         "stats": {
          "unique_count": 94,
          "nan_count": 0,
          "min": "-1219.7411072521256",
          "max": "-1.1371226099648668",
          "histogram": [
           {
            "bin_start": -1219.7411072521256,
            "bin_end": -1097.8807087879095,
            "count": 1
           },
           {
            "bin_start": -1097.8807087879095,
            "bin_end": -976.0203103236935,
            "count": 0
           },
           {
            "bin_start": -976.0203103236935,
            "bin_end": -854.1599118594773,
            "count": 0
           },
           {
            "bin_start": -854.1599118594773,
            "bin_end": -732.2995133952613,
            "count": 0
           },
           {
            "bin_start": -732.2995133952613,
            "bin_end": -610.4391149310452,
            "count": 1
           },
           {
            "bin_start": -610.4391149310452,
            "bin_end": -488.57871646682906,
            "count": 0
           },
           {
            "bin_start": -488.57871646682906,
            "bin_end": -366.71831800261305,
            "count": 0
           },
           {
            "bin_start": -366.71831800261305,
            "bin_end": -244.8579195383969,
            "count": 0
           },
           {
            "bin_start": -244.8579195383969,
            "bin_end": -122.9975210741809,
            "count": 0
           },
           {
            "bin_start": -122.9975210741809,
            "bin_end": -1.1371226099648668,
            "count": 98
           }
          ]
         }
        },
        {
         "name": "split8_test_score",
         "dtype": "float64",
         "stats": {
          "unique_count": 94,
          "nan_count": 0,
          "min": "-1262.6040647024165",
          "max": "-1.1706043902051193",
          "histogram": [
           {
            "bin_start": -1262.6040647024165,
            "bin_end": -1136.4607186711953,
            "count": 1
           },
           {
            "bin_start": -1136.4607186711953,
            "bin_end": -1010.3173726399742,
            "count": 0
           },
           {
            "bin_start": -1010.3173726399742,
            "bin_end": -884.1740266087531,
            "count": 0
           },
           {
            "bin_start": -884.1740266087531,
            "bin_end": -758.0306805775319,
            "count": 0
           },
           {
            "bin_start": -758.0306805775319,
            "bin_end": -631.8873345463109,
            "count": 1
           },
           {
            "bin_start": -631.8873345463109,
            "bin_end": -505.74398851508977,
            "count": 0
           },
           {
            "bin_start": -505.74398851508977,
            "bin_end": -379.60064248386857,
            "count": 0
           },
           {
            "bin_start": -379.60064248386857,
            "bin_end": -253.45729645264748,
            "count": 0
           },
           {
            "bin_start": -253.45729645264748,
            "bin_end": -127.3139504214264,
            "count": 0
           },
           {
            "bin_start": -127.3139504214264,
            "bin_end": -1.1706043902051193,
            "count": 98
           }
          ]
         }
        },
        {
         "name": "split9_test_score",
         "dtype": "float64",
         "stats": {
          "unique_count": 94,
          "nan_count": 0,
          "min": "-1306.6587379488028",
          "max": "-1.1947626759102947",
          "histogram": [
           {
            "bin_start": -1306.6587379488028,
            "bin_end": -1176.1123404215136,
            "count": 1
           },
           {
            "bin_start": -1176.1123404215136,
            "bin_end": -1045.5659428942245,
            "count": 0
           },
           {
            "bin_start": -1045.5659428942245,
            "bin_end": -915.0195453669351,
            "count": 0
           },
           {
            "bin_start": -915.0195453669351,
            "bin_end": -784.4731478396459,
            "count": 0
           },
           {
            "bin_start": -784.4731478396459,
            "bin_end": -653.9267503123567,
            "count": 1
           },
           {
            "bin_start": -653.9267503123567,
            "bin_end": -523.3803527850674,
            "count": 0
           },
           {
            "bin_start": -523.3803527850674,
            "bin_end": -392.83395525777814,
            "count": 0
           },
           {
            "bin_start": -392.83395525777814,
            "bin_end": -262.28755773048897,
            "count": 0
           },
           {
            "bin_start": -262.28755773048897,
            "bin_end": -131.7411602031998,
            "count": 0
           },
           {
            "bin_start": -131.7411602031998,
            "bin_end": -1.1947626759102947,
            "count": 98
           }
          ]
         }
        },
        {
         "name": "mean_test_score",
         "dtype": "float64",
         "stats": {
          "unique_count": 94,
          "nan_count": 0,
          "min": "-1188.0818081614266",
          "max": "-1.1471306094041434",
          "histogram": [
           {
            "bin_start": -1188.0818081614266,
            "bin_end": -1069.3883404062244,
            "count": 1
           },
           {
            "bin_start": -1069.3883404062244,
            "bin_end": -950.694872651022,
            "count": 0
           },
           {
            "bin_start": -950.694872651022,
            "bin_end": -832.0014048958199,
            "count": 0
           },
           {
            "bin_start": -832.0014048958199,
            "bin_end": -713.3079371406176,
            "count": 0
           },
           {
            "bin_start": -713.3079371406176,
            "bin_end": -594.6144693854153,
            "count": 1
           },
           {
            "bin_start": -594.6144693854153,
            "bin_end": -475.92100163021314,
            "count": 0
           },
           {
            "bin_start": -475.92100163021314,
            "bin_end": -357.22753387501086,
            "count": 0
           },
           {
            "bin_start": -357.22753387501086,
            "bin_end": -238.53406611980859,
            "count": 0
           },
           {
            "bin_start": -238.53406611980859,
            "bin_end": -119.84059836460642,
            "count": 0
           },
           {
            "bin_start": -119.84059836460642,
            "bin_end": -1.1471306094041434,
            "count": 98
           }
          ]
         }
        },
        {
         "name": "std_test_score",
         "dtype": "float64",
         "stats": {
          "unique_count": 94,
          "nan_count": 0,
          "min": "0.06959172914583725",
          "max": "110.09148321850846",
          "histogram": [
           {
            "bin_start": 0.06959172914583725,
            "bin_end": 11.0717808780821,
            "count": 98
           },
           {
            "bin_start": 11.0717808780821,
            "bin_end": 22.073970027018362,
            "count": 0
           },
           {
            "bin_start": 22.073970027018362,
            "bin_end": 33.07615917595462,
            "count": 0
           },
           {
            "bin_start": 33.07615917595462,
            "bin_end": 44.07834832489088,
            "count": 0
           },
           {
            "bin_start": 44.07834832489088,
            "bin_end": 55.08053747382714,
            "count": 0
           },
           {
            "bin_start": 55.08053747382714,
            "bin_end": 66.08272662276342,
            "count": 1
           },
           {
            "bin_start": 66.08272662276342,
            "bin_end": 77.08491577169967,
            "count": 0
           },
           {
            "bin_start": 77.08491577169967,
            "bin_end": 88.08710492063594,
            "count": 0
           },
           {
            "bin_start": 88.08710492063594,
            "bin_end": 99.0892940695722,
            "count": 0
           },
           {
            "bin_start": 99.0892940695722,
            "bin_end": 110.09148321850846,
            "count": 1
           }
          ]
         }
        },
        {
         "name": "rank_test_score",
         "dtype": "int32",
         "stats": {
          "unique_count": 94,
          "nan_count": 0,
          "min": "1",
          "max": "100",
          "histogram": [
           {
            "bin_start": 1,
            "bin_end": 10.9,
            "count": 10
           },
           {
            "bin_start": 10.9,
            "bin_end": 20.8,
            "count": 10
           },
           {
            "bin_start": 20.8,
            "bin_end": 30.700000000000003,
            "count": 10
           },
           {
            "bin_start": 30.700000000000003,
            "bin_end": 40.6,
            "count": 10
           },
           {
            "bin_start": 40.6,
            "bin_end": 50.5,
            "count": 10
           },
           {
            "bin_start": 50.5,
            "bin_end": 60.400000000000006,
            "count": 10
           },
           {
            "bin_start": 60.400000000000006,
            "bin_end": 70.3,
            "count": 10
           },
           {
            "bin_start": 70.3,
            "bin_end": 80.2,
            "count": 10
           },
           {
            "bin_start": 80.2,
            "bin_end": 90.10000000000001,
            "count": 10
           },
           {
            "bin_start": 90.10000000000001,
            "bin_end": 100,
            "count": 10
           }
          ]
         }
        },
        {
         "name": "_deepnote_index_column",
         "dtype": "int64"
        }
       ],
       "rows": [
        {
         "mean_fit_time": 0.16153171062469482,
         "std_fit_time": 0.019408031339369275,
         "mean_score_time": 0.01915006637573242,
         "std_score_time": 0.012367237162926762,
         "param_reg__estimator__kernel": "sigmoid",
         "param_reg__estimator__gamma": "0.0001",
         "param_reg__estimator__epsilon": "2",
         "param_reg__estimator__C": "0.9",
         "params": "{'reg__estimator__kernel': 'sigmoid', 'reg__estimator__gamma': 0.0001, 'reg__estimator__epsilon': 2…",
         "split0_test_score": -7.012794988181631,
         "split1_test_score": -6.700837644157395,
         "split2_test_score": -6.5589296390788405,
         "split3_test_score": -6.612533192238041,
         "split4_test_score": -6.506893075533866,
         "split5_test_score": -7.081430378522496,
         "split6_test_score": -6.787641887334951,
         "split7_test_score": -6.8945251143831685,
         "split8_test_score": -6.629897020564107,
         "split9_test_score": -6.526273679983299,
         "mean_test_score": -6.73117566199778,
         "std_test_score": 0.19469701511068743,
         "rank_test_score": 78,
         "_deepnote_index_column": 0
        },
        {
         "mean_fit_time": 0.22457947731018066,
         "std_fit_time": 0.009527192340230417,
         "mean_score_time": 0.022282743453979494,
         "std_score_time": 0.011233847844838217,
         "param_reg__estimator__kernel": "sigmoid",
         "param_reg__estimator__gamma": "1e-05",
         "param_reg__estimator__epsilon": "0.1",
         "param_reg__estimator__C": "0.5",
         "params": "{'reg__estimator__kernel': 'sigmoid', 'reg__estimator__gamma': 1e-05, 'reg__estimator__epsilon': 0.…",
         "split0_test_score": -7.606224525957581,
         "split1_test_score": -7.240271446187501,
         "split2_test_score": -7.125246112686469,
         "split3_test_score": -7.167185901006964,
         "split4_test_score": -7.060636299460091,
         "split5_test_score": -7.653375539484674,
         "split6_test_score": -7.3384485939224975,
         "split7_test_score": -7.454693885182995,
         "split8_test_score": -7.181861134473583,
         "split9_test_score": -7.053195199183199,
         "mean_test_score": -7.288113863754555,
         "std_test_score": 0.20653179195864912,
         "rank_test_score": 86,
         "_deepnote_index_column": 1
        },
        {
         "mean_fit_time": 0.3193941593170166,
         "std_fit_time": 0.030926496162858596,
         "mean_score_time": 0.022657012939453124,
         "std_score_time": 0.007673963674795316,
         "param_reg__estimator__kernel": "sigmoid",
         "param_reg__estimator__gamma": "scale",
         "param_reg__estimator__epsilon": "1",
         "param_reg__estimator__C": "0.9",
         "params": "{'reg__estimator__kernel': 'sigmoid', 'reg__estimator__gamma': 'scale', 'reg__estimator__epsilon': …",
         "split0_test_score": -9.806267162432297,
         "split1_test_score": -11.133806838714232,
         "split2_test_score": -10.840882322957949,
         "split3_test_score": -10.371845609246039,
         "split4_test_score": -9.90302553290215,
         "split5_test_score": -9.773062533514345,
         "split6_test_score": -9.937344312972915,
         "split7_test_score": -10.437117468966692,
         "split8_test_score": -10.592242413239934,
         "split9_test_score": -10.912918161122139,
         "mean_test_score": -10.37085123560687,
         "std_test_score": 0.47256416826055525,
         "rank_test_score": 91,
         "_deepnote_index_column": 2
        },
        {
         "mean_fit_time": 0.24077413082122803,
         "std_fit_time": 0.022590393825484705,
         "mean_score_time": 0.02496623992919922,
         "std_score_time": 0.011442716158700218,
         "param_reg__estimator__kernel": "sigmoid",
         "param_reg__estimator__gamma": "0.0001",
         "param_reg__estimator__epsilon": "0",
         "param_reg__estimator__C": "0.1",
         "params": "{'reg__estimator__kernel': 'sigmoid', 'reg__estimator__gamma': 0.0001, 'reg__estimator__epsilon': 0…",
         "split0_test_score": -7.564801964520506,
         "split1_test_score": -7.202586878500631,
         "split2_test_score": -7.090655084860293,
         "split3_test_score": -7.133173518693925,
         "split4_test_score": -7.026100259289701,
         "split5_test_score": -7.617336861973972,
         "split6_test_score": -7.299865573136646,
         "split7_test_score": -7.424426863951476,
         "split8_test_score": -7.143834503746834,
         "split9_test_score": -7.014035541934763,
         "mean_test_score": -7.251681705060875,
         "std_test_score": 0.20622520135141695,
         "rank_test_score": 84,
         "_deepnote_index_column": 3
        },
        {
         "mean_fit_time": 0.3682279109954834,
         "std_fit_time": 0.027029019959865175,
         "mean_score_time": 0.02299487590789795,
         "std_score_time": 0.010510990314880592,
         "param_reg__estimator__kernel": "rbf",
         "param_reg__estimator__gamma": "0.1",
         "param_reg__estimator__epsilon": "0.1",
         "param_reg__estimator__C": "10",
         "params": "{'reg__estimator__kernel': 'rbf', 'reg__estimator__gamma': 0.1, 'reg__estimator__epsilon': 0.1, 're…",
         "split0_test_score": -1.2075619420675312,
         "split1_test_score": -1.02485965697512,
         "split2_test_score": -1.349122463375093,
         "split3_test_score": -1.0825053884741935,
         "split4_test_score": -1.0359267105741612,
         "split5_test_score": -1.1146964542165576,
         "split6_test_score": -1.2181450640016038,
         "split7_test_score": -1.1462444516304173,
         "split8_test_score": -1.189560588281407,
         "split9_test_score": -1.2227299536188823,
         "mean_test_score": -1.1591352673214967,
         "std_test_score": 0.09387003006148056,
         "rank_test_score": 3,
         "_deepnote_index_column": 4
        },
        {
         "mean_fit_time": 0.13230009078979493,
         "std_fit_time": 0.015823720913086207,
         "mean_score_time": 0.005157256126403808,
         "std_score_time": 0.0010673139029713098,
         "param_reg__estimator__kernel": "linear",
         "param_reg__estimator__gamma": "0.001",
         "param_reg__estimator__epsilon": "1",
         "param_reg__estimator__C": "0.5",
         "params": "{'reg__estimator__kernel': 'linear', 'reg__estimator__gamma': 0.001, 'reg__estimator__epsilon': 1, …",
         "split0_test_score": -1.97981136060574,
         "split1_test_score": -1.9096249677129618,
         "split2_test_score": -2.0048979074376962,
         "split3_test_score": -1.9033928975528827,
         "split4_test_score": -1.7395908089611596,
         "split5_test_score": -1.9307453576825204,
         "split6_test_score": -1.940606932787108,
         "split7_test_score": -1.9828797429939466,
         "split8_test_score": -1.9023530894860323,
         "split9_test_score": -1.883191336986976,
         "mean_test_score": -1.9177094402207022,
         "std_test_score": 0.07058594892385872,
         "rank_test_score": 25,
         "_deepnote_index_column": 5
        },
        {
         "mean_fit_time": 0.2734521865844727,
         "std_fit_time": 0.06885685769597068,
         "mean_score_time": 0.029167604446411134,
         "std_score_time": 0.013353667244582403,
         "param_reg__estimator__kernel": "rbf",
         "param_reg__estimator__gamma": "1",
         "param_reg__estimator__epsilon": "0.1",
         "param_reg__estimator__C": "0.9",
         "params": "{'reg__estimator__kernel': 'rbf', 'reg__estimator__gamma': 1, 'reg__estimator__epsilon': 0.1, 'reg_…",
         "split0_test_score": -2.6857917079662275,
         "split1_test_score": -2.377468010327375,
         "split2_test_score": -2.5726864062747663,
         "split3_test_score": -2.334220555491389,
         "split4_test_score": -2.3079573294685427,
         "split5_test_score": -2.5977567798881753,
         "split6_test_score": -2.5868904006141893,
         "split7_test_score": -2.4137897993245456,
         "split8_test_score": -2.3400266832388095,
         "split9_test_score": -2.6151336191295624,
         "mean_test_score": -2.4831721291723587,
         "std_test_score": 0.13406458921831263,
         "rank_test_score": 61,
         "_deepnote_index_column": 6
        },
        {
         "mean_fit_time": 0.22601349353790284,
         "std_fit_time": 0.01150798949251764,
         "mean_score_time": 0.024793672561645507,
         "std_score_time": 0.007407534118083423,
         "param_reg__estimator__kernel": "rbf",
         "param_reg__estimator__gamma": "0.0001",
         "param_reg__estimator__epsilon": "2",
         "param_reg__estimator__C": "1",
         "params": "{'reg__estimator__kernel': 'rbf', 'reg__estimator__gamma': 0.0001, 'reg__estimator__epsilon': 2, 'r…",
         "split0_test_score": -6.305924478648382,
         "split1_test_score": -6.061485389370352,
         "split2_test_score": -5.886161570595055,
         "split3_test_score": -5.955247721791643,
         "split4_test_score": -5.834567243228691,
         "split5_test_score": -6.372733618041315,
         "split6_test_score": -6.116979464290991,
         "split7_test_score": -6.191067505571015,
         "split8_test_score": -5.97817841157893,
         "split9_test_score": -5.900602749609568,
         "mean_test_score": -6.060294815272594,
         "std_test_score": 0.174018066750963,
         "rank_test_score": 71,
         "_deepnote_index_column": 7
        },
        {
         "mean_fit_time": 0.2489485263824463,
         "std_fit_time": 0.06481994409204164,
         "mean_score_time": 0.030777692794799805,
         "std_score_time": 0.016140462954662857,
         "param_reg__estimator__kernel": "rbf",
         "param_reg__estimator__gamma": "0.0001",
         "param_reg__estimator__epsilon": "0.1",
         "param_reg__estimator__C": "1",
         "params": "{'reg__estimator__kernel': 'rbf', 'reg__estimator__gamma': 0.0001, 'reg__estimator__epsilon': 0.1, …",
         "split0_test_score": -6.1921329555861,
         "split1_test_score": -5.943046096590558,
         "split2_test_score": -5.7902375219119895,
         "split3_test_score": -5.845258727754606,
         "split4_test_score": -5.732593475096324,
         "split5_test_score": -6.268356058923009,
         "split6_test_score": -6.008014263449481,
         "split7_test_score": -6.105713765103085,
         "split8_test_score": -5.849907999299639,
         "split9_test_score": -5.792404187083371,
         "mean_test_score": -5.952766505079817,
         "std_test_score": 0.1749795503906755,
         "rank_test_score": 68,
         "_deepnote_index_column": 8
        },
        {
         "mean_fit_time": 0.3847604513168335,
         "std_fit_time": 0.02240591114416368,
         "mean_score_time": 0.03613016605377197,
         "std_score_time": 0.012721722806912217,
         "param_reg__estimator__kernel": "sigmoid",
         "param_reg__estimator__gamma": "0.0001",
         "param_reg__estimator__epsilon": "0.01",
         "param_reg__estimator__C": "2",
         "params": "{'reg__estimator__kernel': 'sigmoid', 'reg__estimator__gamma': 0.0001, 'reg__estimator__epsilon': 0…",
         "split0_test_score": -6.187329259579584,
         "split1_test_score": -5.945687209974647,
         "split2_test_score": -5.793095997580757,
         "split3_test_score": -5.846318325662232,
         "split4_test_score": -5.732784250578924,
         "split5_test_score": -6.263028682078039,
         "split6_test_score": -6.008416283005828,
         "split7_test_score": -6.1058856397602375,
         "split8_test_score": -5.851890531371237,
         "split9_test_score": -5.798062941129939,
         "mean_test_score": -5.953249912072143,
         "std_test_score": 0.1723948038633247,
         "rank_test_score": 69,
         "_deepnote_index_column": 9
        }
       ]
      },
      "text/plain": "    mean_fit_time  std_fit_time  mean_score_time  std_score_time  \\\n0        0.161532      0.019408         0.019150        0.012367   \n1        0.224579      0.009527         0.022283        0.011234   \n2        0.319394      0.030926         0.022657        0.007674   \n3        0.240774      0.022590         0.024966        0.011443   \n4        0.368228      0.027029         0.022995        0.010511   \n..            ...           ...              ...             ...   \n95       0.291985      0.007363         0.011993        0.000584   \n96       0.157874      0.012372         0.024637        0.011215   \n97       0.550202      0.112704         0.010952        0.008474   \n98       0.080560      0.014112         0.012629        0.010053   \n99       0.235909      0.019275         0.010438        0.007562   \n\n   param_reg__estimator__kernel param_reg__estimator__gamma  \\\n0                       sigmoid                      0.0001   \n1                       sigmoid                     0.00001   \n2                       sigmoid                       scale   \n3                       sigmoid                      0.0001   \n4                           rbf                         0.1   \n..                          ...                         ...   \n95                       linear                      0.0001   \n96                          rbf                        0.01   \n97                       linear                       0.001   \n98                          rbf                       scale   \n99                       linear                       scale   \n\n   param_reg__estimator__epsilon param_reg__estimator__C  \\\n0                              2                     0.9   \n1                            0.1                     0.5   \n2                              1                     0.9   \n3                              0                     0.1   \n4                            0.1                      10   \n..                           ...                     ...   \n95                           0.1                     0.5   \n96                             1                     0.5   \n97                          0.01                       5   \n98                             1                     0.9   \n99                           0.1                     0.8   \n\n                                               params  split0_test_score  ...  \\\n0   {'reg__estimator__kernel': 'sigmoid', 'reg__es...          -7.012795  ...   \n1   {'reg__estimator__kernel': 'sigmoid', 'reg__es...          -7.606225  ...   \n2   {'reg__estimator__kernel': 'sigmoid', 'reg__es...          -9.806267  ...   \n3   {'reg__estimator__kernel': 'sigmoid', 'reg__es...          -7.564802  ...   \n4   {'reg__estimator__kernel': 'rbf', 'reg__estima...          -1.207562  ...   \n..                                                ...                ...  ...   \n95  {'reg__estimator__kernel': 'linear', 'reg__est...          -2.004560  ...   \n96  {'reg__estimator__kernel': 'rbf', 'reg__estima...          -1.809625  ...   \n97  {'reg__estimator__kernel': 'linear', 'reg__est...          -2.000806  ...   \n98  {'reg__estimator__kernel': 'rbf', 'reg__estima...          -1.370420  ...   \n99  {'reg__estimator__kernel': 'linear', 'reg__est...          -2.003307  ...   \n\n    split3_test_score  split4_test_score  split5_test_score  \\\n0           -6.612533          -6.506893          -7.081430   \n1           -7.167186          -7.060636          -7.653376   \n2          -10.371846          -9.903026          -9.773063   \n3           -7.133174          -7.026100          -7.617337   \n4           -1.082505          -1.035927          -1.114696   \n..                ...                ...                ...   \n95          -1.900919          -1.742507          -1.921244   \n96          -1.723811          -1.533361          -1.724160   \n97          -1.906597          -1.747700          -1.925607   \n98          -1.185381          -1.094963          -1.169686   \n99          -1.899705          -1.743412          -1.921456   \n\n    split6_test_score  split7_test_score  split8_test_score  \\\n0           -6.787642          -6.894525          -6.629897   \n1           -7.338449          -7.454694          -7.181861   \n2           -9.937344         -10.437117         -10.592242   \n3           -7.299866          -7.424427          -7.143835   \n4           -1.218145          -1.146244          -1.189561   \n..                ...                ...                ...   \n95          -1.932264          -1.966907          -1.902738   \n96          -1.779104          -1.794071          -1.728302   \n97          -1.932278          -1.962142          -1.906669   \n98          -1.289427          -1.239464          -1.277565   \n99          -1.932295          -1.967333          -1.903467   \n\n    split9_test_score  mean_test_score  std_test_score  rank_test_score  \n0           -6.526274        -6.731176        0.194697               78  \n1           -7.053195        -7.288114        0.206532               86  \n2          -10.912918       -10.370851        0.472564               91  \n3           -7.014036        -7.251682        0.206225               84  \n4           -1.222730        -1.159135        0.093870                3  \n..                ...              ...             ...              ...  \n95          -1.902750        -1.920685        0.073171               36  \n96          -1.664075        -1.728523        0.083427               17  \n97          -1.897092        -1.921861        0.071651               49  \n98          -1.283371        -1.245039        0.103280                9  \n99          -1.903695        -1.920759        0.072790               39  \n\n[100 rows x 22 columns]",
      "text/html": "<div>\n<style scoped>\n    .dataframe tbody tr th:only-of-type {\n        vertical-align: middle;\n    }\n\n    .dataframe tbody tr th {\n        vertical-align: top;\n    }\n\n    .dataframe thead th {\n        text-align: right;\n    }\n</style>\n<table border=\"1\" class=\"dataframe\">\n  <thead>\n    <tr style=\"text-align: right;\">\n      <th></th>\n      <th>mean_fit_time</th>\n      <th>std_fit_time</th>\n      <th>mean_score_time</th>\n      <th>std_score_time</th>\n      <th>param_reg__estimator__kernel</th>\n      <th>param_reg__estimator__gamma</th>\n      <th>param_reg__estimator__epsilon</th>\n      <th>param_reg__estimator__C</th>\n      <th>params</th>\n      <th>split0_test_score</th>\n      <th>...</th>\n      <th>split3_test_score</th>\n      <th>split4_test_score</th>\n      <th>split5_test_score</th>\n      <th>split6_test_score</th>\n      <th>split7_test_score</th>\n      <th>split8_test_score</th>\n      <th>split9_test_score</th>\n      <th>mean_test_score</th>\n      <th>std_test_score</th>\n      <th>rank_test_score</th>\n    </tr>\n  </thead>\n  <tbody>\n    <tr>\n      <th>0</th>\n      <td>0.161532</td>\n      <td>0.019408</td>\n      <td>0.019150</td>\n      <td>0.012367</td>\n      <td>sigmoid</td>\n      <td>0.0001</td>\n      <td>2</td>\n      <td>0.9</td>\n      <td>{'reg__estimator__kernel': 'sigmoid', 'reg__es...</td>\n      <td>-7.012795</td>\n      <td>...</td>\n      <td>-6.612533</td>\n      <td>-6.506893</td>\n      <td>-7.081430</td>\n      <td>-6.787642</td>\n      <td>-6.894525</td>\n      <td>-6.629897</td>\n      <td>-6.526274</td>\n      <td>-6.731176</td>\n      <td>0.194697</td>\n      <td>78</td>\n    </tr>\n    <tr>\n      <th>1</th>\n      <td>0.224579</td>\n      <td>0.009527</td>\n      <td>0.022283</td>\n      <td>0.011234</td>\n      <td>sigmoid</td>\n      <td>0.00001</td>\n      <td>0.1</td>\n      <td>0.5</td>\n      <td>{'reg__estimator__kernel': 'sigmoid', 'reg__es...</td>\n      <td>-7.606225</td>\n      <td>...</td>\n      <td>-7.167186</td>\n      <td>-7.060636</td>\n      <td>-7.653376</td>\n      <td>-7.338449</td>\n      <td>-7.454694</td>\n      <td>-7.181861</td>\n      <td>-7.053195</td>\n      <td>-7.288114</td>\n      <td>0.206532</td>\n      <td>86</td>\n    </tr>\n    <tr>\n      <th>2</th>\n      <td>0.319394</td>\n      <td>0.030926</td>\n      <td>0.022657</td>\n      <td>0.007674</td>\n      <td>sigmoid</td>\n      <td>scale</td>\n      <td>1</td>\n      <td>0.9</td>\n      <td>{'reg__estimator__kernel': 'sigmoid', 'reg__es...</td>\n      <td>-9.806267</td>\n      <td>...</td>\n      <td>-10.371846</td>\n      <td>-9.903026</td>\n      <td>-9.773063</td>\n      <td>-9.937344</td>\n      <td>-10.437117</td>\n      <td>-10.592242</td>\n      <td>-10.912918</td>\n      <td>-10.370851</td>\n      <td>0.472564</td>\n      <td>91</td>\n    </tr>\n    <tr>\n      <th>3</th>\n      <td>0.240774</td>\n      <td>0.022590</td>\n      <td>0.024966</td>\n      <td>0.011443</td>\n      <td>sigmoid</td>\n      <td>0.0001</td>\n      <td>0</td>\n      <td>0.1</td>\n      <td>{'reg__estimator__kernel': 'sigmoid', 'reg__es...</td>\n      <td>-7.564802</td>\n      <td>...</td>\n      <td>-7.133174</td>\n      <td>-7.026100</td>\n      <td>-7.617337</td>\n      <td>-7.299866</td>\n      <td>-7.424427</td>\n      <td>-7.143835</td>\n      <td>-7.014036</td>\n      <td>-7.251682</td>\n      <td>0.206225</td>\n      <td>84</td>\n    </tr>\n    <tr>\n      <th>4</th>\n      <td>0.368228</td>\n      <td>0.027029</td>\n      <td>0.022995</td>\n      <td>0.010511</td>\n      <td>rbf</td>\n      <td>0.1</td>\n      <td>0.1</td>\n      <td>10</td>\n      <td>{'reg__estimator__kernel': 'rbf', 'reg__estima...</td>\n      <td>-1.207562</td>\n      <td>...</td>\n      <td>-1.082505</td>\n      <td>-1.035927</td>\n      <td>-1.114696</td>\n      <td>-1.218145</td>\n      <td>-1.146244</td>\n      <td>-1.189561</td>\n      <td>-1.222730</td>\n      <td>-1.159135</td>\n      <td>0.093870</td>\n      <td>3</td>\n    </tr>\n    <tr>\n      <th>...</th>\n      <td>...</td>\n      <td>...</td>\n      <td>...</td>\n      <td>...</td>\n      <td>...</td>\n      <td>...</td>\n      <td>...</td>\n      <td>...</td>\n      <td>...</td>\n      <td>...</td>\n      <td>...</td>\n      <td>...</td>\n      <td>...</td>\n      <td>...</td>\n      <td>...</td>\n      <td>...</td>\n      <td>...</td>\n      <td>...</td>\n      <td>...</td>\n      <td>...</td>\n      <td>...</td>\n    </tr>\n    <tr>\n      <th>95</th>\n      <td>0.291985</td>\n      <td>0.007363</td>\n      <td>0.011993</td>\n      <td>0.000584</td>\n      <td>linear</td>\n      <td>0.0001</td>\n      <td>0.1</td>\n      <td>0.5</td>\n      <td>{'reg__estimator__kernel': 'linear', 'reg__est...</td>\n      <td>-2.004560</td>\n      <td>...</td>\n      <td>-1.900919</td>\n      <td>-1.742507</td>\n      <td>-1.921244</td>\n      <td>-1.932264</td>\n      <td>-1.966907</td>\n      <td>-1.902738</td>\n      <td>-1.902750</td>\n      <td>-1.920685</td>\n      <td>0.073171</td>\n      <td>36</td>\n    </tr>\n    <tr>\n      <th>96</th>\n      <td>0.157874</td>\n      <td>0.012372</td>\n      <td>0.024637</td>\n      <td>0.011215</td>\n      <td>rbf</td>\n      <td>0.01</td>\n      <td>1</td>\n      <td>0.5</td>\n      <td>{'reg__estimator__kernel': 'rbf', 'reg__estima...</td>\n      <td>-1.809625</td>\n      <td>...</td>\n      <td>-1.723811</td>\n      <td>-1.533361</td>\n      <td>-1.724160</td>\n      <td>-1.779104</td>\n      <td>-1.794071</td>\n      <td>-1.728302</td>\n      <td>-1.664075</td>\n      <td>-1.728523</td>\n      <td>0.083427</td>\n      <td>17</td>\n    </tr>\n    <tr>\n      <th>97</th>\n      <td>0.550202</td>\n      <td>0.112704</td>\n      <td>0.010952</td>\n      <td>0.008474</td>\n      <td>linear</td>\n      <td>0.001</td>\n      <td>0.01</td>\n      <td>5</td>\n      <td>{'reg__estimator__kernel': 'linear', 'reg__est...</td>\n      <td>-2.000806</td>\n      <td>...</td>\n      <td>-1.906597</td>\n      <td>-1.747700</td>\n      <td>-1.925607</td>\n      <td>-1.932278</td>\n      <td>-1.962142</td>\n      <td>-1.906669</td>\n      <td>-1.897092</td>\n      <td>-1.921861</td>\n      <td>0.071651</td>\n      <td>49</td>\n    </tr>\n    <tr>\n      <th>98</th>\n      <td>0.080560</td>\n      <td>0.014112</td>\n      <td>0.012629</td>\n      <td>0.010053</td>\n      <td>rbf</td>\n      <td>scale</td>\n      <td>1</td>\n      <td>0.9</td>\n      <td>{'reg__estimator__kernel': 'rbf', 'reg__estima...</td>\n      <td>-1.370420</td>\n      <td>...</td>\n      <td>-1.185381</td>\n      <td>-1.094963</td>\n      <td>-1.169686</td>\n      <td>-1.289427</td>\n      <td>-1.239464</td>\n      <td>-1.277565</td>\n      <td>-1.283371</td>\n      <td>-1.245039</td>\n      <td>0.103280</td>\n      <td>9</td>\n    </tr>\n    <tr>\n      <th>99</th>\n      <td>0.235909</td>\n      <td>0.019275</td>\n      <td>0.010438</td>\n      <td>0.007562</td>\n      <td>linear</td>\n      <td>scale</td>\n      <td>0.1</td>\n      <td>0.8</td>\n      <td>{'reg__estimator__kernel': 'linear', 'reg__est...</td>\n      <td>-2.003307</td>\n      <td>...</td>\n      <td>-1.899705</td>\n      <td>-1.743412</td>\n      <td>-1.921456</td>\n      <td>-1.932295</td>\n      <td>-1.967333</td>\n      <td>-1.903467</td>\n      <td>-1.903695</td>\n      <td>-1.920759</td>\n      <td>0.072790</td>\n      <td>39</td>\n    </tr>\n  </tbody>\n</table>\n<p>100 rows × 22 columns</p>\n</div>"
     },
     "metadata": {}
    }
   ],
   "execution_count": null
  },
  {
   "cell_type": "code",
   "metadata": {
    "cell_id": "00030-93a36e75-63ab-4b18-95e3-aa6e3270d07a",
    "deepnote_output_heights": [
     382.1875
    ],
    "deepnote_to_be_reexecuted": false,
    "source_hash": "1ca2cdb4",
    "execution_start": 1642335003604,
    "execution_millis": 252,
    "deepnote_cell_type": "code"
   },
   "source": "df_results = pd.DataFrame(data=optimal_par_mee.cv_results_) #trasform into a pandas dataframe\ndf_results.sort_values(by=\"rank_test_score\", axis=0, ascending=True, inplace=True) #sort rank values in decreasing order \ndf_results.dropna(inplace=True) #delete nan values \ndf_results = df_results[:100] #keep only top 50 models\ndf_results",
   "outputs": [
    {
     "output_type": "execute_result",
     "execution_count": 30,
     "data": {
      "application/vnd.deepnote.dataframe.v3+json": {
       "column_count": 22,
       "row_count": 100,
       "columns": [
        {
         "name": "mean_fit_time",
         "dtype": "float64",
         "stats": {
          "unique_count": 100,
          "nan_count": 0,
          "min": "0.041064214706420896",
          "max": "1.2829740285873412",
          "histogram": [
           {
            "bin_start": 0.041064214706420896,
            "bin_end": 0.16525519609451295,
            "count": 25
           },
           {
            "bin_start": 0.16525519609451295,
            "bin_end": 0.289446177482605,
            "count": 34
           },
           {
            "bin_start": 0.289446177482605,
            "bin_end": 0.413637158870697,
            "count": 26
           },
           {
            "bin_start": 0.413637158870697,
            "bin_end": 0.537828140258789,
            "count": 8
           },
           {
            "bin_start": 0.537828140258789,
            "bin_end": 0.662019121646881,
            "count": 2
           },
           {
            "bin_start": 0.662019121646881,
            "bin_end": 0.7862101030349731,
            "count": 4
           },
           {
            "bin_start": 0.7862101030349731,
            "bin_end": 0.9104010844230651,
            "count": 0
           },
           {
            "bin_start": 0.9104010844230651,
            "bin_end": 1.0345920658111571,
            "count": 0
           },
           {
            "bin_start": 1.0345920658111571,
            "bin_end": 1.1587830471992493,
            "count": 0
           },
           {
            "bin_start": 1.1587830471992493,
            "bin_end": 1.2829740285873412,
            "count": 1
           }
          ]
         }
        },
        {
         "name": "std_fit_time",
         "dtype": "float64",
         "stats": {
          "unique_count": 100,
          "nan_count": 0,
          "min": "0.0018762833243795472",
          "max": "0.18489389921384486",
          "histogram": [
           {
            "bin_start": 0.0018762833243795472,
            "bin_end": 0.020178044913326077,
            "count": 47
           },
           {
            "bin_start": 0.020178044913326077,
            "bin_end": 0.03847980650227261,
            "count": 27
           },
           {
            "bin_start": 0.03847980650227261,
            "bin_end": 0.05678156809121914,
            "count": 8
           },
           {
            "bin_start": 0.05678156809121914,
            "bin_end": 0.07508332968016566,
            "count": 7
           },
           {
            "bin_start": 0.07508332968016566,
            "bin_end": 0.0933850912691122,
            "count": 5
           },
           {
            "bin_start": 0.0933850912691122,
            "bin_end": 0.11168685285805872,
            "count": 2
           },
           {
            "bin_start": 0.11168685285805872,
            "bin_end": 0.12998861444700527,
            "count": 2
           },
           {
            "bin_start": 0.12998861444700527,
            "bin_end": 0.1482903760359518,
            "count": 1
           },
           {
            "bin_start": 0.1482903760359518,
            "bin_end": 0.16659213762489833,
            "count": 0
           },
           {
            "bin_start": 0.16659213762489833,
            "bin_end": 0.18489389921384486,
            "count": 1
           }
          ]
         }
        },
        {
         "name": "mean_score_time",
         "dtype": "float64",
         "stats": {
          "unique_count": 100,
          "nan_count": 0,
          "min": "0.0030336380004882812",
          "max": "0.04513132572174072",
          "histogram": [
           {
            "bin_start": 0.0030336380004882812,
            "bin_end": 0.007243406772613525,
            "count": 10
           },
           {
            "bin_start": 0.007243406772613525,
            "bin_end": 0.01145317554473877,
            "count": 14
           },
           {
            "bin_start": 0.01145317554473877,
            "bin_end": 0.015662944316864012,
            "count": 12
           },
           {
            "bin_start": 0.015662944316864012,
            "bin_end": 0.019872713088989257,
            "count": 14
           },
           {
            "bin_start": 0.019872713088989257,
            "bin_end": 0.024082481861114502,
            "count": 8
           },
           {
            "bin_start": 0.024082481861114502,
            "bin_end": 0.028292250633239743,
            "count": 12
           },
           {
            "bin_start": 0.028292250633239743,
            "bin_end": 0.032502019405364985,
            "count": 14
           },
           {
            "bin_start": 0.032502019405364985,
            "bin_end": 0.03671178817749023,
            "count": 7
           },
           {
            "bin_start": 0.03671178817749023,
            "bin_end": 0.040921556949615474,
            "count": 6
           },
           {
            "bin_start": 0.040921556949615474,
            "bin_end": 0.04513132572174072,
            "count": 3
           }
          ]
         }
        },
        {
         "name": "std_score_time",
         "dtype": "float64",
         "stats": {
          "unique_count": 100,
          "nan_count": 0,
          "min": "0.00011684061453478653",
          "max": "0.016140462954662857",
          "histogram": [
           {
            "bin_start": 0.00011684061453478653,
            "bin_end": 0.0017192028485475935,
            "count": 15
           },
           {
            "bin_start": 0.0017192028485475935,
            "bin_end": 0.0033215650825604,
            "count": 0
           },
           {
            "bin_start": 0.0033215650825604,
            "bin_end": 0.004923927316573208,
            "count": 0
           },
           {
            "bin_start": 0.004923927316573208,
            "bin_end": 0.0065262895505860145,
            "count": 2
           },
           {
            "bin_start": 0.0065262895505860145,
            "bin_end": 0.00812865178459882,
            "count": 18
           },
           {
            "bin_start": 0.00812865178459882,
            "bin_end": 0.009731014018611628,
            "count": 11
           },
           {
            "bin_start": 0.009731014018611628,
            "bin_end": 0.011333376252624434,
            "count": 24
           },
           {
            "bin_start": 0.011333376252624434,
            "bin_end": 0.012935738486637241,
            "count": 15
           },
           {
            "bin_start": 0.012935738486637241,
            "bin_end": 0.014538100720650048,
            "count": 11
           },
           {
            "bin_start": 0.014538100720650048,
            "bin_end": 0.016140462954662857,
            "count": 4
           }
          ]
         }
        },
        {
         "name": "param_reg__estimator__kernel",
         "dtype": "object",
         "stats": {
          "unique_count": 3,
          "nan_count": 0,
          "categories": [
           {
            "name": "rbf",
            "count": 39
           },
           {
            "name": "sigmoid",
            "count": 32
           },
           {
            "name": "linear",
            "count": 29
           }
          ]
         }
        },
        {
         "name": "param_reg__estimator__gamma",
         "dtype": "object",
         "stats": {
          "unique_count": 7,
          "nan_count": 0,
          "categories": [
           {
            "name": "0.0001",
            "count": 16
           },
           {
            "name": "1e-05",
            "count": 16
           },
           {
            "name": "5 others",
            "count": 68
           }
          ]
         }
        },
        {
         "name": "param_reg__estimator__epsilon",
         "dtype": "object",
         "stats": {
          "unique_count": 6,
          "nan_count": 0,
          "categories": [
           {
            "name": "2.0",
            "count": 22
           },
           {
            "name": "1.0",
            "count": 20
           },
           {
            "name": "4 others",
            "count": 58
           }
          ]
         }
        },
        {
         "name": "param_reg__estimator__C",
         "dtype": "object",
         "stats": {
          "unique_count": 8,
          "nan_count": 0,
          "categories": [
           {
            "name": "0.9",
            "count": 19
           },
           {
            "name": "10.0",
            "count": 14
           },
           {
            "name": "6 others",
            "count": 67
           }
          ]
         }
        },
        {
         "name": "params",
         "dtype": "object",
         "stats": {
          "unique_count": 100,
          "nan_count": 0,
          "categories": [
           {
            "name": "{'reg__estimator__kernel': 'rbf', 'reg__estimator__gamma': 0.1, 'reg__estimator__epsilon': 0.5, 'reg__estimator__C': 10}",
            "count": 1
           },
           {
            "name": "{'reg__estimator__kernel': 'rbf', 'reg__estimator__gamma': 0.1, 'reg__estimator__epsilon': 0.1, 'reg__estimator__C': 5}",
            "count": 1
           },
           {
            "name": "98 others",
            "count": 98
           }
          ]
         }
        },
        {
         "name": "split0_test_score",
         "dtype": "float64",
         "stats": {
          "unique_count": 94,
          "nan_count": 0,
          "min": "-899.0101421627907",
          "max": "-1.1973644534354866",
          "histogram": [
           {
            "bin_start": -899.0101421627907,
            "bin_end": -809.2288643918552,
            "count": 1
           },
           {
            "bin_start": -809.2288643918552,
            "bin_end": -719.4475866209197,
            "count": 0
           },
           {
            "bin_start": -719.4475866209197,
            "bin_end": -629.666308849984,
            "count": 0
           },
           {
            "bin_start": -629.666308849984,
            "bin_end": -539.8850310790485,
            "count": 0
           },
           {
            "bin_start": -539.8850310790485,
            "bin_end": -450.1037533081131,
            "count": 1
           },
           {
            "bin_start": -450.1037533081131,
            "bin_end": -360.3224755371775,
            "count": 0
           },
           {
            "bin_start": -360.3224755371775,
            "bin_end": -270.541197766242,
            "count": 0
           },
           {
            "bin_start": -270.541197766242,
            "bin_end": -180.75991999530652,
            "count": 0
           },
           {
            "bin_start": -180.75991999530652,
            "bin_end": -90.97864222437101,
            "count": 1
           },
           {
            "bin_start": -90.97864222437101,
            "bin_end": -1.1973644534354866,
            "count": 97
           }
          ]
         }
        },
        {
         "name": "split1_test_score",
         "dtype": "float64",
         "stats": {
          "unique_count": 94,
          "nan_count": 0,
          "min": "-1208.5165101167513",
          "max": "-1.0143377898075456",
          "histogram": [
           {
            "bin_start": -1208.5165101167513,
            "bin_end": -1087.7662928840568,
            "count": 1
           },
           {
            "bin_start": -1087.7662928840568,
            "bin_end": -967.0160756513626,
            "count": 0
           },
           {
            "bin_start": -967.0160756513626,
            "bin_end": -846.2658584186681,
            "count": 0
           },
           {
            "bin_start": -846.2658584186681,
            "bin_end": -725.5156411859738,
            "count": 0
           },
           {
            "bin_start": -725.5156411859738,
            "bin_end": -604.7654239532794,
            "count": 1
           },
           {
            "bin_start": -604.7654239532794,
            "bin_end": -484.01520672058496,
            "count": 0
           },
           {
            "bin_start": -484.01520672058496,
            "bin_end": -363.2649894878906,
            "count": 0
           },
           {
            "bin_start": -363.2649894878906,
            "bin_end": -242.51477225519625,
            "count": 0
           },
           {
            "bin_start": -242.51477225519625,
            "bin_end": -121.76455502250178,
            "count": 0
           },
           {
            "bin_start": -121.76455502250178,
            "bin_end": -1.0143377898075456,
            "count": 98
           }
          ]
         }
        },
        {
         "name": "split2_test_score",
         "dtype": "float64",
         "stats": {
          "unique_count": 94,
          "nan_count": 0,
          "min": "-1148.4154590721987",
          "max": "-1.349122463375093",
          "histogram": [
           {
            "bin_start": -1148.4154590721987,
            "bin_end": -1033.7088254113164,
            "count": 1
           },
           {
            "bin_start": -1033.7088254113164,
            "bin_end": -919.002191750434,
            "count": 0
           },
           {
            "bin_start": -919.002191750434,
            "bin_end": -804.2955580895516,
            "count": 0
           },
           {
            "bin_start": -804.2955580895516,
            "bin_end": -689.5889244286693,
            "count": 0
           },
           {
            "bin_start": -689.5889244286693,
            "bin_end": -574.8822907677869,
            "count": 0
           },
           {
            "bin_start": -574.8822907677869,
            "bin_end": -460.1756571069045,
            "count": 1
           },
           {
            "bin_start": -460.1756571069045,
            "bin_end": -345.4690234460222,
            "count": 0
           },
           {
            "bin_start": -345.4690234460222,
            "bin_end": -230.76238978513982,
            "count": 0
           },
           {
            "bin_start": -230.76238978513982,
            "bin_end": -116.05575612425741,
            "count": 1
           },
           {
            "bin_start": -116.05575612425741,
            "bin_end": -1.349122463375093,
            "count": 97
           }
          ]
         }
        },
        {
         "name": "split3_test_score",
         "dtype": "float64",
         "stats": {
          "unique_count": 94,
          "nan_count": 0,
          "min": "-1224.179540575308",
          "max": "-1.0825053884741935",
          "histogram": [
           {
            "bin_start": -1224.179540575308,
            "bin_end": -1101.8698370566246,
            "count": 1
           },
           {
            "bin_start": -1101.8698370566246,
            "bin_end": -979.5601335379413,
            "count": 0
           },
           {
            "bin_start": -979.5601335379413,
            "bin_end": -857.2504300192578,
            "count": 0
           },
           {
            "bin_start": -857.2504300192578,
            "bin_end": -734.9407265005744,
            "count": 0
           },
           {
            "bin_start": -734.9407265005744,
            "bin_end": -612.6310229818911,
            "count": 1
           },
           {
            "bin_start": -612.6310229818911,
            "bin_end": -490.3213194632076,
            "count": 0
           },
           {
            "bin_start": -490.3213194632076,
            "bin_end": -368.01161594452424,
            "count": 0
           },
           {
            "bin_start": -368.01161594452424,
            "bin_end": -245.70191242584087,
            "count": 0
           },
           {
            "bin_start": -245.70191242584087,
            "bin_end": -123.39220890715751,
            "count": 0
           },
           {
            "bin_start": -123.39220890715751,
            "bin_end": -1.0825053884741935,
            "count": 98
           }
          ]
         }
        },
        {
         "name": "split4_test_score",
         "dtype": "float64",
         "stats": {
          "unique_count": 94,
          "nan_count": 0,
          "min": "-1282.0124054488797",
          "max": "-1.0144437770341501",
          "histogram": [
           {
            "bin_start": -1282.0124054488797,
            "bin_end": -1153.912609281695,
            "count": 1
           },
           {
            "bin_start": -1153.912609281695,
            "bin_end": -1025.8128131145106,
            "count": 0
           },
           {
            "bin_start": -1025.8128131145106,
            "bin_end": -897.713016947326,
            "count": 0
           },
           {
            "bin_start": -897.713016947326,
            "bin_end": -769.6132207801414,
            "count": 0
           },
           {
            "bin_start": -769.6132207801414,
            "bin_end": -641.5134246129569,
            "count": 1
           },
           {
            "bin_start": -641.5134246129569,
            "bin_end": -513.4136284457722,
            "count": 0
           },
           {
            "bin_start": -513.4136284457722,
            "bin_end": -385.3138322785877,
            "count": 0
           },
           {
            "bin_start": -385.3138322785877,
            "bin_end": -257.2140361114032,
            "count": 0
           },
           {
            "bin_start": -257.2140361114032,
            "bin_end": -129.11423994421853,
            "count": 0
           },
           {
            "bin_start": -129.11423994421853,
            "bin_end": -1.0144437770341501,
            "count": 98
           }
          ]
         }
        },
        {
         "name": "split5_test_score",
         "dtype": "float64",
         "stats": {
          "unique_count": 94,
          "nan_count": 0,
          "min": "-1121.1068043282235",
          "max": "-1.0841271858534507",
          "histogram": [
           {
            "bin_start": -1121.1068043282235,
            "bin_end": -1009.1045366139865,
            "count": 1
           },
           {
            "bin_start": -1009.1045366139865,
            "bin_end": -897.1022688997494,
            "count": 0
           },
           {
            "bin_start": -897.1022688997494,
            "bin_end": -785.1000011855125,
            "count": 0
           },
           {
            "bin_start": -785.1000011855125,
            "bin_end": -673.0977334712754,
            "count": 0
           },
           {
            "bin_start": -673.0977334712754,
            "bin_end": -561.0954657570385,
            "count": 0
           },
           {
            "bin_start": -561.0954657570385,
            "bin_end": -449.09319804280153,
            "count": 1
           },
           {
            "bin_start": -449.09319804280153,
            "bin_end": -337.09093032856447,
            "count": 0
           },
           {
            "bin_start": -337.09093032856447,
            "bin_end": -225.08866261432752,
            "count": 0
           },
           {
            "bin_start": -225.08866261432752,
            "bin_end": -113.08639490009057,
            "count": 0
           },
           {
            "bin_start": -113.08639490009057,
            "bin_end": -1.0841271858534507,
            "count": 98
           }
          ]
         }
        },
        {
         "name": "split6_test_score",
         "dtype": "float64",
         "stats": {
          "unique_count": 94,
          "nan_count": 0,
          "min": "-1208.5733100067678",
          "max": "-1.208319539120466",
          "histogram": [
           {
            "bin_start": -1208.5733100067678,
            "bin_end": -1087.836810960003,
            "count": 1
           },
           {
            "bin_start": -1087.836810960003,
            "bin_end": -967.1003119132383,
            "count": 0
           },
           {
            "bin_start": -967.1003119132383,
            "bin_end": -846.3638128664736,
            "count": 0
           },
           {
            "bin_start": -846.3638128664736,
            "bin_end": -725.6273138197089,
            "count": 0
           },
           {
            "bin_start": -725.6273138197089,
            "bin_end": -604.8908147729442,
            "count": 1
           },
           {
            "bin_start": -604.8908147729442,
            "bin_end": -484.15431572617945,
            "count": 0
           },
           {
            "bin_start": -484.15431572617945,
            "bin_end": -363.4178166794147,
            "count": 0
           },
           {
            "bin_start": -363.4178166794147,
            "bin_end": -242.68131763265,
            "count": 0
           },
           {
            "bin_start": -242.68131763265,
            "bin_end": -121.94481858588529,
            "count": 0
           },
           {
            "bin_start": -121.94481858588529,
            "bin_end": -1.208319539120466,
            "count": 98
           }
          ]
         }
        },
        {
         "name": "split7_test_score",
         "dtype": "float64",
         "stats": {
          "unique_count": 94,
          "nan_count": 0,
          "min": "-1219.7411072521256",
          "max": "-1.1371226099648668",
          "histogram": [
           {
            "bin_start": -1219.7411072521256,
            "bin_end": -1097.8807087879095,
            "count": 1
           },
           {
            "bin_start": -1097.8807087879095,
            "bin_end": -976.0203103236935,
            "count": 0
           },
           {
            "bin_start": -976.0203103236935,
            "bin_end": -854.1599118594773,
            "count": 0
           },
           {
            "bin_start": -854.1599118594773,
            "bin_end": -732.2995133952613,
            "count": 0
           },
           {
            "bin_start": -732.2995133952613,
            "bin_end": -610.4391149310452,
            "count": 1
           },
           {
            "bin_start": -610.4391149310452,
            "bin_end": -488.57871646682906,
            "count": 0
           },
           {
            "bin_start": -488.57871646682906,
            "bin_end": -366.71831800261305,
            "count": 0
           },
           {
            "bin_start": -366.71831800261305,
            "bin_end": -244.8579195383969,
            "count": 0
           },
           {
            "bin_start": -244.8579195383969,
            "bin_end": -122.9975210741809,
            "count": 0
           },
           {
            "bin_start": -122.9975210741809,
            "bin_end": -1.1371226099648668,
            "count": 98
           }
          ]
         }
        },
        {
         "name": "split8_test_score",
         "dtype": "float64",
         "stats": {
          "unique_count": 94,
          "nan_count": 0,
          "min": "-1262.6040647024165",
          "max": "-1.1706043902051193",
          "histogram": [
           {
            "bin_start": -1262.6040647024165,
            "bin_end": -1136.4607186711953,
            "count": 1
           },
           {
            "bin_start": -1136.4607186711953,
            "bin_end": -1010.3173726399742,
            "count": 0
           },
           {
            "bin_start": -1010.3173726399742,
            "bin_end": -884.1740266087531,
            "count": 0
           },
           {
            "bin_start": -884.1740266087531,
            "bin_end": -758.0306805775319,
            "count": 0
           },
           {
            "bin_start": -758.0306805775319,
            "bin_end": -631.8873345463109,
            "count": 1
           },
           {
            "bin_start": -631.8873345463109,
            "bin_end": -505.74398851508977,
            "count": 0
           },
           {
            "bin_start": -505.74398851508977,
            "bin_end": -379.60064248386857,
            "count": 0
           },
           {
            "bin_start": -379.60064248386857,
            "bin_end": -253.45729645264748,
            "count": 0
           },
           {
            "bin_start": -253.45729645264748,
            "bin_end": -127.3139504214264,
            "count": 0
           },
           {
            "bin_start": -127.3139504214264,
            "bin_end": -1.1706043902051193,
            "count": 98
           }
          ]
         }
        },
        {
         "name": "split9_test_score",
         "dtype": "float64",
         "stats": {
          "unique_count": 94,
          "nan_count": 0,
          "min": "-1306.6587379488028",
          "max": "-1.1947626759102947",
          "histogram": [
           {
            "bin_start": -1306.6587379488028,
            "bin_end": -1176.1123404215136,
            "count": 1
           },
           {
            "bin_start": -1176.1123404215136,
            "bin_end": -1045.5659428942245,
            "count": 0
           },
           {
            "bin_start": -1045.5659428942245,
            "bin_end": -915.0195453669351,
            "count": 0
           },
           {
            "bin_start": -915.0195453669351,
            "bin_end": -784.4731478396459,
            "count": 0
           },
           {
            "bin_start": -784.4731478396459,
            "bin_end": -653.9267503123567,
            "count": 1
           },
           {
            "bin_start": -653.9267503123567,
            "bin_end": -523.3803527850674,
            "count": 0
           },
           {
            "bin_start": -523.3803527850674,
            "bin_end": -392.83395525777814,
            "count": 0
           },
           {
            "bin_start": -392.83395525777814,
            "bin_end": -262.28755773048897,
            "count": 0
           },
           {
            "bin_start": -262.28755773048897,
            "bin_end": -131.7411602031998,
            "count": 0
           },
           {
            "bin_start": -131.7411602031998,
            "bin_end": -1.1947626759102947,
            "count": 98
           }
          ]
         }
        },
        {
         "name": "mean_test_score",
         "dtype": "float64",
         "stats": {
          "unique_count": 94,
          "nan_count": 0,
          "min": "-1188.0818081614266",
          "max": "-1.1471306094041434",
          "histogram": [
           {
            "bin_start": -1188.0818081614266,
            "bin_end": -1069.3883404062244,
            "count": 1
           },
           {
            "bin_start": -1069.3883404062244,
            "bin_end": -950.694872651022,
            "count": 0
           },
           {
            "bin_start": -950.694872651022,
            "bin_end": -832.0014048958199,
            "count": 0
           },
           {
            "bin_start": -832.0014048958199,
            "bin_end": -713.3079371406176,
            "count": 0
           },
           {
            "bin_start": -713.3079371406176,
            "bin_end": -594.6144693854153,
            "count": 1
           },
           {
            "bin_start": -594.6144693854153,
            "bin_end": -475.92100163021314,
            "count": 0
           },
           {
            "bin_start": -475.92100163021314,
            "bin_end": -357.22753387501086,
            "count": 0
           },
           {
            "bin_start": -357.22753387501086,
            "bin_end": -238.53406611980859,
            "count": 0
           },
           {
            "bin_start": -238.53406611980859,
            "bin_end": -119.84059836460642,
            "count": 0
           },
           {
            "bin_start": -119.84059836460642,
            "bin_end": -1.1471306094041434,
            "count": 98
           }
          ]
         }
        },
        {
         "name": "std_test_score",
         "dtype": "float64",
         "stats": {
          "unique_count": 94,
          "nan_count": 0,
          "min": "0.06959172914583725",
          "max": "110.09148321850846",
          "histogram": [
           {
            "bin_start": 0.06959172914583725,
            "bin_end": 11.0717808780821,
            "count": 98
           },
           {
            "bin_start": 11.0717808780821,
            "bin_end": 22.073970027018362,
            "count": 0
           },
           {
            "bin_start": 22.073970027018362,
            "bin_end": 33.07615917595462,
            "count": 0
           },
           {
            "bin_start": 33.07615917595462,
            "bin_end": 44.07834832489088,
            "count": 0
           },
           {
            "bin_start": 44.07834832489088,
            "bin_end": 55.08053747382714,
            "count": 0
           },
           {
            "bin_start": 55.08053747382714,
            "bin_end": 66.08272662276342,
            "count": 1
           },
           {
            "bin_start": 66.08272662276342,
            "bin_end": 77.08491577169967,
            "count": 0
           },
           {
            "bin_start": 77.08491577169967,
            "bin_end": 88.08710492063594,
            "count": 0
           },
           {
            "bin_start": 88.08710492063594,
            "bin_end": 99.0892940695722,
            "count": 0
           },
           {
            "bin_start": 99.0892940695722,
            "bin_end": 110.09148321850846,
            "count": 1
           }
          ]
         }
        },
        {
         "name": "rank_test_score",
         "dtype": "int32",
         "stats": {
          "unique_count": 94,
          "nan_count": 0,
          "min": "1",
          "max": "100",
          "histogram": [
           {
            "bin_start": 1,
            "bin_end": 10.9,
            "count": 10
           },
           {
            "bin_start": 10.9,
            "bin_end": 20.8,
            "count": 10
           },
           {
            "bin_start": 20.8,
            "bin_end": 30.700000000000003,
            "count": 10
           },
           {
            "bin_start": 30.700000000000003,
            "bin_end": 40.6,
            "count": 10
           },
           {
            "bin_start": 40.6,
            "bin_end": 50.5,
            "count": 10
           },
           {
            "bin_start": 50.5,
            "bin_end": 60.400000000000006,
            "count": 10
           },
           {
            "bin_start": 60.400000000000006,
            "bin_end": 70.3,
            "count": 10
           },
           {
            "bin_start": 70.3,
            "bin_end": 80.2,
            "count": 10
           },
           {
            "bin_start": 80.2,
            "bin_end": 90.10000000000001,
            "count": 10
           },
           {
            "bin_start": 90.10000000000001,
            "bin_end": 100,
            "count": 10
           }
          ]
         }
        },
        {
         "name": "_deepnote_index_column",
         "dtype": "int64"
        }
       ],
       "rows": [
        {
         "mean_fit_time": 0.2347858190536499,
         "std_fit_time": 0.03377134991268052,
         "mean_score_time": 0.023171186447143555,
         "std_score_time": 0.014466878927599387,
         "param_reg__estimator__kernel": "rbf",
         "param_reg__estimator__gamma": "0.1",
         "param_reg__estimator__epsilon": "0.5",
         "param_reg__estimator__C": "10",
         "params": "{'reg__estimator__kernel': 'rbf', 'reg__estimator__gamma': 0.1, 'reg__estimator__epsilon': 0.5, 're…",
         "split0_test_score": -1.1973644534354866,
         "split1_test_score": -1.0143377898075456,
         "split2_test_score": -1.3530717885999604,
         "split3_test_score": -1.0844969274429728,
         "split4_test_score": -1.0144437770341501,
         "split5_test_score": -1.0841271858534507,
         "split6_test_score": -1.216866711433611,
         "split7_test_score": -1.1412303943188449,
         "split8_test_score": -1.1706043902051193,
         "split9_test_score": -1.1947626759102947,
         "mean_test_score": -1.1471306094041434,
         "std_test_score": 0.09786987018470138,
         "rank_test_score": 1,
         "_deepnote_index_column": 25
        },
        {
         "mean_fit_time": 0.4657748699188232,
         "std_fit_time": 0.048034986730322075,
         "mean_score_time": 0.04021985530853271,
         "std_score_time": 0.01404941837859544,
         "param_reg__estimator__kernel": "rbf",
         "param_reg__estimator__gamma": "0.1",
         "param_reg__estimator__epsilon": "0.1",
         "param_reg__estimator__C": "5",
         "params": "{'reg__estimator__kernel': 'rbf', 'reg__estimator__gamma': 0.1, 'reg__estimator__epsilon': 0.1, 're…",
         "split0_test_score": -1.2002706515926336,
         "split1_test_score": -1.0309716017988066,
         "split2_test_score": -1.3569729272418156,
         "split3_test_score": -1.100460527229406,
         "split4_test_score": -1.0349658886039987,
         "split5_test_score": -1.1054555699259565,
         "split6_test_score": -1.208319539120466,
         "split7_test_score": -1.1371226099648668,
         "split8_test_score": -1.1946095270711243,
         "split9_test_score": -1.2212384014188158,
         "mean_test_score": -1.159038724396789,
         "std_test_score": 0.09328388562391697,
         "rank_test_score": 2,
         "_deepnote_index_column": 38
        },
        {
         "mean_fit_time": 0.3682279109954834,
         "std_fit_time": 0.027029019959865175,
         "mean_score_time": 0.02299487590789795,
         "std_score_time": 0.010510990314880592,
         "param_reg__estimator__kernel": "rbf",
         "param_reg__estimator__gamma": "0.1",
         "param_reg__estimator__epsilon": "0.1",
         "param_reg__estimator__C": "10",
         "params": "{'reg__estimator__kernel': 'rbf', 'reg__estimator__gamma': 0.1, 'reg__estimator__epsilon': 0.1, 're…",
         "split0_test_score": -1.2075619420675312,
         "split1_test_score": -1.02485965697512,
         "split2_test_score": -1.349122463375093,
         "split3_test_score": -1.0825053884741935,
         "split4_test_score": -1.0359267105741612,
         "split5_test_score": -1.1146964542165576,
         "split6_test_score": -1.2181450640016038,
         "split7_test_score": -1.1462444516304173,
         "split8_test_score": -1.189560588281407,
         "split9_test_score": -1.2227299536188823,
         "mean_test_score": -1.1591352673214967,
         "std_test_score": 0.09387003006148056,
         "rank_test_score": 3,
         "_deepnote_index_column": 4
        },
        {
         "mean_fit_time": 0.7312477827072144,
         "std_fit_time": 0.020237306548341136,
         "mean_score_time": 0.0447519063949585,
         "std_score_time": 0.01198967221552095,
         "param_reg__estimator__kernel": "rbf",
         "param_reg__estimator__gamma": "scale",
         "param_reg__estimator__epsilon": "0",
         "param_reg__estimator__C": "10",
         "params": "{'reg__estimator__kernel': 'rbf', 'reg__estimator__gamma': 'scale', 'reg__estimator__epsilon': 0, '…",
         "split0_test_score": -1.2248577544819879,
         "split1_test_score": -1.0438341233253126,
         "split2_test_score": -1.351680411019,
         "split3_test_score": -1.0955374107349785,
         "split4_test_score": -1.0450165058524359,
         "split5_test_score": -1.130750113597826,
         "split6_test_score": -1.2325921333025025,
         "split7_test_score": -1.1527137485640333,
         "split8_test_score": -1.1856557176093998,
         "split9_test_score": -1.232904905147608,
         "mean_test_score": -1.1695542823635086,
         "std_test_score": 0.09113605740174743,
         "rank_test_score": 4,
         "_deepnote_index_column": 27
        },
        {
         "mean_fit_time": 0.35593082904815676,
         "std_fit_time": 0.015046496756073568,
         "mean_score_time": 0.03052680492401123,
         "std_score_time": 0.007956096813521765,
         "param_reg__estimator__kernel": "rbf",
         "param_reg__estimator__gamma": "scale",
         "param_reg__estimator__epsilon": "0.1",
         "param_reg__estimator__C": "0.9",
         "params": "{'reg__estimator__kernel': 'rbf', 'reg__estimator__gamma': 'scale', 'reg__estimator__epsilon': 0.1,…",
         "split0_test_score": -1.294281435760259,
         "split1_test_score": -1.0799037704057042,
         "split2_test_score": -1.3687630429468383,
         "split3_test_score": -1.1514720701173815,
         "split4_test_score": -1.0592575384539977,
         "split5_test_score": -1.1471614335111069,
         "split6_test_score": -1.2324016983703199,
         "split7_test_score": -1.1833732435086974,
         "split8_test_score": -1.2332163984200766,
         "split9_test_score": -1.2624441662511263,
         "mean_test_score": -1.2012274797745506,
         "std_test_score": 0.09113848131898622,
         "rank_test_score": 5,
         "_deepnote_index_column": 77
        },
        {
         "mean_fit_time": 0.26634697914123534,
         "std_fit_time": 0.018784443129752963,
         "mean_score_time": 0.024480676651000975,
         "std_score_time": 0.01020423257551445,
         "param_reg__estimator__kernel": "rbf",
         "param_reg__estimator__gamma": "0.1",
         "param_reg__estimator__epsilon": "0",
         "param_reg__estimator__C": "0.9",
         "params": "{'reg__estimator__kernel': 'rbf', 'reg__estimator__gamma': 0.1, 'reg__estimator__epsilon': 0, 'reg_…",
         "split0_test_score": -1.303464449540427,
         "split1_test_score": -1.0844157020697849,
         "split2_test_score": -1.367651863834199,
         "split3_test_score": -1.149754186707966,
         "split4_test_score": -1.0613228678200295,
         "split5_test_score": -1.1507140361178902,
         "split6_test_score": -1.237973888607053,
         "split7_test_score": -1.180473530170924,
         "split8_test_score": -1.2387320541797349,
         "split9_test_score": -1.273447421877816,
         "mean_test_score": -1.2047950000925822,
         "std_test_score": 0.09211131279878738,
         "rank_test_score": 6,
         "_deepnote_index_column": 45
        },
        {
         "mean_fit_time": 0.23737649917602538,
         "std_fit_time": 0.012367346065123876,
         "mean_score_time": 0.02408616542816162,
         "std_score_time": 0.01086681804571814,
         "param_reg__estimator__kernel": "rbf",
         "param_reg__estimator__gamma": "scale",
         "param_reg__estimator__epsilon": "0.5",
         "param_reg__estimator__C": "0.9",
         "params": "{'reg__estimator__kernel': 'rbf', 'reg__estimator__gamma': 'scale', 'reg__estimator__epsilon': 0.5,…",
         "split0_test_score": -1.3216079247588344,
         "split1_test_score": -1.0786274686394677,
         "split2_test_score": -1.38997996659663,
         "split3_test_score": -1.1439626350241052,
         "split4_test_score": -1.0487359398013805,
         "split5_test_score": -1.1381824474337165,
         "split6_test_score": -1.2402277917287445,
         "split7_test_score": -1.1939521167140423,
         "split8_test_score": -1.2380838562095258,
         "split9_test_score": -1.260522392384396,
         "mean_test_score": -1.2053882539290843,
         "std_test_score": 0.10096159558310094,
         "rank_test_score": 7,
         "_deepnote_index_column": 80
        },
        {
         "mean_fit_time": 0.1491102933883667,
         "std_fit_time": 0.01318692061657517,
         "mean_score_time": 0.015167641639709472,
         "std_score_time": 0.007378424290160191,
         "param_reg__estimator__kernel": "rbf",
         "param_reg__estimator__gamma": "0.1",
         "param_reg__estimator__epsilon": "0.5",
         "param_reg__estimator__C": "0.5",
         "params": "{'reg__estimator__kernel': 'rbf', 'reg__estimator__gamma': 0.1, 'reg__estimator__epsilon': 0.5, 're…",
         "split0_test_score": -1.3691380898997936,
         "split1_test_score": -1.117238606238969,
         "split2_test_score": -1.4197787787474252,
         "split3_test_score": -1.1836457235562265,
         "split4_test_score": -1.0927406954092194,
         "split5_test_score": -1.1645162549596315,
         "split6_test_score": -1.2696371879092367,
         "split7_test_score": -1.2189977899563014,
         "split8_test_score": -1.269807485623542,
         "split9_test_score": -1.2932797002419552,
         "mean_test_score": -1.23987803125423,
         "std_test_score": 0.09983628498878676,
         "rank_test_score": 8,
         "_deepnote_index_column": 29
        },
        {
         "mean_fit_time": 0.08055965900421143,
         "std_fit_time": 0.014112035997336908,
         "mean_score_time": 0.012629008293151856,
         "std_score_time": 0.010053387335770119,
         "param_reg__estimator__kernel": "rbf",
         "param_reg__estimator__gamma": "scale",
         "param_reg__estimator__epsilon": "1",
         "param_reg__estimator__C": "0.9",
         "params": "{'reg__estimator__kernel': 'rbf', 'reg__estimator__gamma': 'scale', 'reg__estimator__epsilon': 1, '…",
         "split0_test_score": -1.3704195486232296,
         "split1_test_score": -1.1066465926187834,
         "split2_test_score": -1.4334695985231534,
         "split3_test_score": -1.1853814900774555,
         "split4_test_score": -1.0949632381060592,
         "split5_test_score": -1.1696864751804796,
         "split6_test_score": -1.289426889778675,
         "split7_test_score": -1.2394640691154453,
         "split8_test_score": -1.2775645747940623,
         "split9_test_score": -1.283370538012691,
         "mean_test_score": -1.2450393014830035,
         "std_test_score": 0.10327980009811752,
         "rank_test_score": 9,
         "_deepnote_index_column": 98
        },
        {
         "mean_fit_time": 0.0852365255355835,
         "std_fit_time": 0.017968362435500387,
         "mean_score_time": 0.013117194175720215,
         "std_score_time": 0.010991305886738946,
         "param_reg__estimator__kernel": "rbf",
         "param_reg__estimator__gamma": "scale",
         "param_reg__estimator__epsilon": "1",
         "param_reg__estimator__C": "0.8",
         "params": "{'reg__estimator__kernel': 'rbf', 'reg__estimator__gamma': 'scale', 'reg__estimator__epsilon': 1, '…",
         "split0_test_score": -1.3790986563328655,
         "split1_test_score": -1.11521963038061,
         "split2_test_score": -1.436505275067145,
         "split3_test_score": -1.1906046989493821,
         "split4_test_score": -1.1011220979021101,
         "split5_test_score": -1.174595855450878,
         "split6_test_score": -1.292805273007157,
         "split7_test_score": -1.2458312542248207,
         "split8_test_score": -1.2863280765221368,
         "split9_test_score": -1.2925162031204842,
         "mean_test_score": -1.251462702095759,
         "std_test_score": 0.10293215085707473,
         "rank_test_score": 10,
         "_deepnote_index_column": 85
        }
       ]
      },
      "text/plain": "    mean_fit_time  std_fit_time  mean_score_time  std_score_time  \\\n25       0.234786      0.033771         0.023171        0.014467   \n38       0.465775      0.048035         0.040220        0.014049   \n4        0.368228      0.027029         0.022995        0.010511   \n27       0.731248      0.020237         0.044752        0.011990   \n77       0.355931      0.015046         0.030527        0.007956   \n..            ...           ...              ...             ...   \n62       0.393818      0.087499         0.033448        0.014215   \n21       0.493158      0.036056         0.045131        0.013518   \n92       0.475173      0.022020         0.037332        0.011775   \n28       0.425561      0.102664         0.035496        0.013038   \n53       0.340306      0.027908         0.031419        0.013942   \n\n   param_reg__estimator__kernel param_reg__estimator__gamma  \\\n25                          rbf                         0.1   \n38                          rbf                         0.1   \n4                           rbf                         0.1   \n27                          rbf                       scale   \n77                          rbf                       scale   \n..                          ...                         ...   \n62                      sigmoid                           1   \n21                      sigmoid                           1   \n92                      sigmoid                         0.1   \n28                      sigmoid                           1   \n53                      sigmoid                           1   \n\n   param_reg__estimator__epsilon param_reg__estimator__C  \\\n25                           0.5                      10   \n38                           0.1                       5   \n4                            0.1                      10   \n27                             0                      10   \n77                           0.1                     0.9   \n..                           ...                     ...   \n62                             1                     0.8   \n21                          0.01                     0.9   \n92                           0.5                      10   \n28                             1                       5   \n53                          0.01                      10   \n\n                                               params  split0_test_score  ...  \\\n25  {'reg__estimator__kernel': 'rbf', 'reg__estima...          -1.197364  ...   \n38  {'reg__estimator__kernel': 'rbf', 'reg__estima...          -1.200271  ...   \n4   {'reg__estimator__kernel': 'rbf', 'reg__estima...          -1.207562  ...   \n27  {'reg__estimator__kernel': 'rbf', 'reg__estima...          -1.224858  ...   \n77  {'reg__estimator__kernel': 'rbf', 'reg__estima...          -1.294281  ...   \n..                                                ...                ...  ...   \n62  {'reg__estimator__kernel': 'sigmoid', 'reg__es...         -73.259337  ...   \n21  {'reg__estimator__kernel': 'sigmoid', 'reg__es...         -81.994389  ...   \n92  {'reg__estimator__kernel': 'sigmoid', 'reg__es...        -111.070400  ...   \n28  {'reg__estimator__kernel': 'sigmoid', 'reg__es...        -450.403867  ...   \n53  {'reg__estimator__kernel': 'sigmoid', 'reg__es...        -899.010142  ...   \n\n    split3_test_score  split4_test_score  split5_test_score  \\\n25          -1.084497          -1.014444          -1.084127   \n38          -1.100461          -1.034966          -1.105456   \n4           -1.082505          -1.035927          -1.114696   \n27          -1.095537          -1.045017          -1.130750   \n77          -1.151472          -1.059258          -1.147161   \n..                ...                ...                ...   \n62         -99.465066        -103.226295         -90.165929   \n21        -111.698208        -116.329082        -101.654426   \n92        -110.898214        -105.802358        -104.111479   \n28        -612.862666        -641.524992        -559.581098   \n53       -1224.179541       -1282.012405       -1121.106804   \n\n    split6_test_score  split7_test_score  split8_test_score  \\\n25          -1.216867          -1.141230          -1.170604   \n38          -1.208320          -1.137123          -1.194610   \n4           -1.218145          -1.146244          -1.189561   \n27          -1.232592          -1.152714          -1.185656   \n77          -1.232402          -1.183373          -1.233216   \n..                ...                ...                ...   \n62         -97.864404         -98.593898        -102.272957   \n21        -109.929146        -110.790086        -114.838953   \n92        -106.694506        -114.169947        -110.203671   \n28        -604.912710        -611.090857        -632.166018   \n53       -1208.573310       -1219.741107       -1262.604065   \n\n    split9_test_score  mean_test_score  std_test_score  rank_test_score  \n25          -1.194763        -1.147131        0.097870                1  \n38          -1.221238        -1.159039        0.093284                2  \n4           -1.222730        -1.159135        0.093870                3  \n27          -1.232905        -1.169554        0.091136                4  \n77          -1.262444        -1.201227        0.091138                5  \n..                ...              ...             ...              ...  \n62        -105.855388       -96.345597        8.832072               96  \n21        -118.935927      -108.193126        9.987111               97  \n92        -115.801763      -111.347127        4.563349               98  \n28        -654.193121      -594.716500       55.147949               99  \n53       -1306.658738     -1188.081808      110.091483              100  \n\n[100 rows x 22 columns]",
      "text/html": "<div>\n<style scoped>\n    .dataframe tbody tr th:only-of-type {\n        vertical-align: middle;\n    }\n\n    .dataframe tbody tr th {\n        vertical-align: top;\n    }\n\n    .dataframe thead th {\n        text-align: right;\n    }\n</style>\n<table border=\"1\" class=\"dataframe\">\n  <thead>\n    <tr style=\"text-align: right;\">\n      <th></th>\n      <th>mean_fit_time</th>\n      <th>std_fit_time</th>\n      <th>mean_score_time</th>\n      <th>std_score_time</th>\n      <th>param_reg__estimator__kernel</th>\n      <th>param_reg__estimator__gamma</th>\n      <th>param_reg__estimator__epsilon</th>\n      <th>param_reg__estimator__C</th>\n      <th>params</th>\n      <th>split0_test_score</th>\n      <th>...</th>\n      <th>split3_test_score</th>\n      <th>split4_test_score</th>\n      <th>split5_test_score</th>\n      <th>split6_test_score</th>\n      <th>split7_test_score</th>\n      <th>split8_test_score</th>\n      <th>split9_test_score</th>\n      <th>mean_test_score</th>\n      <th>std_test_score</th>\n      <th>rank_test_score</th>\n    </tr>\n  </thead>\n  <tbody>\n    <tr>\n      <th>25</th>\n      <td>0.234786</td>\n      <td>0.033771</td>\n      <td>0.023171</td>\n      <td>0.014467</td>\n      <td>rbf</td>\n      <td>0.1</td>\n      <td>0.5</td>\n      <td>10</td>\n      <td>{'reg__estimator__kernel': 'rbf', 'reg__estima...</td>\n      <td>-1.197364</td>\n      <td>...</td>\n      <td>-1.084497</td>\n      <td>-1.014444</td>\n      <td>-1.084127</td>\n      <td>-1.216867</td>\n      <td>-1.141230</td>\n      <td>-1.170604</td>\n      <td>-1.194763</td>\n      <td>-1.147131</td>\n      <td>0.097870</td>\n      <td>1</td>\n    </tr>\n    <tr>\n      <th>38</th>\n      <td>0.465775</td>\n      <td>0.048035</td>\n      <td>0.040220</td>\n      <td>0.014049</td>\n      <td>rbf</td>\n      <td>0.1</td>\n      <td>0.1</td>\n      <td>5</td>\n      <td>{'reg__estimator__kernel': 'rbf', 'reg__estima...</td>\n      <td>-1.200271</td>\n      <td>...</td>\n      <td>-1.100461</td>\n      <td>-1.034966</td>\n      <td>-1.105456</td>\n      <td>-1.208320</td>\n      <td>-1.137123</td>\n      <td>-1.194610</td>\n      <td>-1.221238</td>\n      <td>-1.159039</td>\n      <td>0.093284</td>\n      <td>2</td>\n    </tr>\n    <tr>\n      <th>4</th>\n      <td>0.368228</td>\n      <td>0.027029</td>\n      <td>0.022995</td>\n      <td>0.010511</td>\n      <td>rbf</td>\n      <td>0.1</td>\n      <td>0.1</td>\n      <td>10</td>\n      <td>{'reg__estimator__kernel': 'rbf', 'reg__estima...</td>\n      <td>-1.207562</td>\n      <td>...</td>\n      <td>-1.082505</td>\n      <td>-1.035927</td>\n      <td>-1.114696</td>\n      <td>-1.218145</td>\n      <td>-1.146244</td>\n      <td>-1.189561</td>\n      <td>-1.222730</td>\n      <td>-1.159135</td>\n      <td>0.093870</td>\n      <td>3</td>\n    </tr>\n    <tr>\n      <th>27</th>\n      <td>0.731248</td>\n      <td>0.020237</td>\n      <td>0.044752</td>\n      <td>0.011990</td>\n      <td>rbf</td>\n      <td>scale</td>\n      <td>0</td>\n      <td>10</td>\n      <td>{'reg__estimator__kernel': 'rbf', 'reg__estima...</td>\n      <td>-1.224858</td>\n      <td>...</td>\n      <td>-1.095537</td>\n      <td>-1.045017</td>\n      <td>-1.130750</td>\n      <td>-1.232592</td>\n      <td>-1.152714</td>\n      <td>-1.185656</td>\n      <td>-1.232905</td>\n      <td>-1.169554</td>\n      <td>0.091136</td>\n      <td>4</td>\n    </tr>\n    <tr>\n      <th>77</th>\n      <td>0.355931</td>\n      <td>0.015046</td>\n      <td>0.030527</td>\n      <td>0.007956</td>\n      <td>rbf</td>\n      <td>scale</td>\n      <td>0.1</td>\n      <td>0.9</td>\n      <td>{'reg__estimator__kernel': 'rbf', 'reg__estima...</td>\n      <td>-1.294281</td>\n      <td>...</td>\n      <td>-1.151472</td>\n      <td>-1.059258</td>\n      <td>-1.147161</td>\n      <td>-1.232402</td>\n      <td>-1.183373</td>\n      <td>-1.233216</td>\n      <td>-1.262444</td>\n      <td>-1.201227</td>\n      <td>0.091138</td>\n      <td>5</td>\n    </tr>\n    <tr>\n      <th>...</th>\n      <td>...</td>\n      <td>...</td>\n      <td>...</td>\n      <td>...</td>\n      <td>...</td>\n      <td>...</td>\n      <td>...</td>\n      <td>...</td>\n      <td>...</td>\n      <td>...</td>\n      <td>...</td>\n      <td>...</td>\n      <td>...</td>\n      <td>...</td>\n      <td>...</td>\n      <td>...</td>\n      <td>...</td>\n      <td>...</td>\n      <td>...</td>\n      <td>...</td>\n      <td>...</td>\n    </tr>\n    <tr>\n      <th>62</th>\n      <td>0.393818</td>\n      <td>0.087499</td>\n      <td>0.033448</td>\n      <td>0.014215</td>\n      <td>sigmoid</td>\n      <td>1</td>\n      <td>1</td>\n      <td>0.8</td>\n      <td>{'reg__estimator__kernel': 'sigmoid', 'reg__es...</td>\n      <td>-73.259337</td>\n      <td>...</td>\n      <td>-99.465066</td>\n      <td>-103.226295</td>\n      <td>-90.165929</td>\n      <td>-97.864404</td>\n      <td>-98.593898</td>\n      <td>-102.272957</td>\n      <td>-105.855388</td>\n      <td>-96.345597</td>\n      <td>8.832072</td>\n      <td>96</td>\n    </tr>\n    <tr>\n      <th>21</th>\n      <td>0.493158</td>\n      <td>0.036056</td>\n      <td>0.045131</td>\n      <td>0.013518</td>\n      <td>sigmoid</td>\n      <td>1</td>\n      <td>0.01</td>\n      <td>0.9</td>\n      <td>{'reg__estimator__kernel': 'sigmoid', 'reg__es...</td>\n      <td>-81.994389</td>\n      <td>...</td>\n      <td>-111.698208</td>\n      <td>-116.329082</td>\n      <td>-101.654426</td>\n      <td>-109.929146</td>\n      <td>-110.790086</td>\n      <td>-114.838953</td>\n      <td>-118.935927</td>\n      <td>-108.193126</td>\n      <td>9.987111</td>\n      <td>97</td>\n    </tr>\n    <tr>\n      <th>92</th>\n      <td>0.475173</td>\n      <td>0.022020</td>\n      <td>0.037332</td>\n      <td>0.011775</td>\n      <td>sigmoid</td>\n      <td>0.1</td>\n      <td>0.5</td>\n      <td>10</td>\n      <td>{'reg__estimator__kernel': 'sigmoid', 'reg__es...</td>\n      <td>-111.070400</td>\n      <td>...</td>\n      <td>-110.898214</td>\n      <td>-105.802358</td>\n      <td>-104.111479</td>\n      <td>-106.694506</td>\n      <td>-114.169947</td>\n      <td>-110.203671</td>\n      <td>-115.801763</td>\n      <td>-111.347127</td>\n      <td>4.563349</td>\n      <td>98</td>\n    </tr>\n    <tr>\n      <th>28</th>\n      <td>0.425561</td>\n      <td>0.102664</td>\n      <td>0.035496</td>\n      <td>0.013038</td>\n      <td>sigmoid</td>\n      <td>1</td>\n      <td>1</td>\n      <td>5</td>\n      <td>{'reg__estimator__kernel': 'sigmoid', 'reg__es...</td>\n      <td>-450.403867</td>\n      <td>...</td>\n      <td>-612.862666</td>\n      <td>-641.524992</td>\n      <td>-559.581098</td>\n      <td>-604.912710</td>\n      <td>-611.090857</td>\n      <td>-632.166018</td>\n      <td>-654.193121</td>\n      <td>-594.716500</td>\n      <td>55.147949</td>\n      <td>99</td>\n    </tr>\n    <tr>\n      <th>53</th>\n      <td>0.340306</td>\n      <td>0.027908</td>\n      <td>0.031419</td>\n      <td>0.013942</td>\n      <td>sigmoid</td>\n      <td>1</td>\n      <td>0.01</td>\n      <td>10</td>\n      <td>{'reg__estimator__kernel': 'sigmoid', 'reg__es...</td>\n      <td>-899.010142</td>\n      <td>...</td>\n      <td>-1224.179541</td>\n      <td>-1282.012405</td>\n      <td>-1121.106804</td>\n      <td>-1208.573310</td>\n      <td>-1219.741107</td>\n      <td>-1262.604065</td>\n      <td>-1306.658738</td>\n      <td>-1188.081808</td>\n      <td>110.091483</td>\n      <td>100</td>\n    </tr>\n  </tbody>\n</table>\n<p>100 rows × 22 columns</p>\n</div>"
     },
     "metadata": {}
    }
   ],
   "execution_count": null
  },
  {
   "cell_type": "code",
   "metadata": {
    "cell_id": "00031-4019f6fd-8480-4427-b512-0385e26846a8",
    "deepnote_to_be_reexecuted": false,
    "source_hash": "7a6f806b",
    "execution_start": 1642335003861,
    "execution_millis": 726,
    "deepnote_cell_type": "code"
   },
   "source": "C_BEST = optimal_par.best_params_['reg__estimator__C']\nGAMMA = optimal_par.best_params_['reg__estimator__gamma']\nKERNEL = optimal_par.best_params_['reg__estimator__kernel']\nEPSILON = optimal_par.best_params_['reg__estimator__epsilon']\n\nclf_svr_cup = SVR(C=C_BEST, gamma=GAMMA, kernel=KERNEL, epsilon=EPSILON)\nmor_mee = MultiOutputRegressor(clf_svr_cup)\nmor_mee.fit(X_train_scaled, y_train)\n\ntrain_pred = mor_mee.predict(X_train_scaled)\nval_pred = mor_mee.predict(X_val_scaled)",
   "outputs": [],
   "execution_count": null
  },
  {
   "cell_type": "code",
   "metadata": {
    "cell_id": "00032-8395af74-afc5-4e8e-8c11-94a286d3a782",
    "deepnote_to_be_reexecuted": false,
    "source_hash": "52c66e2",
    "execution_start": 1642335004590,
    "execution_millis": 264,
    "deepnote_cell_type": "code"
   },
   "source": "print(f\"Accuracy: {mor_mee.score(X_train_scaled, y_train.values)}\")\nprint(f\"MEE: {mee(y_train.values, train_pred)}\")",
   "outputs": [
    {
     "name": "stdout",
     "text": "Accuracy: 0.9553916165568044\nMEE: 0.898094659377827\n",
     "output_type": "stream"
    }
   ],
   "execution_count": null
  },
  {
   "cell_type": "code",
   "metadata": {
    "cell_id": "00033-dcae3dba-7e96-49a8-bc38-be8ee5d210d2",
    "deepnote_output_heights": [
     264
    ],
    "deepnote_to_be_reexecuted": false,
    "source_hash": "5c05b41f",
    "execution_start": 1642335004857,
    "execution_millis": 317,
    "deepnote_cell_type": "code"
   },
   "source": "plot_coordinates(mor_mee, X_val_scaled, y_validation)",
   "outputs": [
    {
     "data": {
      "text/plain": "<Figure size 432x288 with 1 Axes>",
      "image/png": "[encoded data removed]"
     },
     "metadata": {
      "needs_background": "light",
      "image/png": {
       "width": 391,
       "height": 262
      }
     },
     "output_type": "display_data"
    }
   ],
   "execution_count": null
  },
  {
   "cell_type": "code",
   "metadata": {
    "cell_id": "00034-150990ac-bb10-43ae-8202-5ebacf7f5e38",
    "deepnote_output_heights": [
     264
    ],
    "deepnote_to_be_reexecuted": false,
    "source_hash": "8841f8e9",
    "execution_start": 1642335005175,
    "execution_millis": 615,
    "deepnote_cell_type": "code"
   },
   "source": "plot_coordinates(mor_mee, X_all, y_all)",
   "outputs": [
    {
     "data": {
      "text/plain": "<Figure size 432x288 with 1 Axes>",
      "image/png": "[encoded data removed]"
     },
     "metadata": {
      "needs_background": "light",
      "image/png": {
       "width": 391,
       "height": 262
      }
     },
     "output_type": "display_data"
    }
   ],
   "execution_count": null
  },
  {
   "cell_type": "code",
   "metadata": {
    "cell_id": "00035-f31e2a7c-818a-43e9-acbb-4769a228e35a",
    "deepnote_to_be_reexecuted": false,
    "source_hash": "e80c7ad3",
    "execution_start": 1642335005793,
    "execution_millis": 62,
    "deepnote_cell_type": "code"
   },
   "source": "print(f\"Accuracy: {mor_mee.score(X_val_scaled, y_validation)}\")\nprint(f\"MEE: {mee(y_validation.values, val_pred)}\")",
   "outputs": [
    {
     "name": "stdout",
     "text": "Accuracy: 0.9582132125208995\nMEE: 1.0426407156635356\n",
     "output_type": "stream"
    }
   ],
   "execution_count": null
  },
  {
   "cell_type": "code",
   "metadata": {
    "cell_id": "00036-d3708ac2-0d08-4d39-b6dd-65c60da83105",
    "deepnote_output_heights": [
     264
    ],
    "deepnote_to_be_reexecuted": false,
    "source_hash": "6c67edf0",
    "execution_start": 1642335005858,
    "execution_millis": 500,
    "deepnote_cell_type": "code"
   },
   "source": "plot_coordinates(mor_mee, X_test_scaled)",
   "outputs": [
    {
     "data": {
      "text/plain": "<Figure size 432x288 with 1 Axes>",
      "image/png": "[encoded data removed]"
     },
     "metadata": {
      "needs_background": "light",
      "image/png": {
       "width": 391,
       "height": 262
      }
     },
     "output_type": "display_data"
    }
   ],
   "execution_count": null
  },
  {
   "cell_type": "markdown",
   "source": "<a style='text-decoration:none;line-height:16px;display:flex;color:#5B5B62;padding:10px;justify-content:end;' href='https://deepnote.com?utm_source=created-in-deepnote-cell&projectId=d9d840c9-75b3-4185-bb01-105f5cca8d83' target=\"_blank\">\n<img alt='Created in deepnote.com' style='display:inline;max-height:16px;margin:0px;margin-right:7.5px;' src='data:image/svg+xml;base64,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' > </img>\nCreated in <span style='font-weight:600;margin-left:4px;'>Deepnote</span></a>",
   "metadata": {
    "tags": [],
    "created_in_deepnote_cell": true,
    "deepnote_cell_type": "markdown"
   }
  }
 ],
 "nbformat": 4,
 "nbformat_minor": 5,
 "metadata": {
  "kernelspec": {
   "display_name": "Python 3",
   "language": "python",
   "name": "python3"
  },
  "language_info": {
   "codemirror_mode": {
    "name": "ipython",
    "version": 3
   },
   "file_extension": ".py",
   "mimetype": "text/x-python",
   "name": "python",
   "nbconvert_exporter": "python",
   "pygments_lexer": "ipython3",
   "version": "3.8.8"
  },
  "deepnote_notebook_id": "7458a3f4-b8e7-4387-be0b-8cf72fa7cb31",
  "deepnote": {},
  "deepnote_execution_queue": []
 }
}