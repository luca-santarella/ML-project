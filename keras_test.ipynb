{
 "cells": [
  {
   "cell_type": "code",
   "metadata": {
    "tags": [],
    "cell_id": "00000-491e56f3-55b4-4cd0-b3ad-8561a5636151",
    "deepnote_to_be_reexecuted": false,
    "source_hash": "3009667b",
    "execution_start": 1641314867317,
    "execution_millis": 2683,
    "deepnote_cell_type": "code"
   },
   "source": "!pip install keras_tuner==1.1.0",
   "execution_count": null,
   "outputs": [
    {
     "name": "stdout",
     "text": "Requirement already satisfied: keras_tuner==1.1.0 in /root/venv/lib/python3.7/site-packages (1.1.0)\nRequirement already satisfied: kt-legacy in /root/venv/lib/python3.7/site-packages (from keras_tuner==1.1.0) (1.0.4)\nRequirement already satisfied: scipy in /shared-libs/python3.7/py/lib/python3.7/site-packages (from keras_tuner==1.1.0) (1.7.3)\nRequirement already satisfied: requests in /shared-libs/python3.7/py/lib/python3.7/site-packages (from keras_tuner==1.1.0) (2.26.0)\nRequirement already satisfied: tensorboard in /shared-libs/python3.7/py/lib/python3.7/site-packages (from keras_tuner==1.1.0) (2.7.0)\nRequirement already satisfied: packaging in /shared-libs/python3.7/py-core/lib/python3.7/site-packages (from keras_tuner==1.1.0) (21.3)\nRequirement already satisfied: numpy in /shared-libs/python3.7/py/lib/python3.7/site-packages (from keras_tuner==1.1.0) (1.19.5)\nRequirement already satisfied: ipython in /shared-libs/python3.7/py-core/lib/python3.7/site-packages (from keras_tuner==1.1.0) (7.30.1)\nRequirement already satisfied: certifi>=2017.4.17 in /shared-libs/python3.7/py/lib/python3.7/site-packages (from requests->keras_tuner==1.1.0) (2021.10.8)\nRequirement already satisfied: urllib3<1.27,>=1.21.1 in /shared-libs/python3.7/py/lib/python3.7/site-packages (from requests->keras_tuner==1.1.0) (1.26.7)\nRequirement already satisfied: charset-normalizer~=2.0.0; python_version >= \"3\" in /shared-libs/python3.7/py-core/lib/python3.7/site-packages (from requests->keras_tuner==1.1.0) (2.0.9)\nRequirement already satisfied: idna<4,>=2.5; python_version >= \"3\" in /shared-libs/python3.7/py-core/lib/python3.7/site-packages (from requests->keras_tuner==1.1.0) (3.3)\nRequirement already satisfied: werkzeug>=0.11.15 in /shared-libs/python3.7/py/lib/python3.7/site-packages (from tensorboard->keras_tuner==1.1.0) (2.0.2)\nRequirement already satisfied: google-auth<3,>=1.6.3 in /shared-libs/python3.7/py/lib/python3.7/site-packages (from tensorboard->keras_tuner==1.1.0) (1.35.0)\nRequirement already satisfied: absl-py>=0.4 in /shared-libs/python3.7/py/lib/python3.7/site-packages (from tensorboard->keras_tuner==1.1.0) (0.15.0)\nRequirement already satisfied: protobuf>=3.6.0 in /shared-libs/python3.7/py/lib/python3.7/site-packages (from tensorboard->keras_tuner==1.1.0) (3.19.1)\nRequirement already satisfied: wheel>=0.26 in /usr/local/lib/python3.7/site-packages (from tensorboard->keras_tuner==1.1.0) (0.37.0)\nRequirement already satisfied: google-auth-oauthlib<0.5,>=0.4.1 in /shared-libs/python3.7/py/lib/python3.7/site-packages (from tensorboard->keras_tuner==1.1.0) (0.4.6)\nRequirement already satisfied: setuptools>=41.0.0 in /root/venv/lib/python3.7/site-packages (from tensorboard->keras_tuner==1.1.0) (47.1.0)\nRequirement already satisfied: grpcio>=1.24.3 in /shared-libs/python3.7/py/lib/python3.7/site-packages (from tensorboard->keras_tuner==1.1.0) (1.32.0)\nRequirement already satisfied: tensorboard-data-server<0.7.0,>=0.6.0 in /shared-libs/python3.7/py/lib/python3.7/site-packages (from tensorboard->keras_tuner==1.1.0) (0.6.1)\nRequirement already satisfied: markdown>=2.6.8 in /shared-libs/python3.7/py/lib/python3.7/site-packages (from tensorboard->keras_tuner==1.1.0) (3.3.6)\nRequirement already satisfied: tensorboard-plugin-wit>=1.6.0 in /shared-libs/python3.7/py/lib/python3.7/site-packages (from tensorboard->keras_tuner==1.1.0) (1.8.0)\nRequirement already satisfied: pyparsing!=3.0.5,>=2.0.2 in /shared-libs/python3.7/py-core/lib/python3.7/site-packages (from packaging->keras_tuner==1.1.0) (3.0.6)\nRequirement already satisfied: traitlets>=4.2 in /shared-libs/python3.7/py-core/lib/python3.7/site-packages (from ipython->keras_tuner==1.1.0) (4.3.3)\nRequirement already satisfied: jedi>=0.16 in /shared-libs/python3.7/py-core/lib/python3.7/site-packages (from ipython->keras_tuner==1.1.0) (0.17.2)\nRequirement already satisfied: pickleshare in /shared-libs/python3.7/py-core/lib/python3.7/site-packages (from ipython->keras_tuner==1.1.0) (0.7.5)\nRequirement already satisfied: pexpect>4.3; sys_platform != \"win32\" in /shared-libs/python3.7/py-core/lib/python3.7/site-packages (from ipython->keras_tuner==1.1.0) (4.8.0)\nRequirement already satisfied: backcall in /shared-libs/python3.7/py-core/lib/python3.7/site-packages (from ipython->keras_tuner==1.1.0) (0.2.0)\nRequirement already satisfied: matplotlib-inline in /shared-libs/python3.7/py-core/lib/python3.7/site-packages (from ipython->keras_tuner==1.1.0) (0.1.3)\nRequirement already satisfied: prompt-toolkit!=3.0.0,!=3.0.1,<3.1.0,>=2.0.0 in /shared-libs/python3.7/py-core/lib/python3.7/site-packages (from ipython->keras_tuner==1.1.0) (3.0.24)\nRequirement already satisfied: decorator in /shared-libs/python3.7/py-core/lib/python3.7/site-packages (from ipython->keras_tuner==1.1.0) (5.1.0)\nRequirement already satisfied: pygments in /shared-libs/python3.7/py-core/lib/python3.7/site-packages (from ipython->keras_tuner==1.1.0) (2.10.0)\nRequirement already satisfied: cachetools<5.0,>=2.0.0 in /shared-libs/python3.7/py/lib/python3.7/site-packages (from google-auth<3,>=1.6.3->tensorboard->keras_tuner==1.1.0) (4.2.4)\nRequirement already satisfied: pyasn1-modules>=0.2.1 in /shared-libs/python3.7/py/lib/python3.7/site-packages (from google-auth<3,>=1.6.3->tensorboard->keras_tuner==1.1.0) (0.2.8)\nRequirement already satisfied: rsa<5,>=3.1.4; python_version >= \"3.6\" in /shared-libs/python3.7/py/lib/python3.7/site-packages (from google-auth<3,>=1.6.3->tensorboard->keras_tuner==1.1.0) (4.8)\nRequirement already satisfied: six>=1.9.0 in /shared-libs/python3.7/py-core/lib/python3.7/site-packages (from google-auth<3,>=1.6.3->tensorboard->keras_tuner==1.1.0) (1.16.0)\nRequirement already satisfied: requests-oauthlib>=0.7.0 in /shared-libs/python3.7/py/lib/python3.7/site-packages (from google-auth-oauthlib<0.5,>=0.4.1->tensorboard->keras_tuner==1.1.0) (1.3.0)\nRequirement already satisfied: importlib-metadata>=4.4; python_version < \"3.10\" in /shared-libs/python3.7/py-core/lib/python3.7/site-packages (from markdown>=2.6.8->tensorboard->keras_tuner==1.1.0) (4.8.2)\nRequirement already satisfied: ipython-genutils in /shared-libs/python3.7/py-core/lib/python3.7/site-packages (from traitlets>=4.2->ipython->keras_tuner==1.1.0) (0.2.0)\nRequirement already satisfied: parso<0.8.0,>=0.7.0 in /shared-libs/python3.7/py-core/lib/python3.7/site-packages (from jedi>=0.16->ipython->keras_tuner==1.1.0) (0.7.1)\nRequirement already satisfied: ptyprocess>=0.5 in /shared-libs/python3.7/py-core/lib/python3.7/site-packages (from pexpect>4.3; sys_platform != \"win32\"->ipython->keras_tuner==1.1.0) (0.7.0)\nRequirement already satisfied: wcwidth in /shared-libs/python3.7/py-core/lib/python3.7/site-packages (from prompt-toolkit!=3.0.0,!=3.0.1,<3.1.0,>=2.0.0->ipython->keras_tuner==1.1.0) (0.2.5)\nRequirement already satisfied: pyasn1<0.5.0,>=0.4.6 in /shared-libs/python3.7/py/lib/python3.7/site-packages (from pyasn1-modules>=0.2.1->google-auth<3,>=1.6.3->tensorboard->keras_tuner==1.1.0) (0.4.8)\nRequirement already satisfied: oauthlib>=3.0.0 in /shared-libs/python3.7/py/lib/python3.7/site-packages (from requests-oauthlib>=0.7.0->google-auth-oauthlib<0.5,>=0.4.1->tensorboard->keras_tuner==1.1.0) (3.1.1)\nRequirement already satisfied: zipp>=0.5 in /shared-libs/python3.7/py-core/lib/python3.7/site-packages (from importlib-metadata>=4.4; python_version < \"3.10\"->markdown>=2.6.8->tensorboard->keras_tuner==1.1.0) (3.6.0)\nRequirement already satisfied: typing-extensions>=3.6.4; python_version < \"3.8\" in /shared-libs/python3.7/py-core/lib/python3.7/site-packages (from importlib-metadata>=4.4; python_version < \"3.10\"->markdown>=2.6.8->tensorboard->keras_tuner==1.1.0) (4.0.1)\n\u001b[33mWARNING: You are using pip version 20.1.1; however, version 21.3.1 is available.\nYou should consider upgrading via the '/root/venv/bin/python -m pip install --upgrade pip' command.\u001b[0m\n",
     "output_type": "stream",
     "data": {}
    }
   ]
  },
  {
   "cell_type": "code",
   "metadata": {
    "tags": [],
    "cell_id": "00000-aa9ccdef-9d09-4371-b52d-10e76e869af2",
    "deepnote_to_be_reexecuted": false,
    "source_hash": "e3d46f6b",
    "execution_start": 1641314870003,
    "execution_millis": 4610,
    "deepnote_output_heights": [
     203.1999969482422
    ],
    "deepnote_cell_type": "code"
   },
   "source": "import pandas as pd\nimport numpy as np\nimport matplotlib.pyplot as plt\nimport keras_tuner as kt\nimport tensorflow as tf\n\nfrom tensorflow.keras.models import Sequential\nfrom tensorflow.keras import layers, activations\nfrom tensorflow.keras import initializers\nfrom tensorflow.keras import regularizers\nfrom tensorflow.keras import backend as K\nfrom tensorflow.keras import optimizers\nfrom tensorflow.keras import utils\n\nfrom sklearn.preprocessing import OneHotEncoder\nfrom sklearn import model_selection ",
   "execution_count": null,
   "outputs": []
  },
  {
   "cell_type": "code",
   "metadata": {
    "tags": [],
    "cell_id": "00001-2a39e8fa-1ea4-496f-9099-d829d3d4e34c",
    "deepnote_to_be_reexecuted": false,
    "source_hash": "14ca8feb",
    "execution_start": 1641314874618,
    "execution_millis": 220,
    "deepnote_cell_type": "code"
   },
   "source": "colnames = ['class', 'a1', 'a2', 'a3', 'a4', 'a5', 'a6', 'id']\ndf_monk1_train = pd.read_csv(\"./data/MONK/monks-1.train\", sep = \" \", skipinitialspace=True, names = colnames)\ndf_monk1_train.drop('id', axis = 1, inplace = True)\ndf_monk1_test = pd.read_csv(\"./data/MONK/monks-1.test\", sep = \" \", skipinitialspace=True, names = colnames)\ndf_monk1_test.drop('id', axis = 1, inplace = True)\ndf_monk1_train.head()",
   "execution_count": null,
   "outputs": [
    {
     "output_type": "execute_result",
     "execution_count": 3,
     "data": {
      "application/vnd.deepnote.dataframe.v3+json": {
       "column_count": 7,
       "row_count": 5,
       "columns": [
        {
         "name": "class",
         "dtype": "int64",
         "stats": {
          "unique_count": 1,
          "nan_count": 0,
          "min": "1",
          "max": "1",
          "histogram": [
           {
            "bin_start": 0.5,
            "bin_end": 0.6,
            "count": 0
           },
           {
            "bin_start": 0.6,
            "bin_end": 0.7,
            "count": 0
           },
           {
            "bin_start": 0.7,
            "bin_end": 0.8,
            "count": 0
           },
           {
            "bin_start": 0.8,
            "bin_end": 0.9,
            "count": 0
           },
           {
            "bin_start": 0.9,
            "bin_end": 1,
            "count": 0
           },
           {
            "bin_start": 1,
            "bin_end": 1.1,
            "count": 5
           },
           {
            "bin_start": 1.1,
            "bin_end": 1.2000000000000002,
            "count": 0
           },
           {
            "bin_start": 1.2000000000000002,
            "bin_end": 1.3,
            "count": 0
           },
           {
            "bin_start": 1.3,
            "bin_end": 1.4,
            "count": 0
           },
           {
            "bin_start": 1.4,
            "bin_end": 1.5,
            "count": 0
           }
          ]
         }
        },
        {
         "name": "a1",
         "dtype": "int64",
         "stats": {
          "unique_count": 1,
          "nan_count": 0,
          "min": "1",
          "max": "1",
          "histogram": [
           {
            "bin_start": 0.5,
            "bin_end": 0.6,
            "count": 0
           },
           {
            "bin_start": 0.6,
            "bin_end": 0.7,
            "count": 0
           },
           {
            "bin_start": 0.7,
            "bin_end": 0.8,
            "count": 0
           },
           {
            "bin_start": 0.8,
            "bin_end": 0.9,
            "count": 0
           },
           {
            "bin_start": 0.9,
            "bin_end": 1,
            "count": 0
           },
           {
            "bin_start": 1,
            "bin_end": 1.1,
            "count": 5
           },
           {
            "bin_start": 1.1,
            "bin_end": 1.2000000000000002,
            "count": 0
           },
           {
            "bin_start": 1.2000000000000002,
            "bin_end": 1.3,
            "count": 0
           },
           {
            "bin_start": 1.3,
            "bin_end": 1.4,
            "count": 0
           },
           {
            "bin_start": 1.4,
            "bin_end": 1.5,
            "count": 0
           }
          ]
         }
        },
        {
         "name": "a2",
         "dtype": "int64",
         "stats": {
          "unique_count": 1,
          "nan_count": 0,
          "min": "1",
          "max": "1",
          "histogram": [
           {
            "bin_start": 0.5,
            "bin_end": 0.6,
            "count": 0
           },
           {
            "bin_start": 0.6,
            "bin_end": 0.7,
            "count": 0
           },
           {
            "bin_start": 0.7,
            "bin_end": 0.8,
            "count": 0
           },
           {
            "bin_start": 0.8,
            "bin_end": 0.9,
            "count": 0
           },
           {
            "bin_start": 0.9,
            "bin_end": 1,
            "count": 0
           },
           {
            "bin_start": 1,
            "bin_end": 1.1,
            "count": 5
           },
           {
            "bin_start": 1.1,
            "bin_end": 1.2000000000000002,
            "count": 0
           },
           {
            "bin_start": 1.2000000000000002,
            "bin_end": 1.3,
            "count": 0
           },
           {
            "bin_start": 1.3,
            "bin_end": 1.4,
            "count": 0
           },
           {
            "bin_start": 1.4,
            "bin_end": 1.5,
            "count": 0
           }
          ]
         }
        },
        {
         "name": "a3",
         "dtype": "int64",
         "stats": {
          "unique_count": 2,
          "nan_count": 0,
          "min": "1",
          "max": "2",
          "histogram": [
           {
            "bin_start": 1,
            "bin_end": 1.1,
            "count": 4
           },
           {
            "bin_start": 1.1,
            "bin_end": 1.2,
            "count": 0
           },
           {
            "bin_start": 1.2,
            "bin_end": 1.3,
            "count": 0
           },
           {
            "bin_start": 1.3,
            "bin_end": 1.4,
            "count": 0
           },
           {
            "bin_start": 1.4,
            "bin_end": 1.5,
            "count": 0
           },
           {
            "bin_start": 1.5,
            "bin_end": 1.6,
            "count": 0
           },
           {
            "bin_start": 1.6,
            "bin_end": 1.7000000000000002,
            "count": 0
           },
           {
            "bin_start": 1.7000000000000002,
            "bin_end": 1.8,
            "count": 0
           },
           {
            "bin_start": 1.8,
            "bin_end": 1.9,
            "count": 0
           },
           {
            "bin_start": 1.9,
            "bin_end": 2,
            "count": 1
           }
          ]
         }
        },
        {
         "name": "a4",
         "dtype": "int64",
         "stats": {
          "unique_count": 2,
          "nan_count": 0,
          "min": "1",
          "max": "3",
          "histogram": [
           {
            "bin_start": 1,
            "bin_end": 1.2,
            "count": 3
           },
           {
            "bin_start": 1.2,
            "bin_end": 1.4,
            "count": 0
           },
           {
            "bin_start": 1.4,
            "bin_end": 1.6,
            "count": 0
           },
           {
            "bin_start": 1.6,
            "bin_end": 1.8,
            "count": 0
           },
           {
            "bin_start": 1.8,
            "bin_end": 2,
            "count": 0
           },
           {
            "bin_start": 2,
            "bin_end": 2.2,
            "count": 0
           },
           {
            "bin_start": 2.2,
            "bin_end": 2.4000000000000004,
            "count": 0
           },
           {
            "bin_start": 2.4000000000000004,
            "bin_end": 2.6,
            "count": 0
           },
           {
            "bin_start": 2.6,
            "bin_end": 2.8,
            "count": 0
           },
           {
            "bin_start": 2.8,
            "bin_end": 3,
            "count": 2
           }
          ]
         }
        },
        {
         "name": "a5",
         "dtype": "int64",
         "stats": {
          "unique_count": 2,
          "nan_count": 0,
          "min": "2",
          "max": "3",
          "histogram": [
           {
            "bin_start": 2,
            "bin_end": 2.1,
            "count": 2
           },
           {
            "bin_start": 2.1,
            "bin_end": 2.2,
            "count": 0
           },
           {
            "bin_start": 2.2,
            "bin_end": 2.3,
            "count": 0
           },
           {
            "bin_start": 2.3,
            "bin_end": 2.4,
            "count": 0
           },
           {
            "bin_start": 2.4,
            "bin_end": 2.5,
            "count": 0
           },
           {
            "bin_start": 2.5,
            "bin_end": 2.6,
            "count": 0
           },
           {
            "bin_start": 2.6,
            "bin_end": 2.7,
            "count": 0
           },
           {
            "bin_start": 2.7,
            "bin_end": 2.8,
            "count": 0
           },
           {
            "bin_start": 2.8,
            "bin_end": 2.9,
            "count": 0
           },
           {
            "bin_start": 2.9,
            "bin_end": 3,
            "count": 3
           }
          ]
         }
        },
        {
         "name": "a6",
         "dtype": "int64",
         "stats": {
          "unique_count": 2,
          "nan_count": 0,
          "min": "1",
          "max": "2",
          "histogram": [
           {
            "bin_start": 1,
            "bin_end": 1.1,
            "count": 3
           },
           {
            "bin_start": 1.1,
            "bin_end": 1.2,
            "count": 0
           },
           {
            "bin_start": 1.2,
            "bin_end": 1.3,
            "count": 0
           },
           {
            "bin_start": 1.3,
            "bin_end": 1.4,
            "count": 0
           },
           {
            "bin_start": 1.4,
            "bin_end": 1.5,
            "count": 0
           },
           {
            "bin_start": 1.5,
            "bin_end": 1.6,
            "count": 0
           },
           {
            "bin_start": 1.6,
            "bin_end": 1.7000000000000002,
            "count": 0
           },
           {
            "bin_start": 1.7000000000000002,
            "bin_end": 1.8,
            "count": 0
           },
           {
            "bin_start": 1.8,
            "bin_end": 1.9,
            "count": 0
           },
           {
            "bin_start": 1.9,
            "bin_end": 2,
            "count": 2
           }
          ]
         }
        },
        {
         "name": "_deepnote_index_column",
         "dtype": "int64"
        }
       ],
       "rows": [
        {
         "class": 1,
         "a1": 1,
         "a2": 1,
         "a3": 1,
         "a4": 1,
         "a5": 3,
         "a6": 1,
         "_deepnote_index_column": 0
        },
        {
         "class": 1,
         "a1": 1,
         "a2": 1,
         "a3": 1,
         "a4": 1,
         "a5": 3,
         "a6": 2,
         "_deepnote_index_column": 1
        },
        {
         "class": 1,
         "a1": 1,
         "a2": 1,
         "a3": 1,
         "a4": 3,
         "a5": 2,
         "a6": 1,
         "_deepnote_index_column": 2
        },
        {
         "class": 1,
         "a1": 1,
         "a2": 1,
         "a3": 1,
         "a4": 3,
         "a5": 3,
         "a6": 2,
         "_deepnote_index_column": 3
        },
        {
         "class": 1,
         "a1": 1,
         "a2": 1,
         "a3": 2,
         "a4": 1,
         "a5": 2,
         "a6": 1,
         "_deepnote_index_column": 4
        }
       ]
      },
      "text/plain": "   class  a1  a2  a3  a4  a5  a6\n0      1   1   1   1   1   3   1\n1      1   1   1   1   1   3   2\n2      1   1   1   1   3   2   1\n3      1   1   1   1   3   3   2\n4      1   1   1   2   1   2   1",
      "text/html": "<div>\n<style scoped>\n    .dataframe tbody tr th:only-of-type {\n        vertical-align: middle;\n    }\n\n    .dataframe tbody tr th {\n        vertical-align: top;\n    }\n\n    .dataframe thead th {\n        text-align: right;\n    }\n</style>\n<table border=\"1\" class=\"dataframe\">\n  <thead>\n    <tr style=\"text-align: right;\">\n      <th></th>\n      <th>class</th>\n      <th>a1</th>\n      <th>a2</th>\n      <th>a3</th>\n      <th>a4</th>\n      <th>a5</th>\n      <th>a6</th>\n    </tr>\n  </thead>\n  <tbody>\n    <tr>\n      <th>0</th>\n      <td>1</td>\n      <td>1</td>\n      <td>1</td>\n      <td>1</td>\n      <td>1</td>\n      <td>3</td>\n      <td>1</td>\n    </tr>\n    <tr>\n      <th>1</th>\n      <td>1</td>\n      <td>1</td>\n      <td>1</td>\n      <td>1</td>\n      <td>1</td>\n      <td>3</td>\n      <td>2</td>\n    </tr>\n    <tr>\n      <th>2</th>\n      <td>1</td>\n      <td>1</td>\n      <td>1</td>\n      <td>1</td>\n      <td>3</td>\n      <td>2</td>\n      <td>1</td>\n    </tr>\n    <tr>\n      <th>3</th>\n      <td>1</td>\n      <td>1</td>\n      <td>1</td>\n      <td>1</td>\n      <td>3</td>\n      <td>3</td>\n      <td>2</td>\n    </tr>\n    <tr>\n      <th>4</th>\n      <td>1</td>\n      <td>1</td>\n      <td>1</td>\n      <td>2</td>\n      <td>1</td>\n      <td>2</td>\n      <td>1</td>\n    </tr>\n  </tbody>\n</table>\n</div>"
     },
     "metadata": {}
    }
   ]
  },
  {
   "cell_type": "code",
   "metadata": {
    "tags": [],
    "cell_id": "00002-530c8781-3ae9-47fd-9a38-ce74e981d239",
    "deepnote_to_be_reexecuted": false,
    "source_hash": "a98aacc6",
    "execution_start": 1641314874673,
    "execution_millis": 2,
    "deepnote_cell_type": "code"
   },
   "source": "#get attributes and target values\nX_all = df_monk1_train.iloc[:, 1:7].values\ny_all = df_monk1_train.iloc[:, 0].values\nX_test = df_monk1_test.iloc[:, 1:7].values\ny_test = df_monk1_test.iloc[:, 0].values",
   "execution_count": null,
   "outputs": []
  },
  {
   "cell_type": "markdown",
   "source": "# One hot encoding ",
   "metadata": {
    "tags": [],
    "is_collapsed": false,
    "cell_id": "00004-05c069e4-4db3-4447-8a19-d4720e5b93ec",
    "deepnote_cell_type": "text-cell-h1"
   }
  },
  {
   "cell_type": "code",
   "metadata": {
    "tags": [],
    "cell_id": "00005-57944cd0-0a50-413a-a8bd-c193e60cfe6a",
    "deepnote_to_be_reexecuted": false,
    "source_hash": "57d719ec",
    "execution_start": 1641314874676,
    "execution_millis": 3,
    "deepnote_output_heights": [
     null,
     30.399993896484375
    ],
    "deepnote_cell_type": "code"
   },
   "source": "def one_hot_encoder(X_all, X_test):\n    enc_all = OneHotEncoder()\n    enc_all.fit(X_all)\n    X_all = enc_all.transform(X_all).toarray()\n    \n    enc_test = OneHotEncoder()\n    enc_test.fit(X_test)\n    X_test = enc_test.transform(X_test).toarray()\n    return X_all, X_test",
   "execution_count": null,
   "outputs": []
  },
  {
   "cell_type": "markdown",
   "source": "# Shuffle and encode data",
   "metadata": {
    "tags": [],
    "is_collapsed": false,
    "cell_id": "00006-b5f1eb34-ab39-4f8d-880a-a07f4840373e",
    "deepnote_cell_type": "text-cell-h1"
   }
  },
  {
   "cell_type": "code",
   "metadata": {
    "tags": [],
    "cell_id": "00007-287d04cb-1258-44b4-8bb6-166375f6191c",
    "deepnote_to_be_reexecuted": false,
    "source_hash": "a89e6810",
    "execution_start": 1641314874682,
    "execution_millis": 160,
    "deepnote_cell_type": "code"
   },
   "source": "from sklearn.utils import shuffle\nX_all, y_all = shuffle(X_all, y_all)\nX_all, X_test = one_hot_encoder(X_all, X_test)\nval_size =int(0.2 * len(X_all))\nX_val = X_all[:val_size]\ny_val = y_all[:val_size]\nX_train = X_all[val_size:]\ny_train = y_all[val_size:]\nprint(X_val.shape)\nprint(X_train.shape)\nprint(X_test.shape)\nprint(X_train[0])",
   "execution_count": null,
   "outputs": [
    {
     "name": "stdout",
     "text": "(24, 17)\n(100, 17)\n(432, 17)\n[1. 0. 0. 0. 0. 1. 0. 1. 0. 1. 0. 0. 0. 0. 1. 1. 0.]\n",
     "output_type": "stream",
     "data": {}
    }
   ]
  },
  {
   "cell_type": "markdown",
   "source": "# Define the model",
   "metadata": {
    "tags": [],
    "is_collapsed": false,
    "cell_id": "00006-991f9b7c-7144-48fd-9487-c00fb305e7f3",
    "deepnote_cell_type": "text-cell-h1"
   }
  },
  {
   "cell_type": "code",
   "metadata": {
    "tags": [],
    "cell_id": "00004-f2491fb7-2621-47a8-b231-2d689ce10584",
    "deepnote_to_be_reexecuted": false,
    "source_hash": "5f11cd06",
    "execution_start": 1641314874692,
    "execution_millis": 153,
    "deepnote_output_heights": [
     21.199996948242188
    ],
    "deepnote_cell_type": "code"
   },
   "source": "\ndef build_model(hp):\n    model = Sequential()\n    model.add(layers.Dense(hp.Int('units', min_value=6, max_value=72, step=6), activation='relu'))\n    model.add(layers.Dense(1, activation=\"sigmoid\"))\n    learning_rate = hp.Float(\"lr\", min_value=1e-4, max_value=1e-2, sampling=\"log\")\n    model.compile(\n        optimizer=optimizers.Adam(learning_rate=learning_rate),\n        loss=\"binary_crossentropy\",\n        metrics=[\"accuracy\"],\n    )\n    return model\n\n\nbuild_model(kt.HyperParameters())\n",
   "execution_count": null,
   "outputs": [
    {
     "output_type": "execute_result",
     "execution_count": 7,
     "data": {
      "text/plain": "<tensorflow.python.keras.engine.sequential.Sequential at 0x7f3d21131310>"
     },
     "metadata": {}
    }
   ]
  },
  {
   "cell_type": "code",
   "metadata": {
    "tags": [],
    "cell_id": "00005-0496b7d4-ff6d-4515-90b3-1d3b0fa00715",
    "deepnote_to_be_reexecuted": false,
    "source_hash": "70cb1f3e",
    "execution_start": 1641314874764,
    "execution_millis": 85,
    "deepnote_cell_type": "code"
   },
   "source": "tuner = kt.RandomSearch(\n    hypermodel = build_model,\n    #MyHyperModel(),\n    objective='val_accuracy',\n    max_trials=5,\n    overwrite=True,\n)\ntuner.search_space_summary()\n",
   "execution_count": null,
   "outputs": [
    {
     "name": "stdout",
     "text": "Search space summary\nDefault search space size: 2\nunits (Int)\n{'default': None, 'conditions': [], 'min_value': 6, 'max_value': 72, 'step': 6, 'sampling': None}\nlr (Float)\n{'default': 0.0001, 'conditions': [], 'min_value': 0.0001, 'max_value': 0.01, 'step': None, 'sampling': 'log'}\n",
     "output_type": "stream",
     "data": {}
    }
   ]
  },
  {
   "cell_type": "code",
   "metadata": {
    "tags": [],
    "cell_id": "00006-a133740a-59c0-4226-af4b-509a94c8119e",
    "deepnote_to_be_reexecuted": false,
    "source_hash": "e5467144",
    "execution_start": 1641314874765,
    "execution_millis": 29316,
    "deepnote_cell_type": "code"
   },
   "source": "#stop_early = tf.keras.callbacks.EarlyStopping(monitor='val_loss', patience=5)\ntuner.search(X_train, y_train, epochs=150, verbose=0,  validation_data=(X_val, y_val) )\n#tuner.search(X_train, y_train, epochs=150, batch_size=10, callbacks=[stop_early], verbose=0,  validation_data=(X_val, y_val) )\n#hypermodel = MyHyperModel()\nhyperparameters = tuner.get_best_hyperparameters()[0]\n#model = tuner.hypermodel.build(hyperparameters)\n#model = hypermodel.build(hyperparameters)\n\nmodel = build_model(hyperparameters)\nmodel.build(input_shape=(None, 17))\nprint(model.summary())\n#print(hyperparameters.get('units2'))\n#print(hyperparameters.get('learning_rate'))\n\n",
   "execution_count": null,
   "outputs": [
    {
     "name": "stdout",
     "text": "INFO:tensorflow:Oracle triggered exit\nModel: \"sequential_1\"\n_________________________________________________________________\nLayer (type)                 Output Shape              Param #   \n=================================================================\ndense_2 (Dense)              (None, 18)                324       \n_________________________________________________________________\ndense_3 (Dense)              (None, 1)                 19        \n=================================================================\nTotal params: 343\nTrainable params: 343\nNon-trainable params: 0\n_________________________________________________________________\nNone\n",
     "output_type": "stream",
     "data": {}
    }
   ]
  },
  {
   "cell_type": "code",
   "metadata": {
    "tags": [],
    "cell_id": "00005-10ddc59e-fbbb-4caf-ba88-b2fbf85d16e0",
    "deepnote_to_be_reexecuted": false,
    "source_hash": "eea6b62d",
    "execution_start": 1641314904080,
    "execution_millis": 9597,
    "deepnote_output_heights": [
     null,
     280,
     280
    ],
    "deepnote_cell_type": "code"
   },
   "source": "train_loss = []\ntest_loss =[]\ntrain_acc = []\ntest_acc = []\n\nfor i in range(100):\n    history = model.fit( X_all, y_all, batch_size=10, verbose=0)\n    train_loss.append(history.history['loss'])\n    train_acc.append(history.history['accuracy'])\n    score = model.evaluate(X_test, y_test)\n    test_loss.append(score[0])\n    test_acc.append(score[1])\n\nprint(train_acc[99])\nprint(test_acc[99])\n\nplt.plot(train_loss, '-', label='train')\nplt.plot(test_loss, '-.', label='test')\nplt.legend()\nplt.title('loss')\nplt.xlabel('epochs')\nplt.ylabel('loss')\nplt.show()\nplt.plot(train_acc, '-', label='train')\nplt.plot(test_acc, '-.', label='test')\nplt.legend()\nplt.title('accuracy')\nplt.xlabel('epochs')\nplt.ylabel('accuracy')\nplt.show()\n",
   "execution_count": null,
   "outputs": [
    {
     "name": "stdout",
     "text": "14/14 [==============================] - 0s 790us/step - loss: 0.6610 - accuracy: 0.5972\n14/14 [==============================] - 0s 726us/step - loss: 0.6245 - accuracy: 0.6644\n14/14 [==============================] - 0s 737us/step - loss: 0.5934 - accuracy: 0.7153\n14/14 [==============================] - 0s 697us/step - loss: 0.5678 - accuracy: 0.7269\n14/14 [==============================] - 0s 735us/step - loss: 0.5436 - accuracy: 0.7338\n14/14 [==============================] - 0s 1ms/step - loss: 0.5185 - accuracy: 0.7662\n14/14 [==============================] - 0s 1ms/step - loss: 0.4983 - accuracy: 0.7731\n14/14 [==============================] - 0s 715us/step - loss: 0.4733 - accuracy: 0.7940\n14/14 [==============================] - 0s 693us/step - loss: 0.4520 - accuracy: 0.8079\n14/14 [==============================] - 0s 722us/step - loss: 0.4298 - accuracy: 0.8009\n14/14 [==============================] - 0s 716us/step - loss: 0.3986 - accuracy: 0.8241\n14/14 [==============================] - 0s 699us/step - loss: 0.3760 - accuracy: 0.8449\n14/14 [==============================] - 0s 820us/step - loss: 0.3504 - accuracy: 0.8565\n14/14 [==============================] - 0s 723us/step - loss: 0.3388 - accuracy: 0.8634\n14/14 [==============================] - 0s 718us/step - loss: 0.3059 - accuracy: 0.8819\n14/14 [==============================] - 0s 798us/step - loss: 0.2844 - accuracy: 0.9028\n14/14 [==============================] - 0s 726us/step - loss: 0.2595 - accuracy: 0.9190\n14/14 [==============================] - 0s 714us/step - loss: 0.2348 - accuracy: 0.9329\n14/14 [==============================] - 0s 697us/step - loss: 0.2134 - accuracy: 0.9444\n14/14 [==============================] - 0s 694us/step - loss: 0.1926 - accuracy: 0.9514\n14/14 [==============================] - 0s 740us/step - loss: 0.1727 - accuracy: 0.9630\n14/14 [==============================] - 0s 682us/step - loss: 0.1563 - accuracy: 0.9769\n14/14 [==============================] - 0s 683us/step - loss: 0.1424 - accuracy: 0.9907\n14/14 [==============================] - 0s 755us/step - loss: 0.1314 - accuracy: 0.9954\n14/14 [==============================] - 0s 700us/step - loss: 0.1195 - accuracy: 0.9931\n14/14 [==============================] - 0s 709us/step - loss: 0.1102 - accuracy: 0.9954\n14/14 [==============================] - 0s 667us/step - loss: 0.1001 - accuracy: 0.9954\n14/14 [==============================] - 0s 733us/step - loss: 0.0930 - accuracy: 0.9954\n14/14 [==============================] - 0s 719us/step - loss: 0.0856 - accuracy: 1.0000\n14/14 [==============================] - 0s 712us/step - loss: 0.0789 - accuracy: 1.0000\n14/14 [==============================] - 0s 760us/step - loss: 0.0724 - accuracy: 1.0000\n14/14 [==============================] - 0s 715us/step - loss: 0.0666 - accuracy: 1.0000\n14/14 [==============================] - 0s 840us/step - loss: 0.0625 - accuracy: 1.0000\n14/14 [==============================] - 0s 953us/step - loss: 0.0578 - accuracy: 1.0000\n14/14 [==============================] - 0s 723us/step - loss: 0.0537 - accuracy: 1.0000\n14/14 [==============================] - 0s 729us/step - loss: 0.0496 - accuracy: 1.0000\n14/14 [==============================] - 0s 709us/step - loss: 0.0466 - accuracy: 1.0000\n14/14 [==============================] - 0s 661us/step - loss: 0.0436 - accuracy: 1.0000\n14/14 [==============================] - 0s 718us/step - loss: 0.0401 - accuracy: 1.0000\n14/14 [==============================] - 0s 754us/step - loss: 0.0377 - accuracy: 1.0000\n14/14 [==============================] - 0s 758us/step - loss: 0.0354 - accuracy: 1.0000\n14/14 [==============================] - 0s 713us/step - loss: 0.0330 - accuracy: 1.0000\n14/14 [==============================] - 0s 710us/step - loss: 0.0316 - accuracy: 1.0000\n14/14 [==============================] - 0s 696us/step - loss: 0.0294 - accuracy: 1.0000\n14/14 [==============================] - 0s 719us/step - loss: 0.0277 - accuracy: 1.0000\n14/14 [==============================] - 0s 792us/step - loss: 0.0261 - accuracy: 1.0000\n14/14 [==============================] - 0s 762us/step - loss: 0.0248 - accuracy: 1.0000\n14/14 [==============================] - 0s 713us/step - loss: 0.0237 - accuracy: 1.0000\n14/14 [==============================] - 0s 730us/step - loss: 0.0225 - accuracy: 1.0000\n14/14 [==============================] - 0s 697us/step - loss: 0.0215 - accuracy: 1.0000\n14/14 [==============================] - 0s 694us/step - loss: 0.0204 - accuracy: 1.0000\n14/14 [==============================] - 0s 706us/step - loss: 0.0194 - accuracy: 1.0000\n14/14 [==============================] - 0s 713us/step - loss: 0.0186 - accuracy: 1.0000\n14/14 [==============================] - 0s 689us/step - loss: 0.0176 - accuracy: 1.0000\n14/14 [==============================] - 0s 712us/step - loss: 0.0169 - accuracy: 1.0000\n14/14 [==============================] - 0s 777us/step - loss: 0.0162 - accuracy: 1.0000\n14/14 [==============================] - 0s 830us/step - loss: 0.0155 - accuracy: 1.0000\n14/14 [==============================] - 0s 786us/step - loss: 0.0149 - accuracy: 1.0000\n14/14 [==============================] - 0s 725us/step - loss: 0.0143 - accuracy: 1.0000\n14/14 [==============================] - 0s 721us/step - loss: 0.0137 - accuracy: 1.0000\n14/14 [==============================] - 0s 689us/step - loss: 0.0132 - accuracy: 1.0000\n14/14 [==============================] - 0s 756us/step - loss: 0.0127 - accuracy: 1.0000\n14/14 [==============================] - 0s 724us/step - loss: 0.0121 - accuracy: 1.0000\n14/14 [==============================] - 0s 711us/step - loss: 0.0117 - accuracy: 1.0000\n14/14 [==============================] - 0s 698us/step - loss: 0.0113 - accuracy: 1.0000\n14/14 [==============================] - 0s 726us/step - loss: 0.0109 - accuracy: 1.0000\n14/14 [==============================] - 0s 686us/step - loss: 0.0106 - accuracy: 1.0000\n14/14 [==============================] - 0s 684us/step - loss: 0.0102 - accuracy: 1.0000\n14/14 [==============================] - 0s 719us/step - loss: 0.0098 - accuracy: 1.0000\n14/14 [==============================] - 0s 685us/step - loss: 0.0094 - accuracy: 1.0000\n14/14 [==============================] - 0s 708us/step - loss: 0.0091 - accuracy: 1.0000\n14/14 [==============================] - 0s 709us/step - loss: 0.0088 - accuracy: 1.0000\n14/14 [==============================] - 0s 681us/step - loss: 0.0085 - accuracy: 1.0000\n14/14 [==============================] - 0s 698us/step - loss: 0.0082 - accuracy: 1.0000\n14/14 [==============================] - 0s 705us/step - loss: 0.0080 - accuracy: 1.0000\n14/14 [==============================] - 0s 711us/step - loss: 0.0077 - accuracy: 1.0000\n14/14 [==============================] - 0s 709us/step - loss: 0.0075 - accuracy: 1.0000\n14/14 [==============================] - 0s 721us/step - loss: 0.0073 - accuracy: 1.0000\n14/14 [==============================] - 0s 743us/step - loss: 0.0070 - accuracy: 1.0000\n14/14 [==============================] - 0s 716us/step - loss: 0.0068 - accuracy: 1.0000\n14/14 [==============================] - 0s 959us/step - loss: 0.0066 - accuracy: 1.0000\n14/14 [==============================] - 0s 717us/step - loss: 0.0064 - accuracy: 1.0000\n14/14 [==============================] - 0s 691us/step - loss: 0.0062 - accuracy: 1.0000\n14/14 [==============================] - 0s 673us/step - loss: 0.0060 - accuracy: 1.0000\n14/14 [==============================] - 0s 771us/step - loss: 0.0058 - accuracy: 1.0000\n14/14 [==============================] - 0s 697us/step - loss: 0.0057 - accuracy: 1.0000\n14/14 [==============================] - 0s 1ms/step - loss: 0.0055 - accuracy: 1.0000\n14/14 [==============================] - 0s 742us/step - loss: 0.0054 - accuracy: 1.0000\n14/14 [==============================] - 0s 704us/step - loss: 0.0052 - accuracy: 1.0000\n14/14 [==============================] - 0s 737us/step - loss: 0.0051 - accuracy: 1.0000\n14/14 [==============================] - 0s 735us/step - loss: 0.0049 - accuracy: 1.0000\n14/14 [==============================] - 0s 835us/step - loss: 0.0048 - accuracy: 1.0000\n14/14 [==============================] - 0s 719us/step - loss: 0.0046 - accuracy: 1.0000\n14/14 [==============================] - 0s 707us/step - loss: 0.0045 - accuracy: 1.0000\n14/14 [==============================] - 0s 714us/step - loss: 0.0044 - accuracy: 1.0000\n14/14 [==============================] - 0s 724us/step - loss: 0.0043 - accuracy: 1.0000\n14/14 [==============================] - 0s 782us/step - loss: 0.0042 - accuracy: 1.0000\n14/14 [==============================] - 0s 700us/step - loss: 0.0041 - accuracy: 1.0000\n14/14 [==============================] - 0s 707us/step - loss: 0.0040 - accuracy: 1.0000\n14/14 [==============================] - 0s 711us/step - loss: 0.0039 - accuracy: 1.0000\n[1.0]\n1.0\n",
     "output_type": "stream",
     "data": {}
    },
    {
     "data": {
      "text/plain": "<Figure size 432x288 with 1 Axes>",
      "image/png": "[encoded data removed]"
     },
     "metadata": {
      "needs_background": "light",
      "image/png": {
       "width": 386,
       "height": 278
      }
     },
     "output_type": "display_data"
    },
    {
     "data": {
      "text/plain": "<Figure size 432x288 with 1 Axes>",
      "image/png": "[encoded data removed]"
     },
     "metadata": {
      "needs_background": "light",
      "image/png": {
       "width": 386,
       "height": 278
      }
     },
     "output_type": "display_data"
    }
   ]
  },
  {
   "cell_type": "markdown",
   "source": "# Monk2",
   "metadata": {
    "tags": [],
    "is_collapsed": false,
    "cell_id": "00011-84c4054d-0b90-4e90-9e10-86032bec46f3",
    "deepnote_cell_type": "text-cell-h1"
   }
  },
  {
   "cell_type": "code",
   "metadata": {
    "tags": [],
    "cell_id": "00012-ea2c16a9-2357-48e7-9c73-f8bb0eea0555",
    "deepnote_to_be_reexecuted": false,
    "source_hash": "505667e8",
    "execution_start": 1641314913681,
    "execution_millis": 35,
    "deepnote_cell_type": "code"
   },
   "source": "#load datasets\ncolnames = ['class', 'a1', 'a2', 'a3', 'a4', 'a5', 'a6', 'id']\ndf_monk2_train = pd.read_csv(\"./data/MONK/monks-2.train\", sep = \" \", skipinitialspace=True, names = colnames)\ndf_monk2_train.drop('id', axis = 1, inplace = True)\ndf_monk2_test = pd.read_csv(\"./data/MONK/monks-2.test\", sep = \" \", skipinitialspace=True, names = colnames)\ndf_monk2_test.drop('id', axis = 1, inplace = True)\ndf_monk2_train.head()\n",
   "execution_count": null,
   "outputs": [
    {
     "output_type": "execute_result",
     "execution_count": 11,
     "data": {
      "application/vnd.deepnote.dataframe.v3+json": {
       "column_count": 7,
       "row_count": 5,
       "columns": [
        {
         "name": "class",
         "dtype": "int64",
         "stats": {
          "unique_count": 1,
          "nan_count": 0,
          "min": "0",
          "max": "0",
          "histogram": [
           {
            "bin_start": -0.5,
            "bin_end": -0.4,
            "count": 0
           },
           {
            "bin_start": -0.4,
            "bin_end": -0.3,
            "count": 0
           },
           {
            "bin_start": -0.3,
            "bin_end": -0.19999999999999996,
            "count": 0
           },
           {
            "bin_start": -0.19999999999999996,
            "bin_end": -0.09999999999999998,
            "count": 0
           },
           {
            "bin_start": -0.09999999999999998,
            "bin_end": 0,
            "count": 0
           },
           {
            "bin_start": 0,
            "bin_end": 0.10000000000000009,
            "count": 5
           },
           {
            "bin_start": 0.10000000000000009,
            "bin_end": 0.20000000000000007,
            "count": 0
           },
           {
            "bin_start": 0.20000000000000007,
            "bin_end": 0.30000000000000004,
            "count": 0
           },
           {
            "bin_start": 0.30000000000000004,
            "bin_end": 0.4,
            "count": 0
           },
           {
            "bin_start": 0.4,
            "bin_end": 0.5,
            "count": 0
           }
          ]
         }
        },
        {
         "name": "a1",
         "dtype": "int64",
         "stats": {
          "unique_count": 1,
          "nan_count": 0,
          "min": "1",
          "max": "1",
          "histogram": [
           {
            "bin_start": 0.5,
            "bin_end": 0.6,
            "count": 0
           },
           {
            "bin_start": 0.6,
            "bin_end": 0.7,
            "count": 0
           },
           {
            "bin_start": 0.7,
            "bin_end": 0.8,
            "count": 0
           },
           {
            "bin_start": 0.8,
            "bin_end": 0.9,
            "count": 0
           },
           {
            "bin_start": 0.9,
            "bin_end": 1,
            "count": 0
           },
           {
            "bin_start": 1,
            "bin_end": 1.1,
            "count": 5
           },
           {
            "bin_start": 1.1,
            "bin_end": 1.2000000000000002,
            "count": 0
           },
           {
            "bin_start": 1.2000000000000002,
            "bin_end": 1.3,
            "count": 0
           },
           {
            "bin_start": 1.3,
            "bin_end": 1.4,
            "count": 0
           },
           {
            "bin_start": 1.4,
            "bin_end": 1.5,
            "count": 0
           }
          ]
         }
        },
        {
         "name": "a2",
         "dtype": "int64",
         "stats": {
          "unique_count": 1,
          "nan_count": 0,
          "min": "1",
          "max": "1",
          "histogram": [
           {
            "bin_start": 0.5,
            "bin_end": 0.6,
            "count": 0
           },
           {
            "bin_start": 0.6,
            "bin_end": 0.7,
            "count": 0
           },
           {
            "bin_start": 0.7,
            "bin_end": 0.8,
            "count": 0
           },
           {
            "bin_start": 0.8,
            "bin_end": 0.9,
            "count": 0
           },
           {
            "bin_start": 0.9,
            "bin_end": 1,
            "count": 0
           },
           {
            "bin_start": 1,
            "bin_end": 1.1,
            "count": 5
           },
           {
            "bin_start": 1.1,
            "bin_end": 1.2000000000000002,
            "count": 0
           },
           {
            "bin_start": 1.2000000000000002,
            "bin_end": 1.3,
            "count": 0
           },
           {
            "bin_start": 1.3,
            "bin_end": 1.4,
            "count": 0
           },
           {
            "bin_start": 1.4,
            "bin_end": 1.5,
            "count": 0
           }
          ]
         }
        },
        {
         "name": "a3",
         "dtype": "int64",
         "stats": {
          "unique_count": 1,
          "nan_count": 0,
          "min": "1",
          "max": "1",
          "histogram": [
           {
            "bin_start": 0.5,
            "bin_end": 0.6,
            "count": 0
           },
           {
            "bin_start": 0.6,
            "bin_end": 0.7,
            "count": 0
           },
           {
            "bin_start": 0.7,
            "bin_end": 0.8,
            "count": 0
           },
           {
            "bin_start": 0.8,
            "bin_end": 0.9,
            "count": 0
           },
           {
            "bin_start": 0.9,
            "bin_end": 1,
            "count": 0
           },
           {
            "bin_start": 1,
            "bin_end": 1.1,
            "count": 5
           },
           {
            "bin_start": 1.1,
            "bin_end": 1.2000000000000002,
            "count": 0
           },
           {
            "bin_start": 1.2000000000000002,
            "bin_end": 1.3,
            "count": 0
           },
           {
            "bin_start": 1.3,
            "bin_end": 1.4,
            "count": 0
           },
           {
            "bin_start": 1.4,
            "bin_end": 1.5,
            "count": 0
           }
          ]
         }
        },
        {
         "name": "a4",
         "dtype": "int64",
         "stats": {
          "unique_count": 2,
          "nan_count": 0,
          "min": "1",
          "max": "2",
          "histogram": [
           {
            "bin_start": 1,
            "bin_end": 1.1,
            "count": 2
           },
           {
            "bin_start": 1.1,
            "bin_end": 1.2,
            "count": 0
           },
           {
            "bin_start": 1.2,
            "bin_end": 1.3,
            "count": 0
           },
           {
            "bin_start": 1.3,
            "bin_end": 1.4,
            "count": 0
           },
           {
            "bin_start": 1.4,
            "bin_end": 1.5,
            "count": 0
           },
           {
            "bin_start": 1.5,
            "bin_end": 1.6,
            "count": 0
           },
           {
            "bin_start": 1.6,
            "bin_end": 1.7000000000000002,
            "count": 0
           },
           {
            "bin_start": 1.7000000000000002,
            "bin_end": 1.8,
            "count": 0
           },
           {
            "bin_start": 1.8,
            "bin_end": 1.9,
            "count": 0
           },
           {
            "bin_start": 1.9,
            "bin_end": 2,
            "count": 3
           }
          ]
         }
        },
        {
         "name": "a5",
         "dtype": "int64",
         "stats": {
          "unique_count": 3,
          "nan_count": 0,
          "min": "1",
          "max": "4",
          "histogram": [
           {
            "bin_start": 1,
            "bin_end": 1.3,
            "count": 2
           },
           {
            "bin_start": 1.3,
            "bin_end": 1.6,
            "count": 0
           },
           {
            "bin_start": 1.6,
            "bin_end": 1.9,
            "count": 0
           },
           {
            "bin_start": 1.9,
            "bin_end": 2.2,
            "count": 2
           },
           {
            "bin_start": 2.2,
            "bin_end": 2.5,
            "count": 0
           },
           {
            "bin_start": 2.5,
            "bin_end": 2.8,
            "count": 0
           },
           {
            "bin_start": 2.8,
            "bin_end": 3.1,
            "count": 0
           },
           {
            "bin_start": 3.1,
            "bin_end": 3.4,
            "count": 0
           },
           {
            "bin_start": 3.4,
            "bin_end": 3.6999999999999997,
            "count": 0
           },
           {
            "bin_start": 3.6999999999999997,
            "bin_end": 4,
            "count": 1
           }
          ]
         }
        },
        {
         "name": "a6",
         "dtype": "int64",
         "stats": {
          "unique_count": 2,
          "nan_count": 0,
          "min": "1",
          "max": "2",
          "histogram": [
           {
            "bin_start": 1,
            "bin_end": 1.1,
            "count": 3
           },
           {
            "bin_start": 1.1,
            "bin_end": 1.2,
            "count": 0
           },
           {
            "bin_start": 1.2,
            "bin_end": 1.3,
            "count": 0
           },
           {
            "bin_start": 1.3,
            "bin_end": 1.4,
            "count": 0
           },
           {
            "bin_start": 1.4,
            "bin_end": 1.5,
            "count": 0
           },
           {
            "bin_start": 1.5,
            "bin_end": 1.6,
            "count": 0
           },
           {
            "bin_start": 1.6,
            "bin_end": 1.7000000000000002,
            "count": 0
           },
           {
            "bin_start": 1.7000000000000002,
            "bin_end": 1.8,
            "count": 0
           },
           {
            "bin_start": 1.8,
            "bin_end": 1.9,
            "count": 0
           },
           {
            "bin_start": 1.9,
            "bin_end": 2,
            "count": 2
           }
          ]
         }
        },
        {
         "name": "_deepnote_index_column",
         "dtype": "int64"
        }
       ],
       "rows": [
        {
         "class": 0,
         "a1": 1,
         "a2": 1,
         "a3": 1,
         "a4": 1,
         "a5": 2,
         "a6": 2,
         "_deepnote_index_column": 0
        },
        {
         "class": 0,
         "a1": 1,
         "a2": 1,
         "a3": 1,
         "a4": 1,
         "a5": 4,
         "a6": 1,
         "_deepnote_index_column": 1
        },
        {
         "class": 0,
         "a1": 1,
         "a2": 1,
         "a3": 1,
         "a4": 2,
         "a5": 1,
         "a6": 1,
         "_deepnote_index_column": 2
        },
        {
         "class": 0,
         "a1": 1,
         "a2": 1,
         "a3": 1,
         "a4": 2,
         "a5": 1,
         "a6": 2,
         "_deepnote_index_column": 3
        },
        {
         "class": 0,
         "a1": 1,
         "a2": 1,
         "a3": 1,
         "a4": 2,
         "a5": 2,
         "a6": 1,
         "_deepnote_index_column": 4
        }
       ]
      },
      "text/plain": "   class  a1  a2  a3  a4  a5  a6\n0      0   1   1   1   1   2   2\n1      0   1   1   1   1   4   1\n2      0   1   1   1   2   1   1\n3      0   1   1   1   2   1   2\n4      0   1   1   1   2   2   1",
      "text/html": "<div>\n<style scoped>\n    .dataframe tbody tr th:only-of-type {\n        vertical-align: middle;\n    }\n\n    .dataframe tbody tr th {\n        vertical-align: top;\n    }\n\n    .dataframe thead th {\n        text-align: right;\n    }\n</style>\n<table border=\"1\" class=\"dataframe\">\n  <thead>\n    <tr style=\"text-align: right;\">\n      <th></th>\n      <th>class</th>\n      <th>a1</th>\n      <th>a2</th>\n      <th>a3</th>\n      <th>a4</th>\n      <th>a5</th>\n      <th>a6</th>\n    </tr>\n  </thead>\n  <tbody>\n    <tr>\n      <th>0</th>\n      <td>0</td>\n      <td>1</td>\n      <td>1</td>\n      <td>1</td>\n      <td>1</td>\n      <td>2</td>\n      <td>2</td>\n    </tr>\n    <tr>\n      <th>1</th>\n      <td>0</td>\n      <td>1</td>\n      <td>1</td>\n      <td>1</td>\n      <td>1</td>\n      <td>4</td>\n      <td>1</td>\n    </tr>\n    <tr>\n      <th>2</th>\n      <td>0</td>\n      <td>1</td>\n      <td>1</td>\n      <td>1</td>\n      <td>2</td>\n      <td>1</td>\n      <td>1</td>\n    </tr>\n    <tr>\n      <th>3</th>\n      <td>0</td>\n      <td>1</td>\n      <td>1</td>\n      <td>1</td>\n      <td>2</td>\n      <td>1</td>\n      <td>2</td>\n    </tr>\n    <tr>\n      <th>4</th>\n      <td>0</td>\n      <td>1</td>\n      <td>1</td>\n      <td>1</td>\n      <td>2</td>\n      <td>2</td>\n      <td>1</td>\n    </tr>\n  </tbody>\n</table>\n</div>"
     },
     "metadata": {}
    }
   ]
  },
  {
   "cell_type": "code",
   "metadata": {
    "tags": [],
    "cell_id": "00013-bdded5f6-0bdb-404f-b86a-51cdaf82b904",
    "deepnote_to_be_reexecuted": false,
    "source_hash": "6d8cf70f",
    "execution_start": 1641314913718,
    "execution_millis": 4,
    "deepnote_cell_type": "code"
   },
   "source": "#get attribute and target values\nX_all = df_monk2_train.iloc[:, 1:7].values\ny_all = df_monk2_train.iloc[:, 0].values\nX_test = df_monk2_test.iloc[:, 1:7].values\ny_test = df_monk2_test.iloc[:, 0].values",
   "execution_count": null,
   "outputs": []
  },
  {
   "cell_type": "markdown",
   "source": "# Shuffle data and one hot encoding",
   "metadata": {
    "tags": [],
    "is_collapsed": false,
    "cell_id": "00014-159fc61e-ee28-4cca-a298-c752ad4228f2",
    "deepnote_cell_type": "text-cell-h1"
   }
  },
  {
   "cell_type": "code",
   "metadata": {
    "tags": [],
    "cell_id": "00015-43e5b6b4-df00-4a36-a339-d47e2286297e",
    "deepnote_to_be_reexecuted": false,
    "source_hash": "a89e6810",
    "execution_start": 1641314913723,
    "execution_millis": 11,
    "deepnote_cell_type": "code"
   },
   "source": "from sklearn.utils import shuffle\nX_all, y_all = shuffle(X_all, y_all)\nX_all, X_test = one_hot_encoder(X_all, X_test)\nval_size =int(0.2 * len(X_all))\nX_val = X_all[:val_size]\ny_val = y_all[:val_size]\nX_train = X_all[val_size:]\ny_train = y_all[val_size:]\nprint(X_val.shape)\nprint(X_train.shape)\nprint(X_test.shape)\nprint(X_train[0])",
   "execution_count": null,
   "outputs": [
    {
     "name": "stdout",
     "text": "(33, 17)\n(136, 17)\n(432, 17)\n[0. 0. 1. 1. 0. 0. 0. 1. 0. 1. 0. 0. 1. 0. 0. 1. 0.]\n",
     "output_type": "stream",
     "data": {}
    }
   ]
  },
  {
   "cell_type": "code",
   "metadata": {
    "tags": [],
    "cell_id": "00018-8d20cfb9-3f15-4c39-a08c-c9464c00a522",
    "deepnote_to_be_reexecuted": false,
    "source_hash": "eba1bd9e",
    "execution_start": 1641314913733,
    "execution_millis": 30,
    "deepnote_cell_type": "code"
   },
   "source": "tuner = kt.RandomSearch(\n    hypermodel = build_model,\n    #MyHyperModel(),\n    objective='val_accuracy',\n    max_trials=5,\n    overwrite=True,\n)\ntuner.search_space_summary()",
   "execution_count": null,
   "outputs": [
    {
     "name": "stdout",
     "text": "Search space summary\nDefault search space size: 2\nunits (Int)\n{'default': None, 'conditions': [], 'min_value': 6, 'max_value': 72, 'step': 6, 'sampling': None}\nlr (Float)\n{'default': 0.0001, 'conditions': [], 'min_value': 0.0001, 'max_value': 0.01, 'step': None, 'sampling': 'log'}\n",
     "output_type": "stream",
     "data": {}
    }
   ]
  },
  {
   "cell_type": "markdown",
   "source": "# Search for best hyperparameters",
   "metadata": {
    "tags": [],
    "is_collapsed": false,
    "cell_id": "00019-63eedd5f-7aa6-429b-b166-67cad060c335",
    "deepnote_cell_type": "text-cell-h1"
   }
  },
  {
   "cell_type": "code",
   "metadata": {
    "tags": [],
    "cell_id": "00019-7b660229-c8b5-4a82-8a82-03aaa29a03a2",
    "deepnote_to_be_reexecuted": false,
    "source_hash": "17346ab8",
    "execution_start": 1641314913765,
    "execution_millis": 28091,
    "deepnote_cell_type": "code"
   },
   "source": "\ntuner.search(X_train, y_train, epochs=150, verbose=0,  validation_data=(X_val, y_val) )\nhyperparameters = tuner.get_best_hyperparameters()[0]\nmodel = build_model(hyperparameters)\nmodel.build(input_shape=(None, 17))\nprint(model.summary())\n",
   "execution_count": null,
   "outputs": [
    {
     "name": "stdout",
     "text": "INFO:tensorflow:Oracle triggered exit\nModel: \"sequential_1\"\n_________________________________________________________________\nLayer (type)                 Output Shape              Param #   \n=================================================================\ndense_2 (Dense)              (None, 30)                540       \n_________________________________________________________________\ndense_3 (Dense)              (None, 1)                 31        \n=================================================================\nTotal params: 571\nTrainable params: 571\nNon-trainable params: 0\n_________________________________________________________________\nNone\n",
     "output_type": "stream",
     "data": {}
    }
   ]
  },
  {
   "cell_type": "markdown",
   "source": "# Retrain model and evaluate",
   "metadata": {
    "tags": [],
    "is_collapsed": false,
    "cell_id": "00021-d1b445a7-6003-4cb0-ad3b-c86cb9aa39bf",
    "deepnote_cell_type": "text-cell-h1"
   }
  },
  {
   "cell_type": "code",
   "metadata": {
    "tags": [],
    "cell_id": "00022-778d116b-9acd-4360-8072-4a27057977e0",
    "deepnote_to_be_reexecuted": false,
    "source_hash": "931f6c7f",
    "execution_start": 1641314941855,
    "execution_millis": 9834,
    "deepnote_output_heights": [
     null,
     280,
     280
    ],
    "deepnote_cell_type": "code"
   },
   "source": "train_loss = []\ntest_loss =[]\ntrain_acc = []\ntest_acc = []\n\nfor i in range(100):\n    history = model.fit( X_all, y_all, batch_size=10, verbose=0)\n    train_loss.append(history.history['loss'])\n    train_acc.append(history.history['accuracy'])\n    score = model.evaluate(X_test, y_test)\n    test_loss.append(score[0])\n    test_acc.append(score[1])\n\nprint(train_acc[99])\nprint(test_acc[99])\n\nplt.plot(train_loss, '-', label='train')\nplt.plot(test_loss, '-.', label='test')\nplt.legend()\nplt.title('loss')\nplt.xlabel('epochs')\nplt.ylabel('loss')\nplt.show()\nplt.plot(train_acc, '-', label='train')\nplt.plot(test_acc, '-.', label='test')\nplt.legend()\nplt.title('accuracy')\nplt.xlabel('epochs')\nplt.ylabel('accuracy')\nplt.show()",
   "execution_count": null,
   "outputs": [
    {
     "name": "stdout",
     "text": "14/14 [==============================] - 0s 827us/step - loss: 0.6323 - accuracy: 0.6505\n14/14 [==============================] - 0s 819us/step - loss: 0.6145 - accuracy: 0.6574\n14/14 [==============================] - 0s 1ms/step - loss: 0.5887 - accuracy: 0.6644\n14/14 [==============================] - 0s 757us/step - loss: 0.5621 - accuracy: 0.6782\n14/14 [==============================] - 0s 740us/step - loss: 0.5152 - accuracy: 0.7153\n14/14 [==============================] - 0s 803us/step - loss: 0.4672 - accuracy: 0.7870\n14/14 [==============================] - 0s 744us/step - loss: 0.3958 - accuracy: 0.8380\n14/14 [==============================] - 0s 737us/step - loss: 0.3410 - accuracy: 0.8935\n14/14 [==============================] - 0s 745us/step - loss: 0.2805 - accuracy: 0.9398\n14/14 [==============================] - 0s 735us/step - loss: 0.2326 - accuracy: 0.9676\n14/14 [==============================] - 0s 669us/step - loss: 0.1801 - accuracy: 0.9954\n14/14 [==============================] - 0s 691us/step - loss: 0.1477 - accuracy: 0.9931\n14/14 [==============================] - 0s 817us/step - loss: 0.1144 - accuracy: 1.0000\n14/14 [==============================] - 0s 727us/step - loss: 0.0919 - accuracy: 1.0000\n14/14 [==============================] - 0s 727us/step - loss: 0.0768 - accuracy: 1.0000\n14/14 [==============================] - 0s 729us/step - loss: 0.0645 - accuracy: 1.0000\n14/14 [==============================] - 0s 1ms/step - loss: 0.0534 - accuracy: 1.0000\n14/14 [==============================] - 0s 715us/step - loss: 0.0453 - accuracy: 1.0000\n14/14 [==============================] - 0s 681us/step - loss: 0.0400 - accuracy: 1.0000\n14/14 [==============================] - 0s 714us/step - loss: 0.0343 - accuracy: 1.0000\n14/14 [==============================] - 0s 682us/step - loss: 0.0299 - accuracy: 1.0000\n14/14 [==============================] - 0s 738us/step - loss: 0.0273 - accuracy: 1.0000\n14/14 [==============================] - 0s 681us/step - loss: 0.0239 - accuracy: 1.0000\n14/14 [==============================] - 0s 797us/step - loss: 0.0213 - accuracy: 1.0000\n14/14 [==============================] - 0s 700us/step - loss: 0.0196 - accuracy: 1.0000\n14/14 [==============================] - 0s 691us/step - loss: 0.0176 - accuracy: 1.0000\n14/14 [==============================] - 0s 712us/step - loss: 0.0164 - accuracy: 1.0000\n14/14 [==============================] - 0s 686us/step - loss: 0.0147 - accuracy: 1.0000\n14/14 [==============================] - 0s 741us/step - loss: 0.0136 - accuracy: 1.0000\n14/14 [==============================] - 0s 714us/step - loss: 0.0126 - accuracy: 1.0000\n14/14 [==============================] - 0s 704us/step - loss: 0.0115 - accuracy: 1.0000\n14/14 [==============================] - 0s 726us/step - loss: 0.0107 - accuracy: 1.0000\n14/14 [==============================] - 0s 715us/step - loss: 0.0101 - accuracy: 1.0000\n14/14 [==============================] - 0s 712us/step - loss: 0.0093 - accuracy: 1.0000\n14/14 [==============================] - 0s 699us/step - loss: 0.0088 - accuracy: 1.0000\n14/14 [==============================] - 0s 656us/step - loss: 0.0083 - accuracy: 1.0000\n14/14 [==============================] - 0s 821us/step - loss: 0.0077 - accuracy: 1.0000\n14/14 [==============================] - 0s 718us/step - loss: 0.0073 - accuracy: 1.0000\n14/14 [==============================] - 0s 725us/step - loss: 0.0069 - accuracy: 1.0000\n14/14 [==============================] - 0s 713us/step - loss: 0.0065 - accuracy: 1.0000\n14/14 [==============================] - 0s 821us/step - loss: 0.0061 - accuracy: 1.0000\n14/14 [==============================] - 0s 705us/step - loss: 0.0058 - accuracy: 1.0000\n14/14 [==============================] - 0s 702us/step - loss: 0.0056 - accuracy: 1.0000\n14/14 [==============================] - 0s 782us/step - loss: 0.0053 - accuracy: 1.0000\n14/14 [==============================] - 0s 692us/step - loss: 0.0050 - accuracy: 1.0000\n14/14 [==============================] - 0s 927us/step - loss: 0.0048 - accuracy: 1.0000\n14/14 [==============================] - 0s 708us/step - loss: 0.0046 - accuracy: 1.0000\n14/14 [==============================] - 0s 755us/step - loss: 0.0044 - accuracy: 1.0000\n14/14 [==============================] - 0s 721us/step - loss: 0.0042 - accuracy: 1.0000\n14/14 [==============================] - 0s 707us/step - loss: 0.0040 - accuracy: 1.0000\n14/14 [==============================] - 0s 944us/step - loss: 0.0038 - accuracy: 1.0000\n14/14 [==============================] - 0s 798us/step - loss: 0.0037 - accuracy: 1.0000\n14/14 [==============================] - 0s 721us/step - loss: 0.0035 - accuracy: 1.0000\n14/14 [==============================] - 0s 1ms/step - loss: 0.0034 - accuracy: 1.0000\n14/14 [==============================] - 0s 699us/step - loss: 0.0032 - accuracy: 1.0000\n14/14 [==============================] - 0s 737us/step - loss: 0.0031 - accuracy: 1.0000\n14/14 [==============================] - 0s 702us/step - loss: 0.0030 - accuracy: 1.0000\n14/14 [==============================] - 0s 738us/step - loss: 0.0029 - accuracy: 1.0000\n14/14 [==============================] - 0s 683us/step - loss: 0.0028 - accuracy: 1.0000\n14/14 [==============================] - 0s 697us/step - loss: 0.0027 - accuracy: 1.0000\n14/14 [==============================] - 0s 687us/step - loss: 0.0026 - accuracy: 1.0000\n14/14 [==============================] - 0s 699us/step - loss: 0.0025 - accuracy: 1.0000\n14/14 [==============================] - 0s 706us/step - loss: 0.0024 - accuracy: 1.0000\n14/14 [==============================] - 0s 657us/step - loss: 0.0023 - accuracy: 1.0000\n14/14 [==============================] - 0s 681us/step - loss: 0.0023 - accuracy: 1.0000\n14/14 [==============================] - 0s 808us/step - loss: 0.0022 - accuracy: 1.0000\n14/14 [==============================] - 0s 719us/step - loss: 0.0021 - accuracy: 1.0000\n14/14 [==============================] - 0s 762us/step - loss: 0.0021 - accuracy: 1.0000\n14/14 [==============================] - 0s 887us/step - loss: 0.0020 - accuracy: 1.0000\n14/14 [==============================] - 0s 680us/step - loss: 0.0020 - accuracy: 1.0000\n14/14 [==============================] - 0s 1ms/step - loss: 0.0019 - accuracy: 1.0000\n14/14 [==============================] - 0s 717us/step - loss: 0.0018 - accuracy: 1.0000\n14/14 [==============================] - 0s 782us/step - loss: 0.0018 - accuracy: 1.0000\n14/14 [==============================] - 0s 731us/step - loss: 0.0017 - accuracy: 1.0000\n14/14 [==============================] - 0s 711us/step - loss: 0.0017 - accuracy: 1.0000\n14/14 [==============================] - 0s 819us/step - loss: 0.0016 - accuracy: 1.0000\n14/14 [==============================] - 0s 740us/step - loss: 0.0016 - accuracy: 1.0000\n14/14 [==============================] - 0s 701us/step - loss: 0.0015 - accuracy: 1.0000\n14/14 [==============================] - 0s 736us/step - loss: 0.0015 - accuracy: 1.0000\n14/14 [==============================] - 0s 735us/step - loss: 0.0015 - accuracy: 1.0000\n14/14 [==============================] - 0s 782us/step - loss: 0.0014 - accuracy: 1.0000\n14/14 [==============================] - 0s 750us/step - loss: 0.0014 - accuracy: 1.0000\n14/14 [==============================] - 0s 693us/step - loss: 0.0013 - accuracy: 1.0000\n14/14 [==============================] - 0s 704us/step - loss: 0.0013 - accuracy: 1.0000\n14/14 [==============================] - 0s 775us/step - loss: 0.0013 - accuracy: 1.0000\n14/14 [==============================] - 0s 822us/step - loss: 0.0012 - accuracy: 1.0000\n14/14 [==============================] - 0s 747us/step - loss: 0.0012 - accuracy: 1.0000\n14/14 [==============================] - 0s 727us/step - loss: 0.0012 - accuracy: 1.0000\n14/14 [==============================] - 0s 728us/step - loss: 0.0012 - accuracy: 1.0000\n14/14 [==============================] - 0s 731us/step - loss: 0.0011 - accuracy: 1.0000\n14/14 [==============================] - 0s 703us/step - loss: 0.0011 - accuracy: 1.0000\n14/14 [==============================] - 0s 683us/step - loss: 0.0011 - accuracy: 1.0000\n14/14 [==============================] - 0s 710us/step - loss: 0.0011 - accuracy: 1.0000\n14/14 [==============================] - 0s 854us/step - loss: 0.0010 - accuracy: 1.0000\n14/14 [==============================] - 0s 688us/step - loss: 0.0010 - accuracy: 1.0000\n14/14 [==============================] - 0s 732us/step - loss: 9.8336e-04 - accuracy: 1.0000\n14/14 [==============================] - 0s 810us/step - loss: 9.6442e-04 - accuracy: 1.0000\n14/14 [==============================] - 0s 702us/step - loss: 9.4808e-04 - accuracy: 1.0000\n14/14 [==============================] - 0s 780us/step - loss: 9.2094e-04 - accuracy: 1.0000\n14/14 [==============================] - 0s 772us/step - loss: 9.0325e-04 - accuracy: 1.0000\n[1.0]\n1.0\n",
     "output_type": "stream",
     "data": {}
    },
    {
     "data": {
      "text/plain": "<Figure size 432x288 with 1 Axes>",
      "image/png": "[encoded data removed]"
     },
     "metadata": {
      "needs_background": "light",
      "image/png": {
       "width": 386,
       "height": 278
      }
     },
     "output_type": "display_data"
    },
    {
     "data": {
      "text/plain": "<Figure size 432x288 with 1 Axes>",
      "image/png": "[encoded data removed]"
     },
     "metadata": {
      "needs_background": "light",
      "image/png": {
       "width": 386,
       "height": 278
      }
     },
     "output_type": "display_data"
    }
   ]
  },
  {
   "cell_type": "markdown",
   "source": "# Monk 3",
   "metadata": {
    "tags": [],
    "is_collapsed": false,
    "cell_id": "00023-ee00ec86-f915-4c9e-8f12-8a4117274361",
    "deepnote_cell_type": "text-cell-h1"
   }
  },
  {
   "cell_type": "code",
   "metadata": {
    "tags": [],
    "cell_id": "00024-1efc75b9-3d99-4be2-8731-6f607a767456",
    "deepnote_to_be_reexecuted": false,
    "source_hash": "f24b190e",
    "execution_start": 1641314951692,
    "execution_millis": 37,
    "deepnote_cell_type": "code"
   },
   "source": "#load datasets\ncolnames = ['class', 'a1', 'a2', 'a3', 'a4', 'a5', 'a6', 'id']\ndf_monk3_train = pd.read_csv(\"./data/MONK/monks-3.train\", sep = \" \", skipinitialspace=True, names = colnames)\ndf_monk3_train.drop('id', axis = 1, inplace = True)\ndf_monk3_test = pd.read_csv(\"./data/MONK/monks-3.test\", sep = \" \", skipinitialspace=True, names = colnames)\ndf_monk3_test.drop('id', axis = 1, inplace = True)\ndf_monk3_train.head()",
   "execution_count": null,
   "outputs": [
    {
     "output_type": "execute_result",
     "execution_count": 17,
     "data": {
      "application/vnd.deepnote.dataframe.v3+json": {
       "column_count": 7,
       "row_count": 5,
       "columns": [
        {
         "name": "class",
         "dtype": "int64",
         "stats": {
          "unique_count": 2,
          "nan_count": 0,
          "min": "0",
          "max": "1",
          "histogram": [
           {
            "bin_start": 0,
            "bin_end": 0.1,
            "count": 2
           },
           {
            "bin_start": 0.1,
            "bin_end": 0.2,
            "count": 0
           },
           {
            "bin_start": 0.2,
            "bin_end": 0.30000000000000004,
            "count": 0
           },
           {
            "bin_start": 0.30000000000000004,
            "bin_end": 0.4,
            "count": 0
           },
           {
            "bin_start": 0.4,
            "bin_end": 0.5,
            "count": 0
           },
           {
            "bin_start": 0.5,
            "bin_end": 0.6000000000000001,
            "count": 0
           },
           {
            "bin_start": 0.6000000000000001,
            "bin_end": 0.7000000000000001,
            "count": 0
           },
           {
            "bin_start": 0.7000000000000001,
            "bin_end": 0.8,
            "count": 0
           },
           {
            "bin_start": 0.8,
            "bin_end": 0.9,
            "count": 0
           },
           {
            "bin_start": 0.9,
            "bin_end": 1,
            "count": 3
           }
          ]
         }
        },
        {
         "name": "a1",
         "dtype": "int64",
         "stats": {
          "unique_count": 1,
          "nan_count": 0,
          "min": "1",
          "max": "1",
          "histogram": [
           {
            "bin_start": 0.5,
            "bin_end": 0.6,
            "count": 0
           },
           {
            "bin_start": 0.6,
            "bin_end": 0.7,
            "count": 0
           },
           {
            "bin_start": 0.7,
            "bin_end": 0.8,
            "count": 0
           },
           {
            "bin_start": 0.8,
            "bin_end": 0.9,
            "count": 0
           },
           {
            "bin_start": 0.9,
            "bin_end": 1,
            "count": 0
           },
           {
            "bin_start": 1,
            "bin_end": 1.1,
            "count": 5
           },
           {
            "bin_start": 1.1,
            "bin_end": 1.2000000000000002,
            "count": 0
           },
           {
            "bin_start": 1.2000000000000002,
            "bin_end": 1.3,
            "count": 0
           },
           {
            "bin_start": 1.3,
            "bin_end": 1.4,
            "count": 0
           },
           {
            "bin_start": 1.4,
            "bin_end": 1.5,
            "count": 0
           }
          ]
         }
        },
        {
         "name": "a2",
         "dtype": "int64",
         "stats": {
          "unique_count": 1,
          "nan_count": 0,
          "min": "1",
          "max": "1",
          "histogram": [
           {
            "bin_start": 0.5,
            "bin_end": 0.6,
            "count": 0
           },
           {
            "bin_start": 0.6,
            "bin_end": 0.7,
            "count": 0
           },
           {
            "bin_start": 0.7,
            "bin_end": 0.8,
            "count": 0
           },
           {
            "bin_start": 0.8,
            "bin_end": 0.9,
            "count": 0
           },
           {
            "bin_start": 0.9,
            "bin_end": 1,
            "count": 0
           },
           {
            "bin_start": 1,
            "bin_end": 1.1,
            "count": 5
           },
           {
            "bin_start": 1.1,
            "bin_end": 1.2000000000000002,
            "count": 0
           },
           {
            "bin_start": 1.2000000000000002,
            "bin_end": 1.3,
            "count": 0
           },
           {
            "bin_start": 1.3,
            "bin_end": 1.4,
            "count": 0
           },
           {
            "bin_start": 1.4,
            "bin_end": 1.5,
            "count": 0
           }
          ]
         }
        },
        {
         "name": "a3",
         "dtype": "int64",
         "stats": {
          "unique_count": 1,
          "nan_count": 0,
          "min": "1",
          "max": "1",
          "histogram": [
           {
            "bin_start": 0.5,
            "bin_end": 0.6,
            "count": 0
           },
           {
            "bin_start": 0.6,
            "bin_end": 0.7,
            "count": 0
           },
           {
            "bin_start": 0.7,
            "bin_end": 0.8,
            "count": 0
           },
           {
            "bin_start": 0.8,
            "bin_end": 0.9,
            "count": 0
           },
           {
            "bin_start": 0.9,
            "bin_end": 1,
            "count": 0
           },
           {
            "bin_start": 1,
            "bin_end": 1.1,
            "count": 5
           },
           {
            "bin_start": 1.1,
            "bin_end": 1.2000000000000002,
            "count": 0
           },
           {
            "bin_start": 1.2000000000000002,
            "bin_end": 1.3,
            "count": 0
           },
           {
            "bin_start": 1.3,
            "bin_end": 1.4,
            "count": 0
           },
           {
            "bin_start": 1.4,
            "bin_end": 1.5,
            "count": 0
           }
          ]
         }
        },
        {
         "name": "a4",
         "dtype": "int64",
         "stats": {
          "unique_count": 1,
          "nan_count": 0,
          "min": "1",
          "max": "1",
          "histogram": [
           {
            "bin_start": 0.5,
            "bin_end": 0.6,
            "count": 0
           },
           {
            "bin_start": 0.6,
            "bin_end": 0.7,
            "count": 0
           },
           {
            "bin_start": 0.7,
            "bin_end": 0.8,
            "count": 0
           },
           {
            "bin_start": 0.8,
            "bin_end": 0.9,
            "count": 0
           },
           {
            "bin_start": 0.9,
            "bin_end": 1,
            "count": 0
           },
           {
            "bin_start": 1,
            "bin_end": 1.1,
            "count": 5
           },
           {
            "bin_start": 1.1,
            "bin_end": 1.2000000000000002,
            "count": 0
           },
           {
            "bin_start": 1.2000000000000002,
            "bin_end": 1.3,
            "count": 0
           },
           {
            "bin_start": 1.3,
            "bin_end": 1.4,
            "count": 0
           },
           {
            "bin_start": 1.4,
            "bin_end": 1.5,
            "count": 0
           }
          ]
         }
        },
        {
         "name": "a5",
         "dtype": "int64",
         "stats": {
          "unique_count": 4,
          "nan_count": 0,
          "min": "1",
          "max": "4",
          "histogram": [
           {
            "bin_start": 1,
            "bin_end": 1.3,
            "count": 1
           },
           {
            "bin_start": 1.3,
            "bin_end": 1.6,
            "count": 0
           },
           {
            "bin_start": 1.6,
            "bin_end": 1.9,
            "count": 0
           },
           {
            "bin_start": 1.9,
            "bin_end": 2.2,
            "count": 2
           },
           {
            "bin_start": 2.2,
            "bin_end": 2.5,
            "count": 0
           },
           {
            "bin_start": 2.5,
            "bin_end": 2.8,
            "count": 0
           },
           {
            "bin_start": 2.8,
            "bin_end": 3.1,
            "count": 1
           },
           {
            "bin_start": 3.1,
            "bin_end": 3.4,
            "count": 0
           },
           {
            "bin_start": 3.4,
            "bin_end": 3.6999999999999997,
            "count": 0
           },
           {
            "bin_start": 3.6999999999999997,
            "bin_end": 4,
            "count": 1
           }
          ]
         }
        },
        {
         "name": "a6",
         "dtype": "int64",
         "stats": {
          "unique_count": 2,
          "nan_count": 0,
          "min": "1",
          "max": "2",
          "histogram": [
           {
            "bin_start": 1,
            "bin_end": 1.1,
            "count": 3
           },
           {
            "bin_start": 1.1,
            "bin_end": 1.2,
            "count": 0
           },
           {
            "bin_start": 1.2,
            "bin_end": 1.3,
            "count": 0
           },
           {
            "bin_start": 1.3,
            "bin_end": 1.4,
            "count": 0
           },
           {
            "bin_start": 1.4,
            "bin_end": 1.5,
            "count": 0
           },
           {
            "bin_start": 1.5,
            "bin_end": 1.6,
            "count": 0
           },
           {
            "bin_start": 1.6,
            "bin_end": 1.7000000000000002,
            "count": 0
           },
           {
            "bin_start": 1.7000000000000002,
            "bin_end": 1.8,
            "count": 0
           },
           {
            "bin_start": 1.8,
            "bin_end": 1.9,
            "count": 0
           },
           {
            "bin_start": 1.9,
            "bin_end": 2,
            "count": 2
           }
          ]
         }
        },
        {
         "name": "_deepnote_index_column",
         "dtype": "int64"
        }
       ],
       "rows": [
        {
         "class": 1,
         "a1": 1,
         "a2": 1,
         "a3": 1,
         "a4": 1,
         "a5": 1,
         "a6": 2,
         "_deepnote_index_column": 0
        },
        {
         "class": 1,
         "a1": 1,
         "a2": 1,
         "a3": 1,
         "a4": 1,
         "a5": 2,
         "a6": 1,
         "_deepnote_index_column": 1
        },
        {
         "class": 1,
         "a1": 1,
         "a2": 1,
         "a3": 1,
         "a4": 1,
         "a5": 2,
         "a6": 2,
         "_deepnote_index_column": 2
        },
        {
         "class": 0,
         "a1": 1,
         "a2": 1,
         "a3": 1,
         "a4": 1,
         "a5": 3,
         "a6": 1,
         "_deepnote_index_column": 3
        },
        {
         "class": 0,
         "a1": 1,
         "a2": 1,
         "a3": 1,
         "a4": 1,
         "a5": 4,
         "a6": 1,
         "_deepnote_index_column": 4
        }
       ]
      },
      "text/plain": "   class  a1  a2  a3  a4  a5  a6\n0      1   1   1   1   1   1   2\n1      1   1   1   1   1   2   1\n2      1   1   1   1   1   2   2\n3      0   1   1   1   1   3   1\n4      0   1   1   1   1   4   1",
      "text/html": "<div>\n<style scoped>\n    .dataframe tbody tr th:only-of-type {\n        vertical-align: middle;\n    }\n\n    .dataframe tbody tr th {\n        vertical-align: top;\n    }\n\n    .dataframe thead th {\n        text-align: right;\n    }\n</style>\n<table border=\"1\" class=\"dataframe\">\n  <thead>\n    <tr style=\"text-align: right;\">\n      <th></th>\n      <th>class</th>\n      <th>a1</th>\n      <th>a2</th>\n      <th>a3</th>\n      <th>a4</th>\n      <th>a5</th>\n      <th>a6</th>\n    </tr>\n  </thead>\n  <tbody>\n    <tr>\n      <th>0</th>\n      <td>1</td>\n      <td>1</td>\n      <td>1</td>\n      <td>1</td>\n      <td>1</td>\n      <td>1</td>\n      <td>2</td>\n    </tr>\n    <tr>\n      <th>1</th>\n      <td>1</td>\n      <td>1</td>\n      <td>1</td>\n      <td>1</td>\n      <td>1</td>\n      <td>2</td>\n      <td>1</td>\n    </tr>\n    <tr>\n      <th>2</th>\n      <td>1</td>\n      <td>1</td>\n      <td>1</td>\n      <td>1</td>\n      <td>1</td>\n      <td>2</td>\n      <td>2</td>\n    </tr>\n    <tr>\n      <th>3</th>\n      <td>0</td>\n      <td>1</td>\n      <td>1</td>\n      <td>1</td>\n      <td>1</td>\n      <td>3</td>\n      <td>1</td>\n    </tr>\n    <tr>\n      <th>4</th>\n      <td>0</td>\n      <td>1</td>\n      <td>1</td>\n      <td>1</td>\n      <td>1</td>\n      <td>4</td>\n      <td>1</td>\n    </tr>\n  </tbody>\n</table>\n</div>"
     },
     "metadata": {}
    }
   ]
  },
  {
   "cell_type": "code",
   "metadata": {
    "tags": [],
    "cell_id": "00025-73d5d829-e8e1-4279-ae5c-1975fe7ee817",
    "deepnote_to_be_reexecuted": false,
    "source_hash": "bac1fb6",
    "execution_start": 1641314951774,
    "execution_millis": 1,
    "deepnote_cell_type": "code"
   },
   "source": "#get attribute and target values\nX_all = df_monk3_train.iloc[:, 1:7].values\ny_all = df_monk3_train.iloc[:, 0].values\nX_test = df_monk3_test.iloc[:, 1:7].values\ny_test = df_monk3_test.iloc[:, 0].values",
   "execution_count": null,
   "outputs": []
  },
  {
   "cell_type": "code",
   "metadata": {
    "tags": [],
    "cell_id": "00026-5d20fd64-b5e9-4509-b2f6-1a10bbe6ad05",
    "deepnote_to_be_reexecuted": false,
    "source_hash": "a89e6810",
    "execution_start": 1641314951775,
    "execution_millis": 3,
    "deepnote_cell_type": "code"
   },
   "source": "from sklearn.utils import shuffle\nX_all, y_all = shuffle(X_all, y_all)\nX_all, X_test = one_hot_encoder(X_all, X_test)\nval_size =int(0.2 * len(X_all))\nX_val = X_all[:val_size]\ny_val = y_all[:val_size]\nX_train = X_all[val_size:]\ny_train = y_all[val_size:]\nprint(X_val.shape)\nprint(X_train.shape)\nprint(X_test.shape)\nprint(X_train[0])",
   "execution_count": null,
   "outputs": [
    {
     "name": "stdout",
     "text": "(24, 17)\n(98, 17)\n(432, 17)\n[0. 1. 0. 0. 1. 0. 0. 1. 0. 1. 0. 0. 0. 1. 0. 1. 0.]\n",
     "output_type": "stream",
     "data": {}
    }
   ]
  },
  {
   "cell_type": "code",
   "metadata": {
    "tags": [],
    "cell_id": "00027-223643ff-5e9d-488a-8786-7e7c065da1ba",
    "deepnote_to_be_reexecuted": false,
    "source_hash": "eba1bd9e",
    "execution_start": 1641314951776,
    "execution_millis": 42,
    "deepnote_cell_type": "code"
   },
   "source": "tuner = kt.RandomSearch(\n    hypermodel = build_model,\n    #MyHyperModel(),\n    objective='val_accuracy',\n    max_trials=5,\n    overwrite=True,\n)\ntuner.search_space_summary()",
   "execution_count": null,
   "outputs": [
    {
     "name": "stdout",
     "text": "Search space summary\nDefault search space size: 2\nunits (Int)\n{'default': None, 'conditions': [], 'min_value': 6, 'max_value': 72, 'step': 6, 'sampling': None}\nlr (Float)\n{'default': 0.0001, 'conditions': [], 'min_value': 0.0001, 'max_value': 0.01, 'step': None, 'sampling': 'log'}\n",
     "output_type": "stream",
     "data": {}
    }
   ]
  },
  {
   "cell_type": "code",
   "metadata": {
    "tags": [],
    "cell_id": "00028-dbc96fb5-6296-4918-b885-ee41cee5d862",
    "deepnote_to_be_reexecuted": false,
    "source_hash": "be0eb786",
    "execution_start": 1641314951817,
    "execution_millis": 27463,
    "deepnote_cell_type": "code"
   },
   "source": "tuner.search(X_train, y_train, epochs=150, verbose=0,  validation_data=(X_val, y_val) )\nhyperparameters = tuner.get_best_hyperparameters()[0]\nmodel = build_model(hyperparameters)\nmodel.build(input_shape=(None, 17))\nprint(model.summary())",
   "execution_count": null,
   "outputs": [
    {
     "name": "stdout",
     "text": "INFO:tensorflow:Oracle triggered exit\nModel: \"sequential_1\"\n_________________________________________________________________\nLayer (type)                 Output Shape              Param #   \n=================================================================\ndense_2 (Dense)              (None, 18)                324       \n_________________________________________________________________\ndense_3 (Dense)              (None, 1)                 19        \n=================================================================\nTotal params: 343\nTrainable params: 343\nNon-trainable params: 0\n_________________________________________________________________\nNone\n",
     "output_type": "stream",
     "data": {}
    }
   ]
  },
  {
   "cell_type": "code",
   "metadata": {
    "tags": [],
    "cell_id": "00029-88aba07f-958b-4f64-a369-193d2d1e1cad",
    "deepnote_to_be_reexecuted": false,
    "source_hash": "931f6c7f",
    "execution_start": 1641314979057,
    "execution_millis": 9913,
    "deepnote_output_heights": [
     null,
     280,
     280
    ],
    "deepnote_cell_type": "code"
   },
   "source": "train_loss = []\ntest_loss =[]\ntrain_acc = []\ntest_acc = []\n\nfor i in range(100):\n    history = model.fit( X_all, y_all, batch_size=10, verbose=0)\n    train_loss.append(history.history['loss'])\n    train_acc.append(history.history['accuracy'])\n    score = model.evaluate(X_test, y_test)\n    test_loss.append(score[0])\n    test_acc.append(score[1])\n\nprint(train_acc[99])\nprint(test_acc[99])\n\nplt.plot(train_loss, '-', label='train')\nplt.plot(test_loss, '-.', label='test')\nplt.legend()\nplt.title('loss')\nplt.xlabel('epochs')\nplt.ylabel('loss')\nplt.show()\nplt.plot(train_acc, '-', label='train')\nplt.plot(test_acc, '-.', label='test')\nplt.legend()\nplt.title('accuracy')\nplt.xlabel('epochs')\nplt.ylabel('accuracy')\nplt.show()",
   "execution_count": null,
   "outputs": [
    {
     "name": "stdout",
     "text": "14/14 [==============================] - 0s 754us/step - loss: 0.6966 - accuracy: 0.6250\n14/14 [==============================] - 0s 735us/step - loss: 0.6629 - accuracy: 0.6968\n14/14 [==============================] - 0s 684us/step - loss: 0.6353 - accuracy: 0.6898\n14/14 [==============================] - 0s 706us/step - loss: 0.6102 - accuracy: 0.7222\n14/14 [==============================] - 0s 761us/step - loss: 0.5811 - accuracy: 0.7593\n14/14 [==============================] - 0s 710us/step - loss: 0.5507 - accuracy: 0.8218\n14/14 [==============================] - 0s 713us/step - loss: 0.5218 - accuracy: 0.8495\n14/14 [==============================] - 0s 719us/step - loss: 0.4947 - accuracy: 0.8634\n14/14 [==============================] - 0s 713us/step - loss: 0.4694 - accuracy: 0.8912\n14/14 [==============================] - 0s 893us/step - loss: 0.4440 - accuracy: 0.9028\n14/14 [==============================] - 0s 785us/step - loss: 0.4132 - accuracy: 0.9120\n14/14 [==============================] - 0s 720us/step - loss: 0.3883 - accuracy: 0.9213\n14/14 [==============================] - 0s 724us/step - loss: 0.3625 - accuracy: 0.9306\n14/14 [==============================] - 0s 772us/step - loss: 0.3396 - accuracy: 0.9491\n14/14 [==============================] - 0s 716us/step - loss: 0.3134 - accuracy: 0.9514\n14/14 [==============================] - 0s 693us/step - loss: 0.2923 - accuracy: 0.9560\n14/14 [==============================] - 0s 705us/step - loss: 0.2769 - accuracy: 0.9653\n14/14 [==============================] - 0s 722us/step - loss: 0.2605 - accuracy: 0.9676\n14/14 [==============================] - 0s 778us/step - loss: 0.2575 - accuracy: 0.9583\n14/14 [==============================] - 0s 787us/step - loss: 0.2336 - accuracy: 0.9676\n14/14 [==============================] - 0s 765us/step - loss: 0.2220 - accuracy: 0.9699\n14/14 [==============================] - 0s 707us/step - loss: 0.2059 - accuracy: 0.9745\n14/14 [==============================] - 0s 687us/step - loss: 0.2053 - accuracy: 0.9699\n14/14 [==============================] - 0s 800us/step - loss: 0.1972 - accuracy: 0.9745\n14/14 [==============================] - 0s 716us/step - loss: 0.2018 - accuracy: 0.9676\n14/14 [==============================] - 0s 734us/step - loss: 0.2074 - accuracy: 0.9583\n14/14 [==============================] - 0s 688us/step - loss: 0.1953 - accuracy: 0.9653\n14/14 [==============================] - 0s 702us/step - loss: 0.1806 - accuracy: 0.9676\n14/14 [==============================] - 0s 962us/step - loss: 0.1715 - accuracy: 0.9699\n14/14 [==============================] - 0s 679us/step - loss: 0.1764 - accuracy: 0.9653\n14/14 [==============================] - 0s 1ms/step - loss: 0.1686 - accuracy: 0.9699\n14/14 [==============================] - 0s 709us/step - loss: 0.1634 - accuracy: 0.9699\n14/14 [==============================] - 0s 715us/step - loss: 0.1594 - accuracy: 0.9699\n14/14 [==============================] - 0s 691us/step - loss: 0.1567 - accuracy: 0.9722\n14/14 [==============================] - 0s 713us/step - loss: 0.1574 - accuracy: 0.9699\n14/14 [==============================] - 0s 723us/step - loss: 0.1536 - accuracy: 0.9699\n14/14 [==============================] - 0s 667us/step - loss: 0.1645 - accuracy: 0.9630\n14/14 [==============================] - 0s 688us/step - loss: 0.1530 - accuracy: 0.9676\n14/14 [==============================] - 0s 701us/step - loss: 0.1542 - accuracy: 0.9676\n14/14 [==============================] - 0s 693us/step - loss: 0.1386 - accuracy: 0.9722\n14/14 [==============================] - 0s 721us/step - loss: 0.1383 - accuracy: 0.9722\n14/14 [==============================] - 0s 783us/step - loss: 0.1384 - accuracy: 0.9722\n14/14 [==============================] - 0s 685us/step - loss: 0.1383 - accuracy: 0.9722\n14/14 [==============================] - 0s 818us/step - loss: 0.1361 - accuracy: 0.9745\n14/14 [==============================] - 0s 678us/step - loss: 0.1346 - accuracy: 0.9745\n14/14 [==============================] - 0s 744us/step - loss: 0.1342 - accuracy: 0.9745\n14/14 [==============================] - 0s 700us/step - loss: 0.1325 - accuracy: 0.9745\n14/14 [==============================] - 0s 731us/step - loss: 0.1315 - accuracy: 0.9699\n14/14 [==============================] - 0s 792us/step - loss: 0.1329 - accuracy: 0.9722\n14/14 [==============================] - 0s 711us/step - loss: 0.1307 - accuracy: 0.9699\n14/14 [==============================] - 0s 708us/step - loss: 0.1288 - accuracy: 0.9699\n14/14 [==============================] - 0s 709us/step - loss: 0.1226 - accuracy: 0.9722\n14/14 [==============================] - 0s 767us/step - loss: 0.1239 - accuracy: 0.9699\n14/14 [==============================] - 0s 1ms/step - loss: 0.1232 - accuracy: 0.9699\n14/14 [==============================] - 0s 704us/step - loss: 0.1276 - accuracy: 0.9699\n14/14 [==============================] - 0s 717us/step - loss: 0.1251 - accuracy: 0.9699\n14/14 [==============================] - 0s 910us/step - loss: 0.1226 - accuracy: 0.9699\n14/14 [==============================] - 0s 743us/step - loss: 0.1229 - accuracy: 0.9699\n14/14 [==============================] - 0s 698us/step - loss: 0.1261 - accuracy: 0.9699\n14/14 [==============================] - 0s 699us/step - loss: 0.1262 - accuracy: 0.9630\n14/14 [==============================] - 0s 768us/step - loss: 0.1226 - accuracy: 0.9653\n14/14 [==============================] - 0s 734us/step - loss: 0.1222 - accuracy: 0.9653\n14/14 [==============================] - 0s 753us/step - loss: 0.1158 - accuracy: 0.9699\n14/14 [==============================] - 0s 717us/step - loss: 0.1213 - accuracy: 0.9653\n14/14 [==============================] - 0s 753us/step - loss: 0.1211 - accuracy: 0.9653\n14/14 [==============================] - 0s 767us/step - loss: 0.1154 - accuracy: 0.9676\n14/14 [==============================] - 0s 737us/step - loss: 0.1118 - accuracy: 0.9630\n14/14 [==============================] - 0s 696us/step - loss: 0.1140 - accuracy: 0.9653\n14/14 [==============================] - 0s 701us/step - loss: 0.1086 - accuracy: 0.9722\n14/14 [==============================] - 0s 684us/step - loss: 0.1110 - accuracy: 0.9722\n14/14 [==============================] - 0s 702us/step - loss: 0.1153 - accuracy: 0.9630\n14/14 [==============================] - 0s 737us/step - loss: 0.1154 - accuracy: 0.9630\n14/14 [==============================] - 0s 817us/step - loss: 0.1148 - accuracy: 0.9630\n14/14 [==============================] - 0s 824us/step - loss: 0.1089 - accuracy: 0.9699\n14/14 [==============================] - 0s 708us/step - loss: 0.1280 - accuracy: 0.9491\n14/14 [==============================] - 0s 703us/step - loss: 0.1204 - accuracy: 0.9583\n14/14 [==============================] - 0s 708us/step - loss: 0.1145 - accuracy: 0.9630\n14/14 [==============================] - 0s 1ms/step - loss: 0.1165 - accuracy: 0.9606\n14/14 [==============================] - 0s 725us/step - loss: 0.1302 - accuracy: 0.9537\n14/14 [==============================] - 0s 803us/step - loss: 0.1209 - accuracy: 0.9583\n14/14 [==============================] - 0s 716us/step - loss: 0.1150 - accuracy: 0.9630\n14/14 [==============================] - 0s 734us/step - loss: 0.1087 - accuracy: 0.9653\n14/14 [==============================] - 0s 719us/step - loss: 0.1110 - accuracy: 0.9653\n14/14 [==============================] - 0s 741us/step - loss: 0.1163 - accuracy: 0.9583\n14/14 [==============================] - 0s 707us/step - loss: 0.1161 - accuracy: 0.9583\n14/14 [==============================] - 0s 671us/step - loss: 0.1140 - accuracy: 0.9630\n14/14 [==============================] - 0s 770us/step - loss: 0.1120 - accuracy: 0.9630\n14/14 [==============================] - 0s 740us/step - loss: 0.1123 - accuracy: 0.9606\n14/14 [==============================] - 0s 736us/step - loss: 0.1133 - accuracy: 0.9606\n14/14 [==============================] - 0s 732us/step - loss: 0.1186 - accuracy: 0.9560\n14/14 [==============================] - 0s 765us/step - loss: 0.1143 - accuracy: 0.9606\n14/14 [==============================] - 0s 710us/step - loss: 0.1159 - accuracy: 0.9583\n14/14 [==============================] - 0s 768us/step - loss: 0.1121 - accuracy: 0.9606\n14/14 [==============================] - 0s 723us/step - loss: 0.1139 - accuracy: 0.9606\n14/14 [==============================] - 0s 786us/step - loss: 0.1168 - accuracy: 0.9560\n14/14 [==============================] - 0s 691us/step - loss: 0.1157 - accuracy: 0.9583\n14/14 [==============================] - 0s 722us/step - loss: 0.1118 - accuracy: 0.9606\n14/14 [==============================] - 0s 722us/step - loss: 0.1140 - accuracy: 0.9606\n14/14 [==============================] - 0s 826us/step - loss: 0.1153 - accuracy: 0.9583\n14/14 [==============================] - 0s 745us/step - loss: 0.1131 - accuracy: 0.9606\n[0.9918032884597778]\n0.9606481194496155\n",
     "output_type": "stream",
     "data": {}
    },
    {
     "data": {
      "text/plain": "<Figure size 432x288 with 1 Axes>",
      "image/png": "[encoded data removed]"
     },
     "metadata": {
      "needs_background": "light",
      "image/png": {
       "width": 386,
       "height": 278
      }
     },
     "output_type": "display_data"
    },
    {
     "data": {
      "text/plain": "<Figure size 432x288 with 1 Axes>",
      "image/png": "[encoded data removed]"
     },
     "metadata": {
      "needs_background": "light",
      "image/png": {
       "width": 386,
       "height": 278
      }
     },
     "output_type": "display_data"
    }
   ]
  },
  {
   "cell_type": "markdown",
   "source": "# ML-CUP ",
   "metadata": {
    "tags": [],
    "is_collapsed": false,
    "cell_id": "00030-652d04cc-ff37-4ec9-823d-d924466f3707",
    "deepnote_cell_type": "text-cell-h1"
   }
  },
  {
   "cell_type": "markdown",
   "source": "# Save plots in keras_results folder",
   "metadata": {
    "tags": [],
    "is_collapsed": false,
    "cell_id": "00031-333c0a86-96a9-4a77-8498-3397ef780451",
    "deepnote_cell_type": "text-cell-h1"
   }
  },
  {
   "cell_type": "code",
   "metadata": {
    "tags": [],
    "cell_id": "00033-b5c86749-c897-4131-b100-7f920381f6f5",
    "deepnote_to_be_reexecuted": false,
    "source_hash": "a5b7cb83",
    "execution_start": 1641314988660,
    "execution_millis": 4,
    "deepnote_cell_type": "code"
   },
   "source": "#define mee loss function \ndef mee(true_target, predicted_target):  # assuming target is 2-dim matrix with x and y as columns\n    l = true_target.shape[0]\n    res = 0\n\n    for p in range(l):  # for p-th pattern in l (number of samples)\n        x_diff = np.square(true_target[p, 0] - predicted_target[p, 0])  # difference between the x value of the true and predicted target\n        y_diff = np.square(\n            true_target[p, 1] - predicted_target[p, 1])  # difference between the y values of true and predicted target\n        sum_term = x_diff + y_diff\n        res = res + np.sqrt(sum_term)\n    res = res / l\n\n    return res",
   "execution_count": null,
   "outputs": []
  },
  {
   "cell_type": "code",
   "metadata": {
    "tags": [],
    "cell_id": "00031-a8188f85-12a2-4b33-9f4e-6c3dc531ce35",
    "deepnote_to_be_reexecuted": false,
    "source_hash": "89530873",
    "execution_start": 1641314988668,
    "execution_millis": 304,
    "deepnote_cell_type": "code"
   },
   "source": "#load training dataset\ncolnames = ['id', 'a1', 'a2', 'a3', 'a4', 'a5', 'a6', 'a7', 'a8', 'a9', 'a10', 'y1', 'y2']\ndf_ml_cup_train = pd.read_csv(\"./data/ML-CUP21-TR.csv\", sep = \",\", skipinitialspace=True, names = colnames)\ndf_ml_cup_train.drop(df_ml_cup_train.index[0:7], axis=0, inplace=True)\ndf_ml_cup_train.head()",
   "execution_count": null,
   "outputs": [
    {
     "output_type": "execute_result",
     "execution_count": 24,
     "data": {
      "application/vnd.deepnote.dataframe.v3+json": {
       "column_count": 13,
       "row_count": 5,
       "columns": [
        {
         "name": "id",
         "dtype": "object",
         "stats": {
          "unique_count": 5,
          "nan_count": 0,
          "categories": [
           {
            "name": "1",
            "count": 1
           },
           {
            "name": "2",
            "count": 1
           },
           {
            "name": "3 others",
            "count": 3
           }
          ]
         }
        },
        {
         "name": "a1",
         "dtype": "float64",
         "stats": {
          "unique_count": 5,
          "nan_count": 0,
          "min": "-1.493339",
          "max": "0.612246",
          "histogram": [
           {
            "bin_start": -1.493339,
            "bin_end": -1.2827804999999999,
            "count": 1
           },
           {
            "bin_start": -1.2827804999999999,
            "bin_end": -1.072222,
            "count": 0
           },
           {
            "bin_start": -1.072222,
            "bin_end": -0.8616634999999999,
            "count": 1
           },
           {
            "bin_start": -0.8616634999999999,
            "bin_end": -0.6511049999999999,
            "count": 0
           },
           {
            "bin_start": -0.6511049999999999,
            "bin_end": -0.44054649999999995,
            "count": 0
           },
           {
            "bin_start": -0.44054649999999995,
            "bin_end": -0.22998799999999986,
            "count": 1
           },
           {
            "bin_start": -0.22998799999999986,
            "bin_end": -0.01942949999999999,
            "count": 0
           },
           {
            "bin_start": -0.01942949999999999,
            "bin_end": 0.1911290000000001,
            "count": 0
           },
           {
            "bin_start": 0.1911290000000001,
            "bin_end": 0.4016875000000002,
            "count": 1
           },
           {
            "bin_start": 0.4016875000000002,
            "bin_end": 0.612246,
            "count": 1
           }
          ]
         }
        },
        {
         "name": "a2",
         "dtype": "float64",
         "stats": {
          "unique_count": 5,
          "nan_count": 0,
          "min": "-1.801874",
          "max": "1.992164",
          "histogram": [
           {
            "bin_start": -1.801874,
            "bin_end": -1.4224702,
            "count": 1
           },
           {
            "bin_start": -1.4224702,
            "bin_end": -1.0430663999999998,
            "count": 0
           },
           {
            "bin_start": -1.0430663999999998,
            "bin_end": -0.6636625999999999,
            "count": 0
           },
           {
            "bin_start": -0.6636625999999999,
            "bin_end": -0.2842587999999999,
            "count": 0
           },
           {
            "bin_start": -0.2842587999999999,
            "bin_end": 0.09514500000000004,
            "count": 0
           },
           {
            "bin_start": 0.09514500000000004,
            "bin_end": 0.4745488000000002,
            "count": 2
           },
           {
            "bin_start": 0.4745488000000002,
            "bin_end": 0.8539526000000002,
            "count": 0
           },
           {
            "bin_start": 0.8539526000000002,
            "bin_end": 1.2333564000000001,
            "count": 0
           },
           {
            "bin_start": 1.2333564000000001,
            "bin_end": 1.6127602,
            "count": 1
           },
           {
            "bin_start": 1.6127602,
            "bin_end": 1.992164,
            "count": 1
           }
          ]
         }
        },
        {
         "name": "a3",
         "dtype": "float64",
         "stats": {
          "unique_count": 5,
          "nan_count": 0,
          "min": "-1.116485",
          "max": "1.119434",
          "histogram": [
           {
            "bin_start": -1.116485,
            "bin_end": -0.8928931,
            "count": 1
           },
           {
            "bin_start": -0.8928931,
            "bin_end": -0.6693011999999999,
            "count": 0
           },
           {
            "bin_start": -0.6693011999999999,
            "bin_end": -0.44570929999999986,
            "count": 0
           },
           {
            "bin_start": -0.44570929999999986,
            "bin_end": -0.2221173999999999,
            "count": 0
           },
           {
            "bin_start": -0.2221173999999999,
            "bin_end": 0.0014745000000000452,
            "count": 0
           },
           {
            "bin_start": 0.0014745000000000452,
            "bin_end": 0.22506640000000022,
            "count": 0
           },
           {
            "bin_start": 0.22506640000000022,
            "bin_end": 0.4486583000000002,
            "count": 0
           },
           {
            "bin_start": 0.4486583000000002,
            "bin_end": 0.6722502000000001,
            "count": 1
           },
           {
            "bin_start": 0.6722502000000001,
            "bin_end": 0.8958421000000003,
            "count": 1
           },
           {
            "bin_start": 0.8958421000000003,
            "bin_end": 1.119434,
            "count": 2
           }
          ]
         }
        },
        {
         "name": "a4",
         "dtype": "float64",
         "stats": {
          "unique_count": 5,
          "nan_count": 0,
          "min": "-1.365528",
          "max": "1.25523",
          "histogram": [
           {
            "bin_start": -1.365528,
            "bin_end": -1.1034522,
            "count": 1
           },
           {
            "bin_start": -1.1034522,
            "bin_end": -0.8413764,
            "count": 2
           },
           {
            "bin_start": -0.8413764,
            "bin_end": -0.5793006,
            "count": 1
           },
           {
            "bin_start": -0.5793006,
            "bin_end": -0.3172248,
            "count": 0
           },
           {
            "bin_start": -0.3172248,
            "bin_end": -0.05514899999999989,
            "count": 0
           },
           {
            "bin_start": -0.05514899999999989,
            "bin_end": 0.20692679999999997,
            "count": 0
           },
           {
            "bin_start": 0.20692679999999997,
            "bin_end": 0.46900260000000005,
            "count": 0
           },
           {
            "bin_start": 0.46900260000000005,
            "bin_end": 0.7310784000000001,
            "count": 0
           },
           {
            "bin_start": 0.7310784000000001,
            "bin_end": 0.9931542,
            "count": 0
           },
           {
            "bin_start": 0.9931542,
            "bin_end": 1.25523,
            "count": 1
           }
          ]
         }
        },
        {
         "name": "a5",
         "dtype": "float64",
         "stats": {
          "unique_count": 5,
          "nan_count": 0,
          "min": "-1.021899",
          "max": "1.310392",
          "histogram": [
           {
            "bin_start": -1.021899,
            "bin_end": -0.7886698999999999,
            "count": 1
           },
           {
            "bin_start": -0.7886698999999999,
            "bin_end": -0.5554408,
            "count": 0
           },
           {
            "bin_start": -0.5554408,
            "bin_end": -0.3222117,
            "count": 0
           },
           {
            "bin_start": -0.3222117,
            "bin_end": -0.08898260000000002,
            "count": 0
           },
           {
            "bin_start": -0.08898260000000002,
            "bin_end": 0.14424649999999994,
            "count": 0
           },
           {
            "bin_start": 0.14424649999999994,
            "bin_end": 0.3774755999999999,
            "count": 1
           },
           {
            "bin_start": 0.3774755999999999,
            "bin_end": 0.6107046999999999,
            "count": 1
           },
           {
            "bin_start": 0.6107046999999999,
            "bin_end": 0.8439337999999998,
            "count": 0
           },
           {
            "bin_start": 0.8439337999999998,
            "bin_end": 1.0771628999999998,
            "count": 0
           },
           {
            "bin_start": 1.0771628999999998,
            "bin_end": 1.310392,
            "count": 2
           }
          ]
         }
        },
        {
         "name": "a6",
         "dtype": "float64",
         "stats": {
          "unique_count": 5,
          "nan_count": 0,
          "min": "-1.425146",
          "max": "1.870421",
          "histogram": [
           {
            "bin_start": -1.425146,
            "bin_end": -1.0955892999999999,
            "count": 1
           },
           {
            "bin_start": -1.0955892999999999,
            "bin_end": -0.7660326,
            "count": 0
           },
           {
            "bin_start": -0.7660326,
            "bin_end": -0.4364758999999999,
            "count": 0
           },
           {
            "bin_start": -0.4364758999999999,
            "bin_end": -0.10691919999999988,
            "count": 0
           },
           {
            "bin_start": -0.10691919999999988,
            "bin_end": 0.22263750000000004,
            "count": 0
           },
           {
            "bin_start": 0.22263750000000004,
            "bin_end": 0.5521942000000002,
            "count": 1
           },
           {
            "bin_start": 0.5521942000000002,
            "bin_end": 0.8817509000000003,
            "count": 0
           },
           {
            "bin_start": 0.8817509000000003,
            "bin_end": 1.2113076000000003,
            "count": 1
           },
           {
            "bin_start": 1.2113076000000003,
            "bin_end": 1.5408643000000002,
            "count": 1
           },
           {
            "bin_start": 1.5408643000000002,
            "bin_end": 1.870421,
            "count": 1
           }
          ]
         }
        },
        {
         "name": "a7",
         "dtype": "float64",
         "stats": {
          "unique_count": 5,
          "nan_count": 0,
          "min": "-0.984814",
          "max": "1.029583",
          "histogram": [
           {
            "bin_start": -0.984814,
            "bin_end": -0.7833743,
            "count": 3
           },
           {
            "bin_start": -0.7833743,
            "bin_end": -0.5819346000000001,
            "count": 0
           },
           {
            "bin_start": -0.5819346000000001,
            "bin_end": -0.3804949000000001,
            "count": 1
           },
           {
            "bin_start": -0.3804949000000001,
            "bin_end": -0.17905520000000008,
            "count": 0
           },
           {
            "bin_start": -0.17905520000000008,
            "bin_end": 0.02238449999999992,
            "count": 0
           },
           {
            "bin_start": 0.02238449999999992,
            "bin_end": 0.2238241999999998,
            "count": 0
           },
           {
            "bin_start": 0.2238241999999998,
            "bin_end": 0.4252638999999999,
            "count": 0
           },
           {
            "bin_start": 0.4252638999999999,
            "bin_end": 0.6267035999999998,
            "count": 0
           },
           {
            "bin_start": 0.6267035999999998,
            "bin_end": 0.8281432999999997,
            "count": 0
           },
           {
            "bin_start": 0.8281432999999997,
            "bin_end": 1.029583,
            "count": 1
           }
          ]
         }
        },
        {
         "name": "a8",
         "dtype": "float64",
         "stats": {
          "unique_count": 5,
          "nan_count": 0,
          "min": "-1.712529",
          "max": "1.261154",
          "histogram": [
           {
            "bin_start": -1.712529,
            "bin_end": -1.4151607,
            "count": 1
           },
           {
            "bin_start": -1.4151607,
            "bin_end": -1.1177924,
            "count": 2
           },
           {
            "bin_start": -1.1177924,
            "bin_end": -0.8204240999999999,
            "count": 0
           },
           {
            "bin_start": -0.8204240999999999,
            "bin_end": -0.5230557999999998,
            "count": 0
           },
           {
            "bin_start": -0.5230557999999998,
            "bin_end": -0.22568749999999982,
            "count": 0
           },
           {
            "bin_start": -0.22568749999999982,
            "bin_end": 0.07168080000000021,
            "count": 0
           },
           {
            "bin_start": 0.07168080000000021,
            "bin_end": 0.36904910000000024,
            "count": 1
           },
           {
            "bin_start": 0.36904910000000024,
            "bin_end": 0.6664174000000003,
            "count": 0
           },
           {
            "bin_start": 0.6664174000000003,
            "bin_end": 0.9637857000000003,
            "count": 0
           },
           {
            "bin_start": 0.9637857000000003,
            "bin_end": 1.261154,
            "count": 1
           }
          ]
         }
        },
        {
         "name": "a9",
         "dtype": "float64",
         "stats": {
          "unique_count": 5,
          "nan_count": 0,
          "min": "-2.031158",
          "max": "-0.185208",
          "histogram": [
           {
            "bin_start": -2.031158,
            "bin_end": -1.846563,
            "count": 1
           },
           {
            "bin_start": -1.846563,
            "bin_end": -1.661968,
            "count": 0
           },
           {
            "bin_start": -1.661968,
            "bin_end": -1.477373,
            "count": 0
           },
           {
            "bin_start": -1.477373,
            "bin_end": -1.292778,
            "count": 0
           },
           {
            "bin_start": -1.292778,
            "bin_end": -1.108183,
            "count": 0
           },
           {
            "bin_start": -1.108183,
            "bin_end": -0.9235880000000001,
            "count": 1
           },
           {
            "bin_start": -0.9235880000000001,
            "bin_end": -0.738993,
            "count": 1
           },
           {
            "bin_start": -0.738993,
            "bin_end": -0.554398,
            "count": 1
           },
           {
            "bin_start": -0.554398,
            "bin_end": -0.3698029999999999,
            "count": 0
           },
           {
            "bin_start": -0.3698029999999999,
            "bin_end": -0.185208,
            "count": 1
           }
          ]
         }
        },
        {
         "name": "a10",
         "dtype": "float64",
         "stats": {
          "unique_count": 5,
          "nan_count": 0,
          "min": "-0.61897",
          "max": "1.588863",
          "histogram": [
           {
            "bin_start": -0.61897,
            "bin_end": -0.3981867,
            "count": 2
           },
           {
            "bin_start": -0.3981867,
            "bin_end": -0.17740340000000004,
            "count": 1
           },
           {
            "bin_start": -0.17740340000000004,
            "bin_end": 0.043379899999999916,
            "count": 0
           },
           {
            "bin_start": 0.043379899999999916,
            "bin_end": 0.26416319999999993,
            "count": 1
           },
           {
            "bin_start": 0.26416319999999993,
            "bin_end": 0.48494649999999995,
            "count": 0
           },
           {
            "bin_start": 0.48494649999999995,
            "bin_end": 0.7057297999999999,
            "count": 0
           },
           {
            "bin_start": 0.7057297999999999,
            "bin_end": 0.9265131,
            "count": 0
           },
           {
            "bin_start": 0.9265131,
            "bin_end": 1.1472963999999999,
            "count": 0
           },
           {
            "bin_start": 1.1472963999999999,
            "bin_end": 1.3680796999999998,
            "count": 0
           },
           {
            "bin_start": 1.3680796999999998,
            "bin_end": 1.588863,
            "count": 1
           }
          ]
         }
        },
        {
         "name": "y1",
         "dtype": "float64",
         "stats": {
          "unique_count": 5,
          "nan_count": 0,
          "min": "0.170888",
          "max": "7.259387",
          "histogram": [
           {
            "bin_start": 0.170888,
            "bin_end": 0.8797379000000001,
            "count": 1
           },
           {
            "bin_start": 0.8797379000000001,
            "bin_end": 1.5885878,
            "count": 0
           },
           {
            "bin_start": 1.5885878,
            "bin_end": 2.2974377,
            "count": 0
           },
           {
            "bin_start": 2.2974377,
            "bin_end": 3.0062876000000003,
            "count": 0
           },
           {
            "bin_start": 3.0062876000000003,
            "bin_end": 3.7151375000000004,
            "count": 0
           },
           {
            "bin_start": 3.7151375000000004,
            "bin_end": 4.4239874,
            "count": 1
           },
           {
            "bin_start": 4.4239874,
            "bin_end": 5.1328373,
            "count": 0
           },
           {
            "bin_start": 5.1328373,
            "bin_end": 5.8416872,
            "count": 0
           },
           {
            "bin_start": 5.8416872,
            "bin_end": 6.5505371,
            "count": 1
           },
           {
            "bin_start": 6.5505371,
            "bin_end": 7.259387,
            "count": 2
           }
          ]
         }
        },
        {
         "name": "y2",
         "dtype": "float64",
         "stats": {
          "unique_count": 5,
          "nan_count": 0,
          "min": "-31.529549",
          "max": "-8.768943",
          "histogram": [
           {
            "bin_start": -31.529549,
            "bin_end": -29.2534884,
            "count": 2
           },
           {
            "bin_start": -29.2534884,
            "bin_end": -26.9774278,
            "count": 1
           },
           {
            "bin_start": -26.9774278,
            "bin_end": -24.7013672,
            "count": 1
           },
           {
            "bin_start": -24.7013672,
            "bin_end": -22.4253066,
            "count": 0
           },
           {
            "bin_start": -22.4253066,
            "bin_end": -20.149245999999998,
            "count": 0
           },
           {
            "bin_start": -20.149245999999998,
            "bin_end": -17.873185399999997,
            "count": 0
           },
           {
            "bin_start": -17.873185399999997,
            "bin_end": -15.5971248,
            "count": 0
           },
           {
            "bin_start": -15.5971248,
            "bin_end": -13.321064199999999,
            "count": 0
           },
           {
            "bin_start": -13.321064199999999,
            "bin_end": -11.045003599999998,
            "count": 0
           },
           {
            "bin_start": -11.045003599999998,
            "bin_end": -8.768943,
            "count": 1
           }
          ]
         }
        },
        {
         "name": "_deepnote_index_column",
         "dtype": "int64"
        }
       ],
       "rows": [
        {
         "id": "1",
         "a1": 0.248433,
         "a2": -1.801874,
         "a3": -1.116485,
         "a4": 1.25523,
         "a5": -1.021899,
         "a6": -1.425146,
         "a7": 1.029583,
         "a8": 1.261154,
         "a9": -0.185208,
         "a10": -0.61897,
         "y1": 7.187592,
         "y2": -8.768943,
         "_deepnote_index_column": 7
        },
        {
         "id": "2",
         "a1": 0.612246,
         "a2": 0.369337,
         "a3": 1.119434,
         "a4": -0.689106,
         "a5": 0.451776,
         "a6": 1.308115,
         "a7": -0.518925,
         "a8": 0.129025,
         "a9": -0.558788,
         "a10": 1.588863,
         "y1": 0.170888,
         "y2": -25.895562,
         "_deepnote_index_column": 8
        },
        {
         "id": "3",
         "a1": -0.974871,
         "a2": 0.275613,
         "a3": 1.106435,
         "a4": -0.867804,
         "a5": 0.230839,
         "a6": 1.870421,
         "a7": -0.794584,
         "a8": -1.712529,
         "a9": -0.935208,
         "a10": 0.109706,
         "y1": 4.167006,
         "y2": -29.062891,
         "_deepnote_index_column": 9
        },
        {
         "id": "4",
         "a1": -1.493339,
         "a2": 1.992164,
         "a3": 0.609691,
         "a4": -1.001476,
         "a5": 1.268201,
         "a6": 0.516364,
         "a7": -0.984814,
         "a8": -1.16944,
         "a9": -0.765422,
         "a10": -0.487069,
         "y1": 7.259387,
         "y2": -31.529549,
         "_deepnote_index_column": 10
        },
        {
         "id": "5",
         "a1": -0.432028,
         "a2": 1.592409,
         "a3": 0.853561,
         "a4": -1.365528,
         "a5": 1.310392,
         "a6": 0.954528,
         "a7": -0.946305,
         "a8": -1.269243,
         "a9": -2.031158,
         "a10": -0.227847,
         "y1": 5.94143,
         "y2": -30.540759,
         "_deepnote_index_column": 11
        }
       ]
      },
      "text/plain": "   id        a1        a2        a3        a4        a5        a6        a7  \\\n7   1  0.248433 -1.801874 -1.116485  1.255230 -1.021899 -1.425146  1.029583   \n8   2  0.612246  0.369337  1.119434 -0.689106  0.451776  1.308115 -0.518925   \n9   3 -0.974871  0.275613  1.106435 -0.867804  0.230839  1.870421 -0.794584   \n10  4 -1.493339  1.992164  0.609691 -1.001476  1.268201  0.516364 -0.984814   \n11  5 -0.432028  1.592409  0.853561 -1.365528  1.310392  0.954528 -0.946305   \n\n          a8        a9       a10        y1         y2  \n7   1.261154 -0.185208 -0.618970  7.187592  -8.768943  \n8   0.129025 -0.558788  1.588863  0.170888 -25.895562  \n9  -1.712529 -0.935208  0.109706  4.167006 -29.062891  \n10 -1.169440 -0.765422 -0.487069  7.259387 -31.529549  \n11 -1.269243 -2.031158 -0.227847  5.941430 -30.540759  ",
      "text/html": "<div>\n<style scoped>\n    .dataframe tbody tr th:only-of-type {\n        vertical-align: middle;\n    }\n\n    .dataframe tbody tr th {\n        vertical-align: top;\n    }\n\n    .dataframe thead th {\n        text-align: right;\n    }\n</style>\n<table border=\"1\" class=\"dataframe\">\n  <thead>\n    <tr style=\"text-align: right;\">\n      <th></th>\n      <th>id</th>\n      <th>a1</th>\n      <th>a2</th>\n      <th>a3</th>\n      <th>a4</th>\n      <th>a5</th>\n      <th>a6</th>\n      <th>a7</th>\n      <th>a8</th>\n      <th>a9</th>\n      <th>a10</th>\n      <th>y1</th>\n      <th>y2</th>\n    </tr>\n  </thead>\n  <tbody>\n    <tr>\n      <th>7</th>\n      <td>1</td>\n      <td>0.248433</td>\n      <td>-1.801874</td>\n      <td>-1.116485</td>\n      <td>1.255230</td>\n      <td>-1.021899</td>\n      <td>-1.425146</td>\n      <td>1.029583</td>\n      <td>1.261154</td>\n      <td>-0.185208</td>\n      <td>-0.618970</td>\n      <td>7.187592</td>\n      <td>-8.768943</td>\n    </tr>\n    <tr>\n      <th>8</th>\n      <td>2</td>\n      <td>0.612246</td>\n      <td>0.369337</td>\n      <td>1.119434</td>\n      <td>-0.689106</td>\n      <td>0.451776</td>\n      <td>1.308115</td>\n      <td>-0.518925</td>\n      <td>0.129025</td>\n      <td>-0.558788</td>\n      <td>1.588863</td>\n      <td>0.170888</td>\n      <td>-25.895562</td>\n    </tr>\n    <tr>\n      <th>9</th>\n      <td>3</td>\n      <td>-0.974871</td>\n      <td>0.275613</td>\n      <td>1.106435</td>\n      <td>-0.867804</td>\n      <td>0.230839</td>\n      <td>1.870421</td>\n      <td>-0.794584</td>\n      <td>-1.712529</td>\n      <td>-0.935208</td>\n      <td>0.109706</td>\n      <td>4.167006</td>\n      <td>-29.062891</td>\n    </tr>\n    <tr>\n      <th>10</th>\n      <td>4</td>\n      <td>-1.493339</td>\n      <td>1.992164</td>\n      <td>0.609691</td>\n      <td>-1.001476</td>\n      <td>1.268201</td>\n      <td>0.516364</td>\n      <td>-0.984814</td>\n      <td>-1.169440</td>\n      <td>-0.765422</td>\n      <td>-0.487069</td>\n      <td>7.259387</td>\n      <td>-31.529549</td>\n    </tr>\n    <tr>\n      <th>11</th>\n      <td>5</td>\n      <td>-0.432028</td>\n      <td>1.592409</td>\n      <td>0.853561</td>\n      <td>-1.365528</td>\n      <td>1.310392</td>\n      <td>0.954528</td>\n      <td>-0.946305</td>\n      <td>-1.269243</td>\n      <td>-2.031158</td>\n      <td>-0.227847</td>\n      <td>5.941430</td>\n      <td>-30.540759</td>\n    </tr>\n  </tbody>\n</table>\n</div>"
     },
     "metadata": {}
    }
   ]
  },
  {
   "cell_type": "code",
   "metadata": {
    "tags": [],
    "cell_id": "00032-e3a1c786-d668-46ff-9468-ee321bfc01e6",
    "deepnote_to_be_reexecuted": false,
    "source_hash": "aeba41d2",
    "execution_start": 1641314988780,
    "execution_millis": 193,
    "deepnote_output_heights": [
     270.79998779296875
    ],
    "deepnote_cell_type": "code"
   },
   "source": "#check for mull values \npd.isnull(df_ml_cup_train).sum()",
   "execution_count": null,
   "outputs": [
    {
     "output_type": "execute_result",
     "execution_count": 25,
     "data": {
      "text/plain": "id     0\na1     0\na2     0\na3     0\na4     0\na5     0\na6     0\na7     0\na8     0\na9     0\na10    0\ny1     0\ny2     0\ndtype: int64"
     },
     "metadata": {}
    }
   ]
  },
  {
   "cell_type": "code",
   "metadata": {
    "tags": [],
    "cell_id": "00033-92d653bf-f48b-4adc-a2e5-dc38ff023258",
    "deepnote_to_be_reexecuted": false,
    "source_hash": "ee059543",
    "execution_start": 1641314988782,
    "execution_millis": 192,
    "deepnote_cell_type": "code"
   },
   "source": "df_ml_cup_train.describe(include='all')",
   "execution_count": null,
   "outputs": [
    {
     "output_type": "execute_result",
     "execution_count": 26,
     "data": {
      "application/vnd.deepnote.dataframe.v3+json": {
       "column_count": 13,
       "row_count": 11,
       "columns": [
        {
         "name": "id",
         "dtype": "object",
         "stats": {
          "unique_count": 3,
          "nan_count": 7,
          "categories": [
           {
            "name": "1477",
            "count": 2
           },
           {
            "name": "2 others",
            "count": 2
           },
           {
            "name": "Missing",
            "count": 7
           }
          ]
         }
        },
        {
         "name": "a1",
         "dtype": "float64",
         "stats": {
          "unique_count": 8,
          "nan_count": 3,
          "min": "-2.526427",
          "max": "1477.0",
          "histogram": [
           {
            "bin_start": -2.526427,
            "bin_end": 145.4262157,
            "count": 7
           },
           {
            "bin_start": 145.4262157,
            "bin_end": 293.3788584,
            "count": 0
           },
           {
            "bin_start": 293.3788584,
            "bin_end": 441.3315011,
            "count": 0
           },
           {
            "bin_start": 441.3315011,
            "bin_end": 589.2841438,
            "count": 0
           },
           {
            "bin_start": 589.2841438,
            "bin_end": 737.2367865000001,
            "count": 0
           },
           {
            "bin_start": 737.2367865000001,
            "bin_end": 885.1894292000001,
            "count": 0
           },
           {
            "bin_start": 885.1894292000001,
            "bin_end": 1033.1420719,
            "count": 0
           },
           {
            "bin_start": 1033.1420719,
            "bin_end": 1181.0947146,
            "count": 0
           },
           {
            "bin_start": 1181.0947146,
            "bin_end": 1329.0473573000002,
            "count": 0
           },
           {
            "bin_start": 1329.0473573000002,
            "bin_end": 1477,
            "count": 1
           }
          ]
         }
        },
        {
         "name": "a2",
         "dtype": "float64",
         "stats": {
          "unique_count": 8,
          "nan_count": 3,
          "min": "-1.918939",
          "max": "1477.0",
          "histogram": [
           {
            "bin_start": -1.918939,
            "bin_end": 145.9729549,
            "count": 7
           },
           {
            "bin_start": 145.9729549,
            "bin_end": 293.86484879999995,
            "count": 0
           },
           {
            "bin_start": 293.86484879999995,
            "bin_end": 441.7567426999999,
            "count": 0
           },
           {
            "bin_start": 441.7567426999999,
            "bin_end": 589.6486365999999,
            "count": 0
           },
           {
            "bin_start": 589.6486365999999,
            "bin_end": 737.5405304999999,
            "count": 0
           },
           {
            "bin_start": 737.5405304999999,
            "bin_end": 885.4324243999998,
            "count": 0
           },
           {
            "bin_start": 885.4324243999998,
            "bin_end": 1033.3243183,
            "count": 0
           },
           {
            "bin_start": 1033.3243183,
            "bin_end": 1181.2162122,
            "count": 0
           },
           {
            "bin_start": 1181.2162122,
            "bin_end": 1329.1081061,
            "count": 0
           },
           {
            "bin_start": 1329.1081061,
            "bin_end": 1477,
            "count": 1
           }
          ]
         }
        },
        {
         "name": "a3",
         "dtype": "float64",
         "stats": {
          "unique_count": 8,
          "nan_count": 3,
          "min": "-2.42089",
          "max": "1477.0",
          "histogram": [
           {
            "bin_start": -2.42089,
            "bin_end": 145.52119900000002,
            "count": 7
           },
           {
            "bin_start": 145.52119900000002,
            "bin_end": 293.46328800000003,
            "count": 0
           },
           {
            "bin_start": 293.46328800000003,
            "bin_end": 441.40537700000004,
            "count": 0
           },
           {
            "bin_start": 441.40537700000004,
            "bin_end": 589.347466,
            "count": 0
           },
           {
            "bin_start": 589.347466,
            "bin_end": 737.2895550000001,
            "count": 0
           },
           {
            "bin_start": 737.2895550000001,
            "bin_end": 885.2316440000001,
            "count": 0
           },
           {
            "bin_start": 885.2316440000001,
            "bin_end": 1033.1737329999999,
            "count": 0
           },
           {
            "bin_start": 1033.1737329999999,
            "bin_end": 1181.115822,
            "count": 0
           },
           {
            "bin_start": 1181.115822,
            "bin_end": 1329.057911,
            "count": 0
           },
           {
            "bin_start": 1329.057911,
            "bin_end": 1477,
            "count": 1
           }
          ]
         }
        },
        {
         "name": "a4",
         "dtype": "float64",
         "stats": {
          "unique_count": 8,
          "nan_count": 3,
          "min": "-1.946351",
          "max": "1477.0",
          "histogram": [
           {
            "bin_start": -1.946351,
            "bin_end": 145.94828410000002,
            "count": 7
           },
           {
            "bin_start": 145.94828410000002,
            "bin_end": 293.84291920000004,
            "count": 0
           },
           {
            "bin_start": 293.84291920000004,
            "bin_end": 441.73755430000006,
            "count": 0
           },
           {
            "bin_start": 441.73755430000006,
            "bin_end": 589.6321894,
            "count": 0
           },
           {
            "bin_start": 589.6321894,
            "bin_end": 737.5268245,
            "count": 0
           },
           {
            "bin_start": 737.5268245,
            "bin_end": 885.4214596,
            "count": 0
           },
           {
            "bin_start": 885.4214596,
            "bin_end": 1033.3160947000001,
            "count": 0
           },
           {
            "bin_start": 1033.3160947000001,
            "bin_end": 1181.2107298,
            "count": 0
           },
           {
            "bin_start": 1181.2107298,
            "bin_end": 1329.1053649,
            "count": 0
           },
           {
            "bin_start": 1329.1053649,
            "bin_end": 1477,
            "count": 1
           }
          ]
         }
        },
        {
         "name": "a5",
         "dtype": "float64",
         "stats": {
          "unique_count": 8,
          "nan_count": 3,
          "min": "-1.897417",
          "max": "1477.0",
          "histogram": [
           {
            "bin_start": -1.897417,
            "bin_end": 145.9923247,
            "count": 7
           },
           {
            "bin_start": 145.9923247,
            "bin_end": 293.8820664,
            "count": 0
           },
           {
            "bin_start": 293.8820664,
            "bin_end": 441.7718081,
            "count": 0
           },
           {
            "bin_start": 441.7718081,
            "bin_end": 589.6615498,
            "count": 0
           },
           {
            "bin_start": 589.6615498,
            "bin_end": 737.5512915,
            "count": 0
           },
           {
            "bin_start": 737.5512915,
            "bin_end": 885.4410332,
            "count": 0
           },
           {
            "bin_start": 885.4410332,
            "bin_end": 1033.3307749,
            "count": 0
           },
           {
            "bin_start": 1033.3307749,
            "bin_end": 1181.2205166,
            "count": 0
           },
           {
            "bin_start": 1181.2205166,
            "bin_end": 1329.1102583000002,
            "count": 0
           },
           {
            "bin_start": 1329.1102583000002,
            "bin_end": 1477,
            "count": 1
           }
          ]
         }
        },
        {
         "name": "a6",
         "dtype": "float64",
         "stats": {
          "unique_count": 8,
          "nan_count": 3,
          "min": "-2.040401",
          "max": "1477.0",
          "histogram": [
           {
            "bin_start": -2.040401,
            "bin_end": 145.8636391,
            "count": 7
           },
           {
            "bin_start": 145.8636391,
            "bin_end": 293.76767920000003,
            "count": 0
           },
           {
            "bin_start": 293.76767920000003,
            "bin_end": 441.67171930000006,
            "count": 0
           },
           {
            "bin_start": 441.67171930000006,
            "bin_end": 589.5757594,
            "count": 0
           },
           {
            "bin_start": 589.5757594,
            "bin_end": 737.4797995,
            "count": 0
           },
           {
            "bin_start": 737.4797995,
            "bin_end": 885.3838396000001,
            "count": 0
           },
           {
            "bin_start": 885.3838396000001,
            "bin_end": 1033.2878797,
            "count": 0
           },
           {
            "bin_start": 1033.2878797,
            "bin_end": 1181.1919198,
            "count": 0
           },
           {
            "bin_start": 1181.1919198,
            "bin_end": 1329.0959599,
            "count": 0
           },
           {
            "bin_start": 1329.0959599,
            "bin_end": 1477,
            "count": 1
           }
          ]
         }
        },
        {
         "name": "a7",
         "dtype": "float64",
         "stats": {
          "unique_count": 8,
          "nan_count": 3,
          "min": "-1.91966",
          "max": "1477.0",
          "histogram": [
           {
            "bin_start": -1.91966,
            "bin_end": 145.972306,
            "count": 7
           },
           {
            "bin_start": 145.972306,
            "bin_end": 293.86427199999997,
            "count": 0
           },
           {
            "bin_start": 293.86427199999997,
            "bin_end": 441.75623799999994,
            "count": 0
           },
           {
            "bin_start": 441.75623799999994,
            "bin_end": 589.648204,
            "count": 0
           },
           {
            "bin_start": 589.648204,
            "bin_end": 737.54017,
            "count": 0
           },
           {
            "bin_start": 737.54017,
            "bin_end": 885.4321359999999,
            "count": 0
           },
           {
            "bin_start": 885.4321359999999,
            "bin_end": 1033.324102,
            "count": 0
           },
           {
            "bin_start": 1033.324102,
            "bin_end": 1181.216068,
            "count": 0
           },
           {
            "bin_start": 1181.216068,
            "bin_end": 1329.1080339999999,
            "count": 0
           },
           {
            "bin_start": 1329.1080339999999,
            "bin_end": 1477,
            "count": 1
           }
          ]
         }
        },
        {
         "name": "a8",
         "dtype": "float64",
         "stats": {
          "unique_count": 8,
          "nan_count": 3,
          "min": "-2.095531",
          "max": "1477.0",
          "histogram": [
           {
            "bin_start": -2.095531,
            "bin_end": 145.8140221,
            "count": 7
           },
           {
            "bin_start": 145.8140221,
            "bin_end": 293.72357519999997,
            "count": 0
           },
           {
            "bin_start": 293.72357519999997,
            "bin_end": 441.63312829999995,
            "count": 0
           },
           {
            "bin_start": 441.63312829999995,
            "bin_end": 589.5426813999999,
            "count": 0
           },
           {
            "bin_start": 589.5426813999999,
            "bin_end": 737.4522344999999,
            "count": 0
           },
           {
            "bin_start": 737.4522344999999,
            "bin_end": 885.3617875999998,
            "count": 0
           },
           {
            "bin_start": 885.3617875999998,
            "bin_end": 1033.2713406999999,
            "count": 0
           },
           {
            "bin_start": 1033.2713406999999,
            "bin_end": 1181.1808938,
            "count": 0
           },
           {
            "bin_start": 1181.1808938,
            "bin_end": 1329.0904469,
            "count": 0
           },
           {
            "bin_start": 1329.0904469,
            "bin_end": 1477,
            "count": 1
           }
          ]
         }
        },
        {
         "name": "a9",
         "dtype": "float64",
         "stats": {
          "unique_count": 8,
          "nan_count": 3,
          "min": "-2.242666",
          "max": "1477.0",
          "histogram": [
           {
            "bin_start": -2.242666,
            "bin_end": 145.68160060000002,
            "count": 7
           },
           {
            "bin_start": 145.68160060000002,
            "bin_end": 293.60586720000003,
            "count": 0
           },
           {
            "bin_start": 293.60586720000003,
            "bin_end": 441.53013380000004,
            "count": 0
           },
           {
            "bin_start": 441.53013380000004,
            "bin_end": 589.4544004,
            "count": 0
           },
           {
            "bin_start": 589.4544004,
            "bin_end": 737.3786670000001,
            "count": 0
           },
           {
            "bin_start": 737.3786670000001,
            "bin_end": 885.3029336000001,
            "count": 0
           },
           {
            "bin_start": 885.3029336000001,
            "bin_end": 1033.2272002,
            "count": 0
           },
           {
            "bin_start": 1033.2272002,
            "bin_end": 1181.1514668,
            "count": 0
           },
           {
            "bin_start": 1181.1514668,
            "bin_end": 1329.0757334,
            "count": 0
           },
           {
            "bin_start": 1329.0757334,
            "bin_end": 1477,
            "count": 1
           }
          ]
         }
        },
        {
         "name": "a10",
         "dtype": "float64",
         "stats": {
          "unique_count": 8,
          "nan_count": 3,
          "min": "-2.847029",
          "max": "1477.0",
          "histogram": [
           {
            "bin_start": -2.847029,
            "bin_end": 145.1376739,
            "count": 7
           },
           {
            "bin_start": 145.1376739,
            "bin_end": 293.1223768,
            "count": 0
           },
           {
            "bin_start": 293.1223768,
            "bin_end": 441.1070797,
            "count": 0
           },
           {
            "bin_start": 441.1070797,
            "bin_end": 589.0917826,
            "count": 0
           },
           {
            "bin_start": 589.0917826,
            "bin_end": 737.0764855,
            "count": 0
           },
           {
            "bin_start": 737.0764855,
            "bin_end": 885.0611884,
            "count": 0
           },
           {
            "bin_start": 885.0611884,
            "bin_end": 1033.0458913,
            "count": 0
           },
           {
            "bin_start": 1033.0458913,
            "bin_end": 1181.0305942,
            "count": 0
           },
           {
            "bin_start": 1181.0305942,
            "bin_end": 1329.0152971,
            "count": 0
           },
           {
            "bin_start": 1329.0152971,
            "bin_end": 1477,
            "count": 1
           }
          ]
         }
        },
        {
         "name": "y1",
         "dtype": "float64",
         "stats": {
          "unique_count": 8,
          "nan_count": 3,
          "min": "-2.100573",
          "max": "1477.0",
          "histogram": [
           {
            "bin_start": -2.100573,
            "bin_end": 145.8094843,
            "count": 7
           },
           {
            "bin_start": 145.8094843,
            "bin_end": 293.7195416,
            "count": 0
           },
           {
            "bin_start": 293.7195416,
            "bin_end": 441.6295989,
            "count": 0
           },
           {
            "bin_start": 441.6295989,
            "bin_end": 589.5396562,
            "count": 0
           },
           {
            "bin_start": 589.5396562,
            "bin_end": 737.4497135,
            "count": 0
           },
           {
            "bin_start": 737.4497135,
            "bin_end": 885.3597708,
            "count": 0
           },
           {
            "bin_start": 885.3597708,
            "bin_end": 1033.2698281,
            "count": 0
           },
           {
            "bin_start": 1033.2698281,
            "bin_end": 1181.1798854,
            "count": 0
           },
           {
            "bin_start": 1181.1798854,
            "bin_end": 1329.0899427000002,
            "count": 0
           },
           {
            "bin_start": 1329.0899427000002,
            "bin_end": 1477,
            "count": 1
           }
          ]
         }
        },
        {
         "name": "y2",
         "dtype": "float64",
         "stats": {
          "unique_count": 8,
          "nan_count": 3,
          "min": "-31.773589",
          "max": "1477.0",
          "histogram": [
           {
            "bin_start": -31.773589,
            "bin_end": 119.10376989999999,
            "count": 7
           },
           {
            "bin_start": 119.10376989999999,
            "bin_end": 269.98112879999996,
            "count": 0
           },
           {
            "bin_start": 269.98112879999996,
            "bin_end": 420.85848769999996,
            "count": 0
           },
           {
            "bin_start": 420.85848769999996,
            "bin_end": 571.7358466,
            "count": 0
           },
           {
            "bin_start": 571.7358466,
            "bin_end": 722.6132054999999,
            "count": 0
           },
           {
            "bin_start": 722.6132054999999,
            "bin_end": 873.4905643999999,
            "count": 0
           },
           {
            "bin_start": 873.4905643999999,
            "bin_end": 1024.3679233,
            "count": 0
           },
           {
            "bin_start": 1024.3679233,
            "bin_end": 1175.2452822,
            "count": 0
           },
           {
            "bin_start": 1175.2452822,
            "bin_end": 1326.1226411,
            "count": 0
           },
           {
            "bin_start": 1326.1226411,
            "bin_end": 1477,
            "count": 1
           }
          ]
         }
        },
        {
         "name": "_deepnote_index_column",
         "dtype": "object"
        }
       ],
       "rows": [
        {
         "id": "1477",
         "a1": 1477,
         "a2": 1477,
         "a3": 1477,
         "a4": 1477,
         "a5": 1477,
         "a6": 1477,
         "a7": 1477,
         "a8": 1477,
         "a9": 1477,
         "a10": 1477,
         "y1": 1477,
         "y2": 1477,
         "_deepnote_index_column": "count"
        },
        {
         "id": "1477",
         "a1": "nan",
         "a2": "nan",
         "a3": "nan",
         "a4": "nan",
         "a5": "nan",
         "a6": "nan",
         "a7": "nan",
         "a8": "nan",
         "a9": "nan",
         "a10": "nan",
         "y1": "nan",
         "y2": "nan",
         "_deepnote_index_column": "unique"
        },
        {
         "id": "1248",
         "a1": "nan",
         "a2": "nan",
         "a3": "nan",
         "a4": "nan",
         "a5": "nan",
         "a6": "nan",
         "a7": "nan",
         "a8": "nan",
         "a9": "nan",
         "a10": "nan",
         "y1": "nan",
         "y2": "nan",
         "_deepnote_index_column": "top"
        },
        {
         "id": "1",
         "a1": "nan",
         "a2": "nan",
         "a3": "nan",
         "a4": "nan",
         "a5": "nan",
         "a6": "nan",
         "a7": "nan",
         "a8": "nan",
         "a9": "nan",
         "a10": "nan",
         "y1": "nan",
         "y2": "nan",
         "_deepnote_index_column": "freq"
        },
        {
         "id": "nan",
         "a1": 0.2555791895734597,
         "a2": 0.0026539174001354074,
         "a3": 0.13318372511848342,
         "a4": 0.034345822613405554,
         "a5": -0.07382275693974273,
         "a6": 0.13099046784021665,
         "a7": 0.03004810832769127,
         "a8": 0.09964635409614082,
         "a9": 0.13099052335815844,
         "a10": 0.21029417603249834,
         "y1": 2.7955249559918753,
         "y2": -20.028458277589706,
         "_deepnote_index_column": "mean"
        },
        {
         "id": "nan",
         "a1": 0.9560715304382357,
         "a2": 0.9396282087241837,
         "a3": 1.0526601211631375,
         "a4": 0.9869816779061668,
         "a5": 0.8307586458654215,
         "a6": 1.0301703358478476,
         "a7": 0.9694674473207049,
         "a8": 0.9845232671145109,
         "a9": 0.9992241825638937,
         "a10": 0.9976322693936625,
         "y1": 2.985242038279802,
         "y2": 7.3394478981885,
         "_deepnote_index_column": "std"
        },
        {
         "id": "nan",
         "a1": -2.526427,
         "a2": -1.918939,
         "a3": -2.42089,
         "a4": -1.946351,
         "a5": -1.897417,
         "a6": -2.040401,
         "a7": -1.91966,
         "a8": -2.095531,
         "a9": -2.242666,
         "a10": -2.847029,
         "y1": -2.100573,
         "y2": -31.773589,
         "_deepnote_index_column": "min"
        },
        {
         "id": "nan",
         "a1": -0.402794,
         "a2": -0.861932,
         "a3": -0.766079,
         "a4": -0.908341,
         "a5": -0.802577,
         "a6": -0.823261,
         "a7": -0.916722,
         "a8": -0.804613,
         "a9": -0.804494,
         "a10": -0.490529,
         "y1": 0.041258,
         "y2": -26.885766,
         "_deepnote_index_column": "25%"
        },
        {
         "id": "nan",
         "a1": 0.198597,
         "a2": 0.058046,
         "a3": 0.193591,
         "a4": 0.140195,
         "a5": -0.022032,
         "a6": 0.19501,
         "a7": 0.130275,
         "a8": 0.282215,
         "a9": 0.326109,
         "a10": 0.003434,
         "y1": 2.739887,
         "y2": -19.944627,
         "_deepnote_index_column": "50%"
        },
        {
         "id": "nan",
         "a1": 0.880185,
         "a2": 0.755629,
         "a3": 1.064669,
         "a4": 0.878915,
         "a5": 0.60593,
         "a6": 1.035666,
         "a7": 0.85568,
         "a8": 0.924605,
         "a9": 0.891953,
         "a10": 1.046291,
         "y1": 5.415537,
         "y2": -13.58864,
         "_deepnote_index_column": "75%"
        }
       ]
      },
      "text/plain": "          id           a1           a2           a3           a4           a5  \\\ncount   1477  1477.000000  1477.000000  1477.000000  1477.000000  1477.000000   \nunique  1477          NaN          NaN          NaN          NaN          NaN   \ntop     1248          NaN          NaN          NaN          NaN          NaN   \nfreq       1          NaN          NaN          NaN          NaN          NaN   \nmean     NaN     0.255579     0.002654     0.133184     0.034346    -0.073823   \nstd      NaN     0.956072     0.939628     1.052660     0.986982     0.830759   \nmin      NaN    -2.526427    -1.918939    -2.420890    -1.946351    -1.897417   \n25%      NaN    -0.402794    -0.861932    -0.766079    -0.908341    -0.802577   \n50%      NaN     0.198597     0.058046     0.193591     0.140195    -0.022032   \n75%      NaN     0.880185     0.755629     1.064669     0.878915     0.605930   \nmax      NaN     2.501544     2.464911     2.329639     2.327658     1.885105   \n\n                 a6           a7           a8           a9          a10  \\\ncount   1477.000000  1477.000000  1477.000000  1477.000000  1477.000000   \nunique          NaN          NaN          NaN          NaN          NaN   \ntop             NaN          NaN          NaN          NaN          NaN   \nfreq            NaN          NaN          NaN          NaN          NaN   \nmean       0.130990     0.030048     0.099646     0.130991     0.210294   \nstd        1.030170     0.969467     0.984523     0.999224     0.997632   \nmin       -2.040401    -1.919660    -2.095531    -2.242666    -2.847029   \n25%       -0.823261    -0.916722    -0.804613    -0.804494    -0.490529   \n50%        0.195010     0.130275     0.282215     0.326109     0.003434   \n75%        1.035666     0.855680     0.924605     0.891953     1.046291   \nmax        2.282652     2.110213     2.048281     2.258689     2.819043   \n\n                 y1           y2  \ncount   1477.000000  1477.000000  \nunique          NaN          NaN  \ntop             NaN          NaN  \nfreq            NaN          NaN  \nmean       2.795525   -20.028458  \nstd        2.985242     7.339448  \nmin       -2.100573   -31.773589  \n25%        0.041258   -26.885766  \n50%        2.739887   -19.944627  \n75%        5.415537   -13.588640  \nmax        8.593776    -7.389552  ",
      "text/html": "<div>\n<style scoped>\n    .dataframe tbody tr th:only-of-type {\n        vertical-align: middle;\n    }\n\n    .dataframe tbody tr th {\n        vertical-align: top;\n    }\n\n    .dataframe thead th {\n        text-align: right;\n    }\n</style>\n<table border=\"1\" class=\"dataframe\">\n  <thead>\n    <tr style=\"text-align: right;\">\n      <th></th>\n      <th>id</th>\n      <th>a1</th>\n      <th>a2</th>\n      <th>a3</th>\n      <th>a4</th>\n      <th>a5</th>\n      <th>a6</th>\n      <th>a7</th>\n      <th>a8</th>\n      <th>a9</th>\n      <th>a10</th>\n      <th>y1</th>\n      <th>y2</th>\n    </tr>\n  </thead>\n  <tbody>\n    <tr>\n      <th>count</th>\n      <td>1477</td>\n      <td>1477.000000</td>\n      <td>1477.000000</td>\n      <td>1477.000000</td>\n      <td>1477.000000</td>\n      <td>1477.000000</td>\n      <td>1477.000000</td>\n      <td>1477.000000</td>\n      <td>1477.000000</td>\n      <td>1477.000000</td>\n      <td>1477.000000</td>\n      <td>1477.000000</td>\n      <td>1477.000000</td>\n    </tr>\n    <tr>\n      <th>unique</th>\n      <td>1477</td>\n      <td>NaN</td>\n      <td>NaN</td>\n      <td>NaN</td>\n      <td>NaN</td>\n      <td>NaN</td>\n      <td>NaN</td>\n      <td>NaN</td>\n      <td>NaN</td>\n      <td>NaN</td>\n      <td>NaN</td>\n      <td>NaN</td>\n      <td>NaN</td>\n    </tr>\n    <tr>\n      <th>top</th>\n      <td>1248</td>\n      <td>NaN</td>\n      <td>NaN</td>\n      <td>NaN</td>\n      <td>NaN</td>\n      <td>NaN</td>\n      <td>NaN</td>\n      <td>NaN</td>\n      <td>NaN</td>\n      <td>NaN</td>\n      <td>NaN</td>\n      <td>NaN</td>\n      <td>NaN</td>\n    </tr>\n    <tr>\n      <th>freq</th>\n      <td>1</td>\n      <td>NaN</td>\n      <td>NaN</td>\n      <td>NaN</td>\n      <td>NaN</td>\n      <td>NaN</td>\n      <td>NaN</td>\n      <td>NaN</td>\n      <td>NaN</td>\n      <td>NaN</td>\n      <td>NaN</td>\n      <td>NaN</td>\n      <td>NaN</td>\n    </tr>\n    <tr>\n      <th>mean</th>\n      <td>NaN</td>\n      <td>0.255579</td>\n      <td>0.002654</td>\n      <td>0.133184</td>\n      <td>0.034346</td>\n      <td>-0.073823</td>\n      <td>0.130990</td>\n      <td>0.030048</td>\n      <td>0.099646</td>\n      <td>0.130991</td>\n      <td>0.210294</td>\n      <td>2.795525</td>\n      <td>-20.028458</td>\n    </tr>\n    <tr>\n      <th>std</th>\n      <td>NaN</td>\n      <td>0.956072</td>\n      <td>0.939628</td>\n      <td>1.052660</td>\n      <td>0.986982</td>\n      <td>0.830759</td>\n      <td>1.030170</td>\n      <td>0.969467</td>\n      <td>0.984523</td>\n      <td>0.999224</td>\n      <td>0.997632</td>\n      <td>2.985242</td>\n      <td>7.339448</td>\n    </tr>\n    <tr>\n      <th>min</th>\n      <td>NaN</td>\n      <td>-2.526427</td>\n      <td>-1.918939</td>\n      <td>-2.420890</td>\n      <td>-1.946351</td>\n      <td>-1.897417</td>\n      <td>-2.040401</td>\n      <td>-1.919660</td>\n      <td>-2.095531</td>\n      <td>-2.242666</td>\n      <td>-2.847029</td>\n      <td>-2.100573</td>\n      <td>-31.773589</td>\n    </tr>\n    <tr>\n      <th>25%</th>\n      <td>NaN</td>\n      <td>-0.402794</td>\n      <td>-0.861932</td>\n      <td>-0.766079</td>\n      <td>-0.908341</td>\n      <td>-0.802577</td>\n      <td>-0.823261</td>\n      <td>-0.916722</td>\n      <td>-0.804613</td>\n      <td>-0.804494</td>\n      <td>-0.490529</td>\n      <td>0.041258</td>\n      <td>-26.885766</td>\n    </tr>\n    <tr>\n      <th>50%</th>\n      <td>NaN</td>\n      <td>0.198597</td>\n      <td>0.058046</td>\n      <td>0.193591</td>\n      <td>0.140195</td>\n      <td>-0.022032</td>\n      <td>0.195010</td>\n      <td>0.130275</td>\n      <td>0.282215</td>\n      <td>0.326109</td>\n      <td>0.003434</td>\n      <td>2.739887</td>\n      <td>-19.944627</td>\n    </tr>\n    <tr>\n      <th>75%</th>\n      <td>NaN</td>\n      <td>0.880185</td>\n      <td>0.755629</td>\n      <td>1.064669</td>\n      <td>0.878915</td>\n      <td>0.605930</td>\n      <td>1.035666</td>\n      <td>0.855680</td>\n      <td>0.924605</td>\n      <td>0.891953</td>\n      <td>1.046291</td>\n      <td>5.415537</td>\n      <td>-13.588640</td>\n    </tr>\n    <tr>\n      <th>max</th>\n      <td>NaN</td>\n      <td>2.501544</td>\n      <td>2.464911</td>\n      <td>2.329639</td>\n      <td>2.327658</td>\n      <td>1.885105</td>\n      <td>2.282652</td>\n      <td>2.110213</td>\n      <td>2.048281</td>\n      <td>2.258689</td>\n      <td>2.819043</td>\n      <td>8.593776</td>\n      <td>-7.389552</td>\n    </tr>\n  </tbody>\n</table>\n</div>"
     },
     "metadata": {}
    }
   ]
  },
  {
   "cell_type": "code",
   "metadata": {
    "tags": [],
    "cell_id": "00032-04c15780-05d0-49d0-8f89-b67a557ad25c",
    "deepnote_to_be_reexecuted": false,
    "source_hash": "32a86f9f",
    "execution_start": 1641314988854,
    "execution_millis": 6,
    "deepnote_cell_type": "code"
   },
   "source": "X_all = df_ml_cup_train.iloc[:, 1:11].values\ny_all = df_ml_cup_train.iloc[:, 11:13].values",
   "execution_count": null,
   "outputs": []
  },
  {
   "cell_type": "markdown",
   "source": "# Visualize target data",
   "metadata": {
    "tags": [],
    "is_collapsed": false,
    "cell_id": "00033-66c1a172-6f4a-46ec-9888-980423554164",
    "deepnote_cell_type": "text-cell-h1"
   }
  },
  {
   "cell_type": "code",
   "metadata": {
    "tags": [],
    "cell_id": "00034-311a7bde-a005-4764-857c-ac93b614e8c7",
    "deepnote_to_be_reexecuted": false,
    "source_hash": "6d182e14",
    "execution_start": 1641314988871,
    "execution_millis": 157,
    "deepnote_output_heights": [
     250
    ],
    "deepnote_cell_type": "code"
   },
   "source": "plt.scatter(y_all[:,0], y_all[:,1])\nplt.show()",
   "execution_count": null,
   "outputs": [
    {
     "data": {
      "text/plain": "<Figure size 432x288 with 1 Axes>",
      "image/png": "[encoded data removed]"
     },
     "metadata": {
      "needs_background": "light",
      "image/png": {
       "width": 377,
       "height": 248
      }
     },
     "output_type": "display_data"
    }
   ]
  },
  {
   "cell_type": "code",
   "metadata": {
    "tags": [],
    "cell_id": "00038-0f6bff62-ba34-4d8d-9fc7-b43324a23c4e",
    "deepnote_to_be_reexecuted": false,
    "source_hash": "68f7c8cf",
    "execution_start": 1641314989053,
    "execution_millis": 7,
    "deepnote_cell_type": "code"
   },
   "source": "#shuffle and split data \nfrom sklearn.utils import shuffle \nX_all, y_all = shuffle(X_all, y_all)\ntrain_size = int(0.75 * len(X_all))\nX_train = X_all[:train_size]\ny_train = y_all[:train_size]\nprint(X_train.shape, y_train.shape)\nX_test = X_all[train_size:]\ny_test = y_all[train_size:]\nprint(X_test.shape, y_val.shape)",
   "execution_count": null,
   "outputs": [
    {
     "name": "stdout",
     "text": "(1107, 10) (1107, 2)\n(370, 10) (24,)\n",
     "output_type": "stream",
     "data": {}
    }
   ]
  },
  {
   "cell_type": "code",
   "metadata": {
    "tags": [],
    "cell_id": "00038-5d3103ec-89e2-4147-af23-7d016d01ed6f",
    "deepnote_to_be_reexecuted": false,
    "source_hash": "fcc55840",
    "execution_start": 1641314989054,
    "execution_millis": 0,
    "deepnote_cell_type": "code"
   },
   "source": "def create_model(hp):\n    model = Sequential()\n    for i in range(hp.Int('layers', 1, 3)):\n        if i == 1:\n            model.add(layers.Dense(units=hp.Int('units', 10, 40, step=2), activation='relu', input_shape=(10,), kernel_initializer='he_uniform', kernel_regularizer=regularizers.l2(0.001)))\n            continue\n\n        model.add(layers.Dense(units=hp.Int(f\"units_{i}\", min_value=10, max_value=40, step=2), activation='relu'))\n    \n    model.add(layers.Dense(2))\n    hp_learning_rate = hp.Float('learning_rate', min_value=0.00001, max_value=0.01, step=0.00002)\n    hp_momentum = hp.Choice('momentum', values=[0.0, 0.1, 0.25, 0.5, 0.75, 0.8, 0.85])\n    model.compile(optimizer=optimizers.SGD(learning_rate=hp_learning_rate, momentum=hp_momentum, decay=hp_learning_rate/100), loss='mse', metrics=['mae'])\n    return model ",
   "execution_count": null,
   "outputs": []
  },
  {
   "cell_type": "markdown",
   "source": "# Create a custom tuner that supports K-fold",
   "metadata": {
    "tags": [],
    "is_collapsed": false,
    "cell_id": "00041-66c2ecb8-2735-4d31-af06-0e3518221459",
    "deepnote_cell_type": "text-cell-h1"
   }
  },
  {
   "cell_type": "code",
   "metadata": {
    "tags": [],
    "cell_id": "00042-dfa4aad6-3652-4d58-bd2f-4a803e04f530",
    "deepnote_to_be_reexecuted": false,
    "source_hash": "894eb0d5",
    "execution_start": 1641314989055,
    "execution_millis": 3,
    "deepnote_cell_type": "code"
   },
   "source": "class CVTuner(kt.engine.tuner.Tuner):\n    def run_trial(self, trial, X, y, batch_size, epochs):\n        cv = model_selection.KFold(10)\n        val_losses = []\n        for train_indices, test_indices in cv.split(X):\n            X_train, X_test = X[train_indices], X[test_indices]\n            y_train, y_test = y[train_indices], y[test_indices]\n            model = self.hypermodel.build(trial.hyperparameters)\n            model.fit(X_train, y_train, batch_size=batch_size, epochs=epochs, verbose=0)\n            val_losses.append(model.evaluate(X_test, y_test))\n        \n        self.oracle.update_trial(trial.trial_id, {'val_loss': np.mean(val_losses)})\n        try:\n            self.save_model(trial.trial_id, model)\n        except:\n            pass",
   "execution_count": null,
   "outputs": []
  },
  {
   "cell_type": "code",
   "metadata": {
    "tags": [],
    "cell_id": "00039-f145536e-c9b4-4d89-8b3d-858404dda204",
    "deepnote_to_be_reexecuted": false,
    "source_hash": "36f58520",
    "execution_start": 1641314989061,
    "execution_millis": 40,
    "deepnote_cell_type": "code"
   },
   "source": "tuner = CVTuner(\n\n    oracle=kt.oracles.RandomSearch(\n        objective='val_loss',\n        max_trials=20,\n    ),\n    hypermodel=create_model,\n    overwrite=True,\n    project_name='keras_results',\n)\n\ntuner.search_space_summary()",
   "execution_count": null,
   "outputs": [
    {
     "name": "stdout",
     "text": "Search space summary\nDefault search space size: 4\nlayers (Int)\n{'default': None, 'conditions': [], 'min_value': 1, 'max_value': 3, 'step': 1, 'sampling': None}\nunits_0 (Int)\n{'default': None, 'conditions': [], 'min_value': 10, 'max_value': 40, 'step': 2, 'sampling': None}\nlearning_rate (Float)\n{'default': 1e-05, 'conditions': [], 'min_value': 1e-05, 'max_value': 0.01, 'step': 2e-05, 'sampling': None}\nmomentum (Choice)\n{'default': 0.0, 'conditions': [], 'values': [0.0, 0.1, 0.25, 0.5, 0.75, 0.8, 0.85], 'ordered': True}\n",
     "output_type": "stream",
     "data": {}
    }
   ]
  },
  {
   "cell_type": "code",
   "metadata": {
    "tags": [],
    "cell_id": "00040-ec0ac813-b92d-4db2-839e-531269fb3607",
    "deepnote_to_be_reexecuted": false,
    "source_hash": "319b1859",
    "execution_start": 1641314989110,
    "execution_millis": 586658,
    "deepnote_cell_type": "code"
   },
   "source": "tuner.search(X_train, y_train, batch_size=32, epochs=100)\nhyperparameters = tuner.get_best_hyperparameters(num_trials=5)",
   "execution_count": null,
   "outputs": [
    {
     "output_type": "clearOutput",
     "data": {}
    },
    {
     "name": "stdout",
     "text": "Trial 20 Complete [00h 00m 31s]\nval_loss: 1.1146416664123535\n\nBest val_loss So Far: 1.0252739906311035\nTotal elapsed time: 00h 09m 46s\nINFO:tensorflow:Oracle triggered exit\n",
     "output_type": "stream",
     "data": {}
    }
   ]
  },
  {
   "cell_type": "markdown",
   "source": "# Ensemble by prediction average",
   "metadata": {
    "tags": [],
    "is_collapsed": false,
    "cell_id": "00045-fb6861b3-f679-4f3f-94b0-5a19cd958b00",
    "deepnote_cell_type": "text-cell-h1"
   }
  },
  {
   "cell_type": "code",
   "metadata": {
    "tags": [],
    "cell_id": "00046-58568c65-3da2-4bc0-b365-8f03cd674a79",
    "deepnote_to_be_reexecuted": false,
    "source_hash": "f63e4ed2",
    "execution_start": 1641315575775,
    "execution_millis": 71844,
    "deepnote_output_heights": [
     280,
     280,
     280,
     280,
     280,
     254
    ],
    "deepnote_cell_type": "code"
   },
   "source": "i = 0\ny_total = []\nmee_models = []\nfor hp in hyperparameters:\n    i += 1\n    model = create_model(hp)\n    history = model.fit(X_train, y_train, batch_size=32, epochs=500, verbose=0)\n    plt.plot(history.history['loss'])\n    plt.ylim([0,6])\n    plt.title('loss model '+ str(i))\n    plt.xlabel('epochs')\n    plt.ylabel('loss')\n    plt.show()\n    plt.cla()\n    y_pred = model.predict(X_test)\n    res = mee(y_test, y_pred)\n    y_total.append(y_pred)\n\ny_mean = []\nfor i in range(len(y_total[0])):\n    temp = 0\n    for x in y_total:\n        temp += x[i]\n    y_mean.append(temp / len(y_total))\n\ny_mean = np.array(y_mean)\nerror = mee(y_test, y_mean)\n\n",
   "execution_count": null,
   "outputs": [
    {
     "data": {
      "text/plain": "<Figure size 432x288 with 1 Axes>",
      "image/png": "[encoded data removed]"
     },
     "metadata": {
      "needs_background": "light",
      "image/png": {
       "width": 376,
       "height": 278
      }
     },
     "output_type": "display_data"
    },
    {
     "data": {
      "text/plain": "<Figure size 432x288 with 1 Axes>",
      "image/png": "[encoded data removed]"
     },
     "metadata": {
      "needs_background": "light",
      "image/png": {
       "width": 376,
       "height": 278
      }
     },
     "output_type": "display_data"
    },
    {
     "data": {
      "text/plain": "<Figure size 432x288 with 1 Axes>",
      "image/png": "[encoded data removed]"
     },
     "metadata": {
      "needs_background": "light",
      "image/png": {
       "width": 376,
       "height": 278
      }
     },
     "output_type": "display_data"
    },
    {
     "data": {
      "text/plain": "<Figure size 432x288 with 1 Axes>",
      "image/png": "[encoded data removed]"
     },
     "metadata": {
      "needs_background": "light",
      "image/png": {
       "width": 376,
       "height": 278
      }
     },
     "output_type": "display_data"
    },
    {
     "data": {
      "text/plain": "<Figure size 432x288 with 1 Axes>",
      "image/png": "[encoded data removed]"
     },
     "metadata": {
      "needs_background": "light",
      "image/png": {
       "width": 376,
       "height": 278
      }
     },
     "output_type": "display_data"
    },
    {
     "data": {
      "text/plain": "<Figure size 432x288 with 1 Axes>",
      "image/png": "[encoded data removed]"
     },
     "metadata": {
      "needs_background": "light",
      "image/png": {
       "width": 380,
       "height": 252
      }
     },
     "output_type": "display_data"
    }
   ]
  },
  {
   "cell_type": "code",
   "metadata": {
    "tags": [],
    "cell_id": "00047-ee0de614-a894-46cb-86e7-6d985192bb84",
    "deepnote_to_be_reexecuted": false,
    "source_hash": "375cd2bd",
    "execution_start": 1641315689969,
    "execution_millis": 5,
    "deepnote_cell_type": "code"
   },
   "source": "for i in range(len(mee_models)):\n    print(mee_models[i])\n\nprint('ensemble error: ', error)\n",
   "execution_count": null,
   "outputs": [
    {
     "name": "stdout",
     "text": "ensemble error:  1.1754376685932357\n",
     "output_type": "stream",
     "data": {}
    }
   ]
  },
  {
   "cell_type": "code",
   "metadata": {
    "tags": [],
    "cell_id": "00049-c561c1bb-27ef-45f7-b083-ce13cf358ad0",
    "deepnote_to_be_reexecuted": false,
    "source_hash": "8737eca1",
    "execution_start": 1641315647618,
    "execution_millis": 241,
    "deepnote_output_heights": [
     21.199996948242188,
     266
    ],
    "deepnote_cell_type": "code"
   },
   "source": "#scatter plot comparing target values distribution and predicted values distribution\nplt.scatter(y_mean[:,0], y_mean[:,1], color='blue')\nplt.scatter(y_test[:,0], y_test[:,1], color='red')\nplt.title('ensemble model prediction vs target values')",
   "execution_count": null,
   "outputs": [
    {
     "output_type": "execute_result",
     "execution_count": 36,
     "data": {
      "text/plain": "Text(0.5, 1.0, 'ensemble model prediction vs target values')"
     },
     "metadata": {}
    },
    {
     "data": {
      "text/plain": "<Figure size 432x288 with 1 Axes>",
      "image/png": "[encoded data removed]"
     },
     "metadata": {
      "needs_background": "light",
      "image/png": {
       "width": 377,
       "height": 264
      }
     },
     "output_type": "display_data"
    }
   ]
  },
  {
   "cell_type": "markdown",
   "source": "<a style='text-decoration:none;line-height:16px;display:flex;color:#5B5B62;padding:10px;justify-content:end;' href='https://deepnote.com?utm_source=created-in-deepnote-cell&projectId=d9d840c9-75b3-4185-bb01-105f5cca8d83' target=\"_blank\">\n<img alt='Created in deepnote.com' style='display:inline;max-height:16px;margin:0px;margin-right:7.5px;' src='data:image/svg+xml;base64,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' > </img>\nCreated in <span style='font-weight:600;margin-left:4px;'>Deepnote</span></a>",
   "metadata": {
    "tags": [],
    "created_in_deepnote_cell": true,
    "deepnote_cell_type": "markdown"
   }
  }
 ],
 "nbformat": 4,
 "nbformat_minor": 2,
 "metadata": {
  "orig_nbformat": 2,
  "deepnote": {
   "is_reactive": false
  },
  "deepnote_notebook_id": "4bc9a6a2-e9eb-482c-a3a8-3914ce54a796",
  "deepnote_execution_queue": []
 }
}