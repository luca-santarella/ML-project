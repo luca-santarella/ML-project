{
 "cells": [
  {
   "cell_type": "code",
   "metadata": {
    "tags": [],
    "cell_id": "00000-491e56f3-55b4-4cd0-b3ad-8561a5636151",
    "deepnote_to_be_reexecuted": false,
    "source_hash": "3009667b",
    "execution_start": 1639827368139,
    "execution_millis": 4198,
    "deepnote_cell_type": "code"
   },
   "source": "!pip install keras_tuner==1.1.0",
   "execution_count": null,
   "outputs": [
    {
     "name": "stdout",
     "text": "Requirement already satisfied: keras_tuner==1.1.0 in /root/venv/lib/python3.7/site-packages (1.1.0)\nRequirement already satisfied: tensorboard in /shared-libs/python3.7/py/lib/python3.7/site-packages (from keras_tuner==1.1.0) (2.7.0)\nRequirement already satisfied: numpy in /shared-libs/python3.7/py/lib/python3.7/site-packages (from keras_tuner==1.1.0) (1.19.5)\nRequirement already satisfied: packaging in /shared-libs/python3.7/py-core/lib/python3.7/site-packages (from keras_tuner==1.1.0) (21.3)\nRequirement already satisfied: requests in /shared-libs/python3.7/py/lib/python3.7/site-packages (from keras_tuner==1.1.0) (2.26.0)\nRequirement already satisfied: ipython in /shared-libs/python3.7/py-core/lib/python3.7/site-packages (from keras_tuner==1.1.0) (7.30.1)\nRequirement already satisfied: kt-legacy in /root/venv/lib/python3.7/site-packages (from keras_tuner==1.1.0) (1.0.4)\nRequirement already satisfied: scipy in /shared-libs/python3.7/py/lib/python3.7/site-packages (from keras_tuner==1.1.0) (1.7.3)\nRequirement already satisfied: absl-py>=0.4 in /shared-libs/python3.7/py/lib/python3.7/site-packages (from tensorboard->keras_tuner==1.1.0) (0.15.0)\nRequirement already satisfied: wheel>=0.26 in /usr/local/lib/python3.7/site-packages (from tensorboard->keras_tuner==1.1.0) (0.37.0)\nRequirement already satisfied: werkzeug>=0.11.15 in /shared-libs/python3.7/py/lib/python3.7/site-packages (from tensorboard->keras_tuner==1.1.0) (2.0.2)\nRequirement already satisfied: markdown>=2.6.8 in /shared-libs/python3.7/py/lib/python3.7/site-packages (from tensorboard->keras_tuner==1.1.0) (3.3.6)\nRequirement already satisfied: setuptools>=41.0.0 in /root/venv/lib/python3.7/site-packages (from tensorboard->keras_tuner==1.1.0) (47.1.0)\nRequirement already satisfied: google-auth<3,>=1.6.3 in /shared-libs/python3.7/py/lib/python3.7/site-packages (from tensorboard->keras_tuner==1.1.0) (1.35.0)\nRequirement already satisfied: tensorboard-plugin-wit>=1.6.0 in /shared-libs/python3.7/py/lib/python3.7/site-packages (from tensorboard->keras_tuner==1.1.0) (1.8.0)\nRequirement already satisfied: grpcio>=1.24.3 in /shared-libs/python3.7/py/lib/python3.7/site-packages (from tensorboard->keras_tuner==1.1.0) (1.32.0)\nRequirement already satisfied: google-auth-oauthlib<0.5,>=0.4.1 in /shared-libs/python3.7/py/lib/python3.7/site-packages (from tensorboard->keras_tuner==1.1.0) (0.4.6)\nRequirement already satisfied: protobuf>=3.6.0 in /shared-libs/python3.7/py/lib/python3.7/site-packages (from tensorboard->keras_tuner==1.1.0) (3.19.1)\nRequirement already satisfied: tensorboard-data-server<0.7.0,>=0.6.0 in /shared-libs/python3.7/py/lib/python3.7/site-packages (from tensorboard->keras_tuner==1.1.0) (0.6.1)\nRequirement already satisfied: pyparsing!=3.0.5,>=2.0.2 in /shared-libs/python3.7/py-core/lib/python3.7/site-packages (from packaging->keras_tuner==1.1.0) (3.0.6)\nRequirement already satisfied: certifi>=2017.4.17 in /shared-libs/python3.7/py/lib/python3.7/site-packages (from requests->keras_tuner==1.1.0) (2021.10.8)\nRequirement already satisfied: charset-normalizer~=2.0.0; python_version >= \"3\" in /shared-libs/python3.7/py-core/lib/python3.7/site-packages (from requests->keras_tuner==1.1.0) (2.0.9)\nRequirement already satisfied: urllib3<1.27,>=1.21.1 in /shared-libs/python3.7/py/lib/python3.7/site-packages (from requests->keras_tuner==1.1.0) (1.26.7)\nRequirement already satisfied: idna<4,>=2.5; python_version >= \"3\" in /shared-libs/python3.7/py-core/lib/python3.7/site-packages (from requests->keras_tuner==1.1.0) (3.3)\nRequirement already satisfied: matplotlib-inline in /shared-libs/python3.7/py-core/lib/python3.7/site-packages (from ipython->keras_tuner==1.1.0) (0.1.3)\nRequirement already satisfied: traitlets>=4.2 in /shared-libs/python3.7/py-core/lib/python3.7/site-packages (from ipython->keras_tuner==1.1.0) (4.3.3)\nRequirement already satisfied: prompt-toolkit!=3.0.0,!=3.0.1,<3.1.0,>=2.0.0 in /shared-libs/python3.7/py-core/lib/python3.7/site-packages (from ipython->keras_tuner==1.1.0) (3.0.24)\nRequirement already satisfied: pexpect>4.3; sys_platform != \"win32\" in /shared-libs/python3.7/py-core/lib/python3.7/site-packages (from ipython->keras_tuner==1.1.0) (4.8.0)\nRequirement already satisfied: pygments in /shared-libs/python3.7/py-core/lib/python3.7/site-packages (from ipython->keras_tuner==1.1.0) (2.10.0)\nRequirement already satisfied: backcall in /shared-libs/python3.7/py-core/lib/python3.7/site-packages (from ipython->keras_tuner==1.1.0) (0.2.0)\nRequirement already satisfied: decorator in /shared-libs/python3.7/py-core/lib/python3.7/site-packages (from ipython->keras_tuner==1.1.0) (5.1.0)\nRequirement already satisfied: jedi>=0.16 in /shared-libs/python3.7/py-core/lib/python3.7/site-packages (from ipython->keras_tuner==1.1.0) (0.17.2)\nRequirement already satisfied: pickleshare in /shared-libs/python3.7/py-core/lib/python3.7/site-packages (from ipython->keras_tuner==1.1.0) (0.7.5)\nRequirement already satisfied: six in /shared-libs/python3.7/py-core/lib/python3.7/site-packages (from absl-py>=0.4->tensorboard->keras_tuner==1.1.0) (1.16.0)\nRequirement already satisfied: importlib-metadata>=4.4; python_version < \"3.10\" in /shared-libs/python3.7/py-core/lib/python3.7/site-packages (from markdown>=2.6.8->tensorboard->keras_tuner==1.1.0) (4.8.2)\nRequirement already satisfied: rsa<5,>=3.1.4; python_version >= \"3.6\" in /shared-libs/python3.7/py/lib/python3.7/site-packages (from google-auth<3,>=1.6.3->tensorboard->keras_tuner==1.1.0) (4.8)\nRequirement already satisfied: pyasn1-modules>=0.2.1 in /shared-libs/python3.7/py/lib/python3.7/site-packages (from google-auth<3,>=1.6.3->tensorboard->keras_tuner==1.1.0) (0.2.8)\nRequirement already satisfied: cachetools<5.0,>=2.0.0 in /shared-libs/python3.7/py/lib/python3.7/site-packages (from google-auth<3,>=1.6.3->tensorboard->keras_tuner==1.1.0) (4.2.4)\nRequirement already satisfied: requests-oauthlib>=0.7.0 in /shared-libs/python3.7/py/lib/python3.7/site-packages (from google-auth-oauthlib<0.5,>=0.4.1->tensorboard->keras_tuner==1.1.0) (1.3.0)\nRequirement already satisfied: ipython-genutils in /shared-libs/python3.7/py-core/lib/python3.7/site-packages (from traitlets>=4.2->ipython->keras_tuner==1.1.0) (0.2.0)\nRequirement already satisfied: wcwidth in /shared-libs/python3.7/py-core/lib/python3.7/site-packages (from prompt-toolkit!=3.0.0,!=3.0.1,<3.1.0,>=2.0.0->ipython->keras_tuner==1.1.0) (0.2.5)\nRequirement already satisfied: ptyprocess>=0.5 in /shared-libs/python3.7/py-core/lib/python3.7/site-packages (from pexpect>4.3; sys_platform != \"win32\"->ipython->keras_tuner==1.1.0) (0.7.0)\nRequirement already satisfied: parso<0.8.0,>=0.7.0 in /shared-libs/python3.7/py-core/lib/python3.7/site-packages (from jedi>=0.16->ipython->keras_tuner==1.1.0) (0.7.1)\nRequirement already satisfied: zipp>=0.5 in /shared-libs/python3.7/py-core/lib/python3.7/site-packages (from importlib-metadata>=4.4; python_version < \"3.10\"->markdown>=2.6.8->tensorboard->keras_tuner==1.1.0) (3.6.0)\nRequirement already satisfied: typing-extensions>=3.6.4; python_version < \"3.8\" in /shared-libs/python3.7/py-core/lib/python3.7/site-packages (from importlib-metadata>=4.4; python_version < \"3.10\"->markdown>=2.6.8->tensorboard->keras_tuner==1.1.0) (4.0.1)\nRequirement already satisfied: pyasn1>=0.1.3 in /shared-libs/python3.7/py/lib/python3.7/site-packages (from rsa<5,>=3.1.4; python_version >= \"3.6\"->google-auth<3,>=1.6.3->tensorboard->keras_tuner==1.1.0) (0.4.8)\nRequirement already satisfied: oauthlib>=3.0.0 in /shared-libs/python3.7/py/lib/python3.7/site-packages (from requests-oauthlib>=0.7.0->google-auth-oauthlib<0.5,>=0.4.1->tensorboard->keras_tuner==1.1.0) (3.1.1)\n\u001b[33mWARNING: You are using pip version 20.1.1; however, version 21.3.1 is available.\nYou should consider upgrading via the '/root/venv/bin/python -m pip install --upgrade pip' command.\u001b[0m\n",
     "output_type": "stream",
     "data": {}
    }
   ]
  },
  {
   "cell_type": "code",
   "metadata": {
    "tags": [],
    "cell_id": "00000-aa9ccdef-9d09-4371-b52d-10e76e869af2",
    "deepnote_to_be_reexecuted": false,
    "source_hash": "74d72b7c",
    "execution_start": 1639827372342,
    "execution_millis": 6441,
    "deepnote_output_heights": [
     203.1999969482422
    ],
    "deepnote_cell_type": "code"
   },
   "source": "import pandas as pd\nimport numpy as np\nimport matplotlib.pyplot as plt\nimport keras_tuner as kt\nimport tensorflow as tf\n\nfrom tensorflow.keras.models import Sequential\nfrom tensorflow.keras import layers, activations\nfrom tensorflow.keras import initializers\nfrom tensorflow.keras import regularizers\nfrom tensorflow.keras import backend as K\nfrom tensorflow.keras import optimizers\nfrom tensorflow.keras import utils\n\nfrom sklearn.preprocessing import OneHotEncoder\n",
   "execution_count": null,
   "outputs": []
  },
  {
   "cell_type": "code",
   "metadata": {
    "tags": [],
    "cell_id": "00001-2a39e8fa-1ea4-496f-9099-d829d3d4e34c",
    "deepnote_to_be_reexecuted": false,
    "source_hash": "14ca8feb",
    "execution_start": 1639827378789,
    "execution_millis": 48,
    "deepnote_cell_type": "code"
   },
   "source": "colnames = ['class', 'a1', 'a2', 'a3', 'a4', 'a5', 'a6', 'id']\ndf_monk1_train = pd.read_csv(\"./data/MONK/monks-1.train\", sep = \" \", skipinitialspace=True, names = colnames)\ndf_monk1_train.drop('id', axis = 1, inplace = True)\ndf_monk1_test = pd.read_csv(\"./data/MONK/monks-1.test\", sep = \" \", skipinitialspace=True, names = colnames)\ndf_monk1_test.drop('id', axis = 1, inplace = True)\ndf_monk1_train.head()",
   "execution_count": null,
   "outputs": [
    {
     "output_type": "execute_result",
     "execution_count": 3,
     "data": {
      "application/vnd.deepnote.dataframe.v3+json": {
       "column_count": 7,
       "row_count": 5,
       "columns": [
        {
         "name": "class",
         "dtype": "int64",
         "stats": {
          "unique_count": 1,
          "nan_count": 0,
          "min": "1",
          "max": "1",
          "histogram": [
           {
            "bin_start": 0.5,
            "bin_end": 0.6,
            "count": 0
           },
           {
            "bin_start": 0.6,
            "bin_end": 0.7,
            "count": 0
           },
           {
            "bin_start": 0.7,
            "bin_end": 0.8,
            "count": 0
           },
           {
            "bin_start": 0.8,
            "bin_end": 0.9,
            "count": 0
           },
           {
            "bin_start": 0.9,
            "bin_end": 1,
            "count": 0
           },
           {
            "bin_start": 1,
            "bin_end": 1.1,
            "count": 5
           },
           {
            "bin_start": 1.1,
            "bin_end": 1.2000000000000002,
            "count": 0
           },
           {
            "bin_start": 1.2000000000000002,
            "bin_end": 1.3,
            "count": 0
           },
           {
            "bin_start": 1.3,
            "bin_end": 1.4,
            "count": 0
           },
           {
            "bin_start": 1.4,
            "bin_end": 1.5,
            "count": 0
           }
          ]
         }
        },
        {
         "name": "a1",
         "dtype": "int64",
         "stats": {
          "unique_count": 1,
          "nan_count": 0,
          "min": "1",
          "max": "1",
          "histogram": [
           {
            "bin_start": 0.5,
            "bin_end": 0.6,
            "count": 0
           },
           {
            "bin_start": 0.6,
            "bin_end": 0.7,
            "count": 0
           },
           {
            "bin_start": 0.7,
            "bin_end": 0.8,
            "count": 0
           },
           {
            "bin_start": 0.8,
            "bin_end": 0.9,
            "count": 0
           },
           {
            "bin_start": 0.9,
            "bin_end": 1,
            "count": 0
           },
           {
            "bin_start": 1,
            "bin_end": 1.1,
            "count": 5
           },
           {
            "bin_start": 1.1,
            "bin_end": 1.2000000000000002,
            "count": 0
           },
           {
            "bin_start": 1.2000000000000002,
            "bin_end": 1.3,
            "count": 0
           },
           {
            "bin_start": 1.3,
            "bin_end": 1.4,
            "count": 0
           },
           {
            "bin_start": 1.4,
            "bin_end": 1.5,
            "count": 0
           }
          ]
         }
        },
        {
         "name": "a2",
         "dtype": "int64",
         "stats": {
          "unique_count": 1,
          "nan_count": 0,
          "min": "1",
          "max": "1",
          "histogram": [
           {
            "bin_start": 0.5,
            "bin_end": 0.6,
            "count": 0
           },
           {
            "bin_start": 0.6,
            "bin_end": 0.7,
            "count": 0
           },
           {
            "bin_start": 0.7,
            "bin_end": 0.8,
            "count": 0
           },
           {
            "bin_start": 0.8,
            "bin_end": 0.9,
            "count": 0
           },
           {
            "bin_start": 0.9,
            "bin_end": 1,
            "count": 0
           },
           {
            "bin_start": 1,
            "bin_end": 1.1,
            "count": 5
           },
           {
            "bin_start": 1.1,
            "bin_end": 1.2000000000000002,
            "count": 0
           },
           {
            "bin_start": 1.2000000000000002,
            "bin_end": 1.3,
            "count": 0
           },
           {
            "bin_start": 1.3,
            "bin_end": 1.4,
            "count": 0
           },
           {
            "bin_start": 1.4,
            "bin_end": 1.5,
            "count": 0
           }
          ]
         }
        },
        {
         "name": "a3",
         "dtype": "int64",
         "stats": {
          "unique_count": 2,
          "nan_count": 0,
          "min": "1",
          "max": "2",
          "histogram": [
           {
            "bin_start": 1,
            "bin_end": 1.1,
            "count": 4
           },
           {
            "bin_start": 1.1,
            "bin_end": 1.2,
            "count": 0
           },
           {
            "bin_start": 1.2,
            "bin_end": 1.3,
            "count": 0
           },
           {
            "bin_start": 1.3,
            "bin_end": 1.4,
            "count": 0
           },
           {
            "bin_start": 1.4,
            "bin_end": 1.5,
            "count": 0
           },
           {
            "bin_start": 1.5,
            "bin_end": 1.6,
            "count": 0
           },
           {
            "bin_start": 1.6,
            "bin_end": 1.7000000000000002,
            "count": 0
           },
           {
            "bin_start": 1.7000000000000002,
            "bin_end": 1.8,
            "count": 0
           },
           {
            "bin_start": 1.8,
            "bin_end": 1.9,
            "count": 0
           },
           {
            "bin_start": 1.9,
            "bin_end": 2,
            "count": 1
           }
          ]
         }
        },
        {
         "name": "a4",
         "dtype": "int64",
         "stats": {
          "unique_count": 2,
          "nan_count": 0,
          "min": "1",
          "max": "3",
          "histogram": [
           {
            "bin_start": 1,
            "bin_end": 1.2,
            "count": 3
           },
           {
            "bin_start": 1.2,
            "bin_end": 1.4,
            "count": 0
           },
           {
            "bin_start": 1.4,
            "bin_end": 1.6,
            "count": 0
           },
           {
            "bin_start": 1.6,
            "bin_end": 1.8,
            "count": 0
           },
           {
            "bin_start": 1.8,
            "bin_end": 2,
            "count": 0
           },
           {
            "bin_start": 2,
            "bin_end": 2.2,
            "count": 0
           },
           {
            "bin_start": 2.2,
            "bin_end": 2.4000000000000004,
            "count": 0
           },
           {
            "bin_start": 2.4000000000000004,
            "bin_end": 2.6,
            "count": 0
           },
           {
            "bin_start": 2.6,
            "bin_end": 2.8,
            "count": 0
           },
           {
            "bin_start": 2.8,
            "bin_end": 3,
            "count": 2
           }
          ]
         }
        },
        {
         "name": "a5",
         "dtype": "int64",
         "stats": {
          "unique_count": 2,
          "nan_count": 0,
          "min": "2",
          "max": "3",
          "histogram": [
           {
            "bin_start": 2,
            "bin_end": 2.1,
            "count": 2
           },
           {
            "bin_start": 2.1,
            "bin_end": 2.2,
            "count": 0
           },
           {
            "bin_start": 2.2,
            "bin_end": 2.3,
            "count": 0
           },
           {
            "bin_start": 2.3,
            "bin_end": 2.4,
            "count": 0
           },
           {
            "bin_start": 2.4,
            "bin_end": 2.5,
            "count": 0
           },
           {
            "bin_start": 2.5,
            "bin_end": 2.6,
            "count": 0
           },
           {
            "bin_start": 2.6,
            "bin_end": 2.7,
            "count": 0
           },
           {
            "bin_start": 2.7,
            "bin_end": 2.8,
            "count": 0
           },
           {
            "bin_start": 2.8,
            "bin_end": 2.9,
            "count": 0
           },
           {
            "bin_start": 2.9,
            "bin_end": 3,
            "count": 3
           }
          ]
         }
        },
        {
         "name": "a6",
         "dtype": "int64",
         "stats": {
          "unique_count": 2,
          "nan_count": 0,
          "min": "1",
          "max": "2",
          "histogram": [
           {
            "bin_start": 1,
            "bin_end": 1.1,
            "count": 3
           },
           {
            "bin_start": 1.1,
            "bin_end": 1.2,
            "count": 0
           },
           {
            "bin_start": 1.2,
            "bin_end": 1.3,
            "count": 0
           },
           {
            "bin_start": 1.3,
            "bin_end": 1.4,
            "count": 0
           },
           {
            "bin_start": 1.4,
            "bin_end": 1.5,
            "count": 0
           },
           {
            "bin_start": 1.5,
            "bin_end": 1.6,
            "count": 0
           },
           {
            "bin_start": 1.6,
            "bin_end": 1.7000000000000002,
            "count": 0
           },
           {
            "bin_start": 1.7000000000000002,
            "bin_end": 1.8,
            "count": 0
           },
           {
            "bin_start": 1.8,
            "bin_end": 1.9,
            "count": 0
           },
           {
            "bin_start": 1.9,
            "bin_end": 2,
            "count": 2
           }
          ]
         }
        },
        {
         "name": "_deepnote_index_column",
         "dtype": "int64"
        }
       ],
       "rows": [
        {
         "class": 1,
         "a1": 1,
         "a2": 1,
         "a3": 1,
         "a4": 1,
         "a5": 3,
         "a6": 1,
         "_deepnote_index_column": 0
        },
        {
         "class": 1,
         "a1": 1,
         "a2": 1,
         "a3": 1,
         "a4": 1,
         "a5": 3,
         "a6": 2,
         "_deepnote_index_column": 1
        },
        {
         "class": 1,
         "a1": 1,
         "a2": 1,
         "a3": 1,
         "a4": 3,
         "a5": 2,
         "a6": 1,
         "_deepnote_index_column": 2
        },
        {
         "class": 1,
         "a1": 1,
         "a2": 1,
         "a3": 1,
         "a4": 3,
         "a5": 3,
         "a6": 2,
         "_deepnote_index_column": 3
        },
        {
         "class": 1,
         "a1": 1,
         "a2": 1,
         "a3": 2,
         "a4": 1,
         "a5": 2,
         "a6": 1,
         "_deepnote_index_column": 4
        }
       ]
      },
      "text/plain": "   class  a1  a2  a3  a4  a5  a6\n0      1   1   1   1   1   3   1\n1      1   1   1   1   1   3   2\n2      1   1   1   1   3   2   1\n3      1   1   1   1   3   3   2\n4      1   1   1   2   1   2   1",
      "text/html": "<div>\n<style scoped>\n    .dataframe tbody tr th:only-of-type {\n        vertical-align: middle;\n    }\n\n    .dataframe tbody tr th {\n        vertical-align: top;\n    }\n\n    .dataframe thead th {\n        text-align: right;\n    }\n</style>\n<table border=\"1\" class=\"dataframe\">\n  <thead>\n    <tr style=\"text-align: right;\">\n      <th></th>\n      <th>class</th>\n      <th>a1</th>\n      <th>a2</th>\n      <th>a3</th>\n      <th>a4</th>\n      <th>a5</th>\n      <th>a6</th>\n    </tr>\n  </thead>\n  <tbody>\n    <tr>\n      <th>0</th>\n      <td>1</td>\n      <td>1</td>\n      <td>1</td>\n      <td>1</td>\n      <td>1</td>\n      <td>3</td>\n      <td>1</td>\n    </tr>\n    <tr>\n      <th>1</th>\n      <td>1</td>\n      <td>1</td>\n      <td>1</td>\n      <td>1</td>\n      <td>1</td>\n      <td>3</td>\n      <td>2</td>\n    </tr>\n    <tr>\n      <th>2</th>\n      <td>1</td>\n      <td>1</td>\n      <td>1</td>\n      <td>1</td>\n      <td>3</td>\n      <td>2</td>\n      <td>1</td>\n    </tr>\n    <tr>\n      <th>3</th>\n      <td>1</td>\n      <td>1</td>\n      <td>1</td>\n      <td>1</td>\n      <td>3</td>\n      <td>3</td>\n      <td>2</td>\n    </tr>\n    <tr>\n      <th>4</th>\n      <td>1</td>\n      <td>1</td>\n      <td>1</td>\n      <td>2</td>\n      <td>1</td>\n      <td>2</td>\n      <td>1</td>\n    </tr>\n  </tbody>\n</table>\n</div>"
     },
     "metadata": {}
    }
   ]
  },
  {
   "cell_type": "code",
   "metadata": {
    "tags": [],
    "cell_id": "00002-530c8781-3ae9-47fd-9a38-ce74e981d239",
    "deepnote_to_be_reexecuted": false,
    "source_hash": "5bbbc507",
    "execution_start": 1639827378839,
    "execution_millis": 4,
    "deepnote_cell_type": "code"
   },
   "source": "#subdivide data in training, validation and test set \nX_all = df_monk1_train.iloc[:, 1:7].values\ny_all = df_monk1_train.iloc[:, 0].values\nval_size =int(0.2 * len(X_all))\n#X_val = X_all[:val_size]\ny_val = y_all[:val_size]\nX_train = X_all[val_size:]\ny_train = y_all[val_size:]\nX_test = df_monk1_test.iloc[:, 1:7].values\ny_test = df_monk1_test.iloc[:, 0].values\n",
   "execution_count": null,
   "outputs": []
  },
  {
   "cell_type": "markdown",
   "source": "# One hot encoding ",
   "metadata": {
    "tags": [],
    "is_collapsed": false,
    "cell_id": "00004-05c069e4-4db3-4447-8a19-d4720e5b93ec",
    "deepnote_cell_type": "text-cell-h1"
   }
  },
  {
   "cell_type": "code",
   "metadata": {
    "tags": [],
    "cell_id": "00005-57944cd0-0a50-413a-a8bd-c193e60cfe6a",
    "deepnote_to_be_reexecuted": false,
    "source_hash": "6a973eee",
    "execution_start": 1639827378850,
    "execution_millis": 39,
    "deepnote_output_heights": [
     null,
     30.399993896484375
    ],
    "deepnote_cell_type": "code"
   },
   "source": "\nenc_all = OneHotEncoder()\nenc_all.fit(X_all)\nX_all = enc_all.transform(X_all).toarray()\nprint(X_all[0])\n\nX_val = X_all[:val_size]\nprint(X_val.shape)\n\nX_train = X_all[val_size:]\nprint(X_train.shape)\n\nenc_test = OneHotEncoder()\nenc_test.fit(X_test)\nX_test = enc_test.transform(X_test).toarray()\nprint(X_test.shape)\nprint(X_all[0].shape)\n'''X_all = utils.to_categorical(X_all)\nprint(X_all[0])\none_hot_test = utils.to_categorical(X_test)\nX_train = X_all[val_size:]\nX_val = X_all[:val_size]\nprint(X_train.shape)\nprint(X_val.shape)\nX_test = one_hot_test \nprint(X_test.shape)'''\nprint(X_train[0])\nprint(X_train[1])",
   "execution_count": null,
   "outputs": [
    {
     "name": "stdout",
     "text": "[1. 0. 0. 1. 0. 0. 1. 0. 1. 0. 0. 0. 0. 1. 0. 1. 0.]\n(24, 17)\n(100, 17)\n(432, 17)\n(17,)\n[1. 0. 0. 0. 1. 0. 0. 1. 0. 0. 1. 0. 0. 1. 0. 1. 0.]\n[1. 0. 0. 0. 1. 0. 0. 1. 0. 0. 1. 0. 0. 1. 0. 0. 1.]\n",
     "output_type": "stream",
     "data": {}
    }
   ]
  },
  {
   "cell_type": "code",
   "metadata": {
    "tags": [],
    "cell_id": "00004-f2491fb7-2621-47a8-b231-2d689ce10584",
    "deepnote_to_be_reexecuted": false,
    "source_hash": "8e4f7bed",
    "execution_start": 1639827378935,
    "execution_millis": 1,
    "deepnote_cell_type": "code"
   },
   "source": "class MyHyperModel(kt.HyperModel):\n    def build(self, hp):\n        model = Sequential()\n        #model.add(layers.Dense(units=hp.Int('units1', min_value=6, max_value=72, step=6), activation='relu'))\n        #model.add(layers.Flatten(input_shape=(17,)))\n        model.add(layers.Dense(units=hp.Int('units', min_value=6, max_value=72, step=2), activation='relu', input_shape=(17,)))\n        model.add(layers.Dense(1, activation='sigmoid'))\n\n        model.compile(optimizer='adam', loss='binary_crossentropy', metrics=['accuracy'])\n        return model\n    def fit(self, hp, model, X, y, validation_data=None, **kwargs):\n        if validation_data:\n            X_val, y_val = validation_data\n        return model.fit(X, y, shuffle=True, validation_data=validation_data, **kwargs)\n",
   "execution_count": null,
   "outputs": []
  },
  {
   "cell_type": "code",
   "metadata": {
    "tags": [],
    "cell_id": "00005-0496b7d4-ff6d-4515-90b3-1d3b0fa00715",
    "deepnote_to_be_reexecuted": false,
    "source_hash": "91ba2f7d",
    "execution_start": 1639827378936,
    "execution_millis": 60,
    "deepnote_cell_type": "code"
   },
   "source": "tuner = kt.RandomSearch(\n    MyHyperModel(),\n    objective='val_accuracy',\n    max_trials=5,\n    overwrite=True,\n)\ntuner.search_space_summary()\n",
   "execution_count": null,
   "outputs": [
    {
     "name": "stdout",
     "text": "Search space summary\nDefault search space size: 1\nunits (Int)\n{'default': None, 'conditions': [], 'min_value': 6, 'max_value': 72, 'step': 2, 'sampling': None}\n",
     "output_type": "stream",
     "data": {}
    }
   ]
  },
  {
   "cell_type": "code",
   "metadata": {
    "tags": [],
    "cell_id": "00006-a133740a-59c0-4226-af4b-509a94c8119e",
    "deepnote_to_be_reexecuted": false,
    "source_hash": "22f699f5",
    "execution_start": 1639827379051,
    "execution_millis": 6553,
    "deepnote_cell_type": "code"
   },
   "source": "stop_early = tf.keras.callbacks.EarlyStopping(monitor='val_loss', patience=5)\ntuner.search(X_train, y_train, epochs=150, batch_size=10, callbacks=[stop_early], verbose=0,  validation_data=(X_val, y_val) )\nhypermodel = MyHyperModel()\nhyperparameters = tuner.get_best_hyperparameters()[0]\nmodel = hypermodel.build(hyperparameters)\nprint(hyperparameters.get('units'))\nprint(model.summary())\n#print(hyperparameters.get('units2'))\n#print(hyperparameters.get('learning_rate'))\n\n",
   "execution_count": null,
   "outputs": [
    {
     "name": "stdout",
     "text": "INFO:tensorflow:Oracle triggered exit\n66\nModel: \"sequential_1\"\n_________________________________________________________________\nLayer (type)                 Output Shape              Param #   \n=================================================================\ndense_2 (Dense)              (None, 66)                1188      \n_________________________________________________________________\ndense_3 (Dense)              (None, 1)                 67        \n=================================================================\nTotal params: 1,255\nTrainable params: 1,255\nNon-trainable params: 0\n_________________________________________________________________\nNone\n",
     "output_type": "stream",
     "data": {}
    }
   ]
  },
  {
   "cell_type": "code",
   "metadata": {
    "tags": [],
    "cell_id": "00005-10ddc59e-fbbb-4caf-ba88-b2fbf85d16e0",
    "deepnote_to_be_reexecuted": false,
    "source_hash": "e57a5a32",
    "execution_start": 1639827385610,
    "execution_millis": 13482,
    "deepnote_output_heights": [
     null,
     280,
     280
    ],
    "deepnote_cell_type": "code"
   },
   "source": "train_loss = []\ntest_loss =[]\ntrain_acc = []\ntest_acc = []\n\nprint(X_all[0])\nprint(y_all[0])\n\nfor i in range(100):\n    history = hypermodel.fit(hyperparameters, model, X_all, y_all, verbose=0)\n    train_loss.append(history.history['loss'])\n    train_acc.append(history.history['accuracy'])\n    score = model.evaluate(X_test, y_test)\n    test_loss.append(score[0])\n    test_acc.append(score[1])\n\nplt.plot(train_loss, '-')\nplt.plot(test_loss, '-.')\nplt.title('loss')\nplt.xlabel('epochs')\nplt.ylabel('loss')\nplt.show()\nplt.plot(train_acc, '-')\nplt.plot(test_acc, '-.')\nplt.title('accuracy')\nplt.xlabel('epochs')\nplt.ylabel('accuracy')\nplt.show()\n",
   "execution_count": null,
   "outputs": [
    {
     "name": "stdout",
     "text": "[1. 0. 0. 1. 0. 0. 1. 0. 1. 0. 0. 0. 0. 1. 0. 1. 0.]\n1\n14/14 [==============================] - 0s 873us/step - loss: 0.7013 - accuracy: 0.4769\n14/14 [==============================] - 0s 755us/step - loss: 0.6915 - accuracy: 0.4907\n14/14 [==============================] - 0s 3ms/step - loss: 0.6836 - accuracy: 0.5417\n14/14 [==============================] - 0s 759us/step - loss: 0.6765 - accuracy: 0.5903\n14/14 [==============================] - 0s 887us/step - loss: 0.6708 - accuracy: 0.6296\n14/14 [==============================] - 0s 789us/step - loss: 0.6655 - accuracy: 0.6389\n14/14 [==============================] - 0s 1ms/step - loss: 0.6604 - accuracy: 0.6551\n14/14 [==============================] - 0s 761us/step - loss: 0.6557 - accuracy: 0.6574\n14/14 [==============================] - 0s 812us/step - loss: 0.6508 - accuracy: 0.6644\n14/14 [==============================] - 0s 3ms/step - loss: 0.6461 - accuracy: 0.6597\n14/14 [==============================] - 0s 3ms/step - loss: 0.6416 - accuracy: 0.6667\n14/14 [==============================] - 0s 790us/step - loss: 0.6371 - accuracy: 0.6759\n14/14 [==============================] - 0s 1ms/step - loss: 0.6326 - accuracy: 0.6806\n14/14 [==============================] - 0s 980us/step - loss: 0.6283 - accuracy: 0.6829\n14/14 [==============================] - 0s 821us/step - loss: 0.6239 - accuracy: 0.6852\n14/14 [==============================] - 0s 859us/step - loss: 0.6196 - accuracy: 0.6852\n14/14 [==============================] - 0s 753us/step - loss: 0.6154 - accuracy: 0.6852\n14/14 [==============================] - 0s 811us/step - loss: 0.6111 - accuracy: 0.6898\n14/14 [==============================] - 0s 3ms/step - loss: 0.6068 - accuracy: 0.6875\n14/14 [==============================] - 0s 753us/step - loss: 0.6024 - accuracy: 0.6921\n14/14 [==============================] - 0s 839us/step - loss: 0.5982 - accuracy: 0.6968\n14/14 [==============================] - 0s 797us/step - loss: 0.5938 - accuracy: 0.6991\n14/14 [==============================] - 0s 741us/step - loss: 0.5896 - accuracy: 0.7060\n14/14 [==============================] - 0s 901us/step - loss: 0.5851 - accuracy: 0.7106\n14/14 [==============================] - 0s 846us/step - loss: 0.5809 - accuracy: 0.7153\n14/14 [==============================] - 0s 949us/step - loss: 0.5769 - accuracy: 0.7199\n14/14 [==============================] - 0s 803us/step - loss: 0.5726 - accuracy: 0.7245\n14/14 [==============================] - 0s 1ms/step - loss: 0.5678 - accuracy: 0.7338\n14/14 [==============================] - 0s 911us/step - loss: 0.5628 - accuracy: 0.7338\n14/14 [==============================] - 0s 878us/step - loss: 0.5581 - accuracy: 0.7315\n14/14 [==============================] - 0s 3ms/step - loss: 0.5536 - accuracy: 0.7361\n14/14 [==============================] - 0s 847us/step - loss: 0.5492 - accuracy: 0.7361\n14/14 [==============================] - 0s 722us/step - loss: 0.5451 - accuracy: 0.7407\n14/14 [==============================] - 0s 845us/step - loss: 0.5405 - accuracy: 0.7407\n14/14 [==============================] - 0s 777us/step - loss: 0.5359 - accuracy: 0.7431\n14/14 [==============================] - 0s 814us/step - loss: 0.5315 - accuracy: 0.7454\n14/14 [==============================] - 0s 857us/step - loss: 0.5268 - accuracy: 0.7477\n14/14 [==============================] - 0s 803us/step - loss: 0.5224 - accuracy: 0.7523\n14/14 [==============================] - 0s 3ms/step - loss: 0.5180 - accuracy: 0.7569\n14/14 [==============================] - 0s 2ms/step - loss: 0.5131 - accuracy: 0.7593\n14/14 [==============================] - 0s 1ms/step - loss: 0.5085 - accuracy: 0.7593\n14/14 [==============================] - 0s 817us/step - loss: 0.5036 - accuracy: 0.7593\n14/14 [==============================] - 0s 854us/step - loss: 0.4990 - accuracy: 0.7593\n14/14 [==============================] - 0s 834us/step - loss: 0.4951 - accuracy: 0.7593\n14/14 [==============================] - 0s 769us/step - loss: 0.4910 - accuracy: 0.7593\n14/14 [==============================] - 0s 741us/step - loss: 0.4870 - accuracy: 0.7593\n14/14 [==============================] - 0s 780us/step - loss: 0.4828 - accuracy: 0.7616\n14/14 [==============================] - 0s 3ms/step - loss: 0.4790 - accuracy: 0.7639\n14/14 [==============================] - 0s 841us/step - loss: 0.4740 - accuracy: 0.7639\n14/14 [==============================] - 0s 847us/step - loss: 0.4695 - accuracy: 0.7708\n14/14 [==============================] - 0s 926us/step - loss: 0.4650 - accuracy: 0.7708\n14/14 [==============================] - 0s 948us/step - loss: 0.4602 - accuracy: 0.7708\n14/14 [==============================] - 0s 792us/step - loss: 0.4558 - accuracy: 0.7708\n14/14 [==============================] - 0s 924us/step - loss: 0.4517 - accuracy: 0.7708\n14/14 [==============================] - 0s 3ms/step - loss: 0.4471 - accuracy: 0.7731\n14/14 [==============================] - 0s 3ms/step - loss: 0.4423 - accuracy: 0.7801\n14/14 [==============================] - 0s 878us/step - loss: 0.4382 - accuracy: 0.7847\n14/14 [==============================] - 0s 867us/step - loss: 0.4341 - accuracy: 0.7870\n14/14 [==============================] - 0s 3ms/step - loss: 0.4298 - accuracy: 0.7870\n14/14 [==============================] - 0s 784us/step - loss: 0.4258 - accuracy: 0.7917\n14/14 [==============================] - 0s 988us/step - loss: 0.4211 - accuracy: 0.7963\n14/14 [==============================] - 0s 839us/step - loss: 0.4173 - accuracy: 0.7986\n14/14 [==============================] - 0s 3ms/step - loss: 0.4129 - accuracy: 0.8056\n14/14 [==============================] - 0s 718us/step - loss: 0.4093 - accuracy: 0.8079\n14/14 [==============================] - 0s 845us/step - loss: 0.4051 - accuracy: 0.8125\n14/14 [==============================] - 0s 913us/step - loss: 0.3999 - accuracy: 0.8171\n14/14 [==============================] - 0s 768us/step - loss: 0.3948 - accuracy: 0.8171\n14/14 [==============================] - 0s 739us/step - loss: 0.3903 - accuracy: 0.8171\n14/14 [==============================] - 0s 803us/step - loss: 0.3858 - accuracy: 0.8194\n14/14 [==============================] - 0s 921us/step - loss: 0.3815 - accuracy: 0.8194\n14/14 [==============================] - 0s 3ms/step - loss: 0.3772 - accuracy: 0.8194\n14/14 [==============================] - 0s 763us/step - loss: 0.3733 - accuracy: 0.8264\n14/14 [==============================] - 0s 763us/step - loss: 0.3697 - accuracy: 0.8380\n14/14 [==============================] - 0s 802us/step - loss: 0.3661 - accuracy: 0.8380\n14/14 [==============================] - 0s 3ms/step - loss: 0.3619 - accuracy: 0.8380\n14/14 [==============================] - 0s 853us/step - loss: 0.3569 - accuracy: 0.8426\n14/14 [==============================] - 0s 848us/step - loss: 0.3524 - accuracy: 0.8449\n14/14 [==============================] - 0s 961us/step - loss: 0.3472 - accuracy: 0.8472\n14/14 [==============================] - 0s 839us/step - loss: 0.3428 - accuracy: 0.8495\n14/14 [==============================] - 0s 3ms/step - loss: 0.3388 - accuracy: 0.8519\n14/14 [==============================] - 0s 962us/step - loss: 0.3350 - accuracy: 0.8565\n14/14 [==============================] - 0s 768us/step - loss: 0.3312 - accuracy: 0.8611\n14/14 [==============================] - 0s 743us/step - loss: 0.3268 - accuracy: 0.8634\n14/14 [==============================] - 0s 3ms/step - loss: 0.3226 - accuracy: 0.8634\n14/14 [==============================] - 0s 802us/step - loss: 0.3187 - accuracy: 0.8657\n14/14 [==============================] - 0s 766us/step - loss: 0.3152 - accuracy: 0.8750\n14/14 [==============================] - 0s 948us/step - loss: 0.3109 - accuracy: 0.8750\n14/14 [==============================] - 0s 756us/step - loss: 0.3058 - accuracy: 0.8843\n14/14 [==============================] - 0s 778us/step - loss: 0.3016 - accuracy: 0.8866\n14/14 [==============================] - 0s 3ms/step - loss: 0.2977 - accuracy: 0.8912\n14/14 [==============================] - 0s 3ms/step - loss: 0.2935 - accuracy: 0.8935\n14/14 [==============================] - 0s 893us/step - loss: 0.2887 - accuracy: 0.8958\n14/14 [==============================] - 0s 923us/step - loss: 0.2854 - accuracy: 0.9005\n14/14 [==============================] - 0s 814us/step - loss: 0.2816 - accuracy: 0.9051\n14/14 [==============================] - 0s 883us/step - loss: 0.2782 - accuracy: 0.9028\n14/14 [==============================] - 0s 791us/step - loss: 0.2746 - accuracy: 0.9051\n14/14 [==============================] - 0s 739us/step - loss: 0.2704 - accuracy: 0.9074\n14/14 [==============================] - 0s 806us/step - loss: 0.2663 - accuracy: 0.9097\n14/14 [==============================] - 0s 889us/step - loss: 0.2623 - accuracy: 0.9120\n14/14 [==============================] - 0s 816us/step - loss: 0.2589 - accuracy: 0.9120\n",
     "output_type": "stream",
     "data": {}
    },
    {
     "data": {
      "text/plain": "<Figure size 432x288 with 1 Axes>",
      "image/png": "[encoded data removed]"
     },
     "metadata": {
      "needs_background": "light",
      "image/png": {
       "width": 386,
       "height": 278
      }
     },
     "output_type": "display_data"
    },
    {
     "data": {
      "text/plain": "<Figure size 432x288 with 1 Axes>",
      "image/png": "[encoded data removed]"
     },
     "metadata": {
      "needs_background": "light",
      "image/png": {
       "width": 386,
       "height": 278
      }
     },
     "output_type": "display_data"
    }
   ]
  },
  {
   "cell_type": "markdown",
   "source": "<a style='text-decoration:none;line-height:16px;display:flex;color:#5B5B62;padding:10px;justify-content:end;' href='https://deepnote.com?utm_source=created-in-deepnote-cell&projectId=d9d840c9-75b3-4185-bb01-105f5cca8d83' target=\"_blank\">\n<img alt='Created in deepnote.com' style='display:inline;max-height:16px;margin:0px;margin-right:7.5px;' src='data:image/svg+xml;base64,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' > </img>\nCreated in <span style='font-weight:600;margin-left:4px;'>Deepnote</span></a>",
   "metadata": {
    "tags": [],
    "created_in_deepnote_cell": true,
    "deepnote_cell_type": "markdown"
   }
  }
 ],
 "nbformat": 4,
 "nbformat_minor": 2,
 "metadata": {
  "orig_nbformat": 2,
  "deepnote": {
   "is_reactive": false
  },
  "deepnote_notebook_id": "4bc9a6a2-e9eb-482c-a3a8-3914ce54a796",
  "deepnote_execution_queue": []
 }
}